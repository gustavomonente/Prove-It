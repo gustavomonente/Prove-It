{
 "cells": [
  {
   "cell_type": "markdown",
   "metadata": {},
   "source": [
    "Demonstrations for context <a class=\"ProveItLink\" href=\"_context_.ipynb\">proveit.core_expr_types.expr_array</a>\n",
    "========"
   ]
  },
  {
   "cell_type": "code",
   "execution_count": 1,
   "metadata": {},
   "outputs": [],
   "source": [
    "import proveit\n",
    "proveit.defaults.automation = False\n",
    "from proveit import ExprRange, ExprTuple, varRange, indexed_var, ExprArray\n",
    "from proveit._common_ import A, B, C, D, E, F, G, H, I, i, j, k, m, n, p, q\n",
    "from proveit import ExprRange, ExprTuple, varRange, indexed_var, ExprArray\n",
    "from proveit._common_ import A, B, C, D, E, F, G, H, I, i, j, k, m, n, p, q\n",
    "from proveit.number import one\n",
    "%begin demonstrations"
   ]
  },
  {
   "cell_type": "code",
   "execution_count": 2,
   "metadata": {},
   "outputs": [
    {
     "data": {
      "text/html": [
       "<strong id=\"A_i_to_j\">A_i_to_j:</strong> <a class=\"ProveItLink\" href=\"__pv_it/58799625c04fe217b810af6787ed963c0320b53d0/expr.ipynb\"><img src=\"data:image/png;base64,iVBORw0KGgoAAAANSUhEUgAAAFwAAAAVBAMAAAA5lpTPAAAAMFBMVEX///8QEBAiIiLu7u5ERES6\n",
       "urqYmJiIiIjMzMx2dnZUVFRmZmaqqqoyMjLc3NwAAABb1yYoAAAAAXRSTlMAQObYZgAAAAlwSFlz\n",
       "AAAOxAAADsQBlSsOGwAAATRJREFUKM9jYACBtwyEAN8FJM59gsp5PyDYPP8JKj+PpJx7/QNCynf9\n",
       "Q7DnzW8goJrz5Q+ENwrqDxBQ/pz9D8ItDOcTCCjfwPMNzo5h6J/AwMCMx/2sBzh+gmiwmzcwvF8A\n",
       "dF4BbuXcDHy/QLQGELN7717vgN8tJbt3fYGxzRkY+BXwqmYGWvwJ7g0GBiYBBtYqfG5hYFAE6qoG\n",
       "BiBrAjiKOe0NGJgxVRqAiDBIOuHmASach0A2yz+Gx4cYGOyBXOa/DEgMMMEnACT8HzAYc25gMPl/\n",
       "mYHH/+8EBnegm5SB4tpAzLQBymBQAtrp/9eA4cj/m0BHIKKH+TMwUA9jOIbHAInDj4gangvAqJqA\n",
       "mViQOY1IgbX8ATjA0IA5Mgct8NgwQwYlMV1jIAHwRgiQopy72oABADmySicQoA+ZAAAAAElFTkSu\n",
       "QmCC\n",
       "\" style=\"display:inline;vertical-align:middle;\" /></a><br>"
      ],
      "text/plain": [
       "A_i_to_j: A_{i}, ..A_{_a}.., A_{j}"
      ]
     },
     "execution_count": 2,
     "metadata": {},
     "output_type": "execute_result"
    }
   ],
   "source": [
    "A_i_to_j = varRange(A, i, j)"
   ]
  },
  {
   "cell_type": "code",
   "execution_count": 3,
   "metadata": {},
   "outputs": [
    {
     "data": {
      "text/html": [
       "<strong id=\"B_i_to_j\">B_i_to_j:</strong> <a class=\"ProveItLink\" href=\"__pv_it/ff5436b64b52bc1192fdb2505eb7fb0bd71388160/expr.ipynb\"><img src=\"data:image/png;base64,iVBORw0KGgoAAAANSUhEUgAAAFwAAAAUBAMAAADyykdqAAAAMFBMVEX///92dnaqqqoiIiLu7u5m\n",
       "Zma6urqIiIjc3NwQEBDMzMwyMjJUVFRERESYmJgAAAAeMT9/AAAAAXRSTlMAQObYZgAAAAlwSFlz\n",
       "AAAOxAAADsQBlSsOGwAAAVJJREFUKM+VUbFKw1AUPUlfqyYx9g8UdHFWF6c3CC5C8wmuupildCmY\n",
       "wd2OgiiuTsng0qFVcHBIoMWlKIL5AamDWrGt9cakTTDmQR/cvHPD4dxzzwPwMnryGhcQHP156LmP\n",
       "4+4M0L5EdMy1gVakONsDCu9C+rEJHBjRKFLWe0J6l5S7Zoi1V0A9EdJbVHVrYozdClcNttvZjLDd\n",
       "qbg+wKxMtjKsVJsBCEQPLcjngGRm0mc+gVVSRDDhgWpRaGa+RmrjqAeI1/7/LNzE2Snfweq7hWo2\n",
       "3SYj2gdYeSk0pvQhlThYmskRbgfbQV52KHIytneFo2WgRC3rIwF+P6jTs59ybEkGtOuB597Tvw6Q\n",
       "W6d7gypnRABrJO+OPK9BPqD6k6nsjcJZSZmReXLl+GlkpwgUU3Qp2VzGkN1ZYOk4t5PNn/D0dDJ+\n",
       "smliiqPu16ah58scP2ksWxGU0D36AAAAAElFTkSuQmCC\n",
       "\" style=\"display:inline;vertical-align:middle;\" /></a><br>"
      ],
      "text/plain": [
       "B_i_to_j: B_{i}, ..B_{_a}.., B_{j}"
      ]
     },
     "execution_count": 3,
     "metadata": {},
     "output_type": "execute_result"
    }
   ],
   "source": [
    "B_i_to_j = varRange(B, i, j)"
   ]
  },
  {
   "cell_type": "code",
   "execution_count": 4,
   "metadata": {},
   "outputs": [
    {
     "data": {
      "text/html": [
       "<strong id=\"C_i_to_j\">C_i_to_j:</strong> <a class=\"ProveItLink\" href=\"__pv_it/c7c49dfd0633d8dad71daa0544469369f760e3780/expr.ipynb\"><img src=\"data:image/png;base64,iVBORw0KGgoAAAANSUhEUgAAAFkAAAAUBAMAAAAU44wuAAAAMFBMVEX////MzMy6uroyMjJmZmYi\n",
       "IiKqqqoQEBB2dnbc3NyYmJhUVFRERESIiIju7u4AAACU7+9TAAAAAXRSTlMAQObYZgAAAAlwSFlz\n",
       "AAAOxAAADsQBlSsOGwAAAQ1JREFUKM9jYGDgu7N7F2cDAx6ArOL6PQa21gX4VCOpeBMHJPwn4FGM\n",
       "rML8AZBQx2c0kgqObyBSBI9iZBXzA0DkQzyqkVX0X4D6G6fLYSoYGBkY4gWg9l3ApRqmgoFVgKEe\n",
       "5AWGB3hcgqwiHkSwCeBRjawCHI4cDEy3caqGqmB46wb0Mci9fQwc7x8w8GGqBNkPVcHgkAy04hcD\n",
       "Q8YDhnmpDAzvDYBB85kBiQEmoCr4HrQAOU9Ob1EAUmeBfgbFcAjI8w5QBkPoA4QKBitEMvsH9EYe\n",
       "hkvYkAPrJ0LYAJgiMZMtBxKbsQBh9t4JDHyYEfQWic27AUWKCzNMkJM9M948gAaMxElQzODrx8AA\n",
       "ALhvTffAd36VAAAAAElFTkSuQmCC\n",
       "\" style=\"display:inline;vertical-align:middle;\" /></a><br>"
      ],
      "text/plain": [
       "C_i_to_j: C_{i}, ..C_{_a}.., C_{j}"
      ]
     },
     "execution_count": 4,
     "metadata": {},
     "output_type": "execute_result"
    }
   ],
   "source": [
    "C_i_to_j = varRange(C, i, j)"
   ]
  },
  {
   "cell_type": "code",
   "execution_count": 5,
   "metadata": {},
   "outputs": [
    {
     "data": {
      "text/html": [
       "<strong id=\"D_i_to_j\">D_i_to_j:</strong> <a class=\"ProveItLink\" href=\"__pv_it/4dc50ae44bf1bf48f463b96b8e813d2b787bde6d0/expr.ipynb\"><img src=\"data:image/png;base64,iVBORw0KGgoAAAANSUhEUgAAAF4AAAAUBAMAAAD2P5dXAAAAMFBMVEX///8iIiLu7u52dna6uroQ\n",
       "EBBmZmbMzMyqqqqYmJjc3NwyMjJUVFRERESIiIgAAABmmfmVAAAAAXRSTlMAQObYZgAAAAlwSFlz\n",
       "AAAOxAAADsQBlSsOGwAAARVJREFUKM9jYGB4+//O2T0LGPABVCW/GRg4f+BVj6KE/R+QSMWrHEUJ\n",
       "33cg4T8Bn3oUJbwfgMR6A3zqUZTwXwBpPoBPPYqS+gdA4r0BgxZu9TAlDAUgGkScd2Cww60epoRB\n",
       "HEjfB4l8xRs+KEr+AjHnT7zqkZWAw1b1AoPfAfzBD1TC9KwBErZMuxkYjD4xMChgKGWCBT9ICRvH\n",
       "BgYGbmDYOiYwcGkIMDABo51BHygGZ0AIqBIGJeYEBp79f87czQLFCTDMBIEWMAIlGMQYoAxGIQaE\n",
       "EgZupFSgr87AwIHpoCaUeENKxt3MDAzMmH5FSSelSGydVwwMepj+fYDMe4Mmi5lIOVF4OxlIAdzu\n",
       "ASSpZ3umwAAAw39WT+uAG1IAAAAASUVORK5CYII=\n",
       "\" style=\"display:inline;vertical-align:middle;\" /></a><br>"
      ],
      "text/plain": [
       "D_i_to_j: D_{i}, ..D_{_a}.., D_{j}"
      ]
     },
     "execution_count": 5,
     "metadata": {},
     "output_type": "execute_result"
    }
   ],
   "source": [
    "D_i_to_j = varRange(D, i, j)"
   ]
  },
  {
   "cell_type": "code",
   "execution_count": 6,
   "metadata": {},
   "outputs": [
    {
     "data": {
      "text/html": [
       "<strong id=\"Aij\">Aij:</strong> <a class=\"ProveItLink\" href=\"__pv_it/b3e4ed3ae9f8a069a0e184043acff69bf3a3b4a30/expr.ipynb\"><img src=\"data:image/png;base64,iVBORw0KGgoAAAANSUhEUgAAACIAAAAVBAMAAADRFiHkAAAAMFBMVEX///8QEBAiIiLu7u5ERES6\n",
       "urqYmJiIiIjMzMx2dnZUVFRmZmaqqqoyMjLc3NwAAABb1yYoAAAAAXRSTlMAQObYZgAAAAlwSFlz\n",
       "AAAOxAAADsQBlSsOGwAAALpJREFUGNNjYACBtwzo4D66AM9/dBHu9Q/QRObNb0AV4CuoP4CmieF8\n",
       "AqpIDEP/BAYGZohZYP0bGN4vYGDgLACLaAAxu/fu9Q4omswZGPgVUEQ2MDAwCTCwVoHYzNVAW1mB\n",
       "9vB+YOC0NwBZy3OBgeEhkMHyj+HxIZAaY84NDCb/LzPw+P+dwOAONoIX4TLmz2CX8CN8yHNhAjPQ\n",
       "nY0IG5mXP+CQYWCoQgsnBoZrqCKHeSMEUEUSuKsNGACJyCnZCzsY/AAAAABJRU5ErkJggg==\n",
       "\" style=\"display:inline;vertical-align:middle;\" /></a><br>"
      ],
      "text/plain": [
       "Aij: A_{i,j}"
      ]
     },
     "execution_count": 6,
     "metadata": {},
     "output_type": "execute_result"
    }
   ],
   "source": [
    "Aij = indexed_var(A,(i,j))"
   ]
  },
  {
   "cell_type": "code",
   "execution_count": 7,
   "metadata": {},
   "outputs": [
    {
     "data": {
      "text/html": [
       "<strong id=\"Bij\">Bij:</strong> <a class=\"ProveItLink\" href=\"__pv_it/dab1d6d677d7fa35861a35520497124b157231d60/expr.ipynb\"><img src=\"data:image/png;base64,iVBORw0KGgoAAAANSUhEUgAAACIAAAAUBAMAAAAaSvJBAAAAMFBMVEX///92dnaqqqoiIiLu7u5m\n",
       "Zma6urqIiIjc3NwQEBDMzMwyMjJUVFRERESYmJgAAAAeMT9/AAAAAXRSTlMAQObYZgAAAAlwSFlz\n",
       "AAAOxAAADsQBlSsOGwAAAM5JREFUGNNjYGB4+//Omb0LGJDBXAYGnl/IAhzfGRjYviKL8AHl+b4j\n",
       "i/B8YGDgnoEswnmBgeUwisnrr5effsDAwNIA5oGk6hsYmOYxMDAWgEWsgPgmEMuj6PoDxO8LkAS4\n",
       "/gGJ8wlsNSAOS6kCAwP7D6DobwZGfwegCCvTBqBTJjAwZG5haFEGqXFhDGDg2f/nzOlLQM51sBnc\n",
       "D+DGsXwBW8ffABdh2iDAIsDAsBJhJcvxBq5JDAw1KOHEwMTAsA9VRIU7awKqyAPWUgcGAEE9MpOO\n",
       "K1uqAAAAAElFTkSuQmCC\n",
       "\" style=\"display:inline;vertical-align:middle;\" /></a><br>"
      ],
      "text/plain": [
       "Bij: B_{i,j}"
      ]
     },
     "execution_count": 7,
     "metadata": {},
     "output_type": "execute_result"
    }
   ],
   "source": [
    "Bij = indexed_var(B,(i,j))"
   ]
  },
  {
   "cell_type": "code",
   "execution_count": 8,
   "metadata": {},
   "outputs": [
    {
     "data": {
      "text/html": [
       "<strong id=\"Cij\">Cij:</strong> <a class=\"ProveItLink\" href=\"__pv_it/2f2293bec979d8261046b7f0f05be5dd9bdac9130/expr.ipynb\"><img src=\"data:image/png;base64,iVBORw0KGgoAAAANSUhEUgAAACAAAAAUBAMAAAAevyJ8AAAAMFBMVEX////MzMy6uroyMjJmZmYi\n",
       "IiKqqqoQEBB2dnbc3NyYmJhUVFRERESIiIju7u4AAACU7+9TAAAAAXRSTlMAQObYZgAAAAlwSFlz\n",
       "AAAOxAAADsQBlSsOGwAAALlJREFUGNNjYGDgu7N7F2cDAwJcv8fA1roAwX8TByT8JyAEzB8ACXUE\n",
       "n+MbiBRBCMwPAJEPEQL9FyA0H8QUAYZ4AahWiEQgQz3ITIYHCC3xIIJNACEAdgEHA9NtsEFXEhjm\n",
       "g/T2MXC8B+liYTNgYPvFwJDxgGFeKkjFOw4HBoYnp7coANlnwQYww/3E9w9sLj/cT2wGDXzAIBCH\n",
       "W8a3dwJjGQPDbQZkwMbAYIUikMesWIAisIDlygMGAHCwK1B2/vnFAAAAAElFTkSuQmCC\n",
       "\" style=\"display:inline;vertical-align:middle;\" /></a><br>"
      ],
      "text/plain": [
       "Cij: C_{i,j}"
      ]
     },
     "execution_count": 8,
     "metadata": {},
     "output_type": "execute_result"
    }
   ],
   "source": [
    "Cij = indexed_var(C,(i,j))"
   ]
  },
  {
   "cell_type": "code",
   "execution_count": 9,
   "metadata": {},
   "outputs": [
    {
     "data": {
      "text/html": [
       "<strong id=\"Dij\">Dij:</strong> <a class=\"ProveItLink\" href=\"__pv_it/1fb93d8da0a388b91c6a10b3beeaafc2a44489760/expr.ipynb\"><img src=\"data:image/png;base64,iVBORw0KGgoAAAANSUhEUgAAACMAAAAUBAMAAAD1iJl/AAAAMFBMVEX///8iIiLu7u52dna6uroQ\n",
       "EBBmZmbMzMyqqqqYmJjc3NwyMjJUVFRERESIiIgAAABmmfmVAAAAAXRSTlMAQObYZgAAAAlwSFlz\n",
       "AAAOxAAADsQBlSsOGwAAAMJJREFUGNNjYGB4+//O2T0LGFDAbwYGzh8oIuz/gEQqihDfdyDhPwFZ\n",
       "iPcDkFhvgCzEfwGk6gCyUP0DIPHegEELYjKIeF8AJM47MNiBhRhBvPsg1lcUG/8CMedPDGepXmDw\n",
       "A1uglwF1FtNuBgajTyChhG4gwQ10lmMCA5eGAJDDpGDGwMCz/8+Zu1kgFz8Am7MTyUx9dTD1C0mo\n",
       "m5lBGWhZAJKQziuG0gYGvgOoAcfQwMA9AVWEQ2FLKZoiToa8JAYGAA1QL0Av+pVfAAAAAElFTkSu\n",
       "QmCC\n",
       "\" style=\"display:inline;vertical-align:middle;\" /></a><br>"
      ],
      "text/plain": [
       "Dij: D_{i,j}"
      ]
     },
     "execution_count": 9,
     "metadata": {},
     "output_type": "execute_result"
    }
   ],
   "source": [
    "Dij = indexed_var(D,(i,j))"
   ]
  },
  {
   "cell_type": "code",
   "execution_count": 10,
   "metadata": {},
   "outputs": [
    {
     "data": {
      "text/html": [
       "<strong id=\"Eij\">Eij:</strong> <a class=\"ProveItLink\" href=\"__pv_it/081fdb1459dc21742892799e975693dcf79a861a0/expr.ipynb\"><img src=\"data:image/png;base64,iVBORw0KGgoAAAANSUhEUgAAACEAAAAUBAMAAADxfUlCAAAAMFBMVEX///+qqqrc3NyYmJjMzMxm\n",
       "Zmbu7u52dna6uroyMjIiIiJUVFQQEBBERESIiIgAAAD3YE8vAAAAAXRSTlMAQObYZgAAAAlwSFlz\n",
       "AAAOxAAADsQBlSsOGwAAAMJJREFUGNNjYGB4e+b27ltnGZDBTyB+iyzA8R1IpCKLsP8AEnnIIpwf\n",
       "GPgYWJBF+C8wNKOYy9C/eu8nIJUE5oDV1juwLABSdWARLgcgMZ+BIYAhAVnXXwYGBbYHyM75ByT4\n",
       "Evo2gDh5gSDnfAES2gxl30AiAZIgsz4A1Z1gSgSZzpZQysCQPf/37r3nJzDwQkyajDAuPwVMfUKI\n",
       "SLIzpAMdeAAhkv2IwUeAgW8Dqn8EGDgNUAQYE2b4oCphZogLY2AAANhvLRMUalQZAAAAAElFTkSu\n",
       "QmCC\n",
       "\" style=\"display:inline;vertical-align:middle;\" /></a><br>"
      ],
      "text/plain": [
       "Eij: E_{i,j}"
      ]
     },
     "execution_count": 10,
     "metadata": {},
     "output_type": "execute_result"
    }
   ],
   "source": [
    "Eij = indexed_var(E, (i,j))"
   ]
  },
  {
   "cell_type": "code",
   "execution_count": 11,
   "metadata": {},
   "outputs": [
    {
     "data": {
      "text/html": [
       "<strong id=\"Fij\">Fij:</strong> <a class=\"ProveItLink\" href=\"__pv_it/fc8317f4a51011ff9c49e648235e6bfca93dbe1f0/expr.ipynb\"><img src=\"data:image/png;base64,iVBORw0KGgoAAAANSUhEUgAAAB8AAAAUBAMAAACHR/vJAAAAMFBMVEX///9mZmbu7u4iIiLc3Nyq\n",
       "qqq6urp2dnbMzMwyMjKYmJhUVFQQEBBERESIiIgAAAAXoWMmAAAAAXRSTlMAQObYZgAAAAlwSFlz\n",
       "AAAOxAAADsQBlSsOGwAAALdJREFUGNNjYGB4e+b27junGJDATyCehcTn+A4kliEJ8H0DEiFIArwf\n",
       "GFgYApAE+CcwdCEbyZBfwDKFgUEFYh6IqL99+QADQx1YgLkBSMxXYBJgQHUGUwIynw3kDIa8DSBS\n",
       "TxRIsP8AMYs+gUiBSCDB+QFIsKgaAEkmhUIGBu35v7eAXPcArB/hJX0NMPUFLhDJzqAOdNcBuID2\n",
       "E4aeAAa+DSgOCmDgXIDMZ1WY1oOigItBToiBAQA5qCaJDQWq8AAAAABJRU5ErkJggg==\n",
       "\" style=\"display:inline;vertical-align:middle;\" /></a><br>"
      ],
      "text/plain": [
       "Fij: F_{i,j}"
      ]
     },
     "execution_count": 11,
     "metadata": {},
     "output_type": "execute_result"
    }
   ],
   "source": [
    "Fij = indexed_var(F, (i,j))"
   ]
  },
  {
   "cell_type": "code",
   "execution_count": 12,
   "metadata": {},
   "outputs": [
    {
     "data": {
      "text/html": [
       "<a class=\"ProveItLink\" href=\"__pv_it/bd0b6f147cd4e52557608f2831c2a2aebb1d5fd80/expr.ipynb\"><img src=\"data:image/png;base64,iVBORw0KGgoAAAANSUhEUgAAADUAAAAoBAMAAACsgK8GAAAAMFBMVEX///8QEBAiIiLu7u5ERES6\n",
       "urqYmJiIiIjMzMx2dnZUVFRmZmaqqqoyMjLc3NwAAABb1yYoAAAAAXRSTlMAQObYZgAAAAlwSFlz\n",
       "AAAOxAAADsQBlSsOGwAAAXVJREFUOMvtUz1LA0EQfRrNt0kKW1GwsUuEgKJNCguJRaK1kPyDnBgQ\n",
       "bC69xQXtTQqxOAkXa0FjaaVBsRAk+gPkFOIHYnLO7Fk4HjbWDtze2307szPMG4DtAb9bR279ua7Z\n",
       "WHRx1PlxdyADWBUFI9ad5GwNKDQV3K1VJFeifUljFNP0luQs+toqVgTnRcmNAnNTCq3CqAoq2N3Y\n",
       "vHZhE3ZdcIE+cKpCBZaOrIzghhJA6I3RDBCfEFycwvhf3ZAYTAjOoHjhZwLDBEYeBadT+sYFgXt+\n",
       "oC+4NnmMpYC0c4lorve9iIZjmlct/NvfzFc292NCFGUnu3ejpLS2jui2FFOPevtB//QkLSdCvEHu\n",
       "+SE3ixqFZakl1kqhiBD7YktqiWVgV2ErGc1KLbHsCnXUNG/mBp/pVSQrXk7nMyuPcU4FKcHleHkC\n",
       "kmo4pXOXZ/flq7IQPOVNZ9wRxY6nPN8thyPfM/kcq3xFTfR89iAvqHDn3Vw4JvAJAaxmg/rUTGsA\n",
       "AAAASUVORK5CYII=\n",
       "\" style=\"display:inline;vertical-align:middle;\" /></a>"
      ],
      "text/plain": [
       "A & B  \\\\ \n",
       "  C & D"
      ]
     },
     "execution_count": 12,
     "metadata": {},
     "output_type": "execute_result"
    }
   ],
   "source": [
    "ExprArray(ExprTuple(A, B), ExprTuple(C, D)).withStyles(orientation='horizontal')"
   ]
  },
  {
   "cell_type": "code",
   "execution_count": 13,
   "metadata": {},
   "outputs": [
    {
     "data": {
      "text/html": [
       "<a class=\"ProveItLink\" href=\"__pv_it/16c2e32d6c65918eeed6f53bff3b3a36216f96b80/expr.ipynb\"><img src=\"data:image/png;base64,iVBORw0KGgoAAAANSUhEUgAAAF8AAAClBAMAAADIazy5AAAAMFBMVEX///8QEBAiIiLu7u5ERES6\n",
       "urqYmJiIiIjMzMx2dnZUVFRmZmaqqqoyMjLc3NwAAABb1yYoAAAAAXRSTlMAQObYZgAAAAlwSFlz\n",
       "AAAOxAAADsQBlSsOGwAAAvhJREFUWMPtV89rE0EUful2s5tfq9WqJ2178eBpPZSCXtJQEIKQ6qHX\n",
       "5ODJizkEBC/Jf2BA8RopOa2ERtBLA5KDBz21oBcDktykBam2aRKj6TozO01m3oSCZ+dBhsw38+b3\n",
       "+/Z7ANScXfg3S/yQ6wU/XW11UKeVNS+3x//vIAcYAYT/yJB1xYWP13ll+0RutPukeC1jKTJjjPeL\n",
       "7A3QaLSezYnQ7BEpzPNB5ZuFpp+lSzwoi1CFutv1oFKP92SHc0k6w0sBcQ5paZRYxWzav2SHp3lS\n",
       "FMUZIn2hEgNnKDsU6Uhb6+LBi7ssNLa7skOGFj9FJET2bDUabFKDzH8oO1D/sLSvGXoMsR5fEcCS\n",
       "eg03kyIUPZk8iA3yayvXYHyVIIeOccDGcOhlZDr4ad2vy6vcyYFdo4dnZEYuvPe/iNO3h97aO/S6\n",
       "jDevXhguaNN2hj3w097nkkxkc2kvNS9BT/yW+3ChxV4TaYkOFCKDggpdGD9187fUaFJSuC0HFYGc\n",
       "oFeYjB7uS62RY8qlCsTZM0rCJXENk7MFtsLXjP0IISTB2CxhItsAldtCiwFr3Xlcy8mt2RtVRM8E\n",
       "8rytIGyLHYhfllsrJXsRMER6NtnfVV4VjJBIHVwMQSaAKE0+ymMi6xgKBFeDA+5hHgWTHrLlYohT\n",
       "tkW2Z4/kM6f3vq9A1nFwwITI7n0CTKTmJQVinxnGWrW7UuMtAlUXdhGUj2a6eR2q2s60lfREavHv\n",
       "7uq8V51Dcfvc5yJNklqnIU+eXgI5nMoFI+VOpNZYzhBREV4HhcpYPFwUpNZYzpDOcaQSefxApSlI\n",
       "LUHOdOIwRaYhqSUwr413wPaFpZZAxt+xbIVsEG8zgykOkW51SQE5d4UYwRpIKR8hsoeJRGJSCz4o\n",
       "y11WHLjMC26gjJZbnrKvviC1Iu7U5arsxqVW/Nn05SpUxqWW9xaJr5rvKYe63x6WdZz+f6ZTS51a\n",
       "6tRSm04tdWqpU0udWmrTqaVOLXVqqVNLbTq11KmlTi3V1PIvu+gJtJlU3kkAAAAASUVORK5CYII=\n",
       "\" style=\"display:inline;vertical-align:middle;\" /></a>"
      ],
      "text/plain": [
       "A & D & G  \\\\ \n",
       "  B & E & H  \\\\ \n",
       "  C & F & I  \\\\ \n",
       "  A & D & G  \\\\ \n",
       "  B & E & H  \\\\ \n",
       "  C & F & I  \\\\ \n",
       "  A & D & G  \\\\ \n",
       " "
      ]
     },
     "execution_count": 13,
     "metadata": {},
     "output_type": "execute_result"
    }
   ],
   "source": [
    "ExprArray(ExprTuple(A, B, C, A, B, C, A), ExprTuple(D, E, F, D, E, F, D), ExprTuple(G, H, I, G, H, I, G)).withStyles(parameterization=\"explicit\").withStyles(orientation='vertical')"
   ]
  },
  {
   "cell_type": "code",
   "execution_count": 14,
   "metadata": {},
   "outputs": [
    {
     "data": {
      "text/html": [
       "<a class=\"ProveItLink\" href=\"__pv_it/fe4c9d8e47ca95f26cff0d8881a329bd6c8992e30/expr.ipynb\"><img src=\"data:image/png;base64,iVBORw0KGgoAAAANSUhEUgAAAOUAAAAuBAMAAAAlyMNSAAAAMFBMVEX///8QEBAiIiLu7u5ERES6\n",
       "urqYmJiIiIjMzMx2dnZUVFRmZmaqqqoyMjLc3NwAAABb1yYoAAAAAXRSTlMAQObYZgAAAAlwSFlz\n",
       "AAAOxAAADsQBlSsOGwAAA3NJREFUWMPtWEFrE0EUfs02za7ZNilGPEkrghQ9GLBSqUhrL5UWab2I\n",
       "B6H7DxKxUEgPjWcPCXoUTA9BYaVmQcWDgtWTPYgRtddGPCmUFptWW2zrzGxM581syCwN8dJ3GCbf\n",
       "fjtv33s7b74NALVl8GPLvuBattQItgC3jZXtucsY0ybthx1ZNjV3/biswZbglkGAQhpBN2+Beddi\n",
       "03Ch5MNnDbYEryQBJhwe6T1Bhtcu7UEu7cNnDbYEJ8jvRJJHPsbJcJVNO5Iz8+oua7BluEC98LEb\n",
       "f+h4x80KfLB8pNabLcMxgP4elOxuOp5n8xuQIe+SplhTlw26N7xnenkqtYiQHJdoB1ZmSeRJNZ8u\n",
       "GwJpT3jPQjsAb1DoZ/ZuCY2+LAwKCw8UK4O2LVzxYnvCrVESx28e6aKvELChDyDSLSwRcP4Np4Ur\n",
       "XmxPOELCbvuF4mTbOO1mBQJRCKZUU0vZ0PfKE+YsQ/J6aJ1H2M406CxIrrWvgjEQV3FZYYPz3hPm\n",
       "bIZ4yBTFJgH36Owrzf0OfHurFGaFrcXve8GoAZAnOYbiMDcAFijSu/sJzLHtLAyruKyyYdEbrtrc\n",
       "rm1/FrrEhZHH46jlr/npfwA7sH8zi1k/dD3aAJ/aIz9nC4RmoenWbjXd5ZfbzQ/zxVM4sAP7v8Yp\n",
       "XQXrG7Gt71KLIAL6yhOMTXaO2EMxxLoUs/OdlqB0FRrQ0TgsnJTgCDm1EkJLpxJjUmKxbsIr3fo5\n",
       "GSKHUVhu8BlyNoZxDw5u0qMEs0g228ax0lXoeYfpanKDnyGnUnADQca6q1l4FvFnlrDSrW85mj/d\n",
       "kfAxKqs38eOtQkiQpIRVMgWlW1/E/2QJlo/aMg1/CxdvEK6BWGHd4pWukqY2qkIOu9UpHsJxTpzK\n",
       "C3UnFV4u8UpXSVMHqoK1B7/NFMcqD3JpXRClRjl/XFS69TV1yxpLifQsrVTzRaLiN7CD121fq7zH\n",
       "nNKtr6kDTE++k7cn1fAJSyxxSUsK2/Mcr3TVNLW7M7OgTc9L21OL4eKxEqM4J7JY6app6g66kBGH\n",
       "sFmUtudFDLFvlR9ChbHSVdTU5CPTJFL8rOGItQsKXza0DMEjNf7lqCjdYbXe98x+LmswIqDzo3iv\n",
       "9S9t2fkuPnSNsDDHp6aO+FKmjdHUDdF9PjV1Cppvi81X8dejTfcZno7v4+6/+7YUJC0l9DgAAAAA\n",
       "SUVORK5CYII=\n",
       "\" style=\"display:inline;vertical-align:middle;\" /></a>"
      ],
      "text/plain": [
       "A_{i} & \\cdots & A_{j} & A & B & C  \\\\ \n",
       "  C_{i} & \\cdots & C_{j} & D & E & F"
      ]
     },
     "execution_count": 14,
     "metadata": {},
     "output_type": "execute_result"
    }
   ],
   "source": [
    "ExprArray(ExprTuple(A_i_to_j, A, B, C), ExprTuple(C_i_to_j, D, E, F)).withStyles(parameterization=\"implicit\").withStyles(orientation='horizontal')"
   ]
  },
  {
   "cell_type": "code",
   "execution_count": 15,
   "metadata": {},
   "outputs": [
    {
     "data": {
      "text/html": [
       "<a class=\"ProveItLink\" href=\"__pv_it/a1522d0c887d82132edfa1d0fd3a50a52154799d0/expr.ipynb\"><img src=\"data:image/png;base64,iVBORw0KGgoAAAANSUhEUgAAAEMAAACaBAMAAAAA1einAAAAMFBMVEX///8QEBAiIiLu7u5ERES6\n",
       "urqYmJiIiIjMzMx2dnZUVFRmZmaqqqoyMjLc3NwAAABb1yYoAAAAAXRSTlMAQObYZgAAAAlwSFlz\n",
       "AAAOxAAADsQBlSsOGwAAA41JREFUWMPtWE1oE0EUfs022azZbCsWvWmL4KWHrlCpWNFWBCEKST3U\n",
       "i9A9eDfSgjcTvXposAcPgi1SPKyURlSEVrQHD/ZQqlQFBWk8SQ+l2pb+aRpn9mcyM/tIQQ9W2AfZ\n",
       "zXz5NjP75r15PwBUjLewkyS/I2BHyrYW2GgWoagHTJg+woYT2wGGcsYESDBcW9gIzr2PXKKN/vCb\n",
       "+itAGZ4il3jRHxb1NZlhLDuz5b1hdCq+SW6neIq27n1x0QQYW+R2l6dE/NW56MDkxKo8Ud2KM5H/\n",
       "elmAZZkScTT1xhslyKcF4NIIT3E1UvDQXvKZBxhaEd6ILlczXdSg6kmXjJPNwkyzFuhD4KBKumzC\n",
       "68onqM+KG/DUfkZuAnr6OGYDAjqjYRQBPXEDo+BoKKH8vSjlndFW9MnWUHWh6kK9/J+yuDNlHtvE\n",
       "AfuhUfBHegWhXOsH/Y7FgvJ4KcBoP0wurxh+fzgfoLwjGQ70sLCdzU3JDM3JaG6zeWjclmTJCews\n",
       "Al+GQbryuJAE+SHcRYuwRJOHCL+gNn/goOr5yfEueaJDdLVg+ikeQEOzTGlz9OX/Fcm6IiT76HjB\n",
       "UxyNaB4atdwEsjgjvBFd7pCHfqUpyDYo5j2eQtO4adNF2ytzoKfL5K0/CovpTD3K0LuAbqNGwKPx\n",
       "RowhoOoIRhHQpIUmyxz64SbGENDnTzAKjv57+bNiYaCSGv3MeQ9WLJAzNcal9kixEKcp72OoVSyo\n",
       "FOqzahUL9XTupUKNYgEaqFv0jYjFgiiD1HxzBeayTrEgSo66yHjGVwFSLECaXn7UKhaAPhRbE4sF\n",
       "RC1HfU/uxY47qhbli7+FbrGA7NpFr4RixYIge+a37LMvw3izW+RKJWW/D8QbtbvJHm3xraGJbFvQ\n",
       "SxqIE6td1Toy+jNA6SOmrXjmECP/EFsPVt0Z12Yd2yDWkzyIxd0seEus6wLlQR6x7yhz18Fz18eC\n",
       "R2p02a5aa64E+v4ARduAW2zQTdeWR06lBKvLqbNezSJub9CQ5zjVGu+8VbXQh/o9TZMTKh7MD+nU\n",
       "hnd2JImr9cwBFkF7Msypxi4EcpOxim13l0Mb3y0i9rp4V9trob0u3tW8hEDqdVVDCXG1WAbrdVVD\n",
       "CflZL2G9Lj6UlHSs18VH2Lgl9bpkV9uExZLU65JdbXW0Be11ca62Ap1or0tQyzGp14WdQFKvC3M1\n",
       "sddVM/P3el1BV3Nf+TeRtxKt7UgBqwAAAABJRU5ErkJggg==\n",
       "\" style=\"display:inline;vertical-align:middle;\" /></a>"
      ],
      "text/plain": [
       "A_{i} & C_{i}  \\\\ \n",
       "  \\vdots & \\vdots  \\\\ \n",
       "  A_{j} & C_{j}  \\\\ \n",
       "  A & D  \\\\ \n",
       "  B & E  \\\\ \n",
       "  C & F  \\\\ \n",
       " "
      ]
     },
     "execution_count": 15,
     "metadata": {},
     "output_type": "execute_result"
    }
   ],
   "source": [
    "ExprArray(ExprTuple(A_i_to_j, A, B, C), ExprTuple(C_i_to_j, D, E, F)).withStyles(parameterization=\"implicit\").withStyles(orientation='vertical')"
   ]
  },
  {
   "cell_type": "code",
   "execution_count": 52,
   "metadata": {},
   "outputs": [
    {
     "data": {
      "text/html": [
       "<a class=\"ProveItLink\" href=\"__pv_it/54a5867146955823edc36c19491614816d8583b80/expr.ipynb\"><img src=\"data:image/png;base64,iVBORw0KGgoAAAANSUhEUgAAAUIAAAAuBAMAAACvwg06AAAAMFBMVEX///8QEBAiIiLu7u5ERES6\n",
       "urqYmJiIiIjMzMx2dnZUVFRmZmaqqqoyMjLc3NwAAABb1yYoAAAAAXRSTlMAQObYZgAAAAlwSFlz\n",
       "AAAOxAAADsQBlSsOGwAABNBJREFUWMPtmF9oW1Ucx3/LaXJvmuSm4NAn50SQgQ/GbdCxqa0iTjol\n",
       "nQ9TUOgFBV+EZlgY68Cmzz4kWNAHYS0yFCI1Ed2ERbSKoHsYbdkcKMgiPsgYUt3abU7beM5N7t25\n",
       "vb/f77S2EZEdbkqb+/l9+7vn/s6f7wFQ7VcgmzMHprYGZMPtIn0r85sxGkNebg5UzhdxPpFfrEw/\n",
       "xWuuYtJNGp01Z4giWwG6bxABW/oBqkVeNMykqg2SPL1izBBDnOsA8T+JgIUCwFCNFw0zxyfJB0pe\n",
       "umFKEEUS8rvEdSJiWP674QKvGmKcwtgMBf5i/WXKEEW65ZvPbCMiqvIz3+BVQ0wKZl0KrKWvmTJE\n",
       "EVlG4l3qzcga3bvDoBpiXoRSGUBgDxWfsf8wSPlIOJ3S/iPTLiFqLx4ZvWBQDRhPtgYLU7KcsMJI\n",
       "gXPToOUj4U4Za0D6TkLUkiPrS5dXDRglax2oV/sJcKR+etGQIY48Jj/U+OvqkakbBmCI6QXIbsc5\n",
       "IbvgCi9FIKpbqeGanWLGOcbISSfWA/FR9A0C3Ov/se+V4zQijoWmA1sNnuogKgol+fa6l/wnPHW0\n",
       "QTOebNz11q1kXy7KHdJWRLHDvgokkkrPrS4jexkXVTUKJR/fWSwxjCf7k3rrK/DzVzrQN6cuRxYD\n",
       "5NuPmKrZPSCW1aWvHW1kVzK0RmTk1wfPrRJtq8K87Ja7/bTqMB7c0FqbUbK7m+cgnV8uw34diNXk\n",
       "JfLLOfi6+X27MgYtWRsPeNetKgyQjD44uy/erEw/LX8JibZUYbpZqZwPamIJRv0bWgsYTVZcNSzl\n",
       "fY2ul3JMaWPVZBQFsQJP7oI1yabnyobNRqN0iLk9jn1pFAXYZi+5a5MV79ML5eV6vT4YP/XNW4wU\n",
       "Omo50ZYqvPDqUXe9sv+sXYCOtE2TzTzf04n8NlE2dSzXiQw7JHu73W7/09Y7UHEvEYvSSOU9h18X\n",
       "cGSkOXDiB2K6tqRbf+ZDw75Yj7fuysGZ+3Hw8GuQfpPfsBOI3AElKJuYlfuY4Rk+RS1ePC7nnBTu\n",
       "23ffJ398wfpGArHV/vgjIqYkN98pfi7W4zN3KMOG8/NqwjzIShGIpTzGENH7Y3LHE+ddrh4/qbrb\n",
       "Rs8okl43v8EeOBBIlzrLWSAqOK+2vrzL1eIdzwYJdB+34BmsPezxCoFklXscmsKDlDeM8y5Xi0/6\n",
       "hurRKDZZMM4DAWJHSw3Gyphqq8Ysvg/9eOnoY74pfTuKPVg0ZhggsWKk1KTZw1RbNRaYPbpUVbx0\n",
       "9Fs8AydQ7B5vZ8FuLyhElRr8ztRYlh/LWnzMO578Fu8gbyfPdiSFqFJLXGNqbJifZbX41kxYhueQ\n",
       "qvamuSTr6H2k97NoqT3Uj6p6NSa2so7ej1eOXh2WQjIHE4hdV+egMME6eh+pnY2UmvgRUFWvxh7h\n",
       "Hb0f7zn6WRfSE+A8vD3qvdXB4Bk/Hnf0bUTk3glv32XtPFvDVdURRTww3Z6jj8i241sHBeKTyklV\n",
       "voWo94Z9Ax8MBtWDOfpbSMjyKEf/xOeEqnTrJw40Qo5+tWwQrzv6vj2wIUePL+xG1XU4+rNJ2Iij\n",
       "t/HJw6i6Dke/93WScqT1Pgm8o7fwBY5Rbcv+a44+4/7HHf134x3JbxMd/acfdyRD5ej/BqnBvrlm\n",
       "h6rjAAAAAElFTkSuQmCC\n",
       "\" style=\"display:inline;vertical-align:middle;\" /></a>"
      ],
      "text/plain": [
       "A_{i} & ..A_{_a}.. & A_{j} & B_{i} & ..B_{_a}.. & B_{j}  \\\\ \n",
       "  C_{i} & ..C_{_a}.. & C_{j} & D_{i} & ..D_{_a}.. & D_{j}"
      ]
     },
     "execution_count": 52,
     "metadata": {},
     "output_type": "execute_result"
    }
   ],
   "source": [
    "ExprArray(ExprTuple(A_i_to_j, B_i_to_j), ExprTuple(C_i_to_j, D_i_to_j)).withStyles(parameterization=\"explicit\").withStyles(orientation='horizontal')"
   ]
  },
  {
   "cell_type": "code",
   "execution_count": 51,
   "metadata": {},
   "outputs": [
    {
     "data": {
      "text/html": [
       "<a class=\"ProveItLink\" href=\"__pv_it/6a18c0fbdbd4b396e38d8a272df0a390d7935ecf0/expr.ipynb\"><img src=\"data:image/png;base64,iVBORw0KGgoAAAANSUhEUgAAAGEAAAD2BAMAAAA0S/RrAAAAMFBMVEX///8QEBAiIiLu7u5ERES6\n",
       "urqYmJiIiIjMzMx2dnZUVFRmZmaqqqoyMjLc3NwAAABb1yYoAAAAAXRSTlMAQObYZgAAAAlwSFlz\n",
       "AAAOxAAADsQBlSsOGwAABNdJREFUaN7tml9oHEUcx3/J3uX2/m0OWtona0SQgA/d2kJKW5taxEqq\n",
       "XOpDFRRyoOCLkJMGSlMwm2cf7jCgD0ITSlFYOe9EW6EnGkXQPpQmtBYUJFd8kCISNX+aRJNzZrOb\n",
       "3sz9fiMDBYvOD3aX/L73u52d+c3sZ+4XgNCcGdC07G+0Zo347zll2XtNEfH6Kci8VZC9lzfIgH0P\n",
       "s9MXDcmbvL1CRsy67HRC9v6c+IsKSAbKm7K7llmmIuZ7+Hm/5I1P26vschiLmCyGPSY8SRqcNXZ5\n",
       "B4vY7YWtK7Z6R+qXF6lWPcgfHFxpiFj4H1TEbn7KeKIzzY6HAJ6fwiKCkUhCfLTVeZIdcwATC2hf\n",
       "8fZPQLK/pWFOjp3yDedQDxbB+/2KCz991fIU+XUXvm5+D7Ei+iAHBz4YZJdjiNS/X5Hc1oLX7rya\n",
       "VERkZsrtzgNvqO7xfgOMGbv/rLOmq/YrXx+YailbYP2He1e/r/THw9j/zX7VjphTaH0DfuF22yuu\n",
       "SQckdrpw5RHZm66SrzjrKHvvp9v47tykRwLnNs5SOcnrFMemqYhJrtjy9EjDtQIR4AREZMlNeAlK\n",
       "ZYoR76DuGsxPUdMVJdTE8Xr1CBHRsYAtiX0A3T3UPQLS/ratUdAZdZ916YxInMFIlEU1XmjB/Me8\n",
       "koCQDn/ypCuqt9gRiwa1DuPSBqAAmQkQ1H3N65DJr4c3XoJRKUs+8S9u/dGmMn0DntpLv0UwdZe9\n",
       "VKDzWFSder1+EV587Qwa8QtTB0nVmDHDcIbhDMMZMxh3H2GcrcQ4D8G4Tk+Fcb3/Dsb1fYZERBhn\n",
       "nW3pzQjjalexvgoxLp1pWbRCjLPcd7FmhRi3N3l3SO5i3E00S0KMy2IjtqHK7m4k8+ycKmIcS+sp\n",
       "VcQolqVKpkMe8rtxxeezLyBN/vRjRUT6rGsWQ25d+UW/8jSljjQHLvwgp0gHm4FVcv1ZZ98p/+TP\n",
       "f4seol7BNp8hH0nOYfb9w0VqFeVrw5CUQVV2zFLraIzP9Hlpk7kd4EAvOTH4MjMk5rW9eHqUpyZa\n",
       "aYASb+5YWVATbPJ9WSAqDTDGO7E6KKgxlslJssiS56ffpZayRnbdoSJ41aJLKqiUWItSS0SlIRiO\n",
       "PUdEdYx1bGmGqDTw4bB+lOoQs2xdfMAlKg18tXyuBoJaafr+DbaqopWG1Nya/+TngKvKSgOqKisN\n",
       "qKqsNPyDasyY2aWaXarZpRq79/ZKc8C/4enwGwef1IoOv/FNTPxPHX7rWlFACcpvKcYE2V06/MY4\n",
       "1DrvafAblI6drpAbj4jfRERrQGYHFRHxm2BP8B21p8FvwP8VhWRdjN/s5db7Hnz1HMZvgso51F6P\n",
       "luReewHjN0HNMg49cT3aLdXEPWHIb4LKEa3yzFb3Dwp7wi1+Q9XN5bIRe5nek2FqR6N0kp4XorpZ\n",
       "aYhf+uZt7LOblQZKNWbMMJxhOMNwxu4FlCXyi/6zH2pBWTfLw+FpDSgLaCad04CygGbiyxpQFtCM\n",
       "s6oBZQHNxNc0oCygmcQqDmU2CZepJVGNoAyrNGzCZXdOVJVQFsDlcEEBZdhwWNulloZQhlYaguF4\n",
       "fEZUIyhDKw28UhV/FAQ1gjK80lBp+heONyj1pjLDMVVZacBUdaUBU9WVBkxVVxoQVVlpQFVlpWFL\n",
       "/Ru8YL7vgp97PQAAAABJRU5ErkJggg==\n",
       "\" style=\"display:inline;vertical-align:middle;\" /></a>"
      ],
      "text/plain": [
       "A_{i} & C_{i}  \\\\ \n",
       "  \\colon & \\colon  \\\\ \n",
       "  A_{_a} & C_{_a}  \\\\ \n",
       "  \\colon & \\colon  \\\\ \n",
       "  A_{j} & C_{j}  \\\\ \n",
       "  B_{i} & D_{i}  \\\\ \n",
       "  \\colon & \\colon  \\\\ \n",
       "  B_{_a} & D_{_a}  \\\\ \n",
       "  \\colon & \\colon  \\\\ \n",
       "  B_{j} & D_{j}  \\\\ \n",
       " "
      ]
     },
     "execution_count": 51,
     "metadata": {},
     "output_type": "execute_result"
    }
   ],
   "source": [
    "ExprArray(ExprTuple(A_i_to_j, B_i_to_j), ExprTuple(C_i_to_j, D_i_to_j)).withStyles(parameterization=\"explicit\").withStyles(orientation='vertical')"
   ]
  },
  {
   "cell_type": "code",
   "execution_count": 50,
   "metadata": {},
   "outputs": [
    {
     "data": {
      "text/html": [
       "<a class=\"ProveItLink\" href=\"__pv_it/66d84e2f72d70482d39203f64493c081da5ba0220/expr.ipynb\"><img src=\"data:image/png;base64,iVBORw0KGgoAAAANSUhEUgAAAO4AAAB5BAMAAADMowDqAAAAMFBMVEX///8QEBAiIiLu7u5ERES6\n",
       "urqYmJiIiIjMzMx2dnZUVFRmZmaqqqoyMjLc3NwAAABb1yYoAAAAAXRSTlMAQObYZgAAAAlwSFlz\n",
       "AAAOxAAADsQBlSsOGwAABYJJREFUaN7tmltoHFUYx7/d6d6yVzBUES8rghQqdMRitF66iqCkyiY+\n",
       "qIiQeaggimRtg4EUzOapDz5kMQ8+iGaRYmVk3RUvxVZ0vTzYh9KE1oKCZsUHiSAba9ra1nQ958zM\n",
       "snPOfGcw45KI54OdkPn/z2XOd86Z3d8MAIvMAmxIpFdk6t7OsHm6LDFoE+bbmQoqx4qr5qPveSkn\n",
       "pe3CIMDAnxL9xf2QetXA9SwZzvGmh3D0iqzZzAWAyGVc33kzOXzewg2zJYBkTjyfWJZdDUSJGr2A\n",
       "64s6OYxKKpgmSYqcF8//EvtL1u4AyUL6BlROsMKvSCoo0kG7KJ5vpM7L2g0VQHsLn1ftPD3eKalg\n",
       "lXwil4TTkWa8pzNxMT0PTdZ6Zg3fg/mS+3+hh3Gao9hFwZCEDOmM9oL1X1goN92C1FaAO+xFvo2T\n",
       "d9gFMB1idPYMnBMME8eOkpE4uA8bpvvpRZXjk3lv+UY6rUBHddhCV2k2xxs0Mk5nyd8vsXZpZsZL\n",
       "kELq3UEPqTKqQ7ZAKzB4Q5J8buq2O/SpkB466eojdjHtAL8BsJWbAFRny1cbFAyPk89St93GCSE9\n",
       "ZFOJrznFkil+L2/TeTWH62z53rvAGzJ0Iym27HY1/XVh8yaG0VNOsdsTDU6ni/C4juv0oiLbgTNo\n",
       "xTUdvu58183vGX7XWLpk1h7pFoO0sBHfPfzuiESvdcxDe1q4wW4X3artYtnWOnXMQNq9i2QyJymm\n",
       "kZvdzHp1xLC8dARmmhCrYnelNy6X4tcBTK1TlxqaHulzdVnM/z/SEUNK/3ZGWuyr9JO5IDpiiMKR\n",
       "D6TFjOQBPYjub1ChQoWKzRrhho9he0AdaWC3z09gbS2YjjWg+Q2IHlDX1Jz6P8ZGzeeNWr8qVKhQ\n",
       "8d+ITQnco8VVs/awrPjQsGks4/JEZ/jQ957YQw7cQwWAehnXY1frcPwWSQXkXhX1RM1y4E7J2Bh+\n",
       "O9EeIN+tkpIaGJB930PwAe7jZQYo0SRdRQ4RCV9gQHbMEAUf4F4nn8UWKs836TVJbq8MyLY9Hrj4\n",
       "APdBgF3b8LVwlg22JP8MyI5VhfM2cL/PSoaYntXJqTO4nnAeeWDlGZCF6YpgsIA7vGZ9HxE6ToHs\n",
       "Fwaqh525gZVnQJaSZN5gAXc8PWTKJPCJF/rD7+cAfZ4Cv4vrwAbuaHqq0udHYbb2v5FUQC8qKs4g\n",
       "G7g/wRIv8naYNdhjCUy3Vm4FL8+W720FwWAD9zk2XiJvp89TYHYB1eljPEjoeHm6fLUfhAZs4J65\n",
       "Jw+evB0WyYy/Xsf1kwak5gDX6eb/WIM3dIH7FmtHEnBprWOap8nWgOmgfWh+BLhOgf2Dn+GG3daj\n",
       "NnSfDapjhhMJOW8PqmOGXS9LeXtgXWbw4+1BdcTgx9uD6pjBj7cH1f0NKlSoULFpQ/F2LhRvV7GO\n",
       "ULxdhQoVKjZf/LZB7S5Jfzr2jbanOtJe9Y22J+stWbt9o+1vzpdl7faLtmdK001Zu/2i7UkK+iTR\n",
       "L9r+NMy6O+Mm5g5t74neRhIegNjdCYe284YGtN2dcRNzh7b3RO/Vhz2AuHt0HNrOGWJ7jtULkmHu\n",
       "F20fIhnIS4r1i7aTmRjOQfTjg1Ox59gAc8Tcpu3PPztZfekddm2uN9gd2o7pXdrOGSIGA9PRUSNU\n",
       "tZAlR8xt2v7MVrjWeoXY/Qa7Q9sxvUvbOcNPNIVX4Od9kB1J0knHE3Obtg/l4Rx8Qk9wb7DbtB3V\n",
       "HdruNuzsnIJUca0Ch2EGwtYAuVaNQ9sHSvEc3GrV5JrdNm3H9C5tRwzXwAS0rZXrudeGyrFCZoVN\n",
       "AM832P10xJBZIVe8V0LM26TD0UIFfYPdT0cMkSr8CL/ux4n5U5BuZQ7r6BvsfrqfQb3h7o5/5w33\n",
       "vwEZTzXRDPN8sgAAAABJRU5ErkJggg==\n",
       "\" style=\"display:inline;vertical-align:middle;\" /></a>"
      ],
      "text/plain": [
       "A_{1,j} & B_{1,j} & C_{1,j} & D_{1,j}  \\\\ \n",
       " \\colon & \\colon & \\colon & \\colon \\\\ \n",
       "  A_{i,j} & B_{i,j} & C_{i,j} & D_{i,j}  \\\\ \n",
       " \\colon & \\colon & \\colon & \\colon \\\\ \n",
       "  A_{m,j} & B_{m,j} & C_{m,j} & D_{m,j}"
      ]
     },
     "execution_count": 50,
     "metadata": {},
     "output_type": "execute_result"
    }
   ],
   "source": [
    "ExprArray(ExprRange(i, ExprTuple(Aij, Bij, Cij, Dij),one,m)).withStyles(orientation='horizontal').withStyles(parameterization='explicit')"
   ]
  },
  {
   "cell_type": "code",
   "execution_count": 49,
   "metadata": {},
   "outputs": [
    {
     "data": {
      "text/html": [
       "<a class=\"ProveItLink\" href=\"__pv_it/d6f1a00696d4236a7c22820980c60ef382976e590/expr.ipynb\"><img src=\"data:image/png;base64,iVBORw0KGgoAAAANSUhEUgAAALgAAABgBAMAAABccKW2AAAAMFBMVEX///8QEBAiIiLu7u5ERES6\n",
       "urqYmJiIiIjMzMx2dnZUVFRmZmaqqqoyMjLc3NwAAABb1yYoAAAAAXRSTlMAQObYZgAAAAlwSFlz\n",
       "AAAOxAAADsQBlSsOGwAABR5JREFUaN7tmV9oW1Ucx39t2uQmTW7yIEPEPxVfBIVmbNg5xUYQJlVI\n",
       "64OKCMvDhKHI4lYsdGDTpz34kOAefBBtELESKYkIDjfR+OfFh7GUzYGCNsMH2UDSuW7TzS6ec+45\n",
       "SXrvOb/fbZKXYQ9pm14+95tzz7333E9+B4A3uwZk+5MkDCmxNTp8lSQMKWfo8GiTRAwpJ2+Re46U\n",
       "6xSiTwlf/JsM/2AxRxCGlD9C/5InKztfJRBDSiV6jRwVOJMhEH3KcNX6p/2fpd3zZcgXAALOuGsH\n",
       "aHNKCxsB+wbb8XVn06B21wo0imxYs+KfB/XHxlM6m8BmTp1cBzh2GDnk0DOnyil8VJwUdwuw7vzF\n",
       "/n6H7DkOEB9Fs1WK53gA7m+Fj3+lHxUYTMDwnIg5WgVjymsHZ4tvftLGnpf3thNeOa07WRlxc4cn\n",
       "kjwmqptDZMorO+AuEH0QmJ1g79J1GR5IvrfpYDf4Cy6wt0O34HeB7ApXYKLGX533gZNij4/CVfhS\n",
       "YYH0RhJ+aP7cGvPzmzr0EH/tbp6FaHqjAPucCSoDgxX+6uiESolkrQQ8rLB2k+HINBO4Ii7TODLL\n",
       "DORCKXvNi7HwR9k9lEBmxlohwG6lBeSiabC+B1Me7OLqCVioQqiI9Hypbt0NzvkytJcgVreXklqs\n",
       "unmkdL13nxXfWDT50wKx1/exFxM+wjVYEE58TuyVGTma9BHuE9tut1s70Jwsncv1ygTT66Xlp73b\n",
       "7wCIUG5BMwPsSVX2fL59nU3YNwmzoJkGexTtr3gOiPUoeB0P98EcYr0+lHVvjTDFi92Lh/tgyuxn\n",
       "pa4ZrMCHxAn1wbCzstfrHPl9s8sZl8oYGESKrPXZufNeKZqvQ3QHwCM1MBuPZBApCrEn2LcZjxQ9\n",
       "yX4Wc9Ys5iUOg43KEJthw96LlUsYO81RLFwySIsXddeTxd20PCXD9cYjGUyK8mxIIlfdUsQHy2Ju\n",
       "4oTrjUcymBSxswL5mluKYmywps+qcK4yXimSDCJFsMJu4XuSLimKrN4oLT8LKtz9gBZS1GKMUgTL\n",
       "zVLpHBsHgxTJcMx4upciFk4ZT9dSZL9/M0sZT29S5MN4upciH8bTvRT5UJltKfqft8BM6WO70Ctj\n",
       "IN44AtF3iC8UNKMndj/Afn2D14FoxkCs8Kt9Gu84zeiJsKjvvI1XmEjGQDTEPL4H90CSMRCLWU19\n",
       "x8CYpWjRqwa85DQmUUyKFGOWojHvB/KS031i9kqiUiQZ2DIxJub2HCpFitkyIa7NMKBSJBlEiiQR\n",
       "/OLYXOjVXKvkxL8RwHFciiSDSJEkgtOZgaJTmxAlJ15q/DFpkCJpP5JBpEgRhyE+NVJol5wem/x0\n",
       "yihF0n4kY5YiRSwxoxisekpO/ZGiO2EGGpan5NQXKbLXWN8PhN0lp/5I0XARfoNLR7Qlp/5Jkabk\n",
       "1Dcp0pWc+iZFPkpO2+22bDPNyY9+qffKmAj2XTBILRTRjJ6w+Jfqz/BsmjEQIV4O2I/rHM0YiCG+\n",
       "GNjARZRmDEQ8xT+ziIbTjIHI88fffKHTZcDEPGFEXCmtSlFO1DvQ5TPJwLtGRBGuSlGav7mML59J\n",
       "ZusEX1ELXsOXzxSzVUJcoDtT6PKZYl4omhBFuCtF7AIN/Aro8plijl8xIYpwV4rYBfpcBdDlM8nY\n",
       "j49KRG5vN0V4K0VPfQ2ALZ+1mKGsQsT2jnKsIrpfPoOJPRTS/fIZnA5TSPfLZ7D3LQrpbfnMDwLd\n",
       "Lp/5QAzu5MNlfOqOcKf/AAlLPe2KfnMHAAAAAElFTkSuQmCC\n",
       "\" style=\"display:inline;vertical-align:middle;\" /></a>"
      ],
      "text/plain": [
       "A_{1,j} & ..A_{i,j}.. & A_{m,j}  \\\\ \n",
       "  B_{1,j} & ..B_{i,j}.. & B_{m,j}  \\\\ \n",
       "  C_{1,j} & ..C_{i,j}.. & C_{m,j}  \\\\ \n",
       "  D_{1,j} & ..D_{i,j}.. & D_{m,j}  \\\\ \n",
       " "
      ]
     },
     "execution_count": 49,
     "metadata": {},
     "output_type": "execute_result"
    }
   ],
   "source": [
    "ExprArray(ExprRange(i, ExprTuple(Aij, Bij, Cij, Dij),one,m)).withStyles(orientation='vertical').withStyles(parameterization='explicit')"
   ]
  },
  {
   "cell_type": "code",
   "execution_count": 48,
   "metadata": {},
   "outputs": [
    {
     "data": {
      "text/html": [
       "<a class=\"ProveItLink\" href=\"__pv_it/3af95bff961963edbde1731a54fcd5d4d96120900/expr.ipynb\"><img src=\"data:image/png;base64,iVBORw0KGgoAAAANSUhEUgAAAQYAAABgBAMAAAANwcH8AAAAMFBMVEX///8QEBAiIiLu7u5ERES6\n",
       "urqYmJiIiIjMzMx2dnZUVFRmZmaqqqoyMjLc3NwAAABb1yYoAAAAAXRSTlMAQObYZgAAAAlwSFlz\n",
       "AAAOxAAADsQBlSsOGwAABqpJREFUaN7tml1oXEUUx0/2Zr+/ApYq4kdFkIBCVyymxo9EESqpsqkP\n",
       "KiJ0HyqIIlnbYCAFs3nqgw8J5sEH0SxSjKzERPwotqJr64N9KElpFRQ0K32QCLLRJrZJTdeZuTOz\n",
       "O/fOnXPXsLFIht20O/d3zpw7M3dm/ncGgKbUPLjS74AmnVmzXqSP5JL74gIeg86sWS/Sx5zbWaKG\n",
       "xzCHxoB7kT6OX3Vdi89U0Bg0Zk17ET6ii5dd196ZLGAF6Mya9SJ9/Br+29VV8iNlrACNWdNepI/Z\n",
       "xF+uSoS5HBaDxqxpL8JHsBxZdV57DsbG67+0FcrNHmI/ItoSVC8aTBYdh9SaKz6oFgHu5Q9vp/4m\n",
       "mdmb7EdAG6btpSE5MVn04Injyw7j8N4TM70QGdphqEaNmdYL+PBh5QH+dFzrAkiT8hOGGHRmei8+\n",
       "fMTJ9zZXJUKgQ8RgHS5rm4KZPc0qu+sLfVNQL6HPjgyHXyzoMFn0U+4hNZizB1E7hnhCNy9ws4mL\n",
       "rLQzuk5rewnty7UVw0UdJopOkfuFrDqc/UK+7VdFDPdEZxsv9szTDzdLPUARK/MWWOv0o/Fy4SCk\n",
       "++PjHFOGD160lV3PwDe1Hxqv7aqdg0R2fVz0h6TykAdmyUeatedZ5vcAd7KPxssUjEKgLLCG3qAp\n",
       "WjPl2DGkDYN+z272j2nmuAEGoRpBMe8YLFKJowbkTBTuI2NPh2HAXiI1cQDFvKzfvpKP3AQwbGC6\n",
       "X4PRMoSL3kSwCD/Db4cwzFgXjlbUpLKjx2wM06RTyWeQGkxkvhv1czP+MF3KxQ9nzEQIjn3sw5FP\n",
       "bCttpWsihbLLpenHsCw/Zs50oNZXOl/wBbSRtc6MimqyXMkHsw0gdtkXUCVT335letZluRLOpC6R\n",
       "kfqKL2CA3MxAXrmoyXIlnAmRWwxd8gXMkO9ZdXrWZLkSzsTIUix5iy+ANEp3p6udujuRvowzpMdY\n",
       "7xb8AJHloWHHzOjI0goYwRg0ztieoemcSeNIIEwWN1+rKM+yXgZvASPMDBpnpAKJ7SaNI4F2MjVH\n",
       "1SeIZx05aKhHjZkzPUy+RuEtgXTR1XtF1kmDvcbMmaiMMz45EhgjFRpbUduJZ9kx6AUMZwwaJ0Il\n",
       "9Uy/t8bhgN0oMDbvbCeWZcegFTCCMWgc2mMi6waNwwH6jJOx6mZ1qSSyWAxOZWJrHM6YNE6S9Jh9\n",
       "5wwahwMA07VS6bwqKGUW7w/qk8s0jmS8NU5sYa00/Tj5j5fGkYAx8RhMyqTlGofEgCmTVmucxYVj\n",
       "qDLZFI3jQ5m0WuP4UCYt1zg+lMmWxtlK/8dkDZbeS6nvlaGrr5RbROxwBiUk8MohSLzhWMxdn4HT\n",
       "d5hDwBmUkMCu28mfr5RFuvUImbjj5gkGZ1CiDpyla4d96sR+HR3nzRMMzqCEBKJsI+V15eIkne0j\n",
       "Zq2HMyghgSpdCMFuZbZl79Ito57FGZSoA5PuhW/UsVzWCRjJeGqcqGbRXdADO92BBrhsMGkcwXhr\n",
       "nIBGfHTqgVvZclZZ07axtbJl1DiC2QBRB3ayuV25jQDbe/3WqHEk8++JOsBGhqhy0X6mx40aRzDe\n",
       "GkcQL70wVHz1fXbL6oaQLIa9ToEJ1+sRiGaMGkcw3hpHEM9vhxvt1+6ODSFZDNBNztOOt8FzOUhM\n",
       "gIfG4WLGZkwahxNdO2AFPqcZjg0hWQzA/X0f9DsH0U9Kn4KXxuFihjPeGkcQsTxZ0t9lD4w5bTGt\n",
       "1zhthXBvaol1+nTlP9I4VVITod5xbEOopRrnWUhWUlMZbENoUzSOjw2hlmscfEOo9RoH3xDaSlvp\n",
       "2kmDtb6jP6qDaDi7XHriQ0ReoAxKNABktgs5TjqlySQ7UDYHgTMoIYEIncY/Ui+OkdkwjowoOIMS\n",
       "EgjTpeV+dbAdIdNcEDmBhTMoIYF2uqyrqpo3S5c5q+YYcAYlJJDupfWgTnz00FJwzRwDzqCEBGij\n",
       "wIhSD6yLhFf10sTBWBUvxOnFJYXqAG0U+w1+/aGhXSS2YjyrJpho3gsRRONyvqAHaKPAH4o16yLp\n",
       "DuNZNc7ABog6QBslpPZe1kUGcsazaoLZACEB1ih397qeW2ub+awaZ4LDnggnvPdxRDGsUayf3M/t\n",
       "g/Pms2qcifZkvBBOeO/jiGLYubgnHS8qFsgjQ7WC4ayaYC6cFAjPd3nx3scRxdDNlEe/VEOYrpWO\n",
       "7q3IGHRn1erMHoHY+RovXvs4EjCvVu0YTNLEuoiql5afVUvMY+ql9WfVrKkKggQ35ayaT/XSyrNq\n",
       "PtVLS8+q+VQvnlLoHxTrBQaSde8AAAAAAElFTkSuQmCC\n",
       "\" style=\"display:inline;vertical-align:middle;\" /></a>"
      ],
      "text/plain": [
       "A & A_{1,j} & ..A_{i,j}.. & A_{m,j} & A  \\\\ \n",
       "  B & B_{1,j} & ..B_{i,j}.. & B_{m,j} & B  \\\\ \n",
       "  C & C_{1,j} & ..C_{i,j}.. & C_{m,j} & C  \\\\ \n",
       "  D & D_{1,j} & ..D_{i,j}.. & D_{m,j} & D  \\\\ \n",
       " "
      ]
     },
     "execution_count": 48,
     "metadata": {},
     "output_type": "execute_result"
    }
   ],
   "source": [
    "ExprArray(ExprTuple(A,B,C,D),ExprRange(i, ExprTuple(Aij, Bij, Cij, Dij),one,m), ExprTuple(A,B,C,D)).withStyles(orientation='vertical').withStyles(parameterization='explicit')"
   ]
  },
  {
   "cell_type": "code",
   "execution_count": 47,
   "metadata": {},
   "outputs": [
    {
     "data": {
      "text/html": [
       "<a class=\"ProveItLink\" href=\"__pv_it/10223d0e32fc6043c57bb4de2d03c55c93095a1f0/expr.ipynb\"><img src=\"data:image/png;base64,iVBORw0KGgoAAAANSUhEUgAAAO4AAAClBAMAAACpX9y+AAAAMFBMVEX///8QEBAiIiLu7u5ERES6\n",
       "urqYmJiIiIjMzMx2dnZUVFRmZmaqqqoyMjLc3NwAAABb1yYoAAAAAXRSTlMAQObYZgAAAAlwSFlz\n",
       "AAAOxAAADsQBlSsOGwAABlJJREFUeNrtXFtoXEUY/rOne8vunixYqoiXFUEKFVyxGK2XRhGUVEnq\n",
       "g4oI3YcKokjWNhhIwWye+uBDgnnwQTSLFCsrMSteiq3oenmwDyUprQUFzYoPEkESa5qml2SdOTdy\n",
       "zsz/D54DTULmh57Q830zc2b+M7P/fPvPAqyyv2FtbIYCEz0LtYknCILRX/vAHMXx/lb3kV+aEiDb\n",
       "Ip+qrQtgsoLjrx2E7FslooJl9vBXJfczk02q3bkywL46Cu+8nV2+IWpIXWSXTyTAe+MVqt0+hvaV\n",
       "Ufh0kV32EuWTS+yyTxwQszzUoNqd5JWj/UlbI/gmUX7LPB808QXIwBTlHdgKsGs77oUCv95HlO/o\n",
       "4v2tCvdfgBHibYTUwsDgORweL6tmywhnDIlN1GGuSrlnBeBbfEDuqqjaHeKMyV6h3j0nJrso9+SZ\n",
       "E5dQ+Fb+WkGRqKCHX/4RbncyDxQo97DBSFzE+2utAFSnF/jisygZZojlKfewMW6/gMLWzE2DYvre\n",
       "LYxonFWbm6fcwyoemSZXFRhTTF/jV+H279yFK0S50+zZbsb9l2UjeJJyL+/U08Jyt7N1BrI9y/hE\n",
       "mmjVamepdeWB7o96Cbh95nLtsa9BmzZt2jaomdNr0y75SQT7W921s5XwIXuShfxPfSxDpsh2eUjX\n",
       "vgThQ/YONpx9sg+V4yukF9hHdvwKhA/ZeUiXkQQV6dklcmu0RIY46pCdh3RxMcSBP5NXqXbbmRdy\n",
       "t0D4kJ2HdOYl8X49u6jYkRnvVyKE7Dyki18WbscbqVUPkxLd8/jAxKq3pqII2SvSkC55SSBkwGQP\n",
       "Y7xq/y9WkYR02W0A9zqTfDsSsmO4vSNjsWiQ0H/iOBuJwwewYXqEd6qSGiiQITuK2zuyjnyQYLBx\n",
       "Os/+foe1yz3DdqDZAh2yY7i9I+srBQkZ9u82r93OrwT3LNobG7uYcaiBhOwYbk1fY6tAeMaRNux2\n",
       "66dkO7LUslssk51GQnYMt6bvQ9NBgskXkp6m065RfEdYvBlh7xm32D3pOhKyYzjvVHwHBAhGz3IR\n",
       "fmj97Pn3nCTinnjSKwa5EhKyYzgL+Y/saeIEp110qXaKdTRD4hiBtXs/82SeKGawD7vhsDhCmJ05\n",
       "BsMNSGKbfvPdK+XUTQCDIXGS0JC4z/fIov//F44QssWfhsli3+eey0fBEUICjn1KFitlDhWj4GqC\n",
       "Nm3atK1Xi9UVhB0RcaSB3YotsLEcDccaMFQDUoyIG/qd2oy2Vu/zWs1fbdq0adsYti4Fd2WKDHR2\n",
       "10qzOIymyCgEd1WKTPL6Ipy8g6gAS5FRCO6KFBnjURZbZYga0BQZheCuSJHJXccucUJfwFJkVII7\n",
       "nSID4w3eJ+LjFUuRUQnudIqMed4abML/WIqMI7g/bDtDdI+TIoPgafcrD6y8lyITJNiCO7xtxyPC\n",
       "g7spMggec98NrLyXIhMk2II77h46RabtX9V2AEmRcQV31D1V8vujmDX3fyQqQFJkHMH9Wcvxot7u\n",
       "pshguD1zR/HybopMkOAI7mPWeIl6u5sig+H8azxIF/HybopMgOAI7uaDBZDq7U6KDI5PlSA7Bjju\n",
       "pMgECJ7gvsVekQS51E2RwXAwPqt9DjjupcgghN32V23oOhsVxwin0rTeHhXHCLveIPX2yDhFUOnt\n",
       "UXGEoNLbo+IYQaW3R8XVBG3atGlbt6b19oBpvV1bCNN6uzZt2rStP9uYB1JDq+0RD6SGVtujHUgN\n",
       "r7ZHO5AaWm2PdiA1vNoe7UBqeLVdOJDqV8wlB1JXN5KWCMT+h5AcSLUIwoFUv2IuOZC6uvcxiSDu\n",
       "Hx3JgVROiHggNbTaHvFAami13T6Qmvji8GDyZWuAA4q5o7a/8tJA9fUPrb75MthdtR3DPbU9QHAO\n",
       "pCb2ltqqtmQZUMwdtf3FbXCjnULsz2B31XYM99T2AME5kPrHAejozfCXLqiYO2p7ZwEuwJf8RiCD\n",
       "3VHbUdxV2/0E70DqURiGmD1Avlnjqu3t5VQe7rRr8r3djtqO4Z7ajhBugH6Ys2eudK1tqyS7zHnr\n",
       "BZBmsKtwhGDOsx7vJxTzOfbAia5RNINdhSOEeBV+g78O4or585BrmkeLaAa7ClcRdIa733SGu7ZN\n",
       "Eb7r35O5JuG7/j2ZsOE7qMJ3325F/57MNQnf9e/JSKbv5v09mf8A5qgC5BUWaYYAAAAASUVORK5C\n",
       "YII=\n",
       "\" style=\"display:inline;vertical-align:middle;\" /></a>"
      ],
      "text/plain": [
       "A & B & C & D  \\\\ \n",
       "  A_{1,j} & B_{1,j} & C_{1,j} & D_{1,j}  \\\\ \n",
       " \\colon & \\colon & \\colon & \\colon \\\\ \n",
       "  A_{i,j} & B_{i,j} & C_{i,j} & D_{i,j}  \\\\ \n",
       " \\colon & \\colon & \\colon & \\colon \\\\ \n",
       "  A_{m,j} & B_{m,j} & C_{m,j} & D_{m,j}  \\\\ \n",
       "  A & B & C & D"
      ]
     },
     "execution_count": 47,
     "metadata": {},
     "output_type": "execute_result"
    }
   ],
   "source": [
    "ExprArray(ExprTuple(A,B,C,D),ExprRange(i, ExprTuple(Aij, Bij, Cij, Dij),one,m), ExprTuple(A,B,C,D)).withStyles(orientation='horizontal').withStyles(parameterization=\"explicit\")"
   ]
  },
  {
   "cell_type": "code",
   "execution_count": 46,
   "metadata": {},
   "outputs": [
    {
     "data": {
      "text/html": [
       "<a class=\"ProveItLink\" href=\"__pv_it/7035a0486086d77e186c574029034f015eb230070/expr.ipynb\"><img src=\"data:image/png;base64,iVBORw0KGgoAAAANSUhEUgAAAWwAAAB5BAMAAADv3QYWAAAAMFBMVEX///8QEBAiIiLu7u5ERES6\n",
       "urqYmJiIiIjMzMx2dnZUVFRmZmaqqqoyMjLc3NwAAABb1yYoAAAAAXRSTlMAQObYZgAAAAlwSFlz\n",
       "AAAOxAAADsQBlSsOGwAAB5dJREFUeNrtnF9sU1Ucx3/bpf/W7q7EicaojJgYIibUiA5BpSMmmKHp\n",
       "5gMaY9I+QGI0hgqLSyBxnQ/y4AONPPhgdItZxNSM1fiHCEbnnwd5QEpAE01kNT4YSMgmdLCBXT3n\n",
       "3NvS3nN/v6NcqkzPL1kJ9/v7c3rP7557t/vJARBmFmAxWvsMpW6t9OZOZgiH7t5c6jQuD1R6x34q\n",
       "EvGBns7c2Io4rS9NScePkcOGToC2OaLqTTE4cicRXwbw/0EV6GCzHYjTers87EMLVFLzIoDvMiob\n",
       "G2MAYSJDkMXDB1SFZJalyeP6Xqb7+5xHQ6fnqKR+pvov4h12A/vwRYnZ4NmTKaLCCBuSkcb1IaZH\n",
       "pDb7LUBOYRtrofbb8ZqT/IwS52oJb8HpLFFhCiANxNWTAChGpKP5yAVq2C1xMN5Bk5rnRKcQRTt4\n",
       "1yZHiQol8FGTwS6OoKz7JoPzdZ0od9amwfG6KMcAQ472cYnn0z+UxR1853KJIlqA6fNwtijJYTAv\n",
       "sfP1gvW/VilqqAiRZQD324v7yka11b4uiHh+ZKIPdwjNwSuAFmB6aWyFLA8cPlQC2LMDm6Ie3sCZ\n",
       "4GCXewudF4Mm4hP843fCgd02wmBgBZh+HtaDU+aXMO/Pr7CsbCpgexoi7llbxZr/LRFf4qvRBcKB\n",
       "Nb8J3VgBsWzfB045zH5W1Ibd/Zm07F4Qc2yHGbsnG2Vrxc4S8bz574njDpDkzb8TK2At6+CUt1gr\n",
       "kJ01f1Radtm4guVqWDhSkG9GEIoR8az5jZ+JAqwDWZpRrIClO+ub/EbBL2SR1Yi9KXUWc+g/UQ27\n",
       "N+RcoY+lILIPiHjWRU/kCQdYzX76+9AC4qQ66huJcgy+qfxYa70fnDebqUu58cdqYfKzgfFR7mMA\n",
       "Mv6RzwkHY7ySy/WU0QJcL+L17azow4Ud1oE9y6nivRZAZJb1AdbFUSKrwa6NYWJUZLzXAu7y6amD\n",
       "MDwJAewmbL51OR28FWAXoqvivRag5Em3x9r6byy35t+K91rAXY7Evh8mq37d/lSUyqqK91rAXfbD\n",
       "wQ/JrKnw7hj1ZK6K91pAIWvTpk2bNm3artgqhd6a/7cTuOlGWRG0QfEn8KYncNdVTyiGarqankA/\n",
       "Q2n7P9liXUkW57qtTZs2bdq0aUPs7OIc9hQl+hOl3PijlIdXfGdgaW9uYyet9yyTDkcq5JdqiQNM\n",
       "ZHDdO77Dn+4GFLr8GiE8QZ0LmE4DJPEHOO/4jo8TFuuJBFzfJh1+eyRDDXt7Rrx0x8w7vhOa5Z1G\n",
       "JOD6d86jZnpokhr2BPs5js+Hd3ynfQYCLpxJfQITpCGG+QtowtjFsm4lql4DfIc5bKEG0FGAV+Wj\n",
       "zwj0y7DOp1w+WBrcxa+Hh63/STNcxXcQ/Qq+gzok7xpboBIks+YpWc7DNDsVIat75dPKEYcv2XS8\n",
       "Yf1y5fxeVXwH02v4Du4wkgl2UQlGejdGJTmw+fBEnJiiJVHBBaHLo43v4GbjO+RtI0/91Wkq5kIJ\n",
       "sku4o4vqrFGSA6zhO6hV8R3KoUhxgGUwJHiRfVFojYJPvMx2YWdgL2uQtll4UlxTMnxTxXcwvYbv\n",
       "oA4+7hCI4boA5xwyR/DYChTawGfJhZ3hZBrsLcA+0QwyfFPFdzC9hu+gDqIDzyh0p/wLb98F+FXg\n",
       "Hi7sDBxnX+22mPkgbyQ3+MbCd3DdxndwB95mvhvpBM7wNZUTEEmUs7DJcpFWcA7XnGSts8RqPvnR\n",
       "wMZ3ML2G72AO65jD2PICpR9Aw43zYmVB4RzYsFb8s3C1utcE7nKkkCXhHDgaouEble41gbts7C9S\n",
       "cA6bq5dpOkele02Ayyo4RwnfeKZ3FLq7rGBnlPCNZ3pHoSOyCo5RwTee6R2FrsyvTZs2bdq0aauZ\n",
       "pneak0DTO9q0Xf+m6Z1/ct3Wpk2bNm3atLnaf5HdUe68Ywzk3jVxfCGQKOUeP0BVaA67o9h5B17c\n",
       "CZHXU7jON87ZPklVaAa7o9h5B9bcwT6+IDJwviFMvaRoCruj2HkHjvNfTfuJBJxv8FFv3JvC7ih2\n",
       "3gkJdOs1IgHnG8x5wqEp7A698w5Md/HPtUQCzjf4LhEOXtid+l5qbM3GnXec+ojMUzTGC74hMI87\n",
       "VNmdOms8Sxa745Qtdqf+16eGKHvnHUxfLU9EY7zA0tpmcYcqu1NnjQSRxe44ZBW7Y+28g8rLxR+L\n",
       "YmRnsnmO0reNa8/u2DvvYLZarPwZsnNZghTd/FfL7vg/2bMr8Jyo3ojP2DvvoLpYsUN4vFi2jU7C\n",
       "wWZ3nn92cPSl98Rtt5Egstgdh2yzO/7+VMuo9Rq+EZ+xd95BdQ6Swj5cF8v2QwXCwWZ3ti2DWyxQ\n",
       "wUEQWeyOQ66yOzugoy/MVxQHPmPvvIPqfN+yIzFc553rWwWEg83udHfBLHzKDzgIIovdaZRr7M5+\n",
       "GIZWa3Lqb/+1nXcQnd2Ve9/vI/TxSm5sc5FwqLI7belgFO62Bppq1PmDGCLfzB5mpq0F1RWf8aor\n",
       "HVoygbg5I5rfjSByl80Zdjq24viMV13tMM1OqD+OEkTusm8UTsGZnSg+41VXOzwN7UVzfwwjiBSy\n",
       "Vz7n+tx9p+n8TnN232k6v/OXdt/5E+G+Tg3ojO+XAAAAAElFTkSuQmCC\n",
       "\" style=\"display:inline;vertical-align:middle;\" /></a>"
      ],
      "text/plain": [
       "A_{1,j} & B_{1,j} & C_{1,j} & D_{1,j} & E_{1,j} & F_{1,j}  \\\\ \n",
       " \\colon & \\colon & \\colon & \\colon & \\colon & \\colon \\\\ \n",
       "  A_{i,j} & B_{i,j} & C_{i,j} & D_{i,j} & E_{i,j} & F_{i,j}  \\\\ \n",
       " \\colon & \\colon & \\colon & \\colon & \\colon & \\colon \\\\ \n",
       "  A_{m,j} & B_{m,j} & C_{m,j} & D_{m,j} & E_{m,j} & F_{m,j}"
      ]
     },
     "execution_count": 46,
     "metadata": {},
     "output_type": "execute_result"
    }
   ],
   "source": [
    "ExprArray(ExprRange(i, ExprTuple(Aij, Bij, Cij, Dij, Eij, Fij),one,m)).withStyles(orientation='horizontal').withStyles(parameterization=\"explicit\")"
   ]
  },
  {
   "cell_type": "code",
   "execution_count": 45,
   "metadata": {},
   "outputs": [
    {
     "data": {
      "text/html": [
       "<a class=\"ProveItLink\" href=\"__pv_it/c487a7a7af1d8181232631bf5aaf06c3a2a399000/expr.ipynb\"><img src=\"data:image/png;base64,iVBORw0KGgoAAAANSUhEUgAAALgAAACSBAMAAAAEKh2kAAAAMFBMVEX///8QEBAiIiLu7u5ERES6\n",
       "urqYmJiIiIjMzMx2dnZUVFRmZmaqqqoyMjLc3NwAAABb1yYoAAAAAXRSTlMAQObYZgAAAAlwSFlz\n",
       "AAAOxAAADsQBlSsOGwAABotJREFUaN7tm19oW1Ucx39r2vxp09sIo4j4p8MXQaERh51V1lSESRWS\n",
       "+qAiQvOwgSiyuBYLHdjUB/fgQ4N78EE0QYaVSG1EcLiJxj8vPmxr2RwouEZ8kAmSurX705nFc+49\n",
       "J3/uPef3u/nzMs0h7dLL535z7jn3nvvN93cHwJuxCmT7iyQ0Kv0btPg6SWhUztDiwTKJaFRO3CT3\n",
       "7FspUIhaJXDxGin+QTpJEBqVP3z/kJOVmM8TiEYlF7xCjgqciROIWqUn779e/cuv3PNFWEwBeKxx\n",
       "Vw5QvUoF6wNjm+34qrWpS7lrDooZNqwJ84/71MfGVWqbic2cPLEJcOQQcsi+p06uRPBRsVTszcO6\n",
       "c4n9+x2y5wjAwBCqLVUcxwOwqyI+8pV6VKArBD1zpszhPGhVXnlpNvP6x1XsWXFtW+K5U6rJipsX\n",
       "d2AszGWCqjVEqBwYhDvA7IOJGSH2LloQ4p7we3UHW+Iv+I297b4Jv5vIQ4EcjK3yV+11YKkYI0Ow\n",
       "BV9KzBMtheGH8s+VMT9f16H7+Wt3+SwEo6UU7LMWqDh05firphNSpTfhD8EDEqs2IY4sM57L5mk6\n",
       "gKwyO5K+iLHhxJj4I+waCiEr42rKwy6lBeSkKbK+eyMO7OL6cVjIgy+D9Hyp4L8TrPnStBegv2As\n",
       "hZVYvn6kVL23z4prLBj+aYHY6/v+50MuxBWYF45/TuwV7zscdiHuEuu0W63tL09kzyVbZbzRzezy\n",
       "k87tOwF6KW9BMzvYnWrF8fnGVbZg3yCcBc0U2a1oKuc4INYj71Vc3AVzkPX6YMK+tZdZvP67cXEX\n",
       "zAr7WSsoBsvzITGhLhg2K6NOz7G4b3Y5brMyGgYxRf7N2bnzTlM0X4DgIMDDq6B3PIJBTJGP3cG+\n",
       "jTtM0Tj7SSf9s5gvsRhsVLrZChtwnqzchLFpDmLigkHaQEZ1Pvm5N12JCXG14xEMZooW2ZD0btlN\n",
       "ER8sP/Mmlrja8QgGM0VsVmBx1W6K+tlgTZ6V4tzKOE2RYBBTBGvsEr4rbDNFvevb2eWnQYrbb9Cm\n",
       "KaowWlMEy+Vs9hwbB40pEuKY42neFDFxyvE0bYqM928kKMfTmily4XiaN0UuHE/zpsiFlemYov95\n",
       "88xkPzJSrTIa4rVpCL5DfKGgGTWx+1726xs8B6IZDbHGz/ZJvOM0oyYCZr7zNp4wkYyGKJrr+B7c\n",
       "B5KMhkgnFPmOhtGborTTGvDIaVigmCmSjN4UDTs/kEdO95irVxg1RYKBholhc21PoqZIMg0T5rkZ\n",
       "ANQUCQYxRYLwfnFkzvdyshI58W8EcBQ3RYJBTJEgvJPxHRkrmzAjJx41/hjWmCLhfgSDmCJJHIKB\n",
       "WF+qGjk9OvFJTGuKhPsRjN4USWKJOYquvCNyao8puh1moOh3RE5tMUXGBuv7/oA9cmqPKerJwAX4\n",
       "c1oZObXPFCkip7aZIlXk1DZT5CJy6rRbss2UJ479UmiV0RHsu6CXKhTRjJrw8y/Vn+HaNKMhfDwO\n",
       "mMLtHM1oiG5eDCziRpRmNMRAhH9mBhWnGQ2xyG9/86laLwM6Zq8WsalUkqKkmXeg5TPBwLtaRBK2\n",
       "pCjK3/yNl88E0zjBK2reK3j5TDKNEuYJ+mAELZ9J5rmMDpGEPSliJ6jnV0DLZ5I5elmHSMKeFLET\n",
       "9JkcoOUzwRiPDQlEbK82STiToie+BsDKZxWmOyERc3tNHCuJ5stnMLaHQpovn8GpAIU0Xz6D0Tco\n",
       "pLXymRsEmi2fuUA03smFl3FpdzpJ0X+0+cZ3Zo/tirTI6IgBtjb6cHEXjIaY4k+u5HBxmtEQ6Zj1\n",
       "kAfWaEZDrAMkIImL04yG2DSfAsEbzaiJnkvZaAFPiiSDlM9sKtI6Ba7Bm0RSJBmkfCYIW1LE7619\n",
       "4MHLZxYDjRPMQhowgpfPBNM4McWPdRpNigSDlc8swp4UmdVCI4MmRYLBymcWYU+KzOxrMoYmRYLB\n",
       "ymeCqE+KPLzwNV5Ck6IKo3+mSBKdpKiTFHWSok6rhDy3TWTHB1tldEQJ6CuDZtSE+bDuASIqIhkN\n",
       "4dtiv04ThpJkNET3Brv95YGKighGQzAL+RY16TSjIaZSxgVAgyLJ7EWQOpWqdUpPPB4inrO2GCQo\n",
       "koQtKGIWMsysLxoUCaYZogSeGB4USaZxoud6TWihfs5aMPqgSBL256zlA1JIUCQZfVAkCVtQVPm/\n",
       "F6qgqC4qwoIiSdQHRQCj69ufaoMiEQkJRhsUVVQ6QVEnKGo2KPoXpCtNgN4hHDYAAAAASUVORK5C\n",
       "YII=\n",
       "\" style=\"display:inline;vertical-align:middle;\" /></a>"
      ],
      "text/plain": [
       "A_{1,j} & ..A_{i,j}.. & A_{m,j}  \\\\ \n",
       "  B_{1,j} & ..B_{i,j}.. & B_{m,j}  \\\\ \n",
       "  C_{1,j} & ..C_{i,j}.. & C_{m,j}  \\\\ \n",
       "  D_{1,j} & ..D_{i,j}.. & D_{m,j}  \\\\ \n",
       "  E_{1,j} & ..E_{i,j}.. & E_{m,j}  \\\\ \n",
       "  F_{1,j} & ..F_{i,j}.. & F_{m,j}  \\\\ \n",
       " "
      ]
     },
     "execution_count": 45,
     "metadata": {},
     "output_type": "execute_result"
    }
   ],
   "source": [
    "ExprArray(ExprRange(i, ExprTuple(Aij, Bij, Cij, Dij, Eij, Fij),one,m)).withStyles(orientation='vertical').withStyles(parameterization='explicit')"
   ]
  },
  {
   "cell_type": "code",
   "execution_count": 24,
   "metadata": {},
   "outputs": [
    {
     "data": {
      "text/html": [
       "<a class=\"ProveItLink\" href=\"__pv_it/1929c8d82de70794994f5b2853be02ca147213700/expr.ipynb\"><img src=\"data:image/png;base64,iVBORw0KGgoAAAANSUhEUgAAAWcAAABVBAMAAABnUzisAAAAMFBMVEX///8QEBAiIiLu7u5ERES6\n",
       "urqYmJiIiIjMzMx2dnZUVFRmZmaqqqoyMjLc3NwAAABb1yYoAAAAAXRSTlMAQObYZgAAAAlwSFlz\n",
       "AAAOxAAADsQBlSsOGwAABUxJREFUaN7tWk2IG1Uc/29iktl8zOYgi4qW9VZYDxHFpV42nhQVdutB\n",
       "pBQcZAuLRRpqMbB7aNZLj5uTF9EGLyuBJQHBaushtl5lt7QWvLgRD1JRsujWrrtu40vemyRv5n1k\n",
       "3nshQucH2Y+Z9/vNf17ex8z//wPowt4GDfwBY0FmV4e9Iz691H61erukqB1f2KtuvsI8taUTdLot\n",
       "afAoQHJfVX0iD1Bj3vLVBxpBp2pN4Xn7PkDsUFW9VQB4u844MXl3XyPoTy+Lv/s4Eo/fV1U/h8TP\n",
       "FRgnfk38qx6zXbjYEDZIorGXOaYqX0Ofm6yvsp7+W2N0wJYjG5XRz1QnYmdCvHiccTzWsP5RD/o0\n",
       "rJeFDdZfLm46qurWXnHlDruv7AOA6Hvdf14IumTXoVUR0i42IT3ttiBXGRoJtER867i0d/qD+8K1\n",
       "q3sAl85376w44+VFj9CP+W3yh0/1tWu1PIvWw0voc7lEWuCrUOhJzzNu/JEsWif2XdrEYi8oFP6f\n",
       "6Pd1vOr6rz6LPpE6+cOLOYCpGSbNxQF05z9pcd13vicdYaxsUxW89GBaa2B0ADwtCloyOiCSdWln\n",
       "l4u+C1udSV5b5ActnhBoNiTvubQle5Ucf5PsxEpBxxz8EIBpZ6bhGGtUWkegGDSaELC+7dI2fn8W\n",
       "r3426idYaCoG/XNn3D0gNHtuBv7yPdcg/ZO3VIO+ifrlqZxLe9yx8IheOMrBd+0f1YJ+vn0L0gtH\n",
       "ZUJLFmJZ79ayc1DdfB0Ug95sV6u3Gy7NPvzK20BtTLtPTV3aRClVLglbBO1pKrh4/g3bf/yETtDR\n",
       "MprdkdMlYQuNoE+gL/LDSfrw3Z0rsNawPzksqDyAIJr1JJyCxEfiFp2rKAAHl2kmlxknGzovA2kD\n",
       "LUTgBJfO6YjeMNBCdMec4OJaPeEYaCF6LocQIUKECBEiRIgQDwfmt0fKZqanhgaPzcrvDA85e1ar\n",
       "S2fDUfW/hV7FbkzQq9hJoFWxE2BrlEHrVez40KrYSceeVsWOC72KnTQzoFOx428Pw1Ts1DeXoSp2\n",
       "wTeXYSp26pvLcBW7oJsLXbGzTA8PT8XO0DpCVewgYnp1oip2AMfNqA5W7EYAqmJnCnTFzjzoih2Y\n",
       "Gh2DFbu5bwzHTFfsoqsNI6p0xa7+veGg6YpdKh3sMYez0tIVu2juY8PrNF2xe26ybmCd9lbs4I7Z\n",
       "ddpbscs4Rl8CSNCjegwhQU81jariip2VHV3QnYrdmlFRXBSDRGVEz3q4Ygcr5qUb3DFnpre5U0ZH\n",
       "NPfD2ghjhhuZt8yPvjhc+WKUQTup1RyECPGwQssAPa5Mzo4OWZLJ0cvF8NlSA7QQskyOXi6Gy5YZ\n",
       "oMWQZHL0cjF8tswArZXJ0XNPc9lSA7QQskyOnnuay5YaoIWQZXL03NNcttQAPXwmR56L0cvkDPRV\n",
       "1wDdRyAHNc7kyHMxivI+NnFQYwP0wDu9N20i9E/jTI40FyOQF/qnvWzXQU0M0L63NfqlkuOfdjM5\n",
       "0lyMQF7kn/axW+7o6Big419eWkm8W2KqyjM5Z5eLlQ8+7xzwOqhJLkZR3s/GDmpigI6fdCYq+AUw\n",
       "iCrJ5JyZhifw653XQU1yMYryfjZ2UBMD9C/nYWoxVQ6oSjI5Hd/0PfgaGA5qkotRk2ewuw7qngF6\n",
       "A729RxrBVHuZnGTBysIz3d2AdlD3cjEq8gy2x0H9GFyAlhW0K9w5XUrk7d0S8B3UWvJ9Nu2gtnfR\n",
       "7SxNKjqoW6iH4/ky30GtJ99n0w7qWAV+gt/eV3RQn4JM097I8R3UevJ99ngc1FryY3JQ68mPyUGt\n",
       "J0/Y/wEddfO23zyklwAAAABJRU5ErkJggg==\n",
       "\" style=\"display:inline;vertical-align:middle;\" /></a>"
      ],
      "text/plain": [
       "A_{1,1} & ..A_{1,j}.. & A_{1,n} & B_{1,1} & ..B_{1,j}.. & B_{1,k}  \\\\ \n",
       " \\colon & \\colon & \\colon & \\colon &\\colon & \\colon \\\\ \n",
       "  A_{i,1} & ..A_{i,j}.. & A_{i,n} & B_{i,1} & ..B_{i,j}.. & B_{i,k}  \\\\ \n",
       " \\colon & \\colon & \\colon & \\colon &\\colon & \\colon \\\\ \n",
       "  A_{m,1} & ..A_{m,j}.. & A_{m,n} & B_{m,1} & ..B_{m,j}.. & B_{m,k}"
      ]
     },
     "execution_count": 24,
     "metadata": {},
     "output_type": "execute_result"
    }
   ],
   "source": [
    "ExprArray(ExprRange(i, ExprTuple(ExprRange(j, Aij, one, n), ExprRange(j, Bij, one, k)),one,m))#.withStyles(parameterization=\"explicit\")"
   ]
  },
  {
   "cell_type": "code",
   "execution_count": 25,
   "metadata": {},
   "outputs": [
    {
     "data": {
      "text/html": [
       "<a class=\"ProveItLink\" href=\"__pv_it/cdd18c2b854881e6991d89f681cdebb03e424b360/expr.ipynb\"><img src=\"data:image/png;base64,iVBORw0KGgoAAAANSUhEUgAAAKUAAACuBAMAAAClwtAqAAAAMFBMVEX///8QEBAiIiLu7u5ERES6\n",
       "urqYmJiIiIjMzMx2dnZUVFRmZmaqqqoyMjLc3NwAAABb1yYoAAAAAXRSTlMAQObYZgAAAAlwSFlz\n",
       "AAAOxAAADsQBlSsOGwAABQpJREFUaN7tW0toE1EUvUnMZJom0y5UVFTqSkEXEcSim8aVokKrCxci\n",
       "GKSCKGLQYqGCpm5cNqtuRA0urARKAoLV1kX8bMWKH3BjIy5EUVK0/lpjfMl7k8xk3gvzPkXBOTBp\n",
       "MsM5mc+beeeemwJUYUyDMD4x1kdnxTVnGOufiGtGKowNk7+FNdtzRer6tvc/hDWvXktR178L/RKV\n",
       "NJIXCtQN+cg34UOHJwna+mBB/ymqeQhG0vTvMuYBAidrH7byDdU8lDLWzyZ9YGpyDuDS6ep7fbCr\n",
       "iRUoo5eeafKmCaE9U7m45bNJDyQBPqO/D/B4a9aEjWjx58mbJnQDdNgIhN6OlnUtNFsfOvg7Qbt9\n",
       "aSh0PGWhHyA3mIBmMFG7r7V9CV8mlGnQjU700lsU0nyDliW/4e1p6OhrT9fpgd5yDB5VXolobqk8\n",
       "g0hvOQ1jMAz+AoUucj4JVsAAlHS65jYxTWMW7Wl/m5P+fmYChgvGlYUkt2YwA6/hwxkGvQBSoNEj\n",
       "MSlJKl2T201JugcPHjwsPnqm1ZNrVkMUUuR/GTKVDixCpQPqKx0mJCodFiQqHeaYd1Pp8I55N5UO\n",
       "55i3Vzq6ktNpq3TAn1Khaa10FMFe6YCiQ7dWOt33VGjaK538YwXj017pBGKX5cdnc6UDL1U+k4mm\n",
       "0lsfVzp6p0JJXOlAKKP6CVWAaEKxZCT2Ylj1bmowccvzQX8LnxbBUMyoNxTMDFPCULAyTBlDwcow\n",
       "JQwFM8N0AZahYGWYbsAyFKwMk9tQWL+rlmFuFXGu2FA4gTNMZ/BpTkmt8k9sKJwgGSYzAGuRf5qG\n",
       "gnLo1QyTaJ44NpjnOfSaoUCkzNmbFjrJMInm0eWwlttQINIqGLLQSYaJNY3uLvji/vmBDUWV9BXu\n",
       "Nuj1DBPvZzgZdD3d1g1FOInm6E0UOtb0pdrT3DeqLxWKG7MpJx1pBtJQAv8hbs0S2j8tnnbQq8ml\n",
       "vhoOQmiUe+QfhGjRGIvR6RFJA0Bb+VBOk0qXdC6qjY+HxYTWO5cd3yXG7a/szj6n3Xe+OEBOcDZe\n",
       "ip4btNm4hJ7Wh8UCIuM7egAvUDacQvt4Kil23tA+at8pG3JoeSrmbsJogoiupZ+T7RvETie6FIHr\n",
       "lEuhzw0OvRQcMyM7B8dpd3kITUb3E2I90wtFiCy3riD0JWgGafsh1jPdgRarKTTpHRl87UR6plVj\n",
       "YxsyhD6CTkj4q1CPT6+aulyfs2eKzgmMTAtpVi+FXnb2TOEpuhXWxIQ0o+hS7Hvm6JnCeCWbfV4A\n",
       "Ec3wzHx2fC964/VMvZ6pBw8ePPzL8Hqm/2Wl08peC1c6zGBCvNJhjk9XlQ7n+HRV6XCOT4lKh2mv\n",
       "7ZWOkp6pvdJR0zO1VTqKYK901MBe6ajpmdorHSU9U3ulo6Rn2lzpeD1TlfB6ph5ag5k3ynBZeaPL\n",
       "2YrGZeaNbhIGBpeZN7oZsgwuM290ARaXlTe6NFNULitvdDVbMbiOvJFvtqJySd6Ik0ttffNmrqwS\n",
       "jmC3hvNGM7lc5uBxZZW+vpoDwnmj+V8UXL/5M7kWt1o3RHrZTMW0+DuOKdDMKhv5Z79xDup5o9mL\n",
       "PP+QY6gSriX/HPu4udjIG0kvchTcD1WTa8k/VyasbhJrlqZERn89/zQW7oBDsz/YVeTXrOefWny/\n",
       "YdcMpGFM7+L/zUAj/wwnL7ZZ1uOe6Wu4wX/wwXr+GS2GjzXP4NKmwgnJnik1/5R0LiT//AMQH/wI\n",
       "9LPziwAAAABJRU5ErkJggg==\n",
       "\" style=\"display:inline;vertical-align:middle;\" /></a>"
      ],
      "text/plain": [
       "A_{1,1} & \\cdots & A_{m,1}  \\\\ \n",
       "  \\vdots & A_{1,j} & \\vdots  \\\\ \n",
       "  A_{1,n} & \\cdots & A_{m,n}  \\\\ \n",
       "  B_{1,1} & \\cdots  & B_{m,1}  \\\\ \n",
       "  \\vdots & B_{1,j} & \\vdots  \\\\ \n",
       "  B_{1,k} & \\cdots  & B_{m,k}  \\\\ \n",
       " "
      ]
     },
     "execution_count": 25,
     "metadata": {},
     "output_type": "execute_result"
    }
   ],
   "source": [
    "ExprArray(ExprRange(i, ExprTuple(ExprRange(j, Aij, one, n), ExprRange(j, Bij, one, k)),one,m)).withStyles(orientation='vertical').withStyles(parameterization='implicit')"
   ]
  },
  {
   "cell_type": "code",
   "execution_count": 26,
   "metadata": {},
   "outputs": [
    {
     "data": {
      "text/html": [
       "<a class=\"ProveItLink\" href=\"__pv_it/1a371912cbbb1b328934a0e6ec18a0542a30d6610/expr.ipynb\"><img src=\"data:image/png;base64,iVBORw0KGgoAAAANSUhEUgAAAKUAAABVBAMAAADalznwAAAAMFBMVEX///8QEBAiIiLu7u5ERES6\n",
       "urqYmJiIiIjMzMx2dnZUVFRmZmaqqqoyMjLc3NwAAABb1yYoAAAAAXRSTlMAQObYZgAAAAlwSFlz\n",
       "AAAOxAAADsQBlSsOGwAAAuJJREFUWMPtWE9o01Ac/traJlvTrCcREZlnPfQgK57Wu4fqxcPYoQcF\n",
       "UYQyh4NdTE87mpMXceY2bysIDjcPQb3KCqLgxVY8yITR4j/819XXJu2S5r2SvPeKHvpB2uSF78t7\n",
       "4Zfk+31AF3oN3NhnjGda/Jp1xvguv6bWYZzYPuDWTG82qONTez+4NdcfGNTxj8ofXkm9fNumnqhq\n",
       "37mXjt0SbTxpqz95NRdxx6RfS/8FJG70DuailWoVTct73Kcv72x/BdaWuvvqyuwQK9EmP/M1d2cI\n",
       "yvmdzYLnuE9PlIHP5P+ZU2/DmjhNtnjV3RlCHpjxEVx6mmynRmiOXjriWaQer60q1wwP/ZL7gHFo\n",
       "Jku95zp1sRSzFOuQrmfJT7HBpfmebEcO8GEJMxfS5oCeKLZzeNF5y6N5tvMKWrFtYgMVxG0Kned+\n",
       "ujiGZTRVuuY5Pk29RWZ6eSpI36tvoWLr93+XI2smLbzDp5sMug0h0OhaTkiSSk+JTVOQPsEEE0ww\n",
       "fszX5JN7VoMXQuT/GSKdDsbQ6UB+p8OEQKfDgkCnw6z5MJ1O1JoP0+lErHl/p6NKuZ2+TgdxQ4am\n",
       "t9ORBH+nA0lL93Y6+acyNP2dTvWlhPr0dzqJ3D3x+hzudPBG5jvZ1ZT66DudjpqVKOl0OlAs2W8o\n",
       "G5mSZEkt97oie5opbD2a+KB/hf0xGIq6fEPBzDAFDAUrwxQxFKwMU8BQMDPMEGAZClaGGQYsQ8HK\n",
       "MCMbCu+1ehnmHI9zdQxFEE6GGQw++5+kUfmnYyiCcDNMZgA2Iv/sGwrK0rsZpqt5/epKNcrSe4aC\n",
       "kKxbDz10N8N0Na8cxcnIhoKQjmPVQ3czTEdTz8/iS/j3h2MouqRveHJIH2SYzjyny8nQn9uBoZgu\n",
       "k2/0GQrd0YwZaTPygxozlILeMoJ0opkw0UR8MbJmk8wvVTAD9G5yqZ7AApS7kSt/AZmGvpGj0zVB\n",
       "A0AbfC6mSaULOheX/hf7f+/+Cm9idAAAAABJRU5ErkJggg==\n",
       "\" style=\"display:inline;vertical-align:middle;\" /></a>"
      ],
      "text/plain": [
       "A_{1,1} & ..A_{i,1}.. & A_{m,1}  \\\\ \n",
       "  \\colon & \\colon & \\colon  \\\\ \n",
       "  A_{1,j} & ..A_{i,j}.. & A_{m,j}  \\\\ \n",
       "  \\colon & \\colon & \\colon  \\\\ \n",
       "  A_{1,n} & ..A_{i,n}.. & A_{m,n}  \\\\ \n",
       " "
      ]
     },
     "execution_count": 26,
     "metadata": {},
     "output_type": "execute_result"
    }
   ],
   "source": [
    "ExprArray(ExprRange(i, ExprTuple(ExprRange(j, Aij, one, n)), one, m)).withStyles(orientation='vertical') #.withStyles(parameterization='explicit')"
   ]
  },
  {
   "cell_type": "code",
   "execution_count": 44,
   "metadata": {},
   "outputs": [
    {
     "data": {
      "text/html": [
       "<a class=\"ProveItLink\" href=\"__pv_it/946a9a42786fd8d64d7b736b10b55e03fb5197160/expr.ipynb\"><img src=\"data:image/png;base64,iVBORw0KGgoAAAANSUhEUgAAAHEAAAD7BAMAAACve2ZdAAAAMFBMVEX///8QEBAiIiLu7u5ERES6\n",
       "urqYmJiIiIjMzMx2dnZUVFRmZmaqqqoyMjLc3NwAAABb1yYoAAAAAXRSTlMAQObYZgAAAAlwSFlz\n",
       "AAAOxAAADsQBlSsOGwAAA+ZJREFUaN7tmz1oU1EUx08Tk7zm4zWDlCIqdRAEHTKIRRfjpKiQdnEo\n",
       "BTO0UCzSUMVgHfo6dUwmN21wqQRCOlXaLvFjcGtKi+BiIw5SQRK01djaxvvy7stNcz+eFhEs5w8P\n",
       "8nLeP+/j3lze73AOgKXPsF+tKaPe2EY2d0UYCtbUP9wWBcgbokggX1I6ywmAm7OiyONpQ+kcJeHR\n",
       "hCCgJyYKSmeebMuiywrAUlzpPAxw4ZQoMACptMqobSTH3wgjs1DOAJwrmp/dt/m4bxfgedwOWcdZ\n",
       "gWuL+ShoyW5zZ2qMdx4KA7RXaYgeV1cPQAfZC1rfvOCdHeSKvN/tULC76WLBFVY5U+T5+Td5p4d8\n",
       "H6qonBNkQFJF3vnevJNdlXOZ/PyxCOc8W1uBYGwnLXfmatnsagEE92lPe+k5bSmc7rST87zAqT/a\n",
       "TmhHYX3tmcxohiYL5nGiP6rjGiD7a7x0MgYjkkDcyekFFAq1X7l3nI64WJQETjs5XbP4fHEm4EzA\n",
       "8UShfkd6cb9OEwAUGqxdza6KmW9J7TS5zF8VRhZ21TdDKMezLYq0r1fVL7VVi5F4ffT9VDr95GZC\n",
       "x4UsGPzmhNnuJ6In5CloP5TO1OVkTvieHgB9SwyejMuCnXvAk+ru4sKGGDypLpFt2mgGT7roEXD5\n",
       "osSqLaijPQdHAbKdsJ3euakHHGabzy/fS50jw0l7DbxBsx+Wsy/eVhJgtrZjA9lQJ9AB0gnuQqxE\n",
       "nR/GoKMVg0LkiL4V6tR7uuGrdZexnQi8qr2173MG+lrnwdpWNne9gY/+hCcspMsumNdkTFZ3thmB\n",
       "tCGgS70CJ1/LnQRQy+AaMAR06cnAfQnWUUDtB9/DP6BLR0CV0qUjoDrTZRxQKBS+paJwPFE4E1Ao\n",
       "FK59uPbheOJ44niiUH9BmBqv60ClxpsWpNYkOU2NM9lJcis1zsQlya3UONu3k+R2apypNUlOU+NM\n",
       "NElOU+Mjw8nMvaciJ02Ne+emxn23jCYnTY0PdcIRGBc5aWrczJpnfBnmpKlxM+W9CfMiJ02Nm1nz\n",
       "3kC64Wykxv0JLQxnBM5GanwGJsFVaLpae7gNX1SvGKInRNUFd6Gs8c4yOas3mpZXZ+kVctbBdr46\n",
       "qx9CJX0mIq/O8mTgHXy6g9VZKBS+peJbKs4EnAk4njieqH8j7Ayq60B1BslFO4MEgXpnkEK0M4gX\n",
       "7QySy+4MElys2RnE6JKrzqKdQQxQaXUW7QxidMlVZ9HOIAaotDqLdgYxuuSqs6zOIAaotDqr0RnE\n",
       "6LKlOsvuDGKA2lKdxehSUp3FAHVvdRajS1l1FgPUvdVZjC49kuosBqj/YXXWL+hCnk4ghl+0AAAA\n",
       "AElFTkSuQmCC\n",
       "\" style=\"display:inline;vertical-align:middle;\" /></a>"
      ],
      "text/plain": [
       "A_{1,1} & B_{1,1} \\\\ \n",
       " \\colon & \\colon\\\\ \n",
       " A_{1,j} & B_{1,j} \\\\ \n",
       " \\colon & \\colon\\\\ \n",
       " A_{1,n} & B_{1,n} \\\\ \n",
       " \\colon & \\colon\\\\ \n",
       " \\colon & \\colon\\\\ \n",
       " A_{i,1} & B_{i,1} \\\\ \n",
       " \\colon & \\colon\\\\ \n",
       " A_{i,j} & B_{i,j} \\\\ \n",
       " \\colon & \\colon\\\\ \n",
       " A_{i,n} & B_{i,n} \\\\ \n",
       " \\colon & \\colon\\\\ \n",
       " \\colon & \\colon\\\\ \n",
       " A_{m,1} & B_{m,1} \\\\ \n",
       " \\colon & \\colon\\\\ \n",
       " A_{m,j} & B_{m,j} \\\\ \n",
       " \\colon & \\colon\\\\ \n",
       " A_{m,n} & B_{m,n}"
      ]
     },
     "execution_count": 44,
     "metadata": {},
     "output_type": "execute_result"
    }
   ],
   "source": [
    "ExprArray(ExprRange(i, ExprRange(j, ExprTuple(Aij, Bij), one, n), one, m)).withStyles(orientation='horizontal')#.withStyles(parameterization='explicit')"
   ]
  },
  {
   "cell_type": "code",
   "execution_count": 28,
   "metadata": {},
   "outputs": [
    {
     "data": {
      "text/html": [
       "<strong id=\"Apj\">Apj:</strong> <a class=\"ProveItLink\" href=\"__pv_it/ea3375c3d11f3fb972b4e6b6b1eeaf04df2a3f090/expr.ipynb\"><img src=\"data:image/png;base64,iVBORw0KGgoAAAANSUhEUgAAACUAAAAVBAMAAAAzyjqdAAAAMFBMVEX///8QEBAiIiLu7u5ERES6\n",
       "urqYmJiIiIjMzMx2dnZUVFRmZmaqqqoyMjLc3NwAAABb1yYoAAAAAXRSTlMAQObYZgAAAAlwSFlz\n",
       "AAAOxAAADsQBlSsOGwAAAMVJREFUGNNjYACBtwyY4D6mEM9/TDHu9Q8wxObNb0AX4iuoP4ChleF8\n",
       "ArpYDEP/BASPA0xuYHi/ACHGBDKb3Xv3egc0reYMDPwKaGIbgOoFGNi2p60Aq9gDJFiBdvJ+YGCL\n",
       "b2gCqzgLJB4CMcs/hsdVDO+BLGaD2QwMJv8vM/D4/53A4M5wEGzUNSRjJRhWg+l/SB78x6fMYAl0\n",
       "sgBCjO16tQFD4wEGdiTnc4O9d4CBF8nrTKCg4TG42ohkxfzNIAMYtgMpAPmfL/hsO7IDAAAAAElF\n",
       "TkSuQmCC\n",
       "\" style=\"display:inline;vertical-align:middle;\" /></a><br>"
      ],
      "text/plain": [
       "Apj: A_{p,j}"
      ]
     },
     "execution_count": 28,
     "metadata": {},
     "output_type": "execute_result"
    }
   ],
   "source": [
    "Apj = indexed_var(A,(p,j))"
   ]
  },
  {
   "cell_type": "code",
   "execution_count": 29,
   "metadata": {},
   "outputs": [
    {
     "data": {
      "text/html": [
       "<strong id=\"Bpj\">Bpj:</strong> <a class=\"ProveItLink\" href=\"__pv_it/47abf2e30365ae702f36cc6b8571cb12bcdaf6680/expr.ipynb\"><img src=\"data:image/png;base64,iVBORw0KGgoAAAANSUhEUgAAACUAAAAUBAMAAAD4luk4AAAAMFBMVEX///92dnaqqqoiIiLu7u5m\n",
       "Zma6urqIiIjc3NwQEBDMzMwyMjJUVFRERESYmJgAAAAeMT9/AAAAAXRSTlMAQObYZgAAAAlwSFlz\n",
       "AAAOxAAADsQBlSsOGwAAANZJREFUGNNjYGB4+//Omb0LGFDBXAYGnl+oQhzfGRjYvqKK8QHV8H1H\n",
       "FeP5wMDAPQNVjPMCA8thNDvWXy8//QDB5QIR9Q0MTPMQYswgLTeBWB5N7x8gfl+AIsT1D0icT+AL\n",
       "f3cKxHUPAhLsP4Divxn48hcsBokFaAMJ7gkMDJlbGFpqGPqBPBYHUaCL9/85c/oSkHedQRNs1j4k\n",
       "c2cxHAXTP5BC4geHCYMj0OgJSCGxvdSBYaUCA/sBhBirAIhUYOBG8iazApBgcti2EskK+RCQAQzh\n",
       "QAoANxI2pBcUAvIAAAAASUVORK5CYII=\n",
       "\" style=\"display:inline;vertical-align:middle;\" /></a><br>"
      ],
      "text/plain": [
       "Bpj: B_{p,j}"
      ]
     },
     "execution_count": 29,
     "metadata": {},
     "output_type": "execute_result"
    }
   ],
   "source": [
    "Bpj = indexed_var(B,(p,j))"
   ]
  },
  {
   "cell_type": "code",
   "execution_count": 30,
   "metadata": {},
   "outputs": [
    {
     "data": {
      "text/html": [
       "<strong id=\"Cjk\">Cjk:</strong> <a class=\"ProveItLink\" href=\"__pv_it/d03b5f196cc7930b80fba07155722cc1d3eedeff0/expr.ipynb\"><img src=\"data:image/png;base64,iVBORw0KGgoAAAANSUhEUgAAACMAAAAUBAMAAAD1iJl/AAAAMFBMVEX////MzMy6uroyMjJmZmYi\n",
       "IiKqqqoQEBB2dnbc3NyYmJhUVFRERESIiIju7u4AAACU7+9TAAAAAXRSTlMAQObYZgAAAAlwSFlz\n",
       "AAAOxAAADsQBlSsOGwAAAMlJREFUGNNjYGDgu7N7F2cDAzK4fo+BrXUBssibOCDhPwFZyPwBkFBH\n",
       "FuH4BiJFkIXmB4DIh8hC/RegDEa4ULwAlMEKYiwFKagHmc7wACrOrgBSBWKxwZTOZ4C5iIOB4a0b\n",
       "iLeG8wpQHKS7j4HBIRkktHfa8wkMbL8YGDIeMPA9aAEJVSwAWfzk9BaQmQxWQMz5xRHZgT+BmOuA\n",
       "KidChLGA4QUD9wVRDoQQ7wYG8QTmCdwLEULMwBBLQAlHI3Gggx+gCPn6AQ2HMAEfKC5Ms1aaywAA\n",
       "AABJRU5ErkJggg==\n",
       "\" style=\"display:inline;vertical-align:middle;\" /></a><br>"
      ],
      "text/plain": [
       "Cjk: C_{j,k}"
      ]
     },
     "execution_count": 30,
     "metadata": {},
     "output_type": "execute_result"
    }
   ],
   "source": [
    "Cjk = indexed_var(C,(j,k))"
   ]
  },
  {
   "cell_type": "code",
   "execution_count": 31,
   "metadata": {},
   "outputs": [
    {
     "data": {
      "text/html": [
       "<strong id=\"Dki\">Dki:</strong> <a class=\"ProveItLink\" href=\"__pv_it/7b570335cce2c6d9a4e5acab88a71dd46b7dc4900/expr.ipynb\"><img src=\"data:image/png;base64,iVBORw0KGgoAAAANSUhEUgAAACUAAAAUBAMAAAD4luk4AAAAMFBMVEX///8iIiLu7u52dna6uroQ\n",
       "EBBmZmbMzMyqqqqYmJjc3NwyMjJUVFRERESIiIgAAABmmfmVAAAAAXRSTlMAQObYZgAAAAlwSFlz\n",
       "AAAOxAAADsQBlSsOGwAAAMdJREFUGNNjYGB4+//O2T0LGFDBbwYGzh+oQuz/gEQqqhjfdyDhPwFF\n",
       "jPcDkFhvgCLGfwGk7gCKWP0DIPEerk4LRLwvABLnHTjlIGJ2IOI+iPjKwBCCpPcvEHP+ZOD6gOY8\n",
       "1QsMnBfWJQBZfgegzmPazcDA86opCsg1+gQkuIF6HIEqWC0ZgJZxaQgApff/OXM3C+TqtAKwDx4g\n",
       "WTWXRQAUOPrqSGLn2AUMmAwYupmRxHYxnCxgj2DQeYUWkgwcDJigCYsYOBQBVPAzH4cee14AAAAA\n",
       "SUVORK5CYII=\n",
       "\" style=\"display:inline;vertical-align:middle;\" /></a><br>"
      ],
      "text/plain": [
       "Dki: D_{k,i}"
      ]
     },
     "execution_count": 31,
     "metadata": {},
     "output_type": "execute_result"
    }
   ],
   "source": [
    "Dki = indexed_var(D,(k,i))"
   ]
  },
  {
   "cell_type": "code",
   "execution_count": 32,
   "metadata": {},
   "outputs": [
    {
     "data": {
      "text/html": [
       "<strong id=\"C_i_to_k\">C_i_to_k:</strong> <a class=\"ProveItLink\" href=\"__pv_it/ca10a48bfe5582bc76fbbd1d91411469b61ed2570/expr.ipynb\"><img src=\"data:image/png;base64,iVBORw0KGgoAAAANSUhEUgAAAFsAAAASBAMAAADGT78OAAAAMFBMVEX////MzMy6uroyMjJmZmYi\n",
       "IiKqqqoQEBB2dnbc3NyYmJhUVFRERESIiIju7u4AAACU7+9TAAAAAXRSTlMAQObYZgAAAAlwSFlz\n",
       "AAAOxAAADsQBlSsOGwAAAQxJREFUKM9jYGDgu7N7F2cDAx6AouL6PQa21gX4lCOreBMHJPwn4FGN\n",
       "osL8AZBQx2c4sgqObyBSBI9qFBXzA0DkQzzKUVT0X4D6HqfrYSrAIF4AauUFXMphKpaCVNSD/MHw\n",
       "AI9jYCrYFUB6QWw2ATzKYSrmM8DCk4OB6TZO5VAVDGs4rwD9DXJRHwPH+wcMfJhKQe6AqmDYO+35\n",
       "BAa2XwwMGQ8Y5qUyMLw3AAbQZwYIA8GDqmCoWMAI5D05vQXkh7MMDKygyA4BYlYHGBH6AK6C84sj\n",
       "UqL7B/RtHoZj2BBBxnVAlRMhbgBMoJipmAPB5L4giuDx7Z3AwIcZU28RTOYJ3AtR5LgwQwY9GwAA\n",
       "H09S1FTa3BwAAAAASUVORK5CYII=\n",
       "\" style=\"display:inline;vertical-align:middle;\" /></a><br>"
      ],
      "text/plain": [
       "C_i_to_k: C_{i}, ..C_{_a}.., C_{k}"
      ]
     },
     "execution_count": 32,
     "metadata": {},
     "output_type": "execute_result"
    }
   ],
   "source": [
    "C_i_to_k = varRange(C, i, k)"
   ]
  },
  {
   "cell_type": "code",
   "execution_count": 33,
   "metadata": {},
   "outputs": [
    {
     "data": {
      "text/html": [
       "<strong id=\"D_j_to_i\">D_j_to_i:</strong> <a class=\"ProveItLink\" href=\"__pv_it/8f31064f94d1e2f9dc574437c610f040402b259a0/expr.ipynb\"><img src=\"data:image/png;base64,iVBORw0KGgoAAAANSUhEUgAAAF0AAAAUBAMAAAAdCCxUAAAAMFBMVEX///92dnaqqqoiIiLu7u5m\n",
       "Zma6urqIiIjc3NwQEBDMzMwyMjJUVFRERESYmJgAAAAeMT9/AAAAAXRSTlMAQObYZgAAAAlwSFlz\n",
       "AAAOxAAADsQBlSsOGwAAAUtJREFUKM9jYGB4+//Omb0LGPABvvt/z5y+BePNZWDg+YVXPQPnBQaG\n",
       "81AzOb4zMLB9xa++v4CBIT8AahnQbL7v+NW/B5r9vgDC5vnAwMA9A7/680C8swHuNpbD+P0L8qKP\n",
       "FZS9/nr56QdAmgu3cq6/5TX7gLQHiFPfwMA0D0gz47aD/QcDgybQTHEQ5yYQy+N3D+8EBgZGWJD/\n",
       "YUD4HQfgP4AIQq5/IP8nMLgH4Va/HugWnm8M6QegbuP6zcAQoM3AwIKhEiIC9CLD+g0MIl+AbG6g\n",
       "2zK3MLA4iDIw+G8AqgDqRWUAgx6YAmY7cDgZAK3Z/+fM6UsgQWCAMZsAaVNQWAXAGCCR0//PnNmr\n",
       "APQ2ii+B7mJQwXAQsoi/F3KcAN3FIIChHllEmxE5ToCeZ8EIVhQRnwokDjcwzPgwcwquIN62koEk\n",
       "EB5ClDIAAKBYFJx/7nMAAAAASUVORK5CYII=\n",
       "\" style=\"display:inline;vertical-align:middle;\" /></a><br>"
      ],
      "text/plain": [
       "D_j_to_i: B_{j}, ..B_{_a}.., B_{i}"
      ]
     },
     "execution_count": 33,
     "metadata": {},
     "output_type": "execute_result"
    }
   ],
   "source": [
    "D_j_to_i = varRange(B, j, i)"
   ]
  },
  {
   "cell_type": "code",
   "execution_count": 34,
   "metadata": {},
   "outputs": [
    {
     "name": "stdout",
     "output_type": "stream",
     "text": [
      "Expected error: One or more rows are a different length.  Please double check your entries.\n"
     ]
    }
   ],
   "source": [
    "try:\n",
    "    ExprArray(ExprTuple(A, B, C, A, B, A), ExprTuple(D, E, F, D, E, F, D), ExprTuple(G, H, I, G, H, I, G))\n",
    "    assert False, \"Expected a ValueError error.\"\n",
    "except ValueError as e:\n",
    "    print(\"Expected error:\", e)"
   ]
  },
  {
   "cell_type": "code",
   "execution_count": 35,
   "metadata": {},
   "outputs": [
    {
     "name": "stdout",
     "output_type": "stream",
     "text": [
      "Expected error: The ExprRange in the first tuple is not in the same column as the ExprRange in tuple number 1\n"
     ]
    }
   ],
   "source": [
    "try:\n",
    "    ExprArray(ExprTuple(B_i_to_j, A, B, C), ExprTuple(D, E, F, D_i_to_j))\n",
    "    assert False, \"Expected a ValueError error.\"\n",
    "except ValueError as e:\n",
    "    print(\"Expected error:\", e)"
   ]
  },
  {
   "cell_type": "code",
   "execution_count": 36,
   "metadata": {},
   "outputs": [
    {
     "name": "stdout",
     "output_type": "stream",
     "text": [
      "Expected error: The ExprRange in the first tuple is not in the same column as the ExprRange in tuple number 1\n"
     ]
    }
   ],
   "source": [
    "try:\n",
    "    ExprArray(ExprTuple(A, B, C, B_i_to_j), ExprTuple(D_i_to_j, D, E, F))\n",
    "    assert False, \"Expected a ValueError error.\"\n",
    "except ValueError as e:\n",
    "    print(\"Expected error:\", e)"
   ]
  },
  {
   "cell_type": "code",
   "execution_count": 37,
   "metadata": {},
   "outputs": [
    {
     "name": "stdout",
     "output_type": "stream",
     "text": [
      "Expected error: Rows containing ExprRanges must agree for every column. 1 is not equal to p.\n"
     ]
    }
   ],
   "source": [
    "try:\n",
    "    ExprArray(ExprRange(i, ExprTuple(ExprRange(j, Aij, one, n), ExprRange(j, Bpj, one, k)),one,m))\n",
    "    assert False, \"Expected a ValueError error.\"\n",
    "except ValueError as e:\n",
    "    print(\"Expected error:\", e)"
   ]
  },
  {
   "cell_type": "code",
   "execution_count": 38,
   "metadata": {},
   "outputs": [
    {
     "name": "stdout",
     "output_type": "stream",
     "text": [
      "Expected error: Columns containing ExprRanges must agree for every row. i is not equal to j.\n"
     ]
    }
   ],
   "source": [
    "try:\n",
    "    ExprArray(ExprTuple(C_i_to_j, D_j_to_i), ExprTuple(A_i_to_j, B_i_to_j))\n",
    "    assert False, \"Expected a ValueError error.\"\n",
    "except ValueError as e:\n",
    "    print(\"Expected error:\", e)"
   ]
  },
  {
   "cell_type": "code",
   "execution_count": 39,
   "metadata": {},
   "outputs": [
    {
     "name": "stdout",
     "output_type": "stream",
     "text": [
      "Expected error: Rows containing ExprRanges must agree for every column. j is not equal to k.\n"
     ]
    }
   ],
   "source": [
    "try:\n",
    "    ExprArray(ExprRange(i, ExprTuple(Apj, Bij, Cjk, Dki),one,m))\n",
    "    assert False, \"Expected a ValueError error.\"\n",
    "except ValueError as e:\n",
    "    print(\"Expected error:\", e)"
   ]
  },
  {
   "cell_type": "code",
   "execution_count": 40,
   "metadata": {},
   "outputs": [
    {
     "name": "stdout",
     "output_type": "stream",
     "text": [
      "Expected error: ExprArrays of ExprRanges of ExprRanges are one-dimensional and therefore not valid ExprArrays.  Please wrap either the second ExprRange in an ExprTuple or place an ExprTuple in the second ExprRange.\n"
     ]
    }
   ],
   "source": [
    "try:\n",
    "    ExprArray(ExprRange(i, ExprRange(j, Aij, one, n), one, m)).latex()\n",
    "    assert False, \"Expected a ValueError error.\"\n",
    "except ValueError as e:\n",
    "    print(\"Expected error:\", e)"
   ]
  },
  {
   "cell_type": "code",
   "execution_count": 41,
   "metadata": {},
   "outputs": [
    {
     "name": "stdout",
     "output_type": "stream",
     "text": [
      "Expected error: Nested ExprTuples are not supported. Fencing is an extraneous feature for the ExprArray class.\n"
     ]
    }
   ],
   "source": [
    "try:\n",
    "    ExprArray(ExprTuple(A,B,C,D),\n",
    "              ExprRange(i, ExprTuple(ExprTuple(Apj, Bij), ExprTuple(Cjk, Dki)),one,m), \n",
    "              ExprTuple(A,B,C,D))\n",
    "    assert False, \"Expected a ValueError error.\"\n",
    "except ValueError as e:\n",
    "    print(\"Expected error:\", e)"
   ]
  },
  {
   "cell_type": "code",
   "execution_count": 42,
   "metadata": {},
   "outputs": [
    {
     "name": "stdout",
     "output_type": "stream",
     "text": [
      "Expected error: Contents of an ExprArray must be wrapped in either an ExprRange or ExprTuple.\n"
     ]
    }
   ],
   "source": [
    "try:\n",
    "    ExprArray(E, F, ExprTuple(A,B), C, D)\n",
    "    assert False, \"Expected a ValueError error.\"\n",
    "except ValueError as e:\n",
    "    print(\"Expected error:\", e)"
   ]
  },
  {
   "cell_type": "code",
   "execution_count": null,
   "metadata": {},
   "outputs": [],
   "source": []
  },
  {
   "cell_type": "code",
   "execution_count": null,
   "metadata": {},
   "outputs": [],
   "source": []
  },
  {
   "cell_type": "code",
   "execution_count": 43,
   "metadata": {},
   "outputs": [],
   "source": [
    "%end demonstrations"
   ]
  }
 ],
 "metadata": {
  "kernelspec": {
   "display_name": "Python 3",
   "language": "python",
   "name": "python3"
  },
  "language_info": {
   "codemirror_mode": {
    "name": "ipython",
    "version": 3
   },
   "file_extension": ".py",
   "mimetype": "text/x-python",
   "name": "python",
   "nbconvert_exporter": "python",
   "pygments_lexer": "ipython3",
   "version": "3.7.3"
  }
 },
 "nbformat": 4,
 "nbformat_minor": 1
}
