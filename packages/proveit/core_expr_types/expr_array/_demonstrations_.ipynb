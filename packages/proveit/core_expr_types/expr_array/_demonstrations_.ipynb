{
 "cells": [
  {
   "cell_type": "markdown",
   "metadata": {},
   "source": [
    "Demonstrations for context <a class=\"ProveItLink\" href=\"_context_.ipynb\">proveit.core_expr_types.expr_array</a>\n",
    "========"
   ]
  },
  {
   "cell_type": "code",
   "execution_count": 1,
   "metadata": {},
   "outputs": [],
   "source": [
    "import proveit\n",
    "proveit.defaults.automation = False\n",
    "from proveit import ExprRange, ExprTuple, IndexedVar, varRange, ExprArray\n",
    "from proveit._common_ import A, B, C, D, E, F, G, H, I, i, j, k, m, n, p, q\n",
    "from proveit.number import one\n",
    "%begin demonstrations"
   ]
  },
  {
   "cell_type": "code",
   "execution_count": 2,
   "metadata": {},
   "outputs": [
    {
     "data": {
      "text/html": [
       "<strong id=\"A_i_to_j\">A_i_to_j:</strong> <a class=\"ProveItLink\" href=\"__pv_it/ca38b54d56d724342439c22505ad7c0c6619085c0/expr.ipynb\"><img src=\"data:image/png;base64,iVBORw0KGgoAAAANSUhEUgAAAFwAAAAVBAMAAAA5lpTPAAAAMFBMVEX///8QEBAiIiLu7u5ERES6\n",
       "urqYmJiIiIjMzMx2dnZUVFRmZmaqqqoyMjLc3NwAAABb1yYoAAAAAXRSTlMAQObYZgAAAAlwSFlz\n",
       "AAAOxAAADsQBlSsOGwAAATRJREFUKM9jYACBtwyEAN8FJM59gsp5PyDYPP8JKj+PpJx7/QNCynf9\n",
       "Q7DnzW8goJrz5Q+ENwrqDxBQ/pz9D8ItDOcTCCjfwPMNzo5h6J/AwMCMx/2sBzh+gmiwmzcwvF8A\n",
       "dF4BbuXcDHy/QLQGELN7717vgN8tJbt3fYGxzRkY+BXwqmYGWvwJ7g0GBiYBBtYqfG5hYFAE6qoG\n",
       "BiBrAjiKOe0NGJgxVRqAiDBIOuHmASach0A2yz+Gx4cYGOyBXOa/DEgMMMEnACT8HzAYc25gMPl/\n",
       "mYHH/+8EBnegm5SB4tpAzLQBymBQAtrp/9eA4cj/m0BHIKKH+TMwUA9jOIbHAInDj4gangvAqJqA\n",
       "mViQOY1IgbX8ATjA0IA5Mgct8NgwQwYlMV1jIAHwRgiQopy72oABADmySicQoA+ZAAAAAElFTkSu\n",
       "QmCC\n",
       "\" style=\"display:inline;vertical-align:middle;\" /></a><br>"
      ],
      "text/plain": [
       "A_i_to_j: A_{i}, ..A_{_a}.., A_{j}"
      ]
     },
     "execution_count": 2,
     "metadata": {},
     "output_type": "execute_result"
    }
   ],
   "source": [
    "A_i_to_j = varRange(A, i, j)"
   ]
  },
  {
   "cell_type": "code",
   "execution_count": 3,
   "metadata": {},
   "outputs": [
    {
     "data": {
      "text/html": [
       "<strong id=\"B_i_to_j\">B_i_to_j:</strong> <a class=\"ProveItLink\" href=\"__pv_it/959234874fea02187754c06137da15412e9f7f180/expr.ipynb\"><img src=\"data:image/png;base64,iVBORw0KGgoAAAANSUhEUgAAAFwAAAAUBAMAAADyykdqAAAAMFBMVEX///92dnaqqqoiIiLu7u5m\n",
       "Zma6urqIiIjc3NwQEBDMzMwyMjJUVFRERESYmJgAAAAeMT9/AAAAAXRSTlMAQObYZgAAAAlwSFlz\n",
       "AAAOxAAADsQBlSsOGwAAAVJJREFUKM+VUbFKw1AUPUlfqyYx9g8UdHFWF6c3CC5C8wmuupildCmY\n",
       "wd2OgiiuTsng0qFVcHBIoMWlKIL5AamDWrGt9cakTTDmQR/cvHPD4dxzzwPwMnryGhcQHP156LmP\n",
       "4+4M0L5EdMy1gVakONsDCu9C+rEJHBjRKFLWe0J6l5S7Zoi1V0A9EdJbVHVrYozdClcNttvZjLDd\n",
       "qbg+wKxMtjKsVJsBCEQPLcjngGRm0mc+gVVSRDDhgWpRaGa+RmrjqAeI1/7/LNzE2Snfweq7hWo2\n",
       "3SYj2gdYeSk0pvQhlThYmskRbgfbQV52KHIytneFo2WgRC3rIwF+P6jTs59ybEkGtOuB597Tvw6Q\n",
       "W6d7gypnRABrJO+OPK9BPqD6k6nsjcJZSZmReXLl+GlkpwgUU3Qp2VzGkN1ZYOk4t5PNn/D0dDJ+\n",
       "smliiqPu16ah58scP2ksWxGU0D36AAAAAElFTkSuQmCC\n",
       "\" style=\"display:inline;vertical-align:middle;\" /></a><br>"
      ],
      "text/plain": [
       "B_i_to_j: B_{i}, ..B_{_a}.., B_{j}"
      ]
     },
     "execution_count": 3,
     "metadata": {},
     "output_type": "execute_result"
    }
   ],
   "source": [
    "B_i_to_j = varRange(B, i, j)"
   ]
  },
  {
   "cell_type": "code",
   "execution_count": 4,
   "metadata": {},
   "outputs": [
    {
     "data": {
      "text/html": [
       "<strong id=\"C_i_to_j\">C_i_to_j:</strong> <a class=\"ProveItLink\" href=\"__pv_it/6d9a94acc3f305ef111673f6c5ffabcfac7e49ef0/expr.ipynb\"><img src=\"data:image/png;base64,iVBORw0KGgoAAAANSUhEUgAAAFkAAAAUBAMAAAAU44wuAAAAMFBMVEX////MzMy6uroyMjJmZmYi\n",
       "IiKqqqoQEBB2dnbc3NyYmJhUVFRERESIiIju7u4AAACU7+9TAAAAAXRSTlMAQObYZgAAAAlwSFlz\n",
       "AAAOxAAADsQBlSsOGwAAAQ1JREFUKM9jYGDgu7N7F2cDAx6ArOL6PQa21gX4VCOpeBMHJPwn4FGM\n",
       "rML8AZBQx2c0kgqObyBSBI9iZBXzA0DkQzyqkVX0X4D6G6fLYSoYGBkY4gWg9l3ApRqmgoFVgKEe\n",
       "5AWGB3hcgqwiHkSwCeBRjawCHI4cDEy3caqGqmB46wb0Mci9fQwc7x8w8GGqBNkPVcHgkAy04hcD\n",
       "Q8YDhnmpDAzvDYBB85kBiQEmoCr4HrQAOU9Ob1EAUmeBfgbFcAjI8w5QBkPoA4QKBitEMvsH9EYe\n",
       "hkvYkAPrJ0LYAJgiMZMtBxKbsQBh9t4JDHyYEfQWic27AUWKCzNMkJM9M948gAaMxElQzODrx8AA\n",
       "ALhvTffAd36VAAAAAElFTkSuQmCC\n",
       "\" style=\"display:inline;vertical-align:middle;\" /></a><br>"
      ],
      "text/plain": [
       "C_i_to_j: C_{i}, ..C_{_a}.., C_{j}"
      ]
     },
     "execution_count": 4,
     "metadata": {},
     "output_type": "execute_result"
    }
   ],
   "source": [
    "C_i_to_j = varRange(C, i, j)"
   ]
  },
  {
   "cell_type": "code",
   "execution_count": 5,
   "metadata": {},
   "outputs": [
    {
     "data": {
      "text/html": [
       "<strong id=\"D_i_to_j\">D_i_to_j:</strong> <a class=\"ProveItLink\" href=\"__pv_it/8ad31dbbd5fdf4367b4dc97a816bceaf3432156f0/expr.ipynb\"><img src=\"data:image/png;base64,iVBORw0KGgoAAAANSUhEUgAAAF4AAAAUBAMAAAD2P5dXAAAAMFBMVEX///8iIiLu7u52dna6uroQ\n",
       "EBBmZmbMzMyqqqqYmJjc3NwyMjJUVFRERESIiIgAAABmmfmVAAAAAXRSTlMAQObYZgAAAAlwSFlz\n",
       "AAAOxAAADsQBlSsOGwAAARVJREFUKM9jYGB4+//O2T0LGPABVCW/GRg4f+BVj6KE/R+QSMWrHEUJ\n",
       "33cg4T8Bn3oUJbwfgMR6A3zqUZTwXwBpPoBPPYqS+gdA4r0BgxZu9TAlDAUgGkScd2Cww60epoRB\n",
       "HEjfB4l8xRs+KEr+AjHnT7zqkZWAw1b1AoPfAfzBD1TC9KwBErZMuxkYjD4xMChgKGWCBT9ICRvH\n",
       "BgYGbmDYOiYwcGkIMDABo51BHygGZ0AIqBIGJeYEBp79f87czQLFCTDMBIEWMAIlGMQYoAxGIQaE\n",
       "EgZupFSgr87AwIHpoCaUeENKxt3MDAzMmH5FSSelSGydVwwMepj+fYDMe4Mmi5lIOVF4OxlIAdzu\n",
       "ASSpZ3umwAAAw39WT+uAG1IAAAAASUVORK5CYII=\n",
       "\" style=\"display:inline;vertical-align:middle;\" /></a><br>"
      ],
      "text/plain": [
       "D_i_to_j: D_{i}, ..D_{_a}.., D_{j}"
      ]
     },
     "execution_count": 5,
     "metadata": {},
     "output_type": "execute_result"
    }
   ],
   "source": [
    "D_i_to_j = varRange(D, i, j)"
   ]
  },
  {
   "cell_type": "code",
   "execution_count": 6,
   "metadata": {},
   "outputs": [
    {
     "data": {
      "text/html": [
       "<strong id=\"Aij\">Aij:</strong> <a class=\"ProveItLink\" href=\"__pv_it/bc220cf6f9ad8897599300b95f032c47069b85af0/expr.ipynb\"><img src=\"data:image/png;base64,iVBORw0KGgoAAAANSUhEUgAAACIAAAAVBAMAAADRFiHkAAAAMFBMVEX///8QEBAiIiLu7u5ERES6\n",
       "urqYmJiIiIjMzMx2dnZUVFRmZmaqqqoyMjLc3NwAAABb1yYoAAAAAXRSTlMAQObYZgAAAAlwSFlz\n",
       "AAAOxAAADsQBlSsOGwAAALpJREFUGNNjYACBtwzo4D66AM9/dBHu9Q/QRObNb0AV4CuoP4CmieF8\n",
       "AqpIDEP/BAYGZohZYP0bGN4vYGDgLACLaAAxu/fu9Q4omswZGPgVUEQ2MDAwCTCwVoHYzNVAW1mB\n",
       "9vB+YOC0NwBZy3OBgeEhkMHyj+HxIZAaY84NDCb/LzPw+P+dwOAONoIX4TLmz2CX8CN8yHNhAjPQ\n",
       "nY0IG5mXP+CQYWCoQgsnBoZrqCKHeSMEUEUSuKsNGACJyCnZCzsY/AAAAABJRU5ErkJggg==\n",
       "\" style=\"display:inline;vertical-align:middle;\" /></a><br>"
      ],
      "text/plain": [
       "Aij: A_{i, j}"
      ]
     },
     "execution_count": 6,
     "metadata": {},
     "output_type": "execute_result"
    }
   ],
   "source": [
    "Aij = IndexedVar(A,(i,j))"
   ]
  },
  {
   "cell_type": "code",
   "execution_count": 7,
   "metadata": {},
   "outputs": [
    {
     "data": {
      "text/html": [
       "<strong id=\"Bij\">Bij:</strong> <a class=\"ProveItLink\" href=\"__pv_it/d43f7cd19a22e17459961efdd2a643e2760134080/expr.ipynb\"><img src=\"data:image/png;base64,iVBORw0KGgoAAAANSUhEUgAAACIAAAAUBAMAAAAaSvJBAAAAMFBMVEX///92dnaqqqoiIiLu7u5m\n",
       "Zma6urqIiIjc3NwQEBDMzMwyMjJUVFRERESYmJgAAAAeMT9/AAAAAXRSTlMAQObYZgAAAAlwSFlz\n",
       "AAAOxAAADsQBlSsOGwAAAM5JREFUGNNjYGB4+//Omb0LGJDBXAYGnl/IAhzfGRjYviKL8AHl+b4j\n",
       "i/B8YGDgnoEswnmBgeUwisnrr5effsDAwNIA5oGk6hsYmOYxMDAWgEWsgPgmEMuj6PoDxO8LkAS4\n",
       "/gGJ8wlsNSAOS6kCAwP7D6DobwZGfwegCCvTBqBTJjAwZG5haFEGqXFhDGDg2f/nzOlLQM51sBnc\n",
       "D+DGsXwBW8ffABdh2iDAIsDAsBJhJcvxBq5JDAw1KOHEwMTAsA9VRIU7awKqyAPWUgcGAEE9MpOO\n",
       "K1uqAAAAAElFTkSuQmCC\n",
       "\" style=\"display:inline;vertical-align:middle;\" /></a><br>"
      ],
      "text/plain": [
       "Bij: B_{i, j}"
      ]
     },
     "execution_count": 7,
     "metadata": {},
     "output_type": "execute_result"
    }
   ],
   "source": [
    "Bij = IndexedVar(B,(i,j))"
   ]
  },
  {
   "cell_type": "code",
   "execution_count": 8,
   "metadata": {},
   "outputs": [
    {
     "data": {
      "text/html": [
       "<strong id=\"Cij\">Cij:</strong> <a class=\"ProveItLink\" href=\"__pv_it/25f4d43d68ad9f10ebeb062b676121593ec65dbe0/expr.ipynb\"><img src=\"data:image/png;base64,iVBORw0KGgoAAAANSUhEUgAAACAAAAAUBAMAAAAevyJ8AAAAMFBMVEX////MzMy6uroyMjJmZmYi\n",
       "IiKqqqoQEBB2dnbc3NyYmJhUVFRERESIiIju7u4AAACU7+9TAAAAAXRSTlMAQObYZgAAAAlwSFlz\n",
       "AAAOxAAADsQBlSsOGwAAALlJREFUGNNjYGDgu7N7F2cDAwJcv8fA1roAwX8TByT8JyAEzB8ACXUE\n",
       "n+MbiBRBCMwPAJEPEQL9FyA0H8QUAYZ4AahWiEQgQz3ITIYHCC3xIIJNACEAdgEHA9NtsEFXEhjm\n",
       "g/T2MXC8B+liYTNgYPvFwJDxgGFeKkjFOw4HBoYnp7coANlnwQYww/3E9w9sLj/cT2wGDXzAIBCH\n",
       "W8a3dwJjGQPDbQZkwMbAYIUikMesWIAisIDlygMGAHCwK1B2/vnFAAAAAElFTkSuQmCC\n",
       "\" style=\"display:inline;vertical-align:middle;\" /></a><br>"
      ],
      "text/plain": [
       "Cij: C_{i, j}"
      ]
     },
     "execution_count": 8,
     "metadata": {},
     "output_type": "execute_result"
    }
   ],
   "source": [
    "Cij = IndexedVar(C,(i,j))"
   ]
  },
  {
   "cell_type": "code",
   "execution_count": 9,
   "metadata": {},
   "outputs": [
    {
     "data": {
      "text/html": [
       "<strong id=\"Dij\">Dij:</strong> <a class=\"ProveItLink\" href=\"__pv_it/5002fda97c89d5b5cc8182907a06d1327a8b58ec0/expr.ipynb\"><img src=\"data:image/png;base64,iVBORw0KGgoAAAANSUhEUgAAACMAAAAUBAMAAAD1iJl/AAAAMFBMVEX///8iIiLu7u52dna6uroQ\n",
       "EBBmZmbMzMyqqqqYmJjc3NwyMjJUVFRERESIiIgAAABmmfmVAAAAAXRSTlMAQObYZgAAAAlwSFlz\n",
       "AAAOxAAADsQBlSsOGwAAAMJJREFUGNNjYGB4+//O2T0LGFDAbwYGzh8oIuz/gEQqihDfdyDhPwFZ\n",
       "iPcDkFhvgCzEfwGk6gCyUP0DIPHegEELYjKIeF8AJM47MNiBhRhBvPsg1lcUG/8CMedPDGepXmDw\n",
       "A1uglwF1FtNuBgajTyChhG4gwQ10lmMCA5eGAJDDpGDGwMCz/8+Zu1kgFz8Am7MTyUx9dTD1C0mo\n",
       "m5lBGWhZAJKQziuG0gYGvgOoAcfQwMA9AVWEQ2FLKZoiToa8JAYGAA1QL0Av+pVfAAAAAElFTkSu\n",
       "QmCC\n",
       "\" style=\"display:inline;vertical-align:middle;\" /></a><br>"
      ],
      "text/plain": [
       "Dij: D_{i, j}"
      ]
     },
     "execution_count": 9,
     "metadata": {},
     "output_type": "execute_result"
    }
   ],
   "source": [
    "Dij = IndexedVar(D,(i,j))"
   ]
  },
  {
   "cell_type": "code",
   "execution_count": 10,
   "metadata": {},
   "outputs": [
    {
     "data": {
      "text/html": [
       "<strong id=\"Eij\">Eij:</strong> <a class=\"ProveItLink\" href=\"__pv_it/2ccc9fb84c5668283e8d292d5efc3ace796607520/expr.ipynb\"><img src=\"data:image/png;base64,iVBORw0KGgoAAAANSUhEUgAAACEAAAAUBAMAAADxfUlCAAAAMFBMVEX///+qqqrc3NyYmJjMzMxm\n",
       "Zmbu7u52dna6uroyMjIiIiJUVFQQEBBERESIiIgAAAD3YE8vAAAAAXRSTlMAQObYZgAAAAlwSFlz\n",
       "AAAOxAAADsQBlSsOGwAAAMJJREFUGNNjYGB4e+b27ltnGZDBTyB+iyzA8R1IpCKLsP8AEnnIIpwf\n",
       "GPgYWJBF+C8wNKOYy9C/eu8nIJUE5oDV1juwLABSdWARLgcgMZ+BIYAhAVnXXwYGBbYHyM75ByT4\n",
       "Evo2gDh5gSDnfAES2gxl30AiAZIgsz4A1Z1gSgSZzpZQysCQPf/37r3nJzDwQkyajDAuPwVMfUKI\n",
       "SLIzpAMdeAAhkv2IwUeAgW8Dqn8EGDgNUAQYE2b4oCphZogLY2AAANhvLRMUalQZAAAAAElFTkSu\n",
       "QmCC\n",
       "\" style=\"display:inline;vertical-align:middle;\" /></a><br>"
      ],
      "text/plain": [
       "Eij: E_{i, j}"
      ]
     },
     "execution_count": 10,
     "metadata": {},
     "output_type": "execute_result"
    }
   ],
   "source": [
    "Eij = IndexedVar(E, (i,j))"
   ]
  },
  {
   "cell_type": "code",
   "execution_count": 11,
   "metadata": {},
   "outputs": [
    {
     "data": {
      "text/html": [
       "<strong id=\"Fij\">Fij:</strong> <a class=\"ProveItLink\" href=\"__pv_it/1501c29287d8cc5c82b085b7990e88b97ff6d8770/expr.ipynb\"><img src=\"data:image/png;base64,iVBORw0KGgoAAAANSUhEUgAAAB8AAAAUBAMAAACHR/vJAAAAMFBMVEX///9mZmbu7u4iIiLc3Nyq\n",
       "qqq6urp2dnbMzMwyMjKYmJhUVFQQEBBERESIiIgAAAAXoWMmAAAAAXRSTlMAQObYZgAAAAlwSFlz\n",
       "AAAOxAAADsQBlSsOGwAAALdJREFUGNNjYGB4e+b27junGJDATyCehcTn+A4kliEJ8H0DEiFIArwf\n",
       "GFgYApAE+CcwdCEbyZBfwDKFgUEFYh6IqL99+QADQx1YgLkBSMxXYBJgQHUGUwIynw3kDIa8DSBS\n",
       "TxRIsP8AMYs+gUiBSCDB+QFIsKgaAEkmhUIGBu35v7eAXPcArB/hJX0NMPUFLhDJzqAOdNcBuID2\n",
       "E4aeAAa+DSgOCmDgXIDMZ1WY1oOigItBToiBAQA5qCaJDQWq8AAAAABJRU5ErkJggg==\n",
       "\" style=\"display:inline;vertical-align:middle;\" /></a><br>"
      ],
      "text/plain": [
       "Fij: F_{i, j}"
      ]
     },
     "execution_count": 11,
     "metadata": {},
     "output_type": "execute_result"
    }
   ],
   "source": [
    "Fij = IndexedVar(F, (i,j))"
   ]
  },
  {
   "cell_type": "code",
   "execution_count": 12,
   "metadata": {},
   "outputs": [
    {
     "data": {
      "text/html": [
       "<a class=\"ProveItLink\" href=\"__pv_it/bc220cf6f9ad8897599300b95f032c47069b85af0/expr.ipynb\"><img src=\"data:image/png;base64,iVBORw0KGgoAAAANSUhEUgAAACIAAAAVBAMAAADRFiHkAAAAMFBMVEX///8QEBAiIiLu7u5ERES6\n",
       "urqYmJiIiIjMzMx2dnZUVFRmZmaqqqoyMjLc3NwAAABb1yYoAAAAAXRSTlMAQObYZgAAAAlwSFlz\n",
       "AAAOxAAADsQBlSsOGwAAALpJREFUGNNjYACBtwzo4D66AM9/dBHu9Q/QRObNb0AV4CuoP4CmieF8\n",
       "AqpIDEP/BAYGZohZYP0bGN4vYGDgLACLaAAxu/fu9Q4omswZGPgVUEQ2MDAwCTCwVoHYzNVAW1mB\n",
       "9vB+YOC0NwBZy3OBgeEhkMHyj+HxIZAaY84NDCb/LzPw+P+dwOAONoIX4TLmz2CX8CN8yHNhAjPQ\n",
       "nY0IG5mXP+CQYWCoQgsnBoZrqCKHeSMEUEUSuKsNGACJyCnZCzsY/AAAAABJRU5ErkJggg==\n",
       "\" style=\"display:inline;vertical-align:middle;\" /></a>"
      ],
      "text/plain": [
       "A_{i, j}"
      ]
     },
     "execution_count": 12,
     "metadata": {},
     "output_type": "execute_result"
    }
   ],
   "source": [
    "ExprRange(j, Aij, one, n).withStyles(parameterization='explicit').body"
   ]
  },
  {
   "cell_type": "code",
   "execution_count": 13,
   "metadata": {},
   "outputs": [
    {
     "data": {
      "text/html": [
       "<a class=\"ProveItLink\" href=\"__pv_it/1bfd2185633bd7729a741158370c1a32e814b3f60/expr.ipynb\"><img src=\"data:image/png;base64,iVBORw0KGgoAAAANSUhEUgAAAmoAAAAXBAMAAABJ3356AAAAMFBMVEX////MzMxUVFREREQiIiK6\n",
       "uroQEBCYmJhmZmYyMjLu7u52dnaqqqqIiIjc3NwAAACFAiZ1AAAAAXRSTlMAQObYZgAAAAlwSFlz\n",
       "AAAOxAAADsQBlSsOGwAABRpJREFUWMPNWF+IG0UY/3YvyV42yV4epG/lYhDkHkKiDyJivRRERFSO\n",
       "Uk6EiqcixT+U1FNoX7zYlx6UwkGhhVO8YMEichh8Kb5owMOH86HLtaCIZ0MVpdaSu57FO7WN828v\n",
       "Mzs7s7P0RAcy2cz+5je/+eb7Zr4JAHThvy4xCjz4XxUip9Ahz1eNe13dcR3P6V9/T8XOJZnZ3L9n\n",
       "tbSPqq/p84Jxr0ikM75RHrvPqP90//7yqSLfwhZOUfJt8pVdSzAzJTiBzkipbBVduir5vimTApmp\n",
       "AVSLRgwvAdjrQsu8Dv4R/bqQxGpqcAKdkVLxkrRguEGehqum25sC2UN++3zTKHpuIS/fFJqO6PDH\n",
       "6dex2wmspgab64yWiv21CRn69PkXpvZXIGdQ64xvQuCgxXNuiQ7Q0uCnSJ27tm5uNA3YXGe0VFxe\n",
       "hWepUf3LHUPzK5BV9Dlt5K82ip7sIdHnG5rNl24h1wt/m1tNAzbXGS0VlzNwgoYdXGgYBqgCiXaA\n",
       "D/YaMaCdxb1H9NdcSTMgPQya+T/MraYBm+uMlorLp8huuByA0bYZkQJpbayunDFjGN2zOhYyvKNJ\n",
       "FKgfpjvWX+a5gRqcQGe0VFyOwpN0caBXMlzGaGQBbb9fmbnr5S7kD4bO5boanupQF/duGE9WA06g\n",
       "M1oqLkvwMuF6cLaKTuRzZMndoxoeAcmVIbRn59aDvud0SeYD6INOFIpxniIeoMkqMhO4vjh7bINv\n",
       "1YoMg2WdhkRM6qC8Sc6RUWq1RYCROlirZMl3X9LwCEiujJTIaUP7yq/5gt1gxg8wZPz0VIzVXKT2\n",
       "d75VJ1ICyzrNiJhUaQkn4T0adpCa2g6UJW2A8khuB0Beb98M+uoizsIbdXWCYby1OHy2Q2IO4LFQ\n",
       "lGgCNAyWdRoRBVK5bI912YOXukHvIJzV5ATKBQl55PBqk0HRDgCjc4LVFBR4Z7G2Agqndr2JazV+\n",
       "CK/1M/QmhwYsfXN3INKV50k4JLCsUySKkeoc371SeIME6rT3La7RKQrwMxZ3m7eai6YFn8yxh+1f\n",
       "IeRbB+EQfQmnkUVfafFWEylIb1JlkatOzgcU9g/LKB8a9sMjDTrhrMTDETzexQO+CCuBSFkfeZDB\n",
       "sk6RKEaqM9nIlArkDKz89iEy+0nYD3C2Pw/58a0272uPIguk8MXjcWBV6okw0lusw58UOtYvl091\n",
       "QPA1gYI8YAp74UZ57OHtqMycB7SIqS7DD7DBkJCugzu+1YIv++/iAW+yDHOJvR7oa1IOGSzrDBHF\n",
       "SP31EoxM0LTxtYaF6qchVZQSAMyTl512WUoVbB9v4wKUs5oRRW8Wj/8TaPBcTmr71hTLlZZCdIy0\n",
       "FQWWdYaIYqRWYBdNgLzNd3Bdx1fRKKvl5D2jLU05UxxuF0UoZzUjiul0vcsu6Co8d7XPFAs1b60Y\n",
       "DCSn2zzHACzrDBHFSH0BLkLPIrvwfg/IHx6PCBNx25RnMfI8DyF7kDpQFKGo78fMIkYUFaveBq8G\n",
       "GvxQlzvCbN+ptZlI149KjCLAsk6RKEYqOucrMJ1DE7P9u5CBf0RtZwdvP9v0rdfh2sJJADl9dvgr\n",
       "PEXug8J5EYr77urg14YU78O9RRgiAaLCu7Xthn2Q7XqVFhPpyB7CcwzAsk6RKEZquoRkXvkOTSzb\n",
       "tQ8DPITli13yxvcWJbKTlOJtPeoX86ET6UxKxCbmRPxjsmzMoULmW3dMsaP9lneKSDMx45utEunA\n",
       "HVPsaL/GThENJvYPy8nwEtVERagAAAAASUVORK5CYII=\n",
       "\" style=\"display:inline;vertical-align:middle;\" /></a>"
      ],
      "text/plain": [
       "(A_{1, 1}, ..A_{1, j}.., A_{1, n}, B_{1, 1}, ..B_{1, j}.., B_{1, k}), ..(A_{i, 1}, ..A_{i, j}.., A_{i, n}, B_{i, 1}, ..B_{i, j}.., B_{i, k}).., (A_{m, 1}, ..A_{m, j}.., A_{m, n}, B_{m, 1}, ..B_{m, j}.., B_{m, k})"
      ]
     },
     "execution_count": 13,
     "metadata": {},
     "output_type": "execute_result"
    }
   ],
   "source": [
    "ExprRange(i, ExprTuple(ExprRange(j, Aij, one, n), ExprRange(j, Bij, one, k)),one,m)"
   ]
  },
  {
   "cell_type": "code",
   "execution_count": 14,
   "metadata": {},
   "outputs": [
    {
     "data": {
      "text/html": [
       "<a class=\"ProveItLink\" href=\"__pv_it/517fcc6c4e6bbaef5beafb7d847760db765473880/expr.ipynb\"><img src=\"data:image/png;base64,iVBORw0KGgoAAAANSUhEUgAAAnoAAAAXBAMAAABucf+SAAAAMFBMVEX////MzMxUVFREREQiIiK6\n",
       "uroQEBCYmJhmZmYyMjLu7u52dnaqqqqIiIjc3NwAAACFAiZ1AAAAAXRSTlMAQObYZgAAAAlwSFlz\n",
       "AAAOxAAADsQBlSsOGwAABUtJREFUWMPNWF2IG1UUPpNNMptJMpsH6VvZGATZh5Dog4hYN4KISJWl\n",
       "lJVCxVUpxR9K6iq0L27sSxeKECh0YS1usGARWQx9Kb5owMWH9aHDtqCIa4OKUmvJbtfirtrGc38m\n",
       "uTN35uYOjeiFc5PMfPe73z33nDtnAgBtYPbftgEKbPhfNduVlG0xw3ZNe/S1oet5Xn37Oya6HmWF\n",
       "9X/PewmHGXzFDduS9uhApDm5VZh4QGv8bPfBwumceIVvYEjLNOlHaiPCCkPBEXQGSnV3E82qMyMS\n",
       "u7qMIchkGaCU02J4GSC26bmyqIJ/xD4uRfFeODiCzkCpZGsa1EarQA3baEn3+AtBdjCWX6hpZdVt\n",
       "jPxtz6VjKvxJ9nHiTgTvhYP1dQZLJfFbo5Yke8GufPa57n6EIOfw6pyjQ2DiZpq3vQHRUOBnaJ++\n",
       "vqnvPAVYX2ewVNJepXYA+wPMyc7VluZ2hCBLaGe04jeGWZU64s2FquKQZkfLjezf+t5TgPV1Bksl\n",
       "bYHaKexPsXSES1XNxA1B4gnxweNaDHjyWPd54zedV0zIHhq1zB/63lOA9XUGSyXtArUF7keAgzDe\n",
       "1CMMQRpb62sLegzje9YnfBtgKgoMFpeJlvGXfk0RDo6gM1gqacep7cV+L9ss6OQ1tzUYmcVj+ku9\n",
       "8L3ahsxh33O8Eg6Pt1jI2ze1F60AR9AZLJW0FWqHsD9EOR+eL+GT/DwNAeu4gs+DFNoInu3pTXfs\n",
       "eVWx+hAaPnkYxnyGRoSiGklOkf7y/Ikt8apSpB8s69Qk4lL77U36vBmn1vPeMsBYBYx1GgK7ryj4\n",
       "PEihjeXp04mNlW+LjYTFnONi6PyJmQHes1D17+JVlUgJLOvUI+JSpa2cpnYW+7MsHSE+00ugFWXi\n",
       "ikjhhMBsiN1yx6oy0SAHemmKY+yNQfhUi+YiwJNS9oQmrh8s69QicqUK1aKQuXuwJ5aosncbwXty\n",
       "AWaBhDx2dL3GoXhCwHjd470QCnLyGDsuhVm+QWrPcjh+hOz9c+wNESfMf32vK9KS10s5JLCs00s0\n",
       "QKp5cvda9g2awLP2N6SndoE/fX8mIu+I3rNwefBJnX/p/fIh3zoMR9hNOIOefaUhes9LQUfTLoWh\n",
       "O73oUsS+X8V6atTxz9QfRKoZm2T2ZJtM+BKsuSJlffSLDJZ1eokGSDWnq8l8lj4ri799iO5/F4jt\n",
       "xx7tXHcRMpM7TTH2nkBPxMkLzVPAu/jTfqS9XIE/GXSiWyicboEn9jwU9AuhiC3dLEw82svW5EXA\n",
       "TY23Ob6PdaeERAWsyZ0GfNF9j0x4i1eoK/x2X1+NcchgWaePaIDUX6/A2BQrO1+rGtg/Sy1OhOek\n",
       "woHwZeRgXpVKjJhDjnsPVPCeFkVnnsz/EyjwQm0bc4wZXmOt+Og4aSMILOv0EQ2QWoRdrHCyt98h\n",
       "fYUaf90N8l5aPlOa0tKTudFmzgsVvKdFMZuotPkfAWF44S+EZC5btjdy7kRy2S5y9MGyTh/RAKkv\n",
       "wmXoGPSU3m9D78+Vx4BZf0FWk/EtB9YBPmQH4gdzXiiO/Zh7RouiaFSaYJdBgR9pC4+8mGOWm1yk\n",
       "5QQVVAFgWaeXaIBUrAuKMJvGhcWce9DRPwKzc9w46tNtx3gdri/hqSiX46b4VwFD7oPsRS+UjN3V\n",
       "Irc1Kd6H+3MwQhMnDG+Vexf2QaptFxtcpClHjMjRB8s6vUQDpCbyKPOHb3FhqXbsKMAjwMyuMhND\n",
       "Qvt9KBTZikrxthr1i/7UkXRGJeILM9vMgtqqNlcYMtO4a4qhjlsdFpHGwrTfoEORJtw1xVDHVYdF\n",
       "5F3YP6pgBUvgzO29AAAAAElFTkSuQmCC\n",
       "\" style=\"display:inline;vertical-align:middle;\" /></a>"
      ],
      "text/plain": [
       "((A_{1, 1}, ..A_{1, j}.., A_{1, n}, B_{1, 1}, ..B_{1, j}.., B_{1, k}), ..(A_{i, 1}, ..A_{i, j}.., A_{i, n}, B_{i, 1}, ..B_{i, j}.., B_{i, k}).., (A_{m, 1}, ..A_{m, j}.., A_{m, n}, B_{m, 1}, ..B_{m, j}.., B_{m, k}))"
      ]
     },
     "execution_count": 14,
     "metadata": {},
     "output_type": "execute_result"
    }
   ],
   "source": [
    "ExprTuple(ExprRange(i, ExprTuple(ExprRange(j, Aij, one, n), ExprRange(j, Bij, one, k)),\n",
    "                    one,m))"
   ]
  },
  {
   "cell_type": "code",
   "execution_count": 15,
   "metadata": {},
   "outputs": [
    {
     "ename": "ImportError",
     "evalue": "cannot import name 'MultiQubitGate' from 'proveit.physics.quantum.circuit' (c:\\users\\joaqu\\prove-it\\packages\\proveit\\physics\\quantum\\circuit.py)",
     "output_type": "error",
     "traceback": [
      "\u001b[1;31m---------------------------------------------------------------------------\u001b[0m",
      "\u001b[1;31mImportError\u001b[0m                               Traceback (most recent call last)",
      "\u001b[1;32m<ipython-input-15-a02c8e53b1bf>\u001b[0m in \u001b[0;36m<module>\u001b[1;34m\u001b[0m\n\u001b[1;32m----> 1\u001b[1;33m \u001b[0mExprArray\u001b[0m\u001b[1;33m(\u001b[0m\u001b[0mExprTuple\u001b[0m\u001b[1;33m(\u001b[0m\u001b[0mA\u001b[0m\u001b[1;33m,\u001b[0m \u001b[0mB\u001b[0m\u001b[1;33m)\u001b[0m\u001b[1;33m,\u001b[0m \u001b[0mExprTuple\u001b[0m\u001b[1;33m(\u001b[0m\u001b[0mC\u001b[0m\u001b[1;33m,\u001b[0m \u001b[0mD\u001b[0m\u001b[1;33m)\u001b[0m\u001b[1;33m)\u001b[0m\u001b[1;33m.\u001b[0m\u001b[0mwithStyles\u001b[0m\u001b[1;33m(\u001b[0m\u001b[0morientation\u001b[0m\u001b[1;33m=\u001b[0m\u001b[1;34m'horizontal'\u001b[0m\u001b[1;33m)\u001b[0m\u001b[1;33m\u001b[0m\u001b[1;33m\u001b[0m\u001b[0m\n\u001b[0m",
      "\u001b[1;32mc:\\users\\joaqu\\prove-it\\packages\\proveit\\_core_\\expression\\composite\\expr_array.py\u001b[0m in \u001b[0;36m__init__\u001b[1;34m(self, styles, *expressions)\u001b[0m\n\u001b[0;32m     29\u001b[0m \u001b[1;33m\u001b[0m\u001b[0m\n\u001b[0;32m     30\u001b[0m         \u001b[1;31m# check each column for same expression throughout\u001b[0m\u001b[1;33m\u001b[0m\u001b[1;33m\u001b[0m\u001b[1;33m\u001b[0m\u001b[0m\n\u001b[1;32m---> 31\u001b[1;33m         \u001b[0mself\u001b[0m\u001b[1;33m.\u001b[0m\u001b[0mcheckRange\u001b[0m\u001b[1;33m(\u001b[0m\u001b[1;33m)\u001b[0m\u001b[1;33m\u001b[0m\u001b[1;33m\u001b[0m\u001b[0m\n\u001b[0m\u001b[0;32m     32\u001b[0m \u001b[1;33m\u001b[0m\u001b[0m\n\u001b[0;32m     33\u001b[0m     \u001b[1;33m@\u001b[0m\u001b[0mclassmethod\u001b[0m\u001b[1;33m\u001b[0m\u001b[1;33m\u001b[0m\u001b[0m\n",
      "\u001b[1;32mc:\\users\\joaqu\\prove-it\\packages\\proveit\\_core_\\expression\\composite\\expr_array.py\u001b[0m in \u001b[0;36mcheckRange\u001b[1;34m(self)\u001b[0m\n\u001b[0;32m    135\u001b[0m         '''\n\u001b[0;32m    136\u001b[0m         \u001b[1;32mfrom\u001b[0m \u001b[1;33m.\u001b[0m\u001b[0mexpr_range\u001b[0m \u001b[1;32mimport\u001b[0m \u001b[0mExprRange\u001b[0m\u001b[1;33m\u001b[0m\u001b[1;33m\u001b[0m\u001b[0m\n\u001b[1;32m--> 137\u001b[1;33m         \u001b[1;32mfrom\u001b[0m \u001b[0mproveit\u001b[0m\u001b[1;33m.\u001b[0m\u001b[0mphysics\u001b[0m\u001b[1;33m.\u001b[0m\u001b[0mquantum\u001b[0m\u001b[1;33m.\u001b[0m\u001b[0mcircuit\u001b[0m \u001b[1;32mimport\u001b[0m \u001b[0mMultiQubitGate\u001b[0m\u001b[1;33m,\u001b[0m \u001b[0mGate\u001b[0m\u001b[1;33m\u001b[0m\u001b[1;33m\u001b[0m\u001b[0m\n\u001b[0m\u001b[0;32m    138\u001b[0m         \u001b[0mpos\u001b[0m \u001b[1;33m=\u001b[0m \u001b[1;33m[\u001b[0m\u001b[1;33m]\u001b[0m\u001b[1;33m\u001b[0m\u001b[1;33m\u001b[0m\u001b[0m\n\u001b[0;32m    139\u001b[0m \u001b[1;33m\u001b[0m\u001b[0m\n",
      "\u001b[1;31mImportError\u001b[0m: cannot import name 'MultiQubitGate' from 'proveit.physics.quantum.circuit' (c:\\users\\joaqu\\prove-it\\packages\\proveit\\physics\\quantum\\circuit.py)"
     ]
    }
   ],
   "source": [
    "ExprArray(ExprTuple(A, B), ExprTuple(C, D)).withStyles(orientation='horizontal')"
   ]
  },
  {
   "cell_type": "code",
   "execution_count": null,
   "metadata": {},
   "outputs": [],
   "source": [
    "ExprArray(ExprTuple(A, B, C, A, B, C, A), \n",
    "          ExprTuple(D, E, F, D, E, F, D), \n",
    "          ExprTuple(G, H, I, G, H, I, G))\\\n",
    "    .withStyles(parameterization=\"explicit\")\\\n",
    "    .withStyles(orientation='vertical')"
   ]
  },
  {
   "cell_type": "code",
   "execution_count": null,
   "metadata": {},
   "outputs": [],
   "source": [
    "ExprArray(ExprTuple(A_i_to_j, A, B, C), \n",
    "          ExprTuple(C_i_to_j, D, E, F))\\\n",
    "    .withStyles(parameterization=\"implicit\")\\\n",
    "    .withStyles(orientation='horizontal')"
   ]
  },
  {
   "cell_type": "code",
   "execution_count": null,
   "metadata": {},
   "outputs": [],
   "source": [
    "ExprArray(ExprTuple(A_i_to_j, A, B, C), \n",
    "          ExprTuple(C_i_to_j, D, E, F))\\\n",
    "    .withStyles(parameterization=\"implicit\")\\\n",
    "    .withStyles(orientation='vertical')"
   ]
  },
  {
   "cell_type": "code",
   "execution_count": null,
   "metadata": {},
   "outputs": [],
   "source": [
    "ExprArray(ExprTuple(A_i_to_j, B_i_to_j), \n",
    "          ExprTuple(C_i_to_j, D_i_to_j))\\\n",
    "    .withStyles(parameterization=\"implicit\")\\\n",
    "    .withStyles(orientation='horizontal')"
   ]
  },
  {
   "cell_type": "code",
   "execution_count": null,
   "metadata": {},
   "outputs": [],
   "source": [
    "ExprArray(ExprTuple(A_i_to_j, B_i_to_j), \n",
    "          ExprTuple(C_i_to_j, D_i_to_j))\\\n",
    "    .withStyles(parameterization=\"implicit\")\\\n",
    "    .withStyles(orientation='vertical')"
   ]
  },
  {
   "cell_type": "code",
   "execution_count": null,
   "metadata": {},
   "outputs": [],
   "source": [
    "ExprArray(ExprRange(i, ExprTuple(Aij, Bij, Cij, Dij),one,m))\\\n",
    "    .withStyles(orientation='horizontal')\\\n",
    "    .withStyles(parameterization='implicit')"
   ]
  },
  {
   "cell_type": "code",
   "execution_count": null,
   "metadata": {},
   "outputs": [],
   "source": [
    "ExprArray(ExprRange(i, ExprTuple(Aij, Bij, Cij, Dij),one,m))\\\n",
    "    .withStyles(orientation='vertical')\\\n",
    "    .withStyles(parameterization='implicit')"
   ]
  },
  {
   "cell_type": "code",
   "execution_count": null,
   "metadata": {},
   "outputs": [],
   "source": [
    "ExprArray(ExprTuple(A,B,C,D),\n",
    "          ExprRange(i, ExprTuple(Aij, Bij, Cij, Dij),one,m), \n",
    "          ExprTuple(A,B,C,D))\\\n",
    "    .withStyles(orientation='vertical')\\\n",
    "    .withStyles(parameterization='implicit')"
   ]
  },
  {
   "cell_type": "code",
   "execution_count": null,
   "metadata": {},
   "outputs": [],
   "source": [
    "ExprArray(ExprTuple(A,B,C,D),\n",
    "          ExprRange(i, ExprTuple(Aij, Bij, Cij, Dij),one,m), \n",
    "          ExprTuple(A,B,C,D))\\\n",
    "    .withStyles(orientation='horizontal')\\\n",
    "    .withStyles(parameterization=\"implicit\")"
   ]
  },
  {
   "cell_type": "code",
   "execution_count": null,
   "metadata": {},
   "outputs": [],
   "source": [
    "ExprArray(ExprRange(i, ExprTuple(Aij, Bij, Cij, Dij, Eij, Fij),one,m))\\\n",
    "    .withStyles(orientation='horizontal')\\\n",
    "    .withStyles(parameterization=\"implicit\")"
   ]
  },
  {
   "cell_type": "code",
   "execution_count": null,
   "metadata": {},
   "outputs": [],
   "source": [
    "ExprArray(ExprRange(i, ExprTuple(Aij, Bij, Cij, Dij, Eij, Fij),one,m))\\\n",
    "    .withStyles(orientation='vertical')\\\n",
    "    .withStyles(parameterization='implicit')"
   ]
  },
  {
   "cell_type": "code",
   "execution_count": null,
   "metadata": {},
   "outputs": [],
   "source": [
    "ExprArray(ExprRange(i, ExprTuple(ExprRange(j, Aij, one, n), \n",
    "                                 ExprRange(j, Bij, one, k)),one,m))\\\n",
    "    .withStyles(parameterization=\"explicit\")"
   ]
  },
  {
   "cell_type": "code",
   "execution_count": null,
   "metadata": {},
   "outputs": [],
   "source": [
    "ExprArray(ExprRange(i, ExprTuple(ExprRange(j, Aij, one, n), \n",
    "                                 ExprRange(j, Bij, one, k)),one,m))\\\n",
    "    .withStyles(orientation='vertical')\\\n",
    "    .withStyles(parameterization='implicit')"
   ]
  },
  {
   "cell_type": "code",
   "execution_count": null,
   "metadata": {},
   "outputs": [],
   "source": [
    "ExprArray(ExprRange(i, ExprTuple(ExprRange(j, Aij, one, n)), one, m))\\\n",
    "    .withStyles(orientation='vertical')\\\n",
    "    .withStyles(parameterization='explicit')"
   ]
  },
  {
   "cell_type": "code",
   "execution_count": null,
   "metadata": {},
   "outputs": [],
   "source": [
    "ExprArray(ExprRange(i, ExprRange(j, ExprTuple(Aij, Bij), \n",
    "                                 one, n), \n",
    "                    one, m))\\\n",
    "    .withStyles(orientation='horizontal')\\\n",
    "    .withStyles(parameterization='explicit')"
   ]
  },
  {
   "cell_type": "code",
   "execution_count": null,
   "metadata": {},
   "outputs": [],
   "source": [
    "Apj = IndexedVar(A,(p,j))"
   ]
  },
  {
   "cell_type": "code",
   "execution_count": null,
   "metadata": {},
   "outputs": [],
   "source": [
    "Bpj = IndexedVar(B,(p,j))"
   ]
  },
  {
   "cell_type": "code",
   "execution_count": null,
   "metadata": {},
   "outputs": [],
   "source": [
    "Cjk = IndexedVar(C,(j,k))"
   ]
  },
  {
   "cell_type": "code",
   "execution_count": null,
   "metadata": {},
   "outputs": [],
   "source": [
    "Dki = IndexedVar(D,(k,i))"
   ]
  },
  {
   "cell_type": "code",
   "execution_count": null,
   "metadata": {},
   "outputs": [],
   "source": [
    "C_i_to_k = varRange(C, i, k)"
   ]
  },
  {
   "cell_type": "code",
   "execution_count": null,
   "metadata": {},
   "outputs": [],
   "source": [
    "D_j_to_i = varRange(B, j, i)"
   ]
  },
  {
   "cell_type": "code",
   "execution_count": null,
   "metadata": {},
   "outputs": [],
   "source": [
    "try:\n",
    "    ExprArray(ExprTuple(A, B, C, A, B, A), \n",
    "              ExprTuple(D, E, F, D, E, F, D), \n",
    "              ExprTuple(G, H, I, G, H, I, G))\n",
    "    assert False, \"Expected a ValueError error.\"\n",
    "except ValueError as e:\n",
    "    print(\"Expected error:\", e)"
   ]
  },
  {
   "cell_type": "code",
   "execution_count": null,
   "metadata": {},
   "outputs": [],
   "source": [
    "try:\n",
    "    ExprArray(ExprTuple(B_i_to_j, A, B, C), \n",
    "              ExprTuple(D, E, F, D_i_to_j))\n",
    "    assert False, \"Expected a ValueError error.\"\n",
    "except ValueError as e:\n",
    "    print(\"Expected error:\", e)"
   ]
  },
  {
   "cell_type": "code",
   "execution_count": null,
   "metadata": {},
   "outputs": [],
   "source": [
    "try:\n",
    "    ExprArray(ExprTuple(A, B, C, B_i_to_j), \n",
    "              ExprTuple(D_i_to_j, D, E, F))\n",
    "    assert False, \"Expected a ValueError error.\"\n",
    "except ValueError as e:\n",
    "    print(\"Expected error:\", e)"
   ]
  },
  {
   "cell_type": "code",
   "execution_count": null,
   "metadata": {},
   "outputs": [],
   "source": [
    "try:\n",
    "    ExprArray(ExprRange(i, ExprTuple(ExprRange(j, Aij, one, n), \n",
    "                                     ExprRange(j, Bpj, one, k)),one,m))\n",
    "    assert False, \"Expected a ValueError error.\"\n",
    "except ValueError as e:\n",
    "    print(\"Expected error:\", e)"
   ]
  },
  {
   "cell_type": "code",
   "execution_count": null,
   "metadata": {},
   "outputs": [],
   "source": [
    "try:\n",
    "    ExprArray(ExprTuple(C_i_to_j, D_j_to_i), \n",
    "              ExprTuple(A_i_to_j, B_i_to_j))\n",
    "    assert False, \"Expected a ValueError error.\"\n",
    "except ValueError as e:\n",
    "    print(\"Expected error:\", e)"
   ]
  },
  {
   "cell_type": "code",
   "execution_count": null,
   "metadata": {},
   "outputs": [],
   "source": [
    "try:\n",
    "    ExprArray(ExprRange(i, ExprTuple(Apj, Bij, Cjk, Dki),one,m))\n",
    "    assert False, \"Expected a ValueError error.\"\n",
    "except ValueError as e:\n",
    "    print(\"Expected error:\", e)"
   ]
  },
  {
   "cell_type": "code",
   "execution_count": null,
   "metadata": {},
   "outputs": [],
   "source": [
    "try:\n",
    "    ExprArray(ExprRange(i, ExprRange(j, Aij, one, n), one, m)).latex()\n",
    "    assert False, \"Expected a ValueError error.\"\n",
    "except ValueError as e:\n",
    "    print(\"Expected error:\", e)"
   ]
  },
  {
   "cell_type": "code",
   "execution_count": null,
   "metadata": {},
   "outputs": [],
   "source": [
    "try:\n",
    "    ExprArray(ExprTuple(A,B,C,D),\n",
    "              ExprRange(i, ExprTuple(ExprTuple(Apj, Bij), \n",
    "                                     ExprTuple(Cjk, Dki)),one,m), \n",
    "              ExprTuple(A,B,C,D))\n",
    "    assert False, \"Expected a ValueError error.\"\n",
    "except ValueError as e:\n",
    "    print(\"Expected error:\", e)"
   ]
  },
  {
   "cell_type": "code",
   "execution_count": null,
   "metadata": {},
   "outputs": [],
   "source": [
    "try:\n",
    "    ExprArray(E, F, ExprTuple(A,B), C, D)\n",
    "    assert False, \"Expected a ValueError error.\"\n",
    "except ValueError as e:\n",
    "    print(\"Expected error:\", e)"
   ]
  },
  {
   "cell_type": "code",
   "execution_count": null,
   "metadata": {},
   "outputs": [],
   "source": []
  },
  {
   "cell_type": "code",
   "execution_count": null,
   "metadata": {},
   "outputs": [],
   "source": [
    "%end demonstrations"
   ]
  }
 ],
 "metadata": {
  "kernelspec": {
   "display_name": "Python 3",
   "language": "python",
   "name": "python3"
  },
  "language_info": {
   "codemirror_mode": {
    "name": "ipython",
    "version": 3
   },
   "file_extension": ".py",
   "mimetype": "text/x-python",
   "name": "python",
   "nbconvert_exporter": "python",
   "pygments_lexer": "ipython3",
   "version": "3.7.3"
  }
 },
 "nbformat": 4,
 "nbformat_minor": 1
}
