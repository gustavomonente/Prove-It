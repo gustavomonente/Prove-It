{
 "cells": [
  {
   "cell_type": "markdown",
   "metadata": {},
   "source": [
    "Common expressions for context <a class=\"ProveItLink\" href=\"_context_.ipynb\">proveit.core_expr_types.expr_array</a>\n",
    "========"
   ]
  },
  {
   "cell_type": "code",
   "execution_count": 1,
   "metadata": {},
   "outputs": [],
   "source": [
    "import proveit\n",
    "# Automation is not needed when only building common expressions:\n",
    "proveit.defaults.automation = False # This will speed things up.\n",
    "from proveit import indexed_var, varRange\n",
    "from proveit._common_ import A, B, C, D, E, Q, R, S, g, h, i, j, k, m, n \n",
    "from proveit.number import one\n",
    "# the context is in the current directory:\n",
    "context = proveit.Context('.') # adds context root to sys.path if necessary"
   ]
  },
  {
   "cell_type": "code",
   "execution_count": 2,
   "metadata": {},
   "outputs": [
    {
     "name": "stdout",
     "output_type": "stream",
     "text": [
      "Defining common sub-expressions for context 'proveit.core_expr_types.expr_array'\n",
      "Subsequent end-of-cell assignments will define common sub-expressions\n",
      "%end_common will finalize the definitions\n"
     ]
    }
   ],
   "source": [
    "%begin common"
   ]
  },
  {
   "cell_type": "code",
   "execution_count": 3,
   "metadata": {},
   "outputs": [
    {
     "data": {
      "text/html": [
       "<strong id=\"Aij\">Aij:</strong> <a class=\"ProveItLink\" href=\"__pv_it/b3e4ed3ae9f8a069a0e184043acff69bf3a3b4a30/expr.ipynb\"><img src=\"data:image/png;base64,iVBORw0KGgoAAAANSUhEUgAAACIAAAAVBAMAAADRFiHkAAAAMFBMVEX///8QEBAiIiLu7u5ERES6\n",
       "urqYmJiIiIjMzMx2dnZUVFRmZmaqqqoyMjLc3NwAAABb1yYoAAAAAXRSTlMAQObYZgAAAAlwSFlz\n",
       "AAAOxAAADsQBlSsOGwAAALpJREFUGNNjYACBtwzo4D66AM9/dBHu9Q/QRObNb0AV4CuoP4CmieF8\n",
       "AqpIDEP/BAYGZohZYP0bGN4vYGDgLACLaAAxu/fu9Q4omswZGPgVUEQ2MDAwCTCwVoHYzNVAW1mB\n",
       "9vB+YOC0NwBZy3OBgeEhkMHyj+HxIZAaY84NDCb/LzPw+P+dwOAONoIX4TLmz2CX8CN8yHNhAjPQ\n",
       "nY0IG5mXP+CQYWCoQgsnBoZrqCKHeSMEUEUSuKsNGACJyCnZCzsY/AAAAABJRU5ErkJggg==\n",
       "\" style=\"display:inline;vertical-align:middle;\" /></a><br>"
      ],
      "text/plain": [
       "Aij: A_{i,j}"
      ]
     },
     "execution_count": 3,
     "metadata": {},
     "output_type": "execute_result"
    }
   ],
   "source": [
    "Aij = indexed_var(A,(i,j))"
   ]
  },
  {
   "cell_type": "code",
   "execution_count": 4,
   "metadata": {},
   "outputs": [
    {
     "data": {
      "text/html": [
       "<strong id=\"Bij\">Bij:</strong> <a class=\"ProveItLink\" href=\"__pv_it/dab1d6d677d7fa35861a35520497124b157231d60/expr.ipynb\"><img src=\"data:image/png;base64,iVBORw0KGgoAAAANSUhEUgAAACIAAAAUBAMAAAAaSvJBAAAAMFBMVEX///92dnaqqqoiIiLu7u5m\n",
       "Zma6urqIiIjc3NwQEBDMzMwyMjJUVFRERESYmJgAAAAeMT9/AAAAAXRSTlMAQObYZgAAAAlwSFlz\n",
       "AAAOxAAADsQBlSsOGwAAAM5JREFUGNNjYGB4+//Omb0LGJDBXAYGnl/IAhzfGRjYviKL8AHl+b4j\n",
       "i/B8YGDgnoEswnmBgeUwisnrr5effsDAwNIA5oGk6hsYmOYxMDAWgEWsgPgmEMuj6PoDxO8LkAS4\n",
       "/gGJ8wlsNSAOS6kCAwP7D6DobwZGfwegCCvTBqBTJjAwZG5haFEGqXFhDGDg2f/nzOlLQM51sBnc\n",
       "D+DGsXwBW8ffABdh2iDAIsDAsBJhJcvxBq5JDAw1KOHEwMTAsA9VRIU7awKqyAPWUgcGAEE9MpOO\n",
       "K1uqAAAAAElFTkSuQmCC\n",
       "\" style=\"display:inline;vertical-align:middle;\" /></a><br>"
      ],
      "text/plain": [
       "Bij: B_{i,j}"
      ]
     },
     "execution_count": 4,
     "metadata": {},
     "output_type": "execute_result"
    }
   ],
   "source": [
    "Bij = indexed_var(B,(i,j))"
   ]
  },
  {
   "cell_type": "code",
   "execution_count": 5,
   "metadata": {},
   "outputs": [
    {
     "data": {
      "text/html": [
       "<strong id=\"Cij\">Cij:</strong> <a class=\"ProveItLink\" href=\"__pv_it/2f2293bec979d8261046b7f0f05be5dd9bdac9130/expr.ipynb\"><img src=\"data:image/png;base64,iVBORw0KGgoAAAANSUhEUgAAACAAAAAUBAMAAAAevyJ8AAAAMFBMVEX////MzMy6uroyMjJmZmYi\n",
       "IiKqqqoQEBB2dnbc3NyYmJhUVFRERESIiIju7u4AAACU7+9TAAAAAXRSTlMAQObYZgAAAAlwSFlz\n",
       "AAAOxAAADsQBlSsOGwAAALlJREFUGNNjYGDgu7N7F2cDAwJcv8fA1roAwX8TByT8JyAEzB8ACXUE\n",
       "n+MbiBRBCMwPAJEPEQL9FyA0H8QUAYZ4AahWiEQgQz3ITIYHCC3xIIJNACEAdgEHA9NtsEFXEhjm\n",
       "g/T2MXC8B+liYTNgYPvFwJDxgGFeKkjFOw4HBoYnp7coANlnwQYww/3E9w9sLj/cT2wGDXzAIBCH\n",
       "W8a3dwJjGQPDbQZkwMbAYIUikMesWIAisIDlygMGAHCwK1B2/vnFAAAAAElFTkSuQmCC\n",
       "\" style=\"display:inline;vertical-align:middle;\" /></a><br>"
      ],
      "text/plain": [
       "Cij: C_{i,j}"
      ]
     },
     "execution_count": 5,
     "metadata": {},
     "output_type": "execute_result"
    }
   ],
   "source": [
    "Cij = indexed_var(C,(i,j))"
   ]
  },
  {
   "cell_type": "code",
   "execution_count": 6,
   "metadata": {},
   "outputs": [
    {
     "data": {
      "text/html": [
       "<strong id=\"Dij\">Dij:</strong> <a class=\"ProveItLink\" href=\"__pv_it/1fb93d8da0a388b91c6a10b3beeaafc2a44489760/expr.ipynb\"><img src=\"data:image/png;base64,iVBORw0KGgoAAAANSUhEUgAAACMAAAAUBAMAAAD1iJl/AAAAMFBMVEX///8iIiLu7u52dna6uroQ\n",
       "EBBmZmbMzMyqqqqYmJjc3NwyMjJUVFRERESIiIgAAABmmfmVAAAAAXRSTlMAQObYZgAAAAlwSFlz\n",
       "AAAOxAAADsQBlSsOGwAAAMJJREFUGNNjYGB4+//O2T0LGFDAbwYGzh8oIuz/gEQqihDfdyDhPwFZ\n",
       "iPcDkFhvgCzEfwGk6gCyUP0DIPHegEELYjKIeF8AJM47MNiBhRhBvPsg1lcUG/8CMedPDGepXmDw\n",
       "A1uglwF1FtNuBgajTyChhG4gwQ10lmMCA5eGAJDDpGDGwMCz/8+Zu1kgFz8Am7MTyUx9dTD1C0mo\n",
       "m5lBGWhZAJKQziuG0gYGvgOoAcfQwMA9AVWEQ2FLKZoiToa8JAYGAA1QL0Av+pVfAAAAAElFTkSu\n",
       "QmCC\n",
       "\" style=\"display:inline;vertical-align:middle;\" /></a><br>"
      ],
      "text/plain": [
       "Dij: D_{i,j}"
      ]
     },
     "execution_count": 6,
     "metadata": {},
     "output_type": "execute_result"
    }
   ],
   "source": [
    "Dij = indexed_var(D,(i,j))"
   ]
  },
  {
   "cell_type": "code",
   "execution_count": 7,
   "metadata": {},
   "outputs": [
    {
     "data": {
      "text/html": [
       "<strong id=\"Eij\">Eij:</strong> <a class=\"ProveItLink\" href=\"__pv_it/081fdb1459dc21742892799e975693dcf79a861a0/expr.ipynb\"><img src=\"data:image/png;base64,iVBORw0KGgoAAAANSUhEUgAAACEAAAAUBAMAAADxfUlCAAAAMFBMVEX///+qqqrc3NyYmJjMzMxm\n",
       "Zmbu7u52dna6uroyMjIiIiJUVFQQEBBERESIiIgAAAD3YE8vAAAAAXRSTlMAQObYZgAAAAlwSFlz\n",
       "AAAOxAAADsQBlSsOGwAAAMJJREFUGNNjYGB4e+b27ltnGZDBTyB+iyzA8R1IpCKLsP8AEnnIIpwf\n",
       "GPgYWJBF+C8wNKOYy9C/eu8nIJUE5oDV1juwLABSdWARLgcgMZ+BIYAhAVnXXwYGBbYHyM75ByT4\n",
       "Evo2gDh5gSDnfAES2gxl30AiAZIgsz4A1Z1gSgSZzpZQysCQPf/37r3nJzDwQkyajDAuPwVMfUKI\n",
       "SLIzpAMdeAAhkv2IwUeAgW8Dqn8EGDgNUAQYE2b4oCphZogLY2AAANhvLRMUalQZAAAAAElFTkSu\n",
       "QmCC\n",
       "\" style=\"display:inline;vertical-align:middle;\" /></a><br>"
      ],
      "text/plain": [
       "Eij: E_{i,j}"
      ]
     },
     "execution_count": 7,
     "metadata": {},
     "output_type": "execute_result"
    }
   ],
   "source": [
    "Eij = indexed_var(E,(i,j))"
   ]
  },
  {
   "cell_type": "code",
   "execution_count": 8,
   "metadata": {},
   "outputs": [
    {
     "data": {
      "text/html": [
       "<strong id=\"Qij\">Qij:</strong> <a class=\"ProveItLink\" href=\"__pv_it/27a72a31a4fff7d90cb446b84c69d596bf5bdfef0/expr.ipynb\"><img src=\"data:image/png;base64,iVBORw0KGgoAAAANSUhEUgAAACEAAAAUBAMAAADxfUlCAAAAMFBMVEX///+IiIiqqqq6uroiIiIQ\n",
       "EBBERETu7u7MzMwyMjKYmJhUVFRmZmZ2dnbc3NwAAABtgPhfAAAAAXRSTlMAQObYZgAAAAlwSFlz\n",
       "AAAOxAAADsQBlSsOGwAAANtJREFUGNNjYGDgu3N3FwMKuNnAwD0BWaAyAUjEIItMARH7kQR4foDI\n",
       "+w0IkfcgTQznDRAi5xVA5PwHDHVgLgcDg/8DIM3+lYHhIliEpYHhP4jm+oVksguIKEV2z34GZgWG\n",
       "ow8YDDeAeIWHGBj6FYQLueIYGK5/B4kc0GRgYIwT4DldwMBX5ACyoeAOkOzOvWrA0MDAJgA2ZBaY\n",
       "ZFNgLGCorwCz/0FENqgxMGjyMtQCHRgA8dp/oN+q5RhaFRgYN0BcHqoAcYkCA+cClKBjKpjcihqY\n",
       "XAwHjzMwAADHvDIZoKbeygAAAABJRU5ErkJggg==\n",
       "\" style=\"display:inline;vertical-align:middle;\" /></a><br>"
      ],
      "text/plain": [
       "Qij: Q_{i,j}"
      ]
     },
     "execution_count": 8,
     "metadata": {},
     "output_type": "execute_result"
    }
   ],
   "source": [
    "Qij = indexed_var(Q,(i,j))"
   ]
  },
  {
   "cell_type": "code",
   "execution_count": 9,
   "metadata": {},
   "outputs": [
    {
     "data": {
      "text/html": [
       "<strong id=\"Rij\">Rij:</strong> <a class=\"ProveItLink\" href=\"__pv_it/de533ad17e21d2fc1af963ca50aefbf3938a59020/expr.ipynb\"><img src=\"data:image/png;base64,iVBORw0KGgoAAAANSUhEUgAAACIAAAAUBAMAAAAaSvJBAAAAMFBMVEX///+YmJgQEBDu7u52dnZm\n",
       "Zma6uroiIiIyMjLc3NzMzMyqqqpUVFRERESIiIgAAABEQnZxAAAAAXRSTlMAQObYZgAAAAlwSFlz\n",
       "AAAOxAAADsQBlSsOGwAAAM5JREFUGNNjYGB4+//O3dsMKOAvA8P6A8gCXP8YGHh/Iovw/WJg4EAR\n",
       "4fgA1HUBWYT/AgNnDYrB+feeXl3AwMA8AcwDshj8JzCfNWBgYHkAFqkC4iagRgcUXX8YGOxRnMP2\n",
       "kYFhfwAD2xsQh/npBgYG1s9Aox5wsdgDzWJg5W5gYF4EFJF/kDZ5O0iNMUsAA4uLiwAD6z0BhnsQ\n",
       "5wrAjWP+vADs3AlwEe4GB2agGxYhrGQ+N4FLm4HhDWpAcTMwNKKKbObIUkAVEWB9asAAAP9PMjt5\n",
       "HkaoAAAAAElFTkSuQmCC\n",
       "\" style=\"display:inline;vertical-align:middle;\" /></a><br>"
      ],
      "text/plain": [
       "Rij: R_{i,j}"
      ]
     },
     "execution_count": 9,
     "metadata": {},
     "output_type": "execute_result"
    }
   ],
   "source": [
    "Rij = indexed_var(R,(i,j))"
   ]
  },
  {
   "cell_type": "code",
   "execution_count": 10,
   "metadata": {},
   "outputs": [
    {
     "data": {
      "text/html": [
       "<strong id=\"Sij\">Sij:</strong> <a class=\"ProveItLink\" href=\"__pv_it/9d1d6e2cbeac2670bd8ad5864b261095002a6e950/expr.ipynb\"><img src=\"data:image/png;base64,iVBORw0KGgoAAAANSUhEUgAAAB4AAAAUBAMAAABohZD3AAAAMFBMVEX///8iIiIQEBBUVFTc3NzM\n",
       "zMwyMjLu7u6IiIhERES6urqYmJh2dnZmZmaqqqoAAABQ2t8hAAAAAXRSTlMAQObYZgAAAAlwSFlz\n",
       "AAAOxAAADsQBlSsOGwAAALVJREFUGNNjYGDgu3uGewEDAsxgYJ+PxOW9wMCwDYnPH8DAsAKJv34D\n",
       "A0MIEt//TwADMuD4/9+EgYHdAcwBSXnM/8TAwNMA5ouCyftI1vMBcf0DBJ8ZZGQBVzOIzd77gGEh\n",
       "kL7DwFNfAHIaXwLDxQMMPAYM7g9B8uU8FxguLL5sB/YECLBtgJrC/h3sKH4HmC0JB9gPMDAEwWxh\n",
       "t3Bg1WNgaEZ2ONAl2cj852xLFZD5G3h7CxgANfAojl6E6V4AAAAASUVORK5CYII=\n",
       "\" style=\"display:inline;vertical-align:middle;\" /></a><br>"
      ],
      "text/plain": [
       "Sij: S_{i,j}"
      ]
     },
     "execution_count": 10,
     "metadata": {},
     "output_type": "execute_result"
    }
   ],
   "source": [
    "Sij = indexed_var(S,(i,j))"
   ]
  },
  {
   "cell_type": "code",
   "execution_count": 11,
   "metadata": {},
   "outputs": [
    {
     "data": {
      "text/html": [
       "<strong id=\"A11_to_Amn\">A11_to_Amn:</strong> <a class=\"ProveItLink\" href=\"__pv_it/d6812c72d649dbb39a6d5a04ddec6953e409669d0/expr.ipynb\"><img src=\"data:image/png;base64,iVBORw0KGgoAAAANSUhEUgAAAU8AAAAVBAMAAAA0gXHkAAAAMFBMVEX///8QEBAiIiLu7u5ERES6\n",
       "urqYmJiIiIjMzMx2dnZUVFRmZmaqqqoyMjLc3NwAAABb1yYoAAAAAXRSTlMAQObYZgAAAAlwSFlz\n",
       "AAAOxAAADsQBlSsOGwAAAnJJREFUSMelljts00Acxr/ExHaw62ZCCCFUYIQhA6JiIjtDYGGoOmQA\n",
       "CYGQolJRqQvu1BFPbIC3sjVTK9rFouytxMRCghhQkVAiXuKVhjtf4tednTM+ya+73/f9//fQnQFa\n",
       "PkO2yJNFhNZBSkNX2qL7v4nmEs4MxPXmSNZBniwk3E9J1NjsSTrIk4WEO0fi+mfPbUkHebKIsHr4\n",
       "U7x02488yUUuTRYSftT+iqcF+y3JCZQmCwk75g9h/SIeO3IO8mQRYcXTf4k7gL4LXPb3LuV+Zlcj\n",
       "ZK7ChGHJtDBg/RbVa9d2NxvQV+box/pShkOMzFOYMCzZFsu7O99E9fPALNGZTPsqwyFO5ihjYWRb\n",
       "zbBQ2sAX8bSgXJNKNEbeu7PSkZ95KlS31le1u/a0RA1ynfX93YcvIpEqLXZkRRKt870ER94+gTMi\n",
       "NF2o3miVXM2dJKrwtO92kx24xP8UVsNIeE+uY0fRRJUheV49GN/Crxhpzc/hK2sMiPgLJ/ywhNnr\n",
       "hjNJNEVhkTlDs0f9v+NlEAmXRm9gNodOdETPkZ6V6Wj7twv05TxHHm9XagxlRCf5wgs3sIayN0mU\n",
       "NiUUxE1pDut4PXpL/PUaLoaRkuubJmryE7rHkSXbcGwRmi48iWX09cBij/91ibiVbK1hDewgUjS8\n",
       "4rBEq3w8B0myj/KiLUJThdaAjOmtKq6ME+WPgKhbn4yk2nCCSIHL0z9t/TQOu9v+biLYMhLkArQn\n",
       "IjRdWHHxDp8eYM2jFrGmcBsLygJmetZGPYgUH3r24I9lFWIS005wVVTppTWJ3MxpC0p+6eX+ia7n\n",
       "oYWR5P9wWgUSVXPR40j/AOqzzk0pmBCVAAAAAElFTkSuQmCC\n",
       "\" style=\"display:inline;vertical-align:middle;\" /></a><br>"
      ],
      "text/plain": [
       "A11_to_Amn: A_{1,1}, ..A_{1,_b}.., A_{1,n}, ....A_{_a,1}, ..A_{_a,_b}.., A_{_a,n}...., A_{m,1}, ..A_{m,_b}.., A_{m,n}"
      ]
     },
     "execution_count": 11,
     "metadata": {},
     "output_type": "execute_result"
    }
   ],
   "source": [
    "A11_to_Amn = varRange(A, [one, one], [m, n])"
   ]
  },
  {
   "cell_type": "code",
   "execution_count": 12,
   "metadata": {},
   "outputs": [
    {
     "data": {
      "text/html": [
       "<strong id=\"B11_to_Bmn\">B11_to_Bmn:</strong> <a class=\"ProveItLink\" href=\"__pv_it/caffc6b61024e4832c7c784c7a14a31f9a20a7c50/expr.ipynb\"><img src=\"data:image/png;base64,iVBORw0KGgoAAAANSUhEUgAAAU8AAAAUBAMAAAD/3aJBAAAAMFBMVEX///92dnaqqqoiIiLu7u5m\n",
       "Zma6urqIiIjc3NwQEBDMzMwyMjJUVFRERESYmJgAAAAeMT9/AAAAAXRSTlMAQObYZgAAAAlwSFlz\n",
       "AAAOxAAADsQBlSsOGwAAAohJREFUSMellj1s00AYht8kbuw4xvWOBJHowlbxszCFqQuCMLGhiq1S\n",
       "JSIVKUuAIDEiJWKq+Km8VZ2SgYEOpZYYKhFLjVgQCIksMABVM9AWQUu5qx3/5M72WT7Jjs/3vO/3\n",
       "+fNnOwB2jj/bGyYEhjiZRah/ObL7n3grLwHtj5CHOJlFWBoA25zLUg6A4p6IgziZSdiuA3drnFKT\n",
       "S9UPhG6KMJlJuEuquVtnz2sjoLws4iBOZhJuk229xW0J6a0p2DyCZCYhaehrVzjnux8a/aGQgziZ\n",
       "RageNZpveAsPW8ivANd7dCL9iLEIkWmGK/RHnIX8GzjPu6yPZDtrqo1ZOlldiokXItMMRxgoWpzF\n",
       "qQ6Q473LDnHykOUd7bmYeGEyxXCF/oizmLb4rwj1H33Q5gUSDZNfvzdqol3nCPXbq035p5mUaJfc\n",
       "dm2f+lsP3gUi0ZZQ/yKYaJURS2DIbytY5qHRQn1hWLJka5yoxNJVt6HR7VH/F2j6kVAmLbHwKpio\n",
       "RJLBjZ574M3CpDI3i18TRILw8RKm56eMcaIhhT/DOvmKPa9S/33c9CJB2zy0++8RquhFcmUFWu3L\n",
       "cHeFSwyp1YsdB3WI2uQBK9zCGgqVcaJ0yVec7Khb/9i2NyrUX+3ggh9psr9ponn2hs4wZMmcMkwe\n",
       "Gi18hvtoq57FDAMH3UqmPFBGphcpGF4ynERzbDwDk2QbhTsmD40UKiNS050crrqJGgwcdGuTSuoD\n",
       "w4vkuZzeq6tP8WjzFjDHPhOBd4tLLkI+w0OjhUULr/HkHtYq1CK05I6g2yLKLWWr6kUKl975YT8L\n",
       "Ovgkkj6MOu9kJWqJ55ZPaijx1ks7Evs6OZL4P45hhkT1VLQb6T85DfSDwFti6wAAAABJRU5ErkJg\n",
       "gg==\n",
       "\" style=\"display:inline;vertical-align:middle;\" /></a><br>"
      ],
      "text/plain": [
       "B11_to_Bmn: B_{1,1}, ..B_{1,_b}.., B_{1,n}, ....B_{_a,1}, ..B_{_a,_b}.., B_{_a,n}...., B_{m,1}, ..B_{m,_b}.., B_{m,n}"
      ]
     },
     "execution_count": 12,
     "metadata": {},
     "output_type": "execute_result"
    }
   ],
   "source": [
    "B11_to_Bmn = varRange(B, [one, one], [m, n])"
   ]
  },
  {
   "cell_type": "code",
   "execution_count": 13,
   "metadata": {},
   "outputs": [
    {
     "data": {
      "text/html": [
       "<strong id=\"C11_to_Cmn\">C11_to_Cmn:</strong> <a class=\"ProveItLink\" href=\"__pv_it/ec672e26d9be3f46b407fae364802688897d13100/expr.ipynb\"><img src=\"data:image/png;base64,iVBORw0KGgoAAAANSUhEUgAAAUoAAAAUBAMAAAAZ9GkFAAAAMFBMVEX////MzMy6uroyMjJmZmYi\n",
       "IiKqqqoQEBB2dnbc3NyYmJhUVFRERESIiIju7u4AAACU7+9TAAAAAXRSTlMAQObYZgAAAAlwSFlz\n",
       "AAAOxAAADsQBlSsOGwAAAlhJREFUSMetVj1oFEEU/jbJbfYCt14hpAqkS5tOrBQrEcUg2liYTSGk\n",
       "iqaxUxfENkkZELyFlKa4wsrjSqs0KQwK+WEDFiKKJ/6AguK8mdnbnezO3pvgK97OPr5vv+/ezR+A\n",
       "8KD3qhmDEZ93eskm3IOvYAe/PYL/NGHwWw9TLN8+hUu2gh386Y5I1zcYP/J1Ckz8cjfJVqgBnxPa\n",
       "mGPwxx+JNHbf3SVbwQ4OflI+y+CvRyJ5F51N8hXs4M4C5ePR/OYP+be3nV2yFWrA67vclvzB6YKt\n",
       "UANe1M35OC9btWXlN77qRbTl6HKx1H6lxQTLeEyzFal3KFs9s2flT/6VHusgqFPIC1qLB9bmKflt\n",
       "+Ip5197LAeWlOoilPVohD3/BASxDbk0BRrtUO2WsIVNXZt4wXWoFwdhvvWiPcFkCK6EOTdc1w2Va\n",
       "3tBpjdPqCdLM5VwyuSHrtUGf0grE6La6mcuQCVZC/m9gOS26DL+J55d5PRi+4V4Cfy1r9/M9nElV\n",
       "fQg1BvmbViDG7EScueSClRDe77ychdHLW6LaoN37JnRq0LEVXu1dyidFnw4IWR9CzYFM9KlMoY9p\n",
       "NKLMpaRywP3iSVRw6Zf/8pXCWLlcxWXPrFdF8VOrOEDHG2qtMMFKKHcZ6qURlNVi0+UHNAe4sWTW\n",
       "K4+Cwtk1EG3ZDgRXuYx5YC2ky0++73oPsHnhmrhGlldP4UQgyHQ01sW7xKhX30jzoWCcx7MjwSWt\n",
       "KmolWAkZLVeP8k1w6mQhstRPRtWlMrJR7WDr7GNPN9dw4laBudfp0T38X1wN/gdXdd+qaWfx9QAA\n",
       "AABJRU5ErkJggg==\n",
       "\" style=\"display:inline;vertical-align:middle;\" /></a><br>"
      ],
      "text/plain": [
       "C11_to_Cmn: C_{1,1}, ..C_{1,_b}.., C_{1,n}, ....C_{_a,1}, ..C_{_a,_b}.., C_{_a,n}...., C_{m,1}, ..C_{m,_b}.., C_{m,n}"
      ]
     },
     "execution_count": 13,
     "metadata": {},
     "output_type": "execute_result"
    }
   ],
   "source": [
    "C11_to_Cmn = varRange(C, [one, one], [m, n])"
   ]
  },
  {
   "cell_type": "code",
   "execution_count": 14,
   "metadata": {},
   "outputs": [
    {
     "data": {
      "text/html": [
       "<strong id=\"D11_to_Dmn\">D11_to_Dmn:</strong> <a class=\"ProveItLink\" href=\"__pv_it/eee1ec8e6e2c7c153a55b2fd322ec104df2568210/expr.ipynb\"><img src=\"data:image/png;base64,iVBORw0KGgoAAAANSUhEUgAAAVQAAAAUBAMAAAAgk9heAAAAMFBMVEX///8iIiLu7u52dna6uroQ\n",
       "EBBmZmbMzMyqqqqYmJjc3NwyMjJUVFRERESIiIgAAABmmfmVAAAAAXRSTlMAQObYZgAAAAlwSFlz\n",
       "AAAOxAAADsQBlSsOGwAAAkJJREFUSMellj1M20AcxR9OIHEKDkUVc6SKAVWC7CwwMMPGVKkS6kCH\n",
       "ioWVBhbW7C0ighWJzICUzG2gmbq0VZIidSoNEvRLDR9354/c+RzfnfyXbNmX37v3t/N8NoDL+y9n\n",
       "pxXolAEqltO6bXx+n5z+D9h/9SYxQMXKV4G9UlI6c0d2L7WmMEBD9aYNjCwnpZ0/ZLdU1vpn9NFQ\n",
       "ddeB9L+k9NgV2R0VdaYwQEPVIlvuOimdb9JbVdfKkD4aqluypXtJaRoMdIu6GdJEI0LuXCelaTDw\n",
       "cd56y86mq4oM9VGTxYqGfPSGG4nzkWkuGPiFzQ67oJ/jigwFqEmxkOe5ZzrWR6L5YNjkcdtiZ9lx\n",
       "RYb6qMmySkO+xy8dcT4yzQVjqqnTqojaa5vfTRZK6zmV/HDerat8JNqzosGwTiC0WpDUBUiovVge\n",
       "rsBSdVnwQ/6syiR1p+77WLq0a4VHJBgLL4RWLfL+xGw1fBBC9zvIF9ivEaw4jBpZfCZdyfxI0fcZ\n",
       "oJVp12q01mt8fQXxrj4mFzdEeyIC94COhNFzLJJfJxBmg4NA+eG+cfapwiQbGCr5PhHaATSz6hfX\n",
       "alZKgDjioitYzQDbigAIyhVc4igT+Gzr0q4V7//UmyIlTSGOMDR3hSc7gOqFwCuJ5By7qcCnqEl7\n",
       "Vn4d1F5jo5Sb+00evxlpCmHERdN1XJRhtRWt8koiOcbhN98nQhtNu1Zied+I8pImj3iorVoBIr/D\n",
       "SoO0MXRcIvUjaFpm4kja1tfbCTo1FHv0A4YC8F/NEBIKAAAAAElFTkSuQmCC\n",
       "\" style=\"display:inline;vertical-align:middle;\" /></a><br>"
      ],
      "text/plain": [
       "D11_to_Dmn: D_{1,1}, ..D_{1,_b}.., D_{1,n}, ....D_{_a,1}, ..D_{_a,_b}.., D_{_a,n}...., D_{m,1}, ..D_{m,_b}.., D_{m,n}"
      ]
     },
     "execution_count": 14,
     "metadata": {},
     "output_type": "execute_result"
    }
   ],
   "source": [
    "D11_to_Dmn = varRange(D, [one, one], [m, n])"
   ]
  },
  {
   "cell_type": "code",
   "execution_count": 15,
   "metadata": {},
   "outputs": [
    {
     "data": {
      "text/html": [
       "<strong id=\"S11_to_Smn\">S11_to_Smn:</strong> <a class=\"ProveItLink\" href=\"__pv_it/aab3dae533b9fc715491ee5c6f4cf57533cc772f0/expr.ipynb\"><img src=\"data:image/png;base64,iVBORw0KGgoAAAANSUhEUgAAAUIAAAAUBAMAAAAKIynxAAAAMFBMVEX///8iIiIQEBBUVFTc3NzM\n",
       "zMwyMjLu7u6IiIhERES6urqYmJh2dnZmZmaqqqoAAABQ2t8hAAAAAXRSTlMAQObYZgAAAAlwSFlz\n",
       "AAAOxAAADsQBlSsOGwAAAkpJREFUSMelVj1IHEEU/i65Zc/bu1MrQRJIYysLSXFNgpDCFIKHWFhe\n",
       "YZ8rEwx4YmGEhLTpvJgmXRaEQFItiFYWik0gJ26KYCWIIQnkx3VmZ27n1p1Z314e3PL28X3f+3b2\n",
       "zdwCqB3tOR0Q4rTrf0L+IOsbsa9hb1DYQ208PRvAIVXfiK3uAx8o7CPAaeY3SNY3YocbwDsK/QdQ\n",
       "bud3SNY3Yt97wDyBXf4DWFP5HVL1zdjZvw0SuxjuYJCg6puxpTC8R6K/Cr8PsIR0fTP20cY5sBTt\n",
       "ATtrpIvr4Z1shD4ifRVLTTo2juOO9XyEJwsr2Vvt93UIGPRVLjuRsPKMZL/lADXB+2qmBmyJLzIR\n",
       "+jNY6PcVRujYKG7yAW0RHLrsPf+SCOfLwkuiQ6HPCKulrcY1Dq9iRZs3LOui32ErxbT5YcMAVb/n\n",
       "cNO7MRWVM4MrCX1OcEtuz6FNw4o2Bz4qbr9D+ydf66ZM4rvqLWC7t8rTKxhuRWWFTCTqTuhzQoc/\n",
       "oOhExIo2+28PHyCxhqPscQrs7we3IS+FMeawfP9uEM9BHZuirJDJJLpwJalfxxwKQc9hxCRgozbJ\n",
       "+eX9a+nXfKJS4XACXStR1k++UprAOmatuNMJDSvaxA5tOWWVdCs/4fAZimcY/5Yoa0MpMUIdHyuM\n",
       "Khz6JKxsI6q7/9rWJGYefwaepHeK+mDgiLmg7OKF11/Wh1JihEU8XGNU3knH1GFFmyvHEQsvxXbS\n",
       "R6OunApPe6rqmUasYdqo45X7e7v1X1iPSHUGNpiLKrGXlrTWvRNwDsQAAAAASUVORK5CYII=\n",
       "\" style=\"display:inline;vertical-align:middle;\" /></a><br>"
      ],
      "text/plain": [
       "S11_to_Smn: S_{1,1}, ..S_{1,_b}.., S_{1,n}, ....S_{_a,1}, ..S_{_a,_b}.., S_{_a,n}...., S_{m,1}, ..S_{m,_b}.., S_{m,n}"
      ]
     },
     "execution_count": 15,
     "metadata": {},
     "output_type": "execute_result"
    }
   ],
   "source": [
    "S11_to_Smn = varRange(S, [one, one], [m, n])"
   ]
  },
  {
   "cell_type": "code",
   "execution_count": 16,
   "metadata": {},
   "outputs": [
    {
     "name": "stdout",
     "output_type": "stream",
     "text": [
      "Eij expression notebook is being updated\n",
      "Common expressions may be imported from autogenerated _common_.py\n"
     ]
    }
   ],
   "source": [
    "%end common"
   ]
  }
 ],
 "metadata": {
  "kernelspec": {
   "display_name": "Python 3",
   "language": "python",
   "name": "python3"
  },
  "language_info": {
   "codemirror_mode": {
    "name": "ipython",
    "version": 3
   },
   "file_extension": ".py",
   "mimetype": "text/x-python",
   "name": "python",
   "nbconvert_exporter": "python",
   "pygments_lexer": "ipython3",
   "version": "3.7.3"
  }
 },
 "nbformat": 4,
 "nbformat_minor": 1
}
