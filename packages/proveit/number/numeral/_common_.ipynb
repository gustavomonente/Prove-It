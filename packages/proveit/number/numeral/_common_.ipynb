{
 "cells": [
  {
   "cell_type": "markdown",
   "metadata": {},
   "source": [
    "Common expressions for context <a class=\"ProveItLink\" href=\"_context_.ipynb\">proveit.number.numeral</a>\n",
    "========"
   ]
  },
  {
   "cell_type": "code",
   "execution_count": 1,
   "metadata": {},
   "outputs": [],
   "source": [
    "import proveit\n",
    "# Automation is not needed when only building common expressions:\n",
    "proveit.defaults.automation = False # This will speed things up.\n",
    "from numeral import Numeral\n",
    "# the context is in the current directory:\n",
    "context = proveit.Context('.') # adds context root to sys.path if necessary"
   ]
  },
  {
   "cell_type": "code",
   "execution_count": 2,
   "metadata": {},
   "outputs": [
    {
     "name": "stdout",
     "output_type": "stream",
     "text": [
      "Defining common sub-expressions for context 'proveit.number.numeral'\n",
      "Subsequent end-of-cell assignments will define common sub-expressions\n",
      "%end_common will finalize the definitions\n"
     ]
    }
   ],
   "source": [
    "%begin common"
   ]
  },
  {
   "cell_type": "code",
   "execution_count": 3,
   "metadata": {},
   "outputs": [
    {
     "data": {
      "text/html": [
       "<strong id=\"zero\">zero:</strong> <a class=\"ProveItLink\" href=\"__pv_it/bcb6bc33e5975ec2290a3272bf7802d26ab8421d0/expr.ipynb\"><img src=\"data:image/png;base64,iVBORw0KGgoAAAANSUhEUgAAAAoAAAAOBAMAAADkjZCYAAAAMFBMVEX///9mZma6urpUVFREREQQ\n",
       "EBDc3NwiIiLu7u6qqqoyMjLMzMyYmJiIiIh2dnYAAADXmt2vAAAAAXRSTlMAQObYZgAAAFFJREFU\n",
       "CNdjYOC785qBgWElQ3sCA08AA98CBhYDBs4fDPwGDEw/GfoFGJj+MuQ/YOAGkgIM3P+gIkBZzp8M\n",
       "LA4MPD+guhgqGVo3MDD03bVmAABi3RThwIkdoQAAAABJRU5ErkJggg==\n",
       "\" style=\"display:inline;vertical-align:middle;\" /></a><br>\n",
       "<strong id=\"one\">one:</strong> <a class=\"ProveItLink\" href=\"__pv_it/f086f8c372bd40a2458306ddfdbb29f3dc6f63030/expr.ipynb\"><img src=\"data:image/png;base64,iVBORw0KGgoAAAANSUhEUgAAAAgAAAAPBAMAAAArJJMAAAAAIVBMVEX///8yMjJmZmaIiIiYmJh2\n",
       "dnZUVFTu7u4QEBCqqqoAAAADAhFxAAAAAXRSTlMAQObYZgAAACBJREFUCNdjYAADznYGhrKw5UAW\n",
       "CykEM5BgylioAjYDAHBOCeDSSky9AAAAAElFTkSuQmCC\n",
       "\" style=\"display:inline;vertical-align:middle;\" /></a><br>\n",
       "<strong id=\"two\">two:</strong> <a class=\"ProveItLink\" href=\"__pv_it/fb4ccffdbfd0f653ebaacb95e7ff4802fd48a6f20/expr.ipynb\"><img src=\"data:image/png;base64,iVBORw0KGgoAAAANSUhEUgAAAAkAAAAOBAMAAAAPuiubAAAALVBMVEX///+qqqqIiIgyMjLc3Nwi\n",
       "IiIQEBC6urp2dnZUVFTMzMxERERmZmbu7u4AAAAQI6y7AAAAAXRSTlMAQObYZgAAAFJJREFUCNdj\n",
       "4D2zewEDw00GjucMDGcZGNIYGFIZGOY5MNhdYJgHlGBgiLsAJNhfgJisE0DkGRDBdABEyjCwODBw\n",
       "NTAwOTC4dvRMZWCwe/fuKQMANh0TGKpG4roAAAAASUVORK5CYII=\n",
       "\" style=\"display:inline;vertical-align:middle;\" /></a><br>\n",
       "<strong id=\"three\">three:</strong> <a class=\"ProveItLink\" href=\"__pv_it/eafea0aba3ef5dc2db24e5b7b93d46ff53acbff50/expr.ipynb\"><img src=\"data:image/png;base64,iVBORw0KGgoAAAANSUhEUgAAAAoAAAAOBAMAAADkjZCYAAAAKlBMVEX////u7u4yMjIQEBC6uroi\n",
       "IiKIiIiYmJhmZmaqqqpERER2dnbc3NwAAAAz17lDAAAAAXRSTlMAQObYZgAAAE5JREFUCNdjYDi9\n",
       "eyUDA08Dw9wCBrabDLwBDCwmDLwKDEAAFGFgYIwGEjxbG0ECDMkOIJLZkIHnAAMXUPFFEMm8gIH1\n",
       "IgN7AVi9R8cSBgCvphDNutx7AgAAAABJRU5ErkJggg==\n",
       "\" style=\"display:inline;vertical-align:middle;\" /></a><br>\n",
       "<strong id=\"four\">four:</strong> <a class=\"ProveItLink\" href=\"__pv_it/32801785a546fd942457f8cd430f52e750ed8f980/expr.ipynb\"><img src=\"data:image/png;base64,iVBORw0KGgoAAAANSUhEUgAAAAoAAAAPBAMAAAAv0UM9AAAALVBMVEX///9ERESqqqru7u52dnYy\n",
       "MjKYmJjc3NwQEBCIiIhUVFQiIiJmZmbMzMwAAABMnJPBAAAAAXRSTlMAQObYZgAAAEBJREFUCNdj\n",
       "YGBguMMAArtABGcXiCyLApEOIJKtAERaMoBIBxDJdAFEmjCASK0zZ16cBCkF62JoBBGO75aBOQwA\n",
       "Ls8NnulhIDAAAAAASUVORK5CYII=\n",
       "\" style=\"display:inline;vertical-align:middle;\" /></a><br>\n",
       "<strong id=\"five\">five:</strong> <a class=\"ProveItLink\" href=\"__pv_it/830e48d37e889933bd796fdae0e7d924860887e30/expr.ipynb\"><img src=\"data:image/png;base64,iVBORw0KGgoAAAANSUhEUgAAAAkAAAAOBAMAAAAPuiubAAAAMFBMVEX///8iIiK6urpERETc3NyI\n",
       "iIhUVFR2dnYQEBCqqqpmZmbMzMzu7u6YmJgyMjIAAABZcJOfAAAAAXRSTlMAQObYZgAAAE1JREFU\n",
       "CNdj4LvDvZKBgeP//wIGBr6yEAYGBjYGBgR5N2oDAwPzAZZPYK4hmFzvwJDHwFCvwNAHZB9gWMDA\n",
       "IMfA4MXA28LAwLI86wADAK3wEDcX5lPUAAAAAElFTkSuQmCC\n",
       "\" style=\"display:inline;vertical-align:middle;\" /></a><br>\n",
       "<strong id=\"six\">six:</strong> <a class=\"ProveItLink\" href=\"__pv_it/07a35308bd6695ab29139c4cb73e1de420f279b00/expr.ipynb\"><img src=\"data:image/png;base64,iVBORw0KGgoAAAANSUhEUgAAAAoAAAAOBAMAAADkjZCYAAAAMFBMVEX///9UVFSqqqoiIiKYmJgQ\n",
       "EBDc3NxERERmZma6uroyMjLu7u7MzMyIiIh2dnYAAACR0mqaAAAAAXRSTlMAQObYZgAAAFdJREFU\n",
       "CNdjYGB4e+8AA8OuCRwLGBgqGNgLGDi/MQABewCI5F/ztpOBYf8SBmYFhv0fGDiiGfgNGFh+MjAv\n",
       "YGD5wsAYAGLz/GbgACqWY9iqwMDA1yfDAACDihO7q5N0/gAAAABJRU5ErkJggg==\n",
       "\" style=\"display:inline;vertical-align:middle;\" /></a><br>\n",
       "<strong id=\"seven\">seven:</strong> <a class=\"ProveItLink\" href=\"__pv_it/71262bf4a24ecd1a7e4b184eac38f55d5950e1560/expr.ipynb\"><img src=\"data:image/png;base64,iVBORw0KGgoAAAANSUhEUgAAAAoAAAAOBAMAAADkjZCYAAAAMFBMVEX///8QEBCqqqoyMjLu7u5E\n",
       "RESIiIi6urrc3NyYmJh2dnZmZmZUVFQiIiLMzMwAAABzPQ5hAAAAAXRSTlMAQObYZgAAAEdJREFU\n",
       "CNdjeHt61aoFDPP///9/gGEHAwMPA8MCBoZ1DEDAngAiWUEEw0oQwfIBRLIZgEjeABDJfwBEvt8A\n",
       "IvUXgMhGBQYGAJnFEJUsZ+5dAAAAAElFTkSuQmCC\n",
       "\" style=\"display:inline;vertical-align:middle;\" /></a><br>\n",
       "<strong id=\"eight\">eight:</strong> <a class=\"ProveItLink\" href=\"__pv_it/7eb8117c0a5d387643495d33b46b16c30eb0e7cc0/expr.ipynb\"><img src=\"data:image/png;base64,iVBORw0KGgoAAAANSUhEUgAAAAoAAAAOBAMAAADkjZCYAAAAMFBMVEX////c3NzMzMwQEBAiIiJE\n",
       "REQyMjKYmJiqqqpUVFS6urpmZmZ2dnaIiIju7u4AAACLnIg+AAAAAXRSTlMAQObYZgAAAFtJREFU\n",
       "CNdjYHh7ZxcDA8MGBs4GBo4CBr4EBp4ABj4HBq6vD3gKGBjmfz8BlOX5nwcku5d8XsDAPoHhvh0D\n",
       "8wMGph8M74GC0xmYBRgYAhm48hjYLzAwaO7ZxQAA10EWqpnysVoAAAAASUVORK5CYII=\n",
       "\" style=\"display:inline;vertical-align:middle;\" /></a><br>\n",
       "<strong id=\"nine\">nine:</strong> <a class=\"ProveItLink\" href=\"__pv_it/7fab80fdcebf6e49053ee9ced791d7d7639d49600/expr.ipynb\"><img src=\"data:image/png;base64,iVBORw0KGgoAAAANSUhEUgAAAAoAAAAOBAMAAADkjZCYAAAALVBMVEX////MzMyqqqq6urqIiIhE\n",
       "REQyMjKYmJgQEBDc3NxUVFR2dnZmZmbu7u4AAABDhPggAAAAAXRSTlMAQObYZgAAAFVJREFUCNdj\n",
       "YLizeyUDA287w4wLDFwNDFwHGPgSGLgfMNwLYGB5ycABZD8GcdmeMzCEMGg/YmBgKpF+yAAEXG9B\n",
       "JNsCBvZeBrkJDCy5vOlA/u4zBgwArBUUgWOHdRMAAAAASUVORK5CYII=\n",
       "\" style=\"display:inline;vertical-align:middle;\" /></a><br>"
      ],
      "text/plain": [
       "zero: 0\n",
       "one: 1\n",
       "two: 2\n",
       "three: 3\n",
       "four: 4\n",
       "five: 5\n",
       "six: 6\n",
       "seven: 7\n",
       "eight: 8\n",
       "nine: 9"
      ]
     },
     "execution_count": 3,
     "metadata": {},
     "output_type": "execute_result"
    }
   ],
   "source": [
    "zero, one, two, three, four, five, six, seven, eight, nine = [Numeral(n) for n in range(10)]"
   ]
  },
  {
   "cell_type": "code",
   "execution_count": 4,
   "metadata": {},
   "outputs": [
    {
     "data": {
      "text/html": [
       "<strong id=\"hexa\">hexa:</strong> <a class=\"ProveItLink\" href=\"__pv_it/82ec3ffb33ef99ba44d20e04d75517de581a3d960/expr.ipynb\"><img src=\"data:image/png;base64,iVBORw0KGgoAAAANSUhEUgAAAAsAAAAJBAMAAAAWSsseAAAAMFBMVEX///9UVFSqqqrMzMwiIiJE\n",
       "RESYmJgyMjK6urru7u4QEBCIiIh2dnZmZmbc3NwAAABRgo0vAAAAAXRSTlMAQObYZgAAAEdJREFU\n",
       "CNdjYOC7c3slAwND1wP2DwwMnMsYeAMYGHh/MrBsYGDgCmCYb8DAMP8Agz5QxXwFBnGmBwysG9gc\n",
       "eYAqpTc/3MEAAP4BD32xAXDqAAAAAElFTkSuQmCC\n",
       "\" style=\"display:inline;vertical-align:middle;\" /></a><br>\n",
       "<strong id=\"hexb\">hexb:</strong> <a class=\"ProveItLink\" href=\"__pv_it/8fc0d5e06a0b61efcb74333dee6e85cfce3a06900/expr.ipynb\"><img src=\"data:image/png;base64,iVBORw0KGgoAAAANSUhEUgAAAAkAAAAOBAMAAAAPuiubAAAALVBMVEX///+YmJjc3NyIiIhUVFR2\n",
       "dna6urqqqqpmZmYyMjIiIiIQEBBERETu7u4AAAALjtrwAAAAAXRSTlMAQObYZgAAAE9JREFUCNdj\n",
       "4D29gAEIOBtAJF8BiMy7ACKjQATDFON2BgbelxfuKTCwv2XgM2DgmMBwLwCkPK+AgU+Aoe8CA18C\n",
       "70YGBhYBHqARvM2BDAwAqXgQspq5HJAAAAAASUVORK5CYII=\n",
       "\" style=\"display:inline;vertical-align:middle;\" /></a><br>\n",
       "<strong id=\"hexc\">hexc:</strong> <a class=\"ProveItLink\" href=\"__pv_it/c766eac6c77fa20080750d404a11a9e3a6b32a0e0/expr.ipynb\"><img src=\"data:image/png;base64,iVBORw0KGgoAAAANSUhEUgAAAAkAAAAJBAMAAAASvxsjAAAALVBMVEX///+YmJgQEBDu7u5mZmZU\n",
       "VFQyMjJERESqqqoiIiLc3NzMzMyIiIh2dnYAAABuqkWTAAAAAXRSTlMAQObYZgAAADZJREFUCNdj\n",
       "YGC4c2YDA8PKBvYEBoa5DKwNDCyPGYCAqQBE2l0AkXwCDAxA8QAGE6DKu4IHGABBiAr2Gi8OxgAA\n",
       "AABJRU5ErkJggg==\n",
       "\" style=\"display:inline;vertical-align:middle;\" /></a><br>\n",
       "<strong id=\"hexd\">hexd:</strong> <a class=\"ProveItLink\" href=\"__pv_it/b7b1bf4164e3f2aa7d0c114d394c9ffcf93741d50/expr.ipynb\"><img src=\"data:image/png;base64,iVBORw0KGgoAAAANSUhEUgAAAAsAAAAOBAMAAAALT/umAAAAMFBMVEX///9UVFSYmJiIiIjc3Nwy\n",
       "MjIiIiJ2dnbu7u66urqqqqpmZmYQEBBERETMzMwAAAAYOWz6AAAAAXRSTlMAQObYZgAAAFpJREFU\n",
       "CNdjYGBg4LuzgQEE+BeAqfkNYKoMTDJEAzHLdrtfQGqOA+8PBgaOQwzcAQwM3D8Y2AoYGHguMPRP\n",
       "YGDoL2BYD1TRv4BBlMuBgdeAKZEdqFLYztGSAQAyzhFdhFkSwwAAAABJRU5ErkJggg==\n",
       "\" style=\"display:inline;vertical-align:middle;\" /></a><br>\n",
       "<strong id=\"hexe\">hexe:</strong> <a class=\"ProveItLink\" href=\"__pv_it/b95cfbe4e938785992b418c541c2f556ee8cb4550/expr.ipynb\"><img src=\"data:image/png;base64,iVBORw0KGgoAAAANSUhEUgAAAAkAAAAJBAMAAAASvxsjAAAALVBMVEX///8yMjKYmJhUVFTMzMyq\n",
       "qqoQEBAiIiK6urrc3NxmZmaIiIh2dnbu7u4AAAAQ5FA8AAAAAXRSTlMAQObYZgAAADlJREFUCNdj\n",
       "YOA9vWsCA0P7BM4DDLypDLccGJiTdusyMPAZMAAB3wEQyQ4kNzBwCzDcAqrcpaTAAABiowvgYAOl\n",
       "vwAAAABJRU5ErkJggg==\n",
       "\" style=\"display:inline;vertical-align:middle;\" /></a><br>\n",
       "<strong id=\"hexf\">hexf:</strong> <a class=\"ProveItLink\" href=\"__pv_it/49406cbc7ab4a2cedcd7d5e19b6f52789ebe2d440/expr.ipynb\"><img src=\"data:image/png;base64,iVBORw0KGgoAAAANSUhEUgAAAAsAAAASBAMAAAB/WzlGAAAAMFBMVEX///8yMjJERETMzMwQEBCY\n",
       "mJgiIiK6urqqqqp2dnZUVFTc3NyIiIhmZmbu7u4AAADOOTK3AAAAAXRSTlMAQObYZgAAAFNJREFU\n",
       "CNdjYGBgeHt2A5BkWNnfACT5vj8HcTg+gEgGzgQQyXol9wKI5j8AFtxvAKb6wSTDNAilBaF8wCTf\n",
       "dzDFDjVEAUR2MQaAqKSHYLGY2yASAEu1ElmxJIVRAAAAAElFTkSuQmCC\n",
       "\" style=\"display:inline;vertical-align:middle;\" /></a><br>"
      ],
      "text/plain": [
       "hexa: a\n",
       "hexb: b\n",
       "hexc: c\n",
       "hexd: d\n",
       "hexe: e\n",
       "hexf: f"
      ]
     },
     "execution_count": 4,
     "metadata": {},
     "output_type": "execute_result"
    }
   ],
   "source": [
    "hexa, hexb, hexc, hexd, hexe, hexf = [Numeral(10+n, chr(ord('a') + n)) for n in range(6)]"
   ]
  },
  {
   "cell_type": "code",
   "execution_count": 5,
   "metadata": {},
   "outputs": [
    {
     "name": "stdout",
     "output_type": "stream",
     "text": [
      "Common expressions may be imported from autogenerated _common_.py\n"
     ]
    }
   ],
   "source": [
    "%end common"
   ]
  },
  {
   "cell_type": "code",
   "execution_count": null,
   "metadata": {},
   "outputs": [],
   "source": []
  }
 ],
 "metadata": {
  "kernelspec": {
   "display_name": "Python 3",
   "language": "python",
   "name": "python3"
  }
 },
 "nbformat": 4,
 "nbformat_minor": 0
}
