{
 "cells": [
  {
   "cell_type": "markdown",
   "metadata": {},
   "source": [
    "Context: <a href=\"../../_context_.ipynb\" class=\"ProveItLink\">proveit</a>.<a href=\"../_context_.ipynb\" class=\"ProveItLink\">number</a>.numeral\n",
    "========\n",
    "\n",
    "Provide description here."
   ]
  },
  {
   "cell_type": "code",
   "execution_count": 1,
   "metadata": {},
   "outputs": [
    {
     "data": {
      "text/html": [
       "<table><tr>\n",
       "<th><a class=\"ProveItLink\" href=\"_common_.ipynb\">common expressions</a></th>\n",
       "<th><a class=\"ProveItLink\" href=\"_axioms_.ipynb\">axioms</a></th>\n",
       "<th><a class=\"ProveItLink\" href=\"_theorems_.ipynb\">theorems</a></th>\n",
       "<th><a class=\"ProveItLink\" href=\"_demonstrations_.ipynb\">demonstrations</a></th>\n",
       "</tr></table>\n",
       "<table>\n",
       "<tr><th><a class=\"ProveItLink\" href=\"binary/_context_.ipynb\">binary</a></th><td>Only 0's and 1's as numerals</td></tr>\n",
       "<tr><th><a class=\"ProveItLink\" href=\"deci/_context_.ipynb\">deci</a></th><td>0-9 as numerals</td></tr>\n",
       "<tr><th><a class=\"ProveItLink\" href=\"hexidecimal/_context_.ipynb\">hexidecimal</a></th><td>0-9 and a-f as numerals</td></tr>\n",
       "</table>\n"
      ],
      "text/plain": [
       "<IPython.core.display.HTML object>"
      ]
     },
     "metadata": {},
     "output_type": "display_data"
    }
   ],
   "source": [
    "import proveit\n",
    "%context"
   ]
  },
  {
   "cell_type": "code",
   "execution_count": null,
   "metadata": {},
   "outputs": [],
   "source": []
  }
 ],
 "metadata": {
  "kernelspec": {
   "display_name": "Python 3",
   "language": "python",
   "name": "python3"
  }
 },
 "nbformat": 4,
 "nbformat_minor": 0
}
