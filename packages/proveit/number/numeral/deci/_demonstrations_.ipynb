{
 "cells": [
  {
   "cell_type": "markdown",
   "metadata": {},
   "source": [
    "Demonstrations for context <a class=\"ProveItLink\" href=\"_context_.ipynb\">proveit.number.numeral.decimal</a>\n",
    "========"
   ]
  },
  {
   "cell_type": "code",
   "execution_count": 1,
   "metadata": {},
   "outputs": [],
   "source": [
    "import proveit\n",
    "from proveit import ExprRange, ExprTuple, varRange, IndexedVar, defaults\n",
    "from proveit.logic import Forall, Equals, InSet, Set\n",
    "from proveit.number import zero, one, two, three, four, five, six, seven, eight, nine\n",
    "from proveit.number import (one, num, Add, Mult, Less, LesserSequence, \n",
    "                            Naturals, NaturalsPos, subtract)\n",
    "from proveit.number.numeral.deci import DecimalSequence\n",
    "from proveit.core_expr_types import Len\n",
    "from proveit._common_ import A, a, b, c, d, e, f, g, h, i, j, k, m, n, x\n",
    "#from proveit.core_expr_types.expr_array._common_ import Aij\n",
    "from proveit.number.numeral.deci._theorems_ import count_to_1_range, md_only_nine_add_one, md_nine_add_one, add_1_1, tuple_len_2, count_to_1_range\n",
    "from proveit.core_expr_types.tuples._axioms_ import tuple_len_incr, tuple_len_0\n",
    "from proveit.core_expr_types.tuples. _theorems_ import n_repeats_reduction\n",
    "\n",
    "%begin demonstrations"
   ]
  },
  {
   "cell_type": "code",
   "execution_count": 2,
   "metadata": {},
   "outputs": [],
   "source": [
    "from proveit.number.numeral.deci._theorems_ import deci_sequence_reduction_ER, reduce_4_repeats"
   ]
  },
  {
   "cell_type": "code",
   "execution_count": 3,
   "metadata": {},
   "outputs": [
    {
     "data": {
      "text/html": [
       "<span style=\"font-size:20px;\"> <a class=\"ProveItLink\" href=\"_proofs_/deci_sequence_reduction_ER.ipynb\" style=\"text-decoration: none\">&#x22A2;&nbsp;</a><a class=\"ProveItLink\" href=\"__pv_it/ad4d053aeb2cf0cc1967bc3bc3e86c22a06349a20/expr.ipynb\"><img src=\"data:image/png;base64,iVBORw0KGgoAAAANSUhEUgAACWEAAAAZBAMAAACoFGO5AAAAMFBMVEX///+IiIgiIiIQEBB2dnbu\n",
       "7u5UVFTMzMzc3NwyMjK6urpmZmaYmJiqqqpEREQAAACk/Np2AAAAAXRSTlMAQObYZgAAAAlwSFlz\n",
       "AAAOxAAADsQBlSsOGwAAEKpJREFUeNrtXQ2QU9UVPtkk+/K/WVwQC+p2dUen6hStCoOg2Q6/Fdun\n",
       "rnZaqZudEXVabKOoiIgbW6XjaNkwrZXWn2aAqq2KwWL9YdG3VmXEFYMFfzslTstorS6rZWW7gNtz\n",
       "7n2/eS/JS96GsjM5wybv3Zx7zrnnnvu9c897CQCOqb7lZKhRjWpUo2rTuJbsKEjx1xxZoxqBT3+S\n",
       "HIM251PyyLKT2RqSaohVoxqNCh2rO3Zlx4bNgWjhz46kMZCdzFZErBw1/M0hYjkXUqMajW0Kx+g1\n",
       "At44vu2sQMDlZzi0wPuPZuVQ+GWmOO+yc8wwq5CDMZRLZdl5LEes5+h8jUPEci6kRjUa2/Q9+ZWQ\n",
       "y5uqRMJ95bF7zCtRW/4NpRKkQ3IX0WoklY+hXCrHTvpDxLqRdog5h4jlXEiNajS2qYe97oRgGiAo\n",
       "VSLhUHnsdxVb/k+IJbZZg/w9ZJHjOBlDuVSOnexPYsDlcbRj9cMoCKlRjcY2TWGvT0MdvrorEaAs\n",
       "Trs0qdjy/2apBE3ZQJ5l/szBGMqmsuw8iyEWFd+d1c79MApCalSjMU0Bvolqhsvx9Q+VSFAXpz0S\n",
       "DhRb/qV2mOoG8n7zZw7GMOo7YYOd93OkOaOl5UyniOVcSI1qNKYpGKNXXw568W0THW6aGC3aI5/B\n",
       "3zlJt01Zf/XtE9jHa0/fuQbuaswETliweTH22oi5VW/TbHjr8yuzwuRGfbXp141bZMlHF99h3tXW\n",
       "paiaY7bLwRgA2poSRWG5ca6+d3l2zuGI9TTAHseI5VhIjWo0pskv0WsoClfJCcG6ZKT4Ni+foeMe\n",
       "75B2FuuPyqcH3jkoTINjwD0dLsrAkqQrFZ4GzwKcApQL6RIz73/FjiTYUB2YBnuVDeSrDG5bGMXB\n",
       "6Rjgp9lgrhjCnQbPF+ldws5XOWKtBF/cMWJZCnlFKk+Q6XE2YbNYslO5SszPxS1/atQNt5B5eBwS\n",
       "WuzUGwVUVMslVVER5G/hZKUhrcsbSghROeswGXiy5estLZ+3pOA0hI8ZECy6zTMx7BbhM20a0ueC\n",
       "bz87bAGxLgMNWX8cwsOEU4cQsZ5I0tE6EWI6UwehISpLLnqj72KJEI/Tm3mfORsDnAjuYllZXQxO\n",
       "N/Quy843OWJFRE/ayHjdprTrbMuW0FcteAixzELQ6VMAZjUx0xiQe2ddSYvhtt6r1G5w+x+38Vxy\n",
       "MgXap0uXkpLJ86ipCbt6SmIpKfG0sWlbyEbfPmcRRfPkCTw5pTbftx5Lq0rg+beX0ke9L1Eouqgr\n",
       "T4yFByuWaTbcItk+LA5ZArZVeBolzRtWKv6UcOBmo+k6Nxt2UlPL9I5Nr0f42zZYlrMFUDHDLD2o\n",
       "Qh4XUnwzqBy409zKABVepuMHg7Q8+VCsezIGHT0L3n3aavYOQ2iA7/UAuiTwx/wZ8B4QDgL8CuD7\n",
       "32GIVfflRL3EFHTEwIbqF0REFniRQUuXRQZS+RiCg+r8FdKc37sMO7s4YoWj+pq5MKE/HY7Phqes\n",
       "W6Zb8FB3oxDGAeEUeKIBiplrx/HJZXh8BRzFeI5neeHnbMD+BBkUGRmhauJEVvirj4XjJKIIWMlK\n",
       "oA020GkjQ/sMPMl6u9i9GxdNeuC8EzUlsHdkBCfElfTmmDFvAbzL5V1RsUyz4YrMw+iQa3/8MVNr\n",
       "V8W9woDqDUsV3U7cbDDd4GZ9ljRQpndsep0jljeOrbYQy+hUjIOA2s9b4hKhcnLE2gHBBF8m7hx0\n",
       "pOWhWBJnMBShA7qqTngA6nNKcXp3T19fgorQX4YP9PVthcuu2c0Qyzt/JGOoUj+RBRuqzwXEQ9ni\n",
       "daZPnYzBrc1fAc2m3mXYuU7+lk6qV8e0GY0N9wZ1lx19Cw+xPB6GVQYhjINC0J2AITX1bEizNHcp\n",
       "zGdTvZteH+b850OAX6/I/x8ziQ0J72BxxFKUwFRooHwpzJbSMHRju5DwsK6Ps6WU0ClBFXRdjKRZ\n",
       "nO6HDlGJ86kVyzQbnr88q++Q4NP0imptqvBkIK16w1LFcU7cbDDd4GYduXJlesem1zliBdMk0AZx\n",
       "1FWJ4uAe1a3pEp0VTj/bFX6D9lQpeAAo23nDYtOlK1txBo0O8gxFpvoUNEgsI8GUitWfeY5FoBae\n",
       "Dl2EWLE7YOF+rUuDxHOYUqoxlaP0rVvbFerqWM7GwHK8oprNve3bKe8K4QJ0eqjn2gmuVxLgoobw\n",
       "ikeipPm1rY0ZY0sod1tei4JYJAQu653HQ4BVJDAEu5MwUx1CSJQ35qfSy4UdbPU8ziZl+gqRFSY8\n",
       "9HZ8rI+u8ElcFaYF6u1pUuoKqhLfELiz6lJ6mS0lTJjpY+94tpRu3qUpgSTMpt77aOzYtSEtx7nw\n",
       "2QSxQplmw5W109ZbZYcoGoDteEmtTRXuh3dp3rBQcVnvaiduNpiud7N+Lo+Jlukdm17niFWHK71x\n",
       "kaKNBTN2+s2jGc9L0TtPbcIdAh74FjwHD+2b7eprU9NhjAO4QC286Fxs5XaVM8LG0gzL6e0DXI5Z\n",
       "+Fc4WWy1MwY0Kz6Z73uHqW6jJSAx2M1zAkQsN2JJmupY++Fs9IIbk6mfJ++D2A4AXeGyIe2doUku\n",
       "ggSHIJJ6B7b76Imu7aaPnYwBQRMvhIU74J42gFgzCSqyc7uMWD9Dd4TWSe64K85z+HBi9nvkq20z\n",
       "YJqxpX7irrwWBbFIiPckgV8kLudV4BR0iTzeZKP4Eyc8TqMsBB+64xoGpjfwJ4bfYwE8EmNZNm7Z\n",
       "A/l1v4sSXcpOWFWCStm6CcvM7KkUF1tvLi9bSldfmtUpCbPL5vH7+C63S4K1fN20ujIVy8w3XJZZ\n",
       "l15SZYcoGrw55Y6KTRUdcy+TNG+YVOBc7nfmZp3pejcb5jLBKqv2vWPP6zJi3QkwTlQfs2TBTDuL\n",
       "R2IPQI8wBMcAphE99TF3UpgC6+E2NePCOID3IdiP9AkJUVxs5XZATtlYSlCEDP+i3hxcFdHQKR5d\n",
       "AtGRopt58gFbNowBzTobJrCGxfBvhRP/4QVhfohdnXH3J0wHT9I/DS6KwZI0zGvIwPG3JOdD7K8i\n",
       "fCTz0+qUIhlNsqpa06qoXg0vZmLQ+YuLUf5GU7Gl+Bi0gViNIZgBT8Ko2TDozQBzCWuSFnaaXZRv\n",
       "50YZsSJ4sbxjHCJ0MAaPcTQKUr7uu7AZBg0t4F4ACWOLglgkJJjBufftAc4By7IUgqfrQvA6hjbe\n",
       "D9gtmA7eRhUJ30Fgt2X5srvxRipPBPYsxAR4dd6Nq82gRo+qBJcSuz8hLyWhla80anrHyyslVLJR\n",
       "lPAFIlz1E5rdDZe8kQX/eH6RDKUqlWk2nMt8Hr4Lq8RqOoQ0sLXM4Ed4AOyq6Jb4zXMOFyYVOJcD\n",
       "xrl04BK9m/Vz2cUXfDneseN1GbE2UJ6glHV5MLOxo4i/Y6A2pOnAl4xIeNK15RJQkyXEzg3K2QZt\n",
       "Eq3cDionA3pPlu8SETm9nXNXHq1bjnUZDj78AGQGMmuYPfqEWa38OBYy4D8Usep1puA/nwKs3DQP\n",
       "/Isbf4gD+dGspNC5o3011F+RXN/blJb5SeLGLZpknWpVq6L60qabOhNwpiTgsem37UqNQR2I1Rhg\n",
       "VuP4PM2GQXvaGkXCGtHKTpOL8u08Wf9rM50IBXVZeBUvLNlwwhsjlKuPBqYYW7qp4mBoAd3D7g1p\n",
       "zNJubpU5hCtFytUPaSHokx/Zwksr3A0sBLO8cjfM0kkIxXkddB1tOH7we1xR7+bdKh2WsRx0SmjP\n",
       "oW1XlOCiFMEnsaUUZgU8RQm8It8QoXqF9z2M/fBqXjoNxiuVaTacy8Q9jrBWrKZDZiqPNTzY3/8p\n",
       "3LgI7KrAbdpB1RtmFTiXOeNcOnGJzs36uTyOfxvPvnfseV1GrLcot/uzWheiYGZ3U0Mz+rYhSLkl\n",
       "OoCmcVE8Cewd1m76BeNwq3L2ljaJVm4HjfMkYN9WY96pSxR6eCCf6kn7abbuD/gz5T2iUUK17wBV\n",
       "Pn2mpxdGYQwlOnQay/227aQ/DbGmYvh0C3A9z5/gcYpadyIYSxhatgeak0YePWJ1JCMvi4BRfr2S\n",
       "JxtKqbASbsLgnYqXd2SZ9cIFrCTbnWSligZapxFW3c+xrygKYiDF7ngbdrZD8MkloS19z+1MaEqM\n",
       "JWFfXMCTixN4IQZh1vn7slSV9Q1pSuCfbMHxCsQN9GUEnrY1iO5spTJNhssyiaVOrKJDSFp4y+sx\n",
       "EPgWfQ7YVYE7vGHVG2YVOJfjjXPpwCV6N+vn8oNLYM3d0TK8Y8/rMmIhlgxq0MKCmRI3lqYpORb4\n",
       "pch4YcrCG9RkjMWBtiu8VZtEK7dru0J4jVW92IMBuu8Xl1rt7oQr5xtI/B8QK5Rb67P6vvMojKFE\n",
       "h6mwSajETvpTEcs3gMi33QMRmplQGlxxbwy6oe7xhKGlU2iO6XjyEMud7MIEvxU4h3y7OoXdyKh2\n",
       "8H249Ck8aYW/iO2Ur4l4EsOcCd9ewUDCNrdEJ/dAPTJEJH+CVYGxpV19mSYMS4HjYHo4pimBNlwP\n",
       "7WwpIceqpcuxd50YOosU+wbxEw83npRQ2wwyBq8ki/DkE7iX12upy/bKZFoZTjKx5bfIR8FePYeg\n",
       "hvBx9C3cPUrl3ZaKdkxQhGbZG2YV7TSXtxjnsmKX6NycN5f7JRjalbPrHXteN1TeW0M5RRsLZv7E\n",
       "2iewUBiiBA8POsS6Ru/Aivexj2wZxQE06irvyiSqluvdrnFGEMEfVX4P4CO7q70bM5RQztZDGHXx\n",
       "UUWs+uh1HnblzqNRGEPxDog1X3u7EjvpT0WsQBzWwMrxGCa0g8Xwygkz4SFwLTC2rIHFCV1LHmIF\n",
       "enYsYFHOOFiUz5okYrfbf7cRlmTdIyMDeHJ949V4AqG91+BJexOmBzPB1fYUtWEiiid3Nc7Dk0Db\n",
       "XC4CW5YkhWn0MhMefb1Jgg+9qfq0TomH9fbNPxBFjvNGRvBEaJtA7LD9i+ySrLdtlqKE2jB9R+6N\n",
       "TcSwvkmOc+yyMVaZTCvDSSa19I1nwV49h5CGqwSciVUJGbFsqcCTJsZG3jCrwEPzXFbqEp2bTXMp\n",
       "fGHfO2DL6xpiIYQsb1JVsmBGXXufwYFEhYM7MjSiqKtn6wdwfmzn5HmyZSwOtNWKQpRJxI+Y5dP0\n",
       "btc4qar2FURP3f0KYEMpSg+BP+nrFG0AUGDvuclyAKuUan+yfqvVd+ucj6FEB8SaJqkSO/eA1a8m\n",
       "t/f3y0+ghG20GBGLU6vCodyJl7tlC54UYUjp1KpHzeGYO5SnpIj4krre1VoqkmlxwmTyFrahqKpD\n",
       "ml3bcMF8u/9j7TGwsAOnpLRRtI6KS8L5LtEaXfNak7a9Y8/rKmLJD3eGrZaBaXetUlZ351UTwiYx\n",
       "a+V2lRPu1ucREowJChUBwSNpDGQns7XY77zvstFigVjXnpPV3z1Ru4XFQidFGFgU78ozwBt3pesn\n",
       "5ikpLL6kLr6UdJe5MmVanTCZrEU4agtU1yHeeFh9fGgtQPk2m1XIh+a5rMQlejfnz2UwucB+uNjz\n",
       "uopY8EzhqBUGCkQ9l+TRouEZdRK1ENG53SNCjQ4ndBVBLMlGi1WOpZF8J553C0GhkyIMy7IGtVJh\n",
       "JSGoWBc9EqC0VCLT6oTJlA6/Q5QnCKTKnUIqQg7dbCU+zyVS+eFiz+saYnE0sYzaVQcKrQj2qvsy\n",
       "oQZJISvbt9VA5IhBLNvkL/T/FQpOpQu7bPA4HsIK8XDIPEwOuQWqo6JaLqmKCuVXHSrOf8QCx8U5\n",
       "a1R1GneC9D9ak1OUKdL3oAAAAABJRU5ErkJggg==\n",
       "\" style=\"display:inline;vertical-align:middle;\" /></a></span>"
      ],
      "text/plain": [
       "|- forall_{m in Naturals, n in Naturals, k in Naturals} [forall_{a_{1} in {0, 1, 2, 3, 4, 5, 6, 7, 8, 9}, ..a_{_a} in {0, 1, 2, 3, 4, 5, 6, 7, 8, 9}.., a_{m} in {0, 1, 2, 3, 4, 5, 6, 7, 8, 9}, b in {0, 1, 2, 3, 4, 5, 6, 7, 8, 9}, c_{1} in {0, 1, 2, 3, 4, 5, 6, 7, 8, 9}, ..c_{_a} in {0, 1, 2, 3, 4, 5, 6, 7, 8, 9}.., c_{n} in {0, 1, 2, 3, 4, 5, 6, 7, 8, 9}, d_{1} in {0, 1, 2, 3, 4, 5, 6, 7, 8, 9}, ..d_{_a} in {0, 1, 2, 3, 4, 5, 6, 7, 8, 9}.., d_{k} in {0, 1, 2, 3, 4, 5, 6, 7, 8, 9} | (b, ..n repeats.., b) = (c_{1}, ..c_{_a}.., c_{n})} (\\# (a_{1} ~ ..a_{_a}.. ~ a_{m} ~ b ~ ..n repeats.. ~ b ~ d_{1} ~ ..d_{_a}.. ~ d_{k}) = \\# (a_{1} ~ ..a_{_a}.. ~ a_{m} ~ c_{1} ~ ..c_{_a}.. ~ c_{n} ~ d_{1} ~ ..d_{_a}.. ~ d_{k}))]"
      ]
     },
     "execution_count": 3,
     "metadata": {},
     "output_type": "execute_result"
    }
   ],
   "source": [
    "deci_sequence_reduction_ER"
   ]
  },
  {
   "cell_type": "code",
   "execution_count": 4,
   "metadata": {},
   "outputs": [
    {
     "data": {
      "text/html": [
       "<strong id=\"reduction\">reduction:</strong> <span style=\"font-size:20px;\"> <a class=\"ProveItLink\" href=\"__pv_it/c0321633136dcff83f250b2a3ff37b347ab049410/proof.ipynb\" style=\"text-decoration: none\">&#x22A2;&nbsp;</a><a class=\"ProveItLink\" href=\"__pv_it/b922c242e921807dd3a130f55cbc8be68fa728df0/expr.ipynb\"><img src=\"data:image/png;base64,iVBORw0KGgoAAAANSUhEUgAAAQ0AAAAVBAMAAACuzqZ5AAAAMFBMVEX////MzMxUVFREREQiIiK6\n",
       "uroQEBCYmJhmZmYyMjLu7u52dnaqqqqIiIjc3NwAAACFAiZ1AAAAAXRSTlMAQObYZgAAAAlwSFlz\n",
       "AAAOxAAADsQBlSsOGwAAAyxJREFUSMetlk9IVEEcx7/r7rr73ttdFw/dShFKiEBvRWRKSEj0ZyEJ\n",
       "IgIpFkJIFjqYh2wRQkGkpQ5FRj5IIohIgrAwzIPsxf7swYvl1lIduqWIuUZIv5l5a2/mjZuFj93H\n",
       "d+bNfOb7fr/58wAUsEVXTFe5GTpvE53aKh/BnLduU/Sz7DYDhAd2yw986X/1wBHz3nqJrlMDfTY3\n",
       "a2ZgHsM2OXyB2vKjjqkVAmHYnno3XadGc74u4A45S6GiA345ALPlfcQ84RKIkKdeouvULmAfcBmo\n",
       "BKoysBaktPSU9xH1jOcgOtV6ia5Tq8ArambjNPCkEdFFd2/LKO+jxuPDQdxS6yW6RplLwKc4jBQG\n",
       "hbtld++Pwkf7xZl7+JZPBw+PD9RTmSRC+Qk70nBoD7ZfmVPiQYinqg+JrlMsHglYtewVWLZW3OlP\n",
       "OfEovl2hWTSHyiRG0+AyWwhnEEjDbERAmR+E6OFzopVfHCHRdYrmR3MKoQyOUnCSqP7lTgscH62w\n",
       "aciqKSpGlsFlthBcYyrYSc1c60IgptV4SHSdepDwNUwh0oIkFR5+eOOeH70lHzdoKqRgjBn0/kUh\n",
       "YZ7hPnCiSVrqAlGj+pDpGmUOvaT54VvgLSmWP11pyZV83Abe9Xd3x8kHloQ0+14LH49GisoSJcQp\n",
       "nQ83Xaeu2wh24C7XRqNre66razjHd6phekO2LzvxYDKb8DEfVsw2r8alIRliWp0fKl2nboLlpYnu\n",
       "nfgeh3svrBTxGBYqwebHopAXEFzbYaStSA4VKae1XULgkhoPia5TWTtGCQo1sqUWPYK9MFfZus6w\n",
       "H60rYbaNtrQkrILRhdExIYu08HutjEUkf4H6iJ9AAEOqD4muU7O2n14nnEM7FSaeJ2hxkD1KPMt9\n",
       "eGSJHZ0nfxwAPg9OwqjP74SQ1fPvX+RQNxkczz/jRttET47AcdWHRNcpa+IaO88KCJSyHLE33D+N\n",
       "8sfves9Yi/pIQ9epr/hzNln4Xx+W61RTLg1dp/rpf9DRjzce6C+fAes9v3ifeekaFWPT8b5TSG38\n",
       "ndV8vuzX3XrP/d5nXrpG+W1+mmzVd2FI43ZT9F7gN4DsJp6SHOl2AAAAAElFTkSuQmCC\n",
       "\" style=\"display:inline;vertical-align:middle;\" /></a></span><br>"
      ],
      "text/plain": [
       "reduction: |- (9, ..4 repeats.., 9) = (9, 9, 9, 9)"
      ]
     },
     "execution_count": 4,
     "metadata": {},
     "output_type": "execute_result"
    }
   ],
   "source": [
    "reduction = reduce_4_repeats.instantiate({x:nine})"
   ]
  },
  {
   "cell_type": "code",
   "execution_count": 5,
   "metadata": {},
   "outputs": [
    {
     "ename": "ProofFailure",
     "evalue": "Unable to prove \\# (9 ~ ..4 repeats.. ~ 9) = \\# (9 ~ ..4 repeats.. ~ 9):\nInfinite 'conclude' recursion blocked.",
     "output_type": "error",
     "traceback": [
      "\u001b[1;31m---------------------------------------------------------------------------\u001b[0m",
      "\u001b[1;31mProofFailure\u001b[0m                              Traceback (most recent call last)",
      "\u001b[1;32mc:\\users\\joaqu\\prove-it\\packages\\proveit\\_core_\\expression\\expr.py\u001b[0m in \u001b[0;36mprove\u001b[1;34m(self, assumptions, automation)\u001b[0m\n\u001b[0;32m    594\u001b[0m                     \u001b[1;31m# first attempt to prove via implication\u001b[0m\u001b[1;33m\u001b[0m\u001b[1;33m\u001b[0m\u001b[1;33m\u001b[0m\u001b[0m\n\u001b[1;32m--> 595\u001b[1;33m                     \u001b[0mconcludedTruth\u001b[0m \u001b[1;33m=\u001b[0m \u001b[0mself\u001b[0m\u001b[1;33m.\u001b[0m\u001b[0mconcludeViaImplication\u001b[0m\u001b[1;33m(\u001b[0m\u001b[0massumptions\u001b[0m\u001b[1;33m)\u001b[0m\u001b[1;33m\u001b[0m\u001b[1;33m\u001b[0m\u001b[0m\n\u001b[0m\u001b[0;32m    596\u001b[0m                 \u001b[1;32mexcept\u001b[0m \u001b[0mProofFailure\u001b[0m\u001b[1;33m:\u001b[0m\u001b[1;33m\u001b[0m\u001b[1;33m\u001b[0m\u001b[0m\n",
      "\u001b[1;32mc:\\users\\joaqu\\prove-it\\packages\\proveit\\_core_\\expression\\expr.py\u001b[0m in \u001b[0;36mconcludeViaImplication\u001b[1;34m(self, assumptions)\u001b[0m\n\u001b[0;32m    671\u001b[0m         \u001b[1;32mfrom\u001b[0m \u001b[0mproveit\u001b[0m\u001b[1;33m.\u001b[0m\u001b[0mlogic\u001b[0m \u001b[1;32mimport\u001b[0m \u001b[0mconcludeViaImplication\u001b[0m\u001b[1;33m\u001b[0m\u001b[1;33m\u001b[0m\u001b[0m\n\u001b[1;32m--> 672\u001b[1;33m         \u001b[1;32mreturn\u001b[0m \u001b[0mconcludeViaImplication\u001b[0m\u001b[1;33m(\u001b[0m\u001b[0mself\u001b[0m\u001b[1;33m,\u001b[0m \u001b[0massumptions\u001b[0m\u001b[1;33m)\u001b[0m\u001b[1;33m\u001b[0m\u001b[1;33m\u001b[0m\u001b[0m\n\u001b[0m\u001b[0;32m    673\u001b[0m \u001b[1;33m\u001b[0m\u001b[0m\n",
      "\u001b[1;32mc:\\users\\joaqu\\prove-it\\packages\\proveit\\logic\\boolean\\implication\\implies.py\u001b[0m in \u001b[0;36mconcludeViaImplication\u001b[1;34m(consequent, assumptions)\u001b[0m\n\u001b[0;32m    312\u001b[0m                         \u001b[0mqueue\u001b[0m\u001b[1;33m.\u001b[0m\u001b[0mappend\u001b[0m\u001b[1;33m(\u001b[0m\u001b[0mlocal_antecedent\u001b[0m\u001b[1;33m)\u001b[0m\u001b[1;33m\u001b[0m\u001b[1;33m\u001b[0m\u001b[0m\n\u001b[1;32m--> 313\u001b[1;33m     \u001b[1;32mraise\u001b[0m \u001b[0mProofFailure\u001b[0m\u001b[1;33m(\u001b[0m\u001b[0mconsequent\u001b[0m\u001b[1;33m,\u001b[0m \u001b[0massumptions\u001b[0m\u001b[1;33m,\u001b[0m \u001b[1;34m'Unable to conclude via implications'\u001b[0m\u001b[1;33m)\u001b[0m\u001b[1;33m\u001b[0m\u001b[1;33m\u001b[0m\u001b[0m\n\u001b[0m\u001b[0;32m    314\u001b[0m \u001b[1;33m\u001b[0m\u001b[0m\n",
      "\u001b[1;31mProofFailure\u001b[0m: Unable to prove \\# (9 ~ ..4 repeats.. ~ 9) = \\# (9 ~ ..4 repeats.. ~ 9):\nUnable to conclude via implications",
      "\nDuring handling of the above exception, another exception occurred:\n",
      "\u001b[1;31mProofFailure\u001b[0m                              Traceback (most recent call last)",
      "\u001b[1;32m<ipython-input-5-00166e38bf00>\u001b[0m in \u001b[0;36m<module>\u001b[1;34m\u001b[0m\n\u001b[0;32m      1\u001b[0m DecimalSequence(ExprRange(i, nine, one, four)).reduce_exprRange(assumptions=[InSet(nine, Set(zero, one, two, three, four, five, six, \n\u001b[1;32m----> 2\u001b[1;33m                                                                     seven, eight, nine))])\n\u001b[0m",
      "\u001b[1;32mc:\\users\\joaqu\\prove-it\\packages\\proveit\\number\\numeral\\deci\\deci.py\u001b[0m in \u001b[0;36mreduce_exprRange\u001b[1;34m(self, assumptions)\u001b[0m\n\u001b[0;32m     45\u001b[0m         \u001b[1;31m# A convenience to allow successive update to the equation via transitivities.\u001b[0m\u001b[1;33m\u001b[0m\u001b[1;33m\u001b[0m\u001b[1;33m\u001b[0m\u001b[0m\n\u001b[0;32m     46\u001b[0m         \u001b[1;31m# (starting with self=self).\u001b[0m\u001b[1;33m\u001b[0m\u001b[1;33m\u001b[0m\u001b[1;33m\u001b[0m\u001b[0m\n\u001b[1;32m---> 47\u001b[1;33m         \u001b[0meq\u001b[0m \u001b[1;33m=\u001b[0m \u001b[0mTransRelUpdater\u001b[0m\u001b[1;33m(\u001b[0m\u001b[0mself\u001b[0m\u001b[1;33m,\u001b[0m \u001b[0massumptions\u001b[0m\u001b[1;33m)\u001b[0m\u001b[1;33m\u001b[0m\u001b[1;33m\u001b[0m\u001b[0m\n\u001b[0m\u001b[0;32m     48\u001b[0m \u001b[1;33m\u001b[0m\u001b[0m\n\u001b[0;32m     49\u001b[0m         \u001b[1;32mfor\u001b[0m \u001b[0mi\u001b[0m\u001b[1;33m,\u001b[0m \u001b[0mdigit\u001b[0m \u001b[1;32min\u001b[0m \u001b[0menumerate\u001b[0m\u001b[1;33m(\u001b[0m\u001b[0mself\u001b[0m\u001b[1;33m.\u001b[0m\u001b[0mdigits\u001b[0m\u001b[1;33m)\u001b[0m\u001b[1;33m:\u001b[0m\u001b[1;33m\u001b[0m\u001b[1;33m\u001b[0m\u001b[0m\n",
      "\u001b[1;32mc:\\users\\joaqu\\prove-it\\packages\\proveit\\relation\\updater.py\u001b[0m in \u001b[0;36m__init__\u001b[1;34m(self, expr, assumptions)\u001b[0m\n\u001b[0;32m     18\u001b[0m         \u001b[1;32mfrom\u001b[0m \u001b[0mproveit\u001b[0m\u001b[1;33m.\u001b[0m\u001b[0mlogic\u001b[0m \u001b[1;32mimport\u001b[0m \u001b[0mEquals\u001b[0m\u001b[1;33m\u001b[0m\u001b[1;33m\u001b[0m\u001b[0m\n\u001b[0;32m     19\u001b[0m         \u001b[0mself\u001b[0m\u001b[1;33m.\u001b[0m\u001b[0mexpr\u001b[0m \u001b[1;33m=\u001b[0m \u001b[0mexpr\u001b[0m\u001b[1;33m\u001b[0m\u001b[1;33m\u001b[0m\u001b[0m\n\u001b[1;32m---> 20\u001b[1;33m         \u001b[0mself\u001b[0m\u001b[1;33m.\u001b[0m\u001b[0mrelation\u001b[0m \u001b[1;33m=\u001b[0m \u001b[0mEquals\u001b[0m\u001b[1;33m(\u001b[0m\u001b[0mexpr\u001b[0m\u001b[1;33m,\u001b[0m \u001b[0mexpr\u001b[0m\u001b[1;33m)\u001b[0m\u001b[1;33m.\u001b[0m\u001b[0mprove\u001b[0m\u001b[1;33m(\u001b[0m\u001b[1;33m)\u001b[0m\u001b[1;33m\u001b[0m\u001b[1;33m\u001b[0m\u001b[0m\n\u001b[0m\u001b[0;32m     21\u001b[0m         \u001b[0mself\u001b[0m\u001b[1;33m.\u001b[0m\u001b[0massumptions\u001b[0m \u001b[1;33m=\u001b[0m \u001b[0massumptions\u001b[0m\u001b[1;33m\u001b[0m\u001b[1;33m\u001b[0m\u001b[0m\n\u001b[0;32m     22\u001b[0m \u001b[1;33m\u001b[0m\u001b[0m\n",
      "\u001b[1;32mc:\\users\\joaqu\\prove-it\\packages\\proveit\\_core_\\expression\\expr.py\u001b[0m in \u001b[0;36mprove\u001b[1;34m(self, assumptions, automation)\u001b[0m\n\u001b[0;32m    596\u001b[0m                 \u001b[1;32mexcept\u001b[0m \u001b[0mProofFailure\u001b[0m\u001b[1;33m:\u001b[0m\u001b[1;33m\u001b[0m\u001b[1;33m\u001b[0m\u001b[0m\n\u001b[0;32m    597\u001b[0m                     \u001b[1;31m# try the 'conclude' method of the specific Expression class\u001b[0m\u001b[1;33m\u001b[0m\u001b[1;33m\u001b[0m\u001b[1;33m\u001b[0m\u001b[0m\n\u001b[1;32m--> 598\u001b[1;33m                     \u001b[0mconcludedTruth\u001b[0m \u001b[1;33m=\u001b[0m \u001b[0mself\u001b[0m\u001b[1;33m.\u001b[0m\u001b[0mconclude\u001b[0m\u001b[1;33m(\u001b[0m\u001b[0massumptions\u001b[0m\u001b[1;33m)\u001b[0m\u001b[1;33m\u001b[0m\u001b[1;33m\u001b[0m\u001b[0m\n\u001b[0m\u001b[0;32m    599\u001b[0m             \u001b[1;32mif\u001b[0m \u001b[0mconcludedTruth\u001b[0m \u001b[1;32mis\u001b[0m \u001b[1;32mNone\u001b[0m\u001b[1;33m:\u001b[0m\u001b[1;33m\u001b[0m\u001b[1;33m\u001b[0m\u001b[0m\n\u001b[0;32m    600\u001b[0m                 \u001b[1;32mraise\u001b[0m \u001b[0mProofFailure\u001b[0m\u001b[1;33m(\u001b[0m\u001b[0mself\u001b[0m\u001b[1;33m,\u001b[0m \u001b[0massumptions\u001b[0m\u001b[1;33m,\u001b[0m \u001b[1;34m\"Failure to automatically 'conclude'\"\u001b[0m\u001b[1;33m)\u001b[0m\u001b[1;33m\u001b[0m\u001b[1;33m\u001b[0m\u001b[0m\n",
      "\u001b[1;32mc:\\users\\joaqu\\prove-it\\packages\\proveit\\logic\\equality\\equals.py\u001b[0m in \u001b[0;36mconclude\u001b[1;34m(self, assumptions)\u001b[0m\n\u001b[0;32m    124\u001b[0m         \u001b[1;32mif\u001b[0m \u001b[0mself\u001b[0m\u001b[1;33m.\u001b[0m\u001b[0mlhs\u001b[0m\u001b[1;33m==\u001b[0m\u001b[0mself\u001b[0m\u001b[1;33m.\u001b[0m\u001b[0mrhs\u001b[0m\u001b[1;33m:\u001b[0m\u001b[1;33m\u001b[0m\u001b[1;33m\u001b[0m\u001b[0m\n\u001b[0;32m    125\u001b[0m             \u001b[1;31m# Trivial x=x\u001b[0m\u001b[1;33m\u001b[0m\u001b[1;33m\u001b[0m\u001b[1;33m\u001b[0m\u001b[0m\n\u001b[1;32m--> 126\u001b[1;33m             \u001b[1;32mreturn\u001b[0m \u001b[0mself\u001b[0m\u001b[1;33m.\u001b[0m\u001b[0mconcludeViaReflexivity\u001b[0m\u001b[1;33m(\u001b[0m\u001b[1;33m)\u001b[0m\u001b[1;33m\u001b[0m\u001b[1;33m\u001b[0m\u001b[0m\n\u001b[0m\u001b[0;32m    127\u001b[0m         \u001b[1;32mif\u001b[0m \u001b[0mself\u001b[0m\u001b[1;33m.\u001b[0m\u001b[0mlhs\u001b[0m \u001b[1;32mor\u001b[0m \u001b[0mself\u001b[0m\u001b[1;33m.\u001b[0m\u001b[0mrhs\u001b[0m \u001b[1;32min\u001b[0m \u001b[1;33m(\u001b[0m\u001b[0mTRUE\u001b[0m\u001b[1;33m,\u001b[0m \u001b[0mFALSE\u001b[0m\u001b[1;33m)\u001b[0m\u001b[1;33m:\u001b[0m\u001b[1;33m\u001b[0m\u001b[1;33m\u001b[0m\u001b[0m\n\u001b[0;32m    128\u001b[0m             \u001b[1;32mtry\u001b[0m\u001b[1;33m:\u001b[0m\u001b[1;33m\u001b[0m\u001b[1;33m\u001b[0m\u001b[0m\n",
      "\u001b[1;32mc:\\users\\joaqu\\prove-it\\packages\\proveit\\logic\\equality\\equals.py\u001b[0m in \u001b[0;36mconcludeViaReflexivity\u001b[1;34m(self, assumptions)\u001b[0m\n\u001b[0;32m    231\u001b[0m         \u001b[1;32mfrom\u001b[0m \u001b[1;33m.\u001b[0m\u001b[0m_axioms_\u001b[0m \u001b[1;32mimport\u001b[0m \u001b[0mequalsReflexivity\u001b[0m\u001b[1;33m\u001b[0m\u001b[1;33m\u001b[0m\u001b[0m\n\u001b[0;32m    232\u001b[0m         \u001b[1;32massert\u001b[0m \u001b[0mself\u001b[0m\u001b[1;33m.\u001b[0m\u001b[0mlhs\u001b[0m \u001b[1;33m==\u001b[0m \u001b[0mself\u001b[0m\u001b[1;33m.\u001b[0m\u001b[0mrhs\u001b[0m\u001b[1;33m\u001b[0m\u001b[1;33m\u001b[0m\u001b[0m\n\u001b[1;32m--> 233\u001b[1;33m         \u001b[1;32mreturn\u001b[0m \u001b[0mequalsReflexivity\u001b[0m\u001b[1;33m.\u001b[0m\u001b[0mspecialize\u001b[0m\u001b[1;33m(\u001b[0m\u001b[1;33m{\u001b[0m\u001b[0mx\u001b[0m\u001b[1;33m:\u001b[0m\u001b[0mself\u001b[0m\u001b[1;33m.\u001b[0m\u001b[0mlhs\u001b[0m\u001b[1;33m}\u001b[0m\u001b[1;33m)\u001b[0m\u001b[1;33m\u001b[0m\u001b[1;33m\u001b[0m\u001b[0m\n\u001b[0m\u001b[0;32m    234\u001b[0m \u001b[1;33m\u001b[0m\u001b[0m\n\u001b[0;32m    235\u001b[0m     \u001b[1;32mdef\u001b[0m \u001b[0mderiveReversed\u001b[0m\u001b[1;33m(\u001b[0m\u001b[0mself\u001b[0m\u001b[1;33m,\u001b[0m \u001b[0massumptions\u001b[0m\u001b[1;33m=\u001b[0m\u001b[0mUSE_DEFAULTS\u001b[0m\u001b[1;33m)\u001b[0m\u001b[1;33m:\u001b[0m\u001b[1;33m\u001b[0m\u001b[1;33m\u001b[0m\u001b[0m\n",
      "\u001b[1;32mc:\\users\\joaqu\\prove-it\\packages\\proveit\\_core_\\known_truth.py\u001b[0m in \u001b[0;36mspecialize\u001b[1;34m(self, repl_map, relabel_map, assumptions)\u001b[0m\n\u001b[0;32m    739\u001b[0m             \u001b[0mrepl_map\u001b[0m \u001b[1;33m=\u001b[0m \u001b[0mdict\u001b[0m\u001b[1;33m(\u001b[0m\u001b[1;33m)\u001b[0m\u001b[1;33m\u001b[0m\u001b[1;33m\u001b[0m\u001b[0m\n\u001b[0;32m    740\u001b[0m             \u001b[0mrepl_map\u001b[0m\u001b[1;33m.\u001b[0m\u001b[0mupdate\u001b[0m\u001b[1;33m(\u001b[0m\u001b[0mrelabel_map\u001b[0m\u001b[1;33m)\u001b[0m\u001b[1;33m\u001b[0m\u001b[1;33m\u001b[0m\u001b[0m\n\u001b[1;32m--> 741\u001b[1;33m         \u001b[1;32mreturn\u001b[0m \u001b[0mself\u001b[0m\u001b[1;33m.\u001b[0m\u001b[0minstantiate\u001b[0m\u001b[1;33m(\u001b[0m\u001b[0mrepl_map\u001b[0m\u001b[1;33m,\u001b[0m \u001b[0massumptions\u001b[0m\u001b[1;33m=\u001b[0m\u001b[0massumptions\u001b[0m\u001b[1;33m)\u001b[0m\u001b[1;33m\u001b[0m\u001b[1;33m\u001b[0m\u001b[0m\n\u001b[0m\u001b[0;32m    742\u001b[0m \u001b[1;33m\u001b[0m\u001b[0m\n\u001b[0;32m    743\u001b[0m \u001b[1;33m\u001b[0m\u001b[0m\n",
      "\u001b[1;32mc:\\users\\joaqu\\prove-it\\packages\\proveit\\_core_\\known_truth.py\u001b[0m in \u001b[0;36minstantiate\u001b[1;34m(self, repl_map, num_forall_eliminations, assumptions)\u001b[0m\n\u001b[0;32m    897\u001b[0m                               \u001b[0mrepl_map\u001b[0m\u001b[1;33m=\u001b[0m\u001b[0mprocessed_repl_map\u001b[0m\u001b[1;33m,\u001b[0m\u001b[1;33m\u001b[0m\u001b[1;33m\u001b[0m\u001b[0m\n\u001b[0;32m    898\u001b[0m                               \u001b[0mequiv_alt_expansions\u001b[0m\u001b[1;33m=\u001b[0m\u001b[0mequiv_alt_expansions\u001b[0m\u001b[1;33m,\u001b[0m\u001b[1;33m\u001b[0m\u001b[1;33m\u001b[0m\u001b[0m\n\u001b[1;32m--> 899\u001b[1;33m                               assumptions=assumptions))\n\u001b[0m\u001b[0;32m    900\u001b[0m \u001b[1;33m\u001b[0m\u001b[0m\n\u001b[0;32m    901\u001b[0m     def generalize(self, forall_var_or_vars_or_var_lists, \n",
      "\u001b[1;32mc:\\users\\joaqu\\prove-it\\packages\\proveit\\_core_\\proof.py\u001b[0m in \u001b[0;36m__init__\u001b[1;34m(self, orig_known_truth, num_forall_eliminations, repl_map, equiv_alt_expansions, assumptions)\u001b[0m\n\u001b[0;32m    943\u001b[0m                         \u001b[0mparameters\u001b[0m\u001b[1;33m,\u001b[0m \u001b[0mrepl_map\u001b[0m\u001b[1;33m,\u001b[0m \u001b[0mequiv_alt_expansions\u001b[0m\u001b[1;33m,\u001b[0m\u001b[1;33m\u001b[0m\u001b[1;33m\u001b[0m\u001b[0m\n\u001b[0;32m    944\u001b[0m                         \u001b[0massumptions\u001b[0m\u001b[1;33m,\u001b[0m \u001b[0mrequirements\u001b[0m\u001b[1;33m,\u001b[0m\u001b[1;33m\u001b[0m\u001b[1;33m\u001b[0m\u001b[0m\n\u001b[1;32m--> 945\u001b[1;33m                         equality_repl_requirements)\n\u001b[0m\u001b[0;32m    946\u001b[0m \u001b[1;33m\u001b[0m\u001b[0m\n\u001b[0;32m    947\u001b[0m             \u001b[1;31m# Remove duplicates in the requirements.\u001b[0m\u001b[1;33m\u001b[0m\u001b[1;33m\u001b[0m\u001b[1;33m\u001b[0m\u001b[0m\n",
      "\u001b[1;32mc:\\users\\joaqu\\prove-it\\packages\\proveit\\_core_\\proof.py\u001b[0m in \u001b[0;36m_instantiated_expr\u001b[1;34m(original_known_truth, num_forall_eliminations, instantiation_params, repl_map, equiv_alt_expansions, assumptions, requirements, equality_repl_requirements)\u001b[0m\n\u001b[0;32m   1249\u001b[0m         \u001b[1;31m# Add to the lambda-application parameters anything that has\u001b[0m\u001b[1;33m\u001b[0m\u001b[1;33m\u001b[0m\u001b[1;33m\u001b[0m\u001b[0m\n\u001b[0;32m   1250\u001b[0m         \u001b[1;31m# not yet been used\u001b[0m\u001b[1;33m\u001b[0m\u001b[1;33m\u001b[0m\u001b[1;33m\u001b[0m\u001b[0m\n\u001b[1;32m-> 1251\u001b[1;33m         \u001b[1;32mreturn\u001b[0m \u001b[0minstantiate\u001b[0m\u001b[1;33m(\u001b[0m\u001b[0mexpr\u001b[0m\u001b[1;33m)\u001b[0m\u001b[1;33m\u001b[0m\u001b[1;33m\u001b[0m\u001b[0m\n\u001b[0m\u001b[0;32m   1252\u001b[0m \u001b[1;33m\u001b[0m\u001b[0m\n\u001b[0;32m   1253\u001b[0m \u001b[1;32mclass\u001b[0m \u001b[0mGeneralization\u001b[0m\u001b[1;33m(\u001b[0m\u001b[0mProof\u001b[0m\u001b[1;33m)\u001b[0m\u001b[1;33m:\u001b[0m\u001b[1;33m\u001b[0m\u001b[1;33m\u001b[0m\u001b[0m\n",
      "\u001b[1;32mc:\\users\\joaqu\\prove-it\\packages\\proveit\\_core_\\proof.py\u001b[0m in \u001b[0;36minstantiate\u001b[1;34m(expr, exclusion)\u001b[0m\n\u001b[0;32m   1162\u001b[0m                     \u001b[0mequiv_alt_expansions\u001b[0m\u001b[1;33m=\u001b[0m\u001b[0mequiv_alt_expansions\u001b[0m\u001b[1;33m,\u001b[0m\u001b[1;33m\u001b[0m\u001b[1;33m\u001b[0m\u001b[0m\n\u001b[0;32m   1163\u001b[0m                     \u001b[0massumptions\u001b[0m\u001b[1;33m=\u001b[0m\u001b[0massumptions\u001b[0m\u001b[1;33m,\u001b[0m \u001b[0mrequirements\u001b[0m\u001b[1;33m=\u001b[0m\u001b[0mrequirements\u001b[0m\u001b[1;33m,\u001b[0m\u001b[1;33m\u001b[0m\u001b[1;33m\u001b[0m\u001b[0m\n\u001b[1;32m-> 1164\u001b[1;33m                     equality_repl_requirements=equality_repl_requirements)\n\u001b[0m\u001b[0;32m   1165\u001b[0m \u001b[1;33m\u001b[0m\u001b[0m\n\u001b[0;32m   1166\u001b[0m         \u001b[0mremaining_forall_eliminations\u001b[0m \u001b[1;33m=\u001b[0m \u001b[0mnum_forall_eliminations\u001b[0m\u001b[1;33m\u001b[0m\u001b[1;33m\u001b[0m\u001b[0m\n",
      "\u001b[1;32mc:\\users\\joaqu\\prove-it\\packages\\proveit\\_core_\\expression\\lambda_expr\\lambda_expr.py\u001b[0m in \u001b[0;36m_apply\u001b[1;34m(parameters, body, equiv_alt_expansions, allow_relabeling, assumptions, requirements, equality_repl_requirements, parameter_vars, *operands)\u001b[0m\n\u001b[0;32m    599\u001b[0m                     \u001b[0mrepl_map\u001b[0m\u001b[1;33m,\u001b[0m \u001b[0mallow_relabeling\u001b[0m\u001b[1;33m,\u001b[0m \u001b[0massumptions\u001b[0m\u001b[1;33m=\u001b[0m\u001b[0massumptions\u001b[0m\u001b[1;33m,\u001b[0m\u001b[1;33m\u001b[0m\u001b[1;33m\u001b[0m\u001b[0m\n\u001b[0;32m    600\u001b[0m                     \u001b[0mrequirements\u001b[0m\u001b[1;33m=\u001b[0m\u001b[0mrequirements\u001b[0m\u001b[1;33m,\u001b[0m\u001b[1;33m\u001b[0m\u001b[1;33m\u001b[0m\u001b[0m\n\u001b[1;32m--> 601\u001b[1;33m                     equality_repl_requirements=equality_repl_requirements)\n\u001b[0m\u001b[0;32m    602\u001b[0m         \u001b[1;32mexcept\u001b[0m \u001b[0mImproperReplacement\u001b[0m \u001b[1;32mas\u001b[0m \u001b[0me\u001b[0m\u001b[1;33m:\u001b[0m\u001b[1;33m\u001b[0m\u001b[1;33m\u001b[0m\u001b[0m\n\u001b[0;32m    603\u001b[0m             raise LambdaApplicationError(\n",
      "\u001b[1;32mc:\\users\\joaqu\\prove-it\\packages\\proveit\\_core_\\expression\\expr.py\u001b[0m in \u001b[0;36mreplaced\u001b[1;34m(self, repl_map, allow_relabeling, assumptions, requirements, equality_repl_requirements)\u001b[0m\n\u001b[0;32m    743\u001b[0m                 \u001b[0mrepl_map\u001b[0m\u001b[1;33m,\u001b[0m \u001b[0mallow_relabeling\u001b[0m\u001b[1;33m=\u001b[0m\u001b[0mallow_relabeling\u001b[0m\u001b[1;33m,\u001b[0m\u001b[1;33m\u001b[0m\u001b[1;33m\u001b[0m\u001b[0m\n\u001b[0;32m    744\u001b[0m                 \u001b[0massumptions\u001b[0m\u001b[1;33m=\u001b[0m\u001b[0massumptions\u001b[0m\u001b[1;33m,\u001b[0m \u001b[0mrequirements\u001b[0m\u001b[1;33m=\u001b[0m\u001b[0mrequirements\u001b[0m\u001b[1;33m,\u001b[0m\u001b[1;33m\u001b[0m\u001b[1;33m\u001b[0m\u001b[0m\n\u001b[1;32m--> 745\u001b[1;33m                 equality_repl_requirements=equality_repl_requirements)\\\n\u001b[0m\u001b[0;32m    746\u001b[0m                     ._auto_reduced(\n\u001b[0;32m    747\u001b[0m                             \u001b[0massumptions\u001b[0m\u001b[1;33m=\u001b[0m\u001b[0massumptions\u001b[0m\u001b[1;33m,\u001b[0m \u001b[0mrequirements\u001b[0m\u001b[1;33m=\u001b[0m\u001b[0mrequirements\u001b[0m\u001b[1;33m,\u001b[0m\u001b[1;33m\u001b[0m\u001b[1;33m\u001b[0m\u001b[0m\n",
      "\u001b[1;32mc:\\users\\joaqu\\prove-it\\packages\\proveit\\_core_\\expression\\operation\\operation.py\u001b[0m in \u001b[0;36m_replaced\u001b[1;34m(self, repl_map, allow_relabeling, assumptions, requirements, equality_repl_requirements)\u001b[0m\n\u001b[0;32m    452\u001b[0m             self.operand_or_operands.replaced(repl_map, allow_relabeling,\n\u001b[0;32m    453\u001b[0m                                               \u001b[0massumptions\u001b[0m\u001b[1;33m,\u001b[0m \u001b[0mrequirements\u001b[0m\u001b[1;33m,\u001b[0m\u001b[1;33m\u001b[0m\u001b[1;33m\u001b[0m\u001b[0m\n\u001b[1;32m--> 454\u001b[1;33m                                               equality_repl_requirements)\n\u001b[0m\u001b[0;32m    455\u001b[0m         \u001b[0msubbed_operators\u001b[0m \u001b[1;33m=\u001b[0m \u001b[0mcompositeExpression\u001b[0m\u001b[1;33m(\u001b[0m\u001b[0msubbed_operator_or_operators\u001b[0m\u001b[1;33m)\u001b[0m\u001b[1;33m\u001b[0m\u001b[1;33m\u001b[0m\u001b[0m\n\u001b[0;32m    456\u001b[0m \u001b[1;33m\u001b[0m\u001b[0m\n",
      "\u001b[1;32mc:\\users\\joaqu\\prove-it\\packages\\proveit\\_core_\\expression\\expr.py\u001b[0m in \u001b[0;36mreplaced\u001b[1;34m(self, repl_map, allow_relabeling, assumptions, requirements, equality_repl_requirements)\u001b[0m\n\u001b[0;32m    743\u001b[0m                 \u001b[0mrepl_map\u001b[0m\u001b[1;33m,\u001b[0m \u001b[0mallow_relabeling\u001b[0m\u001b[1;33m=\u001b[0m\u001b[0mallow_relabeling\u001b[0m\u001b[1;33m,\u001b[0m\u001b[1;33m\u001b[0m\u001b[1;33m\u001b[0m\u001b[0m\n\u001b[0;32m    744\u001b[0m                 \u001b[0massumptions\u001b[0m\u001b[1;33m=\u001b[0m\u001b[0massumptions\u001b[0m\u001b[1;33m,\u001b[0m \u001b[0mrequirements\u001b[0m\u001b[1;33m=\u001b[0m\u001b[0mrequirements\u001b[0m\u001b[1;33m,\u001b[0m\u001b[1;33m\u001b[0m\u001b[1;33m\u001b[0m\u001b[0m\n\u001b[1;32m--> 745\u001b[1;33m                 equality_repl_requirements=equality_repl_requirements)\\\n\u001b[0m\u001b[0;32m    746\u001b[0m                     ._auto_reduced(\n\u001b[0;32m    747\u001b[0m                             \u001b[0massumptions\u001b[0m\u001b[1;33m=\u001b[0m\u001b[0massumptions\u001b[0m\u001b[1;33m,\u001b[0m \u001b[0mrequirements\u001b[0m\u001b[1;33m=\u001b[0m\u001b[0mrequirements\u001b[0m\u001b[1;33m,\u001b[0m\u001b[1;33m\u001b[0m\u001b[1;33m\u001b[0m\u001b[0m\n",
      "\u001b[1;32mc:\\users\\joaqu\\prove-it\\packages\\proveit\\_core_\\expression\\composite\\expr_tuple.py\u001b[0m in \u001b[0;36m_replaced\u001b[1;34m(self, repl_map, allow_relabeling, assumptions, requirements, equality_repl_requirements)\u001b[0m\n\u001b[0;32m    327\u001b[0m                 subbed_expr = expr.replaced(repl_map, allow_relabeling, \n\u001b[0;32m    328\u001b[0m                                             \u001b[0massumptions\u001b[0m\u001b[1;33m,\u001b[0m \u001b[0mrequirements\u001b[0m\u001b[1;33m,\u001b[0m\u001b[1;33m\u001b[0m\u001b[1;33m\u001b[0m\u001b[0m\n\u001b[1;32m--> 329\u001b[1;33m                                             equality_repl_requirements)\n\u001b[0m\u001b[0;32m    330\u001b[0m                 \u001b[0msubbed_exprs\u001b[0m\u001b[1;33m.\u001b[0m\u001b[0mappend\u001b[0m\u001b[1;33m(\u001b[0m\u001b[0msubbed_expr\u001b[0m\u001b[1;33m)\u001b[0m\u001b[1;33m\u001b[0m\u001b[1;33m\u001b[0m\u001b[0m\n\u001b[0;32m    331\u001b[0m         \u001b[1;32mreturn\u001b[0m \u001b[0mExprTuple\u001b[0m\u001b[1;33m(\u001b[0m\u001b[1;33m*\u001b[0m\u001b[0msubbed_exprs\u001b[0m\u001b[1;33m)\u001b[0m\u001b[1;33m\u001b[0m\u001b[1;33m\u001b[0m\u001b[0m\n",
      "\u001b[1;32mc:\\users\\joaqu\\prove-it\\packages\\proveit\\_core_\\expression\\expr.py\u001b[0m in \u001b[0;36mreplaced\u001b[1;34m(self, repl_map, allow_relabeling, assumptions, requirements, equality_repl_requirements)\u001b[0m\n\u001b[0;32m    747\u001b[0m                             \u001b[0massumptions\u001b[0m\u001b[1;33m=\u001b[0m\u001b[0massumptions\u001b[0m\u001b[1;33m,\u001b[0m \u001b[0mrequirements\u001b[0m\u001b[1;33m=\u001b[0m\u001b[0mrequirements\u001b[0m\u001b[1;33m,\u001b[0m\u001b[1;33m\u001b[0m\u001b[1;33m\u001b[0m\u001b[0m\n\u001b[0;32m    748\u001b[0m                             \u001b[0mequality_repl_requirements\u001b[0m\u001b[1;33m=\u001b[0m\u001b[0;31m\\\u001b[0m\u001b[1;33m\u001b[0m\u001b[1;33m\u001b[0m\u001b[0m\n\u001b[1;32m--> 749\u001b[1;33m                             equality_repl_requirements)\n\u001b[0m\u001b[0;32m    750\u001b[0m \u001b[1;33m\u001b[0m\u001b[0m\n\u001b[0;32m    751\u001b[0m     def _replaced(self, repl_map, allow_relabeling,\n",
      "\u001b[1;32mc:\\users\\joaqu\\prove-it\\packages\\proveit\\_core_\\expression\\expr.py\u001b[0m in \u001b[0;36m_auto_reduced\u001b[1;34m(self, assumptions, requirements, equality_repl_requirements)\u001b[0m\n\u001b[0;32m    391\u001b[0m             \u001b[1;32mfrom\u001b[0m \u001b[0mproveit\u001b[0m \u001b[1;32mimport\u001b[0m \u001b[0mKnownTruth\u001b[0m\u001b[1;33m\u001b[0m\u001b[1;33m\u001b[0m\u001b[0m\n\u001b[0;32m    392\u001b[0m             \u001b[1;32mfrom\u001b[0m \u001b[0mproveit\u001b[0m\u001b[1;33m.\u001b[0m\u001b[0mlogic\u001b[0m \u001b[1;32mimport\u001b[0m \u001b[0mEquals\u001b[0m\u001b[1;33m\u001b[0m\u001b[1;33m\u001b[0m\u001b[0m\n\u001b[1;32m--> 393\u001b[1;33m             \u001b[0mreduction\u001b[0m \u001b[1;33m=\u001b[0m \u001b[0mself\u001b[0m\u001b[1;33m.\u001b[0m\u001b[0mauto_reduction\u001b[0m\u001b[1;33m(\u001b[0m\u001b[0massumptions\u001b[0m\u001b[1;33m=\u001b[0m\u001b[0massumptions\u001b[0m\u001b[1;33m)\u001b[0m\u001b[1;33m\u001b[0m\u001b[1;33m\u001b[0m\u001b[0m\n\u001b[0m\u001b[0;32m    394\u001b[0m             \u001b[1;32mif\u001b[0m \u001b[0mreduction\u001b[0m \u001b[1;32mis\u001b[0m \u001b[1;32mnot\u001b[0m \u001b[1;32mNone\u001b[0m\u001b[1;33m:\u001b[0m\u001b[1;33m\u001b[0m\u001b[1;33m\u001b[0m\u001b[0m\n\u001b[0;32m    395\u001b[0m                 \u001b[1;32mif\u001b[0m \u001b[1;32mnot\u001b[0m \u001b[0misinstance\u001b[0m\u001b[1;33m(\u001b[0m\u001b[0mreduction\u001b[0m\u001b[1;33m,\u001b[0m \u001b[0mKnownTruth\u001b[0m\u001b[1;33m)\u001b[0m\u001b[1;33m:\u001b[0m\u001b[1;33m\u001b[0m\u001b[1;33m\u001b[0m\u001b[0m\n",
      "\u001b[1;32mc:\\users\\joaqu\\prove-it\\packages\\proveit\\_core_\\expression\\expr.py\u001b[0m in \u001b[0;36msafe_auto_reduction\u001b[1;34m(assumptions)\u001b[0m\n\u001b[0;32m    303\u001b[0m                     \u001b[1;31m# to avoid infinite recursion.\u001b[0m\u001b[1;33m\u001b[0m\u001b[1;33m\u001b[0m\u001b[1;33m\u001b[0m\u001b[0m\n\u001b[0;32m    304\u001b[0m                     \u001b[0mdefaults\u001b[0m\u001b[1;33m.\u001b[0m\u001b[0mdisabled_auto_reduction_types\u001b[0m\u001b[1;33m.\u001b[0m\u001b[0madd\u001b[0m\u001b[1;33m(\u001b[0m\u001b[0mattr_self_class\u001b[0m\u001b[1;33m)\u001b[0m\u001b[1;33m\u001b[0m\u001b[1;33m\u001b[0m\u001b[0m\n\u001b[1;32m--> 305\u001b[1;33m                     \u001b[1;32mreturn\u001b[0m \u001b[0mattr\u001b[0m\u001b[1;33m.\u001b[0m\u001b[0m__call__\u001b[0m\u001b[1;33m(\u001b[0m\u001b[0massumptions\u001b[0m\u001b[1;33m=\u001b[0m\u001b[0massumptions\u001b[0m\u001b[1;33m)\u001b[0m\u001b[1;33m\u001b[0m\u001b[1;33m\u001b[0m\u001b[0m\n\u001b[0m\u001b[0;32m    306\u001b[0m                 \u001b[1;32mfinally\u001b[0m\u001b[1;33m:\u001b[0m\u001b[1;33m\u001b[0m\u001b[1;33m\u001b[0m\u001b[0m\n\u001b[0;32m    307\u001b[0m                     \u001b[1;31m# Re-enable the reduction.\u001b[0m\u001b[1;33m\u001b[0m\u001b[1;33m\u001b[0m\u001b[1;33m\u001b[0m\u001b[0m\n",
      "\u001b[1;32mc:\\users\\joaqu\\prove-it\\packages\\proveit\\number\\numeral\\deci\\deci.py\u001b[0m in \u001b[0;36mauto_reduction\u001b[1;34m(self, assumptions)\u001b[0m\n\u001b[0;32m     26\u001b[0m             \u001b[1;32mif\u001b[0m \u001b[0misinstance\u001b[0m\u001b[1;33m(\u001b[0m\u001b[0mdigit\u001b[0m\u001b[1;33m,\u001b[0m \u001b[0mExprRange\u001b[0m\u001b[1;33m)\u001b[0m\u001b[1;33m:\u001b[0m\u001b[1;33m\u001b[0m\u001b[1;33m\u001b[0m\u001b[0m\n\u001b[0;32m     27\u001b[0m                 \u001b[1;31m# if at least one digit is an ExprRange, we can try to reduce it to an ExprTuple\u001b[0m\u001b[1;33m\u001b[0m\u001b[1;33m\u001b[0m\u001b[1;33m\u001b[0m\u001b[0m\n\u001b[1;32m---> 28\u001b[1;33m                 \u001b[1;32mreturn\u001b[0m \u001b[0mself\u001b[0m\u001b[1;33m.\u001b[0m\u001b[0mreduce_exprRange\u001b[0m\u001b[1;33m(\u001b[0m\u001b[0massumptions\u001b[0m\u001b[1;33m=\u001b[0m\u001b[0massumptions\u001b[0m\u001b[1;33m)\u001b[0m\u001b[1;33m\u001b[0m\u001b[1;33m\u001b[0m\u001b[0m\n\u001b[0m\u001b[0;32m     29\u001b[0m \u001b[1;33m\u001b[0m\u001b[0m\n\u001b[0;32m     30\u001b[0m     \u001b[1;32mdef\u001b[0m \u001b[0masInt\u001b[0m\u001b[1;33m(\u001b[0m\u001b[0mself\u001b[0m\u001b[1;33m)\u001b[0m\u001b[1;33m:\u001b[0m\u001b[1;33m\u001b[0m\u001b[1;33m\u001b[0m\u001b[0m\n",
      "\u001b[1;32mc:\\users\\joaqu\\prove-it\\packages\\proveit\\number\\numeral\\deci\\deci.py\u001b[0m in \u001b[0;36mreduce_exprRange\u001b[1;34m(self, assumptions)\u001b[0m\n\u001b[0;32m     45\u001b[0m         \u001b[1;31m# A convenience to allow successive update to the equation via transitivities.\u001b[0m\u001b[1;33m\u001b[0m\u001b[1;33m\u001b[0m\u001b[1;33m\u001b[0m\u001b[0m\n\u001b[0;32m     46\u001b[0m         \u001b[1;31m# (starting with self=self).\u001b[0m\u001b[1;33m\u001b[0m\u001b[1;33m\u001b[0m\u001b[1;33m\u001b[0m\u001b[0m\n\u001b[1;32m---> 47\u001b[1;33m         \u001b[0meq\u001b[0m \u001b[1;33m=\u001b[0m \u001b[0mTransRelUpdater\u001b[0m\u001b[1;33m(\u001b[0m\u001b[0mself\u001b[0m\u001b[1;33m,\u001b[0m \u001b[0massumptions\u001b[0m\u001b[1;33m)\u001b[0m\u001b[1;33m\u001b[0m\u001b[1;33m\u001b[0m\u001b[0m\n\u001b[0m\u001b[0;32m     48\u001b[0m \u001b[1;33m\u001b[0m\u001b[0m\n\u001b[0;32m     49\u001b[0m         \u001b[1;32mfor\u001b[0m \u001b[0mi\u001b[0m\u001b[1;33m,\u001b[0m \u001b[0mdigit\u001b[0m \u001b[1;32min\u001b[0m \u001b[0menumerate\u001b[0m\u001b[1;33m(\u001b[0m\u001b[0mself\u001b[0m\u001b[1;33m.\u001b[0m\u001b[0mdigits\u001b[0m\u001b[1;33m)\u001b[0m\u001b[1;33m:\u001b[0m\u001b[1;33m\u001b[0m\u001b[1;33m\u001b[0m\u001b[0m\n",
      "\u001b[1;32mc:\\users\\joaqu\\prove-it\\packages\\proveit\\relation\\updater.py\u001b[0m in \u001b[0;36m__init__\u001b[1;34m(self, expr, assumptions)\u001b[0m\n\u001b[0;32m     18\u001b[0m         \u001b[1;32mfrom\u001b[0m \u001b[0mproveit\u001b[0m\u001b[1;33m.\u001b[0m\u001b[0mlogic\u001b[0m \u001b[1;32mimport\u001b[0m \u001b[0mEquals\u001b[0m\u001b[1;33m\u001b[0m\u001b[1;33m\u001b[0m\u001b[0m\n\u001b[0;32m     19\u001b[0m         \u001b[0mself\u001b[0m\u001b[1;33m.\u001b[0m\u001b[0mexpr\u001b[0m \u001b[1;33m=\u001b[0m \u001b[0mexpr\u001b[0m\u001b[1;33m\u001b[0m\u001b[1;33m\u001b[0m\u001b[0m\n\u001b[1;32m---> 20\u001b[1;33m         \u001b[0mself\u001b[0m\u001b[1;33m.\u001b[0m\u001b[0mrelation\u001b[0m \u001b[1;33m=\u001b[0m \u001b[0mEquals\u001b[0m\u001b[1;33m(\u001b[0m\u001b[0mexpr\u001b[0m\u001b[1;33m,\u001b[0m \u001b[0mexpr\u001b[0m\u001b[1;33m)\u001b[0m\u001b[1;33m.\u001b[0m\u001b[0mprove\u001b[0m\u001b[1;33m(\u001b[0m\u001b[1;33m)\u001b[0m\u001b[1;33m\u001b[0m\u001b[1;33m\u001b[0m\u001b[0m\n\u001b[0m\u001b[0;32m     21\u001b[0m         \u001b[0mself\u001b[0m\u001b[1;33m.\u001b[0m\u001b[0massumptions\u001b[0m \u001b[1;33m=\u001b[0m \u001b[0massumptions\u001b[0m\u001b[1;33m\u001b[0m\u001b[1;33m\u001b[0m\u001b[0m\n\u001b[0;32m     22\u001b[0m \u001b[1;33m\u001b[0m\u001b[0m\n",
      "\u001b[1;32mc:\\users\\joaqu\\prove-it\\packages\\proveit\\_core_\\expression\\expr.py\u001b[0m in \u001b[0;36mprove\u001b[1;34m(self, assumptions, automation)\u001b[0m\n\u001b[0;32m    579\u001b[0m         \u001b[0min_progress_key\u001b[0m \u001b[1;33m=\u001b[0m \u001b[1;33m(\u001b[0m\u001b[0mself\u001b[0m\u001b[1;33m,\u001b[0m \u001b[0mtuple\u001b[0m\u001b[1;33m(\u001b[0m\u001b[0msorted\u001b[0m\u001b[1;33m(\u001b[0m\u001b[0massumptions\u001b[0m\u001b[1;33m,\u001b[0m \u001b[0mkey\u001b[0m\u001b[1;33m=\u001b[0m\u001b[1;32mlambda\u001b[0m \u001b[0mexpr\u001b[0m\u001b[1;33m:\u001b[0m\u001b[0mhash\u001b[0m\u001b[1;33m(\u001b[0m\u001b[0mexpr\u001b[0m\u001b[1;33m)\u001b[0m\u001b[1;33m)\u001b[0m\u001b[1;33m)\u001b[0m\u001b[1;33m)\u001b[0m\u001b[1;33m\u001b[0m\u001b[1;33m\u001b[0m\u001b[0m\n\u001b[0;32m    580\u001b[0m         \u001b[1;32mif\u001b[0m \u001b[0min_progress_key\u001b[0m \u001b[1;32min\u001b[0m \u001b[0mExpression\u001b[0m\u001b[1;33m.\u001b[0m\u001b[0min_progress_to_conclude\u001b[0m\u001b[1;33m:\u001b[0m\u001b[1;33m\u001b[0m\u001b[1;33m\u001b[0m\u001b[0m\n\u001b[1;32m--> 581\u001b[1;33m             \u001b[1;32mraise\u001b[0m \u001b[0mProofFailure\u001b[0m\u001b[1;33m(\u001b[0m\u001b[0mself\u001b[0m\u001b[1;33m,\u001b[0m \u001b[0massumptions\u001b[0m\u001b[1;33m,\u001b[0m \u001b[1;34m\"Infinite 'conclude' recursion blocked.\"\u001b[0m\u001b[1;33m)\u001b[0m\u001b[1;33m\u001b[0m\u001b[1;33m\u001b[0m\u001b[0m\n\u001b[0m\u001b[0;32m    582\u001b[0m         \u001b[0mExpression\u001b[0m\u001b[1;33m.\u001b[0m\u001b[0min_progress_to_conclude\u001b[0m\u001b[1;33m.\u001b[0m\u001b[0madd\u001b[0m\u001b[1;33m(\u001b[0m\u001b[0min_progress_key\u001b[0m\u001b[1;33m)\u001b[0m\u001b[1;33m\u001b[0m\u001b[1;33m\u001b[0m\u001b[0m\n\u001b[0;32m    583\u001b[0m \u001b[1;33m\u001b[0m\u001b[0m\n",
      "\u001b[1;31mProofFailure\u001b[0m: Unable to prove \\# (9 ~ ..4 repeats.. ~ 9) = \\# (9 ~ ..4 repeats.. ~ 9):\nInfinite 'conclude' recursion blocked."
     ]
    }
   ],
   "source": [
    "DecimalSequence(ExprRange(i, nine, one, four)).reduce_exprRange(assumptions=[InSet(nine, Set(zero, one, two, three, four, five, six, \n",
    "                                                                    seven, eight, nine))])"
   ]
  },
  {
   "cell_type": "code",
   "execution_count": 10,
   "metadata": {},
   "outputs": [
    {
     "data": {
      "text/html": [
       "<span style=\"font-size:20px;\"><a class=\"ProveItLink\" href=\"__pv_it/0612f046dd90add8128312f90c0c818f2ad7597d0/expr.ipynb\"><img src=\"data:image/png;base64,iVBORw0KGgoAAAANSUhEUgAAAQUAAAAVBAMAAAC9GeaNAAAAMFBMVEX///8QEBBERERUVFTMzMyY\n",
       "mJjc3NxmZmYiIiJ2dnaqqqoyMjKIiIi6urru7u4AAAAvZeGPAAAAAXRSTlMAQObYZgAAAAlwSFlz\n",
       "AAAOxAAADsQBlSsOGwAAA9FJREFUSMetVltoVEcY/vZ2kr1Ng61SAgmpvShEaySKtohGQil5cvvU\n",
       "PpQmFKoIhazkYcE1JFQ08RK7XiCJCtm+FAqlSRsQKTSk9SENhTTQh1JEcjRgFYSYNDWXbbKdmX9m\n",
       "zu7ZC3nIwP7nO9/Mf+ab//9nZgGwByjWStCb1qyvteHtt++KjilBl21+4LF7qk9KDW5+WxuE1rlJ\n",
       "dNiuEZIenGjTX7+iwInkGwqd7N9tRr9PD0/mrh4XHLxB38lms/NEPZ3sVJ0VicPcvg5tgt3Ak3H/\n",
       "NpcGQYfT7Dy9zSbX1bIaMDRNuYqjNa1Hn6VH5ZcX1FqsPhyk74wmEheJi8NHDuwyjvLFDQg8oCfb\n",
       "C+woouEj4Jp6jSgNPhueKmJWMTeie5UGn3EPx7Gdlsz1xCUKxMDIwVcFb9ytIQMMke8vvb0jRgOP\n",
       "07Cdr8GzDt8LiaI1eElreG/UrUH7IWTYYJ3WwP2Cz10a2ALwe5N4uT+VG4clYCbtikM3fItmopgC\n",
       "qQIN3+eElAoD0QW7ghzm6hBZLBYHkWVrLDcXTGiI5WsQSX+uQPScTkWb1vDxRBOhTMvEtN4ZdQoc\n",
       "+e80TBzWcjVUjMh62CMmC7eZmThtrQDHxgs0aMp/b59iPoPS4LWtNaq6TAzVqtenxQSzd2Dq4V/g\n",
       "Z4GlaeeTP5z2HxFBDzsB5LTUkCrQ0OMkXSUqpTXwtpM0ZIFTqiTaddc3n2bVlqpB8yrvEO7CNPcJ\n",
       "8sxNWQ9He3mToRM04xpmCuJQETfzeYgMtOVo6KJQLgOtav23VE8gjuFagn9PfsvrwapPk2FJktsl\n",
       "Ho+ck1rQS85SHQ0f6lOrCd5ViT6H1lDPv0MFcYlrUKX0hVZsw1o1K+HfC/4EZbwNkvxBlpuTC0Hz\n",
       "Hd7q2psIpXCcintda/ijsXH+HYle5YVnUqLiwP5RnnP8t9+cHzzawyJk0oh98ZVtyQ0XGc87oz4A\n",
       "kmBGg0QtwBSEME+DyIWS+DIk4sWzhYbN8HogFOXRJAc+21sShWrRzsN1VXRf1ZP9anspcD/maahM\n",
       "s1fUYSg0CGT1JDq6WYaOveGYRLwtQKITiNSSgzfFqgmFVkCd0TEExiWKXMGbcJ8PwUF1m8zutnM0\n",
       "sNv3mlApbiHfa8uHJArzK2gEvWLUnwl+Z0mEZHaXRFbigE0O6O9QrpbYo3JYc6JTocH+6QINTvtr\n",
       "Z85ZTc25ww0K2eXQBh1KasjLhd79BSiIcmiDDjkaIlVFNRiamTp10DOUQRt14PWuDasu/ldO0wFD\n",
       "OShWDm3UgW3Vhhfzu0VFlKA3rfmvp5X5H7+TOgvRL9K4AAAAAElFTkSuQmCC\n",
       "\" style=\"display:inline;vertical-align:middle;\" /></a> <a class=\"ProveItLink\" href=\"__pv_it/38679c9b1ac7d86569f67a8fa1d59b2a74c70ff80/proof.ipynb\" style=\"text-decoration: none\">&#x22A2;&nbsp;</a><a class=\"ProveItLink\" href=\"__pv_it/dc5e897483b2ab19f2532d796c0efde568e473500/expr.ipynb\"><img src=\"data:image/png;base64,iVBORw0KGgoAAAANSUhEUgAAAG4AAAAOBAMAAAA8gTSSAAAAMFBMVEX///+qqqqYmJi6urp2dnYy\n",
       "MjJERETc3NwQEBDMzMyIiIgiIiLu7u5UVFRmZmYAAAABFGnYAAAAAXRSTlMAQObYZgAAAAlwSFlz\n",
       "AAAOxAAADsQBlSsOGwAAAJ5JREFUKM9jYOB7d4cBnUAD2JTw7GKYUYBGoGnDqoS3gYHtARqBpg+r\n",
       "Ev4ABpYPaASaPqxKzicwcP1EI9D0YVUC0v0ZjcBiH4YSkGs/oRHgMNwNBheg/sNQwtPMMPcjGoEe\n",
       "nliVnFsi9ROdQAM4lPD9wSTQYx6bEtYETALZf1iVMPYw1E9AI9Asw6qEaw9DEjqBBrArcfEzwCDQ\n",
       "ABYlALpcswEB3paHAAAAAElFTkSuQmCC\n",
       "\" style=\"display:inline;vertical-align:middle;\" /></a></span>"
      ],
      "text/plain": [
       "{9 in {0, 1, 2, 3, 4, 5, 6, 7, 8, 9}} |- 9999 = 9999"
      ]
     },
     "execution_count": 10,
     "metadata": {},
     "output_type": "execute_result"
    }
   ],
   "source": [
    "deci_sequence_reduction_ER.instantiate({m:zero, n:four, k:zero, a:ExprTuple(), b:nine, \n",
    "                                      c: reduction.rhs, d:ExprTuple()}, \n",
    "                                       assumptions=[InSet(one, Set(zero, one, two, three, four, five, six, \n",
    "                                                                   seven, eight, nine)),\n",
    "                                                    InSet(nine, Set(zero, one, two, three, four, five, six, \n",
    "                                                                    seven, eight, nine))])"
   ]
  },
  {
   "cell_type": "code",
   "execution_count": 11,
   "metadata": {},
   "outputs": [
    {
     "data": {
      "text/html": [
       "<span style=\"font-size:20px;\"> <a class=\"ProveItLink\" href=\"__pv_it/69a13f0e9f09863b5c751298e82587706be309ec0/proof.ipynb\" style=\"text-decoration: none\">&#x22A2;&nbsp;</a><a class=\"ProveItLink\" href=\"__pv_it/58dc1a28724a6874a6f028be5c9820cc49f4c20a0/expr.ipynb\"><img src=\"data:image/png;base64,iVBORw0KGgoAAAANSUhEUgAAAZEAAAAVBAMAAAB1Wc4eAAAAMFBMVEX////MzMxUVFREREQiIiK6\n",
       "uroQEBCYmJhmZmYyMjLu7u52dnaqqqqIiIjc3NwAAACFAiZ1AAAAAXRSTlMAQObYZgAAAAlwSFlz\n",
       "AAAOxAAADsQBlSsOGwAAA6JJREFUWMO9V0toE0EY/tJkm2Q3L3qoXrSlBxEfNCf10idFSlUM2ouI\n",
       "UJSIVJB4Si+toShtqcVFQYsKBhWxiDQIoiVSc8rBBw3iwWqLiwj1Iq1UayulOrOb7T4m3ZoldAjJ\n",
       "7Hz//3/z7fz/zASAhFK1QpEC2IgmM/szJYt3osDY1IYokZlfA57+HSZkc9Gx+nuThV6KL6VAmpEl\n",
       "j6MNtpl5EfwhVJoSo9naOcWM3M85zgE3mfERFdKMLHjuDvyBbWZPDGUdcCYMqN9aSSDBDG0D9gFd\n",
       "zHifCmlGVjz+dZRYMZcDQRHCnAHddNUynp+NtwS8JMGS5vEOFdKMrHjWU2LFfAwYDcP/w7iG1kqq\n",
       "mHj8PPA5BG/MNM6JKqQZWfGsp8SKeVBZk1+GeJLMwO2fGpMCQx/Qfrarl8zx23QC7ul00lfbvAtb\n",
       "uifNbyYCodrE40mpkGbE8LBKbDHfgFwnv/XgDBSG4OXZWKXkF3E6wreCFNYkspJHhCsBPgyXKVsb\n",
       "YnCLtH+xhTa5BOgiKZBmxPKwa2KH+SBZoCgqlo0bhMLgauTRCizTx4kIiRLMZCVuhcbjOiHoXR5E\n",
       "HLUZ+BpNM3NlVEgzYnlYJXaYo+Th4ae3+jpxS3kGbzUcZLFuYZgUU6IqBm8K/HE5Hg7XGTZufugF\n",
       "yVbHnGlm5REV0owYnhF5DZv0SuwwR5V81lfad6hKEvAtxuPnabxgeKIvHg/xvW+UeI/uLJpmfSUJ\n",
       "rqOAEgXSjFgedk3sMN9WPMM64EhNzcJOeTQFh5x2ypuhiZGNOGg8IZDkL4SM8a4hn136OsmokGbE\n",
       "8hRQYoO5jnx3YjYEw1FwUo1He5ycraFysjFFzoBb2epNCL4cytTipZ7ZZIAkqDtselvOXB7iAX3P\n",
       "yFNQSdHMT4h7G/aCX6I5t6T8Yl6pO7KWlRGM47rEH4AjCkFaJEdPjyAKRL1TUsxlj/dJJwnvyZlm\n",
       "RrdlGRoVoeuZeApUvA3mdvKQfk7SuYUKbJU/GPhbR3f1hlMZBLanSWF2vyMWXwbHUTH1cSyHmnHu\n",
       "2fRT1Zx6CulLdALmez3XmIdc9Gqo9Qw8Wivb83M37DK71JzzJdc+WoctD17N8yuDNamdV2B7/9GK\n",
       "YHar579gO56gvy+aWhd7iU2VTomRuT7ff2zhYX01XvUMhBnMmc83frWC+FwxSophvpd/iK3tcHSh\n",
       "3ireqqeTTVA+L86tnYfFCCmKORAr2X/QngJjMxvy75cw/wP6q6L9iY8ACAAAAABJRU5ErkJggg==\n",
       "\" style=\"display:inline;vertical-align:middle;\" /></a></span>"
      ],
      "text/plain": [
       "|- (9, ..4 repeats.., 9) = (9, 9, ..4 - 1 repeats.., 9)"
      ]
     },
     "execution_count": 11,
     "metadata": {},
     "output_type": "execute_result"
    }
   ],
   "source": [
    "n_repeats_reduction.instantiate({n: four, x: nine}, assumptions=[])"
   ]
  },
  {
   "cell_type": "code",
   "execution_count": 12,
   "metadata": {},
   "outputs": [
    {
     "ename": "ProofFailure",
     "evalue": "Unable to prove \\# (7 ~ ..4 repeats.. ~ 7) = \\# (7 ~ ..4 repeats.. ~ 7):\nInfinite 'conclude' recursion blocked.",
     "output_type": "error",
     "traceback": [
      "\u001b[1;31m---------------------------------------------------------------------------\u001b[0m",
      "\u001b[1;31mProofFailure\u001b[0m                              Traceback (most recent call last)",
      "\u001b[1;32mc:\\users\\joaqu\\prove-it\\packages\\proveit\\_core_\\expression\\expr.py\u001b[0m in \u001b[0;36mprove\u001b[1;34m(self, assumptions, automation)\u001b[0m\n\u001b[0;32m    594\u001b[0m                     \u001b[1;31m# first attempt to prove via implication\u001b[0m\u001b[1;33m\u001b[0m\u001b[1;33m\u001b[0m\u001b[1;33m\u001b[0m\u001b[0m\n\u001b[1;32m--> 595\u001b[1;33m                     \u001b[0mconcludedTruth\u001b[0m \u001b[1;33m=\u001b[0m \u001b[0mself\u001b[0m\u001b[1;33m.\u001b[0m\u001b[0mconcludeViaImplication\u001b[0m\u001b[1;33m(\u001b[0m\u001b[0massumptions\u001b[0m\u001b[1;33m)\u001b[0m\u001b[1;33m\u001b[0m\u001b[1;33m\u001b[0m\u001b[0m\n\u001b[0m\u001b[0;32m    596\u001b[0m                 \u001b[1;32mexcept\u001b[0m \u001b[0mProofFailure\u001b[0m\u001b[1;33m:\u001b[0m\u001b[1;33m\u001b[0m\u001b[1;33m\u001b[0m\u001b[0m\n",
      "\u001b[1;32mc:\\users\\joaqu\\prove-it\\packages\\proveit\\_core_\\expression\\expr.py\u001b[0m in \u001b[0;36mconcludeViaImplication\u001b[1;34m(self, assumptions)\u001b[0m\n\u001b[0;32m    671\u001b[0m         \u001b[1;32mfrom\u001b[0m \u001b[0mproveit\u001b[0m\u001b[1;33m.\u001b[0m\u001b[0mlogic\u001b[0m \u001b[1;32mimport\u001b[0m \u001b[0mconcludeViaImplication\u001b[0m\u001b[1;33m\u001b[0m\u001b[1;33m\u001b[0m\u001b[0m\n\u001b[1;32m--> 672\u001b[1;33m         \u001b[1;32mreturn\u001b[0m \u001b[0mconcludeViaImplication\u001b[0m\u001b[1;33m(\u001b[0m\u001b[0mself\u001b[0m\u001b[1;33m,\u001b[0m \u001b[0massumptions\u001b[0m\u001b[1;33m)\u001b[0m\u001b[1;33m\u001b[0m\u001b[1;33m\u001b[0m\u001b[0m\n\u001b[0m\u001b[0;32m    673\u001b[0m \u001b[1;33m\u001b[0m\u001b[0m\n",
      "\u001b[1;32mc:\\users\\joaqu\\prove-it\\packages\\proveit\\logic\\boolean\\implication\\implies.py\u001b[0m in \u001b[0;36mconcludeViaImplication\u001b[1;34m(consequent, assumptions)\u001b[0m\n\u001b[0;32m    312\u001b[0m                         \u001b[0mqueue\u001b[0m\u001b[1;33m.\u001b[0m\u001b[0mappend\u001b[0m\u001b[1;33m(\u001b[0m\u001b[0mlocal_antecedent\u001b[0m\u001b[1;33m)\u001b[0m\u001b[1;33m\u001b[0m\u001b[1;33m\u001b[0m\u001b[0m\n\u001b[1;32m--> 313\u001b[1;33m     \u001b[1;32mraise\u001b[0m \u001b[0mProofFailure\u001b[0m\u001b[1;33m(\u001b[0m\u001b[0mconsequent\u001b[0m\u001b[1;33m,\u001b[0m \u001b[0massumptions\u001b[0m\u001b[1;33m,\u001b[0m \u001b[1;34m'Unable to conclude via implications'\u001b[0m\u001b[1;33m)\u001b[0m\u001b[1;33m\u001b[0m\u001b[1;33m\u001b[0m\u001b[0m\n\u001b[0m\u001b[0;32m    314\u001b[0m \u001b[1;33m\u001b[0m\u001b[0m\n",
      "\u001b[1;31mProofFailure\u001b[0m: Unable to prove \\# (7 ~ ..4 repeats.. ~ 7) = \\# (7 ~ ..4 repeats.. ~ 7):\nUnable to conclude via implications",
      "\nDuring handling of the above exception, another exception occurred:\n",
      "\u001b[1;31mProofFailure\u001b[0m                              Traceback (most recent call last)",
      "\u001b[1;32m<ipython-input-12-fac4f11f556f>\u001b[0m in \u001b[0;36m<module>\u001b[1;34m\u001b[0m\n\u001b[0;32m      4\u001b[0m                                                                                                  InSet(one, Set(zero, one, two, three,\n\u001b[0;32m      5\u001b[0m                                                                                             \u001b[0mfour\u001b[0m\u001b[1;33m,\u001b[0m \u001b[0mfive\u001b[0m\u001b[1;33m,\u001b[0m \u001b[0msix\u001b[0m\u001b[1;33m,\u001b[0m \u001b[0mseven\u001b[0m\u001b[1;33m,\u001b[0m\u001b[1;33m\u001b[0m\u001b[1;33m\u001b[0m\u001b[0m\n\u001b[1;32m----> 6\u001b[1;33m                                                                                             eight, nine))])\n\u001b[0m",
      "\u001b[1;32mc:\\users\\joaqu\\prove-it\\packages\\proveit\\number\\numeral\\deci\\deci.py\u001b[0m in \u001b[0;36mreduce_exprRange\u001b[1;34m(self, assumptions)\u001b[0m\n\u001b[0;32m     45\u001b[0m         \u001b[1;31m# A convenience to allow successive update to the equation via transitivities.\u001b[0m\u001b[1;33m\u001b[0m\u001b[1;33m\u001b[0m\u001b[1;33m\u001b[0m\u001b[0m\n\u001b[0;32m     46\u001b[0m         \u001b[1;31m# (starting with self=self).\u001b[0m\u001b[1;33m\u001b[0m\u001b[1;33m\u001b[0m\u001b[1;33m\u001b[0m\u001b[0m\n\u001b[1;32m---> 47\u001b[1;33m         \u001b[0meq\u001b[0m \u001b[1;33m=\u001b[0m \u001b[0mTransRelUpdater\u001b[0m\u001b[1;33m(\u001b[0m\u001b[0mself\u001b[0m\u001b[1;33m,\u001b[0m \u001b[0massumptions\u001b[0m\u001b[1;33m)\u001b[0m\u001b[1;33m\u001b[0m\u001b[1;33m\u001b[0m\u001b[0m\n\u001b[0m\u001b[0;32m     48\u001b[0m \u001b[1;33m\u001b[0m\u001b[0m\n\u001b[0;32m     49\u001b[0m         \u001b[1;32mfor\u001b[0m \u001b[0mi\u001b[0m\u001b[1;33m,\u001b[0m \u001b[0mdigit\u001b[0m \u001b[1;32min\u001b[0m \u001b[0menumerate\u001b[0m\u001b[1;33m(\u001b[0m\u001b[0mself\u001b[0m\u001b[1;33m.\u001b[0m\u001b[0mdigits\u001b[0m\u001b[1;33m)\u001b[0m\u001b[1;33m:\u001b[0m\u001b[1;33m\u001b[0m\u001b[1;33m\u001b[0m\u001b[0m\n",
      "\u001b[1;32mc:\\users\\joaqu\\prove-it\\packages\\proveit\\relation\\updater.py\u001b[0m in \u001b[0;36m__init__\u001b[1;34m(self, expr, assumptions)\u001b[0m\n\u001b[0;32m     18\u001b[0m         \u001b[1;32mfrom\u001b[0m \u001b[0mproveit\u001b[0m\u001b[1;33m.\u001b[0m\u001b[0mlogic\u001b[0m \u001b[1;32mimport\u001b[0m \u001b[0mEquals\u001b[0m\u001b[1;33m\u001b[0m\u001b[1;33m\u001b[0m\u001b[0m\n\u001b[0;32m     19\u001b[0m         \u001b[0mself\u001b[0m\u001b[1;33m.\u001b[0m\u001b[0mexpr\u001b[0m \u001b[1;33m=\u001b[0m \u001b[0mexpr\u001b[0m\u001b[1;33m\u001b[0m\u001b[1;33m\u001b[0m\u001b[0m\n\u001b[1;32m---> 20\u001b[1;33m         \u001b[0mself\u001b[0m\u001b[1;33m.\u001b[0m\u001b[0mrelation\u001b[0m \u001b[1;33m=\u001b[0m \u001b[0mEquals\u001b[0m\u001b[1;33m(\u001b[0m\u001b[0mexpr\u001b[0m\u001b[1;33m,\u001b[0m \u001b[0mexpr\u001b[0m\u001b[1;33m)\u001b[0m\u001b[1;33m.\u001b[0m\u001b[0mprove\u001b[0m\u001b[1;33m(\u001b[0m\u001b[1;33m)\u001b[0m\u001b[1;33m\u001b[0m\u001b[1;33m\u001b[0m\u001b[0m\n\u001b[0m\u001b[0;32m     21\u001b[0m         \u001b[0mself\u001b[0m\u001b[1;33m.\u001b[0m\u001b[0massumptions\u001b[0m \u001b[1;33m=\u001b[0m \u001b[0massumptions\u001b[0m\u001b[1;33m\u001b[0m\u001b[1;33m\u001b[0m\u001b[0m\n\u001b[0;32m     22\u001b[0m \u001b[1;33m\u001b[0m\u001b[0m\n",
      "\u001b[1;32mc:\\users\\joaqu\\prove-it\\packages\\proveit\\_core_\\expression\\expr.py\u001b[0m in \u001b[0;36mprove\u001b[1;34m(self, assumptions, automation)\u001b[0m\n\u001b[0;32m    596\u001b[0m                 \u001b[1;32mexcept\u001b[0m \u001b[0mProofFailure\u001b[0m\u001b[1;33m:\u001b[0m\u001b[1;33m\u001b[0m\u001b[1;33m\u001b[0m\u001b[0m\n\u001b[0;32m    597\u001b[0m                     \u001b[1;31m# try the 'conclude' method of the specific Expression class\u001b[0m\u001b[1;33m\u001b[0m\u001b[1;33m\u001b[0m\u001b[1;33m\u001b[0m\u001b[0m\n\u001b[1;32m--> 598\u001b[1;33m                     \u001b[0mconcludedTruth\u001b[0m \u001b[1;33m=\u001b[0m \u001b[0mself\u001b[0m\u001b[1;33m.\u001b[0m\u001b[0mconclude\u001b[0m\u001b[1;33m(\u001b[0m\u001b[0massumptions\u001b[0m\u001b[1;33m)\u001b[0m\u001b[1;33m\u001b[0m\u001b[1;33m\u001b[0m\u001b[0m\n\u001b[0m\u001b[0;32m    599\u001b[0m             \u001b[1;32mif\u001b[0m \u001b[0mconcludedTruth\u001b[0m \u001b[1;32mis\u001b[0m \u001b[1;32mNone\u001b[0m\u001b[1;33m:\u001b[0m\u001b[1;33m\u001b[0m\u001b[1;33m\u001b[0m\u001b[0m\n\u001b[0;32m    600\u001b[0m                 \u001b[1;32mraise\u001b[0m \u001b[0mProofFailure\u001b[0m\u001b[1;33m(\u001b[0m\u001b[0mself\u001b[0m\u001b[1;33m,\u001b[0m \u001b[0massumptions\u001b[0m\u001b[1;33m,\u001b[0m \u001b[1;34m\"Failure to automatically 'conclude'\"\u001b[0m\u001b[1;33m)\u001b[0m\u001b[1;33m\u001b[0m\u001b[1;33m\u001b[0m\u001b[0m\n",
      "\u001b[1;32mc:\\users\\joaqu\\prove-it\\packages\\proveit\\logic\\equality\\equals.py\u001b[0m in \u001b[0;36mconclude\u001b[1;34m(self, assumptions)\u001b[0m\n\u001b[0;32m    124\u001b[0m         \u001b[1;32mif\u001b[0m \u001b[0mself\u001b[0m\u001b[1;33m.\u001b[0m\u001b[0mlhs\u001b[0m\u001b[1;33m==\u001b[0m\u001b[0mself\u001b[0m\u001b[1;33m.\u001b[0m\u001b[0mrhs\u001b[0m\u001b[1;33m:\u001b[0m\u001b[1;33m\u001b[0m\u001b[1;33m\u001b[0m\u001b[0m\n\u001b[0;32m    125\u001b[0m             \u001b[1;31m# Trivial x=x\u001b[0m\u001b[1;33m\u001b[0m\u001b[1;33m\u001b[0m\u001b[1;33m\u001b[0m\u001b[0m\n\u001b[1;32m--> 126\u001b[1;33m             \u001b[1;32mreturn\u001b[0m \u001b[0mself\u001b[0m\u001b[1;33m.\u001b[0m\u001b[0mconcludeViaReflexivity\u001b[0m\u001b[1;33m(\u001b[0m\u001b[1;33m)\u001b[0m\u001b[1;33m\u001b[0m\u001b[1;33m\u001b[0m\u001b[0m\n\u001b[0m\u001b[0;32m    127\u001b[0m         \u001b[1;32mif\u001b[0m \u001b[0mself\u001b[0m\u001b[1;33m.\u001b[0m\u001b[0mlhs\u001b[0m \u001b[1;32mor\u001b[0m \u001b[0mself\u001b[0m\u001b[1;33m.\u001b[0m\u001b[0mrhs\u001b[0m \u001b[1;32min\u001b[0m \u001b[1;33m(\u001b[0m\u001b[0mTRUE\u001b[0m\u001b[1;33m,\u001b[0m \u001b[0mFALSE\u001b[0m\u001b[1;33m)\u001b[0m\u001b[1;33m:\u001b[0m\u001b[1;33m\u001b[0m\u001b[1;33m\u001b[0m\u001b[0m\n\u001b[0;32m    128\u001b[0m             \u001b[1;32mtry\u001b[0m\u001b[1;33m:\u001b[0m\u001b[1;33m\u001b[0m\u001b[1;33m\u001b[0m\u001b[0m\n",
      "\u001b[1;32mc:\\users\\joaqu\\prove-it\\packages\\proveit\\logic\\equality\\equals.py\u001b[0m in \u001b[0;36mconcludeViaReflexivity\u001b[1;34m(self, assumptions)\u001b[0m\n\u001b[0;32m    231\u001b[0m         \u001b[1;32mfrom\u001b[0m \u001b[1;33m.\u001b[0m\u001b[0m_axioms_\u001b[0m \u001b[1;32mimport\u001b[0m \u001b[0mequalsReflexivity\u001b[0m\u001b[1;33m\u001b[0m\u001b[1;33m\u001b[0m\u001b[0m\n\u001b[0;32m    232\u001b[0m         \u001b[1;32massert\u001b[0m \u001b[0mself\u001b[0m\u001b[1;33m.\u001b[0m\u001b[0mlhs\u001b[0m \u001b[1;33m==\u001b[0m \u001b[0mself\u001b[0m\u001b[1;33m.\u001b[0m\u001b[0mrhs\u001b[0m\u001b[1;33m\u001b[0m\u001b[1;33m\u001b[0m\u001b[0m\n\u001b[1;32m--> 233\u001b[1;33m         \u001b[1;32mreturn\u001b[0m \u001b[0mequalsReflexivity\u001b[0m\u001b[1;33m.\u001b[0m\u001b[0mspecialize\u001b[0m\u001b[1;33m(\u001b[0m\u001b[1;33m{\u001b[0m\u001b[0mx\u001b[0m\u001b[1;33m:\u001b[0m\u001b[0mself\u001b[0m\u001b[1;33m.\u001b[0m\u001b[0mlhs\u001b[0m\u001b[1;33m}\u001b[0m\u001b[1;33m)\u001b[0m\u001b[1;33m\u001b[0m\u001b[1;33m\u001b[0m\u001b[0m\n\u001b[0m\u001b[0;32m    234\u001b[0m \u001b[1;33m\u001b[0m\u001b[0m\n\u001b[0;32m    235\u001b[0m     \u001b[1;32mdef\u001b[0m \u001b[0mderiveReversed\u001b[0m\u001b[1;33m(\u001b[0m\u001b[0mself\u001b[0m\u001b[1;33m,\u001b[0m \u001b[0massumptions\u001b[0m\u001b[1;33m=\u001b[0m\u001b[0mUSE_DEFAULTS\u001b[0m\u001b[1;33m)\u001b[0m\u001b[1;33m:\u001b[0m\u001b[1;33m\u001b[0m\u001b[1;33m\u001b[0m\u001b[0m\n",
      "\u001b[1;32mc:\\users\\joaqu\\prove-it\\packages\\proveit\\_core_\\known_truth.py\u001b[0m in \u001b[0;36mspecialize\u001b[1;34m(self, repl_map, relabel_map, assumptions)\u001b[0m\n\u001b[0;32m    739\u001b[0m             \u001b[0mrepl_map\u001b[0m \u001b[1;33m=\u001b[0m \u001b[0mdict\u001b[0m\u001b[1;33m(\u001b[0m\u001b[1;33m)\u001b[0m\u001b[1;33m\u001b[0m\u001b[1;33m\u001b[0m\u001b[0m\n\u001b[0;32m    740\u001b[0m             \u001b[0mrepl_map\u001b[0m\u001b[1;33m.\u001b[0m\u001b[0mupdate\u001b[0m\u001b[1;33m(\u001b[0m\u001b[0mrelabel_map\u001b[0m\u001b[1;33m)\u001b[0m\u001b[1;33m\u001b[0m\u001b[1;33m\u001b[0m\u001b[0m\n\u001b[1;32m--> 741\u001b[1;33m         \u001b[1;32mreturn\u001b[0m \u001b[0mself\u001b[0m\u001b[1;33m.\u001b[0m\u001b[0minstantiate\u001b[0m\u001b[1;33m(\u001b[0m\u001b[0mrepl_map\u001b[0m\u001b[1;33m,\u001b[0m \u001b[0massumptions\u001b[0m\u001b[1;33m=\u001b[0m\u001b[0massumptions\u001b[0m\u001b[1;33m)\u001b[0m\u001b[1;33m\u001b[0m\u001b[1;33m\u001b[0m\u001b[0m\n\u001b[0m\u001b[0;32m    742\u001b[0m \u001b[1;33m\u001b[0m\u001b[0m\n\u001b[0;32m    743\u001b[0m \u001b[1;33m\u001b[0m\u001b[0m\n",
      "\u001b[1;32mc:\\users\\joaqu\\prove-it\\packages\\proveit\\_core_\\known_truth.py\u001b[0m in \u001b[0;36minstantiate\u001b[1;34m(self, repl_map, num_forall_eliminations, assumptions)\u001b[0m\n\u001b[0;32m    897\u001b[0m                               \u001b[0mrepl_map\u001b[0m\u001b[1;33m=\u001b[0m\u001b[0mprocessed_repl_map\u001b[0m\u001b[1;33m,\u001b[0m\u001b[1;33m\u001b[0m\u001b[1;33m\u001b[0m\u001b[0m\n\u001b[0;32m    898\u001b[0m                               \u001b[0mequiv_alt_expansions\u001b[0m\u001b[1;33m=\u001b[0m\u001b[0mequiv_alt_expansions\u001b[0m\u001b[1;33m,\u001b[0m\u001b[1;33m\u001b[0m\u001b[1;33m\u001b[0m\u001b[0m\n\u001b[1;32m--> 899\u001b[1;33m                               assumptions=assumptions))\n\u001b[0m\u001b[0;32m    900\u001b[0m \u001b[1;33m\u001b[0m\u001b[0m\n\u001b[0;32m    901\u001b[0m     def generalize(self, forall_var_or_vars_or_var_lists, \n",
      "\u001b[1;32mc:\\users\\joaqu\\prove-it\\packages\\proveit\\_core_\\proof.py\u001b[0m in \u001b[0;36m__init__\u001b[1;34m(self, orig_known_truth, num_forall_eliminations, repl_map, equiv_alt_expansions, assumptions)\u001b[0m\n\u001b[0;32m    943\u001b[0m                         \u001b[0mparameters\u001b[0m\u001b[1;33m,\u001b[0m \u001b[0mrepl_map\u001b[0m\u001b[1;33m,\u001b[0m \u001b[0mequiv_alt_expansions\u001b[0m\u001b[1;33m,\u001b[0m\u001b[1;33m\u001b[0m\u001b[1;33m\u001b[0m\u001b[0m\n\u001b[0;32m    944\u001b[0m                         \u001b[0massumptions\u001b[0m\u001b[1;33m,\u001b[0m \u001b[0mrequirements\u001b[0m\u001b[1;33m,\u001b[0m\u001b[1;33m\u001b[0m\u001b[1;33m\u001b[0m\u001b[0m\n\u001b[1;32m--> 945\u001b[1;33m                         equality_repl_requirements)\n\u001b[0m\u001b[0;32m    946\u001b[0m \u001b[1;33m\u001b[0m\u001b[0m\n\u001b[0;32m    947\u001b[0m             \u001b[1;31m# Remove duplicates in the requirements.\u001b[0m\u001b[1;33m\u001b[0m\u001b[1;33m\u001b[0m\u001b[1;33m\u001b[0m\u001b[0m\n",
      "\u001b[1;32mc:\\users\\joaqu\\prove-it\\packages\\proveit\\_core_\\proof.py\u001b[0m in \u001b[0;36m_instantiated_expr\u001b[1;34m(original_known_truth, num_forall_eliminations, instantiation_params, repl_map, equiv_alt_expansions, assumptions, requirements, equality_repl_requirements)\u001b[0m\n\u001b[0;32m   1249\u001b[0m         \u001b[1;31m# Add to the lambda-application parameters anything that has\u001b[0m\u001b[1;33m\u001b[0m\u001b[1;33m\u001b[0m\u001b[1;33m\u001b[0m\u001b[0m\n\u001b[0;32m   1250\u001b[0m         \u001b[1;31m# not yet been used\u001b[0m\u001b[1;33m\u001b[0m\u001b[1;33m\u001b[0m\u001b[1;33m\u001b[0m\u001b[0m\n\u001b[1;32m-> 1251\u001b[1;33m         \u001b[1;32mreturn\u001b[0m \u001b[0minstantiate\u001b[0m\u001b[1;33m(\u001b[0m\u001b[0mexpr\u001b[0m\u001b[1;33m)\u001b[0m\u001b[1;33m\u001b[0m\u001b[1;33m\u001b[0m\u001b[0m\n\u001b[0m\u001b[0;32m   1252\u001b[0m \u001b[1;33m\u001b[0m\u001b[0m\n\u001b[0;32m   1253\u001b[0m \u001b[1;32mclass\u001b[0m \u001b[0mGeneralization\u001b[0m\u001b[1;33m(\u001b[0m\u001b[0mProof\u001b[0m\u001b[1;33m)\u001b[0m\u001b[1;33m:\u001b[0m\u001b[1;33m\u001b[0m\u001b[1;33m\u001b[0m\u001b[0m\n",
      "\u001b[1;32mc:\\users\\joaqu\\prove-it\\packages\\proveit\\_core_\\proof.py\u001b[0m in \u001b[0;36minstantiate\u001b[1;34m(expr, exclusion)\u001b[0m\n\u001b[0;32m   1162\u001b[0m                     \u001b[0mequiv_alt_expansions\u001b[0m\u001b[1;33m=\u001b[0m\u001b[0mequiv_alt_expansions\u001b[0m\u001b[1;33m,\u001b[0m\u001b[1;33m\u001b[0m\u001b[1;33m\u001b[0m\u001b[0m\n\u001b[0;32m   1163\u001b[0m                     \u001b[0massumptions\u001b[0m\u001b[1;33m=\u001b[0m\u001b[0massumptions\u001b[0m\u001b[1;33m,\u001b[0m \u001b[0mrequirements\u001b[0m\u001b[1;33m=\u001b[0m\u001b[0mrequirements\u001b[0m\u001b[1;33m,\u001b[0m\u001b[1;33m\u001b[0m\u001b[1;33m\u001b[0m\u001b[0m\n\u001b[1;32m-> 1164\u001b[1;33m                     equality_repl_requirements=equality_repl_requirements)\n\u001b[0m\u001b[0;32m   1165\u001b[0m \u001b[1;33m\u001b[0m\u001b[0m\n\u001b[0;32m   1166\u001b[0m         \u001b[0mremaining_forall_eliminations\u001b[0m \u001b[1;33m=\u001b[0m \u001b[0mnum_forall_eliminations\u001b[0m\u001b[1;33m\u001b[0m\u001b[1;33m\u001b[0m\u001b[0m\n",
      "\u001b[1;32mc:\\users\\joaqu\\prove-it\\packages\\proveit\\_core_\\expression\\lambda_expr\\lambda_expr.py\u001b[0m in \u001b[0;36m_apply\u001b[1;34m(parameters, body, equiv_alt_expansions, allow_relabeling, assumptions, requirements, equality_repl_requirements, parameter_vars, *operands)\u001b[0m\n\u001b[0;32m    599\u001b[0m                     \u001b[0mrepl_map\u001b[0m\u001b[1;33m,\u001b[0m \u001b[0mallow_relabeling\u001b[0m\u001b[1;33m,\u001b[0m \u001b[0massumptions\u001b[0m\u001b[1;33m=\u001b[0m\u001b[0massumptions\u001b[0m\u001b[1;33m,\u001b[0m\u001b[1;33m\u001b[0m\u001b[1;33m\u001b[0m\u001b[0m\n\u001b[0;32m    600\u001b[0m                     \u001b[0mrequirements\u001b[0m\u001b[1;33m=\u001b[0m\u001b[0mrequirements\u001b[0m\u001b[1;33m,\u001b[0m\u001b[1;33m\u001b[0m\u001b[1;33m\u001b[0m\u001b[0m\n\u001b[1;32m--> 601\u001b[1;33m                     equality_repl_requirements=equality_repl_requirements)\n\u001b[0m\u001b[0;32m    602\u001b[0m         \u001b[1;32mexcept\u001b[0m \u001b[0mImproperReplacement\u001b[0m \u001b[1;32mas\u001b[0m \u001b[0me\u001b[0m\u001b[1;33m:\u001b[0m\u001b[1;33m\u001b[0m\u001b[1;33m\u001b[0m\u001b[0m\n\u001b[0;32m    603\u001b[0m             raise LambdaApplicationError(\n",
      "\u001b[1;32mc:\\users\\joaqu\\prove-it\\packages\\proveit\\_core_\\expression\\expr.py\u001b[0m in \u001b[0;36mreplaced\u001b[1;34m(self, repl_map, allow_relabeling, assumptions, requirements, equality_repl_requirements)\u001b[0m\n\u001b[0;32m    743\u001b[0m                 \u001b[0mrepl_map\u001b[0m\u001b[1;33m,\u001b[0m \u001b[0mallow_relabeling\u001b[0m\u001b[1;33m=\u001b[0m\u001b[0mallow_relabeling\u001b[0m\u001b[1;33m,\u001b[0m\u001b[1;33m\u001b[0m\u001b[1;33m\u001b[0m\u001b[0m\n\u001b[0;32m    744\u001b[0m                 \u001b[0massumptions\u001b[0m\u001b[1;33m=\u001b[0m\u001b[0massumptions\u001b[0m\u001b[1;33m,\u001b[0m \u001b[0mrequirements\u001b[0m\u001b[1;33m=\u001b[0m\u001b[0mrequirements\u001b[0m\u001b[1;33m,\u001b[0m\u001b[1;33m\u001b[0m\u001b[1;33m\u001b[0m\u001b[0m\n\u001b[1;32m--> 745\u001b[1;33m                 equality_repl_requirements=equality_repl_requirements)\\\n\u001b[0m\u001b[0;32m    746\u001b[0m                     ._auto_reduced(\n\u001b[0;32m    747\u001b[0m                             \u001b[0massumptions\u001b[0m\u001b[1;33m=\u001b[0m\u001b[0massumptions\u001b[0m\u001b[1;33m,\u001b[0m \u001b[0mrequirements\u001b[0m\u001b[1;33m=\u001b[0m\u001b[0mrequirements\u001b[0m\u001b[1;33m,\u001b[0m\u001b[1;33m\u001b[0m\u001b[1;33m\u001b[0m\u001b[0m\n",
      "\u001b[1;32mc:\\users\\joaqu\\prove-it\\packages\\proveit\\_core_\\expression\\operation\\operation.py\u001b[0m in \u001b[0;36m_replaced\u001b[1;34m(self, repl_map, allow_relabeling, assumptions, requirements, equality_repl_requirements)\u001b[0m\n\u001b[0;32m    452\u001b[0m             self.operand_or_operands.replaced(repl_map, allow_relabeling,\n\u001b[0;32m    453\u001b[0m                                               \u001b[0massumptions\u001b[0m\u001b[1;33m,\u001b[0m \u001b[0mrequirements\u001b[0m\u001b[1;33m,\u001b[0m\u001b[1;33m\u001b[0m\u001b[1;33m\u001b[0m\u001b[0m\n\u001b[1;32m--> 454\u001b[1;33m                                               equality_repl_requirements)\n\u001b[0m\u001b[0;32m    455\u001b[0m         \u001b[0msubbed_operators\u001b[0m \u001b[1;33m=\u001b[0m \u001b[0mcompositeExpression\u001b[0m\u001b[1;33m(\u001b[0m\u001b[0msubbed_operator_or_operators\u001b[0m\u001b[1;33m)\u001b[0m\u001b[1;33m\u001b[0m\u001b[1;33m\u001b[0m\u001b[0m\n\u001b[0;32m    456\u001b[0m \u001b[1;33m\u001b[0m\u001b[0m\n",
      "\u001b[1;32mc:\\users\\joaqu\\prove-it\\packages\\proveit\\_core_\\expression\\expr.py\u001b[0m in \u001b[0;36mreplaced\u001b[1;34m(self, repl_map, allow_relabeling, assumptions, requirements, equality_repl_requirements)\u001b[0m\n\u001b[0;32m    743\u001b[0m                 \u001b[0mrepl_map\u001b[0m\u001b[1;33m,\u001b[0m \u001b[0mallow_relabeling\u001b[0m\u001b[1;33m=\u001b[0m\u001b[0mallow_relabeling\u001b[0m\u001b[1;33m,\u001b[0m\u001b[1;33m\u001b[0m\u001b[1;33m\u001b[0m\u001b[0m\n\u001b[0;32m    744\u001b[0m                 \u001b[0massumptions\u001b[0m\u001b[1;33m=\u001b[0m\u001b[0massumptions\u001b[0m\u001b[1;33m,\u001b[0m \u001b[0mrequirements\u001b[0m\u001b[1;33m=\u001b[0m\u001b[0mrequirements\u001b[0m\u001b[1;33m,\u001b[0m\u001b[1;33m\u001b[0m\u001b[1;33m\u001b[0m\u001b[0m\n\u001b[1;32m--> 745\u001b[1;33m                 equality_repl_requirements=equality_repl_requirements)\\\n\u001b[0m\u001b[0;32m    746\u001b[0m                     ._auto_reduced(\n\u001b[0;32m    747\u001b[0m                             \u001b[0massumptions\u001b[0m\u001b[1;33m=\u001b[0m\u001b[0massumptions\u001b[0m\u001b[1;33m,\u001b[0m \u001b[0mrequirements\u001b[0m\u001b[1;33m=\u001b[0m\u001b[0mrequirements\u001b[0m\u001b[1;33m,\u001b[0m\u001b[1;33m\u001b[0m\u001b[1;33m\u001b[0m\u001b[0m\n",
      "\u001b[1;32mc:\\users\\joaqu\\prove-it\\packages\\proveit\\_core_\\expression\\composite\\expr_tuple.py\u001b[0m in \u001b[0;36m_replaced\u001b[1;34m(self, repl_map, allow_relabeling, assumptions, requirements, equality_repl_requirements)\u001b[0m\n\u001b[0;32m    327\u001b[0m                 subbed_expr = expr.replaced(repl_map, allow_relabeling, \n\u001b[0;32m    328\u001b[0m                                             \u001b[0massumptions\u001b[0m\u001b[1;33m,\u001b[0m \u001b[0mrequirements\u001b[0m\u001b[1;33m,\u001b[0m\u001b[1;33m\u001b[0m\u001b[1;33m\u001b[0m\u001b[0m\n\u001b[1;32m--> 329\u001b[1;33m                                             equality_repl_requirements)\n\u001b[0m\u001b[0;32m    330\u001b[0m                 \u001b[0msubbed_exprs\u001b[0m\u001b[1;33m.\u001b[0m\u001b[0mappend\u001b[0m\u001b[1;33m(\u001b[0m\u001b[0msubbed_expr\u001b[0m\u001b[1;33m)\u001b[0m\u001b[1;33m\u001b[0m\u001b[1;33m\u001b[0m\u001b[0m\n\u001b[0;32m    331\u001b[0m         \u001b[1;32mreturn\u001b[0m \u001b[0mExprTuple\u001b[0m\u001b[1;33m(\u001b[0m\u001b[1;33m*\u001b[0m\u001b[0msubbed_exprs\u001b[0m\u001b[1;33m)\u001b[0m\u001b[1;33m\u001b[0m\u001b[1;33m\u001b[0m\u001b[0m\n",
      "\u001b[1;32mc:\\users\\joaqu\\prove-it\\packages\\proveit\\_core_\\expression\\expr.py\u001b[0m in \u001b[0;36mreplaced\u001b[1;34m(self, repl_map, allow_relabeling, assumptions, requirements, equality_repl_requirements)\u001b[0m\n\u001b[0;32m    747\u001b[0m                             \u001b[0massumptions\u001b[0m\u001b[1;33m=\u001b[0m\u001b[0massumptions\u001b[0m\u001b[1;33m,\u001b[0m \u001b[0mrequirements\u001b[0m\u001b[1;33m=\u001b[0m\u001b[0mrequirements\u001b[0m\u001b[1;33m,\u001b[0m\u001b[1;33m\u001b[0m\u001b[1;33m\u001b[0m\u001b[0m\n\u001b[0;32m    748\u001b[0m                             \u001b[0mequality_repl_requirements\u001b[0m\u001b[1;33m=\u001b[0m\u001b[0;31m\\\u001b[0m\u001b[1;33m\u001b[0m\u001b[1;33m\u001b[0m\u001b[0m\n\u001b[1;32m--> 749\u001b[1;33m                             equality_repl_requirements)\n\u001b[0m\u001b[0;32m    750\u001b[0m \u001b[1;33m\u001b[0m\u001b[0m\n\u001b[0;32m    751\u001b[0m     def _replaced(self, repl_map, allow_relabeling,\n",
      "\u001b[1;32mc:\\users\\joaqu\\prove-it\\packages\\proveit\\_core_\\expression\\expr.py\u001b[0m in \u001b[0;36m_auto_reduced\u001b[1;34m(self, assumptions, requirements, equality_repl_requirements)\u001b[0m\n\u001b[0;32m    391\u001b[0m             \u001b[1;32mfrom\u001b[0m \u001b[0mproveit\u001b[0m \u001b[1;32mimport\u001b[0m \u001b[0mKnownTruth\u001b[0m\u001b[1;33m\u001b[0m\u001b[1;33m\u001b[0m\u001b[0m\n\u001b[0;32m    392\u001b[0m             \u001b[1;32mfrom\u001b[0m \u001b[0mproveit\u001b[0m\u001b[1;33m.\u001b[0m\u001b[0mlogic\u001b[0m \u001b[1;32mimport\u001b[0m \u001b[0mEquals\u001b[0m\u001b[1;33m\u001b[0m\u001b[1;33m\u001b[0m\u001b[0m\n\u001b[1;32m--> 393\u001b[1;33m             \u001b[0mreduction\u001b[0m \u001b[1;33m=\u001b[0m \u001b[0mself\u001b[0m\u001b[1;33m.\u001b[0m\u001b[0mauto_reduction\u001b[0m\u001b[1;33m(\u001b[0m\u001b[0massumptions\u001b[0m\u001b[1;33m=\u001b[0m\u001b[0massumptions\u001b[0m\u001b[1;33m)\u001b[0m\u001b[1;33m\u001b[0m\u001b[1;33m\u001b[0m\u001b[0m\n\u001b[0m\u001b[0;32m    394\u001b[0m             \u001b[1;32mif\u001b[0m \u001b[0mreduction\u001b[0m \u001b[1;32mis\u001b[0m \u001b[1;32mnot\u001b[0m \u001b[1;32mNone\u001b[0m\u001b[1;33m:\u001b[0m\u001b[1;33m\u001b[0m\u001b[1;33m\u001b[0m\u001b[0m\n\u001b[0;32m    395\u001b[0m                 \u001b[1;32mif\u001b[0m \u001b[1;32mnot\u001b[0m \u001b[0misinstance\u001b[0m\u001b[1;33m(\u001b[0m\u001b[0mreduction\u001b[0m\u001b[1;33m,\u001b[0m \u001b[0mKnownTruth\u001b[0m\u001b[1;33m)\u001b[0m\u001b[1;33m:\u001b[0m\u001b[1;33m\u001b[0m\u001b[1;33m\u001b[0m\u001b[0m\n",
      "\u001b[1;32mc:\\users\\joaqu\\prove-it\\packages\\proveit\\_core_\\expression\\expr.py\u001b[0m in \u001b[0;36msafe_auto_reduction\u001b[1;34m(assumptions)\u001b[0m\n\u001b[0;32m    303\u001b[0m                     \u001b[1;31m# to avoid infinite recursion.\u001b[0m\u001b[1;33m\u001b[0m\u001b[1;33m\u001b[0m\u001b[1;33m\u001b[0m\u001b[0m\n\u001b[0;32m    304\u001b[0m                     \u001b[0mdefaults\u001b[0m\u001b[1;33m.\u001b[0m\u001b[0mdisabled_auto_reduction_types\u001b[0m\u001b[1;33m.\u001b[0m\u001b[0madd\u001b[0m\u001b[1;33m(\u001b[0m\u001b[0mattr_self_class\u001b[0m\u001b[1;33m)\u001b[0m\u001b[1;33m\u001b[0m\u001b[1;33m\u001b[0m\u001b[0m\n\u001b[1;32m--> 305\u001b[1;33m                     \u001b[1;32mreturn\u001b[0m \u001b[0mattr\u001b[0m\u001b[1;33m.\u001b[0m\u001b[0m__call__\u001b[0m\u001b[1;33m(\u001b[0m\u001b[0massumptions\u001b[0m\u001b[1;33m=\u001b[0m\u001b[0massumptions\u001b[0m\u001b[1;33m)\u001b[0m\u001b[1;33m\u001b[0m\u001b[1;33m\u001b[0m\u001b[0m\n\u001b[0m\u001b[0;32m    306\u001b[0m                 \u001b[1;32mfinally\u001b[0m\u001b[1;33m:\u001b[0m\u001b[1;33m\u001b[0m\u001b[1;33m\u001b[0m\u001b[0m\n\u001b[0;32m    307\u001b[0m                     \u001b[1;31m# Re-enable the reduction.\u001b[0m\u001b[1;33m\u001b[0m\u001b[1;33m\u001b[0m\u001b[1;33m\u001b[0m\u001b[0m\n",
      "\u001b[1;32mc:\\users\\joaqu\\prove-it\\packages\\proveit\\number\\numeral\\deci\\deci.py\u001b[0m in \u001b[0;36mauto_reduction\u001b[1;34m(self, assumptions)\u001b[0m\n\u001b[0;32m     26\u001b[0m             \u001b[1;32mif\u001b[0m \u001b[0misinstance\u001b[0m\u001b[1;33m(\u001b[0m\u001b[0mdigit\u001b[0m\u001b[1;33m,\u001b[0m \u001b[0mExprRange\u001b[0m\u001b[1;33m)\u001b[0m\u001b[1;33m:\u001b[0m\u001b[1;33m\u001b[0m\u001b[1;33m\u001b[0m\u001b[0m\n\u001b[0;32m     27\u001b[0m                 \u001b[1;31m# if at least one digit is an ExprRange, we can try to reduce it to an ExprTuple\u001b[0m\u001b[1;33m\u001b[0m\u001b[1;33m\u001b[0m\u001b[1;33m\u001b[0m\u001b[0m\n\u001b[1;32m---> 28\u001b[1;33m                 \u001b[1;32mreturn\u001b[0m \u001b[0mself\u001b[0m\u001b[1;33m.\u001b[0m\u001b[0mreduce_exprRange\u001b[0m\u001b[1;33m(\u001b[0m\u001b[0massumptions\u001b[0m\u001b[1;33m=\u001b[0m\u001b[0massumptions\u001b[0m\u001b[1;33m)\u001b[0m\u001b[1;33m\u001b[0m\u001b[1;33m\u001b[0m\u001b[0m\n\u001b[0m\u001b[0;32m     29\u001b[0m \u001b[1;33m\u001b[0m\u001b[0m\n\u001b[0;32m     30\u001b[0m     \u001b[1;32mdef\u001b[0m \u001b[0masInt\u001b[0m\u001b[1;33m(\u001b[0m\u001b[0mself\u001b[0m\u001b[1;33m)\u001b[0m\u001b[1;33m:\u001b[0m\u001b[1;33m\u001b[0m\u001b[1;33m\u001b[0m\u001b[0m\n",
      "\u001b[1;32mc:\\users\\joaqu\\prove-it\\packages\\proveit\\number\\numeral\\deci\\deci.py\u001b[0m in \u001b[0;36mreduce_exprRange\u001b[1;34m(self, assumptions)\u001b[0m\n\u001b[0;32m     45\u001b[0m         \u001b[1;31m# A convenience to allow successive update to the equation via transitivities.\u001b[0m\u001b[1;33m\u001b[0m\u001b[1;33m\u001b[0m\u001b[1;33m\u001b[0m\u001b[0m\n\u001b[0;32m     46\u001b[0m         \u001b[1;31m# (starting with self=self).\u001b[0m\u001b[1;33m\u001b[0m\u001b[1;33m\u001b[0m\u001b[1;33m\u001b[0m\u001b[0m\n\u001b[1;32m---> 47\u001b[1;33m         \u001b[0meq\u001b[0m \u001b[1;33m=\u001b[0m \u001b[0mTransRelUpdater\u001b[0m\u001b[1;33m(\u001b[0m\u001b[0mself\u001b[0m\u001b[1;33m,\u001b[0m \u001b[0massumptions\u001b[0m\u001b[1;33m)\u001b[0m\u001b[1;33m\u001b[0m\u001b[1;33m\u001b[0m\u001b[0m\n\u001b[0m\u001b[0;32m     48\u001b[0m \u001b[1;33m\u001b[0m\u001b[0m\n\u001b[0;32m     49\u001b[0m         \u001b[1;32mfor\u001b[0m \u001b[0mi\u001b[0m\u001b[1;33m,\u001b[0m \u001b[0mdigit\u001b[0m \u001b[1;32min\u001b[0m \u001b[0menumerate\u001b[0m\u001b[1;33m(\u001b[0m\u001b[0mself\u001b[0m\u001b[1;33m.\u001b[0m\u001b[0mdigits\u001b[0m\u001b[1;33m)\u001b[0m\u001b[1;33m:\u001b[0m\u001b[1;33m\u001b[0m\u001b[1;33m\u001b[0m\u001b[0m\n",
      "\u001b[1;32mc:\\users\\joaqu\\prove-it\\packages\\proveit\\relation\\updater.py\u001b[0m in \u001b[0;36m__init__\u001b[1;34m(self, expr, assumptions)\u001b[0m\n\u001b[0;32m     18\u001b[0m         \u001b[1;32mfrom\u001b[0m \u001b[0mproveit\u001b[0m\u001b[1;33m.\u001b[0m\u001b[0mlogic\u001b[0m \u001b[1;32mimport\u001b[0m \u001b[0mEquals\u001b[0m\u001b[1;33m\u001b[0m\u001b[1;33m\u001b[0m\u001b[0m\n\u001b[0;32m     19\u001b[0m         \u001b[0mself\u001b[0m\u001b[1;33m.\u001b[0m\u001b[0mexpr\u001b[0m \u001b[1;33m=\u001b[0m \u001b[0mexpr\u001b[0m\u001b[1;33m\u001b[0m\u001b[1;33m\u001b[0m\u001b[0m\n\u001b[1;32m---> 20\u001b[1;33m         \u001b[0mself\u001b[0m\u001b[1;33m.\u001b[0m\u001b[0mrelation\u001b[0m \u001b[1;33m=\u001b[0m \u001b[0mEquals\u001b[0m\u001b[1;33m(\u001b[0m\u001b[0mexpr\u001b[0m\u001b[1;33m,\u001b[0m \u001b[0mexpr\u001b[0m\u001b[1;33m)\u001b[0m\u001b[1;33m.\u001b[0m\u001b[0mprove\u001b[0m\u001b[1;33m(\u001b[0m\u001b[1;33m)\u001b[0m\u001b[1;33m\u001b[0m\u001b[1;33m\u001b[0m\u001b[0m\n\u001b[0m\u001b[0;32m     21\u001b[0m         \u001b[0mself\u001b[0m\u001b[1;33m.\u001b[0m\u001b[0massumptions\u001b[0m \u001b[1;33m=\u001b[0m \u001b[0massumptions\u001b[0m\u001b[1;33m\u001b[0m\u001b[1;33m\u001b[0m\u001b[0m\n\u001b[0;32m     22\u001b[0m \u001b[1;33m\u001b[0m\u001b[0m\n",
      "\u001b[1;32mc:\\users\\joaqu\\prove-it\\packages\\proveit\\_core_\\expression\\expr.py\u001b[0m in \u001b[0;36mprove\u001b[1;34m(self, assumptions, automation)\u001b[0m\n\u001b[0;32m    579\u001b[0m         \u001b[0min_progress_key\u001b[0m \u001b[1;33m=\u001b[0m \u001b[1;33m(\u001b[0m\u001b[0mself\u001b[0m\u001b[1;33m,\u001b[0m \u001b[0mtuple\u001b[0m\u001b[1;33m(\u001b[0m\u001b[0msorted\u001b[0m\u001b[1;33m(\u001b[0m\u001b[0massumptions\u001b[0m\u001b[1;33m,\u001b[0m \u001b[0mkey\u001b[0m\u001b[1;33m=\u001b[0m\u001b[1;32mlambda\u001b[0m \u001b[0mexpr\u001b[0m\u001b[1;33m:\u001b[0m\u001b[0mhash\u001b[0m\u001b[1;33m(\u001b[0m\u001b[0mexpr\u001b[0m\u001b[1;33m)\u001b[0m\u001b[1;33m)\u001b[0m\u001b[1;33m)\u001b[0m\u001b[1;33m)\u001b[0m\u001b[1;33m\u001b[0m\u001b[1;33m\u001b[0m\u001b[0m\n\u001b[0;32m    580\u001b[0m         \u001b[1;32mif\u001b[0m \u001b[0min_progress_key\u001b[0m \u001b[1;32min\u001b[0m \u001b[0mExpression\u001b[0m\u001b[1;33m.\u001b[0m\u001b[0min_progress_to_conclude\u001b[0m\u001b[1;33m:\u001b[0m\u001b[1;33m\u001b[0m\u001b[1;33m\u001b[0m\u001b[0m\n\u001b[1;32m--> 581\u001b[1;33m             \u001b[1;32mraise\u001b[0m \u001b[0mProofFailure\u001b[0m\u001b[1;33m(\u001b[0m\u001b[0mself\u001b[0m\u001b[1;33m,\u001b[0m \u001b[0massumptions\u001b[0m\u001b[1;33m,\u001b[0m \u001b[1;34m\"Infinite 'conclude' recursion blocked.\"\u001b[0m\u001b[1;33m)\u001b[0m\u001b[1;33m\u001b[0m\u001b[1;33m\u001b[0m\u001b[0m\n\u001b[0m\u001b[0;32m    582\u001b[0m         \u001b[0mExpression\u001b[0m\u001b[1;33m.\u001b[0m\u001b[0min_progress_to_conclude\u001b[0m\u001b[1;33m.\u001b[0m\u001b[0madd\u001b[0m\u001b[1;33m(\u001b[0m\u001b[0min_progress_key\u001b[0m\u001b[1;33m)\u001b[0m\u001b[1;33m\u001b[0m\u001b[1;33m\u001b[0m\u001b[0m\n\u001b[0;32m    583\u001b[0m \u001b[1;33m\u001b[0m\u001b[0m\n",
      "\u001b[1;31mProofFailure\u001b[0m: Unable to prove \\# (7 ~ ..4 repeats.. ~ 7) = \\# (7 ~ ..4 repeats.. ~ 7):\nInfinite 'conclude' recursion blocked."
     ]
    }
   ],
   "source": [
    "DecimalSequence(ExprRange(i, seven, one, four)).reduce_exprRange(assumptions=[InSet(seven, Set(zero, one, two, three,\n",
    "                                                                                            four, five, six, seven,\n",
    "                                                                                            eight, nine)),\n",
    "                                                                                                 InSet(one, Set(zero, one, two, three,\n",
    "                                                                                            four, five, six, seven,\n",
    "                                                                                            eight, nine))])"
   ]
  },
  {
   "cell_type": "code",
   "execution_count": 13,
   "metadata": {},
   "outputs": [
    {
     "data": {
      "text/html": [
       "<strong id=\"test\">test:</strong> <a class=\"ProveItLink\" href=\"__pv_it/6f48096fb9b2813080c83f66ba50c630272549d80/expr.ipynb\"><img src=\"data:image/png;base64,iVBORw0KGgoAAAANSUhEUgAAAJMAAAAVBAMAAACwIsHjAAAAMFBMVEX////MzMxUVFREREQiIiK6\n",
       "uroQEBCYmJhmZmYyMjLu7u52dnaqqqqIiIjc3NwAAACFAiZ1AAAAAXRSTlMAQObYZgAAAAlwSFlz\n",
       "AAAOxAAADsQBlSsOGwAAAdtJREFUOMuNlL1Lw0AYxp+kn1obuztYwUmQ1kE3pUhAEUEHoToILnU1\n",
       "o5MWEYy4FBwEEQz6B1Sc3OxeiuLoVKSDIIiCDhY1vrmzpXe5Ro+Q432fX573PgOgDnWr/zvZyicr\n",
       "XdRVRS4YrgKP+2OiYNiHKeVnBD9djUtJbY7X6C3BSON6URAfkHgHjn1OBPcWsS3WONtvgsFxC7qD\n",
       "6BpP53k3AqwDmz4rgpOfKJcEGEnPiuAoPU3o3zxb492Gg0wdUUe2IjhSQH9JgLkVwSuAnoP+KqjD\n",
       "QCaFHku2WmHvG0thRfABi8IvogosAIm0bMXgyAwUVgQfsWjwVrLSvoAYm0jcZI3ZerB2N6SyInie\n",
       "RbOSinAR6MvJo+LwTUVhRXCBVS56713TXDfNaSbbXv0X2arAF78pwsyKYKa2t71VKOZ5R9YUVloK\n",
       "oU/FqAg+8QZ3gWdRrcKo/06wc60ILjfVVgRPUjcA3AuqdoGkg1hWHhXB0TSfoG/Zs7ikGzdr7+QE\n",
       "tWHbdLTit7IVwTFLfa4IXqLT5bqueIBPXfeDdtH3RyEYy/a4uLD6xNsog8OpTrbWGTR8dzAYZnvV\n",
       "bvnOYM9n9Qc81eVnBiPrzwXD593UkOPPBcOG1UXdUhUPgH8AxLuM4/32hToAAAAASUVORK5CYII=\n",
       "\" style=\"display:inline;vertical-align:middle;\" /></a><br>"
      ],
      "text/plain": [
       "test: (2 + 2) = (3 + 1)"
      ]
     },
     "execution_count": 13,
     "metadata": {},
     "output_type": "execute_result"
    }
   ],
   "source": [
    "test = Equals(Add(two, two), Add(three, one))"
   ]
  },
  {
   "cell_type": "code",
   "execution_count": 14,
   "metadata": {},
   "outputs": [
    {
     "data": {
      "text/html": [
       "<strong id=\"t2\">t2:</strong> <a class=\"ProveItLink\" href=\"__pv_it/768cfdd042ecc6d4738f4257a5183115232d20f30/expr.ipynb\"><img src=\"data:image/png;base64,iVBORw0KGgoAAAANSUhEUgAAAGEAAAAVBAMAAACkm51HAAAAMFBMVEX////MzMxUVFREREQiIiK6\n",
       "uroQEBCYmJhmZmYyMjLu7u52dnaqqqqIiIjc3NwAAACFAiZ1AAAAAXRSTlMAQObYZgAAAAlwSFlz\n",
       "AAAOxAAADsQBlSsOGwAAAUJJREFUOMtjYGB4wIAd4BJn4D2AQyIWl47TDAyvd5iiCTJ6YTeKsYGB\n",
       "gWsCA1cDQz2q7KLOX0ByFqYOFgUGBo4CBt4/DOsnQETCYU4F6ajA1HEFqIONgYE1lYEfquMssg62\n",
       "BRiOqgTqiAQzzxdg0cFZgK6DmxOooxvEYnVnwKKDWwFdxz2Qjukgyy4pYtPBDnYqhwsYgHTzFYB0\n",
       "+EBcdQCLDh4HdEcxgHSkgtlsIBUtLi5pLi5OcB2MH9B01MF0MAowMP/BYgdrAqoGvgtgHXMYGNb/\n",
       "wq4D4iqEP1iVlPSTNjDYAp2kAHEVhs8NMGIQqJRhE1CmAHt8cFzA0MEPNCQESEd0mKKGLpPZF11g\n",
       "IsJI7xzzP19gYBFAFjqLzHmCPbGzNyDzwpE57Tjyhx2ujMNngENiMS4dzAtwGVWAQ6IOuzAAGHxR\n",
       "61fmlDEAAAAASUVORK5CYII=\n",
       "\" style=\"display:inline;vertical-align:middle;\" /></a><br>"
      ],
      "text/plain": [
       "t2: (3 + 1) = 4"
      ]
     },
     "execution_count": 14,
     "metadata": {},
     "output_type": "execute_result"
    }
   ],
   "source": [
    "t2 = Equals(Add(three, one), four)"
   ]
  },
  {
   "cell_type": "code",
   "execution_count": 15,
   "metadata": {},
   "outputs": [
    {
     "data": {
      "text/html": [
       "<span style=\"font-size:20px;\"> <a class=\"ProveItLink\" href=\"_proofs_/add_2_2.ipynb\" style=\"text-decoration: none\">&#x22A2;&nbsp;</a><a class=\"ProveItLink\" href=\"__pv_it/da92dbd8f69a4bad3068032fa245c610c4f1ca860/expr.ipynb\"><img src=\"data:image/png;base64,iVBORw0KGgoAAAANSUhEUgAAAGEAAAAVBAMAAACkm51HAAAAMFBMVEX////MzMxUVFREREQiIiK6\n",
       "uroQEBCYmJhmZmYyMjLu7u52dnaqqqqIiIjc3NwAAACFAiZ1AAAAAXRSTlMAQObYZgAAAAlwSFlz\n",
       "AAAOxAAADsQBlSsOGwAAAXhJREFUOMt1kzFLw0AUx/+NbZLaNnZ3sBQnl9YPoBTJ0EHQQSgOQhHs\n",
       "akZdShHBiEvBQRChAb9A6RfQvRQyODlIkQ5OUhEHBY3vLtr2LrlHyN39X37vXt67AzBEvKl05O4V\n",
       "jj0V0QdezldFzXIv87GhEi1gvg2rgLttwfGMzAdwHSWSBcB0oHnQ66FSC4cVoAEcRYkHInR6vqD9\n",
       "hMogHA49lIbQvUhSx0TsAloF2ptALAOlPNKOTGTSRFyE+Y0FgmyL/AWZeGLEFZ8u+RKR+AaMNpuZ\n",
       "NjdGWw4jNvkHVUhEksqYrchJgREHPE6LvU9tu2HbG9zpsn3GEtGcEpM6/u9hsBCputRXnxM3NM12\n",
       "8SoSfVjDv6ym/5EqFkv7XayRuAg8CkSii5wHoxzpoE5gj3aruicVgRi5LrXE9CPEAgXZAdJBELQF\n",
       "ohMEn1SvyHk3O+8+kvlZaTC7GMUfdl6VidVmF2eK+7GuujhWWeG4VRFzniqUo3A04+VfU5dTGTZp\n",
       "188AAAAASUVORK5CYII=\n",
       "\" style=\"display:inline;vertical-align:middle;\" /></a></span>"
      ],
      "text/plain": [
       "|- (2 + 2) = 4"
      ]
     },
     "execution_count": 15,
     "metadata": {},
     "output_type": "execute_result"
    }
   ],
   "source": [
    "t2.subRightSideInto(test)"
   ]
  },
  {
   "cell_type": "code",
   "execution_count": 16,
   "metadata": {},
   "outputs": [],
   "source": [
    "from proveit.number.numeral.deci._theorems_ import reduce_4_repeats"
   ]
  },
  {
   "cell_type": "code",
   "execution_count": 17,
   "metadata": {},
   "outputs": [
    {
     "data": {
      "text/html": [
       "<strong id=\"nines\">nines:</strong> <a class=\"ProveItLink\" href=\"__pv_it/d51e02c1d04126931c113a9371e7011c7721e0730/expr.ipynb\"><img src=\"data:image/png;base64,iVBORw0KGgoAAAANSUhEUgAAAJEAAAASBAMAAACp0iFmAAAAMFBMVEX///+qqqqYmJi6urp2dnYy\n",
       "MjJERETc3NwQEBDMzMyIiIgiIiLu7u5UVFRmZmYAAAABFGnYAAAAAXRSTlMAQObYZgAAAAlwSFlz\n",
       "AAAOxAAADsQBlSsOGwAAAiNJREFUOMudlD9oE1Ecx7/Xe8l5l9ckbsGlRxaxg94gLiJETcmmGURc\n",
       "rMFF6GAfjoJWqKhDlcPFINSmYJf4d3AQtfEGB1HQCg4Oxp7/lkKqVdJWkOh779Jy70IP9HFwd19+\n",
       "38/7ve/9OCC9+B7quoF/XYstD6CPUGWqPhtvK/QoL2vmRaD/HJK+olvxJMPvkd4BJ4FMGeS7ol89\n",
       "Gkuyeklt4CDwugLrl9p9PGmqh0SXgXuu7OmnsieTJP3h9BAzFu5i9/ntLRs4W/fRVy962vzsG1wf\n",
       "nIn25MicfoTlUwh6ynwcs6vMKuOSQxvgkc4gx9JlpHzQClKRnEZt0HFMLqmfJiCl7lM0gCXxOuBw\n",
       "fyabY/qKIOkTIGHLc8eczwKvbm4J59THuqTEHEze7CEM8zD9KRuJAuhOScLTEWVw6MJenhNf6d8h\n",
       "9TTWSD60Tj6/TZAylYFP+bxLW5sD0rNjnUjq3zzpqYSkPc3m6lupFmDKYwc98e6Rc0xBIoZHd7gq\n",
       "6TCgTWDMhRdWL6NLEk+6zMndNAc4V6CvXEv4RKuh3+4WC2fOM3hA1hMcB22L07aDO5aDxPkpqg5K\n",
       "OMLoA5jjIKzDR28rKRO+e5IF5dJxy0sKcPGAAzwW6Ia88PXPiJin0QtZGB+K/AMM3uEVZ76UMDl9\n",
       "e6iGZknfV9+/Vi6cpPh5/UCat/FQD8eOfNRJ8L+kqPNFTG38ryHqtDcu3bV6Io607vwLZfyjhsOK\n",
       "PJEAAAAASUVORK5CYII=\n",
       "\" style=\"display:inline;vertical-align:middle;\" /></a><br>"
      ],
      "text/plain": [
       "nines: 9, ..4 repeats.., 9"
      ]
     },
     "execution_count": 17,
     "metadata": {},
     "output_type": "execute_result"
    }
   ],
   "source": [
    "nines = ExprRange(i, nine, one, four)"
   ]
  },
  {
   "cell_type": "code",
   "execution_count": null,
   "metadata": {},
   "outputs": [],
   "source": []
  },
  {
   "cell_type": "code",
   "execution_count": 18,
   "metadata": {},
   "outputs": [
    {
     "data": {
      "text/html": [
       "<strong id=\"red\">red:</strong> <span style=\"font-size:20px;\"> <a class=\"ProveItLink\" href=\"__pv_it/c0321633136dcff83f250b2a3ff37b347ab049410/proof.ipynb\" style=\"text-decoration: none\">&#x22A2;&nbsp;</a><a class=\"ProveItLink\" href=\"__pv_it/b922c242e921807dd3a130f55cbc8be68fa728df0/expr.ipynb\"><img src=\"data:image/png;base64,iVBORw0KGgoAAAANSUhEUgAAAQ0AAAAVBAMAAACuzqZ5AAAAMFBMVEX////MzMxUVFREREQiIiK6\n",
       "uroQEBCYmJhmZmYyMjLu7u52dnaqqqqIiIjc3NwAAACFAiZ1AAAAAXRSTlMAQObYZgAAAAlwSFlz\n",
       "AAAOxAAADsQBlSsOGwAAAyxJREFUSMetlk9IVEEcx7/r7rr73ttdFw/dShFKiEBvRWRKSEj0ZyEJ\n",
       "IgIpFkJIFjqYh2wRQkGkpQ5FRj5IIohIgrAwzIPsxf7swYvl1lIduqWIuUZIv5l5a2/mjZuFj93H\n",
       "d+bNfOb7fr/58wAUsEVXTFe5GTpvE53aKh/BnLduU/Sz7DYDhAd2yw986X/1wBHz3nqJrlMDfTY3\n",
       "a2ZgHsM2OXyB2vKjjqkVAmHYnno3XadGc74u4A45S6GiA345ALPlfcQ84RKIkKdeouvULmAfcBmo\n",
       "BKoysBaktPSU9xH1jOcgOtV6ia5Tq8ArambjNPCkEdFFd2/LKO+jxuPDQdxS6yW6RplLwKc4jBQG\n",
       "hbtld++Pwkf7xZl7+JZPBw+PD9RTmSRC+Qk70nBoD7ZfmVPiQYinqg+JrlMsHglYtewVWLZW3OlP\n",
       "OfEovl2hWTSHyiRG0+AyWwhnEEjDbERAmR+E6OFzopVfHCHRdYrmR3MKoQyOUnCSqP7lTgscH62w\n",
       "aciqKSpGlsFlthBcYyrYSc1c60IgptV4SHSdepDwNUwh0oIkFR5+eOOeH70lHzdoKqRgjBn0/kUh\n",
       "YZ7hPnCiSVrqAlGj+pDpGmUOvaT54VvgLSmWP11pyZV83Abe9Xd3x8kHloQ0+14LH49GisoSJcQp\n",
       "nQ83Xaeu2wh24C7XRqNre66razjHd6phekO2LzvxYDKb8DEfVsw2r8alIRliWp0fKl2nboLlpYnu\n",
       "nfgeh3svrBTxGBYqwebHopAXEFzbYaStSA4VKae1XULgkhoPia5TWTtGCQo1sqUWPYK9MFfZus6w\n",
       "H60rYbaNtrQkrILRhdExIYu08HutjEUkf4H6iJ9AAEOqD4muU7O2n14nnEM7FSaeJ2hxkD1KPMt9\n",
       "eGSJHZ0nfxwAPg9OwqjP74SQ1fPvX+RQNxkczz/jRttET47AcdWHRNcpa+IaO88KCJSyHLE33D+N\n",
       "8sfves9Yi/pIQ9epr/hzNln4Xx+W61RTLg1dp/rpf9DRjzce6C+fAes9v3ifeekaFWPT8b5TSG38\n",
       "ndV8vuzX3XrP/d5nXrpG+W1+mmzVd2FI43ZT9F7gN4DsJp6SHOl2AAAAAElFTkSuQmCC\n",
       "\" style=\"display:inline;vertical-align:middle;\" /></a></span><br>"
      ],
      "text/plain": [
       "red: |- (9, ..4 repeats.., 9) = (9, 9, 9, 9)"
      ]
     },
     "execution_count": 18,
     "metadata": {},
     "output_type": "execute_result"
    }
   ],
   "source": [
    "red = reduce_4_repeats.instantiate({x: nine})"
   ]
  },
  {
   "cell_type": "code",
   "execution_count": 19,
   "metadata": {},
   "outputs": [
    {
     "data": {
      "text/html": [
       "<a class=\"ProveItLink\" href=\"__pv_it/70696e71fd649fd223fbd87d7a6516590cdc70440/expr.ipynb\"><img src=\"data:image/png;base64,iVBORw0KGgoAAAANSUhEUgAAASUAAAAVBAMAAADyROVdAAAAMFBMVEX///+qqqqYmJi6urp2dnYy\n",
       "MjJERETc3NwQEBDMzMyIiIgiIiLu7u5UVFRmZmYAAAABFGnYAAAAAXRSTlMAQObYZgAAAAlwSFlz\n",
       "AAAOxAAADsQBlSsOGwAAAuVJREFUSMe9Vk9IFFEc/mZdXccdd/fQQaRw8BLtQeZQEUm4wUqXyi0i\n",
       "ImpZuix4yKFbf0hhIzsULJ68VBZCUKQGHSL/MFRIFKiFh4is6Y8XQctCURLtvTf7Z9r5zaYpPoaZ\n",
       "b37vzfe+9/t983jAJjZ9g8ZsYKsIrWLQXn4LzHxw67/1//NTrFvs4Zlpg0RcuPIUnW75Giw+r9e9\n",
       "i2JVYrbw6y65HSQ6BVS2ocx0yfU/NF1276JYA6ot/A44CxLVAcEYvD9o4o7TxTX1uHdRrOX28BzQ\n",
       "BBKVGxhNoGKRJo4U1yQvu/dRrLtsYWUe6E2TqFQV0n/RpdOFppIndxp131QP6q/UTasAhwh3H8S2\n",
       "3xMh+e79mFueClm/2cM8JxqJvGOixD95tftFG8tznIOVp+DnVrVTr4jhmqYMARxK7ZgE2Msw0Jc3\n",
       "TJ6CYj2aDwvvtKgk8rBfIYWbs3TpMpr8fQqffpa/1mgCMk0NOkd7DDaM+u8I1kf28EtN/hQikcQW\n",
       "OdJdTfrJo2c0lY5BZos7hjgzhGlBPG8Smvzz92hDEawpe1iZ2m+5yIFk8RMElijWC8hqMiEt19bu\n",
       "4JqCCQuOvKkRmpTGFdNt11wiNNnD3w0SlbSJSROUn/ZNTCyMi+4IZJFwK08cSinc5poil/BskfIT\n",
       "xXokHxbtOEjEaiddR2vaZak3kNHEUYnwU1rAchMN5/U4ItXAW+pLirU5G+ZZqTJ8i1DgRPCw/WIA\n",
       "ZwoNOscv1uYtj7PqdGo4gBO68tiCQRO9HXojIlUGkhiN8evvfcTJikOZsOB+YJSp1lcFCIEuIHpY\n",
       "K/x6SFyYXGnm+1PL1RB8H6PM8uGHbCiH8vvqFydROa7vDHdrXLS/0FUEa3023M8S5Y1+ZasdgAPB\n",
       "v6bTSnx9RxV/tphSztJb4UQXsYmaPKbjPBEh0Jc1kQ6u80yXzDxf5Yzb5US+xFoody8k16dpOPNU\n",
       "c5mDE5UZm3r29amrGLQd+ANi6zEQ4P5z/AAAAABJRU5ErkJggg==\n",
       "\" style=\"display:inline;vertical-align:middle;\" /></a>"
      ],
      "text/plain": [
       "9 = ..4 repeats.. = 9 = (9, 9, 9, 9)"
      ]
     },
     "execution_count": 19,
     "metadata": {},
     "output_type": "execute_result"
    }
   ],
   "source": [
    "Equals(nines, red.rhs)"
   ]
  },
  {
   "cell_type": "code",
   "execution_count": 21,
   "metadata": {},
   "outputs": [],
   "source": [
    "#red.subRightSideInto(nines)"
   ]
  },
  {
   "cell_type": "code",
   "execution_count": 23,
   "metadata": {},
   "outputs": [],
   "source": [
    "#red.subRightSideInto(ExprTuple(one, two, ExprRange(i, nine, one, four), five, six))"
   ]
  },
  {
   "cell_type": "code",
   "execution_count": 24,
   "metadata": {},
   "outputs": [
    {
     "data": {
      "text/html": [
       "<a class=\"ProveItLink\" href=\"__pv_it/84abe607b109b83cc45044db182dd0275755318f0/expr.ipynb\"><img src=\"data:image/png;base64,iVBORw0KGgoAAAANSUhEUgAAAKwAAAAVBAMAAAAp2hhWAAAAMFBMVEX///8QEBCIiIiYmJjc3Nwi\n",
       "IiLMzMy6urpmZmZ2dnaqqqoyMjJUVFTu7u5EREQAAACQpWb0AAAAAXRSTlMAQObYZgAAAAlwSFlz\n",
       "AAAOxAAADsQBlSsOGwAAAqFJREFUOMuNlE1oE1EQx/9JNt+7ST1ITtXeFFEsPQmC9qCgFwnoQiyW\n",
       "5iLoqfUgFHopQjWlgsWThYBB6KEHaSAoUhCDh9KTRvGmNLX4gYhQ0FpoCXHmfexXN+DA5k1+b+a/\n",
       "772dN4Brwwi1HpjM+B8crYUG9cBsyQHtJYAPQZyD1aRhiZ7rLTlzYe6bDmKcGEWQX3z0HTimgyJ7\n",
       "z1TIwkJZ4Y/IzANWHdbaKylrNPF4QoYRxqe5DgLcmsbZGrJqFYiPXZXu+QmzqPASUhSbGiT3pJw0\n",
       "W4j0yQSBo0rW5dFdtOuITStZUy/7BXIbCt9FnPcBVzbSgflHbQ8eWZcnC8jTPvoDshkZKHAR6/Q7\n",
       "5ZGljZh/ZeCUV9bDgWXaRyMgm5V7YWxsYIiGWY8sn9aWHGe9sh6O5GX6qWrZoaNlHvPPH95TODaA\n",
       "VfUGj+y4Kp5GQFbzxHFOOq1ormXs8NhuIFJjPGOP2fa2XceIX7akxpGAbMnxlil/0S3ir0J2C6l+\n",
       "ibNI8pcr+GRT+hsX/LIOF98P467sA76N+SJiOxI/Qaq8T/YUwmU1T5SR2wVuqb8/SZZF4lR0vxnP\n",
       "2Af4GOpY8crS/TgnvRWfrMPbHSGrD+Eg8FacsVztoqivG0w2vbI3gRPS29SylsM5JtIUh3BGydIt\n",
       "PSTKg862T+DEtLzDVY+sUarcL8qEqpalSyW5tcflMyjq9o7uFYjKm/ED72oCp2t4yeA2PW8OXxP1\n",
       "k+12u3WZwNj8vP0a8VHNbX73ZIVaDa7oXlhZkwtKV1Ylpr4gFhYvhzY/Fz/VTsapQqMY3nAJx2V9\n",
       "uW3Dby6e107amRR9aL8xnuRjYPsS3qs1tpye/d6ZuxSewvgItzu29fAYjWMOcZf4KzzFh43wHfXA\n",
       "4k3DvfA/Ur6/ECnaLXQAAAAASUVORK5CYII=\n",
       "\" style=\"display:inline;vertical-align:middle;\" /></a>"
      ],
      "text/plain": [
       "\\# (1 ~ 2 ~ (1, 2, 3) ~ 5 ~ 6)"
      ]
     },
     "execution_count": 24,
     "metadata": {},
     "output_type": "execute_result"
    }
   ],
   "source": [
    "DecimalSequence(one, two, ExprTuple(one, two, three), five, six)"
   ]
  },
  {
   "cell_type": "code",
   "execution_count": 26,
   "metadata": {},
   "outputs": [],
   "source": [
    "#red.subRightSideInto(DecimalSequence(one, three, ExprRange(i, nine, one, four), five, six))"
   ]
  },
  {
   "cell_type": "code",
   "execution_count": 27,
   "metadata": {},
   "outputs": [
    {
     "data": {
      "text/html": [
       "<a class=\"ProveItLink\" href=\"__pv_it/d51e02c1d04126931c113a9371e7011c7721e0730/expr.ipynb\"><img src=\"data:image/png;base64,iVBORw0KGgoAAAANSUhEUgAAAJEAAAASBAMAAACp0iFmAAAAMFBMVEX///+qqqqYmJi6urp2dnYy\n",
       "MjJERETc3NwQEBDMzMyIiIgiIiLu7u5UVFRmZmYAAAABFGnYAAAAAXRSTlMAQObYZgAAAAlwSFlz\n",
       "AAAOxAAADsQBlSsOGwAAAiNJREFUOMudlD9oE1Ecx7/Xe8l5l9ckbsGlRxaxg94gLiJETcmmGURc\n",
       "rMFF6GAfjoJWqKhDlcPFINSmYJf4d3AQtfEGB1HQCg4Oxp7/lkKqVdJWkOh779Jy70IP9HFwd19+\n",
       "38/7ve/9OCC9+B7quoF/XYstD6CPUGWqPhtvK/QoL2vmRaD/HJK+olvxJMPvkd4BJ4FMGeS7ol89\n",
       "Gkuyeklt4CDwugLrl9p9PGmqh0SXgXuu7OmnsieTJP3h9BAzFu5i9/ntLRs4W/fRVy962vzsG1wf\n",
       "nIn25MicfoTlUwh6ynwcs6vMKuOSQxvgkc4gx9JlpHzQClKRnEZt0HFMLqmfJiCl7lM0gCXxOuBw\n",
       "fyabY/qKIOkTIGHLc8eczwKvbm4J59THuqTEHEze7CEM8zD9KRuJAuhOScLTEWVw6MJenhNf6d8h\n",
       "9TTWSD60Tj6/TZAylYFP+bxLW5sD0rNjnUjq3zzpqYSkPc3m6lupFmDKYwc98e6Rc0xBIoZHd7gq\n",
       "6TCgTWDMhRdWL6NLEk+6zMndNAc4V6CvXEv4RKuh3+4WC2fOM3hA1hMcB22L07aDO5aDxPkpqg5K\n",
       "OMLoA5jjIKzDR28rKRO+e5IF5dJxy0sKcPGAAzwW6Ia88PXPiJin0QtZGB+K/AMM3uEVZ76UMDl9\n",
       "e6iGZknfV9+/Vi6cpPh5/UCat/FQD8eOfNRJ8L+kqPNFTG38ryHqtDcu3bV6Io607vwLZfyjhsOK\n",
       "PJEAAAAASUVORK5CYII=\n",
       "\" style=\"display:inline;vertical-align:middle;\" /></a>"
      ],
      "text/plain": [
       "9, ..4 repeats.., 9"
      ]
     },
     "execution_count": 27,
     "metadata": {},
     "output_type": "execute_result"
    }
   ],
   "source": [
    "DecimalSequence(ExprRange(i, nine, one, four)).digits[0]"
   ]
  },
  {
   "cell_type": "code",
   "execution_count": 30,
   "metadata": {},
   "outputs": [
    {
     "ename": "TransitivityException",
     "evalue": "Unable to prove \\# (9 ~ ..4 repeats.. ~ 9) = \\# (9 ~ ..4 repeats.. ~ 9) assuming {9 in {0, 1, 2, 3, 4, 5, 6, 7, 8, 9}}:\nTransitivity cannot be applied unless there is something in common in the equalities: \\# (9 ~ ..4 repeats.. ~ 9) = \\# (9 ~ ..4 repeats.. ~ 9) vs 9999 = 9999",
     "output_type": "error",
     "traceback": [
      "\u001b[1;31m---------------------------------------------------------------------------\u001b[0m",
      "\u001b[1;31mTransitivityException\u001b[0m                     Traceback (most recent call last)",
      "\u001b[1;32m<ipython-input-30-abf1c0746163>\u001b[0m in \u001b[0;36m<module>\u001b[1;34m\u001b[0m\n\u001b[0;32m      1\u001b[0m DecimalSequence(ExprRange(i, nine, one, four)).reduce_exprRange(assumptions=[InSet(nine, \n\u001b[0;32m      2\u001b[0m                                                                                    Set(zero, one, two, three, four, five, six, \n\u001b[1;32m----> 3\u001b[1;33m                                                                                        seven, eight, nine))])\n\u001b[0m",
      "\u001b[1;32mc:\\users\\joaqu\\prove-it\\packages\\proveit\\number\\numeral\\deci\\deci.py\u001b[0m in \u001b[0;36mreduce_exprRange\u001b[1;34m(self, assumptions)\u001b[0m\n\u001b[0;32m     81\u001b[0m \u001b[1;33m\u001b[0m\u001b[0m\n\u001b[0;32m     82\u001b[0m                 eq.update(deci_sequence_reduction_ER.instantiate({m: _m, n: _n, k: _k, a: _a, b: _b, c: _c,\n\u001b[1;32m---> 83\u001b[1;33m                                                                              d: _d}, assumptions=assumptions))\n\u001b[0m\u001b[0;32m     84\u001b[0m \u001b[1;33m\u001b[0m\u001b[0m\n\u001b[0;32m     85\u001b[0m         \u001b[1;32mreturn\u001b[0m \u001b[0meq\u001b[0m\u001b[1;33m.\u001b[0m\u001b[0mrelation\u001b[0m\u001b[1;33m\u001b[0m\u001b[1;33m\u001b[0m\u001b[0m\n",
      "\u001b[1;32mc:\\users\\joaqu\\prove-it\\packages\\proveit\\relation\\updater.py\u001b[0m in \u001b[0;36mupdate\u001b[1;34m(self, relation, assumptions)\u001b[0m\n\u001b[0;32m     32\u001b[0m         '''\n\u001b[0;32m     33\u001b[0m         \u001b[1;32mif\u001b[0m \u001b[0massumptions\u001b[0m \u001b[1;32mis\u001b[0m \u001b[1;32mNone\u001b[0m\u001b[1;33m:\u001b[0m \u001b[0massumptions\u001b[0m\u001b[1;33m=\u001b[0m\u001b[0mself\u001b[0m\u001b[1;33m.\u001b[0m\u001b[0massumptions\u001b[0m\u001b[1;33m\u001b[0m\u001b[1;33m\u001b[0m\u001b[0m\n\u001b[1;32m---> 34\u001b[1;33m         \u001b[0mself\u001b[0m\u001b[1;33m.\u001b[0m\u001b[0mrelation\u001b[0m \u001b[1;33m=\u001b[0m \u001b[0mself\u001b[0m\u001b[1;33m.\u001b[0m\u001b[0mrelation\u001b[0m\u001b[1;33m.\u001b[0m\u001b[0mapplyTransitivity\u001b[0m\u001b[1;33m(\u001b[0m\u001b[0mrelation\u001b[0m\u001b[1;33m,\u001b[0m \u001b[0massumptions\u001b[0m\u001b[1;33m)\u001b[0m\u001b[1;33m\u001b[0m\u001b[1;33m\u001b[0m\u001b[0m\n\u001b[0m\u001b[0;32m     35\u001b[0m         \u001b[1;32mif\u001b[0m \u001b[0mrelation\u001b[0m\u001b[1;33m.\u001b[0m\u001b[0mlhs\u001b[0m \u001b[1;33m==\u001b[0m \u001b[0mself\u001b[0m\u001b[1;33m.\u001b[0m\u001b[0mexpr\u001b[0m\u001b[1;33m:\u001b[0m\u001b[1;33m\u001b[0m\u001b[1;33m\u001b[0m\u001b[0m\n\u001b[0;32m     36\u001b[0m             \u001b[0mself\u001b[0m\u001b[1;33m.\u001b[0m\u001b[0mexpr\u001b[0m \u001b[1;33m=\u001b[0m \u001b[0mrelation\u001b[0m\u001b[1;33m.\u001b[0m\u001b[0mrhs\u001b[0m\u001b[1;33m\u001b[0m\u001b[1;33m\u001b[0m\u001b[0m\n",
      "\u001b[1;32mc:\\users\\joaqu\\prove-it\\packages\\proveit\\_core_\\known_truth.py\u001b[0m in \u001b[0;36mcall_method_with_known_truth_assumptions\u001b[1;34m(*args, **kwargs)\u001b[0m\n\u001b[0;32m    635\u001b[0m                         \u001b[0mkwargs\u001b[0m\u001b[1;33m[\u001b[0m\u001b[1;34m'assumptions'\u001b[0m\u001b[1;33m]\u001b[0m \u001b[1;33m=\u001b[0m\u001b[0;31m \u001b[0m\u001b[0;31m\\\u001b[0m\u001b[1;33m\u001b[0m\u001b[1;33m\u001b[0m\u001b[0m\n\u001b[0;32m    636\u001b[0m                             \u001b[0mdefaults\u001b[0m\u001b[1;33m.\u001b[0m\u001b[0mcheckedAssumptions\u001b[0m\u001b[1;33m(\u001b[0m\u001b[0massumptions\u001b[0m\u001b[1;33m)\u001b[0m\u001b[1;33m\u001b[0m\u001b[1;33m\u001b[0m\u001b[0m\n\u001b[1;32m--> 637\u001b[1;33m                     \u001b[1;32mreturn\u001b[0m \u001b[0mattr\u001b[0m\u001b[1;33m.\u001b[0m\u001b[0m__call__\u001b[0m\u001b[1;33m(\u001b[0m\u001b[1;33m*\u001b[0m\u001b[0margs\u001b[0m\u001b[1;33m,\u001b[0m \u001b[1;33m**\u001b[0m\u001b[0mkwargs\u001b[0m\u001b[1;33m)\u001b[0m\u001b[1;33m\u001b[0m\u001b[1;33m\u001b[0m\u001b[0m\n\u001b[0m\u001b[0;32m    638\u001b[0m                 \u001b[1;32mreturn\u001b[0m \u001b[0mcall_method_with_known_truth_assumptions\u001b[0m\u001b[1;33m\u001b[0m\u001b[1;33m\u001b[0m\u001b[0m\n\u001b[0;32m    639\u001b[0m \u001b[1;33m\u001b[0m\u001b[0m\n",
      "\u001b[1;32mc:\\users\\joaqu\\prove-it\\packages\\proveit\\logic\\equality\\equals.py\u001b[0m in \u001b[0;36mapplyTransitivity\u001b[1;34m(self, other, assumptions)\u001b[0m\n\u001b[0;32m    287\u001b[0m             \u001b[1;32mreturn\u001b[0m \u001b[0mequalsTransitivity\u001b[0m\u001b[1;33m.\u001b[0m\u001b[0mspecialize\u001b[0m\u001b[1;33m(\u001b[0m\u001b[1;33m{\u001b[0m\u001b[0mx\u001b[0m\u001b[1;33m:\u001b[0m\u001b[0mself\u001b[0m\u001b[1;33m.\u001b[0m\u001b[0mrhs\u001b[0m\u001b[1;33m,\u001b[0m \u001b[0my\u001b[0m\u001b[1;33m:\u001b[0m\u001b[0mself\u001b[0m\u001b[1;33m.\u001b[0m\u001b[0mlhs\u001b[0m\u001b[1;33m,\u001b[0m \u001b[0mz\u001b[0m\u001b[1;33m:\u001b[0m\u001b[0motherEquality\u001b[0m\u001b[1;33m.\u001b[0m\u001b[0mlhs\u001b[0m\u001b[1;33m}\u001b[0m\u001b[1;33m,\u001b[0m \u001b[0massumptions\u001b[0m\u001b[1;33m=\u001b[0m\u001b[0massumptions\u001b[0m\u001b[1;33m)\u001b[0m\u001b[1;33m\u001b[0m\u001b[1;33m\u001b[0m\u001b[0m\n\u001b[0;32m    288\u001b[0m         \u001b[1;32melse\u001b[0m\u001b[1;33m:\u001b[0m\u001b[1;33m\u001b[0m\u001b[1;33m\u001b[0m\u001b[0m\n\u001b[1;32m--> 289\u001b[1;33m             \u001b[1;32mraise\u001b[0m \u001b[0mTransitivityException\u001b[0m\u001b[1;33m(\u001b[0m\u001b[0mself\u001b[0m\u001b[1;33m,\u001b[0m \u001b[0massumptions\u001b[0m\u001b[1;33m,\u001b[0m \u001b[1;34m'Transitivity cannot be applied unless there is something in common in the equalities: %s vs %s'\u001b[0m\u001b[1;33m%\u001b[0m\u001b[1;33m(\u001b[0m\u001b[0mstr\u001b[0m\u001b[1;33m(\u001b[0m\u001b[0mself\u001b[0m\u001b[1;33m)\u001b[0m\u001b[1;33m,\u001b[0m \u001b[0mstr\u001b[0m\u001b[1;33m(\u001b[0m\u001b[0mother\u001b[0m\u001b[1;33m)\u001b[0m\u001b[1;33m)\u001b[0m\u001b[1;33m)\u001b[0m\u001b[1;33m\u001b[0m\u001b[1;33m\u001b[0m\u001b[0m\n\u001b[0m\u001b[0;32m    290\u001b[0m \u001b[1;33m\u001b[0m\u001b[0m\n\u001b[0;32m    291\u001b[0m     \u001b[1;32mdef\u001b[0m \u001b[0mderiveViaBooleanEquality\u001b[0m\u001b[1;33m(\u001b[0m\u001b[0mself\u001b[0m\u001b[1;33m,\u001b[0m \u001b[0massumptions\u001b[0m\u001b[1;33m=\u001b[0m\u001b[0mUSE_DEFAULTS\u001b[0m\u001b[1;33m)\u001b[0m\u001b[1;33m:\u001b[0m\u001b[1;33m\u001b[0m\u001b[1;33m\u001b[0m\u001b[0m\n",
      "\u001b[1;31mTransitivityException\u001b[0m: Unable to prove \\# (9 ~ ..4 repeats.. ~ 9) = \\# (9 ~ ..4 repeats.. ~ 9) assuming {9 in {0, 1, 2, 3, 4, 5, 6, 7, 8, 9}}:\nTransitivity cannot be applied unless there is something in common in the equalities: \\# (9 ~ ..4 repeats.. ~ 9) = \\# (9 ~ ..4 repeats.. ~ 9) vs 9999 = 9999"
     ]
    }
   ],
   "source": [
    "DecimalSequence(ExprRange(i, nine, one, four)).reduce_exprRange(assumptions=[InSet(nine, \n",
    "                                                                                   Set(zero, one, two, three, four, five, six, \n",
    "                                                                                       seven, eight, nine))])"
   ]
  },
  {
   "cell_type": "code",
   "execution_count": 31,
   "metadata": {},
   "outputs": [
    {
     "ename": "AssertionError",
     "evalue": "",
     "output_type": "error",
     "traceback": [
      "\u001b[1;31m---------------------------------------------------------------------------\u001b[0m",
      "\u001b[1;31mAssertionError\u001b[0m                            Traceback (most recent call last)",
      "\u001b[1;32m<ipython-input-31-a871fdc9ebee>\u001b[0m in \u001b[0;36m<module>\u001b[1;34m\u001b[0m\n\u001b[1;32m----> 1\u001b[1;33m \u001b[1;32massert\u001b[0m \u001b[1;32mFalse\u001b[0m\u001b[1;33m\u001b[0m\u001b[1;33m\u001b[0m\u001b[0m\n\u001b[0m",
      "\u001b[1;31mAssertionError\u001b[0m: "
     ]
    }
   ],
   "source": [
    "assert False"
   ]
  },
  {
   "cell_type": "code",
   "execution_count": 32,
   "metadata": {},
   "outputs": [
    {
     "data": {
      "text/plain": [
       "proveit._core_.expression.composite.expr_tuple.ExprTuple"
      ]
     },
     "execution_count": 32,
     "metadata": {},
     "output_type": "execute_result"
    }
   ],
   "source": [
    "count_to_1_range.lhs.__class__"
   ]
  },
  {
   "cell_type": "code",
   "execution_count": 33,
   "metadata": {},
   "outputs": [
    {
     "data": {
      "text/html": [
       "<a class=\"ProveItLink\" href=\"__pv_it/b92949ae48601efb39eb7c2f230b00dd38f019300/expr.ipynb\"><img src=\"data:image/png;base64,iVBORw0KGgoAAAANSUhEUgAAAQMAAAAyCAMAAABvXk5FAAAANlBMVEX///8WFhYNDQ2qqqoyMjIi\n",
       "IiIQEBDMzMxUVFRmZma6urqYmJh2dnbu7u6IiIhERETc3NwAAAByUcp+AAAAAXRSTlMAQObYZgAA\n",
       "AAlwSFlzAAAOxAAADsQBlSsOGwAABMRJREFUaN7lW9ea4yoM9i69CXj/lz0GF6rLjL1xcsJFvgkO\n",
       "Av2oyzMM83DWDt80GIV6Crw1L9gZCGF303QnHnb2lZSUK7VXL0Ffy/thRXtPJWzubDDNQZBeNLKC\n",
       "Kd/dWxKq60um8hUYBKU1y+GQPgdRZ2dDc/W3vrOa8IOz1BgMzL8CA4Mz1uOX3YHN5s7aZwrie/bQ\n",
       "HmGAmyt4CQaRfTETEoc6rMTmzswnu2g8f1cMoLV4IlweWWTxmAQ1Wzu7zASY1hw8iEHhn1B7ssC+\n",
       "mQVX4mN6WG3tbE5ioAC0Ho/FCBUOgKvR1IKNBLEYH4rF5miA2R4sS9ZDi30MnNDgoOBx2PgWA5m4\n",
       "xSwTGxYxJ6n5RQxQ8B8iok05BBVSIzEVRRBHB4tFNLEo2hhZLpmp410MZPi99abPNapNVWSfs/yO\n",
       "90kqfAcG0gdmLV3NJ4sTmE9+daRu8aRfslzSCHfXQwU+BNm6eUjBmyDj8MtH2JJ0g4OSJCJXdWF8\n",
       "KvWEQbwRryMGbJGAcUaMBGCiI8slZ+yBiNdFklD//UOK4UsrE1iXy3n7AUlJkvmrGBjBEcoxgAYD\n",
       "uziZGYO05AwGMVAxGZ+VHEhcrEGwuIZtDEqSkl7WBbmI/iYGlRxkS05gYKJgKb9lBRlOqhR0gdJF\n",
       "H4JA4J4uVCQv6wIVUeUdcx0M+LD8jW2yB9mSUxgENkZ7glwXA+xaz8jW41roYlCQVPYiBvEJeKbc\n",
       "zGeOAQlXxAPoLgoljw+zJWf8Ah7XqNF9rgah+ImsThbZT2mS7sYwJUkBv8WAWU+tGxgHBEZjiN+Z\n",
       "Gj/5oLEP8ZE1SEqYaBsR44OQZ61LtuIDZpfhYvYDmjkO/ZxaVNMapRQgJm7zYXOKFckpRf6dHLxl\n",
       "7hzZz7TluBzhyPA/w4BU+qEOTz5nVX0MeJY/6Q/BILKvc2dg3YEY2J2ds3wZvPwQDKL14XlWZQ7K\n",
       "oEuU2d0ZJ5dMyasqmfr+eqLbrSDMzmmjxIXWEqKgbvjSIeZQTlA2fO0QQT4MEcM3D0QhYGC+GQNJ\n",
       "4DZdcC9bdLMusNts4n6no7bki+RJeBiCVF0n+LJWLfUKUiuW01pYWXmkadCfQfcvFCG11y7HSFOn\n",
       "w3CBfYWBETGVL1jVmItxkDL9eWJkvaXLsfLa6YAaAwjs59lz+PUkIOJcvP8vh8f35Ux02MJAxvis\n",
       "xGASijldoQ8KQp4zXcUgdToaDKqQNFOI/er4izD4Ye5cdULyykjqdHQxkERtpnMblaD3xKDuhOQ6\n",
       "jtUOBgw4bwMQvlhhhT8Gg6YTkndOUqdjSxdqF+hWg4zIx2DQdEIKkyj3MRhoPa1x8kkfg0HTCTmJ\n",
       "AWOTH64EgdikY5+CQdsJKcoxm7pgfJyoMcic0ufoQtsJKcItqDFYkZheaoq6YPIYdd1Q2Y/RhaYT\n",
       "UnROeIVBeqjUEh/kC1AKTAW8MQZHnZAsPpg7HQO31JPwlsJA1txJjpnBlDOlucHRVTeIexcMLgYq\n",
       "baEUdfxDb849aA7uxaDNfHpOVO9lW0+M/J2s/rt5P0pCK4k2HS3vzblHX5Iu8mXrL2Zvdaejd7u9\n",
       "Ofto+QDydzSvN9vcr2RaPVpQNLTIVbR/tqj1CAS4qqOC/7Y2gySNW/7i/+H4D5MLPjYJPMk5AAAA\n",
       "AElFTkSuQmCC\n",
       "\" style=\"display:inline;vertical-align:middle;\" /></a>"
      ],
      "text/plain": [
       "{lambda:[_a -> \\# (_a)], ${_{-}a}$:(1, 3, 7)}"
      ]
     },
     "execution_count": 33,
     "metadata": {},
     "output_type": "execute_result"
    }
   ],
   "source": [
    "DecimalSequence(one, three, seven).innerExpr().operands"
   ]
  },
  {
   "cell_type": "code",
   "execution_count": 34,
   "metadata": {},
   "outputs": [
    {
     "data": {
      "text/html": [
       "<a class=\"ProveItLink\" href=\"__pv_it/b92949ae48601efb39eb7c2f230b00dd38f019300/expr.ipynb\"><img src=\"data:image/png;base64,iVBORw0KGgoAAAANSUhEUgAAAQMAAAAyCAMAAABvXk5FAAAANlBMVEX///8WFhYNDQ2qqqoyMjIi\n",
       "IiIQEBDMzMxUVFRmZma6urqYmJh2dnbu7u6IiIhERETc3NwAAAByUcp+AAAAAXRSTlMAQObYZgAA\n",
       "AAlwSFlzAAAOxAAADsQBlSsOGwAABMRJREFUaN7lW9ea4yoM9i69CXj/lz0GF6rLjL1xcsJFvgkO\n",
       "Av2oyzMM83DWDt80GIV6Crw1L9gZCGF303QnHnb2lZSUK7VXL0Ffy/thRXtPJWzubDDNQZBeNLKC\n",
       "Kd/dWxKq60um8hUYBKU1y+GQPgdRZ2dDc/W3vrOa8IOz1BgMzL8CA4Mz1uOX3YHN5s7aZwrie/bQ\n",
       "HmGAmyt4CQaRfTETEoc6rMTmzswnu2g8f1cMoLV4IlweWWTxmAQ1Wzu7zASY1hw8iEHhn1B7ssC+\n",
       "mQVX4mN6WG3tbE5ioAC0Ho/FCBUOgKvR1IKNBLEYH4rF5miA2R4sS9ZDi30MnNDgoOBx2PgWA5m4\n",
       "xSwTGxYxJ6n5RQxQ8B8iok05BBVSIzEVRRBHB4tFNLEo2hhZLpmp410MZPi99abPNapNVWSfs/yO\n",
       "90kqfAcG0gdmLV3NJ4sTmE9+daRu8aRfslzSCHfXQwU+BNm6eUjBmyDj8MtH2JJ0g4OSJCJXdWF8\n",
       "KvWEQbwRryMGbJGAcUaMBGCiI8slZ+yBiNdFklD//UOK4UsrE1iXy3n7AUlJkvmrGBjBEcoxgAYD\n",
       "uziZGYO05AwGMVAxGZ+VHEhcrEGwuIZtDEqSkl7WBbmI/iYGlRxkS05gYKJgKb9lBRlOqhR0gdJF\n",
       "H4JA4J4uVCQv6wIVUeUdcx0M+LD8jW2yB9mSUxgENkZ7glwXA+xaz8jW41roYlCQVPYiBvEJeKbc\n",
       "zGeOAQlXxAPoLgoljw+zJWf8Ah7XqNF9rgah+ImsThbZT2mS7sYwJUkBv8WAWU+tGxgHBEZjiN+Z\n",
       "Gj/5oLEP8ZE1SEqYaBsR44OQZ61LtuIDZpfhYvYDmjkO/ZxaVNMapRQgJm7zYXOKFckpRf6dHLxl\n",
       "7hzZz7TluBzhyPA/w4BU+qEOTz5nVX0MeJY/6Q/BILKvc2dg3YEY2J2ds3wZvPwQDKL14XlWZQ7K\n",
       "oEuU2d0ZJ5dMyasqmfr+eqLbrSDMzmmjxIXWEqKgbvjSIeZQTlA2fO0QQT4MEcM3D0QhYGC+GQNJ\n",
       "4DZdcC9bdLMusNts4n6no7bki+RJeBiCVF0n+LJWLfUKUiuW01pYWXmkadCfQfcvFCG11y7HSFOn\n",
       "w3CBfYWBETGVL1jVmItxkDL9eWJkvaXLsfLa6YAaAwjs59lz+PUkIOJcvP8vh8f35Ux02MJAxvis\n",
       "xGASijldoQ8KQp4zXcUgdToaDKqQNFOI/er4izD4Ye5cdULyykjqdHQxkERtpnMblaD3xKDuhOQ6\n",
       "jtUOBgw4bwMQvlhhhT8Gg6YTkndOUqdjSxdqF+hWg4zIx2DQdEIKkyj3MRhoPa1x8kkfg0HTCTmJ\n",
       "AWOTH64EgdikY5+CQdsJKcoxm7pgfJyoMcic0ufoQtsJKcItqDFYkZheaoq6YPIYdd1Q2Y/RhaYT\n",
       "UnROeIVBeqjUEh/kC1AKTAW8MQZHnZAsPpg7HQO31JPwlsJA1txJjpnBlDOlucHRVTeIexcMLgYq\n",
       "baEUdfxDb849aA7uxaDNfHpOVO9lW0+M/J2s/rt5P0pCK4k2HS3vzblHX5Iu8mXrL2Zvdaejd7u9\n",
       "Ofto+QDydzSvN9vcr2RaPVpQNLTIVbR/tqj1CAS4qqOC/7Y2gySNW/7i/+H4D5MLPjYJPMk5AAAA\n",
       "AElFTkSuQmCC\n",
       "\" style=\"display:inline;vertical-align:middle;\" /></a>"
      ],
      "text/plain": [
       "{lambda:[_a -> \\# (_a)], ${_{-}a}$:(1, 3, 7)}"
      ]
     },
     "execution_count": 34,
     "metadata": {},
     "output_type": "execute_result"
    }
   ],
   "source": [
    "DecimalSequence(one, three, seven).innerExpr().digits"
   ]
  },
  {
   "cell_type": "code",
   "execution_count": 35,
   "metadata": {},
   "outputs": [
    {
     "data": {
      "text/html": [
       "<strong id=\"digits\">digits:</strong> <a class=\"ProveItLink\" href=\"__pv_it/529af85ae13bbca61d15efade5ef44b2a68d178d0/expr.ipynb\"><img src=\"data:image/png;base64,iVBORw0KGgoAAAANSUhEUgAAAM0AAAAVBAMAAAAX/3cYAAAAMFBMVEX///8QEBBERERUVFTMzMyY\n",
       "mJjc3NxmZmYiIiJ2dnaqqqoyMjKIiIi6urru7u4AAAAvZeGPAAAAAXRSTlMAQObYZgAAAAlwSFlz\n",
       "AAAOxAAADsQBlSsOGwAAAxJJREFUSMe1lk1oE0EUx//52iRtstYvkEJrVRShKoUqraI2UkQ8GW8e\n",
       "hMaKVEFoxMOKoSiIomjb+AG16CEnoSCmKogXtdJDKV4ED54kC4IiCKlFsSZt17fzZrZht5Z46EJ2\n",
       "/tl5b37zPmYTAPonLOulPeLx3ZP/9w0CX9zPTpn/MO7cYd9r5uk2PJFSKwyobRjPEqzODG13fA7x\n",
       "4Cu/VHbR4Xss8pZl1Qn1bbJPToaN/XTfJOwuA7U5/RpPfM7MS5OTiM4JoafRlVOcKzxEBm/I3Wv9\n",
       "aGf1oM24wHZpBFjot3CAArivOMeAO3KhmOLQRlbykxKKo2pWcgJOgLVpbIRcHT1ChJLQ2SFQB3+6\n",
       "gkOB5U0XZ72JDpHMeANWKM7B525O3qkKhdDCmWxSHPKLTlVwfgOFnItD2ehIqMWSUmQ9nKcVBY+y\n",
       "fXzaDLNDsQmxnwsc3eYkXRy6BuUYv6rSllKc4xNyD+XDE++VfbccO2YvwolnTnLCo9D+AEfGPJzg\n",
       "rBzHd6rWheT4TU02STmJeuWwT8VlvYBTn1/AW1v3JpmT9XAiaacIMqlZxaFrK3Ms4JxqvSk5NdJt\n",
       "cYx6AzpLhCD3zn76SpyCNx7DUT5+GEpVcC7xiZsBumTiorJbQmnkG1l+nXxM9dGac9AzpuiDvLsP\n",
       "bHNOWwL+klBnoTjNxOEC3SSOLG2kSe7KhFZSq4RpvegrO9XUjHQCutx9jRFoYsvFecX50Nr6Y7dQ\n",
       "66jYTvpUPMUWOdJnl3O+CJ5Pyb4+CmSgOxyhglnETFv5Wuy8yW2shlBUzFVsVqD6SNdCml19tOwW\n",
       "YVbTiF4K+7Y6P5GcvkYeepsj1GnDaBeKjnc+qZeZMw2hehBrZDN/Vq+Xrvksu8ZfIzQmzGID2IyK\n",
       "c6o/HE8gYr8ZAxtm9rJ6Y1llVh8Neo9eFwFlrG1CaUabyZMYOi9dcYJKLFSn0ScdhofeV3L4Wvh9\n",
       "WETVmF5VpYObk8USKgqvqtKBObE6+U0fwxLqOzyqWgfqMXtGvTZCzvPFVNKrqnXQ14qhZ8/y/j8I\n",
       "3qX++Av06Pg+eBqaxgAAAABJRU5ErkJggg==\n",
       "\" style=\"display:inline;vertical-align:middle;\" /></a><br>"
      ],
      "text/plain": [
       "digits: {0, 1, 2, 3, 4, 5, 6, 7, 8, 9}"
      ]
     },
     "execution_count": 35,
     "metadata": {},
     "output_type": "execute_result"
    }
   ],
   "source": [
    "digits =Set(zero, one, two, three, four, five, six, seven, eight, nine)"
   ]
  },
  {
   "cell_type": "code",
   "execution_count": 36,
   "metadata": {},
   "outputs": [
    {
     "data": {
      "text/html": [
       "<a class=\"ProveItLink\" href=\"__pv_it/fc73cb1c8917f0d373da503935eabbec6451235a0/expr.ipynb\"><img src=\"data:image/png;base64,iVBORw0KGgoAAAANSUhEUgAAAg0AAAAyCAMAAADodRj3AAAANlBMVEX///8WFhYNDQ2qqqoyMjIi\n",
       "IiIQEBDMzMxUVFRmZma6urqYmJh2dnbu7u6IiIhERETc3NwAAAByUcp+AAAAAXRSTlMAQObYZgAA\n",
       "AAlwSFlzAAAOxAAADsQBlSsOGwAABmZJREFUeNrtXduagygMdpeDgIDw/i+7ykEBsWKr6H5DLoZ2\n",
       "WmISfkgIZKbrHKlx7Br9ReqxTH8l9SgqPFki1FvwPaK4erT7MyqouF1GYCWGUcyV66GKLpw5mcAj\n",
       "pmTyJyiD58FwXgav86K7H4OVBMQhHJim6fIBMfn8EIR5Ou8xK0QD4P8PY87OU3g7PCZ0QE4GziU9\n",
       "XCR6JCKdfbtFQydwGCaMessMkYOnpWjoel2IBgEfMyc84w+NnB4EDwodCzQpMY2rQB/hIAiFWsQ6\n",
       "uzaDhsk3BO5DZyLI8QgNcDNXStFAh8fsOdCzM5E6pR4UeiErw4CMKeMxY8M2FBSxzq7NoaHXqw8V\n",
       "mlRFA37QoHhncZCZqUbnCYN8xxeEkDgYGaAjTYDcRcOis21zaFBBqCA0rYkG9uSaC9c5FFszY4IZ\n",
       "CMJNQfYCR+FksKPFNChFg9fZtjk0iDI0DFJyLuaQBFMlJRmm2FSOhh+k04fUhyZcShc3+C6LTWmC\n",
       "BpoPxxTlUskLjZdlyEk02N3OO5uCMdq4daKK0J/ZWRmER8NQigavs22/RwOYtx7UQBITOfuXYeI1\n",
       "mBULmjgGUhOTAhOKsLiLYw4TNMCsB2Zzv1Ffl/XIMxzgzviDTexkgED6zZpyn9AH7KwMSvPU1R+g\n",
       "wets2x/RwPQ87CNe4s3e/AISC9GJ+QitmCzusl2QjSQot80TeFaVouvi7zxDgPZWAxnk3yiaSPsf\n",
       "sJLQR+ysDAsaeCkavM62/cFTTB8ybtFg5o4RoTf7EUi9FxMWpsLHDb7LTtyQTUtQIzu6bk+/w7Bf\n",
       "N9P//oMi0kncM4OAecvUEPqInZVBWBgwvzYY5CKMTUNyaPA62/YHNAhKAAjRIDdoGP2i5dCwdjmD\n",
       "BpP/EMdxaHn8nWfI8N7awGD8XTPbaP8JDRcLfcTOyWBHC5RHkV5n2/7iKZh3DLtoSNaGoMsOGiDI\n",
       "iTMDfrAgFsPvAfwew11P0YeJKepnm/EWsI7Qh+ycDHYkhvId5lWeAlOzJqleZdBAOv8ajmvcEHTZ\n",
       "QcMoc+LMmk7xB1BdLyXKbQJ3rZg3bZZhN4w7aIAqs7/sF8OcEPp7NBywczLYIJ7CrjiKHMP2ezSY\n",
       "D6TuB+VGPESDyYOTGc/KrGHEfBh02dlT8FwmA8o5yUY7HoJ56fvhRfyAA4aTEVerRVZhm5MaowfI\n",
       "7EwPn7HZTmWk7s6zW2SYo0mB+2I0eJ1t+wUa+lHjcYIokUAKDqV53w/TT9JxqOfM0ygAY9KyFtTk\n",
       "G+aTrqXLbr6BIfcITzNuBJG8V0T2kSWQO3lZmWxfLF8qYdjtpfdpes7LZyCs3uOE0JlUS0bqL9gx\n",
       "P0kmY5NE3hQNZMQaERnpbNuv1oZbyEqyOWHvdreBoMRXHH9pYaiKl3MDhODbJ4S+hHLsPsgA9lNg\n",
       "XmfXvg0Nh0dHqyWKNm+83LTlZ08ocR8nhL4NDR9kYPuKeZ1dm0cDCfbgvCoaulEVWkKUJH0LvuQZ\n",
       "quLrfgYIPNxIFAt9HxoOZcguDWPc5tAQnmLLC7f5RWgQY6ElimbyUG7a8ut+JiAi4deLhb4RDeKL\n",
       "y6teZ99m0QDXpBxGXS00uFt5aqhp2IXh8NPNxrpC59mp07csvM6u3bmhBpYzMIrfcP0z0HjatFD5\n",
       "Zob3P6OGyHFw4fKFFPddoz9PdF4zBKLNEo1mZ4HljAbRLNFozm3J93sK9eFdoys9Rf/KKDLe6cVn\n",
       "h0y2cbtnt7fcoUfwtUIuJS1prUija93EesuyXvbpLLlyklytSKMrKaivqpeZPu3MAsQmtSKNriQd\n",
       "Xmt+q4XXa2vbWpFGF67BwanVa9EQlLRsa0UaXYmGcyfadWpfTEy7ChOUtGxrRRo9hoZKtS9dfFks\n",
       "WAa2tSKNnkJDrdoX81GwTIAMGgBqo/csGmrVvqRBJMugoddt9J5FQ63alxI0MNxG71E0VKt9SQg2\n",
       "T/FKNFSqfUkoKGnZ1oo0espT1Kp9SToEm8ltrUijemh4pvYlyTf4cpJsrUiju9BwKqFzX+3LhjLl\n",
       "JKqFDS9Fw9W1LxvKHFHRlpi+nsK/Apb9C4EFg3d17Usujkzdgmox5A0UnWKfSznfVvuSw1I6+GM7\n",
       "wbyBZPjXQ89dcLir9iW/hsVoGloIeUfYgKONH9fFF8z+l7UvjT6CASY3Y6VuV4r+KjGEttFZC8/+\n",
       "aAS5/reS/wCne1bPbQSh9wAAAABJRU5ErkJggg==\n",
       "\" style=\"display:inline;vertical-align:middle;\" /></a>"
      ],
      "text/plain": [
       "{lambda:[(_a_{1}, .._a_{_b}.., _a_{1}) -> \\# (_a_{1} ~ .._a_{_b}.. ~ _a_{1} ~ (0 + 1))], ${_{-}a}_{1}, \\ldots, {_{-}a}_{1}$:(1)}"
      ]
     },
     "execution_count": 36,
     "metadata": {},
     "output_type": "execute_result"
    }
   ],
   "source": [
    "DecimalSequence(one, Add(zero, one)).innerExpr().operands[:1]"
   ]
  },
  {
   "cell_type": "code",
   "execution_count": 37,
   "metadata": {},
   "outputs": [
    {
     "data": {
      "text/html": [
       "<span style=\"font-size:20px;\"><a class=\"ProveItLink\" href=\"__pv_it/3b03c261d8f9d64a8eb9ddfe2519f520a91527e80/expr.ipynb\"><img src=\"data:image/png;base64,iVBORw0KGgoAAAANSUhEUgAAAgUAAAAVBAMAAAAk+4CMAAAAMFBMVEX///8QEBBERERUVFTMzMyY\n",
       "mJjc3NxmZmYiIiJ2dnaqqqoyMjKIiIi6urru7u4AAAAvZeGPAAAAAXRSTlMAQObYZgAAAAlwSFlz\n",
       "AAAOxAAADsQBlSsOGwAABA1JREFUWMPFWFloU0EUPUma1yZNnsUFpGCpK4ILBRUXRCtFxC/jl36I\n",
       "LYIWQWjEj4BBLIpa97hALQrmSxDEVgQRQan6UUSQgh8iIn0oKIJQ96XVxpm5s2Vp6IfkDWRycufe\n",
       "OefdWV8AuK9Rqoxj/m/FuVa+vSL8SsTTmyV9xjGXLVXAu0Kq7eM5tywu21dl+ElEdIwHnyn0EOae\n",
       "gTbVu3JoT8+RaHf3Iu29gb4Co3eVX6TnIvWTy+U+k+nDkwOysTq1htWzDZshqjS/qCKdwNv0WGEO\n",
       "uLk26x6lX9rBacLVQZqrSbRmlfdh+qo5e9yTfqexgvq5nUqdIFsSIQpwT2Ede7hLmswQVZz/kiJD\n",
       "rGQOtgLn5U/lEPIQqCPLCIb7VKvUEDJPlcQsSjnTkxQonIBLAaE6BJN2DiyiSvOXyMGjrq4+rYHN\n",
       "k14vX0NgDKEfAsVnYJLSsP52oQYVh6i2RhqVBhYX+WTnwBBVnL84B6+e2ePwExjKFoxDJ0LfNFFC\n",
       "gkyRhlvWkNLCRPyLV00Bw42IfbNzoIkqz1+UA+eBPRddriGRr4Evuk8SxI+oqdimNGwbaCY0unFg\n",
       "UO3MjRKs/bMfehz+WjnQRD7wi6q6z1DUmt2ZmZ3fwKb+Ig3KVPV4qbTshNQQ9Jy/9FSjCdTL1pAS\n",
       "E8ndgV6P34GH+vxSRD7wi6ojYeXATCBmFhoyRRqOmUUnJ2pGaWBlPmnIAXvlkuxQTdd35OSWPgMt\n",
       "I6wha+cg4w8/r1pOWxTrulgRU4ebXaZhqGgcqpOaL0DGcJul4SAN5S+gVeb/smwJJ9HbQPD9kxts\n",
       "PToL5DNoIh/4eeWmPUPxxtxUufmnSbXRsEXdWpoRHBFoD5SGBUwDLciTTINcyoeUYg/OiH4S1l/k\n",
       "vrUnCiIf+EUVbDIUNWYucjM7YVsLziZEM9hFm+uY0vB8yZLPKwWazjYePSXlOLhfZeQw+yzT5zcb\n",
       "7V69+hWRD/yiss+FWH/eHWUzkIarNQi0EXgGLizQxOeilDgFArHFO5nchth6JBRno0kBjG2eQNEG\n",
       "dLDhOidCuUEQ+cN/ruh+cC9PQ03WnSovY9yBI+dYal+nO0rXrt6EQKx8gUDtiDVQQDDj1hOK/gY1\n",
       "xh8g3C9Q7AzmqmNJGASRP/z6fhCa+Ws13csXeZYG98rjZtTwtxDhwFEtewXpQxf3epFi7ywCIZ1b\n",
       "KJCTWu5RALr3yVCHn1HCrSV1QKKe7kFFLwyCyB9+c0fS5eV8665KxbzDahT1yqEJBsgcWAY/+Evk\n",
       "IG8uqtO3CEVQDk0wQOYgAl/5RRWrK6lBm129Txn0EWXQRANoG7QNfvCLyq0v/VeWMoe1yaBEOTTR\n",
       "AHdagcEPfimifVVJEeOY/1upupAt214RflH9A6vxV+RtR6PXAAAAAElFTkSuQmCC\n",
       "\" style=\"display:inline;vertical-align:middle;\" /></a> <a class=\"ProveItLink\" href=\"__pv_it/da2f6012eb80181b6bc34be41640ad36e1a855560/proof.ipynb\" style=\"text-decoration: none\">&#x22A2;&nbsp;</a><a class=\"ProveItLink\" href=\"__pv_it/1860d8b67f51b11a025f61e2dd8f10c86bfb2f010/expr.ipynb\"><img src=\"data:image/png;base64,iVBORw0KGgoAAAANSUhEUgAAAKIAAAAVBAMAAAA3EyjlAAAAMFBMVEX///8QEBCIiIiYmJjc3Nwi\n",
       "IiLMzMy6urpmZmZ2dnaqqqoyMjJUVFTu7u5EREQAAACQpWb0AAAAAXRSTlMAQObYZgAAAAlwSFlz\n",
       "AAAOxAAADsQBlSsOGwAAAhVJREFUOMuNlUFoU0EQhv+Yl7zXpFvqofYk5mYRwSgKBcEGxKtEcHso\n",
       "FXMp9NYoFAo9tFgiSC+hN6HIQ/DgqQFvglh6EE+SeySkxaOKl4IeCp3J5j0z6e7SgZ3NvN35dmdn\n",
       "dwL8lwqGJYBDKr5BIRdiYV5zzXtOLSx5URNQ+9S9p7bUTj4WmsDrmcrI1PyTwcpn1+Mho4BO3121\n",
       "oL5+TokdoBirx9Lr+/YJ6U/Uim1Yhsw4by6qA1GZft5IJ24Bd4A3xgjLycmwxyy17OaZQztJFPAS\n",
       "OdIZCOIk8BPYM3ahNOyW4Y+XfcQquqTXBTFsAX+BjdhCLPKOP3iIQQ+3qHsliFETiollC3GM87jr\n",
       "IWZL+JIsmhJpH8E/YKVkIWZp/7jLZkOzLEpiQz/V+li3sCCIudgQmxZioUrqnWePRYScuGlBzNSh\n",
       "iLhBqEjrR1Na76du+T+kVjzEt4hqNiJnZs+WmZDuAZ45iQ19keNu4aM8R0L9Buba3qit58iXZ5m7\n",
       "I0GcIMZNYBu2zPRI3XNHnd80j3RXEPmG5GJ1yUaM2HrhJo7F/YeKVWrfriwOfEOKTO1cr0ni+OHx\n",
       "Aa3E9WPkxZshM05vvtq/LzUxY37YKIji9YCfRdVdy3Lm8oy+/dlhI60USRExdcUhaxw3yw9ZNCsu\n",
       "h4AT89BTb69i3KSjKz6rnrNA8/Rf5/lXCGQg913zbvMROSPAKdFqnT0zkYO9AAAAAElFTkSuQmCC\n",
       "\" style=\"display:inline;vertical-align:middle;\" /></a></span>"
      ],
      "text/plain": [
       "{1 in {0, 1, 2, 3, 4, 5, 6, 7, 8, 9}, 0 in {0, 1, 2, 3, 4, 5, 6, 7, 8, 9}} |- \\# (1 ~ (0 + 1)) = 11"
      ]
     },
     "execution_count": 37,
     "metadata": {},
     "output_type": "execute_result"
    }
   ],
   "source": [
    "DecimalSequence(one, Add(zero, one)).auto_reduction(assumptions=[InSet(one, digits), InSet(zero, digits)])"
   ]
  },
  {
   "cell_type": "code",
   "execution_count": 38,
   "metadata": {},
   "outputs": [
    {
     "data": {
      "text/html": [
       "<strong id=\"List\">List:</strong> <a class=\"ProveItLink\" href=\"__pv_it/1d2d7d9f68042c9cd8af7f089c8a5fe5dd3407d50/expr.ipynb\"><img src=\"data:image/png;base64,iVBORw0KGgoAAAANSUhEUgAAAQoAAAAVBAMAAABMEr0AAAAAMFBMVEX////MzMxUVFREREQiIiK6\n",
       "uroQEBCYmJhmZmYyMjLu7u52dnaqqqqIiIjc3NwAAACFAiZ1AAAAAXRSTlMAQObYZgAAAAlwSFlz\n",
       "AAAOxAAADsQBlSsOGwAAA5ZJREFUSMfFVktoE1EUPUnafCafBkGXWhAKLqpFUVH8FHUhKhJURFGo\n",
       "UKTgj4C6EBWzqAut0dCFulAZFMQuyoyigkggiKgoatSFYqwEFRT8ZiGltQbve/e9TtJJbHd9MMmZ\n",
       "e89797x7350ZAEVM7oiJn2huklU05unnSYXBWNDuZnnOply24F2z2lA5M5qqv1it8Y64mUpDKFWD\n",
       "1eTO1o1pY20VMxvs/yxWY4RMBJPjBAQ6TJdpz0ZzfKlNE6x1IAX/eAGBm+5SDk9Eas3Fao1d2DpO\n",
       "QBrnXZZw+wSk4vZEz+c59Ihe6Xmf5/vegVPKky3EuY96XoyoA5h9ozYXaFmhS/5o4LOS+vCVavn+\n",
       "tPL14ulJTt2NH9lWT3Y+m7fN/vpShcOX7HdxykgHsLno4xQbQ6bFa33KBdskGPVhU9xj64rrVcKZ\n",
       "WKeaWfQ2s83erFQPRp51Mcu3FNZBPFD+eXmjrCq7D8tpZ4ewjuhdCHKKI8M6wFr4JRA+7qLYIKIJ\n",
       "FfxnXIHnJv7yzBK8LDuWO8G+SHm755JEU/1t+GnjGDd+ohOxElOuJtFNf/exk5p/WDcXBbQkCurj\n",
       "5/h8fwu3dCGfa9AJT1nPZNkwlC4Eu7RW00oIvTPZb/xG4Bc7zpi0XWCGUEFKrYTu8A7ZXv42tYDj\n",
       "a2p2H0XPCKI79DNCJyiidtBw/nqFakrQXuX/pdNGmyBJVHVcgNj+MVXvpJAHqIygymc7KubqTi/D\n",
       "x+JIqpYWUnKtRIdOxixR4sayIW+8GYojoxh/OCv3sZToOSyKFAWlKUHnwGA5SAjg+ERhcuAuEbsS\n",
       "iNawkhKR1N0BU4axcrYyWbk8T9gt9uzNfJN3fptyYwuqMQJf5hmwn7oEoXxgdRgWHUJv0peSIJhC\n",
       "OC6A4wtkcK1oDMkDWBJNIZYpY44pEdW8xDx0xJLKZMVtiYhPekM231Hl7gSKknoRB1K0uTQ20Vqt\n",
       "1z+8QMMaQml6XAiAuwNv2TLqQ2GAjt8qkyur0IZCN6OFNCXPPN9rNi1BNG1K1Ngu3nCRdFHeUcSP\n",
       "R5h6uTC9laq2Hg26dnhcHzgoImIHmzUCVo+iSp5jilQ9xmtQKVXt4lWihl0fOChM171QTqEppqfE\n",
       "aAzPMYWrH/1uKuQLdZn+QsjXBRWon66VfRq1mH15RmN4jqm/SkUNKtWHriu661AXVCDxHXD0tEZb\n",
       "Dh9XaAwvCTdCbSqwWFQlOclffIEi/gGx1SmH3f317QAAAABJRU5ErkJggg==\n",
       "\" style=\"display:inline;vertical-align:middle;\" /></a><br>"
      ],
      "text/plain": [
       "List: (a, b, c, d, e, f, g, h, i, k, m, n, a)"
      ]
     },
     "execution_count": 38,
     "metadata": {},
     "output_type": "execute_result"
    }
   ],
   "source": [
    "List = [a,b,c,d,e,f,g,h,i,k,m,n,a]"
   ]
  },
  {
   "cell_type": "code",
   "execution_count": 39,
   "metadata": {},
   "outputs": [
    {
     "data": {
      "text/html": [
       "<strong id=\"List2\">List2:</strong> <a class=\"ProveItLink\" href=\"__pv_it/b239906d1e3fd01c95c54dfd62ccd4f5161f9b300/expr.ipynb\"><img src=\"data:image/png;base64,iVBORw0KGgoAAAANSUhEUgAAAKAAAAAVBAMAAAAz5vjYAAAAMFBMVEX////MzMxUVFREREQiIiK6\n",
       "uroQEBCYmJhmZmYyMjLu7u52dnaqqqqIiIjc3NwAAACFAiZ1AAAAAXRSTlMAQObYZgAAAAlwSFlz\n",
       "AAAOxAAADsQBlSsOGwAAAmlJREFUOMutVU1oE0EU/tLE3c3mb/Hg1aLQmxg8CAqWoB6KigQtoqcK\n",
       "VQRRWPCkUtyDHiStBg/qQWTBiz3IRtFTCSzSg+ih25sYI0EFj7YHkYY0+N7OTDe6LrlkYGc+vjfv\n",
       "zbzvvUwAdDCyUeSp4I8u4LaApg8DhLm/Et+VeujEOGPJ/Yd5doHnzxSjPkhnnf+cW4rn8GpHjHsc\n",
       "+rsw7CG+wIwbo66cjnE9nnQH2jBf4HVcq24SdRnnhviqZP4auUoS9Qg1rnbtSyDoB+15uaHZskQn\n",
       "1FZ7smLNj/L++sRhpfW79g+p/vzcJItLIYEznbS4sLnheqItv/tGOQRbNkxbqYaSOlD3qhdnBfKe\n",
       "Yhct13GCwlyCIS6c76q9x6GFgG2iD4q/UajKOD8tCVZcbEpkYTcty7hITdVFRpxNvl6IDKV6ZEtv\n",
       "tt4owVYUmEWqL9Bd4CotOzmgVoZXVW04EzaOVpYeka00Hq9dqofCeciUiuusEJ6AL3VLamPjfii8\n",
       "p9QasDWigPvkqveRFueYv0Sdl3GInHwcyHdMdqqSZqaIjCqDyMaZ+xB15uSY09fg2SFHSGvcAK5R\n",
       "nZEN9KkcPNJ+zE47ITAc5CwGkU2v43nH3Ajrw8kxZ/ax1w25sTJKFh25gGmi97z8uorMMUIL1IYM\n",
       "sNT+JJgtG1ptqvtRvk5+DXLbqdZtwaVt5JpEnERGdQDeJ4MI5TmgMR5xU5KTD2KFf85yNJJBhHL0\n",
       "vc36ktvuptYFp7qMtJ9Ub2GQCAbQC/qOLCpuwl0MBCfHN34ZVQsgEQwgfuzm7inu7M07kpPjIKdt\n",
       "j+4vQO/gDyHQuAwDtz9iAAAAAElFTkSuQmCC\n",
       "\" style=\"display:inline;vertical-align:middle;\" /></a><br>"
      ],
      "text/plain": [
       "List2: (a, b, c, d, e, f, g, h)"
      ]
     },
     "execution_count": 39,
     "metadata": {},
     "output_type": "execute_result"
    }
   ],
   "source": [
    "List2 = ExprTuple(a, b, c, d, e, f, g, h)"
   ]
  },
  {
   "cell_type": "code",
   "execution_count": 40,
   "metadata": {},
   "outputs": [
    {
     "data": {
      "text/html": [
       "<a class=\"ProveItLink\" href=\"__pv_it/2fed432016bf43c683c8270a484060fd7386b1cd0/expr.ipynb\"><img src=\"data:image/png;base64,iVBORw0KGgoAAAANSUhEUgAAALAAAAAVBAMAAAAUSHkwAAAAMFBMVEX////MzMxUVFREREQiIiK6\n",
       "uroQEBCYmJhmZmYyMjLu7u52dnaqqqqIiIjc3NwAAACFAiZ1AAAAAXRSTlMAQObYZgAAAAlwSFlz\n",
       "AAAOxAAADsQBlSsOGwAAAo9JREFUOMutVE1oE1EQnjRxd7P5Wzx4tSj0JgYPgoIlqIeiIkGL2FOF\n",
       "KoIoLHhSKc1BD5JWgwfrQWShF3uQjaKnEgjiQfTQ7U2MkaCCR9uDSENanDczrxtd114y8L338c2+\n",
       "ee/NzD4A6ABjQJYXQK7JGJTtCBjwXqDNPliKfp14WIlo1pL3l7JwUY2fGHaNEVq68o9zFKJ3erEr\n",
       "oj2i9R7BcoHw3xgAk15Euno2ovXUYFYIBlJjuxgAL6O57MZJVwgTOE5sE0Nf8g/LlOKkeUIVR4V8\n",
       "9XPA7gftWfmw0XK4g6orPals44Pcxxw5qmvxtv1dqjM7PaqST5iXLc51knwRe93zua2/Na0ikS0f\n",
       "jDuJui5FoM9Zy08x85/AHpxuEE7hiLAvg8UXyXb1mpNgEFE+7pv8L8iVJd4PR8iyBxvCHNiL0xvC\n",
       "JRwRVhdSfBaM4ROzdHVCX3Kj9UondFmTKUhsMrsLcA2n3QQJbBTBL+s2nqSGM4qyMvQVhqM1TvQg\n",
       "dwHkivk1lTnCYxwReMgZyZ0L96lAvs5mn68eBj4gs7kJSd7P/sl9wak4giPCb8KhbMdWi8uYU5t3\n",
       "gLIioU9lpAncF+rSSjNXwXdJQ2bUbwJcBwXuDUgH5lgGfKzRkJusELEqkHEUCX1mDZ527HWqo7q0\n",
       "0uxN2O+RNlSEgoNbz4HCuGoidO97/mUFUieQzWEbKwJL7Y+sbPmg1cY+Oa6Ol10F+exM6zZrSRcy\n",
       "DRROE1LYNSndOfAunoQsqwJbw6E2Jpo8yCWCPBli9XgSsgzidbop2k4vscaa7k551tRPOKrf4iCW\n",
       "9LFniGOLWhvxFgPWxL4KFgTUOhBL+ph6ZKfvae38rTuiiR0W5F3GoMzsEH4DuAXNNijX2V8AAAAA\n",
       "SUVORK5CYII=\n",
       "\" style=\"display:inline;vertical-align:middle;\" /></a>"
      ],
      "text/plain": [
       "((a, b, c, d, e, f, g, h))"
      ]
     },
     "execution_count": 40,
     "metadata": {},
     "output_type": "execute_result"
    }
   ],
   "source": [
    "ExprTuple(List2.entries)"
   ]
  },
  {
   "cell_type": "code",
   "execution_count": 41,
   "metadata": {},
   "outputs": [
    {
     "data": {
      "text/html": [
       "<strong id=\"test\">test:</strong> <span style=\"font-size:20px;\"> <a class=\"ProveItLink\" href=\"__pv_it/e760467f961f02173afc31ac57e27b2925218c220/proof.ipynb\" style=\"text-decoration: none\">&#x22A2;&nbsp;</a><a class=\"ProveItLink\" href=\"__pv_it/94b08a19bd8be55cf7d20b8641adae79091720ec0/expr.ipynb\"><img src=\"data:image/png;base64,iVBORw0KGgoAAAANSUhEUgAAAQsAAAAVBAMAAACj0NY+AAAAMFBMVEX///9UVFREREQiIiIQEBCY\n",
       "mJhmZmYyMjLu7u6qqqrMzMyIiIi6urp2dnbc3NwAAABm9RoHAAAAAXRSTlMAQObYZgAAAAlwSFlz\n",
       "AAAOxAAADsQBlSsOGwAAA3RJREFUSMetVl1IVEEUPvvrXb2rEhTRvmxgIQS5tS8qCKIRST/cCKyn\n",
       "3IrVIMztoVB8uUrUQ8T6EgT2s289lRIh5FYIIT30kBFYtCssWL70oFLmaprNOTPjvbs7N18c2OGb\n",
       "75wz882ZM7MXcoCtErav5Wy9wqDms4RebqOM99RnS/iKocpzjgHkHpiysYOtCtcnR0u57i9FhFYT\n",
       "oeXUMh5CYGNj41chWV7PA8j9doHphkrySgkT3NNWTJXFsO9VytASELzW2dlQQA505XkAuce3WBFA\n",
       "z5dQ3ge1xVQVJaJdKcNvgJ8VYYyPJuVJ5XkAuTdvsSLbeqSE+mA6UF5TJcPLzh7AJUbDdhksAN31\n",
       "xBYrynQXtE/gQJUZKhnvqP+qksEC0N2PFTqX+SFWDI0NCUFpETWXGRHU3fRlMcHp1l0CBa68MURV\n",
       "3XvObl+wWiWjmx6GsEoGC8gK+fopqONZTvZqf/lj0gAX+TFt2vRGeCrn/SPBZ/jGZ9eWcy4mwZeQ\n",
       "MvxRaigLrmPnmlDJYAHo7mFbvWnAJW55bIoVPFNwnACzdXHbvAGvxASVqzIZeaga5WgVXExQIKLK\n",
       "Bl2ReVDJYAHo7mUae0xo4pYu0NYJ9MgatGx16Rm5n8CCrL0wjPAH0p8ALxNUvqCScYInDtulaPRI\n",
       "NHpoUwYLkDJaQFuTz4bOr2yLnMGyLSoqmZXNC5Dpm0+xk2t2lHFYmQ0WQLUxhAnwie0tgZ+urMgJ\n",
       "2G3r1rTuagE6crCXo+QE3RXrUOy10YczLf7vUNyjoK2AO/EI8BjWsBZM0gM6AputCS+/xs8C6wG5\n",
       "DtCWONcBcNJngi+sysYB3PZvpQwWkOUXBvrhTGxKW2ajnbAfCHSya07Asp0F7Sok6ZnB9BOXzLny\n",
       "nNsBsBpkORhVyfiI215XymAB9HyxLA68fhZKQZRt7xY+GwiCmbRJwLJVZNKsBOrpQmGHnB6ajnBu\n",
       "H8AMk+DJqWS8xdvVViTDVfMzRAHk3iitAdMR2NB97C5YnCcmON5mlf8pnpR9NGwfzAr39s3ydwY2\n",
       "xB7dQHWf4Mp3w0iKONniShm+gr+DSfsgLtzd8sPoDjgCC2mY+NqE4FzHtH7OyXctrP7eOOj0nYQB\n",
       "5K7Jp94AR2AhH/7GcoLT49MTnJM32VTLGHSSgQHjhL5v40fgeerHSzdtOAf8AzkCDvfjsJ4BAAAA\n",
       "AElFTkSuQmCC\n",
       "\" style=\"display:inline;vertical-align:middle;\" /></a></span><br>"
      ],
      "text/plain": [
       "test: |- |(a, b, c, d, e, f, g, h)| = (7 + 1)"
      ]
     },
     "execution_count": 41,
     "metadata": {},
     "output_type": "execute_result"
    }
   ],
   "source": [
    "test = tuple_len_incr.instantiate({i: num(len(List2.entries) - 1), a: List2.entries[:-1], b: List2.entries[-1]},\n",
    "                                                 assumptions=[InSet(num(10), Naturals)])"
   ]
  },
  {
   "cell_type": "code",
   "execution_count": 42,
   "metadata": {},
   "outputs": [],
   "source": [
    "from proveit import Lambda"
   ]
  },
  {
   "cell_type": "code",
   "execution_count": 43,
   "metadata": {},
   "outputs": [
    {
     "data": {
      "text/html": [
       "<span style=\"font-size:20px;\"> <a class=\"ProveItLink\" href=\"__pv_it/85d7012509249668c0cb038c57afe340b7b1bb040/proof.ipynb\" style=\"text-decoration: none\">&#x22A2;&nbsp;</a><a class=\"ProveItLink\" href=\"__pv_it/4bc68cd20041464e6d151590dd05162b08339e6b0/expr.ipynb\"><img src=\"data:image/png;base64,iVBORw0KGgoAAAANSUhEUgAAANoAAAAVBAMAAADSje2JAAAAMFBMVEX///9UVFREREQiIiIQEBCY\n",
       "mJhmZmYyMjLu7u6qqqrMzMyIiIi6urp2dnbc3NwAAABm9RoHAAAAAXRSTlMAQObYZgAAAAlwSFlz\n",
       "AAAOxAAADsQBlSsOGwAAAuNJREFUSMetlk1oE0EYht/8bDppN20QFDEHI6j0ZAO9aEEoLUhFlBWh\n",
       "3mxU2ipVm5NUCrKK6EFKchE8qK0nT5ogUtBYyd2DBaFKY2HxpxcPrULpv3V+s9tkllw6kOHpO9l5\n",
       "5/vm+zaFAzaasXPD8czV4xuf3+6g20fPvlq36LRHudut+dqLE7Xa9a9VAjmYonNTTus2NnVNqg+2\n",
       "6Td1p1qtUWL7TlZLDWk2j2jd0gjkhNpfZ2PAXKmRwk9aq6UWHlavzs2wQDJC7ayzMQ0kVSN9sn2k\n",
       "sK1xiyWVm5mps7HK0bbxGT5Sg6VxM//aEYurEVYk8+XfcuPEZE76FmcFzJfzUhorXpGPn+3eIyk6\n",
       "9MGSN/7oNa38WFx3b/vXrwqVHcY8gzaRmuwI+Sea8BguiXNV1swOvFSPryv4gp9JUZPLToA6GRnl\n",
       "FmnnI86PvnVbqCF68HsWLouHx225UWgapzjQtUGxtmDhvfRoXlOhraClIGgNAeobTelie/p9q8TV\n",
       "cAkYtnFcyIMgmxyGVRm4a23FuZIyWVS1mURevDkiGYSpb+OiribTGO+puHWBbKh2M0UPdKlvumt/\n",
       "NMVEr/QNVDIWJmi6OzVutFCbV8W95Vg4hjzsEiK8B2SE8K5tuo8H4xL6HBwQlC3xqnQz6bm3LP3s\n",
       "5mqwALKKYOYZWO422D3Z3BYmA88aTWgURByW5oxTH8iSIpw2bBhJXWw02Ue4ykp2FOfS02SZn+Aw\n",
       "OAwAsxzctfMgN5Dl7clyxinrBFYE7QLWYjSigq7fRmAURHfT0O9MvUpMoJ0GcJ+1G4NYuWhzcNea\n",
       "ykV6PUd56UKSmZhJCToEzFGnkKOryecD6q3coaSo7QseesymixVCKK2Ijx91fnF6K4XmDx6ir55o\n",
       "/Jakxr3IT3BSo7+OW1D90j6EL7hEWLZaM5ICPWRUkGr7ZB03kpR/WfAFlwz2mXQkmf0zJUGqNWx/\n",
       "t3d8/rWD/ylc8OxbNf4Dr7zoV3ylh6YAAAAASUVORK5CYII=\n",
       "\" style=\"display:inline;vertical-align:middle;\" /></a></span>"
      ],
      "text/plain": [
       "|- |(a, b, c, d, e, f, g, h)| = 8"
      ]
     },
     "execution_count": 43,
     "metadata": {},
     "output_type": "execute_result"
    }
   ],
   "source": [
    "Equals(Add(seven, one), eight).subRightSideInto(test)"
   ]
  },
  {
   "cell_type": "code",
   "execution_count": null,
   "metadata": {},
   "outputs": [],
   "source": [
    "Add(seven, one)._integerBinaryEval()"
   ]
  },
  {
   "cell_type": "code",
   "execution_count": null,
   "metadata": {},
   "outputs": [],
   "source": [
    "test.substitution(test.innerExpr().rhs)"
   ]
  },
  {
   "cell_type": "code",
   "execution_count": null,
   "metadata": {},
   "outputs": [],
   "source": [
    "# Able to compute the length of 11\n",
    "Len(ExprTuple(a, b, c, d, e, f, g, h, i, k, m)).evaluation(assumptions=[InSet(num(10), Naturals)]).prove()"
   ]
  },
  {
   "cell_type": "code",
   "execution_count": null,
   "metadata": {},
   "outputs": [],
   "source": []
  },
  {
   "cell_type": "code",
   "execution_count": null,
   "metadata": {
    "scrolled": true
   },
   "outputs": [],
   "source": [
    "Add(num(10), one).evaluation(assumptions=[InSet(zero, digits), InSet(one, digits)])"
   ]
  },
  {
   "cell_type": "code",
   "execution_count": null,
   "metadata": {},
   "outputs": [],
   "source": [
    "md_nine_add_one.instantiate({m:one, k:zero, a:ExprTuple(one), b: zero}, assumptions=[InSet(one, digits), InSet(zero, digits)])"
   ]
  },
  {
   "cell_type": "code",
   "execution_count": null,
   "metadata": {},
   "outputs": [],
   "source": [
    "#md_nine_add_one.instantiate({m:one, k:zero, a:ExprTuple(one), b: zero}, assumptions=[InSet(one, digits), InSet(zero, digits)]).innerExpr().rhs.operands[-1].evaluate()"
   ]
  },
  {
   "cell_type": "code",
   "execution_count": null,
   "metadata": {},
   "outputs": [],
   "source": [
    "Len(ExprTuple(a, b, c, d, e, f, g, h, i, k, m)).evaluation(assumptions=[InSet(num(10), Naturals)])"
   ]
  },
  {
   "cell_type": "code",
   "execution_count": null,
   "metadata": {},
   "outputs": [],
   "source": [
    "\n",
    "Equals(Len(ExprTuple(a, b , c, d, e, f, g, h, i, k, m)), \n",
    "       Len(varRange(a, one, num(11)))\n",
    "      ).prove(assumptions=[InSet(num(10), Naturals), InSet(num(11), Naturals)])"
   ]
  },
  {
   "cell_type": "code",
   "execution_count": null,
   "metadata": {},
   "outputs": [],
   "source": [
    "\n",
    "#Equals(Len(ExprTuple(a, b , c, d, e, f, g, h, i, k, m)), num(11)).prove(assumptions=[InSet(num(10), Naturals)])"
   ]
  },
  {
   "cell_type": "code",
   "execution_count": null,
   "metadata": {},
   "outputs": [],
   "source": []
  },
  {
   "cell_type": "code",
   "execution_count": null,
   "metadata": {},
   "outputs": [],
   "source": [
    "# infinite conclude recursion?\n",
    "Equals(Len(ExprTuple(a, b, c, d, e, f, g, h, i, k, m, n)), num(12)).prove(assumptions=[InSet(num(10), Naturals), \n",
    "                                                                                       InSet(num(11), Naturals)])"
   ]
  },
  {
   "cell_type": "code",
   "execution_count": null,
   "metadata": {},
   "outputs": [],
   "source": [
    "# conclude\n",
    "Equals(Len(ExprTuple(a, b, c, d, e, f, g, h, i, k, m, n)), num(12)).conclude(assumptions=[InSet(num(10), Naturals), \n",
    "                                                                                          InSet(num(11), Naturals)])"
   ]
  },
  {
   "cell_type": "code",
   "execution_count": null,
   "metadata": {},
   "outputs": [],
   "source": [
    "# why automation is important?\n",
    "Len(ExprTuple(a, b, c, d, e, f, g, h, i, k, m, n)).evaluation(assumptions=[InSet(num(10), Naturals), InSet(num(11), Naturals)])"
   ]
  },
  {
   "cell_type": "code",
   "execution_count": null,
   "metadata": {},
   "outputs": [],
   "source": [
    "Len(List[:-1]).evaluation(assumptions=[InSet(num(10), Naturals), InSet(num(11), Naturals)])"
   ]
  },
  {
   "cell_type": "code",
   "execution_count": null,
   "metadata": {},
   "outputs": [],
   "source": []
  },
  {
   "cell_type": "code",
   "execution_count": null,
   "metadata": {},
   "outputs": [],
   "source": [
    "Len(List).evaluation(assumptions=[InSet(num(10), Naturals), InSet(num(11), Naturals), InSet(num(12), Naturals)])"
   ]
  },
  {
   "cell_type": "code",
   "execution_count": null,
   "metadata": {},
   "outputs": [],
   "source": [
    "Len(List)._computation(assumptions=[InSet(num(10), Naturals), InSet(num(11), Naturals), InSet(num(12), Naturals)])"
   ]
  },
  {
   "cell_type": "code",
   "execution_count": null,
   "metadata": {},
   "outputs": [],
   "source": [
    "List[:-1]"
   ]
  },
  {
   "cell_type": "code",
   "execution_count": null,
   "metadata": {},
   "outputs": [],
   "source": [
    "List[-1]"
   ]
  },
  {
   "cell_type": "code",
   "execution_count": null,
   "metadata": {},
   "outputs": [],
   "source": [
    "tuple_len_incr"
   ]
  },
  {
   "cell_type": "code",
   "execution_count": null,
   "metadata": {},
   "outputs": [],
   "source": [
    "tuple_len_incr.instantiate({i: num(11), a: ExprTuple(a, b, c, d, e, f, g, h, i, k, m), b: ExprTuple(n)},\n",
    "                                                 assumptions=[InSet(num(10), Naturals), InSet(num(11), Naturals)])"
   ]
  },
  {
   "cell_type": "code",
   "execution_count": null,
   "metadata": {},
   "outputs": [],
   "source": [
    "tuple_len_incr.instantiate({i: num(len(List) - 1), a: List[:-1], b: ExprTuple(List[-1])},\n",
    "                                                 assumptions=[InSet(num(10), Naturals),InSet(num(11), Naturals), \n",
    "                                                              InSet(num(12), Naturals)])"
   ]
  },
  {
   "cell_type": "code",
   "execution_count": null,
   "metadata": {},
   "outputs": [],
   "source": [
    "#Len(ExprTuple(ExprRange(i, ExprRange(j, Aij, one, one), one, one))).computation()"
   ]
  },
  {
   "cell_type": "code",
   "execution_count": null,
   "metadata": {},
   "outputs": [],
   "source": [
    "md_nine_add_one"
   ]
  },
  {
   "cell_type": "code",
   "execution_count": null,
   "metadata": {},
   "outputs": [],
   "source": [
    "one_spec = tuple_len_2.specialize({a:a})"
   ]
  },
  {
   "cell_type": "code",
   "execution_count": null,
   "metadata": {},
   "outputs": [],
   "source": [
    "tuple_len_incr"
   ]
  },
  {
   "cell_type": "code",
   "execution_count": null,
   "metadata": {},
   "outputs": [],
   "source": [
    "tuple_spec = tuple_len_incr.specialize({i: one_spec.rhs, a: one_spec.lhs.operands[0], b: c}).proof()"
   ]
  },
  {
   "cell_type": "code",
   "execution_count": null,
   "metadata": {},
   "outputs": [],
   "source": [
    "tuple_spec = tuple_len_incr.specialize({i: one_spec.rhs, a: one_spec.lhs.operands[0], b: c}).rhs._integerBinaryEval()"
   ]
  },
  {
   "cell_type": "code",
   "execution_count": null,
   "metadata": {},
   "outputs": [],
   "source": [
    "tuple_spec = tuple_len_incr.specialize({i: one_spec.rhs, ExprTuple(varRange(a, one, two)): one_spec.lhs.operands[0], b: c}).proof()"
   ]
  },
  {
   "cell_type": "code",
   "execution_count": null,
   "metadata": {},
   "outputs": [],
   "source": [
    "Digit = Set(zero, one, two, three, four, five, six, seven, eight, nine)"
   ]
  },
  {
   "cell_type": "code",
   "execution_count": null,
   "metadata": {
    "scrolled": true
   },
   "outputs": [],
   "source": [
    "md_nine_add_one.specialize({m: one, k: zero, a: ExprTuple(one), b: one}, \n",
    "                           assumptions=[InSet(one, Digit), InSet(two, Digit)]).proof()"
   ]
  },
  {
   "cell_type": "code",
   "execution_count": null,
   "metadata": {},
   "outputs": [],
   "source": [
    "tuple_len_incr.specialize({a:tuple_len_0.lhs.operands[0], b:a, i: tuple_len_0.rhs}, assumptions=[]).prove()"
   ]
  },
  {
   "cell_type": "code",
   "execution_count": null,
   "metadata": {},
   "outputs": [],
   "source": [
    "Digit = Set(zero, one, two, three, four, five, six, seven, eight, nine)"
   ]
  },
  {
   "cell_type": "code",
   "execution_count": null,
   "metadata": {},
   "outputs": [],
   "source": [
    "nines = num(9999999999)"
   ]
  },
  {
   "cell_type": "code",
   "execution_count": null,
   "metadata": {},
   "outputs": [],
   "source": [
    "md_only_nine_add_one.specialize({k: five}, assumptions=[])"
   ]
  },
  {
   "cell_type": "code",
   "execution_count": null,
   "metadata": {},
   "outputs": [],
   "source": [
    "number = num(9999993)"
   ]
  },
  {
   "cell_type": "code",
   "execution_count": null,
   "metadata": {},
   "outputs": [],
   "source": []
  },
  {
   "cell_type": "code",
   "execution_count": null,
   "metadata": {},
   "outputs": [],
   "source": [
    "Add(number, one)._integerBinaryEval(assumptions=[InSet(one, Digit), InSet(four, Digit), InSet(three, Digit), \n",
    "                                                 InSet(nine, Digit)])"
   ]
  },
  {
   "cell_type": "code",
   "execution_count": null,
   "metadata": {},
   "outputs": [],
   "source": [
    "number.numAddEval(one, assumptions=[InSet(nine, Digit), InSet(three, Digit), InSet(one, Digit), InSet(four, Digit)])"
   ]
  },
  {
   "cell_type": "code",
   "execution_count": null,
   "metadata": {},
   "outputs": [],
   "source": [
    "number.digits"
   ]
  },
  {
   "cell_type": "code",
   "execution_count": null,
   "metadata": {},
   "outputs": [],
   "source": [
    "md_nine_add_one"
   ]
  },
  {
   "cell_type": "code",
   "execution_count": null,
   "metadata": {},
   "outputs": [],
   "source": [
    "number = num(386749999)"
   ]
  },
  {
   "cell_type": "code",
   "execution_count": null,
   "metadata": {},
   "outputs": [],
   "source": [
    "Len(DecimalSequence(three, eight, six, seven, four, ExprRange(i, nine, one, four)).digits)"
   ]
  },
  {
   "cell_type": "code",
   "execution_count": 6,
   "metadata": {},
   "outputs": [
    {
     "ename": "NameError",
     "evalue": "name 'number' is not defined",
     "output_type": "error",
     "traceback": [
      "\u001b[1;31m---------------------------------------------------------------------------\u001b[0m",
      "\u001b[1;31mNameError\u001b[0m                                 Traceback (most recent call last)",
      "\u001b[1;32m<ipython-input-6-b0e86e418f03>\u001b[0m in \u001b[0;36m<module>\u001b[1;34m\u001b[0m\n\u001b[1;32m----> 1\u001b[1;33m md_nine_add_one.specialize({m: four, k: four, a: number.digits[:-5], \n\u001b[0m\u001b[0;32m      2\u001b[0m                             b: number.digits[-5]}, \n\u001b[0;32m      3\u001b[0m                            assumptions=[InSet(three, Digit), InSet(eight, Digit), InSet(six, Digit), \n\u001b[0;32m      4\u001b[0m                                         \u001b[0mInSet\u001b[0m\u001b[1;33m(\u001b[0m\u001b[0mseven\u001b[0m\u001b[1;33m,\u001b[0m \u001b[0mDigit\u001b[0m\u001b[1;33m)\u001b[0m\u001b[1;33m,\u001b[0m \u001b[0mInSet\u001b[0m\u001b[1;33m(\u001b[0m\u001b[0mfour\u001b[0m\u001b[1;33m,\u001b[0m \u001b[0mDigit\u001b[0m\u001b[1;33m)\u001b[0m\u001b[1;33m,\u001b[0m \u001b[0mInSet\u001b[0m\u001b[1;33m(\u001b[0m\u001b[0mone\u001b[0m\u001b[1;33m,\u001b[0m \u001b[0mDigit\u001b[0m\u001b[1;33m)\u001b[0m\u001b[1;33m,\u001b[0m \u001b[0mInSet\u001b[0m\u001b[1;33m(\u001b[0m\u001b[0mfive\u001b[0m\u001b[1;33m,\u001b[0m \u001b[0mDigit\u001b[0m\u001b[1;33m)\u001b[0m\u001b[1;33m,\u001b[0m\u001b[1;33m\u001b[0m\u001b[1;33m\u001b[0m\u001b[0m\n\u001b[0;32m      5\u001b[0m                                        InSet(zero, Digit)])\n",
      "\u001b[1;31mNameError\u001b[0m: name 'number' is not defined"
     ]
    }
   ],
   "source": [
    "md_nine_add_one.specialize({m: four, k: four, a: number.digits[:-5], \n",
    "                            b: number.digits[-5]}, \n",
    "                           assumptions=[InSet(three, Digit), InSet(eight, Digit), InSet(six, Digit), \n",
    "                                        InSet(seven, Digit), InSet(four, Digit), InSet(one, Digit), InSet(five, Digit),\n",
    "                                       InSet(zero, Digit)])"
   ]
  },
  {
   "cell_type": "code",
   "execution_count": null,
   "metadata": {},
   "outputs": [],
   "source": [
    "md_nine_add_one.specialize({m: four, k: four, ExprTuple(varRange(a, one, four)): number.digits[:-5], \n",
    "                            b: number.digits[-5]}, \n",
    "                           assumptions=[InSet(three, Digit), InSet(eight, Digit), \n",
    "                                        InSet(six, Digit), InSet(seven, Digit), InSet(four, Digit), InSet(one, Digit),\n",
    "                                       InSet(five, Digit), InSet(zero, Digit)])"
   ]
  },
  {
   "cell_type": "code",
   "execution_count": null,
   "metadata": {},
   "outputs": [],
   "source": [
    "Add(number, one).doReducedEvaluation(assumptions=[InSet(zero, NaturalsPos), InSet(three, Digit), InSet(eight, Digit), \n",
    "                                        InSet(six, Digit), InSet(seven, Digit), InSet(four, Digit), InSet(one, Digit),\n",
    "                                       InSet(five, Digit), InSet(zero, Digit)])"
   ]
  },
  {
   "cell_type": "code",
   "execution_count": null,
   "metadata": {},
   "outputs": [],
   "source": []
  },
  {
   "cell_type": "code",
   "execution_count": null,
   "metadata": {},
   "outputs": [],
   "source": [
    "# Add(number, one).evaluation(assumptions=[InSet(zero, NaturalsPos), InSet(three, Digit), InSet(eight, Digit), \n",
    "#                                         InSet(six, Digit), InSet(seven, Digit), InSet(four, Digit), InSet(one, Digit),\n",
    "#                                        InSet(five, Digit), InSet(zero, Digit)])"
   ]
  },
  {
   "cell_type": "code",
   "execution_count": null,
   "metadata": {},
   "outputs": [],
   "source": [
    "%end demonstrations"
   ]
  },
  {
   "cell_type": "code",
   "execution_count": null,
   "metadata": {},
   "outputs": [],
   "source": []
  }
 ],
 "metadata": {
  "kernelspec": {
   "display_name": "Python 3",
   "language": "python",
   "name": "python3"
  },
  "language_info": {
   "codemirror_mode": {
    "name": "ipython",
    "version": 3
   },
   "file_extension": ".py",
   "mimetype": "text/x-python",
   "name": "python",
   "nbconvert_exporter": "python",
   "pygments_lexer": "ipython3",
   "version": "3.7.3"
  }
 },
 "nbformat": 4,
 "nbformat_minor": 1
}
