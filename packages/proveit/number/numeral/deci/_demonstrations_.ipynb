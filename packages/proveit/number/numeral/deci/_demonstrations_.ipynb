{
 "cells": [
  {
   "cell_type": "markdown",
   "metadata": {},
   "source": [
    "Demonstrations for context <a class=\"ProveItLink\" href=\"_context_.ipynb\">proveit.number.numeral.decimal</a>\n",
    "========"
   ]
  },
  {
   "cell_type": "code",
   "execution_count": 1,
   "metadata": {},
   "outputs": [],
   "source": [
    "import proveit\n",
    "from proveit import ExprRange, ExprTuple, varRange, IndexedVar\n",
    "from proveit.logic import Forall, Equals, InSet, Set\n",
    "from proveit.number import zero, one, two, three, four, five, six, seven, eight, nine\n",
    "from proveit.number import (one, num, Add, Mult, Less, LesserSequence, \n",
    "                            Naturals, NaturalsPos, subtract)\n",
    "from proveit.number.numeral.deci import DecimalSequence\n",
    "from proveit.core_expr_types import Len\n",
    "from proveit._common_ import a, b, c, d, e, f, g, h, i, k, m, n\n",
    "from proveit.number.numeral.deci._theorems_ import md_only_nine_add_one, md_nine_add_one\n",
    "%begin demonstrations"
   ]
  },
  {
   "cell_type": "code",
   "execution_count": 2,
   "metadata": {},
   "outputs": [
    {
     "data": {
      "text/html": [
       "<strong id=\"Digit\">Digit:</strong> <a class=\"ProveItLink\" href=\"__pv_it/529af85ae13bbca61d15efade5ef44b2a68d178d0/expr.ipynb\"><img src=\"data:image/png;base64,iVBORw0KGgoAAAANSUhEUgAAAM0AAAAVBAMAAAAX/3cYAAAAMFBMVEX///8QEBBERERUVFTMzMyY\n",
       "mJjc3NxmZmYiIiJ2dnaqqqoyMjKIiIi6urru7u4AAAAvZeGPAAAAAXRSTlMAQObYZgAAAAlwSFlz\n",
       "AAAOxAAADsQBlSsOGwAAAxJJREFUSMe1lk1oE0EUx//52iRtstYvkEJrVRShKoUqraI2UkQ8GW8e\n",
       "hMaKVEFoxMOKoSiIomjb+AG16CEnoSCmKogXtdJDKV4ED54kC4IiCKlFsSZt17fzZrZht5Z46EJ2\n",
       "/tl5b37zPmYTAPonLOulPeLx3ZP/9w0CX9zPTpn/MO7cYd9r5uk2PJFSKwyobRjPEqzODG13fA7x\n",
       "4Cu/VHbR4Xss8pZl1Qn1bbJPToaN/XTfJOwuA7U5/RpPfM7MS5OTiM4JoafRlVOcKzxEBm/I3Wv9\n",
       "aGf1oM24wHZpBFjot3CAArivOMeAO3KhmOLQRlbykxKKo2pWcgJOgLVpbIRcHT1ChJLQ2SFQB3+6\n",
       "gkOB5U0XZ72JDpHMeANWKM7B525O3qkKhdDCmWxSHPKLTlVwfgOFnItD2ehIqMWSUmQ9nKcVBY+y\n",
       "fXzaDLNDsQmxnwsc3eYkXRy6BuUYv6rSllKc4xNyD+XDE++VfbccO2YvwolnTnLCo9D+AEfGPJzg\n",
       "rBzHd6rWheT4TU02STmJeuWwT8VlvYBTn1/AW1v3JpmT9XAiaacIMqlZxaFrK3Ms4JxqvSk5NdJt\n",
       "cYx6AzpLhCD3zn76SpyCNx7DUT5+GEpVcC7xiZsBumTiorJbQmnkG1l+nXxM9dGac9AzpuiDvLsP\n",
       "bHNOWwL+klBnoTjNxOEC3SSOLG2kSe7KhFZSq4RpvegrO9XUjHQCutx9jRFoYsvFecX50Nr6Y7dQ\n",
       "66jYTvpUPMUWOdJnl3O+CJ5Pyb4+CmSgOxyhglnETFv5Wuy8yW2shlBUzFVsVqD6SNdCml19tOwW\n",
       "YVbTiF4K+7Y6P5GcvkYeepsj1GnDaBeKjnc+qZeZMw2hehBrZDN/Vq+Xrvksu8ZfIzQmzGID2IyK\n",
       "c6o/HE8gYr8ZAxtm9rJ6Y1llVh8Neo9eFwFlrG1CaUabyZMYOi9dcYJKLFSn0ScdhofeV3L4Wvh9\n",
       "WETVmF5VpYObk8USKgqvqtKBObE6+U0fwxLqOzyqWgfqMXtGvTZCzvPFVNKrqnXQ14qhZ8/y/j8I\n",
       "3qX++Av06Pg+eBqaxgAAAABJRU5ErkJggg==\n",
       "\" style=\"display:inline;vertical-align:middle;\" /></a><br>"
      ],
      "text/plain": [
       "Digit: {0, 1, 2, 3, 4, 5, 6, 7, 8, 9}"
      ]
     },
     "execution_count": 2,
     "metadata": {},
     "output_type": "execute_result"
    }
   ],
   "source": [
    "Digit = Set(zero, one, two, three, four, five, six, seven, eight, nine)"
   ]
  },
  {
   "cell_type": "code",
   "execution_count": 3,
   "metadata": {},
   "outputs": [
    {
     "data": {
      "text/html": [
       "<strong id=\"nines\">nines:</strong> <a class=\"ProveItLink\" href=\"__pv_it/cb762d67b3fd8e8668e063b9edcd3585443269d50/expr.ipynb\"><img src=\"data:image/png;base64,iVBORw0KGgoAAAANSUhEUgAAAGYAAAAOBAMAAAAvVnRmAAAAMFBMVEX///+qqqqYmJi6urp2dnYy\n",
       "MjJERETc3NwQEBDMzMyIiIgiIiLu7u5UVFRmZmYAAAABFGnYAAAAAXRSTlMAQObYZgAAAAlwSFlz\n",
       "AAAOxAAADsQBlSsOGwAAAM5JREFUKM91zz8LAXEcx/GP4kTnGGXyEO4pqJsxmS8PAM+AMlgMNxoo\n",
       "g81wuww3KsVqUJRN+R91ZcAVv4/63m94Le++374/wDiuIYLjwWNU0SfoNSQwHyY6BJVUC9pWAiug\n",
       "RlBJlxE9S+AOlAgqSxtJX0J/AG7/h6NKMH6TCLabCiqfC68Sn1/U8woqehuDiwRmZmKTUVDBYpTz\n",
       "RfR9wXUUVN7PeIaAk/cHlZgdAir/fEuki6YjgawX9wkqySmqIhh7Wp6gAqtoykStHaPKC3ws2SLO\n",
       "8k4sAAAAAElFTkSuQmCC\n",
       "\" style=\"display:inline;vertical-align:middle;\" /></a><br>"
      ],
      "text/plain": [
       "nines: 9999999999"
      ]
     },
     "execution_count": 3,
     "metadata": {},
     "output_type": "execute_result"
    }
   ],
   "source": [
    "nines = num(9999999999)"
   ]
  },
  {
   "cell_type": "code",
   "execution_count": 4,
   "metadata": {},
   "outputs": [
    {
     "data": {
      "text/html": [
       "<span style=\"font-size:20px;\"> <a class=\"ProveItLink\" href=\"__pv_it/d4116a51dd3aa9fdcb63e6ce25d6923a06d7ae140/proof.ipynb\" style=\"text-decoration: none\">&#x22A2;&nbsp;</a><a class=\"ProveItLink\" href=\"__pv_it/29ccf5aab77f4f90935fa30fb45d828a6f23b0a10/expr.ipynb\"><img src=\"data:image/png;base64,iVBORw0KGgoAAAANSUhEUgAAAVUAAAAVBAMAAAAEDWDFAAAAMFBMVEX////MzMxUVFREREQiIiK6\n",
       "uroQEBCYmJhmZmYyMjLu7u52dnaqqqqIiIjc3NwAAACFAiZ1AAAAAXRSTlMAQObYZgAAAAlwSFlz\n",
       "AAAOxAAADsQBlSsOGwAAA31JREFUSMe1V1tIFFEY/ta9z67rEmGPWlErXUjqoZBKkSUiShYKJXrQ\n",
       "iu1BSDeKpAdpkiJLrKUeMroNaCb44FAPpaYuEb7IpkSUYZtbvUgvtqh5W6v/zOzqro66O+lhYM75\n",
       "55z/+85/O2cABLHSzYZVaqm+2JEd3P9z1/ctO0UdTg9gqt4SHZXfdwrJrK6umj99LQm+LJzIxJaO\n",
       "W2px2vtpa5wX3BGkRzfpHG1bepElbtTQpymLE3BZT4iDeT4PWfwQDSpxzD6ugGzqQUoJtHxEmLnc\n",
       "BofiRpuBPXKvKCoaJFJGfsE6EhvzYMlWh3MBeAEYgDQvLL8S1dEfN5oEuuSeP5YrSpW4ajNhnVKH\n",
       "sxPoFXAcaMlGaihBHZqJONeOEAm7Atd7SlzTeOjDqnBAo2IfamS7jkWEjsAV6X3sbM9jDAV4/YGX\n",
       "1Q6qQrW0z8qBNrwZ3eDTfAp4Y+zqUuD6XIlrC3EdV4XDMa4eZgEWr1EdORiWsSfejVPafIbBjQae\n",
       "ci/Vay3DDeAgUA/kzcVrrkeB6yXWMzmllhkVD4vQzKjCsU0DGX04TKzdWBOeNYBW/u6EoOOR5jNT\n",
       "kI2xlWHSURxkvUIBYmRyo0uzw6fA9a2SXRnXaVU4ElcRbuo2DfhDszpMf6TXHfrqgVk08+QBDZn9\n",
       "AfC0S9KhG/k6G7C1r1m8XnU6zzid+XNcMxRjQIR+RhUOR1yL+ySutDCSn1ovTDLtOsq86xUVdtKB\n",
       "EetERcU5NG3rlXRwrX9jatJtQcGuhYvkljWsDofitddH9VmqtZG6Z8hDily+aHsZzLvyfhmE1Y0M\n",
       "pkP8iWdzbsBdLBYD8+NVmw3jlDqcXcBlAfvoYymG7bOnhSE7qsNAKC4WRyGcokPewKP4W7AOItFy\n",
       "RHR0C7aQEtfzimdBCUxedTgXwfKNqkvqIewGN8keG4+Psk/JBxo3LEFzGRpEpLvQSS4cXBdshdgt\n",
       "YD9avOz5IGg9SlxrlbhSHjfa1eHofNxJKnDsYvDKJS2iZ6jqpqTi6O+9wPeaTpgdgU2UiFntQc12\n",
       "f/MjpGwNnqgccIGSlx5L+zXEc91Ynk+3rIL5VCVxc2C9Shyu4z15Xmdf+gAx84ldhPxxF9i8pK97\n",
       "ieAY+ZXhWhQ7MHlWhSuFxJJNl4nk24/klySEU7/0FT/3tIr7e07yvxIJ4dg8WOlmXPlfONb+AV1W\n",
       "lI0sNqm8AAAAAElFTkSuQmCC\n",
       "\" style=\"display:inline;vertical-align:middle;\" /></a></span>"
      ],
      "text/plain": [
       "|- (9 ..5 repeats.. 9 + 1) = 10 ..5 repeats.. 0"
      ]
     },
     "execution_count": 4,
     "metadata": {},
     "output_type": "execute_result"
    }
   ],
   "source": [
    "md_only_nine_add_one.specialize({k: five}, assumptions=[InSet(five, NaturalsPos)])"
   ]
  },
  {
   "cell_type": "code",
   "execution_count": 5,
   "metadata": {},
   "outputs": [
    {
     "data": {
      "text/html": [
       "<strong id=\"number\">number:</strong> <a class=\"ProveItLink\" href=\"__pv_it/861edef40f0a82960ea4775835d000a10f73fec10/expr.ipynb\"><img src=\"data:image/png;base64,iVBORw0KGgoAAAANSUhEUgAAAEgAAAAOBAMAAAB+wkcFAAAAMFBMVEX///+qqqqYmJi6urp2dnYy\n",
       "MjJERETc3NwQEBDMzMyIiIgiIiLu7u5UVFRmZmYAAAABFGnYAAAAAXRSTlMAQObYZgAAAAlwSFlz\n",
       "AAAOxAAADsQBlSsOGwAAAPNJREFUKM9V0DFLw1AUhuFXW2MTYu0oXZp/YH6BIHSunToXu6uDe4UO\n",
       "Lg4ZHRQc3EQKjuKQURCMYwXBQrdCo1EUAhm8N4PndHmGy3fv+c6FevqGgnQRa447A/DvOT8SeLpy\n",
       "TxX+lO0GGyc4U4EJHCi8jKTLZpfqp8AP7CkqI5tI+ni54P/C+OKfyJRsBeVL30J5PxSgckfZ6Uuw\n",
       "TQ4DAff21Ww34jITeAzd94Zgxxmer5u5wp/vjiPBhGqFgXqxBB+x4EY4mT1c6y9BT5EUNrRyxjAS\n",
       "2IrXc0XtxY7zHthXcBM7gWI1sP9EuxNqqu2Zhp10wB8G1ZYFRyXKagAAAABJRU5ErkJggg==\n",
       "\" style=\"display:inline;vertical-align:middle;\" /></a><br>"
      ],
      "text/plain": [
       "number: 9999993"
      ]
     },
     "execution_count": 5,
     "metadata": {},
     "output_type": "execute_result"
    }
   ],
   "source": [
    "number = num(9999993)"
   ]
  },
  {
   "cell_type": "code",
   "execution_count": 6,
   "metadata": {},
   "outputs": [
    {
     "data": {
      "text/html": [
       "<span style=\"font-size:20px;\"><a class=\"ProveItLink\" href=\"__pv_it/1ef2cb87cd9b071df88d17c70e2a2a1a8026f1a50/expr.ipynb\"><img src=\"data:image/png;base64,iVBORw0KGgoAAAANSUhEUgAAAlEAAAAZBAMAAADjxmbFAAAAMFBMVEX///9mZma6urrc3NwiIiKI\n",
       "iIjMzMyYmJgQEBB2dnbu7u5EREQyMjJUVFSqqqoAAABfjFPjAAAAAXRSTlMAQObYZgAAAAlwSFlz\n",
       "AAAOxAAADsQBlSsOGwAABR5JREFUWMPtWW1oW1UYfpM0ub0nTZarouA2iOAPEWUZTKaoNEpEqG7W\n",
       "H5Xth5iBX38GERz7aZiCUhjNMMXVKd7KhAobCcPPdm5RmcKmW2uLw3XtLog/nD9SqrY1K43n+56T\n",
       "m6ZVmLdgD/TeN+e+z3ne+5yv99wCQHwaWpUA/O9L/BS7n7NbukVbPn0/eV1jDP28gsN/w3+8i1zN\n",
       "fDOXo9dO2nB4IbmCUuHz9j+nzwJKNVRtX66ZvcOwFvgfIpdYhcjVf2ODy6ngKKCaNqYC1qXGhqq2\n",
       "hn2WE4asc1luDWyUvb6H3/u+y4jABgaYX7Ver7MeQ/2HkirdFy7ZfYdO+MU/QpUq48t5ONog80Tq\n",
       "LYC8qhR6BF5s7IuiikVjF3gED4I5y6xBMJaE8w5+z/zxNre2JWNparwzZt3kiGVxWqUrSi6UgFcc\n",
       "n/gnhVJGGsyyHsN0uSMFadg48tnISI7WxPIQTXgjVbHP8EhxZ7zBaxy0KGaKiHRUwr+EKIPidrey\n",
       "qv0Ax1Q6V6nwEpQqPvFLpaKjEK+x5j7KPE6N8X2hCqTVMbWhAuaM7kTacbFupH02XGH9fEcSRKQv\n",
       "fN8YqcSBI2uPiEg5natU8ACp84dfKrUhAUE6SINnxAwej2V360qVyhCe051IOxKrRDoBcCUrwpnn\n",
       "RsETaYeymZjcf8sw3KLSFbVlKecTv1SqhNlogw/IGMahHE16xtSs7kTakVglUlyeEMbtOT74UyLS\n",
       "iz038xa/6b9BuN3P77H6k45KpyoVfBR84r9M8yWsVGcBIn+SH1+Dq9Qe1KUpRSbuvO4EmxSsFqms\n",
       "em6Kd9Z2EJEOQyfbXkrfQrtYo38QyPcWUyrdLpcs8vSP4BM/VaqUY2x/kR8VRSnD+S2v5ujoAOxd\n",
       "0p1C8wpWi7RNrv1xPjUKMlKsPttxSjMQ6OUtzQj3N0/PqnSd6nZXdXzir2L1ImcIpABB0gmR1zKZ\n",
       "zGNcKbgU05PSwd2/zGlOkYmki9UjtVxYH600Ukqkgd/ZAE+DwXdzU7z+SxBfsBW60ElFqvaaT/zG\n",
       "wwAvk7GGV0UqPSorYwqOo3TjGbCmOw2edbFapIbo0ucBTtNXvQdEpNEKBOZYx1fA4EtMm2i0VxlG\n",
       "hM78Sk6oLESX/OI/1o03ErZWGXTHTKtKRbobcizoKOtOJIOVWDXSXyFEZzuq2zzSu6emFn5iAyMN\n",
       "sRkxCUSflviGhPCTWE6hq8pkt1RjSvnBT8YUXaeMPATo8OuRMXyC/56SSiEyg3uhM6s70cyPYm0Z\n",
       "KbEiBQjbBAMHyehHzPkge2jiYMvUCuJ1Is+gWxKMBF7FL5BS6A5L/vZRNvv84Kd60Sx1JwxRETrk\n",
       "orCTjD65dpLkONwFn4LuRPdQguWJMI6UWtssa4Il1PtJPsNT62vsYSgBu2wG+ByGeA5dLTASuMuG\n",
       "fSpdUfIbOZ5P+cB/WZ77PuxhGzCavJOfNRdwNZJKtZHPDgP87CidWDsUS8+ck307uql1oV5fZJig\n",
       "hU+o1IJN9Y+Z29bNt3KAaQnovQ4niYxZSZWu6PLfZp3wi19mnkpyd0QcFPRytbmTzAvjtte66kU3\n",
       "c2sJEAw+8zdRarlSaF4tIzXBaxW8VjO3lgDB4DP/6pVC3c3rZQb9AXgsF+NaTdxaA0gWvgb4V6+U\n",
       "sUz9kFhcc7Iq58UY3oerBaDX1wT/pPzm+a+/M292rut37Mi7zprgp988w/n1f76sWOh3dOU4tF6W\n",
       "KbGzbJecXpeidQlexJe/AeNzr7ahlzVBAAAAAElFTkSuQmCC\n",
       "\" style=\"display:inline;vertical-align:middle;\" /></a> <a class=\"ProveItLink\" href=\"__pv_it/cae6c8fcca49c0e15b6ec7df6aba0e91ba3c64230/proof.ipynb\" style=\"text-decoration: none\">&#x22A2;&nbsp;</a><a class=\"ProveItLink\" href=\"__pv_it/8bc55a8a26ab0d12b7198244ac61f43ec8d93d700/expr.ipynb\"><img src=\"data:image/png;base64,iVBORw0KGgoAAAANSUhEUgAAARMAAAAVBAMAAACXqRciAAAAMFBMVEX////MzMxUVFREREQiIiK6\n",
       "uroQEBCYmJhmZmYyMjLu7u52dnaqqqqIiIjc3NwAAACFAiZ1AAAAAXRSTlMAQObYZgAAAAlwSFlz\n",
       "AAAOxAAADsQBlSsOGwAAApRJREFUSMedVktoE1EUPdM0mWSSiaOIOzEqiAhiNlUR1FICQlHJorS6\n",
       "EIoQF13YARfqRoMfjEgx4EIQwUFFugu4KkQwi+JGgkHcKTSgOxc2qBRDQO+bSdT3cmeGzIWcIcnc\n",
       "c8679/0AtBEpspGy2kG/m41oVuKtCEm+YucEvAWSlX08oHLDQbZ+s6hmbnWAT0N8wTx9sa8rE0qa\n",
       "Nu15NKowTmFbmwM8b2kXsQy9J+cae58Qc8pRKEN44ImVcV0uzdO7XcJH5NrG2DxiZQ6wBziMtYbx\n",
       "q581N0hfIxt6WbESwgNXzOyhVpXZTGHlCpAANlWRXucAZOE1ZosYWGn+bwULipUQHrhi8ZJ4T2Jz\n",
       "rSQcnAVqeZgdDozvJGoBmQ3WykPFSiiPEKN4ZzNWUjbueaP5yYE7GpqyMzZr5SVTlUAeIUZ1OQHG\n",
       "Sjonhib6ucGB6PFxG9t3WayVq277C27kEM7j1VF7v5OzoldxkuZ1CVt6HOBFUTtA0z3TY62sqiso\n",
       "jEeIiQY1GCuZSZTosfyx2WHBWHrl9nhRKN8qFC4UClP/rOxQ95VQnpL7WqIrs7lWtPX+v8muD+C+\n",
       "s5mq2+CqMju8aQbxeFY0C7EeU5X4PB6731J5H8AD47fjY2VVmSvBPAJIrNblrVCDjhIu4JvFAd44\n",
       "2Q7O9xs0ZOWSUpIQHgoSS+S8Bg1N27xYkeY0DrGAD07MxmW/fWVJPeuCebzlr9v8vpJsYYYe9ZUi\n",
       "D+n6bepi5e9xOEjevThF5/JpdaYE81AIsTOVCZlt7OCP/cB4G+PWCGd8U7qwTI58R5DFJLYvzKEW\n",
       "FHPSarFHtiKLSWx36HMMEeNzhBxfsaxYZs+iWjkSIcdXLCbWQdaO5kSPcif2FbsG/AFu73t/YWt6\n",
       "EwAAAABJRU5ErkJggg==\n",
       "\" style=\"display:inline;vertical-align:middle;\" /></a></span>"
      ],
      "text/plain": [
       "{0 in NaturalsPos, 9 in {0, 1, 2, 3, 4, 5, 6, 7, 8, 9}, 3 in {0, 1, 2, 3, 4, 5, 6, 7, 8, 9}} |- (9999993 + 1) = 999999(3 + 1)"
      ]
     },
     "execution_count": 6,
     "metadata": {},
     "output_type": "execute_result"
    }
   ],
   "source": [
    "Add(number, one)._integerBinaryEval(assumptions=[InSet(three, Digit), InSet(nine, Digit), InSet(zero, NaturalsPos)])"
   ]
  },
  {
   "cell_type": "code",
   "execution_count": 7,
   "metadata": {},
   "outputs": [
    {
     "data": {
      "text/html": [
       "<a class=\"ProveItLink\" href=\"__pv_it/f2d44fd0ad31acf14f5ba8d3d1e70b384e4efa2c0/expr.ipynb\"><img src=\"data:image/png;base64,iVBORw0KGgoAAAANSUhEUgAAAIsAAAAVBAMAAACEWwD/AAAAMFBMVEX////MzMxUVFREREQiIiK6\n",
       "uroQEBCYmJhmZmYyMjLu7u52dnaqqqqIiIjc3NwAAACFAiZ1AAAAAXRSTlMAQObYZgAAAAlwSFlz\n",
       "AAAOxAAADsQBlSsOGwAAAcRJREFUOMullD9IG1Ecxz8x0ZiLxtihW6F06NDFbLpoHTpJhRuC0EEI\n",
       "BReHepudJChiQMSAg1AcDiziUiydhAjN5NAiZOjWoRm61yAlVAL1d+/+/ARztySQ8Hm/++R37/ve\n",
       "uwPaDPgxDcabg7ZZ9n6+w2jtRVCpbbrxpFpEhcaWbSZi1bEWeewn+9hKvSOOVFM6JduDD9LYYahC\n",
       "umqqz2GGOFJN6VfT+gfvYQQm6uSvTVVKX4kj1ZSWbO/6iMsbOCsx3jGTvZH+xTiKtHsEY13IOez6\n",
       "zf9Gd7bjSDUlKDuQf8qhH7UbrsNLJ45UU+LJM5lpts5rmfcKj3qmeGKnpppxpJqShBIYm2fF27af\n",
       "V35Ua+/CX4e+FGn3CNZcUtemjWz7bVjddxNItYAmJXGT4QpHZpgrhdcPSCDVfLL+u14bCTUr0Vb5\n",
       "U8S746Vb6GDRn1RTemtCZUt8kYdzgWm808gPN+1wVu9Pqimtm3Mz2qIsg8a5HIxX0j3f2IbMAv0p\n",
       "0pSGa/JokmmTKYY7F63oNxJINaXfcnSqAeejv3xOItWUduQ7F/CnsGi1kijSlArerh0HAyesZkki\n",
       "5yGlvXQFZ9CX6AbcAcgCvWCG0FH0AAAAAElFTkSuQmCC\n",
       "\" style=\"display:inline;vertical-align:middle;\" /></a>"
      ],
      "text/plain": [
       "(9, 9, 9, 9, 9, 9, 3)"
      ]
     },
     "execution_count": 7,
     "metadata": {},
     "output_type": "execute_result"
    }
   ],
   "source": [
    "number.digits"
   ]
  },
  {
   "cell_type": "code",
   "execution_count": 8,
   "metadata": {},
   "outputs": [
    {
     "data": {
      "text/html": [
       "<span style=\"font-size:20px;\"> <a class=\"ProveItLink\" href=\"_proofs_/md_nine_add_one.ipynb\" style=\"text-decoration: none\">&#x22A2;&nbsp;</a><a class=\"ProveItLink\" href=\"__pv_it/a3042b981301d3ff162638039d440d111805a24a0/expr.ipynb\"><img src=\"data:image/png;base64,iVBORw0KGgoAAAANSUhEUgAABS4AAAAZBAMAAADNv61TAAAAMFBMVEX///+IiIgiIiIQEBB2dnbu\n",
       "7u5UVFTMzMzc3NwyMjK6urpmZmaYmJiqqqpEREQAAACk/Np2AAAAAXRSTlMAQObYZgAAAAlwSFlz\n",
       "AAAOxAAADsQBlSsOGwAADX9JREFUeNrtW32QU9UVP9nk7UuyedmsLlud9WO7CtpRp/hBYbao2XZB\n",
       "UdFXWJ1pcUhoQZ0KGlgFqTo8q9KZYiG09WOGqik4tbYCWQv4sVCz2qLWLQRxLTB1NkxrtVYWVCi4\n",
       "y7o959z3kveSl83HYv0nd5aX3PvuPfd33/ndc885LwCMony/WYNKqZQTXRzNF4xqfLTyCMspbrpo\n",
       "Xz6EEz3YfUKg8YPpqfDy/19OJ5OQ/FIheAOjxH/ChabLrwUvU/Tx93J56acPJVHhWglFCeLl7WJ7\n",
       "S/9owmvXFtVSL77UdM3Lblqk5udWcfhnXwT5hbpaXzAabfqNWNoaNbFje+Alqj9WLi9rYvjhqXiZ\n",
       "pZTvEruKP2o8cYAZAXmSuT5iCVpo/VXosKpHuvVJpJBHHRX+Ndm7xyT0cZiRnnFNAVku61KT0rkA\n",
       "DzMvF5NjkCqXl3IYP1ZWuFZK2UpWrPgjphbtxw8A/mOuj+j9WXhbPR78esOzRtuZSB9ffFT4h4xK\n",
       "rlBfE7jSfBoqIGuFpfYKwLUAbzIvieOuZLm8ZHJPr3CtlDIe/zmL774RFfQZwHXm+ojBrIVxtVFw\n",
       "HRJfd5kpBBNGg997xKjkCvWHQTFuZ/rlKY2W2r8A+lRwqsRLH+5cT/lxT08l/Ck15KDH9Uzx/b+F\n",
       "p+TnqPeIXv92gf7LLLwMpcBx1I5CvxoNfleTPS9JaG0cvIaZdI0fWZY8aKlibWMSPAmm1UXNzZeU\n",
       "z0tnc/NZwQrZSglE6HFtogN30yl5AtgVrfdlKo/UbWN7GTPqsGsz0eOs06dp7s5GWHvJm1tQkyvq\n",
       "4uCra1OV28ctgIXdp5rs5YAdhabmnP/FwWH8njmNyXxCQ8jL44bDGFYaqX3thW8/Rgi9Z13TNR+n\n",
       "QtjQXT8F3vnkpqR8Wp1u2CTiZQJcYebl8wDvlc/Lmgj41QrZSihkDtiwrNP89secdxIcTD9T6TM1\n",
       "pKF/eVD3SKXjyp7JzLhtqxIdmiMKF8ek8wDjolNht1YThao4SCmoMvmXx+0o9AZzrJkLBQlFwhH4\n",
       "Qw9Lx/IJXRUE+WPDWifevZ9xD+45zgidLTAjDgRbmQQvApyHMTuAbn3dh9HaB8AnjuHl4A4XESvZ\n",
       "NaMAHLs8p8v2EhNHuQnZuzcXHOSbXyIhcrIGcpc6SuC5MtPA88YVVWRpLkCCTYYa+5TPzAQ8l8nK\n",
       "HIHawMyYfLtuoJRj62VOn1Q1SaTWITSg0BdDNtYmd2veY8RL74S0lqQWWDxkR6G3siPq4uAI/OgF\n",
       "fpxPKPHysN7Y99PkUn5EzaAyQg86nwMMG3m5UaNv61Qjg8C8DILSxLz0q65YVipqU8zxDdxMepAU\n",
       "sG3WeYm29qocfY+nJBZPdiOb6PaplENzn9YQSQ9zX/Usz9p6Gm3bA0uWUKX7T7QIBw2dWpASHZTv\n",
       "qudHyntfaruJHs193TeLbU2XB373F95KdcS3P/5tScQ6iYs3pPxE2cBtZBrAOSRdmg5MHa2Gt+Ok\n",
       "4S246CNQFdSxW8vLKpydOTajEApKndMN/7JmcsQ4I0FGS/hLysWE4ssS4EFpTzEv4ev70xtmVv0u\n",
       "8i+fa26+uLl5XIZCy7Ldi+LgCPwvgnQ4n9BQELyGvfzDa2nnAxihB435oIAN37uOeVn1+SnG1kCZ\n",
       "GwMgH2JeKgFz2CM39MeU8BTYnCYgP8fcZkNPuyxhD/UDBVtaYQNV65qE7aANVx10sBvsoPjQezmv\n",
       "1ROhpfiHh8kBdmgS6XEuvAOwdyRKLrztQ+7hCnhpwMKT+MGK/T4XThbPic+mT5gNj9JS4eDwcNw6\n",
       "iSKgzy0buI3MvWZeVutkVMU9Cy+dKQjFdOzWchlIA+b05cakYIcwV2uuSN9QBnt6XiNe1qb6tvb0\n",
       "RKQt7wpetj85aGGcjWlblzVpkXAE/jXp0CZXKMY9ihH3fG1TJJ3HZISUfP1cwJ61oI95KU0bjmfi\n",
       "nr4keMfr4XS3adYuFKR015Bp1Qm4yr7Z4KXHF8gazuqdCLW0ZRVW7wCswnY54mIerGf1CsBXg5cp\n",
       "xceeP8YSj0JIHZGXNc/TFXs4I8BuDp9JtTE3GYYlMI2doj66Pi08jzjEmGQ1WZPovJxYNnAbmRZe\n",
       "OkXnFfPEPT15zLlnsis7bc5TNhu+Q5lET0JQ0jDqodhGIRTNozyk6xztJUndHZOJly63Ku2MZJid\n",
       "ynuOm/zLIuEI/MfzkJ1G+1Pg029KA149F4DmkREKe0mwlRZYRrwMPgg36p2gH2CnapzjMP1hdNa2\n",
       "LmxwbI+Agw485d7fBoKurue6+F3QDnejXbPBS9deBCRtreeDg/uRet3HwJlMq/fPrF7c63RbGsPq\n",
       "/VEvtbTcq7J/6aIPx2FKWuHQ2lgOL40ZqPAJSj1WaXBpmpc+1S3Wdz5dvhNiXq4nuc6ne4UvOCVr\n",
       "EsFL+eMGtUzgNjItvFxWR37A4lv0e1z8tI/3IxGS8G9FsyPCEPijewyN1MbQ89ttrA0VhwMDOi8B\n",
       "3Sov+5cRJ3Ir9k3wHrvLE3cpAajWPWVlgr6EbArtyJq1SDgC/wA5nXmE+saT7yFCgEPSkMPgJSMk\n",
       "//Iow3biOfATbQ0EUYIRKbxKHgL4UoKX9+MA37qEM+wIU3CEa4lM2ZcxjHN+NlOzaU77WzgJzIgs\n",
       "YzXNFnCiIB8RulSa0kk4VN9qvkqs3ltuSNJevHMr398n1sb+cgu5Imuzno4xAz0osf/RE8Km8yGz\n",
       "yUVW7VTWWoB5+ZsHF9Ajv2KWoF0saxIvD3CMdcTLBp4jc62ZlyepjQAbXjDuCZRhkVDxBHznuXTs\n",
       "oah+kT7DL6vhlXjQ0Eh1wh9HOf4E3ce/2yAUYe+AzuuOGFwJv9Cks0FuAZc2CI6jr7uiLiSjX0NR\n",
       "+OcYCx/Zpho7s9MExcER+OenXz/ZCL0AZkbE5NUp6agIwPC8ZoSeSTAjyLDxuD/zHm0aBHer8IG+\n",
       "tqqkhGdXTUDw0o+74MGTcGPWBMVrJSVS40ilCXhJQrZrNngJ79MpSFHISlV/K7U0Sep1BjLqlcfy\n",
       "x2xq2iOJU4F8PvdxCGlpqsk3307H+YbrdybBM8b62HgGPW/BCpYfZ15eaOLlImautJ/m1UJ6lpk8\n",
       "kYTIaszOngRWq2wAfNFygefKNIDzivbj7tlAFlWfj+GTZGSvNOeK5V/RsRPHxAUVCDfU3zUnYmhE\n",
       "6tyGXGh7ie/j3wFwdBJq78HLkuC+tU2DR7obcHMs33QlLD59zLQA3HSl95q6q1gU/rVdHcui0G2X\n",
       "j8PlnJttFouDI/DPMtKXdkLb627WJ/cnoZEfx4ZPDwiEnvl1PwSGLc/Z1b4aqudqT3XXx/S1Sa0U\n",
       "YFZppt+5zUG9VyXhjf7+/qQSkYJRg4DuQfTmcpszvBR+WAPIa1XRT8a4mM6tzHFIlGX94WHkTrB6\n",
       "FeFMD5D/hIYqLEJoL7l60j5UubLa+thoBiNB9ER//wFYPI/P8aEML916GnYZru0hYF4myZenE5RT\n",
       "eNuzJ4G9AXbka8LlAs+VaQBPCQu6Rb5UqH1fyPBDziGlp92/t/J50bpGCpc1UFzZZUnN2eeEioFz\n",
       "TslCwRzFFSw/BhMvJ8IZsEqGO4RhhPUBI1HpS6112zRbeInm6KProUoV/djSW8IHd1jGyswIWhmQ\n",
       "264+jMurjbiPsS/IbpefT6aV4lX7nfSWriNrN9MMvm09L70dAVkEuVOz4h5YDndhx4loHgHuaHt5\n",
       "OkciSF06mDmg/Gf2JDKH2bWqM1ku8FyZHeZz/Aj6v+0HwLgnCv0uIfOzibxE0DVy4nj5rCV2TJTI\n",
       "ywycN0sWWhovt5p46T6EG2KHS7y78cXAoafa26E6sCi3OdteTpIHEsRL8epHpFuewcGkXikIK5fc\n",
       "rbbjfd8ErID7CN5xoSysbIdF1M2ZoKk8KszDto/gUY5q8Gt7+kIzeM+AFvrx4ntG3OMKeKMk8S0a\n",
       "7X5/yWasjIVXcS60pSpWgmhl29Eay03UbXL2JASUcO0oD7itTEvcM5Z8eAc5eHxPD3yI9x8UIoKh\n",
       "kcJlXDlvnfL9BqwIOH6tVKGmpHy48EuWlImX3jA8BsvHoHLJ+XlUf6y4+5Merfq1nOZsXv7+r/XM\n",
       "S+7H6nW1bsbB7mmDATzILh8exorc2qDRqbbjv8mOpNTaBlhxcDc+1rB3Zz11eKo+wurFrx2aPIku\n",
       "l4oZ3pei1WilVkZ0XkJbo4r3HniyE0c7h4cPYeWOultIou/gAqy01wepUs/d6ACyTkJAEVdnsDzg\n",
       "tjItvLyb8/4+JCbfM8Vts/UKYbd/+6drpGDZ8OkHZfAyz6vnYuBIqRKFmqQcvEwr1IdNRM7/o2jv\n",
       "77e8/UnaN2fxUuwFVe+nRC2DleIq1ra9ma+Zb01K0OnDB3Nt/4cZAihlzKVXGGgys8BSgSt5gKd5\n",
       "aUC0MuchsgoJ+DKLTxvF4Ie+CKHp8jpA4f/fo6gFfrdhetVz8jYwRZyZwb3FVSxtrN7etGzxTQo7\n",
       "YtXGS6t0Qqa3jLl6M7w0r7BE4LZtdryslFJLIV76oGhemspq1Tw4UVzF0kZZIMiYFDvjYiRkEmXM\n",
       "pctbmsxaYWnA7doYeIWXXzQvRy4/z/P/x+VRH1L3FvHbuXtGO4nc+wUC1yrkKrs4mif/D+4hHwe1\n",
       "w2TPAAAAAElFTkSuQmCC\n",
       "\" style=\"display:inline;vertical-align:middle;\" /></a></span>"
      ],
      "text/plain": [
       "|- forall_{m in NaturalsPos, k in NaturalsPos} [forall_{a_{1} in {0, 1, 2, 3, 4, 5, 6, 7, 8, 9}, ..a_{_a} in {0, 1, 2, 3, 4, 5, 6, 7, 8, 9}.., a_{m} in {0, 1, 2, 3, 4, 5, 6, 7, 8, 9}, b in {0, 1, 2, 3, 4, 5, 6, 7, 8, 9} | b < 9} ((a_{1} ..a_{_a}.. a_{m}b9 ..k repeats.. 9 + 1) = a_{1} ..a_{_a}.. a_{m}(b + 1)0 ..k repeats.. 0)]"
      ]
     },
     "execution_count": 8,
     "metadata": {},
     "output_type": "execute_result"
    }
   ],
   "source": [
    "md_nine_add_one"
   ]
  },
  {
   "cell_type": "code",
   "execution_count": 9,
   "metadata": {},
   "outputs": [
    {
     "data": {
      "text/html": [
       "<strong id=\"number\">number:</strong> <a class=\"ProveItLink\" href=\"__pv_it/3dabf03e1346646b3d2bf9375dd7b85cfda32d960/expr.ipynb\"><img src=\"data:image/png;base64,iVBORw0KGgoAAAANSUhEUgAAAFwAAAAPBAMAAACb27UyAAAAMFBMVEX///9UVFTMzMwiIiIQEBAy\n",
       "MjKIiIiqqqqYmJju7u66urpERERmZmZ2dnbc3NwAAAAvvFLTAAAAAXRSTlMAQObYZgAAAAlwSFlz\n",
       "AAAOxAAADsQBlSsOGwAAAcxJREFUKM99kr1PFGEQxp87dm+/PyAWWt2S2NhR+RGbozJHQVYrDQbP\n",
       "UCNbGDvDNhY2uomUkN0/gGJLQ1CWBhKzCYQEabhAQkkMeFHP8zTrvPNCYeOb7C+T2Wdnnpl9gX+P\n",
       "+xr/P18O14CV+U8UdruBVlXVNwrrBVBuJhewy2sXMAq8jVCgFuEkq00498vyFslHfLzr1KcljJu4\n",
       "fsxAo4801GMYIR7Dym3yQ4Ux5+MKsC5Ra8EqGDCn4IVOTnJtQDINqAkvr3x8B44kvBDOOUO4X4zN\n",
       "YWLHaksOs0ePo/rGEFi4IRCkORo9Br0ybwPNH9vwHnwW87o54Zkqq2cMUfgXg/o+HaNq1SzSh1Ai\n",
       "8pLRJ7HK3jdihrD9k8FmIrw8rbL0HHYbOBNeQPKlrN6MGMYUxvsMIVcGeoHFtjcBnbrtU+aNkBtb\n",
       "BwsBA8vzL3oS9QBWX0ng9kdC6NTtLnnpCDmdneQS9kAiHZA8pfiqxdWNrzT86GhzcpdyM7iEmkso\n",
       "PplRjoGPJnlvwfzN26T088TtSWhtnAUM0A+lvT+C3sEHLEXQ/rDcyzGXWLFE4w7eSwCrJV2x8ZJW\n",
       "7pS0UveeUNtPhh2nK3JdvnuHmcRfZsqnP9CL+t4AAAAASUVORK5CYII=\n",
       "\" style=\"display:inline;vertical-align:middle;\" /></a><br>"
      ],
      "text/plain": [
       "number: 386749999"
      ]
     },
     "execution_count": 9,
     "metadata": {},
     "output_type": "execute_result"
    }
   ],
   "source": [
    "number = num(386749999)"
   ]
  },
  {
   "cell_type": "code",
   "execution_count": 10,
   "metadata": {},
   "outputs": [
    {
     "data": {
      "text/html": [
       "<span style=\"font-size:20px;\"><a class=\"ProveItLink\" href=\"__pv_it/e85b0c82ca5288474441401c8cd390c4f9c8a46f0/expr.ipynb\"><img src=\"data:image/png;base64,iVBORw0KGgoAAAANSUhEUgAABQUAAAAVBAMAAAANwJUPAAAAMFBMVEX///8QEBBERERUVFTMzMyY\n",
       "mJjc3NxmZmYiIiJ2dnaqqqoyMjKIiIi6urru7u4AAAAvZeGPAAAAAXRSTlMAQObYZgAAAAlwSFlz\n",
       "AAAOxAAADsQBlSsOGwAABapJREFUaN7tmn9oHEUUx7/J3e3lfm2DVZFAY/xJoaY9iBItalOiSEHw\n",
       "/KOtYDFnQYMg5LTIiaEYFG380XqtYhpa6P0lCOJFCiKCNVpoLEKt+IdKkVssWEQhTaz2R0zOmXkz\n",
       "s5vL5bjsFYaYW8jk3dv39vP23ZvZmdkDYP+CSsci6qt2WB9UP9/grwC+CuLbjyvaLKKuegSB38pR\n",
       "Tyxm3Lu+6rVWEv8pZ6XePwURnWOGo8+fLrPgaoxOpNXV90mhf/BWKT0z0qmtH6J/TTOfKbvI6Ht0\n",
       "nVKpNEWq30/ulifD2ftZe4vb5w6PGOVra0P8AjNqNXn/CGbquX/l7YMvmsgQcA6hK2UxcHUsb79O\n",
       "n84OzsmyTuIIlYudQV9eWb9K/1reeUP2aGsv7qbrHM1m3yRdBgFysN/GZnZzBzUsDGw0ydfWhviH\n",
       "urMv5g3ymWeynvtX3j74BxXsu7w9UyGGx4AD8mNcxhBw0EQ9Nn4Fk2PqrMxBQLvHMrhZlZdFvSSU\n",
       "gk0OgVY0Z7w52Ar8YZKvrQ3x2Yd+k3zgm2Q9fOXtg69r8PvTkDX49fDwmI6BjZMFZ34MTXMI/COk\n",
       "xBqsUjE8eLQ8BuWHqNZGOlQMzC9y3puDA7oGzfC1tSE+Gx6SJvkIPl4PX3v74OsaZKZ/i7NnTnn7\n",
       "wUWgmC/rB0MIXNCglBRyC3LwiadLyalWYtoJk8NkB+IXvDkorscLJvna2hCf4XqM8iOxZB185e2H\n",
       "76nBn8RZ65h3LLZ5DKn5MfCH/nkpJF5TA3Va5WDHBOUSM1sm1CrD6pDCpn9fgu4Hs94cBEoTeZN8\n",
       "ZW2KD+yEUf4JqiKf/BO6BpfOF02Yj48PdwnfWNpdJozBugw8Mr4gBqUKHr9TbS1A5qDZsWZp1jmT\n",
       "QpsqMBVMpPQp9HyAjbtfuTk4MpM2yNfWxu4f98Ek30pRFfnjK29ffNEMiEqPinVxzE0KU4sYcgti\n",
       "2OM+9OVAnVM5YMdaiqEEPCenBAPq1Ic7S3JJtQa9jDegl3XR9zfMGuRra1P3D4vGFlP8CGQN+uIr\n",
       "b1983vTuJYMbucfmYXaIoZOrbRZDcUE/CLs7SU2kDKU9OXiZutIloE/W/yF5JpRBoZ3Ecyc/YvMB\n",
       "a51KwnZEp0zylbUpPiI0WTfF3yaryB9/m7cGl8rnjT3IvvwHgA08nl/dXWOuvuh2NTeG7Wop1YNm\n",
       "2lR8FioH61gMNCF4i8UgpxKvqIgdWHoXMsyuF/lCfWqXncIUX1mb4qOF5kyG+Na4rCJffO3tiy+a\n",
       "5iQbOR2qwRZ3LGZqvsPTV7Y2RzSHp2lxM6dy8ENX19Q9QrqBTTz1kCz7gf2X9Jxkf3fp/SOW9IKa\n",
       "fdjsSRRImeNra1N8TNKXaIif6OratDrnl6+9ffFFw9fFq+WzOD4+b4/yUWAQto5BSFuAU+C2TUk+\n",
       "FssQ2QUcMTHBNWRWZPMBkhKsN5EDo90upGg7Blh32S9cueJ6ds9pg3xhbZCPIj3gjPH51ergM9mG\n",
       "P/5+Bduq9gc/nxdDS96+Vm6G8xi4ZO3J7hoSL1VCKRRS6vXKNITUj3g7OTTn7DaSopdBJxPHEBoX\n",
       "UnwfblPLcqE442CHSb6wNshHQU79TfGxqqMePvMWZj74en8wkZW/WTjb6XhisA8f70ELfwsduOnS\n",
       "vUKKlUqlMQxzqx+znSAJg6U7hGRlux1ywMgu6Wrxb1eY9WZ3S2lU/ESB9qe4ItidNcoX1ib5T8pp\n",
       "lyl++Mvpcf987k2spfM9e9Tq+Hmt510NHe5veLQUdapJNTrIHHgUDf4y5lcwq4VfoQbnjcVq92mB\n",
       "FEE1qUYHmYMIGvz/Az/njy+aeGvFGLTa1vNUV/oTVaRaHdh8t0zR4C9ffiWzWviisdsqxqDVIa1y\n",
       "pVQ1qVYH+7oyRYO/jPmVzGrgyyD6N1YMYhH1VTuC7+arnm/wVwBfNP8BzQasuTUtAAcAAAAASUVO\n",
       "RK5CYII=\n",
       "\" style=\"display:inline;vertical-align:middle;\" /></a> <a class=\"ProveItLink\" href=\"__pv_it/afd70813ba4d884190c3ffbf92153822346432760/proof.ipynb\" style=\"text-decoration: none\">&#x22A2;&nbsp;</a><a class=\"ProveItLink\" href=\"__pv_it/485aa68f4aa758655785b3e943ddc8ae5698f2d60/expr.ipynb\"><img src=\"data:image/png;base64,iVBORw0KGgoAAAANSUhEUgAAAe0AAAAVBAMAAACZLKsIAAAAMFBMVEX////MzMxUVFREREQiIiK6\n",
       "uroQEBCYmJhmZmYyMjLu7u52dnaqqqqIiIjc3NwAAACFAiZ1AAAAAXRSTlMAQObYZgAAAAlwSFlz\n",
       "AAAOxAAADsQBlSsOGwAABaBJREFUWMO9WG1sU1UYfu66ft12bWMM+G91RkeCZItGY1RYncs0Skgj\n",
       "C2iM2QTHD9RZo3HDZKMhknWBxQqJLKjQyEQNP1b1h84JNMbwZ5ltliXOjEEVEojGAA7GGDP1PR+3\n",
       "t7e7dyvL4OSmOef0fd73ec55z3s/AGRx55pvGUyXiW9Fqjjg+7dPtz2zmNp88NNWJq8sD5Vh4O8f\n",
       "HgGOTeym0dBQwJvL5aapq0SB2K6EbnnPLfk1QHm7O2Gmxjw4vElJwdCU5/IbNTSub/w8uwUbR6px\n",
       "qFHsTCGKshTOh8tCnn2x2Hr6uzyI/ozSptvXL+zOYxgZodTUVYdJt7t4MSyC42sICob2ec8s/R5k\n",
       "XXdK3ZCfL7ZbkJlAuiKomMNA3BlhS9AHW62Lso2t31gQDwCP6QdiEd0XDSMdulmbOkuancU7YxEc\n",
       "3RAUxPGIaNZMdwfrvQt8l3cyFrwFZgLpIK+t8Mc9tRTay9x6gTKWOzuCuAGczNuv3Lew7nHDSIeO\n",
       "FOrG9uITbxocaJEUePNmCnU7mJ+HgLSWO3m7kpgJ5Eu8n47YpxKuiLtF/PUNSw53UJ0isgHNPrmw\n",
       "bmXGkL461Kj7wHykSXDY44KCmW43232K1qxV5LxdKcwkcg+P8gxQ899e+D86zuqLr5Z+zrjFfoe1\n",
       "kFmu2954ejDr6x1H0+sdu4gA66Jz4kf8fLUqpfw2GS/Y77CJ7m/n13iT4HAlJQUT3R6aVRl7Lful\n",
       "XdObw4dwcTJqb/w+Vm3JTCLZ+iuj95K33CEMHICDFrGMCPsibn6+6zTnFyD227/3UmRFtiKObWH1\n",
       "WYB1vW3oAWhwBAjp51tCjbp3cFUNvHG2ZsHFnnIKJrqdpMB3E6iUs3m7mV+vUzH9HY5W9EetmEnk\n",
       "epFqKQyfy4UHLsNFB/ASr4Hk7GhYqdGSKSl1l4dU5miODdNh3iXvzVnW25RAUprrUKPuX0zyfF5w\n",
       "ipKSFEx0e0OSfVIr19KuAYnyKPwpGnqvWTGTyFY+cMxSoU1v94fgvAYM0kwXc6b2/qSdb2dW6qZp\n",
       "5TrwCZVfDERFF1+c5N7Lp87kD7iAftDQsK2hoV7XXTlf9/zgNBeWFHhyNL4mk4PrVi6Te2LfLFej\n",
       "S9NNBCsjcCfdUcpmK2YSSbqVAGxzVCR9c+VxOMn8aVqVjHT2oSya/0DTHYV3pr39babbXyu6Xz2Y\n",
       "5t7VwVzBfUpCjfu9qbjomAQXuvMUivfb3iKqU1rkk25HjNLd7e0BoogpS2YC+Snt2iyFHqCZahtf\n",
       "cvVf8l1VVbOFZcZ+af1CVdX0aq47CWVORqH9Zl1vKyqZ9+Rf+PKKLmk/rPK84HybBecPFzoFszzH\n",
       "w8BOsa66HW1vZUpsDe23FTOBXEtrG6RUc9Cz2zo7HbEW2EXdp+lTCV+Bji2QulnPzs93gHcdUTT/\n",
       "ke1DkiRWS2MdatT9TnGSmwe3ZeSfZnWNVfz3wCqW7kTqZr0wO99XLJkJJN1X6GmJbqEH4czgCRxN\n",
       "wXtTFO5ajCVs9CR1g13UpkTFoXxZEcYJfJxVnxddfxRnV2YHkTyVwDp6/GIXh5ro7i3SbRHcE5QU\n",
       "THS7Mrzwqa/KUHk7ymelFZ6suw39SUtmHIkmsn8xRq8Gd8Xo7umJ0U3F9wbPxcNTGc/QbuGOLvTk\n",
       "1rKsqtuagm/VEJW5zlF2v6Ousmbk2GcoW519uXMizBaGLgEt1H3fW/VEeENxVTMNDntIUjDoLnv0\n",
       "6hqSzF5I1OOjARlKs9s4/STw554TcFdP3m/NjCNRHljqi1xfiXYjhvfMUImopwoHXsPr6/nFsO4S\n",
       "Xs+c0dute3PhwBUpEdVheKQzoLqXQzel/RJb/VJA50o1tFl+VvHVLoZd5LVUtCNLlL1xeikr9nip\n",
       "hqqlOltisY86dVtL+Bbli+DONWfpH8cuWP3RtRxE/geoL1hURBQt/AAAAABJRU5ErkJggg==\n",
       "\" style=\"display:inline;vertical-align:middle;\" /></a></span>"
      ],
      "text/plain": [
       "{3 in {0, 1, 2, 3, 4, 5, 6, 7, 8, 9}, 8 in {0, 1, 2, 3, 4, 5, 6, 7, 8, 9}, 6 in {0, 1, 2, 3, 4, 5, 6, 7, 8, 9}, 7 in {0, 1, 2, 3, 4, 5, 6, 7, 8, 9}, 4 in {0, 1, 2, 3, 4, 5, 6, 7, 8, 9}} |- (386749 ..4 repeats.. 9 + 1) = 3867(4 + 1)0 ..4 repeats.. 0"
      ]
     },
     "execution_count": 10,
     "metadata": {},
     "output_type": "execute_result"
    }
   ],
   "source": [
    "md_nine_add_one.specialize({m: four, k: four, a: number.digits[:-5], \n",
    "                            b: number.digits[-5]}, \n",
    "                           assumptions=[InSet(three, Digit), InSet(eight, Digit), InSet(six, Digit), InSet(seven, Digit), \n",
    "                                        InSet(four, Digit), InSet(zero, NaturalsPos)])"
   ]
  },
  {
   "cell_type": "code",
   "execution_count": 11,
   "metadata": {},
   "outputs": [
    {
     "data": {
      "text/html": [
       "<span style=\"font-size:20px;\"><a class=\"ProveItLink\" href=\"__pv_it/e85b0c82ca5288474441401c8cd390c4f9c8a46f0/expr.ipynb\"><img src=\"data:image/png;base64,iVBORw0KGgoAAAANSUhEUgAABQUAAAAVBAMAAAANwJUPAAAAMFBMVEX///8QEBBERERUVFTMzMyY\n",
       "mJjc3NxmZmYiIiJ2dnaqqqoyMjKIiIi6urru7u4AAAAvZeGPAAAAAXRSTlMAQObYZgAAAAlwSFlz\n",
       "AAAOxAAADsQBlSsOGwAABapJREFUaN7tmn9oHEUUx7/J3e3lfm2DVZFAY/xJoaY9iBItalOiSEHw\n",
       "/KOtYDFnQYMg5LTIiaEYFG380XqtYhpa6P0lCOJFCiKCNVpoLEKt+IdKkVssWEQhTaz2R0zOmXkz\n",
       "s5vL5bjsFYaYW8jk3dv39vP23ZvZmdkDYP+CSsci6qt2WB9UP9/grwC+CuLbjyvaLKKuegSB38pR\n",
       "Tyxm3Lu+6rVWEv8pZ6XePwURnWOGo8+fLrPgaoxOpNXV90mhf/BWKT0z0qmtH6J/TTOfKbvI6Ht0\n",
       "nVKpNEWq30/ulifD2ftZe4vb5w6PGOVra0P8AjNqNXn/CGbquX/l7YMvmsgQcA6hK2UxcHUsb79O\n",
       "n84OzsmyTuIIlYudQV9eWb9K/1reeUP2aGsv7qbrHM1m3yRdBgFysN/GZnZzBzUsDGw0ydfWhviH\n",
       "urMv5g3ymWeynvtX3j74BxXsu7w9UyGGx4AD8mNcxhBw0EQ9Nn4Fk2PqrMxBQLvHMrhZlZdFvSSU\n",
       "gk0OgVY0Z7w52Ar8YZKvrQ3x2Yd+k3zgm2Q9fOXtg69r8PvTkDX49fDwmI6BjZMFZ34MTXMI/COk\n",
       "xBqsUjE8eLQ8BuWHqNZGOlQMzC9y3puDA7oGzfC1tSE+Gx6SJvkIPl4PX3v74OsaZKZ/i7NnTnn7\n",
       "wUWgmC/rB0MIXNCglBRyC3LwiadLyalWYtoJk8NkB+IXvDkorscLJvna2hCf4XqM8iOxZB185e2H\n",
       "76nBn8RZ65h3LLZ5DKn5MfCH/nkpJF5TA3Va5WDHBOUSM1sm1CrD6pDCpn9fgu4Hs94cBEoTeZN8\n",
       "ZW2KD+yEUf4JqiKf/BO6BpfOF02Yj48PdwnfWNpdJozBugw8Mr4gBqUKHr9TbS1A5qDZsWZp1jmT\n",
       "QpsqMBVMpPQp9HyAjbtfuTk4MpM2yNfWxu4f98Ek30pRFfnjK29ffNEMiEqPinVxzE0KU4sYcgti\n",
       "2OM+9OVAnVM5YMdaiqEEPCenBAPq1Ic7S3JJtQa9jDegl3XR9zfMGuRra1P3D4vGFlP8CGQN+uIr\n",
       "b1983vTuJYMbucfmYXaIoZOrbRZDcUE/CLs7SU2kDKU9OXiZutIloE/W/yF5JpRBoZ3Ecyc/YvMB\n",
       "a51KwnZEp0zylbUpPiI0WTfF3yaryB9/m7cGl8rnjT3IvvwHgA08nl/dXWOuvuh2NTeG7Wop1YNm\n",
       "2lR8FioH61gMNCF4i8UgpxKvqIgdWHoXMsyuF/lCfWqXncIUX1mb4qOF5kyG+Na4rCJffO3tiy+a\n",
       "5iQbOR2qwRZ3LGZqvsPTV7Y2RzSHp2lxM6dy8ENX19Q9QrqBTTz1kCz7gf2X9Jxkf3fp/SOW9IKa\n",
       "fdjsSRRImeNra1N8TNKXaIif6OratDrnl6+9ffFFw9fFq+WzOD4+b4/yUWAQto5BSFuAU+C2TUk+\n",
       "FssQ2QUcMTHBNWRWZPMBkhKsN5EDo90upGg7Blh32S9cueJ6ds9pg3xhbZCPIj3gjPH51ergM9mG\n",
       "P/5+Bduq9gc/nxdDS96+Vm6G8xi4ZO3J7hoSL1VCKRRS6vXKNITUj3g7OTTn7DaSopdBJxPHEBoX\n",
       "UnwfblPLcqE442CHSb6wNshHQU79TfGxqqMePvMWZj74en8wkZW/WTjb6XhisA8f70ELfwsduOnS\n",
       "vUKKlUqlMQxzqx+znSAJg6U7hGRlux1ywMgu6Wrxb1eY9WZ3S2lU/ESB9qe4ItidNcoX1ib5T8pp\n",
       "lyl++Mvpcf987k2spfM9e9Tq+Hmt510NHe5veLQUdapJNTrIHHgUDf4y5lcwq4VfoQbnjcVq92mB\n",
       "FEE1qUYHmYMIGvz/Az/njy+aeGvFGLTa1vNUV/oTVaRaHdh8t0zR4C9ffiWzWviisdsqxqDVIa1y\n",
       "pVQ1qVYH+7oyRYO/jPmVzGrgyyD6N1YMYhH1VTuC7+arnm/wVwBfNP8BzQasuTUtAAcAAAAASUVO\n",
       "RK5CYII=\n",
       "\" style=\"display:inline;vertical-align:middle;\" /></a> <a class=\"ProveItLink\" href=\"__pv_it/afd70813ba4d884190c3ffbf92153822346432760/proof.ipynb\" style=\"text-decoration: none\">&#x22A2;&nbsp;</a><a class=\"ProveItLink\" href=\"__pv_it/485aa68f4aa758655785b3e943ddc8ae5698f2d60/expr.ipynb\"><img src=\"data:image/png;base64,iVBORw0KGgoAAAANSUhEUgAAAe0AAAAVBAMAAACZLKsIAAAAMFBMVEX////MzMxUVFREREQiIiK6\n",
       "uroQEBCYmJhmZmYyMjLu7u52dnaqqqqIiIjc3NwAAACFAiZ1AAAAAXRSTlMAQObYZgAAAAlwSFlz\n",
       "AAAOxAAADsQBlSsOGwAABaBJREFUWMO9WG1sU1UYfu66ft12bWMM+G91RkeCZItGY1RYncs0Skgj\n",
       "C2iM2QTHD9RZo3HDZKMhknWBxQqJLKjQyEQNP1b1h84JNMbwZ5ltliXOjEEVEojGAA7GGDP1PR+3\n",
       "t7e7dyvL4OSmOef0fd73ec55z3s/AGRx55pvGUyXiW9Fqjjg+7dPtz2zmNp88NNWJq8sD5Vh4O8f\n",
       "HgGOTeym0dBQwJvL5aapq0SB2K6EbnnPLfk1QHm7O2Gmxjw4vElJwdCU5/IbNTSub/w8uwUbR6px\n",
       "qFHsTCGKshTOh8tCnn2x2Hr6uzyI/ozSptvXL+zOYxgZodTUVYdJt7t4MSyC42sICob2ec8s/R5k\n",
       "XXdK3ZCfL7ZbkJlAuiKomMNA3BlhS9AHW62Lso2t31gQDwCP6QdiEd0XDSMdulmbOkuancU7YxEc\n",
       "3RAUxPGIaNZMdwfrvQt8l3cyFrwFZgLpIK+t8Mc9tRTay9x6gTKWOzuCuAGczNuv3Lew7nHDSIeO\n",
       "FOrG9uITbxocaJEUePNmCnU7mJ+HgLSWO3m7kpgJ5Eu8n47YpxKuiLtF/PUNSw53UJ0isgHNPrmw\n",
       "bmXGkL461Kj7wHykSXDY44KCmW43232K1qxV5LxdKcwkcg+P8gxQ899e+D86zuqLr5Z+zrjFfoe1\n",
       "kFmu2954ejDr6x1H0+sdu4gA66Jz4kf8fLUqpfw2GS/Y77CJ7m/n13iT4HAlJQUT3R6aVRl7Lful\n",
       "XdObw4dwcTJqb/w+Vm3JTCLZ+iuj95K33CEMHICDFrGMCPsibn6+6zTnFyD227/3UmRFtiKObWH1\n",
       "WYB1vW3oAWhwBAjp51tCjbp3cFUNvHG2ZsHFnnIKJrqdpMB3E6iUs3m7mV+vUzH9HY5W9EetmEnk\n",
       "epFqKQyfy4UHLsNFB/ASr4Hk7GhYqdGSKSl1l4dU5miODdNh3iXvzVnW25RAUprrUKPuX0zyfF5w\n",
       "ipKSFEx0e0OSfVIr19KuAYnyKPwpGnqvWTGTyFY+cMxSoU1v94fgvAYM0kwXc6b2/qSdb2dW6qZp\n",
       "5TrwCZVfDERFF1+c5N7Lp87kD7iAftDQsK2hoV7XXTlf9/zgNBeWFHhyNL4mk4PrVi6Te2LfLFej\n",
       "S9NNBCsjcCfdUcpmK2YSSbqVAGxzVCR9c+VxOMn8aVqVjHT2oSya/0DTHYV3pr39babbXyu6Xz2Y\n",
       "5t7VwVzBfUpCjfu9qbjomAQXuvMUivfb3iKqU1rkk25HjNLd7e0BoogpS2YC+Snt2iyFHqCZahtf\n",
       "cvVf8l1VVbOFZcZ+af1CVdX0aq47CWVORqH9Zl1vKyqZ9+Rf+PKKLmk/rPK84HybBecPFzoFszzH\n",
       "w8BOsa66HW1vZUpsDe23FTOBXEtrG6RUc9Cz2zo7HbEW2EXdp+lTCV+Bji2QulnPzs93gHcdUTT/\n",
       "ke1DkiRWS2MdatT9TnGSmwe3ZeSfZnWNVfz3wCqW7kTqZr0wO99XLJkJJN1X6GmJbqEH4czgCRxN\n",
       "wXtTFO5ajCVs9CR1g13UpkTFoXxZEcYJfJxVnxddfxRnV2YHkTyVwDp6/GIXh5ro7i3SbRHcE5QU\n",
       "THS7Mrzwqa/KUHk7ymelFZ6suw39SUtmHIkmsn8xRq8Gd8Xo7umJ0U3F9wbPxcNTGc/QbuGOLvTk\n",
       "1rKsqtuagm/VEJW5zlF2v6Ousmbk2GcoW519uXMizBaGLgEt1H3fW/VEeENxVTMNDntIUjDoLnv0\n",
       "6hqSzF5I1OOjARlKs9s4/STw554TcFdP3m/NjCNRHljqi1xfiXYjhvfMUImopwoHXsPr6/nFsO4S\n",
       "Xs+c0dute3PhwBUpEdVheKQzoLqXQzel/RJb/VJA50o1tFl+VvHVLoZd5LVUtCNLlL1xeikr9nip\n",
       "hqqlOltisY86dVtL+Bbli+DONWfpH8cuWP3RtRxE/geoL1hURBQt/AAAAABJRU5ErkJggg==\n",
       "\" style=\"display:inline;vertical-align:middle;\" /></a></span>"
      ],
      "text/plain": [
       "{3 in {0, 1, 2, 3, 4, 5, 6, 7, 8, 9}, 8 in {0, 1, 2, 3, 4, 5, 6, 7, 8, 9}, 6 in {0, 1, 2, 3, 4, 5, 6, 7, 8, 9}, 7 in {0, 1, 2, 3, 4, 5, 6, 7, 8, 9}, 4 in {0, 1, 2, 3, 4, 5, 6, 7, 8, 9}} |- (386749 ..4 repeats.. 9 + 1) = 3867(4 + 1)0 ..4 repeats.. 0"
      ]
     },
     "execution_count": 11,
     "metadata": {},
     "output_type": "execute_result"
    }
   ],
   "source": [
    "md_nine_add_one.specialize({m: four, k: four, ExprTuple(varRange(a, one, four)): number.digits[:-5], \n",
    "                            b: number.digits[-5]}, \n",
    "                           assumptions=[InSet(zero, NaturalsPos), InSet(three, Digit), InSet(eight, Digit), \n",
    "                                        InSet(six, Digit), InSet(seven, Digit), InSet(four, Digit)])"
   ]
  },
  {
   "cell_type": "code",
   "execution_count": 12,
   "metadata": {},
   "outputs": [],
   "source": [
    "#md_nine_add_one.specialize({m: four, k: zero, ExprTuple(varRange(a, one, m)): number.digits[:-1], \n",
    " #                           b: number.digits[-1]}, \n",
    "  #                         assumptions=[InSet(zero, NaturalsPos), InSet(three, Digit), InSet(eight, Digit), \n",
    "   #                                     InSet(six, Digit), InSet(seven, Digit), InSet(four, Digit)])"
   ]
  },
  {
   "cell_type": "code",
   "execution_count": 13,
   "metadata": {},
   "outputs": [],
   "source": [
    "%end demonstrations"
   ]
  }
 ],
 "metadata": {
  "kernelspec": {
   "display_name": "Python 3",
   "language": "python",
   "name": "python3"
  },
  "language_info": {
   "codemirror_mode": {
    "name": "ipython",
    "version": 3
   },
   "file_extension": ".py",
   "mimetype": "text/x-python",
   "name": "python",
   "nbconvert_exporter": "python",
   "pygments_lexer": "ipython3",
   "version": "3.7.3"
  }
 },
 "nbformat": 4,
 "nbformat_minor": 1
}
