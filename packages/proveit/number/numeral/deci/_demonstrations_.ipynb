{
 "cells": [
  {
   "cell_type": "markdown",
   "metadata": {},
   "source": [
    "Demonstrations for context <a class=\"ProveItLink\" href=\"_context_.ipynb\">proveit.number.numeral.decimal</a>\n",
    "========"
   ]
  },
  {
   "cell_type": "code",
   "execution_count": 1,
   "metadata": {},
   "outputs": [],
   "source": [
    "import proveit\n",
    "from proveit import ExprRange, ExprTuple, varRange, IndexedVar, defaults\n",
    "from proveit.logic import Forall, Equals, InSet, Set\n",
    "from proveit.number import zero, one, two, three, four, five, six, seven, eight, nine\n",
    "from proveit.number import (one, num, Add, Mult, Less, LesserSequence, \n",
    "                            Naturals, NaturalsPos, subtract)\n",
    "from proveit.number.numeral.deci import DecimalSequence\n",
    "from proveit.core_expr_types import Len\n",
    "from proveit._common_ import A, a, b, c, d, e, f, g, h, i, j, k, m, n\n",
    "from proveit.core_expr_types.expr_array._common_ import Aij\n",
    "from proveit.number.numeral.deci._theorems_ import md_only_nine_add_one, md_nine_add_one, add_1_1, tuple_len_2, count_to_1_range\n",
    "from proveit.core_expr_types.tuples._axioms_ import tuple_len_incr, tuple_len_0\n",
    "\n",
    "%begin demonstrations"
   ]
  },
  {
   "cell_type": "code",
   "execution_count": 2,
   "metadata": {},
   "outputs": [
    {
     "data": {
      "text/html": [
       "<a class=\"ProveItLink\" href=\"__pv_it/b92949ae48601efb39eb7c2f230b00dd38f019300/expr.ipynb\"><img src=\"data:image/png;base64,iVBORw0KGgoAAAANSUhEUgAAAQMAAAAyCAMAAABvXk5FAAAANlBMVEX///8WFhYNDQ2qqqoyMjIi\n",
       "IiIQEBDMzMxUVFRmZma6urqYmJh2dnbu7u6IiIhERETc3NwAAAByUcp+AAAAAXRSTlMAQObYZgAA\n",
       "AAlwSFlzAAAOxAAADsQBlSsOGwAABMRJREFUaN7lW9ea4yoM9i69CXj/lz0GF6rLjL1xcsJFvgkO\n",
       "Av2oyzMM83DWDt80GIV6Crw1L9gZCGF303QnHnb2lZSUK7VXL0Ffy/thRXtPJWzubDDNQZBeNLKC\n",
       "Kd/dWxKq60um8hUYBKU1y+GQPgdRZ2dDc/W3vrOa8IOz1BgMzL8CA4Mz1uOX3YHN5s7aZwrie/bQ\n",
       "HmGAmyt4CQaRfTETEoc6rMTmzswnu2g8f1cMoLV4IlweWWTxmAQ1Wzu7zASY1hw8iEHhn1B7ssC+\n",
       "mQVX4mN6WG3tbE5ioAC0Ho/FCBUOgKvR1IKNBLEYH4rF5miA2R4sS9ZDi30MnNDgoOBx2PgWA5m4\n",
       "xSwTGxYxJ6n5RQxQ8B8iok05BBVSIzEVRRBHB4tFNLEo2hhZLpmp410MZPi99abPNapNVWSfs/yO\n",
       "90kqfAcG0gdmLV3NJ4sTmE9+daRu8aRfslzSCHfXQwU+BNm6eUjBmyDj8MtH2JJ0g4OSJCJXdWF8\n",
       "KvWEQbwRryMGbJGAcUaMBGCiI8slZ+yBiNdFklD//UOK4UsrE1iXy3n7AUlJkvmrGBjBEcoxgAYD\n",
       "uziZGYO05AwGMVAxGZ+VHEhcrEGwuIZtDEqSkl7WBbmI/iYGlRxkS05gYKJgKb9lBRlOqhR0gdJF\n",
       "H4JA4J4uVCQv6wIVUeUdcx0M+LD8jW2yB9mSUxgENkZ7glwXA+xaz8jW41roYlCQVPYiBvEJeKbc\n",
       "zGeOAQlXxAPoLgoljw+zJWf8Ah7XqNF9rgah+ImsThbZT2mS7sYwJUkBv8WAWU+tGxgHBEZjiN+Z\n",
       "Gj/5oLEP8ZE1SEqYaBsR44OQZ61LtuIDZpfhYvYDmjkO/ZxaVNMapRQgJm7zYXOKFckpRf6dHLxl\n",
       "7hzZz7TluBzhyPA/w4BU+qEOTz5nVX0MeJY/6Q/BILKvc2dg3YEY2J2ds3wZvPwQDKL14XlWZQ7K\n",
       "oEuU2d0ZJ5dMyasqmfr+eqLbrSDMzmmjxIXWEqKgbvjSIeZQTlA2fO0QQT4MEcM3D0QhYGC+GQNJ\n",
       "4DZdcC9bdLMusNts4n6no7bki+RJeBiCVF0n+LJWLfUKUiuW01pYWXmkadCfQfcvFCG11y7HSFOn\n",
       "w3CBfYWBETGVL1jVmItxkDL9eWJkvaXLsfLa6YAaAwjs59lz+PUkIOJcvP8vh8f35Ux02MJAxvis\n",
       "xGASijldoQ8KQp4zXcUgdToaDKqQNFOI/er4izD4Ye5cdULyykjqdHQxkERtpnMblaD3xKDuhOQ6\n",
       "jtUOBgw4bwMQvlhhhT8Gg6YTkndOUqdjSxdqF+hWg4zIx2DQdEIKkyj3MRhoPa1x8kkfg0HTCTmJ\n",
       "AWOTH64EgdikY5+CQdsJKcoxm7pgfJyoMcic0ufoQtsJKcItqDFYkZheaoq6YPIYdd1Q2Y/RhaYT\n",
       "UnROeIVBeqjUEh/kC1AKTAW8MQZHnZAsPpg7HQO31JPwlsJA1txJjpnBlDOlucHRVTeIexcMLgYq\n",
       "baEUdfxDb849aA7uxaDNfHpOVO9lW0+M/J2s/rt5P0pCK4k2HS3vzblHX5Iu8mXrL2Zvdaejd7u9\n",
       "Ofto+QDydzSvN9vcr2RaPVpQNLTIVbR/tqj1CAS4qqOC/7Y2gySNW/7i/+H4D5MLPjYJPMk5AAAA\n",
       "AElFTkSuQmCC\n",
       "\" style=\"display:inline;vertical-align:middle;\" /></a>"
      ],
      "text/plain": [
       "{lambda:[_a -> \\# (_a)], ${_{-}a}$:(1, 3, 7)}"
      ]
     },
     "execution_count": 2,
     "metadata": {},
     "output_type": "execute_result"
    }
   ],
   "source": [
    "DecimalSequence(one, three, seven).innerExpr().operands"
   ]
  },
  {
   "cell_type": "code",
   "execution_count": 3,
   "metadata": {},
   "outputs": [
    {
     "data": {
      "text/html": [
       "<a class=\"ProveItLink\" href=\"__pv_it/b92949ae48601efb39eb7c2f230b00dd38f019300/expr.ipynb\"><img src=\"data:image/png;base64,iVBORw0KGgoAAAANSUhEUgAAAQMAAAAyCAMAAABvXk5FAAAANlBMVEX///8WFhYNDQ2qqqoyMjIi\n",
       "IiIQEBDMzMxUVFRmZma6urqYmJh2dnbu7u6IiIhERETc3NwAAAByUcp+AAAAAXRSTlMAQObYZgAA\n",
       "AAlwSFlzAAAOxAAADsQBlSsOGwAABMRJREFUaN7lW9ea4yoM9i69CXj/lz0GF6rLjL1xcsJFvgkO\n",
       "Av2oyzMM83DWDt80GIV6Crw1L9gZCGF303QnHnb2lZSUK7VXL0Ffy/thRXtPJWzubDDNQZBeNLKC\n",
       "Kd/dWxKq60um8hUYBKU1y+GQPgdRZ2dDc/W3vrOa8IOz1BgMzL8CA4Mz1uOX3YHN5s7aZwrie/bQ\n",
       "HmGAmyt4CQaRfTETEoc6rMTmzswnu2g8f1cMoLV4IlweWWTxmAQ1Wzu7zASY1hw8iEHhn1B7ssC+\n",
       "mQVX4mN6WG3tbE5ioAC0Ho/FCBUOgKvR1IKNBLEYH4rF5miA2R4sS9ZDi30MnNDgoOBx2PgWA5m4\n",
       "xSwTGxYxJ6n5RQxQ8B8iok05BBVSIzEVRRBHB4tFNLEo2hhZLpmp410MZPi99abPNapNVWSfs/yO\n",
       "90kqfAcG0gdmLV3NJ4sTmE9+daRu8aRfslzSCHfXQwU+BNm6eUjBmyDj8MtH2JJ0g4OSJCJXdWF8\n",
       "KvWEQbwRryMGbJGAcUaMBGCiI8slZ+yBiNdFklD//UOK4UsrE1iXy3n7AUlJkvmrGBjBEcoxgAYD\n",
       "uziZGYO05AwGMVAxGZ+VHEhcrEGwuIZtDEqSkl7WBbmI/iYGlRxkS05gYKJgKb9lBRlOqhR0gdJF\n",
       "H4JA4J4uVCQv6wIVUeUdcx0M+LD8jW2yB9mSUxgENkZ7glwXA+xaz8jW41roYlCQVPYiBvEJeKbc\n",
       "zGeOAQlXxAPoLgoljw+zJWf8Ah7XqNF9rgah+ImsThbZT2mS7sYwJUkBv8WAWU+tGxgHBEZjiN+Z\n",
       "Gj/5oLEP8ZE1SEqYaBsR44OQZ61LtuIDZpfhYvYDmjkO/ZxaVNMapRQgJm7zYXOKFckpRf6dHLxl\n",
       "7hzZz7TluBzhyPA/w4BU+qEOTz5nVX0MeJY/6Q/BILKvc2dg3YEY2J2ds3wZvPwQDKL14XlWZQ7K\n",
       "oEuU2d0ZJ5dMyasqmfr+eqLbrSDMzmmjxIXWEqKgbvjSIeZQTlA2fO0QQT4MEcM3D0QhYGC+GQNJ\n",
       "4DZdcC9bdLMusNts4n6no7bki+RJeBiCVF0n+LJWLfUKUiuW01pYWXmkadCfQfcvFCG11y7HSFOn\n",
       "w3CBfYWBETGVL1jVmItxkDL9eWJkvaXLsfLa6YAaAwjs59lz+PUkIOJcvP8vh8f35Ux02MJAxvis\n",
       "xGASijldoQ8KQp4zXcUgdToaDKqQNFOI/er4izD4Ye5cdULyykjqdHQxkERtpnMblaD3xKDuhOQ6\n",
       "jtUOBgw4bwMQvlhhhT8Gg6YTkndOUqdjSxdqF+hWg4zIx2DQdEIKkyj3MRhoPa1x8kkfg0HTCTmJ\n",
       "AWOTH64EgdikY5+CQdsJKcoxm7pgfJyoMcic0ufoQtsJKcItqDFYkZheaoq6YPIYdd1Q2Y/RhaYT\n",
       "UnROeIVBeqjUEh/kC1AKTAW8MQZHnZAsPpg7HQO31JPwlsJA1txJjpnBlDOlucHRVTeIexcMLgYq\n",
       "baEUdfxDb849aA7uxaDNfHpOVO9lW0+M/J2s/rt5P0pCK4k2HS3vzblHX5Iu8mXrL2Zvdaejd7u9\n",
       "Ofto+QDydzSvN9vcr2RaPVpQNLTIVbR/tqj1CAS4qqOC/7Y2gySNW/7i/+H4D5MLPjYJPMk5AAAA\n",
       "AElFTkSuQmCC\n",
       "\" style=\"display:inline;vertical-align:middle;\" /></a>"
      ],
      "text/plain": [
       "{lambda:[_a -> \\# (_a)], ${_{-}a}$:(1, 3, 7)}"
      ]
     },
     "execution_count": 3,
     "metadata": {},
     "output_type": "execute_result"
    }
   ],
   "source": [
    "DecimalSequence(one, three, seven).innerExpr().digits"
   ]
  },
  {
   "cell_type": "code",
   "execution_count": 4,
   "metadata": {},
   "outputs": [
    {
     "data": {
      "text/html": [
       "<strong id=\"digits\">digits:</strong> <a class=\"ProveItLink\" href=\"__pv_it/529af85ae13bbca61d15efade5ef44b2a68d178d0/expr.ipynb\"><img src=\"data:image/png;base64,iVBORw0KGgoAAAANSUhEUgAAAM0AAAAVBAMAAAAX/3cYAAAAMFBMVEX///8QEBBERERUVFTMzMyY\n",
       "mJjc3NxmZmYiIiJ2dnaqqqoyMjKIiIi6urru7u4AAAAvZeGPAAAAAXRSTlMAQObYZgAAAAlwSFlz\n",
       "AAAOxAAADsQBlSsOGwAAAxJJREFUSMe1lk1oE0EUx//52iRtstYvkEJrVRShKoUqraI2UkQ8GW8e\n",
       "hMaKVEFoxMOKoSiIomjb+AG16CEnoSCmKogXtdJDKV4ED54kC4IiCKlFsSZt17fzZrZht5Z46EJ2\n",
       "/tl5b37zPmYTAPonLOulPeLx3ZP/9w0CX9zPTpn/MO7cYd9r5uk2PJFSKwyobRjPEqzODG13fA7x\n",
       "4Cu/VHbR4Xss8pZl1Qn1bbJPToaN/XTfJOwuA7U5/RpPfM7MS5OTiM4JoafRlVOcKzxEBm/I3Wv9\n",
       "aGf1oM24wHZpBFjot3CAArivOMeAO3KhmOLQRlbykxKKo2pWcgJOgLVpbIRcHT1ChJLQ2SFQB3+6\n",
       "gkOB5U0XZ72JDpHMeANWKM7B525O3qkKhdDCmWxSHPKLTlVwfgOFnItD2ehIqMWSUmQ9nKcVBY+y\n",
       "fXzaDLNDsQmxnwsc3eYkXRy6BuUYv6rSllKc4xNyD+XDE++VfbccO2YvwolnTnLCo9D+AEfGPJzg\n",
       "rBzHd6rWheT4TU02STmJeuWwT8VlvYBTn1/AW1v3JpmT9XAiaacIMqlZxaFrK3Ms4JxqvSk5NdJt\n",
       "cYx6AzpLhCD3zn76SpyCNx7DUT5+GEpVcC7xiZsBumTiorJbQmnkG1l+nXxM9dGac9AzpuiDvLsP\n",
       "bHNOWwL+klBnoTjNxOEC3SSOLG2kSe7KhFZSq4RpvegrO9XUjHQCutx9jRFoYsvFecX50Nr6Y7dQ\n",
       "66jYTvpUPMUWOdJnl3O+CJ5Pyb4+CmSgOxyhglnETFv5Wuy8yW2shlBUzFVsVqD6SNdCml19tOwW\n",
       "YVbTiF4K+7Y6P5GcvkYeepsj1GnDaBeKjnc+qZeZMw2hehBrZDN/Vq+Xrvksu8ZfIzQmzGID2IyK\n",
       "c6o/HE8gYr8ZAxtm9rJ6Y1llVh8Neo9eFwFlrG1CaUabyZMYOi9dcYJKLFSn0ScdhofeV3L4Wvh9\n",
       "WETVmF5VpYObk8USKgqvqtKBObE6+U0fwxLqOzyqWgfqMXtGvTZCzvPFVNKrqnXQ14qhZ8/y/j8I\n",
       "3qX++Av06Pg+eBqaxgAAAABJRU5ErkJggg==\n",
       "\" style=\"display:inline;vertical-align:middle;\" /></a><br>"
      ],
      "text/plain": [
       "digits: {0, 1, 2, 3, 4, 5, 6, 7, 8, 9}"
      ]
     },
     "execution_count": 4,
     "metadata": {},
     "output_type": "execute_result"
    }
   ],
   "source": [
    "digits =Set(zero, one, two, three, four, five, six, seven, eight, nine)"
   ]
  },
  {
   "cell_type": "code",
   "execution_count": 5,
   "metadata": {},
   "outputs": [
    {
     "data": {
      "text/html": [
       "<span style=\"font-size:20px;\"><a class=\"ProveItLink\" href=\"__pv_it/3b03c261d8f9d64a8eb9ddfe2519f520a91527e80/expr.ipynb\"><img src=\"data:image/png;base64,iVBORw0KGgoAAAANSUhEUgAAAgUAAAAVBAMAAAAk+4CMAAAAMFBMVEX///8QEBBERERUVFTMzMyY\n",
       "mJjc3NxmZmYiIiJ2dnaqqqoyMjKIiIi6urru7u4AAAAvZeGPAAAAAXRSTlMAQObYZgAAAAlwSFlz\n",
       "AAAOxAAADsQBlSsOGwAABA1JREFUWMPFWFloU0EUPUma1yZNnsUFpGCpK4ILBRUXRCtFxC/jl36I\n",
       "LYIWQWjEj4BBLIpa97hALQrmSxDEVgQRQan6UUSQgh8iIn0oKIJQ96XVxpm5s2Vp6IfkDWRycufe\n",
       "OefdWV8AuK9Rqoxj/m/FuVa+vSL8SsTTmyV9xjGXLVXAu0Kq7eM5tywu21dl+ElEdIwHnyn0EOae\n",
       "gTbVu3JoT8+RaHf3Iu29gb4Co3eVX6TnIvWTy+U+k+nDkwOysTq1htWzDZshqjS/qCKdwNv0WGEO\n",
       "uLk26x6lX9rBacLVQZqrSbRmlfdh+qo5e9yTfqexgvq5nUqdIFsSIQpwT2Ede7hLmswQVZz/kiJD\n",
       "rGQOtgLn5U/lEPIQqCPLCIb7VKvUEDJPlcQsSjnTkxQonIBLAaE6BJN2DiyiSvOXyMGjrq4+rYHN\n",
       "k14vX0NgDKEfAsVnYJLSsP52oQYVh6i2RhqVBhYX+WTnwBBVnL84B6+e2ePwExjKFoxDJ0LfNFFC\n",
       "gkyRhlvWkNLCRPyLV00Bw42IfbNzoIkqz1+UA+eBPRddriGRr4Evuk8SxI+oqdimNGwbaCY0unFg\n",
       "UO3MjRKs/bMfehz+WjnQRD7wi6q6z1DUmt2ZmZ3fwKb+Ig3KVPV4qbTshNQQ9Jy/9FSjCdTL1pAS\n",
       "E8ndgV6P34GH+vxSRD7wi6ojYeXATCBmFhoyRRqOmUUnJ2pGaWBlPmnIAXvlkuxQTdd35OSWPgMt\n",
       "I6wha+cg4w8/r1pOWxTrulgRU4ebXaZhqGgcqpOaL0DGcJul4SAN5S+gVeb/smwJJ9HbQPD9kxts\n",
       "PToL5DNoIh/4eeWmPUPxxtxUufmnSbXRsEXdWpoRHBFoD5SGBUwDLciTTINcyoeUYg/OiH4S1l/k\n",
       "vrUnCiIf+EUVbDIUNWYucjM7YVsLziZEM9hFm+uY0vB8yZLPKwWazjYePSXlOLhfZeQw+yzT5zcb\n",
       "7V69+hWRD/yiss+FWH/eHWUzkIarNQi0EXgGLizQxOeilDgFArHFO5nchth6JBRno0kBjG2eQNEG\n",
       "dLDhOidCuUEQ+cN/ruh+cC9PQ03WnSovY9yBI+dYal+nO0rXrt6EQKx8gUDtiDVQQDDj1hOK/gY1\n",
       "xh8g3C9Q7AzmqmNJGASRP/z6fhCa+Ws13csXeZYG98rjZtTwtxDhwFEtewXpQxf3epFi7ywCIZ1b\n",
       "KJCTWu5RALr3yVCHn1HCrSV1QKKe7kFFLwyCyB9+c0fS5eV8665KxbzDahT1yqEJBsgcWAY/+Evk\n",
       "IG8uqtO3CEVQDk0wQOYgAl/5RRWrK6lBm129Txn0EWXQRANoG7QNfvCLyq0v/VeWMoe1yaBEOTTR\n",
       "AHdagcEPfimifVVJEeOY/1upupAt214RflH9A6vxV+RtR6PXAAAAAElFTkSuQmCC\n",
       "\" style=\"display:inline;vertical-align:middle;\" /></a> <a class=\"ProveItLink\" href=\"__pv_it/da2f6012eb80181b6bc34be41640ad36e1a855560/proof.ipynb\" style=\"text-decoration: none\">&#x22A2;&nbsp;</a><a class=\"ProveItLink\" href=\"__pv_it/1860d8b67f51b11a025f61e2dd8f10c86bfb2f010/expr.ipynb\"><img src=\"data:image/png;base64,iVBORw0KGgoAAAANSUhEUgAAAKIAAAAVBAMAAAA3EyjlAAAAMFBMVEX///8QEBCIiIiYmJjc3Nwi\n",
       "IiLMzMy6urpmZmZ2dnaqqqoyMjJUVFTu7u5EREQAAACQpWb0AAAAAXRSTlMAQObYZgAAAAlwSFlz\n",
       "AAAOxAAADsQBlSsOGwAAAhVJREFUOMuNlUFoU0EQhv+Yl7zXpFvqofYk5mYRwSgKBcEGxKtEcHso\n",
       "FXMp9NYoFAo9tFgiSC+hN6HIQ/DgqQFvglh6EE+SeySkxaOKl4IeCp3J5j0z6e7SgZ3NvN35dmdn\n",
       "dwL8lwqGJYBDKr5BIRdiYV5zzXtOLSx5URNQ+9S9p7bUTj4WmsDrmcrI1PyTwcpn1+Mho4BO3121\n",
       "oL5+TokdoBirx9Lr+/YJ6U/Uim1Yhsw4by6qA1GZft5IJ24Bd4A3xgjLycmwxyy17OaZQztJFPAS\n",
       "OdIZCOIk8BPYM3ahNOyW4Y+XfcQquqTXBTFsAX+BjdhCLPKOP3iIQQ+3qHsliFETiollC3GM87jr\n",
       "IWZL+JIsmhJpH8E/YKVkIWZp/7jLZkOzLEpiQz/V+li3sCCIudgQmxZioUrqnWePRYScuGlBzNSh\n",
       "iLhBqEjrR1Na76du+T+kVjzEt4hqNiJnZs+WmZDuAZ45iQ19keNu4aM8R0L9Buba3qit58iXZ5m7\n",
       "I0GcIMZNYBu2zPRI3XNHnd80j3RXEPmG5GJ1yUaM2HrhJo7F/YeKVWrfriwOfEOKTO1cr0ni+OHx\n",
       "Aa3E9WPkxZshM05vvtq/LzUxY37YKIji9YCfRdVdy3Lm8oy+/dlhI60USRExdcUhaxw3yw9ZNCsu\n",
       "h4AT89BTb69i3KSjKz6rnrNA8/Rf5/lXCGQg913zbvMROSPAKdFqnT0zkYO9AAAAAElFTkSuQmCC\n",
       "\" style=\"display:inline;vertical-align:middle;\" /></a></span>"
      ],
      "text/plain": [
       "{1 in {0, 1, 2, 3, 4, 5, 6, 7, 8, 9}, 0 in {0, 1, 2, 3, 4, 5, 6, 7, 8, 9}} |- \\# (1 ~ (0 + 1)) = 11"
      ]
     },
     "execution_count": 5,
     "metadata": {},
     "output_type": "execute_result"
    }
   ],
   "source": [
    "DecimalSequence(one, Add(zero, one)).auto_reduction(assumptions=[InSet(one, digits), InSet(zero, digits)])"
   ]
  },
  {
   "cell_type": "code",
   "execution_count": 6,
   "metadata": {},
   "outputs": [
    {
     "data": {
      "text/html": [
       "<strong id=\"List\">List:</strong> <a class=\"ProveItLink\" href=\"__pv_it/1d2d7d9f68042c9cd8af7f089c8a5fe5dd3407d50/expr.ipynb\"><img src=\"data:image/png;base64,iVBORw0KGgoAAAANSUhEUgAAAQoAAAAVBAMAAABMEr0AAAAAMFBMVEX////MzMxUVFREREQiIiK6\n",
       "uroQEBCYmJhmZmYyMjLu7u52dnaqqqqIiIjc3NwAAACFAiZ1AAAAAXRSTlMAQObYZgAAAAlwSFlz\n",
       "AAAOxAAADsQBlSsOGwAAA5ZJREFUSMfFVktoE1EUPUnafCafBkGXWhAKLqpFUVH8FHUhKhJURFGo\n",
       "UKTgj4C6EBWzqAut0dCFulAZFMQuyoyigkggiKgoatSFYqwEFRT8ZiGltQbve/e9TtJJbHd9MMmZ\n",
       "e89797x7350ZAEVM7oiJn2huklU05unnSYXBWNDuZnnOply24F2z2lA5M5qqv1it8Y64mUpDKFWD\n",
       "1eTO1o1pY20VMxvs/yxWY4RMBJPjBAQ6TJdpz0ZzfKlNE6x1IAX/eAGBm+5SDk9Eas3Fao1d2DpO\n",
       "QBrnXZZw+wSk4vZEz+c59Ihe6Xmf5/vegVPKky3EuY96XoyoA5h9ozYXaFmhS/5o4LOS+vCVavn+\n",
       "tPL14ulJTt2NH9lWT3Y+m7fN/vpShcOX7HdxykgHsLno4xQbQ6bFa33KBdskGPVhU9xj64rrVcKZ\n",
       "WKeaWfQ2s83erFQPRp51Mcu3FNZBPFD+eXmjrCq7D8tpZ4ewjuhdCHKKI8M6wFr4JRA+7qLYIKIJ\n",
       "FfxnXIHnJv7yzBK8LDuWO8G+SHm755JEU/1t+GnjGDd+ohOxElOuJtFNf/exk5p/WDcXBbQkCurj\n",
       "5/h8fwu3dCGfa9AJT1nPZNkwlC4Eu7RW00oIvTPZb/xG4Bc7zpi0XWCGUEFKrYTu8A7ZXv42tYDj\n",
       "a2p2H0XPCKI79DNCJyiidtBw/nqFakrQXuX/pdNGmyBJVHVcgNj+MVXvpJAHqIygymc7KubqTi/D\n",
       "x+JIqpYWUnKtRIdOxixR4sayIW+8GYojoxh/OCv3sZToOSyKFAWlKUHnwGA5SAjg+ERhcuAuEbsS\n",
       "iNawkhKR1N0BU4axcrYyWbk8T9gt9uzNfJN3fptyYwuqMQJf5hmwn7oEoXxgdRgWHUJv0peSIJhC\n",
       "OC6A4wtkcK1oDMkDWBJNIZYpY44pEdW8xDx0xJLKZMVtiYhPekM231Hl7gSKknoRB1K0uTQ20Vqt\n",
       "1z+8QMMaQml6XAiAuwNv2TLqQ2GAjt8qkyur0IZCN6OFNCXPPN9rNi1BNG1K1Ngu3nCRdFHeUcSP\n",
       "R5h6uTC9laq2Hg26dnhcHzgoImIHmzUCVo+iSp5jilQ9xmtQKVXt4lWihl0fOChM171QTqEppqfE\n",
       "aAzPMYWrH/1uKuQLdZn+QsjXBRWon66VfRq1mH15RmN4jqm/SkUNKtWHriu661AXVCDxHXD0tEZb\n",
       "Dh9XaAwvCTdCbSqwWFQlOclffIEi/gGx1SmH3f317QAAAABJRU5ErkJggg==\n",
       "\" style=\"display:inline;vertical-align:middle;\" /></a><br>"
      ],
      "text/plain": [
       "List: (a, b, c, d, e, f, g, h, i, k, m, n, a)"
      ]
     },
     "execution_count": 6,
     "metadata": {},
     "output_type": "execute_result"
    }
   ],
   "source": [
    "List = [a,b,c,d,e,f,g,h,i,k,m,n,a]"
   ]
  },
  {
   "cell_type": "code",
   "execution_count": 7,
   "metadata": {},
   "outputs": [
    {
     "data": {
      "text/html": [
       "<span style=\"font-size:20px;\"><a class=\"ProveItLink\" href=\"__pv_it/5c566e8624d96aef9b3b4d116c089c1c744ccc630/expr.ipynb\"><img src=\"data:image/png;base64,iVBORw0KGgoAAAANSUhEUgAAAE8AAAAVBAMAAAD1D64kAAAAMFBMVEX///8QEBBERERUVFTMzMyY\n",
       "mJjc3NxmZmYiIiJ2dnaqqqoyMjKIiIi6urru7u4AAAAvZeGPAAAAAXRSTlMAQObYZgAAAAlwSFlz\n",
       "AAAOxAAADsQBlSsOGwAAAW9JREFUKM9jYGDgu8uAH7Atg9Cn1+FQwNevtI+BU16WwVkPxOX6ByRY\n",
       "+oDEzOMJqCqZFlxmYHj/gIFBGcTjbGBgeFwNVM29gK8NVSFzG2cAAyOQMQOmkIEHqDCCgWESmsJF\n",
       "DNsYODAUAs1f/wCsgEejoxusMPVANhaF3xkY7i8AifDueQA1McGEZwKGQj6QwgCQSPYDmNUJTAy6\n",
       "cIXsGyAK2X4yMPgfAIlsg7sxgaXgxQsg4yCIlx+ApHACSGQDQiFDFJciSA3QSc69DFCrgQrvg0xk\n",
       "kejo6GiCKmR+YAiKG+0FDHzVDxCeWQ/yDJ8Ckol8BiCrOfeCgt8AqlCJgSEe7I0GJIUMPkxAxvoE\n",
       "5OAJZGCoBsufgUehA1DGCciYiBKOHAv4RMDy3AugCjlAjGrkcGRW/GHDwDfnsAMk1RjdA9Ms/UJA\n",
       "8jVKgKMC3kmQKIQDXAoxAFghjwBhhWBP8kkRVMcnCqbSrQioY5kM9D0A/thkgZVgh7EAAAAASUVO\n",
       "RK5CYII=\n",
       "\" style=\"display:inline;vertical-align:middle;\" /></a> <a class=\"ProveItLink\" href=\"__pv_it/7e41d1df37abbf30279bdffdeac1770b9e3f14220/proof.ipynb\" style=\"text-decoration: none\">&#x22A2;&nbsp;</a><a class=\"ProveItLink\" href=\"__pv_it/2e96d16e48ab56e084319a78e604c22de872742a0/expr.ipynb\"><img src=\"data:image/png;base64,iVBORw0KGgoAAAANSUhEUgAAASQAAAAVBAMAAAAdho5jAAAAMFBMVEX///9UVFREREQiIiIQEBCY\n",
       "mJhmZmYyMjLu7u6qqqrMzMyIiIi6urp2dnbc3NwAAABm9RoHAAAAAXRSTlMAQObYZgAAAAlwSFlz\n",
       "AAAOxAAADsQBlSsOGwAAA4tJREFUSMe9VktoE0EY/vPazCbZJIigEJAoFREPphZEhIIUCoooAaEX\n",
       "wQZKUSlqBClCUbYg9uBh14MiCO0evGrXIkVbUoL1IiKJVCr0AStVQUQMSGlaHzjPzaabuDl1D5Mv\n",
       "3/yPb/75Z3bBAvLEYesez4xLdHyxhZLe0FEp/l+SXHYwqC3jNotcy7k4aVmtJ5yek02DRfXGkiJH\n",
       "+EAljdTNhXMNpCd0F/Xu0WbO4dnZPNj1hpKGz1f5QCX1e2UHKKku6sRL1Vt3A6qncZWiVT5QSce8\n",
       "sgPMuZhYtRXdDaig6i0plvfIjp9BF6NkWtAN791UOOstSSLd/WXxG5+7On2Ro8WCwU7spal13q6L\n",
       "k3zZoe3tvE3kgZks131vgh1xNGmKYPDwAgVvd31/aj6ewEqUpLckIjt2Gg6yZGhN1VjgFV1KU/DK\n",
       "8vNdmjUi4nQmRNYP8CnNPS1fklUwxnsBrcqj3RSV95hotShjPpS3JfV1kKfdLSmAW/BWFvr4oqsi\n",
       "WycEKUDdILG9ja9CVCzvh7HZXt4AHxP3lduD/Pd15CY94sUuiP+BUAVzGe8qBfH0FVWcWxxNo5WQ\n",
       "RP9iEGC18f8qLIkQY6Jb0zBuCU+2BlBFCaVuLhyh30Q8kRyptCapC7CPuElKOs9lJ9VYhETS3cvj\n",
       "OjxjCOsWpRvjHRcYXOBmckVIppvq1Us6IFZTmjZLSoYfTXQNBr18znHN7+a/vZaAWPec3dWCKnGR\n",
       "vjyRXLJU58Y17SW/CWgd/PlRIFISRdw7iGmDIgGaDvtkC7E6gA6sAifJBhFJuIcFglMhldihdYWG\n",
       "wJSmm3QyWCaSd8R1CKW9q0RO5RCcyZXRGllO1p8DDbenlAPFICBshg4rlMKH5bZFrSC+QY4YEWz5\n",
       "qgxtA9hgdrHKZ/qLKc1gYfGWYsk3FBzXbOGqxJUcLjxJGdCB14MG8LUUIO/A5ennFKDUwscpRhWm\n",
       "cTxiRXqDoVhqPsPQXuxiMrsDWfa7H6IDKp2cpa/i+zM4ttVIkq/tZ4oN9AAdFbxsX/8PXKCGqJWU\n",
       "tO0DOaenbVfzlOveKiutfJz02C8Jmy+7QA0Rq7thnaHIThg3nJ62Xc1TqUvZ34okv8X/3bE/fczN\n",
       "wIGI1aERjnzH0ZDT07ar2TsmSROmW5GExA2UFXTIBRyIWJ29zFGsf77o9LTtavaOSbJ+1UPSFB0/\n",
       "b+GH7jl2voxm8/8AEqs7IK8XaXsAAAAASUVORK5CYII=\n",
       "\" style=\"display:inline;vertical-align:middle;\" /></a></span>"
      ],
      "text/plain": [
       "{10 in Naturals} |- |(a, b, c, d, e, f, g, h, i, k, m)| = 11"
      ]
     },
     "execution_count": 7,
     "metadata": {},
     "output_type": "execute_result"
    }
   ],
   "source": [
    "# Able to compute the length of 11\n",
    "Len(ExprTuple(a, b, c, d, e, f, g, h, i, k, m)).evaluation(assumptions=[InSet(num(10), Naturals)]).prove()"
   ]
  },
  {
   "cell_type": "code",
   "execution_count": null,
   "metadata": {},
   "outputs": [],
   "source": []
  },
  {
   "cell_type": "code",
   "execution_count": 8,
   "metadata": {
    "scrolled": true
   },
   "outputs": [
    {
     "data": {
      "text/html": [
       "<span style=\"font-size:20px;\"><a class=\"ProveItLink\" href=\"__pv_it/3b03c261d8f9d64a8eb9ddfe2519f520a91527e80/expr.ipynb\"><img src=\"data:image/png;base64,iVBORw0KGgoAAAANSUhEUgAAAgUAAAAVBAMAAAAk+4CMAAAAMFBMVEX///8QEBBERERUVFTMzMyY\n",
       "mJjc3NxmZmYiIiJ2dnaqqqoyMjKIiIi6urru7u4AAAAvZeGPAAAAAXRSTlMAQObYZgAAAAlwSFlz\n",
       "AAAOxAAADsQBlSsOGwAABA1JREFUWMPFWFloU0EUPUma1yZNnsUFpGCpK4ILBRUXRCtFxC/jl36I\n",
       "LYIWQWjEj4BBLIpa97hALQrmSxDEVgQRQan6UUSQgh8iIn0oKIJQ96XVxpm5s2Vp6IfkDWRycufe\n",
       "OefdWV8AuK9Rqoxj/m/FuVa+vSL8SsTTmyV9xjGXLVXAu0Kq7eM5tywu21dl+ElEdIwHnyn0EOae\n",
       "gTbVu3JoT8+RaHf3Iu29gb4Co3eVX6TnIvWTy+U+k+nDkwOysTq1htWzDZshqjS/qCKdwNv0WGEO\n",
       "uLk26x6lX9rBacLVQZqrSbRmlfdh+qo5e9yTfqexgvq5nUqdIFsSIQpwT2Ede7hLmswQVZz/kiJD\n",
       "rGQOtgLn5U/lEPIQqCPLCIb7VKvUEDJPlcQsSjnTkxQonIBLAaE6BJN2DiyiSvOXyMGjrq4+rYHN\n",
       "k14vX0NgDKEfAsVnYJLSsP52oQYVh6i2RhqVBhYX+WTnwBBVnL84B6+e2ePwExjKFoxDJ0LfNFFC\n",
       "gkyRhlvWkNLCRPyLV00Bw42IfbNzoIkqz1+UA+eBPRddriGRr4Evuk8SxI+oqdimNGwbaCY0unFg\n",
       "UO3MjRKs/bMfehz+WjnQRD7wi6q6z1DUmt2ZmZ3fwKb+Ig3KVPV4qbTshNQQ9Jy/9FSjCdTL1pAS\n",
       "E8ndgV6P34GH+vxSRD7wi6ojYeXATCBmFhoyRRqOmUUnJ2pGaWBlPmnIAXvlkuxQTdd35OSWPgMt\n",
       "I6wha+cg4w8/r1pOWxTrulgRU4ebXaZhqGgcqpOaL0DGcJul4SAN5S+gVeb/smwJJ9HbQPD9kxts\n",
       "PToL5DNoIh/4eeWmPUPxxtxUufmnSbXRsEXdWpoRHBFoD5SGBUwDLciTTINcyoeUYg/OiH4S1l/k\n",
       "vrUnCiIf+EUVbDIUNWYucjM7YVsLziZEM9hFm+uY0vB8yZLPKwWazjYePSXlOLhfZeQw+yzT5zcb\n",
       "7V69+hWRD/yiss+FWH/eHWUzkIarNQi0EXgGLizQxOeilDgFArHFO5nchth6JBRno0kBjG2eQNEG\n",
       "dLDhOidCuUEQ+cN/ruh+cC9PQ03WnSovY9yBI+dYal+nO0rXrt6EQKx8gUDtiDVQQDDj1hOK/gY1\n",
       "xh8g3C9Q7AzmqmNJGASRP/z6fhCa+Ws13csXeZYG98rjZtTwtxDhwFEtewXpQxf3epFi7ywCIZ1b\n",
       "KJCTWu5RALr3yVCHn1HCrSV1QKKe7kFFLwyCyB9+c0fS5eV8665KxbzDahT1yqEJBsgcWAY/+Evk\n",
       "IG8uqtO3CEVQDk0wQOYgAl/5RRWrK6lBm129Txn0EWXQRANoG7QNfvCLyq0v/VeWMoe1yaBEOTTR\n",
       "AHdagcEPfimifVVJEeOY/1upupAt214RflH9A6vxV+RtR6PXAAAAAElFTkSuQmCC\n",
       "\" style=\"display:inline;vertical-align:middle;\" /></a> <a class=\"ProveItLink\" href=\"__pv_it/1d36fa2a5ed5ed90e3f74ca5d58a7e7caa5196b80/proof.ipynb\" style=\"text-decoration: none\">&#x22A2;&nbsp;</a><a class=\"ProveItLink\" href=\"__pv_it/d66585d01e90f84d0887a58a6be6d4d41a531e090/expr.ipynb\"><img src=\"data:image/png;base64,iVBORw0KGgoAAAANSUhEUgAAAHUAAAAVBAMAAACK3rzVAAAAMFBMVEX////MzMxUVFREREQiIiK6\n",
       "uroQEBCYmJhmZmYyMjLu7u52dnaqqqqIiIjc3NwAAACFAiZ1AAAAAXRSTlMAQObYZgAAAAlwSFlz\n",
       "AAAOxAAADsQBlSsOGwAAAThJREFUOMtjYGB4wIAH8OGTZOA9gE+W9QI+2dNALLKAgYF7bx+6FEj4\n",
       "DqYOkDCY4JrAwKUxH8iYw7AE1fUQYc4FaDrBwhA5jgIg//4CBnYHBm4DqDsLoMqAwgzsDRj2goTB\n",
       "BBuUx6zAwPMLIsdzAVlRFm69kVAefwMD6x9seqfj1tsN5a0H6v2OTe8m3HqnQ3nvNzAw/sWmtxLM\n",
       "bHEBASdUvT5Ien9j03sEt72pMDdvYGAF2cvh4uKW4uKiAFckT1gvMKx4sIZVGG69c2BxZMDA/gu3\n",
       "m7H61xbKY09g4JiATW8xbns3McADbZkANr29uPWGAGnlfKcLDKvvKjKg6gULM/ihawULgwkWAQxz\n",
       "eZDzHZ8D7iyIJa3D8wIIcBTgyb92eEsGhsf4JBfj12uFt0TC5ygGdjylGQA/8Y2BhkORKQAAAABJ\n",
       "RU5ErkJggg==\n",
       "\" style=\"display:inline;vertical-align:middle;\" /></a></span>"
      ],
      "text/plain": [
       "{1 in {0, 1, 2, 3, 4, 5, 6, 7, 8, 9}, 0 in {0, 1, 2, 3, 4, 5, 6, 7, 8, 9}} |- (10 + 1) = 11"
      ]
     },
     "execution_count": 8,
     "metadata": {},
     "output_type": "execute_result"
    }
   ],
   "source": [
    "Add(num(10), one).evaluation(assumptions=[InSet(zero, digits), InSet(one, digits)])"
   ]
  },
  {
   "cell_type": "code",
   "execution_count": 9,
   "metadata": {},
   "outputs": [
    {
     "data": {
      "text/html": [
       "<span style=\"font-size:20px;\"><a class=\"ProveItLink\" href=\"__pv_it/3b03c261d8f9d64a8eb9ddfe2519f520a91527e80/expr.ipynb\"><img src=\"data:image/png;base64,iVBORw0KGgoAAAANSUhEUgAAAgUAAAAVBAMAAAAk+4CMAAAAMFBMVEX///8QEBBERERUVFTMzMyY\n",
       "mJjc3NxmZmYiIiJ2dnaqqqoyMjKIiIi6urru7u4AAAAvZeGPAAAAAXRSTlMAQObYZgAAAAlwSFlz\n",
       "AAAOxAAADsQBlSsOGwAABA1JREFUWMPFWFloU0EUPUma1yZNnsUFpGCpK4ILBRUXRCtFxC/jl36I\n",
       "LYIWQWjEj4BBLIpa97hALQrmSxDEVgQRQan6UUSQgh8iIn0oKIJQ96XVxpm5s2Vp6IfkDWRycufe\n",
       "OefdWV8AuK9Rqoxj/m/FuVa+vSL8SsTTmyV9xjGXLVXAu0Kq7eM5tywu21dl+ElEdIwHnyn0EOae\n",
       "gTbVu3JoT8+RaHf3Iu29gb4Co3eVX6TnIvWTy+U+k+nDkwOysTq1htWzDZshqjS/qCKdwNv0WGEO\n",
       "uLk26x6lX9rBacLVQZqrSbRmlfdh+qo5e9yTfqexgvq5nUqdIFsSIQpwT2Ede7hLmswQVZz/kiJD\n",
       "rGQOtgLn5U/lEPIQqCPLCIb7VKvUEDJPlcQsSjnTkxQonIBLAaE6BJN2DiyiSvOXyMGjrq4+rYHN\n",
       "k14vX0NgDKEfAsVnYJLSsP52oQYVh6i2RhqVBhYX+WTnwBBVnL84B6+e2ePwExjKFoxDJ0LfNFFC\n",
       "gkyRhlvWkNLCRPyLV00Bw42IfbNzoIkqz1+UA+eBPRddriGRr4Evuk8SxI+oqdimNGwbaCY0unFg\n",
       "UO3MjRKs/bMfehz+WjnQRD7wi6q6z1DUmt2ZmZ3fwKb+Ig3KVPV4qbTshNQQ9Jy/9FSjCdTL1pAS\n",
       "E8ndgV6P34GH+vxSRD7wi6ojYeXATCBmFhoyRRqOmUUnJ2pGaWBlPmnIAXvlkuxQTdd35OSWPgMt\n",
       "I6wha+cg4w8/r1pOWxTrulgRU4ebXaZhqGgcqpOaL0DGcJul4SAN5S+gVeb/smwJJ9HbQPD9kxts\n",
       "PToL5DNoIh/4eeWmPUPxxtxUufmnSbXRsEXdWpoRHBFoD5SGBUwDLciTTINcyoeUYg/OiH4S1l/k\n",
       "vrUnCiIf+EUVbDIUNWYucjM7YVsLziZEM9hFm+uY0vB8yZLPKwWazjYePSXlOLhfZeQw+yzT5zcb\n",
       "7V69+hWRD/yiss+FWH/eHWUzkIarNQi0EXgGLizQxOeilDgFArHFO5nchth6JBRno0kBjG2eQNEG\n",
       "dLDhOidCuUEQ+cN/ruh+cC9PQ03WnSovY9yBI+dYal+nO0rXrt6EQKx8gUDtiDVQQDDj1hOK/gY1\n",
       "xh8g3C9Q7AzmqmNJGASRP/z6fhCa+Ws13csXeZYG98rjZtTwtxDhwFEtewXpQxf3epFi7ywCIZ1b\n",
       "KJCTWu5RALr3yVCHn1HCrSV1QKKe7kFFLwyCyB9+c0fS5eV8665KxbzDahT1yqEJBsgcWAY/+Evk\n",
       "IG8uqtO3CEVQDk0wQOYgAl/5RRWrK6lBm129Txn0EWXQRANoG7QNfvCLyq0v/VeWMoe1yaBEOTTR\n",
       "AHdagcEPfimifVVJEeOY/1upupAt214RflH9A6vxV+RtR6PXAAAAAElFTkSuQmCC\n",
       "\" style=\"display:inline;vertical-align:middle;\" /></a> <a class=\"ProveItLink\" href=\"__pv_it/1d36fa2a5ed5ed90e3f74ca5d58a7e7caa5196b80/proof.ipynb\" style=\"text-decoration: none\">&#x22A2;&nbsp;</a><a class=\"ProveItLink\" href=\"__pv_it/d66585d01e90f84d0887a58a6be6d4d41a531e090/expr.ipynb\"><img src=\"data:image/png;base64,iVBORw0KGgoAAAANSUhEUgAAAHUAAAAVBAMAAACK3rzVAAAAMFBMVEX////MzMxUVFREREQiIiK6\n",
       "uroQEBCYmJhmZmYyMjLu7u52dnaqqqqIiIjc3NwAAACFAiZ1AAAAAXRSTlMAQObYZgAAAAlwSFlz\n",
       "AAAOxAAADsQBlSsOGwAAAThJREFUOMtjYGB4wIAH8OGTZOA9gE+W9QI+2dNALLKAgYF7bx+6FEj4\n",
       "DqYOkDCY4JrAwKUxH8iYw7AE1fUQYc4FaDrBwhA5jgIg//4CBnYHBm4DqDsLoMqAwgzsDRj2goTB\n",
       "BBuUx6zAwPMLIsdzAVlRFm69kVAefwMD6x9seqfj1tsN5a0H6v2OTe8m3HqnQ3nvNzAw/sWmtxLM\n",
       "bHEBASdUvT5Ien9j03sEt72pMDdvYGAF2cvh4uKW4uKiAFckT1gvMKx4sIZVGG69c2BxZMDA/gu3\n",
       "m7H61xbKY09g4JiATW8xbns3McADbZkANr29uPWGAGnlfKcLDKvvKjKg6gULM/ihawULgwkWAQxz\n",
       "eZDzHZ8D7iyIJa3D8wIIcBTgyb92eEsGhsf4JBfj12uFt0TC5ygGdjylGQA/8Y2BhkORKQAAAABJ\n",
       "RU5ErkJggg==\n",
       "\" style=\"display:inline;vertical-align:middle;\" /></a></span>"
      ],
      "text/plain": [
       "{1 in {0, 1, 2, 3, 4, 5, 6, 7, 8, 9}, 0 in {0, 1, 2, 3, 4, 5, 6, 7, 8, 9}} |- (10 + 1) = 11"
      ]
     },
     "execution_count": 9,
     "metadata": {},
     "output_type": "execute_result"
    }
   ],
   "source": [
    "md_nine_add_one.instantiate({m:one, k:zero, a:ExprTuple(one), b: zero}, assumptions=[InSet(one, digits), InSet(zero, digits)])"
   ]
  },
  {
   "cell_type": "code",
   "execution_count": 10,
   "metadata": {},
   "outputs": [],
   "source": [
    "#md_nine_add_one.instantiate({m:one, k:zero, a:ExprTuple(one), b: zero}, assumptions=[InSet(one, digits), InSet(zero, digits)]).innerExpr().rhs.operands[-1].evaluate()"
   ]
  },
  {
   "cell_type": "code",
   "execution_count": 11,
   "metadata": {},
   "outputs": [
    {
     "data": {
      "text/html": [
       "<span style=\"font-size:20px;\"><a class=\"ProveItLink\" href=\"__pv_it/5c566e8624d96aef9b3b4d116c089c1c744ccc630/expr.ipynb\"><img src=\"data:image/png;base64,iVBORw0KGgoAAAANSUhEUgAAAE8AAAAVBAMAAAD1D64kAAAAMFBMVEX///8QEBBERERUVFTMzMyY\n",
       "mJjc3NxmZmYiIiJ2dnaqqqoyMjKIiIi6urru7u4AAAAvZeGPAAAAAXRSTlMAQObYZgAAAAlwSFlz\n",
       "AAAOxAAADsQBlSsOGwAAAW9JREFUKM9jYGDgu8uAH7Atg9Cn1+FQwNevtI+BU16WwVkPxOX6ByRY\n",
       "+oDEzOMJqCqZFlxmYHj/gIFBGcTjbGBgeFwNVM29gK8NVSFzG2cAAyOQMQOmkIEHqDCCgWESmsJF\n",
       "DNsYODAUAs1f/wCsgEejoxusMPVANhaF3xkY7i8AifDueQA1McGEZwKGQj6QwgCQSPYDmNUJTAy6\n",
       "cIXsGyAK2X4yMPgfAIlsg7sxgaXgxQsg4yCIlx+ApHACSGQDQiFDFJciSA3QSc69DFCrgQrvg0xk\n",
       "kejo6GiCKmR+YAiKG+0FDHzVDxCeWQ/yDJ8Ckol8BiCrOfeCgt8AqlCJgSEe7I0GJIUMPkxAxvoE\n",
       "5OAJZGCoBsufgUehA1DGCciYiBKOHAv4RMDy3AugCjlAjGrkcGRW/GHDwDfnsAMk1RjdA9Ms/UJA\n",
       "8jVKgKMC3kmQKIQDXAoxAFghjwBhhWBP8kkRVMcnCqbSrQioY5kM9D0A/thkgZVgh7EAAAAASUVO\n",
       "RK5CYII=\n",
       "\" style=\"display:inline;vertical-align:middle;\" /></a> <a class=\"ProveItLink\" href=\"__pv_it/7e41d1df37abbf30279bdffdeac1770b9e3f14220/proof.ipynb\" style=\"text-decoration: none\">&#x22A2;&nbsp;</a><a class=\"ProveItLink\" href=\"__pv_it/2e96d16e48ab56e084319a78e604c22de872742a0/expr.ipynb\"><img src=\"data:image/png;base64,iVBORw0KGgoAAAANSUhEUgAAASQAAAAVBAMAAAAdho5jAAAAMFBMVEX///9UVFREREQiIiIQEBCY\n",
       "mJhmZmYyMjLu7u6qqqrMzMyIiIi6urp2dnbc3NwAAABm9RoHAAAAAXRSTlMAQObYZgAAAAlwSFlz\n",
       "AAAOxAAADsQBlSsOGwAAA4tJREFUSMe9VktoE0EY/vPazCbZJIigEJAoFREPphZEhIIUCoooAaEX\n",
       "wQZKUSlqBClCUbYg9uBh14MiCO0evGrXIkVbUoL1IiKJVCr0AStVQUQMSGlaHzjPzaabuDl1D5Mv\n",
       "3/yPb/75Z3bBAvLEYesez4xLdHyxhZLe0FEp/l+SXHYwqC3jNotcy7k4aVmtJ5yek02DRfXGkiJH\n",
       "+EAljdTNhXMNpCd0F/Xu0WbO4dnZPNj1hpKGz1f5QCX1e2UHKKku6sRL1Vt3A6qncZWiVT5QSce8\n",
       "sgPMuZhYtRXdDaig6i0plvfIjp9BF6NkWtAN791UOOstSSLd/WXxG5+7On2Ro8WCwU7spal13q6L\n",
       "k3zZoe3tvE3kgZks131vgh1xNGmKYPDwAgVvd31/aj6ewEqUpLckIjt2Gg6yZGhN1VjgFV1KU/DK\n",
       "8vNdmjUi4nQmRNYP8CnNPS1fklUwxnsBrcqj3RSV95hotShjPpS3JfV1kKfdLSmAW/BWFvr4oqsi\n",
       "WycEKUDdILG9ja9CVCzvh7HZXt4AHxP3lduD/Pd15CY94sUuiP+BUAVzGe8qBfH0FVWcWxxNo5WQ\n",
       "RP9iEGC18f8qLIkQY6Jb0zBuCU+2BlBFCaVuLhyh30Q8kRyptCapC7CPuElKOs9lJ9VYhETS3cvj\n",
       "OjxjCOsWpRvjHRcYXOBmckVIppvq1Us6IFZTmjZLSoYfTXQNBr18znHN7+a/vZaAWPec3dWCKnGR\n",
       "vjyRXLJU58Y17SW/CWgd/PlRIFISRdw7iGmDIgGaDvtkC7E6gA6sAifJBhFJuIcFglMhldihdYWG\n",
       "wJSmm3QyWCaSd8R1CKW9q0RO5RCcyZXRGllO1p8DDbenlAPFICBshg4rlMKH5bZFrSC+QY4YEWz5\n",
       "qgxtA9hgdrHKZ/qLKc1gYfGWYsk3FBzXbOGqxJUcLjxJGdCB14MG8LUUIO/A5ennFKDUwscpRhWm\n",
       "cTxiRXqDoVhqPsPQXuxiMrsDWfa7H6IDKp2cpa/i+zM4ttVIkq/tZ4oN9AAdFbxsX/8PXKCGqJWU\n",
       "tO0DOaenbVfzlOveKiutfJz02C8Jmy+7QA0Rq7thnaHIThg3nJ62Xc1TqUvZ34okv8X/3bE/fczN\n",
       "wIGI1aERjnzH0ZDT07ar2TsmSROmW5GExA2UFXTIBRyIWJ29zFGsf77o9LTtavaOSbJ+1UPSFB0/\n",
       "b+GH7jl2voxm8/8AEqs7IK8XaXsAAAAASUVORK5CYII=\n",
       "\" style=\"display:inline;vertical-align:middle;\" /></a></span>"
      ],
      "text/plain": [
       "{10 in Naturals} |- |(a, b, c, d, e, f, g, h, i, k, m)| = 11"
      ]
     },
     "execution_count": 11,
     "metadata": {},
     "output_type": "execute_result"
    }
   ],
   "source": [
    "Len(ExprTuple(a, b, c, d, e, f, g, h, i, k, m)).evaluation(assumptions=[InSet(num(10), Naturals)])"
   ]
  },
  {
   "cell_type": "code",
   "execution_count": 12,
   "metadata": {},
   "outputs": [
    {
     "data": {
      "text/html": [
       "<span style=\"font-size:20px;\"><a class=\"ProveItLink\" href=\"__pv_it/dd194d213d00411f1bb6a1bc6961fec5f80b34410/expr.ipynb\"><img src=\"data:image/png;base64,iVBORw0KGgoAAAANSUhEUgAAAJUAAAAVBAMAAAC9PLGkAAAAMFBMVEX///8QEBBERERUVFTMzMyY\n",
       "mJjc3NxmZmYiIiJ2dnaqqqoyMjKIiIi6urru7u4AAAAvZeGPAAAAAXRSTlMAQObYZgAAAAlwSFlz\n",
       "AAAOxAAADsQBlSsOGwAAAcRJREFUOMullD9Iw0AUh382pTZtPEQURBC1LoIoKk7iUOwqWDdxMYs4\n",
       "ONS9S3GQgGhrXRQcgoOjdXJSqTg46OasDbgUFBxVBPH+pG3SuxrBG17y7j6+5F5eDgB5xL9H5ERc\n",
       "705bACSfuII+0P+Lo46kxlka+6YhvEvD4a3pJ0P2A/DmiIQjPCiRYZbpOeA5S4Vxm2z5QW1LT6NN\n",
       "3HOEBzVyUHPBoMwSUGwCj3GOqJswRAQl4nfRtyyJ/Rgj1jYHV8vrLVwS4ne9AxWbzXRcuCXSzGmj\n",
       "oHTJiM9FmCvNZtad2gbMEMaULhnhrvYzwUQ+gYUymzmvF8MMb1SrKpeMXLMsk/a4CmzmrAFiOTak\n",
       "cslIhpYnteOChLoq7L3CvZZlbbqg5kwqXAokMmqDZJ1G7Uus9mTQ81AyodqjAtEvWedOuEwCWOEl\n",
       "zXlAzIdUe5SRkuntiUUgy9fv6z9Ikq7MAY7kkhDs+forapNuvh63XTDKbrIgX5KrGfH0lzb0MQty\n",
       "dJMU1Zh6EhXOd9H4AliOi/CgRDy96h8dRfGD1EbMCURaupqH/ofTkLuMzkDu9Q8u/tlIXyCXDlaR\n",
       "Hn5Zm/n/eR/ep9/zBxZMq3T4rk7/AAAAAElFTkSuQmCC\n",
       "\" style=\"display:inline;vertical-align:middle;\" /></a> <a class=\"ProveItLink\" href=\"__pv_it/f5c3224b937bbeb8a3ba54acf3fb7e56b9f7e0470/proof.ipynb\" style=\"text-decoration: none\">&#x22A2;&nbsp;</a><a class=\"ProveItLink\" href=\"__pv_it/800637da8e36ad666141bee489a19818646d25120/expr.ipynb\"><img src=\"data:image/png;base64,iVBORw0KGgoAAAANSUhEUgAAAZAAAAAVBAMAAACam6UgAAAAMFBMVEX///9UVFREREQiIiIQEBCY\n",
       "mJhmZmYyMjLu7u6qqqrMzMyIiIi6urp2dnbc3NwAAABm9RoHAAAAAXRSTlMAQObYZgAAAAlwSFlz\n",
       "AAAOxAAADsQBlSsOGwAABHJJREFUWMO9l19oFEccx3/3Zy+zl93LIWhLA+VaWg30wQPBP4WKRAqW\n",
       "UrkqpNCHJlXTPoTgCVYUEddS9aEPtyAVC6W5tz6UNmtaDpOQcBDfSvGkoJIorFYFsdJ7iSYxKc7f\n",
       "ndm9HZvkIQN3+7vf7zez38/8Zmb3wAfScrB2TXPHVQrJid636XV0DUH+oN92PeJepRDL471pf7Oh\n",
       "hL7eHZOfPdrX4hu8FXGgt4qBXdMO1u7qQUJCltdGVZDzodCxuPwON+qxX/sg6mqTtO/pBzuuBzm/\n",
       "8gK3OQpIfyg0H5d/zYl60j90/T9t3GA9epD+lYMYfQrIrtCqm4vL/2sZaDGuuMHSjhZk1yr23B4J\n",
       "YpVDS6YYl35sGWgxLjtGWltJBxIWssz2lQTJkC32cOYxv09nja8Qe3yan3GDY3yJoJkan/WPd2/g\n",
       "I5kDkyVO+90IO0VRzeOD5U3e4c/Xn1z2fhnB+u28DiQsRHviDk56ys/rEoRMkbUXNrM7Vo6j/1iH\n",
       "HXCA5V71k3yJTFWz4mB5Lka6CfcLTP4zP5FnU2DxSlRK399nlI03PTRbN7HfKAuQzBba8gIkLETX\n",
       "pBraPpEgKVyBb0pwkAWGHK4x1YAPmcD3IcOKnpuFdj6VuQVRkDnoYDNkLkCCIT3i+TD0j/sTLVK2\n",
       "3g25JTCaOK2oq4gUcla/yIiaIiCsH1GGCxIkjQc97IgT80tAS9Q4LCYmM0egSEs+n7gt9DfF3i3A\n",
       "MFtQWH2aITkcDQ59Km6PFgkyAc02dSCBkOx4UQvC1Pz8G9APwHAYpBvwnfi2ttiG6AYptcLu25Fv\n",
       "PROGXfgdRAn/rQZlpW3bYFWCc1C67LQgTIipB+FqLohiXFX2iEuKYPApniXMZA6XRNdKA3r5g0I+\n",
       "eZOCqdeHN3hePTi3jvA6LFpiBSbKBPSa7yhLq2WPBEJeAsLVBCDK0kp6gOYhWf4RyDwukmXqUCKw\n",
       "qFFxYZPpIzbn4FIfW0TE6gU0Kyz4yHBIHpq3gVyNJppvZ8F0g4C+knPBKOgqIoVQkNY9jwI1EmSf\n",
       "BCHn4UnY39dAz/Cv9bARqPEFwDQ12jxjqw2VMj1wzvnURxcRtSp+Yo5Z6wAWWJ7VfECviQLCHhrE\n",
       "+Rj0lI3r4OlAAiEUhI1eVgz6xdRIkAHlgYh7nZn4tbMKW/AknCOPEWLYM+MONVDn9N0xSG3HqRPj\n",
       "HgvCEOlPLKvzRpFZbwPc8VjeOyV6TbpQu8KCU/RF8uIkLquvfSAGQmhFSLcUeQPZCtwgYzI1EmSn\n",
       "8oryrhjNdLQGwKVQ1ucySu4Rkxfkq0Hc/ta/a0khxZZukTEFSK6ogPQER5HewI80xWfmT3Ar+yoM\n",
       "V2Pz5MFgh8T060F6QiB2605vtIBkSgpI0ufRb0FrAPIUX6qrzK3EHnQyNk/mK0EyhQU9iBCSu/nU\n",
       "i3SLjPnk9AD9wD31/wgq8HAJtAYYoPiMms8tq/9GPTZP5itBItbRgwRCWrtFxxSti/ceo9cHa/hX\n",
       "9zP2P7Eaca9SiMFqOPYCXPGVZasJ560AAAAASUVORK5CYII=\n",
       "\" style=\"display:inline;vertical-align:middle;\" /></a></span>"
      ],
      "text/plain": [
       "{10 in Naturals, 11 in Naturals} |- |(a, b, c, d, e, f, g, h, i, k, m)| = |(a_{1}, ..a_{_a}.., a_{11})|"
      ]
     },
     "execution_count": 12,
     "metadata": {},
     "output_type": "execute_result"
    }
   ],
   "source": [
    "\n",
    "Equals(Len(ExprTuple(a, b , c, d, e, f, g, h, i, k, m)), \n",
    "       Len(varRange(a, one, num(11)))\n",
    "      ).prove(assumptions=[InSet(num(10), Naturals), InSet(num(11), Naturals)])"
   ]
  },
  {
   "cell_type": "code",
   "execution_count": 13,
   "metadata": {},
   "outputs": [],
   "source": [
    "\n",
    "#Equals(Len(ExprTuple(a, b , c, d, e, f, g, h, i, k, m)), num(11)).prove(assumptions=[InSet(num(10), Naturals)])"
   ]
  },
  {
   "cell_type": "code",
   "execution_count": null,
   "metadata": {},
   "outputs": [],
   "source": []
  },
  {
   "cell_type": "code",
   "execution_count": 14,
   "metadata": {},
   "outputs": [
    {
     "ename": "ProofFailure",
     "evalue": "Unable to prove |(a, b, c, d, e, f, g, h, i, k, m, n)| = 12 assuming {10 in Naturals, 11 in Naturals}:\nInfinite 'conclude' recursion blocked.",
     "output_type": "error",
     "traceback": [
      "\u001b[1;31m---------------------------------------------------------------------------\u001b[0m",
      "\u001b[1;31mProofFailure\u001b[0m                              Traceback (most recent call last)",
      "\u001b[1;32mc:\\users\\joaqu\\prove-it\\packages\\proveit\\_core_\\expression\\expr.py\u001b[0m in \u001b[0;36mprove\u001b[1;34m(self, assumptions, automation)\u001b[0m\n\u001b[0;32m    594\u001b[0m                     \u001b[1;31m# first attempt to prove via implication\u001b[0m\u001b[1;33m\u001b[0m\u001b[1;33m\u001b[0m\u001b[1;33m\u001b[0m\u001b[0m\n\u001b[1;32m--> 595\u001b[1;33m                     \u001b[0mconcludedTruth\u001b[0m \u001b[1;33m=\u001b[0m \u001b[0mself\u001b[0m\u001b[1;33m.\u001b[0m\u001b[0mconcludeViaImplication\u001b[0m\u001b[1;33m(\u001b[0m\u001b[0massumptions\u001b[0m\u001b[1;33m)\u001b[0m\u001b[1;33m\u001b[0m\u001b[1;33m\u001b[0m\u001b[0m\n\u001b[0m\u001b[0;32m    596\u001b[0m                 \u001b[1;32mexcept\u001b[0m \u001b[0mProofFailure\u001b[0m\u001b[1;33m:\u001b[0m\u001b[1;33m\u001b[0m\u001b[1;33m\u001b[0m\u001b[0m\n",
      "\u001b[1;32mc:\\users\\joaqu\\prove-it\\packages\\proveit\\_core_\\expression\\expr.py\u001b[0m in \u001b[0;36mconcludeViaImplication\u001b[1;34m(self, assumptions)\u001b[0m\n\u001b[0;32m    671\u001b[0m         \u001b[1;32mfrom\u001b[0m \u001b[0mproveit\u001b[0m\u001b[1;33m.\u001b[0m\u001b[0mlogic\u001b[0m \u001b[1;32mimport\u001b[0m \u001b[0mconcludeViaImplication\u001b[0m\u001b[1;33m\u001b[0m\u001b[1;33m\u001b[0m\u001b[0m\n\u001b[1;32m--> 672\u001b[1;33m         \u001b[1;32mreturn\u001b[0m \u001b[0mconcludeViaImplication\u001b[0m\u001b[1;33m(\u001b[0m\u001b[0mself\u001b[0m\u001b[1;33m,\u001b[0m \u001b[0massumptions\u001b[0m\u001b[1;33m)\u001b[0m\u001b[1;33m\u001b[0m\u001b[1;33m\u001b[0m\u001b[0m\n\u001b[0m\u001b[0;32m    673\u001b[0m \u001b[1;33m\u001b[0m\u001b[0m\n",
      "\u001b[1;32mc:\\users\\joaqu\\prove-it\\packages\\proveit\\logic\\boolean\\implication\\implies.py\u001b[0m in \u001b[0;36mconcludeViaImplication\u001b[1;34m(consequent, assumptions)\u001b[0m\n\u001b[0;32m    312\u001b[0m                         \u001b[0mqueue\u001b[0m\u001b[1;33m.\u001b[0m\u001b[0mappend\u001b[0m\u001b[1;33m(\u001b[0m\u001b[0mlocal_antecedent\u001b[0m\u001b[1;33m)\u001b[0m\u001b[1;33m\u001b[0m\u001b[1;33m\u001b[0m\u001b[0m\n\u001b[1;32m--> 313\u001b[1;33m     \u001b[1;32mraise\u001b[0m \u001b[0mProofFailure\u001b[0m\u001b[1;33m(\u001b[0m\u001b[0mconsequent\u001b[0m\u001b[1;33m,\u001b[0m \u001b[0massumptions\u001b[0m\u001b[1;33m,\u001b[0m \u001b[1;34m'Unable to conclude via implications'\u001b[0m\u001b[1;33m)\u001b[0m\u001b[1;33m\u001b[0m\u001b[1;33m\u001b[0m\u001b[0m\n\u001b[0m\u001b[0;32m    314\u001b[0m \u001b[1;33m\u001b[0m\u001b[0m\n",
      "\u001b[1;31mProofFailure\u001b[0m: Unable to prove |(a, b, c, d, e, f, g, h, i, k, m, n)| = 12 assuming {10 in Naturals, 11 in Naturals}:\nUnable to conclude via implications",
      "\nDuring handling of the above exception, another exception occurred:\n",
      "\u001b[1;31mEvaluationError\u001b[0m                           Traceback (most recent call last)",
      "\u001b[1;32mc:\\users\\joaqu\\prove-it\\packages\\proveit\\_core_\\expression\\expr.py\u001b[0m in \u001b[0;36mevaluation\u001b[1;34m(self, assumptions, automation, **kwargs)\u001b[0m\n\u001b[0;32m    858\u001b[0m                     \u001b[0mself\u001b[0m\u001b[1;33m.\u001b[0m\u001b[0minnerExpr\u001b[0m\u001b[1;33m(\u001b[0m\u001b[1;33m)\u001b[0m\u001b[1;33m,\u001b[0m \u001b[0mmustEvaluate\u001b[0m\u001b[1;33m=\u001b[0m\u001b[1;32mTrue\u001b[0m\u001b[1;33m,\u001b[0m\u001b[1;33m\u001b[0m\u001b[1;33m\u001b[0m\u001b[0m\n\u001b[1;32m--> 859\u001b[1;33m                     assumptions=assumptions, automation=automation)\n\u001b[0m\u001b[0;32m    860\u001b[0m             \u001b[0mmethod_called\u001b[0m \u001b[1;33m=\u001b[0m \u001b[0mdefaultSimplification\u001b[0m\u001b[1;33m\u001b[0m\u001b[1;33m\u001b[0m\u001b[0m\n",
      "\u001b[1;32mc:\\users\\joaqu\\prove-it\\packages\\proveit\\logic\\equality\\equals.py\u001b[0m in \u001b[0;36mdefaultSimplification\u001b[1;34m(innerExpr, inPlace, mustEvaluate, operandsOnly, assumptions, automation)\u001b[0m\n\u001b[0;32m    826\u001b[0m             raise EvaluationError('Unknown evaluation: ' + str(inner),\n\u001b[1;32m--> 827\u001b[1;33m                                   assumptions)\n\u001b[0m\u001b[0;32m    828\u001b[0m         \u001b[1;32melse\u001b[0m\u001b[1;33m:\u001b[0m\u001b[1;33m\u001b[0m\u001b[1;33m\u001b[0m\u001b[0m\n",
      "\u001b[1;31mEvaluationError\u001b[0m: Evaluation of Unknown evaluation: (a, b, c, d, e, f, g, h, i, k, m, n) under assumptions (10 in Naturals, 11 in Naturals) is not known",
      "\nDuring handling of the above exception, another exception occurred:\n",
      "\u001b[1;31mNotImplementedError\u001b[0m                       Traceback (most recent call last)",
      "\u001b[1;32mc:\\users\\joaqu\\prove-it\\packages\\proveit\\_core_\\expression\\expr.py\u001b[0m in \u001b[0;36mevaluation\u001b[1;34m(self, assumptions, automation, **kwargs)\u001b[0m\n\u001b[0;32m    865\u001b[0m             \u001b[1;32mtry\u001b[0m\u001b[1;33m:\u001b[0m\u001b[1;33m\u001b[0m\u001b[1;33m\u001b[0m\u001b[0m\n\u001b[1;32m--> 866\u001b[1;33m                 \u001b[0mevaluation\u001b[0m \u001b[1;33m=\u001b[0m \u001b[0mself\u001b[0m\u001b[1;33m.\u001b[0m\u001b[0mdoReducedEvaluation\u001b[0m\u001b[1;33m(\u001b[0m\u001b[0massumptions\u001b[0m\u001b[1;33m,\u001b[0m \u001b[1;33m**\u001b[0m\u001b[0mkwargs\u001b[0m\u001b[1;33m)\u001b[0m\u001b[1;33m\u001b[0m\u001b[1;33m\u001b[0m\u001b[0m\n\u001b[0m\u001b[0;32m    867\u001b[0m                 \u001b[1;32mif\u001b[0m \u001b[0mevaluation\u001b[0m \u001b[1;32mis\u001b[0m \u001b[1;32mNone\u001b[0m\u001b[1;33m:\u001b[0m\u001b[1;33m\u001b[0m\u001b[1;33m\u001b[0m\u001b[0m\n",
      "\u001b[1;32mc:\\users\\joaqu\\prove-it\\packages\\proveit\\_core_\\expression\\expr.py\u001b[0m in \u001b[0;36mdoReducedEvaluation\u001b[1;34m(self, assumptions, **kwargs)\u001b[0m\n\u001b[0;32m    911\u001b[0m         '''\n\u001b[1;32m--> 912\u001b[1;33m         \u001b[1;32mraise\u001b[0m \u001b[0mNotImplementedError\u001b[0m\u001b[1;33m(\u001b[0m\u001b[1;34m\"'doReducedEvaluation' not implemented for %s class\"\u001b[0m\u001b[1;33m%\u001b[0m\u001b[0mstr\u001b[0m\u001b[1;33m(\u001b[0m\u001b[0mself\u001b[0m\u001b[1;33m.\u001b[0m\u001b[0m__class__\u001b[0m\u001b[1;33m)\u001b[0m\u001b[1;33m)\u001b[0m\u001b[1;33m\u001b[0m\u001b[1;33m\u001b[0m\u001b[0m\n\u001b[0m\u001b[0;32m    913\u001b[0m \u001b[1;33m\u001b[0m\u001b[0m\n",
      "\u001b[1;31mNotImplementedError\u001b[0m: 'doReducedEvaluation' not implemented for <class 'proveit._core_.expression.composite.expr_tuple.ExprTuple'> class",
      "\nDuring handling of the above exception, another exception occurred:\n",
      "\u001b[1;31mEvaluationError\u001b[0m                           Traceback (most recent call last)",
      "\u001b[1;32mc:\\users\\joaqu\\prove-it\\packages\\proveit\\_core_\\expression\\expr.py\u001b[0m in \u001b[0;36mevaluation\u001b[1;34m(self, assumptions, automation, **kwargs)\u001b[0m\n\u001b[0;32m    858\u001b[0m                     \u001b[0mself\u001b[0m\u001b[1;33m.\u001b[0m\u001b[0minnerExpr\u001b[0m\u001b[1;33m(\u001b[0m\u001b[1;33m)\u001b[0m\u001b[1;33m,\u001b[0m \u001b[0mmustEvaluate\u001b[0m\u001b[1;33m=\u001b[0m\u001b[1;32mTrue\u001b[0m\u001b[1;33m,\u001b[0m\u001b[1;33m\u001b[0m\u001b[1;33m\u001b[0m\u001b[0m\n\u001b[1;32m--> 859\u001b[1;33m                     assumptions=assumptions, automation=automation)\n\u001b[0m\u001b[0;32m    860\u001b[0m             \u001b[0mmethod_called\u001b[0m \u001b[1;33m=\u001b[0m \u001b[0mdefaultSimplification\u001b[0m\u001b[1;33m\u001b[0m\u001b[1;33m\u001b[0m\u001b[0m\n",
      "\u001b[1;32mc:\\users\\joaqu\\prove-it\\packages\\proveit\\logic\\equality\\equals.py\u001b[0m in \u001b[0;36mdefaultSimplification\u001b[1;34m(innerExpr, inPlace, mustEvaluate, operandsOnly, assumptions, automation)\u001b[0m\n\u001b[0;32m    831\u001b[0m     reducedInnerExpr = reduceOperands(innerExpr, inPlace, mustEvaluate, \n\u001b[1;32m--> 832\u001b[1;33m                                       assumptions)\n\u001b[0m\u001b[0;32m    833\u001b[0m     \u001b[1;32mif\u001b[0m \u001b[0mreducedInnerExpr\u001b[0m \u001b[1;33m==\u001b[0m \u001b[0minnerExpr\u001b[0m\u001b[1;33m:\u001b[0m\u001b[1;33m\u001b[0m\u001b[1;33m\u001b[0m\u001b[0m\n",
      "\u001b[1;32mc:\\users\\joaqu\\prove-it\\packages\\proveit\\logic\\equality\\equals.py\u001b[0m in \u001b[0;36mreduceOperands\u001b[1;34m(innerExpr, inPlace, mustEvaluate, assumptions)\u001b[0m\n\u001b[0;32m    620\u001b[0m                 \u001b[1;32mif\u001b[0m \u001b[0mmustEvaluate\u001b[0m\u001b[1;33m:\u001b[0m\u001b[1;33m\u001b[0m\u001b[1;33m\u001b[0m\u001b[0m\n\u001b[1;32m--> 621\u001b[1;33m                     \u001b[0moperandEval\u001b[0m \u001b[1;33m=\u001b[0m \u001b[0moperand\u001b[0m\u001b[1;33m.\u001b[0m\u001b[0mevaluation\u001b[0m\u001b[1;33m(\u001b[0m\u001b[0massumptions\u001b[0m\u001b[1;33m=\u001b[0m\u001b[0massumptions\u001b[0m\u001b[1;33m)\u001b[0m\u001b[1;33m\u001b[0m\u001b[1;33m\u001b[0m\u001b[0m\n\u001b[0m\u001b[0;32m    622\u001b[0m                 \u001b[1;32melse\u001b[0m\u001b[1;33m:\u001b[0m\u001b[1;33m\u001b[0m\u001b[1;33m\u001b[0m\u001b[0m\n",
      "\u001b[1;32mc:\\users\\joaqu\\prove-it\\packages\\proveit\\_core_\\expression\\expr.py\u001b[0m in \u001b[0;36mevaluation\u001b[1;34m(self, assumptions, automation, **kwargs)\u001b[0m\n\u001b[0;32m    872\u001b[0m                 \u001b[1;31m# and that failed.\u001b[0m\u001b[1;33m\u001b[0m\u001b[1;33m\u001b[0m\u001b[1;33m\u001b[0m\u001b[0m\n\u001b[1;32m--> 873\u001b[1;33m                 \u001b[1;32mraise\u001b[0m \u001b[0mEvaluationError\u001b[0m\u001b[1;33m(\u001b[0m\u001b[0mself\u001b[0m\u001b[1;33m,\u001b[0m \u001b[0massumptions\u001b[0m\u001b[1;33m)\u001b[0m\u001b[1;33m\u001b[0m\u001b[1;33m\u001b[0m\u001b[0m\n\u001b[0m\u001b[0;32m    874\u001b[0m \u001b[1;33m\u001b[0m\u001b[0m\n",
      "\u001b[1;31mEvaluationError\u001b[0m: Evaluation of (a, b, c, d, e, f, g, h, i, k, m, n) under assumptions (10 in Naturals, 11 in Naturals) is not known",
      "\nDuring handling of the above exception, another exception occurred:\n",
      "\u001b[1;31mProofFailure\u001b[0m                              Traceback (most recent call last)",
      "\u001b[1;32m<ipython-input-14-a3586ff9633a>\u001b[0m in \u001b[0;36m<module>\u001b[1;34m\u001b[0m\n\u001b[0;32m      1\u001b[0m \u001b[1;31m# infinite conclude recursion?\u001b[0m\u001b[1;33m\u001b[0m\u001b[1;33m\u001b[0m\u001b[1;33m\u001b[0m\u001b[0m\n\u001b[0;32m      2\u001b[0m Equals(Len(ExprTuple(a, b, c, d, e, f, g, h, i, k, m, n)), num(12)).prove(assumptions=[InSet(num(10), Naturals), \n\u001b[1;32m----> 3\u001b[1;33m                                                                                        InSet(num(11), Naturals)])\n\u001b[0m",
      "\u001b[1;32mc:\\users\\joaqu\\prove-it\\packages\\proveit\\_core_\\expression\\expr.py\u001b[0m in \u001b[0;36mprove\u001b[1;34m(self, assumptions, automation)\u001b[0m\n\u001b[0;32m    596\u001b[0m                 \u001b[1;32mexcept\u001b[0m \u001b[0mProofFailure\u001b[0m\u001b[1;33m:\u001b[0m\u001b[1;33m\u001b[0m\u001b[1;33m\u001b[0m\u001b[0m\n\u001b[0;32m    597\u001b[0m                     \u001b[1;31m# try the 'conclude' method of the specific Expression class\u001b[0m\u001b[1;33m\u001b[0m\u001b[1;33m\u001b[0m\u001b[1;33m\u001b[0m\u001b[0m\n\u001b[1;32m--> 598\u001b[1;33m                     \u001b[0mconcludedTruth\u001b[0m \u001b[1;33m=\u001b[0m \u001b[0mself\u001b[0m\u001b[1;33m.\u001b[0m\u001b[0mconclude\u001b[0m\u001b[1;33m(\u001b[0m\u001b[0massumptions\u001b[0m\u001b[1;33m)\u001b[0m\u001b[1;33m\u001b[0m\u001b[1;33m\u001b[0m\u001b[0m\n\u001b[0m\u001b[0;32m    599\u001b[0m             \u001b[1;32mif\u001b[0m \u001b[0mconcludedTruth\u001b[0m \u001b[1;32mis\u001b[0m \u001b[1;32mNone\u001b[0m\u001b[1;33m:\u001b[0m\u001b[1;33m\u001b[0m\u001b[1;33m\u001b[0m\u001b[0m\n\u001b[0;32m    600\u001b[0m                 \u001b[1;32mraise\u001b[0m \u001b[0mProofFailure\u001b[0m\u001b[1;33m(\u001b[0m\u001b[0mself\u001b[0m\u001b[1;33m,\u001b[0m \u001b[0massumptions\u001b[0m\u001b[1;33m,\u001b[0m \u001b[1;34m\"Failure to automatically 'conclude'\"\u001b[0m\u001b[1;33m)\u001b[0m\u001b[1;33m\u001b[0m\u001b[1;33m\u001b[0m\u001b[0m\n",
      "\u001b[1;32mc:\\users\\joaqu\\prove-it\\packages\\proveit\\logic\\equality\\equals.py\u001b[0m in \u001b[0;36mconclude\u001b[1;34m(self, assumptions)\u001b[0m\n\u001b[0;32m    133\u001b[0m         \u001b[1;32mif\u001b[0m \u001b[0misIrreducibleValue\u001b[0m\u001b[1;33m(\u001b[0m\u001b[0mself\u001b[0m\u001b[1;33m.\u001b[0m\u001b[0mrhs\u001b[0m\u001b[1;33m)\u001b[0m\u001b[1;33m:\u001b[0m\u001b[1;33m\u001b[0m\u001b[1;33m\u001b[0m\u001b[0m\n\u001b[0;32m    134\u001b[0m             \u001b[1;32mtry\u001b[0m\u001b[1;33m:\u001b[0m\u001b[1;33m\u001b[0m\u001b[1;33m\u001b[0m\u001b[0m\n\u001b[1;32m--> 135\u001b[1;33m                 \u001b[0mevaluation\u001b[0m \u001b[1;33m=\u001b[0m \u001b[0mself\u001b[0m\u001b[1;33m.\u001b[0m\u001b[0mlhs\u001b[0m\u001b[1;33m.\u001b[0m\u001b[0mevaluation\u001b[0m\u001b[1;33m(\u001b[0m\u001b[0massumptions\u001b[0m\u001b[1;33m)\u001b[0m\u001b[1;33m\u001b[0m\u001b[1;33m\u001b[0m\u001b[0m\n\u001b[0m\u001b[0;32m    136\u001b[0m                 \u001b[1;32mif\u001b[0m \u001b[0mevaluation\u001b[0m\u001b[1;33m.\u001b[0m\u001b[0mrhs\u001b[0m \u001b[1;33m!=\u001b[0m \u001b[0mself\u001b[0m\u001b[1;33m.\u001b[0m\u001b[0mrhs\u001b[0m\u001b[1;33m:\u001b[0m\u001b[1;33m\u001b[0m\u001b[1;33m\u001b[0m\u001b[0m\n\u001b[0;32m    137\u001b[0m                     raise ProofFailure(self, assumptions,\n",
      "\u001b[1;32mc:\\users\\joaqu\\prove-it\\packages\\proveit\\_core_\\expression\\expr.py\u001b[0m in \u001b[0;36mevaluation\u001b[1;34m(self, assumptions, automation, **kwargs)\u001b[0m\n\u001b[0;32m    864\u001b[0m             \u001b[1;31m# The default failed, let's try the Expression-class specific version.\u001b[0m\u001b[1;33m\u001b[0m\u001b[1;33m\u001b[0m\u001b[1;33m\u001b[0m\u001b[0m\n\u001b[0;32m    865\u001b[0m             \u001b[1;32mtry\u001b[0m\u001b[1;33m:\u001b[0m\u001b[1;33m\u001b[0m\u001b[1;33m\u001b[0m\u001b[0m\n\u001b[1;32m--> 866\u001b[1;33m                 \u001b[0mevaluation\u001b[0m \u001b[1;33m=\u001b[0m \u001b[0mself\u001b[0m\u001b[1;33m.\u001b[0m\u001b[0mdoReducedEvaluation\u001b[0m\u001b[1;33m(\u001b[0m\u001b[0massumptions\u001b[0m\u001b[1;33m,\u001b[0m \u001b[1;33m**\u001b[0m\u001b[0mkwargs\u001b[0m\u001b[1;33m)\u001b[0m\u001b[1;33m\u001b[0m\u001b[1;33m\u001b[0m\u001b[0m\n\u001b[0m\u001b[0;32m    867\u001b[0m                 \u001b[1;32mif\u001b[0m \u001b[0mevaluation\u001b[0m \u001b[1;32mis\u001b[0m \u001b[1;32mNone\u001b[0m\u001b[1;33m:\u001b[0m\u001b[1;33m\u001b[0m\u001b[1;33m\u001b[0m\u001b[0m\n\u001b[0;32m    868\u001b[0m                     \u001b[1;32mraise\u001b[0m \u001b[0mEvaluationError\u001b[0m\u001b[1;33m(\u001b[0m\u001b[0mself\u001b[0m\u001b[1;33m,\u001b[0m \u001b[0massumptions\u001b[0m\u001b[1;33m)\u001b[0m\u001b[1;33m\u001b[0m\u001b[1;33m\u001b[0m\u001b[0m\n",
      "\u001b[1;32mc:\\users\\joaqu\\prove-it\\packages\\proveit\\core_expr_types\\tuples\\length.py\u001b[0m in \u001b[0;36mdoReducedEvaluation\u001b[1;34m(self, assumptions, **kwargs)\u001b[0m\n\u001b[0;32m    465\u001b[0m         \u001b[0mto\u001b[0m \u001b[0man\u001b[0m \u001b[0mirreducible\u001b[0m \u001b[0mresult\u001b[0m\u001b[1;33m.\u001b[0m\u001b[1;33m\u001b[0m\u001b[1;33m\u001b[0m\u001b[0m\n\u001b[0;32m    466\u001b[0m         '''\n\u001b[1;32m--> 467\u001b[1;33m         \u001b[1;32mreturn\u001b[0m \u001b[0mself\u001b[0m\u001b[1;33m.\u001b[0m\u001b[0m_computation\u001b[0m\u001b[1;33m(\u001b[0m\u001b[0mmust_evaluate\u001b[0m\u001b[1;33m=\u001b[0m\u001b[1;32mTrue\u001b[0m\u001b[1;33m,\u001b[0m \u001b[0massumptions\u001b[0m\u001b[1;33m=\u001b[0m\u001b[0massumptions\u001b[0m\u001b[1;33m)\u001b[0m\u001b[1;33m\u001b[0m\u001b[1;33m\u001b[0m\u001b[0m\n\u001b[0m\u001b[0;32m    468\u001b[0m \u001b[1;33m\u001b[0m\u001b[0m\n\u001b[0;32m    469\u001b[0m \u001b[1;31m# Register these expression equivalence methods:\u001b[0m\u001b[1;33m\u001b[0m\u001b[1;33m\u001b[0m\u001b[1;33m\u001b[0m\u001b[0m\n",
      "\u001b[1;32mc:\\users\\joaqu\\prove-it\\packages\\proveit\\core_expr_types\\tuples\\length.py\u001b[0m in \u001b[0;36m_computation\u001b[1;34m(self, assumptions, must_evaluate)\u001b[0m\n\u001b[0;32m    123\u001b[0m                 thm = tuple_len_incr.specialize({i: num(len(entries) - 1), a: entries[:-1], b: entries[-1]},\n\u001b[0;32m    124\u001b[0m                                                  assumptions=assumptions)\n\u001b[1;32m--> 125\u001b[1;33m                 \u001b[1;32mreturn\u001b[0m \u001b[0mEquals\u001b[0m\u001b[1;33m(\u001b[0m\u001b[0mthm\u001b[0m\u001b[1;33m.\u001b[0m\u001b[0mlhs\u001b[0m\u001b[1;33m,\u001b[0m \u001b[0mthm\u001b[0m\u001b[1;33m.\u001b[0m\u001b[0mrhs\u001b[0m\u001b[1;33m.\u001b[0m\u001b[0m_integerBinaryEval\u001b[0m\u001b[1;33m(\u001b[0m\u001b[0massumptions\u001b[0m\u001b[1;33m=\u001b[0m\u001b[0massumptions\u001b[0m\u001b[1;33m)\u001b[0m\u001b[1;33m.\u001b[0m\u001b[0mrhs\u001b[0m\u001b[1;33m)\u001b[0m\u001b[1;33m.\u001b[0m\u001b[0mprove\u001b[0m\u001b[1;33m(\u001b[0m\u001b[0massumptions\u001b[0m\u001b[1;33m=\u001b[0m\u001b[0massumptions\u001b[0m\u001b[1;33m)\u001b[0m\u001b[1;33m\u001b[0m\u001b[1;33m\u001b[0m\u001b[0m\n\u001b[0m\u001b[0;32m    126\u001b[0m                 \u001b[1;31m#raise NotImplementedError(\"Can't handle length computation \"\u001b[0m\u001b[1;33m\u001b[0m\u001b[1;33m\u001b[0m\u001b[1;33m\u001b[0m\u001b[0m\n\u001b[0;32m    127\u001b[0m                  \u001b[1;31m#                         \">= 10 for %s\"%self)\u001b[0m\u001b[1;33m\u001b[0m\u001b[1;33m\u001b[0m\u001b[1;33m\u001b[0m\u001b[0m\n",
      "\u001b[1;32mc:\\users\\joaqu\\prove-it\\packages\\proveit\\_core_\\expression\\expr.py\u001b[0m in \u001b[0;36mprove\u001b[1;34m(self, assumptions, automation)\u001b[0m\n\u001b[0;32m    579\u001b[0m         \u001b[0min_progress_key\u001b[0m \u001b[1;33m=\u001b[0m \u001b[1;33m(\u001b[0m\u001b[0mself\u001b[0m\u001b[1;33m,\u001b[0m \u001b[0mtuple\u001b[0m\u001b[1;33m(\u001b[0m\u001b[0msorted\u001b[0m\u001b[1;33m(\u001b[0m\u001b[0massumptions\u001b[0m\u001b[1;33m,\u001b[0m \u001b[0mkey\u001b[0m\u001b[1;33m=\u001b[0m\u001b[1;32mlambda\u001b[0m \u001b[0mexpr\u001b[0m\u001b[1;33m:\u001b[0m\u001b[0mhash\u001b[0m\u001b[1;33m(\u001b[0m\u001b[0mexpr\u001b[0m\u001b[1;33m)\u001b[0m\u001b[1;33m)\u001b[0m\u001b[1;33m)\u001b[0m\u001b[1;33m)\u001b[0m\u001b[1;33m\u001b[0m\u001b[1;33m\u001b[0m\u001b[0m\n\u001b[0;32m    580\u001b[0m         \u001b[1;32mif\u001b[0m \u001b[0min_progress_key\u001b[0m \u001b[1;32min\u001b[0m \u001b[0mExpression\u001b[0m\u001b[1;33m.\u001b[0m\u001b[0min_progress_to_conclude\u001b[0m\u001b[1;33m:\u001b[0m\u001b[1;33m\u001b[0m\u001b[1;33m\u001b[0m\u001b[0m\n\u001b[1;32m--> 581\u001b[1;33m             \u001b[1;32mraise\u001b[0m \u001b[0mProofFailure\u001b[0m\u001b[1;33m(\u001b[0m\u001b[0mself\u001b[0m\u001b[1;33m,\u001b[0m \u001b[0massumptions\u001b[0m\u001b[1;33m,\u001b[0m \u001b[1;34m\"Infinite 'conclude' recursion blocked.\"\u001b[0m\u001b[1;33m)\u001b[0m\u001b[1;33m\u001b[0m\u001b[1;33m\u001b[0m\u001b[0m\n\u001b[0m\u001b[0;32m    582\u001b[0m         \u001b[0mExpression\u001b[0m\u001b[1;33m.\u001b[0m\u001b[0min_progress_to_conclude\u001b[0m\u001b[1;33m.\u001b[0m\u001b[0madd\u001b[0m\u001b[1;33m(\u001b[0m\u001b[0min_progress_key\u001b[0m\u001b[1;33m)\u001b[0m\u001b[1;33m\u001b[0m\u001b[1;33m\u001b[0m\u001b[0m\n\u001b[0;32m    583\u001b[0m \u001b[1;33m\u001b[0m\u001b[0m\n",
      "\u001b[1;31mProofFailure\u001b[0m: Unable to prove |(a, b, c, d, e, f, g, h, i, k, m, n)| = 12 assuming {10 in Naturals, 11 in Naturals}:\nInfinite 'conclude' recursion blocked."
     ]
    }
   ],
   "source": [
    "# infinite conclude recursion?\n",
    "Equals(Len(ExprTuple(a, b, c, d, e, f, g, h, i, k, m, n)), num(12)).prove(assumptions=[InSet(num(10), Naturals), \n",
    "                                                                                       InSet(num(11), Naturals)])"
   ]
  },
  {
   "cell_type": "code",
   "execution_count": null,
   "metadata": {},
   "outputs": [],
   "source": [
    "# conclude\n",
    "Equals(Len(ExprTuple(a, b, c, d, e, f, g, h, i, k, m, n)), num(12)).conclude(assumptions=[InSet(num(10), Naturals), \n",
    "                                                                                          InSet(num(11), Naturals)])"
   ]
  },
  {
   "cell_type": "code",
   "execution_count": 22,
   "metadata": {},
   "outputs": [
    {
     "ename": "InstantiationFailure",
     "evalue": "Proof step failed assuming {11 in Naturals}:\nAttempting to instantiate |- forall_{i in Naturals} [forall_{a_{1}, ..a_{_a}.., a_{i}, b} (|(a_{1}, ..a_{_a}.., a_{i}, b)| = (i + 1))] with {i: 11, a: (a, b, c, d, e, f, g, h, i, k, m), b: n, (a_{1}, ..a_{_a}.., a_{11}): (a, b, c, d, e, f, g, h, i, k, m)}:\nFailure to apply (i, a_{1}, ..a_{_a}.., a_{11}, b) -> (|(a_{1}, ..a_{_a}.., a_{i}, b)| = (i + 1)) to (11, a, b, c, d, e, f, g, h, i, k, m, n) assuming (11 in Naturals,):\nToo many arguments, [a, b, c, d, e, f, g, h, i, k, m, n], for parameter a_{1}, ..a_{_a}.., a_{11}.",
     "output_type": "error",
     "traceback": [
      "\u001b[1;31m---------------------------------------------------------------------------\u001b[0m",
      "\u001b[1;31mEvaluationError\u001b[0m                           Traceback (most recent call last)",
      "\u001b[1;32mc:\\users\\joaqu\\prove-it\\packages\\proveit\\_core_\\expression\\expr.py\u001b[0m in \u001b[0;36mevaluation\u001b[1;34m(self, assumptions, automation, **kwargs)\u001b[0m\n\u001b[0;32m    858\u001b[0m                     \u001b[0mself\u001b[0m\u001b[1;33m.\u001b[0m\u001b[0minnerExpr\u001b[0m\u001b[1;33m(\u001b[0m\u001b[1;33m)\u001b[0m\u001b[1;33m,\u001b[0m \u001b[0mmustEvaluate\u001b[0m\u001b[1;33m=\u001b[0m\u001b[1;32mTrue\u001b[0m\u001b[1;33m,\u001b[0m\u001b[1;33m\u001b[0m\u001b[1;33m\u001b[0m\u001b[0m\n\u001b[1;32m--> 859\u001b[1;33m                     assumptions=assumptions, automation=automation)\n\u001b[0m\u001b[0;32m    860\u001b[0m             \u001b[0mmethod_called\u001b[0m \u001b[1;33m=\u001b[0m \u001b[0mdefaultSimplification\u001b[0m\u001b[1;33m\u001b[0m\u001b[1;33m\u001b[0m\u001b[0m\n",
      "\u001b[1;32mc:\\users\\joaqu\\prove-it\\packages\\proveit\\logic\\equality\\equals.py\u001b[0m in \u001b[0;36mdefaultSimplification\u001b[1;34m(innerExpr, inPlace, mustEvaluate, operandsOnly, assumptions, automation)\u001b[0m\n\u001b[0;32m    826\u001b[0m             raise EvaluationError('Unknown evaluation: ' + str(inner),\n\u001b[1;32m--> 827\u001b[1;33m                                   assumptions)\n\u001b[0m\u001b[0;32m    828\u001b[0m         \u001b[1;32melse\u001b[0m\u001b[1;33m:\u001b[0m\u001b[1;33m\u001b[0m\u001b[1;33m\u001b[0m\u001b[0m\n",
      "\u001b[1;31mEvaluationError\u001b[0m: Evaluation of Unknown evaluation: (a, b, c, d, e, f, g, h, i, k, m, n) under assumptions (11 in Naturals,) is not known",
      "\nDuring handling of the above exception, another exception occurred:\n",
      "\u001b[1;31mNotImplementedError\u001b[0m                       Traceback (most recent call last)",
      "\u001b[1;32mc:\\users\\joaqu\\prove-it\\packages\\proveit\\_core_\\expression\\expr.py\u001b[0m in \u001b[0;36mevaluation\u001b[1;34m(self, assumptions, automation, **kwargs)\u001b[0m\n\u001b[0;32m    865\u001b[0m             \u001b[1;32mtry\u001b[0m\u001b[1;33m:\u001b[0m\u001b[1;33m\u001b[0m\u001b[1;33m\u001b[0m\u001b[0m\n\u001b[1;32m--> 866\u001b[1;33m                 \u001b[0mevaluation\u001b[0m \u001b[1;33m=\u001b[0m \u001b[0mself\u001b[0m\u001b[1;33m.\u001b[0m\u001b[0mdoReducedEvaluation\u001b[0m\u001b[1;33m(\u001b[0m\u001b[0massumptions\u001b[0m\u001b[1;33m,\u001b[0m \u001b[1;33m**\u001b[0m\u001b[0mkwargs\u001b[0m\u001b[1;33m)\u001b[0m\u001b[1;33m\u001b[0m\u001b[1;33m\u001b[0m\u001b[0m\n\u001b[0m\u001b[0;32m    867\u001b[0m                 \u001b[1;32mif\u001b[0m \u001b[0mevaluation\u001b[0m \u001b[1;32mis\u001b[0m \u001b[1;32mNone\u001b[0m\u001b[1;33m:\u001b[0m\u001b[1;33m\u001b[0m\u001b[1;33m\u001b[0m\u001b[0m\n",
      "\u001b[1;32mc:\\users\\joaqu\\prove-it\\packages\\proveit\\_core_\\expression\\expr.py\u001b[0m in \u001b[0;36mdoReducedEvaluation\u001b[1;34m(self, assumptions, **kwargs)\u001b[0m\n\u001b[0;32m    911\u001b[0m         '''\n\u001b[1;32m--> 912\u001b[1;33m         \u001b[1;32mraise\u001b[0m \u001b[0mNotImplementedError\u001b[0m\u001b[1;33m(\u001b[0m\u001b[1;34m\"'doReducedEvaluation' not implemented for %s class\"\u001b[0m\u001b[1;33m%\u001b[0m\u001b[0mstr\u001b[0m\u001b[1;33m(\u001b[0m\u001b[0mself\u001b[0m\u001b[1;33m.\u001b[0m\u001b[0m__class__\u001b[0m\u001b[1;33m)\u001b[0m\u001b[1;33m)\u001b[0m\u001b[1;33m\u001b[0m\u001b[1;33m\u001b[0m\u001b[0m\n\u001b[0m\u001b[0;32m    913\u001b[0m \u001b[1;33m\u001b[0m\u001b[0m\n",
      "\u001b[1;31mNotImplementedError\u001b[0m: 'doReducedEvaluation' not implemented for <class 'proveit._core_.expression.composite.expr_tuple.ExprTuple'> class",
      "\nDuring handling of the above exception, another exception occurred:\n",
      "\u001b[1;31mEvaluationError\u001b[0m                           Traceback (most recent call last)",
      "\u001b[1;32mc:\\users\\joaqu\\prove-it\\packages\\proveit\\_core_\\expression\\expr.py\u001b[0m in \u001b[0;36mevaluation\u001b[1;34m(self, assumptions, automation, **kwargs)\u001b[0m\n\u001b[0;32m    858\u001b[0m                     \u001b[0mself\u001b[0m\u001b[1;33m.\u001b[0m\u001b[0minnerExpr\u001b[0m\u001b[1;33m(\u001b[0m\u001b[1;33m)\u001b[0m\u001b[1;33m,\u001b[0m \u001b[0mmustEvaluate\u001b[0m\u001b[1;33m=\u001b[0m\u001b[1;32mTrue\u001b[0m\u001b[1;33m,\u001b[0m\u001b[1;33m\u001b[0m\u001b[1;33m\u001b[0m\u001b[0m\n\u001b[1;32m--> 859\u001b[1;33m                     assumptions=assumptions, automation=automation)\n\u001b[0m\u001b[0;32m    860\u001b[0m             \u001b[0mmethod_called\u001b[0m \u001b[1;33m=\u001b[0m \u001b[0mdefaultSimplification\u001b[0m\u001b[1;33m\u001b[0m\u001b[1;33m\u001b[0m\u001b[0m\n",
      "\u001b[1;32mc:\\users\\joaqu\\prove-it\\packages\\proveit\\logic\\equality\\equals.py\u001b[0m in \u001b[0;36mdefaultSimplification\u001b[1;34m(innerExpr, inPlace, mustEvaluate, operandsOnly, assumptions, automation)\u001b[0m\n\u001b[0;32m    831\u001b[0m     reducedInnerExpr = reduceOperands(innerExpr, inPlace, mustEvaluate, \n\u001b[1;32m--> 832\u001b[1;33m                                       assumptions)\n\u001b[0m\u001b[0;32m    833\u001b[0m     \u001b[1;32mif\u001b[0m \u001b[0mreducedInnerExpr\u001b[0m \u001b[1;33m==\u001b[0m \u001b[0minnerExpr\u001b[0m\u001b[1;33m:\u001b[0m\u001b[1;33m\u001b[0m\u001b[1;33m\u001b[0m\u001b[0m\n",
      "\u001b[1;32mc:\\users\\joaqu\\prove-it\\packages\\proveit\\logic\\equality\\equals.py\u001b[0m in \u001b[0;36mreduceOperands\u001b[1;34m(innerExpr, inPlace, mustEvaluate, assumptions)\u001b[0m\n\u001b[0;32m    620\u001b[0m                 \u001b[1;32mif\u001b[0m \u001b[0mmustEvaluate\u001b[0m\u001b[1;33m:\u001b[0m\u001b[1;33m\u001b[0m\u001b[1;33m\u001b[0m\u001b[0m\n\u001b[1;32m--> 621\u001b[1;33m                     \u001b[0moperandEval\u001b[0m \u001b[1;33m=\u001b[0m \u001b[0moperand\u001b[0m\u001b[1;33m.\u001b[0m\u001b[0mevaluation\u001b[0m\u001b[1;33m(\u001b[0m\u001b[0massumptions\u001b[0m\u001b[1;33m=\u001b[0m\u001b[0massumptions\u001b[0m\u001b[1;33m)\u001b[0m\u001b[1;33m\u001b[0m\u001b[1;33m\u001b[0m\u001b[0m\n\u001b[0m\u001b[0;32m    622\u001b[0m                 \u001b[1;32melse\u001b[0m\u001b[1;33m:\u001b[0m\u001b[1;33m\u001b[0m\u001b[1;33m\u001b[0m\u001b[0m\n",
      "\u001b[1;32mc:\\users\\joaqu\\prove-it\\packages\\proveit\\_core_\\expression\\expr.py\u001b[0m in \u001b[0;36mevaluation\u001b[1;34m(self, assumptions, automation, **kwargs)\u001b[0m\n\u001b[0;32m    872\u001b[0m                 \u001b[1;31m# and that failed.\u001b[0m\u001b[1;33m\u001b[0m\u001b[1;33m\u001b[0m\u001b[1;33m\u001b[0m\u001b[0m\n\u001b[1;32m--> 873\u001b[1;33m                 \u001b[1;32mraise\u001b[0m \u001b[0mEvaluationError\u001b[0m\u001b[1;33m(\u001b[0m\u001b[0mself\u001b[0m\u001b[1;33m,\u001b[0m \u001b[0massumptions\u001b[0m\u001b[1;33m)\u001b[0m\u001b[1;33m\u001b[0m\u001b[1;33m\u001b[0m\u001b[0m\n\u001b[0m\u001b[0;32m    874\u001b[0m \u001b[1;33m\u001b[0m\u001b[0m\n",
      "\u001b[1;31mEvaluationError\u001b[0m: Evaluation of (a, b, c, d, e, f, g, h, i, k, m, n) under assumptions (11 in Naturals,) is not known",
      "\nDuring handling of the above exception, another exception occurred:\n",
      "\u001b[1;31mValueError\u001b[0m                                Traceback (most recent call last)",
      "\u001b[1;32mc:\\users\\joaqu\\prove-it\\packages\\proveit\\_core_\\expression\\lambda_expr\\lambda_expr.py\u001b[0m in \u001b[0;36mextract_complete_param_replacements\u001b[1;34m(parameters, parameter_vars, body, operands, assumptions, requirements, repl_map)\u001b[0m\n\u001b[0;32m   1022\u001b[0m                                    \u001b[0moperands_iter\u001b[0m\u001b[1;33m,\u001b[0m \u001b[0massumptions\u001b[0m\u001b[1;33m,\u001b[0m \u001b[0mrequirements\u001b[0m\u001b[1;33m,\u001b[0m\u001b[1;33m\u001b[0m\u001b[1;33m\u001b[0m\u001b[0m\n\u001b[1;32m-> 1023\u001b[1;33m                                    repl_map, is_complete=True)\n\u001b[0m\u001b[0;32m   1024\u001b[0m     \u001b[1;32mexcept\u001b[0m \u001b[0mValueError\u001b[0m \u001b[1;32mas\u001b[0m \u001b[0me\u001b[0m\u001b[1;33m:\u001b[0m\u001b[1;33m\u001b[0m\u001b[1;33m\u001b[0m\u001b[0m\n",
      "\u001b[1;32mc:\\users\\joaqu\\prove-it\\packages\\proveit\\_core_\\expression\\lambda_expr\\lambda_expr.py\u001b[0m in \u001b[0;36mextract_param_replacements\u001b[1;34m(parameters, parameter_vars, body, operands_iter, assumptions, requirements, repl_map, is_complete)\u001b[0m\n\u001b[0;32m   1106\u001b[0m                                     \u001b[1;34m\"Too many arguments, %s, for parameter\"\u001b[0m\u001b[1;33m\u001b[0m\u001b[1;33m\u001b[0m\u001b[0m\n\u001b[1;32m-> 1107\u001b[1;33m                                     \" %s.\"%(param_operands, parameter))\n\u001b[0m\u001b[0;32m   1108\u001b[0m                         elif (max_int_param_operands_len is None or\n",
      "\u001b[1;31mValueError\u001b[0m: Too many arguments, [a, b, c, d, e, f, g, h, i, k, m, n], for parameter a_{1}, ..a_{_a}.., a_{11}.",
      "\nDuring handling of the above exception, another exception occurred:\n",
      "\u001b[1;31mLambdaApplicationError\u001b[0m                    Traceback (most recent call last)",
      "\u001b[1;32mc:\\users\\joaqu\\prove-it\\packages\\proveit\\_core_\\proof.py\u001b[0m in \u001b[0;36m__init__\u001b[1;34m(self, orig_known_truth, num_forall_eliminations, repl_map, equiv_alt_expansions, assumptions)\u001b[0m\n\u001b[0;32m    944\u001b[0m                         \u001b[0massumptions\u001b[0m\u001b[1;33m,\u001b[0m \u001b[0mrequirements\u001b[0m\u001b[1;33m,\u001b[0m\u001b[1;33m\u001b[0m\u001b[1;33m\u001b[0m\u001b[0m\n\u001b[1;32m--> 945\u001b[1;33m                         equality_repl_requirements)\n\u001b[0m\u001b[0;32m    946\u001b[0m \u001b[1;33m\u001b[0m\u001b[0m\n",
      "\u001b[1;32mc:\\users\\joaqu\\prove-it\\packages\\proveit\\_core_\\proof.py\u001b[0m in \u001b[0;36m_instantiated_expr\u001b[1;34m(original_known_truth, num_forall_eliminations, instantiation_params, repl_map, equiv_alt_expansions, assumptions, requirements, equality_repl_requirements)\u001b[0m\n\u001b[0;32m   1250\u001b[0m         \u001b[1;31m# not yet been used\u001b[0m\u001b[1;33m\u001b[0m\u001b[1;33m\u001b[0m\u001b[1;33m\u001b[0m\u001b[0m\n\u001b[1;32m-> 1251\u001b[1;33m         \u001b[1;32mreturn\u001b[0m \u001b[0minstantiate\u001b[0m\u001b[1;33m(\u001b[0m\u001b[0mexpr\u001b[0m\u001b[1;33m)\u001b[0m\u001b[1;33m\u001b[0m\u001b[1;33m\u001b[0m\u001b[0m\n\u001b[0m\u001b[0;32m   1252\u001b[0m \u001b[1;33m\u001b[0m\u001b[0m\n",
      "\u001b[1;32mc:\\users\\joaqu\\prove-it\\packages\\proveit\\_core_\\proof.py\u001b[0m in \u001b[0;36minstantiate\u001b[1;34m(expr, exclusion)\u001b[0m\n\u001b[0;32m   1163\u001b[0m                     \u001b[0massumptions\u001b[0m\u001b[1;33m=\u001b[0m\u001b[0massumptions\u001b[0m\u001b[1;33m,\u001b[0m \u001b[0mrequirements\u001b[0m\u001b[1;33m=\u001b[0m\u001b[0mrequirements\u001b[0m\u001b[1;33m,\u001b[0m\u001b[1;33m\u001b[0m\u001b[1;33m\u001b[0m\u001b[0m\n\u001b[1;32m-> 1164\u001b[1;33m                     equality_repl_requirements=equality_repl_requirements)\n\u001b[0m\u001b[0;32m   1165\u001b[0m \u001b[1;33m\u001b[0m\u001b[0m\n",
      "\u001b[1;32mc:\\users\\joaqu\\prove-it\\packages\\proveit\\_core_\\expression\\lambda_expr\\lambda_expr.py\u001b[0m in \u001b[0;36m_apply\u001b[1;34m(parameters, body, equiv_alt_expansions, allow_relabeling, assumptions, requirements, equality_repl_requirements, parameter_vars, *operands)\u001b[0m\n\u001b[0;32m    507\u001b[0m                 \u001b[0mparameters\u001b[0m\u001b[1;33m,\u001b[0m \u001b[0mparameter_vars\u001b[0m\u001b[1;33m,\u001b[0m \u001b[0mbody\u001b[0m\u001b[1;33m,\u001b[0m \u001b[0moperands\u001b[0m\u001b[1;33m,\u001b[0m\u001b[1;33m\u001b[0m\u001b[1;33m\u001b[0m\u001b[0m\n\u001b[1;32m--> 508\u001b[1;33m                 assumptions, requirements, repl_map)\n\u001b[0m\u001b[0;32m    509\u001b[0m \u001b[1;33m\u001b[0m\u001b[0m\n",
      "\u001b[1;32mc:\\users\\joaqu\\prove-it\\packages\\proveit\\_core_\\expression\\lambda_expr\\lambda_expr.py\u001b[0m in \u001b[0;36mextract_complete_param_replacements\u001b[1;34m(parameters, parameter_vars, body, operands, assumptions, requirements, repl_map)\u001b[0m\n\u001b[0;32m   1025\u001b[0m         raise LambdaApplicationError(\n\u001b[1;32m-> 1026\u001b[1;33m                 parameters, body, operands, assumptions, [], str(e))\n\u001b[0m\u001b[0;32m   1027\u001b[0m \u001b[1;33m\u001b[0m\u001b[0m\n",
      "\u001b[1;31mLambdaApplicationError\u001b[0m: Failure to apply (i, a_{1}, ..a_{_a}.., a_{11}, b) -> (|(a_{1}, ..a_{_a}.., a_{i}, b)| = (i + 1)) to (11, a, b, c, d, e, f, g, h, i, k, m, n) assuming (11 in Naturals,):\nToo many arguments, [a, b, c, d, e, f, g, h, i, k, m, n], for parameter a_{1}, ..a_{_a}.., a_{11}.",
      "\nDuring handling of the above exception, another exception occurred:\n",
      "\u001b[1;31mInstantiationFailure\u001b[0m                      Traceback (most recent call last)",
      "\u001b[1;32m<ipython-input-22-4bd35f193535>\u001b[0m in \u001b[0;36m<module>\u001b[1;34m\u001b[0m\n\u001b[0;32m      1\u001b[0m \u001b[1;31m# why automation is important?\u001b[0m\u001b[1;33m\u001b[0m\u001b[1;33m\u001b[0m\u001b[1;33m\u001b[0m\u001b[0m\n\u001b[1;32m----> 2\u001b[1;33m \u001b[0mLen\u001b[0m\u001b[1;33m(\u001b[0m\u001b[0mExprTuple\u001b[0m\u001b[1;33m(\u001b[0m\u001b[0ma\u001b[0m\u001b[1;33m,\u001b[0m \u001b[0mb\u001b[0m\u001b[1;33m,\u001b[0m \u001b[0mc\u001b[0m\u001b[1;33m,\u001b[0m \u001b[0md\u001b[0m\u001b[1;33m,\u001b[0m \u001b[0me\u001b[0m\u001b[1;33m,\u001b[0m \u001b[0mf\u001b[0m\u001b[1;33m,\u001b[0m \u001b[0mg\u001b[0m\u001b[1;33m,\u001b[0m \u001b[0mh\u001b[0m\u001b[1;33m,\u001b[0m \u001b[0mi\u001b[0m\u001b[1;33m,\u001b[0m \u001b[0mk\u001b[0m\u001b[1;33m,\u001b[0m \u001b[0mm\u001b[0m\u001b[1;33m,\u001b[0m \u001b[0mn\u001b[0m\u001b[1;33m)\u001b[0m\u001b[1;33m)\u001b[0m\u001b[1;33m.\u001b[0m\u001b[0mevaluation\u001b[0m\u001b[1;33m(\u001b[0m\u001b[0massumptions\u001b[0m\u001b[1;33m=\u001b[0m\u001b[1;33m[\u001b[0m\u001b[0mInSet\u001b[0m\u001b[1;33m(\u001b[0m\u001b[0mnum\u001b[0m\u001b[1;33m(\u001b[0m\u001b[1;36m11\u001b[0m\u001b[1;33m)\u001b[0m\u001b[1;33m,\u001b[0m \u001b[0mNaturals\u001b[0m\u001b[1;33m)\u001b[0m\u001b[1;33m]\u001b[0m\u001b[1;33m)\u001b[0m\u001b[1;33m\u001b[0m\u001b[1;33m\u001b[0m\u001b[0m\n\u001b[0m",
      "\u001b[1;32mc:\\users\\joaqu\\prove-it\\packages\\proveit\\_core_\\expression\\expr.py\u001b[0m in \u001b[0;36mevaluation\u001b[1;34m(self, assumptions, automation, **kwargs)\u001b[0m\n\u001b[0;32m    864\u001b[0m             \u001b[1;31m# The default failed, let's try the Expression-class specific version.\u001b[0m\u001b[1;33m\u001b[0m\u001b[1;33m\u001b[0m\u001b[1;33m\u001b[0m\u001b[0m\n\u001b[0;32m    865\u001b[0m             \u001b[1;32mtry\u001b[0m\u001b[1;33m:\u001b[0m\u001b[1;33m\u001b[0m\u001b[1;33m\u001b[0m\u001b[0m\n\u001b[1;32m--> 866\u001b[1;33m                 \u001b[0mevaluation\u001b[0m \u001b[1;33m=\u001b[0m \u001b[0mself\u001b[0m\u001b[1;33m.\u001b[0m\u001b[0mdoReducedEvaluation\u001b[0m\u001b[1;33m(\u001b[0m\u001b[0massumptions\u001b[0m\u001b[1;33m,\u001b[0m \u001b[1;33m**\u001b[0m\u001b[0mkwargs\u001b[0m\u001b[1;33m)\u001b[0m\u001b[1;33m\u001b[0m\u001b[1;33m\u001b[0m\u001b[0m\n\u001b[0m\u001b[0;32m    867\u001b[0m                 \u001b[1;32mif\u001b[0m \u001b[0mevaluation\u001b[0m \u001b[1;32mis\u001b[0m \u001b[1;32mNone\u001b[0m\u001b[1;33m:\u001b[0m\u001b[1;33m\u001b[0m\u001b[1;33m\u001b[0m\u001b[0m\n\u001b[0;32m    868\u001b[0m                     \u001b[1;32mraise\u001b[0m \u001b[0mEvaluationError\u001b[0m\u001b[1;33m(\u001b[0m\u001b[0mself\u001b[0m\u001b[1;33m,\u001b[0m \u001b[0massumptions\u001b[0m\u001b[1;33m)\u001b[0m\u001b[1;33m\u001b[0m\u001b[1;33m\u001b[0m\u001b[0m\n",
      "\u001b[1;32mc:\\users\\joaqu\\prove-it\\packages\\proveit\\core_expr_types\\tuples\\length.py\u001b[0m in \u001b[0;36mdoReducedEvaluation\u001b[1;34m(self, assumptions, **kwargs)\u001b[0m\n\u001b[0;32m    465\u001b[0m         \u001b[0mto\u001b[0m \u001b[0man\u001b[0m \u001b[0mirreducible\u001b[0m \u001b[0mresult\u001b[0m\u001b[1;33m.\u001b[0m\u001b[1;33m\u001b[0m\u001b[1;33m\u001b[0m\u001b[0m\n\u001b[0;32m    466\u001b[0m         '''\n\u001b[1;32m--> 467\u001b[1;33m         \u001b[1;32mreturn\u001b[0m \u001b[0mself\u001b[0m\u001b[1;33m.\u001b[0m\u001b[0m_computation\u001b[0m\u001b[1;33m(\u001b[0m\u001b[0mmust_evaluate\u001b[0m\u001b[1;33m=\u001b[0m\u001b[1;32mTrue\u001b[0m\u001b[1;33m,\u001b[0m \u001b[0massumptions\u001b[0m\u001b[1;33m=\u001b[0m\u001b[0massumptions\u001b[0m\u001b[1;33m)\u001b[0m\u001b[1;33m\u001b[0m\u001b[1;33m\u001b[0m\u001b[0m\n\u001b[0m\u001b[0;32m    468\u001b[0m \u001b[1;33m\u001b[0m\u001b[0m\n\u001b[0;32m    469\u001b[0m \u001b[1;31m# Register these expression equivalence methods:\u001b[0m\u001b[1;33m\u001b[0m\u001b[1;33m\u001b[0m\u001b[1;33m\u001b[0m\u001b[0m\n",
      "\u001b[1;32mc:\\users\\joaqu\\prove-it\\packages\\proveit\\core_expr_types\\tuples\\length.py\u001b[0m in \u001b[0;36m_computation\u001b[1;34m(self, assumptions, must_evaluate)\u001b[0m\n\u001b[0;32m    122\u001b[0m                 \u001b[1;32mfrom\u001b[0m \u001b[0mproveit\u001b[0m\u001b[1;33m.\u001b[0m\u001b[0mlogic\u001b[0m \u001b[1;32mimport\u001b[0m \u001b[0mEquals\u001b[0m\u001b[1;33m\u001b[0m\u001b[1;33m\u001b[0m\u001b[0m\n\u001b[0;32m    123\u001b[0m                 thm = tuple_len_incr.specialize({i: num(len(entries) - 1), a: entries[:-1], b: entries[-1]},\n\u001b[1;32m--> 124\u001b[1;33m                                                  assumptions=assumptions)\n\u001b[0m\u001b[0;32m    125\u001b[0m                 \u001b[1;32mreturn\u001b[0m \u001b[0mEquals\u001b[0m\u001b[1;33m(\u001b[0m\u001b[0mthm\u001b[0m\u001b[1;33m.\u001b[0m\u001b[0mlhs\u001b[0m\u001b[1;33m,\u001b[0m \u001b[0mthm\u001b[0m\u001b[1;33m.\u001b[0m\u001b[0mrhs\u001b[0m\u001b[1;33m.\u001b[0m\u001b[0m_integerBinaryEval\u001b[0m\u001b[1;33m(\u001b[0m\u001b[0massumptions\u001b[0m\u001b[1;33m=\u001b[0m\u001b[0massumptions\u001b[0m\u001b[1;33m)\u001b[0m\u001b[1;33m.\u001b[0m\u001b[0mrhs\u001b[0m\u001b[1;33m)\u001b[0m\u001b[1;33m.\u001b[0m\u001b[0mprove\u001b[0m\u001b[1;33m(\u001b[0m\u001b[0massumptions\u001b[0m\u001b[1;33m=\u001b[0m\u001b[0massumptions\u001b[0m\u001b[1;33m)\u001b[0m\u001b[1;33m\u001b[0m\u001b[1;33m\u001b[0m\u001b[0m\n\u001b[0;32m    126\u001b[0m                 \u001b[1;31m#raise NotImplementedError(\"Can't handle length computation \"\u001b[0m\u001b[1;33m\u001b[0m\u001b[1;33m\u001b[0m\u001b[1;33m\u001b[0m\u001b[0m\n",
      "\u001b[1;32mc:\\users\\joaqu\\prove-it\\packages\\proveit\\_core_\\known_truth.py\u001b[0m in \u001b[0;36mspecialize\u001b[1;34m(self, repl_map, relabel_map, assumptions)\u001b[0m\n\u001b[0;32m    739\u001b[0m             \u001b[0mrepl_map\u001b[0m \u001b[1;33m=\u001b[0m \u001b[0mdict\u001b[0m\u001b[1;33m(\u001b[0m\u001b[1;33m)\u001b[0m\u001b[1;33m\u001b[0m\u001b[1;33m\u001b[0m\u001b[0m\n\u001b[0;32m    740\u001b[0m             \u001b[0mrepl_map\u001b[0m\u001b[1;33m.\u001b[0m\u001b[0mupdate\u001b[0m\u001b[1;33m(\u001b[0m\u001b[0mrelabel_map\u001b[0m\u001b[1;33m)\u001b[0m\u001b[1;33m\u001b[0m\u001b[1;33m\u001b[0m\u001b[0m\n\u001b[1;32m--> 741\u001b[1;33m         \u001b[1;32mreturn\u001b[0m \u001b[0mself\u001b[0m\u001b[1;33m.\u001b[0m\u001b[0minstantiate\u001b[0m\u001b[1;33m(\u001b[0m\u001b[0mrepl_map\u001b[0m\u001b[1;33m,\u001b[0m \u001b[0massumptions\u001b[0m\u001b[1;33m=\u001b[0m\u001b[0massumptions\u001b[0m\u001b[1;33m)\u001b[0m\u001b[1;33m\u001b[0m\u001b[1;33m\u001b[0m\u001b[0m\n\u001b[0m\u001b[0;32m    742\u001b[0m \u001b[1;33m\u001b[0m\u001b[0m\n\u001b[0;32m    743\u001b[0m \u001b[1;33m\u001b[0m\u001b[0m\n",
      "\u001b[1;32mc:\\users\\joaqu\\prove-it\\packages\\proveit\\_core_\\known_truth.py\u001b[0m in \u001b[0;36minstantiate\u001b[1;34m(self, repl_map, num_forall_eliminations, assumptions)\u001b[0m\n\u001b[0;32m    897\u001b[0m                               \u001b[0mrepl_map\u001b[0m\u001b[1;33m=\u001b[0m\u001b[0mprocessed_repl_map\u001b[0m\u001b[1;33m,\u001b[0m\u001b[1;33m\u001b[0m\u001b[1;33m\u001b[0m\u001b[0m\n\u001b[0;32m    898\u001b[0m                               \u001b[0mequiv_alt_expansions\u001b[0m\u001b[1;33m=\u001b[0m\u001b[0mequiv_alt_expansions\u001b[0m\u001b[1;33m,\u001b[0m\u001b[1;33m\u001b[0m\u001b[1;33m\u001b[0m\u001b[0m\n\u001b[1;32m--> 899\u001b[1;33m                               assumptions=assumptions))\n\u001b[0m\u001b[0;32m    900\u001b[0m \u001b[1;33m\u001b[0m\u001b[0m\n\u001b[0;32m    901\u001b[0m     def generalize(self, forall_var_or_vars_or_var_lists, \n",
      "\u001b[1;32mc:\\users\\joaqu\\prove-it\\packages\\proveit\\_core_\\proof.py\u001b[0m in \u001b[0;36m__init__\u001b[1;34m(self, orig_known_truth, num_forall_eliminations, repl_map, equiv_alt_expansions, assumptions)\u001b[0m\n\u001b[0;32m   1025\u001b[0m         \u001b[1;32mexcept\u001b[0m \u001b[0mLambdaApplicationError\u001b[0m \u001b[1;32mas\u001b[0m \u001b[0me\u001b[0m\u001b[1;33m:\u001b[0m\u001b[1;33m\u001b[0m\u001b[1;33m\u001b[0m\u001b[0m\n\u001b[0;32m   1026\u001b[0m             raise InstantiationFailure(orig_known_truth, repl_map,\n\u001b[1;32m-> 1027\u001b[1;33m                                        assumptions, str(e))\n\u001b[0m\u001b[0;32m   1028\u001b[0m         \u001b[1;32mfinally\u001b[0m\u001b[1;33m:\u001b[0m\u001b[1;33m\u001b[0m\u001b[1;33m\u001b[0m\u001b[0m\n\u001b[0;32m   1029\u001b[0m             \u001b[1;31m# restore the original default assumptions\u001b[0m\u001b[1;33m\u001b[0m\u001b[1;33m\u001b[0m\u001b[1;33m\u001b[0m\u001b[0m\n",
      "\u001b[1;31mInstantiationFailure\u001b[0m: Proof step failed assuming {11 in Naturals}:\nAttempting to instantiate |- forall_{i in Naturals} [forall_{a_{1}, ..a_{_a}.., a_{i}, b} (|(a_{1}, ..a_{_a}.., a_{i}, b)| = (i + 1))] with {i: 11, a: (a, b, c, d, e, f, g, h, i, k, m), b: n, (a_{1}, ..a_{_a}.., a_{11}): (a, b, c, d, e, f, g, h, i, k, m)}:\nFailure to apply (i, a_{1}, ..a_{_a}.., a_{11}, b) -> (|(a_{1}, ..a_{_a}.., a_{i}, b)| = (i + 1)) to (11, a, b, c, d, e, f, g, h, i, k, m, n) assuming (11 in Naturals,):\nToo many arguments, [a, b, c, d, e, f, g, h, i, k, m, n], for parameter a_{1}, ..a_{_a}.., a_{11}."
     ]
    }
   ],
   "source": [
    "# why automation is important?\n",
    "Len(ExprTuple(a, b, c, d, e, f, g, h, i, k, m, n)).evaluation(assumptions=[InSet(num(11), Naturals)])"
   ]
  },
  {
   "cell_type": "code",
   "execution_count": null,
   "metadata": {},
   "outputs": [],
   "source": [
    "Len(List[:-1]).evaluation(assumptions=[InSet(num(10), Naturals), InSet(num(11), Naturals)])"
   ]
  },
  {
   "cell_type": "code",
   "execution_count": null,
   "metadata": {},
   "outputs": [],
   "source": []
  },
  {
   "cell_type": "code",
   "execution_count": null,
   "metadata": {},
   "outputs": [],
   "source": [
    "Len(List).evaluation(assumptions=[InSet(num(10), Naturals), InSet(num(11), Naturals), InSet(num(12), Naturals)])"
   ]
  },
  {
   "cell_type": "code",
   "execution_count": null,
   "metadata": {},
   "outputs": [],
   "source": [
    "Len(List)._computation(assumptions=[InSet(num(10), Naturals), InSet(num(11), Naturals), InSet(num(12), Naturals)])"
   ]
  },
  {
   "cell_type": "code",
   "execution_count": null,
   "metadata": {},
   "outputs": [],
   "source": [
    "List[:-1]"
   ]
  },
  {
   "cell_type": "code",
   "execution_count": null,
   "metadata": {},
   "outputs": [],
   "source": [
    "List[-1]"
   ]
  },
  {
   "cell_type": "code",
   "execution_count": null,
   "metadata": {},
   "outputs": [],
   "source": [
    "tuple_len_incr"
   ]
  },
  {
   "cell_type": "code",
   "execution_count": null,
   "metadata": {},
   "outputs": [],
   "source": [
    "tuple_len_incr.instantiate({i: num(11), a: ExprTuple(a, b, c, d, e, f, g, h, i, k, m), b: ExprTuple(n)},\n",
    "                                                 assumptions=[InSet(num(10), Naturals), InSet(num(11), Naturals)])"
   ]
  },
  {
   "cell_type": "code",
   "execution_count": null,
   "metadata": {},
   "outputs": [],
   "source": [
    "tuple_len_incr.instantiate({i: num(len(List) - 1), a: List[:-1], b: ExprTuple(List[-1])},\n",
    "                                                 assumptions=[InSet(num(10), Naturals),InSet(num(11), Naturals), \n",
    "                                                              InSet(num(12), Naturals)])"
   ]
  },
  {
   "cell_type": "code",
   "execution_count": null,
   "metadata": {},
   "outputs": [],
   "source": [
    "Len(ExprTuple(ExprRange(i, ExprRange(j, Aij, one, one), one, one))).computation()"
   ]
  },
  {
   "cell_type": "code",
   "execution_count": null,
   "metadata": {},
   "outputs": [],
   "source": [
    "md_nine_add_one"
   ]
  },
  {
   "cell_type": "code",
   "execution_count": null,
   "metadata": {},
   "outputs": [],
   "source": [
    "one_spec = tuple_len_2.specialize({a:a})"
   ]
  },
  {
   "cell_type": "code",
   "execution_count": null,
   "metadata": {},
   "outputs": [],
   "source": [
    "tuple_len_incr"
   ]
  },
  {
   "cell_type": "code",
   "execution_count": null,
   "metadata": {},
   "outputs": [],
   "source": [
    "tuple_spec = tuple_len_incr.specialize({i: one_spec.rhs, a: one_spec.lhs.operands[0], b: c}).proof()"
   ]
  },
  {
   "cell_type": "code",
   "execution_count": null,
   "metadata": {},
   "outputs": [],
   "source": [
    "tuple_spec = tuple_len_incr.specialize({i: one_spec.rhs, a: one_spec.lhs.operands[0], b: c}).rhs._integerBinaryEval()"
   ]
  },
  {
   "cell_type": "code",
   "execution_count": null,
   "metadata": {},
   "outputs": [],
   "source": [
    "tuple_spec = tuple_len_incr.specialize({i: one_spec.rhs, ExprTuple(varRange(a, one, two)): one_spec.lhs.operands[0], b: c}).proof()"
   ]
  },
  {
   "cell_type": "code",
   "execution_count": null,
   "metadata": {},
   "outputs": [],
   "source": [
    "Digit = Set(zero, one, two, three, four, five, six, seven, eight, nine)"
   ]
  },
  {
   "cell_type": "code",
   "execution_count": null,
   "metadata": {
    "scrolled": true
   },
   "outputs": [],
   "source": [
    "md_nine_add_one.specialize({m: one, k: zero, a: ExprTuple(one), b: one}, \n",
    "                           assumptions=[InSet(one, Digit), InSet(two, Digit)]).proof()"
   ]
  },
  {
   "cell_type": "code",
   "execution_count": null,
   "metadata": {},
   "outputs": [],
   "source": [
    "tuple_len_incr.specialize({a:tuple_len_0.lhs.operands[0], b:a, i: tuple_len_0.rhs}, assumptions=[]).prove()"
   ]
  },
  {
   "cell_type": "code",
   "execution_count": 15,
   "metadata": {},
   "outputs": [
    {
     "data": {
      "text/html": [
       "<strong id=\"Digit\">Digit:</strong> <a class=\"ProveItLink\" href=\"__pv_it/529af85ae13bbca61d15efade5ef44b2a68d178d0/expr.ipynb\"><img src=\"data:image/png;base64,iVBORw0KGgoAAAANSUhEUgAAAM0AAAAVBAMAAAAX/3cYAAAAMFBMVEX///8QEBBERERUVFTMzMyY\n",
       "mJjc3NxmZmYiIiJ2dnaqqqoyMjKIiIi6urru7u4AAAAvZeGPAAAAAXRSTlMAQObYZgAAAAlwSFlz\n",
       "AAAOxAAADsQBlSsOGwAAAxJJREFUSMe1lk1oE0EUx//52iRtstYvkEJrVRShKoUqraI2UkQ8GW8e\n",
       "hMaKVEFoxMOKoSiIomjb+AG16CEnoSCmKogXtdJDKV4ED54kC4IiCKlFsSZt17fzZrZht5Z46EJ2\n",
       "/tl5b37zPmYTAPonLOulPeLx3ZP/9w0CX9zPTpn/MO7cYd9r5uk2PJFSKwyobRjPEqzODG13fA7x\n",
       "4Cu/VHbR4Xss8pZl1Qn1bbJPToaN/XTfJOwuA7U5/RpPfM7MS5OTiM4JoafRlVOcKzxEBm/I3Wv9\n",
       "aGf1oM24wHZpBFjot3CAArivOMeAO3KhmOLQRlbykxKKo2pWcgJOgLVpbIRcHT1ChJLQ2SFQB3+6\n",
       "gkOB5U0XZ72JDpHMeANWKM7B525O3qkKhdDCmWxSHPKLTlVwfgOFnItD2ehIqMWSUmQ9nKcVBY+y\n",
       "fXzaDLNDsQmxnwsc3eYkXRy6BuUYv6rSllKc4xNyD+XDE++VfbccO2YvwolnTnLCo9D+AEfGPJzg\n",
       "rBzHd6rWheT4TU02STmJeuWwT8VlvYBTn1/AW1v3JpmT9XAiaacIMqlZxaFrK3Ms4JxqvSk5NdJt\n",
       "cYx6AzpLhCD3zn76SpyCNx7DUT5+GEpVcC7xiZsBumTiorJbQmnkG1l+nXxM9dGac9AzpuiDvLsP\n",
       "bHNOWwL+klBnoTjNxOEC3SSOLG2kSe7KhFZSq4RpvegrO9XUjHQCutx9jRFoYsvFecX50Nr6Y7dQ\n",
       "66jYTvpUPMUWOdJnl3O+CJ5Pyb4+CmSgOxyhglnETFv5Wuy8yW2shlBUzFVsVqD6SNdCml19tOwW\n",
       "YVbTiF4K+7Y6P5GcvkYeepsj1GnDaBeKjnc+qZeZMw2hehBrZDN/Vq+Xrvksu8ZfIzQmzGID2IyK\n",
       "c6o/HE8gYr8ZAxtm9rJ6Y1llVh8Neo9eFwFlrG1CaUabyZMYOi9dcYJKLFSn0ScdhofeV3L4Wvh9\n",
       "WETVmF5VpYObk8USKgqvqtKBObE6+U0fwxLqOzyqWgfqMXtGvTZCzvPFVNKrqnXQ14qhZ8/y/j8I\n",
       "3qX++Av06Pg+eBqaxgAAAABJRU5ErkJggg==\n",
       "\" style=\"display:inline;vertical-align:middle;\" /></a><br>"
      ],
      "text/plain": [
       "Digit: {0, 1, 2, 3, 4, 5, 6, 7, 8, 9}"
      ]
     },
     "execution_count": 15,
     "metadata": {},
     "output_type": "execute_result"
    }
   ],
   "source": [
    "Digit = Set(zero, one, two, three, four, five, six, seven, eight, nine)"
   ]
  },
  {
   "cell_type": "code",
   "execution_count": null,
   "metadata": {},
   "outputs": [],
   "source": [
    "nines = num(9999999999)"
   ]
  },
  {
   "cell_type": "code",
   "execution_count": null,
   "metadata": {},
   "outputs": [],
   "source": [
    "md_only_nine_add_one.specialize({k: five}, assumptions=[])"
   ]
  },
  {
   "cell_type": "code",
   "execution_count": null,
   "metadata": {},
   "outputs": [],
   "source": [
    "number = num(9999993)"
   ]
  },
  {
   "cell_type": "code",
   "execution_count": null,
   "metadata": {},
   "outputs": [],
   "source": []
  },
  {
   "cell_type": "code",
   "execution_count": null,
   "metadata": {},
   "outputs": [],
   "source": [
    "Add(number, one)._integerBinaryEval(assumptions=[InSet(one, Digit), InSet(four, Digit), InSet(three, Digit), \n",
    "                                                 InSet(nine, Digit)])"
   ]
  },
  {
   "cell_type": "code",
   "execution_count": 23,
   "metadata": {},
   "outputs": [
    {
     "ename": "InstantiationFailure",
     "evalue": "Proof step failed assuming {9 in {0, 1, 2, 3, 4, 5, 6, 7, 8, 9}, 3 in {0, 1, 2, 3, 4, 5, 6, 7, 8, 9}, 1 in {0, 1, 2, 3, 4, 5, 6, 7, 8, 9}, 4 in {0, 1, 2, 3, 4, 5, 6, 7, 8, 9}}:\nAttempting to instantiate |- forall_{m in Naturals, k in Naturals} [forall_{a_{1} in {0, 1, 2, 3, 4, 5, 6, 7, 8, 9}, ..a_{_a} in {0, 1, 2, 3, 4, 5, 6, 7, 8, 9}.., a_{m} in {0, 1, 2, 3, 4, 5, 6, 7, 8, 9}, b in {0, 1, 2, 3, 4, 5, 6, 7, 8, 9} | b < 9} ((\\# (a_{1} ~ ..a_{_a}.. ~ a_{m} ~ b ~ 9 ~ ..k repeats.. ~ 9) + 1) = \\# (a_{1} ~ ..a_{_a}.. ~ a_{m} ~ (b + 1) ~ 0 ~ ..k repeats.. ~ 0))] with {m: 4, k: 4, a: (3, 8, 6, 7), b: 4, (a_{1}, ..a_{_a}.., a_{4}): (3, 8, 6, 7)}:\nUnsatisfied condition: 8 in {0, 1, 2, 3, 4, 5, 6, 7, 8, 9}",
     "output_type": "error",
     "traceback": [
      "\u001b[1;31m---------------------------------------------------------------------------\u001b[0m",
      "\u001b[1;31mProofFailure\u001b[0m                              Traceback (most recent call last)",
      "\u001b[1;32mc:\\users\\joaqu\\prove-it\\packages\\proveit\\_core_\\expression\\expr.py\u001b[0m in \u001b[0;36mprove\u001b[1;34m(self, assumptions, automation)\u001b[0m\n\u001b[0;32m    594\u001b[0m                     \u001b[1;31m# first attempt to prove via implication\u001b[0m\u001b[1;33m\u001b[0m\u001b[1;33m\u001b[0m\u001b[1;33m\u001b[0m\u001b[0m\n\u001b[1;32m--> 595\u001b[1;33m                     \u001b[0mconcludedTruth\u001b[0m \u001b[1;33m=\u001b[0m \u001b[0mself\u001b[0m\u001b[1;33m.\u001b[0m\u001b[0mconcludeViaImplication\u001b[0m\u001b[1;33m(\u001b[0m\u001b[0massumptions\u001b[0m\u001b[1;33m)\u001b[0m\u001b[1;33m\u001b[0m\u001b[1;33m\u001b[0m\u001b[0m\n\u001b[0m\u001b[0;32m    596\u001b[0m                 \u001b[1;32mexcept\u001b[0m \u001b[0mProofFailure\u001b[0m\u001b[1;33m:\u001b[0m\u001b[1;33m\u001b[0m\u001b[1;33m\u001b[0m\u001b[0m\n",
      "\u001b[1;32mc:\\users\\joaqu\\prove-it\\packages\\proveit\\_core_\\expression\\expr.py\u001b[0m in \u001b[0;36mconcludeViaImplication\u001b[1;34m(self, assumptions)\u001b[0m\n\u001b[0;32m    671\u001b[0m         \u001b[1;32mfrom\u001b[0m \u001b[0mproveit\u001b[0m\u001b[1;33m.\u001b[0m\u001b[0mlogic\u001b[0m \u001b[1;32mimport\u001b[0m \u001b[0mconcludeViaImplication\u001b[0m\u001b[1;33m\u001b[0m\u001b[1;33m\u001b[0m\u001b[0m\n\u001b[1;32m--> 672\u001b[1;33m         \u001b[1;32mreturn\u001b[0m \u001b[0mconcludeViaImplication\u001b[0m\u001b[1;33m(\u001b[0m\u001b[0mself\u001b[0m\u001b[1;33m,\u001b[0m \u001b[0massumptions\u001b[0m\u001b[1;33m)\u001b[0m\u001b[1;33m\u001b[0m\u001b[1;33m\u001b[0m\u001b[0m\n\u001b[0m\u001b[0;32m    673\u001b[0m \u001b[1;33m\u001b[0m\u001b[0m\n",
      "\u001b[1;32mc:\\users\\joaqu\\prove-it\\packages\\proveit\\logic\\boolean\\implication\\implies.py\u001b[0m in \u001b[0;36mconcludeViaImplication\u001b[1;34m(consequent, assumptions)\u001b[0m\n\u001b[0;32m    312\u001b[0m                         \u001b[0mqueue\u001b[0m\u001b[1;33m.\u001b[0m\u001b[0mappend\u001b[0m\u001b[1;33m(\u001b[0m\u001b[0mlocal_antecedent\u001b[0m\u001b[1;33m)\u001b[0m\u001b[1;33m\u001b[0m\u001b[1;33m\u001b[0m\u001b[0m\n\u001b[1;32m--> 313\u001b[1;33m     \u001b[1;32mraise\u001b[0m \u001b[0mProofFailure\u001b[0m\u001b[1;33m(\u001b[0m\u001b[0mconsequent\u001b[0m\u001b[1;33m,\u001b[0m \u001b[0massumptions\u001b[0m\u001b[1;33m,\u001b[0m \u001b[1;34m'Unable to conclude via implications'\u001b[0m\u001b[1;33m)\u001b[0m\u001b[1;33m\u001b[0m\u001b[1;33m\u001b[0m\u001b[0m\n\u001b[0m\u001b[0;32m    314\u001b[0m \u001b[1;33m\u001b[0m\u001b[0m\n",
      "\u001b[1;31mProofFailure\u001b[0m: Unable to prove 8 in {0, 1, 2, 3, 4, 5, 6, 7, 8, 9} assuming {9 in {0, 1, 2, 3, 4, 5, 6, 7, 8, 9}, 3 in {0, 1, 2, 3, 4, 5, 6, 7, 8, 9}, 1 in {0, 1, 2, 3, 4, 5, 6, 7, 8, 9}, 4 in {0, 1, 2, 3, 4, 5, 6, 7, 8, 9}}:\nUnable to conclude via implications",
      "\nDuring handling of the above exception, another exception occurred:\n",
      "\u001b[1;31mProofFailure\u001b[0m                              Traceback (most recent call last)",
      "\u001b[1;32mc:\\users\\joaqu\\prove-it\\packages\\proveit\\_core_\\expression\\expr.py\u001b[0m in \u001b[0;36mprove\u001b[1;34m(self, assumptions, automation)\u001b[0m\n\u001b[0;32m    594\u001b[0m                     \u001b[1;31m# first attempt to prove via implication\u001b[0m\u001b[1;33m\u001b[0m\u001b[1;33m\u001b[0m\u001b[1;33m\u001b[0m\u001b[0m\n\u001b[1;32m--> 595\u001b[1;33m                     \u001b[0mconcludedTruth\u001b[0m \u001b[1;33m=\u001b[0m \u001b[0mself\u001b[0m\u001b[1;33m.\u001b[0m\u001b[0mconcludeViaImplication\u001b[0m\u001b[1;33m(\u001b[0m\u001b[0massumptions\u001b[0m\u001b[1;33m)\u001b[0m\u001b[1;33m\u001b[0m\u001b[1;33m\u001b[0m\u001b[0m\n\u001b[0m\u001b[0;32m    596\u001b[0m                 \u001b[1;32mexcept\u001b[0m \u001b[0mProofFailure\u001b[0m\u001b[1;33m:\u001b[0m\u001b[1;33m\u001b[0m\u001b[1;33m\u001b[0m\u001b[0m\n",
      "\u001b[1;32mc:\\users\\joaqu\\prove-it\\packages\\proveit\\_core_\\expression\\expr.py\u001b[0m in \u001b[0;36mconcludeViaImplication\u001b[1;34m(self, assumptions)\u001b[0m\n\u001b[0;32m    671\u001b[0m         \u001b[1;32mfrom\u001b[0m \u001b[0mproveit\u001b[0m\u001b[1;33m.\u001b[0m\u001b[0mlogic\u001b[0m \u001b[1;32mimport\u001b[0m \u001b[0mconcludeViaImplication\u001b[0m\u001b[1;33m\u001b[0m\u001b[1;33m\u001b[0m\u001b[0m\n\u001b[1;32m--> 672\u001b[1;33m         \u001b[1;32mreturn\u001b[0m \u001b[0mconcludeViaImplication\u001b[0m\u001b[1;33m(\u001b[0m\u001b[0mself\u001b[0m\u001b[1;33m,\u001b[0m \u001b[0massumptions\u001b[0m\u001b[1;33m)\u001b[0m\u001b[1;33m\u001b[0m\u001b[1;33m\u001b[0m\u001b[0m\n\u001b[0m\u001b[0;32m    673\u001b[0m \u001b[1;33m\u001b[0m\u001b[0m\n",
      "\u001b[1;32mc:\\users\\joaqu\\prove-it\\packages\\proveit\\logic\\boolean\\implication\\implies.py\u001b[0m in \u001b[0;36mconcludeViaImplication\u001b[1;34m(consequent, assumptions)\u001b[0m\n\u001b[0;32m    312\u001b[0m                         \u001b[0mqueue\u001b[0m\u001b[1;33m.\u001b[0m\u001b[0mappend\u001b[0m\u001b[1;33m(\u001b[0m\u001b[0mlocal_antecedent\u001b[0m\u001b[1;33m)\u001b[0m\u001b[1;33m\u001b[0m\u001b[1;33m\u001b[0m\u001b[0m\n\u001b[1;32m--> 313\u001b[1;33m     \u001b[1;32mraise\u001b[0m \u001b[0mProofFailure\u001b[0m\u001b[1;33m(\u001b[0m\u001b[0mconsequent\u001b[0m\u001b[1;33m,\u001b[0m \u001b[0massumptions\u001b[0m\u001b[1;33m,\u001b[0m \u001b[1;34m'Unable to conclude via implications'\u001b[0m\u001b[1;33m)\u001b[0m\u001b[1;33m\u001b[0m\u001b[1;33m\u001b[0m\u001b[0m\n\u001b[0m\u001b[0;32m    314\u001b[0m \u001b[1;33m\u001b[0m\u001b[0m\n",
      "\u001b[1;31mProofFailure\u001b[0m: Unable to prove 10 in Naturals assuming {9 in {0, 1, 2, 3, 4, 5, 6, 7, 8, 9}, 3 in {0, 1, 2, 3, 4, 5, 6, 7, 8, 9}, 1 in {0, 1, 2, 3, 4, 5, 6, 7, 8, 9}, 4 in {0, 1, 2, 3, 4, 5, 6, 7, 8, 9}}:\nUnable to conclude via implications",
      "\nDuring handling of the above exception, another exception occurred:\n",
      "\u001b[1;31mProofFailure\u001b[0m                              Traceback (most recent call last)",
      "\u001b[1;32mc:\\users\\joaqu\\prove-it\\packages\\proveit\\_core_\\proof.py\u001b[0m in \u001b[0;36m_instantiated_expr\u001b[1;34m(original_known_truth, num_forall_eliminations, instantiation_params, repl_map, equiv_alt_expansions, assumptions, requirements, equality_repl_requirements)\u001b[0m\n\u001b[0;32m   1242\u001b[0m                     \u001b[1;32mtry\u001b[0m\u001b[1;33m:\u001b[0m\u001b[1;33m\u001b[0m\u001b[1;33m\u001b[0m\u001b[0m\n\u001b[1;32m-> 1243\u001b[1;33m                         \u001b[0mrequirements\u001b[0m\u001b[1;33m.\u001b[0m\u001b[0mappend\u001b[0m\u001b[1;33m(\u001b[0m\u001b[0msubbed_cond\u001b[0m\u001b[1;33m.\u001b[0m\u001b[0mprove\u001b[0m\u001b[1;33m(\u001b[0m\u001b[0massumptions\u001b[0m\u001b[1;33m)\u001b[0m\u001b[1;33m)\u001b[0m\u001b[1;33m\u001b[0m\u001b[1;33m\u001b[0m\u001b[0m\n\u001b[0m\u001b[0;32m   1244\u001b[0m                     \u001b[1;32mexcept\u001b[0m \u001b[0mProofFailure\u001b[0m\u001b[1;33m:\u001b[0m\u001b[1;33m\u001b[0m\u001b[1;33m\u001b[0m\u001b[0m\n",
      "\u001b[1;32mc:\\users\\joaqu\\prove-it\\packages\\proveit\\_core_\\expression\\expr.py\u001b[0m in \u001b[0;36mprove\u001b[1;34m(self, assumptions, automation)\u001b[0m\n\u001b[0;32m    597\u001b[0m                     \u001b[1;31m# try the 'conclude' method of the specific Expression class\u001b[0m\u001b[1;33m\u001b[0m\u001b[1;33m\u001b[0m\u001b[1;33m\u001b[0m\u001b[0m\n\u001b[1;32m--> 598\u001b[1;33m                     \u001b[0mconcludedTruth\u001b[0m \u001b[1;33m=\u001b[0m \u001b[0mself\u001b[0m\u001b[1;33m.\u001b[0m\u001b[0mconclude\u001b[0m\u001b[1;33m(\u001b[0m\u001b[0massumptions\u001b[0m\u001b[1;33m)\u001b[0m\u001b[1;33m\u001b[0m\u001b[1;33m\u001b[0m\u001b[0m\n\u001b[0m\u001b[0;32m    599\u001b[0m             \u001b[1;32mif\u001b[0m \u001b[0mconcludedTruth\u001b[0m \u001b[1;32mis\u001b[0m \u001b[1;32mNone\u001b[0m\u001b[1;33m:\u001b[0m\u001b[1;33m\u001b[0m\u001b[1;33m\u001b[0m\u001b[0m\n",
      "\u001b[1;32mc:\\users\\joaqu\\prove-it\\packages\\proveit\\logic\\set_theory\\membership\\in_set.py\u001b[0m in \u001b[0;36mconclude\u001b[1;34m(self, assumptions)\u001b[0m\n\u001b[0;32m    137\u001b[0m             \u001b[1;32mif\u001b[0m \u001b[0mhasattr\u001b[0m\u001b[1;33m(\u001b[0m\u001b[0mself\u001b[0m\u001b[1;33m,\u001b[0m \u001b[1;34m'membershipObject'\u001b[0m\u001b[1;33m)\u001b[0m\u001b[1;33m:\u001b[0m\u001b[1;33m\u001b[0m\u001b[1;33m\u001b[0m\u001b[0m\n\u001b[1;32m--> 138\u001b[1;33m                 \u001b[1;32mreturn\u001b[0m \u001b[0mself\u001b[0m\u001b[1;33m.\u001b[0m\u001b[0mmembershipObject\u001b[0m\u001b[1;33m.\u001b[0m\u001b[0mconclude\u001b[0m\u001b[1;33m(\u001b[0m\u001b[0massumptions\u001b[0m\u001b[1;33m)\u001b[0m\u001b[1;33m\u001b[0m\u001b[1;33m\u001b[0m\u001b[0m\n\u001b[0m\u001b[0;32m    139\u001b[0m \u001b[1;33m\u001b[0m\u001b[0m\n",
      "\u001b[1;32mc:\\users\\joaqu\\prove-it\\packages\\proveit\\number\\sets\\number_set.py\u001b[0m in \u001b[0;36mconclude\u001b[1;34m(self, assumptions)\u001b[0m\n\u001b[0;32m     84\u001b[0m             raise ProofFailure(InSet(self.element, self.number_set), \n\u001b[1;32m---> 85\u001b[1;33m                                 assumptions, msg)\n\u001b[0m\u001b[0;32m     86\u001b[0m \u001b[1;33m\u001b[0m\u001b[0m\n",
      "\u001b[1;31mProofFailure\u001b[0m: Unable to prove 10 in Naturals assuming {9 in {0, 1, 2, 3, 4, 5, 6, 7, 8, 9}, 3 in {0, 1, 2, 3, 4, 5, 6, 7, 8, 9}, 1 in {0, 1, 2, 3, 4, 5, 6, 7, 8, 9}, 4 in {0, 1, 2, 3, 4, 5, 6, 7, 8, 9}}:\n10 has no 'deduceInNumberSet' method.",
      "\nDuring handling of the above exception, another exception occurred:\n",
      "\u001b[1;31mInstantiationFailure\u001b[0m                      Traceback (most recent call last)",
      "\u001b[1;32mc:\\users\\joaqu\\prove-it\\packages\\proveit\\_core_\\proof.py\u001b[0m in \u001b[0;36m_instantiated_expr\u001b[1;34m(original_known_truth, num_forall_eliminations, instantiation_params, repl_map, equiv_alt_expansions, assumptions, requirements, equality_repl_requirements)\u001b[0m\n\u001b[0;32m   1242\u001b[0m                     \u001b[1;32mtry\u001b[0m\u001b[1;33m:\u001b[0m\u001b[1;33m\u001b[0m\u001b[1;33m\u001b[0m\u001b[0m\n\u001b[1;32m-> 1243\u001b[1;33m                         \u001b[0mrequirements\u001b[0m\u001b[1;33m.\u001b[0m\u001b[0mappend\u001b[0m\u001b[1;33m(\u001b[0m\u001b[0msubbed_cond\u001b[0m\u001b[1;33m.\u001b[0m\u001b[0mprove\u001b[0m\u001b[1;33m(\u001b[0m\u001b[0massumptions\u001b[0m\u001b[1;33m)\u001b[0m\u001b[1;33m)\u001b[0m\u001b[1;33m\u001b[0m\u001b[1;33m\u001b[0m\u001b[0m\n\u001b[0m\u001b[0;32m   1244\u001b[0m                     \u001b[1;32mexcept\u001b[0m \u001b[0mProofFailure\u001b[0m\u001b[1;33m:\u001b[0m\u001b[1;33m\u001b[0m\u001b[1;33m\u001b[0m\u001b[0m\n",
      "\u001b[1;32mc:\\users\\joaqu\\prove-it\\packages\\proveit\\_core_\\expression\\expr.py\u001b[0m in \u001b[0;36mprove\u001b[1;34m(self, assumptions, automation)\u001b[0m\n\u001b[0;32m    597\u001b[0m                     \u001b[1;31m# try the 'conclude' method of the specific Expression class\u001b[0m\u001b[1;33m\u001b[0m\u001b[1;33m\u001b[0m\u001b[1;33m\u001b[0m\u001b[0m\n\u001b[1;32m--> 598\u001b[1;33m                     \u001b[0mconcludedTruth\u001b[0m \u001b[1;33m=\u001b[0m \u001b[0mself\u001b[0m\u001b[1;33m.\u001b[0m\u001b[0mconclude\u001b[0m\u001b[1;33m(\u001b[0m\u001b[0massumptions\u001b[0m\u001b[1;33m)\u001b[0m\u001b[1;33m\u001b[0m\u001b[1;33m\u001b[0m\u001b[0m\n\u001b[0m\u001b[0;32m    599\u001b[0m             \u001b[1;32mif\u001b[0m \u001b[0mconcludedTruth\u001b[0m \u001b[1;32mis\u001b[0m \u001b[1;32mNone\u001b[0m\u001b[1;33m:\u001b[0m\u001b[1;33m\u001b[0m\u001b[1;33m\u001b[0m\u001b[0m\n",
      "\u001b[1;32mc:\\users\\joaqu\\prove-it\\packages\\proveit\\logic\\set_theory\\membership\\in_set.py\u001b[0m in \u001b[0;36mconclude\u001b[1;34m(self, assumptions)\u001b[0m\n\u001b[0;32m    137\u001b[0m             \u001b[1;32mif\u001b[0m \u001b[0mhasattr\u001b[0m\u001b[1;33m(\u001b[0m\u001b[0mself\u001b[0m\u001b[1;33m,\u001b[0m \u001b[1;34m'membershipObject'\u001b[0m\u001b[1;33m)\u001b[0m\u001b[1;33m:\u001b[0m\u001b[1;33m\u001b[0m\u001b[1;33m\u001b[0m\u001b[0m\n\u001b[1;32m--> 138\u001b[1;33m                 \u001b[1;32mreturn\u001b[0m \u001b[0mself\u001b[0m\u001b[1;33m.\u001b[0m\u001b[0mmembershipObject\u001b[0m\u001b[1;33m.\u001b[0m\u001b[0mconclude\u001b[0m\u001b[1;33m(\u001b[0m\u001b[0massumptions\u001b[0m\u001b[1;33m)\u001b[0m\u001b[1;33m\u001b[0m\u001b[1;33m\u001b[0m\u001b[0m\n\u001b[0m\u001b[0;32m    139\u001b[0m \u001b[1;33m\u001b[0m\u001b[0m\n",
      "\u001b[1;32mc:\\users\\joaqu\\prove-it\\packages\\proveit\\logic\\set_theory\\enumeration\\enum_membership.py\u001b[0m in \u001b[0;36mconclude\u001b[1;34m(self, assumptions)\u001b[0m\n\u001b[0;32m     33\u001b[0m         \u001b[1;32melse\u001b[0m\u001b[1;33m:\u001b[0m\u001b[1;33m\u001b[0m\u001b[1;33m\u001b[0m\u001b[0m\n\u001b[1;32m---> 34\u001b[1;33m             \u001b[1;32mreturn\u001b[0m \u001b[0mfold\u001b[0m\u001b[1;33m.\u001b[0m\u001b[0minstantiate\u001b[0m\u001b[1;33m(\u001b[0m\u001b[1;33m{\u001b[0m\u001b[0mn\u001b[0m\u001b[1;33m:\u001b[0m\u001b[0mnum\u001b[0m\u001b[1;33m(\u001b[0m\u001b[0mlen\u001b[0m\u001b[1;33m(\u001b[0m\u001b[0menum_elements\u001b[0m\u001b[1;33m)\u001b[0m\u001b[1;33m)\u001b[0m\u001b[1;33m,\u001b[0m \u001b[0mx\u001b[0m\u001b[1;33m:\u001b[0m\u001b[0mself\u001b[0m\u001b[1;33m.\u001b[0m\u001b[0melement\u001b[0m\u001b[1;33m,\u001b[0m \u001b[0my\u001b[0m\u001b[1;33m:\u001b[0m\u001b[0menum_elements\u001b[0m\u001b[1;33m}\u001b[0m\u001b[1;33m,\u001b[0m \u001b[0massumptions\u001b[0m\u001b[1;33m=\u001b[0m\u001b[0massumptions\u001b[0m\u001b[1;33m)\u001b[0m\u001b[1;33m\u001b[0m\u001b[1;33m\u001b[0m\u001b[0m\n\u001b[0m\u001b[0;32m     35\u001b[0m \u001b[1;33m\u001b[0m\u001b[0m\n",
      "\u001b[1;32mc:\\users\\joaqu\\prove-it\\packages\\proveit\\_core_\\known_truth.py\u001b[0m in \u001b[0;36minstantiate\u001b[1;34m(self, repl_map, num_forall_eliminations, assumptions)\u001b[0m\n\u001b[0;32m    898\u001b[0m                               \u001b[0mequiv_alt_expansions\u001b[0m\u001b[1;33m=\u001b[0m\u001b[0mequiv_alt_expansions\u001b[0m\u001b[1;33m,\u001b[0m\u001b[1;33m\u001b[0m\u001b[1;33m\u001b[0m\u001b[0m\n\u001b[1;32m--> 899\u001b[1;33m                               assumptions=assumptions))\n\u001b[0m\u001b[0;32m    900\u001b[0m \u001b[1;33m\u001b[0m\u001b[0m\n",
      "\u001b[1;32mc:\\users\\joaqu\\prove-it\\packages\\proveit\\_core_\\proof.py\u001b[0m in \u001b[0;36m__init__\u001b[1;34m(self, orig_known_truth, num_forall_eliminations, repl_map, equiv_alt_expansions, assumptions)\u001b[0m\n\u001b[0;32m    944\u001b[0m                         \u001b[0massumptions\u001b[0m\u001b[1;33m,\u001b[0m \u001b[0mrequirements\u001b[0m\u001b[1;33m,\u001b[0m\u001b[1;33m\u001b[0m\u001b[1;33m\u001b[0m\u001b[0m\n\u001b[1;32m--> 945\u001b[1;33m                         equality_repl_requirements)\n\u001b[0m\u001b[0;32m    946\u001b[0m \u001b[1;33m\u001b[0m\u001b[0m\n",
      "\u001b[1;32mc:\\users\\joaqu\\prove-it\\packages\\proveit\\_core_\\proof.py\u001b[0m in \u001b[0;36m_instantiated_expr\u001b[1;34m(original_known_truth, num_forall_eliminations, instantiation_params, repl_map, equiv_alt_expansions, assumptions, requirements, equality_repl_requirements)\u001b[0m\n\u001b[0;32m   1245\u001b[0m                         raiseFailure('Unsatisfied condition: %s'\n\u001b[1;32m-> 1246\u001b[1;33m                                      %str(subbed_cond))\n\u001b[0m\u001b[0;32m   1247\u001b[0m \u001b[1;33m\u001b[0m\u001b[0m\n",
      "\u001b[1;32mc:\\users\\joaqu\\prove-it\\packages\\proveit\\_core_\\proof.py\u001b[0m in \u001b[0;36mraiseFailure\u001b[1;34m(msg)\u001b[0m\n\u001b[0;32m   1114\u001b[0m             raise InstantiationFailure(original_known_truth, repl_map,\n\u001b[1;32m-> 1115\u001b[1;33m                                        assumptions, msg)\n\u001b[0m\u001b[0;32m   1116\u001b[0m         instantiation_param_vars = [getParamVar(param) for param\n",
      "\u001b[1;31mInstantiationFailure\u001b[0m: Proof step failed assuming {9 in {0, 1, 2, 3, 4, 5, 6, 7, 8, 9}, 3 in {0, 1, 2, 3, 4, 5, 6, 7, 8, 9}, 1 in {0, 1, 2, 3, 4, 5, 6, 7, 8, 9}, 4 in {0, 1, 2, 3, 4, 5, 6, 7, 8, 9}}:\nAttempting to instantiate |- forall_{n in Naturals} [forall_{x, y_{1}, ..y_{_a}.., y_{n} | (x = y_{1}) or ..(x = y_{i}).. or (x = y_{n})} (x in {y_{1}, ..y_{_a}.., y_{n}})] with {n: 10, x: 8, y: (0, 1, 2, 3, 4, 5, 6, 7, 8, 9)}:\nUnsatisfied condition: 10 in Naturals",
      "\nDuring handling of the above exception, another exception occurred:\n",
      "\u001b[1;31mInstantiationFailure\u001b[0m                      Traceback (most recent call last)",
      "\u001b[1;32m<ipython-input-23-92c7dcad5c9a>\u001b[0m in \u001b[0;36m<module>\u001b[1;34m\u001b[0m\n\u001b[1;32m----> 1\u001b[1;33m \u001b[0mnumber\u001b[0m\u001b[1;33m.\u001b[0m\u001b[0mnumAddEval\u001b[0m\u001b[1;33m(\u001b[0m\u001b[0mone\u001b[0m\u001b[1;33m,\u001b[0m \u001b[0massumptions\u001b[0m\u001b[1;33m=\u001b[0m\u001b[1;33m[\u001b[0m\u001b[0mInSet\u001b[0m\u001b[1;33m(\u001b[0m\u001b[0mnine\u001b[0m\u001b[1;33m,\u001b[0m \u001b[0mDigit\u001b[0m\u001b[1;33m)\u001b[0m\u001b[1;33m,\u001b[0m \u001b[0mInSet\u001b[0m\u001b[1;33m(\u001b[0m\u001b[0mthree\u001b[0m\u001b[1;33m,\u001b[0m \u001b[0mDigit\u001b[0m\u001b[1;33m)\u001b[0m\u001b[1;33m,\u001b[0m \u001b[0mInSet\u001b[0m\u001b[1;33m(\u001b[0m\u001b[0mone\u001b[0m\u001b[1;33m,\u001b[0m \u001b[0mDigit\u001b[0m\u001b[1;33m)\u001b[0m\u001b[1;33m,\u001b[0m \u001b[0mInSet\u001b[0m\u001b[1;33m(\u001b[0m\u001b[0mfour\u001b[0m\u001b[1;33m,\u001b[0m \u001b[0mDigit\u001b[0m\u001b[1;33m)\u001b[0m\u001b[1;33m]\u001b[0m\u001b[1;33m)\u001b[0m\u001b[1;33m\u001b[0m\u001b[1;33m\u001b[0m\u001b[0m\n\u001b[0m",
      "\u001b[1;32mc:\\users\\joaqu\\prove-it\\packages\\proveit\\number\\numeral\\deci\\deci.py\u001b[0m in \u001b[0;36mnumAddEval\u001b[1;34m(self, num2, assumptions)\u001b[0m\n\u001b[0;32m     63\u001b[0m             \u001b[0m_a\u001b[0m \u001b[1;33m=\u001b[0m \u001b[0mnum2\u001b[0m\u001b[1;33m.\u001b[0m\u001b[0mdigits\u001b[0m\u001b[1;33m[\u001b[0m\u001b[1;33m:\u001b[0m\u001b[1;33m-\u001b[0m\u001b[1;33m(\u001b[0m\u001b[0mcount\u001b[0m \u001b[1;33m+\u001b[0m \u001b[1;36m1\u001b[0m\u001b[1;33m)\u001b[0m\u001b[1;33m]\u001b[0m\u001b[1;33m\u001b[0m\u001b[1;33m\u001b[0m\u001b[0m\n\u001b[0;32m     64\u001b[0m             \u001b[0m_b\u001b[0m \u001b[1;33m=\u001b[0m \u001b[0mnum2\u001b[0m\u001b[1;33m.\u001b[0m\u001b[0mdigits\u001b[0m\u001b[1;33m[\u001b[0m\u001b[1;33m-\u001b[0m\u001b[1;33m(\u001b[0m\u001b[0mcount\u001b[0m \u001b[1;33m+\u001b[0m \u001b[1;36m1\u001b[0m\u001b[1;33m)\u001b[0m\u001b[1;33m]\u001b[0m\u001b[1;33m\u001b[0m\u001b[1;33m\u001b[0m\u001b[0m\n\u001b[1;32m---> 65\u001b[1;33m             \u001b[1;32mreturn\u001b[0m \u001b[0mmd_nine_add_one\u001b[0m\u001b[1;33m.\u001b[0m\u001b[0mspecialize\u001b[0m\u001b[1;33m(\u001b[0m\u001b[1;33m{\u001b[0m\u001b[0mm\u001b[0m\u001b[1;33m:\u001b[0m \u001b[0m_m\u001b[0m\u001b[1;33m,\u001b[0m \u001b[0mk\u001b[0m\u001b[1;33m:\u001b[0m \u001b[0m_k\u001b[0m\u001b[1;33m,\u001b[0m \u001b[0ma\u001b[0m\u001b[1;33m:\u001b[0m \u001b[0m_a\u001b[0m\u001b[1;33m,\u001b[0m \u001b[0mb\u001b[0m\u001b[1;33m:\u001b[0m \u001b[0m_b\u001b[0m\u001b[1;33m}\u001b[0m\u001b[1;33m,\u001b[0m \u001b[0massumptions\u001b[0m\u001b[1;33m=\u001b[0m\u001b[0massumptions\u001b[0m\u001b[1;33m)\u001b[0m\u001b[1;33m\u001b[0m\u001b[1;33m\u001b[0m\u001b[0m\n\u001b[0m\u001b[0;32m     66\u001b[0m         \u001b[1;32melse\u001b[0m\u001b[1;33m:\u001b[0m\u001b[1;33m\u001b[0m\u001b[1;33m\u001b[0m\u001b[0m\n\u001b[0;32m     67\u001b[0m             \u001b[1;31m# the last digit is not nine\u001b[0m\u001b[1;33m\u001b[0m\u001b[1;33m\u001b[0m\u001b[1;33m\u001b[0m\u001b[0m\n",
      "\u001b[1;32mc:\\users\\joaqu\\prove-it\\packages\\proveit\\_core_\\known_truth.py\u001b[0m in \u001b[0;36mspecialize\u001b[1;34m(self, repl_map, relabel_map, assumptions)\u001b[0m\n\u001b[0;32m    739\u001b[0m             \u001b[0mrepl_map\u001b[0m \u001b[1;33m=\u001b[0m \u001b[0mdict\u001b[0m\u001b[1;33m(\u001b[0m\u001b[1;33m)\u001b[0m\u001b[1;33m\u001b[0m\u001b[1;33m\u001b[0m\u001b[0m\n\u001b[0;32m    740\u001b[0m             \u001b[0mrepl_map\u001b[0m\u001b[1;33m.\u001b[0m\u001b[0mupdate\u001b[0m\u001b[1;33m(\u001b[0m\u001b[0mrelabel_map\u001b[0m\u001b[1;33m)\u001b[0m\u001b[1;33m\u001b[0m\u001b[1;33m\u001b[0m\u001b[0m\n\u001b[1;32m--> 741\u001b[1;33m         \u001b[1;32mreturn\u001b[0m \u001b[0mself\u001b[0m\u001b[1;33m.\u001b[0m\u001b[0minstantiate\u001b[0m\u001b[1;33m(\u001b[0m\u001b[0mrepl_map\u001b[0m\u001b[1;33m,\u001b[0m \u001b[0massumptions\u001b[0m\u001b[1;33m=\u001b[0m\u001b[0massumptions\u001b[0m\u001b[1;33m)\u001b[0m\u001b[1;33m\u001b[0m\u001b[1;33m\u001b[0m\u001b[0m\n\u001b[0m\u001b[0;32m    742\u001b[0m \u001b[1;33m\u001b[0m\u001b[0m\n\u001b[0;32m    743\u001b[0m \u001b[1;33m\u001b[0m\u001b[0m\n",
      "\u001b[1;32mc:\\users\\joaqu\\prove-it\\packages\\proveit\\_core_\\known_truth.py\u001b[0m in \u001b[0;36minstantiate\u001b[1;34m(self, repl_map, num_forall_eliminations, assumptions)\u001b[0m\n\u001b[0;32m    897\u001b[0m                               \u001b[0mrepl_map\u001b[0m\u001b[1;33m=\u001b[0m\u001b[0mprocessed_repl_map\u001b[0m\u001b[1;33m,\u001b[0m\u001b[1;33m\u001b[0m\u001b[1;33m\u001b[0m\u001b[0m\n\u001b[0;32m    898\u001b[0m                               \u001b[0mequiv_alt_expansions\u001b[0m\u001b[1;33m=\u001b[0m\u001b[0mequiv_alt_expansions\u001b[0m\u001b[1;33m,\u001b[0m\u001b[1;33m\u001b[0m\u001b[1;33m\u001b[0m\u001b[0m\n\u001b[1;32m--> 899\u001b[1;33m                               assumptions=assumptions))\n\u001b[0m\u001b[0;32m    900\u001b[0m \u001b[1;33m\u001b[0m\u001b[0m\n\u001b[0;32m    901\u001b[0m     def generalize(self, forall_var_or_vars_or_var_lists, \n",
      "\u001b[1;32mc:\\users\\joaqu\\prove-it\\packages\\proveit\\_core_\\proof.py\u001b[0m in \u001b[0;36m__init__\u001b[1;34m(self, orig_known_truth, num_forall_eliminations, repl_map, equiv_alt_expansions, assumptions)\u001b[0m\n\u001b[0;32m    943\u001b[0m                         \u001b[0mparameters\u001b[0m\u001b[1;33m,\u001b[0m \u001b[0mrepl_map\u001b[0m\u001b[1;33m,\u001b[0m \u001b[0mequiv_alt_expansions\u001b[0m\u001b[1;33m,\u001b[0m\u001b[1;33m\u001b[0m\u001b[1;33m\u001b[0m\u001b[0m\n\u001b[0;32m    944\u001b[0m                         \u001b[0massumptions\u001b[0m\u001b[1;33m,\u001b[0m \u001b[0mrequirements\u001b[0m\u001b[1;33m,\u001b[0m\u001b[1;33m\u001b[0m\u001b[1;33m\u001b[0m\u001b[0m\n\u001b[1;32m--> 945\u001b[1;33m                         equality_repl_requirements)\n\u001b[0m\u001b[0;32m    946\u001b[0m \u001b[1;33m\u001b[0m\u001b[0m\n\u001b[0;32m    947\u001b[0m             \u001b[1;31m# Remove duplicates in the requirements.\u001b[0m\u001b[1;33m\u001b[0m\u001b[1;33m\u001b[0m\u001b[1;33m\u001b[0m\u001b[0m\n",
      "\u001b[1;32mc:\\users\\joaqu\\prove-it\\packages\\proveit\\_core_\\proof.py\u001b[0m in \u001b[0;36m_instantiated_expr\u001b[1;34m(original_known_truth, num_forall_eliminations, instantiation_params, repl_map, equiv_alt_expansions, assumptions, requirements, equality_repl_requirements)\u001b[0m\n\u001b[0;32m   1244\u001b[0m                     \u001b[1;32mexcept\u001b[0m \u001b[0mProofFailure\u001b[0m\u001b[1;33m:\u001b[0m\u001b[1;33m\u001b[0m\u001b[1;33m\u001b[0m\u001b[0m\n\u001b[0;32m   1245\u001b[0m                         raiseFailure('Unsatisfied condition: %s'\n\u001b[1;32m-> 1246\u001b[1;33m                                      %str(subbed_cond))\n\u001b[0m\u001b[0;32m   1247\u001b[0m \u001b[1;33m\u001b[0m\u001b[0m\n\u001b[0;32m   1248\u001b[0m         \u001b[1;31m# Make final instantiations in the inner instance expression.\u001b[0m\u001b[1;33m\u001b[0m\u001b[1;33m\u001b[0m\u001b[1;33m\u001b[0m\u001b[0m\n",
      "\u001b[1;32mc:\\users\\joaqu\\prove-it\\packages\\proveit\\_core_\\proof.py\u001b[0m in \u001b[0;36mraiseFailure\u001b[1;34m(msg)\u001b[0m\n\u001b[0;32m   1113\u001b[0m         \u001b[1;32mdef\u001b[0m \u001b[0mraiseFailure\u001b[0m\u001b[1;33m(\u001b[0m\u001b[0mmsg\u001b[0m\u001b[1;33m)\u001b[0m\u001b[1;33m:\u001b[0m\u001b[1;33m\u001b[0m\u001b[1;33m\u001b[0m\u001b[0m\n\u001b[0;32m   1114\u001b[0m             raise InstantiationFailure(original_known_truth, repl_map,\n\u001b[1;32m-> 1115\u001b[1;33m                                        assumptions, msg)\n\u001b[0m\u001b[0;32m   1116\u001b[0m         instantiation_param_vars = [getParamVar(param) for param\n\u001b[0;32m   1117\u001b[0m                                     in instantiation_params]\n",
      "\u001b[1;31mInstantiationFailure\u001b[0m: Proof step failed assuming {9 in {0, 1, 2, 3, 4, 5, 6, 7, 8, 9}, 3 in {0, 1, 2, 3, 4, 5, 6, 7, 8, 9}, 1 in {0, 1, 2, 3, 4, 5, 6, 7, 8, 9}, 4 in {0, 1, 2, 3, 4, 5, 6, 7, 8, 9}}:\nAttempting to instantiate |- forall_{m in Naturals, k in Naturals} [forall_{a_{1} in {0, 1, 2, 3, 4, 5, 6, 7, 8, 9}, ..a_{_a} in {0, 1, 2, 3, 4, 5, 6, 7, 8, 9}.., a_{m} in {0, 1, 2, 3, 4, 5, 6, 7, 8, 9}, b in {0, 1, 2, 3, 4, 5, 6, 7, 8, 9} | b < 9} ((\\# (a_{1} ~ ..a_{_a}.. ~ a_{m} ~ b ~ 9 ~ ..k repeats.. ~ 9) + 1) = \\# (a_{1} ~ ..a_{_a}.. ~ a_{m} ~ (b + 1) ~ 0 ~ ..k repeats.. ~ 0))] with {m: 4, k: 4, a: (3, 8, 6, 7), b: 4, (a_{1}, ..a_{_a}.., a_{4}): (3, 8, 6, 7)}:\nUnsatisfied condition: 8 in {0, 1, 2, 3, 4, 5, 6, 7, 8, 9}"
     ]
    }
   ],
   "source": [
    "number.numAddEval(one, assumptions=[InSet(nine, Digit), InSet(three, Digit), InSet(one, Digit), InSet(four, Digit)])"
   ]
  },
  {
   "cell_type": "code",
   "execution_count": null,
   "metadata": {},
   "outputs": [],
   "source": [
    "number.digits"
   ]
  },
  {
   "cell_type": "code",
   "execution_count": null,
   "metadata": {},
   "outputs": [],
   "source": [
    "md_nine_add_one"
   ]
  },
  {
   "cell_type": "code",
   "execution_count": 16,
   "metadata": {},
   "outputs": [
    {
     "data": {
      "text/html": [
       "<strong id=\"number\">number:</strong> <a class=\"ProveItLink\" href=\"__pv_it/3dabf03e1346646b3d2bf9375dd7b85cfda32d960/expr.ipynb\"><img src=\"data:image/png;base64,iVBORw0KGgoAAAANSUhEUgAAAFwAAAAPBAMAAACb27UyAAAAMFBMVEX///9UVFTMzMwiIiIQEBAy\n",
       "MjKIiIiqqqqYmJju7u66urpERERmZmZ2dnbc3NwAAAAvvFLTAAAAAXRSTlMAQObYZgAAAAlwSFlz\n",
       "AAAOxAAADsQBlSsOGwAAAcxJREFUKM99kr1PFGEQxp87dm+/PyAWWt2S2NhR+RGbozJHQVYrDQbP\n",
       "UCNbGDvDNhY2uomUkN0/gGJLQ1CWBhKzCYQEabhAQkkMeFHP8zTrvPNCYeOb7C+T2Wdnnpl9gX+P\n",
       "+xr/P18O14CV+U8UdruBVlXVNwrrBVBuJhewy2sXMAq8jVCgFuEkq00498vyFslHfLzr1KcljJu4\n",
       "fsxAo4801GMYIR7Dym3yQ4Ux5+MKsC5Ra8EqGDCn4IVOTnJtQDINqAkvr3x8B44kvBDOOUO4X4zN\n",
       "YWLHaksOs0ePo/rGEFi4IRCkORo9Br0ybwPNH9vwHnwW87o54Zkqq2cMUfgXg/o+HaNq1SzSh1Ai\n",
       "8pLRJ7HK3jdihrD9k8FmIrw8rbL0HHYbOBNeQPKlrN6MGMYUxvsMIVcGeoHFtjcBnbrtU+aNkBtb\n",
       "BwsBA8vzL3oS9QBWX0ng9kdC6NTtLnnpCDmdneQS9kAiHZA8pfiqxdWNrzT86GhzcpdyM7iEmkso\n",
       "PplRjoGPJnlvwfzN26T088TtSWhtnAUM0A+lvT+C3sEHLEXQ/rDcyzGXWLFE4w7eSwCrJV2x8ZJW\n",
       "7pS0UveeUNtPhh2nK3JdvnuHmcRfZsqnP9CL+t4AAAAASUVORK5CYII=\n",
       "\" style=\"display:inline;vertical-align:middle;\" /></a><br>"
      ],
      "text/plain": [
       "number: 386749999"
      ]
     },
     "execution_count": 16,
     "metadata": {},
     "output_type": "execute_result"
    }
   ],
   "source": [
    "number = num(386749999)"
   ]
  },
  {
   "cell_type": "code",
   "execution_count": null,
   "metadata": {},
   "outputs": [],
   "source": [
    "number.digits[-5]"
   ]
  },
  {
   "cell_type": "code",
   "execution_count": null,
   "metadata": {},
   "outputs": [],
   "source": [
    "Len(ExprRange(i, nine, one, four)).evaluation()"
   ]
  },
  {
   "cell_type": "code",
   "execution_count": 19,
   "metadata": {},
   "outputs": [
    {
     "data": {
      "text/html": [
       "<a class=\"ProveItLink\" href=\"__pv_it/d51e02c1d04126931c113a9371e7011c7721e0730/expr.ipynb\"><img src=\"data:image/png;base64,iVBORw0KGgoAAAANSUhEUgAAAJEAAAASBAMAAACp0iFmAAAAMFBMVEX///+qqqqYmJi6urp2dnYy\n",
       "MjJERETc3NwQEBDMzMyIiIgiIiLu7u5UVFRmZmYAAAABFGnYAAAAAXRSTlMAQObYZgAAAAlwSFlz\n",
       "AAAOxAAADsQBlSsOGwAAAiNJREFUOMudlD9oE1Ecx7/Xe8l5l9ckbsGlRxaxg94gLiJETcmmGURc\n",
       "rMFF6GAfjoJWqKhDlcPFINSmYJf4d3AQtfEGB1HQCg4Oxp7/lkKqVdJWkOh779Jy70IP9HFwd19+\n",
       "38/7ve/9OCC9+B7quoF/XYstD6CPUGWqPhtvK/QoL2vmRaD/HJK+olvxJMPvkd4BJ4FMGeS7ol89\n",
       "Gkuyeklt4CDwugLrl9p9PGmqh0SXgXuu7OmnsieTJP3h9BAzFu5i9/ntLRs4W/fRVy962vzsG1wf\n",
       "nIn25MicfoTlUwh6ynwcs6vMKuOSQxvgkc4gx9JlpHzQClKRnEZt0HFMLqmfJiCl7lM0gCXxOuBw\n",
       "fyabY/qKIOkTIGHLc8eczwKvbm4J59THuqTEHEze7CEM8zD9KRuJAuhOScLTEWVw6MJenhNf6d8h\n",
       "9TTWSD60Tj6/TZAylYFP+bxLW5sD0rNjnUjq3zzpqYSkPc3m6lupFmDKYwc98e6Rc0xBIoZHd7gq\n",
       "6TCgTWDMhRdWL6NLEk+6zMndNAc4V6CvXEv4RKuh3+4WC2fOM3hA1hMcB22L07aDO5aDxPkpqg5K\n",
       "OMLoA5jjIKzDR28rKRO+e5IF5dJxy0sKcPGAAzwW6Ia88PXPiJin0QtZGB+K/AMM3uEVZ76UMDl9\n",
       "e6iGZknfV9+/Vi6cpPh5/UCat/FQD8eOfNRJ8L+kqPNFTG38ryHqtDcu3bV6Io607vwLZfyjhsOK\n",
       "PJEAAAAASUVORK5CYII=\n",
       "\" style=\"display:inline;vertical-align:middle;\" /></a>"
      ],
      "text/plain": [
       "9, ..4 repeats.., 9"
      ]
     },
     "execution_count": 19,
     "metadata": {},
     "output_type": "execute_result"
    }
   ],
   "source": [
    "ExprRange(i, nine, one, four)"
   ]
  },
  {
   "cell_type": "code",
   "execution_count": 18,
   "metadata": {},
   "outputs": [
    {
     "data": {
      "text/html": [
       "<span style=\"font-size:20px;\"> <a class=\"ProveItLink\" href=\"__pv_it/d7c156373c22905c67885ef895cc0395ee73aecb0/proof.ipynb\" style=\"text-decoration: none\">&#x22A2;&nbsp;</a><a class=\"ProveItLink\" href=\"__pv_it/5096a6ca31e1243eb9d3019d597a7d48490ee3a60/expr.ipynb\"><img src=\"data:image/png;base64,iVBORw0KGgoAAAANSUhEUgAAATkAAAAVBAMAAADP1oQ7AAAAMFBMVEX///9UVFREREQiIiIQEBCY\n",
       "mJhmZmYyMjLu7u6qqqrMzMyIiIi6urp2dnbc3NwAAABm9RoHAAAAAXRSTlMAQObYZgAAAAlwSFlz\n",
       "AAAOxAAADsQBlSsOGwAABE5JREFUSMfFll1oHFUUx//Zr5nZ7EcXTLFqaV6UimhSK1IVJPEpYoiL\n",
       "sK0YkFHp9iGKG6F5UKqDqfFBJSv2oRC0EVof9CGBYkVD2tEGfJKMgkatm4yKRfQhdU1TGyLruV+z\n",
       "M9nJBAXpJeSenL3n7C//e+65Fy7YyOGaDfnVbuiHP/DfH2+R4dH/jy4z7eMIpTMc5GpP2sKjX/hG\n",
       "WqjVJvlsNBqNFRXxnpzLT1jBVGnz35KlytcrZVroeHrufRUYQ/KqDAF2COtnu62bG9nhcvkeFbZH\n",
       "TKPT6YFgvvi2SJRsi0e/DyddaFYYnUjPvQeBc1X9ivCXOC0bI4h1KuCcEqZd0l0H3BJMeDqa7mKL\n",
       "p60HMRNJM4xOpOfeHmDOhqT7StEZf6mlBmVS9qlhMdPqpeDGHoimO9PiyVeQvQT0hdGJ9MybqXCE\n",
       "y8I/v5tpSUPr8a3+XhmOoNPrpPdkYOe0SLr0aotrvBPta8DhEDqZnnlTDnOcL0q9G2eq4l97/sLT\n",
       "3qntVBvr+rSz/QnPCrrzD739Ii7OmJm7vi53UOAQaTY4+y3e/LNQTX84U9mg3Trw5Wba2dyrMa4P\n",
       "CkqJpSui+YwfRqKqSkSB/IJhrzC6iv6uU5Tarb5zmQr6IyT6MWpS2bdXjAEcAu4GXga6N9QdbdgB\n",
       "j+6pvWzsaaZn3jhnMOSZNRa71gXdJaT6ZKJlb2MV3VE7vasaOJKSbi+suIl8lf401hnTVaKbd5k1\n",
       "Z8Hxb18/3qUvfStMO5GeeRNCmIdF/9oPY4Vb+W4k1+XiBTknXUWnD30XqLvHFR19PlWE5mgm9NU0\n",
       "aXMEeH2J08XrZwMIY7MTVHdTYXQivaJ7n5QUUpBcy9yKV5CUJwV3yvl3KDoaz/racW5a0Y0AJw6W\n",
       "SpNEh7qxWio9hrEdJzidvtDY0LFT1BfmNrkrKD2vuyr0hiXpdDrjbbygYk3t9D9kxKeFwspOFf6c\n",
       "/0IqFHb18m0jqaZYJqEdKxejH1OMzvkVr6wFCbRO/8766k6kZ94YXXW9bGd15qQWHXOZlaG66wHX\n",
       "J8PagVSqV1jHrNwadP83JYR2R4Rls7pbY6szCRPzv7kjcCaADrVzjLoPy1Qcj4Rpx9Nzb3YbuyGo\n",
       "342z8/65hUFh3Y6j8gYx/qZ8slvXhXXaihXFMvrF57zoOrSD6X5kXW0Aow5O2ljMmzh3yl2Ac8zC\n",
       "HXI5i2jfh5spYCiMjqcX3ZiOeaZMr4D4PtY2t5ellS3fQEeQCZV7ENLCocZt3MrWqBnyZXRC6Qep\n",
       "l+rsufHZyq3Aj88sQuuYuYkit9fc9I0Tb7yAtp3uF4OztlzOI2v8vXF/GB1PL7z3Kt9xtFiGFWUd\n",
       "3/xy0KKfLF5krnuLF9T+ZjdrsbKIspz/TOdFpopb0MXky1Sf9tqNZ72GCKu5rHVEP6iakT9t9frU\n",
       "5S2a9NxNqxhlJSPevF0PuBF0zcjdEXSfyNvzmo2k6+PYMP4B2rNZxnGJZ20AAAAASUVORK5CYII=\n",
       "\" style=\"display:inline;vertical-align:middle;\" /></a></span>"
      ],
      "text/plain": [
       "|- |(3, 8, 6, 7, 4, 9, ..4 repeats.., 9)| = 9"
      ]
     },
     "execution_count": 18,
     "metadata": {},
     "output_type": "execute_result"
    }
   ],
   "source": [
    "Len(DecimalSequence(three, eight, six, seven, four, ExprRange(i, nine, one, four)).digits)"
   ]
  },
  {
   "cell_type": "code",
   "execution_count": null,
   "metadata": {},
   "outputs": [],
   "source": [
    "md_nine_add_one.specialize({m: four, k: four, a: number.digits[:-5], \n",
    "                            b: number.digits[-5]}, \n",
    "                           assumptions=[InSet(three, Digit), InSet(eight, Digit), InSet(six, Digit), \n",
    "                                        InSet(seven, Digit), InSet(four, Digit), InSet(one, Digit), InSet(five, Digit),\n",
    "                                       InSet(zero, Digit)])"
   ]
  },
  {
   "cell_type": "code",
   "execution_count": null,
   "metadata": {},
   "outputs": [],
   "source": [
    "md_nine_add_one.specialize({m: four, k: four, ExprTuple(varRange(a, one, four)): number.digits[:-5], \n",
    "                            b: number.digits[-5]}, \n",
    "                           assumptions=[InSet(three, Digit), InSet(eight, Digit), \n",
    "                                        InSet(six, Digit), InSet(seven, Digit), InSet(four, Digit), InSet(one, Digit),\n",
    "                                       InSet(five, Digit), InSet(zero, Digit)])"
   ]
  },
  {
   "cell_type": "code",
   "execution_count": 17,
   "metadata": {},
   "outputs": [
    {
     "ename": "ValueError",
     "evalue": "<bound method Add.doReducedEvaluation of 386749999 + 1> must return an KnownTruth equality with self on the left side, not {3 in {0, 1, 2, 3, 4, 5, 6, 7, 8, 9}, 8 in {0, 1, 2, 3, 4, 5, 6, 7, 8, 9}, 6 in {0, 1, 2, 3, 4, 5, 6, 7, 8, 9}, 7 in {0, 1, 2, 3, 4, 5, 6, 7, 8, 9}, 4 in {0, 1, 2, 3, 4, 5, 6, 7, 8, 9}, 1 in {0, 1, 2, 3, 4, 5, 6, 7, 8, 9}, 5 in {0, 1, 2, 3, 4, 5, 6, 7, 8, 9}, 0 in {0, 1, 2, 3, 4, 5, 6, 7, 8, 9}} |- (\\# (3 ~ 8 ~ 6 ~ 7 ~ 4 ~ 9 ~ ..4 repeats.. ~ 9) + 1) = \\# (3 ~ 8 ~ 6 ~ 7 ~ 5 ~ 0 ~ ..4 repeats.. ~ 0) for 386749999 + 1 assuming (0 in NaturalsPos, 3 in {0, 1, 2, 3, 4, 5, 6, 7, 8, 9}, 8 in {0, 1, 2, 3, 4, 5, 6, 7, 8, 9}, 6 in {0, 1, 2, 3, 4, 5, 6, 7, 8, 9}, 7 in {0, 1, 2, 3, 4, 5, 6, 7, 8, 9}, 4 in {0, 1, 2, 3, 4, 5, 6, 7, 8, 9}, 1 in {0, 1, 2, 3, 4, 5, 6, 7, 8, 9}, 5 in {0, 1, 2, 3, 4, 5, 6, 7, 8, 9}, 0 in {0, 1, 2, 3, 4, 5, 6, 7, 8, 9})",
     "output_type": "error",
     "traceback": [
      "\u001b[1;31m---------------------------------------------------------------------------\u001b[0m",
      "\u001b[1;31mValueError\u001b[0m                                Traceback (most recent call last)",
      "\u001b[1;32m<ipython-input-17-9cc31dedda61>\u001b[0m in \u001b[0;36m<module>\u001b[1;34m\u001b[0m\n\u001b[0;32m      1\u001b[0m Add(number, one).evaluation(assumptions=[InSet(zero, NaturalsPos), InSet(three, Digit), InSet(eight, Digit), \n\u001b[0;32m      2\u001b[0m                                         \u001b[0mInSet\u001b[0m\u001b[1;33m(\u001b[0m\u001b[0msix\u001b[0m\u001b[1;33m,\u001b[0m \u001b[0mDigit\u001b[0m\u001b[1;33m)\u001b[0m\u001b[1;33m,\u001b[0m \u001b[0mInSet\u001b[0m\u001b[1;33m(\u001b[0m\u001b[0mseven\u001b[0m\u001b[1;33m,\u001b[0m \u001b[0mDigit\u001b[0m\u001b[1;33m)\u001b[0m\u001b[1;33m,\u001b[0m \u001b[0mInSet\u001b[0m\u001b[1;33m(\u001b[0m\u001b[0mfour\u001b[0m\u001b[1;33m,\u001b[0m \u001b[0mDigit\u001b[0m\u001b[1;33m)\u001b[0m\u001b[1;33m,\u001b[0m \u001b[0mInSet\u001b[0m\u001b[1;33m(\u001b[0m\u001b[0mone\u001b[0m\u001b[1;33m,\u001b[0m \u001b[0mDigit\u001b[0m\u001b[1;33m)\u001b[0m\u001b[1;33m,\u001b[0m\u001b[1;33m\u001b[0m\u001b[1;33m\u001b[0m\u001b[0m\n\u001b[1;32m----> 3\u001b[1;33m                                        InSet(five, Digit), InSet(zero, Digit)])\n\u001b[0m",
      "\u001b[1;32mc:\\users\\joaqu\\prove-it\\packages\\proveit\\_core_\\expression\\expr.py\u001b[0m in \u001b[0;36mevaluation\u001b[1;34m(self, assumptions, automation, **kwargs)\u001b[0m\n\u001b[0;32m    883\u001b[0m                    \u001b[1;34m\"not %s for %s assuming %s\"\u001b[0m\u001b[1;33m\u001b[0m\u001b[1;33m\u001b[0m\u001b[0m\n\u001b[0;32m    884\u001b[0m                    %(method_called, evaluation, self, assumptions))\n\u001b[1;32m--> 885\u001b[1;33m             \u001b[1;32mraise\u001b[0m \u001b[0mValueError\u001b[0m\u001b[1;33m(\u001b[0m\u001b[0mmsg\u001b[0m\u001b[1;33m)\u001b[0m\u001b[1;33m\u001b[0m\u001b[1;33m\u001b[0m\u001b[0m\n\u001b[0m\u001b[0;32m    886\u001b[0m         \u001b[1;32mif\u001b[0m \u001b[1;32mnot\u001b[0m \u001b[0misIrreducibleValue\u001b[0m\u001b[1;33m(\u001b[0m\u001b[0mevaluation\u001b[0m\u001b[1;33m.\u001b[0m\u001b[0mrhs\u001b[0m\u001b[1;33m)\u001b[0m\u001b[1;33m:\u001b[0m\u001b[1;33m\u001b[0m\u001b[1;33m\u001b[0m\u001b[0m\n\u001b[0;32m    887\u001b[0m             msg = (\"%s must return an KnownTruth \"\n",
      "\u001b[1;31mValueError\u001b[0m: <bound method Add.doReducedEvaluation of 386749999 + 1> must return an KnownTruth equality with self on the left side, not {3 in {0, 1, 2, 3, 4, 5, 6, 7, 8, 9}, 8 in {0, 1, 2, 3, 4, 5, 6, 7, 8, 9}, 6 in {0, 1, 2, 3, 4, 5, 6, 7, 8, 9}, 7 in {0, 1, 2, 3, 4, 5, 6, 7, 8, 9}, 4 in {0, 1, 2, 3, 4, 5, 6, 7, 8, 9}, 1 in {0, 1, 2, 3, 4, 5, 6, 7, 8, 9}, 5 in {0, 1, 2, 3, 4, 5, 6, 7, 8, 9}, 0 in {0, 1, 2, 3, 4, 5, 6, 7, 8, 9}} |- (\\# (3 ~ 8 ~ 6 ~ 7 ~ 4 ~ 9 ~ ..4 repeats.. ~ 9) + 1) = \\# (3 ~ 8 ~ 6 ~ 7 ~ 5 ~ 0 ~ ..4 repeats.. ~ 0) for 386749999 + 1 assuming (0 in NaturalsPos, 3 in {0, 1, 2, 3, 4, 5, 6, 7, 8, 9}, 8 in {0, 1, 2, 3, 4, 5, 6, 7, 8, 9}, 6 in {0, 1, 2, 3, 4, 5, 6, 7, 8, 9}, 7 in {0, 1, 2, 3, 4, 5, 6, 7, 8, 9}, 4 in {0, 1, 2, 3, 4, 5, 6, 7, 8, 9}, 1 in {0, 1, 2, 3, 4, 5, 6, 7, 8, 9}, 5 in {0, 1, 2, 3, 4, 5, 6, 7, 8, 9}, 0 in {0, 1, 2, 3, 4, 5, 6, 7, 8, 9})"
     ]
    }
   ],
   "source": [
    "Add(number, one).evaluation(assumptions=[InSet(zero, NaturalsPos), InSet(three, Digit), InSet(eight, Digit), \n",
    "                                        InSet(six, Digit), InSet(seven, Digit), InSet(four, Digit), InSet(one, Digit),\n",
    "                                       InSet(five, Digit), InSet(zero, Digit)])"
   ]
  },
  {
   "cell_type": "code",
   "execution_count": null,
   "metadata": {},
   "outputs": [],
   "source": [
    "%end demonstrations"
   ]
  },
  {
   "cell_type": "code",
   "execution_count": null,
   "metadata": {},
   "outputs": [],
   "source": []
  }
 ],
 "metadata": {
  "kernelspec": {
   "display_name": "Python 3",
   "language": "python",
   "name": "python3"
  },
  "language_info": {
   "codemirror_mode": {
    "name": "ipython",
    "version": 3
   },
   "file_extension": ".py",
   "mimetype": "text/x-python",
   "name": "python",
   "nbconvert_exporter": "python",
   "pygments_lexer": "ipython3",
   "version": "3.7.3"
  }
 },
 "nbformat": 4,
 "nbformat_minor": 1
}
