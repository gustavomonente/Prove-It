{
 "cells": [
  {
   "cell_type": "markdown",
   "metadata": {},
   "source": [
    "Demonstrations for context <a class=\"ProveItLink\" href=\"_context_.ipynb\">proveit.number.numeral.decimal</a>\n",
    "========"
   ]
  },
  {
   "cell_type": "code",
   "execution_count": 1,
   "metadata": {},
   "outputs": [],
   "source": [
    "import proveit\n",
    "from proveit import ExprRange, ExprTuple, varRange, IndexedVar, defaults\n",
    "from proveit.logic import Forall, Equals, InSet, Set\n",
    "from proveit.number import zero, one, two, three, four, five, six, seven, eight, nine\n",
    "from proveit.number import (one, num, Add, Mult, Less, LesserSequence, \n",
    "                            Naturals, NaturalsPos, subtract)\n",
    "from proveit.number.numeral.deci import DecimalSequence\n",
    "from proveit.core_expr_types import Len\n",
    "from proveit._common_ import A, a, b, c, d, e, f, g, h, i, j, k, m, n, x\n",
    "#from proveit.core_expr_types.expr_array._common_ import Aij\n",
    "from proveit.number.numeral.deci._theorems_ import count_to_1_range, md_only_nine_add_one, md_nine_add_one, add_1_1, tuple_len_2, count_to_1_range\n",
    "from proveit.core_expr_types.tuples._axioms_ import tuple_len_incr, tuple_len_0\n",
    "from proveit.core_expr_types.tuples. _theorems_ import n_repeats_reduction\n",
    "\n",
    "%begin demonstrations"
   ]
  },
  {
   "cell_type": "code",
   "execution_count": 2,
   "metadata": {},
   "outputs": [],
   "source": [
    "#n_repeats_reduction.instantiate({n: four, x: nine}, assumptions=[])"
   ]
  },
  {
   "cell_type": "code",
   "execution_count": 3,
   "metadata": {},
   "outputs": [],
   "source": [
    "#DecimalSequence(ExprRange(i, nine, one, four)).reduce_exprRange()"
   ]
  },
  {
   "cell_type": "code",
   "execution_count": 4,
   "metadata": {},
   "outputs": [],
   "source": [
    "#assert False"
   ]
  },
  {
   "cell_type": "code",
   "execution_count": 5,
   "metadata": {},
   "outputs": [
    {
     "data": {
      "text/plain": [
       "proveit._core_.expression.composite.expr_tuple.ExprTuple"
      ]
     },
     "execution_count": 5,
     "metadata": {},
     "output_type": "execute_result"
    }
   ],
   "source": [
    "count_to_1_range.lhs.__class__"
   ]
  },
  {
   "cell_type": "code",
   "execution_count": 6,
   "metadata": {},
   "outputs": [
    {
     "data": {
      "text/html": [
       "<a class=\"ProveItLink\" href=\"__pv_it/b92949ae48601efb39eb7c2f230b00dd38f019300/expr.ipynb\"><img src=\"data:image/png;base64,iVBORw0KGgoAAAANSUhEUgAAAQMAAAAyCAMAAABvXk5FAAAANlBMVEX///8WFhYNDQ2qqqoyMjIi\n",
       "IiIQEBDMzMxUVFRmZma6urqYmJh2dnbu7u6IiIhERETc3NwAAAByUcp+AAAAAXRSTlMAQObYZgAA\n",
       "AAlwSFlzAAAOxAAADsQBlSsOGwAABMRJREFUaN7lW9ea4yoM9i69CXj/lz0GF6rLjL1xcsJFvgkO\n",
       "Av2oyzMM83DWDt80GIV6Crw1L9gZCGF303QnHnb2lZSUK7VXL0Ffy/thRXtPJWzubDDNQZBeNLKC\n",
       "Kd/dWxKq60um8hUYBKU1y+GQPgdRZ2dDc/W3vrOa8IOz1BgMzL8CA4Mz1uOX3YHN5s7aZwrie/bQ\n",
       "HmGAmyt4CQaRfTETEoc6rMTmzswnu2g8f1cMoLV4IlweWWTxmAQ1Wzu7zASY1hw8iEHhn1B7ssC+\n",
       "mQVX4mN6WG3tbE5ioAC0Ho/FCBUOgKvR1IKNBLEYH4rF5miA2R4sS9ZDi30MnNDgoOBx2PgWA5m4\n",
       "xSwTGxYxJ6n5RQxQ8B8iok05BBVSIzEVRRBHB4tFNLEo2hhZLpmp410MZPi99abPNapNVWSfs/yO\n",
       "90kqfAcG0gdmLV3NJ4sTmE9+daRu8aRfslzSCHfXQwU+BNm6eUjBmyDj8MtH2JJ0g4OSJCJXdWF8\n",
       "KvWEQbwRryMGbJGAcUaMBGCiI8slZ+yBiNdFklD//UOK4UsrE1iXy3n7AUlJkvmrGBjBEcoxgAYD\n",
       "uziZGYO05AwGMVAxGZ+VHEhcrEGwuIZtDEqSkl7WBbmI/iYGlRxkS05gYKJgKb9lBRlOqhR0gdJF\n",
       "H4JA4J4uVCQv6wIVUeUdcx0M+LD8jW2yB9mSUxgENkZ7glwXA+xaz8jW41roYlCQVPYiBvEJeKbc\n",
       "zGeOAQlXxAPoLgoljw+zJWf8Ah7XqNF9rgah+ImsThbZT2mS7sYwJUkBv8WAWU+tGxgHBEZjiN+Z\n",
       "Gj/5oLEP8ZE1SEqYaBsR44OQZ61LtuIDZpfhYvYDmjkO/ZxaVNMapRQgJm7zYXOKFckpRf6dHLxl\n",
       "7hzZz7TluBzhyPA/w4BU+qEOTz5nVX0MeJY/6Q/BILKvc2dg3YEY2J2ds3wZvPwQDKL14XlWZQ7K\n",
       "oEuU2d0ZJ5dMyasqmfr+eqLbrSDMzmmjxIXWEqKgbvjSIeZQTlA2fO0QQT4MEcM3D0QhYGC+GQNJ\n",
       "4DZdcC9bdLMusNts4n6no7bki+RJeBiCVF0n+LJWLfUKUiuW01pYWXmkadCfQfcvFCG11y7HSFOn\n",
       "w3CBfYWBETGVL1jVmItxkDL9eWJkvaXLsfLa6YAaAwjs59lz+PUkIOJcvP8vh8f35Ux02MJAxvis\n",
       "xGASijldoQ8KQp4zXcUgdToaDKqQNFOI/er4izD4Ye5cdULyykjqdHQxkERtpnMblaD3xKDuhOQ6\n",
       "jtUOBgw4bwMQvlhhhT8Gg6YTkndOUqdjSxdqF+hWg4zIx2DQdEIKkyj3MRhoPa1x8kkfg0HTCTmJ\n",
       "AWOTH64EgdikY5+CQdsJKcoxm7pgfJyoMcic0ufoQtsJKcItqDFYkZheaoq6YPIYdd1Q2Y/RhaYT\n",
       "UnROeIVBeqjUEh/kC1AKTAW8MQZHnZAsPpg7HQO31JPwlsJA1txJjpnBlDOlucHRVTeIexcMLgYq\n",
       "baEUdfxDb849aA7uxaDNfHpOVO9lW0+M/J2s/rt5P0pCK4k2HS3vzblHX5Iu8mXrL2Zvdaejd7u9\n",
       "Ofto+QDydzSvN9vcr2RaPVpQNLTIVbR/tqj1CAS4qqOC/7Y2gySNW/7i/+H4D5MLPjYJPMk5AAAA\n",
       "AElFTkSuQmCC\n",
       "\" style=\"display:inline;vertical-align:middle;\" /></a>"
      ],
      "text/plain": [
       "{lambda:[_a -> \\# (_a)], ${_{-}a}$:(1, 3, 7)}"
      ]
     },
     "execution_count": 6,
     "metadata": {},
     "output_type": "execute_result"
    }
   ],
   "source": [
    "DecimalSequence(one, three, seven).innerExpr().operands"
   ]
  },
  {
   "cell_type": "code",
   "execution_count": 7,
   "metadata": {},
   "outputs": [
    {
     "data": {
      "text/html": [
       "<a class=\"ProveItLink\" href=\"__pv_it/b92949ae48601efb39eb7c2f230b00dd38f019300/expr.ipynb\"><img src=\"data:image/png;base64,iVBORw0KGgoAAAANSUhEUgAAAQMAAAAyCAMAAABvXk5FAAAANlBMVEX///8WFhYNDQ2qqqoyMjIi\n",
       "IiIQEBDMzMxUVFRmZma6urqYmJh2dnbu7u6IiIhERETc3NwAAAByUcp+AAAAAXRSTlMAQObYZgAA\n",
       "AAlwSFlzAAAOxAAADsQBlSsOGwAABMRJREFUaN7lW9ea4yoM9i69CXj/lz0GF6rLjL1xcsJFvgkO\n",
       "Av2oyzMM83DWDt80GIV6Crw1L9gZCGF303QnHnb2lZSUK7VXL0Ffy/thRXtPJWzubDDNQZBeNLKC\n",
       "Kd/dWxKq60um8hUYBKU1y+GQPgdRZ2dDc/W3vrOa8IOz1BgMzL8CA4Mz1uOX3YHN5s7aZwrie/bQ\n",
       "HmGAmyt4CQaRfTETEoc6rMTmzswnu2g8f1cMoLV4IlweWWTxmAQ1Wzu7zASY1hw8iEHhn1B7ssC+\n",
       "mQVX4mN6WG3tbE5ioAC0Ho/FCBUOgKvR1IKNBLEYH4rF5miA2R4sS9ZDi30MnNDgoOBx2PgWA5m4\n",
       "xSwTGxYxJ6n5RQxQ8B8iok05BBVSIzEVRRBHB4tFNLEo2hhZLpmp410MZPi99abPNapNVWSfs/yO\n",
       "90kqfAcG0gdmLV3NJ4sTmE9+daRu8aRfslzSCHfXQwU+BNm6eUjBmyDj8MtH2JJ0g4OSJCJXdWF8\n",
       "KvWEQbwRryMGbJGAcUaMBGCiI8slZ+yBiNdFklD//UOK4UsrE1iXy3n7AUlJkvmrGBjBEcoxgAYD\n",
       "uziZGYO05AwGMVAxGZ+VHEhcrEGwuIZtDEqSkl7WBbmI/iYGlRxkS05gYKJgKb9lBRlOqhR0gdJF\n",
       "H4JA4J4uVCQv6wIVUeUdcx0M+LD8jW2yB9mSUxgENkZ7glwXA+xaz8jW41roYlCQVPYiBvEJeKbc\n",
       "zGeOAQlXxAPoLgoljw+zJWf8Ah7XqNF9rgah+ImsThbZT2mS7sYwJUkBv8WAWU+tGxgHBEZjiN+Z\n",
       "Gj/5oLEP8ZE1SEqYaBsR44OQZ61LtuIDZpfhYvYDmjkO/ZxaVNMapRQgJm7zYXOKFckpRf6dHLxl\n",
       "7hzZz7TluBzhyPA/w4BU+qEOTz5nVX0MeJY/6Q/BILKvc2dg3YEY2J2ds3wZvPwQDKL14XlWZQ7K\n",
       "oEuU2d0ZJ5dMyasqmfr+eqLbrSDMzmmjxIXWEqKgbvjSIeZQTlA2fO0QQT4MEcM3D0QhYGC+GQNJ\n",
       "4DZdcC9bdLMusNts4n6no7bki+RJeBiCVF0n+LJWLfUKUiuW01pYWXmkadCfQfcvFCG11y7HSFOn\n",
       "w3CBfYWBETGVL1jVmItxkDL9eWJkvaXLsfLa6YAaAwjs59lz+PUkIOJcvP8vh8f35Ux02MJAxvis\n",
       "xGASijldoQ8KQp4zXcUgdToaDKqQNFOI/er4izD4Ye5cdULyykjqdHQxkERtpnMblaD3xKDuhOQ6\n",
       "jtUOBgw4bwMQvlhhhT8Gg6YTkndOUqdjSxdqF+hWg4zIx2DQdEIKkyj3MRhoPa1x8kkfg0HTCTmJ\n",
       "AWOTH64EgdikY5+CQdsJKcoxm7pgfJyoMcic0ufoQtsJKcItqDFYkZheaoq6YPIYdd1Q2Y/RhaYT\n",
       "UnROeIVBeqjUEh/kC1AKTAW8MQZHnZAsPpg7HQO31JPwlsJA1txJjpnBlDOlucHRVTeIexcMLgYq\n",
       "baEUdfxDb849aA7uxaDNfHpOVO9lW0+M/J2s/rt5P0pCK4k2HS3vzblHX5Iu8mXrL2Zvdaejd7u9\n",
       "Ofto+QDydzSvN9vcr2RaPVpQNLTIVbR/tqj1CAS4qqOC/7Y2gySNW/7i/+H4D5MLPjYJPMk5AAAA\n",
       "AElFTkSuQmCC\n",
       "\" style=\"display:inline;vertical-align:middle;\" /></a>"
      ],
      "text/plain": [
       "{lambda:[_a -> \\# (_a)], ${_{-}a}$:(1, 3, 7)}"
      ]
     },
     "execution_count": 7,
     "metadata": {},
     "output_type": "execute_result"
    }
   ],
   "source": [
    "DecimalSequence(one, three, seven).innerExpr().digits"
   ]
  },
  {
   "cell_type": "code",
   "execution_count": 8,
   "metadata": {},
   "outputs": [
    {
     "data": {
      "text/html": [
       "<strong id=\"digits\">digits:</strong> <a class=\"ProveItLink\" href=\"__pv_it/529af85ae13bbca61d15efade5ef44b2a68d178d0/expr.ipynb\"><img src=\"data:image/png;base64,iVBORw0KGgoAAAANSUhEUgAAAM0AAAAVBAMAAAAX/3cYAAAAMFBMVEX///8QEBBERERUVFTMzMyY\n",
       "mJjc3NxmZmYiIiJ2dnaqqqoyMjKIiIi6urru7u4AAAAvZeGPAAAAAXRSTlMAQObYZgAAAAlwSFlz\n",
       "AAAOxAAADsQBlSsOGwAAAxJJREFUSMe1lk1oE0EUx//52iRtstYvkEJrVRShKoUqraI2UkQ8GW8e\n",
       "hMaKVEFoxMOKoSiIomjb+AG16CEnoSCmKogXtdJDKV4ED54kC4IiCKlFsSZt17fzZrZht5Z46EJ2\n",
       "/tl5b37zPmYTAPonLOulPeLx3ZP/9w0CX9zPTpn/MO7cYd9r5uk2PJFSKwyobRjPEqzODG13fA7x\n",
       "4Cu/VHbR4Xss8pZl1Qn1bbJPToaN/XTfJOwuA7U5/RpPfM7MS5OTiM4JoafRlVOcKzxEBm/I3Wv9\n",
       "aGf1oM24wHZpBFjot3CAArivOMeAO3KhmOLQRlbykxKKo2pWcgJOgLVpbIRcHT1ChJLQ2SFQB3+6\n",
       "gkOB5U0XZ72JDpHMeANWKM7B525O3qkKhdDCmWxSHPKLTlVwfgOFnItD2ehIqMWSUmQ9nKcVBY+y\n",
       "fXzaDLNDsQmxnwsc3eYkXRy6BuUYv6rSllKc4xNyD+XDE++VfbccO2YvwolnTnLCo9D+AEfGPJzg\n",
       "rBzHd6rWheT4TU02STmJeuWwT8VlvYBTn1/AW1v3JpmT9XAiaacIMqlZxaFrK3Ms4JxqvSk5NdJt\n",
       "cYx6AzpLhCD3zn76SpyCNx7DUT5+GEpVcC7xiZsBumTiorJbQmnkG1l+nXxM9dGac9AzpuiDvLsP\n",
       "bHNOWwL+klBnoTjNxOEC3SSOLG2kSe7KhFZSq4RpvegrO9XUjHQCutx9jRFoYsvFecX50Nr6Y7dQ\n",
       "66jYTvpUPMUWOdJnl3O+CJ5Pyb4+CmSgOxyhglnETFv5Wuy8yW2shlBUzFVsVqD6SNdCml19tOwW\n",
       "YVbTiF4K+7Y6P5GcvkYeepsj1GnDaBeKjnc+qZeZMw2hehBrZDN/Vq+Xrvksu8ZfIzQmzGID2IyK\n",
       "c6o/HE8gYr8ZAxtm9rJ6Y1llVh8Neo9eFwFlrG1CaUabyZMYOi9dcYJKLFSn0ScdhofeV3L4Wvh9\n",
       "WETVmF5VpYObk8USKgqvqtKBObE6+U0fwxLqOzyqWgfqMXtGvTZCzvPFVNKrqnXQ14qhZ8/y/j8I\n",
       "3qX++Av06Pg+eBqaxgAAAABJRU5ErkJggg==\n",
       "\" style=\"display:inline;vertical-align:middle;\" /></a><br>"
      ],
      "text/plain": [
       "digits: {0, 1, 2, 3, 4, 5, 6, 7, 8, 9}"
      ]
     },
     "execution_count": 8,
     "metadata": {},
     "output_type": "execute_result"
    }
   ],
   "source": [
    "digits =Set(zero, one, two, three, four, five, six, seven, eight, nine)"
   ]
  },
  {
   "cell_type": "code",
   "execution_count": 9,
   "metadata": {},
   "outputs": [
    {
     "data": {
      "text/html": [
       "<a class=\"ProveItLink\" href=\"__pv_it/fc73cb1c8917f0d373da503935eabbec6451235a0/expr.ipynb\"><img src=\"data:image/png;base64,iVBORw0KGgoAAAANSUhEUgAAAg0AAAAyCAMAAADodRj3AAAANlBMVEX///8WFhYNDQ2qqqoyMjIi\n",
       "IiIQEBDMzMxUVFRmZma6urqYmJh2dnbu7u6IiIhERETc3NwAAAByUcp+AAAAAXRSTlMAQObYZgAA\n",
       "AAlwSFlzAAAOxAAADsQBlSsOGwAABmZJREFUeNrtXduagygMdpeDgIDw/i+7ykEBsWKr6H5DLoZ2\n",
       "WmISfkgIZKbrHKlx7Br9ReqxTH8l9SgqPFki1FvwPaK4erT7MyqouF1GYCWGUcyV66GKLpw5mcAj\n",
       "pmTyJyiD58FwXgav86K7H4OVBMQhHJim6fIBMfn8EIR5Ou8xK0QD4P8PY87OU3g7PCZ0QE4GziU9\n",
       "XCR6JCKdfbtFQydwGCaMessMkYOnpWjoel2IBgEfMyc84w+NnB4EDwodCzQpMY2rQB/hIAiFWsQ6\n",
       "uzaDhsk3BO5DZyLI8QgNcDNXStFAh8fsOdCzM5E6pR4UeiErw4CMKeMxY8M2FBSxzq7NoaHXqw8V\n",
       "mlRFA37QoHhncZCZqUbnCYN8xxeEkDgYGaAjTYDcRcOis21zaFBBqCA0rYkG9uSaC9c5FFszY4IZ\n",
       "CMJNQfYCR+FksKPFNChFg9fZtjk0iDI0DFJyLuaQBFMlJRmm2FSOhh+k04fUhyZcShc3+C6LTWmC\n",
       "BpoPxxTlUskLjZdlyEk02N3OO5uCMdq4daKK0J/ZWRmER8NQigavs22/RwOYtx7UQBITOfuXYeI1\n",
       "mBULmjgGUhOTAhOKsLiLYw4TNMCsB2Zzv1Ffl/XIMxzgzviDTexkgED6zZpyn9AH7KwMSvPU1R+g\n",
       "wets2x/RwPQ87CNe4s3e/AISC9GJ+QitmCzusl2QjSQot80TeFaVouvi7zxDgPZWAxnk3yiaSPsf\n",
       "sJLQR+ysDAsaeCkavM62/cFTTB8ybtFg5o4RoTf7EUi9FxMWpsLHDb7LTtyQTUtQIzu6bk+/w7Bf\n",
       "N9P//oMi0kncM4OAecvUEPqInZVBWBgwvzYY5CKMTUNyaPA62/YHNAhKAAjRIDdoGP2i5dCwdjmD\n",
       "BpP/EMdxaHn8nWfI8N7awGD8XTPbaP8JDRcLfcTOyWBHC5RHkV5n2/7iKZh3DLtoSNaGoMsOGiDI\n",
       "iTMDfrAgFsPvAfwew11P0YeJKepnm/EWsI7Qh+ycDHYkhvId5lWeAlOzJqleZdBAOv8ajmvcEHTZ\n",
       "QcMoc+LMmk7xB1BdLyXKbQJ3rZg3bZZhN4w7aIAqs7/sF8OcEPp7NBywczLYIJ7CrjiKHMP2ezSY\n",
       "D6TuB+VGPESDyYOTGc/KrGHEfBh02dlT8FwmA8o5yUY7HoJ56fvhRfyAA4aTEVerRVZhm5MaowfI\n",
       "7EwPn7HZTmWk7s6zW2SYo0mB+2I0eJ1t+wUa+lHjcYIokUAKDqV53w/TT9JxqOfM0ygAY9KyFtTk\n",
       "G+aTrqXLbr6BIfcITzNuBJG8V0T2kSWQO3lZmWxfLF8qYdjtpfdpes7LZyCs3uOE0JlUS0bqL9gx\n",
       "P0kmY5NE3hQNZMQaERnpbNuv1oZbyEqyOWHvdreBoMRXHH9pYaiKl3MDhODbJ4S+hHLsPsgA9lNg\n",
       "XmfXvg0Nh0dHqyWKNm+83LTlZ08ocR8nhL4NDR9kYPuKeZ1dm0cDCfbgvCoaulEVWkKUJH0LvuQZ\n",
       "quLrfgYIPNxIFAt9HxoOZcguDWPc5tAQnmLLC7f5RWgQY6ElimbyUG7a8ut+JiAi4deLhb4RDeKL\n",
       "y6teZ99m0QDXpBxGXS00uFt5aqhp2IXh8NPNxrpC59mp07csvM6u3bmhBpYzMIrfcP0z0HjatFD5\n",
       "Zob3P6OGyHFw4fKFFPddoz9PdF4zBKLNEo1mZ4HljAbRLNFozm3J93sK9eFdoys9Rf/KKDLe6cVn\n",
       "h0y2cbtnt7fcoUfwtUIuJS1prUija93EesuyXvbpLLlyklytSKMrKaivqpeZPu3MAsQmtSKNriQd\n",
       "Xmt+q4XXa2vbWpFGF67BwanVa9EQlLRsa0UaXYmGcyfadWpfTEy7ChOUtGxrRRo9hoZKtS9dfFks\n",
       "WAa2tSKNnkJDrdoX81GwTIAMGgBqo/csGmrVvqRBJMugoddt9J5FQ63alxI0MNxG71E0VKt9SQg2\n",
       "T/FKNFSqfUkoKGnZ1oo0espT1Kp9SToEm8ltrUijemh4pvYlyTf4cpJsrUiju9BwKqFzX+3LhjLl\n",
       "JKqFDS9Fw9W1LxvKHFHRlpi+nsK/Apb9C4EFg3d17Usujkzdgmox5A0UnWKfSznfVvuSw1I6+GM7\n",
       "wbyBZPjXQ89dcLir9iW/hsVoGloIeUfYgKONH9fFF8z+l7UvjT6CASY3Y6VuV4r+KjGEttFZC8/+\n",
       "aAS5/reS/wCne1bPbQSh9wAAAABJRU5ErkJggg==\n",
       "\" style=\"display:inline;vertical-align:middle;\" /></a>"
      ],
      "text/plain": [
       "{lambda:[(_a_{1}, .._a_{_b}.., _a_{1}) -> \\# (_a_{1} ~ .._a_{_b}.. ~ _a_{1} ~ (0 + 1))], ${_{-}a}_{1}, \\ldots, {_{-}a}_{1}$:(1)}"
      ]
     },
     "execution_count": 9,
     "metadata": {},
     "output_type": "execute_result"
    }
   ],
   "source": [
    "DecimalSequence(one, Add(zero, one)).innerExpr().operands[:1]"
   ]
  },
  {
   "cell_type": "code",
   "execution_count": 10,
   "metadata": {},
   "outputs": [
    {
     "data": {
      "text/html": [
       "<span style=\"font-size:20px;\"><a class=\"ProveItLink\" href=\"__pv_it/3b03c261d8f9d64a8eb9ddfe2519f520a91527e80/expr.ipynb\"><img src=\"data:image/png;base64,iVBORw0KGgoAAAANSUhEUgAAAgUAAAAVBAMAAAAk+4CMAAAAMFBMVEX///8QEBBERERUVFTMzMyY\n",
       "mJjc3NxmZmYiIiJ2dnaqqqoyMjKIiIi6urru7u4AAAAvZeGPAAAAAXRSTlMAQObYZgAAAAlwSFlz\n",
       "AAAOxAAADsQBlSsOGwAABA1JREFUWMPFWFloU0EUPUma1yZNnsUFpGCpK4ILBRUXRCtFxC/jl36I\n",
       "LYIWQWjEj4BBLIpa97hALQrmSxDEVgQRQan6UUSQgh8iIn0oKIJQ96XVxpm5s2Vp6IfkDWRycufe\n",
       "OefdWV8AuK9Rqoxj/m/FuVa+vSL8SsTTmyV9xjGXLVXAu0Kq7eM5tywu21dl+ElEdIwHnyn0EOae\n",
       "gTbVu3JoT8+RaHf3Iu29gb4Co3eVX6TnIvWTy+U+k+nDkwOysTq1htWzDZshqjS/qCKdwNv0WGEO\n",
       "uLk26x6lX9rBacLVQZqrSbRmlfdh+qo5e9yTfqexgvq5nUqdIFsSIQpwT2Ede7hLmswQVZz/kiJD\n",
       "rGQOtgLn5U/lEPIQqCPLCIb7VKvUEDJPlcQsSjnTkxQonIBLAaE6BJN2DiyiSvOXyMGjrq4+rYHN\n",
       "k14vX0NgDKEfAsVnYJLSsP52oQYVh6i2RhqVBhYX+WTnwBBVnL84B6+e2ePwExjKFoxDJ0LfNFFC\n",
       "gkyRhlvWkNLCRPyLV00Bw42IfbNzoIkqz1+UA+eBPRddriGRr4Evuk8SxI+oqdimNGwbaCY0unFg\n",
       "UO3MjRKs/bMfehz+WjnQRD7wi6q6z1DUmt2ZmZ3fwKb+Ig3KVPV4qbTshNQQ9Jy/9FSjCdTL1pAS\n",
       "E8ndgV6P34GH+vxSRD7wi6ojYeXATCBmFhoyRRqOmUUnJ2pGaWBlPmnIAXvlkuxQTdd35OSWPgMt\n",
       "I6wha+cg4w8/r1pOWxTrulgRU4ebXaZhqGgcqpOaL0DGcJul4SAN5S+gVeb/smwJJ9HbQPD9kxts\n",
       "PToL5DNoIh/4eeWmPUPxxtxUufmnSbXRsEXdWpoRHBFoD5SGBUwDLciTTINcyoeUYg/OiH4S1l/k\n",
       "vrUnCiIf+EUVbDIUNWYucjM7YVsLziZEM9hFm+uY0vB8yZLPKwWazjYePSXlOLhfZeQw+yzT5zcb\n",
       "7V69+hWRD/yiss+FWH/eHWUzkIarNQi0EXgGLizQxOeilDgFArHFO5nchth6JBRno0kBjG2eQNEG\n",
       "dLDhOidCuUEQ+cN/ruh+cC9PQ03WnSovY9yBI+dYal+nO0rXrt6EQKx8gUDtiDVQQDDj1hOK/gY1\n",
       "xh8g3C9Q7AzmqmNJGASRP/z6fhCa+Ws13csXeZYG98rjZtTwtxDhwFEtewXpQxf3epFi7ywCIZ1b\n",
       "KJCTWu5RALr3yVCHn1HCrSV1QKKe7kFFLwyCyB9+c0fS5eV8665KxbzDahT1yqEJBsgcWAY/+Evk\n",
       "IG8uqtO3CEVQDk0wQOYgAl/5RRWrK6lBm129Txn0EWXQRANoG7QNfvCLyq0v/VeWMoe1yaBEOTTR\n",
       "AHdagcEPfimifVVJEeOY/1upupAt214RflH9A6vxV+RtR6PXAAAAAElFTkSuQmCC\n",
       "\" style=\"display:inline;vertical-align:middle;\" /></a> <a class=\"ProveItLink\" href=\"__pv_it/da2f6012eb80181b6bc34be41640ad36e1a855560/proof.ipynb\" style=\"text-decoration: none\">&#x22A2;&nbsp;</a><a class=\"ProveItLink\" href=\"__pv_it/1860d8b67f51b11a025f61e2dd8f10c86bfb2f010/expr.ipynb\"><img src=\"data:image/png;base64,iVBORw0KGgoAAAANSUhEUgAAAKIAAAAVBAMAAAA3EyjlAAAAMFBMVEX///8QEBCIiIiYmJjc3Nwi\n",
       "IiLMzMy6urpmZmZ2dnaqqqoyMjJUVFTu7u5EREQAAACQpWb0AAAAAXRSTlMAQObYZgAAAAlwSFlz\n",
       "AAAOxAAADsQBlSsOGwAAAhVJREFUOMuNlUFoU0EQhv+Yl7zXpFvqofYk5mYRwSgKBcEGxKtEcHso\n",
       "FXMp9NYoFAo9tFgiSC+hN6HIQ/DgqQFvglh6EE+SeySkxaOKl4IeCp3J5j0z6e7SgZ3NvN35dmdn\n",
       "dwL8lwqGJYBDKr5BIRdiYV5zzXtOLSx5URNQ+9S9p7bUTj4WmsDrmcrI1PyTwcpn1+Mho4BO3121\n",
       "oL5+TokdoBirx9Lr+/YJ6U/Uim1Yhsw4by6qA1GZft5IJ24Bd4A3xgjLycmwxyy17OaZQztJFPAS\n",
       "OdIZCOIk8BPYM3ahNOyW4Y+XfcQquqTXBTFsAX+BjdhCLPKOP3iIQQ+3qHsliFETiollC3GM87jr\n",
       "IWZL+JIsmhJpH8E/YKVkIWZp/7jLZkOzLEpiQz/V+li3sCCIudgQmxZioUrqnWePRYScuGlBzNSh\n",
       "iLhBqEjrR1Na76du+T+kVjzEt4hqNiJnZs+WmZDuAZ45iQ19keNu4aM8R0L9Buba3qit58iXZ5m7\n",
       "I0GcIMZNYBu2zPRI3XNHnd80j3RXEPmG5GJ1yUaM2HrhJo7F/YeKVWrfriwOfEOKTO1cr0ni+OHx\n",
       "Aa3E9WPkxZshM05vvtq/LzUxY37YKIji9YCfRdVdy3Lm8oy+/dlhI60USRExdcUhaxw3yw9ZNCsu\n",
       "h4AT89BTb69i3KSjKz6rnrNA8/Rf5/lXCGQg913zbvMROSPAKdFqnT0zkYO9AAAAAElFTkSuQmCC\n",
       "\" style=\"display:inline;vertical-align:middle;\" /></a></span>"
      ],
      "text/plain": [
       "{1 in {0, 1, 2, 3, 4, 5, 6, 7, 8, 9}, 0 in {0, 1, 2, 3, 4, 5, 6, 7, 8, 9}} |- \\# (1 ~ (0 + 1)) = 11"
      ]
     },
     "execution_count": 10,
     "metadata": {},
     "output_type": "execute_result"
    }
   ],
   "source": [
    "DecimalSequence(one, Add(zero, one)).auto_reduction(assumptions=[InSet(one, digits), InSet(zero, digits)])"
   ]
  },
  {
   "cell_type": "code",
   "execution_count": 11,
   "metadata": {},
   "outputs": [
    {
     "data": {
      "text/html": [
       "<strong id=\"List\">List:</strong> <a class=\"ProveItLink\" href=\"__pv_it/1d2d7d9f68042c9cd8af7f089c8a5fe5dd3407d50/expr.ipynb\"><img src=\"data:image/png;base64,iVBORw0KGgoAAAANSUhEUgAAAQoAAAAVBAMAAABMEr0AAAAAMFBMVEX////MzMxUVFREREQiIiK6\n",
       "uroQEBCYmJhmZmYyMjLu7u52dnaqqqqIiIjc3NwAAACFAiZ1AAAAAXRSTlMAQObYZgAAAAlwSFlz\n",
       "AAAOxAAADsQBlSsOGwAAA5ZJREFUSMfFVktoE1EUPUnafCafBkGXWhAKLqpFUVH8FHUhKhJURFGo\n",
       "UKTgj4C6EBWzqAut0dCFulAZFMQuyoyigkggiKgoatSFYqwEFRT8ZiGltQbve/e9TtJJbHd9MMmZ\n",
       "e89797x7350ZAEVM7oiJn2huklU05unnSYXBWNDuZnnOply24F2z2lA5M5qqv1it8Y64mUpDKFWD\n",
       "1eTO1o1pY20VMxvs/yxWY4RMBJPjBAQ6TJdpz0ZzfKlNE6x1IAX/eAGBm+5SDk9Eas3Fao1d2DpO\n",
       "QBrnXZZw+wSk4vZEz+c59Ihe6Xmf5/vegVPKky3EuY96XoyoA5h9ozYXaFmhS/5o4LOS+vCVavn+\n",
       "tPL14ulJTt2NH9lWT3Y+m7fN/vpShcOX7HdxykgHsLno4xQbQ6bFa33KBdskGPVhU9xj64rrVcKZ\n",
       "WKeaWfQ2s83erFQPRp51Mcu3FNZBPFD+eXmjrCq7D8tpZ4ewjuhdCHKKI8M6wFr4JRA+7qLYIKIJ\n",
       "FfxnXIHnJv7yzBK8LDuWO8G+SHm755JEU/1t+GnjGDd+ohOxElOuJtFNf/exk5p/WDcXBbQkCurj\n",
       "5/h8fwu3dCGfa9AJT1nPZNkwlC4Eu7RW00oIvTPZb/xG4Bc7zpi0XWCGUEFKrYTu8A7ZXv42tYDj\n",
       "a2p2H0XPCKI79DNCJyiidtBw/nqFakrQXuX/pdNGmyBJVHVcgNj+MVXvpJAHqIygymc7KubqTi/D\n",
       "x+JIqpYWUnKtRIdOxixR4sayIW+8GYojoxh/OCv3sZToOSyKFAWlKUHnwGA5SAjg+ERhcuAuEbsS\n",
       "iNawkhKR1N0BU4axcrYyWbk8T9gt9uzNfJN3fptyYwuqMQJf5hmwn7oEoXxgdRgWHUJv0peSIJhC\n",
       "OC6A4wtkcK1oDMkDWBJNIZYpY44pEdW8xDx0xJLKZMVtiYhPekM231Hl7gSKknoRB1K0uTQ20Vqt\n",
       "1z+8QMMaQml6XAiAuwNv2TLqQ2GAjt8qkyur0IZCN6OFNCXPPN9rNi1BNG1K1Ngu3nCRdFHeUcSP\n",
       "R5h6uTC9laq2Hg26dnhcHzgoImIHmzUCVo+iSp5jilQ9xmtQKVXt4lWihl0fOChM171QTqEppqfE\n",
       "aAzPMYWrH/1uKuQLdZn+QsjXBRWon66VfRq1mH15RmN4jqm/SkUNKtWHriu661AXVCDxHXD0tEZb\n",
       "Dh9XaAwvCTdCbSqwWFQlOclffIEi/gGx1SmH3f317QAAAABJRU5ErkJggg==\n",
       "\" style=\"display:inline;vertical-align:middle;\" /></a><br>"
      ],
      "text/plain": [
       "List: (a, b, c, d, e, f, g, h, i, k, m, n, a)"
      ]
     },
     "execution_count": 11,
     "metadata": {},
     "output_type": "execute_result"
    }
   ],
   "source": [
    "List = [a,b,c,d,e,f,g,h,i,k,m,n,a]"
   ]
  },
  {
   "cell_type": "code",
   "execution_count": 12,
   "metadata": {},
   "outputs": [
    {
     "data": {
      "text/html": [
       "<strong id=\"List2\">List2:</strong> <a class=\"ProveItLink\" href=\"__pv_it/b239906d1e3fd01c95c54dfd62ccd4f5161f9b300/expr.ipynb\"><img src=\"data:image/png;base64,iVBORw0KGgoAAAANSUhEUgAAAKAAAAAVBAMAAAAz5vjYAAAAMFBMVEX////MzMxUVFREREQiIiK6\n",
       "uroQEBCYmJhmZmYyMjLu7u52dnaqqqqIiIjc3NwAAACFAiZ1AAAAAXRSTlMAQObYZgAAAAlwSFlz\n",
       "AAAOxAAADsQBlSsOGwAAAmlJREFUOMutVU1oE0EU/tLE3c3mb/Hg1aLQmxg8CAqWoB6KigQtoqcK\n",
       "VQRRWPCkUtyDHiStBg/qQWTBiz3IRtFTCSzSg+ih25sYI0EFj7YHkYY0+N7OTDe6LrlkYGc+vjfv\n",
       "zbzvvUwAdDCyUeSp4I8u4LaApg8DhLm/Et+VeujEOGPJ/Yd5doHnzxSjPkhnnf+cW4rn8GpHjHsc\n",
       "+rsw7CG+wIwbo66cjnE9nnQH2jBf4HVcq24SdRnnhviqZP4auUoS9Qg1rnbtSyDoB+15uaHZskQn\n",
       "1FZ7smLNj/L++sRhpfW79g+p/vzcJItLIYEznbS4sLnheqItv/tGOQRbNkxbqYaSOlD3qhdnBfKe\n",
       "Yhct13GCwlyCIS6c76q9x6GFgG2iD4q/UajKOD8tCVZcbEpkYTcty7hITdVFRpxNvl6IDKV6ZEtv\n",
       "tt4owVYUmEWqL9Bd4CotOzmgVoZXVW04EzaOVpYeka00Hq9dqofCeciUiuusEJ6AL3VLamPjfii8\n",
       "p9QasDWigPvkqveRFueYv0Sdl3GInHwcyHdMdqqSZqaIjCqDyMaZ+xB15uSY09fg2SFHSGvcAK5R\n",
       "nZEN9KkcPNJ+zE47ITAc5CwGkU2v43nH3Ajrw8kxZ/ax1w25sTJKFh25gGmi97z8uorMMUIL1IYM\n",
       "sNT+JJgtG1ptqvtRvk5+DXLbqdZtwaVt5JpEnERGdQDeJ4MI5TmgMR5xU5KTD2KFf85yNJJBhHL0\n",
       "vc36ktvuptYFp7qMtJ9Ub2GQCAbQC/qOLCpuwl0MBCfHN34ZVQsgEQwgfuzm7inu7M07kpPjIKdt\n",
       "j+4vQO/gDyHQuAwDtz9iAAAAAElFTkSuQmCC\n",
       "\" style=\"display:inline;vertical-align:middle;\" /></a><br>"
      ],
      "text/plain": [
       "List2: (a, b, c, d, e, f, g, h)"
      ]
     },
     "execution_count": 12,
     "metadata": {},
     "output_type": "execute_result"
    }
   ],
   "source": [
    "List2 = ExprTuple(a, b, c, d, e, f, g, h)"
   ]
  },
  {
   "cell_type": "code",
   "execution_count": 13,
   "metadata": {},
   "outputs": [
    {
     "data": {
      "text/html": [
       "<a class=\"ProveItLink\" href=\"__pv_it/2fed432016bf43c683c8270a484060fd7386b1cd0/expr.ipynb\"><img src=\"data:image/png;base64,iVBORw0KGgoAAAANSUhEUgAAALAAAAAVBAMAAAAUSHkwAAAAMFBMVEX////MzMxUVFREREQiIiK6\n",
       "uroQEBCYmJhmZmYyMjLu7u52dnaqqqqIiIjc3NwAAACFAiZ1AAAAAXRSTlMAQObYZgAAAAlwSFlz\n",
       "AAAOxAAADsQBlSsOGwAAAo9JREFUOMutVE1oE1EQnjRxd7P5Wzx4tSj0JgYPgoIlqIeiIkGL2FOF\n",
       "KoIoLHhSKc1BD5JWgwfrQWShF3uQjaKnEgjiQfTQ7U2MkaCCR9uDSENanDczrxtd114y8L338c2+\n",
       "ee/NzD4A6ABjQJYXQK7JGJTtCBjwXqDNPliKfp14WIlo1pL3l7JwUY2fGHaNEVq68o9zFKJ3erEr\n",
       "oj2i9R7BcoHw3xgAk15Euno2ovXUYFYIBlJjuxgAL6O57MZJVwgTOE5sE0Nf8g/LlOKkeUIVR4V8\n",
       "9XPA7gftWfmw0XK4g6orPals44Pcxxw5qmvxtv1dqjM7PaqST5iXLc51knwRe93zua2/Na0ikS0f\n",
       "jDuJui5FoM9Zy08x85/AHpxuEE7hiLAvg8UXyXb1mpNgEFE+7pv8L8iVJd4PR8iyBxvCHNiL0xvC\n",
       "JRwRVhdSfBaM4ROzdHVCX3Kj9UondFmTKUhsMrsLcA2n3QQJbBTBL+s2nqSGM4qyMvQVhqM1TvQg\n",
       "dwHkivk1lTnCYxwReMgZyZ0L96lAvs5mn68eBj4gs7kJSd7P/sl9wak4giPCb8KhbMdWi8uYU5t3\n",
       "gLIioU9lpAncF+rSSjNXwXdJQ2bUbwJcBwXuDUgH5lgGfKzRkJusELEqkHEUCX1mDZ527HWqo7q0\n",
       "0uxN2O+RNlSEgoNbz4HCuGoidO97/mUFUieQzWEbKwJL7Y+sbPmg1cY+Oa6Ol10F+exM6zZrSRcy\n",
       "DRROE1LYNSndOfAunoQsqwJbw6E2Jpo8yCWCPBli9XgSsgzidbop2k4vscaa7k551tRPOKrf4iCW\n",
       "9LFniGOLWhvxFgPWxL4KFgTUOhBL+ph6ZKfvae38rTuiiR0W5F3GoMzsEH4DuAXNNijX2V8AAAAA\n",
       "SUVORK5CYII=\n",
       "\" style=\"display:inline;vertical-align:middle;\" /></a>"
      ],
      "text/plain": [
       "((a, b, c, d, e, f, g, h))"
      ]
     },
     "execution_count": 13,
     "metadata": {},
     "output_type": "execute_result"
    }
   ],
   "source": [
    "ExprTuple(List2.entries)"
   ]
  },
  {
   "cell_type": "code",
   "execution_count": 14,
   "metadata": {},
   "outputs": [
    {
     "data": {
      "text/html": [
       "<strong id=\"test\">test:</strong> <span style=\"font-size:20px;\"> <a class=\"ProveItLink\" href=\"__pv_it/e760467f961f02173afc31ac57e27b2925218c220/proof.ipynb\" style=\"text-decoration: none\">&#x22A2;&nbsp;</a><a class=\"ProveItLink\" href=\"__pv_it/94b08a19bd8be55cf7d20b8641adae79091720ec0/expr.ipynb\"><img src=\"data:image/png;base64,iVBORw0KGgoAAAANSUhEUgAAAQsAAAAVBAMAAACj0NY+AAAAMFBMVEX///9UVFREREQiIiIQEBCY\n",
       "mJhmZmYyMjLu7u6qqqrMzMyIiIi6urp2dnbc3NwAAABm9RoHAAAAAXRSTlMAQObYZgAAAAlwSFlz\n",
       "AAAOxAAADsQBlSsOGwAAA3RJREFUSMetVl1IVEEUPvvrXb2rEhTRvmxgIQS5tS8qCKIRST/cCKyn\n",
       "3IrVIMztoVB8uUrUQ8T6EgT2s289lRIh5FYIIT30kBFYtCssWL70oFLmaprNOTPjvbs7N18c2OGb\n",
       "75wz882ZM7MXcoCtErav5Wy9wqDms4RebqOM99RnS/iKocpzjgHkHpiysYOtCtcnR0u57i9FhFYT\n",
       "oeXUMh5CYGNj41chWV7PA8j9doHphkrySgkT3NNWTJXFsO9VytASELzW2dlQQA505XkAuce3WBFA\n",
       "z5dQ3ge1xVQVJaJdKcNvgJ8VYYyPJuVJ5XkAuTdvsSLbeqSE+mA6UF5TJcPLzh7AJUbDdhksAN31\n",
       "xBYrynQXtE/gQJUZKhnvqP+qksEC0N2PFTqX+SFWDI0NCUFpETWXGRHU3fRlMcHp1l0CBa68MURV\n",
       "3XvObl+wWiWjmx6GsEoGC8gK+fopqONZTvZqf/lj0gAX+TFt2vRGeCrn/SPBZ/jGZ9eWcy4mwZeQ\n",
       "MvxRaigLrmPnmlDJYAHo7mFbvWnAJW55bIoVPFNwnACzdXHbvAGvxASVqzIZeaga5WgVXExQIKLK\n",
       "Bl2ReVDJYAHo7mUae0xo4pYu0NYJ9MgatGx16Rm5n8CCrL0wjPAH0p8ALxNUvqCScYInDtulaPRI\n",
       "NHpoUwYLkDJaQFuTz4bOr2yLnMGyLSoqmZXNC5Dpm0+xk2t2lHFYmQ0WQLUxhAnwie0tgZ+urMgJ\n",
       "2G3r1rTuagE6crCXo+QE3RXrUOy10YczLf7vUNyjoK2AO/EI8BjWsBZM0gM6AputCS+/xs8C6wG5\n",
       "DtCWONcBcNJngi+sysYB3PZvpQwWkOUXBvrhTGxKW2ajnbAfCHSya07Asp0F7Sok6ZnB9BOXzLny\n",
       "nNsBsBpkORhVyfiI215XymAB9HyxLA68fhZKQZRt7xY+GwiCmbRJwLJVZNKsBOrpQmGHnB6ajnBu\n",
       "H8AMk+DJqWS8xdvVViTDVfMzRAHk3iitAdMR2NB97C5YnCcmON5mlf8pnpR9NGwfzAr39s3ydwY2\n",
       "xB7dQHWf4Mp3w0iKONniShm+gr+DSfsgLtzd8sPoDjgCC2mY+NqE4FzHtH7OyXctrP7eOOj0nYQB\n",
       "5K7Jp94AR2AhH/7GcoLT49MTnJM32VTLGHSSgQHjhL5v40fgeerHSzdtOAf8AzkCDvfjsJ4BAAAA\n",
       "AElFTkSuQmCC\n",
       "\" style=\"display:inline;vertical-align:middle;\" /></a></span><br>"
      ],
      "text/plain": [
       "test: |- |(a, b, c, d, e, f, g, h)| = (7 + 1)"
      ]
     },
     "execution_count": 14,
     "metadata": {},
     "output_type": "execute_result"
    }
   ],
   "source": [
    "test = tuple_len_incr.instantiate({i: num(len(List2.entries) - 1), a: List2.entries[:-1], b: List2.entries[-1]},\n",
    "                                                 assumptions=[InSet(num(10), Naturals)])"
   ]
  },
  {
   "cell_type": "code",
   "execution_count": 15,
   "metadata": {},
   "outputs": [],
   "source": [
    "from proveit import Lambda"
   ]
  },
  {
   "cell_type": "code",
   "execution_count": 16,
   "metadata": {},
   "outputs": [
    {
     "data": {
      "text/html": [
       "<span style=\"font-size:20px;\"> <a class=\"ProveItLink\" href=\"__pv_it/85d7012509249668c0cb038c57afe340b7b1bb040/proof.ipynb\" style=\"text-decoration: none\">&#x22A2;&nbsp;</a><a class=\"ProveItLink\" href=\"__pv_it/4bc68cd20041464e6d151590dd05162b08339e6b0/expr.ipynb\"><img src=\"data:image/png;base64,iVBORw0KGgoAAAANSUhEUgAAANoAAAAVBAMAAADSje2JAAAAMFBMVEX///9UVFREREQiIiIQEBCY\n",
       "mJhmZmYyMjLu7u6qqqrMzMyIiIi6urp2dnbc3NwAAABm9RoHAAAAAXRSTlMAQObYZgAAAAlwSFlz\n",
       "AAAOxAAADsQBlSsOGwAAAuNJREFUSMetlk1oE0EYht/8bDppN20QFDEHI6j0ZAO9aEEoLUhFlBWh\n",
       "3mxU2ipVm5NUCrKK6EFKchE8qK0nT5ogUtBYyd2DBaFKY2HxpxcPrULpv3V+s9tkllw6kOHpO9l5\n",
       "5/vm+zaFAzaasXPD8czV4xuf3+6g20fPvlq36LRHudut+dqLE7Xa9a9VAjmYonNTTus2NnVNqg+2\n",
       "6Td1p1qtUWL7TlZLDWk2j2jd0gjkhNpfZ2PAXKmRwk9aq6UWHlavzs2wQDJC7ayzMQ0kVSN9sn2k\n",
       "sK1xiyWVm5mps7HK0bbxGT5Sg6VxM//aEYurEVYk8+XfcuPEZE76FmcFzJfzUhorXpGPn+3eIyk6\n",
       "9MGSN/7oNa38WFx3b/vXrwqVHcY8gzaRmuwI+Sea8BguiXNV1swOvFSPryv4gp9JUZPLToA6GRnl\n",
       "FmnnI86PvnVbqCF68HsWLouHx225UWgapzjQtUGxtmDhvfRoXlOhraClIGgNAeobTelie/p9q8TV\n",
       "cAkYtnFcyIMgmxyGVRm4a23FuZIyWVS1mURevDkiGYSpb+OiribTGO+puHWBbKh2M0UPdKlvumt/\n",
       "NMVEr/QNVDIWJmi6OzVutFCbV8W95Vg4hjzsEiK8B2SE8K5tuo8H4xL6HBwQlC3xqnQz6bm3LP3s\n",
       "5mqwALKKYOYZWO422D3Z3BYmA88aTWgURByW5oxTH8iSIpw2bBhJXWw02Ue4ykp2FOfS02SZn+Aw\n",
       "OAwAsxzctfMgN5Dl7clyxinrBFYE7QLWYjSigq7fRmAURHfT0O9MvUpMoJ0GcJ+1G4NYuWhzcNea\n",
       "ykV6PUd56UKSmZhJCToEzFGnkKOryecD6q3coaSo7QseesymixVCKK2Ijx91fnF6K4XmDx6ir55o\n",
       "/Jakxr3IT3BSo7+OW1D90j6EL7hEWLZaM5ICPWRUkGr7ZB03kpR/WfAFlwz2mXQkmf0zJUGqNWx/\n",
       "t3d8/rWD/ylc8OxbNf4Dr7zoV3ylh6YAAAAASUVORK5CYII=\n",
       "\" style=\"display:inline;vertical-align:middle;\" /></a></span>"
      ],
      "text/plain": [
       "|- |(a, b, c, d, e, f, g, h)| = 8"
      ]
     },
     "execution_count": 16,
     "metadata": {},
     "output_type": "execute_result"
    }
   ],
   "source": [
    "Equals(Add(seven, one), eight).subRightSideInto(test)"
   ]
  },
  {
   "cell_type": "code",
   "execution_count": 17,
   "metadata": {},
   "outputs": [
    {
     "data": {
      "text/html": [
       "<span style=\"font-size:20px;\"> <a class=\"ProveItLink\" href=\"_proofs_/add_7_1.ipynb\" style=\"text-decoration: none\">&#x22A2;&nbsp;</a><a class=\"ProveItLink\" href=\"__pv_it/db50de7ecac01e25decf1a69f33c3cd2bbe2fdca0/expr.ipynb\"><img src=\"data:image/png;base64,iVBORw0KGgoAAAANSUhEUgAAAGEAAAAVBAMAAACkm51HAAAAMFBMVEX////MzMxUVFREREQiIiK6\n",
       "uroQEBCYmJhmZmYyMjLu7u52dnaqqqqIiIjc3NwAAACFAiZ1AAAAAXRSTlMAQObYZgAAAAlwSFlz\n",
       "AAAOxAAADsQBlSsOGwAAAVBJREFUOMtjYGB4wIAd4BJn4D3AV4VVIhaXjtMMPP////+GKsjoBTIK\n",
       "XSnX3h0BQHICA/ekjg4fFKlFnb+A5Cx0HRwMDDpAsgDE4GuAiIXDnArSUYGuo5yBYSUDAxsDAw8D\n",
       "AxNU7CyyDrYFaDo2g3VEgtkbsengLEDTEW/F0M7A0A1i8hlg08GtgKaD6f8NYGhMBzMDsOlgnwD2\n",
       "rgsYgHXv/wmMJHAgvWfApoPHAc0Onn32XxkYUkHMnWCBFheXNBcXJ7gOxg9oOioYeL4tgOhwxmoH\n",
       "awKajiygaw4wzAHF5Sc8rkL4gwtoJ1MBgy3IsB9YdbAboNmRx8DA/IBhE8iw31h1cFxA0xG5gKGW\n",
       "gSEEFB05aDqYzL7oMjCwoKd3Ro0OYDSwCCCLnUXmPMGe2NkbkHnhyJx2HPnDDlfG4TPAIbEYlw7m\n",
       "BbiMKsAhUYddGAA7v1fxsfF06QAAAABJRU5ErkJggg==\n",
       "\" style=\"display:inline;vertical-align:middle;\" /></a></span>"
      ],
      "text/plain": [
       "|- (7 + 1) = 8"
      ]
     },
     "execution_count": 17,
     "metadata": {},
     "output_type": "execute_result"
    }
   ],
   "source": [
    "Add(seven, one)._integerBinaryEval()"
   ]
  },
  {
   "cell_type": "code",
   "execution_count": 18,
   "metadata": {},
   "outputs": [
    {
     "data": {
      "text/html": [
       "<span style=\"font-size:20px;\"> <a class=\"ProveItLink\" href=\"__pv_it/f4c116d54fdfa6097c3bd02864fe369a2dd9fff50/proof.ipynb\" style=\"text-decoration: none\">&#x22A2;&nbsp;</a><a class=\"ProveItLink\" href=\"__pv_it/c53c9311cfcd4443115f11d31eae9e836deb45b70/expr.ipynb\"><img src=\"data:image/png;base64,iVBORw0KGgoAAAANSUhEUgAAAtAAAAAVBAMAAACdw8SBAAAAMFBMVEX////MzMxUVFREREQiIiK6\n",
       "uroQEBCYmJhmZmYyMjLu7u52dnaqqqqIiIjc3NwAAACFAiZ1AAAAAXRSTlMAQObYZgAAAAlwSFlz\n",
       "AAAOxAAADsQBlSsOGwAABSdJREFUWMO9mV1oHFUUgE/2b2Znp5N9EB/dlYIWIbD4YDWgruk+iIYS\n",
       "sKT0QSy0KsSoi/XBCppFC4mE2MUHU0qLgwVpHyTbYKAaAotEBEvthoIEY+pgi/oibYQau22N9zez\n",
       "M/fOzO5MNjec5eTce/Y759w7987MAoCF/nAzYOua1fIpmLsBMuSd25aZ1LQJJwHsqMMcsfyyheG8\n",
       "SD7n3ObugZINsW87M0Mw412pA46MRHeRuem1lt4zhyUuPZ9WBNvkNy6D9liR5uhZ6HAgdd70BUmK\n",
       "ebGrQAGmb2xs/OOy3mfSyJBoVeZ2zjHihGxyeutuS+bBUbcpTWI+6V3oUCCYvb/uC0qbbo9omQUC\n",
       "BVjmk4mJQadx12cmjQyJWmZu444xd2XhvCQkk/quXx7zO96FDgWC0RdMX5AirMlomQUCBZiK9mIW\n",
       "xH5u/tWkkSFJcbeDjo2lKQvnq3YCpKaU6VnoUCDJOBdoRFgEXQa6YTpAjP13qbXQJLIROMDcklXH\n",
       "llCUhXOijQCZKV32KnQ4kGScCzTt7j/QZaAAAzgvLfQ0kUnmpuIT48+Fv9h21LfMdqjMKvM2JpfY\n",
       "VactLLOF/NbhXewb9amrZRbz91fQnU4m71XoUCDloYFKAGhWOKcDgLCwko0CFGBgFKSFniUyzdzw\n",
       "RCXfgKcpaOak9h8NYhA+pD7DVpxdTfuyPfwcv8e/8Wv4nVK021YMhaJUeThqibQ8RAL1NoJAR92w\n",
       "gMzgel0tRAEKMIgNSQt9lMggc0ugef6iDMfogMsmq2GiBq9TzKug0mvQWIcd7BuNNb6gmzwyfQ1i\n",
       "KDC96LWiQ4HgRjYItOiGBWQGz0OqEQUowOAGSAu9SORl5pZChOMmopP2EWh3iHKcn3ZqE9cCt/i9\n",
       "Fc7Rb/KzoAA5+miEYsbx99z0KnQoEFwOBOXcsIDM1GZEoABDix+3Y6XSK6XSgF3oHJHWcA6Bdosf\n",
       "Dkm6bR0CGzhDZ7s3L54YuTr8BHxl4sWQPOhX6I5Bm6euN2jYr9ASYKoQESgWeo98RQ8TOcV3sjqe\n",
       "aoUt0XU24Wz28d5WgzG2e9kPWnEe2ZgFj7JxQyRG+wIT9ugwIP7tPqBFN8w/M8yJBhRg2t9+W8eT\n",
       "zC3eAO0uxKs/Au67hXc1k8QFSaLM1OEJ3dLozEId6D0l3r2wNgbaOtfgNcUEpeC1okOByP7tDzri\n",
       "hgVk1ovOyCEtAlCAJf+VF/oIkVnmhu9aTsPblZp2G/33MDwORJlAN4dESTeUZzMwUyXH7lmL2Mil\n",
       "RLQZK9ak2k6AtQya7YZXoUOB8KkbAJoSnqH9gWoFMlmMCQsUYPodeaGniOzjt/Xoivh85YG+LJRQ\n",
       "51l8s4mVzMKqSRSt7/xvS5B4Dg1dWW3QTnpiYC3Zd6FItd0A86g7YXk+sIQBkVPXH7TXDQvIDOZX\n",
       "fyaYsEABZoy6C73zzYEGjWwvJLLM7Rk+Sjc9FYAfHKM+sHsTFce4697vOsKA1HwQyBCe5NrJzMZ0\n",
       "DBRhdrvkeCFdJIJfecxtviwhtxLeCkCtxabnTzGt5xHIZR3jxr0L3TkIvk3Xg0Bq2Q1rJzMb0zFQ\n",
       "hNltv/vlFpanmFuc/0TwJXgqoDVabIn+KtNiI9ppxzj6MCovdOcg2HMuEHRNfIHRRmY2pmOgCPNo\n",
       "15icYW4av6/cXBqiAgq02JRli2nJ8QtDjnFx07vQnYPgvY8DQf1ihm1kpoQHijCP1s/EKMMSMfyx\n",
       "hT/4vE8+l9zm7oEUyU9225kZhskbjgzJ/3xcDBdSL1gCAAAAAElFTkSuQmCC\n",
       "\" style=\"display:inline;vertical-align:middle;\" /></a></span>"
      ],
      "text/plain": [
       "|- (|(a, b, c, d, e, f, g, h)| = |(a, b, c, d, e, f, g, h)|) = (|(a, b, c, d, e, f, g, h)| = (7 + 1))"
      ]
     },
     "execution_count": 18,
     "metadata": {},
     "output_type": "execute_result"
    }
   ],
   "source": [
    "test.substitution(test.innerExpr().rhs)"
   ]
  },
  {
   "cell_type": "code",
   "execution_count": 19,
   "metadata": {},
   "outputs": [
    {
     "data": {
      "text/html": [
       "<span style=\"font-size:20px;\"><a class=\"ProveItLink\" href=\"__pv_it/5c566e8624d96aef9b3b4d116c089c1c744ccc630/expr.ipynb\"><img src=\"data:image/png;base64,iVBORw0KGgoAAAANSUhEUgAAAE8AAAAVBAMAAAD1D64kAAAAMFBMVEX///8QEBBERERUVFTMzMyY\n",
       "mJjc3NxmZmYiIiJ2dnaqqqoyMjKIiIi6urru7u4AAAAvZeGPAAAAAXRSTlMAQObYZgAAAAlwSFlz\n",
       "AAAOxAAADsQBlSsOGwAAAW9JREFUKM9jYGDgu8uAH7Atg9Cn1+FQwNevtI+BU16WwVkPxOX6ByRY\n",
       "+oDEzOMJqCqZFlxmYHj/gIFBGcTjbGBgeFwNVM29gK8NVSFzG2cAAyOQMQOmkIEHqDCCgWESmsJF\n",
       "DNsYODAUAs1f/wCsgEejoxusMPVANhaF3xkY7i8AifDueQA1McGEZwKGQj6QwgCQSPYDmNUJTAy6\n",
       "cIXsGyAK2X4yMPgfAIlsg7sxgaXgxQsg4yCIlx+ApHACSGQDQiFDFJciSA3QSc69DFCrgQrvg0xk\n",
       "kejo6GiCKmR+YAiKG+0FDHzVDxCeWQ/yDJ8Ckol8BiCrOfeCgt8AqlCJgSEe7I0GJIUMPkxAxvoE\n",
       "5OAJZGCoBsufgUehA1DGCciYiBKOHAv4RMDy3AugCjlAjGrkcGRW/GHDwDfnsAMk1RjdA9Ms/UJA\n",
       "8jVKgKMC3kmQKIQDXAoxAFghjwBhhWBP8kkRVMcnCqbSrQioY5kM9D0A/thkgZVgh7EAAAAASUVO\n",
       "RK5CYII=\n",
       "\" style=\"display:inline;vertical-align:middle;\" /></a> <a class=\"ProveItLink\" href=\"__pv_it/eac8ed189cd92053684e93f3ab78d3acedbbf9e80/proof.ipynb\" style=\"text-decoration: none\">&#x22A2;&nbsp;</a><a class=\"ProveItLink\" href=\"__pv_it/2e96d16e48ab56e084319a78e604c22de872742a0/expr.ipynb\"><img src=\"data:image/png;base64,iVBORw0KGgoAAAANSUhEUgAAASQAAAAVBAMAAAAdho5jAAAAMFBMVEX///9UVFREREQiIiIQEBCY\n",
       "mJhmZmYyMjLu7u6qqqrMzMyIiIi6urp2dnbc3NwAAABm9RoHAAAAAXRSTlMAQObYZgAAAAlwSFlz\n",
       "AAAOxAAADsQBlSsOGwAAA4tJREFUSMe9VktoE0EY/vPazCbZJIigEJAoFREPphZEhIIUCoooAaEX\n",
       "wQZKUSlqBClCUbYg9uBh14MiCO0evGrXIkVbUoL1IiKJVCr0AStVQUQMSGlaHzjPzaabuDl1D5Mv\n",
       "3/yPb/75Z3bBAvLEYesez4xLdHyxhZLe0FEp/l+SXHYwqC3jNotcy7k4aVmtJ5yek02DRfXGkiJH\n",
       "+EAljdTNhXMNpCd0F/Xu0WbO4dnZPNj1hpKGz1f5QCX1e2UHKKku6sRL1Vt3A6qncZWiVT5QSce8\n",
       "sgPMuZhYtRXdDaig6i0plvfIjp9BF6NkWtAN791UOOstSSLd/WXxG5+7On2Ro8WCwU7spal13q6L\n",
       "k3zZoe3tvE3kgZks131vgh1xNGmKYPDwAgVvd31/aj6ewEqUpLckIjt2Gg6yZGhN1VjgFV1KU/DK\n",
       "8vNdmjUi4nQmRNYP8CnNPS1fklUwxnsBrcqj3RSV95hotShjPpS3JfV1kKfdLSmAW/BWFvr4oqsi\n",
       "WycEKUDdILG9ja9CVCzvh7HZXt4AHxP3lduD/Pd15CY94sUuiP+BUAVzGe8qBfH0FVWcWxxNo5WQ\n",
       "RP9iEGC18f8qLIkQY6Jb0zBuCU+2BlBFCaVuLhyh30Q8kRyptCapC7CPuElKOs9lJ9VYhETS3cvj\n",
       "OjxjCOsWpRvjHRcYXOBmckVIppvq1Us6IFZTmjZLSoYfTXQNBr18znHN7+a/vZaAWPec3dWCKnGR\n",
       "vjyRXLJU58Y17SW/CWgd/PlRIFISRdw7iGmDIgGaDvtkC7E6gA6sAifJBhFJuIcFglMhldihdYWG\n",
       "wJSmm3QyWCaSd8R1CKW9q0RO5RCcyZXRGllO1p8DDbenlAPFICBshg4rlMKH5bZFrSC+QY4YEWz5\n",
       "qgxtA9hgdrHKZ/qLKc1gYfGWYsk3FBzXbOGqxJUcLjxJGdCB14MG8LUUIO/A5ennFKDUwscpRhWm\n",
       "cTxiRXqDoVhqPsPQXuxiMrsDWfa7H6IDKp2cpa/i+zM4ttVIkq/tZ4oN9AAdFbxsX/8PXKCGqJWU\n",
       "tO0DOaenbVfzlOveKiutfJz02C8Jmy+7QA0Rq7thnaHIThg3nJ62Xc1TqUvZ34okv8X/3bE/fczN\n",
       "wIGI1aERjnzH0ZDT07ar2TsmSROmW5GExA2UFXTIBRyIWJ29zFGsf77o9LTtavaOSbJ+1UPSFB0/\n",
       "b+GH7jl2voxm8/8AEqs7IK8XaXsAAAAASUVORK5CYII=\n",
       "\" style=\"display:inline;vertical-align:middle;\" /></a></span>"
      ],
      "text/plain": [
       "{10 in Naturals} |- |(a, b, c, d, e, f, g, h, i, k, m)| = 11"
      ]
     },
     "execution_count": 19,
     "metadata": {},
     "output_type": "execute_result"
    }
   ],
   "source": [
    "# Able to compute the length of 11\n",
    "Len(ExprTuple(a, b, c, d, e, f, g, h, i, k, m)).evaluation(assumptions=[InSet(num(10), Naturals)]).prove()"
   ]
  },
  {
   "cell_type": "code",
   "execution_count": null,
   "metadata": {},
   "outputs": [],
   "source": []
  },
  {
   "cell_type": "code",
   "execution_count": 20,
   "metadata": {
    "scrolled": true
   },
   "outputs": [
    {
     "data": {
      "text/html": [
       "<span style=\"font-size:20px;\"><a class=\"ProveItLink\" href=\"__pv_it/3b03c261d8f9d64a8eb9ddfe2519f520a91527e80/expr.ipynb\"><img src=\"data:image/png;base64,iVBORw0KGgoAAAANSUhEUgAAAgUAAAAVBAMAAAAk+4CMAAAAMFBMVEX///8QEBBERERUVFTMzMyY\n",
       "mJjc3NxmZmYiIiJ2dnaqqqoyMjKIiIi6urru7u4AAAAvZeGPAAAAAXRSTlMAQObYZgAAAAlwSFlz\n",
       "AAAOxAAADsQBlSsOGwAABA1JREFUWMPFWFloU0EUPUma1yZNnsUFpGCpK4ILBRUXRCtFxC/jl36I\n",
       "LYIWQWjEj4BBLIpa97hALQrmSxDEVgQRQan6UUSQgh8iIn0oKIJQ96XVxpm5s2Vp6IfkDWRycufe\n",
       "OefdWV8AuK9Rqoxj/m/FuVa+vSL8SsTTmyV9xjGXLVXAu0Kq7eM5tywu21dl+ElEdIwHnyn0EOae\n",
       "gTbVu3JoT8+RaHf3Iu29gb4Co3eVX6TnIvWTy+U+k+nDkwOysTq1htWzDZshqjS/qCKdwNv0WGEO\n",
       "uLk26x6lX9rBacLVQZqrSbRmlfdh+qo5e9yTfqexgvq5nUqdIFsSIQpwT2Ede7hLmswQVZz/kiJD\n",
       "rGQOtgLn5U/lEPIQqCPLCIb7VKvUEDJPlcQsSjnTkxQonIBLAaE6BJN2DiyiSvOXyMGjrq4+rYHN\n",
       "k14vX0NgDKEfAsVnYJLSsP52oQYVh6i2RhqVBhYX+WTnwBBVnL84B6+e2ePwExjKFoxDJ0LfNFFC\n",
       "gkyRhlvWkNLCRPyLV00Bw42IfbNzoIkqz1+UA+eBPRddriGRr4Evuk8SxI+oqdimNGwbaCY0unFg\n",
       "UO3MjRKs/bMfehz+WjnQRD7wi6q6z1DUmt2ZmZ3fwKb+Ig3KVPV4qbTshNQQ9Jy/9FSjCdTL1pAS\n",
       "E8ndgV6P34GH+vxSRD7wi6ojYeXATCBmFhoyRRqOmUUnJ2pGaWBlPmnIAXvlkuxQTdd35OSWPgMt\n",
       "I6wha+cg4w8/r1pOWxTrulgRU4ebXaZhqGgcqpOaL0DGcJul4SAN5S+gVeb/smwJJ9HbQPD9kxts\n",
       "PToL5DNoIh/4eeWmPUPxxtxUufmnSbXRsEXdWpoRHBFoD5SGBUwDLciTTINcyoeUYg/OiH4S1l/k\n",
       "vrUnCiIf+EUVbDIUNWYucjM7YVsLziZEM9hFm+uY0vB8yZLPKwWazjYePSXlOLhfZeQw+yzT5zcb\n",
       "7V69+hWRD/yiss+FWH/eHWUzkIarNQi0EXgGLizQxOeilDgFArHFO5nchth6JBRno0kBjG2eQNEG\n",
       "dLDhOidCuUEQ+cN/ruh+cC9PQ03WnSovY9yBI+dYal+nO0rXrt6EQKx8gUDtiDVQQDDj1hOK/gY1\n",
       "xh8g3C9Q7AzmqmNJGASRP/z6fhCa+Ws13csXeZYG98rjZtTwtxDhwFEtewXpQxf3epFi7ywCIZ1b\n",
       "KJCTWu5RALr3yVCHn1HCrSV1QKKe7kFFLwyCyB9+c0fS5eV8665KxbzDahT1yqEJBsgcWAY/+Evk\n",
       "IG8uqtO3CEVQDk0wQOYgAl/5RRWrK6lBm129Txn0EWXQRANoG7QNfvCLyq0v/VeWMoe1yaBEOTTR\n",
       "AHdagcEPfimifVVJEeOY/1upupAt214RflH9A6vxV+RtR6PXAAAAAElFTkSuQmCC\n",
       "\" style=\"display:inline;vertical-align:middle;\" /></a> <a class=\"ProveItLink\" href=\"__pv_it/1d36fa2a5ed5ed90e3f74ca5d58a7e7caa5196b80/proof.ipynb\" style=\"text-decoration: none\">&#x22A2;&nbsp;</a><a class=\"ProveItLink\" href=\"__pv_it/d66585d01e90f84d0887a58a6be6d4d41a531e090/expr.ipynb\"><img src=\"data:image/png;base64,iVBORw0KGgoAAAANSUhEUgAAAHUAAAAVBAMAAACK3rzVAAAAMFBMVEX////MzMxUVFREREQiIiK6\n",
       "uroQEBCYmJhmZmYyMjLu7u52dnaqqqqIiIjc3NwAAACFAiZ1AAAAAXRSTlMAQObYZgAAAAlwSFlz\n",
       "AAAOxAAADsQBlSsOGwAAAThJREFUOMtjYGB4wIAH8OGTZOA9gE+W9QI+2dNALLKAgYF7bx+6FEj4\n",
       "DqYOkDCY4JrAwKUxH8iYw7AE1fUQYc4FaDrBwhA5jgIg//4CBnYHBm4DqDsLoMqAwgzsDRj2goTB\n",
       "BBuUx6zAwPMLIsdzAVlRFm69kVAefwMD6x9seqfj1tsN5a0H6v2OTe8m3HqnQ3nvNzAw/sWmtxLM\n",
       "bHEBASdUvT5Ien9j03sEt72pMDdvYGAF2cvh4uKW4uKiAFckT1gvMKx4sIZVGG69c2BxZMDA/gu3\n",
       "m7H61xbKY09g4JiATW8xbns3McADbZkANr29uPWGAGnlfKcLDKvvKjKg6gULM/ihawULgwkWAQxz\n",
       "eZDzHZ8D7iyIJa3D8wIIcBTgyb92eEsGhsf4JBfj12uFt0TC5ygGdjylGQA/8Y2BhkORKQAAAABJ\n",
       "RU5ErkJggg==\n",
       "\" style=\"display:inline;vertical-align:middle;\" /></a></span>"
      ],
      "text/plain": [
       "{1 in {0, 1, 2, 3, 4, 5, 6, 7, 8, 9}, 0 in {0, 1, 2, 3, 4, 5, 6, 7, 8, 9}} |- (10 + 1) = 11"
      ]
     },
     "execution_count": 20,
     "metadata": {},
     "output_type": "execute_result"
    }
   ],
   "source": [
    "Add(num(10), one).evaluation(assumptions=[InSet(zero, digits), InSet(one, digits)])"
   ]
  },
  {
   "cell_type": "code",
   "execution_count": 21,
   "metadata": {},
   "outputs": [
    {
     "data": {
      "text/html": [
       "<span style=\"font-size:20px;\"><a class=\"ProveItLink\" href=\"__pv_it/3b03c261d8f9d64a8eb9ddfe2519f520a91527e80/expr.ipynb\"><img src=\"data:image/png;base64,iVBORw0KGgoAAAANSUhEUgAAAgUAAAAVBAMAAAAk+4CMAAAAMFBMVEX///8QEBBERERUVFTMzMyY\n",
       "mJjc3NxmZmYiIiJ2dnaqqqoyMjKIiIi6urru7u4AAAAvZeGPAAAAAXRSTlMAQObYZgAAAAlwSFlz\n",
       "AAAOxAAADsQBlSsOGwAABA1JREFUWMPFWFloU0EUPUma1yZNnsUFpGCpK4ILBRUXRCtFxC/jl36I\n",
       "LYIWQWjEj4BBLIpa97hALQrmSxDEVgQRQan6UUSQgh8iIn0oKIJQ96XVxpm5s2Vp6IfkDWRycufe\n",
       "OefdWV8AuK9Rqoxj/m/FuVa+vSL8SsTTmyV9xjGXLVXAu0Kq7eM5tywu21dl+ElEdIwHnyn0EOae\n",
       "gTbVu3JoT8+RaHf3Iu29gb4Co3eVX6TnIvWTy+U+k+nDkwOysTq1htWzDZshqjS/qCKdwNv0WGEO\n",
       "uLk26x6lX9rBacLVQZqrSbRmlfdh+qo5e9yTfqexgvq5nUqdIFsSIQpwT2Ede7hLmswQVZz/kiJD\n",
       "rGQOtgLn5U/lEPIQqCPLCIb7VKvUEDJPlcQsSjnTkxQonIBLAaE6BJN2DiyiSvOXyMGjrq4+rYHN\n",
       "k14vX0NgDKEfAsVnYJLSsP52oQYVh6i2RhqVBhYX+WTnwBBVnL84B6+e2ePwExjKFoxDJ0LfNFFC\n",
       "gkyRhlvWkNLCRPyLV00Bw42IfbNzoIkqz1+UA+eBPRddriGRr4Evuk8SxI+oqdimNGwbaCY0unFg\n",
       "UO3MjRKs/bMfehz+WjnQRD7wi6q6z1DUmt2ZmZ3fwKb+Ig3KVPV4qbTshNQQ9Jy/9FSjCdTL1pAS\n",
       "E8ndgV6P34GH+vxSRD7wi6ojYeXATCBmFhoyRRqOmUUnJ2pGaWBlPmnIAXvlkuxQTdd35OSWPgMt\n",
       "I6wha+cg4w8/r1pOWxTrulgRU4ebXaZhqGgcqpOaL0DGcJul4SAN5S+gVeb/smwJJ9HbQPD9kxts\n",
       "PToL5DNoIh/4eeWmPUPxxtxUufmnSbXRsEXdWpoRHBFoD5SGBUwDLciTTINcyoeUYg/OiH4S1l/k\n",
       "vrUnCiIf+EUVbDIUNWYucjM7YVsLziZEM9hFm+uY0vB8yZLPKwWazjYePSXlOLhfZeQw+yzT5zcb\n",
       "7V69+hWRD/yiss+FWH/eHWUzkIarNQi0EXgGLizQxOeilDgFArHFO5nchth6JBRno0kBjG2eQNEG\n",
       "dLDhOidCuUEQ+cN/ruh+cC9PQ03WnSovY9yBI+dYal+nO0rXrt6EQKx8gUDtiDVQQDDj1hOK/gY1\n",
       "xh8g3C9Q7AzmqmNJGASRP/z6fhCa+Ws13csXeZYG98rjZtTwtxDhwFEtewXpQxf3epFi7ywCIZ1b\n",
       "KJCTWu5RALr3yVCHn1HCrSV1QKKe7kFFLwyCyB9+c0fS5eV8665KxbzDahT1yqEJBsgcWAY/+Evk\n",
       "IG8uqtO3CEVQDk0wQOYgAl/5RRWrK6lBm129Txn0EWXQRANoG7QNfvCLyq0v/VeWMoe1yaBEOTTR\n",
       "AHdagcEPfimifVVJEeOY/1upupAt214RflH9A6vxV+RtR6PXAAAAAElFTkSuQmCC\n",
       "\" style=\"display:inline;vertical-align:middle;\" /></a> <a class=\"ProveItLink\" href=\"__pv_it/1d36fa2a5ed5ed90e3f74ca5d58a7e7caa5196b80/proof.ipynb\" style=\"text-decoration: none\">&#x22A2;&nbsp;</a><a class=\"ProveItLink\" href=\"__pv_it/d66585d01e90f84d0887a58a6be6d4d41a531e090/expr.ipynb\"><img src=\"data:image/png;base64,iVBORw0KGgoAAAANSUhEUgAAAHUAAAAVBAMAAACK3rzVAAAAMFBMVEX////MzMxUVFREREQiIiK6\n",
       "uroQEBCYmJhmZmYyMjLu7u52dnaqqqqIiIjc3NwAAACFAiZ1AAAAAXRSTlMAQObYZgAAAAlwSFlz\n",
       "AAAOxAAADsQBlSsOGwAAAThJREFUOMtjYGB4wIAH8OGTZOA9gE+W9QI+2dNALLKAgYF7bx+6FEj4\n",
       "DqYOkDCY4JrAwKUxH8iYw7AE1fUQYc4FaDrBwhA5jgIg//4CBnYHBm4DqDsLoMqAwgzsDRj2goTB\n",
       "BBuUx6zAwPMLIsdzAVlRFm69kVAefwMD6x9seqfj1tsN5a0H6v2OTe8m3HqnQ3nvNzAw/sWmtxLM\n",
       "bHEBASdUvT5Ien9j03sEt72pMDdvYGAF2cvh4uKW4uKiAFckT1gvMKx4sIZVGG69c2BxZMDA/gu3\n",
       "m7H61xbKY09g4JiATW8xbns3McADbZkANr29uPWGAGnlfKcLDKvvKjKg6gULM/ihawULgwkWAQxz\n",
       "eZDzHZ8D7iyIJa3D8wIIcBTgyb92eEsGhsf4JBfj12uFt0TC5ygGdjylGQA/8Y2BhkORKQAAAABJ\n",
       "RU5ErkJggg==\n",
       "\" style=\"display:inline;vertical-align:middle;\" /></a></span>"
      ],
      "text/plain": [
       "{1 in {0, 1, 2, 3, 4, 5, 6, 7, 8, 9}, 0 in {0, 1, 2, 3, 4, 5, 6, 7, 8, 9}} |- (10 + 1) = 11"
      ]
     },
     "execution_count": 21,
     "metadata": {},
     "output_type": "execute_result"
    }
   ],
   "source": [
    "md_nine_add_one.instantiate({m:one, k:zero, a:ExprTuple(one), b: zero}, assumptions=[InSet(one, digits), InSet(zero, digits)])"
   ]
  },
  {
   "cell_type": "code",
   "execution_count": 22,
   "metadata": {},
   "outputs": [],
   "source": [
    "#md_nine_add_one.instantiate({m:one, k:zero, a:ExprTuple(one), b: zero}, assumptions=[InSet(one, digits), InSet(zero, digits)]).innerExpr().rhs.operands[-1].evaluate()"
   ]
  },
  {
   "cell_type": "code",
   "execution_count": 23,
   "metadata": {},
   "outputs": [
    {
     "data": {
      "text/html": [
       "<span style=\"font-size:20px;\"><a class=\"ProveItLink\" href=\"__pv_it/5c566e8624d96aef9b3b4d116c089c1c744ccc630/expr.ipynb\"><img src=\"data:image/png;base64,iVBORw0KGgoAAAANSUhEUgAAAE8AAAAVBAMAAAD1D64kAAAAMFBMVEX///8QEBBERERUVFTMzMyY\n",
       "mJjc3NxmZmYiIiJ2dnaqqqoyMjKIiIi6urru7u4AAAAvZeGPAAAAAXRSTlMAQObYZgAAAAlwSFlz\n",
       "AAAOxAAADsQBlSsOGwAAAW9JREFUKM9jYGDgu8uAH7Atg9Cn1+FQwNevtI+BU16WwVkPxOX6ByRY\n",
       "+oDEzOMJqCqZFlxmYHj/gIFBGcTjbGBgeFwNVM29gK8NVSFzG2cAAyOQMQOmkIEHqDCCgWESmsJF\n",
       "DNsYODAUAs1f/wCsgEejoxusMPVANhaF3xkY7i8AifDueQA1McGEZwKGQj6QwgCQSPYDmNUJTAy6\n",
       "cIXsGyAK2X4yMPgfAIlsg7sxgaXgxQsg4yCIlx+ApHACSGQDQiFDFJciSA3QSc69DFCrgQrvg0xk\n",
       "kejo6GiCKmR+YAiKG+0FDHzVDxCeWQ/yDJ8Ckol8BiCrOfeCgt8AqlCJgSEe7I0GJIUMPkxAxvoE\n",
       "5OAJZGCoBsufgUehA1DGCciYiBKOHAv4RMDy3AugCjlAjGrkcGRW/GHDwDfnsAMk1RjdA9Ms/UJA\n",
       "8jVKgKMC3kmQKIQDXAoxAFghjwBhhWBP8kkRVMcnCqbSrQioY5kM9D0A/thkgZVgh7EAAAAASUVO\n",
       "RK5CYII=\n",
       "\" style=\"display:inline;vertical-align:middle;\" /></a> <a class=\"ProveItLink\" href=\"__pv_it/eac8ed189cd92053684e93f3ab78d3acedbbf9e80/proof.ipynb\" style=\"text-decoration: none\">&#x22A2;&nbsp;</a><a class=\"ProveItLink\" href=\"__pv_it/2e96d16e48ab56e084319a78e604c22de872742a0/expr.ipynb\"><img src=\"data:image/png;base64,iVBORw0KGgoAAAANSUhEUgAAASQAAAAVBAMAAAAdho5jAAAAMFBMVEX///9UVFREREQiIiIQEBCY\n",
       "mJhmZmYyMjLu7u6qqqrMzMyIiIi6urp2dnbc3NwAAABm9RoHAAAAAXRSTlMAQObYZgAAAAlwSFlz\n",
       "AAAOxAAADsQBlSsOGwAAA4tJREFUSMe9VktoE0EY/vPazCbZJIigEJAoFREPphZEhIIUCoooAaEX\n",
       "wQZKUSlqBClCUbYg9uBh14MiCO0evGrXIkVbUoL1IiKJVCr0AStVQUQMSGlaHzjPzaabuDl1D5Mv\n",
       "3/yPb/75Z3bBAvLEYesez4xLdHyxhZLe0FEp/l+SXHYwqC3jNotcy7k4aVmtJ5yek02DRfXGkiJH\n",
       "+EAljdTNhXMNpCd0F/Xu0WbO4dnZPNj1hpKGz1f5QCX1e2UHKKku6sRL1Vt3A6qncZWiVT5QSce8\n",
       "sgPMuZhYtRXdDaig6i0plvfIjp9BF6NkWtAN791UOOstSSLd/WXxG5+7On2Ro8WCwU7spal13q6L\n",
       "k3zZoe3tvE3kgZks131vgh1xNGmKYPDwAgVvd31/aj6ewEqUpLckIjt2Gg6yZGhN1VjgFV1KU/DK\n",
       "8vNdmjUi4nQmRNYP8CnNPS1fklUwxnsBrcqj3RSV95hotShjPpS3JfV1kKfdLSmAW/BWFvr4oqsi\n",
       "WycEKUDdILG9ja9CVCzvh7HZXt4AHxP3lduD/Pd15CY94sUuiP+BUAVzGe8qBfH0FVWcWxxNo5WQ\n",
       "RP9iEGC18f8qLIkQY6Jb0zBuCU+2BlBFCaVuLhyh30Q8kRyptCapC7CPuElKOs9lJ9VYhETS3cvj\n",
       "OjxjCOsWpRvjHRcYXOBmckVIppvq1Us6IFZTmjZLSoYfTXQNBr18znHN7+a/vZaAWPec3dWCKnGR\n",
       "vjyRXLJU58Y17SW/CWgd/PlRIFISRdw7iGmDIgGaDvtkC7E6gA6sAifJBhFJuIcFglMhldihdYWG\n",
       "wJSmm3QyWCaSd8R1CKW9q0RO5RCcyZXRGllO1p8DDbenlAPFICBshg4rlMKH5bZFrSC+QY4YEWz5\n",
       "qgxtA9hgdrHKZ/qLKc1gYfGWYsk3FBzXbOGqxJUcLjxJGdCB14MG8LUUIO/A5ennFKDUwscpRhWm\n",
       "cTxiRXqDoVhqPsPQXuxiMrsDWfa7H6IDKp2cpa/i+zM4ttVIkq/tZ4oN9AAdFbxsX/8PXKCGqJWU\n",
       "tO0DOaenbVfzlOveKiutfJz02C8Jmy+7QA0Rq7thnaHIThg3nJ62Xc1TqUvZ34okv8X/3bE/fczN\n",
       "wIGI1aERjnzH0ZDT07ar2TsmSROmW5GExA2UFXTIBRyIWJ29zFGsf77o9LTtavaOSbJ+1UPSFB0/\n",
       "b+GH7jl2voxm8/8AEqs7IK8XaXsAAAAASUVORK5CYII=\n",
       "\" style=\"display:inline;vertical-align:middle;\" /></a></span>"
      ],
      "text/plain": [
       "{10 in Naturals} |- |(a, b, c, d, e, f, g, h, i, k, m)| = 11"
      ]
     },
     "execution_count": 23,
     "metadata": {},
     "output_type": "execute_result"
    }
   ],
   "source": [
    "Len(ExprTuple(a, b, c, d, e, f, g, h, i, k, m)).evaluation(assumptions=[InSet(num(10), Naturals)])"
   ]
  },
  {
   "cell_type": "code",
   "execution_count": 24,
   "metadata": {},
   "outputs": [
    {
     "data": {
      "text/html": [
       "<span style=\"font-size:20px;\"><a class=\"ProveItLink\" href=\"__pv_it/dd194d213d00411f1bb6a1bc6961fec5f80b34410/expr.ipynb\"><img src=\"data:image/png;base64,iVBORw0KGgoAAAANSUhEUgAAAJUAAAAVBAMAAAC9PLGkAAAAMFBMVEX///8QEBBERERUVFTMzMyY\n",
       "mJjc3NxmZmYiIiJ2dnaqqqoyMjKIiIi6urru7u4AAAAvZeGPAAAAAXRSTlMAQObYZgAAAAlwSFlz\n",
       "AAAOxAAADsQBlSsOGwAAAcRJREFUOMullD9Iw0AUh382pTZtPEQURBC1LoIoKk7iUOwqWDdxMYs4\n",
       "ONS9S3GQgGhrXRQcgoOjdXJSqTg46OasDbgUFBxVBPH+pG3SuxrBG17y7j6+5F5eDgB5xL9H5ERc\n",
       "705bACSfuII+0P+Lo46kxlka+6YhvEvD4a3pJ0P2A/DmiIQjPCiRYZbpOeA5S4Vxm2z5QW1LT6NN\n",
       "3HOEBzVyUHPBoMwSUGwCj3GOqJswRAQl4nfRtyyJ/Rgj1jYHV8vrLVwS4ne9AxWbzXRcuCXSzGmj\n",
       "oHTJiM9FmCvNZtad2gbMEMaULhnhrvYzwUQ+gYUymzmvF8MMb1SrKpeMXLMsk/a4CmzmrAFiOTak\n",
       "cslIhpYnteOChLoq7L3CvZZlbbqg5kwqXAokMmqDZJ1G7Uus9mTQ81AyodqjAtEvWedOuEwCWOEl\n",
       "zXlAzIdUe5SRkuntiUUgy9fv6z9Ikq7MAY7kkhDs+forapNuvh63XTDKbrIgX5KrGfH0lzb0MQty\n",
       "dJMU1Zh6EhXOd9H4AliOi/CgRDy96h8dRfGD1EbMCURaupqH/ofTkLuMzkDu9Q8u/tlIXyCXDlaR\n",
       "Hn5Zm/n/eR/ep9/zBxZMq3T4rk7/AAAAAElFTkSuQmCC\n",
       "\" style=\"display:inline;vertical-align:middle;\" /></a> <a class=\"ProveItLink\" href=\"__pv_it/a74534ef94dd66e4d03431b8e723bd4f142fce470/proof.ipynb\" style=\"text-decoration: none\">&#x22A2;&nbsp;</a><a class=\"ProveItLink\" href=\"__pv_it/800637da8e36ad666141bee489a19818646d25120/expr.ipynb\"><img src=\"data:image/png;base64,iVBORw0KGgoAAAANSUhEUgAAAZAAAAAVBAMAAACam6UgAAAAMFBMVEX///9UVFREREQiIiIQEBCY\n",
       "mJhmZmYyMjLu7u6qqqrMzMyIiIi6urp2dnbc3NwAAABm9RoHAAAAAXRSTlMAQObYZgAAAAlwSFlz\n",
       "AAAOxAAADsQBlSsOGwAABHJJREFUWMO9l19oFEccx3/3Zy+zl93LIWhLA+VaWg30wQPBP4WKRAqW\n",
       "UrkqpNCHJlXTPoTgCVYUEddS9aEPtyAVC6W5tz6UNmtaDpOQcBDfSvGkoJIorFYFsdJ7iSYxKc7f\n",
       "ndm9HZvkIQN3+7vf7zez38/8Zmb3wAfScrB2TXPHVQrJid636XV0DUH+oN92PeJepRDL471pf7Oh\n",
       "hL7eHZOfPdrX4hu8FXGgt4qBXdMO1u7qQUJCltdGVZDzodCxuPwON+qxX/sg6mqTtO/pBzuuBzm/\n",
       "8gK3OQpIfyg0H5d/zYl60j90/T9t3GA9epD+lYMYfQrIrtCqm4vL/2sZaDGuuMHSjhZk1yr23B4J\n",
       "YpVDS6YYl35sGWgxLjtGWltJBxIWssz2lQTJkC32cOYxv09nja8Qe3yan3GDY3yJoJkan/WPd2/g\n",
       "I5kDkyVO+90IO0VRzeOD5U3e4c/Xn1z2fhnB+u28DiQsRHviDk56ys/rEoRMkbUXNrM7Vo6j/1iH\n",
       "HXCA5V71k3yJTFWz4mB5Lka6CfcLTP4zP5FnU2DxSlRK399nlI03PTRbN7HfKAuQzBba8gIkLETX\n",
       "pBraPpEgKVyBb0pwkAWGHK4x1YAPmcD3IcOKnpuFdj6VuQVRkDnoYDNkLkCCIT3i+TD0j/sTLVK2\n",
       "3g25JTCaOK2oq4gUcla/yIiaIiCsH1GGCxIkjQc97IgT80tAS9Q4LCYmM0egSEs+n7gt9DfF3i3A\n",
       "MFtQWH2aITkcDQ59Km6PFgkyAc02dSCBkOx4UQvC1Pz8G9APwHAYpBvwnfi2ttiG6AYptcLu25Fv\n",
       "PROGXfgdRAn/rQZlpW3bYFWCc1C67LQgTIipB+FqLohiXFX2iEuKYPApniXMZA6XRNdKA3r5g0I+\n",
       "eZOCqdeHN3hePTi3jvA6LFpiBSbKBPSa7yhLq2WPBEJeAsLVBCDK0kp6gOYhWf4RyDwukmXqUCKw\n",
       "qFFxYZPpIzbn4FIfW0TE6gU0Kyz4yHBIHpq3gVyNJppvZ8F0g4C+knPBKOgqIoVQkNY9jwI1EmSf\n",
       "BCHn4UnY39dAz/Cv9bARqPEFwDQ12jxjqw2VMj1wzvnURxcRtSp+Yo5Z6wAWWJ7VfECviQLCHhrE\n",
       "+Rj0lI3r4OlAAiEUhI1eVgz6xdRIkAHlgYh7nZn4tbMKW/AknCOPEWLYM+MONVDn9N0xSG3HqRPj\n",
       "HgvCEOlPLKvzRpFZbwPc8VjeOyV6TbpQu8KCU/RF8uIkLquvfSAGQmhFSLcUeQPZCtwgYzI1EmSn\n",
       "8oryrhjNdLQGwKVQ1ucySu4Rkxfkq0Hc/ta/a0khxZZukTEFSK6ogPQER5HewI80xWfmT3Ar+yoM\n",
       "V2Pz5MFgh8T060F6QiB2605vtIBkSgpI0ufRb0FrAPIUX6qrzK3EHnQyNk/mK0EyhQU9iBCSu/nU\n",
       "i3SLjPnk9AD9wD31/wgq8HAJtAYYoPiMms8tq/9GPTZP5itBItbRgwRCWrtFxxSti/ceo9cHa/hX\n",
       "9zP2P7Eaca9SiMFqOPYCXPGVZasJ560AAAAASUVORK5CYII=\n",
       "\" style=\"display:inline;vertical-align:middle;\" /></a></span>"
      ],
      "text/plain": [
       "{10 in Naturals, 11 in Naturals} |- |(a, b, c, d, e, f, g, h, i, k, m)| = |(a_{1}, ..a_{_a}.., a_{11})|"
      ]
     },
     "execution_count": 24,
     "metadata": {},
     "output_type": "execute_result"
    }
   ],
   "source": [
    "\n",
    "Equals(Len(ExprTuple(a, b , c, d, e, f, g, h, i, k, m)), \n",
    "       Len(varRange(a, one, num(11)))\n",
    "      ).prove(assumptions=[InSet(num(10), Naturals), InSet(num(11), Naturals)])"
   ]
  },
  {
   "cell_type": "code",
   "execution_count": 25,
   "metadata": {},
   "outputs": [],
   "source": [
    "\n",
    "#Equals(Len(ExprTuple(a, b , c, d, e, f, g, h, i, k, m)), num(11)).prove(assumptions=[InSet(num(10), Naturals)])"
   ]
  },
  {
   "cell_type": "code",
   "execution_count": null,
   "metadata": {},
   "outputs": [],
   "source": []
  },
  {
   "cell_type": "code",
   "execution_count": 26,
   "metadata": {},
   "outputs": [
    {
     "data": {
      "text/html": [
       "<span style=\"font-size:20px;\"><a class=\"ProveItLink\" href=\"__pv_it/9c4177b513c9052e9fb56c29331b586a2f5d1b7f0/expr.ipynb\"><img src=\"data:image/png;base64,iVBORw0KGgoAAAANSUhEUgAAAJUAAAAVBAMAAAC9PLGkAAAAMFBMVEX///8QEBBERERUVFTMzMyY\n",
       "mJjc3NxmZmYiIiJ2dnaqqqoyMjKIiIi6urru7u4AAAAvZeGPAAAAAXRSTlMAQObYZgAAAAlwSFlz\n",
       "AAAOxAAADsQBlSsOGwAAAbNJREFUOMullD1Iw0AUx/82pTb9OEQURBBtXQRRqjiJQ7GrYNzExSzi\n",
       "0KHuWYpDCYi21kXBITg42k6dVCoODro5aw9cCgqOKkIxn+0lXGyhb3iXl/vxC+8+AoC8oO8IXVrj\n",
       "45UPQIrJW4iTE/842khm3igjLT0Fj5zERkB7Bj6pVZizZw+yDzJtVGIeeFNadnKFUBAlDFjP5mxU\n",
       "IwUf5NRxIdZykgu8QA1huzBmN4GyD+Lnis2oBya4U8+6XHojFcpHfFzxa3uJBHkpVmJdX0BD4yM+\n",
       "rix1GpADmGNcxHBJfMR0DVa9rlp7MeTgXrPZcYV+gPU6H7kzqpzkdVU7ILYiCY+rxEdyeu+ZQ3hc\n",
       "wTFVVfdtUKALTI+6q1HnI6FZDUShHheZYj5KUk332lc0PiLeGCc35e0xz4BYCzCuJLBN+UhF5u7j\n",
       "U/uCpPWXqwB1XBuAwkdwzD8TUc0Gw8aDAvLruMIaGeEizPkSEt8rVjIXbPHV2oTisJ7fAZXaCDm/\n",
       "T/MR5qy6I162LogTEdoV8XV5Q+zhb2i6YkNduY8eXOaekPGunNRdRUbNYXe5//998ETfzz/8Z6t0\n",
       "PANzAwAAAABJRU5ErkJggg==\n",
       "\" style=\"display:inline;vertical-align:middle;\" /></a> <a class=\"ProveItLink\" href=\"__pv_it/801e6955a4c71eed5118df0a377c95922ea2f5df0/proof.ipynb\" style=\"text-decoration: none\">&#x22A2;&nbsp;</a><a class=\"ProveItLink\" href=\"__pv_it/3f4dd8f874f547e0e8c1c767e08ed95cba3cf5810/expr.ipynb\"><img src=\"data:image/png;base64,iVBORw0KGgoAAAANSUhEUgAAAToAAAAVBAMAAAAk4T84AAAAMFBMVEX///9UVFREREQiIiIQEBCY\n",
       "mJhmZmYyMjLu7u6qqqrMzMyIiIi6urp2dnbc3NwAAABm9RoHAAAAAXRSTlMAQObYZgAAAAlwSFlz\n",
       "AAAOxAAADsQBlSsOGwAAA/lJREFUSMfFVk1oFEkUfj0/Pd2T+UNEhYDMysriz2GiEEQIiBBQFtk5\n",
       "BUQxI5J1JURHEBEE7ZM5eOgRFARhM7B7VNIrS9CEuIN6EVkyoigYxXb9gRzUuYjjKMm+qlfVP5np\n",
       "mbmloLu/eu/Vq69evVfVYANrKViR1nHyF/x9e2XYPeTvZKU9O73qkWg/5prN4qcKTTL1peEXeEdO\n",
       "tXHmtJ5Sa3Z/oOP3RzcLduM+XazQwlG61CR69OdymWfkQDtnTjvTip225rwBqQy8qhC7kU5EAOaM\n",
       "JtHeu0bnJbR05rSh1rH7xwDFgMguYrerExGAx02SRL2bJbR05rSIEcQuUgdlkbNLFDsQwXa6SZLM\n",
       "dbEEeNK2LGL5wNjlQGlwdioritTYHYt0J2eOCav52TLV/Nj0V5ET81MiGNHVfSKl9NE7ebGEKzfp\n",
       "kNCmhC84Cdd+o1A/+jjfG5/fSuJ/13/4C02SmSB22MI1zo6v4L4doq3SvhgmzfGmpGY5cHRwrxyX\n",
       "9Z2WBJ7B26wYaSsZimtCJIv2Wf99kEShLWAehMskr26wtEVcYtFhd2Q7a30edpMWZxfGzNUGQaWt\n",
       "0uty4gGIcMB0tPmpz9AjV/qpDMvs9QYoxHNB2IO++CB+jqPrkSx8qsIwHVCV3ZBqoDrXJnb9dKJE\n",
       "UK3WIUxRQccmR6pMe1cX+jb7QrqYkJmdhUlbjqTlgCEDqw6KNYBhVmDCgFUUUu07RGvIshbMTi24\n",
       "7HAOsyJPqLmSmNaZX+jSmeYSmCzB34RwCTKgEyI7w6efe1ZzFOBnEdMaDzNPgAB2Q+KuiCEZUwYd\n",
       "0nk4wX2bMsM8Os+l8oP4DtsS4hIeO8UgRXMyeGtZqiQWNd5RijiP4d3Z5XmH99dHzi6E22CW4Cfd\n",
       "ZkPTFcwzjWhChQFXxza4BBQXFgWGhjH1JYJ9UYPZaV+T3AWKzJJFA/YBbqdSXOC9SBVjWYVoNjB2\n",
       "NwBucXasrmNWtD8JJiazkg8VOMCNT5YZcHVYYxds7QsvkAYrUsbdVuqEMKcaZJeoveNfFJnlKlei\n",
       "PWZarEo9zIBnURtUK4hdqv/Xwzk6jTG+Wu/z19MQ3oFoFI87BuDlzC2SODqYnUF/2w3KHEKJ3qc5\n",
       "QhtxiEV2W/L03QQ9owaZ5aCngGejzXv3AP7bj9PYrdit+qXPii0tLRXpJtvpKK4GAxfpvKQyEkG4\n",
       "IJHPzh2p+64zT+9NN39QQ063GgxclMTnEislhuLrYLJMsmV27sik/wp04Ug37EK2/HmxAoEHXcRn\n",
       "27hAyh7trJD57Vx7j9LfS2W7YafJky0KgcCD2MV34LhAiZGnFSHz27n2HqW/FzI6sJvm73cr8+d+\n",
       "iP6Qy0H6/wFzolNOvZqUdAAAAABJRU5ErkJggg==\n",
       "\" style=\"display:inline;vertical-align:middle;\" /></a></span>"
      ],
      "text/plain": [
       "{11 in Naturals, 10 in Naturals} |- |(a, b, c, d, e, f, g, h, i, k, m, n)| = 12"
      ]
     },
     "execution_count": 26,
     "metadata": {},
     "output_type": "execute_result"
    }
   ],
   "source": [
    "# infinite conclude recursion?\n",
    "Equals(Len(ExprTuple(a, b, c, d, e, f, g, h, i, k, m, n)), num(12)).prove(assumptions=[InSet(num(10), Naturals), \n",
    "                                                                                       InSet(num(11), Naturals)])"
   ]
  },
  {
   "cell_type": "code",
   "execution_count": 27,
   "metadata": {},
   "outputs": [
    {
     "data": {
      "text/html": [
       "<span style=\"font-size:20px;\"><a class=\"ProveItLink\" href=\"__pv_it/9c4177b513c9052e9fb56c29331b586a2f5d1b7f0/expr.ipynb\"><img src=\"data:image/png;base64,iVBORw0KGgoAAAANSUhEUgAAAJUAAAAVBAMAAAC9PLGkAAAAMFBMVEX///8QEBBERERUVFTMzMyY\n",
       "mJjc3NxmZmYiIiJ2dnaqqqoyMjKIiIi6urru7u4AAAAvZeGPAAAAAXRSTlMAQObYZgAAAAlwSFlz\n",
       "AAAOxAAADsQBlSsOGwAAAbNJREFUOMullD1Iw0AUx/82pTb9OEQURBBtXQRRqjiJQ7GrYNzExSzi\n",
       "0KHuWYpDCYi21kXBITg42k6dVCoODro5aw9cCgqOKkIxn+0lXGyhb3iXl/vxC+8+AoC8oO8IXVrj\n",
       "45UPQIrJW4iTE/842khm3igjLT0Fj5zERkB7Bj6pVZizZw+yDzJtVGIeeFNadnKFUBAlDFjP5mxU\n",
       "IwUf5NRxIdZykgu8QA1huzBmN4GyD+Lnis2oBya4U8+6XHojFcpHfFzxa3uJBHkpVmJdX0BD4yM+\n",
       "rix1GpADmGNcxHBJfMR0DVa9rlp7MeTgXrPZcYV+gPU6H7kzqpzkdVU7ILYiCY+rxEdyeu+ZQ3hc\n",
       "wTFVVfdtUKALTI+6q1HnI6FZDUShHheZYj5KUk332lc0PiLeGCc35e0xz4BYCzCuJLBN+UhF5u7j\n",
       "U/uCpPWXqwB1XBuAwkdwzD8TUc0Gw8aDAvLruMIaGeEizPkSEt8rVjIXbPHV2oTisJ7fAZXaCDm/\n",
       "T/MR5qy6I162LogTEdoV8XV5Q+zhb2i6YkNduY8eXOaekPGunNRdRUbNYXe5//998ETfzz/8Z6t0\n",
       "PANzAwAAAABJRU5ErkJggg==\n",
       "\" style=\"display:inline;vertical-align:middle;\" /></a> <a class=\"ProveItLink\" href=\"__pv_it/801e6955a4c71eed5118df0a377c95922ea2f5df0/proof.ipynb\" style=\"text-decoration: none\">&#x22A2;&nbsp;</a><a class=\"ProveItLink\" href=\"__pv_it/3f4dd8f874f547e0e8c1c767e08ed95cba3cf5810/expr.ipynb\"><img src=\"data:image/png;base64,iVBORw0KGgoAAAANSUhEUgAAAToAAAAVBAMAAAAk4T84AAAAMFBMVEX///9UVFREREQiIiIQEBCY\n",
       "mJhmZmYyMjLu7u6qqqrMzMyIiIi6urp2dnbc3NwAAABm9RoHAAAAAXRSTlMAQObYZgAAAAlwSFlz\n",
       "AAAOxAAADsQBlSsOGwAAA/lJREFUSMfFVk1oFEkUfj0/Pd2T+UNEhYDMysriz2GiEEQIiBBQFtk5\n",
       "BUQxI5J1JURHEBEE7ZM5eOgRFARhM7B7VNIrS9CEuIN6EVkyoigYxXb9gRzUuYjjKMm+qlfVP5np\n",
       "mbmloLu/eu/Vq69evVfVYANrKViR1nHyF/x9e2XYPeTvZKU9O73qkWg/5prN4qcKTTL1peEXeEdO\n",
       "tXHmtJ5Sa3Z/oOP3RzcLduM+XazQwlG61CR69OdymWfkQDtnTjvTip225rwBqQy8qhC7kU5EAOaM\n",
       "JtHeu0bnJbR05rSh1rH7xwDFgMguYrerExGAx02SRL2bJbR05rSIEcQuUgdlkbNLFDsQwXa6SZLM\n",
       "dbEEeNK2LGL5wNjlQGlwdioritTYHYt0J2eOCav52TLV/Nj0V5ET81MiGNHVfSKl9NE7ebGEKzfp\n",
       "kNCmhC84Cdd+o1A/+jjfG5/fSuJ/13/4C02SmSB22MI1zo6v4L4doq3SvhgmzfGmpGY5cHRwrxyX\n",
       "9Z2WBJ7B26wYaSsZimtCJIv2Wf99kEShLWAehMskr26wtEVcYtFhd2Q7a30edpMWZxfGzNUGQaWt\n",
       "0uty4gGIcMB0tPmpz9AjV/qpDMvs9QYoxHNB2IO++CB+jqPrkSx8qsIwHVCV3ZBqoDrXJnb9dKJE\n",
       "UK3WIUxRQccmR6pMe1cX+jb7QrqYkJmdhUlbjqTlgCEDqw6KNYBhVmDCgFUUUu07RGvIshbMTi24\n",
       "7HAOsyJPqLmSmNaZX+jSmeYSmCzB34RwCTKgEyI7w6efe1ZzFOBnEdMaDzNPgAB2Q+KuiCEZUwYd\n",
       "0nk4wX2bMsM8Os+l8oP4DtsS4hIeO8UgRXMyeGtZqiQWNd5RijiP4d3Z5XmH99dHzi6E22CW4Cfd\n",
       "ZkPTFcwzjWhChQFXxza4BBQXFgWGhjH1JYJ9UYPZaV+T3AWKzJJFA/YBbqdSXOC9SBVjWYVoNjB2\n",
       "NwBucXasrmNWtD8JJiazkg8VOMCNT5YZcHVYYxds7QsvkAYrUsbdVuqEMKcaZJeoveNfFJnlKlei\n",
       "PWZarEo9zIBnURtUK4hdqv/Xwzk6jTG+Wu/z19MQ3oFoFI87BuDlzC2SODqYnUF/2w3KHEKJ3qc5\n",
       "QhtxiEV2W/L03QQ9owaZ5aCngGejzXv3AP7bj9PYrdit+qXPii0tLRXpJtvpKK4GAxfpvKQyEkG4\n",
       "IJHPzh2p+64zT+9NN39QQ063GgxclMTnEislhuLrYLJMsmV27sik/wp04Ug37EK2/HmxAoEHXcRn\n",
       "27hAyh7trJD57Vx7j9LfS2W7YafJky0KgcCD2MV34LhAiZGnFSHz27n2HqW/FzI6sJvm73cr8+d+\n",
       "iP6Qy0H6/wFzolNOvZqUdAAAAABJRU5ErkJggg==\n",
       "\" style=\"display:inline;vertical-align:middle;\" /></a></span>"
      ],
      "text/plain": [
       "{11 in Naturals, 10 in Naturals} |- |(a, b, c, d, e, f, g, h, i, k, m, n)| = 12"
      ]
     },
     "execution_count": 27,
     "metadata": {},
     "output_type": "execute_result"
    }
   ],
   "source": [
    "# conclude\n",
    "Equals(Len(ExprTuple(a, b, c, d, e, f, g, h, i, k, m, n)), num(12)).conclude(assumptions=[InSet(num(10), Naturals), \n",
    "                                                                                          InSet(num(11), Naturals)])"
   ]
  },
  {
   "cell_type": "code",
   "execution_count": 28,
   "metadata": {},
   "outputs": [
    {
     "data": {
      "text/html": [
       "<span style=\"font-size:20px;\"><a class=\"ProveItLink\" href=\"__pv_it/9c4177b513c9052e9fb56c29331b586a2f5d1b7f0/expr.ipynb\"><img src=\"data:image/png;base64,iVBORw0KGgoAAAANSUhEUgAAAJUAAAAVBAMAAAC9PLGkAAAAMFBMVEX///8QEBBERERUVFTMzMyY\n",
       "mJjc3NxmZmYiIiJ2dnaqqqoyMjKIiIi6urru7u4AAAAvZeGPAAAAAXRSTlMAQObYZgAAAAlwSFlz\n",
       "AAAOxAAADsQBlSsOGwAAAbNJREFUOMullD1Iw0AUx/82pTb9OEQURBBtXQRRqjiJQ7GrYNzExSzi\n",
       "0KHuWYpDCYi21kXBITg42k6dVCoODro5aw9cCgqOKkIxn+0lXGyhb3iXl/vxC+8+AoC8oO8IXVrj\n",
       "45UPQIrJW4iTE/842khm3igjLT0Fj5zERkB7Bj6pVZizZw+yDzJtVGIeeFNadnKFUBAlDFjP5mxU\n",
       "IwUf5NRxIdZykgu8QA1huzBmN4GyD+Lnis2oBya4U8+6XHojFcpHfFzxa3uJBHkpVmJdX0BD4yM+\n",
       "rix1GpADmGNcxHBJfMR0DVa9rlp7MeTgXrPZcYV+gPU6H7kzqpzkdVU7ILYiCY+rxEdyeu+ZQ3hc\n",
       "wTFVVfdtUKALTI+6q1HnI6FZDUShHheZYj5KUk332lc0PiLeGCc35e0xz4BYCzCuJLBN+UhF5u7j\n",
       "U/uCpPWXqwB1XBuAwkdwzD8TUc0Gw8aDAvLruMIaGeEizPkSEt8rVjIXbPHV2oTisJ7fAZXaCDm/\n",
       "T/MR5qy6I162LogTEdoV8XV5Q+zhb2i6YkNduY8eXOaekPGunNRdRUbNYXe5//998ETfzz/8Z6t0\n",
       "PANzAwAAAABJRU5ErkJggg==\n",
       "\" style=\"display:inline;vertical-align:middle;\" /></a> <a class=\"ProveItLink\" href=\"__pv_it/801e6955a4c71eed5118df0a377c95922ea2f5df0/proof.ipynb\" style=\"text-decoration: none\">&#x22A2;&nbsp;</a><a class=\"ProveItLink\" href=\"__pv_it/3f4dd8f874f547e0e8c1c767e08ed95cba3cf5810/expr.ipynb\"><img src=\"data:image/png;base64,iVBORw0KGgoAAAANSUhEUgAAAToAAAAVBAMAAAAk4T84AAAAMFBMVEX///9UVFREREQiIiIQEBCY\n",
       "mJhmZmYyMjLu7u6qqqrMzMyIiIi6urp2dnbc3NwAAABm9RoHAAAAAXRSTlMAQObYZgAAAAlwSFlz\n",
       "AAAOxAAADsQBlSsOGwAAA/lJREFUSMfFVk1oFEkUfj0/Pd2T+UNEhYDMysriz2GiEEQIiBBQFtk5\n",
       "BUQxI5J1JURHEBEE7ZM5eOgRFARhM7B7VNIrS9CEuIN6EVkyoigYxXb9gRzUuYjjKMm+qlfVP5np\n",
       "mbmloLu/eu/Vq69evVfVYANrKViR1nHyF/x9e2XYPeTvZKU9O73qkWg/5prN4qcKTTL1peEXeEdO\n",
       "tXHmtJ5Sa3Z/oOP3RzcLduM+XazQwlG61CR69OdymWfkQDtnTjvTip225rwBqQy8qhC7kU5EAOaM\n",
       "JtHeu0bnJbR05rSh1rH7xwDFgMguYrerExGAx02SRL2bJbR05rSIEcQuUgdlkbNLFDsQwXa6SZLM\n",
       "dbEEeNK2LGL5wNjlQGlwdioritTYHYt0J2eOCav52TLV/Nj0V5ET81MiGNHVfSKl9NE7ebGEKzfp\n",
       "kNCmhC84Cdd+o1A/+jjfG5/fSuJ/13/4C02SmSB22MI1zo6v4L4doq3SvhgmzfGmpGY5cHRwrxyX\n",
       "9Z2WBJ7B26wYaSsZimtCJIv2Wf99kEShLWAehMskr26wtEVcYtFhd2Q7a30edpMWZxfGzNUGQaWt\n",
       "0uty4gGIcMB0tPmpz9AjV/qpDMvs9QYoxHNB2IO++CB+jqPrkSx8qsIwHVCV3ZBqoDrXJnb9dKJE\n",
       "UK3WIUxRQccmR6pMe1cX+jb7QrqYkJmdhUlbjqTlgCEDqw6KNYBhVmDCgFUUUu07RGvIshbMTi24\n",
       "7HAOsyJPqLmSmNaZX+jSmeYSmCzB34RwCTKgEyI7w6efe1ZzFOBnEdMaDzNPgAB2Q+KuiCEZUwYd\n",
       "0nk4wX2bMsM8Os+l8oP4DtsS4hIeO8UgRXMyeGtZqiQWNd5RijiP4d3Z5XmH99dHzi6E22CW4Cfd\n",
       "ZkPTFcwzjWhChQFXxza4BBQXFgWGhjH1JYJ9UYPZaV+T3AWKzJJFA/YBbqdSXOC9SBVjWYVoNjB2\n",
       "NwBucXasrmNWtD8JJiazkg8VOMCNT5YZcHVYYxds7QsvkAYrUsbdVuqEMKcaZJeoveNfFJnlKlei\n",
       "PWZarEo9zIBnURtUK4hdqv/Xwzk6jTG+Wu/z19MQ3oFoFI87BuDlzC2SODqYnUF/2w3KHEKJ3qc5\n",
       "QhtxiEV2W/L03QQ9owaZ5aCngGejzXv3AP7bj9PYrdit+qXPii0tLRXpJtvpKK4GAxfpvKQyEkG4\n",
       "IJHPzh2p+64zT+9NN39QQ063GgxclMTnEislhuLrYLJMsmV27sik/wp04Ug37EK2/HmxAoEHXcRn\n",
       "27hAyh7trJD57Vx7j9LfS2W7YafJky0KgcCD2MV34LhAiZGnFSHz27n2HqW/FzI6sJvm73cr8+d+\n",
       "iP6Qy0H6/wFzolNOvZqUdAAAAABJRU5ErkJggg==\n",
       "\" style=\"display:inline;vertical-align:middle;\" /></a></span>"
      ],
      "text/plain": [
       "{11 in Naturals, 10 in Naturals} |- |(a, b, c, d, e, f, g, h, i, k, m, n)| = 12"
      ]
     },
     "execution_count": 28,
     "metadata": {},
     "output_type": "execute_result"
    }
   ],
   "source": [
    "# why automation is important?\n",
    "Len(ExprTuple(a, b, c, d, e, f, g, h, i, k, m, n)).evaluation(assumptions=[InSet(num(10), Naturals), InSet(num(11), Naturals)])"
   ]
  },
  {
   "cell_type": "code",
   "execution_count": 29,
   "metadata": {},
   "outputs": [
    {
     "data": {
      "text/html": [
       "<span style=\"font-size:20px;\"><a class=\"ProveItLink\" href=\"__pv_it/9c4177b513c9052e9fb56c29331b586a2f5d1b7f0/expr.ipynb\"><img src=\"data:image/png;base64,iVBORw0KGgoAAAANSUhEUgAAAJUAAAAVBAMAAAC9PLGkAAAAMFBMVEX///8QEBBERERUVFTMzMyY\n",
       "mJjc3NxmZmYiIiJ2dnaqqqoyMjKIiIi6urru7u4AAAAvZeGPAAAAAXRSTlMAQObYZgAAAAlwSFlz\n",
       "AAAOxAAADsQBlSsOGwAAAbNJREFUOMullD1Iw0AUx/82pTb9OEQURBBtXQRRqjiJQ7GrYNzExSzi\n",
       "0KHuWYpDCYi21kXBITg42k6dVCoODro5aw9cCgqOKkIxn+0lXGyhb3iXl/vxC+8+AoC8oO8IXVrj\n",
       "45UPQIrJW4iTE/842khm3igjLT0Fj5zERkB7Bj6pVZizZw+yDzJtVGIeeFNadnKFUBAlDFjP5mxU\n",
       "IwUf5NRxIdZykgu8QA1huzBmN4GyD+Lnis2oBya4U8+6XHojFcpHfFzxa3uJBHkpVmJdX0BD4yM+\n",
       "rix1GpADmGNcxHBJfMR0DVa9rlp7MeTgXrPZcYV+gPU6H7kzqpzkdVU7ILYiCY+rxEdyeu+ZQ3hc\n",
       "wTFVVfdtUKALTI+6q1HnI6FZDUShHheZYj5KUk332lc0PiLeGCc35e0xz4BYCzCuJLBN+UhF5u7j\n",
       "U/uCpPWXqwB1XBuAwkdwzD8TUc0Gw8aDAvLruMIaGeEizPkSEt8rVjIXbPHV2oTisJ7fAZXaCDm/\n",
       "T/MR5qy6I162LogTEdoV8XV5Q+zhb2i6YkNduY8eXOaekPGunNRdRUbNYXe5//998ETfzz/8Z6t0\n",
       "PANzAwAAAABJRU5ErkJggg==\n",
       "\" style=\"display:inline;vertical-align:middle;\" /></a> <a class=\"ProveItLink\" href=\"__pv_it/801e6955a4c71eed5118df0a377c95922ea2f5df0/proof.ipynb\" style=\"text-decoration: none\">&#x22A2;&nbsp;</a><a class=\"ProveItLink\" href=\"__pv_it/3f4dd8f874f547e0e8c1c767e08ed95cba3cf5810/expr.ipynb\"><img src=\"data:image/png;base64,iVBORw0KGgoAAAANSUhEUgAAAToAAAAVBAMAAAAk4T84AAAAMFBMVEX///9UVFREREQiIiIQEBCY\n",
       "mJhmZmYyMjLu7u6qqqrMzMyIiIi6urp2dnbc3NwAAABm9RoHAAAAAXRSTlMAQObYZgAAAAlwSFlz\n",
       "AAAOxAAADsQBlSsOGwAAA/lJREFUSMfFVk1oFEkUfj0/Pd2T+UNEhYDMysriz2GiEEQIiBBQFtk5\n",
       "BUQxI5J1JURHEBEE7ZM5eOgRFARhM7B7VNIrS9CEuIN6EVkyoigYxXb9gRzUuYjjKMm+qlfVP5np\n",
       "mbmloLu/eu/Vq69evVfVYANrKViR1nHyF/x9e2XYPeTvZKU9O73qkWg/5prN4qcKTTL1peEXeEdO\n",
       "tXHmtJ5Sa3Z/oOP3RzcLduM+XazQwlG61CR69OdymWfkQDtnTjvTip225rwBqQy8qhC7kU5EAOaM\n",
       "JtHeu0bnJbR05rSh1rH7xwDFgMguYrerExGAx02SRL2bJbR05rSIEcQuUgdlkbNLFDsQwXa6SZLM\n",
       "dbEEeNK2LGL5wNjlQGlwdioritTYHYt0J2eOCav52TLV/Nj0V5ET81MiGNHVfSKl9NE7ebGEKzfp\n",
       "kNCmhC84Cdd+o1A/+jjfG5/fSuJ/13/4C02SmSB22MI1zo6v4L4doq3SvhgmzfGmpGY5cHRwrxyX\n",
       "9Z2WBJ7B26wYaSsZimtCJIv2Wf99kEShLWAehMskr26wtEVcYtFhd2Q7a30edpMWZxfGzNUGQaWt\n",
       "0uty4gGIcMB0tPmpz9AjV/qpDMvs9QYoxHNB2IO++CB+jqPrkSx8qsIwHVCV3ZBqoDrXJnb9dKJE\n",
       "UK3WIUxRQccmR6pMe1cX+jb7QrqYkJmdhUlbjqTlgCEDqw6KNYBhVmDCgFUUUu07RGvIshbMTi24\n",
       "7HAOsyJPqLmSmNaZX+jSmeYSmCzB34RwCTKgEyI7w6efe1ZzFOBnEdMaDzNPgAB2Q+KuiCEZUwYd\n",
       "0nk4wX2bMsM8Os+l8oP4DtsS4hIeO8UgRXMyeGtZqiQWNd5RijiP4d3Z5XmH99dHzi6E22CW4Cfd\n",
       "ZkPTFcwzjWhChQFXxza4BBQXFgWGhjH1JYJ9UYPZaV+T3AWKzJJFA/YBbqdSXOC9SBVjWYVoNjB2\n",
       "NwBucXasrmNWtD8JJiazkg8VOMCNT5YZcHVYYxds7QsvkAYrUsbdVuqEMKcaZJeoveNfFJnlKlei\n",
       "PWZarEo9zIBnURtUK4hdqv/Xwzk6jTG+Wu/z19MQ3oFoFI87BuDlzC2SODqYnUF/2w3KHEKJ3qc5\n",
       "QhtxiEV2W/L03QQ9owaZ5aCngGejzXv3AP7bj9PYrdit+qXPii0tLRXpJtvpKK4GAxfpvKQyEkG4\n",
       "IJHPzh2p+64zT+9NN39QQ063GgxclMTnEislhuLrYLJMsmV27sik/wp04Ug37EK2/HmxAoEHXcRn\n",
       "27hAyh7trJD57Vx7j9LfS2W7YafJky0KgcCD2MV34LhAiZGnFSHz27n2HqW/FzI6sJvm73cr8+d+\n",
       "iP6Qy0H6/wFzolNOvZqUdAAAAABJRU5ErkJggg==\n",
       "\" style=\"display:inline;vertical-align:middle;\" /></a></span>"
      ],
      "text/plain": [
       "{11 in Naturals, 10 in Naturals} |- |(a, b, c, d, e, f, g, h, i, k, m, n)| = 12"
      ]
     },
     "execution_count": 29,
     "metadata": {},
     "output_type": "execute_result"
    }
   ],
   "source": [
    "Len(List[:-1]).evaluation(assumptions=[InSet(num(10), Naturals), InSet(num(11), Naturals)])"
   ]
  },
  {
   "cell_type": "code",
   "execution_count": null,
   "metadata": {},
   "outputs": [],
   "source": []
  },
  {
   "cell_type": "code",
   "execution_count": 30,
   "metadata": {},
   "outputs": [
    {
     "data": {
      "text/html": [
       "<span style=\"font-size:20px;\"><a class=\"ProveItLink\" href=\"__pv_it/fd06168026bc509d8e3fa5aabbe5b250808153f00/expr.ipynb\"><img src=\"data:image/png;base64,iVBORw0KGgoAAAANSUhEUgAAAN0AAAAVBAMAAAAwUfbwAAAAMFBMVEX///8QEBBERERUVFTMzMyY\n",
       "mJjc3NxmZmYiIiJ2dnaqqqoyMjKIiIi6urru7u4AAAAvZeGPAAAAAXRSTlMAQObYZgAAAAlwSFlz\n",
       "AAAOxAAADsQBlSsOGwAAApNJREFUSMe9lk1oE0EUx//Z2aTZfIxBEESQrh+HYqnEUqL0INEeVBDs\n",
       "TRAPe9EeemhB0EMuQcEuFdtUETwIhh486p56KFpX8SIWW/Akoqz2EvEQKypYSuLMfmQzyW6qEPoO\n",
       "b9+wv7zfMDuzGwD0I7YlYo+c65vHYUTlR7+FufXVDk3+AaGz+5eg9O7FyGE+TNR4Pm0BY4WDLeih\n",
       "dBa05g444qSOiPLgagsild8BVXbrAB8pRTaFo88txLJ42DLPY9o9IOPMkiN26oxgERVNRMhNZRQR\n",
       "Vtz3fMCKBWIhkhHJYTWpoegOViwvdUKiRShqi28eC4i3+SI1kN82kOrTb9lF7mLMCPG91HUjCJGy\n",
       "7hPyEXLJHA/wkSLIT16nn3pNcyT/Otj34W0IsmMS6Q0RIdpQqtTuYxH/zvN4Y81yUKXVIF9sKQyp\n",
       "Mt8vESGahIGGr8fwfedMnhfgNztFZ4J8SS0MmShB3hQRosmTlQorXvDRxKjvm7LvG02+aHk+E+QL\n",
       "Rbjvj4gQDRcS+7iqDIzc9pv1TPJS3q3r+nW3GY6TIN8JhuhqEFItIb0pIsxHrCN8ifvLoAWr0ey8\n",
       "c4zUpsljjQat55dQhO2XxIaIMB/N8vVUnvHTn/WaJUq4zOticzPZVAN88VBEUhGtiQjz4azEiiea\n",
       "sD/PAPYWXm6Q/P32SgVt86XMMCSacXegj0h5NjrJijnhPMSmrl2x62TZI6ed/Vs12s7fYigyjc95\n",
       "EYnzfgXh/A323jCT9Xrd/hUd/OS+ftfZQlED8RkXcRKPtQErBPm6PAQBkWd3svxNPO9CpO+47zMv\n",
       "Ar5Y7/t04z+RUF9blLqCOL5UZkuOmt1AnGcIumdLLopuIKC77MvY8Pb8f5Hvsn36F52qGlfT1HiH\n",
       "AAAAAElFTkSuQmCC\n",
       "\" style=\"display:inline;vertical-align:middle;\" /></a> <a class=\"ProveItLink\" href=\"__pv_it/351f02eeabfb8d77b70a8b11590d3ee28da66aef0/proof.ipynb\" style=\"text-decoration: none\">&#x22A2;&nbsp;</a><a class=\"ProveItLink\" href=\"__pv_it/dcc9fd5c98ae69f42e41bf35dfe01c77929a595c0/expr.ipynb\"><img src=\"data:image/png;base64,iVBORw0KGgoAAAANSUhEUgAAAU8AAAAVBAMAAAA0gXHkAAAAMFBMVEX///9UVFREREQiIiIQEBCY\n",
       "mJhmZmYyMjLu7u6qqqrMzMyIiIi6urp2dnbc3NwAAABm9RoHAAAAAXRSTlMAQObYZgAAAAlwSFlz\n",
       "AAAOxAAADsQBlSsOGwAABB1JREFUSMfFV19oHEUY/+4uuzd72buLIlQISFoiKj40tSAitNRCoCLq\n",
       "0lJFfMhhqVpC9QTtS1G2IO1DH3alKAUh2QefFM0aSmgSkh4mLz5IrlRaaBpYqy2IiIESmkStzsz3\n",
       "zdxedu/PW+bh9jff/L75ft/sN7NzEIFoJdjmVuoo45b8nd5uoXYofou1DkKteszCBoeStMKHlYTN\n",
       "XHGbDXHPqTaTpbXpdKGF5/g6r7xVI6HnmgbzlZSJyn7CdPWrrbaY5752k6W0vJsm9Mw76wBnwdgg\n",
       "occ7aQJYchOmF39wO2eTOllKMyqpK9rLhV7x2X0SeqCTJoBrybJa7yab1MnS2qGWQhdrQELtagdN\n",
       "vJ1KWIpDXWQDP3e7nT5qKZTvoTUUaoq9dHf5Dxr8YPYEoeW5AI+NkzMbtDmWp2iJjEf2UPlZo/MO\n",
       "ZfP5JB53bCpUk8GX70rw02N/fh9+O0lSZI8oGPlqG6ELDgrN86f9CuxGCey+62G4X31zQILFKEvv\n",
       "eSEoqBOirALdgN8GyDPK9OFq21RNbM0aG5aovitkazWL7KL3gEoII7+uhR7bK9qehtBvHgpQaI4X\n",
       "/KcOHKMFWlca9kGPBGwYTKyO0hr0qqz/CrbyrU3IoOTfiQ/Wgx8Ln8hzpnYQSv+CsQq6t4kUinyh\n",
       "3aunXd/Dx9931YnCY3hy1Uy1WzjI4Tpm/567peYYp2fPAExEyhMzA1cttzlM6TD2j0iJEhE90qwi\n",
       "T7QRCq+6WuhB4L7q5FvySYGW4uEU5b7kzpnw4RIino1a5nGq5Nypm0SzVmOJiB5pVpEXWwr9GmC3\n",
       "jzXqA9NvBcqOSJI3T1UjByM0FvuE7aTnSKQgz+aa3kPKtETSM1WRyFLkql7ZkVBFvtCqRtl/rhKa\n",
       "DYFtQLY6BsK1XOM1yVAx1ATwfHjCihiuGfiAsV4Sr1gI5TtGIXjZcAWPbRTlFNzk+aEc7KmLRHaU\n",
       "fGnnvXGoI1VGhsMtV/QF/eqL/IWehiOVuvgCQMbJVsDjm8GsQDEQIB8azxalyajC2Uiy5F6QyIsy\n",
       "64geBthEnr16Rz65yQtwWl4UPJGPcVz0bhiRhDIywGhLoUf1OWrzo/vM3Hf9AezlubNRfozm+GUA\n",
       "VmYvS8D6b/4yg6a5WV5kgiWqDJHdf30I0ePcJUTe0w4+n4LeUVcOLsiLyhfzaOe9228gxMiwP01o\n",
       "ZvBeP9hv60vJ82rA0h+8iwnQQJJl9ml+rhL31LyGp9X0Hb2YBktD3VzzXtOfRW2vJ0ADCdZneR9R\n",
       "4VGYCOKemtfwLDaFrKdB0+lGaDai3nl9tQy3ghgSrGfOEcocYqfjnprX4McGm+0xeLurizNTJ6aj\n",
       "b10JEEOC9eZ7hOzj12txT81r8GODzfYYfLKT0Bn5e2e7/4oY8p32Bi0J/wOSbGzOdIV8YgAAAABJ\n",
       "RU5ErkJggg==\n",
       "\" style=\"display:inline;vertical-align:middle;\" /></a></span>"
      ],
      "text/plain": [
       "{12 in Naturals, 11 in Naturals, 10 in Naturals} |- |(a, b, c, d, e, f, g, h, i, k, m, n, a)| = 13"
      ]
     },
     "execution_count": 30,
     "metadata": {},
     "output_type": "execute_result"
    }
   ],
   "source": [
    "Len(List).evaluation(assumptions=[InSet(num(10), Naturals), InSet(num(11), Naturals), InSet(num(12), Naturals)])"
   ]
  },
  {
   "cell_type": "code",
   "execution_count": 31,
   "metadata": {},
   "outputs": [
    {
     "data": {
      "text/html": [
       "<span style=\"font-size:20px;\"><a class=\"ProveItLink\" href=\"__pv_it/fd06168026bc509d8e3fa5aabbe5b250808153f00/expr.ipynb\"><img src=\"data:image/png;base64,iVBORw0KGgoAAAANSUhEUgAAAN0AAAAVBAMAAAAwUfbwAAAAMFBMVEX///8QEBBERERUVFTMzMyY\n",
       "mJjc3NxmZmYiIiJ2dnaqqqoyMjKIiIi6urru7u4AAAAvZeGPAAAAAXRSTlMAQObYZgAAAAlwSFlz\n",
       "AAAOxAAADsQBlSsOGwAAApNJREFUSMe9lk1oE0EUx//Z2aTZfIxBEESQrh+HYqnEUqL0INEeVBDs\n",
       "TRAPe9EeemhB0EMuQcEuFdtUETwIhh486p56KFpX8SIWW/Akoqz2EvEQKypYSuLMfmQzyW6qEPoO\n",
       "b9+wv7zfMDuzGwD0I7YlYo+c65vHYUTlR7+FufXVDk3+AaGz+5eg9O7FyGE+TNR4Pm0BY4WDLeih\n",
       "dBa05g444qSOiPLgagsild8BVXbrAB8pRTaFo88txLJ42DLPY9o9IOPMkiN26oxgERVNRMhNZRQR\n",
       "Vtz3fMCKBWIhkhHJYTWpoegOViwvdUKiRShqi28eC4i3+SI1kN82kOrTb9lF7mLMCPG91HUjCJGy\n",
       "7hPyEXLJHA/wkSLIT16nn3pNcyT/Otj34W0IsmMS6Q0RIdpQqtTuYxH/zvN4Y81yUKXVIF9sKQyp\n",
       "Mt8vESGahIGGr8fwfedMnhfgNztFZ4J8SS0MmShB3hQRosmTlQorXvDRxKjvm7LvG02+aHk+E+QL\n",
       "Rbjvj4gQDRcS+7iqDIzc9pv1TPJS3q3r+nW3GY6TIN8JhuhqEFItIb0pIsxHrCN8ifvLoAWr0ey8\n",
       "c4zUpsljjQat55dQhO2XxIaIMB/N8vVUnvHTn/WaJUq4zOticzPZVAN88VBEUhGtiQjz4azEiiea\n",
       "sD/PAPYWXm6Q/P32SgVt86XMMCSacXegj0h5NjrJijnhPMSmrl2x62TZI6ed/Vs12s7fYigyjc95\n",
       "EYnzfgXh/A323jCT9Xrd/hUd/OS+ftfZQlED8RkXcRKPtQErBPm6PAQBkWd3svxNPO9CpO+47zMv\n",
       "Ar5Y7/t04z+RUF9blLqCOL5UZkuOmt1AnGcIumdLLopuIKC77MvY8Pb8f5Hvsn36F52qGlfT1HiH\n",
       "AAAAAElFTkSuQmCC\n",
       "\" style=\"display:inline;vertical-align:middle;\" /></a> <a class=\"ProveItLink\" href=\"__pv_it/351f02eeabfb8d77b70a8b11590d3ee28da66aef0/proof.ipynb\" style=\"text-decoration: none\">&#x22A2;&nbsp;</a><a class=\"ProveItLink\" href=\"__pv_it/dcc9fd5c98ae69f42e41bf35dfe01c77929a595c0/expr.ipynb\"><img src=\"data:image/png;base64,iVBORw0KGgoAAAANSUhEUgAAAU8AAAAVBAMAAAA0gXHkAAAAMFBMVEX///9UVFREREQiIiIQEBCY\n",
       "mJhmZmYyMjLu7u6qqqrMzMyIiIi6urp2dnbc3NwAAABm9RoHAAAAAXRSTlMAQObYZgAAAAlwSFlz\n",
       "AAAOxAAADsQBlSsOGwAABB1JREFUSMfFV19oHEUY/+4uuzd72buLIlQISFoiKj40tSAitNRCoCLq\n",
       "0lJFfMhhqVpC9QTtS1G2IO1DH3alKAUh2QefFM0aSmgSkh4mLz5IrlRaaBpYqy2IiIESmkStzsz3\n",
       "zdxedu/PW+bh9jff/L75ft/sN7NzEIFoJdjmVuoo45b8nd5uoXYofou1DkKteszCBoeStMKHlYTN\n",
       "XHGbDXHPqTaTpbXpdKGF5/g6r7xVI6HnmgbzlZSJyn7CdPWrrbaY5752k6W0vJsm9Mw76wBnwdgg\n",
       "occ7aQJYchOmF39wO2eTOllKMyqpK9rLhV7x2X0SeqCTJoBrybJa7yab1MnS2qGWQhdrQELtagdN\n",
       "vJ1KWIpDXWQDP3e7nT5qKZTvoTUUaoq9dHf5Dxr8YPYEoeW5AI+NkzMbtDmWp2iJjEf2UPlZo/MO\n",
       "ZfP5JB53bCpUk8GX70rw02N/fh9+O0lSZI8oGPlqG6ELDgrN86f9CuxGCey+62G4X31zQILFKEvv\n",
       "eSEoqBOirALdgN8GyDPK9OFq21RNbM0aG5aovitkazWL7KL3gEoII7+uhR7bK9qehtBvHgpQaI4X\n",
       "/KcOHKMFWlca9kGPBGwYTKyO0hr0qqz/CrbyrU3IoOTfiQ/Wgx8Ln8hzpnYQSv+CsQq6t4kUinyh\n",
       "3aunXd/Dx9931YnCY3hy1Uy1WzjI4Tpm/567peYYp2fPAExEyhMzA1cttzlM6TD2j0iJEhE90qwi\n",
       "T7QRCq+6WuhB4L7q5FvySYGW4uEU5b7kzpnw4RIino1a5nGq5Nypm0SzVmOJiB5pVpEXWwr9GmC3\n",
       "jzXqA9NvBcqOSJI3T1UjByM0FvuE7aTnSKQgz+aa3kPKtETSM1WRyFLkql7ZkVBFvtCqRtl/rhKa\n",
       "DYFtQLY6BsK1XOM1yVAx1ATwfHjCihiuGfiAsV4Sr1gI5TtGIXjZcAWPbRTlFNzk+aEc7KmLRHaU\n",
       "fGnnvXGoI1VGhsMtV/QF/eqL/IWehiOVuvgCQMbJVsDjm8GsQDEQIB8azxalyajC2Uiy5F6QyIsy\n",
       "64geBthEnr16Rz65yQtwWl4UPJGPcVz0bhiRhDIywGhLoUf1OWrzo/vM3Hf9AezlubNRfozm+GUA\n",
       "VmYvS8D6b/4yg6a5WV5kgiWqDJHdf30I0ePcJUTe0w4+n4LeUVcOLsiLyhfzaOe9228gxMiwP01o\n",
       "ZvBeP9hv60vJ82rA0h+8iwnQQJJl9ml+rhL31LyGp9X0Hb2YBktD3VzzXtOfRW2vJ0ADCdZneR9R\n",
       "4VGYCOKemtfwLDaFrKdB0+lGaDai3nl9tQy3ghgSrGfOEcocYqfjnprX4McGm+0xeLurizNTJ6aj\n",
       "b10JEEOC9eZ7hOzj12txT81r8GODzfYYfLKT0Bn5e2e7/4oY8p32Bi0J/wOSbGzOdIV8YgAAAABJ\n",
       "RU5ErkJggg==\n",
       "\" style=\"display:inline;vertical-align:middle;\" /></a></span>"
      ],
      "text/plain": [
       "{12 in Naturals, 11 in Naturals, 10 in Naturals} |- |(a, b, c, d, e, f, g, h, i, k, m, n, a)| = 13"
      ]
     },
     "execution_count": 31,
     "metadata": {},
     "output_type": "execute_result"
    }
   ],
   "source": [
    "Len(List)._computation(assumptions=[InSet(num(10), Naturals), InSet(num(11), Naturals), InSet(num(12), Naturals)])"
   ]
  },
  {
   "cell_type": "code",
   "execution_count": 32,
   "metadata": {},
   "outputs": [
    {
     "data": {
      "text/plain": [
       "[a, b, c, d, e, f, g, h, i, k, m, n]"
      ]
     },
     "execution_count": 32,
     "metadata": {},
     "output_type": "execute_result"
    }
   ],
   "source": [
    "List[:-1]"
   ]
  },
  {
   "cell_type": "code",
   "execution_count": 33,
   "metadata": {},
   "outputs": [
    {
     "data": {
      "text/html": [
       "<a class=\"ProveItLink\" href=\"../../../__pv_it/a8d4b3a34d2189508f9082853fbac36935714f280/expr.ipynb\"><img src=\"data:image/png;base64,iVBORw0KGgoAAAANSUhEUgAAAAsAAAAJBAMAAAAWSsseAAAAMFBMVEX////MzMxUVFQyMjKqqqoi\n",
       "IiKYmJju7u5EREQQEBC6urqIiIh2dnZmZmbc3NwAAAD0tjQRAAAAAXRSTlMAQObYZgAAAAlwSFlz\n",
       "AAAOxAAADsQBlSsOGwAAAEdJREFUCNdjYOC7s28DAwPDygcc3xkY2Kcx8AYwMPB+Z2A9wMDA2cBQ\n",
       "v4CBof4AQz5QRb0DQzPLAwbmDWyxPECV2gcfbWQAABp5EMgcedARAAAAAElFTkSuQmCC\n",
       "\" style=\"display:inline;vertical-align:middle;\" /></a>"
      ],
      "text/plain": [
       "a"
      ]
     },
     "execution_count": 33,
     "metadata": {},
     "output_type": "execute_result"
    }
   ],
   "source": [
    "List[-1]"
   ]
  },
  {
   "cell_type": "code",
   "execution_count": 34,
   "metadata": {},
   "outputs": [
    {
     "data": {
      "text/html": [
       "<span style=\"font-size:20px;\"> <a class=\"ProveItLink\" href=\"../../../core_expr_types/tuples/_axioms_.ipynb#tuple_len_incr\" style=\"text-decoration: none\">&#x22A2;&nbsp;</a><a class=\"ProveItLink\" href=\"../../../core_expr_types/tuples/__pv_it/0d74118d1e37187ae6198038fb67e65d2a7d860c0/expr.ipynb\"><img src=\"data:image/png;base64,iVBORw0KGgoAAAANSUhEUgAAAYgAAAAWBAMAAAAodhaSAAAAMFBMVEX///+IiIgiIiIQEBB2dnbu\n",
       "7u5UVFTMzMzc3NwyMjK6urpmZmaYmJiqqqpEREQAAACk/Np2AAAAAXRSTlMAQObYZgAAAAlwSFlz\n",
       "AAAOxAAADsQBlSsOGwAABHRJREFUWMPNV11oHFUUPtmdYWb/pmssScFWl0CaShBKtViqxVUwyqIy\n",
       "1dYqpdkEfFPKxoAPvmRF7ZOEfSkIxjYaX4qCGymUah62Dz5EadyE1lAVjA/B/mig4IIGBc+Ze+/s\n",
       "zc65W+fNs5zhzJxzds53z8+9A2Ck3iGIS1X8SSE+uSZX12zv3inOUuwweprSCYX4lM4bXrvLbB/4\n",
       "lGCN7n/iQZh1PF1RIVyJC2B0XxhsBESuiKtS73j4ui/sdwUeX9Kj93kQZh1Ldk2GQEJM+gA55bMg\n",
       "XkZOFLe+6dWzvrAnLsEbVFlrPAizjqVMQ4ZAQkz6BzlbZ0EsaPJnSrjPF/bEpQCK1eRBmHUsJVUI\n",
       "yfj90KLrfhbEXk1e1kEE9vvJI4urljI0tlnH0jkVwrnYIKwCXWc4EOmaEcSMYPTYNzDwkGk6GXUs\n",
       "nVchkOCe35HvPlF1g9T4PZjxEQ5EBtvh8DwLYkQwelwAWMdWqXIghO6/0owKgYS5qtfqai0MXhI3\n",
       "5dP2nwCLIYgvBoh2B/iwHIpzLIhFwehxCtwxzKdYFWe4BHePhSCErjs5Z5T0gAoBBftRyBTAXjSP\n",
       "ssAAHhd3P/twG2CFy0SiCW7zIgtiRTB6eL41KxQTJ2/C95af8UMQbV0XekUJB1UIKGRaNBYnes2j\n",
       "rKXPzYtg/wEwxYFIzoJNCIP0PCjTI0BMCUaPXF72buYCbW35utUup1DXjR7mQCTXoDwr15YfZcIg\n",
       "3CbSOGTnDCAg12IzMSeYPGqXcAT0Aewk5eoPb2kgAh0cv/R0tBoWtssucm73ydR9qEJAoVyE76Ab\n",
       "CGHwkazWvykzWjnpPYEdnxq7QznBs6exJcq+Hexqq9aJTzQQpLOHnGiLPl+ZkqH3DKozwS8qBBTK\n",
       "TbiRqwav8aMrAMrgyZbQb8IL2L9LXCa8PBkXORBLgsnjbYT57gqkg212Fer3aiBIl6k7e8HtmFJf\n",
       "waTcQ7x8Vk7yERUCCql8dtgK1sn+i0KuSSG8CwzcEwXx5DW4hdd5DoSFIXzuNjgQ84LJw6sEi5c9\n",
       "s7HxO4I4ktJAkG7bbM8YvDm49a83oS+s2YxM9scqBBTs8adO9YuED+D7EpSsYZCXxKAyoGUm/XHa\n",
       "JmAPu9nhDPN2dpTTycd254X9nraH3ao4RZGJ9HLHUbxc9b72YSsInOq/Hc3dReI2PylPJomKdCJB\n",
       "EIHIRevpatgZxzS9W2CPHUPcjq3siZVHrlYU29o3EC6x0iWrU3juGgS7CEfCywFns5H7EfAm4S9J\n",
       "Q3EYC09yCoQV7epwtl6zNL04N0ZAfMsdAJV9eOiklR2vwjSuX/r+CngdINILy88QCOcQTFadA3Q5\n",
       "BJ9e3t6AXwEmm858GNJ15XRdPnjnLJbs4Whjh+eNF3do+mn+e8IzfSZOS9Y97Oc2bpq/7LCccu3v\n",
       "FOFQwBGuH3JHldOo7hk9l2eB1a/zIGzTx8C65G6foE/oxTjxSLNdyUoa97cWPM6QfiXEp6xY8f6I\n",
       "4j2zPXHvwThvaTBSFv4H9C8GUC3eXXISRAAAAABJRU5ErkJggg==\n",
       "\" style=\"display:inline;vertical-align:middle;\" /></a></span>"
      ],
      "text/plain": [
       "|- forall_{i in Naturals} [forall_{a_{1}, ..a_{_a}.., a_{i}, b} (|(a_{1}, ..a_{_a}.., a_{i}, b)| = (i + 1))]"
      ]
     },
     "execution_count": 34,
     "metadata": {},
     "output_type": "execute_result"
    }
   ],
   "source": [
    "tuple_len_incr"
   ]
  },
  {
   "cell_type": "code",
   "execution_count": 35,
   "metadata": {},
   "outputs": [
    {
     "data": {
      "text/html": [
       "<span style=\"font-size:20px;\"><a class=\"ProveItLink\" href=\"__pv_it/9c4177b513c9052e9fb56c29331b586a2f5d1b7f0/expr.ipynb\"><img src=\"data:image/png;base64,iVBORw0KGgoAAAANSUhEUgAAAJUAAAAVBAMAAAC9PLGkAAAAMFBMVEX///8QEBBERERUVFTMzMyY\n",
       "mJjc3NxmZmYiIiJ2dnaqqqoyMjKIiIi6urru7u4AAAAvZeGPAAAAAXRSTlMAQObYZgAAAAlwSFlz\n",
       "AAAOxAAADsQBlSsOGwAAAbNJREFUOMullD1Iw0AUx/82pTb9OEQURBBtXQRRqjiJQ7GrYNzExSzi\n",
       "0KHuWYpDCYi21kXBITg42k6dVCoODro5aw9cCgqOKkIxn+0lXGyhb3iXl/vxC+8+AoC8oO8IXVrj\n",
       "45UPQIrJW4iTE/842khm3igjLT0Fj5zERkB7Bj6pVZizZw+yDzJtVGIeeFNadnKFUBAlDFjP5mxU\n",
       "IwUf5NRxIdZykgu8QA1huzBmN4GyD+Lnis2oBya4U8+6XHojFcpHfFzxa3uJBHkpVmJdX0BD4yM+\n",
       "rix1GpADmGNcxHBJfMR0DVa9rlp7MeTgXrPZcYV+gPU6H7kzqpzkdVU7ILYiCY+rxEdyeu+ZQ3hc\n",
       "wTFVVfdtUKALTI+6q1HnI6FZDUShHheZYj5KUk332lc0PiLeGCc35e0xz4BYCzCuJLBN+UhF5u7j\n",
       "U/uCpPWXqwB1XBuAwkdwzD8TUc0Gw8aDAvLruMIaGeEizPkSEt8rVjIXbPHV2oTisJ7fAZXaCDm/\n",
       "T/MR5qy6I162LogTEdoV8XV5Q+zhb2i6YkNduY8eXOaekPGunNRdRUbNYXe5//998ETfzz/8Z6t0\n",
       "PANzAwAAAABJRU5ErkJggg==\n",
       "\" style=\"display:inline;vertical-align:middle;\" /></a> <a class=\"ProveItLink\" href=\"__pv_it/6f5d9848823fb6ed71ff177bac4a4a4f395fc77b0/proof.ipynb\" style=\"text-decoration: none\">&#x22A2;&nbsp;</a><a class=\"ProveItLink\" href=\"__pv_it/28171b0fc45e97cc8739fe5396de1a7b137977910/expr.ipynb\"><img src=\"data:image/png;base64,iVBORw0KGgoAAAANSUhEUgAAAX0AAAAVBAMAAABYhyPhAAAAMFBMVEX///9UVFREREQiIiIQEBCY\n",
       "mJhmZmYyMjLu7u6qqqrMzMyIiIi6urp2dnbc3NwAAABm9RoHAAAAAXRSTlMAQObYZgAAAAlwSFlz\n",
       "AAAOxAAADsQBlSsOGwAABJ5JREFUSMe9V11oFFcUPvs3mdmd/UGECoGyLYqKfVhdEREUaQlYirD0\n",
       "IaVUzIKISlAjaBAEGV/0wYfZ0hYKhWYf+ljItpTQJkSW6kuRkhFFwUQYjT74oAaKuEYJPef+zczO\n",
       "3U2ecmFmzz33O/d899xz7twFH6gVYN2bdOkrudAbpG9kusCkv9afv3R5Gx+7RVK+3ROkb7clf8sL\n",
       "ac3NlTg0e74e0xmPnKgibDnVZ7KIy1xD8ozzJ1B2L4hXlNBebsr4X4sMDdQ1/oqNmOrOL926kOX+\n",
       "fpNFXF4klKPlj6ArJzriFWlcc1HwP74aVYA5J6b6/G9n9UVqJ4u4HMYnU9fyJ1CuI1/U7Jrctg43\n",
       "ZfwPrkYV4G5MY3fWskjtZBGXaUIc0vI/GONvtcL80ZT422OrUMU2HtPkK2tYJNzT0w+5HKCQXtDx\n",
       "Z6B+/NGU+BtUS4XTN8TYuZlTAjQ/2+TH2Onpt6Ie56dEQDMbd4rUtkZviF0d/+F3fh6bU9LPOfjp\n",
       "JCdz5+X8YHb+E1H76PLfD1/8hrB8iWpJx5/x6scfTRdkBG75SQ4y3zguZ7HYMMpMUGNws5mVB0dR\n",
       "TvUAnpaFpZ8o8b2xRX6Yr62fh7gquQPcI/B9EHTv45a5goGgKH+l+B+rUtupdqYffzQl/imsMXMI\n",
       "DJ4QVkdS2w9pJtAY3+/Ca8jJKL1qQhfeWoYEX8lzgQdr5Z/sZSb9mi7DKw9GuB5dZtufQmEZIeT2\n",
       "O138iVdf/mhK/NNoaHQgxSOLrl0mGdIoGEu+m12Qs0/I+ivDpC8t+YLBkZtjDIlVguO2YcKBDcKo\n",
       "Dab5HjJLeJLjA5M6/sQrzN+oVnd/Vq2WFH80lfyRhduWJ/ZcQxBTDMVYsRQv1skG/CHi5alNmRBV\n",
       "khp/GFrvCYAvAmrWEtsulmq31sI/Fn80ZfmPdF21tcUanGXeXZnpobHQh/oj8TviSxEXeVeVrVTN\n",
       "yQ34gBLSXjF5kNBlYgx9Od35E87/NeZPEpVuA7ZaPk1ebGO+m3wh0CYhGKM0agCPLUWSpBEsUinB\n",
       "4YxDOPNtnk2BKrfR4gaHARMmMfac9chl2sM98SBD2/ylLv4E6l+/ZcafTrCBVmZPHlwsu0QtWWeC\n",
       "UYd8k4RgDAv+qm++YaW8TAcOrc5PdLiEub3McfbSM/aLKrfpsUHEY7YPeLxHLjHXHmR8MIjSqI4/\n",
       "O1n78UdT9v3CHTQHHz6ehhTeisxRPP5JgEczf3KNGoPZGZygShG0qOxIsgfvV7i0BU1aHLejxn+3\n",
       "Q27U4bAK5Or4rfBlD24CPPkaXVHxH9B+vxCU2PzfIH9F+HMNmrLjZJ8y+bG3EEgW8TdKUoJUXUoR\n",
       "XGBpRS4RrBe4XKTNqWjvD/vi19ZWuLco7j/DSuP1FgIpj8+3rLhQym6CySbXdeECy3w0LaIu6ZJm\n",
       "1LT8h+P3jlrX/Y7xT/ryBt/qKYSk6/jsuiakxCHzktBFcQE+NKh6ymWByveJ/v6vQD3+wpUFf1Oe\n",
       "9BnoKYQkisE3Z4RkH7/fFrooLsBDJGi8p1wmKZu26fkrkL6R6TSTnq3//0fp8igtlcU51+wJ0jc0\n",
       "/R82OI9YCDhkfgAAAABJRU5ErkJggg==\n",
       "\" style=\"display:inline;vertical-align:middle;\" /></a></span>"
      ],
      "text/plain": [
       "{11 in Naturals, 10 in Naturals} |- |(a, b, c, d, e, f, g, h, i, k, m, (n))| = (11 + 1)"
      ]
     },
     "execution_count": 35,
     "metadata": {},
     "output_type": "execute_result"
    }
   ],
   "source": [
    "tuple_len_incr.instantiate({i: num(11), a: ExprTuple(a, b, c, d, e, f, g, h, i, k, m), b: ExprTuple(n)},\n",
    "                                                 assumptions=[InSet(num(10), Naturals), InSet(num(11), Naturals)])"
   ]
  },
  {
   "cell_type": "code",
   "execution_count": 36,
   "metadata": {},
   "outputs": [
    {
     "data": {
      "text/html": [
       "<span style=\"font-size:20px;\"><a class=\"ProveItLink\" href=\"__pv_it/fd06168026bc509d8e3fa5aabbe5b250808153f00/expr.ipynb\"><img src=\"data:image/png;base64,iVBORw0KGgoAAAANSUhEUgAAAN0AAAAVBAMAAAAwUfbwAAAAMFBMVEX///8QEBBERERUVFTMzMyY\n",
       "mJjc3NxmZmYiIiJ2dnaqqqoyMjKIiIi6urru7u4AAAAvZeGPAAAAAXRSTlMAQObYZgAAAAlwSFlz\n",
       "AAAOxAAADsQBlSsOGwAAApNJREFUSMe9lk1oE0EUx//Z2aTZfIxBEESQrh+HYqnEUqL0INEeVBDs\n",
       "TRAPe9EeemhB0EMuQcEuFdtUETwIhh486p56KFpX8SIWW/Akoqz2EvEQKypYSuLMfmQzyW6qEPoO\n",
       "b9+wv7zfMDuzGwD0I7YlYo+c65vHYUTlR7+FufXVDk3+AaGz+5eg9O7FyGE+TNR4Pm0BY4WDLeih\n",
       "dBa05g444qSOiPLgagsild8BVXbrAB8pRTaFo88txLJ42DLPY9o9IOPMkiN26oxgERVNRMhNZRQR\n",
       "Vtz3fMCKBWIhkhHJYTWpoegOViwvdUKiRShqi28eC4i3+SI1kN82kOrTb9lF7mLMCPG91HUjCJGy\n",
       "7hPyEXLJHA/wkSLIT16nn3pNcyT/Otj34W0IsmMS6Q0RIdpQqtTuYxH/zvN4Y81yUKXVIF9sKQyp\n",
       "Mt8vESGahIGGr8fwfedMnhfgNztFZ4J8SS0MmShB3hQRosmTlQorXvDRxKjvm7LvG02+aHk+E+QL\n",
       "Rbjvj4gQDRcS+7iqDIzc9pv1TPJS3q3r+nW3GY6TIN8JhuhqEFItIb0pIsxHrCN8ifvLoAWr0ey8\n",
       "c4zUpsljjQat55dQhO2XxIaIMB/N8vVUnvHTn/WaJUq4zOticzPZVAN88VBEUhGtiQjz4azEiiea\n",
       "sD/PAPYWXm6Q/P32SgVt86XMMCSacXegj0h5NjrJijnhPMSmrl2x62TZI6ed/Vs12s7fYigyjc95\n",
       "EYnzfgXh/A323jCT9Xrd/hUd/OS+ftfZQlED8RkXcRKPtQErBPm6PAQBkWd3svxNPO9CpO+47zMv\n",
       "Ar5Y7/t04z+RUF9blLqCOL5UZkuOmt1AnGcIumdLLopuIKC77MvY8Pb8f5Hvsn36F52qGlfT1HiH\n",
       "AAAAAElFTkSuQmCC\n",
       "\" style=\"display:inline;vertical-align:middle;\" /></a> <a class=\"ProveItLink\" href=\"__pv_it/8f2c421d7118f4f52e5a4481c21b955695d7848c0/proof.ipynb\" style=\"text-decoration: none\">&#x22A2;&nbsp;</a><a class=\"ProveItLink\" href=\"__pv_it/2ab7aae06da9f2cdf19688b37a53bb9535453d0b0/expr.ipynb\"><img src=\"data:image/png;base64,iVBORw0KGgoAAAANSUhEUgAAAZEAAAAVBAMAAAB1Wc4eAAAAMFBMVEX///9UVFREREQiIiIQEBCY\n",
       "mJhmZmYyMjLu7u6qqqrMzMyIiIi6urp2dnbc3NwAAABm9RoHAAAAAXRSTlMAQObYZgAAAAlwSFlz\n",
       "AAAOxAAADsQBlSsOGwAABOdJREFUWMPFV19oHEUY/+7PbnbvP1awELCnVFR86NUTkUK1VAMVUReF\n",
       "iAj2oDRVgpqKBqGoWxD74MOtiFIQm3vwVbMWCTYh5bB9ESm5UmmhaWHbWEFEDEjIn8bWmfm+md29\n",
       "2cv1LQPD/eab38z3/Wbmm52DAHgpwWaWUvhT6hXOxhFyFVcEOrWpSsh7wccKUGz34vQov0oldidi\n",
       "tbbXdGruvYZmM6+6cUN05NQGk3UV5f2UjFhXwjm5J9jWjLzb6g6NmfMeKTkW6xpoJLgre5rp/Lfd\n",
       "tsjI3RtNFi/K+4CLNUEJ4xw9tAJwDYrr8R5hhg9IycF+QQPMuZrp2Z/d/nITJ4sX5d1oYE1Qwjl5\n",
       "FvJWgGfoLDrUxc0wTEr29Asa4IJmKazcidzEyeIl9L6Pqq5kD4X8ogvb8JKy/aiSrCuUFMb6BM3K\n",
       "uGYp1u5ALvzWV0jE+/tUNSWCw0PeArCtlaBkwBFKTJ5yf8z/RV2HZ94kND+Lo0pvTa9SBs9P0SIb\n",
       "d++kFLBHT9NOj395EhfMmpJ+DsPXbwhw7t6/f/C/O0kxihZdHKH381Q1JYKTx0PwFCQoKVaEEiYI\n",
       "Ci/ADozRWnabGM+CZ1YFOBuk6SidaeXkTVOWU12C36s0MkhVcL8KdGSsJfvEkECd+31rqW2Tnbdu\n",
       "UZ6H3l8BrKjkQJ2XnZJDSnI3k5QYY0JJhmXlJw4cIMqKDHI3ZAWwhsDEI1Bagrxcr39a3Xx7DVKo\n",
       "6U/ig33rl9xHIoD2Xij9B8YiqNYaUiLev6Cq7QnnkJJMI0mJXRNKsmzgO668OFkQTbHupkxpBjK4\n",
       "E+mbs1fk7BP0m63CZCBHonRw5YaZQ6TXsta5ZlLKWyQq6n2SqqaEc0jJiJi2Xn/s6Xq9opTkFpWS\n",
       "vWCtqy/AnEchqlibOHe5oqf3pAc/0sp11EZNUDZlxi/Lb9tiRClvkaio97NUN1BiyO9TfE/YaRZ5\n",
       "4oGlNh7KDl8iVpoyIxjYT32Rx8B99Ls/kJDJvaASXZrmSFtqjCudC1zZKjsII97jpyuaJ+p0fQOl\n",
       "oPfpSvtgrUJ67ATwucttlhcWSoI2B00PHrQDC1cdPMAInuOniCthaS0RPG+4nGetFsUUzNT0fNGZ\n",
       "7XCl95Q8YWetCegIGHqHlwCrtidpn0Jm903eTcr4qlDCrjA4Ai83OtYyXy4n3YAmy1izAcUWBwO+\n",
       "8XhRmNgV8WkgWCJhBWoGqRVEdwGsIa+weEP8MlOzhdOyc8eUfoj9vHXJCARU3gFGAaumhHNEyAsj\n",
       "I1uSTpfp45eRfeOOzn4/2II602uNss9Jhj3L4OrMTwJYg5evTaNpdoZNwFn8pCMqDF6sIXqADfGR\n",
       "94iDvw9DftQVnWfEq/Kr02hnreuvIgy9w5OAVf8yMk5q+7+D8PHt28txJcIMmQBfK7vUk1O9LY5r\n",
       "IESCZVYUn1+M4UjFC0fasSfL8S6ovJdqWBNeK7v0F7QfbS3Qu2tY7aLq6mggRJz1uUhChnJbYbIV\n",
       "Hal44chiLIZOF1TeTQdrgpJh/ZHjdL0whZJ0QIbP1F8NvxtEEGc9eoxQap91JDpS8UJ+pDNuR6i8\n",
       "X6eaoERxevzrrJISS345lE5DAxHEWa+9Tahw8GI7OlLxQj7Els/ohsr7Q1QTlChOckmz4zst0I1N\n",
       "/fdL3o0AK7uOWr04PcrrAP8Df72rKHM2lAQAAAAASUVORK5CYII=\n",
       "\" style=\"display:inline;vertical-align:middle;\" /></a></span>"
      ],
      "text/plain": [
       "{12 in Naturals, 11 in Naturals, 10 in Naturals} |- |(a, b, c, d, e, f, g, h, i, k, m, n, (a))| = (12 + 1)"
      ]
     },
     "execution_count": 36,
     "metadata": {},
     "output_type": "execute_result"
    }
   ],
   "source": [
    "tuple_len_incr.instantiate({i: num(len(List) - 1), a: List[:-1], b: ExprTuple(List[-1])},\n",
    "                                                 assumptions=[InSet(num(10), Naturals),InSet(num(11), Naturals), \n",
    "                                                              InSet(num(12), Naturals)])"
   ]
  },
  {
   "cell_type": "code",
   "execution_count": 37,
   "metadata": {},
   "outputs": [],
   "source": [
    "#Len(ExprTuple(ExprRange(i, ExprRange(j, Aij, one, one), one, one))).computation()"
   ]
  },
  {
   "cell_type": "code",
   "execution_count": 38,
   "metadata": {},
   "outputs": [
    {
     "data": {
      "text/html": [
       "<span style=\"font-size:20px;\"> <a class=\"ProveItLink\" href=\"_proofs_/md_nine_add_one.ipynb\" style=\"text-decoration: none\">&#x22A2;&nbsp;</a><a class=\"ProveItLink\" href=\"__pv_it/76a4ad70a30fa52f9b527e4c02aaac3edbbf26ac0/expr.ipynb\"><img src=\"data:image/png;base64,iVBORw0KGgoAAAANSUhEUgAABa0AAAAZBAMAAADAjR9RAAAAMFBMVEX///+IiIgiIiIQEBB2dnbu\n",
       "7u5UVFTMzMzc3NwyMjK6urpmZmaYmJiqqqpEREQAAACk/Np2AAAAAXRSTlMAQObYZgAAAAlwSFlz\n",
       "AAAOxAAADsQBlSsOGwAADoJJREFUeNrtXAuQFMUZ/vcxN3v7uj1cLyQHch7io9AK8REoCs1ecgio\n",
       "6CgnVQZl9yoCqcTHKgakNHVDjKQqWtxSCWoV0axgNAaRgwDGAHFPowbPwJyKCGXCWmokPg4kXEAU\n",
       "L//f3TPbszu3t3OQaKqu63p2pufv/9H99d9/dw8AuExVjWfCUBpKX+Y0rNFwXad6qNkGlXSRzRT4\n",
       "UmhUaWklL/tPgRPLbuA2DueGcP2/SR6DZyuN/MJVethFacGIwaSRrjQ4PoseFrjO0++bbnAdpZ9I\n",
       "bgirbtJrIgM2+Exqv4R7HsrbDfwmtHmOXD77XNesNm/SHFCqjukHu1FQUpYBrhPaWqqiXZa/6Q9O\n",
       "hrpIzfV6wXkgrv9IhQ+4wXUoSz/6EFbdQDLDM7sSPK4ZDJfqDs7sVJhva/4VA9TzFxdcFVMnACwv\n",
       "Kp35dC+UlgLTlsYhN8B9usZBxSJZD8JVeqmhLiyqNpQzOb/lHNcLKP7Ju8G1SkN36RBW3aRQjmfm\n",
       "vMiVbBkMlxru36rGQdTW8ccGqHdPccH3AD4A6BJPQXPu9RDWuhxnG3JmoUHO0VtkFZ9wkhVuAH++\n",
       "1FAXFj0LcDnn18VxXa0h+g03uGYjYvoQVt0kn8gIjjTQJDtuMFzWarzXM+A/IBUHeweoV19c8AnA\n",
       "FaiQJuKEmIw1s1ROT4HXMsB9Gier2O0kK5qCSG+poS4s+gfAXo3xo4y4pqWjm7Ug0r6MP5khrLpJ\n",
       "j4sMCBAFPVNwUO33bf6TzIPnsDwpDzBI1E+Lo6LPAUaloTrnhOtqB6/cALMtA1wnstXf4IhrU1ZN\n",
       "BwTlSec74NIiwIK1BuNHmUB9bmPj+e5w7WtsHJ0YwqqbtEFkCuDCCKMQtd89TYsHmG2LCO6r3Wr6\n",
       "66Nyl6Qi9eikgqNHTtMD6+ph5fldm7Bj6RY645Ph9YNzDXVEbcbur7PgTznh2iyVEsapncKAwIbh\n",
       "sbI6lxKQrdWt9YYDrk1ZScT1Z7Kh0L0R3FikEK5zjB9lwvVTAO+6wzVOpVFtCKtu0q9Exm6BqjR3\n",
       "KsEJsL9sMxYTKJ9oSV3E1zIKkrm/3UWOr2Zre26+7snAeVllLADdRibA0wD4MBugwRZf78epOuOE\n",
       "a166vpHS6SL8jcE8YcAqPVo+6iklIFuTy5UjDrg2NWhPgPqxZOhnkTcmgRuLAocA2mKMH8socgkE\n",
       "Uu5wjfRLSsrDN7js6pINFXXzwIPlBZdLl8DAQk6g4v2v4s/hOdTYeLDx641ngRe914wcrC8rqJgA\n",
       "Q9AagqAyERbIs/benxuLSClvg0IdfgzdHezNsltEwVqd7lZpIE2xM7LqzQZEGpxwHSneY1uPGqPa\n",
       "GTJAmQShsntwDgRkK8a+Hzvg2pRFuD4kGXpkjcq26Cq2iOE6wfhRJlxHNX/WrsitG7Keb1KPn2p2\n",
       "3NhL4KSUhWv075eUGDSfNiGZoGvZIGy5mPZYAyPq0uw1K/vp715i8WAtofNPuxbSq84/U5d4qKp/\n",
       "wPGlYiTZHGftt41dm+cSpBZ3zrN0swsJfbRwIVkyYiqVxeOWkEV5SXF3PG2Kyzz5WYD6kKVuPG7e\n",
       "TRSZGmI1LZiwyZ/R4DSztRwTJ5Am9AwkWQvPinfL8fXvXzTjEVDRj/+SNtWSHfwWvnsFQ4H38+Ey\n",
       "+tZNx/hapcUnDrXRGIqmLKypBxx8WbCDGxDqBW9CNJTzxg8jsK+Z0danQTnEZ4HzxCxgk4VmBSV/\n",
       "HZqUdmkRcV8bY/woE64jMXnZqNb1ZCOpybDR7A245ab34XW/FtIKuO62LxuJAnYDNMGTxKG2gfsu\n",
       "8jVVCQ9b1HiYAasOMpPvZ+bs7+vDxvLotIyC6+F11KTcYooUIwp/LEgVbhnGGoA7h+vhJEYzqkRI\n",
       "tK+PlhjD2bqnKhFJmUKqEpLi7njaFJd5clxjTd7U/F0RrtE3PiX6+iJQjpqt5ZgYgX1Xd61hwaeQ\n",
       "ztqQNt9HPn355RcJBTV5fjvrxr0MBcq0vo7iQRMc5+Svg6Wr0G4KPZkBvjwks6KhnDd+GEEJrldY\n",
       "68JuJ1m4boxIM5B3xRRwaRH28l6D8aPMztEznZISm9GASGeIufgAG8/UDW/GOvyFOASqw/LSgFEQ\n",
       "PMZDjW5NLkehHVmpaT/r8zUM14/x5XsHZBnwQwS8LBsjhyGplcc1KUYUvjSwSO0V1h7ZADmuhTCN\n",
       "xaN7S4SEeHDwPlO7Jq30mkKQTUFxdzxtiss8Ba7H85lxk8bemecOLIfINx7EOKTaIBcTPuAw7cs+\n",
       "KGzznTU5QiPvBWm3Vzka5N67Gmdzhg7u3eg2MhHaCAWJu+HawzbuD0HZOESKr9ejj8VIJEMGoGPd\n",
       "YTaUYxIEtuGIY/EzayQ6xiHRPISlkZrMrk27tKgHYIdmi0Ng+nK82XJLneeFNHioIPLj38YI1+H8\n",
       "4g4YQbV27Vks49q/G5tX2RLnkSajQHgEjoDPsJR9nuEaxx5xVE7muF5D3eJ7bCcPUyeTeYdIB6xa\n",
       "ky3F9azOqeathx9qZKBdhwstDIa1ALftbLpcmSwREgA/PY1K0N4kVj1qCmmrnWMp7pKnrLiNp4hD\n",
       "Pq5DYnWuzt/x9JbI4AWVBlo0BsoxiGbeKIdrRmD2DBtxCltNRS4QbSsWCAeUYx6BAsD4Mcii0TS7\n",
       "9aGL/5m+AhIIJ2kd8SqzMZx3XDfmHbb57hBGJA34Z0Qvh2tG0PVibWrEPFGEtmI7zMg5rRuFrPA4\n",
       "CrKstAPZxNxZ9BzFOowfyyTsLtoYWZXzpTwpNl1DJD15D+G6avjOCWyyhV3+6x6RcB2g6PuqdBtz\n",
       "HpwCtoHay0Fs9hTbbfUsY1eF4frRu28k06fM4iBl89WoQ3yebstBsKiLlTNUaxDP5vZnAIWeDQWX\n",
       "wTdGv8paIZYsFQJ7mPy+BJsQMUITQoZp9ZbibnnKiss8Oa49YzwdEPxAF+94ulhkBAj7gIEi8mXw\n",
       "bEeigGvlExKRMS8gCMyeof7I8WNGzxj40KyCf1V55TDzOl58Oz8LU+EXunIav8UJftSd+jRIvKrB\n",
       "PmLMeQ/TomhJKOaE61DJPh6OxJHCiOpYeKxf8tfEjinOLmASvDQJMVhnbq+nCIEfOO1fW7LOgRlp\n",
       "wQ//boJkOuHOIq+hjOf8KDNcR5Hj3cPQG4QS/JQzkg55qIt8l0Gan7Hugo5TJFzDexQY0IprqSZO\n",
       "YdUHCde+WAHX9GELAZKK3lDEhNpGLi7H93wYVNV5N1NfPXn1DuzuZfa9ilCHasV6/Ph1kUEY/IaE\n",
       "wVv52CJfGNGTpUI4eBcsoCg7+O61x0whb8E2S3G3PGXFZZ4c19FYOBN8R7PesbRSZJjODnjZSJgZ\n",
       "v701LfnrsaIj+QUEgdkzbLW3lb9ovjRrVRkLUQPqTyae+y8yIPDDZh3u66xDArpVW7tblkHV9foj\n",
       "nfEsMea8/c10lu/V7biuevtga6FUOvcx+IccaIDSOmXJVyRcM3ZjTe1BEASubEAPvcHcrkQLZ5nb\n",
       "1yaui2S11M4z+eHfR+BZp7mzSGmiDQriR7nwnWorotRrwLaenh4jklYSNAjaMaYNP9TT8xHiuqVa\n",
       "xjUPoOtAXakJigVzWDBRiEMI8qz/ccIL5DiuDbamwIiDubEXxFKb4lFlD+3M7ra7ipqsx9ohYYqp\n",
       "czWa3I8VMBgQW+9taNS9kCwVEk7xTYhV5A6u+80RU8hE2GQp7panrLjMk+Palw2l5vNeZO94f6V5\n",
       "RoB4WcEZ1p5WwwB7QKJn3KQVlZH9BIr8ta1UCpA1vlPstYKfVwbgXBVDj3SO+XSGfQ1aVtbxW0S5\n",
       "gOvxcAq0q3Ab99ewhkzdHmzQ1QT318HuIlyj6/rwavBqwClokrKtGwMpFR9mpAMIBbX50kMGWx22\n",
       "6yziZmHnO/z4jX1q8iM6pFWLVuJJPfq81vVm1xpcHd9mTmm2NR4sgdtRlfHoSpGk+ZnpJUKiCX5e\n",
       "Rp/AqFowYwrphQsLirvkKSsu8+S4rtF8hnK5Yb4TAWQHzwiQ1aygq2Jci575L+Da/PYqmHMqlbYn\n",
       "+DYfN6AiXPvSnnzggDkMbF9SPVFe1vFbtEXGdeAA+oXtfn6OGM6CJ6UkoFVtSPCzyJfAipYsfz1B\n",
       "PZojXIvTSrbP9zi0sJ7CyksX3qG14PvwBfgAgV4qSyCXFnShagOV4RqohXzBHHz4EO7n+3wtRCcu\n",
       "Pr3tCXg478u+BuKAk+/zZaj2K0QbeG/hRnwYA8+hLPS7mk0IKePLEa/lUIUE0Vx1mgmhKri8sBR3\n",
       "wdOmOEg8LVx7te14PYVOBuidSPt4RoDwL8aieoW4NnvGTTq9sjOrfIWlq80P4/ZViut29NjhvLmP\n",
       "HdVdaXB8FjGeFq6DKXgAlpyMnUpxFGIsr16IJTekYSl2TfCsNP/XBDKuV/81znG9NG3Co2kjzDcC\n",
       "0z6NYeVv9fXhg9pUp+MDbP+3gT8t8QSWQbxeozKcnpB6XZwIHomnOa6xygSYr9PFCG7pvgyj/2vg\n",
       "B8AVYxTNrPZPf70OKXx9fQfw4bba7xPf8P4bbULoB+dOLLundirxa5rCWWDJHXFJcRc8bYrLPAv7\n",
       "IetYf27HdXDTFJDXvZg9WeD/JEAsWoFaq2xfmT3jIj35r32VkDl/C+FQ+jX0CtLiHVhDlU2PQrUe\n",
       "aDU5KXlXGhyfRdwzlxxLt/T0iDVJRCh1ec/7Refo8hSlmRS7RYkhV7Y9RAYkyFglhXdeeA3G5YRi\n",
       "JoAGZGX0T5CxSuyKV8jTUYBt/1qkv9u8VCDHs5Xu/cK/WfmLi9KCEYNJ97rS4PgsYjzL/fvGnf1+\n",
       "HyLtAJ20FaQVP3WxJlW2PTiV2QkIHhFrCIu7meguWnVpaV0JK/HgWJYpsm0luOLpJMAR10Ppi0vl\n",
       "cJ2rANdyOZ8qw3Jl24NTmZ1gkWGVgHwnJbGhNhCrMPRbRkJstgnFK+XpJGCRMYTr/xtc94ff/v7/\n",
       "kDuPVxl1ZwU0uRMv5MQprg8h6kuRho3O/QfgBWZnPdO7gwAAAABJRU5ErkJggg==\n",
       "\" style=\"display:inline;vertical-align:middle;\" /></a></span>"
      ],
      "text/plain": [
       "|- forall_{m in Naturals, k in Naturals} [forall_{a_{1} in {0, 1, 2, 3, 4, 5, 6, 7, 8, 9}, ..a_{_a} in {0, 1, 2, 3, 4, 5, 6, 7, 8, 9}.., a_{m} in {0, 1, 2, 3, 4, 5, 6, 7, 8, 9}, b in {0, 1, 2, 3, 4, 5, 6, 7, 8, 9} | b < 9} ((\\# (a_{1} ~ ..a_{_a}.. ~ a_{m} ~ b ~ 9 ~ ..k repeats.. ~ 9) + 1) = \\# (a_{1} ~ ..a_{_a}.. ~ a_{m} ~ (b + 1) ~ 0 ~ ..k repeats.. ~ 0))]"
      ]
     },
     "execution_count": 38,
     "metadata": {},
     "output_type": "execute_result"
    }
   ],
   "source": [
    "md_nine_add_one"
   ]
  },
  {
   "cell_type": "code",
   "execution_count": 39,
   "metadata": {},
   "outputs": [
    {
     "data": {
      "text/html": [
       "<strong id=\"one_spec\">one_spec:</strong> <span style=\"font-size:20px;\"> <a class=\"ProveItLink\" href=\"__pv_it/db82c0b5690d36824b812d8719f91690e631ec040/proof.ipynb\" style=\"text-decoration: none\">&#x22A2;&nbsp;</a><a class=\"ProveItLink\" href=\"__pv_it/a951f284489051f4ab48d5306004de5f0d89bd580/expr.ipynb\"><img src=\"data:image/png;base64,iVBORw0KGgoAAAANSUhEUgAAAGMAAAAVBAMAAACgbk16AAAAMFBMVEX///9UVFREREQiIiIQEBCY\n",
       "mJhmZmYyMjLu7u6qqqrMzMyIiIi6urp2dnbc3NwAAABm9RoHAAAAAXRSTlMAQObYZgAAAAlwSFlz\n",
       "AAAOxAAADsQBlSsOGwAAAYFJREFUOMtjeMAAAnwMqADKf8CADdwBkzvRRHk2IEli1cJ5AUmkyRlu\n",
       "BroWvrSiBVDRdhSJMiBmb8Cm5SED7x+oaCqKxE8gZk3ApkWCgcEFKuqA4o8fINIDmxb/Bgb5B2BR\n",
       "ngJkcV4DEFmKTYswA4P8ArAoG8j3z26/hoizS2+bwMBwEUeI2UNE2QOANvkx6IO9zNBfwfGPgSEc\n",
       "riXZGAQMITq4fkNEmYGmtgQwJENE5zcwAMUnY7eFOQEiynKAgSG/gcEWIprOwPGXgWE9di1pDAgt\n",
       "Tgwcf2DRwgMM5iNYtYDDHuyXCSCDWT9AhL8ysP1AdhiyX+Yy8EECmWkDA8dPBqaCeQygAPgD8hdD\n",
       "EDZbuC4wcDeARXkFGBiqGYITLnB8B/JEGdSAZDY2LY/T0oQhojzAyGvcu056AYMx0Jo2ULQw2GHT\n",
       "Uv///3eoqBVMjLMBlmYNCCT+MHhigTHYAghoYYJlv26Y8CNCWYxDAcoLgAlr4NGyC0w+RY+yB0iS\n",
       "aAAASC1yiQ7Pt0oAAAAASUVORK5CYII=\n",
       "\" style=\"display:inline;vertical-align:middle;\" /></a></span><br>"
      ],
      "text/plain": [
       "one_spec: |- |(a, b)| = 2"
      ]
     },
     "execution_count": 39,
     "metadata": {},
     "output_type": "execute_result"
    }
   ],
   "source": [
    "one_spec = tuple_len_2.specialize({a:a})"
   ]
  },
  {
   "cell_type": "code",
   "execution_count": 40,
   "metadata": {},
   "outputs": [
    {
     "data": {
      "text/html": [
       "<span style=\"font-size:20px;\"> <a class=\"ProveItLink\" href=\"../../../core_expr_types/tuples/_axioms_.ipynb#tuple_len_incr\" style=\"text-decoration: none\">&#x22A2;&nbsp;</a><a class=\"ProveItLink\" href=\"../../../core_expr_types/tuples/__pv_it/0d74118d1e37187ae6198038fb67e65d2a7d860c0/expr.ipynb\"><img src=\"data:image/png;base64,iVBORw0KGgoAAAANSUhEUgAAAYgAAAAWBAMAAAAodhaSAAAAMFBMVEX///+IiIgiIiIQEBB2dnbu\n",
       "7u5UVFTMzMzc3NwyMjK6urpmZmaYmJiqqqpEREQAAACk/Np2AAAAAXRSTlMAQObYZgAAAAlwSFlz\n",
       "AAAOxAAADsQBlSsOGwAABHRJREFUWMPNV11oHFUUPtmdYWb/pmssScFWl0CaShBKtViqxVUwyqIy\n",
       "1dYqpdkEfFPKxoAPvmRF7ZOEfSkIxjYaX4qCGymUah62Dz5EadyE1lAVjA/B/mig4IIGBc+Ze+/s\n",
       "zc65W+fNs5zhzJxzds53z8+9A2Ck3iGIS1X8SSE+uSZX12zv3inOUuwweprSCYX4lM4bXrvLbB/4\n",
       "lGCN7n/iQZh1PF1RIVyJC2B0XxhsBESuiKtS73j4ui/sdwUeX9Kj93kQZh1Ldk2GQEJM+gA55bMg\n",
       "XkZOFLe+6dWzvrAnLsEbVFlrPAizjqVMQ4ZAQkz6BzlbZ0EsaPJnSrjPF/bEpQCK1eRBmHUsJVUI\n",
       "yfj90KLrfhbEXk1e1kEE9vvJI4urljI0tlnH0jkVwrnYIKwCXWc4EOmaEcSMYPTYNzDwkGk6GXUs\n",
       "nVchkOCe35HvPlF1g9T4PZjxEQ5EBtvh8DwLYkQwelwAWMdWqXIghO6/0owKgYS5qtfqai0MXhI3\n",
       "5dP2nwCLIYgvBoh2B/iwHIpzLIhFwehxCtwxzKdYFWe4BHePhSCErjs5Z5T0gAoBBftRyBTAXjSP\n",
       "ssAAHhd3P/twG2CFy0SiCW7zIgtiRTB6eL41KxQTJ2/C95af8UMQbV0XekUJB1UIKGRaNBYnes2j\n",
       "rKXPzYtg/wEwxYFIzoJNCIP0PCjTI0BMCUaPXF72buYCbW35utUup1DXjR7mQCTXoDwr15YfZcIg\n",
       "3CbSOGTnDCAg12IzMSeYPGqXcAT0Aewk5eoPb2kgAh0cv/R0tBoWtssucm73ydR9qEJAoVyE76Ab\n",
       "CGHwkazWvykzWjnpPYEdnxq7QznBs6exJcq+Hexqq9aJTzQQpLOHnGiLPl+ZkqH3DKozwS8qBBTK\n",
       "TbiRqwav8aMrAMrgyZbQb8IL2L9LXCa8PBkXORBLgsnjbYT57gqkg212Fer3aiBIl6k7e8HtmFJf\n",
       "waTcQ7x8Vk7yERUCCql8dtgK1sn+i0KuSSG8CwzcEwXx5DW4hdd5DoSFIXzuNjgQ84LJw6sEi5c9\n",
       "s7HxO4I4ktJAkG7bbM8YvDm49a83oS+s2YxM9scqBBTs8adO9YuED+D7EpSsYZCXxKAyoGUm/XHa\n",
       "JmAPu9nhDPN2dpTTycd254X9nraH3ao4RZGJ9HLHUbxc9b72YSsInOq/Hc3dReI2PylPJomKdCJB\n",
       "EIHIRevpatgZxzS9W2CPHUPcjq3siZVHrlYU29o3EC6x0iWrU3juGgS7CEfCywFns5H7EfAm4S9J\n",
       "Q3EYC09yCoQV7epwtl6zNL04N0ZAfMsdAJV9eOiklR2vwjSuX/r+CngdINILy88QCOcQTFadA3Q5\n",
       "BJ9e3t6AXwEmm858GNJ15XRdPnjnLJbs4Whjh+eNF3do+mn+e8IzfSZOS9Y97Oc2bpq/7LCccu3v\n",
       "FOFQwBGuH3JHldOo7hk9l2eB1a/zIGzTx8C65G6foE/oxTjxSLNdyUoa97cWPM6QfiXEp6xY8f6I\n",
       "4j2zPXHvwThvaTBSFv4H9C8GUC3eXXISRAAAAABJRU5ErkJggg==\n",
       "\" style=\"display:inline;vertical-align:middle;\" /></a></span>"
      ],
      "text/plain": [
       "|- forall_{i in Naturals} [forall_{a_{1}, ..a_{_a}.., a_{i}, b} (|(a_{1}, ..a_{_a}.., a_{i}, b)| = (i + 1))]"
      ]
     },
     "execution_count": 40,
     "metadata": {},
     "output_type": "execute_result"
    }
   ],
   "source": [
    "tuple_len_incr"
   ]
  },
  {
   "cell_type": "code",
   "execution_count": 41,
   "metadata": {},
   "outputs": [
    {
     "data": {
      "text/html": [
       "<strong id=\"tuple_spec\">tuple_spec:</strong> <table><tr><th>&nbsp;</th><th>step type</th><th>requirements</th><th>statement</th></tr>\n",
       "<tr><td><a name=\"-0x76b17a7f554ce785_step0\">0</a></td><td>instantiation</td><td><a href=\"#-0x76b17a7f554ce785_step1\">1</a>, <a href=\"#-0x76b17a7f554ce785_step2\">2</a>, <a href=\"#-0x76b17a7f554ce785_step3\">3</a></td><td><span style=\"font-size:20px;\"> <a class=\"ProveItLink\" href=\"__pv_it/a2e07f901b4ab6dbac6e237010966bcfc750d8970/proof.ipynb\" style=\"text-decoration: none\">&#x22A2;&nbsp;</a><a class=\"ProveItLink\" href=\"__pv_it/f37af9af3d840491138cecbe0316790eef9c58430/expr.ipynb\"><img src=\"data:image/png;base64,iVBORw0KGgoAAAANSUhEUgAAAKcAAAAVBAMAAADROuOhAAAAMFBMVEX///9UVFREREQiIiIQEBCY\n",
       "mJhmZmYyMjLu7u6qqqrMzMyIiIi6urp2dnbc3NwAAABm9RoHAAAAAXRSTlMAQObYZgAAAAlwSFlz\n",
       "AAAOxAAADsQBlSsOGwAAAklJREFUOMt1Vb9rE1Ec/3jppZfkEgpFEDI0g4ibkXPQglpaB0HQQyFu\n",
       "Eiymg0ODoBQ6eBXRwcFAZzV/gd4k2CI4uLnE1XY4Lbq4FETaYrR+3/e9HHe5773h8n3v+/l87vvr\n",
       "XhBBrRpylnFEeY7sUtBttt7lQdyQf7YzjlzGpxG8NEicPlrIkjOixKh17vXHTstngUrPwJ+mXA+S\n",
       "m8lAFCXGV1SH6cO1pX16rhj4nZTvILmx26IoMY4Bl0yNfHNaUaItA59LlXE/Rb8sihLjWoAZ3cBS\n",
       "mBSdCBjudpP4ajNFvy+JKsY0MNMXRCd9hhdVn35s/TRVrL/tGfnNL8BnSbSoO3sRgmh1iuGkDfcq\n",
       "TnFP8HzF+adH8RxuAzdj0UVPrdMwDGr2H0nU7jK8QJE99rGoPa8CaHBhgCvAuhRpgXMptCXRUpPh\n",
       "Ex+A5QDntWcJzl82ljnyN5KoYgAdroTnnVnwvKlYtLwbi87DGY7G1NVDNc/Pj7midhtSpO6crmlP\n",
       "BWfvas9vFHmoTLzrYk1V+i9Qi/LTt0I4B7C6L6ESHqr6BqwOF7guRUoMlAeoBFKjGgynIcAqbrQH\n",
       "zh7tjuIE2KCS0UjdlUQVY6fTmZbSL4Z6+Gnc196/rvfh0aufqDFVRnVrk54XxOEnxsPDw7206JHj\n",
       "v+o0E5GGz8aXTzBu1JriZzqburLC5G7HwFtxWhmj6IuirVTc/thdw3BrdLM/w7jxTb5PrSj3v6Jh\n",
       "4E7DnMSvjI2TsmjMyCyLCrfB1vc8iK0j2sg4chm3gP/iKK2n+/yEqQAAAABJRU5ErkJggg==\n",
       "\" style=\"display:inline;vertical-align:middle;\" /></a></span></td></tr>\n",
       "<tr><td>&nbsp;</td><td colspan=4 style=\"text-align:left\"><span style=\"font-size:20px;\"><a class=\"ProveItLink\" href=\"../../../__pv_it/557ab5defdcd46aa58168b08767502985122cd490/expr.ipynb\"><img src=\"data:image/png;base64,iVBORw0KGgoAAAANSUhEUgAAAAcAAAAOBAMAAAARcxsoAAAALVBMVEX///9ERESYmJhUVFQyMjKq\n",
       "qqrc3NwQEBC6urru7u52dnYiIiJmZmaIiIgAAAD/UVazAAAAAXRSTlMAQObYZgAAAAlwSFlzAAAO\n",
       "xAAADsQBlSsOGwAAADlJREFUCNdjYGC4wwAEuxjQAeedCwwMXBwFDAypPA4MDBP4gFyGuAlAwhkk\n",
       "+5SLgYHjQRKQKavAAAAx5QmdfgFqMAAAAABJRU5ErkJggg==\n",
       "\" style=\"display:inline;vertical-align:middle;\" /></a> : <a class=\"ProveItLink\" href=\"../__pv_it/fb4ccffdbfd0f653ebaacb95e7ff4802fd48a6f20/expr.ipynb\"><img src=\"data:image/png;base64,iVBORw0KGgoAAAANSUhEUgAAAAkAAAAOBAMAAAAPuiubAAAAMFBMVEX///+qqqqYmJiIiIgiIiIQ\n",
       "EBDu7u66urp2dnZUVFTMzMxEREQyMjJmZmbc3NwAAADG9xhMAAAAAXRSTlMAQObYZgAAAAlwSFlz\n",
       "AAAOxAAADsQBlSsOGwAAAE9JREFUCNdj4Lt7egEDw0sGju8MDNMYGEIZGOITGOY/YJjCwDAfKMHA\n",
       "4A8iuD6DSJYLIPIuiGACMyUY+B4wcDUwMCcwPLl7F6jl/P//fxgAW7YV+O4aX5IAAAAASUVORK5C\n",
       "YII=\n",
       "\" style=\"display:inline;vertical-align:middle;\" /></a>, <a class=\"ProveItLink\" href=\"../../../__pv_it/a8d4b3a34d2189508f9082853fbac36935714f280/expr.ipynb\"><img src=\"data:image/png;base64,iVBORw0KGgoAAAANSUhEUgAAAAsAAAAJBAMAAAAWSsseAAAAMFBMVEX////MzMxUVFQyMjKqqqoi\n",
       "IiKYmJju7u5EREQQEBC6urqIiIh2dnZmZmbc3NwAAAD0tjQRAAAAAXRSTlMAQObYZgAAAAlwSFlz\n",
       "AAAOxAAADsQBlSsOGwAAAEdJREFUCNdjYOC7s28DAwPDygcc3xkY2Kcx8AYwMPB+Z2A9wMDA2cBQ\n",
       "v4CBof4AQz5QRb0DQzPLAwbmDWyxPECV2gcfbWQAABp5EMgcedARAAAAAElFTkSuQmCC\n",
       "\" style=\"display:inline;vertical-align:middle;\" /></a> : <a class=\"ProveItLink\" href=\"__pv_it/bbc1b69eb12288f0ad04da0d0cc6b9b8079b8b3f0/expr.ipynb\"><img src=\"data:image/png;base64,iVBORw0KGgoAAAANSUhEUgAAACkAAAAVBAMAAAAp9toTAAAAMFBMVEX////MzMxUVFREREQiIiK6\n",
       "uroQEBCYmJhmZmYyMjLu7u52dnaqqqqIiIjc3NwAAACFAiZ1AAAAAXRSTlMAQObYZgAAAAlwSFlz\n",
       "AAAOxAAADsQBlSsOGwAAARFJREFUGNNdkbFOhEAQhj8FATnk7hF8ARMqEwsNpTEWVxiTK8xdY2wp\n",
       "rfQ6i9NIbEyMBYkPABofgFobfAANMT6ArVTOApvAkeww8+3w7z8LUNJ/6nojX6InKrx3gLsdNm1u\n",
       "3O1bn0t4ACfq0qGSOwerpzlNJFgJkx59rWUiFvLyF19FQ+8+r2Gwyb3kx6VRNR7+krTEjjmU/Awn\n",
       "rKlXMSzwQk7FRoWZ1dSJSTNWfhW1AtKxtjvNWZvxiNq+bO1G3CZKYVdozo5XuoqO5QzsgBf5rrD3\n",
       "B6Qy+mpkyMhOwZF42Hr+/sA8kOxG7GKWmCM915tOfkRkrotMJ1ey9vTdtkPjBxKe2sLWrYa6Nz9a\n",
       "+kMX8A+nBjzFoJaLpgAAAABJRU5ErkJggg==\n",
       "\" style=\"display:inline;vertical-align:middle;\" /></a>, <a class=\"ProveItLink\" href=\"../../../__pv_it/53e304ff98ebc000dbe3ef224f4637dbafd46ba70/expr.ipynb\"><img src=\"data:image/png;base64,iVBORw0KGgoAAAANSUhEUgAAAAkAAAAOBAMAAAAPuiubAAAALVBMVEX///+YmJjc3NyIiIhUVFR2\n",
       "dna6urqqqqpmZmYyMjIiIiIQEBBERETu7u4AAAALjtrwAAAAAXRSTlMAQObYZgAAAAlwSFlzAAAO\n",
       "xAAADsQBlSsOGwAAAE5JREFUCNdj4D29gAEIOBtAJF8BiMy7ACKjQATDFON2BgbelxfuKTCwv2Xg\n",
       "M2DgmMBwLwCkPK+AgU+Aoe8CA18C70YGBhYBHqARvM1A5QCqGhDobJhHyAAAAABJRU5ErkJggg==\n",
       "\" style=\"display:inline;vertical-align:middle;\" /></a> : <a class=\"ProveItLink\" href=\"../../../__pv_it/b2b446b221a34ee579eb9a1fbdd4ac4e2891d8c70/expr.ipynb\"><img src=\"data:image/png;base64,iVBORw0KGgoAAAANSUhEUgAAAAkAAAAJBAMAAAASvxsjAAAAKlBMVEX///+6urqYmJju7u4QEBBE\n",
       "RERmZmaqqqoiIiLc3NzMzMyIiIh2dnYAAACSkFDuAAAAAXRSTlMAQObYZgAAAAlwSFlzAAAOxAAA\n",
       "DsQBlSsOGwAAADhJREFUCNdjYGA4vWcBA8OMArYABoYeBpYNDGyXGYCAJQBE2h4AkbwKDAwCDGwJ\n",
       "DDxAlWd2b2YAACirCnk+94p2AAAAAElFTkSuQmCC\n",
       "\" style=\"display:inline;vertical-align:middle;\" /></a></span></td></tr><tr><td><a name=\"-0x76b17a7f554ce785_step1\">1</a></td><td>axiom</td><td></td><td><span style=\"font-size:20px;\"> <a class=\"ProveItLink\" href=\"../../../core_expr_types/tuples/_axioms_.ipynb#tuple_len_incr\" style=\"text-decoration: none\">&#x22A2;&nbsp;</a><a class=\"ProveItLink\" href=\"../../../core_expr_types/tuples/__pv_it/0d74118d1e37187ae6198038fb67e65d2a7d860c0/expr.ipynb\"><img src=\"data:image/png;base64,iVBORw0KGgoAAAANSUhEUgAAAYgAAAAWBAMAAAAodhaSAAAAMFBMVEX///+IiIgiIiIQEBB2dnbu\n",
       "7u5UVFTMzMzc3NwyMjK6urpmZmaYmJiqqqpEREQAAACk/Np2AAAAAXRSTlMAQObYZgAAAAlwSFlz\n",
       "AAAOxAAADsQBlSsOGwAABHRJREFUWMPNV11oHFUUPtmdYWb/pmssScFWl0CaShBKtViqxVUwyqIy\n",
       "1dYqpdkEfFPKxoAPvmRF7ZOEfSkIxjYaX4qCGymUah62Dz5EadyE1lAVjA/B/mig4IIGBc+Ze+/s\n",
       "zc65W+fNs5zhzJxzds53z8+9A2Ck3iGIS1X8SSE+uSZX12zv3inOUuwweprSCYX4lM4bXrvLbB/4\n",
       "lGCN7n/iQZh1PF1RIVyJC2B0XxhsBESuiKtS73j4ui/sdwUeX9Kj93kQZh1Ldk2GQEJM+gA55bMg\n",
       "XkZOFLe+6dWzvrAnLsEbVFlrPAizjqVMQ4ZAQkz6BzlbZ0EsaPJnSrjPF/bEpQCK1eRBmHUsJVUI\n",
       "yfj90KLrfhbEXk1e1kEE9vvJI4urljI0tlnH0jkVwrnYIKwCXWc4EOmaEcSMYPTYNzDwkGk6GXUs\n",
       "nVchkOCe35HvPlF1g9T4PZjxEQ5EBtvh8DwLYkQwelwAWMdWqXIghO6/0owKgYS5qtfqai0MXhI3\n",
       "5dP2nwCLIYgvBoh2B/iwHIpzLIhFwehxCtwxzKdYFWe4BHePhSCErjs5Z5T0gAoBBftRyBTAXjSP\n",
       "ssAAHhd3P/twG2CFy0SiCW7zIgtiRTB6eL41KxQTJ2/C95af8UMQbV0XekUJB1UIKGRaNBYnes2j\n",
       "rKXPzYtg/wEwxYFIzoJNCIP0PCjTI0BMCUaPXF72buYCbW35utUup1DXjR7mQCTXoDwr15YfZcIg\n",
       "3CbSOGTnDCAg12IzMSeYPGqXcAT0Aewk5eoPb2kgAh0cv/R0tBoWtssucm73ydR9qEJAoVyE76Ab\n",
       "CGHwkazWvykzWjnpPYEdnxq7QznBs6exJcq+Hexqq9aJTzQQpLOHnGiLPl+ZkqH3DKozwS8qBBTK\n",
       "TbiRqwav8aMrAMrgyZbQb8IL2L9LXCa8PBkXORBLgsnjbYT57gqkg212Fer3aiBIl6k7e8HtmFJf\n",
       "waTcQ7x8Vk7yERUCCql8dtgK1sn+i0KuSSG8CwzcEwXx5DW4hdd5DoSFIXzuNjgQ84LJw6sEi5c9\n",
       "s7HxO4I4ktJAkG7bbM8YvDm49a83oS+s2YxM9scqBBTs8adO9YuED+D7EpSsYZCXxKAyoGUm/XHa\n",
       "JmAPu9nhDPN2dpTTycd254X9nraH3ao4RZGJ9HLHUbxc9b72YSsInOq/Hc3dReI2PylPJomKdCJB\n",
       "EIHIRevpatgZxzS9W2CPHUPcjq3siZVHrlYU29o3EC6x0iWrU3juGgS7CEfCywFns5H7EfAm4S9J\n",
       "Q3EYC09yCoQV7epwtl6zNL04N0ZAfMsdAJV9eOiklR2vwjSuX/r+CngdINILy88QCOcQTFadA3Q5\n",
       "BJ9e3t6AXwEmm858GNJ15XRdPnjnLJbs4Whjh+eNF3do+mn+e8IzfSZOS9Y97Oc2bpq/7LCccu3v\n",
       "FOFQwBGuH3JHldOo7hk9l2eB1a/zIGzTx8C65G6foE/oxTjxSLNdyUoa97cWPM6QfiXEp6xY8f6I\n",
       "4j2zPXHvwThvaTBSFv4H9C8GUC3eXXISRAAAAABJRU5ErkJggg==\n",
       "\" style=\"display:inline;vertical-align:middle;\" /></a></span></td></tr>\n",
       "<tr><td>&nbsp;</td><td colspan=4 style-\"text-align:left\"><a class=\"ProveItLink\" href=\"../../../core_expr_types/tuples/_axioms_.ipynb#tuple_len_incr\">proveit.core_expr_types.tuples.tuple_len_incr</a></td></tr><tr><td><a name=\"-0x76b17a7f554ce785_step2\">2</a></td><td>theorem</td><td></td><td><span style=\"font-size:20px;\"> <a class=\"ProveItLink\" href=\"_proofs_/nat2.ipynb\" style=\"text-decoration: none\">&#x22A2;&nbsp;</a><a class=\"ProveItLink\" href=\"__pv_it/e1be5cc0ffa039746758df99e3fd79595c567a170/expr.ipynb\"><img src=\"data:image/png;base64,iVBORw0KGgoAAAANSUhEUgAAADIAAAAQBAMAAACmdTG/AAAAMFBMVEX///+qqqqYmJiIiIgiIiIQ\n",
       "EBDu7u66urp2dnZUVFTMzMxEREQyMjJmZmbc3NwAAADG9xhMAAAAAXRSTlMAQObYZgAAAAlwSFlz\n",
       "AAAOxAAADsQBlSsOGwAAAOtJREFUGNNjYEAHbP67jzFwxIcz8N09vQBVilugkoEhP4HhJQPHd1QZ\n",
       "Tj8OBQZWBoZpDAyhaDLSDOcYWBgY4hMY5j8Ai1i7uBwAyzwyeAOSmcLAMB9sUY0ZTM+DWcwNLGCm\n",
       "P4jgOwY37QE3w3awDNdnEMnzACHDdSElBcRiuQCWQbjgAYMi41YQ6y6Yv9QFCDZAZTgTpgIZTGAt\n",
       "DNnIetgmgEyTYOADWcGCLMOwmBtofwMDcwKQz2wADx2gJ5hXMzA8uXt3CljgIEyGRQBI3GFgOP//\n",
       "/x+wQOb2BDDN5R8NJHOQw6tiCyR0oAAAIoY5u+UrrOsAAAAASUVORK5CYII=\n",
       "\" style=\"display:inline;vertical-align:middle;\" /></a></span></td></tr>\n",
       "<tr><td>&nbsp;</td><td colspan=4 style-\"text-align:left\"><a class=\"ProveItLink\" href=\"_proofs_/nat2.ipynb\">proveit.number.numeral.deci.nat2</a></td></tr><tr><td><a name=\"-0x76b17a7f554ce785_step3\">3</a></td><td>instantiation</td><td><a href=\"#-0x76b17a7f554ce785_step4\">4</a></td><td><span style=\"font-size:20px;\"> <a class=\"ProveItLink\" href=\"__pv_it/204768f2f7d02ffa53fd398de5483191dd1d96750/proof.ipynb\" style=\"text-decoration: none\">&#x22A2;&nbsp;</a><a class=\"ProveItLink\" href=\"__pv_it/b8da7b86afc84af51c6cbd834935eb4a0398da0b0/expr.ipynb\"><img src=\"data:image/png;base64,iVBORw0KGgoAAAANSUhEUgAAAL0AAAAVBAMAAADhtvKAAAAAMFBMVEX///9UVFREREQiIiIQEBCY\n",
       "mJhmZmYyMjLu7u6qqqrMzMyIiIi6urp2dnbc3NwAAABm9RoHAAAAAXRSTlMAQObYZgAAAAlwSFlz\n",
       "AAAOxAAADsQBlSsOGwAAAjtJREFUOMudlb9rFEEUx1927za7d7lLII2QIlcELAQ5CAS1MYV2glul\n",
       "VJtcCBI8BUErVxsLi7vSJnB/wraeEA4UUqTIip2kmBDsAxZ3oJC8eTNvs7uXdws+uLlh3vf72fnx\n",
       "dhYUUNi/NNS1o3agCaWRCk+oU+8X8kfUnhRtZuBLOd/4GyPr2M+k/LU2P/B6fpAA1O6I6Gbn1cD6\n",
       "me93s4L5Z9i8kfkfAd7vTET+KTT+WT/zvTArWNTP3pL523pDZf4NgAfWz/xKTnAc6aFI5G/O5j+O\n",
       "YFUZP/MPc4KftEmhxF/ozuYvA6wOjJ/5e/pY9g5iI3j5dRdTSxLfS2bzMe5bP/Nf4++7cozHH0c9\n",
       "BdUu8711iiXm08xm8mt/wfiZfxepD8FrUzaYwGIMQVuav9sv47tYgORn/iOc5QTchLJeF3oJ1M4l\n",
       "fmVUxu/oNZzn+ZUW9EZc/sd9WNj8b35Vvz/kZ/5b0FN+ass/hBdRZn+m9r9sf/ahqfL7cwv5fbgZ\n",
       "KF/zR3gWUG1J83diy/en0broawnUI+Nn/g+cVVzdaEAPT30udHCBXizxqfI0X4up8cfZzlmns2z9\n",
       "zP+GqZVfp0Nw8dryn+/qGlDi+4Urn1v7s0JiqhXY4M46LuDdxcXY+pnvDhjwmTtn8v1zb0qcRhDl\n",
       "/MynE6dIuLMt87emxGk0IOdP7//bfPfHfIm3ZL6jCuKr+AQ5f8r/wKXLeSeS+X6rIL6KMO9H/tA8\n",
       "LiwIn1A7LPrNwO/y76Px1weXfn3AWdZDCSIAAAAASUVORK5CYII=\n",
       "\" style=\"display:inline;vertical-align:middle;\" /></a></span></td></tr>\n",
       "<tr><td>&nbsp;</td><td colspan=4 style=\"text-align:left\"><span style=\"font-size:20px;\"><a class=\"ProveItLink\" href=\"../../../__pv_it/a8d4b3a34d2189508f9082853fbac36935714f280/expr.ipynb\"><img src=\"data:image/png;base64,iVBORw0KGgoAAAANSUhEUgAAAAsAAAAJBAMAAAAWSsseAAAAMFBMVEX////MzMxUVFQyMjKqqqoi\n",
       "IiKYmJju7u5EREQQEBC6urqIiIh2dnZmZmbc3NwAAAD0tjQRAAAAAXRSTlMAQObYZgAAAAlwSFlz\n",
       "AAAOxAAADsQBlSsOGwAAAEdJREFUCNdjYOC7s28DAwPDygcc3xkY2Kcx8AYwMPB+Z2A9wMDA2cBQ\n",
       "v4CBof4AQz5QRb0DQzPLAwbmDWyxPECV2gcfbWQAABp5EMgcedARAAAAAElFTkSuQmCC\n",
       "\" style=\"display:inline;vertical-align:middle;\" /></a> : <a class=\"ProveItLink\" href=\"../../../__pv_it/a8d4b3a34d2189508f9082853fbac36935714f280/expr.ipynb\"><img src=\"data:image/png;base64,iVBORw0KGgoAAAANSUhEUgAAAAsAAAAJBAMAAAAWSsseAAAAMFBMVEX////MzMxUVFQyMjKqqqoi\n",
       "IiKYmJju7u5EREQQEBC6urqIiIh2dnZmZmbc3NwAAAD0tjQRAAAAAXRSTlMAQObYZgAAAAlwSFlz\n",
       "AAAOxAAADsQBlSsOGwAAAEdJREFUCNdjYOC7s28DAwPDygcc3xkY2Kcx8AYwMPB+Z2A9wMDA2cBQ\n",
       "v4CBof4AQz5QRb0DQzPLAwbmDWyxPECV2gcfbWQAABp5EMgcedARAAAAAElFTkSuQmCC\n",
       "\" style=\"display:inline;vertical-align:middle;\" /></a>, <a class=\"ProveItLink\" href=\"../../../__pv_it/53e304ff98ebc000dbe3ef224f4637dbafd46ba70/expr.ipynb\"><img src=\"data:image/png;base64,iVBORw0KGgoAAAANSUhEUgAAAAkAAAAOBAMAAAAPuiubAAAALVBMVEX///+YmJjc3NyIiIhUVFR2\n",
       "dna6urqqqqpmZmYyMjIiIiIQEBBERETu7u4AAAALjtrwAAAAAXRSTlMAQObYZgAAAAlwSFlzAAAO\n",
       "xAAADsQBlSsOGwAAAE5JREFUCNdj4D29gAEIOBtAJF8BiMy7ACKjQATDFON2BgbelxfuKTCwv2Xg\n",
       "M2DgmMBwLwCkPK+AgU+Aoe8CA18C70YGBhYBHqARvM1A5QCqGhDobJhHyAAAAABJRU5ErkJggg==\n",
       "\" style=\"display:inline;vertical-align:middle;\" /></a> : <a class=\"ProveItLink\" href=\"../../../__pv_it/53e304ff98ebc000dbe3ef224f4637dbafd46ba70/expr.ipynb\"><img src=\"data:image/png;base64,iVBORw0KGgoAAAANSUhEUgAAAAkAAAAOBAMAAAAPuiubAAAALVBMVEX///+YmJjc3NyIiIhUVFR2\n",
       "dna6urqqqqpmZmYyMjIiIiIQEBBERETu7u4AAAALjtrwAAAAAXRSTlMAQObYZgAAAAlwSFlzAAAO\n",
       "xAAADsQBlSsOGwAAAE5JREFUCNdj4D29gAEIOBtAJF8BiMy7ACKjQATDFON2BgbelxfuKTCwv2Xg\n",
       "M2DgmMBwLwCkPK+AgU+Aoe8CA18C70YGBhYBHqARvM1A5QCqGhDobJhHyAAAAABJRU5ErkJggg==\n",
       "\" style=\"display:inline;vertical-align:middle;\" /></a></span></td></tr><tr><td><a name=\"-0x76b17a7f554ce785_step4\">4</a></td><td>theorem</td><td></td><td><span style=\"font-size:20px;\"> <a class=\"ProveItLink\" href=\"_proofs_/tuple_len_2_typical_equiv.ipynb\" style=\"text-decoration: none\">&#x22A2;&nbsp;</a><a class=\"ProveItLink\" href=\"__pv_it/15ca85e877b39d68343ecda6fac6253fcf3a5c6a0/expr.ipynb\"><img src=\"data:image/png;base64,iVBORw0KGgoAAAANSUhEUgAAAPsAAAAWBAMAAAD0hvfJAAAAMFBMVEX///+IiIgiIiIQEBB2dnbu\n",
       "7u5UVFTMzMzc3NwyMjK6urpmZmaYmJiqqqpEREQAAACk/Np2AAAAAXRSTlMAQObYZgAAAAlwSFlz\n",
       "AAAOxAAADsQBlSsOGwAAAzFJREFUSMe9ls9rE1EQxye72fzobjbrQetFCIFSoQhBFEE8BA9ViuIK\n",
       "IojQpOAfUFC8dqlQBEVyUTxUifZUEJpCUaoppgdBKdQo9eYhUor1VoWgPdU3b2fya/uy4MEpfXyZ\n",
       "nTefN+9nAFTmiT8SvR/285IjAaGW4NbrExSpwxiLbnsm27HeDr7jSDh+wME2WpaJGqi/BoM2OOFG\n",
       "h9PYzPB49sen8gDxITX63vJ3GqLAY6LXqB8H4owSJUTRtmRFNA/V+GsAV5eb6nkvwqUyJF0fj4lu\n",
       "o7cRCDRrlBBF29JY+ZoaX8XVUuNjLug5sCqEF4lwKNF6IFDnhHqXewEHrrtKfK4/Xm9C7A/AScKL\n",
       "RJaoLhkMnOeE813us3IFair8QCmk+gzEfgPMEh4THc9mTwQDl5iAIrF02PHdjw6siJ5FFd7M98cL\n",
       "03YARgmPiV4BbAWjZpmAYs6z/ZTGrlvwwCrxRzMrrch4OS/98VOikA+Ex0QzuB/J4k9ZHWOCEMYZ\n",
       "MDPSm2pC2oFURlW9Vg/Fj4j/z4THRLaLiuwGi9NMEMJsgpb3z0MJCnmI76jwejkMb+KunyI8Jko5\n",
       "HTvv1H54vQGFMh/7hToM5P4dLw/tHOFlotKqaK6vnsfJ/3nI9cOeMEEIUfBHOvY1eOt2TH5g7cMm\n",
       "X9yKd7snHy6Ky8cYjmOnyFCk4sd9Y4IQhTr8SHkG4stiH4DVUFVvO4Q3gmRZ1y2AgwDrvPUw0Z0i\n",
       "Lkk8J7tbdMeOMkGIpGONRKEgvsRqthie6ajw8kgiHoNlY+x2isTIm5ei4kXCy0T2JJYVKcq1M+kU\n",
       "PGeCEMbEuZlB0MRLYiyu4P72lNeOyB3b/DUhg0Gr0E6XIivKT+7t7YmhHCW8xk9uwbPfic9pV6f7\n",
       "V5skAgrfvrCYVt/5w4Hg9rK7rYcnQ/jp1mXsTb2AK6C56+TAZ2GMhW95FlU1fi0Q3LJo13Mm8dXW\n",
       "T4Dqpwtwsx5fbHXbZsI2P8EOD76hxtteT3DbLrfUA3rvex/azodvnAnjPB/8xXbVeKPRE9y29sO9\n",
       "RXjbVawO1liDQRbd9l62g73pfcf98B9blpyhyCQlavvhv9tfSRzTM8AsDwsAAAAASUVORK5CYII=\n",
       "\" style=\"display:inline;vertical-align:middle;\" /></a></span></td></tr>\n",
       "<tr><td>&nbsp;</td><td colspan=4 style-\"text-align:left\"><a class=\"ProveItLink\" href=\"_proofs_/tuple_len_2_typical_equiv.ipynb\">proveit.number.numeral.deci.tuple_len_2_typical_equiv</a></td></tr></table><br>"
      ],
      "text/plain": [
       "tuple_spec: \tstep type\trequirements\tstatement\n",
       "0\tinstantiation\t1, 2, 3\t|- |(a, b, c)| = (2 + 1)\n",
       "\ti : 2, a : (a, b), b : c\n",
       "1\taxiom\t\t|- forall_{i in Naturals} [forall_{a_{1}, ..a_{_a}.., a_{i}, b} (|(a_{1}, ..a_{_a}.., a_{i}, b)| = (i + 1))]\n",
       "\tproveit.core_expr_types.tuples.tuple_len_incr\n",
       "2\ttheorem\t\t|- 2 in Naturals\n",
       "\tproveit.number.numeral.deci.nat2\n",
       "3\tinstantiation\t4\t|- |(a, b)| = |(1, ..k.., 2)|\n",
       "\ta : a, b : b\n",
       "4\ttheorem\t\t|- forall_{a, b} (|(a, b)| = |(1, ..k.., 2)|)\n",
       "\tproveit.number.numeral.deci.tuple_len_2_typical_equiv"
      ]
     },
     "execution_count": 41,
     "metadata": {},
     "output_type": "execute_result"
    }
   ],
   "source": [
    "tuple_spec = tuple_len_incr.specialize({i: one_spec.rhs, a: one_spec.lhs.operands[0], b: c}).proof()"
   ]
  },
  {
   "cell_type": "code",
   "execution_count": 42,
   "metadata": {},
   "outputs": [
    {
     "data": {
      "text/html": [
       "<strong id=\"tuple_spec\">tuple_spec:</strong> <span style=\"font-size:20px;\"> <a class=\"ProveItLink\" href=\"_proofs_/add_2_1.ipynb\" style=\"text-decoration: none\">&#x22A2;&nbsp;</a><a class=\"ProveItLink\" href=\"__pv_it/ce78cfe013d8e371249bf6bee0d41fcb62b6c4cc0/expr.ipynb\"><img src=\"data:image/png;base64,iVBORw0KGgoAAAANSUhEUgAAAGEAAAAVBAMAAACkm51HAAAAMFBMVEX////MzMxUVFREREQiIiK6\n",
       "uroQEBCYmJhmZmYyMjLu7u52dnaqqqqIiIjc3NwAAACFAiZ1AAAAAXRSTlMAQObYZgAAAAlwSFlz\n",
       "AAAOxAAADsQBlSsOGwAAAVNJREFUOMtjYGB4wIAd4BJn4D2AQyIWl47TDAwvOg3RBBm9sBnFt7s5\n",
       "gIGBawIDnwLD/gAUqUWdv4DkLHQdKxjY/zAwcBQwMC1gYEuAiIXDnArSUYGu4/4Brp8MDGxA9IuB\n",
       "6R9E7CyyDrYFaDrCAhiAOiIZGJgcGJg+YtHBWYDhaZ7vDAzdYBbLByw6uBUwdIQADZkOZslfwKKD\n",
       "fQKIyeECBmDdskoCDAw+YBUeDFh08DhgugoYVqlgcxpAZIuLS5qLixNcB+MHzNjLXwDRAQ9HFDtY\n",
       "E9CUCzIw2B9gmAOyawPDO5yuQviD6/8CkA5boKA0A8MtbD43QLMjCeyqTcDk4tHR5IBFB8cFNB3l\n",
       "4PgIAcbU////J6DoYDL7oguMJPT0ztoBSoksAshiZ5E5T7AndvYGZF44MqcdR/6ww5Vx+AxwSCzG\n",
       "pYN5AS6jCnBI1GEXBgAnbVnG+/LYzAAAAABJRU5ErkJggg==\n",
       "\" style=\"display:inline;vertical-align:middle;\" /></a></span><br>"
      ],
      "text/plain": [
       "tuple_spec: |- (2 + 1) = 3"
      ]
     },
     "execution_count": 42,
     "metadata": {},
     "output_type": "execute_result"
    }
   ],
   "source": [
    "tuple_spec = tuple_len_incr.specialize({i: one_spec.rhs, a: one_spec.lhs.operands[0], b: c}).rhs._integerBinaryEval()"
   ]
  },
  {
   "cell_type": "code",
   "execution_count": 43,
   "metadata": {},
   "outputs": [
    {
     "data": {
      "text/html": [
       "<strong id=\"tuple_spec\">tuple_spec:</strong> <table><tr><th>&nbsp;</th><th>step type</th><th>requirements</th><th>statement</th></tr>\n",
       "<tr><td><a name=\"-0x76b17a7f554ce785_step0\">0</a></td><td>instantiation</td><td><a href=\"#-0x76b17a7f554ce785_step1\">1</a>, <a href=\"#-0x76b17a7f554ce785_step2\">2</a>, <a href=\"#-0x76b17a7f554ce785_step3\">3</a></td><td><span style=\"font-size:20px;\"> <a class=\"ProveItLink\" href=\"__pv_it/a2e07f901b4ab6dbac6e237010966bcfc750d8970/proof.ipynb\" style=\"text-decoration: none\">&#x22A2;&nbsp;</a><a class=\"ProveItLink\" href=\"__pv_it/f37af9af3d840491138cecbe0316790eef9c58430/expr.ipynb\"><img src=\"data:image/png;base64,iVBORw0KGgoAAAANSUhEUgAAAKcAAAAVBAMAAADROuOhAAAAMFBMVEX///9UVFREREQiIiIQEBCY\n",
       "mJhmZmYyMjLu7u6qqqrMzMyIiIi6urp2dnbc3NwAAABm9RoHAAAAAXRSTlMAQObYZgAAAAlwSFlz\n",
       "AAAOxAAADsQBlSsOGwAAAklJREFUOMt1Vb9rE1Ec/3jppZfkEgpFEDI0g4ibkXPQglpaB0HQQyFu\n",
       "Eiymg0ODoBQ6eBXRwcFAZzV/gd4k2CI4uLnE1XY4Lbq4FETaYrR+3/e9HHe5773h8n3v+/l87vvr\n",
       "XhBBrRpylnFEeY7sUtBttt7lQdyQf7YzjlzGpxG8NEicPlrIkjOixKh17vXHTstngUrPwJ+mXA+S\n",
       "m8lAFCXGV1SH6cO1pX16rhj4nZTvILmx26IoMY4Bl0yNfHNaUaItA59LlXE/Rb8sihLjWoAZ3cBS\n",
       "mBSdCBjudpP4ajNFvy+JKsY0MNMXRCd9hhdVn35s/TRVrL/tGfnNL8BnSbSoO3sRgmh1iuGkDfcq\n",
       "TnFP8HzF+adH8RxuAzdj0UVPrdMwDGr2H0nU7jK8QJE99rGoPa8CaHBhgCvAuhRpgXMptCXRUpPh\n",
       "Ex+A5QDntWcJzl82ljnyN5KoYgAdroTnnVnwvKlYtLwbi87DGY7G1NVDNc/Pj7midhtSpO6crmlP\n",
       "BWfvas9vFHmoTLzrYk1V+i9Qi/LTt0I4B7C6L6ESHqr6BqwOF7guRUoMlAeoBFKjGgynIcAqbrQH\n",
       "zh7tjuIE2KCS0UjdlUQVY6fTmZbSL4Z6+Gnc196/rvfh0aufqDFVRnVrk54XxOEnxsPDw7206JHj\n",
       "v+o0E5GGz8aXTzBu1JriZzqburLC5G7HwFtxWhmj6IuirVTc/thdw3BrdLM/w7jxTb5PrSj3v6Jh\n",
       "4E7DnMSvjI2TsmjMyCyLCrfB1vc8iK0j2sg4chm3gP/iKK2n+/yEqQAAAABJRU5ErkJggg==\n",
       "\" style=\"display:inline;vertical-align:middle;\" /></a></span></td></tr>\n",
       "<tr><td>&nbsp;</td><td colspan=4 style=\"text-align:left\"><span style=\"font-size:20px;\"><a class=\"ProveItLink\" href=\"../../../__pv_it/557ab5defdcd46aa58168b08767502985122cd490/expr.ipynb\"><img src=\"data:image/png;base64,iVBORw0KGgoAAAANSUhEUgAAAAcAAAAOBAMAAAARcxsoAAAALVBMVEX///9ERESYmJhUVFQyMjKq\n",
       "qqrc3NwQEBC6urru7u52dnYiIiJmZmaIiIgAAAD/UVazAAAAAXRSTlMAQObYZgAAAAlwSFlzAAAO\n",
       "xAAADsQBlSsOGwAAADlJREFUCNdjYGC4wwAEuxjQAeedCwwMXBwFDAypPA4MDBP4gFyGuAlAwhkk\n",
       "+5SLgYHjQRKQKavAAAAx5QmdfgFqMAAAAABJRU5ErkJggg==\n",
       "\" style=\"display:inline;vertical-align:middle;\" /></a> : <a class=\"ProveItLink\" href=\"../__pv_it/fb4ccffdbfd0f653ebaacb95e7ff4802fd48a6f20/expr.ipynb\"><img src=\"data:image/png;base64,iVBORw0KGgoAAAANSUhEUgAAAAkAAAAOBAMAAAAPuiubAAAAMFBMVEX///+qqqqYmJiIiIgiIiIQ\n",
       "EBDu7u66urp2dnZUVFTMzMxEREQyMjJmZmbc3NwAAADG9xhMAAAAAXRSTlMAQObYZgAAAAlwSFlz\n",
       "AAAOxAAADsQBlSsOGwAAAE9JREFUCNdj4Lt7egEDw0sGju8MDNMYGEIZGOITGOY/YJjCwDAfKMHA\n",
       "4A8iuD6DSJYLIPIuiGACMyUY+B4wcDUwMCcwPLl7F6jl/P//fxgAW7YV+O4aX5IAAAAASUVORK5C\n",
       "YII=\n",
       "\" style=\"display:inline;vertical-align:middle;\" /></a>, <a class=\"ProveItLink\" href=\"../../../__pv_it/a8d4b3a34d2189508f9082853fbac36935714f280/expr.ipynb\"><img src=\"data:image/png;base64,iVBORw0KGgoAAAANSUhEUgAAAAsAAAAJBAMAAAAWSsseAAAAMFBMVEX////MzMxUVFQyMjKqqqoi\n",
       "IiKYmJju7u5EREQQEBC6urqIiIh2dnZmZmbc3NwAAAD0tjQRAAAAAXRSTlMAQObYZgAAAAlwSFlz\n",
       "AAAOxAAADsQBlSsOGwAAAEdJREFUCNdjYOC7s28DAwPDygcc3xkY2Kcx8AYwMPB+Z2A9wMDA2cBQ\n",
       "v4CBof4AQz5QRb0DQzPLAwbmDWyxPECV2gcfbWQAABp5EMgcedARAAAAAElFTkSuQmCC\n",
       "\" style=\"display:inline;vertical-align:middle;\" /></a> : <a class=\"ProveItLink\" href=\"__pv_it/bbc1b69eb12288f0ad04da0d0cc6b9b8079b8b3f0/expr.ipynb\"><img src=\"data:image/png;base64,iVBORw0KGgoAAAANSUhEUgAAACkAAAAVBAMAAAAp9toTAAAAMFBMVEX////MzMxUVFREREQiIiK6\n",
       "uroQEBCYmJhmZmYyMjLu7u52dnaqqqqIiIjc3NwAAACFAiZ1AAAAAXRSTlMAQObYZgAAAAlwSFlz\n",
       "AAAOxAAADsQBlSsOGwAAARFJREFUGNNdkbFOhEAQhj8FATnk7hF8ARMqEwsNpTEWVxiTK8xdY2wp\n",
       "rfQ6i9NIbEyMBYkPABofgFobfAANMT6ArVTOApvAkeww8+3w7z8LUNJ/6nojX6InKrx3gLsdNm1u\n",
       "3O1bn0t4ACfq0qGSOwerpzlNJFgJkx59rWUiFvLyF19FQ+8+r2Gwyb3kx6VRNR7+krTEjjmU/Awn\n",
       "rKlXMSzwQk7FRoWZ1dSJSTNWfhW1AtKxtjvNWZvxiNq+bO1G3CZKYVdozo5XuoqO5QzsgBf5rrD3\n",
       "B6Qy+mpkyMhOwZF42Hr+/sA8kOxG7GKWmCM915tOfkRkrotMJ1ey9vTdtkPjBxKe2sLWrYa6Nz9a\n",
       "+kMX8A+nBjzFoJaLpgAAAABJRU5ErkJggg==\n",
       "\" style=\"display:inline;vertical-align:middle;\" /></a>, <a class=\"ProveItLink\" href=\"../../../__pv_it/53e304ff98ebc000dbe3ef224f4637dbafd46ba70/expr.ipynb\"><img src=\"data:image/png;base64,iVBORw0KGgoAAAANSUhEUgAAAAkAAAAOBAMAAAAPuiubAAAALVBMVEX///+YmJjc3NyIiIhUVFR2\n",
       "dna6urqqqqpmZmYyMjIiIiIQEBBERETu7u4AAAALjtrwAAAAAXRSTlMAQObYZgAAAAlwSFlzAAAO\n",
       "xAAADsQBlSsOGwAAAE5JREFUCNdj4D29gAEIOBtAJF8BiMy7ACKjQATDFON2BgbelxfuKTCwv2Xg\n",
       "M2DgmMBwLwCkPK+AgU+Aoe8CA18C70YGBhYBHqARvM1A5QCqGhDobJhHyAAAAABJRU5ErkJggg==\n",
       "\" style=\"display:inline;vertical-align:middle;\" /></a> : <a class=\"ProveItLink\" href=\"../../../__pv_it/b2b446b221a34ee579eb9a1fbdd4ac4e2891d8c70/expr.ipynb\"><img src=\"data:image/png;base64,iVBORw0KGgoAAAANSUhEUgAAAAkAAAAJBAMAAAASvxsjAAAAKlBMVEX///+6urqYmJju7u4QEBBE\n",
       "RERmZmaqqqoiIiLc3NzMzMyIiIh2dnYAAACSkFDuAAAAAXRSTlMAQObYZgAAAAlwSFlzAAAOxAAA\n",
       "DsQBlSsOGwAAADhJREFUCNdjYGA4vWcBA8OMArYABoYeBpYNDGyXGYCAJQBE2h4AkbwKDAwCDGwJ\n",
       "DDxAlWd2b2YAACirCnk+94p2AAAAAElFTkSuQmCC\n",
       "\" style=\"display:inline;vertical-align:middle;\" /></a></span></td></tr><tr><td><a name=\"-0x76b17a7f554ce785_step1\">1</a></td><td>axiom</td><td></td><td><span style=\"font-size:20px;\"> <a class=\"ProveItLink\" href=\"../../../core_expr_types/tuples/_axioms_.ipynb#tuple_len_incr\" style=\"text-decoration: none\">&#x22A2;&nbsp;</a><a class=\"ProveItLink\" href=\"../../../core_expr_types/tuples/__pv_it/0d74118d1e37187ae6198038fb67e65d2a7d860c0/expr.ipynb\"><img src=\"data:image/png;base64,iVBORw0KGgoAAAANSUhEUgAAAYgAAAAWBAMAAAAodhaSAAAAMFBMVEX///+IiIgiIiIQEBB2dnbu\n",
       "7u5UVFTMzMzc3NwyMjK6urpmZmaYmJiqqqpEREQAAACk/Np2AAAAAXRSTlMAQObYZgAAAAlwSFlz\n",
       "AAAOxAAADsQBlSsOGwAABHRJREFUWMPNV11oHFUUPtmdYWb/pmssScFWl0CaShBKtViqxVUwyqIy\n",
       "1dYqpdkEfFPKxoAPvmRF7ZOEfSkIxjYaX4qCGymUah62Dz5EadyE1lAVjA/B/mig4IIGBc+Ze+/s\n",
       "zc65W+fNs5zhzJxzds53z8+9A2Ck3iGIS1X8SSE+uSZX12zv3inOUuwweprSCYX4lM4bXrvLbB/4\n",
       "lGCN7n/iQZh1PF1RIVyJC2B0XxhsBESuiKtS73j4ui/sdwUeX9Kj93kQZh1Ldk2GQEJM+gA55bMg\n",
       "XkZOFLe+6dWzvrAnLsEbVFlrPAizjqVMQ4ZAQkz6BzlbZ0EsaPJnSrjPF/bEpQCK1eRBmHUsJVUI\n",
       "yfj90KLrfhbEXk1e1kEE9vvJI4urljI0tlnH0jkVwrnYIKwCXWc4EOmaEcSMYPTYNzDwkGk6GXUs\n",
       "nVchkOCe35HvPlF1g9T4PZjxEQ5EBtvh8DwLYkQwelwAWMdWqXIghO6/0owKgYS5qtfqai0MXhI3\n",
       "5dP2nwCLIYgvBoh2B/iwHIpzLIhFwehxCtwxzKdYFWe4BHePhSCErjs5Z5T0gAoBBftRyBTAXjSP\n",
       "ssAAHhd3P/twG2CFy0SiCW7zIgtiRTB6eL41KxQTJ2/C95af8UMQbV0XekUJB1UIKGRaNBYnes2j\n",
       "rKXPzYtg/wEwxYFIzoJNCIP0PCjTI0BMCUaPXF72buYCbW35utUup1DXjR7mQCTXoDwr15YfZcIg\n",
       "3CbSOGTnDCAg12IzMSeYPGqXcAT0Aewk5eoPb2kgAh0cv/R0tBoWtssucm73ydR9qEJAoVyE76Ab\n",
       "CGHwkazWvykzWjnpPYEdnxq7QznBs6exJcq+Hexqq9aJTzQQpLOHnGiLPl+ZkqH3DKozwS8qBBTK\n",
       "TbiRqwav8aMrAMrgyZbQb8IL2L9LXCa8PBkXORBLgsnjbYT57gqkg212Fer3aiBIl6k7e8HtmFJf\n",
       "waTcQ7x8Vk7yERUCCql8dtgK1sn+i0KuSSG8CwzcEwXx5DW4hdd5DoSFIXzuNjgQ84LJw6sEi5c9\n",
       "s7HxO4I4ktJAkG7bbM8YvDm49a83oS+s2YxM9scqBBTs8adO9YuED+D7EpSsYZCXxKAyoGUm/XHa\n",
       "JmAPu9nhDPN2dpTTycd254X9nraH3ao4RZGJ9HLHUbxc9b72YSsInOq/Hc3dReI2PylPJomKdCJB\n",
       "EIHIRevpatgZxzS9W2CPHUPcjq3siZVHrlYU29o3EC6x0iWrU3juGgS7CEfCywFns5H7EfAm4S9J\n",
       "Q3EYC09yCoQV7epwtl6zNL04N0ZAfMsdAJV9eOiklR2vwjSuX/r+CngdINILy88QCOcQTFadA3Q5\n",
       "BJ9e3t6AXwEmm858GNJ15XRdPnjnLJbs4Whjh+eNF3do+mn+e8IzfSZOS9Y97Oc2bpq/7LCccu3v\n",
       "FOFQwBGuH3JHldOo7hk9l2eB1a/zIGzTx8C65G6foE/oxTjxSLNdyUoa97cWPM6QfiXEp6xY8f6I\n",
       "4j2zPXHvwThvaTBSFv4H9C8GUC3eXXISRAAAAABJRU5ErkJggg==\n",
       "\" style=\"display:inline;vertical-align:middle;\" /></a></span></td></tr>\n",
       "<tr><td>&nbsp;</td><td colspan=4 style-\"text-align:left\"><a class=\"ProveItLink\" href=\"../../../core_expr_types/tuples/_axioms_.ipynb#tuple_len_incr\">proveit.core_expr_types.tuples.tuple_len_incr</a></td></tr><tr><td><a name=\"-0x76b17a7f554ce785_step2\">2</a></td><td>theorem</td><td></td><td><span style=\"font-size:20px;\"> <a class=\"ProveItLink\" href=\"_proofs_/nat2.ipynb\" style=\"text-decoration: none\">&#x22A2;&nbsp;</a><a class=\"ProveItLink\" href=\"__pv_it/e1be5cc0ffa039746758df99e3fd79595c567a170/expr.ipynb\"><img src=\"data:image/png;base64,iVBORw0KGgoAAAANSUhEUgAAADIAAAAQBAMAAACmdTG/AAAAMFBMVEX///+qqqqYmJiIiIgiIiIQ\n",
       "EBDu7u66urp2dnZUVFTMzMxEREQyMjJmZmbc3NwAAADG9xhMAAAAAXRSTlMAQObYZgAAAAlwSFlz\n",
       "AAAOxAAADsQBlSsOGwAAAOtJREFUGNNjYEAHbP67jzFwxIcz8N09vQBVilugkoEhP4HhJQPHd1QZ\n",
       "Tj8OBQZWBoZpDAyhaDLSDOcYWBgY4hMY5j8Ai1i7uBwAyzwyeAOSmcLAMB9sUY0ZTM+DWcwNLGCm\n",
       "P4jgOwY37QE3w3awDNdnEMnzACHDdSElBcRiuQCWQbjgAYMi41YQ6y6Yv9QFCDZAZTgTpgIZTGAt\n",
       "DNnIetgmgEyTYOADWcGCLMOwmBtofwMDcwKQz2wADx2gJ5hXMzA8uXt3CljgIEyGRQBI3GFgOP//\n",
       "/x+wQOb2BDDN5R8NJHOQw6tiCyR0oAAAIoY5u+UrrOsAAAAASUVORK5CYII=\n",
       "\" style=\"display:inline;vertical-align:middle;\" /></a></span></td></tr>\n",
       "<tr><td>&nbsp;</td><td colspan=4 style-\"text-align:left\"><a class=\"ProveItLink\" href=\"_proofs_/nat2.ipynb\">proveit.number.numeral.deci.nat2</a></td></tr><tr><td><a name=\"-0x76b17a7f554ce785_step3\">3</a></td><td>instantiation</td><td><a href=\"#-0x76b17a7f554ce785_step4\">4</a></td><td><span style=\"font-size:20px;\"> <a class=\"ProveItLink\" href=\"__pv_it/204768f2f7d02ffa53fd398de5483191dd1d96750/proof.ipynb\" style=\"text-decoration: none\">&#x22A2;&nbsp;</a><a class=\"ProveItLink\" href=\"__pv_it/b8da7b86afc84af51c6cbd834935eb4a0398da0b0/expr.ipynb\"><img src=\"data:image/png;base64,iVBORw0KGgoAAAANSUhEUgAAAL0AAAAVBAMAAADhtvKAAAAAMFBMVEX///9UVFREREQiIiIQEBCY\n",
       "mJhmZmYyMjLu7u6qqqrMzMyIiIi6urp2dnbc3NwAAABm9RoHAAAAAXRSTlMAQObYZgAAAAlwSFlz\n",
       "AAAOxAAADsQBlSsOGwAAAjtJREFUOMudlb9rFEEUx1927za7d7lLII2QIlcELAQ5CAS1MYV2glul\n",
       "VJtcCBI8BUErVxsLi7vSJnB/wraeEA4UUqTIip2kmBDsAxZ3oJC8eTNvs7uXdws+uLlh3vf72fnx\n",
       "dhYUUNi/NNS1o3agCaWRCk+oU+8X8kfUnhRtZuBLOd/4GyPr2M+k/LU2P/B6fpAA1O6I6Gbn1cD6\n",
       "me93s4L5Z9i8kfkfAd7vTET+KTT+WT/zvTArWNTP3pL523pDZf4NgAfWz/xKTnAc6aFI5G/O5j+O\n",
       "YFUZP/MPc4KftEmhxF/ozuYvA6wOjJ/5e/pY9g5iI3j5dRdTSxLfS2bzMe5bP/Nf4++7cozHH0c9\n",
       "BdUu8711iiXm08xm8mt/wfiZfxepD8FrUzaYwGIMQVuav9sv47tYgORn/iOc5QTchLJeF3oJ1M4l\n",
       "fmVUxu/oNZzn+ZUW9EZc/sd9WNj8b35Vvz/kZ/5b0FN+ass/hBdRZn+m9r9sf/ahqfL7cwv5fbgZ\n",
       "KF/zR3gWUG1J83diy/en0broawnUI+Nn/g+cVVzdaEAPT30udHCBXizxqfI0X4up8cfZzlmns2z9\n",
       "zP+GqZVfp0Nw8dryn+/qGlDi+4Urn1v7s0JiqhXY4M46LuDdxcXY+pnvDhjwmTtn8v1zb0qcRhDl\n",
       "/MynE6dIuLMt87emxGk0IOdP7//bfPfHfIm3ZL6jCuKr+AQ5f8r/wKXLeSeS+X6rIL6KMO9H/tA8\n",
       "LiwIn1A7LPrNwO/y76Px1weXfn3AWdZDCSIAAAAASUVORK5CYII=\n",
       "\" style=\"display:inline;vertical-align:middle;\" /></a></span></td></tr>\n",
       "<tr><td>&nbsp;</td><td colspan=4 style=\"text-align:left\"><span style=\"font-size:20px;\"><a class=\"ProveItLink\" href=\"../../../__pv_it/a8d4b3a34d2189508f9082853fbac36935714f280/expr.ipynb\"><img src=\"data:image/png;base64,iVBORw0KGgoAAAANSUhEUgAAAAsAAAAJBAMAAAAWSsseAAAAMFBMVEX////MzMxUVFQyMjKqqqoi\n",
       "IiKYmJju7u5EREQQEBC6urqIiIh2dnZmZmbc3NwAAAD0tjQRAAAAAXRSTlMAQObYZgAAAAlwSFlz\n",
       "AAAOxAAADsQBlSsOGwAAAEdJREFUCNdjYOC7s28DAwPDygcc3xkY2Kcx8AYwMPB+Z2A9wMDA2cBQ\n",
       "v4CBof4AQz5QRb0DQzPLAwbmDWyxPECV2gcfbWQAABp5EMgcedARAAAAAElFTkSuQmCC\n",
       "\" style=\"display:inline;vertical-align:middle;\" /></a> : <a class=\"ProveItLink\" href=\"../../../__pv_it/a8d4b3a34d2189508f9082853fbac36935714f280/expr.ipynb\"><img src=\"data:image/png;base64,iVBORw0KGgoAAAANSUhEUgAAAAsAAAAJBAMAAAAWSsseAAAAMFBMVEX////MzMxUVFQyMjKqqqoi\n",
       "IiKYmJju7u5EREQQEBC6urqIiIh2dnZmZmbc3NwAAAD0tjQRAAAAAXRSTlMAQObYZgAAAAlwSFlz\n",
       "AAAOxAAADsQBlSsOGwAAAEdJREFUCNdjYOC7s28DAwPDygcc3xkY2Kcx8AYwMPB+Z2A9wMDA2cBQ\n",
       "v4CBof4AQz5QRb0DQzPLAwbmDWyxPECV2gcfbWQAABp5EMgcedARAAAAAElFTkSuQmCC\n",
       "\" style=\"display:inline;vertical-align:middle;\" /></a>, <a class=\"ProveItLink\" href=\"../../../__pv_it/53e304ff98ebc000dbe3ef224f4637dbafd46ba70/expr.ipynb\"><img src=\"data:image/png;base64,iVBORw0KGgoAAAANSUhEUgAAAAkAAAAOBAMAAAAPuiubAAAALVBMVEX///+YmJjc3NyIiIhUVFR2\n",
       "dna6urqqqqpmZmYyMjIiIiIQEBBERETu7u4AAAALjtrwAAAAAXRSTlMAQObYZgAAAAlwSFlzAAAO\n",
       "xAAADsQBlSsOGwAAAE5JREFUCNdj4D29gAEIOBtAJF8BiMy7ACKjQATDFON2BgbelxfuKTCwv2Xg\n",
       "M2DgmMBwLwCkPK+AgU+Aoe8CA18C70YGBhYBHqARvM1A5QCqGhDobJhHyAAAAABJRU5ErkJggg==\n",
       "\" style=\"display:inline;vertical-align:middle;\" /></a> : <a class=\"ProveItLink\" href=\"../../../__pv_it/53e304ff98ebc000dbe3ef224f4637dbafd46ba70/expr.ipynb\"><img src=\"data:image/png;base64,iVBORw0KGgoAAAANSUhEUgAAAAkAAAAOBAMAAAAPuiubAAAALVBMVEX///+YmJjc3NyIiIhUVFR2\n",
       "dna6urqqqqpmZmYyMjIiIiIQEBBERETu7u4AAAALjtrwAAAAAXRSTlMAQObYZgAAAAlwSFlzAAAO\n",
       "xAAADsQBlSsOGwAAAE5JREFUCNdj4D29gAEIOBtAJF8BiMy7ACKjQATDFON2BgbelxfuKTCwv2Xg\n",
       "M2DgmMBwLwCkPK+AgU+Aoe8CA18C70YGBhYBHqARvM1A5QCqGhDobJhHyAAAAABJRU5ErkJggg==\n",
       "\" style=\"display:inline;vertical-align:middle;\" /></a></span></td></tr><tr><td><a name=\"-0x76b17a7f554ce785_step4\">4</a></td><td>theorem</td><td></td><td><span style=\"font-size:20px;\"> <a class=\"ProveItLink\" href=\"_proofs_/tuple_len_2_typical_equiv.ipynb\" style=\"text-decoration: none\">&#x22A2;&nbsp;</a><a class=\"ProveItLink\" href=\"__pv_it/15ca85e877b39d68343ecda6fac6253fcf3a5c6a0/expr.ipynb\"><img src=\"data:image/png;base64,iVBORw0KGgoAAAANSUhEUgAAAPsAAAAWBAMAAAD0hvfJAAAAMFBMVEX///+IiIgiIiIQEBB2dnbu\n",
       "7u5UVFTMzMzc3NwyMjK6urpmZmaYmJiqqqpEREQAAACk/Np2AAAAAXRSTlMAQObYZgAAAAlwSFlz\n",
       "AAAOxAAADsQBlSsOGwAAAzFJREFUSMe9ls9rE1EQxye72fzobjbrQetFCIFSoQhBFEE8BA9ViuIK\n",
       "IojQpOAfUFC8dqlQBEVyUTxUifZUEJpCUaoppgdBKdQo9eYhUor1VoWgPdU3b2fya/uy4MEpfXyZ\n",
       "nTefN+9nAFTmiT8SvR/285IjAaGW4NbrExSpwxiLbnsm27HeDr7jSDh+wME2WpaJGqi/BoM2OOFG\n",
       "h9PYzPB49sen8gDxITX63vJ3GqLAY6LXqB8H4owSJUTRtmRFNA/V+GsAV5eb6nkvwqUyJF0fj4lu\n",
       "o7cRCDRrlBBF29JY+ZoaX8XVUuNjLug5sCqEF4lwKNF6IFDnhHqXewEHrrtKfK4/Xm9C7A/AScKL\n",
       "RJaoLhkMnOeE813us3IFair8QCmk+gzEfgPMEh4THc9mTwQDl5iAIrF02PHdjw6siJ5FFd7M98cL\n",
       "03YARgmPiV4BbAWjZpmAYs6z/ZTGrlvwwCrxRzMrrch4OS/98VOikA+Ex0QzuB/J4k9ZHWOCEMYZ\n",
       "MDPSm2pC2oFURlW9Vg/Fj4j/z4THRLaLiuwGi9NMEMJsgpb3z0MJCnmI76jwejkMb+KunyI8Jko5\n",
       "HTvv1H54vQGFMh/7hToM5P4dLw/tHOFlotKqaK6vnsfJ/3nI9cOeMEEIUfBHOvY1eOt2TH5g7cMm\n",
       "X9yKd7snHy6Ky8cYjmOnyFCk4sd9Y4IQhTr8SHkG4stiH4DVUFVvO4Q3gmRZ1y2AgwDrvPUw0Z0i\n",
       "Lkk8J7tbdMeOMkGIpGONRKEgvsRqthie6ajw8kgiHoNlY+x2isTIm5ei4kXCy0T2JJYVKcq1M+kU\n",
       "PGeCEMbEuZlB0MRLYiyu4P72lNeOyB3b/DUhg0Gr0E6XIivKT+7t7YmhHCW8xk9uwbPfic9pV6f7\n",
       "V5skAgrfvrCYVt/5w4Hg9rK7rYcnQ/jp1mXsTb2AK6C56+TAZ2GMhW95FlU1fi0Q3LJo13Mm8dXW\n",
       "T4Dqpwtwsx5fbHXbZsI2P8EOD76hxtteT3DbLrfUA3rvex/azodvnAnjPB/8xXbVeKPRE9y29sO9\n",
       "RXjbVawO1liDQRbd9l62g73pfcf98B9blpyhyCQlavvhv9tfSRzTM8AsDwsAAAAASUVORK5CYII=\n",
       "\" style=\"display:inline;vertical-align:middle;\" /></a></span></td></tr>\n",
       "<tr><td>&nbsp;</td><td colspan=4 style-\"text-align:left\"><a class=\"ProveItLink\" href=\"_proofs_/tuple_len_2_typical_equiv.ipynb\">proveit.number.numeral.deci.tuple_len_2_typical_equiv</a></td></tr></table><br>"
      ],
      "text/plain": [
       "tuple_spec: \tstep type\trequirements\tstatement\n",
       "0\tinstantiation\t1, 2, 3\t|- |(a, b, c)| = (2 + 1)\n",
       "\ti : 2, a : (a, b), b : c\n",
       "1\taxiom\t\t|- forall_{i in Naturals} [forall_{a_{1}, ..a_{_a}.., a_{i}, b} (|(a_{1}, ..a_{_a}.., a_{i}, b)| = (i + 1))]\n",
       "\tproveit.core_expr_types.tuples.tuple_len_incr\n",
       "2\ttheorem\t\t|- 2 in Naturals\n",
       "\tproveit.number.numeral.deci.nat2\n",
       "3\tinstantiation\t4\t|- |(a, b)| = |(1, ..k.., 2)|\n",
       "\ta : a, b : b\n",
       "4\ttheorem\t\t|- forall_{a, b} (|(a, b)| = |(1, ..k.., 2)|)\n",
       "\tproveit.number.numeral.deci.tuple_len_2_typical_equiv"
      ]
     },
     "execution_count": 43,
     "metadata": {},
     "output_type": "execute_result"
    }
   ],
   "source": [
    "tuple_spec = tuple_len_incr.specialize({i: one_spec.rhs, ExprTuple(varRange(a, one, two)): one_spec.lhs.operands[0], b: c}).proof()"
   ]
  },
  {
   "cell_type": "code",
   "execution_count": 44,
   "metadata": {},
   "outputs": [
    {
     "data": {
      "text/html": [
       "<strong id=\"Digit\">Digit:</strong> <a class=\"ProveItLink\" href=\"__pv_it/529af85ae13bbca61d15efade5ef44b2a68d178d0/expr.ipynb\"><img src=\"data:image/png;base64,iVBORw0KGgoAAAANSUhEUgAAAM0AAAAVBAMAAAAX/3cYAAAAMFBMVEX///8QEBBERERUVFTMzMyY\n",
       "mJjc3NxmZmYiIiJ2dnaqqqoyMjKIiIi6urru7u4AAAAvZeGPAAAAAXRSTlMAQObYZgAAAAlwSFlz\n",
       "AAAOxAAADsQBlSsOGwAAAxJJREFUSMe1lk1oE0EUx//52iRtstYvkEJrVRShKoUqraI2UkQ8GW8e\n",
       "hMaKVEFoxMOKoSiIomjb+AG16CEnoSCmKogXtdJDKV4ED54kC4IiCKlFsSZt17fzZrZht5Z46EJ2\n",
       "/tl5b37zPmYTAPonLOulPeLx3ZP/9w0CX9zPTpn/MO7cYd9r5uk2PJFSKwyobRjPEqzODG13fA7x\n",
       "4Cu/VHbR4Xss8pZl1Qn1bbJPToaN/XTfJOwuA7U5/RpPfM7MS5OTiM4JoafRlVOcKzxEBm/I3Wv9\n",
       "aGf1oM24wHZpBFjot3CAArivOMeAO3KhmOLQRlbykxKKo2pWcgJOgLVpbIRcHT1ChJLQ2SFQB3+6\n",
       "gkOB5U0XZ72JDpHMeANWKM7B525O3qkKhdDCmWxSHPKLTlVwfgOFnItD2ehIqMWSUmQ9nKcVBY+y\n",
       "fXzaDLNDsQmxnwsc3eYkXRy6BuUYv6rSllKc4xNyD+XDE++VfbccO2YvwolnTnLCo9D+AEfGPJzg\n",
       "rBzHd6rWheT4TU02STmJeuWwT8VlvYBTn1/AW1v3JpmT9XAiaacIMqlZxaFrK3Ms4JxqvSk5NdJt\n",
       "cYx6AzpLhCD3zn76SpyCNx7DUT5+GEpVcC7xiZsBumTiorJbQmnkG1l+nXxM9dGac9AzpuiDvLsP\n",
       "bHNOWwL+klBnoTjNxOEC3SSOLG2kSe7KhFZSq4RpvegrO9XUjHQCutx9jRFoYsvFecX50Nr6Y7dQ\n",
       "66jYTvpUPMUWOdJnl3O+CJ5Pyb4+CmSgOxyhglnETFv5Wuy8yW2shlBUzFVsVqD6SNdCml19tOwW\n",
       "YVbTiF4K+7Y6P5GcvkYeepsj1GnDaBeKjnc+qZeZMw2hehBrZDN/Vq+Xrvksu8ZfIzQmzGID2IyK\n",
       "c6o/HE8gYr8ZAxtm9rJ6Y1llVh8Neo9eFwFlrG1CaUabyZMYOi9dcYJKLFSn0ScdhofeV3L4Wvh9\n",
       "WETVmF5VpYObk8USKgqvqtKBObE6+U0fwxLqOzyqWgfqMXtGvTZCzvPFVNKrqnXQ14qhZ8/y/j8I\n",
       "3qX++Av06Pg+eBqaxgAAAABJRU5ErkJggg==\n",
       "\" style=\"display:inline;vertical-align:middle;\" /></a><br>"
      ],
      "text/plain": [
       "Digit: {0, 1, 2, 3, 4, 5, 6, 7, 8, 9}"
      ]
     },
     "execution_count": 44,
     "metadata": {},
     "output_type": "execute_result"
    }
   ],
   "source": [
    "Digit = Set(zero, one, two, three, four, five, six, seven, eight, nine)"
   ]
  },
  {
   "cell_type": "code",
   "execution_count": 45,
   "metadata": {
    "scrolled": true
   },
   "outputs": [
    {
     "data": {
      "text/html": [
       "<table><tr><th>&nbsp;</th><th>step type</th><th>requirements</th><th>statement</th></tr>\n",
       "<tr><td><a name=\"-0x16f42b08627251c7_step0\">0</a></td><td>instantiation</td><td><a href=\"#-0x16f42b08627251c7_step1\">1</a>, <a href=\"#-0x16f42b08627251c7_step2\">2</a>, <a href=\"#-0x16f42b08627251c7_step3\">3</a>, <a href=\"#-0x16f42b08627251c7_step4\">4</a>, <a href=\"#-0x16f42b08627251c7_step5\">5</a>, <a href=\"#-0x16f42b08627251c7_step6\">6</a>, <a href=\"#-0x16f42b08627251c7_step7\">7</a>, <a href=\"#-0x16f42b08627251c7_step8\">8</a>, <a href=\"#-0x16f42b08627251c7_step9\">9</a><sup>*</sup></td><td><span style=\"font-size:20px;\"><a class=\"ProveItLink\" href=\"__pv_it/6915cbe9259991d4fa1e6d79c9c08cb6aa9034720/expr.ipynb\"><img src=\"data:image/png;base64,iVBORw0KGgoAAAANSUhEUgAAAgUAAAAVBAMAAAAk+4CMAAAAMFBMVEX///8QEBBERERUVFTMzMyY\n",
       "mJjc3NxmZmYiIiJ2dnaqqqoyMjKIiIi6urru7u4AAAAvZeGPAAAAAXRSTlMAQObYZgAAAAlwSFlz\n",
       "AAAOxAAADsQBlSsOGwAABCpJREFUWMPFWFtoVFcUXTOTuZk7mTmmD0ECpqnVIvggYKUqYiKhiF9O\n",
       "v9qP0gwtGgUht/hxwUEaWqrxPT4gBgXnqyBIEyuUUqiN9SOIIAE/ShHJpYIiCPHVqhnN7XmfO48M\n",
       "+ZCcAzmzZp+971qzzz6PGwDkDuq1WcxvrDk/Nh6fF34l4sZPdX1mMTdsTcC9aqovZ3PuWd3wWfPD\n",
       "L0SkZ1jwsWoPbh4ez6unK4e+wlKJdg2t0t5bxEes/Kvyc4dPi+eEYfhYmB5c3ycHm/1NtP/ACPV/\n",
       "7rbEzzt3ALhbmKnOATO3lMh+8U07OJ04PyFq1UNvSXl/Lz5Sxw8G0u8o1onnXPb9Q8LmISECyBFs\n",
       "pj/ujCb7Gu5rS/xnFBkydXPwOXBSflUOiQCxVmGZxtSoGpUaEjq8xcMSkXKqx+MomQMRAYlWxL1o\n",
       "DuisvGWJv04O/hwcHNUaaJ2MBJUaYjNI/MdRdjEWKA2fXK7WoOKQ1la3Q2mgce6jaA7eC9CVt8Nf\n",
       "m4PbN6Pz8ByYLFXNwwASzzRRToJijYZLkSkVCxPZJ0GzCJjqQOZZNAe0bLu67fDX5MC5Eq1FwjTk\n",
       "KjWwRfdIguwPqhTzSsMX43JvK28dn1AbXocEXa/2Qs/D62gOaDtuiZ93zaOGoiWvmajZeQlsG6vR\n",
       "oExN1z6Slu2QGuKBI/Y2Us6hTY4mlBg3/AV6Pf4LXI2eaq8s8fOuPxfJgRFFzVxDsUbDAbPoZKEW\n",
       "lQbalgsNIfCNXJL9aujCV6Hc0hejZ5oOlAxdyrPEz7qeoxGKzYO08dJhZkI1TNbMQ7On+WLCmMxH\n",
       "NHwrpvIF0Cvzf1aOJD2MtAt4//pFuh6dFSYJvi1+1pFCYCj+MTdVZn5uUm00fKaqtxvxaY52Q2lY\n",
       "QTWIBXmYapBL+TulOIAzrX8JfZ77u6ZLerb4eRfvNBQpU4vMTE/Y3qqzCekidojNdUZpuLVmzeP1\n",
       "HC2iG48uSTkP5KmMnKJ/a/X5TWd7xKz+C3Dydvh5Fz0XMmMVd5RPgQKI1sDRVuAmmLBYJ6tFKfEd\n",
       "cEQX79vCbZKuR4GydDZFAGX7kKN0O/rpdJ3goczQVEQmsMN/ouZ+8FuFhlSJvCsvY8yBIeeAv2eA\n",
       "lMW1ayTHEW1PwFEfMu0iIF4kbQKlX0IMZq8gOcZR5hiWqWOJG3b6/jpL/Pp+kHj/xUZxL18VRDSQ\n",
       "c9e6kWJvIdyBoRb6CjKKQeb1l0/fWThCIVzJkeN/HIgADO2RoQ47o7hbj79PouGhCUXPDX+EYdkS\n",
       "v7kj6fb38shdVTTzDqtROmiE5hggcxAx2OCvk4OKWlSnbw1y0QjNMUDmwIVVft5lWutq0Gai9ymD\n",
       "HqIBmmsA3e+qDDb4eUfa6v8rS5mT5hDXKNcIzTWALKwy2OCXIvo21BUxi/mNtaZTpYbj88LPu/8B\n",
       "rghQZ8v24aAAAAAASUVORK5CYII=\n",
       "\" style=\"display:inline;vertical-align:middle;\" /></a> <a class=\"ProveItLink\" href=\"__pv_it/41397242be4afdd10e69322ecc609a0cb574ecee0/proof.ipynb\" style=\"text-decoration: none\">&#x22A2;&nbsp;</a><a class=\"ProveItLink\" href=\"__pv_it/6ea7948c2b0db0d6db718875bba11477ee3ee6270/expr.ipynb\"><img src=\"data:image/png;base64,iVBORw0KGgoAAAANSUhEUgAAAHYAAAAVBAMAAABh6QfWAAAAMFBMVEX////MzMxUVFREREQiIiK6\n",
       "uroQEBCYmJhmZmYyMjLu7u52dnaqqqqIiIjc3NwAAACFAiZ1AAAAAXRSTlMAQObYZgAAAAlwSFlz\n",
       "AAAOxAAADsQBlSsOGwAAAS1JREFUOMtjYGB4wIAH8OGTZOA9gE+W9QI+2dNALLIARqAAkMgdTB0g\n",
       "4RedhgwMXBMYuDTmL4AQKAAiwoluIliYT4FhfwADRwGQf38BjAC7swDKAImwN2DYCxRmWsDAlsDA\n",
       "xoChl+cCkl6GLGx62X4xMP1jiCSkdzpWex0YmD4ydBPSuwmbXiBg+QAxFp/eSjCzxQUEnJD0yl9g\n",
       "8CGk9wgOez0YGFLR9HK4uLiluLgowIXlsevlaMDUi2FvGHa9FUA8hzg3o/uXZwPDOwZbQnqLsdor\n",
       "zcBwCxIF+PT2YtPL59HR5MAQAuQo5ztdgBAoeiEifuhaQcKc////n8DAIoBhLg9yvuNzwJ0FsaR1\n",
       "eF4Ax1kBnvxrh7dkYHiMT3Ixfr1WeEskfI5iYMdTmgEA+RSIs4E2IfEAAAAASUVORK5CYII=\n",
       "\" style=\"display:inline;vertical-align:middle;\" /></a></span></td></tr>\n",
       "<tr><td>&nbsp;</td><td colspan=4 style=\"text-align:left\"><span style=\"font-size:20px;\"><a class=\"ProveItLink\" href=\"../../../__pv_it/6e8a38e9a7e2b6af352562cd77e0eb4751f142620/expr.ipynb\"><img src=\"data:image/png;base64,iVBORw0KGgoAAAANSUhEUgAAABIAAAAJBAMAAADN8WE8AAAAMFBMVEX///8iIiIyMjJmZmYQEBCq\n",
       "qqqYmJju7u5ERETMzMyIiIjc3NxUVFR2dna6uroAAACULOzSAAAAAXRSTlMAQObYZgAAAAlwSFlz\n",
       "AAAOxAAADsQBlSsOGwAAAGNJREFUCNdj4Luz+9Ypzlt9DAy8HF0M9XkMIQwM81gaGPZfYMhnYCio\n",
       "f8AQX8BwgoGBIZ6BwYiBwQvIOsTAIMvA95udgcGXgf0fA4/CVgbunwxsHxiYLlxg4BNg4DJgYLXa\n",
       "AAB/WBcBafZ/twAAAABJRU5ErkJggg==\n",
       "\" style=\"display:inline;vertical-align:middle;\" /></a> : <a class=\"ProveItLink\" href=\"../__pv_it/f086f8c372bd40a2458306ddfdbb29f3dc6f63030/expr.ipynb\"><img src=\"data:image/png;base64,iVBORw0KGgoAAAANSUhEUgAAAAgAAAAOBAMAAADgeEClAAAAIVBMVEX///8QEBBERESIiIgyMjJm\n",
       "ZmZUVFTu7u4iIiLMzMwAAAAWRytzAAAAAXRSTlMAQObYZgAAAAlwSFlzAAAOxAAADsQBlSsOGwAA\n",
       "ABtJREFUCNdjYOBsZ2AoC1nOwMDATBbBprgiGQBsuwqCZsDj4wAAAABJRU5ErkJggg==\n",
       "\" style=\"display:inline;vertical-align:middle;\" /></a>, <a class=\"ProveItLink\" href=\"../../../__pv_it/273f49450ca25e1b56abbd98a7aef618f8f6c1360/expr.ipynb\"><img src=\"data:image/png;base64,iVBORw0KGgoAAAANSUhEUgAAAAoAAAAOBAMAAADkjZCYAAAAMFBMVEX////MzMzc3NyYmJiIiIhU\n",
       "VFR2dna6urqqqqpmZmYyMjIiIiIQEBBERETu7u4AAADM1VnsAAAAAXRSTlMAQObYZgAAAAlwSFlz\n",
       "AAAOxAAADsQBlSsOGwAAAE9JREFUCNdj4LuzgQEIuCaASP4GEFn/AETmgAiGpQwt8xj4PnM0HWbg\n",
       "+FTBuIiB87AAUJh7ZSKQfF9QD+TYM7xvcGCIZXgvkMBwg4FlygMA76IUkutkA5UAAAAASUVORK5C\n",
       "YII=\n",
       "\" style=\"display:inline;vertical-align:middle;\" /></a> : <a class=\"ProveItLink\" href=\"../__pv_it/bcb6bc33e5975ec2290a3272bf7802d26ab8421d0/expr.ipynb\"><img src=\"data:image/png;base64,iVBORw0KGgoAAAANSUhEUgAAAAoAAAAOBAMAAADkjZCYAAAAMFBMVEX///8QEBDMzMy6urpUVFRE\n",
       "RESYmJgiIiLu7u6qqqoyMjLc3NxmZmaIiIh2dnYAAABjjC/7AAAAAXRSTlMAQObYZgAAAAlwSFlz\n",
       "AAAOxAAADsQBlSsOGwAAAFdJREFUCNdjYOB7e5qBgWElQ/sGBrYCBr4ABlYHBs4fDPwHGJh/MvQD\n",
       "yW8M+x8wMP0Fk/8Y+h8wMP8FyXL+ZGANYGD7wcAmwMCzgIGhkqFRgYGh764TAwAMEBgt0IBciQAA\n",
       "AABJRU5ErkJggg==\n",
       "\" style=\"display:inline;vertical-align:middle;\" /></a>, <a class=\"ProveItLink\" href=\"../../../__pv_it/a8d4b3a34d2189508f9082853fbac36935714f280/expr.ipynb\"><img src=\"data:image/png;base64,iVBORw0KGgoAAAANSUhEUgAAAAsAAAAJBAMAAAAWSsseAAAAMFBMVEX////MzMxUVFQyMjKqqqoi\n",
       "IiKYmJju7u5EREQQEBC6urqIiIh2dnZmZmbc3NwAAAD0tjQRAAAAAXRSTlMAQObYZgAAAAlwSFlz\n",
       "AAAOxAAADsQBlSsOGwAAAEdJREFUCNdjYOC7s28DAwPDygcc3xkY2Kcx8AYwMPB+Z2A9wMDA2cBQ\n",
       "v4CBof4AQz5QRb0DQzPLAwbmDWyxPECV2gcfbWQAABp5EMgcedARAAAAAElFTkSuQmCC\n",
       "\" style=\"display:inline;vertical-align:middle;\" /></a> : <a class=\"ProveItLink\" href=\"__pv_it/a7e2f39b35c771671d9c9cd6ecbccdae3d758ace0/expr.ipynb\"><img src=\"data:image/png;base64,iVBORw0KGgoAAAANSUhEUgAAABcAAAAVBAMAAABfzGiYAAAAMFBMVEX////MzMxUVFREREQiIiK6\n",
       "uroQEBCYmJhmZmYyMjLu7u52dnaqqqqIiIjc3NwAAACFAiZ1AAAAAXRSTlMAQObYZgAAAAlwSFlz\n",
       "AAAOxAAADsQBlSsOGwAAAJRJREFUGNNjYGB4wAAGYIr3AIQTCyJOAzGjF0SQawIDw6LOX0CRWQwM\n",
       "HAUgpSBOBQMDGwOMw7aAIRLO4Sxg6IZzuBUYpsM57BMYfOAcHgeGVDiH8QMShzWBYQ6yMluEAQYM\n",
       "m+AcjgsMIUCKyeyLLgMDywMGFgEGKHgCVNkA47QDsR2UzWcAJBZDOcwLQCIFEE4dAwMAQHUkuf33\n",
       "R4cAAAAASUVORK5CYII=\n",
       "\" style=\"display:inline;vertical-align:middle;\" /></a>, <a class=\"ProveItLink\" href=\"../../../__pv_it/53e304ff98ebc000dbe3ef224f4637dbafd46ba70/expr.ipynb\"><img src=\"data:image/png;base64,iVBORw0KGgoAAAANSUhEUgAAAAkAAAAOBAMAAAAPuiubAAAALVBMVEX///+YmJjc3NyIiIhUVFR2\n",
       "dna6urqqqqpmZmYyMjIiIiIQEBBERETu7u4AAAALjtrwAAAAAXRSTlMAQObYZgAAAAlwSFlzAAAO\n",
       "xAAADsQBlSsOGwAAAE5JREFUCNdj4D29gAEIOBtAJF8BiMy7ACKjQATDFON2BgbelxfuKTCwv2Xg\n",
       "M2DgmMBwLwCkPK+AgU+Aoe8CA18C70YGBhYBHqARvM1A5QCqGhDobJhHyAAAAABJRU5ErkJggg==\n",
       "\" style=\"display:inline;vertical-align:middle;\" /></a> : <a class=\"ProveItLink\" href=\"../__pv_it/f086f8c372bd40a2458306ddfdbb29f3dc6f63030/expr.ipynb\"><img src=\"data:image/png;base64,iVBORw0KGgoAAAANSUhEUgAAAAgAAAAOBAMAAADgeEClAAAAIVBMVEX///8QEBBERESIiIgyMjJm\n",
       "ZmZUVFTu7u4iIiLMzMwAAAAWRytzAAAAAXRSTlMAQObYZgAAAAlwSFlzAAAOxAAADsQBlSsOGwAA\n",
       "ABtJREFUCNdjYOBsZ2AoC1nOwMDATBbBprgiGQBsuwqCZsDj4wAAAABJRU5ErkJggg==\n",
       "\" style=\"display:inline;vertical-align:middle;\" /></a></span></td></tr><tr><td><a name=\"-0x16f42b08627251c7_step1\">1</a></td><td>theorem</td><td></td><td><span style=\"font-size:20px;\"> <a class=\"ProveItLink\" href=\"_proofs_/md_nine_add_one.ipynb\" style=\"text-decoration: none\">&#x22A2;&nbsp;</a><a class=\"ProveItLink\" href=\"__pv_it/76a4ad70a30fa52f9b527e4c02aaac3edbbf26ac0/expr.ipynb\"><img src=\"data:image/png;base64,iVBORw0KGgoAAAANSUhEUgAABa0AAAAZBAMAAADAjR9RAAAAMFBMVEX///+IiIgiIiIQEBB2dnbu\n",
       "7u5UVFTMzMzc3NwyMjK6urpmZmaYmJiqqqpEREQAAACk/Np2AAAAAXRSTlMAQObYZgAAAAlwSFlz\n",
       "AAAOxAAADsQBlSsOGwAADoJJREFUeNrtXAuQFMUZ/vcxN3v7uj1cLyQHch7io9AK8REoCs1ecgio\n",
       "6CgnVQZl9yoCqcTHKgakNHVDjKQqWtxSCWoV0axgNAaRgwDGAHFPowbPwJyKCGXCWmokPg4kXEAU\n",
       "L//f3TPbszu3t3OQaKqu63p2pufv/9H99d9/dw8AuExVjWfCUBpKX+Y0rNFwXad6qNkGlXSRzRT4\n",
       "UmhUaWklL/tPgRPLbuA2DueGcP2/SR6DZyuN/MJVethFacGIwaSRrjQ4PoseFrjO0++bbnAdpZ9I\n",
       "bgirbtJrIgM2+Exqv4R7HsrbDfwmtHmOXD77XNesNm/SHFCqjukHu1FQUpYBrhPaWqqiXZa/6Q9O\n",
       "hrpIzfV6wXkgrv9IhQ+4wXUoSz/6EFbdQDLDM7sSPK4ZDJfqDs7sVJhva/4VA9TzFxdcFVMnACwv\n",
       "Kp35dC+UlgLTlsYhN8B9usZBxSJZD8JVeqmhLiyqNpQzOb/lHNcLKP7Ju8G1SkN36RBW3aRQjmfm\n",
       "vMiVbBkMlxru36rGQdTW8ccGqHdPccH3AD4A6BJPQXPu9RDWuhxnG3JmoUHO0VtkFZ9wkhVuAH++\n",
       "1FAXFj0LcDnn18VxXa0h+g03uGYjYvoQVt0kn8gIjjTQJDtuMFzWarzXM+A/IBUHeweoV19c8AnA\n",
       "FaiQJuKEmIw1s1ROT4HXMsB9Gier2O0kK5qCSG+poS4s+gfAXo3xo4y4pqWjm7Ug0r6MP5khrLpJ\n",
       "j4sMCBAFPVNwUO33bf6TzIPnsDwpDzBI1E+Lo6LPAUaloTrnhOtqB6/cALMtA1wnstXf4IhrU1ZN\n",
       "BwTlSec74NIiwIK1BuNHmUB9bmPj+e5w7WtsHJ0YwqqbtEFkCuDCCKMQtd89TYsHmG2LCO6r3Wr6\n",
       "66Nyl6Qi9eikgqNHTtMD6+ph5fldm7Bj6RY645Ph9YNzDXVEbcbur7PgTznh2iyVEsapncKAwIbh\n",
       "sbI6lxKQrdWt9YYDrk1ZScT1Z7Kh0L0R3FikEK5zjB9lwvVTAO+6wzVOpVFtCKtu0q9Exm6BqjR3\n",
       "KsEJsL9sMxYTKJ9oSV3E1zIKkrm/3UWOr2Zre26+7snAeVllLADdRibA0wD4MBugwRZf78epOuOE\n",
       "a166vpHS6SL8jcE8YcAqPVo+6iklIFuTy5UjDrg2NWhPgPqxZOhnkTcmgRuLAocA2mKMH8socgkE\n",
       "Uu5wjfRLSsrDN7js6pINFXXzwIPlBZdLl8DAQk6g4v2v4s/hOdTYeLDx641ngRe914wcrC8rqJgA\n",
       "Q9AagqAyERbIs/benxuLSClvg0IdfgzdHezNsltEwVqd7lZpIE2xM7LqzQZEGpxwHSneY1uPGqPa\n",
       "GTJAmQShsntwDgRkK8a+Hzvg2pRFuD4kGXpkjcq26Cq2iOE6wfhRJlxHNX/WrsitG7Keb1KPn2p2\n",
       "3NhL4KSUhWv075eUGDSfNiGZoGvZIGy5mPZYAyPq0uw1K/vp715i8WAtofNPuxbSq84/U5d4qKp/\n",
       "wPGlYiTZHGftt41dm+cSpBZ3zrN0swsJfbRwIVkyYiqVxeOWkEV5SXF3PG2Kyzz5WYD6kKVuPG7e\n",
       "TRSZGmI1LZiwyZ/R4DSztRwTJ5Am9AwkWQvPinfL8fXvXzTjEVDRj/+SNtWSHfwWvnsFQ4H38+Ey\n",
       "+tZNx/hapcUnDrXRGIqmLKypBxx8WbCDGxDqBW9CNJTzxg8jsK+Z0danQTnEZ4HzxCxgk4VmBSV/\n",
       "HZqUdmkRcV8bY/woE64jMXnZqNb1ZCOpybDR7A245ab34XW/FtIKuO62LxuJAnYDNMGTxKG2gfsu\n",
       "8jVVCQ9b1HiYAasOMpPvZ+bs7+vDxvLotIyC6+F11KTcYooUIwp/LEgVbhnGGoA7h+vhJEYzqkRI\n",
       "tK+PlhjD2bqnKhFJmUKqEpLi7njaFJd5clxjTd7U/F0RrtE3PiX6+iJQjpqt5ZgYgX1Xd61hwaeQ\n",
       "ztqQNt9HPn355RcJBTV5fjvrxr0MBcq0vo7iQRMc5+Svg6Wr0G4KPZkBvjwks6KhnDd+GEEJrldY\n",
       "68JuJ1m4boxIM5B3xRRwaRH28l6D8aPMztEznZISm9GASGeIufgAG8/UDW/GOvyFOASqw/LSgFEQ\n",
       "PMZDjW5NLkehHVmpaT/r8zUM14/x5XsHZBnwQwS8LBsjhyGplcc1KUYUvjSwSO0V1h7ZADmuhTCN\n",
       "xaN7S4SEeHDwPlO7Jq30mkKQTUFxdzxtiss8Ba7H85lxk8bemecOLIfINx7EOKTaIBcTPuAw7cs+\n",
       "KGzznTU5QiPvBWm3Vzka5N67Gmdzhg7u3eg2MhHaCAWJu+HawzbuD0HZOESKr9ejj8VIJEMGoGPd\n",
       "YTaUYxIEtuGIY/EzayQ6xiHRPISlkZrMrk27tKgHYIdmi0Ng+nK82XJLneeFNHioIPLj38YI1+H8\n",
       "4g4YQbV27Vks49q/G5tX2RLnkSajQHgEjoDPsJR9nuEaxx5xVE7muF5D3eJ7bCcPUyeTeYdIB6xa\n",
       "ky3F9azOqeathx9qZKBdhwstDIa1ALftbLpcmSwREgA/PY1K0N4kVj1qCmmrnWMp7pKnrLiNp4hD\n",
       "Pq5DYnWuzt/x9JbI4AWVBlo0BsoxiGbeKIdrRmD2DBtxCltNRS4QbSsWCAeUYx6BAsD4Mcii0TS7\n",
       "9aGL/5m+AhIIJ2kd8SqzMZx3XDfmHbb57hBGJA34Z0Qvh2tG0PVibWrEPFGEtmI7zMg5rRuFrPA4\n",
       "CrKstAPZxNxZ9BzFOowfyyTsLtoYWZXzpTwpNl1DJD15D+G6avjOCWyyhV3+6x6RcB2g6PuqdBtz\n",
       "HpwCtoHay0Fs9hTbbfUsY1eF4frRu28k06fM4iBl89WoQ3yebstBsKiLlTNUaxDP5vZnAIWeDQWX\n",
       "wTdGv8paIZYsFQJ7mPy+BJsQMUITQoZp9ZbibnnKiss8Oa49YzwdEPxAF+94ulhkBAj7gIEi8mXw\n",
       "bEeigGvlExKRMS8gCMyeof7I8WNGzxj40KyCf1V55TDzOl58Oz8LU+EXunIav8UJftSd+jRIvKrB\n",
       "PmLMeQ/TomhJKOaE61DJPh6OxJHCiOpYeKxf8tfEjinOLmASvDQJMVhnbq+nCIEfOO1fW7LOgRlp\n",
       "wQ//boJkOuHOIq+hjOf8KDNcR5Hj3cPQG4QS/JQzkg55qIt8l0Gan7Hugo5TJFzDexQY0IprqSZO\n",
       "YdUHCde+WAHX9GELAZKK3lDEhNpGLi7H93wYVNV5N1NfPXn1DuzuZfa9ilCHasV6/Ph1kUEY/IaE\n",
       "wVv52CJfGNGTpUI4eBcsoCg7+O61x0whb8E2S3G3PGXFZZ4c19FYOBN8R7PesbRSZJjODnjZSJgZ\n",
       "v701LfnrsaIj+QUEgdkzbLW3lb9ovjRrVRkLUQPqTyae+y8yIPDDZh3u66xDArpVW7tblkHV9foj\n",
       "nfEsMea8/c10lu/V7biuevtga6FUOvcx+IccaIDSOmXJVyRcM3ZjTe1BEASubEAPvcHcrkQLZ5nb\n",
       "1yaui2S11M4z+eHfR+BZp7mzSGmiDQriR7nwnWorotRrwLaenh4jklYSNAjaMaYNP9TT8xHiuqVa\n",
       "xjUPoOtAXakJigVzWDBRiEMI8qz/ccIL5DiuDbamwIiDubEXxFKb4lFlD+3M7ra7ipqsx9ohYYqp\n",
       "czWa3I8VMBgQW+9taNS9kCwVEk7xTYhV5A6u+80RU8hE2GQp7panrLjMk+Palw2l5vNeZO94f6V5\n",
       "RoB4WcEZ1p5WwwB7QKJn3KQVlZH9BIr8ta1UCpA1vlPstYKfVwbgXBVDj3SO+XSGfQ1aVtbxW0S5\n",
       "gOvxcAq0q3Ab99ewhkzdHmzQ1QT318HuIlyj6/rwavBqwClokrKtGwMpFR9mpAMIBbX50kMGWx22\n",
       "6yziZmHnO/z4jX1q8iM6pFWLVuJJPfq81vVm1xpcHd9mTmm2NR4sgdtRlfHoSpGk+ZnpJUKiCX5e\n",
       "Rp/AqFowYwrphQsLirvkKSsu8+S4rtF8hnK5Yb4TAWQHzwiQ1aygq2Jci575L+Da/PYqmHMqlbYn\n",
       "+DYfN6AiXPvSnnzggDkMbF9SPVFe1vFbtEXGdeAA+oXtfn6OGM6CJ6UkoFVtSPCzyJfAipYsfz1B\n",
       "PZojXIvTSrbP9zi0sJ7CyksX3qG14PvwBfgAgV4qSyCXFnShagOV4RqohXzBHHz4EO7n+3wtRCcu\n",
       "Pr3tCXg478u+BuKAk+/zZaj2K0QbeG/hRnwYA8+hLPS7mk0IKePLEa/lUIUE0Vx1mgmhKri8sBR3\n",
       "wdOmOEg8LVx7te14PYVOBuidSPt4RoDwL8aieoW4NnvGTTq9sjOrfIWlq80P4/ZViut29NjhvLmP\n",
       "HdVdaXB8FjGeFq6DKXgAlpyMnUpxFGIsr16IJTekYSl2TfCsNP/XBDKuV/81znG9NG3Co2kjzDcC\n",
       "0z6NYeVv9fXhg9pUp+MDbP+3gT8t8QSWQbxeozKcnpB6XZwIHomnOa6xygSYr9PFCG7pvgyj/2vg\n",
       "B8AVYxTNrPZPf70OKXx9fQfw4bba7xPf8P4bbULoB+dOLLundirxa5rCWWDJHXFJcRc8bYrLPAv7\n",
       "IetYf27HdXDTFJDXvZg9WeD/JEAsWoFaq2xfmT3jIj35r32VkDl/C+FQ+jX0CtLiHVhDlU2PQrUe\n",
       "aDU5KXlXGhyfRdwzlxxLt/T0iDVJRCh1ec/7Refo8hSlmRS7RYkhV7Y9RAYkyFglhXdeeA3G5YRi\n",
       "JoAGZGX0T5CxSuyKV8jTUYBt/1qkv9u8VCDHs5Xu/cK/WfmLi9KCEYNJ97rS4PgsYjzL/fvGnf1+\n",
       "HyLtAJ20FaQVP3WxJlW2PTiV2QkIHhFrCIu7meguWnVpaV0JK/HgWJYpsm0luOLpJMAR10Ppi0vl\n",
       "cJ2rANdyOZ8qw3Jl24NTmZ1gkWGVgHwnJbGhNhCrMPRbRkJstgnFK+XpJGCRMYTr/xtc94ff/v7/\n",
       "kDuPVxl1ZwU0uRMv5MQprg8h6kuRho3O/QfgBWZnPdO7gwAAAABJRU5ErkJggg==\n",
       "\" style=\"display:inline;vertical-align:middle;\" /></a></span></td></tr>\n",
       "<tr><td>&nbsp;</td><td colspan=4 style-\"text-align:left\"><a class=\"ProveItLink\" href=\"_proofs_/md_nine_add_one.ipynb\">proveit.number.numeral.deci.md_nine_add_one</a></td></tr><tr><td><a name=\"-0x16f42b08627251c7_step2\">2</a></td><td><i>reference</i></td><td><a href=\"#-0x16f42b08627251c7_step16\">16</a></td><td><span style=\"font-size:20px;\"> <a class=\"ProveItLink\" href=\"_proofs_/nat1.ipynb\" style=\"text-decoration: none\">&#x22A2;&nbsp;</a><a class=\"ProveItLink\" href=\"__pv_it/b64045e23014d4aeb18f7f9a8278edac4a9c78ad0/expr.ipynb\"><img src=\"data:image/png;base64,iVBORw0KGgoAAAANSUhEUgAAADIAAAAQBAMAAACmdTG/AAAAMFBMVEX///+YmJh2dnaqqqrc3Ny6\n",
       "uroQEBBERESIiIgyMjJmZmZUVFTu7u4iIiLMzMwAAACK+5nvAAAAAXRSTlMAQObYZgAAAAlwSFlz\n",
       "AAAOxAAADsQBlSsOGwAAALRJREFUGNNjYEAHPPfL5zAw5acyMPDdQZNiN4hmYDh/gOH0yj9oMtxX\n",
       "mAQY2IAMDgwZc4YpDLzIMu13704Ayzg2eKLIRPbA9Djs41BAkmGZAzfNgZ2hFEmG0wEhw7fg7Fkk\n",
       "GYQLHBiEmcsQMs/uAkEBVIb7wDaEzHFkPTwbkEzjRZZheMGOkOFogIfOAyDvOZJ/JsNkeA2AxEqg\n",
       "3rK/O8ACp0sPgGm+++lA8iRyeAXVQkIHCgBOnzd6VWBQYAAAAABJRU5ErkJggg==\n",
       "\" style=\"display:inline;vertical-align:middle;\" /></a></span></td></tr>\n",
       "<tr><td><a name=\"-0x16f42b08627251c7_step3\">3</a></td><td><i>reference</i></td><td><a href=\"#-0x16f42b08627251c7_step18\">18</a></td><td><span style=\"font-size:20px;\"> <a class=\"ProveItLink\" href=\"../../sets/integer/_proofs_/zeroInNats.ipynb\" style=\"text-decoration: none\">&#x22A2;&nbsp;</a><a class=\"ProveItLink\" href=\"../../sets/integer/__pv_it/5071f98c61b3ccd585aa2b44bab9dc29aa2d218e0/expr.ipynb\"><img src=\"data:image/png;base64,iVBORw0KGgoAAAANSUhEUgAAADMAAAAQBAMAAABJt1qBAAAAMFBMVEX///8QEBDMzMy6urpUVFRE\n",
       "RESYmJgiIiLu7u6qqqoyMjLc3NxmZmaIiIh2dnYAAABjjC/7AAAAAXRSTlMAQObYZgAAAAlwSFlz\n",
       "AAAOxAAADsQBlSsOGwAAAPVJREFUGNNjYMAA7V+jGhgefjRgYOB7expNLpLZgYHjB5CxkqF9A6qU\n",
       "+4ZnDAwCDAxsBQx8AahSngFcGxgKGBhYHRg4f4BFeMPLq8AM71zuBSAp/gMMzD9BAsxrG6C6vFkU\n",
       "7oGk+oFS30ACu2AyDN4MAawGQKn9DxiY/oIEVjMgpHQ4KqBS/0ACC5Ck2CZMBbqw/wEDM0gXk3h5\n",
       "eXkpVIrBg0UA7AxOkDM4ApB0MbRwgBwfwMAGdnwBshTTBaBKNgEGHrA1d+FSQUB8CWRIJUOjAkiA\n",
       "awJMqhKIwcr77jqBBThcLSAy6h+BOjgWIAcd81NoQEEBADiYPSy71ckzAAAAAElFTkSuQmCC\n",
       "\" style=\"display:inline;vertical-align:middle;\" /></a></span></td></tr>\n",
       "<tr><td><a name=\"-0x16f42b08627251c7_step4\">4</a></td><td><i>reference</i></td><td><a href=\"#-0x16f42b08627251c7_step19\">19</a></td><td><span style=\"font-size:20px;\"> <a class=\"ProveItLink\" href=\"__pv_it/d514160c241e8bf81b953f3b723c4b8ee9f927990/proof.ipynb\" style=\"text-decoration: none\">&#x22A2;&nbsp;</a><a class=\"ProveItLink\" href=\"__pv_it/8cbcffb048821cecffe3571dc61793754a0190370/expr.ipynb\"><img src=\"data:image/png;base64,iVBORw0KGgoAAAANSUhEUgAAAKoAAAAVBAMAAAAkxGgRAAAAMFBMVEX///9UVFREREQiIiIQEBCY\n",
       "mJhmZmYyMjLu7u6qqqrMzMyIiIi6urp2dnbc3NwAAABm9RoHAAAAAXRSTlMAQObYZgAAAAlwSFlz\n",
       "AAAOxAAADsQBlSsOGwAAAbFJREFUOMtjeMAAAnxgkgGFgwAPUCg8AG7MHTC9E8I9DSZ5D6Aphqjh\n",
       "nkDQVJ4NUPVgHZwXGBi4LGAacZg6F4gXN+A2EiS3E9nUdgaGxvQfQEYFblM5Chg4xOpxmgqRY29A\n",
       "MjUV5EGQqWG4TWULABL78bgVJMeagGSqA8xUlgacprIwEGEqgwfCVJ4CmKnsAThNPU6UqaUIU9ku\n",
       "wEzlFcBpai5Rpl5EmAp2IdhU1gKYqWzGYCAAN7WUKFPDEaYyT4CZymmA062WRJk6GWEqywGYqVwf\n",
       "cJrqQ5Sp67GZyuNAoalHkMIVSwhghGslqSHAtAEeWwo43aoN04lpMAfC1CCEqeD0BDaVbQNOUy9C\n",
       "dXJ8B9L9wLQCZsB5UFOzkXIB0N+MKp+lganhAU5TDwOxkL/hBgZjoG5mUM40Y4ASzBYwOQY7pBxr\n",
       "BdP/GHc5wLwAyuPEDIIZ8ALWAMnUMJhoKm5TIQUHSBozoi7AGOAiCGYqE7SY51PAU77qQXndmLG1\n",
       "AcZ6hFy+cihABJka8JjaBOUFYJjKCmdpQNXvAtNPIYJxkKpkAZouiBq+AII1DCvEz7sAXZmtII0o\n",
       "3j8AAAAASUVORK5CYII=\n",
       "\" style=\"display:inline;vertical-align:middle;\" /></a></span></td></tr>\n",
       "<tr><td><a name=\"-0x16f42b08627251c7_step5\">5</a></td><td><i>reference</i></td><td><a href=\"#-0x16f42b08627251c7_step22\">22</a></td><td><span style=\"font-size:20px;\"><a class=\"ProveItLink\" href=\"__pv_it/660e7c13e0dca14de7d468aa34651cac1a9a44bc0/expr.ipynb\"><img src=\"data:image/png;base64,iVBORw0KGgoAAAANSUhEUgAAAQUAAAAVBAMAAAC9GeaNAAAAMFBMVEX///8QEBBERERUVFTMzMyY\n",
       "mJjc3NxmZmYiIiJ2dnaqqqoyMjKIiIi6urru7u4AAAAvZeGPAAAAAXRSTlMAQObYZgAAAAlwSFlz\n",
       "AAAOxAAADsQBlSsOGwAAA5NJREFUSMetlltIlEEUx/+76366ty/pAiEodkUwQ7DoQpQhET21PdVD\n",
       "pAQlQeBGDwstkRTldl8rMClon4Ig0ggigsTyQSQQoYeICD8KiiDwkuVl021mzsx8317xwQHP/vfM\n",
       "OTu/78yZ+QRgfkG+UcC9ZMN4rAwb75/ljSngLjpKgO/ZSx0rFNy0WRn4F3jyrewI4e4ebFG/rgJa\n",
       "Y+ulOtVVp6P304cr9UrF+brv0e+k0+kJcv0cOi8nS6O7mV0HZXztwLfYQjYDdweS5hX6pgOMejwa\n",
       "ob2KoDmpoi/RR9ntq5aMu4nt9DsvotFr5IvAQwnmDexlD3ef6/tqMQTzMhwB7sivKsBjwVVOnjmM\n",
       "9apZyeDR6YEI1tIjM56IUN4wTErwlMMdKczwLh7v1QysTj1WJoNrAZ6/QoUqsUwx7HuRzaDy4Nde\n",
       "X7ViYHm+8YIMn4eddZgGRpNZdWiHZ0ovFJYikcPw3FFSagyEJq1SShirRnCqEIPR59wLkzOEMxn4\n",
       "po9LEbqstqJFMRwdbCSVOjA4ok5GtRR7/p2DrsO8k6G0114i0KJXYm5jFjjYn8OgXCUDW6TnBCSD\n",
       "2zLmqetSYVTIWY+C8aVfQvfDH+At18K0hR0MdgGZWzAkchg67E2XG5VQDGzUEEMaOCNbok1NPTme\n",
       "lkeqEk1zbIKnc9N007HE3jgbonTcbTKG0Zw6lEb0ei5yelscDBeolDNAs3z+B3LGG0FPFckfQ09Z\n",
       "Pxi1STJmzLKX+Grf1Nw9bT+qzXBY3VqNcM8JdRqKoZYxUENcZwyylS4qYgvGnH4S9nu+N5DGXW8v\n",
       "UWbvBXezE96cdTbhT+AkNfeCYvjQ0DCxQ6jVrPH0lsg6mL9l5hj726rvD1btHl4yYZznItifcUcd\n",
       "AmIwNYNQB4BhcDBXPd8LibgCQrHmWU5ho6wfSIVYNSmBrbZRKH8V2li5Ovl0Z8798DqDoSxprpSX\n",
       "IQ/gyuiInm03U3Tt9YSFYmMSQrUiWEUJ7oRZQco/C5oM9cHbL1TwFjYg+37wrJnZRe+FOsvBYD4c\n",
       "aEQZfwuJAK4C7BXUiziP+hhl7yyhEEtvEsqIbrMoAV1nZarBz6gIa4qel6q7aySHwR6fahx3NQ37\n",
       "Ha6V3yqmFplQkCFjL9Tpz1E+FFOLTHAwBMvzMmi3qfvUVr9QRC02gfW7MmZF/n/llNurXbYKF1OL\n",
       "TTBXKcOaeWdeiALuJRsld5PS/Ae9xDKshhhwEQAAAABJRU5ErkJggg==\n",
       "\" style=\"display:inline;vertical-align:middle;\" /></a> <a class=\"ProveItLink\" href=\"__pv_it/c493428c9670e76b09f3443cd6fbe781927f09c80/proof.ipynb\" style=\"text-decoration: none\">&#x22A2;&nbsp;</a><a class=\"ProveItLink\" href=\"__pv_it/fda864c443eafbcfd624164ba993b1ace33469300/expr.ipynb\"><img src=\"data:image/png;base64,iVBORw0KGgoAAAANSUhEUgAAAPEAAAAVBAMAAABlMBWuAAAAMFBMVEX///+YmJh2dnaqqqrc3Ny6\n",
       "uroQEBBERESIiIgyMjJmZmZUVFTu7u4iIiLMzMwAAACK+5nvAAAAAXRSTlMAQObYZgAAAAlwSFlz\n",
       "AAAOxAAADsQBlSsOGwAAA2VJREFUSMe1lk1IVFEUx/8z8+bL98ZmFRGFg4s+jGqIFi2CmSIo3ChB\n",
       "i2qhIdIiC4OspAxxUaQuhD42GgyEwYyLrDaRfTwiKGqhfUhlSubCRS4yTc1Sp/vuufe+mTeO2MIL\n",
       "M+8/955zfveec+99AyzSjENY0abtzDdydff/RysEXjgB6/IZj13kLoPOfs8c+ypujsuY0qA0eUmo\n",
       "vSV1yvo7PXyzt6Sdu3gbxUmn09PU9bypUwwWpB6z7wvs8yY55yS7+4Bg1PhAv5SB1o3t5VSNBIqi\n",
       "0voLPUJf35nCrh9PKE57KvWe+hLQycH4hFG2pK2WDixKXg9sFD+lgW7CV0k9k+htk6OCrCv3YALn\n",
       "aHlsFgmuXGEY5KBXwp9wkq8MDbUpMktHzMwm++ag/+LKW41Vkvyt3UmWfvCoXnetJDM/97iDfLg1\n",
       "c81/gIqoY8190BdU+LAQkRzyzYz0UcHhnTELyKG3FoGFbLLWkZltwyKHs8lWMceF8L6VyY5L8prm\n",
       "YVKzI83lcnfXCvHs922oNU9lk4NxFb+gDdoE8KMxhyy7Clueip49EGS/qU3RHpoNo0qM6nIK7vR1\n",
       "qDr/BC5nku0UlYWJHMkhD9jFFKWISDJrDUROA3dEqcvk0I79aXEsqjE2yQaiduDRIdZ4csb6mQEj\n",
       "V+SsuSChKD7qdMUzyHcpbfNAkVjrZjHiSiBWQ/J10y5WZ60+qgK/tO/OpMl3WCzqJK+Vd8sw/JNc\n",
       "HYAk1zMyFfozI4st8lHO04Q2qebP4rlv2IFDdrb93bBOZJHjVMETwT7aoHOSfLSnZ/o+VyfZNlJJ\n",
       "F2s2/grPXva5p847y2wsbgcONGbdJKuBJAxF5moEaIU1HV+3lW0xsRPgim2K42RWwepMyssyRw4M\n",
       "dIYrTw3KWGo2ZC7pWhY5FDVOiYvKMrCUNpDq6jNm6UqKhblibQZclSJQQw7+iFFFyjMBGvR2wNXI\n",
       "VWAQp0GnSj87/5Du5zozg2xsahlGaFAaWCrIXgBtGLKsjqTYG4MrJNPnudJSj0xyQEmXcNWs08XN\n",
       "xlKdQhWXlAuy3Q42ZNye1Oy3pVIecym1TAcHOSvb8rTmKDeWUst0yEcOVMrzpXadrV5hCbVcB7Z7\n",
       "F22GvPxcqstW4aXUch2MY3n+rJQ+WNn/YYVb2CX1D4xiEySjsO4lAAAAAElFTkSuQmCC\n",
       "\" style=\"display:inline;vertical-align:middle;\" /></a></span></td></tr>\n",
       "<tr><td><a name=\"-0x16f42b08627251c7_step6\">6</a></td><td>instantiation</td><td><a href=\"#-0x16f42b08627251c7_step10\">10</a>, <a href=\"#-0x16f42b08627251c7_step11\">11</a>, <a href=\"#-0x16f42b08627251c7_step12\">12</a></td><td><span style=\"font-size:20px;\"> <a class=\"ProveItLink\" href=\"__pv_it/98c6ba434d31d354119417bf61eede71030f85c00/proof.ipynb\" style=\"text-decoration: none\">&#x22A2;&nbsp;</a><a class=\"ProveItLink\" href=\"__pv_it/c0a5d05c9ca82eaf7d537a079726b8f3fddbf2780/expr.ipynb\"><img src=\"data:image/png;base64,iVBORw0KGgoAAAANSUhEUgAAADAAAAAQBAMAAACigOGCAAAAMFBMVEX///+6urrc3Nx2dnaYmJiq\n",
       "qqoQEBBERESIiIgyMjJmZmZUVFTu7u4iIiLMzMwAAAAVFzZeAAAAAXRSTlMAQObYZgAAAAlwSFlz\n",
       "AAAOxAAADsQBlSsOGwAAAJdJREFUGNNjYOC7w4AOuFbtYWA4vfIPujjPDYZnCgwMHBgS3AkM7AvQ\n",
       "JCIfAAn+CQzMH1AlfNeAyPMFDBz/UCR6bcAUSMdHJAke2waEHV8QEkxrHWAqEhlef0VI7AyAG3mq\n",
       "OeIfVgmgF/9gMwoIOAuwWc6aw6D/ANm5PL09YJrjDkMJ0G1lf3cgPAjxiLGVAHoweT5gIAQA8b4x\n",
       "EVI5oRQAAAAASUVORK5CYII=\n",
       "\" style=\"display:inline;vertical-align:middle;\" /></a></span></td></tr>\n",
       "<tr><td>&nbsp;</td><td colspan=4 style=\"text-align:left\"><span style=\"font-size:20px;\"><a class=\"ProveItLink\" href=\"../../../__pv_it/72df168d2bfb4e0140af90912ebf83b13772060b0/expr.ipynb\"><img src=\"data:image/png;base64,iVBORw0KGgoAAAANSUhEUgAAAAsAAAAJBAMAAAAWSsseAAAAMFBMVEX///8QEBC6uroyMjJERETc\n",
       "3NyYmJgiIiJmZmaqqqp2dnbMzMxUVFSIiIju7u4AAAAoIwv1AAAAAXRSTlMAQObYZgAAAAlwSFlz\n",
       "AAAOxAAADsQBlSsOGwAAAENJREFUCNdjYHh75/WqCQwMDbxnOQoY2AJ4v/IkMHAzsBgwgAD/BTCl\n",
       "H8D3gOGJwnkGLgaG+fsaGTQZGF7c5WybwAAAJGsQ2L2rVEcAAAAASUVORK5CYII=\n",
       "\" style=\"display:inline;vertical-align:middle;\" /></a> : <a class=\"ProveItLink\" href=\"../__pv_it/f086f8c372bd40a2458306ddfdbb29f3dc6f63030/expr.ipynb\"><img src=\"data:image/png;base64,iVBORw0KGgoAAAANSUhEUgAAAAgAAAAOBAMAAADgeEClAAAAIVBMVEX///8QEBBERESIiIgyMjJm\n",
       "ZmZUVFTu7u4iIiLMzMwAAAAWRytzAAAAAXRSTlMAQObYZgAAAAlwSFlzAAAOxAAADsQBlSsOGwAA\n",
       "ABtJREFUCNdjYOBsZ2AoC1nOwMDATBbBprgiGQBsuwqCZsDj4wAAAABJRU5ErkJggg==\n",
       "\" style=\"display:inline;vertical-align:middle;\" /></a>, <a class=\"ProveItLink\" href=\"../../../__pv_it/c6e291955561f22a0e6708fd793ea93f1c7dbb5d0/expr.ipynb\"><img src=\"data:image/png;base64,iVBORw0KGgoAAAANSUhEUgAAAAsAAAANBAMAAACN24kIAAAAMFBMVEX///8iIiLMzMy6urpEREQy\n",
       "MjLc3NyYmJgQEBCqqqp2dnZUVFRmZmaIiIju7u4AAACJ/BCYAAAAAXRSTlMAQObYZgAAAAlwSFlz\n",
       "AAAOxAAADsQBlSsOGwAAAFdJREFUCNdj4LtzgeE1AwMXZwNDPQNDJk8AwxYGhgccFxh6GRgY7B8w\n",
       "fQJSRxl4G4CUNwPLBiB1msG+AEi9Xns+gQEElgIxTwBfJ5BivMC9AEhx3j0MJAH6nBTYXSPRQAAA\n",
       "AABJRU5ErkJggg==\n",
       "\" style=\"display:inline;vertical-align:middle;\" /></a> : <a class=\"ProveItLink\" href=\"../__pv_it/7eb8117c0a5d387643495d33b46b16c30eb0e7cc0/expr.ipynb\"><img src=\"data:image/png;base64,iVBORw0KGgoAAAANSUhEUgAAAAoAAAAOBAMAAADkjZCYAAAALVBMVEX////MzMwQEBDc3NxEREQy\n",
       "MjKYmJiqqqpUVFS6urpmZmaIiIh2dnbu7u4AAACz5rqEAAAAAXRSTlMAQObYZgAAAAlwSFlzAAAO\n",
       "xAAADsQBlSsOGwAAAFhJREFUCNdjYLizZyUDA8MCBo4CBrYEBt4ABh4HEMn55AJXAgND3+vlQFme\n",
       "d8FAssbk3QQGtgUMdboMTBcYmJ8z3AMKtjEwGTAwODNwxjKwbWBgkFi1kgEAZacT9VqQ/CsAAAAA\n",
       "SUVORK5CYII=\n",
       "\" style=\"display:inline;vertical-align:middle;\" /></a>, <a class=\"ProveItLink\" href=\"../../../__pv_it/0d889e00aed425c3081fbda3ac9194ae911895960/expr.ipynb\"><img src=\"data:image/png;base64,iVBORw0KGgoAAAANSUhEUgAAAAoAAAAJBAMAAAD5iKAgAAAAMFBMVEX///8QEBCqqqpUVFS6urru\n",
       "7u5mZmZERER2dnaIiIgyMjKYmJjc3NwiIiLMzMwAAAC+/aJUAAAAAXRSTlMAQObYZgAAAAlwSFlz\n",
       "AAAOxAAADsQBlSsOGwAAADhJREFUCNdjYOC7++A0AwPXjMoEBoajDBwMQMCaCiJPgAiWCQwBDAze\n",
       "DAwGDHwVlb0PgAoUlzAAADSiCqmElLEHAAAAAElFTkSuQmCC\n",
       "\" style=\"display:inline;vertical-align:middle;\" /></a> : <a class=\"ProveItLink\" href=\"../__pv_it/7fab80fdcebf6e49053ee9ced791d7d7639d49600/expr.ipynb\"><img src=\"data:image/png;base64,iVBORw0KGgoAAAANSUhEUgAAAAoAAAAOBAMAAADkjZCYAAAAMFBMVEX///+qqqqYmJi6urp2dnYy\n",
       "MjJERETc3NwQEBDMzMyIiIgiIiLu7u5UVFRmZmYAAAABFGnYAAAAAXRSTlMAQObYZgAAAAlwSFlz\n",
       "AAAOxAAADsQBlSsOGwAAAFJJREFUCNdjYOB7d4eBgWcXw4wCBt4GBrYHDPwBDCwfGM4nMHD9BLM/\n",
       "g8U/MfA0M8z9yMBwbonUTwYg4PsDIlkTGBh7GOonMHDtYUgC8l38DBgAu6EVEaO16kgAAAAASUVO\n",
       "RK5CYII=\n",
       "\" style=\"display:inline;vertical-align:middle;\" /></a></span></td></tr><tr><td><a name=\"-0x16f42b08627251c7_step7\">7</a></td><td>instantiation</td><td><a href=\"#-0x16f42b08627251c7_step13\">13</a>, <a href=\"#-0x16f42b08627251c7_step14\">14</a></td><td><span style=\"font-size:20px;\"> <a class=\"ProveItLink\" href=\"__pv_it/29719e23fb1f0bd5e07a12aefdd7ebfe272215d00/proof.ipynb\" style=\"text-decoration: none\">&#x22A2;&nbsp;</a><a class=\"ProveItLink\" href=\"__pv_it/2acadd7099e9ce6c5c27fd08cebe6712226caff10/expr.ipynb\"><img src=\"data:image/png;base64,iVBORw0KGgoAAAANSUhEUgAAAMkAAAAVBAMAAAAeFNdiAAAAMFBMVEX////MzMxUVFREREQiIiK6\n",
       "uroQEBCYmJhmZmYyMjLu7u52dnaqqqqIiIjc3NwAAACFAiZ1AAAAAXRSTlMAQObYZgAAAAlwSFlz\n",
       "AAAOxAAADsQBlSsOGwAAAv1JREFUSMetlU1oE0EUx//bzTbJbrIJPfSmrR5ERGhuemkbS5GiFRfs\n",
       "RUQISkQqSDyll9ZQlBZqNVTQogUXLEUp0iCIlmjNKReVBvFgtcFFBL21ItoPa/HNbNJudtMFpUvY\n",
       "j9+bN//3MTMBYGC7rmozqSYN5rZN5XQVNm/SV4BvcF+FRXlx/Z8VBvv1agEHMpzKacjHUF+R7BjG\n",
       "3cuYcZDxgnARuOPgD8GpL4GaGMSUxeKNQom4iagpB9oDHAR6HHwAnNYCoTSURYtFbERg1U0l6FRZ\n",
       "AV7SZLqdx8DpSWAqguB3iyWUgrTmptLgUJF/AJ/C8CdsXErTjeiQmctPi2mKVJbYkMPz04Y6/B5d\n",
       "F3r6yf9bMQVvMasHmtr2Y0fvnD0XDUqjTcXHOkj0NnhfliymhQyEPzypawuJeiOYxjlN7gC1dw55\n",
       "w5eGJwU5Ao+tL60JeFnouNLOrjaYaYDRTko3jro1m8pv9uKJyugA1jACzGo0dyiXN6R1piJ1Q7Gq\n",
       "TGhCUw6BqC0XD1vbROP0ePDxjbUvUxlIPBd/IwRK8i5GWRkbEvBnIJ/iKjjeXLHY5eHn1Bdh0aZS\n",
       "q9GNaNys32pl9wM8Nz+9LCeTl5hKKDI7kEyG5f7XpsrkvWXbjDd0SLFqKkTH+Jffuj/ECLxclUIX\n",
       "uJyZC8s+rwlMRVF1+XK4csabKFXM2pdSxZrp3o2FMDaXujcGX7qkgjMUC+9LuJYWkHYe0vpOf0oJ\n",
       "FFBTXrbMM6+rVHSvfTOLBXD6mDbZERyAvMKqu8KfnZjgcbLK1GuYwS1DPgohDsVYpq3Vp6QVikw0\n",
       "zOHc850ukqivYFPhS5toFz2yz6h87SykDv6bLO7iW6r1bA7q3qyBkd63NOLz0Azq5j9MF7B7Rnpa\n",
       "fFIezjyV7FUWlv34k6Im9ZSrG9C33uyjrmfnpucXh+2QSb3l00LB/6ooFWdj5dVToi2l70cu87S5\n",
       "qmx4qs6TXDRMer/0ndh6mhO/WtxUNjxFZ9HpJOJUTWzbP3JfFfaV0b9f7dtXSS8YqwAAAABJRU5E\n",
       "rkJggg==\n",
       "\" style=\"display:inline;vertical-align:middle;\" /></a></span></td></tr>\n",
       "<tr><td>&nbsp;</td><td colspan=4 style=\"text-align:left\"><span style=\"font-size:20px;\"><a class=\"ProveItLink\" href=\"__pv_it/ac406608e4c1a110d279c13e6aa03c833d5f65d00/expr.ipynb\"><img src=\"data:image/png;base64,iVBORw0KGgoAAAANSUhEUgAAACAAAAAVBAMAAADV4/HZAAAAMFBMVEX///8yMjLc3NyIiIiYmJgi\n",
       "IiJERES6urqqqqoQEBDMzMxUVFTu7u52dnZmZmYAAAD1zdHuAAAAAXRSTlMAQObYZgAAAAlwSFlz\n",
       "AAAOxAAADsQBlSsOGwAAAOtJREFUGNNjYIACJjgBBRYggt0AzOa7e4CB4wIDA/MDiDDD7ZUNDAeB\n",
       "NOsFBsYDIIEZZQcYnkA0sjwAafwDJCZAjZoDxLwBQEEBqIAIUNXO6AcMfEAzDz8GmQfE/EC7GB0Y\n",
       "GC5UAjmOQKy/AGhBAwNTw0MgpxWI+4GYs4CBh+EzkLEeiK9CBBg4QLaBtGUDMWMDEG+AapkMxGxA\n",
       "g883AK1yA/rwF8gtQNl6JqBVQKs5PoBcC3QcmwmQEQT0K0grQxQ0VAIYukHmMTD4QQT4HBjCDoJZ\n",
       "bApgSo2BwfkRmMWTAKZyEEGoAg4OBQYAf4IwGsZHaVIAAAAASUVORK5CYII=\n",
       "\" style=\"display:inline;vertical-align:middle;\" /></a> : <a class=\"ProveItLink\" href=\"../__pv_it/7fab80fdcebf6e49053ee9ced791d7d7639d49600/expr.ipynb\"><img src=\"data:image/png;base64,iVBORw0KGgoAAAANSUhEUgAAAAoAAAAOBAMAAADkjZCYAAAAMFBMVEX///+qqqqYmJi6urp2dnYy\n",
       "MjJERETc3NwQEBDMzMyIiIgiIiLu7u5UVFRmZmYAAAABFGnYAAAAAXRSTlMAQObYZgAAAAlwSFlz\n",
       "AAAOxAAADsQBlSsOGwAAAFJJREFUCNdjYOB7d4eBgWcXw4wCBt4GBrYHDPwBDCwfGM4nMHD9BLM/\n",
       "g8U/MfA0M8z9yMBwbonUTwYg4PsDIlkTGBh7GOonMHDtYUgC8l38DBgAu6EVEaO16kgAAAAASUVO\n",
       "RK5CYII=\n",
       "\" style=\"display:inline;vertical-align:middle;\" /></a>, <a class=\"ProveItLink\" href=\"../../../__pv_it/557ab5defdcd46aa58168b08767502985122cd490/expr.ipynb\"><img src=\"data:image/png;base64,iVBORw0KGgoAAAANSUhEUgAAAAcAAAAOBAMAAAARcxsoAAAALVBMVEX///9ERESYmJhUVFQyMjKq\n",
       "qqrc3NwQEBC6urru7u52dnYiIiJmZmaIiIgAAAD/UVazAAAAAXRSTlMAQObYZgAAAAlwSFlzAAAO\n",
       "xAAADsQBlSsOGwAAADlJREFUCNdjYGC4wwAEuxjQAeedCwwMXBwFDAypPA4MDBP4gFyGuAlAwhkk\n",
       "+5SLgYHjQRKQKavAAAAx5QmdfgFqMAAAAABJRU5ErkJggg==\n",
       "\" style=\"display:inline;vertical-align:middle;\" /></a> : <a class=\"ProveItLink\" href=\"../__pv_it/f086f8c372bd40a2458306ddfdbb29f3dc6f63030/expr.ipynb\"><img src=\"data:image/png;base64,iVBORw0KGgoAAAANSUhEUgAAAAgAAAAOBAMAAADgeEClAAAAIVBMVEX///8QEBBERESIiIgyMjJm\n",
       "ZmZUVFTu7u4iIiLMzMwAAAAWRytzAAAAAXRSTlMAQObYZgAAAAlwSFlzAAAOxAAADsQBlSsOGwAA\n",
       "ABtJREFUCNdjYOBsZ2AoC1nOwMDATBbBprgiGQBsuwqCZsDj4wAAAABJRU5ErkJggg==\n",
       "\" style=\"display:inline;vertical-align:middle;\" /></a>, <a class=\"ProveItLink\" href=\"../../../__pv_it/6a5b5879f51878868f626bf09e4d76392d4779cd0/expr.ipynb\"><img src=\"data:image/png;base64,iVBORw0KGgoAAAANSUhEUgAAAAoAAAASBAMAAACQmVJ4AAAAMFBMVEX///9UVFS6urp2dnYiIiKq\n",
       "qqrc3NyYmJgQEBBmZmYyMjKIiIju7u5ERETMzMwAAAC4hZuzAAAAAXRSTlMAQObYZgAAAAlwSFlz\n",
       "AAAOxAAADsQBlSsOGwAAAEtJREFUCNdjYGBg4LsDJBi4FzBgA6f3gsgJHAUMDOwJ/AEgTvwBEDkF\n",
       "LO0MItg+gUj2DyCS8QKI5NgAZAXUAxW+D3AF8jl3KjAwAACAGg5QwkhbIAAAAABJRU5ErkJggg==\n",
       "\" style=\"display:inline;vertical-align:middle;\" /></a> : <a class=\"ProveItLink\" href=\"../__pv_it/bcb6bc33e5975ec2290a3272bf7802d26ab8421d0/expr.ipynb\"><img src=\"data:image/png;base64,iVBORw0KGgoAAAANSUhEUgAAAAoAAAAOBAMAAADkjZCYAAAAMFBMVEX///8QEBDMzMy6urpUVFRE\n",
       "RESYmJgiIiLu7u6qqqoyMjLc3NxmZmaIiIh2dnYAAABjjC/7AAAAAXRSTlMAQObYZgAAAAlwSFlz\n",
       "AAAOxAAADsQBlSsOGwAAAFdJREFUCNdjYOB7e5qBgWElQ/sGBrYCBr4ABlYHBs4fDPwHGJh/MvQD\n",
       "yW8M+x8wMP0Fk/8Y+h8wMP8FyXL+ZGANYGD7wcAmwMCzgIGhkqFRgYGh764TAwAMEBgt0IBciQAA\n",
       "AABJRU5ErkJggg==\n",
       "\" style=\"display:inline;vertical-align:middle;\" /></a></span></td></tr><tr><td><a name=\"-0x16f42b08627251c7_step8\">8</a></td><td>instantiation</td><td><a href=\"#-0x16f42b08627251c7_step13\">13</a>, <a href=\"#-0x16f42b08627251c7_step14\">14</a></td><td><span style=\"font-size:20px;\"> <a class=\"ProveItLink\" href=\"__pv_it/fcc4684f0376c451ae981c5af1edfb29dadd394a0/proof.ipynb\" style=\"text-decoration: none\">&#x22A2;&nbsp;</a><a class=\"ProveItLink\" href=\"__pv_it/3f0063bd490178fee20159a518f5189fa98286d10/expr.ipynb\"><img src=\"data:image/png;base64,iVBORw0KGgoAAAANSUhEUgAAAMkAAAAVBAMAAAAeFNdiAAAAMFBMVEX////MzMxUVFREREQiIiK6\n",
       "uroQEBCYmJhmZmYyMjLu7u52dnaqqqqIiIjc3NwAAACFAiZ1AAAAAXRSTlMAQObYZgAAAAlwSFlz\n",
       "AAAOxAAADsQBlSsOGwAAAtxJREFUSMetVU1oE0EU/tbsJs3s5gcPvWmrJw+CQc+tNRQpWDRgLyLS\n",
       "qlSkgqxQTC9tQxGKVCX0oEULBhRBihgUkVJa9tSLQkNPrTSwiKC36kVTW4tvZpN0M5MGkT422Xzf\n",
       "2zffvJ+dAHCxV1ZvpajHRpw9U7lUh1vz2A+AOf+gxiPjf7G5Fbfehq28YFkWmMbzmmRlrFheYcIO\n",
       "Ows8VviXEGyTjVAHzITPI2O11hmFGgTeAkMKPw7BBoFAK6zfPo+MFYuoKseBpRyCOZnvow+xF4BY\n",
       "BsaWzyNjxVpUlRLQ6yBsS7SR5dW0MQG8plV/+VwVbJxem3Wj91fQc2NojOK/FTMIFedy1rHkURwY\n",
       "XvWFMK5iw2yVVJp4B4l9BKznof3xuao4dm/dbnYjWVxLsS5oN7GKRbcpCz0DloDu79QmZVhAiG8d\n",
       "dzq5JeGlAc52e6tuSioC6x0MXcAWJqnqKVo75iy6xjZXMQZgyip5WB1SLjqfbWL7qUJ5GP5cqjjc\n",
       "Co1K9wRTvIwtNsJ5sItCBefa/MPOSKW3AO27pBJM0Rex/aLbltR9D4fpRymdvsVVYoml8XQ6zsY+\n",
       "eiozT0tS95ccGH31VIidpslNIFQzyRVMW9eEnJcLz34xpXEVM5pjo3FfzAlgNFeumL8v5Yq1UXf6\n",
       "QC3dGXUPeyq4QnsRfYkHaYBS12FsHwxnTKuAfZWx5ZG3gbsUKb/MgQIE+4Zu3XgRZxu8vBv8Elj0\n",
       "jirTnMICHrrsDLR+mG4JkR8jZta0BhBwvcdFpO6wyzS4BUlFjDaxPXSbKR4COvmWusQlMOVw8qqD\n",
       "6JE5F5PDy1TgzxML2L/2abaAwwvG++K7yuM8ks0v08Z0+fgzeAmJ1SvVtXK7v+xTDc/Oncgviu+U\n",
       "x4Yqp4WJ/1Uxa87GWhsqs+1l/KrBOsmGKtXIqHqSB1yPfVbG9u7LnP/Z3kilGhlQi04nkWCj9p79\n",
       "I4/U4b5y9i9Tw+EvkZx5UwAAAABJRU5ErkJggg==\n",
       "\" style=\"display:inline;vertical-align:middle;\" /></a></span></td></tr>\n",
       "<tr><td>&nbsp;</td><td colspan=4 style=\"text-align:left\"><span style=\"font-size:20px;\"><a class=\"ProveItLink\" href=\"__pv_it/ac406608e4c1a110d279c13e6aa03c833d5f65d00/expr.ipynb\"><img src=\"data:image/png;base64,iVBORw0KGgoAAAANSUhEUgAAACAAAAAVBAMAAADV4/HZAAAAMFBMVEX///8yMjLc3NyIiIiYmJgi\n",
       "IiJERES6urqqqqoQEBDMzMxUVFTu7u52dnZmZmYAAAD1zdHuAAAAAXRSTlMAQObYZgAAAAlwSFlz\n",
       "AAAOxAAADsQBlSsOGwAAAOtJREFUGNNjYIACJjgBBRYggt0AzOa7e4CB4wIDA/MDiDDD7ZUNDAeB\n",
       "NOsFBsYDIIEZZQcYnkA0sjwAafwDJCZAjZoDxLwBQEEBqIAIUNXO6AcMfEAzDz8GmQfE/EC7GB0Y\n",
       "GC5UAjmOQKy/AGhBAwNTw0MgpxWI+4GYs4CBh+EzkLEeiK9CBBg4QLaBtGUDMWMDEG+AapkMxGxA\n",
       "g883AK1yA/rwF8gtQNl6JqBVQKs5PoBcC3QcmwmQEQT0K0grQxQ0VAIYukHmMTD4QQT4HBjCDoJZ\n",
       "bApgSo2BwfkRmMWTAKZyEEGoAg4OBQYAf4IwGsZHaVIAAAAASUVORK5CYII=\n",
       "\" style=\"display:inline;vertical-align:middle;\" /></a> : <a class=\"ProveItLink\" href=\"../__pv_it/bcb6bc33e5975ec2290a3272bf7802d26ab8421d0/expr.ipynb\"><img src=\"data:image/png;base64,iVBORw0KGgoAAAANSUhEUgAAAAoAAAAOBAMAAADkjZCYAAAAMFBMVEX///8QEBDMzMy6urpUVFRE\n",
       "RESYmJgiIiLu7u6qqqoyMjLc3NxmZmaIiIh2dnYAAABjjC/7AAAAAXRSTlMAQObYZgAAAAlwSFlz\n",
       "AAAOxAAADsQBlSsOGwAAAFdJREFUCNdjYOB7e5qBgWElQ/sGBrYCBr4ABlYHBs4fDPwHGJh/MvQD\n",
       "yW8M+x8wMP0Fk/8Y+h8wMP8FyXL+ZGANYGD7wcAmwMCzgIGhkqFRgYGh764TAwAMEBgt0IBciQAA\n",
       "AABJRU5ErkJggg==\n",
       "\" style=\"display:inline;vertical-align:middle;\" /></a>, <a class=\"ProveItLink\" href=\"../../../__pv_it/557ab5defdcd46aa58168b08767502985122cd490/expr.ipynb\"><img src=\"data:image/png;base64,iVBORw0KGgoAAAANSUhEUgAAAAcAAAAOBAMAAAARcxsoAAAALVBMVEX///9ERESYmJhUVFQyMjKq\n",
       "qqrc3NwQEBC6urru7u52dnYiIiJmZmaIiIgAAAD/UVazAAAAAXRSTlMAQObYZgAAAAlwSFlzAAAO\n",
       "xAAADsQBlSsOGwAAADlJREFUCNdjYGC4wwAEuxjQAeedCwwMXBwFDAypPA4MDBP4gFyGuAlAwhkk\n",
       "+5SLgYHjQRKQKavAAAAx5QmdfgFqMAAAAABJRU5ErkJggg==\n",
       "\" style=\"display:inline;vertical-align:middle;\" /></a> : <a class=\"ProveItLink\" href=\"../__pv_it/f086f8c372bd40a2458306ddfdbb29f3dc6f63030/expr.ipynb\"><img src=\"data:image/png;base64,iVBORw0KGgoAAAANSUhEUgAAAAgAAAAOBAMAAADgeEClAAAAIVBMVEX///8QEBBERESIiIgyMjJm\n",
       "ZmZUVFTu7u4iIiLMzMwAAAAWRytzAAAAAXRSTlMAQObYZgAAAAlwSFlzAAAOxAAADsQBlSsOGwAA\n",
       "ABtJREFUCNdjYOBsZ2AoC1nOwMDATBbBprgiGQBsuwqCZsDj4wAAAABJRU5ErkJggg==\n",
       "\" style=\"display:inline;vertical-align:middle;\" /></a>, <a class=\"ProveItLink\" href=\"../../../__pv_it/6a5b5879f51878868f626bf09e4d76392d4779cd0/expr.ipynb\"><img src=\"data:image/png;base64,iVBORw0KGgoAAAANSUhEUgAAAAoAAAASBAMAAACQmVJ4AAAAMFBMVEX///9UVFS6urp2dnYiIiKq\n",
       "qqrc3NyYmJgQEBBmZmYyMjKIiIju7u5ERETMzMwAAAC4hZuzAAAAAXRSTlMAQObYZgAAAAlwSFlz\n",
       "AAAOxAAADsQBlSsOGwAAAEtJREFUCNdjYGBg4LsDJBi4FzBgA6f3gsgJHAUMDOwJ/AEgTvwBEDkF\n",
       "LO0MItg+gUj2DyCS8QKI5NgAZAXUAxW+D3AF8jl3KjAwAACAGg5QwkhbIAAAAABJRU5ErkJggg==\n",
       "\" style=\"display:inline;vertical-align:middle;\" /></a> : <a class=\"ProveItLink\" href=\"../__pv_it/bcb6bc33e5975ec2290a3272bf7802d26ab8421d0/expr.ipynb\"><img src=\"data:image/png;base64,iVBORw0KGgoAAAANSUhEUgAAAAoAAAAOBAMAAADkjZCYAAAAMFBMVEX///8QEBDMzMy6urpUVFRE\n",
       "RESYmJgiIiLu7u6qqqoyMjLc3NxmZmaIiIh2dnYAAABjjC/7AAAAAXRSTlMAQObYZgAAAAlwSFlz\n",
       "AAAOxAAADsQBlSsOGwAAAFdJREFUCNdjYOB7e5qBgWElQ/sGBrYCBr4ABlYHBs4fDPwHGJh/MvQD\n",
       "yW8M+x8wMP0Fk/8Y+h8wMP8FyXL+ZGANYGD7wcAmwMCzgIGhkqFRgYGh764TAwAMEBgt0IBciQAA\n",
       "AABJRU5ErkJggg==\n",
       "\" style=\"display:inline;vertical-align:middle;\" /></a></span></td></tr><tr><td><a name=\"-0x16f42b08627251c7_step9\">9</a></td><td>instantiation</td><td><a href=\"#-0x16f42b08627251c7_step15\">15</a>, <a href=\"#-0x16f42b08627251c7_step16\">16</a>, <a href=\"#-0x16f42b08627251c7_step17\">17</a>, <a href=\"#-0x16f42b08627251c7_step18\">18</a>, <a href=\"#-0x16f42b08627251c7_step19\">19</a>, <a href=\"#-0x16f42b08627251c7_step20\">20</a>, <a href=\"#-0x16f42b08627251c7_step21\">21</a>, <a href=\"#-0x16f42b08627251c7_step22\">22</a>, <a href=\"#-0x16f42b08627251c7_step23\">23</a>, <a href=\"#-0x16f42b08627251c7_step24\">24</a></td><td><span style=\"font-size:20px;\"><a class=\"ProveItLink\" href=\"__pv_it/6915cbe9259991d4fa1e6d79c9c08cb6aa9034720/expr.ipynb\"><img src=\"data:image/png;base64,iVBORw0KGgoAAAANSUhEUgAAAgUAAAAVBAMAAAAk+4CMAAAAMFBMVEX///8QEBBERERUVFTMzMyY\n",
       "mJjc3NxmZmYiIiJ2dnaqqqoyMjKIiIi6urru7u4AAAAvZeGPAAAAAXRSTlMAQObYZgAAAAlwSFlz\n",
       "AAAOxAAADsQBlSsOGwAABCpJREFUWMPFWFtoVFcUXTOTuZk7mTmmD0ECpqnVIvggYKUqYiKhiF9O\n",
       "v9qP0gwtGgUht/hxwUEaWqrxPT4gBgXnqyBIEyuUUqiN9SOIIAE/ShHJpYIiCPHVqhnN7XmfO48M\n",
       "+ZCcAzmzZp+971qzzz6PGwDkDuq1WcxvrDk/Nh6fF34l4sZPdX1mMTdsTcC9aqovZ3PuWd3wWfPD\n",
       "L0SkZ1jwsWoPbh4ez6unK4e+wlKJdg2t0t5bxEes/Kvyc4dPi+eEYfhYmB5c3ycHm/1NtP/ACPV/\n",
       "7rbEzzt3ALhbmKnOATO3lMh+8U07OJ04PyFq1UNvSXl/Lz5Sxw8G0u8o1onnXPb9Q8LmISECyBFs\n",
       "pj/ujCb7Gu5rS/xnFBkydXPwOXBSflUOiQCxVmGZxtSoGpUaEjq8xcMSkXKqx+MomQMRAYlWxL1o\n",
       "DuisvGWJv04O/hwcHNUaaJ2MBJUaYjNI/MdRdjEWKA2fXK7WoOKQ1la3Q2mgce6jaA7eC9CVt8Nf\n",
       "m4PbN6Pz8ByYLFXNwwASzzRRToJijYZLkSkVCxPZJ0GzCJjqQOZZNAe0bLu67fDX5MC5Eq1FwjTk\n",
       "KjWwRfdIguwPqhTzSsMX43JvK28dn1AbXocEXa/2Qs/D62gOaDtuiZ93zaOGoiWvmajZeQlsG6vR\n",
       "oExN1z6Slu2QGuKBI/Y2Us6hTY4mlBg3/AV6Pf4LXI2eaq8s8fOuPxfJgRFFzVxDsUbDAbPoZKEW\n",
       "lQbalgsNIfCNXJL9aujCV6Hc0hejZ5oOlAxdyrPEz7qeoxGKzYO08dJhZkI1TNbMQ7On+WLCmMxH\n",
       "NHwrpvIF0Cvzf1aOJD2MtAt4//pFuh6dFSYJvi1+1pFCYCj+MTdVZn5uUm00fKaqtxvxaY52Q2lY\n",
       "QTWIBXmYapBL+TulOIAzrX8JfZ77u6ZLerb4eRfvNBQpU4vMTE/Y3qqzCekidojNdUZpuLVmzeP1\n",
       "HC2iG48uSTkP5KmMnKJ/a/X5TWd7xKz+C3Dydvh5Fz0XMmMVd5RPgQKI1sDRVuAmmLBYJ6tFKfEd\n",
       "cEQX79vCbZKuR4GydDZFAGX7kKN0O/rpdJ3goczQVEQmsMN/ouZ+8FuFhlSJvCsvY8yBIeeAv2eA\n",
       "lMW1ayTHEW1PwFEfMu0iIF4kbQKlX0IMZq8gOcZR5hiWqWOJG3b6/jpL/Pp+kHj/xUZxL18VRDSQ\n",
       "c9e6kWJvIdyBoRb6CjKKQeb1l0/fWThCIVzJkeN/HIgADO2RoQ47o7hbj79PouGhCUXPDX+EYdkS\n",
       "v7kj6fb38shdVTTzDqtROmiE5hggcxAx2OCvk4OKWlSnbw1y0QjNMUDmwIVVft5lWutq0Gai9ymD\n",
       "HqIBmmsA3e+qDDb4eUfa6v8rS5mT5hDXKNcIzTWALKwy2OCXIvo21BUxi/mNtaZTpYbj88LPu/8B\n",
       "rghQZ8v24aAAAAAASUVORK5CYII=\n",
       "\" style=\"display:inline;vertical-align:middle;\" /></a> <a class=\"ProveItLink\" href=\"__pv_it/6964b832403c4b562629d604542153fec2771c8b0/proof.ipynb\" style=\"text-decoration: none\">&#x22A2;&nbsp;</a><a class=\"ProveItLink\" href=\"__pv_it/c780576697e14ec7e7e0ffd864f3b2845bae4b020/expr.ipynb\"><img src=\"data:image/png;base64,iVBORw0KGgoAAAANSUhEUgAAAKMAAAAVBAMAAADY0UPbAAAAMFBMVEX///8QEBCIiIiYmJjc3Nwi\n",
       "IiLMzMy6urpmZmZ2dnaqqqoyMjJUVFTu7u5EREQAAACQpWb0AAAAAXRSTlMAQObYZgAAAAlwSFlz\n",
       "AAAOxAAADsQBlSsOGwAAAgxJREFUOMuNlc1LQkEQwMd8X2lGHqJT6C3okkQHIYgH4S3CoO0QRV6C\n",
       "blkQBF2kKIwu/gEeJOjgTegWlBIUXSrvhVh0DSKIDhE2sy9fb3X30cDuc2Znf29nZt8I8Cc2eEUD\n",
       "hdh+i6L0lAR1VOW3icOM+7P6IVLDRxnHar1tDBUAjOVOV7LwV3e/kJa0/EWGKw98f6QCkZuqi3wA\n",
       "eDz67tjmWM5xhOuypRno/eRaGawsgJXAn2Ou5x6loo00E+3kkCWJI5jryhsu3QJEuXIAOs4BEJAD\n",
       "XmQo7kUGyGlYhozV4Z4XOQ0NnHcEpFlRI8N05lMZ8grgnpKpNWEcH4cC0iqokb1UzKIMibJCUzAO\n",
       "1+3Xukh+EgUySBFMkrrPSJY8SOOdrCuMfbAKLApIvaRGhtI4nchPqfOyhcGk55CADGRdL4uxuUHG\n",
       "au4+4w2ndTkyz38fg5XxQ3ad0qTbsCFF8ru1z6IUegXOxFz+K/CuXJZBs/kdWiPTs4Dsj/uUp4nT\n",
       "lOyURgF6kGDknA+2KCD5RVEgLdJ2ZchUPn9Fm0v8o4UtHHexpd/NJgbX9/RxKSIdi06xzXcQ+VK1\n",
       "1fpyGkCalz8juCx4lZDQy1L0faR9Wpvu3KHORpD0Km7bcDuKlfBBblPoJC9iE7VVGzSqzqxfAx6B\n",
       "PqcmDcEcaSo7Nrm//uuPQhNjmVb5TVCWbDXnB1Snmtt4lFbdAAAAAElFTkSuQmCC\n",
       "\" style=\"display:inline;vertical-align:middle;\" /></a></span></td></tr>\n",
       "<tr><td>&nbsp;</td><td colspan=4 style=\"text-align:left\"><span style=\"font-size:20px;\"><a class=\"ProveItLink\" href=\"../../../__pv_it/6e8a38e9a7e2b6af352562cd77e0eb4751f142620/expr.ipynb\"><img src=\"data:image/png;base64,iVBORw0KGgoAAAANSUhEUgAAABIAAAAJBAMAAADN8WE8AAAAMFBMVEX///8iIiIyMjJmZmYQEBCq\n",
       "qqqYmJju7u5ERETMzMyIiIjc3NxUVFR2dna6uroAAACULOzSAAAAAXRSTlMAQObYZgAAAAlwSFlz\n",
       "AAAOxAAADsQBlSsOGwAAAGNJREFUCNdj4Luz+9Ypzlt9DAy8HF0M9XkMIQwM81gaGPZfYMhnYCio\n",
       "f8AQX8BwgoGBIZ6BwYiBwQvIOsTAIMvA95udgcGXgf0fA4/CVgbunwxsHxiYLlxg4BNg4DJgYLXa\n",
       "AAB/WBcBafZ/twAAAABJRU5ErkJggg==\n",
       "\" style=\"display:inline;vertical-align:middle;\" /></a> : <a class=\"ProveItLink\" href=\"../__pv_it/f086f8c372bd40a2458306ddfdbb29f3dc6f63030/expr.ipynb\"><img src=\"data:image/png;base64,iVBORw0KGgoAAAANSUhEUgAAAAgAAAAOBAMAAADgeEClAAAAIVBMVEX///8QEBBERESIiIgyMjJm\n",
       "ZmZUVFTu7u4iIiLMzMwAAAAWRytzAAAAAXRSTlMAQObYZgAAAAlwSFlzAAAOxAAADsQBlSsOGwAA\n",
       "ABtJREFUCNdjYOBsZ2AoC1nOwMDATBbBprgiGQBsuwqCZsDj4wAAAABJRU5ErkJggg==\n",
       "\" style=\"display:inline;vertical-align:middle;\" /></a>, <a class=\"ProveItLink\" href=\"../../../__pv_it/0c1c4cb515e0f4344b1ac06650f349123e526deb0/expr.ipynb\"><img src=\"data:image/png;base64,iVBORw0KGgoAAAANSUhEUgAAAAwAAAAJBAMAAAD0ltBnAAAALVBMVEX///8iIiIyMjKqqqqYmJgQ\n",
       "EBDMzMzu7u5ERESIiIjc3NxUVFR2dna6uroAAABc6vguAAAAAXRSTlMAQObYZgAAAAlwSFlzAAAO\n",
       "xAAADsQBlSsOGwAAAEdJREFUCNdj4D296uROBgYejk6GugUMuawNDOsSGArqLjD4MTAw2DEw7ABS\n",
       "mxgYnrAzMMQwMD/gYeB6xsCj4MXAK8DA1WIAACOEDusgYYkuAAAAAElFTkSuQmCC\n",
       "\" style=\"display:inline;vertical-align:middle;\" /></a> : <a class=\"ProveItLink\" href=\"../__pv_it/fb4ccffdbfd0f653ebaacb95e7ff4802fd48a6f20/expr.ipynb\"><img src=\"data:image/png;base64,iVBORw0KGgoAAAANSUhEUgAAAAkAAAAOBAMAAAAPuiubAAAAMFBMVEX///+qqqqYmJiIiIgiIiIQ\n",
       "EBDu7u66urp2dnZUVFTMzMxEREQyMjJmZmbc3NwAAADG9xhMAAAAAXRSTlMAQObYZgAAAAlwSFlz\n",
       "AAAOxAAADsQBlSsOGwAAAE9JREFUCNdj4Lt7egEDw0sGju8MDNMYGEIZGOITGOY/YJjCwDAfKMHA\n",
       "4A8iuD6DSJYLIPIuiGACMyUY+B4wcDUwMCcwPLl7F6jl/P//fxgAW7YV+O4aX5IAAAAASUVORK5C\n",
       "YII=\n",
       "\" style=\"display:inline;vertical-align:middle;\" /></a>, <a class=\"ProveItLink\" href=\"../../../__pv_it/273f49450ca25e1b56abbd98a7aef618f8f6c1360/expr.ipynb\"><img src=\"data:image/png;base64,iVBORw0KGgoAAAANSUhEUgAAAAoAAAAOBAMAAADkjZCYAAAAMFBMVEX////MzMzc3NyYmJiIiIhU\n",
       "VFR2dna6urqqqqpmZmYyMjIiIiIQEBBERETu7u4AAADM1VnsAAAAAXRSTlMAQObYZgAAAAlwSFlz\n",
       "AAAOxAAADsQBlSsOGwAAAE9JREFUCNdj4LuzgQEIuCaASP4GEFn/AETmgAiGpQwt8xj4PnM0HWbg\n",
       "+FTBuIiB87AAUJh7ZSKQfF9QD+TYM7xvcGCIZXgvkMBwg4FlygMA76IUkutkA5UAAAAASUVORK5C\n",
       "YII=\n",
       "\" style=\"display:inline;vertical-align:middle;\" /></a> : <a class=\"ProveItLink\" href=\"../__pv_it/bcb6bc33e5975ec2290a3272bf7802d26ab8421d0/expr.ipynb\"><img src=\"data:image/png;base64,iVBORw0KGgoAAAANSUhEUgAAAAoAAAAOBAMAAADkjZCYAAAAMFBMVEX///8QEBDMzMy6urpUVFRE\n",
       "RESYmJgiIiLu7u6qqqoyMjLc3NxmZmaIiIh2dnYAAABjjC/7AAAAAXRSTlMAQObYZgAAAAlwSFlz\n",
       "AAAOxAAADsQBlSsOGwAAAFdJREFUCNdjYOB7e5qBgWElQ/sGBrYCBr4ABlYHBs4fDPwHGJh/MvQD\n",
       "yW8M+x8wMP0Fk/8Y+h8wMP8FyXL+ZGANYGD7wcAmwMCzgIGhkqFRgYGh764TAwAMEBgt0IBciQAA\n",
       "AABJRU5ErkJggg==\n",
       "\" style=\"display:inline;vertical-align:middle;\" /></a>, <a class=\"ProveItLink\" href=\"../../../__pv_it/a8d4b3a34d2189508f9082853fbac36935714f280/expr.ipynb\"><img src=\"data:image/png;base64,iVBORw0KGgoAAAANSUhEUgAAAAsAAAAJBAMAAAAWSsseAAAAMFBMVEX////MzMxUVFQyMjKqqqoi\n",
       "IiKYmJju7u5EREQQEBC6urqIiIh2dnZmZmbc3NwAAAD0tjQRAAAAAXRSTlMAQObYZgAAAAlwSFlz\n",
       "AAAOxAAADsQBlSsOGwAAAEdJREFUCNdjYOC7s28DAwPDygcc3xkY2Kcx8AYwMPB+Z2A9wMDA2cBQ\n",
       "v4CBof4AQz5QRb0DQzPLAwbmDWyxPECV2gcfbWQAABp5EMgcedARAAAAAElFTkSuQmCC\n",
       "\" style=\"display:inline;vertical-align:middle;\" /></a> : <a class=\"ProveItLink\" href=\"__pv_it/a7e2f39b35c771671d9c9cd6ecbccdae3d758ace0/expr.ipynb\"><img src=\"data:image/png;base64,iVBORw0KGgoAAAANSUhEUgAAABcAAAAVBAMAAABfzGiYAAAAMFBMVEX////MzMxUVFREREQiIiK6\n",
       "uroQEBCYmJhmZmYyMjLu7u52dnaqqqqIiIjc3NwAAACFAiZ1AAAAAXRSTlMAQObYZgAAAAlwSFlz\n",
       "AAAOxAAADsQBlSsOGwAAAJRJREFUGNNjYGB4wAAGYIr3AIQTCyJOAzGjF0SQawIDw6LOX0CRWQwM\n",
       "HAUgpSBOBQMDGwOMw7aAIRLO4Sxg6IZzuBUYpsM57BMYfOAcHgeGVDiH8QMShzWBYQ6yMluEAQYM\n",
       "m+AcjgsMIUCKyeyLLgMDywMGFgEGKHgCVNkA47QDsR2UzWcAJBZDOcwLQCIFEE4dAwMAQHUkuf33\n",
       "R4cAAAAASUVORK5CYII=\n",
       "\" style=\"display:inline;vertical-align:middle;\" /></a>, <a class=\"ProveItLink\" href=\"../../../__pv_it/53e304ff98ebc000dbe3ef224f4637dbafd46ba70/expr.ipynb\"><img src=\"data:image/png;base64,iVBORw0KGgoAAAANSUhEUgAAAAkAAAAOBAMAAAAPuiubAAAALVBMVEX///+YmJjc3NyIiIhUVFR2\n",
       "dna6urqqqqpmZmYyMjIiIiIQEBBERETu7u4AAAALjtrwAAAAAXRSTlMAQObYZgAAAAlwSFlzAAAO\n",
       "xAAADsQBlSsOGwAAAE5JREFUCNdj4D29gAEIOBtAJF8BiMy7ACKjQATDFON2BgbelxfuKTCwv2Xg\n",
       "M2DgmMBwLwCkPK+AgU+Aoe8CA18C70YGBhYBHqARvM1A5QCqGhDobJhHyAAAAABJRU5ErkJggg==\n",
       "\" style=\"display:inline;vertical-align:middle;\" /></a> : <a class=\"ProveItLink\" href=\"__pv_it/2f8cc564007138fd01fcf821e98b27f1c7a1bfcb0/expr.ipynb\"><img src=\"data:image/png;base64,iVBORw0KGgoAAAANSUhEUgAAACkAAAAVBAMAAAAp9toTAAAAMFBMVEX////MzMxUVFREREQiIiK6\n",
       "uroQEBCYmJhmZmYyMjLu7u52dnaqqqqIiIjc3NwAAACFAiZ1AAAAAXRSTlMAQObYZgAAAAlwSFlz\n",
       "AAAOxAAADsQBlSsOGwAAAMBJREFUGNNjYGB4wIAKwHzeA2iisSDiNBCLLICKMHpBlHFNYODSmA8V\n",
       "XdT5C0jOYmDgKADS92FqeUGiFQwMbAwYomwLGCIxRTkLGLoxRbkVGKZjirJPYPDBFOVxYEjFFGX8\n",
       "gE2UNYFhDlYTbGGiCxC2GTBsgopy/YSLclxgCAFSyvlOFxhcgIqZzL7oMjCwPGBgEYAayQMzm+EJ\n",
       "0JAGKJsbHsDtQGwHZa+FCfIZAInFUE4BTJQZZBRfAVoM1TEwAABFTT1S2FC9agAAAABJRU5ErkJg\n",
       "gg==\n",
       "\" style=\"display:inline;vertical-align:middle;\" /></a>, <a class=\"ProveItLink\" href=\"../../../__pv_it/b2b446b221a34ee579eb9a1fbdd4ac4e2891d8c70/expr.ipynb\"><img src=\"data:image/png;base64,iVBORw0KGgoAAAANSUhEUgAAAAkAAAAJBAMAAAASvxsjAAAAKlBMVEX///+6urqYmJju7u4QEBBE\n",
       "RERmZmaqqqoiIiLc3NzMzMyIiIh2dnYAAACSkFDuAAAAAXRSTlMAQObYZgAAAAlwSFlzAAAOxAAA\n",
       "DsQBlSsOGwAAADhJREFUCNdjYGA4vWcBA8OMArYABoYeBpYNDGyXGYCAJQBE2h4AkbwKDAwCDGwJ\n",
       "DDxAlWd2b2YAACirCnk+94p2AAAAAElFTkSuQmCC\n",
       "\" style=\"display:inline;vertical-align:middle;\" /></a> : <a class=\"ProveItLink\" href=\"../__pv_it/fb4ccffdbfd0f653ebaacb95e7ff4802fd48a6f20/expr.ipynb\"><img src=\"data:image/png;base64,iVBORw0KGgoAAAANSUhEUgAAAAkAAAAOBAMAAAAPuiubAAAAMFBMVEX///+qqqqYmJiIiIgiIiIQ\n",
       "EBDu7u66urp2dnZUVFTMzMxEREQyMjJmZmbc3NwAAADG9xhMAAAAAXRSTlMAQObYZgAAAAlwSFlz\n",
       "AAAOxAAADsQBlSsOGwAAAE9JREFUCNdj4Lt7egEDw0sGju8MDNMYGEIZGOITGOY/YJjCwDAfKMHA\n",
       "4A8iuD6DSJYLIPIuiGACMyUY+B4wcDUwMCcwPLl7F6jl/P//fxgAW7YV+O4aX5IAAAAASUVORK5C\n",
       "YII=\n",
       "\" style=\"display:inline;vertical-align:middle;\" /></a>, <a class=\"ProveItLink\" href=\"../../../__pv_it/445e790c2b62732eb8597a2ddda4cbd1a8fb79140/expr.ipynb\"><img src=\"data:image/png;base64,iVBORw0KGgoAAAANSUhEUgAAAAsAAAAOBAMAAAALT/umAAAAMFBMVEX///9UVFSYmJhERESIiIjc\n",
       "3NwiIiJ2dnbu7u66urqqqqpmZmYQEBAyMjLMzMwAAAAJQA1gAAAAAXRSTlMAQObYZgAAAAlwSFlz\n",
       "AAAOxAAADsQBlSsOGwAAAFpJREFUCNdjYGBg4LuzgQEE+BeAqfkNYKoMTDLcBmLW7X6/gNScAOYf\n",
       "DAwchxi4LzAwcP9gYCtgYOAxYOifwMDQX8CgD1TRv4DBliuAgdeBKZsdqFKkLtCPAQBT/hIMxxSb\n",
       "NAAAAABJRU5ErkJggg==\n",
       "\" style=\"display:inline;vertical-align:middle;\" /></a> : <a class=\"ProveItLink\" href=\"__pv_it/30d23d36f0994fc28429b458d9f08265f0433d5f0/expr.ipynb\"><img src=\"data:image/png;base64,iVBORw0KGgoAAAANSUhEUgAAAAwAAAAVBAMAAACAghKHAAAAMFBMVEX////MzMxUVFREREQiIiK6\n",
       "uroQEBCYmJhmZmYyMjLu7u52dnaqqqqIiIjc3NwAAACFAiZ1AAAAAXRSTlMAQObYZgAAAAlwSFlz\n",
       "AAAOxAAADsQBlSsOGwAAAHRJREFUCNdjYGB4wMcABLwHWC8AqdMMDHcYGLgmMDBwLmDgKGBgYG9g\n",
       "YAPJZzFEgqjpDN0gahOQAQSVDD4g6ghDKoiSh1BhDHMggrYgqhioFgh6GUJAlB8DiwADA58DyFiw\n",
       "8XYMDI+B4osZGKyAFF8B+wMGAFwSFSv4L9l8AAAAAElFTkSuQmCC\n",
       "\" style=\"display:inline;vertical-align:middle;\" /></a></span></td></tr><tr><td><a name=\"-0x16f42b08627251c7_step10\">10</a></td><td>theorem</td><td></td><td><span style=\"font-size:20px;\"> <a class=\"ProveItLink\" href=\"../../ordering/_proofs_/transitivityLessEqLess.ipynb\" style=\"text-decoration: none\">&#x22A2;&nbsp;</a><a class=\"ProveItLink\" href=\"../../ordering/__pv_it/c805274d3911f031585700126a00b0f425c2045c0/expr.ipynb\"><img src=\"data:image/png;base64,iVBORw0KGgoAAAANSUhEUgAAANEAAAAXBAMAAABnpbd1AAAAMFBMVEX///+IiIgiIiIQEBB2dnbu\n",
       "7u5UVFTMzMzc3NwyMjK6urpmZmaYmJiqqqpEREQAAACk/Np2AAAAAXRSTlMAQObYZgAAAAlwSFlz\n",
       "AAAOxAAADsQBlSsOGwAAAsdJREFUSMetVU1oE1EQ/pLuX7fZdAuhCEVtixD8OQQRpAdhBYOItKwQ\n",
       "Ra2HFAz0UCS2JYIHDfYHtB7iQewlUEUULxW9GKSHFC9FUXIRDy2SHoRWrMSD1KPz9i/bXTdU2AfJ\n",
       "N2/nvfnem5k3A4Q3pGBVEaGOvcGqx/SrM2EtDCJFC9ZFasBbJsyHwXSplfIhUGAOrofBtNRK+QFo\n",
       "1wGuFgZTyufOR025TUesSmxhEMklz4fYYb05aSeao/39x8Jg6qCE4Ltyk4N2EhywiMaTUhVcFngD\n",
       "fAva/D9M7NQd6FZfm9NMn614MNRDF6Qbz0LKBmyO73T7RkumKAV7BfuLY8Zs7ojznnXQbZVeMqdz\n",
       "C7thUtb9C1yBQBtZyWPTnAhll2aYlokNsqAGJoSbKfbDr5/LeZiAX34mib1omWVmaZn+uipnqTbJ\n",
       "3ab18fnnTaZIz3QFkS2jqGSNmmJBYZTOevBe3ooTeyryH5z3eI8qEW96D4P0fiPFa2wl16lPMOXp\n",
       "Sa3JtEeol8UThqj9FlMOLFZI5G6csh2ggv8uNKB5MkKuQiCXsKNNUULEsC6SOPME+wz1tMt71bia\n",
       "x9c088Pl3kjdhsV00zdsUB4r28Mp2a4C5/rMKN4aSiQpK1Vmz7j+tvH5KkYYiKo7Tp1sgWFY0ATV\n",
       "AuuWuO683F7wr9TVj83Img9KUwYoglGnb4gNo7scwnFz+4yL6bbRXgrkrOhCG2M1ILNlnkmyEzDp\n",
       "TZiYqxrdsYUprsQhQ6vlBoFUvpl1mKTUGdP3szlE8y/BawZQbFk23v3yzFVEd1F+L7w/mcZEDauf\n",
       "SgTclYGiw8SPPU3oVuNUljZBbmNgJX76ndNx4i0aq7db1PhinGpK7d81gsZFkHHFBF/V4Fv0nri+\n",
       "s9zogvqCQSDTCCvYn03wj/vBTCueCEJZ1hj4mcSfNDawlmBZb0KoQwrT2F+kKaDj91dB/AAAAABJ\n",
       "RU5ErkJggg==\n",
       "\" style=\"display:inline;vertical-align:middle;\" /></a></span></td></tr>\n",
       "<tr><td>&nbsp;</td><td colspan=4 style-\"text-align:left\"><a class=\"ProveItLink\" href=\"../../ordering/_proofs_/transitivityLessEqLess.ipynb\">proveit.number.ordering.transitivityLessEqLess</a></td></tr><tr><td><a name=\"-0x16f42b08627251c7_step11\">11</a></td><td>instantiation</td><td><a href=\"#-0x16f42b08627251c7_step25\">25</a>, <a href=\"#-0x16f42b08627251c7_step26\">26</a></td><td><span style=\"font-size:20px;\"> <a class=\"ProveItLink\" href=\"__pv_it/296b2c0f406b1c7057e70d3e5d34f0f803be2d550/proof.ipynb\" style=\"text-decoration: none\">&#x22A2;&nbsp;</a><a class=\"ProveItLink\" href=\"__pv_it/77208f854964b1bed8bf606f079f6098b6706e440/expr.ipynb\"><img src=\"data:image/png;base64,iVBORw0KGgoAAAANSUhEUgAAADAAAAARBAMAAABp3DInAAAAMFBMVEX///+6urrc3Nx2dnaYmJiq\n",
       "qqoQEBBERESIiIgyMjJmZmZUVFTu7u4iIiLMzMwAAAAVFzZeAAAAAXRSTlMAQObYZgAAAAlwSFlz\n",
       "AAAOxAAADsQBlSsOGwAAAJ5JREFUGNNjYOC7w4AODjcvZGA4vfIPklDkAxC5gIE7gIGBA0nCdw2I\n",
       "ZHFg4JmAItFrA6aYC1AleGwbIAzG7we4HBASPGsdYDr3/1jKgJBYGQA3kvn/JCSJnQiJYPX/AggJ\n",
       "JrhRLAsY4nOwWc52gIHpKzbnngfiLdg8yKbAwFCEKgEJEsY5DCwNDNxlf3egB+LrVQsZKAA8d8Hg\n",
       "AYwPAOWmNzOSxulJAAAAAElFTkSuQmCC\n",
       "\" style=\"display:inline;vertical-align:middle;\" /></a></span></td></tr>\n",
       "<tr><td>&nbsp;</td><td colspan=4 style=\"text-align:left\"><span style=\"font-size:20px;\"><a class=\"ProveItLink\" href=\"../../../__pv_it/72df168d2bfb4e0140af90912ebf83b13772060b0/expr.ipynb\"><img src=\"data:image/png;base64,iVBORw0KGgoAAAANSUhEUgAAAAsAAAAJBAMAAAAWSsseAAAAMFBMVEX///8QEBC6uroyMjJERETc\n",
       "3NyYmJgiIiJmZmaqqqp2dnbMzMxUVFSIiIju7u4AAAAoIwv1AAAAAXRSTlMAQObYZgAAAAlwSFlz\n",
       "AAAOxAAADsQBlSsOGwAAAENJREFUCNdjYHh75/WqCQwMDbxnOQoY2AJ4v/IkMHAzsBgwgAD/BTCl\n",
       "H8D3gOGJwnkGLgaG+fsaGTQZGF7c5WybwAAAJGsQ2L2rVEcAAAAASUVORK5CYII=\n",
       "\" style=\"display:inline;vertical-align:middle;\" /></a> : <a class=\"ProveItLink\" href=\"../__pv_it/7eb8117c0a5d387643495d33b46b16c30eb0e7cc0/expr.ipynb\"><img src=\"data:image/png;base64,iVBORw0KGgoAAAANSUhEUgAAAAoAAAAOBAMAAADkjZCYAAAALVBMVEX////MzMwQEBDc3NxEREQy\n",
       "MjKYmJiqqqpUVFS6urpmZmaIiIh2dnbu7u4AAACz5rqEAAAAAXRSTlMAQObYZgAAAAlwSFlzAAAO\n",
       "xAAADsQBlSsOGwAAAFhJREFUCNdjYLizZyUDA8MCBo4CBrYEBt4ABh4HEMn55AJXAgND3+vlQFme\n",
       "d8FAssbk3QQGtgUMdboMTBcYmJ8z3AMKtjEwGTAwODNwxjKwbWBgkFi1kgEAZacT9VqQ/CsAAAAA\n",
       "SUVORK5CYII=\n",
       "\" style=\"display:inline;vertical-align:middle;\" /></a>, <a class=\"ProveItLink\" href=\"../../../__pv_it/c6e291955561f22a0e6708fd793ea93f1c7dbb5d0/expr.ipynb\"><img src=\"data:image/png;base64,iVBORw0KGgoAAAANSUhEUgAAAAsAAAANBAMAAACN24kIAAAAMFBMVEX///8iIiLMzMy6urpEREQy\n",
       "MjLc3NyYmJgQEBCqqqp2dnZUVFRmZmaIiIju7u4AAACJ/BCYAAAAAXRSTlMAQObYZgAAAAlwSFlz\n",
       "AAAOxAAADsQBlSsOGwAAAFdJREFUCNdj4LtzgeE1AwMXZwNDPQNDJk8AwxYGhgccFxh6GRgY7B8w\n",
       "fQJSRxl4G4CUNwPLBiB1msG+AEi9Xns+gQEElgIxTwBfJ5BivMC9AEhx3j0MJAH6nBTYXSPRQAAA\n",
       "AABJRU5ErkJggg==\n",
       "\" style=\"display:inline;vertical-align:middle;\" /></a> : <a class=\"ProveItLink\" href=\"../__pv_it/f086f8c372bd40a2458306ddfdbb29f3dc6f63030/expr.ipynb\"><img src=\"data:image/png;base64,iVBORw0KGgoAAAANSUhEUgAAAAgAAAAOBAMAAADgeEClAAAAIVBMVEX///8QEBBERESIiIgyMjJm\n",
       "ZmZUVFTu7u4iIiLMzMwAAAAWRytzAAAAAXRSTlMAQObYZgAAAAlwSFlzAAAOxAAADsQBlSsOGwAA\n",
       "ABtJREFUCNdjYOBsZ2AoC1nOwMDATBbBprgiGQBsuwqCZsDj4wAAAABJRU5ErkJggg==\n",
       "\" style=\"display:inline;vertical-align:middle;\" /></a></span></td></tr><tr><td><a name=\"-0x16f42b08627251c7_step12\">12</a></td><td>theorem</td><td></td><td><span style=\"font-size:20px;\"> <a class=\"ProveItLink\" href=\"_proofs_/less_8_9.ipynb\" style=\"text-decoration: none\">&#x22A2;&nbsp;</a><a class=\"ProveItLink\" href=\"__pv_it/461f9e3c5d5e0b74c1766bd5ba6637e7380db2a70/expr.ipynb\"><img src=\"data:image/png;base64,iVBORw0KGgoAAAANSUhEUgAAADEAAAAQBAMAAABNQoq8AAAAMFBMVEX///8iIiLMzMwQEBDc3NxE\n",
       "REQyMjKYmJiqqqpUVFS6urpmZmaIiIh2dnbu7u4AAACjocmCAAAAAXRSTlMAQObYZgAAAAlwSFlz\n",
       "AAAOxAAADsQBlSsOGwAAANBJREFUGNNjYHh7dhcDOti98wGQ3MDA2YAm8fAAkwkDA3sBA18Cmsxk\n",
       "BoZoBgbeAGQZjiQQ+Y2B4T4DA9fXB9wFMAl2aZD5fF8ZGM4rMDDM/7MDJsEj+4ABpmcB0Lj/KVCJ\n",
       "tzIIe+KB5vS6/l8A5nuLw/Q+XsA0v4GBfQNDvx2Iy5kBdwffnhtAe5gfMLD8QJMBgv0PGN4Dqelo\n",
       "pgFBKgMDswMDQwiaC5ofsHwC+iePgf0AVOSNDMTVBx+wgryouRsRouwQD/HexQxk9iQGwgAAO8E5\n",
       "zoSvqmsAAAAASUVORK5CYII=\n",
       "\" style=\"display:inline;vertical-align:middle;\" /></a></span></td></tr>\n",
       "<tr><td>&nbsp;</td><td colspan=4 style-\"text-align:left\"><a class=\"ProveItLink\" href=\"_proofs_/less_8_9.ipynb\">proveit.number.numeral.deci.less_8_9</a></td></tr><tr><td><a name=\"-0x16f42b08627251c7_step13\">13</a></td><td>axiom</td><td></td><td><span style=\"font-size:20px;\"> <a class=\"ProveItLink\" href=\"../../../core_expr_types/tuples/_axioms_.ipynb#empty_range_def\" style=\"text-decoration: none\">&#x22A2;&nbsp;</a><a class=\"ProveItLink\" href=\"../../../core_expr_types/tuples/__pv_it/c9a761ea360a05e153f4a9683cba6d1c8c8220600/expr.ipynb\"><img src=\"data:image/png;base64,iVBORw0KGgoAAAANSUhEUgAAAUkAAAAXBAMAAAB0V6CoAAAAMFBMVEX///+IiIgiIiIQEBB2dnbu\n",
       "7u5UVFTMzMzc3NwyMjK6urpmZmaYmJiqqqpEREQAAACk/Np2AAAAAXRSTlMAQObYZgAAAAlwSFlz\n",
       "AAAOxAAADsQBlSsOGwAAA8xJREFUSMfNV0trFEEQ/jbZyW52djbrxUtUQtBEECWK4klYRAURYQJ6\n",
       "CIhZyR9YCHg0QYkgiO5FEPEQUfCmG0F8y3rTBHQQDAiCEdFjiIfg62JXV3dPT3odxRWx4JtUTVXX\n",
       "fv2omg7wVySvEFuWmT5MyKSC6/6Z589krUJsoVD+vWFCrii4bu1ZIPNNmySDCgPw94RSyzQs1q1E\n",
       "ByL3AZkIEm5W7blP9sU2WY4oAPvGI6l1VNAdpg3RgcjUgQtguFmV5zjt/0KbLB8qALtuhEpDsZE2\n",
       "xAoE5hTcrMpDM85GbbIcUkBhWWtCdqSMSASiM2S4WZWn2BRM2yRZqDPEfPu0JuRyypBEILqbDCer\n",
       "8Wzr79/eJku/wkBxbKAhteEZOno/H2ECMbyOOFcZTlbjuQN8MB6Pm1NNRqlKE69y1uAMVkZbS9FT\n",
       "Zq1yVRjPUiamA9HoFM9inQHc6icZ0FmN5zTyNAvvAb3McpMbpEeJ881SxdZU8iNiQFwUKhodEQM4\n",
       "X5NaPronjJcpLFUgipM94hn0MRIiM2pPKcxOC7NrtrYiill6eiNoaXOrxIBrzk92TjOAt2x5+CSU\n",
       "iRSWKpA0UR+5JYaT1XiCsiyeHudDxCz9adukabl9MGa5W1kBlfDVFJa7DctbVChDDJel8dSf0M+P\n",
       "HaR3q+Xy9UYxyw464Y9slqZvcTSdoIgBfNRW9Rc7rgOB9bB33D6X9o7joOz6z+VBG6V18oN6zPIM\n",
       "nfDXNsuggceLQpocTa4yA9iqrNGoIlO6nx+P/+hA5L9RjSwwkntZtj2n5Ml7QI8pOf3D2UbM8oZI\n",
       "HB6wWRZ0uim9WKaR5D8r62Ze1OIMvK/Eix6jdUuxAlGk4+iXGcmWWrU9pVrcgt+ZzqJZzrPz8eJ7\n",
       "sXqSZc5M+p3e+j4GgiVlldYIZSPQT4u5iQ5OQysbYAeii7J1TDKSXb3P9eyU27FciyuJWZ6gx5eW\n",
       "O66iVeci+FXTx8R6Uay75a+QCOykhTqpkJRBx+OJojyEoF7xxIEaR7J6ckM2y4zeGhGdvC3Mcz2o\n",
       "e4MvdiTr1g2NMYFd0YswcVuxZc7x0PKOR96xydwuYLXFsiTWNVNVZn7/97J8wzM7pjV6JbBlxFhC\n",
       "zlF3cKuH5mgCJ6LN6k7W4l4m8qzwyGuWnGCgzyizLFTUOS3p0KPu+ngLEk/uGgv83W26X3B6mEC/\n",
       "l5piKWS4WZOe0nxNH6JX3deHLJa4i0vj1mcd2Nui/Z1ViC3x7fv1NUUNeargupOe7Co9TTT93tBm\n",
       "mQ1nbicWYxr/k+h/AsOWbfmfyg9t/Qyzr3zVCgAAAABJRU5ErkJggg==\n",
       "\" style=\"display:inline;vertical-align:middle;\" /></a></span></td></tr>\n",
       "<tr><td>&nbsp;</td><td colspan=4 style-\"text-align:left\"><a class=\"ProveItLink\" href=\"../../../core_expr_types/tuples/_axioms_.ipynb#empty_range_def\">proveit.core_expr_types.tuples.empty_range_def</a></td></tr><tr><td><a name=\"-0x16f42b08627251c7_step14\">14</a></td><td>theorem</td><td></td><td><span style=\"font-size:20px;\"> <a class=\"ProveItLink\" href=\"_proofs_/add_0_1.ipynb\" style=\"text-decoration: none\">&#x22A2;&nbsp;</a><a class=\"ProveItLink\" href=\"__pv_it/3b933394230f51da211a112b8181f15b0bc3f75e0/expr.ipynb\"><img src=\"data:image/png;base64,iVBORw0KGgoAAAANSUhEUgAAAGAAAAAVBAMAAABLWfZ5AAAAMFBMVEX////MzMxUVFREREQiIiK6\n",
       "uroQEBCYmJhmZmYyMjLu7u52dnaqqqqIiIjc3NwAAACFAiZ1AAAAAXRSTlMAQObYZgAAAAlwSFlz\n",
       "AAAOxAAADsQBlSsOGwAAASRJREFUOMtjYGB4wIAd4BLnPYBDIhaH+GkGBu69fWiCjF5YTQIJc01g\n",
       "YJjDsATV/kWdv4DkLHT1YGGOAgZ2BwZuA4hQOMydIA0VmM4HCrMxMDArMPD8goicRdbAtgCbhkgG\n",
       "Bv4GBtY/WDRwFmDT0M3AsB6o4TsWDdwK2DRMZ2B4v4GB8S8WDewTQEwOFzBQgAn7QDT8xqKBxwGb\n",
       "DalAJ21gYAXZ0OLikubi4gTXwPgBhwagp3mweZo1AZuGOcBgNWBg/4XTSeh+sAV6LoGBYwI2Txtg\n",
       "s2ETA8jjywSwaOC4gE1DCJBefVeRAUUDk9kXXQYGFvQEDhZmEUAWOovMeYI1dbM3IPPCkTnt2POD\n",
       "HY58wsBngF18MS4NzAtwGFSAQ0MdVlEAp45Z8qelTaIAAAAASUVORK5CYII=\n",
       "\" style=\"display:inline;vertical-align:middle;\" /></a></span></td></tr>\n",
       "<tr><td>&nbsp;</td><td colspan=4 style-\"text-align:left\"><a class=\"ProveItLink\" href=\"_proofs_/add_0_1.ipynb\">proveit.number.numeral.deci.add_0_1</a></td></tr><tr><td><a name=\"-0x16f42b08627251c7_step15\">15</a></td><td>theorem</td><td></td><td><span style=\"font-size:20px;\"> <a class=\"ProveItLink\" href=\"_proofs_/deci_sequence_reduction.ipynb\" style=\"text-decoration: none\">&#x22A2;&nbsp;</a><a class=\"ProveItLink\" href=\"__pv_it/d40ec4e00d69f9cd7192344ca4d3a3afca4a24bf0/expr.ipynb\"><img src=\"data:image/png;base64,iVBORw0KGgoAAAANSUhEUgAACK0AAAAZBAMAAAALGVJWAAAAMFBMVEX///+IiIgiIiIQEBB2dnbu\n",
       "7u5UVFTMzMzc3NwyMjK6urpmZmaYmJiqqqpEREQAAACk/Np2AAAAAXRSTlMAQObYZgAAAAlwSFlz\n",
       "AAAOxAAADsQBlSsOGwAADltJREFUeNrtXX1sW9UVP4798hx/JE5JC1MKZIGMr03rGKxVacFBKZTR\n",
       "To81ME1ljStR4A/Y3BZaSmExG1Sa6JpUqKMaH7Mog220xWXtGDQtDhtFFAimIkDZJFyxio1BCKih\n",
       "pbTKzrn3fdxnP9vP79lRNPlIsf2u7/mdc88993c/3nML4Frq28+FmtSkJjXhMqU9UwGUhloga/L/\n",
       "Jgnhs78CGOWJv9I6/gkJml+zFErXeKUmNckTjzjhnl4BjPIkEKmwzukTEjVygbmBvJKlgn+65BX3\n",
       "IDWpySSSt9hrFq7D13DUKYb0QVs5CksutOIB+YFUcbU1lxThDndNcOLC6ZxXnqfrzS55xT1ITWoy\n",
       "eUTqV1+JX37sHKMhVZbKQ8aYUozSplLrnpP5OoITLprgyAX6Q15ZRXuirEtecQ9Sk5pMHgmy8wGc\n",
       "5WnCHHCOYR6PWwtV3WoenTThC4T0tFJi9zGWr6OJuyY4coH9pRm9+DIuecU9SE1qMnnEy5khDrSP\n",
       "meEcwzwe3yxU9U3z6CS52Ph4eQlDvrZ8HZ3cXDXBmQsXM16ho1t3J68NUAGQmtRk8sgf2WsdSLgG\n",
       "D/Q7x7gcyuEVfXSiPGy1Oyow/lL5Opq4a4IzFx7mfHBhe/tFbnnFPUhNajJ5ZCd73QChCE75Ufx4\n",
       "f+c9xTXyKxDGb5r3lMErDUtb9TX/Feq7f+epJ0sY7s3k6AjiqgmdLXEnLlzBeeVZgMOuecU1SE1q\n",
       "MnmEz/yDUI8DqwHHSGAWfFr0iMGiAmJIXyo9Cfu80rNJOqYVvaK+b0k0jtk1zHSC7Uxi4LoJv8gE\n",
       "s05ceIXzyjrwx1zziiXIvnR5QHkP78i7lZJK5RrJf1pp7a5K4OY/eWSNa0joFqh4fMrGTNiMefXD\n",
       "UcF0CfK3cMIOjMei7FtsfH7e/u3286AO5+JFaXimKIhFBcQIj0FTxD6vvK/AZ1rRAf4mzYFgfwnD\n",
       "z+XoGIcr7ppwNngjTlw4wHmlUfElzRVX7Ex6vmdZEvq6RR3ilXwQ7OYZAF0tLDqMSaWuG6nf7xm8\n",
       "SVeDe/+0ny+5plMcPlm9moxMn09FLajqK8l4ZMTXSes8uJ61vvuKZZRz06exNRxQmf/7W5O6Edj7\n",
       "zmr6avDvlHUeUuXrR/lRV7hm5wVcQ9ZkTZcrwXZ8fM1pe/EpG9MUDTPmn+PVDQdWmlmddGnkb/tz\n",
       "I27dGxa3UWarjXoKX73YqBcUHGVqyy2FV8jFwPHYE+WtgWfa27/b3v6NfFXji+dAOqKV9qoRGoO6\n",
       "qBqQIoZfjAg6orhoQnDMoQu9nFfCEfHEVZ42kgzH5sEu65LZFnVI3QzCakC4H3yRAPXe8il8FgnS\n",
       "wdQNcAqrcyZbY33OcrUhTg41jo9/hW+nwRJ8rY+GYwRRhFJUI9AJ2+myuY1nyTNM28POwD2jtFC7\n",
       "7GzDCHw6Po6Z5EnQgRY68zbAQY53gytck/MmXF3qo9qn5T/9iH1tNz4PyqMl4+MM0xQNM2ZflcOB\n",
       "TDRanXThvCLFhIgHTYZTYm88XoBXwhHa3rNBeSlIx7WWWwqrkIfRkIKnM7w1dtYrD0FAP8jYwt+8\n",
       "WehJggFRwLA3KegI4qYJ3qxDF7aoz/H3DwqVduP8Ex4MQtSyhCdCTh3GKCYQVoN62RuHY/oKrSnp\n",
       "P4pvq+Eqtit7n16f5PWvhgDve+rwjxhiU1waK84rmhGYCU0024ZZzI5DH5bLcR9T3cYSPi4YQROU\n",
       "Y41JNscehR5FS/iZrnBNzptwjZ7SFgBB6mz62mZ8fClIloqPQ0xTNMyYZ1Q5HEhH2eqkC+eVYNKI\n",
       "uLaEUSUr9obF82SP0CbirAtxG3EeNGRoGREa1VpuJWqFXIymNE3mB+zyygl9jaDvaXqi8IbFDifX\n",
       "cJ+hI5yvuGtCT9ShC+o+CBZuwg8Dy6d59sXBQwXhu/8QIdBXX25OmUtC2XtySjReIRBYPDif5wvb\n",
       "KWMv9yVgrt7ikMISBeCb9HJND0uUbaxTZ9+tsA2zj97OjL5Gs2UCczePV6SBFm3TrBvxHwNvRk/4\n",
       "l1jCA9TR19JUlvB3DhtGIAHzSPsItR1Vm5JqwsufTVNc4JqcF3EN6W1exj+w/Rh9bTM+3ieHoWh8\n",
       "OgedYorRMGEuHtwI1Q2HNPC1SHXShZNInRBxC17RvzMevPJNV09DDnF9mXirMQLSSWjsf7fYoGQV\n",
       "tEGkYzQlpTlgn1eOw6I0YrTS5yF1UGfgP+FEkUHNPRvytxo6grhpApIim3nKdmFI5ZVfIreFtqS9\n",
       "MU+Mr1rD8XnvEWfsnwOzzCX1pw3nlGi8QiDSOTLn2yX8DLEfehWeFapT/AY9z6YIS5Qn7ruVUd7t\n",
       "/InA91iajUfZ2k0+AYHcMPww3qvNLroRNMqyW4sZe2jAw0aFR2IJf/N1GcFImK3YzjzCF6u9aXiM\n",
       "Z3eHJ+UKV3BexDVkitLKeyKrnZ3bjE/PlYvTxeJTl1zpGFOMhoCJfXkUqhsO7Ms4O/GreLpwEvmV\n",
       "EXErXtG/C6dg7whKGs6XZxi3S2Et/+UgHdpshBdTUWNQSl9qLz0qk7EK2iDSMerTjal8XtEV2Qfh\n",
       "i1vgv2wg0sy5Qx1bkdAFPgFCVzMZhqW/XpTQdcSz8uJNMDmR24RgCnxxJy7sUHmlEbXvm4LkGozy\n",
       "J4rD8SCtUP3XtMGYqQS8CyBuLtF4hUCCKewX/2HtueQ1GUqU7wiJsoJxgnSIndX3GAdU/hPA7sfx\n",
       "wbFqFW2bA4evx83mxpw16m52MslEN4IJzw6u1ZjJHXw8UNG7El/a0VGCZoSnsXzTz4hFtl/7RgYa\n",
       "prIWREL9JufLxBWdF3ENOaTePQywAS0/Anbj05fmNyALxWcv/MgxphgNARP7chSqG47d5Mc/oArp\n",
       "wklkO4/4BsWaV7TegIB2gBvMSupig1HgQr5DIrK6ruWOpXFhsr9Ae6lTD31ZBW0Q6RjSjj1gsV7R\n",
       "FS8wf7G4NcMGIllV/0kjaemV604VIHQ1k2G4KC0bOoKUaILJibwmdDVPdeTCueK/k7AUB2xdBl5B\n",
       "3s6E41KUuKg+EphhLumjnbCpBIQHbZuSyHR3dqg15BsVWp2eNBLFrz7igtMUrAeWKBk6E6IVIK26\n",
       "IBTjZ9hbqHt/8nvM+4M5P/4+DtP0O/yaEVplGwt0NY+Aplt/miV8mJ9IqUZgH3c6QOcp0nuYoeGN\n",
       "fLIOxkzOl4lrcl7AFU/y/sJn5kdHRj6BVcvAbnxwE3ECisRnrgtMMRoCJvZlFqobjuN0gjMAVUgX\n",
       "TiJvs4jLj6Gje0c+oPWISh8jI5eOfKz3Bsgar3j1DVEdIW6inRTKOfopaFuJm5PqIBIwAMrYB6kY\n",
       "dPbpN5s6UOKO+1fP5uuA+yY4coH+DF6ZiZ3cJ8NtfC0C2yLsZCsYjZtKhgJtCXMdkVd6Eo0vKYC5\n",
       "eBtfxsbMB3GwDu7AFJuJUyVW6XphITvQ60uwLXQT5UsjOxvOsh2vrAT6Qc75YQNOsR9fG9rz2vNv\n",
       "xQ0j5gNFf0zGi0VxnNRA7rr6SIbO9PzHDCPwLzYsiMwBbqfHrfkSqEnBvBKdLxNXdF7ENWQM5ob3\n",
       "vB4FOaotlG3GB/cf7Ki+UHwQwzGmGA0BE/tyqlLVcGBfHroWNq+PVD5dOK/8nEUc6gqsV7TeMPZB\n",
       "TfrzLuwnfG3sHi3Aq7YHpTqIBAzTiCz5u0OOsVPWfvhod1CHso/583TAfRMcuUB/Oq/4R5GphnzQ\n",
       "SJ0QSoInJkWhD+q2xU0lS+W2qFAnh1e8iV6MUAfwGuqNw35UI6e6wf/h6l140QF/U7pp7aPgRRTX\n",
       "H/i2D1ZgBfCm6WIT1GOFxnRDnB3EYUm3/jJLPp4OnAGzw1HDCHRi1nazmGGNDavXonadErqYDPvH\n",
       "8Bsfd56MUNkccgbXh8vw4mN4kN8AJZUhs/Pl4JqcF3BNzneEsuEz6Ddgh7UzVlvx6caJWW4rFp/f\n",
       "oitOME3RAAGzm/ryriqHY5Z8NA3HhrOVTRfTuS1GXOAVzTDnFb03PNqauCGp3wb9N24eUoxrUTVh\n",
       "c1Bqg8jAsDMi8zDOf4cRfRmDuj6ywpenAxVoghMX6E/nlUAMNsO6qdiZtDPEJMjKc+EJ8Cwwl2yG\n",
       "W+JCSQ6vBAbeXMBykdVgvdzVqqDavb/bASsz3vHxUby4rflmvIDQp7fiRXcLTt9zwdO5i8pw6YgX\n",
       "9zfPx4tA55UcAktWJuRZ9DIXnnq9JQ0fSv31ScGIj2n7r/oqgjUuGx/HC7lzGlWHoS8yKzNSZ5dm\n",
       "hMpwUYi1d7RQhcfpJxDEK6iyI5rjfBm4JucFXJPza1sAbqJV94a4ygG24oMXLa1Ksfjc/9pUR5im\n",
       "aIiY+DG/LysdDupL+Qulwuli8AoOJoq4wSvc8CyVV/Te0Aedf2BQuCngScIy8ZgdqOVFx5Y2iEw3\n",
       "Flhr7AtiYIbn/CimFERDov5lqx/SuG6CExcOg9W/Q9k9MpJUqc1GiZlXuHRoNbReVtUyBS+KVOgX\n",
       "zOqf2sJRbyjHSBH4krYOGiV5ztvFtTJy0ML5Ns9+7OYfjHxkPCdmE7tEfBxhWhroN0qqHg7P/I5E\n",
       "hdNF55UAX3wU2gfpvbHEat4WB8Z6cCT+NDiVUKLCOuthIoRcYG4U+/dth22UWPDK8ku0Ux/trh9X\n",
       "CyuFLopUYIkynOOAFPMk60/LMVIYvqQtnvCKtfM2ca2MMNwc56VYeCGAcNPBPraN+JSNaWWAMNWP\n",
       "VQ8HBBMLKp0uBon8lZ3KnsJ+Upz/vK3eG/OgJpUmmCK8krZRYrVeMUS968fVQlDookiFNRmT2XRh\n",
       "IyFwbItuzmolTnGtjDDcIs5r911tYtuIT9mYVgYIMwQTH45KpYvBKz7F1hhI1nhgInnFtjQU+v+D\n",
       "ZLfo8rCNOq6bcLcykbiC3AWVj081MCcoHJVLF+2XzrZ4RarRQKVlylnp/wEkFr+1RNcrMQAAAABJ\n",
       "RU5ErkJggg==\n",
       "\" style=\"display:inline;vertical-align:middle;\" /></a></span></td></tr>\n",
       "<tr><td>&nbsp;</td><td colspan=4 style-\"text-align:left\"><a class=\"ProveItLink\" href=\"_proofs_/deci_sequence_reduction.ipynb\">proveit.number.numeral.deci.deci_sequence_reduction</a></td></tr><tr><td><a name=\"-0x16f42b08627251c7_step16\">16</a></td><td>theorem</td><td></td><td><span style=\"font-size:20px;\"> <a class=\"ProveItLink\" href=\"_proofs_/nat1.ipynb\" style=\"text-decoration: none\">&#x22A2;&nbsp;</a><a class=\"ProveItLink\" href=\"__pv_it/b64045e23014d4aeb18f7f9a8278edac4a9c78ad0/expr.ipynb\"><img src=\"data:image/png;base64,iVBORw0KGgoAAAANSUhEUgAAADIAAAAQBAMAAACmdTG/AAAAMFBMVEX///+YmJh2dnaqqqrc3Ny6\n",
       "uroQEBBERESIiIgyMjJmZmZUVFTu7u4iIiLMzMwAAACK+5nvAAAAAXRSTlMAQObYZgAAAAlwSFlz\n",
       "AAAOxAAADsQBlSsOGwAAALRJREFUGNNjYEAHPPfL5zAw5acyMPDdQZNiN4hmYDh/gOH0yj9oMtxX\n",
       "mAQY2IAMDgwZc4YpDLzIMu13704Ayzg2eKLIRPbA9Djs41BAkmGZAzfNgZ2hFEmG0wEhw7fg7Fkk\n",
       "GYQLHBiEmcsQMs/uAkEBVIb7wDaEzHFkPTwbkEzjRZZheMGOkOFogIfOAyDvOZJ/JsNkeA2AxEqg\n",
       "3rK/O8ACp0sPgGm+++lA8iRyeAXVQkIHCgBOnzd6VWBQYAAAAABJRU5ErkJggg==\n",
       "\" style=\"display:inline;vertical-align:middle;\" /></a></span></td></tr>\n",
       "<tr><td>&nbsp;</td><td colspan=4 style-\"text-align:left\"><a class=\"ProveItLink\" href=\"_proofs_/nat1.ipynb\">proveit.number.numeral.deci.nat1</a></td></tr><tr><td><a name=\"-0x16f42b08627251c7_step17\">17</a></td><td>theorem</td><td></td><td><span style=\"font-size:20px;\"> <a class=\"ProveItLink\" href=\"_proofs_/nat2.ipynb\" style=\"text-decoration: none\">&#x22A2;&nbsp;</a><a class=\"ProveItLink\" href=\"__pv_it/e1be5cc0ffa039746758df99e3fd79595c567a170/expr.ipynb\"><img src=\"data:image/png;base64,iVBORw0KGgoAAAANSUhEUgAAADIAAAAQBAMAAACmdTG/AAAAMFBMVEX///+qqqqYmJiIiIgiIiIQ\n",
       "EBDu7u66urp2dnZUVFTMzMxEREQyMjJmZmbc3NwAAADG9xhMAAAAAXRSTlMAQObYZgAAAAlwSFlz\n",
       "AAAOxAAADsQBlSsOGwAAAOtJREFUGNNjYEAHbP67jzFwxIcz8N09vQBVilugkoEhP4HhJQPHd1QZ\n",
       "Tj8OBQZWBoZpDAyhaDLSDOcYWBgY4hMY5j8Ai1i7uBwAyzwyeAOSmcLAMB9sUY0ZTM+DWcwNLGCm\n",
       "P4jgOwY37QE3w3awDNdnEMnzACHDdSElBcRiuQCWQbjgAYMi41YQ6y6Yv9QFCDZAZTgTpgIZTGAt\n",
       "DNnIetgmgEyTYOADWcGCLMOwmBtofwMDcwKQz2wADx2gJ5hXMzA8uXt3CljgIEyGRQBI3GFgOP//\n",
       "/x+wQOb2BDDN5R8NJHOQw6tiCyR0oAAAIoY5u+UrrOsAAAAASUVORK5CYII=\n",
       "\" style=\"display:inline;vertical-align:middle;\" /></a></span></td></tr>\n",
       "<tr><td>&nbsp;</td><td colspan=4 style-\"text-align:left\"><a class=\"ProveItLink\" href=\"_proofs_/nat2.ipynb\">proveit.number.numeral.deci.nat2</a></td></tr><tr><td><a name=\"-0x16f42b08627251c7_step18\">18</a></td><td>theorem</td><td></td><td><span style=\"font-size:20px;\"> <a class=\"ProveItLink\" href=\"../../sets/integer/_proofs_/zeroInNats.ipynb\" style=\"text-decoration: none\">&#x22A2;&nbsp;</a><a class=\"ProveItLink\" href=\"../../sets/integer/__pv_it/5071f98c61b3ccd585aa2b44bab9dc29aa2d218e0/expr.ipynb\"><img src=\"data:image/png;base64,iVBORw0KGgoAAAANSUhEUgAAADMAAAAQBAMAAABJt1qBAAAAMFBMVEX///8QEBDMzMy6urpUVFRE\n",
       "RESYmJgiIiLu7u6qqqoyMjLc3NxmZmaIiIh2dnYAAABjjC/7AAAAAXRSTlMAQObYZgAAAAlwSFlz\n",
       "AAAOxAAADsQBlSsOGwAAAPVJREFUGNNjYMAA7V+jGhgefjRgYOB7expNLpLZgYHjB5CxkqF9A6qU\n",
       "+4ZnDAwCDAxsBQx8AahSngFcGxgKGBhYHRg4f4BFeMPLq8AM71zuBSAp/gMMzD9BAsxrG6C6vFkU\n",
       "7oGk+oFS30ACu2AyDN4MAawGQKn9DxiY/oIEVjMgpHQ4KqBS/0ACC5Ck2CZMBbqw/wEDM0gXk3h5\n",
       "eXkpVIrBg0UA7AxOkDM4ApB0MbRwgBwfwMAGdnwBshTTBaBKNgEGHrA1d+FSQUB8CWRIJUOjAkiA\n",
       "awJMqhKIwcr77jqBBThcLSAy6h+BOjgWIAcd81NoQEEBADiYPSy71ckzAAAAAElFTkSuQmCC\n",
       "\" style=\"display:inline;vertical-align:middle;\" /></a></span></td></tr>\n",
       "<tr><td>&nbsp;</td><td colspan=4 style-\"text-align:left\"><a class=\"ProveItLink\" href=\"../../sets/integer/_proofs_/zeroInNats.ipynb\">proveit.number.sets.integer.zeroInNats</a></td></tr><tr><td><a name=\"-0x16f42b08627251c7_step19\">19</a></td><td>instantiation</td><td><a href=\"#-0x16f42b08627251c7_step27\">27</a></td><td><span style=\"font-size:20px;\"> <a class=\"ProveItLink\" href=\"__pv_it/d514160c241e8bf81b953f3b723c4b8ee9f927990/proof.ipynb\" style=\"text-decoration: none\">&#x22A2;&nbsp;</a><a class=\"ProveItLink\" href=\"__pv_it/8cbcffb048821cecffe3571dc61793754a0190370/expr.ipynb\"><img src=\"data:image/png;base64,iVBORw0KGgoAAAANSUhEUgAAAKoAAAAVBAMAAAAkxGgRAAAAMFBMVEX///9UVFREREQiIiIQEBCY\n",
       "mJhmZmYyMjLu7u6qqqrMzMyIiIi6urp2dnbc3NwAAABm9RoHAAAAAXRSTlMAQObYZgAAAAlwSFlz\n",
       "AAAOxAAADsQBlSsOGwAAAbFJREFUOMtjeMAAAnxgkgGFgwAPUCg8AG7MHTC9E8I9DSZ5D6Aphqjh\n",
       "nkDQVJ4NUPVgHZwXGBi4LGAacZg6F4gXN+A2EiS3E9nUdgaGxvQfQEYFblM5Chg4xOpxmgqRY29A\n",
       "MjUV5EGQqWG4TWULABL78bgVJMeagGSqA8xUlgacprIwEGEqgwfCVJ4CmKnsAThNPU6UqaUIU9ku\n",
       "wEzlFcBpai5Rpl5EmAp2IdhU1gKYqWzGYCAAN7WUKFPDEaYyT4CZymmA062WRJk6GWEqywGYqVwf\n",
       "cJrqQ5Sp67GZyuNAoalHkMIVSwhghGslqSHAtAEeWwo43aoN04lpMAfC1CCEqeD0BDaVbQNOUy9C\n",
       "dXJ8B9L9wLQCZsB5UFOzkXIB0N+MKp+lganhAU5TDwOxkL/hBgZjoG5mUM40Y4ASzBYwOQY7pBxr\n",
       "BdP/GHc5wLwAyuPEDIIZ8ALWAMnUMJhoKm5TIQUHSBozoi7AGOAiCGYqE7SY51PAU77qQXndmLG1\n",
       "AcZ6hFy+cihABJka8JjaBOUFYJjKCmdpQNXvAtNPIYJxkKpkAZouiBq+AII1DCvEz7sAXZmtII0o\n",
       "3j8AAAAASUVORK5CYII=\n",
       "\" style=\"display:inline;vertical-align:middle;\" /></a></span></td></tr>\n",
       "<tr><td>&nbsp;</td><td colspan=4 style=\"text-align:left\"><span style=\"font-size:20px;\"><a class=\"ProveItLink\" href=\"../../../__pv_it/a8d4b3a34d2189508f9082853fbac36935714f280/expr.ipynb\"><img src=\"data:image/png;base64,iVBORw0KGgoAAAANSUhEUgAAAAsAAAAJBAMAAAAWSsseAAAAMFBMVEX////MzMxUVFQyMjKqqqoi\n",
       "IiKYmJju7u5EREQQEBC6urqIiIh2dnZmZmbc3NwAAAD0tjQRAAAAAXRSTlMAQObYZgAAAAlwSFlz\n",
       "AAAOxAAADsQBlSsOGwAAAEdJREFUCNdjYOC7s28DAwPDygcc3xkY2Kcx8AYwMPB+Z2A9wMDA2cBQ\n",
       "v4CBof4AQz5QRb0DQzPLAwbmDWyxPECV2gcfbWQAABp5EMgcedARAAAAAElFTkSuQmCC\n",
       "\" style=\"display:inline;vertical-align:middle;\" /></a> : <a class=\"ProveItLink\" href=\"../__pv_it/f086f8c372bd40a2458306ddfdbb29f3dc6f63030/expr.ipynb\"><img src=\"data:image/png;base64,iVBORw0KGgoAAAANSUhEUgAAAAgAAAAOBAMAAADgeEClAAAAIVBMVEX///8QEBBERESIiIgyMjJm\n",
       "ZmZUVFTu7u4iIiLMzMwAAAAWRytzAAAAAXRSTlMAQObYZgAAAAlwSFlzAAAOxAAADsQBlSsOGwAA\n",
       "ABtJREFUCNdjYOBsZ2AoC1nOwMDATBbBprgiGQBsuwqCZsDj4wAAAABJRU5ErkJggg==\n",
       "\" style=\"display:inline;vertical-align:middle;\" /></a></span></td></tr><tr><td><a name=\"-0x16f42b08627251c7_step20\">20</a></td><td>instantiation</td><td><a href=\"#-0x16f42b08627251c7_step28\">28</a></td><td><span style=\"font-size:20px;\"> <a class=\"ProveItLink\" href=\"__pv_it/e7db52549744b1bb2c66565b203088bcaa57edd00/proof.ipynb\" style=\"text-decoration: none\">&#x22A2;&nbsp;</a><a class=\"ProveItLink\" href=\"__pv_it/62403995b04467db91d7c693252b46b4267e2db00/expr.ipynb\"><img src=\"data:image/png;base64,iVBORw0KGgoAAAANSUhEUgAAAL4AAAAVBAMAAAAKgUmDAAAAMFBMVEX///9UVFREREQiIiIQEBCY\n",
       "mJhmZmYyMjLu7u6qqqrMzMyIiIi6urp2dnbc3NwAAABm9RoHAAAAAXRSTlMAQObYZgAAAAlwSFlz\n",
       "AAAOxAAADsQBlSsOGwAAActJREFUOMudlK9Pw0AUx1/Xrvvd1GMmEAS1hGQhCFKJXBDDkSHGBGaG\n",
       "BFkUkiUYJP8AWSVMTeAww5OwQECSJQgWBKO9tnfXe/dG4Ju0vb773qfXd+8OphDJAUV/C2M5qf+R\n",
       "PW/V/nt2r42VMOHGqgaJn40oTQDKm2lf1KoMaH7WjfXWW0/nkPDPAE5786Q7bp3Q/IxbkxoXnsZQ\n",
       "8CV+N7wqfARrtWl+1o1k+GB5kO9IfA/zLZ/ke8v51hyMb4Adwa/2Mb/QoviKG8+/AcYXwLHg2xPM\n",
       "r7kUX3HrZM4AHgSfzVXh5/sp395gclO+4tZpGFbnnuCbA8wvNaj5K26dmuF1IfjWGPPLM4qvuDWy\n",
       "o9oZLudXvf/zWW3fSflfmh+U/9/yE+7v90x+ckEyoiitb52av+LOiIWuAW4AdgWf1WI04rzP+XZA\n",
       "8bPu6Fb8BOnNaR4ehD9/JO2v8NVY/VgBMzq1WAvMKbm/Mm6zk9QLa0ShwmKxCD+zLZ0PW+n4S056\n",
       "oc8fjRtQyGlI/HYanXBjl+Zr3IBCdkvi56bJ8gT883Waj91ifXnoWT7/i/U4mOfGnE/zsZtLhNYS\n",
       "/4g9X1XjflypV0qYcGs+FP/j6Aed7b409mrCZwAAAABJRU5ErkJggg==\n",
       "\" style=\"display:inline;vertical-align:middle;\" /></a></span></td></tr>\n",
       "<tr><td>&nbsp;</td><td colspan=4 style=\"text-align:left\"><span style=\"font-size:20px;\"><a class=\"ProveItLink\" href=\"../../../__pv_it/a8d4b3a34d2189508f9082853fbac36935714f280/expr.ipynb\"><img src=\"data:image/png;base64,iVBORw0KGgoAAAANSUhEUgAAAAsAAAAJBAMAAAAWSsseAAAAMFBMVEX////MzMxUVFQyMjKqqqoi\n",
       "IiKYmJju7u5EREQQEBC6urqIiIh2dnZmZmbc3NwAAAD0tjQRAAAAAXRSTlMAQObYZgAAAAlwSFlz\n",
       "AAAOxAAADsQBlSsOGwAAAEdJREFUCNdjYOC7s28DAwPDygcc3xkY2Kcx8AYwMPB+Z2A9wMDA2cBQ\n",
       "v4CBof4AQz5QRb0DQzPLAwbmDWyxPECV2gcfbWQAABp5EMgcedARAAAAAElFTkSuQmCC\n",
       "\" style=\"display:inline;vertical-align:middle;\" /></a> : <a class=\"ProveItLink\" href=\"../__pv_it/f086f8c372bd40a2458306ddfdbb29f3dc6f63030/expr.ipynb\"><img src=\"data:image/png;base64,iVBORw0KGgoAAAANSUhEUgAAAAgAAAAOBAMAAADgeEClAAAAIVBMVEX///8QEBBERESIiIgyMjJm\n",
       "ZmZUVFTu7u4iIiLMzMwAAAAWRytzAAAAAXRSTlMAQObYZgAAAAlwSFlzAAAOxAAADsQBlSsOGwAA\n",
       "ABtJREFUCNdjYOBsZ2AoC1nOwMDATBbBprgiGQBsuwqCZsDj4wAAAABJRU5ErkJggg==\n",
       "\" style=\"display:inline;vertical-align:middle;\" /></a>, <a class=\"ProveItLink\" href=\"../../../__pv_it/53e304ff98ebc000dbe3ef224f4637dbafd46ba70/expr.ipynb\"><img src=\"data:image/png;base64,iVBORw0KGgoAAAANSUhEUgAAAAkAAAAOBAMAAAAPuiubAAAALVBMVEX///+YmJjc3NyIiIhUVFR2\n",
       "dna6urqqqqpmZmYyMjIiIiIQEBBERETu7u4AAAALjtrwAAAAAXRSTlMAQObYZgAAAAlwSFlzAAAO\n",
       "xAAADsQBlSsOGwAAAE5JREFUCNdj4D29gAEIOBtAJF8BiMy7ACKjQATDFON2BgbelxfuKTCwv2Xg\n",
       "M2DgmMBwLwCkPK+AgU+Aoe8CA18C70YGBhYBHqARvM1A5QCqGhDobJhHyAAAAABJRU5ErkJggg==\n",
       "\" style=\"display:inline;vertical-align:middle;\" /></a> : <a class=\"ProveItLink\" href=\"../__pv_it/f086f8c372bd40a2458306ddfdbb29f3dc6f63030/expr.ipynb\"><img src=\"data:image/png;base64,iVBORw0KGgoAAAANSUhEUgAAAAgAAAAOBAMAAADgeEClAAAAIVBMVEX///8QEBBERESIiIgyMjJm\n",
       "ZmZUVFTu7u4iIiLMzMwAAAAWRytzAAAAAXRSTlMAQObYZgAAAAlwSFlzAAAOxAAADsQBlSsOGwAA\n",
       "ABtJREFUCNdjYOBsZ2AoC1nOwMDATBbBprgiGQBsuwqCZsDj4wAAAABJRU5ErkJggg==\n",
       "\" style=\"display:inline;vertical-align:middle;\" /></a></span></td></tr><tr><td><a name=\"-0x16f42b08627251c7_step21\">21</a></td><td>theorem</td><td></td><td><span style=\"font-size:20px;\"> <a class=\"ProveItLink\" href=\"../../../core_expr_types/tuples/_proofs_/tuple_len_0_typical_equiv.ipynb\" style=\"text-decoration: none\">&#x22A2;&nbsp;</a><a class=\"ProveItLink\" href=\"../../../core_expr_types/tuples/__pv_it/8c13a46665def6f076d59ce4b36ab7e5002543480/expr.ipynb\"><img src=\"data:image/png;base64,iVBORw0KGgoAAAANSUhEUgAAAJkAAAAVBAMAAACnAFEqAAAAMFBMVEX///9UVFREREQiIiIQEBCY\n",
       "mJhmZmYyMjLu7u6qqqrMzMyIiIi6urp2dnbc3NwAAABm9RoHAAAAAXRSTlMAQObYZgAAAAlwSFlz\n",
       "AAAOxAAADsQBlSsOGwAAActJREFUOMud1DtLA0EQB/C/uTw2moT0NlEsBEECgqhFsBSxOFRipzYh\n",
       "hQhpBO1OGwsLD2xsJPkGno1gqoCChUUSWxWCYi8IaiO4c4/NxXMu4Bab2cndLzvZBzqQrZOxe/xq\n",
       "TiKDvk09+Cg/hsyUBSfsaU7iqr92Z/fphv3GmfPK31qyBQzO8NLTZUdOp6uJCpAwOO0Q2C9/sVjC\n",
       "FAVgt6vFdSC2yWkl+it4bQW4B4pdLUrhAqfNh2sjQNVA1FDaLWV3GC1VCdc+gKaJhK60bcq2GS3e\n",
       "CtUEaTrSWaXtUHrN1eJTdst6mv2rvJb5Bs4txCpKm6X0CTM3zeyvtZDMK22J0ueMFm2EVyq1poXB\n",
       "t17t5n8arULVRGpeaXv+SgP/W3ilGAU2DH+lE5RdZuYWsVxNBCXaZKtAWW7+nNLa9M0Wo9lrT9ox\n",
       "LRt14tMfaKZYlBVZSrumNwvc7pU1DIy9D0Ojk6/JA4hpL5iSkxMPFzU57ChNk8NMnjtZc97oNFBp\n",
       "0vCil+45pRNPJ/9vreiNWgEtraKS736bBJ7Z+y3iXsnCCmhHag/nfNoBMM5qIucMYsE11b0gYrha\n",
       "nWg9RhOo/37aSbz2v8nX7X6o9gPqXKN4tSyaggAAAABJRU5ErkJggg==\n",
       "\" style=\"display:inline;vertical-align:middle;\" /></a></span></td></tr>\n",
       "<tr><td>&nbsp;</td><td colspan=4 style-\"text-align:left\"><a class=\"ProveItLink\" href=\"../../../core_expr_types/tuples/_proofs_/tuple_len_0_typical_equiv.ipynb\">proveit.core_expr_types.tuples.tuple_len_0_typical_equiv</a></td></tr><tr><td><a name=\"-0x16f42b08627251c7_step22\">22</a></td><td>assumption</td><td></td><td><span style=\"font-size:20px;\"><a class=\"ProveItLink\" href=\"__pv_it/660e7c13e0dca14de7d468aa34651cac1a9a44bc0/expr.ipynb\"><img src=\"data:image/png;base64,iVBORw0KGgoAAAANSUhEUgAAAQUAAAAVBAMAAAC9GeaNAAAAMFBMVEX///8QEBBERERUVFTMzMyY\n",
       "mJjc3NxmZmYiIiJ2dnaqqqoyMjKIiIi6urru7u4AAAAvZeGPAAAAAXRSTlMAQObYZgAAAAlwSFlz\n",
       "AAAOxAAADsQBlSsOGwAAA5NJREFUSMetlltIlEEUx/+76366ty/pAiEodkUwQ7DoQpQhET21PdVD\n",
       "pAQlQeBGDwstkRTldl8rMClon4Ig0ggigsTyQSQQoYeICD8KiiDwkuVl021mzsx8317xwQHP/vfM\n",
       "OTu/78yZ+QRgfkG+UcC9ZMN4rAwb75/ljSngLjpKgO/ZSx0rFNy0WRn4F3jyrewI4e4ebFG/rgJa\n",
       "Y+ulOtVVp6P304cr9UrF+brv0e+k0+kJcv0cOi8nS6O7mV0HZXztwLfYQjYDdweS5hX6pgOMejwa\n",
       "ob2KoDmpoi/RR9ntq5aMu4nt9DsvotFr5IvAQwnmDexlD3ef6/tqMQTzMhwB7sivKsBjwVVOnjmM\n",
       "9apZyeDR6YEI1tIjM56IUN4wTErwlMMdKczwLh7v1QysTj1WJoNrAZ6/QoUqsUwx7HuRzaDy4Nde\n",
       "X7ViYHm+8YIMn4eddZgGRpNZdWiHZ0ovFJYikcPw3FFSagyEJq1SShirRnCqEIPR59wLkzOEMxn4\n",
       "po9LEbqstqJFMRwdbCSVOjA4ok5GtRR7/p2DrsO8k6G0114i0KJXYm5jFjjYn8OgXCUDW6TnBCSD\n",
       "2zLmqetSYVTIWY+C8aVfQvfDH+At18K0hR0MdgGZWzAkchg67E2XG5VQDGzUEEMaOCNbok1NPTme\n",
       "lkeqEk1zbIKnc9N007HE3jgbonTcbTKG0Zw6lEb0ei5yelscDBeolDNAs3z+B3LGG0FPFckfQ09Z\n",
       "Pxi1STJmzLKX+Grf1Nw9bT+qzXBY3VqNcM8JdRqKoZYxUENcZwyylS4qYgvGnH4S9nu+N5DGXW8v\n",
       "UWbvBXezE96cdTbhT+AkNfeCYvjQ0DCxQ6jVrPH0lsg6mL9l5hj726rvD1btHl4yYZznItifcUcd\n",
       "AmIwNYNQB4BhcDBXPd8LibgCQrHmWU5ho6wfSIVYNSmBrbZRKH8V2li5Ovl0Z8798DqDoSxprpSX\n",
       "IQ/gyuiInm03U3Tt9YSFYmMSQrUiWEUJ7oRZQco/C5oM9cHbL1TwFjYg+37wrJnZRe+FOsvBYD4c\n",
       "aEQZfwuJAK4C7BXUiziP+hhl7yyhEEtvEsqIbrMoAV1nZarBz6gIa4qel6q7aySHwR6fahx3NQ37\n",
       "Ha6V3yqmFplQkCFjL9Tpz1E+FFOLTHAwBMvzMmi3qfvUVr9QRC02gfW7MmZF/n/llNurXbYKF1OL\n",
       "TTBXKcOaeWdeiALuJRsld5PS/Ae9xDKshhhwEQAAAABJRU5ErkJggg==\n",
       "\" style=\"display:inline;vertical-align:middle;\" /></a> <a class=\"ProveItLink\" href=\"__pv_it/c493428c9670e76b09f3443cd6fbe781927f09c80/proof.ipynb\" style=\"text-decoration: none\">&#x22A2;&nbsp;</a><a class=\"ProveItLink\" href=\"__pv_it/fda864c443eafbcfd624164ba993b1ace33469300/expr.ipynb\"><img src=\"data:image/png;base64,iVBORw0KGgoAAAANSUhEUgAAAPEAAAAVBAMAAABlMBWuAAAAMFBMVEX///+YmJh2dnaqqqrc3Ny6\n",
       "uroQEBBERESIiIgyMjJmZmZUVFTu7u4iIiLMzMwAAACK+5nvAAAAAXRSTlMAQObYZgAAAAlwSFlz\n",
       "AAAOxAAADsQBlSsOGwAAA2VJREFUSMe1lk1IVFEUx/8z8+bL98ZmFRGFg4s+jGqIFi2CmSIo3ChB\n",
       "i2qhIdIiC4OspAxxUaQuhD42GgyEwYyLrDaRfTwiKGqhfUhlSubCRS4yTc1Sp/vuufe+mTeO2MIL\n",
       "M+8/955zfveec+99AyzSjENY0abtzDdydff/RysEXjgB6/IZj13kLoPOfs8c+ypujsuY0qA0eUmo\n",
       "vSV1yvo7PXyzt6Sdu3gbxUmn09PU9bypUwwWpB6z7wvs8yY55yS7+4Bg1PhAv5SB1o3t5VSNBIqi\n",
       "0voLPUJf35nCrh9PKE57KvWe+hLQycH4hFG2pK2WDixKXg9sFD+lgW7CV0k9k+htk6OCrCv3YALn\n",
       "aHlsFgmuXGEY5KBXwp9wkq8MDbUpMktHzMwm++ag/+LKW41Vkvyt3UmWfvCoXnetJDM/97iDfLg1\n",
       "c81/gIqoY8190BdU+LAQkRzyzYz0UcHhnTELyKG3FoGFbLLWkZltwyKHs8lWMceF8L6VyY5L8prm\n",
       "YVKzI83lcnfXCvHs922oNU9lk4NxFb+gDdoE8KMxhyy7Clueip49EGS/qU3RHpoNo0qM6nIK7vR1\n",
       "qDr/BC5nku0UlYWJHMkhD9jFFKWISDJrDUROA3dEqcvk0I79aXEsqjE2yQaiduDRIdZ4csb6mQEj\n",
       "V+SsuSChKD7qdMUzyHcpbfNAkVjrZjHiSiBWQ/J10y5WZ60+qgK/tO/OpMl3WCzqJK+Vd8sw/JNc\n",
       "HYAk1zMyFfozI4st8lHO04Q2qebP4rlv2IFDdrb93bBOZJHjVMETwT7aoHOSfLSnZ/o+VyfZNlJJ\n",
       "F2s2/grPXva5p847y2wsbgcONGbdJKuBJAxF5moEaIU1HV+3lW0xsRPgim2K42RWwepMyssyRw4M\n",
       "dIYrTw3KWGo2ZC7pWhY5FDVOiYvKMrCUNpDq6jNm6UqKhblibQZclSJQQw7+iFFFyjMBGvR2wNXI\n",
       "VWAQp0GnSj87/5Du5zozg2xsahlGaFAaWCrIXgBtGLKsjqTYG4MrJNPnudJSj0xyQEmXcNWs08XN\n",
       "xlKdQhWXlAuy3Q42ZNye1Oy3pVIecym1TAcHOSvb8rTmKDeWUst0yEcOVMrzpXadrV5hCbVcB7Z7\n",
       "F22GvPxcqstW4aXUch2MY3n+rJQ+WNn/YYVb2CX1D4xiEySjsO4lAAAAAElFTkSuQmCC\n",
       "\" style=\"display:inline;vertical-align:middle;\" /></a></span></td></tr>\n",
       "<tr><td><a name=\"-0x16f42b08627251c7_step23\">23</a></td><td>assumption</td><td></td><td><span style=\"font-size:20px;\"><a class=\"ProveItLink\" href=\"__pv_it/054b901afd6a050e889b9a780f8c17685466ad200/expr.ipynb\"><img src=\"data:image/png;base64,iVBORw0KGgoAAAANSUhEUgAAAQUAAAAVBAMAAAC9GeaNAAAAMFBMVEX///8QEBBERERUVFTMzMyY\n",
       "mJjc3NxmZmYiIiJ2dnaqqqoyMjKIiIi6urru7u4AAAAvZeGPAAAAAXRSTlMAQObYZgAAAAlwSFlz\n",
       "AAAOxAAADsQBlSsOGwAAA8hJREFUSMetVl1oVFcQ/vbvZneze5q2FkrAGH9aBH8I2GJbiokEEZ9c\n",
       "n/RBTGhprSBkxYcLLtLQ0hpt1fUHYlBwnwRBTFQQEdSoD0EECfRBpJRcFCyCEP/qT6K5nXPmnHN3\n",
       "7/6QBwd29ts5M/d8Z2bO3AUg/kEtqWN+b+KcMork9tmaPnXMDSUOPAxvtaWec/dyo5CeIUf3fFfI\n",
       "Q5oxNNZrnn5Ag62FRRptG1xmvdfyV2T6kvFLDR3l5/i+/5RNj27t1otN7irSC2FUqh/4Hql3IQ7S\n",
       "3FwSv/OvB4UZfawOnBznWuXRUzLev/JX8uBeT/vtx1f8nAuuu49tecQ4QPyJ1XS4YxIfM5sRqw9r\n",
       "cNgEHNY/M5pDzEOkhS1TmBwxq5pDzIY357GAj0x88golchAcEGtBNB/mMM9DJ2f9xsDAiOVAeRr2\n",
       "KjlEZhB7qVB2Lj4wHNZcCHMwcUhba6rdcKC41JMwB0pbp2qIv++U5+EVMFEK5aEfsRd2o5wGxSoO\n",
       "58pSyo2B7DOviQMm25F5EeZAclBV8Wp5LYTkkKvkIIv+RIPsb6YUvYbD5jHd29PrxsbNzWjXoPPt\n",
       "Ltg8vCvn0KTyE3+rqthrdyKz8wZYP1rFwZjiN7/Qlh+gOUQ9h3tbTOfQqldjhkzKvwjbD/8B1yVW\n",
       "qk+dNKn6pjlIIJkVh2IVhz1B0XWhioYDyWLm4AM7dEv0maXT3/n6Ss1F9xQtyHCpuvcrs6v06gES\n",
       "lTppFsRhoioPTXm7X4SNid4yDj9zKl8DPfr8x/VKIo/hNob/3jpD/eAsKbESBY/XpdwPJrU0vwqO\n",
       "GnDYaKZWF6JTCm2H4bCEOHBD/EEcdCv9Yhh7cKbsSeh5qSvQKtoh0wRH8k8GtZBmuuE9obuJdBE/\n",
       "cnPPGA5/rVjx9GuFPqXGsyXReRDPdeQkfb6084OyPSy3VErei3gRGblZZrRiRm0AChCWg0LrgDuQ\n",
       "vpEOWQtN8WMoRM3zEbtNUD8wylI2OYB2+1yhdBv6KF2H5PIhs9lPrsuT9XIFh2RJzNHDUHKQyNnj\n",
       "7uwX0zz2hnMKkTyDQluRaeOAaFG0Mkq/AS9mryIxqlDmAD5DeD5c831+2INlXhkHceJmF5LyLRSb\n",
       "//pbhZrpFTSCAel116V3lkIo+EsVctyVHgdgcKcOdeQdVW7d7m6NhgbHUWNGabm3uGxWswTvcIvS\n",
       "XiM0y4C6HCpqYW5/FUqhEZplQBmHTEtNDtYsbJ8G6DEaoNkGUL8bJVpr/5Uz5oQ1BSjXCM02QHxi\n",
       "FDXzNzVJ1DG/N4kfKWn1P+ZkMzxHQ2I3AAAAAElFTkSuQmCC\n",
       "\" style=\"display:inline;vertical-align:middle;\" /></a> <a class=\"ProveItLink\" href=\"__pv_it/16e353a027ceb8fadd07f4f4db0cb441d6ba513a0/proof.ipynb\" style=\"text-decoration: none\">&#x22A2;&nbsp;</a><a class=\"ProveItLink\" href=\"__pv_it/82f5b7eccea195291193c7f58871ad3e0663cdd20/expr.ipynb\"><img src=\"data:image/png;base64,iVBORw0KGgoAAAANSUhEUgAAAPEAAAAVBAMAAABlMBWuAAAAMFBMVEX///+qqqqYmJiIiIgiIiIQ\n",
       "EBDu7u66urp2dnZUVFTMzMxEREQyMjJmZmbc3NwAAADG9xhMAAAAAXRSTlMAQObYZgAAAAlwSFlz\n",
       "AAAOxAAADsQBlSsOGwAAA45JREFUSMe1lltIVEEYx/+765696WkhiJ7ahS5voS+JUoKVaNFFjTKq\n",
       "hw70UkTpWwWFCxXYRbILUUEoQaAPkZQVXQiDLkRQ20NEsIekeijCzC5qap2+M9/M7E3FHhrYPf/9\n",
       "Zr75zXzfN3MWmKAZe/Bfmzlnsp4ls/59tjCwOxewYLLBXTfdbvtZR47dM0RfLRV9as5qKfpTd6T6\n",
       "2HpLj77CD//4QzUu2HKU53Ec5yebtpe9lp1F9ln6vk2fTwgO55CDlUBh1FjLv3akhuQW2nCiibOR\n",
       "RHFUjV7Jj4LaFZYcV4MzPM9T217KtiRC7GAsx2Xa0iGStIINE5DnAcfkT58khyz469gyiMZe1SvJ\n",
       "Ie1emMRd3h6tIimUNw6DHUJ1iCSZvNVCO8d1cVVVryZTOGJWNtk/hNAfoQIbMUORLz3NJSs/eLQ1\n",
       "2K3I5Bf8ymQKTLtI9P7SzD3/BpqjOXuuRGhUTx+XIpFHfpQRPk44AmNWETs0dsM3ymRqtSI7jzOj\n",
       "bbjkeDbZTeZXKQLLVLD7FHluhazU8c6KJlXd3VK0f38JvedhRQ5/F9np0/MX9cIcAa6W5JGVKVx+\n",
       "QVreQZIjlsmVaozHUS97Q2oJQec5dJ6/AYt4I6IKCtMhGogzOZFHXpNOpkxFQpGp9TDZAV7JVA+o\n",
       "rtmfHXksNqJrkDqEuy1Ml6uoieB01dAAIjfn7bkoqSl+Nnr7MshvOWw/gGK51+Oyx5tErIHlrrKZ\n",
       "lGfzXlRY3bYzfXemLFFhsWgueaG6WzoQGRTqPRT5HpE50auJLEtklVqnBXNQr5/mCz5xAwHTXWtB\n",
       "OtqRNrgnsjjnVMGTwBcu0CFF3nf+/M9zQq2nMtJBl3s2fknPRvqc0uedIhsjZDgBn4vwlWTdJPOB\n",
       "FAxNFqoTKIU71t/mRlsubBOEoqLYwsOaKc+sAhQ5diDQfaE8DRig0Bwm+cG2+a57kEUuiBqb5UXl\n",
       "kl1lrrHfVBrjfCXF4kJRG4NQ/fA1sEMkYdSz8oyAOwOP4S0RyleNa+BT9cJxeIodt6wMsnGwvAMF\n",
       "7jsgdOPHaaEK6QXQiyp31AGb3hhCIeVcF8q0L1rsgNY30tV0T5cY1mW/lqqltQn6JpFtb0/G7ckt\n",
       "/bbUymNNpabpkEPOirY6rXkqiKnUNB0mI/vq1PnSVZdW2zCFmq4DVe+EzVCXn1eb0io+lZqug7Fu\n",
       "kj8r/Sf/7/+w8BG6pP4Cd8AHw9Ke0yEAAAAASUVORK5CYII=\n",
       "\" style=\"display:inline;vertical-align:middle;\" /></a></span></td></tr>\n",
       "<tr><td><a name=\"-0x16f42b08627251c7_step24\">24</a></td><td>theorem</td><td></td><td><span style=\"font-size:20px;\"> <a class=\"ProveItLink\" href=\"_proofs_/add_1_1.ipynb\" style=\"text-decoration: none\">&#x22A2;&nbsp;</a><a class=\"ProveItLink\" href=\"__pv_it/7dc538239d56604f657f3b9a5934abd18d6c4d6e0/expr.ipynb\"><img src=\"data:image/png;base64,iVBORw0KGgoAAAANSUhEUgAAAGEAAAAVBAMAAACkm51HAAAAMFBMVEX////MzMxUVFREREQiIiK6\n",
       "uroQEBCYmJhmZmYyMjLu7u52dnaqqqqIiIjc3NwAAACFAiZ1AAAAAXRSTlMAQObYZgAAAAlwSFlz\n",
       "AAAOxAAADsQBlSsOGwAAASJJREFUOMtjYGB4wIAd4BJn4D2AQyIWl47TQCyyAE2Q0QubUXwdkwUY\n",
       "GLgmMHBpzEfTsajzF5Ccha7jEQP3VwYGjgIg8z5MRzjMqSAdFeg6tBgY0hgY2BiQdZxF1sGG7tb8\n",
       "BQz6DxgicevgLEDTocLAoC/A0I1bB7cCZjj5MzBMx62DfQKIyeECBhDdjH8ZGHxw6+BxwLCCpYGB\n",
       "IRWho8XFJc3FxQmug/EDho4OBhQd6HawJqBrYAdawTCHkKuQ/XGage8Bgy0enxugp50NDLwLGDbh\n",
       "1sFxAU3Hk44OYJSEAFnK+U4XUHQwmX3RBQYMenqf////T6CwALLYWRQjsSd2sPfhIByZ044jf9jh\n",
       "yjh8BjgkFuPSwbwAl1EFOCTqsAsDAG6mWgEUbaU8AAAAAElFTkSuQmCC\n",
       "\" style=\"display:inline;vertical-align:middle;\" /></a></span></td></tr>\n",
       "<tr><td>&nbsp;</td><td colspan=4 style-\"text-align:left\"><a class=\"ProveItLink\" href=\"_proofs_/add_1_1.ipynb\">proveit.number.numeral.deci.add_1_1</a></td></tr><tr><td><a name=\"-0x16f42b08627251c7_step25\">25</a></td><td>theorem</td><td></td><td><span style=\"font-size:20px;\"> <a class=\"ProveItLink\" href=\"../../ordering/_proofs_/reverseGreaterEq.ipynb\" style=\"text-decoration: none\">&#x22A2;&nbsp;</a><a class=\"ProveItLink\" href=\"../../ordering/__pv_it/6639a652fdf5b7d3dd7fa8032a48921ade43c5ff0/expr.ipynb\"><img src=\"data:image/png;base64,iVBORw0KGgoAAAANSUhEUgAAAKEAAAAXBAMAAACR7DLtAAAAMFBMVEX///+IiIgiIiIQEBB2dnbu\n",
       "7u5UVFTMzMzc3NwyMjK6urpmZmaYmJiqqqpEREQAAACk/Np2AAAAAXRSTlMAQObYZgAAAAlwSFlz\n",
       "AAAOxAAADsQBlSsOGwAAAkdJREFUOMudVD9o1FAY/9VL7q65XEwRuhSrPYSCOlQRXM/BqbREvRak\n",
       "ywmVLkUKFccaLHapQxbRRTi7dbNd2orDFZeiWCKOdTgHBTvIOUg7OPh9L3d5L7lLJfdBkvd9v/d+\n",
       "+f69D0gv+WTIRU9yNhl6TU+DF1/TEBbLyVifD7zlxcs0jHfjf3ihKM+BR5yYRhrGd1HVvOQo2keg\n",
       "n3TNT8M4Fo3zgkqIjAOzTqxpCA1P1SojUbSf6K6WStfSMBaoMLc2oFdZmbncNusD9x9OULhk3gK+\n",
       "dxx7k8zIXpS/wGwy+yv5Iwzam5RVimAF+WrHMVmqpVoMOuUj7+8gy1uyknEP59x5Kvx5wHK02gmM\n",
       "+mSsbJkadFxBxmZlNYx6AT/5kyPXi3aXwqjtNFyPM8L4g8cL8cr8FnXjTvB26TWwPU530hiEpTAG\n",
       "RuzbEqA8ks8FD2fi3WMcYyqIGhPU533uA96pnXYWJWPLCLx3Q4CyROFaVfyIdrh+mG2CusDkk8tU\n",
       "GBPfcrR8uoZhydgyonIogaA/ClXjb/QWFo9mxgz2ntNriYwcCXQW99Q8CuPqnAJQdBSXPjt0HE28\n",
       "vmEffOJOCOdZrimm3kVcVxiFcWVOBUhGhade92590l4sa56GCu02mpJRGKe3A5oWEAyDHdzx/zNG\n",
       "pj/cuIlFHwf7nmQUxqlgQxvgLLkYoSyw3C6xjCrjPTbFfN216h39KNLUBnjdwOehWncXLSc6Op2s\n",
       "vY6ujCHA8iz50u/FZieKu+WOe/2LxA2BnsXt/eg/jdOPz3TMw5IAAAAASUVORK5CYII=\n",
       "\" style=\"display:inline;vertical-align:middle;\" /></a></span></td></tr>\n",
       "<tr><td>&nbsp;</td><td colspan=4 style-\"text-align:left\"><a class=\"ProveItLink\" href=\"../../ordering/_proofs_/reverseGreaterEq.ipynb\">proveit.number.ordering.reverseGreaterEq</a></td></tr><tr><td><a name=\"-0x16f42b08627251c7_step26\">26</a></td><td>instantiation</td><td><a href=\"#-0x16f42b08627251c7_step29\">29</a>, <a href=\"#-0x16f42b08627251c7_step30\">30</a></td><td><span style=\"font-size:20px;\"> <a class=\"ProveItLink\" href=\"__pv_it/837c9db313019480c5e42be7b01f74ec901570530/proof.ipynb\" style=\"text-decoration: none\">&#x22A2;&nbsp;</a><a class=\"ProveItLink\" href=\"__pv_it/be8dacaf1c1e9de3bf7769a194003f7daa4e078e0/expr.ipynb\"><img src=\"data:image/png;base64,iVBORw0KGgoAAAANSUhEUgAAADAAAAARBAMAAABp3DInAAAAMFBMVEX///8iIiLMzMwQEBDc3NxE\n",
       "REQyMjKYmJiqqqpUVFS6urpmZmaIiIh2dnbu7u4AAACjocmCAAAAAXRSTlMAQObYZgAAAAlwSFlz\n",
       "AAAOxAAADsQBlSsOGwAAAKRJREFUGNNjYHh7dhcDOmCSAxIbGDgbQJxnBXDxl9v+MTCwFzDwJYB4\n",
       "fBcPwGV4gBK8AVAJBoaD95AluL4+4IYZUngPSYJh/p8dcCPatiBJ8P5PQThn2TyERK/r/wUIiTi4\n",
       "BPsGhn47uFFTEEYxP2Bg+QGzfB+S5e+B9HRszmV2YGAIweZBrjwGdrCIGyJIIK7S3I0RiJzBH+cw\n",
       "UAAeCoKAEIwLAKTMN0epWPCpAAAAAElFTkSuQmCC\n",
       "\" style=\"display:inline;vertical-align:middle;\" /></a></span></td></tr>\n",
       "<tr><td>&nbsp;</td><td colspan=4 style=\"text-align:left\"><span style=\"font-size:20px;\"><a class=\"ProveItLink\" href=\"../../../__pv_it/0c1c4cb515e0f4344b1ac06650f349123e526deb0/expr.ipynb\"><img src=\"data:image/png;base64,iVBORw0KGgoAAAANSUhEUgAAAAwAAAAJBAMAAAD0ltBnAAAALVBMVEX///8iIiIyMjKqqqqYmJgQ\n",
       "EBDMzMzu7u5ERESIiIjc3NxUVFR2dna6uroAAABc6vguAAAAAXRSTlMAQObYZgAAAAlwSFlzAAAO\n",
       "xAAADsQBlSsOGwAAAEdJREFUCNdj4D296uROBgYejk6GugUMuawNDOsSGArqLjD4MTAw2DEw7ABS\n",
       "mxgYnrAzMMQwMD/gYeB6xsCj4MXAK8DA1WIAACOEDusgYYkuAAAAAElFTkSuQmCC\n",
       "\" style=\"display:inline;vertical-align:middle;\" /></a> : <a class=\"ProveItLink\" href=\"../__pv_it/7eb8117c0a5d387643495d33b46b16c30eb0e7cc0/expr.ipynb\"><img src=\"data:image/png;base64,iVBORw0KGgoAAAANSUhEUgAAAAoAAAAOBAMAAADkjZCYAAAALVBMVEX////MzMwQEBDc3NxEREQy\n",
       "MjKYmJiqqqpUVFS6urpmZmaIiIh2dnbu7u4AAACz5rqEAAAAAXRSTlMAQObYZgAAAAlwSFlzAAAO\n",
       "xAAADsQBlSsOGwAAAFhJREFUCNdjYLizZyUDA8MCBo4CBrYEBt4ABh4HEMn55AJXAgND3+vlQFme\n",
       "d8FAssbk3QQGtgUMdboMTBcYmJ8z3AMKtjEwGTAwODNwxjKwbWBgkFi1kgEAZacT9VqQ/CsAAAAA\n",
       "SUVORK5CYII=\n",
       "\" style=\"display:inline;vertical-align:middle;\" /></a></span></td></tr><tr><td><a name=\"-0x16f42b08627251c7_step27\">27</a></td><td>theorem</td><td></td><td><span style=\"font-size:20px;\"> <a class=\"ProveItLink\" href=\"_proofs_/tuple_len_1_typical_equiv.ipynb\" style=\"text-decoration: none\">&#x22A2;&nbsp;</a><a class=\"ProveItLink\" href=\"__pv_it/81879e0bae4cd5f94c584e9dc216654e327315510/expr.ipynb\"><img src=\"data:image/png;base64,iVBORw0KGgoAAAANSUhEUgAAAN0AAAAVBAMAAAAwUfbwAAAAMFBMVEX///+IiIgiIiIQEBB2dnbu\n",
       "7u5UVFTMzMzc3NwyMjK6urpmZmaYmJiqqqpEREQAAACk/Np2AAAAAXRSTlMAQObYZgAAAAlwSFlz\n",
       "AAAOxAAADsQBlSsOGwAAAoZJREFUSMellr+LE0EUx182WfNjN+t2uUY4AscVhxDESixSeXIojI0g\n",
       "wm3uP0h1rcsJV1mkObBQiF51YJHiQE5S5ApBSHERzs5iRYSzE+EKO9+bmbeZvc2QFV9g8t2Z976f\n",
       "ncnsTgDyEeNHC+MrzqdR1GBppInxwuHSDLZYyHgj262rearjxnKeqq8MpUhIfzWHz9nqfH4DVl6z\n",
       "C1Bds7NoTNUjj8QH0i+NDHegrUioOLDzngA8Prm04tTYgeaR2KWlTYwUb6KtSKiY2nljmr+dp8am\n",
       "zENRFyhnRkaZrcrzLmHldYrwZD3xUPg4i7qZccRWR2lXfWLjNQZFeLKeeCRutdu3zYxj9iZRO14J\n",
       "MbVn43ndIjxZTzwS7wF+mBmv2JvEYRxggT/gPq8to8c8eedLebKeeCT2odYzM26yNwr3LniruOlX\n",
       "bfNzZkV4sp54JAJBah532BuFdwkOPWC/bLzysAhP1hOFRDPMbJcMr5xAhGmNzv/xZH2FjQan2Dw9\n",
       "va8zXrM3iqgLZ2CuZ+73+/f1hIf41LvrVS76xt4oohn8bMbgJ7b5BaH2dPMoMd8vCe8XEs/xbr1R\n",
       "taPT7rE3inrob1RwNLTx5E4nzwh3nvsHdJNeKZ6sJ54UQR/g+rDEm/Qte6Nwdzb3W7gLY+vzjgt0\n",
       "7fvvHXDonb0BunFG2LSFHlP1xHP4RIri4KNQ0ulrbxIq9uzvz3W++pJbz6bI1BNvL31Dxs/eaemP\n",
       "tBUJFWM7b8pX3RyvApl64o25pzH+/ID1BXtf6A51fCzmBXqF3DDHewSZeuRlzqE0ttl7W3cEws5z\n",
       "tYWf90mPM1WPvEAs4tUm0GIh45NsW1fzVMeL5f8nVH2pT+IvxMKydHTGwfsAAAAASUVORK5CYII=\n",
       "\" style=\"display:inline;vertical-align:middle;\" /></a></span></td></tr>\n",
       "<tr><td>&nbsp;</td><td colspan=4 style-\"text-align:left\"><a class=\"ProveItLink\" href=\"_proofs_/tuple_len_1_typical_equiv.ipynb\">proveit.number.numeral.deci.tuple_len_1_typical_equiv</a></td></tr><tr><td><a name=\"-0x16f42b08627251c7_step28\">28</a></td><td>theorem</td><td></td><td><span style=\"font-size:20px;\"> <a class=\"ProveItLink\" href=\"_proofs_/tuple_len_2_typical_equiv.ipynb\" style=\"text-decoration: none\">&#x22A2;&nbsp;</a><a class=\"ProveItLink\" href=\"__pv_it/15ca85e877b39d68343ecda6fac6253fcf3a5c6a0/expr.ipynb\"><img src=\"data:image/png;base64,iVBORw0KGgoAAAANSUhEUgAAAPsAAAAWBAMAAAD0hvfJAAAAMFBMVEX///+IiIgiIiIQEBB2dnbu\n",
       "7u5UVFTMzMzc3NwyMjK6urpmZmaYmJiqqqpEREQAAACk/Np2AAAAAXRSTlMAQObYZgAAAAlwSFlz\n",
       "AAAOxAAADsQBlSsOGwAAAzFJREFUSMe9ls9rE1EQxye72fzobjbrQetFCIFSoQhBFEE8BA9ViuIK\n",
       "IojQpOAfUFC8dqlQBEVyUTxUifZUEJpCUaoppgdBKdQo9eYhUor1VoWgPdU3b2fya/uy4MEpfXyZ\n",
       "nTefN+9nAFTmiT8SvR/285IjAaGW4NbrExSpwxiLbnsm27HeDr7jSDh+wME2WpaJGqi/BoM2OOFG\n",
       "h9PYzPB49sen8gDxITX63vJ3GqLAY6LXqB8H4owSJUTRtmRFNA/V+GsAV5eb6nkvwqUyJF0fj4lu\n",
       "o7cRCDRrlBBF29JY+ZoaX8XVUuNjLug5sCqEF4lwKNF6IFDnhHqXewEHrrtKfK4/Xm9C7A/AScKL\n",
       "RJaoLhkMnOeE813us3IFair8QCmk+gzEfgPMEh4THc9mTwQDl5iAIrF02PHdjw6siJ5FFd7M98cL\n",
       "03YARgmPiV4BbAWjZpmAYs6z/ZTGrlvwwCrxRzMrrch4OS/98VOikA+Ex0QzuB/J4k9ZHWOCEMYZ\n",
       "MDPSm2pC2oFURlW9Vg/Fj4j/z4THRLaLiuwGi9NMEMJsgpb3z0MJCnmI76jwejkMb+KunyI8Jko5\n",
       "HTvv1H54vQGFMh/7hToM5P4dLw/tHOFlotKqaK6vnsfJ/3nI9cOeMEEIUfBHOvY1eOt2TH5g7cMm\n",
       "X9yKd7snHy6Ky8cYjmOnyFCk4sd9Y4IQhTr8SHkG4stiH4DVUFVvO4Q3gmRZ1y2AgwDrvPUw0Z0i\n",
       "Lkk8J7tbdMeOMkGIpGONRKEgvsRqthie6ajw8kgiHoNlY+x2isTIm5ei4kXCy0T2JJYVKcq1M+kU\n",
       "PGeCEMbEuZlB0MRLYiyu4P72lNeOyB3b/DUhg0Gr0E6XIivKT+7t7YmhHCW8xk9uwbPfic9pV6f7\n",
       "V5skAgrfvrCYVt/5w4Hg9rK7rYcnQ/jp1mXsTb2AK6C56+TAZ2GMhW95FlU1fi0Q3LJo13Mm8dXW\n",
       "T4Dqpwtwsx5fbHXbZsI2P8EOD76hxtteT3DbLrfUA3rvex/azodvnAnjPB/8xXbVeKPRE9y29sO9\n",
       "RXjbVawO1liDQRbd9l62g73pfcf98B9blpyhyCQlavvhv9tfSRzTM8AsDwsAAAAASUVORK5CYII=\n",
       "\" style=\"display:inline;vertical-align:middle;\" /></a></span></td></tr>\n",
       "<tr><td>&nbsp;</td><td colspan=4 style-\"text-align:left\"><a class=\"ProveItLink\" href=\"_proofs_/tuple_len_2_typical_equiv.ipynb\">proveit.number.numeral.deci.tuple_len_2_typical_equiv</a></td></tr><tr><td><a name=\"-0x16f42b08627251c7_step29\">29</a></td><td>theorem</td><td></td><td><span style=\"font-size:20px;\"> <a class=\"ProveItLink\" href=\"../../sets/integer/_proofs_/naturalsPosLowerBound.ipynb\" style=\"text-decoration: none\">&#x22A2;&nbsp;</a><a class=\"ProveItLink\" href=\"../../sets/integer/__pv_it/6b8ba64c741b0cd1914b5e178c483ddcbf6042c80/expr.ipynb\"><img src=\"data:image/png;base64,iVBORw0KGgoAAAANSUhEUgAAAIMAAAAVBAMAAACXjEALAAAAMFBMVEX///+IiIgiIiIQEBB2dnbu\n",
       "7u5UVFTMzMzc3NwyMjK6urpmZmaYmJiqqqpEREQAAACk/Np2AAAAAXRSTlMAQObYZgAAAAlwSFlz\n",
       "AAAOxAAADsQBlSsOGwAAAfRJREFUOMuNlD1Iw0AUx//apGnSNBYVFz+Qgoi6iAhuUgQHFSWICA5C\n",
       "HQQnqYuz3yCIdhGcpNoubh0UP4fqJIpQF4siKIiLYCmCKE7etXi5q2noQcK7u5df3nv/dweUMDzF\n",
       "t+ZQ2qgvvrVDnmdqPDoSfEH7daUJKEsBJ3Sy5YgY4+0kM0ePP8l7E5iluT47Is44W+7xM7uMIq4B\n",
       "1QSklCOiXZhV9goIlwmdRKY6ErSIOL/o5REq+b4jEOh0RHhJNeNTSzUsg/sjDiGFgEPg1eZDSwX6\n",
       "n2DGL3+zlb1JC6GTGFfgCdkgEswqT0GJdsPzZSFeLYSvETBMKcqL3daPqhCPcEUhyz/QsyyRKS4R\n",
       "hSz7/FY1Z6bfcCeZXrMAAV8W7j/lLw74cmpUr8g5K9wh7VR/QsLAadvpX2wqkdwdQUXStBOVJoJB\n",
       "0mD62UwtUEc30g/zklALg0jhCuIpV+F/raXT4BZJ5nos6ZqTc6GmpfG4gKCybYTRp9NTuWo1eB7h\n",
       "pUgjDCxXosLUcttpJBoEhEZC3QXWbwo0c798TBC92HGfQAz6dibzThAjqtAXaHZqvAVmdWFfUYL5\n",
       "KLRb0eu6pDPoyaI1ne/SK6BG9DK4q2k4QIcVl3XItRCqk1gnVdFawjBEhOxwFxhmge9Q5s3Ob604\n",
       "4hL4BWkze4D3/a2MAAAAAElFTkSuQmCC\n",
       "\" style=\"display:inline;vertical-align:middle;\" /></a></span></td></tr>\n",
       "<tr><td>&nbsp;</td><td colspan=4 style-\"text-align:left\"><a class=\"ProveItLink\" href=\"../../sets/integer/_proofs_/naturalsPosLowerBound.ipynb\">proveit.number.sets.integer.naturalsPosLowerBound</a></td></tr><tr><td><a name=\"-0x16f42b08627251c7_step30\">30</a></td><td>theorem</td><td></td><td><span style=\"font-size:20px;\"> <a class=\"ProveItLink\" href=\"_proofs_/posnat8.ipynb\" style=\"text-decoration: none\">&#x22A2;&nbsp;</a><a class=\"ProveItLink\" href=\"__pv_it/2d4035a614a0d469a9d642d040cf3512475e1f760/expr.ipynb\"><img src=\"data:image/png;base64,iVBORw0KGgoAAAANSUhEUgAAAD8AAAATBAMAAADVH8ihAAAAMFBMVEX///8iIiLMzMwQEBDc3NxE\n",
       "REQyMjKYmJiqqqpUVFS6urpmZmaIiIh2dnbu7u4AAACjocmCAAAAAXRSTlMAQObYZgAAAAlwSFlz\n",
       "AAAOxAAADsQBlSsOGwAAAQRJREFUKM9jYMADuBkIAFYyFTz8GvaA4fLnBTAFb8/uQlMRwTWBge8f\n",
       "3IQNDJwNqAomOlxnYDBg2BoaHBpawMBewMCXgKpgRgCbA4MAzATeALiCo4KCYNaUGpYEhAKurw+4\n",
       "C8Dyy85BTZjCqXAWoYBh/p8dYJolD2bFFIYA1gUIBbz/U8A00F64Am0+OQF4SPa6/l8AVsCAUMDe\n",
       "0GoA47FvYOi3AzGUBYEgAKKAYR4nXAHzAwaWHyDGUyQTGF7yCcB474F4OojBiKyA6UAA3ASg20JA\n",
       "DJ4DMKEgID4EV8CVx8AOkcqACUmAPIAIXc3d0Mh6GfUATCt+BupGD34wWBsoiCkMAH+QPUcvNnVs\n",
       "AAAAAElFTkSuQmCC\n",
       "\" style=\"display:inline;vertical-align:middle;\" /></a></span></td></tr>\n",
       "<tr><td>&nbsp;</td><td colspan=4 style-\"text-align:left\"><a class=\"ProveItLink\" href=\"_proofs_/posnat8.ipynb\">proveit.number.numeral.deci.posnat8</a></td></tr><tr><td colspan=4 style=\"text-align:left\"><sup>*</sup>equality replacement requirements</td></tr></table>"
      ],
      "text/plain": [
       "\tstep type\trequirements\tstatement\n",
       "0\tinstantiation\t1, 12, 14, 15, 18, 2, 3, 4, 5*\t{1 in {0, 1, 2, 3, 4, 5, 6, 7, 8, 9}, 2 in {0, 1, 2, 3, 4, 5, 6, 7, 8, 9}} |- (11 + 1) = 12\n",
       "\tm : 1, k : 0, a : (1), b : 1\n",
       "1\ttheorem\t\t|- forall_{m in Naturals, k in Naturals} [forall_{a_{1} in {0, 1, 2, 3, 4, 5, 6, 7, 8, 9}, ..a_{_a} in {0, 1, 2, 3, 4, 5, 6, 7, 8, 9}.., a_{m} in {0, 1, 2, 3, 4, 5, 6, 7, 8, 9}, b in {0, 1, 2, 3, 4, 5, 6, 7, 8, 9} | b < 9} ((\\# (a_{1} ~ ..a_{_a}.. ~ a_{m} ~ b ~ 9 ~ ..k repeats.. ~ 9) + 1) = \\# (a_{1} ~ ..a_{_a}.. ~ a_{m} ~ (b + 1) ~ 0 ~ ..k repeats.. ~ 0))]\n",
       "\tproveit.number.numeral.deci.md_nine_add_one\n",
       "2\tinstantiation\t6, 7, 8\t|- 1 < 9\n",
       "\tx : 1, y : 8, z : 9\n",
       "3\tinstantiation\t9, 10\t|- (9, ..0 repeats.., 9) = ()\n",
       "\tf(i) : 9, i : 1, j : 0\n",
       "4\tinstantiation\t9, 10\t|- (0, ..0 repeats.., 0) = ()\n",
       "\tf(i) : 0, i : 1, j : 0\n",
       "5\tinstantiation\t11, 12, 13, 14, 15, 16, 17, 18, 19, 20\t{1 in {0, 1, 2, 3, 4, 5, 6, 7, 8, 9}, 2 in {0, 1, 2, 3, 4, 5, 6, 7, 8, 9}} |- \\# (1 ~ (1 + 1)) = 12\n",
       "\tm : 1, n : 2, k : 0, a : (1), b : (1, 1), c : 2, d : ()\n",
       "6\ttheorem\t\t|- forall_{x, y, z | x <= y, y < z} (x < z)\n",
       "\tproveit.number.ordering.transitivityLessEqLess\n",
       "7\tinstantiation\t21, 22\t|- 1 <= 8\n",
       "\tx : 8, y : 1\n",
       "8\ttheorem\t\t|- 8 < 9\n",
       "\tproveit.number.numeral.deci.less_8_9\n",
       "9\taxiom\t\t|- forall_{f, i, j | (j + 1) = i} ((f(i), ..f(a).., f(j)) = ())\n",
       "\tproveit.core_expr_types.tuples.empty_range_def\n",
       "10\ttheorem\t\t|- (0 + 1) = 1\n",
       "\tproveit.number.numeral.deci.add_0_1\n",
       "11\ttheorem\t\t|- forall_{m in Naturals, n in Naturals, k in Naturals} [forall_{a_{1} in {0, 1, 2, 3, 4, 5, 6, 7, 8, 9}, ..a_{_a} in {0, 1, 2, 3, 4, 5, 6, 7, 8, 9}.., a_{m} in {0, 1, 2, 3, 4, 5, 6, 7, 8, 9}, b_{1} in {0, 1, 2, 3, 4, 5, 6, 7, 8, 9}, ..b_{_a} in {0, 1, 2, 3, 4, 5, 6, 7, 8, 9}.., b_{n} in {0, 1, 2, 3, 4, 5, 6, 7, 8, 9}, c in {0, 1, 2, 3, 4, 5, 6, 7, 8, 9}, d_{1} in {0, 1, 2, 3, 4, 5, 6, 7, 8, 9}, ..d_{_a} in {0, 1, 2, 3, 4, 5, 6, 7, 8, 9}.., d_{k} in {0, 1, 2, 3, 4, 5, 6, 7, 8, 9} | (b_{1} + ..b_{_a}.. + b_{n}) = c} (\\# (a_{1} ~ ..a_{_a}.. ~ a_{m} ~ (b_{1} + ..b_{_a}.. + b_{n}) ~ d_{1} ~ ..d_{_a}.. ~ d_{k}) = \\# (a_{1} ~ ..a_{_a}.. ~ a_{m} ~ c ~ d_{1} ~ ..d_{_a}.. ~ d_{k}))]\n",
       "\tproveit.number.numeral.deci.deci_sequence_reduction\n",
       "12\ttheorem\t\t|- 1 in Naturals\n",
       "\tproveit.number.numeral.deci.nat1\n",
       "13\ttheorem\t\t|- 2 in Naturals\n",
       "\tproveit.number.numeral.deci.nat2\n",
       "14\ttheorem\t\t|- 0 in Naturals\n",
       "\tproveit.number.sets.integer.zeroInNats\n",
       "15\tinstantiation\t23\t|- |(1)| = |(1, ..k.., 1)|\n",
       "\ta : 1\n",
       "16\tinstantiation\t24\t|- |(1, 1)| = |(1, ..k.., 2)|\n",
       "\ta : 1, b : 1\n",
       "17\ttheorem\t\t|- |()| = |(1, ..a.., 0)|\n",
       "\tproveit.core_expr_types.tuples.tuple_len_0_typical_equiv\n",
       "18\tassumption\t\t{1 in {0, 1, 2, 3, 4, 5, 6, 7, 8, 9}} |- 1 in {0, 1, 2, 3, 4, 5, 6, 7, 8, 9}\n",
       "19\tassumption\t\t{2 in {0, 1, 2, 3, 4, 5, 6, 7, 8, 9}} |- 2 in {0, 1, 2, 3, 4, 5, 6, 7, 8, 9}\n",
       "20\ttheorem\t\t|- (1 + 1) = 2\n",
       "\tproveit.number.numeral.deci.add_1_1\n",
       "21\ttheorem\t\t|- forall_{x, y | x >= y} (y <= x)\n",
       "\tproveit.number.ordering.reverseGreaterEq\n",
       "22\tinstantiation\t25, 26\t|- 8 >= 1\n",
       "\tn : 8\n",
       "23\ttheorem\t\t|- forall_{a} (|(a)| = |(1, ..k.., 1)|)\n",
       "\tproveit.number.numeral.deci.tuple_len_1_typical_equiv\n",
       "24\ttheorem\t\t|- forall_{a, b} (|(a, b)| = |(1, ..k.., 2)|)\n",
       "\tproveit.number.numeral.deci.tuple_len_2_typical_equiv\n",
       "25\ttheorem\t\t|- forall_{n in NaturalsPos} (n >= 1)\n",
       "\tproveit.number.sets.integer.naturalsPosLowerBound\n",
       "26\ttheorem\t\t|- 8 in NaturalsPos\n",
       "\tproveit.number.numeral.deci.posnat8"
      ]
     },
     "execution_count": 45,
     "metadata": {},
     "output_type": "execute_result"
    }
   ],
   "source": [
    "md_nine_add_one.specialize({m: one, k: zero, a: ExprTuple(one), b: one}, \n",
    "                           assumptions=[InSet(one, Digit), InSet(two, Digit)]).proof()"
   ]
  },
  {
   "cell_type": "code",
   "execution_count": 46,
   "metadata": {},
   "outputs": [
    {
     "data": {
      "text/html": [
       "<span style=\"font-size:20px;\"> <a class=\"ProveItLink\" href=\"__pv_it/afdbc842b070e15cc33d5695726895f75132a9250/proof.ipynb\" style=\"text-decoration: none\">&#x22A2;&nbsp;</a><a class=\"ProveItLink\" href=\"__pv_it/a16f517bbeb5f11023313093c4f6ff7710c26b260/expr.ipynb\"><img src=\"data:image/png;base64,iVBORw0KGgoAAAANSUhEUgAAAIMAAAAVBAMAAACXjEALAAAAMFBMVEX///9UVFREREQiIiIQEBCY\n",
       "mJhmZmYyMjLu7u6qqqrMzMyIiIi6urp2dnbc3NwAAABm9RoHAAAAAXRSTlMAQObYZgAAAAlwSFlz\n",
       "AAAOxAAADsQBlSsOGwAAAdFJREFUOMt1lL9Lw0AUx7+mv9IfFneXKg5uVuIgglJ0EQcJKnXTQpEO\n",
       "DnYRBJcIgmvAXfsX2LgICoKDm0OraysURReXgiAKCr67XEPSvtyQXN73m0/evbw7dCBGFv6bG/OP\n",
       "LEKGsLbl7NoNZBx5aw84r8MQDz17shmwDiCE/nzVn1xqFkjbyn7SiyYsFkF6wtYXgsGjyjddD5R9\n",
       "pxeOlVgE6evAk1qtqaJpgSgqe8EzL7MI0seAc8tdleNHRC1pz1Q98z6HEPoX0LAZRMKU9rio5nvr\n",
       "g66PHIJ0XSBMBjE8Iu1EQmYVU5TopocoG2JMw9Wzf0DdYRCxqrRHKMNjE2WannJZkC4RTQaRzEt7\n",
       "9A7YszBP0zqHIF0nRIPejRvGzJJhjHiIVNdDLEL/pel9CEKU85wrZ6bg1sIWX4l1Awvx14LeHQe2\n",
       "rfCFaA70H2jVM2CNy4J0bAAVcOXMSTv9GBxivUTl2uUQQo/Y+gqHiDtua+Wp428vRmvAAttapOut\n",
       "y1oQMTTxOUrojmuf886FPNvgc4Ft6/ifXpW96PWhySKKgZzMvh0o7VrvKHjhzwutE3bkZHPKrudU\n",
       "ZJJHePrA0OhH38jZmzou3K/dDDjfwhBbwD/ppJI+RrVBCQAAAABJRU5ErkJggg==\n",
       "\" style=\"display:inline;vertical-align:middle;\" /></a></span>"
      ],
      "text/plain": [
       "|- |(a)| = (0 + 1)"
      ]
     },
     "execution_count": 46,
     "metadata": {},
     "output_type": "execute_result"
    }
   ],
   "source": [
    "tuple_len_incr.specialize({a:tuple_len_0.lhs.operands[0], b:a, i: tuple_len_0.rhs}, assumptions=[]).prove()"
   ]
  },
  {
   "cell_type": "code",
   "execution_count": 47,
   "metadata": {},
   "outputs": [
    {
     "data": {
      "text/html": [
       "<strong id=\"Digit\">Digit:</strong> <a class=\"ProveItLink\" href=\"__pv_it/529af85ae13bbca61d15efade5ef44b2a68d178d0/expr.ipynb\"><img src=\"data:image/png;base64,iVBORw0KGgoAAAANSUhEUgAAAM0AAAAVBAMAAAAX/3cYAAAAMFBMVEX///8QEBBERERUVFTMzMyY\n",
       "mJjc3NxmZmYiIiJ2dnaqqqoyMjKIiIi6urru7u4AAAAvZeGPAAAAAXRSTlMAQObYZgAAAAlwSFlz\n",
       "AAAOxAAADsQBlSsOGwAAAxJJREFUSMe1lk1oE0EUx//52iRtstYvkEJrVRShKoUqraI2UkQ8GW8e\n",
       "hMaKVEFoxMOKoSiIomjb+AG16CEnoSCmKogXtdJDKV4ED54kC4IiCKlFsSZt17fzZrZht5Z46EJ2\n",
       "/tl5b37zPmYTAPonLOulPeLx3ZP/9w0CX9zPTpn/MO7cYd9r5uk2PJFSKwyobRjPEqzODG13fA7x\n",
       "4Cu/VHbR4Xss8pZl1Qn1bbJPToaN/XTfJOwuA7U5/RpPfM7MS5OTiM4JoafRlVOcKzxEBm/I3Wv9\n",
       "aGf1oM24wHZpBFjot3CAArivOMeAO3KhmOLQRlbykxKKo2pWcgJOgLVpbIRcHT1ChJLQ2SFQB3+6\n",
       "gkOB5U0XZ72JDpHMeANWKM7B525O3qkKhdDCmWxSHPKLTlVwfgOFnItD2ehIqMWSUmQ9nKcVBY+y\n",
       "fXzaDLNDsQmxnwsc3eYkXRy6BuUYv6rSllKc4xNyD+XDE++VfbccO2YvwolnTnLCo9D+AEfGPJzg\n",
       "rBzHd6rWheT4TU02STmJeuWwT8VlvYBTn1/AW1v3JpmT9XAiaacIMqlZxaFrK3Ms4JxqvSk5NdJt\n",
       "cYx6AzpLhCD3zn76SpyCNx7DUT5+GEpVcC7xiZsBumTiorJbQmnkG1l+nXxM9dGac9AzpuiDvLsP\n",
       "bHNOWwL+klBnoTjNxOEC3SSOLG2kSe7KhFZSq4RpvegrO9XUjHQCutx9jRFoYsvFecX50Nr6Y7dQ\n",
       "66jYTvpUPMUWOdJnl3O+CJ5Pyb4+CmSgOxyhglnETFv5Wuy8yW2shlBUzFVsVqD6SNdCml19tOwW\n",
       "YVbTiF4K+7Y6P5GcvkYeepsj1GnDaBeKjnc+qZeZMw2hehBrZDN/Vq+Xrvksu8ZfIzQmzGID2IyK\n",
       "c6o/HE8gYr8ZAxtm9rJ6Y1llVh8Neo9eFwFlrG1CaUabyZMYOi9dcYJKLFSn0ScdhofeV3L4Wvh9\n",
       "WETVmF5VpYObk8USKgqvqtKBObE6+U0fwxLqOzyqWgfqMXtGvTZCzvPFVNKrqnXQ14qhZ8/y/j8I\n",
       "3qX++Av06Pg+eBqaxgAAAABJRU5ErkJggg==\n",
       "\" style=\"display:inline;vertical-align:middle;\" /></a><br>"
      ],
      "text/plain": [
       "Digit: {0, 1, 2, 3, 4, 5, 6, 7, 8, 9}"
      ]
     },
     "execution_count": 47,
     "metadata": {},
     "output_type": "execute_result"
    }
   ],
   "source": [
    "Digit = Set(zero, one, two, three, four, five, six, seven, eight, nine)"
   ]
  },
  {
   "cell_type": "code",
   "execution_count": 48,
   "metadata": {},
   "outputs": [
    {
     "data": {
      "text/html": [
       "<strong id=\"nines\">nines:</strong> <a class=\"ProveItLink\" href=\"__pv_it/cb762d67b3fd8e8668e063b9edcd3585443269d50/expr.ipynb\"><img src=\"data:image/png;base64,iVBORw0KGgoAAAANSUhEUgAAAGYAAAAOBAMAAAAvVnRmAAAAMFBMVEX///+qqqqYmJi6urp2dnYy\n",
       "MjJERETc3NwQEBDMzMyIiIgiIiLu7u5UVFRmZmYAAAABFGnYAAAAAXRSTlMAQObYZgAAAAlwSFlz\n",
       "AAAOxAAADsQBlSsOGwAAAM5JREFUKM91zz8LAXEcx/GP4kTnGGXyEO4pqJsxmS8PAM+AMlgMNxoo\n",
       "g81wuww3KsVqUJRN+R91ZcAVv4/63m94Le++374/wDiuIYLjwWNU0SfoNSQwHyY6BJVUC9pWAiug\n",
       "RlBJlxE9S+AOlAgqSxtJX0J/AG7/h6NKMH6TCLabCiqfC68Sn1/U8woqehuDiwRmZmKTUVDBYpTz\n",
       "RfR9wXUUVN7PeIaAk/cHlZgdAir/fEuki6YjgawX9wkqySmqIhh7Wp6gAqtoykStHaPKC3ws2SLO\n",
       "8k4sAAAAAElFTkSuQmCC\n",
       "\" style=\"display:inline;vertical-align:middle;\" /></a><br>"
      ],
      "text/plain": [
       "nines: 9999999999"
      ]
     },
     "execution_count": 48,
     "metadata": {},
     "output_type": "execute_result"
    }
   ],
   "source": [
    "nines = num(9999999999)"
   ]
  },
  {
   "cell_type": "code",
   "execution_count": 49,
   "metadata": {},
   "outputs": [
    {
     "data": {
      "text/html": [
       "<span style=\"font-size:20px;\"> <a class=\"ProveItLink\" href=\"__pv_it/fc0de41d3f4c0337872307023f597fab48c417230/proof.ipynb\" style=\"text-decoration: none\">&#x22A2;&nbsp;</a><a class=\"ProveItLink\" href=\"__pv_it/29ccf5aab77f4f90935fa30fb45d828a6f23b0a10/expr.ipynb\"><img src=\"data:image/png;base64,iVBORw0KGgoAAAANSUhEUgAAAbcAAAAVBAMAAAA3Gr2JAAAAMFBMVEX////MzMxUVFREREQiIiK6\n",
       "uroQEBCYmJhmZmYyMjLu7u52dnaqqqqIiIjc3NwAAACFAiZ1AAAAAXRSTlMAQObYZgAAAAlwSFlz\n",
       "AAAOxAAADsQBlSsOGwAABVxJREFUWMOtWG9oW1UU/738z0ua5oPMfWumaIs6FlRExW2xhKKbuMCK\n",
       "dIi0umUfFLsIYvsl+lo62lmnYRNXdepjrVMZuDA/SNduC37Yl1Ibhn8qW93zD1j8Uku7P9069dx7\n",
       "X8x9SUxfSi+PvHtPT875/c4599zbADBQHCGszTBqkNr542oh1OUkyaVSlTDU1Xh9rgapGBYYlqEA\n",
       "X64WwgSfRnGMPoNZYKBXl1T2vR/Xa7TKDJRDVbb9DwEn1IgJ4zbTVeDM25KCZ+ndbTVCGJs2uDM1\n",
       "w1b0yax/AYzklU5JLb54urqdQKlAGPigRHrswA2US8F9spASALXpE5PcUYxI5eLasV2vDYI/pz7N\n",
       "nflSECnbT69+4G7gYUkvslKQZksFwkC3uXKnCmXHyHVXMDABX8KEcVmQ8MYQiBYVHDVDeBX4ijvz\n",
       "8KUvjBi9OoAl4Fwt5KZLBcKAxwx2MC+T81RIQQ9cMGGY5JwRBG/UQK4Mwv3AlM6c7RKph0qxclNt\n",
       "LJCPsH1yyvUSgWnAn6pEriCVRwzD9LlLIlevwb1sn1wZBJCgPcecDfLlb/ASCl9WBD5R1Guc6eHV\n",
       "1XJp1AgdnEbrS929hJBNkb54Gt8s3pFTfpzJWDOXQCBSiVygPFahKNL0GpTInSRy1yRy6Wke7daX\n",
       "Jz7G7Izmbvl6oLEaBJWRSzFnR/g6DUdYBJa2zFYpvo9ijlOtf2sutc6oy2BvQn0CYNNgJw4AtBgG\n",
       "r+niniMD3kwlckLaF2ejWcgpqBvodUQiN5eFcktqp3roikjIt9eoV/0ETxIjWhUIoZtAQ545e4oS\n",
       "Fo8vxnfEn4SLuufxhLLJ0rGd/FuumMqMLOMQ1XOCT8lyu8Fmz+jIFvWFgWCsErlgrCRvfeSXnHMY\n",
       "FnI3LWoPis4N3aWhPuenPXmlCgROLsucJfk6gza2qylJ6sFxec8R9b95d41AoVL5EEOsbMQUn57j\n",
       "ll0LP8ubjhtQ/gKPWsueeDzyHzkuLWnbcGv0SsplmYX7lkXpHX4yUFwbUvBn/RpVXhUIKpFrzzNn\n",
       "STO+PSY5ZqrY05wZ+OY5Bg3B611drzBy9VEx/fy+KW5ZHf1Hs2LR4e6olLmCVBqTrFNbyVFDCUoN\n",
       "5REyyMNNrqf6u7rChAUL1SDQnpvKMWdHWYApvotUln5Rj4el20EMDh5tP5XKsumBMsemwSQamOXs\n",
       "n/hs3gL4MKqWpbTn+uJ7WWFmGIziURCFVzoK9gCb+IQS1ZATgabMVYHwAPCGzpxtFieBwog7Ccl5\n",
       "PTRvOfw9UZMcXqDQ8z0X5lOPhvZfjCFkJ6mpFr8iDHijFRtKtMJJsJ69NkvkvB3wSe2XPO8ukPNQ\n",
       "iSfYnpuvBuE1sD5Dzk6x1Xpx7WOd+jvdyZulusSekIYfuEfayViXwFm8Z6jbxZSq5/Ltxiiy53Vs\n",
       "EepsCAO+fCVyBal0SGnisn5KIkfd5Tivw5MZ9syi7kUupvJTkggY/k6MZMshmOoMbE59njtrZatx\n",
       "+JldN1VNYGw/Cqbome19k59zW3fnEGoaM3AofYF2JpsqGydPfATHvcaz6YsJUx0FAy7DSs7x0OLG\n",
       "olQqjZy4cDIYd+5rFtonZjbAjCg9oYEmTnrn1ceAXwfPwt84c1clCEKdJebMhTB35grzC62LW3t8\n",
       "5Qv3kL17+e8oyZxFKjVLXRxQrrD9O79fswvBq/HCb+Pr7jUj1196cbZIpSu/OAkEjLUlx5xtAbM/\n",
       "LvrUyv+YNtsyHIralLaxwoSAYXe4IrYh0M2lLoF7xPEXXekrO6/aQuHUbUq/h0MIh21zo/1v2IUQ\n",
       "kgvnjzX6AeP1GqRmoFNr/BsKOfsXKQHmUzHmFaQAAAAASUVORK5CYII=\n",
       "\" style=\"display:inline;vertical-align:middle;\" /></a></span>"
      ],
      "text/plain": [
       "|- (\\# (9 ~ ..5 repeats.. ~ 9) + 1) = \\# (1 ~ 0 ~ ..5 repeats.. ~ 0)"
      ]
     },
     "execution_count": 49,
     "metadata": {},
     "output_type": "execute_result"
    }
   ],
   "source": [
    "md_only_nine_add_one.specialize({k: five}, assumptions=[])"
   ]
  },
  {
   "cell_type": "code",
   "execution_count": 50,
   "metadata": {},
   "outputs": [
    {
     "data": {
      "text/html": [
       "<strong id=\"number\">number:</strong> <a class=\"ProveItLink\" href=\"__pv_it/861edef40f0a82960ea4775835d000a10f73fec10/expr.ipynb\"><img src=\"data:image/png;base64,iVBORw0KGgoAAAANSUhEUgAAAEgAAAAOBAMAAAB+wkcFAAAAMFBMVEX///+qqqqYmJi6urp2dnYy\n",
       "MjJERETc3NwQEBDMzMyIiIgiIiLu7u5UVFRmZmYAAAABFGnYAAAAAXRSTlMAQObYZgAAAAlwSFlz\n",
       "AAAOxAAADsQBlSsOGwAAAPNJREFUKM9V0DFLw1AUhuFXW2MTYu0oXZp/YH6BIHSunToXu6uDe4UO\n",
       "Lg4ZHRQc3EQKjuKQURCMYwXBQrdCo1EUAhm8N4PndHmGy3fv+c6FevqGgnQRa447A/DvOT8SeLpy\n",
       "TxX+lO0GGyc4U4EJHCi8jKTLZpfqp8AP7CkqI5tI+ni54P/C+OKfyJRsBeVL30J5PxSgckfZ6Uuw\n",
       "TQ4DAff21Ww34jITeAzd94Zgxxmer5u5wp/vjiPBhGqFgXqxBB+x4EY4mT1c6y9BT5EUNrRyxjAS\n",
       "2IrXc0XtxY7zHthXcBM7gWI1sP9EuxNqqu2Zhp10wB8G1ZYFRyXKagAAAABJRU5ErkJggg==\n",
       "\" style=\"display:inline;vertical-align:middle;\" /></a><br>"
      ],
      "text/plain": [
       "number: 9999993"
      ]
     },
     "execution_count": 50,
     "metadata": {},
     "output_type": "execute_result"
    }
   ],
   "source": [
    "number = num(9999993)"
   ]
  },
  {
   "cell_type": "code",
   "execution_count": null,
   "metadata": {},
   "outputs": [],
   "source": []
  },
  {
   "cell_type": "code",
   "execution_count": 51,
   "metadata": {},
   "outputs": [
    {
     "data": {
      "text/html": [
       "<span style=\"font-size:20px;\"><a class=\"ProveItLink\" href=\"__pv_it/caecdc3acf35d92d497e2fc7a5c660e5849d333e0/expr.ipynb\"><img src=\"data:image/png;base64,iVBORw0KGgoAAAANSUhEUgAABAUAAAAVBAMAAADMTkrPAAAAMFBMVEX///8QEBBERERUVFTMzMyY\n",
       "mJjc3NxmZmYiIiJ2dnaqqqoyMjKIiIi6urru7u4AAAAvZeGPAAAAAXRSTlMAQObYZgAAAAlwSFlz\n",
       "AAAOxAAADsQBlSsOGwAABQVJREFUaN7tmWtoHFUUx8++ZjP7mAarIoHG+GoLNbqyig/EpESRguD6\n",
       "wQdYTBA0CEJW82HBtTQo2vho3aqQrgpdvwiCmGhBRLCuFkyL0Eb8oCKS0YIPENLGah9rM957z7l3\n",
       "Zh9Z8qHs+bIDuXvmzD3398/MmfsaAHB+hlbHKu4Ldljvtb/e5XeAr0V882HLOqu42x5RgN8aUY+s\n",
       "VnnkurZtdfmd4KOIxIooCpNuQw3lLs+P6db3kDFevJqsJ2YGTe278SdU+1TXs8tvYjue551E159H\n",
       "dtDFeOEOUV7lCy0/vcDJ95tn4kM0z8RXhT0F8Ec1emmDBulOVpwX8ex4cYWeVgb24+Ny8jBa0bWf\n",
       "x5+e116iXLJ2wy3YzoFC4WX05SGCAc6rsFX8c/sM7HeInePkm+aZ+CIyw8Tfp2E3AGxqoeEhgNfp\n",
       "NEUaIi6EetFzDpbm9FXSEDHhyTxciSkn9GCOx3LgYECkF8L54D04VnFqnHzTPBcfDmeY+CYHxAPY\n",
       "j7FfTU/PGQ2in5h16zWEViDyr7LSG2Cd1nDXgUYNOg4SxmsPaA0izj4RvAffLkCNk+/nABM/+nCG\n",
       "ia9zwFkWr+KwPPnpaDAPTwMsVhrycAoipwwoR0apScNHgZTGgQnSy24cA5YGIHWq/j1I/AOcfN08\n",
       "F99OZpj4df2AHGWsg8G+yJEack2dZc8JMtIv6Ds4pjVsnx9Gq7ZtXs/yrAEyhv57Bkwenq/PgR8U\n",
       "h41PzbPxv8YcYOCrIj6n5gPXS1hyzJCE2zoLcG+1SYN2RQ/dSJ7HgDSEXes8zjpqOeijqxEtxvY+\n",
       "ATMeiff+S/8e3JNV2tn41DwX38phDjDwVTEhHv4vC9Eh2ekk/bsi3EpDqUnDLn/QoY6qpDWIYzNq\n",
       "8ACeoiFpQl96/1GPprQbYESsAyYqgbFArQvY+DoHmPg2UA50ni+Lkd3S+exbaj6wdVocquuQbkdo\n",
       "WGzKw7i/kg2hMzYW0LATU/kMwCjl39t0JZaH2X5aCx75QIxH1pZAElzucvKpeS7+A5QDDHxZOEVM\n",
       "l53y51d/p1K6T/up5mt4UE9lhyGMi/onQWvYItrBAekVoYGGsue0YhcsswsQF+3Zn+uzO8VYVGHk\n",
       "6+aZ+FaVcoCBr4owzkg/VtMN/72UbrHCHG1Ym0CiBI/j5HJFa/gumz15q7IuExMP0yVRHjp/U+SS\n",
       "+LvJrF9Fts/q0c/xXMwBJr5pnomfzmaH1pd4+KqQ64J3XUstOFLVuj2K+wCK4BgNytoGcBSksFBG\n",
       "9kUkcT0oS/wfF2G1RTEeoZUW2YwBgrZRWYl+mBDpuleFuhiuxgIuvr7FbHzZGg9/r4YddsPYcXxW\n",
       "p6Gn4lxMm1FSg7SsXYXJKbWpF8uJ9ane3lsGZY1Dqh8DwiWnD63EWcCL6YMQqyortQeu0csS5bhf\n",
       "7w8w8c1rxsWHdQNMfLM/YJfpa8LxQTegwXnn0DD0yK8QkSvO3K6spOd5czAta31fGAS0oOhdqyyr\n",
       "cLOLATAzSaGWXKOoaiOFHWSVZxY0XjnSBfpmxMRXzTPyIf7FcpWHb3LAP37cHNirxMP/hmmshNvO\n",
       "WmMA3YOE2+Uz8lvkQF1fpFefTZYN7aw1BtA9sKHLZ+SrItXbUoNxO2ae4lt/QRtrrQFivtPg6PI7\n",
       "z1eF09dSg3HHjMu3cu2stQY4lzQ4uvzO80nE+G0tRazivmBH9I1K2+tdfgf4qvgf1OCR7yudaqEA\n",
       "AAAASUVORK5CYII=\n",
       "\" style=\"display:inline;vertical-align:middle;\" /></a> <a class=\"ProveItLink\" href=\"__pv_it/a7b774bff226a664d90ac095d182dcc826f147860/proof.ipynb\" style=\"text-decoration: none\">&#x22A2;&nbsp;</a><a class=\"ProveItLink\" href=\"__pv_it/9cf09820d9fc52ab131187fa9d6aa2d4af2261240/expr.ipynb\"><img src=\"data:image/png;base64,iVBORw0KGgoAAAANSUhEUgAAAN4AAAAVBAMAAADbZk3zAAAAMFBMVEX////MzMxUVFREREQiIiK6\n",
       "uroQEBCYmJhmZmYyMjLu7u52dnaqqqqIiIjc3NwAAACFAiZ1AAAAAXRSTlMAQObYZgAAAAlwSFlz\n",
       "AAAOxAAADsQBlSsOGwAAAjBJREFUSMedlkFoE0EUhv80Nmm33XQpRcWLtYJIPdhLqQhVCYuCqASR\n",
       "ojcRc+lBF3ryZBCFFCkN9dBLwQVFvKV4KlQwh+JFxCDeFBrw4KGIBlExBPTNm1Tim52CM4cvS5j5\n",
       "/tm3MzsLoAGnlnMbBr/mNq637jbuFdBXHjeA8p24g621STlohP7+YKjsCgawF/Aq8M5jd0MAj+up\n",
       "GxpeCbf/rYF3+CEN749FnF3BoJanmUTouYp0SQCHgGMafhvVSqeGUUe9SVnZksizKxj06CgvAwxV\n",
       "MPBVAL+AFxq9RdWD22C9Kw+zIs+uYAB7loArQHUCflPA+0bSfQoBdXwTJeUtizyrYtuzSnn39by+\n",
       "C/CUCgwq4xkk5T1LuL9khfb4jSWepKr2TwFV8pMRA6m3BxLzbvHl3VC1PAxPl0J7PoHyztG6KmK4\n",
       "LYAnhdTRGkPVs5aUtyHXp1WhPasqr0gdn75/3ZTwFp5vBgzqkGmp3RWGp6+H4ejfvP1y/1kVjGxj\n",
       "O49cLRNYjBmpAOl20v3NmC8Pi4LxGSpvhfv1T5jAA41qy5K3IZ6fXcG4ODb24wimyTKLL4EAXsa5\n",
       "pkZmVNfTyJsTN2dXMKhd40Xtn8WUBN7F6UgjG1n234J881sVDGq0Dy/Rz/pawcDA+r0OcLk8KfbD\n",
       "wZt5urogn55VoT2Y/z2NXcF/nCWD3WdQ7pTLcWS8dXc886LutRg5nX8nHM9pfHQb9sg177jjd4hb\n",
       "WZB1+u75A5BkT5hVLZACAAAAAElFTkSuQmCC\n",
       "\" style=\"display:inline;vertical-align:middle;\" /></a></span>"
      ],
      "text/plain": [
       "{9 in {0, 1, 2, 3, 4, 5, 6, 7, 8, 9}, 3 in {0, 1, 2, 3, 4, 5, 6, 7, 8, 9}, 1 in {0, 1, 2, 3, 4, 5, 6, 7, 8, 9}, 4 in {0, 1, 2, 3, 4, 5, 6, 7, 8, 9}} |- (9999993 + 1) = 9999994"
      ]
     },
     "execution_count": 51,
     "metadata": {},
     "output_type": "execute_result"
    }
   ],
   "source": [
    "Add(number, one)._integerBinaryEval(assumptions=[InSet(one, Digit), InSet(four, Digit), InSet(three, Digit), \n",
    "                                                 InSet(nine, Digit)])"
   ]
  },
  {
   "cell_type": "code",
   "execution_count": 52,
   "metadata": {},
   "outputs": [
    {
     "data": {
      "text/html": [
       "<span style=\"font-size:20px;\"><a class=\"ProveItLink\" href=\"__pv_it/caecdc3acf35d92d497e2fc7a5c660e5849d333e0/expr.ipynb\"><img src=\"data:image/png;base64,iVBORw0KGgoAAAANSUhEUgAABAUAAAAVBAMAAADMTkrPAAAAMFBMVEX///8QEBBERERUVFTMzMyY\n",
       "mJjc3NxmZmYiIiJ2dnaqqqoyMjKIiIi6urru7u4AAAAvZeGPAAAAAXRSTlMAQObYZgAAAAlwSFlz\n",
       "AAAOxAAADsQBlSsOGwAABQVJREFUaN7tmWtoHFUUx8++ZjP7mAarIoHG+GoLNbqyig/EpESRguD6\n",
       "wQdYTBA0CEJW82HBtTQo2vho3aqQrgpdvwiCmGhBRLCuFkyL0Eb8oCKS0YIPENLGah9rM957z7l3\n",
       "Zh9Z8qHs+bIDuXvmzD3398/MmfsaAHB+hlbHKu4Ldljvtb/e5XeAr0V882HLOqu42x5RgN8aUY+s\n",
       "VnnkurZtdfmd4KOIxIooCpNuQw3lLs+P6db3kDFevJqsJ2YGTe278SdU+1TXs8tvYjue551E159H\n",
       "dtDFeOEOUV7lCy0/vcDJ95tn4kM0z8RXhT0F8Ec1emmDBulOVpwX8ex4cYWeVgb24+Ny8jBa0bWf\n",
       "x5+e116iXLJ2wy3YzoFC4WX05SGCAc6rsFX8c/sM7HeInePkm+aZ+CIyw8Tfp2E3AGxqoeEhgNfp\n",
       "NEUaIi6EetFzDpbm9FXSEDHhyTxciSkn9GCOx3LgYECkF8L54D04VnFqnHzTPBcfDmeY+CYHxAPY\n",
       "j7FfTU/PGQ2in5h16zWEViDyr7LSG2Cd1nDXgUYNOg4SxmsPaA0izj4RvAffLkCNk+/nABM/+nCG\n",
       "ia9zwFkWr+KwPPnpaDAPTwMsVhrycAoipwwoR0apScNHgZTGgQnSy24cA5YGIHWq/j1I/AOcfN08\n",
       "F99OZpj4df2AHGWsg8G+yJEack2dZc8JMtIv6Ds4pjVsnx9Gq7ZtXs/yrAEyhv57Bkwenq/PgR8U\n",
       "h41PzbPxv8YcYOCrIj6n5gPXS1hyzJCE2zoLcG+1SYN2RQ/dSJ7HgDSEXes8zjpqOeijqxEtxvY+\n",
       "ATMeiff+S/8e3JNV2tn41DwX38phDjDwVTEhHv4vC9Eh2ekk/bsi3EpDqUnDLn/QoY6qpDWIYzNq\n",
       "8ACeoiFpQl96/1GPprQbYESsAyYqgbFArQvY+DoHmPg2UA50ni+Lkd3S+exbaj6wdVocquuQbkdo\n",
       "WGzKw7i/kg2hMzYW0LATU/kMwCjl39t0JZaH2X5aCx75QIxH1pZAElzucvKpeS7+A5QDDHxZOEVM\n",
       "l53y51d/p1K6T/up5mt4UE9lhyGMi/onQWvYItrBAekVoYGGsue0YhcsswsQF+3Zn+uzO8VYVGHk\n",
       "6+aZ+FaVcoCBr4owzkg/VtMN/72UbrHCHG1Ym0CiBI/j5HJFa/gumz15q7IuExMP0yVRHjp/U+SS\n",
       "+LvJrF9Fts/q0c/xXMwBJr5pnomfzmaH1pd4+KqQ64J3XUstOFLVuj2K+wCK4BgNytoGcBSksFBG\n",
       "9kUkcT0oS/wfF2G1RTEeoZUW2YwBgrZRWYl+mBDpuleFuhiuxgIuvr7FbHzZGg9/r4YddsPYcXxW\n",
       "p6Gn4lxMm1FSg7SsXYXJKbWpF8uJ9ane3lsGZY1Dqh8DwiWnD63EWcCL6YMQqyortQeu0csS5bhf\n",
       "7w8w8c1rxsWHdQNMfLM/YJfpa8LxQTegwXnn0DD0yK8QkSvO3K6spOd5czAta31fGAS0oOhdqyyr\n",
       "cLOLATAzSaGWXKOoaiOFHWSVZxY0XjnSBfpmxMRXzTPyIf7FcpWHb3LAP37cHNirxMP/hmmshNvO\n",
       "WmMA3YOE2+Uz8lvkQF1fpFefTZYN7aw1BtA9sKHLZ+SrItXbUoNxO2ae4lt/QRtrrQFivtPg6PI7\n",
       "z1eF09dSg3HHjMu3cu2stQY4lzQ4uvzO80nE+G0tRazivmBH9I1K2+tdfgf4qvgf1OCR7yudaqEA\n",
       "AAAASUVORK5CYII=\n",
       "\" style=\"display:inline;vertical-align:middle;\" /></a> <a class=\"ProveItLink\" href=\"__pv_it/a7b774bff226a664d90ac095d182dcc826f147860/proof.ipynb\" style=\"text-decoration: none\">&#x22A2;&nbsp;</a><a class=\"ProveItLink\" href=\"__pv_it/9cf09820d9fc52ab131187fa9d6aa2d4af2261240/expr.ipynb\"><img src=\"data:image/png;base64,iVBORw0KGgoAAAANSUhEUgAAAN4AAAAVBAMAAADbZk3zAAAAMFBMVEX////MzMxUVFREREQiIiK6\n",
       "uroQEBCYmJhmZmYyMjLu7u52dnaqqqqIiIjc3NwAAACFAiZ1AAAAAXRSTlMAQObYZgAAAAlwSFlz\n",
       "AAAOxAAADsQBlSsOGwAAAjBJREFUSMedlkFoE0EUhv80Nmm33XQpRcWLtYJIPdhLqQhVCYuCqASR\n",
       "ojcRc+lBF3ryZBCFFCkN9dBLwQVFvKV4KlQwh+JFxCDeFBrw4KGIBlExBPTNm1Tim52CM4cvS5j5\n",
       "/tm3MzsLoAGnlnMbBr/mNq637jbuFdBXHjeA8p24g621STlohP7+YKjsCgawF/Aq8M5jd0MAj+up\n",
       "GxpeCbf/rYF3+CEN749FnF3BoJanmUTouYp0SQCHgGMafhvVSqeGUUe9SVnZksizKxj06CgvAwxV\n",
       "MPBVAL+AFxq9RdWD22C9Kw+zIs+uYAB7loArQHUCflPA+0bSfQoBdXwTJeUtizyrYtuzSnn39by+\n",
       "C/CUCgwq4xkk5T1LuL9khfb4jSWepKr2TwFV8pMRA6m3BxLzbvHl3VC1PAxPl0J7PoHyztG6KmK4\n",
       "LYAnhdTRGkPVs5aUtyHXp1WhPasqr0gdn75/3ZTwFp5vBgzqkGmp3RWGp6+H4ejfvP1y/1kVjGxj\n",
       "O49cLRNYjBmpAOl20v3NmC8Pi4LxGSpvhfv1T5jAA41qy5K3IZ6fXcG4ODb24wimyTKLL4EAXsa5\n",
       "pkZmVNfTyJsTN2dXMKhd40Xtn8WUBN7F6UgjG1n234J881sVDGq0Dy/Rz/pawcDA+r0OcLk8KfbD\n",
       "wZt5urogn55VoT2Y/z2NXcF/nCWD3WdQ7pTLcWS8dXc886LutRg5nX8nHM9pfHQb9sg177jjd4hb\n",
       "WZB1+u75A5BkT5hVLZACAAAAAElFTkSuQmCC\n",
       "\" style=\"display:inline;vertical-align:middle;\" /></a></span>"
      ],
      "text/plain": [
       "{9 in {0, 1, 2, 3, 4, 5, 6, 7, 8, 9}, 3 in {0, 1, 2, 3, 4, 5, 6, 7, 8, 9}, 1 in {0, 1, 2, 3, 4, 5, 6, 7, 8, 9}, 4 in {0, 1, 2, 3, 4, 5, 6, 7, 8, 9}} |- (9999993 + 1) = 9999994"
      ]
     },
     "execution_count": 52,
     "metadata": {},
     "output_type": "execute_result"
    }
   ],
   "source": [
    "number.numAddEval(one, assumptions=[InSet(nine, Digit), InSet(three, Digit), InSet(one, Digit), InSet(four, Digit)])"
   ]
  },
  {
   "cell_type": "code",
   "execution_count": 53,
   "metadata": {},
   "outputs": [
    {
     "data": {
      "text/html": [
       "<a class=\"ProveItLink\" href=\"__pv_it/f2d44fd0ad31acf14f5ba8d3d1e70b384e4efa2c0/expr.ipynb\"><img src=\"data:image/png;base64,iVBORw0KGgoAAAANSUhEUgAAAIsAAAAVBAMAAACEWwD/AAAAMFBMVEX////MzMxUVFREREQiIiK6\n",
       "uroQEBCYmJhmZmYyMjLu7u52dnaqqqqIiIjc3NwAAACFAiZ1AAAAAXRSTlMAQObYZgAAAAlwSFlz\n",
       "AAAOxAAADsQBlSsOGwAAAcRJREFUOMullD9IG1Ecxz8x0ZiLxtihW6F06NDFbLpoHTpJhRuC0EEI\n",
       "BReHepudJChiQMSAg1AcDiziUiydhAjN5NAiZOjWoRm61yAlVAL1d+/+/ARztySQ8Hm/++R37/ve\n",
       "uwPaDPgxDcabg7ZZ9n6+w2jtRVCpbbrxpFpEhcaWbSZi1bEWeewn+9hKvSOOVFM6JduDD9LYYahC\n",
       "umqqz2GGOFJN6VfT+gfvYQQm6uSvTVVKX4kj1ZSWbO/6iMsbOCsx3jGTvZH+xTiKtHsEY13IOez6\n",
       "zf9Gd7bjSDUlKDuQf8qhH7UbrsNLJ45UU+LJM5lpts5rmfcKj3qmeGKnpppxpJqShBIYm2fF27af\n",
       "V35Ua+/CX4e+FGn3CNZcUtemjWz7bVjddxNItYAmJXGT4QpHZpgrhdcPSCDVfLL+u14bCTUr0Vb5\n",
       "U8S746Vb6GDRn1RTemtCZUt8kYdzgWm808gPN+1wVu9Pqimtm3Mz2qIsg8a5HIxX0j3f2IbMAv0p\n",
       "0pSGa/JokmmTKYY7F63oNxJINaXfcnSqAeejv3xOItWUduQ7F/CnsGi1kijSlArerh0HAyesZkki\n",
       "5yGlvXQFZ9CX6AbcAcgCvWCG0FH0AAAAAElFTkSuQmCC\n",
       "\" style=\"display:inline;vertical-align:middle;\" /></a>"
      ],
      "text/plain": [
       "(9, 9, 9, 9, 9, 9, 3)"
      ]
     },
     "execution_count": 53,
     "metadata": {},
     "output_type": "execute_result"
    }
   ],
   "source": [
    "number.digits"
   ]
  },
  {
   "cell_type": "code",
   "execution_count": 54,
   "metadata": {},
   "outputs": [
    {
     "data": {
      "text/html": [
       "<span style=\"font-size:20px;\"> <a class=\"ProveItLink\" href=\"_proofs_/md_nine_add_one.ipynb\" style=\"text-decoration: none\">&#x22A2;&nbsp;</a><a class=\"ProveItLink\" href=\"__pv_it/76a4ad70a30fa52f9b527e4c02aaac3edbbf26ac0/expr.ipynb\"><img src=\"data:image/png;base64,iVBORw0KGgoAAAANSUhEUgAABa0AAAAZBAMAAADAjR9RAAAAMFBMVEX///+IiIgiIiIQEBB2dnbu\n",
       "7u5UVFTMzMzc3NwyMjK6urpmZmaYmJiqqqpEREQAAACk/Np2AAAAAXRSTlMAQObYZgAAAAlwSFlz\n",
       "AAAOxAAADsQBlSsOGwAADoJJREFUeNrtXAuQFMUZ/vcxN3v7uj1cLyQHch7io9AK8REoCs1ecgio\n",
       "6CgnVQZl9yoCqcTHKgakNHVDjKQqWtxSCWoV0axgNAaRgwDGAHFPowbPwJyKCGXCWmokPg4kXEAU\n",
       "L//f3TPbszu3t3OQaKqu63p2pufv/9H99d9/dw8AuExVjWfCUBpKX+Y0rNFwXad6qNkGlXSRzRT4\n",
       "UmhUaWklL/tPgRPLbuA2DueGcP2/SR6DZyuN/MJVethFacGIwaSRrjQ4PoseFrjO0++bbnAdpZ9I\n",
       "bgirbtJrIgM2+Exqv4R7HsrbDfwmtHmOXD77XNesNm/SHFCqjukHu1FQUpYBrhPaWqqiXZa/6Q9O\n",
       "hrpIzfV6wXkgrv9IhQ+4wXUoSz/6EFbdQDLDM7sSPK4ZDJfqDs7sVJhva/4VA9TzFxdcFVMnACwv\n",
       "Kp35dC+UlgLTlsYhN8B9usZBxSJZD8JVeqmhLiyqNpQzOb/lHNcLKP7Ju8G1SkN36RBW3aRQjmfm\n",
       "vMiVbBkMlxru36rGQdTW8ccGqHdPccH3AD4A6BJPQXPu9RDWuhxnG3JmoUHO0VtkFZ9wkhVuAH++\n",
       "1FAXFj0LcDnn18VxXa0h+g03uGYjYvoQVt0kn8gIjjTQJDtuMFzWarzXM+A/IBUHeweoV19c8AnA\n",
       "FaiQJuKEmIw1s1ROT4HXMsB9Gier2O0kK5qCSG+poS4s+gfAXo3xo4y4pqWjm7Ug0r6MP5khrLpJ\n",
       "j4sMCBAFPVNwUO33bf6TzIPnsDwpDzBI1E+Lo6LPAUaloTrnhOtqB6/cALMtA1wnstXf4IhrU1ZN\n",
       "BwTlSec74NIiwIK1BuNHmUB9bmPj+e5w7WtsHJ0YwqqbtEFkCuDCCKMQtd89TYsHmG2LCO6r3Wr6\n",
       "66Nyl6Qi9eikgqNHTtMD6+ph5fldm7Bj6RY645Ph9YNzDXVEbcbur7PgTznh2iyVEsapncKAwIbh\n",
       "sbI6lxKQrdWt9YYDrk1ZScT1Z7Kh0L0R3FikEK5zjB9lwvVTAO+6wzVOpVFtCKtu0q9Exm6BqjR3\n",
       "KsEJsL9sMxYTKJ9oSV3E1zIKkrm/3UWOr2Zre26+7snAeVllLADdRibA0wD4MBugwRZf78epOuOE\n",
       "a166vpHS6SL8jcE8YcAqPVo+6iklIFuTy5UjDrg2NWhPgPqxZOhnkTcmgRuLAocA2mKMH8socgkE\n",
       "Uu5wjfRLSsrDN7js6pINFXXzwIPlBZdLl8DAQk6g4v2v4s/hOdTYeLDx641ngRe914wcrC8rqJgA\n",
       "Q9AagqAyERbIs/benxuLSClvg0IdfgzdHezNsltEwVqd7lZpIE2xM7LqzQZEGpxwHSneY1uPGqPa\n",
       "GTJAmQShsntwDgRkK8a+Hzvg2pRFuD4kGXpkjcq26Cq2iOE6wfhRJlxHNX/WrsitG7Keb1KPn2p2\n",
       "3NhL4KSUhWv075eUGDSfNiGZoGvZIGy5mPZYAyPq0uw1K/vp715i8WAtofNPuxbSq84/U5d4qKp/\n",
       "wPGlYiTZHGftt41dm+cSpBZ3zrN0swsJfbRwIVkyYiqVxeOWkEV5SXF3PG2Kyzz5WYD6kKVuPG7e\n",
       "TRSZGmI1LZiwyZ/R4DSztRwTJ5Am9AwkWQvPinfL8fXvXzTjEVDRj/+SNtWSHfwWvnsFQ4H38+Ey\n",
       "+tZNx/hapcUnDrXRGIqmLKypBxx8WbCDGxDqBW9CNJTzxg8jsK+Z0danQTnEZ4HzxCxgk4VmBSV/\n",
       "HZqUdmkRcV8bY/woE64jMXnZqNb1ZCOpybDR7A245ab34XW/FtIKuO62LxuJAnYDNMGTxKG2gfsu\n",
       "8jVVCQ9b1HiYAasOMpPvZ+bs7+vDxvLotIyC6+F11KTcYooUIwp/LEgVbhnGGoA7h+vhJEYzqkRI\n",
       "tK+PlhjD2bqnKhFJmUKqEpLi7njaFJd5clxjTd7U/F0RrtE3PiX6+iJQjpqt5ZgYgX1Xd61hwaeQ\n",
       "ztqQNt9HPn355RcJBTV5fjvrxr0MBcq0vo7iQRMc5+Svg6Wr0G4KPZkBvjwks6KhnDd+GEEJrldY\n",
       "68JuJ1m4boxIM5B3xRRwaRH28l6D8aPMztEznZISm9GASGeIufgAG8/UDW/GOvyFOASqw/LSgFEQ\n",
       "PMZDjW5NLkehHVmpaT/r8zUM14/x5XsHZBnwQwS8LBsjhyGplcc1KUYUvjSwSO0V1h7ZADmuhTCN\n",
       "xaN7S4SEeHDwPlO7Jq30mkKQTUFxdzxtiss8Ba7H85lxk8bemecOLIfINx7EOKTaIBcTPuAw7cs+\n",
       "KGzznTU5QiPvBWm3Vzka5N67Gmdzhg7u3eg2MhHaCAWJu+HawzbuD0HZOESKr9ejj8VIJEMGoGPd\n",
       "YTaUYxIEtuGIY/EzayQ6xiHRPISlkZrMrk27tKgHYIdmi0Ng+nK82XJLneeFNHioIPLj38YI1+H8\n",
       "4g4YQbV27Vks49q/G5tX2RLnkSajQHgEjoDPsJR9nuEaxx5xVE7muF5D3eJ7bCcPUyeTeYdIB6xa\n",
       "ky3F9azOqeathx9qZKBdhwstDIa1ALftbLpcmSwREgA/PY1K0N4kVj1qCmmrnWMp7pKnrLiNp4hD\n",
       "Pq5DYnWuzt/x9JbI4AWVBlo0BsoxiGbeKIdrRmD2DBtxCltNRS4QbSsWCAeUYx6BAsD4Mcii0TS7\n",
       "9aGL/5m+AhIIJ2kd8SqzMZx3XDfmHbb57hBGJA34Z0Qvh2tG0PVibWrEPFGEtmI7zMg5rRuFrPA4\n",
       "CrKstAPZxNxZ9BzFOowfyyTsLtoYWZXzpTwpNl1DJD15D+G6avjOCWyyhV3+6x6RcB2g6PuqdBtz\n",
       "HpwCtoHay0Fs9hTbbfUsY1eF4frRu28k06fM4iBl89WoQ3yebstBsKiLlTNUaxDP5vZnAIWeDQWX\n",
       "wTdGv8paIZYsFQJ7mPy+BJsQMUITQoZp9ZbibnnKiss8Oa49YzwdEPxAF+94ulhkBAj7gIEi8mXw\n",
       "bEeigGvlExKRMS8gCMyeof7I8WNGzxj40KyCf1V55TDzOl58Oz8LU+EXunIav8UJftSd+jRIvKrB\n",
       "PmLMeQ/TomhJKOaE61DJPh6OxJHCiOpYeKxf8tfEjinOLmASvDQJMVhnbq+nCIEfOO1fW7LOgRlp\n",
       "wQ//boJkOuHOIq+hjOf8KDNcR5Hj3cPQG4QS/JQzkg55qIt8l0Gan7Hugo5TJFzDexQY0IprqSZO\n",
       "YdUHCde+WAHX9GELAZKK3lDEhNpGLi7H93wYVNV5N1NfPXn1DuzuZfa9ilCHasV6/Ph1kUEY/IaE\n",
       "wVv52CJfGNGTpUI4eBcsoCg7+O61x0whb8E2S3G3PGXFZZ4c19FYOBN8R7PesbRSZJjODnjZSJgZ\n",
       "v701LfnrsaIj+QUEgdkzbLW3lb9ovjRrVRkLUQPqTyae+y8yIPDDZh3u66xDArpVW7tblkHV9foj\n",
       "nfEsMea8/c10lu/V7biuevtga6FUOvcx+IccaIDSOmXJVyRcM3ZjTe1BEASubEAPvcHcrkQLZ5nb\n",
       "1yaui2S11M4z+eHfR+BZp7mzSGmiDQriR7nwnWorotRrwLaenh4jklYSNAjaMaYNP9TT8xHiuqVa\n",
       "xjUPoOtAXakJigVzWDBRiEMI8qz/ccIL5DiuDbamwIiDubEXxFKb4lFlD+3M7ra7ipqsx9ohYYqp\n",
       "czWa3I8VMBgQW+9taNS9kCwVEk7xTYhV5A6u+80RU8hE2GQp7panrLjMk+Palw2l5vNeZO94f6V5\n",
       "RoB4WcEZ1p5WwwB7QKJn3KQVlZH9BIr8ta1UCpA1vlPstYKfVwbgXBVDj3SO+XSGfQ1aVtbxW0S5\n",
       "gOvxcAq0q3Ab99ewhkzdHmzQ1QT318HuIlyj6/rwavBqwClokrKtGwMpFR9mpAMIBbX50kMGWx22\n",
       "6yziZmHnO/z4jX1q8iM6pFWLVuJJPfq81vVm1xpcHd9mTmm2NR4sgdtRlfHoSpGk+ZnpJUKiCX5e\n",
       "Rp/AqFowYwrphQsLirvkKSsu8+S4rtF8hnK5Yb4TAWQHzwiQ1aygq2Jci575L+Da/PYqmHMqlbYn\n",
       "+DYfN6AiXPvSnnzggDkMbF9SPVFe1vFbtEXGdeAA+oXtfn6OGM6CJ6UkoFVtSPCzyJfAipYsfz1B\n",
       "PZojXIvTSrbP9zi0sJ7CyksX3qG14PvwBfgAgV4qSyCXFnShagOV4RqohXzBHHz4EO7n+3wtRCcu\n",
       "Pr3tCXg478u+BuKAk+/zZaj2K0QbeG/hRnwYA8+hLPS7mk0IKePLEa/lUIUE0Vx1mgmhKri8sBR3\n",
       "wdOmOEg8LVx7te14PYVOBuidSPt4RoDwL8aieoW4NnvGTTq9sjOrfIWlq80P4/ZViut29NjhvLmP\n",
       "HdVdaXB8FjGeFq6DKXgAlpyMnUpxFGIsr16IJTekYSl2TfCsNP/XBDKuV/81znG9NG3Co2kjzDcC\n",
       "0z6NYeVv9fXhg9pUp+MDbP+3gT8t8QSWQbxeozKcnpB6XZwIHomnOa6xygSYr9PFCG7pvgyj/2vg\n",
       "B8AVYxTNrPZPf70OKXx9fQfw4bba7xPf8P4bbULoB+dOLLundirxa5rCWWDJHXFJcRc8bYrLPAv7\n",
       "IetYf27HdXDTFJDXvZg9WeD/JEAsWoFaq2xfmT3jIj35r32VkDl/C+FQ+jX0CtLiHVhDlU2PQrUe\n",
       "aDU5KXlXGhyfRdwzlxxLt/T0iDVJRCh1ec/7Refo8hSlmRS7RYkhV7Y9RAYkyFglhXdeeA3G5YRi\n",
       "JoAGZGX0T5CxSuyKV8jTUYBt/1qkv9u8VCDHs5Xu/cK/WfmLi9KCEYNJ97rS4PgsYjzL/fvGnf1+\n",
       "HyLtAJ20FaQVP3WxJlW2PTiV2QkIHhFrCIu7meguWnVpaV0JK/HgWJYpsm0luOLpJMAR10Ppi0vl\n",
       "cJ2rANdyOZ8qw3Jl24NTmZ1gkWGVgHwnJbGhNhCrMPRbRkJstgnFK+XpJGCRMYTr/xtc94ff/v7/\n",
       "kDuPVxl1ZwU0uRMv5MQprg8h6kuRho3O/QfgBWZnPdO7gwAAAABJRU5ErkJggg==\n",
       "\" style=\"display:inline;vertical-align:middle;\" /></a></span>"
      ],
      "text/plain": [
       "|- forall_{m in Naturals, k in Naturals} [forall_{a_{1} in {0, 1, 2, 3, 4, 5, 6, 7, 8, 9}, ..a_{_a} in {0, 1, 2, 3, 4, 5, 6, 7, 8, 9}.., a_{m} in {0, 1, 2, 3, 4, 5, 6, 7, 8, 9}, b in {0, 1, 2, 3, 4, 5, 6, 7, 8, 9} | b < 9} ((\\# (a_{1} ~ ..a_{_a}.. ~ a_{m} ~ b ~ 9 ~ ..k repeats.. ~ 9) + 1) = \\# (a_{1} ~ ..a_{_a}.. ~ a_{m} ~ (b + 1) ~ 0 ~ ..k repeats.. ~ 0))]"
      ]
     },
     "execution_count": 54,
     "metadata": {},
     "output_type": "execute_result"
    }
   ],
   "source": [
    "md_nine_add_one"
   ]
  },
  {
   "cell_type": "code",
   "execution_count": 55,
   "metadata": {},
   "outputs": [
    {
     "data": {
      "text/html": [
       "<strong id=\"number\">number:</strong> <a class=\"ProveItLink\" href=\"__pv_it/3dabf03e1346646b3d2bf9375dd7b85cfda32d960/expr.ipynb\"><img src=\"data:image/png;base64,iVBORw0KGgoAAAANSUhEUgAAAFwAAAAPBAMAAACb27UyAAAAMFBMVEX///9UVFTMzMwiIiIQEBAy\n",
       "MjKIiIiqqqqYmJju7u66urpERERmZmZ2dnbc3NwAAAAvvFLTAAAAAXRSTlMAQObYZgAAAAlwSFlz\n",
       "AAAOxAAADsQBlSsOGwAAAcxJREFUKM99kr1PFGEQxp87dm+/PyAWWt2S2NhR+RGbozJHQVYrDQbP\n",
       "UCNbGDvDNhY2uomUkN0/gGJLQ1CWBhKzCYQEabhAQkkMeFHP8zTrvPNCYeOb7C+T2Wdnnpl9gX+P\n",
       "+xr/P18O14CV+U8UdruBVlXVNwrrBVBuJhewy2sXMAq8jVCgFuEkq00498vyFslHfLzr1KcljJu4\n",
       "fsxAo4801GMYIR7Dym3yQ4Ux5+MKsC5Ra8EqGDCn4IVOTnJtQDINqAkvr3x8B44kvBDOOUO4X4zN\n",
       "YWLHaksOs0ePo/rGEFi4IRCkORo9Br0ybwPNH9vwHnwW87o54Zkqq2cMUfgXg/o+HaNq1SzSh1Ai\n",
       "8pLRJ7HK3jdihrD9k8FmIrw8rbL0HHYbOBNeQPKlrN6MGMYUxvsMIVcGeoHFtjcBnbrtU+aNkBtb\n",
       "BwsBA8vzL3oS9QBWX0ng9kdC6NTtLnnpCDmdneQS9kAiHZA8pfiqxdWNrzT86GhzcpdyM7iEmkso\n",
       "PplRjoGPJnlvwfzN26T088TtSWhtnAUM0A+lvT+C3sEHLEXQ/rDcyzGXWLFE4w7eSwCrJV2x8ZJW\n",
       "7pS0UveeUNtPhh2nK3JdvnuHmcRfZsqnP9CL+t4AAAAASUVORK5CYII=\n",
       "\" style=\"display:inline;vertical-align:middle;\" /></a><br>"
      ],
      "text/plain": [
       "number: 386749999"
      ]
     },
     "execution_count": 55,
     "metadata": {},
     "output_type": "execute_result"
    }
   ],
   "source": [
    "number = num(386749999)"
   ]
  },
  {
   "cell_type": "code",
   "execution_count": 56,
   "metadata": {},
   "outputs": [
    {
     "data": {
      "text/html": [
       "<a class=\"ProveItLink\" href=\"__pv_it/c28c3761a268aa7093a044db5153486264cd020d0/expr.ipynb\"><img src=\"data:image/png;base64,iVBORw0KGgoAAAANSUhEUgAAARIAAAAVBAMAAAB4a3wcAAAAMFBMVEX///9UVFREREQiIiIQEBCY\n",
       "mJhmZmYyMjLu7u6qqqrMzMyIiIi6urp2dnbc3NwAAABm9RoHAAAAAXRSTlMAQObYZgAAAAlwSFlz\n",
       "AAAOxAAADsQBlSsOGwAABA9JREFUSMfFll1oFFcUx//Zr5nZ7IcLjdRaMS8tFrFJWxFboSQ+pTSk\n",
       "S2G1GJCp4PqQipuCeWjRDsamD1qyRR+EYE1B+9A+JCC11BDdasAnyVSwadVNphVF7EPsNsYaUrbn\n",
       "fu3MZOkUBfGy5P4zc8+9v3vuOecOHLCWwlNrcmkHN3j/w/+Mfu/JkSRGeXdDkBg2UuUdJfFKv/6z\n",
       "VCiXh3lvVKvVOWX6tezz71v+OePmo1LE8s8qL0iSz4ABRB/K18AKoW6WGlq5SPbm868r81dE1z8a\n",
       "7/LPG14WuGyy7om+CScdaJaHZCdwvqg/EO9znIy1PoSaFVxKbbhRkjwDvOif+HQwye26Jw1tCJmI\n",
       "mh6SNmCiBElyRZEYfysTg6yUPtUreho94z+crcEkZ+qepAtI3gM6XJJEgS93X7yfXMN8RE1r81hd\n",
       "U8IWJHqF/Djs874WSBKfr3s02IzGBWCvSxKzmb6YlT6rnikK5I+uf1DLnmZ1OI7HJyXvvOcEycW3\n",
       "j+/H7TEzsf5qvokMe8gX3eO/4Iu/MsX4d2OFJT5ZBH5ySTTG8G1G7XDmgSgyg3sRKaojVYveQm8t\n",
       "Tlqy3kzPSp/Mf3mfYvl7RDrRb1JINhaMLuwCNgAHgNYlcUIHsdUlCfP1DJk7xnTLoiC5h1iHNJqt\n",
       "HY4iOViKry76UkOSvAYrbCJdpH+NRbb+QyKZdJiasGB7c6cTX9GiR1ySiNjwO6I+bIExx1W6FdFF\n",
       "aTQl+6ijSPSeX31xsl2R0PuRLDRbM6HPx2nP+4DDM5wkXDnnC5SB8SGKkxE/yTfkbLFFcsMsV+EC\n",
       "ojKK8ars/4AiobbHU9pSo4qkDzixM5cbJhJUjPlcbhsGVpzgJPpUdUn1i1F+TnjipAi9akkSnfKq\n",
       "gQdAyPWJ/qe0/DGTmVulpvnQW7QzmdXt3PXkghE2k/AJO3KjEyOMxL6DTxf8JFqz73RCVPrb2eno\n",
       "7BlVzpDDVILipA183wmWgtID7UIdtVIL0L2zRoRP9glVYnGywEYnIiYm7zp9sIeAJhUjjLADs3TA\n",
       "77okyWWsslI9GWQ5dslCt1DrcFBWXuMfspWVryLUaSuUFcPoD+/TItPpFOKdSDpaF/ptnCxhOm3i\n",
       "/ClnCvZRCy/L4cyicSNeIIMeT2Wj1Erk6QYMb2QlaHleqmT+OUoF5oDUW5AKu6pruUqWqdjwYZQp\n",
       "9EPskwq7Vi/MvQT8tnsaWtPY82S5vOzEVw59/jEaVjmXu8dLcji3LPO79k1PtX9DOfgY6pRhBalj\n",
       "/11UteCruWaZavWQbHGrRZ1KIkjZj01Ss4xlPSQhR4bRaK3o1NQhBCh3WH0L/khwLX/3fp/o8laJ\n",
       "1ga6KhukogHfYi2bnQAS13KNJDkrb5On1qKC9+y/U8NBPOm3LLAAAAAASUVORK5CYII=\n",
       "\" style=\"display:inline;vertical-align:middle;\" /></a>"
      ],
      "text/plain": [
       "|(3, 8, 6, 7, 4, 9, ..4 repeats.., 9)|"
      ]
     },
     "execution_count": 56,
     "metadata": {},
     "output_type": "execute_result"
    }
   ],
   "source": [
    "Len(DecimalSequence(three, eight, six, seven, four, ExprRange(i, nine, one, four)).digits)"
   ]
  },
  {
   "cell_type": "code",
   "execution_count": 57,
   "metadata": {},
   "outputs": [
    {
     "data": {
      "text/html": [
       "<span style=\"font-size:20px;\"><a class=\"ProveItLink\" href=\"__pv_it/f924f3773e1b23115ec7d43112406bd8578694080/expr.ipynb\"><img src=\"data:image/png;base64,iVBORw0KGgoAAAANSUhEUgAACAUAAAAVBAMAAADGVNgIAAAAMFBMVEX///8QEBBERERUVFTMzMyY\n",
       "mJjc3NxmZmYiIiJ2dnaqqqoyMjKIiIi6urru7u4AAAAvZeGPAAAAAXRSTlMAQObYZgAAAAlwSFlz\n",
       "AAAOxAAADsQBlSsOGwAABu5JREFUeNrtm2toHFUUx//Zx2xmszsNVosUGmN9FWrb1SjVoiYlihQE\n",
       "1w9tBYuNAQ2KkGiQFWNpUbTx0bqtYhtb6PpFEMRECyIFa7TQtAg14geVIplasIpCmlj7is16575m\n",
       "stmsYbad05gdaHP2zDn3d+7eM2funbkLwPoZxY4p1BftMD4ofb7Cr/Av5fFUS4WvB+Gbj4vaTKEu\n",
       "eUSAXwuH+tGpjJuXlmxrNvEftyvff9D8yK12Kb9A+XT9F4MQH2eGPc8OFpg4avQMqGIV2SqFtq7r\n",
       "pfTkjiXa+n7xp2rsc2Vn9rwj2snn8yNC9fvhDfJkLHMP+/86t+bt3kHK19ZE/F5mVEvZf0Q6yum/\n",
       "8vbN180Hw890svwPpTTM40fC94CC5vNBMDcBJxA9XxCDo67JWa+KT8e7xmVZSWGPuFytDqzPKeuX\n",
       "xZ/qt16Txc3YgjtEO3szmdeFrgNh4WC9iZWsczs1LAasoORrayL+ruWZ53OEfOaZKqf/ytsvXzcf\n",
       "DP+3/sg8QUChHw3fBQXO36lg3+assSIxPAxslx8TMoawjSpxx0qcx3CfOitzMOz2qgML1eVtiCoV\n",
       "TcMSDuFahDq8ObAa+IOSr62J+OxDGyUfOJQqh6+8ffMTRWvApeLfAtw04RoMT54qB8r3gILm6xrw\n",
       "3SBkDfi6u7tPx8DmCb32xBiqxhE+zaXkAsxRMdy3tzAG5Ye41pr1KgbmZ5705sB2XQNo+NqaiM/K\n",
       "c4qSj8gj5fC1t2++rgGB8Fmu75miBtDwXVDgfF0DmOnf/OzRI946dAYYyhXUoU0In9KgtBSyk3Lw\n",
       "E09Jk0vt5KgdEw7D9Uic8ubA0FI8R8nX1kR8hmsi5Zs1qTL4yts/XzUfCN8aZTPfpqI1gIivQcHz\n",
       "PTXgR37W2O+di1hODOlJk7Xqk1JIvqJGsEXl4LoBkcsYWzWgnvIZ9VJo/OcF6PvABW8OhPMDOUq+\n",
       "sqbiA60g5R8UWeSTf1DnoF++bD4gvnMfHJxQA6QfEV+DCPh8EGLO/OCBBu5b4z6dZGrjHPBg/6QY\n",
       "lCpy4Db1agsyB0O2cUH0aiyN+eoLVsGY+c+g14Ns3vGVmwN7xloI+dqarP+4G5R8Iy2yyB9feZfR\n",
       "f9l8QHy2Hl6WRsJ9E6P8iPgaRMDng9DOK02cvxeocUeFqXkM2UkxbHYXHXKiklU5yI5FIoY88Ixc\n",
       "krSrUx+25uUjzQVoZrx2/Vg7/u6yC4R8bU3VfxiitlPxTcga4IuvvMvov6oBwfCPDUYaczAmvApb\n",
       "RMjXIAK+MwjNW4TBNY7Hym528KmDo7ZYDEOT6lDMfZNcJZTRFk8ObhSl7CywXtafXfJMtAO9dUI8\n",
       "cfgjtqgxFqskWIv4CCVfWVPxYYqHNVT8NTKL/PHXeHPQX/9l8wHxrRffY+thtO7z1ADuR8TXIAK+\n",
       "MwhWF7v47mWTA2c8ftFNcfUZ91bjxrBWPUpuQkhUsqehcnAxi0EsSN5gMcilzEsqYttT+mKsPfML\n",
       "9alO3hSo+Mqaio9qsWYj4hv9Mot88bV3Gf2XzQfH38ia36X3pSk/Kr4CEfD5IIRSbOZgixpQ7dZF\n",
       "ZxfRQtZQwbsJxLN4QjzcHVc5+H1Dw8idXLoaaNRTElmHrL+k5zD7d7t+f8mSvletfiw2Ew6n6fja\n",
       "moqPYTGIRPxkQ0Pj3KxfvvYuo/+y+eD4n7KWTmuY8qPiKxABnw+C83hwrlwLJPon7FF4COiCpWPg\n",
       "0irgCBzbqpQzF5EhsgZsvjDFFcJsiK1HhJRk1Uw4MNqNXIrXoZ2Vq23c1VHMY31uIeRza0I+hsQE\n",
       "j4zvtFYGn8kWyuHLFA+I/75tsKWIWav53I+Qz0E0/G0KtlrtD9g3IYbqnHWl3IzkxOBIxuZM5ya+\n",
       "qTCaRm9abS8cBZfakKgTDqGsNV9I8XMQJ5P7Ee3nUmIrblCvJbjiqI11lHxuTchHr3z0Q8XHnPpy\n",
       "+Mybm/nmq9tcMPxDdiitXoq73xshn4No+Hp/QDIjfzN0fInticHafaAJ1c6vEMLXnr2LSzX5fL4P\n",
       "3Y7VD5klEBK68jdzycgst4UDdnRKV8O5urhZc2aDlHr4T4TE+2FHEVmeIeVza0r+Y3LZR8WPfTna\n",
       "75/veAuWTz5vPji+2bNBb4xxvzdCPgfR8D17hNTx0yLPXkVxuL9h1FLcLiVN00HmgEdR4c9gfhGz\n",
       "y5svCbOcX6QGoCBCscgolEyUkqbpIHPARIX/f+BnZxpfEmY5nw9CorZoDFpt6ecUrvQnSkjTdRCP\n",
       "QbyKCn/m8ouZXd78WF+FLwfBml80Bq2OapUrpUtJ03WwripQVPgzmF/M7PLmH0tX+GoQ2lYUDWIK\n",
       "9UU7Im/nSp6v8Cv8S3ms+o/2ZwWfD8K/4JEJIzulM00AAAAASUVORK5CYII=\n",
       "\" style=\"display:inline;vertical-align:middle;\" /></a> <a class=\"ProveItLink\" href=\"__pv_it/3c0fefe924f431f0cf5b7e2f2122f9415366fb9f0/proof.ipynb\" style=\"text-decoration: none\">&#x22A2;&nbsp;</a><a class=\"ProveItLink\" href=\"__pv_it/c4cbd13e8a5859ac04d0fa5ee21a597f16f1e34c0/expr.ipynb\"><img src=\"data:image/png;base64,iVBORw0KGgoAAAANSUhEUgAAAlMAAAAVBAMAAACQ8XaDAAAAMFBMVEX////MzMxUVFREREQiIiK6\n",
       "uroQEBCYmJhmZmYyMjLu7u52dnaqqqqIiIjc3NwAAACFAiZ1AAAAAXRSTlMAQObYZgAAAAlwSFlz\n",
       "AAAOxAAADsQBlSsOGwAABulJREFUWMO9mF1sFFUUx//b7ufsdrvyACbGFBoNRCRs/ExQZCUrCipu\n",
       "pEGMMa1geUCFNRoLD4UFUYpAsvIACH5sABXCQ1d8kFLAjTG+NHUb4gemFFYh0mgMNC1QarWee8+d\n",
       "7czOMFZbOg8zO3dnzv3d/zn33HsGQAHDRxjjfth3WXB6pTD+lLLLipyh5bTD0xcyNwTC02HX+rzD\n",
       "Gybi61JGoI2hpJKnTf6MYi+dQ1mEW99MyJZDnW+px1pbI+KSHxoaquOWm/nib7rDZM+V+o8A0oDF\n",
       "Pa4F15GjHNpkJv79yL0wUwZbP4OJctV7cVat9VRhdJTCgODR0uKOzkKyg8AB+AblAymUMe75RFlM\n",
       "XFumNW1UA5grz9qTmGiicE927DJY2sAGAiXRunfzAJ132xg4KHwpWLUU1uVMlOFHcBtMlPG+o7Ih\n",
       "kNMWYjSUbIB4/ElwOAnvbALO5rRrosWXVCpiF8qjTIVuNQNYqrI6lJs89J0zRHdpAxvw6Tae0SeY\n",
       "kGq1jYE2+BOSuGIQzWkTZSCFu2Gi1FleBz7HaCjZAPF4eSZEICKHIndxAlKqYFRBhAbUK7li95O2\n",
       "y0tlGsFLxshe4wxxqrRBGVihbtuNUnltMuN6uCGJPfXiXSNlPlNKqbPcZfjzf1GyAeJ5loMSGkWO\n",
       "h7W5KrNtb4YDLlA3HJsRvmZZquYoKnqMoRtwhHD1l7YoAzvtpAokrRZi2EdnJs4nTZQ7UEqps1Cv\n",
       "tbnRULIB4tkib8/BRwuRPyt+1zDkzL+2suvfPa7n93NqKIXhqLpssHmGIWpeafsQ3V0pz7wvmqZS\n",
       "FtlGfmrsPIqv+qpzrh+70uaoIgOH7aQKWgcUjqKRLpLY8yhMlNduOZUwU07tWi/zoRhp0kLpmXe6\n",
       "pSDQal5avSHpRKkMEA+7tBFlEeXJW6vZK8GhD9n1O+FVXrldrcfYXkw1Vw0jSSp/9X971bUSP8Fb\n",
       "j/0pStwV6dBKbAYeg4iKmDlXkYE1dlL5JKw/Lg+2S96cAg5C18kpMFJq15J4GSbKWbgoxAv/CVR1\n",
       "WCkrt15MCjQsT2gEdn1KZYB4npA8ffGn4vPhlpKEeAVsOzck/dR8CX7OJmGVmLJKKq0eEwaNS4eS\n",
       "Ko6MO4XKHN2GLouuBwmitiB+Lc4ga1gB2cDXdlKFYiUxtZEQiVMSiwmYM1JqQ8DbGRMl7S1i+kiz\n",
       "Vkp3TJNoYiz5hAOlMkA89fI+jSUiYXIMrxJ90rqUlwpVxuDjaRbkqPQVlFQ40NluyFVrdano36ok\n",
       "AllalbR+F4XNHuDjLyWEu/eMcfhsoIqViC+Px+cWpXJdskzAADxisWRir1xtipR9wLqEkVKE5N9C\n",
       "RBppbYeVks6MtouiIeVAqQwQj+w41IH1SqqbgDk5XoHCMmTcafh4mrnlngF/QJeKaAaG1e/QpaLO\n",
       "85saGiIkFXpD/Q0Nr+LAnXkJobUMmTeAwsBiu6jy1FmkahcLtZTKFUG5hCtSziepkkbK8jT8PSor\n",
       "53NWSoJjNKKtjDpRsgHieV9MwHkvUmjPp80WRXKGpWoWmVGFsYqqZlbi6erqK9N1R0eHC5Tq6plL\n",
       "ZdySe6pyTENRJUYSqkeVgMj+hk97zJESdZyAhly1kaKOpmBaEDcPKKmKlPcUo0pRemMok4FJ2611\n",
       "GStlIAuJpqLKgZINEM9s3ivI3X45BepSNQG9tA9/SBqnXMUeri1KvVSeQytwMWIct5cp9/CvhMhV\n",
       "PeJZjzeF2p8Lu5BtVyOD0cBrtmk9arNXkAXVbGmeJ2CRspZyFYyUtOn2ShNvQCRrCyVJJdFkroo4\n",
       "UbIB4jnMNZ2sucQC3aDvq3bL/QMdD+ATDuB8Mdf18pAW4H52ZJo3z5U8PAphVz2ChcBK7M9iYgIn\n",
       "KlM4O6nQguw3GRqZ/rhuYJudVH5LFU3elOXiYblJV/sqnbI8q6kVUFGGU/hBBpM7p71gQ0kLj0TD\n",
       "joL2OJwo2QDx1Ii7Y1yIeSjoPU2qXJ7QpBeiTWph/lWf8puHZnMdeYQfpW5Fz/6PegX2oisPAr9s\n",
       "OYHA1C5auMPTWguuGe2HPkDZ9MJzjZ0J/fGigYVmqcru65tBNi2fBYI5LgwF8ZImVS4XKY9siJgp\n",
       "uze8w2n5+MmIldIzZ1lOomF748mEIyUbIB53RNambmnt4TH9vBIYWQkfjpVEFRfpVnMZ3u24I2NK\n",
       "uWtkj50HF6sxuVewr1FvuFT+ZEm5LI9NlufcvFcYLq/HVSrBQ1mREI7xCjum3xf/5WsHzIWIpYgp\n",
       "PZaIKQioPD5mx9yRhb7goV18RQL8jU6LjuXnzTnLRqT8LLvGcuuHhe9Rxo37xlKpRVdGpLzkCRtr\n",
       "yQvj/9XaZ6vnWicPJ8efknj+AXPEgAJt9kcVAAAAAElFTkSuQmCC\n",
       "\" style=\"display:inline;vertical-align:middle;\" /></a></span>"
      ],
      "text/plain": [
       "{3 in {0, 1, 2, 3, 4, 5, 6, 7, 8, 9}, 8 in {0, 1, 2, 3, 4, 5, 6, 7, 8, 9}, 6 in {0, 1, 2, 3, 4, 5, 6, 7, 8, 9}, 7 in {0, 1, 2, 3, 4, 5, 6, 7, 8, 9}, 4 in {0, 1, 2, 3, 4, 5, 6, 7, 8, 9}, 1 in {0, 1, 2, 3, 4, 5, 6, 7, 8, 9}, 5 in {0, 1, 2, 3, 4, 5, 6, 7, 8, 9}, 0 in {0, 1, 2, 3, 4, 5, 6, 7, 8, 9}} |- (\\# (3 ~ 8 ~ 6 ~ 7 ~ 4 ~ 9 ~ ..4 repeats.. ~ 9) + 1) = \\# (3 ~ 8 ~ 6 ~ 7 ~ 5 ~ 0 ~ ..4 repeats.. ~ 0)"
      ]
     },
     "execution_count": 57,
     "metadata": {},
     "output_type": "execute_result"
    }
   ],
   "source": [
    "md_nine_add_one.specialize({m: four, k: four, a: number.digits[:-5], \n",
    "                            b: number.digits[-5]}, \n",
    "                           assumptions=[InSet(three, Digit), InSet(eight, Digit), InSet(six, Digit), \n",
    "                                        InSet(seven, Digit), InSet(four, Digit), InSet(one, Digit), InSet(five, Digit),\n",
    "                                       InSet(zero, Digit)])"
   ]
  },
  {
   "cell_type": "code",
   "execution_count": 58,
   "metadata": {},
   "outputs": [
    {
     "data": {
      "text/html": [
       "<span style=\"font-size:20px;\"><a class=\"ProveItLink\" href=\"__pv_it/f924f3773e1b23115ec7d43112406bd8578694080/expr.ipynb\"><img src=\"data:image/png;base64,iVBORw0KGgoAAAANSUhEUgAACAUAAAAVBAMAAADGVNgIAAAAMFBMVEX///8QEBBERERUVFTMzMyY\n",
       "mJjc3NxmZmYiIiJ2dnaqqqoyMjKIiIi6urru7u4AAAAvZeGPAAAAAXRSTlMAQObYZgAAAAlwSFlz\n",
       "AAAOxAAADsQBlSsOGwAABu5JREFUeNrtm2toHFUUx//Zx2xmszsNVosUGmN9FWrb1SjVoiYlihQE\n",
       "1w9tBYuNAQ2KkGiQFWNpUbTx0bqtYhtb6PpFEMRECyIFa7TQtAg14geVIplasIpCmlj7is16575m\n",
       "stmsYbad05gdaHP2zDn3d+7eM2funbkLwPoZxY4p1BftMD4ofb7Cr/Av5fFUS4WvB+Gbj4vaTKEu\n",
       "eUSAXwuH+tGpjJuXlmxrNvEftyvff9D8yK12Kb9A+XT9F4MQH2eGPc8OFpg4avQMqGIV2SqFtq7r\n",
       "pfTkjiXa+n7xp2rsc2Vn9rwj2snn8yNC9fvhDfJkLHMP+/86t+bt3kHK19ZE/F5mVEvZf0Q6yum/\n",
       "8vbN180Hw890svwPpTTM40fC94CC5vNBMDcBJxA9XxCDo67JWa+KT8e7xmVZSWGPuFytDqzPKeuX\n",
       "xZ/qt16Txc3YgjtEO3szmdeFrgNh4WC9iZWsczs1LAasoORrayL+ruWZ53OEfOaZKqf/ytsvXzcf\n",
       "DP+3/sg8QUChHw3fBQXO36lg3+assSIxPAxslx8TMoawjSpxx0qcx3CfOitzMOz2qgML1eVtiCoV\n",
       "TcMSDuFahDq8ObAa+IOSr62J+OxDGyUfOJQqh6+8ffMTRWvApeLfAtw04RoMT54qB8r3gILm6xrw\n",
       "3SBkDfi6u7tPx8DmCb32xBiqxhE+zaXkAsxRMdy3tzAG5Ye41pr1KgbmZ5705sB2XQNo+NqaiM/K\n",
       "c4qSj8gj5fC1t2++rgGB8Fmu75miBtDwXVDgfF0DmOnf/OzRI946dAYYyhXUoU0In9KgtBSyk3Lw\n",
       "E09Jk0vt5KgdEw7D9Uic8ubA0FI8R8nX1kR8hmsi5Zs1qTL4yts/XzUfCN8aZTPfpqI1gIivQcHz\n",
       "PTXgR37W2O+di1hODOlJk7Xqk1JIvqJGsEXl4LoBkcsYWzWgnvIZ9VJo/OcF6PvABW8OhPMDOUq+\n",
       "sqbiA60g5R8UWeSTf1DnoF++bD4gvnMfHJxQA6QfEV+DCPh8EGLO/OCBBu5b4z6dZGrjHPBg/6QY\n",
       "lCpy4Db1agsyB0O2cUH0aiyN+eoLVsGY+c+g14Ns3vGVmwN7xloI+dqarP+4G5R8Iy2yyB9feZfR\n",
       "f9l8QHy2Hl6WRsJ9E6P8iPgaRMDng9DOK02cvxeocUeFqXkM2UkxbHYXHXKiklU5yI5FIoY88Ixc\n",
       "krSrUx+25uUjzQVoZrx2/Vg7/u6yC4R8bU3VfxiitlPxTcga4IuvvMvov6oBwfCPDUYaczAmvApb\n",
       "RMjXIAK+MwjNW4TBNY7Hym528KmDo7ZYDEOT6lDMfZNcJZTRFk8ObhSl7CywXtafXfJMtAO9dUI8\n",
       "cfgjtqgxFqskWIv4CCVfWVPxYYqHNVT8NTKL/PHXeHPQX/9l8wHxrRffY+thtO7z1ADuR8TXIAK+\n",
       "MwhWF7v47mWTA2c8ftFNcfUZ91bjxrBWPUpuQkhUsqehcnAxi0EsSN5gMcilzEsqYttT+mKsPfML\n",
       "9alO3hSo+Mqaio9qsWYj4hv9Mot88bV3Gf2XzQfH38ia36X3pSk/Kr4CEfD5IIRSbOZgixpQ7dZF\n",
       "ZxfRQtZQwbsJxLN4QjzcHVc5+H1Dw8idXLoaaNRTElmHrL+k5zD7d7t+f8mSvletfiw2Ew6n6fja\n",
       "moqPYTGIRPxkQ0Pj3KxfvvYuo/+y+eD4n7KWTmuY8qPiKxABnw+C83hwrlwLJPon7FF4COiCpWPg\n",
       "0irgCBzbqpQzF5EhsgZsvjDFFcJsiK1HhJRk1Uw4MNqNXIrXoZ2Vq23c1VHMY31uIeRza0I+hsQE\n",
       "j4zvtFYGn8kWyuHLFA+I/75tsKWIWav53I+Qz0E0/G0KtlrtD9g3IYbqnHWl3IzkxOBIxuZM5ya+\n",
       "qTCaRm9abS8cBZfakKgTDqGsNV9I8XMQJ5P7Ee3nUmIrblCvJbjiqI11lHxuTchHr3z0Q8XHnPpy\n",
       "+Mybm/nmq9tcMPxDdiitXoq73xshn4No+Hp/QDIjfzN0fInticHafaAJ1c6vEMLXnr2LSzX5fL4P\n",
       "3Y7VD5klEBK68jdzycgst4UDdnRKV8O5urhZc2aDlHr4T4TE+2FHEVmeIeVza0r+Y3LZR8WPfTna\n",
       "75/veAuWTz5vPji+2bNBb4xxvzdCPgfR8D17hNTx0yLPXkVxuL9h1FLcLiVN00HmgEdR4c9gfhGz\n",
       "y5svCbOcX6QGoCBCscgolEyUkqbpIHPARIX/f+BnZxpfEmY5nw9CorZoDFpt6ecUrvQnSkjTdRCP\n",
       "QbyKCn/m8ouZXd78WF+FLwfBml80Bq2OapUrpUtJ03WwripQVPgzmF/M7PLmH0tX+GoQ2lYUDWIK\n",
       "9UU7Im/nSp6v8Cv8S3ms+o/2ZwWfD8K/4JEJIzulM00AAAAASUVORK5CYII=\n",
       "\" style=\"display:inline;vertical-align:middle;\" /></a> <a class=\"ProveItLink\" href=\"__pv_it/3c0fefe924f431f0cf5b7e2f2122f9415366fb9f0/proof.ipynb\" style=\"text-decoration: none\">&#x22A2;&nbsp;</a><a class=\"ProveItLink\" href=\"__pv_it/c4cbd13e8a5859ac04d0fa5ee21a597f16f1e34c0/expr.ipynb\"><img src=\"data:image/png;base64,iVBORw0KGgoAAAANSUhEUgAAAlMAAAAVBAMAAACQ8XaDAAAAMFBMVEX////MzMxUVFREREQiIiK6\n",
       "uroQEBCYmJhmZmYyMjLu7u52dnaqqqqIiIjc3NwAAACFAiZ1AAAAAXRSTlMAQObYZgAAAAlwSFlz\n",
       "AAAOxAAADsQBlSsOGwAABulJREFUWMO9mF1sFFUUx//b7ufsdrvyACbGFBoNRCRs/ExQZCUrCipu\n",
       "pEGMMa1geUCFNRoLD4UFUYpAsvIACH5sABXCQ1d8kFLAjTG+NHUb4gemFFYh0mgMNC1QarWee8+d\n",
       "7czOMFZbOg8zO3dnzv3d/zn33HsGQAHDRxjjfth3WXB6pTD+lLLLipyh5bTD0xcyNwTC02HX+rzD\n",
       "Gybi61JGoI2hpJKnTf6MYi+dQ1mEW99MyJZDnW+px1pbI+KSHxoaquOWm/nib7rDZM+V+o8A0oDF\n",
       "Pa4F15GjHNpkJv79yL0wUwZbP4OJctV7cVat9VRhdJTCgODR0uKOzkKyg8AB+AblAymUMe75RFlM\n",
       "XFumNW1UA5grz9qTmGiicE927DJY2sAGAiXRunfzAJ132xg4KHwpWLUU1uVMlOFHcBtMlPG+o7Ih\n",
       "kNMWYjSUbIB4/ElwOAnvbALO5rRrosWXVCpiF8qjTIVuNQNYqrI6lJs89J0zRHdpAxvw6Tae0SeY\n",
       "kGq1jYE2+BOSuGIQzWkTZSCFu2Gi1FleBz7HaCjZAPF4eSZEICKHIndxAlKqYFRBhAbUK7li95O2\n",
       "y0tlGsFLxshe4wxxqrRBGVihbtuNUnltMuN6uCGJPfXiXSNlPlNKqbPcZfjzf1GyAeJ5loMSGkWO\n",
       "h7W5KrNtb4YDLlA3HJsRvmZZquYoKnqMoRtwhHD1l7YoAzvtpAokrRZi2EdnJs4nTZQ7UEqps1Cv\n",
       "tbnRULIB4tkib8/BRwuRPyt+1zDkzL+2suvfPa7n93NqKIXhqLpssHmGIWpeafsQ3V0pz7wvmqZS\n",
       "FtlGfmrsPIqv+qpzrh+70uaoIgOH7aQKWgcUjqKRLpLY8yhMlNduOZUwU07tWi/zoRhp0kLpmXe6\n",
       "pSDQal5avSHpRKkMEA+7tBFlEeXJW6vZK8GhD9n1O+FVXrldrcfYXkw1Vw0jSSp/9X971bUSP8Fb\n",
       "j/0pStwV6dBKbAYeg4iKmDlXkYE1dlL5JKw/Lg+2S96cAg5C18kpMFJq15J4GSbKWbgoxAv/CVR1\n",
       "WCkrt15MCjQsT2gEdn1KZYB4npA8ffGn4vPhlpKEeAVsOzck/dR8CX7OJmGVmLJKKq0eEwaNS4eS\n",
       "Ko6MO4XKHN2GLouuBwmitiB+Lc4ga1gB2cDXdlKFYiUxtZEQiVMSiwmYM1JqQ8DbGRMl7S1i+kiz\n",
       "Vkp3TJNoYiz5hAOlMkA89fI+jSUiYXIMrxJ90rqUlwpVxuDjaRbkqPQVlFQ40NluyFVrdano36ok\n",
       "AllalbR+F4XNHuDjLyWEu/eMcfhsoIqViC+Px+cWpXJdskzAADxisWRir1xtipR9wLqEkVKE5N9C\n",
       "RBppbYeVks6MtouiIeVAqQwQj+w41IH1SqqbgDk5XoHCMmTcafh4mrnlngF/QJeKaAaG1e/QpaLO\n",
       "85saGiIkFXpD/Q0Nr+LAnXkJobUMmTeAwsBiu6jy1FmkahcLtZTKFUG5hCtSziepkkbK8jT8PSor\n",
       "53NWSoJjNKKtjDpRsgHieV9MwHkvUmjPp80WRXKGpWoWmVGFsYqqZlbi6erqK9N1R0eHC5Tq6plL\n",
       "ZdySe6pyTENRJUYSqkeVgMj+hk97zJESdZyAhly1kaKOpmBaEDcPKKmKlPcUo0pRemMok4FJ2611\n",
       "GStlIAuJpqLKgZINEM9s3ivI3X45BepSNQG9tA9/SBqnXMUeri1KvVSeQytwMWIct5cp9/CvhMhV\n",
       "PeJZjzeF2p8Lu5BtVyOD0cBrtmk9arNXkAXVbGmeJ2CRspZyFYyUtOn2ShNvQCRrCyVJJdFkroo4\n",
       "UbIB4jnMNZ2sucQC3aDvq3bL/QMdD+ATDuB8Mdf18pAW4H52ZJo3z5U8PAphVz2ChcBK7M9iYgIn\n",
       "KlM4O6nQguw3GRqZ/rhuYJudVH5LFU3elOXiYblJV/sqnbI8q6kVUFGGU/hBBpM7p71gQ0kLj0TD\n",
       "joL2OJwo2QDx1Ii7Y1yIeSjoPU2qXJ7QpBeiTWph/lWf8puHZnMdeYQfpW5Fz/6PegX2oisPAr9s\n",
       "OYHA1C5auMPTWguuGe2HPkDZ9MJzjZ0J/fGigYVmqcru65tBNi2fBYI5LgwF8ZImVS4XKY9siJgp\n",
       "uze8w2n5+MmIldIzZ1lOomF748mEIyUbIB53RNambmnt4TH9vBIYWQkfjpVEFRfpVnMZ3u24I2NK\n",
       "uWtkj50HF6sxuVewr1FvuFT+ZEm5LI9NlufcvFcYLq/HVSrBQ1mREI7xCjum3xf/5WsHzIWIpYgp\n",
       "PZaIKQioPD5mx9yRhb7goV18RQL8jU6LjuXnzTnLRqT8LLvGcuuHhe9Rxo37xlKpRVdGpLzkCRtr\n",
       "yQvj/9XaZ6vnWicPJ8efknj+AXPEgAJt9kcVAAAAAElFTkSuQmCC\n",
       "\" style=\"display:inline;vertical-align:middle;\" /></a></span>"
      ],
      "text/plain": [
       "{3 in {0, 1, 2, 3, 4, 5, 6, 7, 8, 9}, 8 in {0, 1, 2, 3, 4, 5, 6, 7, 8, 9}, 6 in {0, 1, 2, 3, 4, 5, 6, 7, 8, 9}, 7 in {0, 1, 2, 3, 4, 5, 6, 7, 8, 9}, 4 in {0, 1, 2, 3, 4, 5, 6, 7, 8, 9}, 1 in {0, 1, 2, 3, 4, 5, 6, 7, 8, 9}, 5 in {0, 1, 2, 3, 4, 5, 6, 7, 8, 9}, 0 in {0, 1, 2, 3, 4, 5, 6, 7, 8, 9}} |- (\\# (3 ~ 8 ~ 6 ~ 7 ~ 4 ~ 9 ~ ..4 repeats.. ~ 9) + 1) = \\# (3 ~ 8 ~ 6 ~ 7 ~ 5 ~ 0 ~ ..4 repeats.. ~ 0)"
      ]
     },
     "execution_count": 58,
     "metadata": {},
     "output_type": "execute_result"
    }
   ],
   "source": [
    "md_nine_add_one.specialize({m: four, k: four, ExprTuple(varRange(a, one, four)): number.digits[:-5], \n",
    "                            b: number.digits[-5]}, \n",
    "                           assumptions=[InSet(three, Digit), InSet(eight, Digit), \n",
    "                                        InSet(six, Digit), InSet(seven, Digit), InSet(four, Digit), InSet(one, Digit),\n",
    "                                       InSet(five, Digit), InSet(zero, Digit)])"
   ]
  },
  {
   "cell_type": "code",
   "execution_count": 59,
   "metadata": {},
   "outputs": [
    {
     "data": {
      "text/html": [
       "<span style=\"font-size:20px;\"><a class=\"ProveItLink\" href=\"__pv_it/f924f3773e1b23115ec7d43112406bd8578694080/expr.ipynb\"><img src=\"data:image/png;base64,iVBORw0KGgoAAAANSUhEUgAACAUAAAAVBAMAAADGVNgIAAAAMFBMVEX///8QEBBERERUVFTMzMyY\n",
       "mJjc3NxmZmYiIiJ2dnaqqqoyMjKIiIi6urru7u4AAAAvZeGPAAAAAXRSTlMAQObYZgAAAAlwSFlz\n",
       "AAAOxAAADsQBlSsOGwAABu5JREFUeNrtm2toHFUUx//Zx2xmszsNVosUGmN9FWrb1SjVoiYlihQE\n",
       "1w9tBYuNAQ2KkGiQFWNpUbTx0bqtYhtb6PpFEMRECyIFa7TQtAg14geVIplasIpCmlj7is16575m\n",
       "stmsYbad05gdaHP2zDn3d+7eM2funbkLwPoZxY4p1BftMD4ofb7Cr/Av5fFUS4WvB+Gbj4vaTKEu\n",
       "eUSAXwuH+tGpjJuXlmxrNvEftyvff9D8yK12Kb9A+XT9F4MQH2eGPc8OFpg4avQMqGIV2SqFtq7r\n",
       "pfTkjiXa+n7xp2rsc2Vn9rwj2snn8yNC9fvhDfJkLHMP+/86t+bt3kHK19ZE/F5mVEvZf0Q6yum/\n",
       "8vbN180Hw890svwPpTTM40fC94CC5vNBMDcBJxA9XxCDo67JWa+KT8e7xmVZSWGPuFytDqzPKeuX\n",
       "xZ/qt16Txc3YgjtEO3szmdeFrgNh4WC9iZWsczs1LAasoORrayL+ruWZ53OEfOaZKqf/ytsvXzcf\n",
       "DP+3/sg8QUChHw3fBQXO36lg3+assSIxPAxslx8TMoawjSpxx0qcx3CfOitzMOz2qgML1eVtiCoV\n",
       "TcMSDuFahDq8ObAa+IOSr62J+OxDGyUfOJQqh6+8ffMTRWvApeLfAtw04RoMT54qB8r3gILm6xrw\n",
       "3SBkDfi6u7tPx8DmCb32xBiqxhE+zaXkAsxRMdy3tzAG5Ye41pr1KgbmZ5705sB2XQNo+NqaiM/K\n",
       "c4qSj8gj5fC1t2++rgGB8Fmu75miBtDwXVDgfF0DmOnf/OzRI946dAYYyhXUoU0In9KgtBSyk3Lw\n",
       "E09Jk0vt5KgdEw7D9Uic8ubA0FI8R8nX1kR8hmsi5Zs1qTL4yts/XzUfCN8aZTPfpqI1gIivQcHz\n",
       "PTXgR37W2O+di1hODOlJk7Xqk1JIvqJGsEXl4LoBkcsYWzWgnvIZ9VJo/OcF6PvABW8OhPMDOUq+\n",
       "sqbiA60g5R8UWeSTf1DnoF++bD4gvnMfHJxQA6QfEV+DCPh8EGLO/OCBBu5b4z6dZGrjHPBg/6QY\n",
       "lCpy4Db1agsyB0O2cUH0aiyN+eoLVsGY+c+g14Ns3vGVmwN7xloI+dqarP+4G5R8Iy2yyB9feZfR\n",
       "f9l8QHy2Hl6WRsJ9E6P8iPgaRMDng9DOK02cvxeocUeFqXkM2UkxbHYXHXKiklU5yI5FIoY88Ixc\n",
       "krSrUx+25uUjzQVoZrx2/Vg7/u6yC4R8bU3VfxiitlPxTcga4IuvvMvov6oBwfCPDUYaczAmvApb\n",
       "RMjXIAK+MwjNW4TBNY7Hym528KmDo7ZYDEOT6lDMfZNcJZTRFk8ObhSl7CywXtafXfJMtAO9dUI8\n",
       "cfgjtqgxFqskWIv4CCVfWVPxYYqHNVT8NTKL/PHXeHPQX/9l8wHxrRffY+thtO7z1ADuR8TXIAK+\n",
       "MwhWF7v47mWTA2c8ftFNcfUZ91bjxrBWPUpuQkhUsqehcnAxi0EsSN5gMcilzEsqYttT+mKsPfML\n",
       "9alO3hSo+Mqaio9qsWYj4hv9Mot88bV3Gf2XzQfH38ia36X3pSk/Kr4CEfD5IIRSbOZgixpQ7dZF\n",
       "ZxfRQtZQwbsJxLN4QjzcHVc5+H1Dw8idXLoaaNRTElmHrL+k5zD7d7t+f8mSvletfiw2Ew6n6fja\n",
       "moqPYTGIRPxkQ0Pj3KxfvvYuo/+y+eD4n7KWTmuY8qPiKxABnw+C83hwrlwLJPon7FF4COiCpWPg\n",
       "0irgCBzbqpQzF5EhsgZsvjDFFcJsiK1HhJRk1Uw4MNqNXIrXoZ2Vq23c1VHMY31uIeRza0I+hsQE\n",
       "j4zvtFYGn8kWyuHLFA+I/75tsKWIWav53I+Qz0E0/G0KtlrtD9g3IYbqnHWl3IzkxOBIxuZM5ya+\n",
       "qTCaRm9abS8cBZfakKgTDqGsNV9I8XMQJ5P7Ee3nUmIrblCvJbjiqI11lHxuTchHr3z0Q8XHnPpy\n",
       "+Mybm/nmq9tcMPxDdiitXoq73xshn4No+Hp/QDIjfzN0fInticHafaAJ1c6vEMLXnr2LSzX5fL4P\n",
       "3Y7VD5klEBK68jdzycgst4UDdnRKV8O5urhZc2aDlHr4T4TE+2FHEVmeIeVza0r+Y3LZR8WPfTna\n",
       "75/veAuWTz5vPji+2bNBb4xxvzdCPgfR8D17hNTx0yLPXkVxuL9h1FLcLiVN00HmgEdR4c9gfhGz\n",
       "y5svCbOcX6QGoCBCscgolEyUkqbpIHPARIX/f+BnZxpfEmY5nw9CorZoDFpt6ecUrvQnSkjTdRCP\n",
       "QbyKCn/m8ouZXd78WF+FLwfBml80Bq2OapUrpUtJ03WwripQVPgzmF/M7PLmH0tX+GoQ2lYUDWIK\n",
       "9UU7Im/nSp6v8Cv8S3ms+o/2ZwWfD8K/4JEJIzulM00AAAAASUVORK5CYII=\n",
       "\" style=\"display:inline;vertical-align:middle;\" /></a> <a class=\"ProveItLink\" href=\"__pv_it/3c0fefe924f431f0cf5b7e2f2122f9415366fb9f0/proof.ipynb\" style=\"text-decoration: none\">&#x22A2;&nbsp;</a><a class=\"ProveItLink\" href=\"__pv_it/c4cbd13e8a5859ac04d0fa5ee21a597f16f1e34c0/expr.ipynb\"><img src=\"data:image/png;base64,iVBORw0KGgoAAAANSUhEUgAAAlMAAAAVBAMAAACQ8XaDAAAAMFBMVEX////MzMxUVFREREQiIiK6\n",
       "uroQEBCYmJhmZmYyMjLu7u52dnaqqqqIiIjc3NwAAACFAiZ1AAAAAXRSTlMAQObYZgAAAAlwSFlz\n",
       "AAAOxAAADsQBlSsOGwAABulJREFUWMO9mF1sFFUUx//b7ufsdrvyACbGFBoNRCRs/ExQZCUrCipu\n",
       "pEGMMa1geUCFNRoLD4UFUYpAsvIACH5sABXCQ1d8kFLAjTG+NHUb4gemFFYh0mgMNC1QarWee8+d\n",
       "7czOMFZbOg8zO3dnzv3d/zn33HsGQAHDRxjjfth3WXB6pTD+lLLLipyh5bTD0xcyNwTC02HX+rzD\n",
       "Gybi61JGoI2hpJKnTf6MYi+dQ1mEW99MyJZDnW+px1pbI+KSHxoaquOWm/nib7rDZM+V+o8A0oDF\n",
       "Pa4F15GjHNpkJv79yL0wUwZbP4OJctV7cVat9VRhdJTCgODR0uKOzkKyg8AB+AblAymUMe75RFlM\n",
       "XFumNW1UA5grz9qTmGiicE927DJY2sAGAiXRunfzAJ132xg4KHwpWLUU1uVMlOFHcBtMlPG+o7Ih\n",
       "kNMWYjSUbIB4/ElwOAnvbALO5rRrosWXVCpiF8qjTIVuNQNYqrI6lJs89J0zRHdpAxvw6Tae0SeY\n",
       "kGq1jYE2+BOSuGIQzWkTZSCFu2Gi1FleBz7HaCjZAPF4eSZEICKHIndxAlKqYFRBhAbUK7li95O2\n",
       "y0tlGsFLxshe4wxxqrRBGVihbtuNUnltMuN6uCGJPfXiXSNlPlNKqbPcZfjzf1GyAeJ5loMSGkWO\n",
       "h7W5KrNtb4YDLlA3HJsRvmZZquYoKnqMoRtwhHD1l7YoAzvtpAokrRZi2EdnJs4nTZQ7UEqps1Cv\n",
       "tbnRULIB4tkib8/BRwuRPyt+1zDkzL+2suvfPa7n93NqKIXhqLpssHmGIWpeafsQ3V0pz7wvmqZS\n",
       "FtlGfmrsPIqv+qpzrh+70uaoIgOH7aQKWgcUjqKRLpLY8yhMlNduOZUwU07tWi/zoRhp0kLpmXe6\n",
       "pSDQal5avSHpRKkMEA+7tBFlEeXJW6vZK8GhD9n1O+FVXrldrcfYXkw1Vw0jSSp/9X971bUSP8Fb\n",
       "j/0pStwV6dBKbAYeg4iKmDlXkYE1dlL5JKw/Lg+2S96cAg5C18kpMFJq15J4GSbKWbgoxAv/CVR1\n",
       "WCkrt15MCjQsT2gEdn1KZYB4npA8ffGn4vPhlpKEeAVsOzck/dR8CX7OJmGVmLJKKq0eEwaNS4eS\n",
       "Ko6MO4XKHN2GLouuBwmitiB+Lc4ga1gB2cDXdlKFYiUxtZEQiVMSiwmYM1JqQ8DbGRMl7S1i+kiz\n",
       "Vkp3TJNoYiz5hAOlMkA89fI+jSUiYXIMrxJ90rqUlwpVxuDjaRbkqPQVlFQ40NluyFVrdano36ok\n",
       "AllalbR+F4XNHuDjLyWEu/eMcfhsoIqViC+Px+cWpXJdskzAADxisWRir1xtipR9wLqEkVKE5N9C\n",
       "RBppbYeVks6MtouiIeVAqQwQj+w41IH1SqqbgDk5XoHCMmTcafh4mrnlngF/QJeKaAaG1e/QpaLO\n",
       "85saGiIkFXpD/Q0Nr+LAnXkJobUMmTeAwsBiu6jy1FmkahcLtZTKFUG5hCtSziepkkbK8jT8PSor\n",
       "53NWSoJjNKKtjDpRsgHieV9MwHkvUmjPp80WRXKGpWoWmVGFsYqqZlbi6erqK9N1R0eHC5Tq6plL\n",
       "ZdySe6pyTENRJUYSqkeVgMj+hk97zJESdZyAhly1kaKOpmBaEDcPKKmKlPcUo0pRemMok4FJ2611\n",
       "GStlIAuJpqLKgZINEM9s3ivI3X45BepSNQG9tA9/SBqnXMUeri1KvVSeQytwMWIct5cp9/CvhMhV\n",
       "PeJZjzeF2p8Lu5BtVyOD0cBrtmk9arNXkAXVbGmeJ2CRspZyFYyUtOn2ShNvQCRrCyVJJdFkroo4\n",
       "UbIB4jnMNZ2sucQC3aDvq3bL/QMdD+ATDuB8Mdf18pAW4H52ZJo3z5U8PAphVz2ChcBK7M9iYgIn\n",
       "KlM4O6nQguw3GRqZ/rhuYJudVH5LFU3elOXiYblJV/sqnbI8q6kVUFGGU/hBBpM7p71gQ0kLj0TD\n",
       "joL2OJwo2QDx1Ii7Y1yIeSjoPU2qXJ7QpBeiTWph/lWf8puHZnMdeYQfpW5Fz/6PegX2oisPAr9s\n",
       "OYHA1C5auMPTWguuGe2HPkDZ9MJzjZ0J/fGigYVmqcru65tBNi2fBYI5LgwF8ZImVS4XKY9siJgp\n",
       "uze8w2n5+MmIldIzZ1lOomF748mEIyUbIB53RNambmnt4TH9vBIYWQkfjpVEFRfpVnMZ3u24I2NK\n",
       "uWtkj50HF6sxuVewr1FvuFT+ZEm5LI9NlufcvFcYLq/HVSrBQ1mREI7xCjum3xf/5WsHzIWIpYgp\n",
       "PZaIKQioPD5mx9yRhb7goV18RQL8jU6LjuXnzTnLRqT8LLvGcuuHhe9Rxo37xlKpRVdGpLzkCRtr\n",
       "yQvj/9XaZ6vnWicPJ8efknj+AXPEgAJt9kcVAAAAAElFTkSuQmCC\n",
       "\" style=\"display:inline;vertical-align:middle;\" /></a></span>"
      ],
      "text/plain": [
       "{3 in {0, 1, 2, 3, 4, 5, 6, 7, 8, 9}, 8 in {0, 1, 2, 3, 4, 5, 6, 7, 8, 9}, 6 in {0, 1, 2, 3, 4, 5, 6, 7, 8, 9}, 7 in {0, 1, 2, 3, 4, 5, 6, 7, 8, 9}, 4 in {0, 1, 2, 3, 4, 5, 6, 7, 8, 9}, 1 in {0, 1, 2, 3, 4, 5, 6, 7, 8, 9}, 5 in {0, 1, 2, 3, 4, 5, 6, 7, 8, 9}, 0 in {0, 1, 2, 3, 4, 5, 6, 7, 8, 9}} |- (\\# (3 ~ 8 ~ 6 ~ 7 ~ 4 ~ 9 ~ ..4 repeats.. ~ 9) + 1) = \\# (3 ~ 8 ~ 6 ~ 7 ~ 5 ~ 0 ~ ..4 repeats.. ~ 0)"
      ]
     },
     "execution_count": 59,
     "metadata": {},
     "output_type": "execute_result"
    }
   ],
   "source": [
    "Add(number, one).doReducedEvaluation(assumptions=[InSet(zero, NaturalsPos), InSet(three, Digit), InSet(eight, Digit), \n",
    "                                        InSet(six, Digit), InSet(seven, Digit), InSet(four, Digit), InSet(one, Digit),\n",
    "                                       InSet(five, Digit), InSet(zero, Digit)])"
   ]
  },
  {
   "cell_type": "code",
   "execution_count": null,
   "metadata": {},
   "outputs": [],
   "source": []
  },
  {
   "cell_type": "code",
   "execution_count": 60,
   "metadata": {},
   "outputs": [],
   "source": [
    "# Add(number, one).evaluation(assumptions=[InSet(zero, NaturalsPos), InSet(three, Digit), InSet(eight, Digit), \n",
    "#                                         InSet(six, Digit), InSet(seven, Digit), InSet(four, Digit), InSet(one, Digit),\n",
    "#                                        InSet(five, Digit), InSet(zero, Digit)])"
   ]
  },
  {
   "cell_type": "code",
   "execution_count": 61,
   "metadata": {},
   "outputs": [],
   "source": [
    "%end demonstrations"
   ]
  },
  {
   "cell_type": "code",
   "execution_count": null,
   "metadata": {},
   "outputs": [],
   "source": []
  }
 ],
 "metadata": {
  "kernelspec": {
   "display_name": "Python 3",
   "language": "python",
   "name": "python3"
  },
  "language_info": {
   "codemirror_mode": {
    "name": "ipython",
    "version": 3
   },
   "file_extension": ".py",
   "mimetype": "text/x-python",
   "name": "python",
   "nbconvert_exporter": "python",
   "pygments_lexer": "ipython3",
   "version": "3.7.3"
  }
 },
 "nbformat": 4,
 "nbformat_minor": 1
}
