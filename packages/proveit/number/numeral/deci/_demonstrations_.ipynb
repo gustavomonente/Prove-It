{
 "cells": [
  {
   "cell_type": "markdown",
   "metadata": {},
   "source": [
    "Demonstrations for context <a class=\"ProveItLink\" href=\"_context_.ipynb\">proveit.number.numeral.decimal</a>\n",
    "========"
   ]
  },
  {
   "cell_type": "code",
   "execution_count": 1,
   "metadata": {},
   "outputs": [],
   "source": [
    "import proveit\n",
    "from proveit import ExprRange, ExprTuple, varRange, IndexedVar, defaults\n",
    "from proveit.logic import Forall, Equals, InSet, Set\n",
    "from proveit.number import zero, one, two, three, four, five, six, seven, eight, nine\n",
    "from proveit.number import (one, num, Add, Mult, Less, LesserSequence, \n",
    "                            Naturals, NaturalsPos, subtract)\n",
    "from proveit.number.numeral.deci import DecimalSequence\n",
    "from proveit.core_expr_types import Len\n",
    "from proveit._common_ import A, a, b, c, d, e, f, g, h, i, j, k, m, n\n",
    "from proveit.core_expr_types.expr_array._common_ import Aij\n",
    "from proveit.number.numeral.deci._theorems_ import md_only_nine_add_one, md_nine_add_one, add_1_1, tuple_len_2, count_to_1_range\n",
    "from proveit.core_expr_types.tuples._axioms_ import tuple_len_incr, tuple_len_0\n",
    "from proveit.core_expr_types.tuples._theorems_ import  len_of_ranges_with_repeated_indices_from_1\n",
    "\n",
    "%begin demonstrations"
   ]
  },
  {
   "cell_type": "code",
   "execution_count": 2,
   "metadata": {},
   "outputs": [],
   "source": [
    "#defaults.auto_reduce = False"
   ]
  },
  {
   "cell_type": "code",
   "execution_count": 3,
   "metadata": {},
   "outputs": [
    {
     "data": {
      "text/html": [
       "<span style=\"font-size:20px;\"> <a class=\"ProveItLink\" href=\"../../../core_expr_types/tuples/_proofs_/len_of_ranges_with_repeated_indices_from_1.ipynb\" style=\"text-decoration: none\">&#x22A2;&nbsp;</a><a class=\"ProveItLink\" href=\"../../../core_expr_types/tuples/__pv_it/41fffdd466643a2ac4db13aa422b84c8e57162270/expr.ipynb\"><img src=\"data:image/png;base64,iVBORw0KGgoAAAANSUhEUgAAApAAAAAzBAMAAADSjCUKAAAAMFBMVEX///+IiIgiIiIQEBB2dnbu\n",
       "7u5UVFTMzMzc3NwyMjK6urpmZmaYmJiqqqpEREQAAACk/Np2AAAAAXRSTlMAQObYZgAAAAlwSFlz\n",
       "AAAOxAAADsQBlSsOGwAACJJJREFUeNrtm2+IFGUYwJ/bndnd23+3ZkhwpcuVmpp1SaZJ2iYpWFkj\n",
       "eJaQ3ZqRkSBrB0Gf3DT7ZN5+yAjSOj0J/FCuIZl5wvqlTFE3SY8kUBMlhPQu2jQvtffvzDt/bvYd\n",
       "ubmBswdmdvbd55nnmd+8/+aZdwEkpK2tDf6XIQD0yK2BoXT71ogBqF6gn1du3ZTSnzyk3iOVkVMV\n",
       "39XYwbEAQL7OPmP0oyj+5lQ2uMQEE69SBE/GRb4z26WywYFMct9KF943VMUf76Mf2+RORbTjmduJ\n",
       "grmVNabq2/TQaOxIvgkOZGfBBPJncrxnHr3BOYDoeCtdmwjaDWUOX0qYJXX7tgZ1jBPPaIZ6MwmL\n",
       "hqaDDFUCA/kAiCDVEjlcOZsULQVYsq+GDja7nUHQhlAOGjVp39wSu1VXfY4M3Y3nd1S5Ogl8Mw9N\n",
       "B5maHhTIZKsJZILc0fBpOvz14FaEQR5xO4Wojc9YlnbOLanbcVo949lfaYY6C+uICSR8GhTIcM4E\n",
       "MkwOd7F60cpBht0qiqiNZbq0c25J3WKQrsbxmqjOwiKhGSB3FQMCOU4zgdxJDueywEscZKPbFEnU\n",
       "xrJF2vlcfrBTD8XNWMmK6iwsEpoBsrEcEMgJYAK5Bx99P20VbUE5DlLJD34GUXvRbtyTyfrmlswt\n",
       "AelinFwxoayrq80ZGhYJzQCZqgUDMnrVDJJWiH7jhlOQyZLLOQTtXDc6+FHaez+IlZiAdDNuyhjq\n",
       "SryVhkVCM0Cq/cGAjLSaQU4l01tE9xUUX6jKQeoTXadpuKEdq+5DBSdkncf0uzhVB3lCZqaG1D9M\n",
       "lGhYJDQDJPwWDMhw3gxyFmkefRAdheILd3GQ0b7BTyFoq6SOrZV1ntLPOksH6WZ8RlDXcPXEYZHQ\n",
       "BJDHi4GAXFtxAKmwG22AjLe6DwFcm/RQ3dLTyKwdZLfM2ITVz2g0LBKaALK9EgjIF4tmkFvxUTpP\n",
       "0TRKNW1RuzHvpWkjy2TPmmbutm7TvohmjT+MKlP1j8G5adM2Nuwgz4MZ5DkSS4bGl87og81Z1Gzt\n",
       "WSuwardXc+Qi6j3c6JbJ7kq4yNwSkI7GzPejAIefhJlEXb2hkLDIJoJMZwMBOccCcj7v1DEaMrMg\n",
       "IBMZaMejI96p/7ADujNp74qhhrWbquh6Dt90yw13QZPG3BKQuwdXR2NTbFEWakQ93reRhEU2EaTS\n",
       "R0FivvBrXZAyajKZ0AELyO28U8do4miLnP9zORqRixAajx+l8URuCj8gRSbt9L3oy4MALZqohw/M\n",
       "3wzL5aRXxG5XPzUhM4gxVcdjUySD+0Ssfq5CwiKbCDJ5nYL8Dn98UhekjJrMNLLfAjJUYLko0vVM\n",
       "5L+tQ9tJu/lJcNCO4Y6rXtvWLWfAnihz62JM1BOoyocLiVxBV1/HNhEkvaRj8A4+29m6IGXUZCYg\n",
       "Nywgk2VI5bdyNHquAucjcnZzVGTXxhkFpZ5jbhnrg8m9Qq5iEGPs+xQezToh9GVBV+/hqRIBJG1k\n",
       "x0geSanWBSmjJpP7uWoBCb9D6ALqkWILBlA7S7MxHd8y1Z5zxUV27U1oW1SvS+GW8TzcXSFuwcWY\n",
       "+H4Yp+m+gIbndXUcFq1NAkj4m4JM4ufw+oONjJpMpvmaFeSrkGzWp0Qqq/NpnOByuA14s2njzFil\n",
       "3g00W2K34GJMfB/81qqOw0prVpA32ag9raXlMYlRW0JNZkpcE6CSjidmuoyN9OOQ3NmIdrJ4O4Ew\n",
       "t7LGVP2QHlpDwfjtCQZyL70tTr2ECHIQNYu8TPa0R1EdgkzUYMRJCwP5AcScclZlC0impu63NwSh\n",
       "7Gmyp01OoZ1cdMqzMJp7iPSNPJD3M5BpTWzw+nVbQTK1yOGCPaNjLTNG9zWrL8EpRUtodwDIVKbR\n",
       "6bqtIJlak0N7tZXpIBN78TQ+U1buhKYNpYP2635u/5T9XeZHRKKWWrHQPjc0yrblDZDxMQD4uQN6\n",
       "T7+ng1SuDcelxaSKhkr4YAMLNwNLiojXba2RRM354dwom1czQCrtGp2f9CrLdugj9dXhAOnwsvr2\n",
       "lhFIyeOcwXpUjUhSxHTdNpDrSW3b73AmvSy2LGuA3HAC4mQQ6oXyWKcJuW+Ssj0TeVxG4E0GOMg0\n",
       "GipIUsR03TaQaTKibEEPA9ZHU+NFXDoj9JHnIPnZ5ct/oBMu1nvh1PVhALnUVhLytIzAYx7mL1Or\n",
       "xEkR03XnnNNoMyC63RrSDCNb/JIBUq0Vojl6Z+I/6XOCf4cBZI/js03ZJ288aaHD2BO1X7cNpIo6\n",
       "wZAGi0HN8R0uSx04msPfflEMkKlSjk7hDwOMMbcDn8X5NcV0vzqSGyJImhSxX7cVJM4BIpAd1ehM\n",
       "6CjiXRWXpcai6KOzYck9Qo1cXoRNqDuITypAWj/BJP85xp1f5W7xyR1NH3CQNCliv24rSNxAEEgw\n",
       "8kBVUrYyiuClbPNI9YXLl8ynWuE/SLxwYMeb748xxmlvywg8SqTPPpuxX7cFZPpUgYA0UqEpjZRl\n",
       "Gw4LmViXvOVxn/r8r1uwkGUcZOHA5YxqTFk9LiPwJuGzg00LXUAqo1DnOvqAkOJKkjI1n1oopKNc\n",
       "QK6t+l4jQ1WIds0RVgN4XEbgUToztwFSUlxyU+G87yDxwgH1OiRxk6MvtrwtI/AoAS0QSLQOB0j8\n",
       "3ipC2gV5D+ZtGYFHeQ0CARn3aUYu9pGo94iUoKmid8felhF4lIAWUdEq4qvgx6twDs4YzxR8GYEf\n",
       "kgxoWZ9vw7YheOFAZwEWGK8R2DICf4a2fEAgwznfJ+RZ8kZ/01GjjrJlBH5IYEufk/6ndic6Fcay\n",
       "/ji7CAGBhI98B+n4l4hExZ/qXwsMZEfR99HGycMmn+Za1cBANpT8Bqk6PVld8MfXGxAYSP1Pnf7J\n",
       "Roeu2Z92kCp5AvnQkP7xPV2BESPsb8ZtbWOl1If4j++XRgxHlf1n8sqtm/8B41eB4/KKTFgAAAAA\n",
       "SUVORK5CYII=\n",
       "\" style=\"display:inline;vertical-align:middle;\" /></a></span>"
      ],
      "text/plain": [
       "|- forall_{n in NaturalsPos} [forall_{f_{1}, ..f_{_a}.., f_{n}, i | i in Naturals} (|(f_{1}(1), ..f_{1}(x).., f_{1}(i), ....f_{k}(1), ..f_{k}(x).., f_{k}(i)...., f_{n}(1), ..f_{n}(x).., f_{n}(i))| \\\\  = (n * i))]"
      ]
     },
     "execution_count": 3,
     "metadata": {},
     "output_type": "execute_result"
    }
   ],
   "source": [
    "len_of_ranges_with_repeated_indices_from_1"
   ]
  },
  {
   "cell_type": "code",
   "execution_count": 4,
   "metadata": {},
   "outputs": [
    {
     "data": {
      "text/html": [
       "<span style=\"font-size:20px;\"> <a class=\"ProveItLink\" href=\"__pv_it/201f77521633618af68050c4fab5750d2861fa2c0/proof.ipynb\" style=\"text-decoration: none\">&#x22A2;&nbsp;</a><a class=\"ProveItLink\" href=\"__pv_it/90eee0f2455eb93da1027834ab7a3af24ccabba90/expr.ipynb\"><img src=\"data:image/png;base64,iVBORw0KGgoAAAANSUhEUgAAAa0AAAAWBAMAAACBAt4GAAAAMFBMVEX///9UVFREREQiIiIQEBCY\n",
       "mJhmZmYyMjLu7u6qqqrMzMyIiIi6urp2dnbc3NwAAABm9RoHAAAAAXRSTlMAQObYZgAAAAlwSFlz\n",
       "AAAOxAAADsQBlSsOGwAAAxJJREFUWMPNlz1oE2EYx5/m83JN0gxuDskgpSDYSEGqg2RUEDkc2k0i\n",
       "0jpEMQhCnXJWi4iDgTq4iNkdetCpldKAgorLOYlabfCDTtKiaKpI6937pLmv59KnLwi+Q+7uze9/\n",
       "//d/78e9By0QpXP4b0s2rJlZArapFXHWXxeHNbbPmmT7ZB3ShjisBLAFQvqySz7AihrbtSaZS9ph\n",
       "gc6VMgEmz+lOhTqKvSRIpYrQNteUT8rq/GRSJ3PdArhhqKe719cvbFq/Ux0yoYnKRJ47zfikrM5P\n",
       "xstkrgmAfQCDTkW/nWusQ8aw7sNqg+nKJ2V1AfIEmasE0AZY9eWK6Ug+w6XFWK4zVyc2KasLklep\n",
       "XOkqKN8AlhveXEkNyUvY9fBQYw4SNimrC5KvqFwJE/ur6c2VySEpngW8gDmT58onZXVBcryb6/yI\n",
       "XQ4Ddow9v4Y1b654FcmjoqoM6zmAGbE2KuO9XPkkpVta4jq4yVmqv6LWYL3ZVPN1b65UEclTomZw\n",
       "Ml8A9XHRvng038OUT1K6PjOV4zl4yDkqV8wagErljT2/lLaTS91w5boDMFAUWbuPJ6TwSUo30FA2\n",
       "eQ4e8mlYLqtctl9uR5xc6RKS17DrIVpitZZPUrr1FvzhOXjIWXJ+4QC8AvQ4PGhntOZecsPTWj3g\n",
       "pwCXDNfFmuoPnoObhDNUf0WsbeM9PfvblyteQNJeQz/b2Ja7tWLE3q26TvBnN3IXXXpo5ldvHUEC\n",
       "VKhc1oIO83pE8+VKGEg+AZjenoLUcNt098KI9Tij5c7QFSfRUQbp4LTu9vOtHroQEo6T72WrCZn3\n",
       "F52KvgPf91s3aSEZde1ZXK1NBYfJfeCSoTpVT1d5Dm4yWyT3UcdIt08dEjeV3dYqJt4rE1SYwCVD\n",
       "dREt2eA5uEncmgdyjZFuEzvkIWdj9vqnoZ6Er7WKWG39s9oAJhmuS797CzwHN/mR/v6KUN8H2cIO\n",
       "Oe37+MFDcC8XD3wmhZGyujByiM6lFAi3iDW6FzGhFjqL2PNmT2WvDnHsl8XA318Iydmwe/E365pk\n",
       "rn/t8Bc2HkUwf8L0PQAAAABJRU5ErkJggg==\n",
       "\" style=\"display:inline;vertical-align:middle;\" /></a></span>"
      ],
      "text/plain": [
       "|- |(A_{1,1}, ..A_{1,x}.., A_{1,1}, ....A_{k,1}, ..A_{k,x}.., A_{k,1}...., A_{9,1}, ..A_{9,x}.., A_{9,1})| = (9 * 1)"
      ]
     },
     "execution_count": 4,
     "metadata": {},
     "output_type": "execute_result"
    }
   ],
   "source": [
    "Len(ExprTuple(ExprRange(i, ExprRange(j, Aij, one, one), one, nine)))._computation()"
   ]
  },
  {
   "cell_type": "code",
   "execution_count": 10,
   "metadata": {},
   "outputs": [
    {
     "data": {
      "text/html": [
       "<span style=\"font-size:20px;\"> <a class=\"ProveItLink\" href=\"__pv_it/95378348c357c080eeb28ae93a8d0f86ca4411980/proof.ipynb\" style=\"text-decoration: none\">&#x22A2;&nbsp;</a><a class=\"ProveItLink\" href=\"__pv_it/c830eb6fc729db218571b2f138542091a43f8ab40/expr.ipynb\"><img src=\"data:image/png;base64,iVBORw0KGgoAAAANSUhEUgAAAYQAAAAWBAMAAAAySvYcAAAAMFBMVEX///9UVFREREQiIiIQEBCY\n",
       "mJhmZmYyMjLu7u6qqqrMzMyIiIi6urp2dnbc3NwAAABm9RoHAAAAAXRSTlMAQObYZgAAAAlwSFlz\n",
       "AAAOxAAADsQBlSsOGwAAAhJJREFUWMPNlz9MwkAUxp8gpeVPdXeAwRg3MSSGOBhG3YiDrCRGHVhY\n",
       "TNxAE+PgIAmLm+4OkDihgw4ubnVyMUqMhsloYiJOYnuHQrnr+fIIiTeU3vH77vXj9bUPaIAzTPjn\n",
       "w1Rc5h071vmkid6ySbwUaoRIzTlGLz0tGBafFNEBikQL5Ah1uYVQqmNhj8+NNnZ/PEnV9ZPBkszC\n",
       "9sZnx8IaX9BiDWQAPEnV9ZOBnDQL4R8LaT6/fzhGBsCTVJ1ALiotRAq83msXZeTzAU1SdSK5qbSg\n",
       "8WrW4CiDzDKapOpE8kZpIcjpa6hauAB4kqoTyeyvhdWkM2ZdFvw8Zzl4HQfYZXeVnlUFwJNUnUhW\n",
       "lFkYZd+Ep9ZjcQidJ5zJyalifzxJ1UnIKsLCPsCYLTGYjJn2GniSqpOQV+paKPPcgT+NCoAnqToJ\n",
       "WVHWgs9pQCJ2TQffXLKSsDVbQZFUne5BwrIyC1G7cuDJ8fLVK9Nb9udBof8ERQ6kk5AAefWrzSZ3\n",
       "2ltgzLSsXlnS/pH8zot9DjonzgqOJOtSchIWZBZGJt8neIMx39tfdWWGkGfXipIk6w7lpJlQN9sr\n",
       "bpludapHoF0rSpKss+SkllFb8HW7QvP2oxZagpdinj3axIcdkqTq9JqcfPzjL48e78s7/xD7GWHF\n",
       "k6TqAh7ktLeFM3Z89r4f1QNPDhYhwO6TML7FzwyBHFqEb//HBLCrvUvWAAAAAElFTkSuQmCC\n",
       "\" style=\"display:inline;vertical-align:middle;\" /></a></span>"
      ],
      "text/plain": [
       "|- |(A_{1,1}, ..A_{1,x}.., A_{1,1}, ....A_{k,1}, ..A_{k,x}.., A_{k,1}...., A_{1,1}, ..A_{1,x}.., A_{1,1})| = 1"
      ]
     },
     "execution_count": 10,
     "metadata": {},
     "output_type": "execute_result"
    }
   ],
   "source": [
    "Len(ExprTuple(ExprRange(i, ExprRange(j, Aij, one, one), one, one))).computation()"
   ]
  },
  {
   "cell_type": "code",
   "execution_count": 11,
   "metadata": {},
   "outputs": [
    {
     "data": {
      "text/html": [
       "<span style=\"font-size:20px;\"> <a class=\"ProveItLink\" href=\"_proofs_/count_to_1_range.ipynb\" style=\"text-decoration: none\">&#x22A2;&nbsp;</a><a class=\"ProveItLink\" href=\"__pv_it/34294c327dce2bbe737b9acc8e25a9ba70f4e15f0/expr.ipynb\"><img src=\"data:image/png;base64,iVBORw0KGgoAAAANSUhEUgAAAIUAAAAVBAMAAACakjBMAAAAMFBMVEX////MzMxUVFREREQiIiK6\n",
       "uroQEBCYmJhmZmYyMjLu7u52dnaqqqqIiIjc3NwAAACFAiZ1AAAAAXRSTlMAQObYZgAAAAlwSFlz\n",
       "AAAOxAAADsQBlSsOGwAAAWNJREFUOMtjYGB4wAACfAxYwAMGggCshPcAmM16AVMeKoUXxIKI00As\n",
       "soCB4Q6mPEwKF2D0gtjDNYGBS2M+UCEnhmK4FA6wqPMXkJzFwMBRAKTvAxWyN6CrgUvhArwgMyoY\n",
       "GNgYYAqz0JUgpPCZwbaAIRKucDq6kkiizOAsYOiGK9yErqSbKDO4FSC2gxVWgsPABQwUGGAOI2gG\n",
       "+wQGH7jCI+hKfIgyg8eBIRWuUB5dSSpRZjB+QFIYRp4ZrAkMc1D9ghwec4j1iy1cYTG6ErgUFmMW\n",
       "IMLUABKjYDN60dXBpLh+ghI+iFg/gQGJBzGD4wJDCJBSzncC5lo/dDPgUi4gKzyAmKUBygALMZl9\n",
       "0QWKPWBgEYDq4HNANwMuxYPpGYTQE6SsBs5hKAAuxY0ZHgihdiC2g7IfYyqESa3FlIIL8RkAicVQ\n",
       "jhWmQphUAaYUXIgZ5Ck+CJcdS9nJV0C4LKxjYAAAxLJy7vAcIkgAAAAASUVORK5CYII=\n",
       "\" style=\"display:inline;vertical-align:middle;\" /></a></span>"
      ],
      "text/plain": [
       "|- (1) = (1, ..k.., 1)"
      ]
     },
     "execution_count": 11,
     "metadata": {},
     "output_type": "execute_result"
    }
   ],
   "source": [
    "count_to_1_range"
   ]
  },
  {
   "cell_type": "code",
   "execution_count": 12,
   "metadata": {},
   "outputs": [
    {
     "data": {
      "text/html": [
       "<strong id=\"List\">List:</strong> <a class=\"ProveItLink\" href=\"__pv_it/7b3ef3ede595e27c58f2214850300380a0e41b570/expr.ipynb\"><img src=\"data:image/png;base64,iVBORw0KGgoAAAANSUhEUgAAAPUAAAAVBAMAAABs27XUAAAAMFBMVEX////MzMxUVFREREQiIiK6\n",
       "uroQEBCYmJhmZmYyMjLu7u52dnaqqqqIiIjc3NwAAACFAiZ1AAAAAXRSTlMAQObYZgAAAAlwSFlz\n",
       "AAAOxAAADsQBlSsOGwAAA2VJREFUSMfFlk1oE0EUx1+aJtlskk0Q9FwsFDxUg6Ig2BLUQ1EPQUtR\n",
       "VFKo0oMKexFErc1BEW2joQctImWhF3souy0qSAkEDyIV7epFMUSCFjwotj1IaWmDb752J27T9taF\n",
       "zfzyf7PzPuZNNgBQga24qNdYcUt8nycf7yRBPZDyzvI9yno0Zcr4Txm94GAsW38xdxKmrOZlJZxd\n",
       "Y1rcW5nJHR5t2KFGa53FnOsJZqBv4AYgY3iky6c82spmYpauawDBjdwAPPcogeXNSGsu5lxBA85s\n",
       "4KammuKKpDYjvVy32cI6DOCgDXyzmTBUHuSmQilBR23gI6+mWvjCEwm1HBZb+bb8ky812NfOaDzH\n",
       "bUPw/j6ryeSfQquvsJ/JZ3f/+oTuIk3wGL91VfysYuqSYbLjPltUkhQcG3QmfJbYSVtkm9d6GJkj\n",
       "sJOR1cVjXYx+6GWz/G1gXoU33L7PVquYQB5O4KReUFjFosti2eMQpEBs7CRoixBLc5dzCQ4zBqxy\n",
       "SkAzm1e8x5Ro9ZxvhNL2YBLmLOhnRzbdA9oCmlNwEVt9WRwLdGNSUkTnuDb/aumF2KsZAT3gqzJC\n",
       "h1dYuiIapVdEaJhpEiWLTVX/QmgeY5gnvjEqMy1OZIYejGBSdKNjizd5W9K3ArFu4IUiyfDisWM+\n",
       "PCHF6sQG0XlowOUD3fAUSKr9fB91eEj7yRQ7K9ks1/dePoaq4GchYTKi08M8SDOdEYnvIrEFqir9\n",
       "0pBHPwapeRtOKsLBaIUY4mncX5UFAWkCro2Uvgis00kGhLB2pi4oaF2naBYtOvYj2XQ1uERia8j/\n",
       "pnrQwjpYEErCJAZqhzoiYGJLNej+LAUlC5EEAdeGffmsoi7RdlogR4JkW4U9BiWsYjxhUcxoOh2b\n",
       "wUxY9FGcj7GFLWbHRn0VqoBiQyeu0Drx/SM0HkPK4fEmAFPlr0xxbFAqY+cfNdiOcTpZus3Ir0Ok\n",
       "wPEzGw9BLGfQRwMp8n6J5ipUR48/bqKbCjSKPYHp+uBSlHhUmgQBdDgErihL0/KPmaTPYimdl41V\n",
       "H1yK4P06XOS0zfAtMJLM8lizSK1+F+928e6264JE43gfGRPUYozZjCSzPMqP1uoaOcWj4rxAXZCI\n",
       "vHH7Hgg6feMOJ8kMNVKo5gXi6n5SfU3fkv9MtwD+AQtZEbNFzOURAAAAAElFTkSuQmCC\n",
       "\" style=\"display:inline;vertical-align:middle;\" /></a><br>"
      ],
      "text/plain": [
       "List: (a, b, c, d, e, f, g, h, i, k, m, n)"
      ]
     },
     "execution_count": 12,
     "metadata": {},
     "output_type": "execute_result"
    }
   ],
   "source": [
    "List = [a,b,c,d,e,f,g,h,i,k,m,n]"
   ]
  },
  {
   "cell_type": "code",
   "execution_count": 13,
   "metadata": {},
   "outputs": [
    {
     "data": {
      "text/plain": [
       "[a, b, c, d, e, f, g, h, i, k, m]"
      ]
     },
     "execution_count": 13,
     "metadata": {},
     "output_type": "execute_result"
    }
   ],
   "source": [
    "List[:-1]"
   ]
  },
  {
   "cell_type": "code",
   "execution_count": 14,
   "metadata": {},
   "outputs": [
    {
     "ename": "InstantiationFailure",
     "evalue": "Proof step failed assuming {11 in Naturals}:\nAttempting to instantiate |- forall_{i in Naturals} [forall_{a_{1}, ..a_{_a}.., a_{i}, b} (|(a_{1}, ..a_{_a}.., a_{i}, b)| = (i + 1))] with {i: 11, a: (a, b, c, d, e, f, g, h, i, k, m), b: n, (a_{1}, ..a_{_a}.., a_{11}): (a, b, c, d, e, f, g, h, i, k, m)}:\nFailure to apply (i, a_{1}, ..a_{_a}.., a_{11}, b) -> (|(a_{1}, ..a_{_a}.., a_{i}, b)| = (i + 1)) to (11, a, b, c, d, e, f, g, h, i, k, m, n) assuming (11 in Naturals,):\nToo many arguments, [a, b, c, d, e, f, g, h, i, k, m, n], for parameter a_{1}, ..a_{_a}.., a_{11}.",
     "output_type": "error",
     "traceback": [
      "\u001b[1;31m---------------------------------------------------------------------------\u001b[0m",
      "\u001b[1;31mValueError\u001b[0m                                Traceback (most recent call last)",
      "\u001b[1;32mc:\\users\\joaqu\\prove-it\\packages\\proveit\\_core_\\expression\\lambda_expr\\lambda_expr.py\u001b[0m in \u001b[0;36mextract_complete_param_replacements\u001b[1;34m(parameters, parameter_vars, body, operands, assumptions, requirements, repl_map)\u001b[0m\n\u001b[0;32m   1030\u001b[0m                                    \u001b[0moperands_iter\u001b[0m\u001b[1;33m,\u001b[0m \u001b[0massumptions\u001b[0m\u001b[1;33m,\u001b[0m \u001b[0mrequirements\u001b[0m\u001b[1;33m,\u001b[0m\u001b[1;33m\u001b[0m\u001b[1;33m\u001b[0m\u001b[0m\n\u001b[1;32m-> 1031\u001b[1;33m                                    repl_map, is_complete=True)\n\u001b[0m\u001b[0;32m   1032\u001b[0m     \u001b[1;32mexcept\u001b[0m \u001b[0mValueError\u001b[0m \u001b[1;32mas\u001b[0m \u001b[0me\u001b[0m\u001b[1;33m:\u001b[0m\u001b[1;33m\u001b[0m\u001b[1;33m\u001b[0m\u001b[0m\n",
      "\u001b[1;32mc:\\users\\joaqu\\prove-it\\packages\\proveit\\_core_\\expression\\lambda_expr\\lambda_expr.py\u001b[0m in \u001b[0;36mextract_param_replacements\u001b[1;34m(parameters, parameter_vars, body, operands_iter, assumptions, requirements, repl_map, is_complete)\u001b[0m\n\u001b[0;32m   1114\u001b[0m                                     \u001b[1;34m\"Too many arguments, %s, for parameter\"\u001b[0m\u001b[1;33m\u001b[0m\u001b[1;33m\u001b[0m\u001b[0m\n\u001b[1;32m-> 1115\u001b[1;33m                                     \" %s.\"%(param_operands, parameter))\n\u001b[0m\u001b[0;32m   1116\u001b[0m                         elif (max_int_param_operands_len is None or\n",
      "\u001b[1;31mValueError\u001b[0m: Too many arguments, [a, b, c, d, e, f, g, h, i, k, m, n], for parameter a_{1}, ..a_{_a}.., a_{11}.",
      "\nDuring handling of the above exception, another exception occurred:\n",
      "\u001b[1;31mLambdaApplicationError\u001b[0m                    Traceback (most recent call last)",
      "\u001b[1;32mc:\\users\\joaqu\\prove-it\\packages\\proveit\\_core_\\proof.py\u001b[0m in \u001b[0;36m__init__\u001b[1;34m(self, orig_known_truth, num_forall_eliminations, repl_map, equiv_alt_expansions, assumptions)\u001b[0m\n\u001b[0;32m    944\u001b[0m                         \u001b[0massumptions\u001b[0m\u001b[1;33m,\u001b[0m \u001b[0mrequirements\u001b[0m\u001b[1;33m,\u001b[0m\u001b[1;33m\u001b[0m\u001b[1;33m\u001b[0m\u001b[0m\n\u001b[1;32m--> 945\u001b[1;33m                         equality_repl_requirements)\n\u001b[0m\u001b[0;32m    946\u001b[0m \u001b[1;33m\u001b[0m\u001b[0m\n",
      "\u001b[1;32mc:\\users\\joaqu\\prove-it\\packages\\proveit\\_core_\\proof.py\u001b[0m in \u001b[0;36m_instantiated_expr\u001b[1;34m(original_known_truth, num_forall_eliminations, instantiation_params, repl_map, equiv_alt_expansions, assumptions, requirements, equality_repl_requirements)\u001b[0m\n\u001b[0;32m   1250\u001b[0m         \u001b[1;31m# not yet been used\u001b[0m\u001b[1;33m\u001b[0m\u001b[1;33m\u001b[0m\u001b[1;33m\u001b[0m\u001b[0m\n\u001b[1;32m-> 1251\u001b[1;33m         \u001b[1;32mreturn\u001b[0m \u001b[0minstantiate\u001b[0m\u001b[1;33m(\u001b[0m\u001b[0mexpr\u001b[0m\u001b[1;33m)\u001b[0m\u001b[1;33m\u001b[0m\u001b[1;33m\u001b[0m\u001b[0m\n\u001b[0m\u001b[0;32m   1252\u001b[0m \u001b[1;33m\u001b[0m\u001b[0m\n",
      "\u001b[1;32mc:\\users\\joaqu\\prove-it\\packages\\proveit\\_core_\\proof.py\u001b[0m in \u001b[0;36minstantiate\u001b[1;34m(expr, exclusion)\u001b[0m\n\u001b[0;32m   1163\u001b[0m                     \u001b[0massumptions\u001b[0m\u001b[1;33m=\u001b[0m\u001b[0massumptions\u001b[0m\u001b[1;33m,\u001b[0m \u001b[0mrequirements\u001b[0m\u001b[1;33m=\u001b[0m\u001b[0mrequirements\u001b[0m\u001b[1;33m,\u001b[0m\u001b[1;33m\u001b[0m\u001b[1;33m\u001b[0m\u001b[0m\n\u001b[1;32m-> 1164\u001b[1;33m                     equality_repl_requirements=equality_repl_requirements)    \n\u001b[0m\u001b[0;32m   1165\u001b[0m \u001b[1;33m\u001b[0m\u001b[0m\n",
      "\u001b[1;32mc:\\users\\joaqu\\prove-it\\packages\\proveit\\_core_\\expression\\lambda_expr\\lambda_expr.py\u001b[0m in \u001b[0;36m_apply\u001b[1;34m(parameters, body, equiv_alt_expansions, allow_relabeling, assumptions, requirements, equality_repl_requirements, parameter_vars, *operands)\u001b[0m\n\u001b[0;32m    515\u001b[0m                 \u001b[0mparameters\u001b[0m\u001b[1;33m,\u001b[0m \u001b[0mparameter_vars\u001b[0m\u001b[1;33m,\u001b[0m \u001b[0mbody\u001b[0m\u001b[1;33m,\u001b[0m \u001b[0moperands\u001b[0m\u001b[1;33m,\u001b[0m\u001b[1;33m\u001b[0m\u001b[1;33m\u001b[0m\u001b[0m\n\u001b[1;32m--> 516\u001b[1;33m                 assumptions, requirements, repl_map)\n\u001b[0m\u001b[0;32m    517\u001b[0m \u001b[1;33m\u001b[0m\u001b[0m\n",
      "\u001b[1;32mc:\\users\\joaqu\\prove-it\\packages\\proveit\\_core_\\expression\\lambda_expr\\lambda_expr.py\u001b[0m in \u001b[0;36mextract_complete_param_replacements\u001b[1;34m(parameters, parameter_vars, body, operands, assumptions, requirements, repl_map)\u001b[0m\n\u001b[0;32m   1033\u001b[0m         raise LambdaApplicationError(\n\u001b[1;32m-> 1034\u001b[1;33m                 parameters, body, operands, assumptions, [], str(e))\n\u001b[0m\u001b[0;32m   1035\u001b[0m \u001b[1;33m\u001b[0m\u001b[0m\n",
      "\u001b[1;31mLambdaApplicationError\u001b[0m: Failure to apply (i, a_{1}, ..a_{_a}.., a_{11}, b) -> (|(a_{1}, ..a_{_a}.., a_{i}, b)| = (i + 1)) to (11, a, b, c, d, e, f, g, h, i, k, m, n) assuming (11 in Naturals,):\nToo many arguments, [a, b, c, d, e, f, g, h, i, k, m, n], for parameter a_{1}, ..a_{_a}.., a_{11}.",
      "\nDuring handling of the above exception, another exception occurred:\n",
      "\u001b[1;31mInstantiationFailure\u001b[0m                      Traceback (most recent call last)",
      "\u001b[1;32m<ipython-input-14-724848850fe5>\u001b[0m in \u001b[0;36m<module>\u001b[1;34m\u001b[0m\n\u001b[1;32m----> 1\u001b[1;33m \u001b[0mtuple_len_incr\u001b[0m\u001b[1;33m.\u001b[0m\u001b[0mspecialize\u001b[0m\u001b[1;33m(\u001b[0m\u001b[1;33m{\u001b[0m\u001b[0mi\u001b[0m\u001b[1;33m:\u001b[0m \u001b[0mnum\u001b[0m\u001b[1;33m(\u001b[0m\u001b[1;36m11\u001b[0m\u001b[1;33m)\u001b[0m\u001b[1;33m,\u001b[0m \u001b[0ma\u001b[0m\u001b[1;33m:\u001b[0m \u001b[0mList\u001b[0m\u001b[1;33m[\u001b[0m\u001b[1;33m:\u001b[0m\u001b[1;33m-\u001b[0m\u001b[1;36m1\u001b[0m\u001b[1;33m]\u001b[0m\u001b[1;33m,\u001b[0m \u001b[0mb\u001b[0m\u001b[1;33m:\u001b[0m\u001b[0mList\u001b[0m\u001b[1;33m[\u001b[0m\u001b[1;33m-\u001b[0m\u001b[1;36m1\u001b[0m\u001b[1;33m]\u001b[0m\u001b[1;33m}\u001b[0m\u001b[1;33m,\u001b[0m \u001b[0massumptions\u001b[0m\u001b[1;33m=\u001b[0m\u001b[1;33m[\u001b[0m\u001b[0mInSet\u001b[0m\u001b[1;33m(\u001b[0m\u001b[0mnum\u001b[0m\u001b[1;33m(\u001b[0m\u001b[1;36m11\u001b[0m\u001b[1;33m)\u001b[0m\u001b[1;33m,\u001b[0m \u001b[0mNaturals\u001b[0m\u001b[1;33m)\u001b[0m\u001b[1;33m]\u001b[0m\u001b[1;33m)\u001b[0m\u001b[1;33m\u001b[0m\u001b[1;33m\u001b[0m\u001b[0m\n\u001b[0m",
      "\u001b[1;32mc:\\users\\joaqu\\prove-it\\packages\\proveit\\_core_\\known_truth.py\u001b[0m in \u001b[0;36mspecialize\u001b[1;34m(self, repl_map, relabel_map, assumptions)\u001b[0m\n\u001b[0;32m    735\u001b[0m         \u001b[1;32mif\u001b[0m \u001b[0mrelabel_map\u001b[0m \u001b[1;32mis\u001b[0m \u001b[1;32mnot\u001b[0m \u001b[1;32mNone\u001b[0m\u001b[1;33m:\u001b[0m\u001b[1;33m\u001b[0m\u001b[1;33m\u001b[0m\u001b[0m\n\u001b[0;32m    736\u001b[0m             \u001b[0mrepl_map\u001b[0m\u001b[1;33m.\u001b[0m\u001b[0mupdate\u001b[0m\u001b[1;33m(\u001b[0m\u001b[0mrelabel_map\u001b[0m\u001b[1;33m)\u001b[0m\u001b[1;33m\u001b[0m\u001b[1;33m\u001b[0m\u001b[0m\n\u001b[1;32m--> 737\u001b[1;33m         \u001b[1;32mreturn\u001b[0m \u001b[0mself\u001b[0m\u001b[1;33m.\u001b[0m\u001b[0minstantiate\u001b[0m\u001b[1;33m(\u001b[0m\u001b[0mrepl_map\u001b[0m\u001b[1;33m,\u001b[0m \u001b[0massumptions\u001b[0m\u001b[1;33m=\u001b[0m\u001b[0massumptions\u001b[0m\u001b[1;33m)\u001b[0m\u001b[1;33m\u001b[0m\u001b[1;33m\u001b[0m\u001b[0m\n\u001b[0m\u001b[0;32m    738\u001b[0m \u001b[1;33m\u001b[0m\u001b[0m\n\u001b[0;32m    739\u001b[0m \u001b[1;33m\u001b[0m\u001b[0m\n",
      "\u001b[1;32mc:\\users\\joaqu\\prove-it\\packages\\proveit\\_core_\\known_truth.py\u001b[0m in \u001b[0;36minstantiate\u001b[1;34m(self, repl_map, num_forall_eliminations, assumptions)\u001b[0m\n\u001b[0;32m    893\u001b[0m                               \u001b[0mrepl_map\u001b[0m\u001b[1;33m=\u001b[0m\u001b[0mprocessed_repl_map\u001b[0m\u001b[1;33m,\u001b[0m\u001b[1;33m\u001b[0m\u001b[1;33m\u001b[0m\u001b[0m\n\u001b[0;32m    894\u001b[0m                               \u001b[0mequiv_alt_expansions\u001b[0m\u001b[1;33m=\u001b[0m\u001b[0mequiv_alt_expansions\u001b[0m\u001b[1;33m,\u001b[0m\u001b[1;33m\u001b[0m\u001b[1;33m\u001b[0m\u001b[0m\n\u001b[1;32m--> 895\u001b[1;33m                               assumptions=assumptions))\n\u001b[0m\u001b[0;32m    896\u001b[0m \u001b[1;33m\u001b[0m\u001b[0m\n\u001b[0;32m    897\u001b[0m     def generalize(self, forall_var_or_vars_or_var_lists, \n",
      "\u001b[1;32mc:\\users\\joaqu\\prove-it\\packages\\proveit\\_core_\\proof.py\u001b[0m in \u001b[0;36m__init__\u001b[1;34m(self, orig_known_truth, num_forall_eliminations, repl_map, equiv_alt_expansions, assumptions)\u001b[0m\n\u001b[0;32m   1025\u001b[0m         \u001b[1;32mexcept\u001b[0m \u001b[0mLambdaApplicationError\u001b[0m \u001b[1;32mas\u001b[0m \u001b[0me\u001b[0m\u001b[1;33m:\u001b[0m\u001b[1;33m\u001b[0m\u001b[1;33m\u001b[0m\u001b[0m\n\u001b[0;32m   1026\u001b[0m             raise InstantiationFailure(orig_known_truth, repl_map,\n\u001b[1;32m-> 1027\u001b[1;33m                                        assumptions, str(e))\n\u001b[0m\u001b[0;32m   1028\u001b[0m         \u001b[1;32mfinally\u001b[0m\u001b[1;33m:\u001b[0m\u001b[1;33m\u001b[0m\u001b[1;33m\u001b[0m\u001b[0m\n\u001b[0;32m   1029\u001b[0m             \u001b[1;31m# restore the original default assumptions\u001b[0m\u001b[1;33m\u001b[0m\u001b[1;33m\u001b[0m\u001b[1;33m\u001b[0m\u001b[0m\n",
      "\u001b[1;31mInstantiationFailure\u001b[0m: Proof step failed assuming {11 in Naturals}:\nAttempting to instantiate |- forall_{i in Naturals} [forall_{a_{1}, ..a_{_a}.., a_{i}, b} (|(a_{1}, ..a_{_a}.., a_{i}, b)| = (i + 1))] with {i: 11, a: (a, b, c, d, e, f, g, h, i, k, m), b: n, (a_{1}, ..a_{_a}.., a_{11}): (a, b, c, d, e, f, g, h, i, k, m)}:\nFailure to apply (i, a_{1}, ..a_{_a}.., a_{11}, b) -> (|(a_{1}, ..a_{_a}.., a_{i}, b)| = (i + 1)) to (11, a, b, c, d, e, f, g, h, i, k, m, n) assuming (11 in Naturals,):\nToo many arguments, [a, b, c, d, e, f, g, h, i, k, m, n], for parameter a_{1}, ..a_{_a}.., a_{11}."
     ]
    }
   ],
   "source": [
    "tuple_len_incr.specialize({i: num(11), a: List[:-1], b:List[-1]}, assumptions=[InSet(num(11), Naturals)])"
   ]
  },
  {
   "cell_type": "code",
   "execution_count": null,
   "metadata": {},
   "outputs": [],
   "source": [
    "Len(List)._computation(assumptions=[InSet(num(11), Naturals)])"
   ]
  },
  {
   "cell_type": "code",
   "execution_count": null,
   "metadata": {},
   "outputs": [],
   "source": [
    "md_nine_add_one"
   ]
  },
  {
   "cell_type": "code",
   "execution_count": null,
   "metadata": {},
   "outputs": [],
   "source": [
    "one_spec = tuple_len_2.specialize({a:a})"
   ]
  },
  {
   "cell_type": "code",
   "execution_count": null,
   "metadata": {},
   "outputs": [],
   "source": [
    "tuple_len_incr"
   ]
  },
  {
   "cell_type": "code",
   "execution_count": null,
   "metadata": {},
   "outputs": [],
   "source": [
    "tuple_spec = tuple_len_incr.specialize({i: one_spec.rhs, a: one_spec.lhs.operands[0], b: c}).proof()"
   ]
  },
  {
   "cell_type": "code",
   "execution_count": null,
   "metadata": {},
   "outputs": [],
   "source": [
    "tuple_spec = tuple_len_incr.specialize({i: one_spec.rhs, a: one_spec.lhs.operands[0], b: c}).rhs._integerBinaryEval()"
   ]
  },
  {
   "cell_type": "code",
   "execution_count": null,
   "metadata": {},
   "outputs": [],
   "source": [
    "tuple_spec = tuple_len_incr.specialize({i: one_spec.rhs, ExprTuple(varRange(a, one, two)): one_spec.lhs.operands[0], b: c}).proof()"
   ]
  },
  {
   "cell_type": "code",
   "execution_count": null,
   "metadata": {},
   "outputs": [],
   "source": [
    "Digit = Set(zero, one, two, three, four, five, six, seven, eight, nine)"
   ]
  },
  {
   "cell_type": "code",
   "execution_count": null,
   "metadata": {},
   "outputs": [],
   "source": [
    "md_nine_add_one.specialize({m: one, k: zero, a: ExprTuple(one), b: one}, \n",
    "                           assumptions=[InSet(zero, Naturals), InSet(one, Digit)]).proof()"
   ]
  },
  {
   "cell_type": "code",
   "execution_count": null,
   "metadata": {},
   "outputs": [],
   "source": [
    "tuple_len_incr.specialize({a:tuple_len_0.lhs.operands[0], b:a, i: tuple_len_0.rhs}, assumptions=[]).prove()"
   ]
  },
  {
   "cell_type": "code",
   "execution_count": null,
   "metadata": {},
   "outputs": [],
   "source": [
    "Digit = Set(zero, one, two, three, four, five, six, seven, eight, nine)"
   ]
  },
  {
   "cell_type": "code",
   "execution_count": null,
   "metadata": {},
   "outputs": [],
   "source": [
    "nines = num(9999999999)"
   ]
  },
  {
   "cell_type": "code",
   "execution_count": null,
   "metadata": {},
   "outputs": [],
   "source": [
    "md_only_nine_add_one.specialize({k: five}, assumptions=[InSet(five, NaturalsPos)])"
   ]
  },
  {
   "cell_type": "code",
   "execution_count": null,
   "metadata": {},
   "outputs": [],
   "source": [
    "number = num(9999993)"
   ]
  },
  {
   "cell_type": "code",
   "execution_count": null,
   "metadata": {},
   "outputs": [],
   "source": [
    "Add(number, one)._integerBinaryEval(assumptions=[InSet(three, Digit), InSet(nine, Digit), InSet(zero, NaturalsPos)])"
   ]
  },
  {
   "cell_type": "code",
   "execution_count": null,
   "metadata": {},
   "outputs": [],
   "source": [
    "number.digits"
   ]
  },
  {
   "cell_type": "code",
   "execution_count": null,
   "metadata": {},
   "outputs": [],
   "source": [
    "md_nine_add_one"
   ]
  },
  {
   "cell_type": "code",
   "execution_count": null,
   "metadata": {},
   "outputs": [],
   "source": [
    "number = num(386749999)"
   ]
  },
  {
   "cell_type": "code",
   "execution_count": null,
   "metadata": {},
   "outputs": [],
   "source": [
    "md_nine_add_one.specialize({m: four, k: four, a: number.digits[:-5], \n",
    "                            b: number.digits[-5]}, \n",
    "                           assumptions=[InSet(three, Digit), InSet(eight, Digit), InSet(six, Digit), InSet(seven, Digit), \n",
    "                                        InSet(four, Digit), InSet(zero, NaturalsPos)])"
   ]
  },
  {
   "cell_type": "code",
   "execution_count": null,
   "metadata": {},
   "outputs": [],
   "source": [
    "md_nine_add_one.specialize({m: four, k: four, ExprTuple(varRange(a, one, four)): number.digits[:-5], \n",
    "                            b: number.digits[-5]}, \n",
    "                           assumptions=[InSet(zero, NaturalsPos), InSet(three, Digit), InSet(eight, Digit), \n",
    "                                        InSet(six, Digit), InSet(seven, Digit), InSet(four, Digit)])"
   ]
  },
  {
   "cell_type": "code",
   "execution_count": null,
   "metadata": {},
   "outputs": [],
   "source": [
    "#md_nine_add_one.specialize({m: four, k: zero, ExprTuple(varRange(a, one, m)): number.digits[:-1], \n",
    " #                           b: number.digits[-1]}, \n",
    "  #                         assumptions=[InSet(zero, NaturalsPos), InSet(three, Digit), InSet(eight, Digit), \n",
    "   #                                     InSet(six, Digit), InSet(seven, Digit), InSet(four, Digit)])"
   ]
  },
  {
   "cell_type": "code",
   "execution_count": null,
   "metadata": {},
   "outputs": [],
   "source": [
    "%end demonstrations"
   ]
  },
  {
   "cell_type": "code",
   "execution_count": null,
   "metadata": {},
   "outputs": [],
   "source": []
  }
 ],
 "metadata": {
  "kernelspec": {
   "display_name": "Python 3",
   "language": "python",
   "name": "python3"
  },
  "language_info": {
   "codemirror_mode": {
    "name": "ipython",
    "version": 3
   },
   "file_extension": ".py",
   "mimetype": "text/x-python",
   "name": "python",
   "nbconvert_exporter": "python",
   "pygments_lexer": "ipython3",
   "version": "3.7.3"
  }
 },
 "nbformat": 4,
 "nbformat_minor": 1
}
