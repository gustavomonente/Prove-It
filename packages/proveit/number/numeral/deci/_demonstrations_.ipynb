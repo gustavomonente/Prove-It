{
 "cells": [
  {
   "cell_type": "markdown",
   "metadata": {},
   "source": [
    "Demonstrations for context <a class=\"ProveItLink\" href=\"_context_.ipynb\">proveit.number.numeral.decimal</a>\n",
    "========"
   ]
  },
  {
   "cell_type": "code",
   "execution_count": null,
   "metadata": {},
   "outputs": [],
   "source": [
    "import proveit\n",
    "from proveit import ExprRange, ExprTuple, varRange, IndexedVar\n",
    "from proveit.logic import Forall, Equals, InSet, Set\n",
    "from proveit.number import zero, one, two, three, four, five, six, seven, eight, nine\n",
    "from proveit.number import (one, num, Add, Mult, Less, LesserSequence, \n",
    "                            Naturals, NaturalsPos, subtract)\n",
    "from proveit.number.numeral.deci import DecimalSequence\n",
    "from proveit.core_expr_types import Len\n",
    "from proveit._common_ import a, b, c, d, e, f, g, h, i, k, m, n\n",
    "from proveit.number.numeral.deci._theorems_ import md_only_nine_add_one, md_nine_add_one\n",
    "from proveit.core_expr_types.tuples._axioms_ import tuple_len_incr, tuple_len_0\n",
    "\n",
    "%begin demonstrations"
   ]
  },
  {
   "cell_type": "code",
   "execution_count": null,
   "metadata": {},
   "outputs": [],
   "source": [
    "tuple_len_incr.specialize({a:tuple_len_0.lhs.operands[0], b:a, i: tuple_len_0.rhs}, assumptions=[]).prove()"
   ]
  },
  {
   "cell_type": "code",
   "execution_count": null,
   "metadata": {},
   "outputs": [],
   "source": [
    "Digit = Set(zero, one, two, three, four, five, six, seven, eight, nine)"
   ]
  },
  {
   "cell_type": "code",
   "execution_count": null,
   "metadata": {},
   "outputs": [],
   "source": [
    "nines = num(9999999999)"
   ]
  },
  {
   "cell_type": "code",
   "execution_count": null,
   "metadata": {},
   "outputs": [],
   "source": [
    "md_only_nine_add_one.specialize({k: five}, assumptions=[InSet(five, NaturalsPos)])"
   ]
  },
  {
   "cell_type": "code",
   "execution_count": null,
   "metadata": {},
   "outputs": [],
   "source": [
    "number = num(9999993)"
   ]
  },
  {
   "cell_type": "code",
   "execution_count": null,
   "metadata": {},
   "outputs": [],
   "source": [
    "Add(number, one)._integerBinaryEval(assumptions=[InSet(three, Digit), InSet(nine, Digit), InSet(zero, NaturalsPos)])"
   ]
  },
  {
   "cell_type": "code",
   "execution_count": null,
   "metadata": {},
   "outputs": [],
   "source": [
    "number.digits"
   ]
  },
  {
   "cell_type": "code",
   "execution_count": null,
   "metadata": {},
   "outputs": [],
   "source": [
    "md_nine_add_one"
   ]
  },
  {
   "cell_type": "code",
   "execution_count": null,
   "metadata": {},
   "outputs": [],
   "source": [
    "number = num(386749999)"
   ]
  },
  {
   "cell_type": "code",
   "execution_count": null,
   "metadata": {},
   "outputs": [],
   "source": [
    "md_nine_add_one.specialize({m: four, k: four, a: number.digits[:-5], \n",
    "                            b: number.digits[-5]}, \n",
    "                           assumptions=[InSet(three, Digit), InSet(eight, Digit), InSet(six, Digit), InSet(seven, Digit), \n",
    "                                        InSet(four, Digit), InSet(zero, NaturalsPos)])"
   ]
  },
  {
   "cell_type": "code",
   "execution_count": null,
   "metadata": {},
   "outputs": [],
   "source": [
    "md_nine_add_one.specialize({m: four, k: four, ExprTuple(varRange(a, one, four)): number.digits[:-5], \n",
    "                            b: number.digits[-5]}, \n",
    "                           assumptions=[InSet(zero, NaturalsPos), InSet(three, Digit), InSet(eight, Digit), \n",
    "                                        InSet(six, Digit), InSet(seven, Digit), InSet(four, Digit)])"
   ]
  },
  {
   "cell_type": "code",
   "execution_count": null,
   "metadata": {},
   "outputs": [],
   "source": [
    "#md_nine_add_one.specialize({m: four, k: zero, ExprTuple(varRange(a, one, m)): number.digits[:-1], \n",
    " #                           b: number.digits[-1]}, \n",
    "  #                         assumptions=[InSet(zero, NaturalsPos), InSet(three, Digit), InSet(eight, Digit), \n",
    "   #                                     InSet(six, Digit), InSet(seven, Digit), InSet(four, Digit)])"
   ]
  },
  {
   "cell_type": "code",
   "execution_count": null,
   "metadata": {},
   "outputs": [],
   "source": [
    "%end demonstrations"
   ]
  }
 ],
 "metadata": {
  "kernelspec": {
   "display_name": "Python 3",
   "language": "python",
   "name": "python3"
  }
 },
 "nbformat": 4,
 "nbformat_minor": 0
}
