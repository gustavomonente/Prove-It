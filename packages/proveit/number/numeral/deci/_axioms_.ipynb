{
 "cells": [
  {
   "cell_type": "markdown",
   "metadata": {},
   "source": [
    "Axioms for context <a class=\"ProveItLink\" href=\"_context_.ipynb\">proveit.number.numeral.decimal</a>\n",
    "========"
   ]
  },
  {
   "cell_type": "code",
   "execution_count": 1,
   "metadata": {},
   "outputs": [],
   "source": [
    "import proveit\n",
    "# Automation is not needed when building axiom expressions:\n",
    "proveit.defaults.automation = False # This will speed things up.\n",
    "from proveit import Literal\n",
    "from proveit._common_ import n, x\n",
    "from proveit.logic import Equals, Forall, And, InSet\n",
    "from proveit.number import num, zero, one, Add, LessEq, Naturals\n",
    "from proveit.number.numeral.deci._common_ import Digits\n",
    "# the context is in the current directory:\n",
    "context = proveit.Context('.') # adds context root to sys.path if necessary"
   ]
  },
  {
   "cell_type": "code",
   "execution_count": 2,
   "metadata": {},
   "outputs": [
    {
     "name": "stdout",
     "output_type": "stream",
     "text": [
      "Defining axioms for context 'proveit.number.numeral.deci'\n",
      "Subsequent end-of-cell assignments will define axioms\n",
      "%end_axioms will finalize the definitions\n"
     ]
    }
   ],
   "source": [
    "%begin axioms"
   ]
  },
  {
   "cell_type": "code",
   "execution_count": 3,
   "metadata": {},
   "outputs": [
    {
     "data": {
      "text/html": [
       "<strong id=\"twoDef\">twoDef:</strong> <a class=\"ProveItLink\" href=\"__pv_it/925e25a153e5176c1305f0ba63652793835f3c620/expr.ipynb\"><img src=\"data:image/png;base64,iVBORw0KGgoAAAANSUhEUgAAAGAAAAAVBAMAAABLWfZ5AAAAMFBMVEX///+qqqqYmJiIiIgiIiIQ\n",
       "EBDu7u66urp2dnZUVFTMzMxEREQyMjJmZmbc3NwAAADG9xhMAAAAAXRSTlMAQObYZgAAAAlwSFlz\n",
       "AAAOxAAADsQBlSsOGwAAASFJREFUOMtjYMAG+BgYSBJnMMQhzm4A1HT39AJ0ccYGBgYuN3TRJQlg\n",
       "k14ycHxHl8phYMi88w1VjG3ueaAGngSGaQwMoegaLgExM0wDuwKUYQ/UwHSBIT6BYf4DNA0ByBoY\n",
       "DZA0MIQxTGFgmI/mCfYDuDUcArH80SzgbcCtoROIuT6DuFdcQMATxORRwK1BB4hZLqDZwCKAW4MI\n",
       "EN9FDyTWArgGXhcX1xAXlwlwDevBIYVbA4YNpQwMEgx8D9D8gNdJXA0MzAmoNnAb4NagzfDk7t0p\n",
       "aE7imIBbw2WG8////0FPkw4MDJxbv0xG1TA73hPI8sOair1Qkq4BcoZwwKpBF8U+BeREoIBVA/cD\n",
       "XDnrNXZhtg24NGzDIf4IhzjTAwYAgzdMPf5qSYQAAAAASUVORK5CYII=\n",
       "\" style=\"display:inline;vertical-align:middle;\" /></a><br>"
      ],
      "text/plain": [
       "twoDef: 2 = (1 + 1)"
      ]
     },
     "execution_count": 3,
     "metadata": {},
     "output_type": "execute_result"
    }
   ],
   "source": [
    "twoDef = Equals(num(2), Add(one, one))"
   ]
  },
  {
   "cell_type": "code",
   "execution_count": 4,
   "metadata": {},
   "outputs": [
    {
     "data": {
      "text/html": [
       "<strong id=\"threeDef\">threeDef:</strong> <a class=\"ProveItLink\" href=\"__pv_it/775afc23a8f6ccc390a6363e17e586cd78f5e00a0/expr.ipynb\"><img src=\"data:image/png;base64,iVBORw0KGgoAAAANSUhEUgAAAGEAAAAVBAMAAACkm51HAAAAMFBMVEX///9UVFTMzMwiIiIQEBAy\n",
       "MjKIiIiqqqqYmJju7u66urpERERmZmZ2dnbc3NwAAAAvvFLTAAAAAXRSTlMAQObYZgAAAAlwSFlz\n",
       "AAAOxAAADsQBlSsOGwAAAU5JREFUOMtjYMAKHjCQJs7AVoBDYhmIeHtnF4ZELQPDm6Ob0ASZLCFG\n",
       "cR5g6Ec3kTOAgU+A4f4CFMGJR38CyUigru8M8wPQdPA0MDBOYGBxgPBWwJwK0tHDwMDlxcCProMF\n",
       "iH4yMP6D8MqQdbBMADHrG9B0LGVgYDRgYPyERQcrSC2XBbrHz4JJ5g9YdPAKAIMgUQjsdmMwEACx\n",
       "I8Aq9BOw6OAA+6AePazMwaQNAxYd7AZgj/5E0+EFtvQAiDxsbOxibGwI18H0gYFJgYH7OzYdPQzY\n",
       "7OByYJj/E6ID2R/hIOsvMLzD7ioWAUxXbQNiXQaGTGw+38DA0YAZHxcZGPhszhw0wKKDBxiAa85g\n",
       "pMTFwJj6//9/AIoOxi2fxYCRhD29Mysg88qQOY+x5wKOA8i8FcicEzgyzj5cWY1vAw6J2bh0cE/A\n",
       "ZVQDDok+BgYApmNWac8NnUsAAAAASUVORK5CYII=\n",
       "\" style=\"display:inline;vertical-align:middle;\" /></a><br>"
      ],
      "text/plain": [
       "threeDef: 3 = (2 + 1)"
      ]
     },
     "execution_count": 4,
     "metadata": {},
     "output_type": "execute_result"
    }
   ],
   "source": [
    "threeDef = Equals(num(3), Add(num(2), one))"
   ]
  },
  {
   "cell_type": "code",
   "execution_count": 5,
   "metadata": {},
   "outputs": [
    {
     "data": {
      "text/html": [
       "<strong id=\"fourDef\">fourDef:</strong> <a class=\"ProveItLink\" href=\"__pv_it/4712a06eda7fcd57974393c637f8b5303868dc2e0/expr.ipynb\"><img src=\"data:image/png;base64,iVBORw0KGgoAAAANSUhEUgAAAGEAAAAVBAMAAACkm51HAAAAMFBMVEX////u7u6qqqpEREQQEBC6\n",
       "urrc3Nx2dnYyMjKYmJiIiIhUVFQiIiJmZmbMzMwAAADCG2+HAAAAAXRSTlMAQObYZgAAAAlwSFlz\n",
       "AAAOxAAADsQBlSsOGwAAATxJREFUOMtjYMAKEhhIE2fgUsAhEQWh3mJIqDMwpNeaognyHYQbdRpd\n",
       "A2MDA+MFhvmoFknf+AgkG8FOwNDBO4GB6xODfAOEFwlzKkjHXBDrZTe6DhYGBlZXBn6oDi1kHSwC\n",
       "QKIAQ0cEmNSfgEUHB1CQKwFDx3UQwXqSAYsO9g0MDJkMYB28Z8BgA4jdCQqZ1fuw6eAEOrWAAcOO\n",
       "QxBXKWDRwXSAgTMBU4crxP8gFXfOnHE5c+Y0XAffB4YsBqw6+B4wMH/CYgerA0P07t1ftqP5o4mB\n",
       "Qf4jdh1AVwGBN7odVkAnbYC4CsPnBiDmZ3Qd1UCZCdjjg3cBkLjx3wpNRwwQx941RQ1dbpM/uxgY\n",
       "eLCnd54HyDwtZE4O9lzAeQGZF4nMuYkj45jhympsBjgkhHHpYBbAZdQEHBLTGBgAm5ZXocXg4lkA\n",
       "AAAASUVORK5CYII=\n",
       "\" style=\"display:inline;vertical-align:middle;\" /></a><br>"
      ],
      "text/plain": [
       "fourDef: 4 = (3 + 1)"
      ]
     },
     "execution_count": 5,
     "metadata": {},
     "output_type": "execute_result"
    }
   ],
   "source": [
    "fourDef = Equals(num(4), Add(num(3), one))"
   ]
  },
  {
   "cell_type": "code",
   "execution_count": 6,
   "metadata": {},
   "outputs": [
    {
     "data": {
      "text/html": [
       "<strong id=\"fiveDef\">fiveDef:</strong> <a class=\"ProveItLink\" href=\"__pv_it/5c5bdf73f3ab6d0f511f75bd506be918866707e50/expr.ipynb\"><img src=\"data:image/png;base64,iVBORw0KGgoAAAANSUhEUgAAAGAAAAAVBAMAAABLWfZ5AAAAMFBMVEX///+qqqq6urpERERmZmaI\n",
       "iIiYmJhUVFR2dnYiIiIyMjIQEBDc3Nzu7u7MzMwAAAD2gWHwAAAAAXRSTlMAQObYZgAAAAlwSFlz\n",
       "AAAOxAAADsQBlSsOGwAAAT1JREFUOMtjYMAGeBgYcIrzMTDcwZAIxKGBKYCBgfvXyrno4owNIJMc\n",
       "0ERfXgCbxDl/xgV0DbdABGcBihhvyXqgOq4LDOxYbHYDEZFQDUwJUNF4oAY2B6waNoBclAXVwBiA\n",
       "pIFhLzYNTAuABAcXVg3LGNhTQx6gaWAB+TkGu4Z2BuYLPJ9AXM+ZIDAdxOQCuponAbuGLBDLEs0G\n",
       "TgGgixiwa5AEsfwPoGrgVmBgyIFoYJk5c/bOmTML4BreM1gBNTzA0MATgMMGbYadDAz16H4QYGAq\n",
       "L6/f3oDVSUDRzWh+YAYr4cZqQzLDEQbWvWgaOMBK+Q2waXBl4HEpQU9LTBNA3l3/OQBFQ/H+6UDW\n",
       "HKypeB5K0g1AzhATsGpIQbEvATkRJGDVwHwARwZiOIxdmNcAlwZbHOLHcIizHWAAAN4ZUq1n8qWw\n",
       "AAAAAElFTkSuQmCC\n",
       "\" style=\"display:inline;vertical-align:middle;\" /></a><br>"
      ],
      "text/plain": [
       "fiveDef: 5 = (4 + 1)"
      ]
     },
     "execution_count": 6,
     "metadata": {},
     "output_type": "execute_result"
    }
   ],
   "source": [
    "fiveDef = Equals(num(5), Add(num(4), one))"
   ]
  },
  {
   "cell_type": "code",
   "execution_count": 7,
   "metadata": {},
   "outputs": [
    {
     "data": {
      "text/html": [
       "<strong id=\"sixDef\">sixDef:</strong> <a class=\"ProveItLink\" href=\"__pv_it/e5de5a8aa35ea507c86686d8e55a351e4af7a2440/expr.ipynb\"><img src=\"data:image/png;base64,iVBORw0KGgoAAAANSUhEUgAAAGEAAAAVBAMAAACkm51HAAAAMFBMVEX///+YmJiIiIgQEBDu7u6q\n",
       "qqpERERmZmYyMjJUVFS6uroiIiLc3NzMzMx2dnYAAADEqvTcAAAAAXRSTlMAQObYZgAAAAlwSFlz\n",
       "AAAOxAAADsQBlSsOGwAAAVRJREFUOMtjYMAKDjCQJs7AFMBwgYEFi/QiMPnu3QV0iTgGBvuO3Q6o\n",
       "grxbwEYxMJxewLkBTQNLAwPD7t9PUAU9K74AyRYgbmdgS0DTwS7AwDABzlsIcypIhzgDA+sXTNcy\n",
       "MyDrCELWwezAwGGAqWMFbh0cAgz8vY+q0HXUAfFEpVpsOvgmMPg3MjCDAoB9NxiAjW4E4hSG8wuw\n",
       "6GBsYPD/wMBugmbHVjDJtgGLDtYNDPwbGBh/oemwgoTYHyBRvXu38e7dO+E6eD8wcDcwMH7E1MHW\n",
       "wMD+F4sdXAYgu8F2IPujFRiKGxg4P2B3FRfQH+gBnAQME6CmBGw+BwrmMTgHoOl4ycDAU8Cg7IBF\n",
       "B7sC0LTyuejxsRqIj1eWoMYHZ/LvSQwM3NjTOzdKYg5C5pzGnj0YC5B5C5E5hThyVA6urMaTgEPC\n",
       "DZcONgdcRgngkJBhYAAAoflbnju2rzAAAAAASUVORK5CYII=\n",
       "\" style=\"display:inline;vertical-align:middle;\" /></a><br>"
      ],
      "text/plain": [
       "sixDef: 6 = (5 + 1)"
      ]
     },
     "execution_count": 7,
     "metadata": {},
     "output_type": "execute_result"
    }
   ],
   "source": [
    "sixDef = Equals(num(6), Add(num(5), one))"
   ]
  },
  {
   "cell_type": "code",
   "execution_count": 8,
   "metadata": {},
   "outputs": [
    {
     "data": {
      "text/html": [
       "<strong id=\"sevenDef\">sevenDef:</strong> <a class=\"ProveItLink\" href=\"__pv_it/c6fb67d351938511a615ac2e2180fc06e4b1dded0/expr.ipynb\"><img src=\"data:image/png;base64,iVBORw0KGgoAAAANSUhEUgAAAGAAAAAVBAMAAABLWfZ5AAAAMFBMVEX///+IiIi6urpERETMzMwi\n",
       "IiJmZmZUVFQyMjJ2dnYQEBCqqqru7u6YmJjc3NwAAACkDK0iAAAAAXRSTlMAQObYZgAAAAlwSFlz\n",
       "AAAOxAAADsQBlSsOGwAAAU5JREFUOMtjYMAG+BgYcIq/PYBFQhqHBiYBBob9////X4Amzj2BgYFz\n",
       "5hQ0UdcDYJNmlKWlbkCTOgG0PIihFEWMp6wfqIHjAEMCA8MzdJtzgTIJDMZQZ1yAisoDNfAmMABN\n",
       "L0DXAHTifrjXuAWQNDCsAWJOB3SvNTAwdDFg19ALxI/RLWAD+vmHp5gCNg3TgbgIzE0NBYFwEJPj\n",
       "AgPPjwsMq7FpuAEMjw/oNrBuYOD5z8CQdQCLhq1ALzSga+ACOuYrA8N9IMUWGhq1NDS0AK7BH2ie\n",
       "ATYNEUANF7DYoMXAcL4Aww/AoDaF2IDNSfoJ6DYwA5XoA/2AzdOXgVE0AV0DJ9BO5gk8WEMpkYHh\n",
       "1QaMNBkAJKalO6BqKF4fDmTFYU3FIShJVwA5QwRg1XANxb4LyIngAlYNzA9wZCDMZARN+wa4NNjg\n",
       "EH+LQ5z3AQMAVxNTslz59iEAAAAASUVORK5CYII=\n",
       "\" style=\"display:inline;vertical-align:middle;\" /></a><br>"
      ],
      "text/plain": [
       "sevenDef: 7 = (6 + 1)"
      ]
     },
     "execution_count": 8,
     "metadata": {},
     "output_type": "execute_result"
    }
   ],
   "source": [
    "sevenDef = Equals(num(7), Add(num(6), one))"
   ]
  },
  {
   "cell_type": "code",
   "execution_count": 9,
   "metadata": {},
   "outputs": [
    {
     "data": {
      "text/html": [
       "<strong id=\"eightDef\">eightDef:</strong> <a class=\"ProveItLink\" href=\"__pv_it/d2b0db67697a4eec055457d1fe5f2074c3522a800/expr.ipynb\"><img src=\"data:image/png;base64,iVBORw0KGgoAAAANSUhEUgAAAGEAAAAVBAMAAACkm51HAAAAMFBMVEX///8iIiLMzMwQEBDc3NxE\n",
       "REQyMjKYmJiqqqpUVFS6urpmZmaIiIh2dnbu7u4AAACjocmCAAAAAXRSTlMAQObYZgAAAAlwSFlz\n",
       "AAAOxAAADsQBlSsOGwAAAUpJREFUOMtjYMAKHBhIE2fgaWCpwyqxBkS8PbsLQ6KXgeP///+fUQWZ\n",
       "5EBGARkbGDgb0DTwJTDwZu7eLYEi+HLbPyCZx8DAXgBSgAq4Cxi4GRhYNkB4y2FOBemoZmDgDcDU\n",
       "wczAwMHAwAnl9SDrYH7AwPX1AdBIVLAMTF7CpoMNqHb+nx3oHt8LIlgCsOngnQDE/1PAbhcEgwkg\n",
       "djqI4FyATQc70Ae9rv8XoNkBDiR/Bmw6OAQY2Dcw9Nuh6bACEdfAzI2CgsaCgpJwHUwfQJ5n+YFN\n",
       "hyhWO7gMGN4Dqelo/sgAxeJPXK5iBiauEDQ7YkCG/caqgz2AgSuPgf0Amo6bIMP+YtXBDVSruRsj\n",
       "JS4ERYcFmg7O4I9zGBgYsad3RgVkXg8yxxF79mDfgMxbjszZjiNHheDKavCkgw6e4tLB+gCXUQU4\n",
       "JEoYGADM5lIWFgOZoAAAAABJRU5ErkJggg==\n",
       "\" style=\"display:inline;vertical-align:middle;\" /></a><br>"
      ],
      "text/plain": [
       "eightDef: 8 = (7 + 1)"
      ]
     },
     "execution_count": 9,
     "metadata": {},
     "output_type": "execute_result"
    }
   ],
   "source": [
    "eightDef = Equals(num(8), Add(num(7), one))"
   ]
  },
  {
   "cell_type": "code",
   "execution_count": 10,
   "metadata": {},
   "outputs": [
    {
     "data": {
      "text/html": [
       "<strong id=\"nineDef\">nineDef:</strong> <a class=\"ProveItLink\" href=\"__pv_it/0a87ee99e0f05e78f3ac1947aab66d8a18cc29d40/expr.ipynb\"><img src=\"data:image/png;base64,iVBORw0KGgoAAAANSUhEUgAAAGEAAAAVBAMAAACkm51HAAAAMFBMVEX///+qqqqYmJi6urp2dnYy\n",
       "MjJERETc3NwQEBDMzMyIiIgiIiLu7u5UVFRmZmYAAAABFGnYAAAAAXRSTlMAQObYZgAAAAlwSFlz\n",
       "AAAOxAAADsQBlSsOGwAAAVtJREFUOMtjYMAKChhIE2fgEsAhYQUi+N7dwZAQYWA4suQxmiDnHohR\n",
       "PLsYZqDbxRPAwPCAgRfVorNP/wDJGAYG3gYGtgdoOvgUGJgUwPpAwAjmVJAOPQYG/gAGlg9oOjgY\n",
       "GFgS4DqkkHVwHGA4n8DA9RNNhykDA/O3A0CbMHWwKoDt+Iym4wkQ3//1kAGLDpYLYH98Arl9Nxhc\n",
       "AMkFgaT+h2PTwRTAwNPMMPcjmh0bQQFc9t8Aiw7GDQwM55ZIofujGWjWAwb5HiDz9e7dHbt374Xr\n",
       "4ASHEt8fTB3AMGH/iMUO5gYQkzUBzR+BDAzngdQl7K5i7GGon4BmRxbQDmA6SMfmc2Bk7GFIQk9W\n",
       "vkDbYxiYFmDRwQcUdPEzQNdhDcRz3z1GDV3ejN+3GBi4sad3bhRnSiFzqrHnAiaUpGmEzHmEI+Ok\n",
       "48pq7Ak4JI7h0sF2AJdRCjgk1BkYAKUuX4WtcuHiAAAAAElFTkSuQmCC\n",
       "\" style=\"display:inline;vertical-align:middle;\" /></a><br>"
      ],
      "text/plain": [
       "nineDef: 9 = (8 + 1)"
      ]
     },
     "execution_count": 10,
     "metadata": {},
     "output_type": "execute_result"
    }
   ],
   "source": [
    "nineDef = Equals(num(9), Add(num(8), one))"
   ]
  },
  {
   "cell_type": "code",
   "execution_count": 11,
   "metadata": {},
   "outputs": [],
   "source": [
    "#\\forall_{n} (n \\in N_{\\leq 9}) = (n \\in N and n \\leq 9)"
   ]
  },
  {
   "cell_type": "code",
   "execution_count": 12,
   "metadata": {},
   "outputs": [
    {
     "data": {
      "text/html": [
       "<strong id=\"N_leq_9\">N_leq_9:</strong> <a class=\"ProveItLink\" href=\"__pv_it/65b0893d2498f3f0be93607d003e8328b65cabd90/expr.ipynb\"><img src=\"data:image/png;base64,iVBORw0KGgoAAAANSUhEUgAAAVsAAAAaBAMAAADrkuKjAAAAMFBMVEX///+IiIgiIiIQEBB2dnbu\n",
       "7u5UVFTMzMzc3NwyMjK6urpmZmaYmJiqqqpEREQAAACk/Np2AAAAAXRSTlMAQObYZgAAAAlwSFlz\n",
       "AAAOxAAADsQBlSsOGwAABKtJREFUWMPNWF2IG1UU/pLNzCTZSXbYrvogagz+VKs0iKL4UCOKIrg4\n",
       "rFIQfxot6oqoqQVfhO7gHxTLbl5WfagSbRV8shWpWFfNUhClVIIKgsoa1EWsui4UsRYt3nPn3js/\n",
       "946GPix+cA4zk/PlfPfOOffeBDhVLAWYmMD/AV8p9y9qPdjNSguFNVOVlamyT7psfNoDxtrW73AG\n",
       "ayU3K9PtymXi7D5zcwFOAIuGj4vCslAc4olCID9eNH/+i3JpTJ38ycd1x7rbSS1Gus5fQN7X484S\n",
       "loa1cWUehWuuLnsmRgZeYcYJlInP8DeJgTak0/FruQVWAZUfSGN5+c6/gVxLr6ZmaDqq/deBLb6m\n",
       "zhwNvHfAR64vhkOZDtLTF+Mho03pdNwb3AywkZS53rteOw5Sb6omczHZ6ws9jAAl8Uom4/WX0P8C\n",
       "f5uecxUwj5BAmR6nqUwU8VhXOh0PD0oBalT3DwVw/HKHXe7WohaEGeQusanJA27YyNZFMUYc7gY+\n",
       "nq3Az8BhCMLuUHahHw+d8aWLtVa9TsowvVjscLko3u9Xe6U2u/pAE9UQpvPtXd5Okosr+OPcR92I\n",
       "EUPuvDD9n8AtrEd8QWCZXLYilRKx48opvHGauJi22xOhXNas5WtvpIt1abU053zedb4dPJBr5tUr\n",
       "yYvFKRmN284VnXkSOKeNUk8QKNNl9frlieAHpds7/fTpvIWL8/KzaQyq3VpS3ZvppYHqnszAt4Mq\n",
       "jpLcG/jtF6JrEtG44xIZTrPbRaElCJTpHWA5kW1FuuaKZx2nm1IQyX3COj8ld4YqAm/VCRfw8F5o\n",
       "Br4dOPumptjFJwhb/GtIhooefUl9Navd33pwO4JAmZ5FMbkUPS+c092E4h/82xDJdftLDexYYZAa\n",
       "5tJdme9zM/HtAEcq37OLz/g+1RKrdiLajuTe2nUe7aNSEwTKVPULyXwbhLOsE3BX6WY7TdwglIv7\n",
       "7FRfbEnLHelyM/GZXNvfShPF79rIeYIRReM5VQzW/klWu86qIFCmipfsNDW7qKzC5knujs0uNlup\n",
       "Yphrm+Wa+Eyu1aJi2CNW2/DLEtFRqxE+9FFuCALP1GF7sbuw7UxNrt3BWI9eVj4u1/FSR42ZIF27\n",
       "/dAMfCYX26qyGGiTeF8yVHRsIWN4GVEx8EyTrG/dPb0RWYuPSDfSxLeg3S2ntvgfmZ0x+I+VoeqF\n",
       "ZuBX2fzkdtCJju5Ixk7JUNGxbeJzn8rZHQgCz/QU67RnxjEms66Tjs39TS4fhCr+S6lzk4skDmkH\n",
       "01ZoBj51Id5ltp80eWIAqehoEx5nWxFL6AnCITli3BNWk5otcq8Cs0f4o81Hw7E8dowN1ErJPaBt\n",
       "E7XQdL6zcZM4IKynxPTQaSIdHRv49XSkyQeCEGW6Em87sU4JXYS939U7WQc8/cxwobBsfrGmMzLx\n",
       "pCSoTMVVXPzlECcy0xlWP5EdFpaN0Z7OyMSCIESZ2DF2Qn6D05BuKLj6ebcahJaNWQND/Qbga0w0\n",
       "3/y8OGvOxE+Jyg2DvK7LGoSWjWUDIwu8xJfNmYb8rRaD6RfULmGZbyQwMTLwsSQsnvov4eSrWhNk\n",
       "Zhrmfwa11vhr9j8Dy/QPW41QTTeUx8MAAAAASUVORK5CYII=\n",
       "\" style=\"display:inline;vertical-align:middle;\" /></a><br>"
      ],
      "text/plain": [
       "N_leq_9: forall_{n} ((n in Digits) = ((n in Naturals) and (n <= 9)))"
      ]
     },
     "execution_count": 12,
     "metadata": {},
     "output_type": "execute_result"
    }
   ],
   "source": [
    "N_leq_9 = Forall(n, Equals(InSet(n, Digits), And(InSet(n, Naturals), LessEq(n, num(9)))))"
   ]
  },
  {
   "cell_type": "code",
   "execution_count": null,
   "metadata": {},
   "outputs": [],
   "source": []
  },
  {
   "cell_type": "code",
   "execution_count": 13,
   "metadata": {},
   "outputs": [
    {
     "name": "stdout",
     "output_type": "stream",
     "text": [
      "Modifying axiom N_leq_9 in proveit.number.numeral.deci context\n",
      "N_leq_9 expression notebook is being updated\n",
      "Axioms may be imported from autogenerated _axioms_.py\n"
     ]
    }
   ],
   "source": [
    "%end axioms"
   ]
  },
  {
   "cell_type": "code",
   "execution_count": null,
   "metadata": {},
   "outputs": [],
   "source": []
  }
 ],
 "metadata": {
  "kernelspec": {
   "display_name": "Python 3",
   "language": "python",
   "name": "python3"
  },
  "language_info": {
   "codemirror_mode": {
    "name": "ipython",
    "version": 3
   },
   "file_extension": ".py",
   "mimetype": "text/x-python",
   "name": "python",
   "nbconvert_exporter": "python",
   "pygments_lexer": "ipython3",
   "version": "3.7.3"
  }
 },
 "nbformat": 4,
 "nbformat_minor": 1
}
