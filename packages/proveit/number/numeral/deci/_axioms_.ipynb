{
 "cells": [
  {
   "cell_type": "markdown",
   "metadata": {},
   "source": [
    "Axioms for context <a class=\"ProveItLink\" href=\"_context_.ipynb\">proveit.number.numeral.decimal</a>\n",
    "========"
   ]
  },
  {
   "cell_type": "code",
   "execution_count": 1,
   "metadata": {},
   "outputs": [],
   "source": [
    "import proveit\n",
    "# Automation is not needed when building axiom expressions:\n",
    "proveit.defaults.automation = False # This will speed things up.\n",
    "from proveit import Literal\n",
    "from proveit._common_ import n, x\n",
    "from proveit.logic import Equals, Forall, And, InSet\n",
    "from proveit.number import num, zero, one, Add, LessEq, Naturals\n",
    "# the context is in the current directory:\n",
    "context = proveit.Context('.') # adds context root to sys.path if necessary"
   ]
  },
  {
   "cell_type": "code",
   "execution_count": 2,
   "metadata": {},
   "outputs": [
    {
     "name": "stdout",
     "output_type": "stream",
     "text": [
      "Defining axioms for context 'proveit.number.numeral.deci'\n",
      "Subsequent end-of-cell assignments will define axioms\n",
      "%end_axioms will finalize the definitions\n"
     ]
    }
   ],
   "source": [
    "%begin axioms"
   ]
  },
  {
   "cell_type": "code",
   "execution_count": 3,
   "metadata": {},
   "outputs": [
    {
     "data": {
      "text/html": [
       "<strong id=\"twoDef\">twoDef:</strong> <a class=\"ProveItLink\" href=\"__pv_it/925e25a153e5176c1305f0ba63652793835f3c620/expr.ipynb\"><img src=\"data:image/png;base64,iVBORw0KGgoAAAANSUhEUgAAAGAAAAAVBAMAAABLWfZ5AAAAMFBMVEX///+qqqqYmJiIiIgiIiIQ\n",
       "EBDu7u66urp2dnZUVFTMzMxEREQyMjJmZmbc3NwAAADG9xhMAAAAAXRSTlMAQObYZgAAAAlwSFlz\n",
       "AAAOxAAADsQBlSsOGwAAASFJREFUOMtjYMAG+BgYSBJnMMQhzm4A1HT39AJ0ccYGBgYuN3TRJQlg\n",
       "k14ycHxHl8phYMi88w1VjG3ueaAGngSGaQwMoegaLgExM0wDuwKUYQ/UwHSBIT6BYf4DNA0ByBoY\n",
       "DZA0MIQxTGFgmI/mCfYDuDUcArH80SzgbcCtoROIuT6DuFdcQMATxORRwK1BB4hZLqDZwCKAW4MI\n",
       "EN9FDyTWArgGXhcX1xAXlwlwDevBIYVbA4YNpQwMEgx8D9D8gNdJXA0MzAmoNnAb4NagzfDk7t0p\n",
       "aE7imIBbw2WG8////0FPkw4MDJxbv0xG1TA73hPI8sOair1Qkq4BcoZwwKpBF8U+BeREoIBVA/cD\n",
       "XDnrNXZhtg24NGzDIf4IhzjTAwYAgzdMPf5qSYQAAAAASUVORK5CYII=\n",
       "\" style=\"display:inline;vertical-align:middle;\" /></a><br>"
      ],
      "text/plain": [
       "twoDef: 2 = (1 + 1)"
      ]
     },
     "execution_count": 3,
     "metadata": {},
     "output_type": "execute_result"
    }
   ],
   "source": [
    "twoDef = Equals(num(2), Add(one, one))"
   ]
  },
  {
   "cell_type": "code",
   "execution_count": 4,
   "metadata": {},
   "outputs": [
    {
     "data": {
      "text/html": [
       "<strong id=\"threeDef\">threeDef:</strong> <a class=\"ProveItLink\" href=\"__pv_it/775afc23a8f6ccc390a6363e17e586cd78f5e00a0/expr.ipynb\"><img src=\"data:image/png;base64,iVBORw0KGgoAAAANSUhEUgAAAGEAAAAVBAMAAACkm51HAAAAMFBMVEX///9UVFTMzMwiIiIQEBAy\n",
       "MjKIiIiqqqqYmJju7u66urpERERmZmZ2dnbc3NwAAAAvvFLTAAAAAXRSTlMAQObYZgAAAAlwSFlz\n",
       "AAAOxAAADsQBlSsOGwAAAU5JREFUOMtjYMAKHjCQJs7AVoBDYhmIeHtnF4ZELQPDm6Ob0ASZLCFG\n",
       "cR5g6Ec3kTOAgU+A4f4CFMGJR38CyUigru8M8wPQdPA0MDBOYGBxgPBWwJwK0tHDwMDlxcCProMF\n",
       "iH4yMP6D8MqQdbBMADHrG9B0LGVgYDRgYPyERQcrSC2XBbrHz4JJ5g9YdPAKAIMgUQjsdmMwEACx\n",
       "I8Aq9BOw6OAA+6AePazMwaQNAxYd7AZgj/5E0+EFtvQAiDxsbOxibGwI18H0gYFJgYH7OzYdPQzY\n",
       "7OByYJj/E6ID2R/hIOsvMLzD7ioWAUxXbQNiXQaGTGw+38DA0YAZHxcZGPhszhw0wKKDBxiAa85g\n",
       "pMTFwJj6//9/AIoOxi2fxYCRhD29Mysg88qQOY+x5wKOA8i8FcicEzgyzj5cWY1vAw6J2bh0cE/A\n",
       "ZVQDDok+BgYApmNWac8NnUsAAAAASUVORK5CYII=\n",
       "\" style=\"display:inline;vertical-align:middle;\" /></a><br>"
      ],
      "text/plain": [
       "threeDef: 3 = (2 + 1)"
      ]
     },
     "execution_count": 4,
     "metadata": {},
     "output_type": "execute_result"
    }
   ],
   "source": [
    "threeDef = Equals(num(3), Add(num(2), one))"
   ]
  },
  {
   "cell_type": "code",
   "execution_count": 5,
   "metadata": {},
   "outputs": [
    {
     "data": {
      "text/html": [
       "<strong id=\"fourDef\">fourDef:</strong> <a class=\"ProveItLink\" href=\"__pv_it/4712a06eda7fcd57974393c637f8b5303868dc2e0/expr.ipynb\"><img src=\"data:image/png;base64,iVBORw0KGgoAAAANSUhEUgAAAGEAAAAVBAMAAACkm51HAAAAMFBMVEX////u7u6qqqpEREQQEBC6\n",
       "urrc3Nx2dnYyMjKYmJiIiIhUVFQiIiJmZmbMzMwAAADCG2+HAAAAAXRSTlMAQObYZgAAAAlwSFlz\n",
       "AAAOxAAADsQBlSsOGwAAATxJREFUOMtjYMAKEhhIE2fgUsAhEQWh3mJIqDMwpNeaognyHYQbdRpd\n",
       "A2MDA+MFhvmoFknf+AgkG8FOwNDBO4GB6xODfAOEFwlzKkjHXBDrZTe6DhYGBlZXBn6oDi1kHSwC\n",
       "QKIAQ0cEmNSfgEUHB1CQKwFDx3UQwXqSAYsO9g0MDJkMYB28Z8BgA4jdCQqZ1fuw6eAEOrWAAcOO\n",
       "QxBXKWDRwXSAgTMBU4crxP8gFXfOnHE5c+Y0XAffB4YsBqw6+B4wMH/CYgerA0P07t1ftqP5o4mB\n",
       "Qf4jdh1AVwGBN7odVkAnbYC4CsPnBiDmZ3Qd1UCZCdjjg3cBkLjx3wpNRwwQx941RQ1dbpM/uxgY\n",
       "eLCnd54HyDwtZE4O9lzAeQGZF4nMuYkj45jhympsBjgkhHHpYBbAZdQEHBLTGBgAm5ZXocXg4lkA\n",
       "AAAASUVORK5CYII=\n",
       "\" style=\"display:inline;vertical-align:middle;\" /></a><br>"
      ],
      "text/plain": [
       "fourDef: 4 = (3 + 1)"
      ]
     },
     "execution_count": 5,
     "metadata": {},
     "output_type": "execute_result"
    }
   ],
   "source": [
    "fourDef = Equals(num(4), Add(num(3), one))"
   ]
  },
  {
   "cell_type": "code",
   "execution_count": 6,
   "metadata": {},
   "outputs": [
    {
     "data": {
      "text/html": [
       "<strong id=\"fiveDef\">fiveDef:</strong> <a class=\"ProveItLink\" href=\"__pv_it/5c5bdf73f3ab6d0f511f75bd506be918866707e50/expr.ipynb\"><img src=\"data:image/png;base64,iVBORw0KGgoAAAANSUhEUgAAAGAAAAAVBAMAAABLWfZ5AAAAMFBMVEX///+qqqq6urpERERmZmaI\n",
       "iIiYmJhUVFR2dnYiIiIyMjIQEBDc3Nzu7u7MzMwAAAD2gWHwAAAAAXRSTlMAQObYZgAAAAlwSFlz\n",
       "AAAOxAAADsQBlSsOGwAAAT1JREFUOMtjYMAGeBgYcIrzMTDcwZAIxKGBKYCBgfvXyrno4owNIJMc\n",
       "0ERfXgCbxDl/xgV0DbdABGcBihhvyXqgOq4LDOxYbHYDEZFQDUwJUNF4oAY2B6waNoBclAXVwBiA\n",
       "pIFhLzYNTAuABAcXVg3LGNhTQx6gaWAB+TkGu4Z2BuYLPJ9AXM+ZIDAdxOQCuponAbuGLBDLEs0G\n",
       "TgGgixiwa5AEsfwPoGrgVmBgyIFoYJk5c/bOmTML4BreM1gBNTzA0MATgMMGbYadDAz16H4QYGAq\n",
       "L6/f3oDVSUDRzWh+YAYr4cZqQzLDEQbWvWgaOMBK+Q2waXBl4HEpQU9LTBNA3l3/OQBFQ/H+6UDW\n",
       "HKypeB5K0g1AzhATsGpIQbEvATkRJGDVwHwARwZiOIxdmNcAlwZbHOLHcIizHWAAAN4ZUq1n8qWw\n",
       "AAAAAElFTkSuQmCC\n",
       "\" style=\"display:inline;vertical-align:middle;\" /></a><br>"
      ],
      "text/plain": [
       "fiveDef: 5 = (4 + 1)"
      ]
     },
     "execution_count": 6,
     "metadata": {},
     "output_type": "execute_result"
    }
   ],
   "source": [
    "fiveDef = Equals(num(5), Add(num(4), one))"
   ]
  },
  {
   "cell_type": "code",
   "execution_count": 7,
   "metadata": {},
   "outputs": [
    {
     "data": {
      "text/html": [
       "<strong id=\"sixDef\">sixDef:</strong> <a class=\"ProveItLink\" href=\"__pv_it/e5de5a8aa35ea507c86686d8e55a351e4af7a2440/expr.ipynb\"><img src=\"data:image/png;base64,iVBORw0KGgoAAAANSUhEUgAAAGEAAAAVBAMAAACkm51HAAAAMFBMVEX///+YmJiIiIgQEBDu7u6q\n",
       "qqpERERmZmYyMjJUVFS6uroiIiLc3NzMzMx2dnYAAADEqvTcAAAAAXRSTlMAQObYZgAAAAlwSFlz\n",
       "AAAOxAAADsQBlSsOGwAAAVRJREFUOMtjYMAKDjCQJs7AFMBwgYEFi/QiMPnu3QV0iTgGBvuO3Q6o\n",
       "grxbwEYxMJxewLkBTQNLAwPD7t9PUAU9K74AyRYgbmdgS0DTwS7AwDABzlsIcypIhzgDA+sXTNcy\n",
       "MyDrCELWwezAwGGAqWMFbh0cAgz8vY+q0HXUAfFEpVpsOvgmMPg3MjCDAoB9NxiAjW4E4hSG8wuw\n",
       "6GBsYPD/wMBugmbHVjDJtgGLDtYNDPwbGBh/oemwgoTYHyBRvXu38e7dO+E6eD8wcDcwMH7E1MHW\n",
       "wMD+F4sdXAYgu8F2IPujFRiKGxg4P2B3FRfQH+gBnAQME6CmBGw+BwrmMTgHoOl4ycDAU8Cg7IBF\n",
       "B7sC0LTyuejxsRqIj1eWoMYHZ/LvSQwM3NjTOzdKYg5C5pzGnj0YC5B5C5E5hThyVA6urMaTgEPC\n",
       "DZcONgdcRgngkJBhYAAAoflbnju2rzAAAAAASUVORK5CYII=\n",
       "\" style=\"display:inline;vertical-align:middle;\" /></a><br>"
      ],
      "text/plain": [
       "sixDef: 6 = (5 + 1)"
      ]
     },
     "execution_count": 7,
     "metadata": {},
     "output_type": "execute_result"
    }
   ],
   "source": [
    "sixDef = Equals(num(6), Add(num(5), one))"
   ]
  },
  {
   "cell_type": "code",
   "execution_count": 8,
   "metadata": {},
   "outputs": [
    {
     "data": {
      "text/html": [
       "<strong id=\"sevenDef\">sevenDef:</strong> <a class=\"ProveItLink\" href=\"__pv_it/c6fb67d351938511a615ac2e2180fc06e4b1dded0/expr.ipynb\"><img src=\"data:image/png;base64,iVBORw0KGgoAAAANSUhEUgAAAGAAAAAVBAMAAABLWfZ5AAAAMFBMVEX///+IiIi6urpERETMzMwi\n",
       "IiJmZmZUVFQyMjJ2dnYQEBCqqqru7u6YmJjc3NwAAACkDK0iAAAAAXRSTlMAQObYZgAAAAlwSFlz\n",
       "AAAOxAAADsQBlSsOGwAAAU5JREFUOMtjYMAG+BgYcIq/PYBFQhqHBiYBBob9////X4Amzj2BgYFz\n",
       "5hQ0UdcDYJNmlKWlbkCTOgG0PIihFEWMp6wfqIHjAEMCA8MzdJtzgTIJDMZQZ1yAisoDNfAmMABN\n",
       "L0DXAHTifrjXuAWQNDCsAWJOB3SvNTAwdDFg19ALxI/RLWAD+vmHp5gCNg3TgbgIzE0NBYFwEJPj\n",
       "AgPPjwsMq7FpuAEMjw/oNrBuYOD5z8CQdQCLhq1ALzSga+ACOuYrA8N9IMUWGhq1NDS0AK7BH2ie\n",
       "ATYNEUANF7DYoMXAcL4Aww/AoDaF2IDNSfoJ6DYwA5XoA/2AzdOXgVE0AV0DJ9BO5gk8WEMpkYHh\n",
       "1QaMNBkAJKalO6BqKF4fDmTFYU3FIShJVwA5QwRg1XANxb4LyIngAlYNzA9wZCDMZARN+wa4NNjg\n",
       "EH+LQ5z3AQMAVxNTslz59iEAAAAASUVORK5CYII=\n",
       "\" style=\"display:inline;vertical-align:middle;\" /></a><br>"
      ],
      "text/plain": [
       "sevenDef: 7 = (6 + 1)"
      ]
     },
     "execution_count": 8,
     "metadata": {},
     "output_type": "execute_result"
    }
   ],
   "source": [
    "sevenDef = Equals(num(7), Add(num(6), one))"
   ]
  },
  {
   "cell_type": "code",
   "execution_count": 9,
   "metadata": {},
   "outputs": [
    {
     "data": {
      "text/html": [
       "<strong id=\"eightDef\">eightDef:</strong> <a class=\"ProveItLink\" href=\"__pv_it/d2b0db67697a4eec055457d1fe5f2074c3522a800/expr.ipynb\"><img src=\"data:image/png;base64,iVBORw0KGgoAAAANSUhEUgAAAGEAAAAVBAMAAACkm51HAAAAMFBMVEX///8iIiLMzMwQEBDc3NxE\n",
       "REQyMjKYmJiqqqpUVFS6urpmZmaIiIh2dnbu7u4AAACjocmCAAAAAXRSTlMAQObYZgAAAAlwSFlz\n",
       "AAAOxAAADsQBlSsOGwAAAUpJREFUOMtjYMAKHBhIE2fgaWCpwyqxBkS8PbsLQ6KXgeP///+fUQWZ\n",
       "5EBGARkbGDgb0DTwJTDwZu7eLYEi+HLbPyCZx8DAXgBSgAq4Cxi4GRhYNkB4y2FOBemoZmDgDcDU\n",
       "wczAwMHAwAnl9SDrYH7AwPX1AdBIVLAMTF7CpoMNqHb+nx3oHt8LIlgCsOngnQDE/1PAbhcEgwkg\n",
       "djqI4FyATQc70Ae9rv8XoNkBDiR/Bmw6OAQY2Dcw9Nuh6bACEdfAzI2CgsaCgpJwHUwfQJ5n+YFN\n",
       "hyhWO7gMGN4Dqelo/sgAxeJPXK5iBiauEDQ7YkCG/caqgz2AgSuPgf0Amo6bIMP+YtXBDVSruRsj\n",
       "JS4ERYcFmg7O4I9zGBgYsad3RgVkXg8yxxF79mDfgMxbjszZjiNHheDKavCkgw6e4tLB+gCXUQU4\n",
       "JEoYGADM5lIWFgOZoAAAAABJRU5ErkJggg==\n",
       "\" style=\"display:inline;vertical-align:middle;\" /></a><br>"
      ],
      "text/plain": [
       "eightDef: 8 = (7 + 1)"
      ]
     },
     "execution_count": 9,
     "metadata": {},
     "output_type": "execute_result"
    }
   ],
   "source": [
    "eightDef = Equals(num(8), Add(num(7), one))"
   ]
  },
  {
   "cell_type": "code",
   "execution_count": 10,
   "metadata": {},
   "outputs": [
    {
     "data": {
      "text/html": [
       "<strong id=\"nineDef\">nineDef:</strong> <a class=\"ProveItLink\" href=\"__pv_it/0a87ee99e0f05e78f3ac1947aab66d8a18cc29d40/expr.ipynb\"><img src=\"data:image/png;base64,iVBORw0KGgoAAAANSUhEUgAAAGEAAAAVBAMAAACkm51HAAAAMFBMVEX///+qqqqYmJi6urp2dnYy\n",
       "MjJERETc3NwQEBDMzMyIiIgiIiLu7u5UVFRmZmYAAAABFGnYAAAAAXRSTlMAQObYZgAAAAlwSFlz\n",
       "AAAOxAAADsQBlSsOGwAAAVtJREFUOMtjYMAKChhIE2fgEsAhYQUi+N7dwZAQYWA4suQxmiDnHohR\n",
       "PLsYZqDbxRPAwPCAgRfVorNP/wDJGAYG3gYGtgdoOvgUGJgUwPpAwAjmVJAOPQYG/gAGlg9oOjgY\n",
       "GFgS4DqkkHVwHGA4n8DA9RNNhykDA/O3A0CbMHWwKoDt+Iym4wkQ3//1kAGLDpYLYH98Arl9Nxhc\n",
       "AMkFgaT+h2PTwRTAwNPMMPcjmh0bQQFc9t8Aiw7GDQwM55ZIofujGWjWAwb5HiDz9e7dHbt374Xr\n",
       "4ASHEt8fTB3AMGH/iMUO5gYQkzUBzR+BDAzngdQl7K5i7GGon4BmRxbQDmA6SMfmc2Bk7GFIQk9W\n",
       "vkDbYxiYFmDRwQcUdPEzQNdhDcRz3z1GDV3ejN+3GBi4sad3bhRnSiFzqrHnAiaUpGmEzHmEI+Ok\n",
       "48pq7Ak4JI7h0sF2AJdRCjgk1BkYAKUuX4WtcuHiAAAAAElFTkSuQmCC\n",
       "\" style=\"display:inline;vertical-align:middle;\" /></a><br>"
      ],
      "text/plain": [
       "nineDef: 9 = (8 + 1)"
      ]
     },
     "execution_count": 10,
     "metadata": {},
     "output_type": "execute_result"
    }
   ],
   "source": [
    "nineDef = Equals(num(9), Add(num(8), one))"
   ]
  },
  {
   "cell_type": "code",
   "execution_count": 11,
   "metadata": {},
   "outputs": [],
   "source": [
    "#\\forall_{n} (n \\in N_{\\leq 9}) = (n \\in N and n \\leq 9)"
   ]
  },
  {
   "cell_type": "code",
   "execution_count": 12,
   "metadata": {},
   "outputs": [
    {
     "data": {
      "text/html": [
       "<strong id=\"N_leq_9\">N_leq_9:</strong> <a class=\"ProveItLink\" href=\"__pv_it/61ec5b3c5a9cc478d386b84ff81b21727767924b0/expr.ipynb\"><img src=\"data:image/png;base64,iVBORw0KGgoAAAANSUhEUgAAAVUAAAAWBAMAAACCmRJrAAAAMFBMVEX///+IiIgiIiIQEBB2dnbu\n",
       "7u5UVFTMzMzc3NwyMjK6urpmZmaYmJiqqqpEREQAAACk/Np2AAAAAXRSTlMAQObYZgAAAAlwSFlz\n",
       "AAAOxAAADsQBlSsOGwAABGRJREFUSMe9V1toHFUY/vYyM7vJ7GQsUR9EXRel1lsXKSgF6xa1IBgd\n",
       "oi2IkKTWYnywbhX7oKBD1GKw6PpQ6oOViY2CL6VC0aopbl8kUEoXDAoqcVIRY01joEirSPFcZ86c\n",
       "2Uv0wQ++kPzzfWf++c9/LgHSKAiuBn6HmP+vPH53cZcBrxbUYaxf3o/83RvV2FRalmlxpjB86VcP\n",
       "95wPpto5OmFKYUgDP6hPSzXONJzWh8Co1+M1c4JpnOsbg/FH2jPXIc8vPvGiL6f8nAbfURWPCqZh\n",
       "3phvIpeM7U9Vv8HZBo/7DwDV2DMUO5IoHWDz4Fp3crHgHtqcoSqcEWyT6zz5qmwydlIX9Tc52+Dp\n",
       "sOijHHmMdbEjAftmNnc7gN+4WLBIwvnEpFQFlYk+U2HDmvvcST3XnKe9KCeo4JpKhZVu/EShQXMV\n",
       "nsxXQeRIvO56/vxP4CEuFrTJRxVVZV+DU4m8LfIx/SczNS3Xol6UjwSVyOXil3GzPkhzFZ6sFUYO\n",
       "BY9cJ8p+Cbi2zsSSt1cqGxJzWOPs2/L65u0sMilLZ/oOzmq55se0XI8KTo+/eoXLtsCopccROkE5\n",
       "8syJdZJQ47FbpJzWNWBiyU+Bn/VCUeadBYz6iZVn+taR4WGtt+gU9FcYWArvCtaWXeMiG9CPc33R\n",
       "uKEsPHTc7wFd3X8wGpr06+9NJpbci0KiNNkW5wu5EG/VaaQR54pTpZ/4Sl1EZjPd2Eplra63clrB\n",
       "JhQusFwR52q35qvSY40h60FXm3GuDwfWMy0mlnS8fJBYGwGnNxrgNBuTdEnlNpGr6e1gqS4AT+Ab\n",
       "+nRFy3Ujp2H8BZs9e46WPOS5YqdZlR6zjowLXY03oh4wPh4i/UrFkiW3iHa54kdgF7OESl2NMdoD\n",
       "9hL5cYEdC33V9rmitAKTOUeUumKbUZYesocbZejqeG1RfOkxsSQaJ8jLZ3ZfJfu1xYmngL8NGikr\n",
       "uWK3QzaVc3TJXMRAIOZT7deDgmYDA006x1k1V8sNZQ/Qk+A4dLWyZxG8h0QPYIisU/tQMyeWgONy\n",
       "YgP52DyNXBadsaR9My/BuksU8GWyBO1Qq+uCYK5GZoZ2NJ9oil8Irwylh757ErpaOQu+9mgL22FM\n",
       "vELK8doaDHjxJkRJdPnGrKx0tOzwGTB/H/3r8NbT5O9+V8t1iyBZl/fbvqxbtOz6G8Jju+LrNXV8\n",
       "xq7xnCYXS3L9dhySO385YmGJZWns+oA9sdZvEleFwzRZ4zu6pWX1y9r7Md88xSLbzvIyPHs+5Ic/\n",
       "8zg0aNVSamXrvpdeVrJ+TI47cNQSv64VVA6uByvrksPsOQY8zw6cCf3Qz9Y5FUyfqSQOwom0ozMm\n",
       "FPLr9Qpu+la5jZzsdcfeuxNLONDulmMf4eyCmbSjuzhxnSIXy0F5sDs+Z69/CKYH6/oVjWFRsCNS\n",
       "HlU9zHaUtQmxZJvrf6juqT3geKnQSGJPXY1npIdYsg32Ca4Gs23K1uRcvaebelbhf4C1TLCI/x3/\n",
       "APImQ3GhVufXAAAAAElFTkSuQmCC\n",
       "\" style=\"display:inline;vertical-align:middle;\" /></a><br>"
      ],
      "text/plain": [
       "N_leq_9: forall_{n} ((n in N_{<= 9}) = ((n in Naturals) and (n <= 9)))"
      ]
     },
     "execution_count": 12,
     "metadata": {},
     "output_type": "execute_result"
    }
   ],
   "source": [
    "N_leq_9 = Forall(n, Equals(InSet(n, Literal('N_{<= 9}', r'\\mathbb{N}_{\\leq 9}')), And(InSet(n, Naturals), LessEq(n, num(9)))))"
   ]
  },
  {
   "cell_type": "code",
   "execution_count": null,
   "metadata": {},
   "outputs": [],
   "source": []
  },
  {
   "cell_type": "code",
   "execution_count": 13,
   "metadata": {},
   "outputs": [
    {
     "name": "stdout",
     "output_type": "stream",
     "text": [
      "Axioms may be imported from autogenerated _axioms_.py\n"
     ]
    }
   ],
   "source": [
    "%end axioms"
   ]
  },
  {
   "cell_type": "code",
   "execution_count": null,
   "metadata": {},
   "outputs": [],
   "source": []
  }
 ],
 "metadata": {
  "kernelspec": {
   "display_name": "Python 3",
   "language": "python",
   "name": "python3"
  },
  "language_info": {
   "codemirror_mode": {
    "name": "ipython",
    "version": 3
   },
   "file_extension": ".py",
   "mimetype": "text/x-python",
   "name": "python",
   "nbconvert_exporter": "python",
   "pygments_lexer": "ipython3",
   "version": "3.7.3"
  }
 },
 "nbformat": 4,
 "nbformat_minor": 1
}
