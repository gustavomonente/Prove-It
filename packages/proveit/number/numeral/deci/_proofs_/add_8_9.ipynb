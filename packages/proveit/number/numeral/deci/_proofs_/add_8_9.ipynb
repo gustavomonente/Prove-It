{
 "cells": [
  {
   "cell_type": "markdown",
   "metadata": {},
   "source": [
    "Proof of <a class=\"ProveItLink\" href=\"../../../../_context_.ipynb\">proveit</a>.<a class=\"ProveItLink\" href=\"../../../_context_.ipynb\">number</a>.<a class=\"ProveItLink\" href=\"../../_context_.ipynb\">numeral</a>.<a class=\"ProveItLink\" href=\"../_context_.ipynb\">decimal</a>.<a class=\"ProveItLink\" href=\"../_theorems_.ipynb#add_8_9\">add_8_9</a> theorem\n",
    "========"
   ]
  },
  {
   "cell_type": "code",
   "execution_count": 1,
   "metadata": {},
   "outputs": [],
   "source": [
    "import proveit\n",
    "context = proveit.Context('..') # the theorem's context is in the parent directory"
   ]
  },
  {
   "cell_type": "code",
   "execution_count": 2,
   "metadata": {},
   "outputs": [
    {
     "name": "stdout",
     "output_type": "stream",
     "text": [
      "Beginning proof of add_8_9\n",
      "Recorded 'presuming' information\n",
      "Presuming previous theorems (applied transitively).\n"
     ]
    },
    {
     "data": {
      "text/html": [
       "<strong id=\"add_8_9\">add_8_9:</strong> <a class=\"ProveItLink\" href=\"../__pv_it/8d94094d664909805fbcfc09777c51ced747dcd10/expr.ipynb\"><img src=\"data:image/png;base64,iVBORw0KGgoAAAANSUhEUgAAAG0AAAAUBAMAAAB1+65sAAAAMFBMVEX////MzMxUVFR2dna6uroQ\n",
       "EBCqqqqIiIgiIiJmZmYyMjJERETu7u6YmJjc3NwAAACgK8IjAAAAAXRSTlMAQObYZgAAAY9JREFU\n",
       "OMuVlL9Lw1AQx79t+suSVNE/oAVn2yEg6ORmxw7iVFEQqW4FJ11aBF1cgu3iVsXF0Eo3J0s2sQrN\n",
       "JrjYRXDUqgXRGu8lhfblR8WD4+79+OQud+89IKbDXUJtjJJb4Hq7bJu8kZNA0nW/b68ky2QvAAX+\n",
       "NW5NXMGThqYT2tAgGYbRASQFIR1ixZrPWcafgV+BkLdR4nRKwxilnwAibQh1iEWOG69AeIGYccR7\n",
       "1CAAwgTwDAS+NEHnuFYd4R/gzI0jWSTdIU31ZsFxQYr3Dsx5cHXSK1LBqPIcJRntAQ+mr5qiDDgz\n",
       "uQPSrfTHAsfhEutdYNM9Xot5S1TSBApZcudVdV9VT82e30+9AnF3brfPBTX4unw8asW3J3cIK08W\n",
       "d8bORalH6aH/Swy4Dqy6BKmTDY6Tsoi3+3VxxPN9Mo9qHahCynNcuCrWyJQcXIG40BvzWC6TpTLf\n",
       "B8jHrMAnduxo9VxHbJm5Ee625LjjWBxxjSRleHQ3PHCca04anivNv+7tv7/IxPOdkEa9E7882XWo\n",
       "Jg3WTwAAAABJRU5ErkJggg==\n",
       "\" style=\"display:inline;vertical-align:middle;\" /></a><br>(see <a class=\"ProveItLink\" href=\"../__pv_it/8d94094d664909805fbcfc09777c51ced747dcd10/dependencies.ipynb\">dependencies</a>)<br>"
      ],
      "text/plain": [
       "add_8_9: (8 + 9) = 17"
      ]
     },
     "execution_count": 2,
     "metadata": {},
     "output_type": "execute_result"
    }
   ],
   "source": [
    "%proving add_8_9 presuming []"
   ]
  },
  {
   "cell_type": "code",
   "execution_count": null,
   "metadata": {},
   "outputs": [],
   "source": []
  }
 ],
 "metadata": {
  "kernelspec": {
   "display_name": "Python 3",
   "language": "python",
   "name": "python3"
  }
 },
 "nbformat": 4,
 "nbformat_minor": 0
}
