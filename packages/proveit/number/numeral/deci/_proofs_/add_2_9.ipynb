{
 "cells": [
  {
   "cell_type": "markdown",
   "metadata": {},
   "source": [
    "Proof of <a class=\"ProveItLink\" href=\"../../../../_context_.ipynb\">proveit</a>.<a class=\"ProveItLink\" href=\"../../../_context_.ipynb\">number</a>.<a class=\"ProveItLink\" href=\"../../_context_.ipynb\">numeral</a>.<a class=\"ProveItLink\" href=\"../_context_.ipynb\">decimal</a>.<a class=\"ProveItLink\" href=\"../_theorems_.ipynb#add_2_9\">add_2_9</a> theorem\n",
    "========"
   ]
  },
  {
   "cell_type": "code",
   "execution_count": 1,
   "metadata": {},
   "outputs": [],
   "source": [
    "import proveit\n",
    "context = proveit.Context('..') # the theorem's context is in the parent directory"
   ]
  },
  {
   "cell_type": "code",
   "execution_count": 2,
   "metadata": {},
   "outputs": [
    {
     "name": "stdout",
     "output_type": "stream",
     "text": [
      "Beginning proof of add_2_9\n",
      "Recorded 'presuming' information\n",
      "Presuming previous theorems (applied transitively).\n"
     ]
    },
    {
     "data": {
      "text/html": [
       "<strong id=\"add_2_9\">add_2_9:</strong> <a class=\"ProveItLink\" href=\"../__pv_it/aa9188676364cc191aad864b7c49e810146a5e6c0/expr.ipynb\"><img src=\"data:image/png;base64,iVBORw0KGgoAAAANSUhEUgAAAGsAAAAUBAMAAAB45d4rAAAAMFBMVEX///9UVFTMzMx2dna6uroQ\n",
       "EBCqqqqIiIgiIiJmZmYyMjJERETu7u6YmJjc3NwAAAC+aOQFAAAAAXRSTlMAQObYZgAAAVlJREFU\n",
       "OMtjYOC7wIAdsD1gwANOMzCcnL0JTfCksRwDgxw+besYeAQY7B1QxHhiGZ4eYDiFqTj1AJTgncDA\n",
       "eYCBNQAinA6hGAMYGCcwMBegaeIRlj8AIRg4HjCwNjAw/kPRxr+AgfkDA08Ahm33D0CJFwwMXH8Y\n",
       "GD+haDu/gYEdaNAS3NoqwVyOPyjaWIG2fWFgsMStbS+Y62+Aog3oQq6/DAy3wOxVYDABVVsbmNvI\n",
       "gKKNYTtD8jcGhgzctoWAeJxgs6xWrWpdtWohOKqvKwN9q09AWyUDmm3AOPiDVxvIkWwTGN6ha+MS\n",
       "YGDwQPKbAGaQKDMw1KFo441h0H8ADRLstgEDma/ZeGIDijb2NTxrgdRkDG31B6AE0CFc////R9XG\n",
       "YDwTlEgXoeuaGL/yAoTgQMke6ShJsAF3BuCdgMw7g8zBSMrIYB9OmVMEsinJBgIBzkKBF0+hAACX\n",
       "EHl6lKXPbwAAAABJRU5ErkJggg==\n",
       "\" style=\"display:inline;vertical-align:middle;\" /></a><br>(see <a class=\"ProveItLink\" href=\"../__pv_it/aa9188676364cc191aad864b7c49e810146a5e6c0/dependencies.ipynb\">dependencies</a>)<br>"
      ],
      "text/plain": [
       "add_2_9: (2 + 9) = 11"
      ]
     },
     "execution_count": 2,
     "metadata": {},
     "output_type": "execute_result"
    }
   ],
   "source": [
    "%proving add_2_9 presuming []"
   ]
  },
  {
   "cell_type": "code",
   "execution_count": null,
   "metadata": {},
   "outputs": [],
   "source": []
  }
 ],
 "metadata": {
  "kernelspec": {
   "display_name": "Python 3",
   "language": "python",
   "name": "python3"
  }
 },
 "nbformat": 4,
 "nbformat_minor": 0
}
