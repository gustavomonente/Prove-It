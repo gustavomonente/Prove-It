{
 "cells": [
  {
   "cell_type": "markdown",
   "metadata": {},
   "source": [
    "Proof of <a class=\"ProveItLink\" href=\"../../../../_context_.ipynb\">proveit</a>.<a class=\"ProveItLink\" href=\"../../../_context_.ipynb\">number</a>.<a class=\"ProveItLink\" href=\"../../_context_.ipynb\">numeral</a>.<a class=\"ProveItLink\" href=\"../_context_.ipynb\">deci</a>.<a class=\"ProveItLink\" href=\"../_theorems_.ipynb#mult_1_9\">mult_1_9</a> theorem\n",
    "========"
   ]
  },
  {
   "cell_type": "code",
   "execution_count": 1,
   "metadata": {},
   "outputs": [],
   "source": [
    "import proveit\n",
    "context = proveit.Context('..') # the theorem's context is in the parent directory"
   ]
  },
  {
   "cell_type": "code",
   "execution_count": 2,
   "metadata": {},
   "outputs": [
    {
     "name": "stdout",
     "output_type": "stream",
     "text": [
      "Beginning proof of mult_1_9\n",
      "Recorded 'presuming' information\n",
      "Presuming previous theorems (applied transitively).\n"
     ]
    },
    {
     "data": {
      "text/html": [
       "<strong id=\"mult_1_9\">mult_1_9:</strong> <a class=\"ProveItLink\" href=\"../__pv_it/a463751570eb61e27bb18f79d84651b87a149dde0/expr.ipynb\"><img src=\"data:image/png;base64,iVBORw0KGgoAAAANSUhEUgAAAFcAAAAUBAMAAAAKKrydAAAAMFBMVEX////MzMxUVFR2dna6uroQ\n",
       "EBCqqqqIiIgiIiJmZmYyMjJERETu7u6YmJjc3NwAAACgK8IjAAAAAXRSTlMAQObYZgAAASNJREFU\n",
       "KM9jYOC7wIAB8hhwgNOoXJ7JRg8YmB6gqwILMzCsA+LUA3DRoxf4Yhh4FqArBgsz8E5g4FHWRyhW\n",
       "ZWDQZGAwR1cMEeYAmX4fofgXA4M90CB0xRDhFwwoinl+MzDUP2DgckBzMkS4ElUxQxTQCAcG5glo\n",
       "JkOE96IpBlq2/gIDL9iHVqtAYCVCuA2hmAdEcBew2ScwsDWgmQwRDkEoPg82LrfQXoCB8QO6D8HC\n",
       "SIo5FCDiwIDEVAwWbkNzMxAsYmBgaUC4eRFCGN2DVw8w/mOAehAJQIQtQcx6hOKqA6eAKYvTAE0x\n",
       "RNgDyJoUvxKe9JgtpwBJLgE0xRBhjgfYkuIJ7CmUdwI2UXMc6XkfFjHMJIo98UPi6wEOxdiy1T3s\n",
       "SgFHsl/YzzTwSAAAAABJRU5ErkJggg==\n",
       "\" style=\"display:inline;vertical-align:middle;\" /></a><br>(see <a class=\"ProveItLink\" href=\"../__pv_it/a463751570eb61e27bb18f79d84651b87a149dde0/dependencies.ipynb\">dependencies</a>)<br>"
      ],
      "text/plain": [
       "mult_1_9: (1 * 9) = 9"
      ]
     },
     "execution_count": 2,
     "metadata": {},
     "output_type": "execute_result"
    }
   ],
   "source": [
    "%proving mult_1_9 presuming []"
   ]
  },
  {
   "cell_type": "code",
   "execution_count": null,
   "metadata": {},
   "outputs": [],
   "source": []
  }
 ],
 "metadata": {
  "kernelspec": {
   "display_name": "Python 3",
   "language": "python",
   "name": "python3"
  }
 },
 "nbformat": 4,
 "nbformat_minor": 0
}
