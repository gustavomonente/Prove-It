{
 "cells": [
  {
   "cell_type": "markdown",
   "metadata": {},
   "source": [
    "Proof of <a class=\"ProveItLink\" href=\"../../../../_context_.ipynb\">proveit</a>.<a class=\"ProveItLink\" href=\"../../../_context_.ipynb\">number</a>.<a class=\"ProveItLink\" href=\"../../_context_.ipynb\">numeral</a>.<a class=\"ProveItLink\" href=\"../_context_.ipynb\">deci</a>.<a class=\"ProveItLink\" href=\"../_theorems_.ipynb#mult_2_7\">mult_2_7</a> theorem\n",
    "========"
   ]
  },
  {
   "cell_type": "code",
   "execution_count": 1,
   "metadata": {},
   "outputs": [],
   "source": [
    "import proveit\n",
    "context = proveit.Context('..') # the theorem's context is in the parent directory"
   ]
  },
  {
   "cell_type": "code",
   "execution_count": 2,
   "metadata": {},
   "outputs": [
    {
     "name": "stdout",
     "output_type": "stream",
     "text": [
      "Beginning proof of mult_2_7\n",
      "Recorded 'presuming' information\n",
      "Presuming previous theorems (applied transitively).\n"
     ]
    },
    {
     "data": {
      "text/html": [
       "<strong id=\"mult_2_7\">mult_2_7:</strong> <a class=\"ProveItLink\" href=\"../__pv_it/5fee743e5215f3abb5929391b2a1904300c7d0330/expr.ipynb\"><img src=\"data:image/png;base64,iVBORw0KGgoAAAANSUhEUgAAAGEAAAAUBAMAAABvx07iAAAAMFBMVEX///9UVFTMzMx2dna6uroQ\n",
       "EBCqqqqIiIgiIiJmZmYyMjJERETu7u6YmJjc3NwAAAC+aOQFAAAAAXRSTlMAQObYZgAAAWdJREFU\n",
       "KM9jYOC7wIAB8hjwgdMMDCdnb4JzNSSNjQ0YH+BQzDQBSKxj4BFgsHeAid3///+/AM8CDLVsMSCS\n",
       "Q4CBgXcCA+cBBtYAmMw8BgZGBgZzdA0HDf+AqFKgDo4HDKwNDIz/YFIGDAxGDAxHMezgBenguwXU\n",
       "8YKBgesPA+MnhBxLAVDIAasOZi6gjkown+MPQo4bJDUBq457IB17wXx/A4ScLUge7HWrVSCwEq6D\n",
       "pwCkow3MbwQRPGAmzwdQyDRgs4OZAaQjBMTlBDviPNhgdhDJ9AGbjiSEDqhnBMDkBlw6eAwYYK5i\n",
       "m8DwDi7FD9LH0oDwx0KYDjbJmfMjC8A+V2ZgqIPr0J8A9zlGWDGwAo2zBMZLs/FEhE/zQcHGaYCu\n",
       "gx2iA+hkD2B0AZMSQsfTBCDBpYCmgVP011xgYO3/eAGUSrCAE3gSO+8EbKLm+PLHPixiWFI7ao7C\n",
       "ANwP8OnAlmvv4VEPAMVJWMhhNUu9AAAAAElFTkSuQmCC\n",
       "\" style=\"display:inline;vertical-align:middle;\" /></a><br>(see <a class=\"ProveItLink\" href=\"../__pv_it/5fee743e5215f3abb5929391b2a1904300c7d0330/dependencies.ipynb\">dependencies</a>)<br>"
      ],
      "text/plain": [
       "mult_2_7: (2 * 7) = 14"
      ]
     },
     "execution_count": 2,
     "metadata": {},
     "output_type": "execute_result"
    }
   ],
   "source": [
    "%proving mult_2_7 presuming []"
   ]
  },
  {
   "cell_type": "code",
   "execution_count": null,
   "metadata": {},
   "outputs": [],
   "source": []
  }
 ],
 "metadata": {
  "kernelspec": {
   "display_name": "Python 3",
   "language": "python",
   "name": "python3"
  }
 },
 "nbformat": 4,
 "nbformat_minor": 0
}
