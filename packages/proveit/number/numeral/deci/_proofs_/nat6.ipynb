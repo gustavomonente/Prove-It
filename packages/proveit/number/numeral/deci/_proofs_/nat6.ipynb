{
 "cells": [
  {
   "cell_type": "markdown",
   "metadata": {},
   "source": [
    "Proof of <a class=\"ProveItLink\" href=\"../../../../_context_.ipynb\">proveit</a>.<a class=\"ProveItLink\" href=\"../../../_context_.ipynb\">number</a>.<a class=\"ProveItLink\" href=\"../../_context_.ipynb\">numeral</a>.<a class=\"ProveItLink\" href=\"../_context_.ipynb\">decimal</a>.<a class=\"ProveItLink\" href=\"../_theorems_.ipynb#nat6\">nat6</a> theorem\n",
    "========"
   ]
  },
  {
   "cell_type": "code",
   "execution_count": 1,
   "metadata": {},
   "outputs": [],
   "source": [
    "import proveit\n",
    "context = proveit.Context('..') # the theorem's context is in the parent directory"
   ]
  },
  {
   "cell_type": "code",
   "execution_count": 2,
   "metadata": {},
   "outputs": [
    {
     "name": "stdout",
     "output_type": "stream",
     "text": [
      "Beginning proof of nat6\n",
      "Recorded 'presuming' information\n",
      "Presuming previous theorems (applied transitively).\n"
     ]
    },
    {
     "data": {
      "text/html": [
       "<strong id=\"nat6\">nat6:</strong> <a class=\"ProveItLink\" href=\"../__pv_it/af6407d3d35334e38f5e554345931ee2c735fc3c0/expr.ipynb\"><img src=\"data:image/png;base64,iVBORw0KGgoAAAANSUhEUgAAADMAAAAPBAMAAAC7N+rPAAAAMFBMVEX///9UVFSqqqoiIiKYmJgQ\n",
       "EBDc3NxERERmZma6uroyMjLu7u7MzMyIiIh2dnYAAACR0mqaAAAAAXRSTlMAQObYZgAAAOdJREFU\n",
       "GNNjYGB4e+8AAzLY9b1qA8PTrxOArAkcC1CkGEp4BBi4PwAZFQzsBahSwgfuMjAEMDBwfoOJsBQb\n",
       "W4EZktWMBxgMGBjYA6AyPLUboCyxg9yrQVL8a952QmyHyTCIMV04CJLav4SBWQEsALdLjOElywWQ\n",
       "1AcGjmiQQAGSFOMGGZCBBgwsP0FWRa0CAqgUtwAX0AnMCxhYvgD5bMi6GM7xAKUYAyC6GAKQpVgU\n",
       "gCp5fjNwgEV74VIyQPwMZIgcw1awCyHuBIFFQAwOPL4+GbAAt/hsiMzhr0Ad3CjhyvkcGlBQAAAO\n",
       "3TdriFARwwAAAABJRU5ErkJggg==\n",
       "\" style=\"display:inline;vertical-align:middle;\" /></a><br>(see <a class=\"ProveItLink\" href=\"../__pv_it/af6407d3d35334e38f5e554345931ee2c735fc3c0/dependencies.ipynb\">dependencies</a>)<br>"
      ],
      "text/plain": [
       "nat6: 6 in Naturals"
      ]
     },
     "execution_count": 2,
     "metadata": {},
     "output_type": "execute_result"
    }
   ],
   "source": [
    "%proving nat6 presuming []"
   ]
  },
  {
   "cell_type": "code",
   "execution_count": null,
   "metadata": {},
   "outputs": [],
   "source": []
  }
 ],
 "metadata": {
  "kernelspec": {
   "display_name": "Python 3",
   "language": "python",
   "name": "python3"
  }
 },
 "nbformat": 4,
 "nbformat_minor": 0
}
