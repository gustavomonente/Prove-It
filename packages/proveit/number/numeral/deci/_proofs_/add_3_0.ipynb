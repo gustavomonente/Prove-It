{
 "cells": [
  {
   "cell_type": "markdown",
   "metadata": {},
   "source": [
    "Proof of <a class=\"ProveItLink\" href=\"../../../../_context_.ipynb\">proveit</a>.<a class=\"ProveItLink\" href=\"../../../_context_.ipynb\">number</a>.<a class=\"ProveItLink\" href=\"../../_context_.ipynb\">numeral</a>.<a class=\"ProveItLink\" href=\"../_context_.ipynb\">decimal</a>.<a class=\"ProveItLink\" href=\"../_theorems_.ipynb#add_3_0\">add_3_0</a> theorem\n",
    "========"
   ]
  },
  {
   "cell_type": "code",
   "execution_count": 1,
   "metadata": {},
   "outputs": [],
   "source": [
    "import proveit\n",
    "context = proveit.Context('..') # the theorem's context is in the parent directory"
   ]
  },
  {
   "cell_type": "code",
   "execution_count": 2,
   "metadata": {},
   "outputs": [
    {
     "name": "stdout",
     "output_type": "stream",
     "text": [
      "Beginning proof of add_3_0\n",
      "Recorded 'presuming' information\n",
      "Presuming previous theorems (applied transitively).\n"
     ]
    },
    {
     "data": {
      "text/html": [
       "<strong id=\"add_3_0\">add_3_0:</strong> <a class=\"ProveItLink\" href=\"../__pv_it/4f8fcc2325cefd4cdea8cda59d71bec4820d16de0/expr.ipynb\"><img src=\"data:image/png;base64,iVBORw0KGgoAAAANSUhEUgAAAGEAAAAUBAMAAABvx07iAAAAMFBMVEX////MzMxUVFR2dna6uroQ\n",
       "EBCqqqqIiIgiIiJmZmYyMjJERETu7u6YmJjc3NwAAACgK8IjAAAAAXRSTlMAQObYZgAAAXRJREFU\n",
       "KM91k79Lw1AQxz/a1tY2Sfsf1D+h0KFalyyCTiLUSYds3WwRHJwsiIKLdi06FMcMIiIuomYRBB0K\n",
       "4qgGuugiolBUKvqS+qN5SW5Ijnvvw9297x1oLYJtISTOJbTzR1KwcJ1h0JavavlxQ/z20OpUvImS\n",
       "hrKJ0pSJR4Y+Qa0T75Cu9WLl3u8GiiKRTKwYvEHCJloi3fQQB1CxOJeJCZ0PeHD936p+iBeYNkjq\n",
       "vqadqpYdR1mln1DeBVElUvcRFzk4cd5gdMdDaK+QraK6pUZM11y6vWHBuntnSfcQIkc2x1DNlyNe\n",
       "gpLrxebFp2iaa6a5+1fVwLNfvVnLITSbVEfuvGL4iSc4M5yq0l2ZOIZ7i2itr48R4X5ZDiE6j+2T\n",
       "6AYoqMqiz8GWxZg4acl6JAxlBoZzEnHr6jEpvKnGoed1UQqLGTFdGYmINrZ1d0r6rOyRK3jYVY+w\n",
       "V56RD9mP07DF8U/7/0YFW8oOOQjd2rvg8DfFhGftt8MknwAAAABJRU5ErkJggg==\n",
       "\" style=\"display:inline;vertical-align:middle;\" /></a><br>(see <a class=\"ProveItLink\" href=\"../__pv_it/4f8fcc2325cefd4cdea8cda59d71bec4820d16de0/dependencies.ipynb\">dependencies</a>)<br>"
      ],
      "text/plain": [
       "add_3_0: (3 + 0) = 3"
      ]
     },
     "execution_count": 2,
     "metadata": {},
     "output_type": "execute_result"
    }
   ],
   "source": [
    "%proving add_3_0 presuming []"
   ]
  },
  {
   "cell_type": "code",
   "execution_count": null,
   "metadata": {},
   "outputs": [],
   "source": []
  }
 ],
 "metadata": {
  "kernelspec": {
   "display_name": "Python 3",
   "language": "python",
   "name": "python3"
  }
 },
 "nbformat": 4,
 "nbformat_minor": 0
}
