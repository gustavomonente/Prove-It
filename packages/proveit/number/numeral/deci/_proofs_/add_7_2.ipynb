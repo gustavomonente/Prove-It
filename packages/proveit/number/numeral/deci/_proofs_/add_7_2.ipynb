{
 "cells": [
  {
   "cell_type": "markdown",
   "metadata": {},
   "source": [
    "Proof of <a class=\"ProveItLink\" href=\"../../../../_context_.ipynb\">proveit</a>.<a class=\"ProveItLink\" href=\"../../../_context_.ipynb\">number</a>.<a class=\"ProveItLink\" href=\"../../_context_.ipynb\">numeral</a>.<a class=\"ProveItLink\" href=\"../_context_.ipynb\">decimal</a>.<a class=\"ProveItLink\" href=\"../_theorems_.ipynb#add_7_2\">add_7_2</a> theorem\n",
    "========"
   ]
  },
  {
   "cell_type": "code",
   "execution_count": 1,
   "metadata": {},
   "outputs": [],
   "source": [
    "import proveit\n",
    "context = proveit.Context('..') # the theorem's context is in the parent directory"
   ]
  },
  {
   "cell_type": "code",
   "execution_count": 2,
   "metadata": {},
   "outputs": [
    {
     "name": "stdout",
     "output_type": "stream",
     "text": [
      "Beginning proof of add_7_2\n",
      "Recorded 'presuming' information\n",
      "Presuming previous theorems (applied transitively).\n"
     ]
    },
    {
     "data": {
      "text/html": [
       "<strong id=\"add_7_2\">add_7_2:</strong> <a class=\"ProveItLink\" href=\"../__pv_it/9fe84e2ae1c135c62e66593a1e6e5b9d56d22d8b0/expr.ipynb\"><img src=\"data:image/png;base64,iVBORw0KGgoAAAANSUhEUgAAAGEAAAAUBAMAAABvx07iAAAAMFBMVEX///9UVFTMzMx2dna6uroQ\n",
       "EBCqqqqIiIgiIiJmZmYyMjJERETu7u6YmJjc3NwAAAC+aOQFAAAAAXRSTlMAQObYZgAAAW1JREFU\n",
       "KM91k71Lw0AYxh9zpd8JLoJOzZ9Q6VDikm76B6iIOLgVB0Xc7GIddHEwUJeCg64ZrHtR4lAQFczi\n",
       "Kjd2tNTBDzBeLkVyr8kLIe89dz/ee+7uBQwfybGTouMR2mGnVlO0crdvYorTpeXOfKhdQQ+CYKRM\n",
       "3YG9o3xBiYFvbAC6g4IApyOtGf3OgRWgTokZYA7IczCAmQqxBlQ4BpT4AmxgKPNFKETPQ8VEsUFs\n",
       "fAMHHPtycK0SIk49MIfUWBc1GrgJU+ZTIjMWFqV15soIabGlno/jUH0GJfLiKLJtUqO0m7U3sRym\n",
       "LSksuO6R617KvCs+7Y1a396zzYg4oTVyTiIhjtCLdjWixBYMjkw75mNyYWIHoXPtkxBaFTk+cR6L\n",
       "F0/7ASyRZceEGNasWaBQJUTLexCHuiQyY5UQvSD4AIomIZh1BvlKYtGMD+6TH7uuXOxTfFBP6Y/b\n",
       "tMb5/9r/OiolSjxlIrVrX5PlX47KXvbcbt3oAAAAAElFTkSuQmCC\n",
       "\" style=\"display:inline;vertical-align:middle;\" /></a><br>(see <a class=\"ProveItLink\" href=\"../__pv_it/9fe84e2ae1c135c62e66593a1e6e5b9d56d22d8b0/dependencies.ipynb\">dependencies</a>)<br>"
      ],
      "text/plain": [
       "add_7_2: (7 + 2) = 9"
      ]
     },
     "execution_count": 2,
     "metadata": {},
     "output_type": "execute_result"
    }
   ],
   "source": [
    "%proving add_7_2 presuming []"
   ]
  },
  {
   "cell_type": "code",
   "execution_count": null,
   "metadata": {},
   "outputs": [],
   "source": []
  }
 ],
 "metadata": {
  "kernelspec": {
   "display_name": "Python 3",
   "language": "python",
   "name": "python3"
  }
 },
 "nbformat": 4,
 "nbformat_minor": 0
}
