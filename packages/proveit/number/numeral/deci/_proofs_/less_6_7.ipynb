{
 "cells": [
  {
   "cell_type": "markdown",
   "metadata": {},
   "source": [
    "Proof of <a class=\"ProveItLink\" href=\"../../../../_context_.ipynb\">proveit</a>.<a class=\"ProveItLink\" href=\"../../../_context_.ipynb\">number</a>.<a class=\"ProveItLink\" href=\"../../_context_.ipynb\">numeral</a>.<a class=\"ProveItLink\" href=\"../_context_.ipynb\">decimal</a>.<a class=\"ProveItLink\" href=\"../_theorems_.ipynb#less_6_7\">less_6_7</a> theorem\n",
    "========"
   ]
  },
  {
   "cell_type": "code",
   "execution_count": 1,
   "metadata": {},
   "outputs": [],
   "source": [
    "import proveit\n",
    "context = proveit.Context('..') # the theorem's context is in the parent directory"
   ]
  },
  {
   "cell_type": "code",
   "execution_count": 2,
   "metadata": {},
   "outputs": [
    {
     "name": "stdout",
     "output_type": "stream",
     "text": [
      "Beginning proof of less_6_7\n",
      "Recorded 'presuming' information\n",
      "Presuming previous theorems (applied transitively).\n"
     ]
    },
    {
     "data": {
      "text/html": [
       "<strong id=\"less_6_7\">less_6_7:</strong> <a class=\"ProveItLink\" href=\"../__pv_it/215c7c315b58c9160d9fd36dc321ec1bc7fbb1470/expr.ipynb\"><img src=\"data:image/png;base64,iVBORw0KGgoAAAANSUhEUgAAADIAAAAOBAMAAACfqVJUAAAAMFBMVEX///9UVFSqqqoiIiKYmJgQ\n",
       "EBDc3NxERERmZma6uroyMjLu7u7MzMyIiIh2dnYAAACR0mqaAAAAAXRSTlMAQObYZgAAAL9JREFU\n",
       "GNNjYGB4e+8AAyo4LPHu3QMGhl0TOBagyfj///9fgIGhgoG9AC7GtAZEtjEwMDIwcH5DUsxikQCi\n",
       "gCa9YWBgD0BI8NptgLI4LzAw8K952wnl7rOFq2EH4v1LGJgVwLwdJgjdT0AyHxg4okEcxkUICe4P\n",
       "QILfgIHlJ4i3EUmGF+QP5gUMLF/A3AyEacwgfzAGQPUgu4Af6E8Gnt8MHAHorj7fACLlGLYqoPmU\n",
       "Qf8BiOTrk2FACx2GVKBaAIxCLeCAkQ3tAAAAAElFTkSuQmCC\n",
       "\" style=\"display:inline;vertical-align:middle;\" /></a><br>(see <a class=\"ProveItLink\" href=\"../__pv_it/215c7c315b58c9160d9fd36dc321ec1bc7fbb1470/dependencies.ipynb\">dependencies</a>)<br>"
      ],
      "text/plain": [
       "less_6_7: 6 < 7"
      ]
     },
     "execution_count": 2,
     "metadata": {},
     "output_type": "execute_result"
    }
   ],
   "source": [
    "%proving less_6_7 presuming []"
   ]
  },
  {
   "cell_type": "code",
   "execution_count": null,
   "metadata": {},
   "outputs": [],
   "source": []
  }
 ],
 "metadata": {
  "kernelspec": {
   "display_name": "Python 3",
   "language": "python",
   "name": "python3"
  }
 },
 "nbformat": 4,
 "nbformat_minor": 0
}
