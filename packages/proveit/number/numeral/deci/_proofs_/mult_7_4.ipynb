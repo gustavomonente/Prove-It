{
 "cells": [
  {
   "cell_type": "markdown",
   "metadata": {},
   "source": [
    "Proof of <a class=\"ProveItLink\" href=\"../../../../_context_.ipynb\">proveit</a>.<a class=\"ProveItLink\" href=\"../../../_context_.ipynb\">number</a>.<a class=\"ProveItLink\" href=\"../../_context_.ipynb\">numeral</a>.<a class=\"ProveItLink\" href=\"../_context_.ipynb\">deci</a>.<a class=\"ProveItLink\" href=\"../_theorems_.ipynb#mult_7_4\">mult_7_4</a> theorem\n",
    "========"
   ]
  },
  {
   "cell_type": "code",
   "execution_count": 1,
   "metadata": {},
   "outputs": [],
   "source": [
    "import proveit\n",
    "context = proveit.Context('..') # the theorem's context is in the parent directory"
   ]
  },
  {
   "cell_type": "code",
   "execution_count": 2,
   "metadata": {},
   "outputs": [
    {
     "name": "stdout",
     "output_type": "stream",
     "text": [
      "Beginning proof of mult_7_4\n",
      "Recorded 'presuming' information\n",
      "Presuming previous theorems (applied transitively).\n"
     ]
    },
    {
     "data": {
      "text/html": [
       "<strong id=\"mult_7_4\">mult_7_4:</strong> <a class=\"ProveItLink\" href=\"../__pv_it/806e2e033912abbcd209af505a3805c6447bdd950/expr.ipynb\"><img src=\"data:image/png;base64,iVBORw0KGgoAAAANSUhEUgAAAGEAAAAUBAMAAABvx07iAAAAMFBMVEX///9UVFTMzMx2dna6uroQ\n",
       "EBCqqqqIiIgiIiJmZmYyMjJERETu7u6YmJjc3NwAAAC+aOQFAAAAAXRSTlMAQObYZgAAAYxJREFU\n",
       "KM99k79Lw0AUx79Nan8mpZPYqfkPLHQoVUQ3xcWlioJIcXNQuojoVBcXhwZ0KQjqqIO6+ysOQtGh\n",
       "FQfBodzYwcFSBXWJdxfstZeYN929732+yXv3Dkg04Io1+MUjlO29bFYkFBMBIp/SqpcGtI38BF2f\n",
       "Qbdtuy3ESBLakUzcQf1AFBgEdBNR6pgU4jpd52TiAJjFKvBAHQlUQDW6WuKVEvcyMQ+kyShQA1o8\n",
       "MSk0NUaJ2IREnFtIGzNXGAM2eeJCaE1GqKa7RRUrYD8XgWvuKzqslRih89JHTlmcOEKwA4z/WMAO\n",
       "29WdwxwGI0Jl1ydoC0P7lQJQYLstnqsz42VOKO8uogo8IfxpOcTunwu0zD9EmFa2CAwXnb8S9xdK\n",
       "VQ8XSgiWRR3HXFhB4o3aBBq8cuW7122gW3lPKBmEyRIQJ8gz404fQVsdzUhEK5sfwrSFF2CKXfNc\n",
       "j6bethuIGfIN2vYXlBSbxAjxGuiaz7Drplc25/c+bjxy7mnvf1HuiBM/wuvVNn3O/wLXml/yU3/P\n",
       "hAAAAABJRU5ErkJggg==\n",
       "\" style=\"display:inline;vertical-align:middle;\" /></a><br>(see <a class=\"ProveItLink\" href=\"../__pv_it/806e2e033912abbcd209af505a3805c6447bdd950/dependencies.ipynb\">dependencies</a>)<br>"
      ],
      "text/plain": [
       "mult_7_4: (7 * 4) = 28"
      ]
     },
     "execution_count": 2,
     "metadata": {},
     "output_type": "execute_result"
    }
   ],
   "source": [
    "%proving mult_7_4 presuming []"
   ]
  },
  {
   "cell_type": "code",
   "execution_count": null,
   "metadata": {},
   "outputs": [],
   "source": []
  }
 ],
 "metadata": {
  "kernelspec": {
   "display_name": "Python 3",
   "language": "python",
   "name": "python3"
  }
 },
 "nbformat": 4,
 "nbformat_minor": 0
}
