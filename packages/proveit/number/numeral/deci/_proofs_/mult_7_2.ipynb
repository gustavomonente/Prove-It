{
 "cells": [
  {
   "cell_type": "markdown",
   "metadata": {},
   "source": [
    "Proof of <a class=\"ProveItLink\" href=\"../../../../_context_.ipynb\">proveit</a>.<a class=\"ProveItLink\" href=\"../../../_context_.ipynb\">number</a>.<a class=\"ProveItLink\" href=\"../../_context_.ipynb\">numeral</a>.<a class=\"ProveItLink\" href=\"../_context_.ipynb\">deci</a>.<a class=\"ProveItLink\" href=\"../_theorems_.ipynb#mult_7_2\">mult_7_2</a> theorem\n",
    "========"
   ]
  },
  {
   "cell_type": "code",
   "execution_count": 1,
   "metadata": {},
   "outputs": [],
   "source": [
    "import proveit\n",
    "context = proveit.Context('..') # the theorem's context is in the parent directory"
   ]
  },
  {
   "cell_type": "code",
   "execution_count": 2,
   "metadata": {},
   "outputs": [
    {
     "name": "stdout",
     "output_type": "stream",
     "text": [
      "Beginning proof of mult_7_2\n",
      "Recorded 'presuming' information\n",
      "Presuming previous theorems (applied transitively).\n"
     ]
    },
    {
     "data": {
      "text/html": [
       "<strong id=\"mult_7_2\">mult_7_2:</strong> <a class=\"ProveItLink\" href=\"../__pv_it/dd63e22c4979c6adf8ff852f0d241328ccb8f9b00/expr.ipynb\"><img src=\"data:image/png;base64,iVBORw0KGgoAAAANSUhEUgAAAGEAAAAUBAMAAABvx07iAAAAMFBMVEX///9UVFTMzMx2dna6uroQ\n",
       "EBCqqqqIiIgiIiJmZmYyMjJERETu7u6YmJjc3NwAAAC+aOQFAAAAAXRSTlMAQObYZgAAAWhJREFU\n",
       "KM99k69Pw0AUx7/sxrqWdpkhAbX+CSUVy1A4+AOAQILCYcgMAtQwGARNUE0ggATB8ATYBAkJYtOI\n",
       "5eQkzRBASMq9lv5gvfWJa977vs9d37t3QKWPjO0iz15RODy17cjV3XsTU3xCcsERyy0M3/e9KNYF\n",
       "+4B+mcktbdFargKGA1XsWI2UM2ANqI8D3YUf+uyJvDIHA5gZSRtAjeM5c4ZBROVNEMPAX46Vdgc1\n",
       "E9qSlGCaIPYD/y4tnnTAHCkxIOKBXJbucHEk9KD0xRuy65jQm0QckdsLGxsS1I9SS3YGAxGr5B4E\n",
       "wV7YU5f6/i4jthPiON4cUJxJhG4h/isvJe2gwlFsJXVcRURp3r3YbAaVF75Sc2BB4X+VZ3qFaXFG\n",
       "gyZglChDuzEHqNY4oYSEuIYVusr1RGn7/iegmWOAOvt9Lpr15PVpSiT2kjPshiOL1vPex6MkJpn2\n",
       "fy8qazM8j5C92kFO/i9MhVsCY9+iRwAAAABJRU5ErkJggg==\n",
       "\" style=\"display:inline;vertical-align:middle;\" /></a><br>(see <a class=\"ProveItLink\" href=\"../__pv_it/dd63e22c4979c6adf8ff852f0d241328ccb8f9b00/dependencies.ipynb\">dependencies</a>)<br>"
      ],
      "text/plain": [
       "mult_7_2: (7 * 2) = 14"
      ]
     },
     "execution_count": 2,
     "metadata": {},
     "output_type": "execute_result"
    }
   ],
   "source": [
    "%proving mult_7_2 presuming []"
   ]
  },
  {
   "cell_type": "code",
   "execution_count": null,
   "metadata": {},
   "outputs": [],
   "source": []
  }
 ],
 "metadata": {
  "kernelspec": {
   "display_name": "Python 3",
   "language": "python",
   "name": "python3"
  }
 },
 "nbformat": 4,
 "nbformat_minor": 0
}
