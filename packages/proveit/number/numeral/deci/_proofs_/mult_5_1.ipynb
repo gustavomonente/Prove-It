{
 "cells": [
  {
   "cell_type": "markdown",
   "metadata": {},
   "source": [
    "Proof of <a class=\"ProveItLink\" href=\"../../../../_context_.ipynb\">proveit</a>.<a class=\"ProveItLink\" href=\"../../../_context_.ipynb\">number</a>.<a class=\"ProveItLink\" href=\"../../_context_.ipynb\">numeral</a>.<a class=\"ProveItLink\" href=\"../_context_.ipynb\">deci</a>.<a class=\"ProveItLink\" href=\"../_theorems_.ipynb#mult_5_1\">mult_5_1</a> theorem\n",
    "========"
   ]
  },
  {
   "cell_type": "code",
   "execution_count": 1,
   "metadata": {},
   "outputs": [],
   "source": [
    "import proveit\n",
    "context = proveit.Context('..') # the theorem's context is in the parent directory"
   ]
  },
  {
   "cell_type": "code",
   "execution_count": 2,
   "metadata": {},
   "outputs": [
    {
     "name": "stdout",
     "output_type": "stream",
     "text": [
      "Beginning proof of mult_5_1\n",
      "Recorded 'presuming' information\n",
      "Presuming previous theorems (applied transitively).\n"
     ]
    },
    {
     "data": {
      "text/html": [
       "<strong id=\"mult_5_1\">mult_5_1:</strong> <a class=\"ProveItLink\" href=\"../__pv_it/3b65d0877e28e485a2fdee692d12af9bf2fb48be0/expr.ipynb\"><img src=\"data:image/png;base64,iVBORw0KGgoAAAANSUhEUgAAAFcAAAAUBAMAAAAKKrydAAAAMFBMVEX///9UVFTMzMx2dna6uroQ\n",
       "EBCqqqqIiIgiIiJmZmYyMjJERETu7u6YmJjc3NwAAAC+aOQFAAAAAXRSTlMAQObYZgAAATxJREFU\n",
       "KM9jYOC7wIAB8hhwgNMMDGsPaCagiDE+QFfFdYdpGpBax8AQ//8zQpgthoGBZwG6Ytb//w0YGHgn\n",
       "MDAsFkeYdNDwD5A0xzDZsA5IcgDVCSAL84IUH0VXzAgmXzBgU8zlgFVxJRDLXp+Epph5Arriu5UK\n",
       "DAx7gaw9DO8dUBXzgn1otQoEVoKY3Af4vjAwtIFVcDcACR6EYrYGzDDewcAQAmZw/gMS5xfAFTN9\n",
       "wFQ8/wFIMeMCBuYvoIARwK1YioHB3gHkDNYFDJx/UN3M0oBw80IQMwpo8gGQBzmBhi7A5kEkAAyd\n",
       "LgYGSwYGvgkMVxFRyA5SzGmApvglA28cA4MHiGU4By7KKfprLjBSFNAU802WPACJbkxwAnsK5Z2A\n",
       "TdQcR3reh0UMM4kiEj8G4H6AQzG2bHUPu1IAbdtUO+T5JuYAAAAASUVORK5CYII=\n",
       "\" style=\"display:inline;vertical-align:middle;\" /></a><br>(see <a class=\"ProveItLink\" href=\"../__pv_it/3b65d0877e28e485a2fdee692d12af9bf2fb48be0/dependencies.ipynb\">dependencies</a>)<br>"
      ],
      "text/plain": [
       "mult_5_1: (5 * 1) = 5"
      ]
     },
     "execution_count": 2,
     "metadata": {},
     "output_type": "execute_result"
    }
   ],
   "source": [
    "%proving mult_5_1 presuming []"
   ]
  },
  {
   "cell_type": "code",
   "execution_count": null,
   "metadata": {},
   "outputs": [],
   "source": []
  }
 ],
 "metadata": {
  "kernelspec": {
   "display_name": "Python 3",
   "language": "python",
   "name": "python3"
  }
 },
 "nbformat": 4,
 "nbformat_minor": 0
}
