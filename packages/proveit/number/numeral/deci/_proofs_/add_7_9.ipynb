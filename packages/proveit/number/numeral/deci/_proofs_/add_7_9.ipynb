{
 "cells": [
  {
   "cell_type": "markdown",
   "metadata": {},
   "source": [
    "Proof of <a class=\"ProveItLink\" href=\"../../../../_context_.ipynb\">proveit</a>.<a class=\"ProveItLink\" href=\"../../../_context_.ipynb\">number</a>.<a class=\"ProveItLink\" href=\"../../_context_.ipynb\">numeral</a>.<a class=\"ProveItLink\" href=\"../_context_.ipynb\">decimal</a>.<a class=\"ProveItLink\" href=\"../_theorems_.ipynb#add_7_9\">add_7_9</a> theorem\n",
    "========"
   ]
  },
  {
   "cell_type": "code",
   "execution_count": 1,
   "metadata": {},
   "outputs": [],
   "source": [
    "import proveit\n",
    "context = proveit.Context('..') # the theorem's context is in the parent directory"
   ]
  },
  {
   "cell_type": "code",
   "execution_count": 2,
   "metadata": {},
   "outputs": [
    {
     "name": "stdout",
     "output_type": "stream",
     "text": [
      "Beginning proof of add_7_9\n",
      "Recorded 'presuming' information\n",
      "Presuming previous theorems (applied transitively).\n"
     ]
    },
    {
     "data": {
      "text/html": [
       "<strong id=\"add_7_9\">add_7_9:</strong> <a class=\"ProveItLink\" href=\"../__pv_it/e55c39fb5edb0f4045f3b1e78ac6722d0f59ebe90/expr.ipynb\"><img src=\"data:image/png;base64,iVBORw0KGgoAAAANSUhEUgAAAGwAAAAUBAMAAACaOcVSAAAAMFBMVEX///9UVFTMzMx2dna6uroQ\n",
       "EBCqqqqIiIgiIiJmZmYyMjJERETu7u6YmJjc3NwAAAC+aOQFAAAAAXRSTlMAQObYZgAAAYlJREFU\n",
       "OMuVlLFPwkAUxj+oAoUWiOxI4h/A0IHoxKYjg3HCSGIMjiZOuoiDLi41uLghcbERw2YcNCwOogls\n",
       "Ji6ymDiCEhMTEF+vkvSuLYlv6N27y+/e1/feHRBtw90CHUywR/j3y5rGLz5oSSDpQWS2U8AV1NFo\n",
       "1OM2lFW8NdB0EhsNoJmVK1B1yKQmbi0XrcGXg0+HtCVASmKWsBtE6gh1IAFSisNiFUhdKDlHtNcG\n",
       "pn7MyTtzF8FhrTqCtHvuhkXYYTvMrfPYNEXrA/NuWKyaOQFuTU9q8xgpDA+BFzY3mOljrFVDqIBD\n",
       "Jgo8hmusfwGbbtFaXch5LJveLltbMIwDwzhjpX6e+wDSriJLUPsWdiRGoxoMPLAQFW1oiew5sTBV\n",
       "csn2b/ExRjWlaGZK/N8CpuaR7vylRIzmH0DOsSQHPgUseKnUaCg7sD3qkgTuC0xIdEUUqZ1m6VsV\n",
       "qeO1izak8gzM5rJZkWvBkve9UXW792R3HK1stzvPnebka/r/A818eD0K6oRH4Rf0Z3NPm1iJaQAA\n",
       "AABJRU5ErkJggg==\n",
       "\" style=\"display:inline;vertical-align:middle;\" /></a><br>(see <a class=\"ProveItLink\" href=\"../__pv_it/e55c39fb5edb0f4045f3b1e78ac6722d0f59ebe90/dependencies.ipynb\">dependencies</a>)<br>"
      ],
      "text/plain": [
       "add_7_9: (7 + 9) = 16"
      ]
     },
     "execution_count": 2,
     "metadata": {},
     "output_type": "execute_result"
    }
   ],
   "source": [
    "%proving add_7_9 presuming []"
   ]
  },
  {
   "cell_type": "code",
   "execution_count": null,
   "metadata": {},
   "outputs": [],
   "source": []
  }
 ],
 "metadata": {
  "kernelspec": {
   "display_name": "Python 3",
   "language": "python",
   "name": "python3"
  }
 },
 "nbformat": 4,
 "nbformat_minor": 0
}
