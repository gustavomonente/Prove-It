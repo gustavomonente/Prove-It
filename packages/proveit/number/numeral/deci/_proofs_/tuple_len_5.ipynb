{
 "cells": [
  {
   "cell_type": "markdown",
   "metadata": {},
   "source": [
    "Proof of <a class=\"ProveItLink\" href=\"../../../../_context_.ipynb\">proveit</a>.<a class=\"ProveItLink\" href=\"../../../_context_.ipynb\">number</a>.<a class=\"ProveItLink\" href=\"../../_context_.ipynb\">numeral</a>.<a class=\"ProveItLink\" href=\"../_context_.ipynb\">deci</a>.<a class=\"ProveItLink\" href=\"../_theorems_.ipynb#tuple_len_5\">tuple_len_5</a> theorem\n",
    "========"
   ]
  },
  {
   "cell_type": "code",
   "execution_count": 1,
   "metadata": {},
   "outputs": [],
   "source": [
    "import proveit\n",
    "context = proveit.Context('..') # the theorem's context is in the parent directory"
   ]
  },
  {
   "cell_type": "code",
   "execution_count": 2,
   "metadata": {},
   "outputs": [
    {
     "name": "stdout",
     "output_type": "stream",
     "text": [
      "Beginning proof of tuple_len_5\n",
      "Recorded 'presuming' information\n",
      "Presuming previous theorems (applied transitively).\n"
     ]
    },
    {
     "data": {
      "text/html": [
       "<strong id=\"tuple_len_5\">tuple_len_5:</strong> <a class=\"ProveItLink\" href=\"../__pv_it/d930b48602a6be230d84f67f7423339f02f1522d0/expr.ipynb\"><img src=\"data:image/png;base64,iVBORw0KGgoAAAANSUhEUgAAAP8AAAAWBAMAAAD9bVezAAAAMFBMVEX///8QEBCIiIhmZma6urrM\n",
       "zMxUVFQiIiJERETc3Nzu7u6qqqp2dnaYmJgyMjIAAAAcRTyBAAAAAXRSTlMAQObYZgAAA21JREFU\n",
       "SMe1Vk1oE0EUfkmav80mKejBCkpIbcGDEgIepK2NePAk3V5EBWmsetOSgz+0FolebA/iQsH2oLC1\n",
       "oFKELHqqBw2tKPgb6kEtFAJiwRZKkSLaltY3P7uZpbMlFR3I7Jv3vex88943MwuwqeY34C/bCfgH\n",
       "7S6oGfIMlzbzrzHav3CDysSYrupNSp4TeCg6r+Ukoce2VOyALiMQm/I3UegNGc1WRSCmcwLfHd6U\n",
       "LHZZoFiWEfCsrRUpNERSmq+KwEdgBKKOKeOmJLRmSRiMSzPwcjeDYigr1ayKQDcnENRFb5tMl6pY\n",
       "l2EZgYAFRV+Pjg5WNX84xwk4w19JqyUmKZZxJUCgX319vVUR8KY4gXrCpjm9nblnkk1WqpMaMwbG\n",
       "O3hOHyX3459SMgLT9RqDzgL026WbdwS1auIoVOIEbuLvoB5bYBJbNQqsJINmqMzeUge3WF1quuEO\n",
       "JrlsEXg/T9pX+jYjvMigQ1ymtE04CBQco6DJCVzBaXeAjyk3sgTxBLV6IcDWPVyCA7z6prIPQ3Ly\n",
       "c+AGg4LgrZwrc46IZ86Nk+EEtgL4liDIpvWVoVCkhi38VgN4UU9N7sFU+BfkBFp1CqmlYMX32xEx\n",
       "4UrAk4eCZsmtjS7cY+/lbaAsMusnO79lBLoAPmQoFC4fxfFI4zcS+qORFE9NktWNJOeYjhLrS4CL\n",
       "fs6PgRJZMQDPA1HFCkSYPmCFKSHn1MAMMXfSTFGo/wz+6aKfZNDbQ6QOF/y1tkuZVbLrRVgwoStC\n",
       "tRfPoB44E6CpUJYhUB7jsgCvKEKh4TxXOfQEWfhSfsIllCAelJdGXbVku5y3LgrV2oYTNPCSCgUM\n",
       "DpRCKWr4sjCiEQOuw6dsUVlFay8ouA19RQmBAYjWcYiI2GN6s7TM+Boc0JpaLnuPWgfRYVxlZ8Pt\n",
       "XRDsQSv9DqgBb6cTzLifPN6ZgctYGG8LYR/TJATCzacNDkXRKOihKXzEDTJ5nObWculguB7FT90N\n",
       "iNhH9APX65hBdLl6xxEYMoLGZ+zxfEwNGeg6iYOQaWlAchkV3Q1QN76MBIimt/NxC7Sb/nNF7MPp\n",
       "SaPd5C4lnbSPQus6tk5OJeFqANzb+DoWoEoz1/VgbvRBEgVXA6Ak8HYjEHLcq8D2ldhbD/uTzKtt\n",
       "/pPsC+0b3CFw0hd7cUX/qf0B3SsH2x7Rw/AAAAAASUVORK5CYII=\n",
       "\" style=\"display:inline;vertical-align:middle;\" /></a><br>(see <a class=\"ProveItLink\" href=\"../__pv_it/d930b48602a6be230d84f67f7423339f02f1522d0/dependencies.ipynb\">dependencies</a>)<br>"
      ],
      "text/plain": [
       "tuple_len_5: forall_{a, b, c, d, e} (|(a, b, c, d, e)| = 5)"
      ]
     },
     "execution_count": 2,
     "metadata": {},
     "output_type": "execute_result"
    }
   ],
   "source": [
    "%proving tuple_len_5 presuming []"
   ]
  },
  {
   "cell_type": "code",
   "execution_count": null,
   "metadata": {},
   "outputs": [],
   "source": []
  }
 ],
 "metadata": {
  "kernelspec": {
   "display_name": "Python 3",
   "language": "python",
   "name": "python3"
  }
 },
 "nbformat": 4,
 "nbformat_minor": 0
}
