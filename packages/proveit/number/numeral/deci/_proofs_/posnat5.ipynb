{
 "cells": [
  {
   "cell_type": "markdown",
   "metadata": {},
   "source": [
    "Proof of <a class=\"ProveItLink\" href=\"../../../../_context_.ipynb\">proveit</a>.<a class=\"ProveItLink\" href=\"../../../_context_.ipynb\">number</a>.<a class=\"ProveItLink\" href=\"../../_context_.ipynb\">numeral</a>.<a class=\"ProveItLink\" href=\"../_context_.ipynb\">decimal</a>.<a class=\"ProveItLink\" href=\"../_theorems_.ipynb#posnat5\">posnat5</a> theorem\n",
    "========"
   ]
  },
  {
   "cell_type": "code",
   "execution_count": 1,
   "metadata": {},
   "outputs": [],
   "source": [
    "import proveit\n",
    "context = proveit.Context('..') # the theorem's context is in the parent directory"
   ]
  },
  {
   "cell_type": "code",
   "execution_count": 2,
   "metadata": {},
   "outputs": [
    {
     "name": "stdout",
     "output_type": "stream",
     "text": [
      "Beginning proof of posnat5\n",
      "Recorded 'presuming' information\n",
      "Presuming previous theorems (applied transitively).\n"
     ]
    },
    {
     "data": {
      "text/html": [
       "<strong id=\"posnat5\">posnat5:</strong> <a class=\"ProveItLink\" href=\"../__pv_it/9467bc0b5693b66a62f8e871f71d026f02d3db600/expr.ipynb\"><img src=\"data:image/png;base64,iVBORw0KGgoAAAANSUhEUgAAAD4AAAAUBAMAAAAn2JMnAAAAMFBMVEX///8iIiK6urpERETc3NyI\n",
       "iIhUVFR2dnYQEBCqqqpmZmbMzMzu7u6YmJgyMjIAAABZcJOfAAAAAXRSTlMAQObYZgAAAO9JREFU\n",
       "KM9jYKAAJBCQN6CCPN8d7pUogjzvjd8wsPc3QeU5/v8vQNXFfGEbA8N5BrZ37/revWXgKwtBM5VN\n",
       "mjWAgQNmPhtcnNdQUA4sr3wgm4ERQ57b9ABUv3fCuQMI+btRG8DC5w7AzHeYyp0Al2c+wPIJLJwC\n",
       "t9+BXeEqI5L/DVEDg82BIYdtI4jlABFYD6K5+94BAVT+GMMLmOo8BoZ6BSDNgqyfu2AHjNcH1A92\n",
       "WQOSPMNNZhhvAQMD2NcMS+HyQP+wO8N4Xgy8LWAG4wSoCB+IsQ4mz7I8C+JxnmQdSDjJN4NCAzM2\n",
       "mYoh4YsCAGaLN8GH6CMRAAAAAElFTkSuQmCC\n",
       "\" style=\"display:inline;vertical-align:middle;\" /></a><br>(see <a class=\"ProveItLink\" href=\"../__pv_it/9467bc0b5693b66a62f8e871f71d026f02d3db600/dependencies.ipynb\">dependencies</a>)<br>"
      ],
      "text/plain": [
       "posnat5: 5 in NaturalsPos"
      ]
     },
     "execution_count": 2,
     "metadata": {},
     "output_type": "execute_result"
    }
   ],
   "source": [
    "%proving posnat5 presuming []"
   ]
  },
  {
   "cell_type": "code",
   "execution_count": null,
   "metadata": {},
   "outputs": [],
   "source": []
  }
 ],
 "metadata": {
  "kernelspec": {
   "display_name": "Python 3",
   "language": "python",
   "name": "python3"
  }
 },
 "nbformat": 4,
 "nbformat_minor": 0
}
