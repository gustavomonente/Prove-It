{
 "cells": [
  {
   "cell_type": "markdown",
   "metadata": {},
   "source": [
    "Proof of <a class=\"ProveItLink\" href=\"../../../../_context_.ipynb\">proveit</a>.<a class=\"ProveItLink\" href=\"../../../_context_.ipynb\">number</a>.<a class=\"ProveItLink\" href=\"../../_context_.ipynb\">numeral</a>.<a class=\"ProveItLink\" href=\"../_context_.ipynb\">deci</a>.<a class=\"ProveItLink\" href=\"../_theorems_.ipynb#mult_4_0\">mult_4_0</a> theorem\n",
    "========"
   ]
  },
  {
   "cell_type": "code",
   "execution_count": 1,
   "metadata": {},
   "outputs": [],
   "source": [
    "import proveit\n",
    "context = proveit.Context('..') # the theorem's context is in the parent directory"
   ]
  },
  {
   "cell_type": "code",
   "execution_count": 2,
   "metadata": {},
   "outputs": [
    {
     "name": "stdout",
     "output_type": "stream",
     "text": [
      "Beginning proof of mult_4_0\n",
      "Recorded 'presuming' information\n",
      "Presuming previous theorems (applied transitively).\n"
     ]
    },
    {
     "data": {
      "text/html": [
       "<strong id=\"mult_4_0\">mult_4_0:</strong> <a class=\"ProveItLink\" href=\"../__pv_it/d1f3a69541e83bc599237fe570738e2fa09c25a10/expr.ipynb\"><img src=\"data:image/png;base64,iVBORw0KGgoAAAANSUhEUgAAAFcAAAAUBAMAAAAKKrydAAAAMFBMVEX///9UVFTMzMx2dna6uroQ\n",
       "EBCqqqqIiIgiIiJmZmYyMjJERETu7u6YmJjc3NwAAAC+aOQFAAAAAXRSTlMAQObYZgAAATVJREFU\n",
       "KM91kzFLw0AUx/9aqWm8K36BQlanZgvWxdFNFDeX9AvYOrrVxVGySbd01EFwlkpBRMFBQbpqRhdB\n",
       "EQcnvZcX7+zl8obwvx8/7t5xL0DzEaXaQ0Xd02fFrKOnAHNZSSMMnFM81NCPxTFEars5hkxUXNzS\n",
       "dAp01D62zNijE99Gml4AvQlubJnxK8XQyB/AZgx/3ZIZH6gkMy2Lb0X7qCWzboHHKt5Cy81PoN2H\n",
       "zG/YOaM6NfiIumBZEFVbtEPUB7M7F3gHqAcsP6T6vPl3ZxtKvgbL3jLfpBeX5AKrNrrD4dfJH70E\n",
       "XiZYGJieRwaPc8V+FJk6H2U1z7uaerHYBhqhJTPeoLj209JXifbVxPiBJTP2Mtco3rknVCYuGlXM\n",
       "85WDlUf0//BbtZRVyK7f6tmt/gIZallSH5sqKgAAAABJRU5ErkJggg==\n",
       "\" style=\"display:inline;vertical-align:middle;\" /></a><br>(see <a class=\"ProveItLink\" href=\"../__pv_it/d1f3a69541e83bc599237fe570738e2fa09c25a10/dependencies.ipynb\">dependencies</a>)<br>"
      ],
      "text/plain": [
       "mult_4_0: (4 * 0) = 0"
      ]
     },
     "execution_count": 2,
     "metadata": {},
     "output_type": "execute_result"
    }
   ],
   "source": [
    "%proving mult_4_0 presuming []"
   ]
  },
  {
   "cell_type": "code",
   "execution_count": null,
   "metadata": {},
   "outputs": [],
   "source": []
  }
 ],
 "metadata": {
  "kernelspec": {
   "display_name": "Python 3",
   "language": "python",
   "name": "python3"
  }
 },
 "nbformat": 4,
 "nbformat_minor": 0
}
