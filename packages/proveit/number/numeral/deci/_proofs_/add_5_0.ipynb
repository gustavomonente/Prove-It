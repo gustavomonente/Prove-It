{
 "cells": [
  {
   "cell_type": "markdown",
   "metadata": {},
   "source": [
    "Proof of <a class=\"ProveItLink\" href=\"../../../../_context_.ipynb\">proveit</a>.<a class=\"ProveItLink\" href=\"../../../_context_.ipynb\">number</a>.<a class=\"ProveItLink\" href=\"../../_context_.ipynb\">numeral</a>.<a class=\"ProveItLink\" href=\"../_context_.ipynb\">decimal</a>.<a class=\"ProveItLink\" href=\"../_theorems_.ipynb#add_5_0\">add_5_0</a> theorem\n",
    "========"
   ]
  },
  {
   "cell_type": "code",
   "execution_count": 1,
   "metadata": {},
   "outputs": [],
   "source": [
    "import proveit\n",
    "context = proveit.Context('..') # the theorem's context is in the parent directory"
   ]
  },
  {
   "cell_type": "code",
   "execution_count": 2,
   "metadata": {},
   "outputs": [
    {
     "name": "stdout",
     "output_type": "stream",
     "text": [
      "Beginning proof of add_5_0\n",
      "Recorded 'presuming' information\n",
      "Presuming previous theorems (applied transitively).\n"
     ]
    },
    {
     "data": {
      "text/html": [
       "<strong id=\"add_5_0\">add_5_0:</strong> <a class=\"ProveItLink\" href=\"../__pv_it/67fb569c9c4b8fe2de4843a4d73d15769e81c5ed0/expr.ipynb\"><img src=\"data:image/png;base64,iVBORw0KGgoAAAANSUhEUgAAAGEAAAAUBAMAAABvx07iAAAAMFBMVEX///9UVFTMzMx2dna6uroQ\n",
       "EBCqqqqIiIgiIiJmZmYyMjJERETu7u6YmJjc3NwAAAC+aOQFAAAAAXRSTlMAQObYZgAAAXFJREFU\n",
       "KM91kz1Iw0AUx/9prbTNB26iIGR1ajoVu5jRTRAnB83mZuvYRbLo4CBFwUkw4hZQcBP84BZB0EGQ\n",
       "4uJHRp1U7CKI8SXR2rtcHuTueLnfvXv3fw8wbiC3pQw/roADNu7wztqtCSUQt5bvc9s0HQIL4Yfw\n",
       "y9E2oHkiUQhDC9DbwP7w33GLydQB6hQoFaO6QmORNg/1fL/EEdBguBAJJR6fISHegWkHZVtKtOgb\n",
       "u9vkCO2TiCbybZF4aJnAGa1O8Wr3EwY9RKUJPU4978cW0SozusBavEd1OYJiVCwMumktjoHZeFH6\n",
       "pqHu+6u+v9e7Ve4tTewGEaF4yHfFzBtOmhgFJu3oVgUPpS+OOAGeGAbcvjyi95yjGCzKvESqeBIF\n",
       "dVF0yn4dmKBE2+gEHFF0tBk6yRKIF+jzwFS0qu7wCmq1ZXr4sikQxtYIS6oEouaJXcqLXeeEveZK\n",
       "PqM/zrMaJ13t/x0lNzXI+JHZtY9y9w+psmJBbMNUsQAAAABJRU5ErkJggg==\n",
       "\" style=\"display:inline;vertical-align:middle;\" /></a><br>(see <a class=\"ProveItLink\" href=\"../__pv_it/67fb569c9c4b8fe2de4843a4d73d15769e81c5ed0/dependencies.ipynb\">dependencies</a>)<br>"
      ],
      "text/plain": [
       "add_5_0: (5 + 0) = 5"
      ]
     },
     "execution_count": 2,
     "metadata": {},
     "output_type": "execute_result"
    }
   ],
   "source": [
    "%proving add_5_0 presuming []"
   ]
  },
  {
   "cell_type": "code",
   "execution_count": null,
   "metadata": {},
   "outputs": [],
   "source": []
  }
 ],
 "metadata": {
  "kernelspec": {
   "display_name": "Python 3",
   "language": "python",
   "name": "python3"
  }
 },
 "nbformat": 4,
 "nbformat_minor": 0
}
