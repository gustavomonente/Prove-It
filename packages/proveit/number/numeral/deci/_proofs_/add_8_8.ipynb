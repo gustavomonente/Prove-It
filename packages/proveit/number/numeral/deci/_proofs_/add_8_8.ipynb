{
 "cells": [
  {
   "cell_type": "markdown",
   "metadata": {},
   "source": [
    "Proof of <a class=\"ProveItLink\" href=\"../../../../_context_.ipynb\">proveit</a>.<a class=\"ProveItLink\" href=\"../../../_context_.ipynb\">number</a>.<a class=\"ProveItLink\" href=\"../../_context_.ipynb\">numeral</a>.<a class=\"ProveItLink\" href=\"../_context_.ipynb\">decimal</a>.<a class=\"ProveItLink\" href=\"../_theorems_.ipynb#add_8_8\">add_8_8</a> theorem\n",
    "========"
   ]
  },
  {
   "cell_type": "code",
   "execution_count": 1,
   "metadata": {},
   "outputs": [],
   "source": [
    "import proveit\n",
    "context = proveit.Context('..') # the theorem's context is in the parent directory"
   ]
  },
  {
   "cell_type": "code",
   "execution_count": 2,
   "metadata": {},
   "outputs": [
    {
     "name": "stdout",
     "output_type": "stream",
     "text": [
      "Beginning proof of add_8_8\n",
      "Recorded 'presuming' information\n",
      "Presuming previous theorems (applied transitively).\n"
     ]
    },
    {
     "data": {
      "text/html": [
       "<strong id=\"add_8_8\">add_8_8:</strong> <a class=\"ProveItLink\" href=\"../__pv_it/bd9c13be6b1b6e8800c02b0f4bac1d17cbcc5dc60/expr.ipynb\"><img src=\"data:image/png;base64,iVBORw0KGgoAAAANSUhEUgAAAGwAAAAUBAMAAACaOcVSAAAAMFBMVEX////MzMxUVFR2dna6uroQ\n",
       "EBCqqqqIiIgiIiJmZmYyMjJERETu7u6YmJjc3NwAAACgK8IjAAAAAXRSTlMAQObYZgAAAW1JREFU\n",
       "OMuVlD9PwkAYh3/QQiC0avwCYpiVTaITI2MHRxJZDLqRMDnRRefG8gHAuNigYXWQdCEm1YTOLDI6\n",
       "OqiLot6fYnrtFeObNOk9l+fet3dvD1jxIY/sDEviAbhvdyOQke0Eo9JeA24AC+mGOMOIFzcOXcCr\n",
       "5nvQLWR9aD2Om0F9jCitiKSVykS7RWGI3AzKEJopaJxoRizbkwv1i748A+qHq/iCFpBLmVZgi52Q\n",
       "pzzfgaAFZFemrfYrZLvuaE3fg4jGyZS9OiyshTa5Rq6BMzI4rr1VRY2TI1m2yQvydewDehGdOmF7\n",
       "jnPqOBf4JRvSIk3or1TLuEi9C9kCItVy5NDmtMgJGW8JWkBqoW8rLrS0QbORLcmQ5huJ2TiZyrKl\n",
       "PpE36CarA+gt8dw4sWNah3RJCeMGK2Td7kYOgJN+1Do/uPKh2JugzRWKptCCZvJ/o1vh0WN4EGvl\n",
       "cIwSZ7w/ftN/L0gi8VLQl1wKP709etZ87AdcAAAAAElFTkSuQmCC\n",
       "\" style=\"display:inline;vertical-align:middle;\" /></a><br>(see <a class=\"ProveItLink\" href=\"../__pv_it/bd9c13be6b1b6e8800c02b0f4bac1d17cbcc5dc60/dependencies.ipynb\">dependencies</a>)<br>"
      ],
      "text/plain": [
       "add_8_8: (8 + 8) = 16"
      ]
     },
     "execution_count": 2,
     "metadata": {},
     "output_type": "execute_result"
    }
   ],
   "source": [
    "%proving add_8_8 presuming []"
   ]
  },
  {
   "cell_type": "code",
   "execution_count": null,
   "metadata": {},
   "outputs": [],
   "source": []
  }
 ],
 "metadata": {
  "kernelspec": {
   "display_name": "Python 3",
   "language": "python",
   "name": "python3"
  }
 },
 "nbformat": 4,
 "nbformat_minor": 0
}
