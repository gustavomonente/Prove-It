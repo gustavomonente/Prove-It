{
 "cells": [
  {
   "cell_type": "markdown",
   "metadata": {},
   "source": [
    "Proof of <a class=\"ProveItLink\" href=\"../../../../_context_.ipynb\">proveit</a>.<a class=\"ProveItLink\" href=\"../../../_context_.ipynb\">number</a>.<a class=\"ProveItLink\" href=\"../../_context_.ipynb\">numeral</a>.<a class=\"ProveItLink\" href=\"../_context_.ipynb\">deci</a>.<a class=\"ProveItLink\" href=\"../_theorems_.ipynb#mult_1_4\">mult_1_4</a> theorem\n",
    "========"
   ]
  },
  {
   "cell_type": "code",
   "execution_count": 1,
   "metadata": {},
   "outputs": [],
   "source": [
    "import proveit\n",
    "context = proveit.Context('..') # the theorem's context is in the parent directory"
   ]
  },
  {
   "cell_type": "code",
   "execution_count": 2,
   "metadata": {},
   "outputs": [
    {
     "name": "stdout",
     "output_type": "stream",
     "text": [
      "Beginning proof of mult_1_4\n",
      "Recorded 'presuming' information\n",
      "Presuming previous theorems (applied transitively).\n"
     ]
    },
    {
     "data": {
      "text/html": [
       "<strong id=\"mult_1_4\">mult_1_4:</strong> <a class=\"ProveItLink\" href=\"../__pv_it/7269115166f52218835f69d7b6a85206a6e636070/expr.ipynb\"><img src=\"data:image/png;base64,iVBORw0KGgoAAAANSUhEUgAAAFcAAAAUBAMAAAAKKrydAAAAMFBMVEX////MzMxUVFR2dna6uroQ\n",
       "EBCqqqqIiIgiIiJmZmYyMjJERETu7u6YmJjc3NwAAACgK8IjAAAAAXRSTlMAQObYZgAAAQpJREFU\n",
       "KM9jYOC7wIAB8hhwgNPoAowTGJgeYKoDCjMwrAPi1ANIohwKDDwLMBUDhRl4JzDwKOsjKy4Fippj\n",
       "KgYJc4BsvI+kmO8WUPQohlqw8AsGNMXMXEBRLgd0xWDhSnTF90CizBPQFYOF96Ip5ikAifKCfWi1\n",
       "CgRWIoTbEIp5wNYxgETZGtBdARYOQSg+DzIuESzK+AFNcSK6YlBI8hhgVQwVbkN1M5vmzPmRBQws\n",
       "DQg3L0IIo3uQgYEV7kEUABK2BDHqURRvYGDgNMBUDBT2ANKT4lcikh7z/k8XGLgEMCIFJMzxAFtS\n",
       "PIE9hfJOwCZqjiM978Mihi2JYk/8QMD9AIdibNnqHnalADTXTP4cFDfTAAAAAElFTkSuQmCC\n",
       "\" style=\"display:inline;vertical-align:middle;\" /></a><br>(see <a class=\"ProveItLink\" href=\"../__pv_it/7269115166f52218835f69d7b6a85206a6e636070/dependencies.ipynb\">dependencies</a>)<br>"
      ],
      "text/plain": [
       "mult_1_4: (1 * 4) = 4"
      ]
     },
     "execution_count": 2,
     "metadata": {},
     "output_type": "execute_result"
    }
   ],
   "source": [
    "%proving mult_1_4 presuming []"
   ]
  },
  {
   "cell_type": "code",
   "execution_count": null,
   "metadata": {},
   "outputs": [],
   "source": []
  }
 ],
 "metadata": {
  "kernelspec": {
   "display_name": "Python 3",
   "language": "python",
   "name": "python3"
  }
 },
 "nbformat": 4,
 "nbformat_minor": 0
}
