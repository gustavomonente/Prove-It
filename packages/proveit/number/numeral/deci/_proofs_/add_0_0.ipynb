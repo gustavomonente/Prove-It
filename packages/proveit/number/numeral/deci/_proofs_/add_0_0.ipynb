{
 "cells": [
  {
   "cell_type": "markdown",
   "metadata": {},
   "source": [
    "Proof of <a class=\"ProveItLink\" href=\"../../../../_context_.ipynb\">proveit</a>.<a class=\"ProveItLink\" href=\"../../../_context_.ipynb\">number</a>.<a class=\"ProveItLink\" href=\"../../_context_.ipynb\">numeral</a>.<a class=\"ProveItLink\" href=\"../_context_.ipynb\">decimal</a>.<a class=\"ProveItLink\" href=\"../_theorems_.ipynb#add_0_0\">add_0_0</a> theorem\n",
    "========"
   ]
  },
  {
   "cell_type": "code",
   "execution_count": 1,
   "metadata": {},
   "outputs": [],
   "source": [
    "import proveit\n",
    "context = proveit.Context('..') # the theorem's context is in the parent directory"
   ]
  },
  {
   "cell_type": "code",
   "execution_count": 2,
   "metadata": {},
   "outputs": [
    {
     "name": "stdout",
     "output_type": "stream",
     "text": [
      "Beginning proof of add_0_0\n",
      "Recorded 'presuming' information\n",
      "Presuming previous theorems (applied transitively).\n"
     ]
    },
    {
     "data": {
      "text/html": [
       "<strong id=\"add_0_0\">add_0_0:</strong> <a class=\"ProveItLink\" href=\"../__pv_it/8020ab098d746a92787697d753d408960949fb170/expr.ipynb\"><img src=\"data:image/png;base64,iVBORw0KGgoAAAANSUhEUgAAAGEAAAAUBAMAAABvx07iAAAAMFBMVEX///9UVFTMzMx2dna6uroQ\n",
       "EBCqqqqIiIgiIiJmZmYyMjJERETu7u6YmJjc3NwAAAC+aOQFAAAAAXRSTlMAQObYZgAAAUlJREFU\n",
       "KM91kzFLw0AUgD+bEmqa1OIvyD9ocSl2cnRTpD8gWzdbJ3EQuthR8hPq4pBBdBalIIWCgoK41o5u\n",
       "KgVFcPBMQpp3SW7J5Xv57u7l3oPaE/ljv4BzD8bxhgZbzy4r88y3/xgu4JypjFqefYo90oUQ4/g4\n",
       "uxhxtBs9XqCtVtSNCFfmVOuYv8K4gt6YiW5E+A3W6pS/hPEJOx7WlmZE+AgefcrfacP+UaE+hi+F\n",
       "GN/Ae5OSMGoLaPRxwuSMIBx+gofK8CkthKEWazQxB3KPGHeWp2oHwUkQnCXblz5yT9UJMzczmfe8\n",
       "jBFjdarqJY78u9fwOqY8SOVRT7DKvOgGnVHuDW6q2ZCJK4yKZ+/BalMzIrytZneH6wjDbh2oJSxX\n",
       "MyJcETXYTb9M84vdERf7IGq7oD9uixonW+3Ljsof1XlBoLBrZ/n4Dym1aTrxROecAAAAAElFTkSu\n",
       "QmCC\n",
       "\" style=\"display:inline;vertical-align:middle;\" /></a><br>(see <a class=\"ProveItLink\" href=\"../__pv_it/8020ab098d746a92787697d753d408960949fb170/dependencies.ipynb\">dependencies</a>)<br>"
      ],
      "text/plain": [
       "add_0_0: (0 + 0) = 0"
      ]
     },
     "execution_count": 2,
     "metadata": {},
     "output_type": "execute_result"
    }
   ],
   "source": [
    "%proving add_0_0 presuming []"
   ]
  },
  {
   "cell_type": "code",
   "execution_count": null,
   "metadata": {},
   "outputs": [],
   "source": []
  }
 ],
 "metadata": {
  "kernelspec": {
   "display_name": "Python 3",
   "language": "python",
   "name": "python3"
  }
 },
 "nbformat": 4,
 "nbformat_minor": 0
}
