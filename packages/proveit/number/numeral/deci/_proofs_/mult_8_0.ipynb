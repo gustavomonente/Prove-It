{
 "cells": [
  {
   "cell_type": "markdown",
   "metadata": {},
   "source": [
    "Proof of <a class=\"ProveItLink\" href=\"../../../../_context_.ipynb\">proveit</a>.<a class=\"ProveItLink\" href=\"../../../_context_.ipynb\">number</a>.<a class=\"ProveItLink\" href=\"../../_context_.ipynb\">numeral</a>.<a class=\"ProveItLink\" href=\"../_context_.ipynb\">deci</a>.<a class=\"ProveItLink\" href=\"../_theorems_.ipynb#mult_8_0\">mult_8_0</a> theorem\n",
    "========"
   ]
  },
  {
   "cell_type": "code",
   "execution_count": 1,
   "metadata": {},
   "outputs": [],
   "source": [
    "import proveit\n",
    "context = proveit.Context('..') # the theorem's context is in the parent directory"
   ]
  },
  {
   "cell_type": "code",
   "execution_count": 2,
   "metadata": {},
   "outputs": [
    {
     "name": "stdout",
     "output_type": "stream",
     "text": [
      "Beginning proof of mult_8_0\n",
      "Recorded 'presuming' information\n",
      "Presuming previous theorems (applied transitively).\n"
     ]
    },
    {
     "data": {
      "text/html": [
       "<strong id=\"mult_8_0\">mult_8_0:</strong> <a class=\"ProveItLink\" href=\"../__pv_it/dd02b06ca508d536f8c2e60f38cf20694ed434b90/expr.ipynb\"><img src=\"data:image/png;base64,iVBORw0KGgoAAAANSUhEUgAAAFcAAAAUBAMAAAAKKrydAAAAMFBMVEX////MzMxUVFR2dna6uroQ\n",
       "EBCqqqqIiIgiIiJmZmYyMjJERETu7u6YmJjc3NwAAACgK8IjAAAAAXRSTlMAQObYZgAAAUtJREFU\n",
       "KM91kzFLw0AUx/9t2hLjXSl+gfYLiJ0MdnLsJoKjQ1YXG3RyMpOjBPQDBDeliLiKJYsoOLQgrprR\n",
       "URQFEdGXXq5nLpc3vfvlz7v33v0DNCcoxDZK4h643T1WZ/ehhWpSkKUYOAdCVD0JHY8dgkW6dorB\n",
       "QzQm/74+Aj2qo4sFthNYF2CBpJfAIMaNLhb4Bah9x9ZsyjdgzYOzqokF3qNs6WdZQvZF1IcV5rUZ\n",
       "vqbU+h1K2nwH2j74dIbeWRqnCh9QutX/SK9lKaUS7S4aQb5yhjdoIR3sbxIZR7P7Kq/GNkhcj1H5\n",
       "JGJ3xCQDryDOMLUxpsOipFfAc4xaoHo+UZgGrNPjjvLb55HxUVZoz0NwX1LbY+vAXFcTC9ynbOFI\n",
       "GYm5O+QYp6WJBbYTkxXvzA7loYm6JX4eGVjRosr8hZhPSsSm3+rJLP0DFiBfNdbuuS4AAAAASUVO\n",
       "RK5CYII=\n",
       "\" style=\"display:inline;vertical-align:middle;\" /></a><br>(see <a class=\"ProveItLink\" href=\"../__pv_it/dd02b06ca508d536f8c2e60f38cf20694ed434b90/dependencies.ipynb\">dependencies</a>)<br>"
      ],
      "text/plain": [
       "mult_8_0: (8 * 0) = 0"
      ]
     },
     "execution_count": 2,
     "metadata": {},
     "output_type": "execute_result"
    }
   ],
   "source": [
    "%proving mult_8_0 presuming []"
   ]
  },
  {
   "cell_type": "code",
   "execution_count": null,
   "metadata": {},
   "outputs": [],
   "source": []
  }
 ],
 "metadata": {
  "kernelspec": {
   "display_name": "Python 3",
   "language": "python",
   "name": "python3"
  }
 },
 "nbformat": 4,
 "nbformat_minor": 0
}
