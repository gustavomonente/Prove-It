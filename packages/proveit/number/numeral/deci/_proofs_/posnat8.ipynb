{
 "cells": [
  {
   "cell_type": "markdown",
   "metadata": {},
   "source": [
    "Proof of <a class=\"ProveItLink\" href=\"../../../../_context_.ipynb\">proveit</a>.<a class=\"ProveItLink\" href=\"../../../_context_.ipynb\">number</a>.<a class=\"ProveItLink\" href=\"../../_context_.ipynb\">numeral</a>.<a class=\"ProveItLink\" href=\"../_context_.ipynb\">decimal</a>.<a class=\"ProveItLink\" href=\"../_theorems_.ipynb#posnat8\">posnat8</a> theorem\n",
    "========"
   ]
  },
  {
   "cell_type": "code",
   "execution_count": 1,
   "metadata": {},
   "outputs": [],
   "source": [
    "import proveit\n",
    "context = proveit.Context('..') # the theorem's context is in the parent directory"
   ]
  },
  {
   "cell_type": "code",
   "execution_count": 2,
   "metadata": {},
   "outputs": [
    {
     "name": "stdout",
     "output_type": "stream",
     "text": [
      "Beginning proof of posnat8\n",
      "Recorded 'presuming' information\n",
      "Presuming previous theorems (applied transitively).\n"
     ]
    },
    {
     "data": {
      "text/html": [
       "<strong id=\"posnat8\">posnat8:</strong> <a class=\"ProveItLink\" href=\"../__pv_it/2d4035a614a0d469a9d642d040cf3512475e1f760/expr.ipynb\"><img src=\"data:image/png;base64,iVBORw0KGgoAAAANSUhEUgAAAD8AAAAUBAMAAADIGvgZAAAAMFBMVEX////c3NzMzMwQEBAiIiJE\n",
       "REQyMjKYmJiqqqpUVFS6urpmZmZ2dnaIiIju7u4AAACLnIg+AAAAAXRSTlMAQObYZgAAAP5JREFU\n",
       "KM9jYKAEcBJSwEolBW/v7EIVfvY17AHD4c8LYAo2MHA2oKoIZ5rAwPeBYVpaclpaAQNHAQNfAqqC\n",
       "KQp3GRgMYFbwBDDwOUAkSl1cwEpnxXEqMDjAFHB9fcBTAJZXvQc1YaImXx5CAcP87yfANFAQpoDj\n",
       "giaSAp7/EBlOAbgChlPsFxAKupeAfIQcKhMZOB9MAilgBPHYJzDctwMxlNOAIAGigG8CmwFMOfMD\n",
       "BqYfIIYokgkMOkxwBe+BeDpYJbIC9oYAuAlAtwWCGNwXYEKTgPggXAFXHgM7RMoDJpQBUo4IXc09\n",
       "0Mh6GfUATKt8BupGD34wWBPigikMAAfJPhC1VvjgAAAAAElFTkSuQmCC\n",
       "\" style=\"display:inline;vertical-align:middle;\" /></a><br>(see <a class=\"ProveItLink\" href=\"../__pv_it/2d4035a614a0d469a9d642d040cf3512475e1f760/dependencies.ipynb\">dependencies</a>)<br>"
      ],
      "text/plain": [
       "posnat8: 8 in NaturalsPos"
      ]
     },
     "execution_count": 2,
     "metadata": {},
     "output_type": "execute_result"
    }
   ],
   "source": [
    "%proving posnat8 presuming []"
   ]
  },
  {
   "cell_type": "code",
   "execution_count": null,
   "metadata": {},
   "outputs": [],
   "source": []
  }
 ],
 "metadata": {
  "kernelspec": {
   "display_name": "Python 3",
   "language": "python",
   "name": "python3"
  }
 },
 "nbformat": 4,
 "nbformat_minor": 0
}
