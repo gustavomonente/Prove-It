{
 "cells": [
  {
   "cell_type": "markdown",
   "metadata": {},
   "source": [
    "Proof of <a class=\"ProveItLink\" href=\"../../../../_context_.ipynb\">proveit</a>.<a class=\"ProveItLink\" href=\"../../../_context_.ipynb\">number</a>.<a class=\"ProveItLink\" href=\"../../_context_.ipynb\">numeral</a>.<a class=\"ProveItLink\" href=\"../_context_.ipynb\">deci</a>.<a class=\"ProveItLink\" href=\"../_theorems_.ipynb#mult_2_3\">mult_2_3</a> theorem\n",
    "========"
   ]
  },
  {
   "cell_type": "code",
   "execution_count": 1,
   "metadata": {},
   "outputs": [],
   "source": [
    "import proveit\n",
    "context = proveit.Context('..') # the theorem's context is in the parent directory"
   ]
  },
  {
   "cell_type": "code",
   "execution_count": 2,
   "metadata": {},
   "outputs": [
    {
     "name": "stdout",
     "output_type": "stream",
     "text": [
      "Beginning proof of mult_2_3\n",
      "Recorded 'presuming' information\n",
      "Presuming previous theorems (applied transitively).\n"
     ]
    },
    {
     "data": {
      "text/html": [
       "<strong id=\"mult_2_3\">mult_2_3:</strong> <a class=\"ProveItLink\" href=\"../__pv_it/8657abca0b4c7e6bf21a9b42abd366198ba438ba0/expr.ipynb\"><img src=\"data:image/png;base64,iVBORw0KGgoAAAANSUhEUgAAAFcAAAAUBAMAAAAKKrydAAAAMFBMVEX///9UVFTMzMx2dna6uroQ\n",
       "EBCqqqqIiIgiIiJmZmYyMjJERETu7u6YmJjc3NwAAAC+aOQFAAAAAXRSTlMAQObYZgAAAWtJREFU\n",
       "KM91kz9Lw1AUxU+0rf2Tli7uhX4Aox1KdTCL4KZDdXHpJ3CVLloRBF2MQwftouCig4PgJOpbhIqD\n",
       "/QJqwEUXEScJ1Xjfyz95eTmEx8vhl+Se+26A0gAxrSJBD8B97yK8LdVmWtDsGDa6NkXrOfQyZs3A\n",
       "fEfmB/qRzOonOASKFnIM6cXA3WjhG6jLcMHCFZC1ke5A+w3cORMOcCfDC6KwNyA/hPYV+VQG8qYE\n",
       "X4q1LdbsMPL7BsWxJNiptun5a+8rRmi/7jBKIhJOn3Gd8nzOANvgF2lTJPbosSaV0pGa4QJdhibf\n",
       "58RXH/2GLTGMfEplUIdeTA/2Cy/T8gHctuLwLsGiEmQsznhyGYdTnajmY74dF2/mAavAegCvAHvM\n",
       "D/hPEwxdoEHjsFXbDwM9iT7nDAnWDH0ZmKcTcF03hFMHPWpoviIfYWOyIo5bob56QouWyq0nzPON\n",
       "wouPaDT8MRXsBFj1Wz2r0T+w8V4tbN20dgAAAABJRU5ErkJggg==\n",
       "\" style=\"display:inline;vertical-align:middle;\" /></a><br>(see <a class=\"ProveItLink\" href=\"../__pv_it/8657abca0b4c7e6bf21a9b42abd366198ba438ba0/dependencies.ipynb\">dependencies</a>)<br>"
      ],
      "text/plain": [
       "mult_2_3: (2 * 3) = 6"
      ]
     },
     "execution_count": 2,
     "metadata": {},
     "output_type": "execute_result"
    }
   ],
   "source": [
    "%proving mult_2_3 presuming []"
   ]
  },
  {
   "cell_type": "code",
   "execution_count": null,
   "metadata": {},
   "outputs": [],
   "source": []
  }
 ],
 "metadata": {
  "kernelspec": {
   "display_name": "Python 3",
   "language": "python",
   "name": "python3"
  }
 },
 "nbformat": 4,
 "nbformat_minor": 0
}
