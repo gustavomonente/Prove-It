{
 "cells": [
  {
   "cell_type": "markdown",
   "metadata": {},
   "source": [
    "Proof of <a class=\"ProveItLink\" href=\"../../../../_context_.ipynb\">proveit</a>.<a class=\"ProveItLink\" href=\"../../../_context_.ipynb\">number</a>.<a class=\"ProveItLink\" href=\"../../_context_.ipynb\">numeral</a>.<a class=\"ProveItLink\" href=\"../_context_.ipynb\">deci</a>.<a class=\"ProveItLink\" href=\"../_theorems_.ipynb#mult_8_6\">mult_8_6</a> theorem\n",
    "========"
   ]
  },
  {
   "cell_type": "code",
   "execution_count": 1,
   "metadata": {},
   "outputs": [],
   "source": [
    "import proveit\n",
    "context = proveit.Context('..') # the theorem's context is in the parent directory"
   ]
  },
  {
   "cell_type": "code",
   "execution_count": 2,
   "metadata": {},
   "outputs": [
    {
     "name": "stdout",
     "output_type": "stream",
     "text": [
      "Beginning proof of mult_8_6\n",
      "Recorded 'presuming' information\n",
      "Presuming previous theorems (applied transitively).\n"
     ]
    },
    {
     "data": {
      "text/html": [
       "<strong id=\"mult_8_6\">mult_8_6:</strong> <a class=\"ProveItLink\" href=\"../__pv_it/0d282df92612fb09d027ecd05c3f931d57b029130/expr.ipynb\"><img src=\"data:image/png;base64,iVBORw0KGgoAAAANSUhEUgAAAGEAAAAUBAMAAABvx07iAAAAMFBMVEX////MzMxUVFR2dna6uroQ\n",
       "EBCqqqqIiIgiIiJmZmYyMjJERETu7u6YmJjc3NwAAACgK8IjAAAAAXRSTlMAQObYZgAAAalJREFU\n",
       "KM99k79L5FAQxz+b7O75Iyuif4BpTrA4XK9QVhG3XGxsRBDk2CstPAQREQS3usLmAqeFNorYeCxi\n",
       "Y+WvNKJoYdBCuEJTWh4HiuxxrPMiWXVfyJCEvJn5vMw3Mw9aPDT7RpxdwOnM8uvanOvB8PW8hIM1\n",
       "l8vL2w44GMUwYG2xhrWhEw02jdAJGYe09yal2WEf+nRi1mYKzgX1MXexSmFgJCjoRANaftsMwBnc\n",
       "Q/Kfa9bk7wXPpnw9YTbZjBwwCPOy6v7fW4tU2ucl23TqiVshjOq16D1UfLVcE17x+C7qAl39v5Rt\n",
       "B/5pIRiquKgwk4UHVYWl7iqsuKRL9UUhRHr5xyjIlbFZnBDvpdr4Ce7yJP7UEV8VccWHB1cRKZfE\n",
       "48sfhyUhPI2wsoqQbTuKqqpLcX0KYx+DbyRLrzo25S3dtbo+viDbGJ5SnpIWHIVEh8tKqPydpWy+\n",
       "SIN9ctKPMpnpMGBkrTFozOrELsMuN1CQRdvPN5OY+9wqHWzVOnj810t0qUls8KMG+ixm2DNOlLcv\n",
       "7nwcRfiipv3didKs2Y8jok7tbUz+M5TNaZONGo3UAAAAAElFTkSuQmCC\n",
       "\" style=\"display:inline;vertical-align:middle;\" /></a><br>(see <a class=\"ProveItLink\" href=\"../__pv_it/0d282df92612fb09d027ecd05c3f931d57b029130/dependencies.ipynb\">dependencies</a>)<br>"
      ],
      "text/plain": [
       "mult_8_6: (8 * 6) = 48"
      ]
     },
     "execution_count": 2,
     "metadata": {},
     "output_type": "execute_result"
    }
   ],
   "source": [
    "%proving mult_8_6 presuming []"
   ]
  },
  {
   "cell_type": "code",
   "execution_count": null,
   "metadata": {},
   "outputs": [],
   "source": []
  }
 ],
 "metadata": {
  "kernelspec": {
   "display_name": "Python 3",
   "language": "python",
   "name": "python3"
  }
 },
 "nbformat": 4,
 "nbformat_minor": 0
}
