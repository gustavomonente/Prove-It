{
 "cells": [
  {
   "cell_type": "markdown",
   "metadata": {},
   "source": [
    "Proof of <a class=\"ProveItLink\" href=\"../../../../_context_.ipynb\">proveit</a>.<a class=\"ProveItLink\" href=\"../../../_context_.ipynb\">number</a>.<a class=\"ProveItLink\" href=\"../../_context_.ipynb\">numeral</a>.<a class=\"ProveItLink\" href=\"../_context_.ipynb\">deci</a>.<a class=\"ProveItLink\" href=\"../_theorems_.ipynb#mult_0_4\">mult_0_4</a> theorem\n",
    "========"
   ]
  },
  {
   "cell_type": "code",
   "execution_count": 1,
   "metadata": {},
   "outputs": [],
   "source": [
    "import proveit\n",
    "context = proveit.Context('..') # the theorem's context is in the parent directory"
   ]
  },
  {
   "cell_type": "code",
   "execution_count": 2,
   "metadata": {},
   "outputs": [
    {
     "name": "stdout",
     "output_type": "stream",
     "text": [
      "Beginning proof of mult_0_4\n",
      "Recorded 'presuming' information\n",
      "Presuming previous theorems (applied transitively).\n"
     ]
    },
    {
     "data": {
      "text/html": [
       "<strong id=\"mult_0_4\">mult_0_4:</strong> <a class=\"ProveItLink\" href=\"../__pv_it/c86ea94f2e9abe049e4ed560aa89ad6ab24d50af0/expr.ipynb\"><img src=\"data:image/png;base64,iVBORw0KGgoAAAANSUhEUgAAAFcAAAAUBAMAAAAKKrydAAAAMFBMVEX///9UVFTMzMx2dna6uroQ\n",
       "EBCqqqqIiIgiIiJmZmYyMjJERETu7u6YmJjc3NwAAAC+aOQFAAAAAXRSTlMAQObYZgAAAVhJREFU\n",
       "KM91kzFLw0AUx382NdQ0qcHNLd+gwaXYydFNkS5uwQ9g4yDiIHTqKFmd1EXQQeosakEKBYcWxMWh\n",
       "dnTTUqgIDt5FTNLk+obj8b8fj/+79w5KfTKxy4x4Au1oJSHkAuaGGazy7IjzGi7oJm4LNuZZmjU8\n",
       "8xisAGsTLXG7b4s6afgFqqLOkKKN/hPJpVcBd9LwDdTbvMOiTX4SyZohYGMtBY9gw+MQegH5r0ge\n",
       "SFgLplnzW8A+d/Dhkotg05ewFfZQvZJxKb2NoezTFHBAbiy50AUS1hvTlUuictmlFtvoyXI7IZz7\n",
       "VNqohQ3qk78HxnSVsGyw7kkbxRbW/9Ppyyen2z75Ruz5XKa38NaWDaaGMh81mBnKqsiadJwE3IIF\n",
       "NwUXPHML1kX2eLAUy9rDqI/hpGCzsueE41ZEV72hVqBSKzP2+V6hZVc0Xv5MFIczYNW3GqjRXw+B\n",
       "VwnuLGjqAAAAAElFTkSuQmCC\n",
       "\" style=\"display:inline;vertical-align:middle;\" /></a><br>(see <a class=\"ProveItLink\" href=\"../__pv_it/c86ea94f2e9abe049e4ed560aa89ad6ab24d50af0/dependencies.ipynb\">dependencies</a>)<br>"
      ],
      "text/plain": [
       "mult_0_4: (0 * 4) = 0"
      ]
     },
     "execution_count": 2,
     "metadata": {},
     "output_type": "execute_result"
    }
   ],
   "source": [
    "%proving mult_0_4 presuming []"
   ]
  },
  {
   "cell_type": "code",
   "execution_count": null,
   "metadata": {},
   "outputs": [],
   "source": []
  }
 ],
 "metadata": {
  "kernelspec": {
   "display_name": "Python 3",
   "language": "python",
   "name": "python3"
  }
 },
 "nbformat": 4,
 "nbformat_minor": 0
}
