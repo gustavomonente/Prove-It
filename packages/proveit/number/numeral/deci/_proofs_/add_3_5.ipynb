{
 "cells": [
  {
   "cell_type": "markdown",
   "metadata": {},
   "source": [
    "Proof of <a class=\"ProveItLink\" href=\"../../../../_context_.ipynb\">proveit</a>.<a class=\"ProveItLink\" href=\"../../../_context_.ipynb\">number</a>.<a class=\"ProveItLink\" href=\"../../_context_.ipynb\">numeral</a>.<a class=\"ProveItLink\" href=\"../_context_.ipynb\">decimal</a>.<a class=\"ProveItLink\" href=\"../_theorems_.ipynb#add_3_5\">add_3_5</a> theorem\n",
    "========"
   ]
  },
  {
   "cell_type": "code",
   "execution_count": 1,
   "metadata": {},
   "outputs": [],
   "source": [
    "import proveit\n",
    "context = proveit.Context('..') # the theorem's context is in the parent directory"
   ]
  },
  {
   "cell_type": "code",
   "execution_count": 2,
   "metadata": {},
   "outputs": [
    {
     "name": "stdout",
     "output_type": "stream",
     "text": [
      "Beginning proof of add_3_5\n",
      "Recorded 'presuming' information\n",
      "Presuming previous theorems (applied transitively).\n"
     ]
    },
    {
     "data": {
      "text/html": [
       "<strong id=\"add_3_5\">add_3_5:</strong> <a class=\"ProveItLink\" href=\"../__pv_it/fd54385be79e4ba393d4d13f621df0b4bfceb0e20/expr.ipynb\"><img src=\"data:image/png;base64,iVBORw0KGgoAAAANSUhEUgAAAGEAAAAUBAMAAABvx07iAAAAMFBMVEX////MzMxUVFR2dna6uroQ\n",
       "EBCqqqqIiIgiIiJmZmYyMjJERETu7u6YmJjc3NwAAACgK8IjAAAAAXRSTlMAQObYZgAAAX5JREFU\n",
       "KM91k79Lw0AUx79Jf6W/kv4HOgl1KjrUKmJGdXHJJCLdOqmTSBcJiA4uFhRBECyOGcRBxEEli1DU\n",
       "oejgohJw0c1BO0ghvlws5q7JGy53793n3o+8B6hthMtyhB53wNvoOa/LPEv7kB3xam6totPnBGoD\n",
       "K7yjhOuWkGuKRBoYAvINpDrQTF9X+/Mxsk5rWSSWgFtAcRA3oDU5QmbrjUhMAC3gne17UXFERheI\n",
       "uUtMAnWW0gZ44qVeAGINgZDdxypwRTt17JAnsrb6RSmyUGMWE0ZP/djAFruyqnMEyQWQNAUfyb0d\n",
       "AzD8ci7QMm5Zm5Z17FuPHEifAvGA1LftEaqDbIfzMUwB6P0EPTtQ9aLSuiIxTz5sxM1AHoNUH3pB\n",
       "bnuZJ06hdDmC0tzuZR6QRaqJgwpZ2uL/+ECerOmSQMzaeAKmaTdzcMZXV90tUhkzBYGQil4nKlyH\n",
       "1oKHVniz57kfex88lCPm4zpqcPq7/X+iwiXrRBgip/Y1XP0L9VxiCQl4pmUAAAAASUVORK5CYII=\n",
       "\" style=\"display:inline;vertical-align:middle;\" /></a><br>(see <a class=\"ProveItLink\" href=\"../__pv_it/fd54385be79e4ba393d4d13f621df0b4bfceb0e20/dependencies.ipynb\">dependencies</a>)<br>"
      ],
      "text/plain": [
       "add_3_5: (3 + 5) = 8"
      ]
     },
     "execution_count": 2,
     "metadata": {},
     "output_type": "execute_result"
    }
   ],
   "source": [
    "%proving add_3_5 presuming []"
   ]
  },
  {
   "cell_type": "code",
   "execution_count": null,
   "metadata": {},
   "outputs": [],
   "source": []
  }
 ],
 "metadata": {
  "kernelspec": {
   "display_name": "Python 3",
   "language": "python",
   "name": "python3"
  }
 },
 "nbformat": 4,
 "nbformat_minor": 0
}
