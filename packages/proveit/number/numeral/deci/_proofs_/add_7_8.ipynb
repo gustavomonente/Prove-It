{
 "cells": [
  {
   "cell_type": "markdown",
   "metadata": {},
   "source": [
    "Proof of <a class=\"ProveItLink\" href=\"../../../../_context_.ipynb\">proveit</a>.<a class=\"ProveItLink\" href=\"../../../_context_.ipynb\">number</a>.<a class=\"ProveItLink\" href=\"../../_context_.ipynb\">numeral</a>.<a class=\"ProveItLink\" href=\"../_context_.ipynb\">decimal</a>.<a class=\"ProveItLink\" href=\"../_theorems_.ipynb#add_7_8\">add_7_8</a> theorem\n",
    "========"
   ]
  },
  {
   "cell_type": "code",
   "execution_count": 1,
   "metadata": {},
   "outputs": [],
   "source": [
    "import proveit\n",
    "context = proveit.Context('..') # the theorem's context is in the parent directory"
   ]
  },
  {
   "cell_type": "code",
   "execution_count": 2,
   "metadata": {},
   "outputs": [
    {
     "name": "stdout",
     "output_type": "stream",
     "text": [
      "Beginning proof of add_7_8\n",
      "Recorded 'presuming' information\n",
      "Presuming previous theorems (applied transitively).\n"
     ]
    },
    {
     "data": {
      "text/html": [
       "<strong id=\"add_7_8\">add_7_8:</strong> <a class=\"ProveItLink\" href=\"../__pv_it/17d58f5fa8fa24c57cf65dc7af3ab2cf761c3c820/expr.ipynb\"><img src=\"data:image/png;base64,iVBORw0KGgoAAAANSUhEUgAAAGwAAAAUBAMAAACaOcVSAAAAMFBMVEX///9UVFTMzMx2dna6uroQ\n",
       "EBCqqqqIiIgiIiJmZmYyMjJERETu7u6YmJjc3NwAAAC+aOQFAAAAAXRSTlMAQObYZgAAAYJJREFU\n",
       "OMuVlL9Lw0AUx79N2mIwCQUHp1odnUQKgk7d7NhBnIR2keomOOnSOujiEo2jQ/2xGKr0D9CSTaiC\n",
       "WURwsaNOUqqC+CNeLlGSSy7gGy733uWT9827dweoFqIt3UWMXUHY0PP5YPBydQ8YiQZOzfEKcAbF\n",
       "tu1ecElDooJOGFk0gbLdBxQNElGTccNVT58FuQFxhYHkoRzBjobJ+wNdiIA4GsDEFuQ65FIo24Pp\n",
       "ZXik7iwCWPLDFEmljvnYGnVbQQy5rykyTkdi2btd4IKKshhMtJtkvKdTg5r2h53juYAtx7sBgy0X\n",
       "XwvAUmQ2YLCOOee5TmMzhrFpGAdkpmRQWwAmOJj07WLbTLaUCeGNgyXIzry4InsM5ojOAkXfv2V+\n",
       "sVQD0ictifDOZiMb2vZKwmaTyF43aJHTfQZLNqGQFtFDWM2EquG2S4Wo82wlx3TSyjhkqZ3yiYWn\n",
       "yX3aXD6rBlqwzj83iub3rv1OqJX91uaudOKP6f8/6NSDdykoMZfCDz/9c5TuUC4hAAAAAElFTkSu\n",
       "QmCC\n",
       "\" style=\"display:inline;vertical-align:middle;\" /></a><br>(see <a class=\"ProveItLink\" href=\"../__pv_it/17d58f5fa8fa24c57cf65dc7af3ab2cf761c3c820/dependencies.ipynb\">dependencies</a>)<br>"
      ],
      "text/plain": [
       "add_7_8: (7 + 8) = 15"
      ]
     },
     "execution_count": 2,
     "metadata": {},
     "output_type": "execute_result"
    }
   ],
   "source": [
    "%proving add_7_8 presuming []"
   ]
  },
  {
   "cell_type": "code",
   "execution_count": null,
   "metadata": {},
   "outputs": [],
   "source": []
  }
 ],
 "metadata": {
  "kernelspec": {
   "display_name": "Python 3",
   "language": "python",
   "name": "python3"
  }
 },
 "nbformat": 4,
 "nbformat_minor": 0
}
