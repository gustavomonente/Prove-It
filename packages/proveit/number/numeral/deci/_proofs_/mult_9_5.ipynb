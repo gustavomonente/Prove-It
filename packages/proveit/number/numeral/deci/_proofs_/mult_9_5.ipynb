{
 "cells": [
  {
   "cell_type": "markdown",
   "metadata": {},
   "source": [
    "Proof of <a class=\"ProveItLink\" href=\"../../../../_context_.ipynb\">proveit</a>.<a class=\"ProveItLink\" href=\"../../../_context_.ipynb\">number</a>.<a class=\"ProveItLink\" href=\"../../_context_.ipynb\">numeral</a>.<a class=\"ProveItLink\" href=\"../_context_.ipynb\">deci</a>.<a class=\"ProveItLink\" href=\"../_theorems_.ipynb#mult_9_5\">mult_9_5</a> theorem\n",
    "========"
   ]
  },
  {
   "cell_type": "code",
   "execution_count": 1,
   "metadata": {},
   "outputs": [],
   "source": [
    "import proveit\n",
    "context = proveit.Context('..') # the theorem's context is in the parent directory"
   ]
  },
  {
   "cell_type": "code",
   "execution_count": 2,
   "metadata": {},
   "outputs": [
    {
     "name": "stdout",
     "output_type": "stream",
     "text": [
      "Beginning proof of mult_9_5\n",
      "Recorded 'presuming' information\n",
      "Presuming previous theorems (applied transitively).\n"
     ]
    },
    {
     "data": {
      "text/html": [
       "<strong id=\"mult_9_5\">mult_9_5:</strong> <a class=\"ProveItLink\" href=\"../__pv_it/8575cf6f4cf10630641a7d5a7d1305635f4bb3340/expr.ipynb\"><img src=\"data:image/png;base64,iVBORw0KGgoAAAANSUhEUgAAAGEAAAAUBAMAAABvx07iAAAAMFBMVEX////MzMxUVFR2dna6uroQ\n",
       "EBCqqqqIiIgiIiJmZmYyMjJERETu7u6YmJjc3NwAAACgK8IjAAAAAXRSTlMAQObYZgAAAXZJREFU\n",
       "KM99k79Lw0AUx79N7Q/TJBb8A8xaBwl2KLrY0dGhi6KCuEsXhy7SqYNTQBA6tbgpKt10UbMIikO7\n",
       "CaIli6BbFXFS67vcJaW5kDfkcve5T/Lu7h1g9CDFDuLiAbgvzgVd9TlxCMWV5yVszoBzaBt4dXyQ\n",
       "Gg4taG3ZyJqcQbehrECxg3/M79GzJBu7pmBZF1NtJAc+ULznrSQYT6Zgb0C3g8zfuKGWw0ZS9Y0a\n",
       "pU7/+AqMl1qeuB02+szw2BVYSuqvT3KOQbbuLX3xhMUxe9WqZHDWoO4Ftr/ZqJAugXQ9nBTI4KxC\n",
       "Tfpx+oOartjTlovEIGRsCYNYhWf/w3ccmAWWypKhWczgrMH3xvTZGn3HwUR9tI4jlkWh2VqtckYr\n",
       "19cxE5QFbdK+v/KxSJmCLQCZU+0sAO/QN4FJSzY6gi1Tp9gcHZhxUKAaU/PSCd589jjLulEFfRdT\n",
       "7LodNVqKux/XEWNR1T52o6TIuXFG1K3tx8z/B/88YtfpWcIGAAAAAElFTkSuQmCC\n",
       "\" style=\"display:inline;vertical-align:middle;\" /></a><br>(see <a class=\"ProveItLink\" href=\"../__pv_it/8575cf6f4cf10630641a7d5a7d1305635f4bb3340/dependencies.ipynb\">dependencies</a>)<br>"
      ],
      "text/plain": [
       "mult_9_5: (9 * 5) = 45"
      ]
     },
     "execution_count": 2,
     "metadata": {},
     "output_type": "execute_result"
    }
   ],
   "source": [
    "%proving mult_9_5 presuming []"
   ]
  },
  {
   "cell_type": "code",
   "execution_count": null,
   "metadata": {},
   "outputs": [],
   "source": []
  }
 ],
 "metadata": {
  "kernelspec": {
   "display_name": "Python 3",
   "language": "python",
   "name": "python3"
  }
 },
 "nbformat": 4,
 "nbformat_minor": 0
}
