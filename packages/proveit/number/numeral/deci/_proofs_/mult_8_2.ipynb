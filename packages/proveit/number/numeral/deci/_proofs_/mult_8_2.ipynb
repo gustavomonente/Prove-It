{
 "cells": [
  {
   "cell_type": "markdown",
   "metadata": {},
   "source": [
    "Proof of <a class=\"ProveItLink\" href=\"../../../../_context_.ipynb\">proveit</a>.<a class=\"ProveItLink\" href=\"../../../_context_.ipynb\">number</a>.<a class=\"ProveItLink\" href=\"../../_context_.ipynb\">numeral</a>.<a class=\"ProveItLink\" href=\"../_context_.ipynb\">deci</a>.<a class=\"ProveItLink\" href=\"../_theorems_.ipynb#mult_8_2\">mult_8_2</a> theorem\n",
    "========"
   ]
  },
  {
   "cell_type": "code",
   "execution_count": 1,
   "metadata": {},
   "outputs": [],
   "source": [
    "import proveit\n",
    "context = proveit.Context('..') # the theorem's context is in the parent directory"
   ]
  },
  {
   "cell_type": "code",
   "execution_count": 2,
   "metadata": {},
   "outputs": [
    {
     "name": "stdout",
     "output_type": "stream",
     "text": [
      "Beginning proof of mult_8_2\n",
      "Recorded 'presuming' information\n",
      "Presuming previous theorems (applied transitively).\n"
     ]
    },
    {
     "data": {
      "text/html": [
       "<strong id=\"mult_8_2\">mult_8_2:</strong> <a class=\"ProveItLink\" href=\"../__pv_it/72acb31085771700bfeeb1d3f664b64115b2c8660/expr.ipynb\"><img src=\"data:image/png;base64,iVBORw0KGgoAAAANSUhEUgAAAGEAAAAUBAMAAABvx07iAAAAMFBMVEX////MzMxUVFR2dna6uroQ\n",
       "EBCqqqqIiIgiIiJmZmYyMjJERETu7u6YmJjc3NwAAACgK8IjAAAAAXRSTlMAQObYZgAAAYZJREFU\n",
       "KM99kztLw1AUx/9t0vdNCfoB7FJwkdYKljp17Oai4uDg2kUEB+lkJwcXA9qhoiDiohTr4lQsoSAK\n",
       "Du0n0IwdBR9IVeJJ2qQxueaQhNxzzu+8OBdI9uCRDfjJI3C/dWgfWb0lI6jxfYXtWfpeAQqC65ay\n",
       "A+EN7NTjHF6jaOc4AiQF4Z7D5RhYBvJuoJP7BhIKWkBUg3ANVrVMq0BGw50nh0TEollsHxC/VMFu\n",
       "v6kiIyNe5BE35l+F3szPvNO4r0JQeMRgskKRbo0R6A2HTXwlu9nXwqUhFxbBBj3swnhQLr0bVbAh\n",
       "EU3RZKqcHEwHaiqW6JDCDs0O3eHA6vQGXnhVfQLPRYMIqQh8jIIDEeVfYo8Is7AuKWZsUxlJDWJ1\n",
       "3MeZTaTNHNR5iMbctoBAFhFt1Lk7x5SKGlCg4TQgbVqW/lxhGohl3USEiGCWrQAlOk0cjDexqevU\n",
       "YFx2AbH04ITC52RzSzjy4LPsksLT5v3uR5uj42z73xvlkYTmR/Bu7ZOP/y+TDGwjwJUqzwAAAABJ\n",
       "RU5ErkJggg==\n",
       "\" style=\"display:inline;vertical-align:middle;\" /></a><br>(see <a class=\"ProveItLink\" href=\"../__pv_it/72acb31085771700bfeeb1d3f664b64115b2c8660/dependencies.ipynb\">dependencies</a>)<br>"
      ],
      "text/plain": [
       "mult_8_2: (8 * 2) = 16"
      ]
     },
     "execution_count": 2,
     "metadata": {},
     "output_type": "execute_result"
    }
   ],
   "source": [
    "%proving mult_8_2 presuming []"
   ]
  },
  {
   "cell_type": "code",
   "execution_count": null,
   "metadata": {},
   "outputs": [],
   "source": []
  }
 ],
 "metadata": {
  "kernelspec": {
   "display_name": "Python 3",
   "language": "python",
   "name": "python3"
  }
 },
 "nbformat": 4,
 "nbformat_minor": 0
}
