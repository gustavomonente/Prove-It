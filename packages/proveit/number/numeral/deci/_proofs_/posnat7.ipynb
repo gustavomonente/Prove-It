{
 "cells": [
  {
   "cell_type": "markdown",
   "metadata": {},
   "source": [
    "Proof of <a class=\"ProveItLink\" href=\"../../../../_context_.ipynb\">proveit</a>.<a class=\"ProveItLink\" href=\"../../../_context_.ipynb\">number</a>.<a class=\"ProveItLink\" href=\"../../_context_.ipynb\">numeral</a>.<a class=\"ProveItLink\" href=\"../_context_.ipynb\">decimal</a>.<a class=\"ProveItLink\" href=\"../_theorems_.ipynb#posnat7\">posnat7</a> theorem\n",
    "========"
   ]
  },
  {
   "cell_type": "code",
   "execution_count": 1,
   "metadata": {},
   "outputs": [],
   "source": [
    "import proveit\n",
    "context = proveit.Context('..') # the theorem's context is in the parent directory"
   ]
  },
  {
   "cell_type": "code",
   "execution_count": 2,
   "metadata": {},
   "outputs": [
    {
     "name": "stdout",
     "output_type": "stream",
     "text": [
      "Beginning proof of posnat7\n",
      "Recorded 'presuming' information\n",
      "Presuming previous theorems (applied transitively).\n"
     ]
    },
    {
     "data": {
      "text/html": [
       "<strong id=\"posnat7\">posnat7:</strong> <a class=\"ProveItLink\" href=\"../__pv_it/dae50962d4c672630759b025e83ae4078154f96d0/expr.ipynb\"><img src=\"data:image/png;base64,iVBORw0KGgoAAAANSUhEUgAAAD4AAAAUBAMAAAAn2JMnAAAAMFBMVEX///8QEBCqqqoyMjLu7u5E\n",
       "RESIiIi6urrc3NyYmJh2dnZmZmZUVFQiIiLMzMwAAABzPQ5hAAAAAXRSTlMAQObYZgAAAOdJREFU\n",
       "KM9jYKAAHCAgH0AF+benV61agCzIYh9qwsAlLw6Vn////39Ud7BOeMPA4M/AY2wsbGzJsIOBgQfV\n",
       "VJ57bAkMjDDzgWavg4hzxt69DJYvdTjHwItwH3sCmOILc4Dq7zvg7IAkzwoRdnaAmd+gxncASX4l\n",
       "RPgE3P4GroJpCHmWD2iBwdPAcITnLYjVACLYDCDWCxsDAVTeh8EQ7h1eiEYOZP18Cx7C5fmhoSOA\n",
       "JM8wiRUu/34DhN4Gl3/AwMDVCpfXh4Y+rwJUgBnE2AyXb4SKsxwtgTj0vigoNDBjk30pJHxRAADd\n",
       "SzTLH9oSYwAAAABJRU5ErkJggg==\n",
       "\" style=\"display:inline;vertical-align:middle;\" /></a><br>(see <a class=\"ProveItLink\" href=\"../__pv_it/dae50962d4c672630759b025e83ae4078154f96d0/dependencies.ipynb\">dependencies</a>)<br>"
      ],
      "text/plain": [
       "posnat7: 7 in NaturalsPos"
      ]
     },
     "execution_count": 2,
     "metadata": {},
     "output_type": "execute_result"
    }
   ],
   "source": [
    "%proving posnat7 presuming []"
   ]
  },
  {
   "cell_type": "code",
   "execution_count": null,
   "metadata": {},
   "outputs": [],
   "source": []
  }
 ],
 "metadata": {
  "kernelspec": {
   "display_name": "Python 3",
   "language": "python",
   "name": "python3"
  }
 },
 "nbformat": 4,
 "nbformat_minor": 0
}
