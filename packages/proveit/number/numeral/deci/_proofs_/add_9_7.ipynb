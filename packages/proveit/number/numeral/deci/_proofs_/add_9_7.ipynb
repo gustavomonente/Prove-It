{
 "cells": [
  {
   "cell_type": "markdown",
   "metadata": {},
   "source": [
    "Proof of <a class=\"ProveItLink\" href=\"../../../../_context_.ipynb\">proveit</a>.<a class=\"ProveItLink\" href=\"../../../_context_.ipynb\">number</a>.<a class=\"ProveItLink\" href=\"../../_context_.ipynb\">numeral</a>.<a class=\"ProveItLink\" href=\"../_context_.ipynb\">decimal</a>.<a class=\"ProveItLink\" href=\"../_theorems_.ipynb#add_9_7\">add_9_7</a> theorem\n",
    "========"
   ]
  },
  {
   "cell_type": "code",
   "execution_count": 1,
   "metadata": {},
   "outputs": [],
   "source": [
    "import proveit\n",
    "context = proveit.Context('..') # the theorem's context is in the parent directory"
   ]
  },
  {
   "cell_type": "code",
   "execution_count": 2,
   "metadata": {},
   "outputs": [
    {
     "name": "stdout",
     "output_type": "stream",
     "text": [
      "Beginning proof of add_9_7\n",
      "Recorded 'presuming' information\n",
      "Presuming previous theorems (applied transitively).\n"
     ]
    },
    {
     "data": {
      "text/html": [
       "<strong id=\"add_9_7\">add_9_7:</strong> <a class=\"ProveItLink\" href=\"../__pv_it/9f2086bc7cf8d5463818f715eee52edeb0e44b620/expr.ipynb\"><img src=\"data:image/png;base64,iVBORw0KGgoAAAANSUhEUgAAAGwAAAAUBAMAAACaOcVSAAAAMFBMVEX////MzMxUVFR2dna6uroQ\n",
       "EBCqqqqIiIgiIiJmZmYyMjJERETu7u6YmJjc3NwAAACgK8IjAAAAAXRSTlMAQObYZgAAAYtJREFU\n",
       "OMuVlL9Lw0AUx79t1DZt0hb8A1rpXocMRaduOnYQp4oFkToKTrpYBF1cgnVxa8XFYKWbOChdHKxC\n",
       "ugkudhEcay2C0B++u1JILknFR+7dr3zuvbv37oBIE+4y08IEeQIetZR9zHdQ0jSkPIj0Tgy4hrKG\n",
       "97ptQh0Ohx00nMQm/dfIyGWoOvxZ+PXRcGFUyeRfAtK2ACnJecJuEa4h2EK0DKltwyT6YlCyDmtv\n",
       "dUwNWOMDMGsIDGwYyRKVCzcszBfbBabJWlfEalQW3LBoJX0K3IF5GOoLmMTC8spbBhd9jJlVBPM4\n",
       "os4NNr4FzGRqy82a2YacwwoL7MvsJ1WLhnFoGOd8fo+puKuTRahdjgH+nmDt2BMLUtD63EkglBCw\n",
       "DlPLlr0lxhhFmazRkag5xFt2zPeD8ZGI1nw9yFl2yIErpQo7NvPFdMmB7VOWJPGQ545oZxkBi6wy\n",
       "XRGpk/XLJqTSHFhyWaRgS8Gi971RdWvv2dpxpLJV7j1nGn9c038vyHbv9SioEx6FXxLcc4FFiJ+Y\n",
       "AAAAAElFTkSuQmCC\n",
       "\" style=\"display:inline;vertical-align:middle;\" /></a><br>(see <a class=\"ProveItLink\" href=\"../__pv_it/9f2086bc7cf8d5463818f715eee52edeb0e44b620/dependencies.ipynb\">dependencies</a>)<br>"
      ],
      "text/plain": [
       "add_9_7: (9 + 7) = 16"
      ]
     },
     "execution_count": 2,
     "metadata": {},
     "output_type": "execute_result"
    }
   ],
   "source": [
    "%proving add_9_7 presuming []"
   ]
  },
  {
   "cell_type": "code",
   "execution_count": null,
   "metadata": {},
   "outputs": [],
   "source": []
  }
 ],
 "metadata": {
  "kernelspec": {
   "display_name": "Python 3",
   "language": "python",
   "name": "python3"
  }
 },
 "nbformat": 4,
 "nbformat_minor": 0
}
