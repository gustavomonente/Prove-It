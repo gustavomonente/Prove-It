{
 "cells": [
  {
   "cell_type": "markdown",
   "metadata": {},
   "source": [
    "Proof of <a class=\"ProveItLink\" href=\"../../../../_context_.ipynb\">proveit</a>.<a class=\"ProveItLink\" href=\"../../../_context_.ipynb\">number</a>.<a class=\"ProveItLink\" href=\"../../_context_.ipynb\">numeral</a>.<a class=\"ProveItLink\" href=\"../_context_.ipynb\">decimal</a>.<a class=\"ProveItLink\" href=\"../_theorems_.ipynb#add_9_0\">add_9_0</a> theorem\n",
    "========"
   ]
  },
  {
   "cell_type": "code",
   "execution_count": 1,
   "metadata": {},
   "outputs": [],
   "source": [
    "import proveit\n",
    "context = proveit.Context('..') # the theorem's context is in the parent directory"
   ]
  },
  {
   "cell_type": "code",
   "execution_count": 2,
   "metadata": {},
   "outputs": [
    {
     "name": "stdout",
     "output_type": "stream",
     "text": [
      "Beginning proof of add_9_0\n",
      "Recorded 'presuming' information\n",
      "Presuming previous theorems (applied transitively).\n"
     ]
    },
    {
     "data": {
      "text/html": [
       "<strong id=\"add_9_0\">add_9_0:</strong> <a class=\"ProveItLink\" href=\"../__pv_it/b94c6febad671eb0e81deba1938fa21752bf8cd20/expr.ipynb\"><img src=\"data:image/png;base64,iVBORw0KGgoAAAANSUhEUgAAAGEAAAAUBAMAAABvx07iAAAAMFBMVEX////MzMxUVFR2dna6uroQ\n",
       "EBCqqqqIiIgiIiJmZmYyMjJERETu7u6YmJjc3NwAAACgK8IjAAAAAXRSTlMAQObYZgAAAYBJREFU\n",
       "KM91k7tLA0EQh78kmsTkLgb8A2JjYaPBFEGbpLRTwUoiHFik0kQ7bbTRUgLa2Inl4QsbC1GuCfgC\n",
       "AxLs9BrBMj4QfOLmFL1d76bZ2dn9+M0wM5Co4W1TPnHO4CTTowSzl0mCtvpVW+lrxrbRxrm1pKeY\n",
       "oS2jratEtZYogF4hOEyw8h0rfh91GBBCKtEF3RC1aV8n1JCIPShZVFXiFXJwBxe7RD4l4gGGDGJ5\n",
       "pYw3mLeZhVah8eQmtBdBlAlVFI0xoZHnkGZKsQ83kXiEVBndKT1kOtakRUo7NZaEt8/Es0QIjVSa\n",
       "8IKiES+HcwajwgtfddyLY8A0F01z4zerQEMtfXI6l3QICL6rlZcMDwJ6LScr0bJOiTiAG4uWBVcd\n",
       "Px9EBqJyvUDK9uigrja9bgVEF/ohsqltIRFRQxuBtrRCzFmnYmwHhZdZy8uElp1JilSTChHqX8WZ\n",
       "EpcV3Zdj72HXpcaeSyPvsx9Hfovzf9r/Nsrb4rbPg+/WXnuHvwB60mf+dL5wiAAAAABJRU5ErkJg\n",
       "gg==\n",
       "\" style=\"display:inline;vertical-align:middle;\" /></a><br>(see <a class=\"ProveItLink\" href=\"../__pv_it/b94c6febad671eb0e81deba1938fa21752bf8cd20/dependencies.ipynb\">dependencies</a>)<br>"
      ],
      "text/plain": [
       "add_9_0: (9 + 0) = 9"
      ]
     },
     "execution_count": 2,
     "metadata": {},
     "output_type": "execute_result"
    }
   ],
   "source": [
    "%proving add_9_0 presuming []"
   ]
  },
  {
   "cell_type": "code",
   "execution_count": null,
   "metadata": {},
   "outputs": [],
   "source": []
  }
 ],
 "metadata": {
  "kernelspec": {
   "display_name": "Python 3",
   "language": "python",
   "name": "python3"
  }
 },
 "nbformat": 4,
 "nbformat_minor": 0
}
