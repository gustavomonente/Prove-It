{
 "cells": [
  {
   "cell_type": "markdown",
   "metadata": {},
   "source": [
    "Proof of <a class=\"ProveItLink\" href=\"../../../../_context_.ipynb\">proveit</a>.<a class=\"ProveItLink\" href=\"../../../_context_.ipynb\">number</a>.<a class=\"ProveItLink\" href=\"../../_context_.ipynb\">numeral</a>.<a class=\"ProveItLink\" href=\"../_context_.ipynb\">deci</a>.<a class=\"ProveItLink\" href=\"../_theorems_.ipynb#mult_9_8\">mult_9_8</a> theorem\n",
    "========"
   ]
  },
  {
   "cell_type": "code",
   "execution_count": 1,
   "metadata": {},
   "outputs": [],
   "source": [
    "import proveit\n",
    "context = proveit.Context('..') # the theorem's context is in the parent directory"
   ]
  },
  {
   "cell_type": "code",
   "execution_count": 2,
   "metadata": {},
   "outputs": [
    {
     "name": "stdout",
     "output_type": "stream",
     "text": [
      "Beginning proof of mult_9_8\n",
      "Recorded 'presuming' information\n",
      "Presuming previous theorems (applied transitively).\n"
     ]
    },
    {
     "data": {
      "text/html": [
       "<strong id=\"mult_9_8\">mult_9_8:</strong> <a class=\"ProveItLink\" href=\"../__pv_it/1f784e483003f2b0c367186fa5edfbf249caa0c80/expr.ipynb\"><img src=\"data:image/png;base64,iVBORw0KGgoAAAANSUhEUgAAAGEAAAAUBAMAAABvx07iAAAAMFBMVEX////MzMxUVFR2dna6uroQ\n",
       "EBCqqqqIiIgiIiJmZmYyMjJERETu7u6YmJjc3NwAAACgK8IjAAAAAXRSTlMAQObYZgAAAaFJREFU\n",
       "KM99kz0sBEEYhp/bw52z5y7R6O4qoeFkCzkilKKhIFEgEpXCTyc6ldYVmktELjrir1P4yUYi8VMQ\n",
       "Ch3bSJTET0SwZubckdnNfsXszvd+73zzzrwDtZd4YoqgOIdTq7k8NWez3RiOXlXfZFkZM7+XFP9b\n",
       "mCPc2yWoGhowCzrjznXd9BHhF4jnMPoxciVoEs6gTWesgMEyDELUIVEg/FiCOuAEjnVGBloZghaH\n",
       "B7jYIfJdgvr26YRYt0dvxQzbNi1J5qCyoPZXDMO9HoNwzsOoUeOizQFyS7GvMtL1IU4hrqS3r8tY\n",
       "K+Y7VaNnWBDfXcbf5MHKXNXS4oAY5/UWplIaTcOArLqpexKfC7nwFZFXm9CjzoiornmKDLH7z98F\n",
       "GIbUmA8juiNpUt6CmsfS/5obl1TM/+lYVUBCVkxQ60jl8WFSZVuMilNxfpX/j5RYPpQh4pAVvTbM\n",
       "zTLSa3MjvJLRGdMi82BlG6FHzKz834WFmoQTiSV1xr24pW3XfVcu8YmTALPHc37ZtqD3ceiT87pd\n",
       "e1FeDzlBDL9XextQ/wN4+2j3zvmXFgAAAABJRU5ErkJggg==\n",
       "\" style=\"display:inline;vertical-align:middle;\" /></a><br>(see <a class=\"ProveItLink\" href=\"../__pv_it/1f784e483003f2b0c367186fa5edfbf249caa0c80/dependencies.ipynb\">dependencies</a>)<br>"
      ],
      "text/plain": [
       "mult_9_8: (9 * 8) = 72"
      ]
     },
     "execution_count": 2,
     "metadata": {},
     "output_type": "execute_result"
    }
   ],
   "source": [
    "%proving mult_9_8 presuming []"
   ]
  },
  {
   "cell_type": "code",
   "execution_count": null,
   "metadata": {},
   "outputs": [],
   "source": []
  }
 ],
 "metadata": {
  "kernelspec": {
   "display_name": "Python 3",
   "language": "python",
   "name": "python3"
  }
 },
 "nbformat": 4,
 "nbformat_minor": 0
}
