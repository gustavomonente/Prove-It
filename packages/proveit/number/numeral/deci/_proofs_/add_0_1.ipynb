{
 "cells": [
  {
   "cell_type": "markdown",
   "metadata": {},
   "source": [
    "Proof of <a class=\"ProveItLink\" href=\"../../../../_context_.ipynb\">proveit</a>.<a class=\"ProveItLink\" href=\"../../../_context_.ipynb\">number</a>.<a class=\"ProveItLink\" href=\"../../_context_.ipynb\">numeral</a>.<a class=\"ProveItLink\" href=\"../_context_.ipynb\">decimal</a>.<a class=\"ProveItLink\" href=\"../_theorems_.ipynb#add_0_1\">add_0_1</a> theorem\n",
    "========"
   ]
  },
  {
   "cell_type": "code",
   "execution_count": 1,
   "metadata": {},
   "outputs": [],
   "source": [
    "import proveit\n",
    "context = proveit.Context('..') # the theorem's context is in the parent directory"
   ]
  },
  {
   "cell_type": "code",
   "execution_count": 2,
   "metadata": {},
   "outputs": [
    {
     "name": "stdout",
     "output_type": "stream",
     "text": [
      "Beginning proof of add_0_1\n",
      "Recorded 'presuming' information\n",
      "Presuming previous theorems (applied transitively).\n"
     ]
    },
    {
     "data": {
      "text/html": [
       "<strong id=\"add_0_1\">add_0_1:</strong> <a class=\"ProveItLink\" href=\"../__pv_it/3b933394230f51da211a112b8181f15b0bc3f75e0/expr.ipynb\"><img src=\"data:image/png;base64,iVBORw0KGgoAAAANSUhEUgAAAGAAAAAUBAMAAACABSXcAAAAMFBMVEX///9UVFTMzMx2dna6uroQ\n",
       "EBCqqqqIiIgiIiJmZmYyMjJERETu7u6YmJjc3NwAAAC+aOQFAAAAAXRSTlMAQObYZgAAARhJREFU\n",
       "KM9jYOC7wIAd5OEQP83AwFxrhEWC8QF2DesYGJYxnECTZIthYOBZgKEWJMw7gYE3gIEZKpkOoQ4a\n",
       "/gGS5ujqwcIcDxi4BRjY/qBoYOAF8Y9i2AASfsHAwC/AwPINiwYuB2waKhkYzk9gYPmORQPzBGwa\n",
       "9jIwvDdgYMKmgRfsMeZVYDABJtwG1DCBgekzFg1sDdhsCEE4yWrVqtZVqxbCNTB9wKEB6Gk2bJ7G\n",
       "rgHoJO4NEAXoGlgakPwggORpzIhD9jS6DZYMIFuOKqBqYAdp4DRA1wAS9gDSh8uFGFA0cIr+mguM\n",
       "OAU09WBhDpRkl47MOYE1sfKiROcZZI459uS9D0c+wZa8YRkIO+DGkYFwZtF7WEUB5Ixd0I3H7YIA\n",
       "AAAASUVORK5CYII=\n",
       "\" style=\"display:inline;vertical-align:middle;\" /></a><br>(see <a class=\"ProveItLink\" href=\"../__pv_it/3b933394230f51da211a112b8181f15b0bc3f75e0/dependencies.ipynb\">dependencies</a>)<br>"
      ],
      "text/plain": [
       "add_0_1: (0 + 1) = 1"
      ]
     },
     "execution_count": 2,
     "metadata": {},
     "output_type": "execute_result"
    }
   ],
   "source": [
    "%proving add_0_1 presuming []"
   ]
  },
  {
   "cell_type": "code",
   "execution_count": null,
   "metadata": {},
   "outputs": [],
   "source": []
  }
 ],
 "metadata": {
  "kernelspec": {
   "display_name": "Python 3",
   "language": "python",
   "name": "python3"
  }
 },
 "nbformat": 4,
 "nbformat_minor": 0
}
