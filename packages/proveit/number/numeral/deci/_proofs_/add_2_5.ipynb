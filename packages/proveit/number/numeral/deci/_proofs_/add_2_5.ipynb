{
 "cells": [
  {
   "cell_type": "markdown",
   "metadata": {},
   "source": [
    "Proof of <a class=\"ProveItLink\" href=\"../../../../_context_.ipynb\">proveit</a>.<a class=\"ProveItLink\" href=\"../../../_context_.ipynb\">number</a>.<a class=\"ProveItLink\" href=\"../../_context_.ipynb\">numeral</a>.<a class=\"ProveItLink\" href=\"../_context_.ipynb\">decimal</a>.<a class=\"ProveItLink\" href=\"../_theorems_.ipynb#add_2_5\">add_2_5</a> theorem\n",
    "========"
   ]
  },
  {
   "cell_type": "code",
   "execution_count": 1,
   "metadata": {},
   "outputs": [],
   "source": [
    "import proveit\n",
    "context = proveit.Context('..') # the theorem's context is in the parent directory"
   ]
  },
  {
   "cell_type": "code",
   "execution_count": 2,
   "metadata": {},
   "outputs": [
    {
     "name": "stdout",
     "output_type": "stream",
     "text": [
      "Beginning proof of add_2_5\n",
      "Recorded 'presuming' information\n",
      "Presuming previous theorems (applied transitively).\n"
     ]
    },
    {
     "data": {
      "text/html": [
       "<strong id=\"add_2_5\">add_2_5:</strong> <a class=\"ProveItLink\" href=\"../__pv_it/736248db83c982288af61b6cf92b46ea162b9b770/expr.ipynb\"><img src=\"data:image/png;base64,iVBORw0KGgoAAAANSUhEUgAAAGIAAAAUBAMAAACE8PXhAAAAMFBMVEX///9UVFTMzMx2dna6uroQ\n",
       "EBCqqqqIiIgiIiJmZmYyMjJERETu7u6YmJjc3NwAAAC+aOQFAAAAAXRSTlMAQObYZgAAAWpJREFU\n",
       "KM91k79Lw1AQx79pm5o2P8xap4KLm9EMRUHs6KaDk4O4dVPXLCUiOjhVBBdB65pBipOLkkVQdPAP\n",
       "8EcWQRcp4liMl5cW816Sg/e4d+993t1xd4DxhGzZzLHjAbg/ueRt1efCMaRAfDpVs20LuIBmYrHJ\n",
       "XclhaEHrisRbGIYm9A4qPuSV2NYa+php094QiVNAApQAsgvplyMktt+KBEU0C3zQjwNI3xlEtZlK\n",
       "urQNOExTBjzx4tSBYidFqLSumbZscYTqGz+AzlIvekxieoHWPtN2wBEkV0DZFV1ofdpWI63Cfpj3\n",
       "vD3PO48vzwIU+iIx1h0RDngfE4gqlCaU3jCqcgdfHLFGPnyU3EQeZqSPm8PMJ4E2R1CQB6PMkzId\n",
       "RT8HGLv2ocsRn9DXKTtLJLYiyxJVitqFJ4yjmk/2uki8b4B1SUJaycNddrPrXGEfk4dGznzc5A1O\n",
       "utv/Jypb1CDnIndqX7PNf37YWLN1EuqpAAAAAElFTkSuQmCC\n",
       "\" style=\"display:inline;vertical-align:middle;\" /></a><br>(see <a class=\"ProveItLink\" href=\"../__pv_it/736248db83c982288af61b6cf92b46ea162b9b770/dependencies.ipynb\">dependencies</a>)<br>"
      ],
      "text/plain": [
       "add_2_5: (2 + 5) = 7"
      ]
     },
     "execution_count": 2,
     "metadata": {},
     "output_type": "execute_result"
    }
   ],
   "source": [
    "%proving add_2_5 presuming []"
   ]
  },
  {
   "cell_type": "code",
   "execution_count": null,
   "metadata": {},
   "outputs": [],
   "source": []
  }
 ],
 "metadata": {
  "kernelspec": {
   "display_name": "Python 3",
   "language": "python",
   "name": "python3"
  }
 },
 "nbformat": 4,
 "nbformat_minor": 0
}
