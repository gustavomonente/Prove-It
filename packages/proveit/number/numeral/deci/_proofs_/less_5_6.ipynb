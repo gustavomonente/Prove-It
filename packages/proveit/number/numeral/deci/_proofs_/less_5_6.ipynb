{
 "cells": [
  {
   "cell_type": "markdown",
   "metadata": {},
   "source": [
    "Proof of <a class=\"ProveItLink\" href=\"../../../../_context_.ipynb\">proveit</a>.<a class=\"ProveItLink\" href=\"../../../_context_.ipynb\">number</a>.<a class=\"ProveItLink\" href=\"../../_context_.ipynb\">numeral</a>.<a class=\"ProveItLink\" href=\"../_context_.ipynb\">decimal</a>.<a class=\"ProveItLink\" href=\"../_theorems_.ipynb#less_5_6\">less_5_6</a> theorem\n",
    "========"
   ]
  },
  {
   "cell_type": "code",
   "execution_count": 1,
   "metadata": {},
   "outputs": [],
   "source": [
    "import proveit\n",
    "context = proveit.Context('..') # the theorem's context is in the parent directory"
   ]
  },
  {
   "cell_type": "code",
   "execution_count": 2,
   "metadata": {},
   "outputs": [
    {
     "name": "stdout",
     "output_type": "stream",
     "text": [
      "Beginning proof of less_5_6\n",
      "Recorded 'presuming' information\n",
      "Presuming previous theorems (applied transitively).\n"
     ]
    },
    {
     "data": {
      "text/html": [
       "<strong id=\"less_5_6\">less_5_6:</strong> <a class=\"ProveItLink\" href=\"../__pv_it/693e0e3bcf975e494d96c1d46403b3497cf87c710/expr.ipynb\"><img src=\"data:image/png;base64,iVBORw0KGgoAAAANSUhEUgAAADAAAAAOBAMAAACbXIJpAAAAMFBMVEX///8iIiK6urpERETc3NyI\n",
       "iIhUVFR2dnYQEBCqqqpmZmbMzMzu7u6YmJgyMjIAAABZcJOfAAAAAXRSTlMAQObYZgAAALtJREFU\n",
       "GNNj4LvDvZIBHZSGb2Dg+P+/AF38nALXAwa+shAkoXkbQKQVA7MBAxuy0otLQCTTFxCJLBFYA6aY\n",
       "G8ASd6M2QIR5CgMgDP7XpYuA0gdYPkHEF16Aajz/loFxAohhCObmTYCZeP4DA1cPiLHeAaQBIcEv\n",
       "wMD7iSGPgaFeAcRlgRvF+ICB9y9DH1DHAVTL2RpAOhYwMMihOZf7DwNXA4MXA28LmgcZ0hlOTGBg\n",
       "WZ51AD1I2JdnMwAAp24yz9pZtUoAAAAASUVORK5CYII=\n",
       "\" style=\"display:inline;vertical-align:middle;\" /></a><br>(see <a class=\"ProveItLink\" href=\"../__pv_it/693e0e3bcf975e494d96c1d46403b3497cf87c710/dependencies.ipynb\">dependencies</a>)<br>"
      ],
      "text/plain": [
       "less_5_6: 5 < 6"
      ]
     },
     "execution_count": 2,
     "metadata": {},
     "output_type": "execute_result"
    }
   ],
   "source": [
    "%proving less_5_6 presuming []"
   ]
  },
  {
   "cell_type": "code",
   "execution_count": null,
   "metadata": {},
   "outputs": [],
   "source": []
  }
 ],
 "metadata": {
  "kernelspec": {
   "display_name": "Python 3",
   "language": "python",
   "name": "python3"
  }
 },
 "nbformat": 4,
 "nbformat_minor": 0
}
