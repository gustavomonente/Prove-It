{
 "cells": [
  {
   "cell_type": "markdown",
   "metadata": {},
   "source": [
    "Proof of <a class=\"ProveItLink\" href=\"../../../../_context_.ipynb\">proveit</a>.<a class=\"ProveItLink\" href=\"../../../_context_.ipynb\">number</a>.<a class=\"ProveItLink\" href=\"../../_context_.ipynb\">numeral</a>.<a class=\"ProveItLink\" href=\"../_context_.ipynb\">decimal</a>.<a class=\"ProveItLink\" href=\"../_theorems_.ipynb#add_5_5\">add_5_5</a> theorem\n",
    "========"
   ]
  },
  {
   "cell_type": "code",
   "execution_count": 1,
   "metadata": {},
   "outputs": [],
   "source": [
    "import proveit\n",
    "context = proveit.Context('..') # the theorem's context is in the parent directory"
   ]
  },
  {
   "cell_type": "code",
   "execution_count": 2,
   "metadata": {},
   "outputs": [
    {
     "name": "stdout",
     "output_type": "stream",
     "text": [
      "Beginning proof of add_5_5\n",
      "Recorded 'presuming' information\n",
      "Presuming previous theorems (applied transitively).\n"
     ]
    },
    {
     "data": {
      "text/html": [
       "<strong id=\"add_5_5\">add_5_5:</strong> <a class=\"ProveItLink\" href=\"../__pv_it/d3bbb1b335f2e54ac54944045dc0151d4518072a0/expr.ipynb\"><img src=\"data:image/png;base64,iVBORw0KGgoAAAANSUhEUgAAAGwAAAAUBAMAAACaOcVSAAAAMFBMVEX///9UVFTMzMx2dna6uroQ\n",
       "EBCqqqqIiIgiIiJmZmYyMjJERETu7u6YmJjc3NwAAAC+aOQFAAAAAXRSTlMAQObYZgAAAWZJREFU\n",
       "OMtjYOC7wIAdsD1gwANOMzCsPaCZgCoIFpHDroG51ghIrmNgiP//GU0KLHIKU0vqAQaGZQwnHjDw\n",
       "TmBgWCwOc086lAaLMBegaeIRlj/AwBvAwLyAgQMoLwCXgGkDi/AEYNh2/wADtwAD2x+GFww4tTEs\n",
       "waaNX4CB5RtDJZAje30SmjaIiCU2becnMLB8Z9gL5OxheO+Aqg0icgsccKvAYAJM23sDBqbvDG1g\n",
       "LncDqjaISAY2295PYGD6zBAC5nL+AxJWq1a1rlq1kAEuoo/bkUBtjAsYmL+g2AYV0ccRJGzfQI5k\n",
       "XcDA+QdFG1TEA8lvAvAI2MDA+wcUJJwMDBwLULRBRW5hsw0S3cBA5pvAcPUBijaoyGQMbfXAxNXG\n",
       "cFQB7JCXhnPQ4g0isghd18T4lRcYDpcLMYATFwNGKoEkwQbc+YZ3AjLvDEoOKcCT3/bhlDlFIJuS\n",
       "bCAo1HAVCrx4CgUAuIV6cllCWn8AAAAASUVORK5CYII=\n",
       "\" style=\"display:inline;vertical-align:middle;\" /></a><br>(see <a class=\"ProveItLink\" href=\"../__pv_it/d3bbb1b335f2e54ac54944045dc0151d4518072a0/dependencies.ipynb\">dependencies</a>)<br>"
      ],
      "text/plain": [
       "add_5_5: (5 + 5) = 10"
      ]
     },
     "execution_count": 2,
     "metadata": {},
     "output_type": "execute_result"
    }
   ],
   "source": [
    "%proving add_5_5 presuming []"
   ]
  },
  {
   "cell_type": "code",
   "execution_count": null,
   "metadata": {},
   "outputs": [],
   "source": []
  }
 ],
 "metadata": {
  "kernelspec": {
   "display_name": "Python 3",
   "language": "python",
   "name": "python3"
  }
 },
 "nbformat": 4,
 "nbformat_minor": 0
}
