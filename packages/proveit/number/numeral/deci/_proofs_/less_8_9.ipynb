{
 "cells": [
  {
   "cell_type": "markdown",
   "metadata": {},
   "source": [
    "Proof of <a class=\"ProveItLink\" href=\"../../../../_context_.ipynb\">proveit</a>.<a class=\"ProveItLink\" href=\"../../../_context_.ipynb\">number</a>.<a class=\"ProveItLink\" href=\"../../_context_.ipynb\">numeral</a>.<a class=\"ProveItLink\" href=\"../_context_.ipynb\">decimal</a>.<a class=\"ProveItLink\" href=\"../_theorems_.ipynb#less_8_9\">less_8_9</a> theorem\n",
    "========"
   ]
  },
  {
   "cell_type": "code",
   "execution_count": 1,
   "metadata": {},
   "outputs": [],
   "source": [
    "import proveit\n",
    "context = proveit.Context('..') # the theorem's context is in the parent directory"
   ]
  },
  {
   "cell_type": "code",
   "execution_count": 2,
   "metadata": {},
   "outputs": [
    {
     "name": "stdout",
     "output_type": "stream",
     "text": [
      "Beginning proof of less_8_9\n",
      "Recorded 'presuming' information\n",
      "Presuming previous theorems (applied transitively).\n"
     ]
    },
    {
     "data": {
      "text/html": [
       "<strong id=\"less_8_9\">less_8_9:</strong> <a class=\"ProveItLink\" href=\"../__pv_it/461f9e3c5d5e0b74c1766bd5ba6637e7380db2a70/expr.ipynb\"><img src=\"data:image/png;base64,iVBORw0KGgoAAAANSUhEUgAAADEAAAAOBAMAAAB0nulXAAAAMFBMVEX////c3NzMzMwQEBAiIiJE\n",
       "REQyMjKYmJiqqqpUVFS6urpmZmZ2dnaIiIju7u4AAACLnIg+AAAAAXRSTlMAQObYZgAAANRJREFU\n",
       "GNNjYHh7ZxcDGuDbc1IASG1g4GxAk3lcwGjHwMBRwMCXABfjSAKRkxkYZjMw8AQw8DnAJNi9QaYw\n",
       "fGNgOM/AwPX1AU8BVILX5wHYmq8MDPeBSuZ/PwGVeOMLZZgB9SwAGvc/D8J/7Q4zFGhUPtCc7iWf\n",
       "F4C4nBlwd7Be4DjfwMA+geG+HYj7EiHD0H7pvAID8wMGph9grrQ7kpfmP2B4D6Smo7kACDIZGJiB\n",
       "zgtEdTVD8QOmj0D/5DGwX0Dz6bUHz0Be1NyDFKKQ0OE5DRQCAHfTOSiFmBFRAAAAAElFTkSuQmCC\n",
       "\" style=\"display:inline;vertical-align:middle;\" /></a><br>(see <a class=\"ProveItLink\" href=\"../__pv_it/461f9e3c5d5e0b74c1766bd5ba6637e7380db2a70/dependencies.ipynb\">dependencies</a>)<br>"
      ],
      "text/plain": [
       "less_8_9: 8 < 9"
      ]
     },
     "execution_count": 2,
     "metadata": {},
     "output_type": "execute_result"
    }
   ],
   "source": [
    "%proving less_8_9 presuming []"
   ]
  },
  {
   "cell_type": "code",
   "execution_count": null,
   "metadata": {},
   "outputs": [],
   "source": []
  }
 ],
 "metadata": {
  "kernelspec": {
   "display_name": "Python 3",
   "language": "python",
   "name": "python3"
  }
 },
 "nbformat": 4,
 "nbformat_minor": 0
}
