{
 "cells": [
  {
   "cell_type": "markdown",
   "metadata": {},
   "source": [
    "Proof of <a class=\"ProveItLink\" href=\"../../../../_context_.ipynb\">proveit</a>.<a class=\"ProveItLink\" href=\"../../../_context_.ipynb\">number</a>.<a class=\"ProveItLink\" href=\"../../_context_.ipynb\">numeral</a>.<a class=\"ProveItLink\" href=\"../_context_.ipynb\">decimal</a>.<a class=\"ProveItLink\" href=\"../_theorems_.ipynb#add_0_9\">add_0_9</a> theorem\n",
    "========"
   ]
  },
  {
   "cell_type": "code",
   "execution_count": 1,
   "metadata": {},
   "outputs": [],
   "source": [
    "import proveit\n",
    "context = proveit.Context('..') # the theorem's context is in the parent directory"
   ]
  },
  {
   "cell_type": "code",
   "execution_count": 2,
   "metadata": {},
   "outputs": [
    {
     "name": "stdout",
     "output_type": "stream",
     "text": [
      "Beginning proof of add_0_9\n",
      "Recorded 'presuming' information\n",
      "Presuming previous theorems (applied transitively).\n"
     ]
    },
    {
     "data": {
      "text/html": [
       "<strong id=\"add_0_9\">add_0_9:</strong> <a class=\"ProveItLink\" href=\"../__pv_it/668e5555822545427f3f8201e7f87cbb7cade8270/expr.ipynb\"><img src=\"data:image/png;base64,iVBORw0KGgoAAAANSUhEUgAAAGEAAAAUBAMAAABvx07iAAAAMFBMVEX///9UVFTMzMx2dna6uroQ\n",
       "EBCqqqqIiIgiIiJmZmYyMjJERETu7u6YmJjc3NwAAAC+aOQFAAAAAXRSTlMAQObYZgAAAVlJREFU\n",
       "KM91kzFLw1AQx/8mIdQmqUFwcDIfobqUuqSjo0MncXDrpIiLKIhd7BzQD6CLQwb1CygFKRQVzOIq\n",
       "Gd0UBAUt4vW90uauyQ3Je7/L/937kzugkiA/dgo4HgHzaIUz93Q5xUwqP1UYuAIu0efZXlLZhHsu\n",
       "FQrDi+CtwxxlW/q1ACwCNanQuJTC8WEPmOIHCOlIqdD4DZjzYX1lFe4vcJyi3BA2ND4AniNY36zG\n",
       "Bh3WgBmJGhrfAu9VGFxBta8TeMqcGauIxrhDigjGJ1M4u3a4BbstamjcnNxqNY5P4vhimNveCwMY\n",
       "H9K6wk3l3GbOh7HUzVEoTLdybuANpIJKWe2MD3+Myfn0H3zpGn8YOc+ExnVaddALmOKw+0D9OVsV\n",
       "Co3XaHW/Pw+mMOtn9CwHQqFxifVgK7vp5ze7x37sU3ZTK5iPu6LBme72yUTlh5MWJAqn9jUf/wNg\n",
       "k2lyTzA/FwAAAABJRU5ErkJggg==\n",
       "\" style=\"display:inline;vertical-align:middle;\" /></a><br>(see <a class=\"ProveItLink\" href=\"../__pv_it/668e5555822545427f3f8201e7f87cbb7cade8270/dependencies.ipynb\">dependencies</a>)<br>"
      ],
      "text/plain": [
       "add_0_9: (0 + 9) = 9"
      ]
     },
     "execution_count": 2,
     "metadata": {},
     "output_type": "execute_result"
    }
   ],
   "source": [
    "%proving add_0_9 presuming []"
   ]
  },
  {
   "cell_type": "code",
   "execution_count": null,
   "metadata": {},
   "outputs": [],
   "source": []
  }
 ],
 "metadata": {
  "kernelspec": {
   "display_name": "Python 3",
   "language": "python",
   "name": "python3"
  }
 },
 "nbformat": 4,
 "nbformat_minor": 0
}
