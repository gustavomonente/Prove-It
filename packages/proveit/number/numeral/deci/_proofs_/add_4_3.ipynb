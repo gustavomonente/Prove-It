{
 "cells": [
  {
   "cell_type": "markdown",
   "metadata": {},
   "source": [
    "Proof of <a class=\"ProveItLink\" href=\"../../../../_context_.ipynb\">proveit</a>.<a class=\"ProveItLink\" href=\"../../../_context_.ipynb\">number</a>.<a class=\"ProveItLink\" href=\"../../_context_.ipynb\">numeral</a>.<a class=\"ProveItLink\" href=\"../_context_.ipynb\">decimal</a>.<a class=\"ProveItLink\" href=\"../_theorems_.ipynb#add_4_3\">add_4_3</a> theorem\n",
    "========"
   ]
  },
  {
   "cell_type": "code",
   "execution_count": 1,
   "metadata": {},
   "outputs": [],
   "source": [
    "import proveit\n",
    "context = proveit.Context('..') # the theorem's context is in the parent directory"
   ]
  },
  {
   "cell_type": "code",
   "execution_count": 2,
   "metadata": {},
   "outputs": [
    {
     "name": "stdout",
     "output_type": "stream",
     "text": [
      "Beginning proof of add_4_3\n",
      "Recorded 'presuming' information\n",
      "Presuming previous theorems (applied transitively).\n"
     ]
    },
    {
     "data": {
      "text/html": [
       "<strong id=\"add_4_3\">add_4_3:</strong> <a class=\"ProveItLink\" href=\"../__pv_it/7d2fdcdd88c723d56040e2b893aca272b8ca69130/expr.ipynb\"><img src=\"data:image/png;base64,iVBORw0KGgoAAAANSUhEUgAAAGIAAAAUBAMAAACE8PXhAAAAMFBMVEX///9UVFTMzMx2dna6uroQ\n",
       "EBCqqqqIiIgiIiJmZmYyMjJERETu7u6YmJjc3NwAAAC+aOQFAAAAAXRSTlMAQObYZgAAAVhJREFU\n",
       "KM9jYOC7wIAd5OEQZzgNIjRRxfiMrRMYGB+gK9WQNDY2YGBYB2I3okq9ZGD7y8CzAF3H/f///wsw\n",
       "8E4AMtkDoWLpEKo+geEHA4M5uo55DAyMDAwcILvfLkTV4erA8IuB4Si6DqCLjBgYXoCZaDoYQK5i\n",
       "4HLA8DRLAQNDJZDmfYCh4wTQPOYJGDq4gXgvEB9nQNfxuPMA0CCw15lXgQFEty0Qt4Hdh2EHewjQ\n",
       "ZQ3oVvB8ABIgGQWIDqtVq1pXrYJqDj3AwPQBXQf7AoiOwwzodrxjYNifgEUHxwaIqxJnzvw6HUXH\n",
       "/wMgHSwNSP4QALH5BaA+Z2BAi8FoBob+A1CfIwN9kP8tYUqQddwFxwenAbqOfJCIB4hl/V8WRQfL\n",
       "zNnA2ONSQNfxNIEBmkrgIB2ZcwJ7YudFidgzyBxzHPljH66Mg5nakXMUNsD9AIcEzlx7D7swAIHx\n",
       "WsaVlr4AAAAAAElFTkSuQmCC\n",
       "\" style=\"display:inline;vertical-align:middle;\" /></a><br>(see <a class=\"ProveItLink\" href=\"../__pv_it/7d2fdcdd88c723d56040e2b893aca272b8ca69130/dependencies.ipynb\">dependencies</a>)<br>"
      ],
      "text/plain": [
       "add_4_3: (4 + 3) = 7"
      ]
     },
     "execution_count": 2,
     "metadata": {},
     "output_type": "execute_result"
    }
   ],
   "source": [
    "%proving add_4_3 presuming []"
   ]
  },
  {
   "cell_type": "code",
   "execution_count": null,
   "metadata": {},
   "outputs": [],
   "source": []
  }
 ],
 "metadata": {
  "kernelspec": {
   "display_name": "Python 3",
   "language": "python",
   "name": "python3"
  }
 },
 "nbformat": 4,
 "nbformat_minor": 0
}
