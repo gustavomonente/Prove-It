{
 "cells": [
  {
   "cell_type": "markdown",
   "metadata": {},
   "source": [
    "Proof of <a class=\"ProveItLink\" href=\"../../../../_context_.ipynb\">proveit</a>.<a class=\"ProveItLink\" href=\"../../../_context_.ipynb\">number</a>.<a class=\"ProveItLink\" href=\"../../_context_.ipynb\">numeral</a>.<a class=\"ProveItLink\" href=\"../_context_.ipynb\">deci</a>.<a class=\"ProveItLink\" href=\"../_theorems_.ipynb#mult_8_4\">mult_8_4</a> theorem\n",
    "========"
   ]
  },
  {
   "cell_type": "code",
   "execution_count": 1,
   "metadata": {},
   "outputs": [],
   "source": [
    "import proveit\n",
    "context = proveit.Context('..') # the theorem's context is in the parent directory"
   ]
  },
  {
   "cell_type": "code",
   "execution_count": 2,
   "metadata": {},
   "outputs": [
    {
     "name": "stdout",
     "output_type": "stream",
     "text": [
      "Beginning proof of mult_8_4\n",
      "Recorded 'presuming' information\n",
      "Presuming previous theorems (applied transitively).\n"
     ]
    },
    {
     "data": {
      "text/html": [
       "<strong id=\"mult_8_4\">mult_8_4:</strong> <a class=\"ProveItLink\" href=\"../__pv_it/4d8e32e42e8974eed7f1e2654fa30bb5a51fe7d00/expr.ipynb\"><img src=\"data:image/png;base64,iVBORw0KGgoAAAANSUhEUgAAAGEAAAAUBAMAAABvx07iAAAAMFBMVEX////MzMxUVFR2dna6uroQ\n",
       "EBCqqqqIiIgiIiJmZmYyMjJERETu7u6YmJjc3NwAAACgK8IjAAAAAXRSTlMAQObYZgAAAZZJREFU\n",
       "KM99k79Lw1AQx78xaas1KcW/oKMO0kDBUl26CP0DLCg6xLGLFMTBqZ0EJwO6BAXFTRHbXWyDIBYc\n",
       "2lmwBFzqIuIvilLivahNfAm54f24d597d/fuAYkOfLKGMLkFbtb3PApBx4jFWyUycxpk4yJJ63OA\n",
       "TDT3cDQF+YgnHhEd4AriG6DoiHb+mWykgCxPVDT0cQAUyaMFsQ656t5/R8Q1T8zn8YlFIG2hB0hf\n",
       "puimL8aJiOd9+VJUNRPpJDZpkx7MuCddRoi6j2ipbNwxccnc2mfDA7nMCMXJa/aUyYmjf9g2aZRe\n",
       "gS2aS4V3FoXsBAVGRKu+O2ILP3UEzUoKlRXatpnjVYcQnv0PV6RLDDhExITw8etAVoOJJ6CpIcbS\n",
       "o6jaNE3/VWTKOFwqQ6q6eRyzpW0yooSExTKPUE80XHeRYeYeWWZlElTELOSoAGdQyh6iDoypHHHP\n",
       "3qOXyU0CBdpO7Ho6UWy+dBBPcoRk7OdRs+2+0yUB0gppdkUP0mbD/kcjQOfvdu5H+WTcCiOCfm03\n",
       "xP4b3adqb8wwzlQAAAAASUVORK5CYII=\n",
       "\" style=\"display:inline;vertical-align:middle;\" /></a><br>(see <a class=\"ProveItLink\" href=\"../__pv_it/4d8e32e42e8974eed7f1e2654fa30bb5a51fe7d00/dependencies.ipynb\">dependencies</a>)<br>"
      ],
      "text/plain": [
       "mult_8_4: (8 * 4) = 32"
      ]
     },
     "execution_count": 2,
     "metadata": {},
     "output_type": "execute_result"
    }
   ],
   "source": [
    "%proving mult_8_4 presuming []"
   ]
  },
  {
   "cell_type": "code",
   "execution_count": null,
   "metadata": {},
   "outputs": [],
   "source": []
  }
 ],
 "metadata": {
  "kernelspec": {
   "display_name": "Python 3",
   "language": "python",
   "name": "python3"
  }
 },
 "nbformat": 4,
 "nbformat_minor": 0
}
