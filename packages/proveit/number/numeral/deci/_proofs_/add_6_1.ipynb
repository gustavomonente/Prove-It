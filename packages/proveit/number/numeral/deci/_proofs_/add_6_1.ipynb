{
 "cells": [
  {
   "cell_type": "markdown",
   "metadata": {},
   "source": [
    "Proof of <a class=\"ProveItLink\" href=\"../../../../_context_.ipynb\">proveit</a>.<a class=\"ProveItLink\" href=\"../../../_context_.ipynb\">number</a>.<a class=\"ProveItLink\" href=\"../../_context_.ipynb\">numeral</a>.<a class=\"ProveItLink\" href=\"../_context_.ipynb\">decimal</a>.<a class=\"ProveItLink\" href=\"../_theorems_.ipynb#add_6_1\">add_6_1</a> theorem\n",
    "========"
   ]
  },
  {
   "cell_type": "code",
   "execution_count": 1,
   "metadata": {},
   "outputs": [],
   "source": [
    "import proveit\n",
    "context = proveit.Context('..') # the theorem's context is in the parent directory"
   ]
  },
  {
   "cell_type": "code",
   "execution_count": 2,
   "metadata": {},
   "outputs": [
    {
     "name": "stdout",
     "output_type": "stream",
     "text": [
      "Beginning proof of add_6_1\n",
      "Recorded 'presuming' information\n",
      "Presuming previous theorems (applied transitively).\n"
     ]
    },
    {
     "data": {
      "text/html": [
       "<strong id=\"add_6_1\">add_6_1:</strong> <a class=\"ProveItLink\" href=\"../__pv_it/29cd4104393c9850c8a986663678121a5b07c9350/expr.ipynb\"><img src=\"data:image/png;base64,iVBORw0KGgoAAAANSUhEUgAAAGIAAAAUBAMAAACE8PXhAAAAMFBMVEX///9UVFTMzMx2dna6uroQ\n",
       "EBCqqqqIiIgiIiJmZmYyMjJERETu7u6YmJjc3NwAAAC+aOQFAAAAAXRSTlMAQObYZgAAAUxJREFU\n",
       "KM9jYOC7wIAd5OEQZzgNxObFCpgSjA/QRTQkjY0NGBjWMTCccuBcgCrHFsPAwLMAXcf9////CzDw\n",
       "TmBg2MnAvQEilg6hDhr+AdmMrmMe0GIGBo4HDCz/4GJQHQy8IB1H0XUAXWTEwPCCgYE7ALsOLgcM\n",
       "v7EUMDBUMjDwLzKfgk0H8wQMHdxAvJeB4fxaBo4ELDp4wV5nXgUGEN22QNwG1PGBgTMGiw62BnQr\n",
       "eD4AiRCgqxoYeL8AmVarVrWuWrUQroPpA7oO9gUQHRwLGHj/YrEDUwfHBoirGAMgdqDrYGlA8ocA\n",
       "iM0vAPE50x8GzgCcPkcG+iD/WwKxMMNRtLBiB+ngNEDXkQ8S8QBZPFkINT44RX/NBcYgRvJ8CjKY\n",
       "AyWFpiNzTmBP7LwoEXsGmWOOI3/sw5VxMFM7Uo7CCrgf4JDAmWvvYRcGAIlLV6XEHIv0AAAAAElF\n",
       "TkSuQmCC\n",
       "\" style=\"display:inline;vertical-align:middle;\" /></a><br>(see <a class=\"ProveItLink\" href=\"../__pv_it/29cd4104393c9850c8a986663678121a5b07c9350/dependencies.ipynb\">dependencies</a>)<br>"
      ],
      "text/plain": [
       "add_6_1: (6 + 1) = 7"
      ]
     },
     "execution_count": 2,
     "metadata": {},
     "output_type": "execute_result"
    }
   ],
   "source": [
    "%proving add_6_1 presuming []"
   ]
  },
  {
   "cell_type": "code",
   "execution_count": null,
   "metadata": {},
   "outputs": [],
   "source": []
  }
 ],
 "metadata": {
  "kernelspec": {
   "display_name": "Python 3",
   "language": "python",
   "name": "python3"
  }
 },
 "nbformat": 4,
 "nbformat_minor": 0
}
