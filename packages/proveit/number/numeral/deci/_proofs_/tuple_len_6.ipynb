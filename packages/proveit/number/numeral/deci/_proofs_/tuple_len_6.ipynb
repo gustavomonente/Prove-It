{
 "cells": [
  {
   "cell_type": "markdown",
   "metadata": {},
   "source": [
    "Proof of <a class=\"ProveItLink\" href=\"../../../../_context_.ipynb\">proveit</a>.<a class=\"ProveItLink\" href=\"../../../_context_.ipynb\">number</a>.<a class=\"ProveItLink\" href=\"../../_context_.ipynb\">numeral</a>.<a class=\"ProveItLink\" href=\"../_context_.ipynb\">deci</a>.<a class=\"ProveItLink\" href=\"../_theorems_.ipynb#tuple_len_6\">tuple_len_6</a> theorem\n",
    "========"
   ]
  },
  {
   "cell_type": "code",
   "execution_count": 1,
   "metadata": {},
   "outputs": [],
   "source": [
    "import proveit\n",
    "context = proveit.Context('..') # the theorem's context is in the parent directory"
   ]
  },
  {
   "cell_type": "code",
   "execution_count": 2,
   "metadata": {},
   "outputs": [
    {
     "name": "stdout",
     "output_type": "stream",
     "text": [
      "Beginning proof of tuple_len_6\n",
      "Recorded 'presuming' information\n",
      "Presuming previous theorems (applied transitively).\n"
     ]
    },
    {
     "data": {
      "text/html": [
       "<strong id=\"tuple_len_6\">tuple_len_6:</strong> <a class=\"ProveItLink\" href=\"../__pv_it/8b4e43b3ef4f0a4b1a777841454ffbf7a2e560d00/expr.ipynb\"><img src=\"data:image/png;base64,iVBORw0KGgoAAAANSUhEUgAAASMAAAAWBAMAAAB5zue0AAAAMFBMVEX///8QEBCIiIhmZma6urrM\n",
       "zMxUVFQiIiJERETc3Nzu7u6qqqp2dnaYmJgyMjIAAAAcRTyBAAAAAXRSTlMAQObYZgAAA+NJREFU\n",
       "SMe9Vk1oU0EQnibN3+alFRSseIkpelKJlYoFWwMeBEGsF1FRGoseRIUiimhFql6qoAY82IPC04KK\n",
       "iH3oQepBQ+ofivKoB39ALVgFK62i9bdandmfvJdmHyVVXHizszO7876dmZ1dgIm0gAl/39bCv2un\n",
       "wEhRH7Entj6a4d1Nna4bvz5inpdikbVJSOfd0vNTNVNXTy5eXVMHm/WQjMQtCCLc+zQYKAVSRUZC\n",
       "elsgfqWbO1IkCd4fgUtaSKwfGoChizooAm2lQHoEAlIsOc7fAcp/FIm6lqXAiOsghZPQDpDDPWOm\n",
       "GlYpkHZLSKHMOH/HeS1Fohvkj0k6SCu4vdO413sXLpwoBVGkRUI6Md7fcb/JItEdIv06SPvFEjT9\n",
       "rb19bymQfEkJqZpGx3tmiIJQ0VxtqSydKZjjuSYpupioU1GfOh9pjw7S6LpqNGug+U0Ah/LeHyqY\n",
       "tLjRNfA/kCG3JaQjtGAavJc5MsC+Cy+2wlFhbBocE3DLd8NJZeYjkRd5SA+HqNHRYKM2tGLUML+X\n",
       "8CyXracwFd2D3GzRhywJqZUib8NCmSOm+BuEsrCFM6hrELrTFqtVYf9M9KrGS+w3wDwTopgAIfA5\n",
       "Je9dwazr7kG/7MtSEtIU8qMJ24UYz+9P4VpV2ZGRGbGhd44SRj8QbdIF7ivAyxQEcIJhhxzx94JJ\n",
       "BT77oYNUBeyzKkvlogxUqQWoGxbcl7GnQAtpH0KyOaRI3yocd856TXfXx1kmT1AqHJ2JdyI1eRV5\n",
       "8skuDhw6Rmwb4Bf4OWjpqwLdT1fxSRNdOiaX3nBfci+VE+ZDG3H9zgAZ9O2h8wQ7ApPyIjbAuJWY\n",
       "Kqfu9GYjEOzr5uJhyh2BDaIckqPD+PmUj+OF6e1qTSbME+kNVxCXPxkgdOE4Sfxt0MhFVNGC28QF\n",
       "6FclxlBFgMJ6AB6ns2wUuW1wEDizAFgtZxzdXGB10MUPURe/ihbpIAWzbDr+J4tsJQIvs3xpnif+\n",
       "NA34fpTIcY440apUkvfPJtY0p2AXRrtzNk4gxnjQKxhH56vHbYX28BLNbbzWXrs9t9ETFVR4Yrio\n",
       "KxN+hl2lSXAqeWVXogzw01LW6H2hRE1PxsVdI3KXx7TF83EC5xRTlmlaDh1myHyCFGt6ssNE0Xoc\n",
       "hC2WjhxGhKb3tWt4My4OIxJND3JZ3BtSLl+2my/Xw0orsDWLNFLTa660pIjVJCAwXR4SEUL1OMkX\n",
       "/TPejMMxxBE6zBPqkvcTzlW2ebOKqOyi3DeeTzjbm3G4GH3VGWcvWkjhjOYB6qaq64bBTe6Hrq/x\n",
       "bx66MWF0pk73dMzUIqo6G3Jx+F/tD47jMQsaaogcAAAAAElFTkSuQmCC\n",
       "\" style=\"display:inline;vertical-align:middle;\" /></a><br>(see <a class=\"ProveItLink\" href=\"../__pv_it/8b4e43b3ef4f0a4b1a777841454ffbf7a2e560d00/dependencies.ipynb\">dependencies</a>)<br>"
      ],
      "text/plain": [
       "tuple_len_6: forall_{a, b, c, d, e, f} (|(a, b, c, d, e, f)| = 6)"
      ]
     },
     "execution_count": 2,
     "metadata": {},
     "output_type": "execute_result"
    }
   ],
   "source": [
    "%proving tuple_len_6 presuming []"
   ]
  },
  {
   "cell_type": "code",
   "execution_count": null,
   "metadata": {},
   "outputs": [],
   "source": []
  }
 ],
 "metadata": {
  "kernelspec": {
   "display_name": "Python 3",
   "language": "python",
   "name": "python3"
  }
 },
 "nbformat": 4,
 "nbformat_minor": 0
}
