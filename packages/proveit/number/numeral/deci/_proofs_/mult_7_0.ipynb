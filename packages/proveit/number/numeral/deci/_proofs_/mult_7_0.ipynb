{
 "cells": [
  {
   "cell_type": "markdown",
   "metadata": {},
   "source": [
    "Proof of <a class=\"ProveItLink\" href=\"../../../../_context_.ipynb\">proveit</a>.<a class=\"ProveItLink\" href=\"../../../_context_.ipynb\">number</a>.<a class=\"ProveItLink\" href=\"../../_context_.ipynb\">numeral</a>.<a class=\"ProveItLink\" href=\"../_context_.ipynb\">deci</a>.<a class=\"ProveItLink\" href=\"../_theorems_.ipynb#mult_7_0\">mult_7_0</a> theorem\n",
    "========"
   ]
  },
  {
   "cell_type": "code",
   "execution_count": 1,
   "metadata": {},
   "outputs": [],
   "source": [
    "import proveit\n",
    "context = proveit.Context('..') # the theorem's context is in the parent directory"
   ]
  },
  {
   "cell_type": "code",
   "execution_count": 2,
   "metadata": {},
   "outputs": [
    {
     "name": "stdout",
     "output_type": "stream",
     "text": [
      "Beginning proof of mult_7_0\n",
      "Recorded 'presuming' information\n",
      "Presuming previous theorems (applied transitively).\n"
     ]
    },
    {
     "data": {
      "text/html": [
       "<strong id=\"mult_7_0\">mult_7_0:</strong> <a class=\"ProveItLink\" href=\"../__pv_it/714681bd894ee5cd03139307b8794c799cf3af250/expr.ipynb\"><img src=\"data:image/png;base64,iVBORw0KGgoAAAANSUhEUgAAAFcAAAAUBAMAAAAKKrydAAAAMFBMVEX///9UVFTMzMx2dna6uroQ\n",
       "EBCqqqqIiIgiIiJmZmYyMjJERETu7u6YmJjc3NwAAAC+aOQFAAAAAXRSTlMAQObYZgAAATZJREFU\n",
       "KM91k79Lw0AUx79NSkljrvRPyH/QQodgJ7e6CSLO+QtsHe1Uly6CBPwH4qiD1FmULoLgUEG61owd\n",
       "lU6d0vuRu9i7y5tePnzy8t7dC9D6ghEXqIhPONd3vZ56jr5D1DJDYxh4Asnz/E9CPw5uEaS6yzFI\n",
       "giat05Z0CfRpHV0W2MvgAm4o6TMwnONdlwVe83ygKO3nJIZ/pMkCX/F8JmGwpXQEN9l3C/zKclcd\n",
       "X2sDdEYgfML+I4uHEk8ZXYjXGaUlOl00JvuVC3zG8jEni1R9z/m1tsHlG068tphkGBtygadFKuMF\n",
       "+JmjPil7vi8xG9DZ6qdPUuulHNKssSmpFwenQLOryQIfs1nP/40SXdLb9ENNFtjLbKv4Yd9Qktho\n",
       "VLHPbxZmrqhafjMOsgrZ9lut7OoOv8xYWqQaQfAAAAAASUVORK5CYII=\n",
       "\" style=\"display:inline;vertical-align:middle;\" /></a><br>(see <a class=\"ProveItLink\" href=\"../__pv_it/714681bd894ee5cd03139307b8794c799cf3af250/dependencies.ipynb\">dependencies</a>)<br>"
      ],
      "text/plain": [
       "mult_7_0: (7 * 0) = 0"
      ]
     },
     "execution_count": 2,
     "metadata": {},
     "output_type": "execute_result"
    }
   ],
   "source": [
    "%proving mult_7_0 presuming []"
   ]
  },
  {
   "cell_type": "code",
   "execution_count": null,
   "metadata": {},
   "outputs": [],
   "source": []
  }
 ],
 "metadata": {
  "kernelspec": {
   "display_name": "Python 3",
   "language": "python",
   "name": "python3"
  }
 },
 "nbformat": 4,
 "nbformat_minor": 0
}
