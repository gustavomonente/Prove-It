{
 "cells": [
  {
   "cell_type": "markdown",
   "metadata": {},
   "source": [
    "Proof of <a class=\"ProveItLink\" href=\"../../../../_context_.ipynb\">proveit</a>.<a class=\"ProveItLink\" href=\"../../../_context_.ipynb\">number</a>.<a class=\"ProveItLink\" href=\"../../_context_.ipynb\">numeral</a>.<a class=\"ProveItLink\" href=\"../_context_.ipynb\">deci</a>.<a class=\"ProveItLink\" href=\"../_theorems_.ipynb#mult_7_3\">mult_7_3</a> theorem\n",
    "========"
   ]
  },
  {
   "cell_type": "code",
   "execution_count": 1,
   "metadata": {},
   "outputs": [],
   "source": [
    "import proveit\n",
    "context = proveit.Context('..') # the theorem's context is in the parent directory"
   ]
  },
  {
   "cell_type": "code",
   "execution_count": 2,
   "metadata": {},
   "outputs": [
    {
     "name": "stdout",
     "output_type": "stream",
     "text": [
      "Beginning proof of mult_7_3\n",
      "Recorded 'presuming' information\n",
      "Presuming previous theorems (applied transitively).\n"
     ]
    },
    {
     "data": {
      "text/html": [
       "<strong id=\"mult_7_3\">mult_7_3:</strong> <a class=\"ProveItLink\" href=\"../__pv_it/e3d632ccfbc99fa848b2537598d8527f4770bf870/expr.ipynb\"><img src=\"data:image/png;base64,iVBORw0KGgoAAAANSUhEUgAAAGAAAAAUBAMAAACABSXcAAAAMFBMVEX///9UVFTMzMx2dna6uroQ\n",
       "EBCqqqqIiIgiIiJmZmYyMjJERETu7u6YmJjc3NwAAAC+aOQFAAAAAXRSTlMAQObYZgAAAXFJREFU\n",
       "KM99kz9Lw0AYxh+T0DS1CV0Et+YjRDKU6tJF9AO0IuiQ1cVdF+siiIMBp6CCjjqou6jpIBQc6hdQ\n",
       "Ai51EUsdalHi3aVp4iXNO937Pve7e//cAdozEraJDHuCsHtkmqGrmQsWpjx+V9G51UfLK6i+7/dC\n",
       "5R25XxTPeKAF8QvIrQOqDYWcVwqVHQsDoMIDJ0ADrbkfIO9BBMTwPizWMAQeeWAVKHtQCdBl/lJM\n",
       "IymhUOOAaxdlnQFbzL+JaW2D3Ggnu3PoMuCOrsVYa9/2XVIZq3r+ktpFEJf6YMAedTpB6wJFrpO0\n",
       "mokL8qUAqFNnm4U6o2Y2XAifCcBBDDgYn4EP4MFKAWQbsZR6keC7FJCaUQ3nLL4BzRsXLXxHwFrQ\n",
       "Dn7UggE5AKq08/1IeWFzUAwO6JrVWZIXAZbpg1uJFMk5JkMr6PzgfH8AZWZ4Sp9GirUnv27VTotW\n",
       "Mv7DfUos+bz/faCkTXsZQNoXfZ28/Q95w2Z2n/6pmQAAAABJRU5ErkJggg==\n",
       "\" style=\"display:inline;vertical-align:middle;\" /></a><br>(see <a class=\"ProveItLink\" href=\"../__pv_it/e3d632ccfbc99fa848b2537598d8527f4770bf870/dependencies.ipynb\">dependencies</a>)<br>"
      ],
      "text/plain": [
       "mult_7_3: (7 * 3) = 21"
      ]
     },
     "execution_count": 2,
     "metadata": {},
     "output_type": "execute_result"
    }
   ],
   "source": [
    "%proving mult_7_3 presuming []"
   ]
  },
  {
   "cell_type": "code",
   "execution_count": null,
   "metadata": {},
   "outputs": [],
   "source": []
  }
 ],
 "metadata": {
  "kernelspec": {
   "display_name": "Python 3",
   "language": "python",
   "name": "python3"
  }
 },
 "nbformat": 4,
 "nbformat_minor": 0
}
