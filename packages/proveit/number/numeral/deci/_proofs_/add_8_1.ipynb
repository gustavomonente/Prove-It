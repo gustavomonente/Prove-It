{
 "cells": [
  {
   "cell_type": "markdown",
   "metadata": {},
   "source": [
    "Proof of <a class=\"ProveItLink\" href=\"../../../../_context_.ipynb\">proveit</a>.<a class=\"ProveItLink\" href=\"../../../_context_.ipynb\">number</a>.<a class=\"ProveItLink\" href=\"../../_context_.ipynb\">numeral</a>.<a class=\"ProveItLink\" href=\"../_context_.ipynb\">decimal</a>.<a class=\"ProveItLink\" href=\"../_theorems_.ipynb#add_8_1\">add_8_1</a> theorem\n",
    "========"
   ]
  },
  {
   "cell_type": "code",
   "execution_count": 1,
   "metadata": {},
   "outputs": [],
   "source": [
    "import proveit\n",
    "context = proveit.Context('..') # the theorem's context is in the parent directory"
   ]
  },
  {
   "cell_type": "code",
   "execution_count": 2,
   "metadata": {},
   "outputs": [
    {
     "name": "stdout",
     "output_type": "stream",
     "text": [
      "Beginning proof of add_8_1\n",
      "Recorded 'presuming' information\n",
      "Presuming previous theorems (applied transitively).\n"
     ]
    },
    {
     "data": {
      "text/html": [
       "<strong id=\"add_8_1\">add_8_1:</strong> <a class=\"ProveItLink\" href=\"../__pv_it/195090c67efca6d11e246adfcadd4481183a3f1f0/expr.ipynb\"><img src=\"data:image/png;base64,iVBORw0KGgoAAAANSUhEUgAAAGEAAAAUBAMAAABvx07iAAAAMFBMVEX////MzMxUVFR2dna6uroQ\n",
       "EBCqqqqIiIgiIiJmZmYyMjJERETu7u6YmJjc3NwAAACgK8IjAAAAAXRSTlMAQObYZgAAAV1JREFU\n",
       "KM91k79PwlAQx7+lUEEoIf4FLAwORsMgwaUd+QOcjAMbcdBgnHShi85NYDUxjg1R/wFJY0IwamIX\n",
       "V9PR0UUH8Nc9SLDvce+G9t59++m9e/cOKEbg7UATxyMwOuoxQipWI4VuVcSuAB+ppqxZu6RfqMQw\n",
       "KlLc9mFFc7U1e91Vv+hZU4kKsApkY5g3KHgSAVsQQ5UYAw7wBqQnoRkxxLKrlDEBOjGOyV3/3gRD\n",
       "mL6SY4dyuLgV0m+fI+xpcWYwNUHTlq4jnJG31/hwGcLylBz5tuU0sU1yGR06NWwFwWkQXM4J410t\n",
       "ff/QKQkiE8L4ZHIsElRyKHb1TN4aQ6S9RB3lmUA7oMoz1PqBtvKEvYTGD1Cnf/Vht2ViSRC5DYU4\n",
       "CR+obw3yVro9+XRzlfE5dbCkEGZdfJeVbmgrubjnL7stNfYpuahp5mOgG5zF2/4/UbzlY42gndpX\n",
       "PvwHX9timT5llL0AAAAASUVORK5CYII=\n",
       "\" style=\"display:inline;vertical-align:middle;\" /></a><br>(see <a class=\"ProveItLink\" href=\"../__pv_it/195090c67efca6d11e246adfcadd4481183a3f1f0/dependencies.ipynb\">dependencies</a>)<br>"
      ],
      "text/plain": [
       "add_8_1: (8 + 1) = 9"
      ]
     },
     "execution_count": 2,
     "metadata": {},
     "output_type": "execute_result"
    }
   ],
   "source": [
    "%proving add_8_1 presuming []"
   ]
  },
  {
   "cell_type": "code",
   "execution_count": null,
   "metadata": {},
   "outputs": [],
   "source": []
  }
 ],
 "metadata": {
  "kernelspec": {
   "display_name": "Python 3",
   "language": "python",
   "name": "python3"
  }
 },
 "nbformat": 4,
 "nbformat_minor": 0
}
