{
 "cells": [
  {
   "cell_type": "markdown",
   "metadata": {},
   "source": [
    "Proof of <a class=\"ProveItLink\" href=\"../../../../_context_.ipynb\">proveit</a>.<a class=\"ProveItLink\" href=\"../../../_context_.ipynb\">number</a>.<a class=\"ProveItLink\" href=\"../../_context_.ipynb\">numeral</a>.<a class=\"ProveItLink\" href=\"../_context_.ipynb\">deci</a>.<a class=\"ProveItLink\" href=\"../_theorems_.ipynb#mult_1_0\">mult_1_0</a> theorem\n",
    "========"
   ]
  },
  {
   "cell_type": "code",
   "execution_count": 1,
   "metadata": {},
   "outputs": [],
   "source": [
    "import proveit\n",
    "context = proveit.Context('..') # the theorem's context is in the parent directory"
   ]
  },
  {
   "cell_type": "code",
   "execution_count": 2,
   "metadata": {},
   "outputs": [
    {
     "name": "stdout",
     "output_type": "stream",
     "text": [
      "Beginning proof of mult_1_0\n",
      "Recorded 'presuming' information\n",
      "Presuming previous theorems (applied transitively).\n"
     ]
    },
    {
     "data": {
      "text/html": [
       "<strong id=\"mult_1_0\">mult_1_0:</strong> <a class=\"ProveItLink\" href=\"../__pv_it/c8a179b857223c19c0078b8d57424cb193a0fde10/expr.ipynb\"><img src=\"data:image/png;base64,iVBORw0KGgoAAAANSUhEUgAAAFcAAAAUBAMAAAAKKrydAAAAMFBMVEX////MzMxUVFR2dna6uroQ\n",
       "EBCqqqqIiIgiIiJmZmYyMjJERETu7u6YmJjc3NwAAACgK8IjAAAAAXRSTlMAQObYZgAAARhJREFU\n",
       "KM9jYOC7wIAB8hhwgNNofPPLAgxMDzCUgYQZGNYBceoBuCBXAk8fA88CdLVgYQbeCQw8yvoIxVcZ\n",
       "GKyA5qArhghzgGy8j1C8iYEh/wDDUXTFEOEXDKiKPzEw+CcwcDmgKYYIV6Iq5vkJFC1gYJ6AqhYq\n",
       "vBdVMd9nBgb5AgZesA+tVoHASoRwG0IxD0gUaIS8AQNbA6rJUOEQhOLzC+D2MX7A6gwkxRwKEJ/k\n",
       "J2Aohgq3oYXGbjCPpQHh5kUIYTQPQkOfdwHWSLEEMesRijkSeAIZGDgN0BRDhD2ArEnxK+FJj8e8\n",
       "CJhiuATQFEOEOR5gS4onsKdQ3gnYRM1xpOd9WMQwkyiOxA8C3A9wKMaWre5hVwoAMnFe5piF+GEA\n",
       "AAAASUVORK5CYII=\n",
       "\" style=\"display:inline;vertical-align:middle;\" /></a><br>(see <a class=\"ProveItLink\" href=\"../__pv_it/c8a179b857223c19c0078b8d57424cb193a0fde10/dependencies.ipynb\">dependencies</a>)<br>"
      ],
      "text/plain": [
       "mult_1_0: (1 * 0) = 0"
      ]
     },
     "execution_count": 2,
     "metadata": {},
     "output_type": "execute_result"
    }
   ],
   "source": [
    "%proving mult_1_0 presuming []"
   ]
  },
  {
   "cell_type": "code",
   "execution_count": null,
   "metadata": {},
   "outputs": [],
   "source": []
  }
 ],
 "metadata": {
  "kernelspec": {
   "display_name": "Python 3",
   "language": "python",
   "name": "python3"
  }
 },
 "nbformat": 4,
 "nbformat_minor": 0
}
