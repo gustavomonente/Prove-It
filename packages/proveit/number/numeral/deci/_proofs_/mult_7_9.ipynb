{
 "cells": [
  {
   "cell_type": "markdown",
   "metadata": {},
   "source": [
    "Proof of <a class=\"ProveItLink\" href=\"../../../../_context_.ipynb\">proveit</a>.<a class=\"ProveItLink\" href=\"../../../_context_.ipynb\">number</a>.<a class=\"ProveItLink\" href=\"../../_context_.ipynb\">numeral</a>.<a class=\"ProveItLink\" href=\"../_context_.ipynb\">deci</a>.<a class=\"ProveItLink\" href=\"../_theorems_.ipynb#mult_7_9\">mult_7_9</a> theorem\n",
    "========"
   ]
  },
  {
   "cell_type": "code",
   "execution_count": 1,
   "metadata": {},
   "outputs": [],
   "source": [
    "import proveit\n",
    "context = proveit.Context('..') # the theorem's context is in the parent directory"
   ]
  },
  {
   "cell_type": "code",
   "execution_count": 2,
   "metadata": {},
   "outputs": [
    {
     "name": "stdout",
     "output_type": "stream",
     "text": [
      "Beginning proof of mult_7_9\n",
      "Recorded 'presuming' information\n",
      "Presuming previous theorems (applied transitively).\n"
     ]
    },
    {
     "data": {
      "text/html": [
       "<strong id=\"mult_7_9\">mult_7_9:</strong> <a class=\"ProveItLink\" href=\"../__pv_it/f8c988609aba53584017ec00ec286e2e539dde820/expr.ipynb\"><img src=\"data:image/png;base64,iVBORw0KGgoAAAANSUhEUgAAAGEAAAAUBAMAAABvx07iAAAAMFBMVEX///9UVFTMzMx2dna6uroQ\n",
       "EBCqqqqIiIgiIiJmZmYyMjJERETu7u6YmJjc3NwAAAC+aOQFAAAAAXRSTlMAQObYZgAAAZ9JREFU\n",
       "KM99Uz1PAkEQfXwE+bi72FhYeYk/QJCCoAXXGO1skEIt+AMaY2OgARsTtZAELdRGEhst1MbKqNuY\n",
       "EC24xlK5xEYbI7FRjJ67C8fBHrkp7nbnzduZeTsLKDoctgw3e4B3vRyPW1upHDPgMRxhvrVxKPHJ\n",
       "LF2eQTZNs2Ehd7qyCOlIJEjHOMAbAr+AXEKInjhoQUPAMJAQGZESrlDI4gsIGvDRnKoFNYEUzSQy\n",
       "ZlmdUxqDX7ljupP9BygYCGsC47L1Y1Xl+OqiA83THBp8JYHRHM2xQ6pR4JoLYStMSzrXIfPWJ06Z\n",
       "nbDUTR0bwMsmAfsDtVZFvMWVQCqLQFGQygT2aPRAGkgzR567a/zgpdWUCu+HUBXVqM7KmiMtxjb3\n",
       "BtsSjxAnY4sy9HfgNtuqqtGDVgB/0e6j0r6mumYSxmCde7/t8Efi/UO78y4bI9jDArBDkGQqf9pQ\n",
       "ntxT4UJRgeGJShk88fuYoVsl0zVxyV36DavipSdjKvz7hxqfkj5WdRl2udTPm3B7Hzd9fM5p731R\n",
       "TosYbox+r/bZJf4f5/lt8V84ziAAAAAASUVORK5CYII=\n",
       "\" style=\"display:inline;vertical-align:middle;\" /></a><br>(see <a class=\"ProveItLink\" href=\"../__pv_it/f8c988609aba53584017ec00ec286e2e539dde820/dependencies.ipynb\">dependencies</a>)<br>"
      ],
      "text/plain": [
       "mult_7_9: (7 * 9) = 63"
      ]
     },
     "execution_count": 2,
     "metadata": {},
     "output_type": "execute_result"
    }
   ],
   "source": [
    "%proving mult_7_9 presuming []"
   ]
  },
  {
   "cell_type": "code",
   "execution_count": null,
   "metadata": {},
   "outputs": [],
   "source": []
  }
 ],
 "metadata": {
  "kernelspec": {
   "display_name": "Python 3",
   "language": "python",
   "name": "python3"
  }
 },
 "nbformat": 4,
 "nbformat_minor": 0
}
