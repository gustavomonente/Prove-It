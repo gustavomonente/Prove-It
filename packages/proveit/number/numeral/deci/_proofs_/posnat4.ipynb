{
 "cells": [
  {
   "cell_type": "markdown",
   "metadata": {},
   "source": [
    "Proof of <a class=\"ProveItLink\" href=\"../../../../_context_.ipynb\">proveit</a>.<a class=\"ProveItLink\" href=\"../../../_context_.ipynb\">number</a>.<a class=\"ProveItLink\" href=\"../../_context_.ipynb\">numeral</a>.<a class=\"ProveItLink\" href=\"../_context_.ipynb\">decimal</a>.<a class=\"ProveItLink\" href=\"../_theorems_.ipynb#posnat4\">posnat4</a> theorem\n",
    "========"
   ]
  },
  {
   "cell_type": "code",
   "execution_count": 1,
   "metadata": {},
   "outputs": [],
   "source": [
    "import proveit\n",
    "context = proveit.Context('..') # the theorem's context is in the parent directory"
   ]
  },
  {
   "cell_type": "code",
   "execution_count": 2,
   "metadata": {},
   "outputs": [
    {
     "name": "stdout",
     "output_type": "stream",
     "text": [
      "Beginning proof of posnat4\n",
      "Recorded 'presuming' information\n",
      "Presuming previous theorems (applied transitively).\n"
     ]
    },
    {
     "data": {
      "text/html": [
       "<strong id=\"posnat4\">posnat4:</strong> <a class=\"ProveItLink\" href=\"../__pv_it/19e61fb5d88de8da7347db39628420a26ae102700/expr.ipynb\"><img src=\"data:image/png;base64,iVBORw0KGgoAAAANSUhEUgAAAD8AAAAUBAMAAADIGvgZAAAAMFBMVEX///+6urpERESqqqru7u52\n",
       "dnYyMjKYmJjc3NwQEBCIiIhUVFQiIiJmZmbMzMwAAABIfTqqAAAAAXRSTlMAQObYZgAAAOZJREFU\n",
       "KM9jYKAEcBNSwEQ1BW9Rhd0+qTkwRP4UQCg4jaZRnW8DA8sHhm1pmWlpBUA+12w0BXserGJgmICw\n",
       "oj0bKlF05kwCiN6owv2A4QBCQQBUwaMlUIU7XrOkIClgb4AoAArCFDAveI2kwIsBooC7Aa6AIZB9\n",
       "AUJBAFQBIlR2MHA77AMp4ADxmB9AFbxMA4IEiAKWDWwTYMpdGaAKmpBMYHjKB1dgfffuz1sgBiey\n",
       "AnYDBaSAgQQU7wIYfx8QRyArmAShDsP4ySDlCQj5oP/bwbS3ogOYfvMTqJslAUvsiuqcwRQGACQz\n",
       "PNRgfYDDAAAAAElFTkSuQmCC\n",
       "\" style=\"display:inline;vertical-align:middle;\" /></a><br>(see <a class=\"ProveItLink\" href=\"../__pv_it/19e61fb5d88de8da7347db39628420a26ae102700/dependencies.ipynb\">dependencies</a>)<br>"
      ],
      "text/plain": [
       "posnat4: 4 in NaturalsPos"
      ]
     },
     "execution_count": 2,
     "metadata": {},
     "output_type": "execute_result"
    }
   ],
   "source": [
    "%proving posnat4 presuming []"
   ]
  },
  {
   "cell_type": "code",
   "execution_count": null,
   "metadata": {},
   "outputs": [],
   "source": []
  }
 ],
 "metadata": {
  "kernelspec": {
   "display_name": "Python 3",
   "language": "python",
   "name": "python3"
  }
 },
 "nbformat": 4,
 "nbformat_minor": 0
}
