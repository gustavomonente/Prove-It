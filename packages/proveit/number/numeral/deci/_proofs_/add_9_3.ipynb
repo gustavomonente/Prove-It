{
 "cells": [
  {
   "cell_type": "markdown",
   "metadata": {},
   "source": [
    "Proof of <a class=\"ProveItLink\" href=\"../../../../_context_.ipynb\">proveit</a>.<a class=\"ProveItLink\" href=\"../../../_context_.ipynb\">number</a>.<a class=\"ProveItLink\" href=\"../../_context_.ipynb\">numeral</a>.<a class=\"ProveItLink\" href=\"../_context_.ipynb\">decimal</a>.<a class=\"ProveItLink\" href=\"../_theorems_.ipynb#add_9_3\">add_9_3</a> theorem\n",
    "========"
   ]
  },
  {
   "cell_type": "code",
   "execution_count": 1,
   "metadata": {},
   "outputs": [],
   "source": [
    "import proveit\n",
    "context = proveit.Context('..') # the theorem's context is in the parent directory"
   ]
  },
  {
   "cell_type": "code",
   "execution_count": 2,
   "metadata": {},
   "outputs": [
    {
     "name": "stdout",
     "output_type": "stream",
     "text": [
      "Beginning proof of add_9_3\n",
      "Recorded 'presuming' information\n",
      "Presuming previous theorems (applied transitively).\n"
     ]
    },
    {
     "data": {
      "text/html": [
       "<strong id=\"add_9_3\">add_9_3:</strong> <a class=\"ProveItLink\" href=\"../__pv_it/c6f89eee2d9af75dec619c4c33df9720c8fef5950/expr.ipynb\"><img src=\"data:image/png;base64,iVBORw0KGgoAAAANSUhEUgAAAGwAAAAUBAMAAACaOcVSAAAAMFBMVEX////MzMxUVFR2dna6uroQ\n",
       "EBCqqqqIiIgiIiJmZmYyMjJERETu7u6YmJjc3NwAAACgK8IjAAAAAXRSTlMAQObYZgAAAYpJREFU\n",
       "OMuVlL9Lw0AUx7+kpj9ikg79A1pwr0IWdbGjTnboWHEQqZsuDi4aLDofdSo6qLgYVCqITkrWVsFs\n",
       "gosBEZzEgnSKrXcJSC4/Kn6Hd7l3+eS9vHt3gGohWkkbQ3QPtLViwPmqXQPFaKC9f0ntBeQFvJnc\n",
       "ikqwaqETRpZNyAXMlKAQCGUIxHPXvCHVQ1ZHYi0AyWPjJjImxDLSNrKHSHxy2EiFOeVyKNoLZXQI\n",
       "fbwDjy2k+hxGRZPESRQmORC62ABEGu0rgMl1aqaiMKq0g1uwDKVvHlMnD6h9Zo8JwxXxYfMT2KXD\n",
       "DZZ6wSTXS8BKTLRtoMI29inXpcO0YewYxrH3glgF8tFYhngYIDhcNNXGaC8Wo+VwkwSkAodlHReb\n",
       "9f1b4RdLEnywkihV5G0OE1usWl5JQtFywCYrcupMPgeHKZa7b3shbMuEWtcaupuI1izxGOaaV9Qe\n",
       "BanG4qklDQYDnTWXTzWuBfX4c6MQ/+zBPwm1sl93sSudP47pvz/ItjbuUlCGXAo/OuR4pT2WdCEA\n",
       "AAAASUVORK5CYII=\n",
       "\" style=\"display:inline;vertical-align:middle;\" /></a><br>(see <a class=\"ProveItLink\" href=\"../__pv_it/c6f89eee2d9af75dec619c4c33df9720c8fef5950/dependencies.ipynb\">dependencies</a>)<br>"
      ],
      "text/plain": [
       "add_9_3: (9 + 3) = 12"
      ]
     },
     "execution_count": 2,
     "metadata": {},
     "output_type": "execute_result"
    }
   ],
   "source": [
    "%proving add_9_3 presuming []"
   ]
  },
  {
   "cell_type": "code",
   "execution_count": null,
   "metadata": {},
   "outputs": [],
   "source": []
  }
 ],
 "metadata": {
  "kernelspec": {
   "display_name": "Python 3",
   "language": "python",
   "name": "python3"
  }
 },
 "nbformat": 4,
 "nbformat_minor": 0
}
