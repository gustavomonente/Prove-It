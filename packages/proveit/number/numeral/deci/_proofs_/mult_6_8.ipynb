{
 "cells": [
  {
   "cell_type": "markdown",
   "metadata": {},
   "source": [
    "Proof of <a class=\"ProveItLink\" href=\"../../../../_context_.ipynb\">proveit</a>.<a class=\"ProveItLink\" href=\"../../../_context_.ipynb\">number</a>.<a class=\"ProveItLink\" href=\"../../_context_.ipynb\">numeral</a>.<a class=\"ProveItLink\" href=\"../_context_.ipynb\">deci</a>.<a class=\"ProveItLink\" href=\"../_theorems_.ipynb#mult_6_8\">mult_6_8</a> theorem\n",
    "========"
   ]
  },
  {
   "cell_type": "code",
   "execution_count": 1,
   "metadata": {},
   "outputs": [],
   "source": [
    "import proveit\n",
    "context = proveit.Context('..') # the theorem's context is in the parent directory"
   ]
  },
  {
   "cell_type": "code",
   "execution_count": 2,
   "metadata": {},
   "outputs": [
    {
     "name": "stdout",
     "output_type": "stream",
     "text": [
      "Beginning proof of mult_6_8\n",
      "Recorded 'presuming' information\n",
      "Presuming previous theorems (applied transitively).\n"
     ]
    },
    {
     "data": {
      "text/html": [
       "<strong id=\"mult_6_8\">mult_6_8:</strong> <a class=\"ProveItLink\" href=\"../__pv_it/34bd73f1eae745214fcc35bb1bd6b6b2b6ba1f9c0/expr.ipynb\"><img src=\"data:image/png;base64,iVBORw0KGgoAAAANSUhEUgAAAGEAAAAUBAMAAABvx07iAAAAMFBMVEX///9UVFTMzMx2dna6uroQ\n",
       "EBCqqqqIiIgiIiJmZmYyMjJERETu7u6YmJjc3NwAAAC+aOQFAAAAAXRSTlMAQObYZgAAAXxJREFU\n",
       "KM99k79Lw0AUx7+pVfOzDQpCt/4HdgtVxIziYgcXQSS4K4KICA6dXA3YxcnqpqB0FfyRpVB0aMVB\n",
       "cCgZHSvoIv5610vTNhfySAK5z31y917eAZkWhNhEUjzSbW3ne6/6btGG5IvzUi5nwBXwYCvVHlCA\n",
       "KehV0ZBNzmC4wDW0Wg9s0AdoUdHYMQMm+0j/DoBZoAHUBSHzagbsDdBKA2TpBnOAakeNEdUM2B6Q\n",
       "PbMqIZH+nh3ibtRok8HZLdC8hOyEaP7Lo+y6qc9csDjvlnCLDM4OyOhAWWWjDI1VDpfpWY5uCmRw\n",
       "Rle2DOODRpvsw08Y//SQ6kSMdWZwRoZchfHDKw7QYtOOYOgFZnBGu5JKfI0uoqlSC+lyP49Tttfc\n",
       "8cnKPmeUeeobSljgNaq2H2Q+FKNmwIr0Mol6WKtFDy/UKwXRqAVsgRXiaKLfcDnWbWpe+IP37y3O\n",
       "ZD+uoRsJzW64caNW0vm4ixmL6/bhExUNzU8y4k5tO2H+Pyu5Zh6WJfaxAAAAAElFTkSuQmCC\n",
       "\" style=\"display:inline;vertical-align:middle;\" /></a><br>(see <a class=\"ProveItLink\" href=\"../__pv_it/34bd73f1eae745214fcc35bb1bd6b6b2b6ba1f9c0/dependencies.ipynb\">dependencies</a>)<br>"
      ],
      "text/plain": [
       "mult_6_8: (6 * 8) = 48"
      ]
     },
     "execution_count": 2,
     "metadata": {},
     "output_type": "execute_result"
    }
   ],
   "source": [
    "%proving mult_6_8 presuming []"
   ]
  },
  {
   "cell_type": "code",
   "execution_count": null,
   "metadata": {},
   "outputs": [],
   "source": []
  }
 ],
 "metadata": {
  "kernelspec": {
   "display_name": "Python 3",
   "language": "python",
   "name": "python3"
  }
 },
 "nbformat": 4,
 "nbformat_minor": 0
}
