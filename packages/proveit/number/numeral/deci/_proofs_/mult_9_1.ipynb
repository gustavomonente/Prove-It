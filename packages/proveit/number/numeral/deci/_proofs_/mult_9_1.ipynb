{
 "cells": [
  {
   "cell_type": "markdown",
   "metadata": {},
   "source": [
    "Proof of <a class=\"ProveItLink\" href=\"../../../../_context_.ipynb\">proveit</a>.<a class=\"ProveItLink\" href=\"../../../_context_.ipynb\">number</a>.<a class=\"ProveItLink\" href=\"../../_context_.ipynb\">numeral</a>.<a class=\"ProveItLink\" href=\"../_context_.ipynb\">deci</a>.<a class=\"ProveItLink\" href=\"../_theorems_.ipynb#mult_9_1\">mult_9_1</a> theorem\n",
    "========"
   ]
  },
  {
   "cell_type": "code",
   "execution_count": 1,
   "metadata": {},
   "outputs": [],
   "source": [
    "import proveit\n",
    "context = proveit.Context('..') # the theorem's context is in the parent directory"
   ]
  },
  {
   "cell_type": "code",
   "execution_count": 2,
   "metadata": {},
   "outputs": [
    {
     "name": "stdout",
     "output_type": "stream",
     "text": [
      "Beginning proof of mult_9_1\n",
      "Recorded 'presuming' information\n",
      "Presuming previous theorems (applied transitively).\n"
     ]
    },
    {
     "data": {
      "text/html": [
       "<strong id=\"mult_9_1\">mult_9_1:</strong> <a class=\"ProveItLink\" href=\"../__pv_it/1aae5a1230b4b3f38c2804e4a2e3d82f79632a060/expr.ipynb\"><img src=\"data:image/png;base64,iVBORw0KGgoAAAANSUhEUgAAAFcAAAAUBAMAAAAKKrydAAAAMFBMVEX////MzMxUVFR2dna6uroQ\n",
       "EBCqqqqIiIgiIiJmZmYyMjJERETu7u6YmJjc3NwAAACgK8IjAAAAAXRSTlMAQObYZgAAAVJJREFU\n",
       "KM9jYOC7wIAB8hhwgNMMDCeN9VDFmB6gq+KZbAQSW8fAE8vw9ABcmC0GKLUAXfHRC3xAcd4JDEwB\n",
       "DEwTYKKHjP4ASXN0xaoMDJoMDBwPGPgXMDB/gAvzghQfRVf8i4HBnoHhBQPD+Q0M7P9QFXM5oDn5\n",
       "NwND/QOGSgYGVqDJX1AVM09AMzkKaLIDw14GkBu4/qIq5gX70GoVCKwEMYFuWH+BoQ3I2s6Q/A1k\n",
       "F0IxWwOaydwFbPYJDCEgqevCH4HU+QVwxYwf0H2YW2gvAFYMjAWQCg4FPIoZGPQPgJ0B9L0CqptZ\n",
       "GhBuXgSVANJAD/LGMMg/wOZBJHD1ACMwdC0ZGNjX8KxFCLODFHMaoCmuOnAKmOA8gCzjmYg44FT9\n",
       "NRfoLAE0xcyWUxjA0Y0FnMCeQnknYBM1x5Ge92ERw0yiiMSPAbgf4FCMLVvdw64UAEPXWkfo24/S\n",
       "AAAAAElFTkSuQmCC\n",
       "\" style=\"display:inline;vertical-align:middle;\" /></a><br>(see <a class=\"ProveItLink\" href=\"../__pv_it/1aae5a1230b4b3f38c2804e4a2e3d82f79632a060/dependencies.ipynb\">dependencies</a>)<br>"
      ],
      "text/plain": [
       "mult_9_1: (9 * 1) = 9"
      ]
     },
     "execution_count": 2,
     "metadata": {},
     "output_type": "execute_result"
    }
   ],
   "source": [
    "%proving mult_9_1 presuming []"
   ]
  },
  {
   "cell_type": "code",
   "execution_count": null,
   "metadata": {},
   "outputs": [],
   "source": []
  }
 ],
 "metadata": {
  "kernelspec": {
   "display_name": "Python 3",
   "language": "python",
   "name": "python3"
  }
 },
 "nbformat": 4,
 "nbformat_minor": 0
}
