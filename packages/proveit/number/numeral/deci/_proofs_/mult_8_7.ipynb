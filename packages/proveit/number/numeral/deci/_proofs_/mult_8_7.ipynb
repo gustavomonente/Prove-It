{
 "cells": [
  {
   "cell_type": "markdown",
   "metadata": {},
   "source": [
    "Proof of <a class=\"ProveItLink\" href=\"../../../../_context_.ipynb\">proveit</a>.<a class=\"ProveItLink\" href=\"../../../_context_.ipynb\">number</a>.<a class=\"ProveItLink\" href=\"../../_context_.ipynb\">numeral</a>.<a class=\"ProveItLink\" href=\"../_context_.ipynb\">deci</a>.<a class=\"ProveItLink\" href=\"../_theorems_.ipynb#mult_8_7\">mult_8_7</a> theorem\n",
    "========"
   ]
  },
  {
   "cell_type": "code",
   "execution_count": 1,
   "metadata": {},
   "outputs": [],
   "source": [
    "import proveit\n",
    "context = proveit.Context('..') # the theorem's context is in the parent directory"
   ]
  },
  {
   "cell_type": "code",
   "execution_count": 2,
   "metadata": {},
   "outputs": [
    {
     "name": "stdout",
     "output_type": "stream",
     "text": [
      "Beginning proof of mult_8_7\n",
      "Recorded 'presuming' information\n",
      "Presuming previous theorems (applied transitively).\n"
     ]
    },
    {
     "data": {
      "text/html": [
       "<strong id=\"mult_8_7\">mult_8_7:</strong> <a class=\"ProveItLink\" href=\"../__pv_it/ab273936a6998fd9c5e694a3f8e0e561695479f00/expr.ipynb\"><img src=\"data:image/png;base64,iVBORw0KGgoAAAANSUhEUgAAAGEAAAAUBAMAAABvx07iAAAAMFBMVEX////MzMxUVFR2dna6uroQ\n",
       "EBCqqqqIiIgiIiJmZmYyMjJERETu7u6YmJjc3NwAAACgK8IjAAAAAXRSTlMAQObYZgAAAZ1JREFU\n",
       "KM99U79Lw0AU/pq0tbaXWnRxaxeHCmJswaIgduzmIg4i4uqiBQfpop0cOgVqHRxUxEUp0kUQxJJF\n",
       "FBzaP8AfWQTdOqhIReK7g6YhCXncHXfvu+979+7eAfE2XLYBP3sE7rf2reVoOptVJcO5K/oUOADk\n",
       "7SmaXwIapLUe9GqaZoqdOBkh01TBznAIKBrCbfS3HAESkHPFyOwAMQ03QMSA3AAr9yAVoMh3TobE\n",
       "hwVx2Hcg+KvLtvSDRZLMezGuxLREffJv2gbGqMuak/FcSqA7UiKlW46bdRs4R10Rec1ecDsXMnr8\n",
       "k3Xb2ANvWC988VMwQWAdGsJl9zNcMxOo6VgkwRR2V8jVEsIDfAx03Ixj44cuP88ZIR2Bb3JFUhyI\n",
       "NLwY48B8vkIMcbAWeSYsbIjzguV+Hqd8ukwx9DERgzIP0TU3LUZSszK3GTkrSOqoATMkWIdStLBN\n",
       "ekMMqg7GB5RVSCpbAgq0HK72KxFvvMSiCQcjXk3rJJ9JiCrxsAefYlc0L2/O7380PXzuanf8KJfF\n",
       "DD+G16998dn/D6itZzzNIcoeAAAAAElFTkSuQmCC\n",
       "\" style=\"display:inline;vertical-align:middle;\" /></a><br>(see <a class=\"ProveItLink\" href=\"../__pv_it/ab273936a6998fd9c5e694a3f8e0e561695479f00/dependencies.ipynb\">dependencies</a>)<br>"
      ],
      "text/plain": [
       "mult_8_7: (8 * 7) = 56"
      ]
     },
     "execution_count": 2,
     "metadata": {},
     "output_type": "execute_result"
    }
   ],
   "source": [
    "%proving mult_8_7 presuming []"
   ]
  },
  {
   "cell_type": "code",
   "execution_count": null,
   "metadata": {},
   "outputs": [],
   "source": []
  }
 ],
 "metadata": {
  "kernelspec": {
   "display_name": "Python 3",
   "language": "python",
   "name": "python3"
  }
 },
 "nbformat": 4,
 "nbformat_minor": 0
}
