{
 "cells": [
  {
   "cell_type": "markdown",
   "metadata": {},
   "source": [
    "Proof of <a class=\"ProveItLink\" href=\"../../../../_context_.ipynb\">proveit</a>.<a class=\"ProveItLink\" href=\"../../../_context_.ipynb\">number</a>.<a class=\"ProveItLink\" href=\"../../_context_.ipynb\">numeral</a>.<a class=\"ProveItLink\" href=\"../_context_.ipynb\">decimal</a>.<a class=\"ProveItLink\" href=\"../_theorems_.ipynb#add_5_9\">add_5_9</a> theorem\n",
    "========"
   ]
  },
  {
   "cell_type": "code",
   "execution_count": 1,
   "metadata": {},
   "outputs": [],
   "source": [
    "import proveit\n",
    "context = proveit.Context('..') # the theorem's context is in the parent directory"
   ]
  },
  {
   "cell_type": "code",
   "execution_count": 2,
   "metadata": {},
   "outputs": [
    {
     "name": "stdout",
     "output_type": "stream",
     "text": [
      "Beginning proof of add_5_9\n",
      "Recorded 'presuming' information\n",
      "Presuming previous theorems (applied transitively).\n"
     ]
    },
    {
     "data": {
      "text/html": [
       "<strong id=\"add_5_9\">add_5_9:</strong> <a class=\"ProveItLink\" href=\"../__pv_it/a5d510b07a31d1e82d6e28595197a88945c0ed270/expr.ipynb\"><img src=\"data:image/png;base64,iVBORw0KGgoAAAANSUhEUgAAAGwAAAAUBAMAAACaOcVSAAAAMFBMVEX///9UVFTMzMx2dna6uroQ\n",
       "EBCqqqqIiIgiIiJmZmYyMjJERETu7u6YmJjc3NwAAAC+aOQFAAAAAXRSTlMAQObYZgAAAYFJREFU\n",
       "OMuVlD8sA1Ecx7+XRqt1V00MppbE1KmVTliMxjaxISUijFaTGpgPgzQxtHRxUbFZkEsMoiQs0sTi\n",
       "FgmDEP+mUr/3em3u3Z+KX3L37vd7+dzv73tA+Abu4jfQRi6Bsh6fFo0XqRgQ80Li9BwA2fq7aJen\n",
       "8KCj4gTmdPZeARQV2O1txjPfWKQ0JBW+RRsk9/QxLJABOomItDZMrLsA3yvktMPbPcOei8AjXLDr\n",
       "QwR+gJI7liRsidZodUPEOsjbBzDkiikGYSekHONlVMAowtA3cMe/NS5qCzsHYWtc7coJGI4w+wUs\n",
       "uHpLMmycq0HKBMOatqppRd7q6sAbkHDD/P0mJjUysXojY80DO4MZJBUgWLNjISrvmCW3SBObyec/\n",
       "t1hJgtS9goApk0gYZkmcDUCGFzms4tYQsMC+XKZl04Etc2yiEcjT4LbYN6TyrCM7dmo9u0fnZaQe\n",
       "5cMF+5SYI5jzPjeKatWurIpjlK1y6rlT+eOY/vuHJJ6XgtLmUvgF4910qmkWd5cAAAAASUVORK5C\n",
       "YII=\n",
       "\" style=\"display:inline;vertical-align:middle;\" /></a><br>(see <a class=\"ProveItLink\" href=\"../__pv_it/a5d510b07a31d1e82d6e28595197a88945c0ed270/dependencies.ipynb\">dependencies</a>)<br>"
      ],
      "text/plain": [
       "add_5_9: (5 + 9) = 14"
      ]
     },
     "execution_count": 2,
     "metadata": {},
     "output_type": "execute_result"
    }
   ],
   "source": [
    "%proving add_5_9 presuming []"
   ]
  },
  {
   "cell_type": "code",
   "execution_count": null,
   "metadata": {},
   "outputs": [],
   "source": []
  }
 ],
 "metadata": {
  "kernelspec": {
   "display_name": "Python 3",
   "language": "python",
   "name": "python3"
  }
 },
 "nbformat": 4,
 "nbformat_minor": 0
}
