{
 "cells": [
  {
   "cell_type": "markdown",
   "metadata": {},
   "source": [
    "Proof of <a class=\"ProveItLink\" href=\"../../../../_context_.ipynb\">proveit</a>.<a class=\"ProveItLink\" href=\"../../../_context_.ipynb\">number</a>.<a class=\"ProveItLink\" href=\"../../_context_.ipynb\">numeral</a>.<a class=\"ProveItLink\" href=\"../_context_.ipynb\">deci</a>.<a class=\"ProveItLink\" href=\"../_theorems_.ipynb#mult_2_0\">mult_2_0</a> theorem\n",
    "========"
   ]
  },
  {
   "cell_type": "code",
   "execution_count": 1,
   "metadata": {},
   "outputs": [],
   "source": [
    "import proveit\n",
    "context = proveit.Context('..') # the theorem's context is in the parent directory"
   ]
  },
  {
   "cell_type": "code",
   "execution_count": 2,
   "metadata": {},
   "outputs": [
    {
     "name": "stdout",
     "output_type": "stream",
     "text": [
      "Beginning proof of mult_2_0\n",
      "Recorded 'presuming' information\n",
      "Presuming previous theorems (applied transitively).\n"
     ]
    },
    {
     "data": {
      "text/html": [
       "<strong id=\"mult_2_0\">mult_2_0:</strong> <a class=\"ProveItLink\" href=\"../__pv_it/48b9057de916625246c4caba91ec01679ee9a0d60/expr.ipynb\"><img src=\"data:image/png;base64,iVBORw0KGgoAAAANSUhEUgAAAFcAAAAUBAMAAAAKKrydAAAAMFBMVEX///9UVFTMzMx2dna6uroQ\n",
       "EBCqqqqIiIgiIiJmZmYyMjJERETu7u6YmJjc3NwAAAC+aOQFAAAAAXRSTlMAQObYZgAAAUFJREFU\n",
       "KM91k7tKxEAUhv+ou2TjZNlHWPABNmAR3MYt7VbEB8gTuGtpIxHBUmJtE0stBG1FSSMoFgpiqymt\n",
       "xEslLMa5ZshkcqqZjy9zzpk5AbpPqMUWGuIBuD++1PvwuQ8nr2kMA+cgPayOFPQicgiSmi7H8BN0\n",
       "MrTWFX0BhvQcUxbYzdGK4fwpegFMMtyassDvNMUMzreiX8A4gjcyZIF3+NqdSUh+KZ1iPqm6El/z\n",
       "zTiQtPsDDKbweYfDMxanGh9wZ49/zig9YhCgHVdPlniTrTs862Na5pv7tJbBZVl4T3QyiWqyxKyM\n",
       "doIPRa+AtwwLsa75RGPW4BKwW719P7U+ygqtfn/5qGzIjcgGbSIwZIHX6KMURVHKJNymE+P1DVlg\n",
       "N7eN4p19Qv3ERsOGeb6xsPqI6uGvxWLeINt+q1e7+g//t1zAzFy60gAAAABJRU5ErkJggg==\n",
       "\" style=\"display:inline;vertical-align:middle;\" /></a><br>(see <a class=\"ProveItLink\" href=\"../__pv_it/48b9057de916625246c4caba91ec01679ee9a0d60/dependencies.ipynb\">dependencies</a>)<br>"
      ],
      "text/plain": [
       "mult_2_0: (2 * 0) = 0"
      ]
     },
     "execution_count": 2,
     "metadata": {},
     "output_type": "execute_result"
    }
   ],
   "source": [
    "%proving mult_2_0 presuming []"
   ]
  },
  {
   "cell_type": "code",
   "execution_count": null,
   "metadata": {},
   "outputs": [],
   "source": []
  }
 ],
 "metadata": {
  "kernelspec": {
   "display_name": "Python 3",
   "language": "python",
   "name": "python3"
  }
 },
 "nbformat": 4,
 "nbformat_minor": 0
}
