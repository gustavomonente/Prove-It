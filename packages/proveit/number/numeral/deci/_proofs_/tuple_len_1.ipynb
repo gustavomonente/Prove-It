{
 "cells": [
  {
   "cell_type": "markdown",
   "metadata": {},
   "source": [
    "Proof of <a class=\"ProveItLink\" href=\"../../../../_context_.ipynb\">proveit</a>.<a class=\"ProveItLink\" href=\"../../../_context_.ipynb\">number</a>.<a class=\"ProveItLink\" href=\"../../_context_.ipynb\">numeral</a>.<a class=\"ProveItLink\" href=\"../_context_.ipynb\">deci</a>.<a class=\"ProveItLink\" href=\"../_theorems_.ipynb#tuple_len_1\">tuple_len_1</a> theorem\n",
    "========"
   ]
  },
  {
   "cell_type": "code",
   "execution_count": 1,
   "metadata": {},
   "outputs": [],
   "source": [
    "import proveit\n",
    "from proveit import varRange, ExprTuple\n",
    "from proveit._common_ import a, b, i\n",
    "from proveit.core_expr_types.tuples._axioms_ import tuple_len_incr, tuple_len_0\n",
    "from proveit.logic import InSet\n",
    "from proveit.number import Naturals, zero, one\n",
    "from proveit.number. numeral.deci._theorems_ import md_nine_add_one\n",
    "context = proveit.Context('..') # the theorem's context is in the parent directory"
   ]
  },
  {
   "cell_type": "code",
   "execution_count": 2,
   "metadata": {},
   "outputs": [
    {
     "name": "stdout",
     "output_type": "stream",
     "text": [
      "Beginning proof of tuple_len_1\n",
      "Recorded 'presuming' information\n",
      "Presuming previous theorem (applied transitively).\n"
     ]
    },
    {
     "data": {
      "text/html": [
       "<strong id=\"tuple_len_1\">tuple_len_1:</strong> <a class=\"ProveItLink\" href=\"../__pv_it/b486e038cf1e22cca3a1b759bc2f9f5a43deb8f60/expr.ipynb\"><img src=\"data:image/png;base64,iVBORw0KGgoAAAANSUhEUgAAAIEAAAAVBAMAAACTeZA2AAAAMFBMVEX///+IiIgiIiIQEBB2dnbu\n",
       "7u5UVFTMzMzc3NwyMjK6urpmZmaYmJiqqqpEREQAAACk/Np2AAAAAXRSTlMAQObYZgAAAAlwSFlz\n",
       "AAAOxAAADsQBlSsOGwAAAehJREFUOMtjYMAEDUAIAhwMyFQDA1al2ADjBQYvMEMWwucSAFNe2NQu\n",
       "BOIHIMYdZNErUNW8DlABWewmsKuCbWPYBeLMQJJgnQBVHQkT4QzAZkLYzq9AcioDQxnIpw+QZLgP\n",
       "QFXvgYnwbMDqBkaQCachFrBcQJJghqk2gAuZ4jaBOYCBB2glJ7LESqhqrglwoTm4TeAEajdSUjJB\n",
       "ltgCVc0NCshux0Yg6YbbBJYEBobtDAxPkSXmQFWDTOeyYHgP9OVJuAmblEBADWECD9ClbQwcCcgm\n",
       "6EJVMwEDJ/gAwyYg8xJuN/AqMDDwBbAsQJawgqpmBoruD2BQATLrcZvA/gFoigBKQKKYYMfA+gvI\n",
       "XIzbBC5QjE04CCSiD3pAJebCwuECA+sXBp4PKL7ACAeQLxh8gemKVZ39K9SEh1DVfAIMrH8Z+Cbc\n",
       "YGA4h9sNPKDE2AwMSO4N7LAE5AZVDYqniQyHNgAjdSNuE7hB2Y6vgIGBfwEjLEIWwVIU0H1hIhWJ\n",
       "QFkNbCawPf6UCIwxWP6Ob+A7GgBhMhVAVavD1HIo4MzdDE3wzNBQvwYpH4FVn0bOa7hMgGc/rj0X\n",
       "fWDsF1DVfDAH9uEuYVByNRzEQVWzwmSf4jaBLwCruQcYxMGMHqi3IG4Rx6b2BAMDAFGfcipqGgNK\n",
       "AAAAAElFTkSuQmCC\n",
       "\" style=\"display:inline;vertical-align:middle;\" /></a><br>(see <a class=\"ProveItLink\" href=\"../__pv_it/b486e038cf1e22cca3a1b759bc2f9f5a43deb8f60/dependencies.ipynb\">dependencies</a>)<br>"
      ],
      "text/plain": [
       "tuple_len_1: forall_{a} (|(a)| = 1)"
      ]
     },
     "execution_count": 2,
     "metadata": {},
     "output_type": "execute_result"
    }
   ],
   "source": [
    "%proving tuple_len_1 presuming []"
   ]
  },
  {
   "cell_type": "code",
   "execution_count": 3,
   "metadata": {},
   "outputs": [
    {
     "data": {
      "text/html": [
       "<span style=\"font-size:20px;\"> <a class=\"ProveItLink\" href=\"../../../../core_expr_types/tuples/_axioms_.ipynb#tuple_len_incr\" style=\"text-decoration: none\">&#x22A2;&nbsp;</a><a class=\"ProveItLink\" href=\"../../../../core_expr_types/tuples/__pv_it/5da98025e66fce9b7f9b8a2843f5dc185516fb940/expr.ipynb\"><img src=\"data:image/png;base64,iVBORw0KGgoAAAANSUhEUgAAAYgAAAAWBAMAAAAodhaSAAAAMFBMVEX///+IiIgiIiIQEBB2dnbu\n",
       "7u5UVFTMzMzc3NwyMjK6urpmZmaYmJiqqqpEREQAAACk/Np2AAAAAXRSTlMAQObYZgAAAAlwSFlz\n",
       "AAAOxAAADsQBlSsOGwAABHRJREFUWMPNV11oHFUUPtmdYWb/pmssScFWl0CaShBKtViqxVUwyqIy\n",
       "1dYqpdkEfFPKxoAPvmRF7ZOEfSkIxjYaX4qCGymUah62Dz5EadyE1lAVjA/B/mig4IIGBc+Ze+/s\n",
       "zc65W+fNs5zhzJxzds53z8+9A2Ck3iGIS1X8SSE+uSZX12zv3inOUuwweprSCYX4lM4bXrvLbB/4\n",
       "lGCN7n/iQZh1PF1RIVyJC2B0XxhsBESuiKtS73j4ui/sdwUeX9Kj93kQZh1Ldk2GQEJM+gA55bMg\n",
       "XkZOFLe+6dWzvrAnLsEbVFlrPAizjqVMQ4ZAQkz6BzlbZ0EsaPJnSrjPF/bEpQCK1eRBmHUsJVUI\n",
       "yfj90KLrfhbEXk1e1kEE9vvJI4urljI0tlnH0jkVwrnYIKwCXWc4EOmaEcSMYPTYNzDwkGk6GXUs\n",
       "nVchkOCe35HvPlF1g9T4PZjxEQ5EBtvh8DwLYkQwelwAWMdWqXIghO6/0owKgYS5qtfqai0MXhI3\n",
       "5dP2nwCLIYgvBoh2B/iwHIpzLIhFwehxCtwxzKdYFWe4BHePhSCErjs5Z5T0gAoBBftRyBTAXjSP\n",
       "ssAAHhd3P/twG2CFy0SiCW7zIgtiRTB6eL41KxQTJ2/C95af8UMQbV0XekUJB1UIKGRaNBYnes2j\n",
       "rKXPzYtg/wEwxYFIzoJNCIP0PCjTI0BMCUaPXF72buYCbW35utUup1DXjR7mQCTXoDwr15YfZcIg\n",
       "3CbSOGTnDCAg12IzMSeYPGqXcAT0Aewk5eoPb2kgAh0cv/R0tBoWtssucm73ydR9qEJAoVyE76Ab\n",
       "CGHwkazWvykzWjnpPYEdnxq7QznBs6exJcq+Hexqq9aJTzQQpLOHnGiLPl+ZkqH3DKozwS8qBBTK\n",
       "TbiRqwav8aMrAMrgyZbQb8IL2L9LXCa8PBkXORBLgsnjbYT57gqkg212Fer3aiBIl6k7e8HtmFJf\n",
       "waTcQ7x8Vk7yERUCCql8dtgK1sn+i0KuSSG8CwzcEwXx5DW4hdd5DoSFIXzuNjgQ84LJw6sEi5c9\n",
       "s7HxO4I4ktJAkG7bbM8YvDm49a83oS+s2YxM9scqBBTs8adO9YuED+D7EpSsYZCXxKAyoGUm/XHa\n",
       "JmAPu9nhDPN2dpTTycd254X9nraH3ao4RZGJ9HLHUbxc9b72YSsInOq/Hc3dReI2PylPJomKdCJB\n",
       "EIHIRevpatgZxzS9W2CPHUPcjq3siZVHrlYU29o3EC6x0iWrU3juGgS7CEfCywFns5H7EfAm4S9J\n",
       "Q3EYC09yCoQV7epwtl6zNL04N0ZAfMsdAJV9eOiklR2vwjSuX/r+CngdINILy88QCOcQTFadA3Q5\n",
       "BJ9e3t6AXwEmm858GNJ15XRdPnjnLJbs4Whjh+eNF3do+mn+e8IzfSZOS9Y97Oc2bpq/7LCccu3v\n",
       "FOFQwBGuH3JHldOo7hk9l2eB1a/zIGzTx8C65G6foE/oxTjxSLNdyUoa97cWPM6QfiXEp6xY8f6I\n",
       "4j2zPXHvwThvaTBSFv4H9C8GUC3eXXISRAAAAABJRU5ErkJggg==\n",
       "\" style=\"display:inline;vertical-align:middle;\" /></a></span>"
      ],
      "text/plain": [
       "|- forall_{i in Naturals} [forall_{a_{1}, ..a_{_a}.., a_{i}, b} (|(a_{1}, ..a_{_a}.., a_{i}, b)| = (i + 1))]"
      ]
     },
     "execution_count": 3,
     "metadata": {},
     "output_type": "execute_result"
    }
   ],
   "source": [
    "tuple_len_incr"
   ]
  },
  {
   "cell_type": "code",
   "execution_count": 4,
   "metadata": {},
   "outputs": [
    {
     "data": {
      "text/html": [
       "<span style=\"font-size:20px;\"> <a class=\"ProveItLink\" href=\"md_nine_add_one.ipynb\" style=\"text-decoration: none\">&#x22A2;&nbsp;</a><a class=\"ProveItLink\" href=\"../__pv_it/a3042b981301d3ff162638039d440d111805a24a0/expr.ipynb\"><img src=\"data:image/png;base64,iVBORw0KGgoAAAANSUhEUgAABZIAAAAZBAMAAABZdcbkAAAAMFBMVEX///+IiIgiIiIQEBB2dnbu\n",
       "7u5UVFTMzMzc3NwyMjK6urpmZmaYmJiqqqpEREQAAACk/Np2AAAAAXRSTlMAQObYZgAAAAlwSFlz\n",
       "AAAOxAAADsQBlSsOGwAADfFJREFUeNrtXH2QFMUVf3u7c7O7t7u3p8dF69RcFvGj0BI/CBRB3Usd\n",
       "KCrWCCdVKVPckhKxEo0LpyAhFuMXf0TDHYmoVYm6npbGqLiYwy8gLpoAygVWhUSoWKxljMaS40Qu\n",
       "EM7L5b3XPbM7s7MsOyDmj+26mZ150/0+en79+vWbBoCjKD+K6VAt1fLNF0/s3KNq313tQjfFTyfd\n",
       "Tvhm1CgqeuVNShe9QnrlRTe49VWRfPzLqeREsjbC8S/BqBP18XKaV+IpsyUePH7MjHjc4NYHOfr5\n",
       "u1skR+gnnKmis4ISjuNpO1/mYJZBOOKifNQir+rWzjWIsy+oTAduWoRLdUwp9LlRlIzMK1tKiK/1\n",
       "FbdGtDXrzIm59cFrRHvYLZLrUvgTqEbLlZQfEBx5OsPzdkmooATSEtLfgU6z539TrpUFhKJpQLNW\n",
       "mfXqIJ5XOo0eV4qSkYayJYU8AjNcGhHIKmcJTisZyQsp/Mm5RbKawJ/lVXRWUtaRT8xI7/yaJFRQ\n",
       "6qVDqx0HERMnw+WCYguiRNOQQXvOiAYIZFucpxEXipKRhrIQzDgKCbWAL+fOiDcArhactjCSaWD6\n",
       "sq7jZBoO06vorKSMw8MrXnUSWiShgvKCdKX13eAbMHAyWC5ktYBANh0vb98pBJlXc8CkK0W9BcpC\n",
       "OOooJJKA8KA7I/4JsFtjTnT0QQjHSsD9iq+vuvCrdKFF3fUMX9aAkpOECsr35W9HDjwHjGizHMiW\n",
       "WkAgm/7WCckBh1WPO0WfKVDWhmRTSH0agsPujBjCcZJlTnQgEC+IxS5yj2RvLDY6XoVnJXMudVcv\n",
       "Xy6HUFQS7mu9s8SM2ntSPsdQQ6/ywYb1fEGO9ZARMybCzeTmgqNPnab7VzdDz0VbXsL3e18DBhEN\n",
       "bVr4ljNuhvkbTi7wydh0qhOSfYliJdwp2iuVdUAyC6FKHYjkr2xG9Jy//WHSPDj6qrU3QSkjFEJy\n",
       "hjnRgUh+GeBj90jGeSeiVeFZyYKN3JHwhhugNikIwYmw17kbn9Aj+Um3A3tc+Y/WodMFBbsGCDoy\n",
       "H9zNbq5+fVemU/d0w4UpZSyoE+FkeE+v6ybUoFutKYiTselbTkgOseeti3GRqHalKBnJyjogmYVQ\n",
       "pa44qF/YjRh6/yvW3DsJZqRLGeHfj046ypxCIjhYBv6Eo2o+KEdGBth2WVGVjRWm5YoT7kvWlG0U\n",
       "uqlCCBVlWNS12lEqXszTVDxdqkkNLUrOZazsi50XO5sJMzPwovP6fzLU5RNZCkFiEOqjdKFMgoXG\n",
       "xLz7F9nFrEtNiwJjae30IBJT+Orrs+/pwYMEguB4893Jpu86ITlsz5u5VZSMZGUdkMxCqBIheb/d\n",
       "iBhorHkAg+hDUMIIRnKcOdGBSI5ovpRVqQW9Kc930QK5RIw6kiWS0Z9fUYSQcZQm5JjjhzzA26dS\n",
       "4tN/SlPSbOa/4jmW2noK9dWeRYt46P+JDPFQ06llQdRJGcVG7jb2LUrbDQTMOzfME66PTvf8/m0e\n",
       "fA2E0D/+bVHSKkRMpOqjrhV34DnVzMBiWWwuyz2tRgzmpeaTJL9nJeF1DU43hFphNAg11ugNfVOH\n",
       "oFzX+I4RJ/9hkzlDg4re9gHKaHWkl2YgEAflSQYBnPehOfBE06V0+WIsdmEsdoYJMnXAafJ1oSgZ\n",
       "KZXFwTD6AunhrULwafALuxE4ClnzQJpiiBJGKIjkF6LMiY4+GiyFCz61qT8VTkyBNSZkueeLycab\n",
       "fcey4KN6EEZKK6yi24YW4Z9oHNfGPRzSe8iK4KWnc8cnqTcjIyND9ECndQVcD38F2Hk4EM//6Wdc\n",
       "wxcNUoP5J3BXCp9wPZzIdb7NM94+7tyHuOP2joykrULCQvXrXSvuwHNnIZJr5bvVxDMbktFNvSwJ\n",
       "l4ByyBBqXf/noCNlTye/kM3DR5Sze5Pm0/BQX98mQnJ9bve6vr6k8tIHAgTtjw1ZkAdPOPnkYPG6\n",
       "y52iZGReWatPNoXgii88bDcCdWfNKRn9XyhlBP7uzjInOjj1sKFA+lpkFt5QRzloCdkuZ7KB5EAo\n",
       "amvOgJgA9bo5VR2CLqSrSR8j53kGhFD6SggyCHkyjqSY4wHo0A6L5DrqVqrhTcJBuuRZsj7lJw+1\n",
       "CKZxhmA3nZ8W8VAaUgzLOpsQieQJrhV34GlBsldUvm+ueCYT+vw9AP0Uuql9OGkjAf1LaMBhYmef\n",
       "tc2WTs6QY5S8pM9XDgWld0bvpQ5LNKBPJlnvpVQCgc+vKduS+QGRO2x0URAnu1WUjMwr6xBdcBYu\n",
       "B6FBuxEPoE/OimFJPrmEEf0A27TC6AKmr8Sgc938Js/GJHhoGg7f8bto3Lf2xbX8/W+rv9mJbCDZ\n",
       "txM1VdY1ss/3iIR/N/gPgjdravxnBgQGcfRYGcWA+NkOHrZ3aBwn++jHs59Sgti0PlWEZEMCFZ7X\n",
       "qUaXDhebSA5pftER59Dpmg5G8vPE1/v0DhHTTrEJEUhWv2jSXCruwNOC5KUNFJ0svFE+E++OXumH\n",
       "IrelpgVBGYZI9/uOAMnCv8L6lk0NiVPmSSSnMCRlbcdL7dD2AWXYYyAZMAQMcpyc9CISU9+D4MHb\n",
       "A2kfYqlWrgNk062OK76cQxLOjaJkpKmsfcVnCAmNowjEZgQimTWnOPkAlDLiTYBXBSc6CMl3Y83Q\n",
       "ExlvwpOA2Sw0OWVX3vnO+eVM3YFsxo3YbzAjuZRf7GyhUjeog+LtGyZzWtGzgs8KA+LGWVmKdW4T\n",
       "3412iYhgv5iUMDLqsXWUIYEQJXoBg2MknWMiGQcVCzuZuyzKSH7q3pupky+7TgA1ZRMS5AaeMZ60\n",
       "a8WLePYUIvkErRlg1SvGM6El+TmOppeIHQNEWAFvpONSqEhQyItANDTWB29PRng2CUptJpLmC88Y\n",
       "+Jwq4l9tTjngM9NfnSm4HH6tK6eDOgl8+hB4Dmz2dfsQvhFd1OemAKudkFxXvLHInaJkJCvrgGQW\n",
       "wpXOhZlJuxG4ZGXNAxNhRtzBCGyIfzVZZYLgRAchOYKj894TcPjUxcV3y3CyzpMzIXtRRnUiG0iG\n",
       "T2hupvXXck1+9lycJUB4o3lA0K4RAjqR3ldEtE+xq/8r4CSNAKc67xYye9W127IQGGXtTJZQ+N1T\n",
       "fYSRfH4Bkhcw1hXyd2G9QybTKT7KKAfNcVYoBFZo7GpC3W4VL+ZpKJ4TXuktWEVeW8pj9Ykz4326\n",
       "2PlAhFmNt89JSqGcix0rL5Q5ly37lv+aFgx0epGCAaGyer24gLYrU1xxLESy0Mxyg3svyYL/J206\n",
       "PLihCZ8u670cFp46aloUbrg8eFXDFbK+aApnWZFc+9G+Oci6KB/jUlEykpW1ILlACFdqb5hnN2LV\n",
       "l3uE5oGbGn4MDkagPErItdJCnDjRYe7qnINIqcnCW/39/dlwUol3G5D1D2FUWkzOI1nEk02g9mii\n",
       "nnqDxrNpfpImkPMbx+nfn2FAhGnlQA3rCZehhEg3BClkVXYhSMIrrJ1JEowJ6dH+/j2wcC5HF8N5\n",
       "JPtlWnwp2nc/MJKzvArBeZ3zrhvtQmBnlBcydQm3ihfzNBTPCS/9knqxmEh2dRgIOZNeIoUFK2Vq\n",
       "9ExzZdVSYmVQG1XHUVILTH8ZLZfaKbsbBy1qsflkLncVV3SpaE3SumosElLOiEC6vBF3ycNE8gQ4\n",
       "DbpUuFU4X3g+aiSOQ7kevwPZgmR0eZ9fCzWaqMezkGXh5E+oeDMziZ4M1LYr9yNU6pP+gxzTcvgY\n",
       "iYsvSbyF4zb6zNlpC5NJQmh932vbk6CKhMBU24oPlsHtWHECumCAW9ten85rsC6do1z+FvYPuxCV\n",
       "V9D1mjfrVvFinp2F0cUgxvHte8B4Jgrtd+HNOy2c2yrYTlMSIN6kJ+cfSB5jJNcZ2fPnCqkO24Rc\n",
       "KhoqBGIwUyzkWCB5nTwMJPsH0Ctv9YnvdaEUeOTHknYcZQuKyXafPFE9lCEki899Ipn1DDYmk5U4\n",
       "LF+0RGvH56HxeAP+QXziQ154sxEWUDVvhkThFDYXaZ/DQ7yew8t280QSgqfBJNoi+7Gx4vNFg93E\n",
       "8V1q7f9k0Rq8GQNvoiz01xrexNGTt6PHV1uo2mS7EFKU9NrqTnFHnpYV3xhai3goJOVncslHI+VT\n",
       "fLdpufcqopcDSBe+hlAuDooBB6XsJ5wzyoPAcQ+jw75I14p+WnI2yB2RETWJ8vNKTnIzkBxMwMOw\n",
       "bBTCgeKbh+SLQA+TDei1m4rIdiQ/+5dGRjLXY0D4WtdgY/+0oShOr5eOjOCN2tqk01y79d/ZzqzS\n",
       "2gZ44+FqPA9h7dWNVOHJxiQDAi87dXUinS4WEj5RumvREy5PSiRDW7OGz+55bDW29o6MDODNrQ03\n",
       "EsfQ3pvxpr0xTjeNXI0mR6sQUhT1Wh13p7gjTwuSl/CXmxBCmZ8VrFgxvvakYG7hEhZIqPP7egoC\n",
       "un+OBiEzwir3hld9+WlZFDhuUnDYe+Ba0dmlJAsh5YzAoF8vZwNxYm5F//qpvb/fkt/OOpNtSBYj\n",
       "SJP1wt2WxuEju7HSduYv81ct4bgXzVeu7v8sD5mwC1nyhhXN5g2sVPFwCcVNJBsqWlF1P4EhYyMc\n",
       "/xJyhMnmwzWpUFF/Kae7+ZgZsdngVu7f8YUPuzvIgmT1RGOZGmyxNN5xZDcWGgNih8lbXCkJT6r2\n",
       "JIPWY3lWmawdeSQXWlih4o40JyRXy9dfyiH58BNAqf2qK7TCxpkju7HQKMcG+RHtNLaNdFfGhSzJ\n",
       "b3HWZmFlijvRWPEqkv//kHz48qsS/9+Fmjlave44gp2iPz9aIeqOr1FxvQqu41g8scn/A4e4fsLF\n",
       "tH+7AAAAAElFTkSuQmCC\n",
       "\" style=\"display:inline;vertical-align:middle;\" /></a></span>"
      ],
      "text/plain": [
       "|- forall_{m in NaturalsPos, k in NaturalsPos} [forall_{a_{1} in {0, 1, 2, 3, 4, 5, 6, 7, 8, 9}, ..a_{_a} in {0, 1, 2, 3, 4, 5, 6, 7, 8, 9}.., a_{m} in {0, 1, 2, 3, 4, 5, 6, 7, 8, 9}, b in {0, 1, 2, 3, 4, 5, 6, 7, 8, 9} | b < 9} ((\\# (a_{1}..a_{_a}..a_{m}\\sim b\\sim 9\\sim ..k repeats..\\sim 9) + 1) = \\# (a_{1}..a_{_a}..a_{m}\\sim (b + 1)\\sim 0\\sim ..k repeats..\\sim 0))]"
      ]
     },
     "execution_count": 4,
     "metadata": {},
     "output_type": "execute_result"
    }
   ],
   "source": [
    "md_nine_add_one"
   ]
  },
  {
   "cell_type": "code",
   "execution_count": 5,
   "metadata": {},
   "outputs": [
    {
     "data": {
      "text/html": [
       "<span style=\"font-size:20px;\"> <a class=\"ProveItLink\" href=\"../../../../core_expr_types/tuples/_axioms_.ipynb#tuple_len_0\" style=\"text-decoration: none\">&#x22A2;&nbsp;</a><a class=\"ProveItLink\" href=\"../../../../core_expr_types/tuples/__pv_it/384807160ac1057ba1750057d37a0062a1820e5a0/expr.ipynb\"><img src=\"data:image/png;base64,iVBORw0KGgoAAAANSUhEUgAAAD8AAAAVBAMAAAADRiu8AAAAMFBMVEX///9UVFREREQiIiIQEBCY\n",
       "mJhmZmYyMjLu7u6qqqrMzMyIiIi6urp2dnbc3NwAAABm9RoHAAAAAXRSTlMAQObYZgAAAAlwSFlz\n",
       "AAAOxAAADsQBlSsOGwAAAPVJREFUKM9jeMAABA/4wCQDNnAHiLkn8GyAMrErmMvAsBObgrvbHoBF\n",
       "OQoYGNgbMBWwT+CwA4uyBTAwsCZgKghmYLgEFmUB8TwwFSgyMMxvAIkeB/FKMRV8Y2A4PwEkmgvi\n",
       "XcRQwAFSEAASLQVxw6EKko1BwBDI4vvLwLB+A0jUEiQxGcMEsIILIFEfEHc9phVABec3wBUcwerI\n",
       "+WBHViJbgXADgxIDQzzYm9ogXhCmCSEMDOlg0YsgXjamAuYJHF5g0cMgnh2mAo7bGxeARZmBFJ8B\n",
       "nugGRRQownCnBz0Ghkd4E0wTA4MGTgW7QIEawPoAysQAAFSFU7mW6tUXAAAAAElFTkSuQmCC\n",
       "\" style=\"display:inline;vertical-align:middle;\" /></a></span>"
      ],
      "text/plain": [
       "|- |()| = 0"
      ]
     },
     "execution_count": 5,
     "metadata": {},
     "output_type": "execute_result"
    }
   ],
   "source": [
    "tuple_len_0"
   ]
  },
  {
   "cell_type": "code",
   "execution_count": 6,
   "metadata": {},
   "outputs": [
    {
     "data": {
      "text/html": [
       "<a class=\"ProveItLink\" href=\"../../__pv_it/bcb6bc33e5975ec2290a3272bf7802d26ab8421d0/expr.ipynb\"><img src=\"data:image/png;base64,iVBORw0KGgoAAAANSUhEUgAAAAoAAAAOBAMAAADkjZCYAAAAMFBMVEX///8QEBDMzMy6urpUVFRE\n",
       "RESYmJgiIiLu7u6qqqoyMjLc3NxmZmaIiIh2dnYAAABjjC/7AAAAAXRSTlMAQObYZgAAAAlwSFlz\n",
       "AAAOxAAADsQBlSsOGwAAAFdJREFUCNdjYOB7e5qBgWElQ/sGBrYCBr4ABlYHBs4fDPwHGJh/MvQD\n",
       "yW8M+x8wMP0Fk/8Y+h8wMP8FyXL+ZGANYGD7wcAmwMCzgIGhkqFRgYGh764TAwAMEBgt0IBciQAA\n",
       "AABJRU5ErkJggg==\n",
       "\" style=\"display:inline;vertical-align:middle;\" /></a>"
      ],
      "text/plain": [
       "0"
      ]
     },
     "execution_count": 6,
     "metadata": {},
     "output_type": "execute_result"
    }
   ],
   "source": [
    "tuple_len_0.rhs"
   ]
  },
  {
   "cell_type": "code",
   "execution_count": 7,
   "metadata": {},
   "outputs": [
    {
     "ename": "AssertionError",
     "evalue": "",
     "output_type": "error",
     "traceback": [
      "\u001b[1;31m---------------------------------------------------------------------------\u001b[0m",
      "\u001b[1;31mAssertionError\u001b[0m                            Traceback (most recent call last)",
      "\u001b[1;32m<ipython-input-7-d24f0a8901b5>\u001b[0m in \u001b[0;36m<module>\u001b[1;34m\u001b[0m\n\u001b[0;32m      1\u001b[0m tuple_len_incr.specialize({i: tuple_len_0.rhs, ExprTuple(varRange(a, one, zero)):tuple_len_0.lhs.operands[0], b:a}, \n\u001b[1;32m----> 2\u001b[1;33m                           assumptions=[InSet(zero, Naturals)])\n\u001b[0m",
      "\u001b[1;32mc:\\users\\joaqu\\prove-it\\packages\\proveit\\_core_\\known_truth.py\u001b[0m in \u001b[0;36mspecialize\u001b[1;34m(self, repl_map, relabel_map, assumptions)\u001b[0m\n\u001b[0;32m    735\u001b[0m         \u001b[1;32mif\u001b[0m \u001b[0mrelabel_map\u001b[0m \u001b[1;32mis\u001b[0m \u001b[1;32mnot\u001b[0m \u001b[1;32mNone\u001b[0m\u001b[1;33m:\u001b[0m\u001b[1;33m\u001b[0m\u001b[1;33m\u001b[0m\u001b[0m\n\u001b[0;32m    736\u001b[0m             \u001b[0mrepl_map\u001b[0m\u001b[1;33m.\u001b[0m\u001b[0mupdate\u001b[0m\u001b[1;33m(\u001b[0m\u001b[0mrelabel_map\u001b[0m\u001b[1;33m)\u001b[0m\u001b[1;33m\u001b[0m\u001b[1;33m\u001b[0m\u001b[0m\n\u001b[1;32m--> 737\u001b[1;33m         \u001b[1;32mreturn\u001b[0m \u001b[0mself\u001b[0m\u001b[1;33m.\u001b[0m\u001b[0minstantiate\u001b[0m\u001b[1;33m(\u001b[0m\u001b[0mrepl_map\u001b[0m\u001b[1;33m,\u001b[0m \u001b[0massumptions\u001b[0m\u001b[1;33m=\u001b[0m\u001b[0massumptions\u001b[0m\u001b[1;33m)\u001b[0m\u001b[1;33m\u001b[0m\u001b[1;33m\u001b[0m\u001b[0m\n\u001b[0m\u001b[0;32m    738\u001b[0m \u001b[1;33m\u001b[0m\u001b[0m\n\u001b[0;32m    739\u001b[0m \u001b[1;33m\u001b[0m\u001b[0m\n",
      "\u001b[1;32mc:\\users\\joaqu\\prove-it\\packages\\proveit\\_core_\\known_truth.py\u001b[0m in \u001b[0;36minstantiate\u001b[1;34m(self, repl_map, num_forall_eliminations, assumptions)\u001b[0m\n\u001b[0;32m    893\u001b[0m                               \u001b[0mrepl_map\u001b[0m\u001b[1;33m=\u001b[0m\u001b[0mprocessed_repl_map\u001b[0m\u001b[1;33m,\u001b[0m\u001b[1;33m\u001b[0m\u001b[1;33m\u001b[0m\u001b[0m\n\u001b[0;32m    894\u001b[0m                               \u001b[0mequiv_alt_expansions\u001b[0m\u001b[1;33m=\u001b[0m\u001b[0mequiv_alt_expansions\u001b[0m\u001b[1;33m,\u001b[0m\u001b[1;33m\u001b[0m\u001b[1;33m\u001b[0m\u001b[0m\n\u001b[1;32m--> 895\u001b[1;33m                               assumptions=assumptions))\n\u001b[0m\u001b[0;32m    896\u001b[0m \u001b[1;33m\u001b[0m\u001b[0m\n\u001b[0;32m    897\u001b[0m     def generalize(self, forall_var_or_vars_or_var_lists, \n",
      "\u001b[1;32mc:\\users\\joaqu\\prove-it\\packages\\proveit\\_core_\\proof.py\u001b[0m in \u001b[0;36m__init__\u001b[1;34m(self, orig_known_truth, num_forall_eliminations, repl_map, equiv_alt_expansions, assumptions)\u001b[0m\n\u001b[0;32m    943\u001b[0m                         \u001b[0mparameters\u001b[0m\u001b[1;33m,\u001b[0m \u001b[0mrepl_map\u001b[0m\u001b[1;33m,\u001b[0m \u001b[0mequiv_alt_expansions\u001b[0m\u001b[1;33m,\u001b[0m\u001b[1;33m\u001b[0m\u001b[1;33m\u001b[0m\u001b[0m\n\u001b[0;32m    944\u001b[0m                         \u001b[0massumptions\u001b[0m\u001b[1;33m,\u001b[0m \u001b[0mrequirements\u001b[0m\u001b[1;33m,\u001b[0m\u001b[1;33m\u001b[0m\u001b[1;33m\u001b[0m\u001b[0m\n\u001b[1;32m--> 945\u001b[1;33m                         equality_repl_requirements)\n\u001b[0m\u001b[0;32m    946\u001b[0m \u001b[1;33m\u001b[0m\u001b[0m\n\u001b[0;32m    947\u001b[0m             \u001b[1;31m# Remove duplicates in the requirements.\u001b[0m\u001b[1;33m\u001b[0m\u001b[1;33m\u001b[0m\u001b[1;33m\u001b[0m\u001b[0m\n",
      "\u001b[1;32mc:\\users\\joaqu\\prove-it\\packages\\proveit\\_core_\\proof.py\u001b[0m in \u001b[0;36m_instantiated_expr\u001b[1;34m(original_known_truth, num_forall_eliminations, instantiation_params, repl_map, equiv_alt_expansions, assumptions, requirements, equality_repl_requirements)\u001b[0m\n\u001b[0;32m   1214\u001b[0m \u001b[1;33m\u001b[0m\u001b[0m\n\u001b[0;32m   1215\u001b[0m                 \u001b[1;31m# Instantiate the condition.\u001b[0m\u001b[1;33m\u001b[0m\u001b[1;33m\u001b[0m\u001b[1;33m\u001b[0m\u001b[0m\n\u001b[1;32m-> 1216\u001b[1;33m                 \u001b[0msubbed_cond\u001b[0m \u001b[1;33m=\u001b[0m \u001b[0minstantiate\u001b[0m\u001b[1;33m(\u001b[0m\u001b[0mcondition\u001b[0m\u001b[1;33m)\u001b[0m\u001b[1;33m\u001b[0m\u001b[1;33m\u001b[0m\u001b[0m\n\u001b[0m\u001b[0;32m   1217\u001b[0m                 \u001b[1;32mif\u001b[0m \u001b[0misinstance\u001b[0m\u001b[1;33m(\u001b[0m\u001b[0msubbed_cond\u001b[0m\u001b[1;33m,\u001b[0m \u001b[0mAnd\u001b[0m\u001b[1;33m)\u001b[0m\u001b[1;33m:\u001b[0m\u001b[1;33m\u001b[0m\u001b[1;33m\u001b[0m\u001b[0m\n\u001b[0;32m   1218\u001b[0m                     \u001b[1;31m# It is important to deal with a conjunction\u001b[0m\u001b[1;33m\u001b[0m\u001b[1;33m\u001b[0m\u001b[1;33m\u001b[0m\u001b[0m\n",
      "\u001b[1;32mc:\\users\\joaqu\\prove-it\\packages\\proveit\\_core_\\proof.py\u001b[0m in \u001b[0;36minstantiate\u001b[1;34m(expr, exclusion)\u001b[0m\n\u001b[0;32m   1162\u001b[0m                     \u001b[0mequiv_alt_expansions\u001b[0m\u001b[1;33m=\u001b[0m\u001b[0mequiv_alt_expansions\u001b[0m\u001b[1;33m,\u001b[0m\u001b[1;33m\u001b[0m\u001b[1;33m\u001b[0m\u001b[0m\n\u001b[0;32m   1163\u001b[0m                     \u001b[0massumptions\u001b[0m\u001b[1;33m=\u001b[0m\u001b[0massumptions\u001b[0m\u001b[1;33m,\u001b[0m \u001b[0mrequirements\u001b[0m\u001b[1;33m=\u001b[0m\u001b[0mrequirements\u001b[0m\u001b[1;33m,\u001b[0m\u001b[1;33m\u001b[0m\u001b[1;33m\u001b[0m\u001b[0m\n\u001b[1;32m-> 1164\u001b[1;33m                     equality_repl_requirements=equality_repl_requirements)    \n\u001b[0m\u001b[0;32m   1165\u001b[0m \u001b[1;33m\u001b[0m\u001b[0m\n\u001b[0;32m   1166\u001b[0m         \u001b[0mremaining_forall_eliminations\u001b[0m \u001b[1;33m=\u001b[0m \u001b[0mnum_forall_eliminations\u001b[0m\u001b[1;33m\u001b[0m\u001b[1;33m\u001b[0m\u001b[0m\n",
      "\u001b[1;32mc:\\users\\joaqu\\prove-it\\packages\\proveit\\_core_\\expression\\lambda_expr\\lambda_expr.py\u001b[0m in \u001b[0;36m_apply\u001b[1;34m(parameters, body, equiv_alt_expansions, allow_relabeling, assumptions, requirements, equality_repl_requirements, parameter_vars, *operands)\u001b[0m\n\u001b[0;32m    514\u001b[0m         extract_complete_param_replacements(\n\u001b[0;32m    515\u001b[0m                 \u001b[0mparameters\u001b[0m\u001b[1;33m,\u001b[0m \u001b[0mparameter_vars\u001b[0m\u001b[1;33m,\u001b[0m \u001b[0mbody\u001b[0m\u001b[1;33m,\u001b[0m \u001b[0moperands\u001b[0m\u001b[1;33m,\u001b[0m\u001b[1;33m\u001b[0m\u001b[1;33m\u001b[0m\u001b[0m\n\u001b[1;32m--> 516\u001b[1;33m                 assumptions, requirements, repl_map)\n\u001b[0m\u001b[0;32m    517\u001b[0m \u001b[1;33m\u001b[0m\u001b[0m\n\u001b[0;32m    518\u001b[0m         \u001b[1;31m# Add repl_map entries resulting from equiv_alt_expansions.\u001b[0m\u001b[1;33m\u001b[0m\u001b[1;33m\u001b[0m\u001b[1;33m\u001b[0m\u001b[0m\n",
      "\u001b[1;32mc:\\users\\joaqu\\prove-it\\packages\\proveit\\_core_\\expression\\lambda_expr\\lambda_expr.py\u001b[0m in \u001b[0;36mextract_complete_param_replacements\u001b[1;34m(parameters, parameter_vars, body, operands, assumptions, requirements, repl_map)\u001b[0m\n\u001b[0;32m   1029\u001b[0m         extract_param_replacements(parameters, parameter_vars, body,\n\u001b[0;32m   1030\u001b[0m                                    \u001b[0moperands_iter\u001b[0m\u001b[1;33m,\u001b[0m \u001b[0massumptions\u001b[0m\u001b[1;33m,\u001b[0m \u001b[0mrequirements\u001b[0m\u001b[1;33m,\u001b[0m\u001b[1;33m\u001b[0m\u001b[1;33m\u001b[0m\u001b[0m\n\u001b[1;32m-> 1031\u001b[1;33m                                    repl_map, is_complete=True)\n\u001b[0m\u001b[0;32m   1032\u001b[0m     \u001b[1;32mexcept\u001b[0m \u001b[0mValueError\u001b[0m \u001b[1;32mas\u001b[0m \u001b[0me\u001b[0m\u001b[1;33m:\u001b[0m\u001b[1;33m\u001b[0m\u001b[1;33m\u001b[0m\u001b[0m\n\u001b[0;32m   1033\u001b[0m         raise LambdaApplicationError(\n",
      "\u001b[1;32mc:\\users\\joaqu\\prove-it\\packages\\proveit\\_core_\\expression\\lambda_expr\\lambda_expr.py\u001b[0m in \u001b[0;36mextract_param_replacements\u001b[1;34m(parameters, parameter_vars, body, operands_iter, assumptions, requirements, repl_map, is_complete)\u001b[0m\n\u001b[0;32m   1130\u001b[0m                                             \u001b[0mlen_req\u001b[0m\u001b[1;33m,\u001b[0m \u001b[0massumptions\u001b[0m\u001b[1;33m,\u001b[0m\u001b[1;33m\u001b[0m\u001b[1;33m\u001b[0m\u001b[0m\n\u001b[0;32m   1131\u001b[0m                                             minimal_automation=True)\n\u001b[1;32m-> 1132\u001b[1;33m                                     \u001b[1;32massert\u001b[0m \u001b[0mlen_req\u001b[0m\u001b[1;33m.\u001b[0m\u001b[0mproven\u001b[0m\u001b[1;33m(\u001b[0m\u001b[0massumptions\u001b[0m\u001b[1;33m)\u001b[0m\u001b[1;33m\u001b[0m\u001b[1;33m\u001b[0m\u001b[0m\n\u001b[0m\u001b[0;32m   1133\u001b[0m                                 \u001b[1;32mexcept\u001b[0m \u001b[0mProofFailure\u001b[0m\u001b[1;33m:\u001b[0m\u001b[1;33m\u001b[0m\u001b[1;33m\u001b[0m\u001b[0m\n\u001b[0;32m   1134\u001b[0m                                     \u001b[1;32mpass\u001b[0m\u001b[1;33m\u001b[0m\u001b[1;33m\u001b[0m\u001b[0m\n",
      "\u001b[1;31mAssertionError\u001b[0m: "
     ]
    }
   ],
   "source": [
    "tuple_len_incr.specialize({i: tuple_len_0.rhs, ExprTuple(varRange(a, one, zero)):tuple_len_0.lhs.operands[0], b:a}, \n",
    "                          assumptions=[InSet(zero, Naturals)])"
   ]
  },
  {
   "cell_type": "code",
   "execution_count": null,
   "metadata": {},
   "outputs": [],
   "source": [
    "%qed"
   ]
  },
  {
   "cell_type": "code",
   "execution_count": null,
   "metadata": {},
   "outputs": [],
   "source": []
  }
 ],
 "metadata": {
  "kernelspec": {
   "display_name": "Python 3",
   "language": "python",
   "name": "python3"
  },
  "language_info": {
   "codemirror_mode": {
    "name": "ipython",
    "version": 3
   },
   "file_extension": ".py",
   "mimetype": "text/x-python",
   "name": "python",
   "nbconvert_exporter": "python",
   "pygments_lexer": "ipython3",
   "version": "3.7.3"
  }
 },
 "nbformat": 4,
 "nbformat_minor": 1
}
