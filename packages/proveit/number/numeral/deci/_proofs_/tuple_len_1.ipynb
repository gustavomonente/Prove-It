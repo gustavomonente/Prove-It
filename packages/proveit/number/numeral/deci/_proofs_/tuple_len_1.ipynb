{
 "cells": [
  {
   "cell_type": "markdown",
   "metadata": {},
   "source": [
    "Proof of <a class=\"ProveItLink\" href=\"../../../../_context_.ipynb\">proveit</a>.<a class=\"ProveItLink\" href=\"../../../_context_.ipynb\">number</a>.<a class=\"ProveItLink\" href=\"../../_context_.ipynb\">numeral</a>.<a class=\"ProveItLink\" href=\"../_context_.ipynb\">deci</a>.<a class=\"ProveItLink\" href=\"../_theorems_.ipynb#tuple_len_1\">tuple_len_1</a> theorem\n",
    "========"
   ]
  },
  {
   "cell_type": "code",
   "execution_count": 1,
   "metadata": {},
   "outputs": [],
   "source": [
    "import proveit\n",
    "context = proveit.Context('..') # the theorem's context is in the parent directory"
   ]
  },
  {
   "cell_type": "code",
   "execution_count": 2,
   "metadata": {},
   "outputs": [
    {
     "name": "stdout",
     "output_type": "stream",
     "text": [
      "Beginning proof of tuple_len_1\n",
      "Recorded 'presuming' information\n"
     ]
    },
    {
     "data": {
      "text/html": [
       "<strong id=\"tuple_len_1\">tuple_len_1:</strong> <a class=\"ProveItLink\" href=\"../__pv_it/9d705e7d2b7ef57cd2f39a5aee061c08ca1d76c90/expr.ipynb\"><img src=\"data:image/png;base64,iVBORw0KGgoAAAANSUhEUgAAAIEAAAAVBAMAAACTeZA2AAAAMFBMVEX///8QEBCIiIhmZma6urrM\n",
       "zMxUVFQiIiJERETc3Nzu7u6qqqp2dnaYmJgyMjIAAAAcRTyBAAAAAXRSTlMAQObYZgAAActJREFU\n",
       "OMtjYMAGoogUwwE4LzAcATPmQvjcE8DUEWxqdwLxAxDjLrLoCqhqrgaoQCZuE9iApp8GMV4hi76E\n",
       "quabABVYh90EbimgLUAHzAC5uwFJgtcAqvoyTIRHAZsJy479ApKHgDYtACrZgCTDPgGquhImwiWA\n",
       "1Q28IBMWAulTq1ZNR5aYDlXNWQAXeoLbBD4HBoYfHR01yBLKUNVMQN8wTD6sCHTjYdwm8ABVpTIw\n",
       "dCJL9EJVc1xgYGCRZHgPZN6Dm3DuHQg8RpjACwxKZ3CAIkA1VDU7MHAWXmCwADK343YDN9Cv7AxM\n",
       "F5AlRKCqGYE+tF/AUARkxuM2gfUD0CcX2BlwmSDBwPWVsAmcD8KArMVqTzF9wfWHgRuogsEdLRye\n",
       "IUxgAcVYZwowyktZf2GGJNdvBrYHO5FDEsMNoJBk2Aw0htmAFRb9h6GqQfHUxHA94QADgw1WE5hA\n",
       "JjADpRn4gYmWcQNTAlTCHaoa5L5lSpFJwOB4is0E5sR/tsAUFQByCDDNrJ/AcWsBzlRdgDNvMiyH\n",
       "MRgnxPuSmLMg4BCMwZK0yRbG7oSq5iCQu8HOe4BNFKOE6cRtAtwW9FJOFbmU44WoUsWm9iYDAwB+\n",
       "QJRgJYkamQAAAABJRU5ErkJggg==\n",
       "\" style=\"display:inline;vertical-align:middle;\" /></a><br>(see <a class=\"ProveItLink\" href=\"../__pv_it/9d705e7d2b7ef57cd2f39a5aee061c08ca1d76c90/dependencies.ipynb\">dependencies</a>)<br>"
      ],
      "text/plain": [
       "tuple_len_1: forall_{a} (|(a)| = 1)"
      ]
     },
     "execution_count": 2,
     "metadata": {},
     "output_type": "execute_result"
    }
   ],
   "source": [
    "%proving tuple_len_1 presuming []"
   ]
  },
  {
   "cell_type": "code",
   "execution_count": null,
   "metadata": {},
   "outputs": [],
   "source": []
  }
 ],
 "metadata": {
  "kernelspec": {
   "display_name": "Python 3",
   "language": "python",
   "name": "python3"
  }
 },
 "nbformat": 4,
 "nbformat_minor": 0
}
