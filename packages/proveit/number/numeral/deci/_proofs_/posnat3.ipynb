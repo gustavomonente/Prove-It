{
 "cells": [
  {
   "cell_type": "markdown",
   "metadata": {},
   "source": [
    "Proof of <a class=\"ProveItLink\" href=\"../../../../_context_.ipynb\">proveit</a>.<a class=\"ProveItLink\" href=\"../../../_context_.ipynb\">number</a>.<a class=\"ProveItLink\" href=\"../../_context_.ipynb\">numeral</a>.<a class=\"ProveItLink\" href=\"../_context_.ipynb\">decimal</a>.<a class=\"ProveItLink\" href=\"../_theorems_.ipynb#posnat3\">posnat3</a> theorem\n",
    "========"
   ]
  },
  {
   "cell_type": "code",
   "execution_count": 1,
   "metadata": {},
   "outputs": [],
   "source": [
    "import proveit\n",
    "context = proveit.Context('..') # the theorem's context is in the parent directory"
   ]
  },
  {
   "cell_type": "code",
   "execution_count": 2,
   "metadata": {},
   "outputs": [
    {
     "name": "stdout",
     "output_type": "stream",
     "text": [
      "Beginning proof of posnat3\n",
      "Recorded 'presuming' information\n",
      "Presuming previous theorems (applied transitively).\n"
     ]
    },
    {
     "data": {
      "text/html": [
       "<strong id=\"posnat3\">posnat3:</strong> <a class=\"ProveItLink\" href=\"../__pv_it/222818609e293c9009ce4ffc3af84e9d3aa7dc0a0/expr.ipynb\"><img src=\"data:image/png;base64,iVBORw0KGgoAAAANSUhEUgAAAD8AAAAUBAMAAADIGvgZAAAAMFBMVEX///9UVFTMzMzu7u4yMjIQ\n",
       "EBC6uroiIiKIiIiYmJhmZmaqqqpERER2dnbc3NwAAACDMjhQAAAAAXRSTlMAQObYZgAAAPNJREFU\n",
       "KM9jYKAEMBJSwEMlBW/vnkYVNvlzxIDh6tcEqAK+BQz7J6CqOMkkwMD8gUHExdXFZQIDx28G/gJU\n",
       "BeIKHQwMATAr2MIY+B0gEnPKy8EsscOMCgwFSI6EWqHTDOXLKTI7IytgroVQzjAr5LgbFJEU8F1f\n",
       "DAm2B3AFDNc4G5CtaE1ADRU5BkYDIZACPqgAazCIVHUBAgeIAmYBlgCYcr4HDDy/QYw3SCYw6DLB\n",
       "FfB/hipgRVbAueEAjMd6gIH9M4jB1QATEgLie3AFnBNg4VANE/IGKXeAG5i16hiEYXjMAEyrfwXq\n",
       "ZnbAEru5x8sxhQH/kzXL0WiwxAAAAABJRU5ErkJggg==\n",
       "\" style=\"display:inline;vertical-align:middle;\" /></a><br>(see <a class=\"ProveItLink\" href=\"../__pv_it/222818609e293c9009ce4ffc3af84e9d3aa7dc0a0/dependencies.ipynb\">dependencies</a>)<br>"
      ],
      "text/plain": [
       "posnat3: 3 in NaturalsPos"
      ]
     },
     "execution_count": 2,
     "metadata": {},
     "output_type": "execute_result"
    }
   ],
   "source": [
    "%proving posnat3 presuming []"
   ]
  },
  {
   "cell_type": "code",
   "execution_count": null,
   "metadata": {},
   "outputs": [],
   "source": []
  }
 ],
 "metadata": {
  "kernelspec": {
   "display_name": "Python 3",
   "language": "python",
   "name": "python3"
  }
 },
 "nbformat": 4,
 "nbformat_minor": 0
}
