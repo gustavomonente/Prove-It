{
 "cells": [
  {
   "cell_type": "markdown",
   "metadata": {},
   "source": [
    "Proof of <a class=\"ProveItLink\" href=\"../../../../_context_.ipynb\">proveit</a>.<a class=\"ProveItLink\" href=\"../../../_context_.ipynb\">number</a>.<a class=\"ProveItLink\" href=\"../../_context_.ipynb\">numeral</a>.<a class=\"ProveItLink\" href=\"../_context_.ipynb\">decimal</a>.<a class=\"ProveItLink\" href=\"../_theorems_.ipynb#add_1_5\">add_1_5</a> theorem\n",
    "========"
   ]
  },
  {
   "cell_type": "code",
   "execution_count": 1,
   "metadata": {},
   "outputs": [],
   "source": [
    "import proveit\n",
    "context = proveit.Context('..') # the theorem's context is in the parent directory"
   ]
  },
  {
   "cell_type": "code",
   "execution_count": 2,
   "metadata": {},
   "outputs": [
    {
     "name": "stdout",
     "output_type": "stream",
     "text": [
      "Beginning proof of add_1_5\n",
      "Recorded 'presuming' information\n",
      "Presuming previous theorems (applied transitively).\n"
     ]
    },
    {
     "data": {
      "text/html": [
       "<strong id=\"add_1_5\">add_1_5:</strong> <a class=\"ProveItLink\" href=\"../__pv_it/202f8c085c3653b9b422ad189a232a1c5ab3a4560/expr.ipynb\"><img src=\"data:image/png;base64,iVBORw0KGgoAAAANSUhEUgAAAGEAAAAUBAMAAABvx07iAAAAMFBMVEX////MzMxUVFR2dna6uroQ\n",
       "EBCqqqqIiIgiIiJmZmYyMjJERETu7u6YmJjc3NwAAACgK8IjAAAAAXRSTlMAQObYZgAAAUlJREFU\n",
       "KM9jYOC7wIAd5OEQZziNRYzrDuM0BqYHGOLM5YZAch0Qpx5AlWH9/9+AgWcBugaeJQyzGBh4JzDw\n",
       "KOvDdKRD7TCqA5Lm6Dq4JzDsZmDgANl9H00HE5g8iq7DH+zOFww4dXA5oOnYCiYrseq4WykA9OcE\n",
       "NB2/hCuBhuzFpoP7AN8XoBfBXmdeBQZA3Ty/LjC0MYAQpg4g2MHAwNaAFlT/GRimHmAIQeiwWrWq\n",
       "ddWqRRDp+Q8YGD+gueoHUKUDsg6EHVoMDPYOmDq6gCovYHdVFNCOAwwsDUj+UAAyVcF2YPX5BLB5\n",
       "vOiRLn+AYSoDgyWIWY+m4yUDbxwDA6cBmg4mA54wBgYPIGtS/MoLKDr4JmsCzeASQI90SyMBaCqB\n",
       "g3RkzgnsiZ0XJWLPIHPMceSPfbgyDmZqx5OjIEnlAQ4JnLn2HnZhAPShY5HiM+sVAAAAAElFTkSu\n",
       "QmCC\n",
       "\" style=\"display:inline;vertical-align:middle;\" /></a><br>(see <a class=\"ProveItLink\" href=\"../__pv_it/202f8c085c3653b9b422ad189a232a1c5ab3a4560/dependencies.ipynb\">dependencies</a>)<br>"
      ],
      "text/plain": [
       "add_1_5: (1 + 5) = 6"
      ]
     },
     "execution_count": 2,
     "metadata": {},
     "output_type": "execute_result"
    }
   ],
   "source": [
    "%proving add_1_5 presuming []"
   ]
  },
  {
   "cell_type": "code",
   "execution_count": null,
   "metadata": {},
   "outputs": [],
   "source": []
  }
 ],
 "metadata": {
  "kernelspec": {
   "display_name": "Python 3",
   "language": "python",
   "name": "python3"
  }
 },
 "nbformat": 4,
 "nbformat_minor": 0
}
