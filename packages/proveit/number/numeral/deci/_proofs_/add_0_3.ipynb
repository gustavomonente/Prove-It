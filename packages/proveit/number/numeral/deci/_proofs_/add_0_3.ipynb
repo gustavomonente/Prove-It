{
 "cells": [
  {
   "cell_type": "markdown",
   "metadata": {},
   "source": [
    "Proof of <a class=\"ProveItLink\" href=\"../../../../_context_.ipynb\">proveit</a>.<a class=\"ProveItLink\" href=\"../../../_context_.ipynb\">number</a>.<a class=\"ProveItLink\" href=\"../../_context_.ipynb\">numeral</a>.<a class=\"ProveItLink\" href=\"../_context_.ipynb\">decimal</a>.<a class=\"ProveItLink\" href=\"../_theorems_.ipynb#add_0_3\">add_0_3</a> theorem\n",
    "========"
   ]
  },
  {
   "cell_type": "code",
   "execution_count": 1,
   "metadata": {},
   "outputs": [],
   "source": [
    "import proveit\n",
    "context = proveit.Context('..') # the theorem's context is in the parent directory"
   ]
  },
  {
   "cell_type": "code",
   "execution_count": 2,
   "metadata": {},
   "outputs": [
    {
     "name": "stdout",
     "output_type": "stream",
     "text": [
      "Beginning proof of add_0_3\n",
      "Recorded 'presuming' information\n",
      "Presuming previous theorems (applied transitively).\n"
     ]
    },
    {
     "data": {
      "text/html": [
       "<strong id=\"add_0_3\">add_0_3:</strong> <a class=\"ProveItLink\" href=\"../__pv_it/d5fbf89e6cca41cca66b95dff9b293d7157deda60/expr.ipynb\"><img src=\"data:image/png;base64,iVBORw0KGgoAAAANSUhEUgAAAGEAAAAUBAMAAABvx07iAAAAMFBMVEX///9UVFTMzMx2dna6uroQ\n",
       "EBCqqqqIiIgiIiJmZmYyMjJERETu7u6YmJjc3NwAAAC+aOQFAAAAAXRSTlMAQObYZgAAAVBJREFU\n",
       "KM91k79Kw1AUxj+TEGtjavAJ+ghBh6IuXQRHhzi5ZOvmKg5iFwUn7youujhkEF9ADUihoGBfQAm4\n",
       "6KKCoCKK3j+lzbk39yxJficf937nD9AYoDo2LBw3gLs9R1ljfinFRKH/KjFwBpyiT7PP8H8xfawr\n",
       "JEbIEK7CHWY76rGT4gto6QqFawWCCP4PUSy38Q30dIXCT8BMBO+DKCCPr7cN0wJvAXcM3qem6Me8\n",
       "IMxQCHwBvMZwNMXjfs4tSnNuJoON8B5XMDjv2hmTCb9C1zhD4GR8q8Us282yE5Vby+G8md3jOJHO\n",
       "fer8BbhKTYXC/FbBOUJa3b9cpLxuyUc0wty52cF14CAfOi+FwgsQ7ntNoriXhZ+KNYXCK/ztenMW\n",
       "ROEdHvHu1ZuaQuEamcEOaVf1sIeksbflj5ZlPy5ti2NO+3ijqiMoLAnr1j5U43/7s2xiPfOxhwAA\n",
       "AABJRU5ErkJggg==\n",
       "\" style=\"display:inline;vertical-align:middle;\" /></a><br>(see <a class=\"ProveItLink\" href=\"../__pv_it/d5fbf89e6cca41cca66b95dff9b293d7157deda60/dependencies.ipynb\">dependencies</a>)<br>"
      ],
      "text/plain": [
       "add_0_3: (0 + 3) = 3"
      ]
     },
     "execution_count": 2,
     "metadata": {},
     "output_type": "execute_result"
    }
   ],
   "source": [
    "%proving add_0_3 presuming []"
   ]
  },
  {
   "cell_type": "code",
   "execution_count": null,
   "metadata": {},
   "outputs": [],
   "source": []
  }
 ],
 "metadata": {
  "kernelspec": {
   "display_name": "Python 3",
   "language": "python",
   "name": "python3"
  }
 },
 "nbformat": 4,
 "nbformat_minor": 0
}
