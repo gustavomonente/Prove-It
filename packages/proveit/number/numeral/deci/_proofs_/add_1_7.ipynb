{
 "cells": [
  {
   "cell_type": "markdown",
   "metadata": {},
   "source": [
    "Proof of <a class=\"ProveItLink\" href=\"../../../../_context_.ipynb\">proveit</a>.<a class=\"ProveItLink\" href=\"../../../_context_.ipynb\">number</a>.<a class=\"ProveItLink\" href=\"../../_context_.ipynb\">numeral</a>.<a class=\"ProveItLink\" href=\"../_context_.ipynb\">decimal</a>.<a class=\"ProveItLink\" href=\"../_theorems_.ipynb#add_1_7\">add_1_7</a> theorem\n",
    "========"
   ]
  },
  {
   "cell_type": "code",
   "execution_count": 1,
   "metadata": {},
   "outputs": [],
   "source": [
    "import proveit\n",
    "context = proveit.Context('..') # the theorem's context is in the parent directory"
   ]
  },
  {
   "cell_type": "code",
   "execution_count": 2,
   "metadata": {},
   "outputs": [
    {
     "name": "stdout",
     "output_type": "stream",
     "text": [
      "Beginning proof of add_1_7\n",
      "Recorded 'presuming' information\n",
      "Presuming previous theorems (applied transitively).\n"
     ]
    },
    {
     "data": {
      "text/html": [
       "<strong id=\"add_1_7\">add_1_7:</strong> <a class=\"ProveItLink\" href=\"../__pv_it/9f4b2b4fd372403e23089f4d98eabc29e98a92500/expr.ipynb\"><img src=\"data:image/png;base64,iVBORw0KGgoAAAANSUhEUgAAAGEAAAAUBAMAAABvx07iAAAAMFBMVEX////MzMxUVFR2dna6uroQ\n",
       "EBCqqqqIiIgiIiJmZmYyMjJERETu7u6YmJjc3NwAAACgK8IjAAAAAXRSTlMAQObYZgAAAU1JREFU\n",
       "KM9jYOC7wIAd5OEQZziNRUxC09jYgOkBujBPuaUDkFoHxKkHUKXu////X4FnAboOTgYGNQYG3gkM\n",
       "PMr6MB3pEGoeAwMTA4M5uo5cBoZTDAwcILvvo+kwYGAwZGA4iq7DmoHhBAPDCwYsOhgYWAoYGLgc\n",
       "0HT472GwZWCoxK6DG4iZJ6DpYPp/OYGBYS92HUCzGHjBXmdeBQZg3fa/gArbsOrg+QAk2BrQ7GCb\n",
       "0h/CwBCC0GG1alXrqlWLQEx2kPGMH9B0XGJg/3oAWQeSHRwbsOmIYWCQT8DhKn4FUHg1IPlDAeJU\n",
       "pgs4fC4/Ae5zJBAHDMMHDJYgZj26jnwDUKIwQNPhdYDhOgODB5A1KX7lBVQdT4HhzsAlgKaDUROU\n",
       "EjlQUmg6MucE9sTOixKxZ5A55jjyxz5cGQcztePJUZCk9QCHBM5cew+7MAAozl6dp5NQKAAAAABJ\n",
       "RU5ErkJggg==\n",
       "\" style=\"display:inline;vertical-align:middle;\" /></a><br>(see <a class=\"ProveItLink\" href=\"../__pv_it/9f4b2b4fd372403e23089f4d98eabc29e98a92500/dependencies.ipynb\">dependencies</a>)<br>"
      ],
      "text/plain": [
       "add_1_7: (1 + 7) = 8"
      ]
     },
     "execution_count": 2,
     "metadata": {},
     "output_type": "execute_result"
    }
   ],
   "source": [
    "%proving add_1_7 presuming []"
   ]
  },
  {
   "cell_type": "code",
   "execution_count": null,
   "metadata": {},
   "outputs": [],
   "source": []
  }
 ],
 "metadata": {
  "kernelspec": {
   "display_name": "Python 3",
   "language": "python",
   "name": "python3"
  }
 },
 "nbformat": 4,
 "nbformat_minor": 0
}
