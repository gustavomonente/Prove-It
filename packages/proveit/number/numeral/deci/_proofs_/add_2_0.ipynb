{
 "cells": [
  {
   "cell_type": "markdown",
   "metadata": {},
   "source": [
    "Proof of <a class=\"ProveItLink\" href=\"../../../../_context_.ipynb\">proveit</a>.<a class=\"ProveItLink\" href=\"../../../_context_.ipynb\">number</a>.<a class=\"ProveItLink\" href=\"../../_context_.ipynb\">numeral</a>.<a class=\"ProveItLink\" href=\"../_context_.ipynb\">decimal</a>.<a class=\"ProveItLink\" href=\"../_theorems_.ipynb#add_2_0\">add_2_0</a> theorem\n",
    "========"
   ]
  },
  {
   "cell_type": "code",
   "execution_count": 1,
   "metadata": {},
   "outputs": [],
   "source": [
    "import proveit\n",
    "context = proveit.Context('..') # the theorem's context is in the parent directory"
   ]
  },
  {
   "cell_type": "code",
   "execution_count": 2,
   "metadata": {},
   "outputs": [
    {
     "name": "stdout",
     "output_type": "stream",
     "text": [
      "Beginning proof of add_2_0\n",
      "Recorded 'presuming' information\n",
      "Presuming previous theorems (applied transitively).\n"
     ]
    },
    {
     "data": {
      "text/html": [
       "<strong id=\"add_2_0\">add_2_0:</strong> <a class=\"ProveItLink\" href=\"../__pv_it/b9241630db55c2aeaf136dbdd11d9ea71b7e4ed20/expr.ipynb\"><img src=\"data:image/png;base64,iVBORw0KGgoAAAANSUhEUgAAAGEAAAAUBAMAAABvx07iAAAAMFBMVEX///9UVFTMzMx2dna6uroQ\n",
       "EBCqqqqIiIgiIiJmZmYyMjJERETu7u6YmJjc3NwAAAC+aOQFAAAAAXRSTlMAQObYZgAAAXBJREFU\n",
       "KM91k71Lw1AQwH+13zUtHd1a8A9ooENpFzu6VUTBMVtxsXXsIhXRUetYdNA1g6JrUeIgKDoI4qoZ\n",
       "O4lfg0Ixvqaiea/JLe/eXX7v7nJ3kLnDX1YC7NzA9d6pYizd5wnZ6qdat5cXxxFalpmq5EoZ2jba\n",
       "gUpcEP6AdIekRXRuZKuPjgeoiEAqsQ+LkLCJtgl9S8QJNCwuVWIJcjZ9kcOA0JtEvELNIFVViGOL\n",
       "XJ6WqycGXkL7EkSTcGf8P+1YnLlKTfcSmXcoNEm7pYdNV0Z0RHi2XG0diRAxCjqx9liIRBYWhkrS\n",
       "faFimpumefiX1cTLGNHll2iBWnnD8CHiw5eHWcU6PEtED54sIm1PHdmhvkzGdiufhjWfDqbVpk/o\n",
       "xG3KotCN4m5bIhKGNi+q0xWiXyxPwazooOM4MqGVVsXIpfJqBx3n050Sj9S9lyv/YU9Ljb2VRj5g\n",
       "P86DFmd82v83yl8m7QBH4NY++pt/AFsJY0BZfdETAAAAAElFTkSuQmCC\n",
       "\" style=\"display:inline;vertical-align:middle;\" /></a><br>(see <a class=\"ProveItLink\" href=\"../__pv_it/b9241630db55c2aeaf136dbdd11d9ea71b7e4ed20/dependencies.ipynb\">dependencies</a>)<br>"
      ],
      "text/plain": [
       "add_2_0: (2 + 0) = 2"
      ]
     },
     "execution_count": 2,
     "metadata": {},
     "output_type": "execute_result"
    }
   ],
   "source": [
    "%proving add_2_0 presuming []"
   ]
  },
  {
   "cell_type": "code",
   "execution_count": null,
   "metadata": {},
   "outputs": [],
   "source": []
  }
 ],
 "metadata": {
  "kernelspec": {
   "display_name": "Python 3",
   "language": "python",
   "name": "python3"
  }
 },
 "nbformat": 4,
 "nbformat_minor": 0
}
