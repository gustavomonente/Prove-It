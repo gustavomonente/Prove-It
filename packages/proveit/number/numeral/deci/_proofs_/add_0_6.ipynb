{
 "cells": [
  {
   "cell_type": "markdown",
   "metadata": {},
   "source": [
    "Proof of <a class=\"ProveItLink\" href=\"../../../../_context_.ipynb\">proveit</a>.<a class=\"ProveItLink\" href=\"../../../_context_.ipynb\">number</a>.<a class=\"ProveItLink\" href=\"../../_context_.ipynb\">numeral</a>.<a class=\"ProveItLink\" href=\"../_context_.ipynb\">decimal</a>.<a class=\"ProveItLink\" href=\"../_theorems_.ipynb#add_0_6\">add_0_6</a> theorem\n",
    "========"
   ]
  },
  {
   "cell_type": "code",
   "execution_count": 1,
   "metadata": {},
   "outputs": [],
   "source": [
    "import proveit\n",
    "context = proveit.Context('..') # the theorem's context is in the parent directory"
   ]
  },
  {
   "cell_type": "code",
   "execution_count": 2,
   "metadata": {},
   "outputs": [
    {
     "name": "stdout",
     "output_type": "stream",
     "text": [
      "Beginning proof of add_0_6\n",
      "Recorded 'presuming' information\n",
      "Presuming previous theorems (applied transitively).\n"
     ]
    },
    {
     "data": {
      "text/html": [
       "<strong id=\"add_0_6\">add_0_6:</strong> <a class=\"ProveItLink\" href=\"../__pv_it/2e228149d058ef15e64b10eb1261ee7899d151870/expr.ipynb\"><img src=\"data:image/png;base64,iVBORw0KGgoAAAANSUhEUgAAAGEAAAAUBAMAAABvx07iAAAAMFBMVEX///9UVFTMzMx2dna6uroQ\n",
       "EBCqqqqIiIgiIiJmZmYyMjJERETu7u6YmJjc3NwAAAC+aOQFAAAAAXRSTlMAQObYZgAAAVNJREFU\n",
       "KM91kzFLw0AYhp82odQm0SC4F/wBxi6lTh3ddCj+hW6upYPQRQenLF2cFMQhg7g4iVKQQkHB/gLN\n",
       "6FZBUCmCXu+0zV2Sj5DcPd+9l3vv7oPlMdmxn8N5AOugZkCrU6MQp8bOMFzCBSM9655zgntqCiTG\n",
       "C/F2sf6ybfVxQm6gbioULsc4PqVvTbEjfzk0FQq/woqP/aEpruW70jQUCnfhKcT+1BTT9a4YbYWG\n",
       "QuFbmAQUNYU7HXMkLEpzViQjnGPxTEKK75riB/oDSj1jqxRuLVa1FUWHUXQmWl/w0qT4ZqxK4ZZ0\n",
       "XtKdH4vUOK1QWKzKucLTd3dNTmb3Ej78ORbO0ye4MaD/7zwRCjeYuR9WNUUhcPdgKTAUCm+L1n1n\n",
       "FU1BY1NMUamahy5xWbuD7WRnlH3ZPe1gH5Odek593OUVTvq2LyoqO5w4J5Fbtc/Z+Bey8mjsUyW4\n",
       "IwAAAABJRU5ErkJggg==\n",
       "\" style=\"display:inline;vertical-align:middle;\" /></a><br>(see <a class=\"ProveItLink\" href=\"../__pv_it/2e228149d058ef15e64b10eb1261ee7899d151870/dependencies.ipynb\">dependencies</a>)<br>"
      ],
      "text/plain": [
       "add_0_6: (0 + 6) = 6"
      ]
     },
     "execution_count": 2,
     "metadata": {},
     "output_type": "execute_result"
    }
   ],
   "source": [
    "%proving add_0_6 presuming []"
   ]
  },
  {
   "cell_type": "code",
   "execution_count": null,
   "metadata": {},
   "outputs": [],
   "source": []
  }
 ],
 "metadata": {
  "kernelspec": {
   "display_name": "Python 3",
   "language": "python",
   "name": "python3"
  }
 },
 "nbformat": 4,
 "nbformat_minor": 0
}
