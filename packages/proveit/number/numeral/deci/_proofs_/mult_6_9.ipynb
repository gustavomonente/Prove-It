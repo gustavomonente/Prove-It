{
 "cells": [
  {
   "cell_type": "markdown",
   "metadata": {},
   "source": [
    "Proof of <a class=\"ProveItLink\" href=\"../../../../_context_.ipynb\">proveit</a>.<a class=\"ProveItLink\" href=\"../../../_context_.ipynb\">number</a>.<a class=\"ProveItLink\" href=\"../../_context_.ipynb\">numeral</a>.<a class=\"ProveItLink\" href=\"../_context_.ipynb\">deci</a>.<a class=\"ProveItLink\" href=\"../_theorems_.ipynb#mult_6_9\">mult_6_9</a> theorem\n",
    "========"
   ]
  },
  {
   "cell_type": "code",
   "execution_count": 1,
   "metadata": {},
   "outputs": [],
   "source": [
    "import proveit\n",
    "context = proveit.Context('..') # the theorem's context is in the parent directory"
   ]
  },
  {
   "cell_type": "code",
   "execution_count": 2,
   "metadata": {},
   "outputs": [
    {
     "name": "stdout",
     "output_type": "stream",
     "text": [
      "Beginning proof of mult_6_9\n",
      "Recorded 'presuming' information\n",
      "Presuming previous theorems (applied transitively).\n"
     ]
    },
    {
     "data": {
      "text/html": [
       "<strong id=\"mult_6_9\">mult_6_9:</strong> <a class=\"ProveItLink\" href=\"../__pv_it/372acdebd5d4e16db20855a41397fdb5db5487a90/expr.ipynb\"><img src=\"data:image/png;base64,iVBORw0KGgoAAAANSUhEUgAAAGEAAAAUBAMAAABvx07iAAAAMFBMVEX///9UVFTMzMx2dna6uroQ\n",
       "EBCqqqqIiIgiIiJmZmYyMjJERETu7u6YmJjc3NwAAAC+aOQFAAAAAXRSTlMAQObYZgAAAZlJREFU\n",
       "KM99k79PwkAUx7+0aPpbo3HARf4EmAguMDo4MLhoiCHuGqJxwEGZHJxIMCZOgJsm/hh1ULtgDA50\n",
       "cTFKOuqGCZO/8F2lxVybvqR37X3v0/fuvXeAYcFnawizB3pSG3H3U6smbURsfpfyLBzQJFRoOANa\n",
       "WbnuSk3LyEOr88RIv5+gSRoHdKKuoF640hQQI6c+H8ltNm0SIdmI/vyTPoAMeeKJiDMaT0S8Ampu\n",
       "qGifwI4NJRtIiAoRJWDsKLXvSUvkIwuxwhMvJUpOhxHXQPsUUsGVKKRzC7pz9NkTZsfsVTWNHrQi\n",
       "I3aJ6ELOs4gcqTiaKWC07C/DJUQwYoGiKkPv0VLb+fHqeiYOoesnavaKS0h16N+DZDObMf3ENMU7\n",
       "n8Agqkjuz4drDSBaHp6jMUhI7S52WFssspMLX5C9BD+aApVH54tOudtjpScfaZon0fRytWW2qDXl\n",
       "BEe8QV9mBPXGHCtMdcKTxDSrjRLnCKMaM0m8fbdYlwTYfUiz65Wg1VTY/bgJWPN3O3+jeFPtMCLo\n",
       "1nZC9v8CZo9j1yLFe9cAAAAASUVORK5CYII=\n",
       "\" style=\"display:inline;vertical-align:middle;\" /></a><br>(see <a class=\"ProveItLink\" href=\"../__pv_it/372acdebd5d4e16db20855a41397fdb5db5487a90/dependencies.ipynb\">dependencies</a>)<br>"
      ],
      "text/plain": [
       "mult_6_9: (6 * 9) = 54"
      ]
     },
     "execution_count": 2,
     "metadata": {},
     "output_type": "execute_result"
    }
   ],
   "source": [
    "%proving mult_6_9 presuming []"
   ]
  },
  {
   "cell_type": "code",
   "execution_count": null,
   "metadata": {},
   "outputs": [],
   "source": []
  }
 ],
 "metadata": {
  "kernelspec": {
   "display_name": "Python 3",
   "language": "python",
   "name": "python3"
  }
 },
 "nbformat": 4,
 "nbformat_minor": 0
}
