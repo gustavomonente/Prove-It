{
 "cells": [
  {
   "cell_type": "markdown",
   "metadata": {},
   "source": [
    "Proof of <a class=\"ProveItLink\" href=\"../../../../_context_.ipynb\">proveit</a>.<a class=\"ProveItLink\" href=\"../../../_context_.ipynb\">number</a>.<a class=\"ProveItLink\" href=\"../../_context_.ipynb\">numeral</a>.<a class=\"ProveItLink\" href=\"../_context_.ipynb\">deci</a>.<a class=\"ProveItLink\" href=\"../_theorems_.ipynb#mult_8_3\">mult_8_3</a> theorem\n",
    "========"
   ]
  },
  {
   "cell_type": "code",
   "execution_count": 1,
   "metadata": {},
   "outputs": [],
   "source": [
    "import proveit\n",
    "context = proveit.Context('..') # the theorem's context is in the parent directory"
   ]
  },
  {
   "cell_type": "code",
   "execution_count": 2,
   "metadata": {},
   "outputs": [
    {
     "name": "stdout",
     "output_type": "stream",
     "text": [
      "Beginning proof of mult_8_3\n",
      "Recorded 'presuming' information\n",
      "Presuming previous theorems (applied transitively).\n"
     ]
    },
    {
     "data": {
      "text/html": [
       "<strong id=\"mult_8_3\">mult_8_3:</strong> <a class=\"ProveItLink\" href=\"../__pv_it/40f4048852cbecf9a3244f27248112c22d8af0a90/expr.ipynb\"><img src=\"data:image/png;base64,iVBORw0KGgoAAAANSUhEUgAAAGEAAAAUBAMAAABvx07iAAAAMFBMVEX////MzMxUVFR2dna6uroQ\n",
       "EBCqqqqIiIgiIiJmZmYyMjJERETu7u6YmJjc3NwAAACgK8IjAAAAAXRSTlMAQObYZgAAAZtJREFU\n",
       "KM99k79Lw1AQx7/tS2ytSSj+BR11kBYKlurSRegfYEHRIY5dpCAOTu0kOBnQJSgobkrR7mIbBLHg\n",
       "0M6CJSBIXUT8hSglXtLGlpeQG3J5970P7929e4DShsfWEWR3wO3G/v9SSc+rCJt8lqRfxsmFNPqc\n",
       "AxrCqis9Y6wH6ZgnrsE+yEUTgKxhrD2SUlbxDWR44hAokNskImqC1SBVXGkhhx/ghieWgKQJ5Z6I\n",
       "LiD8GmykfDoVYjmOuDCQjIPFiNiiZbI3OyI2UwDTvC3aNdCxiSv6Z1Z1KDzuGFSdU9fcmW2n/bjw\n",
       "DqlkE9u0KOY/7VNIfSmySCereLagNjHYBMlyAuVVirUGDSsYCL16CB1YcwmRMr4GzcYL0FB9iIgG\n",
       "KYXBqVoUmHEVy7AJoTKs48SJF6E8TetHyyW7cpFmou4SK05TZP7SQylEKE2kPbLUhSrkkis9OPcx\n",
       "nuKIbjo7RU6sAXnyk3vDSRT0A+pbLM7foGXR8LDGW9ueEh9rBgy7rPlFM0Hvo+4T804796I8NmEG\n",
       "EX6vthOQ/wf66Wpv3JvVLAAAAABJRU5ErkJggg==\n",
       "\" style=\"display:inline;vertical-align:middle;\" /></a><br>(see <a class=\"ProveItLink\" href=\"../__pv_it/40f4048852cbecf9a3244f27248112c22d8af0a90/dependencies.ipynb\">dependencies</a>)<br>"
      ],
      "text/plain": [
       "mult_8_3: (8 * 3) = 24"
      ]
     },
     "execution_count": 2,
     "metadata": {},
     "output_type": "execute_result"
    }
   ],
   "source": [
    "%proving mult_8_3 presuming []"
   ]
  },
  {
   "cell_type": "code",
   "execution_count": null,
   "metadata": {},
   "outputs": [],
   "source": []
  }
 ],
 "metadata": {
  "kernelspec": {
   "display_name": "Python 3",
   "language": "python",
   "name": "python3"
  }
 },
 "nbformat": 4,
 "nbformat_minor": 0
}
