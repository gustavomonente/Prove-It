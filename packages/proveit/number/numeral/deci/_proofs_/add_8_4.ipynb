{
 "cells": [
  {
   "cell_type": "markdown",
   "metadata": {},
   "source": [
    "Proof of <a class=\"ProveItLink\" href=\"../../../../_context_.ipynb\">proveit</a>.<a class=\"ProveItLink\" href=\"../../../_context_.ipynb\">number</a>.<a class=\"ProveItLink\" href=\"../../_context_.ipynb\">numeral</a>.<a class=\"ProveItLink\" href=\"../_context_.ipynb\">decimal</a>.<a class=\"ProveItLink\" href=\"../_theorems_.ipynb#add_8_4\">add_8_4</a> theorem\n",
    "========"
   ]
  },
  {
   "cell_type": "code",
   "execution_count": 1,
   "metadata": {},
   "outputs": [],
   "source": [
    "import proveit\n",
    "context = proveit.Context('..') # the theorem's context is in the parent directory"
   ]
  },
  {
   "cell_type": "code",
   "execution_count": 2,
   "metadata": {},
   "outputs": [
    {
     "name": "stdout",
     "output_type": "stream",
     "text": [
      "Beginning proof of add_8_4\n",
      "Recorded 'presuming' information\n",
      "Presuming previous theorems (applied transitively).\n"
     ]
    },
    {
     "data": {
      "text/html": [
       "<strong id=\"add_8_4\">add_8_4:</strong> <a class=\"ProveItLink\" href=\"../__pv_it/c18ccdd734a18aeca8da804a03b52345568c50a10/expr.ipynb\"><img src=\"data:image/png;base64,iVBORw0KGgoAAAANSUhEUgAAAGwAAAAUBAMAAACaOcVSAAAAMFBMVEX////MzMxUVFR2dna6uroQ\n",
       "EBCqqqqIiIgiIiJmZmYyMjJERETu7u6YmJjc3NwAAACgK8IjAAAAAXRSTlMAQObYZgAAAYFJREFU\n",
       "OMuVlLFLw0AUxj+bJrYlKaKTkwFnbUEQ1MGO3SzFTUERpLoVnFxsUHQObUGKi4qLoYj+AZaAQ7EK\n",
       "Znaxo4uCQ12sxneRSnJJKn6QXN7d/e69vHt3QNJCsKQ2+ugOaG5Vfd2jwGQwcHt0Re8LQEdklR/c\n",
       "BVp+ZN2ErGI+A0WHZEE+/uku9MYH84BQ5CB5PGUibkLMIdaGcAlZ47CXU5qV83l7IkZD5AvPQPTD\n",
       "FCwOSxOGsyAs0UXkDdtkpD6n4cWUNsNmgjBSrItragS7zmFNMOyRfQqGI92FLaRxQM1mtpPxYmkH\n",
       "2wjxRllepIhUlJbJmjWMfcNg86UhBxsLxuK6g4kmBt493m7QD2PpoCAfqJnwYGu1WucQyLr+Tf3F\n",
       "JB2vLCUiFV+D2wDkeynxeRsBdliSo3UoRR5boqfiw0omkntTZc0JZLhS5TYAczaFfcJT5ZVzK2Hb\n",
       "tsaKy6WCpwS18HOj6G7r3m34StmtRuhI649j+u8FSaGXgtLnUvgGx9Vzrk2Q7oYAAAAASUVORK5C\n",
       "YII=\n",
       "\" style=\"display:inline;vertical-align:middle;\" /></a><br>(see <a class=\"ProveItLink\" href=\"../__pv_it/c18ccdd734a18aeca8da804a03b52345568c50a10/dependencies.ipynb\">dependencies</a>)<br>"
      ],
      "text/plain": [
       "add_8_4: (8 + 4) = 12"
      ]
     },
     "execution_count": 2,
     "metadata": {},
     "output_type": "execute_result"
    }
   ],
   "source": [
    "%proving add_8_4 presuming []"
   ]
  },
  {
   "cell_type": "code",
   "execution_count": null,
   "metadata": {},
   "outputs": [],
   "source": []
  }
 ],
 "metadata": {
  "kernelspec": {
   "display_name": "Python 3",
   "language": "python",
   "name": "python3"
  }
 },
 "nbformat": 4,
 "nbformat_minor": 0
}
