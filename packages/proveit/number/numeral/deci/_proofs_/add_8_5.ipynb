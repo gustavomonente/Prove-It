{
 "cells": [
  {
   "cell_type": "markdown",
   "metadata": {},
   "source": [
    "Proof of <a class=\"ProveItLink\" href=\"../../../../_context_.ipynb\">proveit</a>.<a class=\"ProveItLink\" href=\"../../../_context_.ipynb\">number</a>.<a class=\"ProveItLink\" href=\"../../_context_.ipynb\">numeral</a>.<a class=\"ProveItLink\" href=\"../_context_.ipynb\">decimal</a>.<a class=\"ProveItLink\" href=\"../_theorems_.ipynb#add_8_5\">add_8_5</a> theorem\n",
    "========"
   ]
  },
  {
   "cell_type": "code",
   "execution_count": 1,
   "metadata": {},
   "outputs": [],
   "source": [
    "import proveit\n",
    "context = proveit.Context('..') # the theorem's context is in the parent directory"
   ]
  },
  {
   "cell_type": "code",
   "execution_count": 2,
   "metadata": {},
   "outputs": [
    {
     "name": "stdout",
     "output_type": "stream",
     "text": [
      "Beginning proof of add_8_5\n",
      "Recorded 'presuming' information\n",
      "Presuming previous theorems (applied transitively).\n"
     ]
    },
    {
     "data": {
      "text/html": [
       "<strong id=\"add_8_5\">add_8_5:</strong> <a class=\"ProveItLink\" href=\"../__pv_it/52ad4c6eec3820666d17ce71b0a9cd6fed0899070/expr.ipynb\"><img src=\"data:image/png;base64,iVBORw0KGgoAAAANSUhEUgAAAGwAAAAUBAMAAACaOcVSAAAAMFBMVEX////MzMxUVFR2dna6uroQ\n",
       "EBCqqqqIiIgiIiJmZmYyMjJERETu7u6YmJjc3NwAAACgK8IjAAAAAXRSTlMAQObYZgAAAZJJREFU\n",
       "OMuVlD1IAzEUx//2erWld1dwc7Lg4KQFBVGnjnVz6FhoF6lOFsTBqQXR+bRdBIdTu3hU6SBOWm4T\n",
       "quAtIrhYcNHJQe1itb60VS73UfENSV6SX97Ley8BFBPuEmigj1wBl6sl2+SxMZzBhDvwOHVG7Qmg\n",
       "wpfhl9LtV6DuRBYNKCpWTMgqAiYkrTud7S0fjpGHQs4GSaMxA4NNRAoINiBUIRV4LNrZteCw9mDA\n",
       "n0REwxPg/zAE0wVD2Q0jISfXqYt9ToPHxu+2qZ11x6QN4IJ6oV2xYed4iQP3bCjoHVF/MWVmD9gi\n",
       "ZTnxHucxIEy3XfJwci2OJCBHkU+RNqfrm7p+0N0Q+gJGPDAxxTDRwECTs+bTILx5YEoD4SZz8obF\n",
       "gMNEDaEWkLDcLfqDRVoMo5CIlNoah4WAoNYLid2aWEWwxYLsr0DOcRgV0C2dVXRgeQOyyfLGHBkq\n",
       "lmwJeJ6kIGPfTu2kj0zM756CFZdFslwJFrzfjaxatWur4ihlq9Q8V+p/PNN/H8ii5vUpyH0+hW/e\n",
       "eXnyBpVraQAAAABJRU5ErkJggg==\n",
       "\" style=\"display:inline;vertical-align:middle;\" /></a><br>(see <a class=\"ProveItLink\" href=\"../__pv_it/52ad4c6eec3820666d17ce71b0a9cd6fed0899070/dependencies.ipynb\">dependencies</a>)<br>"
      ],
      "text/plain": [
       "add_8_5: (8 + 5) = 13"
      ]
     },
     "execution_count": 2,
     "metadata": {},
     "output_type": "execute_result"
    }
   ],
   "source": [
    "%proving add_8_5 presuming []"
   ]
  },
  {
   "cell_type": "code",
   "execution_count": null,
   "metadata": {},
   "outputs": [],
   "source": []
  }
 ],
 "metadata": {
  "kernelspec": {
   "display_name": "Python 3",
   "language": "python",
   "name": "python3"
  }
 },
 "nbformat": 4,
 "nbformat_minor": 0
}
