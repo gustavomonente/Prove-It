{
 "cells": [
  {
   "cell_type": "markdown",
   "metadata": {},
   "source": [
    "Proof of <a class=\"ProveItLink\" href=\"../../../../_context_.ipynb\">proveit</a>.<a class=\"ProveItLink\" href=\"../../../_context_.ipynb\">number</a>.<a class=\"ProveItLink\" href=\"../../_context_.ipynb\">numeral</a>.<a class=\"ProveItLink\" href=\"../_context_.ipynb\">deci</a>.<a class=\"ProveItLink\" href=\"../_theorems_.ipynb#mult_9_0\">mult_9_0</a> theorem\n",
    "========"
   ]
  },
  {
   "cell_type": "code",
   "execution_count": 1,
   "metadata": {},
   "outputs": [],
   "source": [
    "import proveit\n",
    "context = proveit.Context('..') # the theorem's context is in the parent directory"
   ]
  },
  {
   "cell_type": "code",
   "execution_count": 2,
   "metadata": {},
   "outputs": [
    {
     "name": "stdout",
     "output_type": "stream",
     "text": [
      "Beginning proof of mult_9_0\n",
      "Recorded 'presuming' information\n",
      "Presuming previous theorems (applied transitively).\n"
     ]
    },
    {
     "data": {
      "text/html": [
       "<strong id=\"mult_9_0\">mult_9_0:</strong> <a class=\"ProveItLink\" href=\"../__pv_it/91738f95fd624c88b41b44edcc026adb441739210/expr.ipynb\"><img src=\"data:image/png;base64,iVBORw0KGgoAAAANSUhEUgAAAFcAAAAUBAMAAAAKKrydAAAAMFBMVEX////MzMxUVFR2dna6uroQ\n",
       "EBCqqqqIiIgiIiJmZmYyMjJERETu7u6YmJjc3NwAAACgK8IjAAAAAXRSTlMAQObYZgAAAU5JREFU\n",
       "KM91k79Lw0AUx7+m2sZ4aQv+AelfIIUOwU6Obip0VAi42+Lm1qmjZHULboqKuDiIkkVQHCpIcdMs\n",
       "gmP9gSCo+JK79Mjl8obk3YdvXt67+x5QvUcutlAQd8Bta0Gu3Yc6jCgnizFwAraBlzCFlsd2wQJV\n",
       "m2DYPoxVGH5KR0Cb6qhijs0ItQClcUrPgG6Ia1XM8SswPEXlL6XvwIoHa0kRc7wDzFDlTwHZN9Ee\n",
       "Sn5WK/Al4h6sX0GrH4DTg51M2D6M40DiAaXn2PyKP48plXCaKPezlQXuUFp+nH+j1zCY/G9qrG2j\n",
       "kyyMH3qYDT5J18uJBR7wPW+k9AJ4DjHdlz3vS0wD2utwouzu24H2UBaByhE7nlDTY2vAbFMRc7xM\n",
       "WWtPngFzt8kxVl0Rc2xGOive6B1q+zrqFvj5SsPyFpXmz8VcVCDWXasnvfQf8KRfNLT/uv4AAAAA\n",
       "SUVORK5CYII=\n",
       "\" style=\"display:inline;vertical-align:middle;\" /></a><br>(see <a class=\"ProveItLink\" href=\"../__pv_it/91738f95fd624c88b41b44edcc026adb441739210/dependencies.ipynb\">dependencies</a>)<br>"
      ],
      "text/plain": [
       "mult_9_0: (9 * 0) = 0"
      ]
     },
     "execution_count": 2,
     "metadata": {},
     "output_type": "execute_result"
    }
   ],
   "source": [
    "%proving mult_9_0 presuming []"
   ]
  },
  {
   "cell_type": "code",
   "execution_count": null,
   "metadata": {},
   "outputs": [],
   "source": []
  }
 ],
 "metadata": {
  "kernelspec": {
   "display_name": "Python 3",
   "language": "python",
   "name": "python3"
  }
 },
 "nbformat": 4,
 "nbformat_minor": 0
}
