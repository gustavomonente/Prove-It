{
 "cells": [
  {
   "cell_type": "markdown",
   "metadata": {},
   "source": [
    "Proof of <a class=\"ProveItLink\" href=\"../../../../_context_.ipynb\">proveit</a>.<a class=\"ProveItLink\" href=\"../../../_context_.ipynb\">number</a>.<a class=\"ProveItLink\" href=\"../../_context_.ipynb\">numeral</a>.<a class=\"ProveItLink\" href=\"../_context_.ipynb\">deci</a>.<a class=\"ProveItLink\" href=\"../_theorems_.ipynb#tuple_len_2\">tuple_len_2</a> theorem\n",
    "========"
   ]
  },
  {
   "cell_type": "code",
   "execution_count": 1,
   "metadata": {},
   "outputs": [],
   "source": [
    "import proveit\n",
    "from proveit import IndexedVar\n",
    "from proveit._common_ import a, b, c, i\n",
    "from proveit.core_expr_types.tuples._axioms_ import tuple_len_incr\n",
    "from proveit.number import one\n",
    "from proveit.number. numeral.deci._theorems_ import tuple_len_1, add_1_1\n",
    "context = proveit.Context('..') # the theorem's context is in the parent directory"
   ]
  },
  {
   "cell_type": "code",
   "execution_count": 2,
   "metadata": {},
   "outputs": [
    {
     "name": "stdout",
     "output_type": "stream",
     "text": [
      "Beginning proof of tuple_len_2\n",
      "Recorded 'presuming' information\n",
      "Presuming proveit.core_expr_types.tuples.singular_range_reduction theorem (applied transitively).\n",
      "Presuming previous theorems (applied transitively).\n"
     ]
    },
    {
     "data": {
      "text/html": [
       "<strong id=\"tuple_len_2\">tuple_len_2:</strong> <a class=\"ProveItLink\" href=\"../__pv_it/c22741a9e8280e3efa3aaf37b0e6b79df46c307b0/expr.ipynb\"><img src=\"data:image/png;base64,iVBORw0KGgoAAAANSUhEUgAAAJ8AAAAWBAMAAAAsilPDAAAAMFBMVEX///+IiIgiIiIQEBB2dnbu\n",
       "7u5UVFTMzMzc3NwyMjK6urpmZmaYmJiqqqpEREQAAACk/Np2AAAAAXRSTlMAQObYZgAAAAlwSFlz\n",
       "AAAOxAAADsQBlSsOGwAAAo5JREFUOMutVE1oE0EU/vKz7GY32eYg9iBCCWq9iKUqigeNlyJFYUUR\n",
       "pNCmojehAUG8da3gRZF4KAjWWvUkeEiLIJqCqSAohRKlBw+C9VAQPFjBgg2W+t7uzLLZnb05YSYz\n",
       "7+33vTfvvXlA0nDpx8OIyA2pVmKSR6qFQW+zM6Iwi97foAr0mOYKb77EdcsCUyiHhMP9gYUoodGY\n",
       "rrIXeM2n+zE+rSYwFzrED2jmHBXhLWTbwCRwjdlXYoRWU2DmO8SbNPN1FeFl4ACw6NvLtmKEGYnp\n",
       "64jfOq+HVITHHYy5yDjIkyu5eAifCYxZC0uzPbxOqQgvAmNV5Iitv1Q6GCd8ITAW5+T2iRu+NDe6\n",
       "gy4zkJDl/WSxArwEVuPKKYFhk+YR/PQSgZFJ7Q/wISCcK/HY40P0XxTfGqfHqEgafVru9glMmjw6\n",
       "28ScL/3qgFCf1B6mKVkFiontZGcC4SW5OSowGdK9cbDLl76C9hsYVxM22KM1Ii2GcnJYRXgMWluW\n",
       "oUmF81RJ6FWTyUVRW6BlaOGkF4btfrDwUMawxU7l13zpX1jr4SuHY7gMw/WujNNU3lqvziWW2p2q\n",
       "+9BvAmMXoW3Crn0GW2pzPLGk8lAvI0VFyE/kJuXEqut9Hjwv6m5AYLgO7uFtvaxt0OkKftA6qyKc\n",
       "aDSoFC3uHHYV6JpJVbyIWSLjT2Rh0x3Ob7s+WkWJXBziMsReFeGjrS0ymZYNbMS13xGgy8mIV5iu\n",
       "CkyvRBQc2Vd6EtsXJoKn644/xzmknaVQzjzMYvDswn0jiTBoJeb8x1O42tJng+73XWBseYkzUnM3\n",
       "ucFG21a46QwLjCa/aUrNajKh7XQcC+Gj0US3t7kTLWDf5W4V4fvIp/gP4x94jJZAJJDJogAAAABJ\n",
       "RU5ErkJggg==\n",
       "\" style=\"display:inline;vertical-align:middle;\" /></a><br>(see <a class=\"ProveItLink\" href=\"../__pv_it/c22741a9e8280e3efa3aaf37b0e6b79df46c307b0/dependencies.ipynb\">dependencies</a>)<br>"
      ],
      "text/plain": [
       "tuple_len_2: forall_{a, b} (|(a, b)| = 2)"
      ]
     },
     "execution_count": 2,
     "metadata": {},
     "output_type": "execute_result"
    }
   ],
   "source": [
    "%proving tuple_len_2 presuming [proveit.core_expr_types.tuples.singular_range_reduction]"
   ]
  },
  {
   "cell_type": "code",
   "execution_count": 3,
   "metadata": {},
   "outputs": [
    {
     "data": {
      "text/html": [
       "<strong id=\"one_spec\">one_spec:</strong> <span style=\"font-size:20px;\"> <a class=\"ProveItLink\" href=\"../__pv_it/c4ca9876093647c7e27de841628daac033a0d9550/proof.ipynb\" style=\"text-decoration: none\">&#x22A2;&nbsp;</a><a class=\"ProveItLink\" href=\"../__pv_it/f6d7e83e07974be839b027c5c4d0c1471327019b0/expr.ipynb\"><img src=\"data:image/png;base64,iVBORw0KGgoAAAANSUhEUgAAAFAAAAAVBAMAAAAjqnRBAAAAMFBMVEX///9UVFREREQiIiIQEBCY\n",
       "mJhmZmYyMjLu7u6qqqrMzMyIiIi6urp2dnbc3NwAAABm9RoHAAAAAXRSTlMAQObYZgAAAAlwSFlz\n",
       "AAAOxAAADsQBlSsOGwAAAPVJREFUKM9jeMAAAnwMyBREDA3cAZM7IRyeDUhi2BRyXoDydmJXyGUB\n",
       "FWyHibA3YFPYmP4DKpgKE2JNwGoiN0yhA1zIA69CngK4UClehWwgvzy7/RpIXsSrkD0AaKofgz7Q\n",
       "J+FwhcnGIGCIopB5AgNDSwBDMpA5Ga+JLAcYGPIbGGyBzPUEFToxcPwBMo/gd+MEBo6/DKwfUKzG\n",
       "5kamDQwcPxmYCuYxMAThNZFXgIGhmiE4ARhK2fgD3AAYn3vXSS9gYLDDppBR5bM0RNAKJsRngD+Z\n",
       "hcF4bAH4FTLB0vQjAgmXQwHK08CtcBeYfApNjg+QxFABADLQWqPn0gWaAAAAAElFTkSuQmCC\n",
       "\" style=\"display:inline;vertical-align:middle;\" /></a></span><br>"
      ],
      "text/plain": [
       "one_spec: |- |(a)| = 1"
      ]
     },
     "execution_count": 3,
     "metadata": {},
     "output_type": "execute_result"
    }
   ],
   "source": [
    "one_spec = tuple_len_1.specialize({a:a})"
   ]
  },
  {
   "cell_type": "code",
   "execution_count": 4,
   "metadata": {},
   "outputs": [
    {
     "data": {
      "text/html": [
       "<strong id=\"tuple_spec\">tuple_spec:</strong> <span style=\"font-size:20px;\"> <a class=\"ProveItLink\" href=\"../__pv_it/e750f2f8913e4121bb8a8aa0ea30041ef1908a960/proof.ipynb\" style=\"text-decoration: none\">&#x22A2;&nbsp;</a><a class=\"ProveItLink\" href=\"../__pv_it/e845b727a240c9e8a365deada2c1d54458a65d120/expr.ipynb\"><img src=\"data:image/png;base64,iVBORw0KGgoAAAANSUhEUgAAAJ8AAAAVBAMAAACqHiFtAAAAMFBMVEX///9UVFREREQiIiIQEBCY\n",
       "mJhmZmYyMjLu7u6qqqrMzMyIiIi6urp2dnbc3NwAAABm9RoHAAAAAXRSTlMAQObYZgAAAAlwSFlz\n",
       "AAAOxAAADsQBlSsOGwAAAglJREFUOMuFlL9LK0EQx8f8uB/mLthYpUkh+srIiYiFBMIDy/CK2Kkg\n",
       "YiEPbBQ78x6ihUUE/wDtLTwQHmghFnY2ea1YnEpKQRAx4g+c2ds777KzuHDL3sx3Pzs7O7sQALUi\n",
       "MK2oc7FqagS7FqMTzu341LvniuNEB7yMgHa71/W3Fk1UgaTun+i1kqWwK4Hb6mJr+JlNFojqP0vd\n",
       "HmNoWZfARRX4gl9+ngWSuhABnbocCEtDAqtq/sSEaRZYTQJtPwnMNQXQWVGAboX6VQ4o1BqgWRdA\n",
       "g86k+PvM/5pllv5hgv9zQKHWAN0BATQpDxdBJpHo1rr1ATATAxc8aqMQqTXA/IoAZjEY6ycYFbBm\n",
       "pHu/Ca8Ae1yEpNYB7YoA5nCO0YVsGw6PpXsJrHeAIw5Iagk0PG+s5nkDMbD/IQbmytA6D2MKy9DB\n",
       "wrn4BqhE6FTDHOImWm2Ygy/gE4Wc2HIyh99vOYPG1i6M2IFA0P14g03M/S8uQlJrD6UsgHjYYPr5\n",
       "cVfEZD2jaRCGsV/mgKTWAQ0/LGysYqt0dXMabtLDELeoDGGKLWxU9w09ltLA0JINwqs3GasJaDej\n",
       "d6/CXr3J1NPjJ//u5F1upIBufCfqLLCRirfe824IYCaQhvsNTNtO5L7l38NYrT7lZQm0yklzvOYP\n",
       "HphWp5bCZJ2KUYdz50UkhQPF0dEBZwE+AXfPotJq1ovdAAAAAElFTkSuQmCC\n",
       "\" style=\"display:inline;vertical-align:middle;\" /></a></span><br>"
      ],
      "text/plain": [
       "tuple_spec: |- |(a_{1}, b)| = (1 + 1)"
      ]
     },
     "execution_count": 4,
     "metadata": {},
     "output_type": "execute_result"
    }
   ],
   "source": [
    "tuple_spec = tuple_len_incr.specialize({i: one_spec.rhs, a: one_spec.lhs.operands[0].entries[0], b: b})"
   ]
  },
  {
   "cell_type": "code",
   "execution_count": 5,
   "metadata": {},
   "outputs": [
    {
     "data": {
      "text/html": [
       "<strong id=\"spec\">spec:</strong> <span style=\"font-size:20px;\"> <a class=\"ProveItLink\" href=\"../__pv_it/668478b0814a5b3f8f291714ddd0c37b3c51d31a0/proof.ipynb\" style=\"text-decoration: none\">&#x22A2;&nbsp;</a><a class=\"ProveItLink\" href=\"../__pv_it/c30400d6065ba21e9cb2f41bd57e97b6bf679b820/expr.ipynb\"><img src=\"data:image/png;base64,iVBORw0KGgoAAAANSUhEUgAAAG0AAAAVBAMAAAC+p33JAAAAMFBMVEX///9UVFREREQiIiIQEBCY\n",
       "mJhmZmYyMjLu7u6qqqrMzMyIiIi6urp2dnbc3NwAAABm9RoHAAAAAXRSTlMAQObYZgAAAAlwSFlz\n",
       "AAAOxAAADsQBlSsOGwAAAZ1JREFUOMtjeMAAAnwMWAAfbikGhjtgcic2KZ4NIJL3AG59nBfQhZuc\n",
       "YaZh6ONLK1oA1deOaV4ZELM3YNP3kIH3D1RfKqa+n0DMmoBNnwQDgwtUnwOm336ASA9s+vwbGOQf\n",
       "gPXxFGDo4zUAkaXY9AkzMMgvAOtjAwXLs9uvkSTZpbdNYGC4iCM87SHuZA8A2unHoN+AkOmv4PjH\n",
       "wBAO15dsDAKGEEmu3xB9zECjWwIYkhkYWmEunt/AAJScjN0+5gSIPhagVH4Dgy0D124DqFQ6A8df\n",
       "Bob12PWlMSD0OTFwAGOF0wAefTzAmDiCVR84esD+mwAynfUDkr6vDGw/kN2J7L+5DHyQeGDawMDx\n",
       "k4GpYB5EHyh4/oA8zBCEzT6uCwzcDWB9vAIMDNUMwQkXwPo4vgOFRBnUgGQ2Nn2P09KEIe7kAapu\n",
       "3LtOegHEPmOghW2g6GOww6av/v//79B0ZgUTA+vjhMUjnwGBfBSGoo8XxmMLIKCP6QHUguvfgHm1\n",
       "Gyb3iFC+5VBAFgqAMTTw6NsFJp9ik2IFu4J7ATY5AIUWdo/prTkiAAAAAElFTkSuQmCC\n",
       "\" style=\"display:inline;vertical-align:middle;\" /></a></span><br>"
      ],
      "text/plain": [
       "spec: |- |(a_{1}, b)| = 2"
      ]
     },
     "execution_count": 5,
     "metadata": {},
     "output_type": "execute_result"
    }
   ],
   "source": [
    "spec = tuple_spec.applyTransitivity(add_1_1)"
   ]
  },
  {
   "cell_type": "code",
   "execution_count": 6,
   "metadata": {},
   "outputs": [
    {
     "data": {
      "text/html": [
       "<strong id=\"inst\">inst:</strong> <span style=\"font-size:20px;\"> <a class=\"ProveItLink\" href=\"../__pv_it/edad72393a4eaaf588f00880d5a1d85564ccc7c50/proof.ipynb\" style=\"text-decoration: none\">&#x22A2;&nbsp;</a><a class=\"ProveItLink\" href=\"../__pv_it/a951f284489051f4ab48d5306004de5f0d89bd580/expr.ipynb\"><img src=\"data:image/png;base64,iVBORw0KGgoAAAANSUhEUgAAAGMAAAAVBAMAAACgbk16AAAAMFBMVEX///9UVFREREQiIiIQEBCY\n",
       "mJhmZmYyMjLu7u6qqqrMzMyIiIi6urp2dnbc3NwAAABm9RoHAAAAAXRSTlMAQObYZgAAAAlwSFlz\n",
       "AAAOxAAADsQBlSsOGwAAAYFJREFUOMtjeMAAAnwMqADKf8CADdwBkzvRRHk2IEli1cJ5AUmkyRlu\n",
       "BroWvrSiBVDRdhSJMiBmb8Cm5SED7x+oaCqKxE8gZk3ApkWCgcEFKuqA4o8fINIDmxb/Bgb5B2BR\n",
       "ngJkcV4DEFmKTYswA4P8ArAoG8j3z26/hoizS2+bwMBwEUeI2UNE2QOANvkx6IO9zNBfwfGPgSEc\n",
       "riXZGAQMITq4fkNEmYGmtgQwJENE5zcwAMUnY7eFOQEiynKAgSG/gcEWIprOwPGXgWE9di1pDAgt\n",
       "Tgwcf2DRwgMM5iNYtYDDHuyXCSCDWT9AhL8ysP1AdhiyX+Yy8EECmWkDA8dPBqaCeQygAPgD8hdD\n",
       "EDZbuC4wcDeARXkFGBiqGYITLnB8B/JEGdSAZDY2LY/T0oQhojzAyGvcu056AYMx0Jo2ULQw2GHT\n",
       "Uv///3eoqBVMjLMBlmYNCCT+MHhigTHYAghoYYJlv26Y8CNCWYxDAcoLgAlr4NGyC0w+RY+yB0iS\n",
       "aAAASC1yiQ7Pt0oAAAAASUVORK5CYII=\n",
       "\" style=\"display:inline;vertical-align:middle;\" /></a></span><br>"
      ],
      "text/plain": [
       "inst: |- |(a, b)| = 2"
      ]
     },
     "execution_count": 6,
     "metadata": {},
     "output_type": "execute_result"
    }
   ],
   "source": [
    "inst = spec.instantiate({IndexedVar(a, one):a})"
   ]
  },
  {
   "cell_type": "code",
   "execution_count": 7,
   "metadata": {},
   "outputs": [
    {
     "data": {
      "text/html": [
       "<table><tr><th>&nbsp;</th><th>step type</th><th>requirements</th><th>statement</th></tr>\n",
       "<tr><td><a name=\"0x1ff730a3311bc175_step0\">0</a></td><td>generalizaton</td><td><a href=\"#0x1ff730a3311bc175_step1\">1</a></td><td><span style=\"font-size:20px;\"> <a class=\"ProveItLink\" href=\"../__pv_it/2e6209aaf170138934c8f3764c89295354a0d2900/proof.ipynb\" style=\"text-decoration: none\">&#x22A2;&nbsp;</a><a class=\"ProveItLink\" href=\"../__pv_it/c22741a9e8280e3efa3aaf37b0e6b79df46c307b0/expr.ipynb\"><img src=\"data:image/png;base64,iVBORw0KGgoAAAANSUhEUgAAAJ8AAAAWBAMAAAAsilPDAAAAMFBMVEX///+IiIgiIiIQEBB2dnbu\n",
       "7u5UVFTMzMzc3NwyMjK6urpmZmaYmJiqqqpEREQAAACk/Np2AAAAAXRSTlMAQObYZgAAAAlwSFlz\n",
       "AAAOxAAADsQBlSsOGwAAAo5JREFUOMutVE1oE0EU/vKz7GY32eYg9iBCCWq9iKUqigeNlyJFYUUR\n",
       "pNCmojehAUG8da3gRZF4KAjWWvUkeEiLIJqCqSAohRKlBw+C9VAQPFjBgg2W+t7uzLLZnb05YSYz\n",
       "7+33vTfvvXlA0nDpx8OIyA2pVmKSR6qFQW+zM6Iwi97foAr0mOYKb77EdcsCUyiHhMP9gYUoodGY\n",
       "rrIXeM2n+zE+rSYwFzrED2jmHBXhLWTbwCRwjdlXYoRWU2DmO8SbNPN1FeFl4ACw6NvLtmKEGYnp\n",
       "64jfOq+HVITHHYy5yDjIkyu5eAifCYxZC0uzPbxOqQgvAmNV5Iitv1Q6GCd8ITAW5+T2iRu+NDe6\n",
       "gy4zkJDl/WSxArwEVuPKKYFhk+YR/PQSgZFJ7Q/wISCcK/HY40P0XxTfGqfHqEgafVru9glMmjw6\n",
       "28ScL/3qgFCf1B6mKVkFiontZGcC4SW5OSowGdK9cbDLl76C9hsYVxM22KM1Ii2GcnJYRXgMWluW\n",
       "oUmF81RJ6FWTyUVRW6BlaOGkF4btfrDwUMawxU7l13zpX1jr4SuHY7gMw/WujNNU3lqvziWW2p2q\n",
       "+9BvAmMXoW3Crn0GW2pzPLGk8lAvI0VFyE/kJuXEqut9Hjwv6m5AYLgO7uFtvaxt0OkKftA6qyKc\n",
       "aDSoFC3uHHYV6JpJVbyIWSLjT2Rh0x3Ob7s+WkWJXBziMsReFeGjrS0ymZYNbMS13xGgy8mIV5iu\n",
       "CkyvRBQc2Vd6EtsXJoKn644/xzmknaVQzjzMYvDswn0jiTBoJeb8x1O42tJng+73XWBseYkzUnM3\n",
       "ucFG21a46QwLjCa/aUrNajKh7XQcC+Gj0US3t7kTLWDf5W4V4fvIp/gP4x94jJZAJJDJogAAAABJ\n",
       "RU5ErkJggg==\n",
       "\" style=\"display:inline;vertical-align:middle;\" /></a></span></td></tr>\n",
       "<tr><td><a name=\"0x1ff730a3311bc175_step1\">1</a></td><td>instantiation</td><td><a href=\"#0x1ff730a3311bc175_step2\">2</a></td><td><span style=\"font-size:20px;\"> <a class=\"ProveItLink\" href=\"../__pv_it/edad72393a4eaaf588f00880d5a1d85564ccc7c50/proof.ipynb\" style=\"text-decoration: none\">&#x22A2;&nbsp;</a><a class=\"ProveItLink\" href=\"../__pv_it/a951f284489051f4ab48d5306004de5f0d89bd580/expr.ipynb\"><img src=\"data:image/png;base64,iVBORw0KGgoAAAANSUhEUgAAAGMAAAAVBAMAAACgbk16AAAAMFBMVEX///9UVFREREQiIiIQEBCY\n",
       "mJhmZmYyMjLu7u6qqqrMzMyIiIi6urp2dnbc3NwAAABm9RoHAAAAAXRSTlMAQObYZgAAAAlwSFlz\n",
       "AAAOxAAADsQBlSsOGwAAAYFJREFUOMtjeMAAAnwMqADKf8CADdwBkzvRRHk2IEli1cJ5AUmkyRlu\n",
       "BroWvrSiBVDRdhSJMiBmb8Cm5SED7x+oaCqKxE8gZk3ApkWCgcEFKuqA4o8fINIDmxb/Bgb5B2BR\n",
       "ngJkcV4DEFmKTYswA4P8ArAoG8j3z26/hoizS2+bwMBwEUeI2UNE2QOANvkx6IO9zNBfwfGPgSEc\n",
       "riXZGAQMITq4fkNEmYGmtgQwJENE5zcwAMUnY7eFOQEiynKAgSG/gcEWIprOwPGXgWE9di1pDAgt\n",
       "Tgwcf2DRwgMM5iNYtYDDHuyXCSCDWT9AhL8ysP1AdhiyX+Yy8EECmWkDA8dPBqaCeQygAPgD8hdD\n",
       "EDZbuC4wcDeARXkFGBiqGYITLnB8B/JEGdSAZDY2LY/T0oQhojzAyGvcu056AYMx0Jo2ULQw2GHT\n",
       "Uv///3eoqBVMjLMBlmYNCCT+MHhigTHYAghoYYJlv26Y8CNCWYxDAcoLgAlr4NGyC0w+RY+yB0iS\n",
       "aAAASC1yiQ7Pt0oAAAAASUVORK5CYII=\n",
       "\" style=\"display:inline;vertical-align:middle;\" /></a></span></td></tr>\n",
       "<tr><td>&nbsp;</td><td colspan=4 style=\"text-align:left\"><span style=\"font-size:20px;\"></span></td></tr><tr><td><a name=\"0x1ff730a3311bc175_step2\">2</a></td><td>instantiation</td><td><a href=\"#0x1ff730a3311bc175_step3\">3</a>, <a href=\"#0x1ff730a3311bc175_step4\">4</a>, <a href=\"#0x1ff730a3311bc175_step5\">5</a></td><td><span style=\"font-size:20px;\"> <a class=\"ProveItLink\" href=\"../__pv_it/668478b0814a5b3f8f291714ddd0c37b3c51d31a0/proof.ipynb\" style=\"text-decoration: none\">&#x22A2;&nbsp;</a><a class=\"ProveItLink\" href=\"../__pv_it/c30400d6065ba21e9cb2f41bd57e97b6bf679b820/expr.ipynb\"><img src=\"data:image/png;base64,iVBORw0KGgoAAAANSUhEUgAAAG0AAAAVBAMAAAC+p33JAAAAMFBMVEX///9UVFREREQiIiIQEBCY\n",
       "mJhmZmYyMjLu7u6qqqrMzMyIiIi6urp2dnbc3NwAAABm9RoHAAAAAXRSTlMAQObYZgAAAAlwSFlz\n",
       "AAAOxAAADsQBlSsOGwAAAZ1JREFUOMtjeMAAAnwMWAAfbikGhjtgcic2KZ4NIJL3AG59nBfQhZuc\n",
       "YaZh6ONLK1oA1deOaV4ZELM3YNP3kIH3D1RfKqa+n0DMmoBNnwQDgwtUnwOm336ASA9s+vwbGOQf\n",
       "gPXxFGDo4zUAkaXY9AkzMMgvAOtjAwXLs9uvkSTZpbdNYGC4iCM87SHuZA8A2unHoN+AkOmv4PjH\n",
       "wBAO15dsDAKGEEmu3xB9zECjWwIYkhkYWmEunt/AAJScjN0+5gSIPhagVH4Dgy0D124DqFQ6A8df\n",
       "Bob12PWlMSD0OTFwAGOF0wAefTzAmDiCVR84esD+mwAynfUDkr6vDGw/kN2J7L+5DHyQeGDawMDx\n",
       "k4GpYB5EHyh4/oA8zBCEzT6uCwzcDWB9vAIMDNUMwQkXwPo4vgOFRBnUgGQ2Nn2P09KEIe7kAapu\n",
       "3LtOegHEPmOghW2g6GOww6av/v//79B0ZgUTA+vjhMUjnwGBfBSGoo8XxmMLIKCP6QHUguvfgHm1\n",
       "Gyb3iFC+5VBAFgqAMTTw6NsFJp9ik2IFu4J7ATY5AIUWdo/prTkiAAAAAElFTkSuQmCC\n",
       "\" style=\"display:inline;vertical-align:middle;\" /></a></span></td></tr>\n",
       "<tr><td>&nbsp;</td><td colspan=4 style=\"text-align:left\"><span style=\"font-size:20px;\"><a class=\"ProveItLink\" href=\"../../../../__pv_it/72df168d2bfb4e0140af90912ebf83b13772060b0/expr.ipynb\"><img src=\"data:image/png;base64,iVBORw0KGgoAAAANSUhEUgAAAAsAAAAJBAMAAAAWSsseAAAAMFBMVEX///8QEBC6uroyMjJERETc\n",
       "3NyYmJgiIiJmZmaqqqp2dnbMzMxUVFSIiIju7u4AAAAoIwv1AAAAAXRSTlMAQObYZgAAAAlwSFlz\n",
       "AAAOxAAADsQBlSsOGwAAAENJREFUCNdjYHh75/WqCQwMDbxnOQoY2AJ4v/IkMHAzsBgwgAD/BTCl\n",
       "H8D3gOGJwnkGLgaG+fsaGTQZGF7c5WybwAAAJGsQ2L2rVEcAAAAASUVORK5CYII=\n",
       "\" style=\"display:inline;vertical-align:middle;\" /></a> : <a class=\"ProveItLink\" href=\"../__pv_it/fb7dd485237acf9dec6b45892f1c97df334a255e0/expr.ipynb\"><img src=\"data:image/png;base64,iVBORw0KGgoAAAANSUhEUgAAAEUAAAAVBAMAAADiLT7tAAAAMFBMVEX///9UVFREREQiIiIQEBCY\n",
       "mJhmZmYyMjLu7u6qqqrMzMyIiIi6urp2dnbc3NwAAABm9RoHAAAAAXRSTlMAQObYZgAAAAlwSFlz\n",
       "AAAOxAAADsQBlSsOGwAAAUFJREFUKM9jeMAAAnwMWAAfjLwDZuzEpoZnA4jkPQBRw3kBXb7JGaYT\n",
       "pqYd05AyIGZvQFKTiqnmJxCzJiCpccB0yw8Q6YFQw1OAoYbXAESWItSwgZz87PZrJDXs0tsmMDBc\n",
       "RKhhDwCa5ceg34BQ01/B8Y+BIRyhhhmopSWAIZmBoRVm6/wGht8MDJMRalgOMDDkNzDYMnDtNoCq\n",
       "SWfg+MvAsB5VjRMDxx9gYBrAg4cH6PsjSO6ZANLF+gFJzVcGth8odjFtYOD4ycBUMA+iBuT0PyAH\n",
       "MgQh1PAKMDBUMwQnXACr4fgOFBJlUAOS2UhhCJRp3LtOegHEHGOgQW2g4GGwQ4oLK1iwgNVwwsKJ\n",
       "zwBJTRiKGl4Yjy0ASQ3TA6jG69+A6aobpuYRcvrhUECOzwAYQwOqZheY9xRbWmUFm869AADLg2Jl\n",
       "GiKqzgAAAABJRU5ErkJggg==\n",
       "\" style=\"display:inline;vertical-align:middle;\" /></a>, <a class=\"ProveItLink\" href=\"../../../../__pv_it/c6e291955561f22a0e6708fd793ea93f1c7dbb5d0/expr.ipynb\"><img src=\"data:image/png;base64,iVBORw0KGgoAAAANSUhEUgAAAAsAAAANBAMAAACN24kIAAAAMFBMVEX///8iIiLMzMy6urpEREQy\n",
       "MjLc3NyYmJgQEBCqqqp2dnZUVFRmZmaIiIju7u4AAACJ/BCYAAAAAXRSTlMAQObYZgAAAAlwSFlz\n",
       "AAAOxAAADsQBlSsOGwAAAFdJREFUCNdj4LtzgeE1AwMXZwNDPQNDJk8AwxYGhgccFxh6GRgY7B8w\n",
       "fQJSRxl4G4CUNwPLBiB1msG+AEi9Xns+gQEElgIxTwBfJ5BivMC9AEhx3j0MJAH6nBTYXSPRQAAA\n",
       "AABJRU5ErkJggg==\n",
       "\" style=\"display:inline;vertical-align:middle;\" /></a> : <a class=\"ProveItLink\" href=\"../__pv_it/f93ff5eb9551336b7b02baadd4b7d003f7ae987e0/expr.ipynb\"><img src=\"data:image/png;base64,iVBORw0KGgoAAAANSUhEUgAAACsAAAAQBAMAAAB9zpudAAAAKlBMVEX///+qqqqYmJi6uroQEBBE\n",
       "RESIiIgyMjJmZmZUVFTu7u4iIiLMzMwAAACJWL5EAAAAAXRSTlMAQObYZgAAAAlwSFlzAAAOxAAA\n",
       "DsQBlSsOGwAAAE1JREFUGNNjYODZxYAGTi9gYFjZfgtVkGtGLVCYgQ0mzKwAZeSiCDMm0FeYY/fu\n",
       "Ld67d0+gh5WcIbenoQpP9d2ZgBRGjAkM2AA8qIAAALeyJ+fOkohKAAAAAElFTkSuQmCC\n",
       "\" style=\"display:inline;vertical-align:middle;\" /></a>, <a class=\"ProveItLink\" href=\"../../../../__pv_it/0d889e00aed425c3081fbda3ac9194ae911895960/expr.ipynb\"><img src=\"data:image/png;base64,iVBORw0KGgoAAAANSUhEUgAAAAoAAAAJBAMAAAD5iKAgAAAAMFBMVEX///8QEBCqqqpUVFS6urru\n",
       "7u5mZmZERER2dnaIiIgyMjKYmJjc3NwiIiLMzMwAAAC+/aJUAAAAAXRSTlMAQObYZgAAAAlwSFlz\n",
       "AAAOxAAADsQBlSsOGwAAADhJREFUCNdjYOC7++A0AwPXjMoEBoajDBwMQMCaCiJPgAiWCQwBDAze\n",
       "DAwGDHwVlb0PgAoUlzAAADSiCqmElLEHAAAAAElFTkSuQmCC\n",
       "\" style=\"display:inline;vertical-align:middle;\" /></a> : <a class=\"ProveItLink\" href=\"../../__pv_it/fb4ccffdbfd0f653ebaacb95e7ff4802fd48a6f20/expr.ipynb\"><img src=\"data:image/png;base64,iVBORw0KGgoAAAANSUhEUgAAAAkAAAAOBAMAAAAPuiubAAAAMFBMVEX///+qqqqYmJiIiIgiIiIQ\n",
       "EBDu7u66urp2dnZUVFTMzMxEREQyMjJmZmbc3NwAAADG9xhMAAAAAXRSTlMAQObYZgAAAAlwSFlz\n",
       "AAAOxAAADsQBlSsOGwAAAE9JREFUCNdj4Lt7egEDw0sGju8MDNMYGEIZGOITGOY/YJjCwDAfKMHA\n",
       "4A8iuD6DSJYLIPIuiGACMyUY+B4wcDUwMCcwPLl7F6jl/P//fxgAW7YV+O4aX5IAAAAASUVORK5C\n",
       "YII=\n",
       "\" style=\"display:inline;vertical-align:middle;\" /></a></span></td></tr><tr><td><a name=\"0x1ff730a3311bc175_step3\">3</a></td><td>axiom</td><td></td><td><span style=\"font-size:20px;\"> <a class=\"ProveItLink\" href=\"../../../../logic/equality/_axioms_.ipynb#equalsTransitivity\" style=\"text-decoration: none\">&#x22A2;&nbsp;</a><a class=\"ProveItLink\" href=\"../../../../logic/equality/__pv_it/2ec484d321bd84454ec9e76755ed993e1eddea420/expr.ipynb\"><img src=\"data:image/png;base64,iVBORw0KGgoAAAANSUhEUgAAANEAAAAXBAMAAABnpbd1AAAAMFBMVEX///+IiIgiIiIQEBB2dnbu\n",
       "7u5UVFTMzMzc3NwyMjK6urpmZmaYmJiqqqpEREQAAACk/Np2AAAAAXRSTlMAQObYZgAAAAlwSFlz\n",
       "AAAOxAAADsQBlSsOGwAAAn5JREFUSMetVT9oE2EU/yW5f73k0iuEIhQ1ZDDoFKQgHYQTLCLScoOK\n",
       "WocUdCsS26LgoIdtBcUhDkKXQiuiOIldLNIhxaUoShZxaIc4OFSKxEHq6Ht3l0t67R0NfD9Ift99\n",
       "777v991773sPEAct2uRAKA5Hm5bo1+DBpgghw4q2JerABx7Mi1C6Gmd8DtxhBzdEKK3GGT8DPTYg\n",
       "1UUoleKMKRuZGqmJENKrcdYekjlZKAyKUEpTQsh9N6dHwobJolaDVAbeAz+jFnejxKdOo99c5ofl\n",
       "AuOYa3g2OgBk6IsfQStHLM52o5SkYK/jqDMRvs826GuNPG1nS4silFK0SwVb+1jGKOnUJqmZkQnR\n",
       "tRLwZ58ixTda58ysrtFf38oFqk16v7f75PzrtlJiYHalVVTKbk3xiaEef1Lx48RXRf+HS+E4LUH2\n",
       "vIcRur8J5xa/KfXaU2w8N221lQ4pjYX0b8I2rL8qn43Jn5Hunm05wIT8S2kiXJP0GhTKCD7aDCVE\n",
       "Bj9UGs69wBHXPNvhvVrW9I+tXcsnGgF1+IZBeWzsjJX0cBW4P5orUlaavJ+7z447fQPjrk/Mzjj1\n",
       "VlqrFEsx2+TidnD2POR35saXcJgsY4gimAz6htp0u8sJnPKWz3UoPYDj+yq5mGJVJn9GNSmLPRTj\n",
       "8uVhazAjVSVcpLf1JpG2cK8cKGml84Hvk5W3kC2XfDz+/qqjiB6g/F7+dGYYU3VsfK0SSdeHnEBJ\n",
       "nniZax3bWN2CetolH8Mfg46TjWms4W5Rl50s1ZR65H26gm2S82gP5Jjek7V3N01bMd8wRSqNc8H+\n",
       "5tFePI1WWt/9mIGxZjFFKm3mOOs9EgpN5Gb/AZFTmUcA4ZeFAAAAAElFTkSuQmCC\n",
       "\" style=\"display:inline;vertical-align:middle;\" /></a></span></td></tr>\n",
       "<tr><td>&nbsp;</td><td colspan=4 style-\"text-align:left\"><a class=\"ProveItLink\" href=\"../../../../logic/equality/_axioms_.ipynb#equalsTransitivity\">proveit.logic.equality.equalsTransitivity</a></td></tr><tr><td><a name=\"0x1ff730a3311bc175_step4\">4</a></td><td>instantiation</td><td><a href=\"#0x1ff730a3311bc175_step6\">6</a>, <a href=\"#0x1ff730a3311bc175_step7\">7</a>, <a href=\"#0x1ff730a3311bc175_step8\">8</a></td><td><span style=\"font-size:20px;\"> <a class=\"ProveItLink\" href=\"../__pv_it/e750f2f8913e4121bb8a8aa0ea30041ef1908a960/proof.ipynb\" style=\"text-decoration: none\">&#x22A2;&nbsp;</a><a class=\"ProveItLink\" href=\"../__pv_it/e845b727a240c9e8a365deada2c1d54458a65d120/expr.ipynb\"><img src=\"data:image/png;base64,iVBORw0KGgoAAAANSUhEUgAAAJ8AAAAVBAMAAACqHiFtAAAAMFBMVEX///9UVFREREQiIiIQEBCY\n",
       "mJhmZmYyMjLu7u6qqqrMzMyIiIi6urp2dnbc3NwAAABm9RoHAAAAAXRSTlMAQObYZgAAAAlwSFlz\n",
       "AAAOxAAADsQBlSsOGwAAAglJREFUOMuFlL9LK0EQx8f8uB/mLthYpUkh+srIiYiFBMIDy/CK2Kkg\n",
       "YiEPbBQ78x6ihUUE/wDtLTwQHmghFnY2ea1YnEpKQRAx4g+c2ds777KzuHDL3sx3Pzs7O7sQALUi\n",
       "MK2oc7FqagS7FqMTzu341LvniuNEB7yMgHa71/W3Fk1UgaTun+i1kqWwK4Hb6mJr+JlNFojqP0vd\n",
       "HmNoWZfARRX4gl9+ngWSuhABnbocCEtDAqtq/sSEaRZYTQJtPwnMNQXQWVGAboX6VQ4o1BqgWRdA\n",
       "g86k+PvM/5pllv5hgv9zQKHWAN0BATQpDxdBJpHo1rr1ATATAxc8aqMQqTXA/IoAZjEY6ycYFbBm\n",
       "pHu/Ca8Ae1yEpNYB7YoA5nCO0YVsGw6PpXsJrHeAIw5Iagk0PG+s5nkDMbD/IQbmytA6D2MKy9DB\n",
       "wrn4BqhE6FTDHOImWm2Ygy/gE4Wc2HIyh99vOYPG1i6M2IFA0P14g03M/S8uQlJrD6UsgHjYYPr5\n",
       "cVfEZD2jaRCGsV/mgKTWAQ0/LGysYqt0dXMabtLDELeoDGGKLWxU9w09ltLA0JINwqs3GasJaDej\n",
       "d6/CXr3J1NPjJ//u5F1upIBufCfqLLCRirfe824IYCaQhvsNTNtO5L7l38NYrT7lZQm0yklzvOYP\n",
       "HphWp5bCZJ2KUYdz50UkhQPF0dEBZwE+AXfPotJq1ovdAAAAAElFTkSuQmCC\n",
       "\" style=\"display:inline;vertical-align:middle;\" /></a></span></td></tr>\n",
       "<tr><td>&nbsp;</td><td colspan=4 style=\"text-align:left\"><span style=\"font-size:20px;\"><a class=\"ProveItLink\" href=\"../../../../__pv_it/557ab5defdcd46aa58168b08767502985122cd490/expr.ipynb\"><img src=\"data:image/png;base64,iVBORw0KGgoAAAANSUhEUgAAAAcAAAAOBAMAAAARcxsoAAAALVBMVEX///9ERESYmJhUVFQyMjKq\n",
       "qqrc3NwQEBC6urru7u52dnYiIiJmZmaIiIgAAAD/UVazAAAAAXRSTlMAQObYZgAAAAlwSFlzAAAO\n",
       "xAAADsQBlSsOGwAAADlJREFUCNdjYGC4wwAEuxjQAeedCwwMXBwFDAypPA4MDBP4gFyGuAlAwhkk\n",
       "+5SLgYHjQRKQKavAAAAx5QmdfgFqMAAAAABJRU5ErkJggg==\n",
       "\" style=\"display:inline;vertical-align:middle;\" /></a> : <a class=\"ProveItLink\" href=\"../../__pv_it/f086f8c372bd40a2458306ddfdbb29f3dc6f63030/expr.ipynb\"><img src=\"data:image/png;base64,iVBORw0KGgoAAAANSUhEUgAAAAgAAAAOBAMAAADgeEClAAAAIVBMVEX///8QEBBERESIiIgyMjJm\n",
       "ZmZUVFTu7u4iIiLMzMwAAAAWRytzAAAAAXRSTlMAQObYZgAAAAlwSFlzAAAOxAAADsQBlSsOGwAA\n",
       "ABtJREFUCNdjYOBsZ2AoC1nOwMDATBbBprgiGQBsuwqCZsDj4wAAAABJRU5ErkJggg==\n",
       "\" style=\"display:inline;vertical-align:middle;\" /></a>, <a class=\"ProveItLink\" href=\"../../../../__pv_it/a8d4b3a34d2189508f9082853fbac36935714f280/expr.ipynb\"><img src=\"data:image/png;base64,iVBORw0KGgoAAAANSUhEUgAAAAsAAAAJBAMAAAAWSsseAAAAMFBMVEX////MzMxUVFQyMjKqqqoi\n",
       "IiKYmJju7u5EREQQEBC6urqIiIh2dnZmZmbc3NwAAAD0tjQRAAAAAXRSTlMAQObYZgAAAAlwSFlz\n",
       "AAAOxAAADsQBlSsOGwAAAEdJREFUCNdjYOC7s28DAwPDygcc3xkY2Kcx8AYwMPB+Z2A9wMDA2cBQ\n",
       "v4CBof4AQz5QRb0DQzPLAwbmDWyxPECV2gcfbWQAABp5EMgcedARAAAAAElFTkSuQmCC\n",
       "\" style=\"display:inline;vertical-align:middle;\" /></a> : <a class=\"ProveItLink\" href=\"../../../../__pv_it/a8d4b3a34d2189508f9082853fbac36935714f280/expr.ipynb\"><img src=\"data:image/png;base64,iVBORw0KGgoAAAANSUhEUgAAAAsAAAAJBAMAAAAWSsseAAAAMFBMVEX////MzMxUVFQyMjKqqqoi\n",
       "IiKYmJju7u5EREQQEBC6urqIiIh2dnZmZmbc3NwAAAD0tjQRAAAAAXRSTlMAQObYZgAAAAlwSFlz\n",
       "AAAOxAAADsQBlSsOGwAAAEdJREFUCNdjYOC7s28DAwPDygcc3xkY2Kcx8AYwMPB+Z2A9wMDA2cBQ\n",
       "v4CBof4AQz5QRb0DQzPLAwbmDWyxPECV2gcfbWQAABp5EMgcedARAAAAAElFTkSuQmCC\n",
       "\" style=\"display:inline;vertical-align:middle;\" /></a>, <a class=\"ProveItLink\" href=\"../../../../__pv_it/53e304ff98ebc000dbe3ef224f4637dbafd46ba70/expr.ipynb\"><img src=\"data:image/png;base64,iVBORw0KGgoAAAANSUhEUgAAAAkAAAAOBAMAAAAPuiubAAAALVBMVEX///+YmJjc3NyIiIhUVFR2\n",
       "dna6urqqqqpmZmYyMjIiIiIQEBBERETu7u4AAAALjtrwAAAAAXRSTlMAQObYZgAAAAlwSFlzAAAO\n",
       "xAAADsQBlSsOGwAAAE5JREFUCNdj4D29gAEIOBtAJF8BiMy7ACKjQATDFON2BgbelxfuKTCwv2Xg\n",
       "M2DgmMBwLwCkPK+AgU+Aoe8CA18C70YGBhYBHqARvM1A5QCqGhDobJhHyAAAAABJRU5ErkJggg==\n",
       "\" style=\"display:inline;vertical-align:middle;\" /></a> : <a class=\"ProveItLink\" href=\"../../../../__pv_it/53e304ff98ebc000dbe3ef224f4637dbafd46ba70/expr.ipynb\"><img src=\"data:image/png;base64,iVBORw0KGgoAAAANSUhEUgAAAAkAAAAOBAMAAAAPuiubAAAALVBMVEX///+YmJjc3NyIiIhUVFR2\n",
       "dna6urqqqqpmZmYyMjIiIiIQEBBERETu7u4AAAALjtrwAAAAAXRSTlMAQObYZgAAAAlwSFlzAAAO\n",
       "xAAADsQBlSsOGwAAAE5JREFUCNdj4D29gAEIOBtAJF8BiMy7ACKjQATDFON2BgbelxfuKTCwv2Xg\n",
       "M2DgmMBwLwCkPK+AgU+Aoe8CA18C70YGBhYBHqARvM1A5QCqGhDobJhHyAAAAABJRU5ErkJggg==\n",
       "\" style=\"display:inline;vertical-align:middle;\" /></a></span></td></tr><tr><td><a name=\"0x1ff730a3311bc175_step5\">5</a></td><td>theorem</td><td></td><td><span style=\"font-size:20px;\"> <a class=\"ProveItLink\" href=\"add_1_1.ipynb\" style=\"text-decoration: none\">&#x22A2;&nbsp;</a><a class=\"ProveItLink\" href=\"../__pv_it/7dc538239d56604f657f3b9a5934abd18d6c4d6e0/expr.ipynb\"><img src=\"data:image/png;base64,iVBORw0KGgoAAAANSUhEUgAAAGEAAAAVBAMAAACkm51HAAAAMFBMVEX////MzMxUVFREREQiIiK6\n",
       "uroQEBCYmJhmZmYyMjLu7u52dnaqqqqIiIjc3NwAAACFAiZ1AAAAAXRSTlMAQObYZgAAAAlwSFlz\n",
       "AAAOxAAADsQBlSsOGwAAASJJREFUOMtjYGB4wIAd4BJn4D2AQyIWl47TQCyyAE2Q0QubUXwdkwUY\n",
       "GLgmMHBpzEfTsajzF5Ccha7jEQP3VwYGjgIg8z5MRzjMqSAdFeg6tBgY0hgY2BiQdZxF1sGG7tb8\n",
       "BQz6DxgicevgLEDTocLAoC/A0I1bB7cCZjj5MzBMx62DfQKIyeECBhDdjH8ZGHxw6+BxwLCCpYGB\n",
       "IRWho8XFJc3FxQmug/EDho4OBhQd6HawJqBrYAdawTCHkKuQ/XGage8Bgy0enxugp50NDLwLGDbh\n",
       "1sFxAU3Hk44OYJSEAFnK+U4XUHQwmX3RBQYMenqf////T6CwALLYWRQjsSd2sPfhIByZ044jf9jh\n",
       "yjh8BjgkFuPSwbwAl1EFOCTqsAsDAG6mWgEUbaU8AAAAAElFTkSuQmCC\n",
       "\" style=\"display:inline;vertical-align:middle;\" /></a></span></td></tr>\n",
       "<tr><td>&nbsp;</td><td colspan=4 style-\"text-align:left\"><a class=\"ProveItLink\" href=\"add_1_1.ipynb\">proveit.number.numeral.deci.add_1_1</a></td></tr><tr><td><a name=\"0x1ff730a3311bc175_step6\">6</a></td><td>axiom</td><td></td><td><span style=\"font-size:20px;\"> <a class=\"ProveItLink\" href=\"../../../../core_expr_types/tuples/_axioms_.ipynb#tuple_len_incr\" style=\"text-decoration: none\">&#x22A2;&nbsp;</a><a class=\"ProveItLink\" href=\"../../../../core_expr_types/tuples/__pv_it/5da98025e66fce9b7f9b8a2843f5dc185516fb940/expr.ipynb\"><img src=\"data:image/png;base64,iVBORw0KGgoAAAANSUhEUgAAAYgAAAAWBAMAAAAodhaSAAAAMFBMVEX///+IiIgiIiIQEBB2dnbu\n",
       "7u5UVFTMzMzc3NwyMjK6urpmZmaYmJiqqqpEREQAAACk/Np2AAAAAXRSTlMAQObYZgAAAAlwSFlz\n",
       "AAAOxAAADsQBlSsOGwAABHRJREFUWMPNV11oHFUUPtmdYWb/pmssScFWl0CaShBKtViqxVUwyqIy\n",
       "1dYqpdkEfFPKxoAPvmRF7ZOEfSkIxjYaX4qCGymUah62Dz5EadyE1lAVjA/B/mig4IIGBc+Ze+/s\n",
       "zc65W+fNs5zhzJxzds53z8+9A2Ck3iGIS1X8SSE+uSZX12zv3inOUuwweprSCYX4lM4bXrvLbB/4\n",
       "lGCN7n/iQZh1PF1RIVyJC2B0XxhsBESuiKtS73j4ui/sdwUeX9Kj93kQZh1Ldk2GQEJM+gA55bMg\n",
       "XkZOFLe+6dWzvrAnLsEbVFlrPAizjqVMQ4ZAQkz6BzlbZ0EsaPJnSrjPF/bEpQCK1eRBmHUsJVUI\n",
       "yfj90KLrfhbEXk1e1kEE9vvJI4urljI0tlnH0jkVwrnYIKwCXWc4EOmaEcSMYPTYNzDwkGk6GXUs\n",
       "nVchkOCe35HvPlF1g9T4PZjxEQ5EBtvh8DwLYkQwelwAWMdWqXIghO6/0owKgYS5qtfqai0MXhI3\n",
       "5dP2nwCLIYgvBoh2B/iwHIpzLIhFwehxCtwxzKdYFWe4BHePhSCErjs5Z5T0gAoBBftRyBTAXjSP\n",
       "ssAAHhd3P/twG2CFy0SiCW7zIgtiRTB6eL41KxQTJ2/C95af8UMQbV0XekUJB1UIKGRaNBYnes2j\n",
       "rKXPzYtg/wEwxYFIzoJNCIP0PCjTI0BMCUaPXF72buYCbW35utUup1DXjR7mQCTXoDwr15YfZcIg\n",
       "3CbSOGTnDCAg12IzMSeYPGqXcAT0Aewk5eoPb2kgAh0cv/R0tBoWtssucm73ydR9qEJAoVyE76Ab\n",
       "CGHwkazWvykzWjnpPYEdnxq7QznBs6exJcq+Hexqq9aJTzQQpLOHnGiLPl+ZkqH3DKozwS8qBBTK\n",
       "TbiRqwav8aMrAMrgyZbQb8IL2L9LXCa8PBkXORBLgsnjbYT57gqkg212Fer3aiBIl6k7e8HtmFJf\n",
       "waTcQ7x8Vk7yERUCCql8dtgK1sn+i0KuSSG8CwzcEwXx5DW4hdd5DoSFIXzuNjgQ84LJw6sEi5c9\n",
       "s7HxO4I4ktJAkG7bbM8YvDm49a83oS+s2YxM9scqBBTs8adO9YuED+D7EpSsYZCXxKAyoGUm/XHa\n",
       "JmAPu9nhDPN2dpTTycd254X9nraH3ao4RZGJ9HLHUbxc9b72YSsInOq/Hc3dReI2PylPJomKdCJB\n",
       "EIHIRevpatgZxzS9W2CPHUPcjq3siZVHrlYU29o3EC6x0iWrU3juGgS7CEfCywFns5H7EfAm4S9J\n",
       "Q3EYC09yCoQV7epwtl6zNL04N0ZAfMsdAJV9eOiklR2vwjSuX/r+CngdINILy88QCOcQTFadA3Q5\n",
       "BJ9e3t6AXwEmm858GNJ15XRdPnjnLJbs4Whjh+eNF3do+mn+e8IzfSZOS9Y97Oc2bpq/7LCccu3v\n",
       "FOFQwBGuH3JHldOo7hk9l2eB1a/zIGzTx8C65G6foE/oxTjxSLNdyUoa97cWPM6QfiXEp6xY8f6I\n",
       "4j2zPXHvwThvaTBSFv4H9C8GUC3eXXISRAAAAABJRU5ErkJggg==\n",
       "\" style=\"display:inline;vertical-align:middle;\" /></a></span></td></tr>\n",
       "<tr><td>&nbsp;</td><td colspan=4 style-\"text-align:left\"><a class=\"ProveItLink\" href=\"../../../../core_expr_types/tuples/_axioms_.ipynb#tuple_len_incr\">proveit.core_expr_types.tuples.tuple_len_incr</a></td></tr><tr><td><a name=\"0x1ff730a3311bc175_step7\">7</a></td><td>theorem</td><td></td><td><span style=\"font-size:20px;\"> <a class=\"ProveItLink\" href=\"nat1.ipynb\" style=\"text-decoration: none\">&#x22A2;&nbsp;</a><a class=\"ProveItLink\" href=\"../__pv_it/b64045e23014d4aeb18f7f9a8278edac4a9c78ad0/expr.ipynb\"><img src=\"data:image/png;base64,iVBORw0KGgoAAAANSUhEUgAAADIAAAAQBAMAAACmdTG/AAAAMFBMVEX///+YmJh2dnaqqqrc3Ny6\n",
       "uroQEBBERESIiIgyMjJmZmZUVFTu7u4iIiLMzMwAAACK+5nvAAAAAXRSTlMAQObYZgAAAAlwSFlz\n",
       "AAAOxAAADsQBlSsOGwAAALRJREFUGNNjYEAHPPfL5zAw5acyMPDdQZNiN4hmYDh/gOH0yj9oMtxX\n",
       "mAQY2IAMDgwZc4YpDLzIMu13704Ayzg2eKLIRPbA9Djs41BAkmGZAzfNgZ2hFEmG0wEhw7fg7Fkk\n",
       "GYQLHBiEmcsQMs/uAkEBVIb7wDaEzHFkPTwbkEzjRZZheMGOkOFogIfOAyDvOZJ/JsNkeA2AxEqg\n",
       "3rK/O8ACp0sPgGm+++lA8iRyeAXVQkIHCgBOnzd6VWBQYAAAAABJRU5ErkJggg==\n",
       "\" style=\"display:inline;vertical-align:middle;\" /></a></span></td></tr>\n",
       "<tr><td>&nbsp;</td><td colspan=4 style-\"text-align:left\"><a class=\"ProveItLink\" href=\"nat1.ipynb\">proveit.number.numeral.deci.nat1</a></td></tr><tr><td><a name=\"0x1ff730a3311bc175_step8\">8</a></td><td>instantiation</td><td><a href=\"#0x1ff730a3311bc175_step9\">9</a></td><td><span style=\"font-size:20px;\"> <a class=\"ProveItLink\" href=\"../__pv_it/65a42a9e88947744249e80b5f208c307a36fe7b80/proof.ipynb\" style=\"text-decoration: none\">&#x22A2;&nbsp;</a><a class=\"ProveItLink\" href=\"../__pv_it/5e390983ed0c3a408f6cc76d9c9bfff72fdb0db70/expr.ipynb\"><img src=\"data:image/png;base64,iVBORw0KGgoAAAANSUhEUgAAAKMAAAAVBAMAAADY0UPbAAAAMFBMVEX////MzMxUVFREREQiIiK6\n",
       "uroQEBCYmJhmZmYyMjLu7u52dnaqqqqIiIjc3NwAAACFAiZ1AAAAAXRSTlMAQObYZgAAAAlwSFlz\n",
       "AAAOxAAADsQBlSsOGwAAAbNJREFUOMuVlD9Lw0AYh9+SpIlpDf0Cil+gkNVBreJQ1MFBBAehIOIm\n",
       "HRx00QyFDkXsJohiUVCcero5CBmcFCSCm38IIiiI0EXQ6uBdktrmvaRwgbbH77n36XuXSwDABYEr\n",
       "arKBea8topyPyB4wvxYxRjWQJojrVSEl7HDJCeZaUUy5yiVlzJNiRkjWcFLAfE5Q2YNXpVQxr7BT\n",
       "UHlyuoveLj6CUWoAIY1gvk1/Zl2p2dWoLMNIsGDVa6o0zq6xVtthPkVv+hJoOdDX4pVHRSgBHDNb\n",
       "OoeYbGO+SFtvgkyg7y5euVWDSUg8Mluige/XNOZUmTShTvPLeOUC6J9Bg0ohQhnmuwB1AhvQTan/\n",
       "gNoISvyFd+6ljfkQVdowmHY9pc7r2OcXpOqNX6KaaILkYH5G/8dR8ym/yzrdYf0bD2APVizil2j4\n",
       "uLFTFeYztDR7+nzrK+UJ+pVnA6s1YMnBfX8245fI+PWm5DCXMy3m7eUVt/J24pW8cBNGMVetkJJw\n",
       "FSSsLMe/SP75cBC872/SPeAezHZinH85YJicUnIxP+zEKleAEqnGnwkTc0Pohbkekb2G+R8HloXS\n",
       "Y0OThwAAAABJRU5ErkJggg==\n",
       "\" style=\"display:inline;vertical-align:middle;\" /></a></span></td></tr>\n",
       "<tr><td>&nbsp;</td><td colspan=4 style=\"text-align:left\"><span style=\"font-size:20px;\"><a class=\"ProveItLink\" href=\"../__pv_it/b03ca9c7bc8f532bf55517e632039b2ccc74c3bd0/expr.ipynb\"><img src=\"data:image/png;base64,iVBORw0KGgoAAAANSUhEUgAAADIAAAAVBAMAAAD2uKAMAAAAMFBMVEX///8yMjLc3NyIiIiYmJgi\n",
       "IiJERES6urqqqqoQEBDMzMxUVFTu7u52dnZmZmYAAAD1zdHuAAAAAXRSTlMAQObYZgAAAAlwSFlz\n",
       "AAAOxAAADsQBlSsOGwAAAQVJREFUKM9jYIACJgZkgMyzQJFhNwBTfHcPMHBcQJGBKry9soHhIKoE\n",
       "A+MBEDmj7ADDEzQZlgcgM/8AiQloMgxzgJg3ACgrgC4jAtS3M/oBAx+SA/QuK4MsB2J+oAsZHRAO\n",
       "nsSQD7TeEcjUX8DAwNoAlznpwPAUSLUCcT8QcxbAZd4fYIgFUuuB+CqqzDQGnu9AqhKIs0Eeg5vG\n",
       "85eB5QPUtMlAzGYAl/nBwCbQxMDgBgzWXyA/bYCbJszg+gDoh8cMDBwgvexA3y5LAwIFhtO2izYD\n",
       "XRsEDGmw8ii0IGAKYOiGWO6HJsPnwBAGCX82BVQZNQYG50cQJyWgyuQgmCqo0aPAAADjLze9pMBv\n",
       "BAAAAABJRU5ErkJggg==\n",
       "\" style=\"display:inline;vertical-align:middle;\" /></a> : <a class=\"ProveItLink\" href=\"../../../../core_expr_types/__pv_it/976fe6b95e8535cc9e0861bdc030337becead6960/expr.ipynb\"><img src=\"data:image/png;base64,iVBORw0KGgoAAAANSUhEUgAAACAAAAAMBAMAAADxOqKKAAAAMFBMVEX////MzMxUVFQyMjKqqqoi\n",
       "IiKYmJju7u5EREQQEBC6urqIiIh2dnZmZmbc3NwAAAD0tjQRAAAAAXRSTlMAQObYZgAAAAlwSFlz\n",
       "AAAOxAAADsQBlSsOGwAAAHRJREFUCNdjYOC7s28DAzJY+YDjOzKffRoDbwCyAO93BtYDyAKcDQz1\n",
       "C5AF6g8w5MO1X9vzgKHegaGZ5QFEoFRAvoCBeQNbLA9UxV0GSaAy7YOPNkIFfjFsQnER+z+GtnIU\n",
       "kXmMvxKgzLd3795dwLA2ZU8CAF0uIUPXWYaiAAAAAElFTkSuQmCC\n",
       "\" style=\"display:inline;vertical-align:middle;\" /></a>, <a class=\"ProveItLink\" href=\"../../../../__pv_it/557ab5defdcd46aa58168b08767502985122cd490/expr.ipynb\"><img src=\"data:image/png;base64,iVBORw0KGgoAAAANSUhEUgAAAAcAAAAOBAMAAAARcxsoAAAALVBMVEX///9ERESYmJhUVFQyMjKq\n",
       "qqrc3NwQEBC6urru7u52dnYiIiJmZmaIiIgAAAD/UVazAAAAAXRSTlMAQObYZgAAAAlwSFlzAAAO\n",
       "xAAADsQBlSsOGwAAADlJREFUCNdjYGC4wwAEuxjQAeedCwwMXBwFDAypPA4MDBP4gFyGuAlAwhkk\n",
       "+5SLgYHjQRKQKavAAAAx5QmdfgFqMAAAAABJRU5ErkJggg==\n",
       "\" style=\"display:inline;vertical-align:middle;\" /></a> : <a class=\"ProveItLink\" href=\"../../__pv_it/f086f8c372bd40a2458306ddfdbb29f3dc6f63030/expr.ipynb\"><img src=\"data:image/png;base64,iVBORw0KGgoAAAANSUhEUgAAAAgAAAAOBAMAAADgeEClAAAAIVBMVEX///8QEBBERESIiIgyMjJm\n",
       "ZmZUVFTu7u4iIiLMzMwAAAAWRytzAAAAAXRSTlMAQObYZgAAAAlwSFlzAAAOxAAADsQBlSsOGwAA\n",
       "ABtJREFUCNdjYOBsZ2AoC1nOwMDATBbBprgiGQBsuwqCZsDj4wAAAABJRU5ErkJggg==\n",
       "\" style=\"display:inline;vertical-align:middle;\" /></a></span></td></tr><tr><td><a name=\"0x1ff730a3311bc175_step9\">9</a></td><td>theorem</td><td></td><td><span style=\"font-size:20px;\"> <a class=\"ProveItLink\" href=\"../../../../core_expr_types/tuples/_proofs_/singular_range_reduction.ipynb\" style=\"text-decoration: none\">&#x22A2;&nbsp;</a><a class=\"ProveItLink\" href=\"../../../../core_expr_types/tuples/__pv_it/3223de9ff103d8008d15b73bbbe4249bebce511c0/expr.ipynb\"><img src=\"data:image/png;base64,iVBORw0KGgoAAAANSUhEUgAAAQ4AAAAWBAMAAADDbW/UAAAAMFBMVEX///+IiIgiIiIQEBB2dnbu\n",
       "7u5UVFTMzMzc3NwyMjK6urpmZmaYmJiqqqpEREQAAACk/Np2AAAAAXRSTlMAQObYZgAAAAlwSFlz\n",
       "AAAOxAAADsQBlSsOGwAAAy9JREFUSMe9lj1oU1EUx4/pe/alTV7rJlQhBEVBBCkWQShEod0K6eLH\n",
       "YBNwcHDJ5GpQcKo1i+LQQrVTp7YgirZDXcQPkFBUUISmQ6BjHYo4CJ5zz3nvJu/cvG5e+F/Ou/nd\n",
       "/zvvfgagR6mLuARxdUCJwaCXaUcUvSPF+FCTJeU4VQPDB+cRgy7YGnL0TERsixp+qi5fRAAvJgDy\n",
       "Jey6yi/pWRKgA7aGFI3Yj0X2Df30NNnDb7AAvFvjANcxyJQgW05JIwlq2Bqa6ATAY2Ahe4fmp5Xs\n",
       "MrjJAuj70QbY4NbcakoeSVDD1pAjgE8iZCltr6lMRQAr9FnnpHksJQ8FjrlMmeuLWsosZHOYWlaZ\n",
       "LosALtM6akjzfEoeCpx3mTK3LC3ZTRaxo8Xieb3mRPBu9DYOKK6+6TV8muydhgYnXabMYeSP4Cbx\n",
       "qixiXwG0Y/Sa+p5fknZpCYMPKeOhQAMPFk2pQpchRt4AzmGuwSL2AQRE+es0PpfE9KwIgt+0A5oQ\n",
       "NF9jsJVygClQwdYQo4eD+P58gUVsWPYWMTr8sdbR5aII8nu0nBbBN99xt3ceGlSwNcSoPITz0r/H\n",
       "IjY/bJbpUB1ceXgFtof8PgZLKceHApeceRiOom3cJzQ3JMM23lKaN6fokK1KlwURhNSSxX2drabP\n",
       "iwa3kuvDGlL0BLrnBaboRIPPVE3si+uOCPromgixqjRLBtJHqg9OkB07izXEyP/r4RptsQx73yS7\n",
       "TmvoRkG6xPvuEa0a2lorAa7jNfD/4HOlIZV9UiCrq1hDjAb2ZnG0hlmGDWvxpgqjS/K5CLbN/Ynp\n",
       "hccwOA1QxAHJ0JFtqjMUnHSCRl3FGlK0g+lm6qwO9gJVlavylKmx4KV5PCV7k6ZTT8xXcIFBIclZ\n",
       "w4zszXsiy/r74JfguwddF1W+uhDfR3JReXqJ4npwgNFdZos1jO7ADZFlcUT7x+HK0eh51yjT5gsj\n",
       "5E09h5rW6xQn0wHO6YSt4S4PW0vu+rnOXCHf0WXGKDfCvj7/MaDzX30l5EgabOs8rOEMZ11mWTb8\n",
       "VpN5jo7pTZaUWfPC+sH/C2PQBVtDjt6LLOsdcX7q/yv/AJgW+taPaHTTAAAAAElFTkSuQmCC\n",
       "\" style=\"display:inline;vertical-align:middle;\" /></a></span></td></tr>\n",
       "<tr><td>&nbsp;</td><td colspan=4 style-\"text-align:left\"><a class=\"ProveItLink\" href=\"../../../../core_expr_types/tuples/_proofs_/singular_range_reduction.ipynb\">proveit.core_expr_types.tuples.singular_range_reduction</a></td></tr></table>"
      ],
      "text/plain": [
       "\tstep type\trequirements\tstatement\n",
       "0\tgeneralizaton\t1\t|- forall_{a, b} (|(a, b)| = 2)\n",
       "1\tinstantiation\t2\t|- |(a, b)| = 2\n",
       "\t\n",
       "2\tinstantiation\t3, 4, 5\t|- |(a_{1}, b)| = 2\n",
       "\tx : |(a_{1}, b)|, y : 1 + 1, z : 2\n",
       "3\taxiom\t\t|- forall_{x, y, z | x = y, y = z} (x = z)\n",
       "\tproveit.logic.equality.equalsTransitivity\n",
       "4\tinstantiation\t6, 7, 8\t|- |(a_{1}, b)| = (1 + 1)\n",
       "\ti : 1, a : a, b : b\n",
       "5\ttheorem\t\t|- (1 + 1) = 2\n",
       "\tproveit.number.numeral.deci.add_1_1\n",
       "6\taxiom\t\t|- forall_{i in Naturals} [forall_{a_{1}, ..a_{_a}.., a_{i}, b} (|(a_{1}, ..a_{_a}.., a_{i}, b)| = (i + 1))]\n",
       "\tproveit.core_expr_types.tuples.tuple_len_incr\n",
       "7\ttheorem\t\t|- 1 in Naturals\n",
       "\tproveit.number.numeral.deci.nat1\n",
       "8\tinstantiation\t9\t|- (a_{1}, ..a_{_a}.., a_{1}) = (a_{1})\n",
       "\tf(_a) : a_{_a}, i : 1\n",
       "9\ttheorem\t\t|- forall_{f, i} ((f(i), ..f(a).., f(i)) = (f(i)))\n",
       "\tproveit.core_expr_types.tuples.singular_range_reduction"
      ]
     },
     "execution_count": 7,
     "metadata": {},
     "output_type": "execute_result"
    }
   ],
   "source": [
    "%qed"
   ]
  }
 ],
 "metadata": {
  "kernelspec": {
   "display_name": "Python 3",
   "language": "python",
   "name": "python3"
  },
  "language_info": {
   "codemirror_mode": {
    "name": "ipython",
    "version": 3
   },
   "file_extension": ".py",
   "mimetype": "text/x-python",
   "name": "python",
   "nbconvert_exporter": "python",
   "pygments_lexer": "ipython3",
   "version": "3.7.3"
  }
 },
 "nbformat": 4,
 "nbformat_minor": 1
}
