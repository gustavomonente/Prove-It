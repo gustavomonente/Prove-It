{
 "cells": [
  {
   "cell_type": "markdown",
   "metadata": {},
   "source": [
    "Proof of <a class=\"ProveItLink\" href=\"../../../../_context_.ipynb\">proveit</a>.<a class=\"ProveItLink\" href=\"../../../_context_.ipynb\">number</a>.<a class=\"ProveItLink\" href=\"../../_context_.ipynb\">numeral</a>.<a class=\"ProveItLink\" href=\"../_context_.ipynb\">deci</a>.<a class=\"ProveItLink\" href=\"../_theorems_.ipynb#tuple_len_2\">tuple_len_2</a> theorem\n",
    "========"
   ]
  },
  {
   "cell_type": "code",
   "execution_count": 1,
   "metadata": {},
   "outputs": [],
   "source": [
    "import proveit\n",
    "from proveit import varRange, ExprTuple\n",
    "from proveit._common_ import a, b, i, k, m\n",
    "from proveit.core_expr_types.tuples._axioms_ import tuple_len_incr\n",
    "from proveit.logic import InSet\n",
    "from proveit.number import Naturals, zero, one\n",
    "from proveit.number. numeral.deci._theorems_ import md_nine_add_one, tuple_len_1\n",
    "context = proveit.Context('..') # the theorem's context is in the parent directory"
   ]
  },
  {
   "cell_type": "code",
   "execution_count": 2,
   "metadata": {},
   "outputs": [
    {
     "name": "stdout",
     "output_type": "stream",
     "text": [
      "Beginning proof of tuple_len_2\n",
      "Recorded 'presuming' information\n",
      "Presuming proveit.core_expr_types.tuples.singular_range_reduction theorem (applied transitively).\n",
      "Presuming previous theorems (applied transitively).\n"
     ]
    },
    {
     "data": {
      "text/html": [
       "<strong id=\"tuple_len_2\">tuple_len_2:</strong> <a class=\"ProveItLink\" href=\"../__pv_it/c22741a9e8280e3efa3aaf37b0e6b79df46c307b0/expr.ipynb\"><img src=\"data:image/png;base64,iVBORw0KGgoAAAANSUhEUgAAAJ8AAAAWBAMAAAAsilPDAAAAMFBMVEX///+IiIgiIiIQEBB2dnbu\n",
       "7u5UVFTMzMzc3NwyMjK6urpmZmaYmJiqqqpEREQAAACk/Np2AAAAAXRSTlMAQObYZgAAAAlwSFlz\n",
       "AAAOxAAADsQBlSsOGwAAAo5JREFUOMutVE1oE0EU/vKz7GY32eYg9iBCCWq9iKUqigeNlyJFYUUR\n",
       "pNCmojehAUG8da3gRZF4KAjWWvUkeEiLIJqCqSAohRKlBw+C9VAQPFjBgg2W+t7uzLLZnb05YSYz\n",
       "7+33vTfvvXlA0nDpx8OIyA2pVmKSR6qFQW+zM6Iwi97foAr0mOYKb77EdcsCUyiHhMP9gYUoodGY\n",
       "rrIXeM2n+zE+rSYwFzrED2jmHBXhLWTbwCRwjdlXYoRWU2DmO8SbNPN1FeFl4ACw6NvLtmKEGYnp\n",
       "64jfOq+HVITHHYy5yDjIkyu5eAifCYxZC0uzPbxOqQgvAmNV5Iitv1Q6GCd8ITAW5+T2iRu+NDe6\n",
       "gy4zkJDl/WSxArwEVuPKKYFhk+YR/PQSgZFJ7Q/wISCcK/HY40P0XxTfGqfHqEgafVru9glMmjw6\n",
       "28ScL/3qgFCf1B6mKVkFiontZGcC4SW5OSowGdK9cbDLl76C9hsYVxM22KM1Ii2GcnJYRXgMWluW\n",
       "oUmF81RJ6FWTyUVRW6BlaOGkF4btfrDwUMawxU7l13zpX1jr4SuHY7gMw/WujNNU3lqvziWW2p2q\n",
       "+9BvAmMXoW3Crn0GW2pzPLGk8lAvI0VFyE/kJuXEqut9Hjwv6m5AYLgO7uFtvaxt0OkKftA6qyKc\n",
       "aDSoFC3uHHYV6JpJVbyIWSLjT2Rh0x3Ob7s+WkWJXBziMsReFeGjrS0ymZYNbMS13xGgy8mIV5iu\n",
       "CkyvRBQc2Vd6EtsXJoKn644/xzmknaVQzjzMYvDswn0jiTBoJeb8x1O42tJng+73XWBseYkzUnM3\n",
       "ucFG21a46QwLjCa/aUrNajKh7XQcC+Gj0US3t7kTLWDf5W4V4fvIp/gP4x94jJZAJJDJogAAAABJ\n",
       "RU5ErkJggg==\n",
       "\" style=\"display:inline;vertical-align:middle;\" /></a><br>(see <a class=\"ProveItLink\" href=\"../__pv_it/c22741a9e8280e3efa3aaf37b0e6b79df46c307b0/dependencies.ipynb\">dependencies</a>)<br>"
      ],
      "text/plain": [
       "tuple_len_2: forall_{a, b} (|(a, b)| = 2)"
      ]
     },
     "execution_count": 2,
     "metadata": {},
     "output_type": "execute_result"
    }
   ],
   "source": [
    "%proving tuple_len_2 presuming [proveit.core_expr_types.tuples.singular_range_reduction]"
   ]
  },
  {
   "cell_type": "code",
   "execution_count": 3,
   "metadata": {},
   "outputs": [
    {
     "data": {
      "text/html": [
       "<span style=\"font-size:20px;\"> <a class=\"ProveItLink\" href=\"../../../../core_expr_types/tuples/_axioms_.ipynb#tuple_len_incr\" style=\"text-decoration: none\">&#x22A2;&nbsp;</a><a class=\"ProveItLink\" href=\"../../../../core_expr_types/tuples/__pv_it/5da98025e66fce9b7f9b8a2843f5dc185516fb940/expr.ipynb\"><img src=\"data:image/png;base64,iVBORw0KGgoAAAANSUhEUgAAAYgAAAAWBAMAAAAodhaSAAAAMFBMVEX///+IiIgiIiIQEBB2dnbu\n",
       "7u5UVFTMzMzc3NwyMjK6urpmZmaYmJiqqqpEREQAAACk/Np2AAAAAXRSTlMAQObYZgAAAAlwSFlz\n",
       "AAAOxAAADsQBlSsOGwAABHRJREFUWMPNV11oHFUUPtmdYWb/pmssScFWl0CaShBKtViqxVUwyqIy\n",
       "1dYqpdkEfFPKxoAPvmRF7ZOEfSkIxjYaX4qCGymUah62Dz5EadyE1lAVjA/B/mig4IIGBc+Ze+/s\n",
       "zc65W+fNs5zhzJxzds53z8+9A2Ck3iGIS1X8SSE+uSZX12zv3inOUuwweprSCYX4lM4bXrvLbB/4\n",
       "lGCN7n/iQZh1PF1RIVyJC2B0XxhsBESuiKtS73j4ui/sdwUeX9Kj93kQZh1Ldk2GQEJM+gA55bMg\n",
       "XkZOFLe+6dWzvrAnLsEbVFlrPAizjqVMQ4ZAQkz6BzlbZ0EsaPJnSrjPF/bEpQCK1eRBmHUsJVUI\n",
       "yfj90KLrfhbEXk1e1kEE9vvJI4urljI0tlnH0jkVwrnYIKwCXWc4EOmaEcSMYPTYNzDwkGk6GXUs\n",
       "nVchkOCe35HvPlF1g9T4PZjxEQ5EBtvh8DwLYkQwelwAWMdWqXIghO6/0owKgYS5qtfqai0MXhI3\n",
       "5dP2nwCLIYgvBoh2B/iwHIpzLIhFwehxCtwxzKdYFWe4BHePhSCErjs5Z5T0gAoBBftRyBTAXjSP\n",
       "ssAAHhd3P/twG2CFy0SiCW7zIgtiRTB6eL41KxQTJ2/C95af8UMQbV0XekUJB1UIKGRaNBYnes2j\n",
       "rKXPzYtg/wEwxYFIzoJNCIP0PCjTI0BMCUaPXF72buYCbW35utUup1DXjR7mQCTXoDwr15YfZcIg\n",
       "3CbSOGTnDCAg12IzMSeYPGqXcAT0Aewk5eoPb2kgAh0cv/R0tBoWtssucm73ydR9qEJAoVyE76Ab\n",
       "CGHwkazWvykzWjnpPYEdnxq7QznBs6exJcq+Hexqq9aJTzQQpLOHnGiLPl+ZkqH3DKozwS8qBBTK\n",
       "TbiRqwav8aMrAMrgyZbQb8IL2L9LXCa8PBkXORBLgsnjbYT57gqkg212Fer3aiBIl6k7e8HtmFJf\n",
       "waTcQ7x8Vk7yERUCCql8dtgK1sn+i0KuSSG8CwzcEwXx5DW4hdd5DoSFIXzuNjgQ84LJw6sEi5c9\n",
       "s7HxO4I4ktJAkG7bbM8YvDm49a83oS+s2YxM9scqBBTs8adO9YuED+D7EpSsYZCXxKAyoGUm/XHa\n",
       "JmAPu9nhDPN2dpTTycd254X9nraH3ao4RZGJ9HLHUbxc9b72YSsInOq/Hc3dReI2PylPJomKdCJB\n",
       "EIHIRevpatgZxzS9W2CPHUPcjq3siZVHrlYU29o3EC6x0iWrU3juGgS7CEfCywFns5H7EfAm4S9J\n",
       "Q3EYC09yCoQV7epwtl6zNL04N0ZAfMsdAJV9eOiklR2vwjSuX/r+CngdINILy88QCOcQTFadA3Q5\n",
       "BJ9e3t6AXwEmm858GNJ15XRdPnjnLJbs4Whjh+eNF3do+mn+e8IzfSZOS9Y97Oc2bpq/7LCccu3v\n",
       "FOFQwBGuH3JHldOo7hk9l2eB1a/zIGzTx8C65G6foE/oxTjxSLNdyUoa97cWPM6QfiXEp6xY8f6I\n",
       "4j2zPXHvwThvaTBSFv4H9C8GUC3eXXISRAAAAABJRU5ErkJggg==\n",
       "\" style=\"display:inline;vertical-align:middle;\" /></a></span>"
      ],
      "text/plain": [
       "|- forall_{i in Naturals} [forall_{a_{1}, ..a_{_a}.., a_{i}, b} (|(a_{1}, ..a_{_a}.., a_{i}, b)| = (i + 1))]"
      ]
     },
     "execution_count": 3,
     "metadata": {},
     "output_type": "execute_result"
    }
   ],
   "source": [
    "tuple_len_incr"
   ]
  },
  {
   "cell_type": "code",
   "execution_count": 4,
   "metadata": {},
   "outputs": [
    {
     "data": {
      "text/html": [
       "<span style=\"font-size:20px;\"> <a class=\"ProveItLink\" href=\"md_nine_add_one.ipynb\" style=\"text-decoration: none\">&#x22A2;&nbsp;</a><a class=\"ProveItLink\" href=\"../__pv_it/062fca84a8df89d7fa507d65d5632b8acce963bb0/expr.ipynb\"><img src=\"data:image/png;base64,iVBORw0KGgoAAAANSUhEUgAABa0AAAAZBAMAAADAjR9RAAAAMFBMVEX///+IiIgiIiIQEBB2dnbu\n",
       "7u5UVFTMzMzc3NwyMjK6urpmZmaYmJiqqqpEREQAAACk/Np2AAAAAXRSTlMAQObYZgAAAAlwSFlz\n",
       "AAAOxAAADsQBlSsOGwAADoJJREFUeNrtXAuQFMUZ/vcxN3v7uj1cLyQHch7io9AK8REoCs1ecgio\n",
       "6CgnVQZl9yoCqcTHKgakNHVDjKQqWtxSCWoV0axgNAaRgwDGAHFPowbPwJyKCGXCWmokPg4kXEAU\n",
       "L//f3TPbszu3t3OQaKqu63p2pufv/9H99d9/dw8AuExVjWfCUBpKX+Y0rNFwXad6qNkGlXSRzRT4\n",
       "UmhUaWklL/tPgRPLbuA2DueGcP2/SR6DZyuN/MJVethFacGIwaSRrjQ4PoseFrjO0++bbnAdpZ9I\n",
       "bgirbtJrIgM2+Exqv4R7HsrbDfwmtHmOXD77XNesNm/SHFCqjukHu1FQUpYBrhPaWqqiXZa/6Q9O\n",
       "hrpIzfV6wXkgrv9IhQ+4wXUoSz/6EFbdQDLDM7sSPK4ZDJfqDs7sVJhva/4VA9TzFxdcFVMnACwv\n",
       "Kp35dC+UlgLTlsYhN8B9usZBxSJZD8JVeqmhLiyqNpQzOb/lHNcLKP7Ju8G1SkN36RBW3aRQjmfm\n",
       "vMiVbBkMlxru36rGQdTW8ccGqHdPccH3AD4A6BJPQXPu9RDWuhxnG3JmoUHO0VtkFZ9wkhVuAH++\n",
       "1FAXFj0LcDnn18VxXa0h+g03uGYjYvoQVt0kn8gIjjTQJDtuMFzWarzXM+A/IBUHeweoV19c8AnA\n",
       "FaiQJuKEmIw1s1ROT4HXMsB9Gier2O0kK5qCSG+poS4s+gfAXo3xo4y4pqWjm7Ug0r6MP5khrLpJ\n",
       "j4sMCBAFPVNwUO33bf6TzIPnsDwpDzBI1E+Lo6LPAUaloTrnhOtqB6/cALMtA1wnstXf4IhrU1ZN\n",
       "BwTlSec74NIiwIK1BuNHmUB9bmPj+e5w7WtsHJ0YwqqbtEFkCuDCCKMQtd89TYsHmG2LCO6r3Wr6\n",
       "66Nyl6Qi9eikgqNHTtMD6+ph5fldm7Bj6RY645Ph9YNzDXVEbcbur7PgTznh2iyVEsapncKAwIbh\n",
       "sbI6lxKQrdWt9YYDrk1ZScT1Z7Kh0L0R3FikEK5zjB9lwvVTAO+6wzVOpVFtCKtu0q9Exm6BqjR3\n",
       "KsEJsL9sMxYTKJ9oSV3E1zIKkrm/3UWOr2Zre26+7snAeVllLADdRibA0wD4MBugwRZf78epOuOE\n",
       "a166vpHS6SL8jcE8YcAqPVo+6iklIFuTy5UjDrg2NWhPgPqxZOhnkTcmgRuLAocA2mKMH8socgkE\n",
       "Uu5wjfRLSsrDN7js6pINFXXzwIPlBZdLl8DAQk6g4v2v4s/hOdTYeLDx641ngRe914wcrC8rqJgA\n",
       "Q9AagqAyERbIs/benxuLSClvg0IdfgzdHezNsltEwVqd7lZpIE2xM7LqzQZEGpxwHSneY1uPGqPa\n",
       "GTJAmQShsntwDgRkK8a+Hzvg2pRFuD4kGXpkjcq26Cq2iOE6wfhRJlxHNX/WrsitG7Keb1KPn2p2\n",
       "3NhL4KSUhWv075eUGDSfNiGZoGvZIGy5mPZYAyPq0uw1K/vp715i8WAtofNPuxbSq84/U5d4qKp/\n",
       "wPGlYiTZHGftt41dm+cSpBZ3zrN0swsJfbRwIVkyYiqVxeOWkEV5SXF3PG2Kyzz5WYD6kKVuPG7e\n",
       "TRSZGmI1LZiwyZ/R4DSztRwTJ5Am9AwkWQvPinfL8fXvXzTjEVDRj/+SNtWSHfwWvnsFQ4H38+Ey\n",
       "+tZNx/hapcUnDrXRGIqmLKypBxx8WbCDGxDqBW9CNJTzxg8jsK+Z0danQTnEZ4HzxCxgk4VmBSV/\n",
       "HZqUdmkRcV8bY/woE64jMXnZqNb1ZCOpybDR7A245ab34XW/FtIKuO62LxuJAnYDNMGTxKG2gfsu\n",
       "8jVVCQ9b1HiYAasOMpPvZ+bs7+vDxvLotIyC6+F11KTcYooUIwp/LEgVbhnGGoA7h+vhJEYzqkRI\n",
       "tK+PlhjD2bqnKhFJmUKqEpLi7njaFJd5clxjTd7U/F0RrtE3PiX6+iJQjpqt5ZgYgX1Xd61hwaeQ\n",
       "ztqQNt9HPn355RcJBTV5fjvrxr0MBcq0vo7iQRMc5+Svg6Wr0G4KPZkBvjwks6KhnDd+GEEJrldY\n",
       "68JuJ1m4boxIM5B3xRRwaRH28l6D8aPMztEznZISm9GASGeIufgAG8/UDW/GOvyFOASqw/LSgFEQ\n",
       "PMZDjW5NLkehHVmpaT/r8zUM14/x5XsHZBnwQwS8LBsjhyGplcc1KUYUvjSwSO0V1h7ZADmuhTCN\n",
       "xaN7S4SEeHDwPlO7Jq30mkKQTUFxdzxtiss8Ba7H85lxk8bemecOLIfINx7EOKTaIBcTPuAw7cs+\n",
       "KGzznTU5QiPvBWm3Vzka5N67Gmdzhg7u3eg2MhHaCAWJu+HawzbuD0HZOESKr9ejj8VIJEMGoGPd\n",
       "YTaUYxIEtuGIY/EzayQ6xiHRPISlkZrMrk27tKgHYIdmi0Ng+nK82XJLneeFNHioIPLj38YI1+H8\n",
       "4g4YQbV27Vks49q/G5tX2RLnkSajQHgEjoDPsJR9nuEaxx5xVE7muF5D3eJ7bCcPUyeTeYdIB6xa\n",
       "ky3F9azOqeathx9qZKBdhwstDIa1ALftbLpcmSwREgA/PY1K0N4kVj1qCmmrnWMp7pKnrLiNp4hD\n",
       "Pq5DYnWuzt/x9JbI4AWVBlo0BsoxiGbeKIdrRmD2DBtxCltNRS4QbSsWCAeUYx6BAsD4Mcii0TS7\n",
       "9aGL/5m+AhIIJ2kd8SqzMZx3XDfmHbb57hBGJA34Z0Qvh2tG0PVibWrEPFGEtmI7zMg5rRuFrPA4\n",
       "CrKstAPZxNxZ9BzFOowfyyTsLtoYWZXzpTwpNl1DJD15D+G6avjOCWyyhV3+6x6RcB2g6PuqdBtz\n",
       "HpwCtoHay0Fs9hTbbfUsY1eF4frRu28k06fM4iBl89WoQ3yebstBsKiLlTNUaxDP5vZnAIWeDQWX\n",
       "wTdGv8paIZYsFQJ7mPy+BJsQMUITQoZp9ZbibnnKiss8Oa49YzwdEPxAF+94ulhkBAj7gIEi8mXw\n",
       "bEeigGvlExKRMS8gCMyeof7I8WNGzxj40KyCf1V55TDzOl58Oz8LU+EXunIav8UJftSd+jRIvKrB\n",
       "PmLMeQ/TomhJKOaE61DJPh6OxJHCiOpYeKxf8tfEjinOLmASvDQJMVhnbq+nCIEfOO1fW7LOgRlp\n",
       "wQ//boJkOuHOIq+hjOf8KDNcR5Hj3cPQG4QS/JQzkg55qIt8l0Gan7Hugo5TJFzDexQY0IprqSZO\n",
       "YdUHCde+WAHX9GELAZKK3lDEhNpGLi7H93wYVNV5N1NfPXn1DuzuZfa9ilCHasV6/Ph1kUEY/IaE\n",
       "wVv52CJfGNGTpUI4eBcsoCg7+O61x0whb8E2S3G3PGXFZZ4c19FYOBN8R7PesbRSZJjODnjZSJgZ\n",
       "v701LfnrsaIj+QUEgdkzbLW3lb9ovjRrVRkLUQPqTyae+y8yIPDDZh3u66xDArpVW7tblkHV9foj\n",
       "nfEsMea8/c10lu/V7biuevtga6FUOvcx+IccaIDSOmXJVyRcM3ZjTe1BEASubEAPvcHcrkQLZ5nb\n",
       "1yaui2S11M4z+eHfR+BZp7mzSGmiDQriR7nwnWorotRrwLaenh4jklYSNAjaMaYNP9TT8xHiuqVa\n",
       "xjUPoOtAXakJigVzWDBRiEMI8qz/ccIL5DiuDbamwIiDubEXxFKb4lFlD+3M7ra7ipqsx9ohYYqp\n",
       "czWa3I8VMBgQW+9taNS9kCwVEk7xTYhV5A6u+80RU8hE2GQp7panrLjMk+Palw2l5vNeZO94f6V5\n",
       "RoB4WcEZ1p5WwwB7QKJn3KQVlZH9BIr8ta1UCpA1vlPstYKfVwbgXBVDj3SO+XSGfQ1aVtbxW0S5\n",
       "gOvxcAq0q3Ab99ewhkzdHmzQ1QT318HuIlyj6/rwavBqwClokrKtGwMpFR9mpAMIBbX50kMGWx22\n",
       "6yziZmHnO/z4jX1q8iM6pFWLVuJJPfq81vVm1xpcHd9mTmm2NR4sgdtRlfHoSpGk+ZnpJUKiCX5e\n",
       "Rp/AqFowYwrphQsLirvkKSsu8+S4rtF8hnK5Yb4TAWQHzwiQ1aygq2Jci575L+Da/PYqmHMqlbYn\n",
       "+DYfN6AiXPvSnnzggDkMbF9SPVFe1vFbtEXGdeAA+oXtfn6OGM6CJ6UkoFVtSPCzyJfAipYsfz1B\n",
       "PZojXIvTSrbP9zi0sJ7CyksX3qG14PvwBfgAgV4qSyCXFnShagOV4RqohXzBHHz4EO7n+3wtRCcu\n",
       "Pr3tCXg478u+BuKAk+/zZaj2K0QbeG/hRnwYA8+hLPS7mk0IKePLEa/lUIUE0Vx1mgmhKri8sBR3\n",
       "wdOmOEg8LVx7te14PYVOBuidSPt4RoDwL8aieoW4NnvGTTq9sjOrfIWlq80P4/ZViut29NjhvLmP\n",
       "HdVdaXB8FjGeFq6DKXgAlpyMnUpxFGIsr16IJTekYSl2TfCsNP/XBDKuV/81znG9NG3Co2kjzDcC\n",
       "0z6NYeVv9fXhg9pUp+MDbP+3gT8t8QSWQbxeozKcnpB6XZwIHomnOa6xygSYr9PFCG7pvgyj/2vg\n",
       "B8AVYxTNrPZPf70OKXx9fQfw4bba7xPf8P4bbULoB+dOLLundirxa5rCWWDJHXFJcRc8bYrLPAv7\n",
       "IetYf27HdXDTFJDXvZg9WeD/JEAsWoFaq2xfmT3jIj35r32VkDl/C+FQ+jX0CtLiHVhDlU2PQrUe\n",
       "aDU5KXlXGhyfRdwzlxxLt/T0iDVJRCh1ec/7Refo8hSlmRS7RYkhV7Y9RAYkyFglhXdeeA3G5YRi\n",
       "JoAGZGX0T5CxSuyKV8jTUYBt/1qkv9u8VCDHs5Xu/cK/WfmLi9KCEYNJ97rS4PgsYjzL/fvGnf1+\n",
       "HyLtAJ20FaQVP3WxJlW2PTiV2QkIHhFrCIu7meguWnVpaV0JK/HgWJYpsm0luOLpJMAR10Ppi0vl\n",
       "cJ2rANdyOZ8qw3Jl24NTmZ1gkWGVgHwnJbGhNhCrMPRbRkJstgnFK+XpJGCRMYTr/xtc94ff/v7/\n",
       "kDuPVxl1ZwU0uRMv5MQprg8h6kuRho3O/QfgBWZnPdO7gwAAAABJRU5ErkJggg==\n",
       "\" style=\"display:inline;vertical-align:middle;\" /></a></span>"
      ],
      "text/plain": [
       "|- forall_{m in Naturals, k in Naturals} [forall_{a_{1} in {0, 1, 2, 3, 4, 5, 6, 7, 8, 9}, ..a_{_a} in {0, 1, 2, 3, 4, 5, 6, 7, 8, 9}.., a_{m} in {0, 1, 2, 3, 4, 5, 6, 7, 8, 9}, b in {0, 1, 2, 3, 4, 5, 6, 7, 8, 9} | b < 9} ((\\# (a_{1} ~ ..a_{_a}.. ~ a_{m} ~ b ~ 9 ~ ..k repeats.. ~ 9) + 1) = \\# (a_{1} ~ ..a_{_a}.. ~ a_{m} ~ (b + 1) ~ 0 ~ ..k repeats.. ~ 0))]"
      ]
     },
     "execution_count": 4,
     "metadata": {},
     "output_type": "execute_result"
    }
   ],
   "source": [
    "md_nine_add_one"
   ]
  },
  {
   "cell_type": "code",
   "execution_count": 5,
   "metadata": {},
   "outputs": [
    {
     "data": {
      "text/html": [
       "<span style=\"font-size:20px;\"> <a class=\"ProveItLink\" href=\"tuple_len_1.ipynb\" style=\"text-decoration: none\">&#x22A2;&nbsp;</a><a class=\"ProveItLink\" href=\"../__pv_it/b486e038cf1e22cca3a1b759bc2f9f5a43deb8f60/expr.ipynb\"><img src=\"data:image/png;base64,iVBORw0KGgoAAAANSUhEUgAAAIEAAAAVBAMAAACTeZA2AAAAMFBMVEX///+IiIgiIiIQEBB2dnbu\n",
       "7u5UVFTMzMzc3NwyMjK6urpmZmaYmJiqqqpEREQAAACk/Np2AAAAAXRSTlMAQObYZgAAAAlwSFlz\n",
       "AAAOxAAADsQBlSsOGwAAAehJREFUOMtjYMAEDUAIAhwMyFQDA1al2ADjBQYvMEMWwucSAFNe2NQu\n",
       "BOIHIMYdZNErUNW8DlABWewmsKuCbWPYBeLMQJJgnQBVHQkT4QzAZkLYzq9AcioDQxnIpw+QZLgP\n",
       "QFXvgYnwbMDqBkaQCachFrBcQJJghqk2gAuZ4jaBOYCBB2glJ7LESqhqrglwoTm4TeAEajdSUjJB\n",
       "ltgCVc0NCshux0Yg6YbbBJYEBobtDAxPkSXmQFWDTOeyYHgP9OVJuAmblEBADWECD9ClbQwcCcgm\n",
       "6EJVMwEDJ/gAwyYg8xJuN/AqMDDwBbAsQJawgqpmBoruD2BQATLrcZvA/gFoigBKQKKYYMfA+gvI\n",
       "XIzbBC5QjE04CCSiD3pAJebCwuECA+sXBp4PKL7ACAeQLxh8gemKVZ39K9SEh1DVfAIMrH8Z+Cbc\n",
       "YGA4h9sNPKDE2AwMSO4N7LAE5AZVDYqniQyHNgAjdSNuE7hB2Y6vgIGBfwEjLEIWwVIU0H1hIhWJ\n",
       "QFkNbCawPf6UCIwxWP6Ob+A7GgBhMhVAVavD1HIo4MzdDE3wzNBQvwYpH4FVn0bOa7hMgGc/rj0X\n",
       "fWDsF1DVfDAH9uEuYVByNRzEQVWzwmSf4jaBLwCruQcYxMGMHqi3IG4Rx6b2BAMDAFGfcipqGgNK\n",
       "AAAAAElFTkSuQmCC\n",
       "\" style=\"display:inline;vertical-align:middle;\" /></a></span>"
      ],
      "text/plain": [
       "|- forall_{a} (|(a)| = 1)"
      ]
     },
     "execution_count": 5,
     "metadata": {},
     "output_type": "execute_result"
    }
   ],
   "source": [
    "tuple_len_1"
   ]
  },
  {
   "cell_type": "code",
   "execution_count": 6,
   "metadata": {},
   "outputs": [
    {
     "data": {
      "text/html": [
       "<strong id=\"one_spec\">one_spec:</strong> <span style=\"font-size:20px;\"> <a class=\"ProveItLink\" href=\"../__pv_it/c4ca9876093647c7e27de841628daac033a0d9550/proof.ipynb\" style=\"text-decoration: none\">&#x22A2;&nbsp;</a><a class=\"ProveItLink\" href=\"../__pv_it/f6d7e83e07974be839b027c5c4d0c1471327019b0/expr.ipynb\"><img src=\"data:image/png;base64,iVBORw0KGgoAAAANSUhEUgAAAFAAAAAVBAMAAAAjqnRBAAAAMFBMVEX///9UVFREREQiIiIQEBCY\n",
       "mJhmZmYyMjLu7u6qqqrMzMyIiIi6urp2dnbc3NwAAABm9RoHAAAAAXRSTlMAQObYZgAAAAlwSFlz\n",
       "AAAOxAAADsQBlSsOGwAAAPVJREFUKM9jeMAAAnwMyBREDA3cAZM7IRyeDUhi2BRyXoDydmJXyGUB\n",
       "FWyHibA3YFPYmP4DKpgKE2JNwGoiN0yhA1zIA69CngK4UClehWwgvzy7/RpIXsSrkD0AaKofgz7Q\n",
       "J+FwhcnGIGCIopB5AgNDSwBDMpA5Ga+JLAcYGPIbGGyBzPUEFToxcPwBMo/gd+MEBo6/DKwfUKzG\n",
       "5kamDQwcPxmYCuYxMAThNZFXgIGhmiE4ARhK2fgD3AAYn3vXSS9gYLDDppBR5bM0RNAKJsRngD+Z\n",
       "hcF4bAH4FTLB0vQjAgmXQwHK08CtcBeYfApNjg+QxFABADLQWqPn0gWaAAAAAElFTkSuQmCC\n",
       "\" style=\"display:inline;vertical-align:middle;\" /></a></span><br>"
      ],
      "text/plain": [
       "one_spec: |- |(a)| = 1"
      ]
     },
     "execution_count": 6,
     "metadata": {},
     "output_type": "execute_result"
    }
   ],
   "source": [
    "one_spec = tuple_len_1.specialize({a:a})"
   ]
  },
  {
   "cell_type": "code",
   "execution_count": 7,
   "metadata": {},
   "outputs": [
    {
     "data": {
      "text/html": [
       "<a class=\"ProveItLink\" href=\"../../../../__pv_it/a8d4b3a34d2189508f9082853fbac36935714f280/expr.ipynb\"><img src=\"data:image/png;base64,iVBORw0KGgoAAAANSUhEUgAAAAsAAAAJBAMAAAAWSsseAAAAMFBMVEX////MzMxUVFQyMjKqqqoi\n",
       "IiKYmJju7u5EREQQEBC6urqIiIh2dnZmZmbc3NwAAAD0tjQRAAAAAXRSTlMAQObYZgAAAAlwSFlz\n",
       "AAAOxAAADsQBlSsOGwAAAEdJREFUCNdjYOC7s28DAwPDygcc3xkY2Kcx8AYwMPB+Z2A9wMDA2cBQ\n",
       "v4CBof4AQz5QRb0DQzPLAwbmDWyxPECV2gcfbWQAABp5EMgcedARAAAAAElFTkSuQmCC\n",
       "\" style=\"display:inline;vertical-align:middle;\" /></a>"
      ],
      "text/plain": [
       "a"
      ]
     },
     "execution_count": 7,
     "metadata": {},
     "output_type": "execute_result"
    }
   ],
   "source": [
    "one_spec.lhs.operands[0].entries[0]"
   ]
  },
  {
   "cell_type": "code",
   "execution_count": 8,
   "metadata": {},
   "outputs": [
    {
     "data": {
      "text/html": [
       "<strong id=\"tuple_spec\">tuple_spec:</strong> <span style=\"font-size:20px;\"> <a class=\"ProveItLink\" href=\"../__pv_it/e750f2f8913e4121bb8a8aa0ea30041ef1908a960/proof.ipynb\" style=\"text-decoration: none\">&#x22A2;&nbsp;</a><a class=\"ProveItLink\" href=\"../__pv_it/e845b727a240c9e8a365deada2c1d54458a65d120/expr.ipynb\"><img src=\"data:image/png;base64,iVBORw0KGgoAAAANSUhEUgAAAJ8AAAAVBAMAAACqHiFtAAAAMFBMVEX///9UVFREREQiIiIQEBCY\n",
       "mJhmZmYyMjLu7u6qqqrMzMyIiIi6urp2dnbc3NwAAABm9RoHAAAAAXRSTlMAQObYZgAAAAlwSFlz\n",
       "AAAOxAAADsQBlSsOGwAAAglJREFUOMuFlL9LK0EQx8f8uB/mLthYpUkh+srIiYiFBMIDy/CK2Kkg\n",
       "YiEPbBQ78x6ihUUE/wDtLTwQHmghFnY2ea1YnEpKQRAx4g+c2ds777KzuHDL3sx3Pzs7O7sQALUi\n",
       "MK2oc7FqagS7FqMTzu341LvniuNEB7yMgHa71/W3Fk1UgaTun+i1kqWwK4Hb6mJr+JlNFojqP0vd\n",
       "HmNoWZfARRX4gl9+ngWSuhABnbocCEtDAqtq/sSEaRZYTQJtPwnMNQXQWVGAboX6VQ4o1BqgWRdA\n",
       "g86k+PvM/5pllv5hgv9zQKHWAN0BATQpDxdBJpHo1rr1ATATAxc8aqMQqTXA/IoAZjEY6ycYFbBm\n",
       "pHu/Ca8Ae1yEpNYB7YoA5nCO0YVsGw6PpXsJrHeAIw5Iagk0PG+s5nkDMbD/IQbmytA6D2MKy9DB\n",
       "wrn4BqhE6FTDHOImWm2Ygy/gE4Wc2HIyh99vOYPG1i6M2IFA0P14g03M/S8uQlJrD6UsgHjYYPr5\n",
       "cVfEZD2jaRCGsV/mgKTWAQ0/LGysYqt0dXMabtLDELeoDGGKLWxU9w09ltLA0JINwqs3GasJaDej\n",
       "d6/CXr3J1NPjJ//u5F1upIBufCfqLLCRirfe824IYCaQhvsNTNtO5L7l38NYrT7lZQm0yklzvOYP\n",
       "HphWp5bCZJ2KUYdz50UkhQPF0dEBZwE+AXfPotJq1ovdAAAAAElFTkSuQmCC\n",
       "\" style=\"display:inline;vertical-align:middle;\" /></a></span><br>"
      ],
      "text/plain": [
       "tuple_spec: |- |(a_{1}, b)| = (1 + 1)"
      ]
     },
     "execution_count": 8,
     "metadata": {},
     "output_type": "execute_result"
    }
   ],
   "source": [
    "tuple_spec = tuple_len_incr.specialize({i: one_spec.rhs, a: one_spec.lhs.operands[0].entries[0], b: b})"
   ]
  },
  {
   "cell_type": "code",
   "execution_count": 15,
   "metadata": {},
   "outputs": [
    {
     "data": {
      "text/html": [
       "<a class=\"ProveItLink\" href=\"../../__pv_it/f086f8c372bd40a2458306ddfdbb29f3dc6f63030/expr.ipynb\"><img src=\"data:image/png;base64,iVBORw0KGgoAAAANSUhEUgAAAAgAAAAOBAMAAADgeEClAAAAIVBMVEX///8QEBBERESIiIgyMjJm\n",
       "ZmZUVFTu7u4iIiLMzMwAAAAWRytzAAAAAXRSTlMAQObYZgAAAAlwSFlzAAAOxAAADsQBlSsOGwAA\n",
       "ABtJREFUCNdjYOBsZ2AoC1nOwMDATBbBprgiGQBsuwqCZsDj4wAAAABJRU5ErkJggg==\n",
       "\" style=\"display:inline;vertical-align:middle;\" /></a>"
      ],
      "text/plain": [
       "1"
      ]
     },
     "execution_count": 15,
     "metadata": {},
     "output_type": "execute_result"
    }
   ],
   "source": [
    "tuple_spec.rhs.operands[1]"
   ]
  },
  {
   "cell_type": "code",
   "execution_count": 18,
   "metadata": {},
   "outputs": [
    {
     "ename": "InstantiationFailure",
     "evalue": "Proof step failed:\nAttempting to instantiate |- forall_{m in Naturals, k in Naturals} [forall_{a_{1} in {0, 1, 2, 3, 4, 5, 6, 7, 8, 9}, ..a_{_a} in {0, 1, 2, 3, 4, 5, 6, 7, 8, 9}.., a_{m} in {0, 1, 2, 3, 4, 5, 6, 7, 8, 9}, b in {0, 1, 2, 3, 4, 5, 6, 7, 8, 9} | b < 9} ((\\# (a_{1} ~ ..a_{_a}.. ~ a_{m} ~ b ~ 9 ~ ..k repeats.. ~ 9) + 1) = \\# (a_{1} ~ ..a_{_a}.. ~ a_{m} ~ (b + 1) ~ 0 ~ ..k repeats.. ~ 0))] with {m: 1, k: 0, (a_{1}, ..a_{_a}.., a_{1}): (1), b: 1}:\nFailure to apply (m, k, a_{1}, ..a_{_a}.., a_{1}, b) -> ((m in Naturals) and (k in Naturals)) to (1, 0, 1, 1):\nToo many arguments, [1, 1], for parameter a_{1}, ..a_{_a}.., a_{1}.",
     "output_type": "error",
     "traceback": [
      "\u001b[1;31m---------------------------------------------------------------------------\u001b[0m",
      "\u001b[1;31mValueError\u001b[0m                                Traceback (most recent call last)",
      "\u001b[1;32mc:\\users\\joaqu\\prove-it\\packages\\proveit\\_core_\\expression\\lambda_expr\\lambda_expr.py\u001b[0m in \u001b[0;36mextract_complete_param_replacements\u001b[1;34m(parameters, parameter_vars, body, operands, assumptions, requirements, repl_map)\u001b[0m\n\u001b[0;32m   1030\u001b[0m                                    \u001b[0moperands_iter\u001b[0m\u001b[1;33m,\u001b[0m \u001b[0massumptions\u001b[0m\u001b[1;33m,\u001b[0m \u001b[0mrequirements\u001b[0m\u001b[1;33m,\u001b[0m\u001b[1;33m\u001b[0m\u001b[1;33m\u001b[0m\u001b[0m\n\u001b[1;32m-> 1031\u001b[1;33m                                    repl_map, is_complete=True)\n\u001b[0m\u001b[0;32m   1032\u001b[0m     \u001b[1;32mexcept\u001b[0m \u001b[0mValueError\u001b[0m \u001b[1;32mas\u001b[0m \u001b[0me\u001b[0m\u001b[1;33m:\u001b[0m\u001b[1;33m\u001b[0m\u001b[1;33m\u001b[0m\u001b[0m\n",
      "\u001b[1;32mc:\\users\\joaqu\\prove-it\\packages\\proveit\\_core_\\expression\\lambda_expr\\lambda_expr.py\u001b[0m in \u001b[0;36mextract_param_replacements\u001b[1;34m(parameters, parameter_vars, body, operands_iter, assumptions, requirements, repl_map, is_complete)\u001b[0m\n\u001b[0;32m   1116\u001b[0m                                     \u001b[1;34m\"Too many arguments, %s, for parameter\"\u001b[0m\u001b[1;33m\u001b[0m\u001b[1;33m\u001b[0m\u001b[0m\n\u001b[1;32m-> 1117\u001b[1;33m                                     \" %s.\"%(param_operands, parameter))\n\u001b[0m\u001b[0;32m   1118\u001b[0m                         elif (max_int_param_operands_len is None or\n",
      "\u001b[1;31mValueError\u001b[0m: Too many arguments, [1, 1], for parameter a_{1}, ..a_{_a}.., a_{1}.",
      "\nDuring handling of the above exception, another exception occurred:\n",
      "\u001b[1;31mLambdaApplicationError\u001b[0m                    Traceback (most recent call last)",
      "\u001b[1;32mc:\\users\\joaqu\\prove-it\\packages\\proveit\\_core_\\proof.py\u001b[0m in \u001b[0;36m__init__\u001b[1;34m(self, orig_known_truth, num_forall_eliminations, repl_map, equiv_alt_expansions, assumptions)\u001b[0m\n\u001b[0;32m    944\u001b[0m                         \u001b[0massumptions\u001b[0m\u001b[1;33m,\u001b[0m \u001b[0mrequirements\u001b[0m\u001b[1;33m,\u001b[0m\u001b[1;33m\u001b[0m\u001b[1;33m\u001b[0m\u001b[0m\n\u001b[1;32m--> 945\u001b[1;33m                         equality_repl_requirements)\n\u001b[0m\u001b[0;32m    946\u001b[0m \u001b[1;33m\u001b[0m\u001b[0m\n",
      "\u001b[1;32mc:\\users\\joaqu\\prove-it\\packages\\proveit\\_core_\\proof.py\u001b[0m in \u001b[0;36m_instantiated_expr\u001b[1;34m(original_known_truth, num_forall_eliminations, instantiation_params, repl_map, equiv_alt_expansions, assumptions, requirements, equality_repl_requirements)\u001b[0m\n\u001b[0;32m   1215\u001b[0m                 \u001b[1;31m# Instantiate the condition.\u001b[0m\u001b[1;33m\u001b[0m\u001b[1;33m\u001b[0m\u001b[1;33m\u001b[0m\u001b[0m\n\u001b[1;32m-> 1216\u001b[1;33m                 \u001b[0msubbed_cond\u001b[0m \u001b[1;33m=\u001b[0m \u001b[0minstantiate\u001b[0m\u001b[1;33m(\u001b[0m\u001b[0mcondition\u001b[0m\u001b[1;33m)\u001b[0m\u001b[1;33m\u001b[0m\u001b[1;33m\u001b[0m\u001b[0m\n\u001b[0m\u001b[0;32m   1217\u001b[0m                 \u001b[1;32mif\u001b[0m \u001b[0misinstance\u001b[0m\u001b[1;33m(\u001b[0m\u001b[0msubbed_cond\u001b[0m\u001b[1;33m,\u001b[0m \u001b[0mAnd\u001b[0m\u001b[1;33m)\u001b[0m\u001b[1;33m:\u001b[0m\u001b[1;33m\u001b[0m\u001b[1;33m\u001b[0m\u001b[0m\n",
      "\u001b[1;32mc:\\users\\joaqu\\prove-it\\packages\\proveit\\_core_\\proof.py\u001b[0m in \u001b[0;36minstantiate\u001b[1;34m(expr, exclusion)\u001b[0m\n\u001b[0;32m   1163\u001b[0m                     \u001b[0massumptions\u001b[0m\u001b[1;33m=\u001b[0m\u001b[0massumptions\u001b[0m\u001b[1;33m,\u001b[0m \u001b[0mrequirements\u001b[0m\u001b[1;33m=\u001b[0m\u001b[0mrequirements\u001b[0m\u001b[1;33m,\u001b[0m\u001b[1;33m\u001b[0m\u001b[1;33m\u001b[0m\u001b[0m\n\u001b[1;32m-> 1164\u001b[1;33m                     equality_repl_requirements=equality_repl_requirements)    \n\u001b[0m\u001b[0;32m   1165\u001b[0m \u001b[1;33m\u001b[0m\u001b[0m\n",
      "\u001b[1;32mc:\\users\\joaqu\\prove-it\\packages\\proveit\\_core_\\expression\\lambda_expr\\lambda_expr.py\u001b[0m in \u001b[0;36m_apply\u001b[1;34m(parameters, body, equiv_alt_expansions, allow_relabeling, assumptions, requirements, equality_repl_requirements, parameter_vars, *operands)\u001b[0m\n\u001b[0;32m    515\u001b[0m                 \u001b[0mparameters\u001b[0m\u001b[1;33m,\u001b[0m \u001b[0mparameter_vars\u001b[0m\u001b[1;33m,\u001b[0m \u001b[0mbody\u001b[0m\u001b[1;33m,\u001b[0m \u001b[0moperands\u001b[0m\u001b[1;33m,\u001b[0m\u001b[1;33m\u001b[0m\u001b[1;33m\u001b[0m\u001b[0m\n\u001b[1;32m--> 516\u001b[1;33m                 assumptions, requirements, repl_map)\n\u001b[0m\u001b[0;32m    517\u001b[0m \u001b[1;33m\u001b[0m\u001b[0m\n",
      "\u001b[1;32mc:\\users\\joaqu\\prove-it\\packages\\proveit\\_core_\\expression\\lambda_expr\\lambda_expr.py\u001b[0m in \u001b[0;36mextract_complete_param_replacements\u001b[1;34m(parameters, parameter_vars, body, operands, assumptions, requirements, repl_map)\u001b[0m\n\u001b[0;32m   1033\u001b[0m         raise LambdaApplicationError(\n\u001b[1;32m-> 1034\u001b[1;33m                 parameters, body, operands, assumptions, [], str(e))\n\u001b[0m\u001b[0;32m   1035\u001b[0m \u001b[1;33m\u001b[0m\u001b[0m\n",
      "\u001b[1;31mLambdaApplicationError\u001b[0m: Failure to apply (m, k, a_{1}, ..a_{_a}.., a_{1}, b) -> ((m in Naturals) and (k in Naturals)) to (1, 0, 1, 1):\nToo many arguments, [1, 1], for parameter a_{1}, ..a_{_a}.., a_{1}.",
      "\nDuring handling of the above exception, another exception occurred:\n",
      "\u001b[1;31mInstantiationFailure\u001b[0m                      Traceback (most recent call last)",
      "\u001b[1;32m<ipython-input-18-9ea3e9755530>\u001b[0m in \u001b[0;36m<module>\u001b[1;34m\u001b[0m\n\u001b[1;32m----> 1\u001b[1;33m \u001b[0mmd_nine_add_one\u001b[0m\u001b[1;33m.\u001b[0m\u001b[0mspecialize\u001b[0m\u001b[1;33m(\u001b[0m\u001b[1;33m{\u001b[0m\u001b[0mm\u001b[0m\u001b[1;33m:\u001b[0m \u001b[0mone\u001b[0m\u001b[1;33m,\u001b[0m \u001b[0mk\u001b[0m\u001b[1;33m:\u001b[0m \u001b[0mzero\u001b[0m\u001b[1;33m,\u001b[0m \u001b[0mExprTuple\u001b[0m\u001b[1;33m(\u001b[0m\u001b[0mvarRange\u001b[0m\u001b[1;33m(\u001b[0m\u001b[0ma\u001b[0m\u001b[1;33m,\u001b[0m \u001b[0mone\u001b[0m\u001b[1;33m,\u001b[0m \u001b[0mone\u001b[0m\u001b[1;33m)\u001b[0m\u001b[1;33m)\u001b[0m\u001b[1;33m:\u001b[0m \u001b[1;33m[\u001b[0m\u001b[0mtuple_spec\u001b[0m\u001b[1;33m.\u001b[0m\u001b[0mrhs\u001b[0m\u001b[1;33m.\u001b[0m\u001b[0moperands\u001b[0m\u001b[1;33m[\u001b[0m\u001b[1;36m0\u001b[0m\u001b[1;33m]\u001b[0m\u001b[1;33m]\u001b[0m\u001b[1;33m,\u001b[0m \u001b[0mb\u001b[0m\u001b[1;33m:\u001b[0m \u001b[0mtuple_spec\u001b[0m\u001b[1;33m.\u001b[0m\u001b[0mrhs\u001b[0m\u001b[1;33m.\u001b[0m\u001b[0moperands\u001b[0m\u001b[1;33m[\u001b[0m\u001b[1;36m1\u001b[0m\u001b[1;33m]\u001b[0m\u001b[1;33m}\u001b[0m\u001b[1;33m)\u001b[0m\u001b[1;33m\u001b[0m\u001b[1;33m\u001b[0m\u001b[0m\n\u001b[0m",
      "\u001b[1;32mc:\\users\\joaqu\\prove-it\\packages\\proveit\\_core_\\known_truth.py\u001b[0m in \u001b[0;36mspecialize\u001b[1;34m(self, repl_map, relabel_map, assumptions)\u001b[0m\n\u001b[0;32m    735\u001b[0m         \u001b[1;32mif\u001b[0m \u001b[0mrelabel_map\u001b[0m \u001b[1;32mis\u001b[0m \u001b[1;32mnot\u001b[0m \u001b[1;32mNone\u001b[0m\u001b[1;33m:\u001b[0m\u001b[1;33m\u001b[0m\u001b[1;33m\u001b[0m\u001b[0m\n\u001b[0;32m    736\u001b[0m             \u001b[0mrepl_map\u001b[0m\u001b[1;33m.\u001b[0m\u001b[0mupdate\u001b[0m\u001b[1;33m(\u001b[0m\u001b[0mrelabel_map\u001b[0m\u001b[1;33m)\u001b[0m\u001b[1;33m\u001b[0m\u001b[1;33m\u001b[0m\u001b[0m\n\u001b[1;32m--> 737\u001b[1;33m         \u001b[1;32mreturn\u001b[0m \u001b[0mself\u001b[0m\u001b[1;33m.\u001b[0m\u001b[0minstantiate\u001b[0m\u001b[1;33m(\u001b[0m\u001b[0mrepl_map\u001b[0m\u001b[1;33m,\u001b[0m \u001b[0massumptions\u001b[0m\u001b[1;33m=\u001b[0m\u001b[0massumptions\u001b[0m\u001b[1;33m)\u001b[0m\u001b[1;33m\u001b[0m\u001b[1;33m\u001b[0m\u001b[0m\n\u001b[0m\u001b[0;32m    738\u001b[0m \u001b[1;33m\u001b[0m\u001b[0m\n\u001b[0;32m    739\u001b[0m \u001b[1;33m\u001b[0m\u001b[0m\n",
      "\u001b[1;32mc:\\users\\joaqu\\prove-it\\packages\\proveit\\_core_\\known_truth.py\u001b[0m in \u001b[0;36minstantiate\u001b[1;34m(self, repl_map, num_forall_eliminations, assumptions)\u001b[0m\n\u001b[0;32m    893\u001b[0m                               \u001b[0mrepl_map\u001b[0m\u001b[1;33m=\u001b[0m\u001b[0mprocessed_repl_map\u001b[0m\u001b[1;33m,\u001b[0m\u001b[1;33m\u001b[0m\u001b[1;33m\u001b[0m\u001b[0m\n\u001b[0;32m    894\u001b[0m                               \u001b[0mequiv_alt_expansions\u001b[0m\u001b[1;33m=\u001b[0m\u001b[0mequiv_alt_expansions\u001b[0m\u001b[1;33m,\u001b[0m\u001b[1;33m\u001b[0m\u001b[1;33m\u001b[0m\u001b[0m\n\u001b[1;32m--> 895\u001b[1;33m                               assumptions=assumptions))\n\u001b[0m\u001b[0;32m    896\u001b[0m \u001b[1;33m\u001b[0m\u001b[0m\n\u001b[0;32m    897\u001b[0m     def generalize(self, forall_var_or_vars_or_var_lists, \n",
      "\u001b[1;32mc:\\users\\joaqu\\prove-it\\packages\\proveit\\_core_\\proof.py\u001b[0m in \u001b[0;36m__init__\u001b[1;34m(self, orig_known_truth, num_forall_eliminations, repl_map, equiv_alt_expansions, assumptions)\u001b[0m\n\u001b[0;32m   1025\u001b[0m         \u001b[1;32mexcept\u001b[0m \u001b[0mLambdaApplicationError\u001b[0m \u001b[1;32mas\u001b[0m \u001b[0me\u001b[0m\u001b[1;33m:\u001b[0m\u001b[1;33m\u001b[0m\u001b[1;33m\u001b[0m\u001b[0m\n\u001b[0;32m   1026\u001b[0m             raise InstantiationFailure(orig_known_truth, repl_map,\n\u001b[1;32m-> 1027\u001b[1;33m                                        assumptions, str(e))\n\u001b[0m\u001b[0;32m   1028\u001b[0m         \u001b[1;32mfinally\u001b[0m\u001b[1;33m:\u001b[0m\u001b[1;33m\u001b[0m\u001b[1;33m\u001b[0m\u001b[0m\n\u001b[0;32m   1029\u001b[0m             \u001b[1;31m# restore the original default assumptions\u001b[0m\u001b[1;33m\u001b[0m\u001b[1;33m\u001b[0m\u001b[1;33m\u001b[0m\u001b[0m\n",
      "\u001b[1;31mInstantiationFailure\u001b[0m: Proof step failed:\nAttempting to instantiate |- forall_{m in Naturals, k in Naturals} [forall_{a_{1} in {0, 1, 2, 3, 4, 5, 6, 7, 8, 9}, ..a_{_a} in {0, 1, 2, 3, 4, 5, 6, 7, 8, 9}.., a_{m} in {0, 1, 2, 3, 4, 5, 6, 7, 8, 9}, b in {0, 1, 2, 3, 4, 5, 6, 7, 8, 9} | b < 9} ((\\# (a_{1} ~ ..a_{_a}.. ~ a_{m} ~ b ~ 9 ~ ..k repeats.. ~ 9) + 1) = \\# (a_{1} ~ ..a_{_a}.. ~ a_{m} ~ (b + 1) ~ 0 ~ ..k repeats.. ~ 0))] with {m: 1, k: 0, (a_{1}, ..a_{_a}.., a_{1}): (1), b: 1}:\nFailure to apply (m, k, a_{1}, ..a_{_a}.., a_{1}, b) -> ((m in Naturals) and (k in Naturals)) to (1, 0, 1, 1):\nToo many arguments, [1, 1], for parameter a_{1}, ..a_{_a}.., a_{1}."
     ]
    }
   ],
   "source": [
    "md_nine_add_one.specialize({m: one, k: zero, ExprTuple(varRange(a, one, one)): [tuple_spec.rhs.operands[0]], b: tuple_spec.rhs.operands[1]})"
   ]
  },
  {
   "cell_type": "code",
   "execution_count": null,
   "metadata": {},
   "outputs": [],
   "source": [
    "%qed"
   ]
  },
  {
   "cell_type": "code",
   "execution_count": null,
   "metadata": {},
   "outputs": [],
   "source": []
  }
 ],
 "metadata": {
  "kernelspec": {
   "display_name": "Python 3",
   "language": "python",
   "name": "python3"
  },
  "language_info": {
   "codemirror_mode": {
    "name": "ipython",
    "version": 3
   },
   "file_extension": ".py",
   "mimetype": "text/x-python",
   "name": "python",
   "nbconvert_exporter": "python",
   "pygments_lexer": "ipython3",
   "version": "3.7.3"
  }
 },
 "nbformat": 4,
 "nbformat_minor": 1
}
