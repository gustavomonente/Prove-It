{
 "cells": [
  {
   "cell_type": "markdown",
   "metadata": {},
   "source": [
    "Proof of <a class=\"ProveItLink\" href=\"../../../../_context_.ipynb\">proveit</a>.<a class=\"ProveItLink\" href=\"../../../_context_.ipynb\">number</a>.<a class=\"ProveItLink\" href=\"../../_context_.ipynb\">numeral</a>.<a class=\"ProveItLink\" href=\"../_context_.ipynb\">deci</a>.<a class=\"ProveItLink\" href=\"../_theorems_.ipynb#tuple_len_2\">tuple_len_2</a> theorem\n",
    "========"
   ]
  },
  {
   "cell_type": "code",
   "execution_count": 1,
   "metadata": {},
   "outputs": [],
   "source": [
    "import proveit\n",
    "context = proveit.Context('..') # the theorem's context is in the parent directory"
   ]
  },
  {
   "cell_type": "code",
   "execution_count": 2,
   "metadata": {},
   "outputs": [
    {
     "name": "stdout",
     "output_type": "stream",
     "text": [
      "Beginning proof of tuple_len_2\n",
      "Recorded 'presuming' information\n",
      "Presuming previous theorem (applied transitively).\n"
     ]
    },
    {
     "data": {
      "text/html": [
       "<strong id=\"tuple_len_2\">tuple_len_2:</strong> <a class=\"ProveItLink\" href=\"../__pv_it/593476a3683c1401f8e28bc576632a7f263589e30/expr.ipynb\"><img src=\"data:image/png;base64,iVBORw0KGgoAAAANSUhEUgAAAJ8AAAAWBAMAAAAsilPDAAAAMFBMVEX///8QEBCIiIhmZma6urrM\n",
       "zMxUVFQiIiJERETc3Nzu7u6qqqp2dnaYmJgyMjIAAAAcRTyBAAAAAXRSTlMAQObYZgAAAn5JREFU\n",
       "OMutVU1oE0EU/rJJupvNJlUQ1Fu0tCcPhV5E/Cl46EmIF0EvDUERQWkRRPwBi16Sg7DgIb0IUwtV\n",
       "emgXe5CeDE1PKrLgwR9QArWCFdpSKlqj1jezs9ttdtaD+GB233wz79v3N7NAvJzBvy6qJONiXij3\n",
       "2xaytnjNq4xmaTS58j669kjamCNhcDc9LigJzb5KER30sed8thQl/Cxt8nYYXaAxpSScgLUOk9wb\n",
       "5eGNRPhyvdLm1Ta4RcMqqAgPATuBOfKA0RYnQqjb0uZaGE394MHtUBFSMoZsjJErzyYna9GIa9Im\n",
       "MxxGLTH7qCJcYRgqIt8PfK9UbkYJu6SNRqHjXmMfE2i+3EXBNGKqfIvBou3ngGoQ0rKv3ZU2hkvo\n",
       "Xqx46PSSuQF8CAhfLnNZkMY/KV6qynFRGykNX7khbXTyaMzFQQ99yrAGPFF7qJeoSSknOjQ3AL/4\n",
       "yi5pk6CkHGO47KFHYZIbg2rCPhrpVUq0q2+BGyrCPTC/+m2YasURimxzwkzzFGnjPYt8vtbDIiGT\n",
       "U9lVD/2FJDXOQFsOP4m1GWRspHgbVM9Sb11J8xbTrovvbC+K2UJHc1ag6zyfoaKEJF2HZouiYIZY\n",
       "k71pzm0Ucs2t6nAb3ge38bpUN3/T7BLu0POwirD2onGeeOqkdtJRSjhaSWQsWfLWB6QNj2Fi/+ly\n",
       "P65SMsYP8PotKht7c/MbNWqRH1vaOW0b7+jVyRJO3NHLMv9eGY69vvDQVxL24AmMMp29ib0crEAp\n",
       "xBPOBUek/PgITjrpi3UfqUobw7++HvgrU/EXbOiICHH+dsG6oU/FERq26nIPfgHdyl9AztvVrSJ8\n",
       "27YV/0H+ANP+wGVz/+qFAAAAAElFTkSuQmCC\n",
       "\" style=\"display:inline;vertical-align:middle;\" /></a><br>(see <a class=\"ProveItLink\" href=\"../__pv_it/593476a3683c1401f8e28bc576632a7f263589e30/dependencies.ipynb\">dependencies</a>)<br>"
      ],
      "text/plain": [
       "tuple_len_2: forall_{a, b} (|(a, b)| = 2)"
      ]
     },
     "execution_count": 2,
     "metadata": {},
     "output_type": "execute_result"
    }
   ],
   "source": [
    "%proving tuple_len_2 presuming []"
   ]
  },
  {
   "cell_type": "code",
   "execution_count": null,
   "metadata": {},
   "outputs": [],
   "source": []
  }
 ],
 "metadata": {
  "kernelspec": {
   "display_name": "Python 3",
   "language": "python",
   "name": "python3"
  }
 },
 "nbformat": 4,
 "nbformat_minor": 0
}
