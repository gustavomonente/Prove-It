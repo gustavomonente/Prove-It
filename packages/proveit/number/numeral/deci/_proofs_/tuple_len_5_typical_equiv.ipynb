{
 "cells": [
  {
   "cell_type": "markdown",
   "metadata": {},
   "source": [
    "Proof of <a class=\"ProveItLink\" href=\"../../../../_context_.ipynb\">proveit</a>.<a class=\"ProveItLink\" href=\"../../../_context_.ipynb\">number</a>.<a class=\"ProveItLink\" href=\"../../_context_.ipynb\">numeral</a>.<a class=\"ProveItLink\" href=\"../_context_.ipynb\">deci</a>.<a class=\"ProveItLink\" href=\"../_theorems_.ipynb#tuple_len_5_typical_equiv\">tuple_len_5_typical_equiv</a> theorem\n",
    "========"
   ]
  },
  {
   "cell_type": "code",
   "execution_count": 1,
   "metadata": {},
   "outputs": [],
   "source": [
    "import proveit\n",
    "context = proveit.Context('..') # the theorem's context is in the parent directory"
   ]
  },
  {
   "cell_type": "code",
   "execution_count": 2,
   "metadata": {},
   "outputs": [
    {
     "name": "stdout",
     "output_type": "stream",
     "text": [
      "Beginning proof of tuple_len_5_typical_equiv\n",
      "Recorded 'presuming' information\n",
      "Presuming previous theorems (applied transitively).\n"
     ]
    },
    {
     "data": {
      "text/html": [
       "<strong id=\"tuple_len_5_typical_equiv\">tuple_len_5_typical_equiv:</strong> <a class=\"ProveItLink\" href=\"../__pv_it/da4c29791af20474a37c90632715759b816e99c20/expr.ipynb\"><img src=\"data:image/png;base64,iVBORw0KGgoAAAANSUhEUgAAAVsAAAAWBAMAAACcUCLYAAAAMFBMVEX///8QEBCIiIhmZma6urrM\n",
       "zMxUVFQiIiJERETc3Nzu7u6qqqp2dnaYmJgyMjIAAAAcRTyBAAAAAXRSTlMAQObYZgAABA1JREFU\n",
       "SMfFV01oE0EUfs1Pk2x+KihoBSWktiCohEIFsT8RD56EeBEVxFj15A89+ENbkaIH60FdEGwPCquC\n",
       "ighZ9KQHDVY8KGKoB22hEBAPtlCKFNFaq+/Nz2Z3k0m3IjiQ2W/eznvv25n35k0AltSCBvxl27eo\n",
       "4J97vgmxDD0jxaVoPWH9S7f4pTDpUR89EygRnvDkVxsQdO/bpfdXVpm6Z3kZ1+tqumiyVkuMB7cK\n",
       "ffRM4A3hSU90E7qg+8Uh/lRt7k/bV5bUdNEkRFcrPdb9/l0Q+uiZwDBt7oAnuu+B042nVcysFpiz\n",
       "DV6o6aLJu6/m1Av0ar3UJ88IEhjCMdMT3V5BN6QrmckW67ENbqnp9tLXq+nWl/XJM4L46wcPhjyx\n",
       "jfQIukNqZtay2DcgkVHRJZOL02X65JnA98HBs57o+tKCbhM5am8VIZfobhKbE0s1c3DtxQEhepja\n",
       "gvK0ii6ZrEl3oikr9MkzgSMAl6yNnXbM7sraR+GioHsZf9v0xAwX5ye1H3z1++EKt9IIV/kpGeiF\n",
       "G8inJOnGpllLS7pkshbdsBGZFfrkmcB2kXqsjThm5x2jkCno9mO2rwG/yM/nBnzl7wtwlMdaETpF\n",
       "1JpaG6Z+j2p1yWQtutguCn3yTCAEvvKpP+WY+sx5qmQE3RUA/jkIJbm4E7R5vhey7iAQ4XVwdCMK\n",
       "gzMqunWZRel26VyfPBOIFUPllz8cU0eUdOsGIJ+Vx26AH2Wr5MRVoM1y9I3Xz7+mewLgXcZJN1La\n",
       "jaM7LZ/J8NcWg+UMrdyd1BTPlmRlMOQL8FyY/EVLTdVgXpaFeYiKuOaiQI8rdnNeg2Et26qADAYG\n",
       "Lh1GF6eCpOTrY7l6MrjMEmmTWq4y1fImnIjy43eWYpXzhiij+xPqS7zQY0z47KnmXt3FUg3JnHOl\n",
       "GjxGzv50kJiHkyTBJMoy0TI6S47LC0VMHmQjbOLpGORJ/ThcAG0BwWbQ2hg4Dx9yBYY2gYYHmb+g\n",
       "osuOKB/SZZaoY2oWuAbxRqFPnhlowM2uM305Fkv+HA1YqEqRdcrJMrEDjXU3X18HoT6KmQ24RGeo\n",
       "Nr4d5eBuam93hiFfB31rIquiSyb9Bxc6uKUQ+TstAelH2g8ZQp+VCQJxlOT18Dg+Ggyi2sB2WYp0\n",
       "MJRF+KkEUcMNbOhe7SLstAQKffJ8z8p6/cBOGDZCxkfssdalhw0U7cdB2JSxW+WKU7AqcQWwodpX\n",
       "HJcllb644oiN7n7UAbvM4LEC9pHWUWOXKURaa8qqMfICKauglpSvbleAMqp1gQzrbksqfXGBtDez\n",
       "ogez1vU8br0qVoAyCnu4nscrTwWXPnoO685o0d29fFh/fnzZpf/5GWN9s1vc7PXPD9dHz2NOebyi\n",
       "r/bV/7X9AYdzUVyb+BvDAAAAAElFTkSuQmCC\n",
       "\" style=\"display:inline;vertical-align:middle;\" /></a><br>(see <a class=\"ProveItLink\" href=\"../__pv_it/da4c29791af20474a37c90632715759b816e99c20/dependencies.ipynb\">dependencies</a>)<br>"
      ],
      "text/plain": [
       "tuple_len_5_typical_equiv: forall_{a, b, c, d, e} (|(a, b, c, d, e)| = |(1, ..k.., 5)|)"
      ]
     },
     "execution_count": 2,
     "metadata": {},
     "output_type": "execute_result"
    }
   ],
   "source": [
    "%proving tuple_len_5_typical_equiv presuming []"
   ]
  },
  {
   "cell_type": "code",
   "execution_count": null,
   "metadata": {},
   "outputs": [],
   "source": []
  }
 ],
 "metadata": {
  "kernelspec": {
   "display_name": "Python 3",
   "language": "python",
   "name": "python3"
  }
 },
 "nbformat": 4,
 "nbformat_minor": 0
}
