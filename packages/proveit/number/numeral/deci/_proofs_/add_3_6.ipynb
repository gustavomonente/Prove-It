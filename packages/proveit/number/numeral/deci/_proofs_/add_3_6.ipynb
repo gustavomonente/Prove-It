{
 "cells": [
  {
   "cell_type": "markdown",
   "metadata": {},
   "source": [
    "Proof of <a class=\"ProveItLink\" href=\"../../../../_context_.ipynb\">proveit</a>.<a class=\"ProveItLink\" href=\"../../../_context_.ipynb\">number</a>.<a class=\"ProveItLink\" href=\"../../_context_.ipynb\">numeral</a>.<a class=\"ProveItLink\" href=\"../_context_.ipynb\">decimal</a>.<a class=\"ProveItLink\" href=\"../_theorems_.ipynb#add_3_6\">add_3_6</a> theorem\n",
    "========"
   ]
  },
  {
   "cell_type": "code",
   "execution_count": 1,
   "metadata": {},
   "outputs": [],
   "source": [
    "import proveit\n",
    "context = proveit.Context('..') # the theorem's context is in the parent directory"
   ]
  },
  {
   "cell_type": "code",
   "execution_count": 2,
   "metadata": {},
   "outputs": [
    {
     "name": "stdout",
     "output_type": "stream",
     "text": [
      "Beginning proof of add_3_6\n",
      "Recorded 'presuming' information\n",
      "Presuming previous theorems (applied transitively).\n"
     ]
    },
    {
     "data": {
      "text/html": [
       "<strong id=\"add_3_6\">add_3_6:</strong> <a class=\"ProveItLink\" href=\"../__pv_it/2dab7f147213b2df8e7ddc5d031ec93bd58538540/expr.ipynb\"><img src=\"data:image/png;base64,iVBORw0KGgoAAAANSUhEUgAAAGEAAAAUBAMAAABvx07iAAAAMFBMVEX////MzMxUVFR2dna6uroQ\n",
       "EBCqqqqIiIgiIiJmZmYyMjJERETu7u6YmJjc3NwAAACgK8IjAAAAAXRSTlMAQObYZgAAAX1JREFU\n",
       "KM91k69Pw1AQx7/7yaBdu4Q/AMwEijHEGGaVoDALgiBwU/wShAzDEgIC1QQmIIiFoCoAARgCqVlC\n",
       "AFGDhSYYJGohYwGubyz0He2J13t375O7690BmoNgWQqx4wF4Hb9ixtj6GKIuf6ru5T3bKTQTy3Ig\n",
       "9QSHUBucaDraPJA20deCXuvaKt2PYuIaKHAiC4wAKRfxMvSGRMyIhJqcaAMl4E3ovax+iUtxDhis\n",
       "jE9g00VV6FuQiPZglV7HTBZjjmIYuCFNmziSCLXtYIdKFKnGLCEeTSmdCQ/JmiER30DdRrLGYigr\n",
       "ydICykJP0F/DpGVtW9YxaR/Ai4HIOy99cbWU8QjNhdKS6tglwgkggFHby0rvcCIrYsRrvjqGux7K\n",
       "gCpPnCPVkYghG/Ve5T55siNfQJE8Du9HNKfOAv05RmzY9/RuirTpgwu5HyjmM9TBDJ/P4j7ElPik\n",
       "4r/cBQ97Wmrso/9SCNmP27DF+T/tfxsVLIob4gjd2udg8w+DtmaMBWmOWQAAAABJRU5ErkJggg==\n",
       "\" style=\"display:inline;vertical-align:middle;\" /></a><br>(see <a class=\"ProveItLink\" href=\"../__pv_it/2dab7f147213b2df8e7ddc5d031ec93bd58538540/dependencies.ipynb\">dependencies</a>)<br>"
      ],
      "text/plain": [
       "add_3_6: (3 + 6) = 9"
      ]
     },
     "execution_count": 2,
     "metadata": {},
     "output_type": "execute_result"
    }
   ],
   "source": [
    "%proving add_3_6 presuming []"
   ]
  },
  {
   "cell_type": "code",
   "execution_count": null,
   "metadata": {},
   "outputs": [],
   "source": []
  }
 ],
 "metadata": {
  "kernelspec": {
   "display_name": "Python 3",
   "language": "python",
   "name": "python3"
  }
 },
 "nbformat": 4,
 "nbformat_minor": 0
}
