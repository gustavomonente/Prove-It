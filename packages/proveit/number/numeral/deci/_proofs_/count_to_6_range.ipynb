{
 "cells": [
  {
   "cell_type": "markdown",
   "metadata": {},
   "source": [
    "Proof of <a class=\"ProveItLink\" href=\"../../../../_context_.ipynb\">proveit</a>.<a class=\"ProveItLink\" href=\"../../../_context_.ipynb\">number</a>.<a class=\"ProveItLink\" href=\"../../_context_.ipynb\">numeral</a>.<a class=\"ProveItLink\" href=\"../_context_.ipynb\">deci</a>.<a class=\"ProveItLink\" href=\"../_theorems_.ipynb#count_to_6_range\">count_to_6_range</a> theorem\n",
    "========"
   ]
  },
  {
   "cell_type": "code",
   "execution_count": 1,
   "metadata": {},
   "outputs": [],
   "source": [
    "import proveit\n",
    "context = proveit.Context('..') # the theorem's context is in the parent directory"
   ]
  },
  {
   "cell_type": "code",
   "execution_count": 2,
   "metadata": {},
   "outputs": [
    {
     "name": "stdout",
     "output_type": "stream",
     "text": [
      "Beginning proof of count_to_6_range\n",
      "Recorded 'presuming' information\n",
      "Presuming previous theorems (applied transitively).\n"
     ]
    },
    {
     "data": {
      "text/html": [
       "<strong id=\"count_to_6_range\">count_to_6_range:</strong> <a class=\"ProveItLink\" href=\"../__pv_it/4fdad515a425a4673e7826e3e1b8962929bb3f770/expr.ipynb\"><img src=\"data:image/png;base64,iVBORw0KGgoAAAANSUhEUgAAAOcAAAAUBAMAAACE3DekAAAAMFBMVEX////MzMxUVFR2dna6uroQ\n",
       "EBCqqqqIiIgiIiJmZmYyMjJERETu7u6YmJjc3NwAAACgK8IjAAAAAXRSTlMAQObYZgAAAtZJREFU\n",
       "SMedVs1rE0EU/+XTfGzaQP+ARoqHetDYHkrxYC6Ct+YQBT/QehA8iAREJBe7KBQVwaWxQu2hKfSi\n",
       "oNSDoEjbvRRre2jOxX6AF3uRKh4kpK6zb2Y2u5M1CXmQmV9eXn6/nTdv3izQU0VXFt1r9nXCddse\n",
       "NtyeL7PvxN+HT49LZ8Dgc+Jr4IVwjdxJ40Qz4UYbwdC9UwjaD/uWfW6Y3KllcCZHaB/RQxkay/A5\n",
       "YllZjtZz8QrWm0ndXD6mLeAltAqQMqANnBSBcRORPKGJcfyRsXeFaGLovvB8RHIRoaJK6uHysaSB\n",
       "TyxLbBn2andFYERH8C+hsznU5EZtCdGg/HOYYrS8Surh8rExKoNV4DtcgYk6gj9locj0hhKqaJLL\n",
       "LaikHi4fe89FcigpgbG6AGti/7DjiG6X0gR650ees2lUJS21Ea31lVjFhAwsKYFjQuvbY1lcRSma\n",
       "NHt+E9h8gxir7S3Kw2syKvCl1qJarYpJtvMVe/QEPpDgSEFkF1KU2QcueoD4FeCmyjrZRtQCpk1E\n",
       "dRS8gXHDiTnPndfdonNUCr06UmzN/SproU162XnYzSFwoAaWxPwDWKHuoGUd0eMQpzhWQeqwC9En\n",
       "7NeqLepNSdSw5ZhZphCNDs7MXeQn8hJbKQUG87TSc649zXSQXhyjlYZ1ZfP7AN4ALgPPpDMiVmrQ\n",
       "s9p9sY54XhSS29oUEvpNTFMhUd1PmKy07D7wcHhKJ7Rtn9PNChdd5GgfqascDWCVpaGsknq4aLCj\n",
       "G9+CWe0CK5ss5Wjq2qsqHrEnTFiWpRMKz8zmEHtKCVz5VSXUUx40uS9UPsrGeVXUw0XngNo2HQhy\n",
       "jQ6xg55I89ZFm+ekpYFuoQXSdN826GVAM+kaNWl5HtGEsq2Qb8NXGXxIWcPHssCfHa+DtGIr5HO1\n",
       "NXP5kFZcF2/j0ndQCq3Q8v8vcZ8XCMeV3OvwFcPPUl2+ruwA/wDzyOv9lTdKeQAAAABJRU5ErkJg\n",
       "gg==\n",
       "\" style=\"display:inline;vertical-align:middle;\" /></a><br>(see <a class=\"ProveItLink\" href=\"../__pv_it/4fdad515a425a4673e7826e3e1b8962929bb3f770/dependencies.ipynb\">dependencies</a>)<br>"
      ],
      "text/plain": [
       "count_to_6_range: (1, 2, 3, 4, 5, 6) = (1, ..k.., 6)"
      ]
     },
     "execution_count": 2,
     "metadata": {},
     "output_type": "execute_result"
    }
   ],
   "source": [
    "%proving count_to_6_range presuming []"
   ]
  },
  {
   "cell_type": "code",
   "execution_count": null,
   "metadata": {},
   "outputs": [],
   "source": []
  }
 ],
 "metadata": {
  "kernelspec": {
   "display_name": "Python 3",
   "language": "python",
   "name": "python3"
  }
 },
 "nbformat": 4,
 "nbformat_minor": 0
}
