{
 "cells": [
  {
   "cell_type": "markdown",
   "metadata": {},
   "source": [
    "Proof of <a class=\"ProveItLink\" href=\"../../../../_context_.ipynb\">proveit</a>.<a class=\"ProveItLink\" href=\"../../../_context_.ipynb\">number</a>.<a class=\"ProveItLink\" href=\"../../_context_.ipynb\">numeral</a>.<a class=\"ProveItLink\" href=\"../_context_.ipynb\">decimal</a>.<a class=\"ProveItLink\" href=\"../_theorems_.ipynb#add_2_3\">add_2_3</a> theorem\n",
    "========"
   ]
  },
  {
   "cell_type": "code",
   "execution_count": 1,
   "metadata": {},
   "outputs": [],
   "source": [
    "import proveit\n",
    "context = proveit.Context('..') # the theorem's context is in the parent directory"
   ]
  },
  {
   "cell_type": "code",
   "execution_count": 2,
   "metadata": {},
   "outputs": [
    {
     "name": "stdout",
     "output_type": "stream",
     "text": [
      "Beginning proof of add_2_3\n",
      "Recorded 'presuming' information\n",
      "Presuming previous theorems (applied transitively).\n"
     ]
    },
    {
     "data": {
      "text/html": [
       "<strong id=\"add_2_3\">add_2_3:</strong> <a class=\"ProveItLink\" href=\"../__pv_it/ea6992e5304bd2721520dcc0f4a5c9943a9652b80/expr.ipynb\"><img src=\"data:image/png;base64,iVBORw0KGgoAAAANSUhEUgAAAGEAAAAUBAMAAABvx07iAAAAMFBMVEX///9UVFTMzMx2dna6uroQ\n",
       "EBCqqqqIiIgiIiJmZmYyMjJERETu7u6YmJjc3NwAAAC+aOQFAAAAAXRSTlMAQObYZgAAAXNJREFU\n",
       "KM91kzFLw1AQx/9pm9qkTeiqU8EvEOlQ1MEugpsOdVGQbN3cs9SIKOhiRBCkg7pmcOjkor5FqOjg\n",
       "B7AScLGLiDiIVON7L4J5L8kN7967ez/ujrsDzAeky3qGHXfAbbcn2sz6rA0lkL/qj7kjqs5RqWKu\n",
       "KbiGKH6jcioTahhagOFBI1CXIls7Uhs2PoFGIsZUh56lAKoL5Ucg5pv4Am5kQuHnC0VHUN4FAiwr\n",
       "6M1UwuFnaSQRfZpw3pOJgVMDLvl90RKJ511CS+Sl530ujC4T8wPY4T82IcUYa9HM3GQvLoAW0xqP\n",
       "P+P7275/FrmWCXJvSeIkiAgHYoxX4NpOEhNgjWNZFT32J0aEhBEFN1ZHlV5XaAzCK58EOgKxCuyT\n",
       "v8pjQnPfA6bpFG3VD1yBGPB+aJZEDGGsAQu0U2EYikThuEu7p9ckwjwcJ3xKYtKOP/rpw24Ijb2P\n",
       "PxoZ+3GVtTjJaf/fqHQpBxmOzK19Sjf/AgoxYri4J3dRAAAAAElFTkSuQmCC\n",
       "\" style=\"display:inline;vertical-align:middle;\" /></a><br>(see <a class=\"ProveItLink\" href=\"../__pv_it/ea6992e5304bd2721520dcc0f4a5c9943a9652b80/dependencies.ipynb\">dependencies</a>)<br>"
      ],
      "text/plain": [
       "add_2_3: (2 + 3) = 5"
      ]
     },
     "execution_count": 2,
     "metadata": {},
     "output_type": "execute_result"
    }
   ],
   "source": [
    "%proving add_2_3 presuming []"
   ]
  },
  {
   "cell_type": "code",
   "execution_count": null,
   "metadata": {},
   "outputs": [],
   "source": []
  }
 ],
 "metadata": {
  "kernelspec": {
   "display_name": "Python 3",
   "language": "python",
   "name": "python3"
  }
 },
 "nbformat": 4,
 "nbformat_minor": 0
}
