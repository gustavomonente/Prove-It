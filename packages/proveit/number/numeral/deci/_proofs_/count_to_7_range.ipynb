{
 "cells": [
  {
   "cell_type": "markdown",
   "metadata": {},
   "source": [
    "Proof of <a class=\"ProveItLink\" href=\"../../../../_context_.ipynb\">proveit</a>.<a class=\"ProveItLink\" href=\"../../../_context_.ipynb\">number</a>.<a class=\"ProveItLink\" href=\"../../_context_.ipynb\">numeral</a>.<a class=\"ProveItLink\" href=\"../_context_.ipynb\">deci</a>.<a class=\"ProveItLink\" href=\"../_theorems_.ipynb#count_to_7_range\">count_to_7_range</a> theorem\n",
    "========"
   ]
  },
  {
   "cell_type": "code",
   "execution_count": 1,
   "metadata": {},
   "outputs": [],
   "source": [
    "import proveit\n",
    "context = proveit.Context('..') # the theorem's context is in the parent directory"
   ]
  },
  {
   "cell_type": "code",
   "execution_count": 2,
   "metadata": {},
   "outputs": [
    {
     "name": "stdout",
     "output_type": "stream",
     "text": [
      "Beginning proof of count_to_7_range\n",
      "Recorded 'presuming' information\n",
      "Presuming previous theorems (applied transitively).\n"
     ]
    },
    {
     "data": {
      "text/html": [
       "<strong id=\"count_to_7_range\">count_to_7_range:</strong> <a class=\"ProveItLink\" href=\"../__pv_it/3c88e009667c8d824db29c9f0ad2bdce14e2dbf30/expr.ipynb\"><img src=\"data:image/png;base64,iVBORw0KGgoAAAANSUhEUgAAAPsAAAAUBAMAAAC5TlbCAAAAMFBMVEX////MzMxUVFR2dna6uroQ\n",
       "EBCqqqqIiIgiIiJmZmYyMjJERETu7u6YmJjc3NwAAACgK8IjAAAAAXRSTlMAQObYZgAAAwZJREFU\n",
       "SMelVk1oE0EYfdn8NNnsJgUv3hrpKR40mkP1IOamnuwhCIpoPQgeRAvSQzzo0kIR9bA0IhTFpuBF\n",
       "QYkgoodqLkVtD8m5aBsQQS9SaykosXH+9m92aEodktnHzDfvzXwz3zcDZFr4z5Joh9u2w3qFVov+\n",
       "lo8PXgj0pfjKaYzY/Kt/itwXTUPX+nnXeLVYxL4w9eLWyrvzxWJBo9N+Tv4XG7zVyOFoic/exlVn\n",
       "Ackc/8a73QJHC6VUjQGz2+2uYSHM72dVlBUyLmcQDtOGMbhfGKYaiA8z1LeBrCVsx4S8fvCGaHmD\n",
       "dJ0PIAvIIToq0wdYFeURoBEfkqVRD6wIw7gFbZOhWBnZmtjGJSGvOYNjmw6Kkl8/jGGZPsCqKMSL\n",
       "B4B54Bt8hnoH2k/HxHF+VJfl0365Y+T/WKYPsCpLjHhML6EiGSY7AhgTAiy78p8r/MBlZ4fuuQPo\n",
       "LhyWySs95dN0YTbmJMOT4nRlDj0U0xh15NONzDoDzWdIjjjupz5aYugpKyxM5nrKH6EnpIZJyXDc\n",
       "RWMlsb2OPCmvufwqUmdFS5NWl2TyyV7yxipNGBbKQcOU7VrEucIFv/wMyzAkJsx10XKdVgMye7mX\n",
       "fB8915FV2bDiZK020htsmgVXfi9EVkjWYP4Vhnd2Jp+sc/mgmxI2fvDT1RHyifz0zGke12fI6pmh\n",
       "Nuytfo1Wx317n9uW87PULGZJh2QXwFNLvO7FQFysnuzLbZ5qO0iJ2Iv8hnP0/KXn0Ruw+dFjMXOz\n",
       "AeMPdflEccpiyGyRuGeITaVJt+o7zHMcDWJ+hHcmftG6KrMHWFlFx7mAJBUaYKkC89vU+Sct3CJz\n",
       "1UkqthjCiemX4Cj6bq2VvEsnV803wFC0ukd0Zk5RsllZPsDKooldHAxQAnylgav38/TI1uG6SoUu\n",
       "I4S8TsNSJt2gUZgAH9jl4KbvLVAhjHxmqitHNlJQkSsHbwV+77YqkDEaRp6Z4sINsyqoar6Hgfc8\n",
       "USATYdQKaSmeG+FHj0eQbm/zWbR1MXf42FoG/gG/CvPUBgdT4gAAAABJRU5ErkJggg==\n",
       "\" style=\"display:inline;vertical-align:middle;\" /></a><br>(see <a class=\"ProveItLink\" href=\"../__pv_it/3c88e009667c8d824db29c9f0ad2bdce14e2dbf30/dependencies.ipynb\">dependencies</a>)<br>"
      ],
      "text/plain": [
       "count_to_7_range: (1, 2, 3, 4, 5, 6, 7) = (1, ..k.., 7)"
      ]
     },
     "execution_count": 2,
     "metadata": {},
     "output_type": "execute_result"
    }
   ],
   "source": [
    "%proving count_to_7_range presuming []"
   ]
  },
  {
   "cell_type": "code",
   "execution_count": null,
   "metadata": {},
   "outputs": [],
   "source": []
  }
 ],
 "metadata": {
  "kernelspec": {
   "display_name": "Python 3",
   "language": "python",
   "name": "python3"
  }
 },
 "nbformat": 4,
 "nbformat_minor": 0
}
