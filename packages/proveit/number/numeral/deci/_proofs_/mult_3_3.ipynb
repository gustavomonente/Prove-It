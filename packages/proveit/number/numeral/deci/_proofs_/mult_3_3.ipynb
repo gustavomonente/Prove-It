{
 "cells": [
  {
   "cell_type": "markdown",
   "metadata": {},
   "source": [
    "Proof of <a class=\"ProveItLink\" href=\"../../../../_context_.ipynb\">proveit</a>.<a class=\"ProveItLink\" href=\"../../../_context_.ipynb\">number</a>.<a class=\"ProveItLink\" href=\"../../_context_.ipynb\">numeral</a>.<a class=\"ProveItLink\" href=\"../_context_.ipynb\">deci</a>.<a class=\"ProveItLink\" href=\"../_theorems_.ipynb#mult_3_3\">mult_3_3</a> theorem\n",
    "========"
   ]
  },
  {
   "cell_type": "code",
   "execution_count": 1,
   "metadata": {},
   "outputs": [],
   "source": [
    "import proveit\n",
    "context = proveit.Context('..') # the theorem's context is in the parent directory"
   ]
  },
  {
   "cell_type": "code",
   "execution_count": 2,
   "metadata": {},
   "outputs": [
    {
     "name": "stdout",
     "output_type": "stream",
     "text": [
      "Beginning proof of mult_3_3\n",
      "Recorded 'presuming' information\n",
      "Presuming previous theorems (applied transitively).\n"
     ]
    },
    {
     "data": {
      "text/html": [
       "<strong id=\"mult_3_3\">mult_3_3:</strong> <a class=\"ProveItLink\" href=\"../__pv_it/3e655b50ab8f2915518aa3b5bc9584185a3378700/expr.ipynb\"><img src=\"data:image/png;base64,iVBORw0KGgoAAAANSUhEUgAAAFcAAAAUBAMAAAAKKrydAAAAMFBMVEX////MzMxUVFR2dna6uroQ\n",
       "EBCqqqqIiIgiIiJmZmYyMjJERETu7u6YmJjc3NwAAACgK8IjAAAAAXRSTlMAQObYZgAAAXFJREFU\n",
       "KM91k69Pw0AUx79jP9m6dn8CBoFiYWIMxGZIwA8DiP4DMBAIMCwhIUHRBMwCguCYAATBAWdIFhDU\n",
       "ICFNZsAQ1EJg/Hh367rmen2iffe9T9697+sV0G0EYgUh8QC0C1feUi9MmxhyZErbn+DaGXQLNa/8\n",
       "GxI/0I5l+M7Wl4CshWQHRr2vbpn4BIoyPAqMASkHsSoMr9RMBV9USIZJKwOvIq/5XFIbSFeklr/p\n",
       "TAcbIt/2bbTyQNSSKi9Q5Qqu+QQmjwZye5eRE9HWVJPHKU+ph3MbO4JY58dqPTpZpVbqUuXMaqJs\n",
       "oiryOM0Fj67LeYbIh+xwea2c47DuINOhdWqEHu/AramAgXHG2zC6PVjEH+NwrD7o+cTdoTcZjF8g\n",
       "1e3Di8Aecw364olFfoESWbd9c34Wcx7OS/AmuydklrK5xqWnxhqHNJl0ToKjpQOIz62IlvqGZi2V\n",
       "Wgy5zzcKLXhFB5c/EBknBFb9Vi9q9B/pKGAVny5cogAAAABJRU5ErkJggg==\n",
       "\" style=\"display:inline;vertical-align:middle;\" /></a><br>(see <a class=\"ProveItLink\" href=\"../__pv_it/3e655b50ab8f2915518aa3b5bc9584185a3378700/dependencies.ipynb\">dependencies</a>)<br>"
      ],
      "text/plain": [
       "mult_3_3: (3 * 3) = 9"
      ]
     },
     "execution_count": 2,
     "metadata": {},
     "output_type": "execute_result"
    }
   ],
   "source": [
    "%proving mult_3_3 presuming []"
   ]
  },
  {
   "cell_type": "code",
   "execution_count": null,
   "metadata": {},
   "outputs": [],
   "source": []
  }
 ],
 "metadata": {
  "kernelspec": {
   "display_name": "Python 3",
   "language": "python",
   "name": "python3"
  }
 },
 "nbformat": 4,
 "nbformat_minor": 0
}
