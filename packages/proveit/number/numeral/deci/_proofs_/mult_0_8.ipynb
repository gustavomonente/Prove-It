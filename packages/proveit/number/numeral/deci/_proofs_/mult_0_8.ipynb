{
 "cells": [
  {
   "cell_type": "markdown",
   "metadata": {},
   "source": [
    "Proof of <a class=\"ProveItLink\" href=\"../../../../_context_.ipynb\">proveit</a>.<a class=\"ProveItLink\" href=\"../../../_context_.ipynb\">number</a>.<a class=\"ProveItLink\" href=\"../../_context_.ipynb\">numeral</a>.<a class=\"ProveItLink\" href=\"../_context_.ipynb\">deci</a>.<a class=\"ProveItLink\" href=\"../_theorems_.ipynb#mult_0_8\">mult_0_8</a> theorem\n",
    "========"
   ]
  },
  {
   "cell_type": "code",
   "execution_count": 1,
   "metadata": {},
   "outputs": [],
   "source": [
    "import proveit\n",
    "context = proveit.Context('..') # the theorem's context is in the parent directory"
   ]
  },
  {
   "cell_type": "code",
   "execution_count": 2,
   "metadata": {},
   "outputs": [
    {
     "name": "stdout",
     "output_type": "stream",
     "text": [
      "Beginning proof of mult_0_8\n",
      "Recorded 'presuming' information\n",
      "Presuming previous theorems (applied transitively).\n"
     ]
    },
    {
     "data": {
      "text/html": [
       "<strong id=\"mult_0_8\">mult_0_8:</strong> <a class=\"ProveItLink\" href=\"../__pv_it/bef8426f6195d33040337c6352b3670026994d190/expr.ipynb\"><img src=\"data:image/png;base64,iVBORw0KGgoAAAANSUhEUgAAAFcAAAAUBAMAAAAKKrydAAAAMFBMVEX///9UVFTMzMx2dna6uroQ\n",
       "EBCqqqqIiIgiIiJmZmYyMjJERETu7u6YmJjc3NwAAAC+aOQFAAAAAXRSTlMAQObYZgAAAW5JREFU\n",
       "KM91kz9Lw2AQh5+mpdY2qcVBcOs3aHEprYgdxUWRjiL5Ato6FQehU0fN4AfQRdBBdPYPASkUHVop\n",
       "4qYd3VSKiiLovcWkNElvOC73Pu/lfrkLJNv4bIMRdgvh7Rn3Ua/mi4S6PizXSYs/gUOa7uk4TKHv\n",
       "e9m4qe+AYWEsE3ZP1+FG6njheyhArEsiRfTHyc5CExpe+AzKNs8wkSLy4WSXLpiTtxY98JucmGxB\n",
       "yyLy6WRDvx1TJFvDrP4lcIVLeMmiuTDz37Yo6WsoHCs7kijZg0yFusAWWk9dV0B0b7ckvjZcOSmV\n",
       "M1lKgzZaqtwdY+822mtgG6W+wKgSGEuJW5USpg9WAsumaiNxiuF8Ol2oUJtIbdDzgQrP4clWAoeG\n",
       "siaXu/8CfUPJS1SnkXayizYPMvSsB46Z+gosSHRdnXSz2rQsEvG0B9Zzm+n+uAOsGbyhhhWUzY3Y\n",
       "56uAnH9FB8vvs0R3BBz0Wz0Go3/X52AkrH1p6AAAAABJRU5ErkJggg==\n",
       "\" style=\"display:inline;vertical-align:middle;\" /></a><br>(see <a class=\"ProveItLink\" href=\"../__pv_it/bef8426f6195d33040337c6352b3670026994d190/dependencies.ipynb\">dependencies</a>)<br>"
      ],
      "text/plain": [
       "mult_0_8: (0 * 8) = 0"
      ]
     },
     "execution_count": 2,
     "metadata": {},
     "output_type": "execute_result"
    }
   ],
   "source": [
    "%proving mult_0_8 presuming []"
   ]
  },
  {
   "cell_type": "code",
   "execution_count": null,
   "metadata": {},
   "outputs": [],
   "source": []
  }
 ],
 "metadata": {
  "kernelspec": {
   "display_name": "Python 3",
   "language": "python",
   "name": "python3"
  }
 },
 "nbformat": 4,
 "nbformat_minor": 0
}
