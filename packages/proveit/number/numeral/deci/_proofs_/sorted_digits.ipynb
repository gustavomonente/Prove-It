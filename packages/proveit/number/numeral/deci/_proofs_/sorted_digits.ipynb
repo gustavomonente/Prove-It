{
 "cells": [
  {
   "cell_type": "markdown",
   "metadata": {},
   "source": [
    "Proof of <a class=\"ProveItLink\" href=\"../../../../_context_.ipynb\">proveit</a>.<a class=\"ProveItLink\" href=\"../../../_context_.ipynb\">number</a>.<a class=\"ProveItLink\" href=\"../../_context_.ipynb\">numeral</a>.<a class=\"ProveItLink\" href=\"../_context_.ipynb\">decimal</a>.<a class=\"ProveItLink\" href=\"../_theorems_.ipynb#sorted_digits\">sorted_digits</a> theorem\n",
    "========"
   ]
  },
  {
   "cell_type": "code",
   "execution_count": 1,
   "metadata": {},
   "outputs": [],
   "source": [
    "import proveit\n",
    "context = proveit.Context('..') # the theorem's context is in the parent directory"
   ]
  },
  {
   "cell_type": "code",
   "execution_count": 2,
   "metadata": {},
   "outputs": [
    {
     "name": "stdout",
     "output_type": "stream",
     "text": [
      "Beginning proof of sorted_digits\n",
      "Recorded 'presuming' information\n",
      "Presuming previous theorems (applied transitively).\n"
     ]
    },
    {
     "data": {
      "text/html": [
       "<strong id=\"sorted_digits\">sorted_digits:</strong> <a class=\"ProveItLink\" href=\"../__pv_it/4209e8268f8ff9673834d89141f0aad44775bdb70/expr.ipynb\"><img src=\"data:image/png;base64,iVBORw0KGgoAAAANSUhEUgAAAWEAAAAPBAMAAADHWGN6AAAAMFBMVEX///9mZma6urpUVFREREQQ\n",
       "EBDc3NwiIiLu7u6qqqoyMjLMzMyYmJiIiIh2dnYAAADXmt2vAAAAAXRSTlMAQObYZgAAAwJJREFU\n",
       "SMfV1k1IFGEYB/C/7oez36OmfUC6Xbu4e/CQRUkUFV1EQ6xL46FOkUYno2wkRBCyhegSgpYn6dB2\n",
       "6qYDEXXoQw8ZVOKKgoGxG5G1btQ0szszzvsfwnN72MHfPO87z77zPu8jEP+0ju0/QztOM13On/LG\n",
       "PWEIv4zsZosv8iOfpvP5nEjS4nKSoqSmFcW4TGNE4SnvqRybQoHGB2VMaJ6MrzIEdD3Hkz3EHqK3\n",
       "uq6nRKoCDlDUsBbsAaIdiE86dj9rznj4iCvjMlWpCHQ4FHpkfMU2kegXycAuEIVXFpj8Mo4RNQI+\n",
       "onFglKgVSBvDUwgV7RsvGq2fvJVxhQL98P2wKXrFfCnVnUhMigRcmgKRz7VGFrUoHjJewzrRKjBC\n",
       "VAIKQCKF6k3rxvvP4IwtChfh+2VRbNC+6+wKh3JOxja5MrbpuJeMBZgjajmJLyJJ34ElBXdkVP+u\n",
       "bK+1OVDGLkKN9SbGbjj7cRBEUWWKyfdqPktUmplP8lzwewbqbzJE52BWU18OkXLG0s6tOrIydhNa\n",
       "KgU0dN0pvbVdILqNKSa/GvwmklTSMEBRsNfTRYWSSmRsicca+mRE/ph/tmXAGbvJOgV80y56lyTK\n",
       "WRkLUTghkqQDDSpFSV95YKjuZieRfy5UyDi7QvJmLFCVXL7ccucS6BEplLUyFqLQrIj003hAkqJi\n",
       "kzzwGWIbKkWNfyxkzcoLlSsv6N0Vbpq3rr32Owoq8G+KNAZ7VziENlgn+RZdMx6giYSadh5orMZs\n",
       "hqIA49z1tyNa3L7yQjIuinWQKNoZO3S3tnZjr7damlWRWq01dldeIkWVZ24Tn8b1aa6Iu4P8+3TD\n",
       "DLAgnjWBduf4cB1SXXxuyeU1FWhWRQMPnJV5YLexbxWRnqsRsykMYDjLHWSJO0hwMF/fL57nUc3V\n",
       "pe0OgjPcG3oR7eamkpPO8sCJHA/cr+I10Qd11Hzi2OJBasmoP/9AEyls9H1uyftqj3L/xap+iCjY\n",
       "lFY5ankly3Qhw3NF0q7/hCoUX67Df/j5C4EbIllYFrNBAAAAAElFTkSuQmCC\n",
       "\" style=\"display:inline;vertical-align:middle;\" /></a><br>(see <a class=\"ProveItLink\" href=\"../__pv_it/4209e8268f8ff9673834d89141f0aad44775bdb70/dependencies.ipynb\">dependencies</a>)<br>"
      ],
      "text/plain": [
       "sorted_digits: 0 < 1 < 2 < 3 < 4 < 5 < 6 < 7 < 8 < 9"
      ]
     },
     "execution_count": 2,
     "metadata": {},
     "output_type": "execute_result"
    }
   ],
   "source": [
    "%proving sorted_digits presuming []"
   ]
  },
  {
   "cell_type": "code",
   "execution_count": null,
   "metadata": {},
   "outputs": [],
   "source": []
  }
 ],
 "metadata": {
  "kernelspec": {
   "display_name": "Python 3",
   "language": "python",
   "name": "python3"
  }
 },
 "nbformat": 4,
 "nbformat_minor": 0
}
