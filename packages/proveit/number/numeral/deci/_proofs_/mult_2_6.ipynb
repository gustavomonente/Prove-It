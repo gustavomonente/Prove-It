{
 "cells": [
  {
   "cell_type": "markdown",
   "metadata": {},
   "source": [
    "Proof of <a class=\"ProveItLink\" href=\"../../../../_context_.ipynb\">proveit</a>.<a class=\"ProveItLink\" href=\"../../../_context_.ipynb\">number</a>.<a class=\"ProveItLink\" href=\"../../_context_.ipynb\">numeral</a>.<a class=\"ProveItLink\" href=\"../_context_.ipynb\">deci</a>.<a class=\"ProveItLink\" href=\"../_theorems_.ipynb#mult_2_6\">mult_2_6</a> theorem\n",
    "========"
   ]
  },
  {
   "cell_type": "code",
   "execution_count": 1,
   "metadata": {},
   "outputs": [],
   "source": [
    "import proveit\n",
    "context = proveit.Context('..') # the theorem's context is in the parent directory"
   ]
  },
  {
   "cell_type": "code",
   "execution_count": 2,
   "metadata": {},
   "outputs": [
    {
     "name": "stdout",
     "output_type": "stream",
     "text": [
      "Beginning proof of mult_2_6\n",
      "Recorded 'presuming' information\n",
      "Presuming previous theorems (applied transitively).\n"
     ]
    },
    {
     "data": {
      "text/html": [
       "<strong id=\"mult_2_6\">mult_2_6:</strong> <a class=\"ProveItLink\" href=\"../__pv_it/c37780356cfec91b25258402707e031fa06a07d60/expr.ipynb\"><img src=\"data:image/png;base64,iVBORw0KGgoAAAANSUhEUgAAAGEAAAAUBAMAAABvx07iAAAAMFBMVEX///9UVFTMzMx2dna6uroQ\n",
       "EBCqqqqIiIgiIiJmZmYyMjJERETu7u6YmJjc3NwAAAC+aOQFAAAAAXRSTlMAQObYZgAAAXxJREFU\n",
       "KM+Fk7tKA1EQhr/c7yFNwC6BPICJKUJsTGmnhYqFL2BjK2kkIljYuBYp4gUi2GhhQLAKyqYQFAvz\n",
       "BLplKhG1CCG4nj1mE0mO68Bezpn5zsy/OwPxNhO2gZM9wsPR1Wjt2ZzBZShDo7VmWjwuiSaYKw13\n",
       "zzgkWp+I9q9BC88nxDRCOr5F2xPRaEJhHGjl+nAMyxA08FVwfdmuBVnQ3USOmCBWIWXQgXAf17vt\n",
       "uZb3cElFNHRSacpyHezbnl6mLKI9mooQtq9z81NL1hbea7Mr/FL67IVl578I7weWW9i2jLYuE6o6\n",
       "/oo6RzABS9ZLSBbxZB3chZcS7jc1UWNADMSIA9gTRPsvImCdbFXl13i1PUmZw1sZ6TgdEevEDak8\n",
       "A1s2Ma1TtZWP53BnCRgUIb6TPxgqdWWjK0JYdpwICKKTL07BvPhdpmmOvk0xJ7otnB4DQsneCQ3T\n",
       "7MouUdi9Q7PHNNVuwWk+blWDUP9noiYsYjgRqql9doj/BpqiaSE0qod1AAAAAElFTkSuQmCC\n",
       "\" style=\"display:inline;vertical-align:middle;\" /></a><br>(see <a class=\"ProveItLink\" href=\"../__pv_it/c37780356cfec91b25258402707e031fa06a07d60/dependencies.ipynb\">dependencies</a>)<br>"
      ],
      "text/plain": [
       "mult_2_6: (2 * 6) = 12"
      ]
     },
     "execution_count": 2,
     "metadata": {},
     "output_type": "execute_result"
    }
   ],
   "source": [
    "%proving mult_2_6 presuming []"
   ]
  },
  {
   "cell_type": "code",
   "execution_count": null,
   "metadata": {},
   "outputs": [],
   "source": []
  }
 ],
 "metadata": {
  "kernelspec": {
   "display_name": "Python 3",
   "language": "python",
   "name": "python3"
  }
 },
 "nbformat": 4,
 "nbformat_minor": 0
}
