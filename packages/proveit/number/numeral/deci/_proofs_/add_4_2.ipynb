{
 "cells": [
  {
   "cell_type": "markdown",
   "metadata": {},
   "source": [
    "Proof of <a class=\"ProveItLink\" href=\"../../../../_context_.ipynb\">proveit</a>.<a class=\"ProveItLink\" href=\"../../../_context_.ipynb\">number</a>.<a class=\"ProveItLink\" href=\"../../_context_.ipynb\">numeral</a>.<a class=\"ProveItLink\" href=\"../_context_.ipynb\">decimal</a>.<a class=\"ProveItLink\" href=\"../_theorems_.ipynb#add_4_2\">add_4_2</a> theorem\n",
    "========"
   ]
  },
  {
   "cell_type": "code",
   "execution_count": 1,
   "metadata": {},
   "outputs": [],
   "source": [
    "import proveit\n",
    "context = proveit.Context('..') # the theorem's context is in the parent directory"
   ]
  },
  {
   "cell_type": "code",
   "execution_count": 2,
   "metadata": {},
   "outputs": [
    {
     "name": "stdout",
     "output_type": "stream",
     "text": [
      "Beginning proof of add_4_2\n",
      "Recorded 'presuming' information\n",
      "Presuming previous theorems (applied transitively).\n"
     ]
    },
    {
     "data": {
      "text/html": [
       "<strong id=\"add_4_2\">add_4_2:</strong> <a class=\"ProveItLink\" href=\"../__pv_it/2f864b45efc031065042084787200a0a61c363920/expr.ipynb\"><img src=\"data:image/png;base64,iVBORw0KGgoAAAANSUhEUgAAAGEAAAAUBAMAAABvx07iAAAAMFBMVEX///9UVFTMzMx2dna6uroQ\n",
       "EBCqqqqIiIgiIiJmZmYyMjJERETu7u6YmJjc3NwAAAC+aOQFAAAAAXRSTlMAQObYZgAAAWpJREFU\n",
       "KM91kzFLw0AUx/9tiqltUlwEF2nAycmoQ4kuHd1EUBGcnIqLq3Srgw4uZikScVBwyqCTU6lERBR0\n",
       "6CfQG7sIggrSJb67BMldkkfy8u7d/e7ey7sH1AbIlr0cP164mpV9htezUGCptdr+Aulrbh7IM/fQ\n",
       "vmFcqIBxhTPAdMnU12JfK/qcAxtAQyWqLnpAmZ/9cSkTW0Cd4VElVkWcQ65shbgJULdQaSrErdBt\n",
       "ek2mECQnATRXIUYzbdqkT9YTUkTpizYSqWu+EKKN0QBH4A/sNFGeAMY6yq8KgW6AdZqxImLJ9w99\n",
       "P4I9eoufSlS/wHuTEw9InaG7WcQxESKwHc/7OZWJXdQYSp1EHhQlJsUZfbFCqWDRhs7izBMyF6AL\n",
       "OMLelonhojMFjNsKUbCNTWCFm8vhtFzBMKQsK5ZadGfeim/Jv7SSg+fsy25KhX1NDho5/XGX1zjp\n",
       "257sqCypspyJ3K59y3b/Aa2nX6s5JNd5AAAAAElFTkSuQmCC\n",
       "\" style=\"display:inline;vertical-align:middle;\" /></a><br>(see <a class=\"ProveItLink\" href=\"../__pv_it/2f864b45efc031065042084787200a0a61c363920/dependencies.ipynb\">dependencies</a>)<br>"
      ],
      "text/plain": [
       "add_4_2: (4 + 2) = 6"
      ]
     },
     "execution_count": 2,
     "metadata": {},
     "output_type": "execute_result"
    }
   ],
   "source": [
    "%proving add_4_2 presuming []"
   ]
  },
  {
   "cell_type": "code",
   "execution_count": null,
   "metadata": {},
   "outputs": [],
   "source": []
  }
 ],
 "metadata": {
  "kernelspec": {
   "display_name": "Python 3",
   "language": "python",
   "name": "python3"
  }
 },
 "nbformat": 4,
 "nbformat_minor": 0
}
