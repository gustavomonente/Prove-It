{
 "cells": [
  {
   "cell_type": "markdown",
   "metadata": {},
   "source": [
    "Proof of <a class=\"ProveItLink\" href=\"../../../../_context_.ipynb\">proveit</a>.<a class=\"ProveItLink\" href=\"../../../_context_.ipynb\">number</a>.<a class=\"ProveItLink\" href=\"../../_context_.ipynb\">numeral</a>.<a class=\"ProveItLink\" href=\"../_context_.ipynb\">deci</a>.<a class=\"ProveItLink\" href=\"../_theorems_.ipynb#mult_3_5\">mult_3_5</a> theorem\n",
    "========"
   ]
  },
  {
   "cell_type": "code",
   "execution_count": 1,
   "metadata": {},
   "outputs": [],
   "source": [
    "import proveit\n",
    "context = proveit.Context('..') # the theorem's context is in the parent directory"
   ]
  },
  {
   "cell_type": "code",
   "execution_count": 2,
   "metadata": {},
   "outputs": [
    {
     "name": "stdout",
     "output_type": "stream",
     "text": [
      "Beginning proof of mult_3_5\n",
      "Recorded 'presuming' information\n",
      "Presuming previous theorems (applied transitively).\n"
     ]
    },
    {
     "data": {
      "text/html": [
       "<strong id=\"mult_3_5\">mult_3_5:</strong> <a class=\"ProveItLink\" href=\"../__pv_it/4b4c8ffa16b6da88c97d511ec6b432431afe18960/expr.ipynb\"><img src=\"data:image/png;base64,iVBORw0KGgoAAAANSUhEUgAAAGEAAAAUBAMAAABvx07iAAAAMFBMVEX////MzMxUVFR2dna6uroQ\n",
       "EBCqqqqIiIgiIiJmZmYyMjJERETu7u6YmJjc3NwAAACgK8IjAAAAAXRSTlMAQObYZgAAAVRJREFU\n",
       "KM9jYOC7wIAB8hjwgdMMDI+Nt8G5XHcYpzEwPcCqFCzHwLCOgW8CQz7cItb//w0YeBZgqGaLgcox\n",
       "8E5gYP/GwN8AN8eoDkiao2s4ZPQHJsfxgIElhIEfbigTmDyKYQfvH5jcCzCJcBVElMsBt45KEMHT\n",
       "DJdhulspwMDAPAGrDrDcXiCPz2IOXIb7AN8XoDzYlVarQGAlXAdErg3MLwW5ggeqaQcwZBqw2QGR\n",
       "C4GEKTDsGM5DvT//AQPjBxw6gHJAHXwPGLi/gYJNAUhoMTDYO+DQAZEDuor/D0QHGEQBzTnAwNKA\n",
       "8MciuA6IHNDnrBsYOP7AdAADqQvmc3Q7IHKWQM4FpPh4ycAbx8DAaYCug/0PTM4DyPOcuQUuwzdZ\n",
       "8wAwBgXQNHCq/poLlePAmkxP4EnsvBOwiZrjyx/7sIhhSe2oOQoDcD/ApwNbrr2HRz0A0PNk/CGe\n",
       "jjgAAAAASUVORK5CYII=\n",
       "\" style=\"display:inline;vertical-align:middle;\" /></a><br>(see <a class=\"ProveItLink\" href=\"../__pv_it/4b4c8ffa16b6da88c97d511ec6b432431afe18960/dependencies.ipynb\">dependencies</a>)<br>"
      ],
      "text/plain": [
       "mult_3_5: (3 * 5) = 15"
      ]
     },
     "execution_count": 2,
     "metadata": {},
     "output_type": "execute_result"
    }
   ],
   "source": [
    "%proving mult_3_5 presuming []"
   ]
  },
  {
   "cell_type": "code",
   "execution_count": null,
   "metadata": {},
   "outputs": [],
   "source": []
  }
 ],
 "metadata": {
  "kernelspec": {
   "display_name": "Python 3",
   "language": "python",
   "name": "python3"
  }
 },
 "nbformat": 4,
 "nbformat_minor": 0
}
