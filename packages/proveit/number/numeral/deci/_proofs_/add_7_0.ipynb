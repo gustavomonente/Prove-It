{
 "cells": [
  {
   "cell_type": "markdown",
   "metadata": {},
   "source": [
    "Proof of <a class=\"ProveItLink\" href=\"../../../../_context_.ipynb\">proveit</a>.<a class=\"ProveItLink\" href=\"../../../_context_.ipynb\">number</a>.<a class=\"ProveItLink\" href=\"../../_context_.ipynb\">numeral</a>.<a class=\"ProveItLink\" href=\"../_context_.ipynb\">decimal</a>.<a class=\"ProveItLink\" href=\"../_theorems_.ipynb#add_7_0\">add_7_0</a> theorem\n",
    "========"
   ]
  },
  {
   "cell_type": "code",
   "execution_count": 1,
   "metadata": {},
   "outputs": [],
   "source": [
    "import proveit\n",
    "context = proveit.Context('..') # the theorem's context is in the parent directory"
   ]
  },
  {
   "cell_type": "code",
   "execution_count": 2,
   "metadata": {},
   "outputs": [
    {
     "name": "stdout",
     "output_type": "stream",
     "text": [
      "Beginning proof of add_7_0\n",
      "Recorded 'presuming' information\n",
      "Presuming previous theorems (applied transitively).\n"
     ]
    },
    {
     "data": {
      "text/html": [
       "<strong id=\"add_7_0\">add_7_0:</strong> <a class=\"ProveItLink\" href=\"../__pv_it/e3c9e587a7a836af49e65b3abf46d077d4d411da0/expr.ipynb\"><img src=\"data:image/png;base64,iVBORw0KGgoAAAANSUhEUgAAAGIAAAAUBAMAAACE8PXhAAAAMFBMVEX///9UVFTMzMx2dna6uroQ\n",
       "EBCqqqqIiIgiIiJmZmYyMjJERETu7u6YmJjc3NwAAAC+aOQFAAAAAXRSTlMAQObYZgAAAV1JREFU\n",
       "KM91kzFIw1AQhv82pabpS83qltEtwQzFguCmmyDinK2biaNOddBFkIK71DWD1FmULoKgYEFcNYvg\n",
       "2NKpU7y82JL3kndwyb1778u7y90BrTHK5UjhxyuqZ9eeJzrbHzYqsXx0fc3zXOAOZpIkU2HL8NkV\n",
       "2EAmvumgBbOPBn3Mynzd7PUJdOgimbgBKoAeQwM0WyDugWCEZ5mgiDaAX27vQCAoxj0fxnYh6VoI\n",
       "nHBrKBBsTkQIrV8gmqSPqaGNBaI1A5wQJk9di7hk9BbpRWq8QyToDsdFvSdfwSb0OEitU77uRNF5\n",
       "FN0uo6pOZGJlsCAuUcg88EsIfbiIaioRD1StEWq9XB68YKvWf+bVuURkFTQLRXfS/DdJ6zOJ0H22\n",
       "DzRcmQhSz276bw4lgrWPqQkMWyZ+fPAuyUk3v3gpb3ZTKOyb0PKK+XhSDU6x25cTpZBmrNhQTu1X\n",
       "ufsPFCFYOiZQPmoAAAAASUVORK5CYII=\n",
       "\" style=\"display:inline;vertical-align:middle;\" /></a><br>(see <a class=\"ProveItLink\" href=\"../__pv_it/e3c9e587a7a836af49e65b3abf46d077d4d411da0/dependencies.ipynb\">dependencies</a>)<br>"
      ],
      "text/plain": [
       "add_7_0: (7 + 0) = 7"
      ]
     },
     "execution_count": 2,
     "metadata": {},
     "output_type": "execute_result"
    }
   ],
   "source": [
    "%proving add_7_0 presuming []"
   ]
  },
  {
   "cell_type": "code",
   "execution_count": null,
   "metadata": {},
   "outputs": [],
   "source": []
  }
 ],
 "metadata": {
  "kernelspec": {
   "display_name": "Python 3",
   "language": "python",
   "name": "python3"
  }
 },
 "nbformat": 4,
 "nbformat_minor": 0
}
