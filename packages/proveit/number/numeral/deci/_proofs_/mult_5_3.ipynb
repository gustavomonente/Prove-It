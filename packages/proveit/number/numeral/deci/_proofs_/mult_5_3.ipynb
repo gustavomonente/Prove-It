{
 "cells": [
  {
   "cell_type": "markdown",
   "metadata": {},
   "source": [
    "Proof of <a class=\"ProveItLink\" href=\"../../../../_context_.ipynb\">proveit</a>.<a class=\"ProveItLink\" href=\"../../../_context_.ipynb\">number</a>.<a class=\"ProveItLink\" href=\"../../_context_.ipynb\">numeral</a>.<a class=\"ProveItLink\" href=\"../_context_.ipynb\">deci</a>.<a class=\"ProveItLink\" href=\"../_theorems_.ipynb#mult_5_3\">mult_5_3</a> theorem\n",
    "========"
   ]
  },
  {
   "cell_type": "code",
   "execution_count": 1,
   "metadata": {},
   "outputs": [],
   "source": [
    "import proveit\n",
    "context = proveit.Context('..') # the theorem's context is in the parent directory"
   ]
  },
  {
   "cell_type": "code",
   "execution_count": 2,
   "metadata": {},
   "outputs": [
    {
     "name": "stdout",
     "output_type": "stream",
     "text": [
      "Beginning proof of mult_5_3\n",
      "Recorded 'presuming' information\n",
      "Presuming previous theorems (applied transitively).\n"
     ]
    },
    {
     "data": {
      "text/html": [
       "<strong id=\"mult_5_3\">mult_5_3:</strong> <a class=\"ProveItLink\" href=\"../__pv_it/377d62336a7934cfc91c76d2766b31ad4f42f9780/expr.ipynb\"><img src=\"data:image/png;base64,iVBORw0KGgoAAAANSUhEUgAAAGEAAAAUBAMAAABvx07iAAAAMFBMVEX///9UVFTMzMx2dna6uroQ\n",
       "EBCqqqqIiIgiIiJmZmYyMjJERETu7u6YmJjc3NwAAAC+aOQFAAAAAXRSTlMAQObYZgAAAX9JREFU\n",
       "KM9jYOC7wIAB8hjwgdMMDGsPaCbAuHzG1gkMjA+wKuW6wzQNSK1jYIj//xku+pKB7S8DzwIM1Wwx\n",
       "DAys//8bMDDwTmBgWCyOMLM+geEHA4M5uoaDhn+AdhjWAZkcQMUCSFKuDgy/GBiOYtjBC9TBCGa9\n",
       "YEDVwQByFQOXA24dlUAse30SktwJoFuZJ2DVcbdSgYFhL5C3h+E9wszHnQeA8mCvW60CgZVwHdwH\n",
       "+L4wMLSB+dwNQIIHooU9BOiyBmx2AMEOBoYQMIPzH5A4Dw3T0AMMTB9w6Jj/AKSDcQED8xdQsIFC\n",
       "4B0Dw/4EHDqkGBjsHUCuYl3AwPkHJvP/AEgHSwPCHwvhOqKAdhwA+ZwTaDw8kqMZGPoPQH2Obgcw\n",
       "ALsYGCyBSWkCw1V4pN8FxwenAboO9j+gFMQbx8DgAUpLhnPgMiwzZwNDmksBTQOn6K+5DHyTJQ9A\n",
       "UgkmOIEnsfNOwCZqji9/7MMihiW1o+YoDMD9AJ8ObLn2Hh71ACpIad3M3iVwAAAAAElFTkSuQmCC\n",
       "\" style=\"display:inline;vertical-align:middle;\" /></a><br>(see <a class=\"ProveItLink\" href=\"../__pv_it/377d62336a7934cfc91c76d2766b31ad4f42f9780/dependencies.ipynb\">dependencies</a>)<br>"
      ],
      "text/plain": [
       "mult_5_3: (5 * 3) = 15"
      ]
     },
     "execution_count": 2,
     "metadata": {},
     "output_type": "execute_result"
    }
   ],
   "source": [
    "%proving mult_5_3 presuming []"
   ]
  },
  {
   "cell_type": "code",
   "execution_count": null,
   "metadata": {},
   "outputs": [],
   "source": []
  }
 ],
 "metadata": {
  "kernelspec": {
   "display_name": "Python 3",
   "language": "python",
   "name": "python3"
  }
 },
 "nbformat": 4,
 "nbformat_minor": 0
}
