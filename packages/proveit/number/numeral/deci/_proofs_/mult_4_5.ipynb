{
 "cells": [
  {
   "cell_type": "markdown",
   "metadata": {},
   "source": [
    "Proof of <a class=\"ProveItLink\" href=\"../../../../_context_.ipynb\">proveit</a>.<a class=\"ProveItLink\" href=\"../../../_context_.ipynb\">number</a>.<a class=\"ProveItLink\" href=\"../../_context_.ipynb\">numeral</a>.<a class=\"ProveItLink\" href=\"../_context_.ipynb\">deci</a>.<a class=\"ProveItLink\" href=\"../_theorems_.ipynb#mult_4_5\">mult_4_5</a> theorem\n",
    "========"
   ]
  },
  {
   "cell_type": "code",
   "execution_count": 1,
   "metadata": {},
   "outputs": [],
   "source": [
    "import proveit\n",
    "context = proveit.Context('..') # the theorem's context is in the parent directory"
   ]
  },
  {
   "cell_type": "code",
   "execution_count": 2,
   "metadata": {},
   "outputs": [
    {
     "name": "stdout",
     "output_type": "stream",
     "text": [
      "Beginning proof of mult_4_5\n",
      "Recorded 'presuming' information\n",
      "Presuming previous theorems (applied transitively).\n"
     ]
    },
    {
     "data": {
      "text/html": [
       "<strong id=\"mult_4_5\">mult_4_5:</strong> <a class=\"ProveItLink\" href=\"../__pv_it/c5d8216a8b0022017e250967043ed6e373b3ef440/expr.ipynb\"><img src=\"data:image/png;base64,iVBORw0KGgoAAAANSUhEUgAAAGEAAAAUBAMAAABvx07iAAAAMFBMVEX///9UVFTMzMx2dna6uroQ\n",
       "EBCqqqqIiIgiIiJmZmYyMjJERETu7u6YmJjc3NwAAAC+aOQFAAAAAXRSTlMAQObYZgAAAZBJREFU\n",
       "KM99kz1Iw2AQht/+aGObhI4qSLM6NeIQWgc7uomiIAoSRxdbxy5SFwcHLQhKQFBHHRQ3oSgREQUF\n",
       "BXHzJ2MdBKUVdIqXpE3Kl5Abjtxdnu/u/X4A8RE+W0KY3Vlu0A2TL9FtRAz2L16rSYDyRA7HVmLV\n",
       "LXWZpgx+nyUuEWsiqfIbgFClODHh9RhaIa+wxC4wjWcgD3DWAJ8Hbili+2uWmAEyxilQ1FG3Ypkl\n",
       "kgWGONGRkb6BcRVlCgWjg3gtk7pY1b9Fm/d/RJRwTt838IiULjZpDVt6/siyQ6cQb4gNIFvCmjWU\n",
       "Q/At6AzorvhacGmRemRlTFFZcoiH1p7uGYh++QgNvDMVEVdwCC5Nrh8YLQQQCVJGyouqNdWCpv3s\n",
       "tCuz1ENHvOLpcDQuQjRqwLtuKwe8E6Sl1tvKOywqI2E4J5izE3Nu6QPCPNAjM0R9ONcLTuUngTEr\n",
       "HjEH2iVxq0+nE5TYEzTNX/DKstS6JT67DbnsQjUoq4S9j4uAnP+2+14UYykjjAh6tW8h//8DhsZn\n",
       "ojyTmscAAAAASUVORK5CYII=\n",
       "\" style=\"display:inline;vertical-align:middle;\" /></a><br>(see <a class=\"ProveItLink\" href=\"../__pv_it/c5d8216a8b0022017e250967043ed6e373b3ef440/dependencies.ipynb\">dependencies</a>)<br>"
      ],
      "text/plain": [
       "mult_4_5: (4 * 5) = 20"
      ]
     },
     "execution_count": 2,
     "metadata": {},
     "output_type": "execute_result"
    }
   ],
   "source": [
    "%proving mult_4_5 presuming []"
   ]
  },
  {
   "cell_type": "code",
   "execution_count": null,
   "metadata": {},
   "outputs": [],
   "source": []
  }
 ],
 "metadata": {
  "kernelspec": {
   "display_name": "Python 3",
   "language": "python",
   "name": "python3"
  }
 },
 "nbformat": 4,
 "nbformat_minor": 0
}
