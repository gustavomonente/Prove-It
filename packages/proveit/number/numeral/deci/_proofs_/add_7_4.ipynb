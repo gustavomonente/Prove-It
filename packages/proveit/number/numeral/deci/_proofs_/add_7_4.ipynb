{
 "cells": [
  {
   "cell_type": "markdown",
   "metadata": {},
   "source": [
    "Proof of <a class=\"ProveItLink\" href=\"../../../../_context_.ipynb\">proveit</a>.<a class=\"ProveItLink\" href=\"../../../_context_.ipynb\">number</a>.<a class=\"ProveItLink\" href=\"../../_context_.ipynb\">numeral</a>.<a class=\"ProveItLink\" href=\"../_context_.ipynb\">decimal</a>.<a class=\"ProveItLink\" href=\"../_theorems_.ipynb#add_7_4\">add_7_4</a> theorem\n",
    "========"
   ]
  },
  {
   "cell_type": "code",
   "execution_count": 1,
   "metadata": {},
   "outputs": [],
   "source": [
    "import proveit\n",
    "context = proveit.Context('..') # the theorem's context is in the parent directory"
   ]
  },
  {
   "cell_type": "code",
   "execution_count": 2,
   "metadata": {},
   "outputs": [
    {
     "name": "stdout",
     "output_type": "stream",
     "text": [
      "Beginning proof of add_7_4\n",
      "Recorded 'presuming' information\n",
      "Presuming previous theorems (applied transitively).\n"
     ]
    },
    {
     "data": {
      "text/html": [
       "<strong id=\"add_7_4\">add_7_4:</strong> <a class=\"ProveItLink\" href=\"../__pv_it/e9911dd2f7892e4e5239851a687201b87dcb5c9e0/expr.ipynb\"><img src=\"data:image/png;base64,iVBORw0KGgoAAAANSUhEUgAAAGsAAAAUBAMAAAB45d4rAAAAMFBMVEX///9UVFTMzMx2dna6uroQ\n",
       "EBCqqqqIiIgiIiJmZmYyMjJERETu7u6YmJjc3NwAAAC+aOQFAAAAAXRSTlMAQObYZgAAAS5JREFU\n",
       "OMtjYOC7wIAdsD1gwANOMzA1TjY2RhfWZGCQw6dtHQPv////P6ILNzIwnMJUnHoASvBOYOAEukYA\n",
       "IpwOk2cPZGBgLkDTxCMsfwBCMHA8YGAGqlBA0/Z2IVBVAIZt9w9AiRdgrjsDmjYDoDaGJbi1VYK5\n",
       "G9C08T4AabPErW0viMd8AU3bcQaQtltguVVgMAFVWxuId54BTZsBWFsGbttCQLwqsJjVqlWtq1aB\n",
       "1LMpgLXpE9DWjWbbYQZC2sCO/IimLXHmzK/TGRg8kPwmgBkkTD/R/cbAEAgLEuy2gQKZ7TOmtmgg\n",
       "noyhrf4AlAA5hC8MQ5v1f1kGhkXouibGr7wAIThQskc6ShJswJ0BeCcg884gczCSMjLYh1PmFP5s\n",
       "SrqBoPDAVSjw4ikUADJ/brqqp7xCAAAAAElFTkSuQmCC\n",
       "\" style=\"display:inline;vertical-align:middle;\" /></a><br>(see <a class=\"ProveItLink\" href=\"../__pv_it/e9911dd2f7892e4e5239851a687201b87dcb5c9e0/dependencies.ipynb\">dependencies</a>)<br>"
      ],
      "text/plain": [
       "add_7_4: (7 + 4) = 11"
      ]
     },
     "execution_count": 2,
     "metadata": {},
     "output_type": "execute_result"
    }
   ],
   "source": [
    "%proving add_7_4 presuming []"
   ]
  },
  {
   "cell_type": "code",
   "execution_count": null,
   "metadata": {},
   "outputs": [],
   "source": []
  }
 ],
 "metadata": {
  "kernelspec": {
   "display_name": "Python 3",
   "language": "python",
   "name": "python3"
  }
 },
 "nbformat": 4,
 "nbformat_minor": 0
}
