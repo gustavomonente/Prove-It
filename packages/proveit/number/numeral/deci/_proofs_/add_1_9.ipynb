{
 "cells": [
  {
   "cell_type": "markdown",
   "metadata": {},
   "source": [
    "Proof of <a class=\"ProveItLink\" href=\"../../../../_context_.ipynb\">proveit</a>.<a class=\"ProveItLink\" href=\"../../../_context_.ipynb\">number</a>.<a class=\"ProveItLink\" href=\"../../_context_.ipynb\">numeral</a>.<a class=\"ProveItLink\" href=\"../_context_.ipynb\">decimal</a>.<a class=\"ProveItLink\" href=\"../_theorems_.ipynb#add_1_9\">add_1_9</a> theorem\n",
    "========"
   ]
  },
  {
   "cell_type": "code",
   "execution_count": 1,
   "metadata": {},
   "outputs": [],
   "source": [
    "import proveit\n",
    "context = proveit.Context('..') # the theorem's context is in the parent directory"
   ]
  },
  {
   "cell_type": "code",
   "execution_count": 2,
   "metadata": {},
   "outputs": [
    {
     "name": "stdout",
     "output_type": "stream",
     "text": [
      "Beginning proof of add_1_9\n",
      "Recorded 'presuming' information\n",
      "Presuming previous theorems (applied transitively).\n"
     ]
    },
    {
     "data": {
      "text/html": [
       "<strong id=\"add_1_9\">add_1_9:</strong> <a class=\"ProveItLink\" href=\"../__pv_it/53d5a91466709af0ff9378c52df730e5604eeb2f0/expr.ipynb\"><img src=\"data:image/png;base64,iVBORw0KGgoAAAANSUhEUgAAAGwAAAAUBAMAAACaOcVSAAAAMFBMVEX////MzMxUVFR2dna6uroQ\n",
       "EBCqqqqIiIgiIiJmZmYyMjJERETu7u6YmJjc3NwAAACgK8IjAAAAAXRSTlMAQObYZgAAAWFJREFU\n",
       "OMtjYOC7wIAdsD1gwANOYxM8aazHwKCHXQNzrSGQXAfEqQdQZXhiGZ4eYDiFqQWkcBnDiQcMvBMY\n",
       "eJT1YdrSIRRTAAPTBAbmAjRNYIW8AQzMCxg4QD64j6aNfwED8wcGngAM24AKuRUY2P4wvGDAou38\n",
       "Bgb2fwwMS7Bp41dgYPnGUIlNGyvQti8MDJbYtJ2fwMDynWEvNm1AF3L9ZWC4BWavAoMJMG3vDRgY\n",
       "vzO0YdPGsJ0h+RsDQwY2295PYGD8zBCC0Ga1alXrqlWLwFF9XfgjA4M8bkeGYLUNGAd/cGgDBgnb\n",
       "NxyOZGDgUmBg8EDymwI8AjYw8P7BHiS8MQzyD6BBgm4bJLrBgVyPpo19Dc9aIDUZQxtIYRvDUQGw\n",
       "QybFr7yA6kjjmQ5AciG6LrDCw+WKDJDEBQfpKEmwAXe+4Z2AzDuDkkMK8OS3fThlTpGcTQkYCAQ4\n",
       "CwVePIUCALPsfhMIlAOBAAAAAElFTkSuQmCC\n",
       "\" style=\"display:inline;vertical-align:middle;\" /></a><br>(see <a class=\"ProveItLink\" href=\"../__pv_it/53d5a91466709af0ff9378c52df730e5604eeb2f0/dependencies.ipynb\">dependencies</a>)<br>"
      ],
      "text/plain": [
       "add_1_9: (1 + 9) = 10"
      ]
     },
     "execution_count": 2,
     "metadata": {},
     "output_type": "execute_result"
    }
   ],
   "source": [
    "%proving add_1_9 presuming []"
   ]
  },
  {
   "cell_type": "code",
   "execution_count": null,
   "metadata": {},
   "outputs": [],
   "source": []
  }
 ],
 "metadata": {
  "kernelspec": {
   "display_name": "Python 3",
   "language": "python",
   "name": "python3"
  }
 },
 "nbformat": 4,
 "nbformat_minor": 0
}
