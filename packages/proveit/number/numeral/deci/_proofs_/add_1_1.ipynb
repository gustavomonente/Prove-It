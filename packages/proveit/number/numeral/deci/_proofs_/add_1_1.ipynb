{
 "cells": [
  {
   "cell_type": "markdown",
   "metadata": {},
   "source": [
    "Proof of <a class=\"ProveItLink\" href=\"../../../../_context_.ipynb\">proveit</a>.<a class=\"ProveItLink\" href=\"../../../_context_.ipynb\">number</a>.<a class=\"ProveItLink\" href=\"../../_context_.ipynb\">numeral</a>.<a class=\"ProveItLink\" href=\"../_context_.ipynb\">decimal</a>.<a class=\"ProveItLink\" href=\"../_theorems_.ipynb#add_1_1\">add_1_1</a> theorem\n",
    "========"
   ]
  },
  {
   "cell_type": "code",
   "execution_count": 1,
   "metadata": {},
   "outputs": [],
   "source": [
    "import proveit\n",
    "context = proveit.Context('..') # the theorem's context is in the parent directory"
   ]
  },
  {
   "cell_type": "code",
   "execution_count": 2,
   "metadata": {},
   "outputs": [
    {
     "name": "stdout",
     "output_type": "stream",
     "text": [
      "Beginning proof of add_1_1\n",
      "Recorded 'presuming' information\n",
      "Presuming previous theorems (applied transitively).\n"
     ]
    },
    {
     "data": {
      "text/html": [
       "<strong id=\"add_1_1\">add_1_1:</strong> <a class=\"ProveItLink\" href=\"../__pv_it/7dc538239d56604f657f3b9a5934abd18d6c4d6e0/expr.ipynb\"><img src=\"data:image/png;base64,iVBORw0KGgoAAAANSUhEUgAAAGEAAAAUBAMAAABvx07iAAAAMFBMVEX////MzMxUVFR2dna6uroQ\n",
       "EBCqqqqIiIgiIiJmZmYyMjJERETu7u6YmJjc3NwAAACgK8IjAAAAAXRSTlMAQObYZgAAAR1JREFU\n",
       "KM9jYOC7wIAd5OEQZziNS4LpAboIz8zdAkBqHRCnHkCTY4sByi9A13GIgfkLAwPvBAYeZX2YjnSo\n",
       "lNEfIGmOrmMOA0MoAwMHyO77aDoYeEE6jqLriGBg0H/A8IIBpw4uBzQd6w8w6AswVOLWwTwBMzj6\n",
       "DzDsxa2DF+x15lVgANHN8pmBoQ23DrYGDCs4FBgYQhA6rFatal21ahFcB+MHDB0zGVB0oNuBqYMd\n",
       "5DY8rmJpQPKHAoidycD3gLDPkQCjAQP7AwZLELMeXQc7SAenAZqOF8aWGgwMHkDWpPiVF1B0cKr+\n",
       "mguMQQH0GPz//wc0lcBBOjLnBPY0zYsSsWeQOeY4ssE+XPkDM7UTylHcD3BI4My197ALAwB2n2Bd\n",
       "eOkMSgAAAABJRU5ErkJggg==\n",
       "\" style=\"display:inline;vertical-align:middle;\" /></a><br>(see <a class=\"ProveItLink\" href=\"../__pv_it/7dc538239d56604f657f3b9a5934abd18d6c4d6e0/dependencies.ipynb\">dependencies</a>)<br>"
      ],
      "text/plain": [
       "add_1_1: (1 + 1) = 2"
      ]
     },
     "execution_count": 2,
     "metadata": {},
     "output_type": "execute_result"
    }
   ],
   "source": [
    "%proving add_1_1 presuming []"
   ]
  },
  {
   "cell_type": "code",
   "execution_count": null,
   "metadata": {},
   "outputs": [],
   "source": []
  }
 ],
 "metadata": {
  "kernelspec": {
   "display_name": "Python 3",
   "language": "python",
   "name": "python3"
  }
 },
 "nbformat": 4,
 "nbformat_minor": 0
}
