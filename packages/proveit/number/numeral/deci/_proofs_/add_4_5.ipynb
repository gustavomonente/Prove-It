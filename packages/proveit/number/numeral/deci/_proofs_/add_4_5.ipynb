{
 "cells": [
  {
   "cell_type": "markdown",
   "metadata": {},
   "source": [
    "Proof of <a class=\"ProveItLink\" href=\"../../../../_context_.ipynb\">proveit</a>.<a class=\"ProveItLink\" href=\"../../../_context_.ipynb\">number</a>.<a class=\"ProveItLink\" href=\"../../_context_.ipynb\">numeral</a>.<a class=\"ProveItLink\" href=\"../_context_.ipynb\">decimal</a>.<a class=\"ProveItLink\" href=\"../_theorems_.ipynb#add_4_5\">add_4_5</a> theorem\n",
    "========"
   ]
  },
  {
   "cell_type": "code",
   "execution_count": 1,
   "metadata": {},
   "outputs": [],
   "source": [
    "import proveit\n",
    "context = proveit.Context('..') # the theorem's context is in the parent directory"
   ]
  },
  {
   "cell_type": "code",
   "execution_count": 2,
   "metadata": {},
   "outputs": [
    {
     "name": "stdout",
     "output_type": "stream",
     "text": [
      "Beginning proof of add_4_5\n",
      "Recorded 'presuming' information\n",
      "Presuming previous theorems (applied transitively).\n"
     ]
    },
    {
     "data": {
      "text/html": [
       "<strong id=\"add_4_5\">add_4_5:</strong> <a class=\"ProveItLink\" href=\"../__pv_it/9756ead953d4cd260752ed65d2b03219569f370e0/expr.ipynb\"><img src=\"data:image/png;base64,iVBORw0KGgoAAAANSUhEUgAAAGEAAAAUBAMAAABvx07iAAAAMFBMVEX///9UVFTMzMx2dna6uroQ\n",
       "EBCqqqqIiIgiIiJmZmYyMjJERETu7u6YmJjc3NwAAAC+aOQFAAAAAXRSTlMAQObYZgAAAWdJREFU\n",
       "KM91kyFMw1AQhv+1MGBdGwxiJIRaXKeWgegklgQFhICaghDcEDAECNSSEcjUwFYMixlpQggEEDM4\n",
       "IJUgSBBgIKHcawvpu7Unmv/d9Xt3l3cHGD0k23qKH3fiMyX7co/KETIe/zXfLApfR+hdOTTo+xby\n",
       "J5y46hlLgN4gOTQX+apRjuI2fUucGAMKwLDI83YqE5nwSk58ATbwIqSVSOQqrI1vYMdDjaTuceKp\n",
       "ZgJqg+VYoBwVdEldgxGaa3zQRUHrqhOYoKmksx72RVGcIDsHsnWWQ9vI2iuYp4gZEtOOs+c4Edz2\n",
       "oLzz1tc2bVMQl+A5xoOC+wlg0hVVrbZan8cSQS22XQzUY32MhhG6uhsI9oLU5sFf5zF7cJUfoBzo\n",
       "RZl4hb4MjFiM2HJvaWxnhZzxJyTCaBZcekGTEWr5ENGU/Fs1frhJHnZdetj7+KGUsh8XaYvTP+3x\n",
       "jUoyzUsJpG7tc7L7F4TlXdI9CWbvAAAAAElFTkSuQmCC\n",
       "\" style=\"display:inline;vertical-align:middle;\" /></a><br>(see <a class=\"ProveItLink\" href=\"../__pv_it/9756ead953d4cd260752ed65d2b03219569f370e0/dependencies.ipynb\">dependencies</a>)<br>"
      ],
      "text/plain": [
       "add_4_5: (4 + 5) = 9"
      ]
     },
     "execution_count": 2,
     "metadata": {},
     "output_type": "execute_result"
    }
   ],
   "source": [
    "%proving add_4_5 presuming []"
   ]
  },
  {
   "cell_type": "code",
   "execution_count": null,
   "metadata": {},
   "outputs": [],
   "source": []
  }
 ],
 "metadata": {
  "kernelspec": {
   "display_name": "Python 3",
   "language": "python",
   "name": "python3"
  }
 },
 "nbformat": 4,
 "nbformat_minor": 0
}
