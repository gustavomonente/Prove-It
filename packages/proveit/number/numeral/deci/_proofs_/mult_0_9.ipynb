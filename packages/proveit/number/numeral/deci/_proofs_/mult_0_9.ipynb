{
 "cells": [
  {
   "cell_type": "markdown",
   "metadata": {},
   "source": [
    "Proof of <a class=\"ProveItLink\" href=\"../../../../_context_.ipynb\">proveit</a>.<a class=\"ProveItLink\" href=\"../../../_context_.ipynb\">number</a>.<a class=\"ProveItLink\" href=\"../../_context_.ipynb\">numeral</a>.<a class=\"ProveItLink\" href=\"../_context_.ipynb\">deci</a>.<a class=\"ProveItLink\" href=\"../_theorems_.ipynb#mult_0_9\">mult_0_9</a> theorem\n",
    "========"
   ]
  },
  {
   "cell_type": "code",
   "execution_count": 1,
   "metadata": {},
   "outputs": [],
   "source": [
    "import proveit\n",
    "context = proveit.Context('..') # the theorem's context is in the parent directory"
   ]
  },
  {
   "cell_type": "code",
   "execution_count": 2,
   "metadata": {},
   "outputs": [
    {
     "name": "stdout",
     "output_type": "stream",
     "text": [
      "Beginning proof of mult_0_9\n",
      "Recorded 'presuming' information\n",
      "Presuming previous theorems (applied transitively).\n"
     ]
    },
    {
     "data": {
      "text/html": [
       "<strong id=\"mult_0_9\">mult_0_9:</strong> <a class=\"ProveItLink\" href=\"../__pv_it/0d31d7c2e0cb2c9d52aa806b0003db97e6dc5df50/expr.ipynb\"><img src=\"data:image/png;base64,iVBORw0KGgoAAAANSUhEUgAAAFcAAAAUBAMAAAAKKrydAAAAMFBMVEX///9UVFTMzMx2dna6uroQ\n",
       "EBCqqqqIiIgiIiJmZmYyMjJERETu7u6YmJjc3NwAAAC+aOQFAAAAAXRSTlMAQObYZgAAAWxJREFU\n",
       "KM91k71Kw2AUhh/bUmrzYxEcnMwdtLqUdmlHN0U6iUNuQFtdREHs1FECegF2EXTwZxYlIIWiQwvS\n",
       "VTO6qRQUtYjfV01qk/QM4eScJ4f35ZyA3iYQa4yIO4juzHmv6v6sw5gTwLL3hniewhFNr9to6yuo\n",
       "h342aap7oFloi0S97hRMizl+uAN5SDgoKeI9t/oJBTHfD19A2eYJJlLE3lzJX7DrkCz64FdYMNmC\n",
       "lkXs3a0ui8lFotYwq34IuMIVPGeIeLDQcNZG63vIn8g4FpnehXSFmoAtIl35uQSUSrxgEq8OT9bF\n",
       "5HSG0kBGqz9udaNgEHkJlVHqG4xLg4nUb2fGDsDSYNmUMpRztN6/Rh1i1YHmukwv4dGWBoeW0rEj\n",
       "3/wZDCwlJ7IaDcOtbtu34rLGMz44YapLMC+ym81JrxrNHchTMHywml03+usOiWb4hWpWWDU74p6v\n",
       "Q2rBEx0cfyAUZwQc9ls9hKM/qbdhBVvETM0AAAAASUVORK5CYII=\n",
       "\" style=\"display:inline;vertical-align:middle;\" /></a><br>(see <a class=\"ProveItLink\" href=\"../__pv_it/0d31d7c2e0cb2c9d52aa806b0003db97e6dc5df50/dependencies.ipynb\">dependencies</a>)<br>"
      ],
      "text/plain": [
       "mult_0_9: (0 * 9) = 0"
      ]
     },
     "execution_count": 2,
     "metadata": {},
     "output_type": "execute_result"
    }
   ],
   "source": [
    "%proving mult_0_9 presuming []"
   ]
  },
  {
   "cell_type": "code",
   "execution_count": null,
   "metadata": {},
   "outputs": [],
   "source": []
  }
 ],
 "metadata": {
  "kernelspec": {
   "display_name": "Python 3",
   "language": "python",
   "name": "python3"
  }
 },
 "nbformat": 4,
 "nbformat_minor": 0
}
