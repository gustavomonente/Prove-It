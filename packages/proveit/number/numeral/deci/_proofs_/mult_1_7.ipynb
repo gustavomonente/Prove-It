{
 "cells": [
  {
   "cell_type": "markdown",
   "metadata": {},
   "source": [
    "Proof of <a class=\"ProveItLink\" href=\"../../../../_context_.ipynb\">proveit</a>.<a class=\"ProveItLink\" href=\"../../../_context_.ipynb\">number</a>.<a class=\"ProveItLink\" href=\"../../_context_.ipynb\">numeral</a>.<a class=\"ProveItLink\" href=\"../_context_.ipynb\">deci</a>.<a class=\"ProveItLink\" href=\"../_theorems_.ipynb#mult_1_7\">mult_1_7</a> theorem\n",
    "========"
   ]
  },
  {
   "cell_type": "code",
   "execution_count": 1,
   "metadata": {},
   "outputs": [],
   "source": [
    "import proveit\n",
    "context = proveit.Context('..') # the theorem's context is in the parent directory"
   ]
  },
  {
   "cell_type": "code",
   "execution_count": 2,
   "metadata": {},
   "outputs": [
    {
     "name": "stdout",
     "output_type": "stream",
     "text": [
      "Beginning proof of mult_1_7\n",
      "Recorded 'presuming' information\n",
      "Presuming previous theorems (applied transitively).\n"
     ]
    },
    {
     "data": {
      "text/html": [
       "<strong id=\"mult_1_7\">mult_1_7:</strong> <a class=\"ProveItLink\" href=\"../__pv_it/110135531c4fddeac1c4dcad6c2e1393cfaee9820/expr.ipynb\"><img src=\"data:image/png;base64,iVBORw0KGgoAAAANSUhEUgAAAFgAAAAUBAMAAAD7IecQAAAAMFBMVEX////MzMxUVFR2dna6uroQ\n",
       "EBCqqqqIiIgiIiJmZmYyMjJERETu7u6YmJjc3NwAAACgK8IjAAAAAXRSTlMAQObYZgAAAQ9JREFU\n",
       "KM9jYOC7wIAB8hhwgNOoXAlNY2MDpgfoqsDCDAzrgMzUA3DR+////1fgWYCuGCzMwDuBgUdZH6F4\n",
       "HgMDEwODObpiiDAHyMb7CMVAuwwZGI6iK4YIv2BAVczAwFLAwMDlgOE3kHAlhmJuIGaegKEYJLwX\n",
       "Q7EtEPOCfWi1CgRWIoTbEIp5wII8H4AEWwO6wWDhEITi82Dj2EEk4wd0xWBhJMUcCmByA1bFYOE2\n",
       "dDfzg7SwNCDcvAghjOFB+QlwDyIDsLAliFWPpDgfGP4MnAboisHCHkA8KX4lIuk9TQASXALoisHC\n",
       "HA+wJcUT2FMo7wRsouY40vM+LGKYSRR74oekgwc4FGPLVvewKwUAuXFOnr1Bk1IAAAAASUVORK5C\n",
       "YII=\n",
       "\" style=\"display:inline;vertical-align:middle;\" /></a><br>(see <a class=\"ProveItLink\" href=\"../__pv_it/110135531c4fddeac1c4dcad6c2e1393cfaee9820/dependencies.ipynb\">dependencies</a>)<br>"
      ],
      "text/plain": [
       "mult_1_7: (1 * 7) = 7"
      ]
     },
     "execution_count": 2,
     "metadata": {},
     "output_type": "execute_result"
    }
   ],
   "source": [
    "%proving mult_1_7 presuming []"
   ]
  },
  {
   "cell_type": "code",
   "execution_count": null,
   "metadata": {},
   "outputs": [],
   "source": []
  }
 ],
 "metadata": {
  "kernelspec": {
   "display_name": "Python 3",
   "language": "python",
   "name": "python3"
  }
 },
 "nbformat": 4,
 "nbformat_minor": 0
}
