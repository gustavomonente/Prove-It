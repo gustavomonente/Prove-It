{
 "cells": [
  {
   "cell_type": "markdown",
   "metadata": {},
   "source": [
    "Proof of <a class=\"ProveItLink\" href=\"../../../../_context_.ipynb\">proveit</a>.<a class=\"ProveItLink\" href=\"../../../_context_.ipynb\">number</a>.<a class=\"ProveItLink\" href=\"../../_context_.ipynb\">numeral</a>.<a class=\"ProveItLink\" href=\"../_context_.ipynb\">deci</a>.<a class=\"ProveItLink\" href=\"../_theorems_.ipynb#mult_2_1\">mult_2_1</a> theorem\n",
    "========"
   ]
  },
  {
   "cell_type": "code",
   "execution_count": 1,
   "metadata": {},
   "outputs": [],
   "source": [
    "import proveit\n",
    "context = proveit.Context('..') # the theorem's context is in the parent directory"
   ]
  },
  {
   "cell_type": "code",
   "execution_count": 2,
   "metadata": {},
   "outputs": [
    {
     "name": "stdout",
     "output_type": "stream",
     "text": [
      "Beginning proof of mult_2_1\n",
      "Recorded 'presuming' information\n",
      "Presuming previous theorems (applied transitively).\n"
     ]
    },
    {
     "data": {
      "text/html": [
       "<strong id=\"mult_2_1\">mult_2_1:</strong> <a class=\"ProveItLink\" href=\"../__pv_it/fb70665ccb7d13aee6c29b23cf4d89fb08c500060/expr.ipynb\"><img src=\"data:image/png;base64,iVBORw0KGgoAAAANSUhEUgAAAFcAAAAUBAMAAAAKKrydAAAAMFBMVEX///9UVFTMzMx2dna6uroQ\n",
       "EBCqqqqIiIgiIiJmZmYyMjJERETu7u6YmJjc3NwAAAC+aOQFAAAAAXRSTlMAQObYZgAAAUFJREFU\n",
       "KM91k7tKxEAUhv/sJZd1E7YR7DbgC0S2WNbGLe20ULDwBWzst5GIYGssFxXWUgsFW1FiISgW+gQy\n",
       "5VYiaiFL2DEzysS55C8mhz9fZs6ZcwIEL9C0jRI9AY9HV7JnEZVqDq/D/HGBZgtLfWHbm/mrkQrf\n",
       "ofoF+Am8FPVV4S5k+dpV4WNgHXAJ6jGsqbB9Bt+r8AbQJhgDjQzWhww3+gp8maIdYsBjN5PhaqLf\n",
       "xEGKGx6sRDLs8woXz5nOfv3aJ7DPo11+PQVsx9rGbgtYY4HHT30eCbjyrsFD/MED8W0p7LD9WBp2\n",
       "gjc551pc5HzK7S0EhBc4D+yYCvynSgSHoAcEe53DoiCHwV6kwONObw5YzjtAKRWwNzs5ya1QbQql\n",
       "37zdBj2YJ9RPTG63ZJ5vDZ4+osXwa5ohJbDpt3o1oz8oalU6hrCFQwAAAABJRU5ErkJggg==\n",
       "\" style=\"display:inline;vertical-align:middle;\" /></a><br>(see <a class=\"ProveItLink\" href=\"../__pv_it/fb70665ccb7d13aee6c29b23cf4d89fb08c500060/dependencies.ipynb\">dependencies</a>)<br>"
      ],
      "text/plain": [
       "mult_2_1: (2 * 1) = 2"
      ]
     },
     "execution_count": 2,
     "metadata": {},
     "output_type": "execute_result"
    }
   ],
   "source": [
    "%proving mult_2_1 presuming []"
   ]
  },
  {
   "cell_type": "code",
   "execution_count": null,
   "metadata": {},
   "outputs": [],
   "source": []
  }
 ],
 "metadata": {
  "kernelspec": {
   "display_name": "Python 3",
   "language": "python",
   "name": "python3"
  }
 },
 "nbformat": 4,
 "nbformat_minor": 0
}
