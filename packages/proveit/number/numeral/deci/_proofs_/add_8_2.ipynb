{
 "cells": [
  {
   "cell_type": "markdown",
   "metadata": {},
   "source": [
    "Proof of <a class=\"ProveItLink\" href=\"../../../../_context_.ipynb\">proveit</a>.<a class=\"ProveItLink\" href=\"../../../_context_.ipynb\">number</a>.<a class=\"ProveItLink\" href=\"../../_context_.ipynb\">numeral</a>.<a class=\"ProveItLink\" href=\"../_context_.ipynb\">decimal</a>.<a class=\"ProveItLink\" href=\"../_theorems_.ipynb#add_8_2\">add_8_2</a> theorem\n",
    "========"
   ]
  },
  {
   "cell_type": "code",
   "execution_count": 1,
   "metadata": {},
   "outputs": [],
   "source": [
    "import proveit\n",
    "context = proveit.Context('..') # the theorem's context is in the parent directory"
   ]
  },
  {
   "cell_type": "code",
   "execution_count": 2,
   "metadata": {},
   "outputs": [
    {
     "name": "stdout",
     "output_type": "stream",
     "text": [
      "Beginning proof of add_8_2\n",
      "Recorded 'presuming' information\n",
      "Presuming previous theorems (applied transitively).\n"
     ]
    },
    {
     "data": {
      "text/html": [
       "<strong id=\"add_8_2\">add_8_2:</strong> <a class=\"ProveItLink\" href=\"../__pv_it/ce0d116cd305ee2ae0a9a47820241c7d49b1e3360/expr.ipynb\"><img src=\"data:image/png;base64,iVBORw0KGgoAAAANSUhEUgAAAGwAAAAUBAMAAACaOcVSAAAAMFBMVEX////MzMxUVFR2dna6uroQ\n",
       "EBCqqqqIiIgiIiJmZmYyMjJERETu7u6YmJjc3NwAAACgK8IjAAAAAXRSTlMAQObYZgAAAZRJREFU\n",
       "OMuVlD1LA0EQht/kPojxLor+AE+sNRFB0MaU6UxhKWgj0S5gIRaaoJj6SNLZqIjgEST+AMOBiBqF\n",
       "XG1jSiuDiElh9JzLqWTvI+LA3TK7PDuz784sEDHgbWIdPewOuF4vOiZv98+BCW+A25qk/xmgIrjM\n",
       "rEgK5uKoupEVHTjBTR2yCtGAdGBPp+yhT4eQBJd2QNJYVIdMCwcI1cGVIWUZTMgi+Akp6Yr2qKNf\n",
       "gdjGE8C/65zBYOE2gi/AsRc2oIBvYpOc6Mc0GIws1AZmvLCaCr6FC0sbs+TC5mPAQ0c4rWPqD9aI\n",
       "IdBCjpy1xFvcie3Qt+oVraEi8IoFQFaQWaS5WU3b07QjW0tr9xH/JAkTdASajmjWkb0xkkRsWknW\n",
       "yB9nMVHFM5DoOpvyewFlyG1LEoGKr8Jiw8D2tyTOaPZ1k8h8CXKawSK7U3kqgIILy1Bx5XA12Elk\n",
       "qFBkLyBsmiZhh04qv3Rq4HJjFFZxdVmKKcGsf9/Iard3z3RIuke/VXxXqn+06b83tFTzexTkHo/C\n",
       "F/Fke3avUqrUAAAAAElFTkSuQmCC\n",
       "\" style=\"display:inline;vertical-align:middle;\" /></a><br>(see <a class=\"ProveItLink\" href=\"../__pv_it/ce0d116cd305ee2ae0a9a47820241c7d49b1e3360/dependencies.ipynb\">dependencies</a>)<br>"
      ],
      "text/plain": [
       "add_8_2: (8 + 2) = 10"
      ]
     },
     "execution_count": 2,
     "metadata": {},
     "output_type": "execute_result"
    }
   ],
   "source": [
    "%proving add_8_2 presuming []"
   ]
  },
  {
   "cell_type": "code",
   "execution_count": null,
   "metadata": {},
   "outputs": [],
   "source": []
  }
 ],
 "metadata": {
  "kernelspec": {
   "display_name": "Python 3",
   "language": "python",
   "name": "python3"
  }
 },
 "nbformat": 4,
 "nbformat_minor": 0
}
