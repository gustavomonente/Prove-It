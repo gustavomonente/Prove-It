{
 "cells": [
  {
   "cell_type": "markdown",
   "metadata": {},
   "source": [
    "Proof of <a class=\"ProveItLink\" href=\"../../../../_context_.ipynb\">proveit</a>.<a class=\"ProveItLink\" href=\"../../../_context_.ipynb\">number</a>.<a class=\"ProveItLink\" href=\"../../_context_.ipynb\">numeral</a>.<a class=\"ProveItLink\" href=\"../_context_.ipynb\">deci</a>.<a class=\"ProveItLink\" href=\"../_theorems_.ipynb#mult_1_3\">mult_1_3</a> theorem\n",
    "========"
   ]
  },
  {
   "cell_type": "code",
   "execution_count": 1,
   "metadata": {},
   "outputs": [],
   "source": [
    "import proveit\n",
    "context = proveit.Context('..') # the theorem's context is in the parent directory"
   ]
  },
  {
   "cell_type": "code",
   "execution_count": 2,
   "metadata": {},
   "outputs": [
    {
     "name": "stdout",
     "output_type": "stream",
     "text": [
      "Beginning proof of mult_1_3\n",
      "Recorded 'presuming' information\n",
      "Presuming previous theorems (applied transitively).\n"
     ]
    },
    {
     "data": {
      "text/html": [
       "<strong id=\"mult_1_3\">mult_1_3:</strong> <a class=\"ProveItLink\" href=\"../__pv_it/a4b6f168ce76ce558223aed53298349a5ff16d670/expr.ipynb\"><img src=\"data:image/png;base64,iVBORw0KGgoAAAANSUhEUgAAAFcAAAAUBAMAAAAKKrydAAAAMFBMVEX////MzMxUVFR2dna6uroQ\n",
       "EBCqqqqIiIgiIiJmZmYyMjJERETu7u6YmJjc3NwAAACgK8IjAAAAAXRSTlMAQObYZgAAARlJREFU\n",
       "KM9jYOC7wIAB8hhwgNOoXD5j6wQGpgfoqsDCDAzrgDj1AFz0JQPbXwaeBeiKwcIMvBMYeJT1EYrr\n",
       "Exh+MDCYoyuGCHOAbLyPUOzqwPCLgeEoumKI8AsGVMUMYPu4HDD8BhKuxFB8woCBgXkChmKQ8F50\n",
       "xY87gRxesA+tVoHASoRwG0IxD0Q1ewjQzgYMk0HCIQjF56EBFnqAgfEDZoQAhZEUcygAiXcMDPsT\n",
       "MBVDhNvQ3Pz/AEiUpQHh5kUIYXQPRjMw9B+AehAJQIQtwfGDUHwXHKCcBmiKIcIeQNak+JXwpMcy\n",
       "czYwQrgE0BRDhDkeYEuKJ7CnUN4J2ETNcaTnfVjEMJMo9sQPBtwPcCjGlq3uYVcKALtLYoiwRZBj\n",
       "AAAAAElFTkSuQmCC\n",
       "\" style=\"display:inline;vertical-align:middle;\" /></a><br>(see <a class=\"ProveItLink\" href=\"../__pv_it/a4b6f168ce76ce558223aed53298349a5ff16d670/dependencies.ipynb\">dependencies</a>)<br>"
      ],
      "text/plain": [
       "mult_1_3: (1 * 3) = 3"
      ]
     },
     "execution_count": 2,
     "metadata": {},
     "output_type": "execute_result"
    }
   ],
   "source": [
    "%proving mult_1_3 presuming []"
   ]
  },
  {
   "cell_type": "code",
   "execution_count": null,
   "metadata": {},
   "outputs": [],
   "source": []
  }
 ],
 "metadata": {
  "kernelspec": {
   "display_name": "Python 3",
   "language": "python",
   "name": "python3"
  }
 },
 "nbformat": 4,
 "nbformat_minor": 0
}
