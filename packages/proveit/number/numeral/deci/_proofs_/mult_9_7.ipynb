{
 "cells": [
  {
   "cell_type": "markdown",
   "metadata": {},
   "source": [
    "Proof of <a class=\"ProveItLink\" href=\"../../../../_context_.ipynb\">proveit</a>.<a class=\"ProveItLink\" href=\"../../../_context_.ipynb\">number</a>.<a class=\"ProveItLink\" href=\"../../_context_.ipynb\">numeral</a>.<a class=\"ProveItLink\" href=\"../_context_.ipynb\">deci</a>.<a class=\"ProveItLink\" href=\"../_theorems_.ipynb#mult_9_7\">mult_9_7</a> theorem\n",
    "========"
   ]
  },
  {
   "cell_type": "code",
   "execution_count": 1,
   "metadata": {},
   "outputs": [],
   "source": [
    "import proveit\n",
    "context = proveit.Context('..') # the theorem's context is in the parent directory"
   ]
  },
  {
   "cell_type": "code",
   "execution_count": 2,
   "metadata": {},
   "outputs": [
    {
     "name": "stdout",
     "output_type": "stream",
     "text": [
      "Beginning proof of mult_9_7\n",
      "Recorded 'presuming' information\n",
      "Presuming previous theorems (applied transitively).\n"
     ]
    },
    {
     "data": {
      "text/html": [
       "<strong id=\"mult_9_7\">mult_9_7:</strong> <a class=\"ProveItLink\" href=\"../__pv_it/f405780d0c9a62e67730ab9729f0acd98a2bfb3c0/expr.ipynb\"><img src=\"data:image/png;base64,iVBORw0KGgoAAAANSUhEUgAAAGEAAAAUBAMAAABvx07iAAAAMFBMVEX////MzMxUVFR2dna6uroQ\n",
       "EBCqqqqIiIgiIiJmZmYyMjJERETu7u6YmJjc3NwAAACgK8IjAAAAAXRSTlMAQObYZgAAAaFJREFU\n",
       "KM99UzFIQlEUPX1NTb8puLTp0tAS2h/EInAJ2mqwlgqE9moLp5yCWvqLgwUh0VJUuERDVH8JjAbd\n",
       "mkohhFrCICIk+937Rb88P//Ce+++d95579z77gOGK+izNdjZI/CgjHenI2OKEpVqfdscmzEMK1Np\n",
       "ci8gr6CudZCqrusRuSAS5GPs4x2uFuBXIc1DUjvQISABcZHhU3GNrTR+AE8NgQIcjQ4UBWLAvciY\n",
       "Y50zSTSBN6BchPvPBJ0bgDcpMC7bA6vKAIN0x1ePAI5TFRjNUIYPKZGEG7Akb8sEp6n5jdAnT9lO\n",
       "OPBmBdvA6w5liEZcYfWbl9tZ4ZBcWSFVOpCj3e4UkGL8KfRJQ9k42M39QENQRTmqsqwFzWBQQn+p\n",
       "80TY9RStGLvEqHwAd2lDFeUm0sUC7DqzZhxH7I7yHbrGDIrcv4ywWRZhtRt5j4U15LAE7GlIkPIz\n",
       "+dzE1imBGIoKDCkqL+LZeI9Zmir5ngerc7F5g+KjJyaCcOYPkkaVWFjJptj9qtVq3O5/3Fqs9Ve7\n",
       "8KP6zFezY1j92heb/f/xRWypXa8kHAAAAABJRU5ErkJggg==\n",
       "\" style=\"display:inline;vertical-align:middle;\" /></a><br>(see <a class=\"ProveItLink\" href=\"../__pv_it/f405780d0c9a62e67730ab9729f0acd98a2bfb3c0/dependencies.ipynb\">dependencies</a>)<br>"
      ],
      "text/plain": [
       "mult_9_7: (9 * 7) = 63"
      ]
     },
     "execution_count": 2,
     "metadata": {},
     "output_type": "execute_result"
    }
   ],
   "source": [
    "%proving mult_9_7 presuming []"
   ]
  },
  {
   "cell_type": "code",
   "execution_count": null,
   "metadata": {},
   "outputs": [],
   "source": []
  }
 ],
 "metadata": {
  "kernelspec": {
   "display_name": "Python 3",
   "language": "python",
   "name": "python3"
  }
 },
 "nbformat": 4,
 "nbformat_minor": 0
}
