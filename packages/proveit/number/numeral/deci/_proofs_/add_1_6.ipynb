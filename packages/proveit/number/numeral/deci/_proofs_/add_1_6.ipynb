{
 "cells": [
  {
   "cell_type": "markdown",
   "metadata": {},
   "source": [
    "Proof of <a class=\"ProveItLink\" href=\"../../../../_context_.ipynb\">proveit</a>.<a class=\"ProveItLink\" href=\"../../../_context_.ipynb\">number</a>.<a class=\"ProveItLink\" href=\"../../_context_.ipynb\">numeral</a>.<a class=\"ProveItLink\" href=\"../_context_.ipynb\">decimal</a>.<a class=\"ProveItLink\" href=\"../_theorems_.ipynb#add_1_6\">add_1_6</a> theorem\n",
    "========"
   ]
  },
  {
   "cell_type": "code",
   "execution_count": 1,
   "metadata": {},
   "outputs": [],
   "source": [
    "import proveit\n",
    "context = proveit.Context('..') # the theorem's context is in the parent directory"
   ]
  },
  {
   "cell_type": "code",
   "execution_count": 2,
   "metadata": {},
   "outputs": [
    {
     "name": "stdout",
     "output_type": "stream",
     "text": [
      "Beginning proof of add_1_6\n",
      "Recorded 'presuming' information\n",
      "Presuming previous theorems (applied transitively).\n"
     ]
    },
    {
     "data": {
      "text/html": [
       "<strong id=\"add_1_6\">add_1_6:</strong> <a class=\"ProveItLink\" href=\"../__pv_it/33c884a9d49e3b554a276ad6bb5495e9581eda400/expr.ipynb\"><img src=\"data:image/png;base64,iVBORw0KGgoAAAANSUhEUgAAAGIAAAAUBAMAAACE8PXhAAAAMFBMVEX////MzMxUVFR2dna6uroQ\n",
       "EBCqqqqIiIgiIiJmZmYyMjJERETu7u6YmJjc3NwAAACgK8IjAAAAAXRSTlMAQObYZgAAAURJREFU\n",
       "KM9jYOC7wIAd5OEQZziNTZC53JCB6QG6qISmsbEBA8M6IDP1AKoUzxKGWQw8C9B13P///78CA+8E\n",
       "Bh5lfZiOdAjFPYFhNwODObqOeQwMTAwMHCC776Pp8Ac76Ci6DqCLDBkYXjBg0bEVTHI5YPiPpYCB\n",
       "oRKbjl/ClUDVzBMwdHAD8V4sOnh+XWBoY2DgBXudeRUYQHTbAnEbNh3/GRimHmBga0C3gucDkAhB\n",
       "6LBatap11apFQNYPoJADA+MHdB3sC1B1IPzRBRS6gEUHxwYcrmJQBdvB0oDkDwUQm18Bh88Z5A8w\n",
       "TIX5HBnIg/xvCWLVo+lgMuAJY2DgNEDXkQ8S8QDiSfErL6DoYLA0EgDGoAC6jqcJDNBUAgfpyJwT\n",
       "2BM7L0rEnkHmmOPIH/twZRzM1I4vR4HT0AMcEjhz7T3swgC1uF8KR28WjQAAAABJRU5ErkJggg==\n",
       "\" style=\"display:inline;vertical-align:middle;\" /></a><br>(see <a class=\"ProveItLink\" href=\"../__pv_it/33c884a9d49e3b554a276ad6bb5495e9581eda400/dependencies.ipynb\">dependencies</a>)<br>"
      ],
      "text/plain": [
       "add_1_6: (1 + 6) = 7"
      ]
     },
     "execution_count": 2,
     "metadata": {},
     "output_type": "execute_result"
    }
   ],
   "source": [
    "%proving add_1_6 presuming []"
   ]
  },
  {
   "cell_type": "code",
   "execution_count": null,
   "metadata": {},
   "outputs": [],
   "source": []
  }
 ],
 "metadata": {
  "kernelspec": {
   "display_name": "Python 3",
   "language": "python",
   "name": "python3"
  }
 },
 "nbformat": 4,
 "nbformat_minor": 0
}
