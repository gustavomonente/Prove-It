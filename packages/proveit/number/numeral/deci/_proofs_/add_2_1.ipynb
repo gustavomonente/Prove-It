{
 "cells": [
  {
   "cell_type": "markdown",
   "metadata": {},
   "source": [
    "Proof of <a class=\"ProveItLink\" href=\"../../../../_context_.ipynb\">proveit</a>.<a class=\"ProveItLink\" href=\"../../../_context_.ipynb\">number</a>.<a class=\"ProveItLink\" href=\"../../_context_.ipynb\">numeral</a>.<a class=\"ProveItLink\" href=\"../_context_.ipynb\">decimal</a>.<a class=\"ProveItLink\" href=\"../_theorems_.ipynb#add_2_1\">add_2_1</a> theorem\n",
    "========"
   ]
  },
  {
   "cell_type": "code",
   "execution_count": 1,
   "metadata": {},
   "outputs": [],
   "source": [
    "import proveit\n",
    "context = proveit.Context('..') # the theorem's context is in the parent directory"
   ]
  },
  {
   "cell_type": "code",
   "execution_count": 2,
   "metadata": {},
   "outputs": [
    {
     "name": "stdout",
     "output_type": "stream",
     "text": [
      "Beginning proof of add_2_1\n",
      "Recorded 'presuming' information\n",
      "Presuming previous theorems (applied transitively).\n"
     ]
    },
    {
     "data": {
      "text/html": [
       "<strong id=\"add_2_1\">add_2_1:</strong> <a class=\"ProveItLink\" href=\"../__pv_it/ce78cfe013d8e371249bf6bee0d41fcb62b6c4cc0/expr.ipynb\"><img src=\"data:image/png;base64,iVBORw0KGgoAAAANSUhEUgAAAGEAAAAUBAMAAABvx07iAAAAMFBMVEX///9UVFTMzMx2dna6uroQ\n",
       "EBCqqqqIiIgiIiJmZmYyMjJERETu7u6YmJjc3NwAAAC+aOQFAAAAAXRSTlMAQObYZgAAAVBJREFU\n",
       "KM91k79Lw0AUx7+xbdrUpnRxF/wHIh2KOphFcNOhTjpk6+beRSOi4GQcpQi63uDgrqaDoLSD/4AS\n",
       "cNFFxElKNN5dQHO/3pB79959cvflvQc0H6G3bUMcI+BhcKVJWIkcabaXArpcotHCsi/m7C2gcS4T\n",
       "b7C/ATeCE6Oynsd6+TKcT+m3IxO7Ab6AWoJKCOtHIOAy4k4mVnxMgFegnsL61BB1X9HGXtXnXi3V\n",
       "EKVIIe494Jp7a56GcLn0EuHG6ZejGDjkJ/agIexQuaPaBbrMcfgfFgk5IOTij5j6UIu0EedEH7o7\n",
       "FOIduA34q+yIbRSiHBZ0tKibxYxgyueAHaPygm0CxzEWaLvst09CkagywvEk4onXY5VWKssykXBm\n",
       "Jmc0PisR5dOBz7ukYD2hXPpmd4XCjoubjmE+bkyDo3b7/0TpbToxJIxT+6wP/wIP4mDwbrdmoAAA\n",
       "AABJRU5ErkJggg==\n",
       "\" style=\"display:inline;vertical-align:middle;\" /></a><br>(see <a class=\"ProveItLink\" href=\"../__pv_it/ce78cfe013d8e371249bf6bee0d41fcb62b6c4cc0/dependencies.ipynb\">dependencies</a>)<br>"
      ],
      "text/plain": [
       "add_2_1: (2 + 1) = 3"
      ]
     },
     "execution_count": 2,
     "metadata": {},
     "output_type": "execute_result"
    }
   ],
   "source": [
    "%proving add_2_1 presuming []"
   ]
  },
  {
   "cell_type": "code",
   "execution_count": null,
   "metadata": {},
   "outputs": [],
   "source": []
  }
 ],
 "metadata": {
  "kernelspec": {
   "display_name": "Python 3",
   "language": "python",
   "name": "python3"
  }
 },
 "nbformat": 4,
 "nbformat_minor": 0
}
