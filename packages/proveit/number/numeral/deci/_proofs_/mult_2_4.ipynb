{
 "cells": [
  {
   "cell_type": "markdown",
   "metadata": {},
   "source": [
    "Proof of <a class=\"ProveItLink\" href=\"../../../../_context_.ipynb\">proveit</a>.<a class=\"ProveItLink\" href=\"../../../_context_.ipynb\">number</a>.<a class=\"ProveItLink\" href=\"../../_context_.ipynb\">numeral</a>.<a class=\"ProveItLink\" href=\"../_context_.ipynb\">deci</a>.<a class=\"ProveItLink\" href=\"../_theorems_.ipynb#mult_2_4\">mult_2_4</a> theorem\n",
    "========"
   ]
  },
  {
   "cell_type": "code",
   "execution_count": 1,
   "metadata": {},
   "outputs": [],
   "source": [
    "import proveit\n",
    "context = proveit.Context('..') # the theorem's context is in the parent directory"
   ]
  },
  {
   "cell_type": "code",
   "execution_count": 2,
   "metadata": {},
   "outputs": [
    {
     "name": "stdout",
     "output_type": "stream",
     "text": [
      "Beginning proof of mult_2_4\n",
      "Recorded 'presuming' information\n",
      "Presuming previous theorems (applied transitively).\n"
     ]
    },
    {
     "data": {
      "text/html": [
       "<strong id=\"mult_2_4\">mult_2_4:</strong> <a class=\"ProveItLink\" href=\"../__pv_it/13bb84f802203a588a646182580d89217803e37c0/expr.ipynb\"><img src=\"data:image/png;base64,iVBORw0KGgoAAAANSUhEUgAAAFcAAAAUBAMAAAAKKrydAAAAMFBMVEX///9UVFTMzMx2dna6uroQ\n",
       "EBCqqqqIiIgiIiJmZmYyMjJERETu7u6YmJjc3NwAAAC+aOQFAAAAAXRSTlMAQObYZgAAAWNJREFU\n",
       "KM91k79Lw0AYhp+0prZpWjoJ3QT/AAsOpYq0o7jo0EUQKe5KF5EuUhFcjeAiDuqogxRnf2QRqg5W\n",
       "HASHktFJVHCRYrxcaVKu6bdceHnuu++9ewPpFgO1zpB6hPujyz4hYqE5KmVuFkpiucDMUCwFejyD\n",
       "eaLCCRiDlEXCRl8M9I0M5FV4DR5EHwe9jvbny+k3Ad+p8Aw04R2MDtq3L0cNARslBV64YhZq3Tk7\n",
       "vtz24KilwJr7UoHr7sacb7vqwSnpcPrcqzOpF39t2JWf25KTU+DBsbrSOXawV4ayvBh56pPXblXC\n",
       "kU8Ffmb0x+7Ctd4FY+bC4WWYrMgxYhYfveOyh8dLVUbqwcyn3oRis9aSBidgK2ii+wb7agWSDgXx\n",
       "DDtT+32G9IYwkVPgeZtXmBMv4LpuAEdvv1oY4wocyXpBijthUWyGJzRlhan5IXm+CdEGIxqEf6CS\n",
       "zhA47Ldqh6P/C5lSGxmD7vAAAAAASUVORK5CYII=\n",
       "\" style=\"display:inline;vertical-align:middle;\" /></a><br>(see <a class=\"ProveItLink\" href=\"../__pv_it/13bb84f802203a588a646182580d89217803e37c0/dependencies.ipynb\">dependencies</a>)<br>"
      ],
      "text/plain": [
       "mult_2_4: (2 * 4) = 8"
      ]
     },
     "execution_count": 2,
     "metadata": {},
     "output_type": "execute_result"
    }
   ],
   "source": [
    "%proving mult_2_4 presuming []"
   ]
  },
  {
   "cell_type": "code",
   "execution_count": null,
   "metadata": {},
   "outputs": [],
   "source": []
  }
 ],
 "metadata": {
  "kernelspec": {
   "display_name": "Python 3",
   "language": "python",
   "name": "python3"
  }
 },
 "nbformat": 4,
 "nbformat_minor": 0
}
