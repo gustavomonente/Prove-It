{
 "cells": [
  {
   "cell_type": "markdown",
   "metadata": {},
   "source": [
    "Proof of <a class=\"ProveItLink\" href=\"../../../../_context_.ipynb\">proveit</a>.<a class=\"ProveItLink\" href=\"../../../_context_.ipynb\">number</a>.<a class=\"ProveItLink\" href=\"../../_context_.ipynb\">numeral</a>.<a class=\"ProveItLink\" href=\"../_context_.ipynb\">decimal</a>.<a class=\"ProveItLink\" href=\"../_theorems_.ipynb#add_2_4\">add_2_4</a> theorem\n",
    "========"
   ]
  },
  {
   "cell_type": "code",
   "execution_count": 1,
   "metadata": {},
   "outputs": [],
   "source": [
    "import proveit\n",
    "context = proveit.Context('..') # the theorem's context is in the parent directory"
   ]
  },
  {
   "cell_type": "code",
   "execution_count": 2,
   "metadata": {},
   "outputs": [
    {
     "name": "stdout",
     "output_type": "stream",
     "text": [
      "Beginning proof of add_2_4\n",
      "Recorded 'presuming' information\n",
      "Presuming previous theorems (applied transitively).\n"
     ]
    },
    {
     "data": {
      "text/html": [
       "<strong id=\"add_2_4\">add_2_4:</strong> <a class=\"ProveItLink\" href=\"../__pv_it/1efa372fa974fa8299c2c23c9e295a9c7ac295a20/expr.ipynb\"><img src=\"data:image/png;base64,iVBORw0KGgoAAAANSUhEUgAAAGEAAAAUBAMAAABvx07iAAAAMFBMVEX///9UVFTMzMx2dna6uroQ\n",
       "EBCqqqqIiIgiIiJmZmYyMjJERETu7u6YmJjc3NwAAAC+aOQFAAAAAXRSTlMAQObYZgAAAW1JREFU\n",
       "KM91k79Lw1AQx79pbLDpa8ni4FboH2DUodTFjm46iODq0k26iGSRiOjgFIcO6qCCUwYRwUnULoKi\n",
       "Q2eHmtFJ1ElKMV5eUPOuyREe7917n/uRuwPKXaTLaoYej8DD4QXX5jxowdBbfX2K1jMIC7MNdjdq\n",
       "QRxzQJziACh5KHSQX4h1zd/LNQuocaLo4YqMBci70L5VovxMxB0n5mWcr4A5gPapErpJhMlDvZSr\n",
       "E4c9UIleROgeI/pVh4xcx/5shRCtiCjJ1HVfCtGi38UOoo9kEwqhIyIMl/2qEGh3sBjtC9L/jO9v\n",
       "+/4J7VYkkXtnUX0BL42YcKD4EHY6sUuEDAyGh7ckYYzvHy23MOIm8iALGJM+osyrwAarYP4v84RM\n",
       "dNAG6lSurek9lxPnlJ3NCM0WS8AcVSoMQ0botx9dmBVe9PpkRXZJQprJw316s5eUwj4lD7WM+bjJ\n",
       "Gpzhbv+fqHQpBhkXmVPbS1f/AM1AWwpFZH+MAAAAAElFTkSuQmCC\n",
       "\" style=\"display:inline;vertical-align:middle;\" /></a><br>(see <a class=\"ProveItLink\" href=\"../__pv_it/1efa372fa974fa8299c2c23c9e295a9c7ac295a20/dependencies.ipynb\">dependencies</a>)<br>"
      ],
      "text/plain": [
       "add_2_4: (2 + 4) = 6"
      ]
     },
     "execution_count": 2,
     "metadata": {},
     "output_type": "execute_result"
    }
   ],
   "source": [
    "%proving add_2_4 presuming []"
   ]
  },
  {
   "cell_type": "code",
   "execution_count": null,
   "metadata": {},
   "outputs": [],
   "source": []
  }
 ],
 "metadata": {
  "kernelspec": {
   "display_name": "Python 3",
   "language": "python",
   "name": "python3"
  }
 },
 "nbformat": 4,
 "nbformat_minor": 0
}
