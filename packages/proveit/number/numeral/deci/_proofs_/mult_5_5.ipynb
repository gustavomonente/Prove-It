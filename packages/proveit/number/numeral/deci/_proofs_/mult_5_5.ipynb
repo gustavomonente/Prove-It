{
 "cells": [
  {
   "cell_type": "markdown",
   "metadata": {},
   "source": [
    "Proof of <a class=\"ProveItLink\" href=\"../../../../_context_.ipynb\">proveit</a>.<a class=\"ProveItLink\" href=\"../../../_context_.ipynb\">number</a>.<a class=\"ProveItLink\" href=\"../../_context_.ipynb\">numeral</a>.<a class=\"ProveItLink\" href=\"../_context_.ipynb\">deci</a>.<a class=\"ProveItLink\" href=\"../_theorems_.ipynb#mult_5_5\">mult_5_5</a> theorem\n",
    "========"
   ]
  },
  {
   "cell_type": "code",
   "execution_count": 1,
   "metadata": {},
   "outputs": [],
   "source": [
    "import proveit\n",
    "context = proveit.Context('..') # the theorem's context is in the parent directory"
   ]
  },
  {
   "cell_type": "code",
   "execution_count": 2,
   "metadata": {},
   "outputs": [
    {
     "name": "stdout",
     "output_type": "stream",
     "text": [
      "Beginning proof of mult_5_5\n",
      "Recorded 'presuming' information\n",
      "Presuming previous theorems (applied transitively).\n"
     ]
    },
    {
     "data": {
      "text/html": [
       "<strong id=\"mult_5_5\">mult_5_5:</strong> <a class=\"ProveItLink\" href=\"../__pv_it/52a4d2a231590883e7d6735dc7e235689b205af20/expr.ipynb\"><img src=\"data:image/png;base64,iVBORw0KGgoAAAANSUhEUgAAAGEAAAAUBAMAAABvx07iAAAAMFBMVEX///9UVFTMzMx2dna6uroQ\n",
       "EBCqqqqIiIgiIiJmZmYyMjJERETu7u6YmJjc3NwAAAC+aOQFAAAAAXRSTlMAQObYZgAAAXJJREFU\n",
       "KM9jYOC7wIAB8hjwgdMMDGsPaCbAuFx3mKYxMD5AV8Uzc7cCRI6BYR0DQ/z/z3Ap1v//DRh4FqDr\n",
       "OMjA/AUix8A7gYFhsTjCTC7DOiBpjq5jDgNDKFSOA6hYAEmKEUweRdcRwcAg/wAi94IBmw4uBzQd\n",
       "6w8wyCtA5CqBWPb6JISOu5UKDAzMEzCDqP8ARG4vkL2H4T3cTO4DfF+AvgN73WoVCKyESLB8hsq1\n",
       "QdQ1gEIQqmkHAwNbA4YVHAJQuRAwl/MfkDgPDdP5DxiYPmDomAmTA+pgXAAKbKgpUgwM9g5YdLBP\n",
       "gMkBXcW6gIHzD0wmCmjOAQaWBoQ/FoLFMxn4HkDkgD7nBBoPj2SgUV0wnyMBJgMG9gcQOUsGBr4J\n",
       "DFfhkf6SgTcOaIgBmo4XxpYSUDkPkCrDOXApvsmSB4AxqIAeg////4DKcTzAlqBP4EnsvBOwiZrj\n",
       "yx/7sIhhpna0HIUBuB/g04Et197Dox4Ac+FoQFTxNsUAAAAASUVORK5CYII=\n",
       "\" style=\"display:inline;vertical-align:middle;\" /></a><br>(see <a class=\"ProveItLink\" href=\"../__pv_it/52a4d2a231590883e7d6735dc7e235689b205af20/dependencies.ipynb\">dependencies</a>)<br>"
      ],
      "text/plain": [
       "mult_5_5: (5 * 5) = 25"
      ]
     },
     "execution_count": 2,
     "metadata": {},
     "output_type": "execute_result"
    }
   ],
   "source": [
    "%proving mult_5_5 presuming []"
   ]
  },
  {
   "cell_type": "code",
   "execution_count": null,
   "metadata": {},
   "outputs": [],
   "source": []
  }
 ],
 "metadata": {
  "kernelspec": {
   "display_name": "Python 3",
   "language": "python",
   "name": "python3"
  }
 },
 "nbformat": 4,
 "nbformat_minor": 0
}
