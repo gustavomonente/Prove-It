{
 "cells": [
  {
   "cell_type": "markdown",
   "metadata": {},
   "source": [
    "Proof of <a class=\"ProveItLink\" href=\"../../../../_context_.ipynb\">proveit</a>.<a class=\"ProveItLink\" href=\"../../../_context_.ipynb\">number</a>.<a class=\"ProveItLink\" href=\"../../_context_.ipynb\">numeral</a>.<a class=\"ProveItLink\" href=\"../_context_.ipynb\">deci</a>.<a class=\"ProveItLink\" href=\"../_theorems_.ipynb#mult_6_2\">mult_6_2</a> theorem\n",
    "========"
   ]
  },
  {
   "cell_type": "code",
   "execution_count": 1,
   "metadata": {},
   "outputs": [],
   "source": [
    "import proveit\n",
    "context = proveit.Context('..') # the theorem's context is in the parent directory"
   ]
  },
  {
   "cell_type": "code",
   "execution_count": 2,
   "metadata": {},
   "outputs": [
    {
     "name": "stdout",
     "output_type": "stream",
     "text": [
      "Beginning proof of mult_6_2\n",
      "Recorded 'presuming' information\n",
      "Presuming previous theorems (applied transitively).\n"
     ]
    },
    {
     "data": {
      "text/html": [
       "<strong id=\"mult_6_2\">mult_6_2:</strong> <a class=\"ProveItLink\" href=\"../__pv_it/06696c2350dfc4ea0ccb4de025c6e8365d00817a0/expr.ipynb\"><img src=\"data:image/png;base64,iVBORw0KGgoAAAANSUhEUgAAAGEAAAAUBAMAAABvx07iAAAAMFBMVEX///9UVFTMzMx2dna6uroQ\n",
       "EBCqqqqIiIgiIiJmZmYyMjJERETu7u6YmJjc3NwAAAC+aOQFAAAAAXRSTlMAQObYZgAAAV1JREFU\n",
       "KM+Fk79Lw0AUx79NikmapooiuDV/QsUh1KmjY4cKDh1cXVyc3DK5GtCloBDdFPyxiijtUBAd6l8g\n",
       "GTsWdBCJ1ne5XBOSMz644e7zvnn3vrkH1F6Ri10UxQstZ88W22rv3kYpkKZGDLgGnluGL04HUD9Q\n",
       "9XPZc92YwfKAO5i3gpwAm1Q0KxishoLpAco/KbQF1AMMczWsULAxYLZT5KaPuo1KS6bgbB+YP3eO\n",
       "0/CwD9WTKTh7AEZX0LcTVn4nHrW+fsniIqVg7IAUExhdZh5X6AvkjCuvwViHbuXCItcw4p72aCkT\n",
       "uYIxUug+rO/4A4Dm/a2IGN2q1OY1eOygRoa7SR9niSJi1LkSwpgZrDSgBXHn2RqcNWm3hOHMq/Fa\n",
       "cwUwGlmFFgq2QTv1aDH5g9PpJ1CxMwJj+es0Zrr0mT4VPHbLk506RfPxKBsE/7+JyoYZFClkU/tW\n",
       "kP8LgD9oMcmOF6MAAAAASUVORK5CYII=\n",
       "\" style=\"display:inline;vertical-align:middle;\" /></a><br>(see <a class=\"ProveItLink\" href=\"../__pv_it/06696c2350dfc4ea0ccb4de025c6e8365d00817a0/dependencies.ipynb\">dependencies</a>)<br>"
      ],
      "text/plain": [
       "mult_6_2: (6 * 2) = 12"
      ]
     },
     "execution_count": 2,
     "metadata": {},
     "output_type": "execute_result"
    }
   ],
   "source": [
    "%proving mult_6_2 presuming []"
   ]
  },
  {
   "cell_type": "code",
   "execution_count": null,
   "metadata": {},
   "outputs": [],
   "source": []
  }
 ],
 "metadata": {
  "kernelspec": {
   "display_name": "Python 3",
   "language": "python",
   "name": "python3"
  }
 },
 "nbformat": 4,
 "nbformat_minor": 0
}
