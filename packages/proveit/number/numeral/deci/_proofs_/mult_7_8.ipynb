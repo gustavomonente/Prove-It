{
 "cells": [
  {
   "cell_type": "markdown",
   "metadata": {},
   "source": [
    "Proof of <a class=\"ProveItLink\" href=\"../../../../_context_.ipynb\">proveit</a>.<a class=\"ProveItLink\" href=\"../../../_context_.ipynb\">number</a>.<a class=\"ProveItLink\" href=\"../../_context_.ipynb\">numeral</a>.<a class=\"ProveItLink\" href=\"../_context_.ipynb\">deci</a>.<a class=\"ProveItLink\" href=\"../_theorems_.ipynb#mult_7_8\">mult_7_8</a> theorem\n",
    "========"
   ]
  },
  {
   "cell_type": "code",
   "execution_count": 1,
   "metadata": {},
   "outputs": [],
   "source": [
    "import proveit\n",
    "context = proveit.Context('..') # the theorem's context is in the parent directory"
   ]
  },
  {
   "cell_type": "code",
   "execution_count": 2,
   "metadata": {},
   "outputs": [
    {
     "name": "stdout",
     "output_type": "stream",
     "text": [
      "Beginning proof of mult_7_8\n",
      "Recorded 'presuming' information\n",
      "Presuming previous theorems (applied transitively).\n"
     ]
    },
    {
     "data": {
      "text/html": [
       "<strong id=\"mult_7_8\">mult_7_8:</strong> <a class=\"ProveItLink\" href=\"../__pv_it/a87bed4eed3316240e99471c8d6bbbb602142b9d0/expr.ipynb\"><img src=\"data:image/png;base64,iVBORw0KGgoAAAANSUhEUgAAAGEAAAAUBAMAAABvx07iAAAAMFBMVEX///9UVFTMzMx2dna6uroQ\n",
       "EBCqqqqIiIgiIiJmZmYyMjJERETu7u6YmJjc3NwAAAC+aOQFAAAAAXRSTlMAQObYZgAAAZ1JREFU\n",
       "KM99Uz1Lw2AQfpL60Y8kuCjUKeAPaGuHUkXMprh0KR1ESv+ArqUOUheHOliodXBRwUUHcREEP8gi\n",
       "FB1acXDxI6NuigraJd771jQ1CTnCcXfP+9y9d7kXUFpwyRL85Abiai2ZtFypmNYgGM5T4QdxCwgU\n",
       "x8k+gmya5rsFhYARSLtORr9pxiHtYxuQqwhRxiELWgSugZSrRmIFiFRxBgQNBKicakGTQAO4cjIE\n",
       "pjL8si88MNOFMueYopSaF+OEmyWuj23IvCtQzaqT8VhS0R4rUaYL5gd6Jjzd1qk73vrEIZMDZkZ0\n",
       "5VNqt7AG9gHNzmCZGtjcyJIuu3/DqWQCdR1Z5izzUJMlvsXglw7xzc3YMb6BZ63DWOehIBvxAhAr\n",
       "uBmjdF2tQoxW51bd/weJjgot9JXtPvaYOU819GFeg3Uu/tjJ8tSl8dd5j9DsKojpqANp1u2HDc3p\n",
       "uKddiTsYr5DzEOJSDpglV8nZkBilTURYdTCUWpSGnk6ofEs8pOGz7HLVK5ryex+XHjH3tv9/UW6J\n",
       "GH4Mr1f75HP+F2L0Z48ERFzsAAAAAElFTkSuQmCC\n",
       "\" style=\"display:inline;vertical-align:middle;\" /></a><br>(see <a class=\"ProveItLink\" href=\"../__pv_it/a87bed4eed3316240e99471c8d6bbbb602142b9d0/dependencies.ipynb\">dependencies</a>)<br>"
      ],
      "text/plain": [
       "mult_7_8: (7 * 8) = 56"
      ]
     },
     "execution_count": 2,
     "metadata": {},
     "output_type": "execute_result"
    }
   ],
   "source": [
    "%proving mult_7_8 presuming []"
   ]
  },
  {
   "cell_type": "code",
   "execution_count": null,
   "metadata": {},
   "outputs": [],
   "source": []
  }
 ],
 "metadata": {
  "kernelspec": {
   "display_name": "Python 3",
   "language": "python",
   "name": "python3"
  }
 },
 "nbformat": 4,
 "nbformat_minor": 0
}
