{
 "cells": [
  {
   "cell_type": "markdown",
   "metadata": {},
   "source": [
    "Proof of <a class=\"ProveItLink\" href=\"../../../../_context_.ipynb\">proveit</a>.<a class=\"ProveItLink\" href=\"../../../_context_.ipynb\">number</a>.<a class=\"ProveItLink\" href=\"../../_context_.ipynb\">numeral</a>.<a class=\"ProveItLink\" href=\"../_context_.ipynb\">decimal</a>.<a class=\"ProveItLink\" href=\"../_theorems_.ipynb#add_5_8\">add_5_8</a> theorem\n",
    "========"
   ]
  },
  {
   "cell_type": "code",
   "execution_count": 1,
   "metadata": {},
   "outputs": [],
   "source": [
    "import proveit\n",
    "context = proveit.Context('..') # the theorem's context is in the parent directory"
   ]
  },
  {
   "cell_type": "code",
   "execution_count": 2,
   "metadata": {},
   "outputs": [
    {
     "name": "stdout",
     "output_type": "stream",
     "text": [
      "Beginning proof of add_5_8\n",
      "Recorded 'presuming' information\n",
      "Presuming previous theorems (applied transitively).\n"
     ]
    },
    {
     "data": {
      "text/html": [
       "<strong id=\"add_5_8\">add_5_8:</strong> <a class=\"ProveItLink\" href=\"../__pv_it/d49b2d13fe8a3158a424b139a436b23309ec40ed0/expr.ipynb\"><img src=\"data:image/png;base64,iVBORw0KGgoAAAANSUhEUgAAAGwAAAAUBAMAAACaOcVSAAAAMFBMVEX///9UVFTMzMx2dna6uroQ\n",
       "EBCqqqqIiIgiIiJmZmYyMjJERETu7u6YmJjc3NwAAAC+aOQFAAAAAXRSTlMAQObYZgAAAY9JREFU\n",
       "OMuVlD1Iw1AQx/81jbY0SQMOTlocnUQEUaeOdXPoWGgXUScFcXBqQHSO1kXoED8WQ5UO4qQlm1AF\n",
       "s4jgYsFFJwe1i9V6CWnJy0fFG+69y/F7d7m79wDJRLD0N9BDboBTY6zAfrxe2wNGgoHnyQvSZ0C+\n",
       "/e5xqYgUUPcjCwYkFSsmRBU4Gurks+jkZ0LQwK16IGEwZWCgiaSCGBFy1+FgXBWCAmHeF+3JQDSL\n",
       "pIYXBGDRL4OjSh0HYSSU5AYtww+7LIbU9xTpmWBM2ASuaL3EW5rFuHaF9KO91W1Ru5g0XQa2bTOh\n",
       "sNhy5pMOWgpJcj2NrG3Gf0jN6vqWrh/QTpRRzAHjIRifs7AI1fqDicYb6GuGYFIDiaaVJK8h3mKw\n",
       "O6tOQMb1b3IHS7YsjEoSB2IaG42aWXNK4o3GVxFrWUWmcblvsH2rQKQRKfmwogHRtPpmJfI6Ufb0\n",
       "bbREo4xDL7WTPzExt38Oe7jgnRJnBJXweyOqbuvWbfhG2S21UE/9j2v67wNJQh8Fscej8AtE+Hl/\n",
       "Pahe5wAAAABJRU5ErkJggg==\n",
       "\" style=\"display:inline;vertical-align:middle;\" /></a><br>(see <a class=\"ProveItLink\" href=\"../__pv_it/d49b2d13fe8a3158a424b139a436b23309ec40ed0/dependencies.ipynb\">dependencies</a>)<br>"
      ],
      "text/plain": [
       "add_5_8: (5 + 8) = 13"
      ]
     },
     "execution_count": 2,
     "metadata": {},
     "output_type": "execute_result"
    }
   ],
   "source": [
    "%proving add_5_8 presuming []"
   ]
  },
  {
   "cell_type": "code",
   "execution_count": null,
   "metadata": {},
   "outputs": [],
   "source": []
  }
 ],
 "metadata": {
  "kernelspec": {
   "display_name": "Python 3",
   "language": "python",
   "name": "python3"
  }
 },
 "nbformat": 4,
 "nbformat_minor": 0
}
