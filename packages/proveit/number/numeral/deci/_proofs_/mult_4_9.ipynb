{
 "cells": [
  {
   "cell_type": "markdown",
   "metadata": {},
   "source": [
    "Proof of <a class=\"ProveItLink\" href=\"../../../../_context_.ipynb\">proveit</a>.<a class=\"ProveItLink\" href=\"../../../_context_.ipynb\">number</a>.<a class=\"ProveItLink\" href=\"../../_context_.ipynb\">numeral</a>.<a class=\"ProveItLink\" href=\"../_context_.ipynb\">deci</a>.<a class=\"ProveItLink\" href=\"../_theorems_.ipynb#mult_4_9\">mult_4_9</a> theorem\n",
    "========"
   ]
  },
  {
   "cell_type": "code",
   "execution_count": 1,
   "metadata": {},
   "outputs": [],
   "source": [
    "import proveit\n",
    "context = proveit.Context('..') # the theorem's context is in the parent directory"
   ]
  },
  {
   "cell_type": "code",
   "execution_count": 2,
   "metadata": {},
   "outputs": [
    {
     "name": "stdout",
     "output_type": "stream",
     "text": [
      "Beginning proof of mult_4_9\n",
      "Recorded 'presuming' information\n",
      "Presuming previous theorems (applied transitively).\n"
     ]
    },
    {
     "data": {
      "text/html": [
       "<strong id=\"mult_4_9\">mult_4_9:</strong> <a class=\"ProveItLink\" href=\"../__pv_it/a3720033ba127ff341ded4bed3f157e1888471b10/expr.ipynb\"><img src=\"data:image/png;base64,iVBORw0KGgoAAAANSUhEUgAAAGEAAAAUBAMAAABvx07iAAAAMFBMVEX///9UVFTMzMx2dna6uroQ\n",
       "EBCqqqqIiIgiIiJmZmYyMjJERETu7u6YmJjc3NwAAAC+aOQFAAAAAXRSTlMAQObYZgAAAZtJREFU\n",
       "KM99kz1LA0EQht98EGNyCTYpLMSAlZUXLUJMkWsEOxGihVrEH6CIjcTG2AjaeKBBoo2CjRZaWUl0\n",
       "QUTRwjSW6oGNFoqNECIaZ/eSu3Abbrhbdmb22ZlhZoFoBZLMw03u+dJvqcpWwoDHcJ6KDqVzgG9p\n",
       "kPYn3LBqua4r0Rko+07iHYFfKIfYBSI66R3jlisGdANJJ7GSQxVhHedAkCfwcWC5akCGIjmJEY08\n",
       "YyLZN76oFqH80H0GQppUL2V1JjZ5+iOGHWOKYmjw6RJxq6LWl6ebyqTcwCYopdMKIqL04WMuR8L+\n",
       "us6UWgVr4B9Uk1D4El4IZHIIFKQYHVmlDhQZspRh3CQexMVzi5k4vF9y4yZYFXjROHEFkwh2ma5e\n",
       "JhOfwGVugwiR2Gyp9L3T4iXcX7DrELfVGRExEaMsDtkdfGTePzQqb5FpYJMNMBSBVNPQkGV2R6PZ\n",
       "qTqIJ94Pj6pMAqNcT9d7mi5fapvWUNxB+Et71IpUIt6YErldLsMe0dtZk27v46KNTZ526UU5JGy4\n",
       "Ee1e7bPL+X/jS27pVQoeNwAAAABJRU5ErkJggg==\n",
       "\" style=\"display:inline;vertical-align:middle;\" /></a><br>(see <a class=\"ProveItLink\" href=\"../__pv_it/a3720033ba127ff341ded4bed3f157e1888471b10/dependencies.ipynb\">dependencies</a>)<br>"
      ],
      "text/plain": [
       "mult_4_9: (4 * 9) = 36"
      ]
     },
     "execution_count": 2,
     "metadata": {},
     "output_type": "execute_result"
    }
   ],
   "source": [
    "%proving mult_4_9 presuming []"
   ]
  },
  {
   "cell_type": "code",
   "execution_count": null,
   "metadata": {},
   "outputs": [],
   "source": []
  }
 ],
 "metadata": {
  "kernelspec": {
   "display_name": "Python 3",
   "language": "python",
   "name": "python3"
  }
 },
 "nbformat": 4,
 "nbformat_minor": 0
}
