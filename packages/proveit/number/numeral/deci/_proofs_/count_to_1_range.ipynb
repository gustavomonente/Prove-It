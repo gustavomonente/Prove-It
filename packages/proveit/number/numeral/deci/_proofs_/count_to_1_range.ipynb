{
 "cells": [
  {
   "cell_type": "markdown",
   "metadata": {},
   "source": [
    "Proof of <a class=\"ProveItLink\" href=\"../../../../_context_.ipynb\">proveit</a>.<a class=\"ProveItLink\" href=\"../../../_context_.ipynb\">number</a>.<a class=\"ProveItLink\" href=\"../../_context_.ipynb\">numeral</a>.<a class=\"ProveItLink\" href=\"../_context_.ipynb\">deci</a>.<a class=\"ProveItLink\" href=\"../_theorems_.ipynb#count_to_1_range\">count_to_1_range</a> theorem\n",
    "========"
   ]
  },
  {
   "cell_type": "code",
   "execution_count": 1,
   "metadata": {},
   "outputs": [],
   "source": [
    "import proveit\n",
    "context = proveit.Context('..') # the theorem's context is in the parent directory"
   ]
  },
  {
   "cell_type": "code",
   "execution_count": 2,
   "metadata": {},
   "outputs": [
    {
     "name": "stdout",
     "output_type": "stream",
     "text": [
      "Beginning proof of count_to_1_range\n",
      "Recorded 'presuming' information\n",
      "Presuming previous theorems (applied transitively).\n"
     ]
    },
    {
     "data": {
      "text/html": [
       "<strong id=\"count_to_1_range\">count_to_1_range:</strong> <a class=\"ProveItLink\" href=\"../__pv_it/3587ea215446e5066984e4bb0086b4dceb3a14930/expr.ipynb\"><img src=\"data:image/png;base64,iVBORw0KGgoAAAANSUhEUgAAAIUAAAAUBAMAAABRzuPpAAAAMFBMVEX////MzMxUVFR2dna6uroQ\n",
       "EBCqqqqIiIgiIiJmZmYyMjJERETu7u6YmJjc3NwAAACgK8IjAAAAAXRSTlMAQObYZgAAAUdJREFU\n",
       "OMtjYOC7wAACbA8YMABUCi/IAxGnoRw9TPnThI1gYALZvQ6IUw8wMJzClIdJ4QJsMQwMPAsYGHgn\n",
       "MPAo6wMVMhegK4FL4QCHjP4ASXMGBg6QW+4DFfIEoKuBS+ECvCAzjjIwvGCAKVyCrgQhhc8MLgeG\n",
       "SrhCS3QllUSZwTyBYS9c4S0Qi3kVGEwAsfcSZQbvAoY2uMIMdCVtRJnB1sAQAlcoj64khCgzGD9Q\n",
       "xQyEgz2QwkOBeL+wNKCHKTIgOkzBMVoPUjgZXQlMiucXkAYT5xcwIPEY2EFmcBqAfTApfiUwhy5E\n",
       "NwMu1QGyogmUchWgDLAQp+qvucA0JgBJ0CDA04A1rYPzFqZ/EEInwBkLArDmOagUZlAghIB5jmEf\n",
       "lI0l78OkjmNKwYVAeR9e0OzDXQZhKc7gQtwPEAUeL5ll4T0GBgCnoH6JjU+g0QAAAABJRU5ErkJg\n",
       "gg==\n",
       "\" style=\"display:inline;vertical-align:middle;\" /></a><br>(see <a class=\"ProveItLink\" href=\"../__pv_it/3587ea215446e5066984e4bb0086b4dceb3a14930/dependencies.ipynb\">dependencies</a>)<br>"
      ],
      "text/plain": [
       "count_to_1_range: (1) = (1, ..k.., 1)"
      ]
     },
     "execution_count": 2,
     "metadata": {},
     "output_type": "execute_result"
    }
   ],
   "source": [
    "%proving count_to_1_range presuming []"
   ]
  },
  {
   "cell_type": "code",
   "execution_count": null,
   "metadata": {},
   "outputs": [],
   "source": []
  }
 ],
 "metadata": {
  "kernelspec": {
   "display_name": "Python 3",
   "language": "python",
   "name": "python3"
  }
 },
 "nbformat": 4,
 "nbformat_minor": 0
}
