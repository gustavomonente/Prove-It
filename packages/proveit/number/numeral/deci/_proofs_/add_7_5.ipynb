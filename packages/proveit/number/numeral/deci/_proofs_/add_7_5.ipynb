{
 "cells": [
  {
   "cell_type": "markdown",
   "metadata": {},
   "source": [
    "Proof of <a class=\"ProveItLink\" href=\"../../../../_context_.ipynb\">proveit</a>.<a class=\"ProveItLink\" href=\"../../../_context_.ipynb\">number</a>.<a class=\"ProveItLink\" href=\"../../_context_.ipynb\">numeral</a>.<a class=\"ProveItLink\" href=\"../_context_.ipynb\">decimal</a>.<a class=\"ProveItLink\" href=\"../_theorems_.ipynb#add_7_5\">add_7_5</a> theorem\n",
    "========"
   ]
  },
  {
   "cell_type": "code",
   "execution_count": 1,
   "metadata": {},
   "outputs": [],
   "source": [
    "import proveit\n",
    "context = proveit.Context('..') # the theorem's context is in the parent directory"
   ]
  },
  {
   "cell_type": "code",
   "execution_count": 2,
   "metadata": {},
   "outputs": [
    {
     "name": "stdout",
     "output_type": "stream",
     "text": [
      "Beginning proof of add_7_5\n",
      "Recorded 'presuming' information\n",
      "Presuming previous theorems (applied transitively).\n"
     ]
    },
    {
     "data": {
      "text/html": [
       "<strong id=\"add_7_5\">add_7_5:</strong> <a class=\"ProveItLink\" href=\"../__pv_it/16783d6bae54c9848874883d11cdbea741f8eece0/expr.ipynb\"><img src=\"data:image/png;base64,iVBORw0KGgoAAAANSUhEUgAAAGwAAAAUBAMAAACaOcVSAAAAMFBMVEX///9UVFTMzMx2dna6uroQ\n",
       "EBCqqqqIiIgiIiJmZmYyMjJERETu7u6YmJjc3NwAAAC+aOQFAAAAAXRSTlMAQObYZgAAAXdJREFU\n",
       "OMuVlD1Iw0AUx/9paGhqEgIOTn6Ak5NKJl3sppsdxLUuUkdXHTRFdHFJ7ahD/FgaUMRZJatVMIsI\n",
       "LnbURal1EULj5RokuXyAb7jjvXe/e3d/3h2gOEg2oY0Mu0eu1tC0aPDcnljBSDJwd3hFxgvInud1\n",
       "oqmK1wVacWTVhqRirgTZgEhOo/bD1SB9OkRi/DoDSYOjNkQb+TIKbfBkxVgUo7tI5Vi1V8Lo4Hp4\n",
       "o+48EjCcJWFFF9wXNqh7yWDDzwdknEnCiBVc3Pgz7zDYNT5LwAvNWdSMELY4hT1/fgSDAQM6sJZS\n",
       "rQYs+fMmjc1a1q5lHfcXiD1gMhkTjQDbZ6pxJvjvVMyXgx6yw2B5E6ILLITupv5hgoEPKknuh8FE\n",
       "opYZSBKrNg5sUZGFLoMpBp5ImzRi2LYNZUer6/QgyjKr5Pv0ERlPWKpeaTpF0sG631whq0ZaUE9/\n",
       "N7IR9h7CTqyVw3abmmllP9P/b+jrkfYpyBmfwi/q1HDGFXXO7AAAAABJRU5ErkJggg==\n",
       "\" style=\"display:inline;vertical-align:middle;\" /></a><br>(see <a class=\"ProveItLink\" href=\"../__pv_it/16783d6bae54c9848874883d11cdbea741f8eece0/dependencies.ipynb\">dependencies</a>)<br>"
      ],
      "text/plain": [
       "add_7_5: (7 + 5) = 12"
      ]
     },
     "execution_count": 2,
     "metadata": {},
     "output_type": "execute_result"
    }
   ],
   "source": [
    "%proving add_7_5 presuming []"
   ]
  },
  {
   "cell_type": "code",
   "execution_count": null,
   "metadata": {},
   "outputs": [],
   "source": []
  }
 ],
 "metadata": {
  "kernelspec": {
   "display_name": "Python 3",
   "language": "python",
   "name": "python3"
  }
 },
 "nbformat": 4,
 "nbformat_minor": 0
}
