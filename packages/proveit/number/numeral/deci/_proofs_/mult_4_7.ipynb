{
 "cells": [
  {
   "cell_type": "markdown",
   "metadata": {},
   "source": [
    "Proof of <a class=\"ProveItLink\" href=\"../../../../_context_.ipynb\">proveit</a>.<a class=\"ProveItLink\" href=\"../../../_context_.ipynb\">number</a>.<a class=\"ProveItLink\" href=\"../../_context_.ipynb\">numeral</a>.<a class=\"ProveItLink\" href=\"../_context_.ipynb\">deci</a>.<a class=\"ProveItLink\" href=\"../_theorems_.ipynb#mult_4_7\">mult_4_7</a> theorem\n",
    "========"
   ]
  },
  {
   "cell_type": "code",
   "execution_count": 1,
   "metadata": {},
   "outputs": [],
   "source": [
    "import proveit\n",
    "context = proveit.Context('..') # the theorem's context is in the parent directory"
   ]
  },
  {
   "cell_type": "code",
   "execution_count": 2,
   "metadata": {},
   "outputs": [
    {
     "name": "stdout",
     "output_type": "stream",
     "text": [
      "Beginning proof of mult_4_7\n",
      "Recorded 'presuming' information\n",
      "Presuming previous theorems (applied transitively).\n"
     ]
    },
    {
     "data": {
      "text/html": [
       "<strong id=\"mult_4_7\">mult_4_7:</strong> <a class=\"ProveItLink\" href=\"../__pv_it/033a643ecce963909c9e0c9a83436094e820bcfe0/expr.ipynb\"><img src=\"data:image/png;base64,iVBORw0KGgoAAAANSUhEUgAAAGEAAAAUBAMAAABvx07iAAAAMFBMVEX///9UVFTMzMx2dna6uroQ\n",
       "EBCqqqqIiIgiIiJmZmYyMjJERETu7u6YmJjc3NwAAAC+aOQFAAAAAXRSTlMAQObYZgAAAY9JREFU\n",
       "KM99kz1Iw0AUgL/U0tSa1k6ig9hRpxY7lFqKHcVFBAVBER0d/NnErS6u7SBIQcSOOqi7P0REFB2s\n",
       "OLhpFqGDgqAFcYl3qaQlCXkkj3v37nt37907iNVwyQp+ci/VkG0O9qXTKcVwrtIqpwm09WxBjI/k\n",
       "xKbtejVNM67tO4lLOr7phB6IloWtTtquPVAg4yR2YZpluIOwPMBH1XalYBiuncQMDBg5uIW6taza\n",
       "5gyuQaTgII51BhITZ+RhQ5hRo53oEn9H2V2ikq6YTwtwLsY3tBN5GcNKfeRQysH/1l8w+qvDlnV2\n",
       "i9CadfwUKlR0bRGOE9ouTYH4Qokm8WAFVqUOfLqICjyiNnRJXNEkRBSpTzwJVWQ2B8kFearFSqWx\n",
       "Y7u6JRcstvJo5rhE7F2EUWpW5tC6QZJlO/M2CaRQjXlRSIOsNTHb8q2KO6Qz5SDq6Wwv4zrPMCbt\n",
       "nNlv+95EyYkknDdomj8E+mQnhg2vhr71afZo2Ws24/c+Ljzm3N3uelEO6TL8CK9X++Kz/g9ZH2JZ\n",
       "ooR2eQAAAABJRU5ErkJggg==\n",
       "\" style=\"display:inline;vertical-align:middle;\" /></a><br>(see <a class=\"ProveItLink\" href=\"../__pv_it/033a643ecce963909c9e0c9a83436094e820bcfe0/dependencies.ipynb\">dependencies</a>)<br>"
      ],
      "text/plain": [
       "mult_4_7: (4 * 7) = 28"
      ]
     },
     "execution_count": 2,
     "metadata": {},
     "output_type": "execute_result"
    }
   ],
   "source": [
    "%proving mult_4_7 presuming []"
   ]
  },
  {
   "cell_type": "code",
   "execution_count": null,
   "metadata": {},
   "outputs": [],
   "source": []
  }
 ],
 "metadata": {
  "kernelspec": {
   "display_name": "Python 3",
   "language": "python",
   "name": "python3"
  }
 },
 "nbformat": 4,
 "nbformat_minor": 0
}
