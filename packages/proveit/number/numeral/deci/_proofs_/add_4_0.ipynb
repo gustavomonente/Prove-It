{
 "cells": [
  {
   "cell_type": "markdown",
   "metadata": {},
   "source": [
    "Proof of <a class=\"ProveItLink\" href=\"../../../../_context_.ipynb\">proveit</a>.<a class=\"ProveItLink\" href=\"../../../_context_.ipynb\">number</a>.<a class=\"ProveItLink\" href=\"../../_context_.ipynb\">numeral</a>.<a class=\"ProveItLink\" href=\"../_context_.ipynb\">decimal</a>.<a class=\"ProveItLink\" href=\"../_theorems_.ipynb#add_4_0\">add_4_0</a> theorem\n",
    "========"
   ]
  },
  {
   "cell_type": "code",
   "execution_count": 1,
   "metadata": {},
   "outputs": [],
   "source": [
    "import proveit\n",
    "context = proveit.Context('..') # the theorem's context is in the parent directory"
   ]
  },
  {
   "cell_type": "code",
   "execution_count": 2,
   "metadata": {},
   "outputs": [
    {
     "name": "stdout",
     "output_type": "stream",
     "text": [
      "Beginning proof of add_4_0\n",
      "Recorded 'presuming' information\n",
      "Presuming previous theorems (applied transitively).\n"
     ]
    },
    {
     "data": {
      "text/html": [
       "<strong id=\"add_4_0\">add_4_0:</strong> <a class=\"ProveItLink\" href=\"../__pv_it/e8688c23ae1e2d09747ca2a8b82d8c0b09b91f950/expr.ipynb\"><img src=\"data:image/png;base64,iVBORw0KGgoAAAANSUhEUgAAAGEAAAAUBAMAAABvx07iAAAAMFBMVEX///9UVFTMzMx2dna6uroQ\n",
       "EBCqqqqIiIgiIiJmZmYyMjJERETu7u6YmJjc3NwAAAC+aOQFAAAAAXRSTlMAQObYZgAAAVVJREFU\n",
       "KM91ky9Mw1AQxj9WKKW812ARJLWo1S0Mg8QRCIZgCmaOFYHADQGSzJEqmK0goAmwhBBIQCwhGMSo\n",
       "xJCwEAQK7rVj7P3pidev994vd5e7A7wOzLZV4MeDOGYVZ+XJx0iqPy416TgVak++cEN2CHaiE84U\n",
       "wAU1vtz31PLPM1ClQDqxQ4QjYr+3ZOIcqLdxqwHeCxFvQgUK0QOWQrgLKmG5ROyS4KlMsG8iIlhN\n",
       "legK4pLEHWTC+wTKEXhWupVkJmgWCeJAJKUSFKMcwG6oSUEQq4Dt50Q1SfaTpDXIqvShEJt/xA2g\n",
       "V14PNYIF6Ge1EcdfRxJxAby2MdoYqoOe2tPx8VqUVQ4YO8j1po8ROJepdZlwQrYCTAQ6cQYsCjH/\n",
       "MyMRrLLt03T5Wgeve518SgZWG/65Nw87lxr7KI18wX5cFS2Oadr/N8pkk2nBReHWds3uX6AWV8Nc\n",
       "lJ2jAAAAAElFTkSuQmCC\n",
       "\" style=\"display:inline;vertical-align:middle;\" /></a><br>(see <a class=\"ProveItLink\" href=\"../__pv_it/e8688c23ae1e2d09747ca2a8b82d8c0b09b91f950/dependencies.ipynb\">dependencies</a>)<br>"
      ],
      "text/plain": [
       "add_4_0: (4 + 0) = 4"
      ]
     },
     "execution_count": 2,
     "metadata": {},
     "output_type": "execute_result"
    }
   ],
   "source": [
    "%proving add_4_0 presuming []"
   ]
  },
  {
   "cell_type": "code",
   "execution_count": null,
   "metadata": {},
   "outputs": [],
   "source": []
  }
 ],
 "metadata": {
  "kernelspec": {
   "display_name": "Python 3",
   "language": "python",
   "name": "python3"
  }
 },
 "nbformat": 4,
 "nbformat_minor": 0
}
