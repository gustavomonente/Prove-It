{
 "cells": [
  {
   "cell_type": "markdown",
   "metadata": {},
   "source": [
    "Proof of <a class=\"ProveItLink\" href=\"../../../../_context_.ipynb\">proveit</a>.<a class=\"ProveItLink\" href=\"../../../_context_.ipynb\">number</a>.<a class=\"ProveItLink\" href=\"../../_context_.ipynb\">numeral</a>.<a class=\"ProveItLink\" href=\"../_context_.ipynb\">deci</a>.<a class=\"ProveItLink\" href=\"../_theorems_.ipynb#mult_5_7\">mult_5_7</a> theorem\n",
    "========"
   ]
  },
  {
   "cell_type": "code",
   "execution_count": 1,
   "metadata": {},
   "outputs": [],
   "source": [
    "import proveit\n",
    "context = proveit.Context('..') # the theorem's context is in the parent directory"
   ]
  },
  {
   "cell_type": "code",
   "execution_count": 2,
   "metadata": {},
   "outputs": [
    {
     "name": "stdout",
     "output_type": "stream",
     "text": [
      "Beginning proof of mult_5_7\n",
      "Recorded 'presuming' information\n",
      "Presuming previous theorems (applied transitively).\n"
     ]
    },
    {
     "data": {
      "text/html": [
       "<strong id=\"mult_5_7\">mult_5_7:</strong> <a class=\"ProveItLink\" href=\"../__pv_it/980d066dbc62f977f95e43866fdc783581ab612b0/expr.ipynb\"><img src=\"data:image/png;base64,iVBORw0KGgoAAAANSUhEUgAAAGEAAAAUBAMAAABvx07iAAAAMFBMVEX///9UVFTMzMx2dna6uroQ\n",
       "EBCqqqqIiIgiIiJmZmYyMjJERETu7u6YmJjc3NwAAAC+aOQFAAAAAXRSTlMAQObYZgAAAZVJREFU\n",
       "KM99Uz1LA0EQfZcP83lnOokgpNTKiymCiniN4A/QRkHvF6htGk0laOOhIIiiESsFxdLCj22EgIU2\n",
       "YmM0IIJpNGAKEfWcvWDuvD3uwc7N7ux7u3MzCyg3EDADP1wBh6xH/5t2p3M5Vaq6dym5QR3x+8A6\n",
       "+UfAtPneCj2applKltyMGtq+ETZNFZANYK/D1twGJCDvZizo+EA8O09ulDanHCES6QMu3YwRDZ9c\n",
       "ivCC/wwgNAfENSFfulWTUaDRdbfqCCVoBA2BUVYhVQoZ4Iwmp3hzaA7RkK3UBw449q3VpyWGBFMa\n",
       "wGJTt0gmabnJOr9CUTgjMsbtCWB9Efshc20JR7gN1MXCjTMyO1XOkEoINvhvs/5A9NiL8Qpc6J3A\n",
       "sMZvFS4h9tWKtXNeqGjnsctdkxFjgs5gPPMYCdtF7jVamTswCawwiiwD/dQzBm7tos+qPC/Vxajw\n",
       "etQgTwGjvGmyW3bsmTdlPONihDY2NShradbsEhFln2aXDa/VvN/7OPdYE7vd9aIEJKp+DK9X++Cz\n",
       "/xfKhWchybS+hgAAAABJRU5ErkJggg==\n",
       "\" style=\"display:inline;vertical-align:middle;\" /></a><br>(see <a class=\"ProveItLink\" href=\"../__pv_it/980d066dbc62f977f95e43866fdc783581ab612b0/dependencies.ipynb\">dependencies</a>)<br>"
      ],
      "text/plain": [
       "mult_5_7: (5 * 7) = 35"
      ]
     },
     "execution_count": 2,
     "metadata": {},
     "output_type": "execute_result"
    }
   ],
   "source": [
    "%proving mult_5_7 presuming []"
   ]
  },
  {
   "cell_type": "code",
   "execution_count": null,
   "metadata": {},
   "outputs": [],
   "source": []
  }
 ],
 "metadata": {
  "kernelspec": {
   "display_name": "Python 3",
   "language": "python",
   "name": "python3"
  }
 },
 "nbformat": 4,
 "nbformat_minor": 0
}
