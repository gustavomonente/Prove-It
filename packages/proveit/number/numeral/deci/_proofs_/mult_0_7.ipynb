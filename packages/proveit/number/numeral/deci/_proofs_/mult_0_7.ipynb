{
 "cells": [
  {
   "cell_type": "markdown",
   "metadata": {},
   "source": [
    "Proof of <a class=\"ProveItLink\" href=\"../../../../_context_.ipynb\">proveit</a>.<a class=\"ProveItLink\" href=\"../../../_context_.ipynb\">number</a>.<a class=\"ProveItLink\" href=\"../../_context_.ipynb\">numeral</a>.<a class=\"ProveItLink\" href=\"../_context_.ipynb\">deci</a>.<a class=\"ProveItLink\" href=\"../_theorems_.ipynb#mult_0_7\">mult_0_7</a> theorem\n",
    "========"
   ]
  },
  {
   "cell_type": "code",
   "execution_count": 1,
   "metadata": {},
   "outputs": [],
   "source": [
    "import proveit\n",
    "context = proveit.Context('..') # the theorem's context is in the parent directory"
   ]
  },
  {
   "cell_type": "code",
   "execution_count": 2,
   "metadata": {},
   "outputs": [
    {
     "name": "stdout",
     "output_type": "stream",
     "text": [
      "Beginning proof of mult_0_7\n",
      "Recorded 'presuming' information\n",
      "Presuming previous theorems (applied transitively).\n"
     ]
    },
    {
     "data": {
      "text/html": [
       "<strong id=\"mult_0_7\">mult_0_7:</strong> <a class=\"ProveItLink\" href=\"../__pv_it/3033704e36c7bc6289b6d3ee974b0fccca2a61110/expr.ipynb\"><img src=\"data:image/png;base64,iVBORw0KGgoAAAANSUhEUgAAAFcAAAAUBAMAAAAKKrydAAAAMFBMVEX///9UVFTMzMx2dna6uroQ\n",
       "EBCqqqqIiIgiIiJmZmYyMjJERETu7u6YmJjc3NwAAAC+aOQFAAAAAXRSTlMAQObYZgAAAV9JREFU\n",
       "KM91k79Lw1AQxz/9QY0mqcHNLaNbgx2KBcHRTZH+AfkLbJ3EQejUUfIXiC6CDlJnUQpSKDi0IK7a\n",
       "RXCzUlAEod6LmNjk9eA9Lt983uXu3QWKA1K2ywy7h9zhavS4slwue5lhCqs8uLJfwhm96O3zZDJx\n",
       "rJMku+BbR2AH2NvkorfHkJE4SfgRqmAMMR0K33+qB5JTNwlfQb3DKyw65D9iPd+Qr24k4HfY8jmA\n",
       "fkD+M9ZNWblgmrW+BG5wA28e2X/wuiw7rKF6oexcvOIYSg1aAgdkx+r4b5CRbIXmdOSiRC551OI0\n",
       "+mG4ObVnR9o0amGBBVWg4SjdaGtgVWDdV2mYbezo6tRRuZFmnPOpcq+lXR1V4FRTKAVRgammrInX\n",
       "outGcl3awryXgA3f2oFN8e72l2L5xVej4CZgq7Lnhu3WWE8/oXagUysz5vlWo6VHNB7+lJnDGbDu\n",
       "t3rSoz+ngFh4Dp1c7wAAAABJRU5ErkJggg==\n",
       "\" style=\"display:inline;vertical-align:middle;\" /></a><br>(see <a class=\"ProveItLink\" href=\"../__pv_it/3033704e36c7bc6289b6d3ee974b0fccca2a61110/dependencies.ipynb\">dependencies</a>)<br>"
      ],
      "text/plain": [
       "mult_0_7: (0 * 7) = 0"
      ]
     },
     "execution_count": 2,
     "metadata": {},
     "output_type": "execute_result"
    }
   ],
   "source": [
    "%proving mult_0_7 presuming []"
   ]
  },
  {
   "cell_type": "code",
   "execution_count": null,
   "metadata": {},
   "outputs": [],
   "source": []
  }
 ],
 "metadata": {
  "kernelspec": {
   "display_name": "Python 3",
   "language": "python",
   "name": "python3"
  }
 },
 "nbformat": 4,
 "nbformat_minor": 0
}
