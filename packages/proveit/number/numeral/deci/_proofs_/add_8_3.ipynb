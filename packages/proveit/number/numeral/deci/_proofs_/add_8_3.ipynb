{
 "cells": [
  {
   "cell_type": "markdown",
   "metadata": {},
   "source": [
    "Proof of <a class=\"ProveItLink\" href=\"../../../../_context_.ipynb\">proveit</a>.<a class=\"ProveItLink\" href=\"../../../_context_.ipynb\">number</a>.<a class=\"ProveItLink\" href=\"../../_context_.ipynb\">numeral</a>.<a class=\"ProveItLink\" href=\"../_context_.ipynb\">decimal</a>.<a class=\"ProveItLink\" href=\"../_theorems_.ipynb#add_8_3\">add_8_3</a> theorem\n",
    "========"
   ]
  },
  {
   "cell_type": "code",
   "execution_count": 1,
   "metadata": {},
   "outputs": [],
   "source": [
    "import proveit\n",
    "context = proveit.Context('..') # the theorem's context is in the parent directory"
   ]
  },
  {
   "cell_type": "code",
   "execution_count": 2,
   "metadata": {},
   "outputs": [
    {
     "name": "stdout",
     "output_type": "stream",
     "text": [
      "Beginning proof of add_8_3\n",
      "Recorded 'presuming' information\n",
      "Presuming previous theorems (applied transitively).\n"
     ]
    },
    {
     "data": {
      "text/html": [
       "<strong id=\"add_8_3\">add_8_3:</strong> <a class=\"ProveItLink\" href=\"../__pv_it/60895cd70bf24a45fcd7ad6d6ee652e7e091e2ae0/expr.ipynb\"><img src=\"data:image/png;base64,iVBORw0KGgoAAAANSUhEUgAAAGsAAAAUBAMAAAB45d4rAAAAMFBMVEX////MzMxUVFR2dna6uroQ\n",
       "EBCqqqqIiIgiIiJmZmYyMjJERETu7u6YmJjc3NwAAACgK8IjAAAAAXRSTlMAQObYZgAAAVlJREFU\n",
       "OMtjYOC7wIAdsD1gwANOMzAcL56CJvjYeBsDgx4+besYGCYwMCWgiPFNYMi/wHAKU3HqASjBO4GB\n",
       "7QIDzwKIcDqEYv/GwN/AwFyApolHWf8AhGDgeMDAvIGBpwFFG0sIA/8CBp4ADNvuH4ASL4CKfh9g\n",
       "voCiDQiAjmRYgltbJZDW/2vGgKaNpxlIWOLWthdIM/9fg6aNz2IOkLwFYjKvAoMJqNragHSmx1cH\n",
       "dEeWAkUycNsWAgxMBYb6GCDXatWq1lWrFkEUsAJF5PFqYz3AwPgNxTa+Bwzc3/BqAzryPJCpi6KN\n",
       "/w9YmweS3xQwgoQVmPj2oWhj3cDA8QcaJNhtAwYyyxoG3gIUbbwXwPE2GUNb/QEoAXKI0OQpaBHg\n",
       "OXMLkFyIrmtS/MoLEIIDJXukoyTBBtwZgHcCMu8MMgcjKSODfThlThHIpiQbCIpaXIUCL55CAQCg\n",
       "G3tE7gH/KAAAAABJRU5ErkJggg==\n",
       "\" style=\"display:inline;vertical-align:middle;\" /></a><br>(see <a class=\"ProveItLink\" href=\"../__pv_it/60895cd70bf24a45fcd7ad6d6ee652e7e091e2ae0/dependencies.ipynb\">dependencies</a>)<br>"
      ],
      "text/plain": [
       "add_8_3: (8 + 3) = 11"
      ]
     },
     "execution_count": 2,
     "metadata": {},
     "output_type": "execute_result"
    }
   ],
   "source": [
    "%proving add_8_3 presuming []"
   ]
  },
  {
   "cell_type": "code",
   "execution_count": null,
   "metadata": {},
   "outputs": [],
   "source": []
  }
 ],
 "metadata": {
  "kernelspec": {
   "display_name": "Python 3",
   "language": "python",
   "name": "python3"
  }
 },
 "nbformat": 4,
 "nbformat_minor": 0
}
