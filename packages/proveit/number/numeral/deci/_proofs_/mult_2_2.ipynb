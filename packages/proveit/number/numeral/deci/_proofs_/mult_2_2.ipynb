{
 "cells": [
  {
   "cell_type": "markdown",
   "metadata": {},
   "source": [
    "Proof of <a class=\"ProveItLink\" href=\"../../../../_context_.ipynb\">proveit</a>.<a class=\"ProveItLink\" href=\"../../../_context_.ipynb\">number</a>.<a class=\"ProveItLink\" href=\"../../_context_.ipynb\">numeral</a>.<a class=\"ProveItLink\" href=\"../_context_.ipynb\">deci</a>.<a class=\"ProveItLink\" href=\"../_theorems_.ipynb#mult_2_2\">mult_2_2</a> theorem\n",
    "========"
   ]
  },
  {
   "cell_type": "code",
   "execution_count": 1,
   "metadata": {},
   "outputs": [],
   "source": [
    "import proveit\n",
    "context = proveit.Context('..') # the theorem's context is in the parent directory"
   ]
  },
  {
   "cell_type": "code",
   "execution_count": 2,
   "metadata": {},
   "outputs": [
    {
     "name": "stdout",
     "output_type": "stream",
     "text": [
      "Beginning proof of mult_2_2\n",
      "Recorded 'presuming' information\n",
      "Presuming previous theorems (applied transitively).\n"
     ]
    },
    {
     "data": {
      "text/html": [
       "<strong id=\"mult_2_2\">mult_2_2:</strong> <a class=\"ProveItLink\" href=\"../__pv_it/335c18e8408f64eca5eacb1cefb6d1db7d2d213d0/expr.ipynb\"><img src=\"data:image/png;base64,iVBORw0KGgoAAAANSUhEUgAAAFcAAAAUBAMAAAAKKrydAAAAMFBMVEX///9UVFTMzMx2dna6uroQ\n",
       "EBCqqqqIiIgiIiJmZmYyMjJERETu7u6YmJjc3NwAAAC+aOQFAAAAAXRSTlMAQObYZgAAAVZJREFU\n",
       "KM91k61Pw0AYxp/SdR+lWyZBrQn/QJOJZRgmcSAgAYvDkBnEDCkhwXLIBhJAgmAESxhFkEAQTCOW\n",
       "yinCl0AslLsbd4Xe9RHN9ckv1/d537dApQ9FG8jQI/BwcClfneDKhRGp3AShj3M4Vcy1hHcL8xPO\n",
       "sQoXq0CZoBTCWhTeIbAMNFR4k8LFCJYP41t4K0Atwp3CVp4pPATsEYx3YXZD1FzYrTRs2hTujAsa\n",
       "/fH3QpgkDQ8YfM2PC15i5z5oEp5w9ozplDepzeBdDmxzI4md99NVgMFL7FjiX30aNyxgTX1NwWsJ\n",
       "3JFXAgWigR0Poow8wYv011GJkPOTmk8YMR0crbZ5wBlgS07VQyH6DfhPFr25Sfu9U9+XgYb15hQN\n",
       "4anwBTBPhxLHsYS7cfxFLVcZys1bn41bo3v9hpaJzm1k7HNP4+lWVCy/oskoA9b9VgM9+gPDDlEP\n",
       "1h47eQAAAABJRU5ErkJggg==\n",
       "\" style=\"display:inline;vertical-align:middle;\" /></a><br>(see <a class=\"ProveItLink\" href=\"../__pv_it/335c18e8408f64eca5eacb1cefb6d1db7d2d213d0/dependencies.ipynb\">dependencies</a>)<br>"
      ],
      "text/plain": [
       "mult_2_2: (2 * 2) = 4"
      ]
     },
     "execution_count": 2,
     "metadata": {},
     "output_type": "execute_result"
    }
   ],
   "source": [
    "%proving mult_2_2 presuming []"
   ]
  },
  {
   "cell_type": "code",
   "execution_count": null,
   "metadata": {},
   "outputs": [],
   "source": []
  }
 ],
 "metadata": {
  "kernelspec": {
   "display_name": "Python 3",
   "language": "python",
   "name": "python3"
  }
 },
 "nbformat": 4,
 "nbformat_minor": 0
}
