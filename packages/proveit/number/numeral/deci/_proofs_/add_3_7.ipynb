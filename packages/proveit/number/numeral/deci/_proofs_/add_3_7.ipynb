{
 "cells": [
  {
   "cell_type": "markdown",
   "metadata": {},
   "source": [
    "Proof of <a class=\"ProveItLink\" href=\"../../../../_context_.ipynb\">proveit</a>.<a class=\"ProveItLink\" href=\"../../../_context_.ipynb\">number</a>.<a class=\"ProveItLink\" href=\"../../_context_.ipynb\">numeral</a>.<a class=\"ProveItLink\" href=\"../_context_.ipynb\">decimal</a>.<a class=\"ProveItLink\" href=\"../_theorems_.ipynb#add_3_7\">add_3_7</a> theorem\n",
    "========"
   ]
  },
  {
   "cell_type": "code",
   "execution_count": 1,
   "metadata": {},
   "outputs": [],
   "source": [
    "import proveit\n",
    "context = proveit.Context('..') # the theorem's context is in the parent directory"
   ]
  },
  {
   "cell_type": "code",
   "execution_count": 2,
   "metadata": {},
   "outputs": [
    {
     "name": "stdout",
     "output_type": "stream",
     "text": [
      "Beginning proof of add_3_7\n",
      "Recorded 'presuming' information\n",
      "Presuming previous theorems (applied transitively).\n"
     ]
    },
    {
     "data": {
      "text/html": [
       "<strong id=\"add_3_7\">add_3_7:</strong> <a class=\"ProveItLink\" href=\"../__pv_it/90fcdf12d8693094c48c244c53abe05e789c3ea90/expr.ipynb\"><img src=\"data:image/png;base64,iVBORw0KGgoAAAANSUhEUgAAAGwAAAAUBAMAAACaOcVSAAAAMFBMVEX////MzMxUVFR2dna6uroQ\n",
       "EBCqqqqIiIgiIiJmZmYyMjJERETu7u6YmJjc3NwAAACgK8IjAAAAAXRSTlMAQObYZgAAAYBJREFU\n",
       "OMtjYOC7wIAdsD1gwANOMzA8Nt6GKsbYNNnYmEEPuwbmWkMguY6BbwJDPqqVvP/////EcApTS+oB\n",
       "BoZlDCceMPBOYGD/xsDfABFOh1CcQPcpMDAXoGniUdY/wMAbwMC8gIHjAQNLCAP/AhRtzEAkwMAT\n",
       "gGHb/QMM3AoMbH8YXoC5MEemwxW4A/ESbNr4FRhYvjFUgm1vZkDXtgGILbFpOz+BgeU7w14gh89i\n",
       "Dro2ZpD1t8CsVWAwAabtvQED43eGNjC31AFN23kQkYHNtvcTGBg/M4SAuawxQMJq1arWVasWgQWq\n",
       "QIQ8bkcCtfE9YOD+hmZbN05twCBh+wZyJP8fTG2fQIQHkt8U4BGwgYH3DyhIWDcwcPxB1cb4kwEW\n",
       "JOi2QaIbGMi8FzDije0ziJyMoa0emLjaGI4KgB3iOXMLWgTwhYHIhei6JsWvvMBwuFyRAZS4kEA6\n",
       "ShJswJ1veCcg886g5JACPPltH06ZUwSyKckGgnyPq1DgxVMoAAC+J3WlpyHVNAAAAABJRU5ErkJg\n",
       "gg==\n",
       "\" style=\"display:inline;vertical-align:middle;\" /></a><br>(see <a class=\"ProveItLink\" href=\"../__pv_it/90fcdf12d8693094c48c244c53abe05e789c3ea90/dependencies.ipynb\">dependencies</a>)<br>"
      ],
      "text/plain": [
       "add_3_7: (3 + 7) = 10"
      ]
     },
     "execution_count": 2,
     "metadata": {},
     "output_type": "execute_result"
    }
   ],
   "source": [
    "%proving add_3_7 presuming []"
   ]
  },
  {
   "cell_type": "code",
   "execution_count": null,
   "metadata": {},
   "outputs": [],
   "source": []
  }
 ],
 "metadata": {
  "kernelspec": {
   "display_name": "Python 3",
   "language": "python",
   "name": "python3"
  }
 },
 "nbformat": 4,
 "nbformat_minor": 0
}
