{
 "cells": [
  {
   "cell_type": "markdown",
   "metadata": {},
   "source": [
    "Proof of <a class=\"ProveItLink\" href=\"../../../../_context_.ipynb\">proveit</a>.<a class=\"ProveItLink\" href=\"../../../_context_.ipynb\">number</a>.<a class=\"ProveItLink\" href=\"../../_context_.ipynb\">numeral</a>.<a class=\"ProveItLink\" href=\"../_context_.ipynb\">decimal</a>.<a class=\"ProveItLink\" href=\"../_theorems_.ipynb#add_4_7\">add_4_7</a> theorem\n",
    "========"
   ]
  },
  {
   "cell_type": "code",
   "execution_count": 1,
   "metadata": {},
   "outputs": [],
   "source": [
    "import proveit\n",
    "context = proveit.Context('..') # the theorem's context is in the parent directory"
   ]
  },
  {
   "cell_type": "code",
   "execution_count": 2,
   "metadata": {},
   "outputs": [
    {
     "name": "stdout",
     "output_type": "stream",
     "text": [
      "Beginning proof of add_4_7\n",
      "Recorded 'presuming' information\n",
      "Presuming previous theorems (applied transitively).\n"
     ]
    },
    {
     "data": {
      "text/html": [
       "<strong id=\"add_4_7\">add_4_7:</strong> <a class=\"ProveItLink\" href=\"../__pv_it/ca9858de9bfde002db1447a79ba8e6c6cb55bd280/expr.ipynb\"><img src=\"data:image/png;base64,iVBORw0KGgoAAAANSUhEUgAAAGsAAAAUBAMAAAB45d4rAAAAMFBMVEX///9UVFTMzMx2dna6uroQ\n",
       "EBCqqqqIiIgiIiJmZmYyMjJERETu7u6YmJjc3NwAAAC+aOQFAAAAAXRSTlMAQObYZgAAAShJREFU\n",
       "OMtjYOC7wIAdsD1gwANOgwhNVDGmxsnGxgxy+LStAxGNqGK8/////8hwClNx6gEowTsByGAPhAqn\n",
       "QyhOoPsEGJgL0DTxCMsfgBAMHCAfvF2Iqo0ZiBQYeAIwbLt/AEq8APEM0LQBgTsQL8GtrRLklQeY\n",
       "2jYAsSVubXuB9HEGDG3MoGi5BWatAoMJqNraQG7E1HYeRGTgti0EGK8KEG1Wq1a1rloFMaEKROjj\n",
       "1XaYAdO2bgLagI5MnDnz63Q0bR9BhAeS3wQwg4SBAS26GZh+MsCCBLttkECORtPG9hlETsbQVn8A\n",
       "SoAdYv1fFlUbXxiIXISua2L8ygsQggMle6SjJMEG3BmAdwIy7wwyByMpI4N9OGVOEcymJBoI8j2u\n",
       "QoEXT6EAAEPvbrrWtnK+AAAAAElFTkSuQmCC\n",
       "\" style=\"display:inline;vertical-align:middle;\" /></a><br>(see <a class=\"ProveItLink\" href=\"../__pv_it/ca9858de9bfde002db1447a79ba8e6c6cb55bd280/dependencies.ipynb\">dependencies</a>)<br>"
      ],
      "text/plain": [
       "add_4_7: (4 + 7) = 11"
      ]
     },
     "execution_count": 2,
     "metadata": {},
     "output_type": "execute_result"
    }
   ],
   "source": [
    "%proving add_4_7 presuming []"
   ]
  },
  {
   "cell_type": "code",
   "execution_count": null,
   "metadata": {},
   "outputs": [],
   "source": []
  }
 ],
 "metadata": {
  "kernelspec": {
   "display_name": "Python 3",
   "language": "python",
   "name": "python3"
  }
 },
 "nbformat": 4,
 "nbformat_minor": 0
}
