{
 "cells": [
  {
   "cell_type": "markdown",
   "metadata": {},
   "source": [
    "Proof of <a class=\"ProveItLink\" href=\"../../../../_context_.ipynb\">proveit</a>.<a class=\"ProveItLink\" href=\"../../../_context_.ipynb\">number</a>.<a class=\"ProveItLink\" href=\"../../_context_.ipynb\">numeral</a>.<a class=\"ProveItLink\" href=\"../_context_.ipynb\">decimal</a>.<a class=\"ProveItLink\" href=\"../_theorems_.ipynb#nat8\">nat8</a> theorem\n",
    "========"
   ]
  },
  {
   "cell_type": "code",
   "execution_count": 1,
   "metadata": {},
   "outputs": [],
   "source": [
    "import proveit\n",
    "context = proveit.Context('..') # the theorem's context is in the parent directory"
   ]
  },
  {
   "cell_type": "code",
   "execution_count": 2,
   "metadata": {},
   "outputs": [
    {
     "name": "stdout",
     "output_type": "stream",
     "text": [
      "Beginning proof of nat8\n",
      "Recorded 'presuming' information\n",
      "Presuming previous theorems (applied transitively).\n"
     ]
    },
    {
     "data": {
      "text/html": [
       "<strong id=\"nat8\">nat8:</strong> <a class=\"ProveItLink\" href=\"../__pv_it/9ed57d23387870a7da1865e6363250b070ea27590/expr.ipynb\"><img src=\"data:image/png;base64,iVBORw0KGgoAAAANSUhEUgAAADMAAAAPBAMAAAC7N+rPAAAAMFBMVEX////c3NzMzMwQEBAiIiJE\n",
       "REQyMjKYmJiqqqpUVFS6urpmZmZ2dnaIiIju7u4AAACLnIg+AAAAAXRSTlMAQObYZgAAAO5JREFU\n",
       "GNNjYHh7ZxcDCnj2NewBw+HPCxgYNjBwNqDKhTNNYOD7wMDAUcDAl4AqNUXhLgODAQMDTwADnwNY\n",
       "hD3ExQ3MmBXHqcAAFOP6+oCnACTAFPsAqmuiJl8eSIph/vcTENthMgwTOS5ogqV4/udBBOB2TWQ4\n",
       "xX4BJNW9BOROBoYAJCnOB5OAUuwTGO7bgawySwMCqBTfBDagC5kfMDD9APIZkXUx6DABpd4D2dNB\n",
       "AgbIUuwNQJXMAgwMgSCBvXCpSUB8ECjFlcfAfgEkwAIPrgwg5gaFkOYeSPDyTV0HkVH5DNSBGnhc\n",
       "R6EBBQUAw508LhqHmOAAAAAASUVORK5CYII=\n",
       "\" style=\"display:inline;vertical-align:middle;\" /></a><br>(see <a class=\"ProveItLink\" href=\"../__pv_it/9ed57d23387870a7da1865e6363250b070ea27590/dependencies.ipynb\">dependencies</a>)<br>"
      ],
      "text/plain": [
       "nat8: 8 in Naturals"
      ]
     },
     "execution_count": 2,
     "metadata": {},
     "output_type": "execute_result"
    }
   ],
   "source": [
    "%proving nat8 presuming []"
   ]
  },
  {
   "cell_type": "code",
   "execution_count": null,
   "metadata": {},
   "outputs": [],
   "source": []
  }
 ],
 "metadata": {
  "kernelspec": {
   "display_name": "Python 3",
   "language": "python",
   "name": "python3"
  }
 },
 "nbformat": 4,
 "nbformat_minor": 0
}
