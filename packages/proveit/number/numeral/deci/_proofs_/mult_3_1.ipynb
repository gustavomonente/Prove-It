{
 "cells": [
  {
   "cell_type": "markdown",
   "metadata": {},
   "source": [
    "Proof of <a class=\"ProveItLink\" href=\"../../../../_context_.ipynb\">proveit</a>.<a class=\"ProveItLink\" href=\"../../../_context_.ipynb\">number</a>.<a class=\"ProveItLink\" href=\"../../_context_.ipynb\">numeral</a>.<a class=\"ProveItLink\" href=\"../_context_.ipynb\">deci</a>.<a class=\"ProveItLink\" href=\"../_theorems_.ipynb#mult_3_1\">mult_3_1</a> theorem\n",
    "========"
   ]
  },
  {
   "cell_type": "code",
   "execution_count": 1,
   "metadata": {},
   "outputs": [],
   "source": [
    "import proveit\n",
    "context = proveit.Context('..') # the theorem's context is in the parent directory"
   ]
  },
  {
   "cell_type": "code",
   "execution_count": 2,
   "metadata": {},
   "outputs": [
    {
     "name": "stdout",
     "output_type": "stream",
     "text": [
      "Beginning proof of mult_3_1\n",
      "Recorded 'presuming' information\n",
      "Presuming previous theorems (applied transitively).\n"
     ]
    },
    {
     "data": {
      "text/html": [
       "<strong id=\"mult_3_1\">mult_3_1:</strong> <a class=\"ProveItLink\" href=\"../__pv_it/36bfff68e39d2579146175c30ab5d2fdff5f2d6d0/expr.ipynb\"><img src=\"data:image/png;base64,iVBORw0KGgoAAAANSUhEUgAAAFcAAAAUBAMAAAAKKrydAAAAMFBMVEX////MzMxUVFR2dna6uroQ\n",
       "EBCqqqqIiIgiIiJmZmYyMjJERETu7u6YmJjc3NwAAACgK8IjAAAAAXRSTlMAQObYZgAAAUVJREFU\n",
       "KM9jYOC7wIAB8hhwgNMMDI+Nt6GKMT1AV8VnbJ0ApNYx8E1gyEcYzxbDwMCzAF3xSwa2vwwMvBMY\n",
       "2L8x8DfARA8Z/QGS5uiK6xMYfjAwcDxgYAlh4EcYxQtSfBRdsasDwy8GhhdgNpIzwIq5HDD8BnJG\n",
       "JYjB08yAqph5AobiEwYMDHtBXrWYg6aYF+wsq1UgsBIs/LjzAANDG5hZCrKWB6GYrQHDZPYQBoYQ\n",
       "MIsVGF4M5xfAFTN+wIyQ0AMgxXwPGLi/AXkcCrgVv2Ng2J8Acgb/H4hiJDezNCDcvAjE/H8ApBjo\n",
       "QdYNDBx/sHkQCUQzMPQfYLAEylxADmd2kGJOAzTFd8Hh7AFkec7cAhflVP01FxgpAmiKWWbOdgBH\n",
       "NxZwAnsK5Z2ATdQcR3reh0UMM4kiEj8G4H6AQzG2bHUPu1IACDJaNrtRDcsAAAAASUVORK5CYII=\n",
       "\" style=\"display:inline;vertical-align:middle;\" /></a><br>(see <a class=\"ProveItLink\" href=\"../__pv_it/36bfff68e39d2579146175c30ab5d2fdff5f2d6d0/dependencies.ipynb\">dependencies</a>)<br>"
      ],
      "text/plain": [
       "mult_3_1: (3 * 1) = 3"
      ]
     },
     "execution_count": 2,
     "metadata": {},
     "output_type": "execute_result"
    }
   ],
   "source": [
    "%proving mult_3_1 presuming []"
   ]
  },
  {
   "cell_type": "code",
   "execution_count": null,
   "metadata": {},
   "outputs": [],
   "source": []
  }
 ],
 "metadata": {
  "kernelspec": {
   "display_name": "Python 3",
   "language": "python",
   "name": "python3"
  }
 },
 "nbformat": 4,
 "nbformat_minor": 0
}
