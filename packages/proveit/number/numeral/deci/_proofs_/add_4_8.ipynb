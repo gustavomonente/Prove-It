{
 "cells": [
  {
   "cell_type": "markdown",
   "metadata": {},
   "source": [
    "Proof of <a class=\"ProveItLink\" href=\"../../../../_context_.ipynb\">proveit</a>.<a class=\"ProveItLink\" href=\"../../../_context_.ipynb\">number</a>.<a class=\"ProveItLink\" href=\"../../_context_.ipynb\">numeral</a>.<a class=\"ProveItLink\" href=\"../_context_.ipynb\">decimal</a>.<a class=\"ProveItLink\" href=\"../_theorems_.ipynb#add_4_8\">add_4_8</a> theorem\n",
    "========"
   ]
  },
  {
   "cell_type": "code",
   "execution_count": 1,
   "metadata": {},
   "outputs": [],
   "source": [
    "import proveit\n",
    "context = proveit.Context('..') # the theorem's context is in the parent directory"
   ]
  },
  {
   "cell_type": "code",
   "execution_count": 2,
   "metadata": {},
   "outputs": [
    {
     "name": "stdout",
     "output_type": "stream",
     "text": [
      "Beginning proof of add_4_8\n",
      "Recorded 'presuming' information\n",
      "Presuming previous theorems (applied transitively).\n"
     ]
    },
    {
     "data": {
      "text/html": [
       "<strong id=\"add_4_8\">add_4_8:</strong> <a class=\"ProveItLink\" href=\"../__pv_it/abe48525015853035436a36d9022e9756a86d1410/expr.ipynb\"><img src=\"data:image/png;base64,iVBORw0KGgoAAAANSUhEUgAAAGwAAAAUBAMAAACaOcVSAAAAMFBMVEX///9UVFTMzMx2dna6uroQ\n",
       "EBCqqqqIiIgiIiJmZmYyMjJERETu7u6YmJjc3NwAAAC+aOQFAAAAAXRSTlMAQObYZgAAAX1JREFU\n",
       "OMuVlDFIw0AUhv8YU9uSlIJzreLkZEEQ1MGO3azgpqAOUt0EJxcbEZ1TKkhxUXExFBF3S8BBrIKZ\n",
       "XezoooNQF6vxXRJKckkqPsjj3h1f3rv/3h2QMhFusRZ62ANzY9zk3dYhMBQO3B9fk79kw11uSYOw\n",
       "gmYQWTMgpzGbh6JRNDDvTpfc+kzIJxA3OUgezBpIGJCKiLMdvJ36MfEKsgq5GMj2QowK4QevLMpx\n",
       "WP+XIZJS52FYsgPhA9sUKC0OQ/Z7kvxUGEYW7+CG6QYeE606+Wd7qNumebC5HA5YjQFso9DOA+sR\n",
       "2Uj3BdJt2MGmdX1f19lQSaO8BIyHYwnNxm7BZ5MM9H1GYkwOKnK1Vmsf+bAn+jJAwbO3dBeLaXi3\n",
       "JQG445boMBuuJIFso8COK/Iid251KNQi1QBWNpDam6ioTiEzVsav5EiVWhlnPFVZvjCTlmWpTnN1\n",
       "reRrQTX63iiaN3r0BoFW9lojcqX55zX95w/JIh8Fpcej8At6h3NvkMyxOwAAAABJRU5ErkJggg==\n",
       "\" style=\"display:inline;vertical-align:middle;\" /></a><br>(see <a class=\"ProveItLink\" href=\"../__pv_it/abe48525015853035436a36d9022e9756a86d1410/dependencies.ipynb\">dependencies</a>)<br>"
      ],
      "text/plain": [
       "add_4_8: (4 + 8) = 12"
      ]
     },
     "execution_count": 2,
     "metadata": {},
     "output_type": "execute_result"
    }
   ],
   "source": [
    "%proving add_4_8 presuming []"
   ]
  },
  {
   "cell_type": "code",
   "execution_count": null,
   "metadata": {},
   "outputs": [],
   "source": []
  }
 ],
 "metadata": {
  "kernelspec": {
   "display_name": "Python 3",
   "language": "python",
   "name": "python3"
  }
 },
 "nbformat": 4,
 "nbformat_minor": 0
}
