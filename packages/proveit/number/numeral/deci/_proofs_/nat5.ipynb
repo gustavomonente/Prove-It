{
 "cells": [
  {
   "cell_type": "markdown",
   "metadata": {},
   "source": [
    "Proof of <a class=\"ProveItLink\" href=\"../../../../_context_.ipynb\">proveit</a>.<a class=\"ProveItLink\" href=\"../../../_context_.ipynb\">number</a>.<a class=\"ProveItLink\" href=\"../../_context_.ipynb\">numeral</a>.<a class=\"ProveItLink\" href=\"../_context_.ipynb\">decimal</a>.<a class=\"ProveItLink\" href=\"../_theorems_.ipynb#nat5\">nat5</a> theorem\n",
    "========"
   ]
  },
  {
   "cell_type": "code",
   "execution_count": 1,
   "metadata": {},
   "outputs": [],
   "source": [
    "import proveit\n",
    "context = proveit.Context('..') # the theorem's context is in the parent directory"
   ]
  },
  {
   "cell_type": "code",
   "execution_count": 2,
   "metadata": {},
   "outputs": [
    {
     "name": "stdout",
     "output_type": "stream",
     "text": [
      "Beginning proof of nat5\n",
      "Recorded 'presuming' information\n",
      "Presuming previous theorems (applied transitively).\n"
     ]
    },
    {
     "data": {
      "text/html": [
       "<strong id=\"nat5\">nat5:</strong> <a class=\"ProveItLink\" href=\"../__pv_it/c2517d364df53dacf05b110c9df4445e3d5f59540/expr.ipynb\"><img src=\"data:image/png;base64,iVBORw0KGgoAAAANSUhEUgAAADIAAAAPBAMAAABU9YHxAAAAMFBMVEX///8iIiK6urpERETc3NyI\n",
       "iIhUVFR2dnYQEBCqqqpmZmbMzMzu7u6YmJgyMjIAAABZcJOfAAAAAXRSTlMAQObYZgAAANpJREFU\n",
       "GNNj4LvDvZIBGfC8N37DwN7fxMDx/38BigwD84VtDAznGRj4ykJQJRjYpFkDGDiANFzksqDgA7CM\n",
       "8oFsBkYkmc0xMD3eCecOgGTuRm0AW/wGbprDVO4EoAzzAZZPED5Chl3hKiOYaQh2EcIFDgw5bBvB\n",
       "zPUg5TveAcEDqMwxhhcMDHkMDPUKQL4zsh7ugh0MDH1APQeAfA5kGYabQMMXMDDIgfhcAXAZoFvZ\n",
       "gUZ4MfC2gAUkYTJ8E4DEOgYGluVZB8ACx4wgNLd8M5A8hxxe6oaQ0IECADzbM1HlfW9lAAAAAElF\n",
       "TkSuQmCC\n",
       "\" style=\"display:inline;vertical-align:middle;\" /></a><br>(see <a class=\"ProveItLink\" href=\"../__pv_it/c2517d364df53dacf05b110c9df4445e3d5f59540/dependencies.ipynb\">dependencies</a>)<br>"
      ],
      "text/plain": [
       "nat5: 5 in Naturals"
      ]
     },
     "execution_count": 2,
     "metadata": {},
     "output_type": "execute_result"
    }
   ],
   "source": [
    "%proving nat5 presuming []"
   ]
  },
  {
   "cell_type": "code",
   "execution_count": null,
   "metadata": {},
   "outputs": [],
   "source": []
  }
 ],
 "metadata": {
  "kernelspec": {
   "display_name": "Python 3",
   "language": "python",
   "name": "python3"
  }
 },
 "nbformat": 4,
 "nbformat_minor": 0
}
