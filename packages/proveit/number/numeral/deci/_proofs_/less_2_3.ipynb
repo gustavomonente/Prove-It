{
 "cells": [
  {
   "cell_type": "markdown",
   "metadata": {},
   "source": [
    "Proof of <a class=\"ProveItLink\" href=\"../../../../_context_.ipynb\">proveit</a>.<a class=\"ProveItLink\" href=\"../../../_context_.ipynb\">number</a>.<a class=\"ProveItLink\" href=\"../../_context_.ipynb\">numeral</a>.<a class=\"ProveItLink\" href=\"../_context_.ipynb\">decimal</a>.<a class=\"ProveItLink\" href=\"../_theorems_.ipynb#less_2_3\">less_2_3</a> theorem\n",
    "========"
   ]
  },
  {
   "cell_type": "code",
   "execution_count": 1,
   "metadata": {},
   "outputs": [],
   "source": [
    "import proveit\n",
    "context = proveit.Context('..') # the theorem's context is in the parent directory"
   ]
  },
  {
   "cell_type": "code",
   "execution_count": 2,
   "metadata": {},
   "outputs": [
    {
     "name": "stdout",
     "output_type": "stream",
     "text": [
      "Beginning proof of less_2_3\n",
      "Recorded 'presuming' information\n",
      "Presuming previous theorems (applied transitively).\n"
     ]
    },
    {
     "data": {
      "text/html": [
       "<strong id=\"less_2_3\">less_2_3:</strong> <a class=\"ProveItLink\" href=\"../__pv_it/09562e4610fc123f904c6f39335f040aa9bfa81c0/expr.ipynb\"><img src=\"data:image/png;base64,iVBORw0KGgoAAAANSUhEUgAAADAAAAAOBAMAAACbXIJpAAAAMFBMVEX///+YmJiqqqqIiIgyMjLc\n",
       "3NwiIiIQEBC6urp2dnZUVFTMzMxERERmZmbu7u4AAADrYmUNAAAAAXRSTlMAQObYZgAAALhJREFU\n",
       "GNNj4Lt7ZgMDGoiceYiB4RUD5w80cdYLDPoCDPcYGMoRYiog3cyfGPgTGMoYGNYHwMTFroJIjgoG\n",
       "fgcG/wcM62GWmM2DqQAaBQT5D8AcvmkGMHG+TLDOnxDONQG47dPugSi2BWDeEgUkh5k3AIm7EA0o\n",
       "Eux1QMddgOqHG8UawMDziYFBF8RAsZz/H0iCewIDcwCqc9kPMLD9YwibOXcZA6oHGQVA/vD///8b\n",
       "WpAw9N49wQAAOKUvinSXmHsAAAAASUVORK5CYII=\n",
       "\" style=\"display:inline;vertical-align:middle;\" /></a><br>(see <a class=\"ProveItLink\" href=\"../__pv_it/09562e4610fc123f904c6f39335f040aa9bfa81c0/dependencies.ipynb\">dependencies</a>)<br>"
      ],
      "text/plain": [
       "less_2_3: 2 < 3"
      ]
     },
     "execution_count": 2,
     "metadata": {},
     "output_type": "execute_result"
    }
   ],
   "source": [
    "%proving less_2_3 presuming []"
   ]
  },
  {
   "cell_type": "code",
   "execution_count": null,
   "metadata": {},
   "outputs": [],
   "source": []
  }
 ],
 "metadata": {
  "kernelspec": {
   "display_name": "Python 3",
   "language": "python",
   "name": "python3"
  }
 },
 "nbformat": 4,
 "nbformat_minor": 0
}
