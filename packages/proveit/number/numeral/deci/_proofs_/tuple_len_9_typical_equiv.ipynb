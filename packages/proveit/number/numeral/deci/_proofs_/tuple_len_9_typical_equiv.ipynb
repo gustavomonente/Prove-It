{
 "cells": [
  {
   "cell_type": "markdown",
   "metadata": {},
   "source": [
    "Proof of <a class=\"ProveItLink\" href=\"../../../../_context_.ipynb\">proveit</a>.<a class=\"ProveItLink\" href=\"../../../_context_.ipynb\">number</a>.<a class=\"ProveItLink\" href=\"../../_context_.ipynb\">numeral</a>.<a class=\"ProveItLink\" href=\"../_context_.ipynb\">deci</a>.<a class=\"ProveItLink\" href=\"../_theorems_.ipynb#tuple_len_9_typical_equiv\">tuple_len_9_typical_equiv</a> theorem\n",
    "========"
   ]
  },
  {
   "cell_type": "code",
   "execution_count": 1,
   "metadata": {},
   "outputs": [],
   "source": [
    "import proveit\n",
    "context = proveit.Context('..') # the theorem's context is in the parent directory"
   ]
  },
  {
   "cell_type": "code",
   "execution_count": 2,
   "metadata": {},
   "outputs": [
    {
     "name": "stdout",
     "output_type": "stream",
     "text": [
      "Beginning proof of tuple_len_9_typical_equiv\n",
      "Recorded 'presuming' information\n",
      "Presuming previous theorems (applied transitively).\n"
     ]
    },
    {
     "data": {
      "text/html": [
       "<strong id=\"tuple_len_9_typical_equiv\">tuple_len_9_typical_equiv:</strong> <a class=\"ProveItLink\" href=\"../__pv_it/108354efd1c5009b3e56721986aad79ec517dcb00/expr.ipynb\"><img src=\"data:image/png;base64,iVBORw0KGgoAAAANSUhEUgAAAd4AAAAWBAMAAACcfOCdAAAAMFBMVEX///8QEBCIiIhmZma6urrM\n",
       "zMxUVFQiIiJERETc3Nzu7u6qqqp2dnaYmJgyMjIAAAAcRTyBAAAAAXRSTlMAQObYZgAABbJJREFU\n",
       "WMPVWF1oXEUUPvu/O/feTUChPypsExoFqywpFStNG/RBEMTNi1hR9jYYsNjIIv7Qxoe1BWkq6pWC\n",
       "DfjTW4NRqriLPkhF65KE+tNUlu2DVahdaPtgSmKoiZhtGzzztzt3795NYJsHB3buN2fOzJlv5syZ\n",
       "mQW4WelJWN0Usls0eDMHGCvCJAMfrALTEyzXe+vEKzaoWUKfgjKF51sd0qfCPMmqwjUNNJ+4xSUi\n",
       "3VvrJa9lqvhZCFvefB0GG6TRqd0Au6U+gtMUTrfK909hPm6p0ouNVK+5JOHTLlk8WYWDQMrefKlB\n",
       "bb3nuMgd8I4NX0h9BCPUG7Mt0jWSwvzZZagBBCsuUe6ReirQlldL49580eDYqYrnwMLtEE6CnhD6\n",
       "COIYBvR8i3wjljC/dxlqaCvjEn3v1nrMEZyOefOlBg1vvm1l0OeAtAt9BMbPx48fadWdjwjzscwy\n",
       "1ByeKtMPsIwo3uvFlxlswjeXBf8iwCWpj+DfgwdfbZVvp+jOT8kcntjAVyfe3ykcR+/YyMHh8bQQ\n",
       "fd4hg9TZNZtlIO2+W+ysi9/dxSMB6URf1JNefJnBJnx9uL7zABNSH8EAwHDVA2cd2jtSSiFwpoY3\n",
       "JGo8aXpTdBctYh/r4C8xudNkkZ9WQ/AW738dvM3nIrgX3pe9XZXgRzjKV58sWWGTz1QQfdEoS776\n",
       "LEtJUAw244vOHL8B8IfUR/CQiH8sTTi9wRE0Nin7Vcz1TlEeEt1FcPGOFeF+sS9tQSVSgOf4RizC\n",
       "drEl82SLPLsX5PJWZJzSFiDMV/q9AA5Oy3itLzXYjC/sh28xan4t9RFEwF+sVl9xKJ9UC5fUiai7\n",
       "69wquvPhmHbY8AKXbgdynfuJVEcg9s6u0j1SqM1J58tCmguRpI+7kN2G39CcF19qsClfrfQUTmda\n",
       "6iPQi5Fa9aJD2bHaaqcPgzfftUAW5PEb5CfSWqmHdfMc/dMgrKWLcCdIhziaqjpJK3zxSKo4+cbK\n",
       "j9N7SNdleke92mWz8EInd7TjCg8sbKbP/c22yngXLZw6P0A/D5puf8YllQt2AwJsJGKVQa27XhtQ\n",
       "VPZywYIDwn96qxH6dbrZM3X711yxP2PUNMX6TIqFGn4GR/JSiDby72MB78VQe1VEpgnr3WD7qYuP\n",
       "aNZmtAsVd7wi1yBc5jfeebpfOXHQGN9aHbq1X7pxonYOixvKBYDbDZs30dV4Vb++y8UrYz2kLWe8\n",
       "gq9w9gLJEJ3DaIJ2HchCionoMR0e5JfrAJ2I2CK8wZlso6XPMorj0+7owbEffjULZIndBA8AA/cB\n",
       "2cJAre5eIFshVxaLydVyFvoekz2PJnQGg3P4IAgUvPiyk8qPfFkzmvGeZMk/TWYQbpP6FNCI4Mv7\n",
       "TbYdAiYtsGmXIuF1bCYzbBvjRAwxWULZz5PC8cY6dvb3wiu4OqObsA0F+pkSB7U6fw9OY2Qfu0vR\n",
       "jMqC/VMZLkN/mUpwOIh9xFNefKnBwK6lHq4boQN+WQImmtpMm12W+hRQx8lZ0d/x02ZTrm3sqJci\n",
       "C5hj+ZhNk625Pxubo8Xcx573Sc32BAr6hp+6VVk0KWRKNaZPmt8nHbrgbg4kI++T0iF9VvpRGLEj\n",
       "9jnM8fqWHLFR9DQWonlixg6xI2jE1ky8BqAsYWQLKDype74XdG+gIPRTzZyRshRz7QKo1St4Lzh1\n",
       "wd3c8V4QF6v+L3ugLx/aU8A81l2y+/JCRLo7IHQbc9m+PHT/UsRP3IrtsVE49pPscViYj8r34Efg\n",
       "CWqIoPnIobKQ6RUaDEkC1Gr2bfIelAaVZvXNwfEeVFPelYuPxicyz91aVGnN3vvVK4wb1JBBf52W\n",
       "kAUH6XXbUIKrPLBW8N43GsRmUFaD6w83+N9DzeXnBMwM0MK79MolZOJvlur/ORtX7f+c31juT9WJ\n",
       "V2zQsIS+YTWYEDWXnyKMJ2jhw9IDtXkrwv8w/QcXNORKfzT6JQAAAABJRU5ErkJggg==\n",
       "\" style=\"display:inline;vertical-align:middle;\" /></a><br>(see <a class=\"ProveItLink\" href=\"../__pv_it/108354efd1c5009b3e56721986aad79ec517dcb00/dependencies.ipynb\">dependencies</a>)<br>"
      ],
      "text/plain": [
       "tuple_len_9_typical_equiv: forall_{a, b, c, d, e, f, g, h, i} (|(a, b, c, d, e, f, g, h, i)| = |(1, ..k.., 9)|)"
      ]
     },
     "execution_count": 2,
     "metadata": {},
     "output_type": "execute_result"
    }
   ],
   "source": [
    "%proving tuple_len_9_typical_equiv presuming []"
   ]
  },
  {
   "cell_type": "code",
   "execution_count": null,
   "metadata": {},
   "outputs": [],
   "source": []
  }
 ],
 "metadata": {
  "kernelspec": {
   "display_name": "Python 3",
   "language": "python",
   "name": "python3"
  }
 },
 "nbformat": 4,
 "nbformat_minor": 0
}
