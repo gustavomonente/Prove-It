{
 "cells": [
  {
   "cell_type": "markdown",
   "metadata": {},
   "source": [
    "Proof of <a class=\"ProveItLink\" href=\"../../../../_context_.ipynb\">proveit</a>.<a class=\"ProveItLink\" href=\"../../../_context_.ipynb\">number</a>.<a class=\"ProveItLink\" href=\"../../_context_.ipynb\">numeral</a>.<a class=\"ProveItLink\" href=\"../_context_.ipynb\">deci</a>.<a class=\"ProveItLink\" href=\"../_theorems_.ipynb#mult_6_6\">mult_6_6</a> theorem\n",
    "========"
   ]
  },
  {
   "cell_type": "code",
   "execution_count": 1,
   "metadata": {},
   "outputs": [],
   "source": [
    "import proveit\n",
    "context = proveit.Context('..') # the theorem's context is in the parent directory"
   ]
  },
  {
   "cell_type": "code",
   "execution_count": 2,
   "metadata": {},
   "outputs": [
    {
     "name": "stdout",
     "output_type": "stream",
     "text": [
      "Beginning proof of mult_6_6\n",
      "Recorded 'presuming' information\n",
      "Presuming previous theorems (applied transitively).\n"
     ]
    },
    {
     "data": {
      "text/html": [
       "<strong id=\"mult_6_6\">mult_6_6:</strong> <a class=\"ProveItLink\" href=\"../__pv_it/79b3ea7486a2443bc7eb8b4d50f2250c3bbba2820/expr.ipynb\"><img src=\"data:image/png;base64,iVBORw0KGgoAAAANSUhEUgAAAGEAAAAUBAMAAABvx07iAAAAMFBMVEX///9UVFTMzMx2dna6uroQ\n",
       "EBCqqqqIiIgiIiJmZmYyMjJERETu7u6YmJjc3NwAAAC+aOQFAAAAAXRSTlMAQObYZgAAAYhJREFU\n",
       "KM99k79Lw0AUx7/9QU2aporiXvAPsOpQqksWwc0O1UWH/AUuDtLJToIuBrSDulRxUVBcHETULIWi\n",
       "Q/sPqAEXXaSDQynW+i6XtOUu5JE7cu/zvnf37t4B6SYk20CYvVDLbWb649jWLCKOGJWeWzA5A66B\n",
       "Z0Ot+ih1jmOkqqLiC4kuZ9At4A7ajY80C/e0qKjYNtH2mOIg/jeElt0N1UTFooGOxz5p2sIQunX7\n",
       "pCHlS7virASMnuUO+6AzVaLomCUp6lmPPQCNKyimn3iniR3Kzk19/pLZhQs+dm2P0ddoQV1n0az1\n",
       "gIqNRFlaY6TosSLtqgz9h3wNNnEbeDcQbckXt2JzRgqlCr1LLmWMuj3yNmXFN/Bkcka7ihT4Gq5N\n",
       "uvPEy4M8TtlvzyYFZ5R59Bdq/4CnbVT8zIdsDdi3OcvTcAI1/6wQyaZWATUrKF7ZfXC2xIrvYHzA\n",
       "8jNUlcmMoIgfnRgeU5yggq6HFLtuBXlzYe/jMcAnV7v4okTTnDBF0Kt9C4n/B1hOcs6LGvXkAAAA\n",
       "AElFTkSuQmCC\n",
       "\" style=\"display:inline;vertical-align:middle;\" /></a><br>(see <a class=\"ProveItLink\" href=\"../__pv_it/79b3ea7486a2443bc7eb8b4d50f2250c3bbba2820/dependencies.ipynb\">dependencies</a>)<br>"
      ],
      "text/plain": [
       "mult_6_6: (6 * 6) = 36"
      ]
     },
     "execution_count": 2,
     "metadata": {},
     "output_type": "execute_result"
    }
   ],
   "source": [
    "%proving mult_6_6 presuming []"
   ]
  },
  {
   "cell_type": "code",
   "execution_count": null,
   "metadata": {},
   "outputs": [],
   "source": []
  }
 ],
 "metadata": {
  "kernelspec": {
   "display_name": "Python 3",
   "language": "python",
   "name": "python3"
  }
 },
 "nbformat": 4,
 "nbformat_minor": 0
}
