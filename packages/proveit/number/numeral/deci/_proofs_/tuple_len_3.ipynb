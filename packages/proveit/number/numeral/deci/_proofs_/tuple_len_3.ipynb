{
 "cells": [
  {
   "cell_type": "markdown",
   "metadata": {},
   "source": [
    "Proof of <a class=\"ProveItLink\" href=\"../../../../_context_.ipynb\">proveit</a>.<a class=\"ProveItLink\" href=\"../../../_context_.ipynb\">number</a>.<a class=\"ProveItLink\" href=\"../../_context_.ipynb\">numeral</a>.<a class=\"ProveItLink\" href=\"../_context_.ipynb\">deci</a>.<a class=\"ProveItLink\" href=\"../_theorems_.ipynb#tuple_len_3\">tuple_len_3</a> theorem\n",
    "========"
   ]
  },
  {
   "cell_type": "code",
   "execution_count": 1,
   "metadata": {},
   "outputs": [],
   "source": [
    "import proveit\n",
    "from proveit._common_ import a, b, c, i\n",
    "from proveit.core_expr_types.tuples._axioms_ import tuple_len_incr\n",
    "from proveit.number. numeral.deci._theorems_ import tuple_len_2, add_2_1\n",
    "context = proveit.Context('..') # the theorem's context is in the parent directory"
   ]
  },
  {
   "cell_type": "code",
   "execution_count": 2,
   "metadata": {},
   "outputs": [
    {
     "name": "stdout",
     "output_type": "stream",
     "text": [
      "Beginning proof of tuple_len_3\n",
      "Recorded 'presuming' information\n",
      "Presuming previous theorems (applied transitively).\n"
     ]
    },
    {
     "data": {
      "text/html": [
       "<strong id=\"tuple_len_3\">tuple_len_3:</strong> <a class=\"ProveItLink\" href=\"../__pv_it/591bbc4dd86fa2ce8aaa9a333fd6aa98ad2ccef90/expr.ipynb\"><img src=\"data:image/png;base64,iVBORw0KGgoAAAANSUhEUgAAAL8AAAAWBAMAAABj11ATAAAAMFBMVEX///+IiIgiIiIQEBB2dnbu\n",
       "7u5UVFTMzMzc3NwyMjK6urpmZmaYmJiqqqpEREQAAACk/Np2AAAAAXRSTlMAQObYZgAAAAlwSFlz\n",
       "AAAOxAAADsQBlSsOGwAAAuBJREFUSMetVU1oE0EU/vKzZpPdbDYX9aAYArWiFKr4AyIaRawHhT14\n",
       "EcFEEM8RQY9dFHoSyUXxoLK2J0FoIgXBxpocBKVS16I3DxER9KSCPRQUfTM7m2S3M3pxQmbfzsz3\n",
       "vjfvb4G/D51+fLjqE4M5Plz8c2xG2mPPhK86kbPZHJyKj/v07zHhvQqdrwjo26FF7WMpaoOMQD+6\n",
       "4HGznrC32yqC0wKqNYZXs83ImyMjOAPzF3ATuMzYeiqCtoAaneHVQsRfZlNGsMXXVoHFgD+tdPC4\n",
       "gKYiq7NO5HWPjGDGAxGkHJhkW1YZwIaAPogsH4meuiMPcv4naSbtu8rl3SoCoyKgc8yRcxvtYPlW\n",
       "8ak4kC5OAMfkBNOkPF0DHgOfVATMAA5lRs641kqQRatONchwfQwLwMs+waMyG1v53sULdYoPuWAK\n",
       "ei1UmLkXJUj6AjpGag/ACNIzv4JCcJdkBTuBZYWLKIvyhLCcoc3z0TMpT0D3k7tWmD7uuAaqgfSM\n",
       "R3tSUWiHHGS+EYk9FON9aoJUD1UvLIPZIO8OBgkjI7gCfPWRozREo8vqonucuej7el41m0Q0s6GL\n",
       "7oIZ/VqUQUeYrv3g78uSGGi/HUbAXISTVG7aaIYFMDGSYFWzPTMeqLJsAf1ABD6+5F2NEXgUDyaA\n",
       "EjEHLMlusJe7yGQlfI1ibDS5TstmYTd6Wl1kYU1AKROztrkjjSrtr+tYTS5gHqA0bckIXvE6MJgr\n",
       "rDozKlHjPjfokeoXdq4koNN0yXMTUxuQHCGpRWXABKQPF8lX22QEuXlqdkiGDbvqWs/paMFhyguD\n",
       "Nj4qoMl6uPJujaCXlO0aV/vp4k4+xCkknSWasx4qYn1RQM1+/6ysEXgjVBC0+xdqvzmBS36mVaFZ\n",
       "b3fDbma5Avo5/BbYcQE31B+ceJv2h2ahpiegZ8PejLgQNBo5gRVtu3lnMIfjOhLc/XpH1a9MHrFE\n",
       "Xbb3InY0Ztp/GX8A0cO1E2UviKcAAAAASUVORK5CYII=\n",
       "\" style=\"display:inline;vertical-align:middle;\" /></a><br>(see <a class=\"ProveItLink\" href=\"../__pv_it/591bbc4dd86fa2ce8aaa9a333fd6aa98ad2ccef90/dependencies.ipynb\">dependencies</a>)<br>"
      ],
      "text/plain": [
       "tuple_len_3: forall_{a, b, c} (|(a, b, c)| = 3)"
      ]
     },
     "execution_count": 2,
     "metadata": {},
     "output_type": "execute_result"
    }
   ],
   "source": [
    "%proving tuple_len_3 presuming []"
   ]
  },
  {
   "cell_type": "code",
   "execution_count": 3,
   "metadata": {},
   "outputs": [
    {
     "data": {
      "text/html": [
       "<strong id=\"one_spec\">one_spec:</strong> <span style=\"font-size:20px;\"> <a class=\"ProveItLink\" href=\"../__pv_it/d4c5dae3651be53bd8ad7b6c71d3f8e8ebabe8e00/proof.ipynb\" style=\"text-decoration: none\">&#x22A2;&nbsp;</a><a class=\"ProveItLink\" href=\"../__pv_it/a951f284489051f4ab48d5306004de5f0d89bd580/expr.ipynb\"><img src=\"data:image/png;base64,iVBORw0KGgoAAAANSUhEUgAAAGMAAAAVBAMAAACgbk16AAAAMFBMVEX///9UVFREREQiIiIQEBCY\n",
       "mJhmZmYyMjLu7u6qqqrMzMyIiIi6urp2dnbc3NwAAABm9RoHAAAAAXRSTlMAQObYZgAAAAlwSFlz\n",
       "AAAOxAAADsQBlSsOGwAAAYFJREFUOMtjeMAAAnwMqADKf8CADdwBkzvRRHk2IEli1cJ5AUmkyRlu\n",
       "BroWvrSiBVDRdhSJMiBmb8Cm5SED7x+oaCqKxE8gZk3ApkWCgcEFKuqA4o8fINIDmxb/Bgb5B2BR\n",
       "ngJkcV4DEFmKTYswA4P8ArAoG8j3z26/hoizS2+bwMBwEUeI2UNE2QOANvkx6IO9zNBfwfGPgSEc\n",
       "riXZGAQMITq4fkNEmYGmtgQwJENE5zcwAMUnY7eFOQEiynKAgSG/gcEWIprOwPGXgWE9di1pDAgt\n",
       "Tgwcf2DRwgMM5iNYtYDDHuyXCSCDWT9AhL8ysP1AdhiyX+Yy8EECmWkDA8dPBqaCeQygAPgD8hdD\n",
       "EDZbuC4wcDeARXkFGBiqGYITLnB8B/JEGdSAZDY2LY/T0oQhojzAyGvcu056AYMx0Jo2ULQw2GHT\n",
       "Uv///3eoqBVMjLMBlmYNCCT+MHhigTHYAghoYYJlv26Y8CNCWYxDAcoLgAlr4NGyC0w+RY+yB0iS\n",
       "aAAASC1yiQ7Pt0oAAAAASUVORK5CYII=\n",
       "\" style=\"display:inline;vertical-align:middle;\" /></a></span><br>"
      ],
      "text/plain": [
       "one_spec: |- |(a, b)| = 2"
      ]
     },
     "execution_count": 3,
     "metadata": {},
     "output_type": "execute_result"
    }
   ],
   "source": [
    "one_spec = tuple_len_2.specialize({a:a})"
   ]
  },
  {
   "cell_type": "code",
   "execution_count": 4,
   "metadata": {},
   "outputs": [
    {
     "data": {
      "text/html": [
       "<strong id=\"tuple_spec\">tuple_spec:</strong> <span style=\"font-size:20px;\"> <a class=\"ProveItLink\" href=\"../__pv_it/944ea9114ca84d89cba22d53e0928a006e754ee60/proof.ipynb\" style=\"text-decoration: none\">&#x22A2;&nbsp;</a><a class=\"ProveItLink\" href=\"../__pv_it/f37af9af3d840491138cecbe0316790eef9c58430/expr.ipynb\"><img src=\"data:image/png;base64,iVBORw0KGgoAAAANSUhEUgAAAKcAAAAVBAMAAADROuOhAAAAMFBMVEX///9UVFREREQiIiIQEBCY\n",
       "mJhmZmYyMjLu7u6qqqrMzMyIiIi6urp2dnbc3NwAAABm9RoHAAAAAXRSTlMAQObYZgAAAAlwSFlz\n",
       "AAAOxAAADsQBlSsOGwAAAklJREFUOMt1Vb9rE1Ec/3jppZfkEgpFEDI0g4ibkXPQglpaB0HQQyFu\n",
       "Eiymg0ODoBQ6eBXRwcFAZzV/gd4k2CI4uLnE1XY4Lbq4FETaYrR+3/e9HHe5773h8n3v+/l87vvr\n",
       "XhBBrRpylnFEeY7sUtBttt7lQdyQf7YzjlzGpxG8NEicPlrIkjOixKh17vXHTstngUrPwJ+mXA+S\n",
       "m8lAFCXGV1SH6cO1pX16rhj4nZTvILmx26IoMY4Bl0yNfHNaUaItA59LlXE/Rb8sihLjWoAZ3cBS\n",
       "mBSdCBjudpP4ajNFvy+JKsY0MNMXRCd9hhdVn35s/TRVrL/tGfnNL8BnSbSoO3sRgmh1iuGkDfcq\n",
       "TnFP8HzF+adH8RxuAzdj0UVPrdMwDGr2H0nU7jK8QJE99rGoPa8CaHBhgCvAuhRpgXMptCXRUpPh\n",
       "Ex+A5QDntWcJzl82ljnyN5KoYgAdroTnnVnwvKlYtLwbi87DGY7G1NVDNc/Pj7midhtSpO6crmlP\n",
       "BWfvas9vFHmoTLzrYk1V+i9Qi/LTt0I4B7C6L6ESHqr6BqwOF7guRUoMlAeoBFKjGgynIcAqbrQH\n",
       "zh7tjuIE2KCS0UjdlUQVY6fTmZbSL4Z6+Gnc196/rvfh0aufqDFVRnVrk54XxOEnxsPDw7206JHj\n",
       "v+o0E5GGz8aXTzBu1JriZzqburLC5G7HwFtxWhmj6IuirVTc/thdw3BrdLM/w7jxTb5PrSj3v6Jh\n",
       "4E7DnMSvjI2TsmjMyCyLCrfB1vc8iK0j2sg4chm3gP/iKK2n+/yEqQAAAABJRU5ErkJggg==\n",
       "\" style=\"display:inline;vertical-align:middle;\" /></a></span><br>"
      ],
      "text/plain": [
       "tuple_spec: |- |(a, b, c)| = (2 + 1)"
      ]
     },
     "execution_count": 4,
     "metadata": {},
     "output_type": "execute_result"
    }
   ],
   "source": [
    "tuple_spec = tuple_len_incr.specialize({i: one_spec.rhs, a: one_spec.lhs.operands[0], b: c})"
   ]
  },
  {
   "cell_type": "code",
   "execution_count": 5,
   "metadata": {},
   "outputs": [
    {
     "data": {
      "text/html": [
       "<strong id=\"spec\">spec:</strong> <span style=\"font-size:20px;\"> <a class=\"ProveItLink\" href=\"../__pv_it/30704e7ccdc9318389c60fe6806c12d640c98ee10/proof.ipynb\" style=\"text-decoration: none\">&#x22A2;&nbsp;</a><a class=\"ProveItLink\" href=\"../__pv_it/769d2e056a6eb2a08a1e9879ea9588918e85d82e0/expr.ipynb\"><img src=\"data:image/png;base64,iVBORw0KGgoAAAANSUhEUgAAAHUAAAAVBAMAAACK3rzVAAAAMFBMVEX///9UVFREREQiIiIQEBCY\n",
       "mJhmZmYyMjLu7u6qqqrMzMyIiIi6urp2dnbc3NwAAABm9RoHAAAAAXRSTlMAQObYZgAAAAlwSFlz\n",
       "AAAOxAAADsQBlSsOGwAAAahJREFUOMtjeMAAAnwMOABU4gFWyTtgcicuvTwbkFRh1ct5AUmkyRlZ\n",
       "fidWvXx3kw5ARdtRJMqQOewN2PS2MbD+hIqmokj8ROawJmDTu38Cx3eoqAOKF3+gKPPApvfIAQao\n",
       "Xp4CZHFeAxRlpdjDivMrRJQNFFTPbr+G+lB62wSoKbtvMTBcxK73cABElB1I8/gx6IODhaG/guMf\n",
       "JDAtGZIYGMLhepONQcAQLLdacAFElBloT0sAQzLExPkNDL/BDOYLDN4MDJNxuBkazizAuMpvYLCF\n",
       "iKYzcPwFM/LB7liPI234N8D1OjFw/IFFLw8klpwgQYpN7yoGBv0JEP9OAFnF+gEi/pWBDRxLUNsn\n",
       "Y/Evx/8GmF6mDQwcPxmYCuYxgFz5B+T3BrAhDDwMDEHY7HWEu5lXgIGhmiE44QIosTCIMqgxgBlp\n",
       "DAzAOMrGpjcUHr88wNTQuHed9AIGY6B9baDoBTF4b+8GknbY9PKkwfOCFTzkG9AZfAYE8mAYPD1i\n",
       "MNgCCOhlgpUL3QzojEeE8j6HApQXwIDO0MCjdxeYfIqrzGF9gKQKDQAAS5yEaRnN3V8AAAAASUVO\n",
       "RK5CYII=\n",
       "\" style=\"display:inline;vertical-align:middle;\" /></a></span><br>"
      ],
      "text/plain": [
       "spec: |- |(a, b, c)| = 3"
      ]
     },
     "execution_count": 5,
     "metadata": {},
     "output_type": "execute_result"
    }
   ],
   "source": [
    "spec = tuple_spec.applyTransitivity(add_2_1)"
   ]
  },
  {
   "cell_type": "code",
   "execution_count": 6,
   "metadata": {},
   "outputs": [
    {
     "data": {
      "text/html": [
       "<table><tr><th>&nbsp;</th><th>step type</th><th>requirements</th><th>statement</th></tr>\n",
       "<tr><td><a name=\"-0x6ae25328eb63e784_step0\">0</a></td><td>generalizaton</td><td><a href=\"#-0x6ae25328eb63e784_step1\">1</a></td><td><span style=\"font-size:20px;\"> <a class=\"ProveItLink\" href=\"../__pv_it/384ed0499b2f48f21c95006821141fb298bf07e40/proof.ipynb\" style=\"text-decoration: none\">&#x22A2;&nbsp;</a><a class=\"ProveItLink\" href=\"../__pv_it/591bbc4dd86fa2ce8aaa9a333fd6aa98ad2ccef90/expr.ipynb\"><img src=\"data:image/png;base64,iVBORw0KGgoAAAANSUhEUgAAAL8AAAAWBAMAAABj11ATAAAAMFBMVEX///+IiIgiIiIQEBB2dnbu\n",
       "7u5UVFTMzMzc3NwyMjK6urpmZmaYmJiqqqpEREQAAACk/Np2AAAAAXRSTlMAQObYZgAAAAlwSFlz\n",
       "AAAOxAAADsQBlSsOGwAAAuBJREFUSMetVU1oE0EU/vKzZpPdbDYX9aAYArWiFKr4AyIaRawHhT14\n",
       "EcFEEM8RQY9dFHoSyUXxoLK2J0FoIgXBxpocBKVS16I3DxER9KSCPRQUfTM7m2S3M3pxQmbfzsz3\n",
       "vjfvb4G/D51+fLjqE4M5Plz8c2xG2mPPhK86kbPZHJyKj/v07zHhvQqdrwjo26FF7WMpaoOMQD+6\n",
       "4HGznrC32yqC0wKqNYZXs83ImyMjOAPzF3ATuMzYeiqCtoAaneHVQsRfZlNGsMXXVoHFgD+tdPC4\n",
       "gKYiq7NO5HWPjGDGAxGkHJhkW1YZwIaAPogsH4meuiMPcv4naSbtu8rl3SoCoyKgc8yRcxvtYPlW\n",
       "8ak4kC5OAMfkBNOkPF0DHgOfVATMAA5lRs641kqQRatONchwfQwLwMs+waMyG1v53sULdYoPuWAK\n",
       "ei1UmLkXJUj6AjpGag/ACNIzv4JCcJdkBTuBZYWLKIvyhLCcoc3z0TMpT0D3k7tWmD7uuAaqgfSM\n",
       "R3tSUWiHHGS+EYk9FON9aoJUD1UvLIPZIO8OBgkjI7gCfPWRozREo8vqonucuej7el41m0Q0s6GL\n",
       "7oIZ/VqUQUeYrv3g78uSGGi/HUbAXISTVG7aaIYFMDGSYFWzPTMeqLJsAf1ABD6+5F2NEXgUDyaA\n",
       "EjEHLMlusJe7yGQlfI1ibDS5TstmYTd6Wl1kYU1AKROztrkjjSrtr+tYTS5gHqA0bckIXvE6MJgr\n",
       "rDozKlHjPjfokeoXdq4koNN0yXMTUxuQHCGpRWXABKQPF8lX22QEuXlqdkiGDbvqWs/paMFhyguD\n",
       "Nj4qoMl6uPJujaCXlO0aV/vp4k4+xCkknSWasx4qYn1RQM1+/6ysEXgjVBC0+xdqvzmBS36mVaFZ\n",
       "b3fDbma5Avo5/BbYcQE31B+ceJv2h2ahpiegZ8PejLgQNBo5gRVtu3lnMIfjOhLc/XpH1a9MHrFE\n",
       "Xbb3InY0Ztp/GX8A0cO1E2UviKcAAAAASUVORK5CYII=\n",
       "\" style=\"display:inline;vertical-align:middle;\" /></a></span></td></tr>\n",
       "<tr><td><a name=\"-0x6ae25328eb63e784_step1\">1</a></td><td>instantiation</td><td><a href=\"#-0x6ae25328eb63e784_step2\">2</a>, <a href=\"#-0x6ae25328eb63e784_step3\">3</a>, <a href=\"#-0x6ae25328eb63e784_step4\">4</a></td><td><span style=\"font-size:20px;\"> <a class=\"ProveItLink\" href=\"../__pv_it/30704e7ccdc9318389c60fe6806c12d640c98ee10/proof.ipynb\" style=\"text-decoration: none\">&#x22A2;&nbsp;</a><a class=\"ProveItLink\" href=\"../__pv_it/769d2e056a6eb2a08a1e9879ea9588918e85d82e0/expr.ipynb\"><img src=\"data:image/png;base64,iVBORw0KGgoAAAANSUhEUgAAAHUAAAAVBAMAAACK3rzVAAAAMFBMVEX///9UVFREREQiIiIQEBCY\n",
       "mJhmZmYyMjLu7u6qqqrMzMyIiIi6urp2dnbc3NwAAABm9RoHAAAAAXRSTlMAQObYZgAAAAlwSFlz\n",
       "AAAOxAAADsQBlSsOGwAAAahJREFUOMtjeMAAAnwMOABU4gFWyTtgcicuvTwbkFRh1ct5AUmkyRlZ\n",
       "fidWvXx3kw5ARdtRJMqQOewN2PS2MbD+hIqmokj8ROawJmDTu38Cx3eoqAOKF3+gKPPApvfIAQao\n",
       "Xp4CZHFeAxRlpdjDivMrRJQNFFTPbr+G+lB62wSoKbtvMTBcxK73cABElB1I8/gx6IODhaG/guMf\n",
       "JDAtGZIYGMLhepONQcAQLLdacAFElBloT0sAQzLExPkNDL/BDOYLDN4MDJNxuBkazizAuMpvYLCF\n",
       "iKYzcPwFM/LB7liPI234N8D1OjFw/IFFLw8klpwgQYpN7yoGBv0JEP9OAFnF+gEi/pWBDRxLUNsn\n",
       "Y/Evx/8GmF6mDQwcPxmYCuYxgFz5B+T3BrAhDDwMDEHY7HWEu5lXgIGhmiE44QIosTCIMqgxgBlp\n",
       "DAzAOMrGpjcUHr88wNTQuHed9AIGY6B9baDoBTF4b+8GknbY9PKkwfOCFTzkG9AZfAYE8mAYPD1i\n",
       "MNgCCOhlgpUL3QzojEeE8j6HApQXwIDO0MCjdxeYfIqrzGF9gKQKDQAAS5yEaRnN3V8AAAAASUVO\n",
       "RK5CYII=\n",
       "\" style=\"display:inline;vertical-align:middle;\" /></a></span></td></tr>\n",
       "<tr><td>&nbsp;</td><td colspan=4 style=\"text-align:left\"><span style=\"font-size:20px;\"><a class=\"ProveItLink\" href=\"../../../../__pv_it/72df168d2bfb4e0140af90912ebf83b13772060b0/expr.ipynb\"><img src=\"data:image/png;base64,iVBORw0KGgoAAAANSUhEUgAAAAsAAAAJBAMAAAAWSsseAAAAMFBMVEX///8QEBC6uroyMjJERETc\n",
       "3NyYmJgiIiJmZmaqqqp2dnbMzMxUVFSIiIju7u4AAAAoIwv1AAAAAXRSTlMAQObYZgAAAAlwSFlz\n",
       "AAAOxAAADsQBlSsOGwAAAENJREFUCNdjYHh75/WqCQwMDbxnOQoY2AJ4v/IkMHAzsBgwgAD/BTCl\n",
       "H8D3gOGJwnkGLgaG+fsaGTQZGF7c5WybwAAAJGsQ2L2rVEcAAAAASUVORK5CYII=\n",
       "\" style=\"display:inline;vertical-align:middle;\" /></a> : <a class=\"ProveItLink\" href=\"../__pv_it/5f0e338c51b1ef69cf7721d2cd5e13c106999ee00/expr.ipynb\"><img src=\"data:image/png;base64,iVBORw0KGgoAAAANSUhEUgAAAE4AAAAVBAMAAAAazcUaAAAAMFBMVEX///9UVFREREQiIiIQEBCY\n",
       "mJhmZmYyMjLu7u6qqqrMzMyIiIi6urp2dnbc3NwAAABm9RoHAAAAAXRSTlMAQObYZgAAAAlwSFlz\n",
       "AAAOxAAADsQBlSsOGwAAAVlJREFUKM9jeMAAAnwMOABU4gHDHTC9E5c6ng1g6g5EHecFJKkmZ2SF\n",
       "O5HVtaOYUYbMYW9AUpeKou4nMoc1AUmdA4qTfqDo8kCo4ylAluA1QFFXilDHBvLGs9uvoS6S3jYB\n",
       "qmP3LQaGiwh17AFAM/0Y9MFOZuiv4PgHCTtLhiQGhnCEOmag/pYAhmSIKfMbGH6DGcwXGLwZGCYj\n",
       "1LEcYGDIb2CwhahLZ+D4C2bkg81fj6rOiYHjDyz4eCAh4wQmjyC5bwLICNYPEHVfGdjAIQM1Fcle\n",
       "pg0MHD8ZmArmMYBs+gNyawNYAwMPA0MQQh2vAANDNUNwwgWO70CeKIMaA5iRxsAADJdspHAGhmzj\n",
       "3nXSCxiMgea0gYIPxOC9vRtI2iHFmxUs8Dkb0Bl8BkjqwuBxhsFgC0BSx/QAKtrNgM54hJz+OBSg\n",
       "ogEM6AwNqLpdYPoprnTPCrFpFwDZ0GwFSBpctgAAAABJRU5ErkJggg==\n",
       "\" style=\"display:inline;vertical-align:middle;\" /></a>, <a class=\"ProveItLink\" href=\"../../../../__pv_it/c6e291955561f22a0e6708fd793ea93f1c7dbb5d0/expr.ipynb\"><img src=\"data:image/png;base64,iVBORw0KGgoAAAANSUhEUgAAAAsAAAANBAMAAACN24kIAAAAMFBMVEX///8iIiLMzMy6urpEREQy\n",
       "MjLc3NyYmJgQEBCqqqp2dnZUVFRmZmaIiIju7u4AAACJ/BCYAAAAAXRSTlMAQObYZgAAAAlwSFlz\n",
       "AAAOxAAADsQBlSsOGwAAAFdJREFUCNdj4LtzgeE1AwMXZwNDPQNDJk8AwxYGhgccFxh6GRgY7B8w\n",
       "fQJSRxl4G4CUNwPLBiB1msG+AEi9Xns+gQEElgIxTwBfJ5BivMC9AEhx3j0MJAH6nBTYXSPRQAAA\n",
       "AABJRU5ErkJggg==\n",
       "\" style=\"display:inline;vertical-align:middle;\" /></a> : <a class=\"ProveItLink\" href=\"../__pv_it/e7a94e7fefe62489d4701b59f8e67f6fff560b1c0/expr.ipynb\"><img src=\"data:image/png;base64,iVBORw0KGgoAAAANSUhEUgAAACsAAAAQBAMAAAB9zpudAAAAMFBMVEX///+qqqqYmJiIiIgiIiIQ\n",
       "EBDu7u66urp2dnZUVFTMzMxEREQyMjJmZmbc3NwAAADG9xhMAAAAAXRSTlMAQObYZgAAAAlwSFlz\n",
       "AAAOxAAADsQBlSsOGwAAAIdJREFUGNNj4Lt7egEDKliSwMDwkoHjO4og29zzQOFpDAyhED67AlTC\n",
       "Higcn8Aw/wGYx2iAJDyFgWH+AkxhIPBnwCbM9RmrMMsFrMJ3QQSvi4triIvLBLgwE1QxmmoJBj4s\n",
       "DuRqYGBOwBR+cvfuFCyGnP///w+q8Ox4TwOkMGI0YMAG4EEFBACG0yXF1b9snQAAAABJRU5ErkJg\n",
       "gg==\n",
       "\" style=\"display:inline;vertical-align:middle;\" /></a>, <a class=\"ProveItLink\" href=\"../../../../__pv_it/0d889e00aed425c3081fbda3ac9194ae911895960/expr.ipynb\"><img src=\"data:image/png;base64,iVBORw0KGgoAAAANSUhEUgAAAAoAAAAJBAMAAAD5iKAgAAAAMFBMVEX///8QEBCqqqpUVFS6urru\n",
       "7u5mZmZERER2dnaIiIgyMjKYmJjc3NwiIiLMzMwAAAC+/aJUAAAAAXRSTlMAQObYZgAAAAlwSFlz\n",
       "AAAOxAAADsQBlSsOGwAAADhJREFUCNdjYOC7++A0AwPXjMoEBoajDBwMQMCaCiJPgAiWCQwBDAze\n",
       "DAwGDHwVlb0PgAoUlzAAADSiCqmElLEHAAAAAElFTkSuQmCC\n",
       "\" style=\"display:inline;vertical-align:middle;\" /></a> : <a class=\"ProveItLink\" href=\"../../__pv_it/eafea0aba3ef5dc2db24e5b7b93d46ff53acbff50/expr.ipynb\"><img src=\"data:image/png;base64,iVBORw0KGgoAAAANSUhEUgAAAAoAAAAOBAMAAADkjZCYAAAAMFBMVEX///9UVFTMzMwiIiIQEBAy\n",
       "MjKIiIiqqqqYmJju7u66urpERERmZmZ2dnbc3NwAAAAvvFLTAAAAAXRSTlMAQObYZgAAAAlwSFlz\n",
       "AAAOxAAADsQBlSsOGwAAAEtJREFUCNdjYHh7ZxcDA+cBhv4CBrbvDPMDGLi8GPgDGICgvgFIcFkA\n",
       "CaZEIQawSAGIZPnJwKTAwA1U/BNEsgiARDgawOrXnNnFAAAQ9hMVh8BvFQAAAABJRU5ErkJggg==\n",
       "\" style=\"display:inline;vertical-align:middle;\" /></a></span></td></tr><tr><td><a name=\"-0x6ae25328eb63e784_step2\">2</a></td><td>axiom</td><td></td><td><span style=\"font-size:20px;\"> <a class=\"ProveItLink\" href=\"../../../../logic/equality/_axioms_.ipynb#equalsTransitivity\" style=\"text-decoration: none\">&#x22A2;&nbsp;</a><a class=\"ProveItLink\" href=\"../../../../logic/equality/__pv_it/2ec484d321bd84454ec9e76755ed993e1eddea420/expr.ipynb\"><img src=\"data:image/png;base64,iVBORw0KGgoAAAANSUhEUgAAANEAAAAXBAMAAABnpbd1AAAAMFBMVEX///+IiIgiIiIQEBB2dnbu\n",
       "7u5UVFTMzMzc3NwyMjK6urpmZmaYmJiqqqpEREQAAACk/Np2AAAAAXRSTlMAQObYZgAAAAlwSFlz\n",
       "AAAOxAAADsQBlSsOGwAAAn5JREFUSMetVT9oE2EU/yW5f73k0iuEIhQ1ZDDoFKQgHYQTLCLScoOK\n",
       "WocUdCsS26LgoIdtBcUhDkKXQiuiOIldLNIhxaUoShZxaIc4OFSKxEHq6Ht3l0t67R0NfD9Ift99\n",
       "777v991773sPEAct2uRAKA5Hm5bo1+DBpgghw4q2JerABx7Mi1C6Gmd8DtxhBzdEKK3GGT8DPTYg\n",
       "1UUoleKMKRuZGqmJENKrcdYekjlZKAyKUEpTQsh9N6dHwobJolaDVAbeAz+jFnejxKdOo99c5ofl\n",
       "AuOYa3g2OgBk6IsfQStHLM52o5SkYK/jqDMRvs826GuNPG1nS4silFK0SwVb+1jGKOnUJqmZkQnR\n",
       "tRLwZ58ixTda58ysrtFf38oFqk16v7f75PzrtlJiYHalVVTKbk3xiaEef1Lx48RXRf+HS+E4LUH2\n",
       "vIcRur8J5xa/KfXaU2w8N221lQ4pjYX0b8I2rL8qn43Jn5Hunm05wIT8S2kiXJP0GhTKCD7aDCVE\n",
       "Bj9UGs69wBHXPNvhvVrW9I+tXcsnGgF1+IZBeWzsjJX0cBW4P5orUlaavJ+7z447fQPjrk/Mzjj1\n",
       "VlqrFEsx2+TidnD2POR35saXcJgsY4gimAz6htp0u8sJnPKWz3UoPYDj+yq5mGJVJn9GNSmLPRTj\n",
       "8uVhazAjVSVcpLf1JpG2cK8cKGml84Hvk5W3kC2XfDz+/qqjiB6g/F7+dGYYU3VsfK0SSdeHnEBJ\n",
       "nniZax3bWN2CetolH8Mfg46TjWms4W5Rl50s1ZR65H26gm2S82gP5Jjek7V3N01bMd8wRSqNc8H+\n",
       "5tFePI1WWt/9mIGxZjFFKm3mOOs9EgpN5Gb/AZFTmUcA4ZeFAAAAAElFTkSuQmCC\n",
       "\" style=\"display:inline;vertical-align:middle;\" /></a></span></td></tr>\n",
       "<tr><td>&nbsp;</td><td colspan=4 style-\"text-align:left\"><a class=\"ProveItLink\" href=\"../../../../logic/equality/_axioms_.ipynb#equalsTransitivity\">proveit.logic.equality.equalsTransitivity</a></td></tr><tr><td><a name=\"-0x6ae25328eb63e784_step3\">3</a></td><td>instantiation</td><td><a href=\"#-0x6ae25328eb63e784_step5\">5</a>, <a href=\"#-0x6ae25328eb63e784_step6\">6</a>, <a href=\"#-0x6ae25328eb63e784_step7\">7</a></td><td><span style=\"font-size:20px;\"> <a class=\"ProveItLink\" href=\"../__pv_it/944ea9114ca84d89cba22d53e0928a006e754ee60/proof.ipynb\" style=\"text-decoration: none\">&#x22A2;&nbsp;</a><a class=\"ProveItLink\" href=\"../__pv_it/f37af9af3d840491138cecbe0316790eef9c58430/expr.ipynb\"><img src=\"data:image/png;base64,iVBORw0KGgoAAAANSUhEUgAAAKcAAAAVBAMAAADROuOhAAAAMFBMVEX///9UVFREREQiIiIQEBCY\n",
       "mJhmZmYyMjLu7u6qqqrMzMyIiIi6urp2dnbc3NwAAABm9RoHAAAAAXRSTlMAQObYZgAAAAlwSFlz\n",
       "AAAOxAAADsQBlSsOGwAAAklJREFUOMt1Vb9rE1Ec/3jppZfkEgpFEDI0g4ibkXPQglpaB0HQQyFu\n",
       "Eiymg0ODoBQ6eBXRwcFAZzV/gd4k2CI4uLnE1XY4Lbq4FETaYrR+3/e9HHe5773h8n3v+/l87vvr\n",
       "XhBBrRpylnFEeY7sUtBttt7lQdyQf7YzjlzGpxG8NEicPlrIkjOixKh17vXHTstngUrPwJ+mXA+S\n",
       "m8lAFCXGV1SH6cO1pX16rhj4nZTvILmx26IoMY4Bl0yNfHNaUaItA59LlXE/Rb8sihLjWoAZ3cBS\n",
       "mBSdCBjudpP4ajNFvy+JKsY0MNMXRCd9hhdVn35s/TRVrL/tGfnNL8BnSbSoO3sRgmh1iuGkDfcq\n",
       "TnFP8HzF+adH8RxuAzdj0UVPrdMwDGr2H0nU7jK8QJE99rGoPa8CaHBhgCvAuhRpgXMptCXRUpPh\n",
       "Ex+A5QDntWcJzl82ljnyN5KoYgAdroTnnVnwvKlYtLwbi87DGY7G1NVDNc/Pj7midhtSpO6crmlP\n",
       "BWfvas9vFHmoTLzrYk1V+i9Qi/LTt0I4B7C6L6ESHqr6BqwOF7guRUoMlAeoBFKjGgynIcAqbrQH\n",
       "zh7tjuIE2KCS0UjdlUQVY6fTmZbSL4Z6+Gnc196/rvfh0aufqDFVRnVrk54XxOEnxsPDw7206JHj\n",
       "v+o0E5GGz8aXTzBu1JriZzqburLC5G7HwFtxWhmj6IuirVTc/thdw3BrdLM/w7jxTb5PrSj3v6Jh\n",
       "4E7DnMSvjI2TsmjMyCyLCrfB1vc8iK0j2sg4chm3gP/iKK2n+/yEqQAAAABJRU5ErkJggg==\n",
       "\" style=\"display:inline;vertical-align:middle;\" /></a></span></td></tr>\n",
       "<tr><td>&nbsp;</td><td colspan=4 style=\"text-align:left\"><span style=\"font-size:20px;\"><a class=\"ProveItLink\" href=\"../../../../__pv_it/557ab5defdcd46aa58168b08767502985122cd490/expr.ipynb\"><img src=\"data:image/png;base64,iVBORw0KGgoAAAANSUhEUgAAAAcAAAAOBAMAAAARcxsoAAAALVBMVEX///9ERESYmJhUVFQyMjKq\n",
       "qqrc3NwQEBC6urru7u52dnYiIiJmZmaIiIgAAAD/UVazAAAAAXRSTlMAQObYZgAAAAlwSFlzAAAO\n",
       "xAAADsQBlSsOGwAAADlJREFUCNdjYGC4wwAEuxjQAeedCwwMXBwFDAypPA4MDBP4gFyGuAlAwhkk\n",
       "+5SLgYHjQRKQKavAAAAx5QmdfgFqMAAAAABJRU5ErkJggg==\n",
       "\" style=\"display:inline;vertical-align:middle;\" /></a> : <a class=\"ProveItLink\" href=\"../../__pv_it/fb4ccffdbfd0f653ebaacb95e7ff4802fd48a6f20/expr.ipynb\"><img src=\"data:image/png;base64,iVBORw0KGgoAAAANSUhEUgAAAAkAAAAOBAMAAAAPuiubAAAAMFBMVEX///+qqqqYmJiIiIgiIiIQ\n",
       "EBDu7u66urp2dnZUVFTMzMxEREQyMjJmZmbc3NwAAADG9xhMAAAAAXRSTlMAQObYZgAAAAlwSFlz\n",
       "AAAOxAAADsQBlSsOGwAAAE9JREFUCNdj4Lt7egEDw0sGju8MDNMYGEIZGOITGOY/YJjCwDAfKMHA\n",
       "4A8iuD6DSJYLIPIuiGACMyUY+B4wcDUwMCcwPLl7F6jl/P//fxgAW7YV+O4aX5IAAAAASUVORK5C\n",
       "YII=\n",
       "\" style=\"display:inline;vertical-align:middle;\" /></a>, <a class=\"ProveItLink\" href=\"../../../../__pv_it/a8d4b3a34d2189508f9082853fbac36935714f280/expr.ipynb\"><img src=\"data:image/png;base64,iVBORw0KGgoAAAANSUhEUgAAAAsAAAAJBAMAAAAWSsseAAAAMFBMVEX////MzMxUVFQyMjKqqqoi\n",
       "IiKYmJju7u5EREQQEBC6urqIiIh2dnZmZmbc3NwAAAD0tjQRAAAAAXRSTlMAQObYZgAAAAlwSFlz\n",
       "AAAOxAAADsQBlSsOGwAAAEdJREFUCNdjYOC7s28DAwPDygcc3xkY2Kcx8AYwMPB+Z2A9wMDA2cBQ\n",
       "v4CBof4AQz5QRb0DQzPLAwbmDWyxPECV2gcfbWQAABp5EMgcedARAAAAAElFTkSuQmCC\n",
       "\" style=\"display:inline;vertical-align:middle;\" /></a> : <a class=\"ProveItLink\" href=\"../__pv_it/bbc1b69eb12288f0ad04da0d0cc6b9b8079b8b3f0/expr.ipynb\"><img src=\"data:image/png;base64,iVBORw0KGgoAAAANSUhEUgAAACkAAAAVBAMAAAAp9toTAAAAMFBMVEX////MzMxUVFREREQiIiK6\n",
       "uroQEBCYmJhmZmYyMjLu7u52dnaqqqqIiIjc3NwAAACFAiZ1AAAAAXRSTlMAQObYZgAAAAlwSFlz\n",
       "AAAOxAAADsQBlSsOGwAAARFJREFUGNNdkbFOhEAQhj8FATnk7hF8ARMqEwsNpTEWVxiTK8xdY2wp\n",
       "rfQ6i9NIbEyMBYkPABofgFobfAANMT6ArVTOApvAkeww8+3w7z8LUNJ/6nojX6InKrx3gLsdNm1u\n",
       "3O1bn0t4ACfq0qGSOwerpzlNJFgJkx59rWUiFvLyF19FQ+8+r2Gwyb3kx6VRNR7+krTEjjmU/Awn\n",
       "rKlXMSzwQk7FRoWZ1dSJSTNWfhW1AtKxtjvNWZvxiNq+bO1G3CZKYVdozo5XuoqO5QzsgBf5rrD3\n",
       "B6Qy+mpkyMhOwZF42Hr+/sA8kOxG7GKWmCM915tOfkRkrotMJ1ey9vTdtkPjBxKe2sLWrYa6Nz9a\n",
       "+kMX8A+nBjzFoJaLpgAAAABJRU5ErkJggg==\n",
       "\" style=\"display:inline;vertical-align:middle;\" /></a>, <a class=\"ProveItLink\" href=\"../../../../__pv_it/53e304ff98ebc000dbe3ef224f4637dbafd46ba70/expr.ipynb\"><img src=\"data:image/png;base64,iVBORw0KGgoAAAANSUhEUgAAAAkAAAAOBAMAAAAPuiubAAAALVBMVEX///+YmJjc3NyIiIhUVFR2\n",
       "dna6urqqqqpmZmYyMjIiIiIQEBBERETu7u4AAAALjtrwAAAAAXRSTlMAQObYZgAAAAlwSFlzAAAO\n",
       "xAAADsQBlSsOGwAAAE5JREFUCNdj4D29gAEIOBtAJF8BiMy7ACKjQATDFON2BgbelxfuKTCwv2Xg\n",
       "M2DgmMBwLwCkPK+AgU+Aoe8CA18C70YGBhYBHqARvM1A5QCqGhDobJhHyAAAAABJRU5ErkJggg==\n",
       "\" style=\"display:inline;vertical-align:middle;\" /></a> : <a class=\"ProveItLink\" href=\"../../../../__pv_it/b2b446b221a34ee579eb9a1fbdd4ac4e2891d8c70/expr.ipynb\"><img src=\"data:image/png;base64,iVBORw0KGgoAAAANSUhEUgAAAAkAAAAJBAMAAAASvxsjAAAAKlBMVEX///+6urqYmJju7u4QEBBE\n",
       "RERmZmaqqqoiIiLc3NzMzMyIiIh2dnYAAACSkFDuAAAAAXRSTlMAQObYZgAAAAlwSFlzAAAOxAAA\n",
       "DsQBlSsOGwAAADhJREFUCNdjYGA4vWcBA8OMArYABoYeBpYNDGyXGYCAJQBE2h4AkbwKDAwCDGwJ\n",
       "DDxAlWd2b2YAACirCnk+94p2AAAAAElFTkSuQmCC\n",
       "\" style=\"display:inline;vertical-align:middle;\" /></a></span></td></tr><tr><td><a name=\"-0x6ae25328eb63e784_step4\">4</a></td><td>theorem</td><td></td><td><span style=\"font-size:20px;\"> <a class=\"ProveItLink\" href=\"add_2_1.ipynb\" style=\"text-decoration: none\">&#x22A2;&nbsp;</a><a class=\"ProveItLink\" href=\"../__pv_it/ce78cfe013d8e371249bf6bee0d41fcb62b6c4cc0/expr.ipynb\"><img src=\"data:image/png;base64,iVBORw0KGgoAAAANSUhEUgAAAGEAAAAVBAMAAACkm51HAAAAMFBMVEX////MzMxUVFREREQiIiK6\n",
       "uroQEBCYmJhmZmYyMjLu7u52dnaqqqqIiIjc3NwAAACFAiZ1AAAAAXRSTlMAQObYZgAAAAlwSFlz\n",
       "AAAOxAAADsQBlSsOGwAAAVNJREFUOMtjYGB4wIAd4BJn4D2AQyIWl47TDAwvOg3RBBm9sBnFt7s5\n",
       "gIGBawIDnwLD/gAUqUWdv4DkLHQdKxjY/zAwcBQwMC1gYEuAiIXDnArSUYGu4/4Brp8MDGxA9IuB\n",
       "6R9E7CyyDrYFaDrCAhiAOiIZGJgcGJg+YtHBWYDhaZ7vDAzdYBbLByw6uBUwdIQADZkOZslfwKKD\n",
       "fQKIyeECBmDdskoCDAw+YBUeDFh08DhgugoYVqlgcxpAZIuLS5qLixNcB+MHzNjLXwDRAQ9HFDtY\n",
       "E9CUCzIw2B9gmAOyawPDO5yuQviD6/8CkA5boKA0A8MtbD43QLMjCeyqTcDk4tHR5IBFB8cFNB3l\n",
       "4PgIAcbU////J6DoYDL7oguMJPT0ztoBSoksAshiZ5E5T7AndvYGZF44MqcdR/6ww5Vx+AxwSCzG\n",
       "pYN5AS6jCnBI1GEXBgAnbVnG+/LYzAAAAABJRU5ErkJggg==\n",
       "\" style=\"display:inline;vertical-align:middle;\" /></a></span></td></tr>\n",
       "<tr><td>&nbsp;</td><td colspan=4 style-\"text-align:left\"><a class=\"ProveItLink\" href=\"add_2_1.ipynb\">proveit.number.numeral.deci.add_2_1</a></td></tr><tr><td><a name=\"-0x6ae25328eb63e784_step5\">5</a></td><td>axiom</td><td></td><td><span style=\"font-size:20px;\"> <a class=\"ProveItLink\" href=\"../../../../core_expr_types/tuples/_axioms_.ipynb#tuple_len_incr\" style=\"text-decoration: none\">&#x22A2;&nbsp;</a><a class=\"ProveItLink\" href=\"../../../../core_expr_types/tuples/__pv_it/5da98025e66fce9b7f9b8a2843f5dc185516fb940/expr.ipynb\"><img src=\"data:image/png;base64,iVBORw0KGgoAAAANSUhEUgAAAYgAAAAWBAMAAAAodhaSAAAAMFBMVEX///+IiIgiIiIQEBB2dnbu\n",
       "7u5UVFTMzMzc3NwyMjK6urpmZmaYmJiqqqpEREQAAACk/Np2AAAAAXRSTlMAQObYZgAAAAlwSFlz\n",
       "AAAOxAAADsQBlSsOGwAABHRJREFUWMPNV11oHFUUPtmdYWb/pmssScFWl0CaShBKtViqxVUwyqIy\n",
       "1dYqpdkEfFPKxoAPvmRF7ZOEfSkIxjYaX4qCGymUah62Dz5EadyE1lAVjA/B/mig4IIGBc+Ze+/s\n",
       "zc65W+fNs5zhzJxzds53z8+9A2Ck3iGIS1X8SSE+uSZX12zv3inOUuwweprSCYX4lM4bXrvLbB/4\n",
       "lGCN7n/iQZh1PF1RIVyJC2B0XxhsBESuiKtS73j4ui/sdwUeX9Kj93kQZh1Ldk2GQEJM+gA55bMg\n",
       "XkZOFLe+6dWzvrAnLsEbVFlrPAizjqVMQ4ZAQkz6BzlbZ0EsaPJnSrjPF/bEpQCK1eRBmHUsJVUI\n",
       "yfj90KLrfhbEXk1e1kEE9vvJI4urljI0tlnH0jkVwrnYIKwCXWc4EOmaEcSMYPTYNzDwkGk6GXUs\n",
       "nVchkOCe35HvPlF1g9T4PZjxEQ5EBtvh8DwLYkQwelwAWMdWqXIghO6/0owKgYS5qtfqai0MXhI3\n",
       "5dP2nwCLIYgvBoh2B/iwHIpzLIhFwehxCtwxzKdYFWe4BHePhSCErjs5Z5T0gAoBBftRyBTAXjSP\n",
       "ssAAHhd3P/twG2CFy0SiCW7zIgtiRTB6eL41KxQTJ2/C95af8UMQbV0XekUJB1UIKGRaNBYnes2j\n",
       "rKXPzYtg/wEwxYFIzoJNCIP0PCjTI0BMCUaPXF72buYCbW35utUup1DXjR7mQCTXoDwr15YfZcIg\n",
       "3CbSOGTnDCAg12IzMSeYPGqXcAT0Aewk5eoPb2kgAh0cv/R0tBoWtssucm73ydR9qEJAoVyE76Ab\n",
       "CGHwkazWvykzWjnpPYEdnxq7QznBs6exJcq+Hexqq9aJTzQQpLOHnGiLPl+ZkqH3DKozwS8qBBTK\n",
       "TbiRqwav8aMrAMrgyZbQb8IL2L9LXCa8PBkXORBLgsnjbYT57gqkg212Fer3aiBIl6k7e8HtmFJf\n",
       "waTcQ7x8Vk7yERUCCql8dtgK1sn+i0KuSSG8CwzcEwXx5DW4hdd5DoSFIXzuNjgQ84LJw6sEi5c9\n",
       "s7HxO4I4ktJAkG7bbM8YvDm49a83oS+s2YxM9scqBBTs8adO9YuED+D7EpSsYZCXxKAyoGUm/XHa\n",
       "JmAPu9nhDPN2dpTTycd254X9nraH3ao4RZGJ9HLHUbxc9b72YSsInOq/Hc3dReI2PylPJomKdCJB\n",
       "EIHIRevpatgZxzS9W2CPHUPcjq3siZVHrlYU29o3EC6x0iWrU3juGgS7CEfCywFns5H7EfAm4S9J\n",
       "Q3EYC09yCoQV7epwtl6zNL04N0ZAfMsdAJV9eOiklR2vwjSuX/r+CngdINILy88QCOcQTFadA3Q5\n",
       "BJ9e3t6AXwEmm858GNJ15XRdPnjnLJbs4Whjh+eNF3do+mn+e8IzfSZOS9Y97Oc2bpq/7LCccu3v\n",
       "FOFQwBGuH3JHldOo7hk9l2eB1a/zIGzTx8C65G6foE/oxTjxSLNdyUoa97cWPM6QfiXEp6xY8f6I\n",
       "4j2zPXHvwThvaTBSFv4H9C8GUC3eXXISRAAAAABJRU5ErkJggg==\n",
       "\" style=\"display:inline;vertical-align:middle;\" /></a></span></td></tr>\n",
       "<tr><td>&nbsp;</td><td colspan=4 style-\"text-align:left\"><a class=\"ProveItLink\" href=\"../../../../core_expr_types/tuples/_axioms_.ipynb#tuple_len_incr\">proveit.core_expr_types.tuples.tuple_len_incr</a></td></tr><tr><td><a name=\"-0x6ae25328eb63e784_step6\">6</a></td><td>theorem</td><td></td><td><span style=\"font-size:20px;\"> <a class=\"ProveItLink\" href=\"nat2.ipynb\" style=\"text-decoration: none\">&#x22A2;&nbsp;</a><a class=\"ProveItLink\" href=\"../__pv_it/e1be5cc0ffa039746758df99e3fd79595c567a170/expr.ipynb\"><img src=\"data:image/png;base64,iVBORw0KGgoAAAANSUhEUgAAADIAAAAQBAMAAACmdTG/AAAAMFBMVEX///+qqqqYmJiIiIgiIiIQ\n",
       "EBDu7u66urp2dnZUVFTMzMxEREQyMjJmZmbc3NwAAADG9xhMAAAAAXRSTlMAQObYZgAAAAlwSFlz\n",
       "AAAOxAAADsQBlSsOGwAAAOtJREFUGNNjYEAHbP67jzFwxIcz8N09vQBVilugkoEhP4HhJQPHd1QZ\n",
       "Tj8OBQZWBoZpDAyhaDLSDOcYWBgY4hMY5j8Ai1i7uBwAyzwyeAOSmcLAMB9sUY0ZTM+DWcwNLGCm\n",
       "P4jgOwY37QE3w3awDNdnEMnzACHDdSElBcRiuQCWQbjgAYMi41YQ6y6Yv9QFCDZAZTgTpgIZTGAt\n",
       "DNnIetgmgEyTYOADWcGCLMOwmBtofwMDcwKQz2wADx2gJ5hXMzA8uXt3CljgIEyGRQBI3GFgOP//\n",
       "/x+wQOb2BDDN5R8NJHOQw6tiCyR0oAAAIoY5u+UrrOsAAAAASUVORK5CYII=\n",
       "\" style=\"display:inline;vertical-align:middle;\" /></a></span></td></tr>\n",
       "<tr><td>&nbsp;</td><td colspan=4 style-\"text-align:left\"><a class=\"ProveItLink\" href=\"nat2.ipynb\">proveit.number.numeral.deci.nat2</a></td></tr><tr><td><a name=\"-0x6ae25328eb63e784_step7\">7</a></td><td>instantiation</td><td><a href=\"#-0x6ae25328eb63e784_step8\">8</a></td><td><span style=\"font-size:20px;\"> <a class=\"ProveItLink\" href=\"../__pv_it/309708b7ed3a8daa46d3ea52221415d526fc378b0/proof.ipynb\" style=\"text-decoration: none\">&#x22A2;&nbsp;</a><a class=\"ProveItLink\" href=\"../__pv_it/b8da7b86afc84af51c6cbd834935eb4a0398da0b0/expr.ipynb\"><img src=\"data:image/png;base64,iVBORw0KGgoAAAANSUhEUgAAAL0AAAAVBAMAAADhtvKAAAAAMFBMVEX///9UVFREREQiIiIQEBCY\n",
       "mJhmZmYyMjLu7u6qqqrMzMyIiIi6urp2dnbc3NwAAABm9RoHAAAAAXRSTlMAQObYZgAAAAlwSFlz\n",
       "AAAOxAAADsQBlSsOGwAAAjtJREFUOMudlb9rFEEUx1927za7d7lLII2QIlcELAQ5CAS1MYV2glul\n",
       "VJtcCBI8BUErVxsLi7vSJnB/wraeEA4UUqTIip2kmBDsAxZ3oJC8eTNvs7uXdws+uLlh3vf72fnx\n",
       "dhYUUNi/NNS1o3agCaWRCk+oU+8X8kfUnhRtZuBLOd/4GyPr2M+k/LU2P/B6fpAA1O6I6Gbn1cD6\n",
       "me93s4L5Z9i8kfkfAd7vTET+KTT+WT/zvTArWNTP3pL523pDZf4NgAfWz/xKTnAc6aFI5G/O5j+O\n",
       "YFUZP/MPc4KftEmhxF/ozuYvA6wOjJ/5e/pY9g5iI3j5dRdTSxLfS2bzMe5bP/Nf4++7cozHH0c9\n",
       "BdUu8711iiXm08xm8mt/wfiZfxepD8FrUzaYwGIMQVuav9sv47tYgORn/iOc5QTchLJeF3oJ1M4l\n",
       "fmVUxu/oNZzn+ZUW9EZc/sd9WNj8b35Vvz/kZ/5b0FN+ass/hBdRZn+m9r9sf/ahqfL7cwv5fbgZ\n",
       "KF/zR3gWUG1J83diy/en0broawnUI+Nn/g+cVVzdaEAPT30udHCBXizxqfI0X4up8cfZzlmns2z9\n",
       "zP+GqZVfp0Nw8dryn+/qGlDi+4Urn1v7s0JiqhXY4M46LuDdxcXY+pnvDhjwmTtn8v1zb0qcRhDl\n",
       "/MynE6dIuLMt87emxGk0IOdP7//bfPfHfIm3ZL6jCuKr+AQ5f8r/wKXLeSeS+X6rIL6KMO9H/tA8\n",
       "LiwIn1A7LPrNwO/y76Px1weXfn3AWdZDCSIAAAAASUVORK5CYII=\n",
       "\" style=\"display:inline;vertical-align:middle;\" /></a></span></td></tr>\n",
       "<tr><td>&nbsp;</td><td colspan=4 style=\"text-align:left\"><span style=\"font-size:20px;\"><a class=\"ProveItLink\" href=\"../../../../__pv_it/a8d4b3a34d2189508f9082853fbac36935714f280/expr.ipynb\"><img src=\"data:image/png;base64,iVBORw0KGgoAAAANSUhEUgAAAAsAAAAJBAMAAAAWSsseAAAAMFBMVEX////MzMxUVFQyMjKqqqoi\n",
       "IiKYmJju7u5EREQQEBC6urqIiIh2dnZmZmbc3NwAAAD0tjQRAAAAAXRSTlMAQObYZgAAAAlwSFlz\n",
       "AAAOxAAADsQBlSsOGwAAAEdJREFUCNdjYOC7s28DAwPDygcc3xkY2Kcx8AYwMPB+Z2A9wMDA2cBQ\n",
       "v4CBof4AQz5QRb0DQzPLAwbmDWyxPECV2gcfbWQAABp5EMgcedARAAAAAElFTkSuQmCC\n",
       "\" style=\"display:inline;vertical-align:middle;\" /></a> : <a class=\"ProveItLink\" href=\"../../../../__pv_it/a8d4b3a34d2189508f9082853fbac36935714f280/expr.ipynb\"><img src=\"data:image/png;base64,iVBORw0KGgoAAAANSUhEUgAAAAsAAAAJBAMAAAAWSsseAAAAMFBMVEX////MzMxUVFQyMjKqqqoi\n",
       "IiKYmJju7u5EREQQEBC6urqIiIh2dnZmZmbc3NwAAAD0tjQRAAAAAXRSTlMAQObYZgAAAAlwSFlz\n",
       "AAAOxAAADsQBlSsOGwAAAEdJREFUCNdjYOC7s28DAwPDygcc3xkY2Kcx8AYwMPB+Z2A9wMDA2cBQ\n",
       "v4CBof4AQz5QRb0DQzPLAwbmDWyxPECV2gcfbWQAABp5EMgcedARAAAAAElFTkSuQmCC\n",
       "\" style=\"display:inline;vertical-align:middle;\" /></a>, <a class=\"ProveItLink\" href=\"../../../../__pv_it/53e304ff98ebc000dbe3ef224f4637dbafd46ba70/expr.ipynb\"><img src=\"data:image/png;base64,iVBORw0KGgoAAAANSUhEUgAAAAkAAAAOBAMAAAAPuiubAAAALVBMVEX///+YmJjc3NyIiIhUVFR2\n",
       "dna6urqqqqpmZmYyMjIiIiIQEBBERETu7u4AAAALjtrwAAAAAXRSTlMAQObYZgAAAAlwSFlzAAAO\n",
       "xAAADsQBlSsOGwAAAE5JREFUCNdj4D29gAEIOBtAJF8BiMy7ACKjQATDFON2BgbelxfuKTCwv2Xg\n",
       "M2DgmMBwLwCkPK+AgU+Aoe8CA18C70YGBhYBHqARvM1A5QCqGhDobJhHyAAAAABJRU5ErkJggg==\n",
       "\" style=\"display:inline;vertical-align:middle;\" /></a> : <a class=\"ProveItLink\" href=\"../../../../__pv_it/53e304ff98ebc000dbe3ef224f4637dbafd46ba70/expr.ipynb\"><img src=\"data:image/png;base64,iVBORw0KGgoAAAANSUhEUgAAAAkAAAAOBAMAAAAPuiubAAAALVBMVEX///+YmJjc3NyIiIhUVFR2\n",
       "dna6urqqqqpmZmYyMjIiIiIQEBBERETu7u4AAAALjtrwAAAAAXRSTlMAQObYZgAAAAlwSFlzAAAO\n",
       "xAAADsQBlSsOGwAAAE5JREFUCNdj4D29gAEIOBtAJF8BiMy7ACKjQATDFON2BgbelxfuKTCwv2Xg\n",
       "M2DgmMBwLwCkPK+AgU+Aoe8CA18C70YGBhYBHqARvM1A5QCqGhDobJhHyAAAAABJRU5ErkJggg==\n",
       "\" style=\"display:inline;vertical-align:middle;\" /></a></span></td></tr><tr><td><a name=\"-0x6ae25328eb63e784_step8\">8</a></td><td>theorem</td><td></td><td><span style=\"font-size:20px;\"> <a class=\"ProveItLink\" href=\"tuple_len_2_typical_equiv.ipynb\" style=\"text-decoration: none\">&#x22A2;&nbsp;</a><a class=\"ProveItLink\" href=\"../__pv_it/d80b09bff8acc80050db6fe3dd7b3d1d7bcde69d0/expr.ipynb\"><img src=\"data:image/png;base64,iVBORw0KGgoAAAANSUhEUgAAAPsAAAAWBAMAAAD0hvfJAAAAMFBMVEX///+IiIgiIiIQEBB2dnbu\n",
       "7u5UVFTMzMzc3NwyMjK6urpmZmaYmJiqqqpEREQAAACk/Np2AAAAAXRSTlMAQObYZgAAAAlwSFlz\n",
       "AAAOxAAADsQBlSsOGwAAAzFJREFUSMe9ls9rE1EQxye72fzobjbrQetFCIFSoQhBFEE8BA9ViuIK\n",
       "IojQpOAfUFC8dqlQBEVyUTxUifZUEJpCUaoppgdBKdQo9eYhUor1VoWgPdU3b2fya/uy4MEpfXyZ\n",
       "nTefN+9nAFTmiT8SvR/285IjAaGW4NbrExSpwxiLbnsm27HeDr7jSDh+wME2WpaJGqi/BoM2OOFG\n",
       "h9PYzPB49sen8gDxITX63vJ3GqLAY6LXqB8H4owSJUTRtmRFNA/V+GsAV5eb6nkvwqUyJF0fj4lu\n",
       "o7cRCDRrlBBF29JY+ZoaX8XVUuNjLug5sCqEF4lwKNF6IFDnhHqXewEHrrtKfK4/Xm9C7A/AScKL\n",
       "RJaoLhkMnOeE813us3IFair8QCmk+gzEfgPMEh4THc9mTwQDl5iAIrF02PHdjw6siJ5FFd7M98cL\n",
       "03YARgmPiV4BbAWjZpmAYs6z/ZTGrlvwwCrxRzMrrch4OS/98VOikA+Ex0QzuB/J4k9ZHWOCEMYZ\n",
       "MDPSm2pC2oFURlW9Vg/Fj4j/z4THRLaLiuwGi9NMEMJsgpb3z0MJCnmI76jwejkMb+KunyI8Jko5\n",
       "HTvv1H54vQGFMh/7hToM5P4dLw/tHOFlotKqaK6vnsfJ/3nI9cOeMEEIUfBHOvY1eOt2TH5g7cMm\n",
       "X9yKd7snHy6Ky8cYjmOnyFCk4sd9Y4IQhTr8SHkG4stiH4DVUFVvO4Q3gmRZ1y2AgwDrvPUw0Z0i\n",
       "Lkk8J7tbdMeOMkGIpGONRKEgvsRqthie6ajw8kgiHoNlY+x2isTIm5ei4kXCy0T2JJYVKcq1M+kU\n",
       "PGeCEMbEuZlB0MRLYiyu4P72lNeOyB3b/DUhg0Gr0E6XIivKT+7t7YmhHCW8xk9uwbPfic9pV6f7\n",
       "V5skAgrfvrCYVt/5w4Hg9rK7rYcnQ/jp1mXsTb2AK6C56+TAZ2GMhW95FlU1fi0Q3LJo13Mm8dXW\n",
       "T4Dqpwtwsx5fbHXbZsI2P8EOD76hxtteT3DbLrfUA3rvex/azodvnAnjPB/8xXbVeKPRE9y29sO9\n",
       "RXjbVawO1liDQRbd9l62g73pfcf98B9blpyhyCQlavvhv9tfSRzTM8AsDwsAAAAASUVORK5CYII=\n",
       "\" style=\"display:inline;vertical-align:middle;\" /></a></span></td></tr>\n",
       "<tr><td>&nbsp;</td><td colspan=4 style-\"text-align:left\"><a class=\"ProveItLink\" href=\"tuple_len_2_typical_equiv.ipynb\">proveit.number.numeral.deci.tuple_len_2_typical_equiv</a></td></tr></table>"
      ],
      "text/plain": [
       "\tstep type\trequirements\tstatement\n",
       "0\tgeneralizaton\t1\t|- forall_{a, b, c} (|(a, b, c)| = 3)\n",
       "1\tinstantiation\t2, 3, 4\t|- |(a, b, c)| = 3\n",
       "\tx : |(a, b, c)|, y : 2 + 1, z : 3\n",
       "2\taxiom\t\t|- forall_{x, y, z | x = y, y = z} (x = z)\n",
       "\tproveit.logic.equality.equalsTransitivity\n",
       "3\tinstantiation\t5, 6, 7\t|- |(a, b, c)| = (2 + 1)\n",
       "\ti : 2, a : (a, b), b : c\n",
       "4\ttheorem\t\t|- (2 + 1) = 3\n",
       "\tproveit.number.numeral.deci.add_2_1\n",
       "5\taxiom\t\t|- forall_{i in Naturals} [forall_{a_{1}, ..a_{_a}.., a_{i}, b} (|(a_{1}, ..a_{_a}.., a_{i}, b)| = (i + 1))]\n",
       "\tproveit.core_expr_types.tuples.tuple_len_incr\n",
       "6\ttheorem\t\t|- 2 in Naturals\n",
       "\tproveit.number.numeral.deci.nat2\n",
       "7\tinstantiation\t8\t|- |(a, b)| = |(1, ..k.., 2)|\n",
       "\ta : a, b : b\n",
       "8\ttheorem\t\t|- forall_{a, b} (|(a, b)| = |(1, ..k.., 2)|)\n",
       "\tproveit.number.numeral.deci.tuple_len_2_typical_equiv"
      ]
     },
     "execution_count": 6,
     "metadata": {},
     "output_type": "execute_result"
    }
   ],
   "source": [
    "%qed"
   ]
  }
 ],
 "metadata": {
  "kernelspec": {
   "display_name": "Python 3",
   "language": "python",
   "name": "python3"
  },
  "language_info": {
   "codemirror_mode": {
    "name": "ipython",
    "version": 3
   },
   "file_extension": ".py",
   "mimetype": "text/x-python",
   "name": "python",
   "nbconvert_exporter": "python",
   "pygments_lexer": "ipython3",
   "version": "3.7.3"
  }
 },
 "nbformat": 4,
 "nbformat_minor": 1
}
