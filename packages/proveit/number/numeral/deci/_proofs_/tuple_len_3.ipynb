{
 "cells": [
  {
   "cell_type": "markdown",
   "metadata": {},
   "source": [
    "Proof of <a class=\"ProveItLink\" href=\"../../../../_context_.ipynb\">proveit</a>.<a class=\"ProveItLink\" href=\"../../../_context_.ipynb\">number</a>.<a class=\"ProveItLink\" href=\"../../_context_.ipynb\">numeral</a>.<a class=\"ProveItLink\" href=\"../_context_.ipynb\">deci</a>.<a class=\"ProveItLink\" href=\"../_theorems_.ipynb#tuple_len_3\">tuple_len_3</a> theorem\n",
    "========"
   ]
  },
  {
   "cell_type": "code",
   "execution_count": 1,
   "metadata": {},
   "outputs": [],
   "source": [
    "import proveit\n",
    "context = proveit.Context('..') # the theorem's context is in the parent directory"
   ]
  },
  {
   "cell_type": "code",
   "execution_count": 2,
   "metadata": {},
   "outputs": [
    {
     "name": "stdout",
     "output_type": "stream",
     "text": [
      "Beginning proof of tuple_len_3\n",
      "Recorded 'presuming' information\n",
      "Presuming previous theorems (applied transitively).\n"
     ]
    },
    {
     "data": {
      "text/html": [
       "<strong id=\"tuple_len_3\">tuple_len_3:</strong> <a class=\"ProveItLink\" href=\"../__pv_it/f43f75f82d73a699dabbd2c5d66ae81df52d9f740/expr.ipynb\"><img src=\"data:image/png;base64,iVBORw0KGgoAAAANSUhEUgAAAL8AAAAWBAMAAABj11ATAAAAMFBMVEX///8QEBCIiIhmZma6urrM\n",
       "zMxUVFQiIiJERETc3Nzu7u6qqqp2dnaYmJgyMjIAAAAcRTyBAAAAAXRSTlMAQObYZgAAAsZJREFU\n",
       "SMetVU1oE0EU/rLJdn/yV8GDCEKotldDRBGsGPHgSRovXluKHkSRgj9gKxhv7UFdELSCwoqHSg9m\n",
       "0YPoxdAcFLUS6kWFSkBbUKGIF23Q6pvZ2XQ3mak9+GBn37x5b76Z9zfAv0h3sQ5an5aEbiNVZH+r\n",
       "rtJIOmz0tdrpMX0NxsyrrO2yML0XFl4aCesclwJYr5576CLwl2z2RQWQcYTp54g0H57dlwJcQ/I3\n",
       "bDr+JEMrqwDeCNN0ZMusF56lcjKA7R5+ADN0GopOylMBnBemhhOWDkQianfLAPYXsQLcobO9mJ6+\n",
       "odrfGhGmUY1nUa1P8iCTi5Ah8c/x8QsqAC0vTLcytP7CZl+82LMncE9PL1CTA0xVSUwbHAMmAlli\n",
       "Kapj1oXpZXZpJ/PN98mKW/FdZo3hCvChBfB6idFHvnbrNDkyTVE+wGMtqBYFMDxhOkbbbkHcT4Zk\n",
       "E9mcv17FCeCR/AbaRlIlHxvQVovoa1QnVhSmpBtvwvC3jTdQqXJuH4/2oKLQNrjQ6c6purEqW1YD\n",
       "xMqolIIyGPDzbhOUADeBqx4HsBpHaH63b4F1lO99Lg9drtNFdOinogzq4uj2Lz4/2BaDRcb+cRlA\n",
       "gtX8xFFSPas3mdtGWd7gjN7dGeSKh1N+38kWKR6cKBGT4SCHiC530eVBxkNCied1hmXmmIRiWRJZ\n",
       "GKRpja+dS6FC6111M88Z7IK9E+iXAczzOoizWLGMiHnaEPd5fIhNWmkbFBp5wR7uvb4NxihxhVlw\n",
       "BqnZORoXZACJHbtJlGEnTZM/K475nn5Zl22eddZoFU86GHtE2a4x1UoXZ/AQJl3DfUsj1Xde2eyq\n",
       "HYy82fk007rQ8IO9OOzpJ6s0WoW5oJuZQbsOit3OtTOKdu0rNaJzLzQqHpw02hkfWw5gOpLHL+lE\n",
       "n0yttPaTmeb6Wkm29q5Nte1o/4X+AsSivieBabo3AAAAAElFTkSuQmCC\n",
       "\" style=\"display:inline;vertical-align:middle;\" /></a><br>(see <a class=\"ProveItLink\" href=\"../__pv_it/f43f75f82d73a699dabbd2c5d66ae81df52d9f740/dependencies.ipynb\">dependencies</a>)<br>"
      ],
      "text/plain": [
       "tuple_len_3: forall_{a, b, c} (|(a, b, c)| = 3)"
      ]
     },
     "execution_count": 2,
     "metadata": {},
     "output_type": "execute_result"
    }
   ],
   "source": [
    "%proving tuple_len_3 presuming []"
   ]
  },
  {
   "cell_type": "code",
   "execution_count": null,
   "metadata": {},
   "outputs": [],
   "source": []
  }
 ],
 "metadata": {
  "kernelspec": {
   "display_name": "Python 3",
   "language": "python",
   "name": "python3"
  }
 },
 "nbformat": 4,
 "nbformat_minor": 0
}
