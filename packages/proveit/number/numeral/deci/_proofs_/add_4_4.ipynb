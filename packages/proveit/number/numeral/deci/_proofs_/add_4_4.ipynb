{
 "cells": [
  {
   "cell_type": "markdown",
   "metadata": {},
   "source": [
    "Proof of <a class=\"ProveItLink\" href=\"../../../../_context_.ipynb\">proveit</a>.<a class=\"ProveItLink\" href=\"../../../_context_.ipynb\">number</a>.<a class=\"ProveItLink\" href=\"../../_context_.ipynb\">numeral</a>.<a class=\"ProveItLink\" href=\"../_context_.ipynb\">decimal</a>.<a class=\"ProveItLink\" href=\"../_theorems_.ipynb#add_4_4\">add_4_4</a> theorem\n",
    "========"
   ]
  },
  {
   "cell_type": "code",
   "execution_count": 1,
   "metadata": {},
   "outputs": [],
   "source": [
    "import proveit\n",
    "context = proveit.Context('..') # the theorem's context is in the parent directory"
   ]
  },
  {
   "cell_type": "code",
   "execution_count": 2,
   "metadata": {},
   "outputs": [
    {
     "name": "stdout",
     "output_type": "stream",
     "text": [
      "Beginning proof of add_4_4\n",
      "Recorded 'presuming' information\n",
      "Presuming previous theorems (applied transitively).\n"
     ]
    },
    {
     "data": {
      "text/html": [
       "<strong id=\"add_4_4\">add_4_4:</strong> <a class=\"ProveItLink\" href=\"../__pv_it/c3400c4bece838dba19869a6968b47432a483e470/expr.ipynb\"><img src=\"data:image/png;base64,iVBORw0KGgoAAAANSUhEUgAAAGEAAAAUBAMAAABvx07iAAAAMFBMVEX///9UVFTMzMx2dna6uroQ\n",
       "EBCqqqqIiIgiIiJmZmYyMjJERETu7u6YmJjc3NwAAAC+aOQFAAAAAXRSTlMAQObYZgAAAWJJREFU\n",
       "KM91k79Lw1AQx79pNK1pUjoJHYSuTmYrVcSO4iIFF1GkunRSuoi41UFXMwiSSV0ziH+A2oCIRR0i\n",
       "DoJDyegi6NDFpb57/uD1khwh7/vu+Lz3jrsDCiGSbSvFjwf6TXJvxoUWcae1U62J5Zz0Hg/mirBO\n",
       "uXMMGAdsV8hs/dfX/AtuF4EKJzaBe3EY3f1+xojCqyBuOTEDdIE3kg4ndFMQZo0Ri5eYBXaFsiNO\n",
       "9IjQXUZog+cGcCXUHRhhtYiwZeq6L03Sc18BcECP4oQOIow2u8M4OlwCxGeUf4hp39/3fZIbksh8\n",
       "MOIJ2X5AxA3YHZaTTKwCUw161brn9Y9Vwih5J8stjLSVPMQJljhBC2XmQKyCo/+ZK7YG5CNUpV6J\n",
       "EReiKRxGLAR4AeZlMQcTrIKdzxBmmbdniToxN9ShTXXTTW52e6iwj+qmkjIf12mDE+92daKSLB+l\n",
       "BFKntpfs/gbL9lb+C34yNQAAAABJRU5ErkJggg==\n",
       "\" style=\"display:inline;vertical-align:middle;\" /></a><br>(see <a class=\"ProveItLink\" href=\"../__pv_it/c3400c4bece838dba19869a6968b47432a483e470/dependencies.ipynb\">dependencies</a>)<br>"
      ],
      "text/plain": [
       "add_4_4: (4 + 4) = 8"
      ]
     },
     "execution_count": 2,
     "metadata": {},
     "output_type": "execute_result"
    }
   ],
   "source": [
    "%proving add_4_4 presuming []"
   ]
  },
  {
   "cell_type": "code",
   "execution_count": null,
   "metadata": {},
   "outputs": [],
   "source": []
  }
 ],
 "metadata": {
  "kernelspec": {
   "display_name": "Python 3",
   "language": "python",
   "name": "python3"
  }
 },
 "nbformat": 4,
 "nbformat_minor": 0
}
