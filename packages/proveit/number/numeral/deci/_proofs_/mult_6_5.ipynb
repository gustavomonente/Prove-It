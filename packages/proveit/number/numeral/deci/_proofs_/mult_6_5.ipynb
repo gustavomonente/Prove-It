{
 "cells": [
  {
   "cell_type": "markdown",
   "metadata": {},
   "source": [
    "Proof of <a class=\"ProveItLink\" href=\"../../../../_context_.ipynb\">proveit</a>.<a class=\"ProveItLink\" href=\"../../../_context_.ipynb\">number</a>.<a class=\"ProveItLink\" href=\"../../_context_.ipynb\">numeral</a>.<a class=\"ProveItLink\" href=\"../_context_.ipynb\">deci</a>.<a class=\"ProveItLink\" href=\"../_theorems_.ipynb#mult_6_5\">mult_6_5</a> theorem\n",
    "========"
   ]
  },
  {
   "cell_type": "code",
   "execution_count": 1,
   "metadata": {},
   "outputs": [],
   "source": [
    "import proveit\n",
    "context = proveit.Context('..') # the theorem's context is in the parent directory"
   ]
  },
  {
   "cell_type": "code",
   "execution_count": 2,
   "metadata": {},
   "outputs": [
    {
     "name": "stdout",
     "output_type": "stream",
     "text": [
      "Beginning proof of mult_6_5\n",
      "Recorded 'presuming' information\n",
      "Presuming previous theorems (applied transitively).\n"
     ]
    },
    {
     "data": {
      "text/html": [
       "<strong id=\"mult_6_5\">mult_6_5:</strong> <a class=\"ProveItLink\" href=\"../__pv_it/29e2311bfda006a2e1e4c53887278e35ed9c96aa0/expr.ipynb\"><img src=\"data:image/png;base64,iVBORw0KGgoAAAANSUhEUgAAAGEAAAAUBAMAAABvx07iAAAAMFBMVEX///9UVFTMzMx2dna6uroQ\n",
       "EBCqqqqIiIgiIiJmZmYyMjJERETu7u6YmJjc3NwAAAC+aOQFAAAAAXRSTlMAQObYZgAAAaRJREFU\n",
       "KM99k79Lw1AQx7/9oaZtEkUnnfofNOJQrINZBDeL1EVF3l9gK05dtJOggxYqgjhY3RQU3RRRsxSK\n",
       "ChXEzWrARRep6KBirZf0Jy8hBwl59+6Tu++7e4B8C4vNwsmu6QnPB+tL/4N7Ay6dj5IHhhjF3Rlx\n",
       "h8CV6svWt9oqFQVilide0V6Gn4mrgJQGThE4auToXzCS8sQiwxfugQgg6PD+tWy5zHeOJ0ZU/OAY\n",
       "iGt4AQJRC+FXLXqpqndgjCEJdO6G15tEMUnqPGkLkVfEbyISOAcKBxBYfSOgyZ+kzpQe2Tdsz/Q/\n",
       "L2vyBxBKYImIEnzT5BRr0AmVkLLk6IjJlCOkIEZVpSDRf1Gonem2DnfJ2riJm2pVRAhZSGVyCV30\n",
       "6gOGVSvxBlwyUh5nRlWuaDWHaZOUQ4M31dSxY3xWNCLOgCfNUO7+ha9xwHRIK3XlLTYFrGnVDg7S\n",
       "sgc51hwHaQbwKRxRNPohMHEcGKWlJ9PdHLlMr0YdDHKEd3NLhRieC5pTYmN5h2GX0nbesNP9uLDx\n",
       "Waedv1G8BXQnwu7WPjrE/wNqRW8v+Yc0AQAAAABJRU5ErkJggg==\n",
       "\" style=\"display:inline;vertical-align:middle;\" /></a><br>(see <a class=\"ProveItLink\" href=\"../__pv_it/29e2311bfda006a2e1e4c53887278e35ed9c96aa0/dependencies.ipynb\">dependencies</a>)<br>"
      ],
      "text/plain": [
       "mult_6_5: (6 * 5) = 30"
      ]
     },
     "execution_count": 2,
     "metadata": {},
     "output_type": "execute_result"
    }
   ],
   "source": [
    "%proving mult_6_5 presuming []"
   ]
  },
  {
   "cell_type": "code",
   "execution_count": null,
   "metadata": {},
   "outputs": [],
   "source": []
  }
 ],
 "metadata": {
  "kernelspec": {
   "display_name": "Python 3",
   "language": "python",
   "name": "python3"
  }
 },
 "nbformat": 4,
 "nbformat_minor": 0
}
