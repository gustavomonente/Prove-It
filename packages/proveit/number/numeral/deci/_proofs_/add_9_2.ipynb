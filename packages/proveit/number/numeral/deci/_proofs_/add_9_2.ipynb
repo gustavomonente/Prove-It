{
 "cells": [
  {
   "cell_type": "markdown",
   "metadata": {},
   "source": [
    "Proof of <a class=\"ProveItLink\" href=\"../../../../_context_.ipynb\">proveit</a>.<a class=\"ProveItLink\" href=\"../../../_context_.ipynb\">number</a>.<a class=\"ProveItLink\" href=\"../../_context_.ipynb\">numeral</a>.<a class=\"ProveItLink\" href=\"../_context_.ipynb\">decimal</a>.<a class=\"ProveItLink\" href=\"../_theorems_.ipynb#add_9_2\">add_9_2</a> theorem\n",
    "========"
   ]
  },
  {
   "cell_type": "code",
   "execution_count": 1,
   "metadata": {},
   "outputs": [],
   "source": [
    "import proveit\n",
    "context = proveit.Context('..') # the theorem's context is in the parent directory"
   ]
  },
  {
   "cell_type": "code",
   "execution_count": 2,
   "metadata": {},
   "outputs": [
    {
     "name": "stdout",
     "output_type": "stream",
     "text": [
      "Beginning proof of add_9_2\n",
      "Recorded 'presuming' information\n",
      "Presuming previous theorems (applied transitively).\n"
     ]
    },
    {
     "data": {
      "text/html": [
       "<strong id=\"add_9_2\">add_9_2:</strong> <a class=\"ProveItLink\" href=\"../__pv_it/9e8f76b61e9407db8b22dde15a79a47a834fd6bf0/expr.ipynb\"><img src=\"data:image/png;base64,iVBORw0KGgoAAAANSUhEUgAAAGsAAAAUBAMAAAB45d4rAAAAMFBMVEX////MzMxUVFR2dna6uroQ\n",
       "EBCqqqqIiIgiIiJmZmYyMjJERETu7u6YmJjc3NwAAACgK8IjAAAAAXRSTlMAQObYZgAAAVpJREFU\n",
       "OMuVlLFLw0AUxj8S2saQ1KF/QAPuVcikix3dzOCoOIjU0bWLBsXOoU7iouJiUNHJyXJrq2A3wcUs\n",
       "gpMoiFNsvPMy5C69iA/yLnfJ77277+4dUB1ivJUjFNgd0Hcb0mD/8BpoFGGXsFbwQoQxy8F8E4P8\n",
       "z+skdXYAzYMW8OEWbyYISh70TQmypqYJdzAiTB5Bfxewkg9tBMvLZXsmqXsFHq5QGQmYGUP7AE7V\n",
       "WJvGptk+BYyaEQOzauwWbIbmt4wtzgBP7EUPfy0QsQ5tb7D2JWM79NlQZ1tiG/tYoyvBXBjuheEJ\n",
       "15JFrxdjgBZL2dooxjpcOkfEygHegIXM2pycJPYy6pGI1YCtVJLx2ajIlXPrAgJW3XW7PrCfw7ZJ\n",
       "6thE3IOmiJlJklDsWKa6q2dD7gyhPFrCEfTVBWAH2d59tpM7ylnrKb8M/ijTfwdkqqkuBbvgUvgB\n",
       "D4N5wDWGnvYAAAAASUVORK5CYII=\n",
       "\" style=\"display:inline;vertical-align:middle;\" /></a><br>(see <a class=\"ProveItLink\" href=\"../__pv_it/9e8f76b61e9407db8b22dde15a79a47a834fd6bf0/dependencies.ipynb\">dependencies</a>)<br>"
      ],
      "text/plain": [
       "add_9_2: (9 + 2) = 11"
      ]
     },
     "execution_count": 2,
     "metadata": {},
     "output_type": "execute_result"
    }
   ],
   "source": [
    "%proving add_9_2 presuming []"
   ]
  },
  {
   "cell_type": "code",
   "execution_count": null,
   "metadata": {},
   "outputs": [],
   "source": []
  }
 ],
 "metadata": {
  "kernelspec": {
   "display_name": "Python 3",
   "language": "python",
   "name": "python3"
  }
 },
 "nbformat": 4,
 "nbformat_minor": 0
}
