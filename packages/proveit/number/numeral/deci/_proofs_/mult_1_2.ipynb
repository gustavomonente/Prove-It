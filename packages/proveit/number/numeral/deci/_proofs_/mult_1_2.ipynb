{
 "cells": [
  {
   "cell_type": "markdown",
   "metadata": {},
   "source": [
    "Proof of <a class=\"ProveItLink\" href=\"../../../../_context_.ipynb\">proveit</a>.<a class=\"ProveItLink\" href=\"../../../_context_.ipynb\">number</a>.<a class=\"ProveItLink\" href=\"../../_context_.ipynb\">numeral</a>.<a class=\"ProveItLink\" href=\"../_context_.ipynb\">deci</a>.<a class=\"ProveItLink\" href=\"../_theorems_.ipynb#mult_1_2\">mult_1_2</a> theorem\n",
    "========"
   ]
  },
  {
   "cell_type": "code",
   "execution_count": 1,
   "metadata": {},
   "outputs": [],
   "source": [
    "import proveit\n",
    "context = proveit.Context('..') # the theorem's context is in the parent directory"
   ]
  },
  {
   "cell_type": "code",
   "execution_count": 2,
   "metadata": {},
   "outputs": [
    {
     "name": "stdout",
     "output_type": "stream",
     "text": [
      "Beginning proof of mult_1_2\n",
      "Recorded 'presuming' information\n",
      "Presuming previous theorems (applied transitively).\n"
     ]
    },
    {
     "data": {
      "text/html": [
       "<strong id=\"mult_1_2\">mult_1_2:</strong> <a class=\"ProveItLink\" href=\"../__pv_it/dde01890483c9d78efb0db2bcd2b35c37382bfa90/expr.ipynb\"><img src=\"data:image/png;base64,iVBORw0KGgoAAAANSUhEUgAAAFcAAAAUBAMAAAAKKrydAAAAMFBMVEX////MzMxUVFR2dna6uroQ\n",
       "EBCqqqqIiIgiIiJmZmYyMjJERETu7u6YmJjc3NwAAACgK8IjAAAAAXRSTlMAQObYZgAAAR5JREFU\n",
       "KM91k71KA0EURk9MMGvchH0EwcZuAxYhVpY+gIKdlYWNvZWp0rrYBSzELhbmAURZBEGw0CfQKVMK\n",
       "WtjF+ZFMcmf2wsDM4ezu3JlvofNOUKdU1OvyMh3dZ6woaVkMd3ocl3P6RP2H9FrKFtMuSDdzL1/B\n",
       "AfSk7HBivvjp5UPIFc9SdnjKsjwpyTNau0J2+EzIui5K6kV4Eho/BHLjW3diO9y5NTX2eOjl1NFk\n",
       "A1YHwYsN3vfymzuwkR61r0A2eEE2z0KziMoWD+WeT+goGgO/5xuPZYO1Lk313+BCOdw303MvT7f7\n",
       "W7DWFbLDe3p2eTSeR28ym/1CK5OXYnGiYlF8iSe0XcRoryLPjxEWRjQeflvrqkKO/VYfcfUPPMlb\n",
       "/kJbLj4AAAAASUVORK5CYII=\n",
       "\" style=\"display:inline;vertical-align:middle;\" /></a><br>(see <a class=\"ProveItLink\" href=\"../__pv_it/dde01890483c9d78efb0db2bcd2b35c37382bfa90/dependencies.ipynb\">dependencies</a>)<br>"
      ],
      "text/plain": [
       "mult_1_2: (1 * 2) = 2"
      ]
     },
     "execution_count": 2,
     "metadata": {},
     "output_type": "execute_result"
    }
   ],
   "source": [
    "%proving mult_1_2 presuming []"
   ]
  },
  {
   "cell_type": "code",
   "execution_count": null,
   "metadata": {},
   "outputs": [],
   "source": []
  }
 ],
 "metadata": {
  "kernelspec": {
   "display_name": "Python 3",
   "language": "python",
   "name": "python3"
  }
 },
 "nbformat": 4,
 "nbformat_minor": 0
}
