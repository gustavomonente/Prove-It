{
 "cells": [
  {
   "cell_type": "markdown",
   "metadata": {},
   "source": [
    "Proof of <a class=\"ProveItLink\" href=\"../../../../_context_.ipynb\">proveit</a>.<a class=\"ProveItLink\" href=\"../../../_context_.ipynb\">number</a>.<a class=\"ProveItLink\" href=\"../../_context_.ipynb\">numeral</a>.<a class=\"ProveItLink\" href=\"../_context_.ipynb\">deci</a>.<a class=\"ProveItLink\" href=\"../_theorems_.ipynb#mult_3_9\">mult_3_9</a> theorem\n",
    "========"
   ]
  },
  {
   "cell_type": "code",
   "execution_count": 1,
   "metadata": {},
   "outputs": [],
   "source": [
    "import proveit\n",
    "context = proveit.Context('..') # the theorem's context is in the parent directory"
   ]
  },
  {
   "cell_type": "code",
   "execution_count": 2,
   "metadata": {},
   "outputs": [
    {
     "name": "stdout",
     "output_type": "stream",
     "text": [
      "Beginning proof of mult_3_9\n",
      "Recorded 'presuming' information\n",
      "Presuming previous theorems (applied transitively).\n"
     ]
    },
    {
     "data": {
      "text/html": [
       "<strong id=\"mult_3_9\">mult_3_9:</strong> <a class=\"ProveItLink\" href=\"../__pv_it/b368f1df249ea9f52d2aacdd2b736d8f32eba34f0/expr.ipynb\"><img src=\"data:image/png;base64,iVBORw0KGgoAAAANSUhEUgAAAGIAAAAUBAMAAACE8PXhAAAAMFBMVEX////MzMxUVFR2dna6uroQ\n",
       "EBCqqqqIiIgiIiJmZmYyMjJERETu7u6YmJjc3NwAAACgK8IjAAAAAXRSTlMAQObYZgAAAZpJREFU\n",
       "KM99Uz1Iw1AQ/vqb2KRJRje7CHZqNUOtIO2oewWRDl0d1Do46GJBcDWgS0GkdNPBdhAXUYIgiA5m\n",
       "cdWACB0LShEtxkvSxpKEfHAv793ddz959wBBgwfrCMIj8CZfOkf+cEZHWHd78fUrCeNpWc4C5xAU\n",
       "bDiJ7jShDL7hZtwi8olXwzBSSCpgehBrQ9MkkAZybsYxsIQTIAywOqIliE7Qb6BAmdyMZSCjU0XT\n",
       "QMdSOFXxP8CujkTRxWipyEhAtApsW357jmmFchQRUby/6EAFOPpekwizx46eSmppSFpVzp2ZOLUN\n",
       "0Q9a5kn2reOWWQVv7rhqvFBBvOZJwabIo0ubknWMlWl5sgKvbRYkhLoeRp2EadgMQQfXG0QxkVF9\n",
       "GIzZGdu2qxL7NmOIJhVd+++jaSlXzcBiyu481gbbH7o/q6FfDDofQSgLRseEmShPZm1kSnbUB9qP\n",
       "ZV2Mjpyfomsz1Qski/ULxxTJH9GakNw3aBhfwHsF1pT44D5g2JOKnzYX9D5ufHTeaXe9KA84PYjh\n",
       "92pfAvz/AGYJaH2hqUTTAAAAAElFTkSuQmCC\n",
       "\" style=\"display:inline;vertical-align:middle;\" /></a><br>(see <a class=\"ProveItLink\" href=\"../__pv_it/b368f1df249ea9f52d2aacdd2b736d8f32eba34f0/dependencies.ipynb\">dependencies</a>)<br>"
      ],
      "text/plain": [
       "mult_3_9: (3 * 9) = 27"
      ]
     },
     "execution_count": 2,
     "metadata": {},
     "output_type": "execute_result"
    }
   ],
   "source": [
    "%proving mult_3_9 presuming []"
   ]
  },
  {
   "cell_type": "code",
   "execution_count": null,
   "metadata": {},
   "outputs": [],
   "source": []
  }
 ],
 "metadata": {
  "kernelspec": {
   "display_name": "Python 3",
   "language": "python",
   "name": "python3"
  }
 },
 "nbformat": 4,
 "nbformat_minor": 0
}
