{
 "cells": [
  {
   "cell_type": "markdown",
   "metadata": {},
   "source": [
    "Proof of <a class=\"ProveItLink\" href=\"../../../../_context_.ipynb\">proveit</a>.<a class=\"ProveItLink\" href=\"../../../_context_.ipynb\">number</a>.<a class=\"ProveItLink\" href=\"../../_context_.ipynb\">numeral</a>.<a class=\"ProveItLink\" href=\"../_context_.ipynb\">decimal</a>.<a class=\"ProveItLink\" href=\"../_theorems_.ipynb#add_4_6\">add_4_6</a> theorem\n",
    "========"
   ]
  },
  {
   "cell_type": "code",
   "execution_count": 1,
   "metadata": {},
   "outputs": [],
   "source": [
    "import proveit\n",
    "context = proveit.Context('..') # the theorem's context is in the parent directory"
   ]
  },
  {
   "cell_type": "code",
   "execution_count": 2,
   "metadata": {},
   "outputs": [
    {
     "name": "stdout",
     "output_type": "stream",
     "text": [
      "Beginning proof of add_4_6\n",
      "Recorded 'presuming' information\n",
      "Presuming previous theorems (applied transitively).\n"
     ]
    },
    {
     "data": {
      "text/html": [
       "<strong id=\"add_4_6\">add_4_6:</strong> <a class=\"ProveItLink\" href=\"../__pv_it/d3aafeade9c7eca269ce9d93a701d7f9451210570/expr.ipynb\"><img src=\"data:image/png;base64,iVBORw0KGgoAAAANSUhEUgAAAGwAAAAUBAMAAACaOcVSAAAAMFBMVEX///9UVFTMzMx2dna6uroQ\n",
       "EBCqqqqIiIgiIiJmZmYyMjJERETu7u6YmJjc3NwAAAC+aOQFAAAAAXRSTlMAQObYZgAAAX9JREFU\n",
       "OMuVlD1Iw0AUx/82pSbEs8XOalcni0tRF0fHCG4K6iB1LDiIg1gHO0cqSLdaRDCgdHVQCqUoUWhn\n",
       "Fzu6SAW1XeLHu6RKc0kqvuHu3l1+ee/exwHDDfhLpIk+cseHCXE3tZnAmD8g7UzReMGXe8KROacU\n",
       "YXqR9QpwitsmmE7a4EJ3O92dL6GWIWUEaCg+XgHTIBUh8xs8H7ux8Kf9leax9liBGkPEwhPXkgKm\n",
       "OsCJHxaNIdzGNimsKWDRUuqQpmk/rK4j3MEVKTcQsPo55FXgwQ6cYYv+g7WSCHWQ4z56sBcoy8CG\n",
       "n7WWjtArFimvCQebMYx9w+DLaBbsDZgMdpKwKkRrchHsIwCjkETa3Mm1QuH9yIUNaLa1+Z67xX4T\n",
       "UAaz7JAAQrpDFhStGxLRmpNuJ8hLQpXEUaNI5j3YLhVXDrWE48js16gbk/IjNJZE6mDlrIHqFp3J\n",
       "rvZIu0owG9w3TO/V7l0dkunTb9eBJ+afbfrPH5IEPgqsz6PwDekAdYRZoMV1AAAAAElFTkSuQmCC\n",
       "\" style=\"display:inline;vertical-align:middle;\" /></a><br>(see <a class=\"ProveItLink\" href=\"../__pv_it/d3aafeade9c7eca269ce9d93a701d7f9451210570/dependencies.ipynb\">dependencies</a>)<br>"
      ],
      "text/plain": [
       "add_4_6: (4 + 6) = 10"
      ]
     },
     "execution_count": 2,
     "metadata": {},
     "output_type": "execute_result"
    }
   ],
   "source": [
    "%proving add_4_6 presuming []"
   ]
  },
  {
   "cell_type": "code",
   "execution_count": null,
   "metadata": {},
   "outputs": [],
   "source": []
  }
 ],
 "metadata": {
  "kernelspec": {
   "display_name": "Python 3",
   "language": "python",
   "name": "python3"
  }
 },
 "nbformat": 4,
 "nbformat_minor": 0
}
