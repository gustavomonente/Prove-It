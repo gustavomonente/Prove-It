{
 "cells": [
  {
   "cell_type": "markdown",
   "metadata": {},
   "source": [
    "Proof of <a class=\"ProveItLink\" href=\"../../../../_context_.ipynb\">proveit</a>.<a class=\"ProveItLink\" href=\"../../../_context_.ipynb\">number</a>.<a class=\"ProveItLink\" href=\"../../_context_.ipynb\">numeral</a>.<a class=\"ProveItLink\" href=\"../_context_.ipynb\">decimal</a>.<a class=\"ProveItLink\" href=\"../_theorems_.ipynb#add_4_1\">add_4_1</a> theorem\n",
    "========"
   ]
  },
  {
   "cell_type": "code",
   "execution_count": 1,
   "metadata": {},
   "outputs": [],
   "source": [
    "import proveit\n",
    "context = proveit.Context('..') # the theorem's context is in the parent directory"
   ]
  },
  {
   "cell_type": "code",
   "execution_count": 2,
   "metadata": {},
   "outputs": [
    {
     "name": "stdout",
     "output_type": "stream",
     "text": [
      "Beginning proof of add_4_1\n",
      "Recorded 'presuming' information\n",
      "Presuming previous theorems (applied transitively).\n"
     ]
    },
    {
     "data": {
      "text/html": [
       "<strong id=\"add_4_1\">add_4_1:</strong> <a class=\"ProveItLink\" href=\"../__pv_it/f6d0033ac6c7dbb23a68a7b7a55ada7724a6f3b90/expr.ipynb\"><img src=\"data:image/png;base64,iVBORw0KGgoAAAANSUhEUgAAAGEAAAAUBAMAAABvx07iAAAAMFBMVEX///9UVFTMzMx2dna6uroQ\n",
       "EBCqqqqIiIgiIiJmZmYyMjJERETu7u6YmJjc3NwAAAC+aOQFAAAAAXRSTlMAQObYZgAAATZJREFU\n",
       "KM9jYOC7wIAd5OEQZzgNIjSxSDA+QBfhusM0DUitA7Eb0eTYYhgYeBag62D9/9+AgYF3ApDJHggV\n",
       "S4dQBw3/AElzDDsM64AkB8jutwtRdTDwgnQcxXAnmHwBIgyw6uBywKqjEiT/AKsO5gnoOu5WKjAw\n",
       "7AWyjjNg1cEL9jrzKjAA6eY+wPeFgaEN5CjsOtgaMIN8BwNDCFBGAaLDatWq1lWrFsJ1MH3A1DH/\n",
       "AUjHYQbsdmDokGJgsHcAuSpx5syv07HoYGlA8ocAkBkFtOMA2OcMDIG4fY4EgL7vYmCwBLOj0XSw\n",
       "g3RwGqDpeMnAG8fA4AFiWv+XRdHBKfprLjAGFdB08E2WPABNJXCQjsw5gT2x86JE7BlkjjmO/LEP\n",
       "V8bBTO3IOQob4H6AQwJnrr2HXRgA92xYAeLq6goAAAAASUVORK5CYII=\n",
       "\" style=\"display:inline;vertical-align:middle;\" /></a><br>(see <a class=\"ProveItLink\" href=\"../__pv_it/f6d0033ac6c7dbb23a68a7b7a55ada7724a6f3b90/dependencies.ipynb\">dependencies</a>)<br>"
      ],
      "text/plain": [
       "add_4_1: (4 + 1) = 5"
      ]
     },
     "execution_count": 2,
     "metadata": {},
     "output_type": "execute_result"
    }
   ],
   "source": [
    "%proving add_4_1 presuming []"
   ]
  },
  {
   "cell_type": "code",
   "execution_count": null,
   "metadata": {},
   "outputs": [],
   "source": []
  }
 ],
 "metadata": {
  "kernelspec": {
   "display_name": "Python 3",
   "language": "python",
   "name": "python3"
  }
 },
 "nbformat": 4,
 "nbformat_minor": 0
}
