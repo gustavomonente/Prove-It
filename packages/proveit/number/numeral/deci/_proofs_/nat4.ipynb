{
 "cells": [
  {
   "cell_type": "markdown",
   "metadata": {},
   "source": [
    "Proof of <a class=\"ProveItLink\" href=\"../../../../_context_.ipynb\">proveit</a>.<a class=\"ProveItLink\" href=\"../../../_context_.ipynb\">number</a>.<a class=\"ProveItLink\" href=\"../../_context_.ipynb\">numeral</a>.<a class=\"ProveItLink\" href=\"../_context_.ipynb\">decimal</a>.<a class=\"ProveItLink\" href=\"../_theorems_.ipynb#nat4\">nat4</a> theorem\n",
    "========"
   ]
  },
  {
   "cell_type": "code",
   "execution_count": 1,
   "metadata": {},
   "outputs": [],
   "source": [
    "import proveit\n",
    "context = proveit.Context('..') # the theorem's context is in the parent directory"
   ]
  },
  {
   "cell_type": "code",
   "execution_count": 2,
   "metadata": {},
   "outputs": [
    {
     "name": "stdout",
     "output_type": "stream",
     "text": [
      "Beginning proof of nat4\n",
      "Recorded 'presuming' information\n",
      "Presuming previous theorems (applied transitively).\n"
     ]
    },
    {
     "data": {
      "text/html": [
       "<strong id=\"nat4\">nat4:</strong> <a class=\"ProveItLink\" href=\"../__pv_it/0ac72aa4f3c098e8aab965f7fe889137da3082fc0/expr.ipynb\"><img src=\"data:image/png;base64,iVBORw0KGgoAAAANSUhEUgAAADMAAAAPBAMAAAC7N+rPAAAAMFBMVEX///+6urpERESqqqru7u52\n",
       "dnYyMjKYmJjc3NwQEBCIiIhUVFQiIiJmZmbMzMwAAABIfTqqAAAAAXRSTlMAQObYZgAAANRJREFU\n",
       "GNNjYGBgeMuAAtw+qTkwRP4UALFPo0oxqPNtYGD5AGJxzUaT2vNgFQPDBBCrPRsiwq5z5hiYsVGF\n",
       "+wHDARArACLFp+UA1bXjNUsKWIq9ASLlBpNh2MG84DVYyosBIrUDbtcOhkD2BSCpAKiUApIUt8M+\n",
       "oBTzA4gU37Q0IIBKsWxgA7rQlQEixYGsi+EpH1DK+u7dn7dAAhOQpdgNICohXr4Fl9oHxBEQqUlg\n",
       "kscAJpUMxLwJIFbQ/+0gimWTCETmzU+gDpYE5KBjDIIGFBQAANe6OGiF045OAAAAAElFTkSuQmCC\n",
       "\" style=\"display:inline;vertical-align:middle;\" /></a><br>(see <a class=\"ProveItLink\" href=\"../__pv_it/0ac72aa4f3c098e8aab965f7fe889137da3082fc0/dependencies.ipynb\">dependencies</a>)<br>"
      ],
      "text/plain": [
       "nat4: 4 in Naturals"
      ]
     },
     "execution_count": 2,
     "metadata": {},
     "output_type": "execute_result"
    }
   ],
   "source": [
    "%proving nat4 presuming []"
   ]
  },
  {
   "cell_type": "code",
   "execution_count": null,
   "metadata": {},
   "outputs": [],
   "source": []
  }
 ],
 "metadata": {
  "kernelspec": {
   "display_name": "Python 3",
   "language": "python",
   "name": "python3"
  }
 },
 "nbformat": 4,
 "nbformat_minor": 0
}
