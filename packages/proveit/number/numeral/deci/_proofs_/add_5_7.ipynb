{
 "cells": [
  {
   "cell_type": "markdown",
   "metadata": {},
   "source": [
    "Proof of <a class=\"ProveItLink\" href=\"../../../../_context_.ipynb\">proveit</a>.<a class=\"ProveItLink\" href=\"../../../_context_.ipynb\">number</a>.<a class=\"ProveItLink\" href=\"../../_context_.ipynb\">numeral</a>.<a class=\"ProveItLink\" href=\"../_context_.ipynb\">decimal</a>.<a class=\"ProveItLink\" href=\"../_theorems_.ipynb#add_5_7\">add_5_7</a> theorem\n",
    "========"
   ]
  },
  {
   "cell_type": "code",
   "execution_count": 1,
   "metadata": {},
   "outputs": [],
   "source": [
    "import proveit\n",
    "context = proveit.Context('..') # the theorem's context is in the parent directory"
   ]
  },
  {
   "cell_type": "code",
   "execution_count": 2,
   "metadata": {},
   "outputs": [
    {
     "name": "stdout",
     "output_type": "stream",
     "text": [
      "Beginning proof of add_5_7\n",
      "Recorded 'presuming' information\n",
      "Presuming previous theorems (applied transitively).\n"
     ]
    },
    {
     "data": {
      "text/html": [
       "<strong id=\"add_5_7\">add_5_7:</strong> <a class=\"ProveItLink\" href=\"../__pv_it/6b6fb0346c0a982dbe8e7c214209bbcce8cc471d0/expr.ipynb\"><img src=\"data:image/png;base64,iVBORw0KGgoAAAANSUhEUgAAAGwAAAAUBAMAAACaOcVSAAAAMFBMVEX///9UVFTMzMx2dna6uroQ\n",
       "EBCqqqqIiIgiIiJmZmYyMjJERETu7u6YmJjc3NwAAAC+aOQFAAAAAXRSTlMAQObYZgAAAXdJREFU\n",
       "OMtjYOC7wIAdsD1gwANOMzCsPaCZgCLG1DjZ2JhBDruGk7M3Acl1DAzx/z+jyvD+////I8MpTC2p\n",
       "Bxh4BBjsHRh4JzAwLBaHuScdQnEC+QIMzAVomniE5Q8wcB5gYA1g4ACrYEDVxgxECgw8ARi23Qfq\n",
       "aWBg/MfwggGLNiBwB+Il2LRx/WFg/MRQCeTIXp+EoW0DEFti0wYEHH8Y9gKpPQzvHdC0MYOi5RaY\n",
       "tQoMJiBp8zdgaANzuRvQtJ0HERk4bGtkYAiBBN0/IGG1alXrqlULwQJVIEIfuzbOCWBtjAsYmL+g\n",
       "2daNRxsoOICOZF3AwPkHTdtHEOGB5DcBuDa2CQzvQEHCCQybBajamH4ywIIEwzZlBoY6UCDzTWC4\n",
       "+gBVGxs4tU3G0FZ/gIGv2XhiA9ghLw3noMUbXxiIXISua2L8ygtcwPTaAE5cDFhSCSgJNuDON7wT\n",
       "kHlnkDkYSRkZ7MMpc4pANiXZQJDvcRUKvHgKBQBOGXDGXCIgswAAAABJRU5ErkJggg==\n",
       "\" style=\"display:inline;vertical-align:middle;\" /></a><br>(see <a class=\"ProveItLink\" href=\"../__pv_it/6b6fb0346c0a982dbe8e7c214209bbcce8cc471d0/dependencies.ipynb\">dependencies</a>)<br>"
      ],
      "text/plain": [
       "add_5_7: (5 + 7) = 12"
      ]
     },
     "execution_count": 2,
     "metadata": {},
     "output_type": "execute_result"
    }
   ],
   "source": [
    "%proving add_5_7 presuming []"
   ]
  },
  {
   "cell_type": "code",
   "execution_count": null,
   "metadata": {},
   "outputs": [],
   "source": []
  }
 ],
 "metadata": {
  "kernelspec": {
   "display_name": "Python 3",
   "language": "python",
   "name": "python3"
  }
 },
 "nbformat": 4,
 "nbformat_minor": 0
}
