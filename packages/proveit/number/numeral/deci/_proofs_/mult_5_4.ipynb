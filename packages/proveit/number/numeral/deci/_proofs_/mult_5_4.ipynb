{
 "cells": [
  {
   "cell_type": "markdown",
   "metadata": {},
   "source": [
    "Proof of <a class=\"ProveItLink\" href=\"../../../../_context_.ipynb\">proveit</a>.<a class=\"ProveItLink\" href=\"../../../_context_.ipynb\">number</a>.<a class=\"ProveItLink\" href=\"../../_context_.ipynb\">numeral</a>.<a class=\"ProveItLink\" href=\"../_context_.ipynb\">deci</a>.<a class=\"ProveItLink\" href=\"../_theorems_.ipynb#mult_5_4\">mult_5_4</a> theorem\n",
    "========"
   ]
  },
  {
   "cell_type": "code",
   "execution_count": 1,
   "metadata": {},
   "outputs": [],
   "source": [
    "import proveit\n",
    "context = proveit.Context('..') # the theorem's context is in the parent directory"
   ]
  },
  {
   "cell_type": "code",
   "execution_count": 2,
   "metadata": {},
   "outputs": [
    {
     "name": "stdout",
     "output_type": "stream",
     "text": [
      "Beginning proof of mult_5_4\n",
      "Recorded 'presuming' information\n",
      "Presuming previous theorems (applied transitively).\n"
     ]
    },
    {
     "data": {
      "text/html": [
       "<strong id=\"mult_5_4\">mult_5_4:</strong> <a class=\"ProveItLink\" href=\"../__pv_it/23b3a2066ad3ec26cd976a31440761231880aeda0/expr.ipynb\"><img src=\"data:image/png;base64,iVBORw0KGgoAAAANSUhEUgAAAGEAAAAUBAMAAABvx07iAAAAMFBMVEX///9UVFTMzMx2dna6uroQ\n",
       "EBCqqqqIiIgiIiJmZmYyMjJERETu7u6YmJjc3NwAAAC+aOQFAAAAAXRSTlMAQObYZgAAAZFJREFU\n",
       "KM99kz1Iw0AUx//9sm16DdnUQZrVqRGH0k6OboIo6GRwc7FxcHDr5KjBrVCw4qTg11w/4iAIChak\n",
       "CA41Y5201EFBrO8SacOl5g3HvXvv9+7e/e8AuQ6frSLI7oAja1zvL4RNhGwxi5VrKpB7pAHHwFK3\n",
       "4wkmFLCqSFwj8gFJZ1tA2gT2h7011xUqJhIVYB4NoEAVKVnxxuRncm9EYgHI2GdA0UILAhGRyJWm\n",
       "BOLEQkZtAzM6Nsgde9rpx5qciJj+K9q+/yLCwAXNz/HWq8kMTqSd1guH3A7cQLQj0/1kDWw6bqrE\n",
       "k51DgRNDJd8WCUWmPbIa5hw3+UPDAy+87BDhdx9RBnNPRUSoyi/bEQJM+4eIU2fUeVHnp4pVkfz+\n",
       "CwyNlncXDURL/T72nMAKZLsGvFi88ySV94gc63XusbCGuO0qmCfNTDQ8osdOqYgmEK3J/AgSOpsF\n",
       "psl9nah4FLxq1yGpooLd7idYbk11X4nfbgMee9octJoL+h+XA9b8r134UT5L2UHEoF/bDMj/BZ/l\n",
       "Zjqsi+YCAAAAAElFTkSuQmCC\n",
       "\" style=\"display:inline;vertical-align:middle;\" /></a><br>(see <a class=\"ProveItLink\" href=\"../__pv_it/23b3a2066ad3ec26cd976a31440761231880aeda0/dependencies.ipynb\">dependencies</a>)<br>"
      ],
      "text/plain": [
       "mult_5_4: (5 * 4) = 20"
      ]
     },
     "execution_count": 2,
     "metadata": {},
     "output_type": "execute_result"
    }
   ],
   "source": [
    "%proving mult_5_4 presuming []"
   ]
  },
  {
   "cell_type": "code",
   "execution_count": null,
   "metadata": {},
   "outputs": [],
   "source": []
  }
 ],
 "metadata": {
  "kernelspec": {
   "display_name": "Python 3",
   "language": "python",
   "name": "python3"
  }
 },
 "nbformat": 4,
 "nbformat_minor": 0
}
