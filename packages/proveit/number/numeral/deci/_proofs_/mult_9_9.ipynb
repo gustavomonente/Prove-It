{
 "cells": [
  {
   "cell_type": "markdown",
   "metadata": {},
   "source": [
    "Proof of <a class=\"ProveItLink\" href=\"../../../../_context_.ipynb\">proveit</a>.<a class=\"ProveItLink\" href=\"../../../_context_.ipynb\">number</a>.<a class=\"ProveItLink\" href=\"../../_context_.ipynb\">numeral</a>.<a class=\"ProveItLink\" href=\"../_context_.ipynb\">deci</a>.<a class=\"ProveItLink\" href=\"../_theorems_.ipynb#mult_9_9\">mult_9_9</a> theorem\n",
    "========"
   ]
  },
  {
   "cell_type": "code",
   "execution_count": 1,
   "metadata": {},
   "outputs": [],
   "source": [
    "import proveit\n",
    "context = proveit.Context('..') # the theorem's context is in the parent directory"
   ]
  },
  {
   "cell_type": "code",
   "execution_count": 2,
   "metadata": {},
   "outputs": [
    {
     "name": "stdout",
     "output_type": "stream",
     "text": [
      "Beginning proof of mult_9_9\n",
      "Recorded 'presuming' information\n",
      "Presuming previous theorems (applied transitively).\n"
     ]
    },
    {
     "data": {
      "text/html": [
       "<strong id=\"mult_9_9\">mult_9_9:</strong> <a class=\"ProveItLink\" href=\"../__pv_it/a63113e8226f22e3f3c7c658fb9137e78b417c8c0/expr.ipynb\"><img src=\"data:image/png;base64,iVBORw0KGgoAAAANSUhEUgAAAGAAAAAUBAMAAACABSXcAAAAMFBMVEX////MzMxUVFR2dna6uroQ\n",
       "EBCqqqqIiIgiIiJmZmYyMjJERETu7u6YmJjc3NwAAACgK8IjAAAAAXRSTlMAQObYZgAAAZRJREFU\n",
       "KM99k71Lw0AYxp+mmn4lteAf0C4Vuqi0Q6ki7SguOnSSKgXnik6ii51cDdjFQSjdKn5tLipBEGod\n",
       "GhTpJlkExwrqUD/fa0yql7Tvknvvud+9z+XeA4IabLGMPnEDXCdGrVTaiesQdH6VtJbK/A6PIC3g\n",
       "UTWVKy2Yg1TmAR8wAog5QFYgzEFQTCUKxIAkDxSAOi7jH4BXx1AZ7paptIE01eGBSaBGuxPwBDRO\n",
       "4Pkyvb4Dmzr8GQ6YPcOUAawDg1ThxVTmqUIGboUDhO+7vAGcg/nxf5oK+TnWIHdOPbHPomrMt1UD\n",
       "2KLkFEtvzA4TAitiOg+xyFUQS9tZA8iyrDn8TJ9GZ9vCajoEV4sDbuF5VS2ALNII3oghjql2gC4g\n",
       "nLcsAf7IH7ECDBS7Z6gwt7SBoJmHlnMIW71wr7roF8v8VS/S6fQOkAI8B9KhpWyodepG3zgHzKho\n",
       "0koCpilL7HbvyZ0qMYshDnDFqPl80fYeaw2HqPXubllxmk32eQ8XDnP29v7/gGwR0PsATk/0offy\n",
       "H3AhbaLS+x7tAAAAAElFTkSuQmCC\n",
       "\" style=\"display:inline;vertical-align:middle;\" /></a><br>(see <a class=\"ProveItLink\" href=\"../__pv_it/a63113e8226f22e3f3c7c658fb9137e78b417c8c0/dependencies.ipynb\">dependencies</a>)<br>"
      ],
      "text/plain": [
       "mult_9_9: (9 * 9) = 81"
      ]
     },
     "execution_count": 2,
     "metadata": {},
     "output_type": "execute_result"
    }
   ],
   "source": [
    "%proving mult_9_9 presuming []"
   ]
  },
  {
   "cell_type": "code",
   "execution_count": null,
   "metadata": {},
   "outputs": [],
   "source": []
  }
 ],
 "metadata": {
  "kernelspec": {
   "display_name": "Python 3",
   "language": "python",
   "name": "python3"
  }
 },
 "nbformat": 4,
 "nbformat_minor": 0
}
