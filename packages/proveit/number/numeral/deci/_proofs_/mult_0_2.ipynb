{
 "cells": [
  {
   "cell_type": "markdown",
   "metadata": {},
   "source": [
    "Proof of <a class=\"ProveItLink\" href=\"../../../../_context_.ipynb\">proveit</a>.<a class=\"ProveItLink\" href=\"../../../_context_.ipynb\">number</a>.<a class=\"ProveItLink\" href=\"../../_context_.ipynb\">numeral</a>.<a class=\"ProveItLink\" href=\"../_context_.ipynb\">deci</a>.<a class=\"ProveItLink\" href=\"../_theorems_.ipynb#mult_0_2\">mult_0_2</a> theorem\n",
    "========"
   ]
  },
  {
   "cell_type": "code",
   "execution_count": 1,
   "metadata": {},
   "outputs": [],
   "source": [
    "import proveit\n",
    "context = proveit.Context('..') # the theorem's context is in the parent directory"
   ]
  },
  {
   "cell_type": "code",
   "execution_count": 2,
   "metadata": {},
   "outputs": [
    {
     "name": "stdout",
     "output_type": "stream",
     "text": [
      "Beginning proof of mult_0_2\n",
      "Recorded 'presuming' information\n",
      "Presuming previous theorems (applied transitively).\n"
     ]
    },
    {
     "data": {
      "text/html": [
       "<strong id=\"mult_0_2\">mult_0_2:</strong> <a class=\"ProveItLink\" href=\"../__pv_it/62746c22be79046c9686a74060c25fff8164a46e0/expr.ipynb\"><img src=\"data:image/png;base64,iVBORw0KGgoAAAANSUhEUgAAAFcAAAAUBAMAAAAKKrydAAAAMFBMVEX///9UVFTMzMx2dna6uroQ\n",
       "EBCqqqqIiIgiIiJmZmYyMjJERETu7u6YmJjc3NwAAAC+aOQFAAAAAXRSTlMAQObYZgAAAWVJREFU\n",
       "KM91k71Lw2AQhx+b0NY2icXJrfkPGnQo7eTopkgFx6wutk7iIHTqqFkLDroIOlidixKRQsGhgrhq\n",
       "xm4qlaog1Df9SNskPUi4/O7JcffevaA9EbBdZtgjSIfL3qdSrevMOQEs+6yL9xWc0/Si90hfKKd+\n",
       "NmEqR6BaqBtIXvQEtkQeP/wCeYg7JFNE/0bqNqQdGn74Boo2bVhIIXdHas0mrZNY9cGfsG5yAC0L\n",
       "+XsicGwjWdOs8ivgErfwbhCZgOWO6KTfQ/7StQvhaULLlKgI2CLScX8fwPEURMvTmTWROWNQGJfR\n",
       "GhxJVTyRj9AyCv0Go91hSohZIbDbYNF0y0heo3pHxw6ag1we13zmunV4s90Gp4YSMYg5wwYDQ8kJ\n",
       "r0JDH6ntldwSzBs+OG4qm7AmvIf9RU+t9Xo/YhV0H6xk9/T+uEOsGb6hqhWmZmfs812IFlzR8fIH\n",
       "LOnMgMOu1Ws4+g+9718Yy8E4+gAAAABJRU5ErkJggg==\n",
       "\" style=\"display:inline;vertical-align:middle;\" /></a><br>(see <a class=\"ProveItLink\" href=\"../__pv_it/62746c22be79046c9686a74060c25fff8164a46e0/dependencies.ipynb\">dependencies</a>)<br>"
      ],
      "text/plain": [
       "mult_0_2: (0 * 2) = 0"
      ]
     },
     "execution_count": 2,
     "metadata": {},
     "output_type": "execute_result"
    }
   ],
   "source": [
    "%proving mult_0_2 presuming []"
   ]
  },
  {
   "cell_type": "code",
   "execution_count": null,
   "metadata": {},
   "outputs": [],
   "source": []
  }
 ],
 "metadata": {
  "kernelspec": {
   "display_name": "Python 3",
   "language": "python",
   "name": "python3"
  }
 },
 "nbformat": 4,
 "nbformat_minor": 0
}
