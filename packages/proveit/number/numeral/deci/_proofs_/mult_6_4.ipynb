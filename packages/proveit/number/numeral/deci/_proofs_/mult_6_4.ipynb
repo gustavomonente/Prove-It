{
 "cells": [
  {
   "cell_type": "markdown",
   "metadata": {},
   "source": [
    "Proof of <a class=\"ProveItLink\" href=\"../../../../_context_.ipynb\">proveit</a>.<a class=\"ProveItLink\" href=\"../../../_context_.ipynb\">number</a>.<a class=\"ProveItLink\" href=\"../../_context_.ipynb\">numeral</a>.<a class=\"ProveItLink\" href=\"../_context_.ipynb\">deci</a>.<a class=\"ProveItLink\" href=\"../_theorems_.ipynb#mult_6_4\">mult_6_4</a> theorem\n",
    "========"
   ]
  },
  {
   "cell_type": "code",
   "execution_count": 1,
   "metadata": {},
   "outputs": [],
   "source": [
    "import proveit\n",
    "context = proveit.Context('..') # the theorem's context is in the parent directory"
   ]
  },
  {
   "cell_type": "code",
   "execution_count": 2,
   "metadata": {},
   "outputs": [
    {
     "name": "stdout",
     "output_type": "stream",
     "text": [
      "Beginning proof of mult_6_4\n",
      "Recorded 'presuming' information\n",
      "Presuming previous theorems (applied transitively).\n"
     ]
    },
    {
     "data": {
      "text/html": [
       "<strong id=\"mult_6_4\">mult_6_4:</strong> <a class=\"ProveItLink\" href=\"../__pv_it/eb81588dd4988ba8d08d22b561fc497674cff04c0/expr.ipynb\"><img src=\"data:image/png;base64,iVBORw0KGgoAAAANSUhEUgAAAGEAAAAUBAMAAABvx07iAAAAMFBMVEX///9UVFTMzMx2dna6uroQ\n",
       "EBCqqqqIiIgiIiJmZmYyMjJERETu7u6YmJjc3NwAAAC+aOQFAAAAAXRSTlMAQObYZgAAAXFJREFU\n",
       "KM99k79Lw0AcxV+T2iZNUkUXnZo/oeAQ6tTRsYOCgkNxc5GCOLh1cjWgS0Awuin4Y5Wi1qEgOrSz\n",
       "Q8kkHSs6OKj1e7m0CZeYL2TI+9y7u++7O6DYQ6y2kVYv9Fk7ZihINjKeOEp3WiZnwBXwXFXdECoz\n",
       "0F3R8Qj5kzMY5LqFdhPCXVIt0XEMrAZM8ZD9jbLiK6kd0bEGlDzOBoBWizK5QGqhKjiu2yiZnO0B\n",
       "02fWUcj6TJXteEQHbc7ugO4llPoklAZTDb/1pQtW5xxkPwK2T44h1A022N8UmJprxpagmDhboV01\n",
       "YbDoumziTV+VhjGHM2bkUFwYP0HYevkfR94eM9pVpsbXYJVbcE7WG8g2wz5OfbCF4htn1Ln0DTUS\n",
       "8NSk80hJZeQ9zir0O4dOPeKg81fLgmOwWJkP2DLL53A2coIP7z0UTPEER6OvgCle0oV+Srnshp2k\n",
       "Wmnv4z5Bi9928UWJpXlpjqRX208Z/wfuy1v3n2Ey6QAAAABJRU5ErkJggg==\n",
       "\" style=\"display:inline;vertical-align:middle;\" /></a><br>(see <a class=\"ProveItLink\" href=\"../__pv_it/eb81588dd4988ba8d08d22b561fc497674cff04c0/dependencies.ipynb\">dependencies</a>)<br>"
      ],
      "text/plain": [
       "mult_6_4: (6 * 4) = 24"
      ]
     },
     "execution_count": 2,
     "metadata": {},
     "output_type": "execute_result"
    }
   ],
   "source": [
    "%proving mult_6_4 presuming []"
   ]
  },
  {
   "cell_type": "code",
   "execution_count": null,
   "metadata": {},
   "outputs": [],
   "source": []
  }
 ],
 "metadata": {
  "kernelspec": {
   "display_name": "Python 3",
   "language": "python",
   "name": "python3"
  }
 },
 "nbformat": 4,
 "nbformat_minor": 0
}
