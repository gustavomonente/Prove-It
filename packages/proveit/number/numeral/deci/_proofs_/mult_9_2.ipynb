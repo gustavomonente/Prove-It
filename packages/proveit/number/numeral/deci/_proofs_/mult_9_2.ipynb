{
 "cells": [
  {
   "cell_type": "markdown",
   "metadata": {},
   "source": [
    "Proof of <a class=\"ProveItLink\" href=\"../../../../_context_.ipynb\">proveit</a>.<a class=\"ProveItLink\" href=\"../../../_context_.ipynb\">number</a>.<a class=\"ProveItLink\" href=\"../../_context_.ipynb\">numeral</a>.<a class=\"ProveItLink\" href=\"../_context_.ipynb\">deci</a>.<a class=\"ProveItLink\" href=\"../_theorems_.ipynb#mult_9_2\">mult_9_2</a> theorem\n",
    "========"
   ]
  },
  {
   "cell_type": "code",
   "execution_count": 1,
   "metadata": {},
   "outputs": [],
   "source": [
    "import proveit\n",
    "context = proveit.Context('..') # the theorem's context is in the parent directory"
   ]
  },
  {
   "cell_type": "code",
   "execution_count": 2,
   "metadata": {},
   "outputs": [
    {
     "name": "stdout",
     "output_type": "stream",
     "text": [
      "Beginning proof of mult_9_2\n",
      "Recorded 'presuming' information\n",
      "Presuming previous theorems (applied transitively).\n"
     ]
    },
    {
     "data": {
      "text/html": [
       "<strong id=\"mult_9_2\">mult_9_2:</strong> <a class=\"ProveItLink\" href=\"../__pv_it/8272a2a706928997907f5dcf4a04dc24da9f35190/expr.ipynb\"><img src=\"data:image/png;base64,iVBORw0KGgoAAAANSUhEUgAAAGEAAAAUBAMAAABvx07iAAAAMFBMVEX////MzMxUVFR2dna6uroQ\n",
       "EBCqqqqIiIgiIiJmZmYyMjJERETu7u6YmJjc3NwAAACgK8IjAAAAAXRSTlMAQObYZgAAAY5JREFU\n",
       "KM+Fkz1LA0EQhp9cYi6JlxjwB2ijaKNiihBFTCk2WihYRAlYWWgrdla2ucImoBDsFDV2Fn5wCELU\n",
       "IqJFOrlGSBnxAwlq3IveBZL1HDj2dt99dmdmZyByS4ut4GY3cBUbcKZa9iSKYkq3aquJpBgO0eZ5\n",
       "NOzVC7wvaLmW3f4UBKEXwjrKNIpuK1swC/Fm4GL4A5bhGgImHTm8FVuag0GTy5Y7woIYhQKUoXiE\n",
       "+mUreYPBKKGkjJg6ZQzWoC1n+d6wjIFXlxFK7T4NZ1guhT4bmu9Z6PXQR/Ys23UIxqsiQxvi55jF\n",
       "Nyt5P0SgW2RmXXaHfzMzAzNW5kqdT2Io/uQ0Kz5PRUbcob4adUJ4+PF7OKj6n4R4kq503SsIdTvS\n",
       "EhET33ojjh2b0MQxyq0VeThFl1MWniFU8zfy5jsWoN0kIfzY1w4cpRxL9Il6GGomVEFMGpRgQsxi\n",
       "2caD5Wu1d+FltAkI9lS38fRblRiQlmnBpdjDumw17tYf57JGyP3TUS3WbroRsq59cNn/DbQ2a7Xd\n",
       "GqlbAAAAAElFTkSuQmCC\n",
       "\" style=\"display:inline;vertical-align:middle;\" /></a><br>(see <a class=\"ProveItLink\" href=\"../__pv_it/8272a2a706928997907f5dcf4a04dc24da9f35190/dependencies.ipynb\">dependencies</a>)<br>"
      ],
      "text/plain": [
       "mult_9_2: (9 * 2) = 18"
      ]
     },
     "execution_count": 2,
     "metadata": {},
     "output_type": "execute_result"
    }
   ],
   "source": [
    "%proving mult_9_2 presuming []"
   ]
  },
  {
   "cell_type": "code",
   "execution_count": null,
   "metadata": {},
   "outputs": [],
   "source": []
  }
 ],
 "metadata": {
  "kernelspec": {
   "display_name": "Python 3",
   "language": "python",
   "name": "python3"
  }
 },
 "nbformat": 4,
 "nbformat_minor": 0
}
