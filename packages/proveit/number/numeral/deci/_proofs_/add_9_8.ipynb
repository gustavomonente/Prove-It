{
 "cells": [
  {
   "cell_type": "markdown",
   "metadata": {},
   "source": [
    "Proof of <a class=\"ProveItLink\" href=\"../../../../_context_.ipynb\">proveit</a>.<a class=\"ProveItLink\" href=\"../../../_context_.ipynb\">number</a>.<a class=\"ProveItLink\" href=\"../../_context_.ipynb\">numeral</a>.<a class=\"ProveItLink\" href=\"../_context_.ipynb\">decimal</a>.<a class=\"ProveItLink\" href=\"../_theorems_.ipynb#add_9_8\">add_9_8</a> theorem\n",
    "========"
   ]
  },
  {
   "cell_type": "code",
   "execution_count": 1,
   "metadata": {},
   "outputs": [],
   "source": [
    "import proveit\n",
    "context = proveit.Context('..') # the theorem's context is in the parent directory"
   ]
  },
  {
   "cell_type": "code",
   "execution_count": 2,
   "metadata": {},
   "outputs": [
    {
     "name": "stdout",
     "output_type": "stream",
     "text": [
      "Beginning proof of add_9_8\n",
      "Recorded 'presuming' information\n",
      "Presuming previous theorems (applied transitively).\n"
     ]
    },
    {
     "data": {
      "text/html": [
       "<strong id=\"add_9_8\">add_9_8:</strong> <a class=\"ProveItLink\" href=\"../__pv_it/74067211902ad3db696636ad2426f6d5be8be37c0/expr.ipynb\"><img src=\"data:image/png;base64,iVBORw0KGgoAAAANSUhEUgAAAG0AAAAUBAMAAAB1+65sAAAAMFBMVEX////MzMxUVFR2dna6uroQ\n",
       "EBCqqqqIiIgiIiJmZmYyMjJERETu7u6YmJjc3NwAAACgK8IjAAAAAXRSTlMAQObYZgAAAY1JREFU\n",
       "OMuVlL9Lw1AQx79t7A9LUkX/gAacbYeAoFM3O3YQp4qCSHUTnHRpEXRxCdbFTcXF0Eo3J0s2sQrt\n",
       "JrjYRXDUqgXRGu+1lfaapOLBy7v345P75nLvAeEqnM1fwyC7Aa61aN/k1cYBEHXc79nOaRr155AX\n",
       "8GjyRR3eJZTt0IoJxbKsOqDQliS8ens+3ZFYhXwEab2PkidiJoZJvgoEaxihLc+Mk4qQs5CTtngP\n",
       "JiRaHgWegEoRgW/GDX2aEqXr1Ikjm6W2Cfgo3hvjEGtO0XPahStSu4QQGWpyTrLy9LxvuUbL9C4n\n",
       "pGCX2gWWG5xbS7zHgVXneBXhzYn03Y2/UDdjGDuGcUKeoiKTAiLO3NYvB3i/WDyfCU/DldtDRycQ\n",
       "UhknlEwCiZ7vU7tcHe28KClEajweDUudvNjieT7QznUgLxfA/18eChVLzsZliPO/Ck9o0Q7jnMNY\n",
       "juoax/3Y/uJZFeF54QbZaUmzcswOOEaK3ju67R3Y6ppZyXWl/Ne5/fcbhbneE8qge+IHPMd1qPvf\n",
       "AnwAAAAASUVORK5CYII=\n",
       "\" style=\"display:inline;vertical-align:middle;\" /></a><br>(see <a class=\"ProveItLink\" href=\"../__pv_it/74067211902ad3db696636ad2426f6d5be8be37c0/dependencies.ipynb\">dependencies</a>)<br>"
      ],
      "text/plain": [
       "add_9_8: (9 + 8) = 17"
      ]
     },
     "execution_count": 2,
     "metadata": {},
     "output_type": "execute_result"
    }
   ],
   "source": [
    "%proving add_9_8 presuming []"
   ]
  },
  {
   "cell_type": "code",
   "execution_count": null,
   "metadata": {},
   "outputs": [],
   "source": []
  }
 ],
 "metadata": {
  "kernelspec": {
   "display_name": "Python 3",
   "language": "python",
   "name": "python3"
  }
 },
 "nbformat": 4,
 "nbformat_minor": 0
}
