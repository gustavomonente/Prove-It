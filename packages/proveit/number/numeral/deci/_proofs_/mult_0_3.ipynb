{
 "cells": [
  {
   "cell_type": "markdown",
   "metadata": {},
   "source": [
    "Proof of <a class=\"ProveItLink\" href=\"../../../../_context_.ipynb\">proveit</a>.<a class=\"ProveItLink\" href=\"../../../_context_.ipynb\">number</a>.<a class=\"ProveItLink\" href=\"../../_context_.ipynb\">numeral</a>.<a class=\"ProveItLink\" href=\"../_context_.ipynb\">deci</a>.<a class=\"ProveItLink\" href=\"../_theorems_.ipynb#mult_0_3\">mult_0_3</a> theorem\n",
    "========"
   ]
  },
  {
   "cell_type": "code",
   "execution_count": 1,
   "metadata": {},
   "outputs": [],
   "source": [
    "import proveit\n",
    "context = proveit.Context('..') # the theorem's context is in the parent directory"
   ]
  },
  {
   "cell_type": "code",
   "execution_count": 2,
   "metadata": {},
   "outputs": [
    {
     "name": "stdout",
     "output_type": "stream",
     "text": [
      "Beginning proof of mult_0_3\n",
      "Recorded 'presuming' information\n",
      "Presuming previous theorems (applied transitively).\n"
     ]
    },
    {
     "data": {
      "text/html": [
       "<strong id=\"mult_0_3\">mult_0_3:</strong> <a class=\"ProveItLink\" href=\"../__pv_it/c3b756cee2e4e83783a1d846992927229322389e0/expr.ipynb\"><img src=\"data:image/png;base64,iVBORw0KGgoAAAANSUhEUgAAAFcAAAAUBAMAAAAKKrydAAAAMFBMVEX///9UVFTMzMx2dna6uroQ\n",
       "EBCqqqqIiIgiIiJmZmYyMjJERETu7u6YmJjc3NwAAAC+aOQFAAAAAXRSTlMAQObYZgAAAWlJREFU\n",
       "KM91kz1Lw1AUhh/bUGub1OIvyD9o0KFYly6CmyJ1cskvsHUSB7FTwUWziosugg6is6gBKRQcKoij\n",
       "WnDRxQ8KfqHovbFNaHJ7hsvNe597Oe85J5C5JBIL9IkLiK+M+p+ZsQmbgVYEy1+ZYj2AXRr+6SOJ\n",
       "H/TtMJuy9XUwHIwZ4v7pqs2HeCcMX0MBki3SWRLfXXWyyBfUw/ARlF0eYDiL9hboIg1SxRD8CtM2\n",
       "y9B00N4DvWEJy04vq38KuMIJPFvEAvh+zRVOPA+FfRl7skZtyFWoCdgh1pbX/+nBkkil2vtyRryc\n",
       "sygFaTQ7JZlzib0o0yh5BhPSYDIrlic4syOwNFi2ZRrpQwy/dL+uhLVqkPOO3B7DnSsN9jRlHjbc\n",
       "jsFIU8bFrkbd7Ko3Xp2HrBCctPVZmBK786URX9U2t0RDUmYI1vOLptduRTTUE2o4KjXfZ55PFVp0\n",
       "RIPhj0S61QdW/Va3avQPzyNifQBk0O0AAAAASUVORK5CYII=\n",
       "\" style=\"display:inline;vertical-align:middle;\" /></a><br>(see <a class=\"ProveItLink\" href=\"../__pv_it/c3b756cee2e4e83783a1d846992927229322389e0/dependencies.ipynb\">dependencies</a>)<br>"
      ],
      "text/plain": [
       "mult_0_3: (0 * 3) = 0"
      ]
     },
     "execution_count": 2,
     "metadata": {},
     "output_type": "execute_result"
    }
   ],
   "source": [
    "%proving mult_0_3 presuming []"
   ]
  },
  {
   "cell_type": "code",
   "execution_count": null,
   "metadata": {},
   "outputs": [],
   "source": []
  }
 ],
 "metadata": {
  "kernelspec": {
   "display_name": "Python 3",
   "language": "python",
   "name": "python3"
  }
 },
 "nbformat": 4,
 "nbformat_minor": 0
}
