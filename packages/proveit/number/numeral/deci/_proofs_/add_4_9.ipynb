{
 "cells": [
  {
   "cell_type": "markdown",
   "metadata": {},
   "source": [
    "Proof of <a class=\"ProveItLink\" href=\"../../../../_context_.ipynb\">proveit</a>.<a class=\"ProveItLink\" href=\"../../../_context_.ipynb\">number</a>.<a class=\"ProveItLink\" href=\"../../_context_.ipynb\">numeral</a>.<a class=\"ProveItLink\" href=\"../_context_.ipynb\">decimal</a>.<a class=\"ProveItLink\" href=\"../_theorems_.ipynb#add_4_9\">add_4_9</a> theorem\n",
    "========"
   ]
  },
  {
   "cell_type": "code",
   "execution_count": 1,
   "metadata": {},
   "outputs": [],
   "source": [
    "import proveit\n",
    "context = proveit.Context('..') # the theorem's context is in the parent directory"
   ]
  },
  {
   "cell_type": "code",
   "execution_count": 2,
   "metadata": {},
   "outputs": [
    {
     "name": "stdout",
     "output_type": "stream",
     "text": [
      "Beginning proof of add_4_9\n",
      "Recorded 'presuming' information\n",
      "Presuming previous theorems (applied transitively).\n"
     ]
    },
    {
     "data": {
      "text/html": [
       "<strong id=\"add_4_9\">add_4_9:</strong> <a class=\"ProveItLink\" href=\"../__pv_it/36639d775fca311e7efed6c7e6a7370ad442e4620/expr.ipynb\"><img src=\"data:image/png;base64,iVBORw0KGgoAAAANSUhEUgAAAGwAAAAUBAMAAACaOcVSAAAAMFBMVEX///9UVFTMzMx2dna6uroQ\n",
       "EBCqqqqIiIgiIiJmZmYyMjJERETu7u6YmJjc3NwAAAC+aOQFAAAAAXRSTlMAQObYZgAAAYBJREFU\n",
       "OMtjYOC7wIAdsD1gwANOgwhNNMGTxnIMDHLYNTw23gYk14GYjagyPLEMTw8wnMLUknqAgW8CQ/4F\n",
       "Bt4JQB57IFQ4HUIxBjAwTmBgLkDTxCMsf4CB/RsDfwMDB8gHbxeiauNfwMD8gYEnAMO2+wcYWEJA\n",
       "0i9APAM0bec3MLD/Y2BYgk0bEAAdWQmkeB+gaWMF2vaFgcESuzaeZgaGvUD6OAOaNqALuf4yMNwC\n",
       "s1eBwQS4Nj6LOQwMbSA3omtj2M6Q/I2BIQOHI0sdGEKA8aoA0Wa1alXrqlVgJtt15U8MDPo4tLHG\n",
       "gLQdZsCwDRgHf3Bo43vAwP0N5MjEmTO/TkfXxiXAwOCB5DcBmDb+PyBte8FctOjmjWHQfwANEnTb\n",
       "WDcwcPyBBnI0qjb2NTxrgdRkDG31Bxh4L4DiDewQ6/+yqI40nukAJBeh65oYv/ICg+fMLQyQxAUH\n",
       "6ShJsAF3vuGdgMw7g8zBSMrIYB9OmVMEsymJBgIBzkKBF0+hAABaG3USVmmlmAAAAABJRU5ErkJg\n",
       "gg==\n",
       "\" style=\"display:inline;vertical-align:middle;\" /></a><br>(see <a class=\"ProveItLink\" href=\"../__pv_it/36639d775fca311e7efed6c7e6a7370ad442e4620/dependencies.ipynb\">dependencies</a>)<br>"
      ],
      "text/plain": [
       "add_4_9: (4 + 9) = 13"
      ]
     },
     "execution_count": 2,
     "metadata": {},
     "output_type": "execute_result"
    }
   ],
   "source": [
    "%proving add_4_9 presuming []"
   ]
  },
  {
   "cell_type": "code",
   "execution_count": null,
   "metadata": {},
   "outputs": [],
   "source": []
  }
 ],
 "metadata": {
  "kernelspec": {
   "display_name": "Python 3",
   "language": "python",
   "name": "python3"
  }
 },
 "nbformat": 4,
 "nbformat_minor": 0
}
