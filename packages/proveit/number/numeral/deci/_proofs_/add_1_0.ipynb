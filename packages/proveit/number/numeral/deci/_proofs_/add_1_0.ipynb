{
 "cells": [
  {
   "cell_type": "markdown",
   "metadata": {},
   "source": [
    "Proof of <a class=\"ProveItLink\" href=\"../../../../_context_.ipynb\">proveit</a>.<a class=\"ProveItLink\" href=\"../../../_context_.ipynb\">number</a>.<a class=\"ProveItLink\" href=\"../../_context_.ipynb\">numeral</a>.<a class=\"ProveItLink\" href=\"../_context_.ipynb\">decimal</a>.<a class=\"ProveItLink\" href=\"../_theorems_.ipynb#add_1_0\">add_1_0</a> theorem\n",
    "========"
   ]
  },
  {
   "cell_type": "code",
   "execution_count": 1,
   "metadata": {},
   "outputs": [],
   "source": [
    "import proveit\n",
    "context = proveit.Context('..') # the theorem's context is in the parent directory"
   ]
  },
  {
   "cell_type": "code",
   "execution_count": 2,
   "metadata": {},
   "outputs": [
    {
     "name": "stdout",
     "output_type": "stream",
     "text": [
      "Beginning proof of add_1_0\n",
      "Recorded 'presuming' information\n",
      "Presuming previous theorems (applied transitively).\n"
     ]
    },
    {
     "data": {
      "text/html": [
       "<strong id=\"add_1_0\">add_1_0:</strong> <a class=\"ProveItLink\" href=\"../__pv_it/4aa224b7e30b09685d9c473c54a8358103a876f90/expr.ipynb\"><img src=\"data:image/png;base64,iVBORw0KGgoAAAANSUhEUgAAAGAAAAAUBAMAAACABSXcAAAAMFBMVEX////MzMxUVFR2dna6uroQ\n",
       "EBCqqqqIiIgiIiJmZmYyMjJERETu7u6YmJjc3NwAAACgK8IjAAAAAXRSTlMAQObYZgAAARtJREFU\n",
       "KM9jYOC7wIAd5OEQP41N0PyyAAPTA+wa1gFx6gFUMa4Enj4GngUYatliGBh4JzDwKOvDNKRDqKsM\n",
       "DFZAa9DVHzL6w8DAAbL4PpqGTQwM+QcYjmLYwAvU8IIBi4ZPDAz+CQxcDtg0VGLRwPMTqKGAgXkC\n",
       "Ng17sWjg+8zAIF/AwAv2NfMqMJgA09CGTQPQBnkDBrYGbDaEIDRYrVrVumrVIriTGD8Q0IDi6fwE\n",
       "HBqwOYlhN1iIpQHJDwr4PA2NON4F2GywBDHq0TRwJPAEMjBwGqBrYAdq8ADSk+JXXkDRwGNeJABM\n",
       "UQJo6jlVf82FJA04SEfmnMCaWHlRovMMShrHnrz34cgn2JI37gwEAtw4MhDOLHoPqygADQNh0Wm+\n",
       "4AQAAAAASUVORK5CYII=\n",
       "\" style=\"display:inline;vertical-align:middle;\" /></a><br>(see <a class=\"ProveItLink\" href=\"../__pv_it/4aa224b7e30b09685d9c473c54a8358103a876f90/dependencies.ipynb\">dependencies</a>)<br>"
      ],
      "text/plain": [
       "add_1_0: (1 + 0) = 1"
      ]
     },
     "execution_count": 2,
     "metadata": {},
     "output_type": "execute_result"
    }
   ],
   "source": [
    "%proving add_1_0 presuming []"
   ]
  },
  {
   "cell_type": "code",
   "execution_count": null,
   "metadata": {},
   "outputs": [],
   "source": []
  }
 ],
 "metadata": {
  "kernelspec": {
   "display_name": "Python 3",
   "language": "python",
   "name": "python3"
  }
 },
 "nbformat": 4,
 "nbformat_minor": 0
}
