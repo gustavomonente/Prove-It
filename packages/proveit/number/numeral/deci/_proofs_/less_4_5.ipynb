{
 "cells": [
  {
   "cell_type": "markdown",
   "metadata": {},
   "source": [
    "Proof of <a class=\"ProveItLink\" href=\"../../../../_context_.ipynb\">proveit</a>.<a class=\"ProveItLink\" href=\"../../../_context_.ipynb\">number</a>.<a class=\"ProveItLink\" href=\"../../_context_.ipynb\">numeral</a>.<a class=\"ProveItLink\" href=\"../_context_.ipynb\">decimal</a>.<a class=\"ProveItLink\" href=\"../_theorems_.ipynb#less_4_5\">less_4_5</a> theorem\n",
    "========"
   ]
  },
  {
   "cell_type": "code",
   "execution_count": 1,
   "metadata": {},
   "outputs": [],
   "source": [
    "import proveit\n",
    "context = proveit.Context('..') # the theorem's context is in the parent directory"
   ]
  },
  {
   "cell_type": "code",
   "execution_count": 2,
   "metadata": {},
   "outputs": [
    {
     "name": "stdout",
     "output_type": "stream",
     "text": [
      "Beginning proof of less_4_5\n",
      "Recorded 'presuming' information\n",
      "Presuming previous theorems (applied transitively).\n"
     ]
    },
    {
     "data": {
      "text/html": [
       "<strong id=\"less_4_5\">less_4_5:</strong> <a class=\"ProveItLink\" href=\"../__pv_it/927a4174c8eb29c1b1cb94518fb9b02f243b9d5d0/expr.ipynb\"><img src=\"data:image/png;base64,iVBORw0KGgoAAAANSUhEUgAAADEAAAAPBAMAAAC/wjryAAAAMFBMVEX///+6urpERESqqqru7u52\n",
       "dnYyMjKYmJjc3NwQEBCIiIhUVFQiIiJmZmbMzMwAAABIfTqqAAAAAXRSTlMAQObYZgAAAKdJREFU\n",
       "GNNjYGBgeMuABthK+C6DGafRZTj//w8A0VyzEWLMeWA90SvAvPZsuAT72QYQxQ3lBsBluI46MCDJ\n",
       "sDfAZFxPQRnc5WsfACkvBqiM73GYXiYHjo8gw6Ay3MnIztMBuuYBVMYbReZ+A4MrA8y0Xrhp2xgY\n",
       "4gUYrO/e/XkLzQXTgHrArpyN7uoLDAzHwIxJ6D7tZWCfAaKD/m9HCx2Oq3sdGHADAAIhK84O7JgI\n",
       "AAAAAElFTkSuQmCC\n",
       "\" style=\"display:inline;vertical-align:middle;\" /></a><br>(see <a class=\"ProveItLink\" href=\"../__pv_it/927a4174c8eb29c1b1cb94518fb9b02f243b9d5d0/dependencies.ipynb\">dependencies</a>)<br>"
      ],
      "text/plain": [
       "less_4_5: 4 < 5"
      ]
     },
     "execution_count": 2,
     "metadata": {},
     "output_type": "execute_result"
    }
   ],
   "source": [
    "%proving less_4_5 presuming []"
   ]
  },
  {
   "cell_type": "code",
   "execution_count": null,
   "metadata": {},
   "outputs": [],
   "source": []
  }
 ],
 "metadata": {
  "kernelspec": {
   "display_name": "Python 3",
   "language": "python",
   "name": "python3"
  }
 },
 "nbformat": 4,
 "nbformat_minor": 0
}
