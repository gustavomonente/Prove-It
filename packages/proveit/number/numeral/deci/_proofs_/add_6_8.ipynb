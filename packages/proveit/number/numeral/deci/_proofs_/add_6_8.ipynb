{
 "cells": [
  {
   "cell_type": "markdown",
   "metadata": {},
   "source": [
    "Proof of <a class=\"ProveItLink\" href=\"../../../../_context_.ipynb\">proveit</a>.<a class=\"ProveItLink\" href=\"../../../_context_.ipynb\">number</a>.<a class=\"ProveItLink\" href=\"../../_context_.ipynb\">numeral</a>.<a class=\"ProveItLink\" href=\"../_context_.ipynb\">decimal</a>.<a class=\"ProveItLink\" href=\"../_theorems_.ipynb#add_6_8\">add_6_8</a> theorem\n",
    "========"
   ]
  },
  {
   "cell_type": "code",
   "execution_count": 1,
   "metadata": {},
   "outputs": [],
   "source": [
    "import proveit\n",
    "context = proveit.Context('..') # the theorem's context is in the parent directory"
   ]
  },
  {
   "cell_type": "code",
   "execution_count": 2,
   "metadata": {},
   "outputs": [
    {
     "name": "stdout",
     "output_type": "stream",
     "text": [
      "Beginning proof of add_6_8\n",
      "Recorded 'presuming' information\n",
      "Presuming previous theorems (applied transitively).\n"
     ]
    },
    {
     "data": {
      "text/html": [
       "<strong id=\"add_6_8\">add_6_8:</strong> <a class=\"ProveItLink\" href=\"../__pv_it/51388a59b8f1173b54107547a2dc12205ddfbde30/expr.ipynb\"><img src=\"data:image/png;base64,iVBORw0KGgoAAAANSUhEUgAAAGwAAAAUBAMAAACaOcVSAAAAMFBMVEX///9UVFTMzMx2dna6uroQ\n",
       "EBCqqqqIiIgiIiJmZmYyMjJERETu7u6YmJjc3NwAAAC+aOQFAAAAAXRSTlMAQObYZgAAAYVJREFU\n",
       "OMuVlD1MwlAQx//QihD6lMiM4Ogkk0RdGBlL4qaJOBh0M2FyAgedayAxbEhcbNCwOkhIjCFBE5hd\n",
       "ZHQxcRAXRbzSin39wHjJXfru5ffuenfvATNdOIuvhwlyT5rIxXhnK1cC5t2QRdIroJ0MVPgNBZ4M\n",
       "2nZgp6nZQ4ApwDWCdd2dNfLrQqpA2LdAUjiqYdNpwN+D+DXeMDChDqkASbZFe9KwlzPgGQjKVkz8\n",
       "aApUqXNnLE7YATBbTZR4DNHBMtkVR4z1CLsBOpfwZ3hMGNbIPo4+1ZEoY6wFwo4Je0Vgk8f2Uv0k\n",
       "sOsYLa5h65RkAeyNfKuqeqSq5AMLIU8HLTlhvpiB+StgAy7aVBPedxfsFkaSHlmP9ot1SCNAyvRv\n",
       "oR9su1zun2ol8X4iIPPRaBwbRknsDUBaL3IYd3wlxRoYjUjRhuVH2IaeiFCcs/Rtoah1smqlTrYu\n",
       "aArWhhFtuEyS5Uaw4H5vmGJePZgXtlE2S8N1p/3XNf3vgSSujwKb8Ch8A/g/dCmwcEtWAAAAAElF\n",
       "TkSuQmCC\n",
       "\" style=\"display:inline;vertical-align:middle;\" /></a><br>(see <a class=\"ProveItLink\" href=\"../__pv_it/51388a59b8f1173b54107547a2dc12205ddfbde30/dependencies.ipynb\">dependencies</a>)<br>"
      ],
      "text/plain": [
       "add_6_8: (6 + 8) = 14"
      ]
     },
     "execution_count": 2,
     "metadata": {},
     "output_type": "execute_result"
    }
   ],
   "source": [
    "%proving add_6_8 presuming []"
   ]
  },
  {
   "cell_type": "code",
   "execution_count": null,
   "metadata": {},
   "outputs": [],
   "source": []
  }
 ],
 "metadata": {
  "kernelspec": {
   "display_name": "Python 3",
   "language": "python",
   "name": "python3"
  }
 },
 "nbformat": 4,
 "nbformat_minor": 0
}
