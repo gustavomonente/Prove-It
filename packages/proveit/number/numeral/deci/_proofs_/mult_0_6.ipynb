{
 "cells": [
  {
   "cell_type": "markdown",
   "metadata": {},
   "source": [
    "Proof of <a class=\"ProveItLink\" href=\"../../../../_context_.ipynb\">proveit</a>.<a class=\"ProveItLink\" href=\"../../../_context_.ipynb\">number</a>.<a class=\"ProveItLink\" href=\"../../_context_.ipynb\">numeral</a>.<a class=\"ProveItLink\" href=\"../_context_.ipynb\">deci</a>.<a class=\"ProveItLink\" href=\"../_theorems_.ipynb#mult_0_6\">mult_0_6</a> theorem\n",
    "========"
   ]
  },
  {
   "cell_type": "code",
   "execution_count": 1,
   "metadata": {},
   "outputs": [],
   "source": [
    "import proveit\n",
    "context = proveit.Context('..') # the theorem's context is in the parent directory"
   ]
  },
  {
   "cell_type": "code",
   "execution_count": 2,
   "metadata": {},
   "outputs": [
    {
     "name": "stdout",
     "output_type": "stream",
     "text": [
      "Beginning proof of mult_0_6\n",
      "Recorded 'presuming' information\n",
      "Presuming previous theorems (applied transitively).\n"
     ]
    },
    {
     "data": {
      "text/html": [
       "<strong id=\"mult_0_6\">mult_0_6:</strong> <a class=\"ProveItLink\" href=\"../__pv_it/c2f92a45d50b804d1dfc116334de60913000d5ab0/expr.ipynb\"><img src=\"data:image/png;base64,iVBORw0KGgoAAAANSUhEUgAAAFcAAAAUBAMAAAAKKrydAAAAMFBMVEX///9UVFTMzMx2dna6uroQ\n",
       "EBCqqqqIiIgiIiJmZmYyMjJERETu7u6YmJjc3NwAAAC+aOQFAAAAAXRSTlMAQObYZgAAAWpJREFU\n",
       "KM91k79Lw1AQxz9tSqnNSy2Ce8A/oLFLaaeObooU5/wFtk6lg9Cpg4Nk6eKkIIIOooOTKAUpFBxa\n",
       "EFfb0a1KwR9F0PciaWiSHuRx+b5P7t29u0BmQMh2WWCPoO3n/Xetnic2CmGFJ1Oul3BGb7YrTjlC\n",
       "HAfZtC0OwXAwttBmu7rDrYwThJ+hBKkRepbkj6duumd0g/A1VDu8wnKWxIen3vyfWg7A7zKMTQP6\n",
       "DolPT52uNSSoOfOs+JZwjTsYW8Q9WEwHtGQlbg2lC2Xn0stMIFdTO2OH+ESB6vmFdodkcz5yRkbO\n",
       "WVT8NPoq3BcMy8TfItOouAUmVYGprFwOJDwIwarAqq3S0K8wZle36kZONP2cT5Qr737YUQXONSXX\n",
       "oe0VGGpKUXotuqanxiyxA0tWAE7ZYhs2pPdQX/Hl4rr8MG0GYFHYM912R1gvekINJ0otLJjn+wgt\n",
       "PKL+8IdMHy2Ao36rl2j0D8vPYMIDFwXUAAAAAElFTkSuQmCC\n",
       "\" style=\"display:inline;vertical-align:middle;\" /></a><br>(see <a class=\"ProveItLink\" href=\"../__pv_it/c2f92a45d50b804d1dfc116334de60913000d5ab0/dependencies.ipynb\">dependencies</a>)<br>"
      ],
      "text/plain": [
       "mult_0_6: (0 * 6) = 0"
      ]
     },
     "execution_count": 2,
     "metadata": {},
     "output_type": "execute_result"
    }
   ],
   "source": [
    "%proving mult_0_6 presuming []"
   ]
  },
  {
   "cell_type": "code",
   "execution_count": null,
   "metadata": {},
   "outputs": [],
   "source": []
  }
 ],
 "metadata": {
  "kernelspec": {
   "display_name": "Python 3",
   "language": "python",
   "name": "python3"
  }
 },
 "nbformat": 4,
 "nbformat_minor": 0
}
