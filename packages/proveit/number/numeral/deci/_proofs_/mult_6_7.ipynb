{
 "cells": [
  {
   "cell_type": "markdown",
   "metadata": {},
   "source": [
    "Proof of <a class=\"ProveItLink\" href=\"../../../../_context_.ipynb\">proveit</a>.<a class=\"ProveItLink\" href=\"../../../_context_.ipynb\">number</a>.<a class=\"ProveItLink\" href=\"../../_context_.ipynb\">numeral</a>.<a class=\"ProveItLink\" href=\"../_context_.ipynb\">deci</a>.<a class=\"ProveItLink\" href=\"../_theorems_.ipynb#mult_6_7\">mult_6_7</a> theorem\n",
    "========"
   ]
  },
  {
   "cell_type": "code",
   "execution_count": 1,
   "metadata": {},
   "outputs": [],
   "source": [
    "import proveit\n",
    "context = proveit.Context('..') # the theorem's context is in the parent directory"
   ]
  },
  {
   "cell_type": "code",
   "execution_count": 2,
   "metadata": {},
   "outputs": [
    {
     "name": "stdout",
     "output_type": "stream",
     "text": [
      "Beginning proof of mult_6_7\n",
      "Recorded 'presuming' information\n",
      "Presuming previous theorems (applied transitively).\n"
     ]
    },
    {
     "data": {
      "text/html": [
       "<strong id=\"mult_6_7\">mult_6_7:</strong> <a class=\"ProveItLink\" href=\"../__pv_it/0a331a3061e68f5597b545349d3e610b9d1af9700/expr.ipynb\"><img src=\"data:image/png;base64,iVBORw0KGgoAAAANSUhEUgAAAGEAAAAUBAMAAABvx07iAAAAMFBMVEX///9UVFTMzMx2dna6uroQ\n",
       "EBCqqqqIiIgiIiJmZmYyMjJERETu7u6YmJjc3NwAAAC+aOQFAAAAAXRSTlMAQObYZgAAAYtJREFU\n",
       "KM99kz8sA1Ecxz+t0n93dWFhakebiw4NicRoNJCQGMRmoYkYbJ2sLmFpIpSNBF1FUEMTYWA2cIvE\n",
       "WGEw4Lz3qq69u9w3eS/33vd93vv9fvceZB7waZkw3YlWWM21hkOD+bwZsf3rohZa+VyuO4HbiWSl\n",
       "ZTw7jmNoFT+RMLim6wN0C85IV1vGLkTEoX5izWAHZgRqE/tpM0wYgboPyDwazELW5hXSUx1erAip\n",
       "CS/RlTI4rZHNsQ69B4XtNi8tfctLPAlCaLPGBdwfk1hwvXHRdJX62JHUofzUioqIvcOGIBok5+Ws\n",
       "ArSG6HpK3qBQhCgY0yKqErqoGvdq47jsow0PsdgkyigiUUH//ttA9NUAQjMVEZfpiagiU80zmupV\n",
       "8ZbcPPZllIPlvbkiS2RsmXn0i6Rb4GHrP/MOdRtETeI2o2LQT92t1Yr4hyRNP1HlNT86AJOyEFt9\n",
       "rvMi4VTO9wev3h5OHedT3ZIA3YRcdt0Kmi2EvY/LgLmg2975orxK22FE0Kt9Cln/C1VaXWaI+EF8\n",
       "AAAAAElFTkSuQmCC\n",
       "\" style=\"display:inline;vertical-align:middle;\" /></a><br>(see <a class=\"ProveItLink\" href=\"../__pv_it/0a331a3061e68f5597b545349d3e610b9d1af9700/dependencies.ipynb\">dependencies</a>)<br>"
      ],
      "text/plain": [
       "mult_6_7: (6 * 7) = 42"
      ]
     },
     "execution_count": 2,
     "metadata": {},
     "output_type": "execute_result"
    }
   ],
   "source": [
    "%proving mult_6_7 presuming []"
   ]
  },
  {
   "cell_type": "code",
   "execution_count": null,
   "metadata": {},
   "outputs": [],
   "source": []
  }
 ],
 "metadata": {
  "kernelspec": {
   "display_name": "Python 3",
   "language": "python",
   "name": "python3"
  }
 },
 "nbformat": 4,
 "nbformat_minor": 0
}
