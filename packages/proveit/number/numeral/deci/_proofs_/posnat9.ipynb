{
 "cells": [
  {
   "cell_type": "markdown",
   "metadata": {},
   "source": [
    "Proof of <a class=\"ProveItLink\" href=\"../../../../_context_.ipynb\">proveit</a>.<a class=\"ProveItLink\" href=\"../../../_context_.ipynb\">number</a>.<a class=\"ProveItLink\" href=\"../../_context_.ipynb\">numeral</a>.<a class=\"ProveItLink\" href=\"../_context_.ipynb\">decimal</a>.<a class=\"ProveItLink\" href=\"../_theorems_.ipynb#posnat9\">posnat9</a> theorem\n",
    "========"
   ]
  },
  {
   "cell_type": "code",
   "execution_count": 1,
   "metadata": {},
   "outputs": [],
   "source": [
    "import proveit\n",
    "context = proveit.Context('..') # the theorem's context is in the parent directory"
   ]
  },
  {
   "cell_type": "code",
   "execution_count": 2,
   "metadata": {},
   "outputs": [
    {
     "name": "stdout",
     "output_type": "stream",
     "text": [
      "Beginning proof of posnat9\n",
      "Recorded 'presuming' information\n",
      "Presuming previous theorems (applied transitively).\n"
     ]
    },
    {
     "data": {
      "text/html": [
       "<strong id=\"posnat9\">posnat9:</strong> <a class=\"ProveItLink\" href=\"../__pv_it/5210a410822f0d8e4d7e2ea902d65054e2510f860/expr.ipynb\"><img src=\"data:image/png;base64,iVBORw0KGgoAAAANSUhEUgAAAD8AAAAUBAMAAADIGvgZAAAAMFBMVEX///8iIiLMzMyqqqq6urqI\n",
       "iIhEREQyMjKYmJgQEBDc3NxUVFR2dnZmZmbu7u4AAABTw4smAAAAAXRSTlMAQObYZgAAAP9JREFU\n",
       "KM9jYKAEcBNSwEYlBW/P7EIVfv4t/QHDyZ8OUAV8MxhWPkBVkcG0gYHvA8P28sry8gYG7gkM3BdQ\n",
       "FWxUCGVgmACzgr+AgecDRKJNULAARG/J41ZgEIApeJ/AwPoLLK8WBzVhlzZfHUIBJ9CEL2DH1MGs\n",
       "2MUcoI1QADSf/Qc42BbAFTAc4QiAK2BIZbD5jBoquxi4H2wCKeACc5lbdT6BaM1yICiAKODbwD4B\n",
       "OU7+gchlSCYw6DAhK2DfAHYtsgIOgwQYj2Megz7YebwBMKFNQHwKroC1jq8CwhKGCRWDlBfADTxz\n",
       "1wHCeJ0CiRPFn0DdfAVYYtcnURBTGADyLz7l7FOxMwAAAABJRU5ErkJggg==\n",
       "\" style=\"display:inline;vertical-align:middle;\" /></a><br>(see <a class=\"ProveItLink\" href=\"../__pv_it/5210a410822f0d8e4d7e2ea902d65054e2510f860/dependencies.ipynb\">dependencies</a>)<br>"
      ],
      "text/plain": [
       "posnat9: 9 in NaturalsPos"
      ]
     },
     "execution_count": 2,
     "metadata": {},
     "output_type": "execute_result"
    }
   ],
   "source": [
    "%proving posnat9 presuming []"
   ]
  },
  {
   "cell_type": "code",
   "execution_count": null,
   "metadata": {},
   "outputs": [],
   "source": []
  }
 ],
 "metadata": {
  "kernelspec": {
   "display_name": "Python 3",
   "language": "python",
   "name": "python3"
  }
 },
 "nbformat": 4,
 "nbformat_minor": 0
}
