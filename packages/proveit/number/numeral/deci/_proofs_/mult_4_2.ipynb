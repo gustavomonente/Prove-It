{
 "cells": [
  {
   "cell_type": "markdown",
   "metadata": {},
   "source": [
    "Proof of <a class=\"ProveItLink\" href=\"../../../../_context_.ipynb\">proveit</a>.<a class=\"ProveItLink\" href=\"../../../_context_.ipynb\">number</a>.<a class=\"ProveItLink\" href=\"../../_context_.ipynb\">numeral</a>.<a class=\"ProveItLink\" href=\"../_context_.ipynb\">deci</a>.<a class=\"ProveItLink\" href=\"../_theorems_.ipynb#mult_4_2\">mult_4_2</a> theorem\n",
    "========"
   ]
  },
  {
   "cell_type": "code",
   "execution_count": 1,
   "metadata": {},
   "outputs": [],
   "source": [
    "import proveit\n",
    "context = proveit.Context('..') # the theorem's context is in the parent directory"
   ]
  },
  {
   "cell_type": "code",
   "execution_count": 2,
   "metadata": {},
   "outputs": [
    {
     "name": "stdout",
     "output_type": "stream",
     "text": [
      "Beginning proof of mult_4_2\n",
      "Recorded 'presuming' information\n",
      "Presuming previous theorems (applied transitively).\n"
     ]
    },
    {
     "data": {
      "text/html": [
       "<strong id=\"mult_4_2\">mult_4_2:</strong> <a class=\"ProveItLink\" href=\"../__pv_it/d9dccbc37cfcdf40a9d887224bce57089f2144490/expr.ipynb\"><img src=\"data:image/png;base64,iVBORw0KGgoAAAANSUhEUgAAAFcAAAAUBAMAAAAKKrydAAAAMFBMVEX///9UVFTMzMx2dna6uroQ\n",
       "EBCqqqqIiIgiIiJmZmYyMjJERETu7u6YmJjc3NwAAAC+aOQFAAAAAXRSTlMAQObYZgAAAWRJREFU\n",
       "KM91k7tLw1AUh78+aGubFifRQZrVyYJDqSJ2FBcRFARF6uigq7jVxbUZBAk42FEH/QN8EBGx6GDF\n",
       "wU3u2EUQtCAu8d5E0nCbHvI4+eW7J+fccwKFNn22wwB7UpeJ4NGwL01iQqeM3UpV3s6Vvx+otyS+\n",
       "MU50eAhGIG9JN70UqMewAmUd3oZHyKgvfjQDdRWKgnsdnoEWdJRb6sEXDkWTbFWDF6+YhT3p5UUz\n",
       "/KLhkLA0OOa+1uBaeg+E4eSXXO5VOH2m7NRT534dOFBZ+LDhw5lhSNW1yKnDxjLII2X68LO/YbY8\n",
       "458a/EK66yj4Dh9WIeU2WlHwOkzWVBqbtt09CuQtCoJkvZezCmTIxbG2VyD0mhIvkRb/BYZsA3KC\n",
       "iuevBWpnqjIqu1vS4AWHN5j3+uOOB01x3R/ImhocH1ODlBFRo9iKntC8FaWWB8zzTYTWP6Lh4dcs\n",
       "JwbAUb/VezT6B9OrVrypcnh3AAAAAElFTkSuQmCC\n",
       "\" style=\"display:inline;vertical-align:middle;\" /></a><br>(see <a class=\"ProveItLink\" href=\"../__pv_it/d9dccbc37cfcdf40a9d887224bce57089f2144490/dependencies.ipynb\">dependencies</a>)<br>"
      ],
      "text/plain": [
       "mult_4_2: (4 * 2) = 8"
      ]
     },
     "execution_count": 2,
     "metadata": {},
     "output_type": "execute_result"
    }
   ],
   "source": [
    "%proving mult_4_2 presuming []"
   ]
  },
  {
   "cell_type": "code",
   "execution_count": null,
   "metadata": {},
   "outputs": [],
   "source": []
  }
 ],
 "metadata": {
  "kernelspec": {
   "display_name": "Python 3",
   "language": "python",
   "name": "python3"
  }
 },
 "nbformat": 4,
 "nbformat_minor": 0
}
