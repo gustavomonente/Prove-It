{
 "cells": [
  {
   "cell_type": "markdown",
   "metadata": {},
   "source": [
    "Proof of <a class=\"ProveItLink\" href=\"../../../../_context_.ipynb\">proveit</a>.<a class=\"ProveItLink\" href=\"../../../_context_.ipynb\">number</a>.<a class=\"ProveItLink\" href=\"../../_context_.ipynb\">numeral</a>.<a class=\"ProveItLink\" href=\"../_context_.ipynb\">decimal</a>.<a class=\"ProveItLink\" href=\"../_theorems_.ipynb#add_1_2\">add_1_2</a> theorem\n",
    "========"
   ]
  },
  {
   "cell_type": "code",
   "execution_count": 1,
   "metadata": {},
   "outputs": [],
   "source": [
    "import proveit\n",
    "context = proveit.Context('..') # the theorem's context is in the parent directory"
   ]
  },
  {
   "cell_type": "code",
   "execution_count": 2,
   "metadata": {},
   "outputs": [
    {
     "name": "stdout",
     "output_type": "stream",
     "text": [
      "Beginning proof of add_1_2\n",
      "Recorded 'presuming' information\n",
      "Presuming previous theorems (applied transitively).\n"
     ]
    },
    {
     "data": {
      "text/html": [
       "<strong id=\"add_1_2\">add_1_2:</strong> <a class=\"ProveItLink\" href=\"../__pv_it/90a3ab3c4e083cc05a79eeaf32255572486f43960/expr.ipynb\"><img src=\"data:image/png;base64,iVBORw0KGgoAAAANSUhEUgAAAGEAAAAUBAMAAABvx07iAAAAMFBMVEX////MzMxUVFR2dna6uroQ\n",
       "EBCqqqqIiIgiIiJmZmYyMjJERETu7u6YmJjc3NwAAACgK8IjAAAAAXRSTlMAQObYZgAAAUlJREFU\n",
       "KM9jYOC7wIAd5OEQZziNRYxn5m4BBqYH6MJ8xtYJQGodEKceQJU6xMD8hYFnAbqOlwxsfxkYeCcw\n",
       "8Cjrw3SkQ6g5DAyhDAzm6DrqExh+MDBwgOy+j6YjgoFB/wHDUXQdrg4MvxgYXjBg0bH+AIO+AAOX\n",
       "A4YHQa6qxKYDCPoPMDBPwNBxwoCBYS92HSyfgV4Ee515FRiAdT/uBCpsw66DQwHohAYMO9hDGBhC\n",
       "EDqsVq1qXbVqEVhqJhAzfsCMqdADyDqQ7GCfgE3HOwaG/Qk4XJXJwPeAgaUByR9AVzL8PwDSgdXn\n",
       "jAYM7A+gPkcC0eAgtARHJpqOF8aWGgwMnAZoOu6C48MDyJoUv/ICagz+/w9MDlwCaDpYZs52gKYS\n",
       "OEhHiS7siZ0XJWLPIHPMceSPfbgyDmZqx5OjwID7AQ4JnLn2HnZhAFxhZ5Sc2KPRAAAAAElFTkSu\n",
       "QmCC\n",
       "\" style=\"display:inline;vertical-align:middle;\" /></a><br>(see <a class=\"ProveItLink\" href=\"../__pv_it/90a3ab3c4e083cc05a79eeaf32255572486f43960/dependencies.ipynb\">dependencies</a>)<br>"
      ],
      "text/plain": [
       "add_1_2: (1 + 2) = 3"
      ]
     },
     "execution_count": 2,
     "metadata": {},
     "output_type": "execute_result"
    }
   ],
   "source": [
    "%proving add_1_2 presuming []"
   ]
  },
  {
   "cell_type": "code",
   "execution_count": null,
   "metadata": {},
   "outputs": [],
   "source": []
  }
 ],
 "metadata": {
  "kernelspec": {
   "display_name": "Python 3",
   "language": "python",
   "name": "python3"
  }
 },
 "nbformat": 4,
 "nbformat_minor": 0
}
