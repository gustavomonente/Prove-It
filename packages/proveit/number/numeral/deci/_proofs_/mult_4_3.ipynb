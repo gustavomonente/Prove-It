{
 "cells": [
  {
   "cell_type": "markdown",
   "metadata": {},
   "source": [
    "Proof of <a class=\"ProveItLink\" href=\"../../../../_context_.ipynb\">proveit</a>.<a class=\"ProveItLink\" href=\"../../../_context_.ipynb\">number</a>.<a class=\"ProveItLink\" href=\"../../_context_.ipynb\">numeral</a>.<a class=\"ProveItLink\" href=\"../_context_.ipynb\">deci</a>.<a class=\"ProveItLink\" href=\"../_theorems_.ipynb#mult_4_3\">mult_4_3</a> theorem\n",
    "========"
   ]
  },
  {
   "cell_type": "code",
   "execution_count": 1,
   "metadata": {},
   "outputs": [],
   "source": [
    "import proveit\n",
    "context = proveit.Context('..') # the theorem's context is in the parent directory"
   ]
  },
  {
   "cell_type": "code",
   "execution_count": 2,
   "metadata": {},
   "outputs": [
    {
     "name": "stdout",
     "output_type": "stream",
     "text": [
      "Beginning proof of mult_4_3\n",
      "Recorded 'presuming' information\n",
      "Presuming previous theorems (applied transitively).\n"
     ]
    },
    {
     "data": {
      "text/html": [
       "<strong id=\"mult_4_3\">mult_4_3:</strong> <a class=\"ProveItLink\" href=\"../__pv_it/0da97cce2035b8d9389e97967e7bacad08a448840/expr.ipynb\"><img src=\"data:image/png;base64,iVBORw0KGgoAAAANSUhEUgAAAGEAAAAUBAMAAABvx07iAAAAMFBMVEX///9UVFTMzMx2dna6uroQ\n",
       "EBCqqqqIiIgiIiJmZmYyMjJERETu7u6YmJjc3NwAAAC+aOQFAAAAAXRSTlMAQObYZgAAAW1JREFU\n",
       "KM+Fk79Lw0AUx7+2oWlrElwEF2lWt0iHUrt0EVwFC4IOdXRxd7IugpPZJKiQjDrYP0DUFBELDvoP\n",
       "KAcudVAEFUqxxLv8Jjnjd0jy7r1P3nt39wDlESltIUv37DEXmkq10cYE4YZKxoVKX+fsezdcfUVh\n",
       "DMlMRRfWgR7yX4CsU1NcDj07bQyBWhLozf8Ax0ALKLIC3qzQtdjECLhN5ZApsQpUCAbM1Kx4/jFQ\n",
       "bvKIro2Kim1mkTjR14C8ziOoDmxc0tcdYsTLvk39busLZ0ynMUL4BPZYUR4heYi4Qivr8HMUpwDm\n",
       "Vj3iwd/Tlo3cB58w4BI38Aj2A7wD1+2/CJG1R6vaMIzvw8Dj2IwQOlEfVkRsQiFu50B0gmvufsgm\n",
       "L0dOg0hQD+J8PbnnUdKShEiJQbU+Aywxs+HMBh7BOKKnV1YTQGl6dIKu4wz9W5JSP+OyyzpvtZY1\n",
       "H1e8QTD/naiEJkkWwZva54z4XxGlZ24PMTdGAAAAAElFTkSuQmCC\n",
       "\" style=\"display:inline;vertical-align:middle;\" /></a><br>(see <a class=\"ProveItLink\" href=\"../__pv_it/0da97cce2035b8d9389e97967e7bacad08a448840/dependencies.ipynb\">dependencies</a>)<br>"
      ],
      "text/plain": [
       "mult_4_3: (4 * 3) = 12"
      ]
     },
     "execution_count": 2,
     "metadata": {},
     "output_type": "execute_result"
    }
   ],
   "source": [
    "%proving mult_4_3 presuming []"
   ]
  },
  {
   "cell_type": "code",
   "execution_count": null,
   "metadata": {},
   "outputs": [],
   "source": []
  }
 ],
 "metadata": {
  "kernelspec": {
   "display_name": "Python 3",
   "language": "python",
   "name": "python3"
  }
 },
 "nbformat": 4,
 "nbformat_minor": 0
}
