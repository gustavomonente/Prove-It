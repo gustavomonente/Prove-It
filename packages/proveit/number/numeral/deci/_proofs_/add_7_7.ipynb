{
 "cells": [
  {
   "cell_type": "markdown",
   "metadata": {},
   "source": [
    "Proof of <a class=\"ProveItLink\" href=\"../../../../_context_.ipynb\">proveit</a>.<a class=\"ProveItLink\" href=\"../../../_context_.ipynb\">number</a>.<a class=\"ProveItLink\" href=\"../../_context_.ipynb\">numeral</a>.<a class=\"ProveItLink\" href=\"../_context_.ipynb\">decimal</a>.<a class=\"ProveItLink\" href=\"../_theorems_.ipynb#add_7_7\">add_7_7</a> theorem\n",
    "========"
   ]
  },
  {
   "cell_type": "code",
   "execution_count": 1,
   "metadata": {},
   "outputs": [],
   "source": [
    "import proveit\n",
    "context = proveit.Context('..') # the theorem's context is in the parent directory"
   ]
  },
  {
   "cell_type": "code",
   "execution_count": 2,
   "metadata": {},
   "outputs": [
    {
     "name": "stdout",
     "output_type": "stream",
     "text": [
      "Beginning proof of add_7_7\n",
      "Recorded 'presuming' information\n",
      "Presuming previous theorems (applied transitively).\n"
     ]
    },
    {
     "data": {
      "text/html": [
       "<strong id=\"add_7_7\">add_7_7:</strong> <a class=\"ProveItLink\" href=\"../__pv_it/d56d41a7486eea2f3087b7e66a83e6fb803d91fe0/expr.ipynb\"><img src=\"data:image/png;base64,iVBORw0KGgoAAAANSUhEUgAAAGwAAAAUBAMAAACaOcVSAAAAMFBMVEX///9UVFTMzMx2dna6uroQ\n",
       "EBCqqqqIiIgiIiJmZmYyMjJERETu7u6YmJjc3NwAAAC+aOQFAAAAAXRSTlMAQObYZgAAAT1JREFU\n",
       "OMtjYOC7wIAdsD1gwANOMzA1TjY2RhGDiMjh0qIJxOsYeP////8RRRwicgpTQ+oBENkIVDGBgRPo\n",
       "GgGIcDqEgogwF6Bp4hGWB2ljD2Rg4HjAwMzAwKyAog0iwhOAYdt9kLa3CxkYXoC57gwo2qAiS7Br\n",
       "MwBqqwRzN2BoA4lYYtXG+wCobS/YURfQtYFFboFZq8BgAlzbcQagtjYQ7zwDujawSAZW2wxA2kJA\n",
       "vCqwmNWqVa2rVi1kgIvoY9PGpgDX1o1hWzdObYcZ4I78iKENLOKB5DcBmLbEmTO/TgcHCdNPdG0Q\n",
       "kVvYI4AhEBLIbJ/RtUFEJmNoqwdri4Y4hC8MXRtEZBG6ronxK4ERY/1fFpS4kEA6ShJswJ1veCcg\n",
       "884gczCSMjLYh1PmFP5sSrqBIN/jKhR48RQKAICRZ9VPfG6rAAAAAElFTkSuQmCC\n",
       "\" style=\"display:inline;vertical-align:middle;\" /></a><br>(see <a class=\"ProveItLink\" href=\"../__pv_it/d56d41a7486eea2f3087b7e66a83e6fb803d91fe0/dependencies.ipynb\">dependencies</a>)<br>"
      ],
      "text/plain": [
       "add_7_7: (7 + 7) = 14"
      ]
     },
     "execution_count": 2,
     "metadata": {},
     "output_type": "execute_result"
    }
   ],
   "source": [
    "%proving add_7_7 presuming []"
   ]
  },
  {
   "cell_type": "code",
   "execution_count": null,
   "metadata": {},
   "outputs": [],
   "source": []
  }
 ],
 "metadata": {
  "kernelspec": {
   "display_name": "Python 3",
   "language": "python",
   "name": "python3"
  }
 },
 "nbformat": 4,
 "nbformat_minor": 0
}
