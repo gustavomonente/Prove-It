{
 "cells": [
  {
   "cell_type": "markdown",
   "metadata": {},
   "source": [
    "Proof of <a class=\"ProveItLink\" href=\"../../../../_context_.ipynb\">proveit</a>.<a class=\"ProveItLink\" href=\"../../../_context_.ipynb\">number</a>.<a class=\"ProveItLink\" href=\"../../_context_.ipynb\">numeral</a>.<a class=\"ProveItLink\" href=\"../_context_.ipynb\">decimal</a>.<a class=\"ProveItLink\" href=\"../_theorems_.ipynb#add_9_4\">add_9_4</a> theorem\n",
    "========"
   ]
  },
  {
   "cell_type": "code",
   "execution_count": 1,
   "metadata": {},
   "outputs": [],
   "source": [
    "import proveit\n",
    "context = proveit.Context('..') # the theorem's context is in the parent directory"
   ]
  },
  {
   "cell_type": "code",
   "execution_count": 2,
   "metadata": {},
   "outputs": [
    {
     "name": "stdout",
     "output_type": "stream",
     "text": [
      "Beginning proof of add_9_4\n",
      "Recorded 'presuming' information\n",
      "Presuming previous theorems (applied transitively).\n"
     ]
    },
    {
     "data": {
      "text/html": [
       "<strong id=\"add_9_4\">add_9_4:</strong> <a class=\"ProveItLink\" href=\"../__pv_it/f979f2fb0e70622ffef8fa8abd41dcbb959fd6830/expr.ipynb\"><img src=\"data:image/png;base64,iVBORw0KGgoAAAANSUhEUgAAAGwAAAAUBAMAAACaOcVSAAAAMFBMVEX////MzMxUVFR2dna6uroQ\n",
       "EBCqqqqIiIgiIiJmZmYyMjJERETu7u6YmJjc3NwAAACgK8IjAAAAAXRSTlMAQObYZgAAAYBJREFU\n",
       "OMuVlD1Iw0AUx/+kpik1H4KTUwvO1kIWP5aOupXSzYqgSN10cXCyKDoHHSTgoOJiUOkgOikBB7EK\n",
       "ZhNcDIjgIihopvhxF4kkl6TiH/Lx7t0v7+XduwNkC/FK22ijK+BSLUSGe4BCPPCgHpP7IcRxPJqs\n",
       "cwloRZFpE7KGWQuSBq4MTvsZrvt+oQKk5hhI7O03IThQGsjYULaQemGw5x0yqxyJdm+io0qBJ+Cm\n",
       "CeGTwYoEw24cRkSSXAB4Eu0tjEk2xQbjMXEZOAXNMPsRxi5AsTv6mjI8ab+YPLAJrBLjBFNOGCt6\n",
       "2ExCkvMlVOnC3na/kseQYawYBp2f7vKwXALG1zwM4NxQtHMkY7KNTsdLEsjmQ9ikrr9vACOBf8v7\n",
       "mOJSjJREqiFnMwuAil8SNhrfRMalRRb2xQOw2Bi51iPYognJoutGE1H1EosNf/UB2yy1NrFnYVQ/\n",
       "Am2ugOqhFmwk7xtJC1rXQSPSykGdJXpaf2zTf3+QKPFQkNocCt9HnnUwlnLwvwAAAABJRU5ErkJg\n",
       "gg==\n",
       "\" style=\"display:inline;vertical-align:middle;\" /></a><br>(see <a class=\"ProveItLink\" href=\"../__pv_it/f979f2fb0e70622ffef8fa8abd41dcbb959fd6830/dependencies.ipynb\">dependencies</a>)<br>"
      ],
      "text/plain": [
       "add_9_4: (9 + 4) = 13"
      ]
     },
     "execution_count": 2,
     "metadata": {},
     "output_type": "execute_result"
    }
   ],
   "source": [
    "%proving add_9_4 presuming []"
   ]
  },
  {
   "cell_type": "code",
   "execution_count": null,
   "metadata": {},
   "outputs": [],
   "source": []
  }
 ],
 "metadata": {
  "kernelspec": {
   "display_name": "Python 3",
   "language": "python",
   "name": "python3"
  }
 },
 "nbformat": 4,
 "nbformat_minor": 0
}
