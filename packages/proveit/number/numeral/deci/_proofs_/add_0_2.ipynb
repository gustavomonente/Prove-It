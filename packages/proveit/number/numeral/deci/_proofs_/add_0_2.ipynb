{
 "cells": [
  {
   "cell_type": "markdown",
   "metadata": {},
   "source": [
    "Proof of <a class=\"ProveItLink\" href=\"../../../../_context_.ipynb\">proveit</a>.<a class=\"ProveItLink\" href=\"../../../_context_.ipynb\">number</a>.<a class=\"ProveItLink\" href=\"../../_context_.ipynb\">numeral</a>.<a class=\"ProveItLink\" href=\"../_context_.ipynb\">decimal</a>.<a class=\"ProveItLink\" href=\"../_theorems_.ipynb#add_0_2\">add_0_2</a> theorem\n",
    "========"
   ]
  },
  {
   "cell_type": "code",
   "execution_count": 1,
   "metadata": {},
   "outputs": [],
   "source": [
    "import proveit\n",
    "context = proveit.Context('..') # the theorem's context is in the parent directory"
   ]
  },
  {
   "cell_type": "code",
   "execution_count": 2,
   "metadata": {},
   "outputs": [
    {
     "name": "stdout",
     "output_type": "stream",
     "text": [
      "Beginning proof of add_0_2\n",
      "Recorded 'presuming' information\n",
      "Presuming previous theorems (applied transitively).\n"
     ]
    },
    {
     "data": {
      "text/html": [
       "<strong id=\"add_0_2\">add_0_2:</strong> <a class=\"ProveItLink\" href=\"../__pv_it/a8f4cdf22280b8b9c3723619854d646582b60a970/expr.ipynb\"><img src=\"data:image/png;base64,iVBORw0KGgoAAAANSUhEUgAAAGEAAAAUBAMAAABvx07iAAAAMFBMVEX///9UVFTMzMx2dna6uroQ\n",
       "EBCqqqqIiIgiIiJmZmYyMjJERETu7u6YmJjc3NwAAAC+aOQFAAAAAXRSTlMAQObYZgAAAU1JREFU\n",
       "KM91kzFLw0AUx38mIY1NU4OTW/MRgg6lTo6ODhX8BsXFVRyELrqateCgi0MGdRelIoWCgn4CydhN\n",
       "oaIOQr1eSpu7JA9Ccr+XP3f/e+9B/Y3iOCjhPIN5vK6yWu8uYCnRf5UYruGKoZp9xPyidqErJMaL\n",
       "8HYwZ9lO+jqHXWjqihQ7Ca6P/aco9qCRMNAVKR7Bio/1rShu+jQCqluaIsVH8Bph/SgKEWd9zCh/\n",
       "TwLfw0eIoSussbAozZmxjGiOT4UiwhhrCscHu5vbYorbi1NtxvFJHF/KVE88xmdOMcVt6dxWnVOJ\n",
       "ChUSi1O5t3jq7bJPPcHqZnz4cyyc5ytohFSSmfNMpLgl9xkEimK00VqD5VBTpHhbfD0drqJWcDL5\n",
       "hWqgV1BiR+nBTnYxLG52TynsS3bRLJmPh7LByXf7YqKKw01KEqVT+16M/wGoz2WYc1ATPgAAAABJ\n",
       "RU5ErkJggg==\n",
       "\" style=\"display:inline;vertical-align:middle;\" /></a><br>(see <a class=\"ProveItLink\" href=\"../__pv_it/a8f4cdf22280b8b9c3723619854d646582b60a970/dependencies.ipynb\">dependencies</a>)<br>"
      ],
      "text/plain": [
       "add_0_2: (0 + 2) = 2"
      ]
     },
     "execution_count": 2,
     "metadata": {},
     "output_type": "execute_result"
    }
   ],
   "source": [
    "%proving add_0_2 presuming []"
   ]
  },
  {
   "cell_type": "code",
   "execution_count": null,
   "metadata": {},
   "outputs": [],
   "source": []
  }
 ],
 "metadata": {
  "kernelspec": {
   "display_name": "Python 3",
   "language": "python",
   "name": "python3"
  }
 },
 "nbformat": 4,
 "nbformat_minor": 0
}
