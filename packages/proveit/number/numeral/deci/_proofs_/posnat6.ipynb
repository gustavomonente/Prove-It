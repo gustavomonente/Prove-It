{
 "cells": [
  {
   "cell_type": "markdown",
   "metadata": {},
   "source": [
    "Proof of <a class=\"ProveItLink\" href=\"../../../../_context_.ipynb\">proveit</a>.<a class=\"ProveItLink\" href=\"../../../_context_.ipynb\">number</a>.<a class=\"ProveItLink\" href=\"../../_context_.ipynb\">numeral</a>.<a class=\"ProveItLink\" href=\"../_context_.ipynb\">decimal</a>.<a class=\"ProveItLink\" href=\"../_theorems_.ipynb#posnat6\">posnat6</a> theorem\n",
    "========"
   ]
  },
  {
   "cell_type": "code",
   "execution_count": 1,
   "metadata": {},
   "outputs": [],
   "source": [
    "import proveit\n",
    "context = proveit.Context('..') # the theorem's context is in the parent directory"
   ]
  },
  {
   "cell_type": "code",
   "execution_count": 2,
   "metadata": {},
   "outputs": [
    {
     "name": "stdout",
     "output_type": "stream",
     "text": [
      "Beginning proof of posnat6\n",
      "Recorded 'presuming' information\n",
      "Presuming previous theorems (applied transitively).\n"
     ]
    },
    {
     "data": {
      "text/html": [
       "<strong id=\"posnat6\">posnat6:</strong> <a class=\"ProveItLink\" href=\"../__pv_it/07b7a854a510f550759910ff0244cbadf291f9bb0/expr.ipynb\"><img src=\"data:image/png;base64,iVBORw0KGgoAAAANSUhEUgAAAD8AAAAUBAMAAADIGvgZAAAAMFBMVEX///9UVFSqqqoiIiKYmJgQ\n",
       "EBDc3NxERERmZma6uroyMjLu7u7MzMyIiIh2dnYAAACR0mqaAAAAAXRSTlMAQObYZgAAAPtJREFU\n",
       "KM9jYKAEMBJSwE4tBW/vHUAR3vW9agPD068TYAp2TeBYgKqxhEeAgfsDg9SqpatWOTAwVDCwF6Aq\n",
       "ED5wl4EhAGYF5ze4hLuxMdgsyWrGAwwGMAXsATD547ehDLGD3KsRCvjXvO0ECwMFYQqYLhxEKNi/\n",
       "hIFZARxsCXAFDC9ZLiAUfGDgiEYNFTEGxg0yIAVsYCsMGFh+ghhHVwHBAogCbgEuuNOYFzCwfAEx\n",
       "0pFMYDjHA1fAGAA1gRVZAYsCPGx4fjNwgFVzXIAJyQDxM0TgyTFsBfuCwQgmsgikHBH8fH0yEMbG\n",
       "yg1g+vBXoG7uBVhid16xMaYwAFtZPVFl1XohAAAAAElFTkSuQmCC\n",
       "\" style=\"display:inline;vertical-align:middle;\" /></a><br>(see <a class=\"ProveItLink\" href=\"../__pv_it/07b7a854a510f550759910ff0244cbadf291f9bb0/dependencies.ipynb\">dependencies</a>)<br>"
      ],
      "text/plain": [
       "posnat6: 6 in NaturalsPos"
      ]
     },
     "execution_count": 2,
     "metadata": {},
     "output_type": "execute_result"
    }
   ],
   "source": [
    "%proving posnat6 presuming []"
   ]
  },
  {
   "cell_type": "code",
   "execution_count": null,
   "metadata": {},
   "outputs": [],
   "source": []
  }
 ],
 "metadata": {
  "kernelspec": {
   "display_name": "Python 3",
   "language": "python",
   "name": "python3"
  }
 },
 "nbformat": 4,
 "nbformat_minor": 0
}
