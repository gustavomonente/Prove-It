{
 "cells": [
  {
   "cell_type": "markdown",
   "metadata": {},
   "source": [
    "Proof of <a class=\"ProveItLink\" href=\"../../../../_context_.ipynb\">proveit</a>.<a class=\"ProveItLink\" href=\"../../../_context_.ipynb\">number</a>.<a class=\"ProveItLink\" href=\"../../_context_.ipynb\">numeral</a>.<a class=\"ProveItLink\" href=\"../_context_.ipynb\">deci</a>.<a class=\"ProveItLink\" href=\"../_theorems_.ipynb#tuple_len_4\">tuple_len_4</a> theorem\n",
    "========"
   ]
  },
  {
   "cell_type": "code",
   "execution_count": 1,
   "metadata": {},
   "outputs": [],
   "source": [
    "import proveit\n",
    "from proveit._common_ import a, b, d, i\n",
    "from proveit.core_expr_types.tuples._axioms_ import tuple_len_incr\n",
    "from proveit.number. numeral.deci._theorems_ import tuple_len_3, add_3_1\n",
    "context = proveit.Context('..') # the theorem's context is in the parent directory"
   ]
  },
  {
   "cell_type": "code",
   "execution_count": 2,
   "metadata": {},
   "outputs": [
    {
     "name": "stdout",
     "output_type": "stream",
     "text": [
      "Beginning proof of tuple_len_4\n",
      "Recorded 'presuming' information\n",
      "Presuming previous theorems (applied transitively).\n"
     ]
    },
    {
     "data": {
      "text/html": [
       "<strong id=\"tuple_len_4\">tuple_len_4:</strong> <a class=\"ProveItLink\" href=\"../__pv_it/806fb780fe82ee00e069c152eadf49b868aa28fd0/expr.ipynb\"><img src=\"data:image/png;base64,iVBORw0KGgoAAAANSUhEUgAAAN8AAAAWBAMAAACyMFRjAAAAMFBMVEX///+IiIgiIiIQEBB2dnbu\n",
       "7u5UVFTMzMzc3NwyMjK6urpmZmaYmJiqqqpEREQAAACk/Np2AAAAAXRSTlMAQObYZgAAAAlwSFlz\n",
       "AAAOxAAADsQBlSsOGwAAAzBJREFUSMe1Vk1oE0EUfkl32WR3s0lFjeAPJagFpVCLqIiUrQcrRWHE\n",
       "IkjBpCA9CQYK4kEwKvSiYIoUBP+qngTBWAuiFpsKQqWgK3jwIBgPguLBFlrUYsX3ZmbTxM42uTiB\n",
       "2bfve/N9M2/ezAagrpbDH7VIXbGLvRKqo4U86OLG+jqCb/O+KwgqkfGhBsc7SRBzK5zH2hSRxpUC\n",
       "zk4paBRo4vCU7KvL6+l5SXC0yn1NFRv3YEgtGM4AQadoZ0rLC1pFSTBW5V5QxT5gMKUWXIGCCEUZ\n",
       "gOYtL9jgE7RWes05VexeDGcqQeNVhkM2zj5aYwvvSQIzX+nVmlSxmOdoUSWoRTMCakulttcQHJUE\n",
       "FtXMxY5zwhvtXSszozV2CiMymsQ8axmV4BoSJOgxwOcagtclAc3P3AXfGfemh/SfQqYFnovAuzkH\n",
       "82znfcGRFLXNPKhIggQNQCRTzvPNKqFHWfFskQRhXNHhIowI70cGM6L8XNgmqnkPWMgYa1KsUAMS\n",
       "JMhh2nDZfbwq6LJ87pYEDRg4zmCj8D4BfZYb48yv5jkSB2NaITjJBQmKJSpqZmdV0AaFYDvo8355\n",
       "mOJgtJeruQRpDDFblwpGElyQQ/kJ7Hom9lNKZ1bTbLV1Ce4alNE3/D30aFH2tPD+phVRImd91rQL\n",
       "b6AypYt7aPb1ndzhCuggHn+92aDBoU2hAj62GK3c9UMSfZIETgL0BXDy74GmNU/7ybgymNxIe/A1\n",
       "lgO7pDz4DVQ0BF1AwyqQBjJSGVklPctdcimwTxJQUQ/Ci4Kr/8K3E/ANuPEMoJMb0YS9VcORCaVg\n",
       "vCQhB9njw6EM3ySLrgN+vNDl33h3/IOPCTmy8nRvFlK4oB46hmRoHY2MG3pv50ASqzanErRu/UkI\n",
       "iGc/57zEEXFGYvGcdK2S5RfOSoJmf3SMBRoA5wM/TwLi+c2dvQ/dEGavsY8Og9tNrjMStQuSYGrx\n",
       "VAUa8opXC5Zvf3Ps7QHo94yHLvaRsQnW73GXbF8kgeNn5BAEGvLboxT897PkLen9b60k0P0BRQg0\n",
       "8CYJFHRY1avYhsq+PLMiJLlxqY6/GJO8TwZD5WYv6f9D+wvhO8hsqUsfJQAAAABJRU5ErkJggg==\n",
       "\" style=\"display:inline;vertical-align:middle;\" /></a><br>(see <a class=\"ProveItLink\" href=\"../__pv_it/806fb780fe82ee00e069c152eadf49b868aa28fd0/dependencies.ipynb\">dependencies</a>)<br>"
      ],
      "text/plain": [
       "tuple_len_4: forall_{a, b, c, d} (|(a, b, c, d)| = 4)"
      ]
     },
     "execution_count": 2,
     "metadata": {},
     "output_type": "execute_result"
    }
   ],
   "source": [
    "%proving tuple_len_4 presuming []"
   ]
  },
  {
   "cell_type": "code",
   "execution_count": 3,
   "metadata": {},
   "outputs": [
    {
     "data": {
      "text/html": [
       "<strong id=\"one_spec\">one_spec:</strong> <span style=\"font-size:20px;\"> <a class=\"ProveItLink\" href=\"../__pv_it/906a5bfe42cf3afdc9cfb8b586207baa5cc925880/proof.ipynb\" style=\"text-decoration: none\">&#x22A2;&nbsp;</a><a class=\"ProveItLink\" href=\"../__pv_it/769d2e056a6eb2a08a1e9879ea9588918e85d82e0/expr.ipynb\"><img src=\"data:image/png;base64,iVBORw0KGgoAAAANSUhEUgAAAHUAAAAVBAMAAACK3rzVAAAAMFBMVEX///9UVFREREQiIiIQEBCY\n",
       "mJhmZmYyMjLu7u6qqqrMzMyIiIi6urp2dnbc3NwAAABm9RoHAAAAAXRSTlMAQObYZgAAAAlwSFlz\n",
       "AAAOxAAADsQBlSsOGwAAAahJREFUOMtjeMAAAnwMOABU4gFWyTtgcicuvTwbkFRh1ct5AUmkyRlZ\n",
       "fidWvXx3kw5ARdtRJMqQOewN2PS2MbD+hIqmokj8ROawJmDTu38Cx3eoqAOKF3+gKPPApvfIAQao\n",
       "Xp4CZHFeAxRlpdjDivMrRJQNFFTPbr+G+lB62wSoKbtvMTBcxK73cABElB1I8/gx6IODhaG/guMf\n",
       "JDAtGZIYGMLhepONQcAQLLdacAFElBloT0sAQzLExPkNDL/BDOYLDN4MDJNxuBkazizAuMpvYLCF\n",
       "iKYzcPwFM/LB7liPI234N8D1OjFw/IFFLw8klpwgQYpN7yoGBv0JEP9OAFnF+gEi/pWBDRxLUNsn\n",
       "Y/Evx/8GmF6mDQwcPxmYCuYxgFz5B+T3BrAhDDwMDEHY7HWEu5lXgIGhmiE44QIosTCIMqgxgBlp\n",
       "DAzAOMrGpjcUHr88wNTQuHed9AIGY6B9baDoBTF4b+8GknbY9PKkwfOCFTzkG9AZfAYE8mAYPD1i\n",
       "MNgCCOhlgpUL3QzojEeE8j6HApQXwIDO0MCjdxeYfIqrzGF9gKQKDQAAS5yEaRnN3V8AAAAASUVO\n",
       "RK5CYII=\n",
       "\" style=\"display:inline;vertical-align:middle;\" /></a></span><br>"
      ],
      "text/plain": [
       "one_spec: |- |(a, b, c)| = 3"
      ]
     },
     "execution_count": 3,
     "metadata": {},
     "output_type": "execute_result"
    }
   ],
   "source": [
    "one_spec = tuple_len_3.specialize({a:a})"
   ]
  },
  {
   "cell_type": "code",
   "execution_count": 4,
   "metadata": {},
   "outputs": [
    {
     "data": {
      "text/html": [
       "<strong id=\"tuple_spec\">tuple_spec:</strong> <span style=\"font-size:20px;\"> <a class=\"ProveItLink\" href=\"../__pv_it/3b51a1ac52cf2f42c48e62789cf0dc0b2357fb460/proof.ipynb\" style=\"text-decoration: none\">&#x22A2;&nbsp;</a><a class=\"ProveItLink\" href=\"../__pv_it/89cca4f3410e471ae8a0c7ff5d2f5c6aa22ad9e40/expr.ipynb\"><img src=\"data:image/png;base64,iVBORw0KGgoAAAANSUhEUgAAALsAAAAVBAMAAADsqILHAAAAMFBMVEX///9UVFREREQiIiIQEBCY\n",
       "mJhmZmYyMjLu7u6qqqrMzMyIiIi6urp2dnbc3NwAAABm9RoHAAAAAXRSTlMAQObYZgAAAAlwSFlz\n",
       "AAAOxAAADsQBlSsOGwAAAoVJREFUOMuNlb9rFEEUx7/u/dpN9s5YWF1zhWiZyIpoQIgJVoIeiFdq\n",
       "SDCpJFeIHNhsRGJhcfsXaGoFuUrIBTFgOgsP7C4nrITY2AQkeIeJ+ubN7rKXfXtmiuHtzPf7mTdv\n",
       "Z2fhQ7US/t/8WB9vpVGGHkcbJ8B/4r6XGN8YZWC51YmNPp0TpGOP5sc9EU/e0teFreP6K4AysPz5\n",
       "0NRjKZXTHhoinrxryA2GB1eX+9Q3AvmDobmBhP/soibiyfvBM3/pB7sajI4rfC2Qz8T1dl/CfwGy\n",
       "roQn7/YWArzViuPJoOR2Pa4vTkl4qlihKuC11zqQ8GRQ8rx6s993fuiZQvmdFyy02Q3O3sM2Vaw4\n",
       "IeDZi49VCU+Gnl4F9i1MujzTbJh/NPQqFrR42zdInquH+EVHtYsIvHhzZl3Ck0HJM5TtsyoW9cwr\n",
       "F785yHRwkwPzBvKEtqaE7DO8U2sg4cmg5Fk6tSsurumZZZhHHKy4YQH6aimM7Qv4rD7xt0mbd5xL\n",
       "c44zEeHJEOJnYR6GL9HWucxGiAqaJLFnUvCvgUlPyJ4MXHtPJZzb1zMHKltVkqMQ0ezgPuLFidee\n",
       "vH9dGR8Ux2jBHMCov4Qqx6F6Dy6vA5uDpocLlo9cRcievLiui5N8tRWWqxP3BHfmO/zxncV5cLAE\n",
       "dDkotHKXi1TbloBX3rsp554M/FnRrlffvy2vw6Ek1tSxV0FxZ9PlwCx3v7XpkPjSZ0Veeym80kL8\n",
       "qXM/y2xg+XR0/bmpAbAr3jnTQ9dnK/60G8hr0VbTg+DiS+BrQ3upHrvtWG6E/6AXSA1Qqoh4w0/7\n",
       "nSgDy81KMBItngxguCI+8iaaMrQ52jvBz/Ae9+3E+N4Iwz+pBcnSFPqP7QAAAABJRU5ErkJggg==\n",
       "\" style=\"display:inline;vertical-align:middle;\" /></a></span><br>"
      ],
      "text/plain": [
       "tuple_spec: |- |(a, b, c, d)| = (3 + 1)"
      ]
     },
     "execution_count": 4,
     "metadata": {},
     "output_type": "execute_result"
    }
   ],
   "source": [
    "tuple_spec = tuple_len_incr.specialize({i: one_spec.rhs, a: one_spec.lhs.operands[0], b: d})"
   ]
  },
  {
   "cell_type": "code",
   "execution_count": 5,
   "metadata": {},
   "outputs": [
    {
     "data": {
      "text/html": [
       "<strong id=\"spec\">spec:</strong> <span style=\"font-size:20px;\"> <a class=\"ProveItLink\" href=\"../__pv_it/8ce4040d8a0da1111b2893543fad116d8c6911650/proof.ipynb\" style=\"text-decoration: none\">&#x22A2;&nbsp;</a><a class=\"ProveItLink\" href=\"../__pv_it/5d5d8b678b841a77595d07d31f3d4deafbcf9cf00/expr.ipynb\"><img src=\"data:image/png;base64,iVBORw0KGgoAAAANSUhEUgAAAIkAAAAVBAMAAACArtDCAAAAMFBMVEX///9UVFREREQiIiIQEBCY\n",
       "mJhmZmYyMjLu7u6qqqrMzMyIiIi6urp2dnbc3NwAAABm9RoHAAAAAXRSTlMAQObYZgAAAAlwSFlz\n",
       "AAAOxAAADsQBlSsOGwAAAfFJREFUOMuNlL9LHEEUx7+sd7d75+6phdUV2UrLKEIggmAUK0EOAqYz\n",
       "h2JSBa+QIKRwEkSLFLd/gfoXyIIgeJKQIl2KLKQ7U2wI2tiIIFFyFzI/c3vn25xTDN/97tvPm/dm\n",
       "dhBDjCJ6jzgxd4/vcj6+B+VLIp6k5KOE826WCCusV/oDmlKoaHenw35NZRsIsEFT+ga1u9ph31KU\n",
       "rwyLNOXQUKaTrntDUb4BGUZRCs80xa0mbW+MovAy7TJF8WxNyYnmnp9eKNsuHQU64KShRPFVnZfp\n",
       "DVKUj4YikrgLeMikXdtw/qhvH2NZRX6OLV5mtmooKxNijMugsqH08dxbZayoT/YYfqvmR5iXwplD\n",
       "jhPyY8RaPBhK5hOwxjCl/JdwWlKsMR2ZuxFEFC4JylIHZQZO0/TRVXs9YyIzPmo8xJ2+SymG/yh2\n",
       "INJnL9WLa5Fb1NEyobUIz5GsqN0Xd2jowZNIulYI5xZWdReihqboEZM4uFLUAozmY2R98tRl9FrE\n",
       "Fr7B00rk/OJPwxiBFC+AhhR2mH3k8faEJGXA16eOL/Xth4PSPiZ46m1xXITwTk+YFE6p8aPO9yym\n",
       "KLnNq1C5k8bKs1QB/OxxMyy2dz9V6H/2PxTL3GDvkSpQ9HtQHF8/lZEqYLF0Sl3OZ/e4MZcS8V3j\n",
       "L4cXj3G4/+UqAAAAAElFTkSuQmCC\n",
       "\" style=\"display:inline;vertical-align:middle;\" /></a></span><br>"
      ],
      "text/plain": [
       "spec: |- |(a, b, c, d)| = 4"
      ]
     },
     "execution_count": 5,
     "metadata": {},
     "output_type": "execute_result"
    }
   ],
   "source": [
    "spec = tuple_spec.applyTransitivity(add_3_1)"
   ]
  },
  {
   "cell_type": "code",
   "execution_count": 6,
   "metadata": {},
   "outputs": [
    {
     "data": {
      "text/html": [
       "<table><tr><th>&nbsp;</th><th>step type</th><th>requirements</th><th>statement</th></tr>\n",
       "<tr><td><a name=\"-0x1d248437a20f9249_step0\">0</a></td><td>generalizaton</td><td><a href=\"#-0x1d248437a20f9249_step1\">1</a></td><td><span style=\"font-size:20px;\"> <a class=\"ProveItLink\" href=\"../__pv_it/045579ebeaca673459c5533b6de728a80890e83a0/proof.ipynb\" style=\"text-decoration: none\">&#x22A2;&nbsp;</a><a class=\"ProveItLink\" href=\"../__pv_it/806fb780fe82ee00e069c152eadf49b868aa28fd0/expr.ipynb\"><img src=\"data:image/png;base64,iVBORw0KGgoAAAANSUhEUgAAAN8AAAAWBAMAAACyMFRjAAAAMFBMVEX///+IiIgiIiIQEBB2dnbu\n",
       "7u5UVFTMzMzc3NwyMjK6urpmZmaYmJiqqqpEREQAAACk/Np2AAAAAXRSTlMAQObYZgAAAAlwSFlz\n",
       "AAAOxAAADsQBlSsOGwAAAzBJREFUSMe1Vk1oE0EUfkl32WR3s0lFjeAPJagFpVCLqIiUrQcrRWHE\n",
       "IkjBpCA9CQYK4kEwKvSiYIoUBP+qngTBWAuiFpsKQqWgK3jwIBgPguLBFlrUYsX3ZmbTxM42uTiB\n",
       "2bfve/N9M2/ezAagrpbDH7VIXbGLvRKqo4U86OLG+jqCb/O+KwgqkfGhBsc7SRBzK5zH2hSRxpUC\n",
       "zk4paBRo4vCU7KvL6+l5SXC0yn1NFRv3YEgtGM4AQadoZ0rLC1pFSTBW5V5QxT5gMKUWXIGCCEUZ\n",
       "gOYtL9jgE7RWes05VexeDGcqQeNVhkM2zj5aYwvvSQIzX+nVmlSxmOdoUSWoRTMCakulttcQHJUE\n",
       "FtXMxY5zwhvtXSszozV2CiMymsQ8axmV4BoSJOgxwOcagtclAc3P3AXfGfemh/SfQqYFnovAuzkH\n",
       "82znfcGRFLXNPKhIggQNQCRTzvPNKqFHWfFskQRhXNHhIowI70cGM6L8XNgmqnkPWMgYa1KsUAMS\n",
       "JMhh2nDZfbwq6LJ87pYEDRg4zmCj8D4BfZYb48yv5jkSB2NaITjJBQmKJSpqZmdV0AaFYDvo8355\n",
       "mOJgtJeruQRpDDFblwpGElyQQ/kJ7Hom9lNKZ1bTbLV1Ce4alNE3/D30aFH2tPD+phVRImd91rQL\n",
       "b6AypYt7aPb1ndzhCuggHn+92aDBoU2hAj62GK3c9UMSfZIETgL0BXDy74GmNU/7ybgymNxIe/A1\n",
       "lgO7pDz4DVQ0BF1AwyqQBjJSGVklPctdcimwTxJQUQ/Ci4Kr/8K3E/ANuPEMoJMb0YS9VcORCaVg\n",
       "vCQhB9njw6EM3ySLrgN+vNDl33h3/IOPCTmy8nRvFlK4oB46hmRoHY2MG3pv50ASqzanErRu/UkI\n",
       "iGc/57zEEXFGYvGcdK2S5RfOSoJmf3SMBRoA5wM/TwLi+c2dvQ/dEGavsY8Og9tNrjMStQuSYGrx\n",
       "VAUa8opXC5Zvf3Ps7QHo94yHLvaRsQnW73GXbF8kgeNn5BAEGvLboxT897PkLen9b60k0P0BRQg0\n",
       "8CYJFHRY1avYhsq+PLMiJLlxqY6/GJO8TwZD5WYv6f9D+wvhO8hsqUsfJQAAAABJRU5ErkJggg==\n",
       "\" style=\"display:inline;vertical-align:middle;\" /></a></span></td></tr>\n",
       "<tr><td><a name=\"-0x1d248437a20f9249_step1\">1</a></td><td>instantiation</td><td><a href=\"#-0x1d248437a20f9249_step2\">2</a>, <a href=\"#-0x1d248437a20f9249_step3\">3</a>, <a href=\"#-0x1d248437a20f9249_step4\">4</a></td><td><span style=\"font-size:20px;\"> <a class=\"ProveItLink\" href=\"../__pv_it/8ce4040d8a0da1111b2893543fad116d8c6911650/proof.ipynb\" style=\"text-decoration: none\">&#x22A2;&nbsp;</a><a class=\"ProveItLink\" href=\"../__pv_it/5d5d8b678b841a77595d07d31f3d4deafbcf9cf00/expr.ipynb\"><img src=\"data:image/png;base64,iVBORw0KGgoAAAANSUhEUgAAAIkAAAAVBAMAAACArtDCAAAAMFBMVEX///9UVFREREQiIiIQEBCY\n",
       "mJhmZmYyMjLu7u6qqqrMzMyIiIi6urp2dnbc3NwAAABm9RoHAAAAAXRSTlMAQObYZgAAAAlwSFlz\n",
       "AAAOxAAADsQBlSsOGwAAAfFJREFUOMuNlL9LHEEUx7+sd7d75+6phdUV2UrLKEIggmAUK0EOAqYz\n",
       "h2JSBa+QIKRwEkSLFLd/gfoXyIIgeJKQIl2KLKQ7U2wI2tiIIFFyFzI/c3vn25xTDN/97tvPm/dm\n",
       "dhBDjCJ6jzgxd4/vcj6+B+VLIp6k5KOE826WCCusV/oDmlKoaHenw35NZRsIsEFT+ga1u9ph31KU\n",
       "rwyLNOXQUKaTrntDUb4BGUZRCs80xa0mbW+MovAy7TJF8WxNyYnmnp9eKNsuHQU64KShRPFVnZfp\n",
       "DVKUj4YikrgLeMikXdtw/qhvH2NZRX6OLV5mtmooKxNijMugsqH08dxbZayoT/YYfqvmR5iXwplD\n",
       "jhPyY8RaPBhK5hOwxjCl/JdwWlKsMR2ZuxFEFC4JylIHZQZO0/TRVXs9YyIzPmo8xJ2+SymG/yh2\n",
       "INJnL9WLa5Fb1NEyobUIz5GsqN0Xd2jowZNIulYI5xZWdReihqboEZM4uFLUAozmY2R98tRl9FrE\n",
       "Fr7B00rk/OJPwxiBFC+AhhR2mH3k8faEJGXA16eOL/Xth4PSPiZ46m1xXITwTk+YFE6p8aPO9yym\n",
       "KLnNq1C5k8bKs1QB/OxxMyy2dz9V6H/2PxTL3GDvkSpQ9HtQHF8/lZEqYLF0Sl3OZ/e4MZcS8V3j\n",
       "L4cXj3G4/+UqAAAAAElFTkSuQmCC\n",
       "\" style=\"display:inline;vertical-align:middle;\" /></a></span></td></tr>\n",
       "<tr><td>&nbsp;</td><td colspan=4 style=\"text-align:left\"><span style=\"font-size:20px;\"><a class=\"ProveItLink\" href=\"../../../../__pv_it/72df168d2bfb4e0140af90912ebf83b13772060b0/expr.ipynb\"><img src=\"data:image/png;base64,iVBORw0KGgoAAAANSUhEUgAAAAsAAAAJBAMAAAAWSsseAAAAMFBMVEX///8QEBC6uroyMjJERETc\n",
       "3NyYmJgiIiJmZmaqqqp2dnbMzMxUVFSIiIju7u4AAAAoIwv1AAAAAXRSTlMAQObYZgAAAAlwSFlz\n",
       "AAAOxAAADsQBlSsOGwAAAENJREFUCNdjYHh75/WqCQwMDbxnOQoY2AJ4v/IkMHAzsBgwgAD/BTCl\n",
       "H8D3gOGJwnkGLgaG+fsaGTQZGF7c5WybwAAAJGsQ2L2rVEcAAAAASUVORK5CYII=\n",
       "\" style=\"display:inline;vertical-align:middle;\" /></a> : <a class=\"ProveItLink\" href=\"../__pv_it/cd36219d2a50cd27587e7599317dbe04f2a4d0690/expr.ipynb\"><img src=\"data:image/png;base64,iVBORw0KGgoAAAANSUhEUgAAAGIAAAAVBAMAAABPrCZEAAAAMFBMVEX///9UVFREREQiIiIQEBCY\n",
       "mJhmZmYyMjLu7u6qqqrMzMyIiIi6urp2dnbc3NwAAABm9RoHAAAAAXRSTlMAQObYZgAAAAlwSFlz\n",
       "AAAOxAAADsQBlSsOGwAAAaRJREFUOMuNkz9Lw0AYxh9i0yY1rS5OXTLpaEEQFIRScRKkIHTUoqiT\n",
       "tINIweUU0cGh+QTqJ5BOgimCg5uDAbe2Q0R0cekittiK9ydJE0iwN1yeu+f93b3v3QU2WEvj/2Y7\n",
       "fZt/70YgnnjfFoRq+ZyT5ZDw5EFp3PAR5wH3MGyHCQNVH7ETMHthxDNB0Ufk/J7WDSNegBjxCK3i\n",
       "91LZMIKmmih4RJwV/tH6FF4ic2s4bKMpRHrfpKmmJj2CwdoaZgm3a1XlV8QtYEsQj7ZEU5UrHjFG\n",
       "1zwtYFvYVwQ/XIxZWOVCWUGcRqtZj4g9AGWCJUHsQRlwUSZODfEuo5HsBIg8lL5boybON+9WHdNR\n",
       "oyFabliHwZaVO8L/YmuyXAYuUbOwiUBWUh1KD1LlEiyPPquJcBQaFzUDM6oNWfcIdmxHWC9Zyjcd\n",
       "TWEaXOwCTS4SdXk+RcupD2+Qbnd8f5O5xhxd8oxdBxOpVoNwoWSaryY9O3v4ShbdjFUSKYA337sq\n",
       "ei8kWjjv1SEk25m8QKRAWvcRiu7MFhApIBFBmHz0PsJfu8F78w+7LYP2tC66dwAAAABJRU5ErkJg\n",
       "gg==\n",
       "\" style=\"display:inline;vertical-align:middle;\" /></a>, <a class=\"ProveItLink\" href=\"../../../../__pv_it/c6e291955561f22a0e6708fd793ea93f1c7dbb5d0/expr.ipynb\"><img src=\"data:image/png;base64,iVBORw0KGgoAAAANSUhEUgAAAAsAAAANBAMAAACN24kIAAAAMFBMVEX///8iIiLMzMy6urpEREQy\n",
       "MjLc3NyYmJgQEBCqqqp2dnZUVFRmZmaIiIju7u4AAACJ/BCYAAAAAXRSTlMAQObYZgAAAAlwSFlz\n",
       "AAAOxAAADsQBlSsOGwAAAFdJREFUCNdj4LtzgeE1AwMXZwNDPQNDJk8AwxYGhgccFxh6GRgY7B8w\n",
       "fQJSRxl4G4CUNwPLBiB1msG+AEi9Xns+gQEElgIxTwBfJ5BivMC9AEhx3j0MJAH6nBTYXSPRQAAA\n",
       "AABJRU5ErkJggg==\n",
       "\" style=\"display:inline;vertical-align:middle;\" /></a> : <a class=\"ProveItLink\" href=\"../__pv_it/8906f6f1b4c45a897cb5c93699b66956df0f67640/expr.ipynb\"><img src=\"data:image/png;base64,iVBORw0KGgoAAAANSUhEUgAAACwAAAAQBAMAAACfEoDkAAAAMFBMVEX///9UVFTMzMwiIiIQEBAy\n",
       "MjKIiIiqqqqYmJju7u66urpERERmZmZ2dnbc3NwAAAAvvFLTAAAAAXRSTlMAQObYZgAAAAlwSFlz\n",
       "AAAOxAAADsQBlSsOGwAAAH9JREFUGNNjYHh7ZxcDKmCyZGDgPMDQX4AiOvHoTwYGtu8M8wMg/BVQ\n",
       "cTagMJcXAz9UuAxJGAjqG7AJc1kwYBFmShRiwG5IAVZhFhB12NjYxdjYECbMpMDA/R1T9fyfWIVZ\n",
       "BCCGoAlzNGB395ozu1AdyLjlsxhyGJUxYAUrEEwAz+IquLC/ayAAAAAASUVORK5CYII=\n",
       "\" style=\"display:inline;vertical-align:middle;\" /></a>, <a class=\"ProveItLink\" href=\"../../../../__pv_it/0d889e00aed425c3081fbda3ac9194ae911895960/expr.ipynb\"><img src=\"data:image/png;base64,iVBORw0KGgoAAAANSUhEUgAAAAoAAAAJBAMAAAD5iKAgAAAAMFBMVEX///8QEBCqqqpUVFS6urru\n",
       "7u5mZmZERER2dnaIiIgyMjKYmJjc3NwiIiLMzMwAAAC+/aJUAAAAAXRSTlMAQObYZgAAAAlwSFlz\n",
       "AAAOxAAADsQBlSsOGwAAADhJREFUCNdjYOC7++A0AwPXjMoEBoajDBwMQMCaCiJPgAiWCQwBDAze\n",
       "DAwGDHwVlb0PgAoUlzAAADSiCqmElLEHAAAAAElFTkSuQmCC\n",
       "\" style=\"display:inline;vertical-align:middle;\" /></a> : <a class=\"ProveItLink\" href=\"../../__pv_it/32801785a546fd942457f8cd430f52e750ed8f980/expr.ipynb\"><img src=\"data:image/png;base64,iVBORw0KGgoAAAANSUhEUgAAAAoAAAAOBAMAAADkjZCYAAAAKlBMVEX///9EREQQEBC6urrc3Nx2\n",
       "dnYyMjKYmJiIiIhUVFQiIiJmZmbMzMwAAACZN6llAAAAAXRSTlMAQObYZgAAAAlwSFlzAAAOxAAA\n",
       "DsQBlSsOGwAAAD1JREFUCNdjYGBgOM0AAitBBAeYPJ4JIgNAJIcDiHRnAJEBIJLdAUR6MIBIy5kz\n",
       "L00FKdUEm3ARRGy7KwEA4RgNAZlGii0AAAAASUVORK5CYII=\n",
       "\" style=\"display:inline;vertical-align:middle;\" /></a></span></td></tr><tr><td><a name=\"-0x1d248437a20f9249_step2\">2</a></td><td>axiom</td><td></td><td><span style=\"font-size:20px;\"> <a class=\"ProveItLink\" href=\"../../../../logic/equality/_axioms_.ipynb#equalsTransitivity\" style=\"text-decoration: none\">&#x22A2;&nbsp;</a><a class=\"ProveItLink\" href=\"../../../../logic/equality/__pv_it/2ec484d321bd84454ec9e76755ed993e1eddea420/expr.ipynb\"><img src=\"data:image/png;base64,iVBORw0KGgoAAAANSUhEUgAAANEAAAAXBAMAAABnpbd1AAAAMFBMVEX///+IiIgiIiIQEBB2dnbu\n",
       "7u5UVFTMzMzc3NwyMjK6urpmZmaYmJiqqqpEREQAAACk/Np2AAAAAXRSTlMAQObYZgAAAAlwSFlz\n",
       "AAAOxAAADsQBlSsOGwAAAn5JREFUSMetVT9oE2EU/yW5f73k0iuEIhQ1ZDDoFKQgHYQTLCLScoOK\n",
       "WocUdCsS26LgoIdtBcUhDkKXQiuiOIldLNIhxaUoShZxaIc4OFSKxEHq6Ht3l0t67R0NfD9Ift99\n",
       "777v991773sPEAct2uRAKA5Hm5bo1+DBpgghw4q2JerABx7Mi1C6Gmd8DtxhBzdEKK3GGT8DPTYg\n",
       "1UUoleKMKRuZGqmJENKrcdYekjlZKAyKUEpTQsh9N6dHwobJolaDVAbeAz+jFnejxKdOo99c5ofl\n",
       "AuOYa3g2OgBk6IsfQStHLM52o5SkYK/jqDMRvs826GuNPG1nS4silFK0SwVb+1jGKOnUJqmZkQnR\n",
       "tRLwZ58ixTda58ysrtFf38oFqk16v7f75PzrtlJiYHalVVTKbk3xiaEef1Lx48RXRf+HS+E4LUH2\n",
       "vIcRur8J5xa/KfXaU2w8N221lQ4pjYX0b8I2rL8qn43Jn5Hunm05wIT8S2kiXJP0GhTKCD7aDCVE\n",
       "Bj9UGs69wBHXPNvhvVrW9I+tXcsnGgF1+IZBeWzsjJX0cBW4P5orUlaavJ+7z447fQPjrk/Mzjj1\n",
       "VlqrFEsx2+TidnD2POR35saXcJgsY4gimAz6htp0u8sJnPKWz3UoPYDj+yq5mGJVJn9GNSmLPRTj\n",
       "8uVhazAjVSVcpLf1JpG2cK8cKGml84Hvk5W3kC2XfDz+/qqjiB6g/F7+dGYYU3VsfK0SSdeHnEBJ\n",
       "nniZax3bWN2CetolH8Mfg46TjWms4W5Rl50s1ZR65H26gm2S82gP5Jjek7V3N01bMd8wRSqNc8H+\n",
       "5tFePI1WWt/9mIGxZjFFKm3mOOs9EgpN5Gb/AZFTmUcA4ZeFAAAAAElFTkSuQmCC\n",
       "\" style=\"display:inline;vertical-align:middle;\" /></a></span></td></tr>\n",
       "<tr><td>&nbsp;</td><td colspan=4 style-\"text-align:left\"><a class=\"ProveItLink\" href=\"../../../../logic/equality/_axioms_.ipynb#equalsTransitivity\">proveit.logic.equality.equalsTransitivity</a></td></tr><tr><td><a name=\"-0x1d248437a20f9249_step3\">3</a></td><td>instantiation</td><td><a href=\"#-0x1d248437a20f9249_step5\">5</a>, <a href=\"#-0x1d248437a20f9249_step6\">6</a>, <a href=\"#-0x1d248437a20f9249_step7\">7</a></td><td><span style=\"font-size:20px;\"> <a class=\"ProveItLink\" href=\"../__pv_it/3b51a1ac52cf2f42c48e62789cf0dc0b2357fb460/proof.ipynb\" style=\"text-decoration: none\">&#x22A2;&nbsp;</a><a class=\"ProveItLink\" href=\"../__pv_it/89cca4f3410e471ae8a0c7ff5d2f5c6aa22ad9e40/expr.ipynb\"><img src=\"data:image/png;base64,iVBORw0KGgoAAAANSUhEUgAAALsAAAAVBAMAAADsqILHAAAAMFBMVEX///9UVFREREQiIiIQEBCY\n",
       "mJhmZmYyMjLu7u6qqqrMzMyIiIi6urp2dnbc3NwAAABm9RoHAAAAAXRSTlMAQObYZgAAAAlwSFlz\n",
       "AAAOxAAADsQBlSsOGwAAAoVJREFUOMuNlb9rFEEUx7/u/dpN9s5YWF1zhWiZyIpoQIgJVoIeiFdq\n",
       "SDCpJFeIHNhsRGJhcfsXaGoFuUrIBTFgOgsP7C4nrITY2AQkeIeJ+ubN7rKXfXtmiuHtzPf7mTdv\n",
       "Z2fhQ7US/t/8WB9vpVGGHkcbJ8B/4r6XGN8YZWC51YmNPp0TpGOP5sc9EU/e0teFreP6K4AysPz5\n",
       "0NRjKZXTHhoinrxryA2GB1eX+9Q3AvmDobmBhP/soibiyfvBM3/pB7sajI4rfC2Qz8T1dl/CfwGy\n",
       "roQn7/YWArzViuPJoOR2Pa4vTkl4qlihKuC11zqQ8GRQ8rx6s993fuiZQvmdFyy02Q3O3sM2Vaw4\n",
       "IeDZi49VCU+Gnl4F9i1MujzTbJh/NPQqFrR42zdInquH+EVHtYsIvHhzZl3Ck0HJM5TtsyoW9cwr\n",
       "F785yHRwkwPzBvKEtqaE7DO8U2sg4cmg5Fk6tSsurumZZZhHHKy4YQH6aimM7Qv4rD7xt0mbd5xL\n",
       "c44zEeHJEOJnYR6GL9HWucxGiAqaJLFnUvCvgUlPyJ4MXHtPJZzb1zMHKltVkqMQ0ezgPuLFidee\n",
       "vH9dGR8Ux2jBHMCov4Qqx6F6Dy6vA5uDpocLlo9cRcievLiui5N8tRWWqxP3BHfmO/zxncV5cLAE\n",
       "dDkotHKXi1TbloBX3rsp554M/FnRrlffvy2vw6Ek1tSxV0FxZ9PlwCx3v7XpkPjSZ0Veeym80kL8\n",
       "qXM/y2xg+XR0/bmpAbAr3jnTQ9dnK/60G8hr0VbTg+DiS+BrQ3upHrvtWG6E/6AXSA1Qqoh4w0/7\n",
       "nSgDy81KMBItngxguCI+8iaaMrQ52jvBz/Ae9+3E+N4Iwz+pBcnSFPqP7QAAAABJRU5ErkJggg==\n",
       "\" style=\"display:inline;vertical-align:middle;\" /></a></span></td></tr>\n",
       "<tr><td>&nbsp;</td><td colspan=4 style=\"text-align:left\"><span style=\"font-size:20px;\"><a class=\"ProveItLink\" href=\"../../../../__pv_it/557ab5defdcd46aa58168b08767502985122cd490/expr.ipynb\"><img src=\"data:image/png;base64,iVBORw0KGgoAAAANSUhEUgAAAAcAAAAOBAMAAAARcxsoAAAALVBMVEX///9ERESYmJhUVFQyMjKq\n",
       "qqrc3NwQEBC6urru7u52dnYiIiJmZmaIiIgAAAD/UVazAAAAAXRSTlMAQObYZgAAAAlwSFlzAAAO\n",
       "xAAADsQBlSsOGwAAADlJREFUCNdjYGC4wwAEuxjQAeedCwwMXBwFDAypPA4MDBP4gFyGuAlAwhkk\n",
       "+5SLgYHjQRKQKavAAAAx5QmdfgFqMAAAAABJRU5ErkJggg==\n",
       "\" style=\"display:inline;vertical-align:middle;\" /></a> : <a class=\"ProveItLink\" href=\"../../__pv_it/eafea0aba3ef5dc2db24e5b7b93d46ff53acbff50/expr.ipynb\"><img src=\"data:image/png;base64,iVBORw0KGgoAAAANSUhEUgAAAAoAAAAOBAMAAADkjZCYAAAAMFBMVEX///9UVFTMzMwiIiIQEBAy\n",
       "MjKIiIiqqqqYmJju7u66urpERERmZmZ2dnbc3NwAAAAvvFLTAAAAAXRSTlMAQObYZgAAAAlwSFlz\n",
       "AAAOxAAADsQBlSsOGwAAAEtJREFUCNdjYHh7ZxcDA+cBhv4CBrbvDPMDGLi8GPgDGICgvgFIcFkA\n",
       "CaZEIQawSAGIZPnJwKTAwA1U/BNEsgiARDgawOrXnNnFAAAQ9hMVh8BvFQAAAABJRU5ErkJggg==\n",
       "\" style=\"display:inline;vertical-align:middle;\" /></a>, <a class=\"ProveItLink\" href=\"../../../../__pv_it/a8d4b3a34d2189508f9082853fbac36935714f280/expr.ipynb\"><img src=\"data:image/png;base64,iVBORw0KGgoAAAANSUhEUgAAAAsAAAAJBAMAAAAWSsseAAAAMFBMVEX////MzMxUVFQyMjKqqqoi\n",
       "IiKYmJju7u5EREQQEBC6urqIiIh2dnZmZmbc3NwAAAD0tjQRAAAAAXRSTlMAQObYZgAAAAlwSFlz\n",
       "AAAOxAAADsQBlSsOGwAAAEdJREFUCNdjYOC7s28DAwPDygcc3xkY2Kcx8AYwMPB+Z2A9wMDA2cBQ\n",
       "v4CBof4AQz5QRb0DQzPLAwbmDWyxPECV2gcfbWQAABp5EMgcedARAAAAAElFTkSuQmCC\n",
       "\" style=\"display:inline;vertical-align:middle;\" /></a> : <a class=\"ProveItLink\" href=\"../__pv_it/d90118782a263653f0cbfdd8712fa5e8640d117d0/expr.ipynb\"><img src=\"data:image/png;base64,iVBORw0KGgoAAAANSUhEUgAAADsAAAAVBAMAAAAKrYvGAAAAMFBMVEX////MzMxUVFREREQiIiK6\n",
       "uroQEBCYmJhmZmYyMjLu7u52dnaqqqqIiIjc3NwAAACFAiZ1AAAAAXRSTlMAQObYZgAAAAlwSFlz\n",
       "AAAOxAAADsQBlSsOGwAAATxJREFUKM91UrFKxEAQfZqY7CUxl0/wB4RUgoVypahFChEs5GzENqWV\n",
       "prM4xWAjiEXAD8gpdiKkPpvY3nES5D7A1lTO7iayuSMLSd68l5mdN7sACrQsIaxmbfIxf30ohLXR\n",
       "UyKeaMVqQidSoweAhSrRbex0DhiN7fqJGhkJjhryayPqhBjQxx185ZK4m15X0vvEg72Ge4KHhVbK\n",
       "zn+TVI5hljEfZox9Is/ApCGnRFfW2YORw+nhlJovoQ8FyWKkAjFRbemHy4aPNKht94U1omitnOAR\n",
       "POGysh3iVliTNaj4FuEMm05hcTmgPiz5HwKYPl6oZG7u2EhpusuhFgnAItgeWI4D6nz9+fsT+i6h\n",
       "G7LNAd6mY0IFdK+e0WgBzADz/4yGC+CKnu36rPN54HJ3T1VgYh5o3KMbtl2mC+AP8stL1/pfDBsA\n",
       "AAAASUVORK5CYII=\n",
       "\" style=\"display:inline;vertical-align:middle;\" /></a>, <a class=\"ProveItLink\" href=\"../../../../__pv_it/53e304ff98ebc000dbe3ef224f4637dbafd46ba70/expr.ipynb\"><img src=\"data:image/png;base64,iVBORw0KGgoAAAANSUhEUgAAAAkAAAAOBAMAAAAPuiubAAAALVBMVEX///+YmJjc3NyIiIhUVFR2\n",
       "dna6urqqqqpmZmYyMjIiIiIQEBBERETu7u4AAAALjtrwAAAAAXRSTlMAQObYZgAAAAlwSFlzAAAO\n",
       "xAAADsQBlSsOGwAAAE5JREFUCNdj4D29gAEIOBtAJF8BiMy7ACKjQATDFON2BgbelxfuKTCwv2Xg\n",
       "M2DgmMBwLwCkPK+AgU+Aoe8CA18C70YGBhYBHqARvM1A5QCqGhDobJhHyAAAAABJRU5ErkJggg==\n",
       "\" style=\"display:inline;vertical-align:middle;\" /></a> : <a class=\"ProveItLink\" href=\"../../../../__pv_it/445e790c2b62732eb8597a2ddda4cbd1a8fb79140/expr.ipynb\"><img src=\"data:image/png;base64,iVBORw0KGgoAAAANSUhEUgAAAAsAAAAOBAMAAAALT/umAAAAMFBMVEX///9UVFSYmJhERESIiIjc\n",
       "3NwiIiJ2dnbu7u66urqqqqpmZmYQEBAyMjLMzMwAAAAJQA1gAAAAAXRSTlMAQObYZgAAAAlwSFlz\n",
       "AAAOxAAADsQBlSsOGwAAAFpJREFUCNdjYGBg4LuzgQEE+BeAqfkNYKoMTDLcBmLW7X6/gNScAOYf\n",
       "DAwchxi4LzAwcP9gYCtgYOAxYOifwMDQX8CgD1TRv4DBliuAgdeBKZsdqFKkLtCPAQBT/hIMxxSb\n",
       "NAAAAABJRU5ErkJggg==\n",
       "\" style=\"display:inline;vertical-align:middle;\" /></a></span></td></tr><tr><td><a name=\"-0x1d248437a20f9249_step4\">4</a></td><td>theorem</td><td></td><td><span style=\"font-size:20px;\"> <a class=\"ProveItLink\" href=\"add_3_1.ipynb\" style=\"text-decoration: none\">&#x22A2;&nbsp;</a><a class=\"ProveItLink\" href=\"../__pv_it/768cfdd042ecc6d4738f4257a5183115232d20f30/expr.ipynb\"><img src=\"data:image/png;base64,iVBORw0KGgoAAAANSUhEUgAAAGEAAAAVBAMAAACkm51HAAAAMFBMVEX////MzMxUVFREREQiIiK6\n",
       "uroQEBCYmJhmZmYyMjLu7u52dnaqqqqIiIjc3NwAAACFAiZ1AAAAAXRSTlMAQObYZgAAAAlwSFlz\n",
       "AAAOxAAADsQBlSsOGwAAAUJJREFUOMtjYGB4wIAd4BJn4D2AQyIWl47TDAyvd5iiCTJ6YTeKsYGB\n",
       "gWsCA1cDQz2q7KLOX0ByFqYOFgUGBo4CBt4/DOsnQETCYU4F6ajA1HEFqIONgYE1lYEfquMssg62\n",
       "BRiOqgTqiAQzzxdg0cFZgK6DmxOooxvEYnVnwKKDWwFdxz2Qjukgyy4pYtPBDnYqhwsYgHTzFYB0\n",
       "+EBcdQCLDh4HdEcxgHSkgtlsIBUtLi5pLi5OcB2MH9B01MF0MAowMP/BYgdrAqoGvgtgHXMYGNb/\n",
       "wq4D4iqEP1iVlPSTNjDYAp2kAHEVhs8NMGIQqJRhE1CmAHt8cFzA0MEPNCQESEd0mKKGLpPZF11g\n",
       "IsJI7xzzP19gYBFAFjqLzHmCPbGzNyDzwpE57Tjyhx2ujMNngENiMS4dzAtwGVWAQ6IOuzAAGHxR\n",
       "61fmlDEAAAAASUVORK5CYII=\n",
       "\" style=\"display:inline;vertical-align:middle;\" /></a></span></td></tr>\n",
       "<tr><td>&nbsp;</td><td colspan=4 style-\"text-align:left\"><a class=\"ProveItLink\" href=\"add_3_1.ipynb\">proveit.number.numeral.deci.add_3_1</a></td></tr><tr><td><a name=\"-0x1d248437a20f9249_step5\">5</a></td><td>axiom</td><td></td><td><span style=\"font-size:20px;\"> <a class=\"ProveItLink\" href=\"../../../../core_expr_types/tuples/_axioms_.ipynb#tuple_len_incr\" style=\"text-decoration: none\">&#x22A2;&nbsp;</a><a class=\"ProveItLink\" href=\"../../../../core_expr_types/tuples/__pv_it/5da98025e66fce9b7f9b8a2843f5dc185516fb940/expr.ipynb\"><img src=\"data:image/png;base64,iVBORw0KGgoAAAANSUhEUgAAAYgAAAAWBAMAAAAodhaSAAAAMFBMVEX///+IiIgiIiIQEBB2dnbu\n",
       "7u5UVFTMzMzc3NwyMjK6urpmZmaYmJiqqqpEREQAAACk/Np2AAAAAXRSTlMAQObYZgAAAAlwSFlz\n",
       "AAAOxAAADsQBlSsOGwAABHRJREFUWMPNV11oHFUUPtmdYWb/pmssScFWl0CaShBKtViqxVUwyqIy\n",
       "1dYqpdkEfFPKxoAPvmRF7ZOEfSkIxjYaX4qCGymUah62Dz5EadyE1lAVjA/B/mig4IIGBc+Ze+/s\n",
       "zc65W+fNs5zhzJxzds53z8+9A2Ck3iGIS1X8SSE+uSZX12zv3inOUuwweprSCYX4lM4bXrvLbB/4\n",
       "lGCN7n/iQZh1PF1RIVyJC2B0XxhsBESuiKtS73j4ui/sdwUeX9Kj93kQZh1Ldk2GQEJM+gA55bMg\n",
       "XkZOFLe+6dWzvrAnLsEbVFlrPAizjqVMQ4ZAQkz6BzlbZ0EsaPJnSrjPF/bEpQCK1eRBmHUsJVUI\n",
       "yfj90KLrfhbEXk1e1kEE9vvJI4urljI0tlnH0jkVwrnYIKwCXWc4EOmaEcSMYPTYNzDwkGk6GXUs\n",
       "nVchkOCe35HvPlF1g9T4PZjxEQ5EBtvh8DwLYkQwelwAWMdWqXIghO6/0owKgYS5qtfqai0MXhI3\n",
       "5dP2nwCLIYgvBoh2B/iwHIpzLIhFwehxCtwxzKdYFWe4BHePhSCErjs5Z5T0gAoBBftRyBTAXjSP\n",
       "ssAAHhd3P/twG2CFy0SiCW7zIgtiRTB6eL41KxQTJ2/C95af8UMQbV0XekUJB1UIKGRaNBYnes2j\n",
       "rKXPzYtg/wEwxYFIzoJNCIP0PCjTI0BMCUaPXF72buYCbW35utUup1DXjR7mQCTXoDwr15YfZcIg\n",
       "3CbSOGTnDCAg12IzMSeYPGqXcAT0Aewk5eoPb2kgAh0cv/R0tBoWtssucm73ydR9qEJAoVyE76Ab\n",
       "CGHwkazWvykzWjnpPYEdnxq7QznBs6exJcq+Hexqq9aJTzQQpLOHnGiLPl+ZkqH3DKozwS8qBBTK\n",
       "TbiRqwav8aMrAMrgyZbQb8IL2L9LXCa8PBkXORBLgsnjbYT57gqkg212Fer3aiBIl6k7e8HtmFJf\n",
       "waTcQ7x8Vk7yERUCCql8dtgK1sn+i0KuSSG8CwzcEwXx5DW4hdd5DoSFIXzuNjgQ84LJw6sEi5c9\n",
       "s7HxO4I4ktJAkG7bbM8YvDm49a83oS+s2YxM9scqBBTs8adO9YuED+D7EpSsYZCXxKAyoGUm/XHa\n",
       "JmAPu9nhDPN2dpTTycd254X9nraH3ao4RZGJ9HLHUbxc9b72YSsInOq/Hc3dReI2PylPJomKdCJB\n",
       "EIHIRevpatgZxzS9W2CPHUPcjq3siZVHrlYU29o3EC6x0iWrU3juGgS7CEfCywFns5H7EfAm4S9J\n",
       "Q3EYC09yCoQV7epwtl6zNL04N0ZAfMsdAJV9eOiklR2vwjSuX/r+CngdINILy88QCOcQTFadA3Q5\n",
       "BJ9e3t6AXwEmm858GNJ15XRdPnjnLJbs4Whjh+eNF3do+mn+e8IzfSZOS9Y97Oc2bpq/7LCccu3v\n",
       "FOFQwBGuH3JHldOo7hk9l2eB1a/zIGzTx8C65G6foE/oxTjxSLNdyUoa97cWPM6QfiXEp6xY8f6I\n",
       "4j2zPXHvwThvaTBSFv4H9C8GUC3eXXISRAAAAABJRU5ErkJggg==\n",
       "\" style=\"display:inline;vertical-align:middle;\" /></a></span></td></tr>\n",
       "<tr><td>&nbsp;</td><td colspan=4 style-\"text-align:left\"><a class=\"ProveItLink\" href=\"../../../../core_expr_types/tuples/_axioms_.ipynb#tuple_len_incr\">proveit.core_expr_types.tuples.tuple_len_incr</a></td></tr><tr><td><a name=\"-0x1d248437a20f9249_step6\">6</a></td><td>theorem</td><td></td><td><span style=\"font-size:20px;\"> <a class=\"ProveItLink\" href=\"nat3.ipynb\" style=\"text-decoration: none\">&#x22A2;&nbsp;</a><a class=\"ProveItLink\" href=\"../__pv_it/50582e77b44143d030866c114bc78777ccc0f16b0/expr.ipynb\"><img src=\"data:image/png;base64,iVBORw0KGgoAAAANSUhEUgAAADMAAAAQBAMAAABJt1qBAAAAMFBMVEX///9UVFTMzMwiIiIQEBAy\n",
       "MjKIiIiqqqqYmJju7u66urpERERmZmZ2dnbc3NwAAAAvvFLTAAAAAXRSTlMAQObYZgAAAAlwSFlz\n",
       "AAAOxAAADsQBlSsOGwAAAOtJREFUGNNjYMAAk39vncBw5csCBoa3d3ahyW3nEmDg/MnAwHmAob8A\n",
       "VUr4wQ0GBgcGBrbvDPMDUKXEN7A+YDBgYODyYuCHSLFtNjYFM+Ta+AJAUkBQ3wAiucImQHXJMSrk\n",
       "QqS4LMACT2EyDHIMG7gXgKSYEoXAAnEMCCkdTkuogWAXBiBJcRRUO4CZLD9Bmp2NjY2toVIMkoxA\n",
       "KSYFBu7vQD7nBiRdDBM5gQbO/wmRgroWKsWUAFTJIgAxkCENLrUJiJOAUhwNUH+xwoPLHIh5QK5a\n",
       "cwYSvJzSKyEyyl+AOjhRAo/rNjSgoAAAKcY0AF+vrAYAAAAASUVORK5CYII=\n",
       "\" style=\"display:inline;vertical-align:middle;\" /></a></span></td></tr>\n",
       "<tr><td>&nbsp;</td><td colspan=4 style-\"text-align:left\"><a class=\"ProveItLink\" href=\"nat3.ipynb\">proveit.number.numeral.deci.nat3</a></td></tr><tr><td><a name=\"-0x1d248437a20f9249_step7\">7</a></td><td>instantiation</td><td><a href=\"#-0x1d248437a20f9249_step8\">8</a></td><td><span style=\"font-size:20px;\"> <a class=\"ProveItLink\" href=\"../__pv_it/6a338d0cf5ba9a6c75bfc2f303637e3760c5ee9b0/proof.ipynb\" style=\"text-decoration: none\">&#x22A2;&nbsp;</a><a class=\"ProveItLink\" href=\"../__pv_it/c16e4aa9cc526695945264c5c2352a2bc6f8bf510/expr.ipynb\"><img src=\"data:image/png;base64,iVBORw0KGgoAAAANSUhEUgAAAM8AAAAVBAMAAAATCqclAAAAMFBMVEX///9UVFREREQiIiIQEBCY\n",
       "mJhmZmYyMjLu7u6qqqrMzMyIiIi6urp2dnbc3NwAAABm9RoHAAAAAXRSTlMAQObYZgAAAAlwSFlz\n",
       "AAAOxAAADsQBlSsOGwAAAntJREFUSMedlb9rFEEUx7/Z293M/b7aNFuksBA8CIoEDEdAsBBZFM5O\n",
       "FySKpHAtBMFmA4KFxR3YWOn9BXHtNCFwhdhYJCLYJMJh0EaEgEXuQMGZ2Z3Z2SzvDnzFY36873xm\n",
       "3s6bxQjCGqBsZPjCMC3T1lD+QDbekYEfpT84OTxLpq0WC18fJorynjHFFttGr9qnQUJWuUBDfn05\n",
       "k25GgZ7m5ucDs/eIBnHZxt0xyWEBbvUxHxmgtVxAs2/2ujRIyKo0qDpBL4QTGKBOLmA3Mnt2RII6\n",
       "00G1K2iGwOUMVAtzAZ/zifQpkJRNAXF7xcUPM5Ar7sKP/Z/p7IPte2lrf2eAeosCSdlUUO0cd58y\n",
       "kNh07SrOJiljx1EvKZPDvuvBCRXIXZLWUiB51mmgyptT3N/IQCX+9Z/4uJ1Ml8doysuPi7BjlNvU\n",
       "iYRsVup4yPMMZA+B+xFfV5oboifrypVrVI4okJDNANl89nUetAr2R5fRrrzgtifz3PlfUGUAawK8\n",
       "N75RH+wvnKO0jHxxPG7JubLUFb7RjNT1xhJkpM6KwSawwpcQgOaQXQJLiBjC8agTWXEKYkWIWMhu\n",
       "ydRdy0DiBj/G9WCPHfPenG8FoqThBqgP4MYUSF58ARLB0km9bji+rKN1o2B5djZ2NhcGWOI7Yeu8\n",
       "jErirfy6/Za3RmTBctnc4u+FJLgknprzqiEWwoc7/FHFivEELSt9Wb8+L1TjkH7rlgvBKC7UaBug\n",
       "rhqt60j941ijQd1CMIoLub4BstQf9Jl+4mO1IY8GKZkOzkwvhG/m/4h56aivph3VsCIapGRO8dbp\n",
       "hXA6BW3J3neyGG5Kv3VyeJZMmyNPXR38AwJA0jlK6ymWAAAAAElFTkSuQmCC\n",
       "\" style=\"display:inline;vertical-align:middle;\" /></a></span></td></tr>\n",
       "<tr><td>&nbsp;</td><td colspan=4 style=\"text-align:left\"><span style=\"font-size:20px;\"><a class=\"ProveItLink\" href=\"../../../../__pv_it/a8d4b3a34d2189508f9082853fbac36935714f280/expr.ipynb\"><img src=\"data:image/png;base64,iVBORw0KGgoAAAANSUhEUgAAAAsAAAAJBAMAAAAWSsseAAAAMFBMVEX////MzMxUVFQyMjKqqqoi\n",
       "IiKYmJju7u5EREQQEBC6urqIiIh2dnZmZmbc3NwAAAD0tjQRAAAAAXRSTlMAQObYZgAAAAlwSFlz\n",
       "AAAOxAAADsQBlSsOGwAAAEdJREFUCNdjYOC7s28DAwPDygcc3xkY2Kcx8AYwMPB+Z2A9wMDA2cBQ\n",
       "v4CBof4AQz5QRb0DQzPLAwbmDWyxPECV2gcfbWQAABp5EMgcedARAAAAAElFTkSuQmCC\n",
       "\" style=\"display:inline;vertical-align:middle;\" /></a> : <a class=\"ProveItLink\" href=\"../../../../__pv_it/a8d4b3a34d2189508f9082853fbac36935714f280/expr.ipynb\"><img src=\"data:image/png;base64,iVBORw0KGgoAAAANSUhEUgAAAAsAAAAJBAMAAAAWSsseAAAAMFBMVEX////MzMxUVFQyMjKqqqoi\n",
       "IiKYmJju7u5EREQQEBC6urqIiIh2dnZmZmbc3NwAAAD0tjQRAAAAAXRSTlMAQObYZgAAAAlwSFlz\n",
       "AAAOxAAADsQBlSsOGwAAAEdJREFUCNdjYOC7s28DAwPDygcc3xkY2Kcx8AYwMPB+Z2A9wMDA2cBQ\n",
       "v4CBof4AQz5QRb0DQzPLAwbmDWyxPECV2gcfbWQAABp5EMgcedARAAAAAElFTkSuQmCC\n",
       "\" style=\"display:inline;vertical-align:middle;\" /></a>, <a class=\"ProveItLink\" href=\"../../../../__pv_it/53e304ff98ebc000dbe3ef224f4637dbafd46ba70/expr.ipynb\"><img src=\"data:image/png;base64,iVBORw0KGgoAAAANSUhEUgAAAAkAAAAOBAMAAAAPuiubAAAALVBMVEX///+YmJjc3NyIiIhUVFR2\n",
       "dna6urqqqqpmZmYyMjIiIiIQEBBERETu7u4AAAALjtrwAAAAAXRSTlMAQObYZgAAAAlwSFlzAAAO\n",
       "xAAADsQBlSsOGwAAAE5JREFUCNdj4D29gAEIOBtAJF8BiMy7ACKjQATDFON2BgbelxfuKTCwv2Xg\n",
       "M2DgmMBwLwCkPK+AgU+Aoe8CA18C70YGBhYBHqARvM1A5QCqGhDobJhHyAAAAABJRU5ErkJggg==\n",
       "\" style=\"display:inline;vertical-align:middle;\" /></a> : <a class=\"ProveItLink\" href=\"../../../../__pv_it/53e304ff98ebc000dbe3ef224f4637dbafd46ba70/expr.ipynb\"><img src=\"data:image/png;base64,iVBORw0KGgoAAAANSUhEUgAAAAkAAAAOBAMAAAAPuiubAAAALVBMVEX///+YmJjc3NyIiIhUVFR2\n",
       "dna6urqqqqpmZmYyMjIiIiIQEBBERETu7u4AAAALjtrwAAAAAXRSTlMAQObYZgAAAAlwSFlzAAAO\n",
       "xAAADsQBlSsOGwAAAE5JREFUCNdj4D29gAEIOBtAJF8BiMy7ACKjQATDFON2BgbelxfuKTCwv2Xg\n",
       "M2DgmMBwLwCkPK+AgU+Aoe8CA18C70YGBhYBHqARvM1A5QCqGhDobJhHyAAAAABJRU5ErkJggg==\n",
       "\" style=\"display:inline;vertical-align:middle;\" /></a>, <a class=\"ProveItLink\" href=\"../../../../__pv_it/b2b446b221a34ee579eb9a1fbdd4ac4e2891d8c70/expr.ipynb\"><img src=\"data:image/png;base64,iVBORw0KGgoAAAANSUhEUgAAAAkAAAAJBAMAAAASvxsjAAAAKlBMVEX///+6urqYmJju7u4QEBBE\n",
       "RERmZmaqqqoiIiLc3NzMzMyIiIh2dnYAAACSkFDuAAAAAXRSTlMAQObYZgAAAAlwSFlzAAAOxAAA\n",
       "DsQBlSsOGwAAADhJREFUCNdjYGA4vWcBA8OMArYABoYeBpYNDGyXGYCAJQBE2h4AkbwKDAwCDGwJ\n",
       "DDxAlWd2b2YAACirCnk+94p2AAAAAElFTkSuQmCC\n",
       "\" style=\"display:inline;vertical-align:middle;\" /></a> : <a class=\"ProveItLink\" href=\"../../../../__pv_it/b2b446b221a34ee579eb9a1fbdd4ac4e2891d8c70/expr.ipynb\"><img src=\"data:image/png;base64,iVBORw0KGgoAAAANSUhEUgAAAAkAAAAJBAMAAAASvxsjAAAAKlBMVEX///+6urqYmJju7u4QEBBE\n",
       "RERmZmaqqqoiIiLc3NzMzMyIiIh2dnYAAACSkFDuAAAAAXRSTlMAQObYZgAAAAlwSFlzAAAOxAAA\n",
       "DsQBlSsOGwAAADhJREFUCNdjYGA4vWcBA8OMArYABoYeBpYNDGyXGYCAJQBE2h4AkbwKDAwCDGwJ\n",
       "DDxAlWd2b2YAACirCnk+94p2AAAAAElFTkSuQmCC\n",
       "\" style=\"display:inline;vertical-align:middle;\" /></a></span></td></tr><tr><td><a name=\"-0x1d248437a20f9249_step8\">8</a></td><td>theorem</td><td></td><td><span style=\"font-size:20px;\"> <a class=\"ProveItLink\" href=\"tuple_len_3_typical_equiv.ipynb\" style=\"text-decoration: none\">&#x22A2;&nbsp;</a><a class=\"ProveItLink\" href=\"../__pv_it/994c7aabd3487f4604abfd1020e4613935dfdf640/expr.ipynb\"><img src=\"data:image/png;base64,iVBORw0KGgoAAAANSUhEUgAAARoAAAAWBAMAAADtKE5GAAAAMFBMVEX///+IiIgiIiIQEBB2dnbu\n",
       "7u5UVFTMzMzc3NwyMjK6urpmZmaYmJiqqqpEREQAAACk/Np2AAAAAXRSTlMAQObYZgAAAAlwSFlz\n",
       "AAAOxAAADsQBlSsOGwAAA3ZJREFUSMfFlk9o01Acx39tmqVt0jQD3TwojOHYcApDHMLwUEWmTIUc\n",
       "RBBh7UDwGhC8LkzZSUYviocpVU9DYR0MRK3YHQRlsEWZN8HKGExPKvSww8Dfey+/Jmn3WvHib/D6\n",
       "zS/fvH3y/vxeANqHi3++kDpYJP8y3RpJ8nf2xjyYICGJx7xNlJrS4rFDnWnSlu9nosbkF5l1g7rd\n",
       "CCXVzb4osJQmkwPQBuQkdy78IOIJLl4x+UDiVot+t0wEkSqHr+7Jaa4CXHlZl8KoZVj3IGX7fhS3\n",
       "2NTVJHa96nfLRBDZyLStymkqbOzkNLFdyBfBKPt+FIwsIVsUCnWrRNKLdsRkS2lG2tOkxyCLgz5K\n",
       "/lEw8K1TMvsCdbsQSZ+JXKWqMpp0sT0Nxld8eJ78KI7395+QeZeJhonk8gGx/OF+9xvfcHqfA4mC\n",
       "jEbPdaJJH8VmnPwoXgBsyczzRMPEU9cUHas7dl6UkxlPr4FRJBq9n0eBeuej1o5G67mB7Qfyo5iF\n",
       "ZKFx91HUfYxoUKinQBc7O1OHrBilw6BYkOmTjU3c6zxTaPlEfhSmHerpetQ7RjQo9DrEc2KnFSHP\n",
       "lc7/kfZTRqOUOtIoeHea/CgyVmgRn5TTKDXIl6jcLPJdqPDKkB75VxrNAXMXlwD5mSiuYHNt5Ty7\n",
       "/auHb9eD/nJ9SDQocDjW/XJThbd8j4sRCmaqZd10mKl8ndOEZwouYTFVBzX2UGwgxkrREW1E2L8R\n",
       "DYq8B98zrspoSriGVIEFJTBqsrExLZ9G3aMOs7Er8JlaIz8Tt/Fd9DIHMC22QfSa6ohHxokGRcoy\n",
       "hhOsdkJX1SxzoZch4YBuyWj43mc0zMwbdQdCV1jrWL1ZIj8TpsNeN1bgE63jj9IozU+IBoU6dW62\n",
       "F+J4BqpLWG6YgLPd+1G50uqHc9i1+XtKmONs2IdJ8NSz13hqwhD5h2gGXfMdLoWszUiyjW+ZuOPT\n",
       "xB1KfW4RM/JzarDFHEQjlezz/Un6NFDc6edwGeL2GrapEoitzA+0CRIici2iIqdZbTEHkQsfzdzf\n",
       "OJrTlY8X4aanLeWwTVZW6Fjcpu+bbVp8VrMQHwB705hukzm0ihupOfLPRR1eqBUxSTSTfsKAZmHa\n",
       "chq11mQOIkhtkT96QGXsoKUXr0IvCUm8F58qTlNaPHa385eo4fp+w90D14D/F38A9JXp0nFbK9sA\n",
       "AAAASUVORK5CYII=\n",
       "\" style=\"display:inline;vertical-align:middle;\" /></a></span></td></tr>\n",
       "<tr><td>&nbsp;</td><td colspan=4 style-\"text-align:left\"><a class=\"ProveItLink\" href=\"tuple_len_3_typical_equiv.ipynb\">proveit.number.numeral.deci.tuple_len_3_typical_equiv</a></td></tr></table>"
      ],
      "text/plain": [
       "\tstep type\trequirements\tstatement\n",
       "0\tgeneralizaton\t1\t|- forall_{a, b, c, d} (|(a, b, c, d)| = 4)\n",
       "1\tinstantiation\t2, 3, 4\t|- |(a, b, c, d)| = 4\n",
       "\tx : |(a, b, c, d)|, y : 3 + 1, z : 4\n",
       "2\taxiom\t\t|- forall_{x, y, z | x = y, y = z} (x = z)\n",
       "\tproveit.logic.equality.equalsTransitivity\n",
       "3\tinstantiation\t5, 6, 7\t|- |(a, b, c, d)| = (3 + 1)\n",
       "\ti : 3, a : (a, b, c), b : d\n",
       "4\ttheorem\t\t|- (3 + 1) = 4\n",
       "\tproveit.number.numeral.deci.add_3_1\n",
       "5\taxiom\t\t|- forall_{i in Naturals} [forall_{a_{1}, ..a_{_a}.., a_{i}, b} (|(a_{1}, ..a_{_a}.., a_{i}, b)| = (i + 1))]\n",
       "\tproveit.core_expr_types.tuples.tuple_len_incr\n",
       "6\ttheorem\t\t|- 3 in Naturals\n",
       "\tproveit.number.numeral.deci.nat3\n",
       "7\tinstantiation\t8\t|- |(a, b, c)| = |(1, ..k.., 3)|\n",
       "\ta : a, b : b, c : c\n",
       "8\ttheorem\t\t|- forall_{a, b, c} (|(a, b, c)| = |(1, ..k.., 3)|)\n",
       "\tproveit.number.numeral.deci.tuple_len_3_typical_equiv"
      ]
     },
     "execution_count": 6,
     "metadata": {},
     "output_type": "execute_result"
    }
   ],
   "source": [
    "%qed"
   ]
  }
 ],
 "metadata": {
  "kernelspec": {
   "display_name": "Python 3",
   "language": "python",
   "name": "python3"
  },
  "language_info": {
   "codemirror_mode": {
    "name": "ipython",
    "version": 3
   },
   "file_extension": ".py",
   "mimetype": "text/x-python",
   "name": "python",
   "nbconvert_exporter": "python",
   "pygments_lexer": "ipython3",
   "version": "3.7.3"
  }
 },
 "nbformat": 4,
 "nbformat_minor": 1
}
