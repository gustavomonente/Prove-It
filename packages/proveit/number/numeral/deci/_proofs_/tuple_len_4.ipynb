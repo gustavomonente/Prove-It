{
 "cells": [
  {
   "cell_type": "markdown",
   "metadata": {},
   "source": [
    "Proof of <a class=\"ProveItLink\" href=\"../../../../_context_.ipynb\">proveit</a>.<a class=\"ProveItLink\" href=\"../../../_context_.ipynb\">number</a>.<a class=\"ProveItLink\" href=\"../../_context_.ipynb\">numeral</a>.<a class=\"ProveItLink\" href=\"../_context_.ipynb\">deci</a>.<a class=\"ProveItLink\" href=\"../_theorems_.ipynb#tuple_len_4\">tuple_len_4</a> theorem\n",
    "========"
   ]
  },
  {
   "cell_type": "code",
   "execution_count": 1,
   "metadata": {},
   "outputs": [],
   "source": [
    "import proveit\n",
    "context = proveit.Context('..') # the theorem's context is in the parent directory"
   ]
  },
  {
   "cell_type": "code",
   "execution_count": 2,
   "metadata": {},
   "outputs": [
    {
     "name": "stdout",
     "output_type": "stream",
     "text": [
      "Beginning proof of tuple_len_4\n",
      "Recorded 'presuming' information\n",
      "Presuming previous theorems (applied transitively).\n"
     ]
    },
    {
     "data": {
      "text/html": [
       "<strong id=\"tuple_len_4\">tuple_len_4:</strong> <a class=\"ProveItLink\" href=\"../__pv_it/1bb2c67b806f76f130bca8f5e6cb474df7e4409d0/expr.ipynb\"><img src=\"data:image/png;base64,iVBORw0KGgoAAAANSUhEUgAAAN8AAAAWBAMAAACyMFRjAAAAMFBMVEX///8QEBCIiIhmZma6urrM\n",
       "zMxUVFQiIiJERETc3Nzu7u6qqqp2dnaYmJgyMjIAAAAcRTyBAAAAAXRSTlMAQObYZgAAAw9JREFU\n",
       "SMe1Vk1oE0EUfkm6JtndJAUF60FIW9OTh6AoHtRWPHgS24ugIC5RT/4QxB+0HqJe2oO6INhehKkF\n",
       "lV6yKB682GALgqKEetAKSkAUbKGWomJ/FN+bmWx3m9mmPfgOsy/f9+Z9mTdvZxZghXYYVmerjfdb\n",
       "vAyj3Lm7guCnfBwNoirkfKyT46FMoBe84HpFpHY1u8ZWC2pZIOoV+RN1BL/JBEnbi35WhaYcvaIW\n",
       "jFpAVD9VrLC8XiIrE7z1wfOq2AMMnqsFmy0gKskATGd5wagtE1zyog1zqtgXAANKwfgni1OJl0ND\n",
       "fXUq2icTxPNe1MyrYrHOyQ6VoJm0BPW7p+dKHcFWmSCMpYXbI82Mo8lcq6yM2ZKRq9iZwTqbWZXg\n",
       "OAkSdQKg163SlC+mvVM8b8gEsTKGbIDvAi1O6LNCphtuCmiPHcM6JypVwTdTZLy59DQJErUXRFtx\n",
       "G/EJFuWzWyaI4ooGyrBDoMMMZsQWl+Akd/SNEMFcRl6xQhNIkKgohMsuPOkLeiaf62SCEO5AO4Oz\n",
       "At0N+oIoBJNxkTkSB21aIfiECxJllqOL8KwvaEQh2AT6z2p7NIgXo6kaHypAsUMtqJdcwXjlIAKD\n",
       "bV/oMJhpY7wJ0gS1TNaWFBdlTAv0D62Ici24W1CCYeqEvH8Pv6JnHNvavjYtqN7jOOm8RpPDl3kj\n",
       "ntMaXWhJ0+jzsKYiTssftJ9CGQwh6MAZw/Y0jc9CsmngMapGshppx9KERArQyaFGT2kpATX1NXhn\n",
       "lfS/+Os0XAfubAd9G3dw+gUTZ5bUggVJpbB+ISds8U2KWPSD8wIi2ycTUEHutxzKdcBFrPzgZlwg\n",
       "OebrMeHoucydTfiCdipf/Fu/yoJKYGjRjn3AR4qRWIof0RJSH20GC3QAHgReT4Liy7GP7od+FmXv\n",
       "ccTzJ9vPEDoSeHibwQ4EHd4uxY+Y3KNd0OVop0o4xreMsS6HQ9J6ZYJY9Xq6B4EOBF1PLrVoTs0Y\n",
       "dAG7R0WtI/+VUjDmu0/BsJeOnk+MzIo/Mcb5mAmmFu/ZmvE/2D+0jPhKnqlCwwAAAABJRU5ErkJg\n",
       "gg==\n",
       "\" style=\"display:inline;vertical-align:middle;\" /></a><br>(see <a class=\"ProveItLink\" href=\"../__pv_it/1bb2c67b806f76f130bca8f5e6cb474df7e4409d0/dependencies.ipynb\">dependencies</a>)<br>"
      ],
      "text/plain": [
       "tuple_len_4: forall_{a, b, c, d} (|(a, b, c, d)| = 4)"
      ]
     },
     "execution_count": 2,
     "metadata": {},
     "output_type": "execute_result"
    }
   ],
   "source": [
    "%proving tuple_len_4 presuming []"
   ]
  },
  {
   "cell_type": "code",
   "execution_count": null,
   "metadata": {},
   "outputs": [],
   "source": []
  }
 ],
 "metadata": {
  "kernelspec": {
   "display_name": "Python 3",
   "language": "python",
   "name": "python3"
  }
 },
 "nbformat": 4,
 "nbformat_minor": 0
}
