{
 "cells": [
  {
   "cell_type": "markdown",
   "metadata": {},
   "source": [
    "Proof of <a class=\"ProveItLink\" href=\"../../../../_context_.ipynb\">proveit</a>.<a class=\"ProveItLink\" href=\"../../../_context_.ipynb\">number</a>.<a class=\"ProveItLink\" href=\"../../_context_.ipynb\">numeral</a>.<a class=\"ProveItLink\" href=\"../_context_.ipynb\">decimal</a>.<a class=\"ProveItLink\" href=\"../_theorems_.ipynb#add_1_4\">add_1_4</a> theorem\n",
    "========"
   ]
  },
  {
   "cell_type": "code",
   "execution_count": 1,
   "metadata": {},
   "outputs": [],
   "source": [
    "import proveit\n",
    "context = proveit.Context('..') # the theorem's context is in the parent directory"
   ]
  },
  {
   "cell_type": "code",
   "execution_count": 2,
   "metadata": {},
   "outputs": [
    {
     "name": "stdout",
     "output_type": "stream",
     "text": [
      "Beginning proof of add_1_4\n",
      "Recorded 'presuming' information\n",
      "Presuming previous theorems (applied transitively).\n"
     ]
    },
    {
     "data": {
      "text/html": [
       "<strong id=\"add_1_4\">add_1_4:</strong> <a class=\"ProveItLink\" href=\"../__pv_it/8824098bf626b6bc3206179dc3fe3fa6b23d18080/expr.ipynb\"><img src=\"data:image/png;base64,iVBORw0KGgoAAAANSUhEUgAAAGEAAAAUBAMAAABvx07iAAAAMFBMVEX////MzMxUVFR2dna6uroQ\n",
       "EBCqqqqIiIgiIiJmZmYyMjJERETu7u6YmJjc3NwAAACgK8IjAAAAAXRSTlMAQObYZgAAATlJREFU\n",
       "KM9jYOC7wIAd5OEQZziNVZRxAgPTA3RBrjuM04DUOiBOPYAuyaHAwLMAXZD1/38DBgbeCQw8yvow\n",
       "HekwyVIFBgZzDDuM6kCGgey+j66D7xZQx1F0HUxg8gUDNh3MXEAdXA5YdVRi1XEPpIN5ArqOu5UC\n",
       "DAx7sengKQDp4AV7nXkVGIB0cx/g+8LA0IZNBzMDSAdbA2ao72BgCEHosFq1qnXVqkVAViJYB+MH\n",
       "TB3zHyDrgNvBY4BdhxYDg70DVlexac6cH1nAwNKA5A+gCQxRQDsOYPc5MHrhPkcCQN93MTBYgpj1\n",
       "mDo2MDBwGqDpeMnAG8fA4AFkTYpfeQEtBvd/usDAJYCmg2+y5gFoKoGDdGTOCeyJnRclYs8gc8xx\n",
       "5I99uDIOZmrHm6NAaeIBDgmcufYedmEA52NapidlyfQAAAAASUVORK5CYII=\n",
       "\" style=\"display:inline;vertical-align:middle;\" /></a><br>(see <a class=\"ProveItLink\" href=\"../__pv_it/8824098bf626b6bc3206179dc3fe3fa6b23d18080/dependencies.ipynb\">dependencies</a>)<br>"
      ],
      "text/plain": [
       "add_1_4: (1 + 4) = 5"
      ]
     },
     "execution_count": 2,
     "metadata": {},
     "output_type": "execute_result"
    }
   ],
   "source": [
    "%proving add_1_4 presuming []"
   ]
  },
  {
   "cell_type": "code",
   "execution_count": null,
   "metadata": {},
   "outputs": [],
   "source": []
  }
 ],
 "metadata": {
  "kernelspec": {
   "display_name": "Python 3",
   "language": "python",
   "name": "python3"
  }
 },
 "nbformat": 4,
 "nbformat_minor": 0
}
