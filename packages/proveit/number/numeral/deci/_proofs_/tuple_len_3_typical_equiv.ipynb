{
 "cells": [
  {
   "cell_type": "markdown",
   "metadata": {},
   "source": [
    "Proof of <a class=\"ProveItLink\" href=\"../../../../_context_.ipynb\">proveit</a>.<a class=\"ProveItLink\" href=\"../../../_context_.ipynb\">number</a>.<a class=\"ProveItLink\" href=\"../../_context_.ipynb\">numeral</a>.<a class=\"ProveItLink\" href=\"../_context_.ipynb\">deci</a>.<a class=\"ProveItLink\" href=\"../_theorems_.ipynb#tuple_len_3_typical_equiv\">tuple_len_3_typical_equiv</a> theorem\n",
    "========"
   ]
  },
  {
   "cell_type": "code",
   "execution_count": 1,
   "metadata": {},
   "outputs": [],
   "source": [
    "import proveit\n",
    "context = proveit.Context('..') # the theorem's context is in the parent directory"
   ]
  },
  {
   "cell_type": "code",
   "execution_count": 2,
   "metadata": {},
   "outputs": [
    {
     "name": "stdout",
     "output_type": "stream",
     "text": [
      "Beginning proof of tuple_len_3_typical_equiv\n",
      "Recorded 'presuming' information\n",
      "Presuming previous theorems (applied transitively).\n"
     ]
    },
    {
     "data": {
      "text/html": [
       "<strong id=\"tuple_len_3_typical_equiv\">tuple_len_3_typical_equiv:</strong> <a class=\"ProveItLink\" href=\"../__pv_it/004d8abff704a924366d24128ec8eee41b9eeaa60/expr.ipynb\"><img src=\"data:image/png;base64,iVBORw0KGgoAAAANSUhEUgAAARoAAAAWBAMAAADtKE5GAAAAMFBMVEX///8QEBCIiIhmZma6urrM\n",
       "zMxUVFQiIiJERETc3Nzu7u6qqqp2dnaYmJgyMjIAAAAcRTyBAAAAAXRSTlMAQObYZgAAA01JREFU\n",
       "SMfFVj1oFEEUfneby/7c7m2KVIJwRpN6iZ0meJIileRsLGwSgxaCyBUaMFpEsMghwlYmhcJJQEMK\n",
       "b9FCtMlhggGNsGijQmQLI0QhBCu9QPDN7L673b3M7amFr5j75t03b76deTPzAJLsLHRimcpfDfsz\n",
       "vurCKgGBPeetXoi5/WH3k6fI2gGfAY/BDRF1kcIuhpzazVKo122L1Wgz7ZXcW78NcJH4CN4w+E1E\n",
       "3yI1W2Fvzgpr88Rqcqg0e0C88hYsu/CY+AjmmVf0CYYVhDXC84PphHsvxWreAzx8VReqSe+CWQI9\n",
       "H/AR5DD9dEdAl+0grGyH3WORlH0gVnONfYhYTVcvmB5oPQEfgfF6aWlORJ+jsFHGWqSXK4jUqKX2\n",
       "atBwp+AL8RH8nJ29IeIeJjUMqEODQQp87TtOu9RXBN0SqUlbSWo0NvUK8RFcACg3lm47Sr5Dahg4\n",
       "aed2/BB7laq/c3OO4oHhkRp9m5tF0RU3QY26dgzbz8RHMBKcCm4rUfZ1UoNAOwiSn+3ZOpg88+AG\n",
       "dDuQLYnWRnYSd+oQjntGfAQypJs32/cot5fUIJDqIPsaJA+qNQ74RJkdkZpUIVFNCjd/nPgIdFdu\n",
       "/vlLrCY1A9UiXTdj/BSmZv5NjWqDshtVo3pnECwMbLLAPwbY4dX78q07hcuxHFw3LpzgZ9xfoa5S\n",
       "LG8mOt0ps87VjBKfgfJ5TIqrGTYoPc2PwZVMT2sWVx247L8pZgFzKJAFTiiL42uTlMW4tnI9msXw\n",
       "FL9NsjLsC5U8C43JWmwm9WoA8L8pHar4f7erWBxIE7BQBKkmUsPPfhrnY2TeaHsQ6hkuv2+GiM8A\n",
       "Ox8pJz3BNxonwA6FHCU1CLTJ/rtHQJ5GNPgWOID1DRybK4rUsD2Uzu0N+2SZzTBFgLtGjt7CdpP4\n",
       "DBiYA1Vb+YQ/ZoUpMe02L8OLFvCo/csQJTet4dJK9DJQaZCyx0/BfEWufMAWr3pL+GrWWkD7VzNG\n",
       "blrDFX41g0t48skwnHYyl2rYqoPv6FksU0VB17WWbwFtKgrFjpFDb0LDFa4owuaEWkG1ZUAcKB1U\n",
       "W8Y+xUoDlYlf3qcmzNrRSrQ/oRL96JcqxZi7v9NK1LADvmHvI9eA/2e/AQA2FjDT8yibAAAAAElF\n",
       "TkSuQmCC\n",
       "\" style=\"display:inline;vertical-align:middle;\" /></a><br>(see <a class=\"ProveItLink\" href=\"../__pv_it/004d8abff704a924366d24128ec8eee41b9eeaa60/dependencies.ipynb\">dependencies</a>)<br>"
      ],
      "text/plain": [
       "tuple_len_3_typical_equiv: forall_{a, b, c} (|(a, b, c)| = |(1, ..k.., 3)|)"
      ]
     },
     "execution_count": 2,
     "metadata": {},
     "output_type": "execute_result"
    }
   ],
   "source": [
    "%proving tuple_len_3_typical_equiv presuming []"
   ]
  },
  {
   "cell_type": "code",
   "execution_count": null,
   "metadata": {},
   "outputs": [],
   "source": []
  }
 ],
 "metadata": {
  "kernelspec": {
   "display_name": "Python 3",
   "language": "python",
   "name": "python3"
  }
 },
 "nbformat": 4,
 "nbformat_minor": 0
}
