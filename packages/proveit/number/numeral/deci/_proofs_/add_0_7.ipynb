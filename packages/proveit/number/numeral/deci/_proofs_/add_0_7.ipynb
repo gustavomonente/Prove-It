{
 "cells": [
  {
   "cell_type": "markdown",
   "metadata": {},
   "source": [
    "Proof of <a class=\"ProveItLink\" href=\"../../../../_context_.ipynb\">proveit</a>.<a class=\"ProveItLink\" href=\"../../../_context_.ipynb\">number</a>.<a class=\"ProveItLink\" href=\"../../_context_.ipynb\">numeral</a>.<a class=\"ProveItLink\" href=\"../_context_.ipynb\">decimal</a>.<a class=\"ProveItLink\" href=\"../_theorems_.ipynb#add_0_7\">add_0_7</a> theorem\n",
    "========"
   ]
  },
  {
   "cell_type": "code",
   "execution_count": 1,
   "metadata": {},
   "outputs": [],
   "source": [
    "import proveit\n",
    "context = proveit.Context('..') # the theorem's context is in the parent directory"
   ]
  },
  {
   "cell_type": "code",
   "execution_count": 2,
   "metadata": {},
   "outputs": [
    {
     "name": "stdout",
     "output_type": "stream",
     "text": [
      "Beginning proof of add_0_7\n",
      "Recorded 'presuming' information\n",
      "Presuming previous theorems (applied transitively).\n"
     ]
    },
    {
     "data": {
      "text/html": [
       "<strong id=\"add_0_7\">add_0_7:</strong> <a class=\"ProveItLink\" href=\"../__pv_it/fbcf61f6a4691cba321b0816287014d2902be5fd0/expr.ipynb\"><img src=\"data:image/png;base64,iVBORw0KGgoAAAANSUhEUgAAAGIAAAAUBAMAAACE8PXhAAAAMFBMVEX///9UVFTMzMx2dna6uroQ\n",
       "EBCqqqqIiIgiIiJmZmYyMjJERETu7u6YmJjc3NwAAAC+aOQFAAAAAXRSTlMAQObYZgAAAUhJREFU\n",
       "KM91kzFLxDAUx//XllqvVy1ubje6WbzhUBAcHR3uA7jdpm7iINyicz6B6OLQQe4L6CIHBwr6CbTL\n",
       "gZsHgi5CfXmVXvPaBJKSX/pL8pI8YOUVzeXIwvEEuOdbJttY7/WSViZ/ZQzcAbeYmqPveZ7HnWtp\n",
       "MEakEB3A/R8dFp8roAX0pVHgIEMYw/81DFqa9jmRRoE/gNUY3rdhAN4J0N6rBa3xGfCi4P0II6Tq\n",
       "qpqh8T3wmcCRxi7ViINzUy6qxJdkKDhfptGZU+OP5BKMB4td7aTpRZre6KElPb0zlwbjAUfui8iD\n",
       "caPBmHYVjhGZp6snoYMZVeKIS0yR128Qm6qMvFoYb/M6k65pHNNlYTmRBuN9qo+nazCN2SE17a40\n",
       "GAfGGxxWO9Pmxx4ZF/tc7fQt+fFgS5z6a19kVHMJM8uANWvfmvEf+8tYWMTM9P4AAAAASUVORK5C\n",
       "YII=\n",
       "\" style=\"display:inline;vertical-align:middle;\" /></a><br>(see <a class=\"ProveItLink\" href=\"../__pv_it/fbcf61f6a4691cba321b0816287014d2902be5fd0/dependencies.ipynb\">dependencies</a>)<br>"
      ],
      "text/plain": [
       "add_0_7: (0 + 7) = 7"
      ]
     },
     "execution_count": 2,
     "metadata": {},
     "output_type": "execute_result"
    }
   ],
   "source": [
    "%proving add_0_7 presuming []"
   ]
  },
  {
   "cell_type": "code",
   "execution_count": null,
   "metadata": {},
   "outputs": [],
   "source": []
  }
 ],
 "metadata": {
  "kernelspec": {
   "display_name": "Python 3",
   "language": "python",
   "name": "python3"
  }
 },
 "nbformat": 4,
 "nbformat_minor": 0
}
