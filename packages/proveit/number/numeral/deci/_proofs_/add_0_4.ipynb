{
 "cells": [
  {
   "cell_type": "markdown",
   "metadata": {},
   "source": [
    "Proof of <a class=\"ProveItLink\" href=\"../../../../_context_.ipynb\">proveit</a>.<a class=\"ProveItLink\" href=\"../../../_context_.ipynb\">number</a>.<a class=\"ProveItLink\" href=\"../../_context_.ipynb\">numeral</a>.<a class=\"ProveItLink\" href=\"../_context_.ipynb\">decimal</a>.<a class=\"ProveItLink\" href=\"../_theorems_.ipynb#add_0_4\">add_0_4</a> theorem\n",
    "========"
   ]
  },
  {
   "cell_type": "code",
   "execution_count": 1,
   "metadata": {},
   "outputs": [],
   "source": [
    "import proveit\n",
    "context = proveit.Context('..') # the theorem's context is in the parent directory"
   ]
  },
  {
   "cell_type": "code",
   "execution_count": 2,
   "metadata": {},
   "outputs": [
    {
     "name": "stdout",
     "output_type": "stream",
     "text": [
      "Beginning proof of add_0_4\n",
      "Recorded 'presuming' information\n",
      "Presuming previous theorems (applied transitively).\n"
     ]
    },
    {
     "data": {
      "text/html": [
       "<strong id=\"add_0_4\">add_0_4:</strong> <a class=\"ProveItLink\" href=\"../__pv_it/85ab4d9afdd6a905f32d9e8557d433f5a676bb440/expr.ipynb\"><img src=\"data:image/png;base64,iVBORw0KGgoAAAANSUhEUgAAAGEAAAAUBAMAAABvx07iAAAAMFBMVEX///9UVFTMzMx2dna6uroQ\n",
       "EBCqqqqIiIgiIiJmZmYyMjJERETu7u6YmJjc3NwAAAC+aOQFAAAAAXRSTlMAQObYZgAAAT9JREFU\n",
       "KM91k69Pw0AYhl96pSn9MRocbn9Cg1lAIZEIDHZmjswQgiCZAX0WBRjECbJ/ABBkyRJImEYslbhB\n",
       "SMAg+O6ylt6vz7R93j7pff3ugM4M7jrycDwD7GzLpAHHSmW/TBi4A24xNdO4QHZtG4SRc+T7YMt0\n",
       "UEfHFPVsQ+K4Qlog+tWNzhtFE0tQ+B1YLxB+6wZLKEp2TUPhU+CVI/zRjbmMGDcNhe+BRYlAN7Kh\n",
       "jHLVHBOqeIMvyOAIvjSDQUbRyFyUwgf/q9oR4lyIG7rrqyj4MIx+bVDnkdZ5VjqNJaZVpWPk2t+N\n",
       "Ni+vDocIR60+igZT564JrjadayXxNuR3Jl3TGANrpW0Q3qPr08kGjAk+fs6QdK0JShxre3DQfpi6\n",
       "N3uuDfal/dDznI8H38Fx7fb6RLkrrTyB99TO3fgPDYRVeusuuusAAAAASUVORK5CYII=\n",
       "\" style=\"display:inline;vertical-align:middle;\" /></a><br>(see <a class=\"ProveItLink\" href=\"../__pv_it/85ab4d9afdd6a905f32d9e8557d433f5a676bb440/dependencies.ipynb\">dependencies</a>)<br>"
      ],
      "text/plain": [
       "add_0_4: (0 + 4) = 4"
      ]
     },
     "execution_count": 2,
     "metadata": {},
     "output_type": "execute_result"
    }
   ],
   "source": [
    "%proving add_0_4 presuming []"
   ]
  },
  {
   "cell_type": "code",
   "execution_count": null,
   "metadata": {},
   "outputs": [],
   "source": []
  }
 ],
 "metadata": {
  "kernelspec": {
   "display_name": "Python 3",
   "language": "python",
   "name": "python3"
  }
 },
 "nbformat": 4,
 "nbformat_minor": 0
}
