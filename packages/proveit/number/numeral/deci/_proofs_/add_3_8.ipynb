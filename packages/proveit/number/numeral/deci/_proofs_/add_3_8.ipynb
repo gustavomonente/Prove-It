{
 "cells": [
  {
   "cell_type": "markdown",
   "metadata": {},
   "source": [
    "Proof of <a class=\"ProveItLink\" href=\"../../../../_context_.ipynb\">proveit</a>.<a class=\"ProveItLink\" href=\"../../../_context_.ipynb\">number</a>.<a class=\"ProveItLink\" href=\"../../_context_.ipynb\">numeral</a>.<a class=\"ProveItLink\" href=\"../_context_.ipynb\">decimal</a>.<a class=\"ProveItLink\" href=\"../_theorems_.ipynb#add_3_8\">add_3_8</a> theorem\n",
    "========"
   ]
  },
  {
   "cell_type": "code",
   "execution_count": 1,
   "metadata": {},
   "outputs": [],
   "source": [
    "import proveit\n",
    "context = proveit.Context('..') # the theorem's context is in the parent directory"
   ]
  },
  {
   "cell_type": "code",
   "execution_count": 2,
   "metadata": {},
   "outputs": [
    {
     "name": "stdout",
     "output_type": "stream",
     "text": [
      "Beginning proof of add_3_8\n",
      "Recorded 'presuming' information\n",
      "Presuming previous theorems (applied transitively).\n"
     ]
    },
    {
     "data": {
      "text/html": [
       "<strong id=\"add_3_8\">add_3_8:</strong> <a class=\"ProveItLink\" href=\"../__pv_it/a81a470f138b0d793e2eb33d280dc2628583c8860/expr.ipynb\"><img src=\"data:image/png;base64,iVBORw0KGgoAAAANSUhEUgAAAGsAAAAUBAMAAAB45d4rAAAAMFBMVEX////MzMxUVFR2dna6uroQ\n",
       "EBCqqqqIiIgiIiJmZmYyMjJERETu7u6YmJjc3NwAAACgK8IjAAAAAXRSTlMAQObYZgAAAVNJREFU\n",
       "OMtjYOC7wIAdsD1gwANOMzA8Nt6GJni8eAoDgx4+besY+CYw5KNZOYGBKYHhFKbi1ANQgncCA/s3\n",
       "Bv4GiHA61H0XGHgWMDAXoGniUdY/ACEYOB4wsIQw8C9A0ca8gYGngYEnAMO2+wegxAswF+ZIqDaW\n",
       "3weYgSJLcGurBNvezICijUH/rxmQtMStbS+Q5rOYg6aN+f8aIHkLzFwFBhNQtbWBuaUOqNoyPb4C\n",
       "RTJw2xYC5rLGAAmrVataV61aBGTxKjDUA0Xk8Wrje8DA/Q3FNtYDDIzf8GoDOpL/D7q280Csy8Dg\n",
       "geQ3BYwgYd3AwPEH1TZgctwHDRLstgEDmfcCRrytYeAFJpHJGNrqD0AJkEM8Z25BiwChycCkzLAQ\n",
       "Xdek+JUXIAQHSvZIR0mCDbgzAO8EZN4ZZA5GUkYG+3DKnCKQTUk2EJQgcRUKvHgKBQCGp3tEryDp\n",
       "UAAAAABJRU5ErkJggg==\n",
       "\" style=\"display:inline;vertical-align:middle;\" /></a><br>(see <a class=\"ProveItLink\" href=\"../__pv_it/a81a470f138b0d793e2eb33d280dc2628583c8860/dependencies.ipynb\">dependencies</a>)<br>"
      ],
      "text/plain": [
       "add_3_8: (3 + 8) = 11"
      ]
     },
     "execution_count": 2,
     "metadata": {},
     "output_type": "execute_result"
    }
   ],
   "source": [
    "%proving add_3_8 presuming []"
   ]
  },
  {
   "cell_type": "code",
   "execution_count": null,
   "metadata": {},
   "outputs": [],
   "source": []
  }
 ],
 "metadata": {
  "kernelspec": {
   "display_name": "Python 3",
   "language": "python",
   "name": "python3"
  }
 },
 "nbformat": 4,
 "nbformat_minor": 0
}
