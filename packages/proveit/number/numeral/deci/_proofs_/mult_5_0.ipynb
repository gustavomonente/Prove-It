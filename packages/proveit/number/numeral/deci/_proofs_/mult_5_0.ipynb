{
 "cells": [
  {
   "cell_type": "markdown",
   "metadata": {},
   "source": [
    "Proof of <a class=\"ProveItLink\" href=\"../../../../_context_.ipynb\">proveit</a>.<a class=\"ProveItLink\" href=\"../../../_context_.ipynb\">number</a>.<a class=\"ProveItLink\" href=\"../../_context_.ipynb\">numeral</a>.<a class=\"ProveItLink\" href=\"../_context_.ipynb\">deci</a>.<a class=\"ProveItLink\" href=\"../_theorems_.ipynb#mult_5_0\">mult_5_0</a> theorem\n",
    "========"
   ]
  },
  {
   "cell_type": "code",
   "execution_count": 1,
   "metadata": {},
   "outputs": [],
   "source": [
    "import proveit\n",
    "context = proveit.Context('..') # the theorem's context is in the parent directory"
   ]
  },
  {
   "cell_type": "code",
   "execution_count": 2,
   "metadata": {},
   "outputs": [
    {
     "name": "stdout",
     "output_type": "stream",
     "text": [
      "Beginning proof of mult_5_0\n",
      "Recorded 'presuming' information\n",
      "Presuming previous theorems (applied transitively).\n"
     ]
    },
    {
     "data": {
      "text/html": [
       "<strong id=\"mult_5_0\">mult_5_0:</strong> <a class=\"ProveItLink\" href=\"../__pv_it/8533d0c662c0faa29777d264f6b6ce4a17ef556f0/expr.ipynb\"><img src=\"data:image/png;base64,iVBORw0KGgoAAAANSUhEUgAAAFcAAAAUBAMAAAAKKrydAAAAMFBMVEX///9UVFTMzMx2dna6uroQ\n",
       "EBCqqqqIiIgiIiJmZmYyMjJERETu7u6YmJjc3NwAAAC+aOQFAAAAAXRSTlMAQObYZgAAAUFJREFU\n",
       "KM91k79Lw0AUx7+1KkmalG5Oha5OrVOwk6ObIO7eX2Dr2C2TowRnhxMnBQVnf5BFEBwUpHTTjDpp\n",
       "0UUo6ksuyZm7yxvC3YfPvbyXewGaj9BiBxVxD5xFy6zY+08d1GJNSzBwDmz/fhbQYe4+XK66KYYX\n",
       "AsdLMtMY6FMeVRbYIq/1j14Agwi3qizwK8ryFNhgcNYUWeARrdqTgxy630SHqIdlN8PXtLzCe56p\n",
       "Sa12h/DSDvunSZxIvJc6jSA5nlBK0e1hMShnzvBWurF/6PHAi/fNfRjLILnGUf8iYrVEJwOmyRmm\n",
       "MhY47FlOL4GXCPOBrPlIYmrQpqS8/PU9bryUVao+xLi4Qou5m3S+p8gCr9PqbeVQtuLv0sQ4HUUW\n",
       "2IpNo3hnnlAvNFG/Yp5vDEwfUTn8WjTiCtn0Wz2b1T+wvV3d3/ljowAAAABJRU5ErkJggg==\n",
       "\" style=\"display:inline;vertical-align:middle;\" /></a><br>(see <a class=\"ProveItLink\" href=\"../__pv_it/8533d0c662c0faa29777d264f6b6ce4a17ef556f0/dependencies.ipynb\">dependencies</a>)<br>"
      ],
      "text/plain": [
       "mult_5_0: (5 * 0) = 0"
      ]
     },
     "execution_count": 2,
     "metadata": {},
     "output_type": "execute_result"
    }
   ],
   "source": [
    "%proving mult_5_0 presuming []"
   ]
  },
  {
   "cell_type": "code",
   "execution_count": null,
   "metadata": {},
   "outputs": [],
   "source": []
  }
 ],
 "metadata": {
  "kernelspec": {
   "display_name": "Python 3",
   "language": "python",
   "name": "python3"
  }
 },
 "nbformat": 4,
 "nbformat_minor": 0
}
