{
 "cells": [
  {
   "cell_type": "markdown",
   "metadata": {},
   "source": [
    "Proof of <a class=\"ProveItLink\" href=\"../../../../_context_.ipynb\">proveit</a>.<a class=\"ProveItLink\" href=\"../../../_context_.ipynb\">number</a>.<a class=\"ProveItLink\" href=\"../../_context_.ipynb\">numeral</a>.<a class=\"ProveItLink\" href=\"../_context_.ipynb\">decimal</a>.<a class=\"ProveItLink\" href=\"../_theorems_.ipynb#nat9\">nat9</a> theorem\n",
    "========"
   ]
  },
  {
   "cell_type": "code",
   "execution_count": 1,
   "metadata": {},
   "outputs": [],
   "source": [
    "import proveit\n",
    "context = proveit.Context('..') # the theorem's context is in the parent directory"
   ]
  },
  {
   "cell_type": "code",
   "execution_count": 2,
   "metadata": {},
   "outputs": [
    {
     "name": "stdout",
     "output_type": "stream",
     "text": [
      "Beginning proof of nat9\n",
      "Recorded 'presuming' information\n",
      "Presuming previous theorems (applied transitively).\n"
     ]
    },
    {
     "data": {
      "text/html": [
       "<strong id=\"nat9\">nat9:</strong> <a class=\"ProveItLink\" href=\"../__pv_it/d64c696b680076d689067d95563da9d1415e62a10/expr.ipynb\"><img src=\"data:image/png;base64,iVBORw0KGgoAAAANSUhEUgAAADMAAAAPBAMAAAC7N+rPAAAAMFBMVEX///8iIiLMzMyqqqq6urqI\n",
       "iIhEREQyMjKYmJgQEBDc3NxUVFR2dnZmZmbu7u4AAABTw4smAAAAAXRSTlMAQObYZgAAAOxJREFU\n",
       "GNNjYHh7ZhcDCnj+Lf0Bw8mfDgx8MxhWPkCVy2DawMD3gYGBewID9wVUqY0KoQwMExgY+AsYeD6A\n",
       "RTgSBcXBjC153AoMAgwM7xMYWH+BBJhSYebu0uarA0lxAnV9AdsOt3EXc4A2SApoGvsPsADcrl0M\n",
       "RzgCgFIMqQw2n0ECCUhS3A82gaSYW3U+gayaXg4EUCm+DewTwEzuf0CCC1kXgw4TRIp9A4icgCzF\n",
       "YQBUyTGPQX8BSOAqXGoTEJ8CSrHW8VWABRgNYFLFQMxbACTO3HUAC/Bt84PIKP4E6uArQA46lmPQ\n",
       "gIICAPUzPO350OolAAAAAElFTkSuQmCC\n",
       "\" style=\"display:inline;vertical-align:middle;\" /></a><br>(see <a class=\"ProveItLink\" href=\"../__pv_it/d64c696b680076d689067d95563da9d1415e62a10/dependencies.ipynb\">dependencies</a>)<br>"
      ],
      "text/plain": [
       "nat9: 9 in Naturals"
      ]
     },
     "execution_count": 2,
     "metadata": {},
     "output_type": "execute_result"
    }
   ],
   "source": [
    "%proving nat9 presuming []"
   ]
  },
  {
   "cell_type": "code",
   "execution_count": null,
   "metadata": {},
   "outputs": [],
   "source": []
  }
 ],
 "metadata": {
  "kernelspec": {
   "display_name": "Python 3",
   "language": "python",
   "name": "python3"
  }
 },
 "nbformat": 4,
 "nbformat_minor": 0
}
