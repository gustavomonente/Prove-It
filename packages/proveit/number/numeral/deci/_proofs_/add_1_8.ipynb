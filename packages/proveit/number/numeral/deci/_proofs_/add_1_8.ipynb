{
 "cells": [
  {
   "cell_type": "markdown",
   "metadata": {},
   "source": [
    "Proof of <a class=\"ProveItLink\" href=\"../../../../_context_.ipynb\">proveit</a>.<a class=\"ProveItLink\" href=\"../../../_context_.ipynb\">number</a>.<a class=\"ProveItLink\" href=\"../../_context_.ipynb\">numeral</a>.<a class=\"ProveItLink\" href=\"../_context_.ipynb\">decimal</a>.<a class=\"ProveItLink\" href=\"../_theorems_.ipynb#add_1_8\">add_1_8</a> theorem\n",
    "========"
   ]
  },
  {
   "cell_type": "code",
   "execution_count": 1,
   "metadata": {},
   "outputs": [],
   "source": [
    "import proveit\n",
    "context = proveit.Context('..') # the theorem's context is in the parent directory"
   ]
  },
  {
   "cell_type": "code",
   "execution_count": 2,
   "metadata": {},
   "outputs": [
    {
     "name": "stdout",
     "output_type": "stream",
     "text": [
      "Beginning proof of add_1_8\n",
      "Recorded 'presuming' information\n",
      "Presuming previous theorems (applied transitively).\n"
     ]
    },
    {
     "data": {
      "text/html": [
       "<strong id=\"add_1_8\">add_1_8:</strong> <a class=\"ProveItLink\" href=\"../__pv_it/481c41755f955fff540c1f5113a3f42e5fb955ac0/expr.ipynb\"><img src=\"data:image/png;base64,iVBORw0KGgoAAAANSUhEUgAAAGEAAAAUBAMAAABvx07iAAAAMFBMVEX////MzMxUVFR2dna6uroQ\n",
       "EBCqqqqIiIgiIiJmZmYyMjJERETu7u6YmJjc3NwAAACgK8IjAAAAAXRSTlMAQObYZgAAAVpJREFU\n",
       "KM99kzFLw1AQgL+0UrWmpf9AQRQ6KS6liqSjuLh0EtEu0qmik+jSLrpatD9A3Mygf0Ali1CqQ1DE\n",
       "TTM6urhUUC9ttcnriwfJu3fvfbm73B2kXfSyFWHnTmMzd/MFYt6A+WTOt13Is+mEj0ZhGvNUJW7d\n",
       "9Bqk6piTM79EubtUoAU5lZiCLIz4fl4VYgGa8kmVaIMFb2iIlSsWIVlQ0viEqseejoh9P5YgXld8\n",
       "rIqPAtc6AqstllQn9bjdEZ+WkC5dDnVEonFUlHdN8TG2nbBKFPvEvG0f2PaZaA8MfzgY72rqlR0r\n",
       "EyT6PuSvj5c0BEgddFGZcjXmMlQL5DHRvSARaDNfl5i9XuYBeXKML8j7alUhlh2epVdmFWLfaUnb\n",
       "Lol2vHHuhggjK51IMqMQ8XyDXpf8STm4aeqbPRUq7H1wk4uYj5uowRns9n8mqlthL+Igcmpf9OYf\n",
       "1DZnOp+J3ncAAAAASUVORK5CYII=\n",
       "\" style=\"display:inline;vertical-align:middle;\" /></a><br>(see <a class=\"ProveItLink\" href=\"../__pv_it/481c41755f955fff540c1f5113a3f42e5fb955ac0/dependencies.ipynb\">dependencies</a>)<br>"
      ],
      "text/plain": [
       "add_1_8: (1 + 8) = 9"
      ]
     },
     "execution_count": 2,
     "metadata": {},
     "output_type": "execute_result"
    }
   ],
   "source": [
    "%proving add_1_8 presuming []"
   ]
  },
  {
   "cell_type": "code",
   "execution_count": null,
   "metadata": {},
   "outputs": [],
   "source": []
  }
 ],
 "metadata": {
  "kernelspec": {
   "display_name": "Python 3",
   "language": "python",
   "name": "python3"
  }
 },
 "nbformat": 4,
 "nbformat_minor": 0
}
