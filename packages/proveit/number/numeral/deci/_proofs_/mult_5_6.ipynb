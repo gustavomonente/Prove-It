{
 "cells": [
  {
   "cell_type": "markdown",
   "metadata": {},
   "source": [
    "Proof of <a class=\"ProveItLink\" href=\"../../../../_context_.ipynb\">proveit</a>.<a class=\"ProveItLink\" href=\"../../../_context_.ipynb\">number</a>.<a class=\"ProveItLink\" href=\"../../_context_.ipynb\">numeral</a>.<a class=\"ProveItLink\" href=\"../_context_.ipynb\">deci</a>.<a class=\"ProveItLink\" href=\"../_theorems_.ipynb#mult_5_6\">mult_5_6</a> theorem\n",
    "========"
   ]
  },
  {
   "cell_type": "code",
   "execution_count": 1,
   "metadata": {},
   "outputs": [],
   "source": [
    "import proveit\n",
    "context = proveit.Context('..') # the theorem's context is in the parent directory"
   ]
  },
  {
   "cell_type": "code",
   "execution_count": 2,
   "metadata": {},
   "outputs": [
    {
     "name": "stdout",
     "output_type": "stream",
     "text": [
      "Beginning proof of mult_5_6\n",
      "Recorded 'presuming' information\n",
      "Presuming previous theorems (applied transitively).\n"
     ]
    },
    {
     "data": {
      "text/html": [
       "<strong id=\"mult_5_6\">mult_5_6:</strong> <a class=\"ProveItLink\" href=\"../__pv_it/af4b9579ff005cbbf95a9864d271a5f11e4040a80/expr.ipynb\"><img src=\"data:image/png;base64,iVBORw0KGgoAAAANSUhEUgAAAGEAAAAUBAMAAABvx07iAAAAMFBMVEX///9UVFTMzMx2dna6uroQ\n",
       "EBCqqqqIiIgiIiJmZmYyMjJERETu7u6YmJjc3NwAAAC+aOQFAAAAAXRSTlMAQObYZgAAAaNJREFU\n",
       "KM99UztLA0EQ/mKi5rE5bMRKCFhZ5aJFSGyuEewEiTYW3i8wsZJUphK00ENI4aOIaKOgYGHlaxsh\n",
       "oGBAgpUmYKOND7SIQY2zF3KJt+EGdtnZb77Z/XZmAaUAyWbhZFfAAR/ULd89PwRX2R6lDI9QSPQ2\n",
       "ROtDYKb2YUFsFxtgOTvjGV0/8OtsBQgawE5fM2fAwAklszMWdFRQBOKAl4J7WqBxk3xpZ4xqqOII\n",
       "SHI84T/j2Jz9mqSXbvVOCXWkyem/W7OA6kCaot2GxMir7IsYKZyRc4rXRk5WLWCR1JnS4/vC9kzg\n",
       "cYkr9D7hlICF3oyIFqMGZDm6MtIZ3QmFzgirSJiu75emG5G4ApQ0dLzJhZu8rt+KGK4c3J+05RUv\n",
       "sEyMgsx4AS50Up7Uxa06c/B9N6Be8wxPpqljWyxrnBhUqBIXyn2U3ipymCPbUN5i08Aqr1cwRj1j\n",
       "oGgV3aWyKUqi2hj3oh5enU0AY6JpIltNLBahbvOHbAzP+qYGFp0L1btEtrxDsweNdrtRp/9x3mZP\n",
       "7nbbj5IsUHZitPu1Dw7xf6Z5c1ikZy94AAAAAElFTkSuQmCC\n",
       "\" style=\"display:inline;vertical-align:middle;\" /></a><br>(see <a class=\"ProveItLink\" href=\"../__pv_it/af4b9579ff005cbbf95a9864d271a5f11e4040a80/dependencies.ipynb\">dependencies</a>)<br>"
      ],
      "text/plain": [
       "mult_5_6: (5 * 6) = 30"
      ]
     },
     "execution_count": 2,
     "metadata": {},
     "output_type": "execute_result"
    }
   ],
   "source": [
    "%proving mult_5_6 presuming []"
   ]
  },
  {
   "cell_type": "code",
   "execution_count": null,
   "metadata": {},
   "outputs": [],
   "source": []
  }
 ],
 "metadata": {
  "kernelspec": {
   "display_name": "Python 3",
   "language": "python",
   "name": "python3"
  }
 },
 "nbformat": 4,
 "nbformat_minor": 0
}
