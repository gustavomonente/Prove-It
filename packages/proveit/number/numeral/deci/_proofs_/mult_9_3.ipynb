{
 "cells": [
  {
   "cell_type": "markdown",
   "metadata": {},
   "source": [
    "Proof of <a class=\"ProveItLink\" href=\"../../../../_context_.ipynb\">proveit</a>.<a class=\"ProveItLink\" href=\"../../../_context_.ipynb\">number</a>.<a class=\"ProveItLink\" href=\"../../_context_.ipynb\">numeral</a>.<a class=\"ProveItLink\" href=\"../_context_.ipynb\">deci</a>.<a class=\"ProveItLink\" href=\"../_theorems_.ipynb#mult_9_3\">mult_9_3</a> theorem\n",
    "========"
   ]
  },
  {
   "cell_type": "code",
   "execution_count": 1,
   "metadata": {},
   "outputs": [],
   "source": [
    "import proveit\n",
    "context = proveit.Context('..') # the theorem's context is in the parent directory"
   ]
  },
  {
   "cell_type": "code",
   "execution_count": 2,
   "metadata": {},
   "outputs": [
    {
     "name": "stdout",
     "output_type": "stream",
     "text": [
      "Beginning proof of mult_9_3\n",
      "Recorded 'presuming' information\n",
      "Presuming previous theorems (applied transitively).\n"
     ]
    },
    {
     "data": {
      "text/html": [
       "<strong id=\"mult_9_3\">mult_9_3:</strong> <a class=\"ProveItLink\" href=\"../__pv_it/64f9c6e3dbea478c655909b9318e5e6e3a6dc68c0/expr.ipynb\"><img src=\"data:image/png;base64,iVBORw0KGgoAAAANSUhEUgAAAGIAAAAUBAMAAACE8PXhAAAAMFBMVEX////MzMxUVFR2dna6uroQ\n",
       "EBCqqqqIiIgiIiJmZmYyMjJERETu7u6YmJjc3NwAAACgK8IjAAAAAXRSTlMAQObYZgAAAZtJREFU\n",
       "KM99Uz1Iw0AYfU2rqW1SCy5uzaiLrWQoVYQugqNDC4IKBScXdXWyk+Bk1qBIcFP86eYgahCEikPd\n",
       "nNSAFOoiFUVErPG7tE3hEvLB3XHfu3f3vp8DEvfw2AqC7A64VcfcbUKdLEGw+FOSfp7E8KiqZoAT\n",
       "SIuom13oFf0tSAbPuEb4E8+2bSuQNQizELQutFHCN5DlGbtAEXuAAEQtDBoIN7vQdB4/wA3PmAPS\n",
       "FikaBxpArQLxrweSKsTyHOPURDoJRNaAdaDPYCJdq9JVYc2bom2KNU7rBZikWMsFXrYIkZ3QJw6Z\n",
       "HbT9kQ+apmhs0jjD0hfLYBsSC6Ss7HkiqtAJFm6BKX8Yeqel1slp0USo6WHo7DKjw6Ck/XZuwRtw\n",
       "VfJhiCyyaKWjinKjdBHbZIxIuRfHvuNfRoLqoLQjlxeQctti3kmKzBc9lIFoIcUeytGDR9KxCz06\n",
       "9RjIcIyGmhsBVpl7hoaq9woW0XdoE0vyFbRtap56CU6X+Fg1oNllzc+bDfoflz4+b7dzP8pjcSuI\n",
       "4fdrnwLO/wPz/ms+mCaFRwAAAABJRU5ErkJggg==\n",
       "\" style=\"display:inline;vertical-align:middle;\" /></a><br>(see <a class=\"ProveItLink\" href=\"../__pv_it/64f9c6e3dbea478c655909b9318e5e6e3a6dc68c0/dependencies.ipynb\">dependencies</a>)<br>"
      ],
      "text/plain": [
       "mult_9_3: (9 * 3) = 27"
      ]
     },
     "execution_count": 2,
     "metadata": {},
     "output_type": "execute_result"
    }
   ],
   "source": [
    "%proving mult_9_3 presuming []"
   ]
  },
  {
   "cell_type": "code",
   "execution_count": null,
   "metadata": {},
   "outputs": [],
   "source": []
  }
 ],
 "metadata": {
  "kernelspec": {
   "display_name": "Python 3",
   "language": "python",
   "name": "python3"
  }
 },
 "nbformat": 4,
 "nbformat_minor": 0
}
