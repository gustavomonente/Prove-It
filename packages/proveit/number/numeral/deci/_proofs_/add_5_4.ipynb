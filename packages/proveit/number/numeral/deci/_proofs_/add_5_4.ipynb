{
 "cells": [
  {
   "cell_type": "markdown",
   "metadata": {},
   "source": [
    "Proof of <a class=\"ProveItLink\" href=\"../../../../_context_.ipynb\">proveit</a>.<a class=\"ProveItLink\" href=\"../../../_context_.ipynb\">number</a>.<a class=\"ProveItLink\" href=\"../../_context_.ipynb\">numeral</a>.<a class=\"ProveItLink\" href=\"../_context_.ipynb\">decimal</a>.<a class=\"ProveItLink\" href=\"../_theorems_.ipynb#add_5_4\">add_5_4</a> theorem\n",
    "========"
   ]
  },
  {
   "cell_type": "code",
   "execution_count": 1,
   "metadata": {},
   "outputs": [],
   "source": [
    "import proveit\n",
    "context = proveit.Context('..') # the theorem's context is in the parent directory"
   ]
  },
  {
   "cell_type": "code",
   "execution_count": 2,
   "metadata": {},
   "outputs": [
    {
     "name": "stdout",
     "output_type": "stream",
     "text": [
      "Beginning proof of add_5_4\n",
      "Recorded 'presuming' information\n",
      "Presuming previous theorems (applied transitively).\n"
     ]
    },
    {
     "data": {
      "text/html": [
       "<strong id=\"add_5_4\">add_5_4:</strong> <a class=\"ProveItLink\" href=\"../__pv_it/f67093aec38be12cdfe2c9a4535f267dce1e84940/expr.ipynb\"><img src=\"data:image/png;base64,iVBORw0KGgoAAAANSUhEUgAAAGEAAAAUBAMAAABvx07iAAAAMFBMVEX///9UVFTMzMx2dna6uroQ\n",
       "EBCqqqqIiIgiIiJmZmYyMjJERETu7u6YmJjc3NwAAAC+aOQFAAAAAXRSTlMAQObYZgAAAXJJREFU\n",
       "KM91k79Lw1AQx79tbDBNWrqIdBC7urVTqUs7+ge4KILFxUkJgoMuZtE5qIsgGHELqP0D/JGlIOqQ\n",
       "pQgOJaNOKjqpqPeepqbX5IZy+b73eXfXuwPyPuJtOUHHDXDsTTSZmraRCvhVY6citBNg/vuVHw4X\n",
       "YDhcbPv5OSBnA0ej4XOL4eFqAahyYgQo0mN0udDTQiJ/T1qbE+9AHXhAHKFkScs2WBkfwEaANXLH\n",
       "7rYZ0RWEYrMYsxSjgXPyzvDU6CMMUxA5WbriShM0pXTqY0te0a0+QoEgVIvF0E213sS09LUv+pl0\n",
       "3U3XPSRvQRLpZ1760kq9JIiUA+UtGsMoJxDAuCeyyjjQPqOEWtw7mDExZEXq+Ps/KQOqXKOuOKyD\n",
       "mV7lEet4acq+Ru2y0Qk40aKXyoxY965pbKfIe6zs8w5evvjIlhih1HbxOyUY6Lm0q/hhz/U19jb6\n",
       "UU3Yj4ukxRmc9v+Nijc9SDhI3NpuvPwDu8NcatvtCsUAAAAASUVORK5CYII=\n",
       "\" style=\"display:inline;vertical-align:middle;\" /></a><br>(see <a class=\"ProveItLink\" href=\"../__pv_it/f67093aec38be12cdfe2c9a4535f267dce1e84940/dependencies.ipynb\">dependencies</a>)<br>"
      ],
      "text/plain": [
       "add_5_4: (5 + 4) = 9"
      ]
     },
     "execution_count": 2,
     "metadata": {},
     "output_type": "execute_result"
    }
   ],
   "source": [
    "%proving add_5_4 presuming []"
   ]
  },
  {
   "cell_type": "code",
   "execution_count": null,
   "metadata": {},
   "outputs": [],
   "source": []
  }
 ],
 "metadata": {
  "kernelspec": {
   "display_name": "Python 3",
   "language": "python",
   "name": "python3"
  }
 },
 "nbformat": 4,
 "nbformat_minor": 0
}
