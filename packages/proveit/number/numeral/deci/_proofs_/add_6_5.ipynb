{
 "cells": [
  {
   "cell_type": "markdown",
   "metadata": {},
   "source": [
    "Proof of <a class=\"ProveItLink\" href=\"../../../../_context_.ipynb\">proveit</a>.<a class=\"ProveItLink\" href=\"../../../_context_.ipynb\">number</a>.<a class=\"ProveItLink\" href=\"../../_context_.ipynb\">numeral</a>.<a class=\"ProveItLink\" href=\"../_context_.ipynb\">decimal</a>.<a class=\"ProveItLink\" href=\"../_theorems_.ipynb#add_6_5\">add_6_5</a> theorem\n",
    "========"
   ]
  },
  {
   "cell_type": "code",
   "execution_count": 1,
   "metadata": {},
   "outputs": [],
   "source": [
    "import proveit\n",
    "context = proveit.Context('..') # the theorem's context is in the parent directory"
   ]
  },
  {
   "cell_type": "code",
   "execution_count": 2,
   "metadata": {},
   "outputs": [
    {
     "name": "stdout",
     "output_type": "stream",
     "text": [
      "Beginning proof of add_6_5\n",
      "Recorded 'presuming' information\n",
      "Presuming previous theorems (applied transitively).\n"
     ]
    },
    {
     "data": {
      "text/html": [
       "<strong id=\"add_6_5\">add_6_5:</strong> <a class=\"ProveItLink\" href=\"../__pv_it/e414a42e94d938dae8d79c35012fc652bee541ba0/expr.ipynb\"><img src=\"data:image/png;base64,iVBORw0KGgoAAAANSUhEUgAAAGsAAAAUBAMAAAB45d4rAAAAMFBMVEX///9UVFTMzMx2dna6uroQ\n",
       "EBCqqqqIiIgiIiJmZmYyMjJERETu7u6YmJjc3NwAAAC+aOQFAAAAAXRSTlMAQObYZgAAAVRJREFU\n",
       "OMtjYOC7wIAdsD1gwANOA7F5sQKq4NoDmgkMcvi0rWNgOOXAuQBVMP7/Z6AwpuLUA1CCdwIDw04G\n",
       "7g0Q4XSo9GJxoAuZC9A08QjLH4AQDBwPGFj+wSVg2gTAqgIwbLt/AEq8YGDgDsCujWEJbm2VDAz8\n",
       "i8ynoGmTvT4JSFri1raXgeH8WgaOBFRtexjeOzAw3AIxmVeBwQRUbW1AbR8YOGNQtQFd3sDAkIHb\n",
       "thCgIxsYeL8AuVarVrWuWrUQooATGE76eLVxLGDg/YtiG+MCBuYveLUBHckYALENoY11AQPnHwYG\n",
       "DyS/CWAECdMfBs4AFG2cYCdAggS7baBAFmY4ihqSfBMYrgKTyWQMbfUHoATIIcyThdDi7aXhHCC5\n",
       "CF3XxPiVFyAEB0r2SEdJgg24MwDvBGTeGWQORlJGBvtwypwilE1JNRAUargKBV48hQIAK/l4Zcw1\n",
       "2bUAAAAASUVORK5CYII=\n",
       "\" style=\"display:inline;vertical-align:middle;\" /></a><br>(see <a class=\"ProveItLink\" href=\"../__pv_it/e414a42e94d938dae8d79c35012fc652bee541ba0/dependencies.ipynb\">dependencies</a>)<br>"
      ],
      "text/plain": [
       "add_6_5: (6 + 5) = 11"
      ]
     },
     "execution_count": 2,
     "metadata": {},
     "output_type": "execute_result"
    }
   ],
   "source": [
    "%proving add_6_5 presuming []"
   ]
  },
  {
   "cell_type": "code",
   "execution_count": null,
   "metadata": {},
   "outputs": [],
   "source": []
  }
 ],
 "metadata": {
  "kernelspec": {
   "display_name": "Python 3",
   "language": "python",
   "name": "python3"
  }
 },
 "nbformat": 4,
 "nbformat_minor": 0
}
