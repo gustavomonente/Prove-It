{
 "cells": [
  {
   "cell_type": "markdown",
   "metadata": {},
   "source": [
    "Proof of <a class=\"ProveItLink\" href=\"../../../../_context_.ipynb\">proveit</a>.<a class=\"ProveItLink\" href=\"../../../_context_.ipynb\">number</a>.<a class=\"ProveItLink\" href=\"../../_context_.ipynb\">numeral</a>.<a class=\"ProveItLink\" href=\"../_context_.ipynb\">decimal</a>.<a class=\"ProveItLink\" href=\"../_theorems_.ipynb#less_7_8\">less_7_8</a> theorem\n",
    "========"
   ]
  },
  {
   "cell_type": "code",
   "execution_count": 1,
   "metadata": {},
   "outputs": [],
   "source": [
    "import proveit\n",
    "context = proveit.Context('..') # the theorem's context is in the parent directory"
   ]
  },
  {
   "cell_type": "code",
   "execution_count": 2,
   "metadata": {},
   "outputs": [
    {
     "name": "stdout",
     "output_type": "stream",
     "text": [
      "Beginning proof of less_7_8\n",
      "Recorded 'presuming' information\n",
      "Presuming previous theorems (applied transitively).\n"
     ]
    },
    {
     "data": {
      "text/html": [
       "<strong id=\"less_7_8\">less_7_8:</strong> <a class=\"ProveItLink\" href=\"../__pv_it/ce9fd799ea03e67dbcc881e296777915c3fb49670/expr.ipynb\"><img src=\"data:image/png;base64,iVBORw0KGgoAAAANSUhEUgAAADAAAAAOBAMAAACbXIJpAAAAMFBMVEX///8QEBCqqqoyMjLu7u5E\n",
       "RESIiIi6urrc3NyYmJh2dnZmZmZUVFQiIiLMzMwAAABzPQ5hAAAAAXRSTlMAQObYZgAAAL9JREFU\n",
       "GNNjeHt61aoFDKjALWs7A8P8////H0CT2MDAo8Cwg4GBByGk/ABIME1gYDFgABqzDi4+dweI5Apg\n",
       "YLkApNkTYOK5S8AU+1cHrglAmhUqzLIWpuL8z0UgaiVUfO8EmE6u/yYggQ8Q3mEFuFXatR8LGBjY\n",
       "DCAaEBKcBxjyRRgYeAMgXA64UYwODHyfGBj4D6Bb7g/EJxkY3m9gQHMuYwMDQwQDgz5SSEE8yG7C\n",
       "wAnU3KjAgBYkDG92bWcAAJL7MTVg8sw9AAAAAElFTkSuQmCC\n",
       "\" style=\"display:inline;vertical-align:middle;\" /></a><br>(see <a class=\"ProveItLink\" href=\"../__pv_it/ce9fd799ea03e67dbcc881e296777915c3fb49670/dependencies.ipynb\">dependencies</a>)<br>"
      ],
      "text/plain": [
       "less_7_8: 7 < 8"
      ]
     },
     "execution_count": 2,
     "metadata": {},
     "output_type": "execute_result"
    }
   ],
   "source": [
    "%proving less_7_8 presuming []"
   ]
  },
  {
   "cell_type": "code",
   "execution_count": null,
   "metadata": {},
   "outputs": [],
   "source": []
  }
 ],
 "metadata": {
  "kernelspec": {
   "display_name": "Python 3",
   "language": "python",
   "name": "python3"
  }
 },
 "nbformat": 4,
 "nbformat_minor": 0
}
