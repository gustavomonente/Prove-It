{
 "cells": [
  {
   "cell_type": "markdown",
   "metadata": {},
   "source": [
    "Proof of <a class=\"ProveItLink\" href=\"../../../../_context_.ipynb\">proveit</a>.<a class=\"ProveItLink\" href=\"../../../_context_.ipynb\">number</a>.<a class=\"ProveItLink\" href=\"../../_context_.ipynb\">numeral</a>.<a class=\"ProveItLink\" href=\"../_context_.ipynb\">deci</a>.<a class=\"ProveItLink\" href=\"../_theorems_.ipynb#mult_0_0\">mult_0_0</a> theorem\n",
    "========"
   ]
  },
  {
   "cell_type": "code",
   "execution_count": 1,
   "metadata": {},
   "outputs": [],
   "source": [
    "import proveit\n",
    "context = proveit.Context('..') # the theorem's context is in the parent directory"
   ]
  },
  {
   "cell_type": "code",
   "execution_count": 2,
   "metadata": {},
   "outputs": [
    {
     "name": "stdout",
     "output_type": "stream",
     "text": [
      "Beginning proof of mult_0_0\n",
      "Recorded 'presuming' information\n",
      "Presuming previous theorems (applied transitively).\n"
     ]
    },
    {
     "data": {
      "text/html": [
       "<strong id=\"mult_0_0\">mult_0_0:</strong> <a class=\"ProveItLink\" href=\"../__pv_it/185941e2c921f821b5b3bc2bac4dc07c7c34a2060/expr.ipynb\"><img src=\"data:image/png;base64,iVBORw0KGgoAAAANSUhEUgAAAFcAAAAUBAMAAAAKKrydAAAAMFBMVEX///9UVFTMzMx2dna6uroQ\n",
       "EBCqqqqIiIgiIiJmZmYyMjJERETu7u6YmJjc3NwAAAC+aOQFAAAAAXRSTlMAQObYZgAAAT9JREFU\n",
       "KM91k7FKw0AYgD+bEGKaq8Un6Bs0uBQ7Obop0gfIE9g6iYPQqaPkEeoi6CA6i1KQQsGhgrhqxm4q\n",
       "BUVw8NJLcjS5/tPlu+/+/H/uD9SeKcUhK+IJrNMt/dx6abAWl7QEwzVcMMl3vdA/wx8W3QVGRIh9\n",
       "rHz3FdoyT1FW2I2p1nH+MnoL3RHjoqzwDDbq2N8Z/YK9EG+nICt8AtMI+yeF/q+kPaxo2U3xPXwE\n",
       "VDK5NodmD7HooX2VxKXGAylHVObJ8YTKFM0Ap7+cOcUdXcZ0mL+v8mkso7No0EkadOuqk25YklMs\n",
       "y6jeIPJPdwfvI+y+rvlcY9mg4VLE0Hgp23I1YNzIqBv6B7AeFGSFd+Xq8XhTt9I6kge9RkFW2I1N\n",
       "ozgxT6iITLS1Yp4fDKw8onr4S1GNV8im3+rNrP4DdqRg6SHUsQcAAAAASUVORK5CYII=\n",
       "\" style=\"display:inline;vertical-align:middle;\" /></a><br>(see <a class=\"ProveItLink\" href=\"../__pv_it/185941e2c921f821b5b3bc2bac4dc07c7c34a2060/dependencies.ipynb\">dependencies</a>)<br>"
      ],
      "text/plain": [
       "mult_0_0: (0 * 0) = 0"
      ]
     },
     "execution_count": 2,
     "metadata": {},
     "output_type": "execute_result"
    }
   ],
   "source": [
    "%proving mult_0_0 presuming []"
   ]
  },
  {
   "cell_type": "code",
   "execution_count": null,
   "metadata": {},
   "outputs": [],
   "source": []
  }
 ],
 "metadata": {
  "kernelspec": {
   "display_name": "Python 3",
   "language": "python",
   "name": "python3"
  }
 },
 "nbformat": 4,
 "nbformat_minor": 0
}
