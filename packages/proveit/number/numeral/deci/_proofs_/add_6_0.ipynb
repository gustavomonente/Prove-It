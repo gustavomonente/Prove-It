{
 "cells": [
  {
   "cell_type": "markdown",
   "metadata": {},
   "source": [
    "Proof of <a class=\"ProveItLink\" href=\"../../../../_context_.ipynb\">proveit</a>.<a class=\"ProveItLink\" href=\"../../../_context_.ipynb\">number</a>.<a class=\"ProveItLink\" href=\"../../_context_.ipynb\">numeral</a>.<a class=\"ProveItLink\" href=\"../_context_.ipynb\">decimal</a>.<a class=\"ProveItLink\" href=\"../_theorems_.ipynb#add_6_0\">add_6_0</a> theorem\n",
    "========"
   ]
  },
  {
   "cell_type": "code",
   "execution_count": 1,
   "metadata": {},
   "outputs": [],
   "source": [
    "import proveit\n",
    "context = proveit.Context('..') # the theorem's context is in the parent directory"
   ]
  },
  {
   "cell_type": "code",
   "execution_count": 2,
   "metadata": {},
   "outputs": [
    {
     "name": "stdout",
     "output_type": "stream",
     "text": [
      "Beginning proof of add_6_0\n",
      "Recorded 'presuming' information\n",
      "Presuming previous theorems (applied transitively).\n"
     ]
    },
    {
     "data": {
      "text/html": [
       "<strong id=\"add_6_0\">add_6_0:</strong> <a class=\"ProveItLink\" href=\"../__pv_it/8c6500061dcc53c151227fa972014d671cec41730/expr.ipynb\"><img src=\"data:image/png;base64,iVBORw0KGgoAAAANSUhEUgAAAGEAAAAUBAMAAABvx07iAAAAMFBMVEX///9UVFTMzMx2dna6uroQ\n",
       "EBCqqqqIiIgiIiJmZmYyMjJERETu7u6YmJjc3NwAAAC+aOQFAAAAAXRSTlMAQObYZgAAAXxJREFU\n",
       "KM91k79Lw0AUx79tijTtpYriHvAPaHQJ7ZTRzSLi5JCtm604SLcsOjhIQLs4VXEKKDo4iChZCqJC\n",
       "C+JqOzpWdNDir5er1Nw1eSSXy7t88n4DuTaiZTVGjzu6zXVdVJoPOhLdkW+VjTlaT4BbS20IJxmb\n",
       "7YA1ZIAdYR/QXOAC2dOBrjx4PAJFMiQTWReXQLqL1PdQ90ecARUfTZlY4H4+E1qSiRc6tZGxJOKc\n",
       "rzVg/NDcEwj2QUQViisR/Zka/eQKaB0jbYeJ3CuQr0LjoSseF6JZv40tBFerB3VFIMhG3sCYI6Xq\n",
       "B6j7WCKvHGhvpCl63qbnHQy9SvYkr96BjhUQ6Qa0Lznyij1KbBPBHUuUBjb+Ccp6x0fKCcUxQdtp\n",
       "boMiT35CLUVUUJOLnvdRBwq0m0JTyBWlji0CqiERCYMtA/OB4d1JsYLMXKPWzOhy0QuzOu+SkJTD\n",
       "LzfRza4Jhb0XWj5mPq7jBme020MTFSnZbsxB7NQ+Rat/AVMbZaTFe4t4AAAAAElFTkSuQmCC\n",
       "\" style=\"display:inline;vertical-align:middle;\" /></a><br>(see <a class=\"ProveItLink\" href=\"../__pv_it/8c6500061dcc53c151227fa972014d671cec41730/dependencies.ipynb\">dependencies</a>)<br>"
      ],
      "text/plain": [
       "add_6_0: (6 + 0) = 6"
      ]
     },
     "execution_count": 2,
     "metadata": {},
     "output_type": "execute_result"
    }
   ],
   "source": [
    "%proving add_6_0 presuming []"
   ]
  },
  {
   "cell_type": "code",
   "execution_count": null,
   "metadata": {},
   "outputs": [],
   "source": []
  }
 ],
 "metadata": {
  "kernelspec": {
   "display_name": "Python 3",
   "language": "python",
   "name": "python3"
  }
 },
 "nbformat": 4,
 "nbformat_minor": 0
}
