{
 "cells": [
  {
   "cell_type": "markdown",
   "metadata": {},
   "source": [
    "Proof of <a class=\"ProveItLink\" href=\"../../../../_context_.ipynb\">proveit</a>.<a class=\"ProveItLink\" href=\"../../../_context_.ipynb\">number</a>.<a class=\"ProveItLink\" href=\"../../_context_.ipynb\">numeral</a>.<a class=\"ProveItLink\" href=\"../_context_.ipynb\">decimal</a>.<a class=\"ProveItLink\" href=\"../_theorems_.ipynb#add_5_3\">add_5_3</a> theorem\n",
    "========"
   ]
  },
  {
   "cell_type": "code",
   "execution_count": 1,
   "metadata": {},
   "outputs": [],
   "source": [
    "import proveit\n",
    "context = proveit.Context('..') # the theorem's context is in the parent directory"
   ]
  },
  {
   "cell_type": "code",
   "execution_count": 2,
   "metadata": {},
   "outputs": [
    {
     "name": "stdout",
     "output_type": "stream",
     "text": [
      "Beginning proof of add_5_3\n",
      "Recorded 'presuming' information\n",
      "Presuming previous theorems (applied transitively).\n"
     ]
    },
    {
     "data": {
      "text/html": [
       "<strong id=\"add_5_3\">add_5_3:</strong> <a class=\"ProveItLink\" href=\"../__pv_it/ce83d49930038988d5ac77786205df0f4f0656b70/expr.ipynb\"><img src=\"data:image/png;base64,iVBORw0KGgoAAAANSUhEUgAAAGEAAAAUBAMAAABvx07iAAAAMFBMVEX///9UVFTMzMx2dna6uroQ\n",
       "EBCqqqqIiIgiIiJmZmYyMjJERETu7u6YmJjc3NwAAAC+aOQFAAAAAXRSTlMAQObYZgAAAX9JREFU\n",
       "KM91k79Lw0AUx79pa9v0F06Kg+DqZMWh1CJmEcTFpU6KZuukqziZRcGpRVxEh0i3gP4FVW8RijpU\n",
       "RDopARddVFBBihrfpVVz1+QN9+Pd+9zd+wVkGvCXlQA9LoBDNqwLusxYQYdiy6ap1bxG0xGw5LyK\n",
       "R4+IfiFlyoQK9AHpClDt/72u1J7WdXwAOZlYBs6BOBn3/uk6xJSGFnAmEwWgDjzAhwD/FRKaRMzW\n",
       "MAGs0WqwuS0T9SwQrkiE4lxThI5pVcOzJhL3W4xcdF0PW6649GSL1JuuRdKQ3ogV6WeG9EZ0p0zq\n",
       "Yjtu3zSMW9aGZR20T+cYQi8ScYXYO+OEYiL8JrzxBJzq3cQCMKLzX/WYUD8FwmGciBgePyieKbpB\n",
       "aXDPKZVxUyDmgTLreO6RRXLYRp6qqIIbWyBu3XyoWYmYYWgC07yMRvfFfER29yjciSGJCA3wSowL\n",
       "FVrybur+xZ4WEnvp3eQC+uMkqHG6q/2/o/wlaQccBHbtnb/6ByuJZv2uY+wjAAAAAElFTkSuQmCC\n",
       "\" style=\"display:inline;vertical-align:middle;\" /></a><br>(see <a class=\"ProveItLink\" href=\"../__pv_it/ce83d49930038988d5ac77786205df0f4f0656b70/dependencies.ipynb\">dependencies</a>)<br>"
      ],
      "text/plain": [
       "add_5_3: (5 + 3) = 8"
      ]
     },
     "execution_count": 2,
     "metadata": {},
     "output_type": "execute_result"
    }
   ],
   "source": [
    "%proving add_5_3 presuming []"
   ]
  },
  {
   "cell_type": "code",
   "execution_count": null,
   "metadata": {},
   "outputs": [],
   "source": []
  }
 ],
 "metadata": {
  "kernelspec": {
   "display_name": "Python 3",
   "language": "python",
   "name": "python3"
  }
 },
 "nbformat": 4,
 "nbformat_minor": 0
}
