{
 "cells": [
  {
   "cell_type": "markdown",
   "metadata": {},
   "source": [
    "Proof of <a class=\"ProveItLink\" href=\"../../../../_context_.ipynb\">proveit</a>.<a class=\"ProveItLink\" href=\"../../../_context_.ipynb\">number</a>.<a class=\"ProveItLink\" href=\"../../_context_.ipynb\">numeral</a>.<a class=\"ProveItLink\" href=\"../_context_.ipynb\">deci</a>.<a class=\"ProveItLink\" href=\"../_theorems_.ipynb#mult_1_5\">mult_1_5</a> theorem\n",
    "========"
   ]
  },
  {
   "cell_type": "code",
   "execution_count": 1,
   "metadata": {},
   "outputs": [],
   "source": [
    "import proveit\n",
    "context = proveit.Context('..') # the theorem's context is in the parent directory"
   ]
  },
  {
   "cell_type": "code",
   "execution_count": 2,
   "metadata": {},
   "outputs": [
    {
     "name": "stdout",
     "output_type": "stream",
     "text": [
      "Beginning proof of mult_1_5\n",
      "Recorded 'presuming' information\n",
      "Presuming previous theorems (applied transitively).\n"
     ]
    },
    {
     "data": {
      "text/html": [
       "<strong id=\"mult_1_5\">mult_1_5:</strong> <a class=\"ProveItLink\" href=\"../__pv_it/e78799cb04f95b4d3c1e178bd746c8b4a60ed0210/expr.ipynb\"><img src=\"data:image/png;base64,iVBORw0KGgoAAAANSUhEUgAAAFcAAAAUBAMAAAAKKrydAAAAMFBMVEX////MzMxUVFR2dna6uroQ\n",
       "EBCqqqqIiIgiIiJmZmYyMjJERETu7u6YmJjc3NwAAACgK8IjAAAAAXRSTlMAQObYZgAAARNJREFU\n",
       "KM9jYOC7wIAB8hhwgNOoXK47jNMYmB6gqwILMzCsA+LUA3BR1v//DRh4FqArBgsz8E5g4FHWRyjm\n",
       "MqoDkuYYJoOFOUA23kcoZgKTR9EVQ4RfMGBTzOWAVXEluuK7lQIMDMwT0BWDhfeiKeY+wPcF6BOw\n",
       "D61WgcBKhHAbQjEPVP0OBga2BswwBgqHIBSfhwbY/AcMjB8wFQOFkRRzKAAJLQYGewdMxRDhNjQ3\n",
       "RwGNOMDA0oBw8yKEMLoHgcHQBfMgEoAIW4KY9QjFLxl44xgYOA3QFEOEPYCsSfEr4UmPb7ImUCeX\n",
       "AJpiiDDHA2xJ8QT2FMo7AZuoOY70vA+LGGYSxZ74IXH+AIdibNnqHnalAPWcV6yVHAAjAAAAAElF\n",
       "TkSuQmCC\n",
       "\" style=\"display:inline;vertical-align:middle;\" /></a><br>(see <a class=\"ProveItLink\" href=\"../__pv_it/e78799cb04f95b4d3c1e178bd746c8b4a60ed0210/dependencies.ipynb\">dependencies</a>)<br>"
      ],
      "text/plain": [
       "mult_1_5: (1 * 5) = 5"
      ]
     },
     "execution_count": 2,
     "metadata": {},
     "output_type": "execute_result"
    }
   ],
   "source": [
    "%proving mult_1_5 presuming []"
   ]
  },
  {
   "cell_type": "code",
   "execution_count": null,
   "metadata": {},
   "outputs": [],
   "source": []
  }
 ],
 "metadata": {
  "kernelspec": {
   "display_name": "Python 3",
   "language": "python",
   "name": "python3"
  }
 },
 "nbformat": 4,
 "nbformat_minor": 0
}
