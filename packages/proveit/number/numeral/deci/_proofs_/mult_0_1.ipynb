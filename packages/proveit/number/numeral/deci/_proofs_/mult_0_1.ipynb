{
 "cells": [
  {
   "cell_type": "markdown",
   "metadata": {},
   "source": [
    "Proof of <a class=\"ProveItLink\" href=\"../../../../_context_.ipynb\">proveit</a>.<a class=\"ProveItLink\" href=\"../../../_context_.ipynb\">number</a>.<a class=\"ProveItLink\" href=\"../../_context_.ipynb\">numeral</a>.<a class=\"ProveItLink\" href=\"../_context_.ipynb\">deci</a>.<a class=\"ProveItLink\" href=\"../_theorems_.ipynb#mult_0_1\">mult_0_1</a> theorem\n",
    "========"
   ]
  },
  {
   "cell_type": "code",
   "execution_count": 1,
   "metadata": {},
   "outputs": [],
   "source": [
    "import proveit\n",
    "context = proveit.Context('..') # the theorem's context is in the parent directory"
   ]
  },
  {
   "cell_type": "code",
   "execution_count": 2,
   "metadata": {},
   "outputs": [
    {
     "name": "stdout",
     "output_type": "stream",
     "text": [
      "Beginning proof of mult_0_1\n",
      "Recorded 'presuming' information\n",
      "Presuming previous theorems (applied transitively).\n"
     ]
    },
    {
     "data": {
      "text/html": [
       "<strong id=\"mult_0_1\">mult_0_1:</strong> <a class=\"ProveItLink\" href=\"../__pv_it/3a9bef5305a5d17e1ed1a5a2cc3cca330edfc11d0/expr.ipynb\"><img src=\"data:image/png;base64,iVBORw0KGgoAAAANSUhEUgAAAFcAAAAUBAMAAAAKKrydAAAAMFBMVEX///9UVFTMzMx2dna6uroQ\n",
       "EBCqqqqIiIgiIiJmZmYyMjJERETu7u6YmJjc3NwAAAC+aOQFAAAAAXRSTlMAQObYZgAAAUNJREFU\n",
       "KM91kzFLw0AUx382JaZtUovgnm/Q6BLs5OimSEeHfAJbJ3EQOnWUfAGhLoIOorMoFSkUHFoQV83o\n",
       "plJQlA7eVUiay+UNx+N/v3u8P+8dVMdkYo+ceATjaC2tLUQZzH9yxXkJZwyTW3MX7J7KlgP7GJwQ\n",
       "Zxsjvr1fnco6KvwMDbAiKjXMaSw7Mh2o8DW0+rzBUo3iVxoubyjwJ2wFHMIopPidho0wzdo/Am5z\n",
       "C+8eBQV2Zh4aFzLORVadQL1NV8AhhYl8nsBmJ125KirXPZpJG6NeDBc+tG00ZwZNadCq5cLSYCuQ\n",
       "bVSu/om5noudpOdTmd7Aa18aTA1l3mBmKOsi6zJwY3lRwiVPga3A3oFNkT0cLMdqaeX3RAzFVWDb\n",
       "33dn49bEUL+hTqhT/Zx9vtNo2RVNlj8TlSgH1n2rFz36By42WzTB+ch+AAAAAElFTkSuQmCC\n",
       "\" style=\"display:inline;vertical-align:middle;\" /></a><br>(see <a class=\"ProveItLink\" href=\"../__pv_it/3a9bef5305a5d17e1ed1a5a2cc3cca330edfc11d0/dependencies.ipynb\">dependencies</a>)<br>"
      ],
      "text/plain": [
       "mult_0_1: (0 * 1) = 0"
      ]
     },
     "execution_count": 2,
     "metadata": {},
     "output_type": "execute_result"
    }
   ],
   "source": [
    "%proving mult_0_1 presuming []"
   ]
  },
  {
   "cell_type": "code",
   "execution_count": null,
   "metadata": {},
   "outputs": [],
   "source": []
  }
 ],
 "metadata": {
  "kernelspec": {
   "display_name": "Python 3",
   "language": "python",
   "name": "python3"
  }
 },
 "nbformat": 4,
 "nbformat_minor": 0
}
