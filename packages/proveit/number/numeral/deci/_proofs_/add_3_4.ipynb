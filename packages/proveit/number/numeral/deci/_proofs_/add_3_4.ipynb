{
 "cells": [
  {
   "cell_type": "markdown",
   "metadata": {},
   "source": [
    "Proof of <a class=\"ProveItLink\" href=\"../../../../_context_.ipynb\">proveit</a>.<a class=\"ProveItLink\" href=\"../../../_context_.ipynb\">number</a>.<a class=\"ProveItLink\" href=\"../../_context_.ipynb\">numeral</a>.<a class=\"ProveItLink\" href=\"../_context_.ipynb\">decimal</a>.<a class=\"ProveItLink\" href=\"../_theorems_.ipynb#add_3_4\">add_3_4</a> theorem\n",
    "========"
   ]
  },
  {
   "cell_type": "code",
   "execution_count": 1,
   "metadata": {},
   "outputs": [],
   "source": [
    "import proveit\n",
    "context = proveit.Context('..') # the theorem's context is in the parent directory"
   ]
  },
  {
   "cell_type": "code",
   "execution_count": 2,
   "metadata": {},
   "outputs": [
    {
     "name": "stdout",
     "output_type": "stream",
     "text": [
      "Beginning proof of add_3_4\n",
      "Recorded 'presuming' information\n",
      "Presuming previous theorems (applied transitively).\n"
     ]
    },
    {
     "data": {
      "text/html": [
       "<strong id=\"add_3_4\">add_3_4:</strong> <a class=\"ProveItLink\" href=\"../__pv_it/04d3032d6abca53a2a0b102660a830a581ed56360/expr.ipynb\"><img src=\"data:image/png;base64,iVBORw0KGgoAAAANSUhEUgAAAGIAAAAUBAMAAACE8PXhAAAAMFBMVEX////MzMxUVFR2dna6uroQ\n",
       "EBCqqqqIiIgiIiJmZmYyMjJERETu7u6YmJjc3NwAAACgK8IjAAAAAXRSTlMAQObYZgAAAVxJREFU\n",
       "KM91kz1Iw1AQx/9tkjbm09HNrN0iGaqC0FH3LoKDTt1sFge3gOictSAaHDNIB3FTJ0HQIbNDDYjg\n",
       "WBw6FeJ7CdHkkhzc4949fu/uuDvAiFAvxw1+vAKfzj31tny0Y+pc6zmODdzC8DGmgWQLWkCJjyRJ\n",
       "LOg+uguYXuYb5Y8nFtCnxBXQZp/FEIcwgzJhvDPimRIsow3gO7XzrHJCUBihDCpFiy5wyg3tDGVi\n",
       "xgnBrxAq0weew+ZlmdBcTuhpqkKYSkbvML3ICh2UCAGc6Hg0hDZnxzA1pQN2bIfheRjeMOsoJVpz\n",
       "SnSDjDBiqItiDM1uIORplpW5JESnN7nedyF6hTosbptWVrk0hbwkHZT+Ki/KOq9/i71ElX7wX7Bi\n",
       "U2LMPbtM9yZ3pB/C008EZZUSX4dIp6Qgo+LlpX7Y9VJj34qXfsN+PDYtTnXa/zeqXtS44aFxa2f1\n",
       "7l8pZlUE8iY9bgAAAABJRU5ErkJggg==\n",
       "\" style=\"display:inline;vertical-align:middle;\" /></a><br>(see <a class=\"ProveItLink\" href=\"../__pv_it/04d3032d6abca53a2a0b102660a830a581ed56360/dependencies.ipynb\">dependencies</a>)<br>"
      ],
      "text/plain": [
       "add_3_4: (3 + 4) = 7"
      ]
     },
     "execution_count": 2,
     "metadata": {},
     "output_type": "execute_result"
    }
   ],
   "source": [
    "%proving add_3_4 presuming []"
   ]
  },
  {
   "cell_type": "code",
   "execution_count": null,
   "metadata": {},
   "outputs": [],
   "source": []
  }
 ],
 "metadata": {
  "kernelspec": {
   "display_name": "Python 3",
   "language": "python",
   "name": "python3"
  }
 },
 "nbformat": 4,
 "nbformat_minor": 0
}
