{
 "cells": [
  {
   "cell_type": "markdown",
   "metadata": {},
   "source": [
    "Proof of <a class=\"ProveItLink\" href=\"../../../../_context_.ipynb\">proveit</a>.<a class=\"ProveItLink\" href=\"../../../_context_.ipynb\">number</a>.<a class=\"ProveItLink\" href=\"../../_context_.ipynb\">numeral</a>.<a class=\"ProveItLink\" href=\"../_context_.ipynb\">deci</a>.<a class=\"ProveItLink\" href=\"../_theorems_.ipynb#mult_8_5\">mult_8_5</a> theorem\n",
    "========"
   ]
  },
  {
   "cell_type": "code",
   "execution_count": 1,
   "metadata": {},
   "outputs": [],
   "source": [
    "import proveit\n",
    "context = proveit.Context('..') # the theorem's context is in the parent directory"
   ]
  },
  {
   "cell_type": "code",
   "execution_count": 2,
   "metadata": {},
   "outputs": [
    {
     "name": "stdout",
     "output_type": "stream",
     "text": [
      "Beginning proof of mult_8_5\n",
      "Recorded 'presuming' information\n",
      "Presuming previous theorems (applied transitively).\n"
     ]
    },
    {
     "data": {
      "text/html": [
       "<strong id=\"mult_8_5\">mult_8_5:</strong> <a class=\"ProveItLink\" href=\"../__pv_it/9a27b3e6cfce5ad40e0d7164b90f8ec63c6232160/expr.ipynb\"><img src=\"data:image/png;base64,iVBORw0KGgoAAAANSUhEUgAAAGEAAAAUBAMAAABvx07iAAAAMFBMVEX////MzMxUVFR2dna6uroQ\n",
       "EBCqqqqIiIgiIiJmZmYyMjJERETu7u6YmJjc3NwAAACgK8IjAAAAAXRSTlMAQObYZgAAAZtJREFU\n",
       "KM99k79Lw1AQx79Nf1DTl1D8B5q1glgcDHaxYzcRXBSROLrYoDh00U4ODhKoCE4VN6VIcRLEmkUU\n",
       "HBoQF9HaUTepP0BE6qVtWpsXcsPj3d37JPd9dw+QLXC2Aj+7Ba7Xdnuu+BjYg9DgzwUMQL2L0+4E\n",
       "MCBoTiLcaqXADngiqkDU2A4gGYhY/46I4xu0qjyxruAeSBPaQLACVnASQnu94gD5QcEpkDPxAoR+\n",
       "zKA1SIgZNxEUFTSBaQ158sZ+J3oZ4SlP6oKGm6iLCvsmQseFzbfKvUzMlD9IXVtX+ti2I3vLdFGR\n",
       "34GEji1yl7OfdhWsC50BkYK7KBBB/0ikMEsfVLC5QNFa98JKDQTeXMQSelURETYR+OrcODACTGU4\n",
       "gqXQUZ7T7KpqFBp1cvP0DxOhQl/HIe0iyf3SnH4OPJu28jDNRNUh6JK2HeUDFnY6OEn9KEPSncQr\n",
       "pEVgKMUTFUQ1NgNkyRku9idRLiZN6mCc6+Bl02Lqarw9JR524zPskuEVVf3eR9Uj5jXtAy+Ks1jD\n",
       "j/B6tXWf839u02Z1cPgViwAAAABJRU5ErkJggg==\n",
       "\" style=\"display:inline;vertical-align:middle;\" /></a><br>(see <a class=\"ProveItLink\" href=\"../__pv_it/9a27b3e6cfce5ad40e0d7164b90f8ec63c6232160/dependencies.ipynb\">dependencies</a>)<br>"
      ],
      "text/plain": [
       "mult_8_5: (8 * 5) = 40"
      ]
     },
     "execution_count": 2,
     "metadata": {},
     "output_type": "execute_result"
    }
   ],
   "source": [
    "%proving mult_8_5 presuming []"
   ]
  },
  {
   "cell_type": "code",
   "execution_count": null,
   "metadata": {},
   "outputs": [],
   "source": []
  }
 ],
 "metadata": {
  "kernelspec": {
   "display_name": "Python 3",
   "language": "python",
   "name": "python3"
  }
 },
 "nbformat": 4,
 "nbformat_minor": 0
}
