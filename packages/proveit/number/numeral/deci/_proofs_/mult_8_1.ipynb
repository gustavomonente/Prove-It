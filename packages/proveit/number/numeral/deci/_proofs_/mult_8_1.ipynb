{
 "cells": [
  {
   "cell_type": "markdown",
   "metadata": {},
   "source": [
    "Proof of <a class=\"ProveItLink\" href=\"../../../../_context_.ipynb\">proveit</a>.<a class=\"ProveItLink\" href=\"../../../_context_.ipynb\">number</a>.<a class=\"ProveItLink\" href=\"../../_context_.ipynb\">numeral</a>.<a class=\"ProveItLink\" href=\"../_context_.ipynb\">deci</a>.<a class=\"ProveItLink\" href=\"../_theorems_.ipynb#mult_8_1\">mult_8_1</a> theorem\n",
    "========"
   ]
  },
  {
   "cell_type": "code",
   "execution_count": 1,
   "metadata": {},
   "outputs": [],
   "source": [
    "import proveit\n",
    "context = proveit.Context('..') # the theorem's context is in the parent directory"
   ]
  },
  {
   "cell_type": "code",
   "execution_count": 2,
   "metadata": {},
   "outputs": [
    {
     "name": "stdout",
     "output_type": "stream",
     "text": [
      "Beginning proof of mult_8_1\n",
      "Recorded 'presuming' information\n",
      "Presuming previous theorems (applied transitively).\n"
     ]
    },
    {
     "data": {
      "text/html": [
       "<strong id=\"mult_8_1\">mult_8_1:</strong> <a class=\"ProveItLink\" href=\"../__pv_it/6732bc59d6f1708d21c3c595930cb37903649e030/expr.ipynb\"><img src=\"data:image/png;base64,iVBORw0KGgoAAAANSUhEUgAAAFcAAAAUBAMAAAAKKrydAAAAMFBMVEX////MzMxUVFR2dna6uroQ\n",
       "EBCqqqqIiIgiIiJmZmYyMjJERETu7u6YmJjc3NwAAACgK8IjAAAAAXRSTlMAQObYZgAAAVVJREFU\n",
       "KM91k7FLw1AQxr8kbZrYPBH/AbsoOIjiYKkidiwuLo4iXR0UwUGczORqwK5CcVOK+AfUEgSx6NCg\n",
       "g5tkdHSpQ1XqvQ5Jc3k5QnL57peXu7wvwGSAVBwgI16Ap6NGUtNDTjnHlSpdbgEPej2SzR0qNTls\n",
       "A3OA8GAGY9WH5V86lzm8DzwDVgjjDo4byULCjxxeA7rAJ5D78Y0gCU9UGbzVxjpwQtni3wqSsOEx\n",
       "WB++0Vj3sjRsMViMZli9kXE9kjcGPnBGyV6tL1/rxLDpspXNxvk2QIco4ZS+F3rNCNa+GPyKQt+X\n",
       "cN6H9k2CVcqGabGZumyjRzcLyZ5zbtzzleyQHtYDOWCeNrejGnAsdoFiiAot04I4jOSChO0lBm/6\n",
       "eAdqlE1fxEayZweXtClTDNbmpZGsUGXFrtqhwlOp5Qw/dxRa2qKx+VNRDDNg1W/1oUb/AXvQWVmf\n",
       "s0gPAAAAAElFTkSuQmCC\n",
       "\" style=\"display:inline;vertical-align:middle;\" /></a><br>(see <a class=\"ProveItLink\" href=\"../__pv_it/6732bc59d6f1708d21c3c595930cb37903649e030/dependencies.ipynb\">dependencies</a>)<br>"
      ],
      "text/plain": [
       "mult_8_1: (8 * 1) = 8"
      ]
     },
     "execution_count": 2,
     "metadata": {},
     "output_type": "execute_result"
    }
   ],
   "source": [
    "%proving mult_8_1 presuming []"
   ]
  },
  {
   "cell_type": "code",
   "execution_count": null,
   "metadata": {},
   "outputs": [],
   "source": []
  }
 ],
 "metadata": {
  "kernelspec": {
   "display_name": "Python 3",
   "language": "python",
   "name": "python3"
  }
 },
 "nbformat": 4,
 "nbformat_minor": 0
}
