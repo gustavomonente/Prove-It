{
 "cells": [
  {
   "cell_type": "markdown",
   "metadata": {},
   "source": [
    "Proof of <a class=\"ProveItLink\" href=\"../../../../_context_.ipynb\">proveit</a>.<a class=\"ProveItLink\" href=\"../../../_context_.ipynb\">number</a>.<a class=\"ProveItLink\" href=\"../../_context_.ipynb\">numeral</a>.<a class=\"ProveItLink\" href=\"../_context_.ipynb\">decimal</a>.<a class=\"ProveItLink\" href=\"../_theorems_.ipynb#nat7\">nat7</a> theorem\n",
    "========"
   ]
  },
  {
   "cell_type": "code",
   "execution_count": 1,
   "metadata": {},
   "outputs": [],
   "source": [
    "import proveit\n",
    "context = proveit.Context('..') # the theorem's context is in the parent directory"
   ]
  },
  {
   "cell_type": "code",
   "execution_count": 2,
   "metadata": {},
   "outputs": [
    {
     "name": "stdout",
     "output_type": "stream",
     "text": [
      "Beginning proof of nat7\n",
      "Recorded 'presuming' information\n",
      "Presuming previous theorems (applied transitively).\n"
     ]
    },
    {
     "data": {
      "text/html": [
       "<strong id=\"nat7\">nat7:</strong> <a class=\"ProveItLink\" href=\"../__pv_it/c2edabc73a8bac2d2a6124441ae48138b8cafe1c0/expr.ipynb\"><img src=\"data:image/png;base64,iVBORw0KGgoAAAANSUhEUgAAADIAAAAPBAMAAABU9YHxAAAAMFBMVEX///8QEBCqqqoyMjLu7u5E\n",
       "RESIiIi6urrc3NyYmJh2dnZmZmZUVFQiIiLMzMwAAABzPQ5hAAAAAXRSTlMAQObYZgAAANRJREFU\n",
       "GNNjeHt61aoFDEiAxT7UhIFLXpxh/v///w8gyzCwTnjDwODPwLCDgYEHRYKB5x5bAgMjAwPQpHUQ\n",
       "kal37xqAZUodzjHwgljsCWCJpykwPX0HnB3AMqwQi03gpjWo8R0Ay6yE8hEyXAXTQDIsHxgQOqFq\n",
       "jvC8BTLYwNYyPDQGAgOojA+DIZDBGwCWaUXWw7fgIZDBD/EnI7IMwySQ4e83gPncCXCZBwwMXCAj\n",
       "9KGhdgkmw6wAJDYDcaMCRMAn3AFM890XBZLOyOFVFQsJHSgAAPcDMJwAY2v2AAAAAElFTkSuQmCC\n",
       "\" style=\"display:inline;vertical-align:middle;\" /></a><br>(see <a class=\"ProveItLink\" href=\"../__pv_it/c2edabc73a8bac2d2a6124441ae48138b8cafe1c0/dependencies.ipynb\">dependencies</a>)<br>"
      ],
      "text/plain": [
       "nat7: 7 in Naturals"
      ]
     },
     "execution_count": 2,
     "metadata": {},
     "output_type": "execute_result"
    }
   ],
   "source": [
    "%proving nat7 presuming []"
   ]
  },
  {
   "cell_type": "code",
   "execution_count": null,
   "metadata": {},
   "outputs": [],
   "source": []
  }
 ],
 "metadata": {
  "kernelspec": {
   "display_name": "Python 3",
   "language": "python",
   "name": "python3"
  }
 },
 "nbformat": 4,
 "nbformat_minor": 0
}
