{
 "cells": [
  {
   "cell_type": "markdown",
   "metadata": {},
   "source": [
    "Proof of <a class=\"ProveItLink\" href=\"../../../../_context_.ipynb\">proveit</a>.<a class=\"ProveItLink\" href=\"../../../_context_.ipynb\">number</a>.<a class=\"ProveItLink\" href=\"../../_context_.ipynb\">numeral</a>.<a class=\"ProveItLink\" href=\"../_context_.ipynb\">deci</a>.<a class=\"ProveItLink\" href=\"../_theorems_.ipynb#tuple_len_7\">tuple_len_7</a> theorem\n",
    "========"
   ]
  },
  {
   "cell_type": "code",
   "execution_count": 1,
   "metadata": {},
   "outputs": [],
   "source": [
    "import proveit\n",
    "context = proveit.Context('..') # the theorem's context is in the parent directory"
   ]
  },
  {
   "cell_type": "code",
   "execution_count": 2,
   "metadata": {},
   "outputs": [
    {
     "name": "stdout",
     "output_type": "stream",
     "text": [
      "Beginning proof of tuple_len_7\n",
      "Recorded 'presuming' information\n",
      "Presuming previous theorems (applied transitively).\n"
     ]
    },
    {
     "data": {
      "text/html": [
       "<strong id=\"tuple_len_7\">tuple_len_7:</strong> <a class=\"ProveItLink\" href=\"../__pv_it/b5a7c7271115b913d7f2b72b6e865ad7627a112c0/expr.ipynb\"><img src=\"data:image/png;base64,iVBORw0KGgoAAAANSUhEUgAAAUMAAAAWBAMAAACoKePEAAAAMFBMVEX///8QEBCIiIhmZma6urrM\n",
       "zMxUVFQiIiJERETc3Nzu7u6qqqp2dnaYmJgyMjIAAAAcRTyBAAAAAXRSTlMAQObYZgAABEVJREFU\n",
       "SMe9V02IHEUUfvPfU9MzE8STITDMuutBD+PcoitZySGnkNmLgiAzrOYgJLJg/EtymCBI1hBoL9m9\n",
       "JGldQQmy0ygo8eAOkxVF19CslxjYuBATMGIQ9ZCMkPW96lf9s13Nks1iwXS/elX96qvv/VQNwAO0\n",
       "F2A72/Zao1Z0YUkKZx/UUsmSryXd2EX8rZGwugXDn7BR0Q0pxYnp+MzciUZMNz9iBZ1XtBCff2l5\n",
       "uZ/HaT9Q79YWIP7GRitWWFtpaKZWnZjq0GJIt6CF+Mv6+npHIIVz5LPu/SMsN9joT5uhAThgb9SI\n",
       "fz4K9cyaDuJugDzAALeNn5vO/UMsWGz07U3QYPs2Hn5/RgDv0EHsA3wD8AGy8f2FC7Nb8PMsGy1O\n",
       "b4IG2/WYxox+9as+XbLIbmUC4M7Jk8e3AHGEjaYp+IrjzUc89c360zxhUG95mT8++i+TNVA5Un7y\n",
       "NY7ZUvNxjLJLeogGbQYnHgSY8WHfjkzZ0wp1Mj9Gxk6zUcPFx7NWxfOcuGf3PBizjiGLBY4ZQ++T\n",
       "fVaxr0K2xsJ3cB4xXPMhXr5NjWmnFctoZS+INX/hSxEYvXBn8ERk7BgbLWAci12Q8TKuNFSrH4e8\n",
       "jHAa8+yLnTCv9nyeBZqP077Usiho2yUMiQKkXV/7e2TO17F4CdrDbDSFsZIZQsEDhmh6kqnMUJGP\n",
       "Yx53+V31q+rrRX6nutDGBGtrIaZpaznEabqFQHs3MifC6TAZIi7Ua6myeMDhtX0QvQnPuZ14VrVd\n",
       "eAySIBa6DLG49hxV+7Eb1P9rjIqGWSdO5uuS009lB678TVyXB2MaRyNxTEvVhT2y7PRU1IXG+sHq\n",
       "76rybME7FKUbYvFmsKcs5f7My+j213PEUvqoTNAjuR2+StwScvdlScuYtLgxXXoOvOodtNUJjD3G\n",
       "CpLOYIz8rbLkocDhlO7XtCy2G5wu8DnizDRyhNaokQZDvyVVVFHzh70DPCOLy104FQqCJS4K+Nkb\n",
       "JvTw07xrNKSQ6WBukBCMYWjNW+Ked7hQ8tMGrDzxMK6FuEi0Z/pcAFJOuiMDC01jRwaRUnGNkn6e\n",
       "9kNyHxslR4ip0TOPQuEoSk0sFCTA8mrN0/hjMLKKNt6kOMhSrpKUnVomam5oIb5POCoU5GWbdmNc\n",
       "xVfVJnhV6RelskAGV4qmmh3JbMIB+FWyEEglGexdJQGyDmI68TIGHyshZbX3w5xdsK/gE8+cxpyN\n",
       "qhexYziiU3wPEdvYKXXyneRrRD9ZCCQTf19UXJZaMt311wgux/6xMvXZMzDp5A718VlsrtiTDqtE\n",
       "sw65ndKxkw40L/s1dIaNGuoyJmqJQkj6EH9vLbBkDmX6LSRfaUPHimxO7MmvkkeWw/7WX2nLkCiE\n",
       "JNriym6WsodHHFAHsBaiYWku6OGnel2EPw5S50zowME/BqPb88eg7C0yqhv7ecPU2FO9XBjUqHNu\n",
       "5Sn439t/Bk1YRjAfhbUAAAAASUVORK5CYII=\n",
       "\" style=\"display:inline;vertical-align:middle;\" /></a><br>(see <a class=\"ProveItLink\" href=\"../__pv_it/b5a7c7271115b913d7f2b72b6e865ad7627a112c0/dependencies.ipynb\">dependencies</a>)<br>"
      ],
      "text/plain": [
       "tuple_len_7: forall_{a, b, c, d, e, f, g} (|(a, b, c, d, e, f, g)| = 7)"
      ]
     },
     "execution_count": 2,
     "metadata": {},
     "output_type": "execute_result"
    }
   ],
   "source": [
    "%proving tuple_len_7 presuming []"
   ]
  },
  {
   "cell_type": "code",
   "execution_count": null,
   "metadata": {},
   "outputs": [],
   "source": []
  }
 ],
 "metadata": {
  "kernelspec": {
   "display_name": "Python 3",
   "language": "python",
   "name": "python3"
  }
 },
 "nbformat": 4,
 "nbformat_minor": 0
}
