{
 "cells": [
  {
   "cell_type": "markdown",
   "metadata": {},
   "source": [
    "Proof of <a class=\"ProveItLink\" href=\"../../../../_context_.ipynb\">proveit</a>.<a class=\"ProveItLink\" href=\"../../../_context_.ipynb\">number</a>.<a class=\"ProveItLink\" href=\"../../_context_.ipynb\">numeral</a>.<a class=\"ProveItLink\" href=\"../_context_.ipynb\">deci</a>.<a class=\"ProveItLink\" href=\"../_theorems_.ipynb#mult_4_8\">mult_4_8</a> theorem\n",
    "========"
   ]
  },
  {
   "cell_type": "code",
   "execution_count": 1,
   "metadata": {},
   "outputs": [],
   "source": [
    "import proveit\n",
    "context = proveit.Context('..') # the theorem's context is in the parent directory"
   ]
  },
  {
   "cell_type": "code",
   "execution_count": 2,
   "metadata": {},
   "outputs": [
    {
     "name": "stdout",
     "output_type": "stream",
     "text": [
      "Beginning proof of mult_4_8\n",
      "Recorded 'presuming' information\n",
      "Presuming previous theorems (applied transitively).\n"
     ]
    },
    {
     "data": {
      "text/html": [
       "<strong id=\"mult_4_8\">mult_4_8:</strong> <a class=\"ProveItLink\" href=\"../__pv_it/bbf5e355823053e6cb90cd200d55ffedbed1d5a70/expr.ipynb\"><img src=\"data:image/png;base64,iVBORw0KGgoAAAANSUhEUgAAAGEAAAAUBAMAAABvx07iAAAAMFBMVEX///9UVFTMzMx2dna6uroQ\n",
       "EBCqqqqIiIgiIiJmZmYyMjJERETu7u6YmJjc3NwAAAC+aOQFAAAAAXRSTlMAQObYZgAAAZRJREFU\n",
       "KM99kztLA0EQgL/E4GleWIkWYlorAxYhiphGEBsRDAiKnKWFtmJlbAQrUwhyaKGlFvoDfJ2IGLQw\n",
       "YmGlHNjEQhE0EAQ5dy+Pk9twU+ztzOw3O3MzC/EiiizhJ3dy6Wuo0eV0hoDlPRUfGNKJGicJsT+S\n",
       "hrWGqx06ie55iTdaf7mk5RtieaFrkw3XItxCykus6lTYhSy0yQTe9xuuISjAtZcYzfDDNPRalKSe\n",
       "dImJU4YhnFHqFVkdm/QmWBFKzHKJgP2oQ0teIQpJuW6anInPDS7ByI8pYjilDx5KOXDMrxvCTOgL\n",
       "1mVSVSLqXL61OSXWnHKHJsy0dYB0J6rEvQz8gFY2CX6qjcuKSwwc4ooqIQMwC/26SnzAhY4myxNZ\n",
       "zRtGebvecnE0UCSUc+twotmmJBaIW07l4HZwDiJWrfJ/MiN/UzCJZpGuG2oybvIkZiXpIZ5lP0oD\n",
       "6S4Ycxpt99RdwW4xiYQTHiJk7GQ4tu1KbUrUdvkMeyzfzJryex/nTWzqtCsvyiMRy49o9mpffM7/\n",
       "AU2qbF4oofN/AAAAAElFTkSuQmCC\n",
       "\" style=\"display:inline;vertical-align:middle;\" /></a><br>(see <a class=\"ProveItLink\" href=\"../__pv_it/bbf5e355823053e6cb90cd200d55ffedbed1d5a70/dependencies.ipynb\">dependencies</a>)<br>"
      ],
      "text/plain": [
       "mult_4_8: (4 * 8) = 32"
      ]
     },
     "execution_count": 2,
     "metadata": {},
     "output_type": "execute_result"
    }
   ],
   "source": [
    "%proving mult_4_8 presuming []"
   ]
  },
  {
   "cell_type": "code",
   "execution_count": null,
   "metadata": {},
   "outputs": [],
   "source": []
  }
 ],
 "metadata": {
  "kernelspec": {
   "display_name": "Python 3",
   "language": "python",
   "name": "python3"
  }
 },
 "nbformat": 4,
 "nbformat_minor": 0
}
