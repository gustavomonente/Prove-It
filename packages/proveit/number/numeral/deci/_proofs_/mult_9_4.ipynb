{
 "cells": [
  {
   "cell_type": "markdown",
   "metadata": {},
   "source": [
    "Proof of <a class=\"ProveItLink\" href=\"../../../../_context_.ipynb\">proveit</a>.<a class=\"ProveItLink\" href=\"../../../_context_.ipynb\">number</a>.<a class=\"ProveItLink\" href=\"../../_context_.ipynb\">numeral</a>.<a class=\"ProveItLink\" href=\"../_context_.ipynb\">deci</a>.<a class=\"ProveItLink\" href=\"../_theorems_.ipynb#mult_9_4\">mult_9_4</a> theorem\n",
    "========"
   ]
  },
  {
   "cell_type": "code",
   "execution_count": 1,
   "metadata": {},
   "outputs": [],
   "source": [
    "import proveit\n",
    "context = proveit.Context('..') # the theorem's context is in the parent directory"
   ]
  },
  {
   "cell_type": "code",
   "execution_count": 2,
   "metadata": {},
   "outputs": [
    {
     "name": "stdout",
     "output_type": "stream",
     "text": [
      "Beginning proof of mult_9_4\n",
      "Recorded 'presuming' information\n",
      "Presuming previous theorems (applied transitively).\n"
     ]
    },
    {
     "data": {
      "text/html": [
       "<strong id=\"mult_9_4\">mult_9_4:</strong> <a class=\"ProveItLink\" href=\"../__pv_it/4d7fd9b22f3a7120794bfd37749e54da032447b70/expr.ipynb\"><img src=\"data:image/png;base64,iVBORw0KGgoAAAANSUhEUgAAAGEAAAAUBAMAAABvx07iAAAAMFBMVEX////MzMxUVFR2dna6uroQ\n",
       "EBCqqqqIiIgiIiJmZmYyMjJERETu7u6YmJjc3NwAAACgK8IjAAAAAXRSTlMAQObYZgAAAZ1JREFU\n",
       "KM99k79LAmEYx796/qjzvRL8A3RpaAnLQazFJWirwYKowGgPlwinnIJausXBGpJoKSpcoiHKWwKj\n",
       "QbcgyIQIagmLCJHMnveV9Lg77uHg3nue5/P8uOd5gYEKTLIKO7kDbiMjOoVDhbNm9BqITCQBaX2U\n",
       "zmdgS3jResa+EFjeSLzB0wI7xC6gUMQZONWecS0ERI3ERhIN+FRcUsQaBvOQ6r38D0TcGInJOJqY\n",
       "FsW+AuUCvL9dmyQTIcdN/VJV5+KQBtyU46trqXJCUk1EKYxmIE2RrsBLklv/BpbihCJaHz/mciT0\n",
       "z1saa1awCf7gAivf3FkUBU54MqYc3gRrA1kNCV7ifeCDXmUeeFkQjrp5cLNaA3iKCwJw/nQGARa2\n",
       "Jt6BYnKbCFEYCffq/JHh3P58Cq5Mr48DfmxrRAyJHNS5soigbi3c3c51sgDsaEENWSBGPZ2wU53R\n",
       "XQD6wwbikc/DGWZzwBR9RnK6gUnFzwpkv4Fw5fbIJzbmF1tiISWbZVdUK23U7n5cW+jM2264USbx\n",
       "1ewIq1tbtfH/A95Za9kPThRGAAAAAElFTkSuQmCC\n",
       "\" style=\"display:inline;vertical-align:middle;\" /></a><br>(see <a class=\"ProveItLink\" href=\"../__pv_it/4d7fd9b22f3a7120794bfd37749e54da032447b70/dependencies.ipynb\">dependencies</a>)<br>"
      ],
      "text/plain": [
       "mult_9_4: (9 * 4) = 36"
      ]
     },
     "execution_count": 2,
     "metadata": {},
     "output_type": "execute_result"
    }
   ],
   "source": [
    "%proving mult_9_4 presuming []"
   ]
  },
  {
   "cell_type": "code",
   "execution_count": null,
   "metadata": {},
   "outputs": [],
   "source": []
  }
 ],
 "metadata": {
  "kernelspec": {
   "display_name": "Python 3",
   "language": "python",
   "name": "python3"
  }
 },
 "nbformat": 4,
 "nbformat_minor": 0
}
