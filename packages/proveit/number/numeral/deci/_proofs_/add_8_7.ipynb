{
 "cells": [
  {
   "cell_type": "markdown",
   "metadata": {},
   "source": [
    "Proof of <a class=\"ProveItLink\" href=\"../../../../_context_.ipynb\">proveit</a>.<a class=\"ProveItLink\" href=\"../../../_context_.ipynb\">number</a>.<a class=\"ProveItLink\" href=\"../../_context_.ipynb\">numeral</a>.<a class=\"ProveItLink\" href=\"../_context_.ipynb\">decimal</a>.<a class=\"ProveItLink\" href=\"../_theorems_.ipynb#add_8_7\">add_8_7</a> theorem\n",
    "========"
   ]
  },
  {
   "cell_type": "code",
   "execution_count": 1,
   "metadata": {},
   "outputs": [],
   "source": [
    "import proveit\n",
    "context = proveit.Context('..') # the theorem's context is in the parent directory"
   ]
  },
  {
   "cell_type": "code",
   "execution_count": 2,
   "metadata": {},
   "outputs": [
    {
     "name": "stdout",
     "output_type": "stream",
     "text": [
      "Beginning proof of add_8_7\n",
      "Recorded 'presuming' information\n",
      "Presuming previous theorems (applied transitively).\n"
     ]
    },
    {
     "data": {
      "text/html": [
       "<strong id=\"add_8_7\">add_8_7:</strong> <a class=\"ProveItLink\" href=\"../__pv_it/373694737ebf650feb8befc96afd281f44f728390/expr.ipynb\"><img src=\"data:image/png;base64,iVBORw0KGgoAAAANSUhEUgAAAGwAAAAUBAMAAACaOcVSAAAAMFBMVEX////MzMxUVFR2dna6uroQ\n",
       "EBCqqqqIiIgiIiJmZmYyMjJERETu7u6YmJjc3NwAAACgK8IjAAAAAXRSTlMAQObYZgAAAYNJREFU\n",
       "OMtjYOC7wIAdsD1gwANOMzAcL56CKsbYNNnYmEEPu4a1ByQTGBjWMTBMYGBKQJHh/f///yeGU5ha\n",
       "Ug8wMMT//wxUMYGB7QIDzwKIcDqE4gS6T4GBuQBNE4+yPlDbYnWgLMcDBuYNDDwNKNqYgUiAgScA\n",
       "w7b7B0DmAcELBgaW3weYL6BoAwJ3IF6CW1slEOv/NWNA17YBiC2xatO9PpGBYS/ITf/XoGsDW38L\n",
       "zFoFBhPg2vYwvHdgaANyMj2+OqBpOw8iMrDaxsDA3cAQAgxMBYb6GCDPatWq1lWrFoHlq0CEPA5t\n",
       "nP9A2lgPMDB+Q7OtG6c2pgUMzF9AjgQ5SBdN2ycQ4YHkNwWYNtYFDJx/QEHCCoy+fajaGH8ywIIE\n",
       "3TZOYFwvAAUyyxoG3gJUbWyfQeRkDG31Bxj4JjBcfQB2iNDkKWgRwBcGIhei65oUv/ICw0ujOeDE\n",
       "hQTSUZJgA+58wzsBmXcGmYORlJHBPpwypwhkU5INBPkeV6HAi6dQAAA+0HQIQDcDCwAAAABJRU5E\n",
       "rkJggg==\n",
       "\" style=\"display:inline;vertical-align:middle;\" /></a><br>(see <a class=\"ProveItLink\" href=\"../__pv_it/373694737ebf650feb8befc96afd281f44f728390/dependencies.ipynb\">dependencies</a>)<br>"
      ],
      "text/plain": [
       "add_8_7: (8 + 7) = 15"
      ]
     },
     "execution_count": 2,
     "metadata": {},
     "output_type": "execute_result"
    }
   ],
   "source": [
    "%proving add_8_7 presuming []"
   ]
  },
  {
   "cell_type": "code",
   "execution_count": null,
   "metadata": {},
   "outputs": [],
   "source": []
  }
 ],
 "metadata": {
  "kernelspec": {
   "display_name": "Python 3",
   "language": "python",
   "name": "python3"
  }
 },
 "nbformat": 4,
 "nbformat_minor": 0
}
