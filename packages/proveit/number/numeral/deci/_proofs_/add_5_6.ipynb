{
 "cells": [
  {
   "cell_type": "markdown",
   "metadata": {},
   "source": [
    "Proof of <a class=\"ProveItLink\" href=\"../../../../_context_.ipynb\">proveit</a>.<a class=\"ProveItLink\" href=\"../../../_context_.ipynb\">number</a>.<a class=\"ProveItLink\" href=\"../../_context_.ipynb\">numeral</a>.<a class=\"ProveItLink\" href=\"../_context_.ipynb\">decimal</a>.<a class=\"ProveItLink\" href=\"../_theorems_.ipynb#add_5_6\">add_5_6</a> theorem\n",
    "========"
   ]
  },
  {
   "cell_type": "code",
   "execution_count": 1,
   "metadata": {},
   "outputs": [],
   "source": [
    "import proveit\n",
    "context = proveit.Context('..') # the theorem's context is in the parent directory"
   ]
  },
  {
   "cell_type": "code",
   "execution_count": 2,
   "metadata": {},
   "outputs": [
    {
     "name": "stdout",
     "output_type": "stream",
     "text": [
      "Beginning proof of add_5_6\n",
      "Recorded 'presuming' information\n",
      "Presuming previous theorems (applied transitively).\n"
     ]
    },
    {
     "data": {
      "text/html": [
       "<strong id=\"add_5_6\">add_5_6:</strong> <a class=\"ProveItLink\" href=\"../__pv_it/a174bcbdea45eacdd9f13230ef12f642d6f322d20/expr.ipynb\"><img src=\"data:image/png;base64,iVBORw0KGgoAAAANSUhEUgAAAGsAAAAUBAMAAAB45d4rAAAAMFBMVEX///9UVFTMzMx2dna6uroQ\n",
       "EBCqqqqIiIgiIiJmZmYyMjJERETu7u6YmJjc3NwAAAC+aOQFAAAAAXRSTlMAQObYZgAAAU5JREFU\n",
       "OMtjYOC7wIAdsD1gwANOMzCsPaCZgCZqXqzAIIdP2zoGhvj/n9EETzlwLmA4hak49QCU4J3AwLBY\n",
       "HOaedCi9k4F7AwNzAZomHmH5AxCCgQOoQwAuAdXG8g+sKgDDtvsHoMQLBizauCEaluDWVgmkZa9P\n",
       "QtXGv8h8CpCyxK1tL5Dew/DeAUXb+bUMHMCwvQViM68Cgwmo2togrmpA1faBgTOGgSEDt20hYC4n\n",
       "KAysVq1qXbVqIciRDQy8XxgY9PFqY1zAwPwFxTaOBQy8f/FqAzqSdQED5x8UbYwBYNs8kPwmgBEk\n",
       "nGDjkbUx/WHgDIAGCXbbgIHMN4Hh6gPUVCLMcBQYkpMxtNUfgBIgh7w0nIOWuJgnCwHJRei6Jsav\n",
       "vAAhOFCyRzpKEmzAnQF4JyDzziBzMJIyMtiHU+YUgWxKsoFAgLNQ4MVTKAAAMu94ZTL55nUAAAAA\n",
       "SUVORK5CYII=\n",
       "\" style=\"display:inline;vertical-align:middle;\" /></a><br>(see <a class=\"ProveItLink\" href=\"../__pv_it/a174bcbdea45eacdd9f13230ef12f642d6f322d20/dependencies.ipynb\">dependencies</a>)<br>"
      ],
      "text/plain": [
       "add_5_6: (5 + 6) = 11"
      ]
     },
     "execution_count": 2,
     "metadata": {},
     "output_type": "execute_result"
    }
   ],
   "source": [
    "%proving add_5_6 presuming []"
   ]
  },
  {
   "cell_type": "code",
   "execution_count": null,
   "metadata": {},
   "outputs": [],
   "source": []
  }
 ],
 "metadata": {
  "kernelspec": {
   "display_name": "Python 3",
   "language": "python",
   "name": "python3"
  }
 },
 "nbformat": 4,
 "nbformat_minor": 0
}
