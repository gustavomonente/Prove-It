{
 "cells": [
  {
   "cell_type": "markdown",
   "metadata": {},
   "source": [
    "Theorem <a class=\"ProveItLink\" href=\"../../_theorems_.ipynb#tuple_len_5\">tuple_len_5</a> of type <a class=\"ProveItLink\" href=\"../../../../../../../doc/html/api/proveit.logic.Forall.html\">Forall</a>\n",
    "=======================\n",
    "# from context <a class=\"ProveItLink\" href=\"../../_context_.ipynb\">proveit.number.numeral.deci</a>\n",
    "*** see <a class=\"ProveItLink\" href=\"dependencies.ipynb\">dependencies</a> ***"
   ]
  },
  {
   "cell_type": "code",
   "execution_count": 1,
   "metadata": {},
   "outputs": [],
   "source": [
    "import proveit\n",
    "# Automation is not needed when only building an expression:\n",
    "proveit.defaults.automation = False # This will speed things up.\n",
    "proveit.defaults.inline_pngs = False # Makes files smaller.\n",
    "# import the special expression\n",
    "from proveit.number.numeral.deci._theorems_ import tuple_len_5"
   ]
  },
  {
   "cell_type": "code",
   "execution_count": 2,
   "metadata": {},
   "outputs": [
    {
     "name": "stdout",
     "output_type": "stream",
     "text": [
      "Passed sanity check: built 'tuple_len_5' is the same as the stored Expression.\n"
     ]
    }
   ],
   "source": [
    "# check that the built expression is the same as the stored expression\n",
    "%check_expr tuple_len_5"
   ]
  },
  {
   "cell_type": "code",
   "execution_count": 3,
   "metadata": {},
   "outputs": [
    {
     "name": "stdout",
     "output_type": "stream",
     "text": [
      "\\vdash \\forall_{a, b, c, d, e}~\\left(|\\left(a, b, c, d, e\\right)| = 5\\right)\n"
     ]
    }
   ],
   "source": [
    "# Show the LaTeX representation of the expression for convenience if you need it.\n",
    "print(tuple_len_5.latex())"
   ]
  },
  {
   "cell_type": "code",
   "execution_count": 4,
   "metadata": {},
   "outputs": [
    {
     "data": {
      "text/html": [
       "<table><tr><th>&nbsp;</th><th>core type</th><th>sub-expressions</th><th>expression</th></tr>\n",
       "<tr><td>0</td><td>Operation</td><td>operator:&nbsp;1<br>operand:&nbsp;2<br></td><td><a class=\"ProveItLink\" href=\"expr.ipynb\"><img src=\"expr.png\" style=\"display:inline;vertical-align:middle;\" /></a></td></tr>\n",
       "<tr><td>1</td><td>Literal</td><td></td><td><a class=\"ProveItLink\" href=\"../../../../../logic/boolean/quantification/universal/__pv_it/fd9c772d6675566ed52a6897806f45eb08a4ea910/expr.ipynb\"><img src=\"../../../../../logic/boolean/quantification/universal/__pv_it/fd9c772d6675566ed52a6897806f45eb08a4ea910/expr.png\" style=\"display:inline;vertical-align:middle;\" /></a></td></tr>\n",
       "<tr><td>2</td><td>Lambda</td><td>parameters:&nbsp;10<br>body:&nbsp;3<br></td><td><a class=\"ProveItLink\" href=\"../15a63485a97b397d340917e79bc9d6c94c31988e0/expr.ipynb\"><img src=\"../15a63485a97b397d340917e79bc9d6c94c31988e0/expr.png\" style=\"display:inline;vertical-align:middle;\" /></a></td></tr>\n",
       "<tr><td>3</td><td>Operation</td><td>operator:&nbsp;4<br>operands:&nbsp;5<br></td><td><a class=\"ProveItLink\" href=\"../94b3a359b4be6117b8773435b87e9ea5825b2a1e0/expr.ipynb\"><img src=\"../94b3a359b4be6117b8773435b87e9ea5825b2a1e0/expr.png\" style=\"display:inline;vertical-align:middle;\" /></a></td></tr>\n",
       "<tr><td>4</td><td>Literal</td><td></td><td><a class=\"ProveItLink\" href=\"../../../../../logic/equality/__pv_it/e16d2caa26a16688b658bdb9c422caf4b84579e10/expr.ipynb\"><img src=\"../../../../../logic/equality/__pv_it/e16d2caa26a16688b658bdb9c422caf4b84579e10/expr.png\" style=\"display:inline;vertical-align:middle;\" /></a></td></tr>\n",
       "<tr><td>5</td><td>ExprTuple</td><td>6, 7</td><td><a class=\"ProveItLink\" href=\"../3b1163391c99a323da7451351c949dbf81965b3a0/expr.ipynb\"><img src=\"../3b1163391c99a323da7451351c949dbf81965b3a0/expr.png\" style=\"display:inline;vertical-align:middle;\" /></a></td></tr>\n",
       "<tr><td>6</td><td>Operation</td><td>operator:&nbsp;8<br>operand:&nbsp;10<br></td><td><a class=\"ProveItLink\" href=\"../7d84d86fadd4ed631cb1af640b391f2ab03e15ed0/expr.ipynb\"><img src=\"../7d84d86fadd4ed631cb1af640b391f2ab03e15ed0/expr.png\" style=\"display:inline;vertical-align:middle;\" /></a></td></tr>\n",
       "<tr><td>7</td><td>Literal</td><td></td><td><a class=\"ProveItLink\" href=\"../../../__pv_it/830e48d37e889933bd796fdae0e7d924860887e30/expr.ipynb\"><img src=\"../../../__pv_it/830e48d37e889933bd796fdae0e7d924860887e30/expr.png\" style=\"display:inline;vertical-align:middle;\" /></a></td></tr>\n",
       "<tr><td>8</td><td>Literal</td><td></td><td><a class=\"ProveItLink\" href=\"../../../../../core_expr_types/tuples/__pv_it/92831c6291223dfbd76a11e90e750ae52564aa9f0/expr.ipynb\"><img src=\"../../../../../core_expr_types/tuples/__pv_it/92831c6291223dfbd76a11e90e750ae52564aa9f0/expr.png\" style=\"display:inline;vertical-align:middle;\" /></a></td></tr>\n",
       "<tr><td>9</td><td>ExprTuple</td><td>10</td><td><a class=\"ProveItLink\" href=\"../b3a57c838cef326dcf996a8fa7154c73dbdf02cd0/expr.ipynb\"><img src=\"../b3a57c838cef326dcf996a8fa7154c73dbdf02cd0/expr.png\" style=\"display:inline;vertical-align:middle;\" /></a></td></tr>\n",
       "<tr><td>10</td><td>ExprTuple</td><td>11, 12, 13, 14, 15</td><td><a class=\"ProveItLink\" href=\"../c4b80fd5b8f5204bef87202699a2962f011e719c0/expr.ipynb\"><img src=\"../c4b80fd5b8f5204bef87202699a2962f011e719c0/expr.png\" style=\"display:inline;vertical-align:middle;\" /></a></td></tr>\n",
       "<tr><td>11</td><td>Variable</td><td></td><td><a class=\"ProveItLink\" href=\"../../../../../__pv_it/a8d4b3a34d2189508f9082853fbac36935714f280/expr.ipynb\"><img src=\"../../../../../__pv_it/a8d4b3a34d2189508f9082853fbac36935714f280/expr.png\" style=\"display:inline;vertical-align:middle;\" /></a></td></tr>\n",
       "<tr><td>12</td><td>Variable</td><td></td><td><a class=\"ProveItLink\" href=\"../../../../../__pv_it/53e304ff98ebc000dbe3ef224f4637dbafd46ba70/expr.ipynb\"><img src=\"../../../../../__pv_it/53e304ff98ebc000dbe3ef224f4637dbafd46ba70/expr.png\" style=\"display:inline;vertical-align:middle;\" /></a></td></tr>\n",
       "<tr><td>13</td><td>Variable</td><td></td><td><a class=\"ProveItLink\" href=\"../../../../../__pv_it/b2b446b221a34ee579eb9a1fbdd4ac4e2891d8c70/expr.ipynb\"><img src=\"../../../../../__pv_it/b2b446b221a34ee579eb9a1fbdd4ac4e2891d8c70/expr.png\" style=\"display:inline;vertical-align:middle;\" /></a></td></tr>\n",
       "<tr><td>14</td><td>Variable</td><td></td><td><a class=\"ProveItLink\" href=\"../../../../../__pv_it/445e790c2b62732eb8597a2ddda4cbd1a8fb79140/expr.ipynb\"><img src=\"../../../../../__pv_it/445e790c2b62732eb8597a2ddda4cbd1a8fb79140/expr.png\" style=\"display:inline;vertical-align:middle;\" /></a></td></tr>\n",
       "<tr><td>15</td><td>Variable</td><td></td><td><a class=\"ProveItLink\" href=\"../../../../../__pv_it/6567d413600fdd7d84eba6ba11e2ea39697434560/expr.ipynb\"><img src=\"../../../../../__pv_it/6567d413600fdd7d84eba6ba11e2ea39697434560/expr.png\" style=\"display:inline;vertical-align:middle;\" /></a></td></tr>\n",
       "</table>\n"
      ],
      "text/plain": [
       "0. forall_{a, b, c, d, e} (|(a, b, c, d, e)| = 5)\n",
       "   core type: Operation\n",
       "   operator: 1\n",
       "   operand: 2\n",
       "1. forall\n",
       "   core type: Literal\n",
       "   sub-expressions: \n",
       "2. (a, b, c, d, e) -> (|(a, b, c, d, e)| = 5)\n",
       "   core type: Lambda\n",
       "   parameters: 10\\n   body: 3\n",
       "3. |(a, b, c, d, e)| = 5\n",
       "   core type: Operation\n",
       "   operator: 4\n",
       "   operands: 5\n",
       "4. =\n",
       "   core type: Literal\n",
       "   sub-expressions: \n",
       "5. (|(a, b, c, d, e)|, 5)\n",
       "   core type: ExprTuple\n",
       "   sub-expressions: 6, 7\n",
       "6. |(a, b, c, d, e)|\n",
       "   core type: Operation\n",
       "   operator: 8\n",
       "   operand: 10\n",
       "7. 5\n",
       "   core type: Literal\n",
       "   sub-expressions: \n",
       "8. length\n",
       "   core type: Literal\n",
       "   sub-expressions: \n",
       "9. ((a, b, c, d, e))\n",
       "   core type: ExprTuple\n",
       "   sub-expressions: 10\n",
       "10. (a, b, c, d, e)\n",
       "    core type: ExprTuple\n",
       "    sub-expressions: 11, 12, 13, 14, 15\n",
       "11. a\n",
       "    core type: Variable\n",
       "    sub-expressions: \n",
       "12. b\n",
       "    core type: Variable\n",
       "    sub-expressions: \n",
       "13. c\n",
       "    core type: Variable\n",
       "    sub-expressions: \n",
       "14. d\n",
       "    core type: Variable\n",
       "    sub-expressions: \n",
       "15. e\n",
       "    core type: Variable\n",
       "    sub-expressions: "
      ]
     },
     "execution_count": 4,
     "metadata": {},
     "output_type": "execute_result"
    }
   ],
   "source": [
    "# display the expression information\n",
    "tuple_len_5.exprInfo()"
   ]
  },
  {
   "cell_type": "code",
   "execution_count": null,
   "metadata": {},
   "outputs": [],
   "source": []
  }
 ],
 "metadata": {
  "kernelspec": {
   "display_name": "Python 3",
   "language": "python",
   "name": "python3"
  },
  "language_info": {
   "codemirror_mode": {
    "name": "ipython",
    "version": 3
   },
   "file_extension": ".py",
   "mimetype": "text/x-python",
   "name": "python",
   "nbconvert_exporter": "python",
   "pygments_lexer": "ipython3",
   "version": "3.7.3"
  }
 },
 "nbformat": 4,
 "nbformat_minor": 1
}
