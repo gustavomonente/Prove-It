{
 "cells": [
  {
   "cell_type": "markdown",
   "metadata": {},
   "source": [
    "Theorem Dependencies\n",
    "=======================\n",
    "\n",
    "## <a class=\"ProveItLink\" href=\"../../_context_.ipynb\">proveit.number.numeral.deci</a>.<a class=\"ProveItLink\" href=\"../../_theorems_.ipynb#nat2\">nat2</a> \n",
    "***see <a class=\"ProveItLink\" href=\"../../_proofs_/nat2.ipynb\">proof</a>***"
   ]
  },
  {
   "cell_type": "code",
   "execution_count": 1,
   "metadata": {},
   "outputs": [],
   "source": [
    "import proveit\n",
    "# Automation is not needed when querying dependencies:\n",
    "proveit.defaults.automation = False # This will speed things up.\n",
    "proveit.defaults.inline_pngs = False # Makes files smaller.\n",
    "from proveit.number.numeral.deci._theorems_ import nat2"
   ]
  },
  {
   "cell_type": "code",
   "execution_count": 2,
   "metadata": {},
   "outputs": [
    {
     "data": {
      "text/html": [
       "<h3>This theorem has not been proven yet.</h3>"
      ],
      "text/plain": [
       "<IPython.core.display.HTML object>"
      ]
     },
     "metadata": {},
     "output_type": "display_data"
    },
    {
     "data": {
      "text/html": [
       "<h3>Theorems that depend directly on nat2</h3>"
      ],
      "text/plain": [
       "<IPython.core.display.HTML object>"
      ]
     },
     "metadata": {},
     "output_type": "display_data"
    },
    {
     "data": {
      "text/html": [
       "<dl>"
      ],
      "text/plain": [
       "<IPython.core.display.HTML object>"
      ]
     },
     "metadata": {},
     "output_type": "display_data"
    },
    {
     "data": {
      "text/html": [
       "<dt><a class=\"ProveItLink\" href=\"../../../../../logic/boolean/conjunction/_proofs_/nandIfNotRight.ipynb\">proveit.logic.boolean.conjunction.nandIfNotRight</a></dt><dd><a class=\"ProveItLink\" href=\"../../../../../logic/boolean/conjunction/__pv_it/58940e15458f3da6ff43c8e15e3de78f3e24b2a80/expr.ipynb\"><img src=\"../../../../../logic/boolean/conjunction/__pv_it/58940e15458f3da6ff43c8e15e3de78f3e24b2a80/expr.png\" style=\"display:inline;vertical-align:middle;\" /></a></dd>"
      ],
      "text/plain": [
       "<IPython.core.display.HTML object>"
      ]
     },
     "metadata": {},
     "output_type": "display_data"
    },
    {
     "data": {
      "text/html": [
       "<dt><a class=\"ProveItLink\" href=\"../../../../../logic/boolean/disjunction/_proofs_/demorgansLawAndToOrBinExplicit.ipynb\">proveit.logic.boolean.disjunction.demorgansLawAndToOrBinExplicit</a></dt><dd><a class=\"ProveItLink\" href=\"../../../../../logic/boolean/disjunction/__pv_it/7a274a0bdefa1bb073d5a6de0bebdab7c77bae8e0/expr.ipynb\"><img src=\"../../../../../logic/boolean/disjunction/__pv_it/7a274a0bdefa1bb073d5a6de0bebdab7c77bae8e0/expr.png\" style=\"display:inline;vertical-align:middle;\" /></a></dd>"
      ],
      "text/plain": [
       "<IPython.core.display.HTML object>"
      ]
     },
     "metadata": {},
     "output_type": "display_data"
    },
    {
     "data": {
      "text/html": [
       "<dt><a class=\"ProveItLink\" href=\"../../../../../logic/boolean/_proofs_/foldInBool.ipynb\">proveit.logic.boolean.foldInBool</a></dt><dd><a class=\"ProveItLink\" href=\"../../../../../logic/boolean/__pv_it/9300bc7be353f503ccce9fa98fe975180929f5ba0/expr.ipynb\"><img src=\"../../../../../logic/boolean/__pv_it/9300bc7be353f503ccce9fa98fe975180929f5ba0/expr.png\" style=\"display:inline;vertical-align:middle;\" /></a></dd>"
      ],
      "text/plain": [
       "<IPython.core.display.HTML object>"
      ]
     },
     "metadata": {},
     "output_type": "display_data"
    },
    {
     "data": {
      "text/html": [
       "<dt><a class=\"ProveItLink\" href=\"../../../../../logic/boolean/implication/_proofs_/eqFromIff.ipynb\">proveit.logic.boolean.implication.eqFromIff</a></dt><dd><a class=\"ProveItLink\" href=\"../../../../../logic/boolean/implication/__pv_it/01bdd68577324f7cfbfe86b23025825aef6015950/expr.ipynb\"><img src=\"../../../../../logic/boolean/implication/__pv_it/01bdd68577324f7cfbfe86b23025825aef6015950/expr.png\" style=\"display:inline;vertical-align:middle;\" /></a></dd>"
      ],
      "text/plain": [
       "<IPython.core.display.HTML object>"
      ]
     },
     "metadata": {},
     "output_type": "display_data"
    },
    {
     "data": {
      "text/html": [
       "<dt><a class=\"ProveItLink\" href=\"../../../../../logic/boolean/implication/_proofs_/eqFromMutualImpl.ipynb\">proveit.logic.boolean.implication.eqFromMutualImpl</a></dt><dd><a class=\"ProveItLink\" href=\"../../../../../logic/boolean/implication/__pv_it/3f276a98ff5d2c9b126b1bea3066e685e5174a470/expr.ipynb\"><img src=\"../../../../../logic/boolean/implication/__pv_it/3f276a98ff5d2c9b126b1bea3066e685e5174a470/expr.png\" style=\"display:inline;vertical-align:middle;\" /></a></dd>"
      ],
      "text/plain": [
       "<IPython.core.display.HTML object>"
      ]
     },
     "metadata": {},
     "output_type": "display_data"
    },
    {
     "data": {
      "text/html": [
       "<dt><a class=\"ProveItLink\" href=\"../../../../../logic/boolean/_proofs_/inBoolDef.ipynb\">proveit.logic.boolean.inBoolDef</a></dt><dd><a class=\"ProveItLink\" href=\"../../../../../logic/boolean/__pv_it/ae6b23fd5e8fbc845a57d52d0b863954f9ea97680/expr.ipynb\"><img src=\"../../../../../logic/boolean/__pv_it/ae6b23fd5e8fbc845a57d52d0b863954f9ea97680/expr.png\" style=\"display:inline;vertical-align:middle;\" /></a></dd>"
      ],
      "text/plain": [
       "<IPython.core.display.HTML object>"
      ]
     },
     "metadata": {},
     "output_type": "display_data"
    },
    {
     "data": {
      "text/html": [
       "<dt><a class=\"ProveItLink\" href=\"../../../../../logic/boolean/_proofs_/unfoldInBoolExplicit.ipynb\">proveit.logic.boolean.unfoldInBoolExplicit</a></dt><dd><a class=\"ProveItLink\" href=\"../../../../../logic/boolean/__pv_it/b0063e6cefff43b4c01f463be07b9b4645af3c4c0/expr.ipynb\"><img src=\"../../../../../logic/boolean/__pv_it/b0063e6cefff43b4c01f463be07b9b4645af3c4c0/expr.png\" style=\"display:inline;vertical-align:middle;\" /></a></dd>"
      ],
      "text/plain": [
       "<IPython.core.display.HTML object>"
      ]
     },
     "metadata": {},
     "output_type": "display_data"
    },
    {
     "data": {
      "text/html": [
       "<dt><a class=\"ProveItLink\" href=\"../../../../../physics/quantum/QPE/_proofs_/two_pow_t_not_zero.ipynb\">proveit.physics.quantum.QPE.two_pow_t_not_zero</a></dt><dd><a class=\"ProveItLink\" href=\"../../../../../physics/quantum/QPE/__pv_it/5959e84a0e932ebd60d5f1bda62d32ca116dffb80/expr.ipynb\"><img src=\"../../../../../physics/quantum/QPE/__pv_it/5959e84a0e932ebd60d5f1bda62d32ca116dffb80/expr.png\" style=\"display:inline;vertical-align:middle;\" /></a></dd>"
      ],
      "text/plain": [
       "<IPython.core.display.HTML object>"
      ]
     },
     "metadata": {},
     "output_type": "display_data"
    },
    {
     "data": {
      "text/html": [
       "</dl>"
      ],
      "text/plain": [
       "<IPython.core.display.HTML object>"
      ]
     },
     "metadata": {},
     "output_type": "display_data"
    }
   ],
   "source": [
    "%dependencies nat2"
   ]
  }
 ],
 "metadata": {
  "kernelspec": {
   "display_name": "Python 3",
   "language": "python",
   "name": "python3"
  },
  "language_info": {
   "codemirror_mode": {
    "name": "ipython",
    "version": 3
   },
   "file_extension": ".py",
   "mimetype": "text/x-python",
   "name": "python",
   "nbconvert_exporter": "python",
   "pygments_lexer": "ipython3",
   "version": "3.7.3"
  }
 },
 "nbformat": 4,
 "nbformat_minor": 1
}
