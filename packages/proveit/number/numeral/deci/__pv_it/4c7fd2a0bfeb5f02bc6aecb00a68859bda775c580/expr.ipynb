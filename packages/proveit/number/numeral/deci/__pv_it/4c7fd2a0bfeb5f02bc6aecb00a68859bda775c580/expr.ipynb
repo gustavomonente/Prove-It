{
 "cells": [
  {
   "cell_type": "markdown",
   "metadata": {},
   "source": [
    "Theorem <a class=\"ProveItLink\" href=\"../../_theorems_.ipynb#tuple_len_6_typical_equiv\">tuple_len_6_typical_equiv</a> of type <a class=\"ProveItLink\" href=\"../../../../../../../doc/html/api/proveit.logic.Forall.html\">Forall</a>\n",
    "=======================\n",
    "# from context <a class=\"ProveItLink\" href=\"../../_context_.ipynb\">proveit.number.numeral.deci</a>\n",
    "*** see <a class=\"ProveItLink\" href=\"dependencies.ipynb\">dependencies</a> ***"
   ]
  },
  {
   "cell_type": "code",
   "execution_count": 1,
   "metadata": {},
   "outputs": [],
   "source": [
    "import proveit\n",
    "# Automation is not needed when only building an expression:\n",
    "proveit.defaults.automation = False # This will speed things up.\n",
    "proveit.defaults.inline_pngs = False # Makes files smaller.\n",
    "# import the special expression\n",
    "from proveit.number.numeral.deci._theorems_ import tuple_len_6_typical_equiv"
   ]
  },
  {
   "cell_type": "code",
   "execution_count": 2,
   "metadata": {},
   "outputs": [
    {
     "name": "stdout",
     "output_type": "stream",
     "text": [
      "Passed sanity check: built 'tuple_len_6_typical_equiv' is the same as the stored Expression.\n"
     ]
    }
   ],
   "source": [
    "# check that the built expression is the same as the stored expression\n",
    "%check_expr tuple_len_6_typical_equiv"
   ]
  },
  {
   "cell_type": "code",
   "execution_count": 3,
   "metadata": {},
   "outputs": [
    {
     "name": "stdout",
     "output_type": "stream",
     "text": [
      "\\vdash \\forall_{a, b, c, d, e, f}~\\left(|\\left(a, b, c, d, e, f\\right)| = |\\left(1, \\ldots, 6\\right)|\\right)\n"
     ]
    }
   ],
   "source": [
    "# Show the LaTeX representation of the expression for convenience if you need it.\n",
    "print(tuple_len_6_typical_equiv.latex())"
   ]
  },
  {
   "cell_type": "code",
   "execution_count": 4,
   "metadata": {},
   "outputs": [
    {
     "data": {
      "text/html": [
       "<table><tr><th>&nbsp;</th><th>core type</th><th>sub-expressions</th><th>expression</th></tr>\n",
       "<tr><td>0</td><td>Operation</td><td>operator:&nbsp;1<br>operand:&nbsp;2<br></td><td><a class=\"ProveItLink\" href=\"expr.ipynb\"><img src=\"expr.png\" style=\"display:inline;vertical-align:middle;\" /></a></td></tr>\n",
       "<tr><td>1</td><td>Literal</td><td></td><td><a class=\"ProveItLink\" href=\"../../../../../logic/boolean/quantification/universal/__pv_it/fd9c772d6675566ed52a6897806f45eb08a4ea910/expr.ipynb\"><img src=\"../../../../../logic/boolean/quantification/universal/__pv_it/fd9c772d6675566ed52a6897806f45eb08a4ea910/expr.png\" style=\"display:inline;vertical-align:middle;\" /></a></td></tr>\n",
       "<tr><td>2</td><td>Lambda</td><td>parameters:&nbsp;11<br>body:&nbsp;3<br></td><td><a class=\"ProveItLink\" href=\"../e3ad21dbbac297269eaed57729e81cd492bcc05a0/expr.ipynb\"><img src=\"../e3ad21dbbac297269eaed57729e81cd492bcc05a0/expr.png\" style=\"display:inline;vertical-align:middle;\" /></a></td></tr>\n",
       "<tr><td>3</td><td>Operation</td><td>operator:&nbsp;4<br>operands:&nbsp;5<br></td><td><a class=\"ProveItLink\" href=\"../02042e1efc421b4a688a73d0dedffd2627969e0c0/expr.ipynb\"><img src=\"../02042e1efc421b4a688a73d0dedffd2627969e0c0/expr.png\" style=\"display:inline;vertical-align:middle;\" /></a></td></tr>\n",
       "<tr><td>4</td><td>Literal</td><td></td><td><a class=\"ProveItLink\" href=\"../../../../../logic/equality/__pv_it/e16d2caa26a16688b658bdb9c422caf4b84579e10/expr.ipynb\"><img src=\"../../../../../logic/equality/__pv_it/e16d2caa26a16688b658bdb9c422caf4b84579e10/expr.png\" style=\"display:inline;vertical-align:middle;\" /></a></td></tr>\n",
       "<tr><td>5</td><td>ExprTuple</td><td>6, 7</td><td><a class=\"ProveItLink\" href=\"../31cc0ca4d984de8cf50926c6a34dde18edcaa5230/expr.ipynb\"><img src=\"../31cc0ca4d984de8cf50926c6a34dde18edcaa5230/expr.png\" style=\"display:inline;vertical-align:middle;\" /></a></td></tr>\n",
       "<tr><td>6</td><td>Operation</td><td>operator:&nbsp;9<br>operand:&nbsp;11<br></td><td><a class=\"ProveItLink\" href=\"../085d1c38c39279138cae2c0de6c5301746dbdc3a0/expr.ipynb\"><img src=\"../085d1c38c39279138cae2c0de6c5301746dbdc3a0/expr.png\" style=\"display:inline;vertical-align:middle;\" /></a></td></tr>\n",
       "<tr><td>7</td><td>Operation</td><td>operator:&nbsp;9<br>operand:&nbsp;12<br></td><td><a class=\"ProveItLink\" href=\"../fb7a14992295c5a9ea4562d3cbdbbc14dc5acd780/expr.ipynb\"><img src=\"../fb7a14992295c5a9ea4562d3cbdbbc14dc5acd780/expr.png\" style=\"display:inline;vertical-align:middle;\" /></a></td></tr>\n",
       "<tr><td>8</td><td>ExprTuple</td><td>11</td><td><a class=\"ProveItLink\" href=\"../04218e21594f43b205be5ece742db8787fbe1c7d0/expr.ipynb\"><img src=\"../04218e21594f43b205be5ece742db8787fbe1c7d0/expr.png\" style=\"display:inline;vertical-align:middle;\" /></a></td></tr>\n",
       "<tr><td>9</td><td>Literal</td><td></td><td><a class=\"ProveItLink\" href=\"../../../../../core_expr_types/tuples/__pv_it/92831c6291223dfbd76a11e90e750ae52564aa9f0/expr.ipynb\"><img src=\"../../../../../core_expr_types/tuples/__pv_it/92831c6291223dfbd76a11e90e750ae52564aa9f0/expr.png\" style=\"display:inline;vertical-align:middle;\" /></a></td></tr>\n",
       "<tr><td>10</td><td>ExprTuple</td><td>12</td><td><a class=\"ProveItLink\" href=\"../250168d640983cf03be261dd2d25244c2a5a22ea0/expr.ipynb\"><img src=\"../250168d640983cf03be261dd2d25244c2a5a22ea0/expr.png\" style=\"display:inline;vertical-align:middle;\" /></a></td></tr>\n",
       "<tr><td>11</td><td>ExprTuple</td><td>13, 14, 15, 16, 17, 18</td><td><a class=\"ProveItLink\" href=\"../396339983c8db05bf79f0cc4203fc35b184e9dd00/expr.ipynb\"><img src=\"../396339983c8db05bf79f0cc4203fc35b184e9dd00/expr.png\" style=\"display:inline;vertical-align:middle;\" /></a></td></tr>\n",
       "<tr><td>12</td><td>ExprTuple</td><td>19</td><td><a class=\"ProveItLink\" href=\"../c477e3ab177ba20bdee809c2fe8e30e85cdd4c860/expr.ipynb\"><img src=\"../c477e3ab177ba20bdee809c2fe8e30e85cdd4c860/expr.png\" style=\"display:inline;vertical-align:middle;\" /></a></td></tr>\n",
       "<tr><td>13</td><td>Variable</td><td></td><td><a class=\"ProveItLink\" href=\"../../../../../__pv_it/a8d4b3a34d2189508f9082853fbac36935714f280/expr.ipynb\"><img src=\"../../../../../__pv_it/a8d4b3a34d2189508f9082853fbac36935714f280/expr.png\" style=\"display:inline;vertical-align:middle;\" /></a></td></tr>\n",
       "<tr><td>14</td><td>Variable</td><td></td><td><a class=\"ProveItLink\" href=\"../../../../../__pv_it/53e304ff98ebc000dbe3ef224f4637dbafd46ba70/expr.ipynb\"><img src=\"../../../../../__pv_it/53e304ff98ebc000dbe3ef224f4637dbafd46ba70/expr.png\" style=\"display:inline;vertical-align:middle;\" /></a></td></tr>\n",
       "<tr><td>15</td><td>Variable</td><td></td><td><a class=\"ProveItLink\" href=\"../../../../../__pv_it/b2b446b221a34ee579eb9a1fbdd4ac4e2891d8c70/expr.ipynb\"><img src=\"../../../../../__pv_it/b2b446b221a34ee579eb9a1fbdd4ac4e2891d8c70/expr.png\" style=\"display:inline;vertical-align:middle;\" /></a></td></tr>\n",
       "<tr><td>16</td><td>Variable</td><td></td><td><a class=\"ProveItLink\" href=\"../../../../../__pv_it/445e790c2b62732eb8597a2ddda4cbd1a8fb79140/expr.ipynb\"><img src=\"../../../../../__pv_it/445e790c2b62732eb8597a2ddda4cbd1a8fb79140/expr.png\" style=\"display:inline;vertical-align:middle;\" /></a></td></tr>\n",
       "<tr><td>17</td><td>Variable</td><td></td><td><a class=\"ProveItLink\" href=\"../../../../../__pv_it/6567d413600fdd7d84eba6ba11e2ea39697434560/expr.ipynb\"><img src=\"../../../../../__pv_it/6567d413600fdd7d84eba6ba11e2ea39697434560/expr.png\" style=\"display:inline;vertical-align:middle;\" /></a></td></tr>\n",
       "<tr><td>18</td><td>Variable</td><td></td><td><a class=\"ProveItLink\" href=\"../../../../../__pv_it/d7bbb04e874e28c7cefb21d4eea40806ae52f1f70/expr.ipynb\"><img src=\"../../../../../__pv_it/d7bbb04e874e28c7cefb21d4eea40806ae52f1f70/expr.png\" style=\"display:inline;vertical-align:middle;\" /></a></td></tr>\n",
       "<tr><td>19</td><td>ExprRange</td><td>lambda_map:&nbsp;20<br>start_index:&nbsp;21<br>end_index:&nbsp;22<br></td><td><a class=\"ProveItLink\" href=\"../d53096e20921b91d40e288b278baa40066a10de90/expr.ipynb\"><img src=\"../d53096e20921b91d40e288b278baa40066a10de90/expr.png\" style=\"display:inline;vertical-align:middle;\" /></a></td></tr>\n",
       "<tr><td>20</td><td>Lambda</td><td>parameter:&nbsp;23<br>body:&nbsp;23<br></td><td><a class=\"ProveItLink\" href=\"../627c209e964673b8a193e829389aa751568b13af0/expr.ipynb\"><img src=\"../627c209e964673b8a193e829389aa751568b13af0/expr.png\" style=\"display:inline;vertical-align:middle;\" /></a></td></tr>\n",
       "<tr><td>21</td><td>Literal</td><td></td><td><a class=\"ProveItLink\" href=\"../../../__pv_it/f086f8c372bd40a2458306ddfdbb29f3dc6f63030/expr.ipynb\"><img src=\"../../../__pv_it/f086f8c372bd40a2458306ddfdbb29f3dc6f63030/expr.png\" style=\"display:inline;vertical-align:middle;\" /></a></td></tr>\n",
       "<tr><td>22</td><td>Literal</td><td></td><td><a class=\"ProveItLink\" href=\"../../../__pv_it/07a35308bd6695ab29139c4cb73e1de420f279b00/expr.ipynb\"><img src=\"../../../__pv_it/07a35308bd6695ab29139c4cb73e1de420f279b00/expr.png\" style=\"display:inline;vertical-align:middle;\" /></a></td></tr>\n",
       "<tr><td>23</td><td>Variable</td><td></td><td><a class=\"ProveItLink\" href=\"../../../../../__pv_it/273f49450ca25e1b56abbd98a7aef618f8f6c1360/expr.ipynb\"><img src=\"../../../../../__pv_it/273f49450ca25e1b56abbd98a7aef618f8f6c1360/expr.png\" style=\"display:inline;vertical-align:middle;\" /></a></td></tr>\n",
       "</table>\n"
      ],
      "text/plain": [
       "0. forall_{a, b, c, d, e, f} (|(a, b, c, d, e, f)| = |(1, ..k.., 6)|)\n",
       "   core type: Operation\n",
       "   operator: 1\n",
       "   operand: 2\n",
       "1. forall\n",
       "   core type: Literal\n",
       "   sub-expressions: \n",
       "2. (a, b, c, d, e, f) -> (|(a, b, c, d, e, f)| = |(1, ..k.., 6)|)\n",
       "   core type: Lambda\n",
       "   parameters: 11\\n   body: 3\n",
       "3. |(a, b, c, d, e, f)| = |(1, ..k.., 6)|\n",
       "   core type: Operation\n",
       "   operator: 4\n",
       "   operands: 5\n",
       "4. =\n",
       "   core type: Literal\n",
       "   sub-expressions: \n",
       "5. (|(a, b, c, d, e, f)|, |(1, ..k.., 6)|)\n",
       "   core type: ExprTuple\n",
       "   sub-expressions: 6, 7\n",
       "6. |(a, b, c, d, e, f)|\n",
       "   core type: Operation\n",
       "   operator: 9\n",
       "   operand: 11\n",
       "7. |(1, ..k.., 6)|\n",
       "   core type: Operation\n",
       "   operator: 9\n",
       "   operand: 12\n",
       "8. ((a, b, c, d, e, f))\n",
       "   core type: ExprTuple\n",
       "   sub-expressions: 11\n",
       "9. length\n",
       "   core type: Literal\n",
       "   sub-expressions: \n",
       "10. ((1, ..k.., 6))\n",
       "    core type: ExprTuple\n",
       "    sub-expressions: 12\n",
       "11. (a, b, c, d, e, f)\n",
       "    core type: ExprTuple\n",
       "    sub-expressions: 13, 14, 15, 16, 17, 18\n",
       "12. (1, ..k.., 6)\n",
       "    core type: ExprTuple\n",
       "    sub-expressions: 19\n",
       "13. a\n",
       "    core type: Variable\n",
       "    sub-expressions: \n",
       "14. b\n",
       "    core type: Variable\n",
       "    sub-expressions: \n",
       "15. c\n",
       "    core type: Variable\n",
       "    sub-expressions: \n",
       "16. d\n",
       "    core type: Variable\n",
       "    sub-expressions: \n",
       "17. e\n",
       "    core type: Variable\n",
       "    sub-expressions: \n",
       "18. f\n",
       "    core type: Variable\n",
       "    sub-expressions: \n",
       "19. 1, ..k.., 6\n",
       "    core type: ExprRange\n",
       "    lambda_map: 20\n",
       "    start_index: 21\n",
       "    end_index: 22\n",
       "20. k -> k\n",
       "    core type: Lambda\n",
       "    parameter: 23\n",
       "    body: 23\n",
       "21. 1\n",
       "    core type: Literal\n",
       "    sub-expressions: \n",
       "22. 6\n",
       "    core type: Literal\n",
       "    sub-expressions: \n",
       "23. k\n",
       "    core type: Variable\n",
       "    sub-expressions: "
      ]
     },
     "execution_count": 4,
     "metadata": {},
     "output_type": "execute_result"
    }
   ],
   "source": [
    "# display the expression information\n",
    "tuple_len_6_typical_equiv.exprInfo()"
   ]
  },
  {
   "cell_type": "code",
   "execution_count": null,
   "metadata": {},
   "outputs": [],
   "source": []
  }
 ],
 "metadata": {
  "kernelspec": {
   "display_name": "Python 3",
   "language": "python",
   "name": "python3"
  },
  "language_info": {
   "codemirror_mode": {
    "name": "ipython",
    "version": 3
   },
   "file_extension": ".py",
   "mimetype": "text/x-python",
   "name": "python",
   "nbconvert_exporter": "python",
   "pygments_lexer": "ipython3",
   "version": "3.7.3"
  }
 },
 "nbformat": 4,
 "nbformat_minor": 1
}
