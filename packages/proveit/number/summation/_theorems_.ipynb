{
 "cells": [
  {
   "cell_type": "markdown",
   "metadata": {},
   "source": [
    "Theorems for context <a href=\"_context_.ipynb\" class=\"ProveItLink\">proveit.number.summation</a>\n",
    "========"
   ]
  },
  {
   "cell_type": "code",
   "execution_count": null,
   "metadata": {},
   "outputs": [],
   "source": [
    "import proveit\n",
    "# Automation is not needed when building theorem expressions:\n",
    "proveit.defaults.automation = False # This will speed things up.\n",
    "# the context is in the current directory:\n",
    "context = proveit.Context('.') # adds context root to sys.path if necessary\n",
    "from proveit.logic import Implies, Forall, Equals, InSet\n",
    "from proveit.number import subtract, frac, Sum, Exp, Naturals, Integers, Reals, Complexes, Interval, zero, one, infinity\n",
    "from proveit._common_ import m, x, P, Px, S, Q"
   ]
  },
  {
   "cell_type": "code",
   "execution_count": null,
   "metadata": {},
   "outputs": [],
   "source": [
    "%begin theorems"
   ]
  },
  {
   "cell_type": "code",
   "execution_count": null,
   "metadata": {},
   "outputs": [],
   "source": [
    "\"\"\"\n",
    "summationNatsClosure = Forall([P, S, Qmulti], Implies(Forall(xMulti, InSet(PxEtc, Naturals), domain=S, conditions=etc_QxEtc), \n",
    "                                              InSet(Sum(xMulti, PxEtc, domain=S, conditions=etc_QxEtc), domain=Naturals)))\n",
    "\n",
    "\"\"\""
   ]
  },
  {
   "cell_type": "code",
   "execution_count": null,
   "metadata": {},
   "outputs": [],
   "source": [
    "\"\"\"\n",
    "summationIntsClosure = Forall([P, S, Qmulti], Implies(Forall(xMulti, InSet(PxEtc, Integers), domain=S, conditions=etc_QxEtc), \n",
    "                                              InSet(Sum(xMulti, PxEtc, domain=S, conditions=etc_QxEtc), domain=Integers)))\n",
    "\"\"\""
   ]
  },
  {
   "cell_type": "code",
   "execution_count": null,
   "metadata": {},
   "outputs": [],
   "source": [
    "\"\"\"\n",
    "summationRealsClosure = Forall([P, S, Qmulti], Implies(Forall(xMulti, InSet(PxEtc, Reals), domain=S, conditions=etc_QxEtc), \n",
    "                                              InSet(Sum(xMulti, PxEtc, domain=S, conditions=etc_QxEtc), domain=Reals)))\n",
    "\"\"\""
   ]
  },
  {
   "cell_type": "code",
   "execution_count": null,
   "metadata": {},
   "outputs": [],
   "source": [
    "\"\"\"\n",
    "summationComplexesClosure = Forall([P, S, Qmulti], Implies(Forall(xMulti, InSet(PxEtc, Complexes), domain=S, conditions=etc_QxEtc), \n",
    "                                              InSet(Sum(xMulti, PxEtc, domain=S, conditions=etc_QxEtc), Complexes)))\n",
    "\"\"\""
   ]
  },
  {
   "cell_type": "code",
   "execution_count": null,
   "metadata": {},
   "outputs": [],
   "source": [
    "infGeomSum = Forall(x, Equals(Sum(m,Exp(x,m),\n",
    "                                  domain=Interval(zero,infinity)), \n",
    "                              frac(one,subtract(one,x))),\n",
    "                    domain=Complexes)"
   ]
  },
  {
   "cell_type": "code",
   "execution_count": null,
   "metadata": {},
   "outputs": [],
   "source": [
    "%end theorems"
   ]
  },
  {
   "cell_type": "code",
   "execution_count": null,
   "metadata": {},
   "outputs": [],
   "source": []
  }
 ],
 "metadata": {
  "kernelspec": {
   "display_name": "Python 3",
   "language": "python",
   "name": "python3"
  }
 },
 "nbformat": 4,
 "nbformat_minor": 0
}
