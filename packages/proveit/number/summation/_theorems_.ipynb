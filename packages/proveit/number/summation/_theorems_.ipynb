{
 "cells": [
  {
   "cell_type": "markdown",
   "metadata": {},
   "source": [
    "Theorems (or conjectures) for the theory of <a class=\"ProveItLink\" href=\"_theory_.ipynb\">proveit.number.summation</a>\n",
    "========"
   ]
  },
  {
   "cell_type": "code",
   "execution_count": null,
   "metadata": {},
   "outputs": [],
   "source": [
    "import proveit\n",
    "# Prepare this notebook for defining the theorems of a theory:\n",
    "%theorems_notebook # Keep this at the top following 'import proveit'.\n",
    "from proveit.logic import Implies, Forall, Equals, InSet\n",
    "from proveit.number import Add, Div, Exp, frac, Mult, subtract, Sum\n",
    "# removed Frac, Substract from line above; added Div, frac, substract\n",
    "from proveit.number import Naturals, NaturalsPos, Integers, Reals\n",
    "from proveit.number import Complexes, Interval, zero, one, two, infinity\n",
    "from proveit._common_ import i, m, n, x, P, Px, S, Q"
   ]
  },
  {
   "cell_type": "code",
   "execution_count": null,
   "metadata": {},
   "outputs": [],
   "source": [
    "%begin theorems"
   ]
  },
  {
   "cell_type": "code",
   "execution_count": null,
   "metadata": {},
   "outputs": [],
   "source": [
    "\"\"\"\n",
    "summationNatsClosure = Forall([P, S, Qmulti], Implies(Forall(xMulti, InSet(PxEtc, Naturals), domain=S, conditions=etc_QxEtc), \n",
    "                                              InSet(Sum(xMulti, PxEtc, domain=S, conditions=etc_QxEtc), domain=Naturals)))\n",
    "\n",
    "\"\"\""
   ]
  },
  {
   "cell_type": "code",
   "execution_count": null,
   "metadata": {},
   "outputs": [],
   "source": [
    "\"\"\"\n",
    "summationIntsClosure = Forall([P, S, Qmulti], Implies(Forall(xMulti, InSet(PxEtc, Integers), domain=S, conditions=etc_QxEtc), \n",
    "                                              InSet(Sum(xMulti, PxEtc, domain=S, conditions=etc_QxEtc), domain=Integers)))\n",
    "\"\"\""
   ]
  },
  {
   "cell_type": "code",
   "execution_count": null,
   "metadata": {},
   "outputs": [],
   "source": [
    "\"\"\"\n",
    "summationRealsClosure = Forall([P, S, Qmulti], Implies(Forall(xMulti, InSet(PxEtc, Reals), domain=S, conditions=etc_QxEtc), \n",
    "                                              InSet(Sum(xMulti, PxEtc, domain=S, conditions=etc_QxEtc), domain=Reals)))\n",
    "\"\"\""
   ]
  },
  {
   "cell_type": "code",
   "execution_count": null,
   "metadata": {},
   "outputs": [],
   "source": [
    "\"\"\"\n",
    "summationComplexesClosure = Forall([P, S, Qmulti], Implies(Forall(xMulti, InSet(PxEtc, Complexes), domain=S, conditions=etc_QxEtc), \n",
    "                                              InSet(Sum(xMulti, PxEtc, domain=S, conditions=etc_QxEtc), Complexes)))\n",
    "\"\"\""
   ]
  },
  {
   "cell_type": "code",
   "execution_count": null,
   "metadata": {},
   "outputs": [],
   "source": [
    "infGeomSum = Forall(x, Equals(Sum(m,Exp(x,m),\n",
    "                                  domain=Interval(zero,infinity)), \n",
    "                              frac(one,subtract(one,x))),\n",
    "                    domain=Complexes)"
   ]
  },
  {
   "cell_type": "code",
   "execution_count": null,
   "metadata": {},
   "outputs": [],
   "source": [
    "sumFirstNInts = Forall(n,\n",
    "                       Equals( Sum(i, i, domain=Interval(one, n)),\n",
    "                               frac(Mult(n, Add(n, one)), two) ),\n",
    "                       domain=NaturalsPos)"
   ]
  },
  {
   "cell_type": "code",
   "execution_count": null,
   "metadata": {},
   "outputs": [],
   "source": [
    "%end theorems"
   ]
  },
  {
   "cell_type": "code",
   "execution_count": null,
   "metadata": {},
   "outputs": [],
   "source": []
  }
 ],
 "metadata": {
  "kernelspec": {
   "display_name": "Python 3",
   "language": "python",
   "name": "python3"
  }
 },
 "nbformat": 4,
 "nbformat_minor": 0
}
