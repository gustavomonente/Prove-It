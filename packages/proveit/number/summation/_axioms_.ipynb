{
 "cells": [
  {
   "cell_type": "markdown",
   "metadata": {},
   "source": [
    "Axioms for context <a href=\"_context_.ipynb\" class=\"ProveItLink\">proveit.number.summation</a>\n",
    "========"
   ]
  },
  {
   "cell_type": "code",
   "execution_count": null,
   "metadata": {},
   "outputs": [],
   "source": [
    "import proveit\n",
    "# Automation is not needed when building axiom expressions:\n",
    "proveit.defaults.automation = False # This will speed things up.\n",
    "from proveit.logic import Implies, Forall, Equals, InSet\n",
    "from proveit.number import Add, Exp, Mult, Sum\n",
    "# removed Frac, Substract from the line above\n",
    "from proveit.number import Naturals, NaturalsPos, Integers, Reals\n",
    "from proveit.number import Complexes, Interval, zero, one, two, three, infinity\n",
    "from proveit._common_ import a, f, i, m, n, x, fa, fx, P, Px, S, Q\n",
    "# the context is in the current directory:\n",
    "context = proveit.Context('.') # adds context root to sys.path if necessary"
   ]
  },
  {
   "cell_type": "code",
   "execution_count": null,
   "metadata": {},
   "outputs": [],
   "source": [
    "%begin axioms"
   ]
  },
  {
   "cell_type": "code",
   "execution_count": null,
   "metadata": {},
   "outputs": [],
   "source": [
    "sumSingle = Forall(f,\n",
    "                   Forall(a,\n",
    "                          Equals(Sum(x, fx, domain=Interval(a,a)), fa),\n",
    "                          domain=Integers)\n",
    "                  )"
   ]
  },
  {
   "cell_type": "code",
   "execution_count": null,
   "metadata": {},
   "outputs": [],
   "source": [
    "%end axioms"
   ]
  }
 ],
 "metadata": {
  "kernelspec": {
   "display_name": "Python 3",
   "language": "python",
   "name": "python3"
  }
 },
 "nbformat": 4,
 "nbformat_minor": 0
}
