{
 "cells": [
  {
   "cell_type": "markdown",
   "metadata": {},
   "source": [
    "Expression of type <a class=\"ProveItLink\" href=\"../../../../../../doc/html/api/proveit.Conditional.html\">Conditional</a>\n",
    "=======================\n",
    "# from context <a class=\"ProveItLink\" href=\"../../_context_.ipynb\">proveit.number.summation</a>"
   ]
  },
  {
   "cell_type": "code",
   "execution_count": 1,
   "metadata": {},
   "outputs": [],
   "source": [
    "import proveit\n",
    "# Automation is not needed when building an expression:\n",
    "proveit.defaults.automation = False # This will speed things up.\n",
    "proveit.defaults.inline_pngs = False # Makes files smaller.\n",
    "# import Expression classes needed to build the expression\n",
    "from proveit import Conditional\n",
    "from proveit._common_ import m, x\n",
    "from proveit.logic import Equals, InSet\n",
    "from proveit.number import Add, Complexes, Exp, Interval, Neg, Sum, frac, infinity, one, zero"
   ]
  },
  {
   "cell_type": "code",
   "execution_count": 2,
   "metadata": {},
   "outputs": [
    {
     "data": {
      "text/html": [
       "<strong id=\"expr\">expr:</strong> <a class=\"ProveItLink\" href=\"expr.ipynb\"><img src=\"expr.png\" style=\"display:inline;vertical-align:middle;\" /></a><br>"
      ],
      "text/plain": [
       "expr: {(Sum_{m=0}^{infinity} x^{m}) = (1 / (1 - x)) if x in Complexes."
      ]
     },
     "execution_count": 2,
     "metadata": {},
     "output_type": "execute_result"
    }
   ],
   "source": [
    "# build up the expression from sub-expressions\n",
    "expr = Conditional(Equals(Sum([m], Exp(x, m), domain = Interval(zero, infinity)), frac(one, Add(one, Neg(x)))), InSet(x, Complexes))"
   ]
  },
  {
   "cell_type": "code",
   "execution_count": 3,
   "metadata": {},
   "outputs": [
    {
     "name": "stdout",
     "output_type": "stream",
     "text": [
      "Passed sanity check: built 'expr' is the same as the stored Expression.\n"
     ]
    }
   ],
   "source": [
    "# check that the built expression is the same as the stored expression\n",
    "%check_expr"
   ]
  },
  {
   "cell_type": "code",
   "execution_count": 4,
   "metadata": {},
   "outputs": [
    {
     "name": "stdout",
     "output_type": "stream",
     "text": [
      "\\left\\{\\left(\\sum_{m=0}^{\\infty} x^{m}\\right) = \\frac{1}{1 - x} \\textrm{ if } x \\in \\mathbb{C}\\right..\n"
     ]
    }
   ],
   "source": [
    "# Show the LaTeX representation of the expression for convenience if you need it.\n",
    "print(expr.latex())"
   ]
  },
  {
   "cell_type": "code",
   "execution_count": 5,
   "metadata": {},
   "outputs": [
    {
     "data": {
      "text/html": [
       "<table><tr><th>&nbsp;</th><th>core type</th><th>sub-expressions</th><th>expression</th></tr>\n",
       "<tr><td>0</td><td>Conditional</td><td>value:&nbsp;1<br>condition:&nbsp;2<br></td><td><a class=\"ProveItLink\" href=\"expr.ipynb\"><img src=\"expr.png\" style=\"display:inline;vertical-align:middle;\" /></a></td></tr>\n",
       "<tr><td>1</td><td>Operation</td><td>operator:&nbsp;3<br>operands:&nbsp;4<br></td><td><a class=\"ProveItLink\" href=\"../744a587925f5c66954082be1b74b962bb8836d2e0/expr.ipynb\"><img src=\"../744a587925f5c66954082be1b74b962bb8836d2e0/expr.png\" style=\"display:inline;vertical-align:middle;\" /></a></td></tr>\n",
       "<tr><td>2</td><td>Operation</td><td>operator:&nbsp;21<br>operands:&nbsp;5<br></td><td><a class=\"ProveItLink\" href=\"../b528d44018b090201680500d221abf73643960c70/expr.ipynb\"><img src=\"../b528d44018b090201680500d221abf73643960c70/expr.png\" style=\"display:inline;vertical-align:middle;\" /></a></td></tr>\n",
       "<tr><td>3</td><td>Literal</td><td></td><td><a class=\"ProveItLink\" href=\"../../../../logic/equality/__pv_it/e16d2caa26a16688b658bdb9c422caf4b84579e10/expr.ipynb\"><img src=\"../../../../logic/equality/__pv_it/e16d2caa26a16688b658bdb9c422caf4b84579e10/expr.png\" style=\"display:inline;vertical-align:middle;\" /></a></td></tr>\n",
       "<tr><td>4</td><td>ExprTuple</td><td>6, 7</td><td><a class=\"ProveItLink\" href=\"../9feb29e0d1260c2199fc710d4b6cc0133e02dcad0/expr.ipynb\"><img src=\"../9feb29e0d1260c2199fc710d4b6cc0133e02dcad0/expr.png\" style=\"display:inline;vertical-align:middle;\" /></a></td></tr>\n",
       "<tr><td>5</td><td>ExprTuple</td><td>28, 8</td><td><a class=\"ProveItLink\" href=\"../9b226e4874d9ba4c6b445e5f2e4ef0f274ac238b0/expr.ipynb\"><img src=\"../9b226e4874d9ba4c6b445e5f2e4ef0f274ac238b0/expr.png\" style=\"display:inline;vertical-align:middle;\" /></a></td></tr>\n",
       "<tr><td>6</td><td>Operation</td><td>operator:&nbsp;9<br>operand:&nbsp;10<br></td><td><a class=\"ProveItLink\" href=\"../250bf2016d1692992790e6a27d07d7bb7fb28db60/expr.ipynb\"><img src=\"../250bf2016d1692992790e6a27d07d7bb7fb28db60/expr.png\" style=\"display:inline;vertical-align:middle;\" /></a></td></tr>\n",
       "<tr><td>7</td><td>Operation</td><td>operator:&nbsp;11<br>operands:&nbsp;12<br></td><td><a class=\"ProveItLink\" href=\"../2ce13c84d3e812b3dff8a02e3446908b50b0a09d0/expr.ipynb\"><img src=\"../2ce13c84d3e812b3dff8a02e3446908b50b0a09d0/expr.png\" style=\"display:inline;vertical-align:middle;\" /></a></td></tr>\n",
       "<tr><td>8</td><td>Literal</td><td></td><td><a class=\"ProveItLink\" href=\"../../../sets/complex/__pv_it/8a5866946d766bfd951bcdff07a1a39af0935c430/expr.ipynb\"><img src=\"../../../sets/complex/__pv_it/8a5866946d766bfd951bcdff07a1a39af0935c430/expr.png\" style=\"display:inline;vertical-align:middle;\" /></a></td></tr>\n",
       "<tr><td>9</td><td>Literal</td><td></td><td><a class=\"ProveItLink\" href=\"../96de221ba4d1688e87f6d74acf330cfa5b0488570/expr.ipynb\"><img src=\"../96de221ba4d1688e87f6d74acf330cfa5b0488570/expr.png\" style=\"display:inline;vertical-align:middle;\" /></a></td></tr>\n",
       "<tr><td>10</td><td>Lambda</td><td>parameter:&nbsp;25<br>body:&nbsp;13<br></td><td><a class=\"ProveItLink\" href=\"../9ad0527bb43a0514176ed4c1912429db688a27650/expr.ipynb\"><img src=\"../9ad0527bb43a0514176ed4c1912429db688a27650/expr.png\" style=\"display:inline;vertical-align:middle;\" /></a></td></tr>\n",
       "<tr><td>11</td><td>Literal</td><td></td><td><a class=\"ProveItLink\" href=\"../../../division/__pv_it/7a11ad25d6e61156459ac6819a1cec8fded2dde30/expr.ipynb\"><img src=\"../../../division/__pv_it/7a11ad25d6e61156459ac6819a1cec8fded2dde30/expr.png\" style=\"display:inline;vertical-align:middle;\" /></a></td></tr>\n",
       "<tr><td>12</td><td>ExprTuple</td><td>23, 14</td><td><a class=\"ProveItLink\" href=\"../99ae25eac38a7370995dbfe97aef3c3ed15740670/expr.ipynb\"><img src=\"../99ae25eac38a7370995dbfe97aef3c3ed15740670/expr.png\" style=\"display:inline;vertical-align:middle;\" /></a></td></tr>\n",
       "<tr><td>13</td><td>Conditional</td><td>value:&nbsp;15<br>condition:&nbsp;16<br></td><td><a class=\"ProveItLink\" href=\"../8f5f85e8c9c56f26dffc6ebe547bf6b49ccbf16e0/expr.ipynb\"><img src=\"../8f5f85e8c9c56f26dffc6ebe547bf6b49ccbf16e0/expr.png\" style=\"display:inline;vertical-align:middle;\" /></a></td></tr>\n",
       "<tr><td>14</td><td>Operation</td><td>operator:&nbsp;17<br>operands:&nbsp;18<br></td><td><a class=\"ProveItLink\" href=\"../63206ceafab3164eac08233cc951422360d5e7fa0/expr.ipynb\"><img src=\"../63206ceafab3164eac08233cc951422360d5e7fa0/expr.png\" style=\"display:inline;vertical-align:middle;\" /></a></td></tr>\n",
       "<tr><td>15</td><td>Operation</td><td>operator:&nbsp;19<br>operands:&nbsp;20<br></td><td><a class=\"ProveItLink\" href=\"../7090544b5e0a0824f973c46fe41afac8d856f7860/expr.ipynb\"><img src=\"../7090544b5e0a0824f973c46fe41afac8d856f7860/expr.png\" style=\"display:inline;vertical-align:middle;\" /></a></td></tr>\n",
       "<tr><td>16</td><td>Operation</td><td>operator:&nbsp;21<br>operands:&nbsp;22<br></td><td><a class=\"ProveItLink\" href=\"../d75a06e93503a2633fb296328ff1b042ff5feb810/expr.ipynb\"><img src=\"../d75a06e93503a2633fb296328ff1b042ff5feb810/expr.png\" style=\"display:inline;vertical-align:middle;\" /></a></td></tr>\n",
       "<tr><td>17</td><td>Literal</td><td></td><td><a class=\"ProveItLink\" href=\"../../../addition/__pv_it/65ad7e8aee19b10110d590375ba95a879c4fb7ea0/expr.ipynb\"><img src=\"../../../addition/__pv_it/65ad7e8aee19b10110d590375ba95a879c4fb7ea0/expr.png\" style=\"display:inline;vertical-align:middle;\" /></a></td></tr>\n",
       "<tr><td>18</td><td>ExprTuple</td><td>23, 24</td><td><a class=\"ProveItLink\" href=\"../ed632f4700990eb25106c6ffe1409c172526d1a40/expr.ipynb\"><img src=\"../ed632f4700990eb25106c6ffe1409c172526d1a40/expr.png\" style=\"display:inline;vertical-align:middle;\" /></a></td></tr>\n",
       "<tr><td>19</td><td>Literal</td><td></td><td><a class=\"ProveItLink\" href=\"../../../exponentiation/__pv_it/fca8e4218e687a7bc372d4b4009101e95bae518f0/expr.ipynb\"><img src=\"../../../exponentiation/__pv_it/fca8e4218e687a7bc372d4b4009101e95bae518f0/expr.png\" style=\"display:inline;vertical-align:middle;\" /></a></td></tr>\n",
       "<tr><td>20</td><td>ExprTuple</td><td>28, 25</td><td><a class=\"ProveItLink\" href=\"../03ae6858d9b0db80321b00db3ff3cf90a701203c0/expr.ipynb\"><img src=\"../03ae6858d9b0db80321b00db3ff3cf90a701203c0/expr.png\" style=\"display:inline;vertical-align:middle;\" /></a></td></tr>\n",
       "<tr><td>21</td><td>Literal</td><td></td><td><a class=\"ProveItLink\" href=\"../../../../logic/set_theory/membership/__pv_it/7776fc89cb67d0b5b1ec2c0c8e08da5587921ccf0/expr.ipynb\"><img src=\"../../../../logic/set_theory/membership/__pv_it/7776fc89cb67d0b5b1ec2c0c8e08da5587921ccf0/expr.png\" style=\"display:inline;vertical-align:middle;\" /></a></td></tr>\n",
       "<tr><td>22</td><td>ExprTuple</td><td>25, 26</td><td><a class=\"ProveItLink\" href=\"../631846a219baae9e304f262a2abd072c5bc03c260/expr.ipynb\"><img src=\"../631846a219baae9e304f262a2abd072c5bc03c260/expr.png\" style=\"display:inline;vertical-align:middle;\" /></a></td></tr>\n",
       "<tr><td>23</td><td>Literal</td><td></td><td><a class=\"ProveItLink\" href=\"../../../numeral/__pv_it/f086f8c372bd40a2458306ddfdbb29f3dc6f63030/expr.ipynb\"><img src=\"../../../numeral/__pv_it/f086f8c372bd40a2458306ddfdbb29f3dc6f63030/expr.png\" style=\"display:inline;vertical-align:middle;\" /></a></td></tr>\n",
       "<tr><td>24</td><td>Operation</td><td>operator:&nbsp;27<br>operand:&nbsp;28<br></td><td><a class=\"ProveItLink\" href=\"../a7dce3506e5e4bc1a6d655c23242f342aef8a8150/expr.ipynb\"><img src=\"../a7dce3506e5e4bc1a6d655c23242f342aef8a8150/expr.png\" style=\"display:inline;vertical-align:middle;\" /></a></td></tr>\n",
       "<tr><td>25</td><td>Variable</td><td></td><td><a class=\"ProveItLink\" href=\"../../../../__pv_it/6e8a38e9a7e2b6af352562cd77e0eb4751f142620/expr.ipynb\"><img src=\"../../../../__pv_it/6e8a38e9a7e2b6af352562cd77e0eb4751f142620/expr.png\" style=\"display:inline;vertical-align:middle;\" /></a></td></tr>\n",
       "<tr><td>26</td><td>Operation</td><td>operator:&nbsp;29<br>operands:&nbsp;30<br></td><td><a class=\"ProveItLink\" href=\"../14bfd8fbb6ff77b0ed1b6a3de8c619bc6631e7de0/expr.ipynb\"><img src=\"../14bfd8fbb6ff77b0ed1b6a3de8c619bc6631e7de0/expr.png\" style=\"display:inline;vertical-align:middle;\" /></a></td></tr>\n",
       "<tr><td>27</td><td>Literal</td><td></td><td><a class=\"ProveItLink\" href=\"../../../negation/__pv_it/2867787e35502987d81a45cac8e7f1c6996d6ff40/expr.ipynb\"><img src=\"../../../negation/__pv_it/2867787e35502987d81a45cac8e7f1c6996d6ff40/expr.png\" style=\"display:inline;vertical-align:middle;\" /></a></td></tr>\n",
       "<tr><td>28</td><td>Variable</td><td></td><td><a class=\"ProveItLink\" href=\"../../../../__pv_it/72df168d2bfb4e0140af90912ebf83b13772060b0/expr.ipynb\"><img src=\"../../../../__pv_it/72df168d2bfb4e0140af90912ebf83b13772060b0/expr.png\" style=\"display:inline;vertical-align:middle;\" /></a></td></tr>\n",
       "<tr><td>29</td><td>Literal</td><td></td><td><a class=\"ProveItLink\" href=\"../../../sets/integer/__pv_it/9c81416d3aeee14eb5f33b511a478176b3f50d040/expr.ipynb\"><img src=\"../../../sets/integer/__pv_it/9c81416d3aeee14eb5f33b511a478176b3f50d040/expr.png\" style=\"display:inline;vertical-align:middle;\" /></a></td></tr>\n",
       "<tr><td>30</td><td>ExprTuple</td><td>31, 32</td><td><a class=\"ProveItLink\" href=\"../a16c4d28958211a718a3e224e169bffacc3fcd1c0/expr.ipynb\"><img src=\"../a16c4d28958211a718a3e224e169bffacc3fcd1c0/expr.png\" style=\"display:inline;vertical-align:middle;\" /></a></td></tr>\n",
       "<tr><td>31</td><td>Literal</td><td></td><td><a class=\"ProveItLink\" href=\"../../../numeral/__pv_it/bcb6bc33e5975ec2290a3272bf7802d26ab8421d0/expr.ipynb\"><img src=\"../../../numeral/__pv_it/bcb6bc33e5975ec2290a3272bf7802d26ab8421d0/expr.png\" style=\"display:inline;vertical-align:middle;\" /></a></td></tr>\n",
       "<tr><td>32</td><td>Literal</td><td></td><td><a class=\"ProveItLink\" href=\"../../../sets/integer/__pv_it/d9a713c49f1fa016038dc8105642dadd467935ae0/expr.ipynb\"><img src=\"../../../sets/integer/__pv_it/d9a713c49f1fa016038dc8105642dadd467935ae0/expr.png\" style=\"display:inline;vertical-align:middle;\" /></a></td></tr>\n",
       "</table>\n"
      ],
      "text/plain": [
       "0. {(Sum_{m=0}^{infinity} x^{m}) = (1 / (1 - x)) if x in Complexes.\n",
       "   core type: Conditional\n",
       "   value: 1\n",
       "   condition: 2\n",
       "1. (Sum_{m=0}^{infinity} x^{m}) = (1 / (1 - x))\n",
       "   core type: Operation\n",
       "   operator: 3\n",
       "   operands: 4\n",
       "2. x in Complexes\n",
       "   core type: Operation\n",
       "   operator: 21\n",
       "   operands: 5\n",
       "3. =\n",
       "   core type: Literal\n",
       "   sub-expressions: \n",
       "4. (Sum_{m=0}^{infinity} x^{m}, 1 / (1 - x))\n",
       "   core type: ExprTuple\n",
       "   sub-expressions: 6, 7\n",
       "5. (x, Complexes)\n",
       "   core type: ExprTuple\n",
       "   sub-expressions: 28, 8\n",
       "6. Sum_{m=0}^{infinity} x^{m}\n",
       "   core type: Operation\n",
       "   operator: 9\n",
       "   operand: 10\n",
       "7. 1 / (1 - x)\n",
       "   core type: Operation\n",
       "   operator: 11\n",
       "   operands: 12\n",
       "8. Complexes\n",
       "   core type: Literal\n",
       "   sub-expressions: \n",
       "9. Sum\n",
       "   core type: Literal\n",
       "   sub-expressions: \n",
       "10. m -> {x^{m} if m in {0...infinity}.\n",
       "    core type: Lambda\n",
       "    parameter: 25\n",
       "    body: 13\n",
       "11. /\n",
       "    core type: Literal\n",
       "    sub-expressions: \n",
       "12. (1, 1 - x)\n",
       "    core type: ExprTuple\n",
       "    sub-expressions: 23, 14\n",
       "13. {x^{m} if m in {0...infinity}.\n",
       "    core type: Conditional\n",
       "    value: 15\n",
       "    condition: 16\n",
       "14. 1 - x\n",
       "    core type: Operation\n",
       "    operator: 17\n",
       "    operands: 18\n",
       "15. x^{m}\n",
       "    core type: Operation\n",
       "    operator: 19\n",
       "    operands: 20\n",
       "16. m in {0...infinity}\n",
       "    core type: Operation\n",
       "    operator: 21\n",
       "    operands: 22\n",
       "17. +\n",
       "    core type: Literal\n",
       "    sub-expressions: \n",
       "18. (1, -x)\n",
       "    core type: ExprTuple\n",
       "    sub-expressions: 23, 24\n",
       "19. Exp\n",
       "    core type: Literal\n",
       "    sub-expressions: \n",
       "20. (x, m)\n",
       "    core type: ExprTuple\n",
       "    sub-expressions: 28, 25\n",
       "21. in\n",
       "    core type: Literal\n",
       "    sub-expressions: \n",
       "22. (m, {0...infinity})\n",
       "    core type: ExprTuple\n",
       "    sub-expressions: 25, 26\n",
       "23. 1\n",
       "    core type: Literal\n",
       "    sub-expressions: \n",
       "24. -x\n",
       "    core type: Operation\n",
       "    operator: 27\n",
       "    operand: 28\n",
       "25. m\n",
       "    core type: Variable\n",
       "    sub-expressions: \n",
       "26. {0...infinity}\n",
       "    core type: Operation\n",
       "    operator: 29\n",
       "    operands: 30\n",
       "27. -\n",
       "    core type: Literal\n",
       "    sub-expressions: \n",
       "28. x\n",
       "    core type: Variable\n",
       "    sub-expressions: \n",
       "29. Interval\n",
       "    core type: Literal\n",
       "    sub-expressions: \n",
       "30. (0, infinity)\n",
       "    core type: ExprTuple\n",
       "    sub-expressions: 31, 32\n",
       "31. 0\n",
       "    core type: Literal\n",
       "    sub-expressions: \n",
       "32. infinity\n",
       "    core type: Literal\n",
       "    sub-expressions: "
      ]
     },
     "execution_count": 5,
     "metadata": {},
     "output_type": "execute_result"
    }
   ],
   "source": [
    "# display the expression information\n",
    "expr.exprInfo()"
   ]
  },
  {
   "cell_type": "code",
   "execution_count": null,
   "metadata": {},
   "outputs": [],
   "source": []
  }
 ],
 "metadata": {
  "kernelspec": {
   "display_name": "Python 3",
   "language": "python",
   "name": "python3"
  },
  "language_info": {
   "codemirror_mode": {
    "name": "ipython",
    "version": 3
   },
   "file_extension": ".py",
   "mimetype": "text/x-python",
   "name": "python",
   "nbconvert_exporter": "python",
   "pygments_lexer": "ipython3",
   "version": "3.7.3"
  }
 },
 "nbformat": 4,
 "nbformat_minor": 1
}
