{
 "cells": [
  {
   "cell_type": "markdown",
   "metadata": {},
   "source": [
    "Proof of <a class=\"ProveItLink\" href=\"../../../_theory_.ipynb\">proveit</a>.<a class=\"ProveItLink\" href=\"../../_theory_.ipynb\">number</a>.<a class=\"ProveItLink\" href=\"../_theory_.ipynb\">summation</a>.<a class=\"ProveItLink\" href=\"../_theorems_.ipynb#sumFirstNInts\">sumFirstNInts</a> theorem\n",
    "========"
   ]
  },
  {
   "cell_type": "code",
   "execution_count": null,
   "metadata": {},
   "outputs": [],
   "source": [
    "import proveit\n",
    "from proveit import Function\n",
    "from proveit.logic import Implies, Forall, Equals, InSet\n",
    "from proveit.number import Add, Exp, frac, Mult, subtract, Sum\n",
    "from proveit.number import Naturals, NaturalsPos, Integers, Reals\n",
    "from proveit.number import Complexes, Interval, zero, one, two, three, infinity\n",
    "from proveit._common_ import a, f, i, m, n, x, fx, P, Px, S, Q\n",
    "from proveit.number.summation._axioms_ import sumSingle\n",
    "from proveit.number.sets.natural._theorems_ import fold_forall_naturals_pos\n",
    "# from proveit.number.numeral.deci._theorems_ import posNat1\n",
    "theory = proveit.Theory() # the theorem's theory"
   ]
  },
  {
   "cell_type": "code",
   "execution_count": null,
   "metadata": {},
   "outputs": [],
   "source": [
    "%proving sumFirstNInts"
   ]
  },
  {
   "cell_type": "code",
   "execution_count": null,
   "metadata": {},
   "outputs": [],
   "source": [
    "sumSingle"
   ]
  },
  {
   "cell_type": "code",
   "execution_count": null,
   "metadata": {},
   "outputs": [],
   "source": [
    "sumSingleSpec = sumSingle.instantiate({fx:x})"
   ]
  },
  {
   "cell_type": "code",
   "execution_count": null,
   "metadata": {},
   "outputs": [],
   "source": [
    "sumSingleSpecSpec = sumSingleSpec.instantiate({a:one}, assumptions=[InSet(one, Integers)])"
   ]
  },
  {
   "cell_type": "code",
   "execution_count": null,
   "metadata": {},
   "outputs": [],
   "source": [
    "# posNat1"
   ]
  },
  {
   "cell_type": "markdown",
   "metadata": {},
   "source": [
    "The following induction theorem seems the most relevant and easy-to-apply:"
   ]
  },
  {
   "cell_type": "code",
   "execution_count": null,
   "metadata": {},
   "outputs": [],
   "source": [
    "fold_forall_naturals_pos"
   ]
  },
  {
   "cell_type": "markdown",
   "metadata": {},
   "source": [
    "the following is not really a function but instead an expression that looks like a function"
   ]
  },
  {
   "cell_type": "code",
   "execution_count": null,
   "metadata": {},
   "outputs": [],
   "source": [
    "frac(Mult(n, Add(n, one)),two)"
   ]
  },
  {
   "cell_type": "code",
   "execution_count": null,
   "metadata": {},
   "outputs": [],
   "source": [
    "Qn = Function(Q, n)\n",
    "Equals(Qn, Equals(Sum(i, i, domain=Interval(one, n)), frac(Mult(n, Add(n, one)),two)))"
   ]
  },
  {
   "cell_type": "code",
   "execution_count": null,
   "metadata": {},
   "outputs": [],
   "source": [
    "Q1 = Function(Q, one)\n",
    "Equals(Q1, Equals(Sum(i, i, domain=Interval(one, one)), one))"
   ]
  },
  {
   "cell_type": "code",
   "execution_count": null,
   "metadata": {},
   "outputs": [],
   "source": [
    "# %qed"
   ]
  },
  {
   "cell_type": "code",
   "execution_count": null,
   "metadata": {},
   "outputs": [],
   "source": []
  }
 ],
 "metadata": {
  "kernelspec": {
   "display_name": "Python 3",
   "language": "python",
   "name": "python3"
  }
 },
 "nbformat": 4,
 "nbformat_minor": 0
}
