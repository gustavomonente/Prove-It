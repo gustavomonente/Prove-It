{
 "cells": [
  {
   "cell_type": "markdown",
   "metadata": {},
   "source": [
    "Proof of <a class=\"ProveItLink\" href=\"../../../_context_.ipynb\">proveit</a>.<a class=\"ProveItLink\" href=\"../../_context_.ipynb\">number</a>.<a class=\"ProveItLink\" href=\"../_context_.ipynb\">addition</a>.<a class=\"ProveItLink\" href=\"../_theorems_.ipynb#commutation\">commutation</a> theorem\n",
    "========"
   ]
  },
  {
   "cell_type": "code",
   "execution_count": 1,
   "metadata": {},
   "outputs": [],
   "source": [
    "import proveit\n",
    "context = proveit.Context('..') # the theorem's context is in the parent directory"
   ]
  },
  {
   "cell_type": "code",
   "execution_count": 2,
   "metadata": {},
   "outputs": [
    {
     "name": "stdout",
     "output_type": "stream",
     "text": [
      "Beginning proof of commutation\n",
      "Recorded 'presuming' information\n",
      "Presuming previous theorems (applied transitively).\n"
     ]
    },
    {
     "data": {
      "text/html": [
       "<strong id=\"commutation\">commutation:</strong> <a class=\"ProveItLink\" href=\"../__pv_it/387f78934797dfaba423a291a1620b04af02bfbc0/expr.ipynb\"><img src=\"data:image/png;base64,iVBORw0KGgoAAAANSUhEUgAAAPwAAAAVBAMAAACQzp4eAAAAMFBMVEX///8QEBCIiIhmZma6urrM\n",
       "zMxUVFQiIiJERETc3Nzu7u6qqqp2dnaYmJgyMjIAAAAcRTyBAAAAAXRSTlMAQObYZgAAAy1JREFU\n",
       "SMe9VktoE1EUPW2apJlkWhculKLEFtRlUBDRFgMiXWmzsSqCDcUiuoqC4m9Rs5BJa2HARcUPTC1+\n",
       "SNWGStFIF6GhCn7KgAttwZKFrR9k7EaQKuJ7894k84tOXXjhzOeduXPeu/e+D7Asu8HhanlnU0it\n",
       "8m1YZijRl3ce1YVeBidxIQUEZEf7Xca42FGGF/T5s0f5BpnBhYmRPpQczZ8Y42IPGK7QEPV6lH/N\n",
       "UbExfm/Mkcuk/Xsxxhk93lEzFYnqaFDILedR/gyHU76D/AZD9u+DMmec8sIKHeLzbHbQo3ooxeAi\n",
       "/0zPQNzmMGgwTnm8Z/guSec9ytfGGHC5uE6xyi80bydRtKe5xWAs8sy7CB09QMZFao+zjlCvMtSt\n",
       "xlfr6IVfyqgMkfpENN30ngwYjFmee88x7LRVbPjSkW6YR/L46SnuGMwxDKnYapUPL6ExirB9jp0z\n",
       "GLM8937EEEStsTYIE5tVYb/i/0LzSMtxpNiGW304VGB8TZxhh4IT9H1a045r2gJ58pUwWoB/0Sa/\n",
       "0mBoTD6s1bQkyt5dDBE1aHz9Np+FeB2YoDOJREzsv6pgpoCwTX4VhG/W0ZPJ3ZFzlWeMefTcm8uH\n",
       "Sp3kYXj9POpovHeNkybKNB8jeSGZOpgAZEvwhZ8IL1rlG1U6qLpUJfdJHnzGmOQN73aOzGHSdtK/\n",
       "hAbKzs6wH25QWvQFWbwv20tP+IFAKW+VjwtrwErPbAMGY5bn3rz08JD02RfzpzBM2Sf8v2nMCTQa\n",
       "4ZGKPC1HijTeJAsW+YBaT9p9BZt80WDMweferWCghVmTq01inyRJ0Wt7jbRt8Z+WpHRoPFH+Gw0u\n",
       "xe3mA91x68Tb9IpWQMIm324wZnnuPQ8GkaRmVK6fVQKU9N0kLuS+hCbo+dtGvJS/Lrq63XFbdOG+\n",
       "6gkpBlbTctduRGjnQ60JTIb6cFbsxZS+Rk3p20OVLSdrfnHdciqCisuWw8PaPdYG9NPHe9rFhL8J\n",
       "nS9JmdEZI0x/7CnXnsxQ5TTgXCgzVRdwvuFa1nSSex4odtsopb0dN8qdcxw3qlnmT53L/8tha2YZ\n",
       "hy1RZnA3Ff/HfgO3rwLZd136RQAAAABJRU5ErkJggg==\n",
       "\" style=\"display:inline;vertical-align:middle;\" /></a><br>(see <a class=\"ProveItLink\" href=\"../__pv_it/387f78934797dfaba423a291a1620b04af02bfbc0/dependencies.ipynb\">dependencies</a>)<br>"
      ],
      "text/plain": [
       "commutation: forall_{a in Complexes, b in Complexes} ((a + b) = (b + a))"
      ]
     },
     "execution_count": 2,
     "metadata": {},
     "output_type": "execute_result"
    }
   ],
   "source": [
    "%proving commutation presuming []"
   ]
  },
  {
   "cell_type": "code",
   "execution_count": null,
   "metadata": {},
   "outputs": [],
   "source": []
  }
 ],
 "metadata": {
  "kernelspec": {
   "display_name": "Python 3",
   "language": "python",
   "name": "python3"
  }
 },
 "nbformat": 4,
 "nbformat_minor": 0
}
