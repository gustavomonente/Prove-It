{
 "cells": [
  {
   "cell_type": "markdown",
   "metadata": {},
   "source": [
    "Proof of <a class=\"ProveItLink\" href=\"../../../_context_.ipynb\">proveit</a>.<a class=\"ProveItLink\" href=\"../../_context_.ipynb\">number</a>.<a class=\"ProveItLink\" href=\"../_context_.ipynb\">addition</a>.<a class=\"ProveItLink\" href=\"../_theorems_.ipynb#rightwardCommutation\">rightwardCommutation</a> theorem\n",
    "========"
   ]
  },
  {
   "cell_type": "code",
   "execution_count": 1,
   "metadata": {},
   "outputs": [],
   "source": [
    "import proveit\n",
    "context = proveit.Context('..') # the theorem's context is in the parent directory"
   ]
  },
  {
   "cell_type": "code",
   "execution_count": 2,
   "metadata": {},
   "outputs": [
    {
     "name": "stdout",
     "output_type": "stream",
     "text": [
      "Beginning proof of rightwardCommutation\n",
      "Recorded 'presuming' information\n",
      "Presuming previous theorems (applied transitively).\n"
     ]
    },
    {
     "data": {
      "text/html": [
       "<strong id=\"rightwardCommutation\">rightwardCommutation:</strong> <a class=\"ProveItLink\" href=\"../__pv_it/d0e57ce89647044f1cdfe0f7400e14ae8d0d2f800/expr.ipynb\"><img src=\"data:image/png;base64,iVBORw0KGgoAAAANSUhEUgAAA/oAAAAyBAMAAAAem73WAAAAMFBMVEX///8QEBCIiIhmZma6urrM\n",
       "zMxUVFQiIiJERETc3Nzu7u6qqqp2dnaYmJgyMjIAAAAcRTyBAAAAAXRSTlMAQObYZgAAC5lJREFU\n",
       "eNrtXQ+MHFUZ/253Z293dveuQQO0DWR7Z2uDYjetQkMLrBpsNKHsYaRtMN7mpDEgkuOPlUqD2zOR\n",
       "4091sIH+UWTaBkqv4q2FSzmDdu1BiS2FTdUotZSNraiNHke5Ntwetb4/82bfezOzO7PdK3fsvpDO\n",
       "u+/75vdm5jfve+/N974F4FxK09mzOZjS5SWou6Km6fH1s++eG1DT4CZ9Sj+JaK7+2Iel9LBj06/P\n",
       "kf3UFH8Qc+qQfIgVjEpHfbMfmWZWn/hIEh3R7KSPNNjHZUvSHAwzNRpU13ZPyJUqaxOe7Jd/jB5v\n",
       "LXfbdc7+D81ai1YjyJbExFxqa9ab/Tg9/Kqcy6tv9iNFs/pHqzLudJatYpfM0i4oZ+YOlJPeoFcG\n",
       "4RQB49aitrhrGuwDNJf66epasW+yVGP2XwFP7EeNAUidZme3R2uwD2+Z7j7cXSv2X4GJYf+YN/bN\n",
       "Aeh4mde+vtm/16z58ONYPzRL98B+ePH8GdYH/3bbIomJvW0pD+xH22bbNTV73Av76/d2sgFoyHbN\n",
       "V2ywr4ya1VAeDZXT4R0kzLhl//NaywhAu/jg1f/p/ZrAxIZsqADL3bIfvg9+jHpuSm4qhPha7pZ9\n",
       "dCc/0WEWOfkoeaWGSTEHOvVkg31/aUxsRl1lSx4WgrKg2yX76iXgR2/KCvHBo4lka1ygaA0Es1+9\n",
       "0i37zTn4NvrL2lQBKoMwBbqTaxAUWdfttjUcbrDflC5V0ZO6Voe7UL/pNjrLPy8dHk5bzikp/EVo\n",
       "Zi/Ia8PDdw4Pv43fqAL05wQBcbJLJDMnUHwR9k3lKoFwCgSCZvX9BKrT9tbnaXXPfmdeYP9iUE8x\n",
       "9l30/aYM9FsHdDTbuiHLC5oyJfZd9P2LnZpKugBhCnQno8zcnv0n83XP/jyN9/zqBxAZ8cA+6uJ7\n",
       "AL6QFh98a551X0OAPYF79tFFoLJ1kV1Trtk37mRImcNOMsb9tOT26pr9tcDP+tRxCBYGPbCfhTsi\n",
       "Wq4osZ9Eg7T0OkDWfd8/gwf9xFK7ptyzT+/kv89j33/U1jDUXffsc142iqbDPfCXdM7Kfn8Bz+SN\n",
       "CqcIxWOrouGd3SIjwXwoIQj8adiWshBnApIK19oVoH5O1faBtSmoDMIU9E5OE3IW2956dISyT27p\n",
       "zerZbyHrx/wUJF99r1THnD/dtqIraWW/GTvJVazCOemu2Y9/AhEjMTL/oNRBX30zbuO0V/HIXGvR\n",
       "g4fQv+vApqnKIExB7kS54GFc/4ftvcdOUfYP4MOJ6tmP4jlOiz4Vl/snuT9W8++Bh299/U85eWNB\n",
       "4Nrz0zJmK3U966MfsDIdYfTidJe59w7YiD8xZKpnn5y7cSo6/gj/+cyM8kTY41Kd3mhB8buoUemT\n",
       "zQTBbnAyswNVptleQ0UQQRGKL/M5RXkMv9dBum00Wz37xG8cmIrsU+/HnpUx/w9feTruBeTpP7ix\n",
       "Wv+DLi+gvkwNQFq04GyHCC8qpyn7sf19fRvOZdZ3pK9vR/dUZN83xneGzCS6slC8ZlAPOsjfN+b8\n",
       "7/f2rjkX9lt7ex/ITUX2o0X+r0m0s+uWR2s2jYo5bVq51GB/JXlBfPKWlBZxMee7wIn9YMp0mx7L\n",
       "0kJN7tB/qjq9vzhJX8vbb534Ni4y2P8iqIgFhRKo3P0SzCIrGyPQsGxx0nchrtzDzjMlBvuBhM3g\n",
       "8sK+VWW8V+SRb3UZi2xBYGtVAQQ57ZHyDTvpgyNQv+VOg/1m8Bmr9Z1DV8MLUd3P/I764oJ8JLMf\n",
       "rsL1oiwxv/Z0w+U8LkZ56iH4hv1ogBHU5bryH+xesoY5E9haVQBBr0GhfMNO+gb7iP1ovtkYIx7e\n",
       "rMNv4wm2hoG/DvZB5JAfcuYymJeY7B8EftJHUN7IQcSefYwQ+znAi6jeqhnmTGBrVQHEdCGODTvp\n",
       "J63nPx/lewb74cJNiNw5eAhAZWDgp4T9rYuwS0cd5+YV8Rx5hDemRYnJ/i+UNP7GdQedKGCUwM2o\n",
       "Ls4Fts0hH50IwnUDqFV07Gy7jTbKBLC3DSxWPI9tcYtanf+ZbLmGnfXRsTpmn8364MFb0JNo1ek3\n",
       "34Hos1/Hx8RS+g03ktr/Z8x1y9++UhQlJvuhx5MA21OdOgTRmIFRYs/K00D1u0oR6wjC4Teo8JN6\n",
       "O22UCZqTHQRDsOLKPco0CGqiukLDVH8N2Oh91tlgOP+RpHrQKrqQsf8cctybd4NKHOQA5PBOMBxo\n",
       "2Ea5jhLP2boSd2BeYrIfwXtOFsAyUH6vU5TITpkEf0JBregU4TfG1fTAUdooEywEBWOIVhxIBoh/\n",
       "EdQL0D2UaZjo4Tmw0cdGLc/kmUlE2TMXWWUsR8NlYSkgQeua7D3GPtmJ1APKvb29PYj9J+g0YB0s\n",
       "6+3tjUdS4Twe1jvmIv8pSEz2AX8znolT4pp1ihIekGN/TVkfWUkQhJ99jQo/DlfQRplgJhAM0YoH\n",
       "MVYdvLpCw1S/CGz0ESv7/55MPfaYjWzcG4SRXKBaltZ0HwFmP6bjKX0K0rTvB24k+jEI0p4O1+G3\n",
       "Y64yTRMlJfYPo/PHYF0fYY6gXBXHHZ0r/VrosL4rThH8W9EJ6FhE1KR5wZjBvmDF3QueJR4R1ZUa\n",
       "pvrV1yeseuWM5duINQ/HVUCl9ELF3UsrYoxbTw8UXaDapIDstXiFk4x9uirKwcu48ieAI7BRx4GG\n",
       "KKY2loRYLvwQ9CjdcU4isI/LdGU0T0ggKOtfhmh8o47OM/5p0jqvh+cTFCG8OAV7kfj7sQw1Z4Lj\n",
       "4CcYgpWBgP5rSULise2Serpyyrlhpr9kc57TC96PL83aJGLfZJo7PdrtjX2WXLDFYjPOs6/erkEI\n",
       "uYnA/UnUtTqyJNCA48NLjqNepcxEPrErxUks7H/pU+2UBIwC6mv/WolQlOnQoeF/soGuXVfjr4IE\n",
       "AX45/KMUwrzpVcOcCdZffhnBEKwogoZAwvMP6WTqzqvLNmzoA39P8HpW7pefyQaYROxHbULNfJKg\n",
       "G/bZ4IH6jbR6GuPZJ2UuGoJpyZJAgw8NrwYgmyabEpl92nd0CQWE2vaADWbJPFLCsLZsghywUzs2\n",
       "TPW++IksrzfKtfJzawc5R8NF4gSfAlI+J8OZfT7hg1m3dLVnxdO5HA1wlW1ipoBE5SEtOGJhv3S+\n",
       "JgUaBh0aEtlX5i0SUaRa8LKymIM2GJyVAXLCRu3YsKH3a0eSNlf/li4J8JYamqPhJXHinVKURMjJ\n",
       "qJwXIiR8sF045o6yE+qYOBSQHA0v2SahohGficnTPrrT2J79mBxoyLti34JirZXDzJe3IiDhTYXK\n",
       "58QqXzgpnfK2hvtYjoanxImFZpREyMlwkRfCJ3yYHotZ79HhpCAgORresk0KRnwmIofgn4w7s++6\n",
       "nPddnbEhrXZgXDYHW4KyHA0viRN3Mfcq5WRUyAuREz5kjGvIskwEXeMx2yRnxGcUOaTRyOYA/4iV\n",
       "fSNHw0vixCmr0yW7hQNu+35Txs5xH4PAuASKczQ8ZZuwTaoW9h+Aumc/MGr1/FUlTgTmSE73A0/s\n",
       "k4QPtV3y/GeYTyiBVpFtQuIzpZNYaWRxAtxtnfVVlTiBoyQSc2i14Zp9kvDhDxRE61E80PPsV5Vt\n",
       "QuIzllmfr5HBbZ30D1WZOLF5t8QIzsmw8FRKCWF5IXzCx45oWsT4DvtVISaoJtuExmfAn7Od8dQ3\n",
       "+03SQ1lSZeIE9MhfanBOhoUnE4PlhQgJH6G8aL3t05KgqmwTEp+Rt+k1frmFPKei05deb4kTOEpi\n",
       "9cauPb/h/zUHa1HgMduExGdgu2RifAOs819sk8JopSiPt8QJHCWhrwE/lFTOCxHAO5ysRYHHbBMS\n",
       "n5GjPJEZDfZReVS6frb73WPiBI6SWIrXvJC5rqy8opL4jBzhbfxaI9h9A/swd3f0TBy0vOP+m9Bg\n",
       "n07OxZ71oe3sCn55xsSBS3vkYpkasT/Vf6E9GJ8sF7JPO29t1ewX2qf8/53hs1B3Rb2NHl8/++7/\n",
       "AVB5gpP5zwvCAAAAAElFTkSuQmCC\n",
       "\" style=\"display:inline;vertical-align:middle;\" /></a><br>(see <a class=\"ProveItLink\" href=\"../__pv_it/d0e57ce89647044f1cdfe0f7400e14ae8d0d2f800/dependencies.ipynb\">dependencies</a>)<br>"
      ],
      "text/plain": [
       "rightwardCommutation: forall_{i in Naturals, j in Naturals, k in Naturals} [forall_{a_{1} in Complexes, ..a_{_a} in Complexes.., a_{i} in Complexes, b in Complexes, c_{1} in Complexes, ..c_{_a} in Complexes.., c_{j} in Complexes, d_{1} in Complexes, ..d_{_a} in Complexes.., d_{k} in Complexes} ((a_{1} + ..a_{_a}.. + a_{i} + b + c_{1} + ..c_{_a}.. + c_{j} + d_{1} + ..d_{_a}.. + d_{k}) =  \\\\ (a_{1} + ..a_{_a}.. + a_{i} + c_{1} + ..c_{_a}.. + c_{j} + b + d_{1} + ..d_{_a}.. + d_{k}))]"
      ]
     },
     "execution_count": 2,
     "metadata": {},
     "output_type": "execute_result"
    }
   ],
   "source": [
    "%proving rightwardCommutation presuming []"
   ]
  },
  {
   "cell_type": "code",
   "execution_count": null,
   "metadata": {},
   "outputs": [],
   "source": []
  }
 ],
 "metadata": {
  "kernelspec": {
   "display_name": "Python 3",
   "language": "python",
   "name": "python3"
  }
 },
 "nbformat": 4,
 "nbformat_minor": 0
}
