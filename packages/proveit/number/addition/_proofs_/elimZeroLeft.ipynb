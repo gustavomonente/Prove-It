{
 "cells": [
  {
   "cell_type": "markdown",
   "metadata": {},
   "source": [
    "Proof of <a class=\"ProveItLink\" href=\"../../../_context_.ipynb\">proveit</a>.<a class=\"ProveItLink\" href=\"../../_context_.ipynb\">number</a>.<a class=\"ProveItLink\" href=\"../_context_.ipynb\">addition</a>.<a class=\"ProveItLink\" href=\"../_theorems_.ipynb#elimZeroLeft\">elimZeroLeft</a> theorem\n",
    "========"
   ]
  },
  {
   "cell_type": "code",
   "execution_count": 1,
   "metadata": {},
   "outputs": [],
   "source": [
    "import proveit\n",
    "context = proveit.Context('..') # the theorem's context is in the parent directory"
   ]
  },
  {
   "cell_type": "code",
   "execution_count": 2,
   "metadata": {},
   "outputs": [
    {
     "name": "stdout",
     "output_type": "stream",
     "text": [
      "Beginning proof of elimZeroLeft\n",
      "Recorded 'presuming' information\n",
      "Presuming previous theorems (applied transitively).\n"
     ]
    },
    {
     "data": {
      "text/html": [
       "<strong id=\"elimZeroLeft\">elimZeroLeft:</strong> <a class=\"ProveItLink\" href=\"../__pv_it/f128b015f683f658672d1914225427bfd0bd1d220/expr.ipynb\"><img src=\"data:image/png;base64,iVBORw0KGgoAAAANSUhEUgAAAKkAAAAUBAMAAAAErwC3AAAAMFBMVEX///8QEBCIiIhmZma6urrM\n",
       "zMxUVFQiIiJERETc3Nzu7u6qqqp2dnaYmJgyMjIAAAAcRTyBAAAAAXRSTlMAQObYZgAAAhlJREFU\n",
       "OMuVVTuIE1EUPUlmNpPMTNbCShCCv04YtFVwWcRKmMZPZwgudhILbdYilUxQYSpXUNisW6yEhQkr\n",
       "FisLBsVGQVK6C0IaBT8Mi5VEC++bN0nem7y3rBcOuTkv98D9BtjLSn0OtW3q6QFzPmvinnM4J9+p\n",
       "XmdC6OgPzPmuUf3G8QNrKoHyQBnE6Mcs0aZa1PUSuAfgpAIb0vsbdRjRlTZl2FU/F8MEVg32UKW6\n",
       "og4j2n3f6SxpCrDEMVuD8UelWjmnDGP07yC4q1E9yhF5MH7JqqUzpw5Rjl52Zsb0AtDSqD7kWO7B\n",
       "zKjOhZVdypNV24kT82R6PtNL+8GNeuoucix7MP9KquXDKFCH7Uam+xO6iPxozstbp/vlq23zZ/r9\n",
       "IMeoAh/j+FYcfyWvMESxCpi7sqpAO/3iiP202YH7FNiSValbttytXBORP60q0KXBZSJWT3yBwWpz\n",
       "/iVRcgWsJlx5sqIeXtOH0ZjUtZahW9cp99vmEBUWsLM91a3pLYi6uGmHvFuCifQLki54ZgOr7OWV\n",
       "cDPepljEii+pWlX3jkNRPVlVpGepwLluvoYrQRBUn1ya/OpCivUjC5BnoH780TEadz8zAwLt0s5G\n",
       "obXTnkn6+Ixe5Y0VTN6tNfWYj+lceO0iHD9ZD398NdLrIlhnn9eFm1HfOAvcZ+56fG+cWAv6xdvz\n",
       "EoqWp7qqrrbGrPB/6P3+w2xr6X/q+61FY02ifQAAAABJRU5ErkJggg==\n",
       "\" style=\"display:inline;vertical-align:middle;\" /></a><br>(see <a class=\"ProveItLink\" href=\"../__pv_it/f128b015f683f658672d1914225427bfd0bd1d220/dependencies.ipynb\">dependencies</a>)<br>"
      ],
      "text/plain": [
       "elimZeroLeft: forall_{a in Complexes} ((0 + a) = a)"
      ]
     },
     "execution_count": 2,
     "metadata": {},
     "output_type": "execute_result"
    }
   ],
   "source": [
    "%proving elimZeroLeft presuming []"
   ]
  },
  {
   "cell_type": "code",
   "execution_count": null,
   "metadata": {},
   "outputs": [],
   "source": []
  }
 ],
 "metadata": {
  "kernelspec": {
   "display_name": "Python 3",
   "language": "python",
   "name": "python3"
  }
 },
 "nbformat": 4,
 "nbformat_minor": 0
}
