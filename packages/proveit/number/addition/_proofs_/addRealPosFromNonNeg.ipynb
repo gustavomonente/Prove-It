{
 "cells": [
  {
   "cell_type": "markdown",
   "metadata": {},
   "source": [
    "Proof of <a class=\"ProveItLink\" href=\"../../../_context_.ipynb\">proveit</a>.<a class=\"ProveItLink\" href=\"../../_context_.ipynb\">number</a>.<a class=\"ProveItLink\" href=\"../_context_.ipynb\">addition</a>.<a class=\"ProveItLink\" href=\"../_theorems_.ipynb#addRealPosFromNonNeg\">addRealPosFromNonNeg</a> theorem\n",
    "========"
   ]
  },
  {
   "cell_type": "code",
   "execution_count": 1,
   "metadata": {},
   "outputs": [],
   "source": [
    "import proveit\n",
    "context = proveit.Context('..') # the theorem's context is in the parent directory"
   ]
  },
  {
   "cell_type": "code",
   "execution_count": 2,
   "metadata": {},
   "outputs": [
    {
     "name": "stdout",
     "output_type": "stream",
     "text": [
      "Beginning proof of addRealPosFromNonNeg\n",
      "Recorded 'presuming' information\n",
      "Presuming previous theorems (applied transitively).\n"
     ]
    },
    {
     "data": {
      "text/html": [
       "<strong id=\"addRealPosFromNonNeg\">addRealPosFromNonNeg:</strong> <a class=\"ProveItLink\" href=\"../__pv_it/a5a0ef59438dfb68d7003dcfad9bf94ac10515c10/expr.ipynb\"><img src=\"data:image/png;base64,iVBORw0KGgoAAAANSUhEUgAAA2oAAAAbBAMAAAD/k2HBAAAAMFBMVEX///8QEBCIiIhmZma6urrM\n",
       "zMxUVFQiIiJERETc3Nzu7u6qqqp2dnaYmJgyMjIAAAAcRTyBAAAAAXRSTlMAQObYZgAACGRJREFU\n",
       "aN7tmg+MFNUZwL/b/zszu3cxpi0QzXC0SCikm7uCImjHGDEmBvY0Eawkt6GA0VIDipxB1BWbukIw\n",
       "q0Q4SYQBEtATvI3miiQ23QKl6XGY1fQPNUezJdZG1JX4J9HVGL/vvZnZtzszO7Pk0sDqIzuzx/vm\n",
       "/fl+3/ve974dgO9Le5e7B/JtNZ+wdkkNN4OfAH5CAxtbeWxNm1nhHZfWcLNEjNDB9u8ytXP4iZcu\n",
       "rjEdaU4NTnFqZbqd8UktSbdEqT2gBVW8vDgxbUmPT5BJRxo2ocTa3Df/2VqjFtUZtZOm1fmhphTw\n",
       "ltTbg9pumsf7E9RYMjVB+MuNDUuZ8NbNFrVAilEbJDeR9UmNCQ62iYM8RqZsU7asuog7V7xq3DsL\n",
       "vsS8K442/B2LFyG7HSKVypWVjxDVeUaNVo5S8Luv0aI82SbUppDDyU8QtcX6BFHbY9xPDwyUTWrz\n",
       "ktZag4cZtcTo0NAO39HI+NDQS20SlMSreNkBE0TtLzBB1JL8OLJ0prDW5sVq1K7hMeQXudxG39Q6\n",
       "c7kni+1BLdGFl2mEb0HP5FaobTs2Vbdp/b3u+Q1iR7vTrVAzxRXms6VzoofMLKxRm8qprQR4yje1\n",
       "SBpibXLUDpIDoujshnzyfAvUQpPgY5vWpW/04Xyd2I5CrNwCNUs8Ua4PJZGa/MC5GjVyxUjtRha3\n",
       "BBq35WTaiVooBa849s6kD457h5fugmE2/VOjLT/YUjO1bT7LdwnpCgji16V+qe0pkZcy9WVoXa5C\n",
       "p1onthEiBatRb2pMHP6Lz7MNKCZEIz8c+KAW+UN/mlGLQgAPYGEON/zAcZjKzt8yf2jJAi3wA+GU\n",
       "vQZmO/b+DwpoNkvewagouKguzE38mgapv+jjwaaer64ZtkuEKlbtrFmWWdI0L8c1V4WoCrdfzdxT\n",
       "pfK/KyuVjK1RoeIXOtxv6OvNSmVtpfIeX7jDRVEsSLsmb1QQayjC81X2HzjFMFv3fRUsRjRyPMUC\n",
       "f+CEdmuMmlKKGo28fOw6eF3Rg6Y5S2/0luTsKFwrUDtly5AcnvGrs3hbiOi7oKuJOu2CimGw8v2/\n",
       "ux5NNPQbgA78BxfYg1MzWTPIf44jLcomkmiKU+vIwjDa781+19qPQPrctlbwuLa4IIp1sI5v9rvW\n",
       "Oixj5NQGxcj/50uFB4Y5tXjZyMcltuzU4Q9qSjEFTh8ZAvntIBQFarvCoiES14ACozTS22fGu+BB\n",
       "t8Ojo2CyYNiKWlT20oh79GcgmoYL6cGlGa4NdDH72eYd1aAqnovRQ+Ia+SP4pyZ9DfJ5m9Y7S7QG\n",
       "BbHhYkvUhq0QL8RWRYdILXZIGJOx1uCpFSg7nTY4LCMjzzJqe+fTHoaDuOtOVaQW264JfRJX1Ok7\n",
       "lOMKb2miU2fBzrxhK2oxcYjFu4VGan57cGuGU/uSzPce0k6aHdOYOjI8GhkuwH1y3j+1ryBSPkL6\n",
       "qqOm4fYoiiFG9He+qTFxaVrBjEaCqkAtnJlTe6A/z6m9hjSUTp1nJEeUQ8vonlrEk45yevTvIjWZ\n",
       "XLXUcx/TCeNKOkUJGf3SeZjcsMSaC/Z338ttBdV9EG+/L0EndDCbVbpVXz1gxMxuLs1wauFPpuNf\n",
       "S69lc37EzPhlueuMqYn1in2tDZcpMgTjIlRsgn9miqQvUeuRUixVJxbMwL60jRpry2pZqGDiwRDW\n",
       "BIvWYdrMaMHJSM2SjRiSBT87D4PEuh2BImV6pPwJ2MepKebuw3e0T/BzIN2vQ0TnXFGnvSkeA9hi\n",
       "BSaIUi6CV+nTuK2oxWAvjzfMMGJduAvuBe8eolofAK4il2aM5N0GFvItUqGfhRKsBLq4C5OW/2T7\n",
       "j+3UorQU14N5qVXs775zuYb6qsfRc6rh+bEzqoOHXF/XslBB4i8pGSt23/9b3coep2NPf2VN+C1+\n",
       "XoOEziwo/FAutwmpvcCDk62wJJfLqXI6XlojUnsHP72wBMJ/0jnXQHDVOoA5jnE5CYIEboKb4N/c\n",
       "VtS5d2sQTNdCdozF08smg3cP1xiRvnMzBjVcTozqW3lca5eZG0i1LqPlOxoxV5yL66sT8+0hDW+I\n",
       "fvKA8f3WJwfKTg8YuRFuK9U0+60UqYVuM7aCCF9rcJMqUuMZvOnsNwPGNaA8+zf3VB/3/y6Cl8Nc\n",
       "bivqX2drdTUdFKdsAD898MjLuRmDWocWpMnJZ2lf+6zWu5g9NhUsuR0I6ypIX6wMNRWzqA25jb+u\n",
       "gvb5ox4Hm7MCNblchD/TF1TPOAzqgA5KoYElNIyWG6hJX8LWIaIW4f5LXqZLY2Njx+0TJUEZNx4X\n",
       "wSoqPcNd28goHMQqTRg/UfPqgcUZZ4rg0oxBrVMnKwh9qIsxJCygi5UWOtxSYoX05aO01ij0OfxS\n",
       "06jSqrjWVuchRjN7VENN9RUggNPdQtbyrqERca1NCn9WImqMK8XlwhTimxG6eSFBGQMFF8ENiSy3\n",
       "FQzZDwpDG9STGqSImmcP70Iw/kscmFMzFrWofhqX4xM6pTSs8xrpqPar6LbHlreiX9KXd2mxUZgB\n",
       "nvnCRAYa3kCYkTO9dQG3ApwieqeGjBYvC386jVFjXA+/Wdx3vZBQmgJ9+fAkukzhgivBTfCOMWC2\n",
       "Im/8UOoVjKyvEO95Wydqnj1smz2TBZpOzdRiyNVFiK9i+ph1zKqiFNLF9QYCqv9fHiLsQOP83oic\n",
       "X/GM7pg9Fp/X7VyFVJj1TVqjNRWs2Uqt8DQDUfPTA/t50KkZ67xGZzhbXtXLGf2/S+SWyd5C4+BK\n",
       "LQGr7wEPauGfzXdu90jjt+W6l6Ddauh626cFfz00eyWiWdrytYuM2glvr8vfOmjpHa0BX+9Dlhy+\n",
       "eQjaraaVHp7fBRdGTdYuvZ+XdHofcj1c+mV8XpPKFLRj+Rb1L+nZLvraewAAAABJRU5ErkJggg==\n",
       "\" style=\"display:inline;vertical-align:middle;\" /></a><br>(see <a class=\"ProveItLink\" href=\"../__pv_it/a5a0ef59438dfb68d7003dcfad9bf94ac10515c10/dependencies.ipynb\">dependencies</a>)<br>"
      ],
      "text/plain": [
       "addRealPosFromNonNeg: forall_{i in Naturals, j in Naturals} [forall_{a_{1} in RealsNonNeg, ..a_{_a} in RealsNonNeg.., a_{i} in RealsNonNeg, b in RealsNonNeg, c_{1} in RealsNonNeg, ..c_{_a} in RealsNonNeg.., c_{j} in RealsNonNeg | b > 0} ((a_{1} + ..a_{_a}.. + a_{i} + b + c_{1} + ..c_{_a}.. + c_{j}) in RealsPos)]"
      ]
     },
     "execution_count": 2,
     "metadata": {},
     "output_type": "execute_result"
    }
   ],
   "source": [
    "%proving addRealPosFromNonNeg presuming []"
   ]
  },
  {
   "cell_type": "code",
   "execution_count": null,
   "metadata": {},
   "outputs": [],
   "source": []
  }
 ],
 "metadata": {
  "kernelspec": {
   "display_name": "Python 3",
   "language": "python",
   "name": "python3"
  }
 },
 "nbformat": 4,
 "nbformat_minor": 0
}
