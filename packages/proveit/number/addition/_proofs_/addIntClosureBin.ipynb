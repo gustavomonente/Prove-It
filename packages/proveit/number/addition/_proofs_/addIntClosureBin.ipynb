{
 "cells": [
  {
   "cell_type": "markdown",
   "metadata": {},
   "source": [
    "Proof of <a class=\"ProveItLink\" href=\"../../../_context_.ipynb\">proveit</a>.<a class=\"ProveItLink\" href=\"../../_context_.ipynb\">number</a>.<a class=\"ProveItLink\" href=\"../_context_.ipynb\">addition</a>.<a class=\"ProveItLink\" href=\"../_theorems_.ipynb#addIntClosureBin\">addIntClosureBin</a> theorem\n",
    "========"
   ]
  },
  {
   "cell_type": "code",
   "execution_count": 1,
   "metadata": {},
   "outputs": [],
   "source": [
    "import proveit\n",
    "context = proveit.Context('..') # the theorem's context is in the parent directory"
   ]
  },
  {
   "cell_type": "code",
   "execution_count": 2,
   "metadata": {},
   "outputs": [
    {
     "name": "stdout",
     "output_type": "stream",
     "text": [
      "Beginning proof of addIntClosureBin\n",
      "Recorded 'presuming' information\n"
     ]
    },
    {
     "data": {
      "text/html": [
       "<strong id=\"addIntClosureBin\">addIntClosureBin:</strong> <a class=\"ProveItLink\" href=\"../__pv_it/a2069402c88510dae8d7eebbfe384e3dc8a06def0/expr.ipynb\"><img src=\"data:image/png;base64,iVBORw0KGgoAAAANSUhEUgAAAMkAAAAVBAMAAAAeFNdiAAAAMFBMVEX///8QEBCIiIhmZma6urrM\n",
       "zMxUVFQiIiJERETc3Nzu7u6qqqp2dnaYmJgyMjIAAAAcRTyBAAAAAXRSTlMAQObYZgAAAyJJREFU\n",
       "SMetVVtIFGEU/nTv48zqQ5Ak2pLdiB42pYjQKHwQikII7EncpKSiwpfsimz60KgF+6RhBKNChYG7\n",
       "FBJC4OIWlEksPYQGyYqJ5MNS0UOtBZ3/MursrrRFB84/Z87/z/nO7T8D/A154oKzUkEou36UOMGE\n",
       "DzmiPJScubGeljNpytqNZbNtpXAS+mv2vpgjyifJmTRHPJym274bXgShUCB3WCKCuYFofsGrsuST\n",
       "whKx6rMer6IY1APAOOA1aDuSG4orJDgTxZ6iRSmSzty81Mae++AJHKNnP6kmhoZ6c0xYr+RMFLWF\n",
       "rR+57Gg3zG230UWrl+L5ruvXc0Qpl+ypqthgRfE2lVM+YlweXgbBW401pEpJPgV0ZrF4NJGpuy35\n",
       "YMj72YoSXlR+ADNcXmk1JcgbUiNTNbwJlslZHOvwSwc4nbi1t1KK1wQrpbAFrShjBr4CT7m80krO\n",
       "Oo5YQOl0Id+8Z8qzyrgrpA6wkL2sIx7FqnEFEzvk/jrBthRczLqaTC6UJZMBEvdD+Qk08rKQKpnk\n",
       "52vsUa6hwNW4y8SeGh1CARruMbmQeknr7jMQcUzHrSh5QYTrrLHMwb4kUVZdi4SbzBscxZOoJ8Xg\n",
       "1nnYRZL83IHGTWcpmYxsKqwZC0cxltZjv1iAqOVykXlcjTwnl6jNWQN2nqRcXXSk6KLyWt3lfm4z\n",
       "ysX0wfRIWvXDEVyQQ8tE+Yb+uFn9CvN4j4eSuUtUH08IyuZ3tGCQ7w0I19sxo/DYFF/U/Cwm2O3T\n",
       "WlVrLOfRIS47u7vmHe9yG7g/RcaZgUI6mRfJD+C4rus+RCfQx/O/x3FZ19uhqoZH3oBawUrTlp7N\n",
       "VpTBnax286KHTh8S86B4Vr/xhdC9LDka2QiH3O8NJ98bieMVPVMoAeseHG6AGvrThBHmW+S4eSkm\n",
       "jEkPTCEv1HgEKsO02ahani5c1YJ4wZvBL6uabVoqxqqX9Glp0rgp2JseVwPdJL1rnlwIOEpQP0kF\n",
       "oAxrzefetJrHOpF9UAgazq5W0qZIPquLyIT8Q1BdcvqLLfuQhdyhtT4Y/Yc/sraGtek13Yrjv9Jv\n",
       "r8LQG8VTCnIAAAAASUVORK5CYII=\n",
       "\" style=\"display:inline;vertical-align:middle;\" /></a><br>(see <a class=\"ProveItLink\" href=\"../__pv_it/a2069402c88510dae8d7eebbfe384e3dc8a06def0/dependencies.ipynb\">dependencies</a>)<br>"
      ],
      "text/plain": [
       "addIntClosureBin: forall_{a in Integers, b in Integers} ((a + b) in Integers)"
      ]
     },
     "execution_count": 2,
     "metadata": {},
     "output_type": "execute_result"
    }
   ],
   "source": [
    "%proving addIntClosureBin presuming []"
   ]
  },
  {
   "cell_type": "code",
   "execution_count": null,
   "metadata": {},
   "outputs": [],
   "source": []
  }
 ],
 "metadata": {
  "kernelspec": {
   "display_name": "Python 3",
   "language": "python",
   "name": "python3"
  }
 },
 "nbformat": 4,
 "nbformat_minor": 0
}
