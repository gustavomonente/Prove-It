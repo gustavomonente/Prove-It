{
 "cells": [
  {
   "cell_type": "markdown",
   "metadata": {},
   "source": [
    "Proof of <a class=\"ProveItLink\" href=\"../../../_context_.ipynb\">proveit</a>.<a class=\"ProveItLink\" href=\"../../_context_.ipynb\">number</a>.<a class=\"ProveItLink\" href=\"../_context_.ipynb\">addition</a>.<a class=\"ProveItLink\" href=\"../_theorems_.ipynb#addRealPosClosureBin\">addRealPosClosureBin</a> theorem\n",
    "========"
   ]
  },
  {
   "cell_type": "code",
   "execution_count": 1,
   "metadata": {},
   "outputs": [],
   "source": [
    "import proveit\n",
    "context = proveit.Context('..') # the theorem's context is in the parent directory"
   ]
  },
  {
   "cell_type": "code",
   "execution_count": 2,
   "metadata": {},
   "outputs": [
    {
     "name": "stdout",
     "output_type": "stream",
     "text": [
      "Beginning proof of addRealPosClosureBin\n",
      "Recorded 'presuming' information\n",
      "Presuming previous theorems (applied transitively).\n"
     ]
    },
    {
     "data": {
      "text/html": [
       "<strong id=\"addRealPosClosureBin\">addRealPosClosureBin:</strong> <a class=\"ProveItLink\" href=\"../__pv_it/2b164e8e4c0d1d9672037b437e6216abd66c02a80/expr.ipynb\"><img src=\"data:image/png;base64,iVBORw0KGgoAAAANSUhEUgAAAPMAAAAbBAMAAABbz6TjAAAAMFBMVEX///8QEBCIiIhmZma6urrM\n",
       "zMxUVFQiIiJERETc3Nzu7u6qqqp2dnaYmJgyMjIAAAAcRTyBAAAAAXRSTlMAQObYZgAAA7JJREFU\n",
       "SMfVll1IFFEUx4/74e7OzmoPgpAkU/bhQ8HilimpGEFBUO1DVA+Bi30XhWVllMRiYKNiLD1U9NKU\n",
       "L2LqLn0QQuCABaUVG/QQUWKaRVaDRA+1VnTu3N2ZudPuCuNDdOHO3tk7d35zzvmfcy/Af9m2WlsW\n",
       "wm6bG9kZsrYujN0RmhM6T7KOhqdzQpdh98QzTHoj2dEu/O4xMnhjgexJ4KU73Ux3IV4OsP/5joq/\n",
       "33bqaJsfYIQMpiygeVwMH9NOTWDvN4eHCzk72yFXUYqVL/jh0wBXiAFhC+icGNriZ5wsJAcz5MsE\n",
       "9nG3R4bwJc1qOEPFwscsoK/hQlckHdpBQsHNS3r6fNPZFLoyT0dX4NRwT89lKyp7jp1dmELzDeT6\n",
       "jmZgi6RbXenW0QuxfxfF5jSRTM+T9WEN9hISraqy+Sw6r74E3Tikjvslg8ND63X0FpzYA9D2N8Oe\n",
       "Hm2IrYidSHZtJG+aRUenuB8Ao+r4gCHW3sYpHV0XBFgH3FhG9OaxjOj3VCvcArCHWfSgBF8B7umZ\n",
       "RNGFTZ/UEdXHtVqUCtiMdeFe6a5xHc0nWd5jrTUCi27EXoAPJsBFZnhF+VCsKCE1FNxPNEsNNf6l\n",
       "KBT9wN9u4EQRzcddqVvufiBu42FY4AOrA2vUsBHt3xyqBkHmb8BQoDEQMyYvonPCEA2yVk+AYyaJ\n",
       "9hisllfuMCYIoj1j21K3Lwd6ANGv4prV+egdX8dVCdG+PtbqVurwqAyDJoX/Iq6ADep4ngHt7jPk\n",
       "eh3xe9tuvHQtnQQHeTFByxq6btFBFAM2RPey6P1UZtEYHEkW7BT6G1yPp2RWZkA7Q6v05UThcBvT\n",
       "kDvhTICa8IgO+DX0MqmEVnlBtgdYNElMTCC34DvJs1YfhnN4rVLHrpheSGEkN8iUBcjHFXa/swG6\n",
       "VLR973FdZi0wyqk4oXxfLYsmn41O5eqXXFrMoruWE91OUvns36htH0H3hRlteYX6r0QKsi0E20VR\n",
       "FGz8xRdEmvSBAih3nhLFFhAeryDooKGG12YqpJTZkKyqj2ghNbdxTeoR9ysplzrcu1M/AySgSD3Q\n",
       "oMPvDpsyXzZvH5zx7GDePkyNS2gmROo2AR+ksR5OlktPO5z2heEhRfO9pvMREW9bxnf3Z98BfNoJ\n",
       "yVF/qxqgg5SUZ3JXTfLlRbDtCQoJleJt/swFTJXtUKajgtrasqNdQfbehrFmgkd/SjHWGezKeEDy\n",
       "RbKjX8+yLw5knfX6rZ/rZj2cxLNP37GOtkvwL9sflVHrxvePXawAAAAASUVORK5CYII=\n",
       "\" style=\"display:inline;vertical-align:middle;\" /></a><br>(see <a class=\"ProveItLink\" href=\"../__pv_it/2b164e8e4c0d1d9672037b437e6216abd66c02a80/dependencies.ipynb\">dependencies</a>)<br>"
      ],
      "text/plain": [
       "addRealPosClosureBin: forall_{a in RealsPos, b in RealsPos} ((a + b) in RealsPos)"
      ]
     },
     "execution_count": 2,
     "metadata": {},
     "output_type": "execute_result"
    }
   ],
   "source": [
    "%proving addRealPosClosureBin presuming []"
   ]
  },
  {
   "cell_type": "code",
   "execution_count": null,
   "metadata": {},
   "outputs": [],
   "source": []
  }
 ],
 "metadata": {
  "kernelspec": {
   "display_name": "Python 3",
   "language": "python",
   "name": "python3"
  }
 },
 "nbformat": 4,
 "nbformat_minor": 0
}
