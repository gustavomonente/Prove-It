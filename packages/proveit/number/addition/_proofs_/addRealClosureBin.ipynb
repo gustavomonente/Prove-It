{
 "cells": [
  {
   "cell_type": "markdown",
   "metadata": {},
   "source": [
    "Proof of <a class=\"ProveItLink\" href=\"../../../_context_.ipynb\">proveit</a>.<a class=\"ProveItLink\" href=\"../../_context_.ipynb\">number</a>.<a class=\"ProveItLink\" href=\"../_context_.ipynb\">addition</a>.<a class=\"ProveItLink\" href=\"../_theorems_.ipynb#addRealClosureBin\">addRealClosureBin</a> theorem\n",
    "========"
   ]
  },
  {
   "cell_type": "code",
   "execution_count": 1,
   "metadata": {},
   "outputs": [],
   "source": [
    "import proveit\n",
    "context = proveit.Context('..') # the theorem's context is in the parent directory"
   ]
  },
  {
   "cell_type": "code",
   "execution_count": 2,
   "metadata": {},
   "outputs": [
    {
     "name": "stdout",
     "output_type": "stream",
     "text": [
      "Beginning proof of addRealClosureBin\n",
      "Recorded 'presuming' information\n",
      "Presuming previous theorems (applied transitively).\n"
     ]
    },
    {
     "data": {
      "text/html": [
       "<strong id=\"addRealClosureBin\">addRealClosureBin:</strong> <a class=\"ProveItLink\" href=\"../__pv_it/55a8fff2d583032851cf6e4bc532fc366ec365bb0/expr.ipynb\"><img src=\"data:image/png;base64,iVBORw0KGgoAAAANSUhEUgAAAMsAAAAVBAMAAAAa4QdfAAAAMFBMVEX///8QEBCIiIhmZma6urrM\n",
       "zMxUVFQiIiJERETc3Nzu7u6qqqp2dnaYmJgyMjIAAAAcRTyBAAAAAXRSTlMAQObYZgAAAwJJREFU\n",
       "SMetVV1o01AUPm36k6ZJ++LDcAhh82cIwlhhL7o5GeKLuvky9yCszD/wQaaoFR0Sh2i2IUYf3BAf\n",
       "ooMpddIwkTEQDBsiVh1FBOdACcIGDqk+Sh/Ec3Nv2qbrZgYeODk3X27ul/udc08A1mWRHPWqNr0G\n",
       "bpHBF680j5lXmnC1DyCkucFPNbfyNTmKvyXAslea78xXWKwRuawK0BqH7nndxkeJFIpHFqmReskm\n",
       "WYwbeJmpmK7cBz6StPGYDiAaHmnCGvWVNB24DDxgN/OplMVoOM2ycSmbTo941WyE+Uqa17Zybfa4\n",
       "e3tpN5ymUPy3qvZ7palnHtnVtNFNs1S3E1Wx9RSWy0QLBZIUPw4wWGXFg1YV8CbzPVrsl4tG+KNn\n",
       "NJDsd0oFhzRTragmwdvdFTLVcPQbiSLLdPTs9VbZeXiZurAJOMVFEy1AXIZoHxnzpRK4nbpC0k7w\n",
       "MPid8ya8SOT8ImTJsjHy/MlsC8im+NB5bwN1rgBhMmcunz+Tzy/hiLMgY0LQ3uKhPBorgXaelAbB\n",
       "xVzYWWV+Og1Is0Bo47h1afiejjTS0woanwKZTtdu8Nh0GIxmtKygub0Ko4lYXTga27oIAaIToTEx\n",
       "9tSdQj3RkGaiQjT88JfuSovnYLcOAVs0X/m5GfqA0cYHj6Fc54MFiAGlSRC6bXo9bUSyySUqSiBj\n",
       "wOmo5qJpw3yxEuDkMpourpPhz5CLawz2wZhNw504R+IAfBXsKpCbT7Y5781S52XpgujaTSjH42TO\n",
       "LO7ZaTaicZzhWCLgM/xJOKyqquwX73ykaWgOXlTVAZDf7CjS7KMu9G65u9ld0E3vSYZowsav6U7r\n",
       "XAT1p0FxCcGMxi/oISpa9AiZVYBaSFLRnmf/3Wxse8Ti/hspqxoOPq3nAIidNDdZMzIElyQFXlEa\n",
       "cWL11pkuv5lZpXkU8UDvZAvAMDmec+ZYa7AWut5hDvDsRPt/CInitw1C9Z5BlbO84X7MDTvVNDRg\n",
       "bjz91mzjtfXhq/9v1/xJf14nDpCD/2t/ASgt6T8/GpbFAAAAAElFTkSuQmCC\n",
       "\" style=\"display:inline;vertical-align:middle;\" /></a><br>(see <a class=\"ProveItLink\" href=\"../__pv_it/55a8fff2d583032851cf6e4bc532fc366ec365bb0/dependencies.ipynb\">dependencies</a>)<br>"
      ],
      "text/plain": [
       "addRealClosureBin: forall_{a in Reals, b in Reals} ((a + b) in Reals)"
      ]
     },
     "execution_count": 2,
     "metadata": {},
     "output_type": "execute_result"
    }
   ],
   "source": [
    "%proving addRealClosureBin presuming []"
   ]
  },
  {
   "cell_type": "code",
   "execution_count": null,
   "metadata": {},
   "outputs": [],
   "source": []
  }
 ],
 "metadata": {
  "kernelspec": {
   "display_name": "Python 3",
   "language": "python",
   "name": "python3"
  }
 },
 "nbformat": 4,
 "nbformat_minor": 0
}
