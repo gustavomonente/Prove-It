{
 "cells": [
  {
   "cell_type": "markdown",
   "metadata": {},
   "source": [
    "Proof of <a class=\"ProveItLink\" href=\"../../../_context_.ipynb\">proveit</a>.<a class=\"ProveItLink\" href=\"../../_context_.ipynb\">number</a>.<a class=\"ProveItLink\" href=\"../_context_.ipynb\">addition</a>.<a class=\"ProveItLink\" href=\"../_theorems_.ipynb#addComplexClosureBin\">addComplexClosureBin</a> theorem\n",
    "========"
   ]
  },
  {
   "cell_type": "code",
   "execution_count": 1,
   "metadata": {},
   "outputs": [],
   "source": [
    "import proveit\n",
    "context = proveit.Context('..') # the theorem's context is in the parent directory"
   ]
  },
  {
   "cell_type": "code",
   "execution_count": 2,
   "metadata": {},
   "outputs": [
    {
     "name": "stdout",
     "output_type": "stream",
     "text": [
      "Beginning proof of addComplexClosureBin\n",
      "Recorded 'presuming' information\n",
      "Presuming previous theorems (applied transitively).\n"
     ]
    },
    {
     "data": {
      "text/html": [
       "<strong id=\"addComplexClosureBin\">addComplexClosureBin:</strong> <a class=\"ProveItLink\" href=\"../__pv_it/86a9dd0165a4dae7349e8731df5edeae689d70be0/expr.ipynb\"><img src=\"data:image/png;base64,iVBORw0KGgoAAAANSUhEUgAAAMsAAAAVBAMAAAAa4QdfAAAAMFBMVEX///8QEBCIiIhmZma6urrM\n",
       "zMxUVFQiIiJERETc3Nzu7u6qqqp2dnaYmJgyMjIAAAAcRTyBAAAAAXRSTlMAQObYZgAAAwBJREFU\n",
       "SMetVV1IU1Ec/+3juu1ud74EgRIM7YuexKiHSrQieqlcRCYEKSsJegh7SKN6WCvqqgUXgpTy4aZk\n",
       "MosNQ9AQGooFVjLoxQnFesgsYgU9FHuIztfdvNu0K/SH/z3n/O7/nN85/49zgDWJJ8m1pEysgqdp\n",
       "571VmmGhhSJfawfKtELY/vn7+usMf02HX63SfBFaJP4awpUuAKWWuFz/juF91BVhiyxKDde8jIq2\n",
       "PE4+UwXmyRAx/8lwvw744hZpXBrXYppGsgweisF8Zyc9mBKsIN/TDFdmo9Feqz7rFVpM84p5roH1\n",
       "m7dxzMG8NMDx36p61SpNtVDPntoKM81i1W7iFeZP2Yj0kCT8S/E2oKvEikfSJcA7Qvdq/h8mGvmP\n",
       "HtOgsDm5hOt3BkRICb6/IEO8t8+GYOyMyvjLDmGOK1zlDXCETTTeLMoD8LbTvtuYeNegobgLdqPe\n",
       "5MntSblZl75RP9O0GJmuw6NunEoIg3VcHVm46ApzmcyFTGaRhiGNWAISO+LRDBG682FJzKO4L+ky\n",
       "6OcnolD6gUmaoeToSs99HakEvAU0tjBiQdNpSNk0xgVNX66W9NY8jSfdRHqDmz/BSf10YIxApG2p\n",
       "Okf8CThPkgU1s9PIxl+YM608iXodTuY0W77KKI0MjnedIf2LUhZ++m8hxW226NXsIlKeakUpEIvj\n",
       "vFcz0TSQeIkUcBiRRGQfzSWBPyNcjhqpHYP013NxAUbwQaan844so5nm6g4oHT7TacqSbmLsSOTO\n",
       "zAtnaVYe7xY4SRHY4vZWnFBVNfDguBGGndIlVY14xoJ5moNc5dCmexvNCV37lgaDmw7d0IX9sY+/\n",
       "dhi4QsCY5l7Qy9gOBpg7kUUlWAR3kV3o/7xsmDwW7aFbnelSOGxay2H4gqzAg5jydOOyEsYMy/4Z\n",
       "+AIrXp3R5YOpFS6PHO4MjdYBPbT7JHMzKFWi6Q2JAa0deW6pLTehC6XvDO65tDXcTmIj6pY3W9WI\n",
       "tWeNiVtbG77ye7vqI51aI04eJPxf+QuECdouyjJZIgAAAABJRU5ErkJggg==\n",
       "\" style=\"display:inline;vertical-align:middle;\" /></a><br>(see <a class=\"ProveItLink\" href=\"../__pv_it/86a9dd0165a4dae7349e8731df5edeae689d70be0/dependencies.ipynb\">dependencies</a>)<br>"
      ],
      "text/plain": [
       "addComplexClosureBin: forall_{a in Complexes, b in Complexes} ((a + b) in Complexes)"
      ]
     },
     "execution_count": 2,
     "metadata": {},
     "output_type": "execute_result"
    }
   ],
   "source": [
    "%proving addComplexClosureBin presuming []"
   ]
  },
  {
   "cell_type": "code",
   "execution_count": null,
   "metadata": {},
   "outputs": [],
   "source": []
  }
 ],
 "metadata": {
  "kernelspec": {
   "display_name": "Python 3",
   "language": "python",
   "name": "python3"
  }
 },
 "nbformat": 4,
 "nbformat_minor": 0
}
