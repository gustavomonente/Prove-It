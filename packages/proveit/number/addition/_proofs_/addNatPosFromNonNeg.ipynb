{
 "cells": [
  {
   "cell_type": "markdown",
   "metadata": {},
   "source": [
    "Proof of <a class=\"ProveItLink\" href=\"../../../_context_.ipynb\">proveit</a>.<a class=\"ProveItLink\" href=\"../../_context_.ipynb\">number</a>.<a class=\"ProveItLink\" href=\"../_context_.ipynb\">addition</a>.<a class=\"ProveItLink\" href=\"../_theorems_.ipynb#addNatPosFromNonNeg\">addNatPosFromNonNeg</a> theorem\n",
    "========"
   ]
  },
  {
   "cell_type": "code",
   "execution_count": 1,
   "metadata": {},
   "outputs": [],
   "source": [
    "import proveit\n",
    "context = proveit.Context('..') # the theorem's context is in the parent directory"
   ]
  },
  {
   "cell_type": "code",
   "execution_count": 2,
   "metadata": {},
   "outputs": [
    {
     "name": "stdout",
     "output_type": "stream",
     "text": [
      "Beginning proof of addNatPosFromNonNeg\n",
      "Recorded 'presuming' information\n",
      "Presuming previous theorems (applied transitively).\n"
     ]
    },
    {
     "data": {
      "text/html": [
       "<strong id=\"addNatPosFromNonNeg\">addNatPosFromNonNeg:</strong> <a class=\"ProveItLink\" href=\"../__pv_it/79495f7edff3b17eeeb65e66c13de3d3bd4ceb8b0/expr.ipynb\"><img src=\"data:image/png;base64,iVBORw0KGgoAAAANSUhEUgAAAwkAAAAbBAMAAADFQ96yAAAAMFBMVEX///8QEBCIiIhmZma6urrM\n",
       "zMxUVFQiIiJERETc3Nzu7u6qqqp2dnaYmJgyMjIAAAAcRTyBAAAAAXRSTlMAQObYZgAAB31JREFU\n",
       "aN7tWn1sFEUUf73e9u529679wyiVaI5W0KDES4lg+Dw1QmIiHmoKRBIuDUQqSKp8VJHgpUQ4IJBT\n",
       "IiAJstgIWmJ7QSo2UTgoGilgTvwmYE5BTTA5i0FDixjfzOzezu7etbvkYq6GSffj3rx5M/N+896b\n",
       "eVuAG2VolaebEyU9vieHlDYryC2I1/TmlJN2TaU9LSE6pFDwkts0cvNF/0coBBS87SyxQXUNjIKc\n",
       "ZihkyI9zNlEIkIc/XZoo1OElxooj651biuV3TE68/cpmBY5cCqsowEqGwgnyftEmCnJSW3OlV3z9\n",
       "ZGzFilzniyRHzJgIm9Bxir2aLUAtQ2E7ecRsokAZt5emKcghvH1pIUvBAvz7B6Retcc2eG9HzVuc\n",
       "SA1AFSzJ/pjNolPZxVAgK5sucVtxgRjNidJEoYxM4sUioeDuLxYKu9nDv655NX2Zv6EiQiMsswVP\n",
       "kqLg72lr22Y7Op9ta3u3RIP0LlxOvqYioSA3FQuFQJju31o0N95YL17kUCiPsT3SlXh8lW0UKuPx\n",
       "danSROELvFzEK23pHqE4QME3qe5WCzXQUJs06ftoTcQBCnLNSM5RQntuRI1SsJ5DwVXFUFgAsN42\n",
       "CmhN3hI9uk0hM0NP666G353YwgOJQK+F2nFR7DOybUt6M/ZR8L0Em1VXRFs15jga4Zg/qKNAXB9B\n",
       "4SEax+kqMlhSJB8K7hC0X5+SZmSKoWq3SZbraM4y46qX3Z2G+9EFxGyiIN5GvUKtkXpYgT+M+l4F\n",
       "FUmYbRcFTwoWMR1K1LfFOBQqlAU6CsKfDAUPuHAFCWyFC0uPwQh6lJNYo1mTwq6buVNbE4wxdcxz\n",
       "5ClatazCrPdwHULUoaMsH1skZ+EDjecXEqHRCU9V4HkQxtLJy9nsr7dns9az6efZ7HPZLGlS3g8e\n",
       "VN0cI3UKiH+b2QCeGG9qbNql6b1NVTQdCsTQBCRnsyoKYjRQRcyFGc1lhoKc9qhS9nVPhg9lpVzz\n",
       "YeJHY9NSrAcmcCicMpygzRzmzTJXHUjm6cGpEBUFlCUupMtmGVRqspaqKAwDEdeXu8mmLZTFoMPq\n",
       "8M+D+6qZjaR87NrCMD2v0ms8CqBvmitU6bNTUfBl6lUPtnGHAh8HQ7LG8V1XG0inyyHFofCmIVtj\n",
       "5jAVvroykacHp0JUFIgs31q8ob7Lktw5Cz0SrmGp1wEKHSk4bKVeY4vfwOYABWpIqg+lA6niUfAn\n",
       "dVA0W4D185F3FAkQWDo7X6M6emsiiQEo9qk5QR4F71ZcbmLdErp8LBxqaR31s6V6Xs0zxh5w0wED\n",
       "CZFrgtZqhgKRBcIaBYQ+8Gj5lLUsOotXoSLT5QCFJCyREg9GjdTLJLzwhEr8mbRvC9eIO0IdatG5\n",
       "LseBmyE4rqOAM2AovI8DltGwKXun/N5c8gzNYEkjKdLzNY+CRFzj3sg8BYOMlUO1suUCLqSMsfpO\n",
       "pdbYgyc8k8goJASWod1WJEzVDAUiC/H5CQTm1GlZqAafFvg2mrKi0IGdi/+oL5wivUH/ChlS/Ub1\n",
       "PgtrjITyKLRGLChQWTnJXG/jQLyP6BAbprTDGSu/EZq+U9H2SFCJLXccBJGGz05IdRNFJj6FVjZ/\n",
       "WYurLCKQrcNYmAXCEcXKoY44JCCrqboFfjD0gBsZgcgoKCQG1N6M1QwFlEVdaDWupDINhRGq+e+p\n",
       "mdMQtqLgIVNdob1we6SGkVvv8O1rMqq39Z60adWfPBe0eiQqKyeZ600+dZrqUNtrigsfUfcZl2KG\n",
       "5JJfPS+AX6ETE16Ix1tQRztZsN4Es+LxeFCK+NJNPApn8BoO6MA8ipVDyyW46EwN1TfBOGMPw4HK\n",
       "KCxEHbahmqGAssjjUBDjQmVYbfCYwmcwbHskzSIKuRoDwbZHUjN3xG+o4/lMzWCYinZ2ZiuiPwJR\n",
       "tlLdj1NKH/sYJEXg4SCPAmHug01tRIMWDtVOE94zyv6gsbof1W7ooU9FoYAQGs3PmqsZCv0Uwhk9\n",
       "hj0S2R/p2bwcCmKhDHCbYchv56NaCNOhEFve3vryZPPMx7Igh4KUScEn5OUrsgffjnGvCmRiS/4w\n",
       "+FMmFKBauJwmGtQ5fBuwEb3hX1li3qNwIGSsXumPcT0g4QKUUxQKCAmEIfT6XjCNQk3KoyyYPYEm\n",
       "hnPnBeqAcwd7yVm265Bsi+2gI6FkQyoOcljtUHhbWJwAL/oA9+owrr6ZSXDhPDcS9C8ARM0oTLu7\n",
       "lqKgcwjDYWZCqMYbNnY37J9Mch2G6vqTwPWAhC1jRlMZBYT46k4rdFNlGAVDgcjaSpMCrpMhfs65\n",
       "rzy+8X8FnShsz3E7XFtebnAilOhwsHzPN2D+4nkXem1WktRRutAjmzIYXCEa1DkkvYI59L3uPNV6\n",
       "D1JOxkBCToBpFN6czl+xTGgRuZXSF0+iw+8H4VkOBb87S4n5ryp5s3mcud07kf/ZxTWmj4rR+at5\n",
       "gkmGVYjlG6B3gAm1Q2mVvDo0FepnC6Dgh8WNMAgKppLmGg9YXYiQR4jvjYwTFKRQaaGQV4emQr9b\n",
       "OvsfjOb/+P+R/N2W/soH4j8AQ66QHcb05ijcKCVQ/gXsKooxPycKzQAAAABJRU5ErkJggg==\n",
       "\" style=\"display:inline;vertical-align:middle;\" /></a><br>(see <a class=\"ProveItLink\" href=\"../__pv_it/79495f7edff3b17eeeb65e66c13de3d3bd4ceb8b0/dependencies.ipynb\">dependencies</a>)<br>"
      ],
      "text/plain": [
       "addNatPosFromNonNeg: forall_{i in Naturals, j in Naturals} [forall_{a_{1} in Naturals, ..a_{_a} in Naturals.., a_{i} in Naturals, b in Naturals, c_{1} in Naturals, ..c_{_a} in Naturals.., c_{j} in Naturals | b > 0} ((a_{1} + ..a_{_a}.. + a_{i} + b + c_{1} + ..c_{_a}.. + c_{j}) in NaturalsPos)]"
      ]
     },
     "execution_count": 2,
     "metadata": {},
     "output_type": "execute_result"
    }
   ],
   "source": [
    "%proving addNatPosFromNonNeg presuming []"
   ]
  },
  {
   "cell_type": "code",
   "execution_count": null,
   "metadata": {},
   "outputs": [],
   "source": []
  }
 ],
 "metadata": {
  "kernelspec": {
   "display_name": "Python 3",
   "language": "python",
   "name": "python3"
  }
 },
 "nbformat": 4,
 "nbformat_minor": 0
}
