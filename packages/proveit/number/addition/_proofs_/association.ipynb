{
 "cells": [
  {
   "cell_type": "markdown",
   "metadata": {},
   "source": [
    "Proof of <a class=\"ProveItLink\" href=\"../../../_context_.ipynb\">proveit</a>.<a class=\"ProveItLink\" href=\"../../_context_.ipynb\">number</a>.<a class=\"ProveItLink\" href=\"../_context_.ipynb\">addition</a>.<a class=\"ProveItLink\" href=\"../_theorems_.ipynb#association\">association</a> theorem\n",
    "========"
   ]
  },
  {
   "cell_type": "code",
   "execution_count": 1,
   "metadata": {},
   "outputs": [],
   "source": [
    "import proveit\n",
    "context = proveit.Context('..') # the theorem's context is in the parent directory"
   ]
  },
  {
   "cell_type": "code",
   "execution_count": 2,
   "metadata": {},
   "outputs": [
    {
     "name": "stdout",
     "output_type": "stream",
     "text": [
      "Beginning proof of association\n",
      "Recorded 'presuming' information\n",
      "Presuming previous theorems (applied transitively).\n"
     ]
    },
    {
     "data": {
      "text/html": [
       "<strong id=\"association\">association:</strong> <a class=\"ProveItLink\" href=\"../__pv_it/59201e72477ab81969231e497637e737b1c3d4720/expr.ipynb\"><img src=\"data:image/png;base64,iVBORw0KGgoAAAANSUhEUgAAA68AAAAyBAMAAABBpvDaAAAAMFBMVEX///8QEBCIiIhmZma6urrM\n",
       "zMxUVFQiIiJERETc3Nzu7u6qqqp2dnaYmJgyMjIAAAAcRTyBAAAAAXRSTlMAQObYZgAAC0hJREFU\n",
       "eNrlXA+MFNUZ//b/7czsHWlICxKb9ahIbA0bacEIwraNvdREXGwqEpve5iJpbKndFktEjT2vSV21\n",
       "NGtJFbA2A0TQQ3sr9oI0tmzvFFMQ3dg2BYq6qWgrbbYXhKZ3FOn7M2/mvZm3uzN3c+WOebnszn7f\n",
       "fL9583773nzzze8WYCItdP58BaZRexku7raTvmnnz8+YGFBo3xZ9Gp23VrnIiY3WyJuy5YmJEpub\n",
       "Vuc9Dy729rbxHgsUsap1tk9Ofw7VksTYVgkisduybEvp9Qfx6U942Vt5oODn6dwhO8TMIBL7Q3Or\n",
       "veQT5Lue9m7P+Hk6v5QZnw8gseqYufkHh3NPoyipQ00bG2el1kYYHWX3yK0dmmzXRCV4xCas+bLB\n",
       "J2KjY56IvUn3k1hFRp46Gjxi3zHX32TBJ2K1gidiXwU/iYUTsv3WBY/Yu82tMJ67m4Yv0z0Qm1x6\n",
       "9SWOUW7vmVv2QOz7nUskVq3zci/EDnWyQR+Wfn31oBEbO23dFFTRKjob/oWMvW6J/XypfQRgrjjK\n",
       "AyeVUQujFbHKR/oAWjXeE63Je+EnLjCY4/FyWy38MeumVauTZl5mBtJBIzZinWsCTbNtVbgGYgsL\n",
       "LolVLoUIGvzV4ijv1+GUhdGKWJS9daBdyqIVpTvfcoHBHPdBvAx3kc290sy7FjRiQ3lrE93QLtfh\n",
       "e2jekgF9vV7/br3+vjPGckTGIMEurPX63z5Zr2O4ZaD818DgrA0xajBQcViX47WzBYbliOB0TaE5\n",
       "W7fsNMOjQSO2uyoQOwuUM2xAXczYUC8M5BzT512InrUwWs1YdBt7U9lhnQUALjAMR6jX2ltKbPJc\n",
       "0IhdUOKXYjTT1BEPxKKpth/gC3lx+M/hGeSa2I4qmp7KXHEpRh3xQiyZ8lrmZtyRLu4aa83yjweN\n",
       "2AeAT56UsxCv7fNAbBnuVEuVMXH4T+NLtXtis/hKbTyBMa1ohqnuiUVfDii3/+WGMbAq/mJ7MGjE\n",
       "zuIuWSiH7IM/5ysOYpWPMIk19mI52tKp9Vpyd0Ec/m/jMqWDFBxqAVkY8WpbBp7R8uIhF4HyORcY\n",
       "hiOShx25jjVke6n0PN8wiCVxb42f2Hb8nqpOeV6VD61tPIw7O1f3ZJ0zdj1eqfPshWO85/LHPoXo\n",
       "FYd/x2eqEmJJ6HoJxtWHjXst3qodftMNBnO89lYaVs4ny/l78jpMjhJ7CH84OX5iNXyMdn3q38ae\n",
       "4j5s4Cn2UHkaeEqyYLpeio0FuSSxul6KSZsfm4FAFPmzou40JXYzzqR6x08sid089Vdila/Xmw8B\n",
       "VDY4/Y3iBMdvNWPu8V9kE0PR3WCslFlbY/COvlgh3eAhAPryZSixeLJp5QlcY/FsPzT1iU2d4T60\n",
       "GbMmufjfaS8gO38vub/wiDEfJozxAfTkGjy2QytCnhKbOtjf//hEkqfj/f3PFKY+sfTGnX39ey9c\n",
       "R/r8AnqoAbG9Rlb8n2LxvokQ21EsPliZ+sRqwhO2CyaNiX/5Er+WoAZigVDNIHYN4T5sf7jfLt7J\n",
       "GHVnCbHxnLmyeWwrak3d0bqfIxoZmxLfr/iB0iQfIVQwiP0iKGiAY/R4sXUvw2UkwVbpbquWZsOk\n",
       "lnEXCzQtBrHRjGS1f/HA+iYXDfXH3+gxbicdRq4NN3c3Msq7ER+BYLTEDIPYBISNO6vdw9fBi5oe\n",
       "YfmX8tLCqtp7EK4FVnfmLWaBogBX8cAY5amH4evy5RkjKLfqsX/iRaEsMXLtH83cDWIadiN4xGrV\n",
       "hLFoP7JVh9+kMxrb5ci+flDfjEDFvNHiLSaxh4HPnQjK0QqocmIxQurnAC/xd3S8kWujzdwNYhp2\n",
       "Y4osxf8HYtlSnKzdgnibh9dk1AYHf0qI3b4Er7FosbttdboCRt1ZsJjE/iKWx1WVO+lFGaNEb0Pb\n",
       "4rVkxzxSJyEI1w+io+Jb6c5vgsPIlxTm6U73UGezGOZ2dkMbDQixZvIED92OTrtDp8XFQe25r+H3\n",
       "zApaLFRzB/+EaSR1Z8FiEtv2WBZgV65bhzgiAqOknrNnCMr3Y2PYRxCOHaXGK/S5JEQwcvnaPSij\n",
       "i5dEdyK7slkMdi/DG45uhM/ApKTFyXFXU/f51QURKJRnxL6A5u7WvaCQVGYQKjhnUUoHYAelUSM5\n",
       "Dqk7CxaTWHUxelkIqyD2O52iqLvtxEYyMXQUnSL8eh+7o3sbh4hGroqQTpHvmuC+BmLNYpAbXsD9\n",
       "d3QjdRom5Ub2aa86cFNkHvcrPxaBOjKMWCzXQIMcu7tY7EPEPkkvuRthVbFYTKu5ZBX3m9SdBYtJ\n",
       "LOAq7Bz8jzEJnaIkB+1PfULlMMm1CcITX6XGmbAIh4hGLiYbccbMAWgWg91YMObshioQ65tiHD7w\n",
       "rANnInOl5lMXRCDyxJYQm9Jx0puDPJ2x0ZuNzCVO5ydcj4kndWfBYhF7DMWPwsZ+MuIE5do0np78\n",
       "0Uptx/Q9aYoQ2Y4C0PsY4gGHCEbuq6eHyqnjNveoQWyDGOzecGNG0o3YOX4/p2Lci+4TrAp+KuNK\n",
       "Bw4ykfmQqyO4cAzxH9hDAAO7VoFX8MYfAY7DZh17NMxaKgupSvJhWne2LAKxuM2Ona6SEScom14B\n",
       "Lb1ZR3HGS6jUfSP8KkMRkktzMITM96R6SYhgNALQX0I/Aj/bZXOfgEjDGMN96dYq3w3Www/5s9/g\n",
       "F7GJkisdOMhE5tv8InYb/2F/mSdWWVuCNmSJ3p9Fk2FlGcLoIvQIcnSdQN/+2Byj7mxaHMR+6dNz\n",
       "KbEYBZTX/74GocRmw8oSfilHe/Zch2tUBAGerf8ohzBveY3OPsFIA0o4em2FZre8e9NVVzaMoe7o\n",
       "X/HKaHWDtfv5jKfgF7G4zP4qeCHWEpm3Z30ilgGR9kYJ7AqK+UVWoC6TR8phdBkzDs1SS9NiJ5Z+\n",
       "fXUbCghbu6JOTBLiPJAZcwg8xJCtcPpkWeiG0ZbzCbdTMd6aWGF/NrpYaCzXgTfCsUTmLAeVaMFd\n",
       "EWvuLpTwvgPQUBqjlm5/VHeTmYvExhYsEVFsW/ErHZi2EO5ARsxJ8BBDtiKl41lZX9/hzkiiGG9J\n",
       "LN2f1dTZ6G5kOvBb3RJLROakFJ+qiR6sBW+NYy0WpnQ8xWdPs5oQm4K14j9fVl0R60BxbrXCrIox\n",
       "yS01LzFNbym7uRRHohhvSSzZn9XUzdG919CBf2WxW2KxyJwuLqpNQYW14K1xTIclHVe5K0vyVBNi\n",
       "3Vc5JlnMlhr271kIJxh3KMZdKLWN/UnjBOYzmQ68y+5phLPMUJyi0R8Bhxa8BY4oYWcl/BhXBw+e\n",
       "YDwyIhJrU4y3nLF0f/u0mcl04F1uZywRmQPPB68Fb43DSdhZ93li2wpBIzZ6WliK7YrxVsTS/aPz\n",
       "wLEUEx24e2KJyHz7ErCOzWvB3RPLScej3FJMyk3B+jfKdULyZFeMtySW7I9r6vbkiejA3RNLROaZ\n",
       "FeBInogW3D2xnHScT54W6IEjlkuLJYpxh1KbvHAOsv/WvbZhHzZ04A5CTLW3HQeLzHEpHl0cKoIn\n",
       "grXgrXGYI2JJxxkQblQDEShiQ9bpSxTjDqU2fbEcdP8+G7FdTAfumGnrBTCbyBzPdFN9xGvBW+OY\n",
       "Dks6zsmYgvhTBdyPi0gU4+4qT7im7igpgqtro3gAPP67ZB7XSzGtKRHp+C6uCJUJHrH8b/c4FeOu\n",
       "lNqkpk4aU3unWNHH/C/kfjc4ZOCHZJ6WOIKDSse5hwDP6wEk9lGrt+NVjOOautgMde+mH/R4wcGl\n",
       "eOljO484pITPAQXzB7y4Ao2fD9rH03Apvs2v4gsHFM8EkVhYZG1eWGkMKcUf9asLHNAR8InY6fWz\n",
       "tvH0FOnI2jsmqQhDF2UfftZ2mv0Q9Wfh4m476TTDP0T9P6+mNqRzyyFqAAAAAElFTkSuQmCC\n",
       "\" style=\"display:inline;vertical-align:middle;\" /></a><br>(see <a class=\"ProveItLink\" href=\"../__pv_it/59201e72477ab81969231e497637e737b1c3d4720/dependencies.ipynb\">dependencies</a>)<br>"
      ],
      "text/plain": [
       "association: forall_{i in Naturals, j in Naturals, k in Naturals} [forall_{a_{1} in Complexes, ..a_{_a} in Complexes.., a_{i} in Complexes, b_{1} in Complexes, ..b_{_a} in Complexes.., b_{j} in Complexes, c_{1} in Complexes, ..c_{_a} in Complexes.., c_{k} in Complexes} ((a_{1} + ..a_{_a}.. + a_{i} + b_{1} + ..b_{_a}.. + b_{j} + c_{1} + ..c_{_a}.. + c_{k}) =  \\\\ (a_{1} + ..a_{_a}.. + a_{i} + (b_{1} + ..b_{_a}.. + b_{j}) + c_{1} + ..c_{_a}.. + c_{k}))]"
      ]
     },
     "execution_count": 2,
     "metadata": {},
     "output_type": "execute_result"
    }
   ],
   "source": [
    "%proving association presuming []"
   ]
  },
  {
   "cell_type": "code",
   "execution_count": null,
   "metadata": {},
   "outputs": [],
   "source": []
  }
 ],
 "metadata": {
  "kernelspec": {
   "display_name": "Python 3",
   "language": "python",
   "name": "python3"
  }
 },
 "nbformat": 4,
 "nbformat_minor": 0
}
