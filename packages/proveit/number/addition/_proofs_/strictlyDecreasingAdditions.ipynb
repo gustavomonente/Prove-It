{
 "cells": [
  {
   "cell_type": "markdown",
   "metadata": {},
   "source": [
    "Proof of <a class=\"ProveItLink\" href=\"../../../_context_.ipynb\">proveit</a>.<a class=\"ProveItLink\" href=\"../../_context_.ipynb\">number</a>.<a class=\"ProveItLink\" href=\"../_context_.ipynb\">addition</a>.<a class=\"ProveItLink\" href=\"../_theorems_.ipynb#strictlyDecreasingAdditions\">strictlyDecreasingAdditions</a> theorem\n",
    "========"
   ]
  },
  {
   "cell_type": "code",
   "execution_count": 1,
   "metadata": {},
   "outputs": [],
   "source": [
    "import proveit\n",
    "context = proveit.Context('..') # the theorem's context is in the parent directory"
   ]
  },
  {
   "cell_type": "code",
   "execution_count": 2,
   "metadata": {},
   "outputs": [
    {
     "name": "stdout",
     "output_type": "stream",
     "text": [
      "Beginning proof of strictlyDecreasingAdditions\n",
      "Recorded 'presuming' information\n",
      "Presuming previous theorems (applied transitively).\n"
     ]
    },
    {
     "data": {
      "text/html": [
       "<strong id=\"strictlyDecreasingAdditions\">strictlyDecreasingAdditions:</strong> <a class=\"ProveItLink\" href=\"../__pv_it/32f4d8e903b58c4db4b2fb328b5376908635976e0/expr.ipynb\"><img src=\"data:image/png;base64,iVBORw0KGgoAAAANSUhEUgAAAxQAAAAZBAMAAABa23XhAAAAMFBMVEX///8QEBCIiIhmZma6urrM\n",
       "zMxUVFQiIiJERETc3Nzu7u6qqqp2dnaYmJgyMjIAAAAcRTyBAAAAAXRSTlMAQObYZgAABwRJREFU\n",
       "aN7tWmuME1UUPtt2+piZdv1hDEg0wyJIMMSGRkAXsGrUX0JXExAloVlRghJSQVkfC6780CLBjGwC\n",
       "KwlkYCPEAnaCbtZNfIyLaFgeaVCjEjCNQUjUVGLUyPqI9zEznced7jQWU5Wb3M7dc7575sz57j33\n",
       "zp0F8F+Wd8lwuVyaEurqrgeeuxyxS1i2/mupCFQytdQ79NpMZchLGj+fxlSU8Z9nfFKRwJd4qRme\n",
       "S0zXcobvobURhX++QWMwLLMsY6lIqDiKZd/6pEJU0SWhNAcVtZxJyLQ2pCSSDeK0zLKMpZSKPiSJ\n",
       "9fikggD7oDmoqOXMJ3q1F0HyMMZWHNSvrapDwIaNbXTYovzGtDxsUIGHlaj6XSvw9DnaJFTUcuZp\n",
       "vTaEigVKg6jYZbbia2TT8i6DivhIobDN97J9ulB4PdcsVHg7E8vR2hgqPoYGUZFIG3uObqVqGUkp\n",
       "FfBrPt/tm4rWfP5FrVmo8HYmkKQVeg9NVOqgIjZnxtXuGJ9ra3cEfbgtUwcVYttkvaEvOvtXWy0j\n",
       "qU7FwwAbfVMRzkBUbhYqvJ2JlmgNjYcf6pkVt8mJC64Y838qRdkW9G1qtOyfitiz8LKelmiv/nVg\n",
       "tYykOhV3kDU84NwlJDIsKkJJeAOahQrqzPyyWxlRad1VgtkAXI9PKvhrIIiwk+wxFkahVbIFvRvC\n",
       "Ktzvl4qIBo/ReAokZ4a/MxHEMpLqVEQggMYPR3nn1nwIE7MERtGL5qQDV1le8XIw3XHHwakPfT1m\n",
       "4ITVL8yT6lbVAmHviTPGrLdCWtK03qrAauBSJAJipXL+2kol6ybVVARHIYJMLMbSE5XK45XKOdQK\n",
       "lqGo2QSj6Oe+WWCHeRnFTujx5MiU22NSQS0jqU6FWIromn2H5sLbohI0siv/Tqok9IzALRYqjtve\n",
       "uTEiIMJI7VBiu5Im7q5PNQYIe0+cSahuiEHFOOB/RlM553NWtPRA0b0IoM3/AtUqaCGz7G6/s2Kc\n",
       "KaFUQO86sFquUhErL9Qz2abtCrwrJUWj5xdDBRBOBkGzULGTsw4rjEBUnKr5/k3sSlr8QF2qsUDY\n",
       "e+JMq+yG6AmK/x2EC3VQgYbo++6tUWtJH9iGoKjVQwVywjzzy9mXbWo5ZCYo2LgMgabgRQOVgYEt\n",
       "hIrd7TgVI3sPLpasVES3ol78jFVk8BAEpkLjU6lUu8OV/inkNYbaRXHaD/0IpepbEE+V5Y2oFgh7\n",
       "T5xZ2vaoBWJbtvnfIFweqoMKFVYJ8u1ZBxVptIY4uAHV/6z4A2en3e3VZdvczFLL1WUb3kSeiq0K\n",
       "PY0aEA8swdfkfHrgJGRGPrNSIeAUuTezVIGwQhGIihTrZIB/kkM5tQzUrqQFU5ZlNd2B+7NUdhCs\n",
       "8AJh74kz1yuTXBC8fuC6AT7Pam4qimW8e9EbFkVUiq8VQRu1xzhciiZtgmAW+jMuKogt07LlbjOB\n",
       "vwnHE3XU7K941DKSGlTg7cH2QeDJ/QZAO4TjKH8E/ZQK0VgX6SrxI6opWATcBwpFBIKPPMGKZDDJ\n",
       "oQ6KbleauTxd1c0GDvdnqWwgQikbhL0nzmyAr1wQHHxc97Qt7ky7qYjgcb/WaFhySefkrdfF9uUc\n",
       "m9kZxx3j/9gZyZ2giC3TsuVu4vGTJJ62XSk5+KCWkdSgIq6QB+Keyuc3ICp20FV8MyzK5/OSkImV\n",
       "clYqTqE6AVA+iygUERC3fMqKZIsaIA9K7UpHpltCOQFIf5bKDvLob1CBnbkSZrohtoMP3wlKz26S\n",
       "V+axCXwnKNDjibIJE7cXTCoI86MZyNJZEbqXSC5CmM4KuFOyUoHBF2FzAYcyTBOUsIR1PFqUo6eU\n",
       "g6hvlmaPgZGq7iKlgqWyg85oXiDRCPso4swFsR0HmlTwXmfKNkXxNb1RcMIKTCoKfoySpxlm4obt\n",
       "VAhlDQ7jBhrgp6EPDdgrQMTTKZ6GuOagAsZzP5VwKAkCb2YNRJ8Se8n4aZGX3gNvodRxmMZJNNZU\n",
       "pD0LQUIFQ1U1gUCxB3JukIOKZ+I9bgh+CzffxIX6Ts3eE33BBusyiuLJOCQ3js5ts2KlDFG0OQmt\n",
       "T6Ox3qFCAO2dN2Huz+rD0krFXTdMIlQQxOAJrX+eruhQufHQIeMfNdR5cC4+myB2he7v+ZTuCTcB\n",
       "eqdPI/0ZKtpb1kF4j+YEOahYeIwBsX46is36RaonanuO+EH1PtdZj1EcT/YpTVS2U0HKVJRwaVFJ\n",
       "wgyglcBx8GHd4ChuBKiO1t6Qza4+Ss3+HqpqixzfO0H02dZnmK7rpdk+qOJ4fsnUIGngfNrr27Yg\n",
       "L3tFYR4HWmbcje2sjo5WeBrD/JBnf8vnX9pqji+Gf78w42kvbCrisHIFjEGFR0d3y11KflSk9erO\n",
       "/wYT7Hj6ocKjdP3j/wd1+mb4n5RQ19q/AMprfEspUcS9AAAAAElFTkSuQmCC\n",
       "\" style=\"display:inline;vertical-align:middle;\" /></a><br>(see <a class=\"ProveItLink\" href=\"../__pv_it/32f4d8e903b58c4db4b2fb328b5376908635976e0/dependencies.ipynb\">dependencies</a>)<br>"
      ],
      "text/plain": [
       "strictlyDecreasingAdditions: forall_{i in Naturals, j in Naturals} [forall_{a_{1} in RealsNeg, ..a_{_a} in RealsNeg.., a_{i} in RealsNeg, c_{1} in RealsNeg, ..c_{_a} in RealsNeg.., c_{j} in RealsNeg} [forall_{b in Reals} ((a_{1} + ..a_{_a}.. + a_{i} + b + c_{1} + ..c_{_a}.. + c_{j}) < b)]]"
      ]
     },
     "execution_count": 2,
     "metadata": {},
     "output_type": "execute_result"
    }
   ],
   "source": [
    "%proving strictlyDecreasingAdditions presuming []"
   ]
  },
  {
   "cell_type": "code",
   "execution_count": null,
   "metadata": {},
   "outputs": [],
   "source": []
  }
 ],
 "metadata": {
  "kernelspec": {
   "display_name": "Python 3",
   "language": "python",
   "name": "python3"
  }
 },
 "nbformat": 4,
 "nbformat_minor": 0
}
