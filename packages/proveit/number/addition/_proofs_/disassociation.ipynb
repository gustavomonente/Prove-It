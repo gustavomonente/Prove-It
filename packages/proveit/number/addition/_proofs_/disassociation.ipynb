{
 "cells": [
  {
   "cell_type": "markdown",
   "metadata": {},
   "source": [
    "Proof of <a class=\"ProveItLink\" href=\"../../../_context_.ipynb\">proveit</a>.<a class=\"ProveItLink\" href=\"../../_context_.ipynb\">number</a>.<a class=\"ProveItLink\" href=\"../_context_.ipynb\">addition</a>.<a class=\"ProveItLink\" href=\"../_theorems_.ipynb#disassociation\">disassociation</a> theorem\n",
    "========"
   ]
  },
  {
   "cell_type": "code",
   "execution_count": 1,
   "metadata": {},
   "outputs": [],
   "source": [
    "import proveit\n",
    "context = proveit.Context('..') # the theorem's context is in the parent directory"
   ]
  },
  {
   "cell_type": "code",
   "execution_count": 2,
   "metadata": {},
   "outputs": [
    {
     "name": "stdout",
     "output_type": "stream",
     "text": [
      "Beginning proof of disassociation\n",
      "Recorded 'presuming' information\n",
      "Presuming previous theorems (applied transitively).\n"
     ]
    },
    {
     "data": {
      "text/html": [
       "<strong id=\"disassociation\">disassociation:</strong> <a class=\"ProveItLink\" href=\"../__pv_it/694d1b16305d1f544d5a390d96cceda9faa7ad7c0/expr.ipynb\"><img src=\"data:image/png;base64,iVBORw0KGgoAAAANSUhEUgAAA78AAAAyBAMAAABmCHEyAAAAMFBMVEX///8QEBCIiIhmZma6urrM\n",
       "zMxUVFQiIiJERETc3Nzu7u6qqqp2dnaYmJgyMjIAAAAcRTyBAAAAAXRSTlMAQObYZgAAC3RJREFU\n",
       "eNrlXA+MFFcZ/253Z//MzN6RhiiU1CyHXEm1YVMUmnKFU1MvNins1VggNd7mUmKqWM9WL6Vt6nIm\n",
       "9tqK2Uosf2rNACnQo/W2tBd6psrKtTRCaTdVIyDFjWBV1JPQo/EWKb4/8+e9mTd7M3fTcpd5gdl3\n",
       "73vf7715v/nefO+9bxdgMqnh8uUyTKP0KoQj7aIf6uXLMyYH1DC0VZtG962WQ0JwrEo+5K1PTZbg\n",
       "3LS67xYISzqlf0qhIlix7vbpoDAnDKQUg7orEVCyHEaCt7cZObkQECQC2vNxXwobuvXc3UHdlghI\n",
       "nhlGgn9g5hqDMh8MdNqfRlbP/CKo2xICvRBCgpWamf2dQ7jPTUsoUDIM0EWhxE2lqWR4fBlPLYwv\n",
       "UEVVE+XwEZzImtn1QRGMgGI1X8SsNJYd8oyACJZFJCpj4SP4z+a8nOoOiGAMpHb7IuZ1s+RMQASb\n",
       "QFy6L3wE32/mItiWNw3P1XwQnGq94WrHKGOgxq55JR/EvNu8VC8ZtrWgNs/3Q7BVfVj4OGthI1ga\n",
       "tRYRFTSzzob/oMKCV4I/V2w8BzCPH2UMNHBWHrNwxiNG/kAbQDPJX5m1qt5C6kH4sXccWn1uxlz0\n",
       "qiMkma+hgUzYCI5a95pAJre9AjeCtKjbI8HyNRBFg7+GH2UMdECD8xbOeMQgT68J5bDN7+dbQG7R\n",
       "N73jkOqQIAu//UJvvRo2ghvyVhaNy3IN7kV2TAb0zZGR74yMvOvUsQTRGiT0oUW28rdPjIzkdaBl\n",
       "IP9Px2EkNkfXFESrMKBvQnTyLSzHc6pnHFp9QDOB7CkyFjaCOyscwbNAvmAMqAcLbijAQM5hRhjo\n",
       "NMQuWjjjWR5aBq8sMQRbLcwCAO84tHo7uBKcuhQ2ghcW2SkaWZ1yzgfByOwOAHw+75yiL2Hr9kxM\n",
       "UwXZnkzcsnauBdQhPwTT6sNSiwGkv4Mtq/9Y2AjeAKyTJV+EeHXIB8EluEcplmtOJ2sUv869E9yG\n",
       "3+bktMfmZCGLU3xYMKn+75fwJH1KWPGRsBE8i3mVIV+zF/6YLzsIlj/AZFaNiyVIZtI9ampvNz/K\n",
       "GOhbeAvUQQxWt8AsQbySzMKzKja0Vr7pxSB/tg4OuTACUv19Mv6twvt9SyeYtP/OxAluxJ/pypTn\n",
       "V37PyuNh3NW8pqvNacE9eOLNGxeG+a75T34S0cyPMlbf+emKgGCi3sPgGFPrDUd1yydLJaYF9ejb\n",
       "9XDohXm2UHXpqseBAbIthHOU4CP4j7MTJ1jFr5NGbeovg88zf6xnqfaxkzXwjHOrEvw5R3SiRv6A\n",
       "LGraH06k0JFigGxOZYYSvAV7XIWJE0x0t0z9GVphzwTMwwbFGJx+Nz1O8GtVt2fNBmTiyG6POifo\n",
       "AOaMgG3BH04ysyrictiAHsYsJRgbn1qaxDsYW/+RqU9w+gLzR1L3qFNL3s/4Adn1W1uBDuQXZwGI\n",
       "T/l84jQW4/Ndzx2b8pTg9OH+/s2TcbJO9vc/2z31CaYLf8MMCgGhThCoF/1/NKg7cwFqKuhe9H/7\n",
       "+h6aDMFNfX2PlKc+wSp3qndFQ3biX7oazShBxRy4ATVUdYLXkmcgkrWbP78CilzlRnA8Z854PtOK\n",
       "al1xbCRIgqO1KfOsxQ8VP4JWGrp1gr8AMhpoibYp3fcqzCWOvUKrrWpti5A9ke8aimaJTnAsK3gL\n",
       "vHyop87LRPnR17v0VaSjkEnD9cVuheJuxM9BuFJihk5wAiL6Knbv8M3wsqpFDT9NfmVRRSkchptw\n",
       "vmYvMTc6uuF6FhijPPMYfE08bWMEebUm/QtPEiVBIZP+WU/souPajfASrFYS+mT++DYNfpXJqkaV\n",
       "Y0P9oLwdhbK5QGNLTIKPAutjEZTjZVDEBGOE9M8AXtFXg45CJo3VE7vouHZjCk3RHxHBxhSdqt6B\n",
       "+GvBczVKg4M/IQTvWIrnXjQJ3rkmUybT6e15vsQk+OdSHu/Q3ENf2hgldifK8++ZnS1kv4Ug3DKI\n",
       "WsVL8eZvgKOQ3Zpo0Zzig831dAyxsxvqWMgINp0sePQudPtNGt20HFSf/yr+zK6gm5BK7vAfMJ2N\n",
       "f7q1xpeYBCefbAPYnevUII4IwSjp5+1ehPw9qYZlBOHEcVp4rTaPqHCFjF/3APL84kVenGjrqKeD\n",
       "xctwxtGNyAXhMKQq05/KITHBeYPgF5Etb9sPMnF5BqGMfRu5eAh2UjpV4gs1rcVmyJaYBCtL0GUR\n",
       "rALpNxpFUfbaCY5mJdSKRhF+OWSsBk9hFb6Q3adJk2eOE98IUj0dJIYXcf8d3UiPCodhT0Dr4Q2+\n",
       "tgL8BcuP65ULnfKmrEEwDiFBgy3d39fXiwh+mr6SN8Kqvr6+jJJLVXDfOxYgj4grMQkGvMs7B3/x\n",
       "J6FRlNSg/ZSpoRQhvjlBeOortHAmLMYqfCGj0xZ16swBqKeDxTiozdkNRUzwPwIa5Masr+qngyRY\n",
       "Fi43SeAIITitYSc5B3lqwbHbdQ8nTu0VbsEPwAJpRpEvsQg+gfTHYGM/GXmCclMGmyvbWjF5QtuX\n",
       "oQjRHUgBfdYQH1iFK2QeQa2hlD5pE4/pBLvoYPH627KCbkiXhL6Ykxe3Ywfx9r9Ru6nkBcMUXPSO\n",
       "7EFwUFTNOGzQ26iW4TWc+T3ASdiiYYmK2Uu3Qbqcegx6pe4MU8IRjNNsabRCRp6gbHoN1MwWDenp\n",
       "l4Zi523wUpYipFpzcBAVP5AuEBWuUFdA/xLaMfjpbpv4DERddXTxNdsqbDeMHr4ndDWLARG8UvND\n",
       "jpdgeR8EbxdVO1BiCZbXFSGJSmIPtyHj6ChBpACADxvbzyBrkOagqawrx5Q4CP7ip+ZRgjEKyG/+\n",
       "fS1CkWZDRxFfSrGufTfjPS+CAM+N/DCHMO94g1ojV0gVilh7XZl6w6x40/XXuepQcewv2Cqtbhjp\n",
       "YdEobIaACH7dFzleguV9ENzYJqj2VhHsER0L+nr1XIkcbUfQa07vguGKmiV2gqk9aDYU4HK7Y05M\n",
       "ouJsyNQ5Aj50SC6SOVviuqGn5aLBmge2kHYPBHMR80ZtK57dCzkuwfIHm3N+CDarqyIH4NsAriE7\n",
       "SvGuJ7TxHXE7wdLCpTyKLRe/zoFpU2Ea0nXOgg8dkosWT4oeaD3U35Y2ghHSvtorwTRi3ti7N0N9\n",
       "cDz7aq/kkGB5c7vfQN5cSla9Y5Dq9IggLfKyZtUhOA3r+C+dVjwR7EBx5sbDrPA6qa1VPzp117Sd\n",
       "okPvB42Q9i8v8UowiZg39u6N2iSefXwMQ4CD5a2px0B+COIl7xikOj0iUARrtNT5OgR73y35kIPu\n",
       "0sPBnbswge9WmmmGtNMgVrcQeD7i/F69lImLJ/Hs9TEYwTI97JVDppupnjFIdXpEIAn22cMX+B49\n",
       "JyZYD2lv92rBNGLe/lIl8eztXq2PBMvbkVFHALxjkOr0iEBEcLI7bATHRsVTNA1p90wwjZiPtfC1\n",
       "STy7d3JIsPyOpTwy/UqLZ4wB84jACtVjdxEyYSNY/8asw8miIe3eCSYR83jvniMYx7N7J4cEy2dX\n",
       "8MjoIQEfswCpTo4IhE7WQi10BIvc6GE9pN1JjmvEOYmY32b7aiCJZ3dgmJHvBoYhwMHyeLufQ47m\n",
       "YWfOOwapTo4IIFp23hmNyQgVwQ2CYWg3QtodA+sacU4j5nttNJB4dof19XBAloAEy5M1Gov8xjsZ\n",
       "HxikOjkisIdXEcwQ/oSDUqu3VenZyaKE1nKC2p6nV5rGRMj+MMgRAex2VtIPP8L1M0qCIxzrsMH8\n",
       "FrVbCDwXio737p21x8XgBNY+sTZhDHJEIDpseEELIcFPCHprBBVv+n6XHyi8d+9IPjEiBZg0Bjki\n",
       "EBwXhvOH0EQbPnuuXHeSmaCAnA9bPBtGgmGxs+jKhezYtvsnkY47i45BQARPr58TjmemUGfW3f3h\n",
       "YQf3c8LT7AfBPwPhSLuo2eEfBP8/Qv4wjAhIlGMAAAAASUVORK5CYII=\n",
       "\" style=\"display:inline;vertical-align:middle;\" /></a><br>(see <a class=\"ProveItLink\" href=\"../__pv_it/694d1b16305d1f544d5a390d96cceda9faa7ad7c0/dependencies.ipynb\">dependencies</a>)<br>"
      ],
      "text/plain": [
       "disassociation: forall_{i in Naturals, j in Naturals, k in Naturals} [forall_{a_{1} in Complexes, ..a_{_a} in Complexes.., a_{i} in Complexes, b_{1} in Complexes, ..b_{_a} in Complexes.., b_{j} in Complexes, c_{1} in Complexes, ..c_{_a} in Complexes.., c_{k} in Complexes} ((a_{1} + ..a_{_a}.. + a_{i} + (b_{1} + ..b_{_a}.. + b_{j}) + c_{1} + ..c_{_a}.. + c_{k}) =  \\\\ (a_{1} + ..a_{_a}.. + a_{i} + b_{1} + ..b_{_a}.. + b_{j} + c_{1} + ..c_{_a}.. + c_{k}))]"
      ]
     },
     "execution_count": 2,
     "metadata": {},
     "output_type": "execute_result"
    }
   ],
   "source": [
    "%proving disassociation presuming []"
   ]
  },
  {
   "cell_type": "code",
   "execution_count": null,
   "metadata": {},
   "outputs": [],
   "source": []
  }
 ],
 "metadata": {
  "kernelspec": {
   "display_name": "Python 3",
   "language": "python",
   "name": "python3"
  }
 },
 "nbformat": 4,
 "nbformat_minor": 0
}
