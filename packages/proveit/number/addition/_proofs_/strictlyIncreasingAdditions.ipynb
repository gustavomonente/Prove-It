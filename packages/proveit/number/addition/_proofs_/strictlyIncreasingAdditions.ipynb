{
 "cells": [
  {
   "cell_type": "markdown",
   "metadata": {},
   "source": [
    "Proof of <a class=\"ProveItLink\" href=\"../../../_context_.ipynb\">proveit</a>.<a class=\"ProveItLink\" href=\"../../_context_.ipynb\">number</a>.<a class=\"ProveItLink\" href=\"../_context_.ipynb\">addition</a>.<a class=\"ProveItLink\" href=\"../_theorems_.ipynb#strictlyIncreasingAdditions\">strictlyIncreasingAdditions</a> theorem\n",
    "========"
   ]
  },
  {
   "cell_type": "code",
   "execution_count": 1,
   "metadata": {},
   "outputs": [],
   "source": [
    "import proveit\n",
    "context = proveit.Context('..') # the theorem's context is in the parent directory"
   ]
  },
  {
   "cell_type": "code",
   "execution_count": 2,
   "metadata": {},
   "outputs": [
    {
     "name": "stdout",
     "output_type": "stream",
     "text": [
      "Beginning proof of strictlyIncreasingAdditions\n",
      "Recorded 'presuming' information\n",
      "Presuming previous theorems (applied transitively).\n"
     ]
    },
    {
     "data": {
      "text/html": [
       "<strong id=\"strictlyIncreasingAdditions\">strictlyIncreasingAdditions:</strong> <a class=\"ProveItLink\" href=\"../__pv_it/927ab8f699d2415942aca322988d5d42c275f7700/expr.ipynb\"><img src=\"data:image/png;base64,iVBORw0KGgoAAAANSUhEUgAAAxIAAAAZBAMAAABXxQWmAAAAMFBMVEX///8QEBCIiIhmZma6urrM\n",
       "zMxUVFQiIiJERETc3Nzu7u6qqqp2dnaYmJgyMjIAAAAcRTyBAAAAAXRSTlMAQObYZgAAByVJREFU\n",
       "aN7tWn2ME0UUf9d2+7G7vfKHUfCiWe4ECUpsaAT0+Kga9S+h5x8QlOSaEyUokgrK+XEhJyZaJJgV\n",
       "EjxJIAsXQQt4DXo5L1GpnGg4hDSoUQmQRuAwRCsxaLxDiPOx2+50Z3tbUkxVXjK7ezu/N/vm/Wbe\n",
       "m5kegHNZ0q7CNbkq4mnvqASeuOaxqyeb/q1MuPKxctVb9FJDIvEDSj9A8GwUM5HDf55wyEQ9vgWz\n",
       "NdAvOVrOFrGTlmrIuzdUyeSlFitfRmPbq+LOYCYO4XfnHDIhp9GtXqsJJsrZUq/SUhU5VaV23rea\n",
       "GUZ05AwmutCbQKdDJgiwC2qCiXK2fK2Xkvig2DS2lxtNDPRFZ7BRK2TyQvyl+CaEB9N+gwk8qsjw\n",
       "cpQn8OQ5VBtMlLPlBb1UgwnPSJWYEMeQ2+4VhTfz8IzeZjARHEyl3nKcsY+nUu8laoQJe1sCCVqq\n",
       "woScqBITcFpfbHQYIfVLEqKiOhPwZzLZ4ZiJUDL5WqZGmLC3xRWmBTYOjNcqYCIwc+qNFnR9W1Oa\n",
       "hcmNEyphogAf0F8EV+pGDTU2o+qwwcTjAGsdM+GNgZ+fCWVH/ruiqqJkzEzY2+LP0uIZB79WMifu\n",
       "UevPW9A958RhBhZ4Cd6ogIki/GShaojYLV7WelQI5gwm7iPpmwwhJq/HeEx4wpwlABG3E0+6r6iq\n",
       "KGEzE9SWuTkrzJemZVsWZgAInQ6ZEG8CN8I2seh9GvzGwHwZeMpBo0YFgRN39hW31EN4VkgjEFJA\n",
       "ShhM+MCFho9AR5ew8nMYHycNUZ0FM6Ou6007uwRMKfli36THfhzVk2VATvSlFa/OVkqZoLbIYRaC\n",
       "pS5KyxwNVoAQIYFezufP3pzPxy1tH8nnn8nnh7AJI+BDTSxk0bNB/IuBoVZHbdRUMUcz3NlaZOIn\n",
       "/NKdg54MCOcNJuSsT6/fNTALPpI1txFaxY8jWalzEO42MXGY2WljhEuGQaWcJ8uAHOljs5SMvN3C\n",
       "BLGlPs1CzEyMBfF31O2EwzlR1wk9McuYPgWeiwxsLPFlwumcGFt401oSndB2Yl7axEQgN19PJOs2\n",
       "a/CJEi5E7O/7UyAddReiM/74VsE8ADACefJYVo5MjzTbmFQG5ESfmKVkgntgILIykjYxQWwJqWYI\n",
       "E53QWJbOV8AEGqD7rJ68hOeKCUZmiHMmKJzIgyUZO5TFE8ZTiE6wdjFqeCJOGEh6ezcQJrY34ziM\n",
       "2nt0oWJmwr8JaYlTl5OxQxDYkxnemO6eeMYOtL8RRtfXQcQs5ObdljlBbGltfJKBmDK2eBG8uf4K\n",
       "mEjDckm9N86iL+B0Y4ZdwrHG+Zwg8O3NxYxdWMWGoigzmTI2fIAalUMaPYHqlfcsIrlxLj1kkmKD\n",
       "35qZkKajy85YqwZejSKQJyNhjifF5wQ0lnI8kC/agtXL62MQPqvJUTe7IxYmiC23ak0MhFSGaVkD\n",
       "38UzFqeJl41LT45xsV8JrpIhM8J68ml4hSVsGoh3WpnAbRVbNlUQOHInwMySnZ0368cdzxSYQPkb\n",
       "NveBSLrZCxm87BXVL6CbMiEbOZFmCLyOiMACED7TKMLlfuJZXsZ1hwWkwAXNAAGrl9dHIOI38nVl\n",
       "2pKohQliyxo4yUCM0IHLjsaFbVGr01YZF1+cXTu1Tdh0S2BXgkV3355lmZAPH+VEJ9JWoWXzzhDB\n",
       "sTsBzpScdohTD9NFqsFEUCMdEp5PJtcgJrbQBL4eFiSTSUWKBbIJMxPHUGkAFMx8GkW45A3f8DxZ\n",
       "l3aRjnJADUDUy+s30Bs1Szk4hcMEtuU6mMZArKcdjqOTMTPs0GaY8+gEujtB5B8I7IQCE4SekRjE\n",
       "6ZzwPEzeDIOXzgm4XzEzgcHDsD6FXeml0UVahNd1pV/oUf3HtL0KDzSsM1FWH4NOoMAYp6GndxDd\n",
       "YiwTWEYQZWaI9QSw4DTR7hA5xdj9jh06xWPCtlG2Ytg4AbSmQ5YJKZeBA/gBDc/j0KWBMAZk3O9g\n",
       "FIKZEiZgnHAhi11JEHgVaiC6tMDrxqVObX0IPgxbQKjyNJoBmAlOVbEFBAo8gj55gLpZ3l162kHl\n",
       "xWCnFYL33oX9t1TZQdmnjnb7FTaK3GmzJS6eiut/L1PBj9Z+ntVRNFJb0uBCe8h1eOV1Wh+VZiYe\n",
       "uK2JMEEQfUcy3bP1ipa0MA5aVHxJe9r2zsInEqUgoQE2TplM1DlVVFnVQXhxhc2SOn4WIzkuE/O/\n",
       "4kDMvxQFpv+hVOK0HQcdgCptFLuTf6bkV1kmiExC0ZZKmkRLF4riJacd5rWNZkVAuuRpp8cKkgrq\n",
       "NlXFJ3JcXzTL3LXVMa7lutTar6fInUH+GdkPqC9no3a/Y0vq4jc17gmgab7d0cxTLHnyTraC+m3V\n",
       "aZXpqSZ+HqyCcN3JCp+JICxbCqMwYaNofbJI1kkVeXp763+DCL47nTBhI+3/9P87Hb8L/ifiaV/1\n",
       "N1y4cHBjdOv9AAAAAElFTkSuQmCC\n",
       "\" style=\"display:inline;vertical-align:middle;\" /></a><br>(see <a class=\"ProveItLink\" href=\"../__pv_it/927ab8f699d2415942aca322988d5d42c275f7700/dependencies.ipynb\">dependencies</a>)<br>"
      ],
      "text/plain": [
       "strictlyIncreasingAdditions: forall_{i in Naturals, j in Naturals} [forall_{a_{1} in RealsPos, ..a_{_a} in RealsPos.., a_{i} in RealsPos, c_{1} in RealsPos, ..c_{_a} in RealsPos.., c_{j} in RealsPos} [forall_{b in Reals} ((a_{1} + ..a_{_a}.. + a_{i} + b + c_{1} + ..c_{_a}.. + c_{j}) > b)]]"
      ]
     },
     "execution_count": 2,
     "metadata": {},
     "output_type": "execute_result"
    }
   ],
   "source": [
    "%proving strictlyIncreasingAdditions presuming []"
   ]
  },
  {
   "cell_type": "code",
   "execution_count": null,
   "metadata": {},
   "outputs": [],
   "source": []
  }
 ],
 "metadata": {
  "kernelspec": {
   "display_name": "Python 3",
   "language": "python",
   "name": "python3"
  }
 },
 "nbformat": 4,
 "nbformat_minor": 0
}
