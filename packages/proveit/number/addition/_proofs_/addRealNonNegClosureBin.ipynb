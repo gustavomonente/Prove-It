{
 "cells": [
  {
   "cell_type": "markdown",
   "metadata": {},
   "source": [
    "Proof of <a class=\"ProveItLink\" href=\"../../../_context_.ipynb\">proveit</a>.<a class=\"ProveItLink\" href=\"../../_context_.ipynb\">number</a>.<a class=\"ProveItLink\" href=\"../_context_.ipynb\">addition</a>.<a class=\"ProveItLink\" href=\"../_theorems_.ipynb#addRealNonNegClosureBin\">addRealNonNegClosureBin</a> theorem\n",
    "========"
   ]
  },
  {
   "cell_type": "code",
   "execution_count": 1,
   "metadata": {},
   "outputs": [],
   "source": [
    "import proveit\n",
    "context = proveit.Context('..') # the theorem's context is in the parent directory"
   ]
  },
  {
   "cell_type": "code",
   "execution_count": 2,
   "metadata": {},
   "outputs": [
    {
     "name": "stdout",
     "output_type": "stream",
     "text": [
      "Beginning proof of addRealNonNegClosureBin\n",
      "Recorded 'presuming' information\n",
      "Presuming previous theorems (applied transitively).\n"
     ]
    },
    {
     "data": {
      "text/html": [
       "<strong id=\"addRealNonNegClosureBin\">addRealNonNegClosureBin:</strong> <a class=\"ProveItLink\" href=\"../__pv_it/3502f7724139ef367b2d71d8416eba0e33790d340/expr.ipynb\"><img src=\"data:image/png;base64,iVBORw0KGgoAAAANSUhEUgAAAQsAAAAcBAMAAACE34f2AAAAMFBMVEX///8QEBCIiIhmZma6urrM\n",
       "zMxUVFQiIiJERETc3Nzu7u6qqqp2dnaYmJgyMjIAAAAcRTyBAAAAAXRSTlMAQObYZgAABEVJREFU\n",
       "SMfNV12IG1UU/pLJZJKZ/OzDgmARxtafpVAJu7Zs6Y8Rob6oTRFqH4QNbVW0KNvaumL7EEvVbJZK\n",
       "tFCLL44uqKwpGVpsWRAM24o1TcsIIm1ZJRZacJWwL4JGKJ577ySdm5/uslmod9l7k3vunPnuOd/5\n",
       "7g1wV5t/pnRX3x94mQ+zOLNcHtXkUp469gLr9yNu+ZcHxvalPXbsHUD/Cz47kF4WGHNLfK5wBOo/\n",
       "0BxcWg4Uikld2Olinb4Tjjm1Ds2EZgFVNvFLDzA+ISf4soNBf3sUCOblyeje7K3fjorPjzgUDZ8J\n",
       "fwK42EtcWTvHut87WWLkXq+2Tupp9WiOoRywGTfiSYTngRMspJkeYKxge0x4Z065Y9ymbqZleShc\n",
       "QuY4obiQdCsFOEjoaIjYS0cRrlOn5TvB2MrS9an75crYWLUBY30M+jAv81VcN4ZpI+WpqY96CEa0\n",
       "jzrZQQPG9zwJQlV2rPZEY30IakqoaIXF8X76/zubPdRLoVT5pigsGwfvlWHcXLmBIs3zpc95k5Le\n",
       "IvtgYSM1G29zzrEWZq0Omsm9Xio33TJeMeo/no/NSzD0W1YxjyhPxe2CIRjG6y0lMUKve6KdzcDP\n",
       "jC05nVP3Gckc3cN8Wc0KjTENJI7p90HJSDCMOuImjFH+cg9F7xn7g4xZarlGzVPiNPi92nN2YNd1\n",
       "GrbQXB9Y3t2w0pP73t1MUhV4FfDRn9s0Zu2n5HAlAi7XantrtZsiXcUSVB6ibTVqLkXPJ3Itmy4S\n",
       "jIijNQXnmyHHH0GZuXt2dbgPB/h+WWS+OrcJZinyGUvLoPUBtJRHHBgMXwbFlBQNsmy1XRgnvAX7\n",
       "6I5WBSQY4WrzbLoyPQWCcY1FR51owIhTXqMTH1sEI3qSs972wAi5SaGNfytXStzBYxYCPCk+L4zQ\n",
       "SbOFG4w547upm3zoBgJsYwwGXUUMCv08OPVHVr5CBKJGMAo0nHEQh6/B3qBL0aKN14y8BCNJfHEp\n",
       "qpgeGGp6bXul4DTh1Q/QKRODgDGUEER0KfqwtUqcPGZJGRLs9VDU3ycEPWRG34hI0Qg6IdqXIq5X\n",
       "Bz1ijovBlATjR46akCoJdRST3K3y4n5gradgD+NXnbPUXPdSEkpKLtgAU9EnaWrng8cfkAt2kJ3g\n",
       "MfHGz49YzaMtFXr/XwnGMLfQAp/tT+M5qiHTH/nwJzlk/VinvpnNHob5w5oOF63+rmLO2xfu+NR7\n",
       "Y9VuEni9WTL50DUrKJJiPG/plUrlfMNWp9MrLZLydRkFMklgNrYdbVPeLzMLC7Feb3zy5UeeRiQl\n",
       "uFH23JbDObwVzeA7ASNSaHeyjXXjXV9RXcSx1LwFBnae2gRMMPm6XJrc7NHuFdheIQISL41Df+pD\n",
       "7V6DdpdrjyiM/MIwtFTLrwbiRusaQwwDxI077LfrJfDqIk7H2UWsmV5wxekeL7OLunQ5C64wkr3B\n",
       "UCz8X9p/az8hMIFGuvsAAAAASUVORK5CYII=\n",
       "\" style=\"display:inline;vertical-align:middle;\" /></a><br>(see <a class=\"ProveItLink\" href=\"../__pv_it/3502f7724139ef367b2d71d8416eba0e33790d340/dependencies.ipynb\">dependencies</a>)<br>"
      ],
      "text/plain": [
       "addRealNonNegClosureBin: forall_{a in RealsNonNeg, b in RealsNonNeg} ((a + b) in RealsNonNeg)"
      ]
     },
     "execution_count": 2,
     "metadata": {},
     "output_type": "execute_result"
    }
   ],
   "source": [
    "%proving addRealNonNegClosureBin presuming []"
   ]
  },
  {
   "cell_type": "code",
   "execution_count": null,
   "metadata": {},
   "outputs": [],
   "source": []
  }
 ],
 "metadata": {
  "kernelspec": {
   "display_name": "Python 3",
   "language": "python",
   "name": "python3"
  }
 },
 "nbformat": 4,
 "nbformat_minor": 0
}
