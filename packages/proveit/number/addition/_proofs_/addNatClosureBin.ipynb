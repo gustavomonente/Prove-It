{
 "cells": [
  {
   "cell_type": "markdown",
   "metadata": {},
   "source": [
    "Proof of <a class=\"ProveItLink\" href=\"../../../_context_.ipynb\">proveit</a>.<a class=\"ProveItLink\" href=\"../../_context_.ipynb\">number</a>.<a class=\"ProveItLink\" href=\"../_context_.ipynb\">addition</a>.<a class=\"ProveItLink\" href=\"../_theorems_.ipynb#addNatClosureBin\">addNatClosureBin</a> theorem\n",
    "========"
   ]
  },
  {
   "cell_type": "code",
   "execution_count": 1,
   "metadata": {},
   "outputs": [],
   "source": [
    "import proveit\n",
    "context = proveit.Context('..') # the theorem's context is in the parent directory"
   ]
  },
  {
   "cell_type": "code",
   "execution_count": 2,
   "metadata": {},
   "outputs": [
    {
     "name": "stdout",
     "output_type": "stream",
     "text": [
      "Beginning proof of addNatClosureBin\n",
      "Recorded 'presuming' information\n",
      "Presuming previous theorems (applied transitively).\n"
     ]
    },
    {
     "data": {
      "text/html": [
       "<strong id=\"addNatClosureBin\">addNatClosureBin:</strong> <a class=\"ProveItLink\" href=\"../__pv_it/550b0afd9902129a258c2bb2e148d4b5231076750/expr.ipynb\"><img src=\"data:image/png;base64,iVBORw0KGgoAAAANSUhEUgAAAMsAAAAVBAMAAAAa4QdfAAAAMFBMVEX///8QEBCIiIhmZma6urrM\n",
       "zMxUVFQiIiJERETc3Nzu7u6qqqp2dnaYmJgyMjIAAAAcRTyBAAAAAXRSTlMAQObYZgAAAw1JREFU\n",
       "SMetlU1o02AYx/9tmn4kTedBPDiEuPmFpzLBg25YEfGirnroFAcrwyHzIBXRiYrUIdhtTIIHNwQh\n",
       "MlCpaMuk4ECxbhNxflBEYYpKDzpwQtluowfx/Wq3dN3MwAee5M0/b/LL8/G+AVZkvhz3qjayjJ6n\n",
       "g292MfeFV5pyJQa4Dav4aO66iRezIaq/ocK0Xcwv4YssECSsfIXYL0ehzDB9kKYibpOiBbnP27A4\n",
       "16TJYbRi+olwHbCK6QET8KdtYjwG98WYZvIa3BEXk11dLLDjve4wYkzXJpLJAbs5GxC+GPOKZS7E\n",
       "xke2CrEzokxTDNXnEolLdjH1wn2NDWutmKm6nSQrLJ9KudKdqh6hGKp3AD1V3ngwX0XsF77bCMxY\n",
       "MMofM2VAY8/MN1wnxjWdYKi+x9ohLY0h5xqUvgyQz4xjfVTcvMhdWQcpbsGoRdToUGN07MU8xm12\n",
       "EI3qHjhL6015ui2nxiewg+aZtsWDsSY88ZuSKSas5i4V4dHJ8H2hcLpQmCIjKY9UFjIL8VCBWJ5j\n",
       "lGiAdBrV/TlPiT45koT6QUKWdigJXeu7ZeKZHvTDinHEkQpboiHLpjktMIMLokGrLDC+fIQoQ5t+\n",
       "wkXzpB47qlNMW91Jkk9imcyNMkYkjXz4c2un1eSwy4SLJc2xEKOlSXaZ3nOcpOusXESAZTk88Yli\n",
       "Npv1fCPK+B+2VrRAKo1TqmHBhEi9RAtIemk66S68jgv9MWFJQTmGIY7xs+p347vCuiCD7FjpuTHu\n",
       "Xl0757dE4855yWQpW46Z2W9eNa6TFoEj7YyiJZFI6GrYl4uxEmyXzycS3QRzu1y8fdyV9o03N1gb\n",
       "uuEdrRAv2N2rvGVaZuN8o2O6RsSU4f1iunk02EujLqIWUR6N6/C/Nxtm98R5/7WufDUdDqPtAPwM\n",
       "GoKW9fXighbHS3rrI/B16a0zufBidInNo6y72oebgD6akx9AVK5F5C2pAVk7rsshuMsP9KD6nsEz\n",
       "l7enO0ltxKrmpy2kNrZ+a8y8xsr0pf+3y/6kP69QB3L4v/YXz2je2qglFQ8AAAAASUVORK5CYII=\n",
       "\" style=\"display:inline;vertical-align:middle;\" /></a><br>(see <a class=\"ProveItLink\" href=\"../__pv_it/550b0afd9902129a258c2bb2e148d4b5231076750/dependencies.ipynb\">dependencies</a>)<br>"
      ],
      "text/plain": [
       "addNatClosureBin: forall_{a in Naturals, b in Naturals} ((a + b) in Naturals)"
      ]
     },
     "execution_count": 2,
     "metadata": {},
     "output_type": "execute_result"
    }
   ],
   "source": [
    "%proving addNatClosureBin presuming []"
   ]
  },
  {
   "cell_type": "code",
   "execution_count": null,
   "metadata": {},
   "outputs": [],
   "source": []
  }
 ],
 "metadata": {
  "kernelspec": {
   "display_name": "Python 3",
   "language": "python",
   "name": "python3"
  }
 },
 "nbformat": 4,
 "nbformat_minor": 0
}
