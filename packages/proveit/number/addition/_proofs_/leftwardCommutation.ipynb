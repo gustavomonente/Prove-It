{
 "cells": [
  {
   "cell_type": "markdown",
   "metadata": {},
   "source": [
    "Proof of <a class=\"ProveItLink\" href=\"../../../_context_.ipynb\">proveit</a>.<a class=\"ProveItLink\" href=\"../../_context_.ipynb\">number</a>.<a class=\"ProveItLink\" href=\"../_context_.ipynb\">addition</a>.<a class=\"ProveItLink\" href=\"../_theorems_.ipynb#leftwardCommutation\">leftwardCommutation</a> theorem\n",
    "========"
   ]
  },
  {
   "cell_type": "code",
   "execution_count": 1,
   "metadata": {},
   "outputs": [],
   "source": [
    "import proveit\n",
    "context = proveit.Context('..') # the theorem's context is in the parent directory"
   ]
  },
  {
   "cell_type": "code",
   "execution_count": 2,
   "metadata": {},
   "outputs": [
    {
     "name": "stdout",
     "output_type": "stream",
     "text": [
      "Beginning proof of leftwardCommutation\n",
      "Recorded 'presuming' information\n",
      "Presuming previous theorems (applied transitively).\n"
     ]
    },
    {
     "data": {
      "text/html": [
       "<strong id=\"leftwardCommutation\">leftwardCommutation:</strong> <a class=\"ProveItLink\" href=\"../__pv_it/55c004e1856d3eb6de0cafc672b26ec412c1d72d0/expr.ipynb\"><img src=\"data:image/png;base64,iVBORw0KGgoAAAANSUhEUgAAA/oAAAAyBAMAAAAem73WAAAAMFBMVEX///8QEBCIiIhmZma6urrM\n",
       "zMxUVFQiIiJERETc3Nzu7u6qqqp2dnaYmJgyMjIAAAAcRTyBAAAAAXRSTlMAQObYZgAAC61JREFU\n",
       "eNrtXQ2MFOUZfm93Z39md++IbVQgmoUrV2JruUCjRFDXNpa0ibhnU4HY9DZXSWNDzaotFUvscSb1\n",
       "/CEdS6pAax0gChy1t0UveI0tW04xBbWb/qRKETeF2pa25xUP4t3V0u9nZvb7m92Z4y6w7n4hu9+9\n",
       "73zPOzPPfP/zLADnkprOni1ATaeXoO6SnqXfvz37n3MDahrcYtb0nUgU6o99WE6/dm/5+Tmyn6nx\n",
       "G9FWh+RDsmRlOuqb/fgMJ/vkh5LouKGyPtpgH6dtaacz7J6iTnVDzs/huy7xeKC2od3Xeaz8CP2+\n",
       "o9Jl1zn7Dzi5ZmOKIJv9sXTc64EteX/nMUG/flapyatv9uPjTvb3sjPlVkrp2KtiqTrGhApDZbjZ\n",
       "rHCcHC5kXVpCeQbrG+wDRMr1dN1Usc+yVB0jNO6V/VfAF/sJqwPSZ6gO3G802Ie3neY+lpsq9l/x\n",
       "hZHIeWX/uD/2nQ7oRIXHvr7Zv9fJBfDt2DQ0x/TBXGzpwlkyI+/MXeIDo7mrNa9g9cDcDGeILZ03\n",
       "4Yf9TQc6bdgh5ZxvvMG+Nupko0XUCs+Ed5Gx2ytzNxjNIwCtPCP6/8x+A1Z6xeg/qY+hZyDDs/pE\n",
       "PlriDDcYUcTXSq/soyv5vglzyF/HSBMzTJLT0emnGuwHy31iBFWVbUVYDNqinEfm9MsgiJ6UVTwj\n",
       "aCDZkvri1V7Z328CIiIusLoewnnukUKhSuCgVmUfXcl16JrIvG6f8sjhBvtN2XIW3anrTbgb1Zuc\n",
       "VVn+dvnwcFYqU3YExyFik/v68PBdw8Pv4CeqBP0FWOYRA5Gk/1fGGJcNkQJQVMbsioquBI3q+0k3\n",
       "1qm89AVG3bPfWeTYvxT00zb7HuptUzf0Z6S+GI22bs5bPHmo+8chNCFhNHXLhv40OKhV6z66klH7\n",
       "cDX7TxXrnv0FBtvyo0oYH/HBPqri+wE+k+UZaSnimueZ/Q9wvd6+hMdAyJIBhfLMvnUlQ1qbXcjq\n",
       "97NCs1fX7G8AdtSnT0C4NOiD/TzcGTcK4wL7adRJe2d/FPfR7culJwi4fp+G8s4+vZJ/P4/b/mPK\n",
       "I6O5umf/UqbTRMPhHvhTtiCz31/CI3krwziiqeTaRGxPjmckXIy2y+w7GOSDcXwDHgDdOMhjBLOw\n",
       "g5vxkVBy3XfOSkSlV3KGYCxVXnpihLJPLumtybPfTOaPxRokX3+vnMecPzN3VVdaZj+CG8m1doap\n",
       "YV3zHv8YIkZgZOFrILPvYNCPsmPHJ/Gd2yjU6VffSvGgJJRc99dy0GVUciXaRY/g/F+V1548Tdk/\n",
       "jL9OTp79BG6jms1anO6fYv5Yxz4HPtb6+p9WtcbLfGHAmIe1Ph/9vrWA1d0RQw9OrsK1d8BmvJTU\n",
       "PXn2SdnNtdjwx9nlM2eXJ27fLt3tieYcv0pYmT72kH2+MLQZKgzZsA/cjlOhRlMrAm67PFa710Gq\n",
       "bSI/efZJu3G4FtmnrZ99r6zxf+zqMyk/IM/8RmHc9N0uPxgBb5XPJ2qzEZ7nssOL0hnKfvJQX98T\n",
       "5zLqO9rXtztXi+wHxtjK0H3+TiSamj7sh1zs71tj/vd7e9efC/stvb0PFmqR/QS3u3r+3uy6/bHp\n",
       "GzUl3V5audxifzV5QALiKynN/GQucJEb++GM02z6TMtLFd2hYW8wwdOT8wfHL4yncM0d5yHoJRb7\n",
       "nwUdsaBRArV7XoI5ZGZj7TysWJoOXIwz37TLORaL/VC7onN54eDaCs1Z/NGvdVmTbMnIpKGKbieE\n",
       "PlI5sJs/PAL1m+6y2I9AwJqt7xm6Fl5ImEG7IdJfXFSMdx+Ca3B+XLQ4qz05uJLFxShPPwxfUfcG\n",
       "GEFfaWr/ws1LXmFk0j/d3HyIeKlyYDd/g33EfqIYsfqIR7aa8MtUuz2HgTcG+yD+uyAUnGkwa3HY\n",
       "fw3YQR9BebMAcTX7GCH5Y4AXUb7FUBgV02DRLYSwmhDXwG7+C6XlPy/p2xb7sdKtiNw23AWgNDDw\n",
       "A8L+9iW4SUcV57ZVqQK5hbdkeYvD/k+0LF7jupMOFDBK6DaU58cCO9rIohNBuHEARUXfnXO/DpKR\n",
       "XZFoM2X3gbl8CH3hp/KVArv7E2N1zL496oOHbkd3osWka74DiWe/jL/bl9M13Hjm0B8x181//sI4\n",
       "b3HYjz6eBtiZ6TQhjNjCKMlnxWGg/i1tHPsIwpE3qfHjZispwhmZgeZ9aCgaNnh3JN3Bh6gSmPqv\n",
       "A4U/II8GY8UPJdWDsulim/3nUMO9dR/opIEcgAIebOGdhx2U6wRpOVtW4wrMWhz24/idk0WwArRf\n",
       "mxQlvkckIdiuoSgmRfiFdTY9cAwX4Y3sNJhKjjj3YtD4EIvQNVQITPzwHCj8yVHpnuyarvvvWbVB\n",
       "64qbJMTWaHhMtgQkLM/J3rPZb0kRJrR7e3t7EPtP0mHARljR29ubimdiRXwqHfNR+8lZHPbxu0kw\n",
       "G0viIiZFiQ2Ie39N+QCZSRCEH32JGj8KV+EivJEpkw7KZWaDEKJKYOpfAgp/XGb/H9NW/Y77OtpV\n",
       "EjLhL6olLtClqTV9owiznzTxkD4DWVr3Q7dYQ64wrelwI3465mszDN5SZv8IKj8GG/sIlQTlmhSu\n",
       "6EzqN6JHzL0pihDcjgqg73FEDS7CGZlTN5vyyaOCG/fVbIhqgal/3U3tsl/7QFobkW+6pw0Vd6ta\n",
       "teG6+VNNEsK+/l8VBMriggNSq3DKZp/OigrwMs78AeAobDbxzkMCU5tMQ7IQexh6tFyKsXDs4zRT\n",
       "Gy0SEgjKppchkdpsonLWR5PReRM8304RYkszcACZ70t2kyKc0SqA/kXMN+CHOwX3CQgyIZBhpnba\n",
       "PbDtv2xrkfFzrR+bIsZ0sc+rNqoS5yYJYV//98K+LS7YJp3oBMu+vsaAKHrgQvenUV3ryJOdB7w/\n",
       "vOwEqlXabNQmdmUYi8T+5z7RSknAKKC//vfVCEWbCR0G/siHuvZei1cFCQL8dPh7GYR566ukzeaN\n",
       "tICBS68p0JE669505RVMCGSoGNjyh/7SzvrtdL94T56A6WKfV21UJc5NEsL2CF7Yt/ub5rQ4Cx5j\n",
       "2SdpPur3acqTnYcA6m+tSPYw2bGI7NO6YwoowOV2hmRMUkQO5JQ5rHKXQ8SrBKb+QOpknvVb6Xrx\n",
       "vrWCqNHwIJxgJSCO1ZZjqFUbVYlTS0IYjYYXEEYCkhC7tPCIxH4Z2BB2HgZdAvHsawuW8ChCLnyF\n",
       "hCkUYQJZZU5WnroMVg5s+YPG0bTi7N82BQN+x4ZqNPwIJ94t75LYVkeOwak2qgtFOEmI/VoOr9Hw\n",
       "DEIlIHR/JikO++hrw2r2k+LOQ9ET+xKKnKuGWeTLxLaUKpcpVg4MFefvneJrDd+xNRq+hBOLnV0S\n",
       "x+rIMVjVhgehCCsJcZowTqPhHYRKQOj+TFycQT6Vcmffc5rutzqTQ8Y0ojNqDnsKams0/Agn7pas\n",
       "1hqyqNqoIhQRJSGKUOvBBwiRgND9GU3c0mioOSA4IrNvaTT8CCdOS9ayHINTbYS8VlsqCVGEGgXv\n",
       "IFQCQg+X2H8Q6p790Kjc8k9KOBFq461lOQan2vBMHJGE6K15RSjvIPRKyP5MuZCdGipOgHvkUd+k\n",
       "hBN4l4S1luUYnGrDO/tYEhIMlRShfLBProTsz0ijvkBDwS0P+ocmKZzYuo9nJOjIMVjVhkRcWd9h\n",
       "C0VYScjuRFYRyoPahJOAkP0ZCBaUI576Zr9JuCnLJimcgB6BEUeOwak2JOLWcsggSEKiRVWo6moT\n",
       "TgJC9mfE1/Qav9xizaxcVnr9CSfwLknltT46zvDaaFvtv6E62icI2Z+BncIh1hpgnf9im7DzVt7l\n",
       "8SecwLskslU+rKpQhIvWoTzaJwjZnxF3eeKzGuyj9Jhw/vbb7z6FE3iXpHryKxSZPxUgZH9G3OFt\n",
       "/FojqNbAdl1IJ9czZUjiG/dfhQb7OF0l1KwL582u8OdnTRmW8NJcsnuK2K/1X2gPpy7YMzs4bYvc\n",
       "U/YL7TX/vzN8Guou6fRNavy/M/wfmjaZgujKQiUAAAAASUVORK5CYII=\n",
       "\" style=\"display:inline;vertical-align:middle;\" /></a><br>(see <a class=\"ProveItLink\" href=\"../__pv_it/55c004e1856d3eb6de0cafc672b26ec412c1d72d0/dependencies.ipynb\">dependencies</a>)<br>"
      ],
      "text/plain": [
       "leftwardCommutation: forall_{i in Naturals, j in Naturals, k in Naturals} [forall_{a_{1} in Complexes, ..a_{_a} in Complexes.., a_{i} in Complexes, b_{1} in Complexes, ..b_{_a} in Complexes.., b_{j} in Complexes, c in Complexes, d_{1} in Complexes, ..d_{_a} in Complexes.., d_{k} in Complexes} ((a_{1} + ..a_{_a}.. + a_{i} + b_{1} + ..b_{_a}.. + b_{j} + c + d_{1} + ..d_{_a}.. + d_{k}) =  \\\\ (a_{1} + ..a_{_a}.. + a_{i} + c + b_{1} + ..b_{_a}.. + b_{j} + d_{1} + ..d_{_a}.. + d_{k}))]"
      ]
     },
     "execution_count": 2,
     "metadata": {},
     "output_type": "execute_result"
    }
   ],
   "source": [
    "%proving leftwardCommutation presuming []"
   ]
  },
  {
   "cell_type": "code",
   "execution_count": null,
   "metadata": {},
   "outputs": [],
   "source": []
  }
 ],
 "metadata": {
  "kernelspec": {
   "display_name": "Python 3",
   "language": "python",
   "name": "python3"
  }
 },
 "nbformat": 4,
 "nbformat_minor": 0
}
