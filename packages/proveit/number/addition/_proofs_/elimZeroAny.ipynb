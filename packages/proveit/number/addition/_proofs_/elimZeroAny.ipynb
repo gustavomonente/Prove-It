{
 "cells": [
  {
   "cell_type": "markdown",
   "metadata": {},
   "source": [
    "Proof of <a class=\"ProveItLink\" href=\"../../../_context_.ipynb\">proveit</a>.<a class=\"ProveItLink\" href=\"../../_context_.ipynb\">number</a>.<a class=\"ProveItLink\" href=\"../_context_.ipynb\">addition</a>.<a class=\"ProveItLink\" href=\"../_theorems_.ipynb#elimZeroAny\">elimZeroAny</a> theorem\n",
    "========"
   ]
  },
  {
   "cell_type": "code",
   "execution_count": 1,
   "metadata": {},
   "outputs": [],
   "source": [
    "import proveit\n",
    "context = proveit.Context('..') # the theorem's context is in the parent directory"
   ]
  },
  {
   "cell_type": "code",
   "execution_count": 2,
   "metadata": {},
   "outputs": [
    {
     "name": "stdout",
     "output_type": "stream",
     "text": [
      "Beginning proof of elimZeroAny\n",
      "Recorded 'presuming' information\n",
      "Presuming previous theorems (applied transitively).\n"
     ]
    },
    {
     "data": {
      "text/html": [
       "<strong id=\"elimZeroAny\">elimZeroAny:</strong> <a class=\"ProveItLink\" href=\"../__pv_it/e8bd684821eb06f801dccfd6052eb3ffb5e7dd530/expr.ipynb\"><img src=\"data:image/png;base64,iVBORw0KGgoAAAANSUhEUgAAA6UAAAAZBAMAAAA775XmAAAAMFBMVEX///8QEBCIiIhmZma6urrM\n",
       "zMxUVFQiIiJERETc3Nzu7u6qqqp2dnaYmJgyMjIAAAAcRTyBAAAAAXRSTlMAQObYZgAAB5xJREFU\n",
       "aN7tWn2ME0UUf3ft9mO7bfmDiEg05U6RqMQGEjFyaNXgxT/EopGPaHLNBUIwSKpGTsFoxUSLSFIl\n",
       "AqLoApGDA22DXk4MSuUUI4hp/IhAkDThwwimEoLGO5A4X7vd3dltZ/W8OxIm99revHnv7ZvfzJu3\n",
       "bxdAvM3vyMHlNsxba0fRzfD05Rm7BFowNfwxDZYoDau206Zv/ZBeUShHCWNaxh0/C2IawV/hwZ3g\n",
       "LYwGoikTvjR3yC+4WqhbRrEfPv4UkjMD5O8oN6OrDixghDDdj/8/JYipUkBfEXVQMf2V0UC009Bp\n",
       "ASMSd6XgmDaVZY4VGahk45ir0boDHzBCmK7FXxlBTMnAtYMKaThOydJ2OIWgWI3e8AhQymb5aEFE\n",
       "q844r3Xs4YZ8L3gtjmY4GzV1aAzdASVGCWGKd51SED1P8YbeP6iY+nOUBgLTQApC/Wb5+1U3mHr7\n",
       "tY4N3JBnBgjTqg0hTHUH5BGUEKbhfV1da4RzpCNdXVsHN1Vaw2ggMI2mwHveLP8VuMFU0X2PJKyp\n",
       "XHqAMFXSrjCtOnCcEs57/8pmnxXGNJrNvlwcVEybGQVbJl7lBtNVvWNVa28+Dt6zZvmTTVNcYBpp\n",
       "b2YhTbEeB41xq9H6mJp94mwIYVp1oJcSxnQewHJhTH1JCAxu4WEloztzkTMuMPWOht+53neLIJkx\n",
       "lS+q+Zw4pvlTch875sm5/G0FN5LUBEpWo/UxNfvE2RDB1ODAUUoY07tJEtdoXXeRpB2m3jjJrf5F\n",
       "m16uyfZWHBhLKclXgwclaLNFMd1QglurXmmYxkG6YJJHx2s0Vl+rxtitwlk6NSFrqPUXNKNSRhBT\n",
       "5lOzjY36OhiDOgAn0M8eShhTPzSiJSZRsKUnv4CxpBARoqKzWhKNVxhqDmmYwGl/dX57rZthyjYH\n",
       "K16m14E9kpKnH/wxeHAysO3xeKVykr/9rFR+uaZSwdd/hwpPMK+qvVrsrcp7ypAv1tFqYNwO8gU6\n",
       "NdIZy6CGBDMqTUpbrsVJG/UJ5vA26umoMogDADhat1HCmColPxu5rXcqfKyoHj2T2jWpFMrsg9sM\n",
       "mB4wVZPwCHm2Kv3mcENsYEcKtWVOO7AZpg0ZyKPt0Sq6T68E+Q+7HClkzpHQ3d39hfpaNcYxPcey\n",
       "xZQa9aYF9ynzyc5GfR2MQR0gzYBpsDyTHREr1qnwaSyuaGIHd3ZB6DsPFA2YviMZVw0eEX4bYJe9\n",
       "XSM7mqst0+fAZrEXLcbdII4p2k6hM/y9TAbC5nuZaAlvLmFM/8Z7i54V6ep5epLFXmZUGFPmk50N\n",
       "YUypA6S1UiL13uVz0XWMwwcrat3drxNMN07BZycSfXhOzIhpYDVaj/LERWR9kRHTupEes71N405w\n",
       "7LamR6GGjHR2nGrLZjlSvgCLQjlxTM+Dr7wTe1W75hBNoENNHNNz+MjcOEXPkQwN5UjUqAtMiU93\n",
       "pWxsiGOKHZBJpmzIkeBDJK9EVVr57VbefwR/x6fT4m4oue9HI6YhfPZ0JttU8Kl0xOFDXMh9SkKr\n",
       "uWxmX682YxEnmcYlKJ/x5Xg2y9ADsfBihZ99+SKemzL7YZiDZfBTqoi9MvUuhQ1Jk7yvFIgLaNUY\n",
       "j8GLZGrQOWa9o8P5AjHK4UGU6CoN2qhPxX4bGxym+tVoOhiDOODx4s4WSgRTnDet6wGZJDHdUMSz\n",
       "KOf2wiaKqaJnN8QOzjEmwSyQPlfpiE+4ZxSeuISGWtjL4CgWcZJB/pGL5dgsosjt162+1mZHLcZh\n",
       "L8V+GOZgc9Oc9sS6HsvMbG+aZ0Fv4gEQ0KoxNt1UIlNjc1uAUSBGeTwWm1QajGOfgtvSvA1eh341\n",
       "mg5twWAHtiq48wQlgmlYJVMuPZ3NLkOYrvezmDcrm83GQslgKW3E9DCiMYCCml+lI956yIpPQ6GR\n",
       "GDaxR8ItWMRRJuHhZfjaoHCOpC0kpwhmkheOvdXjoNO5Nigce7XVbNMrHHv1wA9ympL+/FTuT0KK\n",
       "7lPvAyxn8dF9CtNiRkzx4D5Y2YUBIiM8G1GPyVw+Fzis7oiZ2f1oJWBMHWSiakMhfMSGba7h67Pf\n",
       "5eCqbKzfYq/4Xl6+rlYzo692DV/Hg7dqpy3/nk1vfR0mBk5ADTV8hnq5COTR4g8AR2CtChJKJ/CE\n",
       "hBMQLlowhdHSuRIGiIwItiRhT/AVJEQ+0F9Dru0++ChuZi8JZwimDjJ+9SC80Wlka8aWg6HQ1eOq\n",
       "zoG9EmnutEojbJ+16fW1kLuC+GeK3ZW70zEDTM/aGOoLcxBAyZP3uQTaKjMK0JgBWIGX8HGAlBXT\n",
       "e25sJpiSEbC98lJSGgMzctJo9IGEve07puIqook98xsSrp1kpIVFmnnrbM2Y8Zn4qufb3biKvRJo\n",
       "LrXiqQk4PxMPTv4z5kbd5q/5Prc6xhvWvvndlfFZ7fwpkCjfiI42S23QWAxTjSNCVQa9Be708myC\n",
       "aQ2Z/cAbHX7vruCpOWTTP4TvriDcwjlKTu8jhXJzX1Nta/iGCHSz8YGG4QWdEF3Cvhs4tkWElzkF\n",
       "l0CznZohbb57jU+sHDANw8IFUAdTSysZhGuynWWCb5YvBUxtp2ZoMd2bq4+pQ+v4f9/vDfdefn34\n",
       "v7fWjtQ/lPzqpuG1fn0AAAAASUVORK5CYII=\n",
       "\" style=\"display:inline;vertical-align:middle;\" /></a><br>(see <a class=\"ProveItLink\" href=\"../__pv_it/e8bd684821eb06f801dccfd6052eb3ffb5e7dd530/dependencies.ipynb\">dependencies</a>)<br>"
      ],
      "text/plain": [
       "elimZeroAny: forall_{i in Naturals, j in Naturals} [forall_{a_{1} in Complexes, ..a_{_a} in Complexes.., a_{i} in Complexes, b_{1} in Complexes, ..b_{_a} in Complexes.., b_{j} in Complexes} ((a_{1} + ..a_{_a}.. + a_{i} + 0 + b_{1} + ..b_{_a}.. + b_{j}) = (a_{1} + ..a_{_a}.. + a_{i} + b_{1} + ..b_{_a}.. + b_{j}))]"
      ]
     },
     "execution_count": 2,
     "metadata": {},
     "output_type": "execute_result"
    }
   ],
   "source": [
    "%proving elimZeroAny presuming []"
   ]
  },
  {
   "cell_type": "code",
   "execution_count": null,
   "metadata": {},
   "outputs": [],
   "source": []
  }
 ],
 "metadata": {
  "kernelspec": {
   "display_name": "Python 3",
   "language": "python",
   "name": "python3"
  }
 },
 "nbformat": 4,
 "nbformat_minor": 0
}
