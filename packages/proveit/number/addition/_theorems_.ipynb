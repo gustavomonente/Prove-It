{
 "cells": [
  {
   "cell_type": "markdown",
   "metadata": {},
   "source": [
    "Theorems for context <a href=\"_context_.ipynb\" class=\"ProveItLink\">proveit.number.addition</a>\n",
    "========"
   ]
  },
  {
   "cell_type": "code",
   "execution_count": null,
   "metadata": {},
   "outputs": [],
   "source": [
    "import proveit\n",
    "# Automation is not needed when building theorem expressions:\n",
    "proveit.defaults.automation = False # This will speed things up.\n",
    "from proveit import varIter, Iter\n",
    "from proveit.logic import Forall, Equals\n",
    "\n",
    "# let's convert these to lower-case at some point (more traditional for numbers, ALL-CAPS for logic)\n",
    "from proveit._common_ import AA, B, BB, CC, D, EE\n",
    "from proveit.logic._common_ import iterA1m, iterC1n\n",
    "\n",
    "from proveit._common_ import a, b, c, d, e, f, g, h, i,j,k, l, m, n, x, y, aa, bb, cc, dd\n",
    "from proveit.number._common_ import iter_a1l, iter_b1m, iter_c1m, iter_c1n, iter_d1n\n",
    "from proveit.number import zero, one, two, three, Add, Complexes, Neg, Mult, Naturals, Integers, Reals, NaturalsPos, Greater, Less, Exp, RealsPos, RealsNeg\n",
    "from proveit.logic.set_theory import InSet\n",
    "# the context is in the current directory:\n",
    "context = proveit.Context('.') # adds context root to sys.path if necessary"
   ]
  },
  {
   "cell_type": "code",
   "execution_count": null,
   "metadata": {},
   "outputs": [],
   "source": [
    "%begin theorems"
   ]
  },
  {
   "cell_type": "code",
   "execution_count": null,
   "metadata": {},
   "outputs": [],
   "source": [
    "addIntClosureBin = Forall((a, b), InSet(Add(a, b), Integers), domain=Integers)"
   ]
  },
  {
   "cell_type": "code",
   "execution_count": null,
   "metadata": {},
   "outputs": [],
   "source": [
    "addIntClosure = Forall(m, Forall(iterA1m, InSet(Add(iterA1m),Integers), domain = Integers), domain=Naturals)"
   ]
  },
  {
   "cell_type": "code",
   "execution_count": null,
   "metadata": {},
   "outputs": [],
   "source": [
    "addNatClosureBin = Forall((a, b), InSet(Add(a, b), Naturals), domain=Naturals) "
   ]
  },
  {
   "cell_type": "code",
   "execution_count": null,
   "metadata": {},
   "outputs": [],
   "source": [
    "addNatClosure = Forall(m, Forall(iterA1m, InSet(Add(iterA1m), Naturals), domain=Naturals), domain = Naturals)"
   ]
  },
  {
   "cell_type": "code",
   "execution_count": null,
   "metadata": {},
   "outputs": [],
   "source": [
    "addRealClosureBin = Forall((a, b), InSet(Add(a, b), Reals), domain=Reals)"
   ]
  },
  {
   "cell_type": "code",
   "execution_count": null,
   "metadata": {},
   "outputs": [],
   "source": [
    "addRealClosure = Forall(m, Forall(iterA1m, InSet(Add(iterA1m),Reals), domain=Reals), domain = Naturals)"
   ]
  },
  {
   "cell_type": "code",
   "execution_count": null,
   "metadata": {},
   "outputs": [],
   "source": [
    "addComplexClosureBin = Forall((a, b), InSet(Add(a, b), Complexes), domain=Complexes)"
   ]
  },
  {
   "cell_type": "code",
   "execution_count": null,
   "metadata": {},
   "outputs": [],
   "source": [
    "addComplexClosure = Forall(m, Forall(iterA1m, InSet(Add(iterA1m),Complexes), domain = Complexes), domain=Naturals)"
   ]
  },
  {
   "cell_type": "code",
   "execution_count": null,
   "metadata": {},
   "outputs": [],
   "source": [
    "addNatPosClosure = Forall((m, n), Forall((iterA1m, B, iterC1n), \n",
    "                                         InSet(Add(iterA1m, B, iterC1n), NaturalsPos), \n",
    "                                         domain=Naturals, \n",
    "                                         conditions=[Greater(B, zero)]), \n",
    "                          domain=Naturals)"
   ]
  },
  {
   "cell_type": "code",
   "execution_count": null,
   "metadata": {},
   "outputs": [],
   "source": [
    "elimZeroLeft = Forall(a, Equals(Add(zero, a), a), domain=Complexes)"
   ]
  },
  {
   "cell_type": "code",
   "execution_count": null,
   "metadata": {},
   "outputs": [],
   "source": [
    "elimZeroRight = Forall(a, Equals(Add(a, zero), a), domain=Complexes)"
   ]
  },
  {
   "cell_type": "code",
   "execution_count": null,
   "metadata": {},
   "outputs": [],
   "source": [
    "elimZeroAny = Forall((l, m), Forall((iter_a1l, iter_b1m), Equals(Add(iter_a1l, zero, iter_b1m), Add(iter_a1l, iter_b1m)), \n",
    "                                      domain=Complexes),\n",
    "                       domain=Naturals)"
   ]
  },
  {
   "cell_type": "code",
   "execution_count": null,
   "metadata": {},
   "outputs": [],
   "source": [
    "strictlyIncreasingAdditions = \\\n",
    "    Forall((m,n), \n",
    "           Forall((iterA1m, iterC1n), \n",
    "                  Forall(B, Greater(Add(iterA1m, B, iterC1n), B),\n",
    "                         domain=Reals),\n",
    "                  domain=RealsPos),\n",
    "           domain=Naturals)"
   ]
  },
  {
   "cell_type": "code",
   "execution_count": null,
   "metadata": {},
   "outputs": [],
   "source": [
    "strictlyDecreasingAdditions = \\\n",
    "    Forall((m,n), Forall((iterA1m, iterC1n), \n",
    "                         Forall(B, Less(Add(iterA1m, B, iterC1n), B),\n",
    "                                domain=Reals),\n",
    "                         domain=RealsNeg), \n",
    "           domain=Naturals)"
   ]
  },
  {
   "cell_type": "code",
   "execution_count": null,
   "metadata": {},
   "outputs": [],
   "source": [
    "commutation = Forall((a, b), Equals(Add(a, b), Add(b, a)), domain=Complexes)"
   ]
  },
  {
   "cell_type": "code",
   "execution_count": null,
   "metadata": {},
   "outputs": [],
   "source": [
    "rightwardCommutation = \\\n",
    "    Forall((l, m, n),\n",
    "           Forall((iter_a1l,b,iter_c1m,iter_d1n), \n",
    "                  Equals(Add(iter_a1l, b, iter_c1m, iter_d1n), \n",
    "                         Add(iter_a1l, iter_c1m, b, iter_d1n)) \\\n",
    "                  .withWrappingAt(2), \n",
    "                  domain=Complexes), \n",
    "           domain=Naturals)"
   ]
  },
  {
   "cell_type": "code",
   "execution_count": null,
   "metadata": {},
   "outputs": [],
   "source": [
    "leftwardCommutation = \\\n",
    "    Forall((l, m, n),\n",
    "           Forall((iter_a1l,iter_b1m,c,iter_d1n),\n",
    "                  Equals(Add(iter_a1l, iter_b1m, c, iter_d1n), \n",
    "                         Add(iter_a1l, c, iter_b1m, iter_d1n)) \\\n",
    "                  .withWrappingAt(2),\n",
    "                  domain = Complexes), \n",
    "           domain = Naturals)"
   ]
  },
  {
   "cell_type": "code",
   "execution_count": null,
   "metadata": {},
   "outputs": [],
   "source": [
    "association = \\\n",
    "    Forall((l,m,n), \n",
    "           Forall((iter_a1l,iter_b1m,iter_c1n), \n",
    "                  Equals(Add(iter_a1l, iter_b1m, iter_c1n),\n",
    "                         Add(iter_a1l, Add(iter_b1m), iter_c1n)) \\\n",
    "                  .withWrappingAt(2),\n",
    "                  domain=Complexes),\n",
    "           domain=Naturals)"
   ]
  },
  {
   "cell_type": "code",
   "execution_count": null,
   "metadata": {},
   "outputs": [],
   "source": [
    "disassociation = \\\n",
    "    Forall((l,m,n), \n",
    "           Forall((iter_a1l,iter_b1m,iter_c1n), \n",
    "                  Equals(Add(iter_a1l, Add(iter_b1m), iter_c1n),\n",
    "                         Add(iter_a1l, iter_b1m, iter_c1n)) \\\n",
    "                  .withWrappingAt(2),\n",
    "                  domain=Complexes),\n",
    "           domain=Naturals)"
   ]
  },
  {
   "cell_type": "code",
   "execution_count": null,
   "metadata": {},
   "outputs": [],
   "source": [
    "%end theorems"
   ]
  },
  {
   "cell_type": "code",
   "execution_count": null,
   "metadata": {},
   "outputs": [],
   "source": []
  }
 ],
 "metadata": {
  "kernelspec": {
   "display_name": "Python 3",
   "language": "python",
   "name": "python3"
  }
 },
 "nbformat": 4,
 "nbformat_minor": 0
}
