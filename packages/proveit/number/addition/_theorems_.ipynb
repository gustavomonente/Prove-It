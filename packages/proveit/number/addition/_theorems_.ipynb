{
 "cells": [
  {
   "cell_type": "markdown",
   "metadata": {},
   "source": [
    "Theorems for context <a href=\"_context_.ipynb\" class=\"ProveItLink\">proveit.number.addition</a>\n",
    "========"
   ]
  },
  {
   "cell_type": "code",
   "execution_count": 1,
   "metadata": {},
   "outputs": [],
   "source": [
    "import proveit\n",
    "# Automation is not needed when building theorem expressions:\n",
    "proveit.defaults.automation = False # This will speed things up.\n",
    "from proveit.logic import Forall, Equals\n",
    "\n",
    "from proveit._common_ import a, b, c, d, e\n",
    "from proveit.core_expr_types._common_ import (\n",
    "    a_1_to_i, b_1_to_j, c_1_to_j, c_1_to_k, d_1_to_k)\n",
    "from proveit._common_ import a, b, c, d, e, f, g, h, i,j,k, l, m, n, x, y\n",
    "from proveit.number import zero, one, two, three\n",
    "from proveit.number import (Add, Complexes, Neg, Mult, Naturals,\n",
    "                            Integers, Reals, NaturalsPos, Greater, Less,\n",
    "                            Exp, RealsPos, RealsNeg, RealsNonNeg)\n",
    "'''\n",
    "# let's convert these to lower-case at some point\n",
    "# (more traditional for numbers, ALL-CAPS for logic)\n",
    "from proveit._common_ import AA, B, BB, CC, D, EE\n",
    "from proveit.logic._common_ import iterA1m, iterC1n\n",
    "\n",
    "from proveit._common_ import (a, b, c, d, e, f, g, h, i, j, k, l, m, n,\n",
    "                              x, y, aa, bb, cc, dd)\n",
    "from proveit.number._common_ import (iter_a1l, iter_b1m, iter_c1m,\n",
    "                                     iter_c1n, iter_d1n)\n",
    "from proveit.number import zero, one, two, three\n",
    "from proveit.number import (Add, Complexes, Neg, Mult, Naturals,\n",
    "                            Integers, Reals, NaturalsPos, Greater, Less,\n",
    "                            Exp, RealsPos, RealsNeg, RealsNonNeg)\n",
    "'''\n",
    "from proveit.logic.set_theory import InSet\n",
    "# the context is in the current directory:\n",
    "context = proveit.Context('.') # adds context root to sys.path if necessary"
   ]
  },
  {
   "cell_type": "code",
   "execution_count": 2,
   "metadata": {},
   "outputs": [
    {
     "name": "stdout",
     "output_type": "stream",
     "text": [
      "Defining theorems for context 'proveit.number.addition'\n",
      "Subsequent end-of-cell assignments will define theorems\n",
      "'%end theorems' will finalize the definitions\n"
     ]
    }
   ],
   "source": [
    "%begin theorems"
   ]
  },
  {
   "cell_type": "code",
   "execution_count": 3,
   "metadata": {},
   "outputs": [
    {
     "data": {
      "text/html": [
       "<strong id=\"addIntClosureBin\"><a class=\"ProveItLink\" href=\"_proofs_/addIntClosureBin.ipynb\">addIntClosureBin</a>:</strong> <a class=\"ProveItLink\" href=\"__pv_it/a2069402c88510dae8d7eebbfe384e3dc8a06def0/expr.ipynb\"><img src=\"data:image/png;base64,iVBORw0KGgoAAAANSUhEUgAAAMkAAAAVBAMAAAAeFNdiAAAAMFBMVEX///8QEBCIiIhmZma6urrM\n",
       "zMxUVFQiIiJERETc3Nzu7u6qqqp2dnaYmJgyMjIAAAAcRTyBAAAAAXRSTlMAQObYZgAAAyJJREFU\n",
       "SMetVVtIFGEU/nTv48zqQ5Ak2pLdiB42pYjQKHwQikII7EncpKSiwpfsimz60KgF+6RhBKNChYG7\n",
       "FBJC4OIWlEksPYQGyYqJ5MNS0UOtBZ3/MursrrRFB84/Z87/z/nO7T8D/A154oKzUkEou36UOMGE\n",
       "DzmiPJScubGeljNpytqNZbNtpXAS+mv2vpgjyifJmTRHPJym274bXgShUCB3WCKCuYFofsGrsuST\n",
       "whKx6rMer6IY1APAOOA1aDuSG4orJDgTxZ6iRSmSzty81Mae++AJHKNnP6kmhoZ6c0xYr+RMFLWF\n",
       "rR+57Gg3zG230UWrl+L5ruvXc0Qpl+ypqthgRfE2lVM+YlweXgbBW401pEpJPgV0ZrF4NJGpuy35\n",
       "YMj72YoSXlR+ADNcXmk1JcgbUiNTNbwJlslZHOvwSwc4nbi1t1KK1wQrpbAFrShjBr4CT7m80krO\n",
       "Oo5YQOl0Id+8Z8qzyrgrpA6wkL2sIx7FqnEFEzvk/jrBthRczLqaTC6UJZMBEvdD+Qk08rKQKpnk\n",
       "52vsUa6hwNW4y8SeGh1CARruMbmQeknr7jMQcUzHrSh5QYTrrLHMwb4kUVZdi4SbzBscxZOoJ8Xg\n",
       "1nnYRZL83IHGTWcpmYxsKqwZC0cxltZjv1iAqOVykXlcjTwnl6jNWQN2nqRcXXSk6KLyWt3lfm4z\n",
       "ysX0wfRIWvXDEVyQQ8tE+Yb+uFn9CvN4j4eSuUtUH08IyuZ3tGCQ7w0I19sxo/DYFF/U/Cwm2O3T\n",
       "WlVrLOfRIS47u7vmHe9yG7g/RcaZgUI6mRfJD+C4rus+RCfQx/O/x3FZ19uhqoZH3oBawUrTlp7N\n",
       "VpTBnax286KHTh8S86B4Vr/xhdC9LDka2QiH3O8NJ98bieMVPVMoAeseHG6AGvrThBHmW+S4eSkm\n",
       "jEkPTCEv1HgEKsO02ahani5c1YJ4wZvBL6uabVoqxqqX9Glp0rgp2JseVwPdJL1rnlwIOEpQP0kF\n",
       "oAxrzefetJrHOpF9UAgazq5W0qZIPquLyIT8Q1BdcvqLLfuQhdyhtT4Y/Yc/sraGtek13Yrjv9Jv\n",
       "r8LQG8VTCnIAAAAASUVORK5CYII=\n",
       "\" style=\"display:inline;vertical-align:middle;\" /></a><br>"
      ],
      "text/plain": [
       "addIntClosureBin: forall_{a in Integers, b in Integers} ((a + b) in Integers)"
      ]
     },
     "execution_count": 3,
     "metadata": {},
     "output_type": "execute_result"
    }
   ],
   "source": [
    "addIntClosureBin = Forall((a, b), InSet(Add(a, b), Integers), domain=Integers)"
   ]
  },
  {
   "cell_type": "code",
   "execution_count": 4,
   "metadata": {},
   "outputs": [
    {
     "data": {
      "text/html": [
       "<strong id=\"addIntClosure\"><a class=\"ProveItLink\" href=\"_proofs_/addIntClosure.ipynb\">addIntClosure</a>:</strong> <a class=\"ProveItLink\" href=\"__pv_it/e06fd0a6ea39637b106e9ca828e8dcd7905a7ec60/expr.ipynb\"><img src=\"data:image/png;base64,iVBORw0KGgoAAAANSUhEUgAAAVoAAAAVBAMAAAD1BjtIAAAAMFBMVEX///8QEBCIiIhmZma6urrM\n",
       "zMxUVFQiIiJERETc3Nzu7u6qqqp2dnaYmJgyMjIAAAAcRTyBAAAAAXRSTlMAQObYZgAAA+FJREFU\n",
       "SMfFl11oE0EQgKdJrkkul9o3EwWNFaogSLAP+qAYERREIfpgEZSGoqKiErX+IiWkD14ryqFQS6Vw\n",
       "KqhUbIMSakEhkBO09eFAUREtEZSCD1HxB/8Qd3fuLpefrU0QHDJ3uzO7d9/N7s5uALiy+C3UIgOG\n",
       "1iY+hW+f6IAcLb+q1ECbwscXMYFaq+wuqbsOfMzPfK0zuwbj1PSuMi3fx5cGBbVWGSqpO7qikPOg\n",
       "XYM+cvUmKtPyfXx5bGjJQIZ4I1/qkEoMzgxIKQ3tGjSopJSqTMv38eW4obXSio1495862sloVegV\n",
       "wmjXwD82OHgBKtPyfVzxxlFrpoU37CokVcvS41HRTkL8TZZPcmj5Pq44wqhwPjtPrYbWap/F6Vvo\n",
       "7A+9MuyEaAdAt/GGMlr0VSMeHdUVhPckQonp0mJ7SjFRmhquY4qZYESrQSSZSsBlLBzSYF7MokXf\n",
       "X6U+kO0yvtadQr2kwzIQWuLTpWXtGcUIq9vW9o56xjbCiNzg0NF8I7sC7kiqU7VoCz5+fr3borsV\n",
       "6bLRqS6CulKFgyRijFbK5yfn5POxsr42B7an0saiRsz5PEY9vN6009Sgu435cbpfhXuhsFSYCZaP\n",
       "L89HB8EH28zdy6QNgPjFpJ1ObLG9RWvLmw00zmMmrTe3mTy2mQ47kXT6nI2W+eBKc/keLC7ZH8Uv\n",
       "Z9VwBopmgvgLfB+qoMX2lALWMkOj1WJcirDqWkYE3dtJEGeouM+mpZtbC7TMJx4WfgDsKX7LtWib\n",
       "Sj6b/uiwXIwWrzLxJ9TnRqugZe0phbHKllgpMdZLkm6jucrgNnlk/wiILEppyGRttNTnDAtx2Dqr\n",
       "+C0t0EreQeLOapclayqGUZPwLJYppx0mIRF/GwW7g7XvpytsuTVG+PlqD4j7EsxOiWaEWGvhmCwn\n",
       "Ce2A20ZLfXUpB1kHJ4ppZ0Mzu7fKshyCzBj0G5kojnq1aUt7pJzWTVfUEbNgc2D7JCnhrBN3rUPH\n",
       "qrMBeW4gzOyUyE/CL/6IQgxj69pko6W+YcXzQi2hFb/DmUFfE0leDDGtw8NKO+/0Vxk+lVCIRhfX\n",
       "A9x5LV8ciVinXAbu08ITgJc2WrbMlbYNLLZ9qreHXcgtKHzWfWRdSnTCOp0FrqJTjc+0iiovAdod\n",
       "lELifBeeaoxOexXwkKni6oxguGy0rvZbKxjtxpQQhI2KEBRmw5pF83W61cFpok93Ppo0s6lHQWUr\n",
       "ZOnXUFVnY0IxNMVJUrMbFsrJkp3XJnQmWMcxnzE4JLc46Lz9h6fx7ins2hT9Ftiz7KZPKdu/kFG8\n",
       "tav//J+OX+HbF3dU9SSrpMP/kT92ZDXfpdFPeAAAAABJRU5ErkJggg==\n",
       "\" style=\"display:inline;vertical-align:middle;\" /></a><br>"
      ],
      "text/plain": [
       "addIntClosure: forall_{i in Naturals} [forall_{a_{1}, ..a_{_a}.., a_{i} in Integers} ((a_{1} + ..a_{_a}.. + a_{i}) in Integers)]"
      ]
     },
     "execution_count": 4,
     "metadata": {},
     "output_type": "execute_result"
    }
   ],
   "source": [
    "addIntClosure = Forall(i, Forall(a_1_to_i, InSet(Add(a_1_to_i),Integers), domain = Integers), domain=Naturals)"
   ]
  },
  {
   "cell_type": "code",
   "execution_count": 5,
   "metadata": {},
   "outputs": [
    {
     "data": {
      "text/html": [
       "<strong id=\"addNatClosureBin\"><a class=\"ProveItLink\" href=\"_proofs_/addNatClosureBin.ipynb\">addNatClosureBin</a>:</strong> <a class=\"ProveItLink\" href=\"__pv_it/550b0afd9902129a258c2bb2e148d4b5231076750/expr.ipynb\"><img src=\"data:image/png;base64,iVBORw0KGgoAAAANSUhEUgAAAMsAAAAVBAMAAAAa4QdfAAAAMFBMVEX///8QEBCIiIhmZma6urrM\n",
       "zMxUVFQiIiJERETc3Nzu7u6qqqp2dnaYmJgyMjIAAAAcRTyBAAAAAXRSTlMAQObYZgAAAw1JREFU\n",
       "SMetlU1o02AYx/9tmn4kTedBPDiEuPmFpzLBg25YEfGirnroFAcrwyHzIBXRiYrUIdhtTIIHNwQh\n",
       "MlCpaMuk4ECxbhNxflBEYYpKDzpwQtluowfx/Wq3dN3MwAee5M0/b/LL8/G+AVZkvhz3qjayjJ6n\n",
       "g292MfeFV5pyJQa4Dav4aO66iRezIaq/ocK0Xcwv4YssECSsfIXYL0ehzDB9kKYibpOiBbnP27A4\n",
       "16TJYbRi+olwHbCK6QET8KdtYjwG98WYZvIa3BEXk11dLLDjve4wYkzXJpLJAbs5GxC+GPOKZS7E\n",
       "xke2CrEzokxTDNXnEolLdjH1wn2NDWutmKm6nSQrLJ9KudKdqh6hGKp3AD1V3ngwX0XsF77bCMxY\n",
       "MMofM2VAY8/MN1wnxjWdYKi+x9ohLY0h5xqUvgyQz4xjfVTcvMhdWQcpbsGoRdToUGN07MU8xm12\n",
       "EI3qHjhL6015ui2nxiewg+aZtsWDsSY88ZuSKSas5i4V4dHJ8H2hcLpQmCIjKY9UFjIL8VCBWJ5j\n",
       "lGiAdBrV/TlPiT45koT6QUKWdigJXeu7ZeKZHvTDinHEkQpboiHLpjktMIMLokGrLDC+fIQoQ5t+\n",
       "wkXzpB47qlNMW91Jkk9imcyNMkYkjXz4c2un1eSwy4SLJc2xEKOlSXaZ3nOcpOusXESAZTk88Yli\n",
       "Npv1fCPK+B+2VrRAKo1TqmHBhEi9RAtIemk66S68jgv9MWFJQTmGIY7xs+p347vCuiCD7FjpuTHu\n",
       "Xl0757dE4855yWQpW46Z2W9eNa6TFoEj7YyiJZFI6GrYl4uxEmyXzycS3QRzu1y8fdyV9o03N1gb\n",
       "uuEdrRAv2N2rvGVaZuN8o2O6RsSU4f1iunk02EujLqIWUR6N6/C/Nxtm98R5/7WufDUdDqPtAPwM\n",
       "GoKW9fXighbHS3rrI/B16a0zufBidInNo6y72oebgD6akx9AVK5F5C2pAVk7rsshuMsP9KD6nsEz\n",
       "l7enO0ltxKrmpy2kNrZ+a8y8xsr0pf+3y/6kP69QB3L4v/YXz2je2qglFQ8AAAAASUVORK5CYII=\n",
       "\" style=\"display:inline;vertical-align:middle;\" /></a><br>"
      ],
      "text/plain": [
       "addNatClosureBin: forall_{a in Naturals, b in Naturals} ((a + b) in Naturals)"
      ]
     },
     "execution_count": 5,
     "metadata": {},
     "output_type": "execute_result"
    }
   ],
   "source": [
    "addNatClosureBin = Forall((a, b), InSet(Add(a, b), Naturals), domain=Naturals) "
   ]
  },
  {
   "cell_type": "code",
   "execution_count": 6,
   "metadata": {},
   "outputs": [
    {
     "data": {
      "text/html": [
       "<strong id=\"addNatClosure\"><a class=\"ProveItLink\" href=\"_proofs_/addNatClosure.ipynb\">addNatClosure</a>:</strong> <a class=\"ProveItLink\" href=\"__pv_it/eef3d0e15477b99770cbe250c4516188555961dd0/expr.ipynb\"><img src=\"data:image/png;base64,iVBORw0KGgoAAAANSUhEUgAAAVwAAAAVBAMAAAD4GEsPAAAAMFBMVEX///8QEBCIiIhmZma6urrM\n",
       "zMxUVFQiIiJERETc3Nzu7u6qqqp2dnaYmJgyMjIAAAAcRTyBAAAAAXRSTlMAQObYZgAABBhJREFU\n",
       "SMetl39oG2UYx79Ncvlxd+n8Y8i6Id42raIwyvaHIp1GhtY/FNIJzuGgIbg/HDKqbquouFIEr47B\n",
       "4dCVgXBD2CRiEyqlFhQPM/+pIGEozl8jghPsH1lBBa0iPu+PXO6Se0sS99Dn7s37veQ+fe55n+c9\n",
       "QGm7rqEfy9SE92nLinnDAa4eQ52Nf4y64NIG2gb2nvQ+LemEP+vX7VWYt27GMxzpCza3Go2r1jaw\n",
       "X6X3aXq9bSJdewIoA/McaY49v+loXLWmtuyI8DZbUF3fIXzWHu7jMQsDgGkxpEGXRpVoXLWmtpQj\n",
       "vG/c8/J8ZWqKBzr5iHsYKQr7TQwpu1IqnUU0rlpT21npfeMO5vjpybua0X2rMO8SLn5mSPjTtl9R\n",
       "4Ko1te2UnhndvbUX3DPV7S4fmDyT9NXW2lvQCgy3ypEOA7NAbCQKV2g92WnpDzqDaxSjbnETQ7gu\n",
       "KLL1cIFIOmbuMsO9ypH28cWoCVl74RK2F3zcfZ0LNcoOjOZiN8vxy8L1WxCfxuP3dIt7voZ7BYUx\n",
       "yetBsLIdSR6gwRJHSiEmi/r71b34yHTjro/b0tSF5+M9NWN6BffJz5uFx9eRoqU8xue+bDSeazR+\n",
       "6fxyS3jAxfNiTltjx/EGWTPOF/ATDSY4kllLyRJ06pyLT6wRs5UMvqa2K8slGJfj8MK4A9Mo55u4\n",
       "XUR3C/Q/grhzwehq3riPm6lTGU4MsydPtrj4ZgCXa3h3uLMd67uP5nnOsZw3njpoeeFkKHv4FN3j\n",
       "6v/AWOMUSPBkGAi1ue/T4rcICbNPUxg3uaLlLpofHGrhck0/rq0DR8J3uZifcDEI9ke4+ZWvvfBS\n",
       "K1dwlNp817h/I1lfZhRyqcUtH5fCYs75Sw0f0r9zbgk6rw2L8KoBXKbFR7RJHNoavsseUPbrFHmB\n",
       "a5rNylIVnrayJ8zO6Or/0qFcl4OAMINvCh5R0O08/ymJOsz61P3kowJpk8Uv11607RnCfScVwGXa\n",
       "QCVGteKlMO42DIuiYNu2ZeQztUkpjAnXi7e/fVtEMpxgja8gBwHhwo6DxRxREF5eTLwmVrx2cgvE\n",
       "huGaQMrSvL6eR0FEN7E/gMu0spP+zm3D1f/C6ZKxgx6ViC4esiKb8FhPXY1R4KL88OjrU6Eiqk8K\n",
       "JH7DuofP2eAr4IcALs96Z+IxHt05N/MGP9BpSPu9ZtDiNFkssjlkvcgtzlJzUFLhBgVG0bHFaZrY\n",
       "4kj0Zx2kKUkSr+ZEwAK4ieLCXo47XtGGMO5oQ9o2PHz3zhprejjFYkjtvND82Vm0WuGZk8WeNo9E\n",
       "oexL8wEkbnfaM21NOGAsGfzNmSEfD+1GYpS7N3J7nnYUwmwHUtjuCFbb/b9V+PtH6A2l6N74l59v\n",
       "VftouvmuYz3tvP1R/zT/0/4DFsdAfVhMjooAAAAASUVORK5CYII=\n",
       "\" style=\"display:inline;vertical-align:middle;\" /></a><br>"
      ],
      "text/plain": [
       "addNatClosure: forall_{i in Naturals} [forall_{a_{1}, ..a_{_a}.., a_{i} in Naturals} ((a_{1} + ..a_{_a}.. + a_{i}) in Naturals)]"
      ]
     },
     "execution_count": 6,
     "metadata": {},
     "output_type": "execute_result"
    }
   ],
   "source": [
    "addNatClosure = Forall(i, Forall(a_1_to_i, InSet(Add(a_1_to_i), Naturals), domain=Naturals), domain = Naturals)"
   ]
  },
  {
   "cell_type": "code",
   "execution_count": 7,
   "metadata": {},
   "outputs": [
    {
     "data": {
      "text/html": [
       "<strong id=\"addNatPosClosure\"><a class=\"ProveItLink\" href=\"_proofs_/addNatPosClosure.ipynb\">addNatPosClosure</a>:</strong> <a class=\"ProveItLink\" href=\"__pv_it/6c8a12df01f49a3d4a9ee0737e4ae09537d111450/expr.ipynb\"><img src=\"data:image/png;base64,iVBORw0KGgoAAAANSUhEUgAAAXwAAAAbBAMAAACNTymvAAAAMFBMVEX///8QEBCIiIhmZma6urrM\n",
       "zMxUVFQiIiJERETc3Nzu7u6qqqp2dnaYmJgyMjIAAAAcRTyBAAAAAXRSTlMAQObYZgAABIlJREFU\n",
       "WMPdmG+IG0UUwF8uu5tks7nzgx96FjVntUhFGu4+VNTWiND6QTGnYhWEhsNSqVKqx13EFnsc0u4p\n",
       "hUXxGgraKcKdRryEs0ftBzF6+sViSYv4p1rYIhY8MD1KC/YU8c2fZGezySXZkA+6MLOzO7s7v/fm\n",
       "zXtvFuB/e+zKWJ28/mS3uNJY4liUzP7VHtvb0SBqulv4E1i2stZ09/B7STfxjVKX8QexREq+Xz+1\n",
       "Oj68yvFterrQAL+XnmK+GCIrWH3gX3qtZt3pl80lMG69sYK/juOfpqelBvhGwbcVGAmsfvePr9s1\n",
       "N8KlpwDyoJXLt5T/ADjG8bNUUxMN8FlH1tfwAZQ8lvDcnm/0vKfjy9rpGOuJQ6BqPKECw6e6ZUqu\n",
       "a/t0Wk77wj+G3w1ZHeAfF+cfMxk2EdrDZCeEqvjBCYYf+yaXO9Jw6f6Sy33obwWfxXIEOsDvTbLT\n",
       "0xsq2n8nPUcc/J4buOf50zT3N8TvM81DxdaZpUe3iOUVuX/wpnbw314cIM7iAX3JWcvzatrBV1Y4\n",
       "/k6AKRQmURdfS0G4jdArfcTEchjLg1bvMuqwVXylHy5zmpjtdkCaZSTPOfjqNY7/EFvkKn9MHf0K\n",
       "BtIOvpKAOfCFfwnLPtTezdRKn9jUKv7xEtzDaaLMaMOyJ92tbacthhq5yvFD0CMc+0eLm+FTgwSJ\n",
       "FLb2wt2tJAhCagl/FAs66eAKhDA/2cbunSmXXyqXL3nfdzoeIPCy+OYyrYfLeFTmYQYuOo5V4Bul\n",
       "EL8Re/Mogc/iCUOOut82j71VqReHRoeqPuxXjh+YgHyqgt+C9teAfk3Gz8raV4vDTlgU+BEbw4Gy\n",
       "nloRHgsLb7nw32uaeclSS9o/yI0nX4TPoXV8/W+ILjMaUJjeAq4w/LNjS+p1kfNMPYdT0Ed4+rBg\n",
       "fPysjB+eRv+lD+5JecZ7f/1v7CxLLeE/z5duvgB7olbr+H+BZp+iNGLpBuNVfEQwnMmoeB74BDGP\n",
       "ngSdjb0AxUUZP0oX3WxqBwHNnTvoYyp+wAaX1BL+ABb8UjgeGze82tf/wSpvi4bUMQk/pItIg+Dc\n",
       "C++rxoGCcMdi0oXfh744e019xTQnEf/dkCvjvIJlCLaD+oUbP5hQsZ+4pZbwHyMMWh+5Y/r2OsYz\n",
       "TuN+WjSkjpnbnhlJIg3i8gmfeZ2Pqx5Yg7XjBkXURTmwX19JsU0MciiPu/DPY1kLaIwhUpPT9LAX\n",
       "XFJLJhZIyknDtraiLqWBWXHxyKGMXW87EZfy/ahdhK9p4ztMFGrzff06HM7V4uet8HkyHwev1EI7\n",
       "RTllO1lp5Brhyx2UxpOy1Rx5IuHrL1oQRuNSXkuC5tmu9KtXSxQ/8gZkCauyJGDteBROIJ9HauEZ\n",
       "qG1OVTKBAyNtJctIo9urP/O9Z7d1pzlZf7e19a51DF9dC8OW2o/VcEEZmd/MvIFHanG80Nl2pVmu\n",
       "MtbmZpEaT7R6xcPTrFJHanHMdbZZ/KlJtCm2h69uvE/agEa5brQNjd+OJrr5Eyfb/E9DxvOfp6rM\n",
       "WAsjnOgm/r3sP8/4f/xP2r+JH1kxlRWwrQAAAABJRU5ErkJggg==\n",
       "\" style=\"display:inline;vertical-align:middle;\" /></a><br>"
      ],
      "text/plain": [
       "addNatPosClosure: forall_{i in Naturals} [forall_{a_{1}, ..a_{_a}.., a_{i} in NaturalsPos} ((a_{1} + ..a_{_a}.. + a_{i}) in NaturalsPos)]"
      ]
     },
     "execution_count": 7,
     "metadata": {},
     "output_type": "execute_result"
    }
   ],
   "source": [
    "addNatPosClosure = Forall(i, Forall(a_1_to_i, InSet(Add(a_1_to_i), NaturalsPos), domain=NaturalsPos), domain = Naturals)"
   ]
  },
  {
   "cell_type": "code",
   "execution_count": 8,
   "metadata": {},
   "outputs": [
    {
     "data": {
      "text/html": [
       "<strong id=\"addNatPosFromNonNeg\"><a class=\"ProveItLink\" href=\"_proofs_/addNatPosFromNonNeg.ipynb\">addNatPosFromNonNeg</a>:</strong> <a class=\"ProveItLink\" href=\"__pv_it/9b86c2de9340650a83836349829d665f83833f970/expr.ipynb\"><img src=\"data:image/png;base64,iVBORw0KGgoAAAANSUhEUgAAAwkAAAAbBAMAAADFQ96yAAAAMFBMVEX///8QEBCIiIhmZma6urrM\n",
       "zMxUVFQiIiJERETc3Nzu7u6qqqp2dnaYmJgyMjIAAAAcRTyBAAAAAXRSTlMAQObYZgAAB31JREFU\n",
       "aN7tWn1sFEUUf73e9u529679wyiVaI5W0KDES4lg+Dw1QmIiHmoKRBIuDUQqSKp8VJHgpUQ4IJBT\n",
       "IiAJstgIWmJ7QSo2UTgoGilgTvwmYE5BTTA5i0FDixjfzOzezu7etbvkYq6GSffj3rx5M/N+896b\n",
       "eVuAG2VolaebEyU9vieHlDYryC2I1/TmlJN2TaU9LSE6pFDwkts0cvNF/0coBBS87SyxQXUNjIKc\n",
       "ZihkyI9zNlEIkIc/XZoo1OElxooj651biuV3TE68/cpmBY5cCqsowEqGwgnyftEmCnJSW3OlV3z9\n",
       "ZGzFilzniyRHzJgIm9Bxir2aLUAtQ2E7ecRsokAZt5emKcghvH1pIUvBAvz7B6Retcc2eG9HzVuc\n",
       "SA1AFSzJ/pjNolPZxVAgK5sucVtxgRjNidJEoYxM4sUioeDuLxYKu9nDv655NX2Zv6EiQiMsswVP\n",
       "kqLg72lr22Y7Op9ta3u3RIP0LlxOvqYioSA3FQuFQJju31o0N95YL17kUCiPsT3SlXh8lW0UKuPx\n",
       "danSROELvFzEK23pHqE4QME3qe5WCzXQUJs06ftoTcQBCnLNSM5RQntuRI1SsJ5DwVXFUFgAsN42\n",
       "CmhN3hI9uk0hM0NP666G353YwgOJQK+F2nFR7DOybUt6M/ZR8L0Em1VXRFs15jga4Zg/qKNAXB9B\n",
       "4SEax+kqMlhSJB8K7hC0X5+SZmSKoWq3SZbraM4y46qX3Z2G+9EFxGyiIN5GvUKtkXpYgT+M+l4F\n",
       "FUmYbRcFTwoWMR1K1LfFOBQqlAU6CsKfDAUPuHAFCWyFC0uPwQh6lJNYo1mTwq6buVNbE4wxdcxz\n",
       "5ClatazCrPdwHULUoaMsH1skZ+EDjecXEqHRCU9V4HkQxtLJy9nsr7dns9az6efZ7HPZLGlS3g8e\n",
       "VN0cI3UKiH+b2QCeGG9qbNql6b1NVTQdCsTQBCRnsyoKYjRQRcyFGc1lhoKc9qhS9nVPhg9lpVzz\n",
       "YeJHY9NSrAcmcCicMpygzRzmzTJXHUjm6cGpEBUFlCUupMtmGVRqspaqKAwDEdeXu8mmLZTFoMPq\n",
       "8M+D+6qZjaR87NrCMD2v0ms8CqBvmitU6bNTUfBl6lUPtnGHAh8HQ7LG8V1XG0inyyHFofCmIVtj\n",
       "5jAVvroykacHp0JUFIgs31q8ob7Lktw5Cz0SrmGp1wEKHSk4bKVeY4vfwOYABWpIqg+lA6niUfAn\n",
       "dVA0W4D185F3FAkQWDo7X6M6emsiiQEo9qk5QR4F71ZcbmLdErp8LBxqaR31s6V6Xs0zxh5w0wED\n",
       "CZFrgtZqhgKRBcIaBYQ+8Gj5lLUsOotXoSLT5QCFJCyREg9GjdTLJLzwhEr8mbRvC9eIO0IdatG5\n",
       "LseBmyE4rqOAM2AovI8DltGwKXun/N5c8gzNYEkjKdLzNY+CRFzj3sg8BYOMlUO1suUCLqSMsfpO\n",
       "pdbYgyc8k8goJASWod1WJEzVDAUiC/H5CQTm1GlZqAafFvg2mrKi0IGdi/+oL5wivUH/ChlS/Ub1\n",
       "PgtrjITyKLRGLChQWTnJXG/jQLyP6BAbprTDGSu/EZq+U9H2SFCJLXccBJGGz05IdRNFJj6FVjZ/\n",
       "WYurLCKQrcNYmAXCEcXKoY44JCCrqboFfjD0gBsZgcgoKCQG1N6M1QwFlEVdaDWupDINhRGq+e+p\n",
       "mdMQtqLgIVNdob1we6SGkVvv8O1rMqq39Z60adWfPBe0eiQqKyeZ600+dZrqUNtrigsfUfcZl2KG\n",
       "5JJfPS+AX6ETE16Ix1tQRztZsN4Es+LxeFCK+NJNPApn8BoO6MA8ipVDyyW46EwN1TfBOGMPw4HK\n",
       "KCxEHbahmqGAssjjUBDjQmVYbfCYwmcwbHskzSIKuRoDwbZHUjN3xG+o4/lMzWCYinZ2ZiuiPwJR\n",
       "tlLdj1NKH/sYJEXg4SCPAmHug01tRIMWDtVOE94zyv6gsbof1W7ooU9FoYAQGs3PmqsZCv0Uwhk9\n",
       "hj0S2R/p2bwcCmKhDHCbYchv56NaCNOhEFve3vryZPPMx7Igh4KUScEn5OUrsgffjnGvCmRiS/4w\n",
       "+FMmFKBauJwmGtQ5fBuwEb3hX1li3qNwIGSsXumPcT0g4QKUUxQKCAmEIfT6XjCNQk3KoyyYPYEm\n",
       "hnPnBeqAcwd7yVm265Bsi+2gI6FkQyoOcljtUHhbWJwAL/oA9+owrr6ZSXDhPDcS9C8ARM0oTLu7\n",
       "lqKgcwjDYWZCqMYbNnY37J9Mch2G6vqTwPWAhC1jRlMZBYT46k4rdFNlGAVDgcjaSpMCrpMhfs65\n",
       "rzy+8X8FnShsz3E7XFtebnAilOhwsHzPN2D+4nkXem1WktRRutAjmzIYXCEa1DkkvYI59L3uPNV6\n",
       "D1JOxkBCToBpFN6czl+xTGgRuZXSF0+iw+8H4VkOBb87S4n5ryp5s3mcud07kf/ZxTWmj4rR+at5\n",
       "gkmGVYjlG6B3gAm1Q2mVvDo0FepnC6Dgh8WNMAgKppLmGg9YXYiQR4jvjYwTFKRQaaGQV4emQr9b\n",
       "OvsfjOb/+P+R/N2W/soH4j8AQ66QHcb05ijcKCVQ/gXsKooxPycKzQAAAABJRU5ErkJggg==\n",
       "\" style=\"display:inline;vertical-align:middle;\" /></a><br>"
      ],
      "text/plain": [
       "addNatPosFromNonNeg: forall_{i in Naturals, j in Naturals} [forall_{a_{1} in Naturals, ..a_{_a} in Naturals.., a_{i} in Naturals, b in Naturals, c_{1} in Naturals, ..c_{_a} in Naturals.., c_{j} in Naturals | b > 0} ((a_{1} + ..a_{_a}.. + a_{i} + b + c_{1} + ..c_{_a}.. + c_{j}) in NaturalsPos)]"
      ]
     },
     "execution_count": 8,
     "metadata": {},
     "output_type": "execute_result"
    }
   ],
   "source": [
    "addNatPosFromNonNeg = Forall((i, j), Forall((a_1_to_i, b, c_1_to_j), \n",
    "                                            InSet(Add(a_1_to_i, b, c_1_to_j), NaturalsPos), \n",
    "                                            domain=Naturals, \n",
    "                                            condition=Greater(b, zero)), \n",
    "                             domain=Naturals)"
   ]
  },
  {
   "cell_type": "code",
   "execution_count": 9,
   "metadata": {},
   "outputs": [
    {
     "data": {
      "text/html": [
       "<strong id=\"addRealClosureBin\"><a class=\"ProveItLink\" href=\"_proofs_/addRealClosureBin.ipynb\">addRealClosureBin</a>:</strong> <a class=\"ProveItLink\" href=\"__pv_it/55a8fff2d583032851cf6e4bc532fc366ec365bb0/expr.ipynb\"><img src=\"data:image/png;base64,iVBORw0KGgoAAAANSUhEUgAAAMsAAAAVBAMAAAAa4QdfAAAAMFBMVEX///8QEBCIiIhmZma6urrM\n",
       "zMxUVFQiIiJERETc3Nzu7u6qqqp2dnaYmJgyMjIAAAAcRTyBAAAAAXRSTlMAQObYZgAAAwJJREFU\n",
       "SMetVV1o01AUPm36k6ZJ++LDcAhh82cIwlhhL7o5GeKLuvky9yCszD/wQaaoFR0Sh2i2IUYf3BAf\n",
       "ooMpddIwkTEQDBsiVh1FBOdACcIGDqk+Sh/Ec3Nv2qbrZgYeODk3X27ul/udc08A1mWRHPWqNr0G\n",
       "bpHBF680j5lXmnC1DyCkucFPNbfyNTmKvyXAslea78xXWKwRuawK0BqH7nndxkeJFIpHFqmReskm\n",
       "WYwbeJmpmK7cBz6StPGYDiAaHmnCGvWVNB24DDxgN/OplMVoOM2ycSmbTo941WyE+Uqa17Zybfa4\n",
       "e3tpN5ymUPy3qvZ7palnHtnVtNFNs1S3E1Wx9RSWy0QLBZIUPw4wWGXFg1YV8CbzPVrsl4tG+KNn\n",
       "NJDsd0oFhzRTragmwdvdFTLVcPQbiSLLdPTs9VbZeXiZurAJOMVFEy1AXIZoHxnzpRK4nbpC0k7w\n",
       "MPid8ya8SOT8ImTJsjHy/MlsC8im+NB5bwN1rgBhMmcunz+Tzy/hiLMgY0LQ3uKhPBorgXaelAbB\n",
       "xVzYWWV+Og1Is0Bo47h1afiejjTS0woanwKZTtdu8Nh0GIxmtKygub0Ko4lYXTga27oIAaIToTEx\n",
       "9tSdQj3RkGaiQjT88JfuSovnYLcOAVs0X/m5GfqA0cYHj6Fc54MFiAGlSRC6bXo9bUSyySUqSiBj\n",
       "wOmo5qJpw3yxEuDkMpourpPhz5CLawz2wZhNw504R+IAfBXsKpCbT7Y5781S52XpgujaTSjH42TO\n",
       "LO7ZaTaicZzhWCLgM/xJOKyqquwX73ykaWgOXlTVAZDf7CjS7KMu9G65u9ld0E3vSYZowsav6U7r\n",
       "XAT1p0FxCcGMxi/oISpa9AiZVYBaSFLRnmf/3Wxse8Ti/hspqxoOPq3nAIidNDdZMzIElyQFXlEa\n",
       "cWL11pkuv5lZpXkU8UDvZAvAMDmec+ZYa7AWut5hDvDsRPt/CInitw1C9Z5BlbO84X7MDTvVNDRg\n",
       "bjz91mzjtfXhq/9v1/xJf14nDpCD/2t/ASgt6T8/GpbFAAAAAElFTkSuQmCC\n",
       "\" style=\"display:inline;vertical-align:middle;\" /></a><br>"
      ],
      "text/plain": [
       "addRealClosureBin: forall_{a in Reals, b in Reals} ((a + b) in Reals)"
      ]
     },
     "execution_count": 9,
     "metadata": {},
     "output_type": "execute_result"
    }
   ],
   "source": [
    "addRealClosureBin = Forall((a, b), InSet(Add(a, b), Reals), domain=Reals)"
   ]
  },
  {
   "cell_type": "code",
   "execution_count": 10,
   "metadata": {},
   "outputs": [
    {
     "data": {
      "text/html": [
       "<strong id=\"addRealClosure\"><a class=\"ProveItLink\" href=\"_proofs_/addRealClosure.ipynb\">addRealClosure</a>:</strong> <a class=\"ProveItLink\" href=\"__pv_it/5a463306701163e36936aeb085b1d27ed23cacca0/expr.ipynb\"><img src=\"data:image/png;base64,iVBORw0KGgoAAAANSUhEUgAAAVwAAAAVBAMAAAD4GEsPAAAAMFBMVEX///8QEBCIiIhmZma6urrM\n",
       "zMxUVFQiIiJERETc3Nzu7u6qqqp2dnaYmJgyMjIAAAAcRTyBAAAAAXRSTlMAQObYZgAABANJREFU\n",
       "SMetl2toE0EQx6dJrkkul+gHQasI8VVFQYJVVPBREewXhVTBBxQa4gMUkarVioqWInitVA4FLYJw\n",
       "IqhENEEptaB4mPqlguSD4AOVKCqoEAsqaBVxdvcu2UtuSxIdmLu5/V+zv+7O7s4BCG3+e6jG/Bnm\n",
       "VdqgoD2gAbxuhyyJXzm9MDSGNoZdM71Kq9Xsz8G96p83vRjspEiPSNsnZ1yxNoZ9NL1Kk7NFDSE5\n",
       "JvX2ANykSH1k/jqdccWa2IIR5kV2S/R+ifCg6NnnN6DzHIASJkghHaOUM65YE5tXY1417iXz/qyj\n",
       "I2vhLg3hsI8nSMHhROI8OOOKNbGdN71q3FAjvW2ey43uUh8G7wgS/FDVowJcsSa2Gab7ly2YXAnu\n",
       "2fQ0nQYKzST5E58MsTUYpCnSdoBuAFfECZdpFVmv6au00AiOUbm4njr4wiiCWfsGgbiB/QT+NUVa\n",
       "TRejxGRp/xBMi+VxV5cuVCcbmLP1rRUfYS5PBXcnbFhcLu6lDCxhFIE2CskttYkdn2kvFMkLLnNT\n",
       "v55eDncU3a3ncQuaeOO525BxKTAcNp8nMHePghebmmjb41xuby73ofSPC8JKHfaxNmmEXJtzaOZS\n",
       "G4r0kKCVIikZr7kFnbqgw71wRCkkQ14T27PBBCDui4wdt6YTklELt4zRnQTydx63j9/IFm4u4Pqz\n",
       "GzF16snMo/X3n+FwqQaX60uPY3nBnijNOZLzBNewJ0PSgPtQPq78GwIjlAI8NBlqeFzfjTD7LUSC\n",
       "7m04jON0duT2KzdaCrhUkw9IowC77L1cjbbqgLthCBhuQ8S+1JIp2IPHfNm4v6A2O0gozKXmDnO4\n",
       "UmxRfqnBbfx3LgyATDvsByPN4RLNHZHaoGWyvZcG2ISd4MhTXPeOdktIM/eFgweV0tGV/+AlmTUD\n",
       "TuiCpzEDKbA7Iz9L1iEMj2pxKpcxpHFh+rp0SFW7EPeil8MlWk3KhXvFYTvuFKin902qqoZdypkn\n",
       "ltDEXI7POjfTIRkOkoMvZgaccGX6lngjUiBelDWc0PMlTtR3+hfAe4YUxHZ5NAoxNrqe9Rwu0ZKa\n",
       "74VehCv/hN5EYDrujywZAi264yHcVNGpRijgqvmw9mSHbROV2xgSrSazBjwkAY7SSw6XZr3Wuo6O\n",
       "bp/u76EXvNVJ3zIBXJxKlOXusOFY4gxYQUKEywuEoqTEsYyVOCb6bg18WMx4jjWyAeNwPfFbyylu\n",
       "c0qqg2ZNqpOmwJp5MzLk0INTBOqxcXmF9bPdUDgKzx6PV1Q8IoXwXLrJIVGbo3YVHcKckWTIF2cB\n",
       "c3qwGnFh7v7P8tynCYTuEiS7zeZ32/VfU/T7w/aFEtf//8fPc1EdjZ3Pb6+o8s5H1dP8o/0FCAlF\n",
       "IPz2wZ0AAAAASUVORK5CYII=\n",
       "\" style=\"display:inline;vertical-align:middle;\" /></a><br>"
      ],
      "text/plain": [
       "addRealClosure: forall_{i in Naturals} [forall_{a_{1}, ..a_{_a}.., a_{i} in Reals} ((a_{1} + ..a_{_a}.. + a_{i}) in Reals)]"
      ]
     },
     "execution_count": 10,
     "metadata": {},
     "output_type": "execute_result"
    }
   ],
   "source": [
    "addRealClosure = Forall(i, Forall(a_1_to_i, InSet(Add(a_1_to_i),Reals), domain=Reals), \n",
    "                        domain=Naturals)"
   ]
  },
  {
   "cell_type": "code",
   "execution_count": 11,
   "metadata": {},
   "outputs": [
    {
     "data": {
      "text/html": [
       "<strong id=\"addRealNonNegClosureBin\"><a class=\"ProveItLink\" href=\"_proofs_/addRealNonNegClosureBin.ipynb\">addRealNonNegClosureBin</a>:</strong> <a class=\"ProveItLink\" href=\"__pv_it/3502f7724139ef367b2d71d8416eba0e33790d340/expr.ipynb\"><img src=\"data:image/png;base64,iVBORw0KGgoAAAANSUhEUgAAAQsAAAAcBAMAAACE34f2AAAAMFBMVEX///8QEBCIiIhmZma6urrM\n",
       "zMxUVFQiIiJERETc3Nzu7u6qqqp2dnaYmJgyMjIAAAAcRTyBAAAAAXRSTlMAQObYZgAABEVJREFU\n",
       "SMfNV12IG1UU/pLJZJKZ/OzDgmARxtafpVAJu7Zs6Y8Rob6oTRFqH4QNbVW0KNvaumL7EEvVbJZK\n",
       "tFCLL44uqKwpGVpsWRAM24o1TcsIIm1ZJRZacJWwL4JGKJ577ySdm5/uslmod9l7k3vunPnuOd/5\n",
       "7g1wV5t/pnRX3x94mQ+zOLNcHtXkUp469gLr9yNu+ZcHxvalPXbsHUD/Cz47kF4WGHNLfK5wBOo/\n",
       "0BxcWg4Uikld2Olinb4Tjjm1Ds2EZgFVNvFLDzA+ISf4soNBf3sUCOblyeje7K3fjorPjzgUDZ8J\n",
       "fwK42EtcWTvHut87WWLkXq+2Tupp9WiOoRywGTfiSYTngRMspJkeYKxge0x4Z065Y9ymbqZleShc\n",
       "QuY4obiQdCsFOEjoaIjYS0cRrlOn5TvB2MrS9an75crYWLUBY30M+jAv81VcN4ZpI+WpqY96CEa0\n",
       "jzrZQQPG9zwJQlV2rPZEY30IakqoaIXF8X76/zubPdRLoVT5pigsGwfvlWHcXLmBIs3zpc95k5Le\n",
       "IvtgYSM1G29zzrEWZq0Omsm9Xio33TJeMeo/no/NSzD0W1YxjyhPxe2CIRjG6y0lMUKve6KdzcDP\n",
       "jC05nVP3Gckc3cN8Wc0KjTENJI7p90HJSDCMOuImjFH+cg9F7xn7g4xZarlGzVPiNPi92nN2YNd1\n",
       "GrbQXB9Y3t2w0pP73t1MUhV4FfDRn9s0Zu2n5HAlAi7XantrtZsiXcUSVB6ibTVqLkXPJ3Itmy4S\n",
       "jIijNQXnmyHHH0GZuXt2dbgPB/h+WWS+OrcJZinyGUvLoPUBtJRHHBgMXwbFlBQNsmy1XRgnvAX7\n",
       "6I5WBSQY4WrzbLoyPQWCcY1FR51owIhTXqMTH1sEI3qSs972wAi5SaGNfytXStzBYxYCPCk+L4zQ\n",
       "SbOFG4w547upm3zoBgJsYwwGXUUMCv08OPVHVr5CBKJGMAo0nHEQh6/B3qBL0aKN14y8BCNJfHEp\n",
       "qpgeGGp6bXul4DTh1Q/QKRODgDGUEER0KfqwtUqcPGZJGRLs9VDU3ycEPWRG34hI0Qg6IdqXIq5X\n",
       "Bz1ijovBlATjR46akCoJdRST3K3y4n5gradgD+NXnbPUXPdSEkpKLtgAU9EnaWrng8cfkAt2kJ3g\n",
       "MfHGz49YzaMtFXr/XwnGMLfQAp/tT+M5qiHTH/nwJzlk/VinvpnNHob5w5oOF63+rmLO2xfu+NR7\n",
       "Y9VuEni9WTL50DUrKJJiPG/plUrlfMNWp9MrLZLydRkFMklgNrYdbVPeLzMLC7Feb3zy5UeeRiQl\n",
       "uFH23JbDObwVzeA7ASNSaHeyjXXjXV9RXcSx1LwFBnae2gRMMPm6XJrc7NHuFdheIQISL41Df+pD\n",
       "7V6DdpdrjyiM/MIwtFTLrwbiRusaQwwDxI077LfrJfDqIk7H2UWsmV5wxekeL7OLunQ5C64wkr3B\n",
       "UCz8X9p/az8hMIFGuvsAAAAASUVORK5CYII=\n",
       "\" style=\"display:inline;vertical-align:middle;\" /></a><br>"
      ],
      "text/plain": [
       "addRealNonNegClosureBin: forall_{a in RealsNonNeg, b in RealsNonNeg} ((a + b) in RealsNonNeg)"
      ]
     },
     "execution_count": 11,
     "metadata": {},
     "output_type": "execute_result"
    }
   ],
   "source": [
    "addRealNonNegClosureBin = Forall((a, b), InSet(Add(a, b), RealsNonNeg), domain=RealsNonNeg)"
   ]
  },
  {
   "cell_type": "code",
   "execution_count": 12,
   "metadata": {},
   "outputs": [
    {
     "data": {
      "text/html": [
       "<strong id=\"addRealNonNegClosure\"><a class=\"ProveItLink\" href=\"_proofs_/addRealNonNegClosure.ipynb\">addRealNonNegClosure</a>:</strong> <a class=\"ProveItLink\" href=\"__pv_it/37c8e147cc68c28dd32058c33834cee06db2e2d40/expr.ipynb\"><img src=\"data:image/png;base64,iVBORw0KGgoAAAANSUhEUgAAAYwAAAAcBAMAAACABpWOAAAAMFBMVEX///8QEBCIiIhmZma6urrM\n",
       "zMxUVFQiIiJERETc3Nzu7u6qqqp2dnaYmJgyMjIAAAAcRTyBAAAAAXRSTlMAQObYZgAABRZJREFU\n",
       "WMPdmG1oG2UcwP9J7pLL5ZIO2YfWoVydFpkbhhZmwW1GhvOLYqq4VRAaimMf1FEnNsLqDKW4dGN4\n",
       "U6hlqLtt0GrsTOiM3T6I0TrQrh1RxM0x4RCmODQbMkGjiP/nJcvd5WXXhHyYT8hzz73l+f+e/+sT\n",
       "gJu3rV0LN3XbopE+mAvEnDy9I641OZ8YaQmGf30Ue18EiuDGgRAfqff0UNPzbW2ROvy9yJGOwioQ\n",
       "qEImWotxuVVmJX8ZgQENXgFYaj2GRyUrl2/4/VN1OM7qAzrsQtPSKYZBLv5QAyNEXalhOQ6TKd5r\n",
       "fBm8Nt881/56oZ1J4/6NaOMWHIQpxpnayh8CJYOHkN6oGPOk+6UJ0zFsF4wp6D9PxDm6n/rGNVT2\n",
       "VYoxSfSeqIFBb0w2LMYqostwxeXZGo8HVPuVz23nibdB8qNTz4yVIhXAbopB1pouelXfIGo603A8\n",
       "IbP4tCYwjvDj+Xjc4BgezYBjY9SuwjRv9FKM4EIq9VZNF7+YSr3fsKcHV2BX5bedY4RY3ulfU9aG\n",
       "R0vAkzyLU6PtZJHqz2RypCZGWzK5N9dwoCIruJqoZUP3rcvBeHO+k/mjQi1SvmwyKq9gS92P6RRj\n",
       "O8A4d/hKDG8UJMepXKRzLi2UziXiWQfw+6AWQkfsd4ohdMAVJlHQsAYsxJjbZIs4A1GKsZkGBJE9\n",
       "Kr74BXTGyhhCGD50bkTPEtn16xE2FGMeKN8GngQ8cZ9TjCN5YvBEogA1aKns4gfje9CPTyaxlWgO\n",
       "RyiGD9w8MXwwvxFOKrpHN6W/IVjnACCw67VNKIPwPIALP7z5iIZXonEVwYd3H6YXzxYKLxQKP1X8\n",
       "hFIo/Hx7oUDIH6B5ja4qiabQV8DGXXyzZA//aYah5H18Mfcf0uETNayYs/jSjXM5oVdzylEybbd+\n",
       "EHzRkjY4hitBYjzHcKCNdpD/MGNMmgKu5yF7cuDa8BtYwAldxLqwZbNvWDDeFW9UDFN6NRc8TmNK\n",
       "xoQhcaNK5+BTcI4h/wOBq1QiEOgausx5Y983trcwmdOaavwZVEmbzsqSrHL8aTOGNIGwcvfOaMWk\n",
       "x7ou0SOlR4wZPHychzZwldTu5S6ezsDOgOYc42/wGqeIRNzFPaoJY6snWjVSwQkU99AcyDRWZSE3\n",
       "b8YIEMecjmIZ5rUapfySiNnNAEav5jw9AN9lLC7uXsEKEkkNDiuV2kgbvJP/tRrVKJyL5VAiBGDB\n",
       "frepGFEy260YX/MKt02lr4ovJ5OjiPGOz1Lh/o7fHtgG4mdWDE9YxPs6p1fX74gAXSdTwBWKzJTk\n",
       "wbsm7qzE8MVK3bAVY+qOpwYjKBF6F1v5qTG9VBpeguQVa83RyzGC+IxcjEKMaUN43IJxgdZGXbwi\n",
       "LjdXxk1fYPTqV+uqbPRWWooRxy7OtI0SwTQ/eWRv3Kjlmz+a9hsBIwenyeBbLEDs+w35LziQsmOk\n",
       "NemCPosTx5hRZRdgZnFx0QKzwVIazpUGqVoFrXkGIlFFaVjtpaIJQ35OAwmVJeyJgLdi29QhXssT\n",
       "jEndv6/UubSBR+EjlPE0w1BmKqfoI914qcJ4dXBZRTpKJBsOcm7Mvvu7Ozlaffe35Z7VFKMvI3ZA\n",
       "n0a6jDA4u5HUKpQ+MPKr3FM5pzfT3LbJSR1Ew/syNrHEqMrOxUbTQhV627aniU3s9w6eubi8vbh4\n",
       "7/0QuL46fORdU3+OEy3/y4rt+OpixO3/UwWrjOrXWpFWY5ACUIgPw/+j/QfcZXvYiiqQuQAAAABJ\n",
       "RU5ErkJggg==\n",
       "\" style=\"display:inline;vertical-align:middle;\" /></a><br>"
      ],
      "text/plain": [
       "addRealNonNegClosure: forall_{i in Naturals} [forall_{a_{1}, ..a_{_a}.., a_{i} in RealsNonNeg} ((a_{1} + ..a_{_a}.. + a_{i}) in RealsNonNeg)]"
      ]
     },
     "execution_count": 12,
     "metadata": {},
     "output_type": "execute_result"
    }
   ],
   "source": [
    "addRealNonNegClosure = Forall(i, Forall(a_1_to_i, InSet(Add(a_1_to_i), RealsNonNeg), \n",
    "                                        domain=RealsNonNeg), \n",
    "                              domain=Naturals)"
   ]
  },
  {
   "cell_type": "code",
   "execution_count": 13,
   "metadata": {},
   "outputs": [
    {
     "data": {
      "text/html": [
       "<strong id=\"addRealPosClosureBin\"><a class=\"ProveItLink\" href=\"_proofs_/addRealPosClosureBin.ipynb\">addRealPosClosureBin</a>:</strong> <a class=\"ProveItLink\" href=\"__pv_it/2b164e8e4c0d1d9672037b437e6216abd66c02a80/expr.ipynb\"><img src=\"data:image/png;base64,iVBORw0KGgoAAAANSUhEUgAAAPMAAAAbBAMAAABbz6TjAAAAMFBMVEX///8QEBCIiIhmZma6urrM\n",
       "zMxUVFQiIiJERETc3Nzu7u6qqqp2dnaYmJgyMjIAAAAcRTyBAAAAAXRSTlMAQObYZgAAA7JJREFU\n",
       "SMfVll1IFFEUx4/74e7OzmoPgpAkU/bhQ8HilimpGEFBUO1DVA+Bi30XhWVllMRiYKNiLD1U9NKU\n",
       "L2LqLn0QQuCABaUVG/QQUWKaRVaDRA+1VnTu3N2ZudPuCuNDdOHO3tk7d35zzvmfcy/Af9m2WlsW\n",
       "wm6bG9kZsrYujN0RmhM6T7KOhqdzQpdh98QzTHoj2dEu/O4xMnhjgexJ4KU73Ux3IV4OsP/5joq/\n",
       "33bqaJsfYIQMpiygeVwMH9NOTWDvN4eHCzk72yFXUYqVL/jh0wBXiAFhC+icGNriZ5wsJAcz5MsE\n",
       "9nG3R4bwJc1qOEPFwscsoK/hQlckHdpBQsHNS3r6fNPZFLoyT0dX4NRwT89lKyp7jp1dmELzDeT6\n",
       "jmZgi6RbXenW0QuxfxfF5jSRTM+T9WEN9hISraqy+Sw6r74E3Tikjvslg8ND63X0FpzYA9D2N8Oe\n",
       "Hm2IrYidSHZtJG+aRUenuB8Ao+r4gCHW3sYpHV0XBFgH3FhG9OaxjOj3VCvcArCHWfSgBF8B7umZ\n",
       "RNGFTZ/UEdXHtVqUCtiMdeFe6a5xHc0nWd5jrTUCi27EXoAPJsBFZnhF+VCsKCE1FNxPNEsNNf6l\n",
       "KBT9wN9u4EQRzcddqVvufiBu42FY4AOrA2vUsBHt3xyqBkHmb8BQoDEQMyYvonPCEA2yVk+AYyaJ\n",
       "9hisllfuMCYIoj1j21K3Lwd6ANGv4prV+egdX8dVCdG+PtbqVurwqAyDJoX/Iq6ADep4ngHt7jPk\n",
       "eh3xe9tuvHQtnQQHeTFByxq6btFBFAM2RPey6P1UZtEYHEkW7BT6G1yPp2RWZkA7Q6v05UThcBvT\n",
       "kDvhTICa8IgO+DX0MqmEVnlBtgdYNElMTCC34DvJs1YfhnN4rVLHrpheSGEkN8iUBcjHFXa/swG6\n",
       "VLR973FdZi0wyqk4oXxfLYsmn41O5eqXXFrMoruWE91OUvns36htH0H3hRlteYX6r0QKsi0E20VR\n",
       "FGz8xRdEmvSBAih3nhLFFhAeryDooKGG12YqpJTZkKyqj2ghNbdxTeoR9ysplzrcu1M/AySgSD3Q\n",
       "oMPvDpsyXzZvH5zx7GDePkyNS2gmROo2AR+ksR5OlktPO5z2heEhRfO9pvMREW9bxnf3Z98BfNoJ\n",
       "yVF/qxqgg5SUZ3JXTfLlRbDtCQoJleJt/swFTJXtUKajgtrasqNdQfbehrFmgkd/SjHWGezKeEDy\n",
       "RbKjX8+yLw5knfX6rZ/rZj2cxLNP37GOtkvwL9sflVHrxvePXawAAAAASUVORK5CYII=\n",
       "\" style=\"display:inline;vertical-align:middle;\" /></a><br>"
      ],
      "text/plain": [
       "addRealPosClosureBin: forall_{a in RealsPos, b in RealsPos} ((a + b) in RealsPos)"
      ]
     },
     "execution_count": 13,
     "metadata": {},
     "output_type": "execute_result"
    }
   ],
   "source": [
    "addRealPosClosureBin = Forall((a, b), InSet(Add(a, b), RealsPos), domain=RealsPos)"
   ]
  },
  {
   "cell_type": "code",
   "execution_count": 14,
   "metadata": {},
   "outputs": [
    {
     "data": {
      "text/html": [
       "<strong id=\"addRealPosClosure\"><a class=\"ProveItLink\" href=\"_proofs_/addRealPosClosure.ipynb\">addRealPosClosure</a>:</strong> <a class=\"ProveItLink\" href=\"__pv_it/298bf09876c29edd03671913b5d090d4b5c507d80/expr.ipynb\"><img src=\"data:image/png;base64,iVBORw0KGgoAAAANSUhEUgAAAXwAAAAbBAMAAACNTymvAAAAMFBMVEX///8QEBCIiIhmZma6urrM\n",
       "zMxUVFQiIiJERETc3Nzu7u6qqqp2dnaYmJgyMjIAAAAcRTyBAAAAAXRSTlMAQObYZgAABKhJREFU\n",
       "WMPdmG+IG0UUwF8uu8lm/+T8IOhZlD2rpVSK4eK/qq0R4fpFMaeiFYSGQ6mglLZHL2IPDYe0uZOT\n",
       "oHANBe1Woaex1xxnQ+2H4uq1H+yhRBD/FIUVseCp8ZAW7FWKb2Y2m9lscvlHPujCm5lkZnd+8/a9\n",
       "N28W4H977UhmOrn9iW5xJVB0FCE5ttqwXR1NIia6hZ9CGaSt6e7hh41u4qvFLuMPoISKbd9+anV8\n",
       "eJnhW6T6sQ5+mFRaWwyhFSzeb3/1gSq/03anr/40VcFfy/AXSbVUB1+da9sK1AgWv7aPL1vVxign\n",
       "xKlJCJRKN5X+ADjM8LNEU6k6+LQj29b0Ply5FvH8PV9vvKfjs6rfUsiE1LSj/eAcxSe6pUquafvk\n",
       "tSy2hX8YnxvMdIB/xK6/SyatMv6msIPvT1F87Vwud7Cu6/6Qy33Qngd/hXIQOsAPx2i1bQOn/U2S\n",
       "g99zDYs8f6fTY3Xxe9PpA2bzzNzQLbZ7he4fuKEV/LcW+o2K84C8xBtPYtDBF1YY/nMAE7iYSE38\n",
       "QBykFrZe7iFpFBIoHsyEl1GHzeILffAno9EsdwBCfGVkycEXLzH8h6iTi2yYOHIG+hMVfCECx6Et\n",
       "/Aso+1B7NxIrffzuZvGPFOEeRqNQo5U4170u+RttUdTQRYYfhB47sH+4sBk+Vg2/wW1bu2BjE9jK\n",
       "nv1bdDf+CMq16GErEMSerfS/L0ul3aXSBe/9lY4HDNhjJx3LpBwq4WW77pnIJBdYbXy1GLQ3htcP\n",
       "GXBaj6j8rvtF472XrFo31XdhIToSdWLYzwzfl4J8vIzfhPavB/kSj5/lA+cd27ht0cYPWU+ikawj\n",
       "VoRXofCmC/+dhpkXXbVuarNu7e9nxpM34RNoHl/+B5RlSgMC1ZuPx5dm9UpGeNnOeSaexVfQa7D0\n",
       "oaDOPsPjS9MYv+SBnXHPfO+t+4XWdNWIf8yN/zxz3fwc7FQyzeNfgYB1itDYruvXOXwxcaczvhx5\n",
       "4CPEPHQSZDp3AcwFHl8hTjcT325AwJ07yHtFfIAFbNW66Y+68ftR8EmSro2qXu3LV7HIW3aD6xiH\n",
       "bxMm0iA4i8L7uKQBFgOOGjU77kOvTm8TX0qnxxH/7aAr4/wLJQpPgfipG98fEbHfsFet37Uj5sZ/\n",
       "1KDQ8vCt07fUMJ5Rsu8n7AbXcfTmp4djSIO4jPToa4aTssWlN64486dsfA375ZU4PcQgvvCYC/88\n",
       "yhpAYwwaVTlND72BrVr/fCPB50zMF+OThq0t7bqEBmbsHw8fSFq1jhM6l+8rlglnSeNrTBSq8335\n",
       "MkzlqvHzGem8Ma+zoxsaT+Gc+/Hk3VdStpPlRq4ePt9BaDwpW9WVNzh8+cUMSBj0hFdiEPAcV/rE\n",
       "i0WCH5qErEGLrOHLbH8ETiDfWYavHqs6KxLbnChnAq8Ot5QsI41srT7mG89pa316vPZpa/C2tRRf\n",
       "XANDGbEPi6E5YXh+M8kp6KqVsd/laNV8L3R2XGmUq+xt8bBIjEdxfrHtaUaosWr7Ot7ZYfH7BruN\n",
       "2Rq+ePt93AFUYboJbFglkYh08yNOtvGXhqTnO4+jTK2JGU50E/9e+p1n9D/+Je1flxNdL/m07UUA\n",
       "AAAASUVORK5CYII=\n",
       "\" style=\"display:inline;vertical-align:middle;\" /></a><br>"
      ],
      "text/plain": [
       "addRealPosClosure: forall_{i in Naturals} [forall_{a_{1}, ..a_{_a}.., a_{i} in RealsPos} ((a_{1} + ..a_{_a}.. + a_{i}) in RealsPos)]"
      ]
     },
     "execution_count": 14,
     "metadata": {},
     "output_type": "execute_result"
    }
   ],
   "source": [
    "addRealPosClosure = Forall(i, Forall(a_1_to_i, InSet(Add(a_1_to_i),RealsPos), domain=RealsPos), \n",
    "                        domain=Naturals)"
   ]
  },
  {
   "cell_type": "code",
   "execution_count": 15,
   "metadata": {},
   "outputs": [
    {
     "data": {
      "text/html": [
       "<strong id=\"addRealPosFromNonNeg\"><a class=\"ProveItLink\" href=\"_proofs_/addRealPosFromNonNeg.ipynb\">addRealPosFromNonNeg</a>:</strong> <a class=\"ProveItLink\" href=\"__pv_it/dfd69e0f12e4aa77b1341c43371ab2c3f23a743a0/expr.ipynb\"><img src=\"data:image/png;base64,iVBORw0KGgoAAAANSUhEUgAAA2oAAAAbBAMAAAD/k2HBAAAAMFBMVEX///8QEBCIiIhmZma6urrM\n",
       "zMxUVFQiIiJERETc3Nzu7u6qqqp2dnaYmJgyMjIAAAAcRTyBAAAAAXRSTlMAQObYZgAACGRJREFU\n",
       "aN7tmg+MFNUZwL/b/zszu3cxpi0QzXC0SCikm7uCImjHGDEmBvY0Eawkt6GA0VIDipxB1BWbukIw\n",
       "q0Q4SYQBEtATvI3miiQ23QKl6XGY1fQPNUezJdZG1JX4J9HVGL/vvZnZtzszO7Pk0sDqIzuzx/vm\n",
       "/fl+3/ve974dgO9Le5e7B/JtNZ+wdkkNN4OfAH5CAxtbeWxNm1nhHZfWcLNEjNDB9u8ytXP4iZcu\n",
       "rjEdaU4NTnFqZbqd8UktSbdEqT2gBVW8vDgxbUmPT5BJRxo2ocTa3Df/2VqjFtUZtZOm1fmhphTw\n",
       "ltTbg9pumsf7E9RYMjVB+MuNDUuZ8NbNFrVAilEbJDeR9UmNCQ62iYM8RqZsU7asuog7V7xq3DsL\n",
       "vsS8K442/B2LFyG7HSKVypWVjxDVeUaNVo5S8Luv0aI82SbUppDDyU8QtcX6BFHbY9xPDwyUTWrz\n",
       "ktZag4cZtcTo0NAO39HI+NDQS20SlMSreNkBE0TtLzBB1JL8OLJ0prDW5sVq1K7hMeQXudxG39Q6\n",
       "c7kni+1BLdGFl2mEb0HP5FaobTs2Vbdp/b3u+Q1iR7vTrVAzxRXms6VzoofMLKxRm8qprQR4yje1\n",
       "SBpibXLUDpIDoujshnzyfAvUQpPgY5vWpW/04Xyd2I5CrNwCNUs8Ua4PJZGa/MC5GjVyxUjtRha3\n",
       "BBq35WTaiVooBa849s6kD457h5fugmE2/VOjLT/YUjO1bT7LdwnpCgji16V+qe0pkZcy9WVoXa5C\n",
       "p1onthEiBatRb2pMHP6Lz7MNKCZEIz8c+KAW+UN/mlGLQgAPYGEON/zAcZjKzt8yf2jJAi3wA+GU\n",
       "vQZmO/b+DwpoNkvewagouKguzE38mgapv+jjwaaer64ZtkuEKlbtrFmWWdI0L8c1V4WoCrdfzdxT\n",
       "pfK/KyuVjK1RoeIXOtxv6OvNSmVtpfIeX7jDRVEsSLsmb1QQayjC81X2HzjFMFv3fRUsRjRyPMUC\n",
       "f+CEdmuMmlKKGo28fOw6eF3Rg6Y5S2/0luTsKFwrUDtly5AcnvGrs3hbiOi7oKuJOu2CimGw8v2/\n",
       "ux5NNPQbgA78BxfYg1MzWTPIf44jLcomkmiKU+vIwjDa781+19qPQPrctlbwuLa4IIp1sI5v9rvW\n",
       "Oixj5NQGxcj/50uFB4Y5tXjZyMcltuzU4Q9qSjEFTh8ZAvntIBQFarvCoiES14ACozTS22fGu+BB\n",
       "t8Ojo2CyYNiKWlT20oh79GcgmoYL6cGlGa4NdDH72eYd1aAqnovRQ+Ia+SP4pyZ9DfJ5m9Y7S7QG\n",
       "BbHhYkvUhq0QL8RWRYdILXZIGJOx1uCpFSg7nTY4LCMjzzJqe+fTHoaDuOtOVaQW264JfRJX1Ok7\n",
       "lOMKb2miU2fBzrxhK2oxcYjFu4VGan57cGuGU/uSzPce0k6aHdOYOjI8GhkuwH1y3j+1ryBSPkL6\n",
       "qqOm4fYoiiFG9He+qTFxaVrBjEaCqkAtnJlTe6A/z6m9hjSUTp1nJEeUQ8vonlrEk45yevTvIjWZ\n",
       "XLXUcx/TCeNKOkUJGf3SeZjcsMSaC/Z338ttBdV9EG+/L0EndDCbVbpVXz1gxMxuLs1wauFPpuNf\n",
       "S69lc37EzPhlueuMqYn1in2tDZcpMgTjIlRsgn9miqQvUeuRUixVJxbMwL60jRpry2pZqGDiwRDW\n",
       "BIvWYdrMaMHJSM2SjRiSBT87D4PEuh2BImV6pPwJ2MepKebuw3e0T/BzIN2vQ0TnXFGnvSkeA9hi\n",
       "BSaIUi6CV+nTuK2oxWAvjzfMMGJduAvuBe8eolofAK4il2aM5N0GFvItUqGfhRKsBLq4C5OW/2T7\n",
       "j+3UorQU14N5qVXs775zuYb6qsfRc6rh+bEzqoOHXF/XslBB4i8pGSt23/9b3coep2NPf2VN+C1+\n",
       "XoOEziwo/FAutwmpvcCDk62wJJfLqXI6XlojUnsHP72wBMJ/0jnXQHDVOoA5jnE5CYIEboKb4N/c\n",
       "VtS5d2sQTNdCdozF08smg3cP1xiRvnMzBjVcTozqW3lca5eZG0i1LqPlOxoxV5yL66sT8+0hDW+I\n",
       "fvKA8f3WJwfKTg8YuRFuK9U0+60UqYVuM7aCCF9rcJMqUuMZvOnsNwPGNaA8+zf3VB/3/y6Cl8Nc\n",
       "bivqX2drdTUdFKdsAD898MjLuRmDWocWpMnJZ2lf+6zWu5g9NhUsuR0I6ypIX6wMNRWzqA25jb+u\n",
       "gvb5ox4Hm7MCNblchD/TF1TPOAzqgA5KoYElNIyWG6hJX8LWIaIW4f5LXqZLY2Njx+0TJUEZNx4X\n",
       "wSoqPcNd28goHMQqTRg/UfPqgcUZZ4rg0oxBrVMnKwh9qIsxJCygi5UWOtxSYoX05aO01ij0OfxS\n",
       "06jSqrjWVuchRjN7VENN9RUggNPdQtbyrqERca1NCn9WImqMK8XlwhTimxG6eSFBGQMFF8ENiSy3\n",
       "FQzZDwpDG9STGqSImmcP70Iw/kscmFMzFrWofhqX4xM6pTSs8xrpqPar6LbHlreiX9KXd2mxUZgB\n",
       "nvnCRAYa3kCYkTO9dQG3ApwieqeGjBYvC386jVFjXA+/Wdx3vZBQmgJ9+fAkukzhgivBTfCOMWC2\n",
       "Im/8UOoVjKyvEO95Wydqnj1smz2TBZpOzdRiyNVFiK9i+ph1zKqiFNLF9QYCqv9fHiLsQOP83oic\n",
       "X/GM7pg9Fp/X7VyFVJj1TVqjNRWs2Uqt8DQDUfPTA/t50KkZ67xGZzhbXtXLGf2/S+SWyd5C4+BK\n",
       "LQGr7wEPauGfzXdu90jjt+W6l6Ddauh626cFfz00eyWiWdrytYuM2glvr8vfOmjpHa0BX+9Dlhy+\n",
       "eQjaraaVHp7fBRdGTdYuvZ+XdHofcj1c+mV8XpPKFLRj+Rb1L+nZLvraewAAAABJRU5ErkJggg==\n",
       "\" style=\"display:inline;vertical-align:middle;\" /></a><br>"
      ],
      "text/plain": [
       "addRealPosFromNonNeg: forall_{i in Naturals, j in Naturals} [forall_{a_{1} in RealsNonNeg, ..a_{_a} in RealsNonNeg.., a_{i} in RealsNonNeg, b in RealsNonNeg, c_{1} in RealsNonNeg, ..c_{_a} in RealsNonNeg.., c_{j} in RealsNonNeg | b > 0} ((a_{1} + ..a_{_a}.. + a_{i} + b + c_{1} + ..c_{_a}.. + c_{j}) in RealsPos)]"
      ]
     },
     "execution_count": 15,
     "metadata": {},
     "output_type": "execute_result"
    }
   ],
   "source": [
    "addRealPosFromNonNeg = Forall((i, j), Forall((a_1_to_i, b, c_1_to_j), \n",
    "                                             InSet(Add(a_1_to_i, b, c_1_to_j), RealsPos), \n",
    "                                             domain=RealsNonNeg, \n",
    "                                             condition=Greater(b, zero)), \n",
    "                              domain=Naturals)"
   ]
  },
  {
   "cell_type": "code",
   "execution_count": 16,
   "metadata": {},
   "outputs": [
    {
     "data": {
      "text/html": [
       "<strong id=\"addComplexClosureBin\"><a class=\"ProveItLink\" href=\"_proofs_/addComplexClosureBin.ipynb\">addComplexClosureBin</a>:</strong> <a class=\"ProveItLink\" href=\"__pv_it/86a9dd0165a4dae7349e8731df5edeae689d70be0/expr.ipynb\"><img src=\"data:image/png;base64,iVBORw0KGgoAAAANSUhEUgAAAMsAAAAVBAMAAAAa4QdfAAAAMFBMVEX///8QEBCIiIhmZma6urrM\n",
       "zMxUVFQiIiJERETc3Nzu7u6qqqp2dnaYmJgyMjIAAAAcRTyBAAAAAXRSTlMAQObYZgAAAwBJREFU\n",
       "SMetVV1IU1Ec/+3juu1ud74EgRIM7YuexKiHSrQieqlcRCYEKSsJegh7SKN6WCvqqgUXgpTy4aZk\n",
       "MosNQ9AQGooFVjLoxQnFesgsYgU9FHuIztfdvNu0K/SH/z3n/O7/nN85/49zgDWJJ8m1pEysgqdp\n",
       "571VmmGhhSJfawfKtELY/vn7+usMf02HX63SfBFaJP4awpUuAKWWuFz/juF91BVhiyxKDde8jIq2\n",
       "PE4+UwXmyRAx/8lwvw744hZpXBrXYppGsgweisF8Zyc9mBKsIN/TDFdmo9Feqz7rFVpM84p5roH1\n",
       "m7dxzMG8NMDx36p61SpNtVDPntoKM81i1W7iFeZP2Yj0kCT8S/E2oKvEikfSJcA7Qvdq/h8mGvmP\n",
       "HtOgsDm5hOt3BkRICb6/IEO8t8+GYOyMyvjLDmGOK1zlDXCETTTeLMoD8LbTvtuYeNegobgLdqPe\n",
       "5MntSblZl75RP9O0GJmuw6NunEoIg3VcHVm46ApzmcyFTGaRhiGNWAISO+LRDBG682FJzKO4L+ky\n",
       "6OcnolD6gUmaoeToSs99HakEvAU0tjBiQdNpSNk0xgVNX66W9NY8jSfdRHqDmz/BSf10YIxApG2p\n",
       "Okf8CThPkgU1s9PIxl+YM608iXodTuY0W77KKI0MjnedIf2LUhZ++m8hxW226NXsIlKeakUpEIvj\n",
       "vFcz0TSQeIkUcBiRRGQfzSWBPyNcjhqpHYP013NxAUbwQaan844so5nm6g4oHT7TacqSbmLsSOTO\n",
       "zAtnaVYe7xY4SRHY4vZWnFBVNfDguBGGndIlVY14xoJ5moNc5dCmexvNCV37lgaDmw7d0IX9sY+/\n",
       "dhi4QsCY5l7Qy9gOBpg7kUUlWAR3kV3o/7xsmDwW7aFbnelSOGxay2H4gqzAg5jydOOyEsYMy/4Z\n",
       "+AIrXp3R5YOpFS6PHO4MjdYBPbT7JHMzKFWi6Q2JAa0deW6pLTehC6XvDO65tDXcTmIj6pY3W9WI\n",
       "tWeNiVtbG77ye7vqI51aI04eJPxf+QuECdouyjJZIgAAAABJRU5ErkJggg==\n",
       "\" style=\"display:inline;vertical-align:middle;\" /></a><br>"
      ],
      "text/plain": [
       "addComplexClosureBin: forall_{a in Complexes, b in Complexes} ((a + b) in Complexes)"
      ]
     },
     "execution_count": 16,
     "metadata": {},
     "output_type": "execute_result"
    }
   ],
   "source": [
    "addComplexClosureBin = Forall((a, b), InSet(Add(a, b), Complexes), domain=Complexes)"
   ]
  },
  {
   "cell_type": "code",
   "execution_count": 17,
   "metadata": {},
   "outputs": [
    {
     "data": {
      "text/html": [
       "<strong id=\"addComplexClosure\"><a class=\"ProveItLink\" href=\"_proofs_/addComplexClosure.ipynb\">addComplexClosure</a>:</strong> <a class=\"ProveItLink\" href=\"__pv_it/1ca142860a8313e0d68fe76f04508107de54ddb40/expr.ipynb\"><img src=\"data:image/png;base64,iVBORw0KGgoAAAANSUhEUgAAAVwAAAAVBAMAAAD4GEsPAAAAMFBMVEX///8QEBCIiIhmZma6urrM\n",
       "zMxUVFQiIiJERETc3Nzu7u6qqqp2dnaYmJgyMjIAAAAcRTyBAAAAAXRSTlMAQObYZgAABBVJREFU\n",
       "SMetl12IE1cUx/+7yeTjZrL2oQ9dpTR+dC0WZNCH+qB2W6n70kJWsSosbAgtRSmyVeuKFrssRWf9\n",
       "gKGCLraFsUItsTVBCeuKpaGxLxVKQMUPWpsHFZSSblGhXdvS+5XJTDJ3SaKHPTN37rk795dzzz33\n",
       "DKCUxXfQjkRLQtuUSUV/zAJubUeZtX/1G3BxBtsM8rXUNiVkNfptz587DWziSJdYx31/XLVtBrkn\n",
       "tU0h5fqedY9x4l8DpznSOFu/EX9ctU0tcUNonZxRjW8w/FD/wlAC+M2AnmBIXTag5/xx1Ta1hC2h\n",
       "beMel/frw8Pc0Vc7KEXIAHmGIcV/ymSOwh9XbVPLUalt43b18tuGRfLZYGtMqGtvMyT8ZZofKXDV\n",
       "NrXMlxpdvmR2K7iHi3Nt3tB5JJHqliGptbJV5EjvAmNAp+GHK2wtySGpr1ldU9RHzeIGu/GHoIiX\n",
       "PQkiWnhdtm5xpFV8M2rCrG27iLkpB3eVz0b1TYoH30vL5m6h5HkERrD2lWZxj5ewTFDEhthzxEnj\n",
       "RhV3giOF0SmT+qniCpzT7YDt4NZs6sRzYWmJbLC13+Xzs0ID0wjTeOvjfT9XKh9UKncb/7lmeNXG\n",
       "VtGnTbFrf4UKcxUZGZCDBzmSXgrLjHHgmI3vEoZeCwbHppbrkxnEPwcueHE7RpBNVnGb8O5zII/c\n",
       "uOPOgPshD260/DYNnR628lTy+U9duNyGEz2NxzFZsiXJY47F/Bt5OtQbDNkCvkfzuOQfxKY4BYI8\n",
       "GDqcAZc5rs3fRZEw9g514yxbHLl5/duBGi63kQ+1aWCzd5aTyUEbXWB/wM0bDVstm8MWesw3jfsY\n",
       "ofIko5BbLZCoDogsoM1gubrVcJb+nGMTIDw35FEounCZLWBoQxiY7Z1lKdbTSajn2cN5V11SFBpJ\n",
       "xHfojd4l/9FLtiwbLsMorqUKlIJOV3BWScjKg/Ypk/6O5QJpVoIP13aa5ijF/SLswmW2jlwnzRW7\n",
       "vLhz0MPv603TTHy2rmboE0rSLx5Z4BMMO9jBl5INl+GreRvTvZSCrldSdHwidzy0lS9sY313BFKc\n",
       "9pPpJFLCu8E1Llxmy1qRm3YdLvkbhzKxeTQ/8pX7knva5xDua+lUYxQ4KR/e3DfsSaJkSCDxxFku\n",
       "4EfWuAL84sLlUW8NvsW9O25H9/MLvXVrD0sxujn1JD/Bkk5l4i1xJqqNjArXbWAUDSVOVUSJI9Hf\n",
       "txChxUxwTy9CdbjB9JkVHLc/p3Wj39K6tTlY/fL8Ejv0cIAN+aayN1l97RhqR+Hhj9MtFY+UQnku\n",
       "nXYhcXnJHK07hF3CgsEpzmJyeWg10klj92mW5xFLYRhrQPLKQne2XfMgx78/PF8oafvpf/zcUNXR\n",
       "dPLF21uqvJ1W+zRPKP8DB0c+8T2jAuoAAAAASUVORK5CYII=\n",
       "\" style=\"display:inline;vertical-align:middle;\" /></a><br>"
      ],
      "text/plain": [
       "addComplexClosure: forall_{i in Naturals} [forall_{a_{1}, ..a_{_a}.., a_{i} in Complexes} ((a_{1} + ..a_{_a}.. + a_{i}) in Complexes)]"
      ]
     },
     "execution_count": 17,
     "metadata": {},
     "output_type": "execute_result"
    }
   ],
   "source": [
    "addComplexClosure = Forall(i, Forall(a_1_to_i, InSet(Add(a_1_to_i),Complexes), domain = Complexes), domain=Naturals)"
   ]
  },
  {
   "cell_type": "code",
   "execution_count": 18,
   "metadata": {},
   "outputs": [
    {
     "data": {
      "text/html": [
       "<strong id=\"elimZeroLeft\"><a class=\"ProveItLink\" href=\"_proofs_/elimZeroLeft.ipynb\">elimZeroLeft</a>:</strong> <a class=\"ProveItLink\" href=\"__pv_it/f128b015f683f658672d1914225427bfd0bd1d220/expr.ipynb\"><img src=\"data:image/png;base64,iVBORw0KGgoAAAANSUhEUgAAAKkAAAAUBAMAAAAErwC3AAAAMFBMVEX///8QEBCIiIhmZma6urrM\n",
       "zMxUVFQiIiJERETc3Nzu7u6qqqp2dnaYmJgyMjIAAAAcRTyBAAAAAXRSTlMAQObYZgAAAhlJREFU\n",
       "OMuVVTuIE1EUPUlmNpPMTNbCShCCv04YtFVwWcRKmMZPZwgudhILbdYilUxQYSpXUNisW6yEhQkr\n",
       "FisLBsVGQVK6C0IaBT8Mi5VEC++bN0nem7y3rBcOuTkv98D9BtjLSn0OtW3q6QFzPmvinnM4J9+p\n",
       "XmdC6OgPzPmuUf3G8QNrKoHyQBnE6Mcs0aZa1PUSuAfgpAIb0vsbdRjRlTZl2FU/F8MEVg32UKW6\n",
       "og4j2n3f6SxpCrDEMVuD8UelWjmnDGP07yC4q1E9yhF5MH7JqqUzpw5Rjl52Zsb0AtDSqD7kWO7B\n",
       "zKjOhZVdypNV24kT82R6PtNL+8GNeuoucix7MP9KquXDKFCH7Uam+xO6iPxozstbp/vlq23zZ/r9\n",
       "IMeoAh/j+FYcfyWvMESxCpi7sqpAO/3iiP202YH7FNiSValbttytXBORP60q0KXBZSJWT3yBwWpz\n",
       "/iVRcgWsJlx5sqIeXtOH0ZjUtZahW9cp99vmEBUWsLM91a3pLYi6uGmHvFuCifQLki54ZgOr7OWV\n",
       "cDPepljEii+pWlX3jkNRPVlVpGepwLluvoYrQRBUn1ya/OpCivUjC5BnoH780TEadz8zAwLt0s5G\n",
       "obXTnkn6+Ixe5Y0VTN6tNfWYj+lceO0iHD9ZD398NdLrIlhnn9eFm1HfOAvcZ+56fG+cWAv6xdvz\n",
       "EoqWp7qqrrbGrPB/6P3+w2xr6X/q+61FY02ifQAAAABJRU5ErkJggg==\n",
       "\" style=\"display:inline;vertical-align:middle;\" /></a><br>"
      ],
      "text/plain": [
       "elimZeroLeft: forall_{a in Complexes} ((0 + a) = a)"
      ]
     },
     "execution_count": 18,
     "metadata": {},
     "output_type": "execute_result"
    }
   ],
   "source": [
    "elimZeroLeft = Forall(a, Equals(Add(zero, a), a), domain=Complexes)"
   ]
  },
  {
   "cell_type": "code",
   "execution_count": 19,
   "metadata": {},
   "outputs": [
    {
     "data": {
      "text/html": [
       "<strong id=\"elimZeroRight\"><a class=\"ProveItLink\" href=\"_proofs_/elimZeroRight.ipynb\">elimZeroRight</a>:</strong> <a class=\"ProveItLink\" href=\"__pv_it/1d7720248ccc7c62f67b129c5262eb49a6b60ce10/expr.ipynb\"><img src=\"data:image/png;base64,iVBORw0KGgoAAAANSUhEUgAAAKkAAAAUBAMAAAAErwC3AAAAMFBMVEX///8QEBCIiIhmZma6urrM\n",
       "zMxUVFQiIiJERETc3Nzu7u6qqqp2dnaYmJgyMjIAAAAcRTyBAAAAAXRSTlMAQObYZgAAAkFJREFU\n",
       "OMudVUtoE0EY/prsNslmd+3BkyAEXzch6LVCpZSehFx83BqCIl4kHvSih5xkgxb2ZAUFU3uoBHFD\n",
       "RSRSMFi8KEiOWlBysIIPFvEkqQf/2Zk8ZnemFX/4YDPz/d/M/K8AO1muy6G0vK9ebxN67OOjxvGR\n",
       "QMLso6+BS2qnSTrtLfv4plH9KpCw71j18UTtZNFF77KH1tT7TpFjZGtiYwp2D3ZB7fYKcBv0npZ6\n",
       "O+NzJFSzZeT7sKbUbst07Jtmc0kTgCWBhOqeMoxt4LPazZ0BfnveDY3qQYHc9LF9kmpQhPEL2EjU\n",
       "TES0KWgXgLpGdVHgpO/+lFQfdGCS6qeoHMLIovBzokPpmo2SNlaGty9WxOd1Dms/0jVZtQjzD/A8\n",
       "nn1OzFcpHUgN6txaP961zjXMH+L3Xo50HxmW7ndheCUMv4wisBBTFUST7mt3M4PV9+0mnPvAuqw6\n",
       "UUNQimcrv51UFUSmmuudoYWVI1swWGzmntGSHIGgg5exyqrB6QPzY3EtY0g0KAKon6e3XzX7cBlp\n",
       "80MiW0ELl0XTS13AszVmgsiyhacknS6aVaywnRftEWuDI1twrtnSXekFy/TU6ZiqIKY7LEgU4IlW\n",
       "qoyznucV7p0eseY5rMrhO4dk1ccHqCCxFa8BTnRZEhzq2cDPbjYmozw+pN3dOlaIVNVlvjrMnr9w\n",
       "CnYpao8SGw+a6dKUxqF+unAzKmsngFvR48KbpcFyHfrGw06TcNxSFNd/m9rDMxWW9YH//4dxNN5U\n",
       "mn8BM9SqOa7xEC4AAAAASUVORK5CYII=\n",
       "\" style=\"display:inline;vertical-align:middle;\" /></a><br>"
      ],
      "text/plain": [
       "elimZeroRight: forall_{a in Complexes} ((a + 0) = a)"
      ]
     },
     "execution_count": 19,
     "metadata": {},
     "output_type": "execute_result"
    }
   ],
   "source": [
    "elimZeroRight = Forall(a, Equals(Add(a, zero), a), domain=Complexes)"
   ]
  },
  {
   "cell_type": "code",
   "execution_count": 20,
   "metadata": {},
   "outputs": [
    {
     "data": {
      "text/html": [
       "<strong id=\"elimZeroAny\"><a class=\"ProveItLink\" href=\"_proofs_/elimZeroAny.ipynb\">elimZeroAny</a>:</strong> <a class=\"ProveItLink\" href=\"__pv_it/c7f04c91cc0e98b74fc6ef09a822fa3ca4bc8a1f0/expr.ipynb\"><img src=\"data:image/png;base64,iVBORw0KGgoAAAANSUhEUgAAA6UAAAAZBAMAAAA775XmAAAAMFBMVEX///8QEBCIiIhmZma6urrM\n",
       "zMxUVFQiIiJERETc3Nzu7u6qqqp2dnaYmJgyMjIAAAAcRTyBAAAAAXRSTlMAQObYZgAAB5xJREFU\n",
       "aN7tWn2ME0UUf3ft9mO7bfmDiEg05U6RqMQGEjFyaNXgxT/EopGPaHLNBUIwSKpGTsFoxUSLSFIl\n",
       "AqLoApGDA22DXk4MSuUUI4hp/IhAkDThwwimEoLGO5A4X7vd3dltZ/W8OxIm99revHnv7ZvfzJu3\n",
       "bxdAvM3vyMHlNsxba0fRzfD05Rm7BFowNfwxDZYoDau206Zv/ZBeUShHCWNaxh0/C2IawV/hwZ3g\n",
       "LYwGoikTvjR3yC+4WqhbRrEfPv4UkjMD5O8oN6OrDixghDDdj/8/JYipUkBfEXVQMf2V0UC009Bp\n",
       "ASMSd6XgmDaVZY4VGahk45ir0boDHzBCmK7FXxlBTMnAtYMKaThOydJ2OIWgWI3e8AhQymb5aEFE\n",
       "q844r3Xs4YZ8L3gtjmY4GzV1aAzdASVGCWGKd51SED1P8YbeP6iY+nOUBgLTQApC/Wb5+1U3mHr7\n",
       "tY4N3JBnBgjTqg0hTHUH5BGUEKbhfV1da4RzpCNdXVsHN1Vaw2ggMI2mwHveLP8VuMFU0X2PJKyp\n",
       "XHqAMFXSrjCtOnCcEs57/8pmnxXGNJrNvlwcVEybGQVbJl7lBtNVvWNVa28+Dt6zZvmTTVNcYBpp\n",
       "b2YhTbEeB41xq9H6mJp94mwIYVp1oJcSxnQewHJhTH1JCAxu4WEloztzkTMuMPWOht+53neLIJkx\n",
       "lS+q+Zw4pvlTch875sm5/G0FN5LUBEpWo/UxNfvE2RDB1ODAUUoY07tJEtdoXXeRpB2m3jjJrf5F\n",
       "m16uyfZWHBhLKclXgwclaLNFMd1QglurXmmYxkG6YJJHx2s0Vl+rxtitwlk6NSFrqPUXNKNSRhBT\n",
       "5lOzjY36OhiDOgAn0M8eShhTPzSiJSZRsKUnv4CxpBARoqKzWhKNVxhqDmmYwGl/dX57rZthyjYH\n",
       "K16m14E9kpKnH/wxeHAysO3xeKVykr/9rFR+uaZSwdd/hwpPMK+qvVrsrcp7ypAv1tFqYNwO8gU6\n",
       "NdIZy6CGBDMqTUpbrsVJG/UJ5vA26umoMogDADhat1HCmColPxu5rXcqfKyoHj2T2jWpFMrsg9sM\n",
       "mB4wVZPwCHm2Kv3mcENsYEcKtWVOO7AZpg0ZyKPt0Sq6T68E+Q+7HClkzpHQ3d39hfpaNcYxPcey\n",
       "xZQa9aYF9ynzyc5GfR2MQR0gzYBpsDyTHREr1qnwaSyuaGIHd3ZB6DsPFA2YviMZVw0eEX4bYJe9\n",
       "XSM7mqst0+fAZrEXLcbdII4p2k6hM/y9TAbC5nuZaAlvLmFM/8Z7i54V6ep5epLFXmZUGFPmk50N\n",
       "YUypA6S1UiL13uVz0XWMwwcrat3drxNMN07BZycSfXhOzIhpYDVaj/LERWR9kRHTupEes71N405w\n",
       "7LamR6GGjHR2nGrLZjlSvgCLQjlxTM+Dr7wTe1W75hBNoENNHNNz+MjcOEXPkQwN5UjUqAtMiU93\n",
       "pWxsiGOKHZBJpmzIkeBDJK9EVVr57VbefwR/x6fT4m4oue9HI6YhfPZ0JttU8Kl0xOFDXMh9SkKr\n",
       "uWxmX682YxEnmcYlKJ/x5Xg2y9ADsfBihZ99+SKemzL7YZiDZfBTqoi9MvUuhQ1Jk7yvFIgLaNUY\n",
       "j8GLZGrQOWa9o8P5AjHK4UGU6CoN2qhPxX4bGxym+tVoOhiDOODx4s4WSgRTnDet6wGZJDHdUMSz\n",
       "KOf2wiaKqaJnN8QOzjEmwSyQPlfpiE+4ZxSeuISGWtjL4CgWcZJB/pGL5dgsosjt162+1mZHLcZh\n",
       "L8V+GOZgc9Oc9sS6HsvMbG+aZ0Fv4gEQ0KoxNt1UIlNjc1uAUSBGeTwWm1QajGOfgtvSvA1eh341\n",
       "mg5twWAHtiq48wQlgmlYJVMuPZ3NLkOYrvezmDcrm83GQslgKW3E9DCiMYCCml+lI956yIpPQ6GR\n",
       "GDaxR8ItWMRRJuHhZfjaoHCOpC0kpwhmkheOvdXjoNO5Nigce7XVbNMrHHv1wA9ympL+/FTuT0KK\n",
       "7lPvAyxn8dF9CtNiRkzx4D5Y2YUBIiM8G1GPyVw+Fzis7oiZ2f1oJWBMHWSiakMhfMSGba7h67Pf\n",
       "5eCqbKzfYq/4Xl6+rlYzo692DV/Hg7dqpy3/nk1vfR0mBk5ADTV8hnq5COTR4g8AR2CtChJKJ/CE\n",
       "hBMQLlowhdHSuRIGiIwItiRhT/AVJEQ+0F9Dru0++ChuZi8JZwimDjJ+9SC80Wlka8aWg6HQ1eOq\n",
       "zoG9EmnutEojbJ+16fW1kLuC+GeK3ZW70zEDTM/aGOoLcxBAyZP3uQTaKjMK0JgBWIGX8HGAlBXT\n",
       "e25sJpiSEbC98lJSGgMzctJo9IGEve07puIqook98xsSrp1kpIVFmnnrbM2Y8Zn4qufb3biKvRJo\n",
       "LrXiqQk4PxMPTv4z5kbd5q/5Prc6xhvWvvndlfFZ7fwpkCjfiI42S23QWAxTjSNCVQa9Be708myC\n",
       "aQ2Z/cAbHX7vruCpOWTTP4TvriDcwjlKTu8jhXJzX1Nta/iGCHSz8YGG4QWdEF3Cvhs4tkWElzkF\n",
       "l0CznZohbb57jU+sHDANw8IFUAdTSysZhGuynWWCb5YvBUxtp2ZoMd2bq4+pQ+v4f9/vDfdefn34\n",
       "v7fWjtQ/lPzqpuG1fn0AAAAASUVORK5CYII=\n",
       "\" style=\"display:inline;vertical-align:middle;\" /></a><br>"
      ],
      "text/plain": [
       "elimZeroAny: forall_{i in Naturals, j in Naturals} [forall_{a_{1} in Complexes, ..a_{_a} in Complexes.., a_{i} in Complexes, b_{1} in Complexes, ..b_{_a} in Complexes.., b_{j} in Complexes} ((a_{1} + ..a_{_a}.. + a_{i} + 0 + b_{1} + ..b_{_a}.. + b_{j}) = (a_{1} + ..a_{_a}.. + a_{i} + b_{1} + ..b_{_a}.. + b_{j}))]"
      ]
     },
     "execution_count": 20,
     "metadata": {},
     "output_type": "execute_result"
    }
   ],
   "source": [
    "elimZeroAny = Forall((i, j), Forall((a_1_to_i, b_1_to_j), Equals(Add(a_1_to_i, zero, b_1_to_j), \n",
    "                                                                 Add(a_1_to_i, b_1_to_j)), \n",
    "                                      domain=Complexes),\n",
    "                       domain=Naturals)"
   ]
  },
  {
   "cell_type": "code",
   "execution_count": 21,
   "metadata": {},
   "outputs": [
    {
     "data": {
      "text/html": [
       "<strong id=\"strictlyIncreasingAdditions\"><a class=\"ProveItLink\" href=\"_proofs_/strictlyIncreasingAdditions.ipynb\">strictlyIncreasingAdditions</a>:</strong> <a class=\"ProveItLink\" href=\"__pv_it/1c7bfa853236474b488ecdd6abddd7468106e0070/expr.ipynb\"><img src=\"data:image/png;base64,iVBORw0KGgoAAAANSUhEUgAAAxIAAAAZBAMAAABXxQWmAAAAMFBMVEX///8QEBCIiIhmZma6urrM\n",
       "zMxUVFQiIiJERETc3Nzu7u6qqqp2dnaYmJgyMjIAAAAcRTyBAAAAAXRSTlMAQObYZgAAByVJREFU\n",
       "aN7tWn2ME0UUf9d2+7G7vfKHUfCiWe4ECUpsaAT0+Kga9S+h5x8QlOSaEyUokgrK+XEhJyZaJJgV\n",
       "EjxJIAsXQQt4DXo5L1GpnGg4hDSoUQmQRuAwRCsxaLxDiPOx2+50Z3tbUkxVXjK7ezu/N/vm/Wbe\n",
       "m5kegHNZ0q7CNbkq4mnvqASeuOaxqyeb/q1MuPKxctVb9FJDIvEDSj9A8GwUM5HDf55wyEQ9vgWz\n",
       "NdAvOVrOFrGTlmrIuzdUyeSlFitfRmPbq+LOYCYO4XfnHDIhp9GtXqsJJsrZUq/SUhU5VaV23rea\n",
       "GUZ05AwmutCbQKdDJgiwC2qCiXK2fK2Xkvig2DS2lxtNDPRFZ7BRK2TyQvyl+CaEB9N+gwk8qsjw\n",
       "cpQn8OQ5VBtMlLPlBb1UgwnPSJWYEMeQ2+4VhTfz8IzeZjARHEyl3nKcsY+nUu8laoQJe1sCCVqq\n",
       "woScqBITcFpfbHQYIfVLEqKiOhPwZzLZ4ZiJUDL5WqZGmLC3xRWmBTYOjNcqYCIwc+qNFnR9W1Oa\n",
       "hcmNEyphogAf0F8EV+pGDTU2o+qwwcTjAGsdM+GNgZ+fCWVH/ruiqqJkzEzY2+LP0uIZB79WMifu\n",
       "UevPW9A958RhBhZ4Cd6ogIki/GShaojYLV7WelQI5gwm7iPpmwwhJq/HeEx4wpwlABG3E0+6r6iq\n",
       "KGEzE9SWuTkrzJemZVsWZgAInQ6ZEG8CN8I2seh9GvzGwHwZeMpBo0YFgRN39hW31EN4VkgjEFJA\n",
       "ShhM+MCFho9AR5ew8nMYHycNUZ0FM6Ou6007uwRMKfli36THfhzVk2VATvSlFa/OVkqZoLbIYRaC\n",
       "pS5KyxwNVoAQIYFezufP3pzPxy1tH8nnn8nnh7AJI+BDTSxk0bNB/IuBoVZHbdRUMUcz3NlaZOIn\n",
       "/NKdg54MCOcNJuSsT6/fNTALPpI1txFaxY8jWalzEO42MXGY2WljhEuGQaWcJ8uAHOljs5SMvN3C\n",
       "BLGlPs1CzEyMBfF31O2EwzlR1wk9McuYPgWeiwxsLPFlwumcGFt401oSndB2Yl7axEQgN19PJOs2\n",
       "a/CJEi5E7O/7UyAddReiM/74VsE8ADACefJYVo5MjzTbmFQG5ESfmKVkgntgILIykjYxQWwJqWYI\n",
       "E53QWJbOV8AEGqD7rJ68hOeKCUZmiHMmKJzIgyUZO5TFE8ZTiE6wdjFqeCJOGEh6ezcQJrY34ziM\n",
       "2nt0oWJmwr8JaYlTl5OxQxDYkxnemO6eeMYOtL8RRtfXQcQs5ObdljlBbGltfJKBmDK2eBG8uf4K\n",
       "mEjDckm9N86iL+B0Y4ZdwrHG+Zwg8O3NxYxdWMWGoigzmTI2fIAalUMaPYHqlfcsIrlxLj1kkmKD\n",
       "35qZkKajy85YqwZejSKQJyNhjifF5wQ0lnI8kC/agtXL62MQPqvJUTe7IxYmiC23ak0MhFSGaVkD\n",
       "38UzFqeJl41LT45xsV8JrpIhM8J68ml4hSVsGoh3WpnAbRVbNlUQOHInwMySnZ0368cdzxSYQPkb\n",
       "NveBSLrZCxm87BXVL6CbMiEbOZFmCLyOiMACED7TKMLlfuJZXsZ1hwWkwAXNAAGrl9dHIOI38nVl\n",
       "2pKohQliyxo4yUCM0IHLjsaFbVGr01YZF1+cXTu1Tdh0S2BXgkV3355lmZAPH+VEJ9JWoWXzzhDB\n",
       "sTsBzpScdohTD9NFqsFEUCMdEp5PJtcgJrbQBL4eFiSTSUWKBbIJMxPHUGkAFMx8GkW45A3f8DxZ\n",
       "l3aRjnJADUDUy+s30Bs1Szk4hcMEtuU6mMZArKcdjqOTMTPs0GaY8+gEujtB5B8I7IQCE4SekRjE\n",
       "6ZzwPEzeDIOXzgm4XzEzgcHDsD6FXeml0UVahNd1pV/oUf3HtL0KDzSsM1FWH4NOoMAYp6GndxDd\n",
       "YiwTWEYQZWaI9QSw4DTR7hA5xdj9jh06xWPCtlG2Ytg4AbSmQ5YJKZeBA/gBDc/j0KWBMAZk3O9g\n",
       "FIKZEiZgnHAhi11JEHgVaiC6tMDrxqVObX0IPgxbQKjyNJoBmAlOVbEFBAo8gj55gLpZ3l162kHl\n",
       "xWCnFYL33oX9t1TZQdmnjnb7FTaK3GmzJS6eiut/L1PBj9Z+ntVRNFJb0uBCe8h1eOV1Wh+VZiYe\n",
       "uK2JMEEQfUcy3bP1ipa0MA5aVHxJe9r2zsInEqUgoQE2TplM1DlVVFnVQXhxhc2SOn4WIzkuE/O/\n",
       "4kDMvxQFpv+hVOK0HQcdgCptFLuTf6bkV1kmiExC0ZZKmkRLF4riJacd5rWNZkVAuuRpp8cKkgrq\n",
       "NlXFJ3JcXzTL3LXVMa7lutTar6fInUH+GdkPqC9no3a/Y0vq4jc17gmgab7d0cxTLHnyTraC+m3V\n",
       "aZXpqSZ+HqyCcN3JCp+JICxbCqMwYaNofbJI1kkVeXp763+DCL47nTBhI+3/9P87Hb8L/ifiaV/1\n",
       "N1y4cHBjdOv9AAAAAElFTkSuQmCC\n",
       "\" style=\"display:inline;vertical-align:middle;\" /></a><br>"
      ],
      "text/plain": [
       "strictlyIncreasingAdditions: forall_{i in Naturals, j in Naturals} [forall_{a_{1} in RealsPos, ..a_{_a} in RealsPos.., a_{i} in RealsPos, c_{1} in RealsPos, ..c_{_a} in RealsPos.., c_{j} in RealsPos} [forall_{b in Reals} ((a_{1} + ..a_{_a}.. + a_{i} + b + c_{1} + ..c_{_a}.. + c_{j}) > b)]]"
      ]
     },
     "execution_count": 21,
     "metadata": {},
     "output_type": "execute_result"
    }
   ],
   "source": [
    "strictlyIncreasingAdditions = \\\n",
    "    Forall((i,j), \n",
    "           Forall((a_1_to_i, c_1_to_j), \n",
    "                  Forall(b, Greater(Add(a_1_to_i, b, c_1_to_j), b),\n",
    "                         domain=Reals),\n",
    "                  domain=RealsPos),\n",
    "           domain=Naturals)"
   ]
  },
  {
   "cell_type": "code",
   "execution_count": 22,
   "metadata": {},
   "outputs": [
    {
     "data": {
      "text/html": [
       "<strong id=\"strictlyDecreasingAdditions\"><a class=\"ProveItLink\" href=\"_proofs_/strictlyDecreasingAdditions.ipynb\">strictlyDecreasingAdditions</a>:</strong> <a class=\"ProveItLink\" href=\"__pv_it/8cefab73bd73c09ad1b209d7456420bd858342bf0/expr.ipynb\"><img src=\"data:image/png;base64,iVBORw0KGgoAAAANSUhEUgAAAxQAAAAZBAMAAABa23XhAAAAMFBMVEX///8QEBCIiIhmZma6urrM\n",
       "zMxUVFQiIiJERETc3Nzu7u6qqqp2dnaYmJgyMjIAAAAcRTyBAAAAAXRSTlMAQObYZgAABwRJREFU\n",
       "aN7tWmuME1UUPtt2+piZdv1hDEg0wyJIMMSGRkAXsGrUX0JXExAloVlRghJSQVkfC6780CLBjGwC\n",
       "KwlkYCPEAnaCbtZNfIyLaFgeaVCjEjCNQUjUVGLUyPqI9zEznced7jQWU5Wb3M7dc7575sz57j33\n",
       "zp0F8F+Wd8lwuVyaEurqrgeeuxyxS1i2/mupCFQytdQ79NpMZchLGj+fxlSU8Z9nfFKRwJd4qRme\n",
       "S0zXcobvobURhX++QWMwLLMsY6lIqDiKZd/6pEJU0SWhNAcVtZxJyLQ2pCSSDeK0zLKMpZSKPiSJ\n",
       "9fikggD7oDmoqOXMJ3q1F0HyMMZWHNSvrapDwIaNbXTYovzGtDxsUIGHlaj6XSvw9DnaJFTUcuZp\n",
       "vTaEigVKg6jYZbbia2TT8i6DivhIobDN97J9ulB4PdcsVHg7E8vR2hgqPoYGUZFIG3uObqVqGUkp\n",
       "FfBrPt/tm4rWfP5FrVmo8HYmkKQVeg9NVOqgIjZnxtXuGJ9ra3cEfbgtUwcVYttkvaEvOvtXWy0j\n",
       "qU7FwwAbfVMRzkBUbhYqvJ2JlmgNjYcf6pkVt8mJC64Y838qRdkW9G1qtOyfitiz8LKelmiv/nVg\n",
       "tYykOhV3kDU84NwlJDIsKkJJeAOahQrqzPyyWxlRad1VgtkAXI9PKvhrIIiwk+wxFkahVbIFvRvC\n",
       "Ktzvl4qIBo/ReAokZ4a/MxHEMpLqVEQggMYPR3nn1nwIE7MERtGL5qQDV1le8XIw3XHHwakPfT1m\n",
       "4ITVL8yT6lbVAmHviTPGrLdCWtK03qrAauBSJAJipXL+2kol6ybVVARHIYJMLMbSE5XK45XKOdQK\n",
       "lqGo2QSj6Oe+WWCHeRnFTujx5MiU22NSQS0jqU6FWIromn2H5sLbohI0siv/Tqok9IzALRYqjtve\n",
       "uTEiIMJI7VBiu5Im7q5PNQYIe0+cSahuiEHFOOB/RlM553NWtPRA0b0IoM3/AtUqaCGz7G6/s2Kc\n",
       "KaFUQO86sFquUhErL9Qz2abtCrwrJUWj5xdDBRBOBkGzULGTsw4rjEBUnKr5/k3sSlr8QF2qsUDY\n",
       "e+JMq+yG6AmK/x2EC3VQgYbo++6tUWtJH9iGoKjVQwVywjzzy9mXbWo5ZCYo2LgMgabgRQOVgYEt\n",
       "hIrd7TgVI3sPLpasVES3ol78jFVk8BAEpkLjU6lUu8OV/inkNYbaRXHaD/0IpepbEE+V5Y2oFgh7\n",
       "T5xZ2vaoBWJbtvnfIFweqoMKFVYJ8u1ZBxVptIY4uAHV/6z4A2en3e3VZdvczFLL1WUb3kSeiq0K\n",
       "PY0aEA8swdfkfHrgJGRGPrNSIeAUuTezVIGwQhGIihTrZIB/kkM5tQzUrqQFU5ZlNd2B+7NUdhCs\n",
       "8AJh74kz1yuTXBC8fuC6AT7Pam4qimW8e9EbFkVUiq8VQRu1xzhciiZtgmAW+jMuKogt07LlbjOB\n",
       "vwnHE3XU7K941DKSGlTg7cH2QeDJ/QZAO4TjKH8E/ZQK0VgX6SrxI6opWATcBwpFBIKPPMGKZDDJ\n",
       "oQ6KbleauTxd1c0GDvdnqWwgQikbhL0nzmyAr1wQHHxc97Qt7ky7qYjgcb/WaFhySefkrdfF9uUc\n",
       "m9kZxx3j/9gZyZ2giC3TsuVu4vGTJJ62XSk5+KCWkdSgIq6QB+Keyuc3ICp20FV8MyzK5/OSkImV\n",
       "clYqTqE6AVA+iygUERC3fMqKZIsaIA9K7UpHpltCOQFIf5bKDvLob1CBnbkSZrohtoMP3wlKz26S\n",
       "V+axCXwnKNDjibIJE7cXTCoI86MZyNJZEbqXSC5CmM4KuFOyUoHBF2FzAYcyTBOUsIR1PFqUo6eU\n",
       "g6hvlmaPgZGq7iKlgqWyg85oXiDRCPso4swFsR0HmlTwXmfKNkXxNb1RcMIKTCoKfoySpxlm4obt\n",
       "VAhlDQ7jBhrgp6EPDdgrQMTTKZ6GuOagAsZzP5VwKAkCb2YNRJ8Se8n4aZGX3gNvodRxmMZJNNZU\n",
       "pD0LQUIFQ1U1gUCxB3JukIOKZ+I9bgh+CzffxIX6Ts3eE33BBusyiuLJOCQ3js5ts2KlDFG0OQmt\n",
       "T6Ox3qFCAO2dN2Huz+rD0krFXTdMIlQQxOAJrX+eruhQufHQIeMfNdR5cC4+myB2he7v+ZTuCTcB\n",
       "eqdPI/0ZKtpb1kF4j+YEOahYeIwBsX46is36RaonanuO+EH1PtdZj1EcT/YpTVS2U0HKVJRwaVFJ\n",
       "wgyglcBx8GHd4ChuBKiO1t6Qza4+Ss3+HqpqixzfO0H02dZnmK7rpdk+qOJ4fsnUIGngfNrr27Yg\n",
       "L3tFYR4HWmbcje2sjo5WeBrD/JBnf8vnX9pqji+Gf78w42kvbCrisHIFjEGFR0d3y11KflSk9erO\n",
       "/wYT7Hj6ocKjdP3j/wd1+mb4n5RQ19q/AMprfEspUcS9AAAAAElFTkSuQmCC\n",
       "\" style=\"display:inline;vertical-align:middle;\" /></a><br>"
      ],
      "text/plain": [
       "strictlyDecreasingAdditions: forall_{i in Naturals, j in Naturals} [forall_{a_{1} in RealsNeg, ..a_{_a} in RealsNeg.., a_{i} in RealsNeg, c_{1} in RealsNeg, ..c_{_a} in RealsNeg.., c_{j} in RealsNeg} [forall_{b in Reals} ((a_{1} + ..a_{_a}.. + a_{i} + b + c_{1} + ..c_{_a}.. + c_{j}) < b)]]"
      ]
     },
     "execution_count": 22,
     "metadata": {},
     "output_type": "execute_result"
    }
   ],
   "source": [
    "strictlyDecreasingAdditions = \\\n",
    "    Forall((i,j), Forall((a_1_to_i, c_1_to_j), \n",
    "                         Forall(b, Less(Add(a_1_to_i, b, c_1_to_j), b),\n",
    "                                domain=Reals),\n",
    "                         domain=RealsNeg), \n",
    "           domain=Naturals)"
   ]
  },
  {
   "cell_type": "code",
   "execution_count": 23,
   "metadata": {},
   "outputs": [
    {
     "data": {
      "text/html": [
       "<strong id=\"commutation\"><a class=\"ProveItLink\" href=\"_proofs_/commutation.ipynb\">commutation</a>:</strong> <a class=\"ProveItLink\" href=\"__pv_it/387f78934797dfaba423a291a1620b04af02bfbc0/expr.ipynb\"><img src=\"data:image/png;base64,iVBORw0KGgoAAAANSUhEUgAAAPwAAAAVBAMAAACQzp4eAAAAMFBMVEX///8QEBCIiIhmZma6urrM\n",
       "zMxUVFQiIiJERETc3Nzu7u6qqqp2dnaYmJgyMjIAAAAcRTyBAAAAAXRSTlMAQObYZgAAAy1JREFU\n",
       "SMe9VktoE1EUPW2apJlkWhculKLEFtRlUBDRFgMiXWmzsSqCDcUiuoqC4m9Rs5BJa2HARcUPTC1+\n",
       "SNWGStFIF6GhCn7KgAttwZKFrR9k7EaQKuJ7894k84tOXXjhzOeduXPeu/e+D7Asu8HhanlnU0it\n",
       "8m1YZijRl3ce1YVeBidxIQUEZEf7Xca42FGGF/T5s0f5BpnBhYmRPpQczZ8Y42IPGK7QEPV6lH/N\n",
       "UbExfm/Mkcuk/Xsxxhk93lEzFYnqaFDILedR/gyHU76D/AZD9u+DMmec8sIKHeLzbHbQo3ooxeAi\n",
       "/0zPQNzmMGgwTnm8Z/guSec9ytfGGHC5uE6xyi80bydRtKe5xWAs8sy7CB09QMZFao+zjlCvMtSt\n",
       "xlfr6IVfyqgMkfpENN30ngwYjFmee88x7LRVbPjSkW6YR/L46SnuGMwxDKnYapUPL6ExirB9jp0z\n",
       "GLM8937EEEStsTYIE5tVYb/i/0LzSMtxpNiGW304VGB8TZxhh4IT9H1a045r2gJ58pUwWoB/0Sa/\n",
       "0mBoTD6s1bQkyt5dDBE1aHz9Np+FeB2YoDOJREzsv6pgpoCwTX4VhG/W0ZPJ3ZFzlWeMefTcm8uH\n",
       "Sp3kYXj9POpovHeNkybKNB8jeSGZOpgAZEvwhZ8IL1rlG1U6qLpUJfdJHnzGmOQN73aOzGHSdtK/\n",
       "hAbKzs6wH25QWvQFWbwv20tP+IFAKW+VjwtrwErPbAMGY5bn3rz08JD02RfzpzBM2Sf8v2nMCTQa\n",
       "4ZGKPC1HijTeJAsW+YBaT9p9BZt80WDMweferWCghVmTq01inyRJ0Wt7jbRt8Z+WpHRoPFH+Gw0u\n",
       "xe3mA91x68Tb9IpWQMIm324wZnnuPQ8GkaRmVK6fVQKU9N0kLuS+hCbo+dtGvJS/Lrq63XFbdOG+\n",
       "6gkpBlbTctduRGjnQ60JTIb6cFbsxZS+Rk3p20OVLSdrfnHdciqCisuWw8PaPdYG9NPHe9rFhL8J\n",
       "nS9JmdEZI0x/7CnXnsxQ5TTgXCgzVRdwvuFa1nSSex4odtsopb0dN8qdcxw3qlnmT53L/8tha2YZ\n",
       "hy1RZnA3Ff/HfgO3rwLZd136RQAAAABJRU5ErkJggg==\n",
       "\" style=\"display:inline;vertical-align:middle;\" /></a><br>"
      ],
      "text/plain": [
       "commutation: forall_{a in Complexes, b in Complexes} ((a + b) = (b + a))"
      ]
     },
     "execution_count": 23,
     "metadata": {},
     "output_type": "execute_result"
    }
   ],
   "source": [
    "commutation = Forall((a, b), Equals(Add(a, b), Add(b, a)), domain=Complexes)"
   ]
  },
  {
   "cell_type": "code",
   "execution_count": 24,
   "metadata": {},
   "outputs": [
    {
     "data": {
      "text/html": [
       "<strong id=\"rightwardCommutation\"><a class=\"ProveItLink\" href=\"_proofs_/rightwardCommutation.ipynb\">rightwardCommutation</a>:</strong> <a class=\"ProveItLink\" href=\"__pv_it/fd58134800270c38b07aca3b67f599da377456da0/expr.ipynb\"><img src=\"data:image/png;base64,iVBORw0KGgoAAAANSUhEUgAAA/oAAAAyBAMAAAAem73WAAAAMFBMVEX///8QEBCIiIhmZma6urrM\n",
       "zMxUVFQiIiJERETc3Nzu7u6qqqp2dnaYmJgyMjIAAAAcRTyBAAAAAXRSTlMAQObYZgAAC5lJREFU\n",
       "eNrtXQ+MHFUZ/253Z293dveuQQO0DWR7Z2uDYjetQkMLrBpsNKHsYaRtMN7mpDEgkuOPlUqD2zOR\n",
       "4091sIH+UWTaBkqv4q2FSzmDdu1BiS2FTdUotZSNraiNHke5Ntwetb4/82bfezOzO7PdK3fsvpDO\n",
       "u+/75vdm5jfve+/N974F4FxK09mzOZjS5SWou6Km6fH1s++eG1DT4CZ9Sj+JaK7+2Iel9LBj06/P\n",
       "kf3UFH8Qc+qQfIgVjEpHfbMfmWZWn/hIEh3R7KSPNNjHZUvSHAwzNRpU13ZPyJUqaxOe7Jd/jB5v\n",
       "LXfbdc7+D81ai1YjyJbExFxqa9ab/Tg9/Kqcy6tv9iNFs/pHqzLudJatYpfM0i4oZ+YOlJPeoFcG\n",
       "4RQB49aitrhrGuwDNJf66epasW+yVGP2XwFP7EeNAUidZme3R2uwD2+Z7j7cXSv2X4GJYf+YN/bN\n",
       "Aeh4mde+vtm/16z58ONYPzRL98B+ePH8GdYH/3bbIomJvW0pD+xH22bbNTV73Av76/d2sgFoyHbN\n",
       "V2ywr4ya1VAeDZXT4R0kzLhl//NaywhAu/jg1f/p/ZrAxIZsqADL3bIfvg9+jHpuSm4qhPha7pZ9\n",
       "dCc/0WEWOfkoeaWGSTEHOvVkg31/aUxsRl1lSx4WgrKg2yX76iXgR2/KCvHBo4lka1ygaA0Es1+9\n",
       "0i37zTn4NvrL2lQBKoMwBbqTaxAUWdfttjUcbrDflC5V0ZO6Voe7UL/pNjrLPy8dHk5bzikp/EVo\n",
       "Zi/Ia8PDdw4Pv43fqAL05wQBcbJLJDMnUHwR9k3lKoFwCgSCZvX9BKrT9tbnaXXPfmdeYP9iUE8x\n",
       "9l30/aYM9FsHdDTbuiHLC5oyJfZd9P2LnZpKugBhCnQno8zcnv0n83XP/jyN9/zqBxAZ8cA+6uJ7\n",
       "AL6QFh98a551X0OAPYF79tFFoLJ1kV1Trtk37mRImcNOMsb9tOT26pr9tcDP+tRxCBYGPbCfhTsi\n",
       "Wq4osZ9Eg7T0OkDWfd8/gwf9xFK7ptyzT+/kv89j33/U1jDUXffsc142iqbDPfCXdM7Kfn8Bz+SN\n",
       "CqcIxWOrouGd3SIjwXwoIQj8adiWshBnApIK19oVoH5O1faBtSmoDMIU9E5OE3IW2956dISyT27p\n",
       "zerZbyHrx/wUJF99r1THnD/dtqIraWW/GTvJVazCOemu2Y9/AhEjMTL/oNRBX30zbuO0V/HIXGvR\n",
       "g4fQv+vApqnKIExB7kS54GFc/4ftvcdOUfYP4MOJ6tmP4jlOiz4Vl/snuT9W8++Bh299/U85eWNB\n",
       "4Nrz0zJmK3U966MfsDIdYfTidJe59w7YiD8xZKpnn5y7cSo6/gj/+cyM8kTY41Kd3mhB8buoUemT\n",
       "zQTBbnAyswNVptleQ0UQQRGKL/M5RXkMv9dBum00Wz37xG8cmIrsU+/HnpUx/w9feTruBeTpP7ix\n",
       "Wv+DLi+gvkwNQFq04GyHCC8qpyn7sf19fRvOZdZ3pK9vR/dUZN83xneGzCS6slC8ZlAPOsjfN+b8\n",
       "7/f2rjkX9lt7ex/ITUX2o0X+r0m0s+uWR2s2jYo5bVq51GB/JXlBfPKWlBZxMee7wIn9YMp0mx7L\n",
       "0kJN7tB/qjq9vzhJX8vbb534Ni4y2P8iqIgFhRKo3P0SzCIrGyPQsGxx0nchrtzDzjMlBvuBhM3g\n",
       "8sK+VWW8V+SRb3UZi2xBYGtVAQQ57ZHyDTvpgyNQv+VOg/1m8Bmr9Z1DV8MLUd3P/I764oJ8JLMf\n",
       "rsL1oiwxv/Z0w+U8LkZ56iH4hv1ogBHU5bryH+xesoY5E9haVQBBr0GhfMNO+gb7iP1ovtkYIx7e\n",
       "rMNv4wm2hoG/DvZB5JAfcuYymJeY7B8EftJHUN7IQcSefYwQ+znAi6jeqhnmTGBrVQHEdCGODTvp\n",
       "J63nPx/lewb74cJNiNw5eAhAZWDgp4T9rYuwS0cd5+YV8Rx5hDemRYnJ/i+UNP7GdQedKGCUwM2o\n",
       "Ls4Fts0hH50IwnUDqFV07Gy7jTbKBLC3DSxWPI9tcYtanf+ZbLmGnfXRsTpmn8364MFb0JNo1ek3\n",
       "34Hos1/Hx8RS+g03ktr/Z8x1y9++UhQlJvuhx5MA21OdOgTRmIFRYs/K00D1u0oR6wjC4Teo8JN6\n",
       "O22UCZqTHQRDsOLKPco0CGqiukLDVH8N2Oh91tlgOP+RpHrQKrqQsf8cctybd4NKHOQA5PBOMBxo\n",
       "2Ea5jhLP2boSd2BeYrIfwXtOFsAyUH6vU5TITpkEf0JBregU4TfG1fTAUdooEywEBWOIVhxIBoh/\n",
       "EdQL0D2UaZjo4Tmw0cdGLc/kmUlE2TMXWWUsR8NlYSkgQeua7D3GPtmJ1APKvb29PYj9J+g0YB0s\n",
       "6+3tjUdS4Twe1jvmIv8pSEz2AX8znolT4pp1ihIekGN/TVkfWUkQhJ99jQo/DlfQRplgJhAM0YoH\n",
       "MVYdvLpCw1S/CGz0ESv7/55MPfaYjWzcG4SRXKBaltZ0HwFmP6bjKX0K0rTvB24k+jEI0p4O1+G3\n",
       "Y64yTRMlJfYPo/PHYF0fYY6gXBXHHZ0r/VrosL4rThH8W9EJ6FhE1KR5wZjBvmDF3QueJR4R1ZUa\n",
       "pvrV1yeseuWM5duINQ/HVUCl9ELF3UsrYoxbTw8UXaDapIDstXiFk4x9uirKwcu48ieAI7BRx4GG\n",
       "KKY2loRYLvwQ9CjdcU4isI/LdGU0T0ggKOtfhmh8o47OM/5p0jqvh+cTFCG8OAV7kfj7sQw1Z4Lj\n",
       "4CcYgpWBgP5rSULise2Serpyyrlhpr9kc57TC96PL83aJGLfZJo7PdrtjX2WXLDFYjPOs6/erkEI\n",
       "uYnA/UnUtTqyJNCA48NLjqNepcxEPrErxUks7H/pU+2UBIwC6mv/WolQlOnQoeF/soGuXVfjr4IE\n",
       "AX45/KMUwrzpVcOcCdZffhnBEKwogoZAwvMP6WTqzqvLNmzoA39P8HpW7pefyQaYROxHbULNfJKg\n",
       "G/bZ4IH6jbR6GuPZJ2UuGoJpyZJAgw8NrwYgmyabEpl92nd0CQWE2vaADWbJPFLCsLZsghywUzs2\n",
       "TPW++IksrzfKtfJzawc5R8NF4gSfAlI+J8OZfT7hg1m3dLVnxdO5HA1wlW1ipoBE5SEtOGJhv3S+\n",
       "JgUaBh0aEtlX5i0SUaRa8LKymIM2GJyVAXLCRu3YsKH3a0eSNlf/li4J8JYamqPhJXHinVKURMjJ\n",
       "qJwXIiR8sF045o6yE+qYOBSQHA0v2SahohGficnTPrrT2J79mBxoyLti34JirZXDzJe3IiDhTYXK\n",
       "58QqXzgpnfK2hvtYjoanxImFZpREyMlwkRfCJ3yYHotZ79HhpCAgORresk0KRnwmIofgn4w7s++6\n",
       "nPddnbEhrXZgXDYHW4KyHA0viRN3Mfcq5WRUyAuREz5kjGvIskwEXeMx2yRnxGcUOaTRyOYA/4iV\n",
       "fSNHw0vixCmr0yW7hQNu+35Txs5xH4PAuASKczQ8ZZuwTaoW9h+Aumc/MGr1/FUlTgTmSE73A0/s\n",
       "k4QPtV3y/GeYTyiBVpFtQuIzpZNYaWRxAtxtnfVVlTiBoyQSc2i14Zp9kvDhDxRE61E80PPsV5Vt\n",
       "QuIzllmfr5HBbZ30D1WZOLF5t8QIzsmw8FRKCWF5IXzCx45oWsT4DvtVISaoJtuExmfAn7Od8dQ3\n",
       "+03SQ1lSZeIE9MhfanBOhoUnE4PlhQgJH6G8aL3t05KgqmwTEp+Rt+k1frmFPKei05deb4kTOEpi\n",
       "9cauPb/h/zUHa1HgMduExGdgu2RifAOs819sk8JopSiPt8QJHCWhrwE/lFTOCxHAO5ysRYHHbBMS\n",
       "n5GjPJEZDfZReVS6frb73WPiBI6SWIrXvJC5rqy8opL4jBzhbfxaI9h9A/swd3f0TBy0vOP+m9Bg\n",
       "n07OxZ71oe3sCn55xsSBS3vkYpkasT/Vf6E9GJ8sF7JPO29t1ewX2qf8/53hs1B3Rb2NHl8/++7/\n",
       "AVB5gpP5zwvCAAAAAElFTkSuQmCC\n",
       "\" style=\"display:inline;vertical-align:middle;\" /></a><br>"
      ],
      "text/plain": [
       "rightwardCommutation: forall_{i in Naturals, j in Naturals, k in Naturals} [forall_{a_{1} in Complexes, ..a_{_a} in Complexes.., a_{i} in Complexes, b in Complexes, c_{1} in Complexes, ..c_{_a} in Complexes.., c_{j} in Complexes, d_{1} in Complexes, ..d_{_a} in Complexes.., d_{k} in Complexes} ((a_{1} + ..a_{_a}.. + a_{i} + b + c_{1} + ..c_{_a}.. + c_{j} + d_{1} + ..d_{_a}.. + d_{k}) =  \\\\ (a_{1} + ..a_{_a}.. + a_{i} + c_{1} + ..c_{_a}.. + c_{j} + b + d_{1} + ..d_{_a}.. + d_{k}))]"
      ]
     },
     "execution_count": 24,
     "metadata": {},
     "output_type": "execute_result"
    }
   ],
   "source": [
    "rightwardCommutation = \\\n",
    "    Forall((i,j,k),\n",
    "           Forall((a_1_to_i,b,c_1_to_j,d_1_to_k), \n",
    "                  Equals(Add(a_1_to_i, b, c_1_to_j, d_1_to_k), \n",
    "                         Add(a_1_to_i, c_1_to_j, b, d_1_to_k)) \\\n",
    "                  .withWrappingAt(2), \n",
    "                  domain=Complexes), \n",
    "           domain=Naturals)"
   ]
  },
  {
   "cell_type": "code",
   "execution_count": 25,
   "metadata": {},
   "outputs": [
    {
     "data": {
      "text/html": [
       "<strong id=\"leftwardCommutation\"><a class=\"ProveItLink\" href=\"_proofs_/leftwardCommutation.ipynb\">leftwardCommutation</a>:</strong> <a class=\"ProveItLink\" href=\"__pv_it/72b845243074611717d6130e1ab27e9f548847720/expr.ipynb\"><img src=\"data:image/png;base64,iVBORw0KGgoAAAANSUhEUgAAA/oAAAAyBAMAAAAem73WAAAAMFBMVEX///8QEBCIiIhmZma6urrM\n",
       "zMxUVFQiIiJERETc3Nzu7u6qqqp2dnaYmJgyMjIAAAAcRTyBAAAAAXRSTlMAQObYZgAAC61JREFU\n",
       "eNrtXQ2MFOUZfm93Z39md++IbVQgmoUrV2JruUCjRFDXNpa0ibhnU4HY9DZXSWNDzaotFUvscSb1\n",
       "/CEdS6pAax0gChy1t0UveI0tW04xBbWb/qRKETeF2pa25xUP4t3V0u9nZvb7m92Z4y6w7n4hu9+9\n",
       "73zPOzPPfP/zLADnkprOni1ATaeXoO6SnqXfvz37n3MDahrcYtb0nUgU6o99WE6/dm/5+Tmyn6nx\n",
       "G9FWh+RDsmRlOuqb/fgMJ/vkh5LouKGyPtpgH6dtaacz7J6iTnVDzs/huy7xeKC2od3Xeaz8CP2+\n",
       "o9Jl1zn7Dzi5ZmOKIJv9sXTc64EteX/nMUG/flapyatv9uPjTvb3sjPlVkrp2KtiqTrGhApDZbjZ\n",
       "rHCcHC5kXVpCeQbrG+wDRMr1dN1Usc+yVB0jNO6V/VfAF/sJqwPSZ6gO3G802Ie3neY+lpsq9l/x\n",
       "hZHIeWX/uD/2nQ7oRIXHvr7Zv9fJBfDt2DQ0x/TBXGzpwlkyI+/MXeIDo7mrNa9g9cDcDGeILZ03\n",
       "4Yf9TQc6bdgh5ZxvvMG+Nupko0XUCs+Ed5Gx2ytzNxjNIwCtPCP6/8x+A1Z6xeg/qY+hZyDDs/pE\n",
       "PlriDDcYUcTXSq/soyv5vglzyF/HSBMzTJLT0emnGuwHy31iBFWVbUVYDNqinEfm9MsgiJ6UVTwj\n",
       "aCDZkvri1V7Z328CIiIusLoewnnukUKhSuCgVmUfXcl16JrIvG6f8sjhBvtN2XIW3anrTbgb1Zuc\n",
       "VVn+dvnwcFYqU3YExyFik/v68PBdw8Pv4CeqBP0FWOYRA5Gk/1fGGJcNkQJQVMbsioquBI3q+0k3\n",
       "1qm89AVG3bPfWeTYvxT00zb7HuptUzf0Z6S+GI22bs5bPHmo+8chNCFhNHXLhv40OKhV6z66klH7\n",
       "cDX7TxXrnv0FBtvyo0oYH/HBPqri+wE+k+UZaSnimueZ/Q9wvd6+hMdAyJIBhfLMvnUlQ1qbXcjq\n",
       "97NCs1fX7G8AdtSnT0C4NOiD/TzcGTcK4wL7adRJe2d/FPfR7culJwi4fp+G8s4+vZJ/P4/b/mPK\n",
       "I6O5umf/UqbTRMPhHvhTtiCz31/CI3krwziiqeTaRGxPjmckXIy2y+w7GOSDcXwDHgDdOMhjBLOw\n",
       "g5vxkVBy3XfOSkSlV3KGYCxVXnpihLJPLumtybPfTOaPxRokX3+vnMecPzN3VVdaZj+CG8m1doap\n",
       "YV3zHv8YIkZgZOFrILPvYNCPsmPHJ/Gd2yjU6VffSvGgJJRc99dy0GVUciXaRY/g/F+V1548Tdk/\n",
       "jL9OTp79BG6jms1anO6fYv5Yxz4HPtb6+p9WtcbLfGHAmIe1Ph/9vrWA1d0RQw9OrsK1d8BmvJTU\n",
       "PXn2SdnNtdjwx9nlM2eXJ27fLt3tieYcv0pYmT72kH2+MLQZKgzZsA/cjlOhRlMrAm67PFa710Gq\n",
       "bSI/efZJu3G4FtmnrZ99r6zxf+zqMyk/IM/8RmHc9N0uPxgBb5XPJ2qzEZ7nssOL0hnKfvJQX98T\n",
       "5zLqO9rXtztXi+wHxtjK0H3+TiSamj7sh1zs71tj/vd7e9efC/stvb0PFmqR/QS3u3r+3uy6/bHp\n",
       "GzUl3V5audxifzV5QALiKynN/GQucJEb++GM02z6TMtLFd2hYW8wwdOT8wfHL4yncM0d5yHoJRb7\n",
       "nwUdsaBRArV7XoI5ZGZj7TysWJoOXIwz37TLORaL/VC7onN54eDaCs1Z/NGvdVmTbMnIpKGKbieE\n",
       "PlI5sJs/PAL1m+6y2I9AwJqt7xm6Fl5ImEG7IdJfXFSMdx+Ca3B+XLQ4qz05uJLFxShPPwxfUfcG\n",
       "GEFfaWr/ws1LXmFk0j/d3HyIeKlyYDd/g33EfqIYsfqIR7aa8MtUuz2HgTcG+yD+uyAUnGkwa3HY\n",
       "fw3YQR9BebMAcTX7GCH5Y4AXUb7FUBgV02DRLYSwmhDXwG7+C6XlPy/p2xb7sdKtiNw23AWgNDDw\n",
       "A8L+9iW4SUcV57ZVqQK5hbdkeYvD/k+0LF7jupMOFDBK6DaU58cCO9rIohNBuHEARUXfnXO/DpKR\n",
       "XZFoM2X3gbl8CH3hp/KVArv7E2N1zL496oOHbkd3osWka74DiWe/jL/bl9M13Hjm0B8x181//sI4\n",
       "b3HYjz6eBtiZ6TQhjNjCKMlnxWGg/i1tHPsIwpE3qfHjZispwhmZgeZ9aCgaNnh3JN3Bh6gSmPqv\n",
       "A4U/II8GY8UPJdWDsulim/3nUMO9dR/opIEcgAIebOGdhx2U6wRpOVtW4wrMWhz24/idk0WwArRf\n",
       "mxQlvkckIdiuoSgmRfiFdTY9cAwX4Y3sNJhKjjj3YtD4EIvQNVQITPzwHCj8yVHpnuyarvvvWbVB\n",
       "64qbJMTWaHhMtgQkLM/J3rPZb0kRJrR7e3t7EPtP0mHARljR29ubimdiRXwqHfNR+8lZHPbxu0kw\n",
       "G0viIiZFiQ2Ie39N+QCZSRCEH32JGj8KV+EivJEpkw7KZWaDEKJKYOpfAgp/XGb/H9NW/Y77OtpV\n",
       "EjLhL6olLtClqTV9owiznzTxkD4DWVr3Q7dYQ64wrelwI3465mszDN5SZv8IKj8GG/sIlQTlmhSu\n",
       "6EzqN6JHzL0pihDcjgqg73FEDS7CGZlTN5vyyaOCG/fVbIhqgal/3U3tsl/7QFobkW+6pw0Vd6ta\n",
       "teG6+VNNEsK+/l8VBMriggNSq3DKZp/OigrwMs78AeAobDbxzkMCU5tMQ7IQexh6tFyKsXDs4zRT\n",
       "Gy0SEgjKppchkdpsonLWR5PReRM8304RYkszcACZ70t2kyKc0SqA/kXMN+CHOwX3CQgyIZBhpnba\n",
       "PbDtv2xrkfFzrR+bIsZ0sc+rNqoS5yYJYV//98K+LS7YJp3oBMu+vsaAKHrgQvenUV3ryJOdB7w/\n",
       "vOwEqlXabNQmdmUYi8T+5z7RSknAKKC//vfVCEWbCR0G/siHuvZei1cFCQL8dPh7GYR566ukzeaN\n",
       "tICBS68p0JE669505RVMCGSoGNjyh/7SzvrtdL94T56A6WKfV21UJc5NEsL2CF7Yt/ub5rQ4Cx5j\n",
       "2SdpPur3acqTnYcA6m+tSPYw2bGI7NO6YwoowOV2hmRMUkQO5JQ5rHKXQ8SrBKb+QOpknvVb6Xrx\n",
       "vrWCqNHwIJxgJSCO1ZZjqFUbVYlTS0IYjYYXEEYCkhC7tPCIxH4Z2BB2HgZdAvHsawuW8ChCLnyF\n",
       "hCkUYQJZZU5WnroMVg5s+YPG0bTi7N82BQN+x4ZqNPwIJ94t75LYVkeOwak2qgtFOEmI/VoOr9Hw\n",
       "DEIlIHR/JikO++hrw2r2k+LOQ9ET+xKKnKuGWeTLxLaUKpcpVg4MFefvneJrDd+xNRq+hBOLnV0S\n",
       "x+rIMVjVhgehCCsJcZowTqPhHYRKQOj+TFycQT6Vcmffc5rutzqTQ8Y0ojNqDnsKams0/Agn7pas\n",
       "1hqyqNqoIhQRJSGKUOvBBwiRgND9GU3c0mioOSA4IrNvaTT8CCdOS9ayHINTbYS8VlsqCVGEGgXv\n",
       "IFQCQg+X2H8Q6p790Kjc8k9KOBFq461lOQan2vBMHJGE6K15RSjvIPRKyP5MuZCdGipOgHvkUd+k\n",
       "hBN4l4S1luUYnGrDO/tYEhIMlRShfLBProTsz0ijvkBDwS0P+ocmKZzYuo9nJOjIMVjVhkRcWd9h\n",
       "C0VYScjuRFYRyoPahJOAkP0ZCBaUI576Zr9JuCnLJimcgB6BEUeOwak2JOLWcsggSEKiRVWo6moT\n",
       "TgJC9mfE1/Qav9xizaxcVnr9CSfwLknltT46zvDaaFvtv6E62icI2Z+BncIh1hpgnf9im7DzVt7l\n",
       "8SecwLskslU+rKpQhIvWoTzaJwjZnxF3eeKzGuyj9Jhw/vbb7z6FE3iXpHryKxSZPxUgZH9G3OFt\n",
       "/FojqNbAdl1IJ9czZUjiG/dfhQb7OF0l1KwL582u8OdnTRmW8NJcsnuK2K/1X2gPpy7YMzs4bYvc\n",
       "U/YL7TX/vzN8Guou6fRNavy/M/wfmjaZgujKQiUAAAAASUVORK5CYII=\n",
       "\" style=\"display:inline;vertical-align:middle;\" /></a><br>"
      ],
      "text/plain": [
       "leftwardCommutation: forall_{i in Naturals, j in Naturals, k in Naturals} [forall_{a_{1} in Complexes, ..a_{_a} in Complexes.., a_{i} in Complexes, b_{1} in Complexes, ..b_{_a} in Complexes.., b_{j} in Complexes, c in Complexes, d_{1} in Complexes, ..d_{_a} in Complexes.., d_{k} in Complexes} ((a_{1} + ..a_{_a}.. + a_{i} + b_{1} + ..b_{_a}.. + b_{j} + c + d_{1} + ..d_{_a}.. + d_{k}) =  \\\\ (a_{1} + ..a_{_a}.. + a_{i} + c + b_{1} + ..b_{_a}.. + b_{j} + d_{1} + ..d_{_a}.. + d_{k}))]"
      ]
     },
     "execution_count": 25,
     "metadata": {},
     "output_type": "execute_result"
    }
   ],
   "source": [
    "leftwardCommutation = \\\n",
    "    Forall((i,j,k),\n",
    "           Forall((a_1_to_i,b_1_to_j,c,d_1_to_k),\n",
    "                  Equals(Add(a_1_to_i, b_1_to_j, c, d_1_to_k), \n",
    "                         Add(a_1_to_i, c, b_1_to_j, d_1_to_k)) \\\n",
    "                  .withWrappingAt(2),\n",
    "                  domain = Complexes), \n",
    "           domain = Naturals)"
   ]
  },
  {
   "cell_type": "code",
   "execution_count": 26,
   "metadata": {},
   "outputs": [
    {
     "data": {
      "text/html": [
       "<strong id=\"association\"><a class=\"ProveItLink\" href=\"_proofs_/association.ipynb\">association</a>:</strong> <a class=\"ProveItLink\" href=\"__pv_it/f945f00f32b7ac46bb5408302bf7dba7d5f844110/expr.ipynb\"><img src=\"data:image/png;base64,iVBORw0KGgoAAAANSUhEUgAAA68AAAAyBAMAAABBpvDaAAAAMFBMVEX///8QEBCIiIhmZma6urrM\n",
       "zMxUVFQiIiJERETc3Nzu7u6qqqp2dnaYmJgyMjIAAAAcRTyBAAAAAXRSTlMAQObYZgAAC0hJREFU\n",
       "eNrlXA+MFNUZ//b/7czsHWlICxKb9ahIbA0bacEIwraNvdREXGwqEpve5iJpbKndFktEjT2vSV21\n",
       "NGtJFbA2A0TQQ3sr9oI0tmzvFFMQ3dg2BYq6qWgrbbYXhKZ3FOn7M2/mvZm3uzN3c+WOebnszn7f\n",
       "fL9583773nzzze8WYCItdP58BaZRexku7raTvmnnz8+YGFBo3xZ9Gp23VrnIiY3WyJuy5YmJEpub\n",
       "Vuc9Dy729rbxHgsUsap1tk9Ofw7VksTYVgkisduybEvp9Qfx6U942Vt5oODn6dwhO8TMIBL7Q3Or\n",
       "veQT5Lue9m7P+Hk6v5QZnw8gseqYufkHh3NPoyipQ00bG2el1kYYHWX3yK0dmmzXRCV4xCas+bLB\n",
       "J2KjY56IvUn3k1hFRp46Gjxi3zHX32TBJ2K1gidiXwU/iYUTsv3WBY/Yu82tMJ67m4Yv0z0Qm1x6\n",
       "9SWOUW7vmVv2QOz7nUskVq3zci/EDnWyQR+Wfn31oBEbO23dFFTRKjob/oWMvW6J/XypfQRgrjjK\n",
       "AyeVUQujFbHKR/oAWjXeE63Je+EnLjCY4/FyWy38MeumVauTZl5mBtJBIzZinWsCTbNtVbgGYgsL\n",
       "LolVLoUIGvzV4ijv1+GUhdGKWJS9daBdyqIVpTvfcoHBHPdBvAx3kc290sy7FjRiQ3lrE93QLtfh\n",
       "e2jekgF9vV7/br3+vjPGckTGIMEurPX63z5Zr2O4ZaD818DgrA0xajBQcViX47WzBYbliOB0TaE5\n",
       "W7fsNMOjQSO2uyoQOwuUM2xAXczYUC8M5BzT512InrUwWs1YdBt7U9lhnQUALjAMR6jX2ltKbPJc\n",
       "0IhdUOKXYjTT1BEPxKKpth/gC3lx+M/hGeSa2I4qmp7KXHEpRh3xQiyZ8lrmZtyRLu4aa83yjweN\n",
       "2AeAT56UsxCv7fNAbBnuVEuVMXH4T+NLtXtis/hKbTyBMa1ohqnuiUVfDii3/+WGMbAq/mJ7MGjE\n",
       "zuIuWSiH7IM/5ysOYpWPMIk19mI52tKp9Vpyd0Ec/m/jMqWDFBxqAVkY8WpbBp7R8uIhF4HyORcY\n",
       "hiOShx25jjVke6n0PN8wiCVxb42f2Hb8nqpOeV6VD61tPIw7O1f3ZJ0zdj1eqfPshWO85/LHPoXo\n",
       "FYd/x2eqEmJJ6HoJxtWHjXst3qodftMNBnO89lYaVs4ny/l78jpMjhJ7CH84OX5iNXyMdn3q38ae\n",
       "4j5s4Cn2UHkaeEqyYLpeio0FuSSxul6KSZsfm4FAFPmzou40JXYzzqR6x08sid089Vdila/Xmw8B\n",
       "VDY4/Y3iBMdvNWPu8V9kE0PR3WCslFlbY/COvlgh3eAhAPryZSixeLJp5QlcY/FsPzT1iU2d4T60\n",
       "GbMmufjfaS8gO38vub/wiDEfJozxAfTkGjy2QytCnhKbOtjf//hEkqfj/f3PFKY+sfTGnX39ey9c\n",
       "R/r8AnqoAbG9Rlb8n2LxvokQ21EsPliZ+sRqwhO2CyaNiX/5Er+WoAZigVDNIHYN4T5sf7jfLt7J\n",
       "GHVnCbHxnLmyeWwrak3d0bqfIxoZmxLfr/iB0iQfIVQwiP0iKGiAY/R4sXUvw2UkwVbpbquWZsOk\n",
       "lnEXCzQtBrHRjGS1f/HA+iYXDfXH3+gxbicdRq4NN3c3Msq7ER+BYLTEDIPYBISNO6vdw9fBi5oe\n",
       "YfmX8tLCqtp7EK4FVnfmLWaBogBX8cAY5amH4evy5RkjKLfqsX/iRaEsMXLtH83cDWIadiN4xGrV\n",
       "hLFoP7JVh9+kMxrb5ci+flDfjEDFvNHiLSaxh4HPnQjK0QqocmIxQurnAC/xd3S8kWujzdwNYhp2\n",
       "Y4osxf8HYtlSnKzdgnibh9dk1AYHf0qI3b4Er7FosbttdboCRt1ZsJjE/iKWx1WVO+lFGaNEb0Pb\n",
       "4rVkxzxSJyEI1w+io+Jb6c5vgsPIlxTm6U73UGezGOZ2dkMbDQixZvIED92OTrtDp8XFQe25r+H3\n",
       "zApaLFRzB/+EaSR1Z8FiEtv2WBZgV65bhzgiAqOknrNnCMr3Y2PYRxCOHaXGK/S5JEQwcvnaPSij\n",
       "i5dEdyK7slkMdi/DG45uhM/ApKTFyXFXU/f51QURKJRnxL6A5u7WvaCQVGYQKjhnUUoHYAelUSM5\n",
       "Dqk7CxaTWHUxelkIqyD2O52iqLvtxEYyMXQUnSL8eh+7o3sbh4hGroqQTpHvmuC+BmLNYpAbXsD9\n",
       "d3QjdRom5Ub2aa86cFNkHvcrPxaBOjKMWCzXQIMcu7tY7EPEPkkvuRthVbFYTKu5ZBX3m9SdBYtJ\n",
       "LOAq7Bz8jzEJnaIkB+1PfULlMMm1CcITX6XGmbAIh4hGLiYbccbMAWgWg91YMObshioQ65tiHD7w\n",
       "rANnInOl5lMXRCDyxJYQm9Jx0puDPJ2x0ZuNzCVO5ydcj4kndWfBYhF7DMWPwsZ+MuIE5do0np78\n",
       "0Uptx/Q9aYoQ2Y4C0PsY4gGHCEbuq6eHyqnjNveoQWyDGOzecGNG0o3YOX4/p2Lci+4TrAp+KuNK\n",
       "Bw4ykfmQqyO4cAzxH9hDAAO7VoFX8MYfAY7DZh17NMxaKgupSvJhWne2LAKxuM2Ona6SEScom14B\n",
       "Lb1ZR3HGS6jUfSP8KkMRkktzMITM96R6SYhgNALQX0I/Aj/bZXOfgEjDGMN96dYq3w3Www/5s9/g\n",
       "F7GJkisdOMhE5tv8InYb/2F/mSdWWVuCNmSJ3p9Fk2FlGcLoIvQIcnSdQN/+2Byj7mxaHMR+6dNz\n",
       "KbEYBZTX/74GocRmw8oSfilHe/Zch2tUBAGerf8ohzBveY3OPsFIA0o4em2FZre8e9NVVzaMoe7o\n",
       "X/HKaHWDtfv5jKfgF7G4zP4qeCHWEpm3Z30ilgGR9kYJ7AqK+UVWoC6TR8phdBkzDs1SS9NiJ5Z+\n",
       "fXUbCghbu6JOTBLiPJAZcwg8xJCtcPpkWeiG0ZbzCbdTMd6aWGF/NrpYaCzXgTfCsUTmLAeVaMFd\n",
       "EWvuLpTwvgPQUBqjlm5/VHeTmYvExhYsEVFsW/ErHZi2EO5ARsxJ8BBDtiKl41lZX9/hzkiiGG9J\n",
       "LN2f1dTZ6G5kOvBb3RJLROakFJ+qiR6sBW+NYy0WpnQ8xWdPs5oQm4K14j9fVl0R60BxbrXCrIox\n",
       "yS01LzFNbym7uRRHohhvSSzZn9XUzdG919CBf2WxW2KxyJwuLqpNQYW14K1xTIclHVe5K0vyVBNi\n",
       "3Vc5JlnMlhr271kIJxh3KMZdKLWN/UnjBOYzmQ68y+5phLPMUJyi0R8Bhxa8BY4oYWcl/BhXBw+e\n",
       "YDwyIhJrU4y3nLF0f/u0mcl04F1uZywRmQPPB68Fb43DSdhZ93li2wpBIzZ6WliK7YrxVsTS/aPz\n",
       "wLEUEx24e2KJyHz7ErCOzWvB3RPLScej3FJMyk3B+jfKdULyZFeMtySW7I9r6vbkiejA3RNLROaZ\n",
       "FeBInogW3D2xnHScT54W6IEjlkuLJYpxh1KbvHAOsv/WvbZhHzZ04A5CTLW3HQeLzHEpHl0cKoIn\n",
       "grXgrXGYI2JJxxkQblQDEShiQ9bpSxTjDqU2fbEcdP8+G7FdTAfumGnrBTCbyBzPdFN9xGvBW+OY\n",
       "Dks6zsmYgvhTBdyPi0gU4+4qT7im7igpgqtro3gAPP67ZB7XSzGtKRHp+C6uCJUJHrH8b/c4FeOu\n",
       "lNqkpk4aU3unWNHH/C/kfjc4ZOCHZJ6WOIKDSse5hwDP6wEk9lGrt+NVjOOautgMde+mH/R4wcGl\n",
       "eOljO484pITPAQXzB7y4Ao2fD9rH03Apvs2v4gsHFM8EkVhYZG1eWGkMKcUf9asLHNAR8InY6fWz\n",
       "tvH0FOnI2jsmqQhDF2UfftZ2mv0Q9Wfh4m476TTDP0T9P6+mNqRzyyFqAAAAAElFTkSuQmCC\n",
       "\" style=\"display:inline;vertical-align:middle;\" /></a><br>"
      ],
      "text/plain": [
       "association: forall_{i in Naturals, j in Naturals, k in Naturals} [forall_{a_{1} in Complexes, ..a_{_a} in Complexes.., a_{i} in Complexes, b_{1} in Complexes, ..b_{_a} in Complexes.., b_{j} in Complexes, c_{1} in Complexes, ..c_{_a} in Complexes.., c_{k} in Complexes} ((a_{1} + ..a_{_a}.. + a_{i} + b_{1} + ..b_{_a}.. + b_{j} + c_{1} + ..c_{_a}.. + c_{k}) =  \\\\ (a_{1} + ..a_{_a}.. + a_{i} + (b_{1} + ..b_{_a}.. + b_{j}) + c_{1} + ..c_{_a}.. + c_{k}))]"
      ]
     },
     "execution_count": 26,
     "metadata": {},
     "output_type": "execute_result"
    }
   ],
   "source": [
    "association = \\\n",
    "    Forall((i,j,k), \n",
    "           Forall((a_1_to_i,b_1_to_j,c_1_to_k), \n",
    "                  Equals(Add(a_1_to_i, b_1_to_j, c_1_to_k),\n",
    "                         Add(a_1_to_i, Add(b_1_to_j), c_1_to_k)) \\\n",
    "                  .withWrappingAt(2),\n",
    "                  domain=Complexes),\n",
    "           domain=Naturals)"
   ]
  },
  {
   "cell_type": "code",
   "execution_count": 27,
   "metadata": {},
   "outputs": [
    {
     "data": {
      "text/html": [
       "<strong id=\"disassociation\"><a class=\"ProveItLink\" href=\"_proofs_/disassociation.ipynb\">disassociation</a>:</strong> <a class=\"ProveItLink\" href=\"__pv_it/2a90e34999b564c3b2900ed82a5243a2303b20830/expr.ipynb\"><img src=\"data:image/png;base64,iVBORw0KGgoAAAANSUhEUgAAA78AAAAyBAMAAABmCHEyAAAAMFBMVEX///8QEBCIiIhmZma6urrM\n",
       "zMxUVFQiIiJERETc3Nzu7u6qqqp2dnaYmJgyMjIAAAAcRTyBAAAAAXRSTlMAQObYZgAAC3RJREFU\n",
       "eNrlXA+MFFcZ/253Z//MzN6RhiiU1CyHXEm1YVMUmnKFU1MvNins1VggNd7mUmKqWM9WL6Vt6nIm\n",
       "9tqK2Uosf2rNACnQo/W2tBd6psrKtTRCaTdVIyDFjWBV1JPQo/EWKb4/8+e9mTd7M3fTcpd5gdl3\n",
       "73vf7715v/nefO+9bxdgMqnh8uUyTKP0KoQj7aIf6uXLMyYH1DC0VZtG962WQ0JwrEo+5K1PTZbg\n",
       "3LS67xYISzqlf0qhIlix7vbpoDAnDKQUg7orEVCyHEaCt7cZObkQECQC2vNxXwobuvXc3UHdlghI\n",
       "nhlGgn9g5hqDMh8MdNqfRlbP/CKo2xICvRBCgpWamf2dQ7jPTUsoUDIM0EWhxE2lqWR4fBlPLYwv\n",
       "UEVVE+XwEZzImtn1QRGMgGI1X8SsNJYd8oyACJZFJCpj4SP4z+a8nOoOiGAMpHb7IuZ1s+RMQASb\n",
       "QFy6L3wE32/mItiWNw3P1XwQnGq94WrHKGOgxq55JR/EvNu8VC8ZtrWgNs/3Q7BVfVj4OGthI1ga\n",
       "tRYRFTSzzob/oMKCV4I/V2w8BzCPH2UMNHBWHrNwxiNG/kAbQDPJX5m1qt5C6kH4sXccWn1uxlz0\n",
       "qiMkma+hgUzYCI5a95pAJre9AjeCtKjbI8HyNRBFg7+GH2UMdECD8xbOeMQgT68J5bDN7+dbQG7R\n",
       "N73jkOqQIAu//UJvvRo2ghvyVhaNy3IN7kV2TAb0zZGR74yMvOvUsQTRGiT0oUW28rdPjIzkdaBl\n",
       "IP9Px2EkNkfXFESrMKBvQnTyLSzHc6pnHFp9QDOB7CkyFjaCOyscwbNAvmAMqAcLbijAQM5hRhjo\n",
       "NMQuWjjjWR5aBq8sMQRbLcwCAO84tHo7uBKcuhQ2ghcW2SkaWZ1yzgfByOwOAHw+75yiL2Hr9kxM\n",
       "UwXZnkzcsnauBdQhPwTT6sNSiwGkv4Mtq/9Y2AjeAKyTJV+EeHXIB8EluEcplmtOJ2sUv869E9yG\n",
       "3+bktMfmZCGLU3xYMKn+75fwJH1KWPGRsBE8i3mVIV+zF/6YLzsIlj/AZFaNiyVIZtI9ampvNz/K\n",
       "GOhbeAvUQQxWt8AsQbySzMKzKja0Vr7pxSB/tg4OuTACUv19Mv6twvt9SyeYtP/OxAluxJ/pypTn\n",
       "V37PyuNh3NW8pqvNacE9eOLNGxeG+a75T34S0cyPMlbf+emKgGCi3sPgGFPrDUd1yydLJaYF9ejb\n",
       "9XDohXm2UHXpqseBAbIthHOU4CP4j7MTJ1jFr5NGbeovg88zf6xnqfaxkzXwjHOrEvw5R3SiRv6A\n",
       "LGraH06k0JFigGxOZYYSvAV7XIWJE0x0t0z9GVphzwTMwwbFGJx+Nz1O8GtVt2fNBmTiyG6POifo\n",
       "AOaMgG3BH04ysyrictiAHsYsJRgbn1qaxDsYW/+RqU9w+gLzR1L3qFNL3s/4Adn1W1uBDuQXZwGI\n",
       "T/l84jQW4/Ndzx2b8pTg9OH+/s2TcbJO9vc/2z31CaYLf8MMCgGhThCoF/1/NKg7cwFqKuhe9H/7\n",
       "+h6aDMFNfX2PlKc+wSp3qndFQ3biX7oazShBxRy4ATVUdYLXkmcgkrWbP78CilzlRnA8Z854PtOK\n",
       "al1xbCRIgqO1KfOsxQ8VP4JWGrp1gr8AMhpoibYp3fcqzCWOvUKrrWpti5A9ke8aimaJTnAsK3gL\n",
       "vHyop87LRPnR17v0VaSjkEnD9cVuheJuxM9BuFJihk5wAiL6Knbv8M3wsqpFDT9NfmVRRSkchptw\n",
       "vmYvMTc6uuF6FhijPPMYfE08bWMEebUm/QtPEiVBIZP+WU/souPajfASrFYS+mT++DYNfpXJqkaV\n",
       "Y0P9oLwdhbK5QGNLTIKPAutjEZTjZVDEBGOE9M8AXtFXg45CJo3VE7vouHZjCk3RHxHBxhSdqt6B\n",
       "+GvBczVKg4M/IQTvWIrnXjQJ3rkmUybT6e15vsQk+OdSHu/Q3ENf2hgldifK8++ZnS1kv4Ug3DKI\n",
       "WsVL8eZvgKOQ3Zpo0Zzig831dAyxsxvqWMgINp0sePQudPtNGt20HFSf/yr+zK6gm5BK7vAfMJ2N\n",
       "f7q1xpeYBCefbAPYnevUII4IwSjp5+1ehPw9qYZlBOHEcVp4rTaPqHCFjF/3APL84kVenGjrqKeD\n",
       "xctwxtGNyAXhMKQq05/KITHBeYPgF5Etb9sPMnF5BqGMfRu5eAh2UjpV4gs1rcVmyJaYBCtL0GUR\n",
       "rALpNxpFUfbaCY5mJdSKRhF+OWSsBk9hFb6Q3adJk2eOE98IUj0dJIYXcf8d3UiPCodhT0Dr4Q2+\n",
       "tgL8BcuP65ULnfKmrEEwDiFBgy3d39fXiwh+mr6SN8Kqvr6+jJJLVXDfOxYgj4grMQkGvMs7B3/x\n",
       "J6FRlNSg/ZSpoRQhvjlBeOortHAmLMYqfCGj0xZ16swBqKeDxTiozdkNRUzwPwIa5Masr+qngyRY\n",
       "Fi43SeAIITitYSc5B3lqwbHbdQ8nTu0VbsEPwAJpRpEvsQg+gfTHYGM/GXmCclMGmyvbWjF5QtuX\n",
       "oQjRHUgBfdYQH1iFK2QeQa2hlD5pE4/pBLvoYPH627KCbkiXhL6Ykxe3Ywfx9r9Ru6nkBcMUXPSO\n",
       "7EFwUFTNOGzQ26iW4TWc+T3ASdiiYYmK2Uu3Qbqcegx6pe4MU8IRjNNsabRCRp6gbHoN1MwWDenp\n",
       "l4Zi523wUpYipFpzcBAVP5AuEBWuUFdA/xLaMfjpbpv4DERddXTxNdsqbDeMHr4ndDWLARG8UvND\n",
       "jpdgeR8EbxdVO1BiCZbXFSGJSmIPtyHj6ChBpACADxvbzyBrkOagqawrx5Q4CP7ip+ZRgjEKyG/+\n",
       "fS1CkWZDRxFfSrGufTfjPS+CAM+N/DCHMO94g1ojV0gVilh7XZl6w6x40/XXuepQcewv2Cqtbhjp\n",
       "YdEobIaACH7dFzleguV9ENzYJqj2VhHsER0L+nr1XIkcbUfQa07vguGKmiV2gqk9aDYU4HK7Y05M\n",
       "ouJsyNQ5Aj50SC6SOVviuqGn5aLBmge2kHYPBHMR80ZtK57dCzkuwfIHm3N+CDarqyIH4NsAriE7\n",
       "SvGuJ7TxHXE7wdLCpTyKLRe/zoFpU2Ea0nXOgg8dkosWT4oeaD3U35Y2ghHSvtorwTRi3ti7N0N9\n",
       "cDz7aq/kkGB5c7vfQN5cSla9Y5Dq9IggLfKyZtUhOA3r+C+dVjwR7EBx5sbDrPA6qa1VPzp117Sd\n",
       "okPvB42Q9i8v8UowiZg39u6N2iSefXwMQ4CD5a2px0B+COIl7xikOj0iUARrtNT5OgR73y35kIPu\n",
       "0sPBnbswge9WmmmGtNMgVrcQeD7i/F69lImLJ/Hs9TEYwTI97JVDppupnjFIdXpEIAn22cMX+B49\n",
       "JyZYD2lv92rBNGLe/lIl8eztXq2PBMvbkVFHALxjkOr0iEBEcLI7bATHRsVTNA1p90wwjZiPtfC1\n",
       "STy7d3JIsPyOpTwy/UqLZ4wB84jACtVjdxEyYSNY/8asw8miIe3eCSYR83jvniMYx7N7J4cEy2dX\n",
       "8MjoIQEfswCpTo4IhE7WQi10BIvc6GE9pN1JjmvEOYmY32b7aiCJZ3dgmJHvBoYhwMHyeLufQ47m\n",
       "YWfOOwapTo4IIFp23hmNyQgVwQ2CYWg3QtodA+sacU4j5nttNJB4dof19XBAloAEy5M1Gov8xjsZ\n",
       "HxikOjkisIdXEcwQ/oSDUqu3VenZyaKE1nKC2p6nV5rGRMj+MMgRAex2VtIPP8L1M0qCIxzrsMH8\n",
       "FrVbCDwXio737p21x8XgBNY+sTZhDHJEIDpseEELIcFPCHprBBVv+n6XHyi8d+9IPjEiBZg0Bjki\n",
       "EBwXhvOH0EQbPnuuXHeSmaCAnA9bPBtGgmGxs+jKhezYtvsnkY47i45BQARPr58TjmemUGfW3f3h\n",
       "YQf3c8LT7AfBPwPhSLuo2eEfBP8/Qv4wjAhIlGMAAAAASUVORK5CYII=\n",
       "\" style=\"display:inline;vertical-align:middle;\" /></a><br>"
      ],
      "text/plain": [
       "disassociation: forall_{i in Naturals, j in Naturals, k in Naturals} [forall_{a_{1} in Complexes, ..a_{_a} in Complexes.., a_{i} in Complexes, b_{1} in Complexes, ..b_{_a} in Complexes.., b_{j} in Complexes, c_{1} in Complexes, ..c_{_a} in Complexes.., c_{k} in Complexes} ((a_{1} + ..a_{_a}.. + a_{i} + (b_{1} + ..b_{_a}.. + b_{j}) + c_{1} + ..c_{_a}.. + c_{k}) =  \\\\ (a_{1} + ..a_{_a}.. + a_{i} + b_{1} + ..b_{_a}.. + b_{j} + c_{1} + ..c_{_a}.. + c_{k}))]"
      ]
     },
     "execution_count": 27,
     "metadata": {},
     "output_type": "execute_result"
    }
   ],
   "source": [
    "disassociation = \\\n",
    "    Forall((i,j,k), \n",
    "           Forall((a_1_to_i,b_1_to_j,c_1_to_k), \n",
    "                  Equals(Add(a_1_to_i, Add(b_1_to_j), c_1_to_k),\n",
    "                         Add(a_1_to_i, b_1_to_j, c_1_to_k)) \\\n",
    "                  .withWrappingAt(2),\n",
    "                  domain=Complexes),\n",
    "           domain=Naturals)"
   ]
  },
  {
   "cell_type": "code",
   "execution_count": 28,
   "metadata": {},
   "outputs": [
    {
     "name": "stdout",
     "output_type": "stream",
     "text": [
      "Theorems may be imported from autogenerated _theorems_.py\n"
     ]
    }
   ],
   "source": [
    "%end theorems"
   ]
  },
  {
   "cell_type": "code",
   "execution_count": null,
   "metadata": {},
   "outputs": [],
   "source": []
  }
 ],
 "metadata": {
  "kernelspec": {
   "display_name": "Python 3",
   "language": "python",
   "name": "python3"
  }
 },
 "nbformat": 4,
 "nbformat_minor": 0
}
