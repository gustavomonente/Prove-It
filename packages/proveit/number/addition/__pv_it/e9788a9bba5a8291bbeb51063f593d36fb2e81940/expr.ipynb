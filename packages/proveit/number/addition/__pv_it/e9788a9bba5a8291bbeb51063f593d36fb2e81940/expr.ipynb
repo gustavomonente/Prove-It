{
 "cells": [
  {
   "cell_type": "markdown",
   "metadata": {},
   "source": [
    "Expression of type <a class=\"ProveItLink\" href=\"../../../../../../doc/html/api/proveit.logic.Forall.html\">Forall</a>\n",
    "=======================\n",
    "# from context <a class=\"ProveItLink\" href=\"../../_context_.ipynb\">proveit.number.addition</a>"
   ]
  },
  {
   "cell_type": "code",
   "execution_count": 1,
   "metadata": {},
   "outputs": [],
   "source": [
    "import proveit\n",
    "# Automation is not needed when building an expression:\n",
    "proveit.defaults.automation = False # This will speed things up.\n",
    "proveit.defaults.inline_pngs = False # Makes files smaller.\n",
    "# import Expression classes needed to build the expression\n",
    "from proveit.core_expr_types._common_ import a_1_to_i\n",
    "from proveit.logic import Forall, InSet\n",
    "from proveit.number import Add, NaturalsPos"
   ]
  },
  {
   "cell_type": "code",
   "execution_count": 2,
   "metadata": {},
   "outputs": [
    {
     "data": {
      "text/html": [
       "<strong id=\"expr\">expr:</strong> <a class=\"ProveItLink\" href=\"../b5ce615905a97216a18c9d2eddf6419e21c44e860/expr.ipynb\"><img src=\"../b5ce615905a97216a18c9d2eddf6419e21c44e860/expr.png\" style=\"display:inline;vertical-align:middle;\" /></a><br>"
      ],
      "text/plain": [
       "expr: forall_{a_{1}, ..a_{_a}.., a_{i} in NaturalsPos} ((a_{1} + ..a_{_a}.. + a_{i}) in NaturalsPos)"
      ]
     },
     "execution_count": 2,
     "metadata": {},
     "output_type": "execute_result"
    }
   ],
   "source": [
    "# build up the expression from sub-expressions\n",
    "expr = Forall([a_1_to_i], InSet(Add(a_1_to_i), NaturalsPos), domain = NaturalsPos)"
   ]
  },
  {
   "cell_type": "code",
   "execution_count": 3,
   "metadata": {},
   "outputs": [
    {
     "name": "stdout",
     "output_type": "stream",
     "text": [
      "Passed sanity check: built 'expr' is the same as the stored Expression.\n"
     ]
    }
   ],
   "source": [
    "# check that the built expression is the same as the stored expression\n",
    "%check_expr"
   ]
  },
  {
   "cell_type": "code",
   "execution_count": 4,
   "metadata": {},
   "outputs": [
    {
     "name": "stdout",
     "output_type": "stream",
     "text": [
      "\\forall_{a_{1}, \\ldots, a_{i} \\in \\mathbb{N}^+}~\\left(\\left(a_{1} + \\ldots + a_{i}\\right) \\in \\mathbb{N}^+\\right)\n"
     ]
    }
   ],
   "source": [
    "# Show the LaTeX representation of the expression for convenience if you need it.\n",
    "print(expr.latex())"
   ]
  },
  {
   "cell_type": "code",
   "execution_count": 5,
   "metadata": {},
   "outputs": [
    {
     "data": {
      "text/html": [
       "<table><tr><th>&nbsp;</th><th>core type</th><th>sub-expressions</th><th>expression</th></tr>\n",
       "<tr><td>0</td><td>Operation</td><td>operator:&nbsp;1<br>operand:&nbsp;2<br></td><td><a class=\"ProveItLink\" href=\"../b5ce615905a97216a18c9d2eddf6419e21c44e860/expr.ipynb\"><img src=\"../b5ce615905a97216a18c9d2eddf6419e21c44e860/expr.png\" style=\"display:inline;vertical-align:middle;\" /></a></td></tr>\n",
       "<tr><td>1</td><td>Literal</td><td></td><td><a class=\"ProveItLink\" href=\"../../../../logic/boolean/quantification/universal/__pv_it/fd9c772d6675566ed52a6897806f45eb08a4ea910/expr.ipynb\"><img src=\"../../../../logic/boolean/quantification/universal/__pv_it/fd9c772d6675566ed52a6897806f45eb08a4ea910/expr.png\" style=\"display:inline;vertical-align:middle;\" /></a></td></tr>\n",
       "<tr><td>2</td><td>Lambda</td><td>parameter:&nbsp;14<br>body:&nbsp;3<br></td><td><a class=\"ProveItLink\" href=\"../5ccee7c71b35a4263313a1a69d932917a9e1f5020/expr.ipynb\"><img src=\"../5ccee7c71b35a4263313a1a69d932917a9e1f5020/expr.png\" style=\"display:inline;vertical-align:middle;\" /></a></td></tr>\n",
       "<tr><td>3</td><td>Conditional</td><td>value:&nbsp;4<br>condition:&nbsp;5<br></td><td><a class=\"ProveItLink\" href=\"../111bbef688c9c0df3595f2e528ef810ce88d6d950/expr.ipynb\"><img src=\"../111bbef688c9c0df3595f2e528ef810ce88d6d950/expr.png\" style=\"display:inline;vertical-align:middle;\" /></a></td></tr>\n",
       "<tr><td>4</td><td>Operation</td><td>operator:&nbsp;19<br>operands:&nbsp;6<br></td><td><a class=\"ProveItLink\" href=\"../3c75868c68093bf716e1955ac90b2a2c827ee0fa0/expr.ipynb\"><img src=\"../3c75868c68093bf716e1955ac90b2a2c827ee0fa0/expr.png\" style=\"display:inline;vertical-align:middle;\" /></a></td></tr>\n",
       "<tr><td>5</td><td>Operation</td><td>operator:&nbsp;7<br>operands:&nbsp;8<br></td><td><a class=\"ProveItLink\" href=\"../0bf8257a1ab088aa36447c6c1e00b709984e810c0/expr.ipynb\"><img src=\"../0bf8257a1ab088aa36447c6c1e00b709984e810c0/expr.png\" style=\"display:inline;vertical-align:middle;\" /></a></td></tr>\n",
       "<tr><td>6</td><td>ExprTuple</td><td>9, 22</td><td><a class=\"ProveItLink\" href=\"../ce80e2fb36ca8b47119fd630aaaaf11556bca13a0/expr.ipynb\"><img src=\"../ce80e2fb36ca8b47119fd630aaaaf11556bca13a0/expr.png\" style=\"display:inline;vertical-align:middle;\" /></a></td></tr>\n",
       "<tr><td>7</td><td>Literal</td><td></td><td><a class=\"ProveItLink\" href=\"../../../../logic/boolean/conjunction/__pv_it/f41cc6b553210927c09f19a8a39cdf860a5585930/expr.ipynb\"><img src=\"../../../../logic/boolean/conjunction/__pv_it/f41cc6b553210927c09f19a8a39cdf860a5585930/expr.png\" style=\"display:inline;vertical-align:middle;\" /></a></td></tr>\n",
       "<tr><td>8</td><td>ExprTuple</td><td>10</td><td><a class=\"ProveItLink\" href=\"../6e10fa6c12f5b578f92a558a001bfca4fa6534b70/expr.ipynb\"><img src=\"../6e10fa6c12f5b578f92a558a001bfca4fa6534b70/expr.png\" style=\"display:inline;vertical-align:middle;\" /></a></td></tr>\n",
       "<tr><td>9</td><td>Operation</td><td>operator:&nbsp;11<br>operands:&nbsp;12<br></td><td><a class=\"ProveItLink\" href=\"../1c9c83003ecbae1dd81454c1a5b8b95e7a1364100/expr.ipynb\"><img src=\"../1c9c83003ecbae1dd81454c1a5b8b95e7a1364100/expr.png\" style=\"display:inline;vertical-align:middle;\" /></a></td></tr>\n",
       "<tr><td>10</td><td>ExprRange</td><td>lambda_map:&nbsp;13<br>start_index:&nbsp;17<br>end_index:&nbsp;18<br></td><td><a class=\"ProveItLink\" href=\"../c773b108a02fd948945267a43f644274075183ce0/expr.ipynb\"><img src=\"../c773b108a02fd948945267a43f644274075183ce0/expr.png\" style=\"display:inline;vertical-align:middle;\" /></a></td></tr>\n",
       "<tr><td>11</td><td>Literal</td><td></td><td><a class=\"ProveItLink\" href=\"../65ad7e8aee19b10110d590375ba95a879c4fb7ea0/expr.ipynb\"><img src=\"../65ad7e8aee19b10110d590375ba95a879c4fb7ea0/expr.png\" style=\"display:inline;vertical-align:middle;\" /></a></td></tr>\n",
       "<tr><td>12</td><td>ExprTuple</td><td>14</td><td><a class=\"ProveItLink\" href=\"../684f355b83b14ec889c4359c559a0086da6e8dee0/expr.ipynb\"><img src=\"../684f355b83b14ec889c4359c559a0086da6e8dee0/expr.png\" style=\"display:inline;vertical-align:middle;\" /></a></td></tr>\n",
       "<tr><td>13</td><td>Lambda</td><td>parameter:&nbsp;24<br>body:&nbsp;15<br></td><td><a class=\"ProveItLink\" href=\"../d4f2a258fe9756acf25065d4fb05d74421db49330/expr.ipynb\"><img src=\"../d4f2a258fe9756acf25065d4fb05d74421db49330/expr.png\" style=\"display:inline;vertical-align:middle;\" /></a></td></tr>\n",
       "<tr><td>14</td><td>ExprRange</td><td>lambda_map:&nbsp;16<br>start_index:&nbsp;17<br>end_index:&nbsp;18<br></td><td><a class=\"ProveItLink\" href=\"../../../../core_expr_types/__pv_it/196a4822a947788226dd6f6295906f44615646a20/expr.ipynb\"><img src=\"../../../../core_expr_types/__pv_it/196a4822a947788226dd6f6295906f44615646a20/expr.png\" style=\"display:inline;vertical-align:middle;\" /></a></td></tr>\n",
       "<tr><td>15</td><td>Operation</td><td>operator:&nbsp;19<br>operands:&nbsp;20<br></td><td><a class=\"ProveItLink\" href=\"../c7517e7225bb1559e6adf194079b45a40ae410ca0/expr.ipynb\"><img src=\"../c7517e7225bb1559e6adf194079b45a40ae410ca0/expr.png\" style=\"display:inline;vertical-align:middle;\" /></a></td></tr>\n",
       "<tr><td>16</td><td>Lambda</td><td>parameter:&nbsp;24<br>body:&nbsp;21<br></td><td><a class=\"ProveItLink\" href=\"../../../../core_expr_types/__pv_it/c512bca05a0e191e5f76f2677a0e9e227e81e9f10/expr.ipynb\"><img src=\"../../../../core_expr_types/__pv_it/c512bca05a0e191e5f76f2677a0e9e227e81e9f10/expr.png\" style=\"display:inline;vertical-align:middle;\" /></a></td></tr>\n",
       "<tr><td>17</td><td>Literal</td><td></td><td><a class=\"ProveItLink\" href=\"../../../numeral/__pv_it/f086f8c372bd40a2458306ddfdbb29f3dc6f63030/expr.ipynb\"><img src=\"../../../numeral/__pv_it/f086f8c372bd40a2458306ddfdbb29f3dc6f63030/expr.png\" style=\"display:inline;vertical-align:middle;\" /></a></td></tr>\n",
       "<tr><td>18</td><td>Variable</td><td></td><td><a class=\"ProveItLink\" href=\"../../../../__pv_it/557ab5defdcd46aa58168b08767502985122cd490/expr.ipynb\"><img src=\"../../../../__pv_it/557ab5defdcd46aa58168b08767502985122cd490/expr.png\" style=\"display:inline;vertical-align:middle;\" /></a></td></tr>\n",
       "<tr><td>19</td><td>Literal</td><td></td><td><a class=\"ProveItLink\" href=\"../../../../logic/set_theory/membership/__pv_it/7776fc89cb67d0b5b1ec2c0c8e08da5587921ccf0/expr.ipynb\"><img src=\"../../../../logic/set_theory/membership/__pv_it/7776fc89cb67d0b5b1ec2c0c8e08da5587921ccf0/expr.png\" style=\"display:inline;vertical-align:middle;\" /></a></td></tr>\n",
       "<tr><td>20</td><td>ExprTuple</td><td>21, 22</td><td><a class=\"ProveItLink\" href=\"../cb4507bb47e98b529bf8ad2763a7acf05bd5860f0/expr.ipynb\"><img src=\"../cb4507bb47e98b529bf8ad2763a7acf05bd5860f0/expr.png\" style=\"display:inline;vertical-align:middle;\" /></a></td></tr>\n",
       "<tr><td>21</td><td>IndexedVar</td><td>variable:&nbsp;23<br>index:&nbsp;24<br></td><td><a class=\"ProveItLink\" href=\"../../../../core_expr_types/__pv_it/976fe6b95e8535cc9e0861bdc030337becead6960/expr.ipynb\"><img src=\"../../../../core_expr_types/__pv_it/976fe6b95e8535cc9e0861bdc030337becead6960/expr.png\" style=\"display:inline;vertical-align:middle;\" /></a></td></tr>\n",
       "<tr><td>22</td><td>Literal</td><td></td><td><a class=\"ProveItLink\" href=\"../../../sets/integer/__pv_it/f6a9f4b6dec6ab4d2dcb6ba1b0ba3cceefc643530/expr.ipynb\"><img src=\"../../../sets/integer/__pv_it/f6a9f4b6dec6ab4d2dcb6ba1b0ba3cceefc643530/expr.png\" style=\"display:inline;vertical-align:middle;\" /></a></td></tr>\n",
       "<tr><td>23</td><td>Variable</td><td></td><td><a class=\"ProveItLink\" href=\"../../../../__pv_it/a8d4b3a34d2189508f9082853fbac36935714f280/expr.ipynb\"><img src=\"../../../../__pv_it/a8d4b3a34d2189508f9082853fbac36935714f280/expr.png\" style=\"display:inline;vertical-align:middle;\" /></a></td></tr>\n",
       "<tr><td>24</td><td>Variable</td><td></td><td><a class=\"ProveItLink\" href=\"../../../../core_expr_types/__pv_it/1e653f789234b245ee7fea7caad998c139d617410/expr.ipynb\"><img src=\"../../../../core_expr_types/__pv_it/1e653f789234b245ee7fea7caad998c139d617410/expr.png\" style=\"display:inline;vertical-align:middle;\" /></a></td></tr>\n",
       "</table>\n"
      ],
      "text/plain": [
       "0. forall_{a_{1}, ..a_{_a}.., a_{i} in NaturalsPos} ((a_{1} + ..a_{_a}.. + a_{i}) in NaturalsPos)\n",
       "   core type: Operation\n",
       "   operator: 1\n",
       "   operand: 2\n",
       "1. forall\n",
       "   core type: Literal\n",
       "   sub-expressions: \n",
       "2. (a_{1}, ..a_{_a}.., a_{i}) -> {(a_{1} + ..a_{_a}.. + a_{i}) in NaturalsPos if (a_{1} in NaturalsPos) and ..(a_{_a} in NaturalsPos).. and (a_{i} in NaturalsPos).\n",
       "   core type: Lambda\n",
       "   parameter: 14\n",
       "   body: 3\n",
       "3. {(a_{1} + ..a_{_a}.. + a_{i}) in NaturalsPos if (a_{1} in NaturalsPos) and ..(a_{_a} in NaturalsPos).. and (a_{i} in NaturalsPos).\n",
       "   core type: Conditional\n",
       "   value: 4\n",
       "   condition: 5\n",
       "4. (a_{1} + ..a_{_a}.. + a_{i}) in NaturalsPos\n",
       "   core type: Operation\n",
       "   operator: 19\n",
       "   operands: 6\n",
       "5. (a_{1} in NaturalsPos) and ..(a_{_a} in NaturalsPos).. and (a_{i} in NaturalsPos)\n",
       "   core type: Operation\n",
       "   operator: 7\n",
       "   operands: 8\n",
       "6. (a_{1} + ..a_{_a}.. + a_{i}, NaturalsPos)\n",
       "   core type: ExprTuple\n",
       "   sub-expressions: 9, 22\n",
       "7. and\n",
       "   core type: Literal\n",
       "   sub-expressions: \n",
       "8. (a_{1} in NaturalsPos, ..a_{_a} in NaturalsPos.., a_{i} in NaturalsPos)\n",
       "   core type: ExprTuple\n",
       "   sub-expressions: 10\n",
       "9. a_{1} + ..a_{_a}.. + a_{i}\n",
       "   core type: Operation\n",
       "   operator: 11\n",
       "   operands: 12\n",
       "10. (a_{1} in NaturalsPos), ..(a_{_a} in NaturalsPos).., (a_{i} in NaturalsPos)\n",
       "    core type: ExprRange\n",
       "    lambda_map: 13\n",
       "    start_index: 17\n",
       "    end_index: 18\n",
       "11. +\n",
       "    core type: Literal\n",
       "    sub-expressions: \n",
       "12. (a_{1}, ..a_{_a}.., a_{i})\n",
       "    core type: ExprTuple\n",
       "    sub-expressions: 14\n",
       "13. _a -> (a_{_a} in NaturalsPos)\n",
       "    core type: Lambda\n",
       "    parameter: 24\n",
       "    body: 15\n",
       "14. a_{1}, ..a_{_a}.., a_{i}\n",
       "    core type: ExprRange\n",
       "    lambda_map: 16\n",
       "    start_index: 17\n",
       "    end_index: 18\n",
       "15. a_{_a} in NaturalsPos\n",
       "    core type: Operation\n",
       "    operator: 19\n",
       "    operands: 20\n",
       "16. _a -> a_{_a}\n",
       "    core type: Lambda\n",
       "    parameter: 24\n",
       "    body: 21\n",
       "17. 1\n",
       "    core type: Literal\n",
       "    sub-expressions: \n",
       "18. i\n",
       "    core type: Variable\n",
       "    sub-expressions: \n",
       "19. in\n",
       "    core type: Literal\n",
       "    sub-expressions: \n",
       "20. (a_{_a}, NaturalsPos)\n",
       "    core type: ExprTuple\n",
       "    sub-expressions: 21, 22\n",
       "21. a_{_a}\n",
       "    core type: IndexedVar\n",
       "variable: 23\n",
       "index: 24\n",
       "22. NaturalsPos\n",
       "    core type: Literal\n",
       "    sub-expressions: \n",
       "23. a\n",
       "    core type: Variable\n",
       "    sub-expressions: \n",
       "24. _a\n",
       "    core type: Variable\n",
       "    sub-expressions: "
      ]
     },
     "execution_count": 5,
     "metadata": {},
     "output_type": "execute_result"
    }
   ],
   "source": [
    "# display the expression information\n",
    "expr.exprInfo()"
   ]
  },
  {
   "cell_type": "code",
   "execution_count": null,
   "metadata": {},
   "outputs": [],
   "source": []
  }
 ],
 "metadata": {
  "kernelspec": {
   "display_name": "Python 3",
   "language": "python",
   "name": "python3"
  },
  "language_info": {
   "codemirror_mode": {
    "name": "ipython",
    "version": 3
   },
   "file_extension": ".py",
   "mimetype": "text/x-python",
   "name": "python",
   "nbconvert_exporter": "python",
   "pygments_lexer": "ipython3",
   "version": "3.7.3"
  }
 },
 "nbformat": 4,
 "nbformat_minor": 1
}
