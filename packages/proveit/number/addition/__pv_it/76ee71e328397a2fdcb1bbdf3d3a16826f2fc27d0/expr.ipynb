{
 "cells": [
  {
   "cell_type": "markdown",
   "metadata": {},
   "source": [
    "Expression of type <a class=\"ProveItLink\" href=\"../../../../../../doc/html/api/proveit.ExprTuple.html\">ExprTuple</a>\n",
    "=======================\n",
    "# from context <a class=\"ProveItLink\" href=\"../../_context_.ipynb\">proveit.number.addition</a>"
   ]
  },
  {
   "cell_type": "code",
   "execution_count": 1,
   "metadata": {},
   "outputs": [],
   "source": [
    "import proveit\n",
    "# Automation is not needed when building an expression:\n",
    "proveit.defaults.automation = False # This will speed things up.\n",
    "proveit.defaults.inline_pngs = False # Makes files smaller.\n",
    "# import Expression classes needed to build the expression\n",
    "from proveit import ExprTuple\n",
    "from proveit._common_ import b, c\n",
    "from proveit.number import Add, Mult, Neg, five, one, three, two"
   ]
  },
  {
   "cell_type": "code",
   "execution_count": 2,
   "metadata": {},
   "outputs": [
    {
     "data": {
      "text/html": [
       "<strong id=\"expr\">expr:</strong> <a class=\"ProveItLink\" href=\"expr.ipynb\"><img src=\"expr.png\" style=\"display:inline;vertical-align:middle;\" /></a><br>"
      ],
      "text/plain": [
       "expr: ((1 * 2) + b + c + (3 * b) + (2 * b) - b + (1 * c), (2 * c) + (5 * b) + 2)"
      ]
     },
     "execution_count": 2,
     "metadata": {},
     "output_type": "execute_result"
    }
   ],
   "source": [
    "# build up the expression from sub-expressions\n",
    "expr = ExprTuple(Add(Mult(one, two), b, c, Mult(three, b), Mult(two, b), Neg(b), Mult(one, c)), Add(Mult(two, c), Mult(five, b), two))"
   ]
  },
  {
   "cell_type": "code",
   "execution_count": 3,
   "metadata": {},
   "outputs": [
    {
     "name": "stdout",
     "output_type": "stream",
     "text": [
      "Passed sanity check: built 'expr' is the same as the stored Expression.\n"
     ]
    }
   ],
   "source": [
    "# check that the built expression is the same as the stored expression\n",
    "%check_expr"
   ]
  },
  {
   "cell_type": "code",
   "execution_count": 4,
   "metadata": {},
   "outputs": [
    {
     "name": "stdout",
     "output_type": "stream",
     "text": [
      "\\left(\\left(1 \\cdot 2\\right) + b + c + \\left(3 \\cdot b\\right) + \\left(2 \\cdot b\\right) - b + \\left(1 \\cdot c\\right), \\left(2 \\cdot c\\right) + \\left(5 \\cdot b\\right) + 2\\right)\n"
     ]
    }
   ],
   "source": [
    "# Show the LaTeX representation of the expression for convenience if you need it.\n",
    "print(expr.latex())"
   ]
  },
  {
   "cell_type": "code",
   "execution_count": 5,
   "metadata": {},
   "outputs": [
    {
     "data": {
      "text/html": [
       "<table><tr><th>&nbsp;</th><th>core type</th><th>sub-expressions</th><th>expression</th></tr>\n",
       "<tr><td>0</td><td>ExprTuple</td><td>1, 2</td><td><a class=\"ProveItLink\" href=\"expr.ipynb\"><img src=\"expr.png\" style=\"display:inline;vertical-align:middle;\" /></a></td></tr>\n",
       "<tr><td>1</td><td>Operation</td><td>operator:&nbsp;4<br>operands:&nbsp;3<br></td><td><a class=\"ProveItLink\" href=\"../86c65f1e6f9ca1e4497b8603627843ef092318920/expr.ipynb\"><img src=\"../86c65f1e6f9ca1e4497b8603627843ef092318920/expr.png\" style=\"display:inline;vertical-align:middle;\" /></a></td></tr>\n",
       "<tr><td>2</td><td>Operation</td><td>operator:&nbsp;4<br>operands:&nbsp;5<br></td><td><a class=\"ProveItLink\" href=\"../d34bf938831c350708544d9d1903635b9ccfaecc0/expr.ipynb\"><img src=\"../d34bf938831c350708544d9d1903635b9ccfaecc0/expr.png\" style=\"display:inline;vertical-align:middle;\" /></a></td></tr>\n",
       "<tr><td>3</td><td>ExprTuple</td><td>6, 26, 24, 7, 8, 9, 10</td><td><a class=\"ProveItLink\" href=\"../c5c4bf0af6ee243d313cfc745ff156928ccda1150/expr.ipynb\"><img src=\"../c5c4bf0af6ee243d313cfc745ff156928ccda1150/expr.png\" style=\"display:inline;vertical-align:middle;\" /></a></td></tr>\n",
       "<tr><td>4</td><td>Literal</td><td></td><td><a class=\"ProveItLink\" href=\"../65ad7e8aee19b10110d590375ba95a879c4fb7ea0/expr.ipynb\"><img src=\"../65ad7e8aee19b10110d590375ba95a879c4fb7ea0/expr.png\" style=\"display:inline;vertical-align:middle;\" /></a></td></tr>\n",
       "<tr><td>5</td><td>ExprTuple</td><td>11, 12, 23</td><td><a class=\"ProveItLink\" href=\"../749b8bc562597bd8070e9b90d918b4e654f7283b0/expr.ipynb\"><img src=\"../749b8bc562597bd8070e9b90d918b4e654f7283b0/expr.png\" style=\"display:inline;vertical-align:middle;\" /></a></td></tr>\n",
       "<tr><td>6</td><td>Operation</td><td>operator:&nbsp;19<br>operands:&nbsp;13<br></td><td><a class=\"ProveItLink\" href=\"../f1ecb9f037290f64fd7b5d42b020020f031fbd920/expr.ipynb\"><img src=\"../f1ecb9f037290f64fd7b5d42b020020f031fbd920/expr.png\" style=\"display:inline;vertical-align:middle;\" /></a></td></tr>\n",
       "<tr><td>7</td><td>Operation</td><td>operator:&nbsp;19<br>operands:&nbsp;14<br></td><td><a class=\"ProveItLink\" href=\"../ad609d94dfe36461d37cecd2de947d82ae28a3b40/expr.ipynb\"><img src=\"../ad609d94dfe36461d37cecd2de947d82ae28a3b40/expr.png\" style=\"display:inline;vertical-align:middle;\" /></a></td></tr>\n",
       "<tr><td>8</td><td>Operation</td><td>operator:&nbsp;19<br>operands:&nbsp;15<br></td><td><a class=\"ProveItLink\" href=\"../9fd626de01b17338e7dff70755bfa9f0d11b495e0/expr.ipynb\"><img src=\"../9fd626de01b17338e7dff70755bfa9f0d11b495e0/expr.png\" style=\"display:inline;vertical-align:middle;\" /></a></td></tr>\n",
       "<tr><td>9</td><td>Operation</td><td>operator:&nbsp;16<br>operand:&nbsp;26<br></td><td><a class=\"ProveItLink\" href=\"../01d75de178e84580bbea25e66129b052021cb7df0/expr.ipynb\"><img src=\"../01d75de178e84580bbea25e66129b052021cb7df0/expr.png\" style=\"display:inline;vertical-align:middle;\" /></a></td></tr>\n",
       "<tr><td>10</td><td>Operation</td><td>operator:&nbsp;19<br>operands:&nbsp;17<br></td><td><a class=\"ProveItLink\" href=\"../d1b4a711401e7e31459aa7782c7ede03f87098a10/expr.ipynb\"><img src=\"../d1b4a711401e7e31459aa7782c7ede03f87098a10/expr.png\" style=\"display:inline;vertical-align:middle;\" /></a></td></tr>\n",
       "<tr><td>11</td><td>Operation</td><td>operator:&nbsp;19<br>operands:&nbsp;18<br></td><td><a class=\"ProveItLink\" href=\"../4788d11728b0f80674e0308b2bd2be7f0afe88ee0/expr.ipynb\"><img src=\"../4788d11728b0f80674e0308b2bd2be7f0afe88ee0/expr.png\" style=\"display:inline;vertical-align:middle;\" /></a></td></tr>\n",
       "<tr><td>12</td><td>Operation</td><td>operator:&nbsp;19<br>operands:&nbsp;20<br></td><td><a class=\"ProveItLink\" href=\"../5d579aed938262ba69a8cfc78f3f4bbca0a96f870/expr.ipynb\"><img src=\"../5d579aed938262ba69a8cfc78f3f4bbca0a96f870/expr.png\" style=\"display:inline;vertical-align:middle;\" /></a></td></tr>\n",
       "<tr><td>13</td><td>ExprTuple</td><td>22, 23</td><td><a class=\"ProveItLink\" href=\"../870fe229b3bbe6904a72bc2b38613787bd64cb3d0/expr.ipynb\"><img src=\"../870fe229b3bbe6904a72bc2b38613787bd64cb3d0/expr.png\" style=\"display:inline;vertical-align:middle;\" /></a></td></tr>\n",
       "<tr><td>14</td><td>ExprTuple</td><td>21, 26</td><td><a class=\"ProveItLink\" href=\"../90d8bd9d282f2774e2a51d7036b57cb6b8b2d25c0/expr.ipynb\"><img src=\"../90d8bd9d282f2774e2a51d7036b57cb6b8b2d25c0/expr.png\" style=\"display:inline;vertical-align:middle;\" /></a></td></tr>\n",
       "<tr><td>15</td><td>ExprTuple</td><td>23, 26</td><td><a class=\"ProveItLink\" href=\"../4d1e2dbf86a54daa7568f29d39de5f1e359e53bb0/expr.ipynb\"><img src=\"../4d1e2dbf86a54daa7568f29d39de5f1e359e53bb0/expr.png\" style=\"display:inline;vertical-align:middle;\" /></a></td></tr>\n",
       "<tr><td>16</td><td>Literal</td><td></td><td><a class=\"ProveItLink\" href=\"../../../negation/__pv_it/2867787e35502987d81a45cac8e7f1c6996d6ff40/expr.ipynb\"><img src=\"../../../negation/__pv_it/2867787e35502987d81a45cac8e7f1c6996d6ff40/expr.png\" style=\"display:inline;vertical-align:middle;\" /></a></td></tr>\n",
       "<tr><td>17</td><td>ExprTuple</td><td>22, 24</td><td><a class=\"ProveItLink\" href=\"../f9a823cab26f32026f0cdc462eb1c03727a4c2f50/expr.ipynb\"><img src=\"../f9a823cab26f32026f0cdc462eb1c03727a4c2f50/expr.png\" style=\"display:inline;vertical-align:middle;\" /></a></td></tr>\n",
       "<tr><td>18</td><td>ExprTuple</td><td>23, 24</td><td><a class=\"ProveItLink\" href=\"../432cebb53f3e99c6860dee5808fe1ff21346b56a0/expr.ipynb\"><img src=\"../432cebb53f3e99c6860dee5808fe1ff21346b56a0/expr.png\" style=\"display:inline;vertical-align:middle;\" /></a></td></tr>\n",
       "<tr><td>19</td><td>Literal</td><td></td><td><a class=\"ProveItLink\" href=\"../../../multiplication/__pv_it/f7a1ed7c35c8c884cf4c236d27cb79bf85638cad0/expr.ipynb\"><img src=\"../../../multiplication/__pv_it/f7a1ed7c35c8c884cf4c236d27cb79bf85638cad0/expr.png\" style=\"display:inline;vertical-align:middle;\" /></a></td></tr>\n",
       "<tr><td>20</td><td>ExprTuple</td><td>25, 26</td><td><a class=\"ProveItLink\" href=\"../dfdcc5cf27f9579ff9fd0733de2bdffaaab8c9d00/expr.ipynb\"><img src=\"../dfdcc5cf27f9579ff9fd0733de2bdffaaab8c9d00/expr.png\" style=\"display:inline;vertical-align:middle;\" /></a></td></tr>\n",
       "<tr><td>21</td><td>Literal</td><td></td><td><a class=\"ProveItLink\" href=\"../../../numeral/__pv_it/eafea0aba3ef5dc2db24e5b7b93d46ff53acbff50/expr.ipynb\"><img src=\"../../../numeral/__pv_it/eafea0aba3ef5dc2db24e5b7b93d46ff53acbff50/expr.png\" style=\"display:inline;vertical-align:middle;\" /></a></td></tr>\n",
       "<tr><td>22</td><td>Literal</td><td></td><td><a class=\"ProveItLink\" href=\"../../../numeral/__pv_it/f086f8c372bd40a2458306ddfdbb29f3dc6f63030/expr.ipynb\"><img src=\"../../../numeral/__pv_it/f086f8c372bd40a2458306ddfdbb29f3dc6f63030/expr.png\" style=\"display:inline;vertical-align:middle;\" /></a></td></tr>\n",
       "<tr><td>23</td><td>Literal</td><td></td><td><a class=\"ProveItLink\" href=\"../../../numeral/__pv_it/fb4ccffdbfd0f653ebaacb95e7ff4802fd48a6f20/expr.ipynb\"><img src=\"../../../numeral/__pv_it/fb4ccffdbfd0f653ebaacb95e7ff4802fd48a6f20/expr.png\" style=\"display:inline;vertical-align:middle;\" /></a></td></tr>\n",
       "<tr><td>24</td><td>Variable</td><td></td><td><a class=\"ProveItLink\" href=\"../../../../__pv_it/b2b446b221a34ee579eb9a1fbdd4ac4e2891d8c70/expr.ipynb\"><img src=\"../../../../__pv_it/b2b446b221a34ee579eb9a1fbdd4ac4e2891d8c70/expr.png\" style=\"display:inline;vertical-align:middle;\" /></a></td></tr>\n",
       "<tr><td>25</td><td>Literal</td><td></td><td><a class=\"ProveItLink\" href=\"../../../numeral/__pv_it/830e48d37e889933bd796fdae0e7d924860887e30/expr.ipynb\"><img src=\"../../../numeral/__pv_it/830e48d37e889933bd796fdae0e7d924860887e30/expr.png\" style=\"display:inline;vertical-align:middle;\" /></a></td></tr>\n",
       "<tr><td>26</td><td>Variable</td><td></td><td><a class=\"ProveItLink\" href=\"../../../../__pv_it/53e304ff98ebc000dbe3ef224f4637dbafd46ba70/expr.ipynb\"><img src=\"../../../../__pv_it/53e304ff98ebc000dbe3ef224f4637dbafd46ba70/expr.png\" style=\"display:inline;vertical-align:middle;\" /></a></td></tr>\n",
       "</table>\n"
      ],
      "text/plain": [
       "0. ((1 * 2) + b + c + (3 * b) + (2 * b) - b + (1 * c), (2 * c) + (5 * b) + 2)\n",
       "   core type: ExprTuple\n",
       "   sub-expressions: 1, 2\n",
       "1. (1 * 2) + b + c + (3 * b) + (2 * b) - b + (1 * c)\n",
       "   core type: Operation\n",
       "   operator: 4\n",
       "   operands: 3\n",
       "2. (2 * c) + (5 * b) + 2\n",
       "   core type: Operation\n",
       "   operator: 4\n",
       "   operands: 5\n",
       "3. (1 * 2, b, c, 3 * b, 2 * b, -b, 1 * c)\n",
       "   core type: ExprTuple\n",
       "   sub-expressions: 6, 26, 24, 7, 8, 9, 10\n",
       "4. +\n",
       "   core type: Literal\n",
       "   sub-expressions: \n",
       "5. (2 * c, 5 * b, 2)\n",
       "   core type: ExprTuple\n",
       "   sub-expressions: 11, 12, 23\n",
       "6. 1 * 2\n",
       "   core type: Operation\n",
       "   operator: 19\n",
       "   operands: 13\n",
       "7. 3 * b\n",
       "   core type: Operation\n",
       "   operator: 19\n",
       "   operands: 14\n",
       "8. 2 * b\n",
       "   core type: Operation\n",
       "   operator: 19\n",
       "   operands: 15\n",
       "9. -b\n",
       "   core type: Operation\n",
       "   operator: 16\n",
       "   operand: 26\n",
       "10. 1 * c\n",
       "    core type: Operation\n",
       "    operator: 19\n",
       "    operands: 17\n",
       "11. 2 * c\n",
       "    core type: Operation\n",
       "    operator: 19\n",
       "    operands: 18\n",
       "12. 5 * b\n",
       "    core type: Operation\n",
       "    operator: 19\n",
       "    operands: 20\n",
       "13. (1, 2)\n",
       "    core type: ExprTuple\n",
       "    sub-expressions: 22, 23\n",
       "14. (3, b)\n",
       "    core type: ExprTuple\n",
       "    sub-expressions: 21, 26\n",
       "15. (2, b)\n",
       "    core type: ExprTuple\n",
       "    sub-expressions: 23, 26\n",
       "16. -\n",
       "    core type: Literal\n",
       "    sub-expressions: \n",
       "17. (1, c)\n",
       "    core type: ExprTuple\n",
       "    sub-expressions: 22, 24\n",
       "18. (2, c)\n",
       "    core type: ExprTuple\n",
       "    sub-expressions: 23, 24\n",
       "19. *\n",
       "    core type: Literal\n",
       "    sub-expressions: \n",
       "20. (5, b)\n",
       "    core type: ExprTuple\n",
       "    sub-expressions: 25, 26\n",
       "21. 3\n",
       "    core type: Literal\n",
       "    sub-expressions: \n",
       "22. 1\n",
       "    core type: Literal\n",
       "    sub-expressions: \n",
       "23. 2\n",
       "    core type: Literal\n",
       "    sub-expressions: \n",
       "24. c\n",
       "    core type: Variable\n",
       "    sub-expressions: \n",
       "25. 5\n",
       "    core type: Literal\n",
       "    sub-expressions: \n",
       "26. b\n",
       "    core type: Variable\n",
       "    sub-expressions: "
      ]
     },
     "execution_count": 5,
     "metadata": {},
     "output_type": "execute_result"
    }
   ],
   "source": [
    "# display the expression information\n",
    "expr.exprInfo()"
   ]
  },
  {
   "cell_type": "code",
   "execution_count": null,
   "metadata": {},
   "outputs": [],
   "source": []
  }
 ],
 "metadata": {
  "kernelspec": {
   "display_name": "Python 3",
   "language": "python",
   "name": "python3"
  },
  "language_info": {
   "codemirror_mode": {
    "name": "ipython",
    "version": 3
   },
   "file_extension": ".py",
   "mimetype": "text/x-python",
   "name": "python",
   "nbconvert_exporter": "python",
   "pygments_lexer": "ipython3",
   "version": "3.7.3"
  }
 },
 "nbformat": 4,
 "nbformat_minor": 1
}
