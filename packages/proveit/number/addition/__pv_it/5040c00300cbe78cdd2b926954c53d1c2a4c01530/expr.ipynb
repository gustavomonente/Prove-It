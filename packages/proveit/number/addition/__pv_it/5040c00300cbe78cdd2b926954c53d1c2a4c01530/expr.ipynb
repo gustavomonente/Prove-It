{
 "cells": [
  {
   "cell_type": "markdown",
   "metadata": {},
   "source": [
    "Expression of type <a class=\"ProveItLink\" href=\"../../../../../../doc/html/api/proveit.logic.Equals.html\">Equals</a>\n",
    "=======================\n",
    "# from context <a class=\"ProveItLink\" href=\"../../_context_.ipynb\">proveit.number.addition</a>"
   ]
  },
  {
   "cell_type": "code",
   "execution_count": 1,
   "metadata": {},
   "outputs": [],
   "source": [
    "import proveit\n",
    "# Automation is not needed when building an expression:\n",
    "proveit.defaults.automation = False # This will speed things up.\n",
    "proveit.defaults.inline_pngs = False # Makes files smaller.\n",
    "# import Expression classes needed to build the expression\n",
    "from proveit._common_ import a, b, c\n",
    "from proveit.logic import Equals\n",
    "from proveit.number import Add, Mult, four, nine, three, two"
   ]
  },
  {
   "cell_type": "code",
   "execution_count": 2,
   "metadata": {},
   "outputs": [
    {
     "data": {
      "text/html": [
       "<strong id=\"expr\">expr:</strong> <a class=\"ProveItLink\" href=\"expr.ipynb\"><img src=\"expr.png\" style=\"display:inline;vertical-align:middle;\" /></a><br>"
      ],
      "text/plain": [
       "expr: ((2 * a) + (2 * c) + (2 * b) + (2 + 3 + 4)) = ((2 * a) + (2 * c) + (2 * b) + 9)"
      ]
     },
     "execution_count": 2,
     "metadata": {},
     "output_type": "execute_result"
    }
   ],
   "source": [
    "# build up the expression from sub-expressions\n",
    "subExpr1 = Mult(two, a)\n",
    "subExpr2 = Mult(two, c)\n",
    "subExpr3 = Mult(two, b)\n",
    "expr = Equals(Add(subExpr1, subExpr2, subExpr3, Add(two, three, four)), Add(subExpr1, subExpr2, subExpr3, nine))"
   ]
  },
  {
   "cell_type": "code",
   "execution_count": 3,
   "metadata": {},
   "outputs": [
    {
     "name": "stdout",
     "output_type": "stream",
     "text": [
      "Passed sanity check: built 'expr' is the same as the stored Expression.\n"
     ]
    }
   ],
   "source": [
    "# check that the built expression is the same as the stored expression\n",
    "%check_expr"
   ]
  },
  {
   "cell_type": "code",
   "execution_count": 4,
   "metadata": {},
   "outputs": [
    {
     "name": "stdout",
     "output_type": "stream",
     "text": [
      "\\left(\\left(2 \\cdot a\\right) + \\left(2 \\cdot c\\right) + \\left(2 \\cdot b\\right) + \\left(2 + 3 + 4\\right)\\right) = \\left(\\left(2 \\cdot a\\right) + \\left(2 \\cdot c\\right) + \\left(2 \\cdot b\\right) + 9\\right)\n"
     ]
    }
   ],
   "source": [
    "# Show the LaTeX representation of the expression for convenience if you need it.\n",
    "print(expr.latex())"
   ]
  },
  {
   "cell_type": "code",
   "execution_count": 5,
   "metadata": {},
   "outputs": [
    {
     "data": {
      "text/html": [
       "<table><tr><th>&nbsp;</th><th>core type</th><th>sub-expressions</th><th>expression</th></tr>\n",
       "<tr><td>0</td><td>Operation</td><td>operator:&nbsp;1<br>operands:&nbsp;2<br></td><td><a class=\"ProveItLink\" href=\"expr.ipynb\"><img src=\"expr.png\" style=\"display:inline;vertical-align:middle;\" /></a></td></tr>\n",
       "<tr><td>1</td><td>Literal</td><td></td><td><a class=\"ProveItLink\" href=\"../../../../logic/equality/__pv_it/e16d2caa26a16688b658bdb9c422caf4b84579e10/expr.ipynb\"><img src=\"../../../../logic/equality/__pv_it/e16d2caa26a16688b658bdb9c422caf4b84579e10/expr.png\" style=\"display:inline;vertical-align:middle;\" /></a></td></tr>\n",
       "<tr><td>2</td><td>ExprTuple</td><td>3, 4</td><td><a class=\"ProveItLink\" href=\"../863b9dbdff9496aedaa908e2917ba216522a4c1c0/expr.ipynb\"><img src=\"../863b9dbdff9496aedaa908e2917ba216522a4c1c0/expr.png\" style=\"display:inline;vertical-align:middle;\" /></a></td></tr>\n",
       "<tr><td>3</td><td>Operation</td><td>operator:&nbsp;12<br>operands:&nbsp;5<br></td><td><a class=\"ProveItLink\" href=\"../a13fce46ace48cb2d97afb69e556d6e818b57ec30/expr.ipynb\"><img src=\"../a13fce46ace48cb2d97afb69e556d6e818b57ec30/expr.png\" style=\"display:inline;vertical-align:middle;\" /></a></td></tr>\n",
       "<tr><td>4</td><td>Operation</td><td>operator:&nbsp;12<br>operands:&nbsp;6<br></td><td><a class=\"ProveItLink\" href=\"../8e792f856d9ca70b90831a7131145205f567ac1d0/expr.ipynb\"><img src=\"../8e792f856d9ca70b90831a7131145205f567ac1d0/expr.png\" style=\"display:inline;vertical-align:middle;\" /></a></td></tr>\n",
       "<tr><td>5</td><td>ExprTuple</td><td>8, 9, 10, 7</td><td><a class=\"ProveItLink\" href=\"../f69e38c5648cec9525393c7dfeb18f98fe3884940/expr.ipynb\"><img src=\"../f69e38c5648cec9525393c7dfeb18f98fe3884940/expr.png\" style=\"display:inline;vertical-align:middle;\" /></a></td></tr>\n",
       "<tr><td>6</td><td>ExprTuple</td><td>8, 9, 10, 11</td><td><a class=\"ProveItLink\" href=\"../d9ce4f2df60e952b564983da63c5fda31fcecb080/expr.ipynb\"><img src=\"../d9ce4f2df60e952b564983da63c5fda31fcecb080/expr.png\" style=\"display:inline;vertical-align:middle;\" /></a></td></tr>\n",
       "<tr><td>7</td><td>Operation</td><td>operator:&nbsp;12<br>operands:&nbsp;13<br></td><td><a class=\"ProveItLink\" href=\"../306dd901bf9735900c0c41c8d4cb9663343e990f0/expr.ipynb\"><img src=\"../306dd901bf9735900c0c41c8d4cb9663343e990f0/expr.png\" style=\"display:inline;vertical-align:middle;\" /></a></td></tr>\n",
       "<tr><td>8</td><td>Operation</td><td>operator:&nbsp;16<br>operands:&nbsp;14<br></td><td><a class=\"ProveItLink\" href=\"../3604f49d9a9d8b8bb86e32586424dc2391d32a5e0/expr.ipynb\"><img src=\"../3604f49d9a9d8b8bb86e32586424dc2391d32a5e0/expr.png\" style=\"display:inline;vertical-align:middle;\" /></a></td></tr>\n",
       "<tr><td>9</td><td>Operation</td><td>operator:&nbsp;16<br>operands:&nbsp;15<br></td><td><a class=\"ProveItLink\" href=\"../4788d11728b0f80674e0308b2bd2be7f0afe88ee0/expr.ipynb\"><img src=\"../4788d11728b0f80674e0308b2bd2be7f0afe88ee0/expr.png\" style=\"display:inline;vertical-align:middle;\" /></a></td></tr>\n",
       "<tr><td>10</td><td>Operation</td><td>operator:&nbsp;16<br>operands:&nbsp;17<br></td><td><a class=\"ProveItLink\" href=\"../9fd626de01b17338e7dff70755bfa9f0d11b495e0/expr.ipynb\"><img src=\"../9fd626de01b17338e7dff70755bfa9f0d11b495e0/expr.png\" style=\"display:inline;vertical-align:middle;\" /></a></td></tr>\n",
       "<tr><td>11</td><td>Literal</td><td></td><td><a class=\"ProveItLink\" href=\"../../../numeral/__pv_it/7fab80fdcebf6e49053ee9ced791d7d7639d49600/expr.ipynb\"><img src=\"../../../numeral/__pv_it/7fab80fdcebf6e49053ee9ced791d7d7639d49600/expr.png\" style=\"display:inline;vertical-align:middle;\" /></a></td></tr>\n",
       "<tr><td>12</td><td>Literal</td><td></td><td><a class=\"ProveItLink\" href=\"../65ad7e8aee19b10110d590375ba95a879c4fb7ea0/expr.ipynb\"><img src=\"../65ad7e8aee19b10110d590375ba95a879c4fb7ea0/expr.png\" style=\"display:inline;vertical-align:middle;\" /></a></td></tr>\n",
       "<tr><td>13</td><td>ExprTuple</td><td>22, 18, 19</td><td><a class=\"ProveItLink\" href=\"../6bc5709ec20dca05165c0144cf46b3c61a3f15d00/expr.ipynb\"><img src=\"../6bc5709ec20dca05165c0144cf46b3c61a3f15d00/expr.png\" style=\"display:inline;vertical-align:middle;\" /></a></td></tr>\n",
       "<tr><td>14</td><td>ExprTuple</td><td>22, 20</td><td><a class=\"ProveItLink\" href=\"../467faf2d1c8b0bf566ba1810222e23e71e89cde80/expr.ipynb\"><img src=\"../467faf2d1c8b0bf566ba1810222e23e71e89cde80/expr.png\" style=\"display:inline;vertical-align:middle;\" /></a></td></tr>\n",
       "<tr><td>15</td><td>ExprTuple</td><td>22, 21</td><td><a class=\"ProveItLink\" href=\"../432cebb53f3e99c6860dee5808fe1ff21346b56a0/expr.ipynb\"><img src=\"../432cebb53f3e99c6860dee5808fe1ff21346b56a0/expr.png\" style=\"display:inline;vertical-align:middle;\" /></a></td></tr>\n",
       "<tr><td>16</td><td>Literal</td><td></td><td><a class=\"ProveItLink\" href=\"../../../multiplication/__pv_it/f7a1ed7c35c8c884cf4c236d27cb79bf85638cad0/expr.ipynb\"><img src=\"../../../multiplication/__pv_it/f7a1ed7c35c8c884cf4c236d27cb79bf85638cad0/expr.png\" style=\"display:inline;vertical-align:middle;\" /></a></td></tr>\n",
       "<tr><td>17</td><td>ExprTuple</td><td>22, 23</td><td><a class=\"ProveItLink\" href=\"../4d1e2dbf86a54daa7568f29d39de5f1e359e53bb0/expr.ipynb\"><img src=\"../4d1e2dbf86a54daa7568f29d39de5f1e359e53bb0/expr.png\" style=\"display:inline;vertical-align:middle;\" /></a></td></tr>\n",
       "<tr><td>18</td><td>Literal</td><td></td><td><a class=\"ProveItLink\" href=\"../../../numeral/__pv_it/eafea0aba3ef5dc2db24e5b7b93d46ff53acbff50/expr.ipynb\"><img src=\"../../../numeral/__pv_it/eafea0aba3ef5dc2db24e5b7b93d46ff53acbff50/expr.png\" style=\"display:inline;vertical-align:middle;\" /></a></td></tr>\n",
       "<tr><td>19</td><td>Literal</td><td></td><td><a class=\"ProveItLink\" href=\"../../../numeral/__pv_it/32801785a546fd942457f8cd430f52e750ed8f980/expr.ipynb\"><img src=\"../../../numeral/__pv_it/32801785a546fd942457f8cd430f52e750ed8f980/expr.png\" style=\"display:inline;vertical-align:middle;\" /></a></td></tr>\n",
       "<tr><td>20</td><td>Variable</td><td></td><td><a class=\"ProveItLink\" href=\"../../../../__pv_it/a8d4b3a34d2189508f9082853fbac36935714f280/expr.ipynb\"><img src=\"../../../../__pv_it/a8d4b3a34d2189508f9082853fbac36935714f280/expr.png\" style=\"display:inline;vertical-align:middle;\" /></a></td></tr>\n",
       "<tr><td>21</td><td>Variable</td><td></td><td><a class=\"ProveItLink\" href=\"../../../../__pv_it/b2b446b221a34ee579eb9a1fbdd4ac4e2891d8c70/expr.ipynb\"><img src=\"../../../../__pv_it/b2b446b221a34ee579eb9a1fbdd4ac4e2891d8c70/expr.png\" style=\"display:inline;vertical-align:middle;\" /></a></td></tr>\n",
       "<tr><td>22</td><td>Literal</td><td></td><td><a class=\"ProveItLink\" href=\"../../../numeral/__pv_it/fb4ccffdbfd0f653ebaacb95e7ff4802fd48a6f20/expr.ipynb\"><img src=\"../../../numeral/__pv_it/fb4ccffdbfd0f653ebaacb95e7ff4802fd48a6f20/expr.png\" style=\"display:inline;vertical-align:middle;\" /></a></td></tr>\n",
       "<tr><td>23</td><td>Variable</td><td></td><td><a class=\"ProveItLink\" href=\"../../../../__pv_it/53e304ff98ebc000dbe3ef224f4637dbafd46ba70/expr.ipynb\"><img src=\"../../../../__pv_it/53e304ff98ebc000dbe3ef224f4637dbafd46ba70/expr.png\" style=\"display:inline;vertical-align:middle;\" /></a></td></tr>\n",
       "</table>\n"
      ],
      "text/plain": [
       "0. ((2 * a) + (2 * c) + (2 * b) + (2 + 3 + 4)) = ((2 * a) + (2 * c) + (2 * b) + 9)\n",
       "   core type: Operation\n",
       "   operator: 1\n",
       "   operands: 2\n",
       "1. =\n",
       "   core type: Literal\n",
       "   sub-expressions: \n",
       "2. ((2 * a) + (2 * c) + (2 * b) + (2 + 3 + 4), (2 * a) + (2 * c) + (2 * b) + 9)\n",
       "   core type: ExprTuple\n",
       "   sub-expressions: 3, 4\n",
       "3. (2 * a) + (2 * c) + (2 * b) + (2 + 3 + 4)\n",
       "   core type: Operation\n",
       "   operator: 12\n",
       "   operands: 5\n",
       "4. (2 * a) + (2 * c) + (2 * b) + 9\n",
       "   core type: Operation\n",
       "   operator: 12\n",
       "   operands: 6\n",
       "5. (2 * a, 2 * c, 2 * b, 2 + 3 + 4)\n",
       "   core type: ExprTuple\n",
       "   sub-expressions: 8, 9, 10, 7\n",
       "6. (2 * a, 2 * c, 2 * b, 9)\n",
       "   core type: ExprTuple\n",
       "   sub-expressions: 8, 9, 10, 11\n",
       "7. 2 + 3 + 4\n",
       "   core type: Operation\n",
       "   operator: 12\n",
       "   operands: 13\n",
       "8. 2 * a\n",
       "   core type: Operation\n",
       "   operator: 16\n",
       "   operands: 14\n",
       "9. 2 * c\n",
       "   core type: Operation\n",
       "   operator: 16\n",
       "   operands: 15\n",
       "10. 2 * b\n",
       "    core type: Operation\n",
       "    operator: 16\n",
       "    operands: 17\n",
       "11. 9\n",
       "    core type: Literal\n",
       "    sub-expressions: \n",
       "12. +\n",
       "    core type: Literal\n",
       "    sub-expressions: \n",
       "13. (2, 3, 4)\n",
       "    core type: ExprTuple\n",
       "    sub-expressions: 22, 18, 19\n",
       "14. (2, a)\n",
       "    core type: ExprTuple\n",
       "    sub-expressions: 22, 20\n",
       "15. (2, c)\n",
       "    core type: ExprTuple\n",
       "    sub-expressions: 22, 21\n",
       "16. *\n",
       "    core type: Literal\n",
       "    sub-expressions: \n",
       "17. (2, b)\n",
       "    core type: ExprTuple\n",
       "    sub-expressions: 22, 23\n",
       "18. 3\n",
       "    core type: Literal\n",
       "    sub-expressions: \n",
       "19. 4\n",
       "    core type: Literal\n",
       "    sub-expressions: \n",
       "20. a\n",
       "    core type: Variable\n",
       "    sub-expressions: \n",
       "21. c\n",
       "    core type: Variable\n",
       "    sub-expressions: \n",
       "22. 2\n",
       "    core type: Literal\n",
       "    sub-expressions: \n",
       "23. b\n",
       "    core type: Variable\n",
       "    sub-expressions: "
      ]
     },
     "execution_count": 5,
     "metadata": {},
     "output_type": "execute_result"
    }
   ],
   "source": [
    "# display the expression information\n",
    "expr.exprInfo()"
   ]
  },
  {
   "cell_type": "code",
   "execution_count": null,
   "metadata": {},
   "outputs": [],
   "source": []
  }
 ],
 "metadata": {
  "kernelspec": {
   "display_name": "Python 3",
   "language": "python",
   "name": "python3"
  },
  "language_info": {
   "codemirror_mode": {
    "name": "ipython",
    "version": 3
   },
   "file_extension": ".py",
   "mimetype": "text/x-python",
   "name": "python",
   "nbconvert_exporter": "python",
   "pygments_lexer": "ipython3",
   "version": "3.7.3"
  }
 },
 "nbformat": 4,
 "nbformat_minor": 1
}
