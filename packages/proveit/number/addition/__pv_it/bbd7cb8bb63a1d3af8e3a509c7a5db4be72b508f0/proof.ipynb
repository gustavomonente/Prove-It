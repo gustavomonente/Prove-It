{
 "cells": [
  {
   "cell_type": "markdown",
   "metadata": {},
   "source": [
    "Show the Proof\n",
    "========"
   ]
  },
  {
   "cell_type": "code",
   "execution_count": 1,
   "metadata": {},
   "outputs": [
    {
     "data": {
      "text/html": [
       "<table><tr><th>&nbsp;</th><th>step type</th><th>requirements</th><th>statement</th></tr>\n",
       "<tr><td><a name=\"proveit.number.addition.bbd7cb8bb63a1d3af8e3a509c7a5db4be72b508f0_step0\">0</a></td><td>instantiation</td><td><a href=\"#proveit.number.addition.bbd7cb8bb63a1d3af8e3a509c7a5db4be72b508f0_step1\">1</a>, <a href=\"#proveit.number.addition.bbd7cb8bb63a1d3af8e3a509c7a5db4be72b508f0_step2\">2</a>, <a href=\"#proveit.number.addition.bbd7cb8bb63a1d3af8e3a509c7a5db4be72b508f0_step3\">3</a>, <a href=\"#proveit.number.addition.bbd7cb8bb63a1d3af8e3a509c7a5db4be72b508f0_step4\">4</a>, <a href=\"#proveit.number.addition.bbd7cb8bb63a1d3af8e3a509c7a5db4be72b508f0_step5\">5</a>, <a href=\"#proveit.number.addition.bbd7cb8bb63a1d3af8e3a509c7a5db4be72b508f0_step6\">6</a>, <a href=\"#proveit.number.addition.bbd7cb8bb63a1d3af8e3a509c7a5db4be72b508f0_step7\">7</a></td><td><span style=\"font-size:20px;\"><a class=\"ProveItLink\" href=\"../e32ea000cf96561a9b506c7b98b258bf0c4ab3720/expr.ipynb\"><img src=\"../e32ea000cf96561a9b506c7b98b258bf0c4ab3720/expr.png\" style=\"display:inline;vertical-align:middle;\" /></a> <a class=\"ProveItLink\" href=\"proof.ipynb\" style=\"text-decoration: none\">&#x22A2;&nbsp;</a><a class=\"ProveItLink\" href=\"../3239b0bf71143c30bdfc73db8a8bbb5d538496c80/expr.ipynb\"><img src=\"../3239b0bf71143c30bdfc73db8a8bbb5d538496c80/expr.png\" style=\"display:inline;vertical-align:middle;\" /></a></span></td></tr>\n",
       "<tr><td>&nbsp;</td><td colspan=4 style=\"text-align:left\"><span style=\"font-size:20px;\"><a class=\"ProveItLink\" href=\"../../../../__pv_it/557ab5defdcd46aa58168b08767502985122cd490/expr.ipynb\"><img src=\"../../../../__pv_it/557ab5defdcd46aa58168b08767502985122cd490/expr.png\" style=\"display:inline;vertical-align:middle;\" /></a> : <a class=\"ProveItLink\" href=\"../../../numeral/__pv_it/32801785a546fd942457f8cd430f52e750ed8f980/expr.ipynb\"><img src=\"../../../numeral/__pv_it/32801785a546fd942457f8cd430f52e750ed8f980/expr.png\" style=\"display:inline;vertical-align:middle;\" /></a>, <a class=\"ProveItLink\" href=\"../../../../__pv_it/a8d4b3a34d2189508f9082853fbac36935714f280/expr.ipynb\"><img src=\"../../../../__pv_it/a8d4b3a34d2189508f9082853fbac36935714f280/expr.png\" style=\"display:inline;vertical-align:middle;\" /></a> : <a class=\"ProveItLink\" href=\"../5d83551b7f96ebbef1398938aee4014828b9f61a0/expr.ipynb\"><img src=\"../5d83551b7f96ebbef1398938aee4014828b9f61a0/expr.png\" style=\"display:inline;vertical-align:middle;\" /></a></span></td></tr><tr><td><a name=\"proveit.number.addition.bbd7cb8bb63a1d3af8e3a509c7a5db4be72b508f0_step1\">1</a></td><td>theorem</td><td></td><td><span style=\"font-size:20px;\"> <a class=\"ProveItLink\" href=\"../../_proofs_/addComplexClosure.ipynb\" style=\"text-decoration: none\">&#x22A2;&nbsp;</a><a class=\"ProveItLink\" href=\"../e57c80540579ae99f608859b9e986986287c1d9d0/expr.ipynb\"><img src=\"../e57c80540579ae99f608859b9e986986287c1d9d0/expr.png\" style=\"display:inline;vertical-align:middle;\" /></a></span></td></tr>\n",
       "<tr><td>&nbsp;</td><td colspan=4 style-\"text-align:left\"><a class=\"ProveItLink\" href=\"../../_proofs_/addComplexClosure.ipynb\">proveit.number.addition.addComplexClosure</a></td></tr><tr><td><a name=\"proveit.number.addition.bbd7cb8bb63a1d3af8e3a509c7a5db4be72b508f0_step2\">2</a></td><td>theorem</td><td></td><td><span style=\"font-size:20px;\"> <a class=\"ProveItLink\" href=\"../../../numeral/deci/_proofs_/nat4.ipynb\" style=\"text-decoration: none\">&#x22A2;&nbsp;</a><a class=\"ProveItLink\" href=\"../0ac72aa4f3c098e8aab965f7fe889137da3082fc0/expr.ipynb\"><img src=\"../0ac72aa4f3c098e8aab965f7fe889137da3082fc0/expr.png\" style=\"display:inline;vertical-align:middle;\" /></a></span></td></tr>\n",
       "<tr><td>&nbsp;</td><td colspan=4 style-\"text-align:left\"><a class=\"ProveItLink\" href=\"../../../numeral/deci/_proofs_/nat4.ipynb\">proveit.number.numeral.deci.nat4</a></td></tr><tr><td><a name=\"proveit.number.addition.bbd7cb8bb63a1d3af8e3a509c7a5db4be72b508f0_step3\">3</a></td><td>instantiation</td><td><a href=\"#proveit.number.addition.bbd7cb8bb63a1d3af8e3a509c7a5db4be72b508f0_step8\">8</a></td><td><span style=\"font-size:20px;\"> <a class=\"ProveItLink\" href=\"../4c0f25642b5b772eaad05fe9f5704d4424d82f430/proof.ipynb\" style=\"text-decoration: none\">&#x22A2;&nbsp;</a><a class=\"ProveItLink\" href=\"../4b9266cecd41307a6dddde6ca9635513a775ca4e0/expr.ipynb\"><img src=\"../4b9266cecd41307a6dddde6ca9635513a775ca4e0/expr.png\" style=\"display:inline;vertical-align:middle;\" /></a></span></td></tr>\n",
       "<tr><td>&nbsp;</td><td colspan=4 style=\"text-align:left\"><span style=\"font-size:20px;\"><a class=\"ProveItLink\" href=\"../../../../__pv_it/a8d4b3a34d2189508f9082853fbac36935714f280/expr.ipynb\"><img src=\"../../../../__pv_it/a8d4b3a34d2189508f9082853fbac36935714f280/expr.png\" style=\"display:inline;vertical-align:middle;\" /></a> : <a class=\"ProveItLink\" href=\"../../../../__pv_it/a8d4b3a34d2189508f9082853fbac36935714f280/expr.ipynb\"><img src=\"../../../../__pv_it/a8d4b3a34d2189508f9082853fbac36935714f280/expr.png\" style=\"display:inline;vertical-align:middle;\" /></a>, <a class=\"ProveItLink\" href=\"../../../../__pv_it/53e304ff98ebc000dbe3ef224f4637dbafd46ba70/expr.ipynb\"><img src=\"../../../../__pv_it/53e304ff98ebc000dbe3ef224f4637dbafd46ba70/expr.png\" style=\"display:inline;vertical-align:middle;\" /></a> : <a class=\"ProveItLink\" href=\"../../../../__pv_it/53e304ff98ebc000dbe3ef224f4637dbafd46ba70/expr.ipynb\"><img src=\"../../../../__pv_it/53e304ff98ebc000dbe3ef224f4637dbafd46ba70/expr.png\" style=\"display:inline;vertical-align:middle;\" /></a>, <a class=\"ProveItLink\" href=\"../../../../__pv_it/b2b446b221a34ee579eb9a1fbdd4ac4e2891d8c70/expr.ipynb\"><img src=\"../../../../__pv_it/b2b446b221a34ee579eb9a1fbdd4ac4e2891d8c70/expr.png\" style=\"display:inline;vertical-align:middle;\" /></a> : <a class=\"ProveItLink\" href=\"../../../../__pv_it/b2b446b221a34ee579eb9a1fbdd4ac4e2891d8c70/expr.ipynb\"><img src=\"../../../../__pv_it/b2b446b221a34ee579eb9a1fbdd4ac4e2891d8c70/expr.png\" style=\"display:inline;vertical-align:middle;\" /></a>, <a class=\"ProveItLink\" href=\"../../../../__pv_it/445e790c2b62732eb8597a2ddda4cbd1a8fb79140/expr.ipynb\"><img src=\"../../../../__pv_it/445e790c2b62732eb8597a2ddda4cbd1a8fb79140/expr.png\" style=\"display:inline;vertical-align:middle;\" /></a> : <a class=\"ProveItLink\" href=\"../../../../__pv_it/445e790c2b62732eb8597a2ddda4cbd1a8fb79140/expr.ipynb\"><img src=\"../../../../__pv_it/445e790c2b62732eb8597a2ddda4cbd1a8fb79140/expr.png\" style=\"display:inline;vertical-align:middle;\" /></a></span></td></tr><tr><td><a name=\"proveit.number.addition.bbd7cb8bb63a1d3af8e3a509c7a5db4be72b508f0_step4\">4</a></td><td>assumption</td><td></td><td><span style=\"font-size:20px;\"><a class=\"ProveItLink\" href=\"../814ad3b887777c33126b530621b71f90ad99ce800/expr.ipynb\"><img src=\"../814ad3b887777c33126b530621b71f90ad99ce800/expr.png\" style=\"display:inline;vertical-align:middle;\" /></a> <a class=\"ProveItLink\" href=\"../a03d66f1d8532d5b6adf57539af91200c3f4bc840/proof.ipynb\" style=\"text-decoration: none\">&#x22A2;&nbsp;</a><a class=\"ProveItLink\" href=\"../3a349d05e8f4326cbee9b8eaae329b60958952cc0/expr.ipynb\"><img src=\"../3a349d05e8f4326cbee9b8eaae329b60958952cc0/expr.png\" style=\"display:inline;vertical-align:middle;\" /></a></span></td></tr>\n",
       "<tr><td><a name=\"proveit.number.addition.bbd7cb8bb63a1d3af8e3a509c7a5db4be72b508f0_step5\">5</a></td><td>assumption</td><td></td><td><span style=\"font-size:20px;\"><a class=\"ProveItLink\" href=\"../69a7a0660a7baa14d23d6847718c3422330b10e30/expr.ipynb\"><img src=\"../69a7a0660a7baa14d23d6847718c3422330b10e30/expr.png\" style=\"display:inline;vertical-align:middle;\" /></a> <a class=\"ProveItLink\" href=\"../a8d281880ee07ee9e8bcdd88d4aa7d0fbdfe1fc80/proof.ipynb\" style=\"text-decoration: none\">&#x22A2;&nbsp;</a><a class=\"ProveItLink\" href=\"../95df97c34da7b3464cf6fd37240351be737674bc0/expr.ipynb\"><img src=\"../95df97c34da7b3464cf6fd37240351be737674bc0/expr.png\" style=\"display:inline;vertical-align:middle;\" /></a></span></td></tr>\n",
       "<tr><td><a name=\"proveit.number.addition.bbd7cb8bb63a1d3af8e3a509c7a5db4be72b508f0_step6\">6</a></td><td>assumption</td><td></td><td><span style=\"font-size:20px;\"><a class=\"ProveItLink\" href=\"../3f261bad81e2d76dac2b7e758806634335f4dfc30/expr.ipynb\"><img src=\"../3f261bad81e2d76dac2b7e758806634335f4dfc30/expr.png\" style=\"display:inline;vertical-align:middle;\" /></a> <a class=\"ProveItLink\" href=\"../ac890daee1080ee4616d5c91baa6393a238315bd0/proof.ipynb\" style=\"text-decoration: none\">&#x22A2;&nbsp;</a><a class=\"ProveItLink\" href=\"../d02cf1906ac5f4354cc3c5b69decd4aeb8773d320/expr.ipynb\"><img src=\"../d02cf1906ac5f4354cc3c5b69decd4aeb8773d320/expr.png\" style=\"display:inline;vertical-align:middle;\" /></a></span></td></tr>\n",
       "<tr><td><a name=\"proveit.number.addition.bbd7cb8bb63a1d3af8e3a509c7a5db4be72b508f0_step7\">7</a></td><td>assumption</td><td></td><td><span style=\"font-size:20px;\"><a class=\"ProveItLink\" href=\"../d68865a75fb0f6bfb3a81792ffbab7a96270439e0/expr.ipynb\"><img src=\"../d68865a75fb0f6bfb3a81792ffbab7a96270439e0/expr.png\" style=\"display:inline;vertical-align:middle;\" /></a> <a class=\"ProveItLink\" href=\"../94e5f9d243e5b4bb0ad3b6f7077a2fc00e0fa3800/proof.ipynb\" style=\"text-decoration: none\">&#x22A2;&nbsp;</a><a class=\"ProveItLink\" href=\"../9dffd23ab17bbdd30641b880131d73458250caf80/expr.ipynb\"><img src=\"../9dffd23ab17bbdd30641b880131d73458250caf80/expr.png\" style=\"display:inline;vertical-align:middle;\" /></a></span></td></tr>\n",
       "<tr><td><a name=\"proveit.number.addition.bbd7cb8bb63a1d3af8e3a509c7a5db4be72b508f0_step8\">8</a></td><td>theorem</td><td></td><td><span style=\"font-size:20px;\"> <a class=\"ProveItLink\" href=\"../../../numeral/deci/_proofs_/tuple_len_4_typical_equiv.ipynb\" style=\"text-decoration: none\">&#x22A2;&nbsp;</a><a class=\"ProveItLink\" href=\"../2721bd146fe7230dcf99d2f40b939da563cdb69f0/expr.ipynb\"><img src=\"../2721bd146fe7230dcf99d2f40b939da563cdb69f0/expr.png\" style=\"display:inline;vertical-align:middle;\" /></a></span></td></tr>\n",
       "<tr><td>&nbsp;</td><td colspan=4 style-\"text-align:left\"><a class=\"ProveItLink\" href=\"../../../numeral/deci/_proofs_/tuple_len_4_typical_equiv.ipynb\">proveit.number.numeral.deci.tuple_len_4_typical_equiv</a></td></tr></table>"
      ],
      "text/plain": [
       "<proveit._core_.proof._ShowProof at 0x7f5b8dea3278>"
      ]
     },
     "execution_count": 1,
     "metadata": {},
     "output_type": "execute_result"
    }
   ],
   "source": [
    "import proveit\n",
    "# Automation is not needed when only showing a stored proof:\n",
    "proveit.defaults.automation = False # This will speed things up.\n",
    "proveit.defaults.inline_pngs = False # Makes files smaller.\n",
    "%show_proof"
   ]
  },
  {
   "cell_type": "code",
   "execution_count": null,
   "metadata": {},
   "outputs": [],
   "source": []
  }
 ],
 "metadata": {
  "kernelspec": {
   "display_name": "Python 3",
   "language": "python",
   "name": "python3"
  },
  "language_info": {
   "codemirror_mode": {
    "name": "ipython",
    "version": 3
   },
   "file_extension": ".py",
   "mimetype": "text/x-python",
   "name": "python",
   "nbconvert_exporter": "python",
   "pygments_lexer": "ipython3",
   "version": "3.7.3"
  }
 },
 "nbformat": 4,
 "nbformat_minor": 1
}
