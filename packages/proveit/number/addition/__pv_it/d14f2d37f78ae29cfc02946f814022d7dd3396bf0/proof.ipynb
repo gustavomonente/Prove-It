{
 "cells": [
  {
   "cell_type": "markdown",
   "metadata": {},
   "source": [
    "Show the Proof\n",
    "========"
   ]
  },
  {
   "cell_type": "code",
   "execution_count": 1,
   "metadata": {},
   "outputs": [
    {
     "data": {
      "text/html": [
       "<table><tr><th>&nbsp;</th><th>step type</th><th>requirements</th><th>statement</th></tr>\n",
       "<tr><td><a name=\"proveit.number.addition.d14f2d37f78ae29cfc02946f814022d7dd3396bf0_step0\">0</a></td><td>instantiation</td><td><a href=\"#proveit.number.addition.d14f2d37f78ae29cfc02946f814022d7dd3396bf0_step1\">1</a>, <a href=\"#proveit.number.addition.d14f2d37f78ae29cfc02946f814022d7dd3396bf0_step2\">2</a>, <a href=\"#proveit.number.addition.d14f2d37f78ae29cfc02946f814022d7dd3396bf0_step3\">3</a></td><td><span style=\"font-size:20px;\"><a class=\"ProveItLink\" href=\"../3f261bad81e2d76dac2b7e758806634335f4dfc30/expr.ipynb\"><img src=\"../3f261bad81e2d76dac2b7e758806634335f4dfc30/expr.png\" style=\"display:inline;vertical-align:middle;\" /></a> <a class=\"ProveItLink\" href=\"proof.ipynb\" style=\"text-decoration: none\">&#x22A2;&nbsp;</a><a class=\"ProveItLink\" href=\"../eecc6f70bca29d24c44e7a7dce3ce73f0c76b1f30/expr.ipynb\"><img src=\"../eecc6f70bca29d24c44e7a7dce3ce73f0c76b1f30/expr.png\" style=\"display:inline;vertical-align:middle;\" /></a></span></td></tr>\n",
       "<tr><td>&nbsp;</td><td colspan=4 style=\"text-align:left\"><span style=\"font-size:20px;\"><a class=\"ProveItLink\" href=\"../../../../__pv_it/72df168d2bfb4e0140af90912ebf83b13772060b0/expr.ipynb\"><img src=\"../../../../__pv_it/72df168d2bfb4e0140af90912ebf83b13772060b0/expr.png\" style=\"display:inline;vertical-align:middle;\" /></a> : <a class=\"ProveItLink\" href=\"../aac5de09b67c5aa5611afa6ca754234cd649de8c0/expr.ipynb\"><img src=\"../aac5de09b67c5aa5611afa6ca754234cd649de8c0/expr.png\" style=\"display:inline;vertical-align:middle;\" /></a>, <a class=\"ProveItLink\" href=\"../../../../__pv_it/c6e291955561f22a0e6708fd793ea93f1c7dbb5d0/expr.ipynb\"><img src=\"../../../../__pv_it/c6e291955561f22a0e6708fd793ea93f1c7dbb5d0/expr.png\" style=\"display:inline;vertical-align:middle;\" /></a> : <a class=\"ProveItLink\" href=\"../223d7b4f19301a4e27e39671396a55da947374710/expr.ipynb\"><img src=\"../223d7b4f19301a4e27e39671396a55da947374710/expr.png\" style=\"display:inline;vertical-align:middle;\" /></a>, <a class=\"ProveItLink\" href=\"../../../../__pv_it/0d889e00aed425c3081fbda3ac9194ae911895960/expr.ipynb\"><img src=\"../../../../__pv_it/0d889e00aed425c3081fbda3ac9194ae911895960/expr.png\" style=\"display:inline;vertical-align:middle;\" /></a> : <a class=\"ProveItLink\" href=\"../ad348302eed44843bbb2aee3562ce4ddfe3d7f1a0/expr.ipynb\"><img src=\"../ad348302eed44843bbb2aee3562ce4ddfe3d7f1a0/expr.png\" style=\"display:inline;vertical-align:middle;\" /></a></span></td></tr><tr><td><a name=\"proveit.number.addition.d14f2d37f78ae29cfc02946f814022d7dd3396bf0_step1\">1</a></td><td>axiom</td><td></td><td><span style=\"font-size:20px;\"> <a class=\"ProveItLink\" href=\"../../../../logic/equality/_axioms_.ipynb#equalsTransitivity\" style=\"text-decoration: none\">&#x22A2;&nbsp;</a><a class=\"ProveItLink\" href=\"../0fa9ded864270c3f05b65c97e9aa5d6a2d7cebf40/expr.ipynb\"><img src=\"../0fa9ded864270c3f05b65c97e9aa5d6a2d7cebf40/expr.png\" style=\"display:inline;vertical-align:middle;\" /></a></span></td></tr>\n",
       "<tr><td>&nbsp;</td><td colspan=4 style-\"text-align:left\"><a class=\"ProveItLink\" href=\"../../../../logic/equality/_axioms_.ipynb#equalsTransitivity\">proveit.logic.equality.equalsTransitivity</a></td></tr><tr><td><a name=\"proveit.number.addition.d14f2d37f78ae29cfc02946f814022d7dd3396bf0_step2\">2</a></td><td>instantiation</td><td><a href=\"#proveit.number.addition.d14f2d37f78ae29cfc02946f814022d7dd3396bf0_step5\">5</a>, <a href=\"#proveit.number.addition.d14f2d37f78ae29cfc02946f814022d7dd3396bf0_step4\">4</a></td><td><span style=\"font-size:20px;\"> <a class=\"ProveItLink\" href=\"../3c3a36db1b9476ad0dff1f40dc49a725c040ef560/proof.ipynb\" style=\"text-decoration: none\">&#x22A2;&nbsp;</a><a class=\"ProveItLink\" href=\"../17fa556589bd9e2d19b8425267ddc0f355ff383b0/expr.ipynb\"><img src=\"../17fa556589bd9e2d19b8425267ddc0f355ff383b0/expr.png\" style=\"display:inline;vertical-align:middle;\" /></a></span></td></tr>\n",
       "<tr><td>&nbsp;</td><td colspan=4 style=\"text-align:left\"><span style=\"font-size:20px;\"><a class=\"ProveItLink\" href=\"../b03ca9c7bc8f532bf55517e632039b2ccc74c3bd0/expr.ipynb\"><img src=\"../b03ca9c7bc8f532bf55517e632039b2ccc74c3bd0/expr.png\" style=\"display:inline;vertical-align:middle;\" /></a> : <a class=\"ProveItLink\" href=\"../468f584a4677debd90585d316cdf000bd6fc6f920/expr.ipynb\"><img src=\"../468f584a4677debd90585d316cdf000bd6fc6f920/expr.png\" style=\"display:inline;vertical-align:middle;\" /></a>, <a class=\"ProveItLink\" href=\"../../../../__pv_it/72df168d2bfb4e0140af90912ebf83b13772060b0/expr.ipynb\"><img src=\"../../../../__pv_it/72df168d2bfb4e0140af90912ebf83b13772060b0/expr.png\" style=\"display:inline;vertical-align:middle;\" /></a> : <a class=\"ProveItLink\" href=\"../f1ecb9f037290f64fd7b5d42b020020f031fbd920/expr.ipynb\"><img src=\"../f1ecb9f037290f64fd7b5d42b020020f031fbd920/expr.png\" style=\"display:inline;vertical-align:middle;\" /></a>, <a class=\"ProveItLink\" href=\"../../../../__pv_it/c6e291955561f22a0e6708fd793ea93f1c7dbb5d0/expr.ipynb\"><img src=\"../../../../__pv_it/c6e291955561f22a0e6708fd793ea93f1c7dbb5d0/expr.png\" style=\"display:inline;vertical-align:middle;\" /></a> : <a class=\"ProveItLink\" href=\"../../../numeral/__pv_it/fb4ccffdbfd0f653ebaacb95e7ff4802fd48a6f20/expr.ipynb\"><img src=\"../../../numeral/__pv_it/fb4ccffdbfd0f653ebaacb95e7ff4802fd48a6f20/expr.png\" style=\"display:inline;vertical-align:middle;\" /></a></span></td></tr><tr><td><a name=\"proveit.number.addition.d14f2d37f78ae29cfc02946f814022d7dd3396bf0_step3\">3</a></td><td>instantiation</td><td><a href=\"#proveit.number.addition.d14f2d37f78ae29cfc02946f814022d7dd3396bf0_step5\">5</a>, <a href=\"#proveit.number.addition.d14f2d37f78ae29cfc02946f814022d7dd3396bf0_step6\">6</a></td><td><span style=\"font-size:20px;\"><a class=\"ProveItLink\" href=\"../3f261bad81e2d76dac2b7e758806634335f4dfc30/expr.ipynb\"><img src=\"../3f261bad81e2d76dac2b7e758806634335f4dfc30/expr.png\" style=\"display:inline;vertical-align:middle;\" /></a> <a class=\"ProveItLink\" href=\"../46563456c14f24f4b301d5ff77c5ce55743193980/proof.ipynb\" style=\"text-decoration: none\">&#x22A2;&nbsp;</a><a class=\"ProveItLink\" href=\"../0db7d156b5328ead556142cfc00f3d9f700d35090/expr.ipynb\"><img src=\"../0db7d156b5328ead556142cfc00f3d9f700d35090/expr.png\" style=\"display:inline;vertical-align:middle;\" /></a></span></td></tr>\n",
       "<tr><td>&nbsp;</td><td colspan=4 style=\"text-align:left\"><span style=\"font-size:20px;\"><a class=\"ProveItLink\" href=\"../b03ca9c7bc8f532bf55517e632039b2ccc74c3bd0/expr.ipynb\"><img src=\"../b03ca9c7bc8f532bf55517e632039b2ccc74c3bd0/expr.png\" style=\"display:inline;vertical-align:middle;\" /></a> : <a class=\"ProveItLink\" href=\"../19ab1d39f3c881cf1fe50137e861ab7f8d8231450/expr.ipynb\"><img src=\"../19ab1d39f3c881cf1fe50137e861ab7f8d8231450/expr.png\" style=\"display:inline;vertical-align:middle;\" /></a>, <a class=\"ProveItLink\" href=\"../../../../__pv_it/72df168d2bfb4e0140af90912ebf83b13772060b0/expr.ipynb\"><img src=\"../../../../__pv_it/72df168d2bfb4e0140af90912ebf83b13772060b0/expr.png\" style=\"display:inline;vertical-align:middle;\" /></a> : <a class=\"ProveItLink\" href=\"../d1b4a711401e7e31459aa7782c7ede03f87098a10/expr.ipynb\"><img src=\"../d1b4a711401e7e31459aa7782c7ede03f87098a10/expr.png\" style=\"display:inline;vertical-align:middle;\" /></a>, <a class=\"ProveItLink\" href=\"../../../../__pv_it/c6e291955561f22a0e6708fd793ea93f1c7dbb5d0/expr.ipynb\"><img src=\"../../../../__pv_it/c6e291955561f22a0e6708fd793ea93f1c7dbb5d0/expr.png\" style=\"display:inline;vertical-align:middle;\" /></a> : <a class=\"ProveItLink\" href=\"../../../../__pv_it/b2b446b221a34ee579eb9a1fbdd4ac4e2891d8c70/expr.ipynb\"><img src=\"../../../../__pv_it/b2b446b221a34ee579eb9a1fbdd4ac4e2891d8c70/expr.png\" style=\"display:inline;vertical-align:middle;\" /></a></span></td></tr><tr><td><a name=\"proveit.number.addition.d14f2d37f78ae29cfc02946f814022d7dd3396bf0_step4\">4</a></td><td>theorem</td><td></td><td><span style=\"font-size:20px;\"> <a class=\"ProveItLink\" href=\"../../../numeral/deci/_proofs_/mult_1_2.ipynb\" style=\"text-decoration: none\">&#x22A2;&nbsp;</a><a class=\"ProveItLink\" href=\"../../../numeral/deci/__pv_it/dde01890483c9d78efb0db2bcd2b35c37382bfa90/expr.ipynb\"><img src=\"../../../numeral/deci/__pv_it/dde01890483c9d78efb0db2bcd2b35c37382bfa90/expr.png\" style=\"display:inline;vertical-align:middle;\" /></a></span></td></tr>\n",
       "<tr><td>&nbsp;</td><td colspan=4 style-\"text-align:left\"><a class=\"ProveItLink\" href=\"../../../numeral/deci/_proofs_/mult_1_2.ipynb\">proveit.number.numeral.deci.mult_1_2</a></td></tr><tr><td><a name=\"proveit.number.addition.d14f2d37f78ae29cfc02946f814022d7dd3396bf0_step5\">5</a></td><td>axiom</td><td></td><td><span style=\"font-size:20px;\"> <a class=\"ProveItLink\" href=\"../../../../logic/equality/_axioms_.ipynb#substitution\" style=\"text-decoration: none\">&#x22A2;&nbsp;</a><a class=\"ProveItLink\" href=\"../ca1366507ca87fa19c6343226a9172d30f76676b0/expr.ipynb\"><img src=\"../ca1366507ca87fa19c6343226a9172d30f76676b0/expr.png\" style=\"display:inline;vertical-align:middle;\" /></a></span></td></tr>\n",
       "<tr><td>&nbsp;</td><td colspan=4 style-\"text-align:left\"><a class=\"ProveItLink\" href=\"../../../../logic/equality/_axioms_.ipynb#substitution\">proveit.logic.equality.substitution</a></td></tr><tr><td><a name=\"proveit.number.addition.d14f2d37f78ae29cfc02946f814022d7dd3396bf0_step6\">6</a></td><td>instantiation</td><td><a href=\"#proveit.number.addition.d14f2d37f78ae29cfc02946f814022d7dd3396bf0_step7\">7</a>, <a href=\"#proveit.number.addition.d14f2d37f78ae29cfc02946f814022d7dd3396bf0_step8\">8</a></td><td><span style=\"font-size:20px;\"><a class=\"ProveItLink\" href=\"../3f261bad81e2d76dac2b7e758806634335f4dfc30/expr.ipynb\"><img src=\"../3f261bad81e2d76dac2b7e758806634335f4dfc30/expr.png\" style=\"display:inline;vertical-align:middle;\" /></a> <a class=\"ProveItLink\" href=\"../653ff82a357c12c6e35f2984994141514d76488d0/proof.ipynb\" style=\"text-decoration: none\">&#x22A2;&nbsp;</a><a class=\"ProveItLink\" href=\"../cc0470fc3eddd19c2c1ebc50899e0024b1294a630/expr.ipynb\"><img src=\"../cc0470fc3eddd19c2c1ebc50899e0024b1294a630/expr.png\" style=\"display:inline;vertical-align:middle;\" /></a></span></td></tr>\n",
       "<tr><td>&nbsp;</td><td colspan=4 style=\"text-align:left\"><span style=\"font-size:20px;\"><a class=\"ProveItLink\" href=\"../../../../__pv_it/72df168d2bfb4e0140af90912ebf83b13772060b0/expr.ipynb\"><img src=\"../../../../__pv_it/72df168d2bfb4e0140af90912ebf83b13772060b0/expr.png\" style=\"display:inline;vertical-align:middle;\" /></a> : <a class=\"ProveItLink\" href=\"../../../../__pv_it/b2b446b221a34ee579eb9a1fbdd4ac4e2891d8c70/expr.ipynb\"><img src=\"../../../../__pv_it/b2b446b221a34ee579eb9a1fbdd4ac4e2891d8c70/expr.png\" style=\"display:inline;vertical-align:middle;\" /></a></span></td></tr><tr><td><a name=\"proveit.number.addition.d14f2d37f78ae29cfc02946f814022d7dd3396bf0_step7\">7</a></td><td>theorem</td><td></td><td><span style=\"font-size:20px;\"> <a class=\"ProveItLink\" href=\"../../../multiplication/_proofs_/elimOneLeft.ipynb\" style=\"text-decoration: none\">&#x22A2;&nbsp;</a><a class=\"ProveItLink\" href=\"../ad8a03c4f801a33c6f16c3bf1da8c743c0e6babb0/expr.ipynb\"><img src=\"../ad8a03c4f801a33c6f16c3bf1da8c743c0e6babb0/expr.png\" style=\"display:inline;vertical-align:middle;\" /></a></span></td></tr>\n",
       "<tr><td>&nbsp;</td><td colspan=4 style-\"text-align:left\"><a class=\"ProveItLink\" href=\"../../../multiplication/_proofs_/elimOneLeft.ipynb\">proveit.number.multiplication.elimOneLeft</a></td></tr><tr><td><a name=\"proveit.number.addition.d14f2d37f78ae29cfc02946f814022d7dd3396bf0_step8\">8</a></td><td>assumption</td><td></td><td><span style=\"font-size:20px;\"><a class=\"ProveItLink\" href=\"../3f261bad81e2d76dac2b7e758806634335f4dfc30/expr.ipynb\"><img src=\"../3f261bad81e2d76dac2b7e758806634335f4dfc30/expr.png\" style=\"display:inline;vertical-align:middle;\" /></a> <a class=\"ProveItLink\" href=\"../ac890daee1080ee4616d5c91baa6393a238315bd0/proof.ipynb\" style=\"text-decoration: none\">&#x22A2;&nbsp;</a><a class=\"ProveItLink\" href=\"../d02cf1906ac5f4354cc3c5b69decd4aeb8773d320/expr.ipynb\"><img src=\"../d02cf1906ac5f4354cc3c5b69decd4aeb8773d320/expr.png\" style=\"display:inline;vertical-align:middle;\" /></a></span></td></tr>\n",
       "</table>"
      ],
      "text/plain": [
       "<proveit._core_.proof._ShowProof at 0x7f5b8dc89ba8>"
      ]
     },
     "execution_count": 1,
     "metadata": {},
     "output_type": "execute_result"
    }
   ],
   "source": [
    "import proveit\n",
    "# Automation is not needed when only showing a stored proof:\n",
    "proveit.defaults.automation = False # This will speed things up.\n",
    "proveit.defaults.inline_pngs = False # Makes files smaller.\n",
    "%show_proof"
   ]
  },
  {
   "cell_type": "code",
   "execution_count": null,
   "metadata": {},
   "outputs": [],
   "source": []
  }
 ],
 "metadata": {
  "kernelspec": {
   "display_name": "Python 3",
   "language": "python",
   "name": "python3"
  },
  "language_info": {
   "codemirror_mode": {
    "name": "ipython",
    "version": 3
   },
   "file_extension": ".py",
   "mimetype": "text/x-python",
   "name": "python",
   "nbconvert_exporter": "python",
   "pygments_lexer": "ipython3",
   "version": "3.7.3"
  }
 },
 "nbformat": 4,
 "nbformat_minor": 1
}
