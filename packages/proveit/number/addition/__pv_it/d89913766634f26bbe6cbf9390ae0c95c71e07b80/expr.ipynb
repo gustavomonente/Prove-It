{
 "cells": [
  {
   "cell_type": "markdown",
   "metadata": {},
   "source": [
    "Expression of type <a class=\"ProveItLink\" href=\"../../../../../../doc/html/api/proveit.logic.Equals.html\">Equals</a>\n",
    "=======================\n",
    "# from context <a class=\"ProveItLink\" href=\"../../_context_.ipynb\">proveit.number.addition</a>"
   ]
  },
  {
   "cell_type": "code",
   "execution_count": 1,
   "metadata": {},
   "outputs": [],
   "source": [
    "import proveit\n",
    "# Automation is not needed when building an expression:\n",
    "proveit.defaults.automation = False # This will speed things up.\n",
    "proveit.defaults.inline_pngs = False # Makes files smaller.\n",
    "# import Expression classes needed to build the expression\n",
    "from proveit._common_ import b\n",
    "from proveit.logic import Equals\n",
    "from proveit.number import Add, Mult, Neg, one, three, two"
   ]
  },
  {
   "cell_type": "code",
   "execution_count": 2,
   "metadata": {},
   "outputs": [
    {
     "data": {
      "text/html": [
       "<strong id=\"expr\">expr:</strong> <a class=\"ProveItLink\" href=\"expr.ipynb\"><img src=\"expr.png\" style=\"display:inline;vertical-align:middle;\" /></a><br>"
      ],
      "text/plain": [
       "expr: ((2 + 3 + 1 + (-1)) * b) = ((2 * b) + (3 * b) + (1 * b) + ((-1) * b))"
      ]
     },
     "execution_count": 2,
     "metadata": {},
     "output_type": "execute_result"
    }
   ],
   "source": [
    "# build up the expression from sub-expressions\n",
    "subExpr1 = Neg(one)\n",
    "expr = Equals(Mult(Add(two, three, one, subExpr1).withSubtractionAt(), b), Add(Mult(two, b), Mult(three, b), Mult(one, b), Mult(subExpr1, b)).withSubtractionAt(3))"
   ]
  },
  {
   "cell_type": "code",
   "execution_count": 3,
   "metadata": {},
   "outputs": [
    {
     "name": "stdout",
     "output_type": "stream",
     "text": [
      "Passed sanity check: built 'expr' is the same as the stored Expression.\n"
     ]
    }
   ],
   "source": [
    "# check that the built expression is the same as the stored expression\n",
    "%check_expr"
   ]
  },
  {
   "cell_type": "code",
   "execution_count": 4,
   "metadata": {},
   "outputs": [
    {
     "name": "stdout",
     "output_type": "stream",
     "text": [
      "\\left(\\left(2 + 3 + 1 + \\left(-1\\right)\\right) \\cdot b\\right) = \\left(\\left(2 \\cdot b\\right) + \\left(3 \\cdot b\\right) + \\left(1 \\cdot b\\right) + \\left(\\left(-1\\right) \\cdot b\\right)\\right)\n"
     ]
    }
   ],
   "source": [
    "# Show the LaTeX representation of the expression for convenience if you need it.\n",
    "print(expr.latex())"
   ]
  },
  {
   "cell_type": "code",
   "execution_count": 5,
   "metadata": {},
   "outputs": [
    {
     "data": {
      "text/html": [
       "<table><tr><th>&nbsp;</th><th>core type</th><th>sub-expressions</th><th>expression</th></tr>\n",
       "<tr><td>0</td><td>Operation</td><td>operator:&nbsp;1<br>operands:&nbsp;2<br></td><td><a class=\"ProveItLink\" href=\"expr.ipynb\"><img src=\"expr.png\" style=\"display:inline;vertical-align:middle;\" /></a></td></tr>\n",
       "<tr><td>1</td><td>Literal</td><td></td><td><a class=\"ProveItLink\" href=\"../../../../logic/equality/__pv_it/e16d2caa26a16688b658bdb9c422caf4b84579e10/expr.ipynb\"><img src=\"../../../../logic/equality/__pv_it/e16d2caa26a16688b658bdb9c422caf4b84579e10/expr.png\" style=\"display:inline;vertical-align:middle;\" /></a></td></tr>\n",
       "<tr><td>2</td><td>ExprTuple</td><td>3, 4</td><td><a class=\"ProveItLink\" href=\"../07f155b11eb066c33bf7af73e37e268f2eaed7030/expr.ipynb\"><img src=\"../07f155b11eb066c33bf7af73e37e268f2eaed7030/expr.png\" style=\"display:inline;vertical-align:middle;\" /></a></td></tr>\n",
       "<tr><td>3</td><td>Operation</td><td>operator:&nbsp;17<br>operands:&nbsp;5<br></td><td><a class=\"ProveItLink\" href=\"../ddfb0a53e9017f5ccdc55065b718d7966ee734a60/expr.ipynb\"><img src=\"../ddfb0a53e9017f5ccdc55065b718d7966ee734a60/expr.png\" style=\"display:inline;vertical-align:middle;\" /></a></td></tr>\n",
       "<tr><td>4</td><td>Operation</td><td>operator:&nbsp;12<br>operands:&nbsp;6<br></td><td><a class=\"ProveItLink\" href=\"../696aa2f098d2579d37651f048aff560cfb078e630/expr.ipynb\"><img src=\"../696aa2f098d2579d37651f048aff560cfb078e630/expr.png\" style=\"display:inline;vertical-align:middle;\" /></a></td></tr>\n",
       "<tr><td>5</td><td>ExprTuple</td><td>7, 22</td><td><a class=\"ProveItLink\" href=\"../dcd5aa3d858f9a7ecb539ca6e119a5414de791000/expr.ipynb\"><img src=\"../dcd5aa3d858f9a7ecb539ca6e119a5414de791000/expr.png\" style=\"display:inline;vertical-align:middle;\" /></a></td></tr>\n",
       "<tr><td>6</td><td>ExprTuple</td><td>8, 9, 10, 11</td><td><a class=\"ProveItLink\" href=\"../b1eb2636e80ccff0d2f21cbe139a42539aec929c0/expr.ipynb\"><img src=\"../b1eb2636e80ccff0d2f21cbe139a42539aec929c0/expr.png\" style=\"display:inline;vertical-align:middle;\" /></a></td></tr>\n",
       "<tr><td>7</td><td>Operation</td><td>operator:&nbsp;12<br>operands:&nbsp;13<br></td><td><a class=\"ProveItLink\" href=\"../5b9c0c9c91ebcc7f51817b0c2143dea3cd62f9ff0/expr.ipynb\"><img src=\"../5b9c0c9c91ebcc7f51817b0c2143dea3cd62f9ff0/expr.png\" style=\"display:inline;vertical-align:middle;\" /></a></td></tr>\n",
       "<tr><td>8</td><td>Operation</td><td>operator:&nbsp;17<br>operands:&nbsp;14<br></td><td><a class=\"ProveItLink\" href=\"../9fd626de01b17338e7dff70755bfa9f0d11b495e0/expr.ipynb\"><img src=\"../9fd626de01b17338e7dff70755bfa9f0d11b495e0/expr.png\" style=\"display:inline;vertical-align:middle;\" /></a></td></tr>\n",
       "<tr><td>9</td><td>Operation</td><td>operator:&nbsp;17<br>operands:&nbsp;15<br></td><td><a class=\"ProveItLink\" href=\"../ad609d94dfe36461d37cecd2de947d82ae28a3b40/expr.ipynb\"><img src=\"../ad609d94dfe36461d37cecd2de947d82ae28a3b40/expr.png\" style=\"display:inline;vertical-align:middle;\" /></a></td></tr>\n",
       "<tr><td>10</td><td>Operation</td><td>operator:&nbsp;17<br>operands:&nbsp;16<br></td><td><a class=\"ProveItLink\" href=\"../d7ef929e80e93349e14ebc0c480ef47ce6f69b7c0/expr.ipynb\"><img src=\"../d7ef929e80e93349e14ebc0c480ef47ce6f69b7c0/expr.png\" style=\"display:inline;vertical-align:middle;\" /></a></td></tr>\n",
       "<tr><td>11</td><td>Operation</td><td>operator:&nbsp;17<br>operands:&nbsp;18<br></td><td><a class=\"ProveItLink\" href=\"../567686418918330f1327c42335ff768666af0c110/expr.ipynb\"><img src=\"../567686418918330f1327c42335ff768666af0c110/expr.png\" style=\"display:inline;vertical-align:middle;\" /></a></td></tr>\n",
       "<tr><td>12</td><td>Literal</td><td></td><td><a class=\"ProveItLink\" href=\"../65ad7e8aee19b10110d590375ba95a879c4fb7ea0/expr.ipynb\"><img src=\"../65ad7e8aee19b10110d590375ba95a879c4fb7ea0/expr.png\" style=\"display:inline;vertical-align:middle;\" /></a></td></tr>\n",
       "<tr><td>13</td><td>ExprTuple</td><td>19, 20, 24, 21</td><td><a class=\"ProveItLink\" href=\"../1fd36fdd78fb3871c072982628f44c25b18cfb010/expr.ipynb\"><img src=\"../1fd36fdd78fb3871c072982628f44c25b18cfb010/expr.png\" style=\"display:inline;vertical-align:middle;\" /></a></td></tr>\n",
       "<tr><td>14</td><td>ExprTuple</td><td>19, 22</td><td><a class=\"ProveItLink\" href=\"../4d1e2dbf86a54daa7568f29d39de5f1e359e53bb0/expr.ipynb\"><img src=\"../4d1e2dbf86a54daa7568f29d39de5f1e359e53bb0/expr.png\" style=\"display:inline;vertical-align:middle;\" /></a></td></tr>\n",
       "<tr><td>15</td><td>ExprTuple</td><td>20, 22</td><td><a class=\"ProveItLink\" href=\"../90d8bd9d282f2774e2a51d7036b57cb6b8b2d25c0/expr.ipynb\"><img src=\"../90d8bd9d282f2774e2a51d7036b57cb6b8b2d25c0/expr.png\" style=\"display:inline;vertical-align:middle;\" /></a></td></tr>\n",
       "<tr><td>16</td><td>ExprTuple</td><td>24, 22</td><td><a class=\"ProveItLink\" href=\"../5498cb8c8ad4642a91e7b53c960703255d616be80/expr.ipynb\"><img src=\"../5498cb8c8ad4642a91e7b53c960703255d616be80/expr.png\" style=\"display:inline;vertical-align:middle;\" /></a></td></tr>\n",
       "<tr><td>17</td><td>Literal</td><td></td><td><a class=\"ProveItLink\" href=\"../../../multiplication/__pv_it/f7a1ed7c35c8c884cf4c236d27cb79bf85638cad0/expr.ipynb\"><img src=\"../../../multiplication/__pv_it/f7a1ed7c35c8c884cf4c236d27cb79bf85638cad0/expr.png\" style=\"display:inline;vertical-align:middle;\" /></a></td></tr>\n",
       "<tr><td>18</td><td>ExprTuple</td><td>21, 22</td><td><a class=\"ProveItLink\" href=\"../e54c7f8a4cbd49c4e75af08a5e544ca051e02bad0/expr.ipynb\"><img src=\"../e54c7f8a4cbd49c4e75af08a5e544ca051e02bad0/expr.png\" style=\"display:inline;vertical-align:middle;\" /></a></td></tr>\n",
       "<tr><td>19</td><td>Literal</td><td></td><td><a class=\"ProveItLink\" href=\"../../../numeral/__pv_it/fb4ccffdbfd0f653ebaacb95e7ff4802fd48a6f20/expr.ipynb\"><img src=\"../../../numeral/__pv_it/fb4ccffdbfd0f653ebaacb95e7ff4802fd48a6f20/expr.png\" style=\"display:inline;vertical-align:middle;\" /></a></td></tr>\n",
       "<tr><td>20</td><td>Literal</td><td></td><td><a class=\"ProveItLink\" href=\"../../../numeral/__pv_it/eafea0aba3ef5dc2db24e5b7b93d46ff53acbff50/expr.ipynb\"><img src=\"../../../numeral/__pv_it/eafea0aba3ef5dc2db24e5b7b93d46ff53acbff50/expr.png\" style=\"display:inline;vertical-align:middle;\" /></a></td></tr>\n",
       "<tr><td>21</td><td>Operation</td><td>operator:&nbsp;23<br>operand:&nbsp;24<br></td><td><a class=\"ProveItLink\" href=\"../01559348096b98a1dd2ebcf5c288189c829b18930/expr.ipynb\"><img src=\"../01559348096b98a1dd2ebcf5c288189c829b18930/expr.png\" style=\"display:inline;vertical-align:middle;\" /></a></td></tr>\n",
       "<tr><td>22</td><td>Variable</td><td></td><td><a class=\"ProveItLink\" href=\"../../../../__pv_it/53e304ff98ebc000dbe3ef224f4637dbafd46ba70/expr.ipynb\"><img src=\"../../../../__pv_it/53e304ff98ebc000dbe3ef224f4637dbafd46ba70/expr.png\" style=\"display:inline;vertical-align:middle;\" /></a></td></tr>\n",
       "<tr><td>23</td><td>Literal</td><td></td><td><a class=\"ProveItLink\" href=\"../../../negation/__pv_it/2867787e35502987d81a45cac8e7f1c6996d6ff40/expr.ipynb\"><img src=\"../../../negation/__pv_it/2867787e35502987d81a45cac8e7f1c6996d6ff40/expr.png\" style=\"display:inline;vertical-align:middle;\" /></a></td></tr>\n",
       "<tr><td>24</td><td>Literal</td><td></td><td><a class=\"ProveItLink\" href=\"../../../numeral/__pv_it/f086f8c372bd40a2458306ddfdbb29f3dc6f63030/expr.ipynb\"><img src=\"../../../numeral/__pv_it/f086f8c372bd40a2458306ddfdbb29f3dc6f63030/expr.png\" style=\"display:inline;vertical-align:middle;\" /></a></td></tr>\n",
       "</table>\n"
      ],
      "text/plain": [
       "0. ((2 + 3 + 1 + (-1)) * b) = ((2 * b) + (3 * b) + (1 * b) + ((-1) * b))\n",
       "   core type: Operation\n",
       "   operator: 1\n",
       "   operands: 2\n",
       "1. =\n",
       "   core type: Literal\n",
       "   sub-expressions: \n",
       "2. ((2 + 3 + 1 + (-1)) * b, (2 * b) + (3 * b) + (1 * b) + ((-1) * b))\n",
       "   core type: ExprTuple\n",
       "   sub-expressions: 3, 4\n",
       "3. (2 + 3 + 1 + (-1)) * b\n",
       "   core type: Operation\n",
       "   operator: 17\n",
       "   operands: 5\n",
       "4. (2 * b) + (3 * b) + (1 * b) + ((-1) * b)\n",
       "   core type: Operation\n",
       "   operator: 12\n",
       "   operands: 6\n",
       "5. (2 + 3 + 1 + (-1), b)\n",
       "   core type: ExprTuple\n",
       "   sub-expressions: 7, 22\n",
       "6. (2 * b, 3 * b, 1 * b, (-1) * b)\n",
       "   core type: ExprTuple\n",
       "   sub-expressions: 8, 9, 10, 11\n",
       "7. 2 + 3 + 1 + (-1)\n",
       "   core type: Operation\n",
       "   operator: 12\n",
       "   operands: 13\n",
       "8. 2 * b\n",
       "   core type: Operation\n",
       "   operator: 17\n",
       "   operands: 14\n",
       "9. 3 * b\n",
       "   core type: Operation\n",
       "   operator: 17\n",
       "   operands: 15\n",
       "10. 1 * b\n",
       "    core type: Operation\n",
       "    operator: 17\n",
       "    operands: 16\n",
       "11. (-1) * b\n",
       "    core type: Operation\n",
       "    operator: 17\n",
       "    operands: 18\n",
       "12. +\n",
       "    core type: Literal\n",
       "    sub-expressions: \n",
       "13. (2, 3, 1, -1)\n",
       "    core type: ExprTuple\n",
       "    sub-expressions: 19, 20, 24, 21\n",
       "14. (2, b)\n",
       "    core type: ExprTuple\n",
       "    sub-expressions: 19, 22\n",
       "15. (3, b)\n",
       "    core type: ExprTuple\n",
       "    sub-expressions: 20, 22\n",
       "16. (1, b)\n",
       "    core type: ExprTuple\n",
       "    sub-expressions: 24, 22\n",
       "17. *\n",
       "    core type: Literal\n",
       "    sub-expressions: \n",
       "18. (-1, b)\n",
       "    core type: ExprTuple\n",
       "    sub-expressions: 21, 22\n",
       "19. 2\n",
       "    core type: Literal\n",
       "    sub-expressions: \n",
       "20. 3\n",
       "    core type: Literal\n",
       "    sub-expressions: \n",
       "21. -1\n",
       "    core type: Operation\n",
       "    operator: 23\n",
       "    operand: 24\n",
       "22. b\n",
       "    core type: Variable\n",
       "    sub-expressions: \n",
       "23. -\n",
       "    core type: Literal\n",
       "    sub-expressions: \n",
       "24. 1\n",
       "    core type: Literal\n",
       "    sub-expressions: "
      ]
     },
     "execution_count": 5,
     "metadata": {},
     "output_type": "execute_result"
    }
   ],
   "source": [
    "# display the expression information\n",
    "expr.exprInfo()"
   ]
  },
  {
   "cell_type": "code",
   "execution_count": null,
   "metadata": {},
   "outputs": [],
   "source": []
  }
 ],
 "metadata": {
  "kernelspec": {
   "display_name": "Python 3",
   "language": "python",
   "name": "python3"
  },
  "language_info": {
   "codemirror_mode": {
    "name": "ipython",
    "version": 3
   },
   "file_extension": ".py",
   "mimetype": "text/x-python",
   "name": "python",
   "nbconvert_exporter": "python",
   "pygments_lexer": "ipython3",
   "version": "3.7.3"
  }
 },
 "nbformat": 4,
 "nbformat_minor": 1
}
