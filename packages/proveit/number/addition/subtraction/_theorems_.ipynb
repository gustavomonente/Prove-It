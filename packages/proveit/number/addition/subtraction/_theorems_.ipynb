{
 "cells": [
  {
   "cell_type": "markdown",
   "metadata": {},
   "source": [
    "Theorems for context <a href=\"_context_.ipynb\" class=\"ProveItLink\">proveit.number.subtraction</a>\n",
    "========"
   ]
  },
  {
   "cell_type": "code",
   "execution_count": 1,
   "metadata": {},
   "outputs": [],
   "source": [
    "import proveit\n",
    "# Automation is not needed when building theorem expressions:\n",
    "proveit.defaults.automation = False # This will speed things up.\n",
    "from proveit import ExprRange, IndexedVar\n",
    "from proveit.logic import Forall, Equals, InSet\n",
    "from proveit.number import zero, one, Naturals, NaturalsPos, Complexes, Add, Neg, subtract, LessEq, Exp\n",
    "from proveit._common_ import a, b, c, d, i, j, k\n",
    "from proveit.core_expr_types._common_ import a_1_to_i, b_1_to_j, c_1_to_j, c_1_to_k, d_1_to_k\n",
    "# the context is in the current directory:\n",
    "context = proveit.Context('.') # adds context root to sys.path if necessary"
   ]
  },
  {
   "cell_type": "code",
   "execution_count": 2,
   "metadata": {},
   "outputs": [
    {
     "name": "stdout",
     "output_type": "stream",
     "text": [
      "Defining theorems for context 'proveit.number.addition.subtraction'\n",
      "Subsequent end-of-cell assignments will define theorems\n",
      "'%end theorems' will finalize the definitions\n"
     ]
    }
   ],
   "source": [
    "%begin theorems"
   ]
  },
  {
   "cell_type": "code",
   "execution_count": 3,
   "metadata": {},
   "outputs": [
    {
     "data": {
      "text/html": [
       "<strong id=\"subtractFromAdd\"><a class=\"ProveItLink\" href=\"_proofs_/subtractFromAdd.ipynb\">subtractFromAdd</a>:</strong> <a class=\"ProveItLink\" href=\"__pv_it/1c0b1f70af7fb9a52dae9fd2d426c6c40defda990/expr.ipynb\"><img src=\"data:image/png;base64,iVBORw0KGgoAAAANSUhEUgAAATsAAAAWBAMAAABNtyaoAAAAMFBMVEX///8QEBCIiIhmZma6urrM\n",
       "zMxUVFQiIiJERETc3Nzu7u6qqqp2dnaYmJgyMjIAAAAcRTyBAAAAAXRSTlMAQObYZgAAA9VJREFU\n",
       "SMfNVl1IFFEU/nbXcd2fUR+CIgkWK4soEPt5CC0jKl+M7SELAhVJ+hcfKvp7WAxi1YiFoKIfmJIo\n",
       "7MelsjICRbGH/hjsJaPEKKEslogeygo6d+6dde/MbBa10YEzM/fce+Z+95zz3XuBfyRnhDpIIOZs\n",
       "7yIdZh8vMo7OH+FqlYuT6bHF2SebYD9gH6MZh5cb42qTV6RX0yyJQneC3r5IxuE9EWqTr6TBkLNT\n",
       "Ly1Jo+54xuHtFWqVrDEWpnxnp7OAer+9/XjG0fkaudokaBhfp6mIcuBzNHrgz+a2llTYPsRdzBXB\n",
       "wpkygrrplLo+23JKS6bSYPKoB5od5lw9PCGsLBEAyZYAbtiH5uhcfftxROroGPV/AYaM/yQMYYvA\n",
       "sljuB8osYVhuMCRlFzq8qQ4cOZfb93bLpWsacnhT3hYoEB47Q71xoT3YJnV0a/gI3LJydho8RNcA\n",
       "Zd4Lt25a787X/es15T2LOqPLpb4ynG9BdY/pJxk4PCXZmc0e7+g3tTZ4rnKuSzWjedWI0wh9LYH/\n",
       "G1BjGe4Zg5cioFAEg7rXtD7taod6GrhL33kUArX1pIbBHgRMBLKBw8tOlprRplThbVp4U+zbXtZX\n",
       "OzxXBB1hDs83XEWGtqIRZLF8rugkE71rCrdS3qmYNoR58QcLQ7JBwPMKb95WPhZpmJfkZWFISi6L\n",
       "lCzfWaSwKqX2WOg7etDNpmK0bt5I+diljCGXDXo2yP1madONA0+9Iippp5IvGwS848Kbt937iKA3\n",
       "sTlKohs+EjW+U0FJ8D7hrC6okUqYOBroJGbUwHXC6ClWGtHGeu508RFNGPKzaAYucTRUqmHJYMKr\n",
       "EN68nROif1aYJRQxNxlGNKaL4F8oAdmBg/QstRI9pO6mDcHDaiiPEuCKu2uxjlYcOrWWj5iERcqe\n",
       "aLTJ18lncFF6JIMJb6Xwbki8TCR0V7mnFtVmCSVPI5YmpsFHAzKQtrmMlyNW5tbNPDaD6MlmUolN\n",
       "HbGcZ5rBPM856qX3GApgMHAxodc4VSSDCW+98ObtPI0wrSSsJHpebMJDjaNpdLZfSFIlVlOJYNjY\n",
       "r8Po9bVgnxpBP+s62k9H9gmNDpjiFMM4vAvCm7e92lPg+fihVDzRlQA/vxKI4NddKwNa2eflxKGw\n",
       "UoCqhzQfS47/8Zt6rIn7Sga0FEMKczXhzZm7neplgXk0MR9RCDGujvKTC5V0MlLtiaODv2ZHm0RX\n",
       "3GpIwnPH5bZ5xf2166ghzc7mtMtB16/ctwWciBVeQP+9y7yaBsZg2tPeOoGK9PAqk9cMk434L8ST\n",
       "JrJz/t4UPwA/uh9y6R1ttAAAAABJRU5ErkJggg==\n",
       "\" style=\"display:inline;vertical-align:middle;\" /></a><br>"
      ],
      "text/plain": [
       "subtractFromAdd: forall_{a in Complexes, b in Complexes, c in Complexes | (a + b) = c} ((c - b) = a)"
      ]
     },
     "execution_count": 3,
     "metadata": {},
     "output_type": "execute_result"
    }
   ],
   "source": [
    "subtractFromAdd = Forall((a, b, c), Equals(subtract(c, b), a), conditions=[Equals(Add(a, b), c)], domain=Complexes)"
   ]
  },
  {
   "cell_type": "code",
   "execution_count": 4,
   "metadata": {},
   "outputs": [
    {
     "data": {
      "text/html": [
       "<strong id=\"negatedAdd\"><a class=\"ProveItLink\" href=\"_proofs_/negatedAdd.ipynb\">negatedAdd</a>:</strong> <a class=\"ProveItLink\" href=\"__pv_it/a91196953b77cdda1860f98925a3309d25a152670/expr.ipynb\"><img src=\"data:image/png;base64,iVBORw0KGgoAAAANSUhEUgAAAWsAAAAWBAMAAAD0o6DgAAAAMFBMVEX///8QEBCIiIhmZma6urrM\n",
       "zMxUVFQiIiJERETc3Nzu7u6qqqp2dnaYmJgyMjIAAAAcRTyBAAAAAXRSTlMAQObYZgAABBxJREFU\n",
       "SMfNV11oHFUU/rL/O7uz2wdBpS/rBqqIwlKLiLQaENu+VMYHa0VoltDgD1WCWNG2D0sE2bQKCz60\n",
       "+AOjQSupNoNaNVIwNNSHNsigDybBli0a0FbWEBTaRMFz59yZzr07m6TKige+mTln7rnzzbnnnnsv\n",
       "8B/J2xIrSa7Rbsu6ijoh0RTK+a6zNmqMjvLBjXR5KsKuqqkG45xQLnWddqHB6Cw/Ek60m3/Rfr/J\n",
       "OCoGotZ12t9JdJZlQr6kW82KZjjNKNjU2uk67ZckOkpiScRynW5O6yP0DsM8OzZ2pOuss0OMzpL3\n",
       "3v6km9uoFfoYV+r1g/+Okx4Qq71JrMII5PWpW2yVzkAvjfmU7tirJEjZQp56ERgERiK4PNRclW5C\n",
       "xkmxtYBP25tmXEbQ7Gb8prYYv2RcBS54HbY88f7ytXDknUwTJvESeMCbmaHi+eoTA+A/Yvni6xfU\n",
       "meIbMqyqVYviFW+vGGmHEWSoi3vUFl/ZWAQ+1x0PhJ4PIuUgR8kkkEbMD4Nx6i7X2GUnfxWDJj5y\n",
       "fGoL3juE3ZO+p2Jg2sngZUpcLlM31TbaPX2ME14c53G/jeeE3deB+2D8CfTrjjdQdxx8K77kfW6B\n",
       "kXfTfpuZiTGYbwGn6LlIITMPv2FjdhI5n5lqYNqpIJU9/Wp7rQ3R9uUmGH/oZTuxHE076KMWpp1t\n",
       "7iRtdMM8EiIvHjxJJrr3l5+m/KEsfNziSZcvl1SDpJ2W3qwnFzfYuDMoD+VSZJJQYHMLKr+/IKK5\n",
       "LZTbVS1Jxr1YJYYYGNlD/exLLqEgzHOz3OhWu9db+M2PZKY+n1ynGiTtI9Kb9dh+Khif4ck6iev5\n",
       "RE1JYxmp5oRC+3eR7zwlwxKakkV67wRTEp8Q93glOYRR8fJL2dswLhgi+rnjzDJeg6UYfNrbpTfr\n",
       "mRL1uV02ED4y7JXwJBe9f1+dVPg9g5fpulmnHaqI8SpGLcTJTQBFGsgeJ1bFoxSh0puP+El1d/LF\n",
       "en04e5K/3ENDrBh82lul97Oti62W29NHve/2szFIi2BopbxffmygT+E3eocYjHmd9rbQ8/R5Ylqw\n",
       "GDCp7o83MnO2Vwni79IY0n0J6+Fl173U1uYpqhh82rukN+tFm7hupX8gcYuNtS/unDxDqy7uxyQ4\n",
       "Lo3+HciLn8hutnA6ewj7zRrOeOvZGdrhHLVpQa2EDNdoH5PerKftGeCHawtxZc1bKVzXVkoO4sDH\n",
       "W4DD4vHD1itWcj12ThMPMcjGNz8P4mEnu/FbO2QIVRJbenMl2Ut5t8nfiQgfmVANxsoSsXEdid64\n",
       "KjsHym25VPLttvqwfOXohoB2zFF1/+hxnceEKI4Rx4SVf39iDccln2ZNp51z/+GhzFz9UDYrES36\n",
       "h010pr0j+IJfFPC/lniHkbi9+5/+G407S7J1IBdtAAAAAElFTkSuQmCC\n",
       "\" style=\"display:inline;vertical-align:middle;\" /></a><br>"
      ],
      "text/plain": [
       "negatedAdd: forall_{a in Complexes, b in Complexes, c in Complexes | (a + b) = c} ((-a - b) = (-c))"
      ]
     },
     "execution_count": 4,
     "metadata": {},
     "output_type": "execute_result"
    }
   ],
   "source": [
    "negatedAdd = Forall((a, b, c), Equals(Add(Neg(a), Neg(b)), Neg(c)), conditions=[Equals(Add(a, b), c)], domain=Complexes)"
   ]
  },
  {
   "cell_type": "code",
   "execution_count": 5,
   "metadata": {},
   "outputs": [
    {
     "data": {
      "text/html": [
       "<strong id=\"subtractFromAddReversed\"><a class=\"ProveItLink\" href=\"_proofs_/subtractFromAddReversed.ipynb\">subtractFromAddReversed</a>:</strong> <a class=\"ProveItLink\" href=\"__pv_it/2b6941f7452a9b0fc3b1949cb31d15ba034762de0/expr.ipynb\"><img src=\"data:image/png;base64,iVBORw0KGgoAAAANSUhEUgAAAVsAAAAWBAMAAACcUCLYAAAAMFBMVEX///8QEBCIiIhmZma6urrM\n",
       "zMxUVFQiIiJERETc3Nzu7u6qqqp2dnaYmJgyMjIAAAAcRTyBAAAAAXRSTlMAQObYZgAABAlJREFU\n",
       "SMfNV12IE1cU/jazs9n8TNYHoaIUwm61Ii0EtfsgareIPy+W9KFWKOiyuPRf8tAuVvsQVpCsfwQE\n",
       "lVZh7FKUtW1C69+KYFDWh/4R7IsrraSoYNcSZPGhrgo9d86dZO6dSXdFIl74ktxzz5n7zbnnnHsC\n",
       "PKNxVCJgxPJ+WaSszkclKmLyZ9PZRrMOTrwQtPiBX3RCm7flGT+LyUTT6SbyjJtBi9/7RX/rr1th\n",
       "HBaezzad7u8SD4MW40ldYqV0ySVGwib1YtPpfs5onQqMlFm6JOwL52MM66eRkUNNZxvJMOKZwOVb\n",
       "usDPKNHD+DeX++LpuOieSPtVQilGoq9LO8l453zgsq7f5X3V5Yvnkl6K0Q8MBXB4szItzVa5oSKr\n",
       "Aqf8qu1lRmEi+kB1+w7sB244z6k6w4nafR6VN/KJexQFFcYqJ+M8VXDve33gN+Fx7sqAmgquoD2o\n",
       "DJGjDH8dDRcZF21MqgslfASc1fV3eAL7RRhUCmIZRhghtyRHLywpRzfa5j8iVsShnby8At/sxqaS\n",
       "a6sImK5ZW2wTH3fpMb0+ui09jJWIPiIF9qMImtdtsbxZ159dVzKmECbvmPcY8XLYVbo2OgLrCHCB\n",
       "fneQi6w9X9oYLyHmMlIFTLetFqrO/EFA0azTvYlWtZTNQSO6NdMsCuk63UhlAwmHF9xGqzj/1adJ\n",
       "JJ7Q+SHFCQXju2lOpnhnUhVIumFpzXNzcoGNV+t5lFSD4TEMpZQJX9NY64ndXi0YCiVcFNtmGBja\n",
       "QmafmVNIiNXr46z1st3lXNDWdzISPzVnqQJJ95C05nloOxWAM3g/R6Ps2Cipdh/H1GbgMUWkTDXv\n",
       "8KRaoYit1FW4qYYfibORMjMYFqvnR1lrEDeiwtuxk8yOwj2tCFy666Q1z9uT9Mx1UkHYSDfLMvQJ\n",
       "dqq8uhF9DViu0/VUNnriABUfo8RABx1YSzHUi3fII8mv3najp9vclssNRk7zji10lIrApbtGWm+t\n",
       "/lWtllt6jF5scsOuVmPdoxx+Reu04r9epc/bOt21nnjpm3/wJUr9NAMWJWch337ddjLb+Jo06HsK\n",
       "8+CE0TJ6G5tTTxG4dDdKa5532MRxDXGnUe7I65dwg3YtM/0lfFyC/ZDfvB7xtHOHpHEpshvbrSzG\n",
       "xNKBMWpBDtt0AaY8gjrd49Ka52H7GvBH/eJMaS0OnrLFkYfV98MKYI/4+W11V9qchw2/0P7iMKO/\n",
       "3enHW8XI4qu2R+CpDLa05srwMcXXUvfKEjYycPIMzLCBHGrQQCo3O8WuvNr4a2FuUC4VdUGNbqio\n",
       "zt2WP7A9Dx5D07fn//u6GJ3B/xOXXlanGys/2Z8fawZ/fsYlgoe+oYXGdNfXtpDfw3guh9HA84ua\n",
       "t+V/NgE86+wemlUAAAAASUVORK5CYII=\n",
       "\" style=\"display:inline;vertical-align:middle;\" /></a><br>"
      ],
      "text/plain": [
       "subtractFromAddReversed: forall_{a in Complexes, b in Complexes, c in Complexes | (a + b) = c} ((b - c) = (-a))"
      ]
     },
     "execution_count": 5,
     "metadata": {},
     "output_type": "execute_result"
    }
   ],
   "source": [
    "subtractFromAddReversed = Forall((a, b, c), Equals(subtract(b, c), Neg(a)), conditions=[Equals(Add(a, b), c)], domain=Complexes)"
   ]
  },
  {
   "cell_type": "code",
   "execution_count": 6,
   "metadata": {},
   "outputs": [
    {
     "data": {
      "text/html": [
       "<strong id=\"addFromSubtract\"><a class=\"ProveItLink\" href=\"_proofs_/addFromSubtract.ipynb\">addFromSubtract</a>:</strong> <a class=\"ProveItLink\" href=\"__pv_it/257e4c7733d0110f6d949d591f8a4b004f2c9da70/expr.ipynb\"><img src=\"data:image/png;base64,iVBORw0KGgoAAAANSUhEUgAAATsAAAAWBAMAAABNtyaoAAAAMFBMVEX///8QEBCIiIhmZma6urrM\n",
       "zMxUVFQiIiJERETc3Nzu7u6qqqp2dnaYmJgyMjIAAAAcRTyBAAAAAXRSTlMAQObYZgAAA9ZJREFU\n",
       "SMfNVltIVFEUXeN4HedxtY+gKILBsiIKxMqP6GFE5k8xfWRBkCJF7zAoKetjMIixIgaClB5wS8LQ\n",
       "aobehtCQ2EcvBvvRKBHKKIshpI/ShPa551ybcx9W1EQb9twz+559zzp773X2Af6RnBdqI/6ovb2d\n",
       "tJ8NXmUcnS/M1SyXJ9HPdnufHIL9mA0GMw4vL8rVIq9JrzlsiULXRE9vOOPwngsdk+viOUIaCNo7\n",
       "PaAtafQ6nnF4B4Wa4WUPszBNsHe6AKiPWlsbM47OW8PVAi+gG984VEQp8CUSOfxna5tLKmSdklXE\n",
       "FYGCQgleXvV0Sl2nZTuLi6fQZPLYAjTYrLmm/6ewskUAJFsKuGmdmpvk6j2EkxK82KDvK9Cnfyel\n",
       "C9sElkfzPlFmCcMKnSFpp9CJrdXgyLncfVgrl65hyOV/5WOBAuG2MtQTF5rATgnefQ1DwB0zZ6fB\n",
       "TXT1U+Y9yEoa1o75Sd8GTfnIos7o0ta5BJeOYVPC8JMMHJ6SkL78gT5TZYHnKuW6TNP/Pkul9qZS\n",
       "b2m0FL5vQKVpunsYHoqAQhEMJD2Gtae9Feo5oIPG+RQC9fgZDb0J+A0EsoHDy5FLjVKF947wJpup\n",
       "8RrZI1Z4rjBiIQ7P219BhuaZA8hm+Vx5i0z0rCzYQXmnYtoY4sUfKAjKBgHPI7y5KEMzNcwzlmE+\n",
       "6cllkZLhjbJIYVVa7bHQxxK4z5ZitG7YTPnYrwwjj0160cv9ZmnT9YanXhWVtE+ZIBsEvEbhLSha\n",
       "RwS9jW0RkqTuI1FjlApKgvcZF5KCGmkSi2MPdWJGDdwgjO4ipQbN7M29dj6jHn0+Fk1/G0dDpRqS\n",
       "DAa8cuEtbEH6ZrlRQmHjkGFEY1oC30IJ3m4cod/FZqIH1Vo6ENyshvIpAa54VhXW046DZ9fxGRNR\n",
       "ohyIROq9t/gKLkqPZDDglQnvchYwzVXqrsImo4TGuhFLE9PA0245uc1zGS8HzMytLjw9g+jJVlKJ\n",
       "TbFo7gstR9/xRXpLz2FMhc7ARYRe41SRDAa8DcKbfzhfI0xl2MOqKJkf/WlT42hq7A/WljGqRCtX\n",
       "IxDSz+sQHniPoU4No4u9OtVFLbtJowZTlGb4Aa9FeAsOaD3Ayx9NqcjpStCaNh7nSiCCX319CXCc\n",
       "Da+kjoaUqah4Quuz5PievduCtXFvcbeWZkhjria8OXN3Ub0sMFoT8xGFEOVqK+NcqKTOSLUnWgd/\n",
       "zI7Ui1dxs2EMXpb1utP/69dRXRrszY7bQfuv3LdFU7Ms6k/+3mVedYDR69jtzQuocIa32mxvxn8h\n",
       "bofIzvl7S3wH6RUl4ImXYUMAAAAASUVORK5CYII=\n",
       "\" style=\"display:inline;vertical-align:middle;\" /></a><br>"
      ],
      "text/plain": [
       "addFromSubtract: forall_{a in Complexes, b in Complexes, c in Complexes | (a - b) = c} ((c + b) = a)"
      ]
     },
     "execution_count": 6,
     "metadata": {},
     "output_type": "execute_result"
    }
   ],
   "source": [
    "addFromSubtract = Forall((a, b, c), Equals(Add(c, b), a), conditions=[Equals(subtract(a, b), c)], domain=Complexes)"
   ]
  },
  {
   "cell_type": "code",
   "execution_count": 7,
   "metadata": {},
   "outputs": [
    {
     "data": {
      "text/html": [
       "<strong id=\"addCancelBasic\"><a class=\"ProveItLink\" href=\"_proofs_/addCancelBasic.ipynb\">addCancelBasic</a>:</strong> <a class=\"ProveItLink\" href=\"__pv_it/3a496014065f834a50af3ef6bb0e519ef5258df60/expr.ipynb\"><img src=\"data:image/png;base64,iVBORw0KGgoAAAANSUhEUgAAAKkAAAAUBAMAAAAErwC3AAAAMFBMVEX///8QEBCIiIhmZma6urrM\n",
       "zMxUVFQiIiJERETc3Nzu7u6qqqp2dnaYmJgyMjIAAAAcRTyBAAAAAXRSTlMAQObYZgAAAg5JREFU\n",
       "OMuVlU9oE0EUxr9kkybZ7K6X9lIQFlp7LnpVUER6Kt1L1VskKL1JLgqih57KBhX21BbqYbWHllCa\n",
       "peKhUkiINwsl3mxRDEgFRUqhUKR4cP41daYz2jz4YOY3eZOZ9+a9Bf5lhTaX3tbNuEMHnw1+y0J6\n",
       "64tOodangOFNOvlh8PsupDe7oxIvsR8xPE8vOq13c0e5TNZSwQdgi2EvBpxE75WLuEz2UgUzQCOm\n",
       "2H1fq80ZvOaETOZdVcAhMJEw/CsMnxi8hoQKly8OKo+DEUeJjn1AdvUZvgdUDbs+F7oWefvyCicu\n",
       "S9fWHrWv9L9+AyWf4etKLovPpspi+JjLPg9LzqcgxYpyA3LWUpPhHNLH79zeuNS2b8fZn2Lez2Ud\n",
       "IeeT4So71C66JLuvjQDFTjt3TD+u1+C+ADbkXVPTqAeSuyDqrjRbjYThQucmmS+O7CJDg3/jDUFy\n",
       "BOpNNGRvQTKVk7h+o8MQ+BJzXL1Lzv4gewSPLuxsn8pWPcH9ovRsBXE72ipg+DXZ2hrNVrBIF97+\n",
       "1TPeceV996EjeQtiNdWySewBgc+RuKeS9B3cCsPQX5g8+dEYl12+MDssp4UTL1A7Q2skENglNVuP\n",
       "8jtxH12wXpHFM1bs0n9wKiqNwwlY1QTdrtFzd1Fwprx2BXhKhyt7M92LVWEuPF0n1OI0iWsPXTsf\n",
       "9YLP+oXZNuI/ZkOnQq8dVUsAAAAASUVORK5CYII=\n",
       "\" style=\"display:inline;vertical-align:middle;\" /></a><br>"
      ],
      "text/plain": [
       "addCancelBasic: forall_{a in Complexes} ((a - a) = 0)"
      ]
     },
     "execution_count": 7,
     "metadata": {},
     "output_type": "execute_result"
    }
   ],
   "source": [
    "addCancelBasic = Forall(a, Equals(subtract(a, a), zero), domain=Complexes)"
   ]
  },
  {
   "cell_type": "code",
   "execution_count": 8,
   "metadata": {},
   "outputs": [
    {
     "data": {
      "text/html": [
       "<strong id=\"addCancelReverse\"><a class=\"ProveItLink\" href=\"_proofs_/addCancelReverse.ipynb\">addCancelReverse</a>:</strong> <a class=\"ProveItLink\" href=\"__pv_it/62a4657f0bbf759d935f4063b5a5cd18e3e8bbe60/expr.ipynb\"><img src=\"data:image/png;base64,iVBORw0KGgoAAAANSUhEUgAAALkAAAAUBAMAAAAjAYFfAAAAMFBMVEX///8QEBCIiIhmZma6urrM\n",
       "zMxUVFQiIiJERETc3Nzu7u6qqqp2dnaYmJgyMjIAAAAcRTyBAAAAAXRSTlMAQObYZgAAAilJREFU\n",
       "OMudlT1oFFEQx//3lbvs7a6NNoKwoKYO2iooIlbiNn50J4diJ2ehIFpcFfZQYSsjaLGaQjmEWyIW\n",
       "kcAdsVMIZ2eC4oEoKLIEBJFg4fuYvfhe9m04Bwbe+82+2XkzO7NAnkwPpebLkhmP+OKj4dwz0nyZ\n",
       "CrehlQ++wG/55rvh3DfSfLFGOnFj66bAD3gC2tnHnFmp22VRjVQ3vwNWBXYjwI6zvVdDqTt5f6yb\n",
       "54B+xLHzptudN1x5nnQn7+4xzfwLOBML/DsIbhu87ycdf0JHDu1VvUtia9mzfjLvnsCXgY7B+z3S\n",
       "VI6H7obqXRJHlHU14fKZv/MP0PAEPqHVvH73SpOWt0jTkPah1Fa8E6m3tDZhsTcGAldRTPvFWj48\n",
       "tC5ElR+03y3VEkElfmkTVU8GeS1JvrIVkcpGZmY4tofVlL5f6sJ5BCyr3lMptNHzldiJ6N55Vfux\n",
       "wNOjc2y/MPMFZV6cky8Zys5Mb4C++s0QKbe28s6vhAD4FEncucTucr2yCZcb1teMVe3FuFoPFe+S\n",
       "OKPMbhL4BXtFabbSwgI3vPpnJr0mJal5zg1biZ1IaaC3YWztIbyL1aUQFy/ifBAE3sOzWw+dIk2L\n",
       "1Tx4/4D6zUji+vrkWZnxCTtsFvTC2no0xQ2lJ8w44SR4mt0uY1wIG6dh+6L7/PFUMk+xbv4U03C5\n",
       "uXgUuMOXz5O58UU7MDdy3gTOxEWW9//4e9TCSfCkf741I/4L8LO11gXVv1cAAAAASUVORK5CYII=\n",
       "\" style=\"display:inline;vertical-align:middle;\" /></a><br>"
      ],
      "text/plain": [
       "addCancelReverse: forall_{a in Complexes} ((-a + a) = 0)"
      ]
     },
     "execution_count": 8,
     "metadata": {},
     "output_type": "execute_result"
    }
   ],
   "source": [
    "addCancelReverse = Forall(a, Equals(Add(Neg(a), a), zero), domain=Complexes)"
   ]
  },
  {
   "cell_type": "code",
   "execution_count": 9,
   "metadata": {},
   "outputs": [
    {
     "data": {
      "text/html": [
       "<strong id=\"addCancelTriple_12\"><a class=\"ProveItLink\" href=\"_proofs_/addCancelTriple_12.ipynb\">addCancelTriple_12</a>:</strong> <a class=\"ProveItLink\" href=\"__pv_it/80eea350e3947abd3ec9d21e77157ce3c33b18940/expr.ipynb\"><img src=\"data:image/png;base64,iVBORw0KGgoAAAANSUhEUgAAAOwAAAAVBAMAAAC3YB/2AAAAMFBMVEX///8QEBCIiIhmZma6urrM\n",
       "zMxUVFQiIiJERETc3Nzu7u6qqqp2dnaYmJgyMjIAAAAcRTyBAAAAAXRSTlMAQObYZgAAAypJREFU\n",
       "SMe1Vl1IFFEU/tb90Z3ZWXsI+pFg0/4eelgMIkrLiOip3JesCFKWJAqKLUgqetg2iFF7GBAq+oEx\n",
       "6Ye13MWQMgQXxYJ+ZKCHUkgWTAmJTaKg1orOnbv+zOwUo9CBM/fec+49373nnHvuAPOiWzm2Sd2W\n",
       "UlEB0qzz3qYZIcrZztQLEcCjmMX3l9DnKPCSDSZswvoVzrbmBgk7nSceJe4ArlHjjdqEfZPjf1Fn\n",
       "ri1O0qcvTz1F7AvAr1KTtAl7Nsd2YKvJMFrNWleWBWARpBfx+FWbqN4IZ1uwz3VPV5m0Pn35B+C7\n",
       "LJ+3CVsQ5IyW/pWqaUcV5cuNsOOlWwglaI54uIxc2w/UA40WEHvyswFFGmfXMnw2qbYr/kkDrPBb\n",
       "TSiQdCuDGUYsmZCYEH4AI8AOU76Jl4+EMXefT541BHivMMm5VcMm03VZAWfUACtmURyAaA5Jr4ov\n",
       "wGOygwJtenHPBk3Yr7o/MW+wNGvvr8SdJhxKcb2jivM2FafYuEM/xRj1nFkUBvi5TmYy40ySRiIF\n",
       "96QJdiuEn0AtHUsrnJa9645Dugn0sPyn6yk1X1cxlIJogl0K4ZvRmiOKRMhwWrq21cl82FG4pnRY\n",
       "b7qGhm1rxuBift3ZRSJqa0uPkf8pjgfJnGJwMu1XNJmjg/UaM7lYY05xRWZjy3yAX8wx2EW9xsPk\n",
       "3tPuLPxMPjzEl61Vy/TCKT1UzCklTMGTNpbbRBInRMUAW0XxzqXUHPrKEoOlFB7RjpxBdwRtTP40\n",
       "Zy+GEYGdXmyfhWVpxjiGt3UpY44HpAaf4bQerYhmOlMm2OO4SN8Kti/KBUeyoA77ZFkO3NjL9Yux\n",
       "0X1GlmPertBsiYlwvlt6IGysA0J49ZVVxgtU/ppFOGSCbVvP8pdloUQ3P6EUDaseJnfepiXUZlGC\n",
       "OibYTLtSF1Acdbpn/TpNXyuHUrsbvpBebkLo8zbhnBTFAFO1DLDSbf8piM8d9FlOmbHnCndWAs2s\n",
       "+yBzKeQuQc0rihi7u8Lgx/qZECqc7ZLFwwf+8BlqLsU2V2N4s06OLfSZn9mmBTXO729k3j81Q5ZS\n",
       "6a/+0vB/6Q/W7uzpVg/1vQAAAABJRU5ErkJggg==\n",
       "\" style=\"display:inline;vertical-align:middle;\" /></a><br>"
      ],
      "text/plain": [
       "addCancelTriple_12: forall_{a in Complexes, b in Complexes} ((a - a + b) = b)"
      ]
     },
     "execution_count": 9,
     "metadata": {},
     "output_type": "execute_result"
    }
   ],
   "source": [
    "addCancelTriple_12 = Forall((a, b), Equals(Add(a, Neg(a), b), b), domain=Complexes)"
   ]
  },
  {
   "cell_type": "code",
   "execution_count": 10,
   "metadata": {},
   "outputs": [
    {
     "data": {
      "text/html": [
       "<strong id=\"addCancelTriple_21\"><a class=\"ProveItLink\" href=\"_proofs_/addCancelTriple_21.ipynb\">addCancelTriple_21</a>:</strong> <a class=\"ProveItLink\" href=\"__pv_it/55d4d61114ac95b74d60d1805d14ad3041f1e8330/expr.ipynb\"><img src=\"data:image/png;base64,iVBORw0KGgoAAAANSUhEUgAAAPwAAAAVBAMAAACQzp4eAAAAMFBMVEX///8QEBCIiIhmZma6urrM\n",
       "zMxUVFQiIiJERETc3Nzu7u6qqqp2dnaYmJgyMjIAAAAcRTyBAAAAAXRSTlMAQObYZgAAAzFJREFU\n",
       "SMe9VltIFFEY/ta9uDt7sYegiwSbdnvoYTGIKK2NiJ7KfcmKIGVJoqDYgqSih22DGLWHgaCiC4xJ\n",
       "F9ZyF0PKEFwUC7rIQg+lkCyYEhKbREGtFf1nZnb1zI61m9AP/5wz3+H83/kv5wIUJTc1LVJ6DFGn\n",
       "BKRY512BZoSwqkWIcC4E2CQ9fG8RfQ4DL9jPZIG2PJKqxYjHR2tI5cFjpJ3AVWochTr0WtN86ZoT\n",
       "KYvTpz9veJrU5YVHpiZeIP1pTYuhryUCtOlHLRmWmAVwP49GrxTI7gipWhT9MyUDft2oSzHzHvgm\n",
       "imcLpC/xqZqTSwPLZZ7MUV21lEcmKjYRm09fEcFKCvkA0Ag0G1Dtyq8W2JOq5iK4BJ90vm6VPFMc\n",
       "IvySYxLcirWhNBNWdIhNCt+BUWCbri6dFw8FMXu9j582edVeaVzVrLQlsYGnF5bBHOYQZwZlXjj1\n",
       "KeuT8Rl4RPZQknVI6F2XFPbK1o8sOoymY6AGt1twIKGOm/yqdipejGOLjBOaV8fT6QnqmTMo9fJI\n",
       "CrEErFM6+s0QfgD15GayNIu97YnCfQPoZfuFtre79ZqM4QScOvqsLIbwlffeFEYswCG07Wvj+fRj\n",
       "sEwr9I5UHf22rxqHhcV7ezdB1NZXHKG8UH73kznJMPi0fucUT0+O9vFIWZIFyRKayT2LCX6yQGEH\n",
       "9ZoPkqWT1gw8DB8ZVqetliuVA9n9QJqr9IRp2FI9PH0cx5wSR++netBKb5Z8YYXDSg8PaWVmnzWE\n",
       "doY/0exFMCqwaDg7ZuhZOc7eQhG8aUhw9Havu8nFIbaknWaYEzr6ozhP32q2PqoVU7ykAXtEUfRe\n",
       "362OL8R66ylRjDi6AzMbLQQtjKrcqdgX9POVH1x5eQWPVL1iFRDQ0bevZVEcZ+GlkyMm2UdkG8PN\n",
       "t2gKtRmUo4EBG2l18jwOXUXuGt+GWVdMUv1OuALKsRVAv6MFZ9xhDCon2yC7Gv525UT/jPQbTsrZ\n",
       "tQS7aoBW1r2fvhCwlqPuJWWSVbkw9KExV3uSqsWKwYUL9cLlznTKvXZWqc0aMTLf50Zu2QbSXNzr\n",
       "6J8fW8OGqHvOOCbxf+Q3o5H7yEqvdeoAAAAASUVORK5CYII=\n",
       "\" style=\"display:inline;vertical-align:middle;\" /></a><br>"
      ],
      "text/plain": [
       "addCancelTriple_21: forall_{a in Complexes, b in Complexes} ((-a + a + b) = b)"
      ]
     },
     "execution_count": 10,
     "metadata": {},
     "output_type": "execute_result"
    }
   ],
   "source": [
    "addCancelTriple_21 = Forall((a, b), Equals(Add(Neg(a), a, b), b), domain=Complexes)"
   ]
  },
  {
   "cell_type": "code",
   "execution_count": 11,
   "metadata": {},
   "outputs": [
    {
     "data": {
      "text/html": [
       "<strong id=\"addCancelTriple_13\"><a class=\"ProveItLink\" href=\"_proofs_/addCancelTriple_13.ipynb\">addCancelTriple_13</a>:</strong> <a class=\"ProveItLink\" href=\"__pv_it/ba38502166dec42b57de51d6f5fe840768e207c40/expr.ipynb\"><img src=\"data:image/png;base64,iVBORw0KGgoAAAANSUhEUgAAAOwAAAAVBAMAAAC3YB/2AAAAMFBMVEX///8QEBCIiIhmZma6urrM\n",
       "zMxUVFQiIiJERETc3Nzu7u6qqqp2dnaYmJgyMjIAAAAcRTyBAAAAAXRSTlMAQObYZgAAAytJREFU\n",
       "SMe1VltIFFEY/ta9uDu7s/YQdJFg024PPSwGEaW1EdFTuS9ZEaQsSRQUW5BU9LBtEKP2MCBUdIEx\n",
       "6cJa7mJIGYKLYkEXGeihFJIFU0JikyiotaL/7KyuZ3a2xod++Oec+c+c8/33M8CC6FaOTVKvodQt\n",
       "Ayk2eW/yGCGiceHChbDR9w5ZL7m/hB5HgZfsZcokrFfW2GDFb6hmqkA0TtwFXKPBFTEJ+ybHeerO\n",
       "jWUJww0DBZIZYo8PXoWGhEnYszkuhK1VDDe06wW2DHPCIogvYrGrJlFdYY0NYJ8XiUpAJ/Bkt38A\n",
       "vkvSeZOwJX6N0Ta4UuFhJyu26FSsrlpOKPqQe0OV5NpBoBFoNoDYU5gNcKoa25bhM2+t8FuJ86m2\n",
       "XfZOA2L2lOE0I5ZMiE8JP4AxYIcu39yXj4QwX88nz5p82qw0oXG7ik08rDuDMh+XwytgpUR16+uq\n",
       "X8EX4DGdgxJ19tu+DaqwX7F/Yt5gadY5WIM7LTiU1NYtAY23KTiVs+JkOj1JM2sKcfqoK2vWBBNk\n",
       "UEp62Kd1sFsh/ATqySy1dFb2rjcG8SbQxyqCfCa2XlcwkoRbB7sUwjfeWirbWq4cLBHEgwaw47DN\n",
       "ZGFdqTp67VgzARvz684eEtFYX3GM/E9xPEi7Zc7JpK97moctU5kL5hHZ3s92h/OxZV7BL+YH7KJZ\n",
       "82Fy72l7Bl4mHx3R9q1VKrONU3wo61NKmIEj1cvDBiiYHGwCJ6j3ivrE/MoSg6UUHpFGVr89jA4m\n",
       "f5o7L4oxgVnv7szDsjRjHMXbhiQH61CdfKk4fWKTh85N6mCP4yI9q5mmFHpLoqQB+yRJ8t3Yq60v\n",
       "xkb7GUmKunqC+RYT1vhuxYFQgC+gqte6bhxafWUVxTyog+1Yz/KXJZ1IQYnLzlHFweTW27SHxgzK\n",
       "0cAEm0kr5Z/NsQjdM77IZsvKItfvhieY7S5BDLhacE6MYIgttQ2x1l3sKoj9HXbAUDp3ni3UXQO0\n",
       "sumD9KWgvRx1ryhArCaE4Y+NcxGTNTZLBhcftIuP67kU21zX0YZ1UtTcNV+EiqjYvLC/kQX/1IwY\n",
       "SsWi/lLxf+kP2Gjs6SUjSdIAAAAASUVORK5CYII=\n",
       "\" style=\"display:inline;vertical-align:middle;\" /></a><br>"
      ],
      "text/plain": [
       "addCancelTriple_13: forall_{a in Complexes, b in Complexes} ((a + b - a) = b)"
      ]
     },
     "execution_count": 11,
     "metadata": {},
     "output_type": "execute_result"
    }
   ],
   "source": [
    "addCancelTriple_13 = Forall((a, b), Equals(Add(a, b, Neg(a)), b), domain=Complexes)"
   ]
  },
  {
   "cell_type": "code",
   "execution_count": 12,
   "metadata": {},
   "outputs": [
    {
     "data": {
      "text/html": [
       "<strong id=\"addCancelTriple_31\"><a class=\"ProveItLink\" href=\"_proofs_/addCancelTriple_31.ipynb\">addCancelTriple_31</a>:</strong> <a class=\"ProveItLink\" href=\"__pv_it/c3569bf3a226b46154117d651439324dc6cd0a310/expr.ipynb\"><img src=\"data:image/png;base64,iVBORw0KGgoAAAANSUhEUgAAAPwAAAAVBAMAAACQzp4eAAAAMFBMVEX///8QEBCIiIhmZma6urrM\n",
       "zMxUVFQiIiJERETc3Nzu7u6qqqp2dnaYmJgyMjIAAAAcRTyBAAAAAXRSTlMAQObYZgAAAzxJREFU\n",
       "SMe9VltoE0EUPWkeTTbZxA/BRxFi6+vDj1BBRFuNiPilzY9VEWwJFlFQomBR8SNGkG3rx4Kg4gNW\n",
       "iw9SbUKlaKXQ0FIFHyXgh7ZgCdQWKRKLKGiq4p1MkmY3m5r44YW7M3t25p47996ZWaAsuZnRMqVP\n",
       "F7XLQIJ13pdoRghyLT7gXEAPtsha5P4iehwGXrKX6RLpnTLXeUZ4dL1KFEATpN3AVWpswRLp32S0\n",
       "UHoyrSuqAbgMFkyYJXW44VSoiZZIfzqjxekbFF36W9rxphQLygKIL8LhKyWy2wJc56F/Dl16p1cz\n",
       "3pE28wH4LklnS6Sv8HDNyaWh5Yqabap6kxqw1dUuJTZtSTj9NRTyIaAFaNOh2lVYLbDGueYiuASf\n",
       "1YsVfisRWUW/VXbOAGLa2kiSCSs6RKaFH8A4sE1Tl/aLh/zI9/fJs1Y371VGueYyGscGNb09BZdb\n",
       "5c8yGKmw7dqUDSj4Ajwme6jILkjoXxcX9irmTyw6jKZrqB532nEgxr8bvFy706uYxBYFJzKrOp5M\n",
       "TlHPmEAkpgJSqCR/zDMa+s0QfgJNtMx4ZRZ71xeGeAPoZzuIYih2XFMwGoNdQ5+VxRC+qVdP274h\n",
       "mg8Ygoj4dOgnYJpN09sSjfTauWoSJhbv7b0EUdtUfYTyQvndT7Nl3eCT//YZNb0rzkKSB1AsBpiV\n",
       "wFzuWVDwi8UFO6jXdpAsnTSn4GT42Cift1qpSR/I4kO5WOkJs7Ak+tT0Xkq2ij6KY3S2i9pC/soK\n",
       "h5UeHpFnRo85gE6GP83YC2FcYNGwd83Rs3LM30IhvG2OqdgscatHBVjdYquD7Mc09Edxnp51zGMq\n",
       "DUO0ohl7JElyX9/Nvy/EevMpSQrZen1zGy2QDSOXu9X7/F71xqt9rdmJ/pWXV1BN+DT0nWtZFCdZ\n",
       "eClZEdk6plgYbrxNc6hNoQrNDNhI3iklH7pFgHv692N2KQa5aSccvvQp5cOgrR1nxCCG0yfbMLsa\n",
       "/nblhOcHBnUn5eya/D31QAfrPkhe8Jmr0PiKEseqXBj52JKrPZlruaJz4YJfuKoznXKfOb14s0YK\n",
       "lfe7UUSKuNxW3t/RP/9sjeqiYtE4xvF/5A8SBfvIY1XCAgAAAABJRU5ErkJggg==\n",
       "\" style=\"display:inline;vertical-align:middle;\" /></a><br>"
      ],
      "text/plain": [
       "addCancelTriple_31: forall_{a in Complexes, b in Complexes} ((-a + b + a) = b)"
      ]
     },
     "execution_count": 12,
     "metadata": {},
     "output_type": "execute_result"
    }
   ],
   "source": [
    "addCancelTriple_31 = Forall((a, b), Equals(Add(Neg(a), b, a), b), domain=Complexes)"
   ]
  },
  {
   "cell_type": "code",
   "execution_count": 13,
   "metadata": {},
   "outputs": [
    {
     "data": {
      "text/html": [
       "<strong id=\"addCancelTriple_23\"><a class=\"ProveItLink\" href=\"_proofs_/addCancelTriple_23.ipynb\">addCancelTriple_23</a>:</strong> <a class=\"ProveItLink\" href=\"__pv_it/6c5197692aa7f5e617a42c99c06fc7ff54498a440/expr.ipynb\"><img src=\"data:image/png;base64,iVBORw0KGgoAAAANSUhEUgAAAOwAAAAVBAMAAAC3YB/2AAAAMFBMVEX///8QEBCIiIhmZma6urrM\n",
       "zMxUVFQiIiJERETc3Nzu7u6qqqp2dnaYmJgyMjIAAAAcRTyBAAAAAXRSTlMAQObYZgAAAu1JREFU\n",
       "SMe1Vk1oE0EU/tIkbbPJrh4EwSIE69/BQ1HwIK1URDwpuVgFwZZgEQUlHiwqHkIF2bYeFgQVf2Br\n",
       "ESXVJlSKVgoNLfWgUha82IKl0FakSBDxoKmC8/Ztms4mpRvBgcfMfrvffG/evHmzQEXtoWMe23BZ\n",
       "NGwAszT45HEaJWnb040ev6823IhNPQu8o4dFj9NoBtucVzdnSyCiDgB3RRdKepzmg2NLBWBwDcJY\n",
       "CULUSBSaKbqMR9krbIG8V9leN2BTlfVQ36ZSdzyqhhJskYRXWa3ZBTB1Hvip69c8ylY1sGnx+ows\n",
       "G2rcvcnloo1EGtx+2NRxoB3oKiNxtDQbUGuxpReVX7LsAUP7Jn/LiGrPMpmjZuchU2eAg658C988\n",
       "E8dKP1+96YjyqCbDNmriuySrbIZfTksHCSdcnjP1pZgHVVbh25E9lnLCDH6laFAY+8eb8Lgbp7L8\n",
       "3tfMth/Kb17ExVzusxj586gh1wbsZS0UkaArBg61VSzLqilgH4dTUB8AI2K8ThxPteeeiakswi7Z\n",
       "OQSWpNX6kkjHpOkdpESWqUI2NNsiHvu2LyBAcT00JCDRt245J+IvMv6kYBtykP/QYlbKprMYlad3\n",
       "kECiuLcUFod6WIy6TovwXgrmoRE+PcW8HWa9XTjV50ZJSv1AryXLZnAhLBVCB1HdiclUkVJ4ITzy\n",
       "NwQT6CP8tVO+OzGj0OrD/cXpKM3IzuO6fG5ro2pHRE56RvxZlyxTG2kXxdb7MlVtOK7revT+MX6/\n",
       "AXuDl3W9MzRU3DQKGVnfLkuWVeLbbm+VM5kRLeaSZSolnSrKY9qonTarCfc/EhzR51GHNgL2Ca9M\n",
       "uTgW21pV6kn5G6JwrHxG6xFEYnZ1iWEs1I2rahIT9OrWBJVu+SpYbqmKrwLwVeCELz7YBPTQ8Fnu\n",
       "RixYh5b3YoPo7CqTX9qXd8xgw79ffOCLT6q5Ym+dUsXdTr2z3DXvua3iYldlfyMV/9RMlUXVVeNl\n",
       "4f+2vztd7I9a4+XdAAAAAElFTkSuQmCC\n",
       "\" style=\"display:inline;vertical-align:middle;\" /></a><br>"
      ],
      "text/plain": [
       "addCancelTriple_23: forall_{a in Complexes, b in Complexes} ((b + a - a) = b)"
      ]
     },
     "execution_count": 13,
     "metadata": {},
     "output_type": "execute_result"
    }
   ],
   "source": [
    "addCancelTriple_23 = Forall((a, b), Equals(Add(b, a, Neg(a)), b), domain=Complexes)"
   ]
  },
  {
   "cell_type": "code",
   "execution_count": 14,
   "metadata": {},
   "outputs": [
    {
     "data": {
      "text/html": [
       "<strong id=\"addCancelTriple_32\"><a class=\"ProveItLink\" href=\"_proofs_/addCancelTriple_32.ipynb\">addCancelTriple_32</a>:</strong> <a class=\"ProveItLink\" href=\"__pv_it/e3e2c4c88322d868246571b0405b2847cf9fc3100/expr.ipynb\"><img src=\"data:image/png;base64,iVBORw0KGgoAAAANSUhEUgAAAOwAAAAVBAMAAAC3YB/2AAAAMFBMVEX///8QEBCIiIhmZma6urrM\n",
       "zMxUVFQiIiJERETc3Nzu7u6qqqp2dnaYmJgyMjIAAAAcRTyBAAAAAXRSTlMAQObYZgAAAupJREFU\n",
       "SMe1Vk1oE0EU/tIkTbPJrh4EwSIE69/BQ1DwIK1URDwpuVgFwZZgEQUlHiwqHkIF2bQeFgQVf2Br\n",
       "ESVVEypFK4WGlnpQKQtebMESqBUpEop40KjgzL6N6UySuhF88JjZb/LNN/PmzZsAddldx13aaFU0\n",
       "ZAB53nnvcholafvDtS5/32jIiE09CbzmH4sup9EM8nm3y8xXQJz6BLjJmmDS5TRvHf9R+yfDwtdE\n",
       "xTinhiPQTNZkXcpeIPcV3coOyMM2VVkN9VU6fcOlajBBHk64ldXapWGifgC+6foll7INUXIt3iLF\n",
       "J9i6fZ0oS0g4KmeHTZ0EuoFUFYmDldmAJos8s6h8F0f2GNqSKEuIas8yXeBm5yFR54C9Ur6Frp6I\n",
       "Y/k6n7/siVAvkCUfN/FFzNj18CYFWQcJycdB1GdsHjRYJfbYDks5Yvo/82jwMA5NtuF+H47laNzT\n",
       "Tr4byk9+D+xNLLCet4hAhLZ1tlD4WEb8S5IsUTvZtqxACXs3moZ6Bxhj/VXseqr9t0zM5BCSZOfh\n",
       "E6+QJ4lMTNitg1TIEpXJBvMd7HNw8wJ8PK77RhjE2s4Np1j8WcYfZWxDDPIvvpnllslhXMxkB/El\n",
       "ymfLg+BQ97Ne6jgL7zl/ERrHZ2eIt8VssQun+tioSKmvGLBE2SzOhAxBlhBVTkyispTCU7Yib9Sf\n",
       "wCDHXzjluxdzCt99aKgsy9OM+2lcllI8ovaEhd06iDcnyRK1lZ8iO3pPtqELh3Vdj9w+RONrsNN/\n",
       "Xtd7gyOxcolJkA9us6TaG990faOYyYRoMUmWqDwNVVYeM0bTrNnIce89xmFtEc3o4sAutipTLI4r\n",
       "mVilHlR/IUrXymN0HkA4ZleXGCaCfbioJjHFh65N8dItPgUrWPovTwHoKXDCFx9uA/p591HhSszf\n",
       "jI437ID43VWmP3X/OUODHP/+8IEePqHmsrN1ShU1W/Xeas+8a6uxxFR9/0bq/lMzUxVVa8bLwv+1\n",
       "35+i7I/PhFjFAAAAAElFTkSuQmCC\n",
       "\" style=\"display:inline;vertical-align:middle;\" /></a><br>"
      ],
      "text/plain": [
       "addCancelTriple_32: forall_{a in Complexes, b in Complexes} ((b - a + a) = b)"
      ]
     },
     "execution_count": 14,
     "metadata": {},
     "output_type": "execute_result"
    }
   ],
   "source": [
    "addCancelTriple_32 = Forall((a, b), Equals(Add(b, Neg(a), a), b), domain=Complexes)"
   ]
  },
  {
   "cell_type": "code",
   "execution_count": 15,
   "metadata": {},
   "outputs": [
    {
     "data": {
      "text/html": [
       "<strong id=\"subtractNatClosureBin\"><a class=\"ProveItLink\" href=\"_proofs_/subtractNatClosureBin.ipynb\">subtractNatClosureBin</a>:</strong> <a class=\"ProveItLink\" href=\"__pv_it/2a3e3ebcffe2841907c42a28bcefb77af8df67410/expr.ipynb\"><img src=\"data:image/png;base64,iVBORw0KGgoAAAANSUhEUgAAAPsAAAAWBAMAAAD0hvfJAAAAMFBMVEX///8QEBCIiIhmZma6urrM\n",
       "zMxUVFQiIiJERETc3Nzu7u6qqqp2dnaYmJgyMjIAAAAcRTyBAAAAAXRSTlMAQObYZgAAA29JREFU\n",
       "SMe9ll9IFFEUxj93dvbPzM7aQwQlwaT9oyBEoYcy2ojqpXLrQYsEF1HCHmIhysiITYJWxVh6qAiC\n",
       "CaHCqF0KIaNoSyOzgiEKKiqWqCCjUOjBfIjuuXdWZ9Ytq60OnN27v2HuN/ec794d4K+E3xSZN/p+\n",
       "wjM0eFWo/AUrc0M5HAU8CSe8PHbMwO3REPEHBIYLlf9g5ZQIlrNnyOTALjkCZYTzU1S6WIHqWrnI\n",
       "qVGcYh93cuDOcCkwg/OgAQRSBcp7EyKnRjWbHmetH89aWnghGjs8YUQ514Z6ek4WWvuTVk6Ne7wD\n",
       "IT7etsSCzTXKMMkTH4vHDxYqX2alv6pijvPK+9KVrLq8L8qEw5pVvYbkiTcB7Xlm3JzrF7h/wMlL\n",
       "Vq5JBEeczv9mJBPQ+D2TG6AZA5rO5ImvdTqztirkmoXsEwPyngHMi9DIx39bXHW4tVWkMheS08Xq\n",
       "OIp1qNHJ+4W8x2hijLgXrux5odyoNNXYEFZQv8iOF/tX4VrAkIzJ2zmH+sahMlOkNA6vThv7M8U7\n",
       "NpIySKYh85JsIZgR8kokyJxPPGB6s7M86+uB+lhCmnYMK5XWedrATb08gEl54tA+IZ98UQzJcO62\n",
       "r05Z8qdsq0edbMn7MzWMdC98BzfVVd2xXSf5+tJdrC8senuP2+WJu7i6UrE77Cw+W+itnG1vYrUB\n",
       "Ny9+kV1eS7Eucd7eyKbaK48jyMsaHnpK8ouMMnEg9wYu1dnkGXe38tH5cL3htF4yhd2qY/sXh5gf\n",
       "LOtJepYyt+N+zOJX2TNI5XIU3UI+wN3VhtcKd1kv0v02eeKDfB9XojY7X79In67tCzhW7zF9bBIp\n",
       "PVEjHh+FKwRn1kRRyhVBbTwe19Ww34zyVi6X98fjbUz+jNcmzziUQfJfCRZm59sgUmlYcGK+c+NV\n",
       "PCIHiCadOyKqVTsaE38EnGsMJhO+F4ZHrB7rqErjbPqIWL17q02eOLAsBeUrunqmPXRFm6zvjUdb\n",
       "Mvk4ihL1mxDgDxOClvZ34IAWw1269AR4aZMnzuK1idnyF3Pavxwed6bj7oYrq4BOquFbICKXoOYh\n",
       "E2Q1dh8KwWOTJ05xHeuXlk28YLQj/9kpOpD5Ne5ivbdOK/G1mPV+Inx/8Lohbkz8Hs//fuT705et\n",
       "57/JAfNn8irbIfEO/OeQ/sGc3wFClfXRCdUmsgAAAABJRU5ErkJggg==\n",
       "\" style=\"display:inline;vertical-align:middle;\" /></a><br>"
      ],
      "text/plain": [
       "subtractNatClosureBin: forall_{a in Naturals, b in Naturals | b <= a} ((a - b) in Naturals)"
      ]
     },
     "execution_count": 15,
     "metadata": {},
     "output_type": "execute_result"
    }
   ],
   "source": [
    "subtractNatClosureBin = Forall((a, b), InSet(subtract(a, b), Naturals), domain=Naturals,\n",
    "                               conditions=[LessEq(b, a)])"
   ]
  },
  {
   "cell_type": "code",
   "execution_count": 16,
   "metadata": {},
   "outputs": [
    {
     "data": {
      "text/html": [
       "<strong id=\"subOneInNats\"><a class=\"ProveItLink\" href=\"_proofs_/subOneInNats.ipynb\">subOneInNats</a>:</strong> <a class=\"ProveItLink\" href=\"__pv_it/22b15a1bb1c3fd235771f9bd1f952340d9075bbe0/expr.ipynb\"><img src=\"data:image/png;base64,iVBORw0KGgoAAAANSUhEUgAAALcAAAAUBAMAAAA9yLHsAAAAMFBMVEX///8QEBCIiIhmZma6urrM\n",
       "zMxUVFQiIiJERETc3Nzu7u6qqqp2dnaYmJgyMjIAAAAcRTyBAAAAAXRSTlMAQObYZgAAAoJJREFU\n",
       "OMuVlU1oE1EQx//JZvOxX+YgHgR18etqaUBBI0RECoKQU4ooNJQWLYjmoh4UWbyYKEpO1uNKD0oO\n",
       "TdSDFARj60HjJQiCCmpBe7CCtLfSk/P2vU03m921HZhkMi/7e/Pm4y3wf8l0uQaKWg9ZmCNdZMa3\n",
       "SPhTocEy5fs9u/bAxpvVQpJ2/cAcy5Hw30IH5ZlNML/zvlyGsgKFwn7Ezm1FsfUhrgOiXLpCcM30\n",
       "uS8U9wJZYB4w2HorCp6qcw2QH/SwkhUx3Ll+yzEm7iaLqACPyddpNKYjszItNASOX44p37bdIpSU\n",
       "ZQY3CsBatXpz8DFtw9wnNJMf3hkEX+B1tHsVVs0Sg2uUykmgNgiXPAUSeqJurATBv/uaZgpvdZPg\n",
       "OlX0pFPXCPgNrsouSFYQ/KVjWh540p4kuEqaQtw7IKP5QnxHH3w7V2kdKdYYs3+ZLG3Ax5yU72Ze\n",
       "AVfKBlVZpnNq3VSvt17luqrVwVEtdyR3zAePWWgWgyJ34Blv5DgvC3hmseS6P881oH6U0A5KS7ON\n",
       "14HdMuKYWS9cb9FeCUoLahP0MXNwCQk2Keq5s2Y7qKDNFi77LxJPQYd7TuoQvLd4QfGCdlCuyusw\n",
       "nIuo2PnUD1/gmjb1a5ov8kMMnuej1hvEP6wfCCwRBtuoTNKQXMEMh2usQT3wEa7K+IGH+/vZh/f8\n",
       "pF7gtVUunhYdsUpRswY0WIV02j7WipcxWq1WTbWY6dJR5E2Nv0Ot8O/EOzH+rjxxjWY9/dVO8shx\n",
       "ytzcxSVm2QxZmHeNWH3sDDTnHAXo7f5/1RA4xO79HXai3mgmxp8fB+6x7NI9VN7KyyJs27Qvk3HK\n",
       "+VZfc3pYNb4A/wA5s67dRJBDGwAAAABJRU5ErkJggg==\n",
       "\" style=\"display:inline;vertical-align:middle;\" /></a><br>"
      ],
      "text/plain": [
       "subOneInNats: forall_{a in NaturalsPos} ((a - 1) in Naturals)"
      ]
     },
     "execution_count": 16,
     "metadata": {},
     "output_type": "execute_result"
    }
   ],
   "source": [
    "subOneInNats = Forall(a, InSet(subtract(a, one), Naturals), domain=NaturalsPos)"
   ]
  },
  {
   "cell_type": "markdown",
   "metadata": {},
   "source": [
    "Need to deal with cancelation in 3 operand cases in which only a single term remains."
   ]
  },
  {
   "cell_type": "code",
   "execution_count": 17,
   "metadata": {},
   "outputs": [
    {
     "data": {
      "text/html": [
       "<strong id=\"addCancelGeneral\"><a class=\"ProveItLink\" href=\"_proofs_/addCancelGeneral.ipynb\">addCancelGeneral</a>:</strong> <a class=\"ProveItLink\" href=\"__pv_it/2690926fbfe7b16d299ba3bf57b10eae4e533cbe0/expr.ipynb\"><img src=\"data:image/png;base64,iVBORw0KGgoAAAANSUhEUgAABkYAAAAZBAMAAACWbY/WAAAAMFBMVEX///8QEBCIiIhmZma6urrM\n",
       "zMxUVFQiIiJERETc3Nzu7u6qqqp2dnaYmJgyMjIAAAAcRTyBAAAAAXRSTlMAQObYZgAADO1JREFU\n",
       "eNrtXAtwVNUZ/pPdu4+7j6RIWx7SWZJCkVe3YYqW52IH03Za2NCpQK3NTpRaWrCp2FCV0TWd0SCl\n",
       "3jY2UKydK4yiQciaymAclC1BHEHoDrS2ULDL8FBojUwJlCQiPa+795774u4GKcGc4exezn/u/53z\n",
       "n/875z/3ng1Ab9JdSyXoT/3pGk7upct6p6C234b96VpPTZ9gjjzFcn/qRQqYBBL+zLXQszaWEUey\n",
       "+OtwwRwJ469QXzSKmKRZk374sQA991kb4Yvyx9K3h42zl/Bw9NLNcZ7mXUe/F5p0+OoaaKWlDpNi\n",
       "J49EM+LIbvz/UwVzJJhCX2G5D3IkLNGsSYvtI9NCkY7ayN62vzVWaOeixrKS1KWbkwdoD/3aZJSc\n",
       "vMpGuie/6sxOYpZmxJHVeHFMFswRcuvqvriW7mfZcVpnLWo1DUMi+jFqzXs9iFoHOREH48xBzpad\n",
       "uYwzUHc3/Q4a2hGKOrOPZSfMS1sLM77aUqdKFDttZ7mJrAHBVOH7EbwE7e6LHLmP5bxIVcgwqWOU\n",
       "N0dChXJEGWct5BtGl+kFaJBFc2KpvpJXuro4EqzNTwmzEzzNchOEdjU3r+rFnv1Qc/PzfXHr7q+l\n",
       "2fnu9EyBHFHHKG+ObCuUI2+YQB41ukwvQHPR3DF9pVVwdXFEG3c6UaLEouEYzU0A5xsalvWCIyUN\n",
       "DY+m+yBHiqM0Q2P7cDrpiuXErrMGbD0JjYcWuo/smYI2KP6pOyVoHRuB/f+dkBLG7MvaWdg/pWKI\n",
       "YZjCNeUp3UBsL4tTyLKkCSS+hEDZdghNXzIZ5rw63tYJgmUjjNITZZP1LRvRo7hMYD+e6d1HxuyV\n",
       "cO9mXb9/ZyZP0Mbt1Urs0a6vVK43hAOO5AaBK1XM5NC9tdXNWupEiWonCEZpRhxZALC8FxzxxMHX\n",
       "F18k+jI0uwfDB8wmbho2XPfKBff9MEMuGgjro1Apu4cE7oOJAEvIE5taOwvPkMKnDcPUckrs4qut\n",
       "Svko1VwwzASSXG6RXAnwRvGjN6+de/kfgF8ZtxQfyS2SrmU+FmO1pG6YTZ5DFk1uyeDewadi4pL8\n",
       "QJHRHld8+h1iuw6SyIy9Um+IS3NEHQRtac5Mztybq27WUidKVDtBKEsz4shXye69WL/AhuP8tDvA\n",
       "giPuqNmjDSdpVvayOLvrrL18ety02Jui+ekM3AQgoPn8SRdt0LvIfdJQFAknINAJ1wMMCHwaB/iI\n",
       "IzNksIsDxGHgStKJVDNM22T4Dz8Qy8CTgnno4gDbQPOQ5PLFONo4IHdFPlxs517eNPzYMFqBbiiJ\n",
       "6FuGeocxt62VN9IRRqOHewcnUGEsL1BktGkAw8n/tugrPZAzxDynHKGDoPigUpozkzP3JtXhuFlL\n",
       "haRDJdRO1NkDtTQjjnihGE0rAp12hCU7YHiC1KA3zZ0SK/4MvrhX0ZYroRxBeZyh67+8q8Yusqfi\n",
       "YI6WL++si0BhSlC3tBOWiaYWMJUXxWieLsM9IExAPZGZWyGXqZ56+O0MimPFM8KZw4cXgzB2uoQ5\n",
       "4j1/g7Elezs6ftrRcQLTFTkY0jGfTqzvfq6jA5tyGogf6qsBfPtG9CGzDTQHSS9hTnsXdld4qN64\n",
       "TGu0T5dzo7WJzOXYSdA4t6T1LUtTzC8pZkeEpL1DAXhLNF9QFJ97yUPian29gYohCJy2FXb67mE+\n",
       "qJaqZrLWobcqQMqkpWR4nSpBdqLOLpymGXEkmFGW1Q3tU+HloOxS1iZx64RMILkLJuHrbn2JwpE9\n",
       "XPiBa4jzZOHfFs8VNeJwimE+8xh8Pw2FKUHukVVbb9CE0mtgKlc4MghEtBC5a+mEz/Zs21Jsr3c+\n",
       "gCd68T2pmnBE3HsxajMLFSWhxRgSHwV3j74aSpWaDTQHSS83LReou77wwRm7KXiQmRDpmZ3StyxG\n",
       "MetGRXKVSO8wekkyT1CxExFLtuIIM0Sl03WEDoKuVGMmJ0tAUdK6pe5a50qQnaizazjiz97K4q8V\n",
       "a2R4NRINKvf9va0ZAvtcgL2KomhLFI78QUhosHCN0O8Btpo3RSsukRjmgTQE0lCYktxyZK5J3VPq\n",
       "5SzWQlN84DTr3iNUgqhXHaE+hNYRHCb5aqF6DeJIZA2EOm0sjObubcZhuqBMcZpqyuCzZy4cJL18\n",
       "FIQu2Rst9svwz5i1e5Elyvh6JMPWF13LEKbY6WddCKeB9I6tI/mBYqNR963U7EcSLNZS4RxxhOnT\n",
       "lWrM5MS9W9LWmh1zhDacVsefbhprwfI70fVIvDFBafPm3xCOrJ2MdxoI67b5kTTxxDkJvkThiK8J\n",
       "WVOsuJtMoKTGzM2IeXwT1o08bhBXl/2IYLpvQ7dK9MEE2CkJlkUMYrFiPJ0weU0qcNm/wFTO9uxi\n",
       "D3iybcQWYk9QcVhvFkS2OXgQ2aIEWe6J+AmI3mzxLl6xcAruDkg3J3iOdOKgWFsNeTAKCSrZHUZI\n",
       "cokGt2tmOOFyR8CTsZmCL+BAa+1kHUdi4jCTlmHM0Gmln4gjpHd0P5IPKDNauzBS2bNr00otnDOO\n",
       "EH3YB7WlGjM5cW9SXVQeIfItdc4R0nDi7No9O/wRKQiWyPTk1ubgxu/h7+gsehQrEN/1V8yI8D++\n",
       "0c2XKBwJ4IhxfbxaBo9Maxw8YIiOfiagqTTLi78glxPM0Ebmtt5YFdZhpQTuFUrxCRpOrADzmnhg\n",
       "shfXy5Une/Xwt0Sazhmn6QlHFFMJPeCSw4NhfRqqUzAJrcB/vl2eBlG0Z1+OnxoB+2jJchb2RUJ1\n",
       "QUh38168GH7BD4QrAevidPBZeMdDkstBEDx70JV1oe0zfm6IkVRcjfaJIH4ZjxaXPBlf1KRlGNOT\n",
       "hLOUIzimwr2DI5K4zBJURdaAUqO9/xKOtqaAceFW4fgd8Ud2+rAPaks1ZrLTwVnV5c6atVTPEXXw\n",
       "TEeQODu40jRjjuCt6pot7AjCZkjj4ESUdtKzF4F4kAQzJQsA+BKFI+ShzQSYC8KfZFrjlTbDs6eo\n",
       "gDfFvLge3iGYgQ3Mc28CAeuwVJIEslZx4glQRYB5TVrgUghEwShXVtJny+bXxKgRF5Op82sXV6DS\n",
       "il0QXlyGVljxjrGy/46xa98HzyLpm/sO4RCkDtiHN8GbvmZE0+f9G2r5YVo3NqObxd46HGEORHek\n",
       "Okhy2VSxa3wGfvCme8+4HQpSDlf7hnLPPjJa/NRQsQeMLSOYvhSUjyYGePx8ivQOTuwbGbMGVZFV\n",
       "UGq0c2Q4juvHqVILx3e8zk7fmi26JVI1k50OzqrPBxNmLTWsI3Vc7/R2Is5OnhXijDkSkonDCj9v\n",
       "aKhHHHnKy1bMuQ0NDZFA3J/BAFWj0CLGleQ4chDloYAWSq9Mazz5Hb3ZilLFpC2ceCBMJJj+zWyf\n",
       "OxSIDmsl7MGaVqwA85p4YBe60SjnzqK4a003vk4Tt4T7Ilavi1t1rkQWkAIhee0rnb2ErjStc7Qw\n",
       "UGHACuxVBsupZ1Ec79mVSdOk1HGspYbQRs2OYy2aiLPDepaV34+I3XFI0HXEPYeUdIGHrhowE8ON\n",
       "EkolviTHEXx7F6xsxq5KarjWohL++avkOyi3RnhxN3JwgjkpgtcYDEk5YqGE7PEP8eIcMK+JB/Y+\n",
       "sd9Ezp1p7CVHmjnMZ5hRZNtqaPC/6z9bMCSvvctRy3rNEQ60OFnltz/TWGneCgt92AeNpZfUwQtK\n",
       "JDPz5IbXmRLi7JozjYx22TS8ji/+AnAIVqN5uRSCuMmhGITS/segXqiNaEp0HIHBQmcGuyqp4Z8S\n",
       "h+3ontUy+UD/iqTqb8FLUV58fyhJMRtfR5ZGBcfARdzdQkk4BtHfrteJBwtnCbBGE7uDfCDg26Ho\n",
       "wEatXJlxJFBPCARMOOJNFPZS87Wgo2pbwP+hL3p5IIVScIhpluoKA/VF5habno1fbg9nuUhl046b\n",
       "bJmqzFXnd6KQOLvmbDyj3SIJR6rgfjCG5umqFJokAPBSWnkMTcHCUDgJNXFNiZ4jt4wpp66Ka8AL\n",
       "HY/E0T1VkjAYfSB17prWqfjUCie+9S0SHeO3Du8tAFTQOG400WGhxF+xTyaPp7TiHLCqqSpF7sAf\n",
       "FHgWfvGtypUuJ9XfWPlvPGeYDt0/OVfYGZtn33RSq/GhGqiZepkgi5PgFNOYbrm4sCDQsOQZYXqO\n",
       "6TlbOOtFapHktMnWaZRZodnw2iXi7Lk5lPut7qgGJSJMkaC6GMX9jIfKWORKdByhs6Bsdg9794li\n",
       "O7eJWMUM5HTYKdltJiY3aVvP31MW3sDJWbqGfqvri/y/kENX2W916y+bpgMsW/yePSDd+Wsunmuz\n",
       "0MNxRPjiZPN72G+ePaNtVbaZ6DAqOWUi1t2k/sSaXX0ltAOu6aQbrU9u8nx9yOVXas6RECzil9+M\n",
       "E47oUkajzlZsh6FT4v9d9tL3hOyBr8G0aGE/PShHdkpXiiOO09Ir/Pe1Qu39f8+rP13R5F5a9z9a\n",
       "j10uDP78YAAAAABJRU5ErkJggg==\n",
       "\" style=\"display:inline;vertical-align:middle;\" /></a><br>"
      ],
      "text/plain": [
       "addCancelGeneral: forall_{i in Naturals, j in Naturals, k in Naturals} [forall_{a_{1} in Complexes, ..a_{_a} in Complexes.., a_{i} in Complexes, b in Complexes, c_{1} in Complexes, ..c_{_a} in Complexes.., c_{j} in Complexes, d_{1} in Complexes, ..d_{_a} in Complexes.., d_{k} in Complexes} ((a_{1} i repeats ..a_{_a}.. + a_{i} + b + c_{1} j repeats ..c_{_a}.. + c_{j} - b + d_{1} k repeats ..d_{_a}.. + d_{k}) = (a_{1} + ..a_{_a}.. + a_{i} + c_{1} + ..c_{_a}.. + c_{j} + d_{1} + ..d_{_a}.. + d_{k}))]"
      ]
     },
     "execution_count": 17,
     "metadata": {},
     "output_type": "execute_result"
    }
   ],
   "source": [
    "addCancelGeneral = Forall((i,j,k), \n",
    "                          Forall((a_1_to_i,b,c_1_to_j,d_1_to_k), \n",
    "                                 Equals(Add(a_1_to_i, b, c_1_to_j, Neg(b), d_1_to_k),\n",
    "                                        Add(a_1_to_i, c_1_to_j, d_1_to_k)),\n",
    "                                 domain=Complexes), \n",
    "                          domain=Naturals)"
   ]
  },
  {
   "cell_type": "code",
   "execution_count": 18,
   "metadata": {},
   "outputs": [
    {
     "data": {
      "text/html": [
       "<strong id=\"addCancelGeneralRev\"><a class=\"ProveItLink\" href=\"_proofs_/addCancelGeneralRev.ipynb\">addCancelGeneralRev</a>:</strong> <a class=\"ProveItLink\" href=\"__pv_it/1fcaa55c9efeefd7b4e52f8fc79bd12562d489a40/expr.ipynb\"><img src=\"data:image/png;base64,iVBORw0KGgoAAAANSUhEUgAABkYAAAAZBAMAAACWbY/WAAAAMFBMVEX///8QEBCIiIhmZma6urrM\n",
       "zMxUVFQiIiJERETc3Nzu7u6qqqp2dnaYmJgyMjIAAAAcRTyBAAAAAXRSTlMAQObYZgAADOpJREFU\n",
       "eNrtXAtwVNUZ/pO9dx93H6FIWx7SWUKhyKvbMEVLQBY7mLbTwoZOBWptdqLU0oJNxYaqjK50RoOU\n",
       "etvYQLF2rjCKBjFragZxULaAOILQndDaQsEuw0OhNTLlUUKk9Lzu3nvuK3c3iARzhrN7Of+5/3fO\n",
       "f/7vnP+cezcAPUl3LpahL/WlqzgJi5f0TEFdnw370tWemj7BHHmS5b7UgxS0CCQC2auhZ5tYRhzJ\n",
       "4a+DRXMkgr/CvdEoUopmXfrhRwL07GcdhC8qH0nfHjLPXuJDse6b4z7NuYZ+z7fo8JU10GpLXSbV\n",
       "Tl6ZZsSRXfj/J4rmSCiNviJKL+RIRKZZlxY6R6bFIh12kL3tfGu82M7FzGVl6e6bUwBoF/16wSw5\n",
       "foWNdFdh1ZmdpBzNiCOr8OKYKpoj5NZVvXEt3cuy67TWXtTqboxaC14PYvZBTtSpISof9JAzFXcu\n",
       "4w5UOE+/Q6Z2hGOu7WPdCeeuuRNYtNStEtVOW1luImtAKF38fgQvQbt6I0fuZbkgUhXDEW2MCuZI\n",
       "uFiOqOOsh3zD7DI9AA2xaE7qZ6zkk68sjoTqClPC7ARPsdwE4Z3NzSt7sGc/0Nz8XG/cugfqaHa/\n",
       "Oz1VJEe0MSqYI1uK5cgbFpCHzS7TA9B8NHfEWGklXFkc0cedbpSosWgkTnMTwLmGhiU94EhZQ8Mj\n",
       "mV7IkdIYzdC4bRiddKXhxK4z+m8+Do0H5guHdk9GG5TAlB0ytI6Nwt7/TkiLY9pzThYOTK4YbN4b\n",
       "1A5PGwZia3mCQpanLCDxJQTLt0J46qJKmPXqeEcnCJWPMDfkWHmlsWUjulSXCe7FM71waMweGfdu\n",
       "xrV7d2QLBG3cWqPGHtuMlYabDdEtR/KDwJWqZnLp3vrqVi11o0SzE4RiNCOOzANY1gOOeBPg740P\n",
       "Ev1ZmoVB8AGziUDDhmteuSDcB9OUkgGwLgZVijA4eC9MBFhETmzqnCw8TY6cNAlbTkidfLWVaT+l\n",
       "mgeGWkCSy42yJwm+GD568zm5V+B++JWpIdL/lBbZ0DI/i7Fa0tfNJOeQJZUtWdw7+FRcWlQYKDLa\n",
       "Y6pPv0Ns10ESmbFXmA3RHUe0QdCX5s3kzr256lYtdaNEsxOEczQjjnyV7N5LjQtsJMFPu/1tOCLE\n",
       "rI423KQZuUvi7J4zzvKpCctiX5rmp7JwA4CI5vMnPLRB7yL3yUBJNJKE4Gm4FqB/8NM4wEccmaaA\n",
       "UxwgDQVPik6k+thFgf/wA7EEvGmYgy72sQ00D0kuX0ygjQNyV+TDpU7u5cvAj7XRYgjB81AWNbYM\n",
       "9Q5jblmjbKAjjEYP9w6OocJ4QaDIaDcCDCP/22isdH/eEHPccoQOguqDamneTO7cm1SHo1YtFVMu\n",
       "lVA7UWcP1tGMOOKDUjStiHTaERdth2FJUoPeNHtyvPQz+OIeVVu+hHIE5XGmrv/yzlqnyJ6KQ3la\n",
       "vryjPgrFKUHd0k9YFppawFJeEqd5qgJ3gzgB9URhboVcpmbKwbezKI6VTomnDh5cCOLYqTLmiO/c\n",
       "deaW7Ono+GlHxzFMV+RgSMdc3Co6sWLXvRGkD43VAL59PfpQ2Aaag6SXMGtbJ3ZXeHCpeZlG0/a7\n",
       "n+vowAM1VcmPlg4hBy0ZY8syFPNLqtkRIWnvUADeEisUFMXnPnJIXGOsN0A1BIHTt8JJ393MB7VS\n",
       "zUz2OoxWBUhbtJQMr1slyE7U2cWTNCOOhLLqsrp+2xR4OaR41LVJ2jwhG0zthEn4+ryxROXIbi78\n",
       "wDWkOYr4b5tzRZ04kmaYTz8K389AcUqQe+S01ps0ofQaWMpVjgwECS1EQh2d8NmebUua7fXOBfFE\n",
       "L70n1xCOSHsuxhxmoZIUtJhXrcMgdBmroVSl20BzkPTyhWUiddfnPzjlNAUPtGoI0jMzbWxZnGLW\n",
       "j4rmK5HeYfSyVIGg0mlELMWOI8wQVW7XEToIhlKdmdwsASUp+5YKde6VIDtRZ9dxJJC7hcVfy1cr\n",
       "8Go0FlLv+/umZgi2ewB7FUXRl6gc+YOY1GHhGuHfA2y2bopeXCYzzH0ZCGagOCX55chak7anNMpZ\n",
       "rIWm+OBJ1r2HqQRRryZKfQitIzhM8tdBzWrEkehqCJ92sDCau7eYhRfUKU5XTR18dubCQdLLR0Ds\n",
       "VHyx0oAC/4zbuxdZokwNKcuy9cXQMoQpnQ6wLkQyQHrH1pHCQLHRqPtW6fYjSRZraXCuOML0GUp1\n",
       "ZnLj3i0Ze82uOUIbTqvjT4HGWrDsDnQ9Em9MUGpr+w3hyJpKvNNAWLfOjWaIJ85K8iUqR/xNyJpS\n",
       "xV1kAiU1prch5vFNWDvyqElcU/4jgincim6V6cEEOCkJlUdNYqliPJ0weU0acPm/wFLO9uxSF3hz\n",
       "m4gtpK6Q6rC+HEhsc/AAskUZstzjiWMQu8nmWbxq4TTcFZRvSvLC0zgoNngwCgmq2B1mSHKJBrdz\n",
       "eiTpEaLgzTpMwRdwoLWm0sCRuDTUomUYM3xS7SfiCOkd3Y8UAsqMtk0cqe7Z9WmFHs4dR4g+7IP6\n",
       "Up2Z3Lg3qS6pR4h8S91zhDScOLt+zw5/RApCZQp9c6sttOF7+Ds2g76KFUzs/CtmROQf3zjPl6gc\n",
       "CeKIcV2iRgGvQmvs32eKjn4moqk0x4u/oAwnmOENzG198Wqsw04J3CP2w2/QcGIVmNfEA5O9uFGu\n",
       "nuwthb8lM3TOOEnfcEQxldgFHiUyCNZloCYNk9AK/OfblBshhvbsy/CpEbCPlhxnYX80XB+CjOEh\n",
       "3UL4BT8QniSsTdDBZ+EdD0kuB0LozH5PzoO2z/jcECNpuDqOTATpy3i0OARv1h+zaBnG9KbgDOUI\n",
       "jqlw7+CQLC2xBdWQdaDUaO+/hKOtyWBeuDU4w3Gbkz7sg/pSnZmcdHBW9Qg5q5YaOaINnuUIEmcH\n",
       "T4ZmzBG8VV29kb2C0AYZHJxI8g767kUwESLBTNk8AL5E5Qg5tJkAs0H8k0JrvLLJdPYUE/GmmBcv\n",
       "hXcIZnA989wbQMQ6bJWkgKxVnHgCVBNgXpMeuB8EY2CWqyvpM+Vza+PUiAvJ1Pm1i8tRacVOiCws\n",
       "RyusdPtYJXD72DXvg3eB/M32AzgEqQf24Uvypq8d0fT5wHrD8fDasVnDLPbWwShzILojNUCSy6aK\n",
       "neOz8IM3hd3jtqtIeVydE4R2t5PR4htSsRvMLSOY/jQMH00M8Ni5NOkdHGsfGbcH1ZA1UGq0s2Q4\n",
       "jhrHqUoPx3e83knf6o2GJVIzk5MOzqrPhZJWLTWtI/Vc74x2Is5OzgpxxhwJK8RhxZ83NCxFHHnS\n",
       "x1bM2Q0NDdFgIpDFANWj0CLGleQ5sh/lIYAWSp9CazzxHaPZStKlpC2ceABMJJiBNrbPHQJEh70S\n",
       "drCmF6vAvCYe2INuNMu5d1EEi8cekZjr82duCfdHXVWrYgtIkZD8w+gVdrFEK5gwLQ4VigIV+y/H\n",
       "XmWynPYuius9uzppWpS6jrW0ENqs2XWsRRNxdljHsvr7Eel8ApJ0HRFmkZJO8NJVA6ZjuFFiP5kv\n",
       "yXME394JK5qxq5IanjWohD9/lf37ldYoLz6PHJxgToriNQZDUo7YKCF7/AO8OA/Ma+KBfY/vtZBz\n",
       "7zT2kCPNHObTrqqhwf9u4EzRkBLXz04rBHNBTznCgZamqgPO7zRWgV2zrPRhHzSXdquDF5TJVubJ\n",
       "D687JcTZde80MtrlMvA6vvgLwAFYheblfhDCTQ7HIZwJPApLxbqorsTAERgkns5iVyU1ApMTsBXd\n",
       "s0ohH+hfiVzzLXgpxovvC6coZuPryNKo4Ah4iLvbKInEIfbbdQbxIPEMAdZpYneQDwR8G5Ts26CX\n",
       "qzOODNobAkELjviSxT3UfC3kqtpGCHzoj10aSLEfuMS0SvXFgfqjs0st341f5gxnu0jlMq6bbJuq\n",
       "rVUX9kYhcXbdu/GMdgtkHKmC8EAczdPVaTRJAOCltOoImoLFIXAcahO6EiNHbh4znLoqrgHPdzyc\n",
       "QPdUy+Ig9IHUCbWtU/BbK5z4lrdIdIyfOrw3D1BB47jRRIeNkkBFu0KOp/TiPLCmqTpN7sAfFHgG\n",
       "fvCtydUup7TfWAWuP2uaDoWfnC3uHZtn3nRTq/HBWqidcokgS1PgFtOcbr44vyjQiOwdYfke07OO\n",
       "cPaL1ALZbZPt0yirQqvhdUrE2fNzKPdb3VENakSYJkF1KYr7GQ/VsciXGDhCZ0HF6h727BPFdoKF\n",
       "WMMM5nU4KdllJSY36VvP31MeWc/JWbqKfqvrj35cyOEr7Le6Sy+Zpn0s2/yePSjf8Wsunttko4fj\n",
       "iPjFSut72G+evaMdVW6y0GFWcsJCbLhJ+4k1u/pKeDtc1ckwWp/c5P364Euv1JojYVjAL79ZNxwx\n",
       "pKxOnaPYCcOgJPC7XPf3hJ2Br8K0YH4fPShHdsiXiyOu0+LL/Pe1wtv6/p5XX7qsSVhc/3+lvGPr\n",
       "rxaQywAAAABJRU5ErkJggg==\n",
       "\" style=\"display:inline;vertical-align:middle;\" /></a><br>"
      ],
      "text/plain": [
       "addCancelGeneralRev: forall_{i in Naturals, j in Naturals, k in Naturals} [forall_{a_{1} in Complexes, ..a_{_a} in Complexes.., a_{i} in Complexes, b in Complexes, c_{1} in Complexes, ..c_{_a} in Complexes.., c_{j} in Complexes, d_{1} in Complexes, ..d_{_a} in Complexes.., d_{k} in Complexes} ((a_{1} i repeats ..a_{_a}.. + a_{i} - b + c_{1} j repeats ..c_{_a}.. + c_{j} + b + d_{1} k repeats ..d_{_a}.. + d_{k}) = (a_{1} + ..a_{_a}.. + a_{i} + c_{1} + ..c_{_a}.. + c_{j} + d_{1} + ..d_{_a}.. + d_{k}))]"
      ]
     },
     "execution_count": 18,
     "metadata": {},
     "output_type": "execute_result"
    }
   ],
   "source": [
    "addCancelGeneralRev = Forall((i,j,k), \n",
    "                             Forall((a_1_to_i,b,c_1_to_j,d_1_to_k), \n",
    "                                    Equals(Add(a_1_to_i, Neg(b), c_1_to_j, b, d_1_to_k), \n",
    "                                           Add(a_1_to_i, c_1_to_j, d_1_to_k)),\n",
    "                                    domain=Complexes), \n",
    "                             domain=Naturals)"
   ]
  },
  {
   "cell_type": "code",
   "execution_count": 19,
   "metadata": {},
   "outputs": [
    {
     "data": {
      "text/html": [
       "<strong id=\"subtraction_disassociation\"><a class=\"ProveItLink\" href=\"_proofs_/subtraction_disassociation.ipynb\">subtraction_disassociation</a>:</strong> <a class=\"ProveItLink\" href=\"__pv_it/328845cb9f5953665c6a32419ea679b7869c9eab0/expr.ipynb\"><img src=\"data:image/png;base64,iVBORw0KGgoAAAANSUhEUgAABE0AAAAyBAMAAABbijgVAAAAMFBMVEX///8QEBCIiIhmZma6urrM\n",
       "zMxUVFQiIiJERETc3Nzu7u6qqqp2dnaYmJgyMjIAAAAcRTyBAAAAAXRSTlMAQObYZgAADwBJREFU\n",
       "eNrtXQuQFMUZ/m939jWzD4JGAR+13kWCiLqBRBN5LaaUJBVhIRXRMsltnZqIAbOGhIhSup5Veoia\n",
       "MRhFjGE4SsHzcRuUOrE0twHFEoVsQR5KQM6cohI9r+Qg3J3k0o+Z2el57c7sSd3VXpfeznZP/98/\n",
       "f3/T/ffjXwAqSTUDA3kYRukVGEnlJz5NP8MDA6Mqk1Sz5RFpGD14OD/S+E7SHJkvjzxaKU9Sw+q5\n",
       "x480vaMU6ZAvfFXFE0H3tKHCiUB1jSKIJ8gs1jj3ViVP1iXZ7xuZb9d/Qagbgb8j46jCqfLFwtK3\n",
       "DEpaWNJi1cWTO3XfP2K+Lbaty7lGRSjRhKManfLns6VvsUxJB3jPluyBq4onQp9u9HXSeutt5MZt\n",
       "x3iEEsuVc7ta0K+43UrGJsO9/aWmKgkH6oatH2B5FfIkoLNdwMn4v8ctTzDKXMkJTziFz/woK55w\n",
       "faU8UCc84a1Z0C5WH08O6HjxsJO+6LBbnmCU18AJT8KqN/OeFU/CpRyedic8UXEs362q4snNuu91\n",
       "eDIybfI4+k7VEfPNGf3SR7Bq30Lu3Z3TkMMSmr5dhE2T4rDnv1NyvnN3d9gZXpVlQDlYO9UBT6IN\n",
       "dfI4tU3Pk6211ODRhLAHs55799xdIlZyzul7tqN5FdIchNqtEJm5ZCrMf/l8W56Ea88GFsekX+qr\n",
       "Op74enQZ96H/Z4nRboArkdE4aoqTXjzO3QKzpJqTYUMCZkvcOGEZXAiwhEyPMnaGp7LqjCj8/6RW\n",
       "EYOUx5PWQ3wvogIy7Ts6njycC3YQOa25c+aS6XbN1NYCVhK+lOSXANG8TfSmcT/AZyFgS+tb4X44\n",
       "i3whOOEuktiOiP+s6nji1T/rrcgMZ4A3Cz+4COBRL+0rPkAPlYeaeDQNQg+cDjBa+DL2LxBPZkkQ\n",
       "tzE8lQVXGVGQAx2LY5DyeNIuAWodAV216XiyHPw5Iqe9WXqGdiyIuVhJOIgyk0TzP6WQ94J4gsjj\n",
       "sYMJ5OHnECDzojZrq3VVHU9q0rqMkxF3kEWR2WYDSDFqPmTv+un7/1FAU1n+sO/w/v2LwTdppoh5\n",
       "Ejh2jlEqegs/OLOrK63KojNN8mq+r6B0QGseg2hvt5QDM4D/nGbW4z+7urpu6uo6CAQBiLLwNeWt\n",
       "R3SmSqKJcmuCaA7zt/USv+L2RtEOZiZ2rlslFcc8XSBWG0/qC0ae1GShNUVN3y4pCxPtOaBLHscE\n",
       "PP3kPxTrCU/4XQMJmxdUlgVGFCRrbo7ypJz+pBO4fg1Piv0JQpB5snSC4sskgCiJ9Y5liebPrvBR\n",
       "njz96WE7mDGKMFuerC1UG08uEI0jAnrN22Vr3UUzP0ZWi9MGQP0JHp2DGahfg3gSXwORHhvDU1mX\n",
       "pI0osQJ+ecvmyXHccTRPVVtR5QlCoJl8T0jWJJoHoqTcn2AJd4OvVwokPCEJDiRthknSZ23zjVdw\n",
       "ZP8kbdYLVxNP7gCjh9magxsFkZi+P6zwJNABvOyf3AbQHEPt/2DqICQusVizVXhCZOX7jCixJPJd\n",
       "yudJD6wrQGIOGPxYxDcg/VKkW1EX8YQoSf0TovnnIPReGk17uTj4C7Z0RD7QJ8/jkecda6sFM9XG\n",
       "kzH6DDQbDMYjS8OkCbnux0gmGl98/eCVomNhQx7qc3Ax6u3/+mNpBiSQH7sC86EDz2DkC43hiazQ\n",
       "Uxkjir8QTBh5osohfzQFi+FO4MXt6GoayxM0j1mfwnL8WTgSVtc3sJLwrsgvp5qPgfCRvd4OL/Jj\n",
       "g6KspYqlgbkQ+G/AUdKA06ytFu6WeUIedr97nkTJNLsw5GnCGwZr3Is0nP3QV2gTLiaP8J2BlQBP\n",
       "TN4B0cW116LyayZJoWsmNX8C/kXi93fvw/14APfES5ULTUdOZAXjJiiTd4KRJ6oc+qdYsH5SQZ61\n",
       "v6+b77y5nzrdwRzUTSTrsr89liNKwsHd45NU84cm7zi/AD99ndt53isKTBFLs5y3czf4Rq8EDY7Z\n",
       "AsoRmSdv4M9D7nkSJl6fNPSXTz4zrDWKmrbUJwdbd8xA0vq4FUrZ4w5NvYhfGbP12NmmlTtdqevJ\n",
       "zgtpcCzNhniyGi+5ZN3zhNRdPfSHHcGwdVbcA2mriCe89iX5c9gKpc3sdks52CNQ9+datLe1VcgT\n",
       "LUwwvsBjuw8od8NIG9wVhHMV+Ce4L3pj6POEdqBMWiF/rrq9wVAWSLuDeeJ1CxQzEJvkyVrs91vI\n",
       "WepK26joP9v2/ALAUZknkR0tLQ9DBTzZ19LyZGbo88TTa8jaaH0394ujg3WabKOrWtjPWVH+7ZcN\n",
       "LHSvoS3OMaV3O9bUtLwSnsSamu7OD32ehI1b8UP43OO1D0gQOUHnHu1xzlR4ch0hlEc/HkfZKa9n\n",
       "tBVP/Cky/3KR5nTYFnNdg2kNbx8Mo7Ro4VDR5FSFJ98GHrWXTz6QsuQVOIsMzQK9bcG0pOcUfPEr\n",
       "paKaI/OES5gMcC9sX2rjHAn3/gwPsuGESSa79GBXbJVproa/G0aSi3STwpMAeOSe8alt0+GFsORV\n",
       "HGL+pSkFIbsDLsbXffocdZ0tA+dpBWMpj98DPzEfi7AE/krJ9zHusnImmZr0H7tiizqWaozwpEKe\n",
       "hAvyMYXIyjUSvBxPqDO7t7a0gLDbC9jUXEafo/JkJ3Msg0h5Ow+COU+whMgfAF5C1zHRJJNdQrAu\n",
       "tqhjqcbwGneGTvqNwpNQxxWIBuPxAITS5s2/IzxpnooHFNSzX31VPE/GiPlpNkflyR99abzmeCN1\n",
       "aLAU7mp0zfos68eTRT8i4dLNCBV91tfeAIZM7RLPeMlYvLXWro5SbFQj3DvS5m6S6sfCimuRFWMS\n",
       "XcHfHH7mR/gzMYeuyAupHX/HrIj+63t9bI7Kk+BDSYANqXoJ/KhdsZTIM3rHlv+1rw+XEQl736aZ\n",
       "X5XqSBUmU+M634Kca7/IFgeS8+zq4OIZ+MKghodZP3lshADWaYv2yykqT55Dw8aaNvko/2bIY/cR\n",
       "70Otp6wIE3czdh0Am6PyRMAnrKbAAvD9RaJShKf0PPEmfAhFohJelBVphHdwFTZTu4RA4xaZ4m+C\n",
       "z64OKobnAEzUYM4E8FltJX/2CzG3JhhLGFehrBKhYg4jyUokv7b1Dqs8ISe5GsF3c1NTI+LJY9Rd\n",
       "uQ8WNDU1xYVUqIB1mDcBOZ1MjsoTfEoPTsPBuwGJSglt1u8j1+Q8ZBZFJDz6Q5p5MlyIq7CZmjpJ\n",
       "r7HOaQB2dXAxPrlhVEPoYdYhGbvYr3Ak3dq7uJYeSduvAJSWVWIfoeQ2g5M4NV6zXkGPqRCeRCQ8\n",
       "nUlBmvYn3HzZifTT3gMuxTya4BslsjlFnuxF9XvhvhbSgETKxXHceWhSqxjcK22KUwneZlQBffah\n",
       "ZsVVmMxiikk1ucg+XXGvzBOLOrh42eUJEzV8xzW37XFiNZsm2GRbs79ciPWlbykRKhbLuYcwPsRW\n",
       "rZOo8oQgd+ThVXzxN4B9sFrCJWFMgkgSIvnQPdDoy8Q1OQxPcBrr6ymQBiRSVr0K4fhqCdWT/9SI\n",
       "9ZfD8wkqITQtBVtR9i2RLKnCZMoV0H8B6S34/QZd8XvgtawjF5+xpqBVg+lA5bTMyXKlW55wZc+w\n",
       "yqBtiVAxptghhPEh1mmg+hme8ItEfKoBuNuS6FWdlyP7UPhswuz30LvpOw0+goaUJsfAk8vOraM8\n",
       "wVKA3/XhdUiKbyzME/GfHNewaTpeuSUS4Omuu1JI5hVv0r6ByaQVRFx7UZ7OW7TFq86baFmHFnP/\n",
       "xg1bVENJtxUfPuRkNG93y5NwuSh2QWRKKhEq9loFEMaHiBaHWjpNZM+zTUD+CU05sg/lQS6ADKNM\n",
       "GtQcPU/obEPSSQHmagNnlEmqGIHUOm+AgzrkyhM/lGPUkNNMzdwHN/2qbWfRl7B5Mnn7XYRMqSZW\n",
       "ZTHWVuO1mieYIZQVRKYk81AxNVSrE17+llsIQxSZdqHc323kSVEPEe9DWc2ULHniu2AqK0V35Z9o\n",
       "kKmrogGS6xwCB3XIlVfcZ+p5Hig+URCZkBsLnyJZqNvMz6LP4jxkSjExlaXfIiPxWhgAEjUmQVnl\n",
       "BZEp/T0JFVMOnjGhWhiB7/c8eNwthDaKjG7jRYp8omf8LXgS0e9DFcriiUGK8aqUzAJbJ/RIh5M6\n",
       "tvOW+mL3FkCX6wp4Ej0lA6HcDPr6Ow+ZUkxMZClbZMUBS4LPMABEROpmsgjlBZEpb00fmZbmWJ7g\n",
       "UC2CIPRN5AtuIbRRZHQbTyjyaW3chidlpy/6HHVk2+DtrWvivGqSJMzpl2Q7ggd6ItJpyJQmAIvK\n",
       "oi8+jW7AdiHxWni/g5fdTBahjCCyYrgYDRWjg4IuVAsjeE9SxjqnELooMrqN5yvuhVVfnJe3m+HJ\n",
       "GOCPUCPLv4viImRKeRWpLOPyCdcv74u9ZoJQXhBZcX1kbs7gn5AQAowQaGgE1xDaKDKqroYnd0O1\n",
       "8YTr0Y476FUXuqldgrSjcREyJZuYyuL0vxJI4rWo4TtNEMoLIlPWR3CoGF/Hjjt0DQwjtCbXJl1D\n",
       "aKPIyDaerDQoa6hV9rsWS7R+LN8P/o4t1Mi5vGxipyFTCk+ILLxFxiQSr0VMzveDEaG8IDKFJzhU\n",
       "zMt1sP0JCdXCCAfMH6I8CG0UGdnG0/ixnur7XQvNhAfP+xrhn+k8MfJcejKxdMiUGt2lhEwpJiay\n",
       "1ugPwuN4LcoTeWRjEcyCyIrxY62sA09CxZ4Mp1mekFAtjHA9xFJ5txDaKDKyjQfevM6pqyqe1KhP\n",
       "j037RO1VDUly5SdRbmWETBWju5ayPKGyGvVL5Thei/DEmzFDMAsiUxF05/1pqFiwwPIEh2oRhJXg\n",
       "mSy5hdBGkZFtPM2Z12r83S3N7/gt0zLG6H+WnbRLmXiLzMQryoDxl+E6XT6BcrCLWY/lTBdFXD4E\n",
       "2caDDXox1fW7oJ3G3Q6hMp5oA7DwFpkJOTPgk9amBocn8xRKSiwCDNpDkG284j6gch6iunjygKqt\n",
       "EiAQuuiocenJXcgU2SIzJAywNn/n4CDABDBHMMl2CUG28YrnCqrzd4aLbx57TolNFYVMmSV/XWGQ\n",
       "EBrLvrOihyiG2VwD1cgTvM8hp+F47tH/3XEnBkg9TRrJDhZPhte/q+KPwzBO/u3iCUYcvH9XZZj9\n",
       "O01fh5HkwOO6QZ5+DwyM+j9MK+Lo7x2N+AAAAABJRU5ErkJggg==\n",
       "\" style=\"display:inline;vertical-align:middle;\" /></a><br>"
      ],
      "text/plain": [
       "subtraction_disassociation: forall_{i in Naturals, j in Naturals, k in Naturals} [forall_{a_{1} in Complexes, ..a_{_a} in Complexes.., a_{i} in Complexes, b_{1} in Complexes, ..b_{_a} in Complexes.., b_{j} in Complexes, c_{1} in Complexes, ..c_{_a} in Complexes.., c_{k} in Complexes} ((a_{1} i repeats ..a_{_a}.. + a_{i} - (b_{1} + ..b_{_a}.. + b_{j}) + c_{1} k repeats ..c_{_a}.. + c_{k}) =  \\\\ (a_{1} i repeats ..a_{_a}.. + a_{i} - b_{1} j repeats ..b_{a}.. - b_{j} + c_{1} k repeats ..c_{_a}.. + c_{k}))]"
      ]
     },
     "execution_count": 19,
     "metadata": {},
     "output_type": "execute_result"
    }
   ],
   "source": [
    "subtraction_disassociation = \\\n",
    "    Forall((i,j,k), \n",
    "           Forall((a_1_to_i,b_1_to_j,c_1_to_k), \n",
    "                  Equals(Add(a_1_to_i, Neg(Add(b_1_to_j)), c_1_to_k),\n",
    "                         Add(a_1_to_i, ExprRange(a, Neg(IndexedVar(b, a)), one, j), c_1_to_k)) \\\n",
    "                  .withWrappingAt(2),\n",
    "                  domain=Complexes),\n",
    "           domain=Naturals)"
   ]
  },
  {
   "cell_type": "code",
   "execution_count": 20,
   "metadata": {},
   "outputs": [
    {
     "name": "stdout",
     "output_type": "stream",
     "text": [
      "Theorems may be imported from autogenerated _theorems_.py\n"
     ]
    }
   ],
   "source": [
    "%end theorems"
   ]
  },
  {
   "cell_type": "code",
   "execution_count": null,
   "metadata": {},
   "outputs": [],
   "source": []
  }
 ],
 "metadata": {
  "kernelspec": {
   "display_name": "Python 3",
   "language": "python",
   "name": "python3"
  }
 },
 "nbformat": 4,
 "nbformat_minor": 0
}
