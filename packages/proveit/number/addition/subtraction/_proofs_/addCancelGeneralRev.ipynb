{
 "cells": [
  {
   "cell_type": "markdown",
   "metadata": {},
   "source": [
    "Proof of <a class=\"ProveItLink\" href=\"../../../../_context_.ipynb\">proveit</a>.<a class=\"ProveItLink\" href=\"../../../_context_.ipynb\">number</a>.<a class=\"ProveItLink\" href=\"../../_context_.ipynb\">addition</a>.<a class=\"ProveItLink\" href=\"../_context_.ipynb\">subtraction</a>.<a class=\"ProveItLink\" href=\"../_theorems_.ipynb#addCancelGeneralRev\">addCancelGeneralRev</a> theorem\n",
    "========"
   ]
  },
  {
   "cell_type": "code",
   "execution_count": 1,
   "metadata": {},
   "outputs": [],
   "source": [
    "import proveit\n",
    "context = proveit.Context('..') # the theorem's context is in the parent directory"
   ]
  },
  {
   "cell_type": "code",
   "execution_count": 2,
   "metadata": {},
   "outputs": [
    {
     "name": "stdout",
     "output_type": "stream",
     "text": [
      "Beginning proof of addCancelGeneralRev\n",
      "Recorded 'presuming' information\n",
      "Presuming previous theorems (applied transitively).\n"
     ]
    },
    {
     "data": {
      "text/html": [
       "<strong id=\"addCancelGeneralRev\">addCancelGeneralRev:</strong> <a class=\"ProveItLink\" href=\"../__pv_it/dc3cc88e61927f1e7e65aeb48e8d2b6025a4737d0/expr.ipynb\"><img src=\"data:image/png;base64,iVBORw0KGgoAAAANSUhEUgAABkYAAAAZBAMAAACWbY/WAAAAMFBMVEX///8QEBCIiIhmZma6urrM\n",
       "zMxUVFQiIiJERETc3Nzu7u6qqqp2dnaYmJgyMjIAAAAcRTyBAAAAAXRSTlMAQObYZgAADOpJREFU\n",
       "eNrtXAtwVNUZ/pO9dx93H6FIWx7SWUKhyKvbMEVLQBY7mLbTwoZOBWptdqLU0oJNxYaqjK50RoOU\n",
       "etvYQLF2rjCKBjFragZxULaAOILQndDaQsEuw0OhNTLlUUKk9Lzu3nvuK3c3iARzhrN7Of+5/3fO\n",
       "f/7vnP+cezcAPUl3LpahL/WlqzgJi5f0TEFdnw370tWemj7BHHmS5b7UgxS0CCQC2auhZ5tYRhzJ\n",
       "4a+DRXMkgr/CvdEoUopmXfrhRwL07GcdhC8qH0nfHjLPXuJDse6b4z7NuYZ+z7fo8JU10GpLXSbV\n",
       "Tl6ZZsSRXfj/J4rmSCiNviJKL+RIRKZZlxY6R6bFIh12kL3tfGu82M7FzGVl6e6bUwBoF/16wSw5\n",
       "foWNdFdh1ZmdpBzNiCOr8OKYKpoj5NZVvXEt3cuy67TWXtTqboxaC14PYvZBTtSpISof9JAzFXcu\n",
       "4w5UOE+/Q6Z2hGOu7WPdCeeuuRNYtNStEtVOW1luImtAKF38fgQvQbt6I0fuZbkgUhXDEW2MCuZI\n",
       "uFiOqOOsh3zD7DI9AA2xaE7qZ6zkk68sjoTqClPC7ARPsdwE4Z3NzSt7sGc/0Nz8XG/cugfqaHa/\n",
       "Oz1VJEe0MSqYI1uK5cgbFpCHzS7TA9B8NHfEWGklXFkc0cedbpSosWgkTnMTwLmGhiU94EhZQ8Mj\n",
       "mV7IkdIYzdC4bRiddKXhxK4z+m8+Do0H5guHdk9GG5TAlB0ytI6Nwt7/TkiLY9pzThYOTK4YbN4b\n",
       "1A5PGwZia3mCQpanLCDxJQTLt0J46qJKmPXqeEcnCJWPMDfkWHmlsWUjulSXCe7FM71waMweGfdu\n",
       "xrV7d2QLBG3cWqPGHtuMlYabDdEtR/KDwJWqZnLp3vrqVi11o0SzE4RiNCOOzANY1gOOeBPg740P\n",
       "Ev1ZmoVB8AGziUDDhmteuSDcB9OUkgGwLgZVijA4eC9MBFhETmzqnCw8TY6cNAlbTkidfLWVaT+l\n",
       "mgeGWkCSy42yJwm+GD568zm5V+B++JWpIdL/lBbZ0DI/i7Fa0tfNJOeQJZUtWdw7+FRcWlQYKDLa\n",
       "Y6pPv0Ns10ESmbFXmA3RHUe0QdCX5s3kzr256lYtdaNEsxOEczQjjnyV7N5LjQtsJMFPu/1tOCLE\n",
       "rI423KQZuUvi7J4zzvKpCctiX5rmp7JwA4CI5vMnPLRB7yL3yUBJNJKE4Gm4FqB/8NM4wEccmaaA\n",
       "UxwgDQVPik6k+thFgf/wA7EEvGmYgy72sQ00D0kuX0ygjQNyV+TDpU7u5cvAj7XRYgjB81AWNbYM\n",
       "9Q5jblmjbKAjjEYP9w6OocJ4QaDIaDcCDCP/22isdH/eEHPccoQOguqDamneTO7cm1SHo1YtFVMu\n",
       "lVA7UWcP1tGMOOKDUjStiHTaERdth2FJUoPeNHtyvPQz+OIeVVu+hHIE5XGmrv/yzlqnyJ6KQ3la\n",
       "vryjPgrFKUHd0k9YFppawFJeEqd5qgJ3gzgB9URhboVcpmbKwbezKI6VTomnDh5cCOLYqTLmiO/c\n",
       "deaW7Ono+GlHxzFMV+RgSMdc3Co6sWLXvRGkD43VAL59PfpQ2Aaag6SXMGtbJ3ZXeHCpeZlG0/a7\n",
       "n+vowAM1VcmPlg4hBy0ZY8syFPNLqtkRIWnvUADeEisUFMXnPnJIXGOsN0A1BIHTt8JJ393MB7VS\n",
       "zUz2OoxWBUhbtJQMr1slyE7U2cWTNCOOhLLqsrp+2xR4OaR41LVJ2jwhG0zthEn4+ryxROXIbi78\n",
       "wDWkOYr4b5tzRZ04kmaYTz8K389AcUqQe+S01ps0ofQaWMpVjgwECS1EQh2d8NmebUua7fXOBfFE\n",
       "L70n1xCOSHsuxhxmoZIUtJhXrcMgdBmroVSl20BzkPTyhWUiddfnPzjlNAUPtGoI0jMzbWxZnGLW\n",
       "j4rmK5HeYfSyVIGg0mlELMWOI8wQVW7XEToIhlKdmdwsASUp+5YKde6VIDtRZ9dxJJC7hcVfy1cr\n",
       "8Go0FlLv+/umZgi2ewB7FUXRl6gc+YOY1GHhGuHfA2y2bopeXCYzzH0ZCGagOCX55chak7anNMpZ\n",
       "rIWm+OBJ1r2HqQRRryZKfQitIzhM8tdBzWrEkehqCJ92sDCau7eYhRfUKU5XTR18dubCQdLLR0Ds\n",
       "VHyx0oAC/4zbuxdZokwNKcuy9cXQMoQpnQ6wLkQyQHrH1pHCQLHRqPtW6fYjSRZraXCuOML0GUp1\n",
       "ZnLj3i0Ze82uOUIbTqvjT4HGWrDsDnQ9Em9MUGpr+w3hyJpKvNNAWLfOjWaIJ85K8iUqR/xNyJpS\n",
       "xV1kAiU1prch5vFNWDvyqElcU/4jgincim6V6cEEOCkJlUdNYqliPJ0weU0acPm/wFLO9uxSF3hz\n",
       "m4gtpK6Q6rC+HEhsc/AAskUZstzjiWMQu8nmWbxq4TTcFZRvSvLC0zgoNngwCgmq2B1mSHKJBrdz\n",
       "eiTpEaLgzTpMwRdwoLWm0sCRuDTUomUYM3xS7SfiCOkd3Y8UAsqMtk0cqe7Z9WmFHs4dR4g+7IP6\n",
       "Up2Z3Lg3qS6pR4h8S91zhDScOLt+zw5/RApCZQp9c6sttOF7+Ds2g76KFUzs/CtmROQf3zjPl6gc\n",
       "CeKIcV2iRgGvQmvs32eKjn4moqk0x4u/oAwnmOENzG198Wqsw04J3CP2w2/QcGIVmNfEA5O9uFGu\n",
       "nuwthb8lM3TOOEnfcEQxldgFHiUyCNZloCYNk9AK/OfblBshhvbsy/CpEbCPlhxnYX80XB+CjOEh\n",
       "3UL4BT8QniSsTdDBZ+EdD0kuB0LozH5PzoO2z/jcECNpuDqOTATpy3i0OARv1h+zaBnG9KbgDOUI\n",
       "jqlw7+CQLC2xBdWQdaDUaO+/hKOtyWBeuDU4w3Gbkz7sg/pSnZmcdHBW9Qg5q5YaOaINnuUIEmcH\n",
       "T4ZmzBG8VV29kb2C0AYZHJxI8g767kUwESLBTNk8AL5E5Qg5tJkAs0H8k0JrvLLJdPYUE/GmmBcv\n",
       "hXcIZnA989wbQMQ6bJWkgKxVnHgCVBNgXpMeuB8EY2CWqyvpM+Vza+PUiAvJ1Pm1i8tRacVOiCws\n",
       "RyusdPtYJXD72DXvg3eB/M32AzgEqQf24Uvypq8d0fT5wHrD8fDasVnDLPbWwShzILojNUCSy6aK\n",
       "neOz8IM3hd3jtqtIeVydE4R2t5PR4htSsRvMLSOY/jQMH00M8Ni5NOkdHGsfGbcH1ZA1UGq0s2Q4\n",
       "jhrHqUoPx3e83knf6o2GJVIzk5MOzqrPhZJWLTWtI/Vc74x2Is5OzgpxxhwJK8RhxZ83NCxFHHnS\n",
       "x1bM2Q0NDdFgIpDFANWj0CLGleQ5sh/lIYAWSp9CazzxHaPZStKlpC2ceABMJJiBNrbPHQJEh70S\n",
       "drCmF6vAvCYe2INuNMu5d1EEi8cekZjr82duCfdHXVWrYgtIkZD8w+gVdrFEK5gwLQ4VigIV+y/H\n",
       "XmWynPYuius9uzppWpS6jrW0ENqs2XWsRRNxdljHsvr7Eel8ApJ0HRFmkZJO8NJVA6ZjuFFiP5kv\n",
       "yXME394JK5qxq5IanjWohD9/lf37ldYoLz6PHJxgToriNQZDUo7YKCF7/AO8OA/Ma+KBfY/vtZBz\n",
       "7zT2kCPNHObTrqqhwf9u4EzRkBLXz04rBHNBTznCgZamqgPO7zRWgV2zrPRhHzSXdquDF5TJVubJ\n",
       "D687JcTZde80MtrlMvA6vvgLwAFYheblfhDCTQ7HIZwJPApLxbqorsTAERgkns5iVyU1ApMTsBXd\n",
       "s0ohH+hfiVzzLXgpxovvC6coZuPryNKo4Ah4iLvbKInEIfbbdQbxIPEMAdZpYneQDwR8G5Ts26CX\n",
       "qzOODNobAkELjviSxT3UfC3kqtpGCHzoj10aSLEfuMS0SvXFgfqjs0st341f5gxnu0jlMq6bbJuq\n",
       "rVUX9kYhcXbdu/GMdgtkHKmC8EAczdPVaTRJAOCltOoImoLFIXAcahO6EiNHbh4znLoqrgHPdzyc\n",
       "QPdUy+Ig9IHUCbWtU/BbK5z4lrdIdIyfOrw3D1BB47jRRIeNkkBFu0KOp/TiPLCmqTpN7sAfFHgG\n",
       "fvCtydUup7TfWAWuP2uaDoWfnC3uHZtn3nRTq/HBWqidcokgS1PgFtOcbr44vyjQiOwdYfke07OO\n",
       "cPaL1ALZbZPt0yirQqvhdUrE2fNzKPdb3VENakSYJkF1KYr7GQ/VsciXGDhCZ0HF6h727BPFdoKF\n",
       "WMMM5nU4KdllJSY36VvP31MeWc/JWbqKfqvrj35cyOEr7Le6Sy+Zpn0s2/yePSjf8Wsunttko4fj\n",
       "iPjFSut72G+evaMdVW6y0GFWcsJCbLhJ+4k1u/pKeDtc1ckwWp/c5P364Euv1JojYVjAL79ZNxwx\n",
       "pKxOnaPYCcOgJPC7XPf3hJ2Br8K0YH4fPShHdsiXiyOu0+LL/Pe1wtv6/p5XX7qsSVhc/3+lvGPr\n",
       "rxaQywAAAABJRU5ErkJggg==\n",
       "\" style=\"display:inline;vertical-align:middle;\" /></a><br>(see <a class=\"ProveItLink\" href=\"../__pv_it/dc3cc88e61927f1e7e65aeb48e8d2b6025a4737d0/dependencies.ipynb\">dependencies</a>)<br>"
      ],
      "text/plain": [
       "addCancelGeneralRev: forall_{i in Naturals, j in Naturals, k in Naturals} [forall_{a_{1} in Complexes, ..a_{_a} in Complexes.., a_{i} in Complexes, b in Complexes, c_{1} in Complexes, ..c_{_a} in Complexes.., c_{j} in Complexes, d_{1} in Complexes, ..d_{_a} in Complexes.., d_{k} in Complexes} ((a_{1} i repeats ..a_{_a}.. + a_{i} - b + c_{1} j repeats ..c_{_a}.. + c_{j} + b + d_{1} k repeats ..d_{_a}.. + d_{k}) = (a_{1} + ..a_{_a}.. + a_{i} + c_{1} + ..c_{_a}.. + c_{j} + d_{1} + ..d_{_a}.. + d_{k}))]"
      ]
     },
     "execution_count": 2,
     "metadata": {},
     "output_type": "execute_result"
    }
   ],
   "source": [
    "%proving addCancelGeneralRev presuming []"
   ]
  },
  {
   "cell_type": "code",
   "execution_count": null,
   "metadata": {},
   "outputs": [],
   "source": []
  }
 ],
 "metadata": {
  "kernelspec": {
   "display_name": "Python 3",
   "language": "python",
   "name": "python3"
  }
 },
 "nbformat": 4,
 "nbformat_minor": 0
}
