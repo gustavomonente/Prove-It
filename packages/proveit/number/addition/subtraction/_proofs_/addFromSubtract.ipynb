{
 "cells": [
  {
   "cell_type": "markdown",
   "metadata": {},
   "source": [
    "Proof of <a class=\"ProveItLink\" href=\"../../../_context_.ipynb\">proveit</a>.<a class=\"ProveItLink\" href=\"../../_context_.ipynb\">number</a>.<a class=\"ProveItLink\" href=\"../_context_.ipynb\">subtraction</a>.<a class=\"ProveItLink\" href=\"../_theorems_.ipynb#addFromSubtract\">addFromSubtract</a> theorem\n",
    "========"
   ]
  },
  {
   "cell_type": "code",
   "execution_count": 1,
   "metadata": {},
   "outputs": [],
   "source": [
    "import proveit\n",
    "context = proveit.Context('..') # the theorem's context is in the parent directory"
   ]
  },
  {
   "cell_type": "code",
   "execution_count": 2,
   "metadata": {},
   "outputs": [
    {
     "name": "stdout",
     "output_type": "stream",
     "text": [
      "Beginning proof of addFromSubtract\n",
      "Recorded 'presuming' information\n",
      "Presuming previous theorems (applied transitively).\n"
     ]
    },
    {
     "data": {
      "text/html": [
       "<strong id=\"addFromSubtract\">addFromSubtract:</strong> <a class=\"ProveItLink\" href=\"../__pv_it/257e4c7733d0110f6d949d591f8a4b004f2c9da70/expr.ipynb\"><img src=\"data:image/png;base64,iVBORw0KGgoAAAANSUhEUgAAATsAAAAWBAMAAABNtyaoAAAAMFBMVEX///8QEBCIiIhmZma6urrM\n",
       "zMxUVFQiIiJERETc3Nzu7u6qqqp2dnaYmJgyMjIAAAAcRTyBAAAAAXRSTlMAQObYZgAAA9ZJREFU\n",
       "SMfNVltIVFEUXeN4HedxtY+gKILBsiIKxMqP6GFE5k8xfWRBkCJF7zAoKetjMIixIgaClB5wS8LQ\n",
       "aobehtCQ2EcvBvvRKBHKKIshpI/ShPa551ybcx9W1EQb9twz+559zzp773X2Af6RnBdqI/6ovb2d\n",
       "tJ8NXmUcnS/M1SyXJ9HPdnufHIL9mA0GMw4vL8rVIq9JrzlsiULXRE9vOOPwngsdk+viOUIaCNo7\n",
       "PaAtafQ6nnF4B4Wa4WUPszBNsHe6AKiPWlsbM47OW8PVAi+gG984VEQp8CUSOfxna5tLKmSdklXE\n",
       "FYGCQgleXvV0Sl2nZTuLi6fQZPLYAjTYrLmm/6ewskUAJFsKuGmdmpvk6j2EkxK82KDvK9Cnfyel\n",
       "C9sElkfzPlFmCcMKnSFpp9CJrdXgyLncfVgrl65hyOV/5WOBAuG2MtQTF5rATgnefQ1DwB0zZ6fB\n",
       "TXT1U+Y9yEoa1o75Sd8GTfnIos7o0ta5BJeOYVPC8JMMHJ6SkL78gT5TZYHnKuW6TNP/Pkul9qZS\n",
       "b2m0FL5vQKVpunsYHoqAQhEMJD2Gtae9Feo5oIPG+RQC9fgZDb0J+A0EsoHDy5FLjVKF947wJpup\n",
       "8RrZI1Z4rjBiIQ7P219BhuaZA8hm+Vx5i0z0rCzYQXmnYtoY4sUfKAjKBgHPI7y5KEMzNcwzlmE+\n",
       "6cllkZLhjbJIYVVa7bHQxxK4z5ZitG7YTPnYrwwjj0160cv9ZmnT9YanXhWVtE+ZIBsEvEbhLSha\n",
       "RwS9jW0RkqTuI1FjlApKgvcZF5KCGmkSi2MPdWJGDdwgjO4ipQbN7M29dj6jHn0+Fk1/G0dDpRqS\n",
       "DAa8cuEtbEH6ZrlRQmHjkGFEY1oC30IJ3m4cod/FZqIH1Vo6ENyshvIpAa54VhXW046DZ9fxGRNR\n",
       "ohyIROq9t/gKLkqPZDDglQnvchYwzVXqrsImo4TGuhFLE9PA0245uc1zGS8HzMytLjw9g+jJVlKJ\n",
       "TbFo7gstR9/xRXpLz2FMhc7ARYRe41SRDAa8DcKbfzhfI0xl2MOqKJkf/WlT42hq7A/WljGqRCtX\n",
       "IxDSz+sQHniPoU4No4u9OtVFLbtJowZTlGb4Aa9FeAsOaD3Ayx9NqcjpStCaNh7nSiCCX319CXCc\n",
       "Da+kjoaUqah4Quuz5PievduCtXFvcbeWZkhjria8OXN3Ub0sMFoT8xGFEOVqK+NcqKTOSLUnWgd/\n",
       "zI7Ui1dxs2EMXpb1utP/69dRXRrszY7bQfuv3LdFU7Ms6k/+3mVedYDR69jtzQuocIa32mxvxn8h\n",
       "bofIzvl7S3wH6RUl4ImXYUMAAAAASUVORK5CYII=\n",
       "\" style=\"display:inline;vertical-align:middle;\" /></a><br>(see <a class=\"ProveItLink\" href=\"../__pv_it/257e4c7733d0110f6d949d591f8a4b004f2c9da70/dependencies.ipynb\">dependencies</a>)<br>"
      ],
      "text/plain": [
       "addFromSubtract: forall_{a in Complexes, b in Complexes, c in Complexes | (a - b) = c} ((c + b) = a)"
      ]
     },
     "execution_count": 2,
     "metadata": {},
     "output_type": "execute_result"
    }
   ],
   "source": [
    "%proving addFromSubtract presuming []"
   ]
  },
  {
   "cell_type": "code",
   "execution_count": null,
   "metadata": {},
   "outputs": [],
   "source": []
  }
 ],
 "metadata": {
  "kernelspec": {
   "display_name": "Python 3",
   "language": "python",
   "name": "python3"
  }
 },
 "nbformat": 4,
 "nbformat_minor": 0
}
