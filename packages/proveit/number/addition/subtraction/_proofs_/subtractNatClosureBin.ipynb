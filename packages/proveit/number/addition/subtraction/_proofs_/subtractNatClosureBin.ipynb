{
 "cells": [
  {
   "cell_type": "markdown",
   "metadata": {},
   "source": [
    "Proof of <a class=\"ProveItLink\" href=\"../../../../_context_.ipynb\">proveit</a>.<a class=\"ProveItLink\" href=\"../../../_context_.ipynb\">number</a>.<a class=\"ProveItLink\" href=\"../../_context_.ipynb\">addition</a>.<a class=\"ProveItLink\" href=\"../_context_.ipynb\">subtraction</a>.<a class=\"ProveItLink\" href=\"../_theorems_.ipynb#subtractNatClosureBin\">subtractNatClosureBin</a> theorem\n",
    "========"
   ]
  },
  {
   "cell_type": "code",
   "execution_count": 1,
   "metadata": {},
   "outputs": [],
   "source": [
    "import proveit\n",
    "context = proveit.Context('..') # the theorem's context is in the parent directory"
   ]
  },
  {
   "cell_type": "code",
   "execution_count": 2,
   "metadata": {},
   "outputs": [
    {
     "name": "stdout",
     "output_type": "stream",
     "text": [
      "Beginning proof of subtractNatClosureBin\n",
      "Recorded 'presuming' information\n",
      "Presuming previous theorems (applied transitively).\n"
     ]
    },
    {
     "data": {
      "text/html": [
       "<strong id=\"subtractNatClosureBin\">subtractNatClosureBin:</strong> <a class=\"ProveItLink\" href=\"../__pv_it/2a3e3ebcffe2841907c42a28bcefb77af8df67410/expr.ipynb\"><img src=\"data:image/png;base64,iVBORw0KGgoAAAANSUhEUgAAAPsAAAAWBAMAAAD0hvfJAAAAMFBMVEX///8QEBCIiIhmZma6urrM\n",
       "zMxUVFQiIiJERETc3Nzu7u6qqqp2dnaYmJgyMjIAAAAcRTyBAAAAAXRSTlMAQObYZgAAA29JREFU\n",
       "SMe9ll9IFFEUxj93dvbPzM7aQwQlwaT9oyBEoYcy2ojqpXLrQYsEF1HCHmIhysiITYJWxVh6qAiC\n",
       "CaHCqF0KIaNoSyOzgiEKKiqWqCCjUOjBfIjuuXdWZ9Ytq60OnN27v2HuN/ec794d4K+E3xSZN/p+\n",
       "wjM0eFWo/AUrc0M5HAU8CSe8PHbMwO3REPEHBIYLlf9g5ZQIlrNnyOTALjkCZYTzU1S6WIHqWrnI\n",
       "qVGcYh93cuDOcCkwg/OgAQRSBcp7EyKnRjWbHmetH89aWnghGjs8YUQ514Z6ek4WWvuTVk6Ne7wD\n",
       "IT7etsSCzTXKMMkTH4vHDxYqX2alv6pijvPK+9KVrLq8L8qEw5pVvYbkiTcB7Xlm3JzrF7h/wMlL\n",
       "Vq5JBEeczv9mJBPQ+D2TG6AZA5rO5ImvdTqztirkmoXsEwPyngHMi9DIx39bXHW4tVWkMheS08Xq\n",
       "OIp1qNHJ+4W8x2hijLgXrux5odyoNNXYEFZQv8iOF/tX4VrAkIzJ2zmH+sahMlOkNA6vThv7M8U7\n",
       "NpIySKYh85JsIZgR8kokyJxPPGB6s7M86+uB+lhCmnYMK5XWedrATb08gEl54tA+IZ98UQzJcO62\n",
       "r05Z8qdsq0edbMn7MzWMdC98BzfVVd2xXSf5+tJdrC8senuP2+WJu7i6UrE77Cw+W+itnG1vYrUB\n",
       "Ny9+kV1eS7Eucd7eyKbaK48jyMsaHnpK8ouMMnEg9wYu1dnkGXe38tH5cL3htF4yhd2qY/sXh5gf\n",
       "LOtJepYyt+N+zOJX2TNI5XIU3UI+wN3VhtcKd1kv0v02eeKDfB9XojY7X79In67tCzhW7zF9bBIp\n",
       "PVEjHh+FKwRn1kRRyhVBbTwe19Ww34zyVi6X98fjbUz+jNcmzziUQfJfCRZm59sgUmlYcGK+c+NV\n",
       "PCIHiCadOyKqVTsaE38EnGsMJhO+F4ZHrB7rqErjbPqIWL17q02eOLAsBeUrunqmPXRFm6zvjUdb\n",
       "Mvk4ihL1mxDgDxOClvZ34IAWw1269AR4aZMnzuK1idnyF3Pavxwed6bj7oYrq4BOquFbICKXoOYh\n",
       "E2Q1dh8KwWOTJ05xHeuXlk28YLQj/9kpOpD5Ne5ivbdOK/G1mPV+Inx/8Lohbkz8Hs//fuT705et\n",
       "57/JAfNn8irbIfEO/OeQ/sGc3wFClfXRCdUmsgAAAABJRU5ErkJggg==\n",
       "\" style=\"display:inline;vertical-align:middle;\" /></a><br>(see <a class=\"ProveItLink\" href=\"../__pv_it/2a3e3ebcffe2841907c42a28bcefb77af8df67410/dependencies.ipynb\">dependencies</a>)<br>"
      ],
      "text/plain": [
       "subtractNatClosureBin: forall_{a in Naturals, b in Naturals | b <= a} ((a - b) in Naturals)"
      ]
     },
     "execution_count": 2,
     "metadata": {},
     "output_type": "execute_result"
    }
   ],
   "source": [
    "%proving subtractNatClosureBin presuming []"
   ]
  },
  {
   "cell_type": "code",
   "execution_count": null,
   "metadata": {},
   "outputs": [],
   "source": []
  }
 ],
 "metadata": {
  "kernelspec": {
   "display_name": "Python 3",
   "language": "python",
   "name": "python3"
  }
 },
 "nbformat": 4,
 "nbformat_minor": 0
}
