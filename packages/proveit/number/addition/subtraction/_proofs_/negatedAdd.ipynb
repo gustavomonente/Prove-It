{
 "cells": [
  {
   "cell_type": "markdown",
   "metadata": {},
   "source": [
    "Proof of <a class=\"ProveItLink\" href=\"../../../../_context_.ipynb\">proveit</a>.<a class=\"ProveItLink\" href=\"../../../_context_.ipynb\">number</a>.<a class=\"ProveItLink\" href=\"../../_context_.ipynb\">addition</a>.<a class=\"ProveItLink\" href=\"../_context_.ipynb\">subtraction</a>.<a class=\"ProveItLink\" href=\"../_theorems_.ipynb#negatedAdd\">negatedAdd</a> theorem\n",
    "========"
   ]
  },
  {
   "cell_type": "code",
   "execution_count": 1,
   "metadata": {},
   "outputs": [],
   "source": [
    "import proveit\n",
    "context = proveit.Context('..') # the theorem's context is in the parent directory"
   ]
  },
  {
   "cell_type": "code",
   "execution_count": 2,
   "metadata": {},
   "outputs": [
    {
     "name": "stdout",
     "output_type": "stream",
     "text": [
      "Beginning proof of negatedAdd\n",
      "Recorded 'presuming' information\n",
      "Presuming previous theorem (applied transitively).\n"
     ]
    },
    {
     "data": {
      "text/html": [
       "<strong id=\"negatedAdd\">negatedAdd:</strong> <a class=\"ProveItLink\" href=\"../__pv_it/a91196953b77cdda1860f98925a3309d25a152670/expr.ipynb\"><img src=\"data:image/png;base64,iVBORw0KGgoAAAANSUhEUgAAAWsAAAAWBAMAAAD0o6DgAAAAMFBMVEX///8QEBCIiIhmZma6urrM\n",
       "zMxUVFQiIiJERETc3Nzu7u6qqqp2dnaYmJgyMjIAAAAcRTyBAAAAAXRSTlMAQObYZgAABBxJREFU\n",
       "SMfNV11oHFUU/rL/O7uz2wdBpS/rBqqIwlKLiLQaENu+VMYHa0VoltDgD1WCWNG2D0sE2bQKCz60\n",
       "+AOjQSupNoNaNVIwNNSHNsigDybBli0a0FbWEBTaRMFz59yZzr07m6TKige+mTln7rnzzbnnnnsv\n",
       "8B/J2xIrSa7Rbsu6ijoh0RTK+a6zNmqMjvLBjXR5KsKuqqkG45xQLnWddqHB6Cw/Ek60m3/Rfr/J\n",
       "OCoGotZ12t9JdJZlQr6kW82KZjjNKNjU2uk67ZckOkpiScRynW5O6yP0DsM8OzZ2pOuss0OMzpL3\n",
       "3v6km9uoFfoYV+r1g/+Okx4Qq71JrMII5PWpW2yVzkAvjfmU7tirJEjZQp56ERgERiK4PNRclW5C\n",
       "xkmxtYBP25tmXEbQ7Gb8prYYv2RcBS54HbY88f7ytXDknUwTJvESeMCbmaHi+eoTA+A/Yvni6xfU\n",
       "meIbMqyqVYviFW+vGGmHEWSoi3vUFl/ZWAQ+1x0PhJ4PIuUgR8kkkEbMD4Nx6i7X2GUnfxWDJj5y\n",
       "fGoL3juE3ZO+p2Jg2sngZUpcLlM31TbaPX2ME14c53G/jeeE3deB+2D8CfTrjjdQdxx8K77kfW6B\n",
       "kXfTfpuZiTGYbwGn6LlIITMPv2FjdhI5n5lqYNqpIJU9/Wp7rQ3R9uUmGH/oZTuxHE076KMWpp1t\n",
       "7iRtdMM8EiIvHjxJJrr3l5+m/KEsfNziSZcvl1SDpJ2W3qwnFzfYuDMoD+VSZJJQYHMLKr+/IKK5\n",
       "LZTbVS1Jxr1YJYYYGNlD/exLLqEgzHOz3OhWu9db+M2PZKY+n1ynGiTtI9Kb9dh+Khif4ck6iev5\n",
       "RE1JYxmp5oRC+3eR7zwlwxKakkV67wRTEp8Q93glOYRR8fJL2dswLhgi+rnjzDJeg6UYfNrbpTfr\n",
       "mRL1uV02ED4y7JXwJBe9f1+dVPg9g5fpulmnHaqI8SpGLcTJTQBFGsgeJ1bFoxSh0puP+El1d/LF\n",
       "en04e5K/3ENDrBh82lul97Oti62W29NHve/2szFIi2BopbxffmygT+E3eocYjHmd9rbQ8/R5Ylqw\n",
       "GDCp7o83MnO2Vwni79IY0n0J6+Fl173U1uYpqhh82rukN+tFm7hupX8gcYuNtS/unDxDqy7uxyQ4\n",
       "Lo3+HciLn8hutnA6ewj7zRrOeOvZGdrhHLVpQa2EDNdoH5PerKftGeCHawtxZc1bKVzXVkoO4sDH\n",
       "W4DD4vHD1itWcj12ThMPMcjGNz8P4mEnu/FbO2QIVRJbenMl2Ut5t8nfiQgfmVANxsoSsXEdid64\n",
       "KjsHym25VPLttvqwfOXohoB2zFF1/+hxnceEKI4Rx4SVf39iDccln2ZNp51z/+GhzFz9UDYrES36\n",
       "h010pr0j+IJfFPC/lniHkbi9+5/+G407S7J1IBdtAAAAAElFTkSuQmCC\n",
       "\" style=\"display:inline;vertical-align:middle;\" /></a><br>(see <a class=\"ProveItLink\" href=\"../__pv_it/a91196953b77cdda1860f98925a3309d25a152670/dependencies.ipynb\">dependencies</a>)<br>"
      ],
      "text/plain": [
       "negatedAdd: forall_{a in Complexes, b in Complexes, c in Complexes | (a + b) = c} ((-a - b) = (-c))"
      ]
     },
     "execution_count": 2,
     "metadata": {},
     "output_type": "execute_result"
    }
   ],
   "source": [
    "%proving negatedAdd presuming []"
   ]
  },
  {
   "cell_type": "code",
   "execution_count": null,
   "metadata": {},
   "outputs": [],
   "source": []
  }
 ],
 "metadata": {
  "kernelspec": {
   "display_name": "Python 3",
   "language": "python",
   "name": "python3"
  }
 },
 "nbformat": 4,
 "nbformat_minor": 0
}
