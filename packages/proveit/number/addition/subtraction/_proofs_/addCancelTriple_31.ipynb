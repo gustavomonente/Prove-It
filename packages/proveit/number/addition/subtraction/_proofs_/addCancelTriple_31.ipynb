{
 "cells": [
  {
   "cell_type": "markdown",
   "metadata": {},
   "source": [
    "Proof of <a class=\"ProveItLink\" href=\"../../../../_context_.ipynb\">proveit</a>.<a class=\"ProveItLink\" href=\"../../../_context_.ipynb\">number</a>.<a class=\"ProveItLink\" href=\"../../_context_.ipynb\">addition</a>.<a class=\"ProveItLink\" href=\"../_context_.ipynb\">subtraction</a>.<a class=\"ProveItLink\" href=\"../_theorems_.ipynb#addCancelTriple_31\">addCancelTriple_31</a> theorem\n",
    "========"
   ]
  },
  {
   "cell_type": "code",
   "execution_count": 1,
   "metadata": {},
   "outputs": [],
   "source": [
    "import proveit\n",
    "context = proveit.Context('..') # the theorem's context is in the parent directory"
   ]
  },
  {
   "cell_type": "code",
   "execution_count": 2,
   "metadata": {},
   "outputs": [
    {
     "name": "stdout",
     "output_type": "stream",
     "text": [
      "Beginning proof of addCancelTriple_31\n",
      "Recorded 'presuming' information\n",
      "Presuming previous theorems (applied transitively).\n"
     ]
    },
    {
     "data": {
      "text/html": [
       "<strong id=\"addCancelTriple_31\">addCancelTriple_31:</strong> <a class=\"ProveItLink\" href=\"../__pv_it/c3569bf3a226b46154117d651439324dc6cd0a310/expr.ipynb\"><img src=\"data:image/png;base64,iVBORw0KGgoAAAANSUhEUgAAAPwAAAAVBAMAAACQzp4eAAAAMFBMVEX///8QEBCIiIhmZma6urrM\n",
       "zMxUVFQiIiJERETc3Nzu7u6qqqp2dnaYmJgyMjIAAAAcRTyBAAAAAXRSTlMAQObYZgAAAzxJREFU\n",
       "SMe9VltoE0EUPWkeTTbZxA/BRxFi6+vDj1BBRFuNiPilzY9VEWwJFlFQomBR8SNGkG3rx4Kg4gNW\n",
       "iw9SbUKlaKXQ0FIFHyXgh7ZgCdQWKRKLKGiq4p1MkmY3m5r44YW7M3t25p47996ZWaAsuZnRMqVP\n",
       "F7XLQIJ13pdoRghyLT7gXEAPtsha5P4iehwGXrKX6RLpnTLXeUZ4dL1KFEATpN3AVWpswRLp32S0\n",
       "UHoyrSuqAbgMFkyYJXW44VSoiZZIfzqjxekbFF36W9rxphQLygKIL8LhKyWy2wJc56F/Dl16p1cz\n",
       "3pE28wH4LklnS6Sv8HDNyaWh5Yqabap6kxqw1dUuJTZtSTj9NRTyIaAFaNOh2lVYLbDGueYiuASf\n",
       "1YsVfisRWUW/VXbOAGLa2kiSCSs6RKaFH8A4sE1Tl/aLh/zI9/fJs1Y371VGueYyGscGNb09BZdb\n",
       "5c8yGKmw7dqUDSj4Ajwme6jILkjoXxcX9irmTyw6jKZrqB532nEgxr8bvFy706uYxBYFJzKrOp5M\n",
       "TlHPmEAkpgJSqCR/zDMa+s0QfgJNtMx4ZRZ71xeGeAPoZzuIYih2XFMwGoNdQ5+VxRC+qVdP274h\n",
       "mg8Ygoj4dOgnYJpN09sSjfTauWoSJhbv7b0EUdtUfYTyQvndT7Nl3eCT//YZNb0rzkKSB1AsBpiV\n",
       "wFzuWVDwi8UFO6jXdpAsnTSn4GT42Cift1qpSR/I4kO5WOkJs7Ak+tT0Xkq2ij6KY3S2i9pC/soK\n",
       "h5UeHpFnRo85gE6GP83YC2FcYNGwd83Rs3LM30IhvG2OqdgscatHBVjdYquD7Mc09Edxnp51zGMq\n",
       "DUO0ohl7JElyX9/Nvy/EevMpSQrZen1zGy2QDSOXu9X7/F71xqt9rdmJ/pWXV1BN+DT0nWtZFCdZ\n",
       "eClZEdk6plgYbrxNc6hNoQrNDNhI3iklH7pFgHv692N2KQa5aSccvvQp5cOgrR1nxCCG0yfbMLsa\n",
       "/nblhOcHBnUn5eya/D31QAfrPkhe8Jmr0PiKEseqXBj52JKrPZlruaJz4YJfuKoznXKfOb14s0YK\n",
       "lfe7UUSKuNxW3t/RP/9sjeqiYtE4xvF/5A8SBfvIY1XCAgAAAABJRU5ErkJggg==\n",
       "\" style=\"display:inline;vertical-align:middle;\" /></a><br>(see <a class=\"ProveItLink\" href=\"../__pv_it/c3569bf3a226b46154117d651439324dc6cd0a310/dependencies.ipynb\">dependencies</a>)<br>"
      ],
      "text/plain": [
       "addCancelTriple_31: forall_{a in Complexes, b in Complexes} ((-a + b + a) = b)"
      ]
     },
     "execution_count": 2,
     "metadata": {},
     "output_type": "execute_result"
    }
   ],
   "source": [
    "%proving addCancelTriple_31 presuming []"
   ]
  },
  {
   "cell_type": "code",
   "execution_count": null,
   "metadata": {},
   "outputs": [],
   "source": []
  }
 ],
 "metadata": {
  "kernelspec": {
   "display_name": "Python 3",
   "language": "python",
   "name": "python3"
  }
 },
 "nbformat": 4,
 "nbformat_minor": 0
}
