{
 "cells": [
  {
   "cell_type": "markdown",
   "metadata": {},
   "source": [
    "Proof of <a class=\"ProveItLink\" href=\"../../../../_context_.ipynb\">proveit</a>.<a class=\"ProveItLink\" href=\"../../../_context_.ipynb\">number</a>.<a class=\"ProveItLink\" href=\"../../_context_.ipynb\">addition</a>.<a class=\"ProveItLink\" href=\"../_context_.ipynb\">subtraction</a>.<a class=\"ProveItLink\" href=\"../_theorems_.ipynb#addCancelTriple_21\">addCancelTriple_21</a> theorem\n",
    "========"
   ]
  },
  {
   "cell_type": "code",
   "execution_count": 1,
   "metadata": {},
   "outputs": [],
   "source": [
    "import proveit\n",
    "context = proveit.Context('..') # the theorem's context is in the parent directory"
   ]
  },
  {
   "cell_type": "code",
   "execution_count": 2,
   "metadata": {},
   "outputs": [
    {
     "name": "stdout",
     "output_type": "stream",
     "text": [
      "Beginning proof of addCancelTriple_21\n",
      "Recorded 'presuming' information\n",
      "Presuming previous theorems (applied transitively).\n"
     ]
    },
    {
     "data": {
      "text/html": [
       "<strong id=\"addCancelTriple_21\">addCancelTriple_21:</strong> <a class=\"ProveItLink\" href=\"../__pv_it/55d4d61114ac95b74d60d1805d14ad3041f1e8330/expr.ipynb\"><img src=\"data:image/png;base64,iVBORw0KGgoAAAANSUhEUgAAAPwAAAAVBAMAAACQzp4eAAAAMFBMVEX///8QEBCIiIhmZma6urrM\n",
       "zMxUVFQiIiJERETc3Nzu7u6qqqp2dnaYmJgyMjIAAAAcRTyBAAAAAXRSTlMAQObYZgAAAzFJREFU\n",
       "SMe9VltIFFEY/ta9uDt7sYegiwSbdnvoYTGIKK2NiJ7KfcmKIGVJoqDYgqSih22DGLWHgaCiC4xJ\n",
       "F9ZyF0PKEFwUC7rIQg+lkCyYEhKbREGtFf1nZnb1zI61m9AP/5wz3+H83/kv5wIUJTc1LVJ6DFGn\n",
       "BKRY512BZoSwqkWIcC4E2CQ9fG8RfQ4DL9jPZIG2PJKqxYjHR2tI5cFjpJ3AVWochTr0WtN86ZoT\n",
       "KYvTpz9veJrU5YVHpiZeIP1pTYuhryUCtOlHLRmWmAVwP49GrxTI7gipWhT9MyUDft2oSzHzHvgm\n",
       "imcLpC/xqZqTSwPLZZ7MUV21lEcmKjYRm09fEcFKCvkA0Ag0G1Dtyq8W2JOq5iK4BJ90vm6VPFMc\n",
       "IvySYxLcirWhNBNWdIhNCt+BUWCbri6dFw8FMXu9j582edVeaVzVrLQlsYGnF5bBHOYQZwZlXjj1\n",
       "KeuT8Rl4RPZQknVI6F2XFPbK1o8sOoymY6AGt1twIKGOm/yqdipejGOLjBOaV8fT6QnqmTMo9fJI\n",
       "CrEErFM6+s0QfgD15GayNIu97YnCfQPoZfuFtre79ZqM4QScOvqsLIbwlffeFEYswCG07Wvj+fRj\n",
       "sEwr9I5UHf22rxqHhcV7ezdB1NZXHKG8UH73kznJMPi0fucUT0+O9vFIWZIFyRKayT2LCX6yQGEH\n",
       "9ZoPkqWT1gw8DB8ZVqetliuVA9n9QJqr9IRp2FI9PH0cx5wSR++netBKb5Z8YYXDSg8PaWVmnzWE\n",
       "doY/0exFMCqwaDg7ZuhZOc7eQhG8aUhw9Havu8nFIbaknWaYEzr6ozhP32q2PqoVU7ykAXtEUfRe\n",
       "362OL8R66ylRjDi6AzMbLQQtjKrcqdgX9POVH1x5eQWPVL1iFRDQ0bevZVEcZ+GlkyMm2UdkG8PN\n",
       "t2gKtRmUo4EBG2l18jwOXUXuGt+GWVdMUv1OuALKsRVAv6MFZ9xhDCon2yC7Gv525UT/jPQbTsrZ\n",
       "tQS7aoBW1r2fvhCwlqPuJWWSVbkw9KExV3uSqsWKwYUL9cLlznTKvXZWqc0aMTLf50Zu2QbSXNzr\n",
       "6J8fW8OGqHvOOCbxf+Q3o5H7yEqvdeoAAAAASUVORK5CYII=\n",
       "\" style=\"display:inline;vertical-align:middle;\" /></a><br>(see <a class=\"ProveItLink\" href=\"../__pv_it/55d4d61114ac95b74d60d1805d14ad3041f1e8330/dependencies.ipynb\">dependencies</a>)<br>"
      ],
      "text/plain": [
       "addCancelTriple_21: forall_{a in Complexes, b in Complexes} ((-a + a + b) = b)"
      ]
     },
     "execution_count": 2,
     "metadata": {},
     "output_type": "execute_result"
    }
   ],
   "source": [
    "%proving addCancelTriple_21 presuming []"
   ]
  },
  {
   "cell_type": "code",
   "execution_count": null,
   "metadata": {},
   "outputs": [],
   "source": []
  }
 ],
 "metadata": {
  "kernelspec": {
   "display_name": "Python 3",
   "language": "python",
   "name": "python3"
  }
 },
 "nbformat": 4,
 "nbformat_minor": 0
}
