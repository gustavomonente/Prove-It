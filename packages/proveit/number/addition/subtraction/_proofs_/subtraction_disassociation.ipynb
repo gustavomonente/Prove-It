{
 "cells": [
  {
   "cell_type": "markdown",
   "metadata": {},
   "source": [
    "Proof of <a class=\"ProveItLink\" href=\"../../../../_context_.ipynb\">proveit</a>.<a class=\"ProveItLink\" href=\"../../../_context_.ipynb\">number</a>.<a class=\"ProveItLink\" href=\"../../_context_.ipynb\">addition</a>.<a class=\"ProveItLink\" href=\"../_context_.ipynb\">subtraction</a>.<a class=\"ProveItLink\" href=\"../_theorems_.ipynb#subtraction_disassociation\">subtraction_disassociation</a> theorem\n",
    "========"
   ]
  },
  {
   "cell_type": "code",
   "execution_count": 1,
   "metadata": {},
   "outputs": [],
   "source": [
    "import proveit\n",
    "context = proveit.Context('..') # the theorem's context is in the parent directory"
   ]
  },
  {
   "cell_type": "code",
   "execution_count": 2,
   "metadata": {},
   "outputs": [
    {
     "name": "stdout",
     "output_type": "stream",
     "text": [
      "Beginning proof of subtraction_disassociation\n",
      "Recorded 'presuming' information\n",
      "Presuming previous theorems (applied transitively).\n"
     ]
    },
    {
     "data": {
      "text/html": [
       "<strong id=\"subtraction_disassociation\">subtraction_disassociation:</strong> <a class=\"ProveItLink\" href=\"../__pv_it/a3b2b38a16b0cb08d2480da6a27f9151f3c176c30/expr.ipynb\"><img src=\"data:image/png;base64,iVBORw0KGgoAAAANSUhEUgAABE0AAAAyBAMAAABbijgVAAAAMFBMVEX///8QEBCIiIhmZma6urrM\n",
       "zMxUVFQiIiJERETc3Nzu7u6qqqp2dnaYmJgyMjIAAAAcRTyBAAAAAXRSTlMAQObYZgAADwBJREFU\n",
       "eNrtXQuQFMUZ/m939jWzD4JGAR+13kWCiLqBRBN5LaaUJBVhIRXRMsltnZqIAbOGhIhSup5Veoia\n",
       "MRhFjGE4SsHzcRuUOrE0twHFEoVsQR5KQM6cohI9r+Qg3J3k0o+Z2el57c7sSd3VXpfeznZP/98/\n",
       "f3/T/ffjXwAqSTUDA3kYRukVGEnlJz5NP8MDA6Mqk1Sz5RFpGD14OD/S+E7SHJkvjzxaKU9Sw+q5\n",
       "x480vaMU6ZAvfFXFE0H3tKHCiUB1jSKIJ8gs1jj3ViVP1iXZ7xuZb9d/Qagbgb8j46jCqfLFwtK3\n",
       "DEpaWNJi1cWTO3XfP2K+Lbaty7lGRSjRhKManfLns6VvsUxJB3jPluyBq4onQp9u9HXSeutt5MZt\n",
       "x3iEEsuVc7ta0K+43UrGJsO9/aWmKgkH6oatH2B5FfIkoLNdwMn4v8ctTzDKXMkJTziFz/woK55w\n",
       "faU8UCc84a1Z0C5WH08O6HjxsJO+6LBbnmCU18AJT8KqN/OeFU/CpRyedic8UXEs362q4snNuu91\n",
       "eDIybfI4+k7VEfPNGf3SR7Bq30Lu3Z3TkMMSmr5dhE2T4rDnv1NyvnN3d9gZXpVlQDlYO9UBT6IN\n",
       "dfI4tU3Pk6211ODRhLAHs55799xdIlZyzul7tqN5FdIchNqtEJm5ZCrMf/l8W56Ea88GFsekX+qr\n",
       "Op74enQZ96H/Z4nRboArkdE4aoqTXjzO3QKzpJqTYUMCZkvcOGEZXAiwhEyPMnaGp7LqjCj8/6RW\n",
       "EYOUx5PWQ3wvogIy7Ts6njycC3YQOa25c+aS6XbN1NYCVhK+lOSXANG8TfSmcT/AZyFgS+tb4X44\n",
       "i3whOOEuktiOiP+s6nji1T/rrcgMZ4A3Cz+4COBRL+0rPkAPlYeaeDQNQg+cDjBa+DL2LxBPZkkQ\n",
       "tzE8lQVXGVGQAx2LY5DyeNIuAWodAV216XiyHPw5Iqe9WXqGdiyIuVhJOIgyk0TzP6WQ94J4gsjj\n",
       "sYMJ5OHnECDzojZrq3VVHU9q0rqMkxF3kEWR2WYDSDFqPmTv+un7/1FAU1n+sO/w/v2LwTdppoh5\n",
       "Ejh2jlEqegs/OLOrK63KojNN8mq+r6B0QGseg2hvt5QDM4D/nGbW4z+7urpu6uo6CAQBiLLwNeWt\n",
       "R3SmSqKJcmuCaA7zt/USv+L2RtEOZiZ2rlslFcc8XSBWG0/qC0ae1GShNUVN3y4pCxPtOaBLHscE\n",
       "PP3kPxTrCU/4XQMJmxdUlgVGFCRrbo7ypJz+pBO4fg1Piv0JQpB5snSC4sskgCiJ9Y5liebPrvBR\n",
       "njz96WE7mDGKMFuerC1UG08uEI0jAnrN22Vr3UUzP0ZWi9MGQP0JHp2DGahfg3gSXwORHhvDU1mX\n",
       "pI0osQJ+ecvmyXHccTRPVVtR5QlCoJl8T0jWJJoHoqTcn2AJd4OvVwokPCEJDiRthknSZ23zjVdw\n",
       "ZP8kbdYLVxNP7gCjh9magxsFkZi+P6zwJNABvOyf3AbQHEPt/2DqICQusVizVXhCZOX7jCixJPJd\n",
       "yudJD6wrQGIOGPxYxDcg/VKkW1EX8YQoSf0TovnnIPReGk17uTj4C7Z0RD7QJ8/jkecda6sFM9XG\n",
       "kzH6DDQbDMYjS8OkCbnux0gmGl98/eCVomNhQx7qc3Ax6u3/+mNpBiSQH7sC86EDz2DkC43hiazQ\n",
       "Uxkjir8QTBh5osohfzQFi+FO4MXt6GoayxM0j1mfwnL8WTgSVtc3sJLwrsgvp5qPgfCRvd4OL/Jj\n",
       "g6KspYqlgbkQ+G/AUdKA06ytFu6WeUIedr97nkTJNLsw5GnCGwZr3Is0nP3QV2gTLiaP8J2BlQBP\n",
       "TN4B0cW116LyayZJoWsmNX8C/kXi93fvw/14APfES5ULTUdOZAXjJiiTd4KRJ6oc+qdYsH5SQZ61\n",
       "v6+b77y5nzrdwRzUTSTrsr89liNKwsHd45NU84cm7zi/AD99ndt53isKTBFLs5y3czf4Rq8EDY7Z\n",
       "AsoRmSdv4M9D7nkSJl6fNPSXTz4zrDWKmrbUJwdbd8xA0vq4FUrZ4w5NvYhfGbP12NmmlTtdqevJ\n",
       "zgtpcCzNhniyGi+5ZN3zhNRdPfSHHcGwdVbcA2mriCe89iX5c9gKpc3sdks52CNQ9+datLe1VcgT\n",
       "LUwwvsBjuw8od8NIG9wVhHMV+Ce4L3pj6POEdqBMWiF/rrq9wVAWSLuDeeJ1CxQzEJvkyVrs91vI\n",
       "WepK26joP9v2/ALAUZknkR0tLQ9DBTzZ19LyZGbo88TTa8jaaH0394ujg3WabKOrWtjPWVH+7ZcN\n",
       "LHSvoS3OMaV3O9bUtLwSnsSamu7OD32ehI1b8UP43OO1D0gQOUHnHu1xzlR4ch0hlEc/HkfZKa9n\n",
       "tBVP/Cky/3KR5nTYFnNdg2kNbx8Mo7Ro4VDR5FSFJ98GHrWXTz6QsuQVOIsMzQK9bcG0pOcUfPEr\n",
       "paKaI/OES5gMcC9sX2rjHAn3/gwPsuGESSa79GBXbJVproa/G0aSi3STwpMAeOSe8alt0+GFsORV\n",
       "HGL+pSkFIbsDLsbXffocdZ0tA+dpBWMpj98DPzEfi7AE/krJ9zHusnImmZr0H7tiizqWaozwpEKe\n",
       "hAvyMYXIyjUSvBxPqDO7t7a0gLDbC9jUXEafo/JkJ3Msg0h5Ow+COU+whMgfAF5C1zHRJJNdQrAu\n",
       "tqhjqcbwGneGTvqNwpNQxxWIBuPxAITS5s2/IzxpnooHFNSzX31VPE/GiPlpNkflyR99abzmeCN1\n",
       "aLAU7mp0zfos68eTRT8i4dLNCBV91tfeAIZM7RLPeMlYvLXWro5SbFQj3DvS5m6S6sfCimuRFWMS\n",
       "XcHfHH7mR/gzMYeuyAupHX/HrIj+63t9bI7Kk+BDSYANqXoJ/KhdsZTIM3rHlv+1rw+XEQl736aZ\n",
       "X5XqSBUmU+M634Kca7/IFgeS8+zq4OIZ+MKghodZP3lshADWaYv2yykqT55Dw8aaNvko/2bIY/cR\n",
       "70Otp6wIE3czdh0Am6PyRMAnrKbAAvD9RaJShKf0PPEmfAhFohJelBVphHdwFTZTu4RA4xaZ4m+C\n",
       "z64OKobnAEzUYM4E8FltJX/2CzG3JhhLGFehrBKhYg4jyUokv7b1Dqs8ISe5GsF3c1NTI+LJY9Rd\n",
       "uQ8WNDU1xYVUqIB1mDcBOZ1MjsoTfEoPTsPBuwGJSglt1u8j1+Q8ZBZFJDz6Q5p5MlyIq7CZmjpJ\n",
       "r7HOaQB2dXAxPrlhVEPoYdYhGbvYr3Ak3dq7uJYeSduvAJSWVWIfoeQ2g5M4NV6zXkGPqRCeRCQ8\n",
       "nUlBmvYn3HzZifTT3gMuxTya4BslsjlFnuxF9XvhvhbSgETKxXHceWhSqxjcK22KUwneZlQBffah\n",
       "ZsVVmMxiikk1ucg+XXGvzBOLOrh42eUJEzV8xzW37XFiNZsm2GRbs79ciPWlbykRKhbLuYcwPsRW\n",
       "rZOo8oQgd+ThVXzxN4B9sFrCJWFMgkgSIvnQPdDoy8Q1OQxPcBrr6ymQBiRSVr0K4fhqCdWT/9SI\n",
       "9ZfD8wkqITQtBVtR9i2RLKnCZMoV0H8B6S34/QZd8XvgtawjF5+xpqBVg+lA5bTMyXKlW55wZc+w\n",
       "yqBtiVAxptghhPEh1mmg+hme8ItEfKoBuNuS6FWdlyP7UPhswuz30LvpOw0+goaUJsfAk8vOraM8\n",
       "wVKA3/XhdUiKbyzME/GfHNewaTpeuSUS4Omuu1JI5hVv0r6ByaQVRFx7UZ7OW7TFq86baFmHFnP/\n",
       "xg1bVENJtxUfPuRkNG93y5NwuSh2QWRKKhEq9loFEMaHiBaHWjpNZM+zTUD+CU05sg/lQS6ADKNM\n",
       "GtQcPU/obEPSSQHmagNnlEmqGIHUOm+AgzrkyhM/lGPUkNNMzdwHN/2qbWfRl7B5Mnn7XYRMqSZW\n",
       "ZTHWVuO1mieYIZQVRKYk81AxNVSrE17+llsIQxSZdqHc323kSVEPEe9DWc2ULHniu2AqK0V35Z9o\n",
       "kKmrogGS6xwCB3XIlVfcZ+p5Hig+URCZkBsLnyJZqNvMz6LP4jxkSjExlaXfIiPxWhgAEjUmQVnl\n",
       "BZEp/T0JFVMOnjGhWhiB7/c8eNwthDaKjG7jRYp8omf8LXgS0e9DFcriiUGK8aqUzAJbJ/RIh5M6\n",
       "tvOW+mL3FkCX6wp4Ej0lA6HcDPr6Ow+ZUkxMZClbZMUBS4LPMABEROpmsgjlBZEpb00fmZbmWJ7g\n",
       "UC2CIPRN5AtuIbRRZHQbTyjyaW3chidlpy/6HHVk2+DtrWvivGqSJMzpl2Q7ggd6ItJpyJQmAIvK\n",
       "oi8+jW7AdiHxWni/g5fdTBahjCCyYrgYDRWjg4IuVAsjeE9SxjqnELooMrqN5yvuhVVfnJe3m+HJ\n",
       "GOCPUCPLv4viImRKeRWpLOPyCdcv74u9ZoJQXhBZcX1kbs7gn5AQAowQaGgE1xDaKDKqroYnd0O1\n",
       "8YTr0Y476FUXuqldgrSjcREyJZuYyuL0vxJI4rWo4TtNEMoLIlPWR3CoGF/Hjjt0DQwjtCbXJl1D\n",
       "aKPIyDaerDQoa6hV9rsWS7R+LN8P/o4t1Mi5vGxipyFTCk+ILLxFxiQSr0VMzveDEaG8IDKFJzhU\n",
       "zMt1sP0JCdXCCAfMH6I8CG0UGdnG0/ixnur7XQvNhAfP+xrhn+k8MfJcejKxdMiUGt2lhEwpJiay\n",
       "1ugPwuN4LcoTeWRjEcyCyIrxY62sA09CxZ4Mp1mekFAtjHA9xFJ5txDaKDKyjQfevM6pqyqe1KhP\n",
       "j037RO1VDUly5SdRbmWETBWju5ayPKGyGvVL5Thei/DEmzFDMAsiUxF05/1pqFiwwPIEh2oRhJXg\n",
       "mSy5hdBGkZFtPM2Z12r83S3N7/gt0zLG6H+WnbRLmXiLzMQryoDxl+E6XT6BcrCLWY/lTBdFXD4E\n",
       "2caDDXox1fW7oJ3G3Q6hMp5oA7DwFpkJOTPgk9amBocn8xRKSiwCDNpDkG284j6gch6iunjygKqt\n",
       "EiAQuuiocenJXcgU2SIzJAywNn/n4CDABDBHMMl2CUG28YrnCqrzd4aLbx57TolNFYVMmSV/XWGQ\n",
       "EBrLvrOihyiG2VwD1cgTvM8hp+F47tH/3XEnBkg9TRrJDhZPhte/q+KPwzBO/u3iCUYcvH9XZZj9\n",
       "O01fh5HkwOO6QZ5+DwyM+j9MK+Lo7x2N+AAAAABJRU5ErkJggg==\n",
       "\" style=\"display:inline;vertical-align:middle;\" /></a><br>(see <a class=\"ProveItLink\" href=\"../__pv_it/a3b2b38a16b0cb08d2480da6a27f9151f3c176c30/dependencies.ipynb\">dependencies</a>)<br>"
      ],
      "text/plain": [
       "subtraction_disassociation: forall_{i in Naturals, j in Naturals, k in Naturals} [forall_{a_{1} in Complexes, ..a_{_a} in Complexes.., a_{i} in Complexes, b_{1} in Complexes, ..b_{_a} in Complexes.., b_{j} in Complexes, c_{1} in Complexes, ..c_{_a} in Complexes.., c_{k} in Complexes} ((a_{1} i repeats ..a_{_a}.. + a_{i} - (b_{1} + ..b_{_a}.. + b_{j}) + c_{1} k repeats ..c_{_a}.. + c_{k}) =  \\\\ (a_{1} i repeats ..a_{_a}.. + a_{i} - b_{1} j repeats ..b_{a}.. - b_{j} + c_{1} k repeats ..c_{_a}.. + c_{k}))]"
      ]
     },
     "execution_count": 2,
     "metadata": {},
     "output_type": "execute_result"
    }
   ],
   "source": [
    "%proving subtraction_disassociation presuming []"
   ]
  },
  {
   "cell_type": "code",
   "execution_count": null,
   "metadata": {},
   "outputs": [],
   "source": []
  }
 ],
 "metadata": {
  "kernelspec": {
   "display_name": "Python 3",
   "language": "python",
   "name": "python3"
  }
 },
 "nbformat": 4,
 "nbformat_minor": 0
}
