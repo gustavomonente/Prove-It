{
 "cells": [
  {
   "cell_type": "markdown",
   "metadata": {},
   "source": [
    "Proof of <a class=\"ProveItLink\" href=\"../../../../_context_.ipynb\">proveit</a>.<a class=\"ProveItLink\" href=\"../../../_context_.ipynb\">number</a>.<a class=\"ProveItLink\" href=\"../../_context_.ipynb\">addition</a>.<a class=\"ProveItLink\" href=\"../_context_.ipynb\">subtraction</a>.<a class=\"ProveItLink\" href=\"../_theorems_.ipynb#addCancelGeneral\">addCancelGeneral</a> theorem\n",
    "========"
   ]
  },
  {
   "cell_type": "code",
   "execution_count": 1,
   "metadata": {},
   "outputs": [],
   "source": [
    "import proveit\n",
    "context = proveit.Context('..') # the theorem's context is in the parent directory"
   ]
  },
  {
   "cell_type": "code",
   "execution_count": 2,
   "metadata": {},
   "outputs": [
    {
     "name": "stdout",
     "output_type": "stream",
     "text": [
      "Beginning proof of addCancelGeneral\n",
      "Recorded 'presuming' information\n",
      "Presuming previous theorems (applied transitively).\n"
     ]
    },
    {
     "data": {
      "text/html": [
       "<strong id=\"addCancelGeneral\">addCancelGeneral:</strong> <a class=\"ProveItLink\" href=\"../__pv_it/1393a142119fb389c4692b35606d3a88fd45edd30/expr.ipynb\"><img src=\"data:image/png;base64,iVBORw0KGgoAAAANSUhEUgAABkYAAAAZBAMAAACWbY/WAAAAMFBMVEX///8QEBCIiIhmZma6urrM\n",
       "zMxUVFQiIiJERETc3Nzu7u6qqqp2dnaYmJgyMjIAAAAcRTyBAAAAAXRSTlMAQObYZgAADO1JREFU\n",
       "eNrtXAtwVNUZ/pPdu4+7j6RIWx7SWZJCkVe3YYqW52IH03Za2NCpQK3NTpRaWrCp2FCV0TWd0SCl\n",
       "3jY2UKydK4yiQciaymAclC1BHEHoDrS2ULDL8FBojUwJlCQiPa+795774u4GKcGc4exezn/u/53z\n",
       "n/875z/3ng1Ab9JdSyXoT/3pGk7upct6p6C234b96VpPTZ9gjjzFcn/qRQqYBBL+zLXQszaWEUey\n",
       "+OtwwRwJ469QXzSKmKRZk374sQA991kb4Yvyx9K3h42zl/Bw9NLNcZ7mXUe/F5p0+OoaaKWlDpNi\n",
       "J49EM+LIbvz/UwVzJJhCX2G5D3IkLNGsSYvtI9NCkY7ayN62vzVWaOeixrKS1KWbkwdoD/3aZJSc\n",
       "vMpGuie/6sxOYpZmxJHVeHFMFswRcuvqvriW7mfZcVpnLWo1DUMi+jFqzXs9iFoHOREH48xBzpad\n",
       "uYwzUHc3/Q4a2hGKOrOPZSfMS1sLM77aUqdKFDttZ7mJrAHBVOH7EbwE7e6LHLmP5bxIVcgwqWOU\n",
       "N0dChXJEGWct5BtGl+kFaJBFc2KpvpJXuro4EqzNTwmzEzzNchOEdjU3r+rFnv1Qc/PzfXHr7q+l\n",
       "2fnu9EyBHFHHKG+ObCuUI2+YQB41ukwvQHPR3DF9pVVwdXFEG3c6UaLEouEYzU0A5xsalvWCIyUN\n",
       "DY+m+yBHiqM0Q2P7cDrpiuXErrMGbD0JjYcWuo/smYI2KP6pOyVoHRuB/f+dkBLG7MvaWdg/pWKI\n",
       "YZjCNeUp3UBsL4tTyLKkCSS+hEDZdghNXzIZ5rw63tYJgmUjjNITZZP1LRvRo7hMYD+e6d1HxuyV\n",
       "cO9mXb9/ZyZP0Mbt1Urs0a6vVK43hAOO5AaBK1XM5NC9tdXNWupEiWonCEZpRhxZALC8FxzxxMHX\n",
       "F18k+jI0uwfDB8wmbho2XPfKBff9MEMuGgjro1Apu4cE7oOJAEvIE5taOwvPkMKnDcPUckrs4qut\n",
       "Svko1VwwzASSXG6RXAnwRvGjN6+de/kfgF8ZtxQfyS2SrmU+FmO1pG6YTZ5DFk1uyeDewadi4pL8\n",
       "QJHRHld8+h1iuw6SyIy9Um+IS3NEHQRtac5Mztybq27WUidKVDtBKEsz4shXye69WL/AhuP8tDvA\n",
       "giPuqNmjDSdpVvayOLvrrL18ety02Jui+ekM3AQgoPn8SRdt0LvIfdJQFAknINAJ1wMMCHwaB/iI\n",
       "IzNksIsDxGHgStKJVDNM22T4Dz8Qy8CTgnno4gDbQPOQ5PLFONo4IHdFPlxs517eNPzYMFqBbiiJ\n",
       "6FuGeocxt62VN9IRRqOHewcnUGEsL1BktGkAw8n/tugrPZAzxDynHKGDoPigUpozkzP3JtXhuFlL\n",
       "haRDJdRO1NkDtTQjjnihGE0rAp12hCU7YHiC1KA3zZ0SK/4MvrhX0ZYroRxBeZyh67+8q8Yusqfi\n",
       "YI6WL++si0BhSlC3tBOWiaYWMJUXxWieLsM9IExAPZGZWyGXqZ56+O0MimPFM8KZw4cXgzB2uoQ5\n",
       "4j1/g7Elezs6ftrRcQLTFTkY0jGfTqzvfq6jA5tyGogf6qsBfPtG9CGzDTQHSS9hTnsXdld4qN64\n",
       "TGu0T5dzo7WJzOXYSdA4t6T1LUtTzC8pZkeEpL1DAXhLNF9QFJ97yUPian29gYohCJy2FXb67mE+\n",
       "qJaqZrLWobcqQMqkpWR4nSpBdqLOLpymGXEkmFGW1Q3tU+HloOxS1iZx64RMILkLJuHrbn2JwpE9\n",
       "XPiBa4jzZOHfFs8VNeJwimE+8xh8Pw2FKUHukVVbb9CE0mtgKlc4MghEtBC5a+mEz/Zs21Jsr3c+\n",
       "gCd68T2pmnBE3HsxajMLFSWhxRgSHwV3j74aSpWaDTQHSS83LReou77wwRm7KXiQmRDpmZ3StyxG\n",
       "MetGRXKVSO8wekkyT1CxExFLtuIIM0Sl03WEDoKuVGMmJ0tAUdK6pe5a50qQnaizazjiz97K4q8V\n",
       "a2R4NRINKvf9va0ZAvtcgL2KomhLFI78QUhosHCN0O8Btpo3RSsukRjmgTQE0lCYktxyZK5J3VPq\n",
       "5SzWQlN84DTr3iNUgqhXHaE+hNYRHCb5aqF6DeJIZA2EOm0sjObubcZhuqBMcZpqyuCzZy4cJL18\n",
       "FIQu2Rst9svwz5i1e5Elyvh6JMPWF13LEKbY6WddCKeB9I6tI/mBYqNR963U7EcSLNZS4RxxhOnT\n",
       "lWrM5MS9W9LWmh1zhDacVsefbhprwfI70fVIvDFBafPm3xCOrJ2MdxoI67b5kTTxxDkJvkThiK8J\n",
       "WVOsuJtMoKTGzM2IeXwT1o08bhBXl/2IYLpvQ7dK9MEE2CkJlkUMYrFiPJ0weU0qcNm/wFTO9uxi\n",
       "D3iybcQWYk9QcVhvFkS2OXgQ2aIEWe6J+AmI3mzxLl6xcAruDkg3J3iOdOKgWFsNeTAKCSrZHUZI\n",
       "cokGt2tmOOFyR8CTsZmCL+BAa+1kHUdi4jCTlmHM0Gmln4gjpHd0P5IPKDNauzBS2bNr00otnDOO\n",
       "EH3YB7WlGjM5cW9SXVQeIfItdc4R0nDi7No9O/wRKQiWyPTk1ubgxu/h7+gsehQrEN/1V8yI8D++\n",
       "0c2XKBwJ4IhxfbxaBo9Maxw8YIiOfiagqTTLi78glxPM0Ebmtt5YFdZhpQTuFUrxCRpOrADzmnhg\n",
       "shfXy5Une/Xwt0Sazhmn6QlHFFMJPeCSw4NhfRqqUzAJrcB/vl2eBlG0Z1+OnxoB+2jJchb2RUJ1\n",
       "QUh38168GH7BD4QrAevidPBZeMdDkstBEDx70JV1oe0zfm6IkVRcjfaJIH4ZjxaXPBlf1KRlGNOT\n",
       "hLOUIzimwr2DI5K4zBJURdaAUqO9/xKOtqaAceFW4fgd8Ud2+rAPaks1ZrLTwVnV5c6atVTPEXXw\n",
       "TEeQODu40jRjjuCt6pot7AjCZkjj4ESUdtKzF4F4kAQzJQsA+BKFI+ShzQSYC8KfZFrjlTbDs6eo\n",
       "gDfFvLge3iGYgQ3Mc28CAeuwVJIEslZx4glQRYB5TVrgUghEwShXVtJny+bXxKgRF5Op82sXV6DS\n",
       "il0QXlyGVljxjrGy/46xa98HzyLpm/sO4RCkDtiHN8GbvmZE0+f9G2r5YVo3NqObxd46HGEORHek\n",
       "Okhy2VSxa3wGfvCme8+4HQpSDlf7hnLPPjJa/NRQsQeMLSOYvhSUjyYGePx8ivQOTuwbGbMGVZFV\n",
       "UGq0c2Q4juvHqVILx3e8zk7fmi26JVI1k50OzqrPBxNmLTWsI3Vc7/R2Is5OnhXijDkSkonDCj9v\n",
       "aKhHHHnKy1bMuQ0NDZFA3J/BAFWj0CLGleQ4chDloYAWSq9Mazz5Hb3ZilLFpC2ceCBMJJj+zWyf\n",
       "OxSIDmsl7MGaVqwA85p4YBe60SjnzqK4a003vk4Tt4T7Ilavi1t1rkQWkAIhee0rnb2ErjStc7Qw\n",
       "UGHACuxVBsupZ1Ec79mVSdOk1HGspYbQRs2OYy2aiLPDepaV34+I3XFI0HXEPYeUdIGHrhowE8ON\n",
       "EkolviTHEXx7F6xsxq5KarjWohL++avkOyi3RnhxN3JwgjkpgtcYDEk5YqGE7PEP8eIcMK+JB/Y+\n",
       "sd9Ezp1p7CVHmjnMZ5hRZNtqaPC/6z9bMCSvvctRy3rNEQ60OFnltz/TWGneCgt92AeNpZfUwQtK\n",
       "JDPz5IbXmRLi7JozjYx22TS8ji/+AnAIVqN5uRSCuMmhGITS/segXqiNaEp0HIHBQmcGuyqp4Z8S\n",
       "h+3ontUy+UD/iqTqb8FLUV58fyhJMRtfR5ZGBcfARdzdQkk4BtHfrteJBwtnCbBGE7uDfCDg26Ho\n",
       "wEatXJlxJFBPCARMOOJNFPZS87Wgo2pbwP+hL3p5IIVScIhpluoKA/VF5habno1fbg9nuUhl046b\n",
       "bJmqzFXnd6KQOLvmbDyj3SIJR6rgfjCG5umqFJokAPBSWnkMTcHCUDgJNXFNiZ4jt4wpp66Ka8AL\n",
       "HY/E0T1VkjAYfSB17prWqfjUCie+9S0SHeO3Du8tAFTQOG400WGhxF+xTyaPp7TiHLCqqSpF7sAf\n",
       "FHgWfvGtypUuJ9XfWPlvPGeYDt0/OVfYGZtn33RSq/GhGqiZepkgi5PgFNOYbrm4sCDQsOQZYXqO\n",
       "6TlbOOtFapHktMnWaZRZodnw2iXi7Lk5lPut7qgGJSJMkaC6GMX9jIfKWORKdByhs6Bsdg9794li\n",
       "O7eJWMUM5HTYKdltJiY3aVvP31MW3sDJWbqGfqvri/y/kENX2W916y+bpgMsW/yePSDd+Wsunmuz\n",
       "0MNxRPjiZPN72G+ePaNtVbaZ6DAqOWUi1t2k/sSaXX0ltAOu6aQbrU9u8nx9yOVXas6RECzil9+M\n",
       "E47oUkajzlZsh6FT4v9d9tL3hOyBr8G0aGE/PShHdkpXiiOO09Ir/Pe1Qu39f8+rP13R5F5a9z9a\n",
       "j10uDP78YAAAAABJRU5ErkJggg==\n",
       "\" style=\"display:inline;vertical-align:middle;\" /></a><br>(see <a class=\"ProveItLink\" href=\"../__pv_it/1393a142119fb389c4692b35606d3a88fd45edd30/dependencies.ipynb\">dependencies</a>)<br>"
      ],
      "text/plain": [
       "addCancelGeneral: forall_{i in Naturals, j in Naturals, k in Naturals} [forall_{a_{1} in Complexes, ..a_{_a} in Complexes.., a_{i} in Complexes, b in Complexes, c_{1} in Complexes, ..c_{_a} in Complexes.., c_{j} in Complexes, d_{1} in Complexes, ..d_{_a} in Complexes.., d_{k} in Complexes} ((a_{1} i repeats ..a_{_a}.. + a_{i} + b + c_{1} j repeats ..c_{_a}.. + c_{j} - b + d_{1} k repeats ..d_{_a}.. + d_{k}) = (a_{1} + ..a_{_a}.. + a_{i} + c_{1} + ..c_{_a}.. + c_{j} + d_{1} + ..d_{_a}.. + d_{k}))]"
      ]
     },
     "execution_count": 2,
     "metadata": {},
     "output_type": "execute_result"
    }
   ],
   "source": [
    "%proving addCancelGeneral presuming []"
   ]
  },
  {
   "cell_type": "code",
   "execution_count": null,
   "metadata": {},
   "outputs": [],
   "source": []
  }
 ],
 "metadata": {
  "kernelspec": {
   "display_name": "Python 3",
   "language": "python",
   "name": "python3"
  }
 },
 "nbformat": 4,
 "nbformat_minor": 0
}
