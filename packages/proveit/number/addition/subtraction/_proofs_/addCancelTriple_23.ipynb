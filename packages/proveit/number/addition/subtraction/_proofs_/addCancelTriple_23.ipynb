{
 "cells": [
  {
   "cell_type": "markdown",
   "metadata": {},
   "source": [
    "Proof of <a class=\"ProveItLink\" href=\"../../../../_context_.ipynb\">proveit</a>.<a class=\"ProveItLink\" href=\"../../../_context_.ipynb\">number</a>.<a class=\"ProveItLink\" href=\"../../_context_.ipynb\">addition</a>.<a class=\"ProveItLink\" href=\"../_context_.ipynb\">subtraction</a>.<a class=\"ProveItLink\" href=\"../_theorems_.ipynb#addCancelTriple_23\">addCancelTriple_23</a> theorem\n",
    "========"
   ]
  },
  {
   "cell_type": "code",
   "execution_count": 1,
   "metadata": {},
   "outputs": [],
   "source": [
    "import proveit\n",
    "context = proveit.Context('..') # the theorem's context is in the parent directory"
   ]
  },
  {
   "cell_type": "code",
   "execution_count": 2,
   "metadata": {},
   "outputs": [
    {
     "name": "stdout",
     "output_type": "stream",
     "text": [
      "Beginning proof of addCancelTriple_23\n",
      "Recorded 'presuming' information\n",
      "Presuming previous theorems (applied transitively).\n"
     ]
    },
    {
     "data": {
      "text/html": [
       "<strong id=\"addCancelTriple_23\">addCancelTriple_23:</strong> <a class=\"ProveItLink\" href=\"../__pv_it/6c5197692aa7f5e617a42c99c06fc7ff54498a440/expr.ipynb\"><img src=\"data:image/png;base64,iVBORw0KGgoAAAANSUhEUgAAAOwAAAAVBAMAAAC3YB/2AAAAMFBMVEX///8QEBCIiIhmZma6urrM\n",
       "zMxUVFQiIiJERETc3Nzu7u6qqqp2dnaYmJgyMjIAAAAcRTyBAAAAAXRSTlMAQObYZgAAAu1JREFU\n",
       "SMe1Vk1oE0EU/tIkbbPJrh4EwSIE69/BQ1HwIK1URDwpuVgFwZZgEQUlHiwqHkIF2bYeFgQVf2Br\n",
       "ESXVJlSKVgoNLfWgUha82IKl0FakSBDxoKmC8/Ztms4mpRvBgcfMfrvffG/evHmzQEXtoWMe23BZ\n",
       "NGwAszT45HEaJWnb040ev6823IhNPQu8o4dFj9NoBtucVzdnSyCiDgB3RRdKepzmg2NLBWBwDcJY\n",
       "CULUSBSaKbqMR9krbIG8V9leN2BTlfVQ36ZSdzyqhhJskYRXWa3ZBTB1Hvip69c8ylY1sGnx+ows\n",
       "G2rcvcnloo1EGtx+2NRxoB3oKiNxtDQbUGuxpReVX7LsAUP7Jn/LiGrPMpmjZuchU2eAg658C988\n",
       "E8dKP1+96YjyqCbDNmriuySrbIZfTksHCSdcnjP1pZgHVVbh25E9lnLCDH6laFAY+8eb8Lgbp7L8\n",
       "3tfMth/Kb17ExVzusxj586gh1wbsZS0UkaArBg61VSzLqilgH4dTUB8AI2K8ThxPteeeiakswi7Z\n",
       "OQSWpNX6kkjHpOkdpESWqUI2NNsiHvu2LyBAcT00JCDRt245J+IvMv6kYBtykP/QYlbKprMYlad3\n",
       "kECiuLcUFod6WIy6TovwXgrmoRE+PcW8HWa9XTjV50ZJSv1AryXLZnAhLBVCB1HdiclUkVJ4ITzy\n",
       "NwQT6CP8tVO+OzGj0OrD/cXpKM3IzuO6fG5ro2pHRE56RvxZlyxTG2kXxdb7MlVtOK7revT+MX6/\n",
       "AXuDl3W9MzRU3DQKGVnfLkuWVeLbbm+VM5kRLeaSZSolnSrKY9qonTarCfc/EhzR51GHNgL2Ca9M\n",
       "uTgW21pV6kn5G6JwrHxG6xFEYnZ1iWEs1I2rahIT9OrWBJVu+SpYbqmKrwLwVeCELz7YBPTQ8Fnu\n",
       "RixYh5b3YoPo7CqTX9qXd8xgw79ffOCLT6q5Ym+dUsXdTr2z3DXvua3iYldlfyMV/9RMlUXVVeNl\n",
       "4f+2vztd7I9a4+XdAAAAAElFTkSuQmCC\n",
       "\" style=\"display:inline;vertical-align:middle;\" /></a><br>(see <a class=\"ProveItLink\" href=\"../__pv_it/6c5197692aa7f5e617a42c99c06fc7ff54498a440/dependencies.ipynb\">dependencies</a>)<br>"
      ],
      "text/plain": [
       "addCancelTriple_23: forall_{a in Complexes, b in Complexes} ((b + a - a) = b)"
      ]
     },
     "execution_count": 2,
     "metadata": {},
     "output_type": "execute_result"
    }
   ],
   "source": [
    "%proving addCancelTriple_23 presuming []"
   ]
  },
  {
   "cell_type": "code",
   "execution_count": null,
   "metadata": {},
   "outputs": [],
   "source": []
  }
 ],
 "metadata": {
  "kernelspec": {
   "display_name": "Python 3",
   "language": "python",
   "name": "python3"
  }
 },
 "nbformat": 4,
 "nbformat_minor": 0
}
