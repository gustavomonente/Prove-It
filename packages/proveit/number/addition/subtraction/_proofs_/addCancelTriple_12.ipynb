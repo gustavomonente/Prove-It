{
 "cells": [
  {
   "cell_type": "markdown",
   "metadata": {},
   "source": [
    "Proof of <a class=\"ProveItLink\" href=\"../../../../_context_.ipynb\">proveit</a>.<a class=\"ProveItLink\" href=\"../../../_context_.ipynb\">number</a>.<a class=\"ProveItLink\" href=\"../../_context_.ipynb\">addition</a>.<a class=\"ProveItLink\" href=\"../_context_.ipynb\">subtraction</a>.<a class=\"ProveItLink\" href=\"../_theorems_.ipynb#addCancelTriple_12\">addCancelTriple_12</a> theorem\n",
    "========"
   ]
  },
  {
   "cell_type": "code",
   "execution_count": 1,
   "metadata": {},
   "outputs": [],
   "source": [
    "import proveit\n",
    "context = proveit.Context('..') # the theorem's context is in the parent directory"
   ]
  },
  {
   "cell_type": "code",
   "execution_count": 2,
   "metadata": {},
   "outputs": [
    {
     "name": "stdout",
     "output_type": "stream",
     "text": [
      "Beginning proof of addCancelTriple_12\n",
      "Recorded 'presuming' information\n",
      "Presuming previous theorems (applied transitively).\n"
     ]
    },
    {
     "data": {
      "text/html": [
       "<strong id=\"addCancelTriple_12\">addCancelTriple_12:</strong> <a class=\"ProveItLink\" href=\"../__pv_it/80eea350e3947abd3ec9d21e77157ce3c33b18940/expr.ipynb\"><img src=\"data:image/png;base64,iVBORw0KGgoAAAANSUhEUgAAAOwAAAAVBAMAAAC3YB/2AAAAMFBMVEX///8QEBCIiIhmZma6urrM\n",
       "zMxUVFQiIiJERETc3Nzu7u6qqqp2dnaYmJgyMjIAAAAcRTyBAAAAAXRSTlMAQObYZgAAAypJREFU\n",
       "SMe1Vl1IFFEU/tb90Z3ZWXsI+pFg0/4eelgMIkrLiOip3JesCFKWJAqKLUgqetg2iFF7GBAq+oEx\n",
       "6Ye13MWQMgQXxYJ+ZKCHUkgWTAmJTaKg1orOnbv+zOwUo9CBM/fec+49373nnHvuAPOiWzm2Sd2W\n",
       "UlEB0qzz3qYZIcrZztQLEcCjmMX3l9DnKPCSDSZswvoVzrbmBgk7nSceJe4ArlHjjdqEfZPjf1Fn\n",
       "ri1O0qcvTz1F7AvAr1KTtAl7Nsd2YKvJMFrNWleWBWARpBfx+FWbqN4IZ1uwz3VPV5m0Pn35B+C7\n",
       "LJ+3CVsQ5IyW/pWqaUcV5cuNsOOlWwglaI54uIxc2w/UA40WEHvyswFFGmfXMnw2qbYr/kkDrPBb\n",
       "TSiQdCuDGUYsmZCYEH4AI8AOU76Jl4+EMXefT541BHivMMm5VcMm03VZAWfUACtmURyAaA5Jr4ov\n",
       "wGOygwJtenHPBk3Yr7o/MW+wNGvvr8SdJhxKcb2jivM2FafYuEM/xRj1nFkUBvi5TmYy40ySRiIF\n",
       "96QJdiuEn0AtHUsrnJa9645Dugn0sPyn6yk1X1cxlIJogl0K4ZvRmiOKRMhwWrq21cl82FG4pnRY\n",
       "b7qGhm1rxuBift3ZRSJqa0uPkf8pjgfJnGJwMu1XNJmjg/UaM7lYY05xRWZjy3yAX8wx2EW9xsPk\n",
       "3tPuLPxMPjzEl61Vy/TCKT1UzCklTMGTNpbbRBInRMUAW0XxzqXUHPrKEoOlFB7RjpxBdwRtTP40\n",
       "Zy+GEYGdXmyfhWVpxjiGt3UpY44HpAaf4bQerYhmOlMm2OO4SN8Kti/KBUeyoA77ZFkO3NjL9Yux\n",
       "0X1GlmPertBsiYlwvlt6IGysA0J49ZVVxgtU/ppFOGSCbVvP8pdloUQ3P6EUDaseJnfepiXUZlGC\n",
       "OibYTLtSF1Acdbpn/TpNXyuHUrsbvpBebkLo8zbhnBTFAFO1DLDSbf8piM8d9FlOmbHnCndWAs2s\n",
       "+yBzKeQuQc0rihi7u8Lgx/qZECqc7ZLFwwf+8BlqLsU2V2N4s06OLfSZn9mmBTXO729k3j81Q5ZS\n",
       "6a/+0vB/6Q/W7uzpVg/1vQAAAABJRU5ErkJggg==\n",
       "\" style=\"display:inline;vertical-align:middle;\" /></a><br>(see <a class=\"ProveItLink\" href=\"../__pv_it/80eea350e3947abd3ec9d21e77157ce3c33b18940/dependencies.ipynb\">dependencies</a>)<br>"
      ],
      "text/plain": [
       "addCancelTriple_12: forall_{a in Complexes, b in Complexes} ((a - a + b) = b)"
      ]
     },
     "execution_count": 2,
     "metadata": {},
     "output_type": "execute_result"
    }
   ],
   "source": [
    "%proving addCancelTriple_12 presuming []"
   ]
  },
  {
   "cell_type": "code",
   "execution_count": null,
   "metadata": {},
   "outputs": [],
   "source": []
  }
 ],
 "metadata": {
  "kernelspec": {
   "display_name": "Python 3",
   "language": "python",
   "name": "python3"
  }
 },
 "nbformat": 4,
 "nbformat_minor": 0
}
