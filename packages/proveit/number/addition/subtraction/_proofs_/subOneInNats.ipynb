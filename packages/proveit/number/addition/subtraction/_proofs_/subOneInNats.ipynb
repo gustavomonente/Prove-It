{
 "cells": [
  {
   "cell_type": "markdown",
   "metadata": {},
   "source": [
    "Proof of <a class=\"ProveItLink\" href=\"../../../../_context_.ipynb\">proveit</a>.<a class=\"ProveItLink\" href=\"../../../_context_.ipynb\">number</a>.<a class=\"ProveItLink\" href=\"../../_context_.ipynb\">addition</a>.<a class=\"ProveItLink\" href=\"../_context_.ipynb\">subtraction</a>.<a class=\"ProveItLink\" href=\"../_theorems_.ipynb#subOneInNats\">subOneInNats</a> theorem\n",
    "========"
   ]
  },
  {
   "cell_type": "code",
   "execution_count": 1,
   "metadata": {},
   "outputs": [],
   "source": [
    "import proveit\n",
    "context = proveit.Context('..') # the theorem's context is in the parent directory"
   ]
  },
  {
   "cell_type": "code",
   "execution_count": 2,
   "metadata": {},
   "outputs": [
    {
     "name": "stdout",
     "output_type": "stream",
     "text": [
      "Beginning proof of subOneInNats\n",
      "Recorded 'presuming' information\n",
      "Presuming previous theorems (applied transitively).\n"
     ]
    },
    {
     "data": {
      "text/html": [
       "<strong id=\"subOneInNats\">subOneInNats:</strong> <a class=\"ProveItLink\" href=\"../__pv_it/22b15a1bb1c3fd235771f9bd1f952340d9075bbe0/expr.ipynb\"><img src=\"data:image/png;base64,iVBORw0KGgoAAAANSUhEUgAAALcAAAAUBAMAAAA9yLHsAAAAMFBMVEX///8QEBCIiIhmZma6urrM\n",
       "zMxUVFQiIiJERETc3Nzu7u6qqqp2dnaYmJgyMjIAAAAcRTyBAAAAAXRSTlMAQObYZgAAAoJJREFU\n",
       "OMuVlU1oE1EQx//JZvOxX+YgHgR18etqaUBBI0RECoKQU4ooNJQWLYjmoh4UWbyYKEpO1uNKD0oO\n",
       "TdSDFARj60HjJQiCCmpBe7CCtLfSk/P2vU03m921HZhkMi/7e/Pm4y3wf8l0uQaKWg9ZmCNdZMa3\n",
       "SPhTocEy5fs9u/bAxpvVQpJ2/cAcy5Hw30IH5ZlNML/zvlyGsgKFwn7Ezm1FsfUhrgOiXLpCcM30\n",
       "uS8U9wJZYB4w2HorCp6qcw2QH/SwkhUx3Ll+yzEm7iaLqACPyddpNKYjszItNASOX44p37bdIpSU\n",
       "ZQY3CsBatXpz8DFtw9wnNJMf3hkEX+B1tHsVVs0Sg2uUykmgNgiXPAUSeqJurATBv/uaZgpvdZPg\n",
       "OlX0pFPXCPgNrsouSFYQ/KVjWh540p4kuEqaQtw7IKP5QnxHH3w7V2kdKdYYs3+ZLG3Ax5yU72Ze\n",
       "AVfKBlVZpnNq3VSvt17luqrVwVEtdyR3zAePWWgWgyJ34Blv5DgvC3hmseS6P881oH6U0A5KS7ON\n",
       "14HdMuKYWS9cb9FeCUoLahP0MXNwCQk2Keq5s2Y7qKDNFi77LxJPQYd7TuoQvLd4QfGCdlCuyusw\n",
       "nIuo2PnUD1/gmjb1a5ov8kMMnuej1hvEP6wfCCwRBtuoTNKQXMEMh2usQT3wEa7K+IGH+/vZh/f8\n",
       "pF7gtVUunhYdsUpRswY0WIV02j7WipcxWq1WTbWY6dJR5E2Nv0Ot8O/EOzH+rjxxjWY9/dVO8shx\n",
       "ytzcxSVm2QxZmHeNWH3sDDTnHAXo7f5/1RA4xO79HXai3mgmxp8fB+6x7NI9VN7KyyJs27Qvk3HK\n",
       "+VZfc3pYNb4A/wA5s67dRJBDGwAAAABJRU5ErkJggg==\n",
       "\" style=\"display:inline;vertical-align:middle;\" /></a><br>(see <a class=\"ProveItLink\" href=\"../__pv_it/22b15a1bb1c3fd235771f9bd1f952340d9075bbe0/dependencies.ipynb\">dependencies</a>)<br>"
      ],
      "text/plain": [
       "subOneInNats: forall_{a in NaturalsPos} ((a - 1) in Naturals)"
      ]
     },
     "execution_count": 2,
     "metadata": {},
     "output_type": "execute_result"
    }
   ],
   "source": [
    "%proving subOneInNats presuming []"
   ]
  },
  {
   "cell_type": "code",
   "execution_count": null,
   "metadata": {},
   "outputs": [],
   "source": []
  }
 ],
 "metadata": {
  "kernelspec": {
   "display_name": "Python 3",
   "language": "python",
   "name": "python3"
  }
 },
 "nbformat": 4,
 "nbformat_minor": 0
}
