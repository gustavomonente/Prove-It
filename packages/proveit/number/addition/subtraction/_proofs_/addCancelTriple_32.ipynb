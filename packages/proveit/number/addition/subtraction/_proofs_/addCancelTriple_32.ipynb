{
 "cells": [
  {
   "cell_type": "markdown",
   "metadata": {},
   "source": [
    "Proof of <a class=\"ProveItLink\" href=\"../../../../_context_.ipynb\">proveit</a>.<a class=\"ProveItLink\" href=\"../../../_context_.ipynb\">number</a>.<a class=\"ProveItLink\" href=\"../../_context_.ipynb\">addition</a>.<a class=\"ProveItLink\" href=\"../_context_.ipynb\">subtraction</a>.<a class=\"ProveItLink\" href=\"../_theorems_.ipynb#addCancelTriple_32\">addCancelTriple_32</a> theorem\n",
    "========"
   ]
  },
  {
   "cell_type": "code",
   "execution_count": 1,
   "metadata": {},
   "outputs": [],
   "source": [
    "import proveit\n",
    "context = proveit.Context('..') # the theorem's context is in the parent directory"
   ]
  },
  {
   "cell_type": "code",
   "execution_count": 2,
   "metadata": {},
   "outputs": [
    {
     "name": "stdout",
     "output_type": "stream",
     "text": [
      "Beginning proof of addCancelTriple_32\n",
      "Recorded 'presuming' information\n",
      "Presuming previous theorems (applied transitively).\n"
     ]
    },
    {
     "data": {
      "text/html": [
       "<strong id=\"addCancelTriple_32\">addCancelTriple_32:</strong> <a class=\"ProveItLink\" href=\"../__pv_it/e3e2c4c88322d868246571b0405b2847cf9fc3100/expr.ipynb\"><img src=\"data:image/png;base64,iVBORw0KGgoAAAANSUhEUgAAAOwAAAAVBAMAAAC3YB/2AAAAMFBMVEX///8QEBCIiIhmZma6urrM\n",
       "zMxUVFQiIiJERETc3Nzu7u6qqqp2dnaYmJgyMjIAAAAcRTyBAAAAAXRSTlMAQObYZgAAAupJREFU\n",
       "SMe1Vk1oE0EU/tIkTbPJrh4EwSIE69/BQ1DwIK1URDwpuVgFwZZgEQUlHiwqHkIF2bQeFgQVf2Br\n",
       "ESVVEypFK4WGlnpQKQtebMESqBUpEop40KjgzL6N6UySuhF88JjZb/LNN/PmzZsAddldx13aaFU0\n",
       "ZAB53nnvcholafvDtS5/32jIiE09CbzmH4sup9EM8nm3y8xXQJz6BLjJmmDS5TRvHf9R+yfDwtdE\n",
       "xTinhiPQTNZkXcpeIPcV3coOyMM2VVkN9VU6fcOlajBBHk64ldXapWGifgC+6foll7INUXIt3iLF\n",
       "J9i6fZ0oS0g4KmeHTZ0EuoFUFYmDldmAJos8s6h8F0f2GNqSKEuIas8yXeBm5yFR54C9Ur6Frp6I\n",
       "Y/k6n7/siVAvkCUfN/FFzNj18CYFWQcJycdB1GdsHjRYJfbYDks5Yvo/82jwMA5NtuF+H47laNzT\n",
       "Tr4byk9+D+xNLLCet4hAhLZ1tlD4WEb8S5IsUTvZtqxACXs3moZ6Bxhj/VXseqr9t0zM5BCSZOfh\n",
       "E6+QJ4lMTNitg1TIEpXJBvMd7HNw8wJ8PK77RhjE2s4Np1j8WcYfZWxDDPIvvpnllslhXMxkB/El\n",
       "ymfLg+BQ97Ne6jgL7zl/ERrHZ2eIt8VssQun+tioSKmvGLBE2SzOhAxBlhBVTkyispTCU7Yib9Sf\n",
       "wCDHXzjluxdzCt99aKgsy9OM+2lcllI8ovaEhd06iDcnyRK1lZ8iO3pPtqELh3Vdj9w+RONrsNN/\n",
       "Xtd7gyOxcolJkA9us6TaG990faOYyYRoMUmWqDwNVVYeM0bTrNnIce89xmFtEc3o4sAutipTLI4r\n",
       "mVilHlR/IUrXymN0HkA4ZleXGCaCfbioJjHFh65N8dItPgUrWPovTwHoKXDCFx9uA/p591HhSszf\n",
       "jI437ID43VWmP3X/OUODHP/+8IEePqHmsrN1ShU1W/Xeas+8a6uxxFR9/0bq/lMzUxVVa8bLwv+1\n",
       "35+i7I/PhFjFAAAAAElFTkSuQmCC\n",
       "\" style=\"display:inline;vertical-align:middle;\" /></a><br>(see <a class=\"ProveItLink\" href=\"../__pv_it/e3e2c4c88322d868246571b0405b2847cf9fc3100/dependencies.ipynb\">dependencies</a>)<br>"
      ],
      "text/plain": [
       "addCancelTriple_32: forall_{a in Complexes, b in Complexes} ((b - a + a) = b)"
      ]
     },
     "execution_count": 2,
     "metadata": {},
     "output_type": "execute_result"
    }
   ],
   "source": [
    "%proving addCancelTriple_32 presuming []"
   ]
  },
  {
   "cell_type": "code",
   "execution_count": null,
   "metadata": {},
   "outputs": [],
   "source": []
  }
 ],
 "metadata": {
  "kernelspec": {
   "display_name": "Python 3",
   "language": "python",
   "name": "python3"
  }
 },
 "nbformat": 4,
 "nbformat_minor": 0
}
