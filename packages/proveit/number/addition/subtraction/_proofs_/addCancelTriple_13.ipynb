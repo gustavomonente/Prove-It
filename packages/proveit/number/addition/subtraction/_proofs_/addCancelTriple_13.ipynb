{
 "cells": [
  {
   "cell_type": "markdown",
   "metadata": {},
   "source": [
    "Proof of <a class=\"ProveItLink\" href=\"../../../../_context_.ipynb\">proveit</a>.<a class=\"ProveItLink\" href=\"../../../_context_.ipynb\">number</a>.<a class=\"ProveItLink\" href=\"../../_context_.ipynb\">addition</a>.<a class=\"ProveItLink\" href=\"../_context_.ipynb\">subtraction</a>.<a class=\"ProveItLink\" href=\"../_theorems_.ipynb#addCancelTriple_13\">addCancelTriple_13</a> theorem\n",
    "========"
   ]
  },
  {
   "cell_type": "code",
   "execution_count": 1,
   "metadata": {},
   "outputs": [],
   "source": [
    "import proveit\n",
    "context = proveit.Context('..') # the theorem's context is in the parent directory"
   ]
  },
  {
   "cell_type": "code",
   "execution_count": 2,
   "metadata": {},
   "outputs": [
    {
     "name": "stdout",
     "output_type": "stream",
     "text": [
      "Beginning proof of addCancelTriple_13\n",
      "Recorded 'presuming' information\n",
      "Presuming previous theorems (applied transitively).\n"
     ]
    },
    {
     "data": {
      "text/html": [
       "<strong id=\"addCancelTriple_13\">addCancelTriple_13:</strong> <a class=\"ProveItLink\" href=\"../__pv_it/ba38502166dec42b57de51d6f5fe840768e207c40/expr.ipynb\"><img src=\"data:image/png;base64,iVBORw0KGgoAAAANSUhEUgAAAOwAAAAVBAMAAAC3YB/2AAAAMFBMVEX///8QEBCIiIhmZma6urrM\n",
       "zMxUVFQiIiJERETc3Nzu7u6qqqp2dnaYmJgyMjIAAAAcRTyBAAAAAXRSTlMAQObYZgAAAytJREFU\n",
       "SMe1VltIFFEY/ta9uDu7s/YQdJFg024PPSwGEaW1EdFTuS9ZEaQsSRQUW5BU9LBtEKP2MCBUdIEx\n",
       "6cJa7mJIGYKLYkEXGeihFJIFU0JikyiotaL/7KyuZ3a2xod++Oec+c+c8/33M8CC6FaOTVKvodQt\n",
       "Ayk2eW/yGCGiceHChbDR9w5ZL7m/hB5HgZfsZcokrFfW2GDFb6hmqkA0TtwFXKPBFTEJ+ybHeerO\n",
       "jWUJww0DBZIZYo8PXoWGhEnYszkuhK1VDDe06wW2DHPCIogvYrGrJlFdYY0NYJ8XiUpAJ/Bkt38A\n",
       "vkvSeZOwJX6N0Ta4UuFhJyu26FSsrlpOKPqQe0OV5NpBoBFoNoDYU5gNcKoa25bhM2+t8FuJ86m2\n",
       "XfZOA2L2lOE0I5ZMiE8JP4AxYIcu39yXj4QwX88nz5p82qw0oXG7ik08rDuDMh+XwytgpUR16+uq\n",
       "X8EX4DGdgxJ19tu+DaqwX7F/Yt5gadY5WIM7LTiU1NYtAY23KTiVs+JkOj1JM2sKcfqoK2vWBBNk\n",
       "UEp62Kd1sFsh/ATqySy1dFb2rjcG8SbQxyqCfCa2XlcwkoRbB7sUwjfeWirbWq4cLBHEgwaw47DN\n",
       "ZGFdqTp67VgzARvz684eEtFYX3GM/E9xPEi7Zc7JpK97moctU5kL5hHZ3s92h/OxZV7BL+YH7KJZ\n",
       "82Fy72l7Bl4mHx3R9q1VKrONU3wo61NKmIEj1cvDBiiYHGwCJ6j3ivrE/MoSg6UUHpFGVr89jA4m\n",
       "f5o7L4oxgVnv7szDsjRjHMXbhiQH61CdfKk4fWKTh85N6mCP4yI9q5mmFHpLoqQB+yRJ8t3Yq60v\n",
       "xkb7GUmKunqC+RYT1vhuxYFQgC+gqte6bhxafWUVxTyog+1Yz/KXJZ1IQYnLzlHFweTW27SHxgzK\n",
       "0cAEm0kr5Z/NsQjdM77IZsvKItfvhieY7S5BDLhacE6MYIgttQ2x1l3sKoj9HXbAUDp3ni3UXQO0\n",
       "sumD9KWgvRx1ryhArCaE4Y+NcxGTNTZLBhcftIuP67kU21zX0YZ1UtTcNV+EiqjYvLC/kQX/1IwY\n",
       "SsWi/lLxf+kP2Gjs6SUjSdIAAAAASUVORK5CYII=\n",
       "\" style=\"display:inline;vertical-align:middle;\" /></a><br>(see <a class=\"ProveItLink\" href=\"../__pv_it/ba38502166dec42b57de51d6f5fe840768e207c40/dependencies.ipynb\">dependencies</a>)<br>"
      ],
      "text/plain": [
       "addCancelTriple_13: forall_{a in Complexes, b in Complexes} ((a + b - a) = b)"
      ]
     },
     "execution_count": 2,
     "metadata": {},
     "output_type": "execute_result"
    }
   ],
   "source": [
    "%proving addCancelTriple_13 presuming []"
   ]
  },
  {
   "cell_type": "code",
   "execution_count": null,
   "metadata": {},
   "outputs": [],
   "source": []
  }
 ],
 "metadata": {
  "kernelspec": {
   "display_name": "Python 3",
   "language": "python",
   "name": "python3"
  }
 },
 "nbformat": 4,
 "nbformat_minor": 0
}
