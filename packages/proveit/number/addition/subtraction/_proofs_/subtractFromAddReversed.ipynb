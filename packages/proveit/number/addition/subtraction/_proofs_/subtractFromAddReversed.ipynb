{
 "cells": [
  {
   "cell_type": "markdown",
   "metadata": {},
   "source": [
    "Proof of <a class=\"ProveItLink\" href=\"../../../../_context_.ipynb\">proveit</a>.<a class=\"ProveItLink\" href=\"../../../_context_.ipynb\">number</a>.<a class=\"ProveItLink\" href=\"../../_context_.ipynb\">addition</a>.<a class=\"ProveItLink\" href=\"../_context_.ipynb\">subtraction</a>.<a class=\"ProveItLink\" href=\"../_theorems_.ipynb#subtractFromAddReversed\">subtractFromAddReversed</a> theorem\n",
    "========"
   ]
  },
  {
   "cell_type": "code",
   "execution_count": 1,
   "metadata": {},
   "outputs": [],
   "source": [
    "import proveit\n",
    "context = proveit.Context('..') # the theorem's context is in the parent directory"
   ]
  },
  {
   "cell_type": "code",
   "execution_count": 2,
   "metadata": {},
   "outputs": [
    {
     "name": "stdout",
     "output_type": "stream",
     "text": [
      "Beginning proof of subtractFromAddReversed\n",
      "Recorded 'presuming' information\n",
      "Presuming previous theorems (applied transitively).\n"
     ]
    },
    {
     "data": {
      "text/html": [
       "<strong id=\"subtractFromAddReversed\">subtractFromAddReversed:</strong> <a class=\"ProveItLink\" href=\"../__pv_it/2b6941f7452a9b0fc3b1949cb31d15ba034762de0/expr.ipynb\"><img src=\"data:image/png;base64,iVBORw0KGgoAAAANSUhEUgAAAVsAAAAWBAMAAACcUCLYAAAAMFBMVEX///8QEBCIiIhmZma6urrM\n",
       "zMxUVFQiIiJERETc3Nzu7u6qqqp2dnaYmJgyMjIAAAAcRTyBAAAAAXRSTlMAQObYZgAABAlJREFU\n",
       "SMfNV12IE1cU/jazs9n8TNYHoaIUwm61Ii0EtfsgareIPy+W9KFWKOiyuPRf8tAuVvsQVpCsfwQE\n",
       "lVZh7FKUtW1C69+KYFDWh/4R7IsrraSoYNcSZPGhrgo9d86dZO6dSXdFIl74ktxzz5n7zbnnnHsC\n",
       "PKNxVCJgxPJ+WaSszkclKmLyZ9PZRrMOTrwQtPiBX3RCm7flGT+LyUTT6SbyjJtBi9/7RX/rr1th\n",
       "HBaezzad7u8SD4MW40ldYqV0ySVGwib1YtPpfs5onQqMlFm6JOwL52MM66eRkUNNZxvJMOKZwOVb\n",
       "usDPKNHD+DeX++LpuOieSPtVQilGoq9LO8l453zgsq7f5X3V5Yvnkl6K0Q8MBXB4szItzVa5oSKr\n",
       "Aqf8qu1lRmEi+kB1+w7sB244z6k6w4nafR6VN/KJexQFFcYqJ+M8VXDve33gN+Fx7sqAmgquoD2o\n",
       "DJGjDH8dDRcZF21MqgslfASc1fV3eAL7RRhUCmIZRhghtyRHLywpRzfa5j8iVsShnby8At/sxqaS\n",
       "a6sImK5ZW2wTH3fpMb0+ui09jJWIPiIF9qMImtdtsbxZ159dVzKmECbvmPcY8XLYVbo2OgLrCHCB\n",
       "fneQi6w9X9oYLyHmMlIFTLetFqrO/EFA0azTvYlWtZTNQSO6NdMsCuk63UhlAwmHF9xGqzj/1adJ\n",
       "JJ7Q+SHFCQXju2lOpnhnUhVIumFpzXNzcoGNV+t5lFSD4TEMpZQJX9NY64ndXi0YCiVcFNtmGBja\n",
       "QmafmVNIiNXr46z1st3lXNDWdzISPzVnqQJJ95C05nloOxWAM3g/R6Ps2Cipdh/H1GbgMUWkTDXv\n",
       "8KRaoYit1FW4qYYfibORMjMYFqvnR1lrEDeiwtuxk8yOwj2tCFy666Q1z9uT9Mx1UkHYSDfLMvQJ\n",
       "dqq8uhF9DViu0/VUNnriABUfo8RABx1YSzHUi3fII8mv3najp9vclssNRk7zji10lIrApbtGWm+t\n",
       "/lWtllt6jF5scsOuVmPdoxx+Reu04r9epc/bOt21nnjpm3/wJUr9NAMWJWch337ddjLb+Jo06HsK\n",
       "8+CE0TJ6G5tTTxG4dDdKa5532MRxDXGnUe7I65dwg3YtM/0lfFyC/ZDfvB7xtHOHpHEpshvbrSzG\n",
       "xNKBMWpBDtt0AaY8gjrd49Ka52H7GvBH/eJMaS0OnrLFkYfV98MKYI/4+W11V9qchw2/0P7iMKO/\n",
       "3enHW8XI4qu2R+CpDLa05srwMcXXUvfKEjYycPIMzLCBHGrQQCo3O8WuvNr4a2FuUC4VdUGNbqio\n",
       "zt2WP7A9Dx5D07fn//u6GJ3B/xOXXlanGys/2Z8fawZ/fsYlgoe+oYXGdNfXtpDfw3guh9HA84ua\n",
       "t+V/NgE86+wemlUAAAAASUVORK5CYII=\n",
       "\" style=\"display:inline;vertical-align:middle;\" /></a><br>(see <a class=\"ProveItLink\" href=\"../__pv_it/2b6941f7452a9b0fc3b1949cb31d15ba034762de0/dependencies.ipynb\">dependencies</a>)<br>"
      ],
      "text/plain": [
       "subtractFromAddReversed: forall_{a in Complexes, b in Complexes, c in Complexes | (a + b) = c} ((b - c) = (-a))"
      ]
     },
     "execution_count": 2,
     "metadata": {},
     "output_type": "execute_result"
    }
   ],
   "source": [
    "%proving subtractFromAddReversed presuming []"
   ]
  },
  {
   "cell_type": "code",
   "execution_count": null,
   "metadata": {},
   "outputs": [],
   "source": []
  }
 ],
 "metadata": {
  "kernelspec": {
   "display_name": "Python 3",
   "language": "python",
   "name": "python3"
  }
 },
 "nbformat": 4,
 "nbformat_minor": 0
}
