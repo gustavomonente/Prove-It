{
 "cells": [
  {
   "cell_type": "markdown",
   "metadata": {},
   "source": [
    "Proof of <a class=\"ProveItLink\" href=\"../../../_context_.ipynb\">proveit</a>.<a class=\"ProveItLink\" href=\"../../_context_.ipynb\">number</a>.<a class=\"ProveItLink\" href=\"../_context_.ipynb\">subtraction</a>.<a class=\"ProveItLink\" href=\"../_theorems_.ipynb#subtractFromAdd\">subtractFromAdd</a> theorem\n",
    "========"
   ]
  },
  {
   "cell_type": "code",
   "execution_count": 1,
   "metadata": {},
   "outputs": [],
   "source": [
    "import proveit\n",
    "context = proveit.Context('..') # the theorem's context is in the parent directory"
   ]
  },
  {
   "cell_type": "code",
   "execution_count": 2,
   "metadata": {},
   "outputs": [
    {
     "name": "stdout",
     "output_type": "stream",
     "text": [
      "Beginning proof of subtractFromAdd\n",
      "Recorded 'presuming' information\n"
     ]
    },
    {
     "data": {
      "text/html": [
       "<strong id=\"subtractFromAdd\">subtractFromAdd:</strong> <a class=\"ProveItLink\" href=\"../__pv_it/1c0b1f70af7fb9a52dae9fd2d426c6c40defda990/expr.ipynb\"><img src=\"data:image/png;base64,iVBORw0KGgoAAAANSUhEUgAAATsAAAAWBAMAAABNtyaoAAAAMFBMVEX///8QEBCIiIhmZma6urrM\n",
       "zMxUVFQiIiJERETc3Nzu7u6qqqp2dnaYmJgyMjIAAAAcRTyBAAAAAXRSTlMAQObYZgAAA9VJREFU\n",
       "SMfNVl1IFFEU/nbXcd2fUR+CIgkWK4soEPt5CC0jKl+M7SELAhVJ+hcfKvp7WAxi1YiFoKIfmJIo\n",
       "7MelsjICRbGH/hjsJaPEKKEslogeygo6d+6dde/MbBa10YEzM/fce+Z+95zz3XuBfyRnhDpIIOZs\n",
       "7yIdZh8vMo7OH+FqlYuT6bHF2SebYD9gH6MZh5cb42qTV6RX0yyJQneC3r5IxuE9EWqTr6TBkLNT\n",
       "Ly1Jo+54xuHtFWqVrDEWpnxnp7OAer+9/XjG0fkaudokaBhfp6mIcuBzNHrgz+a2llTYPsRdzBXB\n",
       "wpkygrrplLo+23JKS6bSYPKoB5od5lw9PCGsLBEAyZYAbtiH5uhcfftxROroGPV/AYaM/yQMYYvA\n",
       "sljuB8osYVhuMCRlFzq8qQ4cOZfb93bLpWsacnhT3hYoEB47Q71xoT3YJnV0a/gI3LJydho8RNcA\n",
       "Zd4Lt25a787X/es15T2LOqPLpb4ynG9BdY/pJxk4PCXZmc0e7+g3tTZ4rnKuSzWjedWI0wh9LYH/\n",
       "G1BjGe4Zg5cioFAEg7rXtD7taod6GrhL33kUArX1pIbBHgRMBLKBw8tOlprRplThbVp4U+zbXtZX\n",
       "OzxXBB1hDs83XEWGtqIRZLF8rugkE71rCrdS3qmYNoR58QcLQ7JBwPMKb95WPhZpmJfkZWFISi6L\n",
       "lCzfWaSwKqX2WOg7etDNpmK0bt5I+diljCGXDXo2yP1madONA0+9Iippp5IvGwS848Kbt937iKA3\n",
       "sTlKohs+EjW+U0FJ8D7hrC6okUqYOBroJGbUwHXC6ClWGtHGeu508RFNGPKzaAYucTRUqmHJYMKr\n",
       "EN68nROif1aYJRQxNxlGNKaL4F8oAdmBg/QstRI9pO6mDcHDaiiPEuCKu2uxjlYcOrWWj5iERcqe\n",
       "aLTJ18lncFF6JIMJb6Xwbki8TCR0V7mnFtVmCSVPI5YmpsFHAzKQtrmMlyNW5tbNPDaD6MlmUolN\n",
       "HbGcZ5rBPM856qX3GApgMHAxodc4VSSDCW+98ObtPI0wrSSsJHpebMJDjaNpdLZfSFIlVlOJYNjY\n",
       "r8Po9bVgnxpBP+s62k9H9gmNDpjiFMM4vAvCm7e92lPg+fihVDzRlQA/vxKI4NddKwNa2eflxKGw\n",
       "UoCqhzQfS47/8Zt6rIn7Sga0FEMKczXhzZm7neplgXk0MR9RCDGujvKTC5V0MlLtiaODv2ZHm0RX\n",
       "3GpIwnPH5bZ5xf2166ghzc7mtMtB16/ctwWciBVeQP+9y7yaBsZg2tPeOoGK9PAqk9cMk434L8ST\n",
       "JrJz/t4UPwA/uh9y6R1ttAAAAABJRU5ErkJggg==\n",
       "\" style=\"display:inline;vertical-align:middle;\" /></a><br>(see <a class=\"ProveItLink\" href=\"../__pv_it/1c0b1f70af7fb9a52dae9fd2d426c6c40defda990/dependencies.ipynb\">dependencies</a>)<br>"
      ],
      "text/plain": [
       "subtractFromAdd: forall_{a in Complexes, b in Complexes, c in Complexes | (a + b) = c} ((c - b) = a)"
      ]
     },
     "execution_count": 2,
     "metadata": {},
     "output_type": "execute_result"
    }
   ],
   "source": [
    "%proving subtractFromAdd presuming []"
   ]
  },
  {
   "cell_type": "code",
   "execution_count": null,
   "metadata": {},
   "outputs": [],
   "source": []
  }
 ],
 "metadata": {
  "kernelspec": {
   "display_name": "Python 3",
   "language": "python",
   "name": "python3"
  }
 },
 "nbformat": 4,
 "nbformat_minor": 0
}
