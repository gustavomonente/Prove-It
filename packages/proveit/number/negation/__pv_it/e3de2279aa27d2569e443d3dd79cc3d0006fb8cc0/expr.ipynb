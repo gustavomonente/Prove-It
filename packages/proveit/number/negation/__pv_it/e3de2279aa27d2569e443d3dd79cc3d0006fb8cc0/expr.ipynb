{
 "cells": [
  {
   "cell_type": "markdown",
   "metadata": {},
   "source": [
    "Expression of type <a class=\"ProveItLink\" href=\"../../../../../../doc/html/api/proveit.Lambda.html\">Lambda</a>\n",
    "=======================\n",
    "# from context <a class=\"ProveItLink\" href=\"../../_context_.ipynb\">proveit.number.negation</a>"
   ]
  },
  {
   "cell_type": "code",
   "execution_count": 1,
   "metadata": {},
   "outputs": [],
   "source": [
    "import proveit\n",
    "# Automation is not needed when building an expression:\n",
    "proveit.defaults.automation = False # This will speed things up.\n",
    "proveit.defaults.inline_pngs = False # Makes files smaller.\n",
    "# import Expression classes needed to build the expression\n",
    "from proveit import Conditional, ExprRange, IndexedVar, Lambda\n",
    "from proveit._common_ import k, n, x\n",
    "from proveit.core_expr_types._common_ import x_1_to_n\n",
    "from proveit.logic import Equals, Forall, InSet\n",
    "from proveit.number import Add, Complexes, NaturalsPos, Neg, one"
   ]
  },
  {
   "cell_type": "code",
   "execution_count": 2,
   "metadata": {},
   "outputs": [
    {
     "data": {
      "text/html": [
       "<strong id=\"expr\">expr:</strong> <a class=\"ProveItLink\" href=\"../615742c95adca6eff44f0c9b8acf8a3e8aca7bf50/expr.ipynb\"><img src=\"../615742c95adca6eff44f0c9b8acf8a3e8aca7bf50/expr.png\" style=\"display:inline;vertical-align:middle;\" /></a><br>"
      ],
      "text/plain": [
       "expr: n -> {forall_{x_{1}, ..x_{_a}.., x_{n} in Complexes} ((-(x_{1} + ..x_{_a}.. + x_{n})) = ((-x_{1}) + ..(-x_{k}).. + (-x_{n}))) if n in NaturalsPos."
      ]
     },
     "execution_count": 2,
     "metadata": {},
     "output_type": "execute_result"
    }
   ],
   "source": [
    "# build up the expression from sub-expressions\n",
    "expr = Lambda(n, Conditional(Forall([x_1_to_n], Equals(Neg(Add(x_1_to_n)), Add(ExprRange(k, Neg(IndexedVar(x, k)), one, n))), domain = Complexes), InSet(n, NaturalsPos)))"
   ]
  },
  {
   "cell_type": "code",
   "execution_count": 3,
   "metadata": {},
   "outputs": [
    {
     "name": "stdout",
     "output_type": "stream",
     "text": [
      "Passed sanity check: built 'expr' is the same as the stored Expression.\n"
     ]
    }
   ],
   "source": [
    "# check that the built expression is the same as the stored expression\n",
    "%check_expr"
   ]
  },
  {
   "cell_type": "code",
   "execution_count": 4,
   "metadata": {},
   "outputs": [
    {
     "name": "stdout",
     "output_type": "stream",
     "text": [
      "n \\mapsto \\left\\{\\forall_{x_{1}, \\ldots, x_{n} \\in \\mathbb{C}}~\\left(\\left(-\\left(x_{1} + \\ldots + x_{n}\\right)\\right) = \\left(\\left(-x_{1}\\right) + \\ldots + \\left(-x_{n}\\right)\\right)\\right) \\textrm{ if } n \\in \\mathbb{N}^+\\right..\n"
     ]
    }
   ],
   "source": [
    "# Show the LaTeX representation of the expression for convenience if you need it.\n",
    "print(expr.latex())"
   ]
  },
  {
   "cell_type": "code",
   "execution_count": 5,
   "metadata": {},
   "outputs": [
    {
     "data": {
      "text/html": [
       "<table><tr><th>&nbsp;</th><th>core type</th><th>sub-expressions</th><th>expression</th></tr>\n",
       "<tr><td>0</td><td>Lambda</td><td>parameter:&nbsp;31<br>body:&nbsp;1<br></td><td><a class=\"ProveItLink\" href=\"../615742c95adca6eff44f0c9b8acf8a3e8aca7bf50/expr.ipynb\"><img src=\"../615742c95adca6eff44f0c9b8acf8a3e8aca7bf50/expr.png\" style=\"display:inline;vertical-align:middle;\" /></a></td></tr>\n",
       "<tr><td>1</td><td>Conditional</td><td>value:&nbsp;2<br>condition:&nbsp;3<br></td><td><a class=\"ProveItLink\" href=\"../ffd658186950f4f266426a9cd978dc25c50070920/expr.ipynb\"><img src=\"../ffd658186950f4f266426a9cd978dc25c50070920/expr.png\" style=\"display:inline;vertical-align:middle;\" /></a></td></tr>\n",
       "<tr><td>2</td><td>Operation</td><td>operator:&nbsp;4<br>operand:&nbsp;5<br></td><td><a class=\"ProveItLink\" href=\"../d38ff82319cf9e94e6224609fd16c32ca022e6ba0/expr.ipynb\"><img src=\"../d38ff82319cf9e94e6224609fd16c32ca022e6ba0/expr.png\" style=\"display:inline;vertical-align:middle;\" /></a></td></tr>\n",
       "<tr><td>3</td><td>Operation</td><td>operator:&nbsp;27<br>operands:&nbsp;6<br></td><td><a class=\"ProveItLink\" href=\"../a720bba6cdd6f51499c0bd8820ee89528186f3d30/expr.ipynb\"><img src=\"../a720bba6cdd6f51499c0bd8820ee89528186f3d30/expr.png\" style=\"display:inline;vertical-align:middle;\" /></a></td></tr>\n",
       "<tr><td>4</td><td>Literal</td><td></td><td><a class=\"ProveItLink\" href=\"../../../../logic/boolean/quantification/universal/__pv_it/fd9c772d6675566ed52a6897806f45eb08a4ea910/expr.ipynb\"><img src=\"../../../../logic/boolean/quantification/universal/__pv_it/fd9c772d6675566ed52a6897806f45eb08a4ea910/expr.png\" style=\"display:inline;vertical-align:middle;\" /></a></td></tr>\n",
       "<tr><td>5</td><td>Lambda</td><td>parameter:&nbsp;25<br>body:&nbsp;7<br></td><td><a class=\"ProveItLink\" href=\"../264c98026d3d5010b6d0746b9ad4e3c265291ce70/expr.ipynb\"><img src=\"../264c98026d3d5010b6d0746b9ad4e3c265291ce70/expr.png\" style=\"display:inline;vertical-align:middle;\" /></a></td></tr>\n",
       "<tr><td>6</td><td>ExprTuple</td><td>31, 8</td><td><a class=\"ProveItLink\" href=\"../e498da148cb0e1035a34d74f79377ecf4d06d21d0/expr.ipynb\"><img src=\"../e498da148cb0e1035a34d74f79377ecf4d06d21d0/expr.png\" style=\"display:inline;vertical-align:middle;\" /></a></td></tr>\n",
       "<tr><td>7</td><td>Conditional</td><td>value:&nbsp;9<br>condition:&nbsp;10<br></td><td><a class=\"ProveItLink\" href=\"../78b91a3d26190d741a12a09762d4efcd7b9d2b950/expr.ipynb\"><img src=\"../78b91a3d26190d741a12a09762d4efcd7b9d2b950/expr.png\" style=\"display:inline;vertical-align:middle;\" /></a></td></tr>\n",
       "<tr><td>8</td><td>Literal</td><td></td><td><a class=\"ProveItLink\" href=\"../../../sets/integer/__pv_it/f6a9f4b6dec6ab4d2dcb6ba1b0ba3cceefc643530/expr.ipynb\"><img src=\"../../../sets/integer/__pv_it/f6a9f4b6dec6ab4d2dcb6ba1b0ba3cceefc643530/expr.png\" style=\"display:inline;vertical-align:middle;\" /></a></td></tr>\n",
       "<tr><td>9</td><td>Operation</td><td>operator:&nbsp;11<br>operands:&nbsp;12<br></td><td><a class=\"ProveItLink\" href=\"../5fd6cb9c324c61a74287009157ac555b3ac928920/expr.ipynb\"><img src=\"../5fd6cb9c324c61a74287009157ac555b3ac928920/expr.png\" style=\"display:inline;vertical-align:middle;\" /></a></td></tr>\n",
       "<tr><td>10</td><td>Operation</td><td>operator:&nbsp;13<br>operands:&nbsp;14<br></td><td><a class=\"ProveItLink\" href=\"../fdcf5621f3149cc649d2d6ec917663db81b3d56d0/expr.ipynb\"><img src=\"../fdcf5621f3149cc649d2d6ec917663db81b3d56d0/expr.png\" style=\"display:inline;vertical-align:middle;\" /></a></td></tr>\n",
       "<tr><td>11</td><td>Literal</td><td></td><td><a class=\"ProveItLink\" href=\"../../../../logic/equality/__pv_it/e16d2caa26a16688b658bdb9c422caf4b84579e10/expr.ipynb\"><img src=\"../../../../logic/equality/__pv_it/e16d2caa26a16688b658bdb9c422caf4b84579e10/expr.png\" style=\"display:inline;vertical-align:middle;\" /></a></td></tr>\n",
       "<tr><td>12</td><td>ExprTuple</td><td>15, 16</td><td><a class=\"ProveItLink\" href=\"../da5449d735eba4f624d70e594bee6df7af5a57f60/expr.ipynb\"><img src=\"../da5449d735eba4f624d70e594bee6df7af5a57f60/expr.png\" style=\"display:inline;vertical-align:middle;\" /></a></td></tr>\n",
       "<tr><td>13</td><td>Literal</td><td></td><td><a class=\"ProveItLink\" href=\"../../../../logic/boolean/conjunction/__pv_it/f41cc6b553210927c09f19a8a39cdf860a5585930/expr.ipynb\"><img src=\"../../../../logic/boolean/conjunction/__pv_it/f41cc6b553210927c09f19a8a39cdf860a5585930/expr.png\" style=\"display:inline;vertical-align:middle;\" /></a></td></tr>\n",
       "<tr><td>14</td><td>ExprTuple</td><td>17</td><td><a class=\"ProveItLink\" href=\"../7fe869caa5a6ae388840ee5700a0e44669e618590/expr.ipynb\"><img src=\"../7fe869caa5a6ae388840ee5700a0e44669e618590/expr.png\" style=\"display:inline;vertical-align:middle;\" /></a></td></tr>\n",
       "<tr><td>15</td><td>Operation</td><td>operator:&nbsp;35<br>operand:&nbsp;18<br></td><td><a class=\"ProveItLink\" href=\"../13a7bc461573f45f26cb96a5d77ee90b478611300/expr.ipynb\"><img src=\"../13a7bc461573f45f26cb96a5d77ee90b478611300/expr.png\" style=\"display:inline;vertical-align:middle;\" /></a></td></tr>\n",
       "<tr><td>16</td><td>Operation</td><td>operator:&nbsp;21<br>operands:&nbsp;19<br></td><td><a class=\"ProveItLink\" href=\"../414a144dafc8f6a8a249da1655bd403d81546c290/expr.ipynb\"><img src=\"../414a144dafc8f6a8a249da1655bd403d81546c290/expr.png\" style=\"display:inline;vertical-align:middle;\" /></a></td></tr>\n",
       "<tr><td>17</td><td>ExprRange</td><td>lambda_map:&nbsp;20<br>start_index:&nbsp;30<br>end_index:&nbsp;31<br></td><td><a class=\"ProveItLink\" href=\"../80e0943f24d44e93d5dd1d47687f8af06e39ba430/expr.ipynb\"><img src=\"../80e0943f24d44e93d5dd1d47687f8af06e39ba430/expr.png\" style=\"display:inline;vertical-align:middle;\" /></a></td></tr>\n",
       "<tr><td>18</td><td>Operation</td><td>operator:&nbsp;21<br>operands:&nbsp;22<br></td><td><a class=\"ProveItLink\" href=\"../09f6710951b50a9c66ef8772904ed7de767b907a0/expr.ipynb\"><img src=\"../09f6710951b50a9c66ef8772904ed7de767b907a0/expr.png\" style=\"display:inline;vertical-align:middle;\" /></a></td></tr>\n",
       "<tr><td>19</td><td>ExprTuple</td><td>23</td><td><a class=\"ProveItLink\" href=\"../06820234306d65ac278ed9eb0788dbcd8d30f1740/expr.ipynb\"><img src=\"../06820234306d65ac278ed9eb0788dbcd8d30f1740/expr.png\" style=\"display:inline;vertical-align:middle;\" /></a></td></tr>\n",
       "<tr><td>20</td><td>Lambda</td><td>parameter:&nbsp;37<br>body:&nbsp;24<br></td><td><a class=\"ProveItLink\" href=\"../64305182f0ba86262ba85430fa4c2d54506497fd0/expr.ipynb\"><img src=\"../64305182f0ba86262ba85430fa4c2d54506497fd0/expr.png\" style=\"display:inline;vertical-align:middle;\" /></a></td></tr>\n",
       "<tr><td>21</td><td>Literal</td><td></td><td><a class=\"ProveItLink\" href=\"../../../addition/__pv_it/65ad7e8aee19b10110d590375ba95a879c4fb7ea0/expr.ipynb\"><img src=\"../../../addition/__pv_it/65ad7e8aee19b10110d590375ba95a879c4fb7ea0/expr.png\" style=\"display:inline;vertical-align:middle;\" /></a></td></tr>\n",
       "<tr><td>22</td><td>ExprTuple</td><td>25</td><td><a class=\"ProveItLink\" href=\"../44e9035298bc92b31f553197c806ff2c422ace550/expr.ipynb\"><img src=\"../44e9035298bc92b31f553197c806ff2c422ace550/expr.png\" style=\"display:inline;vertical-align:middle;\" /></a></td></tr>\n",
       "<tr><td>23</td><td>ExprRange</td><td>lambda_map:&nbsp;26<br>start_index:&nbsp;30<br>end_index:&nbsp;31<br></td><td><a class=\"ProveItLink\" href=\"../b4dfd725d3714e763841fe62a61d778806e73ff20/expr.ipynb\"><img src=\"../b4dfd725d3714e763841fe62a61d778806e73ff20/expr.png\" style=\"display:inline;vertical-align:middle;\" /></a></td></tr>\n",
       "<tr><td>24</td><td>Operation</td><td>operator:&nbsp;27<br>operands:&nbsp;28<br></td><td><a class=\"ProveItLink\" href=\"../91e2e882704b92dd98a9a69bea6aa0a685e24d0e0/expr.ipynb\"><img src=\"../91e2e882704b92dd98a9a69bea6aa0a685e24d0e0/expr.png\" style=\"display:inline;vertical-align:middle;\" /></a></td></tr>\n",
       "<tr><td>25</td><td>ExprRange</td><td>lambda_map:&nbsp;29<br>start_index:&nbsp;30<br>end_index:&nbsp;31<br></td><td><a class=\"ProveItLink\" href=\"../../../../core_expr_types/__pv_it/36b186afc91ba7c57b358c8d856ab3c828e9e2c50/expr.ipynb\"><img src=\"../../../../core_expr_types/__pv_it/36b186afc91ba7c57b358c8d856ab3c828e9e2c50/expr.png\" style=\"display:inline;vertical-align:middle;\" /></a></td></tr>\n",
       "<tr><td>26</td><td>Lambda</td><td>parameter:&nbsp;39<br>body:&nbsp;32<br></td><td><a class=\"ProveItLink\" href=\"../38008f0b0e7b9d034d8d33527d0caf8d187dd5a10/expr.ipynb\"><img src=\"../38008f0b0e7b9d034d8d33527d0caf8d187dd5a10/expr.png\" style=\"display:inline;vertical-align:middle;\" /></a></td></tr>\n",
       "<tr><td>27</td><td>Literal</td><td></td><td><a class=\"ProveItLink\" href=\"../../../../logic/set_theory/membership/__pv_it/7776fc89cb67d0b5b1ec2c0c8e08da5587921ccf0/expr.ipynb\"><img src=\"../../../../logic/set_theory/membership/__pv_it/7776fc89cb67d0b5b1ec2c0c8e08da5587921ccf0/expr.png\" style=\"display:inline;vertical-align:middle;\" /></a></td></tr>\n",
       "<tr><td>28</td><td>ExprTuple</td><td>34, 33</td><td><a class=\"ProveItLink\" href=\"../59861983d14b08a1d26c82d192cf58ffa4c7be0e0/expr.ipynb\"><img src=\"../59861983d14b08a1d26c82d192cf58ffa4c7be0e0/expr.png\" style=\"display:inline;vertical-align:middle;\" /></a></td></tr>\n",
       "<tr><td>29</td><td>Lambda</td><td>parameter:&nbsp;37<br>body:&nbsp;34<br></td><td><a class=\"ProveItLink\" href=\"../../../../core_expr_types/__pv_it/15cc35ac7085d75649b82db6beead515f3030ef00/expr.ipynb\"><img src=\"../../../../core_expr_types/__pv_it/15cc35ac7085d75649b82db6beead515f3030ef00/expr.png\" style=\"display:inline;vertical-align:middle;\" /></a></td></tr>\n",
       "<tr><td>30</td><td>Literal</td><td></td><td><a class=\"ProveItLink\" href=\"../../../numeral/__pv_it/f086f8c372bd40a2458306ddfdbb29f3dc6f63030/expr.ipynb\"><img src=\"../../../numeral/__pv_it/f086f8c372bd40a2458306ddfdbb29f3dc6f63030/expr.png\" style=\"display:inline;vertical-align:middle;\" /></a></td></tr>\n",
       "<tr><td>31</td><td>Variable</td><td></td><td><a class=\"ProveItLink\" href=\"../../../../__pv_it/0c1c4cb515e0f4344b1ac06650f349123e526deb0/expr.ipynb\"><img src=\"../../../../__pv_it/0c1c4cb515e0f4344b1ac06650f349123e526deb0/expr.png\" style=\"display:inline;vertical-align:middle;\" /></a></td></tr>\n",
       "<tr><td>32</td><td>Operation</td><td>operator:&nbsp;35<br>operand:&nbsp;36<br></td><td><a class=\"ProveItLink\" href=\"../1f89f92085a450ec012332fbbfc8633ff831b6c60/expr.ipynb\"><img src=\"../1f89f92085a450ec012332fbbfc8633ff831b6c60/expr.png\" style=\"display:inline;vertical-align:middle;\" /></a></td></tr>\n",
       "<tr><td>33</td><td>Literal</td><td></td><td><a class=\"ProveItLink\" href=\"../../../sets/complex/__pv_it/8a5866946d766bfd951bcdff07a1a39af0935c430/expr.ipynb\"><img src=\"../../../sets/complex/__pv_it/8a5866946d766bfd951bcdff07a1a39af0935c430/expr.png\" style=\"display:inline;vertical-align:middle;\" /></a></td></tr>\n",
       "<tr><td>34</td><td>IndexedVar</td><td>variable:&nbsp;38<br>index:&nbsp;37<br></td><td><a class=\"ProveItLink\" href=\"../../../../core_expr_types/__pv_it/12d6cd514f4a6eb41d13ff30f08a9d01f2c4f4ba0/expr.ipynb\"><img src=\"../../../../core_expr_types/__pv_it/12d6cd514f4a6eb41d13ff30f08a9d01f2c4f4ba0/expr.png\" style=\"display:inline;vertical-align:middle;\" /></a></td></tr>\n",
       "<tr><td>35</td><td>Literal</td><td></td><td><a class=\"ProveItLink\" href=\"../2867787e35502987d81a45cac8e7f1c6996d6ff40/expr.ipynb\"><img src=\"../2867787e35502987d81a45cac8e7f1c6996d6ff40/expr.png\" style=\"display:inline;vertical-align:middle;\" /></a></td></tr>\n",
       "<tr><td>36</td><td>IndexedVar</td><td>variable:&nbsp;38<br>index:&nbsp;39<br></td><td><a class=\"ProveItLink\" href=\"../57c2bba44053ef0828dc1fe5b02bad07b65fbfca0/expr.ipynb\"><img src=\"../57c2bba44053ef0828dc1fe5b02bad07b65fbfca0/expr.png\" style=\"display:inline;vertical-align:middle;\" /></a></td></tr>\n",
       "<tr><td>37</td><td>Variable</td><td></td><td><a class=\"ProveItLink\" href=\"../../../../core_expr_types/__pv_it/1e653f789234b245ee7fea7caad998c139d617410/expr.ipynb\"><img src=\"../../../../core_expr_types/__pv_it/1e653f789234b245ee7fea7caad998c139d617410/expr.png\" style=\"display:inline;vertical-align:middle;\" /></a></td></tr>\n",
       "<tr><td>38</td><td>Variable</td><td></td><td><a class=\"ProveItLink\" href=\"../../../../__pv_it/72df168d2bfb4e0140af90912ebf83b13772060b0/expr.ipynb\"><img src=\"../../../../__pv_it/72df168d2bfb4e0140af90912ebf83b13772060b0/expr.png\" style=\"display:inline;vertical-align:middle;\" /></a></td></tr>\n",
       "<tr><td>39</td><td>Variable</td><td></td><td><a class=\"ProveItLink\" href=\"../../../../__pv_it/273f49450ca25e1b56abbd98a7aef618f8f6c1360/expr.ipynb\"><img src=\"../../../../__pv_it/273f49450ca25e1b56abbd98a7aef618f8f6c1360/expr.png\" style=\"display:inline;vertical-align:middle;\" /></a></td></tr>\n",
       "</table>\n"
      ],
      "text/plain": [
       "0. n -> {forall_{x_{1}, ..x_{_a}.., x_{n} in Complexes} ((-(x_{1} + ..x_{_a}.. + x_{n})) = ((-x_{1}) + ..(-x_{k}).. + (-x_{n}))) if n in NaturalsPos.\n",
       "   core type: Lambda\n",
       "   parameter: 31\n",
       "   body: 1\n",
       "1. {forall_{x_{1}, ..x_{_a}.., x_{n} in Complexes} ((-(x_{1} + ..x_{_a}.. + x_{n})) = ((-x_{1}) + ..(-x_{k}).. + (-x_{n}))) if n in NaturalsPos.\n",
       "   core type: Conditional\n",
       "   value: 2\n",
       "   condition: 3\n",
       "2. forall_{x_{1}, ..x_{_a}.., x_{n} in Complexes} ((-(x_{1} + ..x_{_a}.. + x_{n})) = ((-x_{1}) + ..(-x_{k}).. + (-x_{n})))\n",
       "   core type: Operation\n",
       "   operator: 4\n",
       "   operand: 5\n",
       "3. n in NaturalsPos\n",
       "   core type: Operation\n",
       "   operator: 27\n",
       "   operands: 6\n",
       "4. forall\n",
       "   core type: Literal\n",
       "   sub-expressions: \n",
       "5. (x_{1}, ..x_{_a}.., x_{n}) -> {(-(x_{1} + ..x_{_a}.. + x_{n})) = ((-x_{1}) + ..(-x_{k}).. + (-x_{n})) if (x_{1} in Complexes) and ..(x_{_a} in Complexes).. and (x_{n} in Complexes).\n",
       "   core type: Lambda\n",
       "   parameter: 25\n",
       "   body: 7\n",
       "6. (n, NaturalsPos)\n",
       "   core type: ExprTuple\n",
       "   sub-expressions: 31, 8\n",
       "7. {(-(x_{1} + ..x_{_a}.. + x_{n})) = ((-x_{1}) + ..(-x_{k}).. + (-x_{n})) if (x_{1} in Complexes) and ..(x_{_a} in Complexes).. and (x_{n} in Complexes).\n",
       "   core type: Conditional\n",
       "   value: 9\n",
       "   condition: 10\n",
       "8. NaturalsPos\n",
       "   core type: Literal\n",
       "   sub-expressions: \n",
       "9. (-(x_{1} + ..x_{_a}.. + x_{n})) = ((-x_{1}) + ..(-x_{k}).. + (-x_{n}))\n",
       "   core type: Operation\n",
       "   operator: 11\n",
       "   operands: 12\n",
       "10. (x_{1} in Complexes) and ..(x_{_a} in Complexes).. and (x_{n} in Complexes)\n",
       "    core type: Operation\n",
       "    operator: 13\n",
       "    operands: 14\n",
       "11. =\n",
       "    core type: Literal\n",
       "    sub-expressions: \n",
       "12. (-(x_{1} + ..x_{_a}.. + x_{n}), (-x_{1}) + ..(-x_{k}).. + (-x_{n}))\n",
       "    core type: ExprTuple\n",
       "    sub-expressions: 15, 16\n",
       "13. and\n",
       "    core type: Literal\n",
       "    sub-expressions: \n",
       "14. (x_{1} in Complexes, ..x_{_a} in Complexes.., x_{n} in Complexes)\n",
       "    core type: ExprTuple\n",
       "    sub-expressions: 17\n",
       "15. -(x_{1} + ..x_{_a}.. + x_{n})\n",
       "    core type: Operation\n",
       "    operator: 35\n",
       "    operand: 18\n",
       "16. (-x_{1}) + ..(-x_{k}).. + (-x_{n})\n",
       "    core type: Operation\n",
       "    operator: 21\n",
       "    operands: 19\n",
       "17. (x_{1} in Complexes), ..(x_{_a} in Complexes).., (x_{n} in Complexes)\n",
       "    core type: ExprRange\n",
       "    lambda_map: 20\n",
       "    start_index: 30\n",
       "    end_index: 31\n",
       "18. x_{1} + ..x_{_a}.. + x_{n}\n",
       "    core type: Operation\n",
       "    operator: 21\n",
       "    operands: 22\n",
       "19. (-x_{1}, ..-x_{k}.., -x_{n})\n",
       "    core type: ExprTuple\n",
       "    sub-expressions: 23\n",
       "20. _a -> (x_{_a} in Complexes)\n",
       "    core type: Lambda\n",
       "    parameter: 37\n",
       "    body: 24\n",
       "21. +\n",
       "    core type: Literal\n",
       "    sub-expressions: \n",
       "22. (x_{1}, ..x_{_a}.., x_{n})\n",
       "    core type: ExprTuple\n",
       "    sub-expressions: 25\n",
       "23. (-x_{1}), ..(-x_{k}).., (-x_{n})\n",
       "    core type: ExprRange\n",
       "    lambda_map: 26\n",
       "    start_index: 30\n",
       "    end_index: 31\n",
       "24. x_{_a} in Complexes\n",
       "    core type: Operation\n",
       "    operator: 27\n",
       "    operands: 28\n",
       "25. x_{1}, ..x_{_a}.., x_{n}\n",
       "    core type: ExprRange\n",
       "    lambda_map: 29\n",
       "    start_index: 30\n",
       "    end_index: 31\n",
       "26. k -> (-x_{k})\n",
       "    core type: Lambda\n",
       "    parameter: 39\n",
       "    body: 32\n",
       "27. in\n",
       "    core type: Literal\n",
       "    sub-expressions: \n",
       "28. (x_{_a}, Complexes)\n",
       "    core type: ExprTuple\n",
       "    sub-expressions: 34, 33\n",
       "29. _a -> x_{_a}\n",
       "    core type: Lambda\n",
       "    parameter: 37\n",
       "    body: 34\n",
       "30. 1\n",
       "    core type: Literal\n",
       "    sub-expressions: \n",
       "31. n\n",
       "    core type: Variable\n",
       "    sub-expressions: \n",
       "32. -x_{k}\n",
       "    core type: Operation\n",
       "    operator: 35\n",
       "    operand: 36\n",
       "33. Complexes\n",
       "    core type: Literal\n",
       "    sub-expressions: \n",
       "34. x_{_a}\n",
       "    core type: IndexedVar\n",
       "variable: 38\n",
       "index: 37\n",
       "35. -\n",
       "    core type: Literal\n",
       "    sub-expressions: \n",
       "36. x_{k}\n",
       "    core type: IndexedVar\n",
       "variable: 38\n",
       "index: 39\n",
       "37. _a\n",
       "    core type: Variable\n",
       "    sub-expressions: \n",
       "38. x\n",
       "    core type: Variable\n",
       "    sub-expressions: \n",
       "39. k\n",
       "    core type: Variable\n",
       "    sub-expressions: "
      ]
     },
     "execution_count": 5,
     "metadata": {},
     "output_type": "execute_result"
    }
   ],
   "source": [
    "# display the expression information\n",
    "expr.exprInfo()"
   ]
  },
  {
   "cell_type": "code",
   "execution_count": null,
   "metadata": {},
   "outputs": [],
   "source": []
  }
 ],
 "metadata": {
  "kernelspec": {
   "display_name": "Python 3",
   "language": "python",
   "name": "python3"
  },
  "language_info": {
   "codemirror_mode": {
    "name": "ipython",
    "version": 3
   },
   "file_extension": ".py",
   "mimetype": "text/x-python",
   "name": "python",
   "nbconvert_exporter": "python",
   "pygments_lexer": "ipython3",
   "version": "3.7.3"
  }
 },
 "nbformat": 4,
 "nbformat_minor": 1
}
