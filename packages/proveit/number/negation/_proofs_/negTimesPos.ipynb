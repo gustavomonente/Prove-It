{
 "cells": [
  {
   "cell_type": "markdown",
   "metadata": {},
   "source": [
    "Proof of <a class=\"ProveItLink\" href=\"../../../_context_.ipynb\">proveit</a>.<a class=\"ProveItLink\" href=\"../../_context_.ipynb\">number</a>.<a class=\"ProveItLink\" href=\"../_context_.ipynb\">negation</a>.<a class=\"ProveItLink\" href=\"../_theorems_.ipynb#negTimesPos\">negTimesPos</a> theorem\n",
    "========"
   ]
  },
  {
   "cell_type": "code",
   "execution_count": 1,
   "metadata": {},
   "outputs": [],
   "source": [
    "import proveit\n",
    "context = proveit.Context('..') # the theorem's context is in the parent directory"
   ]
  },
  {
   "cell_type": "code",
   "execution_count": 2,
   "metadata": {},
   "outputs": [
    {
     "name": "stdout",
     "output_type": "stream",
     "text": [
      "Beginning proof of negTimesPos\n",
      "Recorded 'presuming' information\n",
      "Presuming previous theorems (applied transitively).\n"
     ]
    },
    {
     "data": {
      "text/html": [
       "<strong id=\"negTimesPos\">negTimesPos:</strong> <a class=\"ProveItLink\" href=\"../__pv_it/dd8503cef700b96cc6f14d9abd222ff52ad8dd930/expr.ipynb\"><img src=\"data:image/png;base64,iVBORw0KGgoAAAANSUhEUgAAATMAAAAVBAMAAADY9BTyAAAAMFBMVEX///8QEBCIiIhmZma6urrM\n",
       "zMxUVFQiIiJERETc3Nzu7u6qqqp2dnaYmJgyMjIAAAAcRTyBAAAAAXRSTlMAQObYZgAAA1VJREFU\n",
       "SMfFVk1oE0EYfU033WSbpEU86WVtoIcitCj1VGusSPEg2Ys/t4agSEFK8CBoVYKHkvobQahQxbWK\n",
       "P6XYgoik9BDSWxUMKGgFZQ96ULQEUbAVxZnN7s7MsjEbLz54m+5jv5nX+b5vZoDGEC4z8mjNo44A\n",
       "d9ANr/ELHA0qvPVt7T5HAcN1BVeQkvUavyXP+JQKn3xb+8hRwMO6gisolvcaXzEYr9GFzvp1Fu1h\n",
       "FBFR6wmuoBfeM5QYYzoZZc6vNTnP6Pp32+sJrqAT3jPcYowuTU9P+M7nBEcX3tcVhKBwxnuGWILx\n",
       "Ry53yre1OEcbU51XN5PkLTJhC8IbeIELdhAg2VU6hgdKzirHVVzRESG6zcPAuG9rFznaQxajx2RS\n",
       "tO8cpbgTgYolRFZM9EAMAkJkI5nBK/WMU5tSO7pJFg3GXWY3cBvShSNp1xbFlFGO9pB6ZE0iVfTE\n",
       "9ElTNdePUNYSeIwKhUfqewnP9T30hdQ7JpsN5MhkGUYZAXsnVBa2lpWDevAzWxKXsp5Rqa6Hppg+\n",
       "gCH6mKV9j3VoUy2BBxcENCWoo1x1lt/UXpOKr0Cwwhgpy3bs68I0oteBBdRSOGsMbapjTU6Rh7SG\n",
       "Ic3bGgO1BuqF4jh9JPXgd9Fa2NhPt5HeTk2iFbH7MZHI70AKJyEoNRIK0wcw6LyTzGyyBavWUp4J\n",
       "BfXioB8Bst9IGUaMHyL9oo/IiRj94M2yVctrwXYISo02aNW7STjfBqEUxsALXLDQBvOkW7ocZYwG\n",
       "Cm2AR8RfEF+A2/SD+UJ127mTCWQFxcQiRwvJucvmSd3HVi0l/RIELph1Tw+kn6EKd+JvQ5K8NBcZ\n",
       "rVJZBQ7kcjl1cp81frFFFRU7a4NC9nC3Y2o7Hf8D6510fFUQuGAHJGFKuiv+lh9oB2n0mMaIKG3d\n",
       "YCWIFtPSVHULkBNNmqjUOaj43b3ZcAn+Dqp+wnscTdyMGBFEqNFwn4ZS+BxkLQlOaeR4H8FsovHj\n",
       "vcVQvonHu7WYL0tLwHn658zKmBbcCCl9CZxifzjOsdYd6DTOel+KhKCQa+HlckgVL0XCuUYqy2o7\n",
       "PDAbiin1rpLctANxDZ6n31+vklJHr2XYpjcKOCoZjVzAo+6hov92AV/m6I0y9j7Df8YfO2kjQRAE\n",
       "+aAAAAAASUVORK5CYII=\n",
       "\" style=\"display:inline;vertical-align:middle;\" /></a><br>(see <a class=\"ProveItLink\" href=\"../__pv_it/dd8503cef700b96cc6f14d9abd222ff52ad8dd930/dependencies.ipynb\">dependencies</a>)<br>"
      ],
      "text/plain": [
       "negTimesPos: forall_{x in Complexes, y in Complexes} (((-x) * y) = (-(x * y)))"
      ]
     },
     "execution_count": 2,
     "metadata": {},
     "output_type": "execute_result"
    }
   ],
   "source": [
    "%proving negTimesPos presuming []"
   ]
  },
  {
   "cell_type": "code",
   "execution_count": null,
   "metadata": {},
   "outputs": [],
   "source": []
  }
 ],
 "metadata": {
  "kernelspec": {
   "display_name": "Python 3",
   "language": "python",
   "name": "python3"
  }
 },
 "nbformat": 4,
 "nbformat_minor": 0
}
