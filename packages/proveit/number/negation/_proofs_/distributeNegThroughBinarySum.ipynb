{
 "cells": [
  {
   "cell_type": "markdown",
   "metadata": {},
   "source": [
    "Proof of <a class=\"ProveItLink\" href=\"../../../_context_.ipynb\">proveit</a>.<a class=\"ProveItLink\" href=\"../../_context_.ipynb\">number</a>.<a class=\"ProveItLink\" href=\"../_context_.ipynb\">negation</a>.<a class=\"ProveItLink\" href=\"../_theorems_.ipynb#distributeNegThroughBinarySum\">distributeNegThroughBinarySum</a> theorem\n",
    "========"
   ]
  },
  {
   "cell_type": "code",
   "execution_count": 1,
   "metadata": {},
   "outputs": [],
   "source": [
    "import proveit\n",
    "context = proveit.Context('..') # the theorem's context is in the parent directory"
   ]
  },
  {
   "cell_type": "code",
   "execution_count": 2,
   "metadata": {},
   "outputs": [
    {
     "name": "stdout",
     "output_type": "stream",
     "text": [
      "Beginning proof of distributeNegThroughBinarySum\n",
      "Recorded 'presuming' information\n",
      "Presuming previous theorems (applied transitively).\n"
     ]
    },
    {
     "data": {
      "text/html": [
       "<strong id=\"distributeNegThroughBinarySum\">distributeNegThroughBinarySum:</strong> <a class=\"ProveItLink\" href=\"../__pv_it/9cc8aa376633c61606df7e29c0f1024303754f670/expr.ipynb\"><img src=\"data:image/png;base64,iVBORw0KGgoAAAANSUhEUgAAATAAAAAVBAMAAAAzw6/xAAAAMFBMVEX///8QEBCIiIhmZma6urrM\n",
       "zMxUVFQiIiJERETc3Nzu7u6qqqp2dnaYmJgyMjIAAAAcRTyBAAAAAXRSTlMAQObYZgAAA1JJREFU\n",
       "SMfFVktoE1EUPW2SpplkUheCnyLU1t/CRVEQkdYPIl0p2VgVwZZgEQUlChZ/ixBBklZhoKDiB0aL\n",
       "Iqk2oVK0Umiw1IVKCbjQFiyBWtEisYiCpgq+lzdJ5k6aaVIXHjiZmfty5p25774PUBJua6SRueBU\n",
       "BI1wxOfpIiNM8If3RfqS/II0kocHS9jPUY3GNrP364WveGC6SGNuRZBG8jHJ2KvRgM+mHeiE13l6\n",
       "/UUae6ORRnLo066zjK4aQQq53rQDndCtsku0SGNnNdJInjFrig/yIkEKu2L2fr1QfhkOXyvSl8Mn\n",
       "SCP5xlzp6AeNBOZdEeHPYPBCkcbK6wVpBF3DK1VizO2tY2MwDEGCOv1XNWxYbqhhvbANCM1hYk8i\n",
       "P1YZF6QR6zJ8pRmLTEu/gAkIwpVMI/1FV3TiHYp7hnZAhDshEQ/Oy0e8/G3ZzDx90a7VsD0qqCsZ\n",
       "9nQnjs3U2JCKb8ATCBKc1600K2AxzDoitKM8kwRpcGNc2q/avvCscgM9w42414FDMdFetl2wN52B\n",
       "KS2yTcUp3jqaTJ5MJj+yu62QfgMtECRYzHoRCfRYUrDzL848G4WuuD2jejcQhnwLGGT3VWz6yJ03\n",
       "VIzF4DQYy4E/LYX0g2ZsEtbZwsayWj8iHuMyphM6Es3spnvNFKx89Hb1sxBvqT3GRplV0EEmVkyG\n",
       "kn2jc4Ya+wOWDTRBMFNjrYahjMQwZLBNhaHDLJ2nbSm4edv4mPjPWrUuvV3JjxTz4pdmUZEYIMa+\n",
       "87rLFb8euuKPRHHCsJtS4WO2eFjqbT5087ZnWh8BTEg8g86enJZPCBdZLvhTAG9bY8TYcVxkvw0a\n",
       "CXTrR2WN3O6irVRYxSqwLFrein3BYLDm5t5MMWyynQkGA47+XB1YfYIgkfu1B7zbibHu9TytUxoJ\n",
       "mnSz0rv66iraSoUyWx0jSuW4WsHbLHeZhF1TqEa6KrYw32ppW5Lo1ydYypaULyxTWnbD5Ukvxx48\n",
       "d3TgnOzHCG/qGsntxfNt4mH9KC9kE88TWr19jUAnv32YvOSxVaP5NasCPgOl0U9t2bJQBHWFUjAD\n",
       "BY49oXmNzSEsZzWmLf/isi4YWMhBMesgVOJB0UwoMPDPR2tZESz5aF1IKBDH/8Zfa/Ai73rb1XEA\n",
       "AAAASUVORK5CYII=\n",
       "\" style=\"display:inline;vertical-align:middle;\" /></a><br>(see <a class=\"ProveItLink\" href=\"../__pv_it/9cc8aa376633c61606df7e29c0f1024303754f670/dependencies.ipynb\">dependencies</a>)<br>"
      ],
      "text/plain": [
       "distributeNegThroughBinarySum: forall_{a in Complexes, b in Complexes} ((-(a + b)) = (-a - b))"
      ]
     },
     "execution_count": 2,
     "metadata": {},
     "output_type": "execute_result"
    }
   ],
   "source": [
    "%proving distributeNegThroughBinarySum presuming []"
   ]
  },
  {
   "cell_type": "code",
   "execution_count": null,
   "metadata": {},
   "outputs": [],
   "source": []
  }
 ],
 "metadata": {
  "kernelspec": {
   "display_name": "Python 3",
   "language": "python",
   "name": "python3"
  }
 },
 "nbformat": 4,
 "nbformat_minor": 0
}
