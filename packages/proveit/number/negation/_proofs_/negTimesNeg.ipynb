{
 "cells": [
  {
   "cell_type": "markdown",
   "metadata": {},
   "source": [
    "Proof of <a class=\"ProveItLink\" href=\"../../../_context_.ipynb\">proveit</a>.<a class=\"ProveItLink\" href=\"../../_context_.ipynb\">number</a>.<a class=\"ProveItLink\" href=\"../_context_.ipynb\">negation</a>.<a class=\"ProveItLink\" href=\"../_theorems_.ipynb#negTimesNeg\">negTimesNeg</a> theorem\n",
    "========"
   ]
  },
  {
   "cell_type": "code",
   "execution_count": 1,
   "metadata": {},
   "outputs": [],
   "source": [
    "import proveit\n",
    "context = proveit.Context('..') # the theorem's context is in the parent directory"
   ]
  },
  {
   "cell_type": "code",
   "execution_count": 2,
   "metadata": {},
   "outputs": [
    {
     "name": "stdout",
     "output_type": "stream",
     "text": [
      "Beginning proof of negTimesNeg\n",
      "Recorded 'presuming' information\n",
      "Presuming previous theorems (applied transitively).\n"
     ]
    },
    {
     "data": {
      "text/html": [
       "<strong id=\"negTimesNeg\">negTimesNeg:</strong> <a class=\"ProveItLink\" href=\"../__pv_it/52cdf92ccf6ddcf766ebb247f2a281c4b7d1ec8e0/expr.ipynb\"><img src=\"data:image/png;base64,iVBORw0KGgoAAAANSUhEUgAAATAAAAAVBAMAAAAzw6/xAAAAMFBMVEX///8QEBCIiIhmZma6urrM\n",
       "zMxUVFQiIiJERETc3Nzu7u6qqqp2dnaYmJgyMjIAAAAcRTyBAAAAAXRSTlMAQObYZgAAA4hJREFU\n",
       "SMfFlk1oE0EUx1/TpJtsdtMinvQSDRQPgkXxIq3EivQk3YsfINhQLFIQCR6KWoXQQ9m0VgMKih8Y\n",
       "q9baag1IqZUeQkI9VJGAHqyg5NCCFS092oLizLzZ7OxH6vbkgyHZ/f/e2zczbz4ANmb3eAuVrO/D\n",
       "GTtlE60Amj0Is2nuUKYPX7zmJaewwahd6bZRDrHbGW3U7RN1GYTf0ofvXhOLZLDBkl2ZsFEOccIZ\n",
       "bcm172WEb9EhTXlN7ANvapNdUaJWyiGKAJozCLMCOkSy5CfnNbELvEmOipEbrJRDFAE0KeP6jQfo\n",
       "oM6Njd30mlcoiQ1cPBYslIu4YH9Z5bOROMK/dP2S18R8TdggJrwcbryxk0xT0UJVxN0Q2oJi0R4t\n",
       "ZjqLsNKEcBdA2mtiwRI2GBKmKa+ek0jBfrVQhuUPgG8FRQYoy8xY6kOmswirZYQP4jowN50rpzut\n",
       "6bx608M7JeWwQa9Q2FllzU+qZYo+ZA3KmNXcfgimUJyyd7PXdGaOHA4nEZbAZ/RQntlTko9nAz8q\n",
       "vuPFFng8ACfz+FgTxwabCYx912T2ZYAOGuCPQU0wcVGGTVAfRbHDnhgNwp2ZI4cDKwgrJckgP02P\n",
       "gXoXYKayoAdvZ2E+D2GXxEyrjxqJQY9BGeZfgw6temKGMzoibCQWKh+lm8feRs1PZ/7QJHlFflsT\n",
       "cJFMM6FPkMCZ6lMJ7MsAbeY2IOw+tWXYxsU2ocYSYARBZxH2JzmcPkUWUvasFI9Q8fM8L8S1QAM7\n",
       "r9TnmXWLP5zdRdyrFX8wAf0gFL9oQ6azCBvFDy9JhgH4CfCQiq+nsWofJX0pmQ5heNxMjK5kYzUb\n",
       "1p67xg7tZgtVGYSE/zcXm+2JFU1nEa7NcxhneRXgmK7r0TtHOJSviwbO63pfaNIcbDrKlZHmNrJ9\n",
       "uIUO0aKFqmwmnbFVLi7aE2sznUU4onFYpUMZWAlAHUtomC4PUijxGg1YKeyL8m1g/SMpWeVIIoXD\n",
       "RDnp4Uii8BMx2n2lrIBCUw01a1AIDYCktQPMUu36rHkAb/gQPwsv4p4PcYQLYrSRj4U5gEH699ly\n",
       "vxbYCv7Oq6Qa6fqS33/rqpRnBpvzsBBvNUFzKC5DX/Vrjz0Ig41rj+UoJDXGlxo8ZStvh97n8aKY\n",
       "dr8otsY0Lqb/fVFksHu/zfvtGX95I1drdb2rNRVVr1freXCH0Upw+B38V/sLVx4grfMmImIAAAAA\n",
       "SUVORK5CYII=\n",
       "\" style=\"display:inline;vertical-align:middle;\" /></a><br>(see <a class=\"ProveItLink\" href=\"../__pv_it/52cdf92ccf6ddcf766ebb247f2a281c4b7d1ec8e0/dependencies.ipynb\">dependencies</a>)<br>"
      ],
      "text/plain": [
       "negTimesNeg: forall_{x in Complexes, y in Complexes} (((-x) * (-y)) = (x * y))"
      ]
     },
     "execution_count": 2,
     "metadata": {},
     "output_type": "execute_result"
    }
   ],
   "source": [
    "%proving negTimesNeg presuming []"
   ]
  },
  {
   "cell_type": "code",
   "execution_count": null,
   "metadata": {},
   "outputs": [],
   "source": []
  }
 ],
 "metadata": {
  "kernelspec": {
   "display_name": "Python 3",
   "language": "python",
   "name": "python3"
  }
 },
 "nbformat": 4,
 "nbformat_minor": 0
}
