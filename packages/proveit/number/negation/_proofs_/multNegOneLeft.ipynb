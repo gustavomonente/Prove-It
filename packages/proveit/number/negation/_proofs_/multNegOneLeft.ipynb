{
 "cells": [
  {
   "cell_type": "markdown",
   "metadata": {},
   "source": [
    "Proof of <a class=\"ProveItLink\" href=\"../../../_context_.ipynb\">proveit</a>.<a class=\"ProveItLink\" href=\"../../_context_.ipynb\">number</a>.<a class=\"ProveItLink\" href=\"../_context_.ipynb\">negation</a>.<a class=\"ProveItLink\" href=\"../_theorems_.ipynb#multNegOneLeft\">multNegOneLeft</a> theorem\n",
    "========"
   ]
  },
  {
   "cell_type": "code",
   "execution_count": 1,
   "metadata": {},
   "outputs": [],
   "source": [
    "import proveit\n",
    "context = proveit.Context('..') # the theorem's context is in the parent directory"
   ]
  },
  {
   "cell_type": "code",
   "execution_count": 2,
   "metadata": {},
   "outputs": [
    {
     "name": "stdout",
     "output_type": "stream",
     "text": [
      "Beginning proof of multNegOneLeft\n",
      "Recorded 'presuming' information\n",
      "Presuming previous theorems (applied transitively).\n"
     ]
    },
    {
     "data": {
      "text/html": [
       "<strong id=\"multNegOneLeft\">multNegOneLeft:</strong> <a class=\"ProveItLink\" href=\"../__pv_it/246720a963f7aa9b3059f159d6d5fd8b072f87fe0/expr.ipynb\"><img src=\"data:image/png;base64,iVBORw0KGgoAAAANSUhEUgAAAOEAAAAUBAMAAACJwkfjAAAAMFBMVEX///8QEBCIiIhmZma6urrM\n",
       "zMxUVFQiIiJERETc3Nzu7u6qqqp2dnaYmJgyMjIAAAAcRTyBAAAAAXRSTlMAQObYZgAAApRJREFU\n",
       "SMedVk1o1EAUfm6zTTZNVg/eDS30UIQuiJ5WKBUpnszFn9tKUaQgungTRXqSLCrmUKigYlxBZZFa\n",
       "EZGVHkp7W0EXFLSCGqgrKLosgqD24vxlZzLT6Y8PvpD3Zd58yZs3bwKwluWaHIL1hfJAlQG4Jfl1\n",
       "hhg7HzSKDwSINqGMVBl7UiJ6Q4oX2PmmUfwqILHHEcCMMlJl8vJn2zHFdZy8ydUF3QJHEnbqDFJ0\n",
       "PHmoyrxWplugyOMJZldXNEOOrn1CAfY2JYcKc06Z7g6F26jVpjVJnRaQUoTPyliZyZXVPI9Q/A6C\n",
       "CxrFAQFpxUXuVwendnophlimICSgf2IUpdMpUJwAqGgUrwpIK37ks827Z82YMS/b2JbxrSVsqIfw\n",
       "1ruI0hlT7CMFJGytKyfH2e15AWnFZ0SMlEzk/DVCxog1INRGA15FB9DMZQoTMsnr2HO7mvbRKPud\n",
       "+ds5bPL2bZ8plvDjRzGRtUillyTFLWjBZkhMCyIIMJXtUDhNMxn1rl4D9ybAnKoofSOZ3zxGiK2e\n",
       "TpHbT1ExFx/G+2T3oG/gxd7/FFHrZnVMIEo+JAxdxy9yViH7C1+NMgVUjqPKik6bI3lMv1/aXOX0\n",
       "RcMoWmSoiZXzPNOBIV458ATJZuEHwF3ytM5HLgro2jBWLHbdg7PXSM8uyk2I7w5jxergs6BnnoKt\n",
       "wx+AI0EQeDcO8agxAYnt2bGMgltd/15/dS/+nJakaPAOYI8PDeCzIu9TgBuRVc1CL37cU2Vlr+ty\n",
       "ZA6loaiM2uXuMxC77cQOOFg/V/RJy9V0cl3f3kQnZ7l5s9AAuEwaRPuSn9AVAWufTSpj6U6rVC9E\n",
       "67ihE1lti5X1T2T8ClYI8D9/Ha4S527gr2OJ4h/VxNpdSPE3uwAAAABJRU5ErkJggg==\n",
       "\" style=\"display:inline;vertical-align:middle;\" /></a><br>(see <a class=\"ProveItLink\" href=\"../__pv_it/246720a963f7aa9b3059f159d6d5fd8b072f87fe0/dependencies.ipynb\">dependencies</a>)<br>"
      ],
      "text/plain": [
       "multNegOneLeft: forall_{x in Complexes} (((-1) * x) = (-x))"
      ]
     },
     "execution_count": 2,
     "metadata": {},
     "output_type": "execute_result"
    }
   ],
   "source": [
    "%proving multNegOneLeft presuming []"
   ]
  },
  {
   "cell_type": "code",
   "execution_count": null,
   "metadata": {},
   "outputs": [],
   "source": []
  }
 ],
 "metadata": {
  "kernelspec": {
   "display_name": "Python 3",
   "language": "python",
   "name": "python3"
  }
 },
 "nbformat": 4,
 "nbformat_minor": 0
}
