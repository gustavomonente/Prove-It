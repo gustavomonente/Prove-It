{
 "cells": [
  {
   "cell_type": "markdown",
   "metadata": {},
   "source": [
    "Proof of <a class=\"ProveItLink\" href=\"../../../_context_.ipynb\">proveit</a>.<a class=\"ProveItLink\" href=\"../../_context_.ipynb\">number</a>.<a class=\"ProveItLink\" href=\"../_context_.ipynb\">negation</a>.<a class=\"ProveItLink\" href=\"../_theorems_.ipynb#distributeNegThroughSubtract\">distributeNegThroughSubtract</a> theorem\n",
    "========"
   ]
  },
  {
   "cell_type": "code",
   "execution_count": 1,
   "metadata": {},
   "outputs": [],
   "source": [
    "import proveit\n",
    "context = proveit.Context('..') # the theorem's context is in the parent directory"
   ]
  },
  {
   "cell_type": "code",
   "execution_count": 2,
   "metadata": {},
   "outputs": [
    {
     "name": "stdout",
     "output_type": "stream",
     "text": [
      "Beginning proof of distributeNegThroughSubtract\n",
      "Recorded 'presuming' information\n",
      "Presuming previous theorems (applied transitively).\n"
     ]
    },
    {
     "data": {
      "text/html": [
       "<strong id=\"distributeNegThroughSubtract\">distributeNegThroughSubtract:</strong> <a class=\"ProveItLink\" href=\"../__pv_it/56452175e3347249d29a22a3dca9adf6627718ee0/expr.ipynb\"><img src=\"data:image/png;base64,iVBORw0KGgoAAAANSUhEUgAAATAAAAAVBAMAAAAzw6/xAAAAMFBMVEX///8QEBCIiIhmZma6urrM\n",
       "zMxUVFQiIiJERETc3Nzu7u6qqqp2dnaYmJgyMjIAAAAcRTyBAAAAAXRSTlMAQObYZgAAA0xJREFU\n",
       "SMfFVktoE1EUPW2SpplkUheCn6LE1t/CRVEQkdYPIl0p2VgVwYZgEQUlCBZ/ixBBJq3CQEHFD4wW\n",
       "RVptglK0Umiw1IWKBFxoC5aAFrVILKKgqYLv5U2SuZNPE1144GRm7puTd+a++z5ARbiuk0YKwakK\n",
       "muGIz9FFRpjgD2/L9CUFBWkkD3cWsJ9DOs1tpf7fKHzOA9NlGnOrgjSSj3eMAzpN+FSyA4PwMk9v\n",
       "sExjr3TSSD5mGV0eQQq5qeDwefKFbo1domUaO6mTRvJgTfFBnidIYVdLGTMK5Wd9fZfK9OUICNJI\n",
       "Plzp6HudBIW7yhgjwh+KcqZMY9VNgjSCntFlGi1FfyMbg1EIEjQav6p57WJqjAg7gHABEzsT+bHa\n",
       "uCCNWBfhC30vMi39BCYhCFcyjfQXXTC8tlV1z1BjRLgNEvHgPH/Qz/8tm5lHTzt1nT0qaCgZ9nQj\n",
       "jg3U2IiGr8BDCBKcNqw0S2AJUmNEaEd1JgnS8Lq4tEezfeZZ5Qb6R1twqwv7Y6K9aovgQDoDU3pk\n",
       "s4ZjvDUX3QTpF9AOQYL5rBeRQK8lBbtHJPTD0mTSZxa64vaM6s1QH+RrwDC7r2PTR+6+omE8BqfJ\n",
       "WA78aSGk7+bVyDpb3FhWG0TESzNGhI5EG7vpXTkFKx+97YMsxFsaDrNRZhW0j4nVEkPJvtE5Q3v/\n",
       "DZYNtEIwU2M+01BGYhgxzUoqDB9g6T1uS8HN2ybGxTurtMb0diXfU0sXvzSLmsQQMfaN112u+I0w\n",
       "FH8kiqP6bpoxRoUP2OJhabIF0MvbHut9hDAp8Qw6+3PG+IRwkeWCP4Xw2hcjvR/BWfbbrJPAsH7U\n",
       "euROF80YFdaxaFW02ofdiqJ4ru7KFMN62wlFCTkGvbkVPSAIErndsNdPCg+9a3hap3QStBpmpX/F\n",
       "xeXUGBXKbHWMqLUTWg1vs9xkEnZNoR7pqtjIRFplW5LoNyBYyZaUL6xS23fA5U0vx148cXThlBzE\n",
       "GG/qGcvtxeVu4qhwE5e0YkKr/34L0M1v7ybPeW31aHvBqoDPQOnlx45sWaiChkJRixkrcuwJz7nx\n",
       "FRBWsxrTcysuq5XQ3xwUsw7CFR4USwkFhv75aC2rghUfrYsJBeL43/gDtmocMvkmmEcAAAAASUVO\n",
       "RK5CYII=\n",
       "\" style=\"display:inline;vertical-align:middle;\" /></a><br>(see <a class=\"ProveItLink\" href=\"../__pv_it/56452175e3347249d29a22a3dca9adf6627718ee0/dependencies.ipynb\">dependencies</a>)<br>"
      ],
      "text/plain": [
       "distributeNegThroughSubtract: forall_{a in Complexes, b in Complexes} ((-(a - b)) = (-a + b))"
      ]
     },
     "execution_count": 2,
     "metadata": {},
     "output_type": "execute_result"
    }
   ],
   "source": [
    "%proving distributeNegThroughSubtract presuming []"
   ]
  },
  {
   "cell_type": "code",
   "execution_count": null,
   "metadata": {},
   "outputs": [],
   "source": []
  }
 ],
 "metadata": {
  "kernelspec": {
   "display_name": "Python 3",
   "language": "python",
   "name": "python3"
  }
 },
 "nbformat": 4,
 "nbformat_minor": 0
}
