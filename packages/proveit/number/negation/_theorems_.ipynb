{
 "cells": [
  {
   "cell_type": "markdown",
   "metadata": {},
   "source": [
    "Theorems for context <a href=\"_context_.ipynb\" class=\"ProveItLink\">proveit.number.negation</a>\n",
    "========"
   ]
  },
  {
   "cell_type": "code",
   "execution_count": 1,
   "metadata": {},
   "outputs": [],
   "source": [
    "import proveit\n",
    "# Automation is not needed when building theorem expressions:\n",
    "proveit.defaults.automation = False # This will speed things up.\n",
    "from proveit import ExprRange, IndexedVar\n",
    "from proveit._common_ import a, b, k, n, x, y\n",
    "from proveit.core_expr_types._common_ import x_1_to_n\n",
    "from proveit.logic import Forall, Equals, NotEquals, InSet\n",
    "from proveit.number import Neg, NaturalsPos, Integers, Reals, Complexes, zero, one\n",
    "from proveit.number import Add, subtract, Mult, Exp, Less, Greater\n",
    "# the context is in the current directory:\n",
    "context = proveit.Context('.') # adds context root to sys.path if necessary"
   ]
  },
  {
   "cell_type": "code",
   "execution_count": 2,
   "metadata": {},
   "outputs": [
    {
     "name": "stdout",
     "output_type": "stream",
     "text": [
      "Defining theorems for context 'proveit.number.negation'\n",
      "Subsequent end-of-cell assignments will define theorems\n",
      "'%end theorems' will finalize the definitions\n"
     ]
    }
   ],
   "source": [
    "%begin theorems"
   ]
  },
  {
   "cell_type": "code",
   "execution_count": 3,
   "metadata": {},
   "outputs": [
    {
     "data": {
      "text/html": [
       "<strong id=\"negatedZero\"><a class=\"ProveItLink\" href=\"_proofs_/negatedZero.ipynb\">negatedZero</a>:</strong> <a class=\"ProveItLink\" href=\"__pv_it/76f065574476f20dda673d5adb3eb51b32f4a4e60/expr.ipynb\"><img src=\"data:image/png;base64,iVBORw0KGgoAAAANSUhEUgAAAE8AAAAUBAMAAAA+U32BAAAAMFBMVEX///9UVFTMzMx2dna6uroQ\n",
       "EBCqqqqIiIgiIiJmZmYyMjJERETu7u6YmJjc3NwAAAC+aOQFAAAAAXRSTlMAQObYZgAAAShJREFU\n",
       "KM9jYOC7wIAM2B4w4ACnEUzmWiMGBjlMJeaXFYDkOoTAMoYTDxhOYajjSuDpY2DgnQAX4A1gYF7A\n",
       "wFyArvAqA4MVAwMHwk3cAgxsfxh4AtAVbmRgyD/A8AIhwC/AwPKNgWEJusKPDAz+CQyVCIHzExhY\n",
       "vjMwWKKp4/kJVFjAsBch8t6AgQmo8BaYY7UKBFYCWXyfGRj0CxjakBROYGACCmagmcgHNFHfgCEE\n",
       "aDZY8yoFqNX62K0OQfEM2zdMhSDP5CcgW829gYH3DwODB5IbF4KYuxkY7h9A9gwkwKGewQhw5MBo\n",
       "YzgKjNTJ6Ao5EniCYBZBwOFyISC5CF0hj3mhAkoUQoUbsKcypEQBTWsFONLjPjT+KSISLlaNiBhC\n",
       "zQq8OLICAI09TmI5XMYOAAAAAElFTkSuQmCC\n",
       "\" style=\"display:inline;vertical-align:middle;\" /></a><br>"
      ],
      "text/plain": [
       "negatedZero: (-0) = 0"
      ]
     },
     "execution_count": 3,
     "metadata": {},
     "output_type": "execute_result"
    }
   ],
   "source": [
    "negatedZero = Equals(Neg(zero), zero)"
   ]
  },
  {
   "cell_type": "code",
   "execution_count": 4,
   "metadata": {},
   "outputs": [
    {
     "data": {
      "text/html": [
       "<strong id=\"intClosure\"><a class=\"ProveItLink\" href=\"_proofs_/intClosure.ipynb\">intClosure</a>:</strong> <a class=\"ProveItLink\" href=\"__pv_it/40fc23a2a5d47b9d5ef666d608b1351c5e5925330/expr.ipynb\"><img src=\"data:image/png;base64,iVBORw0KGgoAAAANSUhEUgAAAJYAAAAUBAMAAACdV9kCAAAAMFBMVEX///8QEBCIiIhmZma6urrM\n",
       "zMxUVFQiIiJERETc3Nzu7u6qqqp2dnaYmJgyMjIAAAAcRTyBAAAAAXRSTlMAQObYZgAAAjZJREFU\n",
       "OMtjYMAH5kIxEuCegF0pSPwBiHEXuzxXAwSjgEw0Pkvhx3fiDy+AxE+D+K+wm8U3AYJRwDo0PlNz\n",
       "AMMDDrD4DCCXswG7WZehGAXwKKDymQ8w8Gw4AhbnWwCkNmA3qxKKUT0uAKF528vrwGYtYJjGagAW\n",
       "5z21atV07EZxFkAwGngCJlmbFsBFujgWQMR/dHTUYDeLyQCC4WDyYUWgpsOQYEMYxasAjjugeCoD\n",
       "Qyd2szguQDA8xiQZ3gOpe+jRuQIS10BxZwauB0gGsEkcboa6hX0DBMPAwgsMFkBqO5iDFF2pbOC4\n",
       "BoqzMzDB7ObaY3yBfQLPIqjzGR0geN07EHjKYL+AoQgoHA8OLjmQGMS5Bj5gGijOc4EdZsGNnasY\n",
       "uBliYSkdZhYMSDBwfYWZhZSM+EBuPAUW53wQBhRYrPYUaAFYzuAAA1Y/cv1h4P4ApN3BPAG4+Gke\n",
       "BzAXJN6ZAlRXyvoLaAE4VmYHYA97rt8MbA92wsLeCJ5yEqYBE5kARHwzMAkxG7AWMCwGyy3igadw\n",
       "AwiGgSaG6wlAN9vAHQ2xcUEXA1duA0ScH5gpGDcwJTCEd3R0KDAcOMUwC5oGCiAYBpYpRSYBvfMU\n",
       "4soML4ioY59Eh7yEAUScFxht6ydw3FrABjZg6wWGk3jzENR0lhOQPIQuzsA4Id6XgQcUUMzMCLcQ\n",
       "lbcxxFmSNtkyMHQDWdfSzjxPgAXFBAjGW+bgEGcChRehshBHhsMpjqeM5sVRRgPFAQXOmo6YKTO0\n",
       "AAAAAElFTkSuQmCC\n",
       "\" style=\"display:inline;vertical-align:middle;\" /></a><br>"
      ],
      "text/plain": [
       "intClosure: forall_{a in Integers} ((-a) in Integers)"
      ]
     },
     "execution_count": 4,
     "metadata": {},
     "output_type": "execute_result"
    }
   ],
   "source": [
    "intClosure = Forall(a, InSet(Neg(a), Integers), domain=Integers)"
   ]
  },
  {
   "cell_type": "code",
   "execution_count": 5,
   "metadata": {},
   "outputs": [
    {
     "data": {
      "text/html": [
       "<strong id=\"realClosure\"><a class=\"ProveItLink\" href=\"_proofs_/realClosure.ipynb\">realClosure</a>:</strong> <a class=\"ProveItLink\" href=\"__pv_it/1efd102836cc9d8674e096466867d6fce837cfc10/expr.ipynb\"><img src=\"data:image/png;base64,iVBORw0KGgoAAAANSUhEUgAAAJcAAAAUBAMAAABylbI8AAAAMFBMVEX///8QEBCIiIhmZma6urrM\n",
       "zMxUVFQiIiJERETc3Nzu7u6qqqp2dnaYmJgyMjIAAAAcRTyBAAAAAXRSTlMAQObYZgAAAjBJREFU\n",
       "OMtjYMAHOC9AMDLYiUMtSPwBiHEXh4IVUIwM2Cag8q9L9L+TuAARPw0SeIXDsJdQjAy4HqAJPFjG\n",
       "EHFjAVh8Bsg3DdjN4jWAYFRwCI3fMIeBgzMBLM63gIGBZwN2w9gnQDAqWAilb5SXP4AaxjzhAVic\n",
       "99SqVdNx+HI6FKMCPgcwFaGFcBnzhAaI+I+OjhochilDMTxybYykgP4Ae5zrFZI32VgSIOKpDAyd\n",
       "OAzrhWIYcJzA9wHolweokQo0bLvdAoi4M2r8bNdIfgRjV0MxLB5lGZiB3uEuAHE4EBEwsbwOFOgg\n",
       "cXYGJliy5NpjfIGJh+GUApQvAsFc78AggPkXAztQivUDSC4QJASNAGcOoMPA4jwX2GF23Ni5igFo\n",
       "2K0LqIbBAGMDw/oAmGEzkJIGs2sD1DDOB2FA1mK1pwwsoJAFGXYAuzfXH2DYD6RYwN5kRE5nXZdg\n",
       "4p0pQJ+Usv5i4GOAGGZsgD0C1m9gyOOeAI0AZgUkw8KYA6ARsxloIrMBawHDYrBhzGklMGWHoRgK\n",
       "OBR4y3iAag/AnQ3LTjwbUqHi/EA7GDcwJTCEd3R0KDDxTLoCU+YOxbD4SVKdpgJMnAFg3rKWBbCM\n",
       "/pSh4/0GiDgvUHD9BI5bC9gg3uSOWYA3Oy2H0j7t5Q+wiTMwToj3ZeAJgITZqQMkZXQMcZakTbYM\n",
       "DN2gRHvuwGI7mHAnA2b2wCiCcIgzAcOMYOHIMQG7YbjE8RbbN3GoBYoDAA7/qZPzga4CAAAAAElF\n",
       "TkSuQmCC\n",
       "\" style=\"display:inline;vertical-align:middle;\" /></a><br>"
      ],
      "text/plain": [
       "realClosure: forall_{a in Reals} ((-a) in Reals)"
      ]
     },
     "execution_count": 5,
     "metadata": {},
     "output_type": "execute_result"
    }
   ],
   "source": [
    "realClosure = Forall(a, InSet(Neg(a), Reals), domain=Reals)"
   ]
  },
  {
   "cell_type": "code",
   "execution_count": 6,
   "metadata": {},
   "outputs": [
    {
     "data": {
      "text/html": [
       "<strong id=\"complexClosure\"><a class=\"ProveItLink\" href=\"_proofs_/complexClosure.ipynb\">complexClosure</a>:</strong> <a class=\"ProveItLink\" href=\"__pv_it/ee56ab11e1177bae8a18c3ed3be6446ee8a348e70/expr.ipynb\"><img src=\"data:image/png;base64,iVBORw0KGgoAAAANSUhEUgAAAJcAAAAUBAMAAABylbI8AAAAMFBMVEX///8QEBCIiIhmZma6urrM\n",
       "zMxUVFQiIiJERETc3Nzu7u6qqqp2dnaYmJgyMjIAAAAcRTyBAAAAAXRSTlMAQObYZgAAAi5JREFU\n",
       "OMtjYMAHOC9AMDLYiUMtSPwBiHEXh4IVUIwM2Cagq2J6/l68GSx+GsR9hcOwl1CMDLgeoAmwxm/g\n",
       "sr8MFp8B8k0DdrN4DSAYFRxC419IAqr6DBbnW8DAwLMBu2HsEyAYFSyE0jfKy0GO5A2QApLJYHHe\n",
       "U6tWTcfhy+lQjAr4HMBUhBaEywz21yKI+I+OjhochilDMTxybYyAruABe5wLFs7LWKEBARJPZWDo\n",
       "xGFYLxTDgOMEvg9AvzxAidQ5LArQEAaKO6PFD3dPehKUWQ3FsHiUZWAGeom7AMThgIlOhhkGEmdn\n",
       "YIIlS649xhe4IhawvoHyRSCY6x0YBDD/YmAHamT9AJILBAmBXLGC9QA0iQDFeS6wwyy5sXMVA+8c\n",
       "BoY9qIbBAGMDw/oAmGEz4PGxIAFhGOeDMCBrsdpTBhZQSLpuBQph9+b6Awz7gRQL2JuMiMQIMowL\n",
       "Kt6ZAmSXsv5i4APJ3bqJMwLWb2DI454AjQBmBZhwkxOQ8INGzGagicwGrAUMi0FSu5Ay8mEohgIO\n",
       "Bd4yHqDaA3BnQxLai1NcO7qg4vxAOxg3MCUwhHd0dCjMDkXododiWPwkqU5TAQZSACR9tSyAigc/\n",
       "/G7KABXnBQqun8BxawEb2J5F4ADAk52WQ2mf9vIH2MQZGCfE+zLwBIBTeQA8KxOX0THEWZI22TIw\n",
       "dIOYa961BcCEOxkwswdGEYRDnAkYZgQLR44J2A3DJY632L6JQy1QHAAGE5pPhGzl1QAAAABJRU5E\n",
       "rkJggg==\n",
       "\" style=\"display:inline;vertical-align:middle;\" /></a><br>"
      ],
      "text/plain": [
       "complexClosure: forall_{a in Complexes} ((-a) in Complexes)"
      ]
     },
     "execution_count": 6,
     "metadata": {},
     "output_type": "execute_result"
    }
   ],
   "source": [
    "complexClosure = Forall(a, InSet(Neg(a), Complexes), domain=Complexes)"
   ]
  },
  {
   "cell_type": "code",
   "execution_count": 7,
   "metadata": {},
   "outputs": [
    {
     "data": {
      "text/html": [
       "<strong id=\"negatedPositiveIsNegative\"><a class=\"ProveItLink\" href=\"_proofs_/negatedPositiveIsNegative.ipynb\">negatedPositiveIsNegative</a>:</strong> <a class=\"ProveItLink\" href=\"__pv_it/7b537909683c6491b40b63caa31c01dfa765c4360/expr.ipynb\"><img src=\"data:image/png;base64,iVBORw0KGgoAAAANSUhEUgAAAMUAAAAWBAMAAACCvEVCAAAAMFBMVEX///8QEBCIiIhmZma6urrM\n",
       "zMxUVFQiIiJERETc3Nzu7u6qqqp2dnaYmJgyMjIAAAAcRTyBAAAAAXRSTlMAQObYZgAAAq5JREFU\n",
       "SMetVUtoE1EUPZlkmmTy2+iiijBQDYKb0OxERRF0pc7KuhAi9YNuStBWECsUxJIghUGhdTkSsBKE\n",
       "DAqVgpgQd1FKBBe2VAyFLlSQgh9sceH7zSeTETqlF27ezZn33pl3z71vgK1YvM3dbfP+UyncocGn\n",
       "gBxPhbutT++Z1lzWGPyW/vkakOOLcLcpHe+stKncYvAjevSJYBSpHHfPWzthYpX+vgcWGJw2gKQZ\n",
       "jCOqc++2x8473GAPJ4G6QeFUq1qdCZiqGeGe1BwVgTRusPE3cMZk8J9SaTwgx4Bwu8wODe4i2RDZ\n",
       "e3ZdCPSDcKgMvgyU/TaKeAGp2RDRlHDLjunpNZIRLnrljsX8FyioDD7eXREv919cYUHMeU2NDcuY\n",
       "E8Bt4VZF7UGYVE2iyEr4m72MnKPQYHAUktVNyqt8W0qipXZzKFeZhKPI8DxjB3flOzMtvIEoWSKv\n",
       "0WdPbA6RKwon21EL/ThfBeFYandzID5JSJRfCJldHJaFJlDTLA48tHJFNa+bDI53ztIsZlcRoaJR\n",
       "jobDoQyO0OV3DcjriLZ9c1VroE4FLHZrjhLw2eBw+RLZakzeQBqcI59zOGa1Ak1QZAUyz4iP5jUT\n",
       "Iwnd0typXd6DDH5BiMI5uYgKmxC+MurSPI8h3lb95BwhwfFGuLCYmrqZJHs0PD0YNZWdAs6QlSFT\n",
       "uoChUqmkSskHH1wcu5Fl42uV6JERXXZSuCXu8L7pvaQHNc9dojSzmoBT5GQ1PbZk9PFcJc4bNoey\n",
       "jqkqGU+33HXlf5fM+jesDYf0wikkNa5Hy6V5v/yTCH3uIOvsuc3eib5wZPj5YeA+7cGFRuWIw3Hi\n",
       "wEAb09fYCd/Z25bRezn03u2+sET0cJS0I/neZr5RMd2X4z+wl2Nz39pF/6mL2CLHdll423b6B2do\n",
       "vKrNBe1CAAAAAElFTkSuQmCC\n",
       "\" style=\"display:inline;vertical-align:middle;\" /></a><br>"
      ],
      "text/plain": [
       "negatedPositiveIsNegative: forall_{a in Reals | a > 0} ((-a) < 0)"
      ]
     },
     "execution_count": 7,
     "metadata": {},
     "output_type": "execute_result"
    }
   ],
   "source": [
    "negatedPositiveIsNegative = Forall(a, Less(Neg(a), zero), domain=Reals, conditions=[Greater(a, zero)])"
   ]
  },
  {
   "cell_type": "code",
   "execution_count": 8,
   "metadata": {},
   "outputs": [
    {
     "data": {
      "text/html": [
       "<strong id=\"negAsMultOne\"><a class=\"ProveItLink\" href=\"_proofs_/negAsMultOne.ipynb\">negAsMultOne</a>:</strong> <a class=\"ProveItLink\" href=\"__pv_it/b3f4dce071e1c49a953c14ae409cf8a10f15516d0/expr.ipynb\"><img src=\"data:image/png;base64,iVBORw0KGgoAAAANSUhEUgAAAOEAAAAUBAMAAACJwkfjAAAAMFBMVEX///8QEBCIiIhmZma6urrM\n",
       "zMxUVFQiIiJERETc3Nzu7u6qqqp2dnaYmJgyMjIAAAAcRTyBAAAAAXRSTlMAQObYZgAAAl1JREFU\n",
       "SMellk1o1EAUxx/bTdPNJquH3l0UehJaED1VKBTZo7n4cWsRpQhii1c9eCoJKt1DYQUV0xVUFtGK\n",
       "iKz0UHZv7WUPHlRoXdAeWmrpse3J95JJd2Yy06T44G2Sl9/b/+TNy0wAjrJCJ3LeitVMXBKjSBOP\n",
       "XbpY0yi+ZS7Y7WxcEsNIP6qu0vmWRnGTuWDv07mPgQrDiIUP+JSK8lAt6IxELppdTuGsO9OBCqNI\n",
       "C6BENxfVimY1ctGsk6ncr0CFUWQBx7bSaNQ0Ra0xl+xPKkeKSYwipTGAPc97oFE8wzy2+tD8WaxM\n",
       "O42LFNuqRBuLfwvA1yg+YR5XZdm5Z+LUr4eTshPaiIJjiuuqRAcP42EDca/N46kb7PQ+83jmA/sg\n",
       "j9P1RR6ZxDHFELOkxOIMTjnk4nfXWjrXsa4Hxja7Hozcih7HtWAgbOoJWVHimGKIfeiGsoeJxi4O\n",
       "oGPGmd+bDXCeAyyJ/9SzE+WjFKVnDDFzUkwkxUL3Kl60zg+5eZqUS58xpKvWhEu/FW4eJ/VVragS\n",
       "81hV8G8C5IK75liJoj9/aDunGAwjyLeEmkt0DpdInQOfUNaAvwCv6O7XZi+xLfb45cU5eIHHUVlR\n",
       "4gCGAwHjEvuWD2u8D3DN87zysyu9xIpYm9en6xepyTZkRYmDC6d+d3iMSyxReR0akLFrQD/d7auz\n",
       "ltavcjOZVsMkRpE38cVLu2uDTfqFUZeW2/9ZyXUYW8nZc39rrQA8otN3O7NuHPZBsSApdisVp92t\n",
       "eMvhPKbvyH62HdlXjWugCnDsrw4n21dHEqMIvnr/AEN200a0tELHAAAAAElFTkSuQmCC\n",
       "\" style=\"display:inline;vertical-align:middle;\" /></a><br>"
      ],
      "text/plain": [
       "negAsMultOne: forall_{x in Complexes} ((-x) = ((-1) * x))"
      ]
     },
     "execution_count": 8,
     "metadata": {},
     "output_type": "execute_result"
    }
   ],
   "source": [
    "negAsMultOne = Forall(x,Equals(Neg(x), Mult(Neg(one), x)), domain=Complexes)"
   ]
  },
  {
   "cell_type": "code",
   "execution_count": 9,
   "metadata": {},
   "outputs": [
    {
     "data": {
      "text/html": [
       "<strong id=\"distributeNegThroughBinarySum\"><a class=\"ProveItLink\" href=\"_proofs_/distributeNegThroughBinarySum.ipynb\">distributeNegThroughBinarySum</a>:</strong> <a class=\"ProveItLink\" href=\"__pv_it/9cc8aa376633c61606df7e29c0f1024303754f670/expr.ipynb\"><img src=\"data:image/png;base64,iVBORw0KGgoAAAANSUhEUgAAATAAAAAVBAMAAAAzw6/xAAAAMFBMVEX///8QEBCIiIhmZma6urrM\n",
       "zMxUVFQiIiJERETc3Nzu7u6qqqp2dnaYmJgyMjIAAAAcRTyBAAAAAXRSTlMAQObYZgAAA1JJREFU\n",
       "SMfFVktoE1EUPW2SpplkUheCnyLU1t/CRVEQkdYPIl0p2VgVwZZgEQUlChZ/ixBBklZhoKDiB0aL\n",
       "Iqk2oVK0Umiw1IVKCbjQFiyBWtEisYiCpgq+lzdJ5k6aaVIXHjiZmfty5p25774PUBJua6SRueBU\n",
       "BI1wxOfpIiNM8If3RfqS/II0kocHS9jPUY3GNrP364WveGC6SGNuRZBG8jHJ2KvRgM+mHeiE13l6\n",
       "/UUae6ORRnLo066zjK4aQQq53rQDndCtsku0SGNnNdJInjFrig/yIkEKu2L2fr1QfhkOXyvSl8Mn\n",
       "SCP5xlzp6AeNBOZdEeHPYPBCkcbK6wVpBF3DK1VizO2tY2MwDEGCOv1XNWxYbqhhvbANCM1hYk8i\n",
       "P1YZF6QR6zJ8pRmLTEu/gAkIwpVMI/1FV3TiHYp7hnZAhDshEQ/Oy0e8/G3ZzDx90a7VsD0qqCsZ\n",
       "9nQnjs3U2JCKb8ATCBKc1600K2AxzDoitKM8kwRpcGNc2q/avvCscgM9w42414FDMdFetl2wN52B\n",
       "KS2yTcUp3jqaTJ5MJj+yu62QfgMtECRYzHoRCfRYUrDzL848G4WuuD2jejcQhnwLGGT3VWz6yJ03\n",
       "VIzF4DQYy4E/LYX0g2ZsEtbZwsayWj8iHuMyphM6Es3spnvNFKx89Hb1sxBvqT3GRplV0EEmVkyG\n",
       "kn2jc4Ya+wOWDTRBMFNjrYahjMQwZLBNhaHDLJ2nbSm4edv4mPjPWrUuvV3JjxTz4pdmUZEYIMa+\n",
       "87rLFb8euuKPRHHCsJtS4WO2eFjqbT5087ZnWh8BTEg8g86enJZPCBdZLvhTAG9bY8TYcVxkvw0a\n",
       "CXTrR2WN3O6irVRYxSqwLFrein3BYLDm5t5MMWyynQkGA47+XB1YfYIgkfu1B7zbibHu9TytUxoJ\n",
       "mnSz0rv66iraSoUyWx0jSuW4WsHbLHeZhF1TqEa6KrYw32ppW5Lo1ydYypaULyxTWnbD5Ukvxx48\n",
       "d3TgnOzHCG/qGsntxfNt4mH9KC9kE88TWr19jUAnv32YvOSxVaP5NasCPgOl0U9t2bJQBHWFUjAD\n",
       "BY49oXmNzSEsZzWmLf/isi4YWMhBMesgVOJB0UwoMPDPR2tZESz5aF1IKBDH/8Zfa/Ai73rb1XEA\n",
       "AAAASUVORK5CYII=\n",
       "\" style=\"display:inline;vertical-align:middle;\" /></a><br>"
      ],
      "text/plain": [
       "distributeNegThroughBinarySum: forall_{a in Complexes, b in Complexes} ((-(a + b)) = (-a - b))"
      ]
     },
     "execution_count": 9,
     "metadata": {},
     "output_type": "execute_result"
    }
   ],
   "source": [
    "distributeNegThroughBinarySum = Forall((a, b), Equals(Neg(Add(a, b)), Add(Neg(a), Neg(b))),\n",
    "                                      domain=Complexes)"
   ]
  },
  {
   "cell_type": "code",
   "execution_count": 10,
   "metadata": {},
   "outputs": [
    {
     "data": {
      "text/html": [
       "<strong id=\"distributeNegThroughSubtract\"><a class=\"ProveItLink\" href=\"_proofs_/distributeNegThroughSubtract.ipynb\">distributeNegThroughSubtract</a>:</strong> <a class=\"ProveItLink\" href=\"__pv_it/56452175e3347249d29a22a3dca9adf6627718ee0/expr.ipynb\"><img src=\"data:image/png;base64,iVBORw0KGgoAAAANSUhEUgAAATAAAAAVBAMAAAAzw6/xAAAAMFBMVEX///8QEBCIiIhmZma6urrM\n",
       "zMxUVFQiIiJERETc3Nzu7u6qqqp2dnaYmJgyMjIAAAAcRTyBAAAAAXRSTlMAQObYZgAAA0xJREFU\n",
       "SMfFVktoE1EUPW2SpplkUheCn6LE1t/CRVEQkdYPIl0p2VgVwYZgEQUlCBZ/ixBBJq3CQEHFD4wW\n",
       "RVptglK0Umiw1IWKBFxoC5aAFrVILKKgqYLv5U2SuZNPE1144GRm7puTd+a++z5ARbiuk0YKwakK\n",
       "muGIz9FFRpjgD2/L9CUFBWkkD3cWsJ9DOs1tpf7fKHzOA9NlGnOrgjSSj3eMAzpN+FSyA4PwMk9v\n",
       "sExjr3TSSD5mGV0eQQq5qeDwefKFbo1domUaO6mTRvJgTfFBnidIYVdLGTMK5Wd9fZfK9OUICNJI\n",
       "Plzp6HudBIW7yhgjwh+KcqZMY9VNgjSCntFlGi1FfyMbg1EIEjQav6p57WJqjAg7gHABEzsT+bHa\n",
       "uCCNWBfhC30vMi39BCYhCFcyjfQXXTC8tlV1z1BjRLgNEvHgPH/Qz/8tm5lHTzt1nT0qaCgZ9nQj\n",
       "jg3U2IiGr8BDCBKcNqw0S2AJUmNEaEd1JgnS8Lq4tEezfeZZ5Qb6R1twqwv7Y6K9aovgQDoDU3pk\n",
       "s4ZjvDUX3QTpF9AOQYL5rBeRQK8lBbtHJPTD0mTSZxa64vaM6s1QH+RrwDC7r2PTR+6+omE8BqfJ\n",
       "WA78aSGk7+bVyDpb3FhWG0TESzNGhI5EG7vpXTkFKx+97YMsxFsaDrNRZhW0j4nVEkPJvtE5Q3v/\n",
       "DZYNtEIwU2M+01BGYhgxzUoqDB9g6T1uS8HN2ybGxTurtMb0diXfU0sXvzSLmsQQMfaN112u+I0w\n",
       "FH8kiqP6bpoxRoUP2OJhabIF0MvbHut9hDAp8Qw6+3PG+IRwkeWCP4Xw2hcjvR/BWfbbrJPAsH7U\n",
       "euROF80YFdaxaFW02ofdiqJ4ru7KFMN62wlFCTkGvbkVPSAIErndsNdPCg+9a3hap3QStBpmpX/F\n",
       "xeXUGBXKbHWMqLUTWg1vs9xkEnZNoR7pqtjIRFplW5LoNyBYyZaUL6xS23fA5U0vx148cXThlBzE\n",
       "GG/qGcvtxeVu4qhwE5e0YkKr/34L0M1v7ybPeW31aHvBqoDPQOnlx45sWaiChkJRixkrcuwJz7nx\n",
       "FRBWsxrTcysuq5XQ3xwUsw7CFR4USwkFhv75aC2rghUfrYsJBeL43/gDtmocMvkmmEcAAAAASUVO\n",
       "RK5CYII=\n",
       "\" style=\"display:inline;vertical-align:middle;\" /></a><br>"
      ],
      "text/plain": [
       "distributeNegThroughSubtract: forall_{a in Complexes, b in Complexes} ((-(a - b)) = (-a + b))"
      ]
     },
     "execution_count": 10,
     "metadata": {},
     "output_type": "execute_result"
    }
   ],
   "source": [
    "distributeNegThroughSubtract = Forall((a, b), Equals(Neg(subtract(a, b)), Add(Neg(a), b)),\n",
    "                                      domain=Complexes)"
   ]
  },
  {
   "cell_type": "code",
   "execution_count": 11,
   "metadata": {},
   "outputs": [
    {
     "data": {
      "text/html": [
       "<strong id=\"distributeNegThroughSum\"><a class=\"ProveItLink\" href=\"_proofs_/distributeNegThroughSum.ipynb\">distributeNegThroughSum</a>:</strong> <a class=\"ProveItLink\" href=\"__pv_it/215beb8c85e33e50acc16dd64949b3a3c6d03f750/expr.ipynb\"><img src=\"data:image/png;base64,iVBORw0KGgoAAAANSUhEUgAAAlYAAAAWBAMAAADwTM9pAAAAMFBMVEX///8QEBCIiIhmZma6urrM\n",
       "zMxUVFQiIiJERETc3Nzu7u6qqqp2dnaYmJgyMjIAAAAcRTyBAAAAAXRSTlMAQObYZgAABSVJREFU\n",
       "WMPlWF2IG1UUPpud2Ukmk60P9aGCEnehSqkaWKQgXUgtWMQHpyuIYNGw2If6UKJdilpZF5+yleJg\n",
       "hZZC6bjgWra2hpXQViyEbOrDFmtgV8pCW/Jg1QqGUFFsBfH+TebOnTt/G5/0g5PM3DnnO3e+uf8A\n",
       "kUh1TFgfTjLrIdOCPpC1qInArFLmi/G55TW7yGW9OQVtXHYjjMYoRvtIoc9Qc3Ea+sI+ZgJOBzEP\n",
       "WbGp5TUjBE7WJlzBZb+EaxXtI8WwRc3F7f60OsdMwO0gZr0dm1peM0LgZG3CcdwAZ8K1ivaRYoVZ\n",
       "D7mCv1/lgzqc5IGRp+YFZpUwYzSisiwG16xH4GRtwrCNrqrhWkX7SPE2sx40qz+t9PuoeYFZNXlv\n",
       "+ySuVgHxhMDJ2oTc8sLCMQjXKtpHOlyWqbk4Bv1pBT8wA5E1oHbDxZhaBb0dIWBZmwB/VirvRmgV\n",
       "7SOdPwvUXIzirzSy7+lGAq08/kvMQGQd5e7nNn+8lQUbhZhaBcRTApYVabUXYFbCUue1CvAJR7pF\n",
       "zcURZJ/Dtfx0Aq08/jeZgdEhKDisR7iOWs+9qbFBPdeOqVVAPCVgWZFWO+XTRYHXameSKaU3jlSp\n",
       "uTiEbBm+s58FeCmuVsyf4jwzEFkPcd3ANu4pFqh4LsqWY2rlj2eBZTcr0kqDFP/x1QNNeLgkaCX4\n",
       "hOHCNwdZxQaK1M6RJnALlWxEZkMF/b6wjbWOnx7qdEr+bu8+oP4MrzLzYCM1nTY1U4c0kkkdw2+p\n",
       "dsOyXO103uh0fgRZvKNG182KtDJaWu/RmaVxuGDYg7agFe8TDBz96WF4pe7VyvtWAHfwz674Y/ud\n",
       "eFq52IBDlZ5WcdqVP16qVab9Ym+l8sEJGy7lCwYsjR0Yq7pacT7BINFrdcjWw/ogqL8n04r6U+xy\n",
       "Itl4VZL0QfRepqOVso4+yOIpCAHLirSC2dfQe45PjOKhC6FW+8gQxyviA40nN/t3hm4hjlZeRjdW\n",
       "2Nj+VaoLWxJoRf1Xvh8p8GO7yMqNzVn7CUjZ9C3XM7bTeCqIOLbDl4g1t6M1YNG9Yc04u8enFfZJ\n",
       "2fu1IrwuLAxIIQGOzp11F3V4vjU8awY08Sp/pbt4nypq9QWK1v9mF9wD5r/6IGxCd9uZgcDKLySe\n",
       "r36IN+xEq8F6RJZFjsMTTwWhBCxrk3XPE4/ABlsnL1aD+pJPK+yjwq8Aex7wVpQU0rkWR2TPWJ72\n",
       "q3jWokggfXLL6A1JH9RwdzroXLgPqH9mrgz30N0tZiCw9ugQ5kfmxlss87AZkWWR4/DEE0EYAcuK\n",
       "tcqhMpiEHaC+Vam8j7Q6qfm0Ij5wF9k7YlXvOqrh6EzNjLfHSTC2kw1/XsE7jTK1OHscotVn69/j\n",
       "YEEogZO16Ty6H7arUKLtSplAf6ZHKzYpqH6tcOHKpevoikQ/lcfTfPTe2dFKt4MOdDwPBszBuplo\n",
       "70y0akRlWQjcOxNBhL0z27t1YaoGl/HlKsB1cY9DcMpoG0Sr43bmsPNDChdncEsk0Ucvu2+Ttqi5\n",
       "cBf/55Ota0+B9pwZdCYzC5JtBV5FJlhAi/FUEOFMhn2FEmxtQRrN8Mp0EYakWs2vNpaJVrur6ibY\n",
       "beGfKikcMvEyHEeDfvXnvTHO+o6+N5lIq2cg9W2AKPKzvsy2P/LCh0p01scEsbhP0fR6PIrGK/8e\n",
       "eJpfKeA+6C6a6JUGjxVl0f/yGXLOohb7DHmt3zPkNS7r41NJ6zvxW5U782ZX8/B1XyL8h5GTXP0f\n",
       "8A9BetUBCViu1AAAAABJRU5ErkJggg==\n",
       "\" style=\"display:inline;vertical-align:middle;\" /></a><br>"
      ],
      "text/plain": [
       "distributeNegThroughSum: forall_{n in NaturalsPos} [forall_{x_{1}, ..x_{_a}.., x_{n} in Complexes} ((-(x_{1} + ..x_{_a}.. + x_{n})) = ((-x_{1}) + ..(-x_{k}).. + (-x_{n})))]"
      ]
     },
     "execution_count": 11,
     "metadata": {},
     "output_type": "execute_result"
    }
   ],
   "source": [
    "distributeNegThroughSum = Forall(n, Forall(x_1_to_n, Equals(Neg(Add(x_1_to_n)),\n",
    "                                                        Add(ExprRange(k, Neg(IndexedVar(x, k)), one, n))),\n",
    "                                           domain=Complexes), \n",
    "                                 domain=NaturalsPos)"
   ]
  },
  {
   "cell_type": "code",
   "execution_count": 12,
   "metadata": {},
   "outputs": [
    {
     "data": {
      "text/html": [
       "<strong id=\"negNotEqZero\"><a class=\"ProveItLink\" href=\"_proofs_/negNotEqZero.ipynb\">negNotEqZero</a>:</strong> <a class=\"ProveItLink\" href=\"__pv_it/a143fc987f86d2ea88a3c7ef6f9095df339cae0d0/expr.ipynb\"><img src=\"data:image/png;base64,iVBORw0KGgoAAAANSUhEUgAAAMUAAAAWCAMAAABHTKhDAAAAPFBMVEX///8kJCQoKCgUFBQNDQ0Q\n",
       "EBCIiIhmZma6urrMzMxUVFQiIiJERETc3Nzu7u6qqqp2dnaYmJgyMjIAAAChkoCbAAAAAXRSTlMA\n",
       "QObYZgAAArJJREFUWMPNV4lyozAMzXaLb8vX//9rfYOMIbAtndVM40n6ZPR083r9nmiHzwMx+uAf\n",
       "Fg7Rvn937lkSoPB5KGJOQ3tEiTjLO9qa9ruHZ1l4jc9jun5Ojm0vi2aD1A2tm2e0epaEo/g8EUtm\n",
       "odja55aM8x3dQrAG5RmRGp9nwVhmoeCbL0rkmgjQ0M5CEi0fLm2Jz/PkY+eheIXMggXT0UElkfZZ\n",
       "FoTic28mtZQsJTHsHqS2oYBACwvS0SVUSl82iJ1mQzbVktEpyuFzd+kSDfChpv1a39Zn+fhMn42c\n",
       "Dvl6XlhkNKPHfaG0ZGWFFGvFnbUBynOSRiUxlIXB564UEjtarzbyNBSRBS0s7IpOH2TnIjCW0vgr\n",
       "cBX9y729wkJn22VOVNy4F4ZO8BuJFtIMl9VVPAz3cuwTnFEFbV1hghujMhrSzU4XwpdYqNw0QnLc\n",
       "Ys5YjLKorjhjMeZ7qD3KrOg4FBtXoEQk15Q0y3y5KVfrKYuuUMA1XRNWuhsZBTk3TDOeSVwXf5YS\n",
       "tB4RlW1wJd4VrXSdiyB5tAG2i4kDN9b9hkVXELnRfcY/V2+Q5EZ1Q/aq8HUtcn4+9qdTr6ENrdxp\n",
       "jACX2cW9tMGcsOgKpYua1xqLBbNozdPOO62KaCfFq+QtxR2O7XVSSGHhCB3qE1MukxQ2LrNv493a\n",
       "cH7MoiugdS+nd8AF0JKEzaceCEK4FqQoefzIyYYHlpA2zRvaQX28TiFPRb32BApkHQQDi1VBxKz9\n",
       "+5Fy18171K0NBDM19A46ulbHdGApcy3fzFSONzQ1U2hdts3ncV58Yxt8s2zvdkcmiCE0G6XMGjzv\n",
       "1XYXU1OF0mUrDTvbIfS8a77bzI39lz2+WVLqYlaJ8wn/bhG7/JY00HwTihur0wUW/qfeWMfOzm6h\n",
       "v8fCPfx68uNC/zuLvgAHNSKy7PYEKwAAAABJRU5ErkJggg==\n",
       "\" style=\"display:inline;vertical-align:middle;\" /></a><br>"
      ],
      "text/plain": [
       "negNotEqZero: forall_{a in Complexes | a != 0} ((-a) != 0)"
      ]
     },
     "execution_count": 12,
     "metadata": {},
     "output_type": "execute_result"
    }
   ],
   "source": [
    "negNotEqZero = Forall(a, NotEquals(Neg(a), zero), domain=Complexes, conditions=[NotEquals(a, zero)])"
   ]
  },
  {
   "cell_type": "code",
   "execution_count": 13,
   "metadata": {},
   "outputs": [
    {
     "data": {
      "text/html": [
       "<strong id=\"multNegOneLeft\"><a class=\"ProveItLink\" href=\"_proofs_/multNegOneLeft.ipynb\">multNegOneLeft</a>:</strong> <a class=\"ProveItLink\" href=\"__pv_it/246720a963f7aa9b3059f159d6d5fd8b072f87fe0/expr.ipynb\"><img src=\"data:image/png;base64,iVBORw0KGgoAAAANSUhEUgAAAOEAAAAUBAMAAACJwkfjAAAAMFBMVEX///8QEBCIiIhmZma6urrM\n",
       "zMxUVFQiIiJERETc3Nzu7u6qqqp2dnaYmJgyMjIAAAAcRTyBAAAAAXRSTlMAQObYZgAAApRJREFU\n",
       "SMedVk1o1EAUfm6zTTZNVg/eDS30UIQuiJ5WKBUpnszFn9tKUaQgungTRXqSLCrmUKigYlxBZZFa\n",
       "EZGVHkp7W0EXFLSCGqgrKLosgqD24vxlZzLT6Y8PvpD3Zd58yZs3bwKwluWaHIL1hfJAlQG4Jfl1\n",
       "hhg7HzSKDwSINqGMVBl7UiJ6Q4oX2PmmUfwqILHHEcCMMlJl8vJn2zHFdZy8ydUF3QJHEnbqDFJ0\n",
       "PHmoyrxWplugyOMJZldXNEOOrn1CAfY2JYcKc06Z7g6F26jVpjVJnRaQUoTPyliZyZXVPI9Q/A6C\n",
       "CxrFAQFpxUXuVwendnophlimICSgf2IUpdMpUJwAqGgUrwpIK37ks827Z82YMS/b2JbxrSVsqIfw\n",
       "1ruI0hlT7CMFJGytKyfH2e15AWnFZ0SMlEzk/DVCxog1INRGA15FB9DMZQoTMsnr2HO7mvbRKPud\n",
       "+ds5bPL2bZ8plvDjRzGRtUillyTFLWjBZkhMCyIIMJXtUDhNMxn1rl4D9ybAnKoofSOZ3zxGiK2e\n",
       "TpHbT1ExFx/G+2T3oG/gxd7/FFHrZnVMIEo+JAxdxy9yViH7C1+NMgVUjqPKik6bI3lMv1/aXOX0\n",
       "RcMoWmSoiZXzPNOBIV458ATJZuEHwF3ytM5HLgro2jBWLHbdg7PXSM8uyk2I7w5jxergs6BnnoKt\n",
       "wx+AI0EQeDcO8agxAYnt2bGMgltd/15/dS/+nJakaPAOYI8PDeCzIu9TgBuRVc1CL37cU2Vlr+ty\n",
       "ZA6loaiM2uXuMxC77cQOOFg/V/RJy9V0cl3f3kQnZ7l5s9AAuEwaRPuSn9AVAWufTSpj6U6rVC9E\n",
       "67ihE1lti5X1T2T8ClYI8D9/Ha4S527gr2OJ4h/VxNpdSPE3uwAAAABJRU5ErkJggg==\n",
       "\" style=\"display:inline;vertical-align:middle;\" /></a><br>"
      ],
      "text/plain": [
       "multNegOneLeft: forall_{x in Complexes} (((-1) * x) = (-x))"
      ]
     },
     "execution_count": 13,
     "metadata": {},
     "output_type": "execute_result"
    }
   ],
   "source": [
    "multNegOneLeft = Forall(x, Equals(Mult(Neg(one), x), Neg(x)), domain=Complexes)"
   ]
  },
  {
   "cell_type": "code",
   "execution_count": 14,
   "metadata": {},
   "outputs": [
    {
     "data": {
      "text/html": [
       "<strong id=\"multNegOneRight\"><a class=\"ProveItLink\" href=\"_proofs_/multNegOneRight.ipynb\">multNegOneRight</a>:</strong> <a class=\"ProveItLink\" href=\"__pv_it/b0268837770ee9eb0ecaf5cdf43abf052e3cc6d60/expr.ipynb\"><img src=\"data:image/png;base64,iVBORw0KGgoAAAANSUhEUgAAAOEAAAAUBAMAAACJwkfjAAAAMFBMVEX///8QEBCIiIhmZma6urrM\n",
       "zMxUVFQiIiJERETc3Nzu7u6qqqp2dnaYmJgyMjIAAAAcRTyBAAAAAXRSTlMAQObYZgAAAqVJREFU\n",
       "SMelVk1oE0EUfqbZ7mazGz148hRa6KEIFsRbC0GR4slc/LmpRZFepHgTRXqSDVbMQaig4jZCK0Fq\n",
       "QEQiPZQUPETQgIJWUBa0gqIlCIJWEOfNm3RnJrtJig++YWf22/lm3nvzZgE6WapBUO2O2q0ypIvt\n",
       "H2s0zkME2Hkfo3hfQDF7Wu33o9okdKNxHuI5dr7GKH4RUCwj7Se9i02Ni16ETjRaQkC4ic6bjhZ0\n",
       "RwiqvQof559tsLbG4GQ70ITVCBmf0SvRimaRoNoFeU2oOIcb2NGJRjZHcOvl8myMU2cF1Gya0hUz\n",
       "OdZ86kQTfs4RfnnepRjFQYHS0I3dm15LjOiKDo6saN/KNHtgcn+NeIgzAIUYxWsEe9k9bwatQauh\n",
       "K7r47gN2X6yjfdRpD+BN9jLxEAco2cL0mzk7IR4vEhzf2UhiOG0e3IqumEYHPtFzQKLV4aV/iHgI\n",
       "ExKt5dhLexv2cd/4Jvo7CTZYlMwPcWnbWCQW+V7WhKLRZM0JTVGm+eCB4CGchtliva2Wwb0NsKQq\n",
       "AmynKJonxVTqHmMVQ/shK6aCo3hO9g3lkxjsg4/ZkOpVNl0+2l2kmESvjodx/NxGM36C4HFu4TTL\n",
       "LP+cmcvg8LvVtsxJ+3sYoZfMkUymPU00YTjMHHjEZA34DnCPv62GzBXC4cp1qSw78ulIoGLfMmtG\n",
       "NUWJlvxjNfE+QB7nUpB+AxzzPC9760j41ThhfqA0Fq44KR3tvlN/x9ipRp+vaYoSzZ4YHsS7Anmc\n",
       "6/o8qgb080lK4hT0VOW4LeCsU92r3IIAt7tO4ICD+qnRPC+5PVXysEJvoZKLS+B1rQ5wlReI9Sub\n",
       "mVmAiIJkFdtvoYjbyoq7rZRayOK49RuZT13ofiMjzyoC/P9fBx4nt4e/jlXCP6AX2fQbmGx8AAAA\n",
       "AElFTkSuQmCC\n",
       "\" style=\"display:inline;vertical-align:middle;\" /></a><br>"
      ],
      "text/plain": [
       "multNegOneRight: forall_{x in Complexes} ((x * (-1)) = (-x))"
      ]
     },
     "execution_count": 14,
     "metadata": {},
     "output_type": "execute_result"
    }
   ],
   "source": [
    "multNegOneRight = Forall(x, Equals(Mult(x, Neg(one)), Neg(x)), domain=Complexes)"
   ]
  },
  {
   "cell_type": "code",
   "execution_count": 15,
   "metadata": {},
   "outputs": [
    {
     "data": {
      "text/html": [
       "<strong id=\"negTimesPos\"><a class=\"ProveItLink\" href=\"_proofs_/negTimesPos.ipynb\">negTimesPos</a>:</strong> <a class=\"ProveItLink\" href=\"__pv_it/dd8503cef700b96cc6f14d9abd222ff52ad8dd930/expr.ipynb\"><img src=\"data:image/png;base64,iVBORw0KGgoAAAANSUhEUgAAATMAAAAVBAMAAADY9BTyAAAAMFBMVEX///8QEBCIiIhmZma6urrM\n",
       "zMxUVFQiIiJERETc3Nzu7u6qqqp2dnaYmJgyMjIAAAAcRTyBAAAAAXRSTlMAQObYZgAAA1VJREFU\n",
       "SMfFVk1oE0EYfU033WSbpEU86WVtoIcitCj1VGusSPEg2Ys/t4agSEFK8CBoVYKHkvobQahQxbWK\n",
       "P6XYgoik9BDSWxUMKGgFZQ96ULQEUbAVxZnN7s7MsjEbLz54m+5jv5nX+b5vZoDGEC4z8mjNo44A\n",
       "d9ANr/ELHA0qvPVt7T5HAcN1BVeQkvUavyXP+JQKn3xb+8hRwMO6gisolvcaXzEYr9GFzvp1Fu1h\n",
       "FBFR6wmuoBfeM5QYYzoZZc6vNTnP6Pp32+sJrqAT3jPcYowuTU9P+M7nBEcX3tcVhKBwxnuGWILx\n",
       "Ry53yre1OEcbU51XN5PkLTJhC8IbeIELdhAg2VU6hgdKzirHVVzRESG6zcPAuG9rFznaQxajx2RS\n",
       "tO8cpbgTgYolRFZM9EAMAkJkI5nBK/WMU5tSO7pJFg3GXWY3cBvShSNp1xbFlFGO9pB6ZE0iVfTE\n",
       "9ElTNdePUNYSeIwKhUfqewnP9T30hdQ7JpsN5MhkGUYZAXsnVBa2lpWDevAzWxKXsp5Rqa6Hppg+\n",
       "gCH6mKV9j3VoUy2BBxcENCWoo1x1lt/UXpOKr0Cwwhgpy3bs68I0oteBBdRSOGsMbapjTU6Rh7SG\n",
       "Ic3bGgO1BuqF4jh9JPXgd9Fa2NhPt5HeTk2iFbH7MZHI70AKJyEoNRIK0wcw6LyTzGyyBavWUp4J\n",
       "BfXioB8Bst9IGUaMHyL9oo/IiRj94M2yVctrwXYISo02aNW7STjfBqEUxsALXLDQBvOkW7ocZYwG\n",
       "Cm2AR8RfEF+A2/SD+UJ127mTCWQFxcQiRwvJucvmSd3HVi0l/RIELph1Tw+kn6EKd+JvQ5K8NBcZ\n",
       "rVJZBQ7kcjl1cp81frFFFRU7a4NC9nC3Y2o7Hf8D6510fFUQuGAHJGFKuiv+lh9oB2n0mMaIKG3d\n",
       "YCWIFtPSVHULkBNNmqjUOaj43b3ZcAn+Dqp+wnscTdyMGBFEqNFwn4ZS+BxkLQlOaeR4H8FsovHj\n",
       "vcVQvonHu7WYL0tLwHn658zKmBbcCCl9CZxifzjOsdYd6DTOel+KhKCQa+HlckgVL0XCuUYqy2o7\n",
       "PDAbiin1rpLctANxDZ6n31+vklJHr2XYpjcKOCoZjVzAo+6hov92AV/m6I0y9j7Df8YfO2kjQRAE\n",
       "+aAAAAAASUVORK5CYII=\n",
       "\" style=\"display:inline;vertical-align:middle;\" /></a><br>"
      ],
      "text/plain": [
       "negTimesPos: forall_{x in Complexes, y in Complexes} (((-x) * y) = (-(x * y)))"
      ]
     },
     "execution_count": 15,
     "metadata": {},
     "output_type": "execute_result"
    }
   ],
   "source": [
    "negTimesPos = Forall([x, y], Equals(Mult(Neg(x), y), Neg(Mult(x, y))), domain=Complexes)"
   ]
  },
  {
   "cell_type": "code",
   "execution_count": 16,
   "metadata": {},
   "outputs": [
    {
     "data": {
      "text/html": [
       "<strong id=\"posTimesNeg\"><a class=\"ProveItLink\" href=\"_proofs_/posTimesNeg.ipynb\">posTimesNeg</a>:</strong> <a class=\"ProveItLink\" href=\"__pv_it/9d355a0868b00a2ee70a643caa27b2e4ccdfb94b0/expr.ipynb\"><img src=\"data:image/png;base64,iVBORw0KGgoAAAANSUhEUgAAATMAAAAVBAMAAADY9BTyAAAAMFBMVEX///8QEBCIiIhmZma6urrM\n",
       "zMxUVFQiIiJERETc3Nzu7u6qqqp2dnaYmJgyMjIAAAAcRTyBAAAAAXRSTlMAQObYZgAAA2ZJREFU\n",
       "SMfFVk1oE0EU/ppu/rabWMSTXmICPRShRamnWmtFigfpXvy5NRRFClKCB0GrUjyUxN8KQoUqrlWq\n",
       "llILIpLSQ4i3KhhQ0ArKHuxB0RKKglYUZ3ZmMzP5qWsvfvBls4/5Zt7Oe2/eAP+GcIFRxU31tWGE\n",
       "sZq4poghK9GmhneeXbvPqUAfKjP0c1YR1xY5CIwIPqOGT55d+8ipIFq+Q9OcVcS1RcxhW/A63egh\n",
       "r55FWhlVvCw3GDHGSvEqIoa8YNQis8x4dS04wqjiZMW3NzJWilcRMdwWjMxPTo56jucop5rdqYpx\n",
       "HzgrxKuJWJw7Bb+n06c9u5bgHG+6tqUUMJ8UqPGtCG8EnoKxQgxZpMf7u/KlnU7EcNWCQewujwAZ\n",
       "z65dYtRzkeNB2zWGpDMhtwu+IvAejDCWHLS6YsiiKbyOnS3lp9aIFhJFW3C3Uw3SoXTxaF/ZMSUs\n",
       "g4yGZaxoNHMsJ4dEqoZnOhAiRfUEjAoGlcQjonm8sPaCTzNWbyNNFksJBuFzv1qf21bQD1n+zyKf\n",
       "yywbGHVnffL8TX/rSFpMO5uzqGM91pFI94JRARWyTTSZyKK+uNNYdTEsA/6ioFEIuto32UlEbgBz\n",
       "qGXhrsFZn+CE65oLbQW9Zm3XBJhoGWKaHsv/TXUtbB+gx0hbk6nRjNjzmJjIsyuJU1AsUkDhrC/H\n",
       "xgWJymby6OZ0cy1ZNaCgvpTQAR85b7SUIDKHSb1YA8HOKB3wdoHn84q/EYpFKoMGq4VIqpVBKIlh\n",
       "SGVQXkNKGcySimkuWYapWCkDPCL++fEFuEMHzGZZPt9N+YYUiwN+KPTMXJG6syEdHvVJ7Rd5tHMq\n",
       "UE4TItJ+hopSx9+OHvJSnxPkafMDOJhOp2Nj+/kauUBMtUAEaiI+vkPMqUmnp96XIDNhkVNBt/xC\n",
       "RHpfc0K6WEzEd5Kij5qCiNDI+It+BByXxmkBklzorDNVi8dGVU+bc4rxHxtVB+E9iQ5uGbYBgzoa\n",
       "bjeRD59H0OyBZPHa3gfwsHNt7T1g61/V9s4381V+HrhA/04tDZv+TdD6LkOyuAMzqNI8QmI7zuBc\n",
       "7UtRpoaI7WkhFFMvRUpfI5nFGwAeOAUlLB6vkl0Js9YH/OUqqcXbuMMuqyOLY5q95gt4ZIRxDRfw\n",
       "BYnVUcC+5/jP+AONTySppx8qGgAAAABJRU5ErkJggg==\n",
       "\" style=\"display:inline;vertical-align:middle;\" /></a><br>"
      ],
      "text/plain": [
       "posTimesNeg: forall_{x in Complexes, y in Complexes} ((x * (-y)) = (-(x * y)))"
      ]
     },
     "execution_count": 16,
     "metadata": {},
     "output_type": "execute_result"
    }
   ],
   "source": [
    "posTimesNeg = Forall([x, y], Equals(Mult(x, Neg(y)), Neg(Mult(x, y))), domain=Complexes)"
   ]
  },
  {
   "cell_type": "code",
   "execution_count": 17,
   "metadata": {},
   "outputs": [
    {
     "data": {
      "text/html": [
       "<strong id=\"negTimesNeg\"><a class=\"ProveItLink\" href=\"_proofs_/negTimesNeg.ipynb\">negTimesNeg</a>:</strong> <a class=\"ProveItLink\" href=\"__pv_it/52cdf92ccf6ddcf766ebb247f2a281c4b7d1ec8e0/expr.ipynb\"><img src=\"data:image/png;base64,iVBORw0KGgoAAAANSUhEUgAAATAAAAAVBAMAAAAzw6/xAAAAMFBMVEX///8QEBCIiIhmZma6urrM\n",
       "zMxUVFQiIiJERETc3Nzu7u6qqqp2dnaYmJgyMjIAAAAcRTyBAAAAAXRSTlMAQObYZgAAA4hJREFU\n",
       "SMfFlk1oE0EUx1/TpJtsdtMinvQSDRQPgkXxIq3EivQk3YsfINhQLFIQCR6KWoXQQ9m0VgMKih8Y\n",
       "q9baag1IqZUeQkI9VJGAHqyg5NCCFS092oLizLzZ7OxH6vbkgyHZ/f/e2zczbz4ANmb3eAuVrO/D\n",
       "GTtlE60Amj0Is2nuUKYPX7zmJaewwahd6bZRDrHbGW3U7RN1GYTf0ofvXhOLZLDBkl2ZsFEOccIZ\n",
       "bcm172WEb9EhTXlN7ANvapNdUaJWyiGKAJozCLMCOkSy5CfnNbELvEmOipEbrJRDFAE0KeP6jQfo\n",
       "oM6Njd30mlcoiQ1cPBYslIu4YH9Z5bOROMK/dP2S18R8TdggJrwcbryxk0xT0UJVxN0Q2oJi0R4t\n",
       "ZjqLsNKEcBdA2mtiwRI2GBKmKa+ek0jBfrVQhuUPgG8FRQYoy8xY6kOmswirZYQP4jowN50rpzut\n",
       "6bx608M7JeWwQa9Q2FllzU+qZYo+ZA3KmNXcfgimUJyyd7PXdGaOHA4nEZbAZ/RQntlTko9nAz8q\n",
       "vuPFFng8ACfz+FgTxwabCYx912T2ZYAOGuCPQU0wcVGGTVAfRbHDnhgNwp2ZI4cDKwgrJckgP02P\n",
       "gXoXYKayoAdvZ2E+D2GXxEyrjxqJQY9BGeZfgw6temKGMzoibCQWKh+lm8feRs1PZ/7QJHlFflsT\n",
       "cJFMM6FPkMCZ6lMJ7MsAbeY2IOw+tWXYxsU2ocYSYARBZxH2JzmcPkUWUvasFI9Q8fM8L8S1QAM7\n",
       "r9TnmXWLP5zdRdyrFX8wAf0gFL9oQ6azCBvFDy9JhgH4CfCQiq+nsWofJX0pmQ5heNxMjK5kYzUb\n",
       "1p67xg7tZgtVGYSE/zcXm+2JFU1nEa7NcxhneRXgmK7r0TtHOJSviwbO63pfaNIcbDrKlZHmNrJ9\n",
       "uIUO0aKFqmwmnbFVLi7aE2sznUU4onFYpUMZWAlAHUtomC4PUijxGg1YKeyL8m1g/SMpWeVIIoXD\n",
       "RDnp4Uii8BMx2n2lrIBCUw01a1AIDYCktQPMUu36rHkAb/gQPwsv4p4PcYQLYrSRj4U5gEH699ly\n",
       "vxbYCv7Oq6Qa6fqS33/rqpRnBpvzsBBvNUFzKC5DX/Vrjz0Ig41rj+UoJDXGlxo8ZStvh97n8aKY\n",
       "dr8otsY0Lqb/fVFksHu/zfvtGX95I1drdb2rNRVVr1freXCH0Upw+B38V/sLVx4grfMmImIAAAAA\n",
       "SUVORK5CYII=\n",
       "\" style=\"display:inline;vertical-align:middle;\" /></a><br>"
      ],
      "text/plain": [
       "negTimesNeg: forall_{x in Complexes, y in Complexes} (((-x) * (-y)) = (x * y))"
      ]
     },
     "execution_count": 17,
     "metadata": {},
     "output_type": "execute_result"
    }
   ],
   "source": [
    "negTimesNeg = Forall([x, y], Equals(Mult(Neg(x), Neg(y)), Mult(x, y)), domain=Complexes)"
   ]
  },
  {
   "cell_type": "code",
   "execution_count": 18,
   "metadata": {},
   "outputs": [
    {
     "data": {
      "text/html": [
       "<strong id=\"doubleNegation\"><a class=\"ProveItLink\" href=\"_proofs_/doubleNegation.ipynb\">doubleNegation</a>:</strong> <a class=\"ProveItLink\" href=\"__pv_it/70391f7fe525da3d14335e27abccb2e197d5b9af0/expr.ipynb\"><img src=\"data:image/png;base64,iVBORw0KGgoAAAANSUhEUgAAALwAAAAUBAMAAADFKEobAAAAMFBMVEX///8QEBCIiIhmZma6urrM\n",
       "zMxUVFQiIiJERETc3Nzu7u6qqqp2dnaYmJgyMjIAAAAcRTyBAAAAAXRSTlMAQObYZgAAAfJJREFU\n",
       "OMutlc9LG0EcxR/RdM1mVz34BwSFnASF0lsKhVI8mos/booopRcJvbaHnsoubWkOBYUqLhFEgkhA\n",
       "RCIeJN7iJQcPtqDkYA8trXhUT53JfLc733S2GOqDDzvz3u6w35nZWeBfSjUU3NGVLipMkn5TNs5i\n",
       "ht8kuMP0gjBJ+Mfy+iMm/05wh2mbMEn4y7LiN+bYHVVwh8vJKEwSfm8gLhVzbBUV3OGy+xUmCd+t\n",
       "l8tLMcUtEdxp0wVhkvCvPe91TDpEcCdUKftpWMzKERRMUbYA+DHDfyC4E1Z+6L60xL47hwLOZUuj\n",
       "PHsKu8l26/vnc9R8RUTSek7g3HaLpdiDgq1plFlIhJ+KffCwYU8HyZ/UH1DY6rXyvGejp7XhZgi2\n",
       "plHmNKzQPa2W4a4AB3x4TazXl4kbXstSzUnRqD3K5rvltD3bFdZdJkc8LOvBGBHO/Wxb5s8DiWDR\n",
       "etIrna9f7ri06WBEPKYtLczZTgFI4hewLpP9anTX33tO641XPmJVXHOELj1T03QDTHmel/k8Ed31\n",
       "p27mkDYGS4/lnvhG6NIzV1SB5FUSD2TSVZIL38GhUFAYD4XQX3OaDhy5HKlcHrX7O9KompNaHXgn\n",
       "m1uXb/Nh7qP9k/Y7PJB1JcTcd/o78RF/qPjAf/4M3aLC+Lso4jcsyqZMfWs8egAAAABJRU5ErkJg\n",
       "gg==\n",
       "\" style=\"display:inline;vertical-align:middle;\" /></a><br>"
      ],
      "text/plain": [
       "doubleNegation: forall_{x in Complexes} ((-(-x)) = x)"
      ]
     },
     "execution_count": 18,
     "metadata": {},
     "output_type": "execute_result"
    }
   ],
   "source": [
    "doubleNegation = Forall(x, Equals(Neg(Neg(x)), x), domain=Complexes)"
   ]
  },
  {
   "cell_type": "code",
   "execution_count": 19,
   "metadata": {},
   "outputs": [
    {
     "name": "stdout",
     "output_type": "stream",
     "text": [
      "Theorems may be imported from autogenerated _theorems_.py\n"
     ]
    }
   ],
   "source": [
    "%end theorems"
   ]
  },
  {
   "cell_type": "code",
   "execution_count": null,
   "metadata": {},
   "outputs": [],
   "source": []
  }
 ],
 "metadata": {
  "kernelspec": {
   "display_name": "Python 3",
   "language": "python",
   "name": "python3"
  }
 },
 "nbformat": 4,
 "nbformat_minor": 0
}
