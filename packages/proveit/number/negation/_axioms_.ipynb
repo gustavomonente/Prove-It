{
 "cells": [
  {
   "cell_type": "markdown",
   "metadata": {},
   "source": [
    "Axioms for context <a href=\"_context_.ipynb\" class=\"ProveItLink\">proveit.number.negation</a>\n",
    "========"
   ]
  },
  {
   "cell_type": "code",
   "execution_count": null,
   "metadata": {},
   "outputs": [],
   "source": [
    "import proveit\n",
    "# Automation is not needed when building axiom expressions:\n",
    "proveit.defaults.automation = False # This will speed things up.\n",
    "from proveit.logic import Forall, Equals\n",
    "from proveit._common_ import a, b, c\n",
    "from proveit.number import Add, Neg, zero, Naturals\n",
    "# the context is in the current directory:\n",
    "context = proveit.Context('.') # adds context root to sys.path if necessary"
   ]
  },
  {
   "cell_type": "code",
   "execution_count": null,
   "metadata": {},
   "outputs": [],
   "source": [
    "%begin axioms"
   ]
  },
  {
   "cell_type": "code",
   "execution_count": null,
   "metadata": {},
   "outputs": [],
   "source": [
    "negation_is_injunctive = Forall((a, b), Equals(a, b), condition=[Equals(Neg(a), Neg(b))], domain=Naturals)"
   ]
  },
  {
   "cell_type": "code",
   "execution_count": null,
   "metadata": {},
   "outputs": [],
   "source": [
    "double_negation = Forall(a, Equals(Neg(Neg(a)), a), domain=Naturals)"
   ]
  },
  {
   "cell_type": "code",
   "execution_count": null,
   "metadata": {},
   "outputs": [],
   "source": []
  },
  {
   "cell_type": "code",
   "execution_count": null,
   "metadata": {},
   "outputs": [],
   "source": []
  },
  {
   "cell_type": "markdown",
   "metadata": {},
   "source": [
    "### Negation is defined as the additive inverse of the natural numbers, extending the natural number set to all integers.  This will extend to other number sets through the definitions of the operations that extend Integers to other number sets (division for rationals, exponentiation for reals and complex numbers)."
   ]
  },
  {
   "cell_type": "code",
   "execution_count": null,
   "metadata": {},
   "outputs": [],
   "source": [
    "# By default, Add(a, Neg(a)) will display in the subtraction style (the same as subtract(a, a))\n",
    "# By calling 'withSubtractionAt' with no arguments, we override this default to explicitly\n",
    "# display it in the form of adding the negative, though it is treated as an expression with\n",
    "# the same meaning as subtract(a, a).\n",
    "negDefAddInv = Forall((a, b, c), Equals(Add(c, Neg(a)).withSubtractionAt(), b), \n",
    "                conditions=[Equals(Add(a, b), c)], \n",
    "                domain=Naturals)"
   ]
  },
  {
   "cell_type": "code",
   "execution_count": null,
   "metadata": {},
   "outputs": [],
   "source": [
    "%end axioms"
   ]
  }
 ],
 "metadata": {
  "kernelspec": {
   "display_name": "Python 3",
   "language": "python",
   "name": "python3"
  }
 },
 "nbformat": 4,
 "nbformat_minor": 0
}
