{
 "cells": [
  {
   "cell_type": "markdown",
   "metadata": {},
   "source": [
    "Axioms for context <a class=\"ProveItLink\" href=\"_context_.ipynb\">proveit.number.rounding</a>\n",
    "========"
   ]
  },
  {
   "cell_type": "code",
   "execution_count": null,
   "metadata": {},
   "outputs": [],
   "source": [
    "import proveit\n",
    "## 72 spaces ===========================================================\n",
    "# Automation is not needed when building axiom expressions:\n",
    "proveit.defaults.automation = False # This will speed things up.\n",
    "from proveit._common_ import x\n",
    "from proveit.logic import Equals, Forall, And, InSet\n",
    "from proveit.number import (zero, one, two, Add, Ceil, Floor, frac,\n",
    "                            IntervalCO, Integers, Reals, Round, subtract)\n",
    "# from proveit.number._common_ import zero, one\n",
    "# the context is in the current directory:\n",
    "context = proveit.Context('.') # adds context root to sys.path if necessary"
   ]
  },
  {
   "cell_type": "code",
   "execution_count": null,
   "metadata": {},
   "outputs": [],
   "source": [
    "%begin axioms"
   ]
  },
  {
   "cell_type": "markdown",
   "metadata": {},
   "source": [
    "#### The floor of a real number x, denoted $\\lfloor x \\rfloor$, is the greatest integer less than or equal to x. In some literature, the floor of x is denoted by $[x]$."
   ]
  },
  {
   "cell_type": "code",
   "execution_count": null,
   "metadata": {},
   "outputs": [],
   "source": [
    "floorDef = Forall(\n",
    "        x,\n",
    "        And(InSet(Floor(x), Integers),\n",
    "            InSet(subtract(x, Floor(x)), IntervalCO(zero, one))),\n",
    "        domain=Reals)"
   ]
  },
  {
   "cell_type": "code",
   "execution_count": null,
   "metadata": {},
   "outputs": [],
   "source": [
    "# an alternative\n"
   ]
  },
  {
   "cell_type": "markdown",
   "metadata": {},
   "source": [
    "#### The ceiling of a real number x, denoted $\\lceil x \\rceil$, is the least integer greater than or equal to x."
   ]
  },
  {
   "cell_type": "code",
   "execution_count": null,
   "metadata": {},
   "outputs": [],
   "source": [
    "ceilDef = Forall(\n",
    "        x,\n",
    "        And(InSet(Ceil(x), Integers),\n",
    "            InSet(subtract(Ceil(x), x), IntervalCO(zero, one))),\n",
    "        domain=Reals)"
   ]
  },
  {
   "cell_type": "markdown",
   "metadata": {},
   "source": [
    "#### We can then define $\\text{round}(x)$ in terms of ceiling or floor. Rounding of real number x is here taken to be the usual rounding to the nearest integer, with tie breaking toward positive infinity (e.g., Round(3.5) = 4)."
   ]
  },
  {
   "cell_type": "code",
   "execution_count": null,
   "metadata": {},
   "outputs": [],
   "source": [
    "roundDefFloor = Forall(\n",
    "    x,\n",
    "    Equals(Round(x), Floor(Add(x, frac(one, two)))),\n",
    "    domain=Reals)"
   ]
  },
  {
   "cell_type": "code",
   "execution_count": null,
   "metadata": {},
   "outputs": [],
   "source": [
    "roundDefCeil = Forall(\n",
    "    x,\n",
    "    Equals(Round(x), Ceil(subtract(x, frac(one, two)))),\n",
    "    domain=Reals)"
   ]
  },
  {
   "cell_type": "code",
   "execution_count": null,
   "metadata": {},
   "outputs": [],
   "source": [
    "%end axioms"
   ]
  }
 ],
 "metadata": {
  "kernelspec": {
   "display_name": "Python 3",
   "language": "python",
   "name": "python3"
  }
 },
 "nbformat": 4,
 "nbformat_minor": 0
}
