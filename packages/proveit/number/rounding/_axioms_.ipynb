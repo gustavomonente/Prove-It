{
 "cells": [
  {
   "cell_type": "markdown",
   "metadata": {},
   "source": [
    "Axioms for the theory of <a class=\"ProveItLink\" href=\"_theory_.ipynb\">proveit.number.rounding</a>\n",
    "========"
   ]
  },
  {
   "cell_type": "code",
   "execution_count": null,
   "metadata": {},
   "outputs": [],
   "source": [
    "import proveit\n",
    "# Automation is not needed when building axiom expressions:\n",
    "proveit.defaults.automation = False # This will speed things up.\n",
    "from proveit._common_ import x, y\n",
    "from proveit.logic import Equals, Forall, InSet\n",
    "from proveit.number import (one, two, Abs, Ceil, Floor, frac, GreaterEq,\n",
    "                            Integers, LessEq, Reals, Round, subtract)\n",
    "# the theory is in the current directory:\n",
    "theory = proveit.Theory('.') # adds theory root to sys.path if necessary"
   ]
  },
  {
   "cell_type": "code",
   "execution_count": null,
   "metadata": {},
   "outputs": [],
   "source": [
    "%begin axioms"
   ]
  },
  {
   "cell_type": "markdown",
   "metadata": {},
   "source": [
    "#### The ceiling of a real number x, denoted $\\lceil x \\rceil$, is the least integer greater than or equal to x. This notion is captured in the following three axioms:"
   ]
  },
  {
   "cell_type": "code",
   "execution_count": null,
   "metadata": {},
   "outputs": [],
   "source": [
    "ceilIsAnInt = Forall(\n",
    "        x,\n",
    "        InSet(Ceil(x), Integers),\n",
    "        domain=Reals)"
   ]
  },
  {
   "cell_type": "code",
   "execution_count": null,
   "metadata": {},
   "outputs": [],
   "source": [
    "ceilOfXGreaterEqX = Forall(\n",
    "        x,\n",
    "        GreaterEq(Ceil(x), x),\n",
    "        domain=Reals)"
   ]
  },
  {
   "cell_type": "code",
   "execution_count": null,
   "metadata": {},
   "outputs": [],
   "source": [
    "ceilOfXLessEq = Forall(\n",
    "        (x, y),\n",
    "        LessEq(Ceil(x), y),\n",
    "        domains=[Reals, Integers],\n",
    "        conditions=[GreaterEq(y, x)])"
   ]
  },
  {
   "cell_type": "markdown",
   "metadata": {},
   "source": [
    "#### The floor of a real number x, denoted $\\lfloor x \\rfloor$ (in some literature, denoted by $[x]$), can be described as the greatest integer less than or equal to x. This notion is captured in the following three axioms:"
   ]
  },
  {
   "cell_type": "code",
   "execution_count": null,
   "metadata": {},
   "outputs": [],
   "source": [
    "floorIsAnInt = Forall(\n",
    "        x,\n",
    "        InSet(Floor(x), Integers),\n",
    "        domain=Reals)"
   ]
  },
  {
   "cell_type": "code",
   "execution_count": null,
   "metadata": {},
   "outputs": [],
   "source": [
    "floorOfXLessEqX = Forall(\n",
    "        x,\n",
    "        LessEq(Floor(x), x),\n",
    "        domain=Reals)"
   ]
  },
  {
   "cell_type": "code",
   "execution_count": null,
   "metadata": {},
   "outputs": [],
   "source": [
    "floorOfXGreaterEq = Forall(\n",
    "        (x, y),\n",
    "        GreaterEq(Floor(x), y),\n",
    "        domains=[Reals, Integers],\n",
    "        conditions=[LessEq(y, x)])"
   ]
  },
  {
   "cell_type": "markdown",
   "metadata": {},
   "source": [
    "#### The rounding of a real number $x$, denoted here by $\\text{round}(x)$,  can be described as the nearest integer to $x$, with tie-breaking upward (_e.g._, $\\text{round}(3.5) = 4$). This notion is captured in the following axioms:"
   ]
  },
  {
   "cell_type": "code",
   "execution_count": null,
   "metadata": {},
   "outputs": [],
   "source": [
    "roundIsAnInt = Forall(\n",
    "        x,\n",
    "        InSet(Round(x), Integers),\n",
    "        domain=Reals)"
   ]
  },
  {
   "cell_type": "code",
   "execution_count": null,
   "metadata": {},
   "outputs": [],
   "source": [
    "roundIsClosestInt = Forall(\n",
    "        (x, y),\n",
    "        LessEq(Abs(subtract(Round(x), x)), Abs(subtract(y, x))),\n",
    "        domains=[Reals, Integers])"
   ]
  },
  {
   "cell_type": "code",
   "execution_count": null,
   "metadata": {},
   "outputs": [],
   "source": [
    "# Leaving this instantiation for futher consider later;\n",
    "# see next cell for current roundUp axiom\n",
    "# roundUp = Forall(\n",
    "#         x,\n",
    "#         GreaterEq(Round(x), x),\n",
    "#         domain=Reals,\n",
    "#         conditions=[Equals(Abs(subtract(Round(x), x)), frac(one, two))])"
   ]
  },
  {
   "cell_type": "code",
   "execution_count": null,
   "metadata": {},
   "outputs": [],
   "source": [
    "roundUp = Forall(\n",
    "        x,\n",
    "        Equals(Round(x), Ceil(x)),\n",
    "        domain=Reals,\n",
    "        conditions=[Equals(subtract(x, Floor(x)), subtract(Ceil(x), x))])"
   ]
  },
  {
   "cell_type": "code",
   "execution_count": null,
   "metadata": {},
   "outputs": [],
   "source": [
    "%end axioms"
   ]
  }
 ],
 "metadata": {
  "kernelspec": {
   "display_name": "Python 3",
   "language": "python",
   "name": "python3"
  }
 },
 "nbformat": 4,
 "nbformat_minor": 0
}
