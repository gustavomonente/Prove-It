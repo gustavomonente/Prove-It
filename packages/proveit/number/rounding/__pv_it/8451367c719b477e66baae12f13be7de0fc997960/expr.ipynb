{
 "cells": [
  {
   "cell_type": "markdown",
   "metadata": {},
   "source": [
    "Axiom <a class=\"ProveItLink\" href=\"../../_axioms_.ipynb#roundUp\">roundUp</a> of type <a class=\"ProveItLink\" href=\"../../../../../../doc/html/api/proveit.logic.Forall.html\">Forall</a>\n",
    "=======================\n",
    "# from context <a class=\"ProveItLink\" href=\"../../_context_.ipynb\">proveit.number.rounding</a>\n",
    "*** see <a class=\"ProveItLink\" href=\"dependencies.ipynb\">dependencies</a> ***"
   ]
  },
  {
   "cell_type": "code",
   "execution_count": 1,
   "metadata": {},
   "outputs": [],
   "source": [
    "import proveit\n",
    "# Automation is not needed when only building an expression:\n",
    "proveit.defaults.automation = False # This will speed things up.\n",
    "proveit.defaults.inline_pngs = False # Makes files smaller.\n",
    "# import the special expression\n",
    "from proveit.number.rounding._axioms_ import roundUp"
   ]
  },
  {
   "cell_type": "code",
   "execution_count": 2,
   "metadata": {},
   "outputs": [
    {
     "name": "stdout",
     "output_type": "stream",
     "text": [
      "Passed sanity check: built 'roundUp' is the same as the stored Expression.\n"
     ]
    }
   ],
   "source": [
    "# check that the built expression is the same as the stored expression\n",
    "%check_expr roundUp"
   ]
  },
  {
   "cell_type": "code",
   "execution_count": 3,
   "metadata": {},
   "outputs": [
    {
     "name": "stdout",
     "output_type": "stream",
     "text": [
      "\\vdash \\forall_{x \\in \\mathbb{R}~|~\\left(x - \\lfloor x\\rfloor\\right) = \\left(\\lceil x\\rceil - x\\right)}~\\left(round(x) = \\lceil x\\rceil\\right)\n"
     ]
    }
   ],
   "source": [
    "# Show the LaTeX representation of the expression for convenience if you need it.\n",
    "print(roundUp.latex())"
   ]
  },
  {
   "cell_type": "code",
   "execution_count": 4,
   "metadata": {},
   "outputs": [
    {
     "data": {
      "text/html": [
       "<table><tr><th>&nbsp;</th><th>core type</th><th>sub-expressions</th><th>expression</th></tr>\n",
       "<tr><td>0</td><td>Operation</td><td>operator:&nbsp;1<br>operand:&nbsp;2<br></td><td><a class=\"ProveItLink\" href=\"expr.ipynb\"><img src=\"expr.png\" style=\"display:inline;vertical-align:middle;\" /></a></td></tr>\n",
       "<tr><td>1</td><td>Literal</td><td></td><td><a class=\"ProveItLink\" href=\"../../../../logic/boolean/quantification/universal/__pv_it/fd9c772d6675566ed52a6897806f45eb08a4ea910/expr.ipynb\"><img src=\"../../../../logic/boolean/quantification/universal/__pv_it/fd9c772d6675566ed52a6897806f45eb08a4ea910/expr.png\" style=\"display:inline;vertical-align:middle;\" /></a></td></tr>\n",
       "<tr><td>2</td><td>Lambda</td><td>parameter:&nbsp;30<br>body:&nbsp;3<br></td><td><a class=\"ProveItLink\" href=\"../82f6ef2dd6db58ab69ab5bd3a54bf2e915add8800/expr.ipynb\"><img src=\"../82f6ef2dd6db58ab69ab5bd3a54bf2e915add8800/expr.png\" style=\"display:inline;vertical-align:middle;\" /></a></td></tr>\n",
       "<tr><td>3</td><td>Conditional</td><td>value:&nbsp;4<br>condition:&nbsp;5<br></td><td><a class=\"ProveItLink\" href=\"../a9031c14a55de0370d3fd8364e9c020752966aff0/expr.ipynb\"><img src=\"../a9031c14a55de0370d3fd8364e9c020752966aff0/expr.png\" style=\"display:inline;vertical-align:middle;\" /></a></td></tr>\n",
       "<tr><td>4</td><td>Operation</td><td>operator:&nbsp;15<br>operands:&nbsp;6<br></td><td><a class=\"ProveItLink\" href=\"../a85b7c9ea6c936abb7514fdf3febc12b05a3acea0/expr.ipynb\"><img src=\"../a85b7c9ea6c936abb7514fdf3febc12b05a3acea0/expr.png\" style=\"display:inline;vertical-align:middle;\" /></a></td></tr>\n",
       "<tr><td>5</td><td>Operation</td><td>operator:&nbsp;7<br>operands:&nbsp;8<br></td><td><a class=\"ProveItLink\" href=\"../0493dd7bdd72cffc0bcf68f447d3f70419c72c9f0/expr.ipynb\"><img src=\"../0493dd7bdd72cffc0bcf68f447d3f70419c72c9f0/expr.png\" style=\"display:inline;vertical-align:middle;\" /></a></td></tr>\n",
       "<tr><td>6</td><td>ExprTuple</td><td>9, 24</td><td><a class=\"ProveItLink\" href=\"../c19e9d1ac1f11ebd8e1fdf3f56454f9a65982ee40/expr.ipynb\"><img src=\"../c19e9d1ac1f11ebd8e1fdf3f56454f9a65982ee40/expr.png\" style=\"display:inline;vertical-align:middle;\" /></a></td></tr>\n",
       "<tr><td>7</td><td>Literal</td><td></td><td><a class=\"ProveItLink\" href=\"../../../../logic/boolean/conjunction/__pv_it/f41cc6b553210927c09f19a8a39cdf860a5585930/expr.ipynb\"><img src=\"../../../../logic/boolean/conjunction/__pv_it/f41cc6b553210927c09f19a8a39cdf860a5585930/expr.png\" style=\"display:inline;vertical-align:middle;\" /></a></td></tr>\n",
       "<tr><td>8</td><td>ExprTuple</td><td>10, 11</td><td><a class=\"ProveItLink\" href=\"../fe2798e169c65c1bfbcd78e6417d5958b6f675f40/expr.ipynb\"><img src=\"../fe2798e169c65c1bfbcd78e6417d5958b6f675f40/expr.png\" style=\"display:inline;vertical-align:middle;\" /></a></td></tr>\n",
       "<tr><td>9</td><td>Operation</td><td>operator:&nbsp;12<br>operand:&nbsp;30<br></td><td><a class=\"ProveItLink\" href=\"../76fa9208fd4402de97969f59e6c5df55bd0a4ad10/expr.ipynb\"><img src=\"../76fa9208fd4402de97969f59e6c5df55bd0a4ad10/expr.png\" style=\"display:inline;vertical-align:middle;\" /></a></td></tr>\n",
       "<tr><td>10</td><td>Operation</td><td>operator:&nbsp;13<br>operands:&nbsp;14<br></td><td><a class=\"ProveItLink\" href=\"../d1abe32eef57347774dfea3ee7588b7cbc50954a0/expr.ipynb\"><img src=\"../d1abe32eef57347774dfea3ee7588b7cbc50954a0/expr.png\" style=\"display:inline;vertical-align:middle;\" /></a></td></tr>\n",
       "<tr><td>11</td><td>Operation</td><td>operator:&nbsp;15<br>operands:&nbsp;16<br></td><td><a class=\"ProveItLink\" href=\"../f051fa3cc586024f9d63f166eae3e663b5b7533e0/expr.ipynb\"><img src=\"../f051fa3cc586024f9d63f166eae3e663b5b7533e0/expr.png\" style=\"display:inline;vertical-align:middle;\" /></a></td></tr>\n",
       "<tr><td>12</td><td>Literal</td><td></td><td><a class=\"ProveItLink\" href=\"../55bff6fb85def6af7c41c3f917b2d7e06dec6aef0/expr.ipynb\"><img src=\"../55bff6fb85def6af7c41c3f917b2d7e06dec6aef0/expr.png\" style=\"display:inline;vertical-align:middle;\" /></a></td></tr>\n",
       "<tr><td>13</td><td>Literal</td><td></td><td><a class=\"ProveItLink\" href=\"../../../../logic/set_theory/membership/__pv_it/7776fc89cb67d0b5b1ec2c0c8e08da5587921ccf0/expr.ipynb\"><img src=\"../../../../logic/set_theory/membership/__pv_it/7776fc89cb67d0b5b1ec2c0c8e08da5587921ccf0/expr.png\" style=\"display:inline;vertical-align:middle;\" /></a></td></tr>\n",
       "<tr><td>14</td><td>ExprTuple</td><td>30, 17</td><td><a class=\"ProveItLink\" href=\"../5bbb73b5487eee2db68bc413c07848ef82015df90/expr.ipynb\"><img src=\"../5bbb73b5487eee2db68bc413c07848ef82015df90/expr.png\" style=\"display:inline;vertical-align:middle;\" /></a></td></tr>\n",
       "<tr><td>15</td><td>Literal</td><td></td><td><a class=\"ProveItLink\" href=\"../../../../logic/equality/__pv_it/e16d2caa26a16688b658bdb9c422caf4b84579e10/expr.ipynb\"><img src=\"../../../../logic/equality/__pv_it/e16d2caa26a16688b658bdb9c422caf4b84579e10/expr.png\" style=\"display:inline;vertical-align:middle;\" /></a></td></tr>\n",
       "<tr><td>16</td><td>ExprTuple</td><td>18, 19</td><td><a class=\"ProveItLink\" href=\"../ea6d5ceaa48f72daf72d8462caabc0e2d3db68820/expr.ipynb\"><img src=\"../ea6d5ceaa48f72daf72d8462caabc0e2d3db68820/expr.png\" style=\"display:inline;vertical-align:middle;\" /></a></td></tr>\n",
       "<tr><td>17</td><td>Literal</td><td></td><td><a class=\"ProveItLink\" href=\"../../../sets/real/__pv_it/83c2d223a7b04200651811c8b29e747fd8f853510/expr.ipynb\"><img src=\"../../../sets/real/__pv_it/83c2d223a7b04200651811c8b29e747fd8f853510/expr.png\" style=\"display:inline;vertical-align:middle;\" /></a></td></tr>\n",
       "<tr><td>18</td><td>Operation</td><td>operator:&nbsp;21<br>operands:&nbsp;20<br></td><td><a class=\"ProveItLink\" href=\"../4b5a09b3cb230aadca9f85cce1f9b6fe301ffac10/expr.ipynb\"><img src=\"../4b5a09b3cb230aadca9f85cce1f9b6fe301ffac10/expr.png\" style=\"display:inline;vertical-align:middle;\" /></a></td></tr>\n",
       "<tr><td>19</td><td>Operation</td><td>operator:&nbsp;21<br>operands:&nbsp;22<br></td><td><a class=\"ProveItLink\" href=\"../415e7a1754f7dd5db17fb8487300751e69f980c40/expr.ipynb\"><img src=\"../415e7a1754f7dd5db17fb8487300751e69f980c40/expr.png\" style=\"display:inline;vertical-align:middle;\" /></a></td></tr>\n",
       "<tr><td>20</td><td>ExprTuple</td><td>30, 23</td><td><a class=\"ProveItLink\" href=\"../491d651f2cf6a0608ab6cbc70b2bf59a486a875d0/expr.ipynb\"><img src=\"../491d651f2cf6a0608ab6cbc70b2bf59a486a875d0/expr.png\" style=\"display:inline;vertical-align:middle;\" /></a></td></tr>\n",
       "<tr><td>21</td><td>Literal</td><td></td><td><a class=\"ProveItLink\" href=\"../../../addition/__pv_it/65ad7e8aee19b10110d590375ba95a879c4fb7ea0/expr.ipynb\"><img src=\"../../../addition/__pv_it/65ad7e8aee19b10110d590375ba95a879c4fb7ea0/expr.png\" style=\"display:inline;vertical-align:middle;\" /></a></td></tr>\n",
       "<tr><td>22</td><td>ExprTuple</td><td>24, 25</td><td><a class=\"ProveItLink\" href=\"../8a950d8c9c8bec58f3ca8293a95cbcb673a582ff0/expr.ipynb\"><img src=\"../8a950d8c9c8bec58f3ca8293a95cbcb673a582ff0/expr.png\" style=\"display:inline;vertical-align:middle;\" /></a></td></tr>\n",
       "<tr><td>23</td><td>Operation</td><td>operator:&nbsp;28<br>operand:&nbsp;26<br></td><td><a class=\"ProveItLink\" href=\"../e739c0a410e9290cbc5aa5ef098ca1ada408a90e0/expr.ipynb\"><img src=\"../e739c0a410e9290cbc5aa5ef098ca1ada408a90e0/expr.png\" style=\"display:inline;vertical-align:middle;\" /></a></td></tr>\n",
       "<tr><td>24</td><td>Operation</td><td>operator:&nbsp;27<br>operand:&nbsp;30<br></td><td><a class=\"ProveItLink\" href=\"../ca3bb5ff47b6e4905690ac704f5c17cba86ac6850/expr.ipynb\"><img src=\"../ca3bb5ff47b6e4905690ac704f5c17cba86ac6850/expr.png\" style=\"display:inline;vertical-align:middle;\" /></a></td></tr>\n",
       "<tr><td>25</td><td>Operation</td><td>operator:&nbsp;28<br>operand:&nbsp;30<br></td><td><a class=\"ProveItLink\" href=\"../a7dce3506e5e4bc1a6d655c23242f342aef8a8150/expr.ipynb\"><img src=\"../a7dce3506e5e4bc1a6d655c23242f342aef8a8150/expr.png\" style=\"display:inline;vertical-align:middle;\" /></a></td></tr>\n",
       "<tr><td>26</td><td>Operation</td><td>operator:&nbsp;29<br>operand:&nbsp;30<br></td><td><a class=\"ProveItLink\" href=\"../84efd0b80cf1ae01230e509c838664ad49e46ee00/expr.ipynb\"><img src=\"../84efd0b80cf1ae01230e509c838664ad49e46ee00/expr.png\" style=\"display:inline;vertical-align:middle;\" /></a></td></tr>\n",
       "<tr><td>27</td><td>Literal</td><td></td><td><a class=\"ProveItLink\" href=\"../fecf650afb60acfde7a681e13d78e1d13f40946f0/expr.ipynb\"><img src=\"../fecf650afb60acfde7a681e13d78e1d13f40946f0/expr.png\" style=\"display:inline;vertical-align:middle;\" /></a></td></tr>\n",
       "<tr><td>28</td><td>Literal</td><td></td><td><a class=\"ProveItLink\" href=\"../../../negation/__pv_it/2867787e35502987d81a45cac8e7f1c6996d6ff40/expr.ipynb\"><img src=\"../../../negation/__pv_it/2867787e35502987d81a45cac8e7f1c6996d6ff40/expr.png\" style=\"display:inline;vertical-align:middle;\" /></a></td></tr>\n",
       "<tr><td>29</td><td>Literal</td><td></td><td><a class=\"ProveItLink\" href=\"../a8667327b13723591b5b7665919763edb09476930/expr.ipynb\"><img src=\"../a8667327b13723591b5b7665919763edb09476930/expr.png\" style=\"display:inline;vertical-align:middle;\" /></a></td></tr>\n",
       "<tr><td>30</td><td>Variable</td><td></td><td><a class=\"ProveItLink\" href=\"../../../../__pv_it/72df168d2bfb4e0140af90912ebf83b13772060b0/expr.ipynb\"><img src=\"../../../../__pv_it/72df168d2bfb4e0140af90912ebf83b13772060b0/expr.png\" style=\"display:inline;vertical-align:middle;\" /></a></td></tr>\n",
       "</table>\n"
      ],
      "text/plain": [
       "0. forall_{x in Reals | (x - floor(x)) = (ceil(x) - x)} (round(x) = ceil(x))\n",
       "   core type: Operation\n",
       "   operator: 1\n",
       "   operand: 2\n",
       "1. forall\n",
       "   core type: Literal\n",
       "   sub-expressions: \n",
       "2. x -> {round(x) = ceil(x) if x in Reals ,  (x - floor(x)) = (ceil(x) - x).\n",
       "   core type: Lambda\n",
       "   parameter: 30\n",
       "   body: 3\n",
       "3. {round(x) = ceil(x) if x in Reals ,  (x - floor(x)) = (ceil(x) - x).\n",
       "   core type: Conditional\n",
       "   value: 4\n",
       "   condition: 5\n",
       "4. round(x) = ceil(x)\n",
       "   core type: Operation\n",
       "   operator: 15\n",
       "   operands: 6\n",
       "5. (x in Reals) and ((x - floor(x)) = (ceil(x) - x))\n",
       "   core type: Operation\n",
       "   operator: 7\n",
       "   operands: 8\n",
       "6. (round(x), ceil(x))\n",
       "   core type: ExprTuple\n",
       "   sub-expressions: 9, 24\n",
       "7. and\n",
       "   core type: Literal\n",
       "   sub-expressions: \n",
       "8. (x in Reals, (x - floor(x)) = (ceil(x) - x))\n",
       "   core type: ExprTuple\n",
       "   sub-expressions: 10, 11\n",
       "9. round(x)\n",
       "   core type: Operation\n",
       "   operator: 12\n",
       "   operand: 30\n",
       "10. x in Reals\n",
       "    core type: Operation\n",
       "    operator: 13\n",
       "    operands: 14\n",
       "11. (x - floor(x)) = (ceil(x) - x)\n",
       "    core type: Operation\n",
       "    operator: 15\n",
       "    operands: 16\n",
       "12. round\n",
       "    core type: Literal\n",
       "    sub-expressions: \n",
       "13. in\n",
       "    core type: Literal\n",
       "    sub-expressions: \n",
       "14. (x, Reals)\n",
       "    core type: ExprTuple\n",
       "    sub-expressions: 30, 17\n",
       "15. =\n",
       "    core type: Literal\n",
       "    sub-expressions: \n",
       "16. (x - floor(x), ceil(x) - x)\n",
       "    core type: ExprTuple\n",
       "    sub-expressions: 18, 19\n",
       "17. Reals\n",
       "    core type: Literal\n",
       "    sub-expressions: \n",
       "18. x - floor(x)\n",
       "    core type: Operation\n",
       "    operator: 21\n",
       "    operands: 20\n",
       "19. ceil(x) - x\n",
       "    core type: Operation\n",
       "    operator: 21\n",
       "    operands: 22\n",
       "20. (x, -floor(x))\n",
       "    core type: ExprTuple\n",
       "    sub-expressions: 30, 23\n",
       "21. +\n",
       "    core type: Literal\n",
       "    sub-expressions: \n",
       "22. (ceil(x), -x)\n",
       "    core type: ExprTuple\n",
       "    sub-expressions: 24, 25\n",
       "23. -floor(x)\n",
       "    core type: Operation\n",
       "    operator: 28\n",
       "    operand: 26\n",
       "24. ceil(x)\n",
       "    core type: Operation\n",
       "    operator: 27\n",
       "    operand: 30\n",
       "25. -x\n",
       "    core type: Operation\n",
       "    operator: 28\n",
       "    operand: 30\n",
       "26. floor(x)\n",
       "    core type: Operation\n",
       "    operator: 29\n",
       "    operand: 30\n",
       "27. ceil\n",
       "    core type: Literal\n",
       "    sub-expressions: \n",
       "28. -\n",
       "    core type: Literal\n",
       "    sub-expressions: \n",
       "29. floor\n",
       "    core type: Literal\n",
       "    sub-expressions: \n",
       "30. x\n",
       "    core type: Variable\n",
       "    sub-expressions: "
      ]
     },
     "execution_count": 4,
     "metadata": {},
     "output_type": "execute_result"
    }
   ],
   "source": [
    "# display the expression information\n",
    "roundUp.exprInfo()"
   ]
  },
  {
   "cell_type": "code",
   "execution_count": null,
   "metadata": {},
   "outputs": [],
   "source": []
  }
 ],
 "metadata": {
  "kernelspec": {
   "display_name": "Python 3",
   "language": "python",
   "name": "python3"
  },
  "language_info": {
   "codemirror_mode": {
    "name": "ipython",
    "version": 3
   },
   "file_extension": ".py",
   "mimetype": "text/x-python",
   "name": "python",
   "nbconvert_exporter": "python",
   "pygments_lexer": "ipython3",
   "version": "3.7.3"
  }
 },
 "nbformat": 4,
 "nbformat_minor": 1
}
