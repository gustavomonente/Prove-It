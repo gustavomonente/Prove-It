{
 "cells": [
  {
   "cell_type": "markdown",
   "metadata": {},
   "source": [
    "Expression of type <a class=\"ProveItLink\" href=\"../../../../../../doc/html/api/proveit.logic.Forall.html\">Forall</a>\n",
    "=======================\n",
    "# from context <a class=\"ProveItLink\" href=\"../../_context_.ipynb\">proveit.number.rounding</a>"
   ]
  },
  {
   "cell_type": "code",
   "execution_count": 1,
   "metadata": {},
   "outputs": [],
   "source": [
    "import proveit\n",
    "# Automation is not needed when building an expression:\n",
    "proveit.defaults.automation = False # This will speed things up.\n",
    "proveit.defaults.inline_pngs = False # Makes files smaller.\n",
    "# import Expression classes needed to build the expression\n",
    "from proveit._common_ import x\n",
    "from proveit.logic import Forall, InSet\n",
    "from proveit.number import Naturals, RealsPos, Round"
   ]
  },
  {
   "cell_type": "code",
   "execution_count": 2,
   "metadata": {},
   "outputs": [
    {
     "data": {
      "text/html": [
       "<strong id=\"expr\">expr:</strong> <a class=\"ProveItLink\" href=\"../caeae89b1a123e596492ba48e18cb6d6ca5b31d20/expr.ipynb\"><img src=\"../caeae89b1a123e596492ba48e18cb6d6ca5b31d20/expr.png\" style=\"display:inline;vertical-align:middle;\" /></a><br>"
      ],
      "text/plain": [
       "expr: forall_{x in RealsPos} (round(x) in Naturals)"
      ]
     },
     "execution_count": 2,
     "metadata": {},
     "output_type": "execute_result"
    }
   ],
   "source": [
    "# build up the expression from sub-expressions\n",
    "expr = Forall([x], InSet(Round(x), Naturals), domain = RealsPos)"
   ]
  },
  {
   "cell_type": "code",
   "execution_count": 3,
   "metadata": {},
   "outputs": [
    {
     "name": "stdout",
     "output_type": "stream",
     "text": [
      "Passed sanity check: built 'expr' is the same as the stored Expression.\n"
     ]
    }
   ],
   "source": [
    "# check that the built expression is the same as the stored expression\n",
    "%check_expr"
   ]
  },
  {
   "cell_type": "code",
   "execution_count": 4,
   "metadata": {},
   "outputs": [
    {
     "name": "stdout",
     "output_type": "stream",
     "text": [
      "\\forall_{x \\in \\mathbb{R}^+}~\\left(round(x) \\in \\mathbb{N}\\right)\n"
     ]
    }
   ],
   "source": [
    "# Show the LaTeX representation of the expression for convenience if you need it.\n",
    "print(expr.latex())"
   ]
  },
  {
   "cell_type": "code",
   "execution_count": 5,
   "metadata": {},
   "outputs": [
    {
     "data": {
      "text/html": [
       "<table><tr><th>&nbsp;</th><th>core type</th><th>sub-expressions</th><th>expression</th></tr>\n",
       "<tr><td>0</td><td>Operation</td><td>operator:&nbsp;1<br>operand:&nbsp;2<br></td><td><a class=\"ProveItLink\" href=\"../caeae89b1a123e596492ba48e18cb6d6ca5b31d20/expr.ipynb\"><img src=\"../caeae89b1a123e596492ba48e18cb6d6ca5b31d20/expr.png\" style=\"display:inline;vertical-align:middle;\" /></a></td></tr>\n",
       "<tr><td>1</td><td>Literal</td><td></td><td><a class=\"ProveItLink\" href=\"../../../../logic/boolean/quantification/universal/__pv_it/fd9c772d6675566ed52a6897806f45eb08a4ea910/expr.ipynb\"><img src=\"../../../../logic/boolean/quantification/universal/__pv_it/fd9c772d6675566ed52a6897806f45eb08a4ea910/expr.png\" style=\"display:inline;vertical-align:middle;\" /></a></td></tr>\n",
       "<tr><td>2</td><td>Lambda</td><td>parameter:&nbsp;13<br>body:&nbsp;3<br></td><td><a class=\"ProveItLink\" href=\"../fa537266888fe979f18d5dc2b9aab9d151476bdd0/expr.ipynb\"><img src=\"../fa537266888fe979f18d5dc2b9aab9d151476bdd0/expr.png\" style=\"display:inline;vertical-align:middle;\" /></a></td></tr>\n",
       "<tr><td>3</td><td>Conditional</td><td>value:&nbsp;4<br>condition:&nbsp;5<br></td><td><a class=\"ProveItLink\" href=\"../9e4ae4b516256528c6b7f2ddb256c09ec739f4530/expr.ipynb\"><img src=\"../9e4ae4b516256528c6b7f2ddb256c09ec739f4530/expr.png\" style=\"display:inline;vertical-align:middle;\" /></a></td></tr>\n",
       "<tr><td>4</td><td>Operation</td><td>operator:&nbsp;7<br>operands:&nbsp;6<br></td><td><a class=\"ProveItLink\" href=\"../b47080aa2a3180a313e723137c06b3bf2ea37fd80/expr.ipynb\"><img src=\"../b47080aa2a3180a313e723137c06b3bf2ea37fd80/expr.png\" style=\"display:inline;vertical-align:middle;\" /></a></td></tr>\n",
       "<tr><td>5</td><td>Operation</td><td>operator:&nbsp;7<br>operands:&nbsp;8<br></td><td><a class=\"ProveItLink\" href=\"../0b8d275a8a2acc2f4637ced14f7315c857cd335e0/expr.ipynb\"><img src=\"../0b8d275a8a2acc2f4637ced14f7315c857cd335e0/expr.png\" style=\"display:inline;vertical-align:middle;\" /></a></td></tr>\n",
       "<tr><td>6</td><td>ExprTuple</td><td>9, 10</td><td><a class=\"ProveItLink\" href=\"../74534fa68bb5e62b631aed7e87d8f71740ddeeb10/expr.ipynb\"><img src=\"../74534fa68bb5e62b631aed7e87d8f71740ddeeb10/expr.png\" style=\"display:inline;vertical-align:middle;\" /></a></td></tr>\n",
       "<tr><td>7</td><td>Literal</td><td></td><td><a class=\"ProveItLink\" href=\"../../../../logic/set_theory/membership/__pv_it/7776fc89cb67d0b5b1ec2c0c8e08da5587921ccf0/expr.ipynb\"><img src=\"../../../../logic/set_theory/membership/__pv_it/7776fc89cb67d0b5b1ec2c0c8e08da5587921ccf0/expr.png\" style=\"display:inline;vertical-align:middle;\" /></a></td></tr>\n",
       "<tr><td>8</td><td>ExprTuple</td><td>13, 11</td><td><a class=\"ProveItLink\" href=\"../2f2a43d63e027ae6a8cb347a90fa70072e34823b0/expr.ipynb\"><img src=\"../2f2a43d63e027ae6a8cb347a90fa70072e34823b0/expr.png\" style=\"display:inline;vertical-align:middle;\" /></a></td></tr>\n",
       "<tr><td>9</td><td>Operation</td><td>operator:&nbsp;12<br>operand:&nbsp;13<br></td><td><a class=\"ProveItLink\" href=\"../76fa9208fd4402de97969f59e6c5df55bd0a4ad10/expr.ipynb\"><img src=\"../76fa9208fd4402de97969f59e6c5df55bd0a4ad10/expr.png\" style=\"display:inline;vertical-align:middle;\" /></a></td></tr>\n",
       "<tr><td>10</td><td>Literal</td><td></td><td><a class=\"ProveItLink\" href=\"../../../sets/integer/__pv_it/b49c37b99b7e8d73a8d7971bcf454d693b90a2c60/expr.ipynb\"><img src=\"../../../sets/integer/__pv_it/b49c37b99b7e8d73a8d7971bcf454d693b90a2c60/expr.png\" style=\"display:inline;vertical-align:middle;\" /></a></td></tr>\n",
       "<tr><td>11</td><td>Literal</td><td></td><td><a class=\"ProveItLink\" href=\"../../../sets/real/__pv_it/201c4d7b652a9bf45500ae0d1f35f73fe37164750/expr.ipynb\"><img src=\"../../../sets/real/__pv_it/201c4d7b652a9bf45500ae0d1f35f73fe37164750/expr.png\" style=\"display:inline;vertical-align:middle;\" /></a></td></tr>\n",
       "<tr><td>12</td><td>Literal</td><td></td><td><a class=\"ProveItLink\" href=\"../55bff6fb85def6af7c41c3f917b2d7e06dec6aef0/expr.ipynb\"><img src=\"../55bff6fb85def6af7c41c3f917b2d7e06dec6aef0/expr.png\" style=\"display:inline;vertical-align:middle;\" /></a></td></tr>\n",
       "<tr><td>13</td><td>Variable</td><td></td><td><a class=\"ProveItLink\" href=\"../../../../__pv_it/72df168d2bfb4e0140af90912ebf83b13772060b0/expr.ipynb\"><img src=\"../../../../__pv_it/72df168d2bfb4e0140af90912ebf83b13772060b0/expr.png\" style=\"display:inline;vertical-align:middle;\" /></a></td></tr>\n",
       "</table>\n"
      ],
      "text/plain": [
       "0. forall_{x in RealsPos} (round(x) in Naturals)\n",
       "   core type: Operation\n",
       "   operator: 1\n",
       "   operand: 2\n",
       "1. forall\n",
       "   core type: Literal\n",
       "   sub-expressions: \n",
       "2. x -> {round(x) in Naturals if x in RealsPos.\n",
       "   core type: Lambda\n",
       "   parameter: 13\n",
       "   body: 3\n",
       "3. {round(x) in Naturals if x in RealsPos.\n",
       "   core type: Conditional\n",
       "   value: 4\n",
       "   condition: 5\n",
       "4. round(x) in Naturals\n",
       "   core type: Operation\n",
       "   operator: 7\n",
       "   operands: 6\n",
       "5. x in RealsPos\n",
       "   core type: Operation\n",
       "   operator: 7\n",
       "   operands: 8\n",
       "6. (round(x), Naturals)\n",
       "   core type: ExprTuple\n",
       "   sub-expressions: 9, 10\n",
       "7. in\n",
       "   core type: Literal\n",
       "   sub-expressions: \n",
       "8. (x, RealsPos)\n",
       "   core type: ExprTuple\n",
       "   sub-expressions: 13, 11\n",
       "9. round(x)\n",
       "   core type: Operation\n",
       "   operator: 12\n",
       "   operand: 13\n",
       "10. Naturals\n",
       "    core type: Literal\n",
       "    sub-expressions: \n",
       "11. RealsPos\n",
       "    core type: Literal\n",
       "    sub-expressions: \n",
       "12. round\n",
       "    core type: Literal\n",
       "    sub-expressions: \n",
       "13. x\n",
       "    core type: Variable\n",
       "    sub-expressions: "
      ]
     },
     "execution_count": 5,
     "metadata": {},
     "output_type": "execute_result"
    }
   ],
   "source": [
    "# display the expression information\n",
    "expr.exprInfo()"
   ]
  },
  {
   "cell_type": "code",
   "execution_count": null,
   "metadata": {},
   "outputs": [],
   "source": []
  }
 ],
 "metadata": {
  "kernelspec": {
   "display_name": "Python 3",
   "language": "python",
   "name": "python3"
  },
  "language_info": {
   "codemirror_mode": {
    "name": "ipython",
    "version": 3
   },
   "file_extension": ".py",
   "mimetype": "text/x-python",
   "name": "python",
   "nbconvert_exporter": "python",
   "pygments_lexer": "ipython3",
   "version": "3.7.3"
  }
 },
 "nbformat": 4,
 "nbformat_minor": 1
}
