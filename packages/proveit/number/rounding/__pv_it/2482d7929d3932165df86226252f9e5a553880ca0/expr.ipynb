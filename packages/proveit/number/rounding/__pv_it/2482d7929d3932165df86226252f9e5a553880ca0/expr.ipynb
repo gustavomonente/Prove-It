{
 "cells": [
  {
   "cell_type": "markdown",
   "metadata": {},
   "source": [
    "Expression of type <a class=\"ProveItLink\" href=\"../../../../../../doc/html/api/proveit.Lambda.html\">Lambda</a>\n",
    "=======================\n",
    "# from context <a class=\"ProveItLink\" href=\"../../_context_.ipynb\">proveit.number.rounding</a>"
   ]
  },
  {
   "cell_type": "code",
   "execution_count": 1,
   "metadata": {},
   "outputs": [],
   "source": [
    "import proveit\n",
    "# Automation is not needed when building an expression:\n",
    "proveit.defaults.automation = False # This will speed things up.\n",
    "proveit.defaults.inline_pngs = False # Makes files smaller.\n",
    "# import Expression classes needed to build the expression\n",
    "from proveit import Conditional, Lambda\n",
    "from proveit._common_ import x, y\n",
    "from proveit.logic import And, InSet\n",
    "from proveit.number import Abs, Add, Integers, LessEq, Neg, Reals, Round"
   ]
  },
  {
   "cell_type": "code",
   "execution_count": 2,
   "metadata": {},
   "outputs": [
    {
     "data": {
      "text/html": [
       "<strong id=\"expr\">expr:</strong> <a class=\"ProveItLink\" href=\"expr.ipynb\"><img src=\"expr.png\" style=\"display:inline;vertical-align:middle;\" /></a><br>"
      ],
      "text/plain": [
       "expr: (x, y) -> {|round(x) - x| <= |y - x| if x in Reals ,  y in Integers."
      ]
     },
     "execution_count": 2,
     "metadata": {},
     "output_type": "execute_result"
    }
   ],
   "source": [
    "# build up the expression from sub-expressions\n",
    "subExpr1 = Neg(x)\n",
    "expr = Lambda([x, y], Conditional(LessEq(Abs(Add(Round(x), subExpr1)), Abs(Add(y, subExpr1))), And(InSet(x, Reals), InSet(y, Integers))))"
   ]
  },
  {
   "cell_type": "code",
   "execution_count": 3,
   "metadata": {},
   "outputs": [
    {
     "name": "stdout",
     "output_type": "stream",
     "text": [
      "Passed sanity check: built 'expr' is the same as the stored Expression.\n"
     ]
    }
   ],
   "source": [
    "# check that the built expression is the same as the stored expression\n",
    "%check_expr"
   ]
  },
  {
   "cell_type": "code",
   "execution_count": 4,
   "metadata": {},
   "outputs": [
    {
     "name": "stdout",
     "output_type": "stream",
     "text": [
      "\\left(x, y\\right) \\mapsto \\left\\{\\left|round(x) - x\\right| \\leq \\left|y - x\\right| \\textrm{ if } x \\in \\mathbb{R} ,  y \\in \\mathbb{Z}\\right..\n"
     ]
    }
   ],
   "source": [
    "# Show the LaTeX representation of the expression for convenience if you need it.\n",
    "print(expr.latex())"
   ]
  },
  {
   "cell_type": "code",
   "execution_count": 5,
   "metadata": {},
   "outputs": [
    {
     "data": {
      "text/html": [
       "<table><tr><th>&nbsp;</th><th>core type</th><th>sub-expressions</th><th>expression</th></tr>\n",
       "<tr><td>0</td><td>Lambda</td><td>parameters:&nbsp;1<br>body:&nbsp;2<br></td><td><a class=\"ProveItLink\" href=\"expr.ipynb\"><img src=\"expr.png\" style=\"display:inline;vertical-align:middle;\" /></a></td></tr>\n",
       "<tr><td>1</td><td>ExprTuple</td><td>29, 25</td><td><a class=\"ProveItLink\" href=\"../381a8da4a9fdeac3d03f772fe63417dc7a6055a40/expr.ipynb\"><img src=\"../381a8da4a9fdeac3d03f772fe63417dc7a6055a40/expr.png\" style=\"display:inline;vertical-align:middle;\" /></a></td></tr>\n",
       "<tr><td>2</td><td>Conditional</td><td>value:&nbsp;3<br>condition:&nbsp;4<br></td><td><a class=\"ProveItLink\" href=\"../329dbc347d2b62785bda8e40a8cd5e0da45987220/expr.ipynb\"><img src=\"../329dbc347d2b62785bda8e40a8cd5e0da45987220/expr.png\" style=\"display:inline;vertical-align:middle;\" /></a></td></tr>\n",
       "<tr><td>3</td><td>Operation</td><td>operator:&nbsp;5<br>operands:&nbsp;6<br></td><td><a class=\"ProveItLink\" href=\"../fbe21012d169dd276c146d662f043f38008799ab0/expr.ipynb\"><img src=\"../fbe21012d169dd276c146d662f043f38008799ab0/expr.png\" style=\"display:inline;vertical-align:middle;\" /></a></td></tr>\n",
       "<tr><td>4</td><td>Operation</td><td>operator:&nbsp;7<br>operands:&nbsp;8<br></td><td><a class=\"ProveItLink\" href=\"../b1aeaa6283ba55f77ba57b4643460ce185ce4eff0/expr.ipynb\"><img src=\"../b1aeaa6283ba55f77ba57b4643460ce185ce4eff0/expr.png\" style=\"display:inline;vertical-align:middle;\" /></a></td></tr>\n",
       "<tr><td>5</td><td>Literal</td><td></td><td><a class=\"ProveItLink\" href=\"../../../ordering/__pv_it/75657f0186226b3d1bb8ce3bab2953bb36e04b3b0/expr.ipynb\"><img src=\"../../../ordering/__pv_it/75657f0186226b3d1bb8ce3bab2953bb36e04b3b0/expr.png\" style=\"display:inline;vertical-align:middle;\" /></a></td></tr>\n",
       "<tr><td>6</td><td>ExprTuple</td><td>9, 10</td><td><a class=\"ProveItLink\" href=\"../90399b29252cfe8d49ae5cc62423fc68c19f81b20/expr.ipynb\"><img src=\"../90399b29252cfe8d49ae5cc62423fc68c19f81b20/expr.png\" style=\"display:inline;vertical-align:middle;\" /></a></td></tr>\n",
       "<tr><td>7</td><td>Literal</td><td></td><td><a class=\"ProveItLink\" href=\"../../../../logic/boolean/conjunction/__pv_it/f41cc6b553210927c09f19a8a39cdf860a5585930/expr.ipynb\"><img src=\"../../../../logic/boolean/conjunction/__pv_it/f41cc6b553210927c09f19a8a39cdf860a5585930/expr.png\" style=\"display:inline;vertical-align:middle;\" /></a></td></tr>\n",
       "<tr><td>8</td><td>ExprTuple</td><td>11, 12</td><td><a class=\"ProveItLink\" href=\"../8bda85a4c3dade7b745d832bf5fd35c88b1d21850/expr.ipynb\"><img src=\"../8bda85a4c3dade7b745d832bf5fd35c88b1d21850/expr.png\" style=\"display:inline;vertical-align:middle;\" /></a></td></tr>\n",
       "<tr><td>9</td><td>Operation</td><td>operator:&nbsp;14<br>operand:&nbsp;13<br></td><td><a class=\"ProveItLink\" href=\"../0734ee62ecb036f12c8500cd58470e051eab54110/expr.ipynb\"><img src=\"../0734ee62ecb036f12c8500cd58470e051eab54110/expr.png\" style=\"display:inline;vertical-align:middle;\" /></a></td></tr>\n",
       "<tr><td>10</td><td>Operation</td><td>operator:&nbsp;14<br>operand:&nbsp;15<br></td><td><a class=\"ProveItLink\" href=\"../192e5aee88b98e50a5ae8b0eb8d2e6a86a1de6370/expr.ipynb\"><img src=\"../192e5aee88b98e50a5ae8b0eb8d2e6a86a1de6370/expr.png\" style=\"display:inline;vertical-align:middle;\" /></a></td></tr>\n",
       "<tr><td>11</td><td>Operation</td><td>operator:&nbsp;17<br>operands:&nbsp;16<br></td><td><a class=\"ProveItLink\" href=\"../d1abe32eef57347774dfea3ee7588b7cbc50954a0/expr.ipynb\"><img src=\"../d1abe32eef57347774dfea3ee7588b7cbc50954a0/expr.png\" style=\"display:inline;vertical-align:middle;\" /></a></td></tr>\n",
       "<tr><td>12</td><td>Operation</td><td>operator:&nbsp;17<br>operands:&nbsp;18<br></td><td><a class=\"ProveItLink\" href=\"../7df736183c763745359b8cf717a72d82adc5de530/expr.ipynb\"><img src=\"../7df736183c763745359b8cf717a72d82adc5de530/expr.png\" style=\"display:inline;vertical-align:middle;\" /></a></td></tr>\n",
       "<tr><td>13</td><td>Operation</td><td>operator:&nbsp;20<br>operands:&nbsp;19<br></td><td><a class=\"ProveItLink\" href=\"../1beb0e4e40bf55dd2fd77ab6ec834728c04f71fe0/expr.ipynb\"><img src=\"../1beb0e4e40bf55dd2fd77ab6ec834728c04f71fe0/expr.png\" style=\"display:inline;vertical-align:middle;\" /></a></td></tr>\n",
       "<tr><td>14</td><td>Literal</td><td></td><td><a class=\"ProveItLink\" href=\"../../../absolute_value/__pv_it/7544068c562adda5a47015617159d2bf52fb23810/expr.ipynb\"><img src=\"../../../absolute_value/__pv_it/7544068c562adda5a47015617159d2bf52fb23810/expr.png\" style=\"display:inline;vertical-align:middle;\" /></a></td></tr>\n",
       "<tr><td>15</td><td>Operation</td><td>operator:&nbsp;20<br>operands:&nbsp;21<br></td><td><a class=\"ProveItLink\" href=\"../ee3dd765034afc6d5911fb7f7c6c3ef125d7c1530/expr.ipynb\"><img src=\"../ee3dd765034afc6d5911fb7f7c6c3ef125d7c1530/expr.png\" style=\"display:inline;vertical-align:middle;\" /></a></td></tr>\n",
       "<tr><td>16</td><td>ExprTuple</td><td>29, 22</td><td><a class=\"ProveItLink\" href=\"../5bbb73b5487eee2db68bc413c07848ef82015df90/expr.ipynb\"><img src=\"../5bbb73b5487eee2db68bc413c07848ef82015df90/expr.png\" style=\"display:inline;vertical-align:middle;\" /></a></td></tr>\n",
       "<tr><td>17</td><td>Literal</td><td></td><td><a class=\"ProveItLink\" href=\"../../../../logic/set_theory/membership/__pv_it/7776fc89cb67d0b5b1ec2c0c8e08da5587921ccf0/expr.ipynb\"><img src=\"../../../../logic/set_theory/membership/__pv_it/7776fc89cb67d0b5b1ec2c0c8e08da5587921ccf0/expr.png\" style=\"display:inline;vertical-align:middle;\" /></a></td></tr>\n",
       "<tr><td>18</td><td>ExprTuple</td><td>25, 23</td><td><a class=\"ProveItLink\" href=\"../f0eff693b0d3c1a149af7616d5454ad62df2619c0/expr.ipynb\"><img src=\"../f0eff693b0d3c1a149af7616d5454ad62df2619c0/expr.png\" style=\"display:inline;vertical-align:middle;\" /></a></td></tr>\n",
       "<tr><td>19</td><td>ExprTuple</td><td>24, 26</td><td><a class=\"ProveItLink\" href=\"../b6efe70161e978f7ec277c563b796fb2b04086ef0/expr.ipynb\"><img src=\"../b6efe70161e978f7ec277c563b796fb2b04086ef0/expr.png\" style=\"display:inline;vertical-align:middle;\" /></a></td></tr>\n",
       "<tr><td>20</td><td>Literal</td><td></td><td><a class=\"ProveItLink\" href=\"../../../addition/__pv_it/65ad7e8aee19b10110d590375ba95a879c4fb7ea0/expr.ipynb\"><img src=\"../../../addition/__pv_it/65ad7e8aee19b10110d590375ba95a879c4fb7ea0/expr.png\" style=\"display:inline;vertical-align:middle;\" /></a></td></tr>\n",
       "<tr><td>21</td><td>ExprTuple</td><td>25, 26</td><td><a class=\"ProveItLink\" href=\"../054c33cf3b2a013baafc01b2634630a7d01fb9070/expr.ipynb\"><img src=\"../054c33cf3b2a013baafc01b2634630a7d01fb9070/expr.png\" style=\"display:inline;vertical-align:middle;\" /></a></td></tr>\n",
       "<tr><td>22</td><td>Literal</td><td></td><td><a class=\"ProveItLink\" href=\"../../../sets/real/__pv_it/83c2d223a7b04200651811c8b29e747fd8f853510/expr.ipynb\"><img src=\"../../../sets/real/__pv_it/83c2d223a7b04200651811c8b29e747fd8f853510/expr.png\" style=\"display:inline;vertical-align:middle;\" /></a></td></tr>\n",
       "<tr><td>23</td><td>Literal</td><td></td><td><a class=\"ProveItLink\" href=\"../../../sets/integer/__pv_it/4b6f17dbfe8c62b413ab248a9ec52df6403e103e0/expr.ipynb\"><img src=\"../../../sets/integer/__pv_it/4b6f17dbfe8c62b413ab248a9ec52df6403e103e0/expr.png\" style=\"display:inline;vertical-align:middle;\" /></a></td></tr>\n",
       "<tr><td>24</td><td>Operation</td><td>operator:&nbsp;27<br>operand:&nbsp;29<br></td><td><a class=\"ProveItLink\" href=\"../76fa9208fd4402de97969f59e6c5df55bd0a4ad10/expr.ipynb\"><img src=\"../76fa9208fd4402de97969f59e6c5df55bd0a4ad10/expr.png\" style=\"display:inline;vertical-align:middle;\" /></a></td></tr>\n",
       "<tr><td>25</td><td>Variable</td><td></td><td><a class=\"ProveItLink\" href=\"../../../../__pv_it/c6e291955561f22a0e6708fd793ea93f1c7dbb5d0/expr.ipynb\"><img src=\"../../../../__pv_it/c6e291955561f22a0e6708fd793ea93f1c7dbb5d0/expr.png\" style=\"display:inline;vertical-align:middle;\" /></a></td></tr>\n",
       "<tr><td>26</td><td>Operation</td><td>operator:&nbsp;28<br>operand:&nbsp;29<br></td><td><a class=\"ProveItLink\" href=\"../a7dce3506e5e4bc1a6d655c23242f342aef8a8150/expr.ipynb\"><img src=\"../a7dce3506e5e4bc1a6d655c23242f342aef8a8150/expr.png\" style=\"display:inline;vertical-align:middle;\" /></a></td></tr>\n",
       "<tr><td>27</td><td>Literal</td><td></td><td><a class=\"ProveItLink\" href=\"../55bff6fb85def6af7c41c3f917b2d7e06dec6aef0/expr.ipynb\"><img src=\"../55bff6fb85def6af7c41c3f917b2d7e06dec6aef0/expr.png\" style=\"display:inline;vertical-align:middle;\" /></a></td></tr>\n",
       "<tr><td>28</td><td>Literal</td><td></td><td><a class=\"ProveItLink\" href=\"../../../negation/__pv_it/2867787e35502987d81a45cac8e7f1c6996d6ff40/expr.ipynb\"><img src=\"../../../negation/__pv_it/2867787e35502987d81a45cac8e7f1c6996d6ff40/expr.png\" style=\"display:inline;vertical-align:middle;\" /></a></td></tr>\n",
       "<tr><td>29</td><td>Variable</td><td></td><td><a class=\"ProveItLink\" href=\"../../../../__pv_it/72df168d2bfb4e0140af90912ebf83b13772060b0/expr.ipynb\"><img src=\"../../../../__pv_it/72df168d2bfb4e0140af90912ebf83b13772060b0/expr.png\" style=\"display:inline;vertical-align:middle;\" /></a></td></tr>\n",
       "</table>\n"
      ],
      "text/plain": [
       "0. (x, y) -> {|round(x) - x| <= |y - x| if x in Reals ,  y in Integers.\n",
       "   core type: Lambda\n",
       "   parameters: 1\\n   body: 2\n",
       "1. (x, y)\n",
       "   core type: ExprTuple\n",
       "   sub-expressions: 29, 25\n",
       "2. {|round(x) - x| <= |y - x| if x in Reals ,  y in Integers.\n",
       "   core type: Conditional\n",
       "   value: 3\n",
       "   condition: 4\n",
       "3. |round(x) - x| <= |y - x|\n",
       "   core type: Operation\n",
       "   operator: 5\n",
       "   operands: 6\n",
       "4. (x in Reals) and (y in Integers)\n",
       "   core type: Operation\n",
       "   operator: 7\n",
       "   operands: 8\n",
       "5. <=\n",
       "   core type: Literal\n",
       "   sub-expressions: \n",
       "6. (|round(x) - x|, |y - x|)\n",
       "   core type: ExprTuple\n",
       "   sub-expressions: 9, 10\n",
       "7. and\n",
       "   core type: Literal\n",
       "   sub-expressions: \n",
       "8. (x in Reals, y in Integers)\n",
       "   core type: ExprTuple\n",
       "   sub-expressions: 11, 12\n",
       "9. |round(x) - x|\n",
       "   core type: Operation\n",
       "   operator: 14\n",
       "   operand: 13\n",
       "10. |y - x|\n",
       "    core type: Operation\n",
       "    operator: 14\n",
       "    operand: 15\n",
       "11. x in Reals\n",
       "    core type: Operation\n",
       "    operator: 17\n",
       "    operands: 16\n",
       "12. y in Integers\n",
       "    core type: Operation\n",
       "    operator: 17\n",
       "    operands: 18\n",
       "13. round(x) - x\n",
       "    core type: Operation\n",
       "    operator: 20\n",
       "    operands: 19\n",
       "14. Abs\n",
       "    core type: Literal\n",
       "    sub-expressions: \n",
       "15. y - x\n",
       "    core type: Operation\n",
       "    operator: 20\n",
       "    operands: 21\n",
       "16. (x, Reals)\n",
       "    core type: ExprTuple\n",
       "    sub-expressions: 29, 22\n",
       "17. in\n",
       "    core type: Literal\n",
       "    sub-expressions: \n",
       "18. (y, Integers)\n",
       "    core type: ExprTuple\n",
       "    sub-expressions: 25, 23\n",
       "19. (round(x), -x)\n",
       "    core type: ExprTuple\n",
       "    sub-expressions: 24, 26\n",
       "20. +\n",
       "    core type: Literal\n",
       "    sub-expressions: \n",
       "21. (y, -x)\n",
       "    core type: ExprTuple\n",
       "    sub-expressions: 25, 26\n",
       "22. Reals\n",
       "    core type: Literal\n",
       "    sub-expressions: \n",
       "23. Integers\n",
       "    core type: Literal\n",
       "    sub-expressions: \n",
       "24. round(x)\n",
       "    core type: Operation\n",
       "    operator: 27\n",
       "    operand: 29\n",
       "25. y\n",
       "    core type: Variable\n",
       "    sub-expressions: \n",
       "26. -x\n",
       "    core type: Operation\n",
       "    operator: 28\n",
       "    operand: 29\n",
       "27. round\n",
       "    core type: Literal\n",
       "    sub-expressions: \n",
       "28. -\n",
       "    core type: Literal\n",
       "    sub-expressions: \n",
       "29. x\n",
       "    core type: Variable\n",
       "    sub-expressions: "
      ]
     },
     "execution_count": 5,
     "metadata": {},
     "output_type": "execute_result"
    }
   ],
   "source": [
    "# display the expression information\n",
    "expr.exprInfo()"
   ]
  },
  {
   "cell_type": "code",
   "execution_count": null,
   "metadata": {},
   "outputs": [],
   "source": []
  }
 ],
 "metadata": {
  "kernelspec": {
   "display_name": "Python 3",
   "language": "python",
   "name": "python3"
  },
  "language_info": {
   "codemirror_mode": {
    "name": "ipython",
    "version": 3
   },
   "file_extension": ".py",
   "mimetype": "text/x-python",
   "name": "python",
   "nbconvert_exporter": "python",
   "pygments_lexer": "ipython3",
   "version": "3.7.3"
  }
 },
 "nbformat": 4,
 "nbformat_minor": 1
}
