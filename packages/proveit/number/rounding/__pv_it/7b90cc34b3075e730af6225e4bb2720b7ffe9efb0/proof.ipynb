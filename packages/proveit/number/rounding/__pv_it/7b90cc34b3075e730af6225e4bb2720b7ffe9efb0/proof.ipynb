{
 "cells": [
  {
   "cell_type": "markdown",
   "metadata": {},
   "source": [
    "Show the Proof\n",
    "========"
   ]
  },
  {
   "cell_type": "code",
   "execution_count": 1,
   "metadata": {},
   "outputs": [
    {
     "data": {
      "text/html": [
       "<table><tr><th>&nbsp;</th><th>step type</th><th>requirements</th><th>statement</th></tr>\n",
       "<tr><td><a name=\"proveit.number.rounding.7b90cc34b3075e730af6225e4bb2720b7ffe9efb0_step0\">0</a></td><td>instantiation</td><td><a href=\"#proveit.number.rounding.7b90cc34b3075e730af6225e4bb2720b7ffe9efb0_step1\">1</a>, <a href=\"#proveit.number.rounding.7b90cc34b3075e730af6225e4bb2720b7ffe9efb0_step2\">2</a></td><td><span style=\"font-size:20px;\"><a class=\"ProveItLink\" href=\"../085c4ac972c56d6f3fe5ddee8d52941a3d61e2620/expr.ipynb\"><img src=\"../085c4ac972c56d6f3fe5ddee8d52941a3d61e2620/expr.png\" style=\"display:inline;vertical-align:middle;\" /></a> <a class=\"ProveItLink\" href=\"proof.ipynb\" style=\"text-decoration: none\">&#x22A2;&nbsp;</a><a class=\"ProveItLink\" href=\"../6965bff7432ea696e82a3e8a12af9ebc45eb6fd70/expr.ipynb\"><img src=\"../6965bff7432ea696e82a3e8a12af9ebc45eb6fd70/expr.png\" style=\"display:inline;vertical-align:middle;\" /></a></span></td></tr>\n",
       "<tr><td>&nbsp;</td><td colspan=4 style=\"text-align:left\"><span style=\"font-size:20px;\"><a class=\"ProveItLink\" href=\"../../../../__pv_it/72df168d2bfb4e0140af90912ebf83b13772060b0/expr.ipynb\"><img src=\"../../../../__pv_it/72df168d2bfb4e0140af90912ebf83b13772060b0/expr.png\" style=\"display:inline;vertical-align:middle;\" /></a> : <a class=\"ProveItLink\" href=\"../dae02b116b74f3ce3d0c92fc1c95ccb6c55db8280/expr.ipynb\"><img src=\"../dae02b116b74f3ce3d0c92fc1c95ccb6c55db8280/expr.png\" style=\"display:inline;vertical-align:middle;\" /></a></span></td></tr><tr><td><a name=\"proveit.number.rounding.7b90cc34b3075e730af6225e4bb2720b7ffe9efb0_step1\">1</a></td><td>theorem</td><td></td><td><span style=\"font-size:20px;\"> <a class=\"ProveItLink\" href=\"../../_proofs_/floorOfInteger.ipynb\" style=\"text-decoration: none\">&#x22A2;&nbsp;</a><a class=\"ProveItLink\" href=\"../654cbd722e452414c0f83cb65629837129d2711d0/expr.ipynb\"><img src=\"../654cbd722e452414c0f83cb65629837129d2711d0/expr.png\" style=\"display:inline;vertical-align:middle;\" /></a></span></td></tr>\n",
       "<tr><td>&nbsp;</td><td colspan=4 style-\"text-align:left\"><a class=\"ProveItLink\" href=\"../../_proofs_/floorOfInteger.ipynb\">proveit.number.rounding.floorOfInteger</a></td></tr><tr><td><a name=\"proveit.number.rounding.7b90cc34b3075e730af6225e4bb2720b7ffe9efb0_step2\">2</a></td><td>instantiation</td><td><a href=\"#proveit.number.rounding.7b90cc34b3075e730af6225e4bb2720b7ffe9efb0_step3\">3</a>, <a href=\"#proveit.number.rounding.7b90cc34b3075e730af6225e4bb2720b7ffe9efb0_step4\">4</a>, <a href=\"#proveit.number.rounding.7b90cc34b3075e730af6225e4bb2720b7ffe9efb0_step5\">5</a></td><td><span style=\"font-size:20px;\"><a class=\"ProveItLink\" href=\"../085c4ac972c56d6f3fe5ddee8d52941a3d61e2620/expr.ipynb\"><img src=\"../085c4ac972c56d6f3fe5ddee8d52941a3d61e2620/expr.png\" style=\"display:inline;vertical-align:middle;\" /></a> <a class=\"ProveItLink\" href=\"../096a9a75ff87212d8bfefc4676f4a302f748fa080/proof.ipynb\" style=\"text-decoration: none\">&#x22A2;&nbsp;</a><a class=\"ProveItLink\" href=\"../68bdcb35796ad54559c4101addc885b4a185151a0/expr.ipynb\"><img src=\"../68bdcb35796ad54559c4101addc885b4a185151a0/expr.png\" style=\"display:inline;vertical-align:middle;\" /></a></span></td></tr>\n",
       "<tr><td>&nbsp;</td><td colspan=4 style=\"text-align:left\"><span style=\"font-size:20px;\"><a class=\"ProveItLink\" href=\"../../../../__pv_it/a8d4b3a34d2189508f9082853fbac36935714f280/expr.ipynb\"><img src=\"../../../../__pv_it/a8d4b3a34d2189508f9082853fbac36935714f280/expr.png\" style=\"display:inline;vertical-align:middle;\" /></a> : <a class=\"ProveItLink\" href=\"../../../../__pv_it/72df168d2bfb4e0140af90912ebf83b13772060b0/expr.ipynb\"><img src=\"../../../../__pv_it/72df168d2bfb4e0140af90912ebf83b13772060b0/expr.png\" style=\"display:inline;vertical-align:middle;\" /></a>, <a class=\"ProveItLink\" href=\"../../../../__pv_it/53e304ff98ebc000dbe3ef224f4637dbafd46ba70/expr.ipynb\"><img src=\"../../../../__pv_it/53e304ff98ebc000dbe3ef224f4637dbafd46ba70/expr.png\" style=\"display:inline;vertical-align:middle;\" /></a> : <a class=\"ProveItLink\" href=\"../../../../__pv_it/c6e291955561f22a0e6708fd793ea93f1c7dbb5d0/expr.ipynb\"><img src=\"../../../../__pv_it/c6e291955561f22a0e6708fd793ea93f1c7dbb5d0/expr.png\" style=\"display:inline;vertical-align:middle;\" /></a></span></td></tr><tr><td><a name=\"proveit.number.rounding.7b90cc34b3075e730af6225e4bb2720b7ffe9efb0_step3\">3</a></td><td>theorem</td><td></td><td><span style=\"font-size:20px;\"> <a class=\"ProveItLink\" href=\"../../../addition/_proofs_/addIntClosureBin.ipynb\" style=\"text-decoration: none\">&#x22A2;&nbsp;</a><a class=\"ProveItLink\" href=\"../08c6877be05135754c12c79d881f6d848d674e340/expr.ipynb\"><img src=\"../08c6877be05135754c12c79d881f6d848d674e340/expr.png\" style=\"display:inline;vertical-align:middle;\" /></a></span></td></tr>\n",
       "<tr><td>&nbsp;</td><td colspan=4 style-\"text-align:left\"><a class=\"ProveItLink\" href=\"../../../addition/_proofs_/addIntClosureBin.ipynb\">proveit.number.addition.addIntClosureBin</a></td></tr><tr><td><a name=\"proveit.number.rounding.7b90cc34b3075e730af6225e4bb2720b7ffe9efb0_step4\">4</a></td><td>assumption</td><td></td><td><span style=\"font-size:20px;\"><a class=\"ProveItLink\" href=\"../6dec1e51403b31c4f3d43ddb291efaacd18509640/expr.ipynb\"><img src=\"../6dec1e51403b31c4f3d43ddb291efaacd18509640/expr.png\" style=\"display:inline;vertical-align:middle;\" /></a> <a class=\"ProveItLink\" href=\"../d09cd4d1a3858387707d5f395fabc110db8205640/proof.ipynb\" style=\"text-decoration: none\">&#x22A2;&nbsp;</a><a class=\"ProveItLink\" href=\"../d515ce3aad14983325a037b8f8a38f2ab658b6420/expr.ipynb\"><img src=\"../d515ce3aad14983325a037b8f8a38f2ab658b6420/expr.png\" style=\"display:inline;vertical-align:middle;\" /></a></span></td></tr>\n",
       "<tr><td><a name=\"proveit.number.rounding.7b90cc34b3075e730af6225e4bb2720b7ffe9efb0_step5\">5</a></td><td>assumption</td><td></td><td><span style=\"font-size:20px;\"><a class=\"ProveItLink\" href=\"../42b986c8cf0ec6f9432b7c40538eb714ce926e450/expr.ipynb\"><img src=\"../42b986c8cf0ec6f9432b7c40538eb714ce926e450/expr.png\" style=\"display:inline;vertical-align:middle;\" /></a> <a class=\"ProveItLink\" href=\"../9edcd7c8928c6688c28f69e6c262c89d5b5a84280/proof.ipynb\" style=\"text-decoration: none\">&#x22A2;&nbsp;</a><a class=\"ProveItLink\" href=\"../7df736183c763745359b8cf717a72d82adc5de530/expr.ipynb\"><img src=\"../7df736183c763745359b8cf717a72d82adc5de530/expr.png\" style=\"display:inline;vertical-align:middle;\" /></a></span></td></tr>\n",
       "</table>"
      ],
      "text/plain": [
       "<proveit._core_.proof._ShowProof at 0x7f5b8a90e710>"
      ]
     },
     "execution_count": 1,
     "metadata": {},
     "output_type": "execute_result"
    }
   ],
   "source": [
    "import proveit\n",
    "# Automation is not needed when only showing a stored proof:\n",
    "proveit.defaults.automation = False # This will speed things up.\n",
    "proveit.defaults.inline_pngs = False # Makes files smaller.\n",
    "%show_proof"
   ]
  },
  {
   "cell_type": "code",
   "execution_count": null,
   "metadata": {},
   "outputs": [],
   "source": []
  }
 ],
 "metadata": {
  "kernelspec": {
   "display_name": "Python 3",
   "language": "python",
   "name": "python3"
  },
  "language_info": {
   "codemirror_mode": {
    "name": "ipython",
    "version": 3
   },
   "file_extension": ".py",
   "mimetype": "text/x-python",
   "name": "python",
   "nbconvert_exporter": "python",
   "pygments_lexer": "ipython3",
   "version": "3.7.3"
  }
 },
 "nbformat": 4,
 "nbformat_minor": 1
}
