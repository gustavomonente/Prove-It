{
 "cells": [
  {
   "cell_type": "markdown",
   "metadata": {},
   "source": [
    "Theorems (or conjectures) for the theory of <a class=\"ProveItLink\" href=\"_theory_.ipynb\">proveit.number.rounding</a>\n",
    "========"
   ]
  },
  {
   "cell_type": "code",
   "execution_count": null,
   "metadata": {},
   "outputs": [],
   "source": [
    "import proveit\n",
    "# Prepare this notebook for defining the theorems of a theory:\n",
    "%theorems_notebook # Keep this at the top following 'import proveit'.\n",
    "from proveit._common_ import a, n, x, y\n",
    "from proveit.logic import Equals, Forall, InSet\n",
    "from proveit.number import (Add, Ceil, Floor, frac, GreaterEq, LessEq,\n",
    "                            Neg, Round, subtract)\n",
    "from proveit.number import (zero, one, two, Integers, Naturals,\n",
    "                            NaturalsPos, Reals, RealsPos)"
   ]
  },
  {
   "cell_type": "code",
   "execution_count": null,
   "metadata": {},
   "outputs": [],
   "source": [
    "%begin theorems"
   ]
  },
  {
   "cell_type": "markdown",
   "metadata": {},
   "source": [
    "### Basic Properties of Ceil, Floor, & Round"
   ]
  },
  {
   "cell_type": "code",
   "execution_count": null,
   "metadata": {},
   "outputs": [],
   "source": [
    "ceilOfInteger = Forall(x, Equals(Ceil(x), x), domain=Integers)"
   ]
  },
  {
   "cell_type": "code",
   "execution_count": null,
   "metadata": {},
   "outputs": [],
   "source": [
    "floorOfInteger = Forall(x, Equals(Floor(x), x), domain=Integers)"
   ]
  },
  {
   "cell_type": "code",
   "execution_count": null,
   "metadata": {},
   "outputs": [],
   "source": [
    "roundOfInteger = Forall(x, Equals(Round(x), x), domain=Integers)"
   ]
  },
  {
   "cell_type": "code",
   "execution_count": null,
   "metadata": {},
   "outputs": [],
   "source": [
    "ceilOfSumLessEq = Forall(\n",
    "    (x, y),\n",
    "    LessEq(Ceil(Add(x,y)), Add(Ceil(x), Ceil(y))),\n",
    "    domain=Reals)"
   ]
  },
  {
   "cell_type": "code",
   "execution_count": null,
   "metadata": {},
   "outputs": [],
   "source": [
    "ceilOfSumGreaterEq = Forall(\n",
    "    (x, y),\n",
    "    GreaterEq(Ceil(Add(x,y)), subtract(Add(Ceil(x), Ceil(y)), one)),\n",
    "    domain=Reals)"
   ]
  },
  {
   "cell_type": "code",
   "execution_count": null,
   "metadata": {},
   "outputs": [],
   "source": [
    "floorOfSumLessEq = Forall(\n",
    "    (x, y),\n",
    "    LessEq(Floor(Add(x,y)), Add(Floor(x), Floor(y), one)),\n",
    "    domain=Reals)"
   ]
  },
  {
   "cell_type": "code",
   "execution_count": null,
   "metadata": {},
   "outputs": [],
   "source": [
    "floorOfSumGreaterEq = Forall(\n",
    "    (x, y),\n",
    "    GreaterEq(Floor(Add(x,y)), Add(Floor(x), Floor(y))),\n",
    "    domain=Reals)"
   ]
  },
  {
   "cell_type": "code",
   "execution_count": null,
   "metadata": {},
   "outputs": [],
   "source": [
    "ceilOfRealPlusInt = Forall(\n",
    "    x,\n",
    "    Forall(n,\n",
    "           Equals(Ceil(Add(x, n)), Add(Ceil(x), n)),\n",
    "           domain=Integers),\n",
    "    domain=Reals)"
   ]
  },
  {
   "cell_type": "code",
   "execution_count": null,
   "metadata": {},
   "outputs": [],
   "source": [
    "floorOfRealPlusInt = Forall(\n",
    "    x,\n",
    "    Forall(n,\n",
    "           Equals(Floor(Add(x, n)), Add(Floor(x), n)),\n",
    "           domain=Integers),\n",
    "    domain=Reals)"
   ]
  },
  {
   "cell_type": "code",
   "execution_count": null,
   "metadata": {},
   "outputs": [],
   "source": [
    "roundOfRealPlusInt = Forall(\n",
    "    x,\n",
    "    Forall(n,\n",
    "           Equals(Round(Add(x, n)), Add(Round(x), n)),\n",
    "           domain=Integers),\n",
    "    domain=Reals)"
   ]
  },
  {
   "cell_type": "markdown",
   "metadata": {},
   "source": [
    "### Ceil, Floor, and Round functions are idempotent"
   ]
  },
  {
   "cell_type": "code",
   "execution_count": null,
   "metadata": {},
   "outputs": [],
   "source": [
    "ceilOfCeil = Forall(\n",
    "    x,\n",
    "    Equals(Ceil(Ceil(x)), Ceil(x)),\n",
    "    domain=Reals)"
   ]
  },
  {
   "cell_type": "code",
   "execution_count": null,
   "metadata": {},
   "outputs": [],
   "source": [
    "floorOfFloor = Forall(\n",
    "    x,\n",
    "    Equals(Floor(Floor(x)), Floor(x)),\n",
    "    domain=Reals)"
   ]
  },
  {
   "cell_type": "code",
   "execution_count": null,
   "metadata": {},
   "outputs": [],
   "source": [
    "roundOfRound = Forall(\n",
    "    x,\n",
    "    Equals(Round(Round(x)), Round(x)),\n",
    "    domain=Reals)"
   ]
  },
  {
   "cell_type": "markdown",
   "metadata": {},
   "source": [
    "### Relating Ceil, Floor, and Round"
   ]
  },
  {
   "cell_type": "code",
   "execution_count": null,
   "metadata": {},
   "outputs": [],
   "source": [
    "floorLessEqCeil = Forall(\n",
    "    x,\n",
    "    LessEq(Floor(x), Ceil(x)),\n",
    "    domain=Reals)"
   ]
  },
  {
   "cell_type": "code",
   "execution_count": null,
   "metadata": {},
   "outputs": [],
   "source": [
    "floorEqualCeilForInt = Forall(\n",
    "    n,\n",
    "    Equals(Floor(n), Ceil(n)),\n",
    "    domain=Integers)"
   ]
  },
  {
   "cell_type": "code",
   "execution_count": null,
   "metadata": {},
   "outputs": [],
   "source": [
    "floorPlusCeilOfNeg = Forall(\n",
    "    x,\n",
    "    Equals(Add(Floor(x), Ceil(Neg(x))), zero),\n",
    "    domain=Reals)"
   ]
  },
  {
   "cell_type": "code",
   "execution_count": null,
   "metadata": {},
   "outputs": [],
   "source": [
    "floorOfCeil = Forall(\n",
    "    x,\n",
    "    Equals(Floor(Ceil(x)), Ceil(x)),\n",
    "    domain=Reals)"
   ]
  },
  {
   "cell_type": "code",
   "execution_count": null,
   "metadata": {},
   "outputs": [],
   "source": [
    "ceilOfFloor = Forall(\n",
    "    x,\n",
    "    Equals(Ceil(Floor(x)), Floor(x)),\n",
    "    domain=Reals)"
   ]
  },
  {
   "cell_type": "code",
   "execution_count": null,
   "metadata": {},
   "outputs": [],
   "source": [
    "roundInTermsOfFloor = Forall(\n",
    "    x,\n",
    "    Equals(Round(x), Floor(Add(x, frac(one, two)))),\n",
    "    domain=Reals)"
   ]
  },
  {
   "cell_type": "code",
   "execution_count": null,
   "metadata": {},
   "outputs": [],
   "source": [
    "roundInTermsOfCeil = Forall(\n",
    "    x,\n",
    "    Equals(Round(x), Ceil(subtract(x, frac(one, two)))),\n",
    "    domain=Reals)"
   ]
  },
  {
   "cell_type": "markdown",
   "metadata": {},
   "source": [
    "### Closure Theorems\n",
    "#### _Note: the identifications of Ceil(x), Floor(x), and Round(x) as Integers appear as axioms in the axioms notebook._"
   ]
  },
  {
   "cell_type": "code",
   "execution_count": null,
   "metadata": {},
   "outputs": [],
   "source": [
    "roundRealPosClosure = Forall(x, InSet(Round(x), Naturals), domain=RealsPos)"
   ]
  },
  {
   "cell_type": "code",
   "execution_count": null,
   "metadata": {},
   "outputs": [],
   "source": [
    "ceilRealPosClosure = Forall(x, InSet(Ceil(x), NaturalsPos), domain=RealsPos)"
   ]
  },
  {
   "cell_type": "code",
   "execution_count": null,
   "metadata": {},
   "outputs": [],
   "source": [
    "floorRealPosClosure = Forall(x, InSet(Floor(x), Naturals), domain=RealsPos)"
   ]
  },
  {
   "cell_type": "code",
   "execution_count": null,
   "metadata": {},
   "outputs": [],
   "source": [
    "%end theorems"
   ]
  }
 ],
 "metadata": {
  "kernelspec": {
   "display_name": "Python 3",
   "language": "python",
   "name": "python3"
  }
 },
 "nbformat": 4,
 "nbformat_minor": 0
}
