{
 "cells": [
  {
   "cell_type": "markdown",
   "metadata": {},
   "source": [
    "Demonstrations for context <a class=\"ProveItLink\" href=\"_context_.ipynb\">proveit.number.rounding</a>\n",
    "========"
   ]
  },
  {
   "cell_type": "code",
   "execution_count": null,
   "metadata": {},
   "outputs": [],
   "source": [
    "import proveit\n",
    "from proveit._common_ import x, y\n",
    "from proveit.logic import InSet\n",
    "from proveit.number import Add, subtract\n",
    "from proveit.number import one, two, Complexes, Integers, Naturals, Reals, RealsPos\n",
    "from proveit.number.rounding import Ceil, Floor, Round\n",
    "%begin demonstrations"
   ]
  },
  {
   "cell_type": "markdown",
   "metadata": {},
   "source": [
    "# Rounding $\\text{round}(x), \\lceil{x}\\rceil, \\lfloor{x}\\rfloor$"
   ]
  },
  {
   "cell_type": "markdown",
   "metadata": {},
   "source": [
    "<div style=\"line-height:1.4; font-size:14pt\">\n",
    "\n",
    "<a href='#introduction'>Introduction</a><br>\n",
    "<a href='#simple_expressions'>Simple Expressions involving Rounding: $\\text{round}(x)$, $\\lfloor{x}\\rfloor$, $\\lceil{x}\\rceil$</a><br>\n",
    "<a href='#common_attributes'>Common Attributes of the Floor Expression $\\lfloor{x}\\rfloor$ </a><br>\n",
    "<a href='#axioms'>Axioms</a><br>\n",
    "<a href='#theorems'>Theorems</a><br>\n",
    "<a href='#further_demonstrations'>Further Demonstrations</a><br>\n",
    "    <ol>\n",
    "        <li><a href='#demo01'>Simplifying $\\text{round}((x+y)+(1+2))$</a></li>\n",
    "        <li><a href='#demo02'>TBA</a></li>\n",
    "        <li><a href='#demo03'>TBA</a></li>\n",
    "    </ol>\n",
    "\n",
    "</div>\n"
   ]
  },
  {
   "cell_type": "markdown",
   "metadata": {},
   "source": [
    "<a id='introduction'></a>\n",
    "## Introduction "
   ]
  },
  {
   "cell_type": "markdown",
   "metadata": {},
   "source": [
    "<font size=4>The `Round`, `Ceil`, and `Floor` classes allow us to represent standard rounding functions that take arbitrary real numbers to nearby integers in the usual way: $\\text{Round}(x) = z$ represents the rounding of a real number $x$ to the nearest integer $z$; $\\text{Ceil}(x) = \\lceil{x}\\rceil = z$ represents the rounding of a real number x to the smallest integer $z$ that is greater than or equal to $x$; and $\\text{Floor}(x) = \\lfloor{x}\\rfloor = z$ represents the rounding of a real number x to the largest integer $z$ that is less than or equal to $x$. This ``_demonstrations_`` notebook explores the `Round`, `Ceil`, and `Floor` classes, their axioms and common theorems, and related methods.</font>"
   ]
  },
  {
   "cell_type": "markdown",
   "metadata": {},
   "source": [
    "<a id='simple_expressions'></a>\n",
    "## Simple Expressions Involving Rounding: $\\text{Round}(x)$, $\\text{Ceil}(x) = \\lceil{x}\\rceil$, $\\text{Floor}(x) = \\lfloor{x}\\rfloor$"
   ]
  },
  {
   "cell_type": "markdown",
   "metadata": {},
   "source": [
    "<font size=4>It is straightforward to construct expressions to represent the various types of rounding operations on real numbers. Here are some basic examples of such expressions:</font>"
   ]
  },
  {
   "cell_type": "code",
   "execution_count": null,
   "metadata": {},
   "outputs": [],
   "source": [
    "# representing basic rounding of a real number x\n",
    "Round(x)"
   ]
  },
  {
   "cell_type": "code",
   "execution_count": null,
   "metadata": {},
   "outputs": [],
   "source": [
    "# representing the ceiling of a real sum\n",
    "Ceil(Add(x, y))"
   ]
  },
  {
   "cell_type": "code",
   "execution_count": null,
   "metadata": {},
   "outputs": [],
   "source": [
    "# representing the floor of a real difference\n",
    "Floor(subtract(x, y))"
   ]
  },
  {
   "cell_type": "markdown",
   "metadata": {},
   "source": [
    "<a id='common_attributes'></a>\n",
    "## Common Attributes of a Floor expression $\\lfloor{x}\\rfloor$"
   ]
  },
  {
   "cell_type": "markdown",
   "metadata": {},
   "source": [
    "<font size=4>Let's define a simple example `Floor()` expression, $\\lfloor{x-y}\\rfloor$, and look at some of its attributes.</font>"
   ]
  },
  {
   "cell_type": "code",
   "execution_count": null,
   "metadata": {},
   "outputs": [],
   "source": [
    "floor_x_minus_y = Floor(subtract(x,y))"
   ]
  },
  {
   "cell_type": "code",
   "execution_count": null,
   "metadata": {},
   "outputs": [],
   "source": [
    "floor_x_minus_y.exprInfo()"
   ]
  },
  {
   "cell_type": "markdown",
   "metadata": {},
   "source": [
    "<font size=4>We can access the Floor operand $x-y$, and identify the `Floor` operator as the outermost operation:</font>"
   ]
  },
  {
   "cell_type": "code",
   "execution_count": null,
   "metadata": {},
   "outputs": [],
   "source": [
    "floor_x_minus_y.operand"
   ]
  },
  {
   "cell_type": "code",
   "execution_count": null,
   "metadata": {},
   "outputs": [],
   "source": [
    "floor_x_minus_y.operator"
   ]
  },
  {
   "cell_type": "markdown",
   "metadata": {},
   "source": [
    "<font size=4>We can also get a list of the variables and a list of the free variables:</font>"
   ]
  },
  {
   "cell_type": "code",
   "execution_count": null,
   "metadata": {},
   "outputs": [],
   "source": [
    "floor_x_minus_y.usedVars()"
   ]
  },
  {
   "cell_type": "code",
   "execution_count": null,
   "metadata": {},
   "outputs": [],
   "source": [
    "floor_x_minus_y.freeVars()"
   ]
  },
  {
   "cell_type": "markdown",
   "metadata": {},
   "source": [
    "<font size=4>And of course, we can reach down inside and look at the structure of the operand itself, which in this case consists of a special Add() expression:</font>"
   ]
  },
  {
   "cell_type": "code",
   "execution_count": null,
   "metadata": {},
   "outputs": [],
   "source": [
    "# operator inside the operand inside the Floor\n",
    "floor_x_minus_y.operand.operator"
   ]
  },
  {
   "cell_type": "code",
   "execution_count": null,
   "metadata": {},
   "outputs": [],
   "source": [
    "# info about the operand itself\n",
    "floor_x_minus_y.operand.exprInfo()"
   ]
  },
  {
   "cell_type": "markdown",
   "metadata": {},
   "source": [
    "## Axioms <a id='axioms'></a>"
   ]
  },
  {
   "cell_type": "markdown",
   "metadata": {},
   "source": [
    "<font size=4>The ``axioms`` for the rounding context establish the basic properties of the ceiling and floor functions.</font>"
   ]
  },
  {
   "cell_type": "code",
   "execution_count": null,
   "metadata": {},
   "outputs": [],
   "source": [
    "from proveit.number.rounding._axioms_ import ceilDef, floorDef, roundDefCeil, roundDefFloor"
   ]
  },
  {
   "cell_type": "code",
   "execution_count": null,
   "metadata": {},
   "outputs": [],
   "source": [
    "ceilDef"
   ]
  },
  {
   "cell_type": "code",
   "execution_count": null,
   "metadata": {},
   "outputs": [],
   "source": [
    "floorDef"
   ]
  },
  {
   "cell_type": "markdown",
   "metadata": {},
   "source": [
    "<font size=4>And then we can define the rounding function class in terms of the ceiling or floor functions:</font>"
   ]
  },
  {
   "cell_type": "code",
   "execution_count": null,
   "metadata": {},
   "outputs": [],
   "source": [
    "roundDefCeil"
   ]
  },
  {
   "cell_type": "code",
   "execution_count": null,
   "metadata": {},
   "outputs": [],
   "source": [
    "roundDefFloor"
   ]
  },
  {
   "cell_type": "markdown",
   "metadata": {},
   "source": [
    "## Theorems <a id='theorems'></a>"
   ]
  },
  {
   "cell_type": "markdown",
   "metadata": {},
   "source": [
    "<font size=4>The ``theorems`` for the rounding context establish many of the basic properties of the rounding, ceiling, and floor function classes, as well as a variety of principles. Many of the theorems are then used for related class methods.<br/>\n",
    "Below we show a few examples of such theorems:</font>"
   ]
  },
  {
   "cell_type": "code",
   "execution_count": null,
   "metadata": {},
   "outputs": [],
   "source": [
    "## 80 spaces ===================================================================\n",
    "from proveit.number.rounding._theorems_ import (\n",
    "        ceilOfInteger, floorOfSumGreaterEq, floorOfFloor, floorPlusCeilOfNeg)"
   ]
  },
  {
   "cell_type": "code",
   "execution_count": null,
   "metadata": {},
   "outputs": [],
   "source": [
    "# The ceiling of an integer is just itself\n",
    "ceilOfInteger"
   ]
  },
  {
   "cell_type": "code",
   "execution_count": null,
   "metadata": {},
   "outputs": [],
   "source": [
    "# The floor of a sum is greater than or equal to the sum of the floors\n",
    "floorOfSumGreaterEq"
   ]
  },
  {
   "cell_type": "code",
   "execution_count": null,
   "metadata": {},
   "outputs": [],
   "source": [
    "# The floor function is idempotent\n",
    "floorOfFloor"
   ]
  },
  {
   "cell_type": "code",
   "execution_count": null,
   "metadata": {},
   "outputs": [],
   "source": [
    "# An example relating the floor and ceiling functions\n",
    "floorPlusCeilOfNeg"
   ]
  },
  {
   "cell_type": "markdown",
   "metadata": {},
   "source": [
    "## Demonstrations (under construction) <a id='further_demonstrations'></a>"
   ]
  },
  {
   "cell_type": "markdown",
   "metadata": {},
   "source": [
    "<a id='demo01'></a><font size=3>1. Simplifying $\\textit{round}((x+y)+(1+2))$.<br><br>\n",
    "We consider the simplification of the rounding expression $\\textit{round}((x+y)+(1+2))$, calling upon the Round.doReducedSimplification() method, which works to apply one of two possible simplification theorems involving integer operands.<br>\n",
    "First, we define our expression:</font>"
   ]
  },
  {
   "cell_type": "code",
   "execution_count": null,
   "metadata": {},
   "outputs": [],
   "source": [
    "round_xplusy_plus_1plus2 = Round(Add(Add(x,y), Add(one, two)))"
   ]
  },
  {
   "cell_type": "markdown",
   "metadata": {},
   "source": [
    "<font size=3>If we know nothing about the addends $x$ and $y$, we will get an error:</font>"
   ]
  },
  {
   "cell_type": "code",
   "execution_count": null,
   "metadata": {},
   "outputs": [],
   "source": [
    "# If addends are not know to be integers or reals \n",
    "from proveit import ProofFailure\n",
    "try:\n",
    "    round_xplusy_plus_1plus2.doReducedSimplification()\n",
    "except ProofFailure as e:\n",
    "    print(\"EXCEPTION: the simplification theorems do not apply without more constraints. \", e)"
   ]
  },
  {
   "cell_type": "markdown",
   "metadata": {},
   "source": [
    "<font size=3>But if we know that $x$ and $y$ are real (either because we already know that from previous work or, as we do here, we supply that information as assumptions), the simplification goes through, with Prove-It deducing on its own that the sum $(1+2)$ is an integer:</font>"
   ]
  },
  {
   "cell_type": "code",
   "execution_count": null,
   "metadata": {},
   "outputs": [],
   "source": [
    "round_xplusy_plus_1plus2.doReducedSimplification(assumptions=[InSet(x, Reals), InSet(y, Reals), InSet(Add(one, two), Integers)])"
   ]
  },
  {
   "cell_type": "markdown",
   "metadata": {},
   "source": [
    "<a id='demo02'></a><font size=4><br>2. TBA.<br><br>\n",
    "Something else relatively simple …</font>"
   ]
  },
  {
   "cell_type": "markdown",
   "metadata": {},
   "source": [
    "<a id='demo03'></a><font size=4><br>3. TBA.<br><br>\n",
    "Something more complex …</font>"
   ]
  },
  {
   "cell_type": "markdown",
   "metadata": {},
   "source": [
    "## Misc Testing\n",
    "Some of this to be integrated into the `_demonstrations_` page eventually and/or deleted as development continues."
   ]
  },
  {
   "cell_type": "code",
   "execution_count": null,
   "metadata": {},
   "outputs": [],
   "source": [
    "# Some example test expressions involving Round, Ceil, Floor\n",
    "round_x, round_x_plus_y, round_1_plus_2, round_x_plus_2, round_add_xy12, round_add_add = (\n",
    "    Round(x), Round(Add(x, y)), Round(Add(one, two)), Round(Add(x, two)), Round(Add(x, y, one, two)), Round(Add(Add(x, y),Add(one, two))))"
   ]
  },
  {
   "cell_type": "code",
   "execution_count": null,
   "metadata": {},
   "outputs": [],
   "source": [
    "# Some example test expressions involving Round, Ceil, Floor\n",
    "ceil_x_minus_y, ceil_x_minus_y_plus_2, floor_x_plus_y, floor_x_plus_y_plus_1 = (\n",
    "    Ceil(subtract(x,y)), Ceil(Add(subtract(x,y), two)), Floor(Add(x, y)), Floor(Add(subtract(x,y), one)))"
   ]
  },
  {
   "cell_type": "code",
   "execution_count": null,
   "metadata": {},
   "outputs": [],
   "source": [
    "# Some other example test expressions involving Round, Ceil, Floor\n",
    "round_2, ceil_2, floor_2 = Round(two), Ceil(two), Floor(two)"
   ]
  },
  {
   "cell_type": "markdown",
   "metadata": {},
   "source": [
    "<font size=4>Some testing of the `_closureTheorem()` method(s).</font>"
   ]
  },
  {
   "cell_type": "code",
   "execution_count": null,
   "metadata": {},
   "outputs": [],
   "source": [
    "round_x._closureTheorem(Integers)"
   ]
  },
  {
   "cell_type": "code",
   "execution_count": null,
   "metadata": {},
   "outputs": [],
   "source": [
    "round_x._closureTheorem(Naturals)"
   ]
  },
  {
   "cell_type": "code",
   "execution_count": null,
   "metadata": {},
   "outputs": [],
   "source": [
    "ceil_x_minus_y._closureTheorem(Integers)"
   ]
  },
  {
   "cell_type": "code",
   "execution_count": null,
   "metadata": {},
   "outputs": [],
   "source": [
    "ceil_x_minus_y._closureTheorem(Naturals)"
   ]
  },
  {
   "cell_type": "code",
   "execution_count": null,
   "metadata": {},
   "outputs": [],
   "source": [
    "floor_x_plus_y._closureTheorem(Integers)"
   ]
  },
  {
   "cell_type": "code",
   "execution_count": null,
   "metadata": {},
   "outputs": [],
   "source": [
    "floor_x_plus_y._closureTheorem(Naturals)"
   ]
  },
  {
   "cell_type": "markdown",
   "metadata": {},
   "source": [
    "<font size=4>Some testing of the `deduceInNumberSet()` method(s).</font>"
   ]
  },
  {
   "cell_type": "code",
   "execution_count": null,
   "metadata": {},
   "outputs": [],
   "source": [
    "ceil_x_minus_y.deduceInNumberSet(Integers, assumptions=[InSet(subtract(x,y), Reals)])"
   ]
  },
  {
   "cell_type": "code",
   "execution_count": null,
   "metadata": {},
   "outputs": [],
   "source": [
    "ceil_x_minus_y.deduceInNumberSet(Naturals, assumptions=[InSet(subtract(x,y), RealsPos)])"
   ]
  },
  {
   "cell_type": "code",
   "execution_count": null,
   "metadata": {},
   "outputs": [],
   "source": [
    "# If we don't at least know the operand is real-valued,\n",
    "# difficult to know what set(s) the result belongs to \n",
    "try:\n",
    "    ceil_x_minus_y.deduceInNumberSet(Integers)\n",
    "except Exception as e:\n",
    "    print(\"EXCEPTION: the closure theorems do not apply without more constraints. \", e)"
   ]
  },
  {
   "cell_type": "code",
   "execution_count": null,
   "metadata": {},
   "outputs": [],
   "source": [
    "floor_x_plus_y.deduceInNumberSet(Integers, assumptions=[InSet(Add(x,y), Reals)])"
   ]
  },
  {
   "cell_type": "code",
   "execution_count": null,
   "metadata": {},
   "outputs": [],
   "source": [
    "floor_x_plus_y.deduceInNumberSet(Naturals, assumptions=[InSet(Add(x,y), RealsPos)])"
   ]
  },
  {
   "cell_type": "code",
   "execution_count": null,
   "metadata": {},
   "outputs": [],
   "source": [
    "# If we don't at least know the operand is real-valued,\n",
    "# difficult to know what set(s) the result belongs to \n",
    "try:\n",
    "    floor_x_plus_y.deduceInNumberSet(Integers)\n",
    "except Exception as e:\n",
    "    print(\"EXCEPTION: the closure theorems do not apply without more constraints. \", e)"
   ]
  },
  {
   "cell_type": "code",
   "execution_count": null,
   "metadata": {},
   "outputs": [],
   "source": [
    "round_x.deduceInNumberSet(Integers, assumptions=[InSet(x, Reals)])"
   ]
  },
  {
   "cell_type": "code",
   "execution_count": null,
   "metadata": {},
   "outputs": [],
   "source": [
    "round_x.deduceInNumberSet(Naturals, assumptions=[InSet(x, RealsPos)])"
   ]
  },
  {
   "cell_type": "code",
   "execution_count": null,
   "metadata": {},
   "outputs": [],
   "source": [
    "# If we don't at least know the operand is real-valued,\n",
    "# difficult to know what set(s) the result belongs to \n",
    "try:\n",
    "    round_x.deduceInNumberSet(Integers)\n",
    "except Exception as e:\n",
    "    print(\"EXCEPTION: the closure theorems do not apply without more constraints. \", e)"
   ]
  },
  {
   "cell_type": "markdown",
   "metadata": {},
   "source": [
    "<font size=4>Some testing of the `doReducedSimplification()` method(s), allowing the simplification of `Ceil(x)`, `Floor(x)`, and `Round(x)` to the operand $x$ when we know $x\\in\\mathbb{Z}$, and simplification of `f(x+n)` to `f(x)+n` when $x$ is real and $n\\in\\mathbb{Z}$.</font>"
   ]
  },
  {
   "cell_type": "code",
   "execution_count": null,
   "metadata": {},
   "outputs": [],
   "source": [
    "# simplifying ceiling of an integer\n",
    "ceil_2.doReducedSimplification()"
   ]
  },
  {
   "cell_type": "code",
   "execution_count": null,
   "metadata": {},
   "outputs": [],
   "source": [
    "# simplifying ceiling of expression assumed to be an integer\n",
    "ceil_x_minus_y.doReducedSimplification(assumptions=[InSet(subtract(x, y), Integers)])"
   ]
  },
  {
   "cell_type": "code",
   "execution_count": null,
   "metadata": {},
   "outputs": [],
   "source": [
    "# simplifying ceiling of a sum of an assumed real and an assumed integer\n",
    "ceil_x_minus_y.doReducedSimplification(assumptions=[InSet(x, Reals), InSet(y, Integers)])"
   ]
  },
  {
   "cell_type": "code",
   "execution_count": null,
   "metadata": {},
   "outputs": [],
   "source": [
    "# simplifying ceiling of a sum of an assumed real and an actual integer\n",
    "ceil_x_minus_y_plus_2.doReducedSimplification(assumptions=[InSet(x, Reals), InSet(y, Integers)])"
   ]
  },
  {
   "cell_type": "code",
   "execution_count": null,
   "metadata": {},
   "outputs": [],
   "source": [
    "# simplifying floor of an integer\n",
    "floor_2.doReducedSimplification()"
   ]
  },
  {
   "cell_type": "code",
   "execution_count": null,
   "metadata": {},
   "outputs": [],
   "source": [
    "# simplifying floor of expression assumed to be an integer\n",
    "floor_x_plus_y.doReducedSimplification(assumptions=[InSet(x, Integers), InSet(y, Integers)])"
   ]
  },
  {
   "cell_type": "code",
   "execution_count": null,
   "metadata": {},
   "outputs": [],
   "source": [
    "# simplifying floor of a sum of an assumed real and an assumed integer\n",
    "floor_x_plus_y.doReducedSimplification(assumptions=[InSet(x, Reals), InSet(y, Integers)])"
   ]
  },
  {
   "cell_type": "code",
   "execution_count": null,
   "metadata": {},
   "outputs": [],
   "source": [
    "# simplifying floor of a sum of an assumed real and an actual integer\n",
    "floor_x_plus_y_plus_1.doReducedSimplification(assumptions=[InSet(x, Reals), InSet(y, Integers)])"
   ]
  },
  {
   "cell_type": "markdown",
   "metadata": {},
   "source": [
    "<font size=3>Testing of Round.doReducedSimplification()</font>"
   ]
  },
  {
   "cell_type": "code",
   "execution_count": null,
   "metadata": {},
   "outputs": [],
   "source": [
    "round_2.doReducedSimplification()"
   ]
  },
  {
   "cell_type": "code",
   "execution_count": null,
   "metadata": {},
   "outputs": [],
   "source": [
    "round_1_plus_2.roundingElimination()"
   ]
  },
  {
   "cell_type": "code",
   "execution_count": null,
   "metadata": {},
   "outputs": [],
   "source": [
    "round_x.doReducedSimplification(assumptions=[InSet(x, Integers)])"
   ]
  },
  {
   "cell_type": "code",
   "execution_count": null,
   "metadata": {},
   "outputs": [],
   "source": [
    "round_x_plus_y.doReducedSimplification(assumptions=[InSet(x, Reals), InSet(y, Integers)])"
   ]
  },
  {
   "cell_type": "code",
   "execution_count": null,
   "metadata": {},
   "outputs": [],
   "source": [
    "round_x_plus_2.doReducedSimplification(assumptions=[InSet(x, Reals)])"
   ]
  },
  {
   "cell_type": "code",
   "execution_count": null,
   "metadata": {},
   "outputs": [],
   "source": [
    "# If operand is not already known to be an integer\n",
    "try:\n",
    "    round_add_add.doReducedSimplification(assumptions=[InSet(Add(x,y), Reals)])\n",
    "except Exception as e:\n",
    "    print(\"EXCEPTION: the simplification theorems do not apply \"\n",
    "          \"without more constraints. \", e)"
   ]
  },
  {
   "cell_type": "code",
   "execution_count": null,
   "metadata": {},
   "outputs": [],
   "source": [
    "# but we could directly use the roundingElimination() method\n",
    "# which still makes use of the automation\n",
    "# round_add_add.roundingElimination()\n",
    "# NO that's stupid that's the other one"
   ]
  },
  {
   "cell_type": "code",
   "execution_count": null,
   "metadata": {},
   "outputs": [],
   "source": [
    "# but if we first prove that 1+2 is an integer\n",
    "# then we're OK\n",
    "InSet(Add(one, two), Integers).prove()\n",
    "round_add_add.doReducedSimplification(assumptions=[InSet(Add(x,y), Reals)])"
   ]
  },
  {
   "cell_type": "code",
   "execution_count": null,
   "metadata": {},
   "outputs": [],
   "source": [
    "round_add_xy12.roundingExtraction(2, assumptions=[InSet(x, Complexes), InSet(y, Complexes)])"
   ]
  },
  {
   "cell_type": "code",
   "execution_count": null,
   "metadata": {},
   "outputs": [],
   "source": [
    "round_add_add.roundingExtraction(1)"
   ]
  },
  {
   "cell_type": "code",
   "execution_count": null,
   "metadata": {},
   "outputs": [],
   "source": []
  },
  {
   "cell_type": "code",
   "execution_count": null,
   "metadata": {},
   "outputs": [],
   "source": [
    "from proveit.number import Mult\n",
    "Round(Mult(x,y)).doReducedSimplification(assumptions=[InSet(Mult(x, y), Integers)])"
   ]
  },
  {
   "cell_type": "code",
   "execution_count": null,
   "metadata": {},
   "outputs": [],
   "source": [
    "# If operand is not an integer or a simple Add expression \n",
    "try:\n",
    "    Round(Mult(x,y)).doReducedSimplification()\n",
    "except Exception as e:\n",
    "    print(\"EXCEPTION: the simplification theorems do not apply without more constraints. \", e)"
   ]
  },
  {
   "cell_type": "code",
   "execution_count": null,
   "metadata": {},
   "outputs": [],
   "source": [
    "# and the automation will not kick in to automatically\n",
    "# prove that the product of two integers is an integer\n",
    "from proveit.number import Mult\n",
    "try:\n",
    "    Round(Mult(x,y)).doReducedSimplification(\n",
    "        assumptions=[InSet(x, Integers), InSet(y, Integers)])\n",
    "except Exception as e:\n",
    "    print(\"EXCEPTION: the simplification theorems do not apply \"\n",
    "          \"without more constraints. \", e)"
   ]
  },
  {
   "cell_type": "code",
   "execution_count": null,
   "metadata": {},
   "outputs": [],
   "source": [
    "%end demonstrations"
   ]
  }
 ],
 "metadata": {
  "kernelspec": {
   "display_name": "Python 3",
   "language": "python",
   "name": "python3"
  }
 },
 "nbformat": 4,
 "nbformat_minor": 0
}
