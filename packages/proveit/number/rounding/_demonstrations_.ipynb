{
 "cells": [
  {
   "cell_type": "markdown",
   "metadata": {},
   "source": [
    "Demonstrations for context <a class=\"ProveItLink\" href=\"_context_.ipynb\">proveit.number.rounding</a>\n",
    "========"
   ]
  },
  {
   "cell_type": "code",
   "execution_count": null,
   "metadata": {},
   "outputs": [],
   "source": [
    "import proveit\n",
    "from proveit import used_vars, free_vars\n",
    "from proveit._common_ import n, x, y\n",
    "from proveit.logic import InSet\n",
    "from proveit.number import Add, Mult, subtract\n",
    "from proveit.number import zero, one, two, three, Integers, Naturals, Reals, RealsPos, Complexes\n",
    "from proveit.number.rounding import Ceil, Floor, Round\n",
    "%begin demonstrations"
   ]
  },
  {
   "cell_type": "markdown",
   "metadata": {},
   "source": [
    "# Rounding: $\\textit{round}(x), \\lceil{x}\\rceil, \\lfloor{x}\\rfloor$"
   ]
  },
  {
   "cell_type": "markdown",
   "metadata": {},
   "source": [
    "<div style=\"line-height:1.4; font-size:14pt\">\n",
    "\n",
    "<a href='#introduction'>Introduction</a><br>\n",
    "<a href='#simple_expressions'>Simple Expressions involving Rounding: $\\text{Round}(x)$, $\\lfloor{x}\\rfloor$, $\\lceil{x}\\rceil$</a><br>\n",
    "<a href='#common_attributes'>Common Attributes of the Floor Expression $\\lfloor{x}\\rfloor$ </a><br>\n",
    "<a href='#axioms'>Axioms</a><br>\n",
    "<a href='#theorems'>Theorems</a><br>\n",
    "<a href='#further_demonstrations'>Further Demonstrations</a><br>\n",
    "    <ol>\n",
    "        <li><a href='#demo01'>Simplifying $\\text{Round}((x+y)+(1+2))$</a></li>\n",
    "        <li><a href='#demo02'>Simplification and deductions involving $\\text{Floor}(\\alpha, \\beta) = \\lfloor \\alpha + \\beta \\rfloor$</a></li>\n",
    "        <li><a href='#demo03'>Proving $\\forall_{x\\in\\mathbb{R}}(\\lceil x \\rceil + \\lfloor -x \\rfloor = 0)$ from the theorem $\\forall_{x\\in\\mathbb{R}}(\\lfloor x \\rfloor + \\lceil -x \\rceil = 0)$</a></li>\n",
    "    </ol>\n",
    "</div>"
   ]
  },
  {
   "cell_type": "markdown",
   "metadata": {},
   "source": [
    "<a id='introduction'></a>\n",
    "## Introduction "
   ]
  },
  {
   "cell_type": "markdown",
   "metadata": {},
   "source": [
    "<font size=4>The `Round`, `Ceil`, and `Floor` classes allow us to represent standard rounding functions that take arbitrary real numbers to nearby integers in the usual way: $\\text{Round}(x) = z$ represents the rounding of a real number $x$ to the nearest integer $z$; $\\text{Ceil}(x) = \\lceil{x}\\rceil = z$ represents the rounding of a real number x to the smallest integer $z$ that is greater than or equal to $x$; and $\\text{Floor}(x) = \\lfloor{x}\\rfloor = z$ represents the rounding of a real number x to the largest integer $z$ that is less than or equal to $x$. This ``_demonstrations_`` notebook explores the `Round`, `Ceil`, and `Floor` classes, their axioms and common theorems, and related methods.</font>"
   ]
  },
  {
   "cell_type": "markdown",
   "metadata": {},
   "source": [
    "<a id='simple_expressions'></a>\n",
    "## Simple Expressions Involving Rounding: $\\text{Round}(x)$, $\\text{Ceil}(x) = \\lceil{x}\\rceil$, $\\text{Floor}(x) = \\lfloor{x}\\rfloor$"
   ]
  },
  {
   "cell_type": "markdown",
   "metadata": {},
   "source": [
    "<font size=4>It is straightforward to construct expressions to represent the various types of rounding operations on real numbers. Here are some basic examples of such expressions:</font>"
   ]
  },
  {
   "cell_type": "code",
   "execution_count": null,
   "metadata": {},
   "outputs": [],
   "source": [
    "# representing basic rounding of a real number x\n",
    "Round(x)"
   ]
  },
  {
   "cell_type": "code",
   "execution_count": null,
   "metadata": {},
   "outputs": [],
   "source": [
    "# representing the ceiling of a real sum\n",
    "Ceil(Add(x, y))"
   ]
  },
  {
   "cell_type": "code",
   "execution_count": null,
   "metadata": {},
   "outputs": [],
   "source": [
    "# representing the floor of a real difference\n",
    "Floor(subtract(x, y))"
   ]
  },
  {
   "cell_type": "markdown",
   "metadata": {},
   "source": [
    "<a id='common_attributes'></a>\n",
    "## Common Attributes of a Floor expression $\\lfloor{x}\\rfloor$"
   ]
  },
  {
   "cell_type": "markdown",
   "metadata": {},
   "source": [
    "<font size=4>Let's define a simple example `Floor()` expression, $\\lfloor{x-y}\\rfloor$, and look at some of its attributes.</font>"
   ]
  },
  {
   "cell_type": "code",
   "execution_count": null,
   "metadata": {},
   "outputs": [],
   "source": [
    "floor_x_minus_y = Floor(subtract(x,y))"
   ]
  },
  {
   "cell_type": "code",
   "execution_count": null,
   "metadata": {},
   "outputs": [],
   "source": [
    "floor_x_minus_y.exprInfo()"
   ]
  },
  {
   "cell_type": "markdown",
   "metadata": {},
   "source": [
    "<font size=4>We can access the Floor operand $x-y$, and identify the `Floor` operator as the outermost operation:</font>"
   ]
  },
  {
   "cell_type": "code",
   "execution_count": null,
   "metadata": {},
   "outputs": [],
   "source": [
    "floor_x_minus_y.operand"
   ]
  },
  {
   "cell_type": "code",
   "execution_count": null,
   "metadata": {},
   "outputs": [],
   "source": [
    "floor_x_minus_y.operator"
   ]
  },
  {
   "cell_type": "markdown",
   "metadata": {},
   "source": [
    "<font size=4>Notice in this case that the Floor's operand $x-y$ itself has operands $(x, -y)$ (because the subtract() expression is internally represented as an instance of `Add(x, -y))`:</font>"
   ]
  },
  {
   "cell_type": "markdown",
   "metadata": {},
   "source": [
    "<font size=4>We can also get a list of the variables and a list of the free variables:</font>"
   ]
  },
  {
   "cell_type": "code",
   "execution_count": null,
   "metadata": {},
   "outputs": [],
   "source": [
    "used_vars(floor_x_minus_y)"
   ]
  },
  {
   "cell_type": "code",
   "execution_count": null,
   "metadata": {},
   "outputs": [],
   "source": [
    "free_vars(floor_x_minus_y, err_inclusively=True)"
   ]
  },
  {
   "cell_type": "markdown",
   "metadata": {},
   "source": [
    "<font size=4>And of course, we can reach down inside and look at the structure of the operand itself, which in this case consists of an Add() expression (even though we created it using the subtract() function):</font>"
   ]
  },
  {
   "cell_type": "code",
   "execution_count": null,
   "metadata": {},
   "outputs": [],
   "source": [
    "# operator inside the operand inside the Floor\n",
    "floor_x_minus_y.operand.operator"
   ]
  },
  {
   "cell_type": "code",
   "execution_count": null,
   "metadata": {},
   "outputs": [],
   "source": [
    "floor_x_minus_y.operand.operands"
   ]
  },
  {
   "cell_type": "code",
   "execution_count": null,
   "metadata": {},
   "outputs": [],
   "source": [
    "# info about the operand itself\n",
    "floor_x_minus_y.operand.exprInfo()"
   ]
  },
  {
   "cell_type": "markdown",
   "metadata": {},
   "source": [
    "## Axioms <a id='axioms'></a>"
   ]
  },
  {
   "cell_type": "markdown",
   "metadata": {},
   "source": [
    "<font size=4>The axioms for the rounding context establish the basic properties of the `Ceil`, `Floor`, and `Round` class functions. Some examples are shown below (and the entire complement of axioms can be found in the notebook `proveit.number.rounding._axioms_.ipynb`).</font>"
   ]
  },
  {
   "cell_type": "code",
   "execution_count": null,
   "metadata": {},
   "outputs": [],
   "source": [
    "from proveit.number.rounding._axioms_ import (ceilIsAnInt, ceilOfXGreaterEqX, roundUp)"
   ]
  },
  {
   "cell_type": "code",
   "execution_count": null,
   "metadata": {},
   "outputs": [],
   "source": [
    "# When defined, Ceil is always an integer\n",
    "ceilIsAnInt"
   ]
  },
  {
   "cell_type": "code",
   "execution_count": null,
   "metadata": {},
   "outputs": [],
   "source": [
    "# When defined, Ceil(x) is always greater than or equal to x\n",
    "ceilOfXGreaterEqX"
   ]
  },
  {
   "cell_type": "code",
   "execution_count": null,
   "metadata": {},
   "outputs": [],
   "source": [
    "# The round function rounds up for reals mid-way between two integers\n",
    "roundUp"
   ]
  },
  {
   "cell_type": "markdown",
   "metadata": {},
   "source": [
    "## Theorems <a id='theorems'></a>"
   ]
  },
  {
   "cell_type": "markdown",
   "metadata": {},
   "source": [
    "<font size=4>The theorems for the rounding context capture many of the basic derivable properties of the `Ceil`, `Floor`, and `Round` class functions. Many of the theorems are then used for related class methods.<br/>\n",
    "Below we show a few examples of such theorems (the current collection of theorems can be found in the notebook `proveit.number.rounding._theorems_.ipynb`):</font>"
   ]
  },
  {
   "cell_type": "code",
   "execution_count": null,
   "metadata": {},
   "outputs": [],
   "source": [
    "from proveit.number.rounding._theorems_ import (\n",
    "        ceilOfInteger, floorOfSumGreaterEq, floorOfFloor,\n",
    "        floorPlusCeilOfNeg, roundInTermsOfFloor)"
   ]
  },
  {
   "cell_type": "code",
   "execution_count": null,
   "metadata": {},
   "outputs": [],
   "source": [
    "# The ceiling of an integer is just itself\n",
    "ceilOfInteger"
   ]
  },
  {
   "cell_type": "code",
   "execution_count": null,
   "metadata": {},
   "outputs": [],
   "source": [
    "# The floor of a sum is greater than or equal to the sum of the floors\n",
    "floorOfSumGreaterEq"
   ]
  },
  {
   "cell_type": "code",
   "execution_count": null,
   "metadata": {},
   "outputs": [],
   "source": [
    "# The floor function is idempotent\n",
    "floorOfFloor"
   ]
  },
  {
   "cell_type": "code",
   "execution_count": null,
   "metadata": {},
   "outputs": [],
   "source": [
    "# The floor and ceiling functions are related in a variety of ways\n",
    "floorPlusCeilOfNeg"
   ]
  },
  {
   "cell_type": "code",
   "execution_count": null,
   "metadata": {},
   "outputs": [],
   "source": [
    "# We can express the Round function in terms of the Floor\n",
    "roundInTermsOfFloor"
   ]
  },
  {
   "cell_type": "markdown",
   "metadata": {},
   "source": [
    "## Demonstrations <a id='further_demonstrations'></a>"
   ]
  },
  {
   "cell_type": "markdown",
   "metadata": {},
   "source": [
    "#### <a id='demo01'></a><font size=4>1. Simplifying $\\texttt{round}((x+1)+(y+2))$</font>\n",
    "<font size=3>We consider the simplification of the rounding expression `Round((x+1)+(y+2))`, calling upon the general `Expr.simplification()` method, which itself behind the scenes eventually utilizes the `Round.doReducedSimplification()` method and works to apply two possible simplification theorems involving integer operands of the `Round` class.<br>\n",
    "First, we define our expression:</font>"
   ]
  },
  {
   "cell_type": "code",
   "execution_count": null,
   "metadata": {},
   "outputs": [],
   "source": [
    "round_xplus1_plus_yplus2 = Round(Add(Add(x,one), Add(y, two)))"
   ]
  },
  {
   "cell_type": "markdown",
   "metadata": {},
   "source": [
    "<font size=3>We then try calling the Expression `simplification()` method. If we know nothing about the addends $x$ and $y$, we will get an error:</font>"
   ]
  },
  {
   "cell_type": "code",
   "execution_count": null,
   "metadata": {},
   "outputs": [],
   "source": [
    "# If addends are not known to be integers or reals \n",
    "from proveit import ProofFailure\n",
    "try:\n",
    "    round_xplus1_plus_yplus2.simplification()\n",
    "except ProofFailure as e:\n",
    "    print(\"EXCEPTION: the simplification theorems do not apply without more constraints. \", e)"
   ]
  },
  {
   "cell_type": "markdown",
   "metadata": {},
   "source": [
    "<font size=3>But if we know that $x$ and $y$ are real (either because we already know that from previous work or, as we do here, we supply that information as assumptions), the simplification goes through, with Prove-It automatically simplifying $1+2$ to $3\\in\\mathbb{Z}$, and eventually applying a rounding theorem of the form $\\forall_{x\\in\\mathbb{R},i\\in\\mathbb{Z}}\\texttt{ round}(x + i) = \\texttt{ round}(x) + i$:</font>"
   ]
  },
  {
   "cell_type": "code",
   "execution_count": null,
   "metadata": {},
   "outputs": [],
   "source": [
    "round_xplus1_plus_yplus2.simplification(assumptions=[InSet(x, Reals), InSet(y, Reals)])"
   ]
  },
  {
   "cell_type": "markdown",
   "metadata": {},
   "source": [
    "<font size=3>Interestingly, if we try to directly call the `Round.doReducedSimplification()` method on our `Round(Add(Add(x+1),Add(y+2)))` expression, we get only the trivial self-equivalence back, because we now lack the `simplification()` method's pre-processing of the operand to produce $x+y+3$ first and now fail to be able to segregate the operands into a partition of reals and integers:</font>"
   ]
  },
  {
   "cell_type": "code",
   "execution_count": null,
   "metadata": {},
   "outputs": [],
   "source": [
    "round_xplus1_plus_yplus2.doReducedSimplification(\n",
    "        assumptions=[InSet(x, Reals), InSet(y, Reals)])"
   ]
  },
  {
   "cell_type": "markdown",
   "metadata": {},
   "source": [
    "#### <a id='demo02'></a><font size=4>2. Simplification and deductions involving $\\texttt{Floor}(\\alpha, \\beta) = \\lfloor \\alpha + \\beta \\rfloor$</font>\n",
    "<font size=3>Here we consider the floor of a sum of two variables, $\\lfloor \\alpha + \\beta \\rfloor$, produced using the Expression $\\texttt{Floor}(\\texttt{Add}(\\alpha, \\beta))$, and try to simplify the expression and deduce that the $\\texttt{Floor}$ expression represents an integer.<br>\n",
    "First, we define our expression:</font>"
   ]
  },
  {
   "cell_type": "code",
   "execution_count": null,
   "metadata": {},
   "outputs": [],
   "source": [
    "from proveit._common_ import alpha, beta\n",
    "floor_alpha_plus_beta = Floor(Add(alpha, beta))"
   ]
  },
  {
   "cell_type": "markdown",
   "metadata": {},
   "source": [
    "<font size=3>If we know nothing about $\\alpha$ and $\\beta$, a `simplification()` attempt will simply return a trivial `Judgment` equating the original `Floor` object to itself:</font>"
   ]
  },
  {
   "cell_type": "code",
   "execution_count": null,
   "metadata": {},
   "outputs": [],
   "source": [
    "kt_temp_02 = floor_alpha_plus_beta.simplification()"
   ]
  },
  {
   "cell_type": "markdown",
   "metadata": {},
   "source": [
    "<font size=3>And the `Floor.deduceInNumberSet()` method will return an error:</font>"
   ]
  },
  {
   "cell_type": "code",
   "execution_count": null,
   "metadata": {},
   "outputs": [],
   "source": [
    "# If Floor operand(s) uncharacterized \n",
    "from proveit import ProofFailure\n",
    "try:\n",
    "    floor_alpha_plus_beta.deduceInNumberSet(Integers)\n",
    "except ProofFailure as e:\n",
    "    print(\"EXCEPTION: the simplification theorems do not apply without more constraints. \", e)"
   ]
  },
  {
   "cell_type": "markdown",
   "metadata": {},
   "source": [
    "<font size=3>But if we know or can assume some basic properties of $\\alpha$ and $\\beta$, we can simplify and make a deduction about the resulting form of the result. For example, suppose we know or can assume that $\\alpha\\in\\mathbb{R}$ while $\\beta\\in\\mathbb{Z}$. Then we can derive the equivalence $\\lfloor\\alpha+\\beta\\rfloor = \\lfloor\\alpha\\rfloor + \\beta$ (extracting the integer $\\beta$ out from inside the `Floor` function):</font>"
   ]
  },
  {
   "cell_type": "code",
   "execution_count": null,
   "metadata": {},
   "outputs": [],
   "source": [
    "floor_alpha_plus_beta.simplification(assumptions=[InSet(alpha, Reals), InSet(beta, Integers)])"
   ]
  },
  {
   "cell_type": "markdown",
   "metadata": {},
   "source": [
    "<font size=3>And we can deduce that the `Floor` function will produce an integer:</font>"
   ]
  },
  {
   "cell_type": "code",
   "execution_count": null,
   "metadata": {},
   "outputs": [],
   "source": [
    "floor_alpha_plus_beta.deduceInNumberSet(Integers, assumptions=[InSet(alpha, Reals), InSet(beta, Integers)])"
   ]
  },
  {
   "cell_type": "markdown",
   "metadata": {},
   "source": [
    "#### <a id='demo03'></a><font size=4>3. Prove that $\\forall_{x\\in\\mathbb{R}}(\\lceil x \\rceil + \\lfloor -x \\rfloor = 0)$ from the theorem $\\forall_{x\\in\\mathbb{R}}(\\lfloor x \\rfloor + \\lceil -x \\rceil = 0)$.</font>\n",
    "<font size=3>One of our theorems in the rounding context is that $\\forall_{x\\in\\mathbb{R}}(\\lfloor x \\rfloor + \\lceil -x \\rceil = 0)$. We can use that theorem to prove the complementary theorem that $\\forall_{x\\in\\mathbb{R}}(\\lceil x \\rceil + \\lfloor -x \\rfloor = 0)$, essentially by performing a substitution $x \\mapsto -x$.</font>"
   ]
  },
  {
   "cell_type": "markdown",
   "metadata": {},
   "source": [
    "<font size=3>We begin by importing and displaying the original theorem:</font>"
   ]
  },
  {
   "cell_type": "code",
   "execution_count": null,
   "metadata": {},
   "outputs": [],
   "source": [
    "from proveit.number.rounding._theorems_ import floorPlusCeilOfNeg\n",
    "floorPlusCeilOfNeg"
   ]
  },
  {
   "cell_type": "markdown",
   "metadata": {},
   "source": [
    "<font size=3>Then we instantiate that general theorem, mapping $x$ to $-x$ (and explicitly include the required assumption that $x\\in\\mathbb{R}$). Here we use “kt_<i>i</i>” to stand for the <i>i</i>th “judgment” in the development:</font>"
   ]
  },
  {
   "cell_type": "code",
   "execution_count": null,
   "metadata": {},
   "outputs": [],
   "source": [
    "from proveit.number import Neg\n",
    "kt_1 = floorPlusCeilOfNegSpec = floorPlusCeilOfNeg.specialize(\n",
    "    {x:Neg(x)}, assumptions=[InSet(x, Reals)])"
   ]
  },
  {
   "cell_type": "markdown",
   "metadata": {},
   "source": [
    "<font size=3>That process has left us with a double negation that didn't automatically simplify, so we reach into the left-hand side of the expression using the `innerExpr()` method and `lhs` attribute to grab the $\\lceil -(-x) \\rceil$, and call the `simplify()` method on the operand of that `Ceil` object, to derive an equivalent judgment:</font>"
   ]
  },
  {
   "cell_type": "code",
   "execution_count": null,
   "metadata": {},
   "outputs": [],
   "source": [
    "kt_2 = kt_1.innerExpr().lhs.operands[1].operand.simplify(assumptions=[InSet(x, Reals)])"
   ]
  },
  {
   "cell_type": "markdown",
   "metadata": {},
   "source": [
    "<font size=3>We now want to commute the addends on the lhs of the inner expression. Before being able to derive the commuted version though, we need to establish that the $\\texttt{Floor}$ and $\\texttt{Ceil}$ terms are actually complex numbers &mdash; and we do that by establishing that the $\\texttt{Floor}$ and $\\texttt{Ceil}$ terms are actually integers (from which Prove-It can then deduce that they are special cases of complex numbers):</font>"
   ]
  },
  {
   "cell_type": "code",
   "execution_count": null,
   "metadata": {},
   "outputs": [],
   "source": [
    "InSet(Floor(Neg(x)), Integers).prove(assumptions=[InSet(x, Reals)])"
   ]
  },
  {
   "cell_type": "code",
   "execution_count": null,
   "metadata": {},
   "outputs": [],
   "source": [
    "InSet(Ceil(x), Integers).prove(assumptions=[InSet(x, Reals)])"
   ]
  },
  {
   "cell_type": "markdown",
   "metadata": {},
   "source": [
    "<font size=3>Now we're ready to commute the terms of the lhs of the inner expression:</font>"
   ]
  },
  {
   "cell_type": "code",
   "execution_count": null,
   "metadata": {},
   "outputs": [],
   "source": [
    "kt_3 = kt_2.innerExpr().lhs.commute(0, 1, assumptions=[InSet(x, Reals)])"
   ]
  },
  {
   "cell_type": "markdown",
   "metadata": {},
   "source": [
    "<font size=3>And generalize to our desired universal claim:</font>"
   ]
  },
  {
   "cell_type": "code",
   "execution_count": null,
   "metadata": {},
   "outputs": [],
   "source": [
    "kt_3.generalize(x, domain=Reals)"
   ]
  },
  {
   "cell_type": "markdown",
   "metadata": {},
   "source": [
    "## Misc Testing\n",
    "The material below was developed to test various rounding-related methods. Some of this material could be integrated into the `_demonstrations_` page eventually and/or deleted as development continues."
   ]
  },
  {
   "cell_type": "markdown",
   "metadata": {},
   "source": [
    "### Example `Ceil`, `Floor`, and `Round` Expressions"
   ]
  },
  {
   "cell_type": "code",
   "execution_count": null,
   "metadata": {},
   "outputs": [],
   "source": [
    "# Some example test expressions involving Ceil\n",
    "ceil_2, ceil_x_minus_y, ceil_x_minus_y_plus_2 = (\n",
    "    Ceil(two), Ceil(subtract(x,y)), Ceil(Add(subtract(x,y), two)))"
   ]
  },
  {
   "cell_type": "code",
   "execution_count": null,
   "metadata": {},
   "outputs": [],
   "source": [
    "# Some example test expressions involving Floor\n",
    "floor_2, floor_x_plus_y, floor_x_plus_y_plus_1 = (\n",
    "    Floor(two), Floor(Add(x, y)), Floor(Add(Add(x,y), one)))"
   ]
  },
  {
   "cell_type": "code",
   "execution_count": null,
   "metadata": {},
   "outputs": [],
   "source": [
    "# Some example test expressions involving Round\n",
    "round_2, round_x, round_x_plus_y, round_1_plus_2, round_x_plus_2 = (\n",
    "    Round(two), Round(x), Round(Add(x, y)), Round(Add(one, two)), Round(Add(x, two)))"
   ]
  },
  {
   "cell_type": "code",
   "execution_count": null,
   "metadata": {},
   "outputs": [],
   "source": [
    "# Some more example test expressions involving Round\n",
    "round_add_xy12, round_add_add, round_add_mult_mult = (\n",
    "    Round(Add(x, y, one, two)), Round(Add(Add(x, y),Add(one, two))),\n",
    "    Round(Add(Mult(x,y), Mult(one, two))))"
   ]
  },
  {
   "cell_type": "markdown",
   "metadata": {},
   "source": [
    "## Testing the `deduceInNumberSet()` methods"
   ]
  },
  {
   "cell_type": "markdown",
   "metadata": {},
   "source": [
    "### Ceil.deduceInNumberSet()"
   ]
  },
  {
   "cell_type": "code",
   "execution_count": null,
   "metadata": {},
   "outputs": [],
   "source": [
    "ceil_2.deduceInNumberSet(Integers)"
   ]
  },
  {
   "cell_type": "code",
   "execution_count": null,
   "metadata": {},
   "outputs": [],
   "source": [
    "ceil_x_minus_y_in_ints = ceil_x_minus_y.deduceInNumberSet(\n",
    "    Integers, assumptions=[InSet(x, Reals), InSet(y, Reals)])"
   ]
  },
  {
   "cell_type": "code",
   "execution_count": null,
   "metadata": {},
   "outputs": [],
   "source": [
    "ceil_x_minus_y_in_ints.proof().disable()\n",
    "ceil_x_minus_y.deduceInNumberSet(\n",
    "    Integers, assumptions=[InSet(subtract(x, y), Reals)])"
   ]
  },
  {
   "cell_type": "code",
   "execution_count": null,
   "metadata": {},
   "outputs": [],
   "source": [
    "ceil_x_minus_y.deduceInNumberSet(Naturals, assumptions=[InSet(subtract(x,y), RealsPos)])"
   ]
  },
  {
   "cell_type": "code",
   "execution_count": null,
   "metadata": {},
   "outputs": [],
   "source": [
    "# If we don't at least know the operand is real-valued,\n",
    "# difficult to know what set(s) the result belongs to \n",
    "try:\n",
    "    ceil_x_minus_y.deduceInNumberSet(Integers)\n",
    "except Exception as e:\n",
    "    print(\"EXCEPTION: the closure theorems do not apply without more constraints. \", e)"
   ]
  },
  {
   "cell_type": "markdown",
   "metadata": {},
   "source": [
    "### Floor.deduceInNumberSet()"
   ]
  },
  {
   "cell_type": "code",
   "execution_count": null,
   "metadata": {},
   "outputs": [],
   "source": [
    "floor_2.deduceInNumberSet(Naturals)"
   ]
  },
  {
   "cell_type": "code",
   "execution_count": null,
   "metadata": {},
   "outputs": [],
   "source": [
    "floor_x_plus_y_in_ints = floor_x_plus_y.deduceInNumberSet(\n",
    "    Integers, assumptions=[InSet(x, Reals), InSet(y, Reals)])"
   ]
  },
  {
   "cell_type": "code",
   "execution_count": null,
   "metadata": {},
   "outputs": [],
   "source": [
    "floor_x_plus_y_in_ints.proof().disable()\n",
    "floor_x_plus_y_in_ints_2 = floor_x_plus_y.deduceInNumberSet(Integers, assumptions=[InSet(Add(x,y), Reals)])"
   ]
  },
  {
   "cell_type": "code",
   "execution_count": null,
   "metadata": {},
   "outputs": [],
   "source": [
    "floor_x_plus_y_in_ints_2.proof().disable()\n",
    "floor_x_plus_y.deduceInNumberSet(Naturals, assumptions=[InSet(Add(x,y), RealsPos)])"
   ]
  },
  {
   "cell_type": "code",
   "execution_count": null,
   "metadata": {},
   "outputs": [],
   "source": [
    "# If we don't at least know the operand is real-valued,\n",
    "# difficult to know what set(s) the result belongs to \n",
    "try:\n",
    "    floor_x_plus_y.deduceInNumberSet(Integers)\n",
    "except Exception as e:\n",
    "    print(\"EXCEPTION: the closure theorems do not apply without more constraints. \", e)"
   ]
  },
  {
   "cell_type": "markdown",
   "metadata": {},
   "source": [
    "### Round.deduceInNumberSet()"
   ]
  },
  {
   "cell_type": "code",
   "execution_count": null,
   "metadata": {},
   "outputs": [],
   "source": [
    "round_2.deduceInNumberSet(Naturals)"
   ]
  },
  {
   "cell_type": "code",
   "execution_count": null,
   "metadata": {},
   "outputs": [],
   "source": [
    "round_x.deduceInNumberSet(Integers, assumptions=[InSet(x, Reals)])"
   ]
  },
  {
   "cell_type": "code",
   "execution_count": null,
   "metadata": {},
   "outputs": [],
   "source": [
    "round_x.deduceInNumberSet(Naturals, assumptions=[InSet(x, RealsPos)])"
   ]
  },
  {
   "cell_type": "code",
   "execution_count": null,
   "metadata": {},
   "outputs": [],
   "source": [
    "# If we don't at least know the operand is real-valued,\n",
    "# difficult to know what set(s) the result belongs to \n",
    "try:\n",
    "    round_x.deduceInNumberSet(Integers)\n",
    "except Exception as e:\n",
    "    print(\"EXCEPTION: the closure theorems do not apply without more constraints. \", e)"
   ]
  },
  {
   "cell_type": "markdown",
   "metadata": {},
   "source": [
    "## Testing the `roundingElimination()` method\n",
    "<font size=4> Some testing of the `roundingElimination()` utility method(s), allowing the simplification of `Ceil(x)`, `Floor(x)`, and `Round(x)` to the operand $x$ when we know $x\\in\\mathbb{Z}$.</font>"
   ]
  },
  {
   "cell_type": "code",
   "execution_count": null,
   "metadata": {},
   "outputs": [],
   "source": [
    "ceil_2"
   ]
  },
  {
   "cell_type": "code",
   "execution_count": null,
   "metadata": {},
   "outputs": [],
   "source": [
    "ceil_2.roundingElimination()"
   ]
  },
  {
   "cell_type": "code",
   "execution_count": null,
   "metadata": {},
   "outputs": [],
   "source": [
    "ceil_x_minus_y"
   ]
  },
  {
   "cell_type": "code",
   "execution_count": null,
   "metadata": {},
   "outputs": [],
   "source": [
    "ceil_x_minus_y.roundingElimination(assumptions=[InSet(x, Integers), InSet(y, Integers)])"
   ]
  },
  {
   "cell_type": "code",
   "execution_count": null,
   "metadata": {},
   "outputs": [],
   "source": [
    "ceil_x_minus_y_plus_2"
   ]
  },
  {
   "cell_type": "code",
   "execution_count": null,
   "metadata": {},
   "outputs": [],
   "source": [
    "ceil_x_minus_y_plus_2.roundingElimination(assumptions=[InSet(x, Integers), InSet(y, Integers)])"
   ]
  },
  {
   "cell_type": "code",
   "execution_count": null,
   "metadata": {},
   "outputs": [],
   "source": [
    "floor_2.roundingElimination()"
   ]
  },
  {
   "cell_type": "code",
   "execution_count": null,
   "metadata": {},
   "outputs": [],
   "source": [
    "floor_x_plus_y.roundingElimination(assumptions=[InSet(x, Integers), InSet(y, Integers)])"
   ]
  },
  {
   "cell_type": "code",
   "execution_count": null,
   "metadata": {},
   "outputs": [],
   "source": [
    "round_2.roundingElimination()"
   ]
  },
  {
   "cell_type": "code",
   "execution_count": null,
   "metadata": {},
   "outputs": [],
   "source": [
    "round_x.roundingElimination(assumptions=[InSet(x, Integers)])"
   ]
  },
  {
   "cell_type": "code",
   "execution_count": null,
   "metadata": {},
   "outputs": [],
   "source": [
    "round_x_plus_y.roundingElimination(assumptions=[InSet(x, Integers), InSet(y, Integers)])"
   ]
  },
  {
   "cell_type": "code",
   "execution_count": null,
   "metadata": {},
   "outputs": [],
   "source": [
    "round_1_plus_2.roundingElimination()"
   ]
  },
  {
   "cell_type": "code",
   "execution_count": null,
   "metadata": {},
   "outputs": [],
   "source": [
    "round_x_plus_2.roundingElimination(assumptions=[InSet(x, Integers)])"
   ]
  },
  {
   "cell_type": "markdown",
   "metadata": {},
   "source": [
    "## The `roundingExtraction()` method\n",
    "<font size=4> Some testing of the utility `roundingExtraction()` method(s), allowing the conclusion of an equivalence from `Ceil(x+i)`, `Floor(x+i)`, and `Round(x+i)` to the expression $F(x)+i$ when we know $x\\in\\mathbb{R}$ and $i\\in\\mathbb{Z}$.</font>"
   ]
  },
  {
   "cell_type": "markdown",
   "metadata": {},
   "source": [
    "### Ceil.roundingExtraction()"
   ]
  },
  {
   "cell_type": "code",
   "execution_count": null,
   "metadata": {},
   "outputs": [],
   "source": [
    "ceil_x_minus_y"
   ]
  },
  {
   "cell_type": "code",
   "execution_count": null,
   "metadata": {},
   "outputs": [],
   "source": [
    "ceil_x_minus_y_plus_2"
   ]
  },
  {
   "cell_type": "code",
   "execution_count": null,
   "metadata": {},
   "outputs": [],
   "source": [
    "ceil_x_minus_y.roundingExtraction(1, assumptions=[InSet(x, Reals), InSet(y, Integers)])"
   ]
  },
  {
   "cell_type": "code",
   "execution_count": null,
   "metadata": {},
   "outputs": [],
   "source": [
    "ceil_x_minus_y_plus_2.roundingExtraction(1, assumptions=[InSet(x, Reals), InSet(y, Reals)])"
   ]
  },
  {
   "cell_type": "markdown",
   "metadata": {},
   "source": [
    "### Floor.roundingExtraction()"
   ]
  },
  {
   "cell_type": "code",
   "execution_count": null,
   "metadata": {},
   "outputs": [],
   "source": [
    "floor_x_plus_y"
   ]
  },
  {
   "cell_type": "code",
   "execution_count": null,
   "metadata": {},
   "outputs": [],
   "source": [
    "floor_x_plus_y_plus_1"
   ]
  },
  {
   "cell_type": "code",
   "execution_count": null,
   "metadata": {},
   "outputs": [],
   "source": [
    "floor_x_plus_y.roundingExtraction(1, assumptions=[InSet(x, Reals), InSet(y, Integers)])"
   ]
  },
  {
   "cell_type": "code",
   "execution_count": null,
   "metadata": {},
   "outputs": [],
   "source": [
    "floor_x_plus_y_plus_1.roundingExtraction(1, assumptions=[InSet(x, Reals), InSet(y, Reals)])"
   ]
  },
  {
   "cell_type": "markdown",
   "metadata": {},
   "source": [
    "### Round.roundingExtraction()"
   ]
  },
  {
   "cell_type": "code",
   "execution_count": null,
   "metadata": {},
   "outputs": [],
   "source": [
    "round_add_xy12.roundingExtraction(2, assumptions=[InSet(x, Reals), InSet(y, Reals)])"
   ]
  },
  {
   "cell_type": "code",
   "execution_count": null,
   "metadata": {},
   "outputs": [],
   "source": [
    "print(round_add_mult_mult)\n",
    "round_add_mult_mult.roundingExtraction(1, assumptions=[InSet(x, Reals), InSet(y, Reals)])"
   ]
  },
  {
   "cell_type": "code",
   "execution_count": null,
   "metadata": {},
   "outputs": [],
   "source": [
    "round_02 = Round(Add(x, y, one, two))"
   ]
  },
  {
   "cell_type": "code",
   "execution_count": null,
   "metadata": {},
   "outputs": [],
   "source": [
    "print(round_add_add)\n",
    "round_add_add.roundingExtraction(1, assumptions=[InSet(x, Reals), InSet(y, Reals)])"
   ]
  },
  {
   "cell_type": "markdown",
   "metadata": {},
   "source": [
    "## The `doReducedSimplification()` method\n",
    "<font size=4> Some testing of the `doReducedSimplification()` method(s), allowing the simplification of `Ceil(x)`, `Floor(x)`, and `Round(x)` to the operand $x$ when we know $x\\in\\mathbb{Z}$, and simplification of `f(x+n)` to `f(x)+n` when $x$ is real and $n\\in\\mathbb{Z}$. This is not a method that would typically be called directly — instead it ends up getting called by the more general Expr.simplification() method.</font>"
   ]
  },
  {
   "cell_type": "markdown",
   "metadata": {},
   "source": [
    "### Ceil.doReducedSimplification()"
   ]
  },
  {
   "cell_type": "code",
   "execution_count": null,
   "metadata": {},
   "outputs": [],
   "source": [
    "# simplifying ceiling of an integer\n",
    "ceil_2.doReducedSimplification()"
   ]
  },
  {
   "cell_type": "code",
   "execution_count": null,
   "metadata": {},
   "outputs": [],
   "source": [
    "# simplifying ceiling of expression assumed to be an integer\n",
    "ceil_x_minus_y.doReducedSimplification(assumptions=[InSet(subtract(x, y), Integers)])"
   ]
  },
  {
   "cell_type": "code",
   "execution_count": null,
   "metadata": {},
   "outputs": [],
   "source": [
    "# simplifying ceiling of a sum of an assumed real and an assumed integer\n",
    "ceil_x_minus_y.doReducedSimplification(assumptions=[InSet(x, Reals), InSet(y, Integers)])"
   ]
  },
  {
   "cell_type": "code",
   "execution_count": null,
   "metadata": {},
   "outputs": [],
   "source": [
    "# simplifying ceiling of sum of some assumed reals and an actual integer\n",
    "ceil_x_minus_y_plus_2.doReducedSimplification(assumptions=[InSet(x, Reals), InSet(y, Reals)])"
   ]
  },
  {
   "cell_type": "markdown",
   "metadata": {},
   "source": [
    "### Floor.doReducedSimplification()"
   ]
  },
  {
   "cell_type": "code",
   "execution_count": null,
   "metadata": {},
   "outputs": [],
   "source": [
    "# simplifying floor of an integer\n",
    "floor_2.doReducedSimplification()"
   ]
  },
  {
   "cell_type": "code",
   "execution_count": null,
   "metadata": {},
   "outputs": [],
   "source": [
    "# simplifying floor of a sum of assumed integers\n",
    "floor_x_plus_y.doReducedSimplification(assumptions=[InSet(x, Integers), InSet(y, Integers)])"
   ]
  },
  {
   "cell_type": "code",
   "execution_count": null,
   "metadata": {},
   "outputs": [],
   "source": [
    "# simplifying floor of a sum of an assumed real and an assumed integer\n",
    "floor_x_plus_y.doReducedSimplification(assumptions=[InSet(x, Reals), InSet(y, Integers)])"
   ]
  },
  {
   "cell_type": "code",
   "execution_count": null,
   "metadata": {},
   "outputs": [],
   "source": [
    "# simplifying floor of a sum of some assumed reals and an actual integer\n",
    "floor_x_plus_y_plus_1.doReducedSimplification(assumptions=[InSet(x, Reals), InSet(y, Reals)])"
   ]
  },
  {
   "cell_type": "markdown",
   "metadata": {},
   "source": [
    "### Round.doReducedSimplification()"
   ]
  },
  {
   "cell_type": "code",
   "execution_count": null,
   "metadata": {},
   "outputs": [],
   "source": [
    "round_2.doReducedSimplification()"
   ]
  },
  {
   "cell_type": "code",
   "execution_count": null,
   "metadata": {},
   "outputs": [],
   "source": [
    "round_1_plus_2"
   ]
  },
  {
   "cell_type": "code",
   "execution_count": null,
   "metadata": {},
   "outputs": [],
   "source": [
    "round_1_plus_2.doReducedSimplification()"
   ]
  },
  {
   "cell_type": "code",
   "execution_count": null,
   "metadata": {},
   "outputs": [],
   "source": [
    "round_x.doReducedSimplification(assumptions=[InSet(x, Integers)])"
   ]
  },
  {
   "cell_type": "code",
   "execution_count": null,
   "metadata": {},
   "outputs": [],
   "source": [
    "round_x_plus_y.doReducedSimplification(assumptions=[InSet(x, Reals), InSet(y, Integers)])"
   ]
  },
  {
   "cell_type": "code",
   "execution_count": null,
   "metadata": {},
   "outputs": [],
   "source": [
    "round_x_plus_2.doReducedSimplification(assumptions=[InSet(x, Reals)])"
   ]
  },
  {
   "cell_type": "code",
   "execution_count": null,
   "metadata": {},
   "outputs": [],
   "source": [
    "round_add_add.doReducedSimplification(assumptions=[InSet(Add(x,y), Reals)])"
   ]
  },
  {
   "cell_type": "markdown",
   "metadata": {},
   "source": [
    "## The Expr.simplification() method"
   ]
  },
  {
   "cell_type": "markdown",
   "metadata": {},
   "source": [
    "### Ceil.simplification()"
   ]
  },
  {
   "cell_type": "code",
   "execution_count": null,
   "metadata": {},
   "outputs": [],
   "source": [
    "# simplifying ceiling of an integer\n",
    "ceil_2.simplification()"
   ]
  },
  {
   "cell_type": "code",
   "execution_count": null,
   "metadata": {},
   "outputs": [],
   "source": [
    "# simplifying ceiling of expression assumed to be an integer\n",
    "ceil_x_minus_y.simplification(assumptions=[InSet(subtract(x, y), Integers)])"
   ]
  },
  {
   "cell_type": "code",
   "execution_count": null,
   "metadata": {},
   "outputs": [],
   "source": [
    "# from proveit.logic.set_theory import SubsetEq\n",
    "# from proveit.number import NaturalsPos\n",
    "# SubsetEq(NaturalsPos, Integers).proven()"
   ]
  },
  {
   "cell_type": "code",
   "execution_count": null,
   "metadata": {},
   "outputs": [],
   "source": [
    "# simplifying ceiling of a sum of an assumed real and an assumed integer\n",
    "ceil_x_minus_y.simplification(assumptions=[InSet(x, Reals), InSet(y, Integers)])"
   ]
  },
  {
   "cell_type": "code",
   "execution_count": null,
   "metadata": {},
   "outputs": [],
   "source": [
    "# simplifying ceiling of sum of an assumed real,\n",
    "# as assumed integer, and an actual integer\n",
    "ceil_x_minus_y_plus_2.simplification(assumptions=[InSet(x, Reals), InSet(y, Integers)])"
   ]
  },
  {
   "cell_type": "markdown",
   "metadata": {},
   "source": [
    "### Floor.simplification()"
   ]
  },
  {
   "cell_type": "code",
   "execution_count": null,
   "metadata": {},
   "outputs": [],
   "source": [
    "floor_x_plus_y_plus_1"
   ]
  },
  {
   "cell_type": "code",
   "execution_count": null,
   "metadata": {},
   "outputs": [],
   "source": [
    "floor_x_plus_y_plus_1.simplification(assumptions=[InSet(x, Reals), InSet(y, Reals)])"
   ]
  },
  {
   "cell_type": "code",
   "execution_count": null,
   "metadata": {},
   "outputs": [],
   "source": [
    "Floor(Add(x, one, y))"
   ]
  },
  {
   "cell_type": "code",
   "execution_count": null,
   "metadata": {},
   "outputs": [],
   "source": [
    "Floor(Add(x, one, y)).simplification(assumptions=[InSet(x, Reals), InSet(y, Reals)])"
   ]
  },
  {
   "cell_type": "markdown",
   "metadata": {},
   "source": [
    "### Round.simplification()"
   ]
  },
  {
   "cell_type": "code",
   "execution_count": null,
   "metadata": {},
   "outputs": [],
   "source": [
    "round_add_add"
   ]
  },
  {
   "cell_type": "code",
   "execution_count": null,
   "metadata": {},
   "outputs": [],
   "source": [
    "round_add_add.simplification(assumptions=[InSet(x, Reals), InSet(y, Reals)])"
   ]
  },
  {
   "cell_type": "code",
   "execution_count": null,
   "metadata": {},
   "outputs": [],
   "source": [
    "round_01 = Round(Add(x, y, one, two))"
   ]
  },
  {
   "cell_type": "code",
   "execution_count": null,
   "metadata": {},
   "outputs": [],
   "source": [
    "round_01_alt = Round(Add(x, one, y, two))"
   ]
  },
  {
   "cell_type": "code",
   "execution_count": null,
   "metadata": {},
   "outputs": [],
   "source": [
    "# if we don't know that the variables x and y are real, we can only\n",
    "# do so much simplification\n",
    "round_01.simplification(assumptions=[InSet(x, Complexes), InSet(y, Complexes)])"
   ]
  },
  {
   "cell_type": "code",
   "execution_count": null,
   "metadata": {},
   "outputs": [],
   "source": [
    "round_01.simplification(\n",
    "    assumptions=[InSet(x, Reals), InSet(y, Reals)])"
   ]
  },
  {
   "cell_type": "code",
   "execution_count": null,
   "metadata": {},
   "outputs": [],
   "source": [
    "round_01_alt.simplification(\n",
    "    assumptions=[InSet(x, Reals), InSet(y, Reals)])"
   ]
  },
  {
   "cell_type": "code",
   "execution_count": null,
   "metadata": {},
   "outputs": [],
   "source": [
    "from proveit.number import Mult\n",
    "Round(Mult(x,y)).doReducedSimplification(assumptions=[InSet(Mult(x, y), Integers)])"
   ]
  },
  {
   "cell_type": "code",
   "execution_count": null,
   "metadata": {},
   "outputs": [],
   "source": [
    "InSet(three, Integers).prove()\n",
    "Round(Add(Mult(x,y), Add(one, two))).simplification(assumptions=[InSet(Mult(x, y), Reals)])"
   ]
  },
  {
   "cell_type": "code",
   "execution_count": null,
   "metadata": {},
   "outputs": [],
   "source": [
    "InSet(three, Integers).prove()\n",
    "Round(Add(one, Mult(x,y), two)).simplification(assumptions=[InSet(x, Reals), InSet(y, Reals)])"
   ]
  },
  {
   "cell_type": "code",
   "execution_count": null,
   "metadata": {},
   "outputs": [],
   "source": [
    "# If operand is not known or assumed to be an integer\n",
    "# or a simple Add expression, we do not get an error but\n",
    "# instead the trivial self-equivalence\n",
    "Round(Mult(x,y)).doReducedSimplification()"
   ]
  },
  {
   "cell_type": "code",
   "execution_count": null,
   "metadata": {},
   "outputs": [],
   "source": [
    "# If we try to nudge things along by assuming x, y in Integers,\n",
    "# simplification will (by design) not automatically deduce that the\n",
    "# product is an integer, so we still get the trivial self-equivalence\n",
    "Round(Mult(x,y)).simplification(\n",
    "        assumptions=[InSet(x, Integers), InSet(y, Integers)])"
   ]
  },
  {
   "cell_type": "code",
   "execution_count": null,
   "metadata": {},
   "outputs": [],
   "source": [
    "# But if we assume the entire product is an integer, the simplification\n",
    "# process will find the expected equivalence and extract out the\n",
    "# product from the round() function\n",
    "Round(Mult(x,y)).simplification(assumptions=[InSet(Mult(x, y), Integers)])"
   ]
  },
  {
   "cell_type": "code",
   "execution_count": null,
   "metadata": {},
   "outputs": [],
   "source": [
    "%end demonstrations"
   ]
  },
  {
   "cell_type": "code",
   "execution_count": null,
   "metadata": {},
   "outputs": [],
   "source": []
  }
 ],
 "metadata": {
  "kernelspec": {
   "display_name": "Python 3",
   "language": "python",
   "name": "python3"
  }
 },
 "nbformat": 4,
 "nbformat_minor": 0
}
