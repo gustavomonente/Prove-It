{
 "cells": [
  {
   "cell_type": "markdown",
   "metadata": {},
   "source": [
    "Proof of <a class=\"ProveItLink\" href=\"../../../_context_.ipynb\">proveit</a>.<a class=\"ProveItLink\" href=\"../../_context_.ipynb\">number</a>.<a class=\"ProveItLink\" href=\"../_context_.ipynb\">rounding</a>.<a class=\"ProveItLink\" href=\"../_theorems_.ipynb#floorEqualCeilForInt\">floorEqualCeilForInt</a> theorem\n",
    "========"
   ]
  },
  {
   "cell_type": "code",
   "execution_count": 1,
   "metadata": {},
   "outputs": [],
   "source": [
    "import proveit\n",
    "context = proveit.Context('..') # the theorem's context is in the parent directory"
   ]
  },
  {
   "cell_type": "code",
   "execution_count": 2,
   "metadata": {},
   "outputs": [
    {
     "name": "stdout",
     "output_type": "stream",
     "text": [
      "Beginning proof of floorEqualCeilForInt\n",
      "Recorded 'presuming' information\n",
      "Presuming previous theorems (applied transitively).\n"
     ]
    },
    {
     "data": {
      "text/html": [
       "<strong id=\"floorEqualCeilForInt\">floorEqualCeilForInt:</strong> <a class=\"ProveItLink\" href=\"../__pv_it/96c79c393f2c54bf26320094ff5ab5657116ecbd0/expr.ipynb\"><img src=\"data:image/png;base64,iVBORw0KGgoAAAANSUhEUgAAAJ0AAAAVBAMAAACu6/FQAAAAMFBMVEX///8QEBCIiIhmZma6urrM\n",
       "zMxUVFQiIiJERETc3Nzu7u6qqqp2dnaYmJgyMjIAAAAcRTyBAAAAAXRSTlMAQObYZgAAAhZJREFU\n",
       "OMullDFIG1EYx/82uSR3eWcWxcUhmKGlOARdOmiJdHDQITi4iKDSFgptcSja0iLidKEVDgerDnpO\n",
       "iooGxMHJoLSDhXBLBymlBwWlpYQMCrZQ8L28lzvT+EhPv+W+9+7/fnzf9773ATVMsz0/XvV3tXDM\n",
       "ncXCL9Q21YY65C2dKsGs524Cu2XNVwlvFf/PqwdCJvCJ+T8lvB/+eBoVzLG0Jq/G6Ul/POzTjwWQ\n",
       "7NW8sOmTt0xjOFxbey9Jl+374tWngHPDeCPhJQSv98lMIi7jBT/Ot7QJHqEFegRkJLxpwcsZce23\n",
       "y8sXmH0v80hkClsm5+lU8aB0LZ4Nv7vXLtzXnKdkJ6CeyeIbCDtYSnNedJQWHbfcJ7B+0IlXOLwr\n",
       "lg2cp2mn0IsynrWVwjeRr0JVxA67/fF2wUJWObIreYgWEXKk97EHPL/EU51+SursS7DUmQUIKvNF\n",
       "wEHMtirrd+zy7gN/Nc4L0nyReUh5XXadKfRHO//eR10Oe1ZOFl8zon+Idx/YptCF24hZWrI0UOK5\n",
       "svpA8JZSyOtpCU89BXE+c16AHY2x1hpBF5SXhjEFQizV4upuwaPf2S/S/huF+iwr+jnNgmSnG9Gh\n",
       "oPQUegZBzGu+txV30BXxYgcfmJtMluK67jzgFhxCq40IDVt//DQ/Vt7O+J9XFXaH1u8G8zRi1p73\n",
       "WtM4J6on49VjcsNzQ7TTgAtsX6kfwSc4egAAAABJRU5ErkJggg==\n",
       "\" style=\"display:inline;vertical-align:middle;\" /></a><br>(see <a class=\"ProveItLink\" href=\"../__pv_it/96c79c393f2c54bf26320094ff5ab5657116ecbd0/dependencies.ipynb\">dependencies</a>)<br>"
      ],
      "text/plain": [
       "floorEqualCeilForInt: forall_{n in Integers} (floor(n) = ceil(n))"
      ]
     },
     "execution_count": 2,
     "metadata": {},
     "output_type": "execute_result"
    }
   ],
   "source": [
    "%proving floorEqualCeilForInt presuming []"
   ]
  },
  {
   "cell_type": "code",
   "execution_count": null,
   "metadata": {},
   "outputs": [],
   "source": []
  }
 ],
 "metadata": {
  "kernelspec": {
   "display_name": "Python 3",
   "language": "python",
   "name": "python3"
  }
 },
 "nbformat": 4,
 "nbformat_minor": 0
}
