{
 "cells": [
  {
   "cell_type": "markdown",
   "metadata": {},
   "source": [
    "Proof of <a class=\"ProveItLink\" href=\"../../../_context_.ipynb\">proveit</a>.<a class=\"ProveItLink\" href=\"../../_context_.ipynb\">number</a>.<a class=\"ProveItLink\" href=\"../_context_.ipynb\">rounding</a>.<a class=\"ProveItLink\" href=\"../_theorems_.ipynb#floorOfFloor\">floorOfFloor</a> theorem\n",
    "========"
   ]
  },
  {
   "cell_type": "code",
   "execution_count": 1,
   "metadata": {},
   "outputs": [],
   "source": [
    "import proveit\n",
    "context = proveit.Context('..') # the theorem's context is in the parent directory"
   ]
  },
  {
   "cell_type": "code",
   "execution_count": 2,
   "metadata": {},
   "outputs": [
    {
     "name": "stdout",
     "output_type": "stream",
     "text": [
      "Beginning proof of floorOfFloor\n",
      "Recorded 'presuming' information\n",
      "Presuming previous theorems (applied transitively).\n"
     ]
    },
    {
     "data": {
      "text/html": [
       "<strong id=\"floorOfFloor\">floorOfFloor:</strong> <a class=\"ProveItLink\" href=\"../__pv_it/5492a1f916f0ac5c5e2bfb0aab45da2b8cc5f70e0/expr.ipynb\"><img src=\"data:image/png;base64,iVBORw0KGgoAAAANSUhEUgAAAK8AAAAVBAMAAADC7aNVAAAAMFBMVEX///8QEBCIiIhmZma6urrM\n",
       "zMxUVFQiIiJERETc3Nzu7u6qqqp2dnaYmJgyMjIAAAAcRTyBAAAAAXRSTlMAQObYZgAAAeBJREFU\n",
       "OMutlU8oBFEcx7+NXfvv7boo142Sg7IlR1IOjvbERVH+HCXJKg6Os0k2CRfMUktbSjlIOUzcVmkO\n",
       "Dii1UUSRI05+b6dn3tqZ2Rp+h/dm3nz2s2++b99boEqFDWoOrHuFN/EK7DdRpUIGQsPUr1lDMd4U\n",
       "K8hy4kQwdw7ifXgT12aAC3794iB+9igOE7DB33jB3htNeBTjjDoNYIf24kDGqzhLsyrk8+sOSfBx\n",
       "b+JYN/ChqvMO4iZZvNO82hp3FUsEoxDHgLSDeEkSh/XoVKBYJr584/UgxDIRpb6ntIY/ddwyci+u\n",
       "5yQx09iXL+M2Y5mITNIKQTHELjttNxSGgthY9fKMEVxwz1gm/O/0RUZAPL0+yYPEt4aNGKiLV1s8\n",
       "i+DiULGf//A6mpO+BN/pJNZtogCGkr/EZsaPltgifBQF0qOk0yYC3aXPkLg9YbN4Ea2NKLcZywRf\n",
       "PByR3Y9XYLckrhmfFvS5JO47XMamaxQyUaP/JPMJDKiqGlfYypWgeyVxrnGn03AVy0SMhxLVSmn7\n",
       "UWtGERnU/ryl98TNNisysKSZcUH/j0PIrNzVWQFY5BvkUt/tEsPpPxybcimU8b8c9MFM9b+mcENq\n",
       "GNnUjDmwlZpF6ClVeX6XEbgBvgGmNLHFfz2WcgAAAABJRU5ErkJggg==\n",
       "\" style=\"display:inline;vertical-align:middle;\" /></a><br>(see <a class=\"ProveItLink\" href=\"../__pv_it/5492a1f916f0ac5c5e2bfb0aab45da2b8cc5f70e0/dependencies.ipynb\">dependencies</a>)<br>"
      ],
      "text/plain": [
       "floorOfFloor: forall_{x in Reals} (floor(floor(x)) = floor(x))"
      ]
     },
     "execution_count": 2,
     "metadata": {},
     "output_type": "execute_result"
    }
   ],
   "source": [
    "%proving floorOfFloor presuming []"
   ]
  },
  {
   "cell_type": "code",
   "execution_count": null,
   "metadata": {},
   "outputs": [],
   "source": []
  }
 ],
 "metadata": {
  "kernelspec": {
   "display_name": "Python 3",
   "language": "python",
   "name": "python3"
  }
 },
 "nbformat": 4,
 "nbformat_minor": 0
}
