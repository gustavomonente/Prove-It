{
 "cells": [
  {
   "cell_type": "markdown",
   "metadata": {},
   "source": [
    "Proof of <a class=\"ProveItLink\" href=\"../../../_context_.ipynb\">proveit</a>.<a class=\"ProveItLink\" href=\"../../_context_.ipynb\">number</a>.<a class=\"ProveItLink\" href=\"../_context_.ipynb\">rounding</a>.<a class=\"ProveItLink\" href=\"../_theorems_.ipynb#floorOfInteger\">floorOfInteger</a> theorem\n",
    "========"
   ]
  },
  {
   "cell_type": "code",
   "execution_count": 1,
   "metadata": {},
   "outputs": [],
   "source": [
    "import proveit\n",
    "context = proveit.Context('..') # the theorem's context is in the parent directory"
   ]
  },
  {
   "cell_type": "code",
   "execution_count": 2,
   "metadata": {},
   "outputs": [
    {
     "name": "stdout",
     "output_type": "stream",
     "text": [
      "Beginning proof of floorOfInteger\n",
      "Recorded 'presuming' information\n",
      "Presuming previous theorem (applied transitively).\n"
     ]
    },
    {
     "data": {
      "text/html": [
       "<strong id=\"floorOfInteger\">floorOfInteger:</strong> <a class=\"ProveItLink\" href=\"../__pv_it/92523ebca65d822b8ebddf3a677537c7f2362cb50/expr.ipynb\"><img src=\"data:image/png;base64,iVBORw0KGgoAAAANSUhEUgAAAIkAAAAVBAMAAACArtDCAAAAMFBMVEX///8QEBCIiIhmZma6urrM\n",
       "zMxUVFQiIiJERETc3Nzu7u6qqqp2dnaYmJgyMjIAAAAcRTyBAAAAAXRSTlMAQObYZgAAAeJJREFU\n",
       "OMudVDtIw1AUPfZj2vS1ro5FoUMRLIijUHRyspNOoogKLiIOVkGk4BJxsIOoKNVYQaEoFMRBcSh1\n",
       "sooGFD+DUBAUBKUIgp/F9/ISS/WJqQ/SnPTcnHfvubkP+GNtFaEN/1sJYK745BMH7dIrz8CNmJdj\n",
       "VlQq48ARAw9i3he3oiLTRBbo3R0T82ewooIspVSApMX0mDWVVcCbS6Xmxax7yJqKLwy8Ksq4mLWF\n",
       "DJVkYLbOL1CRawaaaTmExvUBU2IVl8ZV5Ix3WMqbKidPbN0yuIlL/wQth3ItusnFvlUfTIY4lNJc\n",
       "hajk3REX5JLDqdoKeGjlEmyameF+gybFSVLljxVhIxe4YkJfVCjs5izQnTTJ/PdqNwUPOhMoVQGq\n",
       "/L+4+2yquPPtrOeNgYiDVxLKoLQioCtSVOG+3OnY+cJ+HayXU720HeqgFOZR3qXIN3c9aj0NEOSy\n",
       "ZysgyN3FNpVy4hFY06kkMYOI0em29Aybyx8qjg9XwU13sme+in4DOhRF8SOTw6IRZXx16zXJJk2g\n",
       "IvcEa9kc+1jyXlV3yIlK/dUdDYflTcCGCVZInoAwTbud51DeNPK1fp7NAdMUXfQf33eb9lo+GUoG\n",
       "h/lS9inF9vrrxFyNjnC8HB0VB10Dn872iKpPU2J1AAAAAElFTkSuQmCC\n",
       "\" style=\"display:inline;vertical-align:middle;\" /></a><br>(see <a class=\"ProveItLink\" href=\"../__pv_it/92523ebca65d822b8ebddf3a677537c7f2362cb50/dependencies.ipynb\">dependencies</a>)<br>"
      ],
      "text/plain": [
       "floorOfInteger: forall_{x in Integers} (floor(x) = x)"
      ]
     },
     "execution_count": 2,
     "metadata": {},
     "output_type": "execute_result"
    }
   ],
   "source": [
    "%proving floorOfInteger presuming []"
   ]
  },
  {
   "cell_type": "code",
   "execution_count": null,
   "metadata": {},
   "outputs": [],
   "source": []
  }
 ],
 "metadata": {
  "kernelspec": {
   "display_name": "Python 3",
   "language": "python",
   "name": "python3"
  }
 },
 "nbformat": 4,
 "nbformat_minor": 0
}
