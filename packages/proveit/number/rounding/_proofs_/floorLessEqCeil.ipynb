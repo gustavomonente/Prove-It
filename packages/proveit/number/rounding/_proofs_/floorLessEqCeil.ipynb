{
 "cells": [
  {
   "cell_type": "markdown",
   "metadata": {},
   "source": [
    "Proof of <a class=\"ProveItLink\" href=\"../../../_context_.ipynb\">proveit</a>.<a class=\"ProveItLink\" href=\"../../_context_.ipynb\">number</a>.<a class=\"ProveItLink\" href=\"../_context_.ipynb\">rounding</a>.<a class=\"ProveItLink\" href=\"../_theorems_.ipynb#floorLessEqCeil\">floorLessEqCeil</a> theorem\n",
    "========"
   ]
  },
  {
   "cell_type": "code",
   "execution_count": 1,
   "metadata": {},
   "outputs": [],
   "source": [
    "import proveit\n",
    "context = proveit.Context('..') # the theorem's context is in the parent directory"
   ]
  },
  {
   "cell_type": "code",
   "execution_count": 2,
   "metadata": {},
   "outputs": [
    {
     "name": "stdout",
     "output_type": "stream",
     "text": [
      "Beginning proof of floorLessEqCeil\n",
      "Recorded 'presuming' information\n",
      "Presuming previous theorems (applied transitively).\n"
     ]
    },
    {
     "data": {
      "text/html": [
       "<strong id=\"floorLessEqCeil\">floorLessEqCeil:</strong> <a class=\"ProveItLink\" href=\"../__pv_it/e037c24e9815825781c0771361b1f708f14bfc2a0/expr.ipynb\"><img src=\"data:image/png;base64,iVBORw0KGgoAAAANSUhEUgAAAJ0AAAAVBAMAAACu6/FQAAAAMFBMVEX///8QEBCIiIhmZma6urrM\n",
       "zMxUVFQiIiJERETc3Nzu7u6qqqp2dnaYmJgyMjIAAAAcRTyBAAAAAXRSTlMAQObYZgAAAhdJREFU\n",
       "OMullU1LG0EYx/9dk2xeZuNXCB6kh0IDoUdLwA9gTupB6EHtsZTQNhUs5CJs6MFFJXpRNwloCSoB\n",
       "DyL0sOSYQlmoh7ZQCG3xYGvwqD11JruzO0l2SMC5zDP89/kxz8s8Cwxbx76pDIgfOpeOsdf5ixHW\n",
       "LlD2T8kBXRBPgHO6tZn9Q4KLF0fnUTFiAJ+YfSXhJQ0ZT3kdwIvTy+1QM1aU8L5AwjvKB90PTbqZ\n",
       "AGlIeCsS3ua7wHhRAbRWvb4twcVeBvPKf4Lzh2QWuNX1VQlPSbsu1cmtRymPN/+7px6CSKjDMlCS\n",
       "8KK24xK3tLza5rzoWk99RVGj+3S3LN46e7j4k9tqw3EhJvkXMjhPyZsiTxQTNEEqFJu328eMrRC0\n",
       "Uu75Qda9AqJFIX/aqineTxDDN5Rvq1z9el4H5X23+3jAeEqsR+KXIdbDFxkv1p5lnfNkMhdi6Wc8\n",
       "qy9e4Fmup19ClzmB54sh1hClJUoxX6jZ7ueUl0n31SNhPqZfiP0c1rOcJ4qsHjil0DCugVqXN/b8\n",
       "Ffcibr/MNNbZZBDfW2yZ80RxzPLCvwPmdF1PKWTjwgvL7eeDieqULZsHophkkWtmN5NhRJx4Ewvm\n",
       "sPcmmS845Id90iYgOSd/LWvoPJDwmvxwcNFsAe9ZP3+2ak+9BxI0r04KbMnmVc97pfm7zzyNGiPM\n",
       "+0rhjfuLKLwd0I98k2b/G/AfdMCb4NQXKQMAAAAASUVORK5CYII=\n",
       "\" style=\"display:inline;vertical-align:middle;\" /></a><br>(see <a class=\"ProveItLink\" href=\"../__pv_it/e037c24e9815825781c0771361b1f708f14bfc2a0/dependencies.ipynb\">dependencies</a>)<br>"
      ],
      "text/plain": [
       "floorLessEqCeil: forall_{x in Reals} (floor(x) <= ceil(x))"
      ]
     },
     "execution_count": 2,
     "metadata": {},
     "output_type": "execute_result"
    }
   ],
   "source": [
    "%proving floorLessEqCeil presuming []"
   ]
  },
  {
   "cell_type": "code",
   "execution_count": null,
   "metadata": {},
   "outputs": [],
   "source": []
  }
 ],
 "metadata": {
  "kernelspec": {
   "display_name": "Python 3",
   "language": "python",
   "name": "python3"
  }
 },
 "nbformat": 4,
 "nbformat_minor": 0
}
