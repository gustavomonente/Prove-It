{
 "cells": [
  {
   "cell_type": "markdown",
   "metadata": {},
   "source": [
    "Proof of <a class=\"ProveItLink\" href=\"../../../_context_.ipynb\">proveit</a>.<a class=\"ProveItLink\" href=\"../../_context_.ipynb\">number</a>.<a class=\"ProveItLink\" href=\"../_context_.ipynb\">rounding</a>.<a class=\"ProveItLink\" href=\"../_theorems_.ipynb#floorRealPosClosure\">floorRealPosClosure</a> theorem\n",
    "========"
   ]
  },
  {
   "cell_type": "code",
   "execution_count": 1,
   "metadata": {},
   "outputs": [],
   "source": [
    "import proveit\n",
    "context = proveit.Context('..') # the theorem's context is in the parent directory"
   ]
  },
  {
   "cell_type": "code",
   "execution_count": 2,
   "metadata": {},
   "outputs": [
    {
     "name": "stdout",
     "output_type": "stream",
     "text": [
      "Beginning proof of floorRealPosClosure\n",
      "Recorded 'presuming' information\n",
      "Presuming previous theorems (applied transitively).\n"
     ]
    },
    {
     "data": {
      "text/html": [
       "<strong id=\"floorRealPosClosure\">floorRealPosClosure:</strong> <a class=\"ProveItLink\" href=\"../__pv_it/095ea64c1622c9e4129d0fc784f9cb368ddf46bf0/expr.ipynb\"><img src=\"data:image/png;base64,iVBORw0KGgoAAAANSUhEUgAAAJcAAAAVBAMAAAC5yWGZAAAAMFBMVEX///8QEBCIiIhmZma6urrM\n",
       "zMxUVFQiIiJERETc3Nzu7u6qqqp2dnaYmJgyMjIAAAAcRTyBAAAAAXRSTlMAQObYZgAAAjdJREFU\n",
       "OMul1D9o1FAcB/Avuctdk0tiB8FNQgsinYqHOAhy6CA6ZTqXDoe2ahZxEG5QyuFirqIcLroZKagc\n",
       "UgoOUnE4o4NG0AwF/0DhcBErSioIFRd/L39eEi/GFh/c8f6ED+/3+733gC012Uv6Ov6nSR6kVjIc\n",
       "5n+1Ei+tFWL3UYQtbV638XSjUekBr9jEeiH2uRDDNbEF2YdM87dYHJ0iS50uxs4YE8A44ACaDSjL\n",
       "RVi1l4upV9rzQWd2oWLgPHCH5tx+/2ZhlGx1FBMv29HYbMrrDNMawKZlXRoVlKQ7GWHyhHnY4dhS\n",
       "bMGs6U2GKZSOOaA7ipVSCY6wB3irz3PM5Osmnqs6YSotHAnqUIBdjDAXb+xjHOuksIo9R1iNflUI\n",
       "qeONR3tPfcxiOyPMhpXkTNz9jVqEyS2Nqin6FKpX5ZfmSd0TFLi6Uj9QP/gnBnxPMCm9M8yIESYN\n",
       "m/H0u5U+CPvg5YYJ8UeqmuNpTF0mu0xhojtLf87+PUaZyhFgg9wCPBZ8THFsH1+nCuJlJywAHpIo\n",
       "2OeqDQ0hVp/OYM9CrPxrzJc8jlX5Qf/CUkyTJdoDdtCbIuIrsBhgpdMXsgU4GmLyyanJtSRM+ezx\n",
       "cPnEBu2KHQjNYPciOH4/adqyLF1Qbqyy/PzzOpVfRNcpbvd4T/RFVMIwazP2ti563Jy4c1sZKlCM\n",
       "MGfuIPtVd0tYcvTvrjoucJUd2teDxUPbeRzjNtbLjgXKWf6zLe9qh5z0qf2Xx+898BveNqFAS7Zo\n",
       "mgAAAABJRU5ErkJggg==\n",
       "\" style=\"display:inline;vertical-align:middle;\" /></a><br>(see <a class=\"ProveItLink\" href=\"../__pv_it/095ea64c1622c9e4129d0fc784f9cb368ddf46bf0/dependencies.ipynb\">dependencies</a>)<br>"
      ],
      "text/plain": [
       "floorRealPosClosure: forall_{x in RealsPos} (floor(x) in Naturals)"
      ]
     },
     "execution_count": 2,
     "metadata": {},
     "output_type": "execute_result"
    }
   ],
   "source": [
    "%proving floorRealPosClosure presuming []"
   ]
  },
  {
   "cell_type": "code",
   "execution_count": null,
   "metadata": {},
   "outputs": [],
   "source": []
  }
 ],
 "metadata": {
  "kernelspec": {
   "display_name": "Python 3",
   "language": "python",
   "name": "python3"
  }
 },
 "nbformat": 4,
 "nbformat_minor": 0
}
