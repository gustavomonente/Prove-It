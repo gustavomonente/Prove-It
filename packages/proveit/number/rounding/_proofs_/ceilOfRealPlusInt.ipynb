{
 "cells": [
  {
   "cell_type": "markdown",
   "metadata": {},
   "source": [
    "Proof of <a class=\"ProveItLink\" href=\"../../../_context_.ipynb\">proveit</a>.<a class=\"ProveItLink\" href=\"../../_context_.ipynb\">number</a>.<a class=\"ProveItLink\" href=\"../_context_.ipynb\">rounding</a>.<a class=\"ProveItLink\" href=\"../_theorems_.ipynb#ceilOfRealPlusInt\">ceilOfRealPlusInt</a> theorem\n",
    "========"
   ]
  },
  {
   "cell_type": "code",
   "execution_count": 1,
   "metadata": {},
   "outputs": [],
   "source": [
    "import proveit\n",
    "context = proveit.Context('..') # the theorem's context is in the parent directory"
   ]
  },
  {
   "cell_type": "code",
   "execution_count": 2,
   "metadata": {},
   "outputs": [
    {
     "name": "stdout",
     "output_type": "stream",
     "text": [
      "Beginning proof of ceilOfRealPlusInt\n",
      "Recorded 'presuming' information\n",
      "Presuming previous theorems (applied transitively).\n"
     ]
    },
    {
     "data": {
      "text/html": [
       "<strong id=\"ceilOfRealPlusInt\">ceilOfRealPlusInt:</strong> <a class=\"ProveItLink\" href=\"../__pv_it/3ed04730be73e5db5150b20799ff40084fe1b8b70/expr.ipynb\"><img src=\"data:image/png;base64,iVBORw0KGgoAAAANSUhEUgAAAToAAAAVBAMAAAAk4T84AAAAMFBMVEX///8QEBCIiIhmZma6urrM\n",
       "zMxUVFQiIiJERETc3Nzu7u6qqqp2dnaYmJgyMjIAAAAcRTyBAAAAAXRSTlMAQObYZgAAA2VJREFU\n",
       "SMe9l09IFFEcx7+uO64zzmiHunVYXEiRkCUJOqhoHSTqsHSoQ0VmJQglBksUhYSnWaxYPPTHQ04I\n",
       "FVuoFBJG4KLVYQObg1EW2hAZGDUsodAfgt57s5szr5nZVOrByMx+9zvfz7zf+80+gTUN6ZLZ6qVd\n",
       "Nz/5e0TTTK8hu3beVxZ1iK1+Xxgq5JEMN9sYOcqSwFwcTJ91v/tjXxW3UYCuvKDHla6EkKGD5T+j\n",
       "1x+96PxULKyCbuEv6NiMDrH8q3S6z3vR+alK9A+6e4XoeI/hapwghxym+eUaORvxovNTQ8mV0/Ee\n",
       "d7obdALX0Xwlk0pdgRedn0o/Xykd73GnK28if97TfHxV1XOedH5qJJckVXZsn3CEBJ9eq9ziSsd7\n",
       "OLrdHX0RUlGZ1B+TLP8YkPCm81Ev5pLu4mW42xEil/ZgOJmnk002om4eji6thqVvZHXSj+dY/g7n\n",
       "W+dB9ZF3NjpOxeEL2+pyp2dzSRk813Y6QvaHDAzE3OaO9zjphJFuiEvkZddFQVh+CAE938qP6vSA\n",
       "jEx4mc6m4s5kA84gU5O7XJ9L0qCy6ynTPGmaH8iZNtyEt66V5T2GwyhJi1CyhJIcOMTyZT2U974a\n",
       "S4HQvdaX6Wyq0tuvYUSY0bkk4AvfFeNApy9d3sNVtiyLEsNBJxp76Stm66ZYkC4NSpdepmOq0rAn\n",
       "QotMR7HMVwnCEk/XCPyUuHXX6ubh6IoNVOgagrSyLSwfiaOESesMNbGbEbq66DIdU5VmvSiZu9PM\n",
       "KN8VDwNZ1DjpNqLsu+w2d7yHoytKY1xL27sC9wmpgM/AIKMrbo/buoKp/VWo0CTGLIV/bysmraTg\n",
       "j9KsqDtCxEXIxgs3Ot7D0Q00YUqJoZhm1Fv5FawJSCPvU1U1HJD7pu10TG1DM4TTqtoDWdZEzVJb\n",
       "rCSprSYy6wwhlRFPjLjR8R6OjsiX3xAf6XfMW/kKTROyAkqsypYd0Gx0TN2AegFs4ew6CDn5r3/J\n",
       "btEidVn5bEplQ4Ycs9ZdxtYVVqWyiI/iCT2NRtnze+wCUqvdBaQ8dgHWuDk9kQF66UtwKj3YyNEF\n",
       "W7FZRympldJ+fOpU/iaJVeygEivbQdlHgKw77pfMPqrJuvsfu8/SpPUYfD43qgru3CXffwxKCnpc\n",
       "H26GLgFCWBv/BUxcTVwot30qAAAAAElFTkSuQmCC\n",
       "\" style=\"display:inline;vertical-align:middle;\" /></a><br>(see <a class=\"ProveItLink\" href=\"../__pv_it/3ed04730be73e5db5150b20799ff40084fe1b8b70/dependencies.ipynb\">dependencies</a>)<br>"
      ],
      "text/plain": [
       "ceilOfRealPlusInt: forall_{x in Reals} [forall_{n in Integers} (ceil(x + n) = (ceil(x) + n))]"
      ]
     },
     "execution_count": 2,
     "metadata": {},
     "output_type": "execute_result"
    }
   ],
   "source": [
    "%proving ceilOfRealPlusInt presuming []"
   ]
  },
  {
   "cell_type": "code",
   "execution_count": null,
   "metadata": {},
   "outputs": [],
   "source": []
  }
 ],
 "metadata": {
  "kernelspec": {
   "display_name": "Python 3",
   "language": "python",
   "name": "python3"
  }
 },
 "nbformat": 4,
 "nbformat_minor": 0
}
