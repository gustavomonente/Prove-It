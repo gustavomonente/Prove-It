{
 "cells": [
  {
   "cell_type": "markdown",
   "metadata": {},
   "source": [
    "Proof of <a class=\"ProveItLink\" href=\"../../../_context_.ipynb\">proveit</a>.<a class=\"ProveItLink\" href=\"../../_context_.ipynb\">number</a>.<a class=\"ProveItLink\" href=\"../_context_.ipynb\">rounding</a>.<a class=\"ProveItLink\" href=\"../_theorems_.ipynb#roundOfRound\">roundOfRound</a> theorem\n",
    "========"
   ]
  },
  {
   "cell_type": "code",
   "execution_count": 1,
   "metadata": {},
   "outputs": [],
   "source": [
    "import proveit\n",
    "context = proveit.Context('..') # the theorem's context is in the parent directory"
   ]
  },
  {
   "cell_type": "code",
   "execution_count": 2,
   "metadata": {},
   "outputs": [
    {
     "name": "stdout",
     "output_type": "stream",
     "text": [
      "Beginning proof of roundOfRound\n",
      "Recorded 'presuming' information\n",
      "Presuming previous theorems (applied transitively).\n"
     ]
    },
    {
     "data": {
      "text/html": [
       "<strong id=\"roundOfRound\">roundOfRound:</strong> <a class=\"ProveItLink\" href=\"../__pv_it/fd8adb4b8e4bc5dda709ccff0c1b76fe9a78b3d00/expr.ipynb\"><img src=\"data:image/png;base64,iVBORw0KGgoAAAANSUhEUgAAAU0AAAAUBAMAAAD7KHJ8AAAAMFBMVEX///8QEBCIiIhmZma6urrM\n",
       "zMxUVFQiIiJERETc3Nzu7u6qqqp2dnaYmJgyMjIAAAAcRTyBAAAAAXRSTlMAQObYZgAABCtJREFU\n",
       "SMetV22IG2UQfpJsLrubTe6w/aGisOa8Q2qhodX+qmfuRIogNL/8QOFC/IAreAQpBelRrhUkQbSh\n",
       "yp3+KNm7ylkO8Rb8UU6ELlEsRmkDrVQravDjh4pylFa8XAvO7Lvb7ILZ3R4OPEfmfWce5mbmnUyA\n",
       "IFHagdc4gUju6brArYhLveqgw8r3fYxP9edJHslDne1//9QWj/uUg2jiox6oC3zJyu99PH4LYBs0\n",
       "kQ3K0YbH/UMHEcVLrXYE3uH69MlLJh9Ats/AhYBrqetx13SBiOKjbgpkDaIw/9s+FZSvs8ArAdda\n",
       "xeOuDglEFB/1gkCmtbw838d+PojsZyiVgOts3uv+i4No4qPOFgT+qVZn+tgPU/lG38tRwZrDBXVY\n",
       "x4Ihff5ubid1yp6RDcSprhP7J3KUvNwDWNwJ9U48PnWc7PBWc9JkdyyOvr2d9E8h4OuMEGo1NzVB\n",
       "BdfyAi8AtT5xvkEW8h/yEOYL6npCGsIO0o9ipY7xutyFTGPHetM8AuUAneXHEV+DVdXVdUh34JjB\n",
       "7qqVeTlFr+AHCED7yxbu3DDqD3BJP0wF7wg8Yj+nm3L6vud+cj8fAp5JlaQiKOEzJxIdVEnvoFFU\n",
       "7wZpKRNJ8yAeRcpC6ov2GOTZpHkYyjUstDFmu2uG1pWoTU9DwCsh1GjhvPEYDd6KQApxd5qrn+xq\n",
       "xzW03Je5FTBWqDUSXeBvI6bjNlv/kQ8otlgBqnqV7B42MLifLmM665k1Ppix3VWKnZkmHXglhBoG\n",
       "xc7TdE1Aa6dcz29Wl0FxXm734sQZQmwWyhWaFslrtj7NB0TKZGliwO1AQ6dBNFlkfaBDBxz/VnsW\n",
       "6v3iDKMGrnjjVDpP8IR6cLQocddwnFav7lw/rFjQ1mlaxIds/YZKB0TKxUnwGL4OnK/TILrH1gfb\n",
       "y9ft+A/ZERb5714Hbn+WEE4Njp2eW0UAtecpOmM6VchCxLkr33tHuItz0kbMwmtUw8ukp7vaionp\n",
       "dJ2bPcb/0w02k0uoZgzSzxitDUrqKrunjR3E7XlHXgmh/pie5bbeO8JHFGwSfwIn7TgTLx5wiWiS\n",
       "KPw/JUp4FdiN8bylXIXW+VrWMwc1e1o0OF27IefJSNqioVHAuUzxKC6VLHbfZx6zN4o9DnxbSjC1\n",
       "tCGv8SKTsAScDloHnqxWq3pcO37RZdrrZBxfbad+WcqtloukKy+Zanlk7l77ThSz+RlVv3z/3Ajr\n",
       "c9+R6dPlAn9eyi0+xN3+qwPf/AymVsvbhnk/yhYFkDHsbk1iQNQ9/awR5XsTwd+bPne1IhBdetTv\n",
       "O7CloXUo2UXRny0ryh5CciH4etN7iI/a2UOELF1stoDXeRqfs06Ouce1YDI5JN+1Te51Xmp3r/NK\n",
       "nPoz6p5sc8wG35/yBly7pThvUnPAYfn4v353ZOoCm/nd8a3AvymniEvp2AGLAAAAAElFTkSuQmCC\n",
       "\" style=\"display:inline;vertical-align:middle;\" /></a><br>(see <a class=\"ProveItLink\" href=\"../__pv_it/fd8adb4b8e4bc5dda709ccff0c1b76fe9a78b3d00/dependencies.ipynb\">dependencies</a>)<br>"
      ],
      "text/plain": [
       "roundOfRound: forall_{x in Reals} (round(round(x)) = round(x))"
      ]
     },
     "execution_count": 2,
     "metadata": {},
     "output_type": "execute_result"
    }
   ],
   "source": [
    "%proving roundOfRound presuming []"
   ]
  },
  {
   "cell_type": "code",
   "execution_count": null,
   "metadata": {},
   "outputs": [],
   "source": []
  }
 ],
 "metadata": {
  "kernelspec": {
   "display_name": "Python 3",
   "language": "python",
   "name": "python3"
  }
 },
 "nbformat": 4,
 "nbformat_minor": 0
}
