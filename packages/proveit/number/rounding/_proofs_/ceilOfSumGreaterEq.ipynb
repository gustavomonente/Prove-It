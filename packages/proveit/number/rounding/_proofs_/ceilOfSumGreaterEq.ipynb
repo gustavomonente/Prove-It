{
 "cells": [
  {
   "cell_type": "markdown",
   "metadata": {},
   "source": [
    "Proof of <a class=\"ProveItLink\" href=\"../../../_context_.ipynb\">proveit</a>.<a class=\"ProveItLink\" href=\"../../_context_.ipynb\">number</a>.<a class=\"ProveItLink\" href=\"../_context_.ipynb\">rounding</a>.<a class=\"ProveItLink\" href=\"../_theorems_.ipynb#ceilOfSumGreaterEq\">ceilOfSumGreaterEq</a> theorem\n",
    "========"
   ]
  },
  {
   "cell_type": "code",
   "execution_count": 1,
   "metadata": {},
   "outputs": [],
   "source": [
    "import proveit\n",
    "context = proveit.Context('..') # the theorem's context is in the parent directory"
   ]
  },
  {
   "cell_type": "code",
   "execution_count": 2,
   "metadata": {},
   "outputs": [
    {
     "name": "stdout",
     "output_type": "stream",
     "text": [
      "Beginning proof of ceilOfSumGreaterEq\n",
      "Recorded 'presuming' information\n",
      "Presuming previous theorems (applied transitively).\n"
     ]
    },
    {
     "data": {
      "text/html": [
       "<strong id=\"ceilOfSumGreaterEq\">ceilOfSumGreaterEq:</strong> <a class=\"ProveItLink\" href=\"../__pv_it/615c4b6b004ceac077ffefa91b6ee2a2f96e38590/expr.ipynb\"><img src=\"data:image/png;base64,iVBORw0KGgoAAAANSUhEUgAAAV8AAAAWBAMAAACVu4KiAAAAMFBMVEX///8QEBCIiIhmZma6urrM\n",
       "zMxUVFQiIiJERETc3Nzu7u6qqqp2dnaYmJgyMjIAAAAcRTyBAAAAAXRSTlMAQObYZgAAA7JJREFU\n",
       "SMfNl01oE0EUx183mya72aRFeqogsQGRXhRL9WSM9VA8SPekF8FYP0CQUq0gaCtFpKSKJSpYQdDV\n",
       "SquhaNGDVDyEFDxEqXsoaIXC4qHFr6UUBRtR3NmvzExmkxU9ODCH/N/8Z347ebPzFuCPmziipz1C\n",
       "gq7na9oYg9zYLf0z/NsmqCCkqz2NxrJQtopBWOwhwDRz5mm7m94F38D3oTowaCwLbasCHAOoz7Im\n",
       "RirqL9GPj76BP/gCFvsUwkLbqgNX/kuRZktF/QYaP+iXN7q5AjgSZ+xwZDGLW2ibQ/SYCQwFatXx\n",
       "FyVbNXrM2Atpyi9wKOsPGPhFGbPQthrAdyr2qWSrRo8Wc7lR3xkxCj6BIZhJlS20rQZwLMUCRirq\n",
       "3zOZft/ACXt2seVYR4EAFhNxuKJg6Sn0TLkW2sYCvrsFhGYLWNrMAkYq6kcAhn0DX7Znn4Q38XME\n",
       "sMQ3wibiPAnbso6FtrGA8zuBW7aAoxoLGKmo7yJP5dONh96To3HlrD17EV4ruwngmwENMgRwtM+1\n",
       "0DYGsDCVhPCgBRzpZQEjFfUQcKrzQn/epnISFMtZSStN9sqKCWfsq64vrdPRNaXUxWEFB+b6FddC\n",
       "28xBs7p+QtcXbWAR1kBD3AIOLqOldbPJLjBSUZfUkLPG2+kcGHjvVPBSmtwTskIfui4l+A0DnjyJ\n",
       "WWgbKyX4EhyQMeCKHXaABW0vesG1b5B5lOsID131HWk4A4SCpwSYcARwErjGMsu1ATyLaBsL2Eip\n",
       "9fZbgmemBFLNyPBhA0rpCaViYOG1Icx8KdgIhIIfumfG+WglgYcgnHZZrn8iziltYwEb7iHwc+jg\n",
       "iUEdhC8AYyZe4OgpNMW9Xm6QUMw2Y83O/wgvCyoJvBW6VPdqvlBebIZhY+5wmv9pAwfoao4r2aoZ\n",
       "aTBXXAXYl8lk4px0dQ7McH2cVFDrtE9Id2tigUqJ8ZYdWVbx08mwsYDF7sSqc3HI5BSBg7+2W6oZ\n",
       "iSpmRgeh3kqAyH4khFJ1MqnUvJqTzGrN/9Uc0GzgCeYdMIFHbkuaBJJsZWwxL1yEkNwFmOJd/IjW\n",
       "w9Rr4lcmcLXiJ4cB98CjlEfxY7UCHhmfKxQBLqFrYjY/lgyuBb57BDDFGTjsVV6G1HC8XF4unUZN\n",
       "diy0jVVeDsB5z/LSqfrpCGdkrP0/wwPzaJeVWgU839L+dwV8R0K2gcPMAh6p7Ij1PXKc1zw+kcR8\n",
       "tWoj7fWJhNvoQVjMODbzzInnwSuCmgp7XsF/2X4DtHZmZ5lJVbsAAAAASUVORK5CYII=\n",
       "\" style=\"display:inline;vertical-align:middle;\" /></a><br>(see <a class=\"ProveItLink\" href=\"../__pv_it/615c4b6b004ceac077ffefa91b6ee2a2f96e38590/dependencies.ipynb\">dependencies</a>)<br>"
      ],
      "text/plain": [
       "ceilOfSumGreaterEq: forall_{x in Reals, y in Reals} (ceil(x + y) >= ((ceil(x) + ceil(y)) - 1))"
      ]
     },
     "execution_count": 2,
     "metadata": {},
     "output_type": "execute_result"
    }
   ],
   "source": [
    "%proving ceilOfSumGreaterEq presuming []"
   ]
  },
  {
   "cell_type": "code",
   "execution_count": null,
   "metadata": {},
   "outputs": [],
   "source": []
  }
 ],
 "metadata": {
  "kernelspec": {
   "display_name": "Python 3",
   "language": "python",
   "name": "python3"
  }
 },
 "nbformat": 4,
 "nbformat_minor": 0
}
