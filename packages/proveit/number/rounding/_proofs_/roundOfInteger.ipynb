{
 "cells": [
  {
   "cell_type": "markdown",
   "metadata": {},
   "source": [
    "Proof of <a class=\"ProveItLink\" href=\"../../../_context_.ipynb\">proveit</a>.<a class=\"ProveItLink\" href=\"../../_context_.ipynb\">number</a>.<a class=\"ProveItLink\" href=\"../_context_.ipynb\">rounding</a>.<a class=\"ProveItLink\" href=\"../_theorems_.ipynb#roundOfInteger\">roundOfInteger</a> theorem\n",
    "========"
   ]
  },
  {
   "cell_type": "code",
   "execution_count": 1,
   "metadata": {},
   "outputs": [],
   "source": [
    "import proveit\n",
    "context = proveit.Context('..') # the theorem's context is in the parent directory"
   ]
  },
  {
   "cell_type": "code",
   "execution_count": 2,
   "metadata": {},
   "outputs": [
    {
     "name": "stdout",
     "output_type": "stream",
     "text": [
      "Beginning proof of roundOfInteger\n",
      "Recorded 'presuming' information\n",
      "Presuming previous theorems (applied transitively).\n"
     ]
    },
    {
     "data": {
      "text/html": [
       "<strong id=\"roundOfInteger\">roundOfInteger:</strong> <a class=\"ProveItLink\" href=\"../__pv_it/f243fc2dc009770db29c4a1c03521dd2c5a75b6b0/expr.ipynb\"><img src=\"data:image/png;base64,iVBORw0KGgoAAAANSUhEUgAAAL4AAAAUBAMAAADB3ZomAAAAMFBMVEX///8QEBCIiIhmZma6urrM\n",
       "zMxUVFQiIiJERETc3Nzu7u6qqqp2dnaYmJgyMjIAAAAcRTyBAAAAAXRSTlMAQObYZgAAAsFJREFU\n",
       "OMulVUtoE2EQ/to8NtnspsX2UMVDTLEXBYOvk9ZYES+COfk4SENRoT1IERGkIlUvW0QbVKookjVC\n",
       "KTnogogUBJfUS6PogqKCVHJQREHJQcE+BGc22WQbd9eAe8jOfDP/zD/fzE4Ar+e2pxVho/KOZJzt\n",
       "jJdYmHO2i6PusQ92AFOWMujiRPgzfn91NkczHpdfBL5Y8j0XH8JvcJ0u93zlEd6/ADlhKVLM2Ynw\n",
       "qEovzdl82iO+NAyhVp7Y7kJwO+RiPn/dpX3DHvGjCdiOfXTxIvyXopxxNrZS/X1DfXG6bHwzchsh\n",
       "rsLewSvdRMbVQr+GbvLJ9VxbT/pM49k6fhQYc44fovHTL2vnED6J+5nETrSWoSsxcR7+lRhXcYkI\n",
       "0OUTAo3gB5Oy7+bDXbHhuyCWbEGDXTMXqn0TNAS0U9gNQYcwa/QiNBrQziL8E3cM9AIjFFKVFvzU\n",
       "hkeN3anjAloNqx2PNxlCRsqpFbUlCVH8QcIOFW1DWIGWGOtymQHitJNOUE527W9sbB2XDMFC303n\n",
       "EcFh66ul+IiUSegCsjEayP4U68ESAZy3k53aYk7xbXi4tJ+EwpaelL/CS0JHjR/4iDtxCXiZoYFc\n",
       "Y+ptRn7JzDtiRkjx7x4b/2ksx8eO0Kiox4Vk1DTIt1K2/rZwst/AaoTSUGSV9CdqcZGKmOb+RtQN\n",
       "dLbaX/vmseEPaMwD+AbcrUyWVGsS1ZPlZFsRSsCX9ndIyCbxQk6dx9u0zsO3Txs3l+C2hvh2vMLU\n",
       "PHBAUZQY9CJuVlfAsFV44SmxNLBuYi3rE+8xGT80kGR5Mp7bztPxqSG+HZd5XALlAIJm0IcGZpvY\n",
       "D9yf+n5w+dJreFYqSZCYC5/PvPc/9xtfrJn9Vq3ndaEIXCTpzbHnn9NWgzPeCcaa2M/LFg7z3+T/\n",
       "Cz9TfyVyu8D//T/KLnUS/gfRdM2xgKoNywAAAABJRU5ErkJggg==\n",
       "\" style=\"display:inline;vertical-align:middle;\" /></a><br>(see <a class=\"ProveItLink\" href=\"../__pv_it/f243fc2dc009770db29c4a1c03521dd2c5a75b6b0/dependencies.ipynb\">dependencies</a>)<br>"
      ],
      "text/plain": [
       "roundOfInteger: forall_{x in Integers} (round(x) = x)"
      ]
     },
     "execution_count": 2,
     "metadata": {},
     "output_type": "execute_result"
    }
   ],
   "source": [
    "%proving roundOfInteger presuming []"
   ]
  },
  {
   "cell_type": "code",
   "execution_count": null,
   "metadata": {},
   "outputs": [],
   "source": []
  }
 ],
 "metadata": {
  "kernelspec": {
   "display_name": "Python 3",
   "language": "python",
   "name": "python3"
  }
 },
 "nbformat": 4,
 "nbformat_minor": 0
}
