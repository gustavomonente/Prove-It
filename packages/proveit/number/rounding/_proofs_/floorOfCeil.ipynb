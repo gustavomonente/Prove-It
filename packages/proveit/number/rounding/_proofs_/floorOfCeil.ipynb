{
 "cells": [
  {
   "cell_type": "markdown",
   "metadata": {},
   "source": [
    "Proof of <a class=\"ProveItLink\" href=\"../../../_context_.ipynb\">proveit</a>.<a class=\"ProveItLink\" href=\"../../_context_.ipynb\">number</a>.<a class=\"ProveItLink\" href=\"../_context_.ipynb\">rounding</a>.<a class=\"ProveItLink\" href=\"../_theorems_.ipynb#floorOfCeil\">floorOfCeil</a> theorem\n",
    "========"
   ]
  },
  {
   "cell_type": "code",
   "execution_count": 1,
   "metadata": {},
   "outputs": [],
   "source": [
    "import proveit\n",
    "context = proveit.Context('..') # the theorem's context is in the parent directory"
   ]
  },
  {
   "cell_type": "code",
   "execution_count": 2,
   "metadata": {},
   "outputs": [
    {
     "name": "stdout",
     "output_type": "stream",
     "text": [
      "Beginning proof of floorOfCeil\n",
      "Recorded 'presuming' information\n",
      "Presuming previous theorems (applied transitively).\n"
     ]
    },
    {
     "data": {
      "text/html": [
       "<strong id=\"floorOfCeil\">floorOfCeil:</strong> <a class=\"ProveItLink\" href=\"../__pv_it/ba9586fb15c92fe1771fef097209d88f1d7a46820/expr.ipynb\"><img src=\"data:image/png;base64,iVBORw0KGgoAAAANSUhEUgAAAK8AAAAVBAMAAADC7aNVAAAAMFBMVEX///8QEBCIiIhmZma6urrM\n",
       "zMxUVFQiIiJERETc3Nzu7u6qqqp2dnaYmJgyMjIAAAAcRTyBAAAAAXRSTlMAQObYZgAAAeNJREFU\n",
       "OMutlU8oBFEcx7+t/WN3366Lct0oOShKjqQcHO2Ji7Llz1GScuDgOJtkk3DBWIU2actBymHitkpz\n",
       "cECpjSJic8TJ7830zFs7f2r5HebNvP3sZ99+f/veAh4V0emyX3o0nzZLr3xIVGC/CY8K6winaFy1\n",
       "pg75pVhBlhMngrlzEO+jQhz3FBMRzAAX/P7FQfxcpThCwDr/xvP23lh7lWKc0aACLG8vDmWqFW/T\n",
       "qgq53JpDEny+OnG8B/hQlDkHcZMszjavtCZcxRLBKMQxIO0gXpTEES02FSqWiS9LvB6EWCZiNPYa\n",
       "Pfyp45aRe3E/K4mZyr78GbcVy0R0kjoEny522WmH7mMoiI1VL68YtfPuGctE4J0+SA+JV69PciDx\n",
       "rW4jBuoSXs2zCC4OFwf4D6+zOemnxA2xZhMFMJz8JTYzfrTEFuGnKJAeJZ06Eeox3kPijnab5kXV\n",
       "NqLcViwTvHk4InsAb8COIa4Znxb0uSTuzy9hwzUKmajRfpL5BAYVRUn42PKVoPsk8W5jtkt3FctE\n",
       "nIcSU420AwiaUUSH1D9v6T3xsMWKDCxpZlzQ/uMQMmv36qwALPANcqntdIvp9B+OTbl8lPG/HPS1\n",
       "Ge+/pkjDTAoH1lQQ4aeZyvO7jMAN8A3QXra9UKU69QAAAABJRU5ErkJggg==\n",
       "\" style=\"display:inline;vertical-align:middle;\" /></a><br>(see <a class=\"ProveItLink\" href=\"../__pv_it/ba9586fb15c92fe1771fef097209d88f1d7a46820/dependencies.ipynb\">dependencies</a>)<br>"
      ],
      "text/plain": [
       "floorOfCeil: forall_{x in Reals} (floor(ceil(x)) = ceil(x))"
      ]
     },
     "execution_count": 2,
     "metadata": {},
     "output_type": "execute_result"
    }
   ],
   "source": [
    "%proving floorOfCeil presuming []"
   ]
  },
  {
   "cell_type": "code",
   "execution_count": null,
   "metadata": {},
   "outputs": [],
   "source": []
  }
 ],
 "metadata": {
  "kernelspec": {
   "display_name": "Python 3",
   "language": "python",
   "name": "python3"
  }
 },
 "nbformat": 4,
 "nbformat_minor": 0
}
