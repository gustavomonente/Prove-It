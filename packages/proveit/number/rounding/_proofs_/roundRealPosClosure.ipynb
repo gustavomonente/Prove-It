{
 "cells": [
  {
   "cell_type": "markdown",
   "metadata": {},
   "source": [
    "Proof of <a class=\"ProveItLink\" href=\"../../../_context_.ipynb\">proveit</a>.<a class=\"ProveItLink\" href=\"../../_context_.ipynb\">number</a>.<a class=\"ProveItLink\" href=\"../_context_.ipynb\">rounding</a>.<a class=\"ProveItLink\" href=\"../_theorems_.ipynb#roundRealPosClosure\">roundRealPosClosure</a> theorem\n",
    "========"
   ]
  },
  {
   "cell_type": "code",
   "execution_count": 1,
   "metadata": {},
   "outputs": [],
   "source": [
    "import proveit\n",
    "context = proveit.Context('..') # the theorem's context is in the parent directory"
   ]
  },
  {
   "cell_type": "code",
   "execution_count": 2,
   "metadata": {},
   "outputs": [
    {
     "name": "stdout",
     "output_type": "stream",
     "text": [
      "Beginning proof of roundRealPosClosure\n",
      "Recorded 'presuming' information\n",
      "Presuming previous theorems (applied transitively).\n"
     ]
    },
    {
     "data": {
      "text/html": [
       "<strong id=\"roundRealPosClosure\">roundRealPosClosure:</strong> <a class=\"ProveItLink\" href=\"../__pv_it/caeae89b1a123e596492ba48e18cb6d6ca5b31d20/expr.ipynb\"><img src=\"data:image/png;base64,iVBORw0KGgoAAAANSUhEUgAAAMsAAAAUBAMAAADRvdT6AAAAMFBMVEX///8QEBCIiIhmZma6urrM\n",
       "zMxUVFQiIiJERETc3Nzu7u6qqqp2dnaYmJgyMjIAAAAcRTyBAAAAAXRSTlMAQObYZgAAAyRJREFU\n",
       "SMelVUtoE1EUPZn8JpNJGsSlwpDYIkUwGNSFUqIuRBAcN1Wwi1BbpQtLFmIRi8QPmipKcGHronRK\n",
       "pZUiJuBCKoKximIUDVixFsRBV7YoaVHpB8H7XiZ/MhZ8MPPmnjvvnXnnfgb493Blzf2DxjxRx89w\n",
       "nT18Mt3mTn2X/VwQUswwHIlK573F6xqezIcZ/ooBs6Y030x8DSl4C7tLepXzmj0CKcfxAaZKzIzF\n",
       "EzRxHtDwrmhMVjmPq37Ax3GvBsgpMxpnwsT5AjhdNIaNebqnhx+s44pDRZTjnsz4eL+pZqber3BF\n",
       "i4Y3zKfDzYbd1SrNMhqGL8bjvbXL5dJjALA13fYrdPhAWAooGNZsz2/5t5DYOxtXIJCmkr9rNykj\n",
       "c3mlYqS73Eoro2F4J9BXS2MtCyS9J86JPvSHpSWrzYfNZJ9HMoFdCXEZIqX7XXxQzpIyemXCdeGZ\n",
       "R4nm8T21GVJJcwY44ozYVNChewetOuJk6xhSpfUgy0mBzeCttg9wc/1ElGgcWmc0jzshlJffg41H\n",
       "v1TSrAW0JKlrXQZ+axYFa7j9mQHONCzk0oiaVVGO3Q/+oKHnaaSI15fH5ayzsKH0KJQVZGQUObQ9\n",
       "tKOMBo/pssTgWqAMtv/idjcDiM7C475QohkoOw3a7AaNS28twNMT4yCamWy1aGihK5mGvEQZLPi4\n",
       "/UcigOiYaGDUlClcNEs5jScVM/C+DlZZW5tUG0sURpOuTgGsYwWfhSWNSxBjM2S7l+VkCt3uBEuB\n",
       "h0IOzYUUsCqFlZRdeBkz8PvEJWjdzrAXeZpQsILmKZ2Yfaw1ggvANuwKpl0/IevvRcVzSmbZalsR\n",
       "c6y/WtPF4/Mxx1bpBt5A7HZ8B0Y4jfXYycoU2FtQ4/UmCsOof6JdJdt1IiW1N97cwHxSe3OAdV+v\n",
       "yheMXtT4fGg+lm90HPdwcIngeDyuCPKNKSb2KpsNypvNmDHvv9xTUSNjpY6es8ORF83dpq2+ddKo\n",
       "3zpr8CFZJ5XVfGwy6cq3+sxpxLo/ghp8dGoyA1xl5fkmPdKy6t8a3yVWzVfvO4whUGz+4yf9sY6f\n",
       "8L+IueP+XT4FkwAAAABJRU5ErkJggg==\n",
       "\" style=\"display:inline;vertical-align:middle;\" /></a><br>(see <a class=\"ProveItLink\" href=\"../__pv_it/caeae89b1a123e596492ba48e18cb6d6ca5b31d20/dependencies.ipynb\">dependencies</a>)<br>"
      ],
      "text/plain": [
       "roundRealPosClosure: forall_{x in RealsPos} (round(x) in Naturals)"
      ]
     },
     "execution_count": 2,
     "metadata": {},
     "output_type": "execute_result"
    }
   ],
   "source": [
    "%proving roundRealPosClosure presuming []"
   ]
  },
  {
   "cell_type": "code",
   "execution_count": null,
   "metadata": {},
   "outputs": [],
   "source": []
  }
 ],
 "metadata": {
  "kernelspec": {
   "display_name": "Python 3",
   "language": "python",
   "name": "python3"
  }
 },
 "nbformat": 4,
 "nbformat_minor": 0
}
