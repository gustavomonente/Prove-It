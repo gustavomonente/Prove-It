{
 "cells": [
  {
   "cell_type": "markdown",
   "metadata": {},
   "source": [
    "Proof of <a class=\"ProveItLink\" href=\"../../../_context_.ipynb\">proveit</a>.<a class=\"ProveItLink\" href=\"../../_context_.ipynb\">number</a>.<a class=\"ProveItLink\" href=\"../_context_.ipynb\">rounding</a>.<a class=\"ProveItLink\" href=\"../_theorems_.ipynb#floorOfSumGreaterEq\">floorOfSumGreaterEq</a> theorem\n",
    "========"
   ]
  },
  {
   "cell_type": "code",
   "execution_count": 1,
   "metadata": {},
   "outputs": [],
   "source": [
    "import proveit\n",
    "context = proveit.Context('..') # the theorem's context is in the parent directory"
   ]
  },
  {
   "cell_type": "code",
   "execution_count": 2,
   "metadata": {},
   "outputs": [
    {
     "name": "stdout",
     "output_type": "stream",
     "text": [
      "Beginning proof of floorOfSumGreaterEq\n",
      "Recorded 'presuming' information\n",
      "Presuming previous theorems (applied transitively).\n"
     ]
    },
    {
     "data": {
      "text/html": [
       "<strong id=\"floorOfSumGreaterEq\">floorOfSumGreaterEq:</strong> <a class=\"ProveItLink\" href=\"../__pv_it/b330312e38e8357f79b30951f73c343b685bf3b10/expr.ipynb\"><img src=\"data:image/png;base64,iVBORw0KGgoAAAANSUhEUgAAASsAAAAWBAMAAABqGadAAAAAMFBMVEX///8QEBCIiIhmZma6urrM\n",
       "zMxUVFQiIiJERETc3Nzu7u6qqqp2dnaYmJgyMjIAAAAcRTyBAAAAAXRSTlMAQObYZgAAAztJREFU\n",
       "SMfFll1o01AUx/9L04+kaR0yEPQlriCyF4dj+lbrfBAfZHnSF8EyP0CQMZ1Q0U2KyOgUpSo4QdDo\n",
       "xI8ycOiDTHwo863KzMPADxgEHzpULGMouIlgkpu2udlNm+3FA4em597/yS+5J/ceYNUmao1G5WYS\n",
       "2XuMw1pN0CCkG03Qm0ncExxjcWAKxK1Zc76xnmDVWC5JY6xQnvhb8/8331hffWGJg6qnpDGWqBO/\n",
       "bY5k/VLFOldgPWe9rWg57yXRXToaC9PE48ZzSZN+scJ5f1jgy4qHpAnWfeKxUqEw5nsNx+ATC8Fc\n",
       "ii1pghVPEf+dyw35xkrYecT2Ez3TVHoxIeO66igdoX+SKWFhPdgOYSPBkjqJHwNGfWNdtfNM4IN8\n",
       "gUov8a3YRlW0sDPPkrCwirvBLRCsmE58j1X5NXu59cgXGsUZOW/nKeG9uo9KfyegI0dhxQaZEgaW\n",
       "MJlEJEuwogPEw+Cq+6z4ukvjJJTqG7E70mbfQ7UQgJlK5VSlUjau1BYZi04sbkhlSnRaZ46JWI91\n",
       "MsEKLhCXtHA108epAgyIz/XjwB1pq9Xoorvke9XgLwfWxGkPCWsR+WUcVmgsQT9gbhXdWxS+03xI\n",
       "A6Jo/PakcQ5UxLkisBCo9ElwrfW73hyGh4SFZRTAZvtL5AeIY/SocWu1P5yKg0B0mTDF5WArqIiz\n",
       "fl8ZFdpBpx9BJF27663vK76SqoSFZShHQJc8XhhsQfwAxi2IwPEz5uSHA1yWilj2huTh/0QWBI1O\n",
       "vwO9Wu3wuVT/YtwS5ttK839trECRuFVswBJwMJfLyZx0YxbWcEimI6bttWu0ryMx50r/qH1XnnVU\n",
       "uyUsLLEvsVTdThXiiKlWpQURIksWPWQGwqkWhY40PXySzA7C3+ET0G2sx7Zbdk/SJUgKqaRSUbiM\n",
       "sNILR8T7qC6Qn5Au/mRieR3VBQdWP56l6KPaXoHZ6RJwxdw8Z4rjyeAm8H3X4IhUJ456NTZhLSLX\n",
       "G5v5jGkKS8JqbIZx0dXYOI0zKolcRfHU+oTqkWZtIN/evfY2sCeh2FiRPHG2TeEkr3s0zeKGjFcj\n",
       "KMxnsg0ljAm1sbuZs8AnEGebhv3v8B/tH0rOOw03ecZGAAAAAElFTkSuQmCC\n",
       "\" style=\"display:inline;vertical-align:middle;\" /></a><br>(see <a class=\"ProveItLink\" href=\"../__pv_it/b330312e38e8357f79b30951f73c343b685bf3b10/dependencies.ipynb\">dependencies</a>)<br>"
      ],
      "text/plain": [
       "floorOfSumGreaterEq: forall_{x in Reals, y in Reals} (floor(x + y) >= (floor(x) + floor(y)))"
      ]
     },
     "execution_count": 2,
     "metadata": {},
     "output_type": "execute_result"
    }
   ],
   "source": [
    "%proving floorOfSumGreaterEq presuming []"
   ]
  },
  {
   "cell_type": "code",
   "execution_count": null,
   "metadata": {},
   "outputs": [],
   "source": []
  }
 ],
 "metadata": {
  "kernelspec": {
   "display_name": "Python 3",
   "language": "python",
   "name": "python3"
  }
 },
 "nbformat": 4,
 "nbformat_minor": 0
}
