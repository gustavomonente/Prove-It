{
 "cells": [
  {
   "cell_type": "markdown",
   "metadata": {},
   "source": [
    "Proof of <a class=\"ProveItLink\" href=\"../../../_context_.ipynb\">proveit</a>.<a class=\"ProveItLink\" href=\"../../_context_.ipynb\">number</a>.<a class=\"ProveItLink\" href=\"../_context_.ipynb\">rounding</a>.<a class=\"ProveItLink\" href=\"../_theorems_.ipynb#roundInTermsOfCeil\">roundInTermsOfCeil</a> theorem\n",
    "========"
   ]
  },
  {
   "cell_type": "code",
   "execution_count": 1,
   "metadata": {},
   "outputs": [],
   "source": [
    "import proveit\n",
    "context = proveit.Context('..') # the theorem's context is in the parent directory"
   ]
  },
  {
   "cell_type": "code",
   "execution_count": 2,
   "metadata": {},
   "outputs": [
    {
     "name": "stdout",
     "output_type": "stream",
     "text": [
      "Beginning proof of roundInTermsOfCeil\n",
      "Recorded 'presuming' information\n",
      "Presuming previous theorems (applied transitively).\n"
     ]
    },
    {
     "data": {
      "text/html": [
       "<strong id=\"roundInTermsOfCeil\">roundInTermsOfCeil:</strong> <a class=\"ProveItLink\" href=\"../__pv_it/c3ecbdb76213e4ba9f947a327a7f5e7e402ad4a20/expr.ipynb\"><img src=\"data:image/png;base64,iVBORw0KGgoAAAANSUhEUgAAAQYAAAAyBAMAAABMh2gAAAAAMFBMVEX///8QEBCIiIhmZma6urrM\n",
       "zMxUVFQiIiJERETc3Nzu7u6qqqp2dnaYmJgyMjIAAAAcRTyBAAAAAXRSTlMAQObYZgAABHJJREFU\n",
       "WMPFmV+IG0Ucx7+bbJLdzSYGH1TEP0vOHloKF6wePmhN9ckXb5/0wUKPqwqKnvEPVeEoqaKmKBhF\n",
       "WvtQb9uTU47iRXyQE6FLEYVY2oAVtSANHvTBPyFc70qTs+hvNpfdXC+b2cQbHMjuzu5vZz4z8/s3\n",
       "G4BbvoGwoo0Hk9NtcQx4OJjYsEAEJKpBpOIpAV1/brWv3gkifjS7+VrwzHNWX82/LmIJzlv9THO8\n",
       "KZYBU3zpWEYww4kiX7oomCHAIF+BYIYEd7Ejy6IZtCWecDglmgE1nrA0LpxhhKdxuyvCGaZ5XYz8\n",
       "J7P4tHbBp1li+Kj2Z7Cp3s/v6MjaeWHjo4M+r4zeusgG/5lTUXJwAtevfh3c0Ntq9meg5dcq0WJg\n",
       "hrWSbOUGdXzPzr/7RZeLvVu5poRku2utOhhDYgUf0knN+w2UY7xjFn5wKycHY6A+kqQeeskvYq32\n",
       "buU74FUvyg/GQHOdKM/NHfJNc1Z6t7IINec1mR2IAZeAy4WCb/wMNdhRHv44bdBcD2W1IQNHLfnb\n",
       "w+k7aQXv3bKKEIUcLf3UA7QQeqYbw7HhD7YZPRkuA08AB3zzWSeg6MofSgqHslojLKcwQvXXMF/E\n",
       "zqLShEJGdhw/GfvaueHpGiuLbQbNTrwQq/ZkuAV4cL1Gf3n7nt+8cOEwPBYbl02WbEwdCVdRoHoV\n",
       "06Z2M6gWI1Uq44z1EClPrss86JbelIs9Ga6nAI5Q21tqX2+vhHSU3bmL1tnRms+2cC5ZkoFrnfp5\n",
       "diNmQ6JHFnExBa93YdCgOEanOdNTM9n1P6zUXYbnibQSa7/z88IciOFcZT0DTjCXmoe6RMYYWXHq\n",
       "k+wGsUiOIi75MpAPMTg6SQxq9RFm3HcPmzJTKsZgr18L7KDfvA29QcYYSjn1KxrdIBa2Fog45iPn\n",
       "PH244DHsNjkML9PvwOPUszUZyzr3iGG7q+C6Yxe4iQ2nAsnGmzS156geb+rzJUzGi0wnvwrVsbXb\n",
       "foUY4tYINc7TSXxB/BH8Bcw4DOEnX/Js0xmgyo7hcZbmj2JnxlaXoVd/VIzEXp0ZpLyq1FVCCdtd\n",
       "GMZK77pRzYfhOnfBaMSPFgoFI6S/f9bzUcveJJ/aRks/m16YMKmuPlvSJrYcvI090ya2DrGglzS7\n",
       "MMymj91X6c3AYlLCchQqgmhrLeK7vB0IP530fPUngX31zD1vdPjqv9vJjF6leTVb+lB2JzVyhcsw\n",
       "QMyiHf+ZbGfMapXZsyfLwNvMR522Z3a44he5DEr/sTtsQUq5DFfFxRDpw3rxffwNbP5qGC6DlEO0\n",
       "4eUwDU4P9wfP5X7Z+Oi4jy42EWWmFu30g8ES4M0sMW93JeV5uX1JDMOY50umjf9nj4O9fWwfwnUh\n",
       "COGOdOctnrAsZs871HHN3fPiRREI8QwOu/6A/6FHiGHsAu7oQ+Mke/MR1KlTo7k+vgWJ+CaWpFQu\n",
       "520P+GURQkv8xgBC75lCGQJ9I92YsW9q2RNIalQkQiIfSCxqCGQI+N8B7hKHoD3Njv8CRrpHcH84\n",
       "cEcAAAAASUVORK5CYII=\n",
       "\" style=\"display:inline;vertical-align:middle;\" /></a><br>(see <a class=\"ProveItLink\" href=\"../__pv_it/c3ecbdb76213e4ba9f947a327a7f5e7e402ad4a20/dependencies.ipynb\">dependencies</a>)<br>"
      ],
      "text/plain": [
       "roundInTermsOfCeil: forall_{x in Reals} (round(x) = ceil(x - (1 / 2)))"
      ]
     },
     "execution_count": 2,
     "metadata": {},
     "output_type": "execute_result"
    }
   ],
   "source": [
    "%proving roundInTermsOfCeil presuming []"
   ]
  },
  {
   "cell_type": "code",
   "execution_count": null,
   "metadata": {},
   "outputs": [],
   "source": []
  }
 ],
 "metadata": {
  "kernelspec": {
   "display_name": "Python 3",
   "language": "python",
   "name": "python3"
  }
 },
 "nbformat": 4,
 "nbformat_minor": 0
}
