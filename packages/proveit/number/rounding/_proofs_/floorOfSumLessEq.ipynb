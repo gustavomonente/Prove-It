{
 "cells": [
  {
   "cell_type": "markdown",
   "metadata": {},
   "source": [
    "Proof of <a class=\"ProveItLink\" href=\"../../../_context_.ipynb\">proveit</a>.<a class=\"ProveItLink\" href=\"../../_context_.ipynb\">number</a>.<a class=\"ProveItLink\" href=\"../_context_.ipynb\">rounding</a>.<a class=\"ProveItLink\" href=\"../_theorems_.ipynb#floorOfSumLessEq\">floorOfSumLessEq</a> theorem\n",
    "========"
   ]
  },
  {
   "cell_type": "code",
   "execution_count": 1,
   "metadata": {},
   "outputs": [],
   "source": [
    "import proveit\n",
    "context = proveit.Context('..') # the theorem's context is in the parent directory"
   ]
  },
  {
   "cell_type": "code",
   "execution_count": 2,
   "metadata": {},
   "outputs": [
    {
     "name": "stdout",
     "output_type": "stream",
     "text": [
      "Beginning proof of floorOfSumLessEq\n",
      "Recorded 'presuming' information\n",
      "Presuming previous theorems (applied transitively).\n"
     ]
    },
    {
     "data": {
      "text/html": [
       "<strong id=\"floorOfSumLessEq\">floorOfSumLessEq:</strong> <a class=\"ProveItLink\" href=\"../__pv_it/6c1f4eea1417208dabb1d6d3637aa937e70785cf0/expr.ipynb\"><img src=\"data:image/png;base64,iVBORw0KGgoAAAANSUhEUgAAAU8AAAAWBAMAAACyFQNKAAAAMFBMVEX///8QEBCIiIhmZma6urrM\n",
       "zMxUVFQiIiJERETc3Nzu7u6qqqp2dnaYmJgyMjIAAAAcRTyBAAAAAXRSTlMAQObYZgAAA2lJREFU\n",
       "SMfNl01oE0EUx//dbD52s6lFCkIFWRuw0ovFUsWDMdaDeNDuST0I1moFQUoFIeIXQaSkiiV6sIKg\n",
       "qxU/gmDRg1REQgWFKHUPhapQWDxYFFxKUbAVxd2dTbIbZ5qNePDBS8ib+b/8MvNm5wWo2URtsVG5\n",
       "mkRmj3H4dyZoELoXm6BXk1ROcI3V0xKOOW7rpn2D3kXNoBWSWkFDWeKvrA+ffYN+qgG0RaFJagGN\n",
       "NpmloRO/Ys1N++WMtf0BGpXpoOJLmSopTnjIBi2mvP1iwXwdJ16vAtKoX9Bw1i+osF6jS2oARcwC\n",
       "vUE8Vsjlhn3v/DB8ggp9owxJzaD1SeLfM5mTvkHjTmax+VDnuCerGJdxUS1yBIeSLAkN9OZaCE0s\n",
       "UKmNeC8w6Bv0gpP5Pqbk056sEt+ANSWOjMKU0EDzm8HNskBjOvEt9pkq2ePV+z944dyRE07mAt6o\n",
       "2zxZrwZ0ZEocLa1gSSigwmgCkTQLNNpPPAyueDeIT9s1TkKhXHWVkUbnW1UbylxHw5hZYRhWpE7G\n",
       "XJljqgCGxJ4wYRhHDOOjAypiKZbIDmg5pQManCUuaeFizrdjOZhY78uXWmWksVT9c5WHqUsNfnMt\n",
       "2LMNDAlt6/kF7FVYK1oEFfSd1oOqY5XCt1n3rYmVN987u3Ecnoh7H2FDebImwDW4n6M7eukSGqhZ\n",
       "NiuZp57vJ47BAyaM2hdO2vNMrHYLL78QbIAn4j4ZT8zab/VmHUCk23Px7D5LldBATeUAqh0mPDJp\n",
       "g/gCjNhYgYNHLfmtfi7tidj2nGTmf0RmBc2bdR26NO8NeVmhSagr2s3/pIFyFmggT9wuY2Ae2JXJ\n",
       "ZGROujQJezgkeyOWbXWqv6c1Pl153zVvytKakkoJDVTsic9TQAP7fm00owpxxFS7YoMIkY2O7rEC\n",
       "4WSd4o1UvUIT1O7J3xUa0Gkratsdx227LukSJIVUZCEvnENY6YIrwm5KRPIjQrr4lQrKakpyLtA+\n",
       "PEi6QEXVncBpSpx9mxw3H3znrcf7RH4kEVwOvmcIrkhx4iCrzQtrEbnEIc6kLFNoElqbdwpnmP1o\n",
       "sc1zG2dWpLP4uGcf13KkWuPMN3f8fePcGVeYoJEscbqN4TCvM/6KiMtSrNZZmEmlF5VQJpTGrqWO\n",
       "0XK+c5xuGra/xn9lvwEwtkhybiC3qwAAAABJRU5ErkJggg==\n",
       "\" style=\"display:inline;vertical-align:middle;\" /></a><br>(see <a class=\"ProveItLink\" href=\"../__pv_it/6c1f4eea1417208dabb1d6d3637aa937e70785cf0/dependencies.ipynb\">dependencies</a>)<br>"
      ],
      "text/plain": [
       "floorOfSumLessEq: forall_{x in Reals, y in Reals} (floor(x + y) <= (floor(x) + floor(y) + 1))"
      ]
     },
     "execution_count": 2,
     "metadata": {},
     "output_type": "execute_result"
    }
   ],
   "source": [
    "%proving floorOfSumLessEq presuming []"
   ]
  },
  {
   "cell_type": "code",
   "execution_count": null,
   "metadata": {},
   "outputs": [],
   "source": []
  }
 ],
 "metadata": {
  "kernelspec": {
   "display_name": "Python 3",
   "language": "python",
   "name": "python3"
  }
 },
 "nbformat": 4,
 "nbformat_minor": 0
}
