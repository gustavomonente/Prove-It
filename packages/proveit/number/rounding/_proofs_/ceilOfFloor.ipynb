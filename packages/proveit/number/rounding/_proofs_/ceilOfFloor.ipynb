{
 "cells": [
  {
   "cell_type": "markdown",
   "metadata": {},
   "source": [
    "Proof of <a class=\"ProveItLink\" href=\"../../../_context_.ipynb\">proveit</a>.<a class=\"ProveItLink\" href=\"../../_context_.ipynb\">number</a>.<a class=\"ProveItLink\" href=\"../_context_.ipynb\">rounding</a>.<a class=\"ProveItLink\" href=\"../_theorems_.ipynb#ceilOfFloor\">ceilOfFloor</a> theorem\n",
    "========"
   ]
  },
  {
   "cell_type": "code",
   "execution_count": 1,
   "metadata": {},
   "outputs": [],
   "source": [
    "import proveit\n",
    "context = proveit.Context('..') # the theorem's context is in the parent directory"
   ]
  },
  {
   "cell_type": "code",
   "execution_count": 2,
   "metadata": {},
   "outputs": [
    {
     "name": "stdout",
     "output_type": "stream",
     "text": [
      "Beginning proof of ceilOfFloor\n",
      "Recorded 'presuming' information\n",
      "Presuming previous theorems (applied transitively).\n"
     ]
    },
    {
     "data": {
      "text/html": [
       "<strong id=\"ceilOfFloor\">ceilOfFloor:</strong> <a class=\"ProveItLink\" href=\"../__pv_it/7bb5187123d8cec2edd7a4d1a96ff06f6ddcb2d00/expr.ipynb\"><img src=\"data:image/png;base64,iVBORw0KGgoAAAANSUhEUgAAAK8AAAAVBAMAAADC7aNVAAAAMFBMVEX///8QEBCIiIhmZma6urrM\n",
       "zMxUVFQiIiJERETc3Nzu7u6qqqp2dnaYmJgyMjIAAAAcRTyBAAAAAXRSTlMAQObYZgAAAeJJREFU\n",
       "OMutlb1Lw0Achl9iv3uti39AUSgOggVxVAoOjnbSRbDgxygiooIOjimiFhF1UVOFKgWh4CAFh1C3\n",
       "CiWDgwpCURAULI7q5F1jzMXmA9r+lstdnzy5vJe7Ag4V2Kwmca73BfirVbkOMxDO5VfgT9J2Vx8K\n",
       "s4dV6kgjUaBNjXm0EJ/BVAwnsScN3LDrNwvxa4Ni9kr77I3XzL2hWINiFGkjASRvLvamGxVn6KxK\n",
       "udyeRRJsvDFxOA58iuKqhbiLFx9Hd3oitmKOIDTEaSBlId7gxAE5NO+tGMTlKqtnTcwTIdoOGT/L\n",
       "y+7JJ+16hRMTiXy70nYz5ongHF0hCIq2y676FIGgFPntd/Azhm/NPmOecH/QByle7de7Qg5U/KCY\n",
       "iIH2iNPi6QQT+yuj7MPrjyZcMbbTqVg2iQKYSPwTqxm/6GKdcNEokJqiOmnWG6/dQ8V9MZPFC0q9\n",
       "lLKbMU+wxcMFtbvxDpzUxG0zCxp9zYlH8ls4sI2CJ9rkv2S+gDFRFCMC2b7V6GFOnO08HlBsxTwR\n",
       "ZqGEpFrabnjUKILjUtNb+lTrHJEKAUmoGZfkVhxCamVviyVgnW2QsnwyqA2nmjg2+RJoxi056H1p\n",
       "57+mAMsls7SoDhwuLbMmWUcaiXvgBwnes6uWu56HAAAAAElFTkSuQmCC\n",
       "\" style=\"display:inline;vertical-align:middle;\" /></a><br>(see <a class=\"ProveItLink\" href=\"../__pv_it/7bb5187123d8cec2edd7a4d1a96ff06f6ddcb2d00/dependencies.ipynb\">dependencies</a>)<br>"
      ],
      "text/plain": [
       "ceilOfFloor: forall_{x in Reals} (ceil(floor(x)) = floor(x))"
      ]
     },
     "execution_count": 2,
     "metadata": {},
     "output_type": "execute_result"
    }
   ],
   "source": [
    "%proving ceilOfFloor presuming []"
   ]
  },
  {
   "cell_type": "code",
   "execution_count": null,
   "metadata": {},
   "outputs": [],
   "source": []
  }
 ],
 "metadata": {
  "kernelspec": {
   "display_name": "Python 3",
   "language": "python",
   "name": "python3"
  }
 },
 "nbformat": 4,
 "nbformat_minor": 0
}
