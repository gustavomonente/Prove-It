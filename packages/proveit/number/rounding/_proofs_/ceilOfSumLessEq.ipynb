{
 "cells": [
  {
   "cell_type": "markdown",
   "metadata": {},
   "source": [
    "Proof of <a class=\"ProveItLink\" href=\"../../../_context_.ipynb\">proveit</a>.<a class=\"ProveItLink\" href=\"../../_context_.ipynb\">number</a>.<a class=\"ProveItLink\" href=\"../_context_.ipynb\">rounding</a>.<a class=\"ProveItLink\" href=\"../_theorems_.ipynb#ceilOfSumLessEq\">ceilOfSumLessEq</a> theorem\n",
    "========"
   ]
  },
  {
   "cell_type": "code",
   "execution_count": 1,
   "metadata": {},
   "outputs": [],
   "source": [
    "import proveit\n",
    "context = proveit.Context('..') # the theorem's context is in the parent directory"
   ]
  },
  {
   "cell_type": "code",
   "execution_count": 2,
   "metadata": {},
   "outputs": [
    {
     "name": "stdout",
     "output_type": "stream",
     "text": [
      "Beginning proof of ceilOfSumLessEq\n",
      "Recorded 'presuming' information\n",
      "Presuming previous theorems (applied transitively).\n"
     ]
    },
    {
     "data": {
      "text/html": [
       "<strong id=\"ceilOfSumLessEq\">ceilOfSumLessEq:</strong> <a class=\"ProveItLink\" href=\"../__pv_it/6cdcdbdada76918d5c563be67df6f01da200cd590/expr.ipynb\"><img src=\"data:image/png;base64,iVBORw0KGgoAAAANSUhEUgAAASsAAAAWBAMAAABqGadAAAAAMFBMVEX///8QEBCIiIhmZma6urrM\n",
       "zMxUVFQiIiJERETc3Nzu7u6qqqp2dnaYmJgyMjIAAAAcRTyBAAAAAXRSTlMAQObYZgAAAzpJREFU\n",
       "SMfFlk1o1EAUx//dTXY3abYW6UkvsQtWerFYqnhZ13oQD9qc1IPgUq0gSGlBEPyiiJRUsawerCBo\n",
       "tOLHIlr0IBWRpR6EVWoOhapQCB4URUMpCrYimMlkt5ntZDftxQePzb6Z/5sfmZd5Ayzb5GE7GzAk\n",
       "2XahqoQzoTx2w/6OlZpkQspWY7ZqSJZM8I09AsZB3Z01ExrrPqpjwaolqYLVAMRy1N+Q/99CY31d\n",
       "BlaLxpNUxyIvk/g1MjIQlirZtgTrSQCW/FrlSqwKHYuFCeoNBqCMhcWK58JiSVtMvqQG1i3qyWI+\n",
       "PxJ6D0cQEkvqHQuQ1MBqyFD/reunQ2OlvDxy89HOCSa9nFJx2SitKg5ngiQ8rNubIK2hWEob9R5g\n",
       "KDTWJS/PQ0yrZ5n0itCIjeVVdS1QwsMqbEdklmIlLeo72KPk2YZDn1gUf+SUl6eId8YuJv31qAW9\n",
       "vGpLK4IkHCxpLI3EAMWq76MeR8QsfTwv2s2IgqK6ePhVRJq8NQwXAZi07X7b/uw8GXUq5hZXnS4i\n",
       "QGKxOjImYzVWqRRLnKWumPFShvfjeTgQH00ERZrKNTpXWfJdhvjL9zJebg2Q8DZRWMBBjcWSrL3k\n",
       "qOhYrwlOpbkQpG11ZnESTMS/I3ARmPRpRBr959aeHr6Eh+UUwDrvSxT6qGPosLO00RvPkCiBaCcw\n",
       "hQWxEUzEX7/PnQptZdMPIpFlDvH957kSHpajHARb8njqsIn4AYy6ENEjx8nkO32RASbi2iuaR/iT\n",
       "mJVMNv1mdJlsb7mq8STct5UV/npY0QJ1t9iAeWCfrutqRLkyBXc4prIRYju9Gu1uTc1UpL/bvC3H\n",
       "a9WVEh6W3J2aLx2nGnUkDbfSRMToltUfIIF4pk5jIzWbT5p7gwjXfKKWh3XPc9duKpYCRaOVVCxI\n",
       "FxDXuuCLBLfqPP2JWfJPLlZQq877sHrxOMO2am8Hpiacg+YiOTwnC6NpcS2E7mH4IqWJQ0EXm7iZ\n",
       "UMuryl9OENN4Et7F5gzOVVxs/BZxKok+1eOB+wktRmpdA4XmjpVfAztTmoeVyFHn2ziOCVbApVku\n",
       "VOua2VqSygm+MaeUP4A630zsfov/aP8AI/U/d40LZyoAAAAASUVORK5CYII=\n",
       "\" style=\"display:inline;vertical-align:middle;\" /></a><br>(see <a class=\"ProveItLink\" href=\"../__pv_it/6cdcdbdada76918d5c563be67df6f01da200cd590/dependencies.ipynb\">dependencies</a>)<br>"
      ],
      "text/plain": [
       "ceilOfSumLessEq: forall_{x in Reals, y in Reals} (ceil(x + y) <= (ceil(x) + ceil(y)))"
      ]
     },
     "execution_count": 2,
     "metadata": {},
     "output_type": "execute_result"
    }
   ],
   "source": [
    "%proving ceilOfSumLessEq presuming []"
   ]
  },
  {
   "cell_type": "code",
   "execution_count": null,
   "metadata": {},
   "outputs": [],
   "source": []
  }
 ],
 "metadata": {
  "kernelspec": {
   "display_name": "Python 3",
   "language": "python",
   "name": "python3"
  }
 },
 "nbformat": 4,
 "nbformat_minor": 0
}
