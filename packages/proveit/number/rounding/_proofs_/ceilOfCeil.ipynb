{
 "cells": [
  {
   "cell_type": "markdown",
   "metadata": {},
   "source": [
    "Proof of <a class=\"ProveItLink\" href=\"../../../_context_.ipynb\">proveit</a>.<a class=\"ProveItLink\" href=\"../../_context_.ipynb\">number</a>.<a class=\"ProveItLink\" href=\"../_context_.ipynb\">rounding</a>.<a class=\"ProveItLink\" href=\"../_theorems_.ipynb#ceilOfCeil\">ceilOfCeil</a> theorem\n",
    "========"
   ]
  },
  {
   "cell_type": "code",
   "execution_count": 1,
   "metadata": {},
   "outputs": [],
   "source": [
    "import proveit\n",
    "context = proveit.Context('..') # the theorem's context is in the parent directory"
   ]
  },
  {
   "cell_type": "code",
   "execution_count": 2,
   "metadata": {},
   "outputs": [
    {
     "name": "stdout",
     "output_type": "stream",
     "text": [
      "Beginning proof of ceilOfCeil\n",
      "Recorded 'presuming' information\n",
      "Presuming previous theorems (applied transitively).\n"
     ]
    },
    {
     "data": {
      "text/html": [
       "<strong id=\"ceilOfCeil\">ceilOfCeil:</strong> <a class=\"ProveItLink\" href=\"../__pv_it/2ac852b6a01f6b68dbc6fd8e27a97865593f07c80/expr.ipynb\"><img src=\"data:image/png;base64,iVBORw0KGgoAAAANSUhEUgAAAK8AAAAVBAMAAADC7aNVAAAAMFBMVEX///8QEBCIiIhmZma6urrM\n",
       "zMxUVFQiIiJERETc3Nzu7u6qqqp2dnaYmJgyMjIAAAAcRTyBAAAAAXRSTlMAQObYZgAAAeRJREFU\n",
       "OMutlc0rBGEcx7+tXfv27Lr4AzZKDoqSIykHR3viomx5OUpy4+A4m7BJuGBQaJO2HKQcJm6rNAcH\n",
       "lNooRUyOOPk9Mx7zjJ2ZreW5PPM8+5nPPPP9zfMsUKHFFowM9o1Ha7RhvCBqGFoZ5iAqt6iOaIb6\n",
       "FXvqkD+sVEY6iRPqTObOQ7yPMnES4iYvMRG1OeCCXz97iJ+qFPNXWuNvPOvuTbRVKcYZdSrACu7i\n",
       "cK5a8RatqpjPr3okweerEye7gXdFmfEQN8ri7abllpSvWCIYhTgKZD3E85I4piUmwyWH+NLg7UGI\n",
       "ZSJBfY/zszxuHr4X19OSmKnsM5jzW7FMxCeoQgjoYpedtusBhmLqe1wvrxiRWf+MZSL0Rg/Sw+LX\n",
       "65M8SHyru4iBulSl4tkEF0dL/fzD62hKBylxU6y5RAEMpX+JrYwfbbFNBCkKZEdIp46Hu817SNze\n",
       "5lK8uNpKlN+KZYIXD0dkD+EV2DHFNWNTgj6XxH2FRaz7RiETNdpPMh/AgKIoqQBbuhJ0ryTebdju\n",
       "1H3FMpHkoSRUM+0Qaq0o4oPqn7f0nhhsshIDS1sZF7X/OISstnt1VgTm+Aa51Ha6xHT2D8em3AKU\n",
       "8b8c9JFc5b+mGM/lwJ4yC5EpI53EDfAFNAi4o/kDshIAAAAASUVORK5CYII=\n",
       "\" style=\"display:inline;vertical-align:middle;\" /></a><br>(see <a class=\"ProveItLink\" href=\"../__pv_it/2ac852b6a01f6b68dbc6fd8e27a97865593f07c80/dependencies.ipynb\">dependencies</a>)<br>"
      ],
      "text/plain": [
       "ceilOfCeil: forall_{x in Reals} (ceil(ceil(x)) = ceil(x))"
      ]
     },
     "execution_count": 2,
     "metadata": {},
     "output_type": "execute_result"
    }
   ],
   "source": [
    "%proving ceilOfCeil presuming []"
   ]
  },
  {
   "cell_type": "code",
   "execution_count": null,
   "metadata": {},
   "outputs": [],
   "source": []
  }
 ],
 "metadata": {
  "kernelspec": {
   "display_name": "Python 3",
   "language": "python",
   "name": "python3"
  }
 },
 "nbformat": 4,
 "nbformat_minor": 0
}
