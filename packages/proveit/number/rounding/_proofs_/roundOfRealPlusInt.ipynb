{
 "cells": [
  {
   "cell_type": "markdown",
   "metadata": {},
   "source": [
    "Proof of <a class=\"ProveItLink\" href=\"../../../_context_.ipynb\">proveit</a>.<a class=\"ProveItLink\" href=\"../../_context_.ipynb\">number</a>.<a class=\"ProveItLink\" href=\"../_context_.ipynb\">rounding</a>.<a class=\"ProveItLink\" href=\"../_theorems_.ipynb#roundOfRealPlusInt\">roundOfRealPlusInt</a> theorem\n",
    "========"
   ]
  },
  {
   "cell_type": "code",
   "execution_count": 1,
   "metadata": {},
   "outputs": [],
   "source": [
    "import proveit\n",
    "context = proveit.Context('..') # the theorem's context is in the parent directory"
   ]
  },
  {
   "cell_type": "code",
   "execution_count": 2,
   "metadata": {},
   "outputs": [
    {
     "name": "stdout",
     "output_type": "stream",
     "text": [
      "Beginning proof of roundOfRealPlusInt\n",
      "Recorded 'presuming' information\n",
      "Presuming previous theorems (applied transitively).\n"
     ]
    },
    {
     "data": {
      "text/html": [
       "<strong id=\"roundOfRealPlusInt\">roundOfRealPlusInt:</strong> <a class=\"ProveItLink\" href=\"../__pv_it/c3ddf24372019c0b4e51288d8f8959d46af666470/expr.ipynb\"><img src=\"data:image/png;base64,iVBORw0KGgoAAAANSUhEUgAAAaQAAAAUBAMAAAAw31THAAAAMFBMVEX///8QEBCIiIhmZma6urrM\n",
       "zMxUVFQiIiJERETc3Nzu7u6qqqp2dnaYmJgyMjIAAAAcRTyBAAAAAXRSTlMAQObYZgAABWRJREFU\n",
       "WMO1V21oHGUQfpK7y93t7SbBVlBRWS8mLTG0R6PijyQmESmi0KM//EAlZ9RCipYgIVgaShpB7qja\n",
       "o0qihZJNKlGiNAdSSkTIkZ6Kp6QHrdRUGg/bKiqGUBoxSQvOvLub272PTULx/XHsvM+8M/PsOzM3\n",
       "CzisbVedUPgzjjCOl0QC8Q2p27wVPQtMGtBcD7IsXypuJeWI4tPS/j2HQpD6S+NdhVtO6s9usnjr\n",
       "KqpSETegFL5n+c9SlJxQ/OHwTqsSqIyXhk8WbjmpY8Xi7WRRDSlrQCl8yHfaX4qSE6qEHGLYpeGc\n",
       "PddUqySrBSfOOVhzL1u8mWftFjFtQClUavSUKEXJCfU6vdZvgf0OlKTqghP7HazJ3RZv5tk8SiMG\n",
       "lIKSHh8fQilKTuiQUzFfhr/bgRKuFFR/t4O1ypDV25WiFitbdSgF/BuN9pWk5ITWUELUfRwkw9M1\n",
       "rVKNihHN/c1HwR0UXlPtCsopU6RgV/u0LQBDA2fyrbF6+972IF1J8EGM7oB0F57qOkpm8f50R4K9\n",
       "YbTugwZ19axJydCSQ7pZCvpVIFaakgP6Lpnx/eWrxlCrtORyV2M7yQOYiKMt7luGj5ru57igHrQF\n",
       "YGhgTkgz87wu8yOrJ99LHIK/hxRCbShfQDKqSktw34kjGnuTksob3qx5dpWSrgWF+8OcCPoxvVmY\n",
       "6/TWl3+1UMpD8dI7jzQajweA570Rdxh0jX3HXVlESc5iOCzdA5K8VIJpnNWesAWga5CbgspMwJPo\n",
       "xePwJuH9LtMCX78ncRD+RYxk0CK8yZq87I6vnjUsGloIcOaeFkF7UW7+ZUpfNWbKZaTVHCULis/O\n",
       "NFMRp+sNcTOgTVACu5aBf7QyFbcJ+RfeoLjKCNKIprib+fnf752fj8DQADryKZG6JF2nh0c1VO0l\n",
       "W2Uqy8oCb/QJbxLRhHE2Z9HQgmdBhyhoOeM1zf40OQ6idDGTo2RBlcPHNCQ8s5kcJUxxMP3wX6Ou\n",
       "7VkU8j7eoMCZEnAtvz0IjeKUEOCo7gCGVeraHWGWK7K0wVQ3i387FbmzpkVdy0rJn32au/pDdWE3\n",
       "FxhTSuYoCVRp3l3DOcjLJSOXeJwRmEhCXqKuXV4t5JsSbUyJTCI/i/mUhAaw01JLvxmJx+kK6QZw\n",
       "Nk5d+z4hV2XGbwiqBwSZMP/utFsUWhrc3TpEQSP2ChHR9nlbK6FTagzlKAlUacuUxfXhCLOnLO0B\n",
       "d/Ory6AsibcpKy6SHFiWJxLYF4hzvX9JNV5vD0BorJZ4brF6Gb/Lm6zjiyCqaCRPaekVuoRJ9hbQ\n",
       "tlOgBe1BaCWt7QFfED0P/gZOCEquPT2W9iDQY1tQpUmCqKSaV8gNk8sSrgjeAh5GWyjpvw45+6NP\n",
       "VXplbqruFd/C6rSpB6BrAE0F/6ZknvsGGfKFyKZ7k4zhVswo4QFciCTZ267EETHbNtkp6VpwJXUo\n",
       "tZqg1AafiUajarl89LyVkkA70QbPm9HoAGRZ82s6SpcsLhs/NFAdjAUnO8Mk+19PSJ21g/czJnXW\n",
       "11yyJ56uARTM+GxKZJQ8TW6lzgcGa1ke/JksP9fZys9jwdFmfkFX7ZR0LVSGdYiDVjhEz4IHFXri\n",
       "BV7QLJQEejuaPIjw1pMvQo6vYyDCGgNR94YGIps382ze9PCJAaUMeVjOUqqE9VpKW9qDni0L6DmF\n",
       "r/kxFDKr03lsLZhDJe0WxlabN/Os3aJlbNXX2PnpNHCY/6xmkida8ii5I2jIwEf5oux5babXNBJz\n",
       "DsK3sY8L3xqXHlv3x4VtzqJayhuIrGsr1dI6PwHX+qaLbUzd5i1W+gXGCoPOW1v+rw915RY+1JXi\n",
       "tzlrQNt6/gMZjccyG1uueQAAAABJRU5ErkJggg==\n",
       "\" style=\"display:inline;vertical-align:middle;\" /></a><br>(see <a class=\"ProveItLink\" href=\"../__pv_it/c3ddf24372019c0b4e51288d8f8959d46af666470/dependencies.ipynb\">dependencies</a>)<br>"
      ],
      "text/plain": [
       "roundOfRealPlusInt: forall_{x in Reals} [forall_{n in Integers} (round(x + n) = (round(x) + n))]"
      ]
     },
     "execution_count": 2,
     "metadata": {},
     "output_type": "execute_result"
    }
   ],
   "source": [
    "%proving roundOfRealPlusInt presuming []"
   ]
  },
  {
   "cell_type": "code",
   "execution_count": null,
   "metadata": {},
   "outputs": [],
   "source": []
  }
 ],
 "metadata": {
  "kernelspec": {
   "display_name": "Python 3",
   "language": "python",
   "name": "python3"
  }
 },
 "nbformat": 4,
 "nbformat_minor": 0
}
