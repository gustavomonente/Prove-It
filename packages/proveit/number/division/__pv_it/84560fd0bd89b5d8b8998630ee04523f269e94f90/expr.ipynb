{
 "cells": [
  {
   "cell_type": "markdown",
   "metadata": {},
   "source": [
    "Expression of type <a class=\"ProveItLink\" href=\"../../../../../../doc/html/api/proveit.Conditional.html\">Conditional</a>\n",
    "=======================\n",
    "# from context <a class=\"ProveItLink\" href=\"../../_context_.ipynb\">proveit.number.division</a>"
   ]
  },
  {
   "cell_type": "code",
   "execution_count": 1,
   "metadata": {},
   "outputs": [],
   "source": [
    "import proveit\n",
    "# Automation is not needed when building an expression:\n",
    "proveit.defaults.automation = False # This will speed things up.\n",
    "proveit.defaults.inline_pngs = False # Makes files smaller.\n",
    "# import Expression classes needed to build the expression\n",
    "from proveit import Conditional\n",
    "from proveit._common_ import w, x, y, z\n",
    "from proveit.logic import And, Equals, InSet\n",
    "from proveit.number import Complexes, Mult, frac"
   ]
  },
  {
   "cell_type": "code",
   "execution_count": 2,
   "metadata": {},
   "outputs": [
    {
     "data": {
      "text/html": [
       "<strong id=\"expr\">expr:</strong> <a class=\"ProveItLink\" href=\"expr.ipynb\"><img src=\"expr.png\" style=\"display:inline;vertical-align:middle;\" /></a><br>"
      ],
      "text/plain": [
       "expr: {((x / z) * (y / w)) = ((x * y) / (z * w)) if x in Complexes ,  y in Complexes ,  z in Complexes ,  w in Complexes."
      ]
     },
     "execution_count": 2,
     "metadata": {},
     "output_type": "execute_result"
    }
   ],
   "source": [
    "# build up the expression from sub-expressions\n",
    "expr = Conditional(Equals(Mult(frac(x, z), frac(y, w)), frac(Mult(x, y), Mult(z, w))), And(InSet(x, Complexes), InSet(y, Complexes), InSet(z, Complexes), InSet(w, Complexes)))"
   ]
  },
  {
   "cell_type": "code",
   "execution_count": 3,
   "metadata": {},
   "outputs": [
    {
     "name": "stdout",
     "output_type": "stream",
     "text": [
      "Passed sanity check: built 'expr' is the same as the stored Expression.\n"
     ]
    }
   ],
   "source": [
    "# check that the built expression is the same as the stored expression\n",
    "%check_expr"
   ]
  },
  {
   "cell_type": "code",
   "execution_count": 4,
   "metadata": {},
   "outputs": [
    {
     "name": "stdout",
     "output_type": "stream",
     "text": [
      "\\left\\{\\left(\\frac{x}{z} \\cdot \\frac{y}{w}\\right) = \\frac{x \\cdot y}{z \\cdot w} \\textrm{ if } x \\in \\mathbb{C} ,  y \\in \\mathbb{C} ,  z \\in \\mathbb{C} ,  w \\in \\mathbb{C}\\right..\n"
     ]
    }
   ],
   "source": [
    "# Show the LaTeX representation of the expression for convenience if you need it.\n",
    "print(expr.latex())"
   ]
  },
  {
   "cell_type": "code",
   "execution_count": 5,
   "metadata": {},
   "outputs": [
    {
     "data": {
      "text/html": [
       "<table><tr><th>&nbsp;</th><th>core type</th><th>sub-expressions</th><th>expression</th></tr>\n",
       "<tr><td>0</td><td>Conditional</td><td>value:&nbsp;1<br>condition:&nbsp;2<br></td><td><a class=\"ProveItLink\" href=\"expr.ipynb\"><img src=\"expr.png\" style=\"display:inline;vertical-align:middle;\" /></a></td></tr>\n",
       "<tr><td>1</td><td>Operation</td><td>operator:&nbsp;3<br>operands:&nbsp;4<br></td><td><a class=\"ProveItLink\" href=\"../88baa4f2a41e16eac190f4eea69ee2060699956c0/expr.ipynb\"><img src=\"../88baa4f2a41e16eac190f4eea69ee2060699956c0/expr.png\" style=\"display:inline;vertical-align:middle;\" /></a></td></tr>\n",
       "<tr><td>2</td><td>Operation</td><td>operator:&nbsp;5<br>operands:&nbsp;6<br></td><td><a class=\"ProveItLink\" href=\"../5e8c21beced985876803d2a7e936cfd3158e97020/expr.ipynb\"><img src=\"../5e8c21beced985876803d2a7e936cfd3158e97020/expr.png\" style=\"display:inline;vertical-align:middle;\" /></a></td></tr>\n",
       "<tr><td>3</td><td>Literal</td><td></td><td><a class=\"ProveItLink\" href=\"../../../../logic/equality/__pv_it/e16d2caa26a16688b658bdb9c422caf4b84579e10/expr.ipynb\"><img src=\"../../../../logic/equality/__pv_it/e16d2caa26a16688b658bdb9c422caf4b84579e10/expr.png\" style=\"display:inline;vertical-align:middle;\" /></a></td></tr>\n",
       "<tr><td>4</td><td>ExprTuple</td><td>7, 8</td><td><a class=\"ProveItLink\" href=\"../ccdcee0999532bb8b2eda1f80a8658445556bbd10/expr.ipynb\"><img src=\"../ccdcee0999532bb8b2eda1f80a8658445556bbd10/expr.png\" style=\"display:inline;vertical-align:middle;\" /></a></td></tr>\n",
       "<tr><td>5</td><td>Literal</td><td></td><td><a class=\"ProveItLink\" href=\"../../../../logic/boolean/conjunction/__pv_it/f41cc6b553210927c09f19a8a39cdf860a5585930/expr.ipynb\"><img src=\"../../../../logic/boolean/conjunction/__pv_it/f41cc6b553210927c09f19a8a39cdf860a5585930/expr.png\" style=\"display:inline;vertical-align:middle;\" /></a></td></tr>\n",
       "<tr><td>6</td><td>ExprTuple</td><td>9, 10, 11, 12</td><td><a class=\"ProveItLink\" href=\"../eeb16fe39693454dfd9af10878d07fcbc13010ab0/expr.ipynb\"><img src=\"../eeb16fe39693454dfd9af10878d07fcbc13010ab0/expr.png\" style=\"display:inline;vertical-align:middle;\" /></a></td></tr>\n",
       "<tr><td>7</td><td>Operation</td><td>operator:&nbsp;29<br>operands:&nbsp;13<br></td><td><a class=\"ProveItLink\" href=\"../4a800e070ccb7dca27e4de600e18eb6f9f3dbd7a0/expr.ipynb\"><img src=\"../4a800e070ccb7dca27e4de600e18eb6f9f3dbd7a0/expr.png\" style=\"display:inline;vertical-align:middle;\" /></a></td></tr>\n",
       "<tr><td>8</td><td>Operation</td><td>operator:&nbsp;26<br>operands:&nbsp;14<br></td><td><a class=\"ProveItLink\" href=\"../5c68af9cf22ae28edb394d6ad5ce5baf1f3abefa0/expr.ipynb\"><img src=\"../5c68af9cf22ae28edb394d6ad5ce5baf1f3abefa0/expr.png\" style=\"display:inline;vertical-align:middle;\" /></a></td></tr>\n",
       "<tr><td>9</td><td>Operation</td><td>operator:&nbsp;18<br>operands:&nbsp;15<br></td><td><a class=\"ProveItLink\" href=\"../b528d44018b090201680500d221abf73643960c70/expr.ipynb\"><img src=\"../b528d44018b090201680500d221abf73643960c70/expr.png\" style=\"display:inline;vertical-align:middle;\" /></a></td></tr>\n",
       "<tr><td>10</td><td>Operation</td><td>operator:&nbsp;18<br>operands:&nbsp;16<br></td><td><a class=\"ProveItLink\" href=\"../29eade6bbdc2222825cd9b9d7990f741f81286a50/expr.ipynb\"><img src=\"../29eade6bbdc2222825cd9b9d7990f741f81286a50/expr.png\" style=\"display:inline;vertical-align:middle;\" /></a></td></tr>\n",
       "<tr><td>11</td><td>Operation</td><td>operator:&nbsp;18<br>operands:&nbsp;17<br></td><td><a class=\"ProveItLink\" href=\"../4e68c438bd9bdd3ef6e66110be1ebc4cd52872a80/expr.ipynb\"><img src=\"../4e68c438bd9bdd3ef6e66110be1ebc4cd52872a80/expr.png\" style=\"display:inline;vertical-align:middle;\" /></a></td></tr>\n",
       "<tr><td>12</td><td>Operation</td><td>operator:&nbsp;18<br>operands:&nbsp;19<br></td><td><a class=\"ProveItLink\" href=\"../3aa6809682fb4d3b0c45dfce5af578962932dcb00/expr.ipynb\"><img src=\"../3aa6809682fb4d3b0c45dfce5af578962932dcb00/expr.png\" style=\"display:inline;vertical-align:middle;\" /></a></td></tr>\n",
       "<tr><td>13</td><td>ExprTuple</td><td>20, 21</td><td><a class=\"ProveItLink\" href=\"../86fdc22ead9e1cc00ff27f764a98acfdfcbfb2d10/expr.ipynb\"><img src=\"../86fdc22ead9e1cc00ff27f764a98acfdfcbfb2d10/expr.png\" style=\"display:inline;vertical-align:middle;\" /></a></td></tr>\n",
       "<tr><td>14</td><td>ExprTuple</td><td>22, 23</td><td><a class=\"ProveItLink\" href=\"../eb263354a069ae73050c0905624f9489bb887b290/expr.ipynb\"><img src=\"../eb263354a069ae73050c0905624f9489bb887b290/expr.png\" style=\"display:inline;vertical-align:middle;\" /></a></td></tr>\n",
       "<tr><td>15</td><td>ExprTuple</td><td>31, 24</td><td><a class=\"ProveItLink\" href=\"../9b226e4874d9ba4c6b445e5f2e4ef0f274ac238b0/expr.ipynb\"><img src=\"../9b226e4874d9ba4c6b445e5f2e4ef0f274ac238b0/expr.png\" style=\"display:inline;vertical-align:middle;\" /></a></td></tr>\n",
       "<tr><td>16</td><td>ExprTuple</td><td>32, 24</td><td><a class=\"ProveItLink\" href=\"../6362283b06c964afa2c8b56c4bbb3a0e01b665a50/expr.ipynb\"><img src=\"../6362283b06c964afa2c8b56c4bbb3a0e01b665a50/expr.png\" style=\"display:inline;vertical-align:middle;\" /></a></td></tr>\n",
       "<tr><td>17</td><td>ExprTuple</td><td>33, 24</td><td><a class=\"ProveItLink\" href=\"../d90f50f919de09f193178d73fe5cc6864aab0a110/expr.ipynb\"><img src=\"../d90f50f919de09f193178d73fe5cc6864aab0a110/expr.png\" style=\"display:inline;vertical-align:middle;\" /></a></td></tr>\n",
       "<tr><td>18</td><td>Literal</td><td></td><td><a class=\"ProveItLink\" href=\"../../../../logic/set_theory/membership/__pv_it/7776fc89cb67d0b5b1ec2c0c8e08da5587921ccf0/expr.ipynb\"><img src=\"../../../../logic/set_theory/membership/__pv_it/7776fc89cb67d0b5b1ec2c0c8e08da5587921ccf0/expr.png\" style=\"display:inline;vertical-align:middle;\" /></a></td></tr>\n",
       "<tr><td>19</td><td>ExprTuple</td><td>34, 24</td><td><a class=\"ProveItLink\" href=\"../42a1e00c282111d8bb892ffab8ca138d0a534f410/expr.ipynb\"><img src=\"../42a1e00c282111d8bb892ffab8ca138d0a534f410/expr.png\" style=\"display:inline;vertical-align:middle;\" /></a></td></tr>\n",
       "<tr><td>20</td><td>Operation</td><td>operator:&nbsp;26<br>operands:&nbsp;25<br></td><td><a class=\"ProveItLink\" href=\"../022d2d5d3acdce0d9096ead012d17b6dbba444820/expr.ipynb\"><img src=\"../022d2d5d3acdce0d9096ead012d17b6dbba444820/expr.png\" style=\"display:inline;vertical-align:middle;\" /></a></td></tr>\n",
       "<tr><td>21</td><td>Operation</td><td>operator:&nbsp;26<br>operands:&nbsp;27<br></td><td><a class=\"ProveItLink\" href=\"../0b4b0953776122b77e872778cb660834dd338e2d0/expr.ipynb\"><img src=\"../0b4b0953776122b77e872778cb660834dd338e2d0/expr.png\" style=\"display:inline;vertical-align:middle;\" /></a></td></tr>\n",
       "<tr><td>22</td><td>Operation</td><td>operator:&nbsp;29<br>operands:&nbsp;28<br></td><td><a class=\"ProveItLink\" href=\"../c94ee66114f2a0dc2ca4249360c1b65a2522e1ec0/expr.ipynb\"><img src=\"../c94ee66114f2a0dc2ca4249360c1b65a2522e1ec0/expr.png\" style=\"display:inline;vertical-align:middle;\" /></a></td></tr>\n",
       "<tr><td>23</td><td>Operation</td><td>operator:&nbsp;29<br>operands:&nbsp;30<br></td><td><a class=\"ProveItLink\" href=\"../41eb2e5665a195b603dc1a6bb0949d8e875cfef70/expr.ipynb\"><img src=\"../41eb2e5665a195b603dc1a6bb0949d8e875cfef70/expr.png\" style=\"display:inline;vertical-align:middle;\" /></a></td></tr>\n",
       "<tr><td>24</td><td>Literal</td><td></td><td><a class=\"ProveItLink\" href=\"../../../sets/complex/__pv_it/8a5866946d766bfd951bcdff07a1a39af0935c430/expr.ipynb\"><img src=\"../../../sets/complex/__pv_it/8a5866946d766bfd951bcdff07a1a39af0935c430/expr.png\" style=\"display:inline;vertical-align:middle;\" /></a></td></tr>\n",
       "<tr><td>25</td><td>ExprTuple</td><td>31, 33</td><td><a class=\"ProveItLink\" href=\"../bed26b1439a100c7729cc5cbcdba29eb5a20da4c0/expr.ipynb\"><img src=\"../bed26b1439a100c7729cc5cbcdba29eb5a20da4c0/expr.png\" style=\"display:inline;vertical-align:middle;\" /></a></td></tr>\n",
       "<tr><td>26</td><td>Literal</td><td></td><td><a class=\"ProveItLink\" href=\"../7a11ad25d6e61156459ac6819a1cec8fded2dde30/expr.ipynb\"><img src=\"../7a11ad25d6e61156459ac6819a1cec8fded2dde30/expr.png\" style=\"display:inline;vertical-align:middle;\" /></a></td></tr>\n",
       "<tr><td>27</td><td>ExprTuple</td><td>32, 34</td><td><a class=\"ProveItLink\" href=\"../0473daafb907e4d8fbf25cc5287078a4aded36cf0/expr.ipynb\"><img src=\"../0473daafb907e4d8fbf25cc5287078a4aded36cf0/expr.png\" style=\"display:inline;vertical-align:middle;\" /></a></td></tr>\n",
       "<tr><td>28</td><td>ExprTuple</td><td>31, 32</td><td><a class=\"ProveItLink\" href=\"../381a8da4a9fdeac3d03f772fe63417dc7a6055a40/expr.ipynb\"><img src=\"../381a8da4a9fdeac3d03f772fe63417dc7a6055a40/expr.png\" style=\"display:inline;vertical-align:middle;\" /></a></td></tr>\n",
       "<tr><td>29</td><td>Literal</td><td></td><td><a class=\"ProveItLink\" href=\"../../../multiplication/__pv_it/f7a1ed7c35c8c884cf4c236d27cb79bf85638cad0/expr.ipynb\"><img src=\"../../../multiplication/__pv_it/f7a1ed7c35c8c884cf4c236d27cb79bf85638cad0/expr.png\" style=\"display:inline;vertical-align:middle;\" /></a></td></tr>\n",
       "<tr><td>30</td><td>ExprTuple</td><td>33, 34</td><td><a class=\"ProveItLink\" href=\"../2805ff331f9cdd905118acbfbfdad68ed7e0a5d60/expr.ipynb\"><img src=\"../2805ff331f9cdd905118acbfbfdad68ed7e0a5d60/expr.png\" style=\"display:inline;vertical-align:middle;\" /></a></td></tr>\n",
       "<tr><td>31</td><td>Variable</td><td></td><td><a class=\"ProveItLink\" href=\"../../../../__pv_it/72df168d2bfb4e0140af90912ebf83b13772060b0/expr.ipynb\"><img src=\"../../../../__pv_it/72df168d2bfb4e0140af90912ebf83b13772060b0/expr.png\" style=\"display:inline;vertical-align:middle;\" /></a></td></tr>\n",
       "<tr><td>32</td><td>Variable</td><td></td><td><a class=\"ProveItLink\" href=\"../../../../__pv_it/c6e291955561f22a0e6708fd793ea93f1c7dbb5d0/expr.ipynb\"><img src=\"../../../../__pv_it/c6e291955561f22a0e6708fd793ea93f1c7dbb5d0/expr.png\" style=\"display:inline;vertical-align:middle;\" /></a></td></tr>\n",
       "<tr><td>33</td><td>Variable</td><td></td><td><a class=\"ProveItLink\" href=\"../../../../__pv_it/0d889e00aed425c3081fbda3ac9194ae911895960/expr.ipynb\"><img src=\"../../../../__pv_it/0d889e00aed425c3081fbda3ac9194ae911895960/expr.png\" style=\"display:inline;vertical-align:middle;\" /></a></td></tr>\n",
       "<tr><td>34</td><td>Variable</td><td></td><td><a class=\"ProveItLink\" href=\"../../../../__pv_it/666bc7e5fa8b11ad9a1220ea7a0d8685c5ecafd40/expr.ipynb\"><img src=\"../../../../__pv_it/666bc7e5fa8b11ad9a1220ea7a0d8685c5ecafd40/expr.png\" style=\"display:inline;vertical-align:middle;\" /></a></td></tr>\n",
       "</table>\n"
      ],
      "text/plain": [
       "0. {((x / z) * (y / w)) = ((x * y) / (z * w)) if x in Complexes ,  y in Complexes ,  z in Complexes ,  w in Complexes.\n",
       "   core type: Conditional\n",
       "   value: 1\n",
       "   condition: 2\n",
       "1. ((x / z) * (y / w)) = ((x * y) / (z * w))\n",
       "   core type: Operation\n",
       "   operator: 3\n",
       "   operands: 4\n",
       "2. (x in Complexes) and (y in Complexes) and (z in Complexes) and (w in Complexes)\n",
       "   core type: Operation\n",
       "   operator: 5\n",
       "   operands: 6\n",
       "3. =\n",
       "   core type: Literal\n",
       "   sub-expressions: \n",
       "4. ((x / z) * (y / w), (x * y) / (z * w))\n",
       "   core type: ExprTuple\n",
       "   sub-expressions: 7, 8\n",
       "5. and\n",
       "   core type: Literal\n",
       "   sub-expressions: \n",
       "6. (x in Complexes, y in Complexes, z in Complexes, w in Complexes)\n",
       "   core type: ExprTuple\n",
       "   sub-expressions: 9, 10, 11, 12\n",
       "7. (x / z) * (y / w)\n",
       "   core type: Operation\n",
       "   operator: 29\n",
       "   operands: 13\n",
       "8. (x * y) / (z * w)\n",
       "   core type: Operation\n",
       "   operator: 26\n",
       "   operands: 14\n",
       "9. x in Complexes\n",
       "   core type: Operation\n",
       "   operator: 18\n",
       "   operands: 15\n",
       "10. y in Complexes\n",
       "    core type: Operation\n",
       "    operator: 18\n",
       "    operands: 16\n",
       "11. z in Complexes\n",
       "    core type: Operation\n",
       "    operator: 18\n",
       "    operands: 17\n",
       "12. w in Complexes\n",
       "    core type: Operation\n",
       "    operator: 18\n",
       "    operands: 19\n",
       "13. (x / z, y / w)\n",
       "    core type: ExprTuple\n",
       "    sub-expressions: 20, 21\n",
       "14. (x * y, z * w)\n",
       "    core type: ExprTuple\n",
       "    sub-expressions: 22, 23\n",
       "15. (x, Complexes)\n",
       "    core type: ExprTuple\n",
       "    sub-expressions: 31, 24\n",
       "16. (y, Complexes)\n",
       "    core type: ExprTuple\n",
       "    sub-expressions: 32, 24\n",
       "17. (z, Complexes)\n",
       "    core type: ExprTuple\n",
       "    sub-expressions: 33, 24\n",
       "18. in\n",
       "    core type: Literal\n",
       "    sub-expressions: \n",
       "19. (w, Complexes)\n",
       "    core type: ExprTuple\n",
       "    sub-expressions: 34, 24\n",
       "20. x / z\n",
       "    core type: Operation\n",
       "    operator: 26\n",
       "    operands: 25\n",
       "21. y / w\n",
       "    core type: Operation\n",
       "    operator: 26\n",
       "    operands: 27\n",
       "22. x * y\n",
       "    core type: Operation\n",
       "    operator: 29\n",
       "    operands: 28\n",
       "23. z * w\n",
       "    core type: Operation\n",
       "    operator: 29\n",
       "    operands: 30\n",
       "24. Complexes\n",
       "    core type: Literal\n",
       "    sub-expressions: \n",
       "25. (x, z)\n",
       "    core type: ExprTuple\n",
       "    sub-expressions: 31, 33\n",
       "26. /\n",
       "    core type: Literal\n",
       "    sub-expressions: \n",
       "27. (y, w)\n",
       "    core type: ExprTuple\n",
       "    sub-expressions: 32, 34\n",
       "28. (x, y)\n",
       "    core type: ExprTuple\n",
       "    sub-expressions: 31, 32\n",
       "29. *\n",
       "    core type: Literal\n",
       "    sub-expressions: \n",
       "30. (z, w)\n",
       "    core type: ExprTuple\n",
       "    sub-expressions: 33, 34\n",
       "31. x\n",
       "    core type: Variable\n",
       "    sub-expressions: \n",
       "32. y\n",
       "    core type: Variable\n",
       "    sub-expressions: \n",
       "33. z\n",
       "    core type: Variable\n",
       "    sub-expressions: \n",
       "34. w\n",
       "    core type: Variable\n",
       "    sub-expressions: "
      ]
     },
     "execution_count": 5,
     "metadata": {},
     "output_type": "execute_result"
    }
   ],
   "source": [
    "# display the expression information\n",
    "expr.exprInfo()"
   ]
  },
  {
   "cell_type": "code",
   "execution_count": null,
   "metadata": {},
   "outputs": [],
   "source": []
  }
 ],
 "metadata": {
  "kernelspec": {
   "display_name": "Python 3",
   "language": "python",
   "name": "python3"
  },
  "language_info": {
   "codemirror_mode": {
    "name": "ipython",
    "version": 3
   },
   "file_extension": ".py",
   "mimetype": "text/x-python",
   "name": "python",
   "nbconvert_exporter": "python",
   "pygments_lexer": "ipython3",
   "version": "3.7.3"
  }
 },
 "nbformat": 4,
 "nbformat_minor": 1
}
