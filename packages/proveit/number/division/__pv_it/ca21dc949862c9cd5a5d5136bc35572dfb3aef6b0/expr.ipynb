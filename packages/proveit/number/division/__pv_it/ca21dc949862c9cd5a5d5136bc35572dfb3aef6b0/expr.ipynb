{
 "cells": [
  {
   "cell_type": "markdown",
   "metadata": {},
   "source": [
    "Expression of type <a class=\"ProveItLink\" href=\"../../../../../../doc/html/api/proveit.Conditional.html\">Conditional</a>\n",
    "=======================\n",
    "# from context <a class=\"ProveItLink\" href=\"../../_context_.ipynb\">proveit.number.division</a>"
   ]
  },
  {
   "cell_type": "code",
   "execution_count": 1,
   "metadata": {},
   "outputs": [],
   "source": [
    "import proveit\n",
    "# Automation is not needed when building an expression:\n",
    "proveit.defaults.automation = False # This will speed things up.\n",
    "proveit.defaults.inline_pngs = False # Makes files smaller.\n",
    "# import Expression classes needed to build the expression\n",
    "from proveit import Conditional\n",
    "from proveit._common_ import w, x, y, z\n",
    "from proveit.logic import And, Equals, InSet\n",
    "from proveit.number import Add, Complexes, Neg, frac"
   ]
  },
  {
   "cell_type": "code",
   "execution_count": 2,
   "metadata": {},
   "outputs": [
    {
     "data": {
      "text/html": [
       "<strong id=\"expr\">expr:</strong> <a class=\"ProveItLink\" href=\"expr.ipynb\"><img src=\"expr.png\" style=\"display:inline;vertical-align:middle;\" /></a><br>"
      ],
      "text/plain": [
       "expr: {((w - x) / (y - z)) = ((x - w) / (z - y)) if w in Complexes ,  x in Complexes ,  y in Complexes ,  z in Complexes."
      ]
     },
     "execution_count": 2,
     "metadata": {},
     "output_type": "execute_result"
    }
   ],
   "source": [
    "# build up the expression from sub-expressions\n",
    "expr = Conditional(Equals(frac(Add(w, Neg(x)), Add(y, Neg(z))), frac(Add(x, Neg(w)), Add(z, Neg(y)))), And(InSet(w, Complexes), InSet(x, Complexes), InSet(y, Complexes), InSet(z, Complexes)))"
   ]
  },
  {
   "cell_type": "code",
   "execution_count": 3,
   "metadata": {},
   "outputs": [
    {
     "name": "stdout",
     "output_type": "stream",
     "text": [
      "Passed sanity check: built 'expr' is the same as the stored Expression.\n"
     ]
    }
   ],
   "source": [
    "# check that the built expression is the same as the stored expression\n",
    "%check_expr"
   ]
  },
  {
   "cell_type": "code",
   "execution_count": 4,
   "metadata": {},
   "outputs": [
    {
     "name": "stdout",
     "output_type": "stream",
     "text": [
      "\\left\\{\\frac{w - x}{y - z} = \\frac{x - w}{z - y} \\textrm{ if } w \\in \\mathbb{C} ,  x \\in \\mathbb{C} ,  y \\in \\mathbb{C} ,  z \\in \\mathbb{C}\\right..\n"
     ]
    }
   ],
   "source": [
    "# Show the LaTeX representation of the expression for convenience if you need it.\n",
    "print(expr.latex())"
   ]
  },
  {
   "cell_type": "code",
   "execution_count": 5,
   "metadata": {},
   "outputs": [
    {
     "data": {
      "text/html": [
       "<table><tr><th>&nbsp;</th><th>core type</th><th>sub-expressions</th><th>expression</th></tr>\n",
       "<tr><td>0</td><td>Conditional</td><td>value:&nbsp;1<br>condition:&nbsp;2<br></td><td><a class=\"ProveItLink\" href=\"expr.ipynb\"><img src=\"expr.png\" style=\"display:inline;vertical-align:middle;\" /></a></td></tr>\n",
       "<tr><td>1</td><td>Operation</td><td>operator:&nbsp;3<br>operands:&nbsp;4<br></td><td><a class=\"ProveItLink\" href=\"../b7ebd5b0340ab3540edad0886b00f816bda057fe0/expr.ipynb\"><img src=\"../b7ebd5b0340ab3540edad0886b00f816bda057fe0/expr.png\" style=\"display:inline;vertical-align:middle;\" /></a></td></tr>\n",
       "<tr><td>2</td><td>Operation</td><td>operator:&nbsp;5<br>operands:&nbsp;6<br></td><td><a class=\"ProveItLink\" href=\"../e66d03776a3c368f82e736db1e8f3b462ad5db9d0/expr.ipynb\"><img src=\"../e66d03776a3c368f82e736db1e8f3b462ad5db9d0/expr.png\" style=\"display:inline;vertical-align:middle;\" /></a></td></tr>\n",
       "<tr><td>3</td><td>Literal</td><td></td><td><a class=\"ProveItLink\" href=\"../../../../logic/equality/__pv_it/e16d2caa26a16688b658bdb9c422caf4b84579e10/expr.ipynb\"><img src=\"../../../../logic/equality/__pv_it/e16d2caa26a16688b658bdb9c422caf4b84579e10/expr.png\" style=\"display:inline;vertical-align:middle;\" /></a></td></tr>\n",
       "<tr><td>4</td><td>ExprTuple</td><td>7, 8</td><td><a class=\"ProveItLink\" href=\"../aad80a074811367325d1c1094ad79125f79248cd0/expr.ipynb\"><img src=\"../aad80a074811367325d1c1094ad79125f79248cd0/expr.png\" style=\"display:inline;vertical-align:middle;\" /></a></td></tr>\n",
       "<tr><td>5</td><td>Literal</td><td></td><td><a class=\"ProveItLink\" href=\"../../../../logic/boolean/conjunction/__pv_it/f41cc6b553210927c09f19a8a39cdf860a5585930/expr.ipynb\"><img src=\"../../../../logic/boolean/conjunction/__pv_it/f41cc6b553210927c09f19a8a39cdf860a5585930/expr.png\" style=\"display:inline;vertical-align:middle;\" /></a></td></tr>\n",
       "<tr><td>6</td><td>ExprTuple</td><td>9, 10, 11, 12</td><td><a class=\"ProveItLink\" href=\"../ce56713aff7e0f298d99d1c59f2f015753db3e250/expr.ipynb\"><img src=\"../ce56713aff7e0f298d99d1c59f2f015753db3e250/expr.png\" style=\"display:inline;vertical-align:middle;\" /></a></td></tr>\n",
       "<tr><td>7</td><td>Operation</td><td>operator:&nbsp;14<br>operands:&nbsp;13<br></td><td><a class=\"ProveItLink\" href=\"../5d5883b50411944e38ef20afdc3765be423c9d950/expr.ipynb\"><img src=\"../5d5883b50411944e38ef20afdc3765be423c9d950/expr.png\" style=\"display:inline;vertical-align:middle;\" /></a></td></tr>\n",
       "<tr><td>8</td><td>Operation</td><td>operator:&nbsp;14<br>operands:&nbsp;15<br></td><td><a class=\"ProveItLink\" href=\"../ff9259e405221e35dba9b1a79f0cb956210af82e0/expr.ipynb\"><img src=\"../ff9259e405221e35dba9b1a79f0cb956210af82e0/expr.png\" style=\"display:inline;vertical-align:middle;\" /></a></td></tr>\n",
       "<tr><td>9</td><td>Operation</td><td>operator:&nbsp;19<br>operands:&nbsp;16<br></td><td><a class=\"ProveItLink\" href=\"../3aa6809682fb4d3b0c45dfce5af578962932dcb00/expr.ipynb\"><img src=\"../3aa6809682fb4d3b0c45dfce5af578962932dcb00/expr.png\" style=\"display:inline;vertical-align:middle;\" /></a></td></tr>\n",
       "<tr><td>10</td><td>Operation</td><td>operator:&nbsp;19<br>operands:&nbsp;17<br></td><td><a class=\"ProveItLink\" href=\"../b528d44018b090201680500d221abf73643960c70/expr.ipynb\"><img src=\"../b528d44018b090201680500d221abf73643960c70/expr.png\" style=\"display:inline;vertical-align:middle;\" /></a></td></tr>\n",
       "<tr><td>11</td><td>Operation</td><td>operator:&nbsp;19<br>operands:&nbsp;18<br></td><td><a class=\"ProveItLink\" href=\"../29eade6bbdc2222825cd9b9d7990f741f81286a50/expr.ipynb\"><img src=\"../29eade6bbdc2222825cd9b9d7990f741f81286a50/expr.png\" style=\"display:inline;vertical-align:middle;\" /></a></td></tr>\n",
       "<tr><td>12</td><td>Operation</td><td>operator:&nbsp;19<br>operands:&nbsp;20<br></td><td><a class=\"ProveItLink\" href=\"../4e68c438bd9bdd3ef6e66110be1ebc4cd52872a80/expr.ipynb\"><img src=\"../4e68c438bd9bdd3ef6e66110be1ebc4cd52872a80/expr.png\" style=\"display:inline;vertical-align:middle;\" /></a></td></tr>\n",
       "<tr><td>13</td><td>ExprTuple</td><td>21, 22</td><td><a class=\"ProveItLink\" href=\"../1342282785cfbdaa00472577007306e1f9d5ef6d0/expr.ipynb\"><img src=\"../1342282785cfbdaa00472577007306e1f9d5ef6d0/expr.png\" style=\"display:inline;vertical-align:middle;\" /></a></td></tr>\n",
       "<tr><td>14</td><td>Literal</td><td></td><td><a class=\"ProveItLink\" href=\"../7a11ad25d6e61156459ac6819a1cec8fded2dde30/expr.ipynb\"><img src=\"../7a11ad25d6e61156459ac6819a1cec8fded2dde30/expr.png\" style=\"display:inline;vertical-align:middle;\" /></a></td></tr>\n",
       "<tr><td>15</td><td>ExprTuple</td><td>23, 24</td><td><a class=\"ProveItLink\" href=\"../e360c41b9784d785f9a170460c1a0935758e94070/expr.ipynb\"><img src=\"../e360c41b9784d785f9a170460c1a0935758e94070/expr.png\" style=\"display:inline;vertical-align:middle;\" /></a></td></tr>\n",
       "<tr><td>16</td><td>ExprTuple</td><td>37, 25</td><td><a class=\"ProveItLink\" href=\"../42a1e00c282111d8bb892ffab8ca138d0a534f410/expr.ipynb\"><img src=\"../42a1e00c282111d8bb892ffab8ca138d0a534f410/expr.png\" style=\"display:inline;vertical-align:middle;\" /></a></td></tr>\n",
       "<tr><td>17</td><td>ExprTuple</td><td>35, 25</td><td><a class=\"ProveItLink\" href=\"../9b226e4874d9ba4c6b445e5f2e4ef0f274ac238b0/expr.ipynb\"><img src=\"../9b226e4874d9ba4c6b445e5f2e4ef0f274ac238b0/expr.png\" style=\"display:inline;vertical-align:middle;\" /></a></td></tr>\n",
       "<tr><td>18</td><td>ExprTuple</td><td>39, 25</td><td><a class=\"ProveItLink\" href=\"../6362283b06c964afa2c8b56c4bbb3a0e01b665a50/expr.ipynb\"><img src=\"../6362283b06c964afa2c8b56c4bbb3a0e01b665a50/expr.png\" style=\"display:inline;vertical-align:middle;\" /></a></td></tr>\n",
       "<tr><td>19</td><td>Literal</td><td></td><td><a class=\"ProveItLink\" href=\"../../../../logic/set_theory/membership/__pv_it/7776fc89cb67d0b5b1ec2c0c8e08da5587921ccf0/expr.ipynb\"><img src=\"../../../../logic/set_theory/membership/__pv_it/7776fc89cb67d0b5b1ec2c0c8e08da5587921ccf0/expr.png\" style=\"display:inline;vertical-align:middle;\" /></a></td></tr>\n",
       "<tr><td>20</td><td>ExprTuple</td><td>36, 25</td><td><a class=\"ProveItLink\" href=\"../d90f50f919de09f193178d73fe5cc6864aab0a110/expr.ipynb\"><img src=\"../d90f50f919de09f193178d73fe5cc6864aab0a110/expr.png\" style=\"display:inline;vertical-align:middle;\" /></a></td></tr>\n",
       "<tr><td>21</td><td>Operation</td><td>operator:&nbsp;29<br>operands:&nbsp;26<br></td><td><a class=\"ProveItLink\" href=\"../eae65fc1aaade451424d17065424f9b994a07b490/expr.ipynb\"><img src=\"../eae65fc1aaade451424d17065424f9b994a07b490/expr.png\" style=\"display:inline;vertical-align:middle;\" /></a></td></tr>\n",
       "<tr><td>22</td><td>Operation</td><td>operator:&nbsp;29<br>operands:&nbsp;27<br></td><td><a class=\"ProveItLink\" href=\"../5f00ba0a49779fb5b677709c79285f00d19e785b0/expr.ipynb\"><img src=\"../5f00ba0a49779fb5b677709c79285f00d19e785b0/expr.png\" style=\"display:inline;vertical-align:middle;\" /></a></td></tr>\n",
       "<tr><td>23</td><td>Operation</td><td>operator:&nbsp;29<br>operands:&nbsp;28<br></td><td><a class=\"ProveItLink\" href=\"../875f35d4bd746313d9f99b1e92065234da63d6f00/expr.ipynb\"><img src=\"../875f35d4bd746313d9f99b1e92065234da63d6f00/expr.png\" style=\"display:inline;vertical-align:middle;\" /></a></td></tr>\n",
       "<tr><td>24</td><td>Operation</td><td>operator:&nbsp;29<br>operands:&nbsp;30<br></td><td><a class=\"ProveItLink\" href=\"../6bec0ccd93740085d5dd0d6c9ef825d0bd84c8fa0/expr.ipynb\"><img src=\"../6bec0ccd93740085d5dd0d6c9ef825d0bd84c8fa0/expr.png\" style=\"display:inline;vertical-align:middle;\" /></a></td></tr>\n",
       "<tr><td>25</td><td>Literal</td><td></td><td><a class=\"ProveItLink\" href=\"../../../sets/complex/__pv_it/8a5866946d766bfd951bcdff07a1a39af0935c430/expr.ipynb\"><img src=\"../../../sets/complex/__pv_it/8a5866946d766bfd951bcdff07a1a39af0935c430/expr.png\" style=\"display:inline;vertical-align:middle;\" /></a></td></tr>\n",
       "<tr><td>26</td><td>ExprTuple</td><td>37, 31</td><td><a class=\"ProveItLink\" href=\"../0125f05617f96eaccb00c4a532b6fdc7c567519a0/expr.ipynb\"><img src=\"../0125f05617f96eaccb00c4a532b6fdc7c567519a0/expr.png\" style=\"display:inline;vertical-align:middle;\" /></a></td></tr>\n",
       "<tr><td>27</td><td>ExprTuple</td><td>39, 32</td><td><a class=\"ProveItLink\" href=\"../77bcddc8b9bae3bd16ca479e9701228219c635020/expr.ipynb\"><img src=\"../77bcddc8b9bae3bd16ca479e9701228219c635020/expr.png\" style=\"display:inline;vertical-align:middle;\" /></a></td></tr>\n",
       "<tr><td>28</td><td>ExprTuple</td><td>35, 33</td><td><a class=\"ProveItLink\" href=\"../b397a9a201326c3da713deaa58ca2361212c18860/expr.ipynb\"><img src=\"../b397a9a201326c3da713deaa58ca2361212c18860/expr.png\" style=\"display:inline;vertical-align:middle;\" /></a></td></tr>\n",
       "<tr><td>29</td><td>Literal</td><td></td><td><a class=\"ProveItLink\" href=\"../../../addition/__pv_it/65ad7e8aee19b10110d590375ba95a879c4fb7ea0/expr.ipynb\"><img src=\"../../../addition/__pv_it/65ad7e8aee19b10110d590375ba95a879c4fb7ea0/expr.png\" style=\"display:inline;vertical-align:middle;\" /></a></td></tr>\n",
       "<tr><td>30</td><td>ExprTuple</td><td>36, 34</td><td><a class=\"ProveItLink\" href=\"../5c15faecce5b4c319e8ae5d987a7f439cf081ebc0/expr.ipynb\"><img src=\"../5c15faecce5b4c319e8ae5d987a7f439cf081ebc0/expr.png\" style=\"display:inline;vertical-align:middle;\" /></a></td></tr>\n",
       "<tr><td>31</td><td>Operation</td><td>operator:&nbsp;38<br>operand:&nbsp;35<br></td><td><a class=\"ProveItLink\" href=\"../a7dce3506e5e4bc1a6d655c23242f342aef8a8150/expr.ipynb\"><img src=\"../a7dce3506e5e4bc1a6d655c23242f342aef8a8150/expr.png\" style=\"display:inline;vertical-align:middle;\" /></a></td></tr>\n",
       "<tr><td>32</td><td>Operation</td><td>operator:&nbsp;38<br>operand:&nbsp;36<br></td><td><a class=\"ProveItLink\" href=\"../1cb62bbcfdd0036c30e24e36810973feafde09670/expr.ipynb\"><img src=\"../1cb62bbcfdd0036c30e24e36810973feafde09670/expr.png\" style=\"display:inline;vertical-align:middle;\" /></a></td></tr>\n",
       "<tr><td>33</td><td>Operation</td><td>operator:&nbsp;38<br>operand:&nbsp;37<br></td><td><a class=\"ProveItLink\" href=\"../d1b7a0e00b4782f09c6027aad189df1fb63355890/expr.ipynb\"><img src=\"../d1b7a0e00b4782f09c6027aad189df1fb63355890/expr.png\" style=\"display:inline;vertical-align:middle;\" /></a></td></tr>\n",
       "<tr><td>34</td><td>Operation</td><td>operator:&nbsp;38<br>operand:&nbsp;39<br></td><td><a class=\"ProveItLink\" href=\"../4597b45c84d9ab4a805ad3f3f1c71dfe93ab31530/expr.ipynb\"><img src=\"../4597b45c84d9ab4a805ad3f3f1c71dfe93ab31530/expr.png\" style=\"display:inline;vertical-align:middle;\" /></a></td></tr>\n",
       "<tr><td>35</td><td>Variable</td><td></td><td><a class=\"ProveItLink\" href=\"../../../../__pv_it/72df168d2bfb4e0140af90912ebf83b13772060b0/expr.ipynb\"><img src=\"../../../../__pv_it/72df168d2bfb4e0140af90912ebf83b13772060b0/expr.png\" style=\"display:inline;vertical-align:middle;\" /></a></td></tr>\n",
       "<tr><td>36</td><td>Variable</td><td></td><td><a class=\"ProveItLink\" href=\"../../../../__pv_it/0d889e00aed425c3081fbda3ac9194ae911895960/expr.ipynb\"><img src=\"../../../../__pv_it/0d889e00aed425c3081fbda3ac9194ae911895960/expr.png\" style=\"display:inline;vertical-align:middle;\" /></a></td></tr>\n",
       "<tr><td>37</td><td>Variable</td><td></td><td><a class=\"ProveItLink\" href=\"../../../../__pv_it/666bc7e5fa8b11ad9a1220ea7a0d8685c5ecafd40/expr.ipynb\"><img src=\"../../../../__pv_it/666bc7e5fa8b11ad9a1220ea7a0d8685c5ecafd40/expr.png\" style=\"display:inline;vertical-align:middle;\" /></a></td></tr>\n",
       "<tr><td>38</td><td>Literal</td><td></td><td><a class=\"ProveItLink\" href=\"../../../negation/__pv_it/2867787e35502987d81a45cac8e7f1c6996d6ff40/expr.ipynb\"><img src=\"../../../negation/__pv_it/2867787e35502987d81a45cac8e7f1c6996d6ff40/expr.png\" style=\"display:inline;vertical-align:middle;\" /></a></td></tr>\n",
       "<tr><td>39</td><td>Variable</td><td></td><td><a class=\"ProveItLink\" href=\"../../../../__pv_it/c6e291955561f22a0e6708fd793ea93f1c7dbb5d0/expr.ipynb\"><img src=\"../../../../__pv_it/c6e291955561f22a0e6708fd793ea93f1c7dbb5d0/expr.png\" style=\"display:inline;vertical-align:middle;\" /></a></td></tr>\n",
       "</table>\n"
      ],
      "text/plain": [
       "0. {((w - x) / (y - z)) = ((x - w) / (z - y)) if w in Complexes ,  x in Complexes ,  y in Complexes ,  z in Complexes.\n",
       "   core type: Conditional\n",
       "   value: 1\n",
       "   condition: 2\n",
       "1. ((w - x) / (y - z)) = ((x - w) / (z - y))\n",
       "   core type: Operation\n",
       "   operator: 3\n",
       "   operands: 4\n",
       "2. (w in Complexes) and (x in Complexes) and (y in Complexes) and (z in Complexes)\n",
       "   core type: Operation\n",
       "   operator: 5\n",
       "   operands: 6\n",
       "3. =\n",
       "   core type: Literal\n",
       "   sub-expressions: \n",
       "4. ((w - x) / (y - z), (x - w) / (z - y))\n",
       "   core type: ExprTuple\n",
       "   sub-expressions: 7, 8\n",
       "5. and\n",
       "   core type: Literal\n",
       "   sub-expressions: \n",
       "6. (w in Complexes, x in Complexes, y in Complexes, z in Complexes)\n",
       "   core type: ExprTuple\n",
       "   sub-expressions: 9, 10, 11, 12\n",
       "7. (w - x) / (y - z)\n",
       "   core type: Operation\n",
       "   operator: 14\n",
       "   operands: 13\n",
       "8. (x - w) / (z - y)\n",
       "   core type: Operation\n",
       "   operator: 14\n",
       "   operands: 15\n",
       "9. w in Complexes\n",
       "   core type: Operation\n",
       "   operator: 19\n",
       "   operands: 16\n",
       "10. x in Complexes\n",
       "    core type: Operation\n",
       "    operator: 19\n",
       "    operands: 17\n",
       "11. y in Complexes\n",
       "    core type: Operation\n",
       "    operator: 19\n",
       "    operands: 18\n",
       "12. z in Complexes\n",
       "    core type: Operation\n",
       "    operator: 19\n",
       "    operands: 20\n",
       "13. (w - x, y - z)\n",
       "    core type: ExprTuple\n",
       "    sub-expressions: 21, 22\n",
       "14. /\n",
       "    core type: Literal\n",
       "    sub-expressions: \n",
       "15. (x - w, z - y)\n",
       "    core type: ExprTuple\n",
       "    sub-expressions: 23, 24\n",
       "16. (w, Complexes)\n",
       "    core type: ExprTuple\n",
       "    sub-expressions: 37, 25\n",
       "17. (x, Complexes)\n",
       "    core type: ExprTuple\n",
       "    sub-expressions: 35, 25\n",
       "18. (y, Complexes)\n",
       "    core type: ExprTuple\n",
       "    sub-expressions: 39, 25\n",
       "19. in\n",
       "    core type: Literal\n",
       "    sub-expressions: \n",
       "20. (z, Complexes)\n",
       "    core type: ExprTuple\n",
       "    sub-expressions: 36, 25\n",
       "21. w - x\n",
       "    core type: Operation\n",
       "    operator: 29\n",
       "    operands: 26\n",
       "22. y - z\n",
       "    core type: Operation\n",
       "    operator: 29\n",
       "    operands: 27\n",
       "23. x - w\n",
       "    core type: Operation\n",
       "    operator: 29\n",
       "    operands: 28\n",
       "24. z - y\n",
       "    core type: Operation\n",
       "    operator: 29\n",
       "    operands: 30\n",
       "25. Complexes\n",
       "    core type: Literal\n",
       "    sub-expressions: \n",
       "26. (w, -x)\n",
       "    core type: ExprTuple\n",
       "    sub-expressions: 37, 31\n",
       "27. (y, -z)\n",
       "    core type: ExprTuple\n",
       "    sub-expressions: 39, 32\n",
       "28. (x, -w)\n",
       "    core type: ExprTuple\n",
       "    sub-expressions: 35, 33\n",
       "29. +\n",
       "    core type: Literal\n",
       "    sub-expressions: \n",
       "30. (z, -y)\n",
       "    core type: ExprTuple\n",
       "    sub-expressions: 36, 34\n",
       "31. -x\n",
       "    core type: Operation\n",
       "    operator: 38\n",
       "    operand: 35\n",
       "32. -z\n",
       "    core type: Operation\n",
       "    operator: 38\n",
       "    operand: 36\n",
       "33. -w\n",
       "    core type: Operation\n",
       "    operator: 38\n",
       "    operand: 37\n",
       "34. -y\n",
       "    core type: Operation\n",
       "    operator: 38\n",
       "    operand: 39\n",
       "35. x\n",
       "    core type: Variable\n",
       "    sub-expressions: \n",
       "36. z\n",
       "    core type: Variable\n",
       "    sub-expressions: \n",
       "37. w\n",
       "    core type: Variable\n",
       "    sub-expressions: \n",
       "38. -\n",
       "    core type: Literal\n",
       "    sub-expressions: \n",
       "39. y\n",
       "    core type: Variable\n",
       "    sub-expressions: "
      ]
     },
     "execution_count": 5,
     "metadata": {},
     "output_type": "execute_result"
    }
   ],
   "source": [
    "# display the expression information\n",
    "expr.exprInfo()"
   ]
  },
  {
   "cell_type": "code",
   "execution_count": null,
   "metadata": {},
   "outputs": [],
   "source": []
  }
 ],
 "metadata": {
  "kernelspec": {
   "display_name": "Python 3",
   "language": "python",
   "name": "python3"
  },
  "language_info": {
   "codemirror_mode": {
    "name": "ipython",
    "version": 3
   },
   "file_extension": ".py",
   "mimetype": "text/x-python",
   "name": "python",
   "nbconvert_exporter": "python",
   "pygments_lexer": "ipython3",
   "version": "3.7.3"
  }
 },
 "nbformat": 4,
 "nbformat_minor": 1
}
