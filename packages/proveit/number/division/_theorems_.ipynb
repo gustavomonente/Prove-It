{
 "cells": [
  {
   "cell_type": "markdown",
   "metadata": {},
   "source": [
    "Theorems for context <a href=\"_context_.html\">proveit.number.division</a>\n",
    "========"
   ]
  },
  {
   "cell_type": "code",
   "execution_count": 1,
   "metadata": {},
   "outputs": [],
   "source": [
    "import proveit\n",
    "# Automation is not needed when building theorem expressions:\n",
    "proveit.defaults.automation = False # This will speed things up.\n",
    "# the context is in the current directory:\n",
    "context = proveit.Context('.') # adds context root to sys.path if necessary\n",
    "from proveit.logic import Forall, InSet, Equals, NotEquals, Implies\n",
    "from proveit.number import Integers, NaturalsPos, Reals, RealsPos, Complexes\n",
    "from proveit.number import Div, frac, Add, subtract, Sum, Mult, Exp, zero, one\n",
    "from proveit._common_ import a, b, c, n, w, x, y, z, P, S #, wMulti, xMulti, yMulti, zMulti, wEtc, xEtc, yEtc, zEtc, PyEtc\n",
    "from proveit.number._common_ import ComplexesSansZero"
   ]
  },
  {
   "cell_type": "code",
   "execution_count": 2,
   "metadata": {},
   "outputs": [
    {
     "name": "stdout",
     "output_type": "stream",
     "text": [
      "Defining theorems for context 'proveit.number.division'\n",
      "Subsequent end-of-cell assignments will define theorems\n",
      "'%end theorems' will finalize the definitions\n"
     ]
    }
   ],
   "source": [
    "%begin theorems"
   ]
  },
  {
   "cell_type": "code",
   "execution_count": 3,
   "metadata": {},
   "outputs": [
    {
     "data": {
      "text/html": [
       "<strong id=\"divRealClosure\"><a class=\"ProveItLink\" href=\"_proofs_/divRealClosure.ipynb\">divRealClosure</a>:</strong> <a class=\"ProveItLink\" href=\"__pv_it/131e3622871947c4bef885bcf00d46fe97be19640/expr.ipynb\"><img src=\"data:image/png;base64,iVBORw0KGgoAAAANSUhEUgAAANQAAAAmCAMAAACLWkU4AAAAOVBMVEX///8oKCgUFBQNDQ0QEBCI\n",
       "iIhmZma6urrMzMxUVFQiIiJERETc3Nzu7u6qqqp2dnaYmJgyMjIAAAArQGDrAAAAAXRSTlMAQObY\n",
       "ZgAAA61JREFUWMPNWYmSpCAMZXcJV7j//2MXUGxEbRtrdptUzYw1FSEvx0tAQiYT7x+/aiSZUyCs\n",
       "D5o5BtQMvczDlJh4hcGpJiTEUZfMGCtDRX3IWchwdIHg5wMlq6dZzBFTMLqAHkzY/yAi6vWJ5hiZ\n",
       "KJ67ZRoJ1SITXfpt4xO/TBYqvQXKRJu9HojVw46BuUCxFyNjMs0rSdx4n6NzgaLQ9FEAoSXwB+FO\n",
       "74Sf6OU/lH2jvOAVRYwhUGxMpym6zm7Z+OUS8w94IZTZSKDHzfhUiUTXBqfx2yWlxt9Bot3yZ6Ny\n",
       "iE2AXiH7kqgPvOpRJQk9KKZfZWQzh3pnsmj1bZ6I7LYJIZjTSCVQ+OpUOToRsyj3dVB3HcYcq34F\n",
       "JQnf0s/EzBqykA5+2OZ4+GC+59f6xS5wcPDhYszbEUhf1JRVrMFbnMNZ8cLFSlYBStb0acduFMpe\n",
       "5EKfZQ/6bIg8MLq/ZYUzUDQXWcsHZcQiuZrgsKKxjrH0X8ht3ZnN6G2BK4Vu+92GC0mpHMl+SFtq\n",
       "YbXrJY0CDVV2kUpBQXOoTecXYB3PWG2ybrHZmw10HdAuFTpQsU2asvsyfVN7Deq8OeMFpTMu8ABK\n",
       "ByLWZDAMZBA1JxfeX2x2294A0rxR6EBV/aXA3OuEofxo+tGrPoXGNxPWkn6JJORS2kaJdXh/RbjY\n",
       "zFjFAMoQYG8UOlCrviwU+yf9+HWH/gRobtmPwQWoFBImeufY2syzZUKViDU2MykV383P4Y1CB2rV\n",
       "XzRtcxakvYnxtqkoez4m5cFBij6Nq5NynpfLC6GKZ7NFKRAa/GYzTU9MvlHoQK36JRZYY5INiP0E\n",
       "Tm8PrUYiN8eBNq2GGCoWXhf2Zt0tuRB9Ln+5yy4rXF0sp07GfqnQgVr1ZeKs378yc/kL9iPYdhWD\n",
       "9GzE4Q53Y9LpXNwtTHWKHs856cSuZFzmAZ25K5WIxwuFM1BVn7QzJzvpU8TtiSDcTk3n4no+4RIs\n",
       "sFJoaGtvdcGlEkrHUpEjJKRb2eWocMp+Vb9tJuDc0WS7d3F8OGCHd1kMa8ns9r1TuO79xN7xwH5O\n",
       "4g9vUO6nrd6uT69B8PQ8d/tW62P38NRg4+Bdzcc+OAHl77Npd2cSJAB7kIHsn92ns4eZY5vnNHeb\n",
       "OHxDdpi+vi4QOtaIw5d4MNkNWXaz2GWRicMnVzrfFwIfdl2KD9M6zPiFamsRhZjZKK1rqicElY8J\n",
       "CyheP1INvW3JjKLV4muZ8OAoiaInc4oW9bTqRk00de7/C21fKxdG84Q7AAAAAElFTkSuQmCC\n",
       "\" style=\"display:inline;vertical-align:middle;\" /></a><br>"
      ],
      "text/plain": [
       "divRealClosure: forall_{a in Reals, b in Reals | b != 0} ((a / b) in Reals)"
      ]
     },
     "execution_count": 3,
     "metadata": {},
     "output_type": "execute_result"
    }
   ],
   "source": [
    "divRealClosure = Forall(\n",
    "    [a, b],\n",
    "    InSet(frac(a, b), Reals),\n",
    "    domain=Reals,\n",
    "    conditions=[NotEquals(b, zero)])"
   ]
  },
  {
   "cell_type": "code",
   "execution_count": 4,
   "metadata": {},
   "outputs": [
    {
     "data": {
      "text/html": [
       "<strong id=\"divideRealPosClosure\"><a class=\"ProveItLink\" href=\"_proofs_/divideRealPosClosure.ipynb\">divideRealPosClosure</a>:</strong> <a class=\"ProveItLink\" href=\"__pv_it/375e4d4ad67e36fce2eeff11012779cef2a8bcf20/expr.ipynb\"><img src=\"data:image/png;base64,iVBORw0KGgoAAAANSUhEUgAAAPoAAAAmCAMAAADaznZbAAAAOVBMVEX///8oKCgUFBQNDQ0QEBCI\n",
       "iIhmZma6urrMzMxUVFQiIiJERETc3Nzu7u6qqqp2dnaYmJgyMjIAAAArQGDrAAAAAXRSTlMAQObY\n",
       "ZgAAA+pJREFUaN7VWYmO4yAMZXe5zf3/H7tAoAmUTJISjRqkdqoppn6+nk0Qeshy7qaDtEDPWsSX\n",
       "D4paSrCeOIr5RyFnFSzDCiEf5sz4JL9rzOuHFPcU5o7z7jnQRfUTDcn7kswdp6YS5lcXD6p8wsnf\n",
       "OvC7TPn1y1dNdbDx3XyU6qKx5UPcrl5O18EkEB4ZdfmUpj548gzodGUjiCo7KZBFc9AdfgZ0TDb9\n",
       "CCFcCcImoasQT/D390u3x/vVquYkBgjeY3A70BGOcWPNK/6/NPXdB1XN536VgwOdi0NcOL29TBHr\n",
       "BVLVGgq+NdXlJ9Gt7PJHjL1OwsbZq/u/bMljnziQcfk36FStCd2eYhJrOKvTUvJLkaNAjzoeIHrs\n",
       "9QgdxtB5pskAaclzfHGJVew90A84WA+KVIEuENsJeB1S2otcQOFck0AvZekto0s4YB6h9nLdSLqa\n",
       "BQYGZTSb7gM0zPtr0Nm+bFaRWGLfuc1dIOwVOk7Zv6lfnYFyS4xSlpO9840kIOir8WvRWHphc6dl\n",
       "K0tT6LnkKfE2u6z6h3Wt32fWyqv1enQp6IMKYt0Cvws0YymN35CUslaTpCylMr5WVV5WPbO5g771\n",
       "SOEgmaKinyy20IcdD+yRG2UcDqArj7h45wujdNIio3HajRxZ54pTmzvoYRuB2T3LMIrNxYDHu7wO\n",
       "2pHdCrJkFihRslBTIjyvBWAh/wWNHaDhgRChT27uoFfZJfHtOpZL1yt5UOEp2YMeHUr5Xne8/Iyp\n",
       "DZOWvMyya95kNDFyB2iI1IjQk5s76EVWZGb9F1+u/PLbFUw44khpdhrZ1KYJvnP7YVrqTDpzmb2/\n",
       "QUOFkGxUufII6U9u7qAX2UXKbC5jcA8dH12paAFMD8aXCBrAj0sFC0VJVyRTnuX7Si6zN5J+0ZGK\n",
       "uIqmsSGO/6Xi5OYOepHNqkMN7SQQ+oEUtiyoAQ/aTmahbWRPzES6S6todnCpYIkmhg23I5pI4sla\n",
       "pzZ30ItsGqr+/ilD1bDCI9vWMX9Lo2T74ohVjDqWCoDlTfpabXtKiRrGdHVwYvMIepVFm+Eq1Y03\n",
       "Xo+TRmOMcMuY5fufYYIYQnPtA1O7FOttTGfahhNP3ubCFor4efOwwlfZbd9BrKUHnSy75Ubx5+6Y\n",
       "lPTdW+bK5h96TnM45MDWQ/aWCdMENSH8iSwML1QOSxJuIpUQOh3zdOa520cXeQPozpyITrP5HGcx\n",
       "PeOzF5X98l3TZ2LEdzUvTF6jk4fcRScn8SZSdZi8BMHPed7ofMPqbJLgyJOesL/YI5MSnSM4hdWD\n",
       "oKe5aoHO6kP2ibMMetJScvGUiKhhrpUFh561FK8XCnZOdV3Ho//WNS1MOerSqQAAAABJRU5ErkJg\n",
       "gg==\n",
       "\" style=\"display:inline;vertical-align:middle;\" /></a><br>"
      ],
      "text/plain": [
       "divideRealPosClosure: forall_{a in RealsPos, b in RealsPos | b != 0} ((a / b) in RealsPos)"
      ]
     },
     "execution_count": 4,
     "metadata": {},
     "output_type": "execute_result"
    }
   ],
   "source": [
    "divideRealPosClosure = Forall([a, b], InSet(frac(a, b), RealsPos), domain=RealsPos, conditions=[NotEquals(b, zero)])"
   ]
  },
  {
   "cell_type": "code",
   "execution_count": 5,
   "metadata": {},
   "outputs": [
    {
     "data": {
      "text/html": [
       "<strong id=\"divideComplexClosure\"><a class=\"ProveItLink\" href=\"_proofs_/divideComplexClosure.ipynb\">divideComplexClosure</a>:</strong> <a class=\"ProveItLink\" href=\"__pv_it/7cffd33a0b8c1ab1cf260a57dfa71db55b1f1d290/expr.ipynb\"><img src=\"data:image/png;base64,iVBORw0KGgoAAAANSUhEUgAAANQAAAAmCAMAAACLWkU4AAAAOVBMVEX///8oKCgUFBQNDQ0QEBCI\n",
       "iIhmZma6urrMzMxUVFQiIiJERETc3Nzu7u6qqqp2dnaYmJgyMjIAAAArQGDrAAAAAXRSTlMAQObY\n",
       "ZgAAA69JREFUWMPNWQmS3CAMJAnivv//2AAGHxjbg2uTgardcs0ITLeklmAQmmw493qq5mjOAb48\n",
       "KGIJYD00mfopMdEKg2KFkA+jlMzoK41ZfUhRSOToAt7NB4pXpklIHhMwuoAaDNj/MFhQ5QknH+nA\n",
       "3tMyzfB1RzrY+N+EN7xM5iq1OkoHk1j3yKhhYmAuUGRTZBm35gRHdrzO4blAYdjVUQCmONAX7o5z\n",
       "/E/U8h+KPvZmGnjhAxaSVGqid61Zo/HLKeZe6AJiLKWfJsFVUDETkaoFTslvp5R4QQTiUBipoCDs\n",
       "HLS57EtDfMCqkyKONWUcQ7Xa8grKJA11VqehxLd1YuX6OtYkHFOEbPGlYa1UyTtBpiHs10E9VRjd\n",
       "Zn08a7ATEzokweNZdOSHZY76D/p7em2f9wUWbH8zty1Qu0VlEYU+OZRkFq4XM9JywetsSx4MEkO7\n",
       "L4/2JDHoIiLDT4r+BOqUc4p0QWW+UjbBaUVtLCHxU81kZJf5Sq03DwbN6/1egFSGIpIn2yZtyYWy\n",
       "r23sDLCvo+5AImYvctO6BVijM0bp9F6n8jxTZ9cG7dKgARX2QZPgl+4bm2tQ/eJ8VseYZPwClPKI\n",
       "le80Ae5ZjcmcE8wshV7VdwNwfWPQgKr2i63dThjCjYbfuauLFZcfknXt8JNI8CW1tWCled9KgXaH\n",
       "/AShEZAbgwZUsedZYv/EP1fe0J4A9aP6kbOBhJpU6/1EJcfUYk7ibpnIHltFQB/b/9w/+xuDBlSx\n",
       "XwCa3VkQQzfBb8uz6XT20uqY3lLqNowrSSnO8+UFE5nZuCNl2KHPxNGnhN8YNKCKfcnr4pM0IbQd\n",
       "OH48tGouadugMuJxEGTbAq0LO13eFimULqX/9gJSanVZLYVOwn5p0IAq9jxq1u9fSbnchfohua8q\n",
       "WuJei0Ot3LdJ/b64WRir6D2aYtKyrRjkZxt9klwcU8TJC4MeqGpf5TyHIenUKWSPQuAfu6b+sK2e\n",
       "UA4GSE40ucavtt7L1Haw5CHGbVGXs0FX/ao9khuDYHsl/EhxeNlg+7sohiVlju99Mriq/U0d62fM\n",
       "QdPpyxuU526r3den1yA9UM8to9xzbF+eGkwYvKv5mIMOKPccTYc7E88ByIsIJP/sPp28jByze44t\n",
       "kA7DN2Sn7uvrA3yjGmH4Eg8muyFLNLNDFOkwfHLF8/1C4PyhStFhWYcZf6FaS0QWZjIq6wqrCUGl\n",
       "Y8ICitYfqYZmGzTjUGLhmkc8clREpUNzDsXqadWOblHXvv8vdgwpZRZ1QGgAAAAASUVORK5CYII=\n",
       "\" style=\"display:inline;vertical-align:middle;\" /></a><br>"
      ],
      "text/plain": [
       "divideComplexClosure: forall_{a in Complexes, b in Complexes | b != 0} ((a / b) in Complexes)"
      ]
     },
     "execution_count": 5,
     "metadata": {},
     "output_type": "execute_result"
    }
   ],
   "source": [
    "divideComplexClosure = Forall([a, b], InSet(frac(a, b), Complexes), domain=Complexes, conditions=[NotEquals(b, zero)])"
   ]
  },
  {
   "cell_type": "code",
   "execution_count": 6,
   "metadata": {},
   "outputs": [
    {
     "data": {
      "text/html": [
       "<strong id=\"fracNotEqZero\"><a class=\"ProveItLink\" href=\"_proofs_/fracNotEqZero.ipynb\">fracNotEqZero</a>:</strong> <a class=\"ProveItLink\" href=\"__pv_it/e658dcadf2b26fe88ead26557dd3901ea5053f6f0/expr.ipynb\"><img src=\"data:image/png;base64,iVBORw0KGgoAAAANSUhEUgAAAQkAAAAmCAMAAADgO54BAAAAOVBMVEX///8kJCQNDQ0oKCgQEBCI\n",
       "iIhmZma6urrMzMxUVFQiIiJERETc3Nzu7u6qqqp2dnaYmJgyMjIAAAD9T1yxAAAAAXRSTlMAQObY\n",
       "ZgAABCVJREFUaN7dWuuysygQZPeTmzDD5f0fdrlrAlFxU7Ub+XHKeEILTU/PgCHkIc3ae/1Akmc1\n",
       "6sqFZobRBa735O5RRPA6d75oQpyfIvFJqoBF1IsYJExN9Xb2OUzIuqzMR22sdKq3ngmm/3cTXper\n",
       "JaoBvLhJ5M83V2cC3oS/6KeZfIgodJMEeIxL7AjqOSrpM5hgWx5UYUp2lcRMFiPLM5hY6K5OolRo\n",
       "SfnwiwY+qip0cP+6Svvvg+OiQeqXGspQa1rHJYjIYAuWH7UNe9Ug5V4pLswb1monwVqIrlWIVr9q\n",
       "E+tFSajOGUxVCfU7KWzi+LG2XlxCuQ8ilRIv1vSJMf1YA7Hp9UeJIJ7NS4L4xAT3WCuKeOFVbOtR\n",
       "4tHz4zt3sW+B+mvFgNp3hkwfr33B26YadTCw4+wsTEShhsavCVpYRr7f+Lp7oO+oOMiOeRIHg3ep\n",
       "/fk7/mUt35gsBbqnk8d/w8EuXWaSUBm5Sjrev9iAjElxskyR7ag17BZoj8r0IInaaUmETiwzUdcj\n",
       "X0SHoB0coGHMpuVJH4UKgxOuW0pMHK5xtZL/oOsPgxzeAu1RBydMwm9W77f2/i35JqTX6ChmE4XY\n",
       "+aVVqAE2z7U6DRfHg87bvwV3TBC3rV/dGMyBjlCdPmLiQBJv/XzJHfjCRKi9KmXAqHSihkzJUok9\n",
       "gWLsc2mMeV+82j0Tm8xCOFIJ06Aj1F67+opP/LVkt2jKUCoXZbDfxEbCSvkFqyhb1M02cnq1YD9Y\n",
       "amGinZA0JrA9lq5AKJsGHaGi7B3zQu7opPRWWVU6sZZpLAxXrEkbm/En9hA+bXSTl+XVS1shWPS+\n",
       "Y9shumnQESrvyyh/vvHkvWOvuDv020Ks0hpDMh1wijUVGXEKPK2CRiHaLGqLbqfYFtE+KUuU0kQ0\n",
       "CSzhPpPToCNU0ee45fzEabClAhMituUT7kt+tlCeHIhXNnrahi7yKjDIbMF4+TaX3zTRMOL9SPIs\n",
       "6ACV99NWe3JALX2xjKdVqH0/tQqPE57HkNk2rJCRNUu3DB2HdLSBHMPNJ2IxEGrc8IhgE1bdAB2g\n",
       "2j4UzOsxi2NXJHGMERmnSFO+J6rlprUIJpiwkoJ8GrQp5VNjgsUFFVELQppizZOgPSrrq0x8Xc8+\n",
       "qeK5kbijCKMlpAk9ztfoPnyubv8N0K2eOCu3eX86ey4JuFanEnWLCSx5SX8DtN7A0YjVfkFNbxP8\n",
       "dIbor20H+SFhzSFfza6mTPsV0IIK7PQ81klK2exRC7v6bvT4zFzv6z5RD3wofA+0oY5BYWcN4EMs\n",
       "gJ/c8S+/ekrVWZp7s08/9/6CPuSQP66peNE5+Ln3HctzXhFb91JNcI83JfX7TbVzhvSrgan3nHrR\n",
       "D2IibqIzE7z+iOJ6VyRParq8xJGBBMWm5GTJs5oW9ajJTE0Nat31D7sCNRq2jos/AAAAAElFTkSu\n",
       "QmCC\n",
       "\" style=\"display:inline;vertical-align:middle;\" /></a><br>"
      ],
      "text/plain": [
       "fracNotEqZero: forall_{a in (Complexes - {0}), b in (Complexes - {0})} ((a / b) != 0)"
      ]
     },
     "execution_count": 6,
     "metadata": {},
     "output_type": "execute_result"
    }
   ],
   "source": [
    "fracNotEqZero = Forall([a, b], NotEquals(frac(a,b), zero), domain=ComplexesSansZero)"
   ]
  },
  {
   "cell_type": "code",
   "execution_count": 7,
   "metadata": {},
   "outputs": [
    {
     "data": {
      "text/html": [
       "<strong id=\"fracZeroNumer\"><a class=\"ProveItLink\" href=\"_proofs_/fracZeroNumer.ipynb\">fracZeroNumer</a>:</strong> <a class=\"ProveItLink\" href=\"__pv_it/2aed6239ac702cb69afbf3146fbc2e56ae073b800/expr.ipynb\"><img src=\"data:image/png;base64,iVBORw0KGgoAAAANSUhEUgAAAIcAAAAyBAMAAACEztX/AAAAMFBMVEX///8QEBCIiIhmZma6urrM\n",
       "zMxUVFQiIiJERETc3Nzu7u6qqqp2dnaYmJgyMjIAAAAcRTyBAAAAAXRSTlMAQObYZgAAAu1JREFU\n",
       "SMetV01oE0EU/vKz3fzsJj1Y8eAh9JCTkoh4UxoQz83Fn1tCsXizRU+ih5zqlgrmICioZI0QIQhN\n",
       "EZFKoSHgpYqN4KGK2pz9KaWCaNKiM7O7ISmZH4LvsBNmXr5975vvzZsFZGZkBIsVqNkb0WKwpYTh\n",
       "z9Nn41N28PIXJZAl+ojVItcGL4fqChiRA/T5DngrWpdYKE2fc8CqLYhUYs5/fwGTtcEOukI+V1nM\n",
       "PwlIYrBD9I8Uw2Qu4V0glxC9Rmh6gYGQSHK8sDdtGUguI0sHiwkZyDFnIMSucohFTCrag85gCaL2\n",
       "y5jV9pyRLzZC2J6scNy36LXImCxavl5HXXE3klmu002A0fKZs+4riA6ao6/YuA68puNX3valBSDf\n",
       "8KTIhJLFPcoN74U5gQbMURgt1ylGts7gaYArDspXHtG2G665Vq3e5Tlu8ulEPI9gx/2B35Z1g+eY\n",
       "KvJBSADBHQZCyJgG5nmO6/tlamwxo3yX6tAYiI8wcxqRPvVHb12a8n5PCCq0lIa2y0BmiRrhb3oH\n",
       "5srxZuSCrX33HGec4S8zXjo6UaTR1L35jeUqzAfAyj4QHrHRjgcSbp2jjeVEMhukqZ55Tqa46bic\n",
       "0F4UKsBkW6yTdDB/kVSafVnPxOjUxw+9xBYVxEaJxTOCpOEH8JhOvVzu3WKBTnAdj9iyj8YVZ9om\n",
       "RX/esqzE/bO9YhM186fj0w45lAWTJq5taxihU4Ey2aWu7DMKrWnRO8JLRsuAQaMLn8yi0S3ApgJI\n",
       "t0or7xtrwAKLcmuuy0Q8rdIk+6vUTzjpbzsq1w/RFjKCthVAZmRdtO2M5eSdI9zz6ZCsZXScmqqb\n",
       "V7iZhXfUmpdhG+1gcdjmhQknEloo3GNyVgYy6aotzj+x49KGrrtCyfGLKCW9WjjbE7VTpM6H7KLE\n",
       "DrOkarfxEENft5yLX2W8fIpXRTGFypD6LNlykPCYymVZZi/EyyMqdY5AXri8ofapMvUfPlUQEH40\n",
       "MVr/Aaj+xN5QwANPAAAAAElFTkSuQmCC\n",
       "\" style=\"display:inline;vertical-align:middle;\" /></a><br>"
      ],
      "text/plain": [
       "fracZeroNumer: forall_{x in Complexes} ((0 / x) = 0)"
      ]
     },
     "execution_count": 7,
     "metadata": {},
     "output_type": "execute_result"
    }
   ],
   "source": [
    "fracZeroNumer = Forall(x, Equals(frac(zero, x), zero), domain=Complexes)"
   ]
  },
  {
   "cell_type": "code",
   "execution_count": 8,
   "metadata": {},
   "outputs": [
    {
     "data": {
      "text/html": [
       "<strong id=\"fracOneDenom\"><a class=\"ProveItLink\" href=\"_proofs_/fracOneDenom.ipynb\">fracOneDenom</a>:</strong> <a class=\"ProveItLink\" href=\"__pv_it/13b0171bede25b567ce69bca47cc4a00d0e840700/expr.ipynb\"><img src=\"data:image/png;base64,iVBORw0KGgoAAAANSUhEUgAAAIQAAAAnBAMAAAA84v3UAAAAMFBMVEX///8QEBCIiIhmZma6urrM\n",
       "zMxUVFQiIiJERETc3Nzu7u6qqqp2dnaYmJgyMjIAAAAcRTyBAAAAAXRSTlMAQObYZgAAAlpJREFU\n",
       "SMdjYCAA7uKT5EpgIAyYHgAVKmU6HcIu7UeEEY4LGBjWMFxXqMNhA2FncIkCiVMM5xd44lDwlqAR\n",
       "bCBbFjB04FQwcQEhI+IngKlP+O3AC56BSdavOBWw/iJgAudPELmL6QODFi4ljwgYwQyMUgaW3xwf\n",
       "OC/gUnKRgBGMCqBYSdJSxp3A5jswPMCXBOcHEIwzxgMMp0H0Kxzy9wmnPbYHDDNAodaAQ96ciBzw\n",
       "gYEPmDZ4NuCQryBsBPdPBt5Tq1ZNxyX/mbARrL8ZGH50dNTgkv+EJ/dAsy/XXwaGVAaGTlzK/qIJ\n",
       "nHsHAo9BTHj2BVrjzMD1AMVzPelJsMT5F7cr4Nn3DwMDOwMTLOlx7TG+wBWxgPUNkj8ZGPj/g8AH\n",
       "NCPg2RcYXjwX2GHCN3auYuCdw8CwB8UIAgEFNILzQRiQcchULYDFAMhw3QoUwuURSFigZF8uoEcY\n",
       "OlOACWRBHrsDH0jo1k2k4MQTI7DsC7ZmcwHQSFAJthgstRNJ3R+cJsCzL9iz/KDsyAAsGcI7OjoU\n",
       "ZociKRTDnSxg2ZflC5DgBRV/rB9YGdjARcQioDxMYR/h1MkLK7bm8zzgYeABZW1OmwAGeKVxEEpv\n",
       "xF3I8ghAGcuuHDrFwNANTnbv2uClxH6wVq6cfNxG8KGWv0zAsEARWA9NdPdxG7H+An6PciQQNGL/\n",
       "BAJhJUDQCDtC9eFvgkZIE4oyPUJGMAkQLJ8DCBjBeIFgwnlAwAg9womvCb8RnJKEjVgegNeI5RsI\n",
       "G8FZCSL1cRnRS0RDiWEqEJvJP8YealwODFQBABXnsss+9P5VAAAAAElFTkSuQmCC\n",
       "\" style=\"display:inline;vertical-align:middle;\" /></a><br>"
      ],
      "text/plain": [
       "fracOneDenom: forall_{x in Complexes} ((x / 1) = x)"
      ]
     },
     "execution_count": 8,
     "metadata": {},
     "output_type": "execute_result"
    }
   ],
   "source": [
    "fracOneDenom = Forall(x, Equals(frac(x, one), x), domain=Complexes)"
   ]
  },
  {
   "cell_type": "code",
   "execution_count": 9,
   "metadata": {},
   "outputs": [
    {
     "data": {
      "text/plain": [
       "'\\ndistributeFractionThroughSum = Forall([xMulti, y], \\n                                      Equals(frac(Add(xEtc), y),\\n                                             Add(Etcetera(frac(xMulti, y)))), \\n                                      domain=Complexes, conditions=[NotEquals(y, zero)])\\n'"
      ]
     },
     "execution_count": 9,
     "metadata": {},
     "output_type": "execute_result"
    }
   ],
   "source": [
    "\"\"\"\n",
    "distributeFractionThroughSum = Forall([xMulti, y], \n",
    "                                      Equals(frac(Add(xEtc), y),\n",
    "                                             Add(Etcetera(frac(xMulti, y)))), \n",
    "                                      domain=Complexes, conditions=[NotEquals(y, zero)])\n",
    "\"\"\""
   ]
  },
  {
   "cell_type": "code",
   "execution_count": 10,
   "metadata": {},
   "outputs": [
    {
     "data": {
      "text/plain": [
       "'\\ndistributeFractionThroughSubtract = Forall([x, y, z], \\n                                          Equals(frac(Sub(x, y), z),\\n                                                 Sub(frac(x, z), frac(y, z))), \\n                                          domain=Complexes, conditions=[NotEquals(z, zero)])\\n'"
      ]
     },
     "execution_count": 10,
     "metadata": {},
     "output_type": "execute_result"
    }
   ],
   "source": [
    "\"\"\"\n",
    "distributeFractionThroughSubtract = Forall([x, y, z], \n",
    "                                          Equals(frac(Sub(x, y), z),\n",
    "                                                 Sub(frac(x, z), frac(y, z))), \n",
    "                                          domain=Complexes, conditions=[NotEquals(z, zero)])\n",
    "\"\"\""
   ]
  },
  {
   "cell_type": "code",
   "execution_count": 11,
   "metadata": {},
   "outputs": [
    {
     "data": {
      "text/plain": [
       "'\\ndistributeFractionThroughSummation = Forall([P, S],\\n                                    Implies(Forall(yMulti, InSet(PyEtc, Complexes), domain=S),\\n                                            Forall(z,\\n                                                   Equals(frac(Sum(yMulti, PyEtc, domain=S), z),\\n                                                          Sum(yMulti, frac(PyEtc, z), domain=S)),\\n                                                  domain=Complexes)))\\n'"
      ]
     },
     "execution_count": 11,
     "metadata": {},
     "output_type": "execute_result"
    }
   ],
   "source": [
    "\"\"\"\n",
    "distributeFractionThroughSummation = Forall([P, S],\n",
    "                                    Implies(Forall(yMulti, InSet(PyEtc, Complexes), domain=S),\n",
    "                                            Forall(z,\n",
    "                                                   Equals(frac(Sum(yMulti, PyEtc, domain=S), z),\n",
    "                                                          Sum(yMulti, frac(PyEtc, z), domain=S)),\n",
    "                                                  domain=Complexes)))\n",
    "\"\"\""
   ]
  },
  {
   "cell_type": "code",
   "execution_count": 12,
   "metadata": {},
   "outputs": [
    {
     "data": {
      "text/plain": [
       "'\\nfracInProd = Forall([wMulti, x, y, zMulti], Equals(Mult(wEtc, frac(x, y), zEtc),\\n                                                   frac(Mult(wEtc, x, zEtc), y)), domain=Complexes)\\n'"
      ]
     },
     "execution_count": 12,
     "metadata": {},
     "output_type": "execute_result"
    }
   ],
   "source": [
    "\"\"\"\n",
    "fracInProd = Forall([wMulti, x, y, zMulti], Equals(Mult(wEtc, frac(x, y), zEtc),\n",
    "                                                   frac(Mult(wEtc, x, zEtc), y)), domain=Complexes)\n",
    "\"\"\""
   ]
  },
  {
   "cell_type": "code",
   "execution_count": 13,
   "metadata": {},
   "outputs": [
    {
     "data": {
      "text/html": [
       "<strong id=\"prodOfFracs\"><a class=\"ProveItLink\" href=\"_proofs_/prodOfFracs.ipynb\">prodOfFracs</a>:</strong> <a class=\"ProveItLink\" href=\"__pv_it/356dfaaffb6173551f7a84366ef523f7ab32e3f70/expr.ipynb\"><img src=\"data:image/png;base64,iVBORw0KGgoAAAANSUhEUgAAAVAAAAAmBAMAAABgyt6CAAAAMFBMVEX///8QEBCIiIhmZma6urrM\n",
       "zMxUVFQiIiJERETc3Nzu7u6qqqp2dnaYmJgyMjIAAAAcRTyBAAAAAXRSTlMAQObYZgAABO9JREFU\n",
       "WMO1WG1oHEUYfnPZzd3u3SWHVNEWZE2g9ENqMFRFarxWtPhDs0VtC6I5DosIUipIqdKWkB/hmhq5\n",
       "ImppxSy1RpsquVIqRio9I/VHqnVbBVtRXDQWES1HrGC+1Jmd252Z/bjd2vH58dzcO8/Mzs7OvO+8\n",
       "A/D/4HuGA6EWYvd1FdKrRsJyWG1/Zt0EW3XodlAWo9+HgwfFytUODfYZYVIhWGs4/B58o+1mq6pr\n",
       "IVHDbxE4T5w8I+XgtlCpCKjXuzwJXxoPMlVKpRtSfbj0e1BLR67iPwebLSiFSkWgpeCyQR5F3wGu\n",
       "gzYNl/YZAS0d+RheO0aTBtOhUhHoLVMmj6KQZqFXp2/jA5En7coeQ/6zgfTacYlh8igK9DlvIRWz\n",
       "QU05eTckcuHSa4cyQ/kjtHNWsJWpAgyQ0o8BTXn5AFaHSQWg2XJZmkvVFJOrLEgLpHTO39IjvwN6\n",
       "zDCpCDRpLqvFFR2821eLHTOkNJz3uwtePtJ+b9mRWhER5L9gWKccOuHoTarRXXW70jP491exA/2B\n",
       "YR+2wlh9JlusKC9nqVdc6X687PvEDvROhn3YBf1OnK1F9JM0U5orbUW+NFMRO9AdDPuwrsNZEumZ\n",
       "iH6k9tVUmp0cHX1d8Gb6g+EGkOdi94ilf5VKOwUPdDooIgWcCBbiHx6QdAvAHsFHkoWYwyCvcvYy\n",
       "xk+R0vtA5XZf+qWni7zIb/nws+0ahIqUBcrcecOL+fgvj6RJSDihQD3ZZaqbDfk3Ojk+y9FP74G3\n",
       "B+FJxgd6RWTtEW77BwNvb/Vv+p9Y/KvYqeXgLPiMmXR0F8ZHIfsGwEkItWT3HjDgYhXSzEC9Inag\n",
       "DLaHbLq4+1OxNqLCxOqlutSJCvefQCbsRQrwInAWZfcRHS0U5DUeRw4GhTZpKbypekQNPr1/Lc8z\n",
       "a/RStHTPU8ihGluT+VZs+vZiPWOYlXPAWZo/RskMXs7Z90kAzrQZy2CKF9m9TlNueMiKv+tt6fFt\n",
       "6Dvh0/5b9jlrnNQc3pbo4yzo0RVQ8eylj5KBHlgPRVjuEdFNMi/Yj9YTAxQlNpVKJe3gY/X5q7Zo\n",
       "vAUOowY7SqV+5UQ9tqyBRVD1iDBuYLhR4LkSe6C2NIv9hlyTocUe4CGSWSXzTTpvUXTZAPsce7dG\n",
       "nM3z6ixovMjGyww3QDb+ud2VDmesDGTwRClrdJhQBiGp9wBvee3MBYDTWP3Kacho+w34OV3LlhmR\n",
       "0+0nDDdAJhd7oK505OuJSYC9dmZ9eUCXl4BUxDPCWswNgyiRwOcX9ewvW2BDBR5Z+dVKVuR0e8qg\n",
       "3ACt8VM2jzSBFls9zsARGPJYCJaVnFNaxd+sjjGTcgNECmJIx+FZyfJYvDGzHNotychSURN2qhx7\n",
       "oKFSEx763Gvxru8GSz9HGaTn8k/wV09pK72YSTM4rF8kmzGlIo5Pc5Th3fNdbAJRPYammjimJQEt\n",
       "hzruiikVglUMG3a2w149tZn2wTIRsOnVelqkRkvF5Ms6ZZAHPVdPvWXAAa4pcINsNpyrp0ipAGQt\n",
       "yvAAH2Nm8I1O1Z1wbwgq0KunCKkQ9FNOF7xJ/QAoKGFWbgpq+EF8qRC8o7t8HKDAu66dkMCVQalv\n",
       "upNE5BhSQddkLzgs7/piFXt1k7CkG+FRVBgKarfpu/NTMaWC8KrDzXBuiqvpah+5Fe0NNR/UrDN7\n",
       "cz5Y+i+0WbyuDtZyJwAAAABJRU5ErkJggg==\n",
       "\" style=\"display:inline;vertical-align:middle;\" /></a><br>"
      ],
      "text/plain": [
       "prodOfFracs: forall_{x in Complexes, y in Complexes, z in Complexes, w in Complexes} (((x / z) * (y / w)) = ((x * y) / (z * w)))"
      ]
     },
     "execution_count": 13,
     "metadata": {},
     "output_type": "execute_result"
    }
   ],
   "source": [
    "prodOfFracs = Forall([x, y, z, w], Equals(Mult(frac(x, z), frac(y, w)),\n",
    "                                           frac(Mult(x, y), Mult(z, w))), domain=Complexes)"
   ]
  },
  {
   "cell_type": "code",
   "execution_count": 14,
   "metadata": {},
   "outputs": [
    {
     "data": {
      "text/html": [
       "<strong id=\"prodOfFracsLeftNumerOne\"><a class=\"ProveItLink\" href=\"_proofs_/prodOfFracsLeftNumerOne.ipynb\">prodOfFracsLeftNumerOne</a>:</strong> <a class=\"ProveItLink\" href=\"__pv_it/7382a0e10018b2960051ec6790f4ac0aca52c6580/expr.ipynb\"><img src=\"data:image/png;base64,iVBORw0KGgoAAAANSUhEUgAAASsAAAAyBAMAAAD2JOBgAAAAMFBMVEX///8QEBCIiIhmZma6urrM\n",
       "zMxUVFQiIiJERETc3Nzu7u6qqqp2dnaYmJgyMjIAAAAcRTyBAAAAAXRSTlMAQObYZgAABY1JREFU\n",
       "WMPFWW9oW1UUP03ykryXl6bI/MOUGRsYsg82Oici2saKih+08YNuIJpSHaKMdUWYQ7YRK9Ss26RD\n",
       "UHFCn3MW1ylrGVMrk4Xo/NBNG4dgJ84G5gcRLWVusnXOed+75yXv5d2bd7dc8HzITU5Ozvvdc8/f\n",
       "GwAZ9DVd9Azne61XWNUYSCO9SNfjXInHhHWFKtJgLadLgG+TuPjDfpGFKtZG10n6arBkdghrixYl\n",
       "wXqfupS2xHxZ1280kBEgS40Meg23mbaWOaORRQVoUtIZLtL1iNEAFmwW1heRc4oRaiV4CRiwtPYX\n",
       "uksW6BH+sdkyuM0LUmDN0QfGL7BgfQw/Jrc6wTOoKgOu/TVJm9BoeRasaZgxHrFQL3IVVGUAGrnB\n",
       "lZFylq65DEupAQU8qTNcDVUZpANJCbCCGGO3c/Zqw5lvoMMNuVVGom/B3H4dG5ZyDt908H2+KoPV\n",
       "QobP58pU9SUmrC8CC7DCejda5mmoyVBSL0mAhVaobrHDCSt0Mbqgll1W9Rbnmgy4Dd8MvYo5Hl3s\n",
       "rptPOx6h9a1InUKBDby0VZNBeh3Acq9TTcC6AV0s79f9LAirnAE4Zq6/Xz0q7S+M6rSPYPyceILO\n",
       "wjumj+WbSFsY3LmkoKBIFCWhlXioPtFEob6IhXpC0KwCRCwfnx4ff7sJ17LPhhjeh/4W1pkgQXu+\n",
       "UNjcBCw7MTTIlkjnxWERp1oLsK2Z8QJL8IxvfV1G5ectahggLSQ9PACaqwbFdjzfV+c+Hs7n32y0\n",
       "PTyIsLoMTwGuo+vF6xlJcREI2PlPO7yyrK0xlD9qfurh7P/qPvhwGJ6xW8gwpqN+ulw2yWRp/1rH\n",
       "Uf0MMOA9rMseoj0SSc16OWKLzU6NQ/w9gMPA5cS3v2vAySLEOLBqtLGeMSDe7xJYauVJ8q60ank2\n",
       "ZB74g4cIi6zdvfAKuDjq1n1ZcuSkiD1Fom7E7xA99LLTtxqO2RGzTm17jsSTsT6SaTVZP52kXxUX\n",
       "lTZwcYJflmitin/iiDodI3FmRMzlhXzLfMpBgk2BPwE+sLqMKdpc7N0QyLs4xF0mQDPNF9vvgBDA\n",
       "vNXhm7fE+wKr2UhYQUU2vbpQKCR3P4G2KYaTbg7sJfA3FQqD6iEHhDj2zHO+86l4lk+Ym4+bXqEs\n",
       "KBC24OwhZjHPN9OSdXPUrGKA5RP3JGvxH0NYR/xgaf+IFx87nkb1ig66aQT13iyU1GGIZHvAzXnr\n",
       "2CzAUVP6zaOg23nL7kpzZamlGm+VfihNA2y3prb5oaxyI4T63gA3p/z4MGnmzIqsfffb2vqzSfg1\n",
       "NnZNF6C6sh8gnoQ6YB/srONQurUw6NaBg2fEb1zRxQcHblRPwbq6+68pno4uDBG/5jMs3p32874o\n",
       "w6PH6zm8VpI6P07NWioJu1xDxkDmaW5XvecOUJdWPz28RCk7+/DmBjLqCAp1HT3UBh3Orz86sZLi\n",
       "GWW0r8X7IVA1orYzdTfNmWckwHKPr7uDFffoblhtObshUyc6IZq3uw3Nbt6ljK+2U1EfM1qSdaO7\n",
       "MlydsjypDK6xkjntNgDWGI1HtyuhEObTHppPe4y60f0h5j0D/nYRctlqtxFCuydkXI3Y11F4gdUJ\n",
       "Add9ZAyfFWBdJJETv6X26VPWXH71126uUByCqKtpOQi0YDFnfSI6VNtAmhY7KbM+eSBWsJvosA89\n",
       "zlyibPn2tgz3kjLYG6pdg6z++cSvEi8p3Ve6Y+1dTgBB+N56FpxmXz+kahjS8WXWBlrTUmDZT7TV\n",
       "dTKxL+XEsbdmTRpyYO2i7Zd6rVliKtpZlgz774L1cMDDl/Z3QQzzzGdmPJajzPB+lvnLLTDorZ2S\n",
       "ztB0c3RgknvaVzGvBNiXL90pb6s9KwsVhNFAfVyJ/+WPO7gTzcVrnLUXhVWNWQ7/H1xlnVjRr7NW\n",
       "AAAAAElFTkSuQmCC\n",
       "\" style=\"display:inline;vertical-align:middle;\" /></a><br>"
      ],
      "text/plain": [
       "prodOfFracsLeftNumerOne: forall_{x in Complexes, y in Complexes, z in Complexes} (((1 / y) * (x / z)) = (x / (y * z)))"
      ]
     },
     "execution_count": 14,
     "metadata": {},
     "output_type": "execute_result"
    }
   ],
   "source": [
    "prodOfFracsLeftNumerOne = Forall([x, y, z], Equals(Mult(frac(one, y), frac(x, z)),\n",
    "                                                 frac(x, Mult(y, z))), domain=Complexes)"
   ]
  },
  {
   "cell_type": "code",
   "execution_count": 15,
   "metadata": {},
   "outputs": [
    {
     "data": {
      "text/html": [
       "<strong id=\"prodOfFracsRightNumerOne\"><a class=\"ProveItLink\" href=\"_proofs_/prodOfFracsRightNumerOne.ipynb\">prodOfFracsRightNumerOne</a>:</strong> <a class=\"ProveItLink\" href=\"__pv_it/76361c49dc78913c7df9e0d333815d6cb9b116310/expr.ipynb\"><img src=\"data:image/png;base64,iVBORw0KGgoAAAANSUhEUgAAASoAAAAyBAMAAAAZ5oteAAAAMFBMVEX///8QEBCIiIhmZma6urrM\n",
       "zMxUVFQiIiJERETc3Nzu7u6qqqp2dnaYmJgyMjIAAAAcRTyBAAAAAXRSTlMAQObYZgAABTNJREFU\n",
       "WMOtWV1oHFUUPvsz+zOzm+Sh1qJShgSKlGJWSkXUNENFxQfN+qAtiu0aLaIUkypUEZWlD3WbthrR\n",
       "0mCVjlGDJkq2lKqRSpdI+xC1WYtgK61dqIgUDUtqpdnY1js7O5t7Zu7dvWbugeTb2fn2zjdzzz0/\n",
       "dwAkWMLA6LER4aHUDMiy713osXBJeKwHZYkKZjAy7FfhwZIlSaoOuhCZdoP1P1YQHm23HFHqEozY\n",
       "o45XuOfY9oEhRVUshdE1IxX+c2Sa1iZF1VETI1NVVHwKX5Gi6gUa1fZn1k0yVGlz/AGGV7yzSqfu\n",
       "clCCqOQcjZ/Bz/prDFV17Qy/LCSfj1IrL5qSoCqapXEKps37WarOmdwYbCYq4UHvL3zZJoNGE3JM\n",
       "v4JxnfusIJZFx7MSVN3qwlm2qpYG0bEVK56RoGopRuUSW1WwgbtvSqPDTv/urlxB+HWwDCtZquJX\n",
       "uAHK7IQg7XUHiv6T4ByN4flYOY4GDVZcz9RjPfk34X36i4D/uiHWRqPau7LjLH069MTVLvvT67wR\n",
       "RtqHu9CNxPqh6oRnF68qkMXItWnxcq0M31l4YfGqxlMYuXYuLRyXL8GQ5YlZH+FKx9iUKLCAZqGF\n",
       "eH8i7yM35zE2fagCpdFFSE6Nju7z4e3OxDSdoFbxlfUPwOVczk/t4IS8pqGvVdxNLgNsBtjpQ9W0\n",
       "iZG/WO2Uc2LGsvMNqcsB7gYVpSht99O9mPTV8W3YU2lKt4mxbu7jQL/wnV5PKhAIOjFMPbK6qG4w\n",
       "lT/r58e+7YKPB2BjvZL0UPoQtl6zrGwRry4c25WOt/K95rFy9futZAEWow7r1MQoJN8DOFKPHLve\n",
       "NeF0AbQCl9Lnwrptc9dh4vU4URUvPUI+TK5ZkQ5ba/eew+Qrgusy8DKZXZLaHiOry3LlfRf2AqI0\n",
       "nkFPddhP+dXvDakvkr+dT5Ecaj4XNVqsb345bZ8pVJS2ajpKfl5bXXee0QFRbC8fxNjM20WMeDsc\n",
       "IjehwF8AH1ZLkQm78PioP5hVrSejjTnXG8OUWkRIY+SrEo9XS+uVIClE1udyOX3/w7VkX4joyku5\n",
       "3Pb44dr1VMNFsaOngZEfr8SbhIvWFFkeoZQViFTVDFuVNHEDI5CG6u3dodvLfC88iil2pjEw8jOO\n",
       "cEeo/uuUf4lSAhLWQ4nflYbJ+ABE0z0Ax6xzbx+DhD5kxrd8k6Uo9aRbxCgnO9cqr58mpwB2VTu6\n",
       "mR1p5UYI975B6i8r5aon/tgMD+WTyjKTorgnpukEHRUuAbR5XO0Sp6mdgE9hD8Gbc9tr5/JuirPg\n",
       "Sxj5qUm4R0jwGo8J2IJ3wjTemKEyRq71CTt7hDdUER7AG3dJbuFYQah26PAWHVDvW6LYHreM4daI\n",
       "HN5qPC5WbAu45jzCRLgNOukL7+m43Q6AjI4Ykz85udqWc0D3rcrVpe4PlVBPrzrlN6tLdchqrcgY\n",
       "ktalQjdCM6C7evoNptNOecwhj9surAw06dH+h/UYCHtM3NOHM8y9BKDJUZtzL3unYnE7RSmEayGI\n",
       "SpYvnHzJqikQWcu4um1fu2p4Ee6AGJ2GtZSdpdgNPSIfAjvDSWjoid2E8DbooXPP+jMnf+PvQNJk\n",
       "5dUfbjGk7UC6dmtH2rvpUVPJ5dVLtaTYWwwL5BD8WNUP52WIql/QwbUs0kFOqeol268NfFv8Ogoj\n",
       "JfVvVnHCfAvAJEt6CwBfUhgtxlghIMKcQCb5STmiIJRZwHD7GhblFPOHLHIyK0kV9LrQe3nxTkLa\n",
       "mzgIGRi9a80UHUp91vr/H4J9kfqIXbjAAAAAAElFTkSuQmCC\n",
       "\" style=\"display:inline;vertical-align:middle;\" /></a><br>"
      ],
      "text/plain": [
       "prodOfFracsRightNumerOne: forall_{x in Complexes, y in Complexes, z in Complexes} (((x / y) * (1 / z)) = (x / (y * z)))"
      ]
     },
     "execution_count": 15,
     "metadata": {},
     "output_type": "execute_result"
    }
   ],
   "source": [
    "prodOfFracsRightNumerOne = Forall([x, y, z], Equals(Mult(frac(x, y), frac(one, z)),\n",
    "                                                 frac(x, Mult(y, z))), domain=Complexes)"
   ]
  },
  {
   "cell_type": "code",
   "execution_count": 16,
   "metadata": {},
   "outputs": [
    {
     "data": {
      "text/html": [
       "<strong id=\"fracCancelLeft\"><a class=\"ProveItLink\" href=\"_proofs_/fracCancelLeft.ipynb\">fracCancelLeft</a>:</strong> <a class=\"ProveItLink\" href=\"__pv_it/70670656f1967a06550cbeeaaae690cbc33c3cc20/expr.ipynb\"><img src=\"data:image/png;base64,iVBORw0KGgoAAAANSUhEUgAAARoAAAAmCAMAAAAsoqTqAAAAOVBMVEX///8oKCgUFBQNDQ0QEBCI\n",
       "iIhmZma6urrMzMxUVFQiIiJERETc3Nzu7u6qqqp2dnaYmJgyMjIAAAArQGDrAAAAAXRSTlMAQObY\n",
       "ZgAABAxJREFUaN7VWoty2yAQpK14P6X//9jeIWGBJBB2EzUwk4xjrwUsd3sLhJBBWwjf9GArydiN\n",
       "zttEKJWGU0/PU6QM3zSTvWejgPJ5aGb4NmHrIX4UJeo8HQ8g5HC5f9oBSkeOGzuJbVLAkF8s4SZ9\n",
       "kiDGEYZ8aX37tBN0DuNSI2XGRD55u8z7JxNmyULviT5Ce5LwhzaxmOyvYvJqTwYO0QRQ0ZOfB6gc\n",
       "NqVmWfBUmXxMEjr1PPAIFcugYWP2oHF2FU96MRUt06/bdoLOdExq2LwngiMaqDFXuskkAroU9QQN\n",
       "05jUTHS3Z5SCKbm2f/ghK1SpYfMOULNwCJ3v95dfnk/igwB7EzqBYfLulV+DSE9YumByxlrOP4Ti\n",
       "Wya5AqNHkRrVBVOQBJp+Co3inoJlD58f3lTfGnKQj87Mu4A6VJ7gLTajBmGGLOwRV4mRsmhsyg9D\n",
       "zROew8ZSLmMsafP0FPnNvgYS3lNfGfRHzc9ZYx0LwBFkG1XOaS+VbK9VB+YIaUlGTP0AvDh5rt2P\n",
       "mIwlLgqqDD31Z51nDN61QuPea75KuA5MHdKgxkRCFMbVaTezqsA2/q52y8IVdFU0H1Z6SvegnbE4\n",
       "rGDibNzFtDswDUiDGmQRMgdDZ3INar5d7M1MxBa3HqoYRfHhKRW5cGtdM6nQIVRZ0sAQo2ZrRBNS\n",
       "UvPqdwX7/ehBha9LqEJr5I0Mr2uojVw1ETawYANVvn8INhQC7THERdx9VTGEubCe1tYhBTWvfmWs\n",
       "ln/gJ2wnA4qeBv1EhUoL4JLBFOnwz7J92+/yORnLAUt1C7NKDLmDZNSI4tCRuuzAaqLXAvmIrymt\n",
       "wrr/FCouH7hn40RpFBmMLNaZBobYNQpbkIPW7Pteq1N44DfOu6DpiSM4nvoNdmcrriHZu2eW7k5j\n",
       "qxvrqXUdgzojbBNyoGbrV4II/P6FUhBqFYroJy5DwqFfs4BSoZzAz2uNDYuvQTtMLBxKAKWr7NQw\n",
       "RnoXdA1ypibrNxXumFjsytcQ/8Qx07ETKwMHAxr50q8SaUHYNVYPEQsplzStWw0DEjppW4Ocqcn7\n",
       "JXpfLur9hWd1TxzcNgsYXUWiHBVMAzRBhzbm7jEtX+NuRdY+YIff7gOLjPTtm0/XvRe7pqZDSPT3\n",
       "67Bb3txSIpM8eH+H+QdqQofVzc+063feMFQ1cSL6BnTAsv97780+j/ZMwKp33mACAmWs79zriJ1G\n",
       "Odc7yeCLiNOdd2YO8FXvqe4BSwe9ayHJV5HznXd26R3dku4vZjl2Gvf/AcJcPfXLLr3BZ7xhf+VV\n",
       "VA7YMjtQv/B3bzCTY81kBqbGKrHtWut33o6Vu5kmMxnWKkdGbkYZ0r7zFir4QOeuO7oCqwMZu8WT\n",
       "stadN0MD1MdMgbXpK38Bcwg2OKHItIkAAAAASUVORK5CYII=\n",
       "\" style=\"display:inline;vertical-align:middle;\" /></a><br>"
      ],
      "text/plain": [
       "fracCancelLeft: forall_{x in Complexes, y in Complexes, z in Complexes | x != 0} (((x * y) / (x * z)) = (y / z))"
      ]
     },
     "execution_count": 16,
     "metadata": {},
     "output_type": "execute_result"
    }
   ],
   "source": [
    "fracCancelLeft = Forall([x,y,z],\n",
    "                   Equals(frac(Mult(x,y),Mult(x,z)),\n",
    "                         frac(y,z)),domain=Complexes, conditions=[NotEquals(x, zero)])"
   ]
  },
  {
   "cell_type": "code",
   "execution_count": 17,
   "metadata": {},
   "outputs": [
    {
     "data": {
      "text/html": [
       "<strong id=\"fracCancelDenomLeft\"><a class=\"ProveItLink\" href=\"_proofs_/fracCancelDenomLeft.ipynb\">fracCancelDenomLeft</a>:</strong> <a class=\"ProveItLink\" href=\"__pv_it/3784825ca28f6ecd9b4de3b6863971e4272ca6200/expr.ipynb\"><img src=\"data:image/png;base64,iVBORw0KGgoAAAANSUhEUgAAAPIAAAAmCAMAAADJGTavAAAAOVBMVEX///8oKCgUFBQNDQ0QEBCI\n",
       "iIhmZma6urrMzMxUVFQiIiJERETc3Nzu7u6qqqp2dnaYmJgyMjIAAAArQGDrAAAAAXRSTlMAQObY\n",
       "ZgAAA6JJREFUaN7NWYmSnCAQJYncp/7/x6YbZFRAosZJoGq2dtce5PX9GkJGXCG8v6eVZOBF5/WU\n",
       "lErDqaf1+SnDf5rJXt+Vz+Mi5isQ68HeihJVn9WDEOpmuaXJYe1sJ7HiAuR+sYSb/CSLGEcY6kHr\n",
       "WzvPYVDIUu4Q7kHZZd6eTOjYC7218604+IdLLGb31wGU2jyTg/VBVDzU5lhrlgf8J6CiX9PptjpH\n",
       "NLPZjOxsyk+0cU4t8497+qQDQmbz5ruOaIBsWkmHSRS4nY7CNCDkiW69A6VQf9ttCT5kh6i/6EMc\n",
       "TP3VlueBX4sHDnFDo1Drvfv4+QihHa41F3LGmsUfVED4osmFz+ghQlldElPgkfpJKor5MBt3M/f/\n",
       "XOqa4jlEsniyv8P4D97iMmoExGRh32500LKLxqX8GJBfLpwl5bKxsMnoIdq8+qpuZomvB05Ya9ku\n",
       "j8uGn3eLnVKuqFOOz20n4TvtpZJ99ZcyvZCMURgAr5N1jXq3UtaUa4l6xiim1aus84zBf63Q2MHP\n",
       "Lcc/l+lANhGoQj+oWt4UauvhLq0/+HVFuVKy8CHBPhZI7YzFEwUTgbgG5I5MBzJqBzwYTT25DuSX\n",
       "IqygXAmymYlYXcxD7qcY3DxHAxcuiZtcHlBUWdKRKSB/Nk3CfqOIKrzn2IdYlmeUyybHhtQlU7oB\n",
       "zgLtidr3ocEGcxzBgNpE3OJU5gj5s6mMpeEXfMJK4xSt0tfbVKegXFmnLvc8Ig9LLNsYnNvDMZaD\n",
       "LNU9mQKyOExgqNsNAqYK4PJ2rSwo1ydydrpN7ESoaBHo6YwTxzaHwaFiau7IlLG8UR6rsznxG3WX\n",
       "PL09tygoF8+vDHbTQjQL2QWDpYdZG7p9GsidyxSQ100lBNnPHxhq4SxjE/2NyeuOcoXilWaBJIDh\n",
       "Cp+P2QyLv3swZsy1SoCqUlg3ZGrIu01zgYoOzlp1mfiXOXxJucr9rQwceqKoB/2pFhZyocaEK2JN\n",
       "4ZJmUzRkasj7TVOBWjF7z1pt/7sUtqRccy9waIrT44EAAYSFDh2ZXl12f0xO9uX2q6Bct7fHvCz9\n",
       "pZuONuQrX/zq3NXdnR2hhnjwV+pIE3K40FqdDuTOL6ieJbL3k+TjonLScnYuqO6MvoaYg1Q5pI2p\n",
       "uqB6tPeIM12Si36LY+u/Hc9Ng97DhflbIxM67A3z2ejy9q1bSdMmMypkqxrQehdUV7d1ZNhllKmZ\n",
       "fueC6qLzBDLwMqJFiE4vqK4ZOTfavwGyJyw6/iumnwAAAABJRU5ErkJggg==\n",
       "\" style=\"display:inline;vertical-align:middle;\" /></a><br>"
      ],
      "text/plain": [
       "fracCancelDenomLeft: forall_{x in Complexes, y in Complexes | x != 0} (((x * y) / x) = y)"
      ]
     },
     "execution_count": 17,
     "metadata": {},
     "output_type": "execute_result"
    }
   ],
   "source": [
    "fracCancelDenomLeft = Forall([x,y],\n",
    "                             Equals(frac(Mult(x,y),x), y),\n",
    "                             domain=Complexes, conditions=[NotEquals(x, zero)])"
   ]
  },
  {
   "cell_type": "code",
   "execution_count": 18,
   "metadata": {},
   "outputs": [
    {
     "data": {
      "text/html": [
       "<strong id=\"fracCancelNumerLeft\"><a class=\"ProveItLink\" href=\"_proofs_/fracCancelNumerLeft.ipynb\">fracCancelNumerLeft</a>:</strong> <a class=\"ProveItLink\" href=\"__pv_it/7288d9188c299991b63810b37924c295e801be2f0/expr.ipynb\"><img src=\"data:image/png;base64,iVBORw0KGgoAAAANSUhEUgAAAPsAAAAyCAMAAACtS13oAAAAOVBMVEX///8oKCgUFBQNDQ0QEBCI\n",
       "iIhmZma6urrMzMxUVFQiIiJERETc3Nzu7u6qqqp2dnaYmJgyMjIAAAArQGDrAAAAAXRSTlMAQObY\n",
       "ZgAABAtJREFUaN7NW4myoyAQZHe5b/n/j10G44kiSZRAVVKpZ4u0M9MzHA+hTptjz/RrBOq9OfdU\n",
       "z2zonDp50Dq+b/IW39+jmX8r1zF1g9nNMe5EMI91f2tT9H5HX3F/wK3u88/1OJ/gjmS3Xi9PzG4I\n",
       "EZoRR77mboPuk7o/GZiJxvKSIDl8zf309f7c7Ook5cfRu0iB6e+5+wfC6obGw4kKw2iVuiXekQmk\n",
       "R+60JMIfD3lv6KHLAgeLkk/wm7iTHtWOB3+W+kwcMQzb3MBdnz7ml5X8mUFYsEhF7tp/1q2pd6+f\n",
       "1XT4tDAlxBDqP6FOBQ4D3dypZAz6xS268AKs2jzHRRdydpa+HlKeCY2qDh9lU0/vWasezM5bJd70\n",
       "oMnciwP8dh5jGzqYdwaalp0U87zRkwIIfVDQOpnWtas5AsS4SG9a9VHnuC8mGW5YtUvJxJDhGMDM\n",
       "zfVtcVUo0Yvz8ANXo80mWDgFOXyRQnK3ygkpivqbQUpJg4Kj+Ujc5rWVCGu3rGrX3n2IlamIcn7k\n",
       "vzOOdRRKIcNVNAUfDoxUgBS468RYgmfkRhahVXSN3PWAeGYBr6w2MDSvEyWbcy9BCtzhPcUUA8bH\n",
       "9k6f38T7ZbkuR3MrLV7x6QjlBMSPTVrBuB2zzksLWdo2kKYA2XOfOx3RbiwtACx9rnWtNBePCmfp\n",
       "y+Xj9FAMyR1n6fPGb0bjwFE5+MspZMd97lSkZPovfnzkDvaVJM9xrfL7NJGbCsn43CGZwtBl1mzX\n",
       "xLRh8T0RVYDsuc+djuQsWuyOSV7btNo3mCYOfgmy0ee4TDZSBGnLt5ag0WdB0QuQLN4XRzZqKinh\n",
       "lpyobcXdBJeX+MlQaJEKasiSlF8CjcuQPfdXpyJK0N8/IET+VOd5q/WU/aRJh6iVENLxM1tS0/Tb\n",
       "RfsmhZYcsZSIjiAH3FedTvkt+T49zO+o1Rx2P2kywrNYbSVjqPmSiblDgUzzlJKYIGqUuQPIAfd1\n",
       "p2N+e5F37oimbLSAWkwoZAzm7cuKVOItyp9DivndXk+YaKPi5t0iCuRcuKqTC8fcK27cLqieb8EZ\n",
       "QuGPGlfUQkfYd9fGwNzMVx0HOezZ2xoNWoEKW3DRBDjVAzX+nWP1g+tDnyvWevE434KbLKctovBC\n",
       "ajapjrBd7k1sAj7bgjNhmK+kwqjGfEdYJTukHhPotrrZspNiwZnqTaoc2+de5G5v/JRdcmNSd3ok\n",
       "w5I+96DXSl/aglNi+qpQ3j0W93rCELvZVQtbcFQAoK4C3mO7PXOynDUqbsHBRVrJYY8dOj1y8s7Q\n",
       "6BsF8AprsemWu8bX6i0GyHh1E94dtuuzhcheZ19Y7lKViWqHFRT13OilDrMYwbXLW1usV6jvJh6r\n",
       "Pbo/Qx4t/9j/Dsw69x8mWDH5M+YmmQAAAABJRU5ErkJggg==\n",
       "\" style=\"display:inline;vertical-align:middle;\" /></a><br>"
      ],
      "text/plain": [
       "fracCancelNumerLeft: forall_{x in Complexes, y in Complexes | x != 0} ((x / (x * y)) = (1 / y))"
      ]
     },
     "execution_count": 18,
     "metadata": {},
     "output_type": "execute_result"
    }
   ],
   "source": [
    "fracCancelNumerLeft = Forall([x,y],\n",
    "                             Equals(frac(x,Mult(x,y)),\n",
    "                                    frac(one,y)),domain=Complexes, conditions=[NotEquals(x, zero)])"
   ]
  },
  {
   "cell_type": "code",
   "execution_count": 19,
   "metadata": {},
   "outputs": [
    {
     "data": {
      "text/html": [
       "<strong id=\"multFracLeftCancel\"><a class=\"ProveItLink\" href=\"_proofs_/multFracLeftCancel.ipynb\">multFracLeftCancel</a>:</strong> <a class=\"ProveItLink\" href=\"__pv_it/47be33de2e0c794134389ed8fdfa0b70a5a875be0/expr.ipynb\"><img src=\"data:image/png;base64,iVBORw0KGgoAAAANSUhEUgAAARUAAAAyCAMAAABF7r/qAAAAOVBMVEX///8oKCgUFBQNDQ0QEBCI\n",
       "iIhmZma6urrMzMxUVFQiIiJERETc3Nzu7u6qqqp2dnaYmJgyMjIAAAArQGDrAAAAAXRSTlMAQObY\n",
       "ZgAABKVJREFUaN7dW4mSnCAQNYncp/7/xwZwPBBssSczobarZmt7h6f46BPcYehTHINUWIxA3RIJ\n",
       "+yYpDlLvhE2omyJhXxMiIPVePO75fNe02BFSW0Q51I2RsK+IGRmgYi7xYdhXRFFIRZnbh2Hf8J/Z\n",
       "AGqrSJwzyF59SNJL1RAiNCOOtHCrcUuiuyTF5/M6qiYspJdkkNNzcpFr0o2pqEvVBV9ywaGYbmLX\n",
       "4BbFdEgKn9mlGuerVGs+mQnm/kjYh4WOkDoM7ZOecDXZ1GMpNwpIDbbDmwtkXOAkHcZbPvtr1Zow\n",
       "5zjxJtfX+aVaBQn7bAeUr1SmstkOKrCiPcrskNbaRV07XqtGEGII9a1rqSRuCgG2xxbfg+WMClIf\n",
       "bkfMaJizW/DtIFGbmQLq49KDY2F6XQ2tOjAVnide/lbxgEQn2Goiu9H8187QAup7hvcI5p2JomUH\n",
       "pJyNHukDW8Un8LBZRemjhYYS8+0aExo9Ro9bfJxVC6powxNMpPVQXVR0Lu/N3JNWzQ1sTEzuGSwr\n",
       "3t10EAq04QnG4gjzj6t/cKcvPWpYntI8aU4DvWdlG6DtQKe8fRzvo0KtDV9g8QcBihWrnJACjOfF\n",
       "EMh2aTROHyixhd+LGVDng+yhcdrpGUnePsr7/cZaG77AnF+YOY23jtLwjeEqQPlUiTvAEIAVnbiQ\n",
       "0ZoKUwBZqW/HiENHYPL2Ubbtwp4T+ALT08CLVfPKahMn7XV6WFuyAg0BWIkMhjWOkx/t2x50HB3N\n",
       "hhyYkPIyrgigDX/BlBavOOAI5SSGX7aGI8btAno5HktHVtIAQ06s7IhFdctU4mDpi2irAfWugRHr\n",
       "j2q0rbt+pQ1/wSx9kRq+E1My7u163vh8otHseVyQyyEnVjaESCXAn/DxgZU4DUmKzMwB9c5WRPQi\n",
       "/6T7rbbhK2z1rDCHKX1v6E6mPT6yNiwwSBQw5MTKjlge1A67rYykqOIYoN5FztBT06N13de21TZ8\n",
       "hfndfparcpnWVZGQ8Hi+XjR4QMw2wJBTXFkRaRpqzR0RUjy0zf9i56dneXQ6lu6oyrQC43OymGG3\n",
       "PWpIVhhE/xrhISdWVoQIUe73rxjr/FUOArfibiT4fngi9m+6w2xzLgTqGAjCZ1t9TdPvoSTWKXtI\n",
       "HrxxuBhSZ2VFrFk5eRKt1Stno3/S38XQrcj7veUZZoRnoeJMC6i2r0xIaSrmJZ4SKRNELWZaGVJl\n",
       "ZUcsWflFi3OVRz4dgMkHJTcLUYXjM1gbjCxBI6cxEBAgyl8PKVk5IOyto9MZUp+JmL8Ci6lGuKZ3\n",
       "gg6sHBD3wNPR3Ukt2+IHu53ITdL7KUc79U2vYx2ruA3hbUOos4BatsWAaFyw1R88PETvt0KnZJW2\n",
       "uH2vBrnF04dAgaXSFkPmij/46E5YXrgVqmk+VUV6Qpen79BLPZW2GPIEg3OgHt/UgLNQ0RY3Byhk\n",
       "XOtGRnetFm0xUKH+qDfAwLcFi7b4UiZcFpz6fAGsnNl5orSlC7AjKjwgYd8QPfILtWiLL3cDft5b\n",
       "yIOVF2rRFl/2MjhHEHToWKioq0VbfJXHcB2QV0PXcjp9Es8qqx/6nzDBPBik3kQHgQqZB9hf43Y4\n",
       "Sw1LUZcAAAAASUVORK5CYII=\n",
       "\" style=\"display:inline;vertical-align:middle;\" /></a><br>"
      ],
      "text/plain": [
       "multFracLeftCancel: forall_{x in Complexes, y in Complexes | y != 0} (((x / y) * y) = x)"
      ]
     },
     "execution_count": 19,
     "metadata": {},
     "output_type": "execute_result"
    }
   ],
   "source": [
    "multFracLeftCancel = Forall([x,y],\n",
    "                      Equals(Mult(frac(x,y),y),x),\n",
    "                      domain = Complexes, conditions = [NotEquals(y, zero)])"
   ]
  },
  {
   "cell_type": "code",
   "execution_count": 20,
   "metadata": {},
   "outputs": [
    {
     "data": {
      "text/html": [
       "<strong id=\"multFracRightCancel\"><a class=\"ProveItLink\" href=\"_proofs_/multFracRightCancel.ipynb\">multFracRightCancel</a>:</strong> <a class=\"ProveItLink\" href=\"__pv_it/ff19893a00cd9c99ffbff81046cc476ee009a9ae0/expr.ipynb\"><img src=\"data:image/png;base64,iVBORw0KGgoAAAANSUhEUgAAAQwAAAAmCAMAAAAGElVFAAAAOVBMVEX///8oKCgUFBQNDQ0QEBCI\n",
       "iIhmZma6urrMzMxUVFQiIiJERETc3Nzu7u6qqqp2dnaYmJgyMjIAAAArQGDrAAAAAXRSTlMAQObY\n",
       "ZgAABCNJREFUaN7NWYuWnCAMpS3IM4D+/8cWVBxQwoDtzJpzZneym6hc8rpIyBPFe0x5KyCH73bD\n",
       "5YvCZkypL4ZNLPwyFKLG5+H73XD5mvBtVRWlLi4YRdSWHb3xjWaPjQ2gAlHqYiyZ4tZqvf9h9sP3\n",
       "vOHyHZESUxDwCKExTRaW0HkfTBdAx12+ImIxiILn1QLRVAwg2NyB58gsMQWVNUsYzSCE8S14YmiY\n",
       "PBZMV2AQLdOPhCEb3wP2QDCmGVMaPjKmSlYDPR0fbegDwaAMU1pTE2NTGVF8PCKDy3xz0vtYlghE\n",
       "GYkoQt34LgQXZ4+seUIJ8QumNDpBwAHKWJDjM2V0MWlUOb78bMlQmIKLCiGty4Riy/CdV5cUEK8Q\n",
       "+UlRGlMaY0aoGKd8sn1t6OLiHUQx6glYkGXClMGxwd5zWXQU5Z4BBqsqwJg0nLneYQCWt92g5LrJ\n",
       "Ra4hps1/XRR/wyZCjjrm2ot4KRAsvWJEzXdAdXMmE8J1dxce/w+N21jtpJLtTTnbtLJ9TXAf1mfl\n",
       "tbP6muICfC4MzNzkcDbBeBfoF667u8RqwS5hBdZNU/grCB1p0Fy7Om7TAMOsEKgYOxdCUOT6S4Hi\n",
       "qWPMvPZuyWSg3Fy47u7i/AZI2fC1NRAfwpt1ibYCRsOmAUbELSwnhge1fWBcqomSI4W4j+tuLmYm\n",
       "Yr+4C02KxSLC08W4sJu5SX0smiogDZsTGMdFN2P34ubK96UJKZ66q4A6pGZIjOsmF23kVvAYxEFM\n",
       "5VO6B2/KM7YAqFgvgdqUYBwXlWvb+hM+fqfMil0WwWqKha3Qsd4h2bzvJmeum1xsGvVEOgCDI8os\n",
       "2HyhBniwZbplcwJDFKdqzGanNlciVhS+pPCQLzqAYbrZU8+cceK6h0u2H9voJtS6i2HINVaU8TmF\n",
       "J1zbRsPmXDNe8yDotOvR40ouqawokZWGsWCASfIO2nriuoeLhxc+61aSLLWAFd0sJtF2SovbnMDY\n",
       "LypDyv7+FRPXY92E6BlTBvleX0JlXPfsYpZQbGJZCJ9jq820fg/Dn1n7gBIBxK18VGyuYGQXTW11\n",
       "TZepNmcQRzFlSDo8z1z37ALS8zAXrgjpI+kgVGMdm4FYOyGXLO1YxeYKRn7Rra3uaDg31egSIMr9\n",
       "g9Q+rtt0YVs9KB81rC0kmfYNm9acYd8SIGQeH5QexxPXHb5X7BnSdb2Nq4PR4ygxZZSOf9glYse9\n",
       "6+G3VTB8B68uDmb7TmmvlHYar7zTB9+33j6JgHxCgJ5jiQqlpeMHVfQRZ1uXWjX2Cr5CafP3Sd13\n",
       "feKbApKGmJqCn47oIi3peN2lD33z7GdM6TwgY/O/heOjpGjWuuekr6C0hg63khsu3xJQAlHqTbGk\n",
       "tKDs+A0teawYZRClyslKSqvHs1978mAxAlPq5DOjtMDHIzG5/AWWxzMSbjhDqQAAAABJRU5ErkJg\n",
       "gg==\n",
       "\" style=\"display:inline;vertical-align:middle;\" /></a><br>"
      ],
      "text/plain": [
       "multFracRightCancel: forall_{x in Complexes, y in Complexes | x != 0} ((x * (y / x)) = y)"
      ]
     },
     "execution_count": 20,
     "metadata": {},
     "output_type": "execute_result"
    }
   ],
   "source": [
    "multFracRightCancel = Forall([x,y],\n",
    "                             Equals(Mult(x, frac(y, x)),y),\n",
    "                             domain = Complexes, conditions = [NotEquals(x, zero)])"
   ]
  },
  {
   "cell_type": "code",
   "execution_count": 21,
   "metadata": {},
   "outputs": [
    {
     "data": {
      "text/html": [
       "<strong id=\"fracCancelComplete\"><a class=\"ProveItLink\" href=\"_proofs_/fracCancelComplete.ipynb\">fracCancelComplete</a>:</strong> <a class=\"ProveItLink\" href=\"__pv_it/878f723cf27dc9c220b492388a7da84311fe27580/expr.ipynb\"><img src=\"data:image/png;base64,iVBORw0KGgoAAAANSUhEUgAAALMAAAAmCAMAAAC4YVoxAAAAOVBMVEX///8QEBAoKCgUFBQNDQ2I\n",
       "iIhmZma6urrMzMxUVFQiIiJERETc3Nzu7u6qqqp2dnaYmJgyMjIAAAAMeWbTAAAAAXRSTlMAQObY\n",
       "ZgAAAsxJREFUWMPFWAcS4yAMxHcnqqj/f+xRXHCJE+OmmcxkEgsvi7QSIuRpc67RUQvykoHvEQAI\n",
       "ZGDhd1fm34HMOl0g28i4BCKP4IBXmNYdL19shG6DJgyPuHv3AmYxMJXYVuqoO/an9KTxUNMaoH3P\n",
       "z5kXsw3whk0/TTRONBtNIKS0OojBw8OY6SgSLBiiImY8mlSuexhzB1N9ANBAj9cXDCySfb5A/f4+\n",
       "fsG+o7BbM4bK3eHtQqOjqSRORJJxEElUt4ezbGszrKjUImfuQO9E+F0mVfMBTZhN0h5ndTKUt6dg\n",
       "oBdg5iFxG1Qyae/HDBdg1iFJhcjZrA40K2w3/nLUWVhxUN62Y9ZXRj9gLjtn6W+90xMaZYUUFUl7\n",
       "cUkTAy4CNmIlde4CnknIZKRIhtV62lhK46+aq+jBvf0JM2akMp3EsjUokdi/uLKjmPMJWFdwz59T\n",
       "BnV61GFGa37DnPYXoyCR3ZnPmM/wnDGjJ7w/SAuUQwpwNsQT46ZUL9zGPHqUp+3Uckp3MDZm8Sw+\n",
       "5mAhT6EoaRW7rFhnZF3SnXar7Kwwjx4iq8+/+HF9xyhhmYNX6MawczNUKD5cXzSdmkazh5nPLjxg\n",
       "qta+W0IMrXIKK32eK2dpcbnMtCkgaDjfwTx65J2qgdHkEpaS2LVdMqjogqdu7GLZEADTNjJ3ZFqe\n",
       "aph0dwNz7yFiDP79kyLRfdANoq6467vFshhiHsRcSPkwkos0f7eb+lx5DDqXD5Nu6DOxV/Try0W0\n",
       "cCwWsLwRNQqTjvmsBN+Mjdqj6FwP2tp1c2GuuMz5vQCDEs+bIrxdLr+lmA7nbxXNa2xj/h6t6vxN\n",
       "3wS8ELP7XuXqC2jDvG5+DT6qPs0HWyVJw7xuoyG432BE2DavI/D0qCDRxE/N60j3wpDR+VP3Fnhl\n",
       "Al2p5/F5HXb4BmYtefO8TktDXjGU2DqvU468ZMgb53V66BP/Ay9mIQnDdN1lAAAAAElFTkSuQmCC\n",
       "\" style=\"display:inline;vertical-align:middle;\" /></a><br>"
      ],
      "text/plain": [
       "fracCancelComplete: forall_{x in Complexes | x != 0} ((x / x) = 1)"
      ]
     },
     "execution_count": 21,
     "metadata": {},
     "output_type": "execute_result"
    }
   ],
   "source": [
    "fracCancelComplete = Forall(x, Equals(frac(x, x), one), \n",
    "                            domain=Complexes, conditions = [NotEquals(x, zero)])"
   ]
  },
  {
   "cell_type": "code",
   "execution_count": 22,
   "metadata": {},
   "outputs": [
    {
     "data": {
      "text/html": [
       "<strong id=\"reverseFractionOfSubtractions\"><a class=\"ProveItLink\" href=\"_proofs_/reverseFractionOfSubtractions.ipynb\">reverseFractionOfSubtractions</a>:</strong> <a class=\"ProveItLink\" href=\"__pv_it/3dd2bb70c67b6afcbbca75b7bbf1863083831a660/expr.ipynb\"><img src=\"data:image/png;base64,iVBORw0KGgoAAAANSUhEUgAAAU0AAAAyBAMAAAAq3ZRXAAAAMFBMVEX///8QEBCIiIhmZma6urrM\n",
       "zMxUVFQiIiJERETc3Nzu7u6qqqp2dnaYmJgyMjIAAAAcRTyBAAAAAXRSTlMAQObYZgAABOlJREFU\n",
       "aN7NWVtoHFUY/vYy2d3Zmew+pKUPIksCIabSrJaKaNqsii2+uFtEWxRtWCwiiK1WRURl6UOctoor\n",
       "tjS0XoaIQVI1CaXVStUlUh+itWsVbCW1+9CCFC1LUbApQc+Z2845s0sungM9D3OGM9//zz/n/PcB\n",
       "JA0tJ4jRKKSO70UxitZkihkeFMbqN5lyTopjFa/IE1PtuD55BfYge32eDT++NgUyi8k7+B3WgXVl\n",
       "8BUmWZFHuvfenAmebeeTd0+xKw3i5FVZYuoWZy2ZxhDyjCNVK/qzsaCn+Ri/ZF5l/a+PeIcsOWMl\n",
       "ej0YqWEO8TLzelObjZYDBNM4Zd7HrPiJz5uS5NxibYMZyihXEaG7eNkaBXKHeKkJgQnDmj+1cBcZ\n",
       "YmA8I0nOW+wpXw6noXHPUs1feoVf8BG3ywpJy+1pHeKD2MvvdaEZhfI3v+IjDksyJGXOnoeoS2G3\n",
       "L2n2IRxUty/CdfSySz7ixJyk4O58/yrcVVLYvCk/8SbeDeYa1+L1RJVd8xMvlxSN0vYcubW3eJLL\n",
       "0jpH1laD7rPY23WOW/MTvwZYKnpOrJyhkuAPPwV8R+dLYtmOZwXLeb6AYaqngr9/i2h/Rxi2E+PT\n",
       "JgRnIYL50QPSp8fG9os/JrEjRaqDfwzjZcFs+8qi5SSKuRXYJdo8F5I3aHbMX5DJhYhXugcqFz4/\n",
       "//YFLoi8/kQRi8AMiM5vQttJDoZww/Ee+mYtPtyNx7wMWj2+uqpuNpU/sAjMNnv6t+Wo8+faGmrn\n",
       "iSRwaNVYI7/dc8DE2QqSngxnjo1Bfwc4vhjMNuH5LJEzUXuIBNhuvKe+RHSA3D5CrJUawtSa7kKU\n",
       "qs+9RwgKFihmspj9l/aBwSz83B39XFCdHyPnjl2PE6KU2YMLVhDVP7GtNWw+Hcu107tfzzqcU+ZG\n",
       "MBjcOUM8sB9j25Foe6d2hMNE2AMbUMRNKt2Z5CH7LQr+BD6wkq5jNpqAesBgiLJyGNsvifafoUE3\n",
       "we5HByrKi4axM3HEfQvJzjYZhpE5+KCz0E8+hsWoOR5j+fmcaP9JN0en2vScOkuSUktZ7sjQeoVs\n",
       "aF1Bm5VhjdC6hoKwDCxmHx7mMFbcFC3nuGezF5N1vYwT9PbtE9Ayw+b7Wk2DRvct0V/AFIZNPB8l\n",
       "DsWPSTz1ZcmPcdOGqvg8xBkPrPxpJUlwaQKh/vD7VmycGP15ahrYY1XXl4cKZAXre2osRldWmH6M\n",
       "/5ikJjY9xk7nznkSJrrnrqjleHUejONGRNeHrR1IshxcaavcPw/GLRnqguVsHTj0JivRmco8GPfB\n",
       "bKNH9Bbn8zd0KE21N/pM7tFAg8klXiGpLr7mBIZoGn1cxfZG1+1NaT46vZqtKnzEiSty+wy0R2Rw\n",
       "crYqckyrAuIaTAak9hkw4Lw7lLH6MY32EhmbWwR/ZXegweQ2c+LbJcnp9hLzZqAfE22VeKwPMPGI\n",
       "U7L6YLGs2yMKp7lHR1s5mMFgg8kl7pPVV3QNfoj2slhxsnacDYzDTkT2N5hcYkltGzJusKfbkOec\n",
       "0KaZ0xeaaucrJ1dxWYFHLK/v7f5HGO0c4GJBVr+xaZISwY+8/B5xe1aanB7rdf+Hi0M8aUqTM7GM\n",
       "Xttq6l9LZuERy/zPhc8ss6/Gl+5RPOK2rEQ5I9RUo51rls7BIz4DmaMoipHc/9qIiKo9Ri0r+g8w\n",
       "m7GzAXZtmwAAAABJRU5ErkJggg==\n",
       "\" style=\"display:inline;vertical-align:middle;\" /></a><br>"
      ],
      "text/plain": [
       "reverseFractionOfSubtractions: forall_{w in Complexes, x in Complexes, y in Complexes, z in Complexes} (((w - x) / (y - z)) = ((x - w) / (z - y)))"
      ]
     },
     "execution_count": 22,
     "metadata": {},
     "output_type": "execute_result"
    }
   ],
   "source": [
    "reverseFractionOfSubtractions = Forall([w, x, y, z], Equals(frac(subtract(w, x), subtract(y, z)),\n",
    "                                                           frac(subtract(x, w), subtract(z, y))), \n",
    "                                       domain=Complexes)"
   ]
  },
  {
   "cell_type": "code",
   "execution_count": 23,
   "metadata": {},
   "outputs": [
    {
     "data": {
      "text/html": [
       "<strong id=\"fracIntExp\"><a class=\"ProveItLink\" href=\"_proofs_/fracIntExp.ipynb\">fracIntExp</a>:</strong> <a class=\"ProveItLink\" href=\"__pv_it/c43d0b3b1758331bdc10a73dfb2cc7a5d53b1e740/expr.ipynb\"><img src=\"data:image/png;base64,iVBORw0KGgoAAAANSUhEUgAAAU8AAAAyCAMAAADr2KlrAAAAOVBMVEX///8oKCgUFBQNDQ0QEBCI\n",
       "iIhmZma6urrMzMxUVFQiIiJERETc3Nzu7u6qqqp2dnaYmJgyMjIAAAArQGDrAAAAAXRSTlMAQObY\n",
       "ZgAABaxJREFUeNrdXImymyAUtS0g++L/f2zBuFwQFInJe4MzbacJHOBwdzDD0P6gyT9m+D2PGb84\n",
       "mGLJ4IEN9A4i0lJK9YvoPOytJZZiTD4z3Ohifj0Z+j0+6fCbHswOH9kRWT9P+ZkBrUs/oR3xmZEN\n",
       "qTD3/0yf0iFh+uVToZzxZNjrJXpSJqEFOYzZEZ+ClKZIzPDcRGMLkupEP3zqrFLLyf/FR10/UWtP\n",
       "HXlqQbjplE8OxVMSQzDyax4DFdjYep/mUojUkccWRE+ySz4tXNcY1NFNLSHQwmACASOHxIJE+9gP\n",
       "n1xAzxTkkYgWn0bzEM6WLIiN7EwvfNIJOFoyL5Hj+zCMFSDkKrcHC6Im3CGfBK4DiXmdtGFXZAmC\n",
       "sVIn5zrkE4HlqrmkoBvMp2NFCFrMCTC03J3wSScL+dRBoNygb6aZcmMmA+FwsZftjs9IRgbhl245\n",
       "G+5Wvog7gbCoRjc64VOgOP7GmEqG7xbvED6BkFMJTvCIT3eWGtTw+QbAY+ZTPAAizz0YKom7mSI+\n",
       "jd5MhGri8w2Ap0oh0xMVTnvuwZgr9qOQT7nurRRt+v4GwGPuCD+AQviFja4YPdjPVap2ObtpP9sB\n",
       "HquFPDEyFxeDyGvtCHxao8Ijeas/agd4LHl/wjFeGA1a3LSJxf59EuHhppXPdoCPhEvNfOILI13y\n",
       "tpOI+WQzLUI289kM8NBj7hxoGAceUsPXFd/IxXyOAVW5smdDwhBBSJHPIsAYJbfDWUA4M4INNoW+\n",
       "xwZpAeTtcOmKz5L+IZ7E8+H/OFOX1oYQ/zH3gmcUVuV4vgDgu0WbcGLwCZ0NsTf7LN8302Df8Mj1\n",
       "TvnnOkjQOYgK+8pRwmeoPh2diRVaqkCiH4daaU/yozxAcP26jk85k8SDAG+yFvXNNSjw2Rx06UZ/\n",
       "deBTuoG+dh2c3o2wO8kmwxufO0A6B1nHp1BbfQzpXN9cgzZ9j+wnq9d3VdR3nuq7dyXsZdvA6R20\n",
       "XlZmT7T2/H0DGBTBzNE91MVM5fiMmg2jebUO43Kb6ZtrAP3RA65QXfj3Mt+pP/IaveQG4PROQdeH\n",
       "87Wanc8VYFCcgloh5moAt112PrdmbA61/vk/dum3FsWXvuUGMF56JP40jfYAsUN9adub7fSO8nkh\n",
       "oXDlyTQqkH1SX1oBQhRAeVT2chk+42ZYD7v4rVUe2DfbAMbzT9wDQ+z067E4SJIfzTNSgKLX6d2O\n",
       "PmoaRN3IEz5XgGDc9tPAcH2CsAyfUTMlVo0LeOu0Qd98A5gKxh8pgRpyNeFOIWzJSEPDmtY/wemd\n",
       "obszChsw8or6pwoSJKxahg5TAO5DHJsx7xT+/gmuwSbue+lbbgBVMTVtS6B+63qdQTmI0tflekgk\n",
       "1OD0TixEWMaYMY6zCj6DK6PTaEOxyS/bm0Arcv59a7aFQrNak1d4mfQ9NrgMZRZbd+t6XXLDJDWX\n",
       "jlVUY07r83i1n1f5ZrQhWOOQBNAgl5RFVzLFsdkaCi0jmjmIT/oeGxwiFpfaOpW41yoHb48QFeko\n",
       "jC4+ed5xdIfZ+FObi776us5CkoDe8NS9VhlQloO4KtdF2cQH+cycLmb5dFd9XU3BTiW66a2mHm5e\n",
       "r4uO3DaIdcuK04CHLR/kM6MeOT6tvuhrK2rFSWyoJqdmn3fvep0CKBsEjEgKcT7+Cp85tfxYxS6O\n",
       "HV+exa/z5vU67I4Q61eoqvjazX2byIDOuqkm88aCUghU3BN4XNwNn3HyMoeOY8Oh0p7LJRDY1ZWZ\n",
       "+7mvCG3JHNo0FZm38DCGkOUQFnd5XzH28EFYFWq5XBHqNEcIxXWl5e7nvje8vsFs6fWEy0dyeYQQ\n",
       "9iSp6vO+d5QtKnLnynxCKD1AqJPqVZLld/S+jCM/sYtI9cqn/IHZ9Pw+16C/fz+FpTrRE5+wcv2l\n",
       "oOKQQNOu3tdm+KvDPf++9m/7PQHy3d8TiEXp9XsC/wHCzElYmJzNbAAAAABJRU5ErkJggg==\n",
       "\" style=\"display:inline;vertical-align:middle;\" /></a><br>"
      ],
      "text/plain": [
       "fracIntExp: forall_{n in Integers} [forall_{a, b | a != 0, b != 0} ((a^{n} / b^{n}) = (a / b)^{n})]"
      ]
     },
     "execution_count": 23,
     "metadata": {},
     "output_type": "execute_result"
    }
   ],
   "source": [
    "fracIntExp = Forall(n, Forall((a, b), \n",
    "                              Equals(frac(Exp(a, n), Exp(b, n)),\n",
    "                                     Exp(frac(a, b), n)),\n",
    "                             conditions = [NotEquals(a, zero), NotEquals(b, zero)]),\n",
    "                    domain=Integers)"
   ]
  },
  {
   "cell_type": "code",
   "execution_count": 24,
   "metadata": {},
   "outputs": [
    {
     "data": {
      "text/html": [
       "<strong id=\"fracNatPosExp\"><a class=\"ProveItLink\" href=\"_proofs_/fracNatPosExp.ipynb\">fracNatPosExp</a>:</strong> <a class=\"ProveItLink\" href=\"__pv_it/95346c957e141718a5b83e528b4f8e5322806f5c0/expr.ipynb\"><img src=\"data:image/png;base64,iVBORw0KGgoAAAANSUhEUgAAATgAAAAyCAMAAAD/TTeKAAAAOVBMVEX///8oKCgUFBQNDQ0QEBCI\n",
       "iIhmZma6urrMzMxUVFQiIiJERETc3Nzu7u6qqqp2dnaYmJgyMjIAAAArQGDrAAAAAXRSTlMAQObY\n",
       "ZgAABX5JREFUaN7dW4mSpSgQZHcBuQ///2MXHA9AStGmjWCI6OmYR78UkqqsokCEOjU8h2bRR81O\n",
       "6Lumef7sOFPcDR0bpZT+irfTCjnqGCH0dx43+YzHMFHTkTj2nQkQfvrITdiFQajfeaDzxQdsSOIq\n",
       "y600EeHX/FsmL+1fQJzGNYHjJLgU7mllqfOXzxySOEmh51OL+o0id/7CykckzlT9Uc3hHzGZ9lE4\n",
       "dxk9S+cXdnTiRGpwilpKcJjcFCdNrGsPML6EKKNn7vxmVmMT59IJTNGT/Pwmw8C6ApGF68L5swUb\n",
       "kDgh0zARLYzKNwGGVSG8A53fpRIxHnFsTsIbXeYiyHMYzusQCu/slM6vZzIycTQdMZbLhNgL+hUA\n",
       "wTn4Je9HJg4nE9PL3ti8kDjPIQgG59AkUdfhiGOzS4kz0UY8Mg93Wmqn4AzhCfwtNy5xJEsKZJik\n",
       "Exw9LcpQD0M43GLtwxEncZ6xEsIUJ09rTJjAEGoG0aRIifMXqfRz4nqhgU+RHUDUZTjBoP3aOSXO\n",
       "ml0x9c+J64UGpV9zj4qbuwwn3MPfYwlxaltDJTu4ai80MDaQDihUXMtow9Ojxm2mcRjLTzSuExq4\n",
       "we8BK+T1M9S9vUfinNWxKdElOHRCu3eWH7Rrf2fw4sw8i6qzjE3YLsR1QmvKRl4TR651FAxrs8yI\n",
       "48uUZeOQ7A1xz9AeNvukNm590mgTMze8Yp8RN0VQ7VuV9YY4EG1K93pogjrClxfbsqSyRLTHoYK6\n",
       "Iw70FizyBDj+l4BgTNB4iknWvPmOOBjNpl+VUAeibJHKoNLn/TbPIt5cb/eh2dQgGiRQ4Jy4WDqp\n",
       "iLk2ltLQZSSyYaGpbiMOQAsB1wDEZR1qoUtEizybF587+Du7Cc3txCmPWOWkUhql49CNI5EuG02D\n",
       "UhF+zBVxdbQ4IAUQl3fovc6DzY9cNdM43uyqGnZVUbhqkHL+R3OSI7Fp590wwxTZosKtxR1oSFPC\n",
       "PTvSR8J1hbisY7JHvUy4c3DoEHT0dVS94LUIDoGaLZdOjsQOwTYsuKpjzcTtaFqwpL5FhEbHHYWE\n",
       "uLWDL3nMf+HHrd86l3ZJnzzOvvRkzMvqyLoGyZGYpilxwdw2Bb8nbo/nlMbQkhVwfIW4tIMYdFgc\n",
       "JucEuMdlG8yveif4GfnOYRnQZhb7kRgTiwHESUXilNsEv4G4DS1q1HFuFM/CKa8Ql3RouXlTRDvP\n",
       "wBQfaYlfbFGkv4JwoI4m6neqxx1HYjyzODSxdflZcz1OR7ORTq/jiOM55D4hbu3gQcL//ScKuQOj\n",
       "Kjvpz5rZPrqsZHENAuiFN/m5MKLtSMzuRLgJrZnVw0Jm0Eo2Ty6WSgIFQcmcrEXVo0PtqxU5qORx\n",
       "51RhFaRHl5WKuwCFpnneUGIoiUuPxOT6V5PwC3P8MXETJ4bETJBFS2M8vdWWRtW9Qx4TItbW7Ef4\n",
       "UpB0Ic5NYdWdIRo2ZElMvyydk1Xjnm3ygcU66Uztj+4rA7TIgK0oxblJ5HgN4q6qlKbfX505nI+h\n",
       "asQ1bJdL5fY8KJtBDy8rZQcyO8S6NPAokrr9V8Sdrb9CnGsoUhZJlp69XoLQs8tKOkHZIdCRCkCZ\n",
       "MfmcuPYiy7Mc7I/Mhwk9vKxE/Bli7cFNxcABr0BkIrf4lX5x2f0YbQGBYe6T08EBicvz+iUFm14c\n",
       "RBxbmByC+LYC54jXvFInX1KHV9XNPV3IINRFJkjGvuaVx9Vofhq/OfqOBYgThBamUV1HvMqanrRz\n",
       "B92lvm1KqBOEdFfbjcGvsmYbJk2fXPstmGMlhL4qveQ72iGv63uKvm8G6+GJU1++/bSZ9t/wgggy\n",
       "4nPieGHlYxKX1EM/aq7cIbJBX7vk5FPefve1y09f9KXfvuibGcSfF33/B1rgQ8YQ5vWPAAAAAElF\n",
       "TkSuQmCC\n",
       "\" style=\"display:inline;vertical-align:middle;\" /></a><br>"
      ],
      "text/plain": [
       "fracNatPosExp: forall_{n in NaturalsPos} [forall_{a, b | b != 0} ((a^{n} / b^{n}) = (a / b)^{n})]"
      ]
     },
     "execution_count": 24,
     "metadata": {},
     "output_type": "execute_result"
    }
   ],
   "source": [
    "fracNatPosExp = Forall(n, Forall((a, b), \n",
    "                              Equals(frac(Exp(a, n), Exp(b, n)),\n",
    "                                     Exp(frac(a, b), n)),\n",
    "                             conditions = [NotEquals(b, zero)]),\n",
    "                    domain=NaturalsPos)"
   ]
  },
  {
   "cell_type": "code",
   "execution_count": 25,
   "metadata": {},
   "outputs": [
    {
     "name": "stdout",
     "output_type": "stream",
     "text": [
      "Theorems may be imported from autogenerated _theorems_.py\n"
     ]
    }
   ],
   "source": [
    "%end theorems"
   ]
  },
  {
   "cell_type": "code",
   "execution_count": null,
   "metadata": {},
   "outputs": [],
   "source": []
  }
 ],
 "metadata": {
  "kernelspec": {
   "display_name": "Python 3",
   "language": "python",
   "name": "python3"
  }
 },
 "nbformat": 4,
 "nbformat_minor": 0
}
