{
 "cells": [
  {
   "cell_type": "markdown",
   "metadata": {},
   "source": [
    "Theorems for context <a href=\"_context_.html\">proveit.number.division</a>\n",
    "========"
   ]
  },
  {
   "cell_type": "code",
   "execution_count": null,
   "metadata": {},
   "outputs": [],
   "source": [
    "import proveit\n",
    "# Automation is not needed when building theorem expressions:\n",
    "proveit.defaults.automation = False # This will speed things up.\n",
    "# the context is in the current directory:\n",
    "context = proveit.Context('.') # adds context root to sys.path if necessary\n",
    "from proveit.logic import Forall, InSet, Equals, NotEquals, Implies\n",
    "from proveit.number import Integers, NaturalsPos, Reals, RealsPos, Complexes\n",
    "from proveit.number import Div, frac, Add, subtract, Sum, Mult, Exp, zero, one\n",
    "from proveit.number import Less, LessEq, Greater, GreaterEq\n",
    "from proveit._common_ import a, b, c, d, e, n, w, x, y, z, P, S #, wMulti, xMulti, yMulti, zMulti, wEtc, xEtc, yEtc, zEtc, PyEtc\n",
    "from proveit.number._common_ import ComplexesSansZero"
   ]
  },
  {
   "cell_type": "code",
   "execution_count": null,
   "metadata": {},
   "outputs": [],
   "source": [
    "%begin theorems"
   ]
  },
  {
   "cell_type": "code",
   "execution_count": null,
   "metadata": {},
   "outputs": [],
   "source": [
    "divRealClosure = Forall(\n",
    "    [a, b],\n",
    "    InSet(frac(a, b), Reals),\n",
    "    domain=Reals,\n",
    "    conditions=[NotEquals(b, zero)])"
   ]
  },
  {
   "cell_type": "code",
   "execution_count": null,
   "metadata": {},
   "outputs": [],
   "source": [
    "divideRealPosClosure = Forall([a, b], InSet(frac(a, b), RealsPos), domain=RealsPos, conditions=[NotEquals(b, zero)])"
   ]
  },
  {
   "cell_type": "code",
   "execution_count": null,
   "metadata": {},
   "outputs": [],
   "source": [
    "divideComplexClosure = Forall([a, b], InSet(frac(a, b), Complexes), domain=Complexes, conditions=[NotEquals(b, zero)])"
   ]
  },
  {
   "cell_type": "code",
   "execution_count": null,
   "metadata": {},
   "outputs": [],
   "source": [
    "fracNotEqZero = Forall([a, b], NotEquals(frac(a,b), zero), domain=ComplexesSansZero)"
   ]
  },
  {
   "cell_type": "code",
   "execution_count": null,
   "metadata": {},
   "outputs": [],
   "source": [
    "fracZeroNumer = Forall(\n",
    "        x, Equals(frac(zero, x), zero), domain=Complexes,\n",
    "        conditions=[NotEquals(x, zero)])"
   ]
  },
  {
   "cell_type": "code",
   "execution_count": null,
   "metadata": {},
   "outputs": [],
   "source": [
    "fracOneDenom = Forall(x, Equals(frac(x, one), x), domain=Complexes)"
   ]
  },
  {
   "cell_type": "markdown",
   "metadata": {},
   "source": [
    "### Theorems for the NumberRelation class"
   ]
  },
  {
   "cell_type": "code",
   "execution_count": null,
   "metadata": {},
   "outputs": [],
   "source": [
    "div_eq = Forall((a, x, y), Equals(frac(x, a), frac(y, a)), \n",
    "                conditions=[Equals(x, y), NotEquals(a, zero)], domain=Complexes)"
   ]
  },
  {
   "cell_type": "code",
   "execution_count": null,
   "metadata": {},
   "outputs": [],
   "source": [
    "div_neq = Forall((a, x, y), NotEquals(frac(x, a), frac(y, a)), \n",
    "                 conditions=[NotEquals(x, y), NotEquals(a, zero)], domain=Complexes)"
   ]
  },
  {
   "cell_type": "code",
   "execution_count": null,
   "metadata": {},
   "outputs": [],
   "source": [
    "div_pos_less = Forall((a, x, y), Less(frac(x, a), frac(y, a)), \n",
    "                      conditions=[Less(x, y), Greater(a, zero)], domain=Reals)"
   ]
  },
  {
   "cell_type": "code",
   "execution_count": null,
   "metadata": {},
   "outputs": [],
   "source": [
    "div_neg_less = Forall((a, x, y), Greater(frac(x, a), frac(y, a)), \n",
    "                      conditions=[Less(x, y), Less(a, zero)], domain=Reals)"
   ]
  },
  {
   "cell_type": "code",
   "execution_count": null,
   "metadata": {},
   "outputs": [],
   "source": [
    "div_pos_lesseq = Forall((a, x, y), LessEq(frac(x, a), frac(y, a)), \n",
    "                        conditions=[LessEq(x, y), Greater(a, zero)], domain=Reals)"
   ]
  },
  {
   "cell_type": "code",
   "execution_count": null,
   "metadata": {},
   "outputs": [],
   "source": [
    "div_neg_lesseq = Forall((a, x, y), GreaterEq(frac(x, a), frac(y, a)), \n",
    "                      conditions=[LessEq(x, y), Less(a, zero)], domain=Reals)"
   ]
  },
  {
   "cell_type": "code",
   "execution_count": null,
   "metadata": {},
   "outputs": [],
   "source": [
    "\"\"\"\n",
    "distributeFractionThroughSum = Forall([xMulti, y], \n",
    "                                      Equals(frac(Add(xEtc), y),\n",
    "                                             Add(Etcetera(frac(xMulti, y)))), \n",
    "                                      domain=Complexes, conditions=[NotEquals(y, zero)])\n",
    "\"\"\""
   ]
  },
  {
   "cell_type": "code",
   "execution_count": null,
   "metadata": {},
   "outputs": [],
   "source": [
    "\"\"\"\n",
    "distributeFractionThroughSubtract = Forall([x, y, z], \n",
    "                                          Equals(frac(Sub(x, y), z),\n",
    "                                                 Sub(frac(x, z), frac(y, z))), \n",
    "                                          domain=Complexes, conditions=[NotEquals(z, zero)])\n",
    "\"\"\""
   ]
  },
  {
   "cell_type": "code",
   "execution_count": null,
   "metadata": {},
   "outputs": [],
   "source": [
    "\"\"\"\n",
    "distributeFractionThroughSummation = Forall([P, S],\n",
    "                                    Implies(Forall(yMulti, InSet(PyEtc, Complexes), domain=S),\n",
    "                                            Forall(z,\n",
    "                                                   Equals(frac(Sum(yMulti, PyEtc, domain=S), z),\n",
    "                                                          Sum(yMulti, frac(PyEtc, z), domain=S)),\n",
    "                                                  domain=Complexes)))\n",
    "\"\"\""
   ]
  },
  {
   "cell_type": "code",
   "execution_count": null,
   "metadata": {},
   "outputs": [],
   "source": [
    "\"\"\"\n",
    "fracInProd = Forall([wMulti, x, y, zMulti], Equals(Mult(wEtc, frac(x, y), zEtc),\n",
    "                                                   frac(Mult(wEtc, x, zEtc), y)), domain=Complexes)\n",
    "\"\"\""
   ]
  },
  {
   "cell_type": "code",
   "execution_count": null,
   "metadata": {},
   "outputs": [],
   "source": [
    "prodOfFracs = Forall([x, y, z, w], Equals(Mult(frac(x, z), frac(y, w)),\n",
    "                                           frac(Mult(x, y), Mult(z, w))), domain=Complexes)"
   ]
  },
  {
   "cell_type": "code",
   "execution_count": null,
   "metadata": {},
   "outputs": [],
   "source": [
    "prodOfFracsLeftNumerOne = Forall([x, y, z], Equals(Mult(frac(one, y), frac(x, z)),\n",
    "                                                 frac(x, Mult(y, z))), domain=Complexes)"
   ]
  },
  {
   "cell_type": "code",
   "execution_count": null,
   "metadata": {},
   "outputs": [],
   "source": [
    "prodOfFracsRightNumerOne = Forall([x, y, z], Equals(Mult(frac(x, y), frac(one, z)),\n",
    "                                                 frac(x, Mult(y, z))), domain=Complexes)"
   ]
  },
  {
   "cell_type": "code",
   "execution_count": null,
   "metadata": {},
   "outputs": [],
   "source": [
    "fracCancelLeft = Forall([x,y,z],\n",
    "                   Equals(frac(Mult(x,y),Mult(x,z)),\n",
    "                         frac(y,z)),domain=Complexes, conditions=[NotEquals(x, zero)])"
   ]
  },
  {
   "cell_type": "code",
   "execution_count": null,
   "metadata": {},
   "outputs": [],
   "source": [
    "fracCancelDenomLeft = Forall([x,y],\n",
    "                             Equals(frac(Mult(x,y),x), y),\n",
    "                             domain=Complexes, conditions=[NotEquals(x, zero)])"
   ]
  },
  {
   "cell_type": "code",
   "execution_count": null,
   "metadata": {},
   "outputs": [],
   "source": [
    "fracCancelNumerLeft = Forall([x,y],\n",
    "                             Equals(frac(x,Mult(x,y)),\n",
    "                                    frac(one,y)),domain=Complexes, conditions=[NotEquals(x, zero)])"
   ]
  },
  {
   "cell_type": "code",
   "execution_count": null,
   "metadata": {},
   "outputs": [],
   "source": [
    "multFracCancelNumerLeft = Forall([a, b, c, d, e], \n",
    "                                 Equals(Mult(frac(Mult(a, b), c), frac(d, Mult(b, e))),\n",
    "                                        Mult(frac(a, c), frac(d, e))),\n",
    "                                domain=Complexes, condition=NotEquals(b, zero))"
   ]
  },
  {
   "cell_type": "code",
   "execution_count": null,
   "metadata": {},
   "outputs": [],
   "source": [
    "multFracCancelDenomLeft = Forall([a, b, c, d, e], \n",
    "                                 Equals(Mult(frac(a, Mult(b, c)), frac(Mult(c, d), e)),\n",
    "                                        Mult(frac(a, b), frac(d, e))),\n",
    "                                domain=Complexes, condition=NotEquals(c, zero))"
   ]
  },
  {
   "cell_type": "code",
   "execution_count": null,
   "metadata": {},
   "outputs": [],
   "source": [
    "# multFracLeftCancel = Forall([x,y],\n",
    "#                       Equals(Mult(frac(x,y),y),x),\n",
    "#                       domain = Complexes, conditions = [NotEquals(y, zero)])"
   ]
  },
  {
   "cell_type": "code",
   "execution_count": null,
   "metadata": {},
   "outputs": [],
   "source": [
    "# multFracLeftPartialCancel = Forall(\n",
    "#     [x,y,z], Equals(Mult(frac(x,Mult(y, z)),z),frac(x, y)),\n",
    "#     domain = Complexes, conditions = [NotEquals(y, zero), NotEquals(z, zero)])"
   ]
  },
  {
   "cell_type": "code",
   "execution_count": null,
   "metadata": {},
   "outputs": [],
   "source": [
    "# multFracRightCancel = Forall([x,y],\n",
    "#                              Equals(Mult(x, frac(y, x)),y),\n",
    "#                              domain = Complexes, conditions = [NotEquals(x, zero)])"
   ]
  },
  {
   "cell_type": "code",
   "execution_count": null,
   "metadata": {},
   "outputs": [],
   "source": [
    "# multFracRightParticalCancel = Forall(\n",
    "#     [x,y, z], Equals(Mult(x, frac(y, Mult(x, z))),frac(y, z)),\n",
    "#     domain = Complexes, conditions = [NotEquals(x, zero)])"
   ]
  },
  {
   "cell_type": "code",
   "execution_count": null,
   "metadata": {},
   "outputs": [],
   "source": [
    "fracCancelComplete = Forall(x, Equals(frac(x, x), one), \n",
    "                            domain=Complexes, conditions = [NotEquals(x, zero)])"
   ]
  },
  {
   "cell_type": "code",
   "execution_count": null,
   "metadata": {},
   "outputs": [],
   "source": [
    "reverseFractionOfSubtractions = Forall([w, x, y, z], Equals(frac(subtract(w, x), subtract(y, z)),\n",
    "                                                           frac(subtract(x, w), subtract(z, y))), \n",
    "                                       domain=Complexes)"
   ]
  },
  {
   "cell_type": "code",
   "execution_count": null,
   "metadata": {},
   "outputs": [],
   "source": [
    "# fracIntExp = Forall(n, Forall((a, b), \n",
    "#                               Equals(frac(Exp(a, n), Exp(b, n)),\n",
    "#                                      Exp(frac(a, b), n)),\n",
    "#                              conditions = [NotEquals(a, zero), NotEquals(b, zero)]),\n",
    "#                     domain=Integers)"
   ]
  },
  {
   "cell_type": "code",
   "execution_count": null,
   "metadata": {},
   "outputs": [],
   "source": [
    "# fracNatPosExp = Forall(n, Forall((a, b), \n",
    "#                               Equals(frac(Exp(a, n), Exp(b, n)),\n",
    "#                                      Exp(frac(a, b), n)),\n",
    "#                              conditions = [NotEquals(b, zero)]),\n",
    "#                     domain=NaturalsPos)"
   ]
  },
  {
   "cell_type": "code",
   "execution_count": null,
   "metadata": {},
   "outputs": [],
   "source": [
    "%end theorems"
   ]
  },
  {
   "cell_type": "code",
   "execution_count": null,
   "metadata": {},
   "outputs": [],
   "source": []
  }
 ],
 "metadata": {
  "kernelspec": {
   "display_name": "Python 3",
   "language": "python",
   "name": "python3"
  }
 },
 "nbformat": 4,
 "nbformat_minor": 0
}
