{
 "cells": [
  {
   "cell_type": "markdown",
   "metadata": {},
   "source": [
    "Proof of <a class=\"ProveItLink\" href=\"../../../_context_.ipynb\">proveit</a>.<a class=\"ProveItLink\" href=\"../../_context_.ipynb\">number</a>.<a class=\"ProveItLink\" href=\"../_context_.ipynb\">division</a>.<a class=\"ProveItLink\" href=\"../_theorems_.ipynb#fracOneDenom\">fracOneDenom</a> theorem\n",
    "========"
   ]
  },
  {
   "cell_type": "code",
   "execution_count": 1,
   "metadata": {},
   "outputs": [],
   "source": [
    "import proveit\n",
    "context = proveit.Context('..') # the theorem's context is in the parent directory"
   ]
  },
  {
   "cell_type": "code",
   "execution_count": 2,
   "metadata": {},
   "outputs": [
    {
     "name": "stdout",
     "output_type": "stream",
     "text": [
      "Beginning proof of fracOneDenom\n",
      "Recorded 'presuming' information\n",
      "Presuming previous theorems (applied transitively).\n"
     ]
    },
    {
     "data": {
      "text/html": [
       "<strong id=\"fracOneDenom\">fracOneDenom:</strong> <a class=\"ProveItLink\" href=\"../__pv_it/13b0171bede25b567ce69bca47cc4a00d0e840700/expr.ipynb\"><img src=\"data:image/png;base64,iVBORw0KGgoAAAANSUhEUgAAAIQAAAAnBAMAAAA84v3UAAAAMFBMVEX///8QEBCIiIhmZma6urrM\n",
       "zMxUVFQiIiJERETc3Nzu7u6qqqp2dnaYmJgyMjIAAAAcRTyBAAAAAXRSTlMAQObYZgAAAlpJREFU\n",
       "SMdjYCAA7uKT5EpgIAyYHgAVKmU6HcIu7UeEEY4LGBjWMFxXqMNhA2FncIkCiVMM5xd44lDwlqAR\n",
       "bCBbFjB04FQwcQEhI+IngKlP+O3AC56BSdavOBWw/iJgAudPELmL6QODFi4ljwgYwQyMUgaW3xwf\n",
       "OC/gUnKRgBGMCqBYSdJSxp3A5jswPMCXBOcHEIwzxgMMp0H0Kxzy9wmnPbYHDDNAodaAQ96ciBzw\n",
       "gYEPmDZ4NuCQryBsBPdPBt5Tq1ZNxyX/mbARrL8ZGH50dNTgkv+EJ/dAsy/XXwaGVAaGTlzK/qIJ\n",
       "nHsHAo9BTHj2BVrjzMD1AMVzPelJsMT5F7cr4Nn3DwMDOwMTLOlx7TG+wBWxgPUNkj8ZGPj/g8AH\n",
       "NCPg2RcYXjwX2GHCN3auYuCdw8CwB8UIAgEFNILzQRiQcchULYDFAMhw3QoUwuURSFigZF8uoEcY\n",
       "OlOACWRBHrsDH0jo1k2k4MQTI7DsC7ZmcwHQSFAJthgstRNJ3R+cJsCzL9iz/KDsyAAsGcI7OjoU\n",
       "ZociKRTDnSxg2ZflC5DgBRV/rB9YGdjARcQioDxMYR/h1MkLK7bm8zzgYeABZW1OmwAGeKVxEEpv\n",
       "xF3I8ghAGcuuHDrFwNANTnbv2uClxH6wVq6cfNxG8KGWv0zAsEARWA9NdPdxG7H+An6PciQQNGL/\n",
       "BAJhJUDQCDtC9eFvgkZIE4oyPUJGMAkQLJ8DCBjBeIFgwnlAwAg9womvCb8RnJKEjVgegNeI5RsI\n",
       "G8FZCSL1cRnRS0RDiWEqEJvJP8YealwODFQBABXnsss+9P5VAAAAAElFTkSuQmCC\n",
       "\" style=\"display:inline;vertical-align:middle;\" /></a><br>(see <a class=\"ProveItLink\" href=\"../__pv_it/13b0171bede25b567ce69bca47cc4a00d0e840700/dependencies.ipynb\">dependencies</a>)<br>"
      ],
      "text/plain": [
       "fracOneDenom: forall_{x in Complexes} ((x / 1) = x)"
      ]
     },
     "execution_count": 2,
     "metadata": {},
     "output_type": "execute_result"
    }
   ],
   "source": [
    "%proving fracOneDenom presuming []"
   ]
  },
  {
   "cell_type": "code",
   "execution_count": null,
   "metadata": {},
   "outputs": [],
   "source": []
  }
 ],
 "metadata": {
  "kernelspec": {
   "display_name": "Python 3",
   "language": "python",
   "name": "python3"
  }
 },
 "nbformat": 4,
 "nbformat_minor": 0
}
