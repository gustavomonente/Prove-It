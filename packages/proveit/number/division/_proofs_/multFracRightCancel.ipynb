{
 "cells": [
  {
   "cell_type": "markdown",
   "metadata": {},
   "source": [
    "Proof of <a class=\"ProveItLink\" href=\"../../../_context_.ipynb\">proveit</a>.<a class=\"ProveItLink\" href=\"../../_context_.ipynb\">number</a>.<a class=\"ProveItLink\" href=\"../_context_.ipynb\">division</a>.<a class=\"ProveItLink\" href=\"../_theorems_.ipynb#multFracRightCancel\">multFracRightCancel</a> theorem\n",
    "========"
   ]
  },
  {
   "cell_type": "code",
   "execution_count": 1,
   "metadata": {},
   "outputs": [],
   "source": [
    "import proveit\n",
    "context = proveit.Context('..') # the theorem's context is in the parent directory"
   ]
  },
  {
   "cell_type": "code",
   "execution_count": 2,
   "metadata": {},
   "outputs": [
    {
     "name": "stdout",
     "output_type": "stream",
     "text": [
      "Beginning proof of multFracRightCancel\n",
      "Recorded 'presuming' information\n",
      "Presuming previous theorems (applied transitively).\n"
     ]
    },
    {
     "data": {
      "text/html": [
       "<strong id=\"multFracRightCancel\">multFracRightCancel:</strong> <a class=\"ProveItLink\" href=\"../__pv_it/ff19893a00cd9c99ffbff81046cc476ee009a9ae0/expr.ipynb\"><img src=\"data:image/png;base64,iVBORw0KGgoAAAANSUhEUgAAAQwAAAAmCAMAAAAGElVFAAAAOVBMVEX///8oKCgUFBQNDQ0QEBCI\n",
       "iIhmZma6urrMzMxUVFQiIiJERETc3Nzu7u6qqqp2dnaYmJgyMjIAAAArQGDrAAAAAXRSTlMAQObY\n",
       "ZgAABCNJREFUaN7NWYuWnCAMpS3IM4D+/8cWVBxQwoDtzJpzZneym6hc8rpIyBPFe0x5KyCH73bD\n",
       "5YvCZkypL4ZNLPwyFKLG5+H73XD5mvBtVRWlLi4YRdSWHb3xjWaPjQ2gAlHqYiyZ4tZqvf9h9sP3\n",
       "vOHyHZESUxDwCKExTRaW0HkfTBdAx12+ImIxiILn1QLRVAwg2NyB58gsMQWVNUsYzSCE8S14YmiY\n",
       "PBZMV2AQLdOPhCEb3wP2QDCmGVMaPjKmSlYDPR0fbegDwaAMU1pTE2NTGVF8PCKDy3xz0vtYlghE\n",
       "GYkoQt34LgQXZ4+seUIJ8QumNDpBwAHKWJDjM2V0MWlUOb78bMlQmIKLCiGty4Riy/CdV5cUEK8Q\n",
       "+UlRGlMaY0aoGKd8sn1t6OLiHUQx6glYkGXClMGxwd5zWXQU5Z4BBqsqwJg0nLneYQCWt92g5LrJ\n",
       "Ra4hps1/XRR/wyZCjjrm2ot4KRAsvWJEzXdAdXMmE8J1dxce/w+N21jtpJLtTTnbtLJ9TXAf1mfl\n",
       "tbP6muICfC4MzNzkcDbBeBfoF667u8RqwS5hBdZNU/grCB1p0Fy7Om7TAMOsEKgYOxdCUOT6S4Hi\n",
       "qWPMvPZuyWSg3Fy47u7i/AZI2fC1NRAfwpt1ibYCRsOmAUbELSwnhge1fWBcqomSI4W4j+tuLmYm\n",
       "Yr+4C02KxSLC08W4sJu5SX0smiogDZsTGMdFN2P34ubK96UJKZ66q4A6pGZIjOsmF23kVvAYxEFM\n",
       "5VO6B2/KM7YAqFgvgdqUYBwXlWvb+hM+fqfMil0WwWqKha3Qsd4h2bzvJmeum1xsGvVEOgCDI8os\n",
       "2HyhBniwZbplcwJDFKdqzGanNlciVhS+pPCQLzqAYbrZU8+cceK6h0u2H9voJtS6i2HINVaU8TmF\n",
       "J1zbRsPmXDNe8yDotOvR40ouqawokZWGsWCASfIO2nriuoeLhxc+61aSLLWAFd0sJtF2SovbnMDY\n",
       "LypDyv7+FRPXY92E6BlTBvleX0JlXPfsYpZQbGJZCJ9jq820fg/Dn1n7gBIBxK18VGyuYGQXTW11\n",
       "TZepNmcQRzFlSDo8z1z37ALS8zAXrgjpI+kgVGMdm4FYOyGXLO1YxeYKRn7Rra3uaDg31egSIMr9\n",
       "g9Q+rtt0YVs9KB81rC0kmfYNm9acYd8SIGQeH5QexxPXHb5X7BnSdb2Nq4PR4ygxZZSOf9glYse9\n",
       "6+G3VTB8B68uDmb7TmmvlHYar7zTB9+33j6JgHxCgJ5jiQqlpeMHVfQRZ1uXWjX2Cr5CafP3Sd13\n",
       "feKbApKGmJqCn47oIi3peN2lD33z7GdM6TwgY/O/heOjpGjWuuekr6C0hg63khsu3xJQAlHqTbGk\n",
       "tKDs+A0teawYZRClyslKSqvHs1978mAxAlPq5DOjtMDHIzG5/AWWxzMSbjhDqQAAAABJRU5ErkJg\n",
       "gg==\n",
       "\" style=\"display:inline;vertical-align:middle;\" /></a><br>(see <a class=\"ProveItLink\" href=\"../__pv_it/ff19893a00cd9c99ffbff81046cc476ee009a9ae0/dependencies.ipynb\">dependencies</a>)<br>"
      ],
      "text/plain": [
       "multFracRightCancel: forall_{x in Complexes, y in Complexes | x != 0} ((x * (y / x)) = y)"
      ]
     },
     "execution_count": 2,
     "metadata": {},
     "output_type": "execute_result"
    }
   ],
   "source": [
    "%proving multFracRightCancel presuming []"
   ]
  },
  {
   "cell_type": "code",
   "execution_count": null,
   "metadata": {},
   "outputs": [],
   "source": []
  }
 ],
 "metadata": {
  "kernelspec": {
   "display_name": "Python 3",
   "language": "python",
   "name": "python3"
  }
 },
 "nbformat": 4,
 "nbformat_minor": 0
}
