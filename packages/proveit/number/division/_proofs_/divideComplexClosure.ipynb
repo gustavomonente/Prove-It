{
 "cells": [
  {
   "cell_type": "markdown",
   "metadata": {},
   "source": [
    "Proof of <a class=\"ProveItLink\" href=\"../../../_context_.ipynb\">proveit</a>.<a class=\"ProveItLink\" href=\"../../_context_.ipynb\">number</a>.<a class=\"ProveItLink\" href=\"../_context_.ipynb\">division</a>.<a class=\"ProveItLink\" href=\"../_theorems_.ipynb#divideComplexClosure\">divideComplexClosure</a> theorem\n",
    "========"
   ]
  },
  {
   "cell_type": "code",
   "execution_count": 1,
   "metadata": {},
   "outputs": [],
   "source": [
    "import proveit\n",
    "context = proveit.Context('..') # the theorem's context is in the parent directory"
   ]
  },
  {
   "cell_type": "code",
   "execution_count": 2,
   "metadata": {},
   "outputs": [
    {
     "name": "stdout",
     "output_type": "stream",
     "text": [
      "Beginning proof of divideComplexClosure\n",
      "Recorded 'presuming' information\n",
      "Presuming previous theorems (applied transitively).\n"
     ]
    },
    {
     "data": {
      "text/html": [
       "<strong id=\"divideComplexClosure\">divideComplexClosure:</strong> <a class=\"ProveItLink\" href=\"../__pv_it/7cffd33a0b8c1ab1cf260a57dfa71db55b1f1d290/expr.ipynb\"><img src=\"data:image/png;base64,iVBORw0KGgoAAAANSUhEUgAAANQAAAAmCAMAAACLWkU4AAAAOVBMVEX///8oKCgUFBQNDQ0QEBCI\n",
       "iIhmZma6urrMzMxUVFQiIiJERETc3Nzu7u6qqqp2dnaYmJgyMjIAAAArQGDrAAAAAXRSTlMAQObY\n",
       "ZgAAA69JREFUWMPNWQmS3CAMJAnivv//2AAGHxjbg2uTgardcs0ITLeklmAQmmw493qq5mjOAb48\n",
       "KGIJYD00mfopMdEKg2KFkA+jlMzoK41ZfUhRSOToAt7NB4pXpklIHhMwuoAaDNj/MFhQ5QknH+nA\n",
       "3tMyzfB1RzrY+N+EN7xM5iq1OkoHk1j3yKhhYmAuUGRTZBm35gRHdrzO4blAYdjVUQCmONAX7o5z\n",
       "/E/U8h+KPvZmGnjhAxaSVGqid61Zo/HLKeZe6AJiLKWfJsFVUDETkaoFTslvp5R4QQTiUBipoCDs\n",
       "HLS57EtDfMCqkyKONWUcQ7Xa8grKJA11VqehxLd1YuX6OtYkHFOEbPGlYa1UyTtBpiHs10E9VRjd\n",
       "Zn08a7ATEzokweNZdOSHZY76D/p7em2f9wUWbH8zty1Qu0VlEYU+OZRkFq4XM9JywetsSx4MEkO7\n",
       "L4/2JDHoIiLDT4r+BOqUc4p0QWW+UjbBaUVtLCHxU81kZJf5Sq03DwbN6/1egFSGIpIn2yZtyYWy\n",
       "r23sDLCvo+5AImYvctO6BVijM0bp9F6n8jxTZ9cG7dKgARX2QZPgl+4bm2tQ/eJ8VseYZPwClPKI\n",
       "le80Ae5ZjcmcE8wshV7VdwNwfWPQgKr2i63dThjCjYbfuauLFZcfknXt8JNI8CW1tWCled9KgXaH\n",
       "/AShEZAbgwZUsedZYv/EP1fe0J4A9aP6kbOBhJpU6/1EJcfUYk7ibpnIHltFQB/b/9w/+xuDBlSx\n",
       "XwCa3VkQQzfBb8uz6XT20uqY3lLqNowrSSnO8+UFE5nZuCNl2KHPxNGnhN8YNKCKfcnr4pM0IbQd\n",
       "OH48tGouadugMuJxEGTbAq0LO13eFimULqX/9gJSanVZLYVOwn5p0IAq9jxq1u9fSbnchfohua8q\n",
       "WuJei0Ot3LdJ/b64WRir6D2aYtKyrRjkZxt9klwcU8TJC4MeqGpf5TyHIenUKWSPQuAfu6b+sK2e\n",
       "UA4GSE40ucavtt7L1Haw5CHGbVGXs0FX/ao9khuDYHsl/EhxeNlg+7sohiVlju99Mriq/U0d62fM\n",
       "QdPpyxuU526r3den1yA9UM8to9xzbF+eGkwYvKv5mIMOKPccTYc7E88ByIsIJP/sPp28jByze44t\n",
       "kA7DN2Sn7uvrA3yjGmH4Eg8muyFLNLNDFOkwfHLF8/1C4PyhStFhWYcZf6FaS0QWZjIq6wqrCUGl\n",
       "Y8ICitYfqYZmGzTjUGLhmkc8clREpUNzDsXqadWOblHXvv8vdgwpZRZ1QGgAAAAASUVORK5CYII=\n",
       "\" style=\"display:inline;vertical-align:middle;\" /></a><br>(see <a class=\"ProveItLink\" href=\"../__pv_it/7cffd33a0b8c1ab1cf260a57dfa71db55b1f1d290/dependencies.ipynb\">dependencies</a>)<br>"
      ],
      "text/plain": [
       "divideComplexClosure: forall_{a in Complexes, b in Complexes | b != 0} ((a / b) in Complexes)"
      ]
     },
     "execution_count": 2,
     "metadata": {},
     "output_type": "execute_result"
    }
   ],
   "source": [
    "%proving divideComplexClosure presuming []"
   ]
  },
  {
   "cell_type": "code",
   "execution_count": null,
   "metadata": {},
   "outputs": [],
   "source": []
  }
 ],
 "metadata": {
  "kernelspec": {
   "display_name": "Python 3",
   "language": "python",
   "name": "python3"
  }
 },
 "nbformat": 4,
 "nbformat_minor": 0
}
