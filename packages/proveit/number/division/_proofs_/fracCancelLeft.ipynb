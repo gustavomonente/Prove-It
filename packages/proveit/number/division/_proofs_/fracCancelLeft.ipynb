{
 "cells": [
  {
   "cell_type": "markdown",
   "metadata": {},
   "source": [
    "Proof of <a class=\"ProveItLink\" href=\"../../../_context_.ipynb\">proveit</a>.<a class=\"ProveItLink\" href=\"../../_context_.ipynb\">number</a>.<a class=\"ProveItLink\" href=\"../_context_.ipynb\">division</a>.<a class=\"ProveItLink\" href=\"../_theorems_.ipynb#fracCancelLeft\">fracCancelLeft</a> theorem\n",
    "========"
   ]
  },
  {
   "cell_type": "code",
   "execution_count": 1,
   "metadata": {},
   "outputs": [],
   "source": [
    "import proveit\n",
    "context = proveit.Context('..') # the theorem's context is in the parent directory"
   ]
  },
  {
   "cell_type": "code",
   "execution_count": 2,
   "metadata": {},
   "outputs": [
    {
     "name": "stdout",
     "output_type": "stream",
     "text": [
      "Beginning proof of fracCancelLeft\n",
      "Recorded 'presuming' information\n",
      "Presuming previous theorems (applied transitively).\n"
     ]
    },
    {
     "data": {
      "text/html": [
       "<strong id=\"fracCancelLeft\">fracCancelLeft:</strong> <a class=\"ProveItLink\" href=\"../__pv_it/70670656f1967a06550cbeeaaae690cbc33c3cc20/expr.ipynb\"><img src=\"data:image/png;base64,iVBORw0KGgoAAAANSUhEUgAAARoAAAAmCAMAAAAsoqTqAAAAOVBMVEX///8oKCgUFBQNDQ0QEBCI\n",
       "iIhmZma6urrMzMxUVFQiIiJERETc3Nzu7u6qqqp2dnaYmJgyMjIAAAArQGDrAAAAAXRSTlMAQObY\n",
       "ZgAABAxJREFUaN7VWoty2yAQpK14P6X//9jeIWGBJBB2EzUwk4xjrwUsd3sLhJBBWwjf9GArydiN\n",
       "zttEKJWGU0/PU6QM3zSTvWejgPJ5aGb4NmHrIX4UJeo8HQ8g5HC5f9oBSkeOGzuJbVLAkF8s4SZ9\n",
       "kiDGEYZ8aX37tBN0DuNSI2XGRD55u8z7JxNmyULviT5Ce5LwhzaxmOyvYvJqTwYO0QRQ0ZOfB6gc\n",
       "NqVmWfBUmXxMEjr1PPAIFcugYWP2oHF2FU96MRUt06/bdoLOdExq2LwngiMaqDFXuskkAroU9QQN\n",
       "05jUTHS3Z5SCKbm2f/ghK1SpYfMOULNwCJ3v95dfnk/igwB7EzqBYfLulV+DSE9YumByxlrOP4Ti\n",
       "Wya5AqNHkRrVBVOQBJp+Co3inoJlD58f3lTfGnKQj87Mu4A6VJ7gLTajBmGGLOwRV4mRsmhsyg9D\n",
       "zROew8ZSLmMsafP0FPnNvgYS3lNfGfRHzc9ZYx0LwBFkG1XOaS+VbK9VB+YIaUlGTP0AvDh5rt2P\n",
       "mIwlLgqqDD31Z51nDN61QuPea75KuA5MHdKgxkRCFMbVaTezqsA2/q52y8IVdFU0H1Z6SvegnbE4\n",
       "rGDibNzFtDswDUiDGmQRMgdDZ3INar5d7M1MxBa3HqoYRfHhKRW5cGtdM6nQIVRZ0sAQo2ZrRBNS\n",
       "UvPqdwX7/ehBha9LqEJr5I0Mr2uojVw1ETawYANVvn8INhQC7THERdx9VTGEubCe1tYhBTWvfmWs\n",
       "ln/gJ2wnA4qeBv1EhUoL4JLBFOnwz7J92+/yORnLAUt1C7NKDLmDZNSI4tCRuuzAaqLXAvmIrymt\n",
       "wrr/FCouH7hn40RpFBmMLNaZBobYNQpbkIPW7Pteq1N44DfOu6DpiSM4nvoNdmcrriHZu2eW7k5j\n",
       "qxvrqXUdgzojbBNyoGbrV4II/P6FUhBqFYroJy5DwqFfs4BSoZzAz2uNDYuvQTtMLBxKAKWr7NQw\n",
       "RnoXdA1ypibrNxXumFjsytcQ/8Qx07ETKwMHAxr50q8SaUHYNVYPEQsplzStWw0DEjppW4Ocqcn7\n",
       "JXpfLur9hWd1TxzcNgsYXUWiHBVMAzRBhzbm7jEtX+NuRdY+YIff7gOLjPTtm0/XvRe7pqZDSPT3\n",
       "67Bb3txSIpM8eH+H+QdqQofVzc+063feMFQ1cSL6BnTAsv97780+j/ZMwKp33mACAmWs79zriJ1G\n",
       "Odc7yeCLiNOdd2YO8FXvqe4BSwe9ayHJV5HznXd26R3dku4vZjl2Gvf/AcJcPfXLLr3BZ7xhf+VV\n",
       "VA7YMjtQv/B3bzCTY81kBqbGKrHtWut33o6Vu5kmMxnWKkdGbkYZ0r7zFir4QOeuO7oCqwMZu8WT\n",
       "stadN0MD1MdMgbXpK38Bcwg2OKHItIkAAAAASUVORK5CYII=\n",
       "\" style=\"display:inline;vertical-align:middle;\" /></a><br>(see <a class=\"ProveItLink\" href=\"../__pv_it/70670656f1967a06550cbeeaaae690cbc33c3cc20/dependencies.ipynb\">dependencies</a>)<br>"
      ],
      "text/plain": [
       "fracCancelLeft: forall_{x in Complexes, y in Complexes, z in Complexes | x != 0} (((x * y) / (x * z)) = (y / z))"
      ]
     },
     "execution_count": 2,
     "metadata": {},
     "output_type": "execute_result"
    }
   ],
   "source": [
    "%proving fracCancelLeft presuming []"
   ]
  },
  {
   "cell_type": "code",
   "execution_count": null,
   "metadata": {},
   "outputs": [],
   "source": []
  }
 ],
 "metadata": {
  "kernelspec": {
   "display_name": "Python 3",
   "language": "python",
   "name": "python3"
  }
 },
 "nbformat": 4,
 "nbformat_minor": 0
}
