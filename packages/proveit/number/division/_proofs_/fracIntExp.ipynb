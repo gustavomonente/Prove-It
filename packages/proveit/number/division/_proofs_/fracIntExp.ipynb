{
 "cells": [
  {
   "cell_type": "markdown",
   "metadata": {},
   "source": [
    "Proof of <a class=\"ProveItLink\" href=\"../../../_context_.ipynb\">proveit</a>.<a class=\"ProveItLink\" href=\"../../_context_.ipynb\">number</a>.<a class=\"ProveItLink\" href=\"../_context_.ipynb\">division</a>.<a class=\"ProveItLink\" href=\"../_theorems_.ipynb#fracIntExp\">fracIntExp</a> theorem\n",
    "========"
   ]
  },
  {
   "cell_type": "code",
   "execution_count": 1,
   "metadata": {},
   "outputs": [],
   "source": [
    "import proveit\n",
    "context = proveit.Context('..') # the theorem's context is in the parent directory"
   ]
  },
  {
   "cell_type": "code",
   "execution_count": 2,
   "metadata": {},
   "outputs": [
    {
     "name": "stdout",
     "output_type": "stream",
     "text": [
      "Beginning proof of fracIntExp\n",
      "Recorded 'presuming' information\n",
      "Presuming previous theorems (applied transitively).\n"
     ]
    },
    {
     "data": {
      "text/html": [
       "<strong id=\"fracIntExp\">fracIntExp:</strong> <a class=\"ProveItLink\" href=\"../__pv_it/c43d0b3b1758331bdc10a73dfb2cc7a5d53b1e740/expr.ipynb\"><img src=\"data:image/png;base64,iVBORw0KGgoAAAANSUhEUgAAAU8AAAAyCAMAAADr2KlrAAAAOVBMVEX///8oKCgUFBQNDQ0QEBCI\n",
       "iIhmZma6urrMzMxUVFQiIiJERETc3Nzu7u6qqqp2dnaYmJgyMjIAAAArQGDrAAAAAXRSTlMAQObY\n",
       "ZgAABaxJREFUeNrdXImymyAUtS0g++L/f2zBuFwQFInJe4MzbacJHOBwdzDD0P6gyT9m+D2PGb84\n",
       "mGLJ4IEN9A4i0lJK9YvoPOytJZZiTD4z3Ohifj0Z+j0+6fCbHswOH9kRWT9P+ZkBrUs/oR3xmZEN\n",
       "qTD3/0yf0iFh+uVToZzxZNjrJXpSJqEFOYzZEZ+ClKZIzPDcRGMLkupEP3zqrFLLyf/FR10/UWtP\n",
       "HXlqQbjplE8OxVMSQzDyax4DFdjYep/mUojUkccWRE+ySz4tXNcY1NFNLSHQwmACASOHxIJE+9gP\n",
       "n1xAzxTkkYgWn0bzEM6WLIiN7EwvfNIJOFoyL5Hj+zCMFSDkKrcHC6Im3CGfBK4DiXmdtGFXZAmC\n",
       "sVIn5zrkE4HlqrmkoBvMp2NFCFrMCTC03J3wSScL+dRBoNygb6aZcmMmA+FwsZftjs9IRgbhl245\n",
       "G+5Wvog7gbCoRjc64VOgOP7GmEqG7xbvED6BkFMJTvCIT3eWGtTw+QbAY+ZTPAAizz0YKom7mSI+\n",
       "jd5MhGri8w2Ap0oh0xMVTnvuwZgr9qOQT7nurRRt+v4GwGPuCD+AQviFja4YPdjPVap2ObtpP9sB\n",
       "HquFPDEyFxeDyGvtCHxao8Ijeas/agd4LHl/wjFeGA1a3LSJxf59EuHhppXPdoCPhEvNfOILI13y\n",
       "tpOI+WQzLUI289kM8NBj7hxoGAceUsPXFd/IxXyOAVW5smdDwhBBSJHPIsAYJbfDWUA4M4INNoW+\n",
       "xwZpAeTtcOmKz5L+IZ7E8+H/OFOX1oYQ/zH3gmcUVuV4vgDgu0WbcGLwCZ0NsTf7LN8302Df8Mj1\n",
       "TvnnOkjQOYgK+8pRwmeoPh2diRVaqkCiH4daaU/yozxAcP26jk85k8SDAG+yFvXNNSjw2Rx06UZ/\n",
       "deBTuoG+dh2c3o2wO8kmwxufO0A6B1nHp1BbfQzpXN9cgzZ9j+wnq9d3VdR3nuq7dyXsZdvA6R20\n",
       "XlZmT7T2/H0DGBTBzNE91MVM5fiMmg2jebUO43Kb6ZtrAP3RA65QXfj3Mt+pP/IaveQG4PROQdeH\n",
       "87Wanc8VYFCcgloh5moAt112PrdmbA61/vk/dum3FsWXvuUGMF56JP40jfYAsUN9adub7fSO8nkh\n",
       "oXDlyTQqkH1SX1oBQhRAeVT2chk+42ZYD7v4rVUe2DfbAMbzT9wDQ+z067E4SJIfzTNSgKLX6d2O\n",
       "PmoaRN3IEz5XgGDc9tPAcH2CsAyfUTMlVo0LeOu0Qd98A5gKxh8pgRpyNeFOIWzJSEPDmtY/wemd\n",
       "obszChsw8or6pwoSJKxahg5TAO5DHJsx7xT+/gmuwSbue+lbbgBVMTVtS6B+63qdQTmI0tflekgk\n",
       "1OD0TixEWMaYMY6zCj6DK6PTaEOxyS/bm0Arcv59a7aFQrNak1d4mfQ9NrgMZRZbd+t6XXLDJDWX\n",
       "jlVUY07r83i1n1f5ZrQhWOOQBNAgl5RFVzLFsdkaCi0jmjmIT/oeGxwiFpfaOpW41yoHb48QFeko\n",
       "jC4+ed5xdIfZ+FObi776us5CkoDe8NS9VhlQloO4KtdF2cQH+cycLmb5dFd9XU3BTiW66a2mHm5e\n",
       "r4uO3DaIdcuK04CHLR/kM6MeOT6tvuhrK2rFSWyoJqdmn3fvep0CKBsEjEgKcT7+Cp85tfxYxS6O\n",
       "HV+exa/z5vU67I4Q61eoqvjazX2byIDOuqkm88aCUghU3BN4XNwNn3HyMoeOY8Oh0p7LJRDY1ZWZ\n",
       "+7mvCG3JHNo0FZm38DCGkOUQFnd5XzH28EFYFWq5XBHqNEcIxXWl5e7nvje8vsFs6fWEy0dyeYQQ\n",
       "9iSp6vO+d5QtKnLnynxCKD1AqJPqVZLld/S+jCM/sYtI9cqn/IHZ9Pw+16C/fz+FpTrRE5+wcv2l\n",
       "oOKQQNOu3tdm+KvDPf++9m/7PQHy3d8TiEXp9XsC/wHCzElYmJzNbAAAAABJRU5ErkJggg==\n",
       "\" style=\"display:inline;vertical-align:middle;\" /></a><br>(see <a class=\"ProveItLink\" href=\"../__pv_it/c43d0b3b1758331bdc10a73dfb2cc7a5d53b1e740/dependencies.ipynb\">dependencies</a>)<br>"
      ],
      "text/plain": [
       "fracIntExp: forall_{n in Integers} [forall_{a, b | a != 0, b != 0} ((a^{n} / b^{n}) = (a / b)^{n})]"
      ]
     },
     "execution_count": 2,
     "metadata": {},
     "output_type": "execute_result"
    }
   ],
   "source": [
    "%proving fracIntExp presuming []"
   ]
  },
  {
   "cell_type": "code",
   "execution_count": null,
   "metadata": {},
   "outputs": [],
   "source": []
  }
 ],
 "metadata": {
  "kernelspec": {
   "display_name": "Python 3",
   "language": "python",
   "name": "python3"
  }
 },
 "nbformat": 4,
 "nbformat_minor": 0
}
