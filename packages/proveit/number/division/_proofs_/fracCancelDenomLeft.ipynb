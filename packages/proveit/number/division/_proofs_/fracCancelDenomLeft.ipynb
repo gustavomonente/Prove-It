{
 "cells": [
  {
   "cell_type": "markdown",
   "metadata": {},
   "source": [
    "Proof of <a class=\"ProveItLink\" href=\"../../../_context_.ipynb\">proveit</a>.<a class=\"ProveItLink\" href=\"../../_context_.ipynb\">number</a>.<a class=\"ProveItLink\" href=\"../_context_.ipynb\">division</a>.<a class=\"ProveItLink\" href=\"../_theorems_.ipynb#fracCancelDenomLeft\">fracCancelDenomLeft</a> theorem\n",
    "========"
   ]
  },
  {
   "cell_type": "code",
   "execution_count": 1,
   "metadata": {},
   "outputs": [],
   "source": [
    "import proveit\n",
    "context = proveit.Context('..') # the theorem's context is in the parent directory"
   ]
  },
  {
   "cell_type": "code",
   "execution_count": 2,
   "metadata": {},
   "outputs": [
    {
     "name": "stdout",
     "output_type": "stream",
     "text": [
      "Beginning proof of fracCancelDenomLeft\n",
      "Recorded 'presuming' information\n",
      "Presuming previous theorems (applied transitively).\n"
     ]
    },
    {
     "data": {
      "text/html": [
       "<strong id=\"fracCancelDenomLeft\">fracCancelDenomLeft:</strong> <a class=\"ProveItLink\" href=\"../__pv_it/3784825ca28f6ecd9b4de3b6863971e4272ca6200/expr.ipynb\"><img src=\"data:image/png;base64,iVBORw0KGgoAAAANSUhEUgAAAPIAAAAmCAMAAADJGTavAAAAOVBMVEX///8oKCgUFBQNDQ0QEBCI\n",
       "iIhmZma6urrMzMxUVFQiIiJERETc3Nzu7u6qqqp2dnaYmJgyMjIAAAArQGDrAAAAAXRSTlMAQObY\n",
       "ZgAAA6JJREFUaN7NWYmSnCAQJYncp/7/x6YbZFRAosZJoGq2dtce5PX9GkJGXCG8v6eVZOBF5/WU\n",
       "lErDqaf1+SnDf5rJXt+Vz+Mi5isQ68HeihJVn9WDEOpmuaXJYe1sJ7HiAuR+sYSb/CSLGEcY6kHr\n",
       "WzvPYVDIUu4Q7kHZZd6eTOjYC7218604+IdLLGb31wGU2jyTg/VBVDzU5lhrlgf8J6CiX9PptjpH\n",
       "NLPZjOxsyk+0cU4t8497+qQDQmbz5ruOaIBsWkmHSRS4nY7CNCDkiW69A6VQf9ttCT5kh6i/6EMc\n",
       "TP3VlueBX4sHDnFDo1Drvfv4+QihHa41F3LGmsUfVED4osmFz+ghQlldElPgkfpJKor5MBt3M/f/\n",
       "XOqa4jlEsniyv8P4D97iMmoExGRh32500LKLxqX8GJBfLpwl5bKxsMnoIdq8+qpuZomvB05Ya9ku\n",
       "j8uGn3eLnVKuqFOOz20n4TvtpZJ99ZcyvZCMURgAr5N1jXq3UtaUa4l6xiim1aus84zBf63Q2MHP\n",
       "Lcc/l+lANhGoQj+oWt4UauvhLq0/+HVFuVKy8CHBPhZI7YzFEwUTgbgG5I5MBzJqBzwYTT25DuSX\n",
       "IqygXAmymYlYXcxD7qcY3DxHAxcuiZtcHlBUWdKRKSB/Nk3CfqOIKrzn2IdYlmeUyybHhtQlU7oB\n",
       "zgLtidr3ocEGcxzBgNpE3OJU5gj5s6mMpeEXfMJK4xSt0tfbVKegXFmnLvc8Ig9LLNsYnNvDMZaD\n",
       "LNU9mQKyOExgqNsNAqYK4PJ2rSwo1ydydrpN7ESoaBHo6YwTxzaHwaFiau7IlLG8UR6rsznxG3WX\n",
       "PL09tygoF8+vDHbTQjQL2QWDpYdZG7p9GsidyxSQ100lBNnPHxhq4SxjE/2NyeuOcoXilWaBJIDh\n",
       "Cp+P2QyLv3swZsy1SoCqUlg3ZGrIu01zgYoOzlp1mfiXOXxJucr9rQwceqKoB/2pFhZyocaEK2JN\n",
       "4ZJmUzRkasj7TVOBWjF7z1pt/7sUtqRccy9waIrT44EAAYSFDh2ZXl12f0xO9uX2q6Bct7fHvCz9\n",
       "pZuONuQrX/zq3NXdnR2hhnjwV+pIE3K40FqdDuTOL6ieJbL3k+TjonLScnYuqO6MvoaYg1Q5pI2p\n",
       "uqB6tPeIM12Si36LY+u/Hc9Ng97DhflbIxM67A3z2ejy9q1bSdMmMypkqxrQehdUV7d1ZNhllKmZ\n",
       "fueC6qLzBDLwMqJFiE4vqK4ZOTfavwGyJyw6/iumnwAAAABJRU5ErkJggg==\n",
       "\" style=\"display:inline;vertical-align:middle;\" /></a><br>(see <a class=\"ProveItLink\" href=\"../__pv_it/3784825ca28f6ecd9b4de3b6863971e4272ca6200/dependencies.ipynb\">dependencies</a>)<br>"
      ],
      "text/plain": [
       "fracCancelDenomLeft: forall_{x in Complexes, y in Complexes | x != 0} (((x * y) / x) = y)"
      ]
     },
     "execution_count": 2,
     "metadata": {},
     "output_type": "execute_result"
    }
   ],
   "source": [
    "%proving fracCancelDenomLeft presuming []"
   ]
  },
  {
   "cell_type": "code",
   "execution_count": null,
   "metadata": {},
   "outputs": [],
   "source": []
  }
 ],
 "metadata": {
  "kernelspec": {
   "display_name": "Python 3",
   "language": "python",
   "name": "python3"
  }
 },
 "nbformat": 4,
 "nbformat_minor": 0
}
