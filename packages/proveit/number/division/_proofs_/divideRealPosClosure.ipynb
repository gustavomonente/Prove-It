{
 "cells": [
  {
   "cell_type": "markdown",
   "metadata": {},
   "source": [
    "Proof of <a class=\"ProveItLink\" href=\"../../../_context_.ipynb\">proveit</a>.<a class=\"ProveItLink\" href=\"../../_context_.ipynb\">number</a>.<a class=\"ProveItLink\" href=\"../_context_.ipynb\">division</a>.<a class=\"ProveItLink\" href=\"../_theorems_.ipynb#divideRealPosClosure\">divideRealPosClosure</a> theorem\n",
    "========"
   ]
  },
  {
   "cell_type": "code",
   "execution_count": 1,
   "metadata": {},
   "outputs": [],
   "source": [
    "import proveit\n",
    "context = proveit.Context('..') # the theorem's context is in the parent directory"
   ]
  },
  {
   "cell_type": "code",
   "execution_count": 2,
   "metadata": {},
   "outputs": [
    {
     "name": "stdout",
     "output_type": "stream",
     "text": [
      "Beginning proof of divideRealPosClosure\n",
      "Recorded 'presuming' information\n",
      "Presuming previous theorem (applied transitively).\n"
     ]
    },
    {
     "data": {
      "text/html": [
       "<strong id=\"divideRealPosClosure\">divideRealPosClosure:</strong> <a class=\"ProveItLink\" href=\"../__pv_it/375e4d4ad67e36fce2eeff11012779cef2a8bcf20/expr.ipynb\"><img src=\"data:image/png;base64,iVBORw0KGgoAAAANSUhEUgAAAPoAAAAmCAMAAADaznZbAAAAOVBMVEX///8oKCgUFBQNDQ0QEBCI\n",
       "iIhmZma6urrMzMxUVFQiIiJERETc3Nzu7u6qqqp2dnaYmJgyMjIAAAArQGDrAAAAAXRSTlMAQObY\n",
       "ZgAAA+pJREFUaN7VWYmO4yAMZXe5zf3/H7tAoAmUTJISjRqkdqoppn6+nk0Qeshy7qaDtEDPWsSX\n",
       "D4paSrCeOIr5RyFnFSzDCiEf5sz4JL9rzOuHFPcU5o7z7jnQRfUTDcn7kswdp6YS5lcXD6p8wsnf\n",
       "OvC7TPn1y1dNdbDx3XyU6qKx5UPcrl5O18EkEB4ZdfmUpj548gzodGUjiCo7KZBFc9AdfgZ0TDb9\n",
       "CCFcCcImoasQT/D390u3x/vVquYkBgjeY3A70BGOcWPNK/6/NPXdB1XN536VgwOdi0NcOL29TBHr\n",
       "BVLVGgq+NdXlJ9Gt7PJHjL1OwsbZq/u/bMljnziQcfk36FStCd2eYhJrOKvTUvJLkaNAjzoeIHrs\n",
       "9QgdxtB5pskAaclzfHGJVew90A84WA+KVIEuENsJeB1S2otcQOFck0AvZekto0s4YB6h9nLdSLqa\n",
       "BQYGZTSb7gM0zPtr0Nm+bFaRWGLfuc1dIOwVOk7Zv6lfnYFyS4xSlpO9840kIOir8WvRWHphc6dl\n",
       "K0tT6LnkKfE2u6z6h3Wt32fWyqv1enQp6IMKYt0Cvws0YymN35CUslaTpCylMr5WVV5WPbO5g771\n",
       "SOEgmaKinyy20IcdD+yRG2UcDqArj7h45wujdNIio3HajRxZ54pTmzvoYRuB2T3LMIrNxYDHu7wO\n",
       "2pHdCrJkFihRslBTIjyvBWAh/wWNHaDhgRChT27uoFfZJfHtOpZL1yt5UOEp2YMeHUr5Xne8/Iyp\n",
       "DZOWvMyya95kNDFyB2iI1IjQk5s76EVWZGb9F1+u/PLbFUw44khpdhrZ1KYJvnP7YVrqTDpzmb2/\n",
       "QUOFkGxUufII6U9u7qAX2UXKbC5jcA8dH12paAFMD8aXCBrAj0sFC0VJVyRTnuX7Si6zN5J+0ZGK\n",
       "uIqmsSGO/6Xi5OYOepHNqkMN7SQQ+oEUtiyoAQ/aTmahbWRPzES6S6todnCpYIkmhg23I5pI4sla\n",
       "pzZ30ItsGqr+/ilD1bDCI9vWMX9Lo2T74ohVjDqWCoDlTfpabXtKiRrGdHVwYvMIepVFm+Eq1Y03\n",
       "Xo+TRmOMcMuY5fufYYIYQnPtA1O7FOttTGfahhNP3ubCFor4efOwwlfZbd9BrKUHnSy75Ubx5+6Y\n",
       "lPTdW+bK5h96TnM45MDWQ/aWCdMENSH8iSwML1QOSxJuIpUQOh3zdOa520cXeQPozpyITrP5HGcx\n",
       "PeOzF5X98l3TZ2LEdzUvTF6jk4fcRScn8SZSdZi8BMHPed7ofMPqbJLgyJOesL/YI5MSnSM4hdWD\n",
       "oKe5aoHO6kP2ibMMetJScvGUiKhhrpUFh561FK8XCnZOdV3Ho//WNS1MOerSqQAAAABJRU5ErkJg\n",
       "gg==\n",
       "\" style=\"display:inline;vertical-align:middle;\" /></a><br>(see <a class=\"ProveItLink\" href=\"../__pv_it/375e4d4ad67e36fce2eeff11012779cef2a8bcf20/dependencies.ipynb\">dependencies</a>)<br>"
      ],
      "text/plain": [
       "divideRealPosClosure: forall_{a in RealsPos, b in RealsPos | b != 0} ((a / b) in RealsPos)"
      ]
     },
     "execution_count": 2,
     "metadata": {},
     "output_type": "execute_result"
    }
   ],
   "source": [
    "%proving divideRealPosClosure presuming []"
   ]
  },
  {
   "cell_type": "code",
   "execution_count": null,
   "metadata": {},
   "outputs": [],
   "source": []
  }
 ],
 "metadata": {
  "kernelspec": {
   "display_name": "Python 3",
   "language": "python",
   "name": "python3"
  }
 },
 "nbformat": 4,
 "nbformat_minor": 0
}
