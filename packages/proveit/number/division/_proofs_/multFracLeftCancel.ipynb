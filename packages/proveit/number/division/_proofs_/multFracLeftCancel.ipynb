{
 "cells": [
  {
   "cell_type": "markdown",
   "metadata": {},
   "source": [
    "Proof of <a class=\"ProveItLink\" href=\"../../../_context_.ipynb\">proveit</a>.<a class=\"ProveItLink\" href=\"../../_context_.ipynb\">number</a>.<a class=\"ProveItLink\" href=\"../_context_.ipynb\">division</a>.<a class=\"ProveItLink\" href=\"../_theorems_.ipynb#multFracLeftCancel\">multFracLeftCancel</a> theorem\n",
    "========"
   ]
  },
  {
   "cell_type": "code",
   "execution_count": 1,
   "metadata": {},
   "outputs": [],
   "source": [
    "import proveit\n",
    "context = proveit.Context('..') # the theorem's context is in the parent directory"
   ]
  },
  {
   "cell_type": "code",
   "execution_count": 2,
   "metadata": {},
   "outputs": [
    {
     "name": "stdout",
     "output_type": "stream",
     "text": [
      "Beginning proof of multFracLeftCancel\n",
      "Recorded 'presuming' information\n",
      "Presuming previous theorems (applied transitively).\n"
     ]
    },
    {
     "data": {
      "text/html": [
       "<strong id=\"multFracLeftCancel\">multFracLeftCancel:</strong> <a class=\"ProveItLink\" href=\"../__pv_it/47be33de2e0c794134389ed8fdfa0b70a5a875be0/expr.ipynb\"><img src=\"data:image/png;base64,iVBORw0KGgoAAAANSUhEUgAAARUAAAAyCAMAAABF7r/qAAAAOVBMVEX///8oKCgUFBQNDQ0QEBCI\n",
       "iIhmZma6urrMzMxUVFQiIiJERETc3Nzu7u6qqqp2dnaYmJgyMjIAAAArQGDrAAAAAXRSTlMAQObY\n",
       "ZgAABKVJREFUaN7dW4mSnCAQNYncp/7/xwZwPBBssSczobarZmt7h6f46BPcYehTHINUWIxA3RIJ\n",
       "+yYpDlLvhE2omyJhXxMiIPVePO75fNe02BFSW0Q51I2RsK+IGRmgYi7xYdhXRFFIRZnbh2Hf8J/Z\n",
       "AGqrSJwzyF59SNJL1RAiNCOOtHCrcUuiuyTF5/M6qiYspJdkkNNzcpFr0o2pqEvVBV9ywaGYbmLX\n",
       "4BbFdEgKn9mlGuerVGs+mQnm/kjYh4WOkDoM7ZOecDXZ1GMpNwpIDbbDmwtkXOAkHcZbPvtr1Zow\n",
       "5zjxJtfX+aVaBQn7bAeUr1SmstkOKrCiPcrskNbaRV07XqtGEGII9a1rqSRuCgG2xxbfg+WMClIf\n",
       "bkfMaJizW/DtIFGbmQLq49KDY2F6XQ2tOjAVnide/lbxgEQn2Goiu9H8187QAup7hvcI5p2JomUH\n",
       "pJyNHukDW8Un8LBZRemjhYYS8+0aExo9Ro9bfJxVC6powxNMpPVQXVR0Lu/N3JNWzQ1sTEzuGSwr\n",
       "3t10EAq04QnG4gjzj6t/cKcvPWpYntI8aU4DvWdlG6DtQKe8fRzvo0KtDV9g8QcBihWrnJACjOfF\n",
       "EMh2aTROHyixhd+LGVDng+yhcdrpGUnePsr7/cZaG77AnF+YOY23jtLwjeEqQPlUiTvAEIAVnbiQ\n",
       "0ZoKUwBZqW/HiENHYPL2Ubbtwp4T+ALT08CLVfPKahMn7XV6WFuyAg0BWIkMhjWOkx/t2x50HB3N\n",
       "hhyYkPIyrgigDX/BlBavOOAI5SSGX7aGI8btAno5HktHVtIAQ06s7IhFdctU4mDpi2irAfWugRHr\n",
       "j2q0rbt+pQ1/wSx9kRq+E1My7u163vh8otHseVyQyyEnVjaESCXAn/DxgZU4DUmKzMwB9c5WRPQi\n",
       "/6T7rbbhK2z1rDCHKX1v6E6mPT6yNiwwSBQw5MTKjlge1A67rYykqOIYoN5FztBT06N13de21TZ8\n",
       "hfndfparcpnWVZGQ8Hi+XjR4QMw2wJBTXFkRaRpqzR0RUjy0zf9i56dneXQ6lu6oyrQC43OymGG3\n",
       "PWpIVhhE/xrhISdWVoQIUe73rxjr/FUOArfibiT4fngi9m+6w2xzLgTqGAjCZ1t9TdPvoSTWKXtI\n",
       "HrxxuBhSZ2VFrFk5eRKt1Stno3/S38XQrcj7veUZZoRnoeJMC6i2r0xIaSrmJZ4SKRNELWZaGVJl\n",
       "ZUcsWflFi3OVRz4dgMkHJTcLUYXjM1gbjCxBI6cxEBAgyl8PKVk5IOyto9MZUp+JmL8Ci6lGuKZ3\n",
       "gg6sHBD3wNPR3Ukt2+IHu53ITdL7KUc79U2vYx2ruA3hbUOos4BatsWAaFyw1R88PETvt0KnZJW2\n",
       "uH2vBrnF04dAgaXSFkPmij/46E5YXrgVqmk+VUV6Qpen79BLPZW2GPIEg3OgHt/UgLNQ0RY3Byhk\n",
       "XOtGRnetFm0xUKH+qDfAwLcFi7b4UiZcFpz6fAGsnNl5orSlC7AjKjwgYd8QPfILtWiLL3cDft5b\n",
       "yIOVF2rRFl/2MjhHEHToWKioq0VbfJXHcB2QV0PXcjp9Es8qqx/6nzDBPBik3kQHgQqZB9hf43Y4\n",
       "Sw1LUZcAAAAASUVORK5CYII=\n",
       "\" style=\"display:inline;vertical-align:middle;\" /></a><br>(see <a class=\"ProveItLink\" href=\"../__pv_it/47be33de2e0c794134389ed8fdfa0b70a5a875be0/dependencies.ipynb\">dependencies</a>)<br>"
      ],
      "text/plain": [
       "multFracLeftCancel: forall_{x in Complexes, y in Complexes | y != 0} (((x / y) * y) = x)"
      ]
     },
     "execution_count": 2,
     "metadata": {},
     "output_type": "execute_result"
    }
   ],
   "source": [
    "%proving multFracLeftCancel presuming []"
   ]
  },
  {
   "cell_type": "code",
   "execution_count": null,
   "metadata": {},
   "outputs": [],
   "source": []
  }
 ],
 "metadata": {
  "kernelspec": {
   "display_name": "Python 3",
   "language": "python",
   "name": "python3"
  }
 },
 "nbformat": 4,
 "nbformat_minor": 0
}
