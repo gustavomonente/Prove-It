{
 "cells": [
  {
   "cell_type": "markdown",
   "metadata": {},
   "source": [
    "Proof of <a class=\"ProveItLink\" href=\"../../../_context_.ipynb\">proveit</a>.<a class=\"ProveItLink\" href=\"../../_context_.ipynb\">number</a>.<a class=\"ProveItLink\" href=\"../_context_.ipynb\">division</a>.<a class=\"ProveItLink\" href=\"../_theorems_.ipynb#prodOfFracsLeftNumerOne\">prodOfFracsLeftNumerOne</a> theorem\n",
    "========"
   ]
  },
  {
   "cell_type": "code",
   "execution_count": 1,
   "metadata": {},
   "outputs": [],
   "source": [
    "import proveit\n",
    "context = proveit.Context('..') # the theorem's context is in the parent directory"
   ]
  },
  {
   "cell_type": "code",
   "execution_count": 2,
   "metadata": {},
   "outputs": [
    {
     "name": "stdout",
     "output_type": "stream",
     "text": [
      "Beginning proof of prodOfFracsLeftNumerOne\n",
      "Recorded 'presuming' information\n",
      "Presuming previous theorems (applied transitively).\n"
     ]
    },
    {
     "data": {
      "text/html": [
       "<strong id=\"prodOfFracsLeftNumerOne\">prodOfFracsLeftNumerOne:</strong> <a class=\"ProveItLink\" href=\"../__pv_it/7382a0e10018b2960051ec6790f4ac0aca52c6580/expr.ipynb\"><img src=\"data:image/png;base64,iVBORw0KGgoAAAANSUhEUgAAASsAAAAyBAMAAAD2JOBgAAAAMFBMVEX///8QEBCIiIhmZma6urrM\n",
       "zMxUVFQiIiJERETc3Nzu7u6qqqp2dnaYmJgyMjIAAAAcRTyBAAAAAXRSTlMAQObYZgAABY1JREFU\n",
       "WMPFWW9oW1UUP03ykryXl6bI/MOUGRsYsg82Oici2saKih+08YNuIJpSHaKMdUWYQ7YRK9Ss26RD\n",
       "UHFCn3MW1ylrGVMrk4Xo/NBNG4dgJ84G5gcRLWVusnXOed+75yXv5d2bd7dc8HzITU5Ozvvdc8/f\n",
       "GwAZ9DVd9Azne61XWNUYSCO9SNfjXInHhHWFKtJgLadLgG+TuPjDfpGFKtZG10n6arBkdghrixYl\n",
       "wXqfupS2xHxZ1280kBEgS40Meg23mbaWOaORRQVoUtIZLtL1iNEAFmwW1heRc4oRaiV4CRiwtPYX\n",
       "uksW6BH+sdkyuM0LUmDN0QfGL7BgfQw/Jrc6wTOoKgOu/TVJm9BoeRasaZgxHrFQL3IVVGUAGrnB\n",
       "lZFylq65DEupAQU8qTNcDVUZpANJCbCCGGO3c/Zqw5lvoMMNuVVGom/B3H4dG5ZyDt908H2+KoPV\n",
       "QobP58pU9SUmrC8CC7DCejda5mmoyVBSL0mAhVaobrHDCSt0Mbqgll1W9Rbnmgy4Dd8MvYo5Hl3s\n",
       "rptPOx6h9a1InUKBDby0VZNBeh3Acq9TTcC6AV0s79f9LAirnAE4Zq6/Xz0q7S+M6rSPYPyceILO\n",
       "wjumj+WbSFsY3LmkoKBIFCWhlXioPtFEob6IhXpC0KwCRCwfnx4ff7sJ17LPhhjeh/4W1pkgQXu+\n",
       "UNjcBCw7MTTIlkjnxWERp1oLsK2Z8QJL8IxvfV1G5ectahggLSQ9PACaqwbFdjzfV+c+Hs7n32y0\n",
       "PTyIsLoMTwGuo+vF6xlJcREI2PlPO7yyrK0xlD9qfurh7P/qPvhwGJ6xW8gwpqN+ulw2yWRp/1rH\n",
       "Uf0MMOA9rMseoj0SSc16OWKLzU6NQ/w9gMPA5cS3v2vAySLEOLBqtLGeMSDe7xJYauVJ8q60ank2\n",
       "ZB74g4cIi6zdvfAKuDjq1n1ZcuSkiD1Fom7E7xA99LLTtxqO2RGzTm17jsSTsT6SaTVZP52kXxUX\n",
       "lTZwcYJflmitin/iiDodI3FmRMzlhXzLfMpBgk2BPwE+sLqMKdpc7N0QyLs4xF0mQDPNF9vvgBDA\n",
       "vNXhm7fE+wKr2UhYQUU2vbpQKCR3P4G2KYaTbg7sJfA3FQqD6iEHhDj2zHO+86l4lk+Ym4+bXqEs\n",
       "KBC24OwhZjHPN9OSdXPUrGKA5RP3JGvxH0NYR/xgaf+IFx87nkb1ig66aQT13iyU1GGIZHvAzXnr\n",
       "2CzAUVP6zaOg23nL7kpzZamlGm+VfihNA2y3prb5oaxyI4T63gA3p/z4MGnmzIqsfffb2vqzSfg1\n",
       "NnZNF6C6sh8gnoQ6YB/srONQurUw6NaBg2fEb1zRxQcHblRPwbq6+68pno4uDBG/5jMs3p32874o\n",
       "w6PH6zm8VpI6P07NWioJu1xDxkDmaW5XvecOUJdWPz28RCk7+/DmBjLqCAp1HT3UBh3Orz86sZLi\n",
       "GWW0r8X7IVA1orYzdTfNmWckwHKPr7uDFffoblhtObshUyc6IZq3uw3Nbt6ljK+2U1EfM1qSdaO7\n",
       "MlydsjypDK6xkjntNgDWGI1HtyuhEObTHppPe4y60f0h5j0D/nYRctlqtxFCuydkXI3Y11F4gdUJ\n",
       "Add9ZAyfFWBdJJETv6X26VPWXH71126uUByCqKtpOQi0YDFnfSI6VNtAmhY7KbM+eSBWsJvosA89\n",
       "zlyibPn2tgz3kjLYG6pdg6z++cSvEi8p3Ve6Y+1dTgBB+N56FpxmXz+kahjS8WXWBlrTUmDZT7TV\n",
       "dTKxL+XEsbdmTRpyYO2i7Zd6rVliKtpZlgz774L1cMDDl/Z3QQzzzGdmPJajzPB+lvnLLTDorZ2S\n",
       "ztB0c3RgknvaVzGvBNiXL90pb6s9KwsVhNFAfVyJ/+WPO7gTzcVrnLUXhVWNWQ7/H1xlnVjRr7NW\n",
       "AAAAAElFTkSuQmCC\n",
       "\" style=\"display:inline;vertical-align:middle;\" /></a><br>(see <a class=\"ProveItLink\" href=\"../__pv_it/7382a0e10018b2960051ec6790f4ac0aca52c6580/dependencies.ipynb\">dependencies</a>)<br>"
      ],
      "text/plain": [
       "prodOfFracsLeftNumerOne: forall_{x in Complexes, y in Complexes, z in Complexes} (((1 / y) * (x / z)) = (x / (y * z)))"
      ]
     },
     "execution_count": 2,
     "metadata": {},
     "output_type": "execute_result"
    }
   ],
   "source": [
    "%proving prodOfFracsLeftNumerOne presuming []"
   ]
  },
  {
   "cell_type": "code",
   "execution_count": null,
   "metadata": {},
   "outputs": [],
   "source": []
  }
 ],
 "metadata": {
  "kernelspec": {
   "display_name": "Python 3",
   "language": "python",
   "name": "python3"
  }
 },
 "nbformat": 4,
 "nbformat_minor": 0
}
