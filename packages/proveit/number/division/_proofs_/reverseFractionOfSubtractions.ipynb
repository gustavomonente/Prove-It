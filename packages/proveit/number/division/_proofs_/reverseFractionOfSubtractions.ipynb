{
 "cells": [
  {
   "cell_type": "markdown",
   "metadata": {},
   "source": [
    "Proof of <a class=\"ProveItLink\" href=\"../../../_context_.ipynb\">proveit</a>.<a class=\"ProveItLink\" href=\"../../_context_.ipynb\">number</a>.<a class=\"ProveItLink\" href=\"../_context_.ipynb\">division</a>.<a class=\"ProveItLink\" href=\"../_theorems_.ipynb#reverseFractionOfSubtractions\">reverseFractionOfSubtractions</a> theorem\n",
    "========"
   ]
  },
  {
   "cell_type": "code",
   "execution_count": 1,
   "metadata": {},
   "outputs": [],
   "source": [
    "import proveit\n",
    "context = proveit.Context('..') # the theorem's context is in the parent directory"
   ]
  },
  {
   "cell_type": "code",
   "execution_count": 2,
   "metadata": {},
   "outputs": [
    {
     "name": "stdout",
     "output_type": "stream",
     "text": [
      "Beginning proof of reverseFractionOfSubtractions\n",
      "Recorded 'presuming' information\n",
      "Presuming previous theorems (applied transitively).\n"
     ]
    },
    {
     "data": {
      "text/html": [
       "<strong id=\"reverseFractionOfSubtractions\">reverseFractionOfSubtractions:</strong> <a class=\"ProveItLink\" href=\"../__pv_it/3dd2bb70c67b6afcbbca75b7bbf1863083831a660/expr.ipynb\"><img src=\"data:image/png;base64,iVBORw0KGgoAAAANSUhEUgAAAU0AAAAyBAMAAAAq3ZRXAAAAMFBMVEX///8QEBCIiIhmZma6urrM\n",
       "zMxUVFQiIiJERETc3Nzu7u6qqqp2dnaYmJgyMjIAAAAcRTyBAAAAAXRSTlMAQObYZgAABOlJREFU\n",
       "aN7NWVtoHFUY/vYy2d3Zmew+pKUPIksCIabSrJaKaNqsii2+uFtEWxRtWCwiiK1WRURl6UOctoor\n",
       "tjS0XoaIQVI1CaXVStUlUh+itWsVbCW1+9CCFC1LUbApQc+Z2845s0sungM9D3OGM9//zz/n/PcB\n",
       "JA0tJ4jRKKSO70UxitZkihkeFMbqN5lyTopjFa/IE1PtuD55BfYge32eDT++NgUyi8k7+B3WgXVl\n",
       "8BUmWZFHuvfenAmebeeTd0+xKw3i5FVZYuoWZy2ZxhDyjCNVK/qzsaCn+Ri/ZF5l/a+PeIcsOWMl\n",
       "ej0YqWEO8TLzelObjZYDBNM4Zd7HrPiJz5uS5NxibYMZyihXEaG7eNkaBXKHeKkJgQnDmj+1cBcZ\n",
       "YmA8I0nOW+wpXw6noXHPUs1feoVf8BG3ywpJy+1pHeKD2MvvdaEZhfI3v+IjDksyJGXOnoeoS2G3\n",
       "L2n2IRxUty/CdfSySz7ixJyk4O58/yrcVVLYvCk/8SbeDeYa1+L1RJVd8xMvlxSN0vYcubW3eJLL\n",
       "0jpH1laD7rPY23WOW/MTvwZYKnpOrJyhkuAPPwV8R+dLYtmOZwXLeb6AYaqngr9/i2h/Rxi2E+PT\n",
       "JgRnIYL50QPSp8fG9os/JrEjRaqDfwzjZcFs+8qi5SSKuRXYJdo8F5I3aHbMX5DJhYhXugcqFz4/\n",
       "//YFLoi8/kQRi8AMiM5vQttJDoZww/Ee+mYtPtyNx7wMWj2+uqpuNpU/sAjMNnv6t+Wo8+faGmrn\n",
       "iSRwaNVYI7/dc8DE2QqSngxnjo1Bfwc4vhjMNuH5LJEzUXuIBNhuvKe+RHSA3D5CrJUawtSa7kKU\n",
       "qs+9RwgKFihmspj9l/aBwSz83B39XFCdHyPnjl2PE6KU2YMLVhDVP7GtNWw+Hcu107tfzzqcU+ZG\n",
       "MBjcOUM8sB9j25Foe6d2hMNE2AMbUMRNKt2Z5CH7LQr+BD6wkq5jNpqAesBgiLJyGNsvifafoUE3\n",
       "we5HByrKi4axM3HEfQvJzjYZhpE5+KCz0E8+hsWoOR5j+fmcaP9JN0en2vScOkuSUktZ7sjQeoVs\n",
       "aF1Bm5VhjdC6hoKwDCxmHx7mMFbcFC3nuGezF5N1vYwT9PbtE9Ayw+b7Wk2DRvct0V/AFIZNPB8l\n",
       "DsWPSTz1ZcmPcdOGqvg8xBkPrPxpJUlwaQKh/vD7VmycGP15ahrYY1XXl4cKZAXre2osRldWmH6M\n",
       "/5ikJjY9xk7nznkSJrrnrqjleHUejONGRNeHrR1IshxcaavcPw/GLRnqguVsHTj0JivRmco8GPfB\n",
       "bKNH9Bbn8zd0KE21N/pM7tFAg8klXiGpLr7mBIZoGn1cxfZG1+1NaT46vZqtKnzEiSty+wy0R2Rw\n",
       "crYqckyrAuIaTAak9hkw4Lw7lLH6MY32EhmbWwR/ZXegweQ2c+LbJcnp9hLzZqAfE22VeKwPMPGI\n",
       "U7L6YLGs2yMKp7lHR1s5mMFgg8kl7pPVV3QNfoj2slhxsnacDYzDTkT2N5hcYkltGzJusKfbkOec\n",
       "0KaZ0xeaaucrJ1dxWYFHLK/v7f5HGO0c4GJBVr+xaZISwY+8/B5xe1aanB7rdf+Hi0M8aUqTM7GM\n",
       "Xttq6l9LZuERy/zPhc8ss6/Gl+5RPOK2rEQ5I9RUo51rls7BIz4DmaMoipHc/9qIiKo9Ri0r+g8w\n",
       "m7GzAXZtmwAAAABJRU5ErkJggg==\n",
       "\" style=\"display:inline;vertical-align:middle;\" /></a><br>(see <a class=\"ProveItLink\" href=\"../__pv_it/3dd2bb70c67b6afcbbca75b7bbf1863083831a660/dependencies.ipynb\">dependencies</a>)<br>"
      ],
      "text/plain": [
       "reverseFractionOfSubtractions: forall_{w in Complexes, x in Complexes, y in Complexes, z in Complexes} (((w - x) / (y - z)) = ((x - w) / (z - y)))"
      ]
     },
     "execution_count": 2,
     "metadata": {},
     "output_type": "execute_result"
    }
   ],
   "source": [
    "%proving reverseFractionOfSubtractions presuming []"
   ]
  },
  {
   "cell_type": "code",
   "execution_count": null,
   "metadata": {},
   "outputs": [],
   "source": []
  }
 ],
 "metadata": {
  "kernelspec": {
   "display_name": "Python 3",
   "language": "python",
   "name": "python3"
  }
 },
 "nbformat": 4,
 "nbformat_minor": 0
}
