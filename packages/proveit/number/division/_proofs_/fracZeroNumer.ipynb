{
 "cells": [
  {
   "cell_type": "markdown",
   "metadata": {},
   "source": [
    "Proof of <a class=\"ProveItLink\" href=\"../../../_context_.ipynb\">proveit</a>.<a class=\"ProveItLink\" href=\"../../_context_.ipynb\">number</a>.<a class=\"ProveItLink\" href=\"../_context_.ipynb\">division</a>.<a class=\"ProveItLink\" href=\"../_theorems_.ipynb#fracZeroNumer\">fracZeroNumer</a> theorem\n",
    "========"
   ]
  },
  {
   "cell_type": "code",
   "execution_count": 1,
   "metadata": {},
   "outputs": [],
   "source": [
    "import proveit\n",
    "context = proveit.Context('..') # the theorem's context is in the parent directory"
   ]
  },
  {
   "cell_type": "code",
   "execution_count": 2,
   "metadata": {},
   "outputs": [
    {
     "name": "stdout",
     "output_type": "stream",
     "text": [
      "Beginning proof of fracZeroNumer\n",
      "Recorded 'presuming' information\n",
      "Presuming previous theorems (applied transitively).\n"
     ]
    },
    {
     "data": {
      "text/html": [
       "<strong id=\"fracZeroNumer\">fracZeroNumer:</strong> <a class=\"ProveItLink\" href=\"../__pv_it/2aed6239ac702cb69afbf3146fbc2e56ae073b800/expr.ipynb\"><img src=\"data:image/png;base64,iVBORw0KGgoAAAANSUhEUgAAAIcAAAAyBAMAAACEztX/AAAAMFBMVEX///8QEBCIiIhmZma6urrM\n",
       "zMxUVFQiIiJERETc3Nzu7u6qqqp2dnaYmJgyMjIAAAAcRTyBAAAAAXRSTlMAQObYZgAAAu1JREFU\n",
       "SMetV01oE0EU/vKz3fzsJj1Y8eAh9JCTkoh4UxoQz83Fn1tCsXizRU+ih5zqlgrmICioZI0QIQhN\n",
       "EZFKoSHgpYqN4KGK2pz9KaWCaNKiM7O7ISmZH4LvsBNmXr5975vvzZsFZGZkBIsVqNkb0WKwpYTh\n",
       "z9Nn41N28PIXJZAl+ojVItcGL4fqChiRA/T5DngrWpdYKE2fc8CqLYhUYs5/fwGTtcEOukI+V1nM\n",
       "PwlIYrBD9I8Uw2Qu4V0glxC9Rmh6gYGQSHK8sDdtGUguI0sHiwkZyDFnIMSucohFTCrag85gCaL2\n",
       "y5jV9pyRLzZC2J6scNy36LXImCxavl5HXXE3klmu002A0fKZs+4riA6ao6/YuA68puNX3valBSDf\n",
       "8KTIhJLFPcoN74U5gQbMURgt1ylGts7gaYArDspXHtG2G665Vq3e5Tlu8ulEPI9gx/2B35Z1g+eY\n",
       "KvJBSADBHQZCyJgG5nmO6/tlamwxo3yX6tAYiI8wcxqRPvVHb12a8n5PCCq0lIa2y0BmiRrhb3oH\n",
       "5srxZuSCrX33HGec4S8zXjo6UaTR1L35jeUqzAfAyj4QHrHRjgcSbp2jjeVEMhukqZ55Tqa46bic\n",
       "0F4UKsBkW6yTdDB/kVSafVnPxOjUxw+9xBYVxEaJxTOCpOEH8JhOvVzu3WKBTnAdj9iyj8YVZ9om\n",
       "RX/esqzE/bO9YhM186fj0w45lAWTJq5taxihU4Ey2aWu7DMKrWnRO8JLRsuAQaMLn8yi0S3ApgJI\n",
       "t0or7xtrwAKLcmuuy0Q8rdIk+6vUTzjpbzsq1w/RFjKCthVAZmRdtO2M5eSdI9zz6ZCsZXScmqqb\n",
       "V7iZhXfUmpdhG+1gcdjmhQknEloo3GNyVgYy6aotzj+x49KGrrtCyfGLKCW9WjjbE7VTpM6H7KLE\n",
       "DrOkarfxEENft5yLX2W8fIpXRTGFypD6LNlykPCYymVZZi/EyyMqdY5AXri8ofapMvUfPlUQEH40\n",
       "MVr/Aaj+xN5QwANPAAAAAElFTkSuQmCC\n",
       "\" style=\"display:inline;vertical-align:middle;\" /></a><br>(see <a class=\"ProveItLink\" href=\"../__pv_it/2aed6239ac702cb69afbf3146fbc2e56ae073b800/dependencies.ipynb\">dependencies</a>)<br>"
      ],
      "text/plain": [
       "fracZeroNumer: forall_{x in Complexes} ((0 / x) = 0)"
      ]
     },
     "execution_count": 2,
     "metadata": {},
     "output_type": "execute_result"
    }
   ],
   "source": [
    "%proving fracZeroNumer presuming []"
   ]
  },
  {
   "cell_type": "code",
   "execution_count": null,
   "metadata": {},
   "outputs": [],
   "source": []
  }
 ],
 "metadata": {
  "kernelspec": {
   "display_name": "Python 3",
   "language": "python",
   "name": "python3"
  }
 },
 "nbformat": 4,
 "nbformat_minor": 0
}
