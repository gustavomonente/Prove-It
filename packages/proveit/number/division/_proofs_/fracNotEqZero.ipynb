{
 "cells": [
  {
   "cell_type": "markdown",
   "metadata": {},
   "source": [
    "Proof of <a class=\"ProveItLink\" href=\"../../../_context_.ipynb\">proveit</a>.<a class=\"ProveItLink\" href=\"../../_context_.ipynb\">number</a>.<a class=\"ProveItLink\" href=\"../_context_.ipynb\">division</a>.<a class=\"ProveItLink\" href=\"../_theorems_.ipynb#fracNotEqZero\">fracNotEqZero</a> theorem\n",
    "========"
   ]
  },
  {
   "cell_type": "code",
   "execution_count": 1,
   "metadata": {},
   "outputs": [],
   "source": [
    "import proveit\n",
    "context = proveit.Context('..') # the theorem's context is in the parent directory"
   ]
  },
  {
   "cell_type": "code",
   "execution_count": 2,
   "metadata": {},
   "outputs": [
    {
     "name": "stdout",
     "output_type": "stream",
     "text": [
      "Beginning proof of fracNotEqZero\n",
      "Recorded 'presuming' information\n",
      "Presuming previous theorems (applied transitively).\n"
     ]
    },
    {
     "data": {
      "text/html": [
       "<strong id=\"fracNotEqZero\">fracNotEqZero:</strong> <a class=\"ProveItLink\" href=\"../__pv_it/e658dcadf2b26fe88ead26557dd3901ea5053f6f0/expr.ipynb\"><img src=\"data:image/png;base64,iVBORw0KGgoAAAANSUhEUgAAAQkAAAAmCAMAAADgO54BAAAAOVBMVEX///8kJCQNDQ0oKCgQEBCI\n",
       "iIhmZma6urrMzMxUVFQiIiJERETc3Nzu7u6qqqp2dnaYmJgyMjIAAAD9T1yxAAAAAXRSTlMAQObY\n",
       "ZgAABCVJREFUaN7dWuuysygQZPeTmzDD5f0fdrlrAlFxU7Ub+XHKeEILTU/PgCHkIc3ae/1Akmc1\n",
       "6sqFZobRBa735O5RRPA6d75oQpyfIvFJqoBF1IsYJExN9Xb2OUzIuqzMR22sdKq3ngmm/3cTXper\n",
       "JaoBvLhJ5M83V2cC3oS/6KeZfIgodJMEeIxL7AjqOSrpM5hgWx5UYUp2lcRMFiPLM5hY6K5OolRo\n",
       "SfnwiwY+qip0cP+6Svvvg+OiQeqXGspQa1rHJYjIYAuWH7UNe9Ug5V4pLswb1monwVqIrlWIVr9q\n",
       "E+tFSajOGUxVCfU7KWzi+LG2XlxCuQ8ilRIv1vSJMf1YA7Hp9UeJIJ7NS4L4xAT3WCuKeOFVbOtR\n",
       "4tHz4zt3sW+B+mvFgNp3hkwfr33B26YadTCw4+wsTEShhsavCVpYRr7f+Lp7oO+oOMiOeRIHg3ep\n",
       "/fk7/mUt35gsBbqnk8d/w8EuXWaSUBm5Sjrev9iAjElxskyR7ag17BZoj8r0IInaaUmETiwzUdcj\n",
       "X0SHoB0coGHMpuVJH4UKgxOuW0pMHK5xtZL/oOsPgxzeAu1RBydMwm9W77f2/i35JqTX6ChmE4XY\n",
       "+aVVqAE2z7U6DRfHg87bvwV3TBC3rV/dGMyBjlCdPmLiQBJv/XzJHfjCRKi9KmXAqHSihkzJUok9\n",
       "gWLsc2mMeV+82j0Tm8xCOFIJ06Aj1F67+opP/LVkt2jKUCoXZbDfxEbCSvkFqyhb1M02cnq1YD9Y\n",
       "amGinZA0JrA9lq5AKJsGHaGi7B3zQu7opPRWWVU6sZZpLAxXrEkbm/En9hA+bXSTl+XVS1shWPS+\n",
       "Y9shumnQESrvyyh/vvHkvWOvuDv020Ks0hpDMh1wijUVGXEKPK2CRiHaLGqLbqfYFtE+KUuU0kQ0\n",
       "CSzhPpPToCNU0ee45fzEabClAhMituUT7kt+tlCeHIhXNnrahi7yKjDIbMF4+TaX3zTRMOL9SPIs\n",
       "6ACV99NWe3JALX2xjKdVqH0/tQqPE57HkNk2rJCRNUu3DB2HdLSBHMPNJ2IxEGrc8IhgE1bdAB2g\n",
       "2j4UzOsxi2NXJHGMERmnSFO+J6rlprUIJpiwkoJ8GrQp5VNjgsUFFVELQppizZOgPSrrq0x8Xc8+\n",
       "qeK5kbijCKMlpAk9ztfoPnyubv8N0K2eOCu3eX86ey4JuFanEnWLCSx5SX8DtN7A0YjVfkFNbxP8\n",
       "dIbor20H+SFhzSFfza6mTPsV0IIK7PQ81klK2exRC7v6bvT4zFzv6z5RD3wofA+0oY5BYWcN4EMs\n",
       "gJ/c8S+/ekrVWZp7s08/9/6CPuSQP66peNE5+Ln3HctzXhFb91JNcI83JfX7TbVzhvSrgan3nHrR\n",
       "D2IibqIzE7z+iOJ6VyRParq8xJGBBMWm5GTJs5oW9ajJTE0Nat31D7sCNRq2jos/AAAAAElFTkSu\n",
       "QmCC\n",
       "\" style=\"display:inline;vertical-align:middle;\" /></a><br>(see <a class=\"ProveItLink\" href=\"../__pv_it/e658dcadf2b26fe88ead26557dd3901ea5053f6f0/dependencies.ipynb\">dependencies</a>)<br>"
      ],
      "text/plain": [
       "fracNotEqZero: forall_{a in (Complexes - {0}), b in (Complexes - {0})} ((a / b) != 0)"
      ]
     },
     "execution_count": 2,
     "metadata": {},
     "output_type": "execute_result"
    }
   ],
   "source": [
    "%proving fracNotEqZero presuming []"
   ]
  },
  {
   "cell_type": "code",
   "execution_count": null,
   "metadata": {},
   "outputs": [],
   "source": []
  }
 ],
 "metadata": {
  "kernelspec": {
   "display_name": "Python 3",
   "language": "python",
   "name": "python3"
  }
 },
 "nbformat": 4,
 "nbformat_minor": 0
}
