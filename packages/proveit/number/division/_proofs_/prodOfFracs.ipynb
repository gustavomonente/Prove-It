{
 "cells": [
  {
   "cell_type": "markdown",
   "metadata": {},
   "source": [
    "Proof of <a class=\"ProveItLink\" href=\"../../../_context_.ipynb\">proveit</a>.<a class=\"ProveItLink\" href=\"../../_context_.ipynb\">number</a>.<a class=\"ProveItLink\" href=\"../_context_.ipynb\">division</a>.<a class=\"ProveItLink\" href=\"../_theorems_.ipynb#prodOfFracs\">prodOfFracs</a> theorem\n",
    "========"
   ]
  },
  {
   "cell_type": "code",
   "execution_count": 1,
   "metadata": {},
   "outputs": [],
   "source": [
    "import proveit\n",
    "context = proveit.Context('..') # the theorem's context is in the parent directory"
   ]
  },
  {
   "cell_type": "code",
   "execution_count": 2,
   "metadata": {},
   "outputs": [
    {
     "name": "stdout",
     "output_type": "stream",
     "text": [
      "Beginning proof of prodOfFracs\n",
      "Recorded 'presuming' information\n",
      "Presuming previous theorems (applied transitively).\n"
     ]
    },
    {
     "data": {
      "text/html": [
       "<strong id=\"prodOfFracs\">prodOfFracs:</strong> <a class=\"ProveItLink\" href=\"../__pv_it/356dfaaffb6173551f7a84366ef523f7ab32e3f70/expr.ipynb\"><img src=\"data:image/png;base64,iVBORw0KGgoAAAANSUhEUgAAAVAAAAAmBAMAAABgyt6CAAAAMFBMVEX///8QEBCIiIhmZma6urrM\n",
       "zMxUVFQiIiJERETc3Nzu7u6qqqp2dnaYmJgyMjIAAAAcRTyBAAAAAXRSTlMAQObYZgAABO9JREFU\n",
       "WMO1WG1oHEUYfnPZzd3u3SWHVNEWZE2g9ENqMFRFarxWtPhDs0VtC6I5DosIUipIqdKWkB/hmhq5\n",
       "ImppxSy1RpsquVIqRio9I/VHqnVbBVtRXDQWES1HrGC+1Jmd252Z/bjd2vH58dzcO8/Mzs7OvO+8\n",
       "A/D/4HuGA6EWYvd1FdKrRsJyWG1/Zt0EW3XodlAWo9+HgwfFytUODfYZYVIhWGs4/B58o+1mq6pr\n",
       "IVHDbxE4T5w8I+XgtlCpCKjXuzwJXxoPMlVKpRtSfbj0e1BLR67iPwebLSiFSkWgpeCyQR5F3wGu\n",
       "gzYNl/YZAS0d+RheO0aTBtOhUhHoLVMmj6KQZqFXp2/jA5En7coeQ/6zgfTacYlh8igK9DlvIRWz\n",
       "QU05eTckcuHSa4cyQ/kjtHNWsJWpAgyQ0o8BTXn5AFaHSQWg2XJZmkvVFJOrLEgLpHTO39IjvwN6\n",
       "zDCpCDRpLqvFFR2821eLHTOkNJz3uwtePtJ+b9mRWhER5L9gWKccOuHoTarRXXW70jP491exA/2B\n",
       "YR+2wlh9JlusKC9nqVdc6X687PvEDvROhn3YBf1OnK1F9JM0U5orbUW+NFMRO9AdDPuwrsNZEumZ\n",
       "iH6k9tVUmp0cHX1d8Gb6g+EGkOdi94ilf5VKOwUPdDooIgWcCBbiHx6QdAvAHsFHkoWYwyCvcvYy\n",
       "xk+R0vtA5XZf+qWni7zIb/nws+0ahIqUBcrcecOL+fgvj6RJSDihQD3ZZaqbDfk3Ojk+y9FP74G3\n",
       "B+FJxgd6RWTtEW77BwNvb/Vv+p9Y/KvYqeXgLPiMmXR0F8ZHIfsGwEkItWT3HjDgYhXSzEC9Inag\n",
       "DLaHbLq4+1OxNqLCxOqlutSJCvefQCbsRQrwInAWZfcRHS0U5DUeRw4GhTZpKbypekQNPr1/Lc8z\n",
       "a/RStHTPU8ihGluT+VZs+vZiPWOYlXPAWZo/RskMXs7Z90kAzrQZy2CKF9m9TlNueMiKv+tt6fFt\n",
       "6Dvh0/5b9jlrnNQc3pbo4yzo0RVQ8eylj5KBHlgPRVjuEdFNMi/Yj9YTAxQlNpVKJe3gY/X5q7Zo\n",
       "vAUOowY7SqV+5UQ9tqyBRVD1iDBuYLhR4LkSe6C2NIv9hlyTocUe4CGSWSXzTTpvUXTZAPsce7dG\n",
       "nM3z6ixovMjGyww3QDb+ud2VDmesDGTwRClrdJhQBiGp9wBvee3MBYDTWP3Kacho+w34OV3LlhmR\n",
       "0+0nDDdAJhd7oK505OuJSYC9dmZ9eUCXl4BUxDPCWswNgyiRwOcX9ewvW2BDBR5Z+dVKVuR0e8qg\n",
       "3ACt8VM2jzSBFls9zsARGPJYCJaVnFNaxd+sjjGTcgNECmJIx+FZyfJYvDGzHNotychSURN2qhx7\n",
       "oKFSEx763Gvxru8GSz9HGaTn8k/wV09pK72YSTM4rF8kmzGlIo5Pc5Th3fNdbAJRPYammjimJQEt\n",
       "hzruiikVglUMG3a2w149tZn2wTIRsOnVelqkRkvF5Ms6ZZAHPVdPvWXAAa4pcINsNpyrp0ipAGQt\n",
       "yvAAH2Nm8I1O1Z1wbwgq0KunCKkQ9FNOF7xJ/QAoKGFWbgpq+EF8qRC8o7t8HKDAu66dkMCVQalv\n",
       "upNE5BhSQddkLzgs7/piFXt1k7CkG+FRVBgKarfpu/NTMaWC8KrDzXBuiqvpah+5Fe0NNR/UrDN7\n",
       "cz5Y+i+0WbyuDtZyJwAAAABJRU5ErkJggg==\n",
       "\" style=\"display:inline;vertical-align:middle;\" /></a><br>(see <a class=\"ProveItLink\" href=\"../__pv_it/356dfaaffb6173551f7a84366ef523f7ab32e3f70/dependencies.ipynb\">dependencies</a>)<br>"
      ],
      "text/plain": [
       "prodOfFracs: forall_{x in Complexes, y in Complexes, z in Complexes, w in Complexes} (((x / z) * (y / w)) = ((x * y) / (z * w)))"
      ]
     },
     "execution_count": 2,
     "metadata": {},
     "output_type": "execute_result"
    }
   ],
   "source": [
    "%proving prodOfFracs presuming []"
   ]
  },
  {
   "cell_type": "code",
   "execution_count": null,
   "metadata": {},
   "outputs": [],
   "source": []
  }
 ],
 "metadata": {
  "kernelspec": {
   "display_name": "Python 3",
   "language": "python",
   "name": "python3"
  }
 },
 "nbformat": 4,
 "nbformat_minor": 0
}
