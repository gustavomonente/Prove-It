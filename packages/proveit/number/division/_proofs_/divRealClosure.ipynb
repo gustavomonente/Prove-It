{
 "cells": [
  {
   "cell_type": "markdown",
   "metadata": {},
   "source": [
    "Proof of <a class=\"ProveItLink\" href=\"../../../_context_.ipynb\">proveit</a>.<a class=\"ProveItLink\" href=\"../../_context_.ipynb\">number</a>.<a class=\"ProveItLink\" href=\"../_context_.ipynb\">division</a>.<a class=\"ProveItLink\" href=\"../_theorems_.ipynb#divRealClosure\">divRealClosure</a> theorem\n",
    "========"
   ]
  },
  {
   "cell_type": "code",
   "execution_count": 1,
   "metadata": {},
   "outputs": [],
   "source": [
    "import proveit\n",
    "context = proveit.Context('..') # the theorem's context is in the parent directory"
   ]
  },
  {
   "cell_type": "code",
   "execution_count": 2,
   "metadata": {},
   "outputs": [
    {
     "name": "stdout",
     "output_type": "stream",
     "text": [
      "Beginning proof of divRealClosure\n",
      "Recorded 'presuming' information\n"
     ]
    },
    {
     "data": {
      "text/html": [
       "<strong id=\"divRealClosure\">divRealClosure:</strong> <a class=\"ProveItLink\" href=\"../__pv_it/131e3622871947c4bef885bcf00d46fe97be19640/expr.ipynb\"><img src=\"data:image/png;base64,iVBORw0KGgoAAAANSUhEUgAAANQAAAAmCAMAAACLWkU4AAAAOVBMVEX///8oKCgUFBQNDQ0QEBCI\n",
       "iIhmZma6urrMzMxUVFQiIiJERETc3Nzu7u6qqqp2dnaYmJgyMjIAAAArQGDrAAAAAXRSTlMAQObY\n",
       "ZgAAA61JREFUWMPNWYmSpCAMZXcJV7j//2MXUGxEbRtrdptUzYw1FSEvx0tAQiYT7x+/aiSZUyCs\n",
       "D5o5BtQMvczDlJh4hcGpJiTEUZfMGCtDRX3IWchwdIHg5wMlq6dZzBFTMLqAHkzY/yAi6vWJ5hiZ\n",
       "KJ67ZRoJ1SITXfpt4xO/TBYqvQXKRJu9HojVw46BuUCxFyNjMs0rSdx4n6NzgaLQ9FEAoSXwB+FO\n",
       "74Sf6OU/lH2jvOAVRYwhUGxMpym6zm7Z+OUS8w94IZTZSKDHzfhUiUTXBqfx2yWlxt9Bot3yZ6Ny\n",
       "iE2AXiH7kqgPvOpRJQk9KKZfZWQzh3pnsmj1bZ6I7LYJIZjTSCVQ+OpUOToRsyj3dVB3HcYcq34F\n",
       "JQnf0s/EzBqykA5+2OZ4+GC+59f6xS5wcPDhYszbEUhf1JRVrMFbnMNZ8cLFSlYBStb0acduFMpe\n",
       "5EKfZQ/6bIg8MLq/ZYUzUDQXWcsHZcQiuZrgsKKxjrH0X8ht3ZnN6G2BK4Vu+92GC0mpHMl+SFtq\n",
       "YbXrJY0CDVV2kUpBQXOoTecXYB3PWG2ybrHZmw10HdAuFTpQsU2asvsyfVN7Deq8OeMFpTMu8ABK\n",
       "ByLWZDAMZBA1JxfeX2x2294A0rxR6EBV/aXA3OuEofxo+tGrPoXGNxPWkn6JJORS2kaJdXh/RbjY\n",
       "zFjFAMoQYG8UOlCrviwU+yf9+HWH/gRobtmPwQWoFBImeufY2syzZUKViDU2MykV383P4Y1CB2rV\n",
       "XzRtcxakvYnxtqkoez4m5cFBij6Nq5NynpfLC6GKZ7NFKRAa/GYzTU9MvlHoQK36JRZYY5INiP0E\n",
       "Tm8PrUYiN8eBNq2GGCoWXhf2Zt0tuRB9Ln+5yy4rXF0sp07GfqnQgVr1ZeKs378yc/kL9iPYdhWD\n",
       "9GzE4Q53Y9LpXNwtTHWKHs856cSuZFzmAZ25K5WIxwuFM1BVn7QzJzvpU8TtiSDcTk3n4no+4RIs\n",
       "sFJoaGtvdcGlEkrHUpEjJKRb2eWocMp+Vb9tJuDc0WS7d3F8OGCHd1kMa8ns9r1TuO79xN7xwH5O\n",
       "4g9vUO6nrd6uT69B8PQ8d/tW62P38NRg4+Bdzcc+OAHl77Npd2cSJAB7kIHsn92ns4eZY5vnNHeb\n",
       "OHxDdpi+vi4QOtaIw5d4MNkNWXaz2GWRicMnVzrfFwIfdl2KD9M6zPiFamsRhZjZKK1rqicElY8J\n",
       "CyheP1INvW3JjKLV4muZ8OAoiaInc4oW9bTqRk00de7/C21fKxdG84Q7AAAAAElFTkSuQmCC\n",
       "\" style=\"display:inline;vertical-align:middle;\" /></a><br>(see <a class=\"ProveItLink\" href=\"../__pv_it/131e3622871947c4bef885bcf00d46fe97be19640/dependencies.ipynb\">dependencies</a>)<br>"
      ],
      "text/plain": [
       "divRealClosure: forall_{a in Reals, b in Reals | b != 0} ((a / b) in Reals)"
      ]
     },
     "execution_count": 2,
     "metadata": {},
     "output_type": "execute_result"
    }
   ],
   "source": [
    "%proving divRealClosure presuming []"
   ]
  },
  {
   "cell_type": "code",
   "execution_count": null,
   "metadata": {},
   "outputs": [],
   "source": []
  }
 ],
 "metadata": {
  "kernelspec": {
   "display_name": "Python 3",
   "language": "python",
   "name": "python3"
  }
 },
 "nbformat": 4,
 "nbformat_minor": 0
}
