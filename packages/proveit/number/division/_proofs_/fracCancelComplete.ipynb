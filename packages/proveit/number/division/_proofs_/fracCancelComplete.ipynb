{
 "cells": [
  {
   "cell_type": "markdown",
   "metadata": {},
   "source": [
    "Proof of <a class=\"ProveItLink\" href=\"../../../_context_.ipynb\">proveit</a>.<a class=\"ProveItLink\" href=\"../../_context_.ipynb\">number</a>.<a class=\"ProveItLink\" href=\"../_context_.ipynb\">division</a>.<a class=\"ProveItLink\" href=\"../_theorems_.ipynb#fracCancelComplete\">fracCancelComplete</a> theorem\n",
    "========"
   ]
  },
  {
   "cell_type": "code",
   "execution_count": 1,
   "metadata": {},
   "outputs": [],
   "source": [
    "import proveit\n",
    "context = proveit.Context('..') # the theorem's context is in the parent directory"
   ]
  },
  {
   "cell_type": "code",
   "execution_count": 2,
   "metadata": {},
   "outputs": [
    {
     "name": "stdout",
     "output_type": "stream",
     "text": [
      "Beginning proof of fracCancelComplete\n",
      "Recorded 'presuming' information\n",
      "Presuming previous theorems (applied transitively).\n"
     ]
    },
    {
     "data": {
      "text/html": [
       "<strong id=\"fracCancelComplete\">fracCancelComplete:</strong> <a class=\"ProveItLink\" href=\"../__pv_it/878f723cf27dc9c220b492388a7da84311fe27580/expr.ipynb\"><img src=\"data:image/png;base64,iVBORw0KGgoAAAANSUhEUgAAALMAAAAmCAMAAAC4YVoxAAAAOVBMVEX///8QEBAoKCgUFBQNDQ2I\n",
       "iIhmZma6urrMzMxUVFQiIiJERETc3Nzu7u6qqqp2dnaYmJgyMjIAAAAMeWbTAAAAAXRSTlMAQObY\n",
       "ZgAAAsxJREFUWMPFWAcS4yAMxHcnqqj/f+xRXHCJE+OmmcxkEgsvi7QSIuRpc67RUQvykoHvEQAI\n",
       "ZGDhd1fm34HMOl0g28i4BCKP4IBXmNYdL19shG6DJgyPuHv3AmYxMJXYVuqoO/an9KTxUNMaoH3P\n",
       "z5kXsw3whk0/TTRONBtNIKS0OojBw8OY6SgSLBiiImY8mlSuexhzB1N9ANBAj9cXDCySfb5A/f4+\n",
       "fsG+o7BbM4bK3eHtQqOjqSRORJJxEElUt4ezbGszrKjUImfuQO9E+F0mVfMBTZhN0h5ndTKUt6dg\n",
       "oBdg5iFxG1Qyae/HDBdg1iFJhcjZrA40K2w3/nLUWVhxUN62Y9ZXRj9gLjtn6W+90xMaZYUUFUl7\n",
       "cUkTAy4CNmIlde4CnknIZKRIhtV62lhK46+aq+jBvf0JM2akMp3EsjUokdi/uLKjmPMJWFdwz59T\n",
       "BnV61GFGa37DnPYXoyCR3ZnPmM/wnDGjJ7w/SAuUQwpwNsQT46ZUL9zGPHqUp+3Uckp3MDZm8Sw+\n",
       "5mAhT6EoaRW7rFhnZF3SnXar7Kwwjx4iq8+/+HF9xyhhmYNX6MawczNUKD5cXzSdmkazh5nPLjxg\n",
       "qta+W0IMrXIKK32eK2dpcbnMtCkgaDjfwTx65J2qgdHkEpaS2LVdMqjogqdu7GLZEADTNjJ3ZFqe\n",
       "aph0dwNz7yFiDP79kyLRfdANoq6467vFshhiHsRcSPkwkos0f7eb+lx5DDqXD5Nu6DOxV/Try0W0\n",
       "cCwWsLwRNQqTjvmsBN+Mjdqj6FwP2tp1c2GuuMz5vQCDEs+bIrxdLr+lmA7nbxXNa2xj/h6t6vxN\n",
       "3wS8ELP7XuXqC2jDvG5+DT6qPs0HWyVJw7xuoyG432BE2DavI/D0qCDRxE/N60j3wpDR+VP3Fnhl\n",
       "Al2p5/F5HXb4BmYtefO8TktDXjGU2DqvU468ZMgb53V66BP/Ay9mIQnDdN1lAAAAAElFTkSuQmCC\n",
       "\" style=\"display:inline;vertical-align:middle;\" /></a><br>(see <a class=\"ProveItLink\" href=\"../__pv_it/878f723cf27dc9c220b492388a7da84311fe27580/dependencies.ipynb\">dependencies</a>)<br>"
      ],
      "text/plain": [
       "fracCancelComplete: forall_{x in Complexes | x != 0} ((x / x) = 1)"
      ]
     },
     "execution_count": 2,
     "metadata": {},
     "output_type": "execute_result"
    }
   ],
   "source": [
    "%proving fracCancelComplete presuming []"
   ]
  },
  {
   "cell_type": "code",
   "execution_count": null,
   "metadata": {},
   "outputs": [],
   "source": []
  }
 ],
 "metadata": {
  "kernelspec": {
   "display_name": "Python 3",
   "language": "python",
   "name": "python3"
  }
 },
 "nbformat": 4,
 "nbformat_minor": 0
}
