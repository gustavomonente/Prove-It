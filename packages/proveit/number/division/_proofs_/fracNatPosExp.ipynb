{
 "cells": [
  {
   "cell_type": "markdown",
   "metadata": {},
   "source": [
    "Proof of <a class=\"ProveItLink\" href=\"../../../_context_.ipynb\">proveit</a>.<a class=\"ProveItLink\" href=\"../../_context_.ipynb\">number</a>.<a class=\"ProveItLink\" href=\"../_context_.ipynb\">division</a>.<a class=\"ProveItLink\" href=\"../_theorems_.ipynb#fracNatPosExp\">fracNatPosExp</a> theorem\n",
    "========"
   ]
  },
  {
   "cell_type": "code",
   "execution_count": 1,
   "metadata": {},
   "outputs": [],
   "source": [
    "import proveit\n",
    "context = proveit.Context('..') # the theorem's context is in the parent directory"
   ]
  },
  {
   "cell_type": "code",
   "execution_count": 2,
   "metadata": {},
   "outputs": [
    {
     "name": "stdout",
     "output_type": "stream",
     "text": [
      "Beginning proof of fracNatPosExp\n",
      "Recorded 'presuming' information\n",
      "Presuming previous theorems (applied transitively).\n"
     ]
    },
    {
     "data": {
      "text/html": [
       "<strong id=\"fracNatPosExp\">fracNatPosExp:</strong> <a class=\"ProveItLink\" href=\"../__pv_it/95346c957e141718a5b83e528b4f8e5322806f5c0/expr.ipynb\"><img src=\"data:image/png;base64,iVBORw0KGgoAAAANSUhEUgAAATgAAAAyCAMAAAD/TTeKAAAAOVBMVEX///8oKCgUFBQNDQ0QEBCI\n",
       "iIhmZma6urrMzMxUVFQiIiJERETc3Nzu7u6qqqp2dnaYmJgyMjIAAAArQGDrAAAAAXRSTlMAQObY\n",
       "ZgAABX5JREFUaN7dW4mSpSgQZHcBuQ///2MXHA9AStGmjWCI6OmYR78UkqqsokCEOjU8h2bRR81O\n",
       "6Lumef7sOFPcDR0bpZT+irfTCjnqGCH0dx43+YzHMFHTkTj2nQkQfvrITdiFQajfeaDzxQdsSOIq\n",
       "y600EeHX/FsmL+1fQJzGNYHjJLgU7mllqfOXzxySOEmh51OL+o0id/7CykckzlT9Uc3hHzGZ9lE4\n",
       "dxk9S+cXdnTiRGpwilpKcJjcFCdNrGsPML6EKKNn7vxmVmMT59IJTNGT/Pwmw8C6ApGF68L5swUb\n",
       "kDgh0zARLYzKNwGGVSG8A53fpRIxHnFsTsIbXeYiyHMYzusQCu/slM6vZzIycTQdMZbLhNgL+hUA\n",
       "wTn4Je9HJg4nE9PL3ti8kDjPIQgG59AkUdfhiGOzS4kz0UY8Mg93Wmqn4AzhCfwtNy5xJEsKZJik\n",
       "Exw9LcpQD0M43GLtwxEncZ6xEsIUJ09rTJjAEGoG0aRIifMXqfRz4nqhgU+RHUDUZTjBoP3aOSXO\n",
       "ml0x9c+J64UGpV9zj4qbuwwn3MPfYwlxaltDJTu4ai80MDaQDihUXMtow9Ojxm2mcRjLTzSuExq4\n",
       "we8BK+T1M9S9vUfinNWxKdElOHRCu3eWH7Rrf2fw4sw8i6qzjE3YLsR1QmvKRl4TR651FAxrs8yI\n",
       "48uUZeOQ7A1xz9AeNvukNm590mgTMze8Yp8RN0VQ7VuV9YY4EG1K93pogjrClxfbsqSyRLTHoYK6\n",
       "Iw70FizyBDj+l4BgTNB4iknWvPmOOBjNpl+VUAeibJHKoNLn/TbPIt5cb/eh2dQgGiRQ4Jy4WDqp\n",
       "iLk2ltLQZSSyYaGpbiMOQAsB1wDEZR1qoUtEizybF587+Du7Cc3txCmPWOWkUhql49CNI5EuG02D\n",
       "UhF+zBVxdbQ4IAUQl3fovc6DzY9cNdM43uyqGnZVUbhqkHL+R3OSI7Fp590wwxTZosKtxR1oSFPC\n",
       "PTvSR8J1hbisY7JHvUy4c3DoEHT0dVS94LUIDoGaLZdOjsQOwTYsuKpjzcTtaFqwpL5FhEbHHYWE\n",
       "uLWDL3nMf+HHrd86l3ZJnzzOvvRkzMvqyLoGyZGYpilxwdw2Bb8nbo/nlMbQkhVwfIW4tIMYdFgc\n",
       "JucEuMdlG8yveif4GfnOYRnQZhb7kRgTiwHESUXilNsEv4G4DS1q1HFuFM/CKa8Ql3RouXlTRDvP\n",
       "wBQfaYlfbFGkv4JwoI4m6neqxx1HYjyzODSxdflZcz1OR7ORTq/jiOM55D4hbu3gQcL//ScKuQOj\n",
       "Kjvpz5rZPrqsZHENAuiFN/m5MKLtSMzuRLgJrZnVw0Jm0Eo2Ty6WSgIFQcmcrEXVo0PtqxU5qORx\n",
       "51RhFaRHl5WKuwCFpnneUGIoiUuPxOT6V5PwC3P8MXETJ4bETJBFS2M8vdWWRtW9Qx4TItbW7Ef4\n",
       "UpB0Ic5NYdWdIRo2ZElMvyydk1Xjnm3ygcU66Uztj+4rA7TIgK0oxblJ5HgN4q6qlKbfX505nI+h\n",
       "asQ1bJdL5fY8KJtBDy8rZQcyO8S6NPAokrr9V8Sdrb9CnGsoUhZJlp69XoLQs8tKOkHZIdCRCkCZ\n",
       "MfmcuPYiy7Mc7I/Mhwk9vKxE/Bli7cFNxcABr0BkIrf4lX5x2f0YbQGBYe6T08EBicvz+iUFm14c\n",
       "RBxbmByC+LYC54jXvFInX1KHV9XNPV3IINRFJkjGvuaVx9Vofhq/OfqOBYgThBamUV1HvMqanrRz\n",
       "B92lvm1KqBOEdFfbjcGvsmYbJk2fXPstmGMlhL4qveQ72iGv63uKvm8G6+GJU1++/bSZ9t/wgggy\n",
       "4nPieGHlYxKX1EM/aq7cIbJBX7vk5FPefve1y09f9KXfvuibGcSfF33/B1rgQ8YQ5vWPAAAAAElF\n",
       "TkSuQmCC\n",
       "\" style=\"display:inline;vertical-align:middle;\" /></a><br>(see <a class=\"ProveItLink\" href=\"../__pv_it/95346c957e141718a5b83e528b4f8e5322806f5c0/dependencies.ipynb\">dependencies</a>)<br>"
      ],
      "text/plain": [
       "fracNatPosExp: forall_{n in NaturalsPos} [forall_{a, b | b != 0} ((a^{n} / b^{n}) = (a / b)^{n})]"
      ]
     },
     "execution_count": 2,
     "metadata": {},
     "output_type": "execute_result"
    }
   ],
   "source": [
    "%proving fracNatPosExp presuming []"
   ]
  },
  {
   "cell_type": "code",
   "execution_count": null,
   "metadata": {},
   "outputs": [],
   "source": []
  }
 ],
 "metadata": {
  "kernelspec": {
   "display_name": "Python 3",
   "language": "python",
   "name": "python3"
  }
 },
 "nbformat": 4,
 "nbformat_minor": 0
}
