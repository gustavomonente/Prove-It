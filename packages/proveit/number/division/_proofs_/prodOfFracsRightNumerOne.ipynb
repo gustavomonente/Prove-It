{
 "cells": [
  {
   "cell_type": "markdown",
   "metadata": {},
   "source": [
    "Proof of <a class=\"ProveItLink\" href=\"../../../_context_.ipynb\">proveit</a>.<a class=\"ProveItLink\" href=\"../../_context_.ipynb\">number</a>.<a class=\"ProveItLink\" href=\"../_context_.ipynb\">division</a>.<a class=\"ProveItLink\" href=\"../_theorems_.ipynb#prodOfFracsRightNumerOne\">prodOfFracsRightNumerOne</a> theorem\n",
    "========"
   ]
  },
  {
   "cell_type": "code",
   "execution_count": 1,
   "metadata": {},
   "outputs": [],
   "source": [
    "import proveit\n",
    "context = proveit.Context('..') # the theorem's context is in the parent directory"
   ]
  },
  {
   "cell_type": "code",
   "execution_count": 2,
   "metadata": {},
   "outputs": [
    {
     "name": "stdout",
     "output_type": "stream",
     "text": [
      "Beginning proof of prodOfFracsRightNumerOne\n",
      "Recorded 'presuming' information\n",
      "Presuming previous theorems (applied transitively).\n"
     ]
    },
    {
     "data": {
      "text/html": [
       "<strong id=\"prodOfFracsRightNumerOne\">prodOfFracsRightNumerOne:</strong> <a class=\"ProveItLink\" href=\"../__pv_it/76361c49dc78913c7df9e0d333815d6cb9b116310/expr.ipynb\"><img src=\"data:image/png;base64,iVBORw0KGgoAAAANSUhEUgAAASoAAAAyBAMAAAAZ5oteAAAAMFBMVEX///8QEBCIiIhmZma6urrM\n",
       "zMxUVFQiIiJERETc3Nzu7u6qqqp2dnaYmJgyMjIAAAAcRTyBAAAAAXRSTlMAQObYZgAABTNJREFU\n",
       "WMOtWV1oHFUUPvsz+zOzm+Sh1qJShgSKlGJWSkXUNENFxQfN+qAtiu0aLaIUkypUEZWlD3WbthrR\n",
       "0mCVjlGDJkq2lKqRSpdI+xC1WYtgK61dqIgUDUtqpdnY1js7O5t7Zu7dvWbugeTb2fn2zjdzzz0/\n",
       "dwAkWMLA6LER4aHUDMiy713osXBJeKwHZYkKZjAy7FfhwZIlSaoOuhCZdoP1P1YQHm23HFHqEozY\n",
       "o45XuOfY9oEhRVUshdE1IxX+c2Sa1iZF1VETI1NVVHwKX5Gi6gUa1fZn1k0yVGlz/AGGV7yzSqfu\n",
       "clCCqOQcjZ/Bz/prDFV17Qy/LCSfj1IrL5qSoCqapXEKps37WarOmdwYbCYq4UHvL3zZJoNGE3JM\n",
       "v4JxnfusIJZFx7MSVN3qwlm2qpYG0bEVK56RoGopRuUSW1WwgbtvSqPDTv/urlxB+HWwDCtZquJX\n",
       "uAHK7IQg7XUHiv6T4ByN4flYOY4GDVZcz9RjPfk34X36i4D/uiHWRqPau7LjLH069MTVLvvT67wR\n",
       "RtqHu9CNxPqh6oRnF68qkMXItWnxcq0M31l4YfGqxlMYuXYuLRyXL8GQ5YlZH+FKx9iUKLCAZqGF\n",
       "eH8i7yM35zE2fagCpdFFSE6Nju7z4e3OxDSdoFbxlfUPwOVczk/t4IS8pqGvVdxNLgNsBtjpQ9W0\n",
       "iZG/WO2Uc2LGsvMNqcsB7gYVpSht99O9mPTV8W3YU2lKt4mxbu7jQL/wnV5PKhAIOjFMPbK6qG4w\n",
       "lT/r58e+7YKPB2BjvZL0UPoQtl6zrGwRry4c25WOt/K95rFy9futZAEWow7r1MQoJN8DOFKPHLve\n",
       "NeF0AbQCl9Lnwrptc9dh4vU4URUvPUI+TK5ZkQ5ba/eew+Qrgusy8DKZXZLaHiOry3LlfRf2AqI0\n",
       "nkFPddhP+dXvDakvkr+dT5Ecaj4XNVqsb345bZ8pVJS2ajpKfl5bXXee0QFRbC8fxNjM20WMeDsc\n",
       "IjehwF8AH1ZLkQm78PioP5hVrSejjTnXG8OUWkRIY+SrEo9XS+uVIClE1udyOX3/w7VkX4joyku5\n",
       "3Pb44dr1VMNFsaOngZEfr8SbhIvWFFkeoZQViFTVDFuVNHEDI5CG6u3dodvLfC88iil2pjEw8jOO\n",
       "cEeo/uuUf4lSAhLWQ4nflYbJ+ABE0z0Ax6xzbx+DhD5kxrd8k6Uo9aRbxCgnO9cqr58mpwB2VTu6\n",
       "mR1p5UYI975B6i8r5aon/tgMD+WTyjKTorgnpukEHRUuAbR5XO0Sp6mdgE9hD8Gbc9tr5/JuirPg\n",
       "Sxj5qUm4R0jwGo8J2IJ3wjTemKEyRq71CTt7hDdUER7AG3dJbuFYQah26PAWHVDvW6LYHreM4daI\n",
       "HN5qPC5WbAu45jzCRLgNOukL7+m43Q6AjI4Ykz85udqWc0D3rcrVpe4PlVBPrzrlN6tLdchqrcgY\n",
       "ktalQjdCM6C7evoNptNOecwhj9surAw06dH+h/UYCHtM3NOHM8y9BKDJUZtzL3unYnE7RSmEayGI\n",
       "SpYvnHzJqikQWcu4um1fu2p4Ee6AGJ2GtZSdpdgNPSIfAjvDSWjoid2E8DbooXPP+jMnf+PvQNJk\n",
       "5dUfbjGk7UC6dmtH2rvpUVPJ5dVLtaTYWwwL5BD8WNUP52WIql/QwbUs0kFOqeol268NfFv8Ogoj\n",
       "JfVvVnHCfAvAJEt6CwBfUhgtxlghIMKcQCb5STmiIJRZwHD7GhblFPOHLHIyK0kV9LrQe3nxTkLa\n",
       "mzgIGRi9a80UHUp91vr/H4J9kfqIXbjAAAAAAElFTkSuQmCC\n",
       "\" style=\"display:inline;vertical-align:middle;\" /></a><br>(see <a class=\"ProveItLink\" href=\"../__pv_it/76361c49dc78913c7df9e0d333815d6cb9b116310/dependencies.ipynb\">dependencies</a>)<br>"
      ],
      "text/plain": [
       "prodOfFracsRightNumerOne: forall_{x in Complexes, y in Complexes, z in Complexes} (((x / y) * (1 / z)) = (x / (y * z)))"
      ]
     },
     "execution_count": 2,
     "metadata": {},
     "output_type": "execute_result"
    }
   ],
   "source": [
    "%proving prodOfFracsRightNumerOne presuming []"
   ]
  },
  {
   "cell_type": "code",
   "execution_count": null,
   "metadata": {},
   "outputs": [],
   "source": []
  }
 ],
 "metadata": {
  "kernelspec": {
   "display_name": "Python 3",
   "language": "python",
   "name": "python3"
  }
 },
 "nbformat": 4,
 "nbformat_minor": 0
}
