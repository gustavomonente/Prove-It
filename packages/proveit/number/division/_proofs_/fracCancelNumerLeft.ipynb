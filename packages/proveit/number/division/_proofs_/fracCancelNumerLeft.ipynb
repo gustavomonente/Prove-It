{
 "cells": [
  {
   "cell_type": "markdown",
   "metadata": {},
   "source": [
    "Proof of <a class=\"ProveItLink\" href=\"../../../_context_.ipynb\">proveit</a>.<a class=\"ProveItLink\" href=\"../../_context_.ipynb\">number</a>.<a class=\"ProveItLink\" href=\"../_context_.ipynb\">division</a>.<a class=\"ProveItLink\" href=\"../_theorems_.ipynb#fracCancelNumerLeft\">fracCancelNumerLeft</a> theorem\n",
    "========"
   ]
  },
  {
   "cell_type": "code",
   "execution_count": 1,
   "metadata": {},
   "outputs": [],
   "source": [
    "import proveit\n",
    "context = proveit.Context('..') # the theorem's context is in the parent directory"
   ]
  },
  {
   "cell_type": "code",
   "execution_count": 2,
   "metadata": {},
   "outputs": [
    {
     "name": "stdout",
     "output_type": "stream",
     "text": [
      "Beginning proof of fracCancelNumerLeft\n",
      "Recorded 'presuming' information\n",
      "Presuming previous theorems (applied transitively).\n"
     ]
    },
    {
     "data": {
      "text/html": [
       "<strong id=\"fracCancelNumerLeft\">fracCancelNumerLeft:</strong> <a class=\"ProveItLink\" href=\"../__pv_it/7288d9188c299991b63810b37924c295e801be2f0/expr.ipynb\"><img src=\"data:image/png;base64,iVBORw0KGgoAAAANSUhEUgAAAPsAAAAyCAMAAACtS13oAAAAOVBMVEX///8oKCgUFBQNDQ0QEBCI\n",
       "iIhmZma6urrMzMxUVFQiIiJERETc3Nzu7u6qqqp2dnaYmJgyMjIAAAArQGDrAAAAAXRSTlMAQObY\n",
       "ZgAABAtJREFUaN7NW4myoyAQZHe5b/n/j10G44kiSZRAVVKpZ4u0M9MzHA+hTptjz/RrBOq9OfdU\n",
       "z2zonDp50Dq+b/IW39+jmX8r1zF1g9nNMe5EMI91f2tT9H5HX3F/wK3u88/1OJ/gjmS3Xi9PzG4I\n",
       "EZoRR77mboPuk7o/GZiJxvKSIDl8zf309f7c7Ook5cfRu0iB6e+5+wfC6obGw4kKw2iVuiXekQmk\n",
       "R+60JMIfD3lv6KHLAgeLkk/wm7iTHtWOB3+W+kwcMQzb3MBdnz7ml5X8mUFYsEhF7tp/1q2pd6+f\n",
       "1XT4tDAlxBDqP6FOBQ4D3dypZAz6xS268AKs2jzHRRdydpa+HlKeCY2qDh9lU0/vWasezM5bJd70\n",
       "oMnciwP8dh5jGzqYdwaalp0U87zRkwIIfVDQOpnWtas5AsS4SG9a9VHnuC8mGW5YtUvJxJDhGMDM\n",
       "zfVtcVUo0Yvz8ANXo80mWDgFOXyRQnK3ygkpivqbQUpJg4Kj+Ujc5rWVCGu3rGrX3n2IlamIcn7k\n",
       "vzOOdRRKIcNVNAUfDoxUgBS468RYgmfkRhahVXSN3PWAeGYBr6w2MDSvEyWbcy9BCtzhPcUUA8bH\n",
       "9k6f38T7ZbkuR3MrLV7x6QjlBMSPTVrBuB2zzksLWdo2kKYA2XOfOx3RbiwtACx9rnWtNBePCmfp\n",
       "y+Xj9FAMyR1n6fPGb0bjwFE5+MspZMd97lSkZPovfnzkDvaVJM9xrfL7NJGbCsn43CGZwtBl1mzX\n",
       "xLRh8T0RVYDsuc+djuQsWuyOSV7btNo3mCYOfgmy0ee4TDZSBGnLt5ag0WdB0QuQLN4XRzZqKinh\n",
       "lpyobcXdBJeX+MlQaJEKasiSlF8CjcuQPfdXpyJK0N8/IET+VOd5q/WU/aRJh6iVENLxM1tS0/Tb\n",
       "RfsmhZYcsZSIjiAH3FedTvkt+T49zO+o1Rx2P2kywrNYbSVjqPmSiblDgUzzlJKYIGqUuQPIAfd1\n",
       "p2N+e5F37oimbLSAWkwoZAzm7cuKVOItyp9DivndXk+YaKPi5t0iCuRcuKqTC8fcK27cLqieb8EZ\n",
       "QuGPGlfUQkfYd9fGwNzMVx0HOezZ2xoNWoEKW3DRBDjVAzX+nWP1g+tDnyvWevE434KbLKctovBC\n",
       "ajapjrBd7k1sAj7bgjNhmK+kwqjGfEdYJTukHhPotrrZspNiwZnqTaoc2+de5G5v/JRdcmNSd3ok\n",
       "w5I+96DXSl/aglNi+qpQ3j0W93rCELvZVQtbcFQAoK4C3mO7PXOynDUqbsHBRVrJYY8dOj1y8s7Q\n",
       "6BsF8AprsemWu8bX6i0GyHh1E94dtuuzhcheZ19Y7lKViWqHFRT13OilDrMYwbXLW1usV6jvJh6r\n",
       "Pbo/Qx4t/9j/Dsw69x8mWDH5M+YmmQAAAABJRU5ErkJggg==\n",
       "\" style=\"display:inline;vertical-align:middle;\" /></a><br>(see <a class=\"ProveItLink\" href=\"../__pv_it/7288d9188c299991b63810b37924c295e801be2f0/dependencies.ipynb\">dependencies</a>)<br>"
      ],
      "text/plain": [
       "fracCancelNumerLeft: forall_{x in Complexes, y in Complexes | x != 0} ((x / (x * y)) = (1 / y))"
      ]
     },
     "execution_count": 2,
     "metadata": {},
     "output_type": "execute_result"
    }
   ],
   "source": [
    "%proving fracCancelNumerLeft presuming []"
   ]
  },
  {
   "cell_type": "code",
   "execution_count": null,
   "metadata": {},
   "outputs": [],
   "source": []
  }
 ],
 "metadata": {
  "kernelspec": {
   "display_name": "Python 3",
   "language": "python",
   "name": "python3"
  }
 },
 "nbformat": 4,
 "nbformat_minor": 0
}
