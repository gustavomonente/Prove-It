{
 "cells": [
  {
   "cell_type": "markdown",
   "metadata": {},
   "source": [
    "Context: <a href=\"../_context_.ipynb\" class=\"ProveItLink\">proveit</a>.number\n",
    "========\n",
    "\n",
    "Covers all generic number concepts: sets of numbers (integers, reals, and complexes), number relations (<, $\\leq$, >, $\\geq$), and numeric operations (+, -, $\\times$, /, mod, exp), and operations over numeric functions ($\\sum$, $\\prod$, $\\partial$, $\\nabla$, $\\int$)."
   ]
  },
  {
   "cell_type": "code",
   "execution_count": 1,
   "metadata": {},
   "outputs": [
    {
     "data": {
      "text/html": [
       "<table><tr>\n",
       "<th><a class=\"ProveItLink\" href=\"_common_.ipynb\">common expressions</a></th>\n",
       "<th><a class=\"ProveItLink\" href=\"_axioms_.ipynb\">axioms</a></th>\n",
       "<th><a class=\"ProveItLink\" href=\"_theorems_.ipynb\">theorems</a></th>\n",
       "<th><a class=\"ProveItLink\" href=\"_demonstrations_.ipynb\">demonstrations</a></th>\n",
       "</tr></table>\n",
       "<table>\n",
       "<tr><th><a class=\"ProveItLink\" href=\"sets/_context_.ipynb\">sets</a></th><td>defining standard number sets: integers, reals, complexes, and important subsets of these</td></tr>\n",
       "<tr><th><a class=\"ProveItLink\" href=\"rounding/_context_.ipynb\">rounding</a></th><td>rounding of real numbers, such as round, floor, and ceiling</td></tr>\n",
       "<tr><th><a class=\"ProveItLink\" href=\"absolute_value/_context_.ipynb\">absolute_value</a></th><td>absolute value of reals (and subsets) and norm of complex numbers</td></tr>\n",
       "<tr><th><a class=\"ProveItLink\" href=\"numeral/_context_.ipynb\">numeral</a></th><td>number representions: binary, decimal, hexidecimal</td></tr>\n",
       "<tr><th><a class=\"ProveItLink\" href=\"addition/_context_.ipynb\">addition</a></th><td>adding numbers (repetitive counting)</td></tr>\n",
       "<tr><th><a class=\"ProveItLink\" href=\"negation/_context_.ipynb\">negation</a></th><td>negating numbers (subtraction from zero)</td></tr>\n",
       "<tr><th><a class=\"ProveItLink\" href=\"ordering/_context_.ipynb\">ordering</a></th><td>ordering relations of numbers: <, &leq; >, &geq;</td></tr>\n",
       "<tr><th><a class=\"ProveItLink\" href=\"multiplication/_context_.ipynb\">multiplication</a></th><td>multiplying numbers (repetitive addition)</td></tr>\n",
       "<tr><th><a class=\"ProveItLink\" href=\"division/_context_.ipynb\">division</a></th><td>dividing numbers (inverse of multiplication)</td></tr>\n",
       "<tr><th><a class=\"ProveItLink\" href=\"divisibility/_context_.ipynb\">divisibility</a></th><td>divisibility operations such as x|y to indicate x is a factor of y</td></tr>\n",
       "<tr><th><a class=\"ProveItLink\" href=\"modular/_context_.ipynb\">modular</a></th><td>modular arithmetic (i.e., remainders of division)</td></tr>\n",
       "<tr><th><a class=\"ProveItLink\" href=\"exponentiation/_context_.ipynb\">exponentiation</a></th><td>exponentiating numbers (repetitive multiplication)</td></tr>\n",
       "<tr><th><a class=\"ProveItLink\" href=\"summation/_context_.ipynb\">summation</a></th><td>add function evaluation instances: &sum;</td></tr>\n",
       "<tr><th><a class=\"ProveItLink\" href=\"product/_context_.ipynb\">product</a></th><td>multiply function evaluation instances: &prod;</td></tr>\n",
       "<tr><th><a class=\"ProveItLink\" href=\"differentiation/_context_.ipynb\">differentiation</a></th><td>rates of change; calculus: &part;, &nabla;, etc.</td></tr>\n",
       "<tr><th><a class=\"ProveItLink\" href=\"integration/_context_.ipynb\">integration</a></th><td>summation over infinitesimals, inverse of differentiation: &int;</td></tr>\n",
       "</table>\n"
      ],
      "text/plain": [
       "<IPython.core.display.HTML object>"
      ]
     },
     "metadata": {},
     "output_type": "display_data"
    }
   ],
   "source": [
    "import proveit\n",
    "%context # toggles between interactive and static modes"
   ]
  },
  {
   "cell_type": "code",
   "execution_count": null,
   "metadata": {},
   "outputs": [],
   "source": []
  }
 ],
 "metadata": {
  "kernelspec": {
   "display_name": "Python 3",
   "language": "python",
   "name": "python3"
  }
 },
 "nbformat": 4,
 "nbformat_minor": 0
}
