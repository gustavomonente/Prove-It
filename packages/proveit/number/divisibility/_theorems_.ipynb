{
 "cells": [
  {
   "cell_type": "markdown",
   "metadata": {},
   "source": [
    "Theorems for context <a class=\"ProveItLink\" href=\"_context_.ipynb\">proveit.number.divisibility</a>\n",
    "========"
   ]
  },
  {
   "cell_type": "code",
   "execution_count": null,
   "metadata": {},
   "outputs": [],
   "source": [
    "import proveit\n",
    "# Automation is not needed when building axiom expressions:\n",
    "proveit.defaults.automation = False # This will speed things up.\n",
    "from proveit._common_ import a, b, c, m, n\n",
    "from proveit.logic import Booleans, Equals, InSet, Forall, NotEquals, Or\n",
    "from proveit.number import zero, one, Integers\n",
    "from proveit.number import Add, Divides, GCD, Mult, Neg, subtract\n",
    "# the context is in the current directory:\n",
    "context = proveit.Context('.') # adds context root to sys.path if necessary"
   ]
  },
  {
   "cell_type": "code",
   "execution_count": null,
   "metadata": {},
   "outputs": [],
   "source": [
    "%begin theorems"
   ]
  },
  {
   "cell_type": "code",
   "execution_count": null,
   "metadata": {},
   "outputs": [],
   "source": [
    "def non_zero_conditions(non_zero_vars):\n",
    "    temp_list = [NotEquals(_i, zero) for _i in non_zero_vars]\n",
    "    return temp_list"
   ]
  },
  {
   "cell_type": "markdown",
   "metadata": {},
   "source": [
    "#### Fundamental InBool theorem: a Divides(m,n) claim is Boolean."
   ]
  },
  {
   "cell_type": "code",
   "execution_count": null,
   "metadata": {},
   "outputs": [],
   "source": [
    "# Proven\n",
    "dividesInBool = Forall(\n",
    "        (m,n),\n",
    "        InSet(Divides(m, n), Booleans),\n",
    "        domain=Integers,\n",
    "        conditions=non_zero_conditions([m]))"
   ]
  },
  {
   "cell_type": "markdown",
   "metadata": {},
   "source": [
    "#### Divides is Transitive"
   ]
  },
  {
   "cell_type": "code",
   "execution_count": null,
   "metadata": {},
   "outputs": [],
   "source": [
    "dividesTransitivity = Forall(\n",
    "        (a, b, c),\n",
    "        Divides(a, c),\n",
    "        domain = Integers,\n",
    "        conditions=[*non_zero_conditions([a, b]),\n",
    "                   Divides(a, b), Divides(b, c)])"
   ]
  },
  {
   "cell_type": "markdown",
   "metadata": {},
   "source": [
    "#### Divides is Reflexive"
   ]
  },
  {
   "cell_type": "code",
   "execution_count": null,
   "metadata": {},
   "outputs": [],
   "source": [
    "dividesReflexivity = Forall(\n",
    "        a,\n",
    "        Divides(a, a),\n",
    "        domain=Integers,\n",
    "        conditions=non_zero_conditions([a]))"
   ]
  },
  {
   "cell_type": "markdown",
   "metadata": {},
   "source": [
    "#### Divides is Disjunctive Anti-Symmetric"
   ]
  },
  {
   "cell_type": "code",
   "execution_count": null,
   "metadata": {},
   "outputs": [],
   "source": [
    "dividesAntiSymmetry = Forall(\n",
    "        (a, b),\n",
    "        Or(Equals(a, b), Equals(a, Neg(b))),\n",
    "        domain=Integers,\n",
    "        conditions=[*non_zero_conditions([a, b]), Divides(a, b), Divides(b, a)])"
   ]
  },
  {
   "cell_type": "markdown",
   "metadata": {},
   "source": [
    "#### If $a|b$ and $a|c$, then $a|(b±c)$"
   ]
  },
  {
   "cell_type": "code",
   "execution_count": null,
   "metadata": {},
   "outputs": [],
   "source": [
    "dividesSum = Forall(\n",
    "        (a, b, c),\n",
    "        Divides(a, Add(b, c)),\n",
    "        domain=Integers,\n",
    "        conditions=[*non_zero_conditions([a]), Divides(a, b), Divides(a, c)])"
   ]
  },
  {
   "cell_type": "code",
   "execution_count": null,
   "metadata": {},
   "outputs": [],
   "source": [
    "dividesDifference = Forall(\n",
    "        (a, b, c),\n",
    "        Divides(a, subtract(b, c)),\n",
    "        domain=Integers,\n",
    "        conditions=[*non_zero_conditions([a]), Divides(a, b), Divides(a, c)])"
   ]
  },
  {
   "cell_type": "code",
   "execution_count": null,
   "metadata": {},
   "outputs": [],
   "source": [
    "euclidsLemma = Forall(\n",
    "        (a, b, c),\n",
    "        Divides(a, c),\n",
    "        domain=Integers,\n",
    "        conditions=[*non_zero_conditions([a]),\n",
    "                    Divides(a, Mult(b, c)), Equals(GCD(a, b), one)])"
   ]
  },
  {
   "cell_type": "code",
   "execution_count": null,
   "metadata": {},
   "outputs": [],
   "source": [
    "nonZeroIntDividesZero = Forall(\n",
    "        n,\n",
    "        Divides(n, zero),\n",
    "        domain=Integers,\n",
    "        conditions=non_zero_conditions([n]))"
   ]
  },
  {
   "cell_type": "code",
   "execution_count": null,
   "metadata": {},
   "outputs": [],
   "source": [
    "%end theorems"
   ]
  }
 ],
 "metadata": {
  "kernelspec": {
   "display_name": "Python 3",
   "language": "python",
   "name": "python3"
  }
 },
 "nbformat": 4,
 "nbformat_minor": 0
}
