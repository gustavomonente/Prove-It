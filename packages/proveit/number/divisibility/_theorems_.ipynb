{
 "cells": [
  {
   "cell_type": "markdown",
   "metadata": {},
   "source": [
    "Theorems (or conjectures) for the theory of <a class=\"ProveItLink\" href=\"_theory_.ipynb\">proveit.number.divisibility</a>\n",
    "========"
   ]
  },
  {
   "cell_type": "code",
   "execution_count": null,
   "metadata": {},
   "outputs": [],
   "source": [
    "import proveit\n",
    "# Prepare this notebook for defining the theorems of a theory:\n",
    "%theorems_notebook # Keep this at the top following 'import proveit'.\n",
    "from proveit._common_ import a, b, c, k, m, n, p, x, y, z\n",
    "from proveit.logic import And, Booleans, Equals, InSet, Forall, NotEquals, Not, Or\n",
    "from proveit.number import zero, one, two, Complexes, Integers, NaturalsPos\n",
    "from proveit.number import Add, Divides, Exp, GCD, Greater, Mult, Neg, subtract"
   ]
  },
  {
   "cell_type": "code",
   "execution_count": null,
   "metadata": {},
   "outputs": [],
   "source": [
    "%begin theorems"
   ]
  },
  {
   "cell_type": "code",
   "execution_count": null,
   "metadata": {},
   "outputs": [],
   "source": [
    "def non_zero_conditions(non_zero_vars):\n",
    "    temp_list = [NotEquals(_i, zero) for _i in non_zero_vars]\n",
    "    return temp_list"
   ]
  },
  {
   "cell_type": "markdown",
   "metadata": {},
   "source": [
    "#### Fundamental InBool theorem: a Divides(m,n) claim is Boolean."
   ]
  },
  {
   "cell_type": "code",
   "execution_count": null,
   "metadata": {},
   "outputs": [],
   "source": [
    "# Proven\n",
    "dividesInBool = Forall(\n",
    "        (x, y),\n",
    "        InSet(Divides(x, y), Booleans))"
   ]
  },
  {
   "cell_type": "markdown",
   "metadata": {},
   "source": [
    "#### Divides is Transitive"
   ]
  },
  {
   "cell_type": "code",
   "execution_count": null,
   "metadata": {},
   "outputs": [],
   "source": [
    "dividesTransitivity = Forall(\n",
    "        (x, y, z),\n",
    "        Divides(x, z),\n",
    "        conditions=[Divides(x, y), Divides(y, z)])"
   ]
  },
  {
   "cell_type": "markdown",
   "metadata": {},
   "source": [
    "#### Divides is Reflexive"
   ]
  },
  {
   "cell_type": "code",
   "execution_count": null,
   "metadata": {},
   "outputs": [],
   "source": [
    "dividesReflexivity = Forall(\n",
    "        x,\n",
    "        Divides(x, x),\n",
    "        domain=Complexes,\n",
    "        conditions=non_zero_conditions([x]))"
   ]
  },
  {
   "cell_type": "markdown",
   "metadata": {},
   "source": [
    "#### Divides is Disjunctive Anti-Symmetric"
   ]
  },
  {
   "cell_type": "code",
   "execution_count": null,
   "metadata": {},
   "outputs": [],
   "source": [
    "dividesAntiSymmetry = Forall(\n",
    "        (x, y),\n",
    "        Or(Equals(x, y), Equals(x, Neg(y))),\n",
    "        conditions=[Divides(x, y), Divides(y, x)])"
   ]
  },
  {
   "cell_type": "markdown",
   "metadata": {},
   "source": [
    "#### If $a|b$ and $a|c$, then $a|(b±c)$"
   ]
  },
  {
   "cell_type": "code",
   "execution_count": null,
   "metadata": {},
   "outputs": [],
   "source": [
    "dividesSum = Forall(\n",
    "        (x, y, z),\n",
    "        Divides(x, Add(y, z)),\n",
    "        conditions=[Divides(x, y), Divides(x, z)])"
   ]
  },
  {
   "cell_type": "code",
   "execution_count": null,
   "metadata": {},
   "outputs": [],
   "source": [
    "dividesDifference = Forall(\n",
    "        (x, y, z),\n",
    "        Divides(x, subtract(y, z)),\n",
    "        conditions=[Divides(x, y), Divides(x, z)])"
   ]
  },
  {
   "cell_type": "code",
   "execution_count": null,
   "metadata": {},
   "outputs": [],
   "source": [
    "# We need to constrain to integers in the case of Euclid's Lemma\n",
    "euclidsLemma = Forall(\n",
    "        (x, y, z),\n",
    "        Divides(x, z),\n",
    "        domain=Integers,\n",
    "        conditions=[Divides(x, Mult(y, z)), Equals(GCD(x, y), one)])"
   ]
  },
  {
   "cell_type": "code",
   "execution_count": null,
   "metadata": {},
   "outputs": [],
   "source": [
    "nonZeroDividesZero = Forall(\n",
    "        x,\n",
    "        Divides(x, zero),\n",
    "        domain=Complexes,\n",
    "        conditions=non_zero_conditions([x]))"
   ]
  },
  {
   "cell_type": "code",
   "execution_count": null,
   "metadata": {},
   "outputs": [],
   "source": [
    "# Here the restriction of y to Integers is related to the axiomatic def of Divides\n",
    "# x|y = (y/x in Integers). Thus x|xy = (xy/x = y in Integers)\n",
    "leftFactorDivisibility = Forall(\n",
    "    (x, y),\n",
    "    Divides(x, Mult(x, y)),\n",
    "    domains=(Complexes, Integers),\n",
    "    condition=NotEquals(x, zero))"
   ]
  },
  {
   "cell_type": "code",
   "execution_count": null,
   "metadata": {},
   "outputs": [],
   "source": [
    "rightFactorDivisibility = Forall(\n",
    "    (x, y),\n",
    "    Divides(x, Mult(y, x)),\n",
    "    domains=(Complexes, Integers),\n",
    "    condition=NotEquals(x, zero))"
   ]
  },
  {
   "cell_type": "code",
   "execution_count": null,
   "metadata": {},
   "outputs": [],
   "source": [
    "# later generalize those binary versions to a1,..,ai, b, c1,…,cj ?"
   ]
  },
  {
   "cell_type": "code",
   "execution_count": null,
   "metadata": {},
   "outputs": [],
   "source": [
    "# This can be generalized to any prime number. \n",
    "even__if__power_is_even = Forall(\n",
    "    (a, n), Divides(two, a), domain=Integers,\n",
    "    conditions = [Divides(two, Exp(a, n))])"
   ]
  },
  {
   "cell_type": "code",
   "execution_count": null,
   "metadata": {},
   "outputs": [],
   "source": [
    "# might not need explicit restrictions here on k and a\n",
    "common_exponent_elimination = (\n",
    "    Forall(\n",
    "    (k, a, n),\n",
    "    Divides(k, a),\n",
    "    domains = [Integers, Integers, NaturalsPos],\n",
    "    conditions = [Divides(Exp(k, n), Exp(a, n))]))"
   ]
  },
  {
   "cell_type": "code",
   "execution_count": null,
   "metadata": {},
   "outputs": [],
   "source": [
    "common_exponent_introduction = (\n",
    "    Forall(\n",
    "    (k, a, n),\n",
    "    Divides(Exp(k, n), Exp(a, n)),\n",
    "    domains = [Integers, Integers, NaturalsPos],\n",
    "    conditions = [Divides(k, a)]))"
   ]
  },
  {
   "cell_type": "code",
   "execution_count": null,
   "metadata": {},
   "outputs": [],
   "source": [
    "common_factor_elimination = (\n",
    "       Forall((a, b, k),\n",
    "              Divides(a,b),\n",
    "              domain=Complexes,\n",
    "              conditions=[Divides(Mult(k,a), Mult(k,b)), NotEquals(k, zero)]))"
   ]
  },
  {
   "cell_type": "markdown",
   "metadata": {},
   "source": [
    "### GCD Theorems"
   ]
  },
  {
   "cell_type": "code",
   "execution_count": null,
   "metadata": {},
   "outputs": [],
   "source": [
    "# Defining/interpreting GCD(a,b)=1.\n",
    "# Somewhat opaque because we are not explicitly restricting p <= a, p <= b\n",
    "# BUT if p > a then p|a will be FALSE (b/c a/p will not be an integer)\n",
    "GCD_one_def = Forall(\n",
    "    (a, b),\n",
    "    Forall(p,\n",
    "           Not(And(Divides(p, a), Divides(p, b))),\n",
    "           domain=NaturalsPos,\n",
    "           condition=Greater(p, one)),\n",
    "    domain=NaturalsPos,\n",
    "    condition = Equals(GCD(a, b), one))"
   ]
  },
  {
   "cell_type": "code",
   "execution_count": null,
   "metadata": {},
   "outputs": [],
   "source": [
    "%end theorems"
   ]
  }
 ],
 "metadata": {
  "kernelspec": {
   "display_name": "Python 3",
   "language": "python",
   "name": "python3"
  }
 },
 "nbformat": 4,
 "nbformat_minor": 0
}
