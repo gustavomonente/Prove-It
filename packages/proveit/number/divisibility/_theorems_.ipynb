{
 "cells": [
  {
   "cell_type": "markdown",
   "metadata": {},
   "source": [
    "Theorems for context <a class=\"ProveItLink\" href=\"_context_.ipynb\">proveit.number.divisibility</a>\n",
    "========"
   ]
  },
  {
   "cell_type": "code",
   "execution_count": null,
   "metadata": {},
   "outputs": [],
   "source": [
    "import proveit\n",
    "# Automation is not needed when building axiom expressions:\n",
    "proveit.defaults.automation = False # This will speed things up.\n",
    "from proveit._common_ import a, b, c, m, n, x, y, z\n",
    "from proveit.logic import Booleans, Equals, InSet, Forall, NotEquals, Or\n",
    "from proveit.number import zero, one, Complexes, Integers\n",
    "from proveit.number import Add, Divides, GCD, Mult, Neg, subtract\n",
    "# the context is in the current directory:\n",
    "context = proveit.Context('.') # adds context root to sys.path if necessary"
   ]
  },
  {
   "cell_type": "code",
   "execution_count": null,
   "metadata": {},
   "outputs": [],
   "source": [
    "%begin theorems"
   ]
  },
  {
   "cell_type": "code",
   "execution_count": null,
   "metadata": {},
   "outputs": [],
   "source": [
    "def non_zero_conditions(non_zero_vars):\n",
    "    temp_list = [NotEquals(_i, zero) for _i in non_zero_vars]\n",
    "    return temp_list"
   ]
  },
  {
   "cell_type": "markdown",
   "metadata": {},
   "source": [
    "#### Fundamental InBool theorem: a Divides(m,n) claim is Boolean."
   ]
  },
  {
   "cell_type": "code",
   "execution_count": null,
   "metadata": {},
   "outputs": [],
   "source": [
    "# Proven\n",
    "dividesInBool = Forall(\n",
    "        (x, y),\n",
    "        InSet(Divides(x, y), Booleans))"
   ]
  },
  {
   "cell_type": "markdown",
   "metadata": {},
   "source": [
    "#### Divides is Transitive"
   ]
  },
  {
   "cell_type": "code",
   "execution_count": null,
   "metadata": {},
   "outputs": [],
   "source": [
    "dividesTransitivity = Forall(\n",
    "        (x, y, z),\n",
    "        Divides(x, z),\n",
    "        conditions=[Divides(x, y), Divides(y, z)])"
   ]
  },
  {
   "cell_type": "markdown",
   "metadata": {},
   "source": [
    "#### Divides is Reflexive"
   ]
  },
  {
   "cell_type": "code",
   "execution_count": null,
   "metadata": {},
   "outputs": [],
   "source": [
    "dividesReflexivity = Forall(\n",
    "        x,\n",
    "        Divides(x, x),\n",
    "        domain=Complexes,\n",
    "        conditions=non_zero_conditions([x]))"
   ]
  },
  {
   "cell_type": "markdown",
   "metadata": {},
   "source": [
    "#### Divides is Disjunctive Anti-Symmetric"
   ]
  },
  {
   "cell_type": "code",
   "execution_count": null,
   "metadata": {},
   "outputs": [],
   "source": [
    "dividesAntiSymmetry = Forall(\n",
    "        (x, y),\n",
    "        Or(Equals(x, y), Equals(x, Neg(y))),\n",
    "        conditions=[Divides(x, y), Divides(y, x)])"
   ]
  },
  {
   "cell_type": "markdown",
   "metadata": {},
   "source": [
    "#### If $a|b$ and $a|c$, then $a|(b±c)$"
   ]
  },
  {
   "cell_type": "code",
   "execution_count": null,
   "metadata": {},
   "outputs": [],
   "source": [
    "dividesSum = Forall(\n",
    "        (x, y, z),\n",
    "        Divides(x, Add(y, z)),\n",
    "        conditions=[Divides(x, y), Divides(x, z)])"
   ]
  },
  {
   "cell_type": "code",
   "execution_count": null,
   "metadata": {},
   "outputs": [],
   "source": [
    "dividesDifference = Forall(\n",
    "        (x, y, z),\n",
    "        Divides(x, subtract(y, z)),\n",
    "        conditions=[Divides(x, y), Divides(x, z)])"
   ]
  },
  {
   "cell_type": "code",
   "execution_count": null,
   "metadata": {},
   "outputs": [],
   "source": [
    "# We need to constrain to integers in the case of Euclid's Lemma\n",
    "euclidsLemma = Forall(\n",
    "        (x, y, z),\n",
    "        Divides(x, z),\n",
    "        domain=Integers,\n",
    "        conditions=[Divides(x, Mult(y, z)), Equals(GCD(x, y), one)])"
   ]
  },
  {
   "cell_type": "code",
   "execution_count": null,
   "metadata": {},
   "outputs": [],
   "source": [
    "nonZeroDividesZero = Forall(\n",
    "        x,\n",
    "        Divides(x, zero),\n",
    "        domain=Complexes,\n",
    "        conditions=non_zero_conditions([x]))"
   ]
  },
  {
   "cell_type": "code",
   "execution_count": null,
   "metadata": {},
   "outputs": [],
   "source": [
    "leftFactorDivisibility = Forall(\n",
    "    (x, y),\n",
    "    Divides(x, Mult(x, y)),\n",
    "    domains=(Complexes, Integers),\n",
    "    condition=NotEquals(x, zero))"
   ]
  },
  {
   "cell_type": "code",
   "execution_count": null,
   "metadata": {},
   "outputs": [],
   "source": [
    "rightFactorDivisibility = Forall(\n",
    "    (x, y),\n",
    "    Divides(x, Mult(y, x)),\n",
    "    domains=(Complexes, Integers),\n",
    "    condition=NotEquals(x, zero))"
   ]
  },
  {
   "cell_type": "code",
   "execution_count": null,
   "metadata": {},
   "outputs": [],
   "source": [
    "# later generalize those binary versions to a1,..,ai, b, c1,…,cj ?"
   ]
  },
  {
   "cell_type": "code",
   "execution_count": null,
   "metadata": {},
   "outputs": [],
   "source": [
    "%end theorems"
   ]
  }
 ],
 "metadata": {
  "kernelspec": {
   "display_name": "Python 3",
   "language": "python",
   "name": "python3"
  }
 },
 "nbformat": 4,
 "nbformat_minor": 0
}
