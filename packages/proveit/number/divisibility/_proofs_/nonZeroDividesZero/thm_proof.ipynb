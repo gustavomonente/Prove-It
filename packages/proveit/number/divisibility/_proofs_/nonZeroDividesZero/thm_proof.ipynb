{
 "cells": [
  {
   "cell_type": "markdown",
   "metadata": {},
   "source": [
    "Proof of <a class=\"ProveItLink\" href=\"../../../../_theory_.ipynb\">proveit</a>.<a class=\"ProveItLink\" href=\"../../../_theory_.ipynb\">number</a>.<a class=\"ProveItLink\" href=\"../../_theory_.ipynb\">divisibility</a>.<a class=\"ProveItLink\" href=\"../../_theorems_.ipynb#nonZeroDividesZero\">nonZeroDividesZero</a> theorem\n",
    "========"
   ]
  },
  {
   "cell_type": "code",
   "execution_count": null,
   "metadata": {},
   "outputs": [],
   "source": [
    "import proveit\n",
    "from proveit import defaults\n",
    "from proveit._common_ import x, y\n",
    "from proveit.number import zero\n",
    "from proveit.number.divisibility._axioms_ import dividesDef\n",
    "from proveit.number.division._theorems_ import fracZeroNumer\n",
    "from proveit.number.sets.integer._theorems_ import zeroInIntegers\n",
    "theory = proveit.Theory() # the theorem's theory"
   ]
  },
  {
   "cell_type": "code",
   "execution_count": null,
   "metadata": {},
   "outputs": [],
   "source": [
    "%proving nonZeroDividesZero"
   ]
  },
  {
   "cell_type": "code",
   "execution_count": null,
   "metadata": {},
   "outputs": [],
   "source": [
    "defaults.assumptions = nonZeroDividesZero.conditions"
   ]
  },
  {
   "cell_type": "code",
   "execution_count": null,
   "metadata": {},
   "outputs": [],
   "source": [
    "dividesDef"
   ]
  },
  {
   "cell_type": "code",
   "execution_count": null,
   "metadata": {},
   "outputs": [],
   "source": [
    "dividesDef_inst = dividesDef.instantiate({x:x, y:zero})"
   ]
  },
  {
   "cell_type": "code",
   "execution_count": null,
   "metadata": {},
   "outputs": [],
   "source": [
    "fracZeroNumer"
   ]
  },
  {
   "cell_type": "code",
   "execution_count": null,
   "metadata": {},
   "outputs": [],
   "source": [
    "fracZeroNumer_inst = fracZeroNumer.instantiate({x:x})"
   ]
  },
  {
   "cell_type": "code",
   "execution_count": null,
   "metadata": {},
   "outputs": [],
   "source": [
    "zeroInIntegers"
   ]
  },
  {
   "cell_type": "code",
   "execution_count": null,
   "metadata": {},
   "outputs": [],
   "source": [
    "zeroOverXInZ = fracZeroNumer_inst.subLeftSideInto(zeroInIntegers)"
   ]
  },
  {
   "cell_type": "code",
   "execution_count": null,
   "metadata": {},
   "outputs": [],
   "source": [
    "dividesDef_inst.subLeftSideInto(zeroOverXInZ)"
   ]
  },
  {
   "cell_type": "code",
   "execution_count": null,
   "metadata": {},
   "outputs": [],
   "source": [
    "%qed"
   ]
  },
  {
   "cell_type": "code",
   "execution_count": null,
   "metadata": {},
   "outputs": [],
   "source": []
  }
 ],
 "metadata": {
  "kernelspec": {
   "display_name": "Python 3",
   "language": "python",
   "name": "python3"
  }
 },
 "nbformat": 4,
 "nbformat_minor": 0
}
