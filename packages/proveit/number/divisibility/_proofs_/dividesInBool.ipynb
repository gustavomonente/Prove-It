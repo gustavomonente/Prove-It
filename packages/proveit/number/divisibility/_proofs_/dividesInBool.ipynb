{
 "cells": [
  {
   "cell_type": "markdown",
   "metadata": {},
   "source": [
    "Proof of <a class=\"ProveItLink\" href=\"../../../_context_.ipynb\">proveit</a>.<a class=\"ProveItLink\" href=\"../../_context_.ipynb\">number</a>.<a class=\"ProveItLink\" href=\"../_context_.ipynb\">divisibility</a>.<a class=\"ProveItLink\" href=\"../_theorems_.ipynb#dividesInBool\">dividesInBool</a> theorem\n",
    "========"
   ]
  },
  {
   "cell_type": "code",
   "execution_count": null,
   "metadata": {},
   "outputs": [],
   "source": [
    "import proveit\n",
    "from proveit import defaults, IndexedVar, ExprRange, ExprTuple\n",
    "# from proveit.core_expr_types import\n",
    "from proveit._common_ import i, k, m, n, x, y, P, Px, Py, Qy\n",
    "from proveit.logic import Equals, InSet, NotEquals\n",
    "from proveit.logic.boolean.quantification.existential._theorems_ import existsWithConditionsInBool\n",
    "from proveit.number import zero, one, Integers\n",
    "from proveit.number import Mult\n",
    "from proveit.number.divisibility._axioms_ import dividesDef\n",
    "context = proveit.Context('..') # the theorem's context is in the parent directory"
   ]
  },
  {
   "cell_type": "code",
   "execution_count": null,
   "metadata": {},
   "outputs": [],
   "source": [
    "%proving dividesInBool presuming [proveit.core_expr_types.tuples.singular_range_reduction, proveit.number.numeral.deci.posnat1, proveit.logic.boolean.quantification.existential.existsWithConditionsInBool, proveit.logic.equality.subLeftSideInto]"
   ]
  },
  {
   "cell_type": "code",
   "execution_count": null,
   "metadata": {},
   "outputs": [],
   "source": [
    "defaults.assumptions = dividesInBool.conditions"
   ]
  },
  {
   "cell_type": "code",
   "execution_count": null,
   "metadata": {},
   "outputs": [],
   "source": [
    "dividesDef"
   ]
  },
  {
   "cell_type": "code",
   "execution_count": null,
   "metadata": {},
   "outputs": [],
   "source": [
    "dividesDef_inst = dividesDef.instantiate(\n",
    "    {m:m, n:n})"
   ]
  },
  {
   "cell_type": "code",
   "execution_count": null,
   "metadata": {},
   "outputs": [],
   "source": [
    "existsWithConditionsInBool"
   ]
  },
  {
   "cell_type": "code",
   "execution_count": null,
   "metadata": {},
   "outputs": [],
   "source": [
    "existsWithConditionsInBool_inst = existsWithConditionsInBool.instantiate(\n",
    "        {n:one, Py:Equals(n, Mult(y, m)), Qy:InSet(y, Integers),\n",
    "         ExprTuple(ExprRange(i, IndexedVar(y, i), one, one)):[k],\n",
    "         })"
   ]
  },
  {
   "cell_type": "code",
   "execution_count": null,
   "metadata": {},
   "outputs": [],
   "source": [
    "dividesDef_inst.subLeftSideInto(existsWithConditionsInBool_inst)"
   ]
  },
  {
   "cell_type": "code",
   "execution_count": null,
   "metadata": {},
   "outputs": [],
   "source": [
    "%qed"
   ]
  },
  {
   "cell_type": "code",
   "execution_count": null,
   "metadata": {},
   "outputs": [],
   "source": []
  }
 ],
 "metadata": {
  "kernelspec": {
   "display_name": "Python 3",
   "language": "python",
   "name": "python3"
  }
 },
 "nbformat": 4,
 "nbformat_minor": 0
}
