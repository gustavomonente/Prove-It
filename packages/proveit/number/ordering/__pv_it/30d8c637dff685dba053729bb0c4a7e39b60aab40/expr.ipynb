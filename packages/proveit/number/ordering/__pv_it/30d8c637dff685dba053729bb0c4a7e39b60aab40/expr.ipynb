{
 "cells": [
  {
   "cell_type": "markdown",
   "metadata": {},
   "source": [
    "Expression of type <a class=\"ProveItLink\" href=\"../../../../../../doc/html/api/proveit.logic.Equals.html\">Equals</a>\n",
    "=======================\n",
    "# from context <a class=\"ProveItLink\" href=\"../../_context_.ipynb\">proveit.number.ordering</a>"
   ]
  },
  {
   "cell_type": "code",
   "execution_count": 1,
   "metadata": {},
   "outputs": [],
   "source": [
    "import proveit\n",
    "# Automation is not needed when building an expression:\n",
    "proveit.defaults.automation = False # This will speed things up.\n",
    "proveit.defaults.inline_pngs = False # Makes files smaller.\n",
    "# import Expression classes needed to build the expression\n",
    "from proveit import ExprRange\n",
    "from proveit._common_ import k\n",
    "from proveit.core_expr_types import Len\n",
    "from proveit.logic import Equals\n",
    "from proveit.number import Less, LessEq, one"
   ]
  },
  {
   "cell_type": "code",
   "execution_count": 2,
   "metadata": {},
   "outputs": [
    {
     "data": {
      "text/html": [
       "<strong id=\"expr\">expr:</strong> <a class=\"ProveItLink\" href=\"expr.ipynb\"><img src=\"expr.png\" style=\"display:inline;vertical-align:middle;\" /></a><br>"
      ],
      "text/plain": [
       "expr: |(<= = <)| = |(1, ..k.., 1)|"
      ]
     },
     "execution_count": 2,
     "metadata": {},
     "output_type": "execute_result"
    }
   ],
   "source": [
    "# build up the expression from sub-expressions\n",
    "expr = Equals(Len([Equals(LessEq._operator_, Less._operator_)]), Len([ExprRange(k, k, one, one)]))"
   ]
  },
  {
   "cell_type": "code",
   "execution_count": 3,
   "metadata": {},
   "outputs": [
    {
     "name": "stdout",
     "output_type": "stream",
     "text": [
      "Passed sanity check: built 'expr' is the same as the stored Expression.\n"
     ]
    }
   ],
   "source": [
    "# check that the built expression is the same as the stored expression\n",
    "%check_expr"
   ]
  },
  {
   "cell_type": "code",
   "execution_count": 4,
   "metadata": {},
   "outputs": [
    {
     "name": "stdout",
     "output_type": "stream",
     "text": [
      "|\\left(\\leq = <\\right)| = |\\left(1, \\ldots, 1\\right)|\n"
     ]
    }
   ],
   "source": [
    "# Show the LaTeX representation of the expression for convenience if you need it.\n",
    "print(expr.latex())"
   ]
  },
  {
   "cell_type": "code",
   "execution_count": 5,
   "metadata": {},
   "outputs": [
    {
     "data": {
      "text/html": [
       "<table><tr><th>&nbsp;</th><th>core type</th><th>sub-expressions</th><th>expression</th></tr>\n",
       "<tr><td>0</td><td>Operation</td><td>operator:&nbsp;11<br>operands:&nbsp;1<br></td><td><a class=\"ProveItLink\" href=\"expr.ipynb\"><img src=\"expr.png\" style=\"display:inline;vertical-align:middle;\" /></a></td></tr>\n",
       "<tr><td>1</td><td>ExprTuple</td><td>2, 3</td><td><a class=\"ProveItLink\" href=\"../b5f923e511cd20ec1eda9641714f78d65f2bb8560/expr.ipynb\"><img src=\"../b5f923e511cd20ec1eda9641714f78d65f2bb8560/expr.png\" style=\"display:inline;vertical-align:middle;\" /></a></td></tr>\n",
       "<tr><td>2</td><td>Operation</td><td>operator:&nbsp;5<br>operand:&nbsp;7<br></td><td><a class=\"ProveItLink\" href=\"../9feb27158ba57e798201572fe59c0fcd8a0b57eb0/expr.ipynb\"><img src=\"../9feb27158ba57e798201572fe59c0fcd8a0b57eb0/expr.png\" style=\"display:inline;vertical-align:middle;\" /></a></td></tr>\n",
       "<tr><td>3</td><td>Operation</td><td>operator:&nbsp;5<br>operand:&nbsp;8<br></td><td><a class=\"ProveItLink\" href=\"../7465dd01fce78efcee24f8305273655c55e741520/expr.ipynb\"><img src=\"../7465dd01fce78efcee24f8305273655c55e741520/expr.png\" style=\"display:inline;vertical-align:middle;\" /></a></td></tr>\n",
       "<tr><td>4</td><td>ExprTuple</td><td>7</td><td><a class=\"ProveItLink\" href=\"../fad620a01682144d76e6aee6a7f176763a09183f0/expr.ipynb\"><img src=\"../fad620a01682144d76e6aee6a7f176763a09183f0/expr.png\" style=\"display:inline;vertical-align:middle;\" /></a></td></tr>\n",
       "<tr><td>5</td><td>Literal</td><td></td><td><a class=\"ProveItLink\" href=\"../../../../core_expr_types/tuples/__pv_it/92831c6291223dfbd76a11e90e750ae52564aa9f0/expr.ipynb\"><img src=\"../../../../core_expr_types/tuples/__pv_it/92831c6291223dfbd76a11e90e750ae52564aa9f0/expr.png\" style=\"display:inline;vertical-align:middle;\" /></a></td></tr>\n",
       "<tr><td>6</td><td>ExprTuple</td><td>8</td><td><a class=\"ProveItLink\" href=\"../1b274c97bd1690743676720845e39c74d1dade090/expr.ipynb\"><img src=\"../1b274c97bd1690743676720845e39c74d1dade090/expr.png\" style=\"display:inline;vertical-align:middle;\" /></a></td></tr>\n",
       "<tr><td>7</td><td>ExprTuple</td><td>9</td><td><a class=\"ProveItLink\" href=\"../d8d610b6818b33904fd971e84a69dd7f0ccb281d0/expr.ipynb\"><img src=\"../d8d610b6818b33904fd971e84a69dd7f0ccb281d0/expr.png\" style=\"display:inline;vertical-align:middle;\" /></a></td></tr>\n",
       "<tr><td>8</td><td>ExprTuple</td><td>10</td><td><a class=\"ProveItLink\" href=\"../a8bff4e93aedcb6b95ef67bbbef6b37b512623f10/expr.ipynb\"><img src=\"../a8bff4e93aedcb6b95ef67bbbef6b37b512623f10/expr.png\" style=\"display:inline;vertical-align:middle;\" /></a></td></tr>\n",
       "<tr><td>9</td><td>Operation</td><td>operator:&nbsp;11<br>operands:&nbsp;12<br></td><td><a class=\"ProveItLink\" href=\"../9400fe3db15be3975e2d26b4e4afd1c9ffb854df0/expr.ipynb\"><img src=\"../9400fe3db15be3975e2d26b4e4afd1c9ffb854df0/expr.png\" style=\"display:inline;vertical-align:middle;\" /></a></td></tr>\n",
       "<tr><td>10</td><td>ExprRange</td><td>lambda_map:&nbsp;13<br>start_index:&nbsp;14<br>end_index:&nbsp;14<br></td><td><a class=\"ProveItLink\" href=\"../517b566639e5c97b600ece48ef3e110140a14e730/expr.ipynb\"><img src=\"../517b566639e5c97b600ece48ef3e110140a14e730/expr.png\" style=\"display:inline;vertical-align:middle;\" /></a></td></tr>\n",
       "<tr><td>11</td><td>Literal</td><td></td><td><a class=\"ProveItLink\" href=\"../../../../logic/equality/__pv_it/e16d2caa26a16688b658bdb9c422caf4b84579e10/expr.ipynb\"><img src=\"../../../../logic/equality/__pv_it/e16d2caa26a16688b658bdb9c422caf4b84579e10/expr.png\" style=\"display:inline;vertical-align:middle;\" /></a></td></tr>\n",
       "<tr><td>12</td><td>ExprTuple</td><td>15, 16</td><td><a class=\"ProveItLink\" href=\"../ddb7bea2662f0f61f82bb59c55e24c04c69d31cf0/expr.ipynb\"><img src=\"../ddb7bea2662f0f61f82bb59c55e24c04c69d31cf0/expr.png\" style=\"display:inline;vertical-align:middle;\" /></a></td></tr>\n",
       "<tr><td>13</td><td>Lambda</td><td>parameter:&nbsp;17<br>body:&nbsp;17<br></td><td><a class=\"ProveItLink\" href=\"../627c209e964673b8a193e829389aa751568b13af0/expr.ipynb\"><img src=\"../627c209e964673b8a193e829389aa751568b13af0/expr.png\" style=\"display:inline;vertical-align:middle;\" /></a></td></tr>\n",
       "<tr><td>14</td><td>Literal</td><td></td><td><a class=\"ProveItLink\" href=\"../../../numeral/__pv_it/f086f8c372bd40a2458306ddfdbb29f3dc6f63030/expr.ipynb\"><img src=\"../../../numeral/__pv_it/f086f8c372bd40a2458306ddfdbb29f3dc6f63030/expr.png\" style=\"display:inline;vertical-align:middle;\" /></a></td></tr>\n",
       "<tr><td>15</td><td>Literal</td><td></td><td><a class=\"ProveItLink\" href=\"../75657f0186226b3d1bb8ce3bab2953bb36e04b3b0/expr.ipynb\"><img src=\"../75657f0186226b3d1bb8ce3bab2953bb36e04b3b0/expr.png\" style=\"display:inline;vertical-align:middle;\" /></a></td></tr>\n",
       "<tr><td>16</td><td>Literal</td><td></td><td><a class=\"ProveItLink\" href=\"../f3d9fbb51fcb1b5a2184b502c51efff1714101450/expr.ipynb\"><img src=\"../f3d9fbb51fcb1b5a2184b502c51efff1714101450/expr.png\" style=\"display:inline;vertical-align:middle;\" /></a></td></tr>\n",
       "<tr><td>17</td><td>Variable</td><td></td><td><a class=\"ProveItLink\" href=\"../../../../__pv_it/273f49450ca25e1b56abbd98a7aef618f8f6c1360/expr.ipynb\"><img src=\"../../../../__pv_it/273f49450ca25e1b56abbd98a7aef618f8f6c1360/expr.png\" style=\"display:inline;vertical-align:middle;\" /></a></td></tr>\n",
       "</table>\n"
      ],
      "text/plain": [
       "0. |(<= = <)| = |(1, ..k.., 1)|\n",
       "   core type: Operation\n",
       "   operator: 11\n",
       "   operands: 1\n",
       "1. (|(<= = <)|, |(1, ..k.., 1)|)\n",
       "   core type: ExprTuple\n",
       "   sub-expressions: 2, 3\n",
       "2. |(<= = <)|\n",
       "   core type: Operation\n",
       "   operator: 5\n",
       "   operand: 7\n",
       "3. |(1, ..k.., 1)|\n",
       "   core type: Operation\n",
       "   operator: 5\n",
       "   operand: 8\n",
       "4. ((<= = <))\n",
       "   core type: ExprTuple\n",
       "   sub-expressions: 7\n",
       "5. length\n",
       "   core type: Literal\n",
       "   sub-expressions: \n",
       "6. ((1, ..k.., 1))\n",
       "   core type: ExprTuple\n",
       "   sub-expressions: 8\n",
       "7. (<= = <)\n",
       "   core type: ExprTuple\n",
       "   sub-expressions: 9\n",
       "8. (1, ..k.., 1)\n",
       "   core type: ExprTuple\n",
       "   sub-expressions: 10\n",
       "9. <= = <\n",
       "   core type: Operation\n",
       "   operator: 11\n",
       "   operands: 12\n",
       "10. 1, ..k.., 1\n",
       "    core type: ExprRange\n",
       "    lambda_map: 13\n",
       "    start_index: 14\n",
       "    end_index: 14\n",
       "11. =\n",
       "    core type: Literal\n",
       "    sub-expressions: \n",
       "12. (<=, <)\n",
       "    core type: ExprTuple\n",
       "    sub-expressions: 15, 16\n",
       "13. k -> k\n",
       "    core type: Lambda\n",
       "    parameter: 17\n",
       "    body: 17\n",
       "14. 1\n",
       "    core type: Literal\n",
       "    sub-expressions: \n",
       "15. <=\n",
       "    core type: Literal\n",
       "    sub-expressions: \n",
       "16. <\n",
       "    core type: Literal\n",
       "    sub-expressions: \n",
       "17. k\n",
       "    core type: Variable\n",
       "    sub-expressions: "
      ]
     },
     "execution_count": 5,
     "metadata": {},
     "output_type": "execute_result"
    }
   ],
   "source": [
    "# display the expression information\n",
    "expr.exprInfo()"
   ]
  },
  {
   "cell_type": "code",
   "execution_count": null,
   "metadata": {},
   "outputs": [],
   "source": []
  }
 ],
 "metadata": {
  "kernelspec": {
   "display_name": "Python 3",
   "language": "python",
   "name": "python3"
  },
  "language_info": {
   "codemirror_mode": {
    "name": "ipython",
    "version": 3
   },
   "file_extension": ".py",
   "mimetype": "text/x-python",
   "name": "python",
   "nbconvert_exporter": "python",
   "pygments_lexer": "ipython3",
   "version": "3.7.3"
  }
 },
 "nbformat": 4,
 "nbformat_minor": 1
}
