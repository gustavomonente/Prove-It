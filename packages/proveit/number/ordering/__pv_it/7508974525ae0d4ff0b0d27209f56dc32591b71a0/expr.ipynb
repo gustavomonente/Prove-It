{
 "cells": [
  {
   "cell_type": "markdown",
   "metadata": {},
   "source": [
    "Theorem <a class=\"ProveItLink\" href=\"../../_theorems_.ipynb#greaterEqAddRight\">greaterEqAddRight</a> of type <a class=\"ProveItLink\" href=\"../../../../../../doc/html/api/proveit.logic.Forall.html\">Forall</a>\n",
    "=======================\n",
    "# from context <a class=\"ProveItLink\" href=\"../../_context_.ipynb\">proveit.number.ordering</a>\n",
    "*** see <a class=\"ProveItLink\" href=\"dependencies.ipynb\">dependencies</a> ***"
   ]
  },
  {
   "cell_type": "code",
   "execution_count": 1,
   "metadata": {},
   "outputs": [],
   "source": [
    "import proveit\n",
    "# Automation is not needed when only building an expression:\n",
    "proveit.defaults.automation = False # This will speed things up.\n",
    "proveit.defaults.inline_pngs = False # Makes files smaller.\n",
    "# import the special expression\n",
    "from proveit.number.ordering._theorems_ import greaterEqAddRight"
   ]
  },
  {
   "cell_type": "code",
   "execution_count": 2,
   "metadata": {},
   "outputs": [
    {
     "name": "stdout",
     "output_type": "stream",
     "text": [
      "Passed sanity check: built 'greaterEqAddRight' is the same as the stored Expression.\n"
     ]
    }
   ],
   "source": [
    "# check that the built expression is the same as the stored expression\n",
    "%check_expr greaterEqAddRight"
   ]
  },
  {
   "cell_type": "code",
   "execution_count": 3,
   "metadata": {},
   "outputs": [
    {
     "name": "stdout",
     "output_type": "stream",
     "text": [
      "\\vdash \\forall_{a \\in \\mathbb{R}, b \\in \\mathbb{R}, c \\in \\mathbb{R}~|~a \\geq b, 0 \\geq c}~\\left(a \\geq \\left(b + c\\right)\\right)\n"
     ]
    }
   ],
   "source": [
    "# Show the LaTeX representation of the expression for convenience if you need it.\n",
    "print(greaterEqAddRight.latex())"
   ]
  },
  {
   "cell_type": "code",
   "execution_count": 4,
   "metadata": {},
   "outputs": [
    {
     "data": {
      "text/html": [
       "<table><tr><th>&nbsp;</th><th>core type</th><th>sub-expressions</th><th>expression</th></tr>\n",
       "<tr><td>0</td><td>Operation</td><td>operator:&nbsp;1<br>operand:&nbsp;2<br></td><td><a class=\"ProveItLink\" href=\"expr.ipynb\"><img src=\"expr.png\" style=\"display:inline;vertical-align:middle;\" /></a></td></tr>\n",
       "<tr><td>1</td><td>Literal</td><td></td><td><a class=\"ProveItLink\" href=\"../../../../logic/boolean/quantification/universal/__pv_it/fd9c772d6675566ed52a6897806f45eb08a4ea910/expr.ipynb\"><img src=\"../../../../logic/boolean/quantification/universal/__pv_it/fd9c772d6675566ed52a6897806f45eb08a4ea910/expr.png\" style=\"display:inline;vertical-align:middle;\" /></a></td></tr>\n",
       "<tr><td>2</td><td>Lambda</td><td>parameters:&nbsp;3<br>body:&nbsp;4<br></td><td><a class=\"ProveItLink\" href=\"../f1c58fb197fb0ea721101e2ee83da7961317ba880/expr.ipynb\"><img src=\"../f1c58fb197fb0ea721101e2ee83da7961317ba880/expr.png\" style=\"display:inline;vertical-align:middle;\" /></a></td></tr>\n",
       "<tr><td>3</td><td>ExprTuple</td><td>26, 27, 29</td><td><a class=\"ProveItLink\" href=\"../d90118782a263653f0cbfdd8712fa5e8640d117d0/expr.ipynb\"><img src=\"../d90118782a263653f0cbfdd8712fa5e8640d117d0/expr.png\" style=\"display:inline;vertical-align:middle;\" /></a></td></tr>\n",
       "<tr><td>4</td><td>Conditional</td><td>value:&nbsp;5<br>condition:&nbsp;6<br></td><td><a class=\"ProveItLink\" href=\"../15f76f4eb18d5602be868dc394590bcc94e5a7460/expr.ipynb\"><img src=\"../15f76f4eb18d5602be868dc394590bcc94e5a7460/expr.png\" style=\"display:inline;vertical-align:middle;\" /></a></td></tr>\n",
       "<tr><td>5</td><td>Operation</td><td>operator:&nbsp;23<br>operands:&nbsp;7<br></td><td><a class=\"ProveItLink\" href=\"../06450e8ab03d48164a875dbbb138b1e2c0b574b00/expr.ipynb\"><img src=\"../06450e8ab03d48164a875dbbb138b1e2c0b574b00/expr.png\" style=\"display:inline;vertical-align:middle;\" /></a></td></tr>\n",
       "<tr><td>6</td><td>Operation</td><td>operator:&nbsp;8<br>operands:&nbsp;9<br></td><td><a class=\"ProveItLink\" href=\"../3e2f8853aba3ce1048f67a40db4fab405282da240/expr.ipynb\"><img src=\"../3e2f8853aba3ce1048f67a40db4fab405282da240/expr.png\" style=\"display:inline;vertical-align:middle;\" /></a></td></tr>\n",
       "<tr><td>7</td><td>ExprTuple</td><td>26, 10</td><td><a class=\"ProveItLink\" href=\"../c45422057290cf7880e961cc80e67efb33c167980/expr.ipynb\"><img src=\"../c45422057290cf7880e961cc80e67efb33c167980/expr.png\" style=\"display:inline;vertical-align:middle;\" /></a></td></tr>\n",
       "<tr><td>8</td><td>Literal</td><td></td><td><a class=\"ProveItLink\" href=\"../../../../logic/boolean/conjunction/__pv_it/f41cc6b553210927c09f19a8a39cdf860a5585930/expr.ipynb\"><img src=\"../../../../logic/boolean/conjunction/__pv_it/f41cc6b553210927c09f19a8a39cdf860a5585930/expr.png\" style=\"display:inline;vertical-align:middle;\" /></a></td></tr>\n",
       "<tr><td>9</td><td>ExprTuple</td><td>11, 12, 13, 14, 15</td><td><a class=\"ProveItLink\" href=\"../66c6849717b817db63597f5f8da5397a4da6083b0/expr.ipynb\"><img src=\"../66c6849717b817db63597f5f8da5397a4da6083b0/expr.png\" style=\"display:inline;vertical-align:middle;\" /></a></td></tr>\n",
       "<tr><td>10</td><td>Operation</td><td>operator:&nbsp;16<br>operands:&nbsp;17<br></td><td><a class=\"ProveItLink\" href=\"../3c4bc8e43ae1e8ff119610a3ab80aa9932d716010/expr.ipynb\"><img src=\"../3c4bc8e43ae1e8ff119610a3ab80aa9932d716010/expr.png\" style=\"display:inline;vertical-align:middle;\" /></a></td></tr>\n",
       "<tr><td>11</td><td>Operation</td><td>operator:&nbsp;20<br>operands:&nbsp;18<br></td><td><a class=\"ProveItLink\" href=\"../35226e3b3cf6462229df8a060308fe0fc48ffc210/expr.ipynb\"><img src=\"../35226e3b3cf6462229df8a060308fe0fc48ffc210/expr.png\" style=\"display:inline;vertical-align:middle;\" /></a></td></tr>\n",
       "<tr><td>12</td><td>Operation</td><td>operator:&nbsp;20<br>operands:&nbsp;19<br></td><td><a class=\"ProveItLink\" href=\"../002870e764fad69e198f19071a0b3ebfa72a6acb0/expr.ipynb\"><img src=\"../002870e764fad69e198f19071a0b3ebfa72a6acb0/expr.png\" style=\"display:inline;vertical-align:middle;\" /></a></td></tr>\n",
       "<tr><td>13</td><td>Operation</td><td>operator:&nbsp;20<br>operands:&nbsp;21<br></td><td><a class=\"ProveItLink\" href=\"../bd18cec56326f186a0c27a6fa8ed32cdb23471400/expr.ipynb\"><img src=\"../bd18cec56326f186a0c27a6fa8ed32cdb23471400/expr.png\" style=\"display:inline;vertical-align:middle;\" /></a></td></tr>\n",
       "<tr><td>14</td><td>Operation</td><td>operator:&nbsp;23<br>operands:&nbsp;22<br></td><td><a class=\"ProveItLink\" href=\"../9173d504be6515f4e798327a6326a3296e525acd0/expr.ipynb\"><img src=\"../9173d504be6515f4e798327a6326a3296e525acd0/expr.png\" style=\"display:inline;vertical-align:middle;\" /></a></td></tr>\n",
       "<tr><td>15</td><td>Operation</td><td>operator:&nbsp;23<br>operands:&nbsp;24<br></td><td><a class=\"ProveItLink\" href=\"../32ce7b676f77eb5e3a21cc9b0c74c10374214d010/expr.ipynb\"><img src=\"../32ce7b676f77eb5e3a21cc9b0c74c10374214d010/expr.png\" style=\"display:inline;vertical-align:middle;\" /></a></td></tr>\n",
       "<tr><td>16</td><td>Literal</td><td></td><td><a class=\"ProveItLink\" href=\"../../../addition/__pv_it/65ad7e8aee19b10110d590375ba95a879c4fb7ea0/expr.ipynb\"><img src=\"../../../addition/__pv_it/65ad7e8aee19b10110d590375ba95a879c4fb7ea0/expr.png\" style=\"display:inline;vertical-align:middle;\" /></a></td></tr>\n",
       "<tr><td>17</td><td>ExprTuple</td><td>27, 29</td><td><a class=\"ProveItLink\" href=\"../7866fb3d360b83562436a179a18c62715a1b161b0/expr.ipynb\"><img src=\"../7866fb3d360b83562436a179a18c62715a1b161b0/expr.png\" style=\"display:inline;vertical-align:middle;\" /></a></td></tr>\n",
       "<tr><td>18</td><td>ExprTuple</td><td>26, 25</td><td><a class=\"ProveItLink\" href=\"../d73177ba22ffd806557aed22bce46d6c8254bd730/expr.ipynb\"><img src=\"../d73177ba22ffd806557aed22bce46d6c8254bd730/expr.png\" style=\"display:inline;vertical-align:middle;\" /></a></td></tr>\n",
       "<tr><td>19</td><td>ExprTuple</td><td>27, 25</td><td><a class=\"ProveItLink\" href=\"../f3db2ef446f9e516d35c23bd4ce93bb30e0638b70/expr.ipynb\"><img src=\"../f3db2ef446f9e516d35c23bd4ce93bb30e0638b70/expr.png\" style=\"display:inline;vertical-align:middle;\" /></a></td></tr>\n",
       "<tr><td>20</td><td>Literal</td><td></td><td><a class=\"ProveItLink\" href=\"../../../../logic/set_theory/membership/__pv_it/7776fc89cb67d0b5b1ec2c0c8e08da5587921ccf0/expr.ipynb\"><img src=\"../../../../logic/set_theory/membership/__pv_it/7776fc89cb67d0b5b1ec2c0c8e08da5587921ccf0/expr.png\" style=\"display:inline;vertical-align:middle;\" /></a></td></tr>\n",
       "<tr><td>21</td><td>ExprTuple</td><td>29, 25</td><td><a class=\"ProveItLink\" href=\"../6480d147d547ba28cc8029a9720e74dc9468cd260/expr.ipynb\"><img src=\"../6480d147d547ba28cc8029a9720e74dc9468cd260/expr.png\" style=\"display:inline;vertical-align:middle;\" /></a></td></tr>\n",
       "<tr><td>22</td><td>ExprTuple</td><td>26, 27</td><td><a class=\"ProveItLink\" href=\"../bbc1b69eb12288f0ad04da0d0cc6b9b8079b8b3f0/expr.ipynb\"><img src=\"../bbc1b69eb12288f0ad04da0d0cc6b9b8079b8b3f0/expr.png\" style=\"display:inline;vertical-align:middle;\" /></a></td></tr>\n",
       "<tr><td>23</td><td>Literal</td><td></td><td><a class=\"ProveItLink\" href=\"../cef35580c31dcaee082f4b9a008104845b0dfa860/expr.ipynb\"><img src=\"../cef35580c31dcaee082f4b9a008104845b0dfa860/expr.png\" style=\"display:inline;vertical-align:middle;\" /></a></td></tr>\n",
       "<tr><td>24</td><td>ExprTuple</td><td>28, 29</td><td><a class=\"ProveItLink\" href=\"../7caab371864632d4e495a79c6248d122d4fcf90a0/expr.ipynb\"><img src=\"../7caab371864632d4e495a79c6248d122d4fcf90a0/expr.png\" style=\"display:inline;vertical-align:middle;\" /></a></td></tr>\n",
       "<tr><td>25</td><td>Literal</td><td></td><td><a class=\"ProveItLink\" href=\"../../../sets/real/__pv_it/83c2d223a7b04200651811c8b29e747fd8f853510/expr.ipynb\"><img src=\"../../../sets/real/__pv_it/83c2d223a7b04200651811c8b29e747fd8f853510/expr.png\" style=\"display:inline;vertical-align:middle;\" /></a></td></tr>\n",
       "<tr><td>26</td><td>Variable</td><td></td><td><a class=\"ProveItLink\" href=\"../../../../__pv_it/a8d4b3a34d2189508f9082853fbac36935714f280/expr.ipynb\"><img src=\"../../../../__pv_it/a8d4b3a34d2189508f9082853fbac36935714f280/expr.png\" style=\"display:inline;vertical-align:middle;\" /></a></td></tr>\n",
       "<tr><td>27</td><td>Variable</td><td></td><td><a class=\"ProveItLink\" href=\"../../../../__pv_it/53e304ff98ebc000dbe3ef224f4637dbafd46ba70/expr.ipynb\"><img src=\"../../../../__pv_it/53e304ff98ebc000dbe3ef224f4637dbafd46ba70/expr.png\" style=\"display:inline;vertical-align:middle;\" /></a></td></tr>\n",
       "<tr><td>28</td><td>Literal</td><td></td><td><a class=\"ProveItLink\" href=\"../../../numeral/__pv_it/bcb6bc33e5975ec2290a3272bf7802d26ab8421d0/expr.ipynb\"><img src=\"../../../numeral/__pv_it/bcb6bc33e5975ec2290a3272bf7802d26ab8421d0/expr.png\" style=\"display:inline;vertical-align:middle;\" /></a></td></tr>\n",
       "<tr><td>29</td><td>Variable</td><td></td><td><a class=\"ProveItLink\" href=\"../../../../__pv_it/b2b446b221a34ee579eb9a1fbdd4ac4e2891d8c70/expr.ipynb\"><img src=\"../../../../__pv_it/b2b446b221a34ee579eb9a1fbdd4ac4e2891d8c70/expr.png\" style=\"display:inline;vertical-align:middle;\" /></a></td></tr>\n",
       "</table>\n"
      ],
      "text/plain": [
       "0. forall_{a in Reals, b in Reals, c in Reals | a >= b, 0 >= c} (a >= (b + c))\n",
       "   core type: Operation\n",
       "   operator: 1\n",
       "   operand: 2\n",
       "1. forall\n",
       "   core type: Literal\n",
       "   sub-expressions: \n",
       "2. (a, b, c) -> {a >= (b + c) if a in Reals ,  b in Reals ,  c in Reals ,  a >= b ,  0 >= c.\n",
       "   core type: Lambda\n",
       "   parameters: 3\\n   body: 4\n",
       "3. (a, b, c)\n",
       "   core type: ExprTuple\n",
       "   sub-expressions: 26, 27, 29\n",
       "4. {a >= (b + c) if a in Reals ,  b in Reals ,  c in Reals ,  a >= b ,  0 >= c.\n",
       "   core type: Conditional\n",
       "   value: 5\n",
       "   condition: 6\n",
       "5. a >= (b + c)\n",
       "   core type: Operation\n",
       "   operator: 23\n",
       "   operands: 7\n",
       "6. (a in Reals) and (b in Reals) and (c in Reals) and (a >= b) and (0 >= c)\n",
       "   core type: Operation\n",
       "   operator: 8\n",
       "   operands: 9\n",
       "7. (a, b + c)\n",
       "   core type: ExprTuple\n",
       "   sub-expressions: 26, 10\n",
       "8. and\n",
       "   core type: Literal\n",
       "   sub-expressions: \n",
       "9. (a in Reals, b in Reals, c in Reals, a >= b, 0 >= c)\n",
       "   core type: ExprTuple\n",
       "   sub-expressions: 11, 12, 13, 14, 15\n",
       "10. b + c\n",
       "    core type: Operation\n",
       "    operator: 16\n",
       "    operands: 17\n",
       "11. a in Reals\n",
       "    core type: Operation\n",
       "    operator: 20\n",
       "    operands: 18\n",
       "12. b in Reals\n",
       "    core type: Operation\n",
       "    operator: 20\n",
       "    operands: 19\n",
       "13. c in Reals\n",
       "    core type: Operation\n",
       "    operator: 20\n",
       "    operands: 21\n",
       "14. a >= b\n",
       "    core type: Operation\n",
       "    operator: 23\n",
       "    operands: 22\n",
       "15. 0 >= c\n",
       "    core type: Operation\n",
       "    operator: 23\n",
       "    operands: 24\n",
       "16. +\n",
       "    core type: Literal\n",
       "    sub-expressions: \n",
       "17. (b, c)\n",
       "    core type: ExprTuple\n",
       "    sub-expressions: 27, 29\n",
       "18. (a, Reals)\n",
       "    core type: ExprTuple\n",
       "    sub-expressions: 26, 25\n",
       "19. (b, Reals)\n",
       "    core type: ExprTuple\n",
       "    sub-expressions: 27, 25\n",
       "20. in\n",
       "    core type: Literal\n",
       "    sub-expressions: \n",
       "21. (c, Reals)\n",
       "    core type: ExprTuple\n",
       "    sub-expressions: 29, 25\n",
       "22. (a, b)\n",
       "    core type: ExprTuple\n",
       "    sub-expressions: 26, 27\n",
       "23. >=\n",
       "    core type: Literal\n",
       "    sub-expressions: \n",
       "24. (0, c)\n",
       "    core type: ExprTuple\n",
       "    sub-expressions: 28, 29\n",
       "25. Reals\n",
       "    core type: Literal\n",
       "    sub-expressions: \n",
       "26. a\n",
       "    core type: Variable\n",
       "    sub-expressions: \n",
       "27. b\n",
       "    core type: Variable\n",
       "    sub-expressions: \n",
       "28. 0\n",
       "    core type: Literal\n",
       "    sub-expressions: \n",
       "29. c\n",
       "    core type: Variable\n",
       "    sub-expressions: "
      ]
     },
     "execution_count": 4,
     "metadata": {},
     "output_type": "execute_result"
    }
   ],
   "source": [
    "# display the expression information\n",
    "greaterEqAddRight.exprInfo()"
   ]
  },
  {
   "cell_type": "code",
   "execution_count": null,
   "metadata": {},
   "outputs": [],
   "source": []
  }
 ],
 "metadata": {
  "kernelspec": {
   "display_name": "Python 3",
   "language": "python",
   "name": "python3"
  },
  "language_info": {
   "codemirror_mode": {
    "name": "ipython",
    "version": 3
   },
   "file_extension": ".py",
   "mimetype": "text/x-python",
   "name": "python",
   "nbconvert_exporter": "python",
   "pygments_lexer": "ipython3",
   "version": "3.7.3"
  }
 },
 "nbformat": 4,
 "nbformat_minor": 1
}
