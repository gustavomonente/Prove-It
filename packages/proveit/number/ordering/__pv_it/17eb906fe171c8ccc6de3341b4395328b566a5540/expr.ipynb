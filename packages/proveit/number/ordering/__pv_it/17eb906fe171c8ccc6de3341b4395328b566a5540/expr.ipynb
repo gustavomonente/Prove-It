{
 "cells": [
  {
   "cell_type": "markdown",
   "metadata": {},
   "source": [
    "Expression of type <a class=\"ProveItLink\" href=\"../../../../../../doc/html/api/proveit.Conditional.html\">Conditional</a>\n",
    "=======================\n",
    "# from context <a class=\"ProveItLink\" href=\"../../_context_.ipynb\">proveit.number.ordering</a>"
   ]
  },
  {
   "cell_type": "code",
   "execution_count": 1,
   "metadata": {},
   "outputs": [],
   "source": [
    "import proveit\n",
    "# Automation is not needed when building an expression:\n",
    "proveit.defaults.automation = False # This will speed things up.\n",
    "proveit.defaults.inline_pngs = False # Makes files smaller.\n",
    "# import Expression classes needed to build the expression\n",
    "from proveit import Conditional\n",
    "from proveit._common_ import x, y\n",
    "from proveit.logic import And, Equals, InSet\n",
    "from proveit.number import LessEq, Reals"
   ]
  },
  {
   "cell_type": "code",
   "execution_count": 2,
   "metadata": {},
   "outputs": [
    {
     "data": {
      "text/html": [
       "<strong id=\"expr\">expr:</strong> <a class=\"ProveItLink\" href=\"expr.ipynb\"><img src=\"expr.png\" style=\"display:inline;vertical-align:middle;\" /></a><br>"
      ],
      "text/plain": [
       "expr: {x <= y if x in Reals ,  y in Reals ,  x = y."
      ]
     },
     "execution_count": 2,
     "metadata": {},
     "output_type": "execute_result"
    }
   ],
   "source": [
    "# build up the expression from sub-expressions\n",
    "expr = Conditional(LessEq(x, y), And(InSet(x, Reals), InSet(y, Reals), Equals(x, y)))"
   ]
  },
  {
   "cell_type": "code",
   "execution_count": 3,
   "metadata": {},
   "outputs": [
    {
     "name": "stdout",
     "output_type": "stream",
     "text": [
      "Passed sanity check: built 'expr' is the same as the stored Expression.\n"
     ]
    }
   ],
   "source": [
    "# check that the built expression is the same as the stored expression\n",
    "%check_expr"
   ]
  },
  {
   "cell_type": "code",
   "execution_count": 4,
   "metadata": {},
   "outputs": [
    {
     "name": "stdout",
     "output_type": "stream",
     "text": [
      "\\left\\{x \\leq y \\textrm{ if } x \\in \\mathbb{R} ,  y \\in \\mathbb{R} ,  x = y\\right..\n"
     ]
    }
   ],
   "source": [
    "# Show the LaTeX representation of the expression for convenience if you need it.\n",
    "print(expr.latex())"
   ]
  },
  {
   "cell_type": "code",
   "execution_count": 5,
   "metadata": {},
   "outputs": [
    {
     "data": {
      "text/html": [
       "<table><tr><th>&nbsp;</th><th>core type</th><th>sub-expressions</th><th>expression</th></tr>\n",
       "<tr><td>0</td><td>Conditional</td><td>value:&nbsp;1<br>condition:&nbsp;2<br></td><td><a class=\"ProveItLink\" href=\"expr.ipynb\"><img src=\"expr.png\" style=\"display:inline;vertical-align:middle;\" /></a></td></tr>\n",
       "<tr><td>1</td><td>Operation</td><td>operator:&nbsp;3<br>operands:&nbsp;13<br></td><td><a class=\"ProveItLink\" href=\"../377eb0e6d4ea94756f738a3dcefe9e6f5d06346c0/expr.ipynb\"><img src=\"../377eb0e6d4ea94756f738a3dcefe9e6f5d06346c0/expr.png\" style=\"display:inline;vertical-align:middle;\" /></a></td></tr>\n",
       "<tr><td>2</td><td>Operation</td><td>operator:&nbsp;4<br>operands:&nbsp;5<br></td><td><a class=\"ProveItLink\" href=\"../8e00e3d10a77e303ec66300605f450906bd134e00/expr.ipynb\"><img src=\"../8e00e3d10a77e303ec66300605f450906bd134e00/expr.png\" style=\"display:inline;vertical-align:middle;\" /></a></td></tr>\n",
       "<tr><td>3</td><td>Literal</td><td></td><td><a class=\"ProveItLink\" href=\"../75657f0186226b3d1bb8ce3bab2953bb36e04b3b0/expr.ipynb\"><img src=\"../75657f0186226b3d1bb8ce3bab2953bb36e04b3b0/expr.png\" style=\"display:inline;vertical-align:middle;\" /></a></td></tr>\n",
       "<tr><td>4</td><td>Literal</td><td></td><td><a class=\"ProveItLink\" href=\"../../../../logic/boolean/conjunction/__pv_it/f41cc6b553210927c09f19a8a39cdf860a5585930/expr.ipynb\"><img src=\"../../../../logic/boolean/conjunction/__pv_it/f41cc6b553210927c09f19a8a39cdf860a5585930/expr.png\" style=\"display:inline;vertical-align:middle;\" /></a></td></tr>\n",
       "<tr><td>5</td><td>ExprTuple</td><td>6, 7, 8</td><td><a class=\"ProveItLink\" href=\"../7e6b13cb1f8def16c7f48a4cf7a67ecdd3ba38e80/expr.ipynb\"><img src=\"../7e6b13cb1f8def16c7f48a4cf7a67ecdd3ba38e80/expr.png\" style=\"display:inline;vertical-align:middle;\" /></a></td></tr>\n",
       "<tr><td>6</td><td>Operation</td><td>operator:&nbsp;10<br>operands:&nbsp;9<br></td><td><a class=\"ProveItLink\" href=\"../d1abe32eef57347774dfea3ee7588b7cbc50954a0/expr.ipynb\"><img src=\"../d1abe32eef57347774dfea3ee7588b7cbc50954a0/expr.png\" style=\"display:inline;vertical-align:middle;\" /></a></td></tr>\n",
       "<tr><td>7</td><td>Operation</td><td>operator:&nbsp;10<br>operands:&nbsp;11<br></td><td><a class=\"ProveItLink\" href=\"../30a021fb86a13c66130fd466b721d7b89aa506830/expr.ipynb\"><img src=\"../30a021fb86a13c66130fd466b721d7b89aa506830/expr.png\" style=\"display:inline;vertical-align:middle;\" /></a></td></tr>\n",
       "<tr><td>8</td><td>Operation</td><td>operator:&nbsp;12<br>operands:&nbsp;13<br></td><td><a class=\"ProveItLink\" href=\"../67fe26e9a363c5cce332bbfe877e3f89d271606e0/expr.ipynb\"><img src=\"../67fe26e9a363c5cce332bbfe877e3f89d271606e0/expr.png\" style=\"display:inline;vertical-align:middle;\" /></a></td></tr>\n",
       "<tr><td>9</td><td>ExprTuple</td><td>15, 14</td><td><a class=\"ProveItLink\" href=\"../5bbb73b5487eee2db68bc413c07848ef82015df90/expr.ipynb\"><img src=\"../5bbb73b5487eee2db68bc413c07848ef82015df90/expr.png\" style=\"display:inline;vertical-align:middle;\" /></a></td></tr>\n",
       "<tr><td>10</td><td>Literal</td><td></td><td><a class=\"ProveItLink\" href=\"../../../../logic/set_theory/membership/__pv_it/7776fc89cb67d0b5b1ec2c0c8e08da5587921ccf0/expr.ipynb\"><img src=\"../../../../logic/set_theory/membership/__pv_it/7776fc89cb67d0b5b1ec2c0c8e08da5587921ccf0/expr.png\" style=\"display:inline;vertical-align:middle;\" /></a></td></tr>\n",
       "<tr><td>11</td><td>ExprTuple</td><td>16, 14</td><td><a class=\"ProveItLink\" href=\"../c3c6759d05ddb616d1eae8b60d5a5918e2ba4b000/expr.ipynb\"><img src=\"../c3c6759d05ddb616d1eae8b60d5a5918e2ba4b000/expr.png\" style=\"display:inline;vertical-align:middle;\" /></a></td></tr>\n",
       "<tr><td>12</td><td>Literal</td><td></td><td><a class=\"ProveItLink\" href=\"../../../../logic/equality/__pv_it/e16d2caa26a16688b658bdb9c422caf4b84579e10/expr.ipynb\"><img src=\"../../../../logic/equality/__pv_it/e16d2caa26a16688b658bdb9c422caf4b84579e10/expr.png\" style=\"display:inline;vertical-align:middle;\" /></a></td></tr>\n",
       "<tr><td>13</td><td>ExprTuple</td><td>15, 16</td><td><a class=\"ProveItLink\" href=\"../381a8da4a9fdeac3d03f772fe63417dc7a6055a40/expr.ipynb\"><img src=\"../381a8da4a9fdeac3d03f772fe63417dc7a6055a40/expr.png\" style=\"display:inline;vertical-align:middle;\" /></a></td></tr>\n",
       "<tr><td>14</td><td>Literal</td><td></td><td><a class=\"ProveItLink\" href=\"../../../sets/real/__pv_it/83c2d223a7b04200651811c8b29e747fd8f853510/expr.ipynb\"><img src=\"../../../sets/real/__pv_it/83c2d223a7b04200651811c8b29e747fd8f853510/expr.png\" style=\"display:inline;vertical-align:middle;\" /></a></td></tr>\n",
       "<tr><td>15</td><td>Variable</td><td></td><td><a class=\"ProveItLink\" href=\"../../../../__pv_it/72df168d2bfb4e0140af90912ebf83b13772060b0/expr.ipynb\"><img src=\"../../../../__pv_it/72df168d2bfb4e0140af90912ebf83b13772060b0/expr.png\" style=\"display:inline;vertical-align:middle;\" /></a></td></tr>\n",
       "<tr><td>16</td><td>Variable</td><td></td><td><a class=\"ProveItLink\" href=\"../../../../__pv_it/c6e291955561f22a0e6708fd793ea93f1c7dbb5d0/expr.ipynb\"><img src=\"../../../../__pv_it/c6e291955561f22a0e6708fd793ea93f1c7dbb5d0/expr.png\" style=\"display:inline;vertical-align:middle;\" /></a></td></tr>\n",
       "</table>\n"
      ],
      "text/plain": [
       "0. {x <= y if x in Reals ,  y in Reals ,  x = y.\n",
       "   core type: Conditional\n",
       "   value: 1\n",
       "   condition: 2\n",
       "1. x <= y\n",
       "   core type: Operation\n",
       "   operator: 3\n",
       "   operands: 13\n",
       "2. (x in Reals) and (y in Reals) and (x = y)\n",
       "   core type: Operation\n",
       "   operator: 4\n",
       "   operands: 5\n",
       "3. <=\n",
       "   core type: Literal\n",
       "   sub-expressions: \n",
       "4. and\n",
       "   core type: Literal\n",
       "   sub-expressions: \n",
       "5. (x in Reals, y in Reals, x = y)\n",
       "   core type: ExprTuple\n",
       "   sub-expressions: 6, 7, 8\n",
       "6. x in Reals\n",
       "   core type: Operation\n",
       "   operator: 10\n",
       "   operands: 9\n",
       "7. y in Reals\n",
       "   core type: Operation\n",
       "   operator: 10\n",
       "   operands: 11\n",
       "8. x = y\n",
       "   core type: Operation\n",
       "   operator: 12\n",
       "   operands: 13\n",
       "9. (x, Reals)\n",
       "   core type: ExprTuple\n",
       "   sub-expressions: 15, 14\n",
       "10. in\n",
       "    core type: Literal\n",
       "    sub-expressions: \n",
       "11. (y, Reals)\n",
       "    core type: ExprTuple\n",
       "    sub-expressions: 16, 14\n",
       "12. =\n",
       "    core type: Literal\n",
       "    sub-expressions: \n",
       "13. (x, y)\n",
       "    core type: ExprTuple\n",
       "    sub-expressions: 15, 16\n",
       "14. Reals\n",
       "    core type: Literal\n",
       "    sub-expressions: \n",
       "15. x\n",
       "    core type: Variable\n",
       "    sub-expressions: \n",
       "16. y\n",
       "    core type: Variable\n",
       "    sub-expressions: "
      ]
     },
     "execution_count": 5,
     "metadata": {},
     "output_type": "execute_result"
    }
   ],
   "source": [
    "# display the expression information\n",
    "expr.exprInfo()"
   ]
  },
  {
   "cell_type": "code",
   "execution_count": null,
   "metadata": {},
   "outputs": [],
   "source": []
  }
 ],
 "metadata": {
  "kernelspec": {
   "display_name": "Python 3",
   "language": "python",
   "name": "python3"
  },
  "language_info": {
   "codemirror_mode": {
    "name": "ipython",
    "version": 3
   },
   "file_extension": ".py",
   "mimetype": "text/x-python",
   "name": "python",
   "nbconvert_exporter": "python",
   "pygments_lexer": "ipython3",
   "version": "3.7.3"
  }
 },
 "nbformat": 4,
 "nbformat_minor": 1
}
