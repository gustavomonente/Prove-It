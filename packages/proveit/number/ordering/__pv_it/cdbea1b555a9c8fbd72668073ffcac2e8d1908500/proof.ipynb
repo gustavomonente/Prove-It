{
 "cells": [
  {
   "cell_type": "markdown",
   "metadata": {},
   "source": [
    "Show the Proof\n",
    "========"
   ]
  },
  {
   "cell_type": "code",
   "execution_count": 1,
   "metadata": {},
   "outputs": [
    {
     "data": {
      "text/html": [
       "<table><tr><th>&nbsp;</th><th>step type</th><th>requirements</th><th>statement</th></tr>\n",
       "<tr><td><a name=\"proveit.number.ordering.cdbea1b555a9c8fbd72668073ffcac2e8d1908500_step0\">0</a></td><td>instantiation</td><td><a href=\"#proveit.number.ordering.cdbea1b555a9c8fbd72668073ffcac2e8d1908500_step1\">1</a>, <a href=\"#proveit.number.ordering.cdbea1b555a9c8fbd72668073ffcac2e8d1908500_step2\">2</a></td><td><span style=\"font-size:20px;\"> <a class=\"ProveItLink\" href=\"proof.ipynb\" style=\"text-decoration: none\">&#x22A2;&nbsp;</a><a class=\"ProveItLink\" href=\"../aacd617be9c7dccbdceded1eddd9931b20e12c230/expr.ipynb\"><img src=\"../aacd617be9c7dccbdceded1eddd9931b20e12c230/expr.png\" style=\"display:inline;vertical-align:middle;\" /></a></span></td></tr>\n",
       "<tr><td>&nbsp;</td><td colspan=4 style=\"text-align:left\"><span style=\"font-size:20px;\"><a class=\"ProveItLink\" href=\"../b03ca9c7bc8f532bf55517e632039b2ccc74c3bd0/expr.ipynb\"><img src=\"../b03ca9c7bc8f532bf55517e632039b2ccc74c3bd0/expr.png\" style=\"display:inline;vertical-align:middle;\" /></a> : <a class=\"ProveItLink\" href=\"../../../../core_expr_types/__pv_it/1e653f789234b245ee7fea7caad998c139d617410/expr.ipynb\"><img src=\"../../../../core_expr_types/__pv_it/1e653f789234b245ee7fea7caad998c139d617410/expr.png\" style=\"display:inline;vertical-align:middle;\" /></a>, <a class=\"ProveItLink\" href=\"../../../../__pv_it/557ab5defdcd46aa58168b08767502985122cd490/expr.ipynb\"><img src=\"../../../../__pv_it/557ab5defdcd46aa58168b08767502985122cd490/expr.png\" style=\"display:inline;vertical-align:middle;\" /></a> : <a class=\"ProveItLink\" href=\"../../../numeral/__pv_it/f086f8c372bd40a2458306ddfdbb29f3dc6f63030/expr.ipynb\"><img src=\"../../../numeral/__pv_it/f086f8c372bd40a2458306ddfdbb29f3dc6f63030/expr.png\" style=\"display:inline;vertical-align:middle;\" /></a>, <a class=\"ProveItLink\" href=\"../../../../__pv_it/6a5b5879f51878868f626bf09e4d76392d4779cd0/expr.ipynb\"><img src=\"../../../../__pv_it/6a5b5879f51878868f626bf09e4d76392d4779cd0/expr.png\" style=\"display:inline;vertical-align:middle;\" /></a> : <a class=\"ProveItLink\" href=\"../../../numeral/__pv_it/eafea0aba3ef5dc2db24e5b7b93d46ff53acbff50/expr.ipynb\"><img src=\"../../../numeral/__pv_it/eafea0aba3ef5dc2db24e5b7b93d46ff53acbff50/expr.png\" style=\"display:inline;vertical-align:middle;\" /></a></span></td></tr><tr><td><a name=\"proveit.number.ordering.cdbea1b555a9c8fbd72668073ffcac2e8d1908500_step1\">1</a></td><td>axiom</td><td></td><td><span style=\"font-size:20px;\"> <a class=\"ProveItLink\" href=\"../../../../core_expr_types/tuples/_axioms_.ipynb#range_extension_def\" style=\"text-decoration: none\">&#x22A2;&nbsp;</a><a class=\"ProveItLink\" href=\"../d5e800b32fa6467826b4e2e426276c20961a76410/expr.ipynb\"><img src=\"../d5e800b32fa6467826b4e2e426276c20961a76410/expr.png\" style=\"display:inline;vertical-align:middle;\" /></a></span></td></tr>\n",
       "<tr><td>&nbsp;</td><td colspan=4 style-\"text-align:left\"><a class=\"ProveItLink\" href=\"../../../../core_expr_types/tuples/_axioms_.ipynb#range_extension_def\">proveit.core_expr_types.tuples.range_extension_def</a></td></tr><tr><td><a name=\"proveit.number.ordering.cdbea1b555a9c8fbd72668073ffcac2e8d1908500_step2\">2</a></td><td>instantiation</td><td><a href=\"#proveit.number.ordering.cdbea1b555a9c8fbd72668073ffcac2e8d1908500_step3\">3</a>, <a href=\"#proveit.number.ordering.cdbea1b555a9c8fbd72668073ffcac2e8d1908500_step6\">6</a>, <a href=\"#proveit.number.ordering.cdbea1b555a9c8fbd72668073ffcac2e8d1908500_step4\">4</a></td><td><span style=\"font-size:20px;\"> <a class=\"ProveItLink\" href=\"../269a7d428b2b98f78f8fecd6dd00bdfb16ec74f60/proof.ipynb\" style=\"text-decoration: none\">&#x22A2;&nbsp;</a><a class=\"ProveItLink\" href=\"../96f5af5b06eff3c9038bcf5dc3f806e294e1da380/expr.ipynb\"><img src=\"../96f5af5b06eff3c9038bcf5dc3f806e294e1da380/expr.png\" style=\"display:inline;vertical-align:middle;\" /></a></span></td></tr>\n",
       "<tr><td>&nbsp;</td><td colspan=4 style=\"text-align:left\"><span style=\"font-size:20px;\"><a class=\"ProveItLink\" href=\"../6adf35e534b0f74f25bdd03c03dfd88a84b3ace50/expr.ipynb\"><img src=\"../6adf35e534b0f74f25bdd03c03dfd88a84b3ace50/expr.png\" style=\"display:inline;vertical-align:middle;\" /></a> : <a class=\"ProveItLink\" href=\"../362b01c8d86515b1097c2b6b6e46b721b952082c0/expr.ipynb\"><img src=\"../362b01c8d86515b1097c2b6b6e46b721b952082c0/expr.png\" style=\"display:inline;vertical-align:middle;\" /></a>, <a class=\"ProveItLink\" href=\"../../../../__pv_it/72df168d2bfb4e0140af90912ebf83b13772060b0/expr.ipynb\"><img src=\"../../../../__pv_it/72df168d2bfb4e0140af90912ebf83b13772060b0/expr.png\" style=\"display:inline;vertical-align:middle;\" /></a> : <a class=\"ProveItLink\" href=\"../400860b3bd0d7f4fed764e870d96b76c3f50f4850/expr.ipynb\"><img src=\"../400860b3bd0d7f4fed764e870d96b76c3f50f4850/expr.png\" style=\"display:inline;vertical-align:middle;\" /></a>, <a class=\"ProveItLink\" href=\"../../../../__pv_it/c6e291955561f22a0e6708fd793ea93f1c7dbb5d0/expr.ipynb\"><img src=\"../../../../__pv_it/c6e291955561f22a0e6708fd793ea93f1c7dbb5d0/expr.png\" style=\"display:inline;vertical-align:middle;\" /></a> : <a class=\"ProveItLink\" href=\"../../../numeral/__pv_it/eafea0aba3ef5dc2db24e5b7b93d46ff53acbff50/expr.ipynb\"><img src=\"../../../numeral/__pv_it/eafea0aba3ef5dc2db24e5b7b93d46ff53acbff50/expr.png\" style=\"display:inline;vertical-align:middle;\" /></a></span></td></tr><tr><td><a name=\"proveit.number.ordering.cdbea1b555a9c8fbd72668073ffcac2e8d1908500_step3\">3</a></td><td>theorem</td><td></td><td><span style=\"font-size:20px;\"> <a class=\"ProveItLink\" href=\"../../../../logic/equality/_proofs_/subLeftSideInto.ipynb\" style=\"text-decoration: none\">&#x22A2;&nbsp;</a><a class=\"ProveItLink\" href=\"../b045adeaf94fff26420abf17195299a9ce10046c0/expr.ipynb\"><img src=\"../b045adeaf94fff26420abf17195299a9ce10046c0/expr.png\" style=\"display:inline;vertical-align:middle;\" /></a></span></td></tr>\n",
       "<tr><td>&nbsp;</td><td colspan=4 style-\"text-align:left\"><a class=\"ProveItLink\" href=\"../../../../logic/equality/_proofs_/subLeftSideInto.ipynb\">proveit.logic.equality.subLeftSideInto</a></td></tr><tr><td><a name=\"proveit.number.ordering.cdbea1b555a9c8fbd72668073ffcac2e8d1908500_step4\">4</a></td><td>instantiation</td><td><a href=\"#proveit.number.ordering.cdbea1b555a9c8fbd72668073ffcac2e8d1908500_step5\">5</a>, <a href=\"#proveit.number.ordering.cdbea1b555a9c8fbd72668073ffcac2e8d1908500_step6\">6</a></td><td><span style=\"font-size:20px;\"> <a class=\"ProveItLink\" href=\"../ff8240afe3d6efd9a72c7853e4a190ab8489fe150/proof.ipynb\" style=\"text-decoration: none\">&#x22A2;&nbsp;</a><a class=\"ProveItLink\" href=\"../1e04d1d9d5c0be510e99dcd9b8a29409b8ce6a7e0/expr.ipynb\"><img src=\"../1e04d1d9d5c0be510e99dcd9b8a29409b8ce6a7e0/expr.png\" style=\"display:inline;vertical-align:middle;\" /></a></span></td></tr>\n",
       "<tr><td>&nbsp;</td><td colspan=4 style=\"text-align:left\"><span style=\"font-size:20px;\"><a class=\"ProveItLink\" href=\"../../../../__pv_it/557ab5defdcd46aa58168b08767502985122cd490/expr.ipynb\"><img src=\"../../../../__pv_it/557ab5defdcd46aa58168b08767502985122cd490/expr.png\" style=\"display:inline;vertical-align:middle;\" /></a> : <a class=\"ProveItLink\" href=\"../../../numeral/__pv_it/eafea0aba3ef5dc2db24e5b7b93d46ff53acbff50/expr.ipynb\"><img src=\"../../../numeral/__pv_it/eafea0aba3ef5dc2db24e5b7b93d46ff53acbff50/expr.png\" style=\"display:inline;vertical-align:middle;\" /></a>, <a class=\"ProveItLink\" href=\"../../../../__pv_it/e80bce2a0c2e8c976be76e7b3ce08f76e74ec5550/expr.ipynb\"><img src=\"../../../../__pv_it/e80bce2a0c2e8c976be76e7b3ce08f76e74ec5550/expr.png\" style=\"display:inline;vertical-align:middle;\" /></a> : <a class=\"ProveItLink\" href=\"../../../../__pv_it/a8d4b3a34d2189508f9082853fbac36935714f280/expr.ipynb\"><img src=\"../../../../__pv_it/a8d4b3a34d2189508f9082853fbac36935714f280/expr.png\" style=\"display:inline;vertical-align:middle;\" /></a></span></td></tr><tr><td><a name=\"proveit.number.ordering.cdbea1b555a9c8fbd72668073ffcac2e8d1908500_step5\">5</a></td><td>theorem</td><td></td><td><span style=\"font-size:20px;\"> <a class=\"ProveItLink\" href=\"../../../../core_expr_types/tuples/_proofs_/range_from1_len.ipynb\" style=\"text-decoration: none\">&#x22A2;&nbsp;</a><a class=\"ProveItLink\" href=\"../1963818143ff8cff6f321bb0efd065a4053b9abc0/expr.ipynb\"><img src=\"../1963818143ff8cff6f321bb0efd065a4053b9abc0/expr.png\" style=\"display:inline;vertical-align:middle;\" /></a></span></td></tr>\n",
       "<tr><td>&nbsp;</td><td colspan=4 style-\"text-align:left\"><a class=\"ProveItLink\" href=\"../../../../core_expr_types/tuples/_proofs_/range_from1_len.ipynb\">proveit.core_expr_types.tuples.range_from1_len</a></td></tr><tr><td><a name=\"proveit.number.ordering.cdbea1b555a9c8fbd72668073ffcac2e8d1908500_step6\">6</a></td><td>theorem</td><td></td><td><span style=\"font-size:20px;\"> <a class=\"ProveItLink\" href=\"../../../numeral/deci/_proofs_/nat3.ipynb\" style=\"text-decoration: none\">&#x22A2;&nbsp;</a><a class=\"ProveItLink\" href=\"../50582e77b44143d030866c114bc78777ccc0f16b0/expr.ipynb\"><img src=\"../50582e77b44143d030866c114bc78777ccc0f16b0/expr.png\" style=\"display:inline;vertical-align:middle;\" /></a></span></td></tr>\n",
       "<tr><td>&nbsp;</td><td colspan=4 style-\"text-align:left\"><a class=\"ProveItLink\" href=\"../../../numeral/deci/_proofs_/nat3.ipynb\">proveit.number.numeral.deci.nat3</a></td></tr></table>"
      ],
      "text/plain": [
       "<proveit._core_.proof._ShowProof at 0x7f5b9b1c8400>"
      ]
     },
     "execution_count": 1,
     "metadata": {},
     "output_type": "execute_result"
    }
   ],
   "source": [
    "import proveit\n",
    "# Automation is not needed when only showing a stored proof:\n",
    "proveit.defaults.automation = False # This will speed things up.\n",
    "proveit.defaults.inline_pngs = False # Makes files smaller.\n",
    "%show_proof"
   ]
  },
  {
   "cell_type": "code",
   "execution_count": null,
   "metadata": {},
   "outputs": [],
   "source": []
  }
 ],
 "metadata": {
  "kernelspec": {
   "display_name": "Python 3",
   "language": "python",
   "name": "python3"
  },
  "language_info": {
   "codemirror_mode": {
    "name": "ipython",
    "version": 3
   },
   "file_extension": ".py",
   "mimetype": "text/x-python",
   "name": "python",
   "nbconvert_exporter": "python",
   "pygments_lexer": "ipython3",
   "version": "3.7.3"
  }
 },
 "nbformat": 4,
 "nbformat_minor": 1
}
