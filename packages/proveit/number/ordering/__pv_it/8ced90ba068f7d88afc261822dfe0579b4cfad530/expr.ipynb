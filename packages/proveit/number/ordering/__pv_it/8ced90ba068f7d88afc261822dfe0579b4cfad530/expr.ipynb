{
 "cells": [
  {
   "cell_type": "markdown",
   "metadata": {},
   "source": [
    "Expression of type <a class=\"ProveItLink\" href=\"../../../../../../doc/html/api/proveit.ExprTuple.html\">ExprTuple</a>\n",
    "=======================\n",
    "# from context <a class=\"ProveItLink\" href=\"../../_context_.ipynb\">proveit.number.ordering</a>"
   ]
  },
  {
   "cell_type": "code",
   "execution_count": 1,
   "metadata": {},
   "outputs": [],
   "source": [
    "import proveit\n",
    "# Automation is not needed when building an expression:\n",
    "proveit.defaults.automation = False # This will speed things up.\n",
    "proveit.defaults.inline_pngs = False # Makes files smaller.\n",
    "# import Expression classes needed to build the expression\n",
    "from proveit import ExprRange, ExprTuple\n",
    "from proveit._common_ import a\n",
    "from proveit.core_expr_types import Len\n",
    "from proveit.number import Add, Neg, one, three"
   ]
  },
  {
   "cell_type": "code",
   "execution_count": 2,
   "metadata": {},
   "outputs": [
    {
     "data": {
      "text/html": [
       "<strong id=\"expr\">expr:</strong> <a class=\"ProveItLink\" href=\"expr.ipynb\"><img src=\"expr.png\" style=\"display:inline;vertical-align:middle;\" /></a><br>"
      ],
      "text/plain": [
       "expr: (|(1 + 1, ..a.., 3 + 1)|, (3 + 1) - (1 + 1) + 1)"
      ]
     },
     "execution_count": 2,
     "metadata": {},
     "output_type": "execute_result"
    }
   ],
   "source": [
    "# build up the expression from sub-expressions\n",
    "subExpr1 = Add(one, one)\n",
    "subExpr2 = Add(three, one)\n",
    "expr = ExprTuple(Len([ExprRange(a, a, subExpr1, subExpr2)]), Add(subExpr2, Neg(subExpr1), one))"
   ]
  },
  {
   "cell_type": "code",
   "execution_count": 3,
   "metadata": {},
   "outputs": [
    {
     "name": "stdout",
     "output_type": "stream",
     "text": [
      "Passed sanity check: built 'expr' is the same as the stored Expression.\n"
     ]
    }
   ],
   "source": [
    "# check that the built expression is the same as the stored expression\n",
    "%check_expr"
   ]
  },
  {
   "cell_type": "code",
   "execution_count": 4,
   "metadata": {},
   "outputs": [
    {
     "name": "stdout",
     "output_type": "stream",
     "text": [
      "\\left(|\\left(1 + 1, \\ldots, 3 + 1\\right)|, \\left(3 + 1\\right) - \\left(1 + 1\\right) + 1\\right)\n"
     ]
    }
   ],
   "source": [
    "# Show the LaTeX representation of the expression for convenience if you need it.\n",
    "print(expr.latex())"
   ]
  },
  {
   "cell_type": "code",
   "execution_count": 5,
   "metadata": {},
   "outputs": [
    {
     "data": {
      "text/html": [
       "<table><tr><th>&nbsp;</th><th>core type</th><th>sub-expressions</th><th>expression</th></tr>\n",
       "<tr><td>0</td><td>ExprTuple</td><td>1, 2</td><td><a class=\"ProveItLink\" href=\"expr.ipynb\"><img src=\"expr.png\" style=\"display:inline;vertical-align:middle;\" /></a></td></tr>\n",
       "<tr><td>1</td><td>Operation</td><td>operator:&nbsp;3<br>operand:&nbsp;6<br></td><td><a class=\"ProveItLink\" href=\"../24be681d2b48037c77d2b24469f40b2ebf77d8310/expr.ipynb\"><img src=\"../24be681d2b48037c77d2b24469f40b2ebf77d8310/expr.png\" style=\"display:inline;vertical-align:middle;\" /></a></td></tr>\n",
       "<tr><td>2</td><td>Operation</td><td>operator:&nbsp;15<br>operands:&nbsp;5<br></td><td><a class=\"ProveItLink\" href=\"../14a40755f38f00c624032cd0fe5c2030de9d20530/expr.ipynb\"><img src=\"../14a40755f38f00c624032cd0fe5c2030de9d20530/expr.png\" style=\"display:inline;vertical-align:middle;\" /></a></td></tr>\n",
       "<tr><td>3</td><td>Literal</td><td></td><td><a class=\"ProveItLink\" href=\"../../../../core_expr_types/tuples/__pv_it/92831c6291223dfbd76a11e90e750ae52564aa9f0/expr.ipynb\"><img src=\"../../../../core_expr_types/tuples/__pv_it/92831c6291223dfbd76a11e90e750ae52564aa9f0/expr.png\" style=\"display:inline;vertical-align:middle;\" /></a></td></tr>\n",
       "<tr><td>4</td><td>ExprTuple</td><td>6</td><td><a class=\"ProveItLink\" href=\"../145428962aa585edfdedf984520ea5ae1158d6880/expr.ipynb\"><img src=\"../145428962aa585edfdedf984520ea5ae1158d6880/expr.png\" style=\"display:inline;vertical-align:middle;\" /></a></td></tr>\n",
       "<tr><td>5</td><td>ExprTuple</td><td>12, 7, 18</td><td><a class=\"ProveItLink\" href=\"../44800703ecf681013c7718d631ec896f1899a75a0/expr.ipynb\"><img src=\"../44800703ecf681013c7718d631ec896f1899a75a0/expr.png\" style=\"display:inline;vertical-align:middle;\" /></a></td></tr>\n",
       "<tr><td>6</td><td>ExprTuple</td><td>8</td><td><a class=\"ProveItLink\" href=\"../742ca21561f65275fe21075986a9ee3ac153aa440/expr.ipynb\"><img src=\"../742ca21561f65275fe21075986a9ee3ac153aa440/expr.png\" style=\"display:inline;vertical-align:middle;\" /></a></td></tr>\n",
       "<tr><td>7</td><td>Operation</td><td>operator:&nbsp;9<br>operand:&nbsp;11<br></td><td><a class=\"ProveItLink\" href=\"../4b391ddc204f45e8cc96c848fd3aa71056eab6830/expr.ipynb\"><img src=\"../4b391ddc204f45e8cc96c848fd3aa71056eab6830/expr.png\" style=\"display:inline;vertical-align:middle;\" /></a></td></tr>\n",
       "<tr><td>8</td><td>ExprRange</td><td>lambda_map:&nbsp;10<br>start_index:&nbsp;11<br>end_index:&nbsp;12<br></td><td><a class=\"ProveItLink\" href=\"../f88bb368d38e44b9ff7f3098e48146e1c6f02a940/expr.ipynb\"><img src=\"../f88bb368d38e44b9ff7f3098e48146e1c6f02a940/expr.png\" style=\"display:inline;vertical-align:middle;\" /></a></td></tr>\n",
       "<tr><td>9</td><td>Literal</td><td></td><td><a class=\"ProveItLink\" href=\"../../../negation/__pv_it/2867787e35502987d81a45cac8e7f1c6996d6ff40/expr.ipynb\"><img src=\"../../../negation/__pv_it/2867787e35502987d81a45cac8e7f1c6996d6ff40/expr.png\" style=\"display:inline;vertical-align:middle;\" /></a></td></tr>\n",
       "<tr><td>10</td><td>Lambda</td><td>parameter:&nbsp;13<br>body:&nbsp;13<br></td><td><a class=\"ProveItLink\" href=\"../7bda9dc6d353d20fdde1090f8385e8258c766e6a0/expr.ipynb\"><img src=\"../7bda9dc6d353d20fdde1090f8385e8258c766e6a0/expr.png\" style=\"display:inline;vertical-align:middle;\" /></a></td></tr>\n",
       "<tr><td>11</td><td>Operation</td><td>operator:&nbsp;15<br>operands:&nbsp;14<br></td><td><a class=\"ProveItLink\" href=\"../f93ff5eb9551336b7b02baadd4b7d003f7ae987e0/expr.ipynb\"><img src=\"../f93ff5eb9551336b7b02baadd4b7d003f7ae987e0/expr.png\" style=\"display:inline;vertical-align:middle;\" /></a></td></tr>\n",
       "<tr><td>12</td><td>Operation</td><td>operator:&nbsp;15<br>operands:&nbsp;16<br></td><td><a class=\"ProveItLink\" href=\"../8906f6f1b4c45a897cb5c93699b66956df0f67640/expr.ipynb\"><img src=\"../8906f6f1b4c45a897cb5c93699b66956df0f67640/expr.png\" style=\"display:inline;vertical-align:middle;\" /></a></td></tr>\n",
       "<tr><td>13</td><td>Variable</td><td></td><td><a class=\"ProveItLink\" href=\"../../../../__pv_it/a8d4b3a34d2189508f9082853fbac36935714f280/expr.ipynb\"><img src=\"../../../../__pv_it/a8d4b3a34d2189508f9082853fbac36935714f280/expr.png\" style=\"display:inline;vertical-align:middle;\" /></a></td></tr>\n",
       "<tr><td>14</td><td>ExprTuple</td><td>18, 18</td><td><a class=\"ProveItLink\" href=\"../2f8cc564007138fd01fcf821e98b27f1c7a1bfcb0/expr.ipynb\"><img src=\"../2f8cc564007138fd01fcf821e98b27f1c7a1bfcb0/expr.png\" style=\"display:inline;vertical-align:middle;\" /></a></td></tr>\n",
       "<tr><td>15</td><td>Literal</td><td></td><td><a class=\"ProveItLink\" href=\"../../../addition/__pv_it/65ad7e8aee19b10110d590375ba95a879c4fb7ea0/expr.ipynb\"><img src=\"../../../addition/__pv_it/65ad7e8aee19b10110d590375ba95a879c4fb7ea0/expr.png\" style=\"display:inline;vertical-align:middle;\" /></a></td></tr>\n",
       "<tr><td>16</td><td>ExprTuple</td><td>17, 18</td><td><a class=\"ProveItLink\" href=\"../f0fecb4ce78ddec78ee14aefbfd7d5bac73853250/expr.ipynb\"><img src=\"../f0fecb4ce78ddec78ee14aefbfd7d5bac73853250/expr.png\" style=\"display:inline;vertical-align:middle;\" /></a></td></tr>\n",
       "<tr><td>17</td><td>Literal</td><td></td><td><a class=\"ProveItLink\" href=\"../../../numeral/__pv_it/eafea0aba3ef5dc2db24e5b7b93d46ff53acbff50/expr.ipynb\"><img src=\"../../../numeral/__pv_it/eafea0aba3ef5dc2db24e5b7b93d46ff53acbff50/expr.png\" style=\"display:inline;vertical-align:middle;\" /></a></td></tr>\n",
       "<tr><td>18</td><td>Literal</td><td></td><td><a class=\"ProveItLink\" href=\"../../../numeral/__pv_it/f086f8c372bd40a2458306ddfdbb29f3dc6f63030/expr.ipynb\"><img src=\"../../../numeral/__pv_it/f086f8c372bd40a2458306ddfdbb29f3dc6f63030/expr.png\" style=\"display:inline;vertical-align:middle;\" /></a></td></tr>\n",
       "</table>\n"
      ],
      "text/plain": [
       "0. (|(1 + 1, ..a.., 3 + 1)|, (3 + 1) - (1 + 1) + 1)\n",
       "   core type: ExprTuple\n",
       "   sub-expressions: 1, 2\n",
       "1. |(1 + 1, ..a.., 3 + 1)|\n",
       "   core type: Operation\n",
       "   operator: 3\n",
       "   operand: 6\n",
       "2. (3 + 1) - (1 + 1) + 1\n",
       "   core type: Operation\n",
       "   operator: 15\n",
       "   operands: 5\n",
       "3. length\n",
       "   core type: Literal\n",
       "   sub-expressions: \n",
       "4. ((1 + 1, ..a.., 3 + 1))\n",
       "   core type: ExprTuple\n",
       "   sub-expressions: 6\n",
       "5. (3 + 1, -(1 + 1), 1)\n",
       "   core type: ExprTuple\n",
       "   sub-expressions: 12, 7, 18\n",
       "6. (1 + 1, ..a.., 3 + 1)\n",
       "   core type: ExprTuple\n",
       "   sub-expressions: 8\n",
       "7. -(1 + 1)\n",
       "   core type: Operation\n",
       "   operator: 9\n",
       "   operand: 11\n",
       "8. (1 + 1), ..a.., (3 + 1)\n",
       "   core type: ExprRange\n",
       "   lambda_map: 10\n",
       "   start_index: 11\n",
       "   end_index: 12\n",
       "9. -\n",
       "   core type: Literal\n",
       "   sub-expressions: \n",
       "10. a -> a\n",
       "    core type: Lambda\n",
       "    parameter: 13\n",
       "    body: 13\n",
       "11. 1 + 1\n",
       "    core type: Operation\n",
       "    operator: 15\n",
       "    operands: 14\n",
       "12. 3 + 1\n",
       "    core type: Operation\n",
       "    operator: 15\n",
       "    operands: 16\n",
       "13. a\n",
       "    core type: Variable\n",
       "    sub-expressions: \n",
       "14. (1, 1)\n",
       "    core type: ExprTuple\n",
       "    sub-expressions: 18, 18\n",
       "15. +\n",
       "    core type: Literal\n",
       "    sub-expressions: \n",
       "16. (3, 1)\n",
       "    core type: ExprTuple\n",
       "    sub-expressions: 17, 18\n",
       "17. 3\n",
       "    core type: Literal\n",
       "    sub-expressions: \n",
       "18. 1\n",
       "    core type: Literal\n",
       "    sub-expressions: "
      ]
     },
     "execution_count": 5,
     "metadata": {},
     "output_type": "execute_result"
    }
   ],
   "source": [
    "# display the expression information\n",
    "expr.exprInfo()"
   ]
  },
  {
   "cell_type": "code",
   "execution_count": null,
   "metadata": {},
   "outputs": [],
   "source": []
  }
 ],
 "metadata": {
  "kernelspec": {
   "display_name": "Python 3",
   "language": "python",
   "name": "python3"
  },
  "language_info": {
   "codemirror_mode": {
    "name": "ipython",
    "version": 3
   },
   "file_extension": ".py",
   "mimetype": "text/x-python",
   "name": "python",
   "nbconvert_exporter": "python",
   "pygments_lexer": "ipython3",
   "version": "3.7.3"
  }
 },
 "nbformat": 4,
 "nbformat_minor": 1
}
