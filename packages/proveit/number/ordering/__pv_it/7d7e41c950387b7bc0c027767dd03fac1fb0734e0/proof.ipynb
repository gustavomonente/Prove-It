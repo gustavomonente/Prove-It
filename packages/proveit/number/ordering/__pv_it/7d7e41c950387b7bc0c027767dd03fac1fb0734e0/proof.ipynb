{
 "cells": [
  {
   "cell_type": "markdown",
   "metadata": {},
   "source": [
    "Show the Proof\n",
    "========"
   ]
  },
  {
   "cell_type": "code",
   "execution_count": 1,
   "metadata": {},
   "outputs": [
    {
     "data": {
      "text/html": [
       "<table><tr><th>&nbsp;</th><th>step type</th><th>requirements</th><th>statement</th></tr>\n",
       "<tr><td><a name=\"proveit.number.ordering.7d7e41c950387b7bc0c027767dd03fac1fb0734e0_step0\">0</a></td><td>instantiation</td><td><a href=\"#proveit.number.ordering.7d7e41c950387b7bc0c027767dd03fac1fb0734e0_step1\">1</a>, <a href=\"#proveit.number.ordering.7d7e41c950387b7bc0c027767dd03fac1fb0734e0_step2\">2</a>, <a href=\"#proveit.number.ordering.7d7e41c950387b7bc0c027767dd03fac1fb0734e0_step3\">3</a></td><td><span style=\"font-size:20px;\"><a class=\"ProveItLink\" href=\"../776e2c534d47babb305e090ad3ec7a77c72b15150/expr.ipynb\"><img src=\"../776e2c534d47babb305e090ad3ec7a77c72b15150/expr.png\" style=\"display:inline;vertical-align:middle;\" /></a> <a class=\"ProveItLink\" href=\"proof.ipynb\" style=\"text-decoration: none\">&#x22A2;&nbsp;</a><a class=\"ProveItLink\" href=\"../9c6950962dba4c3389ad7e4d52c86741810954110/expr.ipynb\"><img src=\"../9c6950962dba4c3389ad7e4d52c86741810954110/expr.png\" style=\"display:inline;vertical-align:middle;\" /></a></span></td></tr>\n",
       "<tr><td>&nbsp;</td><td colspan=4 style=\"text-align:left\"><span style=\"font-size:20px;\"><a class=\"ProveItLink\" href=\"../../../../__pv_it/72df168d2bfb4e0140af90912ebf83b13772060b0/expr.ipynb\"><img src=\"../../../../__pv_it/72df168d2bfb4e0140af90912ebf83b13772060b0/expr.png\" style=\"display:inline;vertical-align:middle;\" /></a> : <a class=\"ProveItLink\" href=\"../../../../__pv_it/a8d4b3a34d2189508f9082853fbac36935714f280/expr.ipynb\"><img src=\"../../../../__pv_it/a8d4b3a34d2189508f9082853fbac36935714f280/expr.png\" style=\"display:inline;vertical-align:middle;\" /></a>, <a class=\"ProveItLink\" href=\"../../../../__pv_it/c6e291955561f22a0e6708fd793ea93f1c7dbb5d0/expr.ipynb\"><img src=\"../../../../__pv_it/c6e291955561f22a0e6708fd793ea93f1c7dbb5d0/expr.png\" style=\"display:inline;vertical-align:middle;\" /></a> : <a class=\"ProveItLink\" href=\"../../../../__pv_it/04261bc123fecf54993152ffbcfbd1c4b61769bc0/expr.ipynb\"><img src=\"../../../../__pv_it/04261bc123fecf54993152ffbcfbd1c4b61769bc0/expr.png\" style=\"display:inline;vertical-align:middle;\" /></a>, <a class=\"ProveItLink\" href=\"../../../../__pv_it/0d889e00aed425c3081fbda3ac9194ae911895960/expr.ipynb\"><img src=\"../../../../__pv_it/0d889e00aed425c3081fbda3ac9194ae911895960/expr.png\" style=\"display:inline;vertical-align:middle;\" /></a> : <a class=\"ProveItLink\" href=\"../../../../__pv_it/0d889e00aed425c3081fbda3ac9194ae911895960/expr.ipynb\"><img src=\"../../../../__pv_it/0d889e00aed425c3081fbda3ac9194ae911895960/expr.png\" style=\"display:inline;vertical-align:middle;\" /></a></span></td></tr><tr><td><a name=\"proveit.number.ordering.7d7e41c950387b7bc0c027767dd03fac1fb0734e0_step1\">1</a></td><td>axiom</td><td></td><td><span style=\"font-size:20px;\"> <a class=\"ProveItLink\" href=\"../../_axioms_.ipynb#transitivityLessLess\" style=\"text-decoration: none\">&#x22A2;&nbsp;</a><a class=\"ProveItLink\" href=\"../61f7148a420d977e0e57beb7f546a4e8a8a3864d0/expr.ipynb\"><img src=\"../61f7148a420d977e0e57beb7f546a4e8a8a3864d0/expr.png\" style=\"display:inline;vertical-align:middle;\" /></a></span></td></tr>\n",
       "<tr><td>&nbsp;</td><td colspan=4 style-\"text-align:left\"><a class=\"ProveItLink\" href=\"../../_axioms_.ipynb#transitivityLessLess\">proveit.number.ordering.transitivityLessLess</a></td></tr><tr><td><a name=\"proveit.number.ordering.7d7e41c950387b7bc0c027767dd03fac1fb0734e0_step2\">2</a></td><td>instantiation</td><td><a href=\"#proveit.number.ordering.7d7e41c950387b7bc0c027767dd03fac1fb0734e0_step4\">4</a>, <a href=\"#proveit.number.ordering.7d7e41c950387b7bc0c027767dd03fac1fb0734e0_step5\">5</a>, <a href=\"#proveit.number.ordering.7d7e41c950387b7bc0c027767dd03fac1fb0734e0_step6\">6</a></td><td><span style=\"font-size:20px;\"><a class=\"ProveItLink\" href=\"../147bb9252c97c790fa6cabdff2419c12be9f949f0/expr.ipynb\"><img src=\"../147bb9252c97c790fa6cabdff2419c12be9f949f0/expr.png\" style=\"display:inline;vertical-align:middle;\" /></a> <a class=\"ProveItLink\" href=\"../a48e8d794ce1627e614113757978c2e14a160f3c0/proof.ipynb\" style=\"text-decoration: none\">&#x22A2;&nbsp;</a><a class=\"ProveItLink\" href=\"../46ecb3b1906486f24ef78b6eeb32f28a22d73b100/expr.ipynb\"><img src=\"../46ecb3b1906486f24ef78b6eeb32f28a22d73b100/expr.png\" style=\"display:inline;vertical-align:middle;\" /></a></span></td></tr>\n",
       "<tr><td>&nbsp;</td><td colspan=4 style=\"text-align:left\"><span style=\"font-size:20px;\"><a class=\"ProveItLink\" href=\"../../../../__pv_it/72df168d2bfb4e0140af90912ebf83b13772060b0/expr.ipynb\"><img src=\"../../../../__pv_it/72df168d2bfb4e0140af90912ebf83b13772060b0/expr.png\" style=\"display:inline;vertical-align:middle;\" /></a> : <a class=\"ProveItLink\" href=\"../../../../__pv_it/a8d4b3a34d2189508f9082853fbac36935714f280/expr.ipynb\"><img src=\"../../../../__pv_it/a8d4b3a34d2189508f9082853fbac36935714f280/expr.png\" style=\"display:inline;vertical-align:middle;\" /></a>, <a class=\"ProveItLink\" href=\"../../../../__pv_it/c6e291955561f22a0e6708fd793ea93f1c7dbb5d0/expr.ipynb\"><img src=\"../../../../__pv_it/c6e291955561f22a0e6708fd793ea93f1c7dbb5d0/expr.png\" style=\"display:inline;vertical-align:middle;\" /></a> : <a class=\"ProveItLink\" href=\"../../../../__pv_it/13033de591d663340a868497ea94790360bdb1370/expr.ipynb\"><img src=\"../../../../__pv_it/13033de591d663340a868497ea94790360bdb1370/expr.png\" style=\"display:inline;vertical-align:middle;\" /></a>, <a class=\"ProveItLink\" href=\"../../../../__pv_it/0d889e00aed425c3081fbda3ac9194ae911895960/expr.ipynb\"><img src=\"../../../../__pv_it/0d889e00aed425c3081fbda3ac9194ae911895960/expr.png\" style=\"display:inline;vertical-align:middle;\" /></a> : <a class=\"ProveItLink\" href=\"../../../../__pv_it/04261bc123fecf54993152ffbcfbd1c4b61769bc0/expr.ipynb\"><img src=\"../../../../__pv_it/04261bc123fecf54993152ffbcfbd1c4b61769bc0/expr.png\" style=\"display:inline;vertical-align:middle;\" /></a></span></td></tr><tr><td><a name=\"proveit.number.ordering.7d7e41c950387b7bc0c027767dd03fac1fb0734e0_step3\">3</a></td><td>assumption</td><td></td><td><span style=\"font-size:20px;\"><a class=\"ProveItLink\" href=\"../cac3ca6242a1ef2fc9ae2926334b266b191ca2410/expr.ipynb\"><img src=\"../cac3ca6242a1ef2fc9ae2926334b266b191ca2410/expr.png\" style=\"display:inline;vertical-align:middle;\" /></a> <a class=\"ProveItLink\" href=\"../719e3f0e634f3c391a03fcc5a62c80f21be995fd0/proof.ipynb\" style=\"text-decoration: none\">&#x22A2;&nbsp;</a><a class=\"ProveItLink\" href=\"../3d95198c02a0e55fd6cc478d197f8f71e5acfa940/expr.ipynb\"><img src=\"../3d95198c02a0e55fd6cc478d197f8f71e5acfa940/expr.png\" style=\"display:inline;vertical-align:middle;\" /></a></span></td></tr>\n",
       "<tr><td><a name=\"proveit.number.ordering.7d7e41c950387b7bc0c027767dd03fac1fb0734e0_step4\">4</a></td><td>theorem</td><td></td><td><span style=\"font-size:20px;\"> <a class=\"ProveItLink\" href=\"../../_proofs_/transitivityLessEqLess.ipynb\" style=\"text-decoration: none\">&#x22A2;&nbsp;</a><a class=\"ProveItLink\" href=\"../008ed3ba3fcbf9592e779e478e15b825af1c426c0/expr.ipynb\"><img src=\"../008ed3ba3fcbf9592e779e478e15b825af1c426c0/expr.png\" style=\"display:inline;vertical-align:middle;\" /></a></span></td></tr>\n",
       "<tr><td>&nbsp;</td><td colspan=4 style-\"text-align:left\"><a class=\"ProveItLink\" href=\"../../_proofs_/transitivityLessEqLess.ipynb\">proveit.number.ordering.transitivityLessEqLess</a></td></tr><tr><td><a name=\"proveit.number.ordering.7d7e41c950387b7bc0c027767dd03fac1fb0734e0_step5\">5</a></td><td>instantiation</td><td><a href=\"#proveit.number.ordering.7d7e41c950387b7bc0c027767dd03fac1fb0734e0_step7\">7</a>, <a href=\"#proveit.number.ordering.7d7e41c950387b7bc0c027767dd03fac1fb0734e0_step8\">8</a></td><td><span style=\"font-size:20px;\"><a class=\"ProveItLink\" href=\"../aba249080ff5e0b35f155f4f125fb42a14a99e4f0/expr.ipynb\"><img src=\"../aba249080ff5e0b35f155f4f125fb42a14a99e4f0/expr.png\" style=\"display:inline;vertical-align:middle;\" /></a> <a class=\"ProveItLink\" href=\"../b5dd63f7aa4f9920f2ab750de8c090c1c12ea5ba0/proof.ipynb\" style=\"text-decoration: none\">&#x22A2;&nbsp;</a><a class=\"ProveItLink\" href=\"../8869a862d0e21105d5f391da289ed2aaa2ec38e40/expr.ipynb\"><img src=\"../8869a862d0e21105d5f391da289ed2aaa2ec38e40/expr.png\" style=\"display:inline;vertical-align:middle;\" /></a></span></td></tr>\n",
       "<tr><td>&nbsp;</td><td colspan=4 style=\"text-align:left\"><span style=\"font-size:20px;\"><a class=\"ProveItLink\" href=\"../../../../__pv_it/72df168d2bfb4e0140af90912ebf83b13772060b0/expr.ipynb\"><img src=\"../../../../__pv_it/72df168d2bfb4e0140af90912ebf83b13772060b0/expr.png\" style=\"display:inline;vertical-align:middle;\" /></a> : <a class=\"ProveItLink\" href=\"../../../../__pv_it/13033de591d663340a868497ea94790360bdb1370/expr.ipynb\"><img src=\"../../../../__pv_it/13033de591d663340a868497ea94790360bdb1370/expr.png\" style=\"display:inline;vertical-align:middle;\" /></a>, <a class=\"ProveItLink\" href=\"../../../../__pv_it/c6e291955561f22a0e6708fd793ea93f1c7dbb5d0/expr.ipynb\"><img src=\"../../../../__pv_it/c6e291955561f22a0e6708fd793ea93f1c7dbb5d0/expr.png\" style=\"display:inline;vertical-align:middle;\" /></a> : <a class=\"ProveItLink\" href=\"../../../../__pv_it/a8d4b3a34d2189508f9082853fbac36935714f280/expr.ipynb\"><img src=\"../../../../__pv_it/a8d4b3a34d2189508f9082853fbac36935714f280/expr.png\" style=\"display:inline;vertical-align:middle;\" /></a></span></td></tr><tr><td><a name=\"proveit.number.ordering.7d7e41c950387b7bc0c027767dd03fac1fb0734e0_step6\">6</a></td><td>assumption</td><td></td><td><span style=\"font-size:20px;\"><a class=\"ProveItLink\" href=\"../04a31fdeced6bc92a3507760fc59acb4bc517a980/expr.ipynb\"><img src=\"../04a31fdeced6bc92a3507760fc59acb4bc517a980/expr.png\" style=\"display:inline;vertical-align:middle;\" /></a> <a class=\"ProveItLink\" href=\"../b3b620cc50b6aa8140eafdee5d7d347b189a5a940/proof.ipynb\" style=\"text-decoration: none\">&#x22A2;&nbsp;</a><a class=\"ProveItLink\" href=\"../5685fcf8fad276d8b14f35b287825b4c38c885c20/expr.ipynb\"><img src=\"../5685fcf8fad276d8b14f35b287825b4c38c885c20/expr.png\" style=\"display:inline;vertical-align:middle;\" /></a></span></td></tr>\n",
       "<tr><td><a name=\"proveit.number.ordering.7d7e41c950387b7bc0c027767dd03fac1fb0734e0_step7\">7</a></td><td>theorem</td><td></td><td><span style=\"font-size:20px;\"> <a class=\"ProveItLink\" href=\"../../_proofs_/reverseGreaterEq.ipynb\" style=\"text-decoration: none\">&#x22A2;&nbsp;</a><a class=\"ProveItLink\" href=\"../e04a17858815b344c8197e331abc7c9a90444b630/expr.ipynb\"><img src=\"../e04a17858815b344c8197e331abc7c9a90444b630/expr.png\" style=\"display:inline;vertical-align:middle;\" /></a></span></td></tr>\n",
       "<tr><td>&nbsp;</td><td colspan=4 style-\"text-align:left\"><a class=\"ProveItLink\" href=\"../../_proofs_/reverseGreaterEq.ipynb\">proveit.number.ordering.reverseGreaterEq</a></td></tr><tr><td><a name=\"proveit.number.ordering.7d7e41c950387b7bc0c027767dd03fac1fb0734e0_step8\">8</a></td><td>assumption</td><td></td><td><span style=\"font-size:20px;\"><a class=\"ProveItLink\" href=\"../aba249080ff5e0b35f155f4f125fb42a14a99e4f0/expr.ipynb\"><img src=\"../aba249080ff5e0b35f155f4f125fb42a14a99e4f0/expr.png\" style=\"display:inline;vertical-align:middle;\" /></a> <a class=\"ProveItLink\" href=\"../1bf5b92eb75589fd007d28d224297d8ef139d8f20/proof.ipynb\" style=\"text-decoration: none\">&#x22A2;&nbsp;</a><a class=\"ProveItLink\" href=\"../c09329fb8e8a3abe8c691d2c7d031e409e673a1b0/expr.ipynb\"><img src=\"../c09329fb8e8a3abe8c691d2c7d031e409e673a1b0/expr.png\" style=\"display:inline;vertical-align:middle;\" /></a></span></td></tr>\n",
       "</table>"
      ],
      "text/plain": [
       "<proveit._core_.proof._ShowProof at 0x7f5b8b746e48>"
      ]
     },
     "execution_count": 1,
     "metadata": {},
     "output_type": "execute_result"
    }
   ],
   "source": [
    "import proveit\n",
    "# Automation is not needed when only showing a stored proof:\n",
    "proveit.defaults.automation = False # This will speed things up.\n",
    "proveit.defaults.inline_pngs = False # Makes files smaller.\n",
    "%show_proof"
   ]
  },
  {
   "cell_type": "code",
   "execution_count": null,
   "metadata": {},
   "outputs": [],
   "source": []
  }
 ],
 "metadata": {
  "kernelspec": {
   "display_name": "Python 3",
   "language": "python",
   "name": "python3"
  },
  "language_info": {
   "codemirror_mode": {
    "name": "ipython",
    "version": 3
   },
   "file_extension": ".py",
   "mimetype": "text/x-python",
   "name": "python",
   "nbconvert_exporter": "python",
   "pygments_lexer": "ipython3",
   "version": "3.7.3"
  }
 },
 "nbformat": 4,
 "nbformat_minor": 1
}
