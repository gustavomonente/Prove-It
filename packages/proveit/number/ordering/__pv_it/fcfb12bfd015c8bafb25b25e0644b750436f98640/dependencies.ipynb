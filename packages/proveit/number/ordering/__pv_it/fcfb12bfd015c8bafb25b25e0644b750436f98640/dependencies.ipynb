{
 "cells": [
  {
   "cell_type": "markdown",
   "metadata": {},
   "source": [
    "Theorem Dependencies\n",
    "=======================\n",
    "\n",
    "## <a class=\"ProveItLink\" href=\"../../_context_.ipynb\">proveit.number.ordering</a>.<a class=\"ProveItLink\" href=\"../../_theorems_.ipynb#transitivityGreaterEqGreaterEq\">transitivityGreaterEqGreaterEq</a> \n",
    "***see <a class=\"ProveItLink\" href=\"../../_proofs_/transitivityGreaterEqGreaterEq.ipynb\">proof</a>***"
   ]
  },
  {
   "cell_type": "code",
   "execution_count": 1,
   "metadata": {},
   "outputs": [],
   "source": [
    "import proveit\n",
    "# Automation is not needed when querying dependencies:\n",
    "proveit.defaults.automation = False # This will speed things up.\n",
    "proveit.defaults.inline_pngs = False # Makes files smaller.\n",
    "from proveit.number.ordering._theorems_ import transitivityGreaterEqGreaterEq"
   ]
  },
  {
   "cell_type": "code",
   "execution_count": 2,
   "metadata": {},
   "outputs": [
    {
     "data": {
      "text/html": [
       "<h3>Unproven theorems required (directly or indirectly) to prove transitivityGreaterEqGreaterEq</h3>"
      ],
      "text/plain": [
       "<IPython.core.display.HTML object>"
      ]
     },
     "metadata": {},
     "output_type": "display_data"
    },
    {
     "data": {
      "text/html": [
       "<dl>"
      ],
      "text/plain": [
       "<IPython.core.display.HTML object>"
      ]
     },
     "metadata": {},
     "output_type": "display_data"
    },
    {
     "data": {
      "text/html": [
       "<dt><a class=\"ProveItLink\" href=\"../../../../logic/set_theory/enumeration/_proofs_/fold.ipynb\">proveit.logic.set_theory.enumeration.fold</a></dt><dd><a class=\"ProveItLink\" href=\"../../../../logic/set_theory/enumeration/__pv_it/a8768e6f81edbcdb0a1d44f3a219f44ab58026160/expr.ipynb\"><img src=\"../../../../logic/set_theory/enumeration/__pv_it/a8768e6f81edbcdb0a1d44f3a219f44ab58026160/expr.png\" style=\"display:inline;vertical-align:middle;\" /></a></dd>"
      ],
      "text/plain": [
       "<IPython.core.display.HTML object>"
      ]
     },
     "metadata": {},
     "output_type": "display_data"
    },
    {
     "data": {
      "text/html": [
       "<dt><a class=\"ProveItLink\" href=\"../../../numeral/deci/_proofs_/nat2.ipynb\">proveit.number.numeral.deci.nat2</a></dt><dd><a class=\"ProveItLink\" href=\"../../../numeral/deci/__pv_it/e1be5cc0ffa039746758df99e3fd79595c567a170/expr.ipynb\"><img src=\"../../../numeral/deci/__pv_it/e1be5cc0ffa039746758df99e3fd79595c567a170/expr.png\" style=\"display:inline;vertical-align:middle;\" /></a></dd>"
      ],
      "text/plain": [
       "<IPython.core.display.HTML object>"
      ]
     },
     "metadata": {},
     "output_type": "display_data"
    },
    {
     "data": {
      "text/html": [
       "<dt><a class=\"ProveItLink\" href=\"../../../numeral/deci/_proofs_/tuple_len_2_typical_equiv.ipynb\">proveit.number.numeral.deci.tuple_len_2_typical_equiv</a></dt><dd><a class=\"ProveItLink\" href=\"../../../numeral/deci/__pv_it/31a39e19408f8b414290df245ce20e6a3d0797030/expr.ipynb\"><img src=\"../../../numeral/deci/__pv_it/31a39e19408f8b414290df245ce20e6a3d0797030/expr.png\" style=\"display:inline;vertical-align:middle;\" /></a></dd>"
      ],
      "text/plain": [
       "<IPython.core.display.HTML object>"
      ]
     },
     "metadata": {},
     "output_type": "display_data"
    },
    {
     "data": {
      "text/html": [
       "<dt><a class=\"ProveItLink\" href=\"../../_proofs_/relaxGreater.ipynb\">proveit.number.ordering.relaxGreater</a></dt><dd><a class=\"ProveItLink\" href=\"../850f0f50f55bc417a30f5f13442a0dc9368be05c0/expr.ipynb\"><img src=\"../850f0f50f55bc417a30f5f13442a0dc9368be05c0/expr.png\" style=\"display:inline;vertical-align:middle;\" /></a></dd>"
      ],
      "text/plain": [
       "<IPython.core.display.HTML object>"
      ]
     },
     "metadata": {},
     "output_type": "display_data"
    },
    {
     "data": {
      "text/html": [
       "</dl>"
      ],
      "text/plain": [
       "<IPython.core.display.HTML object>"
      ]
     },
     "metadata": {},
     "output_type": "display_data"
    },
    {
     "data": {
      "text/html": [
       "<h3>Axioms required (directly or indirectly) to prove transitivityGreaterEqGreaterEq</h3>"
      ],
      "text/plain": [
       "<IPython.core.display.HTML object>"
      ]
     },
     "metadata": {},
     "output_type": "display_data"
    },
    {
     "data": {
      "text/html": [
       "<dl>"
      ],
      "text/plain": [
       "<IPython.core.display.HTML object>"
      ]
     },
     "metadata": {},
     "output_type": "display_data"
    },
    {
     "data": {
      "text/html": [
       "<dt><a class=\"ProveItLink\" href=\"../../../../logic/boolean/_axioms_.ipynb#boolsDef\">proveit.logic.boolean.boolsDef</a></dt><dd><a class=\"ProveItLink\" href=\"../../../../logic/boolean/__pv_it/f8b51998348a6385fada5a5dcf4f6799320f28650/expr.ipynb\"><img src=\"../../../../logic/boolean/__pv_it/f8b51998348a6385fada5a5dcf4f6799320f28650/expr.png\" style=\"display:inline;vertical-align:middle;\" /></a></dd>"
      ],
      "text/plain": [
       "<IPython.core.display.HTML object>"
      ]
     },
     "metadata": {},
     "output_type": "display_data"
    },
    {
     "data": {
      "text/html": [
       "<dt><a class=\"ProveItLink\" href=\"../../../../logic/boolean/disjunction/_axioms_.ipynb#leftInBool\">proveit.logic.boolean.disjunction.leftInBool</a></dt><dd><a class=\"ProveItLink\" href=\"../../../../logic/boolean/disjunction/__pv_it/3f3431be224a134c1b974a7eef2d3730ddb1adf10/expr.ipynb\"><img src=\"../../../../logic/boolean/disjunction/__pv_it/3f3431be224a134c1b974a7eef2d3730ddb1adf10/expr.png\" style=\"display:inline;vertical-align:middle;\" /></a></dd>"
      ],
      "text/plain": [
       "<IPython.core.display.HTML object>"
      ]
     },
     "metadata": {},
     "output_type": "display_data"
    },
    {
     "data": {
      "text/html": [
       "<dt><a class=\"ProveItLink\" href=\"../../../../logic/boolean/disjunction/_axioms_.ipynb#orFF\">proveit.logic.boolean.disjunction.orFF</a></dt><dd><a class=\"ProveItLink\" href=\"../../../../logic/boolean/disjunction/__pv_it/157e538b35995d1bc78bc7129e3e67c586df31e00/expr.ipynb\"><img src=\"../../../../logic/boolean/disjunction/__pv_it/157e538b35995d1bc78bc7129e3e67c586df31e00/expr.png\" style=\"display:inline;vertical-align:middle;\" /></a></dd>"
      ],
      "text/plain": [
       "<IPython.core.display.HTML object>"
      ]
     },
     "metadata": {},
     "output_type": "display_data"
    },
    {
     "data": {
      "text/html": [
       "<dt><a class=\"ProveItLink\" href=\"../../../../logic/boolean/disjunction/_axioms_.ipynb#orTF\">proveit.logic.boolean.disjunction.orTF</a></dt><dd><a class=\"ProveItLink\" href=\"../../../../logic/boolean/disjunction/__pv_it/a980f2e4f091260c75434ac31f723f4cc5f16b430/expr.ipynb\"><img src=\"../../../../logic/boolean/disjunction/__pv_it/a980f2e4f091260c75434ac31f723f4cc5f16b430/expr.png\" style=\"display:inline;vertical-align:middle;\" /></a></dd>"
      ],
      "text/plain": [
       "<IPython.core.display.HTML object>"
      ]
     },
     "metadata": {},
     "output_type": "display_data"
    },
    {
     "data": {
      "text/html": [
       "<dt><a class=\"ProveItLink\" href=\"../../../../logic/boolean/disjunction/_axioms_.ipynb#rightInBool\">proveit.logic.boolean.disjunction.rightInBool</a></dt><dd><a class=\"ProveItLink\" href=\"../../../../logic/boolean/disjunction/__pv_it/e2b42e3b7b09cfee42af5a45b6d7306ced219af80/expr.ipynb\"><img src=\"../../../../logic/boolean/disjunction/__pv_it/e2b42e3b7b09cfee42af5a45b6d7306ced219af80/expr.png\" style=\"display:inline;vertical-align:middle;\" /></a></dd>"
      ],
      "text/plain": [
       "<IPython.core.display.HTML object>"
      ]
     },
     "metadata": {},
     "output_type": "display_data"
    },
    {
     "data": {
      "text/html": [
       "<dt><a class=\"ProveItLink\" href=\"../../../../logic/boolean/_axioms_.ipynb#eqTrueElim\">proveit.logic.boolean.eqTrueElim</a></dt><dd><a class=\"ProveItLink\" href=\"../../../../logic/boolean/__pv_it/c40d2fe3b647e54f3c41cbb64fa7a5fea23ad4ba0/expr.ipynb\"><img src=\"../../../../logic/boolean/__pv_it/c40d2fe3b647e54f3c41cbb64fa7a5fea23ad4ba0/expr.png\" style=\"display:inline;vertical-align:middle;\" /></a></dd>"
      ],
      "text/plain": [
       "<IPython.core.display.HTML object>"
      ]
     },
     "metadata": {},
     "output_type": "display_data"
    },
    {
     "data": {
      "text/html": [
       "<dt><a class=\"ProveItLink\" href=\"../../../../logic/boolean/_axioms_.ipynb#eqTrueIntro\">proveit.logic.boolean.eqTrueIntro</a></dt><dd><a class=\"ProveItLink\" href=\"../../../../logic/boolean/__pv_it/1b97d519b6f842613318d652c6ad18957257936d0/expr.ipynb\"><img src=\"../../../../logic/boolean/__pv_it/1b97d519b6f842613318d652c6ad18957257936d0/expr.png\" style=\"display:inline;vertical-align:middle;\" /></a></dd>"
      ],
      "text/plain": [
       "<IPython.core.display.HTML object>"
      ]
     },
     "metadata": {},
     "output_type": "display_data"
    },
    {
     "data": {
      "text/html": [
       "<dt><a class=\"ProveItLink\" href=\"../../../../logic/boolean/_axioms_.ipynb#falseNotTrue\">proveit.logic.boolean.falseNotTrue</a></dt><dd><a class=\"ProveItLink\" href=\"../../../../logic/boolean/__pv_it/9232c35b58f1471872c4bdc53718ee27a9be34610/expr.ipynb\"><img src=\"../../../../logic/boolean/__pv_it/9232c35b58f1471872c4bdc53718ee27a9be34610/expr.png\" style=\"display:inline;vertical-align:middle;\" /></a></dd>"
      ],
      "text/plain": [
       "<IPython.core.display.HTML object>"
      ]
     },
     "metadata": {},
     "output_type": "display_data"
    },
    {
     "data": {
      "text/html": [
       "<dt><a class=\"ProveItLink\" href=\"../../../../logic/boolean/implication/_axioms_.ipynb#impliesFalseDef\">proveit.logic.boolean.implication.impliesFalseDef</a></dt><dd><a class=\"ProveItLink\" href=\"../../../../logic/boolean/implication/__pv_it/aca4db733abe35764d84bf2837c8f5c6155088360/expr.ipynb\"><img src=\"../../../../logic/boolean/implication/__pv_it/aca4db733abe35764d84bf2837c8f5c6155088360/expr.png\" style=\"display:inline;vertical-align:middle;\" /></a></dd>"
      ],
      "text/plain": [
       "<IPython.core.display.HTML object>"
      ]
     },
     "metadata": {},
     "output_type": "display_data"
    },
    {
     "data": {
      "text/html": [
       "<dt><a class=\"ProveItLink\" href=\"../../../../logic/boolean/negation/_axioms_.ipynb#negationElim\">proveit.logic.boolean.negation.negationElim</a></dt><dd><a class=\"ProveItLink\" href=\"../../../../logic/boolean/negation/__pv_it/effe4a00447dd6924d93afef35ad027eae208a7a0/expr.ipynb\"><img src=\"../../../../logic/boolean/negation/__pv_it/effe4a00447dd6924d93afef35ad027eae208a7a0/expr.png\" style=\"display:inline;vertical-align:middle;\" /></a></dd>"
      ],
      "text/plain": [
       "<IPython.core.display.HTML object>"
      ]
     },
     "metadata": {},
     "output_type": "display_data"
    },
    {
     "data": {
      "text/html": [
       "<dt><a class=\"ProveItLink\" href=\"../../../../logic/boolean/negation/_axioms_.ipynb#negationIntro\">proveit.logic.boolean.negation.negationIntro</a></dt><dd><a class=\"ProveItLink\" href=\"../../../../logic/boolean/negation/__pv_it/d92be96a81a927975a3e4fc43cc9e259175feb200/expr.ipynb\"><img src=\"../../../../logic/boolean/negation/__pv_it/d92be96a81a927975a3e4fc43cc9e259175feb200/expr.png\" style=\"display:inline;vertical-align:middle;\" /></a></dd>"
      ],
      "text/plain": [
       "<IPython.core.display.HTML object>"
      ]
     },
     "metadata": {},
     "output_type": "display_data"
    },
    {
     "data": {
      "text/html": [
       "<dt><a class=\"ProveItLink\" href=\"../../../../logic/equality/_axioms_.ipynb#equalityInBool\">proveit.logic.equality.equalityInBool</a></dt><dd><a class=\"ProveItLink\" href=\"../../../../logic/equality/__pv_it/8e4dcb0131893a0cba30db381aaa3ccc1f1d2dea0/expr.ipynb\"><img src=\"../../../../logic/equality/__pv_it/8e4dcb0131893a0cba30db381aaa3ccc1f1d2dea0/expr.png\" style=\"display:inline;vertical-align:middle;\" /></a></dd>"
      ],
      "text/plain": [
       "<IPython.core.display.HTML object>"
      ]
     },
     "metadata": {},
     "output_type": "display_data"
    },
    {
     "data": {
      "text/html": [
       "<dt><a class=\"ProveItLink\" href=\"../../../../logic/equality/_axioms_.ipynb#equalsReflexivity\">proveit.logic.equality.equalsReflexivity</a></dt><dd><a class=\"ProveItLink\" href=\"../../../../logic/equality/__pv_it/41ee2d23887e0db2fb1c64bf69a66887d78f206e0/expr.ipynb\"><img src=\"../../../../logic/equality/__pv_it/41ee2d23887e0db2fb1c64bf69a66887d78f206e0/expr.png\" style=\"display:inline;vertical-align:middle;\" /></a></dd>"
      ],
      "text/plain": [
       "<IPython.core.display.HTML object>"
      ]
     },
     "metadata": {},
     "output_type": "display_data"
    },
    {
     "data": {
      "text/html": [
       "<dt><a class=\"ProveItLink\" href=\"../../../../logic/equality/_axioms_.ipynb#equalsSymmetry\">proveit.logic.equality.equalsSymmetry</a></dt><dd><a class=\"ProveItLink\" href=\"../../../../logic/equality/__pv_it/2ec3cefd5b68d70e9e028d7461f9728ae37d4c650/expr.ipynb\"><img src=\"../../../../logic/equality/__pv_it/2ec3cefd5b68d70e9e028d7461f9728ae37d4c650/expr.png\" style=\"display:inline;vertical-align:middle;\" /></a></dd>"
      ],
      "text/plain": [
       "<IPython.core.display.HTML object>"
      ]
     },
     "metadata": {},
     "output_type": "display_data"
    },
    {
     "data": {
      "text/html": [
       "<dt><a class=\"ProveItLink\" href=\"../../../../logic/equality/_axioms_.ipynb#equalsTransitivity\">proveit.logic.equality.equalsTransitivity</a></dt><dd><a class=\"ProveItLink\" href=\"../../../../logic/equality/__pv_it/495c166cdd14b46cf3711cb4467adbb9a15d43120/expr.ipynb\"><img src=\"../../../../logic/equality/__pv_it/495c166cdd14b46cf3711cb4467adbb9a15d43120/expr.png\" style=\"display:inline;vertical-align:middle;\" /></a></dd>"
      ],
      "text/plain": [
       "<IPython.core.display.HTML object>"
      ]
     },
     "metadata": {},
     "output_type": "display_data"
    },
    {
     "data": {
      "text/html": [
       "<dt><a class=\"ProveItLink\" href=\"../../../../logic/equality/_axioms_.ipynb#notEqualsDef\">proveit.logic.equality.notEqualsDef</a></dt><dd><a class=\"ProveItLink\" href=\"../../../../logic/equality/__pv_it/3907ab5c01f6c9317b39937a40e58231ca0313cf0/expr.ipynb\"><img src=\"../../../../logic/equality/__pv_it/3907ab5c01f6c9317b39937a40e58231ca0313cf0/expr.png\" style=\"display:inline;vertical-align:middle;\" /></a></dd>"
      ],
      "text/plain": [
       "<IPython.core.display.HTML object>"
      ]
     },
     "metadata": {},
     "output_type": "display_data"
    },
    {
     "data": {
      "text/html": [
       "<dt><a class=\"ProveItLink\" href=\"../../../../logic/equality/_axioms_.ipynb#substitution\">proveit.logic.equality.substitution</a></dt><dd><a class=\"ProveItLink\" href=\"../../../../logic/equality/__pv_it/fce8b52e88693eef9d56c90f8a56ea5fa505017b0/expr.ipynb\"><img src=\"../../../../logic/equality/__pv_it/fce8b52e88693eef9d56c90f8a56ea5fa505017b0/expr.png\" style=\"display:inline;vertical-align:middle;\" /></a></dd>"
      ],
      "text/plain": [
       "<IPython.core.display.HTML object>"
      ]
     },
     "metadata": {},
     "output_type": "display_data"
    },
    {
     "data": {
      "text/html": [
       "<dt><a class=\"ProveItLink\" href=\"../../_axioms_.ipynb#greaterEqDef\">proveit.number.ordering.greaterEqDef</a></dt><dd><a class=\"ProveItLink\" href=\"../bb40e227f095c7c912cedbbdb7e1525ecf0a16da0/expr.ipynb\"><img src=\"../bb40e227f095c7c912cedbbdb7e1525ecf0a16da0/expr.png\" style=\"display:inline;vertical-align:middle;\" /></a></dd>"
      ],
      "text/plain": [
       "<IPython.core.display.HTML object>"
      ]
     },
     "metadata": {},
     "output_type": "display_data"
    },
    {
     "data": {
      "text/html": [
       "<dt><a class=\"ProveItLink\" href=\"../../_axioms_.ipynb#reverseRelation\">proveit.number.ordering.reverseRelation</a></dt><dd><a class=\"ProveItLink\" href=\"../6481a1985d7156b51e70ef82144000877f60b5760/expr.ipynb\"><img src=\"../6481a1985d7156b51e70ef82144000877f60b5760/expr.png\" style=\"display:inline;vertical-align:middle;\" /></a></dd>"
      ],
      "text/plain": [
       "<IPython.core.display.HTML object>"
      ]
     },
     "metadata": {},
     "output_type": "display_data"
    },
    {
     "data": {
      "text/html": [
       "<dt><a class=\"ProveItLink\" href=\"../../_axioms_.ipynb#transitivityLessLess\">proveit.number.ordering.transitivityLessLess</a></dt><dd><a class=\"ProveItLink\" href=\"../d1f5d9edd5e7c74f97f3e6f94dc03b62ea5a60960/expr.ipynb\"><img src=\"../d1f5d9edd5e7c74f97f3e6f94dc03b62ea5a60960/expr.png\" style=\"display:inline;vertical-align:middle;\" /></a></dd>"
      ],
      "text/plain": [
       "<IPython.core.display.HTML object>"
      ]
     },
     "metadata": {},
     "output_type": "display_data"
    },
    {
     "data": {
      "text/html": [
       "</dl>"
      ],
      "text/plain": [
       "<IPython.core.display.HTML object>"
      ]
     },
     "metadata": {},
     "output_type": "display_data"
    },
    {
     "data": {
      "text/html": [
       "<h3>No theorems depend upon transitivityGreaterEqGreaterEq</h3>"
      ],
      "text/plain": [
       "<IPython.core.display.HTML object>"
      ]
     },
     "metadata": {},
     "output_type": "display_data"
    }
   ],
   "source": [
    "%dependencies transitivityGreaterEqGreaterEq"
   ]
  }
 ],
 "metadata": {
  "kernelspec": {
   "display_name": "Python 3",
   "language": "python",
   "name": "python3"
  },
  "language_info": {
   "codemirror_mode": {
    "name": "ipython",
    "version": 3
   },
   "file_extension": ".py",
   "mimetype": "text/x-python",
   "name": "python",
   "nbconvert_exporter": "python",
   "pygments_lexer": "ipython3",
   "version": "3.7.3"
  }
 },
 "nbformat": 4,
 "nbformat_minor": 1
}
