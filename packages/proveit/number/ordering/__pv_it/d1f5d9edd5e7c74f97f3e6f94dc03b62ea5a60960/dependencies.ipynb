{
 "cells": [
  {
   "cell_type": "markdown",
   "metadata": {},
   "source": [
    "Axiom Dependencies\n",
    "=======================\n",
    "\n",
    "## <a class=\"ProveItLink\" href=\"../../_context_.ipynb\">proveit.number.ordering</a>.<a class=\"ProveItLink\" href=\"../../_axioms_.ipynb#transitivityLessLess\">transitivityLessLess</a> \n"
   ]
  },
  {
   "cell_type": "code",
   "execution_count": 1,
   "metadata": {},
   "outputs": [],
   "source": [
    "import proveit\n",
    "# Automation is not needed when querying dependencies:\n",
    "proveit.defaults.automation = False # This will speed things up.\n",
    "proveit.defaults.inline_pngs = False # Makes files smaller.\n",
    "from proveit.number.ordering._axioms_ import transitivityLessLess"
   ]
  },
  {
   "cell_type": "code",
   "execution_count": 2,
   "metadata": {},
   "outputs": [
    {
     "data": {
      "text/html": [
       "<h3>Theorems that depend directly on transitivityLessLess</h3>"
      ],
      "text/plain": [
       "<IPython.core.display.HTML object>"
      ]
     },
     "metadata": {},
     "output_type": "display_data"
    },
    {
     "data": {
      "text/html": [
       "<dl>"
      ],
      "text/plain": [
       "<IPython.core.display.HTML object>"
      ]
     },
     "metadata": {},
     "output_type": "display_data"
    },
    {
     "data": {
      "text/html": [
       "<dt><a class=\"ProveItLink\" href=\"../../_proofs_/transitivityGreaterGreater.ipynb\">proveit.number.ordering.transitivityGreaterGreater</a></dt><dd><a class=\"ProveItLink\" href=\"../c2cdc24133532f3434f4377b0a29198af152c7ff0/expr.ipynb\"><img src=\"../c2cdc24133532f3434f4377b0a29198af152c7ff0/expr.png\" style=\"display:inline;vertical-align:middle;\" /></a></dd>"
      ],
      "text/plain": [
       "<IPython.core.display.HTML object>"
      ]
     },
     "metadata": {},
     "output_type": "display_data"
    },
    {
     "data": {
      "text/html": [
       "<dt><a class=\"ProveItLink\" href=\"../../_proofs_/transitivityLessEqLess.ipynb\">proveit.number.ordering.transitivityLessEqLess</a></dt><dd><a class=\"ProveItLink\" href=\"../a5c785bfd8a4669aa1679d1a5c659d9469b0f4030/expr.ipynb\"><img src=\"../a5c785bfd8a4669aa1679d1a5c659d9469b0f4030/expr.png\" style=\"display:inline;vertical-align:middle;\" /></a></dd>"
      ],
      "text/plain": [
       "<IPython.core.display.HTML object>"
      ]
     },
     "metadata": {},
     "output_type": "display_data"
    },
    {
     "data": {
      "text/html": [
       "<dt><a class=\"ProveItLink\" href=\"../../_proofs_/transitivityLessLessEq.ipynb\">proveit.number.ordering.transitivityLessLessEq</a></dt><dd><a class=\"ProveItLink\" href=\"../6c7d368d86a5e80526da74448726349c016ad24b0/expr.ipynb\"><img src=\"../6c7d368d86a5e80526da74448726349c016ad24b0/expr.png\" style=\"display:inline;vertical-align:middle;\" /></a></dd>"
      ],
      "text/plain": [
       "<IPython.core.display.HTML object>"
      ]
     },
     "metadata": {},
     "output_type": "display_data"
    },
    {
     "data": {
      "text/html": [
       "<dt><a class=\"ProveItLink\" href=\"../../../../physics/quantum/QPE/_proofs_/two_pow_t_not_zero.ipynb\">proveit.physics.quantum.QPE.two_pow_t_not_zero</a></dt><dd><a class=\"ProveItLink\" href=\"../../../../physics/quantum/QPE/__pv_it/5959e84a0e932ebd60d5f1bda62d32ca116dffb80/expr.ipynb\"><img src=\"../../../../physics/quantum/QPE/__pv_it/5959e84a0e932ebd60d5f1bda62d32ca116dffb80/expr.png\" style=\"display:inline;vertical-align:middle;\" /></a></dd>"
      ],
      "text/plain": [
       "<IPython.core.display.HTML object>"
      ]
     },
     "metadata": {},
     "output_type": "display_data"
    },
    {
     "data": {
      "text/html": [
       "</dl>"
      ],
      "text/plain": [
       "<IPython.core.display.HTML object>"
      ]
     },
     "metadata": {},
     "output_type": "display_data"
    }
   ],
   "source": [
    "%dependencies transitivityLessLess"
   ]
  }
 ],
 "metadata": {
  "kernelspec": {
   "display_name": "Python 3",
   "language": "python",
   "name": "python3"
  },
  "language_info": {
   "codemirror_mode": {
    "name": "ipython",
    "version": 3
   },
   "file_extension": ".py",
   "mimetype": "text/x-python",
   "name": "python",
   "nbconvert_exporter": "python",
   "pygments_lexer": "ipython3",
   "version": "3.7.3"
  }
 },
 "nbformat": 4,
 "nbformat_minor": 1
}
