{
 "cells": [
  {
   "cell_type": "markdown",
   "metadata": {},
   "source": [
    "Expression of type <a class=\"ProveItLink\" href=\"../../../../../../doc/html/api/proveit.Lambda.html\">Lambda</a>\n",
    "=======================\n",
    "# from context <a class=\"ProveItLink\" href=\"../../_context_.ipynb\">proveit.number.ordering</a>"
   ]
  },
  {
   "cell_type": "code",
   "execution_count": 1,
   "metadata": {},
   "outputs": [],
   "source": [
    "import proveit\n",
    "# Automation is not needed when building an expression:\n",
    "proveit.defaults.automation = False # This will speed things up.\n",
    "proveit.defaults.inline_pngs = False # Makes files smaller.\n",
    "# import Expression classes needed to build the expression\n",
    "from proveit import Conditional, Lambda\n",
    "from proveit._common_ import x, y, z\n",
    "from proveit.logic import And\n",
    "from proveit.number import Less, LessEq"
   ]
  },
  {
   "cell_type": "code",
   "execution_count": 2,
   "metadata": {},
   "outputs": [
    {
     "data": {
      "text/html": [
       "<strong id=\"expr\">expr:</strong> <a class=\"ProveItLink\" href=\"expr.ipynb\"><img src=\"expr.png\" style=\"display:inline;vertical-align:middle;\" /></a><br>"
      ],
      "text/plain": [
       "expr: (x, y, z) -> {x < z if x <= y ,  y < z."
      ]
     },
     "execution_count": 2,
     "metadata": {},
     "output_type": "execute_result"
    }
   ],
   "source": [
    "# build up the expression from sub-expressions\n",
    "expr = Lambda([x, y, z], Conditional(Less(x, z), And(LessEq(x, y), Less(y, z))))"
   ]
  },
  {
   "cell_type": "code",
   "execution_count": 3,
   "metadata": {},
   "outputs": [
    {
     "name": "stdout",
     "output_type": "stream",
     "text": [
      "Passed sanity check: built 'expr' is the same as the stored Expression.\n"
     ]
    }
   ],
   "source": [
    "# check that the built expression is the same as the stored expression\n",
    "%check_expr"
   ]
  },
  {
   "cell_type": "code",
   "execution_count": 4,
   "metadata": {},
   "outputs": [
    {
     "name": "stdout",
     "output_type": "stream",
     "text": [
      "\\left(x, y, z\\right) \\mapsto \\left\\{x < z \\textrm{ if } x \\leq y ,  y < z\\right..\n"
     ]
    }
   ],
   "source": [
    "# Show the LaTeX representation of the expression for convenience if you need it.\n",
    "print(expr.latex())"
   ]
  },
  {
   "cell_type": "code",
   "execution_count": 5,
   "metadata": {},
   "outputs": [
    {
     "data": {
      "text/html": [
       "<table><tr><th>&nbsp;</th><th>core type</th><th>sub-expressions</th><th>expression</th></tr>\n",
       "<tr><td>0</td><td>Lambda</td><td>parameters:&nbsp;1<br>body:&nbsp;2<br></td><td><a class=\"ProveItLink\" href=\"expr.ipynb\"><img src=\"expr.png\" style=\"display:inline;vertical-align:middle;\" /></a></td></tr>\n",
       "<tr><td>1</td><td>ExprTuple</td><td>14, 15, 16</td><td><a class=\"ProveItLink\" href=\"../bf780d418d1d51b4930e1bceb1c1f82a7f038cef0/expr.ipynb\"><img src=\"../bf780d418d1d51b4930e1bceb1c1f82a7f038cef0/expr.png\" style=\"display:inline;vertical-align:middle;\" /></a></td></tr>\n",
       "<tr><td>2</td><td>Conditional</td><td>value:&nbsp;3<br>condition:&nbsp;4<br></td><td><a class=\"ProveItLink\" href=\"../369822ff189fcd0643b000c3b660bfe555b179690/expr.ipynb\"><img src=\"../369822ff189fcd0643b000c3b660bfe555b179690/expr.png\" style=\"display:inline;vertical-align:middle;\" /></a></td></tr>\n",
       "<tr><td>3</td><td>Operation</td><td>operator:&nbsp;12<br>operands:&nbsp;5<br></td><td><a class=\"ProveItLink\" href=\"../b8fcfec7511a8648a0520d90c287f177c44f6aad0/expr.ipynb\"><img src=\"../b8fcfec7511a8648a0520d90c287f177c44f6aad0/expr.png\" style=\"display:inline;vertical-align:middle;\" /></a></td></tr>\n",
       "<tr><td>4</td><td>Operation</td><td>operator:&nbsp;6<br>operands:&nbsp;7<br></td><td><a class=\"ProveItLink\" href=\"../97ba404d5fdaa12ce0251020acc6edf457d4c5550/expr.ipynb\"><img src=\"../97ba404d5fdaa12ce0251020acc6edf457d4c5550/expr.png\" style=\"display:inline;vertical-align:middle;\" /></a></td></tr>\n",
       "<tr><td>5</td><td>ExprTuple</td><td>14, 16</td><td><a class=\"ProveItLink\" href=\"../bed26b1439a100c7729cc5cbcdba29eb5a20da4c0/expr.ipynb\"><img src=\"../bed26b1439a100c7729cc5cbcdba29eb5a20da4c0/expr.png\" style=\"display:inline;vertical-align:middle;\" /></a></td></tr>\n",
       "<tr><td>6</td><td>Literal</td><td></td><td><a class=\"ProveItLink\" href=\"../../../../logic/boolean/conjunction/__pv_it/f41cc6b553210927c09f19a8a39cdf860a5585930/expr.ipynb\"><img src=\"../../../../logic/boolean/conjunction/__pv_it/f41cc6b553210927c09f19a8a39cdf860a5585930/expr.png\" style=\"display:inline;vertical-align:middle;\" /></a></td></tr>\n",
       "<tr><td>7</td><td>ExprTuple</td><td>8, 9</td><td><a class=\"ProveItLink\" href=\"../0ef34f93f502a3c967d83aeea2d12a1115cb38ab0/expr.ipynb\"><img src=\"../0ef34f93f502a3c967d83aeea2d12a1115cb38ab0/expr.png\" style=\"display:inline;vertical-align:middle;\" /></a></td></tr>\n",
       "<tr><td>8</td><td>Operation</td><td>operator:&nbsp;10<br>operands:&nbsp;11<br></td><td><a class=\"ProveItLink\" href=\"../377eb0e6d4ea94756f738a3dcefe9e6f5d06346c0/expr.ipynb\"><img src=\"../377eb0e6d4ea94756f738a3dcefe9e6f5d06346c0/expr.png\" style=\"display:inline;vertical-align:middle;\" /></a></td></tr>\n",
       "<tr><td>9</td><td>Operation</td><td>operator:&nbsp;12<br>operands:&nbsp;13<br></td><td><a class=\"ProveItLink\" href=\"../09fa89c7b2843a61c5cca16ec9d6e0c22eda65b60/expr.ipynb\"><img src=\"../09fa89c7b2843a61c5cca16ec9d6e0c22eda65b60/expr.png\" style=\"display:inline;vertical-align:middle;\" /></a></td></tr>\n",
       "<tr><td>10</td><td>Literal</td><td></td><td><a class=\"ProveItLink\" href=\"../75657f0186226b3d1bb8ce3bab2953bb36e04b3b0/expr.ipynb\"><img src=\"../75657f0186226b3d1bb8ce3bab2953bb36e04b3b0/expr.png\" style=\"display:inline;vertical-align:middle;\" /></a></td></tr>\n",
       "<tr><td>11</td><td>ExprTuple</td><td>14, 15</td><td><a class=\"ProveItLink\" href=\"../381a8da4a9fdeac3d03f772fe63417dc7a6055a40/expr.ipynb\"><img src=\"../381a8da4a9fdeac3d03f772fe63417dc7a6055a40/expr.png\" style=\"display:inline;vertical-align:middle;\" /></a></td></tr>\n",
       "<tr><td>12</td><td>Literal</td><td></td><td><a class=\"ProveItLink\" href=\"../f3d9fbb51fcb1b5a2184b502c51efff1714101450/expr.ipynb\"><img src=\"../f3d9fbb51fcb1b5a2184b502c51efff1714101450/expr.png\" style=\"display:inline;vertical-align:middle;\" /></a></td></tr>\n",
       "<tr><td>13</td><td>ExprTuple</td><td>15, 16</td><td><a class=\"ProveItLink\" href=\"../dc1952306f2b2bc0afcbb3ade7c3065a042b989a0/expr.ipynb\"><img src=\"../dc1952306f2b2bc0afcbb3ade7c3065a042b989a0/expr.png\" style=\"display:inline;vertical-align:middle;\" /></a></td></tr>\n",
       "<tr><td>14</td><td>Variable</td><td></td><td><a class=\"ProveItLink\" href=\"../../../../__pv_it/72df168d2bfb4e0140af90912ebf83b13772060b0/expr.ipynb\"><img src=\"../../../../__pv_it/72df168d2bfb4e0140af90912ebf83b13772060b0/expr.png\" style=\"display:inline;vertical-align:middle;\" /></a></td></tr>\n",
       "<tr><td>15</td><td>Variable</td><td></td><td><a class=\"ProveItLink\" href=\"../../../../__pv_it/c6e291955561f22a0e6708fd793ea93f1c7dbb5d0/expr.ipynb\"><img src=\"../../../../__pv_it/c6e291955561f22a0e6708fd793ea93f1c7dbb5d0/expr.png\" style=\"display:inline;vertical-align:middle;\" /></a></td></tr>\n",
       "<tr><td>16</td><td>Variable</td><td></td><td><a class=\"ProveItLink\" href=\"../../../../__pv_it/0d889e00aed425c3081fbda3ac9194ae911895960/expr.ipynb\"><img src=\"../../../../__pv_it/0d889e00aed425c3081fbda3ac9194ae911895960/expr.png\" style=\"display:inline;vertical-align:middle;\" /></a></td></tr>\n",
       "</table>\n"
      ],
      "text/plain": [
       "0. (x, y, z) -> {x < z if x <= y ,  y < z.\n",
       "   core type: Lambda\n",
       "   parameters: 1\\n   body: 2\n",
       "1. (x, y, z)\n",
       "   core type: ExprTuple\n",
       "   sub-expressions: 14, 15, 16\n",
       "2. {x < z if x <= y ,  y < z.\n",
       "   core type: Conditional\n",
       "   value: 3\n",
       "   condition: 4\n",
       "3. x < z\n",
       "   core type: Operation\n",
       "   operator: 12\n",
       "   operands: 5\n",
       "4. (x <= y) and (y < z)\n",
       "   core type: Operation\n",
       "   operator: 6\n",
       "   operands: 7\n",
       "5. (x, z)\n",
       "   core type: ExprTuple\n",
       "   sub-expressions: 14, 16\n",
       "6. and\n",
       "   core type: Literal\n",
       "   sub-expressions: \n",
       "7. (x <= y, y < z)\n",
       "   core type: ExprTuple\n",
       "   sub-expressions: 8, 9\n",
       "8. x <= y\n",
       "   core type: Operation\n",
       "   operator: 10\n",
       "   operands: 11\n",
       "9. y < z\n",
       "   core type: Operation\n",
       "   operator: 12\n",
       "   operands: 13\n",
       "10. <=\n",
       "    core type: Literal\n",
       "    sub-expressions: \n",
       "11. (x, y)\n",
       "    core type: ExprTuple\n",
       "    sub-expressions: 14, 15\n",
       "12. <\n",
       "    core type: Literal\n",
       "    sub-expressions: \n",
       "13. (y, z)\n",
       "    core type: ExprTuple\n",
       "    sub-expressions: 15, 16\n",
       "14. x\n",
       "    core type: Variable\n",
       "    sub-expressions: \n",
       "15. y\n",
       "    core type: Variable\n",
       "    sub-expressions: \n",
       "16. z\n",
       "    core type: Variable\n",
       "    sub-expressions: "
      ]
     },
     "execution_count": 5,
     "metadata": {},
     "output_type": "execute_result"
    }
   ],
   "source": [
    "# display the expression information\n",
    "expr.exprInfo()"
   ]
  },
  {
   "cell_type": "code",
   "execution_count": null,
   "metadata": {},
   "outputs": [],
   "source": []
  }
 ],
 "metadata": {
  "kernelspec": {
   "display_name": "Python 3",
   "language": "python",
   "name": "python3"
  },
  "language_info": {
   "codemirror_mode": {
    "name": "ipython",
    "version": 3
   },
   "file_extension": ".py",
   "mimetype": "text/x-python",
   "name": "python",
   "nbconvert_exporter": "python",
   "pygments_lexer": "ipython3",
   "version": "3.7.3"
  }
 },
 "nbformat": 4,
 "nbformat_minor": 1
}
