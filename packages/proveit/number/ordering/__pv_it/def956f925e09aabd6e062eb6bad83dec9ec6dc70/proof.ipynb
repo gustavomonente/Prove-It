{
 "cells": [
  {
   "cell_type": "markdown",
   "metadata": {},
   "source": [
    "Show the Proof\n",
    "========"
   ]
  },
  {
   "cell_type": "code",
   "execution_count": 1,
   "metadata": {},
   "outputs": [
    {
     "data": {
      "text/html": [
       "<table><tr><th>&nbsp;</th><th>step type</th><th>requirements</th><th>statement</th></tr>\n",
       "<tr><td><a name=\"proveit.number.ordering.def956f925e09aabd6e062eb6bad83dec9ec6dc70_step0\">0</a></td><td>hypothetical reasoning</td><td><a href=\"#proveit.number.ordering.def956f925e09aabd6e062eb6bad83dec9ec6dc70_step1\">1</a></td><td><span style=\"font-size:20px;\"><a class=\"ProveItLink\" href=\"../60c376a8e0faf2687f8bdf7b6d8d0f58d8bf50470/expr.ipynb\"><img src=\"../60c376a8e0faf2687f8bdf7b6d8d0f58d8bf50470/expr.png\" style=\"display:inline;vertical-align:middle;\" /></a> <a class=\"ProveItLink\" href=\"proof.ipynb\" style=\"text-decoration: none\">&#x22A2;&nbsp;</a><a class=\"ProveItLink\" href=\"../f45c08aeb0651a81f02d365f4d99b4922354b0400/expr.ipynb\"><img src=\"../f45c08aeb0651a81f02d365f4d99b4922354b0400/expr.png\" style=\"display:inline;vertical-align:middle;\" /></a></span></td></tr>\n",
       "<tr><td><a name=\"proveit.number.ordering.def956f925e09aabd6e062eb6bad83dec9ec6dc70_step1\">1</a></td><td>instantiation</td><td><a href=\"#proveit.number.ordering.def956f925e09aabd6e062eb6bad83dec9ec6dc70_step2\">2</a>, <a href=\"#proveit.number.ordering.def956f925e09aabd6e062eb6bad83dec9ec6dc70_step3\">3</a>, <a href=\"#proveit.number.ordering.def956f925e09aabd6e062eb6bad83dec9ec6dc70_step4\">4</a></td><td><span style=\"font-size:20px;\"><a class=\"ProveItLink\" href=\"../13b47d1b0ff88d9bb69251e77ec016c0c905c8880/expr.ipynb\"><img src=\"../13b47d1b0ff88d9bb69251e77ec016c0c905c8880/expr.png\" style=\"display:inline;vertical-align:middle;\" /></a> <a class=\"ProveItLink\" href=\"../a88e3d43e21ff9107a35760dd03d974b3ad076050/proof.ipynb\" style=\"text-decoration: none\">&#x22A2;&nbsp;</a><a class=\"ProveItLink\" href=\"../b8fcfec7511a8648a0520d90c287f177c44f6aad0/expr.ipynb\"><img src=\"../b8fcfec7511a8648a0520d90c287f177c44f6aad0/expr.png\" style=\"display:inline;vertical-align:middle;\" /></a></span></td></tr>\n",
       "<tr><td>&nbsp;</td><td colspan=4 style=\"text-align:left\"><span style=\"font-size:20px;\"><a class=\"ProveItLink\" href=\"../../../../__pv_it/72df168d2bfb4e0140af90912ebf83b13772060b0/expr.ipynb\"><img src=\"../../../../__pv_it/72df168d2bfb4e0140af90912ebf83b13772060b0/expr.png\" style=\"display:inline;vertical-align:middle;\" /></a> : <a class=\"ProveItLink\" href=\"../../../../__pv_it/72df168d2bfb4e0140af90912ebf83b13772060b0/expr.ipynb\"><img src=\"../../../../__pv_it/72df168d2bfb4e0140af90912ebf83b13772060b0/expr.png\" style=\"display:inline;vertical-align:middle;\" /></a>, <a class=\"ProveItLink\" href=\"../../../../__pv_it/c6e291955561f22a0e6708fd793ea93f1c7dbb5d0/expr.ipynb\"><img src=\"../../../../__pv_it/c6e291955561f22a0e6708fd793ea93f1c7dbb5d0/expr.png\" style=\"display:inline;vertical-align:middle;\" /></a> : <a class=\"ProveItLink\" href=\"../../../../__pv_it/c6e291955561f22a0e6708fd793ea93f1c7dbb5d0/expr.ipynb\"><img src=\"../../../../__pv_it/c6e291955561f22a0e6708fd793ea93f1c7dbb5d0/expr.png\" style=\"display:inline;vertical-align:middle;\" /></a>, <a class=\"ProveItLink\" href=\"../../../../__pv_it/0d889e00aed425c3081fbda3ac9194ae911895960/expr.ipynb\"><img src=\"../../../../__pv_it/0d889e00aed425c3081fbda3ac9194ae911895960/expr.png\" style=\"display:inline;vertical-align:middle;\" /></a> : <a class=\"ProveItLink\" href=\"../../../../__pv_it/0d889e00aed425c3081fbda3ac9194ae911895960/expr.ipynb\"><img src=\"../../../../__pv_it/0d889e00aed425c3081fbda3ac9194ae911895960/expr.png\" style=\"display:inline;vertical-align:middle;\" /></a></span></td></tr><tr><td><a name=\"proveit.number.ordering.def956f925e09aabd6e062eb6bad83dec9ec6dc70_step2\">2</a></td><td>axiom</td><td></td><td><span style=\"font-size:20px;\"> <a class=\"ProveItLink\" href=\"../../_axioms_.ipynb#transitivityLessLess\" style=\"text-decoration: none\">&#x22A2;&nbsp;</a><a class=\"ProveItLink\" href=\"../fe53b4de391a0db3f72844db747e8f5d50f56f650/expr.ipynb\"><img src=\"../fe53b4de391a0db3f72844db747e8f5d50f56f650/expr.png\" style=\"display:inline;vertical-align:middle;\" /></a></span></td></tr>\n",
       "<tr><td>&nbsp;</td><td colspan=4 style-\"text-align:left\"><a class=\"ProveItLink\" href=\"../../_axioms_.ipynb#transitivityLessLess\">proveit.number.ordering.transitivityLessLess</a></td></tr><tr><td><a name=\"proveit.number.ordering.def956f925e09aabd6e062eb6bad83dec9ec6dc70_step3\">3</a></td><td>assumption</td><td></td><td><span style=\"font-size:20px;\"><a class=\"ProveItLink\" href=\"../60c376a8e0faf2687f8bdf7b6d8d0f58d8bf50470/expr.ipynb\"><img src=\"../60c376a8e0faf2687f8bdf7b6d8d0f58d8bf50470/expr.png\" style=\"display:inline;vertical-align:middle;\" /></a> <a class=\"ProveItLink\" href=\"../8208d9dd7823d1195b9b2d2191dbe40bb48c3b5b0/proof.ipynb\" style=\"text-decoration: none\">&#x22A2;&nbsp;</a><a class=\"ProveItLink\" href=\"../4f8e3eb6e253667505a54160f32605db7394243c0/expr.ipynb\"><img src=\"../4f8e3eb6e253667505a54160f32605db7394243c0/expr.png\" style=\"display:inline;vertical-align:middle;\" /></a></span></td></tr>\n",
       "<tr><td><a name=\"proveit.number.ordering.def956f925e09aabd6e062eb6bad83dec9ec6dc70_step4\">4</a></td><td>assumption</td><td></td><td><span style=\"font-size:20px;\"><a class=\"ProveItLink\" href=\"../134455fb8bf43500e621439139c9a5191cf934e30/expr.ipynb\"><img src=\"../134455fb8bf43500e621439139c9a5191cf934e30/expr.png\" style=\"display:inline;vertical-align:middle;\" /></a> <a class=\"ProveItLink\" href=\"../70a232aa74d7ab1c70aa58d2a3188e2bffe30b040/proof.ipynb\" style=\"text-decoration: none\">&#x22A2;&nbsp;</a><a class=\"ProveItLink\" href=\"../09fa89c7b2843a61c5cca16ec9d6e0c22eda65b60/expr.ipynb\"><img src=\"../09fa89c7b2843a61c5cca16ec9d6e0c22eda65b60/expr.png\" style=\"display:inline;vertical-align:middle;\" /></a></span></td></tr>\n",
       "</table>"
      ],
      "text/plain": [
       "<proveit._core_.proof._ShowProof at 0x7f5b83f86390>"
      ]
     },
     "execution_count": 1,
     "metadata": {},
     "output_type": "execute_result"
    }
   ],
   "source": [
    "import proveit\n",
    "# Automation is not needed when only showing a stored proof:\n",
    "proveit.defaults.automation = False # This will speed things up.\n",
    "proveit.defaults.inline_pngs = False # Makes files smaller.\n",
    "%show_proof"
   ]
  },
  {
   "cell_type": "code",
   "execution_count": null,
   "metadata": {},
   "outputs": [],
   "source": []
  }
 ],
 "metadata": {
  "kernelspec": {
   "display_name": "Python 3",
   "language": "python",
   "name": "python3"
  },
  "language_info": {
   "codemirror_mode": {
    "name": "ipython",
    "version": 3
   },
   "file_extension": ".py",
   "mimetype": "text/x-python",
   "name": "python",
   "nbconvert_exporter": "python",
   "pygments_lexer": "ipython3",
   "version": "3.7.3"
  }
 },
 "nbformat": 4,
 "nbformat_minor": 1
}
