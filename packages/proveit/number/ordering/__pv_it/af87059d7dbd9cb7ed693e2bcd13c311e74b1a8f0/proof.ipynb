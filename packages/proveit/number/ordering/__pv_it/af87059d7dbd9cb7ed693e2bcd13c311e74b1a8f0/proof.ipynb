{
 "cells": [
  {
   "cell_type": "markdown",
   "metadata": {},
   "source": [
    "Show the Proof\n",
    "========"
   ]
  },
  {
   "cell_type": "code",
   "execution_count": 1,
   "metadata": {},
   "outputs": [
    {
     "data": {
      "text/html": [
       "<table><tr><th>&nbsp;</th><th>step type</th><th>requirements</th><th>statement</th></tr>\n",
       "<tr><td><a name=\"proveit.number.ordering.af87059d7dbd9cb7ed693e2bcd13c311e74b1a8f0_step0\">0</a></td><td>instantiation</td><td><a href=\"#proveit.number.ordering.af87059d7dbd9cb7ed693e2bcd13c311e74b1a8f0_step1\">1</a>, <a href=\"#proveit.number.ordering.af87059d7dbd9cb7ed693e2bcd13c311e74b1a8f0_step2\">2</a></td><td><span style=\"font-size:20px;\"><a class=\"ProveItLink\" href=\"../2acf6814fb778770d583f045374fdc7d86bbe4490/expr.ipynb\"><img src=\"../2acf6814fb778770d583f045374fdc7d86bbe4490/expr.png\" style=\"display:inline;vertical-align:middle;\" /></a> <a class=\"ProveItLink\" href=\"proof.ipynb\" style=\"text-decoration: none\">&#x22A2;&nbsp;</a><a class=\"ProveItLink\" href=\"../e5fe97c7be4e0af9be8e3ef4a49dcf8c56990f1c0/expr.ipynb\"><img src=\"../e5fe97c7be4e0af9be8e3ef4a49dcf8c56990f1c0/expr.png\" style=\"display:inline;vertical-align:middle;\" /></a></span></td></tr>\n",
       "<tr><td>&nbsp;</td><td colspan=4 style=\"text-align:left\"><span style=\"font-size:20px;\"><a class=\"ProveItLink\" href=\"../../../../__pv_it/d3792d0d8642fdf1cd2a3a9b32c673ee13653de00/expr.ipynb\"><img src=\"../../../../__pv_it/d3792d0d8642fdf1cd2a3a9b32c673ee13653de00/expr.png\" style=\"display:inline;vertical-align:middle;\" /></a> : <a class=\"ProveItLink\" href=\"../09fa89c7b2843a61c5cca16ec9d6e0c22eda65b60/expr.ipynb\"><img src=\"../09fa89c7b2843a61c5cca16ec9d6e0c22eda65b60/expr.png\" style=\"display:inline;vertical-align:middle;\" /></a>, <a class=\"ProveItLink\" href=\"../../../../__pv_it/4d98b438710c5ada9ffa4646bb123a7d0e69ec000/expr.ipynb\"><img src=\"../../../../__pv_it/4d98b438710c5ada9ffa4646bb123a7d0e69ec000/expr.png\" style=\"display:inline;vertical-align:middle;\" /></a> : <a class=\"ProveItLink\" href=\"../e9a6d7889c8de58bd4a19ed0c0b04706a04238ae0/expr.ipynb\"><img src=\"../e9a6d7889c8de58bd4a19ed0c0b04706a04238ae0/expr.png\" style=\"display:inline;vertical-align:middle;\" /></a></span></td></tr><tr><td><a name=\"proveit.number.ordering.af87059d7dbd9cb7ed693e2bcd13c311e74b1a8f0_step1\">1</a></td><td>axiom</td><td></td><td><span style=\"font-size:20px;\"> <a class=\"ProveItLink\" href=\"../../../../logic/boolean/disjunction/_axioms_.ipynb#rightInBool\" style=\"text-decoration: none\">&#x22A2;&nbsp;</a><a class=\"ProveItLink\" href=\"../266640dce707d6fd381ee79382711f8512b39d6d0/expr.ipynb\"><img src=\"../266640dce707d6fd381ee79382711f8512b39d6d0/expr.png\" style=\"display:inline;vertical-align:middle;\" /></a></span></td></tr>\n",
       "<tr><td>&nbsp;</td><td colspan=4 style-\"text-align:left\"><a class=\"ProveItLink\" href=\"../../../../logic/boolean/disjunction/_axioms_.ipynb#rightInBool\">proveit.logic.boolean.disjunction.rightInBool</a></td></tr><tr><td><a name=\"proveit.number.ordering.af87059d7dbd9cb7ed693e2bcd13c311e74b1a8f0_step2\">2</a></td><td>instantiation</td><td><a href=\"#proveit.number.ordering.af87059d7dbd9cb7ed693e2bcd13c311e74b1a8f0_step3\">3</a>, <a href=\"#proveit.number.ordering.af87059d7dbd9cb7ed693e2bcd13c311e74b1a8f0_step4\">4</a>, <a href=\"#proveit.number.ordering.af87059d7dbd9cb7ed693e2bcd13c311e74b1a8f0_step5\">5</a></td><td><span style=\"font-size:20px;\"><a class=\"ProveItLink\" href=\"../2acf6814fb778770d583f045374fdc7d86bbe4490/expr.ipynb\"><img src=\"../2acf6814fb778770d583f045374fdc7d86bbe4490/expr.png\" style=\"display:inline;vertical-align:middle;\" /></a> <a class=\"ProveItLink\" href=\"../345a2548d3f8c39fc8bb783f32fc128965ce33c20/proof.ipynb\" style=\"text-decoration: none\">&#x22A2;&nbsp;</a><a class=\"ProveItLink\" href=\"../452d2779392ff0b77773f2be9ca698c04b065e240/expr.ipynb\"><img src=\"../452d2779392ff0b77773f2be9ca698c04b065e240/expr.png\" style=\"display:inline;vertical-align:middle;\" /></a></span></td></tr>\n",
       "<tr><td>&nbsp;</td><td colspan=4 style=\"text-align:left\"><span style=\"font-size:20px;\"><a class=\"ProveItLink\" href=\"../6adf35e534b0f74f25bdd03c03dfd88a84b3ace50/expr.ipynb\"><img src=\"../6adf35e534b0f74f25bdd03c03dfd88a84b3ace50/expr.png\" style=\"display:inline;vertical-align:middle;\" /></a> : <a class=\"ProveItLink\" href=\"../7f5851d30d9071ac5add92b1415dd8c1d59a5c620/expr.ipynb\"><img src=\"../7f5851d30d9071ac5add92b1415dd8c1d59a5c620/expr.png\" style=\"display:inline;vertical-align:middle;\" /></a>, <a class=\"ProveItLink\" href=\"../../../../__pv_it/72df168d2bfb4e0140af90912ebf83b13772060b0/expr.ipynb\"><img src=\"../../../../__pv_it/72df168d2bfb4e0140af90912ebf83b13772060b0/expr.png\" style=\"display:inline;vertical-align:middle;\" /></a> : <a class=\"ProveItLink\" href=\"../08fce64b76ca8e122f44db6c74733db8f63d8ace0/expr.ipynb\"><img src=\"../08fce64b76ca8e122f44db6c74733db8f63d8ace0/expr.png\" style=\"display:inline;vertical-align:middle;\" /></a></span></td></tr><tr><td><a name=\"proveit.number.ordering.af87059d7dbd9cb7ed693e2bcd13c311e74b1a8f0_step3\">3</a></td><td>theorem</td><td></td><td><span style=\"font-size:20px;\"> <a class=\"ProveItLink\" href=\"../../../../logic/equality/_proofs_/substituteTruth.ipynb\" style=\"text-decoration: none\">&#x22A2;&nbsp;</a><a class=\"ProveItLink\" href=\"../c2cb97100b117f143ca3c09a77f75b44bb41e6160/expr.ipynb\"><img src=\"../c2cb97100b117f143ca3c09a77f75b44bb41e6160/expr.png\" style=\"display:inline;vertical-align:middle;\" /></a></span></td></tr>\n",
       "<tr><td>&nbsp;</td><td colspan=4 style-\"text-align:left\"><a class=\"ProveItLink\" href=\"../../../../logic/equality/_proofs_/substituteTruth.ipynb\">proveit.logic.equality.substituteTruth</a></td></tr><tr><td><a name=\"proveit.number.ordering.af87059d7dbd9cb7ed693e2bcd13c311e74b1a8f0_step4\">4</a></td><td>theorem</td><td></td><td><span style=\"font-size:20px;\"> <a class=\"ProveItLink\" href=\"../../../../logic/boolean/_proofs_/trueInBool.ipynb\" style=\"text-decoration: none\">&#x22A2;&nbsp;</a><a class=\"ProveItLink\" href=\"../2f88e5c6f7ea7ef0da11c50a533a1f221022588f0/expr.ipynb\"><img src=\"../2f88e5c6f7ea7ef0da11c50a533a1f221022588f0/expr.png\" style=\"display:inline;vertical-align:middle;\" /></a></span></td></tr>\n",
       "<tr><td>&nbsp;</td><td colspan=4 style-\"text-align:left\"><a class=\"ProveItLink\" href=\"../../../../logic/boolean/_proofs_/trueInBool.ipynb\">proveit.logic.boolean.trueInBool</a></td></tr><tr><td><a name=\"proveit.number.ordering.af87059d7dbd9cb7ed693e2bcd13c311e74b1a8f0_step5\">5</a></td><td>instantiation</td><td><a href=\"#proveit.number.ordering.af87059d7dbd9cb7ed693e2bcd13c311e74b1a8f0_step6\">6</a>, <a href=\"#proveit.number.ordering.af87059d7dbd9cb7ed693e2bcd13c311e74b1a8f0_step7\">7</a>, <a href=\"#proveit.number.ordering.af87059d7dbd9cb7ed693e2bcd13c311e74b1a8f0_step8\">8</a></td><td><span style=\"font-size:20px;\"><a class=\"ProveItLink\" href=\"../2acf6814fb778770d583f045374fdc7d86bbe4490/expr.ipynb\"><img src=\"../2acf6814fb778770d583f045374fdc7d86bbe4490/expr.png\" style=\"display:inline;vertical-align:middle;\" /></a> <a class=\"ProveItLink\" href=\"../db3554428845a81d358bab206d6f920e0b3dd55c0/proof.ipynb\" style=\"text-decoration: none\">&#x22A2;&nbsp;</a><a class=\"ProveItLink\" href=\"../08fce64b76ca8e122f44db6c74733db8f63d8ace0/expr.ipynb\"><img src=\"../08fce64b76ca8e122f44db6c74733db8f63d8ace0/expr.png\" style=\"display:inline;vertical-align:middle;\" /></a></span></td></tr>\n",
       "<tr><td>&nbsp;</td><td colspan=4 style=\"text-align:left\"><span style=\"font-size:20px;\"><a class=\"ProveItLink\" href=\"../../../../__pv_it/390c91a44e60b16c95d2255652741252e8ec8d980/expr.ipynb\"><img src=\"../../../../__pv_it/390c91a44e60b16c95d2255652741252e8ec8d980/expr.png\" style=\"display:inline;vertical-align:middle;\" /></a> : <a class=\"ProveItLink\" href=\"../605f961ca1b1852201cc6ef5c7ace787e431261f0/expr.ipynb\"><img src=\"../605f961ca1b1852201cc6ef5c7ace787e431261f0/expr.png\" style=\"display:inline;vertical-align:middle;\" /></a>, <a class=\"ProveItLink\" href=\"../../../../__pv_it/dbe7145e53d9411a5ba89652cbfea9d54e4b581a0/expr.ipynb\"><img src=\"../../../../__pv_it/dbe7145e53d9411a5ba89652cbfea9d54e4b581a0/expr.png\" style=\"display:inline;vertical-align:middle;\" /></a> : <a class=\"ProveItLink\" href=\"../08fce64b76ca8e122f44db6c74733db8f63d8ace0/expr.ipynb\"><img src=\"../08fce64b76ca8e122f44db6c74733db8f63d8ace0/expr.png\" style=\"display:inline;vertical-align:middle;\" /></a></span></td></tr><tr><td><a name=\"proveit.number.ordering.af87059d7dbd9cb7ed693e2bcd13c311e74b1a8f0_step6\">6</a></td><td>theorem</td><td></td><td><span style=\"font-size:20px;\"> <a class=\"ProveItLink\" href=\"../../../../logic/equality/_proofs_/rhsViaEquivalence.ipynb\" style=\"text-decoration: none\">&#x22A2;&nbsp;</a><a class=\"ProveItLink\" href=\"../4c910d95dc39622bbd5913be3a7c41b00c15e16e0/expr.ipynb\"><img src=\"../4c910d95dc39622bbd5913be3a7c41b00c15e16e0/expr.png\" style=\"display:inline;vertical-align:middle;\" /></a></span></td></tr>\n",
       "<tr><td>&nbsp;</td><td colspan=4 style-\"text-align:left\"><a class=\"ProveItLink\" href=\"../../../../logic/equality/_proofs_/rhsViaEquivalence.ipynb\">proveit.logic.equality.rhsViaEquivalence</a></td></tr><tr><td><a name=\"proveit.number.ordering.af87059d7dbd9cb7ed693e2bcd13c311e74b1a8f0_step7\">7</a></td><td>assumption</td><td></td><td><span style=\"font-size:20px;\"><a class=\"ProveItLink\" href=\"../2acf6814fb778770d583f045374fdc7d86bbe4490/expr.ipynb\"><img src=\"../2acf6814fb778770d583f045374fdc7d86bbe4490/expr.png\" style=\"display:inline;vertical-align:middle;\" /></a> <a class=\"ProveItLink\" href=\"../efc22c79754a6b2c56ead5abf55d398dd78b59310/proof.ipynb\" style=\"text-decoration: none\">&#x22A2;&nbsp;</a><a class=\"ProveItLink\" href=\"../605f961ca1b1852201cc6ef5c7ace787e431261f0/expr.ipynb\"><img src=\"../605f961ca1b1852201cc6ef5c7ace787e431261f0/expr.png\" style=\"display:inline;vertical-align:middle;\" /></a></span></td></tr>\n",
       "<tr><td><a name=\"proveit.number.ordering.af87059d7dbd9cb7ed693e2bcd13c311e74b1a8f0_step8\">8</a></td><td>instantiation</td><td><a href=\"#proveit.number.ordering.af87059d7dbd9cb7ed693e2bcd13c311e74b1a8f0_step9\">9</a></td><td><span style=\"font-size:20px;\"> <a class=\"ProveItLink\" href=\"../bcde09d535319d31f77ea9b17a70249ec72078ff0/proof.ipynb\" style=\"text-decoration: none\">&#x22A2;&nbsp;</a><a class=\"ProveItLink\" href=\"../9993f3284f4b38daac3cd35831be7048afdb63cc0/expr.ipynb\"><img src=\"../9993f3284f4b38daac3cd35831be7048afdb63cc0/expr.png\" style=\"display:inline;vertical-align:middle;\" /></a></span></td></tr>\n",
       "<tr><td>&nbsp;</td><td colspan=4 style=\"text-align:left\"><span style=\"font-size:20px;\"><a class=\"ProveItLink\" href=\"../../../../__pv_it/72df168d2bfb4e0140af90912ebf83b13772060b0/expr.ipynb\"><img src=\"../../../../__pv_it/72df168d2bfb4e0140af90912ebf83b13772060b0/expr.png\" style=\"display:inline;vertical-align:middle;\" /></a> : <a class=\"ProveItLink\" href=\"../../../../__pv_it/c6e291955561f22a0e6708fd793ea93f1c7dbb5d0/expr.ipynb\"><img src=\"../../../../__pv_it/c6e291955561f22a0e6708fd793ea93f1c7dbb5d0/expr.png\" style=\"display:inline;vertical-align:middle;\" /></a>, <a class=\"ProveItLink\" href=\"../../../../__pv_it/c6e291955561f22a0e6708fd793ea93f1c7dbb5d0/expr.ipynb\"><img src=\"../../../../__pv_it/c6e291955561f22a0e6708fd793ea93f1c7dbb5d0/expr.png\" style=\"display:inline;vertical-align:middle;\" /></a> : <a class=\"ProveItLink\" href=\"../../../../__pv_it/0d889e00aed425c3081fbda3ac9194ae911895960/expr.ipynb\"><img src=\"../../../../__pv_it/0d889e00aed425c3081fbda3ac9194ae911895960/expr.png\" style=\"display:inline;vertical-align:middle;\" /></a></span></td></tr><tr><td><a name=\"proveit.number.ordering.af87059d7dbd9cb7ed693e2bcd13c311e74b1a8f0_step9\">9</a></td><td>axiom</td><td></td><td><span style=\"font-size:20px;\"> <a class=\"ProveItLink\" href=\"../../_axioms_.ipynb#lessEqDef\" style=\"text-decoration: none\">&#x22A2;&nbsp;</a><a class=\"ProveItLink\" href=\"../b3846940c19bfc7b7903adb7df1b18d537efff670/expr.ipynb\"><img src=\"../b3846940c19bfc7b7903adb7df1b18d537efff670/expr.png\" style=\"display:inline;vertical-align:middle;\" /></a></span></td></tr>\n",
       "<tr><td>&nbsp;</td><td colspan=4 style-\"text-align:left\"><a class=\"ProveItLink\" href=\"../../_axioms_.ipynb#lessEqDef\">proveit.number.ordering.lessEqDef</a></td></tr></table>"
      ],
      "text/plain": [
       "<proveit._core_.proof._ShowProof at 0x7f5bb01bf198>"
      ]
     },
     "execution_count": 1,
     "metadata": {},
     "output_type": "execute_result"
    }
   ],
   "source": [
    "import proveit\n",
    "# Automation is not needed when only showing a stored proof:\n",
    "proveit.defaults.automation = False # This will speed things up.\n",
    "proveit.defaults.inline_pngs = False # Makes files smaller.\n",
    "%show_proof"
   ]
  },
  {
   "cell_type": "code",
   "execution_count": null,
   "metadata": {},
   "outputs": [],
   "source": []
  }
 ],
 "metadata": {
  "kernelspec": {
   "display_name": "Python 3",
   "language": "python",
   "name": "python3"
  },
  "language_info": {
   "codemirror_mode": {
    "name": "ipython",
    "version": 3
   },
   "file_extension": ".py",
   "mimetype": "text/x-python",
   "name": "python",
   "nbconvert_exporter": "python",
   "pygments_lexer": "ipython3",
   "version": "3.7.3"
  }
 },
 "nbformat": 4,
 "nbformat_minor": 1
}
