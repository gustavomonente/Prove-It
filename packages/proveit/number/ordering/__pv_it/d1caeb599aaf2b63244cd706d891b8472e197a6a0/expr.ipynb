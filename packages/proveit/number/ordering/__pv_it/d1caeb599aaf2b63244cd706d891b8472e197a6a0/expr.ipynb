{
 "cells": [
  {
   "cell_type": "markdown",
   "metadata": {},
   "source": [
    "Expression of type <a class=\"ProveItLink\" href=\"../../../../../../doc/html/api/proveit.logic.Or.html\">Or</a>\n",
    "=======================\n",
    "# from context <a class=\"ProveItLink\" href=\"../../_context_.ipynb\">proveit.number.ordering</a>"
   ]
  },
  {
   "cell_type": "code",
   "execution_count": 1,
   "metadata": {},
   "outputs": [],
   "source": [
    "import proveit\n",
    "# Automation is not needed when building an expression:\n",
    "proveit.defaults.automation = False # This will speed things up.\n",
    "proveit.defaults.inline_pngs = False # Makes files smaller.\n",
    "# import Expression classes needed to build the expression\n",
    "from proveit.logic import Equals, Or\n",
    "from proveit.number import Less, LessEq"
   ]
  },
  {
   "cell_type": "code",
   "execution_count": 2,
   "metadata": {},
   "outputs": [
    {
     "data": {
      "text/html": [
       "<strong id=\"expr\">expr:</strong> <a class=\"ProveItLink\" href=\"expr.ipynb\"><img src=\"expr.png\" style=\"display:inline;vertical-align:middle;\" /></a><br>"
      ],
      "text/plain": [
       "expr: (= = <) or (= = <=) or (= = =)"
      ]
     },
     "execution_count": 2,
     "metadata": {},
     "output_type": "execute_result"
    }
   ],
   "source": [
    "# build up the expression from sub-expressions\n",
    "expr = Or(Equals(Equals._operator_, Less._operator_), Equals(Equals._operator_, LessEq._operator_), Equals(Equals._operator_, Equals._operator_))"
   ]
  },
  {
   "cell_type": "code",
   "execution_count": 3,
   "metadata": {},
   "outputs": [
    {
     "name": "stdout",
     "output_type": "stream",
     "text": [
      "Passed sanity check: built 'expr' is the same as the stored Expression.\n"
     ]
    }
   ],
   "source": [
    "# check that the built expression is the same as the stored expression\n",
    "%check_expr"
   ]
  },
  {
   "cell_type": "code",
   "execution_count": 4,
   "metadata": {},
   "outputs": [
    {
     "name": "stdout",
     "output_type": "stream",
     "text": [
      "\\left(= = <\\right) \\lor \\left(= = \\leq\\right) \\lor \\left(= = =\\right)\n"
     ]
    }
   ],
   "source": [
    "# Show the LaTeX representation of the expression for convenience if you need it.\n",
    "print(expr.latex())"
   ]
  },
  {
   "cell_type": "code",
   "execution_count": 5,
   "metadata": {},
   "outputs": [
    {
     "data": {
      "text/html": [
       "<table><tr><th>&nbsp;</th><th>core type</th><th>sub-expressions</th><th>expression</th></tr>\n",
       "<tr><td>0</td><td>Operation</td><td>operator:&nbsp;1<br>operands:&nbsp;2<br></td><td><a class=\"ProveItLink\" href=\"expr.ipynb\"><img src=\"expr.png\" style=\"display:inline;vertical-align:middle;\" /></a></td></tr>\n",
       "<tr><td>1</td><td>Literal</td><td></td><td><a class=\"ProveItLink\" href=\"../../../../logic/boolean/disjunction/__pv_it/8a6d9fc46c84b3911a71fbae15627dc2acebe2890/expr.ipynb\"><img src=\"../../../../logic/boolean/disjunction/__pv_it/8a6d9fc46c84b3911a71fbae15627dc2acebe2890/expr.png\" style=\"display:inline;vertical-align:middle;\" /></a></td></tr>\n",
       "<tr><td>2</td><td>ExprTuple</td><td>3, 4, 5</td><td><a class=\"ProveItLink\" href=\"../5826dfc993218f4f678448712372b40f327ad11c0/expr.ipynb\"><img src=\"../5826dfc993218f4f678448712372b40f327ad11c0/expr.png\" style=\"display:inline;vertical-align:middle;\" /></a></td></tr>\n",
       "<tr><td>3</td><td>Operation</td><td>operator:&nbsp;11<br>operands:&nbsp;6<br></td><td><a class=\"ProveItLink\" href=\"../c23b63ae50f448087f445efe12be4bac4da6c72e0/expr.ipynb\"><img src=\"../c23b63ae50f448087f445efe12be4bac4da6c72e0/expr.png\" style=\"display:inline;vertical-align:middle;\" /></a></td></tr>\n",
       "<tr><td>4</td><td>Operation</td><td>operator:&nbsp;11<br>operands:&nbsp;7<br></td><td><a class=\"ProveItLink\" href=\"../6ef75d1904aaabbf917610f0065e3c2078c0f61f0/expr.ipynb\"><img src=\"../6ef75d1904aaabbf917610f0065e3c2078c0f61f0/expr.png\" style=\"display:inline;vertical-align:middle;\" /></a></td></tr>\n",
       "<tr><td>5</td><td>Operation</td><td>operator:&nbsp;11<br>operands:&nbsp;8<br></td><td><a class=\"ProveItLink\" href=\"../fb1fd2c02793bb809319b1419391902866f035d90/expr.ipynb\"><img src=\"../fb1fd2c02793bb809319b1419391902866f035d90/expr.png\" style=\"display:inline;vertical-align:middle;\" /></a></td></tr>\n",
       "<tr><td>6</td><td>ExprTuple</td><td>11, 9</td><td><a class=\"ProveItLink\" href=\"../515a2175c76d2e9e3e7904dbf0c0918e3dff5d880/expr.ipynb\"><img src=\"../515a2175c76d2e9e3e7904dbf0c0918e3dff5d880/expr.png\" style=\"display:inline;vertical-align:middle;\" /></a></td></tr>\n",
       "<tr><td>7</td><td>ExprTuple</td><td>11, 10</td><td><a class=\"ProveItLink\" href=\"../a6639e23e79b9351a64ddb8bb118883cfa8bb8100/expr.ipynb\"><img src=\"../a6639e23e79b9351a64ddb8bb118883cfa8bb8100/expr.png\" style=\"display:inline;vertical-align:middle;\" /></a></td></tr>\n",
       "<tr><td>8</td><td>ExprTuple</td><td>11, 11</td><td><a class=\"ProveItLink\" href=\"../ee082354561a7d12240a181f4168d4a6a4b316dd0/expr.ipynb\"><img src=\"../ee082354561a7d12240a181f4168d4a6a4b316dd0/expr.png\" style=\"display:inline;vertical-align:middle;\" /></a></td></tr>\n",
       "<tr><td>9</td><td>Literal</td><td></td><td><a class=\"ProveItLink\" href=\"../f3d9fbb51fcb1b5a2184b502c51efff1714101450/expr.ipynb\"><img src=\"../f3d9fbb51fcb1b5a2184b502c51efff1714101450/expr.png\" style=\"display:inline;vertical-align:middle;\" /></a></td></tr>\n",
       "<tr><td>10</td><td>Literal</td><td></td><td><a class=\"ProveItLink\" href=\"../75657f0186226b3d1bb8ce3bab2953bb36e04b3b0/expr.ipynb\"><img src=\"../75657f0186226b3d1bb8ce3bab2953bb36e04b3b0/expr.png\" style=\"display:inline;vertical-align:middle;\" /></a></td></tr>\n",
       "<tr><td>11</td><td>Literal</td><td></td><td><a class=\"ProveItLink\" href=\"../../../../logic/equality/__pv_it/e16d2caa26a16688b658bdb9c422caf4b84579e10/expr.ipynb\"><img src=\"../../../../logic/equality/__pv_it/e16d2caa26a16688b658bdb9c422caf4b84579e10/expr.png\" style=\"display:inline;vertical-align:middle;\" /></a></td></tr>\n",
       "</table>\n"
      ],
      "text/plain": [
       "0. (= = <) or (= = <=) or (= = =)\n",
       "   core type: Operation\n",
       "   operator: 1\n",
       "   operands: 2\n",
       "1. or\n",
       "   core type: Literal\n",
       "   sub-expressions: \n",
       "2. (= = <, = = <=, = = =)\n",
       "   core type: ExprTuple\n",
       "   sub-expressions: 3, 4, 5\n",
       "3. = = <\n",
       "   core type: Operation\n",
       "   operator: 11\n",
       "   operands: 6\n",
       "4. = = <=\n",
       "   core type: Operation\n",
       "   operator: 11\n",
       "   operands: 7\n",
       "5. = = =\n",
       "   core type: Operation\n",
       "   operator: 11\n",
       "   operands: 8\n",
       "6. (=, <)\n",
       "   core type: ExprTuple\n",
       "   sub-expressions: 11, 9\n",
       "7. (=, <=)\n",
       "   core type: ExprTuple\n",
       "   sub-expressions: 11, 10\n",
       "8. (=, =)\n",
       "   core type: ExprTuple\n",
       "   sub-expressions: 11, 11\n",
       "9. <\n",
       "   core type: Literal\n",
       "   sub-expressions: \n",
       "10. <=\n",
       "    core type: Literal\n",
       "    sub-expressions: \n",
       "11. =\n",
       "    core type: Literal\n",
       "    sub-expressions: "
      ]
     },
     "execution_count": 5,
     "metadata": {},
     "output_type": "execute_result"
    }
   ],
   "source": [
    "# display the expression information\n",
    "expr.exprInfo()"
   ]
  },
  {
   "cell_type": "code",
   "execution_count": null,
   "metadata": {},
   "outputs": [],
   "source": []
  }
 ],
 "metadata": {
  "kernelspec": {
   "display_name": "Python 3",
   "language": "python",
   "name": "python3"
  },
  "language_info": {
   "codemirror_mode": {
    "name": "ipython",
    "version": 3
   },
   "file_extension": ".py",
   "mimetype": "text/x-python",
   "name": "python",
   "nbconvert_exporter": "python",
   "pygments_lexer": "ipython3",
   "version": "3.7.3"
  }
 },
 "nbformat": 4,
 "nbformat_minor": 1
}
