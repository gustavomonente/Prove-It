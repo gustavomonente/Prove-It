{
 "cells": [
  {
   "cell_type": "markdown",
   "metadata": {},
   "source": [
    "Expression of type <a class=\"ProveItLink\" href=\"../../../../../../doc/html/api/proveit.Conditional.html\">Conditional</a>\n",
    "=======================\n",
    "# from context <a class=\"ProveItLink\" href=\"../../_context_.ipynb\">proveit.number.ordering</a>"
   ]
  },
  {
   "cell_type": "code",
   "execution_count": 1,
   "metadata": {},
   "outputs": [],
   "source": [
    "import proveit\n",
    "# Automation is not needed when building an expression:\n",
    "proveit.defaults.automation = False # This will speed things up.\n",
    "proveit.defaults.inline_pngs = False # Makes files smaller.\n",
    "# import Expression classes needed to build the expression\n",
    "from proveit import Conditional, ExprRange, IndexedVar, Operation, OperationSequence, Variable\n",
    "from proveit._common_ import i, n, rho, x\n",
    "from proveit.logic import And, Equals, InSet, Set\n",
    "from proveit.number import Add, Less, LessEq, one\n",
    "from proveit.number.ordering._common_ import n_plus_1"
   ]
  },
  {
   "cell_type": "code",
   "execution_count": 2,
   "metadata": {},
   "outputs": [
    {
     "data": {
      "text/html": [
       "<strong id=\"expr\">expr:</strong> <a class=\"ProveItLink\" href=\"../2f049ac51bdf86260d06dff6ac9aa6be514604c40/expr.ipynb\"><img src=\"../2f049ac51bdf86260d06dff6ac9aa6be514604c40/expr.png\" style=\"display:inline;vertical-align:middle;\" /></a><br>"
      ],
      "text/plain": [
       "expr: {(x_{1} rho_{1} ..x_{i}.. rho_{i} x_{n} rho_{n} x_{n + 1}) = ((x_{1} rho_{1} x_{1 + 1}) and ..(x_{i} rho_{i} x_{i + 1}).. and (x_{n} rho_{n} x_{n + 1})) if (rho_{1} in {<, <=, =}) and ..(rho_{_a} in {<, <=, =}).. and (rho_{n} in {<, <=, =})."
      ]
     },
     "execution_count": 2,
     "metadata": {},
     "output_type": "execute_result"
    }
   ],
   "source": [
    "# build up the expression from sub-expressions\n",
    "subExpr1 = Variable(\"_a\", latexFormat = r\"{_{-}a}\")\n",
    "subExpr2 = IndexedVar(rho, i)\n",
    "subExpr3 = IndexedVar(x, i)\n",
    "expr = Conditional(Equals(OperationSequence([ExprRange(i, subExpr2, one, n)], [ExprRange(i, subExpr3, one, n), IndexedVar(x, n_plus_1)]), And(ExprRange(i, Operation(subExpr2, [subExpr3, IndexedVar(x, Add(i, one))]), one, n))), And(ExprRange(subExpr1, InSet(IndexedVar(rho, subExpr1), Set(Less._operator_, LessEq._operator_, Equals._operator_)), one, n)))"
   ]
  },
  {
   "cell_type": "code",
   "execution_count": 3,
   "metadata": {},
   "outputs": [
    {
     "name": "stdout",
     "output_type": "stream",
     "text": [
      "Passed sanity check: built 'expr' is the same as the stored Expression.\n"
     ]
    }
   ],
   "source": [
    "# check that the built expression is the same as the stored expression\n",
    "%check_expr"
   ]
  },
  {
   "cell_type": "code",
   "execution_count": 4,
   "metadata": {},
   "outputs": [
    {
     "name": "stdout",
     "output_type": "stream",
     "text": [
      "\\left\\{\\left(x_{1} \\rho_{1} \\ldots  x_{n} \\rho_{n} x_{n + 1}\\right) = \\left(\\left(x_{1} \\rho_{1} x_{1 + 1}\\right) \\land \\ldots \\land \\left(x_{n} \\rho_{n} x_{n + 1}\\right)\\right) \\textrm{ if } \\left(\\rho_{1} \\in \\left\\{<, \\leq, =\\right\\}\\right) \\land \\ldots \\land \\left(\\rho_{n} \\in \\left\\{<, \\leq, =\\right\\}\\right)\\right..\n"
     ]
    }
   ],
   "source": [
    "# Show the LaTeX representation of the expression for convenience if you need it.\n",
    "print(expr.latex())"
   ]
  },
  {
   "cell_type": "code",
   "execution_count": 5,
   "metadata": {},
   "outputs": [
    {
     "data": {
      "text/html": [
       "<table><tr><th>&nbsp;</th><th>core type</th><th>sub-expressions</th><th>expression</th></tr>\n",
       "<tr><td>0</td><td>Conditional</td><td>value:&nbsp;1<br>condition:&nbsp;2<br></td><td><a class=\"ProveItLink\" href=\"../2f049ac51bdf86260d06dff6ac9aa6be514604c40/expr.ipynb\"><img src=\"../2f049ac51bdf86260d06dff6ac9aa6be514604c40/expr.png\" style=\"display:inline;vertical-align:middle;\" /></a></td></tr>\n",
       "<tr><td>1</td><td>Operation</td><td>operator:&nbsp;39<br>operands:&nbsp;3<br></td><td><a class=\"ProveItLink\" href=\"../0a0c206af6ea27081ab759d9a4c7b0c2f271219a0/expr.ipynb\"><img src=\"../0a0c206af6ea27081ab759d9a4c7b0c2f271219a0/expr.png\" style=\"display:inline;vertical-align:middle;\" /></a></td></tr>\n",
       "<tr><td>2</td><td>Operation</td><td>operator:&nbsp;10<br>operands:&nbsp;4<br></td><td><a class=\"ProveItLink\" href=\"../53929a16048e9e94e82760d8b562af39d1ca908f0/expr.ipynb\"><img src=\"../53929a16048e9e94e82760d8b562af39d1ca908f0/expr.png\" style=\"display:inline;vertical-align:middle;\" /></a></td></tr>\n",
       "<tr><td>3</td><td>ExprTuple</td><td>5, 6</td><td><a class=\"ProveItLink\" href=\"../fd8631100efa0c0224099042fb73ccb114869aa40/expr.ipynb\"><img src=\"../fd8631100efa0c0224099042fb73ccb114869aa40/expr.png\" style=\"display:inline;vertical-align:middle;\" /></a></td></tr>\n",
       "<tr><td>4</td><td>ExprTuple</td><td>7</td><td><a class=\"ProveItLink\" href=\"../df7504042ebf9ff0a1cfde62d59d24b9eeed48690/expr.ipynb\"><img src=\"../df7504042ebf9ff0a1cfde62d59d24b9eeed48690/expr.png\" style=\"display:inline;vertical-align:middle;\" /></a></td></tr>\n",
       "<tr><td>5</td><td>Operation</td><td>operators:&nbsp;8<br>operands:&nbsp;9<br></td><td><a class=\"ProveItLink\" href=\"../ec295a19ad405719f2019895f3e870c8ab8229d40/expr.ipynb\"><img src=\"../ec295a19ad405719f2019895f3e870c8ab8229d40/expr.png\" style=\"display:inline;vertical-align:middle;\" /></a></td></tr>\n",
       "<tr><td>6</td><td>Operation</td><td>operator:&nbsp;10<br>operands:&nbsp;11<br></td><td><a class=\"ProveItLink\" href=\"../147e6275afebbf9fcf2f5b23c3cd17136c03aa040/expr.ipynb\"><img src=\"../147e6275afebbf9fcf2f5b23c3cd17136c03aa040/expr.png\" style=\"display:inline;vertical-align:middle;\" /></a></td></tr>\n",
       "<tr><td>7</td><td>ExprRange</td><td>lambda_map:&nbsp;12<br>start_index:&nbsp;45<br>end_index:&nbsp;28<br></td><td><a class=\"ProveItLink\" href=\"../b88fc8318e3c2e25021cc628662c1ad3a5223e6a0/expr.ipynb\"><img src=\"../b88fc8318e3c2e25021cc628662c1ad3a5223e6a0/expr.png\" style=\"display:inline;vertical-align:middle;\" /></a></td></tr>\n",
       "<tr><td>8</td><td>ExprTuple</td><td>13</td><td><a class=\"ProveItLink\" href=\"../2966800593716c2d02252fe73fb39251717cde9f0/expr.ipynb\"><img src=\"../2966800593716c2d02252fe73fb39251717cde9f0/expr.png\" style=\"display:inline;vertical-align:middle;\" /></a></td></tr>\n",
       "<tr><td>9</td><td>ExprTuple</td><td>14, 15</td><td><a class=\"ProveItLink\" href=\"../326fafd4719ae447d8c0705155ad6c31012656aa0/expr.ipynb\"><img src=\"../326fafd4719ae447d8c0705155ad6c31012656aa0/expr.png\" style=\"display:inline;vertical-align:middle;\" /></a></td></tr>\n",
       "<tr><td>10</td><td>Literal</td><td></td><td><a class=\"ProveItLink\" href=\"../../../../logic/boolean/conjunction/__pv_it/f41cc6b553210927c09f19a8a39cdf860a5585930/expr.ipynb\"><img src=\"../../../../logic/boolean/conjunction/__pv_it/f41cc6b553210927c09f19a8a39cdf860a5585930/expr.png\" style=\"display:inline;vertical-align:middle;\" /></a></td></tr>\n",
       "<tr><td>11</td><td>ExprTuple</td><td>16</td><td><a class=\"ProveItLink\" href=\"../a0b0195022429b54ab249673bbeb4050fe1bc0c00/expr.ipynb\"><img src=\"../a0b0195022429b54ab249673bbeb4050fe1bc0c00/expr.png\" style=\"display:inline;vertical-align:middle;\" /></a></td></tr>\n",
       "<tr><td>12</td><td>Lambda</td><td>parameter:&nbsp;31<br>body:&nbsp;17<br></td><td><a class=\"ProveItLink\" href=\"../59a71d1a4456df368f13f4be5473f4e1e8c0bf5f0/expr.ipynb\"><img src=\"../59a71d1a4456df368f13f4be5473f4e1e8c0bf5f0/expr.png\" style=\"display:inline;vertical-align:middle;\" /></a></td></tr>\n",
       "<tr><td>13</td><td>ExprRange</td><td>lambda_map:&nbsp;18<br>start_index:&nbsp;45<br>end_index:&nbsp;28<br></td><td><a class=\"ProveItLink\" href=\"../db94dad62b7a8d958432506a8cdbd9adf51d13020/expr.ipynb\"><img src=\"../db94dad62b7a8d958432506a8cdbd9adf51d13020/expr.png\" style=\"display:inline;vertical-align:middle;\" /></a></td></tr>\n",
       "<tr><td>14</td><td>ExprRange</td><td>lambda_map:&nbsp;19<br>start_index:&nbsp;45<br>end_index:&nbsp;28<br></td><td><a class=\"ProveItLink\" href=\"../0b5198ab1c0c9ce31d5f2127b471b086d971c1c10/expr.ipynb\"><img src=\"../0b5198ab1c0c9ce31d5f2127b471b086d971c1c10/expr.png\" style=\"display:inline;vertical-align:middle;\" /></a></td></tr>\n",
       "<tr><td>15</td><td>IndexedVar</td><td>variable:&nbsp;40<br>index:&nbsp;20<br></td><td><a class=\"ProveItLink\" href=\"../bf8232dfc53ea04d031f15c1a724e99141283ba00/expr.ipynb\"><img src=\"../bf8232dfc53ea04d031f15c1a724e99141283ba00/expr.png\" style=\"display:inline;vertical-align:middle;\" /></a></td></tr>\n",
       "<tr><td>16</td><td>ExprRange</td><td>lambda_map:&nbsp;21<br>start_index:&nbsp;45<br>end_index:&nbsp;28<br></td><td><a class=\"ProveItLink\" href=\"../c530fc73e358f61943da742b87b576a0d65c0f4c0/expr.ipynb\"><img src=\"../c530fc73e358f61943da742b87b576a0d65c0f4c0/expr.png\" style=\"display:inline;vertical-align:middle;\" /></a></td></tr>\n",
       "<tr><td>17</td><td>Operation</td><td>operator:&nbsp;22<br>operands:&nbsp;23<br></td><td><a class=\"ProveItLink\" href=\"../b1c88e310b7d2b9f0baeba268ab144f29a3a16560/expr.ipynb\"><img src=\"../b1c88e310b7d2b9f0baeba268ab144f29a3a16560/expr.png\" style=\"display:inline;vertical-align:middle;\" /></a></td></tr>\n",
       "<tr><td>18</td><td>Lambda</td><td>parameter:&nbsp;44<br>body:&nbsp;29<br></td><td><a class=\"ProveItLink\" href=\"../491f622b0cf2df19490f62dbe10c919b367c29480/expr.ipynb\"><img src=\"../491f622b0cf2df19490f62dbe10c919b367c29480/expr.png\" style=\"display:inline;vertical-align:middle;\" /></a></td></tr>\n",
       "<tr><td>19</td><td>Lambda</td><td>parameter:&nbsp;44<br>body:&nbsp;35<br></td><td><a class=\"ProveItLink\" href=\"../cff4e91787f46c693e74373bbea25926e107ff5e0/expr.ipynb\"><img src=\"../cff4e91787f46c693e74373bbea25926e107ff5e0/expr.png\" style=\"display:inline;vertical-align:middle;\" /></a></td></tr>\n",
       "<tr><td>20</td><td>Operation</td><td>operator:&nbsp;42<br>operands:&nbsp;24<br></td><td><a class=\"ProveItLink\" href=\"../c30a7267a0aa156cb703cf7c608028a678b31eb20/expr.ipynb\"><img src=\"../c30a7267a0aa156cb703cf7c608028a678b31eb20/expr.png\" style=\"display:inline;vertical-align:middle;\" /></a></td></tr>\n",
       "<tr><td>21</td><td>Lambda</td><td>parameter:&nbsp;44<br>body:&nbsp;25<br></td><td><a class=\"ProveItLink\" href=\"../6d11d93224b53bd17764caa41609486fdffdb0da0/expr.ipynb\"><img src=\"../6d11d93224b53bd17764caa41609486fdffdb0da0/expr.png\" style=\"display:inline;vertical-align:middle;\" /></a></td></tr>\n",
       "<tr><td>22</td><td>Literal</td><td></td><td><a class=\"ProveItLink\" href=\"../../../../logic/set_theory/membership/__pv_it/7776fc89cb67d0b5b1ec2c0c8e08da5587921ccf0/expr.ipynb\"><img src=\"../../../../logic/set_theory/membership/__pv_it/7776fc89cb67d0b5b1ec2c0c8e08da5587921ccf0/expr.png\" style=\"display:inline;vertical-align:middle;\" /></a></td></tr>\n",
       "<tr><td>23</td><td>ExprTuple</td><td>26, 27</td><td><a class=\"ProveItLink\" href=\"../7e059e8bfcad7fd916a1bfc2f46a19c77ff91db80/expr.ipynb\"><img src=\"../7e059e8bfcad7fd916a1bfc2f46a19c77ff91db80/expr.png\" style=\"display:inline;vertical-align:middle;\" /></a></td></tr>\n",
       "<tr><td>24</td><td>ExprTuple</td><td>28, 45</td><td><a class=\"ProveItLink\" href=\"../4583b8d9b605b47ec5d9bac4ba57f2e4df2b9a9f0/expr.ipynb\"><img src=\"../4583b8d9b605b47ec5d9bac4ba57f2e4df2b9a9f0/expr.png\" style=\"display:inline;vertical-align:middle;\" /></a></td></tr>\n",
       "<tr><td>25</td><td>Operation</td><td>operator:&nbsp;29<br>operands:&nbsp;30<br></td><td><a class=\"ProveItLink\" href=\"../c23c38a76a84c28a9cdd1186faec02ab6e3b0f730/expr.ipynb\"><img src=\"../c23c38a76a84c28a9cdd1186faec02ab6e3b0f730/expr.png\" style=\"display:inline;vertical-align:middle;\" /></a></td></tr>\n",
       "<tr><td>26</td><td>IndexedVar</td><td>variable:&nbsp;34<br>index:&nbsp;31<br></td><td><a class=\"ProveItLink\" href=\"../7add352e7a91efcd83c17418b839944b27ad70f00/expr.ipynb\"><img src=\"../7add352e7a91efcd83c17418b839944b27ad70f00/expr.png\" style=\"display:inline;vertical-align:middle;\" /></a></td></tr>\n",
       "<tr><td>27</td><td>Operation</td><td>operator:&nbsp;32<br>operands:&nbsp;33<br></td><td><a class=\"ProveItLink\" href=\"../aa81a4bbedfb073d58750e7e3b8f88c47bb03e520/expr.ipynb\"><img src=\"../aa81a4bbedfb073d58750e7e3b8f88c47bb03e520/expr.png\" style=\"display:inline;vertical-align:middle;\" /></a></td></tr>\n",
       "<tr><td>28</td><td>Variable</td><td></td><td><a class=\"ProveItLink\" href=\"../../../../__pv_it/0c1c4cb515e0f4344b1ac06650f349123e526deb0/expr.ipynb\"><img src=\"../../../../__pv_it/0c1c4cb515e0f4344b1ac06650f349123e526deb0/expr.png\" style=\"display:inline;vertical-align:middle;\" /></a></td></tr>\n",
       "<tr><td>29</td><td>IndexedVar</td><td>variable:&nbsp;34<br>index:&nbsp;44<br></td><td><a class=\"ProveItLink\" href=\"../644c7329ca2508aa9eb50a95aa5d3a2a01653c140/expr.ipynb\"><img src=\"../644c7329ca2508aa9eb50a95aa5d3a2a01653c140/expr.png\" style=\"display:inline;vertical-align:middle;\" /></a></td></tr>\n",
       "<tr><td>30</td><td>ExprTuple</td><td>35, 36</td><td><a class=\"ProveItLink\" href=\"../c830dead97d5d8ae707c31ad18db2491e1d888e60/expr.ipynb\"><img src=\"../c830dead97d5d8ae707c31ad18db2491e1d888e60/expr.png\" style=\"display:inline;vertical-align:middle;\" /></a></td></tr>\n",
       "<tr><td>31</td><td>Variable</td><td></td><td><a class=\"ProveItLink\" href=\"../../../../core_expr_types/__pv_it/1e653f789234b245ee7fea7caad998c139d617410/expr.ipynb\"><img src=\"../../../../core_expr_types/__pv_it/1e653f789234b245ee7fea7caad998c139d617410/expr.png\" style=\"display:inline;vertical-align:middle;\" /></a></td></tr>\n",
       "<tr><td>32</td><td>Literal</td><td></td><td><a class=\"ProveItLink\" href=\"../../../../logic/set_theory/enumeration/__pv_it/031f443c811429025ee9cba8d75037dd468e2c850/expr.ipynb\"><img src=\"../../../../logic/set_theory/enumeration/__pv_it/031f443c811429025ee9cba8d75037dd468e2c850/expr.png\" style=\"display:inline;vertical-align:middle;\" /></a></td></tr>\n",
       "<tr><td>33</td><td>ExprTuple</td><td>37, 38, 39</td><td><a class=\"ProveItLink\" href=\"../8fd188ad5d47995f553ce59e4a83b489e32771500/expr.ipynb\"><img src=\"../8fd188ad5d47995f553ce59e4a83b489e32771500/expr.png\" style=\"display:inline;vertical-align:middle;\" /></a></td></tr>\n",
       "<tr><td>34</td><td>Variable</td><td></td><td><a class=\"ProveItLink\" href=\"../../../../__pv_it/fec1d08f08b0590b0aba071a263dce8450d89dda0/expr.ipynb\"><img src=\"../../../../__pv_it/fec1d08f08b0590b0aba071a263dce8450d89dda0/expr.png\" style=\"display:inline;vertical-align:middle;\" /></a></td></tr>\n",
       "<tr><td>35</td><td>IndexedVar</td><td>variable:&nbsp;40<br>index:&nbsp;44<br></td><td><a class=\"ProveItLink\" href=\"../5806935187de2ebea4a8552dee6b2164eb38f3ad0/expr.ipynb\"><img src=\"../5806935187de2ebea4a8552dee6b2164eb38f3ad0/expr.png\" style=\"display:inline;vertical-align:middle;\" /></a></td></tr>\n",
       "<tr><td>36</td><td>IndexedVar</td><td>variable:&nbsp;40<br>index:&nbsp;41<br></td><td><a class=\"ProveItLink\" href=\"../c4a37b0edf1b7241bdc29a0280285ee8f6a49efa0/expr.ipynb\"><img src=\"../c4a37b0edf1b7241bdc29a0280285ee8f6a49efa0/expr.png\" style=\"display:inline;vertical-align:middle;\" /></a></td></tr>\n",
       "<tr><td>37</td><td>Literal</td><td></td><td><a class=\"ProveItLink\" href=\"../f3d9fbb51fcb1b5a2184b502c51efff1714101450/expr.ipynb\"><img src=\"../f3d9fbb51fcb1b5a2184b502c51efff1714101450/expr.png\" style=\"display:inline;vertical-align:middle;\" /></a></td></tr>\n",
       "<tr><td>38</td><td>Literal</td><td></td><td><a class=\"ProveItLink\" href=\"../75657f0186226b3d1bb8ce3bab2953bb36e04b3b0/expr.ipynb\"><img src=\"../75657f0186226b3d1bb8ce3bab2953bb36e04b3b0/expr.png\" style=\"display:inline;vertical-align:middle;\" /></a></td></tr>\n",
       "<tr><td>39</td><td>Literal</td><td></td><td><a class=\"ProveItLink\" href=\"../../../../logic/equality/__pv_it/e16d2caa26a16688b658bdb9c422caf4b84579e10/expr.ipynb\"><img src=\"../../../../logic/equality/__pv_it/e16d2caa26a16688b658bdb9c422caf4b84579e10/expr.png\" style=\"display:inline;vertical-align:middle;\" /></a></td></tr>\n",
       "<tr><td>40</td><td>Variable</td><td></td><td><a class=\"ProveItLink\" href=\"../../../../__pv_it/72df168d2bfb4e0140af90912ebf83b13772060b0/expr.ipynb\"><img src=\"../../../../__pv_it/72df168d2bfb4e0140af90912ebf83b13772060b0/expr.png\" style=\"display:inline;vertical-align:middle;\" /></a></td></tr>\n",
       "<tr><td>41</td><td>Operation</td><td>operator:&nbsp;42<br>operands:&nbsp;43<br></td><td><a class=\"ProveItLink\" href=\"../3d7ea1a7d70557d7784ad165e368a32c1f1c37490/expr.ipynb\"><img src=\"../3d7ea1a7d70557d7784ad165e368a32c1f1c37490/expr.png\" style=\"display:inline;vertical-align:middle;\" /></a></td></tr>\n",
       "<tr><td>42</td><td>Literal</td><td></td><td><a class=\"ProveItLink\" href=\"../../../addition/__pv_it/65ad7e8aee19b10110d590375ba95a879c4fb7ea0/expr.ipynb\"><img src=\"../../../addition/__pv_it/65ad7e8aee19b10110d590375ba95a879c4fb7ea0/expr.png\" style=\"display:inline;vertical-align:middle;\" /></a></td></tr>\n",
       "<tr><td>43</td><td>ExprTuple</td><td>44, 45</td><td><a class=\"ProveItLink\" href=\"../92269e6244b0df715311e882260ecf2e1ff1ea220/expr.ipynb\"><img src=\"../92269e6244b0df715311e882260ecf2e1ff1ea220/expr.png\" style=\"display:inline;vertical-align:middle;\" /></a></td></tr>\n",
       "<tr><td>44</td><td>Variable</td><td></td><td><a class=\"ProveItLink\" href=\"../../../../__pv_it/557ab5defdcd46aa58168b08767502985122cd490/expr.ipynb\"><img src=\"../../../../__pv_it/557ab5defdcd46aa58168b08767502985122cd490/expr.png\" style=\"display:inline;vertical-align:middle;\" /></a></td></tr>\n",
       "<tr><td>45</td><td>Literal</td><td></td><td><a class=\"ProveItLink\" href=\"../../../numeral/__pv_it/f086f8c372bd40a2458306ddfdbb29f3dc6f63030/expr.ipynb\"><img src=\"../../../numeral/__pv_it/f086f8c372bd40a2458306ddfdbb29f3dc6f63030/expr.png\" style=\"display:inline;vertical-align:middle;\" /></a></td></tr>\n",
       "</table>\n"
      ],
      "text/plain": [
       "0. {(x_{1} rho_{1} ..x_{i}.. rho_{i} x_{n} rho_{n} x_{n + 1}) = ((x_{1} rho_{1} x_{1 + 1}) and ..(x_{i} rho_{i} x_{i + 1}).. and (x_{n} rho_{n} x_{n + 1})) if (rho_{1} in {<, <=, =}) and ..(rho_{_a} in {<, <=, =}).. and (rho_{n} in {<, <=, =}).\n",
       "   core type: Conditional\n",
       "   value: 1\n",
       "   condition: 2\n",
       "1. (x_{1} rho_{1} ..x_{i}.. rho_{i} x_{n} rho_{n} x_{n + 1}) = ((x_{1} rho_{1} x_{1 + 1}) and ..(x_{i} rho_{i} x_{i + 1}).. and (x_{n} rho_{n} x_{n + 1}))\n",
       "   core type: Operation\n",
       "   operator: 39\n",
       "   operands: 3\n",
       "2. (rho_{1} in {<, <=, =}) and ..(rho_{_a} in {<, <=, =}).. and (rho_{n} in {<, <=, =})\n",
       "   core type: Operation\n",
       "   operator: 10\n",
       "   operands: 4\n",
       "3. (x_{1} rho_{1} ..x_{i}.. rho_{i} x_{n} rho_{n} x_{n + 1}, (x_{1} rho_{1} x_{1 + 1}) and ..(x_{i} rho_{i} x_{i + 1}).. and (x_{n} rho_{n} x_{n + 1}))\n",
       "   core type: ExprTuple\n",
       "   sub-expressions: 5, 6\n",
       "4. (rho_{1} in {<, <=, =}, ..rho_{_a} in {<, <=, =}.., rho_{n} in {<, <=, =})\n",
       "   core type: ExprTuple\n",
       "   sub-expressions: 7\n",
       "5. x_{1} rho_{1} ..x_{i}.. rho_{i} x_{n} rho_{n} x_{n + 1}\n",
       "   core type: Operation\n",
       "   operators: 8\n",
       "   operands: 9\n",
       "6. (x_{1} rho_{1} x_{1 + 1}) and ..(x_{i} rho_{i} x_{i + 1}).. and (x_{n} rho_{n} x_{n + 1})\n",
       "   core type: Operation\n",
       "   operator: 10\n",
       "   operands: 11\n",
       "7. (rho_{1} in {<, <=, =}), ..(rho_{_a} in {<, <=, =}).., (rho_{n} in {<, <=, =})\n",
       "   core type: ExprRange\n",
       "   lambda_map: 12\n",
       "   start_index: 45\n",
       "   end_index: 28\n",
       "8. (rho_{1}, ..rho_{i}.., rho_{n})\n",
       "   core type: ExprTuple\n",
       "   sub-expressions: 13\n",
       "9. (x_{1}, ..x_{i}.., x_{n}, x_{n + 1})\n",
       "   core type: ExprTuple\n",
       "   sub-expressions: 14, 15\n",
       "10. and\n",
       "    core type: Literal\n",
       "    sub-expressions: \n",
       "11. (x_{1} rho_{1} x_{1 + 1}, ..x_{i} rho_{i} x_{i + 1}.., x_{n} rho_{n} x_{n + 1})\n",
       "    core type: ExprTuple\n",
       "    sub-expressions: 16\n",
       "12. _a -> (rho_{_a} in {<, <=, =})\n",
       "    core type: Lambda\n",
       "    parameter: 31\n",
       "    body: 17\n",
       "13. rho_{1}, ..rho_{i}.., rho_{n}\n",
       "    core type: ExprRange\n",
       "    lambda_map: 18\n",
       "    start_index: 45\n",
       "    end_index: 28\n",
       "14. x_{1}, ..x_{i}.., x_{n}\n",
       "    core type: ExprRange\n",
       "    lambda_map: 19\n",
       "    start_index: 45\n",
       "    end_index: 28\n",
       "15. x_{n + 1}\n",
       "    core type: IndexedVar\n",
       "variable: 40\n",
       "index: 20\n",
       "16. (x_{1} rho_{1} x_{1 + 1}), ..(x_{i} rho_{i} x_{i + 1}).., (x_{n} rho_{n} x_{n + 1})\n",
       "    core type: ExprRange\n",
       "    lambda_map: 21\n",
       "    start_index: 45\n",
       "    end_index: 28\n",
       "17. rho_{_a} in {<, <=, =}\n",
       "    core type: Operation\n",
       "    operator: 22\n",
       "    operands: 23\n",
       "18. i -> rho_{i}\n",
       "    core type: Lambda\n",
       "    parameter: 44\n",
       "    body: 29\n",
       "19. i -> x_{i}\n",
       "    core type: Lambda\n",
       "    parameter: 44\n",
       "    body: 35\n",
       "20. n + 1\n",
       "    core type: Operation\n",
       "    operator: 42\n",
       "    operands: 24\n",
       "21. i -> (x_{i} rho_{i} x_{i + 1})\n",
       "    core type: Lambda\n",
       "    parameter: 44\n",
       "    body: 25\n",
       "22. in\n",
       "    core type: Literal\n",
       "    sub-expressions: \n",
       "23. (rho_{_a}, {<, <=, =})\n",
       "    core type: ExprTuple\n",
       "    sub-expressions: 26, 27\n",
       "24. (n, 1)\n",
       "    core type: ExprTuple\n",
       "    sub-expressions: 28, 45\n",
       "25. x_{i} rho_{i} x_{i + 1}\n",
       "    core type: Operation\n",
       "    operator: 29\n",
       "    operands: 30\n",
       "26. rho_{_a}\n",
       "    core type: IndexedVar\n",
       "variable: 34\n",
       "index: 31\n",
       "27. {<, <=, =}\n",
       "    core type: Operation\n",
       "    operator: 32\n",
       "    operands: 33\n",
       "28. n\n",
       "    core type: Variable\n",
       "    sub-expressions: \n",
       "29. rho_{i}\n",
       "    core type: IndexedVar\n",
       "variable: 34\n",
       "index: 44\n",
       "30. (x_{i}, x_{i + 1})\n",
       "    core type: ExprTuple\n",
       "    sub-expressions: 35, 36\n",
       "31. _a\n",
       "    core type: Variable\n",
       "    sub-expressions: \n",
       "32. Set\n",
       "    core type: Literal\n",
       "    sub-expressions: \n",
       "33. (<, <=, =)\n",
       "    core type: ExprTuple\n",
       "    sub-expressions: 37, 38, 39\n",
       "34. rho\n",
       "    core type: Variable\n",
       "    sub-expressions: \n",
       "35. x_{i}\n",
       "    core type: IndexedVar\n",
       "variable: 40\n",
       "index: 44\n",
       "36. x_{i + 1}\n",
       "    core type: IndexedVar\n",
       "variable: 40\n",
       "index: 41\n",
       "37. <\n",
       "    core type: Literal\n",
       "    sub-expressions: \n",
       "38. <=\n",
       "    core type: Literal\n",
       "    sub-expressions: \n",
       "39. =\n",
       "    core type: Literal\n",
       "    sub-expressions: \n",
       "40. x\n",
       "    core type: Variable\n",
       "    sub-expressions: \n",
       "41. i + 1\n",
       "    core type: Operation\n",
       "    operator: 42\n",
       "    operands: 43\n",
       "42. +\n",
       "    core type: Literal\n",
       "    sub-expressions: \n",
       "43. (i, 1)\n",
       "    core type: ExprTuple\n",
       "    sub-expressions: 44, 45\n",
       "44. i\n",
       "    core type: Variable\n",
       "    sub-expressions: \n",
       "45. 1\n",
       "    core type: Literal\n",
       "    sub-expressions: "
      ]
     },
     "execution_count": 5,
     "metadata": {},
     "output_type": "execute_result"
    }
   ],
   "source": [
    "# display the expression information\n",
    "expr.exprInfo()"
   ]
  },
  {
   "cell_type": "code",
   "execution_count": null,
   "metadata": {},
   "outputs": [],
   "source": []
  }
 ],
 "metadata": {
  "kernelspec": {
   "display_name": "Python 3",
   "language": "python",
   "name": "python3"
  },
  "language_info": {
   "codemirror_mode": {
    "name": "ipython",
    "version": 3
   },
   "file_extension": ".py",
   "mimetype": "text/x-python",
   "name": "python",
   "nbconvert_exporter": "python",
   "pygments_lexer": "ipython3",
   "version": "3.7.3"
  }
 },
 "nbformat": 4,
 "nbformat_minor": 1
}
