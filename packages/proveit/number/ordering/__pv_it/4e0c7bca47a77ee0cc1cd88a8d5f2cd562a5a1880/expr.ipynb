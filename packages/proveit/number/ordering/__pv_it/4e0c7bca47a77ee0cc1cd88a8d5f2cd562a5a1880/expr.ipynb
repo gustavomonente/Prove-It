{
 "cells": [
  {
   "cell_type": "markdown",
   "metadata": {},
   "source": [
    "Expression of type <a class=\"ProveItLink\" href=\"../../../../../../doc/html/api/proveit.logic.Equals.html\">Equals</a>\n",
    "=======================\n",
    "# from context <a class=\"ProveItLink\" href=\"../../_context_.ipynb\">proveit.number.ordering</a>"
   ]
  },
  {
   "cell_type": "code",
   "execution_count": 1,
   "metadata": {},
   "outputs": [],
   "source": [
    "import proveit\n",
    "# Automation is not needed when building an expression:\n",
    "proveit.defaults.automation = False # This will speed things up.\n",
    "proveit.defaults.inline_pngs = False # Makes files smaller.\n",
    "# import Expression classes needed to build the expression\n",
    "from proveit import ExprRange, IndexedVar, Operation, OperationSequence\n",
    "from proveit._common_ import i, rho, x\n",
    "from proveit.logic import And, Equals\n",
    "from proveit.number import Add, one, three"
   ]
  },
  {
   "cell_type": "code",
   "execution_count": 2,
   "metadata": {},
   "outputs": [
    {
     "data": {
      "text/html": [
       "<strong id=\"expr\">expr:</strong> <a class=\"ProveItLink\" href=\"expr.ipynb\"><img src=\"expr.png\" style=\"display:inline;vertical-align:middle;\" /></a><br>"
      ],
      "text/plain": [
       "expr: (x_{1} rho_{1} ..x_{i}.. rho_{i} x_{3} rho_{3} x_{3 + 1}) = ((x_{1} rho_{1} x_{1 + 1}) and ..(x_{i} rho_{i} x_{i + 1}).. and (x_{3} rho_{3} x_{3 + 1}))"
      ]
     },
     "execution_count": 2,
     "metadata": {},
     "output_type": "execute_result"
    }
   ],
   "source": [
    "# build up the expression from sub-expressions\n",
    "subExpr1 = IndexedVar(rho, i)\n",
    "subExpr2 = IndexedVar(x, i)\n",
    "expr = Equals(OperationSequence([ExprRange(i, subExpr1, one, three)], [ExprRange(i, subExpr2, one, three), IndexedVar(x, Add(three, one))]), And(ExprRange(i, Operation(subExpr1, [subExpr2, IndexedVar(x, Add(i, one))]), one, three)))"
   ]
  },
  {
   "cell_type": "code",
   "execution_count": 3,
   "metadata": {},
   "outputs": [
    {
     "name": "stdout",
     "output_type": "stream",
     "text": [
      "Passed sanity check: built 'expr' is the same as the stored Expression.\n"
     ]
    }
   ],
   "source": [
    "# check that the built expression is the same as the stored expression\n",
    "%check_expr"
   ]
  },
  {
   "cell_type": "code",
   "execution_count": 4,
   "metadata": {},
   "outputs": [
    {
     "name": "stdout",
     "output_type": "stream",
     "text": [
      "\\left(x_{1} \\rho_{1} \\ldots  x_{3} \\rho_{3} x_{3 + 1}\\right) = \\left(\\left(x_{1} \\rho_{1} x_{1 + 1}\\right) \\land \\ldots \\land \\left(x_{3} \\rho_{3} x_{3 + 1}\\right)\\right)\n"
     ]
    }
   ],
   "source": [
    "# Show the LaTeX representation of the expression for convenience if you need it.\n",
    "print(expr.latex())"
   ]
  },
  {
   "cell_type": "code",
   "execution_count": 5,
   "metadata": {},
   "outputs": [
    {
     "data": {
      "text/html": [
       "<table><tr><th>&nbsp;</th><th>core type</th><th>sub-expressions</th><th>expression</th></tr>\n",
       "<tr><td>0</td><td>Operation</td><td>operator:&nbsp;1<br>operands:&nbsp;2<br></td><td><a class=\"ProveItLink\" href=\"expr.ipynb\"><img src=\"expr.png\" style=\"display:inline;vertical-align:middle;\" /></a></td></tr>\n",
       "<tr><td>1</td><td>Literal</td><td></td><td><a class=\"ProveItLink\" href=\"../../../../logic/equality/__pv_it/e16d2caa26a16688b658bdb9c422caf4b84579e10/expr.ipynb\"><img src=\"../../../../logic/equality/__pv_it/e16d2caa26a16688b658bdb9c422caf4b84579e10/expr.png\" style=\"display:inline;vertical-align:middle;\" /></a></td></tr>\n",
       "<tr><td>2</td><td>ExprTuple</td><td>3, 4</td><td><a class=\"ProveItLink\" href=\"../48494c27eae65cf1893b87d21d5b5b84a6918f760/expr.ipynb\"><img src=\"../48494c27eae65cf1893b87d21d5b5b84a6918f760/expr.png\" style=\"display:inline;vertical-align:middle;\" /></a></td></tr>\n",
       "<tr><td>3</td><td>Operation</td><td>operators:&nbsp;5<br>operands:&nbsp;6<br></td><td><a class=\"ProveItLink\" href=\"../22602e305790189cefd7a3b2d99bc56fa2cde0e70/expr.ipynb\"><img src=\"../22602e305790189cefd7a3b2d99bc56fa2cde0e70/expr.png\" style=\"display:inline;vertical-align:middle;\" /></a></td></tr>\n",
       "<tr><td>4</td><td>Operation</td><td>operator:&nbsp;7<br>operands:&nbsp;8<br></td><td><a class=\"ProveItLink\" href=\"../455b8e073c2a311ee54b58e29d9f2b1cc294921d0/expr.ipynb\"><img src=\"../455b8e073c2a311ee54b58e29d9f2b1cc294921d0/expr.png\" style=\"display:inline;vertical-align:middle;\" /></a></td></tr>\n",
       "<tr><td>5</td><td>ExprTuple</td><td>9</td><td><a class=\"ProveItLink\" href=\"../19e9726c37dba3f17056379768ad584bfa7ca3a70/expr.ipynb\"><img src=\"../19e9726c37dba3f17056379768ad584bfa7ca3a70/expr.png\" style=\"display:inline;vertical-align:middle;\" /></a></td></tr>\n",
       "<tr><td>6</td><td>ExprTuple</td><td>10, 11</td><td><a class=\"ProveItLink\" href=\"../a24e567a0d99005e7f1339f496648d281d98eeff0/expr.ipynb\"><img src=\"../a24e567a0d99005e7f1339f496648d281d98eeff0/expr.png\" style=\"display:inline;vertical-align:middle;\" /></a></td></tr>\n",
       "<tr><td>7</td><td>Literal</td><td></td><td><a class=\"ProveItLink\" href=\"../../../../logic/boolean/conjunction/__pv_it/f41cc6b553210927c09f19a8a39cdf860a5585930/expr.ipynb\"><img src=\"../../../../logic/boolean/conjunction/__pv_it/f41cc6b553210927c09f19a8a39cdf860a5585930/expr.png\" style=\"display:inline;vertical-align:middle;\" /></a></td></tr>\n",
       "<tr><td>8</td><td>ExprTuple</td><td>12</td><td><a class=\"ProveItLink\" href=\"../f80f12a4e3adb10e118c9232546b2e0b999e8d2b0/expr.ipynb\"><img src=\"../f80f12a4e3adb10e118c9232546b2e0b999e8d2b0/expr.png\" style=\"display:inline;vertical-align:middle;\" /></a></td></tr>\n",
       "<tr><td>9</td><td>ExprRange</td><td>lambda_map:&nbsp;13<br>start_index:&nbsp;30<br>end_index:&nbsp;19<br></td><td><a class=\"ProveItLink\" href=\"../468a5e098092ce413781db87442c8d7ceef655f80/expr.ipynb\"><img src=\"../468a5e098092ce413781db87442c8d7ceef655f80/expr.png\" style=\"display:inline;vertical-align:middle;\" /></a></td></tr>\n",
       "<tr><td>10</td><td>ExprRange</td><td>lambda_map:&nbsp;14<br>start_index:&nbsp;30<br>end_index:&nbsp;19<br></td><td><a class=\"ProveItLink\" href=\"../f0bf35a19c5d1ddd2acc035f7aa88db89154ddab0/expr.ipynb\"><img src=\"../f0bf35a19c5d1ddd2acc035f7aa88db89154ddab0/expr.png\" style=\"display:inline;vertical-align:middle;\" /></a></td></tr>\n",
       "<tr><td>11</td><td>IndexedVar</td><td>variable:&nbsp;25<br>index:&nbsp;15<br></td><td><a class=\"ProveItLink\" href=\"../d3dc27707e2938cad9b413dee84b1939f23fb1690/expr.ipynb\"><img src=\"../d3dc27707e2938cad9b413dee84b1939f23fb1690/expr.png\" style=\"display:inline;vertical-align:middle;\" /></a></td></tr>\n",
       "<tr><td>12</td><td>ExprRange</td><td>lambda_map:&nbsp;16<br>start_index:&nbsp;30<br>end_index:&nbsp;19<br></td><td><a class=\"ProveItLink\" href=\"../4ee3a989e00684cb9245b475c0d9a12f18ea7a060/expr.ipynb\"><img src=\"../4ee3a989e00684cb9245b475c0d9a12f18ea7a060/expr.png\" style=\"display:inline;vertical-align:middle;\" /></a></td></tr>\n",
       "<tr><td>13</td><td>Lambda</td><td>parameter:&nbsp;29<br>body:&nbsp;20<br></td><td><a class=\"ProveItLink\" href=\"../491f622b0cf2df19490f62dbe10c919b367c29480/expr.ipynb\"><img src=\"../491f622b0cf2df19490f62dbe10c919b367c29480/expr.png\" style=\"display:inline;vertical-align:middle;\" /></a></td></tr>\n",
       "<tr><td>14</td><td>Lambda</td><td>parameter:&nbsp;29<br>body:&nbsp;23<br></td><td><a class=\"ProveItLink\" href=\"../cff4e91787f46c693e74373bbea25926e107ff5e0/expr.ipynb\"><img src=\"../cff4e91787f46c693e74373bbea25926e107ff5e0/expr.png\" style=\"display:inline;vertical-align:middle;\" /></a></td></tr>\n",
       "<tr><td>15</td><td>Operation</td><td>operator:&nbsp;27<br>operands:&nbsp;17<br></td><td><a class=\"ProveItLink\" href=\"../8906f6f1b4c45a897cb5c93699b66956df0f67640/expr.ipynb\"><img src=\"../8906f6f1b4c45a897cb5c93699b66956df0f67640/expr.png\" style=\"display:inline;vertical-align:middle;\" /></a></td></tr>\n",
       "<tr><td>16</td><td>Lambda</td><td>parameter:&nbsp;29<br>body:&nbsp;18<br></td><td><a class=\"ProveItLink\" href=\"../6d11d93224b53bd17764caa41609486fdffdb0da0/expr.ipynb\"><img src=\"../6d11d93224b53bd17764caa41609486fdffdb0da0/expr.png\" style=\"display:inline;vertical-align:middle;\" /></a></td></tr>\n",
       "<tr><td>17</td><td>ExprTuple</td><td>19, 30</td><td><a class=\"ProveItLink\" href=\"../f0fecb4ce78ddec78ee14aefbfd7d5bac73853250/expr.ipynb\"><img src=\"../f0fecb4ce78ddec78ee14aefbfd7d5bac73853250/expr.png\" style=\"display:inline;vertical-align:middle;\" /></a></td></tr>\n",
       "<tr><td>18</td><td>Operation</td><td>operator:&nbsp;20<br>operands:&nbsp;21<br></td><td><a class=\"ProveItLink\" href=\"../c23c38a76a84c28a9cdd1186faec02ab6e3b0f730/expr.ipynb\"><img src=\"../c23c38a76a84c28a9cdd1186faec02ab6e3b0f730/expr.png\" style=\"display:inline;vertical-align:middle;\" /></a></td></tr>\n",
       "<tr><td>19</td><td>Literal</td><td></td><td><a class=\"ProveItLink\" href=\"../../../numeral/__pv_it/eafea0aba3ef5dc2db24e5b7b93d46ff53acbff50/expr.ipynb\"><img src=\"../../../numeral/__pv_it/eafea0aba3ef5dc2db24e5b7b93d46ff53acbff50/expr.png\" style=\"display:inline;vertical-align:middle;\" /></a></td></tr>\n",
       "<tr><td>20</td><td>IndexedVar</td><td>variable:&nbsp;22<br>index:&nbsp;29<br></td><td><a class=\"ProveItLink\" href=\"../644c7329ca2508aa9eb50a95aa5d3a2a01653c140/expr.ipynb\"><img src=\"../644c7329ca2508aa9eb50a95aa5d3a2a01653c140/expr.png\" style=\"display:inline;vertical-align:middle;\" /></a></td></tr>\n",
       "<tr><td>21</td><td>ExprTuple</td><td>23, 24</td><td><a class=\"ProveItLink\" href=\"../c830dead97d5d8ae707c31ad18db2491e1d888e60/expr.ipynb\"><img src=\"../c830dead97d5d8ae707c31ad18db2491e1d888e60/expr.png\" style=\"display:inline;vertical-align:middle;\" /></a></td></tr>\n",
       "<tr><td>22</td><td>Variable</td><td></td><td><a class=\"ProveItLink\" href=\"../../../../__pv_it/fec1d08f08b0590b0aba071a263dce8450d89dda0/expr.ipynb\"><img src=\"../../../../__pv_it/fec1d08f08b0590b0aba071a263dce8450d89dda0/expr.png\" style=\"display:inline;vertical-align:middle;\" /></a></td></tr>\n",
       "<tr><td>23</td><td>IndexedVar</td><td>variable:&nbsp;25<br>index:&nbsp;29<br></td><td><a class=\"ProveItLink\" href=\"../5806935187de2ebea4a8552dee6b2164eb38f3ad0/expr.ipynb\"><img src=\"../5806935187de2ebea4a8552dee6b2164eb38f3ad0/expr.png\" style=\"display:inline;vertical-align:middle;\" /></a></td></tr>\n",
       "<tr><td>24</td><td>IndexedVar</td><td>variable:&nbsp;25<br>index:&nbsp;26<br></td><td><a class=\"ProveItLink\" href=\"../c4a37b0edf1b7241bdc29a0280285ee8f6a49efa0/expr.ipynb\"><img src=\"../c4a37b0edf1b7241bdc29a0280285ee8f6a49efa0/expr.png\" style=\"display:inline;vertical-align:middle;\" /></a></td></tr>\n",
       "<tr><td>25</td><td>Variable</td><td></td><td><a class=\"ProveItLink\" href=\"../../../../__pv_it/72df168d2bfb4e0140af90912ebf83b13772060b0/expr.ipynb\"><img src=\"../../../../__pv_it/72df168d2bfb4e0140af90912ebf83b13772060b0/expr.png\" style=\"display:inline;vertical-align:middle;\" /></a></td></tr>\n",
       "<tr><td>26</td><td>Operation</td><td>operator:&nbsp;27<br>operands:&nbsp;28<br></td><td><a class=\"ProveItLink\" href=\"../3d7ea1a7d70557d7784ad165e368a32c1f1c37490/expr.ipynb\"><img src=\"../3d7ea1a7d70557d7784ad165e368a32c1f1c37490/expr.png\" style=\"display:inline;vertical-align:middle;\" /></a></td></tr>\n",
       "<tr><td>27</td><td>Literal</td><td></td><td><a class=\"ProveItLink\" href=\"../../../addition/__pv_it/65ad7e8aee19b10110d590375ba95a879c4fb7ea0/expr.ipynb\"><img src=\"../../../addition/__pv_it/65ad7e8aee19b10110d590375ba95a879c4fb7ea0/expr.png\" style=\"display:inline;vertical-align:middle;\" /></a></td></tr>\n",
       "<tr><td>28</td><td>ExprTuple</td><td>29, 30</td><td><a class=\"ProveItLink\" href=\"../92269e6244b0df715311e882260ecf2e1ff1ea220/expr.ipynb\"><img src=\"../92269e6244b0df715311e882260ecf2e1ff1ea220/expr.png\" style=\"display:inline;vertical-align:middle;\" /></a></td></tr>\n",
       "<tr><td>29</td><td>Variable</td><td></td><td><a class=\"ProveItLink\" href=\"../../../../__pv_it/557ab5defdcd46aa58168b08767502985122cd490/expr.ipynb\"><img src=\"../../../../__pv_it/557ab5defdcd46aa58168b08767502985122cd490/expr.png\" style=\"display:inline;vertical-align:middle;\" /></a></td></tr>\n",
       "<tr><td>30</td><td>Literal</td><td></td><td><a class=\"ProveItLink\" href=\"../../../numeral/__pv_it/f086f8c372bd40a2458306ddfdbb29f3dc6f63030/expr.ipynb\"><img src=\"../../../numeral/__pv_it/f086f8c372bd40a2458306ddfdbb29f3dc6f63030/expr.png\" style=\"display:inline;vertical-align:middle;\" /></a></td></tr>\n",
       "</table>\n"
      ],
      "text/plain": [
       "0. (x_{1} rho_{1} ..x_{i}.. rho_{i} x_{3} rho_{3} x_{3 + 1}) = ((x_{1} rho_{1} x_{1 + 1}) and ..(x_{i} rho_{i} x_{i + 1}).. and (x_{3} rho_{3} x_{3 + 1}))\n",
       "   core type: Operation\n",
       "   operator: 1\n",
       "   operands: 2\n",
       "1. =\n",
       "   core type: Literal\n",
       "   sub-expressions: \n",
       "2. (x_{1} rho_{1} ..x_{i}.. rho_{i} x_{3} rho_{3} x_{3 + 1}, (x_{1} rho_{1} x_{1 + 1}) and ..(x_{i} rho_{i} x_{i + 1}).. and (x_{3} rho_{3} x_{3 + 1}))\n",
       "   core type: ExprTuple\n",
       "   sub-expressions: 3, 4\n",
       "3. x_{1} rho_{1} ..x_{i}.. rho_{i} x_{3} rho_{3} x_{3 + 1}\n",
       "   core type: Operation\n",
       "   operators: 5\n",
       "   operands: 6\n",
       "4. (x_{1} rho_{1} x_{1 + 1}) and ..(x_{i} rho_{i} x_{i + 1}).. and (x_{3} rho_{3} x_{3 + 1})\n",
       "   core type: Operation\n",
       "   operator: 7\n",
       "   operands: 8\n",
       "5. (rho_{1}, ..rho_{i}.., rho_{3})\n",
       "   core type: ExprTuple\n",
       "   sub-expressions: 9\n",
       "6. (x_{1}, ..x_{i}.., x_{3}, x_{3 + 1})\n",
       "   core type: ExprTuple\n",
       "   sub-expressions: 10, 11\n",
       "7. and\n",
       "   core type: Literal\n",
       "   sub-expressions: \n",
       "8. (x_{1} rho_{1} x_{1 + 1}, ..x_{i} rho_{i} x_{i + 1}.., x_{3} rho_{3} x_{3 + 1})\n",
       "   core type: ExprTuple\n",
       "   sub-expressions: 12\n",
       "9. rho_{1}, ..rho_{i}.., rho_{3}\n",
       "   core type: ExprRange\n",
       "   lambda_map: 13\n",
       "   start_index: 30\n",
       "   end_index: 19\n",
       "10. x_{1}, ..x_{i}.., x_{3}\n",
       "    core type: ExprRange\n",
       "    lambda_map: 14\n",
       "    start_index: 30\n",
       "    end_index: 19\n",
       "11. x_{3 + 1}\n",
       "    core type: IndexedVar\n",
       "variable: 25\n",
       "index: 15\n",
       "12. (x_{1} rho_{1} x_{1 + 1}), ..(x_{i} rho_{i} x_{i + 1}).., (x_{3} rho_{3} x_{3 + 1})\n",
       "    core type: ExprRange\n",
       "    lambda_map: 16\n",
       "    start_index: 30\n",
       "    end_index: 19\n",
       "13. i -> rho_{i}\n",
       "    core type: Lambda\n",
       "    parameter: 29\n",
       "    body: 20\n",
       "14. i -> x_{i}\n",
       "    core type: Lambda\n",
       "    parameter: 29\n",
       "    body: 23\n",
       "15. 3 + 1\n",
       "    core type: Operation\n",
       "    operator: 27\n",
       "    operands: 17\n",
       "16. i -> (x_{i} rho_{i} x_{i + 1})\n",
       "    core type: Lambda\n",
       "    parameter: 29\n",
       "    body: 18\n",
       "17. (3, 1)\n",
       "    core type: ExprTuple\n",
       "    sub-expressions: 19, 30\n",
       "18. x_{i} rho_{i} x_{i + 1}\n",
       "    core type: Operation\n",
       "    operator: 20\n",
       "    operands: 21\n",
       "19. 3\n",
       "    core type: Literal\n",
       "    sub-expressions: \n",
       "20. rho_{i}\n",
       "    core type: IndexedVar\n",
       "variable: 22\n",
       "index: 29\n",
       "21. (x_{i}, x_{i + 1})\n",
       "    core type: ExprTuple\n",
       "    sub-expressions: 23, 24\n",
       "22. rho\n",
       "    core type: Variable\n",
       "    sub-expressions: \n",
       "23. x_{i}\n",
       "    core type: IndexedVar\n",
       "variable: 25\n",
       "index: 29\n",
       "24. x_{i + 1}\n",
       "    core type: IndexedVar\n",
       "variable: 25\n",
       "index: 26\n",
       "25. x\n",
       "    core type: Variable\n",
       "    sub-expressions: \n",
       "26. i + 1\n",
       "    core type: Operation\n",
       "    operator: 27\n",
       "    operands: 28\n",
       "27. +\n",
       "    core type: Literal\n",
       "    sub-expressions: \n",
       "28. (i, 1)\n",
       "    core type: ExprTuple\n",
       "    sub-expressions: 29, 30\n",
       "29. i\n",
       "    core type: Variable\n",
       "    sub-expressions: \n",
       "30. 1\n",
       "    core type: Literal\n",
       "    sub-expressions: "
      ]
     },
     "execution_count": 5,
     "metadata": {},
     "output_type": "execute_result"
    }
   ],
   "source": [
    "# display the expression information\n",
    "expr.exprInfo()"
   ]
  },
  {
   "cell_type": "code",
   "execution_count": null,
   "metadata": {},
   "outputs": [],
   "source": []
  }
 ],
 "metadata": {
  "kernelspec": {
   "display_name": "Python 3",
   "language": "python",
   "name": "python3"
  },
  "language_info": {
   "codemirror_mode": {
    "name": "ipython",
    "version": 3
   },
   "file_extension": ".py",
   "mimetype": "text/x-python",
   "name": "python",
   "nbconvert_exporter": "python",
   "pygments_lexer": "ipython3",
   "version": "3.7.3"
  }
 },
 "nbformat": 4,
 "nbformat_minor": 1
}
