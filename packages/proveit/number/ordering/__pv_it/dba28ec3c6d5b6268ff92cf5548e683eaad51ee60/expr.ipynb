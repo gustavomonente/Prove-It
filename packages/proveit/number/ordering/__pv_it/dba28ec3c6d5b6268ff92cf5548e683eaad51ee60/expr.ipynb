{
 "cells": [
  {
   "cell_type": "markdown",
   "metadata": {},
   "source": [
    "Expression of type <a class=\"ProveItLink\" href=\"../../../../../../doc/html/api/proveit.Conditional.html\">Conditional</a>\n",
    "=======================\n",
    "# from context <a class=\"ProveItLink\" href=\"../../_context_.ipynb\">proveit.number.ordering</a>"
   ]
  },
  {
   "cell_type": "code",
   "execution_count": 1,
   "metadata": {},
   "outputs": [],
   "source": [
    "import proveit\n",
    "# Automation is not needed when building an expression:\n",
    "proveit.defaults.automation = False # This will speed things up.\n",
    "proveit.defaults.inline_pngs = False # Makes files smaller.\n",
    "# import Expression classes needed to build the expression\n",
    "from proveit import Conditional\n",
    "from proveit._common_ import a, b, c, d\n",
    "from proveit.logic import And, InSet\n",
    "from proveit.number import Add, LessEq, Reals"
   ]
  },
  {
   "cell_type": "code",
   "execution_count": 2,
   "metadata": {},
   "outputs": [
    {
     "data": {
      "text/html": [
       "<strong id=\"expr\">expr:</strong> <a class=\"ProveItLink\" href=\"expr.ipynb\"><img src=\"expr.png\" style=\"display:inline;vertical-align:middle;\" /></a><br>"
      ],
      "text/plain": [
       "expr: {(a + c) <= (b + d) if a in Reals ,  b in Reals ,  c in Reals ,  d in Reals ,  a <= b ,  c <= d."
      ]
     },
     "execution_count": 2,
     "metadata": {},
     "output_type": "execute_result"
    }
   ],
   "source": [
    "# build up the expression from sub-expressions\n",
    "expr = Conditional(LessEq(Add(a, c), Add(b, d)), And(InSet(a, Reals), InSet(b, Reals), InSet(c, Reals), InSet(d, Reals), LessEq(a, b), LessEq(c, d)))"
   ]
  },
  {
   "cell_type": "code",
   "execution_count": 3,
   "metadata": {},
   "outputs": [
    {
     "name": "stdout",
     "output_type": "stream",
     "text": [
      "Passed sanity check: built 'expr' is the same as the stored Expression.\n"
     ]
    }
   ],
   "source": [
    "# check that the built expression is the same as the stored expression\n",
    "%check_expr"
   ]
  },
  {
   "cell_type": "code",
   "execution_count": 4,
   "metadata": {},
   "outputs": [
    {
     "name": "stdout",
     "output_type": "stream",
     "text": [
      "\\left\\{\\left(a + c\\right) \\leq \\left(b + d\\right) \\textrm{ if } a \\in \\mathbb{R} ,  b \\in \\mathbb{R} ,  c \\in \\mathbb{R} ,  d \\in \\mathbb{R} ,  a \\leq b ,  c \\leq d\\right..\n"
     ]
    }
   ],
   "source": [
    "# Show the LaTeX representation of the expression for convenience if you need it.\n",
    "print(expr.latex())"
   ]
  },
  {
   "cell_type": "code",
   "execution_count": 5,
   "metadata": {},
   "outputs": [
    {
     "data": {
      "text/html": [
       "<table><tr><th>&nbsp;</th><th>core type</th><th>sub-expressions</th><th>expression</th></tr>\n",
       "<tr><td>0</td><td>Conditional</td><td>value:&nbsp;1<br>condition:&nbsp;2<br></td><td><a class=\"ProveItLink\" href=\"expr.ipynb\"><img src=\"expr.png\" style=\"display:inline;vertical-align:middle;\" /></a></td></tr>\n",
       "<tr><td>1</td><td>Operation</td><td>operator:&nbsp;23<br>operands:&nbsp;3<br></td><td><a class=\"ProveItLink\" href=\"../3219d34b51af817d6ae0434e1d33d519f4c155fc0/expr.ipynb\"><img src=\"../3219d34b51af817d6ae0434e1d33d519f4c155fc0/expr.png\" style=\"display:inline;vertical-align:middle;\" /></a></td></tr>\n",
       "<tr><td>2</td><td>Operation</td><td>operator:&nbsp;4<br>operands:&nbsp;5<br></td><td><a class=\"ProveItLink\" href=\"../97ac1dfd2507154fbb7991da57783303545274970/expr.ipynb\"><img src=\"../97ac1dfd2507154fbb7991da57783303545274970/expr.png\" style=\"display:inline;vertical-align:middle;\" /></a></td></tr>\n",
       "<tr><td>3</td><td>ExprTuple</td><td>6, 7</td><td><a class=\"ProveItLink\" href=\"../49d083e1b53e5a24f5b94b760a2dd79d14d090380/expr.ipynb\"><img src=\"../49d083e1b53e5a24f5b94b760a2dd79d14d090380/expr.png\" style=\"display:inline;vertical-align:middle;\" /></a></td></tr>\n",
       "<tr><td>4</td><td>Literal</td><td></td><td><a class=\"ProveItLink\" href=\"../../../../logic/boolean/conjunction/__pv_it/f41cc6b553210927c09f19a8a39cdf860a5585930/expr.ipynb\"><img src=\"../../../../logic/boolean/conjunction/__pv_it/f41cc6b553210927c09f19a8a39cdf860a5585930/expr.png\" style=\"display:inline;vertical-align:middle;\" /></a></td></tr>\n",
       "<tr><td>5</td><td>ExprTuple</td><td>8, 9, 10, 11, 12, 13</td><td><a class=\"ProveItLink\" href=\"../cd95d6137e6ed28cbc69489e21218e8522fa07ed0/expr.ipynb\"><img src=\"../cd95d6137e6ed28cbc69489e21218e8522fa07ed0/expr.png\" style=\"display:inline;vertical-align:middle;\" /></a></td></tr>\n",
       "<tr><td>6</td><td>Operation</td><td>operator:&nbsp;15<br>operands:&nbsp;14<br></td><td><a class=\"ProveItLink\" href=\"../4b55ed3cd8edda10083e2504cd35d37d3fe95f130/expr.ipynb\"><img src=\"../4b55ed3cd8edda10083e2504cd35d37d3fe95f130/expr.png\" style=\"display:inline;vertical-align:middle;\" /></a></td></tr>\n",
       "<tr><td>7</td><td>Operation</td><td>operator:&nbsp;15<br>operands:&nbsp;16<br></td><td><a class=\"ProveItLink\" href=\"../8ceb35b12a9c5de59307d5d379d59db3635a78210/expr.ipynb\"><img src=\"../8ceb35b12a9c5de59307d5d379d59db3635a78210/expr.png\" style=\"display:inline;vertical-align:middle;\" /></a></td></tr>\n",
       "<tr><td>8</td><td>Operation</td><td>operator:&nbsp;20<br>operands:&nbsp;17<br></td><td><a class=\"ProveItLink\" href=\"../35226e3b3cf6462229df8a060308fe0fc48ffc210/expr.ipynb\"><img src=\"../35226e3b3cf6462229df8a060308fe0fc48ffc210/expr.png\" style=\"display:inline;vertical-align:middle;\" /></a></td></tr>\n",
       "<tr><td>9</td><td>Operation</td><td>operator:&nbsp;20<br>operands:&nbsp;18<br></td><td><a class=\"ProveItLink\" href=\"../002870e764fad69e198f19071a0b3ebfa72a6acb0/expr.ipynb\"><img src=\"../002870e764fad69e198f19071a0b3ebfa72a6acb0/expr.png\" style=\"display:inline;vertical-align:middle;\" /></a></td></tr>\n",
       "<tr><td>10</td><td>Operation</td><td>operator:&nbsp;20<br>operands:&nbsp;19<br></td><td><a class=\"ProveItLink\" href=\"../bd18cec56326f186a0c27a6fa8ed32cdb23471400/expr.ipynb\"><img src=\"../bd18cec56326f186a0c27a6fa8ed32cdb23471400/expr.png\" style=\"display:inline;vertical-align:middle;\" /></a></td></tr>\n",
       "<tr><td>11</td><td>Operation</td><td>operator:&nbsp;20<br>operands:&nbsp;21<br></td><td><a class=\"ProveItLink\" href=\"../7956954f346c39a4c436576ba8cc984305cf5ab00/expr.ipynb\"><img src=\"../7956954f346c39a4c436576ba8cc984305cf5ab00/expr.png\" style=\"display:inline;vertical-align:middle;\" /></a></td></tr>\n",
       "<tr><td>12</td><td>Operation</td><td>operator:&nbsp;23<br>operands:&nbsp;22<br></td><td><a class=\"ProveItLink\" href=\"../aed243cb32213d06045d486a3b6cec726edb81af0/expr.ipynb\"><img src=\"../aed243cb32213d06045d486a3b6cec726edb81af0/expr.png\" style=\"display:inline;vertical-align:middle;\" /></a></td></tr>\n",
       "<tr><td>13</td><td>Operation</td><td>operator:&nbsp;23<br>operands:&nbsp;24<br></td><td><a class=\"ProveItLink\" href=\"../61d841fcb7354c12175fe2464213af7042d8c20c0/expr.ipynb\"><img src=\"../61d841fcb7354c12175fe2464213af7042d8c20c0/expr.png\" style=\"display:inline;vertical-align:middle;\" /></a></td></tr>\n",
       "<tr><td>14</td><td>ExprTuple</td><td>26, 28</td><td><a class=\"ProveItLink\" href=\"../2d28fe0600ec3de83fb142be3a1e5a7b2523d3560/expr.ipynb\"><img src=\"../2d28fe0600ec3de83fb142be3a1e5a7b2523d3560/expr.png\" style=\"display:inline;vertical-align:middle;\" /></a></td></tr>\n",
       "<tr><td>15</td><td>Literal</td><td></td><td><a class=\"ProveItLink\" href=\"../../../addition/__pv_it/65ad7e8aee19b10110d590375ba95a879c4fb7ea0/expr.ipynb\"><img src=\"../../../addition/__pv_it/65ad7e8aee19b10110d590375ba95a879c4fb7ea0/expr.png\" style=\"display:inline;vertical-align:middle;\" /></a></td></tr>\n",
       "<tr><td>16</td><td>ExprTuple</td><td>27, 29</td><td><a class=\"ProveItLink\" href=\"../4522c91b84e7485f16d6ba2ce5edb44ec5f7e5ee0/expr.ipynb\"><img src=\"../4522c91b84e7485f16d6ba2ce5edb44ec5f7e5ee0/expr.png\" style=\"display:inline;vertical-align:middle;\" /></a></td></tr>\n",
       "<tr><td>17</td><td>ExprTuple</td><td>26, 25</td><td><a class=\"ProveItLink\" href=\"../d73177ba22ffd806557aed22bce46d6c8254bd730/expr.ipynb\"><img src=\"../d73177ba22ffd806557aed22bce46d6c8254bd730/expr.png\" style=\"display:inline;vertical-align:middle;\" /></a></td></tr>\n",
       "<tr><td>18</td><td>ExprTuple</td><td>27, 25</td><td><a class=\"ProveItLink\" href=\"../f3db2ef446f9e516d35c23bd4ce93bb30e0638b70/expr.ipynb\"><img src=\"../f3db2ef446f9e516d35c23bd4ce93bb30e0638b70/expr.png\" style=\"display:inline;vertical-align:middle;\" /></a></td></tr>\n",
       "<tr><td>19</td><td>ExprTuple</td><td>28, 25</td><td><a class=\"ProveItLink\" href=\"../6480d147d547ba28cc8029a9720e74dc9468cd260/expr.ipynb\"><img src=\"../6480d147d547ba28cc8029a9720e74dc9468cd260/expr.png\" style=\"display:inline;vertical-align:middle;\" /></a></td></tr>\n",
       "<tr><td>20</td><td>Literal</td><td></td><td><a class=\"ProveItLink\" href=\"../../../../logic/set_theory/membership/__pv_it/7776fc89cb67d0b5b1ec2c0c8e08da5587921ccf0/expr.ipynb\"><img src=\"../../../../logic/set_theory/membership/__pv_it/7776fc89cb67d0b5b1ec2c0c8e08da5587921ccf0/expr.png\" style=\"display:inline;vertical-align:middle;\" /></a></td></tr>\n",
       "<tr><td>21</td><td>ExprTuple</td><td>29, 25</td><td><a class=\"ProveItLink\" href=\"../3ed07c9c8b5ce88591062c0050b6f4bcf1b3524b0/expr.ipynb\"><img src=\"../3ed07c9c8b5ce88591062c0050b6f4bcf1b3524b0/expr.png\" style=\"display:inline;vertical-align:middle;\" /></a></td></tr>\n",
       "<tr><td>22</td><td>ExprTuple</td><td>26, 27</td><td><a class=\"ProveItLink\" href=\"../bbc1b69eb12288f0ad04da0d0cc6b9b8079b8b3f0/expr.ipynb\"><img src=\"../bbc1b69eb12288f0ad04da0d0cc6b9b8079b8b3f0/expr.png\" style=\"display:inline;vertical-align:middle;\" /></a></td></tr>\n",
       "<tr><td>23</td><td>Literal</td><td></td><td><a class=\"ProveItLink\" href=\"../75657f0186226b3d1bb8ce3bab2953bb36e04b3b0/expr.ipynb\"><img src=\"../75657f0186226b3d1bb8ce3bab2953bb36e04b3b0/expr.png\" style=\"display:inline;vertical-align:middle;\" /></a></td></tr>\n",
       "<tr><td>24</td><td>ExprTuple</td><td>28, 29</td><td><a class=\"ProveItLink\" href=\"../3efa6ef1c2df45b20f093f6245413818d5bacb780/expr.ipynb\"><img src=\"../3efa6ef1c2df45b20f093f6245413818d5bacb780/expr.png\" style=\"display:inline;vertical-align:middle;\" /></a></td></tr>\n",
       "<tr><td>25</td><td>Literal</td><td></td><td><a class=\"ProveItLink\" href=\"../../../sets/real/__pv_it/83c2d223a7b04200651811c8b29e747fd8f853510/expr.ipynb\"><img src=\"../../../sets/real/__pv_it/83c2d223a7b04200651811c8b29e747fd8f853510/expr.png\" style=\"display:inline;vertical-align:middle;\" /></a></td></tr>\n",
       "<tr><td>26</td><td>Variable</td><td></td><td><a class=\"ProveItLink\" href=\"../../../../__pv_it/a8d4b3a34d2189508f9082853fbac36935714f280/expr.ipynb\"><img src=\"../../../../__pv_it/a8d4b3a34d2189508f9082853fbac36935714f280/expr.png\" style=\"display:inline;vertical-align:middle;\" /></a></td></tr>\n",
       "<tr><td>27</td><td>Variable</td><td></td><td><a class=\"ProveItLink\" href=\"../../../../__pv_it/53e304ff98ebc000dbe3ef224f4637dbafd46ba70/expr.ipynb\"><img src=\"../../../../__pv_it/53e304ff98ebc000dbe3ef224f4637dbafd46ba70/expr.png\" style=\"display:inline;vertical-align:middle;\" /></a></td></tr>\n",
       "<tr><td>28</td><td>Variable</td><td></td><td><a class=\"ProveItLink\" href=\"../../../../__pv_it/b2b446b221a34ee579eb9a1fbdd4ac4e2891d8c70/expr.ipynb\"><img src=\"../../../../__pv_it/b2b446b221a34ee579eb9a1fbdd4ac4e2891d8c70/expr.png\" style=\"display:inline;vertical-align:middle;\" /></a></td></tr>\n",
       "<tr><td>29</td><td>Variable</td><td></td><td><a class=\"ProveItLink\" href=\"../../../../__pv_it/445e790c2b62732eb8597a2ddda4cbd1a8fb79140/expr.ipynb\"><img src=\"../../../../__pv_it/445e790c2b62732eb8597a2ddda4cbd1a8fb79140/expr.png\" style=\"display:inline;vertical-align:middle;\" /></a></td></tr>\n",
       "</table>\n"
      ],
      "text/plain": [
       "0. {(a + c) <= (b + d) if a in Reals ,  b in Reals ,  c in Reals ,  d in Reals ,  a <= b ,  c <= d.\n",
       "   core type: Conditional\n",
       "   value: 1\n",
       "   condition: 2\n",
       "1. (a + c) <= (b + d)\n",
       "   core type: Operation\n",
       "   operator: 23\n",
       "   operands: 3\n",
       "2. (a in Reals) and (b in Reals) and (c in Reals) and (d in Reals) and (a <= b) and (c <= d)\n",
       "   core type: Operation\n",
       "   operator: 4\n",
       "   operands: 5\n",
       "3. (a + c, b + d)\n",
       "   core type: ExprTuple\n",
       "   sub-expressions: 6, 7\n",
       "4. and\n",
       "   core type: Literal\n",
       "   sub-expressions: \n",
       "5. (a in Reals, b in Reals, c in Reals, d in Reals, a <= b, c <= d)\n",
       "   core type: ExprTuple\n",
       "   sub-expressions: 8, 9, 10, 11, 12, 13\n",
       "6. a + c\n",
       "   core type: Operation\n",
       "   operator: 15\n",
       "   operands: 14\n",
       "7. b + d\n",
       "   core type: Operation\n",
       "   operator: 15\n",
       "   operands: 16\n",
       "8. a in Reals\n",
       "   core type: Operation\n",
       "   operator: 20\n",
       "   operands: 17\n",
       "9. b in Reals\n",
       "   core type: Operation\n",
       "   operator: 20\n",
       "   operands: 18\n",
       "10. c in Reals\n",
       "    core type: Operation\n",
       "    operator: 20\n",
       "    operands: 19\n",
       "11. d in Reals\n",
       "    core type: Operation\n",
       "    operator: 20\n",
       "    operands: 21\n",
       "12. a <= b\n",
       "    core type: Operation\n",
       "    operator: 23\n",
       "    operands: 22\n",
       "13. c <= d\n",
       "    core type: Operation\n",
       "    operator: 23\n",
       "    operands: 24\n",
       "14. (a, c)\n",
       "    core type: ExprTuple\n",
       "    sub-expressions: 26, 28\n",
       "15. +\n",
       "    core type: Literal\n",
       "    sub-expressions: \n",
       "16. (b, d)\n",
       "    core type: ExprTuple\n",
       "    sub-expressions: 27, 29\n",
       "17. (a, Reals)\n",
       "    core type: ExprTuple\n",
       "    sub-expressions: 26, 25\n",
       "18. (b, Reals)\n",
       "    core type: ExprTuple\n",
       "    sub-expressions: 27, 25\n",
       "19. (c, Reals)\n",
       "    core type: ExprTuple\n",
       "    sub-expressions: 28, 25\n",
       "20. in\n",
       "    core type: Literal\n",
       "    sub-expressions: \n",
       "21. (d, Reals)\n",
       "    core type: ExprTuple\n",
       "    sub-expressions: 29, 25\n",
       "22. (a, b)\n",
       "    core type: ExprTuple\n",
       "    sub-expressions: 26, 27\n",
       "23. <=\n",
       "    core type: Literal\n",
       "    sub-expressions: \n",
       "24. (c, d)\n",
       "    core type: ExprTuple\n",
       "    sub-expressions: 28, 29\n",
       "25. Reals\n",
       "    core type: Literal\n",
       "    sub-expressions: \n",
       "26. a\n",
       "    core type: Variable\n",
       "    sub-expressions: \n",
       "27. b\n",
       "    core type: Variable\n",
       "    sub-expressions: \n",
       "28. c\n",
       "    core type: Variable\n",
       "    sub-expressions: \n",
       "29. d\n",
       "    core type: Variable\n",
       "    sub-expressions: "
      ]
     },
     "execution_count": 5,
     "metadata": {},
     "output_type": "execute_result"
    }
   ],
   "source": [
    "# display the expression information\n",
    "expr.exprInfo()"
   ]
  },
  {
   "cell_type": "code",
   "execution_count": null,
   "metadata": {},
   "outputs": [],
   "source": []
  }
 ],
 "metadata": {
  "kernelspec": {
   "display_name": "Python 3",
   "language": "python",
   "name": "python3"
  },
  "language_info": {
   "codemirror_mode": {
    "name": "ipython",
    "version": 3
   },
   "file_extension": ".py",
   "mimetype": "text/x-python",
   "name": "python",
   "nbconvert_exporter": "python",
   "pygments_lexer": "ipython3",
   "version": "3.7.3"
  }
 },
 "nbformat": 4,
 "nbformat_minor": 1
}
