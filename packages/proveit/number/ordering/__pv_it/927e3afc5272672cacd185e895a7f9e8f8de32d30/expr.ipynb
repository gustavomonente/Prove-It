{
 "cells": [
  {
   "cell_type": "markdown",
   "metadata": {},
   "source": [
    "Expression of type <a class=\"ProveItLink\" href=\"../../../../../../doc/html/api/proveit.ExprTuple.html\">ExprTuple</a>\n",
    "=======================\n",
    "# from context <a class=\"ProveItLink\" href=\"../../_context_.ipynb\">proveit.number.ordering</a>"
   ]
  },
  {
   "cell_type": "code",
   "execution_count": 1,
   "metadata": {},
   "outputs": [],
   "source": [
    "import proveit\n",
    "# Automation is not needed when building an expression:\n",
    "proveit.defaults.automation = False # This will speed things up.\n",
    "proveit.defaults.inline_pngs = False # Makes files smaller.\n",
    "# import Expression classes needed to build the expression\n",
    "from proveit import ExprTuple\n",
    "from proveit._common_ import x, y\n",
    "from proveit.logic import Equals, Or\n",
    "from proveit.number import Greater, GreaterEq"
   ]
  },
  {
   "cell_type": "code",
   "execution_count": 2,
   "metadata": {},
   "outputs": [
    {
     "data": {
      "text/html": [
       "<strong id=\"expr\">expr:</strong> <a class=\"ProveItLink\" href=\"expr.ipynb\"><img src=\"expr.png\" style=\"display:inline;vertical-align:middle;\" /></a><br>"
      ],
      "text/plain": [
       "expr: (y >= x, (y > x) or (y = x))"
      ]
     },
     "execution_count": 2,
     "metadata": {},
     "output_type": "execute_result"
    }
   ],
   "source": [
    "# build up the expression from sub-expressions\n",
    "expr = ExprTuple(GreaterEq(y, x), Or(Greater(y, x), Equals(y, x)))"
   ]
  },
  {
   "cell_type": "code",
   "execution_count": 3,
   "metadata": {},
   "outputs": [
    {
     "name": "stdout",
     "output_type": "stream",
     "text": [
      "Passed sanity check: built 'expr' is the same as the stored Expression.\n"
     ]
    }
   ],
   "source": [
    "# check that the built expression is the same as the stored expression\n",
    "%check_expr"
   ]
  },
  {
   "cell_type": "code",
   "execution_count": 4,
   "metadata": {},
   "outputs": [
    {
     "name": "stdout",
     "output_type": "stream",
     "text": [
      "\\left(y \\geq x, \\left(y > x\\right) \\lor \\left(y = x\\right)\\right)\n"
     ]
    }
   ],
   "source": [
    "# Show the LaTeX representation of the expression for convenience if you need it.\n",
    "print(expr.latex())"
   ]
  },
  {
   "cell_type": "code",
   "execution_count": 5,
   "metadata": {},
   "outputs": [
    {
     "data": {
      "text/html": [
       "<table><tr><th>&nbsp;</th><th>core type</th><th>sub-expressions</th><th>expression</th></tr>\n",
       "<tr><td>0</td><td>ExprTuple</td><td>1, 2</td><td><a class=\"ProveItLink\" href=\"expr.ipynb\"><img src=\"expr.png\" style=\"display:inline;vertical-align:middle;\" /></a></td></tr>\n",
       "<tr><td>1</td><td>Operation</td><td>operator:&nbsp;3<br>operands:&nbsp;10<br></td><td><a class=\"ProveItLink\" href=\"../8c253fb934607b84bff3d4c4cadbdba6a382555a0/expr.ipynb\"><img src=\"../8c253fb934607b84bff3d4c4cadbdba6a382555a0/expr.png\" style=\"display:inline;vertical-align:middle;\" /></a></td></tr>\n",
       "<tr><td>2</td><td>Operation</td><td>operator:&nbsp;4<br>operands:&nbsp;5<br></td><td><a class=\"ProveItLink\" href=\"../06613bc86a1500c5fb08dd2519a06b4e93d078010/expr.ipynb\"><img src=\"../06613bc86a1500c5fb08dd2519a06b4e93d078010/expr.png\" style=\"display:inline;vertical-align:middle;\" /></a></td></tr>\n",
       "<tr><td>3</td><td>Literal</td><td></td><td><a class=\"ProveItLink\" href=\"../cef35580c31dcaee082f4b9a008104845b0dfa860/expr.ipynb\"><img src=\"../cef35580c31dcaee082f4b9a008104845b0dfa860/expr.png\" style=\"display:inline;vertical-align:middle;\" /></a></td></tr>\n",
       "<tr><td>4</td><td>Literal</td><td></td><td><a class=\"ProveItLink\" href=\"../../../../logic/boolean/disjunction/__pv_it/8a6d9fc46c84b3911a71fbae15627dc2acebe2890/expr.ipynb\"><img src=\"../../../../logic/boolean/disjunction/__pv_it/8a6d9fc46c84b3911a71fbae15627dc2acebe2890/expr.png\" style=\"display:inline;vertical-align:middle;\" /></a></td></tr>\n",
       "<tr><td>5</td><td>ExprTuple</td><td>6, 7</td><td><a class=\"ProveItLink\" href=\"../60c0e775dbbda9ab661b6aedb5f8e2cd5628b2c10/expr.ipynb\"><img src=\"../60c0e775dbbda9ab661b6aedb5f8e2cd5628b2c10/expr.png\" style=\"display:inline;vertical-align:middle;\" /></a></td></tr>\n",
       "<tr><td>6</td><td>Operation</td><td>operator:&nbsp;8<br>operands:&nbsp;10<br></td><td><a class=\"ProveItLink\" href=\"../abc9fe9ed3b84c9de293149750b85c2e7431c1b90/expr.ipynb\"><img src=\"../abc9fe9ed3b84c9de293149750b85c2e7431c1b90/expr.png\" style=\"display:inline;vertical-align:middle;\" /></a></td></tr>\n",
       "<tr><td>7</td><td>Operation</td><td>operator:&nbsp;9<br>operands:&nbsp;10<br></td><td><a class=\"ProveItLink\" href=\"../e522a3f56771e2236673c9a62c7672816a302cd30/expr.ipynb\"><img src=\"../e522a3f56771e2236673c9a62c7672816a302cd30/expr.png\" style=\"display:inline;vertical-align:middle;\" /></a></td></tr>\n",
       "<tr><td>8</td><td>Literal</td><td></td><td><a class=\"ProveItLink\" href=\"../cdf7dfe539ddbf6d6869dd2e6907f2ffbcf9aab80/expr.ipynb\"><img src=\"../cdf7dfe539ddbf6d6869dd2e6907f2ffbcf9aab80/expr.png\" style=\"display:inline;vertical-align:middle;\" /></a></td></tr>\n",
       "<tr><td>9</td><td>Literal</td><td></td><td><a class=\"ProveItLink\" href=\"../../../../logic/equality/__pv_it/e16d2caa26a16688b658bdb9c422caf4b84579e10/expr.ipynb\"><img src=\"../../../../logic/equality/__pv_it/e16d2caa26a16688b658bdb9c422caf4b84579e10/expr.png\" style=\"display:inline;vertical-align:middle;\" /></a></td></tr>\n",
       "<tr><td>10</td><td>ExprTuple</td><td>11, 12</td><td><a class=\"ProveItLink\" href=\"../8f04391c090cdda3acd40aa84cdea7b2533838730/expr.ipynb\"><img src=\"../8f04391c090cdda3acd40aa84cdea7b2533838730/expr.png\" style=\"display:inline;vertical-align:middle;\" /></a></td></tr>\n",
       "<tr><td>11</td><td>Variable</td><td></td><td><a class=\"ProveItLink\" href=\"../../../../__pv_it/c6e291955561f22a0e6708fd793ea93f1c7dbb5d0/expr.ipynb\"><img src=\"../../../../__pv_it/c6e291955561f22a0e6708fd793ea93f1c7dbb5d0/expr.png\" style=\"display:inline;vertical-align:middle;\" /></a></td></tr>\n",
       "<tr><td>12</td><td>Variable</td><td></td><td><a class=\"ProveItLink\" href=\"../../../../__pv_it/72df168d2bfb4e0140af90912ebf83b13772060b0/expr.ipynb\"><img src=\"../../../../__pv_it/72df168d2bfb4e0140af90912ebf83b13772060b0/expr.png\" style=\"display:inline;vertical-align:middle;\" /></a></td></tr>\n",
       "</table>\n"
      ],
      "text/plain": [
       "0. (y >= x, (y > x) or (y = x))\n",
       "   core type: ExprTuple\n",
       "   sub-expressions: 1, 2\n",
       "1. y >= x\n",
       "   core type: Operation\n",
       "   operator: 3\n",
       "   operands: 10\n",
       "2. (y > x) or (y = x)\n",
       "   core type: Operation\n",
       "   operator: 4\n",
       "   operands: 5\n",
       "3. >=\n",
       "   core type: Literal\n",
       "   sub-expressions: \n",
       "4. or\n",
       "   core type: Literal\n",
       "   sub-expressions: \n",
       "5. (y > x, y = x)\n",
       "   core type: ExprTuple\n",
       "   sub-expressions: 6, 7\n",
       "6. y > x\n",
       "   core type: Operation\n",
       "   operator: 8\n",
       "   operands: 10\n",
       "7. y = x\n",
       "   core type: Operation\n",
       "   operator: 9\n",
       "   operands: 10\n",
       "8. >\n",
       "   core type: Literal\n",
       "   sub-expressions: \n",
       "9. =\n",
       "   core type: Literal\n",
       "   sub-expressions: \n",
       "10. (y, x)\n",
       "    core type: ExprTuple\n",
       "    sub-expressions: 11, 12\n",
       "11. y\n",
       "    core type: Variable\n",
       "    sub-expressions: \n",
       "12. x\n",
       "    core type: Variable\n",
       "    sub-expressions: "
      ]
     },
     "execution_count": 5,
     "metadata": {},
     "output_type": "execute_result"
    }
   ],
   "source": [
    "# display the expression information\n",
    "expr.exprInfo()"
   ]
  },
  {
   "cell_type": "code",
   "execution_count": null,
   "metadata": {},
   "outputs": [],
   "source": []
  }
 ],
 "metadata": {
  "kernelspec": {
   "display_name": "Python 3",
   "language": "python",
   "name": "python3"
  },
  "language_info": {
   "codemirror_mode": {
    "name": "ipython",
    "version": 3
   },
   "file_extension": ".py",
   "mimetype": "text/x-python",
   "name": "python",
   "nbconvert_exporter": "python",
   "pygments_lexer": "ipython3",
   "version": "3.7.3"
  }
 },
 "nbformat": 4,
 "nbformat_minor": 1
}
