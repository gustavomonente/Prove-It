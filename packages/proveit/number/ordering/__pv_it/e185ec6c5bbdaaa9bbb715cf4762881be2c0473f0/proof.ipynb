{
 "cells": [
  {
   "cell_type": "markdown",
   "metadata": {},
   "source": [
    "Show the Proof\n",
    "========"
   ]
  },
  {
   "cell_type": "code",
   "execution_count": 1,
   "metadata": {},
   "outputs": [
    {
     "data": {
      "text/html": [
       "<table><tr><th>&nbsp;</th><th>step type</th><th>requirements</th><th>statement</th></tr>\n",
       "<tr><td><a name=\"proveit.number.ordering.e185ec6c5bbdaaa9bbb715cf4762881be2c0473f0_step0\">0</a></td><td>hypothetical reasoning</td><td><a href=\"#proveit.number.ordering.e185ec6c5bbdaaa9bbb715cf4762881be2c0473f0_step1\">1</a></td><td><span style=\"font-size:20px;\"><a class=\"ProveItLink\" href=\"../09282d8085f394ead20995669f9dbc15ecc501440/expr.ipynb\"><img src=\"../09282d8085f394ead20995669f9dbc15ecc501440/expr.png\" style=\"display:inline;vertical-align:middle;\" /></a> <a class=\"ProveItLink\" href=\"proof.ipynb\" style=\"text-decoration: none\">&#x22A2;&nbsp;</a><a class=\"ProveItLink\" href=\"../13387536d41590c565ef3966959aeb2714e43e430/expr.ipynb\"><img src=\"../13387536d41590c565ef3966959aeb2714e43e430/expr.png\" style=\"display:inline;vertical-align:middle;\" /></a></span></td></tr>\n",
       "<tr><td><a name=\"proveit.number.ordering.e185ec6c5bbdaaa9bbb715cf4762881be2c0473f0_step1\">1</a></td><td>instantiation</td><td><a href=\"#proveit.number.ordering.e185ec6c5bbdaaa9bbb715cf4762881be2c0473f0_step2\">2</a>, <a href=\"#proveit.number.ordering.e185ec6c5bbdaaa9bbb715cf4762881be2c0473f0_step3\">3</a>, <a href=\"#proveit.number.ordering.e185ec6c5bbdaaa9bbb715cf4762881be2c0473f0_step4\">4</a></td><td><span style=\"font-size:20px;\"><a class=\"ProveItLink\" href=\"../ee6a1b7c7396fa674a5e02835056c57c8a3027080/expr.ipynb\"><img src=\"../ee6a1b7c7396fa674a5e02835056c57c8a3027080/expr.png\" style=\"display:inline;vertical-align:middle;\" /></a> <a class=\"ProveItLink\" href=\"../629c212828422c825daa4bf5ec76d1df84bdc6ef0/proof.ipynb\" style=\"text-decoration: none\">&#x22A2;&nbsp;</a><a class=\"ProveItLink\" href=\"../f8d5ada5e0a4a5ddaa1856dde2debb84fb1c2bbf0/expr.ipynb\"><img src=\"../f8d5ada5e0a4a5ddaa1856dde2debb84fb1c2bbf0/expr.png\" style=\"display:inline;vertical-align:middle;\" /></a></span></td></tr>\n",
       "<tr><td>&nbsp;</td><td colspan=4 style=\"text-align:left\"><span style=\"font-size:20px;\"><a class=\"ProveItLink\" href=\"../../../../__pv_it/72df168d2bfb4e0140af90912ebf83b13772060b0/expr.ipynb\"><img src=\"../../../../__pv_it/72df168d2bfb4e0140af90912ebf83b13772060b0/expr.png\" style=\"display:inline;vertical-align:middle;\" /></a> : <a class=\"ProveItLink\" href=\"../../../../__pv_it/72df168d2bfb4e0140af90912ebf83b13772060b0/expr.ipynb\"><img src=\"../../../../__pv_it/72df168d2bfb4e0140af90912ebf83b13772060b0/expr.png\" style=\"display:inline;vertical-align:middle;\" /></a>, <a class=\"ProveItLink\" href=\"../../../../__pv_it/c6e291955561f22a0e6708fd793ea93f1c7dbb5d0/expr.ipynb\"><img src=\"../../../../__pv_it/c6e291955561f22a0e6708fd793ea93f1c7dbb5d0/expr.png\" style=\"display:inline;vertical-align:middle;\" /></a> : <a class=\"ProveItLink\" href=\"../../../../__pv_it/c6e291955561f22a0e6708fd793ea93f1c7dbb5d0/expr.ipynb\"><img src=\"../../../../__pv_it/c6e291955561f22a0e6708fd793ea93f1c7dbb5d0/expr.png\" style=\"display:inline;vertical-align:middle;\" /></a>, <a class=\"ProveItLink\" href=\"../../../../__pv_it/0d889e00aed425c3081fbda3ac9194ae911895960/expr.ipynb\"><img src=\"../../../../__pv_it/0d889e00aed425c3081fbda3ac9194ae911895960/expr.png\" style=\"display:inline;vertical-align:middle;\" /></a> : <a class=\"ProveItLink\" href=\"../../../../__pv_it/0d889e00aed425c3081fbda3ac9194ae911895960/expr.ipynb\"><img src=\"../../../../__pv_it/0d889e00aed425c3081fbda3ac9194ae911895960/expr.png\" style=\"display:inline;vertical-align:middle;\" /></a></span></td></tr><tr><td><a name=\"proveit.number.ordering.e185ec6c5bbdaaa9bbb715cf4762881be2c0473f0_step2\">2</a></td><td>theorem</td><td></td><td><span style=\"font-size:20px;\"> <a class=\"ProveItLink\" href=\"../../_proofs_/transitivityGreaterGreater.ipynb\" style=\"text-decoration: none\">&#x22A2;&nbsp;</a><a class=\"ProveItLink\" href=\"../c2cdc24133532f3434f4377b0a29198af152c7ff0/expr.ipynb\"><img src=\"../c2cdc24133532f3434f4377b0a29198af152c7ff0/expr.png\" style=\"display:inline;vertical-align:middle;\" /></a></span></td></tr>\n",
       "<tr><td>&nbsp;</td><td colspan=4 style-\"text-align:left\"><a class=\"ProveItLink\" href=\"../../_proofs_/transitivityGreaterGreater.ipynb\">proveit.number.ordering.transitivityGreaterGreater</a></td></tr><tr><td><a name=\"proveit.number.ordering.e185ec6c5bbdaaa9bbb715cf4762881be2c0473f0_step3\">3</a></td><td>assumption</td><td></td><td><span style=\"font-size:20px;\"><a class=\"ProveItLink\" href=\"../09282d8085f394ead20995669f9dbc15ecc501440/expr.ipynb\"><img src=\"../09282d8085f394ead20995669f9dbc15ecc501440/expr.png\" style=\"display:inline;vertical-align:middle;\" /></a> <a class=\"ProveItLink\" href=\"../e1cc18f6fa00d7bfe0ce200900288375097129170/proof.ipynb\" style=\"text-decoration: none\">&#x22A2;&nbsp;</a><a class=\"ProveItLink\" href=\"../4a8d0e46f8abd74a9c334c9759871a20721cd58b0/expr.ipynb\"><img src=\"../4a8d0e46f8abd74a9c334c9759871a20721cd58b0/expr.png\" style=\"display:inline;vertical-align:middle;\" /></a></span></td></tr>\n",
       "<tr><td><a name=\"proveit.number.ordering.e185ec6c5bbdaaa9bbb715cf4762881be2c0473f0_step4\">4</a></td><td>assumption</td><td></td><td><span style=\"font-size:20px;\"><a class=\"ProveItLink\" href=\"../0edc76f060e14682175aac2bd907c788378de4230/expr.ipynb\"><img src=\"../0edc76f060e14682175aac2bd907c788378de4230/expr.png\" style=\"display:inline;vertical-align:middle;\" /></a> <a class=\"ProveItLink\" href=\"../d0669d37fe4643d57eaacd218997274a22f816b60/proof.ipynb\" style=\"text-decoration: none\">&#x22A2;&nbsp;</a><a class=\"ProveItLink\" href=\"../a27e26174b7bdb860559eac909bead11656702610/expr.ipynb\"><img src=\"../a27e26174b7bdb860559eac909bead11656702610/expr.png\" style=\"display:inline;vertical-align:middle;\" /></a></span></td></tr>\n",
       "</table>"
      ],
      "text/plain": [
       "<proveit._core_.proof._ShowProof at 0x7f5b99007c88>"
      ]
     },
     "execution_count": 1,
     "metadata": {},
     "output_type": "execute_result"
    }
   ],
   "source": [
    "import proveit\n",
    "# Automation is not needed when only showing a stored proof:\n",
    "proveit.defaults.automation = False # This will speed things up.\n",
    "proveit.defaults.inline_pngs = False # Makes files smaller.\n",
    "%show_proof"
   ]
  },
  {
   "cell_type": "code",
   "execution_count": null,
   "metadata": {},
   "outputs": [],
   "source": []
  }
 ],
 "metadata": {
  "kernelspec": {
   "display_name": "Python 3",
   "language": "python",
   "name": "python3"
  },
  "language_info": {
   "codemirror_mode": {
    "name": "ipython",
    "version": 3
   },
   "file_extension": ".py",
   "mimetype": "text/x-python",
   "name": "python",
   "nbconvert_exporter": "python",
   "pygments_lexer": "ipython3",
   "version": "3.7.3"
  }
 },
 "nbformat": 4,
 "nbformat_minor": 1
}
