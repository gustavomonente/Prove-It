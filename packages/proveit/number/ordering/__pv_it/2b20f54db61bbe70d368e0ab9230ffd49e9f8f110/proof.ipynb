{
 "cells": [
  {
   "cell_type": "markdown",
   "metadata": {},
   "source": [
    "Show the Proof\n",
    "========"
   ]
  },
  {
   "cell_type": "code",
   "execution_count": 1,
   "metadata": {},
   "outputs": [
    {
     "data": {
      "text/html": [
       "<table><tr><th>&nbsp;</th><th>step type</th><th>requirements</th><th>statement</th></tr>\n",
       "<tr><td><a name=\"proveit.number.ordering.2b20f54db61bbe70d368e0ab9230ffd49e9f8f110_step0\">0</a></td><td>hypothetical reasoning</td><td><a href=\"#proveit.number.ordering.2b20f54db61bbe70d368e0ab9230ffd49e9f8f110_step1\">1</a></td><td><span style=\"font-size:20px;\"><a class=\"ProveItLink\" href=\"../0edc76f060e14682175aac2bd907c788378de4230/expr.ipynb\"><img src=\"../0edc76f060e14682175aac2bd907c788378de4230/expr.png\" style=\"display:inline;vertical-align:middle;\" /></a> <a class=\"ProveItLink\" href=\"proof.ipynb\" style=\"text-decoration: none\">&#x22A2;&nbsp;</a><a class=\"ProveItLink\" href=\"../12c73d5cf664576ed61e4435f46e4a9f33491c220/expr.ipynb\"><img src=\"../12c73d5cf664576ed61e4435f46e4a9f33491c220/expr.png\" style=\"display:inline;vertical-align:middle;\" /></a></span></td></tr>\n",
       "<tr><td><a name=\"proveit.number.ordering.2b20f54db61bbe70d368e0ab9230ffd49e9f8f110_step1\">1</a></td><td>instantiation</td><td><a href=\"#proveit.number.ordering.2b20f54db61bbe70d368e0ab9230ffd49e9f8f110_step2\">2</a>, <a href=\"#proveit.number.ordering.2b20f54db61bbe70d368e0ab9230ffd49e9f8f110_step3\">3</a>, <a href=\"#proveit.number.ordering.2b20f54db61bbe70d368e0ab9230ffd49e9f8f110_step4\">4</a></td><td><span style=\"font-size:20px;\"><a class=\"ProveItLink\" href=\"../26335a1a7ed3f00ff37ea905af5eef094987f6fe0/expr.ipynb\"><img src=\"../26335a1a7ed3f00ff37ea905af5eef094987f6fe0/expr.png\" style=\"display:inline;vertical-align:middle;\" /></a> <a class=\"ProveItLink\" href=\"../421ef4424b3bc9c6d094b38496a27d9dd10d7fe70/proof.ipynb\" style=\"text-decoration: none\">&#x22A2;&nbsp;</a><a class=\"ProveItLink\" href=\"../f8d5ada5e0a4a5ddaa1856dde2debb84fb1c2bbf0/expr.ipynb\"><img src=\"../f8d5ada5e0a4a5ddaa1856dde2debb84fb1c2bbf0/expr.png\" style=\"display:inline;vertical-align:middle;\" /></a></span></td></tr>\n",
       "<tr><td>&nbsp;</td><td colspan=4 style=\"text-align:left\"><span style=\"font-size:20px;\"><a class=\"ProveItLink\" href=\"../6adf35e534b0f74f25bdd03c03dfd88a84b3ace50/expr.ipynb\"><img src=\"../6adf35e534b0f74f25bdd03c03dfd88a84b3ace50/expr.png\" style=\"display:inline;vertical-align:middle;\" /></a> : <a class=\"ProveItLink\" href=\"../73b0aa975b61b944a809f6334e68e7ea43102a810/expr.ipynb\"><img src=\"../73b0aa975b61b944a809f6334e68e7ea43102a810/expr.png\" style=\"display:inline;vertical-align:middle;\" /></a>, <a class=\"ProveItLink\" href=\"../../../../__pv_it/72df168d2bfb4e0140af90912ebf83b13772060b0/expr.ipynb\"><img src=\"../../../../__pv_it/72df168d2bfb4e0140af90912ebf83b13772060b0/expr.png\" style=\"display:inline;vertical-align:middle;\" /></a> : <a class=\"ProveItLink\" href=\"../../../../__pv_it/72df168d2bfb4e0140af90912ebf83b13772060b0/expr.ipynb\"><img src=\"../../../../__pv_it/72df168d2bfb4e0140af90912ebf83b13772060b0/expr.png\" style=\"display:inline;vertical-align:middle;\" /></a>, <a class=\"ProveItLink\" href=\"../../../../__pv_it/c6e291955561f22a0e6708fd793ea93f1c7dbb5d0/expr.ipynb\"><img src=\"../../../../__pv_it/c6e291955561f22a0e6708fd793ea93f1c7dbb5d0/expr.png\" style=\"display:inline;vertical-align:middle;\" /></a> : <a class=\"ProveItLink\" href=\"../../../../__pv_it/c6e291955561f22a0e6708fd793ea93f1c7dbb5d0/expr.ipynb\"><img src=\"../../../../__pv_it/c6e291955561f22a0e6708fd793ea93f1c7dbb5d0/expr.png\" style=\"display:inline;vertical-align:middle;\" /></a></span></td></tr><tr><td><a name=\"proveit.number.ordering.2b20f54db61bbe70d368e0ab9230ffd49e9f8f110_step2\">2</a></td><td>theorem</td><td></td><td><span style=\"font-size:20px;\"> <a class=\"ProveItLink\" href=\"../../../../logic/equality/_proofs_/subLeftSideInto.ipynb\" style=\"text-decoration: none\">&#x22A2;&nbsp;</a><a class=\"ProveItLink\" href=\"../b045adeaf94fff26420abf17195299a9ce10046c0/expr.ipynb\"><img src=\"../b045adeaf94fff26420abf17195299a9ce10046c0/expr.png\" style=\"display:inline;vertical-align:middle;\" /></a></span></td></tr>\n",
       "<tr><td>&nbsp;</td><td colspan=4 style-\"text-align:left\"><a class=\"ProveItLink\" href=\"../../../../logic/equality/_proofs_/subLeftSideInto.ipynb\">proveit.logic.equality.subLeftSideInto</a></td></tr><tr><td><a name=\"proveit.number.ordering.2b20f54db61bbe70d368e0ab9230ffd49e9f8f110_step3\">3</a></td><td>assumption</td><td></td><td><span style=\"font-size:20px;\"><a class=\"ProveItLink\" href=\"../0edc76f060e14682175aac2bd907c788378de4230/expr.ipynb\"><img src=\"../0edc76f060e14682175aac2bd907c788378de4230/expr.png\" style=\"display:inline;vertical-align:middle;\" /></a> <a class=\"ProveItLink\" href=\"../d0669d37fe4643d57eaacd218997274a22f816b60/proof.ipynb\" style=\"text-decoration: none\">&#x22A2;&nbsp;</a><a class=\"ProveItLink\" href=\"../a27e26174b7bdb860559eac909bead11656702610/expr.ipynb\"><img src=\"../a27e26174b7bdb860559eac909bead11656702610/expr.png\" style=\"display:inline;vertical-align:middle;\" /></a></span></td></tr>\n",
       "<tr><td><a name=\"proveit.number.ordering.2b20f54db61bbe70d368e0ab9230ffd49e9f8f110_step4\">4</a></td><td>assumption</td><td></td><td><span style=\"font-size:20px;\"><a class=\"ProveItLink\" href=\"../141e6b1f16756f48940cae65b285b7f01c19142f0/expr.ipynb\"><img src=\"../141e6b1f16756f48940cae65b285b7f01c19142f0/expr.png\" style=\"display:inline;vertical-align:middle;\" /></a> <a class=\"ProveItLink\" href=\"../11ea38fd06cd5112d99ced308933cea72600ef840/proof.ipynb\" style=\"text-decoration: none\">&#x22A2;&nbsp;</a><a class=\"ProveItLink\" href=\"../67fe26e9a363c5cce332bbfe877e3f89d271606e0/expr.ipynb\"><img src=\"../67fe26e9a363c5cce332bbfe877e3f89d271606e0/expr.png\" style=\"display:inline;vertical-align:middle;\" /></a></span></td></tr>\n",
       "</table>"
      ],
      "text/plain": [
       "<proveit._core_.proof._ShowProof at 0x7f5b99fc5080>"
      ]
     },
     "execution_count": 1,
     "metadata": {},
     "output_type": "execute_result"
    }
   ],
   "source": [
    "import proveit\n",
    "# Automation is not needed when only showing a stored proof:\n",
    "proveit.defaults.automation = False # This will speed things up.\n",
    "proveit.defaults.inline_pngs = False # Makes files smaller.\n",
    "%show_proof"
   ]
  },
  {
   "cell_type": "code",
   "execution_count": null,
   "metadata": {},
   "outputs": [],
   "source": []
  }
 ],
 "metadata": {
  "kernelspec": {
   "display_name": "Python 3",
   "language": "python",
   "name": "python3"
  },
  "language_info": {
   "codemirror_mode": {
    "name": "ipython",
    "version": 3
   },
   "file_extension": ".py",
   "mimetype": "text/x-python",
   "name": "python",
   "nbconvert_exporter": "python",
   "pygments_lexer": "ipython3",
   "version": "3.7.3"
  }
 },
 "nbformat": 4,
 "nbformat_minor": 1
}
