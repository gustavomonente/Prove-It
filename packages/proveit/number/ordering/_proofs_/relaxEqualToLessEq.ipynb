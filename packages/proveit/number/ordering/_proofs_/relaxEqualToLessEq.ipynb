{
 "cells": [
  {
   "cell_type": "markdown",
   "metadata": {},
   "source": [
    "Proof of <a class=\"ProveItLink\" href=\"../../../_context_.ipynb\">proveit</a>.<a class=\"ProveItLink\" href=\"../../_context_.ipynb\">number</a>.<a class=\"ProveItLink\" href=\"../_context_.ipynb\">ordering</a>.<a class=\"ProveItLink\" href=\"../_theorems_.ipynb#relaxEqualToLessEq\">relaxEqualToLessEq</a> theorem\n",
    "========"
   ]
  },
  {
   "cell_type": "code",
   "execution_count": 1,
   "metadata": {},
   "outputs": [],
   "source": [
    "import proveit\n",
    "context = proveit.Context('..') # the theorem's context is in the parent directory"
   ]
  },
  {
   "cell_type": "code",
   "execution_count": 2,
   "metadata": {},
   "outputs": [
    {
     "name": "stdout",
     "output_type": "stream",
     "text": [
      "Beginning proof of relaxEqualToLessEq\n",
      "Recorded 'presuming' information\n",
      "Presuming previous theorems (applied transitively).\n"
     ]
    },
    {
     "data": {
      "text/html": [
       "<strong id=\"relaxEqualToLessEq\">relaxEqualToLessEq:</strong> <a class=\"ProveItLink\" href=\"../__pv_it/a3e9e864187bd1cef6d4f085c706f1edc95917960/expr.ipynb\"><img src=\"data:image/png;base64,iVBORw0KGgoAAAANSUhEUgAAAMwAAAAWBAMAAAB+qW6IAAAAMFBMVEX///8QEBCIiIhmZma6urrM\n",
       "zMxUVFQiIiJERETc3Nzu7u6qqqp2dnaYmJgyMjIAAAAcRTyBAAAAAXRSTlMAQObYZgAAAupJREFU\n",
       "SMetlV1IFFEUx//OzuzujLOr9FgvUwshUrC01FPJZg8RFA09VA+Bi2UhlIgYfaAhQjImhhRUBNGi\n",
       "EWRmQoQYPQxKD21hCwlFUAxlPVTGEgRlBJ1752NnV1el7cBw5tx75v7unHPuucB/khulpyoHAIu9\n",
       "vC2bonQtMdkMPGP6c9mY6EDRgHAy/z4KXCMld5WNeVlkj7T5DFVDNE1qrGzMmULzcmdBRKsRyQwP\n",
       "Xy2bIrcWmFe+FE7PAj8No6NsjBCnPa9rrp/k1sFZd3xwE+TVwBTQBPSubC2x9FQ4S+nAK+0cN857\n",
       "4+Z2CDngHbADiuX7YLzm8PvCqm/rqdPstUpjQpTdDF6kd/Ffa0u7sRyrQ5jqa5w8IGTdVD1OZAUV\n",
       "Gc37/O7UNmimOrgcpiIJpGE4VqTD4ShYhSparYHKLBtynV9PDIMwb1wsIn3X04SJ3FsJBvjuReCD\n",
       "c4zEeTToHCNb+8me3LxeF+Psjwljkq5P4SwFlIQwIz6MGtvX5KzGfbygQfqRT+MnneuAhbWkdtLT\n",
       "e4QWT7eEklHYmATDmfNStd2JNDOQ8GFqg1Z70CDpt328EnhEya51OZLB/y+cQg94CeAB1byEOWCI\n",
       "YwJH21nybrUKXUqcY7YcS/owetSNKfdxznkc4u9wTs7mTxL/5UBK/ENqKz1VPOO/gAO0RU1QL81w\n",
       "BzOoSacNoxva041+DKq89sV8nCC1QmmsjS1owUpjjBbGR5ZnVhZSTkLQDlrlITYQSlboSNlBe5jx\n",
       "YxqgB7+RzNk+izabvFB2oLg94qZqqVB1OzcZU76AkL4XeGJjVF8JyLlpmO5pYT6Lt05HWnA/yVun\n",
       "LbdnJmnHfex4TptDddIaiI0XaWEqoMqOr0rC8jDKid0b3NPHfZwa8F0Eo6eY8IugE932RVDQmSg3\n",
       "TuHjDvpJ1xjdvo5SvFfbZ6lrrT7GIlSymU3guGgtaFzFA36fJS7pyECpmSz2PMeymEV8/oME/v3T\n",
       "v675vXW4KDpKAAAAAElFTkSuQmCC\n",
       "\" style=\"display:inline;vertical-align:middle;\" /></a><br>(see <a class=\"ProveItLink\" href=\"../__pv_it/a3e9e864187bd1cef6d4f085c706f1edc95917960/dependencies.ipynb\">dependencies</a>)<br>"
      ],
      "text/plain": [
       "relaxEqualToLessEq: forall_{x in Reals, y in Reals | x = y} (x <= y)"
      ]
     },
     "execution_count": 2,
     "metadata": {},
     "output_type": "execute_result"
    }
   ],
   "source": [
    "%proving relaxEqualToLessEq presuming []"
   ]
  },
  {
   "cell_type": "code",
   "execution_count": null,
   "metadata": {},
   "outputs": [],
   "source": []
  }
 ],
 "metadata": {
  "kernelspec": {
   "display_name": "Python 3",
   "language": "python",
   "name": "python3"
  }
 },
 "nbformat": 4,
 "nbformat_minor": 0
}
