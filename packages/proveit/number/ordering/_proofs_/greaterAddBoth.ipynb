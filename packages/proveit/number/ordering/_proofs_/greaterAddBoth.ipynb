{
 "cells": [
  {
   "cell_type": "markdown",
   "metadata": {},
   "source": [
    "Proof of <a class=\"ProveItLink\" href=\"../../../_context_.ipynb\">proveit</a>.<a class=\"ProveItLink\" href=\"../../_context_.ipynb\">number</a>.<a class=\"ProveItLink\" href=\"../_context_.ipynb\">ordering</a>.<a class=\"ProveItLink\" href=\"../_theorems_.ipynb#greaterAddBoth\">greaterAddBoth</a> theorem\n",
    "========"
   ]
  },
  {
   "cell_type": "code",
   "execution_count": 1,
   "metadata": {},
   "outputs": [],
   "source": [
    "import proveit\n",
    "context = proveit.Context('..') # the theorem's context is in the parent directory"
   ]
  },
  {
   "cell_type": "code",
   "execution_count": 2,
   "metadata": {},
   "outputs": [
    {
     "name": "stdout",
     "output_type": "stream",
     "text": [
      "Beginning proof of greaterAddBoth\n",
      "Recorded 'presuming' information\n",
      "Presuming previous theorems (applied transitively).\n"
     ]
    },
    {
     "data": {
      "text/html": [
       "<strong id=\"greaterAddBoth\">greaterAddBoth:</strong> <a class=\"ProveItLink\" href=\"../__pv_it/bbd1bf65e30945e8449bca953c5e0044d67d199c0/expr.ipynb\"><img src=\"data:image/png;base64,iVBORw0KGgoAAAANSUhEUgAAAZMAAAAWBAMAAAD3OGyNAAAAMFBMVEX///8QEBCIiIhmZma6urrM\n",
       "zMxUVFQiIiJERETc3Nzu7u6qqqp2dnaYmJgyMjIAAAAcRTyBAAAAAXRSTlMAQObYZgAABLlJREFU\n",
       "WMPVV12IG1UU/jbZbJLJzKYPfagUZUzd2hdh6OJStD8RQZ+08cFawdKwasUfJNYq2u5DuhbJuihB\n",
       "0S6CMG2gyrqaoSK6UHRwEXW1S6yCtWAJ1a4/bWMRBE1VPPdnMnMzibv6Ejxw9m7One/O+e75uXeA\n",
       "nskrUjtJqhy2JWtdHp6VWmc/vukBE60otLPcHza9Bm1/IWSN7bcGiDfTT9nvn3pAZbAstLO8GTb9\n",
       "SM9bYXPa0SgcTKdY6Io9oPKFVF+OBv7XTR65C77FsJjbXgKaLftWGx/QQDpoE87pAZUnpXamoq3g\n",
       "w8zuliVe5m6HqHwEHAJXY356+mAPmCQLQrtQwXdiiIx53h8UboeofEvhyAr9rVQa6wGViCUUL8xd\n",
       "aatU9MwQMOfl1aNydg3pYuZ6lUpy49AlAlhC7wUmOrzq1vrS7mzJtRmybb/7G10xiZrQ/svwsxqV\n",
       "5D48B5xuBWBR9IZnKev+sqtlhcoN5UST6NaF3sirvyXvrLv7DN8a2SxSu5/ebCot3zdUVQjgt48X\n",
       "xeDtLW7yelXVS31H6KEaNqhU4i4epEX9/VjkcdlHr24ibQapaJcjSs6nCkLjiHhnj3ZsuBbRMc+e\n",
       "G2St4PW5TTBd/XBrWdXwngoJUjkiIn2uVRojuRaGS19W6BYbvLQXGo1HGo1FcAvJTp/KD9ywEszt\n",
       "qku73Gh8f0WjkSdDkxFH7KJQvRb3QCdnp0F+nWLU0rSNxuTLNnluvNFqiKphToUEqWCKH3K/+2W+\n",
       "IafEyaOyCtqvalRWQaHiJdhKfqxsdYJR6SuimvWpJOvbyFhZexb9LKeYXy5bKvMA5R4JeT4jitFU\n",
       "DZXMORXiUWFrAduvo/V/WWtLKLSPswKjJJj2B1IXFSpkYXJze9lTgqVrMmQeFYrR+yxuBaGYuIfw\n",
       "j8WaGITwa5j5d7W9RlxqTDc6zMY9sRWKIQyRVPgEaxwmInt5k2JQsi/Y3pRf9tolDNRnlaj8SZ62\n",
       "yt5vxlT26SwVh0LFwcN0XfPKHm8Rn6gVK6DCsdFde9g4jtMa988cuY81pmgROdVgkYMKRFLhazH5\n",
       "vJww2RsYlD12QWBkx5UNdBxf5V2Fygi0a4GN7UckZeZALWEpVGj9x3V6gSuUN4U+J5LHHaVSyYzo\n",
       "z38pUnMk9kSpNA7zk2uY532UEG2GdoikwifY685QMUTzAgocnvSnAklxJHPnaFahoh8/QX/Ptl9c\n",
       "KOO09cfVI1IbHXrpKqqhnFAYFMJqOXHKHhDZkrqLxbSJ1ciLfHp7XrYBxRCGSCp8gvw8byNtMxoc\n",
       "OnPAn1rOxSV0B44Hr54p5Xx4VapoBeWdt0DPicSfd5PPYK9RxIfCc30GUzZdDCzFQJAdAUggKmwt\n",
       "xJ4in+P2SQmtHJBTO7pfJ6dD18mgGMFbsWYHp+R1UoZ79OgmYJKddwtuZXNsNbZ9RqlIW5oaO68N\n",
       "129zkutP2IqhDeJT4RPJXWwTYw+5ENDbA6+RdV8WuuxL/kTXLx95yVfuRZT4MoBiWEelIcTpYvAh\n",
       "6rmy3b/TOP/l02ui06dXF/nnTZld6gM11RFaXOa37ZIfxMa/+SD+WmpnaUcZWMrQlYp48l1qdSUb\n",
       "/x+xevnyvwFwQJb5bs7ZUwAAAABJRU5ErkJggg==\n",
       "\" style=\"display:inline;vertical-align:middle;\" /></a><br>(see <a class=\"ProveItLink\" href=\"../__pv_it/bbd1bf65e30945e8449bca953c5e0044d67d199c0/dependencies.ipynb\">dependencies</a>)<br>"
      ],
      "text/plain": [
       "greaterAddBoth: forall_{a in Reals, b in Reals, c in Reals, d in Reals | a > b, c >= d} ((a + c) > (b + d))"
      ]
     },
     "execution_count": 2,
     "metadata": {},
     "output_type": "execute_result"
    }
   ],
   "source": [
    "%proving greaterAddBoth presuming []"
   ]
  },
  {
   "cell_type": "code",
   "execution_count": null,
   "metadata": {},
   "outputs": [],
   "source": []
  }
 ],
 "metadata": {
  "kernelspec": {
   "display_name": "Python 3",
   "language": "python",
   "name": "python3"
  }
 },
 "nbformat": 4,
 "nbformat_minor": 0
}
