{
 "cells": [
  {
   "cell_type": "markdown",
   "metadata": {},
   "source": [
    "Proof of <a class=\"ProveItLink\" href=\"../../../_context_.ipynb\">proveit</a>.<a class=\"ProveItLink\" href=\"../../_context_.ipynb\">number</a>.<a class=\"ProveItLink\" href=\"../_context_.ipynb\">ordering</a>.<a class=\"ProveItLink\" href=\"../_theorems_.ipynb#transitivityGreaterGreater\">transitivityGreaterGreater</a> theorem\n",
    "========"
   ]
  },
  {
   "cell_type": "code",
   "execution_count": 1,
   "metadata": {},
   "outputs": [],
   "source": [
    "import proveit\n",
    "from proveit import defaults\n",
    "from proveit._common_ import x, y, z\n",
    "from proveit.number.ordering._axioms_ import reverseRelation, transitivityLessLess\n",
    "context = proveit.Context('..') # the theorem's context is in the parent directory"
   ]
  },
  {
   "cell_type": "code",
   "execution_count": 2,
   "metadata": {},
   "outputs": [
    {
     "name": "stdout",
     "output_type": "stream",
     "text": [
      "Beginning proof of transitivityGreaterGreater\n",
      "Recorded 'presuming' information\n"
     ]
    },
    {
     "name": "stdout",
     "output_type": "stream",
     "text": [
      "Presuming theorems in proveit.logic (except any that presume this theorem).\n",
      "Presuming previous theorems (applied transitively).\n"
     ]
    },
    {
     "data": {
      "text/html": [
       "<strong id=\"transitivityGreaterGreater\">transitivityGreaterGreater:</strong> <a class=\"ProveItLink\" href=\"../__pv_it/c2cdc24133532f3434f4377b0a29198af152c7ff0/expr.ipynb\"><img src=\"data:image/png;base64,iVBORw0KGgoAAAANSUhEUgAAANEAAAAWBAMAAACs+WTQAAAAMFBMVEX///8QEBCIiIhmZma6urrM\n",
       "zMxUVFQiIiJERETc3Nzu7u6qqqp2dnaYmJgyMjIAAAAcRTyBAAAAAXRSTlMAQObYZgAAArRJREFU\n",
       "SMetVU1oE0EYfU13s91kN/GgoAgSDNQSPOQiiHoIFSyCxsSDFi+WoGClSg71oEgJiJIGKrn0B0Fc\n",
       "oSitIgFBUGgJuQip6KJCFVJYxFNBCILgz8VvZjebzSYxFnYgvG/fN5s3831vdgDvxv3uqZf0M1iw\n",
       "4YVQINc95y8CayzY9EIpVPzHKmhDC4RyzgulD474me5KVmglGqCUvFC67tzD60hr8iGgVpeX570Q\n",
       "krMtj/uqraVNAD/z+ZteKPnitJW948MV63n9kBWMbBd1KJS9CEx3eVnYitIAteYp1iNTDWJ13Czk\n",
       "TPQglY4scZQbo/PLzdKk2orlZiRqdhXvtOM2k7zMlbjhglRbCT69p1LgktvCbUwfdUJD3sEkCyaO\n",
       "kunEOhlPl9BTCfIdt5SbYUrA9yZhVQ/CGEwl2TjD/H5gkMohDEKiBWB+c7appERPUy/FW5QYHsMN\n",
       "NIAz8tRSqlk9iD9sIdsRL7gcc+b0BTKOdlWiNSlhLc34w7VIUynmNybZ3C9A+be4DTYwpn+l4nDE\n",
       "K18dMZfLg3H4TUfgOcmJ+MbYeyMY4uknjuqlQmYf1V3yYtZH3bWAMdSvxqknHwt/Buqy7jq5Z2vv\n",
       "v9KKyhSGOfmL00eQ4RMTzj6FzYasRmi+n022gDFYtI9EFoFMLLrh/hrF1T30byFWY1XjHRMZPYkd\n",
       "DGZxzqF0HmxaksohJfpYaAFj5JSodfgatY3HjeCBYihY0HBNqBPIEys5W0muvwVtfZQ1WEqdglzg\n",
       "YDFza586fWHbRqObePSxUkW6hGNDBoEq7tRspcCVE/s1zHHLCpm7EHdzsBg9XbDPRI9bwzlKgSJz\n",
       "UKn9PIm3OSxhhszEwWL+8yZ0rSJY9JeTDDqcXHNMCAa7qTls6Xb/3PqoQqiVGXRVOvmGFcwET0e/\n",
       "l3/2F3Vksezp9Mz1AAAAAElFTkSuQmCC\n",
       "\" style=\"display:inline;vertical-align:middle;\" /></a><br>(see <a class=\"ProveItLink\" href=\"../__pv_it/c2cdc24133532f3434f4377b0a29198af152c7ff0/dependencies.ipynb\">dependencies</a>)<br>"
      ],
      "text/plain": [
       "transitivityGreaterGreater: forall_{x, y, z | x > y, y > z} (x > z)"
      ]
     },
     "execution_count": 2,
     "metadata": {},
     "output_type": "execute_result"
    }
   ],
   "source": [
    "%proving transitivityGreaterGreater presuming [proveit.logic]"
   ]
  },
  {
   "cell_type": "code",
   "execution_count": 3,
   "metadata": {},
   "outputs": [
    {
     "data": {
      "text/html": [
       "<strong id=\"defaults.assumptions\">defaults.assumptions:</strong> <a class=\"ProveItLink\" href=\"../__pv_it/b82bf595ea579c05e439ae5b6853d8ffd56e552b0/expr.ipynb\"><img src=\"data:image/png;base64,iVBORw0KGgoAAAANSUhEUgAAAHkAAAAUBAMAAABbvo/+AAAAMFBMVEX////MzMxUVFR2dna6uroQ\n",
       "EBCqqqqIiIgiIiJmZmYyMjJERETu7u6YmJjc3NwAAACgK8IjAAAAAXRSTlMAQObYZgAAAaJJREFU\n",
       "OMtjYOC7wEAeyAMRp8nUzMD0AEisI1c3zwIGBt4JSPy1+FSfQveiOQMDxwMk/uF2fHZZFKAKHGVg\n",
       "eIEiwN58AI/+ChsULpcDQyWQOl70pBhqLm8nRDtPZQHD0wOoLAaGG3OgGj1CGC8wME9g2AuUN+Bt\n",
       "51gAFWdbBPYKM0sAQz0DKgsIsvQgZu+tnA20aQFDG1D+APMfFrj3WRaBLHrGuYBhN5iPYIGAlw5Y\n",
       "NwPfBqBFDQwhIDb3BoRvWFaDdB9gLWD4DuYjWGDdeyC0NFAR4weQbgYGfkRoQl3O4H+A8SMDGgvu\n",
       "cgYWBQaw7jYQR14AJg0LNYZZDOwB6CxEqCWBjWgAhRrbgXoG9gNoMbaJgVsBnQWPMbYJDEzgULME\n",
       "Oi1hP8Nb9NQyicH/AsP5BTAWamqRuHx9CQMDpwGDBwPDofLjcy+gp9RD5fMfMHD0wFioKXUCb5QD\n",
       "MLUIoKZUFDALiHPgLCzgBGouQc5+C3i+ACkDOAsLAOYShn1YZTgucAN9yVMAY+HIoThKB5byiaD4\n",
       "g7OwAG6Qn8kume4xMAAApid6Kd8ZxggAAAAASUVORK5CYII=\n",
       "\" style=\"display:inline;vertical-align:middle;\" /></a><br>"
      ],
      "text/plain": [
       "defaults.assumptions: (x > y, y > z)"
      ]
     },
     "execution_count": 3,
     "metadata": {},
     "output_type": "execute_result"
    }
   ],
   "source": [
    "defaults.assumptions = transitivityGreaterGreater.allConditions()"
   ]
  },
  {
   "cell_type": "code",
   "execution_count": 4,
   "metadata": {},
   "outputs": [
    {
     "data": {
      "text/html": [
       "<span style=\"font-size:20px;\"> <a class=\"ProveItLink\" href=\"../_axioms_.ipynb#reverseRelation\" style=\"text-decoration: none\">&#x22A2;&nbsp;</a><a class=\"ProveItLink\" href=\"../__pv_it/cfb65c97cd4f40f04a9c7439778049611e73609f0/expr.ipynb\"><img src=\"data:image/png;base64,iVBORw0KGgoAAAANSUhEUgAAAN0AAAAVBAMAAAAwUfbwAAAAMFBMVEX///8QEBCIiIhmZma6urrM\n",
       "zMxUVFQiIiJERETc3Nzu7u6qqqp2dnaYmJgyMjIAAAAcRTyBAAAAAXRSTlMAQObYZgAAAp1JREFU\n",
       "SMe1Vk1oE0EU/ppuspvtJu1B7yGBWnoxlyqKxKJg8dKfi2cpeqiHkoMeRBFPkgjCempRxPFSpYgE\n",
       "POlBQjwIEXRBoRQUFgRBQQmioHhx3s7sJDu7G+PBB1+Snfe9n33z5k2ANMl7AmnyJGHtznA6waeH\n",
       "9wmEBxJpknNjS/bV4XTCS3r4nED4JJEmth9bKrrD6YRNKl1CXoWqQCiPYqXtxGze6AvPlqN0jiID\n",
       "nFY8nukKqPxelDTGvZjNRe1555BG5yh0t7c3Et5/Q6Iv+7pa9eb1DqtjiAHRCT8bjcsJ8SoCdqWE\n",
       "m0yme1i+anntGK+MU9VMMlWlGyyIdEF0wlmgmRDvhoBjTGG/2o614OshdkpXeGWChnn1leQD/bQ8\n",
       "peNRDoYbLl0QnXA8qdOASwK3x3001OLiOfrs4jU7CUzU9S1vKR2wrnpCuiA6wUQm6VTvEWBjJXzr\n",
       "x7tOn0xkkO1pJmPzSge7H0+6IDrB8Uykx8MSy/7Q6gmRQWI8hNnlVT2lizBe3j9FJ2Nump8VYxom\n",
       "i9QTNWSmEO0XiAyMen//Pob1hMquf4CEC6IHJs0zvLXYusmzcybZSrRfcA3Waa29n2Z6mA37ZUCo\n",
       "X6QuYiBchP2CxzxoFl9Ic2sBM5L8XOIAlrxousZvq0eDfLytxePdHuoi5124IHpgMhk4+hWojmBV\n",
       "chcktspH3eg8s1dnKzTgi8taPF6tUBeZZ8IF0QOTAgs2P0uq89gbm2e1lAl8/6/zTElN0pXJXcd3\n",
       "sMlwwehF53XOt7+nOBlhXoubSLjoDJpsve10sdLCiRnVBM0ApmeVRr6PrMT7SLgI76NBadmu5UXv\n",
       "W6M8l/J61qj3rXBBdM1kws21F0f+P7H7b/8nduMmBRjv2vi/8gf159eiwzGHgwAAAABJRU5ErkJg\n",
       "gg==\n",
       "\" style=\"display:inline;vertical-align:middle;\" /></a></span>"
      ],
      "text/plain": [
       "|- forall_{x, y} ((y > x) = (x < y))"
      ]
     },
     "execution_count": 4,
     "metadata": {},
     "output_type": "execute_result"
    }
   ],
   "source": [
    "reverseRelation"
   ]
  },
  {
   "cell_type": "code",
   "execution_count": 5,
   "metadata": {},
   "outputs": [
    {
     "data": {
      "text/html": [
       "<strong id=\"specRR1\">specRR1:</strong> <span style=\"font-size:20px;\"> <a class=\"ProveItLink\" href=\"../__pv_it/6d05fe2d054fa3951da8d864e5b795e6dc8db0490/proof.ipynb\" style=\"text-decoration: none\">&#x22A2;&nbsp;</a><a class=\"ProveItLink\" href=\"../__pv_it/26aa6b7953126f5b7231d52c6609afe5162226a10/expr.ipynb\"><img src=\"data:image/png;base64,iVBORw0KGgoAAAANSUhEUgAAAJ0AAAAUBAMAAABltyL1AAAAMFBMVEX////MzMxUVFR2dna6uroQ\n",
       "EBCqqqqIiIgiIiJmZmYyMjJERETu7u6YmJjc3NwAAACgK8IjAAAAAXRSTlMAQObYZgAAAhBJREFU\n",
       "OMuVVM0rRFEUP8wz74335pn/gJ2y0OxEymzECgtlYzF/gPQiTa+UKUXUCBs1JWMWCpFsLIQbacjC\n",
       "LFnQLBALNUpskHPvm49379x5cut13znnd373no97AMwsVF2jEt3rH/Cr6naozVWojL0/4LsefEaq\n",
       "QlWf84YHF13yjohoq/C5FWT/Og/X3OedzQro8wq+BV4MzuV4+DNnVqcJH11EoDPjXniE27hlxh7G\n",
       "reJ5DsCwLXgk4FsU+FRUZFbAHObjMWKtPRgswo9QCAdntWLm/WkWgE8ZgCmkZ+qOLbo26a+O3RXu\n",
       "BjVPhctEKVFwY80z+Az6Et+XUkqDkqY3fAqk4BDZ48L9tCiY0STotGtqN0rqTugifQw+iPdzzEW+\n",
       "bcpH6iz4BKjJC3x1EYQPQQNNz2mZj9DDGXyQ7g1Wuf5OvNBPat7kfKB8QWOICi+JsuGzwDdDd8fs\n",
       "rgckQR1A13g5f+lCvICpmBD7ix7O4FgPP5kClQj13we9qVgP16L1QMO+0C8jWKBJBm/H0KInhVfu\n",
       "6udl6EfXQFjgow0UaFK++X5WPvS86cB7Ma+xzGpWfG+nsTVE1ocEPpoAo9n+4d+b0Txp3wGDa1Xf\n",
       "dxK/C/l7C6TkLhf8PHCPnpTxXm0etMB1RM5H4cdSi5bVLem80nOQgAOP8Safp0psyXGWzNMeOyTn\n",
       "Y3CveX//v3mP8F/Dnpv/5ixmsQAAAABJRU5ErkJggg==\n",
       "\" style=\"display:inline;vertical-align:middle;\" /></a></span><br>"
      ],
      "text/plain": [
       "specRR1: |- (x > y) = (y < x)"
      ]
     },
     "execution_count": 5,
     "metadata": {},
     "output_type": "execute_result"
    }
   ],
   "source": [
    "specRR1 = reverseRelation.specialize({x:y,y:x})"
   ]
  },
  {
   "cell_type": "code",
   "execution_count": 6,
   "metadata": {},
   "outputs": [
    {
     "data": {
      "text/html": [
       "<strong id=\"specRR2\">specRR2:</strong> <span style=\"font-size:20px;\"> <a class=\"ProveItLink\" href=\"../__pv_it/8a061e12e5a9ac9e40ac2fb35e3610e8b40aca4f0/proof.ipynb\" style=\"text-decoration: none\">&#x22A2;&nbsp;</a><a class=\"ProveItLink\" href=\"../__pv_it/390150ada6a91bdb781aaa9b0c22e79d8c60000a0/expr.ipynb\"><img src=\"data:image/png;base64,iVBORw0KGgoAAAANSUhEUgAAAJoAAAAUBAMAAACHazmMAAAAMFBMVEX///9UVFTMzMx2dna6uroQ\n",
       "EBCqqqqIiIgiIiJmZmYyMjJERETu7u6YmJjc3NwAAAC+aOQFAAAAAXRSTlMAQObYZgAAAh9JREFU\n",
       "OMuVVD9IG2EU/yWe+ePdxWyCg2QsiOhWLBTiIO1mhoBQHHTTpdwici4GxBaHlLQdiunQRERQUZrJ\n",
       "QQ0REVsdDJQiOsgtSosIUgpdWul7d7kk991dtR/cd3ffe+/3vd/7B8Sq8FvPPc6ufbVDBm1HvmIE\n",
       "DNeR8tFfvYueDX+xUnAdtRn+6oeAmmsYr4vyhy6LU5HeYuO7RUOk6bK9l4LuvgvtlfNXnW8yV1L4\n",
       "1iwMz1acvJICWCyDf+gvQSdMXcNFpXZXTSzNJXvI95yAFuaDp+lg1cnl4B1iI0A/dshGSmHGjkPR\n",
       "cv3oZIGyp5ppeLTKa4U/ZYJRdvT3ps7nrH1J3yDCN8AZXgCX0QK2bIFUNL2r4IqxM4JvkVFCQ8ws\n",
       "k8Bynf9oHjKdjSNNlq0aftXR1iyuwW3ebgS0VjOQ3abKbh1NwTDaNaCX0TBUCf4QmGIAvmhS3Pr5\n",
       "Xmcq/UZvgtGIKfIIp+DMQsi0kDKNuBVtphhzVRSFapLTw1lACXJcyPgEELez0LQ4C6EcAkKFkHkJ\n",
       "nIV+2l9jqOqs3mD28TSRivYJaFwyD76cLAnVG41Lf+j1lryjeE59MJydFcVXtmhLCGhMPac+Swqd\n",
       "pXTot/RarHVW3ruPP93VWY3rKSZKhrs+UFB+euvc3fXW6sRx0ux6lBGpytp9J5LsOZGy2LQmEk1L\n",
       "aeqNt2vyfaflE50DXOa28J/k5/81yVUDfwGrAo75r0aAZgAAAABJRU5ErkJggg==\n",
       "\" style=\"display:inline;vertical-align:middle;\" /></a></span><br>"
      ],
      "text/plain": [
       "specRR2: |- (y > z) = (z < y)"
      ]
     },
     "execution_count": 6,
     "metadata": {},
     "output_type": "execute_result"
    }
   ],
   "source": [
    "specRR2 = reverseRelation.specialize({x:z, y:y})"
   ]
  },
  {
   "cell_type": "code",
   "execution_count": 7,
   "metadata": {},
   "outputs": [
    {
     "data": {
      "text/html": [
       "<span style=\"font-size:20px;\"> <a class=\"ProveItLink\" href=\"../_axioms_.ipynb#transitivityLessLess\" style=\"text-decoration: none\">&#x22A2;&nbsp;</a><a class=\"ProveItLink\" href=\"../__pv_it/fe53b4de391a0db3f72844db747e8f5d50f56f650/expr.ipynb\"><img src=\"data:image/png;base64,iVBORw0KGgoAAAANSUhEUgAAANEAAAAWBAMAAACs+WTQAAAAMFBMVEX///8QEBCIiIhmZma6urrM\n",
       "zMxUVFQiIiJERETc3Nzu7u6qqqp2dnaYmJgyMjIAAAAcRTyBAAAAAXRSTlMAQObYZgAAArFJREFU\n",
       "SMetVUtoE0EY/prsZrt5elAQRAkGSgkechEKeggVLIqPxIOKF0tQUKgStB6UtuSiJIVKQPpAEFda\n",
       "Kq09BARBoRByTKUuKqiQwh700lIIguDj4j+z2Ue2XU1hB5Jv/m9m9puZ/5sZwLvyxL3pNf00Vlnz\n",
       "QihYcG8LlIEVVln3Qila/scsaEEzhHLBC6UPTiL0zarXaCYKEK54oXTXEUdu2xb5jOL64uK0F0Jy\n",
       "vj32jSj2rU0DP4vFES+UfClKx8Hr/TU9XLplNAzsFlWEqfUqUHIZLOxEqVulz+NTfIxHs6OmGSYS\n",
       "fbR1ZIlj3BjbD24PT27pYGckSnYd75QT3NUblu244UK0txJ8akdKFwed7W1MF2VCQVEP5jfs3Shh\n",
       "YpOMp0roRGlqyx63M0wJ+N6KHo1aOWDzYUqydp75/XBPhsgeSMwx0+uTllI4cY5yOXufqv2DuGcC\n",
       "Z+SxhYy1exB/GN+3HPGKyzFnlq6QcZSbEs0pHFOyjD/SiFtKyYA2jKWvrFr9Le4yQGf8yzWbI974\n",
       "mkg6XB5KIaA7Ai9JTsQmYx8PoJc3v7DtXiaqQtzPj8xc3ldogc5Qwo1TTz4W/nQ3ZdVxci803tOc\n",
       "/FWqxvj8f/HWo8jx4Wl7nmI0YpUz/mogboDOYM5MRx7BXDKx5ryNUpED1DPK9jii8IyJjB7GHgaT\n",
       "uGRTuowMgn2sq5TuMkFn5IyouNxGbeW5UXka1sKYUXBHaBLIQ8sFU0luroKWLl+jlUmZs5DHObSY\n",
       "qZXPrjesvRjZxPzHWh3ZCo73agQRca9iKgVvnDrEIvlBGULuIcR9HFqMmh03z8R/Xg17qQTLzEGV\n",
       "7U+uWMICJmj7ddCZDl9CxyxC5UD1DAOX2wgYEjT2UnPY0ev+xfGgQGhUGbgqnX5Lf6oOnha/lx/7\n",
       "C9Lis2q4HMiOAAAAAElFTkSuQmCC\n",
       "\" style=\"display:inline;vertical-align:middle;\" /></a></span>"
      ],
      "text/plain": [
       "|- forall_{x, y, z | x < y, y < z} (x < z)"
      ]
     },
     "execution_count": 7,
     "metadata": {},
     "output_type": "execute_result"
    }
   ],
   "source": [
    "transitivityLessLess"
   ]
  },
  {
   "cell_type": "code",
   "execution_count": 8,
   "metadata": {},
   "outputs": [
    {
     "data": {
      "text/html": [
       "<strong id=\"specTLL1\">specTLL1:</strong> <span style=\"font-size:20px;\"><a class=\"ProveItLink\" href=\"../__pv_it/4df24caa404c5da69f05fb49315a33e421cbf8c60/expr.ipynb\"><img src=\"data:image/png;base64,iVBORw0KGgoAAAANSUhEUgAAAH8AAAAVBAMAAACd/CwcAAAAMFBMVEX///+IiIi6urrc3NxERETM\n",
       "zMwQEBCqqqpUVFQiIiJ2dnYyMjLu7u5mZmaYmJgAAABN0h6tAAAAAXRSTlMAQObYZgAAAZ1JREFU\n",
       "OMtjYGDgu8dAHmC9eABE8exiIBcwpYJIvg9kG8BwG0RwTSDfgJXoBvDsw6f89AOCBjCcmojHAJ6V\n",
       "AgQNYGCcdQCPEZJrcBhw8CIDcw5EjG8u1ASmaQpxENZBCSMpqN0v70CFIBqWgdgcGxgYFqgxMMIi\n",
       "g32HAZg+8vCuA8TlC/gmcm6AylY3gymohvcgdlkAA3PBbQYWB3js7gC74QCDCYTPdYDrD5MBTFa7\n",
       "B0jANHBfYGAImQy0gyGRgR8eQExbIJ5g9YGGHZLhQAN8GJA0dAIJtQCgnj8M8QFoXmDQgGtCGA7z\n",
       "AlQDdwMoDIDG825gEGNAC0T2BrguuOHwQIRqeA+LBZYGBg/0aKxlYIAYwX5AnoHxAGo0QjUsgxnA\n",
       "28D0Dy0hsc5bJ63A8xvI0i/wZ7BDS0hQDfB0wNMo+xktKfMyPNvEwDATaPMJwYP3HqAlZagGpJTI\n",
       "uwFr0mPHmS7BGiAGJDAwdDOcV8CqjAuHdqiGlbDyYB6DI3aFB3EYANUALg8YgCWSomwAdoUPcBgA\n",
       "0cCUBPEnRWUiAL8CdVUNo8OgAAAAAElFTkSuQmCC\n",
       "\" style=\"display:inline;vertical-align:middle;\" /></a> <a class=\"ProveItLink\" href=\"../__pv_it/dc0b258ddf534f5898c2d8812d14f0193ea33ca70/proof.ipynb\" style=\"text-decoration: none\">&#x22A2;&nbsp;</a><a class=\"ProveItLink\" href=\"../__pv_it/9a61175a91361056a23253b6391033a6729240a90/expr.ipynb\"><img src=\"data:image/png;base64,iVBORw0KGgoAAAANSUhEUgAAADEAAAAMBAMAAAA5VkhcAAAAMFBMVEX///8yMjJ2dnaqqqpUVFTc\n",
       "3NxmZmaIiIhERETu7u6YmJjMzMwQEBAiIiK6uroAAABWQA0ZAAAAAXRSTlMAQObYZgAAAJhJREFU\n",
       "GNNjYEABhhsYsIO1qTgkajVRuHx3HuwCMzh1C6BC00viioDsGcvTGsASuQugEpwKXNd5BRgYJjBE\n",
       "gPmOBjBTmCYw/eQLADK4O8EKETKcDBxgUxieQPiscNMYGPjBNjI7wJTCXcCwH+wtMwYGB1RXM0+o\n",
       "Z2CfwMB9S6vwAapP3xv0M0QxMLAxrJFDC50p5dOzFjAAAIFjIr25+aL7AAAAAElFTkSuQmCC\n",
       "\" style=\"display:inline;vertical-align:middle;\" /></a></span><br>"
      ],
      "text/plain": [
       "specTLL1: {y > z, x > y} |- z < x"
      ]
     },
     "execution_count": 8,
     "metadata": {},
     "output_type": "execute_result"
    }
   ],
   "source": [
    "specTLL1 = transitivityLessLess.specialize({x:z,z:x})"
   ]
  },
  {
   "cell_type": "code",
   "execution_count": 9,
   "metadata": {},
   "outputs": [
    {
     "data": {
      "text/html": [
       "<table><tr><th>&nbsp;</th><th>step type</th><th>requirements</th><th>statement</th></tr>\n",
       "<tr><td><a name=\"0x663bacfc39dbbcf8_step0\">0</a></td><td>generalizaton</td><td><a href=\"#0x663bacfc39dbbcf8_step1\">1</a></td><td><span style=\"font-size:20px;\"> <a class=\"ProveItLink\" href=\"../__pv_it/f1b19319380b4cba64e90cb36a34c9e0ca6690c70/proof.ipynb\" style=\"text-decoration: none\">&#x22A2;&nbsp;</a><a class=\"ProveItLink\" href=\"../__pv_it/c2cdc24133532f3434f4377b0a29198af152c7ff0/expr.ipynb\"><img src=\"data:image/png;base64,iVBORw0KGgoAAAANSUhEUgAAANEAAAAWBAMAAACs+WTQAAAAMFBMVEX///8QEBCIiIhmZma6urrM\n",
       "zMxUVFQiIiJERETc3Nzu7u6qqqp2dnaYmJgyMjIAAAAcRTyBAAAAAXRSTlMAQObYZgAAArRJREFU\n",
       "SMetVU1oE0EYfU13s91kN/GgoAgSDNQSPOQiiHoIFSyCxsSDFi+WoGClSg71oEgJiJIGKrn0B0Fc\n",
       "oSitIgFBUGgJuQip6KJCFVJYxFNBCILgz8VvZjebzSYxFnYgvG/fN5s3831vdgDvxv3uqZf0M1iw\n",
       "4YVQINc95y8CayzY9EIpVPzHKmhDC4RyzgulD474me5KVmglGqCUvFC67tzD60hr8iGgVpeX570Q\n",
       "krMtj/uqraVNAD/z+ZteKPnitJW948MV63n9kBWMbBd1KJS9CEx3eVnYitIAteYp1iNTDWJ13Czk\n",
       "TPQglY4scZQbo/PLzdKk2orlZiRqdhXvtOM2k7zMlbjhglRbCT69p1LgktvCbUwfdUJD3sEkCyaO\n",
       "kunEOhlPl9BTCfIdt5SbYUrA9yZhVQ/CGEwl2TjD/H5gkMohDEKiBWB+c7appERPUy/FW5QYHsMN\n",
       "NIAz8tRSqlk9iD9sIdsRL7gcc+b0BTKOdlWiNSlhLc34w7VIUynmNybZ3C9A+be4DTYwpn+l4nDE\n",
       "K18dMZfLg3H4TUfgOcmJ+MbYeyMY4uknjuqlQmYf1V3yYtZH3bWAMdSvxqknHwt/Buqy7jq5Z2vv\n",
       "v9KKyhSGOfmL00eQ4RMTzj6FzYasRmi+n022gDFYtI9EFoFMLLrh/hrF1T30byFWY1XjHRMZPYkd\n",
       "DGZxzqF0HmxaksohJfpYaAFj5JSodfgatY3HjeCBYihY0HBNqBPIEys5W0muvwVtfZQ1WEqdglzg\n",
       "YDFza586fWHbRqObePSxUkW6hGNDBoEq7tRspcCVE/s1zHHLCpm7EHdzsBg9XbDPRI9bwzlKgSJz\n",
       "UKn9PIm3OSxhhszEwWL+8yZ0rSJY9JeTDDqcXHNMCAa7qTls6Xb/3PqoQqiVGXRVOvmGFcwET0e/\n",
       "l3/2F3Vksezp9Mz1AAAAAElFTkSuQmCC\n",
       "\" style=\"display:inline;vertical-align:middle;\" /></a></span></td></tr>\n",
       "<tr><td><a name=\"0x663bacfc39dbbcf8_step1\">1</a></td><td>instantiation</td><td><a href=\"#0x663bacfc39dbbcf8_step2\">2</a>, <a href=\"#0x663bacfc39dbbcf8_step3\">3</a></td><td><span style=\"font-size:20px;\"><a class=\"ProveItLink\" href=\"../__pv_it/4df24caa404c5da69f05fb49315a33e421cbf8c60/expr.ipynb\"><img src=\"data:image/png;base64,iVBORw0KGgoAAAANSUhEUgAAAH8AAAAVBAMAAACd/CwcAAAAMFBMVEX///+IiIi6urrc3NxERETM\n",
       "zMwQEBCqqqpUVFQiIiJ2dnYyMjLu7u5mZmaYmJgAAABN0h6tAAAAAXRSTlMAQObYZgAAAZ1JREFU\n",
       "OMtjYGDgu8dAHmC9eABE8exiIBcwpYJIvg9kG8BwG0RwTSDfgJXoBvDsw6f89AOCBjCcmojHAJ6V\n",
       "AgQNYGCcdQCPEZJrcBhw8CIDcw5EjG8u1ASmaQpxENZBCSMpqN0v70CFIBqWgdgcGxgYFqgxMMIi\n",
       "g32HAZg+8vCuA8TlC/gmcm6AylY3gymohvcgdlkAA3PBbQYWB3js7gC74QCDCYTPdYDrD5MBTFa7\n",
       "B0jANHBfYGAImQy0gyGRgR8eQExbIJ5g9YGGHZLhQAN8GJA0dAIJtQCgnj8M8QFoXmDQgGtCGA7z\n",
       "AlQDdwMoDIDG825gEGNAC0T2BrguuOHwQIRqeA+LBZYGBg/0aKxlYIAYwX5AnoHxAGo0QjUsgxnA\n",
       "28D0Dy0hsc5bJ63A8xvI0i/wZ7BDS0hQDfB0wNMo+xktKfMyPNvEwDATaPMJwYP3HqAlZagGpJTI\n",
       "uwFr0mPHmS7BGiAGJDAwdDOcV8CqjAuHdqiGlbDyYB6DI3aFB3EYANUALg8YgCWSomwAdoUPcBgA\n",
       "0cCUBPEnRWUiAL8CdVUNo8OgAAAAAElFTkSuQmCC\n",
       "\" style=\"display:inline;vertical-align:middle;\" /></a> <a class=\"ProveItLink\" href=\"../__pv_it/a08a98cf30f4dce9eca6b32ccd12e01521fd8c910/proof.ipynb\" style=\"text-decoration: none\">&#x22A2;&nbsp;</a><a class=\"ProveItLink\" href=\"../__pv_it/f8d5ada5e0a4a5ddaa1856dde2debb84fb1c2bbf0/expr.ipynb\"><img src=\"data:image/png;base64,iVBORw0KGgoAAAANSUhEUgAAADEAAAAMBAMAAAA5VkhcAAAAMFBMVEX///8QEBBmZmaqqqrMzMxE\n",
       "REQyMjIiIiKYmJh2dna6urrc3NxUVFSIiIju7u4AAAA6P00QAAAAAXRSTlMAQObYZgAAAJVJREFU\n",
       "GNNjYICBZw0MOADf9Au4pBiuz0Plv72z6yZUdbseVGy5FEsDA98Ejlr2BKiI2WmIwRGXVBkYOB9w\n",
       "/uPaADNg2TmwDAN3AIhkDUAYvSwOQrs+AJH8CDdBTWPgOgCm/B1gEnAX2IAI5gf3GXgfoLqaWYGB\n",
       "h4FhvUE8ww40n7p39mYxMLy5+1ajAS10FDjEFjAAAJkxKMP1HPcJAAAAAElFTkSuQmCC\n",
       "\" style=\"display:inline;vertical-align:middle;\" /></a></span></td></tr>\n",
       "<tr><td>&nbsp;</td><td colspan=4 style=\"text-align:left\"><span style=\"font-size:20px;\"><a class=\"ProveItLink\" href=\"../../../__pv_it/72df168d2bfb4e0140af90912ebf83b13772060b0/expr.ipynb\"><img src=\"data:image/png;base64,iVBORw0KGgoAAAANSUhEUgAAAAsAAAAJBAMAAAAWSsseAAAALVBMVEX///9mZmaqqqrMzMxEREQy\n",
       "MjIiIiKYmJh2dna6urrc3NxUVFSIiIju7u4AAACJHQtQAAAAAXRSTlMAQObYZgAAAEJJREFUCNdj\n",
       "YLhzeuWJAwy8Dew5bAEMHBc43nIuYOBlYHFgAAG+A2DKzgBIMF04x8BzgWGegh/DcgaG22fuiBcw\n",
       "AAATyhBrnyPYZQAAAABJRU5ErkJggg==\n",
       "\" style=\"display:inline;vertical-align:middle;\" /></a> : <a class=\"ProveItLink\" href=\"../../../__pv_it/0d889e00aed425c3081fbda3ac9194ae911895960/expr.ipynb\"><img src=\"data:image/png;base64,iVBORw0KGgoAAAANSUhEUgAAAAoAAAAJBAMAAAD5iKAgAAAAMFBMVEX///8yMjJ2dnaqqqpUVFTc\n",
       "3NxmZmaIiIhERETu7u6YmJjMzMwQEBAiIiK6uroAAABWQA0ZAAAAAXRSTlMAQObYZgAAADZJREFU\n",
       "CNdjYOC782AXA8OM5WkNDAwTGCIYgIC7E0Q+ARHMDiDSjIHBgYH7llbhAwY2hjVyDABOxArzLvBK\n",
       "ugAAAABJRU5ErkJggg==\n",
       "\" style=\"display:inline;vertical-align:middle;\" /></a>, <a class=\"ProveItLink\" href=\"../../../__pv_it/c6e291955561f22a0e6708fd793ea93f1c7dbb5d0/expr.ipynb\"><img src=\"data:image/png;base64,iVBORw0KGgoAAAANSUhEUgAAAAsAAAANBAMAAACN24kIAAAAMFBMVEX///8iIiKYmJhUVFTMzMxE\n",
       "REQyMjKqqqq6urp2dnYQEBDc3NxmZmaIiIju7u4AAACH5sGpAAAAAXRSTlMAQObYZgAAAFlJREFU\n",
       "CNdj4LtzgWHXAwZOjgUM9xkYtvMkMIQyMDzgusDwl4GBof8ByxcgdYyBdwGQCmZgNQBShxn6FYDU\n",
       "47vnNzAwgGUZGJgT+H4AKUYF1gtAiuPuESAJAJGkFvXVdzA+AAAAAElFTkSuQmCC\n",
       "\" style=\"display:inline;vertical-align:middle;\" /></a> : <a class=\"ProveItLink\" href=\"../../../__pv_it/72df168d2bfb4e0140af90912ebf83b13772060b0/expr.ipynb\"><img src=\"data:image/png;base64,iVBORw0KGgoAAAANSUhEUgAAAAsAAAAJBAMAAAAWSsseAAAALVBMVEX///9mZmaqqqrMzMxEREQy\n",
       "MjIiIiKYmJh2dna6urrc3NxUVFSIiIju7u4AAACJHQtQAAAAAXRSTlMAQObYZgAAAEJJREFUCNdj\n",
       "YLhzeuWJAwy8Dew5bAEMHBc43nIuYOBlYHFgAAG+A2DKzgBIMF04x8BzgWGegh/DcgaG22fuiBcw\n",
       "AAATyhBrnyPYZQAAAABJRU5ErkJggg==\n",
       "\" style=\"display:inline;vertical-align:middle;\" /></a></span></td></tr><tr><td><a name=\"0x663bacfc39dbbcf8_step2\">2</a></td><td>theorem</td><td></td><td><span style=\"font-size:20px;\"> <a class=\"ProveItLink\" href=\"reverseLess.ipynb\" style=\"text-decoration: none\">&#x22A2;&nbsp;</a><a class=\"ProveItLink\" href=\"../__pv_it/8765c237cc8523610a12b5c18e933ab4a6610f670/expr.ipynb\"><img src=\"data:image/png;base64,iVBORw0KGgoAAAANSUhEUgAAAKEAAAAWBAMAAABasOFIAAAAMFBMVEX///8QEBCIiIhmZma6urrM\n",
       "zMxUVFQiIiJERETc3Nzu7u6qqqp2dnaYmJgyMjIAAAAcRTyBAAAAAXRSTlMAQObYZgAAAjhJREFU\n",
       "OMudVU1oE0EU/kw23Z9uWih46akaqKWnIghSisQWLF5CcxFvlqBgPRQP9SColEJL6mlPNQji1EKF\n",
       "IrrgSQ8SchEi6IJCERT24EkQgiBYi+Cb2e7uzJpN2Q5kd977Zr+Zed97L0D28SgdekU/n0++ZiG0\n",
       "ltOxPgd4xyffszAOOD12owM26G0uZ2H8GE+fe0mwRTsywHazMN6WjvR2JAFuAsX2zs6DLITmTdk6\n",
       "1U6EpAz8rtfvZGHMTQBPTsMcDszdyYPjnlyYpivbhF4D1v/7rJzOaFDsmueR6xzYbxbE6xl2R+7R\n",
       "lUmaGSFQYqhSaUwydBemew5GtKRygz/b+MAuAv0UEx05rzdjYU22jpVhYQiDkSaV+/zJUBdr6ei2\n",
       "p6Mno3ndSTBC+4Mrc+qtgZ8ho+lf4nl0ZpSWaKPQWcwonNZZGRC3Rt7HCajKoPBLBIhnwvpVEpAt\n",
       "6rS3Pciq8RmF03rPVYqAQBljHmuJ7HlNUo0HyuAl0Rbwg7sfzmIsZhTOqqcAQX7k57W/aoZr+0bH\n",
       "pKX5JhlBjPcEMIWaHEdy2t8UILiXVSvtqVVo1cZLvN8M8PAWmYhogQNLOC4xCufWqgyEVZj3u2fr\n",
       "03Dy2PZtNBhuaZ2YUTiBDV4AIRB0ikW8SKmBVjjZ/tRqo+riwpgfMwonjQblRwhwaRzcxUp6N5OH\n",
       "azmG16VmLjsREHTc6dJcSomqvbPf6WtWulUh9eYQOORf4bNqFqF9aXZnjIAjj4mjf/oPBM+Wlnoa\n",
       "nV8AAAAASUVORK5CYII=\n",
       "\" style=\"display:inline;vertical-align:middle;\" /></a></span></td></tr>\n",
       "<tr><td>&nbsp;</td><td colspan=4 style-\"text-align:left\"><a class=\"ProveItLink\" href=\"reverseLess.ipynb\">proveit.number.ordering.reverseLess</a></td></tr><tr><td><a name=\"0x663bacfc39dbbcf8_step3\">3</a></td><td>instantiation</td><td><a href=\"#0x663bacfc39dbbcf8_step4\">4</a>, <a href=\"#0x663bacfc39dbbcf8_step5\">5</a>, <a href=\"#0x663bacfc39dbbcf8_step6\">6</a></td><td><span style=\"font-size:20px;\"><a class=\"ProveItLink\" href=\"../__pv_it/4df24caa404c5da69f05fb49315a33e421cbf8c60/expr.ipynb\"><img src=\"data:image/png;base64,iVBORw0KGgoAAAANSUhEUgAAAH8AAAAVBAMAAACd/CwcAAAAMFBMVEX///+IiIi6urrc3NxERETM\n",
       "zMwQEBCqqqpUVFQiIiJ2dnYyMjLu7u5mZmaYmJgAAABN0h6tAAAAAXRSTlMAQObYZgAAAZ1JREFU\n",
       "OMtjYGDgu8dAHmC9eABE8exiIBcwpYJIvg9kG8BwG0RwTSDfgJXoBvDsw6f89AOCBjCcmojHAJ6V\n",
       "AgQNYGCcdQCPEZJrcBhw8CIDcw5EjG8u1ASmaQpxENZBCSMpqN0v70CFIBqWgdgcGxgYFqgxMMIi\n",
       "g32HAZg+8vCuA8TlC/gmcm6AylY3gymohvcgdlkAA3PBbQYWB3js7gC74QCDCYTPdYDrD5MBTFa7\n",
       "B0jANHBfYGAImQy0gyGRgR8eQExbIJ5g9YGGHZLhQAN8GJA0dAIJtQCgnj8M8QFoXmDQgGtCGA7z\n",
       "AlQDdwMoDIDG825gEGNAC0T2BrguuOHwQIRqeA+LBZYGBg/0aKxlYIAYwX5AnoHxAGo0QjUsgxnA\n",
       "28D0Dy0hsc5bJ63A8xvI0i/wZ7BDS0hQDfB0wNMo+xktKfMyPNvEwDATaPMJwYP3HqAlZagGpJTI\n",
       "uwFr0mPHmS7BGiAGJDAwdDOcV8CqjAuHdqiGlbDyYB6DI3aFB3EYANUALg8YgCWSomwAdoUPcBgA\n",
       "0cCUBPEnRWUiAL8CdVUNo8OgAAAAAElFTkSuQmCC\n",
       "\" style=\"display:inline;vertical-align:middle;\" /></a> <a class=\"ProveItLink\" href=\"../__pv_it/dc0b258ddf534f5898c2d8812d14f0193ea33ca70/proof.ipynb\" style=\"text-decoration: none\">&#x22A2;&nbsp;</a><a class=\"ProveItLink\" href=\"../__pv_it/9a61175a91361056a23253b6391033a6729240a90/expr.ipynb\"><img src=\"data:image/png;base64,iVBORw0KGgoAAAANSUhEUgAAADEAAAAMBAMAAAA5VkhcAAAAMFBMVEX///8yMjJ2dnaqqqpUVFTc\n",
       "3NxmZmaIiIhERETu7u6YmJjMzMwQEBAiIiK6uroAAABWQA0ZAAAAAXRSTlMAQObYZgAAAJhJREFU\n",
       "GNNjYEABhhsYsIO1qTgkajVRuHx3HuwCMzh1C6BC00viioDsGcvTGsASuQugEpwKXNd5BRgYJjBE\n",
       "gPmOBjBTmCYw/eQLADK4O8EKETKcDBxgUxieQPiscNMYGPjBNjI7wJTCXcCwH+wtMwYGB1RXM0+o\n",
       "Z2CfwMB9S6vwAapP3xv0M0QxMLAxrJFDC50p5dOzFjAAAIFjIr25+aL7AAAAAElFTkSuQmCC\n",
       "\" style=\"display:inline;vertical-align:middle;\" /></a></span></td></tr>\n",
       "<tr><td>&nbsp;</td><td colspan=4 style=\"text-align:left\"><span style=\"font-size:20px;\"><a class=\"ProveItLink\" href=\"../../../__pv_it/72df168d2bfb4e0140af90912ebf83b13772060b0/expr.ipynb\"><img src=\"data:image/png;base64,iVBORw0KGgoAAAANSUhEUgAAAAsAAAAJBAMAAAAWSsseAAAALVBMVEX///9mZmaqqqrMzMxEREQy\n",
       "MjIiIiKYmJh2dna6urrc3NxUVFSIiIju7u4AAACJHQtQAAAAAXRSTlMAQObYZgAAAEJJREFUCNdj\n",
       "YLhzeuWJAwy8Dew5bAEMHBc43nIuYOBlYHFgAAG+A2DKzgBIMF04x8BzgWGegh/DcgaG22fuiBcw\n",
       "AAATyhBrnyPYZQAAAABJRU5ErkJggg==\n",
       "\" style=\"display:inline;vertical-align:middle;\" /></a> : <a class=\"ProveItLink\" href=\"../../../__pv_it/0d889e00aed425c3081fbda3ac9194ae911895960/expr.ipynb\"><img src=\"data:image/png;base64,iVBORw0KGgoAAAANSUhEUgAAAAoAAAAJBAMAAAD5iKAgAAAAMFBMVEX///8yMjJ2dnaqqqpUVFTc\n",
       "3NxmZmaIiIhERETu7u6YmJjMzMwQEBAiIiK6uroAAABWQA0ZAAAAAXRSTlMAQObYZgAAADZJREFU\n",
       "CNdjYOC782AXA8OM5WkNDAwTGCIYgIC7E0Q+ARHMDiDSjIHBgYH7llbhAwY2hjVyDABOxArzLvBK\n",
       "ugAAAABJRU5ErkJggg==\n",
       "\" style=\"display:inline;vertical-align:middle;\" /></a>, <a class=\"ProveItLink\" href=\"../../../__pv_it/c6e291955561f22a0e6708fd793ea93f1c7dbb5d0/expr.ipynb\"><img src=\"data:image/png;base64,iVBORw0KGgoAAAANSUhEUgAAAAsAAAANBAMAAACN24kIAAAAMFBMVEX///8iIiKYmJhUVFTMzMxE\n",
       "REQyMjKqqqq6urp2dnYQEBDc3NxmZmaIiIju7u4AAACH5sGpAAAAAXRSTlMAQObYZgAAAFlJREFU\n",
       "CNdj4LtzgWHXAwZOjgUM9xkYtvMkMIQyMDzgusDwl4GBof8ByxcgdYyBdwGQCmZgNQBShxn6FYDU\n",
       "47vnNzAwgGUZGJgT+H4AKUYF1gtAiuPuESAJAJGkFvXVdzA+AAAAAElFTkSuQmCC\n",
       "\" style=\"display:inline;vertical-align:middle;\" /></a> : <a class=\"ProveItLink\" href=\"../../../__pv_it/c6e291955561f22a0e6708fd793ea93f1c7dbb5d0/expr.ipynb\"><img src=\"data:image/png;base64,iVBORw0KGgoAAAANSUhEUgAAAAsAAAANBAMAAACN24kIAAAAMFBMVEX///8iIiKYmJhUVFTMzMxE\n",
       "REQyMjKqqqq6urp2dnYQEBDc3NxmZmaIiIju7u4AAACH5sGpAAAAAXRSTlMAQObYZgAAAFlJREFU\n",
       "CNdj4LtzgWHXAwZOjgUM9xkYtvMkMIQyMDzgusDwl4GBof8ByxcgdYyBdwGQCmZgNQBShxn6FYDU\n",
       "47vnNzAwgGUZGJgT+H4AKUYF1gtAiuPuESAJAJGkFvXVdzA+AAAAAElFTkSuQmCC\n",
       "\" style=\"display:inline;vertical-align:middle;\" /></a>, <a class=\"ProveItLink\" href=\"../../../__pv_it/0d889e00aed425c3081fbda3ac9194ae911895960/expr.ipynb\"><img src=\"data:image/png;base64,iVBORw0KGgoAAAANSUhEUgAAAAoAAAAJBAMAAAD5iKAgAAAAMFBMVEX///8yMjJ2dnaqqqpUVFTc\n",
       "3NxmZmaIiIhERETu7u6YmJjMzMwQEBAiIiK6uroAAABWQA0ZAAAAAXRSTlMAQObYZgAAADZJREFU\n",
       "CNdjYOC782AXA8OM5WkNDAwTGCIYgIC7E0Q+ARHMDiDSjIHBgYH7llbhAwY2hjVyDABOxArzLvBK\n",
       "ugAAAABJRU5ErkJggg==\n",
       "\" style=\"display:inline;vertical-align:middle;\" /></a> : <a class=\"ProveItLink\" href=\"../../../__pv_it/72df168d2bfb4e0140af90912ebf83b13772060b0/expr.ipynb\"><img src=\"data:image/png;base64,iVBORw0KGgoAAAANSUhEUgAAAAsAAAAJBAMAAAAWSsseAAAALVBMVEX///9mZmaqqqrMzMxEREQy\n",
       "MjIiIiKYmJh2dna6urrc3NxUVFSIiIju7u4AAACJHQtQAAAAAXRSTlMAQObYZgAAAEJJREFUCNdj\n",
       "YLhzeuWJAwy8Dew5bAEMHBc43nIuYOBlYHFgAAG+A2DKzgBIMF04x8BzgWGegh/DcgaG22fuiBcw\n",
       "AAATyhBrnyPYZQAAAABJRU5ErkJggg==\n",
       "\" style=\"display:inline;vertical-align:middle;\" /></a></span></td></tr><tr><td><a name=\"0x663bacfc39dbbcf8_step4\">4</a></td><td>axiom</td><td></td><td><span style=\"font-size:20px;\"> <a class=\"ProveItLink\" href=\"../_axioms_.ipynb#transitivityLessLess\" style=\"text-decoration: none\">&#x22A2;&nbsp;</a><a class=\"ProveItLink\" href=\"../__pv_it/fe53b4de391a0db3f72844db747e8f5d50f56f650/expr.ipynb\"><img src=\"data:image/png;base64,iVBORw0KGgoAAAANSUhEUgAAANEAAAAWBAMAAACs+WTQAAAAMFBMVEX///8QEBCIiIhmZma6urrM\n",
       "zMxUVFQiIiJERETc3Nzu7u6qqqp2dnaYmJgyMjIAAAAcRTyBAAAAAXRSTlMAQObYZgAAArFJREFU\n",
       "SMetVUtoE0EY/prsZrt5elAQRAkGSgkechEKeggVLIqPxIOKF0tQUKgStB6UtuSiJIVKQPpAEFda\n",
       "Kq09BARBoRByTKUuKqiQwh700lIIguDj4j+z2Ue2XU1hB5Jv/m9m9puZ/5sZwLvyxL3pNf00Vlnz\n",
       "QihYcG8LlIEVVln3Qila/scsaEEzhHLBC6UPTiL0zarXaCYKEK54oXTXEUdu2xb5jOL64uK0F0Jy\n",
       "vj32jSj2rU0DP4vFES+UfClKx8Hr/TU9XLplNAzsFlWEqfUqUHIZLOxEqVulz+NTfIxHs6OmGSYS\n",
       "fbR1ZIlj3BjbD24PT27pYGckSnYd75QT3NUblu244UK0txJ8akdKFwed7W1MF2VCQVEP5jfs3Shh\n",
       "YpOMp0roRGlqyx63M0wJ+N6KHo1aOWDzYUqydp75/XBPhsgeSMwx0+uTllI4cY5yOXufqv2DuGcC\n",
       "Z+SxhYy1exB/GN+3HPGKyzFnlq6QcZSbEs0pHFOyjD/SiFtKyYA2jKWvrFr9Le4yQGf8yzWbI974\n",
       "mkg6XB5KIaA7Ai9JTsQmYx8PoJc3v7DtXiaqQtzPj8xc3ldogc5Qwo1TTz4W/nQ3ZdVxci803tOc\n",
       "/FWqxvj8f/HWo8jx4Wl7nmI0YpUz/mogboDOYM5MRx7BXDKx5ryNUpED1DPK9jii8IyJjB7GHgaT\n",
       "uGRTuowMgn2sq5TuMkFn5IyouNxGbeW5UXka1sKYUXBHaBLIQ8sFU0luroKWLl+jlUmZs5DHObSY\n",
       "qZXPrjesvRjZxPzHWh3ZCo73agQRca9iKgVvnDrEIvlBGULuIcR9HFqMmh03z8R/Xg17qQTLzEGV\n",
       "7U+uWMICJmj7ddCZDl9CxyxC5UD1DAOX2wgYEjT2UnPY0ev+xfGgQGhUGbgqnX5Lf6oOnha/lx/7\n",
       "C9Lis2q4HMiOAAAAAElFTkSuQmCC\n",
       "\" style=\"display:inline;vertical-align:middle;\" /></a></span></td></tr>\n",
       "<tr><td>&nbsp;</td><td colspan=4 style-\"text-align:left\"><a class=\"ProveItLink\" href=\"../_axioms_.ipynb#transitivityLessLess\">proveit.number.ordering.transitivityLessLess</a></td></tr><tr><td><a name=\"0x663bacfc39dbbcf8_step5\">5</a></td><td>instantiation</td><td><a href=\"#0x663bacfc39dbbcf8_step8\">8</a>, <a href=\"#0x663bacfc39dbbcf8_step7\">7</a></td><td><span style=\"font-size:20px;\"><a class=\"ProveItLink\" href=\"../__pv_it/0edc76f060e14682175aac2bd907c788378de4230/expr.ipynb\"><img src=\"data:image/png;base64,iVBORw0KGgoAAAANSUhEUgAAAEMAAAAVBAMAAADvM06qAAAAMFBMVEX///+IiIi6urrc3NxERETM\n",
       "zMwQEBCqqqpUVFQiIiJ2dnYyMjLu7u5mZmaYmJgAAABN0h6tAAAAAXRSTlMAQObYZgAAAQpJREFU\n",
       "KM9jYGDgu8eAC7BePACieHYx4AZMqSCS7wMeJQy3QQTXBHxKVqIr4dlHUAnDqYkElTAwzjqAXcnB\n",
       "iwzMORAxvrlQNUzTFOIYGJaBmBwbGBgWqDEwwjzGvsMATB95eNeBgeE9iFkWwMBccJuBxQEeFjvA\n",
       "5hxgMAGS3BcYGEImAz3CkMjALwBXsgViFasPiOwEiqsFAEX/MMQHoFnEoAEiuBtAbgHawLuBQYwB\n",
       "zbnsIEmIW0A+Ymlg8ED3dC0DQwPURyAlvA1M/9CCjnXeOmkFpHDhaZT9jBYBvAzPNqGGLtA1eKIx\n",
       "gYGhm+G8Ah4loPQyj8ERX3phAKY6RdkAHKkuCRIABNIuAGE3RvGJ3fMnAAAAAElFTkSuQmCC\n",
       "\" style=\"display:inline;vertical-align:middle;\" /></a> <a class=\"ProveItLink\" href=\"../__pv_it/cfd6527f099b03a45bbb2cbe6848a2aa8c3fa6110/proof.ipynb\" style=\"text-decoration: none\">&#x22A2;&nbsp;</a><a class=\"ProveItLink\" href=\"../__pv_it/7c6df74b72a3dd81a43f75f6477260d3f27806f30/expr.ipynb\"><img src=\"data:image/png;base64,iVBORw0KGgoAAAANSUhEUgAAADEAAAAQBAMAAABNQoq8AAAAMFBMVEX///8yMjJ2dnaqqqpUVFTc\n",
       "3NxmZmaIiIhERETu7u6YmJjMzMwQEBAiIiK6uroAAABWQA0ZAAAAAXRSTlMAQObYZgAAAK1JREFU\n",
       "GNNjYEABhhsYsIO1qTgkajVRuHx3HuwCMzh1CyAinGUFDDETGBhmLE9rAPNzF0DVMvEdYKgH0hMY\n",
       "IsB8RwOYKcFsAgwdIAZ3J1gLQmYCTwHDdxDjCYTPCjeN4f0E7t9AitkByoe7gCGRgf0AkDJjYHBA\n",
       "c3ULAwdQiPuWVuEDNJ+mMLwHmszGsEYOPXSmlOcH4AgMoE1YAYsA5z/sMrwLOAqwy/CVZwNJAJ0o\n",
       "JmkSyE8OAAAAAElFTkSuQmCC\n",
       "\" style=\"display:inline;vertical-align:middle;\" /></a></span></td></tr>\n",
       "<tr><td>&nbsp;</td><td colspan=4 style=\"text-align:left\"><span style=\"font-size:20px;\"><a class=\"ProveItLink\" href=\"../../../__pv_it/72df168d2bfb4e0140af90912ebf83b13772060b0/expr.ipynb\"><img src=\"data:image/png;base64,iVBORw0KGgoAAAANSUhEUgAAAAsAAAAJBAMAAAAWSsseAAAALVBMVEX///9mZmaqqqrMzMxEREQy\n",
       "MjIiIiKYmJh2dna6urrc3NxUVFSIiIju7u4AAACJHQtQAAAAAXRSTlMAQObYZgAAAEJJREFUCNdj\n",
       "YLhzeuWJAwy8Dew5bAEMHBc43nIuYOBlYHFgAAG+A2DKzgBIMF04x8BzgWGegh/DcgaG22fuiBcw\n",
       "AAATyhBrnyPYZQAAAABJRU5ErkJggg==\n",
       "\" style=\"display:inline;vertical-align:middle;\" /></a> : <a class=\"ProveItLink\" href=\"../../../__pv_it/c6e291955561f22a0e6708fd793ea93f1c7dbb5d0/expr.ipynb\"><img src=\"data:image/png;base64,iVBORw0KGgoAAAANSUhEUgAAAAsAAAANBAMAAACN24kIAAAAMFBMVEX///8iIiKYmJhUVFTMzMxE\n",
       "REQyMjKqqqq6urp2dnYQEBDc3NxmZmaIiIju7u4AAACH5sGpAAAAAXRSTlMAQObYZgAAAFlJREFU\n",
       "CNdj4LtzgWHXAwZOjgUM9xkYtvMkMIQyMDzgusDwl4GBof8ByxcgdYyBdwGQCmZgNQBShxn6FYDU\n",
       "47vnNzAwgGUZGJgT+H4AKUYF1gtAiuPuESAJAJGkFvXVdzA+AAAAAElFTkSuQmCC\n",
       "\" style=\"display:inline;vertical-align:middle;\" /></a>, <a class=\"ProveItLink\" href=\"../../../__pv_it/c6e291955561f22a0e6708fd793ea93f1c7dbb5d0/expr.ipynb\"><img src=\"data:image/png;base64,iVBORw0KGgoAAAANSUhEUgAAAAsAAAANBAMAAACN24kIAAAAMFBMVEX///8iIiKYmJhUVFTMzMxE\n",
       "REQyMjKqqqq6urp2dnYQEBDc3NxmZmaIiIju7u4AAACH5sGpAAAAAXRSTlMAQObYZgAAAFlJREFU\n",
       "CNdj4LtzgWHXAwZOjgUM9xkYtvMkMIQyMDzgusDwl4GBof8ByxcgdYyBdwGQCmZgNQBShxn6FYDU\n",
       "47vnNzAwgGUZGJgT+H4AKUYF1gtAiuPuESAJAJGkFvXVdzA+AAAAAElFTkSuQmCC\n",
       "\" style=\"display:inline;vertical-align:middle;\" /></a> : <a class=\"ProveItLink\" href=\"../../../__pv_it/0d889e00aed425c3081fbda3ac9194ae911895960/expr.ipynb\"><img src=\"data:image/png;base64,iVBORw0KGgoAAAANSUhEUgAAAAoAAAAJBAMAAAD5iKAgAAAAMFBMVEX///8yMjJ2dnaqqqpUVFTc\n",
       "3NxmZmaIiIhERETu7u6YmJjMzMwQEBAiIiK6uroAAABWQA0ZAAAAAXRSTlMAQObYZgAAADZJREFU\n",
       "CNdjYOC782AXA8OM5WkNDAwTGCIYgIC7E0Q+ARHMDiDSjIHBgYH7llbhAwY2hjVyDABOxArzLvBK\n",
       "ugAAAABJRU5ErkJggg==\n",
       "\" style=\"display:inline;vertical-align:middle;\" /></a></span></td></tr><tr><td><a name=\"0x663bacfc39dbbcf8_step6\">6</a></td><td>instantiation</td><td><a href=\"#0x663bacfc39dbbcf8_step8\">8</a>, <a href=\"#0x663bacfc39dbbcf8_step9\">9</a></td><td><span style=\"font-size:20px;\"><a class=\"ProveItLink\" href=\"../__pv_it/09282d8085f394ead20995669f9dbc15ecc501440/expr.ipynb\"><img src=\"data:image/png;base64,iVBORw0KGgoAAAANSUhEUgAAAEUAAAAVBAMAAADiLT7tAAAAMFBMVEX///+IiIi6urrc3NxERETM\n",
       "zMwQEBCqqqpUVFQiIiJ2dnYyMjLu7u5mZmaYmJgAAABN0h6tAAAAAXRSTlMAQObYZgAAARdJREFU\n",
       "KM9jYGDgu8eAE7BePACieHYx4AFMqSCS7wM+NQy3QQTXBLxqVmKoOf2AsBqelQIE1TAwSK7BoYZH\n",
       "sFlxIVTw5R0IffAiA3MOA8MyEJtjAwPDKYaXArNhOqubwdQCNQZGoJffg9hlAQwMaxjWH1CGG6/d\n",
       "AySYC24zsDgwMHBfYGAImQwUOMDgguQEbR+Q6xkSGfhBHugEEmoBIPGPCCVQu5j+MMQDpbgbQO5x\n",
       "AMXLV7gSmJt5NzCIMUDdA/JXDdB1Mmh+Z2lg8GCA+guohuk7ywfmB2hhyNvA9A8pfHgaZWTfoccF\n",
       "T6PsZxzhjASALoKpScCuopvhvAJMDa70M4/BEZ5+GHCkQ0VZUMAxJYE57ITSMwD3fUpr1DmMtgAA\n",
       "AABJRU5ErkJggg==\n",
       "\" style=\"display:inline;vertical-align:middle;\" /></a> <a class=\"ProveItLink\" href=\"../__pv_it/a9046e74853ccec4c0ea099b03236377bee7dd050/proof.ipynb\" style=\"text-decoration: none\">&#x22A2;&nbsp;</a><a class=\"ProveItLink\" href=\"../__pv_it/f3e0cd485cc358d302204a1788e2176196d4390b0/expr.ipynb\"><img src=\"data:image/png;base64,iVBORw0KGgoAAAANSUhEUgAAADIAAAAQBAMAAACmdTG/AAAAMFBMVEX///8iIiKYmJhUVFTMzMxE\n",
       "REQyMjKqqqq6urp2dnYQEBDc3NxmZmaIiIju7u4AAACH5sGpAAAAAXRSTlMAQObYZgAAALBJREFU\n",
       "GNNjYEAB7CkM2AGTzAbsErySD5B4fHcuMOyCCLyUhYndte6dy8DJsYDhPpj/Rgim+iWD4gUxhu08\n",
       "CQyhIC5zOtyceQzzH3QzPOC6wPAXxH2MkHkAUdv/gOULmL9HCGE7WO0xBt4FDKguYICoDWZgNUBz\n",
       "dR3vB4Z7DAyHGfoVUH3K8Z31AzdQ7PHd8xtQQ4fP9t4dJQaITVgBcwLfD+wyjAqsF7DLcNw9gl0C\n",
       "ANcsMbD8u+TJAAAAAElFTkSuQmCC\n",
       "\" style=\"display:inline;vertical-align:middle;\" /></a></span></td></tr>\n",
       "<tr><td>&nbsp;</td><td colspan=4 style=\"text-align:left\"><span style=\"font-size:20px;\"><a class=\"ProveItLink\" href=\"../../../__pv_it/72df168d2bfb4e0140af90912ebf83b13772060b0/expr.ipynb\"><img src=\"data:image/png;base64,iVBORw0KGgoAAAANSUhEUgAAAAsAAAAJBAMAAAAWSsseAAAALVBMVEX///9mZmaqqqrMzMxEREQy\n",
       "MjIiIiKYmJh2dna6urrc3NxUVFSIiIju7u4AAACJHQtQAAAAAXRSTlMAQObYZgAAAEJJREFUCNdj\n",
       "YLhzeuWJAwy8Dew5bAEMHBc43nIuYOBlYHFgAAG+A2DKzgBIMF04x8BzgWGegh/DcgaG22fuiBcw\n",
       "AAATyhBrnyPYZQAAAABJRU5ErkJggg==\n",
       "\" style=\"display:inline;vertical-align:middle;\" /></a> : <a class=\"ProveItLink\" href=\"../../../__pv_it/72df168d2bfb4e0140af90912ebf83b13772060b0/expr.ipynb\"><img src=\"data:image/png;base64,iVBORw0KGgoAAAANSUhEUgAAAAsAAAAJBAMAAAAWSsseAAAALVBMVEX///9mZmaqqqrMzMxEREQy\n",
       "MjIiIiKYmJh2dna6urrc3NxUVFSIiIju7u4AAACJHQtQAAAAAXRSTlMAQObYZgAAAEJJREFUCNdj\n",
       "YLhzeuWJAwy8Dew5bAEMHBc43nIuYOBlYHFgAAG+A2DKzgBIMF04x8BzgWGegh/DcgaG22fuiBcw\n",
       "AAATyhBrnyPYZQAAAABJRU5ErkJggg==\n",
       "\" style=\"display:inline;vertical-align:middle;\" /></a>, <a class=\"ProveItLink\" href=\"../../../__pv_it/c6e291955561f22a0e6708fd793ea93f1c7dbb5d0/expr.ipynb\"><img src=\"data:image/png;base64,iVBORw0KGgoAAAANSUhEUgAAAAsAAAANBAMAAACN24kIAAAAMFBMVEX///8iIiKYmJhUVFTMzMxE\n",
       "REQyMjKqqqq6urp2dnYQEBDc3NxmZmaIiIju7u4AAACH5sGpAAAAAXRSTlMAQObYZgAAAFlJREFU\n",
       "CNdj4LtzgWHXAwZOjgUM9xkYtvMkMIQyMDzgusDwl4GBof8ByxcgdYyBdwGQCmZgNQBShxn6FYDU\n",
       "47vnNzAwgGUZGJgT+H4AKUYF1gtAiuPuESAJAJGkFvXVdzA+AAAAAElFTkSuQmCC\n",
       "\" style=\"display:inline;vertical-align:middle;\" /></a> : <a class=\"ProveItLink\" href=\"../../../__pv_it/c6e291955561f22a0e6708fd793ea93f1c7dbb5d0/expr.ipynb\"><img src=\"data:image/png;base64,iVBORw0KGgoAAAANSUhEUgAAAAsAAAANBAMAAACN24kIAAAAMFBMVEX///8iIiKYmJhUVFTMzMxE\n",
       "REQyMjKqqqq6urp2dnYQEBDc3NxmZmaIiIju7u4AAACH5sGpAAAAAXRSTlMAQObYZgAAAFlJREFU\n",
       "CNdj4LtzgWHXAwZOjgUM9xkYtvMkMIQyMDzgusDwl4GBof8ByxcgdYyBdwGQCmZgNQBShxn6FYDU\n",
       "47vnNzAwgGUZGJgT+H4AKUYF1gtAiuPuESAJAJGkFvXVdzA+AAAAAElFTkSuQmCC\n",
       "\" style=\"display:inline;vertical-align:middle;\" /></a></span></td></tr><tr><td><a name=\"0x663bacfc39dbbcf8_step7\">7</a></td><td>assumption</td><td></td><td><span style=\"font-size:20px;\"><a class=\"ProveItLink\" href=\"../__pv_it/0edc76f060e14682175aac2bd907c788378de4230/expr.ipynb\"><img src=\"data:image/png;base64,iVBORw0KGgoAAAANSUhEUgAAAEMAAAAVBAMAAADvM06qAAAAMFBMVEX///+IiIi6urrc3NxERETM\n",
       "zMwQEBCqqqpUVFQiIiJ2dnYyMjLu7u5mZmaYmJgAAABN0h6tAAAAAXRSTlMAQObYZgAAAQpJREFU\n",
       "KM9jYGDgu8eAC7BePACieHYx4AZMqSCS7wMeJQy3QQTXBHxKVqIr4dlHUAnDqYkElTAwzjqAXcnB\n",
       "iwzMORAxvrlQNUzTFOIYGJaBmBwbGBgWqDEwwjzGvsMATB95eNeBgeE9iFkWwMBccJuBxQEeFjvA\n",
       "5hxgMAGS3BcYGEImAz3CkMjALwBXsgViFasPiOwEiqsFAEX/MMQHoFnEoAEiuBtAbgHawLuBQYwB\n",
       "zbnsIEmIW0A+Ymlg8ED3dC0DQwPURyAlvA1M/9CCjnXeOmkFpHDhaZT9jBYBvAzPNqGGLtA1eKIx\n",
       "gYGhm+G8Ah4loPQyj8ERX3phAKY6RdkAHKkuCRIABNIuAGE3RvGJ3fMnAAAAAElFTkSuQmCC\n",
       "\" style=\"display:inline;vertical-align:middle;\" /></a> <a class=\"ProveItLink\" href=\"../__pv_it/d0669d37fe4643d57eaacd218997274a22f816b60/proof.ipynb\" style=\"text-decoration: none\">&#x22A2;&nbsp;</a><a class=\"ProveItLink\" href=\"../__pv_it/a27e26174b7bdb860559eac909bead11656702610/expr.ipynb\"><img src=\"data:image/png;base64,iVBORw0KGgoAAAANSUhEUgAAADEAAAAQBAMAAABNQoq8AAAAMFBMVEX///8iIiKYmJhUVFTMzMxE\n",
       "REQyMjKqqqq6urp2dnYQEBDc3NxmZmaIiIju7u4AAACH5sGpAAAAAXRSTlMAQObYZgAAAKhJREFU\n",
       "GNNjYICBZwoMOADfxAu4pBguzkNVeucCw64HELbiOahg4woWBQZOjgUM92HKyqwhqoPuHGVg2M6T\n",
       "wBAKN6HNDizDwB3AwPCA6wLDX4RMHIR2BZnf/4DlC5ppDBwGIPIYA+8CBjQXFIPJYAZWAzRXsx9g\n",
       "YAZShxn6FdB86qipmwGkHt89vwEtdA4wLWtggNiEFTAn8P3ALsOowIojJDnuHsEuAQBaHizdzj7F\n",
       "sQAAAABJRU5ErkJggg==\n",
       "\" style=\"display:inline;vertical-align:middle;\" /></a></span></td></tr>\n",
       "<tr><td><a name=\"0x663bacfc39dbbcf8_step8\">8</a></td><td>theorem</td><td></td><td><span style=\"font-size:20px;\"> <a class=\"ProveItLink\" href=\"reverseGreater.ipynb\" style=\"text-decoration: none\">&#x22A2;&nbsp;</a><a class=\"ProveItLink\" href=\"../__pv_it/705e4922944848b70387313e6651ac620f504d960/expr.ipynb\"><img src=\"data:image/png;base64,iVBORw0KGgoAAAANSUhEUgAAAKEAAAAWBAMAAABasOFIAAAAMFBMVEX///8QEBCIiIhmZma6urrM\n",
       "zMxUVFQiIiJERETc3Nzu7u6qqqp2dnaYmJgyMjIAAAAcRTyBAAAAAXRSTlMAQObYZgAAAjhJREFU\n",
       "OMudVU1o1EAU/txNNj+btiB46WnrQik9FcGLiKwVlF5Keym9WRYVeilS9SB0pViQ7S0g4iKIo4JC\n",
       "KRjw1J6WPa4HVxREUAiCF39gKQhWKfTNTJNJss1KOpBk3vcl35t5780LkH08Tqe26PL55EsWQXs1\n",
       "nSu4wBs++Z5FcdDt440W2KCntZpF8X3CLn6LGC3yyADHy6J4O24O3Iiu+SkB7Y2Nh1kEresxM7fC\n",
       "YiGpAH/q9ZUsirkJ4NkpWMPC2lwOInhycZK27BB7FVjv+aySrmh2gOZ55LrceF4L4E18LN2hLVNq\n",
       "LogEJYZK1YMkZXiwvHMw+SuFHyHcxls2RWmimBjIdfoovkhu4FgFNo5jqMRJpchQ5w+dlu50DPRR\n",
       "RGOxRxHaX1ye4cb9miJ2AkXLn+N1dHqUXtFGYTClKMH5MxFC7Bp5HyOIZwb6b37XeCWsX6EEsiWD\n",
       "fDtDbFat8QDEdEkRMjPmAu4lqmebUjUuM4PXJKvjF4cfXcKYUjwAgXduSMj6yC9oe/EK1/6ZXYt8\n",
       "5ZtkiBhjV9BnUY3GUYLFr4qQ+7Kr5d34KbSr42XebwZ5eAeYiKjO2Zs4EVGUoPaTKSI4hXn/8Gp9\n",
       "GUyeOL6DBsMtrasUBQh9jXsMCNkplvAq5Qy0wqr70Gpj1sPFMV8pCtC6JhpBQPDUuKjhbno3iw7P\n",
       "ds1Ooh7nRd2FhOy4k+WZlCMa751Ft9Cc7qlw2ZsD4j9/hU+JTgftc/NwxZA48pg4+qf7MwmXV1E0\n",
       "SD8AAAAASUVORK5CYII=\n",
       "\" style=\"display:inline;vertical-align:middle;\" /></a></span></td></tr>\n",
       "<tr><td>&nbsp;</td><td colspan=4 style-\"text-align:left\"><a class=\"ProveItLink\" href=\"reverseGreater.ipynb\">proveit.number.ordering.reverseGreater</a></td></tr><tr><td><a name=\"0x663bacfc39dbbcf8_step9\">9</a></td><td>assumption</td><td></td><td><span style=\"font-size:20px;\"><a class=\"ProveItLink\" href=\"../__pv_it/09282d8085f394ead20995669f9dbc15ecc501440/expr.ipynb\"><img src=\"data:image/png;base64,iVBORw0KGgoAAAANSUhEUgAAAEUAAAAVBAMAAADiLT7tAAAAMFBMVEX///+IiIi6urrc3NxERETM\n",
       "zMwQEBCqqqpUVFQiIiJ2dnYyMjLu7u5mZmaYmJgAAABN0h6tAAAAAXRSTlMAQObYZgAAARdJREFU\n",
       "KM9jYGDgu8eAE7BePACieHYx4AFMqSCS7wM+NQy3QQTXBLxqVmKoOf2AsBqelQIE1TAwSK7BoYZH\n",
       "sFlxIVTw5R0IffAiA3MOA8MyEJtjAwPDKYaXArNhOqubwdQCNQZGoJffg9hlAQwMaxjWH1CGG6/d\n",
       "AySYC24zsDgwMHBfYGAImQwUOMDgguQEbR+Q6xkSGfhBHugEEmoBIPGPCCVQu5j+MMQDpbgbQO5x\n",
       "AMXLV7gSmJt5NzCIMUDdA/JXDdB1Mmh+Z2lg8GCA+guohuk7ywfmB2hhyNvA9A8pfHgaZWTfoccF\n",
       "T6PsZxzhjASALoKpScCuopvhvAJMDa70M4/BEZ5+GHCkQ0VZUMAxJYE57ITSMwD3fUpr1DmMtgAA\n",
       "AABJRU5ErkJggg==\n",
       "\" style=\"display:inline;vertical-align:middle;\" /></a> <a class=\"ProveItLink\" href=\"../__pv_it/e1cc18f6fa00d7bfe0ce200900288375097129170/proof.ipynb\" style=\"text-decoration: none\">&#x22A2;&nbsp;</a><a class=\"ProveItLink\" href=\"../__pv_it/4a8d0e46f8abd74a9c334c9759871a20721cd58b0/expr.ipynb\"><img src=\"data:image/png;base64,iVBORw0KGgoAAAANSUhEUgAAADMAAAAQBAMAAABJt1qBAAAAMFBMVEX///8QEBBmZmaqqqrMzMxE\n",
       "REQyMjIiIiKYmJh2dna6urrc3NxUVFSIiIju7u4AAAA6P00QAAAAAXRSTlMAQObYZgAAALpJREFU\n",
       "GNNjYIABvgwGnOBlLW453soHqAJv7+y6eQHC5CiCyPFdusCw8QED3wSOWvYEqDLmnA0gipNLgOE+\n",
       "kHrA+Y9rA8wIrhyQvs1MCQyhQM0MrAEI07lSQVIPGC8w/AVx+S/AZaAGMqx/wPIFRPs7wGRgzmBQ\n",
       "Y+AVACp8cJ+B9wGa42MYWA8A9RrEM+xA97IOw/oGBoY3d99qNKAH1Ju7+htwhowaDnGeBL5fOKTY\n",
       "G1gv4JDiuqsCJAEO9DSayJNaIQAAAABJRU5ErkJggg==\n",
       "\" style=\"display:inline;vertical-align:middle;\" /></a></span></td></tr>\n",
       "</table>"
      ],
      "text/plain": [
       "\tstep type\trequirements\tstatement\n",
       "0\tgeneralizaton\t1\t|- forall_{x, y, z | x > y, y > z} (x > z)\n",
       "1\tinstantiation\t2, 3\t{y > z, x > y} |- x > z\n",
       "\tx : z, y : x\n",
       "2\ttheorem\t\t|- forall_{x, y | x < y} (y > x)\n",
       "\tproveit.number.ordering.reverseLess\n",
       "3\tinstantiation\t4, 5, 6\t{y > z, x > y} |- z < x\n",
       "\tx : z, y : y, z : x\n",
       "4\taxiom\t\t|- forall_{x, y, z | x < y, y < z} (x < z)\n",
       "\tproveit.number.ordering.transitivityLessLess\n",
       "5\tinstantiation\t8, 7\t{y > z} |- z < y\n",
       "\tx : y, y : z\n",
       "6\tinstantiation\t8, 9\t{x > y} |- y < x\n",
       "\tx : x, y : y\n",
       "7\tassumption\t\t{y > z} |- y > z\n",
       "8\ttheorem\t\t|- forall_{x, y | x > y} (y < x)\n",
       "\tproveit.number.ordering.reverseGreater\n",
       "9\tassumption\t\t{x > y} |- x > y"
      ]
     },
     "execution_count": 9,
     "metadata": {},
     "output_type": "execute_result"
    }
   ],
   "source": [
    "%qed"
   ]
  },
  {
   "cell_type": "code",
   "execution_count": null,
   "metadata": {},
   "outputs": [],
   "source": []
  },
  {
   "cell_type": "code",
   "execution_count": null,
   "metadata": {},
   "outputs": [],
   "source": []
  }
 ],
 "metadata": {
  "kernelspec": {
   "display_name": "Python 3",
   "language": "python",
   "name": "python3"
  }
 },
 "nbformat": 4,
 "nbformat_minor": 0
}
