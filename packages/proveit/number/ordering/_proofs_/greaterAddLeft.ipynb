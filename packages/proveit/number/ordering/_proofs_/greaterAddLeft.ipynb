{
 "cells": [
  {
   "cell_type": "markdown",
   "metadata": {},
   "source": [
    "Proof of <a class=\"ProveItLink\" href=\"../../../_context_.ipynb\">proveit</a>.<a class=\"ProveItLink\" href=\"../../_context_.ipynb\">number</a>.<a class=\"ProveItLink\" href=\"../_context_.ipynb\">ordering</a>.<a class=\"ProveItLink\" href=\"../_theorems_.ipynb#greaterAddLeft\">greaterAddLeft</a> theorem\n",
    "========"
   ]
  },
  {
   "cell_type": "code",
   "execution_count": 1,
   "metadata": {},
   "outputs": [],
   "source": [
    "import proveit\n",
    "context = proveit.Context('..') # the theorem's context is in the parent directory"
   ]
  },
  {
   "cell_type": "code",
   "execution_count": 2,
   "metadata": {},
   "outputs": [
    {
     "name": "stdout",
     "output_type": "stream",
     "text": [
      "Beginning proof of greaterAddLeft\n",
      "Recorded 'presuming' information\n",
      "Presuming previous theorems (applied transitively).\n"
     ]
    },
    {
     "data": {
      "text/html": [
       "<strong id=\"greaterAddLeft\">greaterAddLeft:</strong> <a class=\"ProveItLink\" href=\"../__pv_it/383cb5d89e32c86f786dfd9c482a77ec8969da8e0/expr.ipynb\"><img src=\"data:image/png;base64,iVBORw0KGgoAAAANSUhEUgAAATsAAAAWBAMAAABNtyaoAAAAMFBMVEX///8QEBCIiIhmZma6urrM\n",
       "zMxUVFQiIiJERETc3Nzu7u6qqqp2dnaYmJgyMjIAAAAcRTyBAAAAAXRSTlMAQObYZgAABARJREFU\n",
       "SMfFVl2IG1UU/pLJ5Gfy54MPLkUYs9AuSkvYQFmU1oDgm2360ioIu1TrTx9kLRVU9iGutqRbhOCC\n",
       "LYIwNWAhru5QUVkQCVukGrdlUKG1WAlF+1Bk7YOCu4p4zj3zk0kTdhWiF87cuV/Oyfnmnp97gf9o\n",
       "vO1K37E0EO3wy7WhszOqIv1HvN6r/sq0oF/x6ubQ6eXqIgPId27TLwp6mt5T1aHT+8aVYJzrXiyr\n",
       "5weOD+RtQXMWkLGHTu8lVwbQOyObeMH0gL2WoNl2s3lq6OxS0yKD6OXKMm9ru8AFD/29VpsZOr1o\n",
       "UQTz5++xeugtFyrIFN3F5ftlvlF4AAo9BJzo84d7Ohv6jG1kE11uuW9JRyQ2gl96du+Unewg61t+\n",
       "9qwK81/WYl2hD4Xr5pOxJ67z7H1P+sjx3Wa3zwBIBrGroNsGMeUD3+NjF0jYImccTPTQm0HcRjoI\n",
       "/J7D7GQdeVOhCUS9gjE+LTnRDNrsPcfl8t75XTBbmXfQpRAAAT3jGdUzcn6JzR/i51Hk3UhGyiIP\n",
       "WjjC60urq8+vrt6gN22d1/qtgN4cox0sthSacRLeL1eWmiB6V5lunhxmT75lEZvs+90KAZDsSv3j\n",
       "ddfG43eMSP+GiB2mdxeDod2LVMP0JLjU9vbaCk119tO6sfUnxDg2TI8zZrJwmOIOxWZBRa5gKgUf\n",
       "cOkZ489RaPVXLbFRuU6PhdegryHhhIJr/In0rTC9RZWeselwaeQd3miFnniSfLygryMHoVdiFtus\n",
       "UTnwzJZWUpHS71AKPuDSO1uZ5AjGrosN0SjvY3zhJv1lwgyVhvEH4p2lED0iAtsvDa+x5MvG3RD0\n",
       "Q+KoFfVpNBQ97amjPM/iB0M2a+fT3JS0KioNdAEevRIOqDk7wjb0MgGd1zsc2r2IS4+LhmUWl6da\n",
       "IXraFBoVaK1wW447SdJWKJUI5Uh0CgdqtZoZzbzxLSvciZ36i7XaLMwvtzMbziKl4AEevS3YKklj\n",
       "so0C2NOYzWmWd9sth4nl3cJjB8vhyl25Rv5zlfChZoxfhItmKTaL9eRVKy7BTT/OwVonN1MSy4/a\n",
       "btrH0QW49Iw1vN7kgmuLDbDG6BflUOVudKid7dtYfTRSn3wEmYrkXruVmsPL2So+FzaZBZy26IAp\n",
       "KgUBgt0b0X+lj36UU5psyPJHaMaE2qJRv+/1uRI0b78S9A4fjR08tws4yW35UquxW9+C/SvknwKa\n",
       "nvnZKHX22anxry2lIEBA7+H7Rh28qdoB2ZDl/PZ7dWnT0RWvTyNZF9nshaofGuXUkqNBpjHKPRl2\n",
       "j0K47+nHgkPl31xH+xMf/Dm9t+t0P83k5u/lG1zmv/sHKA+nZ53FZukpyzSVeG0O/+/Qhu/ibwC8\n",
       "NL/SgwygAAAAAElFTkSuQmCC\n",
       "\" style=\"display:inline;vertical-align:middle;\" /></a><br>(see <a class=\"ProveItLink\" href=\"../__pv_it/383cb5d89e32c86f786dfd9c482a77ec8969da8e0/dependencies.ipynb\">dependencies</a>)<br>"
      ],
      "text/plain": [
       "greaterAddLeft: forall_{a in Reals, b in Reals, c in Reals | a > b, c >= 0} ((a + c) > b)"
      ]
     },
     "execution_count": 2,
     "metadata": {},
     "output_type": "execute_result"
    }
   ],
   "source": [
    "%proving greaterAddLeft presuming []"
   ]
  },
  {
   "cell_type": "code",
   "execution_count": null,
   "metadata": {},
   "outputs": [],
   "source": []
  }
 ],
 "metadata": {
  "kernelspec": {
   "display_name": "Python 3",
   "language": "python",
   "name": "python3"
  }
 },
 "nbformat": 4,
 "nbformat_minor": 0
}
