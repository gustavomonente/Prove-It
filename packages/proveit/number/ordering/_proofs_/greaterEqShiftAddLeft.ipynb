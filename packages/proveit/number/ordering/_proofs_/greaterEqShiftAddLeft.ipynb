{
 "cells": [
  {
   "cell_type": "markdown",
   "metadata": {},
   "source": [
    "Proof of <a class=\"ProveItLink\" href=\"../../../_context_.ipynb\">proveit</a>.<a class=\"ProveItLink\" href=\"../../_context_.ipynb\">number</a>.<a class=\"ProveItLink\" href=\"../_context_.ipynb\">ordering</a>.<a class=\"ProveItLink\" href=\"../_theorems_.ipynb#greaterEqShiftAddLeft\">greaterEqShiftAddLeft</a> theorem\n",
    "========"
   ]
  },
  {
   "cell_type": "code",
   "execution_count": 1,
   "metadata": {},
   "outputs": [],
   "source": [
    "import proveit\n",
    "context = proveit.Context('..') # the theorem's context is in the parent directory"
   ]
  },
  {
   "cell_type": "code",
   "execution_count": 2,
   "metadata": {},
   "outputs": [
    {
     "name": "stdout",
     "output_type": "stream",
     "text": [
      "Beginning proof of greaterEqShiftAddLeft\n",
      "Recorded 'presuming' information\n",
      "Presuming previous theorems (applied transitively).\n"
     ]
    },
    {
     "data": {
      "text/html": [
       "<strong id=\"greaterEqShiftAddLeft\">greaterEqShiftAddLeft:</strong> <a class=\"ProveItLink\" href=\"../__pv_it/f32ed22cd744b5f567d19b368df91da22bdeeffd0/expr.ipynb\"><img src=\"data:image/png;base64,iVBORw0KGgoAAAANSUhEUgAAAUwAAAAWBAMAAABZIrhJAAAAMFBMVEX///8QEBCIiIhmZma6urrM\n",
       "zMxUVFQiIiJERETc3Nzu7u6qqqp2dnaYmJgyMjIAAAAcRTyBAAAAAXRSTlMAQObYZgAABDZJREFU\n",
       "SMfNV1+IFVUY/+6/vXfmztz1QSgUY9hN86Hg4tLWg24rQT0V1wftJfCylWGprH/6o7vBohGzLcZQ\n",
       "YBIEo/dBWbd2MKKEwItLYKstF/NBBeWiuZLVINJDrgp93/nOzL1nnGtb3KQPfnPOnPOdOb/z/Tnn\n",
       "DMB/I59LxMqxe5u0Wrxq3mHU6eViu1nqI4x46XDuaToco3b4IXxsZJyihuvtpllwGC0WIWyjb3cb\n",
       "Tb/E6V1BfMnYTxYfaTfNnyRCOap0n2CHzoYLMYvNjrZk5TbCsAQKuCTDazfNnRItaB7gIj1bkg1Z\n",
       "J4Zmeo5svkDAnB4f/7TdLLVBRiuahX4uM7asKAwCmob4ws+MP217uN00k0UGGF1LVZrayhWLsDnw\n",
       "sbaFHdktQqGrpNAsDHRj7xQIvAYwGjPTi/W/JZOOvvtBLVdjaEPwkUpztVO4gaEYflx7Srh7L1nU\n",
       "y9UVmpPX9VsAl0DgWZl4Ur5Z/splYXG54Py2D/osiFFAImHbcxxaU8F71pOowpsKTX0JpDBf82FA\n",
       "mNtFMYQYhg5PoXnchZs4HwhkIRlsrfp3PbWkAdOkVqAhR6ZWgVU1DkKMQjNNrVe469fgPdHPeIa3\n",
       "nBnf3+r7s1hLzUEWB2duBNExzBoLRZcwj+9fe8T3y1jtA/0OwHoQMGrZ4Ovnjo0DsrhAtDvRQObY\n",
       "Zy7SNL+IU2imCdrTxPNWlObD0RRKjMBkqUFzYpvsXii6Iil0BdK3Q5pafR1WKsuuQpr8TCyq1NP1\n",
       "BsYDCtKcEMvsshSFgCaNRDuf7IfMzWWu4nQyhkpzsgrHKYrZ6Z+8F3QPia4IzbvCws8DY/RVnOWt\n",
       "zBwUgFn0EJvH3G4+SK1qqofKHZkFioKkKUZSOeMmdyWLagrdxTlVmh5swSOaU2hfGCSUQp2or8bm\n",
       "H3CgFqYQfIVLSxUzg1ARLFIbdlC5Gy7pYlKr93Xa3DDyS4qCpClGUvPvkLOCDKb8I/SC/qRCE1Xe\n",
       "NnAQWU5/vxE0mHypMlTUDWkz7MHnSolObE14yTK8ZNu2lTQ+PsvR0pt517Z3g/XDE0QzgStVFCRN\n",
       "MRLg4BhFY6ost6ZBhvHjGdXp+sDSfY9ifpYiexl59fRFS3V65XHKgasSJgbUpJO74HawT/MvU4TN\n",
       "wWIos9O/npYppShImmIkTJBlOt2EN7/D8lB0C449LHlhgwzOQGf9C2CUOPSmq9qHsMscge+ZpjEB\n",
       "+10834oNhSZr0siK8F/WPdfy6jEec/VoEuXqoTfdnIKrh/TSwNFVAGO0k85UK32ZxbDuNPJA4+SH\n",
       "f9N76ms8bcUZt6HQoClGruUTelOYrDmHcd+L3LV3SNj/o6105UVOOYox9KTduViOscniRRQi++Y/\n",
       "uxbn5nctDvmPzvc3IB9nmdy//ck4P/+fDNNhxEt0kAn3pfktbgG2C/9PST24qf4Ce18+Wtftcr0A\n",
       "AAAASUVORK5CYII=\n",
       "\" style=\"display:inline;vertical-align:middle;\" /></a><br>(see <a class=\"ProveItLink\" href=\"../__pv_it/f32ed22cd744b5f567d19b368df91da22bdeeffd0/dependencies.ipynb\">dependencies</a>)<br>"
      ],
      "text/plain": [
       "greaterEqShiftAddLeft: forall_{a in Reals, b in Reals, c in Reals | a >= b} ((c + a) >= (c + b))"
      ]
     },
     "execution_count": 2,
     "metadata": {},
     "output_type": "execute_result"
    }
   ],
   "source": [
    "%proving greaterEqShiftAddLeft presuming []"
   ]
  },
  {
   "cell_type": "code",
   "execution_count": null,
   "metadata": {},
   "outputs": [],
   "source": []
  }
 ],
 "metadata": {
  "kernelspec": {
   "display_name": "Python 3",
   "language": "python",
   "name": "python3"
  }
 },
 "nbformat": 4,
 "nbformat_minor": 0
}
