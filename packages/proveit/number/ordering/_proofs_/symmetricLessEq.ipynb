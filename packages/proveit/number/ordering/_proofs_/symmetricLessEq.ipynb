{
 "cells": [
  {
   "cell_type": "markdown",
   "metadata": {},
   "source": [
    "Proof of <a class=\"ProveItLink\" href=\"../../../_context_.ipynb\">proveit</a>.<a class=\"ProveItLink\" href=\"../../_context_.ipynb\">number</a>.<a class=\"ProveItLink\" href=\"../_context_.ipynb\">ordering</a>.<a class=\"ProveItLink\" href=\"../_theorems_.ipynb#symmetricLessEq\">symmetricLessEq</a> theorem\n",
    "========"
   ]
  },
  {
   "cell_type": "code",
   "execution_count": 1,
   "metadata": {},
   "outputs": [],
   "source": [
    "import proveit\n",
    "from proveit import defaults\n",
    "from proveit.logic.equality._axioms_ import equalsSymmetry\n",
    "from proveit._common_ import x, y, z\n",
    "from proveit.logic import Equals, Or, InSet, Booleans, And, Not\n",
    "from proveit.number import LessEq, Less\n",
    "from proveit.number.ordering._axioms_ import lessEqDef, transitivityLessLess\n",
    "context = proveit.Context('..') # the theorem's context is in the parent directory"
   ]
  },
  {
   "cell_type": "code",
   "execution_count": 2,
   "metadata": {},
   "outputs": [
    {
     "name": "stdout",
     "output_type": "stream",
     "text": [
      "Beginning proof of symmetricLessEq\n",
      "Recorded 'presuming' information\n"
     ]
    },
    {
     "name": "stdout",
     "output_type": "stream",
     "text": [
      "Presuming theorems in proveit.logic (except any that presume this theorem).\n",
      "Presuming previous theorems (applied transitively).\n"
     ]
    },
    {
     "data": {
      "text/html": [
       "<strong id=\"symmetricLessEq\">symmetricLessEq:</strong> <a class=\"ProveItLink\" href=\"../__pv_it/0a34265d872e83edebac89221bcd4f9972701fda0/expr.ipynb\"><img src=\"data:image/png;base64,iVBORw0KGgoAAAANSUhEUgAAAMUAAAAWBAMAAACCvEVCAAAAMFBMVEX///8QEBCIiIhmZma6urrM\n",
       "zMxUVFQiIiJERETc3Nzu7u6qqqp2dnaYmJgyMjIAAAAcRTyBAAAAAXRSTlMAQObYZgAAAkpJREFU\n",
       "SMetVj1oFEEU/m6ze7t3t5eksV8uEEIKvSZWEoOCwcaYJnUIWtiIhRaCSAqRCzZnZUgQx0YhXHFg\n",
       "Ey3kuPIsXIgggsrWirIEBcXGN2/m3L+7JbJ5sLzZ79s337z3ZmcXOA57PJ56SVcgB5+KSVQ3x3Pl\n",
       "NvBGDr4U05hs5+hTEtvkK5vFNA7yyD6tQQBut5jG7TzyKVAf7O09KiZRuZFbyCXgV6t1p5iG0aSy\n",
       "N66d66c6MePhoYBL7FVgKxO29D8ajg908N67S2P3O1tTDs1pnKJCUdPPc+tTltwE+xk+gdjUzgHe\n",
       "iovJZ3YnArSAGlXShuHna7z20nQSKVHWQk6XNFHycAhYIaXk28jV+JxZQgopcWUPM5OsCOun0qgE\n",
       "a3IXL8xeBsxZ2CLSYPCknFATyjGiI4a1gpwu6se6HC/CmKYYueu2rtDWENdtWo07JVajPBhc5ndH\n",
       "E+wUoiOGPX9lhJhP5XEfzrrqOV6QkIVvEt1ZxlykwWDnXoxgpxAdwQtowvzjhJV0TU9jhaCJHg2n\n",
       "uIG/GT6DjXg/JNh5ECPYKURHgKtR3ZifyRyszxpn6SCblBWtyw5YoSXhmzgR01Cg8TUilGNER+Se\n",
       "JYt0PR/ePHEDF9sCt8ww0mBQLoKqIomIJ2RIjj8Ty0H1hzoTdVrv+gOsdnFhLog0GJRWE0zE+Jr4\n",
       "R8qmjzzbbd/xkHnBu9W24494z+lJJiL+KN8os7GQ1a+1y71LGKnBRIw/+rf2Q/K2DvNjL62x3yIT\n",
       "TGheIcV/Apo4RvsLhx2/gpQNAzgAAAAASUVORK5CYII=\n",
       "\" style=\"display:inline;vertical-align:middle;\" /></a><br>(see <a class=\"ProveItLink\" href=\"../__pv_it/0a34265d872e83edebac89221bcd4f9972701fda0/dependencies.ipynb\">dependencies</a>)<br>"
      ],
      "text/plain": [
       "symmetricLessEq: forall_{x, y | x <= y, y <= x} (x = y)"
      ]
     },
     "execution_count": 2,
     "metadata": {},
     "output_type": "execute_result"
    }
   ],
   "source": [
    "%proving symmetricLessEq presuming [proveit.logic]"
   ]
  },
  {
   "cell_type": "code",
   "execution_count": 3,
   "metadata": {},
   "outputs": [
    {
     "data": {
      "text/html": [
       "<strong id=\"defaults.assumptions\">defaults.assumptions:</strong> <a class=\"ProveItLink\" href=\"../__pv_it/f361f91f5c350473577ee84662f4d7fb1ab1348d0/expr.ipynb\"><img src=\"data:image/png;base64,iVBORw0KGgoAAAANSUhEUgAAAHoAAAAUBAMAAACwiTT9AAAAMFBMVEX////MzMxUVFR2dna6uroQ\n",
       "EBCqqqqIiIgiIiJmZmYyMjJERETu7u6YmJjc3NwAAACgK8IjAAAAAXRSTlMAQObYZgAAAZ5JREFU\n",
       "OMtjYOC7wEAeYHsAJE4zkAv0gHgdmhh7Iz4dFQII9ikGBt4JqNKH2/Ho5bEoQOIxFzBwPECRf9mL\n",
       "RzPfDJQw4glgeIEi/2gZPs1aCagCSxgqgeTxoifFYCdJL4FJHJ/OwBeDymLc5QCXhWiwZNgLdIEB\n",
       "bzvHAqAg90a4sQauDOwfUFm74QEG03CLoQ3o+wPMf1hA3mdvPwBzZMIsBu4NqKyKGnhwQTVkMIQA\n",
       "jYJKAyOgGaqdhyGcgb8AlcVwwwZmN1SDPEg3A0wamH5WQqOA5Q+DvAAaiyFrHsx2iAZ5kMsZ4NJA\n",
       "tYsgTM4FDKUMaCwGBi9FKAOiwQMUamwH6hnYYT5m3A0OWW4Fhk0QAQQLFClbwC6EargFDHUG/4T9\n",
       "DG8RsQo2n1OB5S8Dzy8YC5EgQJbCNEwG2s5wqPz4XPSMxqNe+Y+BoeMAjIUCYBoWoqdUBAD6F+hE\n",
       "GAtrqm/AyCVQoMVwHuh/ZjgLGwDmEoZ9SFmuAwTAObSXYTsoRcJZQJtWgGVRcyiO0sG9EqTsApyF\n",
       "DYDsJbtk4n3AAADOuHrHvTzwVQAAAABJRU5ErkJggg==\n",
       "\" style=\"display:inline;vertical-align:middle;\" /></a><br>"
      ],
      "text/plain": [
       "defaults.assumptions: (x <= y, y <= x)"
      ]
     },
     "execution_count": 3,
     "metadata": {},
     "output_type": "execute_result"
    }
   ],
   "source": [
    "defaults.assumptions = symmetricLessEq.allConditions()"
   ]
  },
  {
   "cell_type": "code",
   "execution_count": 4,
   "metadata": {},
   "outputs": [
    {
     "data": {
      "text/html": [
       "<span style=\"font-size:20px;\"> <a class=\"ProveItLink\" href=\"../_axioms_.ipynb#lessEqDef\" style=\"text-decoration: none\">&#x22A2;&nbsp;</a><a class=\"ProveItLink\" href=\"../__pv_it/8a6931b3459dd6caf1accea85f4862009c9b14370/expr.ipynb\"><img src=\"data:image/png;base64,iVBORw0KGgoAAAANSUhEUgAAAUcAAAAVBAMAAAAnVjEQAAAAMFBMVEX///8QEBCIiIhmZma6urrM\n",
       "zMxUVFQiIiJERETc3Nzu7u6qqqp2dnaYmJgyMjIAAAAcRTyBAAAAAXRSTlMAQObYZgAAAz5JREFU\n",
       "SMfNV01oE0EYfU3z1+2m7UHvSwu19GIvVUSpwYLFS38u4kUoxSJeSvAHEav0IJIclBXBloq6RWil\n",
       "FAn0pAcp8SBE0IBCKSgEioqKEkRB8eLOzszuzOxskt588Mhm8t43MzvfNzMBotBWoYzCE03bPcZm\n",
       "LY3ic1ZJw3uN6BFjFJJ2qMmYo2za0ig+50vS8EUj+swoYc94MKJqyNJhU0aBWhLe8zh08RUx5wJ5\n",
       "65rZZwYoJd8LS/hWCnneMEpo/6BYkmR8GQvh+DJKATscwCyGJSmbUsyg/VIKLYU8lxilyZ6zFUti\n",
       "koR3EIqvYClgpry6Oq+RzDMKY5yR59KRVcsgRykiNuuELGSRhxGKH0qebMDf+fysRtLDaHSfOeKt\n",
       "UuImH5TRY+GWA1NdrNgApW8B1s5qLOsuC1DjC1kViDmnmUPBDcY1bFpXSUPerxkz3oW97hp4ZfDq\n",
       "O8E2eUxXKH0LHl7RWVLujOegxDe9ON8HZDHnsK5OgcuMZbx2jnmF3c9/uttaRd6tiJyaxkVK35L8\n",
       "qrXELCSzUOMHEMScKcR0W+ouRofoPWyW2YPTYuGH+zZqiqUlS+lblv1BShYjh8d+H0F8aMScZiWF\n",
       "OoME0VM8O8AexpzErzqDDCy3+XLLloN0d1bjIyzmbKseJ5vRYK+bc/FeujcIyw2iZxidpp9DiHW5\n",
       "4lyQkx/F5RYsvHAkC+4j5/fBxSwnJ2UxJwqn3DRxZlLuOzA7nQmlcJ7GavCz8cQ17+M60pO8CgTw\n",
       "whEtfAuSLOmTlt+HFJ8hEHNiPUeOqm/k18UR9DHhc8r433RNuAbc8Up8H8bcptYNJTbbL2QL28wl\n",
       "S+K0w/tQ4lMEYk50etP64/18CFNMOEJpTPX3hK4fy92HySk9rjSztVEs9FiULdt+Hw3icyJDppWo\n",
       "eef+eeyOPhYFDLlcaepY1FoWgz7qi1fEfh6YVRMLDi7Ea3UuGPwSVTV+Nn/BqGNpHL8kmpbflsqY\n",
       "KOJon18NBUhHkfHpIgF59alK2tJe1dI2pea6orcUUF/MKaJo2OlK40tvvHsQ2tFEX3ojLI3ia2bd\n",
       "bic3Rpv++7C1878PWzv5+7AlUEwRxN9t4D/EPz5FQJYMbhovAAAAAElFTkSuQmCC\n",
       "\" style=\"display:inline;vertical-align:middle;\" /></a></span>"
      ],
      "text/plain": [
       "|- forall_{x, y} ((x <= y) = ((x < y) or (x = y)))"
      ]
     },
     "execution_count": 4,
     "metadata": {},
     "output_type": "execute_result"
    }
   ],
   "source": [
    "lessEqDef"
   ]
  },
  {
   "cell_type": "code",
   "execution_count": 5,
   "metadata": {},
   "outputs": [
    {
     "data": {
      "text/html": [
       "<strong id=\"specLEDxy\">specLEDxy:</strong> <span style=\"font-size:20px;\"> <a class=\"ProveItLink\" href=\"../__pv_it/a69d21b9cead2c20f0861279f8f6ce401339071c0/proof.ipynb\" style=\"text-decoration: none\">&#x22A2;&nbsp;</a><a class=\"ProveItLink\" href=\"../__pv_it/2916e43f7d5623f5c28548f18eb152e331df17740/expr.ipynb\"><img src=\"data:image/png;base64,iVBORw0KGgoAAAANSUhEUgAAAQcAAAAUBAMAAABysOUVAAAAMFBMVEX////MzMxUVFR2dna6uroQ\n",
       "EBCqqqqIiIgiIiJmZmYyMjJERETu7u6YmJjc3NwAAACgK8IjAAAAAXRSTlMAQObYZgAAAqhJREFU\n",
       "SMeVVs1rE0EUf5tsm627qbmLGE+KB+nJqBTamx8H20P/gFwtIose0kCgOVXxINGDSKEaPNkeiogn\n",
       "i3WplBa95BgPhiAqRRQiiF48+GZmJztvZj/SB7/O9OX9fvN23nwBTHYg0W7G+H6GGJWSpc8JH5Jj\n",
       "INc3XN4LgZEpWfqcsKn/slSKRmwbvCN9gSQTFIv3udAmpAczFFua/7yv/FcxeB9DEFssaZQccxSZ\n",
       "kq5PrSLg0K+afExKuGvQ7odQrftEp1hl/OMEYOhrtitwQHM4U6WTP6svs6YAqd+0SWFFuMI6B2k5\n",
       "8GBEHbt7t77c5kWwXstBvboPXwPI65NZaAl4tbOXKrR+hHIdsc06RF+pehSMeIOOqeIdh6+nrWFt\n",
       "8/Y8LGNFufviBrN11nU7Au+g69/jasP6EYqDX8T3kKqf5zobLRqMWEFHkP9n89ItNWQS3ybasAUw\n",
       "rs08OFWBaZgJrjFHVD9CKfiQ47NK9CNTghELmCm4cuN3ZXmDMR/+4tcMtCTGZgUCJsEmIkqCULwm\n",
       "vOdeqg8xwYgF5jo6rNiiXOhzgfUrJQlgEtp2IpRHcE4moeqDGYxYYZ4T0T6/elK0q1CYB7Cb0Zp4\n",
       "ppYDmIR2sKgU+A6iVfXDNVGmwQhcOOPBMhQCmcWxV7x5CW5ZrjLF5MK8URhAQ9uihOIeF7kZ+qAH\n",
       "Iy7gzFTfqlfSZ572Q5jDsSamNG64p+w/7iC6mcLDilCs02JYUx+0YMRlgJ3a3ppx1e3UnrJboqS5\n",
       "w/nzTjXqn/Rjm1LWRZOtj0g+VlcR+yMd27GUH+GeztTfT7xgcm3v9+gXWAolW78iD9dwoT+/y4zN\n",
       "p9Nx/dir3O0LmJZA2Yb0YE6If3TYtQcQO1ryoyaBkqXPCWnPr97hn3e9wzzvegL/AUsLB2nv6dCS\n",
       "AAAAAElFTkSuQmCC\n",
       "\" style=\"display:inline;vertical-align:middle;\" /></a></span><br>"
      ],
      "text/plain": [
       "specLEDxy: |- (x <= y) = ((x < y) or (x = y))"
      ]
     },
     "execution_count": 5,
     "metadata": {},
     "output_type": "execute_result"
    }
   ],
   "source": [
    "specLEDxy = lessEqDef.specialize({x:x, y:y})"
   ]
  },
  {
   "cell_type": "code",
   "execution_count": 6,
   "metadata": {},
   "outputs": [
    {
     "data": {
      "text/html": [
       "<span style=\"font-size:20px;\"><a class=\"ProveItLink\" href=\"../__pv_it/b9caffc1a9ba45882409b002d3466d2f0d2b1b990/expr.ipynb\"><img src=\"data:image/png;base64,iVBORw0KGgoAAAANSUhEUgAAAEUAAAAVBAMAAADiLT7tAAAAMFBMVEX///+IiIi6urrc3NxERETM\n",
       "zMwQEBCqqqpUVFQiIiJ2dnYyMjLu7u5mZmaYmJgAAABN0h6tAAAAAXRSTlMAQObYZgAAASxJREFU\n",
       "KM9jYGDgu8eAE7BePACieHYx4AFMqSCS7wM+NQy3QQTXBHRhxqlInJVY1ZyayEBIje08BkJqLLYz\n",
       "YFfDI9isuBAsFLIJJnnwIgNzDgPDMhCbYwPQCQwvBWaDOCyucAMWqDEwAr38HsQuC2BgWMOw/oAy\n",
       "2EsTD0CVMBfcZmBxYGDgvgA0fDJQ4ACDC1SKbxZUEQ9DIgO/AJDRCSTUAkBCH2FWsO81gIbwH4Z4\n",
       "oBR3A8g9DqB4+YoI/R1gTQy8GxjEGKDuAfmrBug6GXg8uiiAnd/A4MEA9RdQDdN3lg/MD+AmMbeC\n",
       "zWlg+ocUPjyNMrLv0GONp1H2M874ggOgi2BqErCr6GY4rwBTg5J+Ts8EAXDamMfgCE8/DDjSoaIs\n",
       "KAyYkiChRig9AwCcokxdAe2TXgAAAABJRU5ErkJggg==\n",
       "\" style=\"display:inline;vertical-align:middle;\" /></a> <a class=\"ProveItLink\" href=\"../__pv_it/327500f3862dc6b1bf39d9fd9e3ca04d64401f2f0/proof.ipynb\" style=\"text-decoration: none\">&#x22A2;&nbsp;</a><a class=\"ProveItLink\" href=\"../__pv_it/f7f41447a787c6b2a52dbe13d75a0247ec755e870/expr.ipynb\"><img src=\"data:image/png;base64,iVBORw0KGgoAAAANSUhEUgAAAGwAAAAUBAMAAACaOcVSAAAAMFBMVEX////MzMxUVFR2dna6uroQ\n",
       "EBCqqqqIiIgiIiJmZmYyMjJERETu7u6YmJjc3NwAAACgK8IjAAAAAXRSTlMAQObYZgAAAVJJREFU\n",
       "OMtjYOC7wIAT5OGWOo1bioHpAbrIjA4QaGJgWIcuUyEAZ/IswGJWOojgnYAqyGNRgMQzx6WNA9Ud\n",
       "fDNQvHoUl7YXqLq0ElD4XA44tFWCHFau5w52DuMumDKeygKGpwcYmCfg0LYXiA8z3CjoAnF2w0OD\n",
       "mSWAoR7oc3CYWK0CgZXI2tqA2IbB/oAfOBBrYNqecS5g2M3AwNaAw7YQID4AUgEGN2ygjAOsBQzf\n",
       "ga7+gEcbA0gFBGTNgzL8DzB+xKOtDRwUH+GCXooQehYDewADA0sDwm+L0IMkh/0DA9xX0lvA1CYG\n",
       "bgVYkGCxzRJo5DfuD0gJ+hE4OCcx+AOFOA1waPMAxpF6TeVddMlD5fOB6YdLAFObL5bEhQRmAfEJ\n",
       "XJK8E7BnmQU8X3AkZQjYh5T6V4BzE8hhHBe4C3BkHHzZlKV8IpDkxukDvIXCPVwSAJ92W9rXI5k2\n",
       "AAAAAElFTkSuQmCC\n",
       "\" style=\"display:inline;vertical-align:middle;\" /></a></span>"
      ],
      "text/plain": [
       "{x <= y} |- (x <= y) = TRUE"
      ]
     },
     "execution_count": 6,
     "metadata": {},
     "output_type": "execute_result"
    }
   ],
   "source": [
    "specLEDxy.lhs.evaluation()"
   ]
  },
  {
   "cell_type": "code",
   "execution_count": 7,
   "metadata": {},
   "outputs": [
    {
     "data": {
      "text/html": [
       "<strong id=\"specLEDyx\">specLEDyx:</strong> <span style=\"font-size:20px;\"> <a class=\"ProveItLink\" href=\"../__pv_it/6bf647c35ddaabd63cbd89cd3a57539ca15a4f800/proof.ipynb\" style=\"text-decoration: none\">&#x22A2;&nbsp;</a><a class=\"ProveItLink\" href=\"../__pv_it/aea8077a00d05c2b3c9b31a837585970fa3be7870/expr.ipynb\"><img src=\"data:image/png;base64,iVBORw0KGgoAAAANSUhEUgAAAQcAAAAUBAMAAABysOUVAAAAMFBMVEX///9UVFTMzMx2dna6uroQ\n",
       "EBCqqqqIiIgiIiJmZmYyMjJERETu7u6YmJjc3NwAAAC+aOQFAAAAAXRSTlMAQObYZgAAArVJREFU\n",
       "SMeVVj2IE0EU/hL3TOImMdgoFpJexKsMimAaOW28KwQbi2sFkW0kBA4MCp4KkdPiDtKYExFiIZ6N\n",
       "xaGsyOF5FqbUwhAL5RSFIOI1Kr6Z2WTfzP7lHnybzez7vn07782bAYpdRNqlkLEfHsalJOlLwtto\n",
       "H6T6gaH8E4WxKUn6kvDYeJC5yt7YDvB29RWiTFHS8r6MEH3TWaCwoI+/muf/KgHeBw/cdt43KSnx\n",
       "/oKDoL5uFYWs/lVfm9rftQDttgdmhZt9k5Iu0SXrIqBv2JrCpjb46aEx+VWzzBoKPH/X3CBFJOG0\n",
       "uNmMi0E6E+qUlbqDz1Lo4INRtmoHpmiedpiTmVlQeL2E4nk9fxrlAuGFuNH0WTX4zoTndLVmcEU8\n",
       "sZ/6pYH3zi2aaVlmxx4J60iXrsLkSWQGYuBNM5SSpZTINcT1mQ5zJlwHvuTaWJWfOT+K9zhOuGeo\n",
       "5BrGTGRnJYqzLdjiJSk/fxol4yAl88L1mTFnwlnAnXCwpUpslF5X0dIDgzxRlcjjHHaL4n/pB6FR\n",
       "8g1syFFNH2HOBHLCtJv+6S22zqiYt+KCgPUHh8vmcuKURRwZBsH0EeJMoOlCC5kZ75G1XFY3imY1\n",
       "/Fwus3SAZviy2Vg4Bd+gfrk+02HOBCocrMAujZRWZSovUtnNDauM2bAwibBiLFGdYh9y4BWmpu8Z\n",
       "cyYcpZE7mPZ3meIeEeFveyB2ntykQfbWFHIl66/erAxKep8KLaCvJpw5E06J6qrdM/pafu9c/aNo\n",
       "JmUjCG/+yKH+T2/bJqWjfpL1CaqttiI62np028614ynfvTWdqL8uN5hUO/8rZoMJ3cD24111LEqy\n",
       "fkU212zXVkW0cUNY/FZu9yWaeBa3lTNj+pFbOR06rNrdiEDtyEPNVL08JiVJXxLijl+97R/vets5\n",
       "3vUU/gPlJAYmXfTw0QAAAABJRU5ErkJggg==\n",
       "\" style=\"display:inline;vertical-align:middle;\" /></a></span><br>"
      ],
      "text/plain": [
       "specLEDyx: |- (y <= x) = ((y < x) or (y = x))"
      ]
     },
     "execution_count": 7,
     "metadata": {},
     "output_type": "execute_result"
    }
   ],
   "source": [
    "specLEDyx = lessEqDef.specialize({x:y, y:x})"
   ]
  },
  {
   "cell_type": "code",
   "execution_count": 8,
   "metadata": {},
   "outputs": [
    {
     "data": {
      "text/html": [
       "<span style=\"font-size:20px;\"><a class=\"ProveItLink\" href=\"../__pv_it/2be994308f32df552c07fccfc2ad92c0857862ef0/expr.ipynb\"><img src=\"data:image/png;base64,iVBORw0KGgoAAAANSUhEUgAAAEUAAAAVBAMAAADiLT7tAAAAMFBMVEX///+IiIi6urrc3NxERETM\n",
       "zMwQEBCqqqpUVFQiIiJ2dnYyMjLu7u5mZmaYmJgAAABN0h6tAAAAAXRSTlMAQObYZgAAASdJREFU\n",
       "KM9jYGDgu8eAE7BePACieHYx4AFMqSCS7wM+NQy3QQTXBHRhyQAkzkpsanhWCjAQUMN88wEDATXM\n",
       "3QUM2NUcvMjAnAP2q7cCTPKghJEU0NZlIDbHBgaGBWoMjGDvucCdy7OAbyInUOo9iFMWwMBccJuB\n",
       "xQHsJRmYGq4DXH+YDBgYuC8wMIRMBuphSGTgh/jm5RqYOVBdDJ1ACTWg8Ux/GOKhtlRfhpkE0cXd\n",
       "AHIPUDnvBgYxmJR2K5QB0fUe5i+WBgYPuG9DnEAk+wF5BsYDUH+B1PA2MP1DBIkFyAD9An8GO+Tw\n",
       "4WmU/YwWaScED957gBrOQBdhBxA1CQwM3QznFfCpAaWfeQyOkEDZORMEAtDTDwMwHSrKBuBKh0lg\n",
       "ip1QegYAItxIu9pko1gAAAAASUVORK5CYII=\n",
       "\" style=\"display:inline;vertical-align:middle;\" /></a> <a class=\"ProveItLink\" href=\"../__pv_it/a212b939ab9ebebfcd523d1d4d0420545ca9ac900/proof.ipynb\" style=\"text-decoration: none\">&#x22A2;&nbsp;</a><a class=\"ProveItLink\" href=\"../__pv_it/a783b368312bae35ed05494f40c439b485a851b40/expr.ipynb\"><img src=\"data:image/png;base64,iVBORw0KGgoAAAANSUhEUgAAAJgAAAAUBAMAAACDnumxAAAAMFBMVEX///9UVFTMzMx2dna6uroQ\n",
       "EBCqqqqIiIgiIiJmZmYyMjJERETu7u6YmJjc3NwAAAC+aOQFAAAAAXRSTlMAQObYZgAAAglJREFU\n",
       "OMuVVD1IHEEU/uKt3p67tx4SCFiEs7bQUiGFTdDurhBsLLYMVishnFdppY0Gf4rIgXERKwvxbCxE\n",
       "XasLWuS6qNUVSUgjiAg2Kr43u3ebGdkRp3gzb+abb/f9fAM4dSSNjoa6cwU9+Cz5HO8V3959Abyj\n",
       "OT8VNs+mjU1nQw/OLil7k/l4nfLYdrP5xeZCw8VgU/nY+ff/wyqy7WWzwOarjozA/+Sd6Q+Su9UM\n",
       "zuAAnFkdGYHLRFn28CcQ5INedFCb+v2Z1kOiTkRkcQBpWtS+wZlQWFrgQwrWKGJGcK0128QeyM6b\n",
       "PnApPPqhPp4tOh74iPQ1Z2hbjCUJPAf8zfg4YHCP20pmkLo36Gc+Ca8EvOXZdOG4FVhKg8TgMSBo\n",
       "93DHX4jJ7OhGv/B+wPZ5bh+mg3F0eUrmW2AiQyFou2HPWYvVEN4IyTJuyo3IYNyjP6+mvgmmMFFB\n",
       "ugi5ANGNUbF2fBNRmKCUfEGcs5wEpgKgCisnt0ZHMIN00CwA9kTLigIQsqqqsgXm4i+jUJebtuAe\n",
       "C1Gvhpu9C2GmqXaZnPGgkMVgDuSktNGQ5XRSqq0z/2a41xlqzqAesd+VHxWyGBzKqZKgkKjlnSCc\n",
       "hZwyfiKYhP7Gt28TtSsNEnoPfg4ng49g1i1P9wTFg0S1iH3Ne3UGo7SScH70/HEcKec1YM2znX3N\n",
       "s03gJ5qFlStRMNHdAAAAAElFTkSuQmCC\n",
       "\" style=\"display:inline;vertical-align:middle;\" /></a></span>"
      ],
      "text/plain": [
       "{y <= x} |- (y < x) or (y = x)"
      ]
     },
     "execution_count": 8,
     "metadata": {},
     "output_type": "execute_result"
    }
   ],
   "source": [
    "specLEDyx.deriveRightViaEquivalence()"
   ]
  },
  {
   "cell_type": "code",
   "execution_count": 9,
   "metadata": {},
   "outputs": [
    {
     "data": {
      "text/html": [
       "<strong id=\"xlylx\">xlylx:</strong> <span style=\"font-size:20px;\"><a class=\"ProveItLink\" href=\"../__pv_it/ce191dd8f855315705bd92f5642c6ab6aabde7690/expr.ipynb\"><img src=\"data:image/png;base64,iVBORw0KGgoAAAANSUhEUgAAAKEAAAAVBAMAAADcJJPmAAAAMFBMVEX///+IiIi6urrc3NxERETM\n",
       "zMwQEBCqqqpUVFQiIiJ2dnYyMjLu7u5mZmaYmJgAAABN0h6tAAAAAXRSTlMAQObYZgAAAdtJREFU\n",
       "OMtjYGDgu8dAJcB68QCI4tlFvBbmB7jlioGYKRXE4vtAvIlH8MhxGACJ2yAW1wTiTdyMR45nA5BY\n",
       "id1E9q04NPFdwKdyIU4T+eYa4DCR0wCfymO4TGScdQCXxyzxquRWQDKRR7BZcSFE/NREaLDICjCY\n",
       "oZktiyIMUwnTzQUMk2XgOAKG6CmGlwKzwbJn50GVcTElMMijudEPWRiuEqabD2jQexC/LICBYQ3D\n",
       "+gPKYOO3w5SZ825gcIEwb84EgllAxnQkYYRKmG52oGe5ge4MmQwUOwDTfAKu7gCbAMNHJPdZAHES\n",
       "kjBCJUw3KyhhdwowMKgFgLgwzbZwv+gfYP2KaSJCGKESqhtkIncDyPkOIB5cMzy8bzMwJqCZOB1F\n",
       "GK4SqptpAjQcQXFdw/iBQQYtTXgwsDSgmeiHKgxTCdUNipllUBOZvrN8QBQC0HR7g0H/AcP5DXB3\n",
       "APFamDCKSphu3gWI9MjTKCP7Dj1vnRC8b8DAOQc59WjChFFUwnRzB+DM1wzwkAT6CDMX3sah/CQ8\n",
       "FyZgL5w28HwCUgvQSgqoMDYALylwlI+cD1iASYtHAEXQGSqMszSDuB97Gc4keBVkHXqJCxHGBliA\n",
       "QcKUBAnee1SpFR5D6xkAIg6XapOrDv8AAAAASUVORK5CYII=\n",
       "\" style=\"display:inline;vertical-align:middle;\" /></a> <a class=\"ProveItLink\" href=\"../__pv_it/765c69ee9e1104296dae619883cafed31fac66df0/proof.ipynb\" style=\"text-decoration: none\">&#x22A2;&nbsp;</a><a class=\"ProveItLink\" href=\"../__pv_it/0315bb113f63c663c39d4bb5b8b17a6f1371e09c0/expr.ipynb\"><img src=\"data:image/png;base64,iVBORw0KGgoAAAANSUhEUgAAANUAAAAUBAMAAADo2mWhAAAAMFBMVEX////MzMxUVFR2dna6uroQ\n",
       "EBCqqqqIiIgiIiJmZmYyMjJERETu7u6YmJjc3NwAAACgK8IjAAAAAXRSTlMAQObYZgAAAmNJREFU\n",
       "SMeVVr9rFEEUfrpnbs+bXQ9bizshIKQIKQ1YXCOm00LQwmLLYBUUiVd5IJoTjCykSBCUCwQLCxEb\n",
       "K/WIxWEsvE5jdYWFFoJ/QBRn5r03O7s7c8c9ePt25n3fvvnx5s0CxCPQ6pG5cbHnN0wElwmZfCb1\n",
       "yWKhLV5PAS86+o8l2rwi9ckB2ZjsyfEU8IFrwmvqGaWoeddu9h6sUQwCHRa/c7ORBzOhHCsco9oS\n",
       "PbI6xBW0Zx6jfVL4zLfnkAczoRzrJ6kl1fsDu7mHZn4dl7KbB9+9AEXwni9Wh3R468dtnPzHDQIM\n",
       "tyG+AbCMI+6HOJDUOFTveV4w4ivwsi/WO1SxFG2EfdXxaZMBSxeh+gfgO+5EEuhcqo+MQ7J2+LAw\n",
       "X4E1IXipJbVjPUQNBsFRRe3S8RccKk6eQl0m+KpuhRDroYSJcQAsJCYpiK/Aq755XUUVxIZ9E0vA\n",
       "NTglMU3d+gpwVtkTbeMAkcVifhOY4I8FyJbyy6xh5QiaDabKLDxNsdghp76TFRzkT4xFawjEtnOj\n",
       "1oc70qxocEqnWK4hO3K5QfwVJtB+tRy5MTe4B9VBPufrLXjDW63iqHg6N8hh5zzzTW645kVJejn5\n",
       "kBVVOsu1VuWvNFv6JNM6QpAah32Wmb/FBFcsmvT++vDZqFCjxLnOP2n0+7x6qNNc6RqHXaOYv8sE\n",
       "S2q93oPrvV7LWaMylExzoQtFW1drU6NqfTdBgUXXV5mdtRdlAb60y6X0kB0u8dVekvekZdmEt44r\n",
       "oj4mxyx3ytS78lKn4RiHvCvRMdvAsRRN/geIZvkHUODIe5f+B4mNvL5ID2QHAAAAAElFTkSuQmCC\n",
       "\" style=\"display:inline;vertical-align:middle;\" /></a></span><br>"
      ],
      "text/plain": [
       "xlylx: {x < y, [not](y < x)} |- ((x < y) and (y < x)) = FALSE"
      ]
     },
     "execution_count": 9,
     "metadata": {},
     "output_type": "execute_result"
    }
   ],
   "source": [
    "xlylx = And(Less(x,y),Less(y,x)).evaluation(assumptions = [Less(x,y), Not(Less(y,x))])"
   ]
  },
  {
   "cell_type": "code",
   "execution_count": 10,
   "metadata": {},
   "outputs": [
    {
     "data": {
      "text/html": [
       "<strong id=\"ylxly\">ylxly:</strong> <span style=\"font-size:20px;\"><a class=\"ProveItLink\" href=\"../__pv_it/9c4b0378e0a74f19e1af0a3ce84c0ba66d14406c0/expr.ipynb\"><img src=\"data:image/png;base64,iVBORw0KGgoAAAANSUhEUgAAAKEAAAAVBAMAAADcJJPmAAAAMFBMVEX///+IiIi6urrc3NxERETM\n",
       "zMwQEBCqqqpUVFQiIiJ2dnYyMjLu7u5mZmaYmJgAAABN0h6tAAAAAXRSTlMAQObYZgAAAgRJREFU\n",
       "OMutVTlIA0EUfdlEo+tk3TSiQlAbwSrBwqMRRQsrtbD3ADuLVILYRKzERrEQLcRKEAwExcZqAxaC\n",
       "hYoIxkBMKxZeWCnin+w1u2SWFA7s7J8/b9+f+dcC0Er4p1F3a/AXO6/9k3BZuhVN0aQscFF7q53x\n",
       "ImBvjU9FPqmbtTOeBuxd8emoOuPKlOQj7SYAqupSxuc72TEaUwFQNitjbDuWXmwQQdATkTF/i/Ci\n",
       "aelItwD51t523cuQ8KgdKEvo6DOQJfGQrxtywEE3QpWQs4KdH+xA22rMeRknRLULVZVZdAAvJL7y\n",
       "9dIUwukiIsN8sZF2HG2oP4rpt8IujT0SdkS1C+2P5TAGLJPYRLGb3iZzmEMzvwJzYcyyYY8BeuYF\n",
       "tQA16nW8AzNcXieabkoA5QczlTwIF9yqaNarMLpqAZo06r5MxqYM9yPZpGO3wBcZy4bIuONRu9Ai\n",
       "QpQ6PbYfeawjGYz7UiJqdCBkeBknfGo7e8Y5QSUyhzZjLKP8+tI2mZ7EENi301foydpqX4Y/IEke\n",
       "eBTzka0mPn2ldRnPlwi2KxyT38tSe6vwMv5E4T/z1kwsJ2lSRlAVOoN6Dtt0GMmpG7jurA5VgzsF\n",
       "zBphH2Kn4P1xHyMS43nParR6AylHdKubVfojqId3JWQNrFxDx1Xi95Y1Zd50Vek//gpayvrP/AEj\n",
       "T5F/DRUv+wAAAABJRU5ErkJggg==\n",
       "\" style=\"display:inline;vertical-align:middle;\" /></a> <a class=\"ProveItLink\" href=\"../__pv_it/0206db8169584ad277ec4f3be6a9c071938974a30/proof.ipynb\" style=\"text-decoration: none\">&#x22A2;&nbsp;</a><a class=\"ProveItLink\" href=\"../__pv_it/8c6e40ee32e8abab6fe9bc2cda7a826cdaa862e80/expr.ipynb\"><img src=\"data:image/png;base64,iVBORw0KGgoAAAANSUhEUgAAANUAAAAUBAMAAADo2mWhAAAAMFBMVEX///9UVFTMzMx2dna6uroQ\n",
       "EBCqqqqIiIgiIiJmZmYyMjJERETu7u6YmJjc3NwAAAC+aOQFAAAAAXRSTlMAQObYZgAAAp9JREFU\n",
       "SMeVVj1oFEEUfrnd5O7c2cshgUCK46wtLp0GAqYJSeWlELSwuDKIxYrIehDIgWhOMXIxheFAXUJI\n",
       "YSFJZSHqHimCsfA6E0G4QkULIYhoE8Wd92Zuf27nVh+8fTuz35tv5s2bNwuQawOqQoY60Z5v0Bfc\n",
       "6+DLG6EqKUTabCsBXIjpT1XQPBWqkj1hc8Ie6ySA9+IWbPGn2SANyaWi/65ZgkOADnrGWQ+DpUMv\n",
       "V6ZDGpT9R8GYzZE9eZfsvcgw5u1OGCwderm+CA3I9clQc4PMiE2hrIXB6RtuFLyh4qqSsqoFn9CL\n",
       "nZYx2L3y8ar3PkEzdjI0thdKZhdmThFmZ0mCH0DuIoEnVFwvSDV9DhZxzDWZ/2zcXMo4AO9pJyoa\n",
       "5pLhfd6BfesO9r5elqONT0P6kMDooD1BaQS5bpF+zjrwnLfHKt19drUj3duLeWxlIOeg9b5Pwhn3\n",
       "LG8MbEpwrtIEY4vA86p1nSN1By34xRfjczF0Bihh6x3AcW4HpzwwTQugtemDz8OwReBSAheU3dR3\n",
       "nOCaX0OGLZ/Ly8ITkgtwWly+dmOoH0GpmMAlYghNSFOu+rmBzgCzCG6IU8xjCDStUG54e3BNgGcD\n",
       "+5WPyQ3YBiMfzvkhdxHSrthqzsP5MDcue1mwEMl5z3sbArkRty6ZpCtQbofPcrnyCuvsKp5kEUfQ\n",
       "GqD/NA79ai3Ocjav/xbgVRWXXHTLftwJ16iWvfuQj4glaIQ/+GnWa8BGF6ofojWKjVb/CPB6hChb\n",
       "r9+8UK/nAzWqGV9OGRYKzIhUXI3yh3QIzGoqhKi9Aw77EQ+IltKDeNgYvJ1S114hL1EzbcPqf6dI\n",
       "MeLvlGV41udOCd2Vun2/z1z+4a6cqRa7E1dKwj+A+T//ABxsKu/Sv7lNwJ5ucdQ1AAAAAElFTkSu\n",
       "QmCC\n",
       "\" style=\"display:inline;vertical-align:middle;\" /></a></span><br>"
      ],
      "text/plain": [
       "ylxly: {y < x, [not](x < y)} |- ((y < x) and (x < y)) = FALSE"
      ]
     },
     "execution_count": 10,
     "metadata": {},
     "output_type": "execute_result"
    }
   ],
   "source": [
    "ylxly = And(Less(y,x), Less(x,y)).evaluation(assumptions = [Less(y,x), Not(Less(x,y))])"
   ]
  },
  {
   "cell_type": "code",
   "execution_count": 11,
   "metadata": {},
   "outputs": [
    {
     "data": {
      "text/html": [
       "<strong id=\"xlyeqx\">xlyeqx:</strong> <span style=\"font-size:20px;\"><a class=\"ProveItLink\" href=\"../__pv_it/475dd04a926e31f72c9f308cd748ebfa166dd5160/expr.ipynb\"><img src=\"data:image/png;base64,iVBORw0KGgoAAAANSUhEUgAAAKEAAAAVBAMAAADcJJPmAAAAMFBMVEX///+IiIi6urrc3NxERETM\n",
       "zMwQEBCqqqpUVFQiIiJ2dnYyMjLu7u5mZmaYmJgAAABN0h6tAAAAAXRSTlMAQObYZgAAAd9JREFU\n",
       "OMtjYGDgu8dAJcB68QCI4tlFvBbmB7jlioGYKRXE4vtAvIlH8MhxGACJ2yAW1wTiTdyMR45nA5BY\n",
       "id1E9q04NPFdwGfdQpwm8s01wKGH0wCficdwmcg46wAuPZZ4g4RbAclEHsFmxYUQ8VMTocEiK8Bg\n",
       "hma2LHZhqG4uYJgsA8cRMERPMbwUmA2WPTsPqoyLKYFBHs0VfkjCq3eDwF6wIyC6+YAGvQfxywIY\n",
       "GNYwrD+gDDZ+O0y3Oe8GBhcI8+ZMIJgFZExHEYYDqG52oGe5ge4MmQwUOwBTdQJu4gE2AYaPSNos\n",
       "gDgJU5gBoZsVlLA7BRgY1AJAXJgqW5ivGfQPsH7FNBFdGAI+wkzkbgB51AHEg6uCxQww+TMmoJk4\n",
       "HUkYEo47IPkZrJtpAjQcQXFdw/iBQQYt9XgwsDSgmeiHKQwCUN2gmFkGNZHpO8sHRCEATeE3GPQf\n",
       "MJzfAC9XgHgtTBgFwHTzLkCkR55GGdl36LnwhOB9AwbOOch6NWHCqMkRqps7AGe+ZoCHJNBHmLnw\n",
       "Ng7lJ+G5MAF74bSB5xOQWoBWUkCF8ZYUOMpHzgcswKTFI4Ai6AwVxlmaQdyPvQxnErwKsg69xIUI\n",
       "YwMswCBhSoJExD2q1AqPofUMAPeAlGW5Ehz/AAAAAElFTkSuQmCC\n",
       "\" style=\"display:inline;vertical-align:middle;\" /></a> <a class=\"ProveItLink\" href=\"../__pv_it/2d266e1efe505b22351dba207a470f8b4f980ded0/proof.ipynb\" style=\"text-decoration: none\">&#x22A2;&nbsp;</a><a class=\"ProveItLink\" href=\"../__pv_it/33b8bd198dfaa062818a14f08cbd475b9cfd8cd60/expr.ipynb\"><img src=\"data:image/png;base64,iVBORw0KGgoAAAANSUhEUgAAANUAAAAUBAMAAADo2mWhAAAAMFBMVEX////MzMxUVFR2dna6uroQ\n",
       "EBCqqqqIiIgiIiJmZmYyMjJERETu7u6YmJjc3NwAAACgK8IjAAAAAXRSTlMAQObYZgAAAkdJREFU\n",
       "SMeVVr9LHFEQHrOnt+ftbiRtijtBCFiIrd01IXaxEExhsaWlJAS5ygOJXiDKgUUgEDhBUqQQsbFK\n",
       "PLQ4YopcF0x1RYqkEPwDVHzvzczbfbfv7XEfzM7uznx878fsvAWIeqDMgYn+4JtryE3OEhL8JHNh\n",
       "buA5OB6SPGd5PxYrd0TmwiX5iPxkf0jypW3C6/IattDM0EFy762TBiVd5UipZCZktfw+Whrh+9SL\n",
       "YAn90w/o9/K0ZDITslr/yFIobnXSj4foZjZwKRt5Wir50KVVJ+u+/vsGJ3+xQwndjxCtAizgiNs+\n",
       "DqSlAwaIL5MXXFrf0IL5cMdvyxc/djlh/jkUbwD+4E7Enqqlck8HwPuqIDeS+TJZEVIxrbWN5nW8\n",
       "24LcpUdfWCqKP0FZFPiaevIhUkPxYx0wioL4MnnNNa9ltIDZ51orgBV4LHIq6uk3wLT04zUdMIqC\n",
       "+BVgglsLNPu/XsPCLVSmmCqq8AlpccAE8nO1aA0hYevaKLXhrXCLKrlFX7FYQw7wnlQh4S8ywYiZ\n",
       "tTHR2YRix6z5chVOeKuljtRTtUEBY+DE17VhmxcV6cv4LGmq9C2XqoU74fbVl0zrCF5LB9Jg/j4T\n",
       "bFo06fON7ufeQI8KntXvhVP3M/Iiv+ZCQwfSYP4BE1IoNZvvXjWbVWuPSrJEmQeqUdRUt9Y9qtR2\n",
       "9KgGE2yw9l7ELPyqZVvpFQdG6b2E72RZ7MKp5Ygo9ykwypky9Kx8UZ+yjEOclRgYbeDYivL/AcJR\n",
       "/gFkcug8Sx8Arma6stqipbMAAAAASUVORK5CYII=\n",
       "\" style=\"display:inline;vertical-align:middle;\" /></a></span><br>"
      ],
      "text/plain": [
       "xlyeqx: {x < y, [not](y = x)} |- ((x < y) and (y = x)) = FALSE"
      ]
     },
     "execution_count": 11,
     "metadata": {},
     "output_type": "execute_result"
    }
   ],
   "source": [
    "xlyeqx = And(Less(x,y), Equals(y,x)).evaluation(assumptions = [Less(x,y), Not(Equals(y,x))])"
   ]
  },
  {
   "cell_type": "code",
   "execution_count": 12,
   "metadata": {},
   "outputs": [
    {
     "data": {
      "text/html": [
       "<strong id=\"xeqylx\">xeqylx:</strong> <span style=\"font-size:20px;\"><a class=\"ProveItLink\" href=\"../__pv_it/7a0a5aadf60f501c9879639bb8e196640e5b3cf80/expr.ipynb\"><img src=\"data:image/png;base64,iVBORw0KGgoAAAANSUhEUgAAAKEAAAAVBAMAAADcJJPmAAAAMFBMVEX///+IiIi6urrc3NxERETM\n",
       "zMwQEBCqqqpUVFQiIiJ2dnYyMjLu7u5mZmaYmJgAAABN0h6tAAAAAXRSTlMAQObYZgAAAddJREFU\n",
       "OMtjYGDgu8dAJcB68QCI4tlFvBbmB7jlioGYKRXE4vtAvIlH8MhxGACJ2yAW1wTiTdyMR45nA5BY\n",
       "SaKJfBfQBNi3InEWkmEipwGaDXORBY6RYaIlKpdx1gFkLrcCkok8gs2KC9GCRVaAwewAqpgsivCp\n",
       "iTClEN1cwDBZBo4jYIieYngpMBvEWb0bBPaCLGJKYJBHc6MfsvDZeTBhqG4+oEHvQfyyAAaGNQzr\n",
       "Dyij6jbn3cDgAmHenAkEs4CM6UjCHNvhSqG62YGe5Qa6M2QyUOwATDMCHGATYPiIxLcA4iQk4RMI\n",
       "E6G6WUEJu1OAgUEtAMT9iBEN+gdYv2KaiBC2nYeQ/AgzkbsB5HwHEA+qGRKOOxjAyZ8xAc3E6SjC\n",
       "8JiB6maaAA1HUFzXMH5gkEFzowcDSwOaiX6owrDUA9UNipllUBOZvrN8wCgEbjDoP2A4vwHuDiBe\n",
       "CxNGSeEw3bwLEOmRp1FG9h16OJ4QvG/AwDkHWUgTJoySC2G6uQMI5hlQQVKDmQtv41B+Ep4LE7AX\n",
       "Tht4PgGpBWglBVQYG4CXFDjKR84HLMCkxSOAIugMFcZZmkHcj70MZxK8CrIOvcSFCGMDLMAgYUqC\n",
       "BO89qtQKj6H1DAB4rpRl52kjhwAAAABJRU5ErkJggg==\n",
       "\" style=\"display:inline;vertical-align:middle;\" /></a> <a class=\"ProveItLink\" href=\"../__pv_it/d34dfa892becd2b981347e214bfb46f1e4febb620/proof.ipynb\" style=\"text-decoration: none\">&#x22A2;&nbsp;</a><a class=\"ProveItLink\" href=\"../__pv_it/a5b430a9e0d59772b458eb945c0a67276d119a300/expr.ipynb\"><img src=\"data:image/png;base64,iVBORw0KGgoAAAANSUhEUgAAANUAAAAUBAMAAADo2mWhAAAAMFBMVEX////MzMxUVFR2dna6uroQ\n",
       "EBCqqqqIiIgiIiJmZmYyMjJERETu7u6YmJjc3NwAAACgK8IjAAAAAXRSTlMAQObYZgAAAkpJREFU\n",
       "SMeVVjtPG0EQHnQG2/H5YtFS2JGQkCgslyFK4SbCHRRIoaC4EqVCIERcxU3ARRKd5CJWpERn5AYX\n",
       "CNFQJbFoLEERugQqFxQ0SPwAEmUfM+t77J7lkebm7r75bnZ3ZmcPwLkCoQaZGUbf3EOic5wwkktU\n",
       "k5Qjz/bJGOey5v2UK8wxqkku0DponwzHOF/oJrzFr3lPqlGsLYyBTtdRhzeFsDMR4rEyQ6lGsVel\n",
       "nfsg7acI/udbxJkI8Vh3qGbpSjO/J5eyEUbfvow5d02x6qiD7dudyOQHn8HZAFiSI/YzwqY9BfC3\n",
       "z4mDfO68ZIr1XapdyR9kfHb/osfliEOVV5B+ALiRmXAtUUu5KwUwVps2C/G5syBY4js9LxhrX6rV\n",
       "tx5T4bQ57hfIsQLfFE8ZcHxhXQUALLqqKJDPnTdN81qTaiM7mGd4DU+ZT1E8/QZ4xu10VQFgj2IR\n",
       "vwhEMMcCyQ5J6hGKBaKyKpzFWASwqbdHDUfyE2PhGgKyMV+H/Dbrwy4zNeHs4S5ma0hAqDaQXyMC\n",
       "5qukqY2Z/jtI98ODyZXglFLN4/B4ojYQCNY88VVt6OaFRbri/ow11Wwp9ZeZltjJuI5geQoI7mXi\n",
       "t4igi4WTPt8bfI02e3uh/o+ZjtjJ/MJ3c6qhgGCPIn6HCMExN5vv15vNUnKPYokBWzSKqujWqkdl\n",
       "fUNDaxBBJwm9dxF+VeOt9JoAU6PW9V6UH6hx+QhnmiMiN0RgkjNl7Fm5XC9oxsHOSglMNnDZipL/\n",
       "AfKT/ANw57zxgPoPFDO248+MzqsAAAAASUVORK5CYII=\n",
       "\" style=\"display:inline;vertical-align:middle;\" /></a></span><br>"
      ],
      "text/plain": [
       "xeqylx: {x = y, [not](y < x)} |- ((x = y) and (y < x)) = FALSE"
      ]
     },
     "execution_count": 12,
     "metadata": {},
     "output_type": "execute_result"
    }
   ],
   "source": [
    "xeqylx = And(Equals(x,y), Less(y,x)).evaluation(assumptions = [Equals(x,y), Not(Less(y,x))])"
   ]
  },
  {
   "cell_type": "code",
   "execution_count": 13,
   "metadata": {},
   "outputs": [
    {
     "data": {
      "text/html": [
       "<span style=\"font-size:20px;\"> <a class=\"ProveItLink\" href=\"../../../logic/equality/_axioms_.ipynb#equalsSymmetry\" style=\"text-decoration: none\">&#x22A2;&nbsp;</a><a class=\"ProveItLink\" href=\"../../../logic/equality/__pv_it/2ec3cefd5b68d70e9e028d7461f9728ae37d4c650/expr.ipynb\"><img src=\"data:image/png;base64,iVBORw0KGgoAAAANSUhEUgAAAN0AAAAVBAMAAAAwUfbwAAAAMFBMVEX///8QEBCIiIhmZma6urrM\n",
       "zMxUVFQiIiJERETc3Nzu7u6qqqp2dnaYmJgyMjIAAAAcRTyBAAAAAXRSTlMAQObYZgAAAmVJREFU\n",
       "SMe1VjFoFEEUfbns3W42e5cU2i93EEIa08RKzhDBYGOSxjoELWwkhRaiiJXcFcJaJSiSsYkSLA6s\n",
       "tDrO7gRdUJCAwoIgKBiOoKDYuH9ndr2Znbk7kXx4cPvf+3/m/vz9s4DJJkIOkz3X+B4OlhMievio\n",
       "ETwRMFkpyLnc24PlhFf08FUj+CJgMjfKuSrBYDlhm0qn2Vd5nsNsnZzn7TB5jAoDvFaetgMOsz3K\n",
       "ea4Pk8cod/f2tjT0loDZKotqh20OkxN+Nho3NXSNw635uMeUo6heXoor46nVLsxnnCTnKUhOuAQ0\n",
       "Nevd5fCsaZyg59cHZJ/o51O892/FlYkUvxNmHLzEfUBbEilITjij6zTgBseD8QgNheriDTsHTKrl\n",
       "s1sZ128iBckJNgq6t/oYBxvzcahQjO+g2FP8Y4sZJ8l5CpITvNCGeT2ssOKPHHloXA+53aUp0vUm\n",
       "ogv0ZizMrALWDGwm1RN1FKb/ntPnhOM7sDYVP9VTcOn5rSNLQfIkpHkxbi12xY53502xNblfcAfO\n",
       "urLfF4Ue5tJ+6TPqF8FJxlOk/YJn8aJFfCPm/jJmheilwEmsKMdr/XZ6NMjH20reuNtTTjKeguRJ\n",
       "yJRPzl8JdQobQrQssFs9rUwZd2OuRgO+sqrkjauVcpLxFCRPQsosOfwiUVdxPDfP6oaB8Xj0eVYX\n",
       "8ixkx4s8bDNcs3ryvC5F7vf/nNciRac/ZPddp4u1Fs7OZk3QTGCHjj/yfeRo5ztPkd5H/dZyAyeU\n",
       "71urumD4e86o9y1PQXIlZDIotc+P/D2x/2/fE/v5kDKsD20crf0BIWnW/FCMiDQAAAAASUVORK5C\n",
       "YII=\n",
       "\" style=\"display:inline;vertical-align:middle;\" /></a></span>"
      ],
      "text/plain": [
       "|- forall_{x, y} ((y = x) = (x = y))"
      ]
     },
     "execution_count": 13,
     "metadata": {},
     "output_type": "execute_result"
    }
   ],
   "source": [
    "equalsSymmetry"
   ]
  },
  {
   "cell_type": "code",
   "execution_count": 14,
   "metadata": {},
   "outputs": [
    {
     "data": {
      "text/html": [
       "<strong id=\"specES\">specES:</strong> <span style=\"font-size:20px;\"> <a class=\"ProveItLink\" href=\"../__pv_it/e5f9f179349bd056c167e8c23428adb6117831e40/proof.ipynb\" style=\"text-decoration: none\">&#x22A2;&nbsp;</a><a class=\"ProveItLink\" href=\"../__pv_it/094421dd152a6ecfd605e4d9ea1b2c0f008a890e0/expr.ipynb\"><img src=\"data:image/png;base64,iVBORw0KGgoAAAANSUhEUgAAAJ0AAAAUBAMAAABltyL1AAAAMFBMVEX///9UVFTMzMx2dna6uroQ\n",
       "EBCqqqqIiIgiIiJmZmYyMjJERETu7u6YmJjc3NwAAAC+aOQFAAAAAXRSTlMAQObYZgAAAZ9JREFU\n",
       "OMullDFLw0AUx/9tU9M2sXRzEz+CmyiC3XSyHfwAfgCRbKFQsJODg1THLMbRDqKzKBERhC4ddVC6\n",
       "KC5CELGr73JJbF6apOKbkv/73f/u3t09oDpAYuxO0D4y8H5yHrlhTNIvMvDzFD/djkmVYTo+203x\n",
       "w1JMecrAS8M04D6mHGbg72l5VOpMqHYy8BZtu2Xg1WGlMOfXafUFXg21G+YiuLQg/JoGKU3sCXWl\n",
       "J+JMfN7h0Tig6tpM1wZhDgVP7okpfQvC94G3so0rto5VrDmbwAzfXmk7zI2Hb0H4FuAUDYzYOEfO\n",
       "kHeZXqyHuQguLQgnPzSc/GestqNEP8RmDywIp/3Cgtr8rdOpB8gZlA7TxX79XFC/GkILwuk8cAmt\n",
       "xubbUV20g/MYC3Eefi4S0oLwZfo5QoM1BeVbc0WjKC+ycXQjglwkpAXhG/Rza56wV6LPtVvP4oIu\n",
       "sHG0oyAXCWlBuHxvVsKFf5j+vVkSp36Qs/Wvf/YD30LgNygNNGPqfqVN7B/SwsP7UMzjhOVp0/ZT\n",
       "aeHhaf3+5W/9nvAf5k+TRnHIIZkAAAAASUVORK5CYII=\n",
       "\" style=\"display:inline;vertical-align:middle;\" /></a></span><br>"
      ],
      "text/plain": [
       "specES: |- (y = x) = (x = y)"
      ]
     },
     "execution_count": 14,
     "metadata": {},
     "output_type": "execute_result"
    }
   ],
   "source": [
    "specES = equalsSymmetry.specialize({x:x, y:y})"
   ]
  },
  {
   "cell_type": "code",
   "execution_count": 15,
   "metadata": {},
   "outputs": [
    {
     "data": {
      "text/html": [
       "<span style=\"font-size:20px;\"><a class=\"ProveItLink\" href=\"../__pv_it/2009f9ad8cb61d8f04688b748908d66b0d9867810/expr.ipynb\"><img src=\"data:image/png;base64,iVBORw0KGgoAAAANSUhEUgAAALgAAAAVBAMAAAAHnznEAAAAMFBMVEX///+IiIi6urrc3NxERETM\n",
       "zMwQEBCqqqpUVFQiIiJ2dnYyMjLu7u5mZmaYmJgAAABN0h6tAAAAAXRSTlMAQObYZgAAAnRJREFU\n",
       "OMu1VT1oFEEUfru397e3t9lrrO4wQQgoYlKIVspGUsRuiyA24mkXsDgQrFJctLRJCBjOn3DWGrxG\n",
       "DFFhBZEYCImFIATigTYKhlMRC0V982Zmfya3lyPgFO/e7Ty+efN9770BAHsb/sO6UGbWWmH2dHLY\n",
       "1f2hD3to7A47wU2Oyo3G/2u3xn9NXd8TvNhCY86iKYwmR1kt5UMh7bxcb+8FTrhkvqhb2cehf1/Z\n",
       "M/S25rn9g88rO/a9yFVeid+PjUZLgGdr/YOnZhVab/tRGgbpZ7IcZm4e7R9c20RqSzeGBAFrcyLg\n",
       "xRtIXQFzk6h/FqHl8HmP61Fx4ISvaMSBzCorBryqgfKswSfnDu2uL8q45jBoHbBb8aIx9Km/l0V6\n",
       "ehUOMufBU7aeU2ociKrwGuaQrwE8hEf+IUJ5IlFStS0wXMgSaUZUUHOnSe5JLLhxhQ8JhCdNMi0z\n",
       "yKovo1YDcAsuwYADaZYDnGOpSUHBPUYRfsaBrwq4BMrN8U7KkGQy6lRAi/4bLnoC/Hg0c3Bz3B/x\n",
       "0z92acmBltkBLqcFwqhAULz0ATyCaMnEwOsF7m+BVg05X6ZvHIg4Z9XCBJ1G6cpKKRp1mAAhaNGJ\n",
       "Zf6Z+xMsJr4EEFULA8di038anVRbaaJiXf+Dlou3ELZ/01yqwwY78x2MKINAAgV1jhe3ZsqVHbX9\n",
       "rZnKdwTjNb16xo8Nrvxd9rH0XhlLEii5/WOz7bXwj5xtxGbYtGC9V4dWuw0uvm7CxuDuwRW0GOtA\n",
       "61svcFLV6D5yF2Gsy8iV90eF823D6TXPYSX5sRiqeIkHg83UK71NfImod7LbvZ+5D/t+Q/8BH/qy\n",
       "oQlJWtIAAAAASUVORK5CYII=\n",
       "\" style=\"display:inline;vertical-align:middle;\" /></a> <a class=\"ProveItLink\" href=\"../__pv_it/c044658682f400c64e1ed4d3f987a878bd14326d0/proof.ipynb\" style=\"text-decoration: none\">&#x22A2;&nbsp;</a><a class=\"ProveItLink\" href=\"../__pv_it/67fe26e9a363c5cce332bbfe877e3f89d271606e0/expr.ipynb\"><img src=\"data:image/png;base64,iVBORw0KGgoAAAANSUhEUgAAADMAAAANBAMAAAD2/0vEAAAAMFBMVEX///8QEBBmZmaqqqrMzMxE\n",
       "REQyMjIiIiKYmJh2dna6urrc3NxUVFSIiIju7u4AAAA6P00QAAAAAXRSTlMAQObYZgAAAKFJREFU\n",
       "GNNjYHh7Z9fNCwwogO/SBYaNDxj4JnDUsicA+ZxpYKAAYnIJMNwHUg84/3FtQNW1mSmBIRSomYE1\n",
       "gAENPGC8wPAXxOC/gC7FsP4ByxcQ7e8A5kLtOgBiqzHwCjAwMD+4z8D7AE1XDAMrUMl6g3iGHegG\n",
       "6jCsb2BgeHP3rUYDutSbu/obGHABNRziPAl8v3BIsTewXsAhxXVXBUgCAM1cLDnk3FtcAAAAAElF\n",
       "TkSuQmCC\n",
       "\" style=\"display:inline;vertical-align:middle;\" /></a></span>"
      ],
      "text/plain": [
       "{(x < y) in BOOLEANS, y = x} |- x = y"
      ]
     },
     "execution_count": 15,
     "metadata": {},
     "output_type": "execute_result"
    }
   ],
   "source": [
    "specLEDxy.rhs.deriveViaDilemma(Equals(x,y), assumptions = [Equals(y,x) ,InSet(Less(x,y), Booleans)])"
   ]
  },
  {
   "cell_type": "code",
   "execution_count": 16,
   "metadata": {},
   "outputs": [
    {
     "data": {
      "text/html": [
       "<span style=\"font-size:20px;\"><a class=\"ProveItLink\" href=\"../__pv_it/22a3cdd50c314e61732ff526f53c626d4b739a200/expr.ipynb\"><img src=\"data:image/png;base64,iVBORw0KGgoAAAANSUhEUgAAALcAAAAVBAMAAAD2lGJJAAAAMFBMVEX///+IiIi6urrc3NxERETM\n",
       "zMwQEBCqqqpUVFQiIiJ2dnYyMjLu7u5mZmaYmJgAAABN0h6tAAAAAXRSTlMAQObYZgAAAmxJREFU\n",
       "OMtjYGDgu8dAfcB68QCI4tkFIu1wq2M3IMd0plQQyfcBZIMDHnXNqFzGaS6/M5sImn4bRHBNABLc\n",
       "+Fx3Go3PzSpw5OwDQoavhBv+Fl2qOgDB5hJAlWNhesAY4EC84ZPRZF5eRuLwJEDoJzNnboAazl5A\n",
       "vOHME1AlJNegcDeByRAZhMu5dIg3nPECA8PBiwzMORCXroSFw0EJIykgey1YdA9SsGhGBKCoQAY8\n",
       "sgIMZgcYloHYHECvsgCjZ4EaA+MHsORNWGTxLOCbyAmUfg1WZ4AwPPN/EqoKBq7dYHABxGRKYJBn\n",
       "YHgPki8DuoGzgIG54DYDC9iv3QXwmDzA9YcJaGYl2EjkCOV6twBFBTIw593A4AJMU0CLQkBxyabA\n",
       "wMOQyMAP8iAPwnAeqHXxICIM5DJYhDI46KGoQAYH2AQYPgLpTqBpagFgwxmY/jDEgwOS+SYiDYOt\n",
       "gxhuguxyBgcOFBUoQP8A61egyxtAYekADhYGoGfEGNAiFGqdJohgQzG8gRtFBSzMGyB5kzEBGuag\n",
       "1AKKUJYGBg+0pMh+QJ6B8QA0QnkFUFz+CkUFCvAAmQVJLSDDuYCBz9vA9A8tE+kX+INLtFtgsemI\n",
       "7L+Aa20Dw/kNCBUo4AaD/gOkdM4ExDyNsp/Rsv8JwYP3QOG/FSx0wukASsHFOQehAgWcELxvgJH9\n",
       "eTdgz2s80Pyr5TkTRUUN3hIRYngCpODqZjivgF0plwB28QXYhTk28HyCGQ4uz1kMGOYxOBJZ5MI8\n",
       "hMNOzgcsArDynGEXpLJQlA3AYbgzdmE+XHWQ4FUQCSkg2O/hr+b4yKnmwHUoAHx0rx1b3wnFAAAA\n",
       "AElFTkSuQmCC\n",
       "\" style=\"display:inline;vertical-align:middle;\" /></a> <a class=\"ProveItLink\" href=\"../__pv_it/8ab1fd46f5b0a408b1eb2a0bbbafda1e35ef4f540/proof.ipynb\" style=\"text-decoration: none\">&#x22A2;&nbsp;</a><a class=\"ProveItLink\" href=\"../__pv_it/e522a3f56771e2236673c9a62c7672816a302cd30/expr.ipynb\"><img src=\"data:image/png;base64,iVBORw0KGgoAAAANSUhEUgAAADIAAAANBAMAAAAZPSD6AAAAMFBMVEX///8iIiKYmJhUVFTMzMxE\n",
       "REQyMjKqqqq6urp2dnYQEBDc3NxmZmaIiIju7u4AAACH5sGpAAAAAXRSTlMAQObYZgAAAJVJREFU\n",
       "GNNj4LtzgWHXAwYUwHfXuncuAyfHAob7IO60NBDIATFfMiheEGPYzpPAEIqqhWEew/wH3QwPuC4w\n",
       "/EWTeQBR2/+A5QsDOgCrPcbAuwBhTzJYAqI2mIHVAE1HHe8HhnsMDIcZ+hVQJTi+s37gBoo9vnt+\n",
       "A5p3bO/dUWKA2IQVMCfw/cAuw6jAegG7DMfdI9glAG3sLZ0CIcUUAAAAAElFTkSuQmCC\n",
       "\" style=\"display:inline;vertical-align:middle;\" /></a></span>"
      ],
      "text/plain": [
       "{(y < x) in BOOLEANS, x = y} |- y = x"
      ]
     },
     "execution_count": 16,
     "metadata": {},
     "output_type": "execute_result"
    }
   ],
   "source": [
    "specLEDyx.rhs.deriveViaDilemma(Equals(y,x), assumptions = [Equals(x,y), InSet(Less(y,x), Booleans)])"
   ]
  },
  {
   "cell_type": "code",
   "execution_count": null,
   "metadata": {},
   "outputs": [],
   "source": []
  }
 ],
 "metadata": {
  "kernelspec": {
   "display_name": "Python 3",
   "language": "python",
   "name": "python3"
  }
 },
 "nbformat": 4,
 "nbformat_minor": 0
}
