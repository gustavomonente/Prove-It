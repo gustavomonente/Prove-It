{
 "cells": [
  {
   "cell_type": "markdown",
   "metadata": {},
   "source": [
    "Proof of <a class=\"ProveItLink\" href=\"../../../_context_.ipynb\">proveit</a>.<a class=\"ProveItLink\" href=\"../../_context_.ipynb\">number</a>.<a class=\"ProveItLink\" href=\"../_context_.ipynb\">ordering</a>.<a class=\"ProveItLink\" href=\"../_theorems_.ipynb#greater_eq__in__greater_eq_relations\">greater_eq__in__greater_eq_relations</a> theorem\n",
    "========"
   ]
  },
  {
   "cell_type": "code",
   "execution_count": 1,
   "metadata": {},
   "outputs": [],
   "source": [
    "import proveit\n",
    "context = proveit.Context('..') # the theorem's context is in the parent directory"
   ]
  },
  {
   "cell_type": "code",
   "execution_count": 2,
   "metadata": {},
   "outputs": [
    {
     "name": "stdout",
     "output_type": "stream",
     "text": [
      "Beginning proof of greater_eq__in__greater_eq_relations\n",
      "Recorded 'presuming' information\n",
      "Presuming previous theorems (applied transitively).\n"
     ]
    },
    {
     "data": {
      "text/html": [
       "<strong id=\"greater_eq__in__greater_eq_relations\">greater_eq__in__greater_eq_relations:</strong> <a class=\"ProveItLink\" href=\"../__pv_it/03c85a9a2fe60d9ab629dad7b6bc89f70e1d960d0/expr.ipynb\"><img src=\"data:image/png;base64,iVBORw0KGgoAAAANSUhEUgAAAHkAAAAVBAMAAACQ4lxbAAAAMFBMVEX///8QEBB2dnaIiIiYmJhE\n",
       "RETMzMy6urrc3NxUVFQyMjKqqqpmZmYiIiLu7u4AAABkm1r0AAAAAXRSTlMAQObYZgAAAU5JREFU\n",
       "OMtjYMACWI4wEARshx9gl+BbxEAEYBfDLs7ygRjdDKeA+O05DGGmC2gCWNQAgS6I2DUDm+5XDsgi\n",
       "mGpguhmqpkF4rnfvLoDr5tM1QFYJU4OpmyE1HEzaobrcVg9ZKUQNNt0MnauBlq1D97cvim9BalCB\n",
       "IozRc4OBswEuzLkAm2+BasBGrwKDAwwM/jAZ3wMMrAh1GxNgvp2HpBuoBhVwQQVAXkwEmQi2NPUG\n",
       "PKziEGpRgwEM5oICFhK8rQjRwgQMl6NFAcTuCUCC4yw4ahkRwpwB6KEGVYPk7wkQf3PM2gAW5TFg\n",
       "wBljMDWYYf60AMq5jaIb5tT3C5DUvF+ALb7B4GX4AywplfcekhIUDqpuhqJYpJQKB/sYcHF0sWc9\n",
       "JgEkjgIDLg5I96u7IHANV/7mM0BSw2eAnr+xAaSyhQXFWJSyRRyHbm5iyzUADXhpy/QEor4AAAAA\n",
       "SUVORK5CYII=\n",
       "\" style=\"display:inline;vertical-align:middle;\" /></a><br>(see <a class=\"ProveItLink\" href=\"../__pv_it/03c85a9a2fe60d9ab629dad7b6bc89f70e1d960d0/dependencies.ipynb\">dependencies</a>)<br>"
      ],
      "text/plain": [
       "greater_eq__in__greater_eq_relations: >= in {>, >=, =}"
      ]
     },
     "execution_count": 2,
     "metadata": {},
     "output_type": "execute_result"
    }
   ],
   "source": [
    "%proving greater_eq__in__greater_eq_relations presuming []"
   ]
  },
  {
   "cell_type": "code",
   "execution_count": null,
   "metadata": {},
   "outputs": [],
   "source": []
  }
 ],
 "metadata": {
  "kernelspec": {
   "display_name": "Python 3",
   "language": "python",
   "name": "python3"
  }
 },
 "nbformat": 4,
 "nbformat_minor": 0
}
