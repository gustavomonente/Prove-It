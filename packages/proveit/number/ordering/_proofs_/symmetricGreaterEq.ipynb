{
 "cells": [
  {
   "cell_type": "markdown",
   "metadata": {},
   "source": [
    "Proof of <a class=\"ProveItLink\" href=\"../../../_context_.ipynb\">proveit</a>.<a class=\"ProveItLink\" href=\"../../_context_.ipynb\">number</a>.<a class=\"ProveItLink\" href=\"../_context_.ipynb\">ordering</a>.<a class=\"ProveItLink\" href=\"../_theorems_.ipynb#symmetricGreaterEq\">symmetricGreaterEq</a> theorem\n",
    "========"
   ]
  },
  {
   "cell_type": "code",
   "execution_count": 1,
   "metadata": {},
   "outputs": [],
   "source": [
    "import proveit\n",
    "context = proveit.Context('..') # the theorem's context is in the parent directory"
   ]
  },
  {
   "cell_type": "code",
   "execution_count": 2,
   "metadata": {},
   "outputs": [
    {
     "name": "stdout",
     "output_type": "stream",
     "text": [
      "Beginning proof of symmetricGreaterEq\n",
      "Recorded 'presuming' information\n",
      "Presuming previous theorems (applied transitively).\n"
     ]
    },
    {
     "data": {
      "text/html": [
       "<strong id=\"symmetricGreaterEq\">symmetricGreaterEq:</strong> <a class=\"ProveItLink\" href=\"../__pv_it/a1e23bad11439b49e64c4d16cfb60079cd91cc890/expr.ipynb\"><img src=\"data:image/png;base64,iVBORw0KGgoAAAANSUhEUgAAAMUAAAAWBAMAAACCvEVCAAAAMFBMVEX///8QEBCIiIhmZma6urrM\n",
       "zMxUVFQiIiJERETc3Nzu7u6qqqp2dnaYmJgyMjIAAAAcRTyBAAAAAXRSTlMAQObYZgAAAkpJREFU\n",
       "SMetlj9oFEEUxr/b7N7+yV6Sxn65QAhpvCbBQuJhIGJjTBHrELSwEQstBJEUIhdsLpVBkYwKCiHF\n",
       "gY1aHVfJCbqgIILC1kJkCQqKjW/+LHM3myyRzcAys9+PN9/NezOzBxxHe3w4ek1PwgffylkE64ez\n",
       "aht4xwffy3mMtQv8aRFb1Pvr5Tw+FsEe/QYGhJ1yHreK4BOg1t/ZeVDOwr9emMgm8LvVul3Ow2pQ\n",
       "2utXz/aMSkxG2GQIiV4BNnJhzf/x8GJgF5+jOzQOf4jW4EN7AicpUVT0BVF6o+lNsJjbMznFpXL2\n",
       "8YGdH5YfjSRoAaOUSRdWXODhz100028qFVo149MNN1aJsA84KS0pdlHgAf9UzsRQKiKz+7lJlpjz\n",
       "S3r4ySW+i2enKNCegsu0hxSDt80MqI4rCma5Ap9O12OVj+dhTVAM33Ubl2lrsGsuxYXjbFmvQ4kI\n",
       "3jMFMk5KBlXN31gpZox13IO3KmuOl2TkYI+rD89hWnsoEdZeBjJOSga5cwP2Xy/1zbLOYYmkkS4N\n",
       "xyMu/BHyaawN1kOIT+9rIDuhqAiIbARrM5O5i/V5/QxtwTGe0RqvgJM6XL6BEwMeQty9OwBEJxUV\n",
       "UXiXzNPzInvZDpMQWww37VR7CPGZmFAAxaUiYOGdWE2Cn/JOVMv61OtjuYPF6UR7CHFFHTwCiq/o\n",
       "iOygH3i3u7EXIXfAO0Hbi83zIe8eATQ/yjfKrs/m/Ufb1e4FHOghwAA/+rf2y/BrDfbXrunxqkWN\n",
       "CaC4VMr/CWjgGNs/FMG9rp/QvYUAAAAASUVORK5CYII=\n",
       "\" style=\"display:inline;vertical-align:middle;\" /></a><br>(see <a class=\"ProveItLink\" href=\"../__pv_it/a1e23bad11439b49e64c4d16cfb60079cd91cc890/dependencies.ipynb\">dependencies</a>)<br>"
      ],
      "text/plain": [
       "symmetricGreaterEq: forall_{x, y | x >= y, y >= x} (x = y)"
      ]
     },
     "execution_count": 2,
     "metadata": {},
     "output_type": "execute_result"
    }
   ],
   "source": [
    "%proving symmetricGreaterEq presuming []"
   ]
  },
  {
   "cell_type": "code",
   "execution_count": null,
   "metadata": {},
   "outputs": [],
   "source": []
  }
 ],
 "metadata": {
  "kernelspec": {
   "display_name": "Python 3",
   "language": "python",
   "name": "python3"
  }
 },
 "nbformat": 4,
 "nbformat_minor": 0
}
