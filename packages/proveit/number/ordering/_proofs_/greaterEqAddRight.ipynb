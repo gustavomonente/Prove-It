{
 "cells": [
  {
   "cell_type": "markdown",
   "metadata": {},
   "source": [
    "Proof of <a class=\"ProveItLink\" href=\"../../../_context_.ipynb\">proveit</a>.<a class=\"ProveItLink\" href=\"../../_context_.ipynb\">number</a>.<a class=\"ProveItLink\" href=\"../_context_.ipynb\">ordering</a>.<a class=\"ProveItLink\" href=\"../_theorems_.ipynb#greaterEqAddRight\">greaterEqAddRight</a> theorem\n",
    "========"
   ]
  },
  {
   "cell_type": "code",
   "execution_count": 1,
   "metadata": {},
   "outputs": [],
   "source": [
    "import proveit\n",
    "context = proveit.Context('..') # the theorem's context is in the parent directory"
   ]
  },
  {
   "cell_type": "code",
   "execution_count": 2,
   "metadata": {},
   "outputs": [
    {
     "name": "stdout",
     "output_type": "stream",
     "text": [
      "Beginning proof of greaterEqAddRight\n",
      "Recorded 'presuming' information\n",
      "Presuming previous theorems (applied transitively).\n"
     ]
    },
    {
     "data": {
      "text/html": [
       "<strong id=\"greaterEqAddRight\">greaterEqAddRight:</strong> <a class=\"ProveItLink\" href=\"../__pv_it/7508974525ae0d4ff0b0d27209f56dc32591b71a0/expr.ipynb\"><img src=\"data:image/png;base64,iVBORw0KGgoAAAANSUhEUgAAATsAAAAWBAMAAABNtyaoAAAAMFBMVEX///8QEBCIiIhmZma6urrM\n",
       "zMxUVFQiIiJERETc3Nzu7u6qqqp2dnaYmJgyMjIAAAAcRTyBAAAAAXRSTlMAQObYZgAABDFJREFU\n",
       "SMfFVltoHFUY/vYye5md2fWhD5airBuoAVGWLsSAtC4I9Uk7PtgiCFmqVfShhLbiLcIaokwaCosB\n",
       "WwRh2gUrcSWD4iXgw5IgaoxlUEEtVhbBFKvGPijYKOL/nzOXs9upN1g98DMz//zfOd/5b+cA/9F4\n",
       "MV6d9+L1S770+OPc0NnpzXj9y9CfnozRZ1pSPuSPC0OnV2xFTA87kf5b+lWN205Pygn2cHPo9D5R\n",
       "3gvrIVeTqJXcQF9WjJalFGkrhjt0eo+rH+l1y3/LEtE9Thy9k1LM1YWF40Nnl+/PL82uyxde+T3E\n",
       "0SvWpfxi21NDp5fk/JpfuS5wVP6gDNgIyXrllgF6yxULBiFYDgCzMRPe2fvLNdPxmORy9zLTHPWP\n",
       "9Fb8GLnzZpF/x6gAfncWW330jru5Hkyai+U2USHheGv0vq/5afj1VDj07C7V6YoiFxF9CBHmS7yJ\n",
       "3a1+elly1kkP46HCPCweT9J8myiV++hNIeOiQOnAkkUyaI36OzUvaWCVzYrs/VdWdqLcNU5BMYgU\n",
       "ET3MH0CAwRGUnPyY1UcvQVl0q4NDYbCnZJi3AKkeFsndxsbG+Ws3Nhqk2BTpeVGK4WUD0OdLCyB6\n",
       "Z5luifZvzr3gEBvzVdUgUij0MP+Mj4H+MxIu8uPWIL2r+ZccnYDnFtH29riq9xJNlV6+t5e+2tu/\n",
       "QZpjw/Q4dyYqD1PcIdh0ROQqZWEQKnx6+o6DzKQzIzHQLiFL+9PfrwtMGFz9NxQu+nt5KqBNwS15\n",
       "7FeF3qJI3fSkFMzeT5M9om2iCEmvxiyud0bkgVfupmoiZtpVwiBU+PROWxNi9s4FgQFNlOV19DMO\n",
       "Y8LS0H9FpsfHKJ7/LvQqlUaprl/TV7nEF25YGnidOKaq2iTagl7qgSP8nMZXunTW2IPcpFJNWG0o\n",
       "ioBeDfvE8yaPMcJ7CV4n+YPAICyaaXzWYMfoM1HQV+hk9XLVPnqpBtoWUmTKIuom4SYb2Gfbdjlp\n",
       "PPepzIox7THbnkb5gxuZDeWTNAgUAb1t2M5rjroCI3KvRP9PzUmMX9rkgpcq9+yvDzSc2zk5Phpo\n",
       "y2vn6KVoSYFJsVls5c46GRncwr0crE1atyFj+caqn/YZKAqfnn4JxxZkpgmMrFyRirJUYg41peGo\n",
       "Dajv1Djti6yW1sQdMCyZe6vd/FE8YTbxrmRjdHDCoQOmKgykIvLeVu0nTx8XbiEMIUeo77Vn/IOp\n",
       "GnMlUIap3lZ05/Irge/8/a/tBOa4LZ/ptndp27B3jdan4BSmvtdrvbvc/I6PHWEgFRG93TeMeJpM\n",
       "McIQMrlWxd3yaGCMXxvKher8ozwkZPZK90P/QtV3MnJqST/LxyjlnhzugMFg34si9E+vo/GDt5Nr\n",
       "Xek4XRpcNM4y93eQ//Iy/4Uv8WMQZOJP6RWopO2jCvJtVjj4X0dq+Ev8AfchNIup8PMZAAAAAElF\n",
       "TkSuQmCC\n",
       "\" style=\"display:inline;vertical-align:middle;\" /></a><br>(see <a class=\"ProveItLink\" href=\"../__pv_it/7508974525ae0d4ff0b0d27209f56dc32591b71a0/dependencies.ipynb\">dependencies</a>)<br>"
      ],
      "text/plain": [
       "greaterEqAddRight: forall_{a in Reals, b in Reals, c in Reals | a >= b, 0 >= c} (a >= (b + c))"
      ]
     },
     "execution_count": 2,
     "metadata": {},
     "output_type": "execute_result"
    }
   ],
   "source": [
    "%proving greaterEqAddRight presuming []"
   ]
  },
  {
   "cell_type": "code",
   "execution_count": null,
   "metadata": {},
   "outputs": [],
   "source": []
  }
 ],
 "metadata": {
  "kernelspec": {
   "display_name": "Python 3",
   "language": "python",
   "name": "python3"
  }
 },
 "nbformat": 4,
 "nbformat_minor": 0
}
