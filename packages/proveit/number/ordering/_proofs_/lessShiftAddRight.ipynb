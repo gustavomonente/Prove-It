{
 "cells": [
  {
   "cell_type": "markdown",
   "metadata": {},
   "source": [
    "Proof of <a class=\"ProveItLink\" href=\"../../../_context_.ipynb\">proveit</a>.<a class=\"ProveItLink\" href=\"../../_context_.ipynb\">number</a>.<a class=\"ProveItLink\" href=\"../_context_.ipynb\">ordering</a>.<a class=\"ProveItLink\" href=\"../_theorems_.ipynb#lessShiftAddRight\">lessShiftAddRight</a> theorem\n",
    "========"
   ]
  },
  {
   "cell_type": "code",
   "execution_count": 1,
   "metadata": {},
   "outputs": [],
   "source": [
    "import proveit\n",
    "context = proveit.Context('..') # the theorem's context is in the parent directory"
   ]
  },
  {
   "cell_type": "code",
   "execution_count": 2,
   "metadata": {},
   "outputs": [
    {
     "name": "stdout",
     "output_type": "stream",
     "text": [
      "Beginning proof of lessShiftAddRight\n",
      "Recorded 'presuming' information\n",
      "Presuming previous theorems (applied transitively).\n"
     ]
    },
    {
     "data": {
      "text/html": [
       "<strong id=\"lessShiftAddRight\">lessShiftAddRight:</strong> <a class=\"ProveItLink\" href=\"../__pv_it/b89436a3783c8153acc86fa56a325285fea274280/expr.ipynb\"><img src=\"data:image/png;base64,iVBORw0KGgoAAAANSUhEUgAAAUwAAAAWBAMAAABZIrhJAAAAMFBMVEX///8QEBCIiIhmZma6urrM\n",
       "zMxUVFQiIiJERETc3Nzu7u6qqqp2dnaYmJgyMjIAAAAcRTyBAAAAAXRSTlMAQObYZgAABB5JREFU\n",
       "SMfNl22IG0UYx//JXt4mu0k/9EOlKGuKbb8IoYdnRVsP/OAnbfqlKggN9bUqEksFbe9DPLDkLMqi\n",
       "YIsgbA2onNVbKiIHIksPKY3tEarQWmgJ0lZsy7YIgp4v+MzLJpnNRk+J4sA/M7N5JvPbeZ5nZgL8\n",
       "O+VtpdgyP/go1443zTtSHd45N2pKVpeKL2ln4NH7YC/V4mx3Sn3J25dHjVlwpIa8RGfg0fdkX46z\n",
       "/UjqIF/x+qgxv1LqlSP9naO95ucV/mkRYtELHW33mZq2UMGlyhs15otKQzAPdVun7xBVhlZ+ixuH\n",
       "yVYIWa3Z2QOjpszVpIZhFiZVY11L1pzgGOIwcUHqp0ZjatSYybIU3li42Y1gHi1VYMowZMdCoDWk\n",
       "S6U7I5hm6RZgAUKPATMxM93f+UuYsWg/CFvZttTYDbgWWc0DXrYDS/w4u727C71Kvd/dOUfDzO3F\n",
       "a8B5CN2jJ96n6x/5VryJyrv8rn2bNSeEBgSiQ7rixWWoeVKH2tgYwZxC2kNeBMSzvZTYSxMtoWhr\n",
       "mBkfT9N8EMogGb4U+2y8nTTR4mYF/hsfLGyC7ZvvIMYggpnaB1wJO4lJqbtd7OL9xSB4LgguUctY\n",
       "EsbX+Y/1Ya6kbzqY82l5guC7m4KgCjGaynYps50Jjc/Mz4IoznLsIjnA2v+WS5jWh3EGOmbuSbL/\n",
       "OYq5CuxHfTUT9S4mcj2nrxTb5hZPW81V6MPMdbZRo7n2Isa4nzmFz78pPUXxQIUwD8t4tjWDEJOP\n",
       "BNtI21/qh7Wu5nT2K/LXdcw5MXSsFkkhcnqxrZYvxKTRvNyrNPMoPXo+tYQCJMU4p1nnrpEHqe0b\n",
       "47zenVqhGShMMZIt8h0muSdZ1lKI/YJ0Z17DJBh4KoX6NiRKoeIku1HP9N+o2U0hfEyvZpRTNTQF\n",
       "hfH4bl5P4zwTk9oTT3AGo46KZqAwxcitwntZO5ye5x/XNE5XfQ3TqKJZgeFHtndKvnQ7W9YxJ8Bu\n",
       "A+6CFM+vhJes4oFGo2Enzde/ltEykXqh0ZiGffxWjpkgP2oGClOMNC/IiDSqKutrUu+WHtoxqWf6\n",
       "iXM0XaESOSzJq2zDycj2bp48RZ8XlSyKiDkne9ZNS5/mH+YhsoTVqEqnf9JSKaUZKEwxEs2XuYmb\n",
       "8JZ3WL4X3YIz/dcU/bCsSckEdLbfB7MiQ6/l517BHquOLySmeRgHXTrfyj2DvtXkI4E36YjIuGeG\n",
       "Xz1mh1w9ZLH6b0fMHbx6KC/tOLIJ2M930kW/uTm1GttOEActTn7qKhvvbPVyG065PYMephxJN62d\n",
       "SD3TDbmsI7Xsi9zMMFt1kdOOYgo9te6yWk+xKYsXMRg8hR50ln0tzsZdi4eUmT97h/mYu/7gbP/0\n",
       "T8Y3y/+TYTlS8SU6yMLfxPwfFeO/m+oPAjo4ayTUuKYAAAAASUVORK5CYII=\n",
       "\" style=\"display:inline;vertical-align:middle;\" /></a><br>(see <a class=\"ProveItLink\" href=\"../__pv_it/b89436a3783c8153acc86fa56a325285fea274280/dependencies.ipynb\">dependencies</a>)<br>"
      ],
      "text/plain": [
       "lessShiftAddRight: forall_{a in Reals, b in Reals, c in Reals | a < b} ((a + c) < (b + c))"
      ]
     },
     "execution_count": 2,
     "metadata": {},
     "output_type": "execute_result"
    }
   ],
   "source": [
    "%proving lessShiftAddRight presuming []"
   ]
  },
  {
   "cell_type": "code",
   "execution_count": null,
   "metadata": {},
   "outputs": [],
   "source": []
  }
 ],
 "metadata": {
  "kernelspec": {
   "display_name": "Python 3",
   "language": "python",
   "name": "python3"
  }
 },
 "nbformat": 4,
 "nbformat_minor": 0
}
