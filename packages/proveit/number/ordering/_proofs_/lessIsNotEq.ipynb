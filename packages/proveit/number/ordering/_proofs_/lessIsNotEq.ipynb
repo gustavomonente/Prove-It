{
 "cells": [
  {
   "cell_type": "markdown",
   "metadata": {},
   "source": [
    "Proof of <a class=\"ProveItLink\" href=\"../../../_context_.ipynb\">proveit</a>.<a class=\"ProveItLink\" href=\"../../_context_.ipynb\">number</a>.<a class=\"ProveItLink\" href=\"../_context_.ipynb\">ordering</a>.<a class=\"ProveItLink\" href=\"../_theorems_.ipynb#lessIsNotEq\">lessIsNotEq</a> theorem\n",
    "========"
   ]
  },
  {
   "cell_type": "code",
   "execution_count": 1,
   "metadata": {},
   "outputs": [],
   "source": [
    "import proveit\n",
    "context = proveit.Context('..') # the theorem's context is in the parent directory"
   ]
  },
  {
   "cell_type": "code",
   "execution_count": 2,
   "metadata": {},
   "outputs": [
    {
     "name": "stdout",
     "output_type": "stream",
     "text": [
      "Beginning proof of lessIsNotEq\n",
      "Recorded 'presuming' information\n",
      "Presuming previous theorems (applied transitively).\n"
     ]
    },
    {
     "data": {
      "text/html": [
       "<strong id=\"lessIsNotEq\">lessIsNotEq:</strong> <a class=\"ProveItLink\" href=\"../__pv_it/af9bf395449e44053efdbc7e09c929c586ef57720/expr.ipynb\"><img src=\"data:image/png;base64,iVBORw0KGgoAAAANSUhEUgAAAMUAAAAWCAMAAABHTKhDAAAAOVBMVEX///8kJCQNDQ0oKCgQEBCI\n",
       "iIhmZma6urrMzMxUVFQiIiJERETc3Nzu7u6qqqp2dnaYmJgyMjIAAAD9T1yxAAAAAXRSTlMAQObY\n",
       "ZgAAAq1JREFUWMPNV9mSnDAMJFks3+f/f2wsX9gGPOxWKsQPUwOIRq2WLHnb/qel3PKx1ed7RuGv\n",
       "b9fOvU1CyzVH35vuIv/jSMOa+sDrt1l4tXzM6WAMhQ9yU5W/km+TcLCWYnQw1PBb0klwiPLWEh+k\n",
       "YP0VDTV19I4RsBqXEq+XtviOFPaw9phpQeIS9m0WpCaUAgtkn6tUsrGGOCGQ08dCU0qqZ9+i3j8w\n",
       "+gmKLHsk3aMrPrSg+7S+fuNvqxwdYiXokJx2iEWhVvrVMoJIDp4cUsIHA3RoyUBfoGBZmJLmyAbk\n",
       "WgqTyiKQ7EF6HeU8NQttLEC8SzaL/aZ56c0HgzULJvmAcqw9KwjJP0Gm1/h4DT4JksqAJd2sy0zG\n",
       "bU8apREvOel0YxnUB4MVC8VL5gZ1x2KXyT82STHZp9yiebfNLGJPrFQ1EO5ZTbNcdNnJWvwsEML1\n",
       "wmBm0SDxb82LinLOqBxfE7ahLn7tuTqaIsE12TYqCtHSFrVg8QN6GEySkwDVaSJ02k1uDSYWB6S2\n",
       "vlV9RTlXt07x5b4MSHddPdBaQaW6I3MoCYWuMJGi1jkJnIv2fUnSa/cGE4sGyfYu5wrK2AHgeCT4\n",
       "1mtLT3sBj2Cy3IViGkot7TEOBFVjIjURRIyhVsTRPnuBLwwmFg1y66SoKOPelUOpYyNgipMe8Dzi\n",
       "xTy1NSolX2NWl01YobBYs3xIGMPaUIzJgZ7dGowsOsiuLBrKswnELAcsPe9Msd+wQJGjZUPaWyxe\n",
       "JeO3Y0I7eWNwqUWD7LeoivJsGlxP25bMDYkTQyB9Upra1Ky3MYxxg2YYPcZt9vfC4IpFB5mnoXQe\n",
       "aCjL7bRKsRyO9HKWICXtB7xPBg96N7ufdW5OSWspno5O0+nwwfrpUeX6xLqcytx3SWyPj7SvH7j+\n",
       "yoJ//L0/BRUgYIbJjuQAAAAASUVORK5CYII=\n",
       "\" style=\"display:inline;vertical-align:middle;\" /></a><br>(see <a class=\"ProveItLink\" href=\"../__pv_it/af9bf395449e44053efdbc7e09c929c586ef57720/dependencies.ipynb\">dependencies</a>)<br>"
      ],
      "text/plain": [
       "lessIsNotEq: forall_{a in Reals, b in Reals | a < b} (a != b)"
      ]
     },
     "execution_count": 2,
     "metadata": {},
     "output_type": "execute_result"
    }
   ],
   "source": [
    "%proving lessIsNotEq presuming []"
   ]
  },
  {
   "cell_type": "code",
   "execution_count": null,
   "metadata": {},
   "outputs": [],
   "source": []
  }
 ],
 "metadata": {
  "kernelspec": {
   "display_name": "Python 3",
   "language": "python",
   "name": "python3"
  }
 },
 "nbformat": 4,
 "nbformat_minor": 0
}
