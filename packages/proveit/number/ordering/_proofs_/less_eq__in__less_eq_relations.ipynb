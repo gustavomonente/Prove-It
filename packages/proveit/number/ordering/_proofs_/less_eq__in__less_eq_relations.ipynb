{
 "cells": [
  {
   "cell_type": "markdown",
   "metadata": {},
   "source": [
    "Proof of <a class=\"ProveItLink\" href=\"../../../_context_.ipynb\">proveit</a>.<a class=\"ProveItLink\" href=\"../../_context_.ipynb\">number</a>.<a class=\"ProveItLink\" href=\"../_context_.ipynb\">ordering</a>.<a class=\"ProveItLink\" href=\"../_theorems_.ipynb#less_eq__in__less_eq_relations\">less_eq__in__less_eq_relations</a> theorem\n",
    "========"
   ]
  },
  {
   "cell_type": "code",
   "execution_count": 1,
   "metadata": {},
   "outputs": [],
   "source": [
    "import proveit\n",
    "context = proveit.Context('..') # the theorem's context is in the parent directory"
   ]
  },
  {
   "cell_type": "code",
   "execution_count": 2,
   "metadata": {},
   "outputs": [
    {
     "name": "stdout",
     "output_type": "stream",
     "text": [
      "Beginning proof of less_eq__in__less_eq_relations\n",
      "Recorded 'presuming' information\n",
      "Presuming previous theorems (applied transitively).\n"
     ]
    },
    {
     "data": {
      "text/html": [
       "<strong id=\"less_eq__in__less_eq_relations\">less_eq__in__less_eq_relations:</strong> <a class=\"ProveItLink\" href=\"../__pv_it/407ef8340c3fd56e61ab7af8f7ac49dd97829db00/expr.ipynb\"><img src=\"data:image/png;base64,iVBORw0KGgoAAAANSUhEUgAAAHkAAAAVBAMAAACQ4lxbAAAAMFBMVEX///8QEBC6urpERESqqqoy\n",
       "MjJUVFSYmJhmZmbc3Nx2dnbu7u7MzMwiIiKIiIgAAAD1zHUxAAAAAXRSTlMAQObYZgAAAVNJREFU\n",
       "OMtjYMAC2NsZCAKevg3YJbijGIgATDLYxdk/EKOboRXG4LuDLMx1AZtiVDVAsBZK77rHgFU3SwxC\n",
       "EE0NQveM62Cq+O7dABTd7DcmwJVC1WDqnhYCpg6/RrOb7xYiVKFqMHUfDoIEdDSay5GdClWDChYC\n",
       "MbMNhM2GcCUbyAM7kJwKUwM2OhQMGhgY6kHuuwdxHzNCgeMBoAnIToWpQQWsDaCwgXjvIMhEcKgd\n",
       "vgkktqF4lP0WNu25D0DxEgFy9GSEqOIBjECGqEGzOwGS5sKAyhkRwmwGmBEMVoPk7wSIv8Ep3liB\n",
       "geMBA54Yg6jBDHMw4MxhYLiCkdZAqWV/AJIaBAc5pYLBNqMNWFIq720kJSgcVN0MWrZoKRUMvBlw\n",
       "cdZiz3pcAkicBQy4OCDdW++CwB1c+Zv7AZIa7gdY8zcaQCpb2FGMRYlDIRy6WYgt1wDRc2lz7VFs\n",
       "XAAAAABJRU5ErkJggg==\n",
       "\" style=\"display:inline;vertical-align:middle;\" /></a><br>(see <a class=\"ProveItLink\" href=\"../__pv_it/407ef8340c3fd56e61ab7af8f7ac49dd97829db00/dependencies.ipynb\">dependencies</a>)<br>"
      ],
      "text/plain": [
       "less_eq__in__less_eq_relations: <= in {<, <=, =}"
      ]
     },
     "execution_count": 2,
     "metadata": {},
     "output_type": "execute_result"
    }
   ],
   "source": [
    "%proving less_eq__in__less_eq_relations presuming []"
   ]
  },
  {
   "cell_type": "code",
   "execution_count": null,
   "metadata": {},
   "outputs": [],
   "source": []
  }
 ],
 "metadata": {
  "kernelspec": {
   "display_name": "Python 3",
   "language": "python",
   "name": "python3"
  }
 },
 "nbformat": 4,
 "nbformat_minor": 0
}
