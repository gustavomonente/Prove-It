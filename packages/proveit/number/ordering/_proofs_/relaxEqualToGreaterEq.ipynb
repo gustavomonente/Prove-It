{
 "cells": [
  {
   "cell_type": "markdown",
   "metadata": {},
   "source": [
    "Proof of <a class=\"ProveItLink\" href=\"../../../_context_.ipynb\">proveit</a>.<a class=\"ProveItLink\" href=\"../../_context_.ipynb\">number</a>.<a class=\"ProveItLink\" href=\"../_context_.ipynb\">ordering</a>.<a class=\"ProveItLink\" href=\"../_theorems_.ipynb#relaxEqualToGreaterEq\">relaxEqualToGreaterEq</a> theorem\n",
    "========"
   ]
  },
  {
   "cell_type": "code",
   "execution_count": 1,
   "metadata": {},
   "outputs": [],
   "source": [
    "import proveit\n",
    "context = proveit.Context('..') # the theorem's context is in the parent directory"
   ]
  },
  {
   "cell_type": "code",
   "execution_count": 2,
   "metadata": {},
   "outputs": [
    {
     "name": "stdout",
     "output_type": "stream",
     "text": [
      "Beginning proof of relaxEqualToGreaterEq\n",
      "Recorded 'presuming' information\n",
      "Presuming previous theorems (applied transitively).\n"
     ]
    },
    {
     "data": {
      "text/html": [
       "<strong id=\"relaxEqualToGreaterEq\">relaxEqualToGreaterEq:</strong> <a class=\"ProveItLink\" href=\"../__pv_it/b12c4e5aadafb1741c48e9148a60e7a0d26ccbcd0/expr.ipynb\"><img src=\"data:image/png;base64,iVBORw0KGgoAAAANSUhEUgAAAMwAAAAWBAMAAAB+qW6IAAAAMFBMVEX///8QEBCIiIhmZma6urrM\n",
       "zMxUVFQiIiJERETc3Nzu7u6qqqp2dnaYmJgyMjIAAAAcRTyBAAAAAXRSTlMAQObYZgAAAulJREFU\n",
       "SMetVV1IFFEU/tyd/ZlxdpUe62VqoUQKlpYKopbNHiLoZ+iheghc7A+hRMLoBwtZQsbEkIKKIBo0\n",
       "+jEzIUKMiEGJaAtbSDCCYoh6qYwlCMoIOvfOzjijrkrrgeHMveeb850559xzgQWS68VN5Z2AyV7e\n",
       "l8witcxirAdeMv2lZJpo5+T77fVTjH3AVVJiS8k0b9yLp/Veo6wgqpPqL5nmlGe146A3o5WIZHt6\n",
       "rpTMIjZ613vPeZafgF+a1lwyjS9OMS+rrxmyNy5/5aprNcTFwDBA/9c2P19CcVM4B/RiTDnr7Fzi\n",
       "aTQ2wZcHPgCbIZmuDwaq9n/0dv2x1qRi+SpOE6LqZvFa3+rsjMVZLvuTCFN/DRACvpxdqieJnE9G\n",
       "VnHA94Y3QjHkrrloylKADm1yY0WWO8QiVJC3WmqzXMi2vR3sAdG8s2kRab+mE03k/nxogB9Oaz0v\n",
       "RCpMoFblNKK5m9ZDa5arAvtPRmOQrknjNCWUhGh6XTRybJfdrhzjJA2Bn3bfrbMD9ZtYSmoLPW0H\n",
       "yLneEEpFYdEkGJ0xEai0JpFi+BMumuqg2RTUSDosjNMCj6nY1ZylwTmH4TRawVsAD6nnAxgHujmN\n",
       "/1ATg95s9LVIcU6z9nDKRaNG7VA5pnDO4xD+hPMiN91JOcn0p4W/pDbQU8Hz+BvYQyEqPvniKAcY\n",
       "QSVwUtMyUF6sctOgwhlfDFOoQSOkuurYtBEs1cXIMT6zOussr/kAglbSyvexjVCqTEXaStqjrJum\n",
       "FmrwO8m4hZlp2LiEqgPJnhE3ZFOGrFq1yRrieYTUncAzi0Z2tYCYH4FhnxaGmWF0TkoDHqT46LTk\n",
       "1ugQRdzOjueI0Z0MLIFQd4EcUy3Lm79JCdOhkY5uW6nbY4FhCrV2XQR9J5gcZ69nkLEuAs9kotoU\n",
       "jj7uooN0lZZxTZSpsVqY2a61mhjLUNFhNogjgjltcE3dcGNmuaQjncUsOWx/hTlpZsAsgPj//9N/\n",
       "SpS9gvYWYLYAAAAASUVORK5CYII=\n",
       "\" style=\"display:inline;vertical-align:middle;\" /></a><br>(see <a class=\"ProveItLink\" href=\"../__pv_it/b12c4e5aadafb1741c48e9148a60e7a0d26ccbcd0/dependencies.ipynb\">dependencies</a>)<br>"
      ],
      "text/plain": [
       "relaxEqualToGreaterEq: forall_{x in Reals, y in Reals | x = y} (x >= y)"
      ]
     },
     "execution_count": 2,
     "metadata": {},
     "output_type": "execute_result"
    }
   ],
   "source": [
    "%proving relaxEqualToGreaterEq presuming []"
   ]
  },
  {
   "cell_type": "code",
   "execution_count": null,
   "metadata": {},
   "outputs": [],
   "source": []
  }
 ],
 "metadata": {
  "kernelspec": {
   "display_name": "Python 3",
   "language": "python",
   "name": "python3"
  }
 },
 "nbformat": 4,
 "nbformat_minor": 0
}
