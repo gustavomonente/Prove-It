{
 "cells": [
  {
   "cell_type": "markdown",
   "metadata": {},
   "source": [
    "Proof of <a class=\"ProveItLink\" href=\"../../../_context_.ipynb\">proveit</a>.<a class=\"ProveItLink\" href=\"../../_context_.ipynb\">number</a>.<a class=\"ProveItLink\" href=\"../_context_.ipynb\">ordering</a>.<a class=\"ProveItLink\" href=\"../_theorems_.ipynb#greaterShiftAddRight\">greaterShiftAddRight</a> theorem\n",
    "========"
   ]
  },
  {
   "cell_type": "code",
   "execution_count": 1,
   "metadata": {},
   "outputs": [],
   "source": [
    "import proveit\n",
    "context = proveit.Context('..') # the theorem's context is in the parent directory"
   ]
  },
  {
   "cell_type": "code",
   "execution_count": 2,
   "metadata": {},
   "outputs": [
    {
     "name": "stdout",
     "output_type": "stream",
     "text": [
      "Beginning proof of greaterShiftAddRight\n",
      "Recorded 'presuming' information\n",
      "Presuming previous theorems (applied transitively).\n"
     ]
    },
    {
     "data": {
      "text/html": [
       "<strong id=\"greaterShiftAddRight\">greaterShiftAddRight:</strong> <a class=\"ProveItLink\" href=\"../__pv_it/77f39f9f61661575b843049a83beb3932be475630/expr.ipynb\"><img src=\"data:image/png;base64,iVBORw0KGgoAAAANSUhEUgAAAUwAAAAWBAMAAABZIrhJAAAAMFBMVEX///8QEBCIiIhmZma6urrM\n",
       "zMxUVFQiIiJERETc3Nzu7u6qqqp2dnaYmJgyMjIAAAAcRTyBAAAAAXRSTlMAQObYZgAABCRJREFU\n",
       "SMfNl1+oFFUcx7+7s39nZ3Z98MGQYlrJfAkWL12i0i700FO6vZhB4GKlZD1sZpB6H9YbyF6lGIrw\n",
       "EghjFyxut+5gRFzwYfAi0U1lMyETlEXylmajBEHdSvqdP7M7Z3a2rrFFP/juzJz9/fZ85vzO75yz\n",
       "wL9jh6Vibba3Kd+Kdy3YQm32cHHQlHpDKN4ydk/T+9D31eN8nxf6gt1fGzRm0Rbq8xLtnqar5F+J\n",
       "8/1IaIKNeGPQmF9Jde1Y+OEEh/2x22ASYskNEm2FXA2Lq+jQxR005m6pPphH+Of0zk5DlkZ+oxOH\n",
       "qS/jMuenpg4NmjJfF+qHWRzhl+RoQMYIPkMcJr4V+qXZHB00ZrIihLfm7nYimCfKVRhyGpovy29X\n",
       "kRbKD0UwjfI9wBy4ngPGY3ra0P5bmFT02Q/uci2h1B24ERnNQ26uDTP48cKCqLPXKbO3nBlbwczv\n",
       "xRvAJXA9qhbep2ueuczfRL5wYef+9UoSAgcC6bS9LS5znanmCh1p4YEI5igyLgqdCZFa4OO5lzpa\n",
       "RMlSMLMeXqD+wJVFMlha9eNDraSBeeZWZGX1wdw6WJ7xLmIcwphHRT5+CJ4TI0KPOOBlcsb3X/L9\n",
       "BbrTFtlz+mYH83uOuZy+aWPGo+Hx/e/u8v0aeDTZFiGjlQ1izs9OgSguMOwSJcA8+I5DmOaHcQ5h\n",
       "TEywVRi/RjFXQP9ZHc1EQ8EMkr6cL5sbXWU0VyCEmW9vopvJ1VeQYnlmFB77pryD5gMZYU6L+Wwp\n",
       "DgEmiwQ2P0id/7TaUZKu/47CTRVzhoem6pESoqSXWnL4AkyKZvaY1Piz1PRKehFFCIohRnOvs0ps\n",
       "pJanDbHrrvQyxUFi8khWchaSe5IVpYT035BpzyqYBAM3KKHugkQlVBrR71Qr/Q+67ZQQPqZX0yrp\n",
       "OiZ5qLZtF7uO4ZLOO7WGt7NVTmugqjhITB7J7Es7ZwUVzOqPaQxf1zwFU6thsgrNiyzvVHyZVq6i\n",
       "Yg5Dvx94GEKsvhJusoYnm82mlTTePCdmy3D61WZzDNbn9zHMBOVRcZCYPJL99mWajVpNFkZd6Gj5\n",
       "qa0jaqWfukjdFauRzZKyqq89HVnejdNn6fOKlEkjP2PnLjgZkdPC0ywVi1iJmkj6J/OypBQHickj\n",
       "Ceq6g5KTcJe2Wb4XXYKz4WOKulnWhUQB2lseh1EVU2/eyx/AHrOBkwLTmMaEQ/tbpesQGk0WifRr\n",
       "hJp1zvc/ekz1HD3CZoZPR7rTe/SQWdp6bB1wkK2kZ7zJ9emV2HSKOGhwCqPX9aH2E25+7Vmn69DF\n",
       "5JH5bWw00i96nW3IFlryQW68n688yClbMU09Oe7isobmpjA34qCum5urt3UszsUdi/vY+F+9w2zM\n",
       "Wb+3t3/6J+Obpf/JMG2heIsGmbhNzP+Raf9dV38CqO07GQnKIEkAAAAASUVORK5CYII=\n",
       "\" style=\"display:inline;vertical-align:middle;\" /></a><br>(see <a class=\"ProveItLink\" href=\"../__pv_it/77f39f9f61661575b843049a83beb3932be475630/dependencies.ipynb\">dependencies</a>)<br>"
      ],
      "text/plain": [
       "greaterShiftAddRight: forall_{a in Reals, b in Reals, c in Reals | a > b} ((a + c) > (b + c))"
      ]
     },
     "execution_count": 2,
     "metadata": {},
     "output_type": "execute_result"
    }
   ],
   "source": [
    "%proving greaterShiftAddRight presuming []"
   ]
  },
  {
   "cell_type": "code",
   "execution_count": null,
   "metadata": {},
   "outputs": [],
   "source": []
  }
 ],
 "metadata": {
  "kernelspec": {
   "display_name": "Python 3",
   "language": "python",
   "name": "python3"
  }
 },
 "nbformat": 4,
 "nbformat_minor": 0
}
