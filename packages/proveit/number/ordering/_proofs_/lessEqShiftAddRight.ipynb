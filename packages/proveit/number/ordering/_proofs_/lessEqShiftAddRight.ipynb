{
 "cells": [
  {
   "cell_type": "markdown",
   "metadata": {},
   "source": [
    "Proof of <a class=\"ProveItLink\" href=\"../../../_context_.ipynb\">proveit</a>.<a class=\"ProveItLink\" href=\"../../_context_.ipynb\">number</a>.<a class=\"ProveItLink\" href=\"../_context_.ipynb\">ordering</a>.<a class=\"ProveItLink\" href=\"../_theorems_.ipynb#lessEqShiftAddRight\">lessEqShiftAddRight</a> theorem\n",
    "========"
   ]
  },
  {
   "cell_type": "code",
   "execution_count": 1,
   "metadata": {},
   "outputs": [],
   "source": [
    "import proveit\n",
    "context = proveit.Context('..') # the theorem's context is in the parent directory"
   ]
  },
  {
   "cell_type": "code",
   "execution_count": 2,
   "metadata": {},
   "outputs": [
    {
     "name": "stdout",
     "output_type": "stream",
     "text": [
      "Beginning proof of lessEqShiftAddRight\n",
      "Recorded 'presuming' information\n",
      "Presuming previous theorems (applied transitively).\n"
     ]
    },
    {
     "data": {
      "text/html": [
       "<strong id=\"lessEqShiftAddRight\">lessEqShiftAddRight:</strong> <a class=\"ProveItLink\" href=\"../__pv_it/c7904d814f44f237e381cf1f84a8a9660697d51d0/expr.ipynb\"><img src=\"data:image/png;base64,iVBORw0KGgoAAAANSUhEUgAAAUwAAAAWBAMAAABZIrhJAAAAMFBMVEX///8QEBCIiIhmZma6urrM\n",
       "zMxUVFQiIiJERETc3Nzu7u6qqqp2dnaYmJgyMjIAAAAcRTyBAAAAAXRSTlMAQObYZgAABDRJREFU\n",
       "SMfNl3+IFGUYx7+7c/trdmbXP/pDkWJayZPAWDw6jdIW+sO/0u0fKwhcLI1+EJsYld4f2xExlyRL\n",
       "QUoQjB1UXFc3GKEHIYNHSJvKYoEmeCyRSqWTBEFeKT3vj9ndd3b2stiiB743M+89z72feZ/neec9\n",
       "4N+xd6UibbZ3KNOMds3WhVrs4fygKfWaULQl6z1DH0J/pRrl+5TQV+z+x0Fj5upCfV6i1bkfLvPL\n",
       "D+RfjPL9ROgAW/HaoDG/lurYoe6HY23g4xa/moSYd4NEW12uhsWVc+jiDhrzZak+mAeDilwrSzJF\n",
       "K7/ZicLUl3CZjamp/YOmzFSF+mHmSsLtuWB9GMFxRGHie6HfbHts0JjxohDemrvdCWEeK5Rh8DJM\n",
       "7CsFgytIFwv3hjCNwh3AHLi2AxMRM21q/SXMUPjZD+7STaGhZfg5tJr73XQLJv/jdrkd+gZl9oYz\n",
       "U1cwM3uwD5gH1wNK4+Hwqse/428i+y6787UNShICBwJRII+IFxel5godbGJdCHMMSRdZXhDDd7aD\n",
       "99BEC8hbCmbKwzM0H7hSiAdbq/75SDNuoMHccqxsPppbD8sz3kOEQwjzKI39FDzESkL3O9jJnk/5\n",
       "/vO+f5HutAWe7qvc7UwjCLiFftPCjEfL4/uXbvP9Cng02VYho5kKnM/OToEozjHsPCXA3PuOQ5jm\n",
       "x1EOKuY8G7oWxlwK/Vd1NWO1LkwcvaeDSdvmZldZzaXowsy0ttDN5MoLGGJ5ZhQe+03haaoHMsKc\n",
       "FvVsKQ4BJovEXYwy8ctKR0m6/geyV1XMGR46FOwCm7a3k55vyuULMCma2UapiSdo6IXEAnIQFCOM\n",
       "ZthZIT6klqeNsOuuxBLFQWLyyI18GeK740WlhfTfkWzNKpgEA1e2ELNHXg1aKF/Sb1U7/TrdtlsI\n",
       "n9KracVEFZN8Lm3HLnYdx7zOJ7VGn2T7hlZDWXGQmDxymk+WtoLpWf8xjeNMxVMwtQomy9C8drW8\n",
       "zdudmi/ZTBdVzFHodwP3QYj1V8yNV/CwbdtW3HjzG1Eto4mXbHsc1perGWaMFkxxkJg8EtN7eUVq\n",
       "Fbk1VYXeLzy6raR2+onzNF2uHNrLKKv6mpOh7d04eZp+XpAyqSJm6ulzTlLkNPsYK5EFLEdFJP2z\n",
       "hmwpxUFi8kgapS7POzH35j6WH4S34FT3MUX9WFaFRAPWtz4IoyxKr+FlXsdus4YvBKYxjQMOfd+K\n",
       "HYeu1WSR7GWvIOWc7X/0mIo8egRmdp+OdKf36CGztO3QeoBl7vApb3JDYjm2nCAOWpzs2GV9pPWQ\n",
       "m1lz2uk4dDBFJFsDJ/Fsu+TSdaHFDnL6pReZifxP9POVBznlU0ylJ9ddXFZRbQpzQw69X6G/cSxO\n",
       "Rx2L+9jEYu8wG3HW753tn/6T8e3N/5Nh1oWiLRxkYlHMI7QF2A7+n6b9d1P9Cb7pPc9Q2M7GAAAA\n",
       "AElFTkSuQmCC\n",
       "\" style=\"display:inline;vertical-align:middle;\" /></a><br>(see <a class=\"ProveItLink\" href=\"../__pv_it/c7904d814f44f237e381cf1f84a8a9660697d51d0/dependencies.ipynb\">dependencies</a>)<br>"
      ],
      "text/plain": [
       "lessEqShiftAddRight: forall_{a in Reals, b in Reals, c in Reals | a <= b} ((a + c) <= (b + c))"
      ]
     },
     "execution_count": 2,
     "metadata": {},
     "output_type": "execute_result"
    }
   ],
   "source": [
    "%proving lessEqShiftAddRight presuming []"
   ]
  },
  {
   "cell_type": "code",
   "execution_count": null,
   "metadata": {},
   "outputs": [],
   "source": []
  }
 ],
 "metadata": {
  "kernelspec": {
   "display_name": "Python 3",
   "language": "python",
   "name": "python3"
  }
 },
 "nbformat": 4,
 "nbformat_minor": 0
}
