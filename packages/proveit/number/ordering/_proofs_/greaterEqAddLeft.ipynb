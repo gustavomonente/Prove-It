{
 "cells": [
  {
   "cell_type": "markdown",
   "metadata": {},
   "source": [
    "Proof of <a class=\"ProveItLink\" href=\"../../../_context_.ipynb\">proveit</a>.<a class=\"ProveItLink\" href=\"../../_context_.ipynb\">number</a>.<a class=\"ProveItLink\" href=\"../_context_.ipynb\">ordering</a>.<a class=\"ProveItLink\" href=\"../_theorems_.ipynb#greaterEqAddLeft\">greaterEqAddLeft</a> theorem\n",
    "========"
   ]
  },
  {
   "cell_type": "code",
   "execution_count": 1,
   "metadata": {},
   "outputs": [],
   "source": [
    "import proveit\n",
    "context = proveit.Context('..') # the theorem's context is in the parent directory"
   ]
  },
  {
   "cell_type": "code",
   "execution_count": 2,
   "metadata": {},
   "outputs": [
    {
     "name": "stdout",
     "output_type": "stream",
     "text": [
      "Beginning proof of greaterEqAddLeft\n",
      "Recorded 'presuming' information\n",
      "Presuming previous theorems (applied transitively).\n"
     ]
    },
    {
     "data": {
      "text/html": [
       "<strong id=\"greaterEqAddLeft\">greaterEqAddLeft:</strong> <a class=\"ProveItLink\" href=\"../__pv_it/c1b5258dd3c3c97de1b210fb4f930773547f5e360/expr.ipynb\"><img src=\"data:image/png;base64,iVBORw0KGgoAAAANSUhEUgAAATsAAAAWBAMAAABNtyaoAAAAMFBMVEX///8QEBCIiIhmZma6urrM\n",
       "zMxUVFQiIiJERETc3Nzu7u6qqqp2dnaYmJgyMjIAAAAcRTyBAAAAAXRSTlMAQObYZgAAA/9JREFU\n",
       "SMfFVl1oVEcUPrt37/7c/fPBh4oUbjegQYksWbChoi4IvjVZX7QFIcFf9CHEkKCWPKxByyZSWLpQ\n",
       "pVC4dqEp22gulloCRZaIqGsMFxXUYGQpNQ9Rog8tNGmRzpkzd+8Pu0aFtQMnM+fLOXe+PT8zA/Ce\n",
       "xndC6o7JhmgVF3NNZ6dkSeoPf95tfqqP0NuoLTSdXixP0oA8DxKMfWLZJwk9z9ahbNPp3RNijct2\n",
       "ZYqmq0dMIK4TGtMAInrT6Z0U0oDeBTF3HhSLLo3QaKVUOtd0dqE+kkb0Ymmx+Ow0zTdM9O9cbqjp\n",
       "9LxJEihc+0hz0ZtKZCCSNLVvnvFpPrEFOMrCOVLng53VFff0reTjnSqLVdAg8a2BF67ondODVYha\n",
       "ngWsAeWVNpHn6A6zb2j82rr/d5zN3xPu/3Kbat/TAoIWUSrpWgyE/hiuCCCgk1wwoMNFbwj8OoSt\n",
       "xD/Aj4SXIa5yNABew+zv31KGNwIV3D2G7fLTta2gliPfg83AAix6UOAlHdOd+gDERSY9aZLtGvSj\n",
       "PrO4eGxxcZ6tpGXU5Zem5/oK/pWqMFHmaMQImP96OFkCRm8W6cbZIRU9+63G2EQv2g0swEYPCmeE\n",
       "j01X/gKP7qT3AYKO6HmydnrKDdU89rp0joaqu5leXPcUfBhWpIcV0504yvIOnM04z1xC5QY1QNBT\n",
       "2nszbBo/TT681kmXlyBgOJKr/Avhl056E7w8fZTc0MfCPm5goDk6coDtMSgvQwyIXgpZrNda6MJT\n",
       "y1KKZ0pexQ1qgKA3lunmGRxf4D6MRnoX6eyTAdXRGso/4K9OOugxIqCL1gj1mtURTysfAqE/M45S\n",
       "Uu6DIqcnHRrAeRieKBSszYfxUJKykCmCDTDppWAPnzcZ6MMWHSCTzqLnEfSwaVCG4UFP2UFP6oFi\n",
       "BiQO/piuXcJGkFlzlLUIqxFvD+zJ5XKqN/L1fTRYDZvlE7ncMKi32tALq4gbmIBJby2swxS36tyH\n",
       "A0JnZRYXG2KaUH5IfL4v7ezc6Tm2fyzjuoTb74BAoyw3E/ngrOan5Ib3YrKW2TY9lMtfKqLs/WAD\n",
       "BD1lCb4qgXIzLXwAlhDlutW5K11qY3UP1hrqyXd/CpEM1V6lHBqFL6JZuE5sIuNwXmMXTJIbEGBF\n",
       "b438p6F08JAwH+b5B0hCb6mde3WeBKU6TwLXqKG+fZe3ApzFY3mmXNwmr4Xd02x/lrDw0HMlVd2l\n",
       "h9rvatyAAIvezo0thky5YT7Ms9C2Qeje6dpdFcyTvPZBdek4jkEXal1CWFp0NdDUymqPhu4ycJ97\n",
       "1qXyLs/R+sQb/xz36zpczzL45u/yFR7zj94CxWG49Ci8ll6YtXRu1PK06f/fkJq/xX+WjTqjGEPL\n",
       "lQAAAABJRU5ErkJggg==\n",
       "\" style=\"display:inline;vertical-align:middle;\" /></a><br>(see <a class=\"ProveItLink\" href=\"../__pv_it/c1b5258dd3c3c97de1b210fb4f930773547f5e360/dependencies.ipynb\">dependencies</a>)<br>"
      ],
      "text/plain": [
       "greaterEqAddLeft: forall_{a in Reals, b in Reals, c in Reals | a >= b, c >= 0} ((a + c) >= b)"
      ]
     },
     "execution_count": 2,
     "metadata": {},
     "output_type": "execute_result"
    }
   ],
   "source": [
    "%proving greaterEqAddLeft presuming []"
   ]
  },
  {
   "cell_type": "code",
   "execution_count": null,
   "metadata": {},
   "outputs": [],
   "source": []
  }
 ],
 "metadata": {
  "kernelspec": {
   "display_name": "Python 3",
   "language": "python",
   "name": "python3"
  }
 },
 "nbformat": 4,
 "nbformat_minor": 0
}
