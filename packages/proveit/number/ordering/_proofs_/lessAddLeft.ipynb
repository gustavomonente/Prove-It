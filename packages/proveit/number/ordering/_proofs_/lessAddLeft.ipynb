{
 "cells": [
  {
   "cell_type": "markdown",
   "metadata": {},
   "source": [
    "Proof of <a class=\"ProveItLink\" href=\"../../../_context_.ipynb\">proveit</a>.<a class=\"ProveItLink\" href=\"../../_context_.ipynb\">number</a>.<a class=\"ProveItLink\" href=\"../_context_.ipynb\">ordering</a>.<a class=\"ProveItLink\" href=\"../_theorems_.ipynb#lessAddLeft\">lessAddLeft</a> theorem\n",
    "========"
   ]
  },
  {
   "cell_type": "code",
   "execution_count": 1,
   "metadata": {},
   "outputs": [],
   "source": [
    "import proveit\n",
    "context = proveit.Context('..') # the theorem's context is in the parent directory"
   ]
  },
  {
   "cell_type": "code",
   "execution_count": 2,
   "metadata": {},
   "outputs": [
    {
     "name": "stdout",
     "output_type": "stream",
     "text": [
      "Beginning proof of lessAddLeft\n",
      "Recorded 'presuming' information\n",
      "Presuming previous theorems (applied transitively).\n"
     ]
    },
    {
     "data": {
      "text/html": [
       "<strong id=\"lessAddLeft\">lessAddLeft:</strong> <a class=\"ProveItLink\" href=\"../__pv_it/5f87c79335324f65aab8aec06b239a061f961ba10/expr.ipynb\"><img src=\"data:image/png;base64,iVBORw0KGgoAAAANSUhEUgAAATsAAAAWBAMAAABNtyaoAAAAMFBMVEX///8QEBCIiIhmZma6urrM\n",
       "zMxUVFQiIiJERETc3Nzu7u6qqqp2dnaYmJgyMjIAAAAcRTyBAAAAAXRSTlMAQObYZgAABAJJREFU\n",
       "SMfFVl1oFFcU/nZmZ39m/3zwoUGE7QZUWpQlCxIo2oWCD4XW9SVpQciitZU+SIwRahthG2jYKIWl\n",
       "ARVBGF1QWFMyWFqJ9GGJFDWNMtRCq6gsEn1oNfWhhWZbSu+5987MzjpL4sO2F87ee785Z8835+fO\n",
       "Bf6jcUaK75jtiDZocb/r7PSSEP8RqrSrfzos0O9p90vX6SUrQjqQbzynnxXoKbaOlrpO77YUd1xq\n",
       "3cy5y9gj+k2ZAk0aQNzsOr0jUjrQO+usEod4jHcaAk3M12onu84uOiykE71kXi6UMYPP12z0z3J5\n",
       "rOv0lKwQTF192WijN5cpIJ4V6+kRCT7OvAaO7gMmff7w7caKPoMr2ShzdbmKWEKCPfitLXonzUgD\n",
       "CWFZPWr3yj/GTIWjb3j75vKmvQ9ptt8nNjKxPd3q0wUiXjJvOjZCr4R7+EZuwqaQsxb62+iNIWQi\n",
       "xhMf+tUxbiKV5mgYimVz/jZnKXHMk/cktcvFq9uQrsfPoUXBBbz03ikKG9sBe8lRpGQmA3khrxvg\n",
       "6bu1tHRwaekxW6lN2mvP6Pe8Q09tYKbO0bgVtsGfZ2tg9O4S3RRroMTx0wZjk/iyVcEFPPROTAob\n",
       "uwGfspf5AwHTS+8lAj3RC5Rcepg66h57O02ORhsDlPUNjxCk3BA9qpihzIcs7+Bspnm2M2mu4ACS\n",
       "nt53oMDsP5M2vNahPCWfywhbnuTqfyP2zEtvhpdncNjbGimLAs3RyfeYj8NaE0kIejlisdHoFR+8\n",
       "dF3N0TyqreEKDiDpXSgMGZhehLRhNPK7gp/wkDQRTntaQ/8Locashx4jAtNuDedgSeX19RDoV4yj\n",
       "mtWGUeXP1fdHaR7HA10Ea+sHdCipJRSqaAFsejkMQlsPacN++6Hp1/MiegFJj5qGZBw/FeseemoR\n",
       "1QLUuvdYDlkRps1R1iKsRpQiBsvlclqJf/Ejqa3FVu2jcnkc6RubyRdVEVewAZveOmxgpZ6XNhxg\n",
       "2bhu8tpLyeOW0kRyPvPunry3cxfuM//JgvejpvfdhEQTLJwzlchdIySSG9tN8W0yN0WRy6/nZauE\n",
       "0AJIevoyPq9B7y9IG2CZP9xitnbuSh+1C74Hq4MGKkNvIV4QtTdfjx7Dx4kSvhNs4tM4ZbAPTJYr\n",
       "CMCNXo/2Oyuf6H5Gn9kwy0WohD+w0Oucez5XglqHK4EfGtxzaRtwnI7lW/Xqdm0dBhaYfxaB2NgT\n",
       "PdfYZUb7fjC4ggBcejte7aX2jE5UyIZZTm1+hT+4AmXBOacjFSGrvVD5oQqVligAMW1itSeG2abw\n",
       "/LGsTbZavth11J9459dpv13H/DQjq7+Xr3CZv/MCKA2rbZ/Aaulxyxhr8fIx/L9D7b6LfwEmNjZh\n",
       "EraLWgAAAABJRU5ErkJggg==\n",
       "\" style=\"display:inline;vertical-align:middle;\" /></a><br>(see <a class=\"ProveItLink\" href=\"../__pv_it/5f87c79335324f65aab8aec06b239a061f961ba10/dependencies.ipynb\">dependencies</a>)<br>"
      ],
      "text/plain": [
       "lessAddLeft: forall_{a in Reals, b in Reals, c in Reals | a < b, c <= 0} ((a + c) < b)"
      ]
     },
     "execution_count": 2,
     "metadata": {},
     "output_type": "execute_result"
    }
   ],
   "source": [
    "%proving lessAddLeft presuming []"
   ]
  },
  {
   "cell_type": "code",
   "execution_count": null,
   "metadata": {},
   "outputs": [],
   "source": []
  }
 ],
 "metadata": {
  "kernelspec": {
   "display_name": "Python 3",
   "language": "python",
   "name": "python3"
  }
 },
 "nbformat": 4,
 "nbformat_minor": 0
}
