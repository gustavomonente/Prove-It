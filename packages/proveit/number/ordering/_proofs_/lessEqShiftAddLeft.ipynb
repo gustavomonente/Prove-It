{
 "cells": [
  {
   "cell_type": "markdown",
   "metadata": {},
   "source": [
    "Proof of <a class=\"ProveItLink\" href=\"../../../_context_.ipynb\">proveit</a>.<a class=\"ProveItLink\" href=\"../../_context_.ipynb\">number</a>.<a class=\"ProveItLink\" href=\"../_context_.ipynb\">ordering</a>.<a class=\"ProveItLink\" href=\"../_theorems_.ipynb#lessEqShiftAddLeft\">lessEqShiftAddLeft</a> theorem\n",
    "========"
   ]
  },
  {
   "cell_type": "code",
   "execution_count": 1,
   "metadata": {},
   "outputs": [],
   "source": [
    "import proveit\n",
    "context = proveit.Context('..') # the theorem's context is in the parent directory"
   ]
  },
  {
   "cell_type": "code",
   "execution_count": 2,
   "metadata": {},
   "outputs": [
    {
     "name": "stdout",
     "output_type": "stream",
     "text": [
      "Beginning proof of lessEqShiftAddLeft\n",
      "Recorded 'presuming' information\n",
      "Presuming previous theorems (applied transitively).\n"
     ]
    },
    {
     "data": {
      "text/html": [
       "<strong id=\"lessEqShiftAddLeft\">lessEqShiftAddLeft:</strong> <a class=\"ProveItLink\" href=\"../__pv_it/53c8b571c70f768fec6e1bb3c8dbb1e8907e18450/expr.ipynb\"><img src=\"data:image/png;base64,iVBORw0KGgoAAAANSUhEUgAAAUwAAAAWBAMAAABZIrhJAAAAMFBMVEX///8QEBCIiIhmZma6urrM\n",
       "zMxUVFQiIiJERETc3Nzu7u6qqqp2dnaYmJgyMjIAAAAcRTyBAAAAAXRSTlMAQObYZgAABCRJREFU\n",
       "SMfNl0toE1EUhk+STpNMZlIXgqIoQ6tWRCVYrAhaKy5cKXGjLgRDfeGTKr7tIqjIVFEGFyqCMJqF\n",
       "UqsZFFFBNFhEjA+CCj7AEnziaxBxoVXBcx8z6Z1OtEoUL/yZmZtzcr97zzl3bgD+TjvC5dsu9u2K\n",
       "FvxNYwZTkTw8qTSlnGbyb9VGn64TPmYnBuHHcqabpONNpTHjBlOZSRRL9/VJenntZ/cMdZrpEFnx\n",
       "dKUx73G57Yzw9VUX+LpGr2qid6A1fvMVpWhUcRMvVqUxt3CVwTzqZOQknpJhwwezqodMZACVmu/o\n",
       "OFhpymgrUznMeDMzW+Osj0DgYCr0F54zfdb1tkpjBhNMoNSOFDGjUyYMwW4aY2lfs+NQR1OhNilg\n",
       "xlvqcBpdQLUEoN1npNnFX8JUeZ9t5y5SYIpug30i5nQj/gFTkf64nnRd95IVtSJFATP7Rv4C0A1U\n",
       "M4TCg/OjFz2lK86TOrZuV5MGPgYIIkBeYBNnqWZx5WClgCkPgxDWa4yGs36M67wN1QbVloB5xYSP\n",
       "OB5QhSHobK3ypYZCUIE8MYsTl5NdU0HLKcfAx8CDeRn73joPgWamaSZ9vGPba237Jd6FeiCMhtIH\n",
       "2v8g7zgMpF/R5bHtV8NtO4W3TSB/A1gIVEoh7Bg/vNgBSPGYYNdg7al7DpuIqZ7yMxAxu0nXFy/m\n",
       "YG8JBdKQTbqYcHlyCTOQ9pbQM6j66mJGi3PxJjPqBVSROBOKHPmmdgXmAzbE7KTTrNUEAweTeMJ4\n",
       "Qil9HGUKQSeLIWJmc3CFZLGzC8xe4gY9m/NifqcrPBOY2hdjNDdIPRAHRtFAaOrNOvYi1XKhBnJd\n",
       "Lw0QDDgm9ZxJkyq4NZgQS+g7jiliWrAGX9GqWw3zdzolVIP2Ym5+gqMFt4TgLE4tlJBaIUPHCi1d\n",
       "T67boVumg2qNy8i+gZmfFAw4JvXspINFNGd4Un9EjSBPFDDRZKOCTu7KwQFa7lh8oRRkxA1pNezA\n",
       "zylcNdgbsIIpmKfruhZU9t9n2dIobdb17aDdGEcwAzhTwYBjUk/o3EMzMpTiW1Mrk3L7rhh0uWXk\n",
       "gRFYn0nPXkaieuuJJgY9M5ak0gsuFRMqa0Qem9UsprEFJMN6YCikWNDP5XlJCQYck3piL1Z5jRmw\n",
       "+veyPO7dgn1flmxirUysAo2Fs0BJstTL56K7YauahmsMU+mEQya+3xIlg16rSTzJZN9D2HxY9ujR\n",
       "4X/0cJpw9JDNXg/86MGj1HJmKgCJ3Pk7uUyTNBTm3kIOXJxY2zu5oTjHik64a5YMSpjMk6yBKa1y\n",
       "Uy5iMP3sICe/2kQai397OVt+kBNexZh6fN3ZZTTmJmuWx6DvW+g3jsWR/h2LXf72/v4NiPmtTORP\n",
       "/2Q86v+fDNVg8m9eJxV+inkBtwDdhP+zhf7dUD8AgyA9ddkt9gAAAAAASUVORK5CYII=\n",
       "\" style=\"display:inline;vertical-align:middle;\" /></a><br>(see <a class=\"ProveItLink\" href=\"../__pv_it/53c8b571c70f768fec6e1bb3c8dbb1e8907e18450/dependencies.ipynb\">dependencies</a>)<br>"
      ],
      "text/plain": [
       "lessEqShiftAddLeft: forall_{a in Reals, b in Reals, c in Reals | a <= b} ((c + a) <= (c + b))"
      ]
     },
     "execution_count": 2,
     "metadata": {},
     "output_type": "execute_result"
    }
   ],
   "source": [
    "%proving lessEqShiftAddLeft presuming []"
   ]
  },
  {
   "cell_type": "code",
   "execution_count": null,
   "metadata": {},
   "outputs": [],
   "source": []
  }
 ],
 "metadata": {
  "kernelspec": {
   "display_name": "Python 3",
   "language": "python",
   "name": "python3"
  }
 },
 "nbformat": 4,
 "nbformat_minor": 0
}
