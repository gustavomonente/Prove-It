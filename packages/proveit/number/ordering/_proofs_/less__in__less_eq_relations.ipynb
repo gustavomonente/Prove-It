{
 "cells": [
  {
   "cell_type": "markdown",
   "metadata": {},
   "source": [
    "Proof of <a class=\"ProveItLink\" href=\"../../../_context_.ipynb\">proveit</a>.<a class=\"ProveItLink\" href=\"../../_context_.ipynb\">number</a>.<a class=\"ProveItLink\" href=\"../_context_.ipynb\">ordering</a>.<a class=\"ProveItLink\" href=\"../_theorems_.ipynb#less__in__less_eq_relations\">less__in__less_eq_relations</a> theorem\n",
    "========"
   ]
  },
  {
   "cell_type": "code",
   "execution_count": 1,
   "metadata": {},
   "outputs": [],
   "source": [
    "import proveit\n",
    "context = proveit.Context('..') # the theorem's context is in the parent directory"
   ]
  },
  {
   "cell_type": "code",
   "execution_count": 2,
   "metadata": {},
   "outputs": [
    {
     "name": "stdout",
     "output_type": "stream",
     "text": [
      "Beginning proof of less__in__less_eq_relations\n",
      "Recorded 'presuming' information\n",
      "Presuming previous theorems (applied transitively).\n"
     ]
    },
    {
     "data": {
      "text/html": [
       "<strong id=\"less__in__less_eq_relations\">less__in__less_eq_relations:</strong> <a class=\"ProveItLink\" href=\"../__pv_it/c8fb08baf4a02f4b5cdb3c05eb73443bdc6ebbe50/expr.ipynb\"><img src=\"data:image/png;base64,iVBORw0KGgoAAAANSUhEUgAAAHkAAAAVBAMAAACQ4lxbAAAAMFBMVEX///+6uroQEBBERERUVFTu\n",
       "7u52dnaIiIjc3NxmZmYiIiKYmJjMzMwyMjKqqqoAAAASK41gAAAAAXRSTlMAQObYZgAAAUBJREFU\n",
       "OMtjYMACuGczEAQ80wOwS7BeYyACMOpgF+f+QIxuhrnYhdkWYBNlX4MmkAVj8N3BqhtZOGw5Aw7d\n",
       "3CsbgOTmVasuoOiGCENA52oGHLrZl4GC73Apmt0QYQhouceAQzfETaxX0VyO7NTDF7EERBKIiIS4\n",
       "iQXhSpYLCGEwYLZBCpS7YDCBgWE/SCnUTcwIBY8OIIQhfliOLWXwAk0IgSo7BDIRHGqHVzAghKHh\n",
       "twybdq8CeGg2I0SFDmAEMt/NBky7HRDBw4QQZjHAjGDGKwdQ/O0A8TcsajgLGPDEGDBXGAtgC3NY\n",
       "sliHkdZAwvEXYKIcPkgcjJQaYhiAJaVyLUVSj8JB6AYDMSu0lAoGTxlwcbJw5DEFJE4CAy5OFuH8\n",
       "zQoKzNhVILAGwiGUvxmQyhZuFGNR4lARh24+Yss1APHCZMh6s4S3AAAAAElFTkSuQmCC\n",
       "\" style=\"display:inline;vertical-align:middle;\" /></a><br>(see <a class=\"ProveItLink\" href=\"../__pv_it/c8fb08baf4a02f4b5cdb3c05eb73443bdc6ebbe50/dependencies.ipynb\">dependencies</a>)<br>"
      ],
      "text/plain": [
       "less__in__less_eq_relations: < in {<, <=, =}"
      ]
     },
     "execution_count": 2,
     "metadata": {},
     "output_type": "execute_result"
    }
   ],
   "source": [
    "%proving less__in__less_eq_relations presuming []"
   ]
  },
  {
   "cell_type": "code",
   "execution_count": null,
   "metadata": {},
   "outputs": [],
   "source": []
  }
 ],
 "metadata": {
  "kernelspec": {
   "display_name": "Python 3",
   "language": "python",
   "name": "python3"
  }
 },
 "nbformat": 4,
 "nbformat_minor": 0
}
