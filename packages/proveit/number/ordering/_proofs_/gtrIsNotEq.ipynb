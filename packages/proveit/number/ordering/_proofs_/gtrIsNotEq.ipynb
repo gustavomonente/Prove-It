{
 "cells": [
  {
   "cell_type": "markdown",
   "metadata": {},
   "source": [
    "Proof of <a class=\"ProveItLink\" href=\"../../../_context_.ipynb\">proveit</a>.<a class=\"ProveItLink\" href=\"../../_context_.ipynb\">number</a>.<a class=\"ProveItLink\" href=\"../_context_.ipynb\">ordering</a>.<a class=\"ProveItLink\" href=\"../_theorems_.ipynb#gtrIsNotEq\">gtrIsNotEq</a> theorem\n",
    "========"
   ]
  },
  {
   "cell_type": "code",
   "execution_count": 1,
   "metadata": {},
   "outputs": [],
   "source": [
    "import proveit\n",
    "context = proveit.Context('..') # the theorem's context is in the parent directory"
   ]
  },
  {
   "cell_type": "code",
   "execution_count": 2,
   "metadata": {},
   "outputs": [
    {
     "name": "stdout",
     "output_type": "stream",
     "text": [
      "Beginning proof of gtrIsNotEq\n",
      "Recorded 'presuming' information\n",
      "Presuming previous theorems (applied transitively).\n"
     ]
    },
    {
     "data": {
      "text/html": [
       "<strong id=\"gtrIsNotEq\">gtrIsNotEq:</strong> <a class=\"ProveItLink\" href=\"../__pv_it/2723399e2e58098b5f4b2f4ffd1d6454a419244d0/expr.ipynb\"><img src=\"data:image/png;base64,iVBORw0KGgoAAAANSUhEUgAAAMUAAAAWCAMAAABHTKhDAAAAOVBMVEX///8kJCQNDQ0oKCgQEBCI\n",
       "iIhmZma6urrMzMxUVFQiIiJERETc3Nzu7u6qqqp2dnaYmJgyMjIAAAD9T1yxAAAAAXRSTlMAQObY\n",
       "ZgAAArBJREFUWMPNV9mSnDAMJFkkfF///7GxfIENeNitVIgfpgYQQq1Wy/Ky/E9Lueljq8/3jKJf\n",
       "366dexuElnOM/mi6ivyPEwxr6gOv30bh1fQx3zpjLHgIm6r4lXwbhMM5FX2AoabfwoGCnZS3lvhA\n",
       "BTtebaGWjl4pA1bTUuJ1aYvvUGF3a0+VFiQtYd9GAbWgFFqEdVSpZL2GOADm8rHYmJLq2bc27x8Y\n",
       "/cSLLD1yW2MoPrSk+7S+ftNvU44OUQk6pKAd+dqwKv1qGQGSo4edSvxgQAFdVUSXS3tWsjClzAkN\n",
       "yjkVJskiQI4gvU50njYLbSxivAuLpf2mRenNB4MbFJof6fbnXrJmBjHFJ6B/yHh/jT4RkmTAEm/W\n",
       "ZSR925NGafKXgnS6oQzqg8ENCtInV6OXM4pVpvjYQMVgn2pry902o4h7YoWqEbhntcyy6HKQVfws\n",
       "AHA9MRhRNJf0skTdeTlXVM6vCUuni19rVkdjJLhG27KJArRsi1qw+AHdDSYpSMQaNAidusmtwYBi\n",
       "d1lkDUcvZ3XrlF/uy4B0t6uHrSqoqDsix1JQFAoTKYGHIJFz0bqOhPTavcGAorlspUotqHhZLgSf\n",
       "Hgm+HLndTr2ARwCy3MViGoqW1pgHINaYSJsIeYypVuC2Y/UinxgMKJrL2lwSGcVL331F6QIATHE4\n",
       "OjyPeLFObVVirVenSxOmNDnSLO8KxrA2FFNxUGS3Bj2Kg8tcUNmuenk2gZjpgKXHzhTJZmEjjJZ1\n",
       "ZW9JvErGb8eCdvLG4JKL5vIg7ubl2TQ4n7YtjFsqBwOYPilN3dSst5HA2KAZZY9xm+O9MLhCsbtU\n",
       "fG+0zcu0nVYqpsORns4SUMq+8/fJYLJfsGH3fX5KmlPxdHQaTocP1k+PKtcn1ulU5r4LYnl8pH39\n",
       "wPVXFv7j7/0BJVsgXdMjBMcAAAAASUVORK5CYII=\n",
       "\" style=\"display:inline;vertical-align:middle;\" /></a><br>(see <a class=\"ProveItLink\" href=\"../__pv_it/2723399e2e58098b5f4b2f4ffd1d6454a419244d0/dependencies.ipynb\">dependencies</a>)<br>"
      ],
      "text/plain": [
       "gtrIsNotEq: forall_{a in Reals, b in Reals | a > b} (a != b)"
      ]
     },
     "execution_count": 2,
     "metadata": {},
     "output_type": "execute_result"
    }
   ],
   "source": [
    "%proving gtrIsNotEq presuming []"
   ]
  },
  {
   "cell_type": "code",
   "execution_count": null,
   "metadata": {},
   "outputs": [],
   "source": []
  }
 ],
 "metadata": {
  "kernelspec": {
   "display_name": "Python 3",
   "language": "python",
   "name": "python3"
  }
 },
 "nbformat": 4,
 "nbformat_minor": 0
}
