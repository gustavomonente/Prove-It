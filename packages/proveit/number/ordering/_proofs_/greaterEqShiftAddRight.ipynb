{
 "cells": [
  {
   "cell_type": "markdown",
   "metadata": {},
   "source": [
    "Proof of <a class=\"ProveItLink\" href=\"../../../_context_.ipynb\">proveit</a>.<a class=\"ProveItLink\" href=\"../../_context_.ipynb\">number</a>.<a class=\"ProveItLink\" href=\"../_context_.ipynb\">ordering</a>.<a class=\"ProveItLink\" href=\"../_theorems_.ipynb#greaterEqShiftAddRight\">greaterEqShiftAddRight</a> theorem\n",
    "========"
   ]
  },
  {
   "cell_type": "code",
   "execution_count": 1,
   "metadata": {},
   "outputs": [],
   "source": [
    "import proveit\n",
    "context = proveit.Context('..') # the theorem's context is in the parent directory"
   ]
  },
  {
   "cell_type": "code",
   "execution_count": 2,
   "metadata": {},
   "outputs": [
    {
     "name": "stdout",
     "output_type": "stream",
     "text": [
      "Beginning proof of greaterEqShiftAddRight\n",
      "Recorded 'presuming' information\n",
      "Presuming previous theorems (applied transitively).\n"
     ]
    },
    {
     "data": {
      "text/html": [
       "<strong id=\"greaterEqShiftAddRight\">greaterEqShiftAddRight:</strong> <a class=\"ProveItLink\" href=\"../__pv_it/f765ea805791f32b719ca77ec728fa3b967780ee0/expr.ipynb\"><img src=\"data:image/png;base64,iVBORw0KGgoAAAANSUhEUgAAAUwAAAAWBAMAAABZIrhJAAAAMFBMVEX///8QEBCIiIhmZma6urrM\n",
       "zMxUVFQiIiJERETc3Nzu7u6qqqp2dnaYmJgyMjIAAAAcRTyBAAAAAXRSTlMAQObYZgAABDxJREFU\n",
       "SMfNV2+oFFUUP7uz/2Z2ZtcPflAkGVcyvwiLj15CaQtBfUq3DxlB4GJl+IfYnkalL9geEfN6GEtC\n",
       "iiCMLlS8Xr3BiHrQh8GHVC99LBqkgrJEPsk/kwRBvTI69547u3NnZ18Wa3jgt/fOnXPm/u75c+9d\n",
       "gDsjRwQiZap7SG1Gq2brhBZ7uNhvllqNEC2petfQh6C9UY3S3U74lvWv9ptmrk7osQjuG2233Rn6\n",
       "CfWLUbqfEA4xj9f6TfOsQEeOBx9OUEDn2gsxkGLe8QNtBlR1kyOHS9KdftN8TaAHzaPUJObKYiCN\n",
       "hDfZUTS1RRzGzPj4wX6zVKuEXjRzJWqTlugwBl9BFE34kfCbZQ33m2a8SIAD0yvsEM0ThTLofhqq\n",
       "L1IgVyLmCg+GaOqFewGmgeN5gNGImTa2/pFMIvzs+b1Mk5BYCj+HvHnQybTAaH9cfYDn536M7F/2\n",
       "ZF2iqe6DdwAuAccjovCEfL762R/4SsSCs0NvbZCC4CsgkfbYo/T9af857RCONmFdiOYwpBzIthPC\n",
       "2M2bfTjRPORNiWbahZ04H3CkIe5vrdqXA824DjNMLcei8dH0ejBd/RhEKARpqoO8Fq75z7ES4WEb\n",
       "htjzrOe95Hlz2FPmeU7e9LNjmHJiMb5pwaSL7vG8K8s9rwLcGmULQW+m/a+fmxoHZHGB0c6jg4yx\n",
       "wzbSND6OUgjSBHUd4/l7mOYS0H6VvRmrBWlODIm3i/m2ucmRvLkEAjTV1mbsNFZdhgSLM2PhsjeF\n",
       "HZgPKEhzgvLZlBR8mswS/fx1CZK/rLKloGt/QvamTHOSmyYo6Ade99eFQc83hft8mmjN5DGB0edw\n",
       "6OXkPOSAWAwwNvfZK+kgNV1lgLV7koskBUGTW7J21o7vjRelEtL+gFRrSqKJZMARJfReO0lYCeVL\n",
       "2j1ypd/CbruE4FNcmlJMVqHBWSjb9rB2BC5pfFJz8AW2uSk1KEsKgia3ZMM3IGP6Fczqj2EEvq+4\n",
       "Ek2lAo0yKGxQe7OTNFh8qWamKNMcBO1+gIeAwOor5sQr8JRlWWZcf/c7ypbB5KuWNQLmN2sYzRjG\n",
       "UVIQNLklwLExlo1KRWxNVcL7hae3luRKP3URp8uVQ3sZRlVbezq0veunz+DvZQEDM2Kynrlgpyim\n",
       "2WdYiszDMqhQ0D+bESUlKQia3BImmGfydsy5vcPyg/AWnA5eU+TDskqgAqxveRz0MqXejKu+DXuN\n",
       "GpwkmvoEHLLxfCt2FALeZJYNHr+0fa731WO8++oRECN4O9Ls7quHiNLW4+sBxthOOus2NiSXweZT\n",
       "yAOdkx2+rg20nnDUtWfsjkKHJrd8kk7oXW77GKoTFrzIXXmFCcV/tJeuuMhJRzGmnvA7NasxN0mc\n",
       "kEJo3/x31+JM1LW4h4wutIapiLt+92z/9U/G+dv/k2HUCdESNjJgQZpf4BZg2XB3ivL/TfU3tyg+\n",
       "tHEgjEcAAAAASUVORK5CYII=\n",
       "\" style=\"display:inline;vertical-align:middle;\" /></a><br>(see <a class=\"ProveItLink\" href=\"../__pv_it/f765ea805791f32b719ca77ec728fa3b967780ee0/dependencies.ipynb\">dependencies</a>)<br>"
      ],
      "text/plain": [
       "greaterEqShiftAddRight: forall_{a in Reals, b in Reals, c in Reals | a >= b} ((a + c) >= (b + c))"
      ]
     },
     "execution_count": 2,
     "metadata": {},
     "output_type": "execute_result"
    }
   ],
   "source": [
    "%proving greaterEqShiftAddRight presuming []"
   ]
  },
  {
   "cell_type": "code",
   "execution_count": null,
   "metadata": {},
   "outputs": [],
   "source": []
  }
 ],
 "metadata": {
  "kernelspec": {
   "display_name": "Python 3",
   "language": "python",
   "name": "python3"
  }
 },
 "nbformat": 4,
 "nbformat_minor": 0
}
