{
 "cells": [
  {
   "cell_type": "markdown",
   "metadata": {},
   "source": [
    "Proof of <a class=\"ProveItLink\" href=\"../../../_context_.ipynb\">proveit</a>.<a class=\"ProveItLink\" href=\"../../_context_.ipynb\">number</a>.<a class=\"ProveItLink\" href=\"../_context_.ipynb\">ordering</a>.<a class=\"ProveItLink\" href=\"../_theorems_.ipynb#relaxGreater\">relaxGreater</a> theorem\n",
    "========"
   ]
  },
  {
   "cell_type": "code",
   "execution_count": 1,
   "metadata": {},
   "outputs": [],
   "source": [
    "import proveit\n",
    "context = proveit.Context('..') # the theorem's context is in the parent directory"
   ]
  },
  {
   "cell_type": "code",
   "execution_count": 2,
   "metadata": {},
   "outputs": [
    {
     "name": "stdout",
     "output_type": "stream",
     "text": [
      "Beginning proof of relaxGreater\n",
      "Recorded 'presuming' information\n",
      "Presuming previous theorems (applied transitively).\n"
     ]
    },
    {
     "data": {
      "text/html": [
       "<strong id=\"relaxGreater\">relaxGreater:</strong> <a class=\"ProveItLink\" href=\"../__pv_it/f97c86f23692f5d9ad4ea61c2ac965d714b3d3270/expr.ipynb\"><img src=\"data:image/png;base64,iVBORw0KGgoAAAANSUhEUgAAAKEAAAAWBAMAAABasOFIAAAAMFBMVEX///8QEBCIiIhmZma6urrM\n",
       "zMxUVFQiIiJERETc3Nzu7u6qqqp2dnaYmJgyMjIAAAAcRTyBAAAAAXRSTlMAQObYZgAAAklJREFU\n",
       "OMudVTtoFFEUPdnMZD6ZTdLYDxsIIY1poiASg4Jik5hGUkpQIU0Qo4gQJRCRTTci6qKIzyZCSLFg\n",
       "pdWy5Vo4oiCCwmARwQ8MoqDYeO+bnXnzcSOTC7P77j37zv3OXaC8POwNPaMn4MOHMoT2Wm9swANe\n",
       "8OFzGcYhT5GviJw3CrBB39ZaGcbXqfPgjpcF2+SRvDjNMoxX04q2cyoDPgaqna2te2UIrQsZVa/P\n",
       "ZEpC2q96fbUMY2WSylVbOtqOPSzLDO1RF7cEHELPARuFazO9GU0f2MZb93oS9EGupaONYD+lTK05\n",
       "JhuUE9WqO3nIoJA6eClOxobqCn8+6A9Qp1ZRTQxU/F0YN/MJ9FH8gi/HVViVEyT6XHynsoYUrm9g\n",
       "F0Y0loqM4MuRbF/sHuaE/jNitILTPEdTYzQG2hgMoRgj48KhFBBlDb4s5fa1mHoalRH6IU/CxlkK\n",
       "XSwb5NsZFvMqxq4Rs64Cos48r4SYYOXulyT2mzDPRJ3BU6LV8Y2t909gXDF2jcArLwHA86H9MUOL\n",
       "i2/fUNU4gDky9bfoOOyy4bc0H8Ziuo6RcfCjAmRe9uLEaGG5bNaO0BQN8StU5QLpoc7mS9iXYoyM\n",
       "2lehgPxbmJZpep7EyiMncNAQuKyFilEaoa+zxxjIbYrUHgvsH9Gm6Ib8pt3BfBPHxwPFKI3Webld\n",
       "YoBbk9pmn66wcKaGb7oovCxN2zP93DwuyN2SAD03rlabynqTHfAGWrOFCY9yioH//Cu8y6pVaO9b\n",
       "/2ZMgD3L5N6v/gXLGJoaJgUFuAAAAABJRU5ErkJggg==\n",
       "\" style=\"display:inline;vertical-align:middle;\" /></a><br>(see <a class=\"ProveItLink\" href=\"../__pv_it/f97c86f23692f5d9ad4ea61c2ac965d714b3d3270/dependencies.ipynb\">dependencies</a>)<br>"
      ],
      "text/plain": [
       "relaxGreater: forall_{x, y | x > y} (x >= y)"
      ]
     },
     "execution_count": 2,
     "metadata": {},
     "output_type": "execute_result"
    }
   ],
   "source": [
    "%proving relaxGreater presuming []"
   ]
  },
  {
   "cell_type": "code",
   "execution_count": null,
   "metadata": {},
   "outputs": [],
   "source": []
  }
 ],
 "metadata": {
  "kernelspec": {
   "display_name": "Python 3",
   "language": "python",
   "name": "python3"
  }
 },
 "nbformat": 4,
 "nbformat_minor": 0
}
