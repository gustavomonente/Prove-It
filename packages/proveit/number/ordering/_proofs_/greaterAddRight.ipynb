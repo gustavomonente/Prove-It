{
 "cells": [
  {
   "cell_type": "markdown",
   "metadata": {},
   "source": [
    "Proof of <a class=\"ProveItLink\" href=\"../../../_context_.ipynb\">proveit</a>.<a class=\"ProveItLink\" href=\"../../_context_.ipynb\">number</a>.<a class=\"ProveItLink\" href=\"../_context_.ipynb\">ordering</a>.<a class=\"ProveItLink\" href=\"../_theorems_.ipynb#greaterAddRight\">greaterAddRight</a> theorem\n",
    "========"
   ]
  },
  {
   "cell_type": "code",
   "execution_count": 1,
   "metadata": {},
   "outputs": [],
   "source": [
    "import proveit\n",
    "context = proveit.Context('..') # the theorem's context is in the parent directory"
   ]
  },
  {
   "cell_type": "code",
   "execution_count": 2,
   "metadata": {},
   "outputs": [
    {
     "name": "stdout",
     "output_type": "stream",
     "text": [
      "Beginning proof of greaterAddRight\n",
      "Recorded 'presuming' information\n",
      "Presuming previous theorems (applied transitively).\n"
     ]
    },
    {
     "data": {
      "text/html": [
       "<strong id=\"greaterAddRight\">greaterAddRight:</strong> <a class=\"ProveItLink\" href=\"../__pv_it/f862ba5b9a675d5cf46c1a2ea0d6f549e93740eb0/expr.ipynb\"><img src=\"data:image/png;base64,iVBORw0KGgoAAAANSUhEUgAAATsAAAAWBAMAAABNtyaoAAAAMFBMVEX///8QEBCIiIhmZma6urrM\n",
       "zMxUVFQiIiJERETc3Nzu7u6qqqp2dnaYmJgyMjIAAAAcRTyBAAAAAXRSTlMAQObYZgAABCFJREFU\n",
       "SMfFVl2IG1UU/jLJ5Gcyk/jQB5eixCzUggihgaUorQtCfdKOD7YKwob674MstUKr+xC3P2RdCkHB\n",
       "FkGYNmBlXdlB8WdBJOwi2riWoIJarISCq5Z27YNCuxXxnHsnM3dmZ7EK0QuHuXPmfPd+c/7uBf6j\n",
       "8Xq8OteN18970uOXcwNnZ9Tj9W/CeHE8Rp9uSvmcXy4MnF6hGa//hT5V4n6nJ+U4e7g+cHpfKTtf\n",
       "CuYWUSu63ku+pAAWpBQcwHQHTu+AMp/d608z5NSdThy9E1KszszMsYGzy4XyS5voM+KdP0UcvcKo\n",
       "lCuNxsTA6WmcX68s3uLRsp71JsMky+U7I/QWyjZMQrA8BkzFLHhf72/3TMVjtIX2GtMs9Y/UEH71\n",
       "HbUsS+UopeKfzlwzRO+Ym+3BorVY7hYV4o8PNj9ynp+mV0/5vUe2q05XFNkgdjYCzPd4HzsihZqh\n",
       "7D7Rxdbg15aF/16g9VZRLIXoTSDtIk/pwJKB1m+NxkfVrmaiw2YFLpe3Freh1DZPQjEIFAE940lB\n",
       "R2CwD0UnN2KH6CUoi+5yENRE6mdBbwOQ7GGO3G2urPx088pKjRSr/EW/LMXsZvqYb+dnQPTOMt0i\n",
       "bWhNv+YQG+tt1SBQZJXUP9L0MDB+R8JFbqsdpXcjf4oEd4Noeztd1XuJukov19tFb61NPyLFsWF6\n",
       "nDtj5acp7hBsZkXkyiVh4Cs8esaWZ4iJftCRGOhXkaH/Mz4bFRg/uMYfyF9GpDQouMUu+1WhNydS\n",
       "NzUuBVOP0mLP6asoQNKrMotbnWF54JXayaqImX6DMPAVHr1T9hivnjovMaCFMryPccZhjF8axjWk\n",
       "e/ORxkKlURw1bgpVLvGF65cG3iWOyYo+jpaAJh/fx89J/GBIZ408QX5Asg67BUXRp1fFbumRIcYI\n",
       "7yV4H+2SwMAvmkl8U2tH2vIinazdbCVEL1lDy0aSTFlE3SRcrYbdjUajpJkvfy2zYkTf32hMonT6\n",
       "dmZD+SQN+oo+vY3YJJ4flxgjcq9I309OS4xXCeSCN8oP7RmNHGr3cHJ8EWnLS+doUrClwCJPzzWz\n",
       "Z520DG7+YXb9Ku1bk7F8r+OlfRqKwqNnXMXRGe55HYmRlYvZQ/1SWXuoqQ1HbUChU+OUJ7JammP3\n",
       "wrRl7nXauZfwvFXHJ5KNOYvjDh0wFWEgFYH3hvTfKFkevIOmhCHkMPW91iHvYKqsvRKow1JvK4az\n",
       "9krgOX/PO9uAaW7LZ9qt7fpG7Fqi/Sk4+YmLRrV3v5vb8qUjDKQioLfjtuEuXn2Kp4QhpLZUwQOy\n",
       "3TDGq411LlRT690PvQtV6GTk1JJ+lo/NlHtyuBGDcN/TDwcR+qfX0fjBv7PeL8l7dOgki7PMXg/y\n",
       "X17mv/MkfkRBFq6XnkR+SDXecPC/juTgt/gLrBkwPNbzkCYAAAAASUVORK5CYII=\n",
       "\" style=\"display:inline;vertical-align:middle;\" /></a><br>(see <a class=\"ProveItLink\" href=\"../__pv_it/f862ba5b9a675d5cf46c1a2ea0d6f549e93740eb0/dependencies.ipynb\">dependencies</a>)<br>"
      ],
      "text/plain": [
       "greaterAddRight: forall_{a in Reals, b in Reals, c in Reals | a > b, 0 >= c} (a > (b + c))"
      ]
     },
     "execution_count": 2,
     "metadata": {},
     "output_type": "execute_result"
    }
   ],
   "source": [
    "%proving greaterAddRight presuming []"
   ]
  },
  {
   "cell_type": "code",
   "execution_count": null,
   "metadata": {},
   "outputs": [],
   "source": []
  }
 ],
 "metadata": {
  "kernelspec": {
   "display_name": "Python 3",
   "language": "python",
   "name": "python3"
  }
 },
 "nbformat": 4,
 "nbformat_minor": 0
}
