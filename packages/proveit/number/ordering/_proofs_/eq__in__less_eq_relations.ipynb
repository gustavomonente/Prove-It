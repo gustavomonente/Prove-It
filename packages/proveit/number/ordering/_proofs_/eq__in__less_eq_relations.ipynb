{
 "cells": [
  {
   "cell_type": "markdown",
   "metadata": {},
   "source": [
    "Proof of <a class=\"ProveItLink\" href=\"../../../_context_.ipynb\">proveit</a>.<a class=\"ProveItLink\" href=\"../../_context_.ipynb\">number</a>.<a class=\"ProveItLink\" href=\"../_context_.ipynb\">ordering</a>.<a class=\"ProveItLink\" href=\"../_theorems_.ipynb#eq__in__less_eq_relations\">eq__in__less_eq_relations</a> theorem\n",
    "========"
   ]
  },
  {
   "cell_type": "code",
   "execution_count": 1,
   "metadata": {},
   "outputs": [],
   "source": [
    "import proveit\n",
    "context = proveit.Context('..') # the theorem's context is in the parent directory"
   ]
  },
  {
   "cell_type": "code",
   "execution_count": 2,
   "metadata": {},
   "outputs": [
    {
     "name": "stdout",
     "output_type": "stream",
     "text": [
      "Beginning proof of eq__in__less_eq_relations\n",
      "Recorded 'presuming' information\n",
      "Presuming previous theorems (applied transitively).\n"
     ]
    },
    {
     "data": {
      "text/html": [
       "<strong id=\"eq__in__less_eq_relations\">eq__in__less_eq_relations:</strong> <a class=\"ProveItLink\" href=\"../__pv_it/c1f43fa4fe53f029b59d963ad757eb2ff90a990c0/expr.ipynb\"><img src=\"data:image/png;base64,iVBORw0KGgoAAAANSUhEUgAAAHkAAAAVBAMAAACQ4lxbAAAAMFBMVEX///+6urqqqqoQEBDc3Nzu\n",
       "7u6IiIjMzMwiIiJERESYmJhUVFRmZmYyMjJ2dnYAAAB5hzdQAAAAAXRSTlMAQObYZgAAATNJREFU\n",
       "OMtjYMACuE4xEATsxwKwS7DeYyACMJpjF+f6QIxuhrPYhfkasImytaMJvCCgm+k6QjCujQGv7pUd\n",
       "HRdQdHP1OMAlfboY8OquTEWzm60PEarelxjw6ma9iuZyZKdWXsTiwcdA/PYuCNxh4Ea4khvkgRgk\n",
       "p3JORwoUsPq7BxgY1iOZxIlgKhcATUB2KlsbtpTBewDBLgaZCA61yhYgEY3iUa4+bNp3JMCZnghR\n",
       "4QKMQGa644Bp9waYv28zMCOEuSdgRjDj7QIUf29A9TdPAgOeGAPmipkCWMIcDpow0hootcRfgImy\n",
       "bEfiYKSW6IkBWFIqRyuSEhQOWkqVm4GWUsFAlQEXB1cuMUDiPGDAxXlBOH+zggIztgME2iEcQvmb\n",
       "Aals4UIxFiUODXHoZiK2XAMAZwdk0S2MOUcAAAAASUVORK5CYII=\n",
       "\" style=\"display:inline;vertical-align:middle;\" /></a><br>(see <a class=\"ProveItLink\" href=\"../__pv_it/c1f43fa4fe53f029b59d963ad757eb2ff90a990c0/dependencies.ipynb\">dependencies</a>)<br>"
      ],
      "text/plain": [
       "eq__in__less_eq_relations: = in {<, <=, =}"
      ]
     },
     "execution_count": 2,
     "metadata": {},
     "output_type": "execute_result"
    }
   ],
   "source": [
    "%proving eq__in__less_eq_relations presuming []"
   ]
  },
  {
   "cell_type": "code",
   "execution_count": null,
   "metadata": {},
   "outputs": [],
   "source": []
  }
 ],
 "metadata": {
  "kernelspec": {
   "display_name": "Python 3",
   "language": "python",
   "name": "python3"
  }
 },
 "nbformat": 4,
 "nbformat_minor": 0
}
