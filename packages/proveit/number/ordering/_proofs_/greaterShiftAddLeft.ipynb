{
 "cells": [
  {
   "cell_type": "markdown",
   "metadata": {},
   "source": [
    "Proof of <a class=\"ProveItLink\" href=\"../../../_context_.ipynb\">proveit</a>.<a class=\"ProveItLink\" href=\"../../_context_.ipynb\">number</a>.<a class=\"ProveItLink\" href=\"../_context_.ipynb\">ordering</a>.<a class=\"ProveItLink\" href=\"../_theorems_.ipynb#greaterShiftAddLeft\">greaterShiftAddLeft</a> theorem\n",
    "========"
   ]
  },
  {
   "cell_type": "code",
   "execution_count": 1,
   "metadata": {},
   "outputs": [],
   "source": [
    "import proveit\n",
    "context = proveit.Context('..') # the theorem's context is in the parent directory"
   ]
  },
  {
   "cell_type": "code",
   "execution_count": 2,
   "metadata": {},
   "outputs": [
    {
     "name": "stdout",
     "output_type": "stream",
     "text": [
      "Beginning proof of greaterShiftAddLeft\n",
      "Recorded 'presuming' information\n",
      "Presuming previous theorems (applied transitively).\n"
     ]
    },
    {
     "data": {
      "text/html": [
       "<strong id=\"greaterShiftAddLeft\">greaterShiftAddLeft:</strong> <a class=\"ProveItLink\" href=\"../__pv_it/a2ceac49c8c9829541a019a153c575b22892b14a0/expr.ipynb\"><img src=\"data:image/png;base64,iVBORw0KGgoAAAANSUhEUgAAAUwAAAAWBAMAAABZIrhJAAAAMFBMVEX///8QEBCIiIhmZma6urrM\n",
       "zMxUVFQiIiJERETc3Nzu7u6qqqp2dnaYmJgyMjIAAAAcRTyBAAAAAXRSTlMAQObYZgAABBNJREFU\n",
       "SMfNl0toE0EYx7+8mmSzm3ooKBZlaX0dFILFHqStigdPSryoB8FQX/gkahW1PZQWJFWURVCLIGwN\n",
       "qNRqF0VEEAwWD9Yq8XFQwRKq1vci4kGrgt88dpPZbjBKFAf++5j9Zvc33zffzCzA3ymnuFzLtfFV\n",
       "4ay7aURjypGbZ+WmlNqZ3EuFNq7qnIvZuYl42MR0h1S8LTdmVGMq0oncuKo3bnbPUReZuonH28uN\n",
       "+ZDLLpeExzcp7Id8hRIrDLTKL76hZJUqquPJKDfmPq4imD302LfTrghqLpj+MdKZCVTKYG/viXJT\n",
       "hpNMxTCjC+nJ26bzCoHAwpTpG14wfUml2sqN6Y0xgVwzXcQMN8ydjNU8xsouzllLh0JNXMCMNtdi\n",
       "mAeAaj1Al8uXluV+CeN33pvWVSjLFG6FIyLmIi36EfGsl0dGWbQPE48aoZyA2f9W+gowDFSLxcS7\n",
       "OmvtCPU473Bk54EmFVwMEMSuO8ZOA/ZQM7gysEXAlKaAD/M1Yg8I/yj1ZyuqDSoMAfOGDp/we0AV\n",
       "BK81tUrX67JeGQaJWZQ0OT/QCGpGPg0uBoWYZ1g83ln3noVMC1hM75nmDtMcxSvfGASxceCjjfma\n",
       "mlTRR9Q9pvlqqmkm8LIJpO8Aa4BKzgatNo+v9QJSPCXYlRgN5dBJHTGVC24GhZjQTWZh+OrEnORM\n",
       "IU879McLMK2gV9FHjhR6Dv5vNmY4twIv0jNegp/EmVBkyJOazTgesCBmH+1mjSoYWJikJcCq+fjx\n",
       "TzN0IejEGSJmfwZuEB8mHSnUSh85MH9QDy8Bpq51GM3dgTGIAqOoIzQz9Vq2kKoZXx05twQmCAYc\n",
       "k7YkKaeCd783JqbQD/ymiGnAdlyieQrlJyRMoUq0F8fmZ+jJ2ikEl7FrvlggCWna1LehhZw7YFii\n",
       "H1XrN5JZDkd+XDDgmLQlKfe1kGplMMk/onqQ5gmYaLJHxkYZx/SOyedLQFqckLZBJx4buCqx1mN4\n",
       "E7AylUqpXvnoIzZa6gN7U6kOUG/PIZge7KlgwDFpS/LuERyNvgRPjCSTfPeBGHSpefrxaZifccdi\n",
       "SaI69EwVg56eTXLgJZeCnu/XQk/1ChbTyGoSijGohgQL+pVBnlKCAcekLRHqvQ6VuscobbE865yC\n",
       "XRdL1rEkE8tAbc1SkONs6A1mwgdhv9IOtxim3AfdOq5vsbxBgTdJSwh0ImpQf1x069E7futRWISt\n",
       "h6QX3PCtB49S86VGgENkJr2XSTcFqmHFEHKgcyJt76W63HIjPPeBnjfIY9KW4Q3EG4GtdrKGNKaS\n",
       "N3JdxWz5Rk5YinHocb+z0ywcm6wYDgNx3lwV/61tcai0bbHN31Xqb0DEzTOhP/3JeFL6T4aiMbkX\n",
       "ZyMFfhPzPyq+f/epn20kOr8GouU5AAAAAElFTkSuQmCC\n",
       "\" style=\"display:inline;vertical-align:middle;\" /></a><br>(see <a class=\"ProveItLink\" href=\"../__pv_it/a2ceac49c8c9829541a019a153c575b22892b14a0/dependencies.ipynb\">dependencies</a>)<br>"
      ],
      "text/plain": [
       "greaterShiftAddLeft: forall_{a in Reals, b in Reals, c in Reals | a > b} ((c + a) > (c + b))"
      ]
     },
     "execution_count": 2,
     "metadata": {},
     "output_type": "execute_result"
    }
   ],
   "source": [
    "%proving greaterShiftAddLeft presuming []"
   ]
  },
  {
   "cell_type": "code",
   "execution_count": null,
   "metadata": {},
   "outputs": [],
   "source": []
  }
 ],
 "metadata": {
  "kernelspec": {
   "display_name": "Python 3",
   "language": "python",
   "name": "python3"
  }
 },
 "nbformat": 4,
 "nbformat_minor": 0
}
