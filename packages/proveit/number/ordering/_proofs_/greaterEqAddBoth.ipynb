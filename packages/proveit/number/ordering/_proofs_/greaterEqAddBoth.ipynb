{
 "cells": [
  {
   "cell_type": "markdown",
   "metadata": {},
   "source": [
    "Proof of <a class=\"ProveItLink\" href=\"../../../_context_.ipynb\">proveit</a>.<a class=\"ProveItLink\" href=\"../../_context_.ipynb\">number</a>.<a class=\"ProveItLink\" href=\"../_context_.ipynb\">ordering</a>.<a class=\"ProveItLink\" href=\"../_theorems_.ipynb#greaterEqAddBoth\">greaterEqAddBoth</a> theorem\n",
    "========"
   ]
  },
  {
   "cell_type": "code",
   "execution_count": 1,
   "metadata": {},
   "outputs": [],
   "source": [
    "import proveit\n",
    "context = proveit.Context('..') # the theorem's context is in the parent directory"
   ]
  },
  {
   "cell_type": "code",
   "execution_count": 2,
   "metadata": {},
   "outputs": [
    {
     "name": "stdout",
     "output_type": "stream",
     "text": [
      "Beginning proof of greaterEqAddBoth\n",
      "Recorded 'presuming' information\n",
      "Presuming previous theorems (applied transitively).\n"
     ]
    },
    {
     "data": {
      "text/html": [
       "<strong id=\"greaterEqAddBoth\">greaterEqAddBoth:</strong> <a class=\"ProveItLink\" href=\"../__pv_it/ca2f4c32d7a93779f84b73d79b1bfef82e5a905f0/expr.ipynb\"><img src=\"data:image/png;base64,iVBORw0KGgoAAAANSUhEUgAAAZMAAAAWBAMAAAD3OGyNAAAAMFBMVEX///8QEBCIiIhmZma6urrM\n",
       "zMxUVFQiIiJERETc3Nzu7u6qqqp2dnaYmJgyMjIAAAAcRTyBAAAAAXRSTlMAQObYZgAABLtJREFU\n",
       "WMPVV12IG1UUPptsNpnJzKYPfagUZUzd2hdh6OJasD8RQZ+08aEVQWlY/1BLidv6166QLiKzLkqw\n",
       "0BZBmDagsq5mqIguFB0Moq52CVVoLViC2i1ajUUQNFXx3Hvu/NyZpFt9CR44ubnnznfnfPecc+de\n",
       "gL7Jq0K7SbYatynNHg/PC22xzjd9YKJWSLvLI3HTG6DuL8esqf3mEPJm+jnr/9gHKsNV0u7yNtHd\n",
       "bQemH/B5M/5kzlExHEwPs9BV+kDlS6GBHAv91wxKtCWfrG4yt70ENPwnt9rwETaow8hbc/pA5Rmh\n",
       "3amoK6gdXCoKS7rK3Y5R+QTgCHDVF2ZnD/WBiVIm7UEFvvdqwSrQn0PkdozKdxiOAunvljXZByoJ\n",
       "kxQONK61ZSpafgSg4XPeRTmzBnUpf7NMRdk4cgkBJumDANNdXnVna3l3thQjhkKkP9juick0SQev\n",
       "gl/kqCj74CWAs0H8buL18iJm3d92vSpRuaWa6WBmtUhv5dXvy3vr7v+WL43YLLITz282pC0/MNRl\n",
       "CECwfdxGr2xE+j4G0g7pkSZskKmkXXgMJ/Wn0nfzZh++ugM5I0xFvRqS6Hy2TJqGhPftUY+PNhMa\n",
       "LLDnhllY32xsAsPVjvrTyoYPZEiYijLGV/9CpM8xXAYKpFtsmGD9xXb78XZ7CbgFZYefiZOUfyuB\n",
       "uV13cZXb7fPXtNslNHQYcUhdJNWaaQ91en4W0K8zjFoOl1GfecVGz/W3/AWSDQ0ZEqYCygbm+x+R\n",
       "fhAnj8oqUH+To7IKwlTmJsSflfyzstUJR2WgAvVCQEVpbUdjbe05GGQ5xfxy2VT5RzH3UNDzOSpG\n",
       "QzbU8hdkiEeFzYXx+rQAqV/X2gLK+xwjJZj6J2QvSlTQwuR2sh141lsLTLBcU4TMo4Ix+pCVZJkU\n",
       "ph9A/BOpDgwD+TXK/LveXkOHGsNNjrJ2T2qFZIhDBBU+wNpFO7GXb1IMyvveUFD26iUYas1LUfkL\n",
       "PfXK/qCfoazscwUsDomKA7vwuOaVPbyDfJJmqgw17lfyoT2snYKzKvfPGHuYbUzJChRlg4kOShBB\n",
       "hc/FzD9DxmBvYFDqc4zYccUGOgWnSq5EZQzUGwE28tV4LshYzMyhZsaUqOD8T2r4ApeUbwoDTqIE\n",
       "d1uWZSS0l7+i1BxLPW1ZU2B8dgPzfAATImKIQgQVPgBwdIYVQ7JEUNGnIQglxWv5e8YLEhXtxEn8\n",
       "PRfdxTHj1PUn5E+kOj5y8DqsoSIp6Jh+9WrmjD1E2ZK9l+VjB1ZDifLp3QWxDUiGOERQ4QMwxxY0\n",
       "ZzMaHMr7NHRFB5fYGTgdPnpmpe/D60JpK6juuAO0IiX+gqu8AHv1CnxMnmtzcNjGg4EpGRByXwgS\n",
       "igqbq8ZTI22fFlDqc0zP4+Rs/DgZEj18Klbt8JA4Topwjx/bBDDDvneLbm1zajVs/wJTEZc0O/mT\n",
       "Otq6y1HWn7QlQwQSUOED2+gAtdMFgm4LvUbUfZX0sof8808xoW18uufNRxzypXMRJr4IIDXrsDRI\n",
       "nB6GABL5rgTi/Jer13S3q1cPufyizC93Qc12hVau8G677IVY/zcX4q+FdpcoSoflDBEq7+PWZtnB\n",
       "k0H/fyJmP1/+D96QmpRSrWnYAAAAAElFTkSuQmCC\n",
       "\" style=\"display:inline;vertical-align:middle;\" /></a><br>(see <a class=\"ProveItLink\" href=\"../__pv_it/ca2f4c32d7a93779f84b73d79b1bfef82e5a905f0/dependencies.ipynb\">dependencies</a>)<br>"
      ],
      "text/plain": [
       "greaterEqAddBoth: forall_{a in Reals, b in Reals, c in Reals, d in Reals | a >= b, c >= d} ((a + c) >= (b + d))"
      ]
     },
     "execution_count": 2,
     "metadata": {},
     "output_type": "execute_result"
    }
   ],
   "source": [
    "%proving greaterEqAddBoth presuming []"
   ]
  },
  {
   "cell_type": "code",
   "execution_count": null,
   "metadata": {},
   "outputs": [],
   "source": []
  }
 ],
 "metadata": {
  "kernelspec": {
   "display_name": "Python 3",
   "language": "python",
   "name": "python3"
  }
 },
 "nbformat": 4,
 "nbformat_minor": 0
}
