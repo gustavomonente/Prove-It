{
 "cells": [
  {
   "cell_type": "markdown",
   "metadata": {},
   "source": [
    "Proof of <a class=\"ProveItLink\" href=\"../../../_context_.ipynb\">proveit</a>.<a class=\"ProveItLink\" href=\"../../_context_.ipynb\">number</a>.<a class=\"ProveItLink\" href=\"../_context_.ipynb\">ordering</a>.<a class=\"ProveItLink\" href=\"../_theorems_.ipynb#lessEqAddBoth\">lessEqAddBoth</a> theorem\n",
    "========"
   ]
  },
  {
   "cell_type": "code",
   "execution_count": 1,
   "metadata": {},
   "outputs": [],
   "source": [
    "import proveit\n",
    "context = proveit.Context('..') # the theorem's context is in the parent directory"
   ]
  },
  {
   "cell_type": "code",
   "execution_count": 2,
   "metadata": {},
   "outputs": [
    {
     "name": "stdout",
     "output_type": "stream",
     "text": [
      "Beginning proof of lessEqAddBoth\n",
      "Recorded 'presuming' information\n",
      "Presuming previous theorems (applied transitively).\n"
     ]
    },
    {
     "data": {
      "text/html": [
       "<strong id=\"lessEqAddBoth\">lessEqAddBoth:</strong> <a class=\"ProveItLink\" href=\"../__pv_it/405d04274970fa692f3d25f44c0d0ea5c389ccb20/expr.ipynb\"><img src=\"data:image/png;base64,iVBORw0KGgoAAAANSUhEUgAAAZMAAAAWBAMAAAD3OGyNAAAAMFBMVEX///8QEBCIiIhmZma6urrM\n",
       "zMxUVFQiIiJERETc3Nzu7u6qqqp2dnaYmJgyMjIAAAAcRTyBAAAAAXRSTlMAQObYZgAABLNJREFU\n",
       "WMPVV12IG1UUPptsNslksumDD5WijKnbFkEZunRV7E/Ehz5p40tVUBpWq/hDiaX+tX1IF5FZiyUo\n",
       "tEUQpi6orKsJFWkXyjq4SDHaEqrQWnAJaltqNRZB0FTFc+6583Nnkm77FDxwMrnn3u/O+e455869\n",
       "AH2Td6R2k0w1aks3ewyeldqixvd9YKJVWLvL01HTB6DtKUesiT3mEPIm/YraP/eBynCVtbt8HPi/\n",
       "sigeF3G8GR2Zq2sYDtKDFLpKH6h8I9WXw4H/uuFF7zj/zZrktpuAXjdssuFzfKAO24ir94HKK1K7\n",
       "U9GWuBVypyyRZFW4HaFyHOAQCM02pqcP9IFJuszagwr8JIdtc5f5ALsdofIjhqPA+qdl7e4DlZjJ\n",
       "Cm/N32KrVPT8CMA8F/W+ggtYjno+f49KJb125AoCTNatAJNdXvVAa3F3NhRDhkKoPdjuiUk1WQdv\n",
       "hN/UqKR3wT6ABfHf8t/wBmbdv3atqlC5t5rqYGa1WO8T1e/JkVWP/yCWRm4Wme2vrTeULd831FQI\n",
       "gLp9HHXX1m97GEjWWQ814S6VStKBZ3FS3rxu89C78NUdyBlBKtpNEEfnM2XWJMTcb492bLQZ06FB\n",
       "44YpRz+cXweGo7/rzaca5lRIiMoc2i6F2gIjZKDAusGG7dQ+2W4/326fB2FB2cLDTjdc+A1Abtcc\n",
       "XOV2+8LN7XYJDR0iDonLrHoz6Y4+MzsN6NdZopbDSGb3vm2j59mP3AEhw7wKUakskOmvUNuPk0tl\n",
       "KWh/qFFZCgEqMHe3TwU/K5vqwagMVKBW8KmkW5vROLXiHAxSTpFfDk2VfwZzDwU9n+FiNFTDVP6S\n",
       "CnGp0FxwB3me+H2FLaGiLTBKgml/Q+ayQgUtJBu9ot3qJViuKUPmUsEYfUYlWWaFyScQ/0KiA8PA\n",
       "fo2Sfyvt5XyoMZz4KD13JJYohihEUhEdG8XqxXaKTQqh3BZdStlrV2CoNatE5R/01C17kodfdcs+\n",
       "V8DiUKjUYRse19yyh0+QT9xMlGFKvD3+5A56TsCCJvwzxp6ijSlegaJqMJGbApFUxFwz4v0pg95A\n",
       "UG4LjNxx5QY6AadLjkJlDLQ1AGv91NxflJk51EyZChWc/0Udp3VYxaYwUI+V4CHLsoyY/ua3nJpj\n",
       "iZctawKML28nzwdwWUOGMERSER0ws1cURLzEUNkWXbxPy6R4L//IeEGhop84hb/nwrs4Zpy2+oT6\n",
       "idTGR/bfijVUZIUspl+tmjprD3G2ZB6lfOzAMihxPn3akNuAYohCJBXRgVasipxNNARUtGXXtRxc\n",
       "ImfgZPDomVG+D+9L5a2guuV+0Iuc+A0n/TrszFbgC/Zcn4GDNh4MTMWAkMcCkEBUaC5aol8haZ9x\n",
       "oaItMD2Pk9Ndj5Pe7hk8FWt2sEseJ2W4xw+vA6AcOHLSmVqfWAabv8ZUxCXN7P5FG209WE+vPmUr\n",
       "hhDEp8IdtHR24jkHJFS0vS7K8yrr1Q752oWXSPiTP9nz5iMP+cq5CBNfBpAfq7A0WOo9DD4k+rVX\n",
       "R17f1Wuy29Wrh1x9UWYXu6BmukIr13i3XfRCnL2eC/F3UrtLGJWFxQwhKkdxa7Nsf6Tf/p+I2c+X\n",
       "/wfjdZqZkuEh6QAAAABJRU5ErkJggg==\n",
       "\" style=\"display:inline;vertical-align:middle;\" /></a><br>(see <a class=\"ProveItLink\" href=\"../__pv_it/405d04274970fa692f3d25f44c0d0ea5c389ccb20/dependencies.ipynb\">dependencies</a>)<br>"
      ],
      "text/plain": [
       "lessEqAddBoth: forall_{a in Reals, b in Reals, c in Reals, d in Reals | a <= b, c <= d} ((a + c) <= (b + d))"
      ]
     },
     "execution_count": 2,
     "metadata": {},
     "output_type": "execute_result"
    }
   ],
   "source": [
    "%proving lessEqAddBoth presuming []"
   ]
  },
  {
   "cell_type": "code",
   "execution_count": null,
   "metadata": {},
   "outputs": [],
   "source": []
  }
 ],
 "metadata": {
  "kernelspec": {
   "display_name": "Python 3",
   "language": "python",
   "name": "python3"
  }
 },
 "nbformat": 4,
 "nbformat_minor": 0
}
