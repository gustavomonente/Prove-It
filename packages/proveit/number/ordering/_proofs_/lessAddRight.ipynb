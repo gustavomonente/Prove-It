{
 "cells": [
  {
   "cell_type": "markdown",
   "metadata": {},
   "source": [
    "Proof of <a class=\"ProveItLink\" href=\"../../../_context_.ipynb\">proveit</a>.<a class=\"ProveItLink\" href=\"../../_context_.ipynb\">number</a>.<a class=\"ProveItLink\" href=\"../_context_.ipynb\">ordering</a>.<a class=\"ProveItLink\" href=\"../_theorems_.ipynb#lessAddRight\">lessAddRight</a> theorem\n",
    "========"
   ]
  },
  {
   "cell_type": "code",
   "execution_count": 1,
   "metadata": {},
   "outputs": [],
   "source": [
    "import proveit\n",
    "context = proveit.Context('..') # the theorem's context is in the parent directory"
   ]
  },
  {
   "cell_type": "code",
   "execution_count": 2,
   "metadata": {},
   "outputs": [
    {
     "name": "stdout",
     "output_type": "stream",
     "text": [
      "Beginning proof of lessAddRight\n",
      "Recorded 'presuming' information\n",
      "Presuming previous theorems (applied transitively).\n"
     ]
    },
    {
     "data": {
      "text/html": [
       "<strong id=\"lessAddRight\">lessAddRight:</strong> <a class=\"ProveItLink\" href=\"../__pv_it/06eeb698ece2cdd02ebcfbfb11400d2d882776a10/expr.ipynb\"><img src=\"data:image/png;base64,iVBORw0KGgoAAAANSUhEUgAAATsAAAAWBAMAAABNtyaoAAAAMFBMVEX///8QEBCIiIhmZma6urrM\n",
       "zMxUVFQiIiJERETc3Nzu7u6qqqp2dnaYmJgyMjIAAAAcRTyBAAAAAXRSTlMAQObYZgAABBpJREFU\n",
       "SMfFVl2IG1UU/pLs5Gcyk/jQB0tRxiy0BVFCA7UirQHBgqCNL62CsKFqFR/KUlqwug9x0ZJYCkHB\n",
       "FkGYGrCyRjYo2i5ICbtIMa4lWKFabAniD1W79kHBriKec89NMjM7i4sQvXAyuWfOd+835+9e4D8a\n",
       "b4SrU91w/ZyWHk8uj5ydWQnXvw3zhckQfbwu8ilPfhw5vUw9XH+VXuXDPqcncoI9XBk5vQtBxdkS\n",
       "/9pELdvSqrTjeT8vknEBqzVyeocD84t3q0eCnLrLDaN3UsTuzMwcHzm7VCC/NnXkyTufQxi9TFHk\n",
       "92p1auT0opxfry7cJo4yz/WJjJN8n7snQG8+V4JFCJYngVrIgg/1/nHPsXBMdL69wjRJ/WNsPX4R\n",
       "dncNuskxmv3lztZ99I63kj3YtBbLfapCBuP05se/4ael6yl94MgOr9M9iqSfwgMa8zU+VPMznncJ\n",
       "yu6TXWxTk/3DVH+e1ltG1vHRm0K8hTSlA0sC0f7HmB8VulELHTbL8BrvLGyH07behMdgqPDTe6Qs\n",
       "GBxElmN41vtREcqie10cUIt46K0DYj3MkrutpaUfbl1aKpNimd8Y10WsbqJv/OXcDIjeJaabJYfb\n",
       "R193iY39rtdgqPDRe60mGJi/IUL7X/EdB0zvZn6l6mQY3HWq7e1qeb0XqXjppXq7adbY+B3GODZM\n",
       "j3NnIvcMxR2KTVNFO+cog4FC0zO37KcW1nhJY2DcQKKLO7saMwiu+SfS1xEoDQputst+9dCbVak7\n",
       "NimC2hMEOGQsIwOhV2AWm9xxOfCcdqygYmbcpAwGCk3vVGnCRfNbaAxooYSzU/xBmEFpmH8g3psL\n",
       "NBYqjWzRvMVXucQXrUFp4H3iGMsbk2goerF9B/k5jSumOGvrUxQZxCooNeBR9OkVsAeGbEAY5b2I\n",
       "03wRGiM7c9FM42K5HWjLC3SydpN5H71YGY0SYmTKouom0oqWsadarTpR65UvJCu2Gs9Wq9NwPrmD\n",
       "2XA+KYO+ok9vAzYC54sao3IvW0TzqMboHkQueCv36N5i4FDbycnxWaAtL16mP5mSCGyK/Gw9ecmN\n",
       "S3DTj3EqLNO+ZYnlBx1dKnF4FJqeeQPHZmBuK2lMv3KjP+lSCT/U+g3He1PwnRqntEi11CcehFWS\n",
       "3Ou0Uy/jObuCj4WN1cQJlw6YvDIQxdB7641fKVlST9NGhCHkuPQ9+xofSvnVrgQybO9txXRXXgm0\n",
       "8/e+tx3ggJw+327sMDZg9yLtT8FJT/1sFnoPt1JbPneVgSiG9O6/fZyrNHWkzhhCRhdlz7SrMLo2\n",
       "VrlQ1Va7H+oLle9k5NSSpeWxmXJPRitgsLItGzUvcu3X0fDBn7PaJ8k92neShVkm14L8l5f5r7SE\n",
       "jyDIxlrpCfIM1XjVxf86YqPf4m+DTy9Z6DefZQAAAABJRU5ErkJggg==\n",
       "\" style=\"display:inline;vertical-align:middle;\" /></a><br>(see <a class=\"ProveItLink\" href=\"../__pv_it/06eeb698ece2cdd02ebcfbfb11400d2d882776a10/dependencies.ipynb\">dependencies</a>)<br>"
      ],
      "text/plain": [
       "lessAddRight: forall_{a in Reals, b in Reals, c in Reals | a < b, 0 <= c} (a < (b + c))"
      ]
     },
     "execution_count": 2,
     "metadata": {},
     "output_type": "execute_result"
    }
   ],
   "source": [
    "%proving lessAddRight presuming []"
   ]
  },
  {
   "cell_type": "code",
   "execution_count": null,
   "metadata": {},
   "outputs": [],
   "source": []
  }
 ],
 "metadata": {
  "kernelspec": {
   "display_name": "Python 3",
   "language": "python",
   "name": "python3"
  }
 },
 "nbformat": 4,
 "nbformat_minor": 0
}
