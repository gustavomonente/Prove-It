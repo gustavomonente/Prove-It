{
 "cells": [
  {
   "cell_type": "markdown",
   "metadata": {},
   "source": [
    "Proof of <a class=\"ProveItLink\" href=\"../../../_context_.ipynb\">proveit</a>.<a class=\"ProveItLink\" href=\"../../_context_.ipynb\">number</a>.<a class=\"ProveItLink\" href=\"../_context_.ipynb\">ordering</a>.<a class=\"ProveItLink\" href=\"../_theorems_.ipynb#lessShiftAddLeft\">lessShiftAddLeft</a> theorem\n",
    "========"
   ]
  },
  {
   "cell_type": "code",
   "execution_count": 1,
   "metadata": {},
   "outputs": [],
   "source": [
    "import proveit\n",
    "context = proveit.Context('..') # the theorem's context is in the parent directory"
   ]
  },
  {
   "cell_type": "code",
   "execution_count": 2,
   "metadata": {},
   "outputs": [
    {
     "name": "stdout",
     "output_type": "stream",
     "text": [
      "Beginning proof of lessShiftAddLeft\n",
      "Recorded 'presuming' information\n",
      "Presuming previous theorems (applied transitively).\n"
     ]
    },
    {
     "data": {
      "text/html": [
       "<strong id=\"lessShiftAddLeft\">lessShiftAddLeft:</strong> <a class=\"ProveItLink\" href=\"../__pv_it/1f19b5d6c7d7836ff05dbcce01b233476a46a32b0/expr.ipynb\"><img src=\"data:image/png;base64,iVBORw0KGgoAAAANSUhEUgAAAUwAAAAWBAMAAABZIrhJAAAAMFBMVEX///8QEBCIiIhmZma6urrM\n",
       "zMxUVFQiIiJERETc3Nzu7u6qqqp2dnaYmJgyMjIAAAAcRTyBAAAAAXRSTlMAQObYZgAABA9JREFU\n",
       "SMfNl0toE0EYx7+8muxmN+1BUBRlaX30oBAMVgWtigdPSnqpHoSG+n6VKCpqeyiKkirK4kGLIGzN\n",
       "wVKrXRSRgmiwiBi1BBXUghJ84oNFxINWBb955DHbDUaJ4sA/O7v7TeY3833fzCzA3ymnuRzL4NhH\n",
       "UsbZNKgzZcnN00pTyp1MzqVKH/Oo18Gsdzz+bGK6Qx68qzRmSGcqMYjsmEdvnexeoC4wdZMZ76w0\n",
       "5gOufLkovL5RqF6Lkl81XOxojVe+oRSNKmTgxaw05l6uEpg9+dqj+fTi1x0wvaNk5muo1HRf38lK\n",
       "U0pxplKYocW8MiPNrgJBDlOh//CS6Usi0VFpTHeYCZTaaSKmtGD2RHzMfCzfyrm3joZCbVTADLXW\n",
       "oZuHgGodQJdDTyuyv4Tx2u+tXC2QYZLa4ZiIuUQPfcRQpH8uz82vQkfJjJqBrIA58E7+CvAMqJaK\n",
       "iXelfs1zOuM8qIM7DjVq4GCAICKkQQfOQs3kSsEWAVOeDB7M1yB1Z1shJdpRHVBlCpjXDfiE/QGV\n",
       "H9y5QclXIxm3AmliFiJNzg0tBC2lnAEHAxum7xDA+9yNazHTIoPeDlvWdst6jTXPKPixse8j+bMi\n",
       "zHH0FZ0ey3ozxbJiWG0E+TtAC1ApGX/O+PFgHyDFCMGuxtxTj5wyEFM972QgYkob0f6rHXOCPYVc\n",
       "nTAQ5ZggFZw+jr6ypdAL8H7LY0rZZqwkp78CL/EzoUiRN7WbMR6wIGY/HWatJhjkMElLkOeRzj9N\n",
       "NwSnk8kQMQdScJ0ESNyWQu30lQ3zB53hZcDUtRYb7PKNQggYRYTQzDDq2EaqpTwRct3pqxEMOCZt\n",
       "KQ+TFca9zx0WU+gH9ilimtCGW7SatS1ImELVaC/G5mfoyeRTCC7h0DxhXxySlMKzfie57odnMu1U\n",
       "a9hAGDDyo4IBx6Qtm6j3Alque5J/RA0gzxEw0WS3go1StuUdk88Tg6S4IG2DA/i7gKsan7pMdwxW\n",
       "JhIJza0cf8iipcG3J5HYD9rtWQTThSMVDDgmbam8ZBHpifGsjzMp9+6LTpdbp52YivkZtW2WxKt3\n",
       "n2qi05MzyehfcakYUAN6YMSoYj4NriYRNgqTIMacfjnNU0ow4Ji0JSQPEhPDZZa3WZ61L8GOmyUb\n",
       "WJyJZaDeshyUKAu9dEo6DPvUTrjJMJV+6DZwfwsXDIpmk7QEOIFbhN94XPLo0Vfq6MGKcPSQjaIb\n",
       "fvTgXmq9uBDgCFlJh1PJRt8kaL6LHDg5wY4PciTbZEqz7xsFgwIma4knrU3g25oPuYDOVPZBrquU\n",
       "LT/ICVsxhh6fd3apx9hkxbQZjN2FVullH4sD5R2L8/xd5X4GBJ1mJvCnHxlPyv/IUHUm52JvpMJv\n",
       "Yv5HxfPvuvoJxmI4EfvhzrcAAAAASUVORK5CYII=\n",
       "\" style=\"display:inline;vertical-align:middle;\" /></a><br>(see <a class=\"ProveItLink\" href=\"../__pv_it/1f19b5d6c7d7836ff05dbcce01b233476a46a32b0/dependencies.ipynb\">dependencies</a>)<br>"
      ],
      "text/plain": [
       "lessShiftAddLeft: forall_{a in Reals, b in Reals, c in Reals | a < b} ((c + a) < (c + b))"
      ]
     },
     "execution_count": 2,
     "metadata": {},
     "output_type": "execute_result"
    }
   ],
   "source": [
    "%proving lessShiftAddLeft presuming []"
   ]
  },
  {
   "cell_type": "code",
   "execution_count": null,
   "metadata": {},
   "outputs": [],
   "source": []
  }
 ],
 "metadata": {
  "kernelspec": {
   "display_name": "Python 3",
   "language": "python",
   "name": "python3"
  }
 },
 "nbformat": 4,
 "nbformat_minor": 0
}
