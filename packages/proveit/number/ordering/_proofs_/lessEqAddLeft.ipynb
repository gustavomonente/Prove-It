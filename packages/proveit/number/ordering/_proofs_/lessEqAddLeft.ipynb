{
 "cells": [
  {
   "cell_type": "markdown",
   "metadata": {},
   "source": [
    "Proof of <a class=\"ProveItLink\" href=\"../../../_context_.ipynb\">proveit</a>.<a class=\"ProveItLink\" href=\"../../_context_.ipynb\">number</a>.<a class=\"ProveItLink\" href=\"../_context_.ipynb\">ordering</a>.<a class=\"ProveItLink\" href=\"../_theorems_.ipynb#lessEqAddLeft\">lessEqAddLeft</a> theorem\n",
    "========"
   ]
  },
  {
   "cell_type": "code",
   "execution_count": 1,
   "metadata": {},
   "outputs": [],
   "source": [
    "import proveit\n",
    "context = proveit.Context('..') # the theorem's context is in the parent directory"
   ]
  },
  {
   "cell_type": "code",
   "execution_count": 2,
   "metadata": {},
   "outputs": [
    {
     "name": "stdout",
     "output_type": "stream",
     "text": [
      "Beginning proof of lessEqAddLeft\n",
      "Recorded 'presuming' information\n",
      "Presuming previous theorems (applied transitively).\n"
     ]
    },
    {
     "data": {
      "text/html": [
       "<strong id=\"lessEqAddLeft\">lessEqAddLeft:</strong> <a class=\"ProveItLink\" href=\"../__pv_it/8906ba5e6bc2782c77b20924207fcad7043567b50/expr.ipynb\"><img src=\"data:image/png;base64,iVBORw0KGgoAAAANSUhEUgAAATsAAAAWBAMAAABNtyaoAAAAMFBMVEX///8QEBCIiIhmZma6urrM\n",
       "zMxUVFQiIiJERETc3Nzu7u6qqqp2dnaYmJgyMjIAAAAcRTyBAAAAAXRSTlMAQObYZgAABABJREFU\n",
       "SMfFVl1oHFUU/nZmZ39mdnZ98MFShHUDtSiVJQulIK0Lgm/a7UurICRUq+CDxJDgX4Q1oExbhMWA\n",
       "LYIwdcFCjGaoqER8WFLEGmMZVFCLLUutefAn9kHBRBHvuefOzsw629iH1Qsn954v58z59t5zzr3A\n",
       "fzReU5I4lgaiXVpcHDo7s8mSPDKtfvPnJxj9lLQfhk6v2GIZQL4brrVpaV9l9KRY55tDp/eFknCc\n",
       "iSrLvdXCpJxKHqNFFyh4Q6f3tJIB9E4Fi7nneN7vMmqvzM+fGDq7/ATLIHrFOs+v/KiAjwP0d8eZ\n",
       "GTo9rcqCubO3uH30lisNFKpyef+VAFyr3AmJHgGOJnzwvu6WMdNb+WjLHbXK+Szpbfilb/dOeLku\n",
       "bOmZe6FXK3+5iy2J3h2rG7y/86HLNKvfA2vyxX3laMwQyMW4WM2eT6B/i/eUkvVYTvnY00dvBhkP\n",
       "ljx4bdINnDdRKks0C80POH9Y87UCVih6kcrlzbN7Ue4UXkfEIARi9KzLyieiT6Gk4qXqLHe5kJV5\n",
       "fn39ifX1NbHSN0k3rkoze0bZ610sdiRa8LPBJ79emoegd4HolkSTso+/6go29ltRgxCI0rN/Vj4R\n",
       "3fwNKS9O7yYCY7uXakbowfqOPyHa3n5PovnuQaG3d3yPNJ0N0aOMGas8Js4dks2CPO1KWRr0AEXP\n",
       "HH28AY3YSR+Z66wbG8j6scM1/4R1NU5vUaZnOqjq9FpDtj2fNlqiRx8WMaaNTRTB9GrE4lZ3hC+8\n",
       "ckev0Txl3CANeoCid7ox5qaflUvyETTqB1gXn8yWY6Vh/oFMdylGTxCBp0pDOjnUY0p182Yw+o7g\n",
       "qFeNCbQlPf2RKZpnccnkzdr9KDnoTTTaiAABvRoOwTxXVz7i7x4YrIvdSyl6VDQks/hqvBOjp4+j\n",
       "3YDeCVvkEbqE/ZywlqgoEZEj2jgOOY5T1govf0lWN2K38ZTjzKL8yS6KRVkkDQIgoLcdO8Tun/PY\n",
       "RwJKF2lWUu2WjonkjcoDh+vxyl29KOIXG32X8OhnUKgtqmWxlbvgZvhwrQepfDZFmHE+y3dXVNpn\n",
       "EAEUPXMDL4l6wR0e+wAb8p+kh5W71aV2OrGx9tBUa+xeFBqceyud/DE8YzfxEbMpLOCkKy6YqjRg\n",
       "INy9bcavMv8v+eQjPK9AV/pIr+8lPAnmk58EiWj68Jm9wHFqy+c77X3GdhxcFfHFDlgzP5m17gEv\n",
       "P/q5Kw0YCOndc/sIl+cH5CM853bdpnRttdency2Waz6o3n6SxnTSM0seLKUW9x+edorc4+H1Gfzz\n",
       "1kDM8/qeo8nEB/+c/te1lWSZ+/fv8i0e899cB0rD79NtXJOeJUraORZ6RvT/b+jDD/E32bY78hv6\n",
       "GywAAAAASUVORK5CYII=\n",
       "\" style=\"display:inline;vertical-align:middle;\" /></a><br>(see <a class=\"ProveItLink\" href=\"../__pv_it/8906ba5e6bc2782c77b20924207fcad7043567b50/dependencies.ipynb\">dependencies</a>)<br>"
      ],
      "text/plain": [
       "lessEqAddLeft: forall_{a in Reals, b in Reals, c in Reals | a <= b, c <= 0} ((a + c) <= b)"
      ]
     },
     "execution_count": 2,
     "metadata": {},
     "output_type": "execute_result"
    }
   ],
   "source": [
    "%proving lessEqAddLeft presuming []"
   ]
  },
  {
   "cell_type": "code",
   "execution_count": null,
   "metadata": {},
   "outputs": [],
   "source": []
  }
 ],
 "metadata": {
  "kernelspec": {
   "display_name": "Python 3",
   "language": "python",
   "name": "python3"
  }
 },
 "nbformat": 4,
 "nbformat_minor": 0
}
