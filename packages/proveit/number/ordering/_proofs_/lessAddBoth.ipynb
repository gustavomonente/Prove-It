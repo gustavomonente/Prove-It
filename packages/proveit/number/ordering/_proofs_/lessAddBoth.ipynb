{
 "cells": [
  {
   "cell_type": "markdown",
   "metadata": {},
   "source": [
    "Proof of <a class=\"ProveItLink\" href=\"../../../_context_.ipynb\">proveit</a>.<a class=\"ProveItLink\" href=\"../../_context_.ipynb\">number</a>.<a class=\"ProveItLink\" href=\"../_context_.ipynb\">ordering</a>.<a class=\"ProveItLink\" href=\"../_theorems_.ipynb#lessAddBoth\">lessAddBoth</a> theorem\n",
    "========"
   ]
  },
  {
   "cell_type": "code",
   "execution_count": 1,
   "metadata": {},
   "outputs": [],
   "source": [
    "import proveit\n",
    "context = proveit.Context('..') # the theorem's context is in the parent directory"
   ]
  },
  {
   "cell_type": "code",
   "execution_count": 2,
   "metadata": {},
   "outputs": [
    {
     "name": "stdout",
     "output_type": "stream",
     "text": [
      "Beginning proof of lessAddBoth\n",
      "Recorded 'presuming' information\n",
      "Presuming previous theorems (applied transitively).\n"
     ]
    },
    {
     "data": {
      "text/html": [
       "<strong id=\"lessAddBoth\">lessAddBoth:</strong> <a class=\"ProveItLink\" href=\"../__pv_it/d55ed09d3c99a4836cb3a49928d1506c8acbd16a0/expr.ipynb\"><img src=\"data:image/png;base64,iVBORw0KGgoAAAANSUhEUgAAAZMAAAAWBAMAAAD3OGyNAAAAMFBMVEX///8QEBCIiIhmZma6urrM\n",
       "zMxUVFQiIiJERETc3Nzu7u6qqqp2dnaYmJgyMjIAAAAcRTyBAAAAAXRSTlMAQObYZgAABLJJREFU\n",
       "WMPVV12IG1UU/jbZ2SSTyaYPfagUZdy6bV8qQxfXiv2J+NAnbfpSFZSGtf5UpcRSRds+pIuWrEUJ\n",
       "Cm0RhKkBlXU1oSLtQlkHFylGu4QqtBZcgrYVXY1FEDRV8dyfycydSdztU/DAycyce7+b891z7pkz\n",
       "QM/kLamdJFkK2xL1LpOnpTbYw7c9YKIXhHaW3WHTe9AP5UNW7ZA1QLyZfsGef+oBlcGS0M7yYdj0\n",
       "I823wuZ0VadwMD3OQlfoAZWvpHpy0ndvmN79TJb9pizmtpuA3vA2G5/ShXTQJly1B1RelNqZir6s\n",
       "fXvhLn6JlbjbISpngRPgmqpNTh7rAZNEXmgXKrjs3qypiesx4XaIyvcUjozQP4rFgz2gErGE4o3Z\n",
       "W22VijE0DMzK6Jx1nV5FenXobpVKYuPwdQJYQh8DJjr81f2Nxd3Zkg0YMoHn/mZXTLwutP8m/KpG\n",
       "JXEArwHzgsmd7Qr8Kj39Y1dKCpV7SvEWZVZD6L389Lfl1NpHv+NbI4tFcu/hzaZS8j1DRYUAavno\n",
       "t929FXLah0GsKvREHRtUKjEHT9Oi/H6Pd4oP0F+3kDb9VPSbESXnk3mhMURc5vqZkXrEQI3NG2SL\n",
       "vD+7CaZjvN1eTzXMqJAAFe0wsOB7njElhktfRugWG3vZ81yz+WyzeRXcQrKTO+SjshzM7YpDu9xs\n",
       "/nBLs5kjQ4sRh3ZNqFGPubMvTk+C/LrEqKUpkqkjb9rkeeoDd0LAMKtCVCqJJ2mFP73n+bqLUais\n",
       "gP67GpUVaFNBwkuw5fy1sq3qj0pfAZWMRyXR2EHG8uor6Gc5xfxy2FJDT1HukZDnU+IwmqqhPLSg\n",
       "QlwqbC3oG+hQaL+ttiX09rqLURJM/wvJawoVsjDZGjz2lGDpugyZS4Vi9AnL5LxQTOwixHNaC4MQ\n",
       "fo0w/9bYq0RTYzrREXbdpy1TDGGIpMIH9DlWAiL7eZEi6NZqe0g59vp1DDSmlaj8TZ66x95XjOnY\n",
       "pzN0OBQqVeyhds099viI+EQtLY8y9yv6+D52Hce8zv0zR59gXkULyKoGi7gpEEmFr7WdByFusn9g\n",
       "0KmX4GJkxZUFdBwXco5CZRT6HcDG4CuSMnOgHrcUKrT+8wYt6wjlRaGvGsnhgWKxaEaM178WqTmq\n",
       "vVAsjsP8fB3zvI+2NWAIQiQVPmBcFgcimhNQTB1xh2R5k0nxztBDYxmFinHuPP1eCTYulHH6+nPq\n",
       "K1IfGz56G52hrFCkKP0qpfgle0BkS/Jhlo8trERO5NPHNVkGFEMYIqnwAZRfZiCb0eBQRBbcoSU1\n",
       "LqEeOOZvPZPK++FdqaIUlHbeByMrEr/mJF7B/lQBnwnPjSkct6kxsBQDQR7xQXxRYWsBR+nFG7Mv\n",
       "ulDasl/AMV3bycku7aSsnv6uWLf9Q7KdlOEeO7kJYDlwas4pb9ZWYseXlIq0pcmDP+sjje3VxPrz\n",
       "tmIIQDwqYoB67t3QnnEgoWwrbXeI53lJ6JKb/ImuXz6yyVf6Ikp8GUBxWUtHQ0i1i8GDhN/2D5b8\n",
       "M2/s02ui06dXF/nvTZle7AM12RFaWOK37aIfxKkb+SD+RmpnCaJSWMzQlYqYeZpKXdHG/0esXv75\n",
       "v38GlTXuct8mAAAAAElFTkSuQmCC\n",
       "\" style=\"display:inline;vertical-align:middle;\" /></a><br>(see <a class=\"ProveItLink\" href=\"../__pv_it/d55ed09d3c99a4836cb3a49928d1506c8acbd16a0/dependencies.ipynb\">dependencies</a>)<br>"
      ],
      "text/plain": [
       "lessAddBoth: forall_{a in Reals, b in Reals, c in Reals, d in Reals | a < b, c <= d} ((a + c) < (b + d))"
      ]
     },
     "execution_count": 2,
     "metadata": {},
     "output_type": "execute_result"
    }
   ],
   "source": [
    "%proving lessAddBoth presuming []"
   ]
  },
  {
   "cell_type": "code",
   "execution_count": null,
   "metadata": {},
   "outputs": [],
   "source": []
  }
 ],
 "metadata": {
  "kernelspec": {
   "display_name": "Python 3",
   "language": "python",
   "name": "python3"
  }
 },
 "nbformat": 4,
 "nbformat_minor": 0
}
