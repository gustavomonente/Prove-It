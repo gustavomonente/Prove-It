{
 "cells": [
  {
   "cell_type": "markdown",
   "metadata": {},
   "source": [
    "Proof of <a class=\"ProveItLink\" href=\"../../../_context_.ipynb\">proveit</a>.<a class=\"ProveItLink\" href=\"../../_context_.ipynb\">number</a>.<a class=\"ProveItLink\" href=\"../_context_.ipynb\">ordering</a>.<a class=\"ProveItLink\" href=\"../_theorems_.ipynb#successorIsGreater\">successorIsGreater</a> theorem\n",
    "========"
   ]
  },
  {
   "cell_type": "code",
   "execution_count": 1,
   "metadata": {},
   "outputs": [],
   "source": [
    "import proveit\n",
    "context = proveit.Context('..') # the theorem's context is in the parent directory"
   ]
  },
  {
   "cell_type": "code",
   "execution_count": 2,
   "metadata": {},
   "outputs": [
    {
     "name": "stdout",
     "output_type": "stream",
     "text": [
      "Beginning proof of successorIsGreater\n",
      "Recorded 'presuming' information\n",
      "Presuming previous theorems (applied transitively).\n"
     ]
    },
    {
     "data": {
      "text/html": [
       "<strong id=\"successorIsGreater\">successorIsGreater:</strong> <a class=\"ProveItLink\" href=\"../__pv_it/050a76493818ca62571b5c9b8f0ebf0943b51d2d0/expr.ipynb\"><img src=\"data:image/png;base64,iVBORw0KGgoAAAANSUhEUgAAAKkAAAAUBAMAAAAErwC3AAAAMFBMVEX///8QEBCIiIhmZma6urrM\n",
       "zMxUVFQiIiJERETc3Nzu7u6qqqp2dnaYmJgyMjIAAAAcRTyBAAAAAXRSTlMAQObYZgAAAjJJREFU\n",
       "OMtjYMAHOC9AMFbAPQG7+E4gfgBi3MWhcQUUYweZ2IXZgLadBjFe4dD3EooxwcYFDAzrsGviAjp0\n",
       "BsijDdjleQ0gGAE2QTXm5ANN5VEAs9+iazvEwMAHkt6A3VT2CRCMYSoDw32gNi4BMHNNEZq2hUC3\n",
       "nFq1ajqOAJgOxThMZXgCYTPVLEBRxOfAwPCjo6MGh6nKUMxpYySFzdTDsJAqhhoLUcgDDLRUBoZO\n",
       "HKb2QrHjBL4P2Ey9B09kzyDhBFHIC4wuZ3CkwcF2jeRHMHY1BHPJMjA3YDN1O1wXyzMQH6qQuwAY\n",
       "HQxMsHTOtcf4AhMPwykFKF8Egpl/MbCDhM69e1f47t0zhKnxCFNfgPhQhaxA9/JcYIfJ3di5igFo\n",
       "6q0LqKYyNjCsD8Dm1ni0EIAqBJnK+SAMKLBY7SkDCyhpgkw9gBoC6w8w7MeaBtzRYguqkAUYAgyd\n",
       "KUC/l7L+YuBjgJhqbIAaW+s3MORBMz3W2IKnLKhCUGwxbAYazWzAWsCwGKyEOa0EpvUwBHMo8Jbx\n",
       "oLlVH2SQDVougCpkBvmVHxjAjBuYEhjCOzo6FJh4Jl2BqXKHYK4k1WkqqKaayT8GBv5TtBwLVcgH\n",
       "igReoLXrJ3DcWsAGCQHumAWEcyzYkALsyXw5jME4Id6XgScAEq6nDuAsXVYhc3gUsJt6CJ7ekjbZ\n",
       "MjB0g1L2uQOL7WDCnQy4Mx7ekhAZMAHDlYRSG4d9HBMYGMivYXhx6L7JwAAAnwGrl46GbJQAAAAA\n",
       "SUVORK5CYII=\n",
       "\" style=\"display:inline;vertical-align:middle;\" /></a><br>(see <a class=\"ProveItLink\" href=\"../__pv_it/050a76493818ca62571b5c9b8f0ebf0943b51d2d0/dependencies.ipynb\">dependencies</a>)<br>"
      ],
      "text/plain": [
       "successorIsGreater: forall_{a in Reals} ((a + 1) > a)"
      ]
     },
     "execution_count": 2,
     "metadata": {},
     "output_type": "execute_result"
    }
   ],
   "source": [
    "%proving successorIsGreater presuming []"
   ]
  },
  {
   "cell_type": "code",
   "execution_count": null,
   "metadata": {},
   "outputs": [],
   "source": []
  }
 ],
 "metadata": {
  "kernelspec": {
   "display_name": "Python 3",
   "language": "python",
   "name": "python3"
  }
 },
 "nbformat": 4,
 "nbformat_minor": 0
}
