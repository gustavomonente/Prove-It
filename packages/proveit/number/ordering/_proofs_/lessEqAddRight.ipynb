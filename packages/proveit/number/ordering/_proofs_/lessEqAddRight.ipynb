{
 "cells": [
  {
   "cell_type": "markdown",
   "metadata": {},
   "source": [
    "Proof of <a class=\"ProveItLink\" href=\"../../../_context_.ipynb\">proveit</a>.<a class=\"ProveItLink\" href=\"../../_context_.ipynb\">number</a>.<a class=\"ProveItLink\" href=\"../_context_.ipynb\">ordering</a>.<a class=\"ProveItLink\" href=\"../_theorems_.ipynb#lessEqAddRight\">lessEqAddRight</a> theorem\n",
    "========"
   ]
  },
  {
   "cell_type": "code",
   "execution_count": 1,
   "metadata": {},
   "outputs": [],
   "source": [
    "import proveit\n",
    "context = proveit.Context('..') # the theorem's context is in the parent directory"
   ]
  },
  {
   "cell_type": "code",
   "execution_count": 2,
   "metadata": {},
   "outputs": [
    {
     "name": "stdout",
     "output_type": "stream",
     "text": [
      "Beginning proof of lessEqAddRight\n",
      "Recorded 'presuming' information\n",
      "Presuming previous theorems (applied transitively).\n"
     ]
    },
    {
     "data": {
      "text/html": [
       "<strong id=\"lessEqAddRight\">lessEqAddRight:</strong> <a class=\"ProveItLink\" href=\"../__pv_it/441f0744af8dc24c086f96c61dc4536957492de20/expr.ipynb\"><img src=\"data:image/png;base64,iVBORw0KGgoAAAANSUhEUgAAATsAAAAWBAMAAABNtyaoAAAAMFBMVEX///8QEBCIiIhmZma6urrM\n",
       "zMxUVFQiIiJERETc3Nzu7u6qqqp2dnaYmJgyMjIAAAAcRTyBAAAAAXRSTlMAQObYZgAABClJREFU\n",
       "SMfFVluIG1UY/jK5zyXxwYeWooxZaIvFsjTQKtIaEOyTdnxpFYQN1Sr4UJZS8dJ9iIvIbEslKNgi\n",
       "CFMDVtaVHRRtV6SEXaRt3EpQoVpsCQUt3tY+KNhVxP8/58xkJjvVIkQP/EzON/8358t/OecA/9F4\n",
       "PRkudpPxOWU9nlwcujq9kYy/Bf358QQ815T2CU++H7q8UnMAWOeIx3f0ajTp7/SkHeUIN4Yu7/OB\n",
       "1U/b4mmRtLKvQMOOeMxLK3mA6Q9d3rPxituiSi5PQd3hJck7Js3qTE8fGbq6Yqy+inuDePDKp5Ek\n",
       "r1ST9pvrTgxdnsb19crCbSJQ2ZdqAT5C9m3l7gF58xUHJjHY9gBTCR98oPePa2aSOdp8e4VrgZKZ\n",
       "WY2fxcR1QvwwleGf3mwzJu+IX+jBom+x3Ss6JBwn1j96mZ+m6idj34vbokGPAIWYAqOhOF/jAwGc\n",
       "jLzMUzaPdXGnbNrbQ/wA8ZZRtmPyJpDzYVA5sOWhBVuj/lG1q5nosFuJy+Ptha2w2+YbiDj0gZg8\n",
       "47LiYD/KnMNT0T+VonTe42GfnJ3vBPjNQLqHWQq3ubR05dalpToBy6ICrkozu/nA+cu5aZC8Cyy3\n",
       "TAG3Dr3mkRrrnahDH4jKs35SHOi/IkUyL8WOA5a3il/Jcequvjza9nb40eilGlF5xd5OmrXWfoMM\n",
       "54blce2MVZ6kvEOomRHZrtjCIQSUPH3TXgcaqxMcZK8h38XGruKEydX/gHE1rNI9YXLLXY5rRN6s\n",
       "KN3MuDRMPUZrPJVdRglSXpVVrPNG5IFnt9NVkbPsTcIhBJS8486Ylzkgi4o4oA/l7e0yHsQJW0P/\n",
       "HbneXKDvoReC1ijX9FtinUt64YetgfdIY3o0O46WkJd+fD8/J3FJl8Ha/ATvA+kGnBYiQCCvil3Q\n",
       "z9QUR0QvZc+I1ZkjV+ammcT5er+nXxVvFuhk7RZGY/LSdbQcpMmVTfRNytfq2OW6rq2ZL38hq2Jz\n",
       "9hnXnYR99g5em+tJOARAIG8N1lL0z/iSI2qvXMPMIcVRexCF4M3Kw7trAxvOdi6OcwPb8uJF+lFy\n",
       "pMGizM82Cxe8nEyu8QiXwjKtW5e5fL+jyj6HCKDk6ddwmPoFG33JCTpX+0G1StKh1t9wojeF2Klx\n",
       "XJnslubY/TAdWXuddvEgnrMa+FiqMWdw1KMDZlQ4SKAfvdXZX0QbUKsSh5gjct+jXmZO8pUgbPjo\n",
       "bUX3Vl4JVPB3v7sV4ISc+LTd2pZdg52LtD5FxJj4Ua/2HvSLmz7zhIME+vLu2zAi95APmUNMbVGu\n",
       "aXiCo3qjHyb9ytM8ZFVOXe9+qC5UsZORS0t+Wj7WU+3J4Q84rDw1EGPe+HU0efDfKTSvd5zODS6a\n",
       "5Fm4Eea/vMx/pSx5DJIs/K08g1raPRhhnmTAw/860sNf4i/TwzRUrtf8lwAAAABJRU5ErkJggg==\n",
       "\" style=\"display:inline;vertical-align:middle;\" /></a><br>(see <a class=\"ProveItLink\" href=\"../__pv_it/441f0744af8dc24c086f96c61dc4536957492de20/dependencies.ipynb\">dependencies</a>)<br>"
      ],
      "text/plain": [
       "lessEqAddRight: forall_{a in Reals, b in Reals, c in Reals | a <= b, 0 <= c} (a <= (b + c))"
      ]
     },
     "execution_count": 2,
     "metadata": {},
     "output_type": "execute_result"
    }
   ],
   "source": [
    "%proving lessEqAddRight presuming []"
   ]
  },
  {
   "cell_type": "code",
   "execution_count": null,
   "metadata": {},
   "outputs": [],
   "source": []
  }
 ],
 "metadata": {
  "kernelspec": {
   "display_name": "Python 3",
   "language": "python",
   "name": "python3"
  }
 },
 "nbformat": 4,
 "nbformat_minor": 0
}
