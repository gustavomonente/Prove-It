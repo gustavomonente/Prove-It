{
 "cells": [
  {
   "cell_type": "markdown",
   "metadata": {},
   "source": [
    "Demonstrations for the theory of <a class=\"ProveItLink\" href=\"_theory_.ipynb\">proveit.number.ordering</a>\n",
    "========"
   ]
  },
  {
   "cell_type": "code",
   "execution_count": null,
   "metadata": {},
   "outputs": [],
   "source": [
    "import proveit\n",
    "%begin demonstrations"
   ]
  },
  {
   "cell_type": "code",
   "execution_count": null,
   "metadata": {},
   "outputs": [],
   "source": [
    "from proveit import ExprTuple, extract_var_tuple_indices\n",
    "from proveit.core_expr_types import Len\n",
    "from proveit.logic import Equals, InSet\n",
    "from proveit.number import Reals, Less, LessEq, Greater, GreaterEq, one, two, three, four, Add\n",
    "from proveit._common_ import a, b, c, d, e, n, t, u, v, w, x, y, z, rho\n",
    "from _axioms_ import lessSequenceDef\n",
    "import random"
   ]
  },
  {
   "cell_type": "markdown",
   "metadata": {},
   "source": [
    "### Ordering sequences"
   ]
  },
  {
   "cell_type": "code",
   "execution_count": null,
   "metadata": {},
   "outputs": [],
   "source": [
    "operators = ExprTuple(Less._operator_, LessEq._operator_, Equals._operator_)"
   ]
  },
  {
   "cell_type": "code",
   "execution_count": null,
   "metadata": {},
   "outputs": [],
   "source": [
    "lessSequenceDef"
   ]
  },
  {
   "cell_type": "code",
   "execution_count": null,
   "metadata": {},
   "outputs": [],
   "source": [
    "lessSequenceDef.instantiate({n:three})"
   ]
  },
  {
   "cell_type": "code",
   "execution_count": null,
   "metadata": {},
   "outputs": [],
   "source": [
    "from proveit import varRange, ExprTuple, IndexedVar\n",
    "x_1to3, x_1to3p1, x_1p1_to_3p1 = (\n",
    "    varRange(x, one, three), varRange(x, one, Add(three, one)),\n",
    "    varRange(x, Add(one, one), Add(three, one)))\n",
    "x_1 = IndexedVar(x, one)\n",
    "x3p1 = IndexedVar(x, Add(three, one))\n",
    "x_1to3_and_3p1, x_1to3p1, x_1_and_1p1_to_3p1 = (\n",
    "    ExprTuple(x_1to3, x3p1), ExprTuple(x_1to3p1), ExprTuple(x_1, x_1p1_to_3p1))"
   ]
  },
  {
   "cell_type": "code",
   "execution_count": null,
   "metadata": {},
   "outputs": [],
   "source": [
    "operands = [w, x, y, z]"
   ]
  },
  {
   "cell_type": "code",
   "execution_count": null,
   "metadata": {},
   "outputs": [],
   "source": [
    "Len(ExprTuple(one, two, three)).typical_eq()"
   ]
  },
  {
   "cell_type": "code",
   "execution_count": null,
   "metadata": {},
   "outputs": [],
   "source": [
    "equality = Equals(ExprTuple(one, two, three), extract_var_tuple_indices(ExprTuple(x_1to3))).prove()"
   ]
  },
  {
   "cell_type": "code",
   "execution_count": null,
   "metadata": {},
   "outputs": [],
   "source": [
    "assumptions = [InSet(w, Reals), InSet(x, Reals), InSet(y, Reals), InSet(z, Reals)]"
   ]
  },
  {
   "cell_type": "code",
   "execution_count": null,
   "metadata": {},
   "outputs": [],
   "source": [
    "extract_var_tuple_indices(x_1to3p1)[0].partition(three)"
   ]
  },
  {
   "cell_type": "code",
   "execution_count": null,
   "metadata": {},
   "outputs": [],
   "source": [
    "extract_var_tuple_indices(x_1to3p1)[0].partition(one)"
   ]
  },
  {
   "cell_type": "markdown",
   "metadata": {},
   "source": [
    "from proveit.logic import Or\n",
    "Or(Equals(Less._operator_, Less._operator_),\n",
    "   Equals(Less._operator_, LessEq._operator_),\n",
    "   Equals(Less._operator_, Equals._operator_)).prove()"
   ]
  },
  {
   "cell_type": "code",
   "execution_count": null,
   "metadata": {},
   "outputs": [],
   "source": [
    "test = lessSequenceDef.instantiate({n:three, x_1to3_and_3p1:operands, x_1to3p1:operands, x_1_and_1p1_to_3p1:operands, rho:operators}, assumptions=assumptions)"
   ]
  },
  {
   "cell_type": "code",
   "execution_count": null,
   "metadata": {},
   "outputs": [],
   "source": [
    "test.proof()"
   ]
  },
  {
   "cell_type": "code",
   "execution_count": null,
   "metadata": {},
   "outputs": [],
   "source": [
    "from proveit.number import one, four, Less\n",
    "Less.sort([one, four], reorder=False)"
   ]
  },
  {
   "cell_type": "code",
   "execution_count": null,
   "metadata": {},
   "outputs": [],
   "source": [
    "from proveit.logic import Equals\n",
    "from proveit import Lambda\n",
    "from proveit.number import Add, one, two\n",
    "from proveit._common_ import i\n",
    "Add(one, one)\n",
    "print('inv', Equals.invert(Lambda(i, Add(i, one)), two))"
   ]
  },
  {
   "cell_type": "markdown",
   "metadata": {},
   "source": [
    "### Transitivity search"
   ]
  },
  {
   "cell_type": "code",
   "execution_count": null,
   "metadata": {},
   "outputs": [],
   "source": [
    "assumptions = [GreaterEq(t, a), Less(t, u), Equals(u, v), LessEq(v, w), Greater(x, w), Less(x, y), GreaterEq(z, y), Less(u, z), Greater(w, t)]"
   ]
  },
  {
   "cell_type": "code",
   "execution_count": null,
   "metadata": {},
   "outputs": [],
   "source": [
    "random.shuffle(assumptions)"
   ]
  },
  {
   "cell_type": "code",
   "execution_count": null,
   "metadata": {},
   "outputs": [],
   "source": [
    "Less(a, z).prove(assumptions)"
   ]
  },
  {
   "cell_type": "code",
   "execution_count": null,
   "metadata": {},
   "outputs": [],
   "source": [
    "Greater(z, a).prove(assumptions)"
   ]
  },
  {
   "cell_type": "markdown",
   "metadata": {},
   "source": [
    "### Transitivity sort"
   ]
  },
  {
   "cell_type": "code",
   "execution_count": null,
   "metadata": {},
   "outputs": [],
   "source": [
    "assumptions = [Less(b, a), GreaterEq(c, a), Equals(c, d), LessEq(d, e)]"
   ]
  },
  {
   "cell_type": "markdown",
   "metadata": {},
   "source": [
    "*We can use `Less.sort` as long as we only have strict ordering relations between the items being sorted (i.e., no $\\leq$).*"
   ]
  },
  {
   "cell_type": "code",
   "execution_count": null,
   "metadata": {},
   "outputs": [],
   "source": [
    "to_sort = [b, e]\n",
    "random.shuffle(to_sort)\n",
    "random.shuffle(assumptions)\n",
    "print(to_sort)\n",
    "\n",
    "Less.sort(to_sort, assumptions=assumptions)"
   ]
  },
  {
   "cell_type": "markdown",
   "metadata": {},
   "source": [
    "*Otherwise, if $\\leq$ is involved, use `LessEq.sort`*."
   ]
  },
  {
   "cell_type": "code",
   "execution_count": null,
   "metadata": {},
   "outputs": [],
   "source": [
    "to_sort = [b, c, e]\n",
    "random.shuffle(to_sort)\n",
    "random.shuffle(assumptions)\n",
    "print(to_sort)\n",
    "LessEq.sort(to_sort, assumptions=assumptions)"
   ]
  },
  {
   "cell_type": "code",
   "execution_count": null,
   "metadata": {},
   "outputs": [],
   "source": [
    "to_sort = [a, b, c, e]\n",
    "random.shuffle(to_sort)\n",
    "random.shuffle(assumptions)\n",
    "print(to_sort)\n",
    "LessEq.sort(to_sort, assumptions=assumptions)"
   ]
  },
  {
   "cell_type": "code",
   "execution_count": null,
   "metadata": {},
   "outputs": [],
   "source": [
    "to_sort = [a, b, c, d, e]\n",
    "random.shuffle(to_sort)\n",
    "random.shuffle(assumptions)\n",
    "print(to_sort)\n",
    "LessEq.sort(to_sort, assumptions=assumptions)"
   ]
  },
  {
   "cell_type": "code",
   "execution_count": null,
   "metadata": {},
   "outputs": [],
   "source": [
    "LessEq(one, four).prove(automation=False)"
   ]
  },
  {
   "cell_type": "code",
   "execution_count": null,
   "metadata": {},
   "outputs": [],
   "source": [
    "to_sort = [a, b, c, d, e]\n",
    "random.shuffle(to_sort)\n",
    "random.shuffle(assumptions)\n",
    "print(to_sort)\n",
    "LessEq.sort(to_sort, assumptions=assumptions)"
   ]
  },
  {
   "cell_type": "code",
   "execution_count": null,
   "metadata": {},
   "outputs": [],
   "source": [
    "to_sort = [a, b, c, d, e]\n",
    "random.shuffle(to_sort)\n",
    "random.shuffle(assumptions)\n",
    "print(to_sort)\n",
    "LessEq.sort(to_sort, assumptions=assumptions)"
   ]
  },
  {
   "cell_type": "code",
   "execution_count": null,
   "metadata": {},
   "outputs": [],
   "source": [
    "%end demonstrations"
   ]
  },
  {
   "cell_type": "code",
   "execution_count": null,
   "metadata": {},
   "outputs": [],
   "source": []
  }
 ],
 "metadata": {
  "kernelspec": {
   "display_name": "Python 3",
   "language": "python",
   "name": "python3"
  }
 },
 "nbformat": 4,
 "nbformat_minor": 0
}
