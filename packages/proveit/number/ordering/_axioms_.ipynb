{
 "cells": [
  {
   "cell_type": "markdown",
   "metadata": {},
   "source": [
    "Axioms for context <a href=\"_context_.ipynb\" class=\"ProveItLink\">proveit.number.ordering</a>\n",
    "========"
   ]
  },
  {
   "cell_type": "code",
   "execution_count": null,
   "metadata": {},
   "outputs": [],
   "source": [
    "import proveit\n",
    "# Automation is not needed when building axiom expressions:\n",
    "proveit.defaults.automation = False # This will speed things up.\n",
    "from proveit.logic import Forall, Or, Equals, Iff, Implies, Set\n",
    "from proveit.number import NaturalsPos, Reals, Exp\n",
    "from proveit.number import Less, LessEq, Greater, GreaterEq\n",
    "from proveit._common_ import n, x, y, z, rho\n",
    "from proveit.core_expr_types._common_ import x_1_to_np1\n",
    "from proveit.number.ordering._common_ import (\n",
    "    rho_1_to_n, sequential_x_relations, x_relation_sequence, less_eq_relations, greater_eq_relations, n_plus_1)\n",
    "%begin axioms"
   ]
  },
  {
   "cell_type": "code",
   "execution_count": null,
   "metadata": {},
   "outputs": [],
   "source": [
    "lessEqDef = Forall([x, y], Equals(LessEq(x, y), Or(Less(x, y), Equals(x, y))))"
   ]
  },
  {
   "cell_type": "code",
   "execution_count": null,
   "metadata": {},
   "outputs": [],
   "source": [
    "greaterEqDef = Forall([x, y], Equals(GreaterEq(x, y), Or(Greater(x, y), Equals(x, y))))"
   ]
  },
  {
   "cell_type": "code",
   "execution_count": null,
   "metadata": {},
   "outputs": [],
   "source": [
    "reverseRelation = Forall((x, y), Equals(Greater(y, x), Less(x, y)))"
   ]
  },
  {
   "cell_type": "code",
   "execution_count": null,
   "metadata": {},
   "outputs": [],
   "source": [
    "transitivityLessLess = Forall((x,y,z), Less(x, z),\n",
    "                              conditions=[Less(x,y), Less(y, z)])"
   ]
  },
  {
   "cell_type": "code",
   "execution_count": null,
   "metadata": {},
   "outputs": [],
   "source": [
    "lessSequenceDef = \\\n",
    "    Forall(n, Forall(x_1_to_np1, \n",
    "                     Forall(rho_1_to_n,\n",
    "                            Equals(x_relation_sequence, \n",
    "                                   sequential_x_relations),\n",
    "                            domain=less_eq_relations),\n",
    "                     domain=Reals),\n",
    "           domain=NaturalsPos)"
   ]
  },
  {
   "cell_type": "code",
   "execution_count": null,
   "metadata": {},
   "outputs": [],
   "source": [
    "greaterSequenceDef = \\\n",
    "    Forall(n, Forall(x_1_to_np1, \n",
    "                     Forall(rho_1_to_n,\n",
    "                            Equals(x_relation_sequence,\n",
    "                                   sequential_x_relations),\n",
    "                            domain=greater_eq_relations),\n",
    "                     domain=Reals),\n",
    "           domain=NaturalsPos)"
   ]
  },
  {
   "cell_type": "code",
   "execution_count": null,
   "metadata": {},
   "outputs": [],
   "source": [
    "%end axioms"
   ]
  },
  {
   "cell_type": "code",
   "execution_count": null,
   "metadata": {},
   "outputs": [],
   "source": []
  }
 ],
 "metadata": {
  "kernelspec": {
   "display_name": "Python 3",
   "language": "python",
   "name": "python3"
  }
 },
 "nbformat": 4,
 "nbformat_minor": 0
}
