{
 "cells": [
  {
   "cell_type": "markdown",
   "metadata": {},
   "source": [
    "Axioms for context <a href=\"_context_.ipynb\" class=\"ProveItLink\">proveit.number.ordering</a>\n",
    "========"
   ]
  },
  {
   "cell_type": "code",
   "execution_count": null,
   "metadata": {},
   "outputs": [],
   "source": [
    "import proveit\n",
    "# Automation is not needed when building axiom expressions:\n",
    "proveit.defaults.automation = False # This will speed things up.\n",
    "from proveit.logic import Forall, Or, Equals, Iff, Implies, Set\n",
    "from proveit.number import NaturalsPos, Reals, Exp\n",
    "from proveit.number import Less, LessEq, Greater, GreaterEq\n",
    "from proveit._common_ import n, x, y, z, rho\n",
    "from proveit.logic._common_ import xIter_1_np1, rho_iter_1_n\n",
    "from proveit.number.ordering._common_ import sequential_x_relations, x_relation_sequence\n",
    "from proveit.number.ordering._common_ import less_eq_relations, greater_eq_relations, n_plus_1\n",
    "%begin axioms"
   ]
  },
  {
   "cell_type": "code",
   "execution_count": null,
   "metadata": {},
   "outputs": [],
   "source": [
    "lessEqDef = Forall([x, y], Equals(LessEq(x, y), Or(Less(x, y), Equals(x, y))))"
   ]
  },
  {
   "cell_type": "code",
   "execution_count": null,
   "metadata": {},
   "outputs": [],
   "source": [
    "greaterEqDef = Forall([x, y], Equals(GreaterEq(x, y), Or(Greater(x, y), Equals(x, y))))"
   ]
  },
  {
   "cell_type": "code",
   "execution_count": null,
   "metadata": {},
   "outputs": [],
   "source": [
    "reverseRelation = Forall((x, y), Equals(Greater(y, x), Less(x, y)))"
   ]
  },
  {
   "cell_type": "code",
   "execution_count": null,
   "metadata": {},
   "outputs": [],
   "source": [
    "transitivityLessLess = Forall((x,y,z), Less(x, z),\n",
    "                              conditions=[Less(x,y), Less(y, z)])"
   ]
  },
  {
   "cell_type": "code",
   "execution_count": null,
   "metadata": {},
   "outputs": [],
   "source": [
    "lessSequenceDef = \\\n",
    "    Forall(n, Forall((xIter_1_np1, rho_iter_1_n), \n",
    "                     Equals(x_relation_sequence, \n",
    "                            sequential_x_relations),\n",
    "                     domains=(Reals, less_eq_relations)),\n",
    "           domain=NaturalsPos)"
   ]
  },
  {
   "cell_type": "code",
   "execution_count": null,
   "metadata": {},
   "outputs": [],
   "source": [
    "greaterSequenceDef = \\\n",
    "    Forall(n, Forall((xIter_1_np1, rho_iter_1_n),\n",
    "                     Equals(x_relation_sequence, \n",
    "                            sequential_x_relations),\n",
    "                     domains=(Reals, greater_eq_relations)),\n",
    "           domain=NaturalsPos)"
   ]
  },
  {
   "cell_type": "code",
   "execution_count": null,
   "metadata": {},
   "outputs": [],
   "source": [
    "%end axioms"
   ]
  },
  {
   "cell_type": "code",
   "execution_count": null,
   "metadata": {},
   "outputs": [],
   "source": []
  }
 ],
 "metadata": {
  "kernelspec": {
   "display_name": "Python 3",
   "language": "python",
   "name": "python3"
  }
 },
 "nbformat": 4,
 "nbformat_minor": 0
}
