{
 "cells": [
  {
   "cell_type": "markdown",
   "metadata": {},
   "source": [
    "Theorems for context <a href=\"_context_.ipynb\" class=\"ProveItLink\">proveit.number.ordering</a>\n",
    "========"
   ]
  },
  {
   "cell_type": "code",
   "execution_count": 1,
   "metadata": {},
   "outputs": [
    {
     "name": "stdout",
     "output_type": "stream",
     "text": [
      "Defining theorems for context 'proveit.number.ordering'\n",
      "Subsequent end-of-cell assignments will define theorems\n",
      "'%end theorems' will finalize the definitions\n"
     ]
    }
   ],
   "source": [
    "import proveit\n",
    "# Automation is not needed when building theorem expressions:\n",
    "proveit.defaults.automation = False # This will speed things up.\n",
    "from proveit.logic import Forall, Or, Equals, NotEquals, Iff, Implies, InSet\n",
    "from proveit.number import Reals, RealsPos, Add, zero, one\n",
    "from proveit.number import Less, LessEq, Greater, GreaterEq\n",
    "from proveit._common_ import a, b, c, d, x, y, z\n",
    "from proveit.number.ordering._common_ import less_eq_relations, greater_eq_relations\n",
    "%begin theorems"
   ]
  },
  {
   "cell_type": "code",
   "execution_count": 2,
   "metadata": {},
   "outputs": [
    {
     "data": {
      "text/html": [
       "<strong id=\"reverseLess\"><a class=\"ProveItLink\" href=\"_proofs_/reverseLess.ipynb\">reverseLess</a>:</strong> <a class=\"ProveItLink\" href=\"__pv_it/8765c237cc8523610a12b5c18e933ab4a6610f670/expr.ipynb\"><img src=\"data:image/png;base64,iVBORw0KGgoAAAANSUhEUgAAAKEAAAAWBAMAAABasOFIAAAAMFBMVEX///8QEBCIiIhmZma6urrM\n",
       "zMxUVFQiIiJERETc3Nzu7u6qqqp2dnaYmJgyMjIAAAAcRTyBAAAAAXRSTlMAQObYZgAAAjhJREFU\n",
       "OMudVU1oE0EU/kw23Z9uWih46akaqKWnIghSisQWLF5CcxFvlqBgPRQP9SColEJL6mlPNQji1EKF\n",
       "IrrgSQ8SchEi6IJCERT24EkQgiBYi+Cb2e7uzJpN2Q5kd977Zr+Zed97L0D28SgdekU/n0++ZiG0\n",
       "ltOxPgd4xyffszAOOD12owM26G0uZ2H8GE+fe0mwRTsywHazMN6WjvR2JAFuAsX2zs6DLITmTdk6\n",
       "1U6EpAz8rtfvZGHMTQBPTsMcDszdyYPjnlyYpivbhF4D1v/7rJzOaFDsmueR6xzYbxbE6xl2R+7R\n",
       "lUmaGSFQYqhSaUwydBemew5GtKRygz/b+MAuAv0UEx05rzdjYU22jpVhYQiDkSaV+/zJUBdr6ei2\n",
       "p6Mno3ndSTBC+4Mrc+qtgZ8ho+lf4nl0ZpSWaKPQWcwonNZZGRC3Rt7HCajKoPBLBIhnwvpVEpAt\n",
       "6rS3Pciq8RmF03rPVYqAQBljHmuJ7HlNUo0HyuAl0Rbwg7sfzmIsZhTOqqcAQX7k57W/aoZr+0bH\n",
       "pKX5JhlBjPcEMIWaHEdy2t8UILiXVSvtqVVo1cZLvN8M8PAWmYhogQNLOC4xCufWqgyEVZj3u2fr\n",
       "03Dy2PZtNBhuaZ2YUTiBDV4AIRB0ikW8SKmBVjjZ/tRqo+riwpgfMwonjQblRwhwaRzcxUp6N5OH\n",
       "azmG16VmLjsREHTc6dJcSomqvbPf6WtWulUh9eYQOORf4bNqFqF9aXZnjIAjj4mjf/oPBM+Wlnoa\n",
       "nV8AAAAASUVORK5CYII=\n",
       "\" style=\"display:inline;vertical-align:middle;\" /></a><br>"
      ],
      "text/plain": [
       "reverseLess: forall_{x, y | x < y} (y > x)"
      ]
     },
     "execution_count": 2,
     "metadata": {},
     "output_type": "execute_result"
    }
   ],
   "source": [
    "reverseLess = Forall((x, y), Greater(y, x), conditions=[Less(x, y)])"
   ]
  },
  {
   "cell_type": "code",
   "execution_count": 3,
   "metadata": {},
   "outputs": [
    {
     "data": {
      "text/html": [
       "<strong id=\"reverseGreater\"><a class=\"ProveItLink\" href=\"_proofs_/reverseGreater.ipynb\">reverseGreater</a>:</strong> <a class=\"ProveItLink\" href=\"__pv_it/705e4922944848b70387313e6651ac620f504d960/expr.ipynb\"><img src=\"data:image/png;base64,iVBORw0KGgoAAAANSUhEUgAAAKEAAAAWBAMAAABasOFIAAAAMFBMVEX///8QEBCIiIhmZma6urrM\n",
       "zMxUVFQiIiJERETc3Nzu7u6qqqp2dnaYmJgyMjIAAAAcRTyBAAAAAXRSTlMAQObYZgAAAjhJREFU\n",
       "OMudVU1o1EAU/txNNj+btiB46WnrQik9FcGLiKwVlF5Keym9WRYVeilS9SB0pViQ7S0g4iKIo4JC\n",
       "KRjw1J6WPa4HVxREUAiCF39gKQhWKfTNTJNJss1KOpBk3vcl35t5780LkH08Tqe26PL55EsWQXs1\n",
       "nSu4wBs++Z5FcdDt440W2KCntZpF8X3CLn6LGC3yyADHy6J4O24O3Iiu+SkB7Y2Nh1kEresxM7fC\n",
       "YiGpAH/q9ZUsirkJ4NkpWMPC2lwOInhycZK27BB7FVjv+aySrmh2gOZ55LrceF4L4E18LN2hLVNq\n",
       "LogEJYZK1YMkZXiwvHMw+SuFHyHcxls2RWmimBjIdfoovkhu4FgFNo5jqMRJpchQ5w+dlu50DPRR\n",
       "RGOxRxHaX1ye4cb9miJ2AkXLn+N1dHqUXtFGYTClKMH5MxFC7Bp5HyOIZwb6b37XeCWsX6EEsiWD\n",
       "fDtDbFat8QDEdEkRMjPmAu4lqmebUjUuM4PXJKvjF4cfXcKYUjwAgXduSMj6yC9oe/EK1/6ZXYt8\n",
       "5ZtkiBhjV9BnUY3GUYLFr4qQ+7Kr5d34KbSr42XebwZ5eAeYiKjO2Zs4EVGUoPaTKSI4hXn/8Gp9\n",
       "GUyeOL6DBsMtrasUBQh9jXsMCNkplvAq5Qy0wqr70Gpj1sPFMV8pCtC6JhpBQPDUuKjhbno3iw7P\n",
       "ds1Ooh7nRd2FhOy4k+WZlCMa751Ft9Cc7qlw2ZsD4j9/hU+JTgftc/NwxZA48pg4+qf7MwmXV1E0\n",
       "SD8AAAAASUVORK5CYII=\n",
       "\" style=\"display:inline;vertical-align:middle;\" /></a><br>"
      ],
      "text/plain": [
       "reverseGreater: forall_{x, y | x > y} (y < x)"
      ]
     },
     "execution_count": 3,
     "metadata": {},
     "output_type": "execute_result"
    }
   ],
   "source": [
    "reverseGreater = Forall((x, y), Less(y, x), conditions=[Greater(x, y)])"
   ]
  },
  {
   "cell_type": "code",
   "execution_count": 4,
   "metadata": {},
   "outputs": [
    {
     "data": {
      "text/html": [
       "<strong id=\"reverseLessEq\"><a class=\"ProveItLink\" href=\"_proofs_/reverseLessEq.ipynb\">reverseLessEq</a>:</strong> <a class=\"ProveItLink\" href=\"__pv_it/70906e5faf5bdd8e058aee0d4ea286aadabf40a30/expr.ipynb\"><img src=\"data:image/png;base64,iVBORw0KGgoAAAANSUhEUgAAAKEAAAAWBAMAAABasOFIAAAAMFBMVEX///8QEBCIiIhmZma6urrM\n",
       "zMxUVFQiIiJERETc3Nzu7u6qqqp2dnaYmJgyMjIAAAAcRTyBAAAAAXRSTlMAQObYZgAAAkhJREFU\n",
       "OMudVUFoE0EUfSab7m6yaaHgxVM1UEsPEgQRREqsYPFS2ot4swQ99BI8WERQKaVISi8LghZBOvVg\n",
       "pQRd8FI9lJCLEA8GFIqgsmeLEATBKoJ/ZtzZ2TXbsv2wO///N/v+zP9/ZoH08jgZekWPz5XPaQjz\n",
       "88lYnwu85crXNIz9rlLXz8Sj0QJXaLTn0zC+1/St2RjYoogMcLw0jLd0Y/JaFFwDiu2NjYdpCO3r\n",
       "EfPyYjQlFeBnvX47DWOmDDw5CfvIP/vBjszgsdlx2rJDKC176b/PKsmMVgdonkOmGzjuizQ0sD10\n",
       "l7ZMpTkvChSTaKk2dcP0YHtjsNSU7TJ/t/GOXQQKlBMTmc7ejFtDunWogjwGMRA4j7fFwFDnQ46W\n",
       "7nRM7Mn4JRqQGGH8wpUpmb43Ktz3gNH2L/E+OjVMU4xhmCxkFM4TnFABYtfI+jgqC39ahcv94G+D\n",
       "d8LSVSogq5kU2xlg0+EahXNC9KoCZGWsGdwThDXVya+pVKOyMnhJtDl84+5HExgJGYWzsRgBZH9k\n",
       "Z4w/XH+mesL4bXVtipVtkiFzvCuAs6jqeeTOxrIOyH3lq6Xd2IGujpb4fdPP01tkIqM5DtzAYY1R\n",
       "OjM7GhCcwqzfu1vXA2XV8R2sMMwZ3ZBROHlI2nwAyJuihhcJZ6AVKE8/tNqY9nBhxA8ZhZNLgSmA\n",
       "l8bFHSwI9flNLnPR20wXL+9anR5nhmYGgLxxx0tTCUfUjZgFt685iZ6MCtjnr/AxahZhfGrGGTfr\n",
       "JEwBB5bywT/9C3s5nQeI2q3eAAAAAElFTkSuQmCC\n",
       "\" style=\"display:inline;vertical-align:middle;\" /></a><br>"
      ],
      "text/plain": [
       "reverseLessEq: forall_{x, y | x <= y} (y >= x)"
      ]
     },
     "execution_count": 4,
     "metadata": {},
     "output_type": "execute_result"
    }
   ],
   "source": [
    "reverseLessEq = Forall((x, y), GreaterEq(y, x), conditions=[LessEq(x, y)])"
   ]
  },
  {
   "cell_type": "code",
   "execution_count": 5,
   "metadata": {},
   "outputs": [
    {
     "data": {
      "text/html": [
       "<strong id=\"reverseGreaterEq\"><a class=\"ProveItLink\" href=\"_proofs_/reverseGreaterEq.ipynb\">reverseGreaterEq</a>:</strong> <a class=\"ProveItLink\" href=\"__pv_it/beb616107136fa8d36fea54e2193496850d53f130/expr.ipynb\"><img src=\"data:image/png;base64,iVBORw0KGgoAAAANSUhEUgAAAKEAAAAWBAMAAABasOFIAAAAMFBMVEX///8QEBCIiIhmZma6urrM\n",
       "zMxUVFQiIiJERETc3Nzu7u6qqqp2dnaYmJgyMjIAAAAcRTyBAAAAAXRSTlMAQObYZgAAAkpJREFU\n",
       "OMudVU1o1EAU/swmzc9mWxC8eKoulKWnIigeiqwVKl7K9lDxZlnswUuRYhGhlVKqpPQSELQI4ljB\n",
       "Qik24MX2tOxJVtAFBREUAooHpbAIglUE5yfJJLFpSR8sed/7km/evPdmFshvD7OpTfrzmfMpj6A1\n",
       "l811ucAr5nzLo9jtJrEyHVuNJrhMn+ZcHsW3Sbg+FUdNuiIBbC+P4s0EujubgI+BUmtt7X4eQfNa\n",
       "HN37nipJFfjlODN5FJUBYOUEzKMMXPoSVfD41SG6ZZuyE8Dif59VsxWNNtA4C6XD/NuynHjfe4tu\n",
       "mbbmHG9QymSrhlOdhe7B9M7AYK8oUyQMt/CGXACKtCY6lPYeiuapWpI6VIWFw+jpZaA0E0oSOOyh\n",
       "0dTtto49FGGerqUVof7GZREtfo728CNUNP2LbI5O9tFX1D7oRCqKoPWyKgm+axR8HAt01K/BgtpP\n",
       "DtkkLF6hBSGTOl3b7iGjMscgCOs1iQjRGWMcd8LUNIe3cYu2ql90Bs+prIZtFn5wHhWpGAShbEtC\n",
       "zEdhXP0ryzLBcvtjdEy6VqFBgajxDmcHUY/XkQdXlmKE2JdVL++kro96f5ndN92sBiXCK6ox4jqO\n",
       "xBR5cH0hToSnsODvPq2rofPI9m0sE0yrHanIg0+4YESIm2ISGxlnoBk6T981Wxj1MFzxpSIPjgWD\n",
       "XomSMlzMYp67z24wS91mcfMs12in51G8GRLixh0q1zKOaPKEFd2uxgh2VYyIff4VPiRhCerHRlrx\n",
       "hUONRMSBbeDgn/4DUxCcEDJq7W0AAAAASUVORK5CYII=\n",
       "\" style=\"display:inline;vertical-align:middle;\" /></a><br>"
      ],
      "text/plain": [
       "reverseGreaterEq: forall_{x, y | x >= y} (y <= x)"
      ]
     },
     "execution_count": 5,
     "metadata": {},
     "output_type": "execute_result"
    }
   ],
   "source": [
    "reverseGreaterEq = Forall((x, y), LessEq(y, x), conditions=[GreaterEq(x, y)])"
   ]
  },
  {
   "cell_type": "code",
   "execution_count": 6,
   "metadata": {},
   "outputs": [
    {
     "data": {
      "text/html": [
       "<strong id=\"relaxLess\"><a class=\"ProveItLink\" href=\"_proofs_/relaxLess.ipynb\">relaxLess</a>:</strong> <a class=\"ProveItLink\" href=\"__pv_it/f68abf5d7a517d1387cd54de9a68e9603a0244550/expr.ipynb\"><img src=\"data:image/png;base64,iVBORw0KGgoAAAANSUhEUgAAAKEAAAAWBAMAAABasOFIAAAAMFBMVEX///8QEBCIiIhmZma6urrM\n",
       "zMxUVFQiIiJERETc3Nzu7u6qqqp2dnaYmJgyMjIAAAAcRTyBAAAAAXRSTlMAQObYZgAAAkZJREFU\n",
       "OMudVU1o1EAU/rpNmp9mt714D1uopRd7qT8gdVFQvLTuRXqUYsFeigdFBJEetGwvEi+6KOKIoFA8\n",
       "LHjSgyx7EVbQgEIRFHIQBEEIoqB48b3JJplsdivpg5B535f55v3MTIDi9mA49YKegAefiwjaG8O5\n",
       "MQ94w4NvRRQrXh+w/0y6GgXYpLe1UUTxfV/Ir13F69CKAnBaRRSvZjzrkK+6j4Byd3v7bhFB62LG\n",
       "W89GU6kBvxuNa0UUS3OUaXXteIcd/VYtTn7KxW0Bh9hVYCs3rTZc0aQsn2HHvc5OI2mKo03iAKVM\n",
       "rTkhG9Rn2VZpQnEMSrOLd+K0bPNsDN8fDdAAxqkmBkr+7or6puqNUPyCJ0vb6fYGYsTFD/o2pHB9\n",
       "A7sqWhe8fkXw5MheHekNloT+K1K0grO8j+anqSTaNAyRKkrQPqwSUdbgyT1bXI3eCyhN0oe8E7bO\n",
       "UwPFukFrOxOinsYoQfstx5QQUWdelkIkFVy+IV+bMM9FncFzktXxndF7pzCTKkqw7mcI8P7Q/pqh\n",
       "lRb/jmz4QSwRNNqm4YQ8RX8keRQrah0JdL5kCJmXvTI7lbtcnlSPUb0rrF7mAumhzvAl7FMUJfj4\n",
       "pkrkTqFiC/Q8jZ2HTuCgKXBZC1NFCVJSfABiIn9TxPdYYP+MbopeyB86XdRbODkTpIoSJGuuISG4\n",
       "Nelmsr9eYeNMDd90kTssLdsz/QFnZtlLiKE3rladz67GNu6NtRcHnULKKSb+81f4mHXL0D61Bysm\n",
       "xJ5tbu9T/wHjpZf0RDE5VQAAAABJRU5ErkJggg==\n",
       "\" style=\"display:inline;vertical-align:middle;\" /></a><br>"
      ],
      "text/plain": [
       "relaxLess: forall_{x, y | x < y} (x <= y)"
      ]
     },
     "execution_count": 6,
     "metadata": {},
     "output_type": "execute_result"
    }
   ],
   "source": [
    "relaxLess = Forall((x, y), LessEq(x, y), conditions=[Less(x, y)])"
   ]
  },
  {
   "cell_type": "code",
   "execution_count": 7,
   "metadata": {},
   "outputs": [
    {
     "data": {
      "text/html": [
       "<strong id=\"relaxGreater\"><a class=\"ProveItLink\" href=\"_proofs_/relaxGreater.ipynb\">relaxGreater</a>:</strong> <a class=\"ProveItLink\" href=\"__pv_it/f97c86f23692f5d9ad4ea61c2ac965d714b3d3270/expr.ipynb\"><img src=\"data:image/png;base64,iVBORw0KGgoAAAANSUhEUgAAAKEAAAAWBAMAAABasOFIAAAAMFBMVEX///8QEBCIiIhmZma6urrM\n",
       "zMxUVFQiIiJERETc3Nzu7u6qqqp2dnaYmJgyMjIAAAAcRTyBAAAAAXRSTlMAQObYZgAAAklJREFU\n",
       "OMudVTtoFFEUPdnMZD6ZTdLYDxsIIY1poiASg4Jik5hGUkpQIU0Qo4gQJRCRTTci6qKIzyZCSLFg\n",
       "pdWy5Vo4oiCCwmARwQ8MoqDYeO+bnXnzcSOTC7P77j37zv3OXaC8POwNPaMn4MOHMoT2Wm9swANe\n",
       "8OFzGcYhT5GviJw3CrBB39ZaGcbXqfPgjpcF2+SRvDjNMoxX04q2cyoDPgaqna2te2UIrQsZVa/P\n",
       "ZEpC2q96fbUMY2WSylVbOtqOPSzLDO1RF7cEHELPARuFazO9GU0f2MZb93oS9EGupaONYD+lTK05\n",
       "JhuUE9WqO3nIoJA6eClOxobqCn8+6A9Qp1ZRTQxU/F0YN/MJ9FH8gi/HVViVEyT6XHynsoYUrm9g\n",
       "F0Y0loqM4MuRbF/sHuaE/jNitILTPEdTYzQG2hgMoRgj48KhFBBlDb4s5fa1mHoalRH6IU/CxlkK\n",
       "XSwb5NsZFvMqxq4Rs64Cos48r4SYYOXulyT2mzDPRJ3BU6LV8Y2t909gXDF2jcArLwHA86H9MUOL\n",
       "i2/fUNU4gDky9bfoOOyy4bc0H8Ziuo6RcfCjAmRe9uLEaGG5bNaO0BQN8StU5QLpoc7mS9iXYoyM\n",
       "2lehgPxbmJZpep7EyiMncNAQuKyFilEaoa+zxxjIbYrUHgvsH9Gm6Ib8pt3BfBPHxwPFKI3Webld\n",
       "YoBbk9pmn66wcKaGb7oovCxN2zP93DwuyN2SAD03rlabynqTHfAGWrOFCY9yioH//Cu8y6pVaO9b\n",
       "/2ZMgD3L5N6v/gXLGJoaJgUFuAAAAABJRU5ErkJggg==\n",
       "\" style=\"display:inline;vertical-align:middle;\" /></a><br>"
      ],
      "text/plain": [
       "relaxGreater: forall_{x, y | x > y} (x >= y)"
      ]
     },
     "execution_count": 7,
     "metadata": {},
     "output_type": "execute_result"
    }
   ],
   "source": [
    "relaxGreater = Forall((x, y), GreaterEq(x, y), conditions=[Greater(x, y)])"
   ]
  },
  {
   "cell_type": "code",
   "execution_count": 8,
   "metadata": {},
   "outputs": [
    {
     "data": {
      "text/html": [
       "<strong id=\"relaxEqualToLessEq\"><a class=\"ProveItLink\" href=\"_proofs_/relaxEqualToLessEq.ipynb\">relaxEqualToLessEq</a>:</strong> <a class=\"ProveItLink\" href=\"__pv_it/a3e9e864187bd1cef6d4f085c706f1edc95917960/expr.ipynb\"><img src=\"data:image/png;base64,iVBORw0KGgoAAAANSUhEUgAAAMwAAAAWBAMAAAB+qW6IAAAAMFBMVEX///8QEBCIiIhmZma6urrM\n",
       "zMxUVFQiIiJERETc3Nzu7u6qqqp2dnaYmJgyMjIAAAAcRTyBAAAAAXRSTlMAQObYZgAAAupJREFU\n",
       "SMetlV1IFFEUx//OzuzujLOr9FgvUwshUrC01FPJZg8RFA09VA+Bi2UhlIgYfaAhQjImhhRUBNGi\n",
       "EWRmQoQYPQxKD21hCwlFUAxlPVTGEgRlBJ1752NnV1el7cBw5tx75v7unHPuucB/khulpyoHAIu9\n",
       "vC2bonQtMdkMPGP6c9mY6EDRgHAy/z4KXCMld5WNeVlkj7T5DFVDNE1qrGzMmULzcmdBRKsRyQwP\n",
       "Xy2bIrcWmFe+FE7PAj8No6NsjBCnPa9rrp/k1sFZd3xwE+TVwBTQBPSubC2x9FQ4S+nAK+0cN857\n",
       "4+Z2CDngHbADiuX7YLzm8PvCqm/rqdPstUpjQpTdDF6kd/Ffa0u7sRyrQ5jqa5w8IGTdVD1OZAUV\n",
       "Gc37/O7UNmimOrgcpiIJpGE4VqTD4ShYhSparYHKLBtynV9PDIMwb1wsIn3X04SJ3FsJBvjuReCD\n",
       "c4zEeTToHCNb+8me3LxeF+Psjwljkq5P4SwFlIQwIz6MGtvX5KzGfbygQfqRT+MnneuAhbWkdtLT\n",
       "e4QWT7eEklHYmATDmfNStd2JNDOQ8GFqg1Z70CDpt328EnhEya51OZLB/y+cQg94CeAB1byEOWCI\n",
       "YwJH21nybrUKXUqcY7YcS/owetSNKfdxznkc4u9wTs7mTxL/5UBK/ENqKz1VPOO/gAO0RU1QL81w\n",
       "BzOoSacNoxva041+DKq89sV8nCC1QmmsjS1owUpjjBbGR5ZnVhZSTkLQDlrlITYQSlboSNlBe5jx\n",
       "YxqgB7+RzNk+izabvFB2oLg94qZqqVB1OzcZU76AkL4XeGJjVF8JyLlpmO5pYT6Lt05HWnA/yVun\n",
       "LbdnJmnHfex4TptDddIaiI0XaWEqoMqOr0rC8jDKid0b3NPHfZwa8F0Eo6eY8IugE932RVDQmSg3\n",
       "TuHjDvpJ1xjdvo5SvFfbZ6lrrT7GIlSymU3guGgtaFzFA36fJS7pyECpmSz2PMeymEV8/oME/v3T\n",
       "v675vXW4KDpKAAAAAElFTkSuQmCC\n",
       "\" style=\"display:inline;vertical-align:middle;\" /></a><br>"
      ],
      "text/plain": [
       "relaxEqualToLessEq: forall_{x in Reals, y in Reals | x = y} (x <= y)"
      ]
     },
     "execution_count": 8,
     "metadata": {},
     "output_type": "execute_result"
    }
   ],
   "source": [
    "relaxEqualToLessEq = Forall(\n",
    "    (x, y),\n",
    "    LessEq(x, y),\n",
    "    domain=Reals,\n",
    "    conditions=[Equals(x, y)])"
   ]
  },
  {
   "cell_type": "code",
   "execution_count": 9,
   "metadata": {},
   "outputs": [
    {
     "data": {
      "text/html": [
       "<strong id=\"relaxEqualToGreaterEq\"><a class=\"ProveItLink\" href=\"_proofs_/relaxEqualToGreaterEq.ipynb\">relaxEqualToGreaterEq</a>:</strong> <a class=\"ProveItLink\" href=\"__pv_it/b12c4e5aadafb1741c48e9148a60e7a0d26ccbcd0/expr.ipynb\"><img src=\"data:image/png;base64,iVBORw0KGgoAAAANSUhEUgAAAMwAAAAWBAMAAAB+qW6IAAAAMFBMVEX///8QEBCIiIhmZma6urrM\n",
       "zMxUVFQiIiJERETc3Nzu7u6qqqp2dnaYmJgyMjIAAAAcRTyBAAAAAXRSTlMAQObYZgAAAulJREFU\n",
       "SMetVV1IFFEU/tyd/ZlxdpUe62VqoUQKlpYKopbNHiLoZ+iheghc7A+hRMLoBwtZQsbEkIKKIBo0\n",
       "+jEzIUKMiEGJaAtbSDCCYoh6qYwlCMoIOvfOzjijrkrrgeHMveeb850559xzgQWS68VN5Z2AyV7e\n",
       "l8witcxirAdeMv2lZJpo5+T77fVTjH3AVVJiS8k0b9yLp/Veo6wgqpPqL5nmlGe146A3o5WIZHt6\n",
       "rpTMIjZ613vPeZafgF+a1lwyjS9OMS+rrxmyNy5/5aprNcTFwDBA/9c2P19CcVM4B/RiTDnr7Fzi\n",
       "aTQ2wZcHPgCbIZmuDwaq9n/0dv2x1qRi+SpOE6LqZvFa3+rsjMVZLvuTCFN/DRACvpxdqieJnE9G\n",
       "VnHA94Y3QjHkrrloylKADm1yY0WWO8QiVJC3WmqzXMi2vR3sAdG8s2kRab+mE03k/nxogB9Oaz0v\n",
       "RCpMoFblNKK5m9ZDa5arAvtPRmOQrknjNCWUhGh6XTRybJfdrhzjJA2Bn3bfrbMD9ZtYSmoLPW0H\n",
       "yLneEEpFYdEkGJ0xEai0JpFi+BMumuqg2RTUSDosjNMCj6nY1ZylwTmH4TRawVsAD6nnAxgHujmN\n",
       "/1ATg95s9LVIcU6z9nDKRaNG7VA5pnDO4xD+hPMiN91JOcn0p4W/pDbQU8Hz+BvYQyEqPvniKAcY\n",
       "QSVwUtMyUF6sctOgwhlfDFOoQSOkuurYtBEs1cXIMT6zOussr/kAglbSyvexjVCqTEXaStqjrJum\n",
       "FmrwO8m4hZlp2LiEqgPJnhE3ZFOGrFq1yRrieYTUncAzi0Z2tYCYH4FhnxaGmWF0TkoDHqT46LTk\n",
       "1ugQRdzOjueI0Z0MLIFQd4EcUy3Lm79JCdOhkY5uW6nbY4FhCrV2XQR9J5gcZ69nkLEuAs9kotoU\n",
       "jj7uooN0lZZxTZSpsVqY2a61mhjLUNFhNogjgjltcE3dcGNmuaQjncUsOWx/hTlpZsAsgPj//9N/\n",
       "SpS9gvYWYLYAAAAASUVORK5CYII=\n",
       "\" style=\"display:inline;vertical-align:middle;\" /></a><br>"
      ],
      "text/plain": [
       "relaxEqualToGreaterEq: forall_{x in Reals, y in Reals | x = y} (x >= y)"
      ]
     },
     "execution_count": 9,
     "metadata": {},
     "output_type": "execute_result"
    }
   ],
   "source": [
    "relaxEqualToGreaterEq = Forall(\n",
    "    (x, y),\n",
    "    GreaterEq(x, y),\n",
    "    domain=Reals,\n",
    "    conditions=[Equals(x, y)])"
   ]
  },
  {
   "cell_type": "code",
   "execution_count": 10,
   "metadata": {},
   "outputs": [],
   "source": [
    "### Transitivity Theorems\n",
    "#### Notice that transitivityLessLess is an axiom, not a theorem. The other transitivity theorems can be derived from that axiom."
   ]
  },
  {
   "cell_type": "code",
   "execution_count": 11,
   "metadata": {},
   "outputs": [
    {
     "data": {
      "text/html": [
       "<strong id=\"transitivityLessEqLess\"><a class=\"ProveItLink\" href=\"_proofs_/transitivityLessEqLess.ipynb\">transitivityLessEqLess</a>:</strong> <a class=\"ProveItLink\" href=\"__pv_it/a5c785bfd8a4669aa1679d1a5c659d9469b0f4030/expr.ipynb\"><img src=\"data:image/png;base64,iVBORw0KGgoAAAANSUhEUgAAANEAAAAWBAMAAACs+WTQAAAAMFBMVEX///8QEBCIiIhmZma6urrM\n",
       "zMxUVFQiIiJERETc3Nzu7u6qqqp2dnaYmJgyMjIAAAAcRTyBAAAAAXRSTlMAQObYZgAAAsZJREFU\n",
       "SMetVU1oE0EUft3sZrubTeJBQRAlGCgliOQiFPQQKlgUfxIPKl4swYJCLUHrQW1LLkoSqASkPwji\n",
       "SkultYeAIFgohJxKKnVRQYVUguilRQiC4M/F92az2c2mqynswPK9mTcz35v3vp0BcK89cna9xK9K\n",
       "xrobRHLa2efNA6ySseEGUyD/jyjwQNOIUtoNprf2Ad9X0y5hJCqAUnCD6Zat779hOeQT7JcXFqbc\n",
       "IJJSzX1uRLWmNgbwM5MZcYOJi2I59l/tLendxeuGo2+noIGC3gGArMNifjtMnRpuD+9DY6w3M9oQ\n",
       "w3i4B1OHkjjKhLH14uYCt+rmhMUWsdhleK0eZ6reNGXHBOfD3IrAae0w+T63+C/0WzodWAkVMnpn\n",
       "btM6DQsm1FB4mghtMPm/tbgnm7JOTADf670Ho2YNKB5ikqrnSO+HuuI42AUiKWZqY8JkUsJnB4Bj\n",
       "RL39cLsBM3dJcWPzcTN7IPww9jcV8YLRkTKzl1E46pCIMSlBNUHjhyshkynirQ7zd5hZ/C3sMGDx\n",
       "C414lksWRSxxNYjYVO6LgldXBDxHOgFYzA/7oJu5n1myFw9oIK9QbqTZFJeug7C3XnDjr0cd8386\n",
       "a5Jm+3PPV95gTJ4imkEW/y/mPQJJtjxmrVMQV8grtKOn6A0ZsKbPmW2UIwVyMhJet99GUf8+nBmg\n",
       "HPtVVjGBhodhF8EEXLQwXQKadhCpxFgHmQzkHjKluKA63EZN7alhPFaqCkyrcJOvIUiDy+kGk1Rb\n",
       "Azo6fNJAjJ8BKccAHVfwrJOrHxxvWGszqglz70plSBTgWHcVwS/sVhtM8rWTB/Swl4BP3gdhDwOi\n",
       "upcHLZFr/BP/eTWsrSDnSUGFre8IbPMwjunXgVKebfcltEXhy3uLpwkcmQb5Kr3UDLb1un+0PSjA\n",
       "V4oErUy+DLYcnHqFtqaDq83j5mZ/AcfttpC9y1dsAAAAAElFTkSuQmCC\n",
       "\" style=\"display:inline;vertical-align:middle;\" /></a><br>"
      ],
      "text/plain": [
       "transitivityLessEqLess: forall_{x, y, z | x <= y, y < z} (x < z)"
      ]
     },
     "execution_count": 11,
     "metadata": {},
     "output_type": "execute_result"
    }
   ],
   "source": [
    "# proven\n",
    "transitivityLessEqLess = Forall((x,y,z), Less(x, z), conditions=[LessEq(x,y), Less(y, z)])"
   ]
  },
  {
   "cell_type": "code",
   "execution_count": 12,
   "metadata": {},
   "outputs": [
    {
     "data": {
      "text/html": [
       "<strong id=\"transitivityLessLessEq\"><a class=\"ProveItLink\" href=\"_proofs_/transitivityLessLessEq.ipynb\">transitivityLessLessEq</a>:</strong> <a class=\"ProveItLink\" href=\"__pv_it/6c7d368d86a5e80526da74448726349c016ad24b0/expr.ipynb\"><img src=\"data:image/png;base64,iVBORw0KGgoAAAANSUhEUgAAANEAAAAWBAMAAACs+WTQAAAAMFBMVEX///8QEBCIiIhmZma6urrM\n",
       "zMxUVFQiIiJERETc3Nzu7u6qqqp2dnaYmJgyMjIAAAAcRTyBAAAAAXRSTlMAQObYZgAAAsNJREFU\n",
       "SMetVk1oE0EU/prsZrubPw8KgijBQClBJBehoIdQwaL4k3hQ8WIJCgq1BK0HtS25KEmgEpD+IIgr\n",
       "LZXWHgKCYKEQciqp1EUFFVIJopcWIQiCPxffTLLZzdrVBnYg+ebN29nvzXvfzCzgXHto73pBvyrr\n",
       "rDlBpKTtfZ48sMI6604wBfL/iIIWNEUop51gemMd8H4x+iWKRAV8BSeYblps/3XTIh+TXZ6fn3SC\n",
       "SE612q5h1ZzaGPAjkxl2gskVpXLsvdJbqpsL13RH33ZRg4+8l4CszWShHaZOjV6Pd6FRbk2PNMUw\n",
       "Fu6h1JEkDnNhbD651Tz2V8nNSpKo2GW8Uo9yVW8YsuOC81JuJbi0LTGd67cSfTJbHVQJFZm6Mbth\n",
       "nkgFE2skPE3CVpgmrDn2f4WVCfjWsO6PGDVgETImuXqG6f1AV5wGuyAxxUyujxtMvvBpquX0Her2\n",
       "9uOWDi5OJI/OxY3sQfyuv99QxHNOx5SZvUjCUQcliskXVBNs/GAlZDBFPNUhLHxm3eIvcVsDhNvc\n",
       "6V4qmRSx6KohYlG5NwpPXRF4RnQieIQP+tDN3U9N2YsHNIi7+QJmUq50A5TlWL3g+q4nHQu/O2uy\n",
       "Ztm5ZyuvKUp3kbpBHv9P7j2EJJ8eM9cpSDNW+Yi76AnpoCxzjplmOVJQkpHwmvU0ivr30NwAy7Ff\n",
       "5RUT2fAQdjAYx3kT0wXEofSwR6VYhwn2E5UcF1Wb06ilPdE7j3xVH6ZU3BBqBPLAUrrJJNdWQUuX\n",
       "L9PKpPgpyDkOrH3UMLHy3vaENTe9mph9WyojUcCR7iqBX9ypNpmUq8f3MUu+m4eQvAdxFwfeFqEl\n",
       "cs098Z9bw9wKSp4pqLD5zhWzmMMYpb8Obd2Elii8eU/xJAOb0wgYEKrspubQ1u3+wbLpIVSKDGyZ\n",
       "TrykP42DN0Mt59QniNvBzxn8AY9BtpB3ndb5AAAAAElFTkSuQmCC\n",
       "\" style=\"display:inline;vertical-align:middle;\" /></a><br>"
      ],
      "text/plain": [
       "transitivityLessLessEq: forall_{x, y, z | x < y, y <= z} (x < z)"
      ]
     },
     "execution_count": 12,
     "metadata": {},
     "output_type": "execute_result"
    }
   ],
   "source": [
    "# proven\n",
    "transitivityLessLessEq = Forall((x,y,z), Less(x, z), conditions=[Less(x,y), LessEq(y, z)])"
   ]
  },
  {
   "cell_type": "code",
   "execution_count": 13,
   "metadata": {},
   "outputs": [
    {
     "data": {
      "text/html": [
       "<strong id=\"transitivityLessEqLessEq\"><a class=\"ProveItLink\" href=\"_proofs_/transitivityLessEqLessEq.ipynb\">transitivityLessEqLessEq</a>:</strong> <a class=\"ProveItLink\" href=\"__pv_it/9efc47d981685e450d3a4adba1ca9cbd02d79d350/expr.ipynb\"><img src=\"data:image/png;base64,iVBORw0KGgoAAAANSUhEUgAAANEAAAAWBAMAAACs+WTQAAAAMFBMVEX///8QEBCIiIhmZma6urrM\n",
       "zMxUVFQiIiJERETc3Nzu7u6qqqp2dnaYmJgyMjIAAAAcRTyBAAAAAXRSTlMAQObYZgAAAsJJREFU\n",
       "SMetVktoU0EUPU3ey8vLp3GhIAgSDJQSRLIRBF2EChbBT+JCixtLMAuhSigtotaSjZAGKgHpB0F8\n",
       "QlFaRQKCYKEQsiqp6EMFFaIEFRctQhAEPxvvzPvnAw28C8m5905mzp1778wEcE/udR96QZ8GUz65\n",
       "QRTIdx/zlYANpmy6wdRfanF4Jq0oaEOLhHLeDaa3LfaTcZtRpUgUIFR2g+ma07xz0249AMK1lZUF\n",
       "N4jknMOc33KmNgn8LhSm3GDyJKgc+y4NVbk18s0cGN4pqgjRaBaY6TJZ6IXJr1Jp8D46zY1bVjPM\n",
       "xg5R6qgljvLG6DzZYQXb+sbhkajYNbxWjvMNjismE2+4IOVWgkfdDlPwSxuRw9NHlVBQ0K3wlEmF\n",
       "EVLFJjWeKmEbTOEfraMtHsYE/DTD+GocL2EUGpPcOMv6/eBAipwDkFgsC5tzFlModiYLD192aBTX\n",
       "DdA88vRyysoexF9Wkb/rA8+5xTpz5iLlVbkiUUyhiJJm/sP1qMUU9zUmhBtcrfwVd+ige7xrVVtH\n",
       "rHqaiBtUYoHvMpiAT+sIPCM6ETzCu8MY5L96bMteql9FYJ3NkpdynrwOmocKbpx66mPhn78pW0WX\n",
       "s+z7XP0Ndby3QmqEx/+HDx5Bhk9P2usUoYwH1tmK3oovaoDmwZKZrRwCmXis7bJOhPfSav0slWGF\n",
       "V0xk7gnsYjCH8zamC2A/O0ALS8k+purAPHJKVDrfRk55ZCj3Q40QFhVMCk0CeWwtbzLJzVdgW8dn\n",
       "FVLqNOQiB90zv/Gh2w3rEKOaePiuWkO6jGODDYKwuFsxmQKXT+zXwl6FkLkNcQ8H3aOmi+aZsL0a\n",
       "T68ycb4adikHSqyDyp3vCJJlzFIzadDTS+h3vl3Bkq9yikFXpjGhwV5qDj297h9bDj2EeoVBO1Ow\n",
       "QFLEyZekqxx0j0vidfHvDP4Df8C8IWsZ348AAAAASUVORK5CYII=\n",
       "\" style=\"display:inline;vertical-align:middle;\" /></a><br>"
      ],
      "text/plain": [
       "transitivityLessEqLessEq: forall_{x, y, z | x <= y, y <= z} (x <= z)"
      ]
     },
     "execution_count": 13,
     "metadata": {},
     "output_type": "execute_result"
    }
   ],
   "source": [
    "transitivityLessEqLessEq = Forall((x,y,z), LessEq(x, z), conditions=[LessEq(x,y), LessEq(y, z)])"
   ]
  },
  {
   "cell_type": "code",
   "execution_count": 14,
   "metadata": {},
   "outputs": [
    {
     "data": {
      "text/html": [
       "<strong id=\"transitivityGreaterGreater\"><a class=\"ProveItLink\" href=\"_proofs_/transitivityGreaterGreater.ipynb\">transitivityGreaterGreater</a>:</strong> <a class=\"ProveItLink\" href=\"__pv_it/c2cdc24133532f3434f4377b0a29198af152c7ff0/expr.ipynb\"><img src=\"data:image/png;base64,iVBORw0KGgoAAAANSUhEUgAAANEAAAAWBAMAAACs+WTQAAAAMFBMVEX///8QEBCIiIhmZma6urrM\n",
       "zMxUVFQiIiJERETc3Nzu7u6qqqp2dnaYmJgyMjIAAAAcRTyBAAAAAXRSTlMAQObYZgAAArRJREFU\n",
       "SMetVU1oE0EYfU13s91kN/GgoAgSDNQSPOQiiHoIFSyCxsSDFi+WoGClSg71oEgJiJIGKrn0B0Fc\n",
       "oSitIgFBUGgJuQip6KJCFVJYxFNBCILgz8VvZjebzSYxFnYgvG/fN5s3831vdgDvxv3uqZf0M1iw\n",
       "4YVQINc95y8CayzY9EIpVPzHKmhDC4RyzgulD474me5KVmglGqCUvFC67tzD60hr8iGgVpeX570Q\n",
       "krMtj/uqraVNAD/z+ZteKPnitJW948MV63n9kBWMbBd1KJS9CEx3eVnYitIAteYp1iNTDWJ13Czk\n",
       "TPQglY4scZQbo/PLzdKk2orlZiRqdhXvtOM2k7zMlbjhglRbCT69p1LgktvCbUwfdUJD3sEkCyaO\n",
       "kunEOhlPl9BTCfIdt5SbYUrA9yZhVQ/CGEwl2TjD/H5gkMohDEKiBWB+c7appERPUy/FW5QYHsMN\n",
       "NIAz8tRSqlk9iD9sIdsRL7gcc+b0BTKOdlWiNSlhLc34w7VIUynmNybZ3C9A+be4DTYwpn+l4nDE\n",
       "K18dMZfLg3H4TUfgOcmJ+MbYeyMY4uknjuqlQmYf1V3yYtZH3bWAMdSvxqknHwt/Buqy7jq5Z2vv\n",
       "v9KKyhSGOfmL00eQ4RMTzj6FzYasRmi+n022gDFYtI9EFoFMLLrh/hrF1T30byFWY1XjHRMZPYkd\n",
       "DGZxzqF0HmxaksohJfpYaAFj5JSodfgatY3HjeCBYihY0HBNqBPIEys5W0muvwVtfZQ1WEqdglzg\n",
       "YDFza586fWHbRqObePSxUkW6hGNDBoEq7tRspcCVE/s1zHHLCpm7EHdzsBg9XbDPRI9bwzlKgSJz\n",
       "UKn9PIm3OSxhhszEwWL+8yZ0rSJY9JeTDDqcXHNMCAa7qTls6Xb/3PqoQqiVGXRVOvmGFcwET0e/\n",
       "l3/2F3Vksezp9Mz1AAAAAElFTkSuQmCC\n",
       "\" style=\"display:inline;vertical-align:middle;\" /></a><br>"
      ],
      "text/plain": [
       "transitivityGreaterGreater: forall_{x, y, z | x > y, y > z} (x > z)"
      ]
     },
     "execution_count": 14,
     "metadata": {},
     "output_type": "execute_result"
    }
   ],
   "source": [
    "# proven\n",
    "transitivityGreaterGreater = Forall((x,y,z), Greater(x, z), conditions=[Greater(x,y), Greater(y, z)])"
   ]
  },
  {
   "cell_type": "code",
   "execution_count": 15,
   "metadata": {},
   "outputs": [
    {
     "data": {
      "text/html": [
       "<strong id=\"transitivityGreaterEqGreater\"><a class=\"ProveItLink\" href=\"_proofs_/transitivityGreaterEqGreater.ipynb\">transitivityGreaterEqGreater</a>:</strong> <a class=\"ProveItLink\" href=\"__pv_it/c5da44f4d4e60ef529638d5ff978edeafe88d1f90/expr.ipynb\"><img src=\"data:image/png;base64,iVBORw0KGgoAAAANSUhEUgAAANEAAAAWBAMAAACs+WTQAAAAMFBMVEX///8QEBCIiIhmZma6urrM\n",
       "zMxUVFQiIiJERETc3Nzu7u6qqqp2dnaYmJgyMjIAAAAcRTyBAAAAAXRSTlMAQObYZgAAAsVJREFU\n",
       "SMetVU1oE0EU/pruZrubTeJBQREkWKghiPQiFPVQKlgEjRsPKl4swYKRKj3UgyKloJU0UAmU/iCI\n",
       "KxSltUhAEBRaQi5KKrqoUIUUQvEUEIIg+HPxzWyy2WwSS2AfJN+bNzP7zbz3zQzgnj1s3fWKfkXm\n",
       "bLpBpEy07vOmgXXmlNxgCqT/swra0AKhPOEG0yeb/9xwdOZoJTqgZtxgumnfw5tQfedjwJ9fXp53\n",
       "g0gerWseyNenth/4lUzedoPJ00tb2Z8YyFXaG0cqzuBO0YBKvcPAVIvJQjtMXVSaFWyExquBtYSZ\n",
       "yOnuPkodSeI4F0bzyTXOREOyNEdAomLn8UE/aUWiVzkTF5yPcivBY2zLhJlhp26vOETdQZXQkbRF\n",
       "oikTL5DoxDIJz5CwPRNmJp2bupduYAJ+1AKV7EEYgskkF88xvR/uoXQIPZBoAZgvzdaY1O6zbEMr\n",
       "d4GBIdxCFcQ7NFQeX9Jq2YP40yKyFPGS0zFlTl0m4ejXJVqTGtRjLH60EKoxRbzFMYYrJWT/iDvI\n",
       "q4CwBXSu5myKeO0pI+JQua8XXlMReEF0Ir6z6INBhHn3M1v2tIBZx0OGvDjqoepWgKbvoXpVTz3p\n",
       "WPjbVZYNx8k9X/j4jVaUJTfIg795+BjifGC/vU5BVhAlnGHjvWxwBbBG/4uWPEehxCPdm87bqNe/\n",
       "j74WYDn267xiIguPYReDWVy0MV2CBuUtI5f6O7QaRPNM7KLe5DZqsKdV55FaVLGg44ZQJpBHVics\n",
       "Jrn8Hlmlj+9S0s5ATnEg8bKSz61/aXbDNli1mnjyOZdHLIMT4SKBX9ytW0zKtVMHddEUmBC/D3Ev\n",
       "B8xxERuxlHUmtnk17JZR0kxBmWbnidsSpklMHMTJdl5Cxyp8aW82yqAl04hQZC81h7Ze96/1TT+E\n",
       "QpZBI5MvSZbC6XcsYSa4ap1ufuwfAAG07uZmGAQAAAAASUVORK5CYII=\n",
       "\" style=\"display:inline;vertical-align:middle;\" /></a><br>"
      ],
      "text/plain": [
       "transitivityGreaterEqGreater: forall_{x, y, z | x >= y, y > z} (x > z)"
      ]
     },
     "execution_count": 15,
     "metadata": {},
     "output_type": "execute_result"
    }
   ],
   "source": [
    "# proven\n",
    "transitivityGreaterEqGreater = Forall((x,y,z), Greater(x, z), conditions=[GreaterEq(x,y), Greater(y, z)])"
   ]
  },
  {
   "cell_type": "code",
   "execution_count": 16,
   "metadata": {},
   "outputs": [
    {
     "data": {
      "text/html": [
       "<strong id=\"transitivityGreaterGreaterEq\"><a class=\"ProveItLink\" href=\"_proofs_/transitivityGreaterGreaterEq.ipynb\">transitivityGreaterGreaterEq</a>:</strong> <a class=\"ProveItLink\" href=\"__pv_it/ca20931f3e0cc5ca0dc1ccf3c162e3c88fa540fe0/expr.ipynb\"><img src=\"data:image/png;base64,iVBORw0KGgoAAAANSUhEUgAAANEAAAAWBAMAAACs+WTQAAAAMFBMVEX///8QEBCIiIhmZma6urrM\n",
       "zMxUVFQiIiJERETc3Nzu7u6qqqp2dnaYmJgyMjIAAAAcRTyBAAAAAXRSTlMAQObYZgAAAsZJREFU\n",
       "SMetVktoE1EUPU1mMp3Jz4WCIkgwUEMQyUYo6iJUsAgaExda3FiCBSNVsqgLRUrAD2mgEpB+EMQR\n",
       "itIaJCAICi0hGyUVDSpUIYUgrgJCEAQ/G+97k0wmmcQSmAfh3Hfvm5z77j1v3gDWjQe9Qy/pV2XG\n",
       "phVESqp3zJEF1plRs4LJk/1PFrShRUI5ZQXTR4P9rNwRLFImKuDKW8F0zbiH17724CPAXVpZWbCC\n",
       "SE62TfeV2ksbBn6l0zesYLKFaCt7EyPFxnzjUMMY3S6W4aLoBDDT42GhH6ZBak0OG77ppmMtoRVy\n",
       "1j9MpSNJHOXC6P5wqzRRUxaJDodEzS7hvXpc90QucSYuOCfVVoKtvCWTctEk4XsT7fMB6oSKtMET\n",
       "yWg4RqIT6yS8soQtmSDfMVPdNjEBP1qORvUgjENjkqtnmN4PDlGBhCFIlAAWanMtJpf/NKUv3qTA\n",
       "yDiuQ4fcLXp6ejnaqh7EnzqRrogXnI4pc+YCCUe9IlFOLq8aY/7DFV+LKeioTrG1X4HCH3EbdECu\n",
       "Bvtq0aCIV7Y6gh0qd4bg0BSB50Qn4jvz3h9FgIefGqoX9Wh9dO+Sl5I26m4DgAMUUJqnnnQs/B2s\n",
       "y+WOk3u28uEbYC+Q6eXO39x9BHG+MGzsk1dr0ZqP1jvYYg2UACNZ0sWYhBIP+jc730Yh9x76Nw+r\n",
       "sVvlHROZewo7GMzhnIHpPNiyCJVDCg8wk4PyJszlL6pd3kam8aRpPHRVXVhUcVWoE8iTqymdSa6/\n",
       "A219jDVYip6CnOGgDPN9z69/7vaGNY1mN/H4U7GEWB7HAlUCt7hT1ZmUyyf2q5jnkhXidyHu1kCT\n",
       "XDmW0c/EFreGceSVLFNQ3nyeRO3sLGOWxKRBXzdhRxbOrKMQYdDl5GpjUqiym5pDX7f7l/apG0Kl\n",
       "wKAn08m3rGAcnGkaGas+QewWfs7gH8nOtO4sY1sKAAAAAElFTkSuQmCC\n",
       "\" style=\"display:inline;vertical-align:middle;\" /></a><br>"
      ],
      "text/plain": [
       "transitivityGreaterGreaterEq: forall_{x, y, z | x > y, y >= z} (x > z)"
      ]
     },
     "execution_count": 16,
     "metadata": {},
     "output_type": "execute_result"
    }
   ],
   "source": [
    "# proven\n",
    "transitivityGreaterGreaterEq = Forall((x,y,z), Greater(x, z), conditions=[Greater(x,y), GreaterEq(y, z)])"
   ]
  },
  {
   "cell_type": "code",
   "execution_count": 17,
   "metadata": {},
   "outputs": [
    {
     "data": {
      "text/html": [
       "<strong id=\"transitivityGreaterEqGreaterEq\"><a class=\"ProveItLink\" href=\"_proofs_/transitivityGreaterEqGreaterEq.ipynb\">transitivityGreaterEqGreaterEq</a>:</strong> <a class=\"ProveItLink\" href=\"__pv_it/fcfb12bfd015c8bafb25b25e0644b750436f98640/expr.ipynb\"><img src=\"data:image/png;base64,iVBORw0KGgoAAAANSUhEUgAAANEAAAAWBAMAAACs+WTQAAAAMFBMVEX///8QEBCIiIhmZma6urrM\n",
       "zMxUVFQiIiJERETc3Nzu7u6qqqp2dnaYmJgyMjIAAAAcRTyBAAAAAXRSTlMAQObYZgAAAshJREFU\n",
       "SMetVk1oE0EYfU2y2e42aTwoCIIEAzUUkVzEoh5CBYugdetBxYul2EOhlhxaRJHSg4U0UAmE/iCI\n",
       "KxRra5CAIChUQi5KKhpUqEKFHDy1CEEQ/Ln4fbPZzW5+KIX9ILyZN7v7vvnmzUwA9+JB66GX9Ctz\n",
       "45sbQupU6zF/GljnxpYbSp3pWnv5RF0WNKFFQmXKDaVP9s7rEedggTLRgUDODaVbjl7/sKP7CAgW\n",
       "V1cX3BBSEs7+lbuO0saB38nkHTeUPDFajkMjvQWTmN82sG+vVEKARmmWMy1e9u1Gqb0EZLERnrSY\n",
       "jKinOhvpodKRJU4LYzR/uaY50pBFPSPTYhfxQT9rMRsxoSQM10G1leEp7aiEzHD9YD3TRiuhI1kj\n",
       "DhfNFSPTSRUyXknGzkrITDdITTcoAT+tHfQmbM5+EIaSUr7Efj/WpRHZBZkSwMLWXE0pELnI6WfJ\n",
       "S72DuA0LmFEmV7Ra9SD9Mp143CrUCyHHzpy5TsbRx2TKKRDSB5g/uRmuKXX7y+OM2S3k/0p7qFUF\n",
       "ZrxrBZsjXnkq6BZCY9YW7YjBbzgCz0lOwg9m7/chKoaf2qqndRrpHS0pSwkPrW4VmKEqmZ8kH/v+\n",
       "tVcU8fCTuFXVy5sfvwPePDVDIv8/gj6FIVHkuH2dQnygqdEcP+/nhw0QDJYsMyagDnVHGg7rWPAg\n",
       "fa2TaxzUxYpJTI9jH8McrtqUrkGD+pbF5XibZoLBKJqkNz2N6mLZbDwMlANY1DHhqxAoo2tTlpJS\n",
       "eY+82iNmKWsXoKQEVJn59S9NT9j6sE6Ox58LRQzkcCZaJghK+3VLSb1x7oguGQbzDd2DdMAAgykN\n",
       "pKw9Ybs1nt3kmHDcGvbIqWl2UK7ZfhKxglkykwG7ugntWbAf0/58P0NLpVFfmW9qAbu63b86u0H4\n",
       "NvMMjUodSYoUzr/jggmoMi6F18W/M/gP+8m60lgYtWMAAAAASUVORK5CYII=\n",
       "\" style=\"display:inline;vertical-align:middle;\" /></a><br>"
      ],
      "text/plain": [
       "transitivityGreaterEqGreaterEq: forall_{x, y, z | x >= y, y >= z} (x >= z)"
      ]
     },
     "execution_count": 17,
     "metadata": {},
     "output_type": "execute_result"
    }
   ],
   "source": [
    "transitivityGreaterEqGreaterEq = Forall((x,y,z), GreaterEq(x, z), conditions=[GreaterEq(x,y), GreaterEq(y, z)])"
   ]
  },
  {
   "cell_type": "code",
   "execution_count": 18,
   "metadata": {},
   "outputs": [
    {
     "data": {
      "text/html": [
       "<strong id=\"symmetricLessEq\"><a class=\"ProveItLink\" href=\"_proofs_/symmetricLessEq.ipynb\">symmetricLessEq</a>:</strong> <a class=\"ProveItLink\" href=\"__pv_it/0a34265d872e83edebac89221bcd4f9972701fda0/expr.ipynb\"><img src=\"data:image/png;base64,iVBORw0KGgoAAAANSUhEUgAAAMUAAAAWBAMAAACCvEVCAAAAMFBMVEX///8QEBCIiIhmZma6urrM\n",
       "zMxUVFQiIiJERETc3Nzu7u6qqqp2dnaYmJgyMjIAAAAcRTyBAAAAAXRSTlMAQObYZgAAAkpJREFU\n",
       "SMetVj1oFEEU/m6ze7t3t5eksV8uEEIKvSZWEoOCwcaYJnUIWtiIhRaCSAqRCzZnZUgQx0YhXHFg\n",
       "Ey3kuPIsXIgggsrWirIEBcXGN2/m3L+7JbJ5sLzZ79s337z3ZmcXOA57PJ56SVcgB5+KSVQ3x3Pl\n",
       "NvBGDr4U05hs5+hTEtvkK5vFNA7yyD6tQQBut5jG7TzyKVAf7O09KiZRuZFbyCXgV6t1p5iG0aSy\n",
       "N66d66c6MePhoYBL7FVgKxO29D8ajg908N67S2P3O1tTDs1pnKJCUdPPc+tTltwE+xk+gdjUzgHe\n",
       "iovJZ3YnArSAGlXShuHna7z20nQSKVHWQk6XNFHycAhYIaXk28jV+JxZQgopcWUPM5OsCOun0qgE\n",
       "a3IXL8xeBsxZ2CLSYPCknFATyjGiI4a1gpwu6se6HC/CmKYYueu2rtDWENdtWo07JVajPBhc5ndH\n",
       "E+wUoiOGPX9lhJhP5XEfzrrqOV6QkIVvEt1ZxlykwWDnXoxgpxAdwQtowvzjhJV0TU9jhaCJHg2n\n",
       "uIG/GT6DjXg/JNh5ECPYKURHgKtR3ZifyRyszxpn6SCblBWtyw5YoSXhmzgR01Cg8TUilGNER+Se\n",
       "JYt0PR/ePHEDF9sCt8ww0mBQLoKqIomIJ2RIjj8Ty0H1hzoTdVrv+gOsdnFhLog0GJRWE0zE+Jr4\n",
       "R8qmjzzbbd/xkHnBu9W24494z+lJJiL+KN8os7GQ1a+1y71LGKnBRIw/+rf2Q/K2DvNjL62x3yIT\n",
       "TGheIcV/Apo4RvsLhx2/gpQNAzgAAAAASUVORK5CYII=\n",
       "\" style=\"display:inline;vertical-align:middle;\" /></a><br>"
      ],
      "text/plain": [
       "symmetricLessEq: forall_{x, y | x <= y, y <= x} (x = y)"
      ]
     },
     "execution_count": 18,
     "metadata": {},
     "output_type": "execute_result"
    }
   ],
   "source": [
    "symmetricLessEq = Forall((x,y), Equals(x, y), conditions=[LessEq(x,y), LessEq(y, x)])"
   ]
  },
  {
   "cell_type": "code",
   "execution_count": 19,
   "metadata": {},
   "outputs": [
    {
     "data": {
      "text/html": [
       "<strong id=\"symmetricGreaterEq\"><a class=\"ProveItLink\" href=\"_proofs_/symmetricGreaterEq.ipynb\">symmetricGreaterEq</a>:</strong> <a class=\"ProveItLink\" href=\"__pv_it/a1e23bad11439b49e64c4d16cfb60079cd91cc890/expr.ipynb\"><img src=\"data:image/png;base64,iVBORw0KGgoAAAANSUhEUgAAAMUAAAAWBAMAAACCvEVCAAAAMFBMVEX///8QEBCIiIhmZma6urrM\n",
       "zMxUVFQiIiJERETc3Nzu7u6qqqp2dnaYmJgyMjIAAAAcRTyBAAAAAXRSTlMAQObYZgAAAkpJREFU\n",
       "SMetlj9oFEEUxr/b7N7+yV6Sxn65QAhpvCbBQuJhIGJjTBHrELSwEQstBJEUIhdsLpVBkYwKCiHF\n",
       "gY1aHVfJCbqgIILC1kJkCQqKjW/+LHM3myyRzcAys9+PN9/NezOzBxxHe3w4ek1PwgffylkE64ez\n",
       "aht4xwffy3mMtQv8aRFb1Pvr5Tw+FsEe/QYGhJ1yHreK4BOg1t/ZeVDOwr9emMgm8LvVul3Ow2pQ\n",
       "2utXz/aMSkxG2GQIiV4BNnJhzf/x8GJgF5+jOzQOf4jW4EN7AicpUVT0BVF6o+lNsJjbMznFpXL2\n",
       "8YGdH5YfjSRoAaOUSRdWXODhz100028qFVo149MNN1aJsA84KS0pdlHgAf9UzsRQKiKz+7lJlpjz\n",
       "S3r4ySW+i2enKNCegsu0hxSDt80MqI4rCma5Ap9O12OVj+dhTVAM33Ubl2lrsGsuxYXjbFmvQ4kI\n",
       "3jMFMk5KBlXN31gpZox13IO3KmuOl2TkYI+rD89hWnsoEdZeBjJOSga5cwP2Xy/1zbLOYYmkkS4N\n",
       "xyMu/BHyaawN1kOIT+9rIDuhqAiIbARrM5O5i/V5/QxtwTGe0RqvgJM6XL6BEwMeQty9OwBEJxUV\n",
       "UXiXzNPzInvZDpMQWww37VR7CPGZmFAAxaUiYOGdWE2Cn/JOVMv61OtjuYPF6UR7CHFFHTwCiq/o\n",
       "iOygH3i3u7EXIXfAO0Hbi83zIe8eATQ/yjfKrs/m/Ufb1e4FHOghwAA/+rf2y/BrDfbXrunxqkWN\n",
       "CaC4VMr/CWjgGNs/FMG9rp/QvYUAAAAASUVORK5CYII=\n",
       "\" style=\"display:inline;vertical-align:middle;\" /></a><br>"
      ],
      "text/plain": [
       "symmetricGreaterEq: forall_{x, y | x >= y, y >= x} (x = y)"
      ]
     },
     "execution_count": 19,
     "metadata": {},
     "output_type": "execute_result"
    }
   ],
   "source": [
    "symmetricGreaterEq = Forall((x,y), Equals(x, y), conditions=[GreaterEq(x,y), GreaterEq(y, x)])"
   ]
  },
  {
   "cell_type": "code",
   "execution_count": 20,
   "metadata": {},
   "outputs": [
    {
     "data": {
      "text/html": [
       "<strong id=\"lessThanSuccessor\"><a class=\"ProveItLink\" href=\"_proofs_/lessThanSuccessor.ipynb\">lessThanSuccessor</a>:</strong> <a class=\"ProveItLink\" href=\"__pv_it/b493cd1f9fee3d75247003a6a7f9be20c5929da20/expr.ipynb\"><img src=\"data:image/png;base64,iVBORw0KGgoAAAANSUhEUgAAAKkAAAAUBAMAAAAErwC3AAAAMFBMVEX///8QEBCIiIhmZma6urrM\n",
       "zMxUVFQiIiJERETc3Nzu7u6qqqp2dnaYmJgyMjIAAAAcRTyBAAAAAXRSTlMAQObYZgAAAg1JREFU\n",
       "OMtjYMAHOC+QIgwEO6H4AYhzF4eiFSQJAwHbBAg+DeK8wqHoJSnC3FIMDFwPIHgGyEcN2HXzGqBr\n",
       "fIopzK0AoZcd+wUkD0Ew3wIGBp4N2E1ln4BmS/EETGGYqQy8IFMXQjDvqVWrpuMIADRxppoFWIRR\n",
       "TeVzgOAfHR01OExVBoWOjZEUhLemCKswqqk8BhCcysDQicPUXiB2nMD3AcxZXItVGM1U3gcQ7AyO\n",
       "NDjYrpH8CMauBkaoLAMzOC7ZXjNgE0Y3lbsAgtkZmGCJmmuP8QUmHoZTMHUiDAzMvxjYwdxlCFOR\n",
       "hHnevXsu9+5dAtxU1g8QzHOBHab8xs5VDEBTb11AaGdsYFgfAOZMrmXAJozmVpipnA/CQKGm9pSB\n",
       "BZQOQaYeQHh1/QGG/QxosYUqjGoqSwEEM3SmAP1eyvqLgY8BYqqxASJa1m9gyOOegJqyUIWxxxbD\n",
       "ZqDRzAasBQyLwVqZ00pgXj3MwMChwFvGg5YLUIXhpjKBTGU+AMEM/EBhxg1MCQzhHR0dCkw8k67A\n",
       "THEHeiJJdZoKWo5FFYaZypz4zxaYAwIgmIEX6K/1EzhuLWCDhAB3zAIcORarMNytYLAcisGAcUK8\n",
       "LwNPACRcTx3AVbpgE+ZagMyDli4QwJK0Cej8blAuOHdgsR1MGEem68RZvsJKQpTiAxiulJXaHBMg\n",
       "mLo1zE0IBgDq9KFIweGD4AAAAABJRU5ErkJggg==\n",
       "\" style=\"display:inline;vertical-align:middle;\" /></a><br>"
      ],
      "text/plain": [
       "lessThanSuccessor: forall_{a in Reals} (a < (a + 1))"
      ]
     },
     "execution_count": 20,
     "metadata": {},
     "output_type": "execute_result"
    }
   ],
   "source": [
    "lessThanSuccessor = Forall(a, Less(a, Add(a, one)), domain=Reals)"
   ]
  },
  {
   "cell_type": "code",
   "execution_count": 21,
   "metadata": {},
   "outputs": [
    {
     "data": {
      "text/html": [
       "<strong id=\"lessThanAnIncrease\"><a class=\"ProveItLink\" href=\"_proofs_/lessThanAnIncrease.ipynb\">lessThanAnIncrease</a>:</strong> <a class=\"ProveItLink\" href=\"__pv_it/629033716b3f34de8852fbf8e907e073679d9f550/expr.ipynb\"><img src=\"data:image/png;base64,iVBORw0KGgoAAAANSUhEUgAAANUAAAAWBAMAAAClEsSqAAAAMFBMVEX///8QEBCIiIhmZma6urrM\n",
       "zMxUVFQiIiJERETc3Nzu7u6qqqp2dnaYmJgyMjIAAAAcRTyBAAAAAXRSTlMAQObYZgAAAw9JREFU\n",
       "SMe9VltoE0EUvU2a1z6SHz/Uoqyt2v4IoYGqaGvED7+0+aoIQkN9gR+l1Ac++hH7IVuLsCioCMLW\n",
       "gkqtJCgiBdHFIMX4IKBQLSiLoKJI9EeQKOK9O5vHrBtsijpwdjLD5J6Ze87cXYB5tIvu06F8jfVT\n",
       "NkwavKqLSki5z191W3t8AMCvMTyimY91cYU19/kProujSGgynKfDp+rieuacuJugpxytnhMV1kcy\n",
       "+LjPENYBpExdXEcc45m1VhfQ3Li6MT6MMci5iYlzdVGFBvhxa471fJQS17SVyDjDN1UdmgODUf7l\n",
       "oVydyS7TmfjTdlBooX2sb1/Mc71rXoeJizLsBhiZA1dFjCBau3ERfGZUq8tGP4XYqIW/cFzCTz2t\n",
       "gYzGIGyyLPJb22rW4gqgumN5WGMN+itSH8PIS8Cb4rjEIkQUEDHthAB4qu/g7badb6iX7ODi4Iku\n",
       "heNqwMRv0GHQ2nYV1wIAbxECtFgqFN4vLRSSOGNC2gAfHpYg5QPli3cnlvdIkKPlYQpyLdsJiiFd\n",
       "gmxsfyxTxbUQhK/MKJUcIldDCtIJ7lx4vbozZa6Q2VNa/WJqApBrlv4eQQfLoxd05JKvO3Mo/ADR\n",
       "1qXiDcwhHuEe78NInnLQiPkjwMgufIyvfAuNFI+4yHO9zftQSmzINen0hvAd/OaUw/PojXQG+kWN\n",
       "44qjhmVvwE0kFA76ihAGxhWjuK16C6uViuGNcVyk5DDMJA3HXc7iNhT5kMSdy58P4nKvwUA+AW/U\n",
       "NwDjFpd3zwHqh+G1YMVXOvbGOS5KxuXm7X1xR43ajFvuW3F2Oe/59iekWoIBZLyUDRlPErapqqp4\n",
       "pNPPmdIdvsOqOgzKw1UUNVG7RpV0dK1RVrtiw2ppLTir+1kOxR1UEYrQBEmWw1u5P9Re1vjaK+hV\n",
       "A7v22j7WereAlGB65YzQSTgqp+AB45Im+aDBGu+UmuWn9E6xNei70QkwSnf5qTHe5WuCnscYFK+U\n",
       "OPRJiJnzfleWN+fcoAf1srPNujbU6y98A7y0UfsL4X+1/L8I+gvBwdJVGLE+eQAAAABJRU5ErkJg\n",
       "gg==\n",
       "\" style=\"display:inline;vertical-align:middle;\" /></a><br>"
      ],
      "text/plain": [
       "lessThanAnIncrease: forall_{a in Reals, b in RealsPos} (a < (a + b))"
      ]
     },
     "execution_count": 21,
     "metadata": {},
     "output_type": "execute_result"
    }
   ],
   "source": [
    "lessThanAnIncrease = Forall((a, b), Less(a, Add(a, b)), \n",
    "                            domains=(Reals, RealsPos))"
   ]
  },
  {
   "cell_type": "code",
   "execution_count": 22,
   "metadata": {},
   "outputs": [
    {
     "data": {
      "text/html": [
       "<strong id=\"successorIsGreater\"><a class=\"ProveItLink\" href=\"_proofs_/successorIsGreater.ipynb\">successorIsGreater</a>:</strong> <a class=\"ProveItLink\" href=\"__pv_it/050a76493818ca62571b5c9b8f0ebf0943b51d2d0/expr.ipynb\"><img src=\"data:image/png;base64,iVBORw0KGgoAAAANSUhEUgAAAKkAAAAUBAMAAAAErwC3AAAAMFBMVEX///8QEBCIiIhmZma6urrM\n",
       "zMxUVFQiIiJERETc3Nzu7u6qqqp2dnaYmJgyMjIAAAAcRTyBAAAAAXRSTlMAQObYZgAAAjJJREFU\n",
       "OMtjYMAHOC9AMFbAPQG7+E4gfgBi3MWhcQUUYweZ2IXZgLadBjFe4dD3EooxwcYFDAzrsGviAjp0\n",
       "BsijDdjleQ0gGAE2QTXm5ANN5VEAs9+iazvEwMAHkt6A3VT2CRCMYSoDw32gNi4BMHNNEZq2hUC3\n",
       "nFq1ajqOAJgOxThMZXgCYTPVLEBRxOfAwPCjo6MGh6nKUMxpYySFzdTDsJAqhhoLUcgDDLRUBoZO\n",
       "HKb2QrHjBL4P2Ey9B09kzyDhBFHIC4wuZ3CkwcF2jeRHMHY1BHPJMjA3YDN1O1wXyzMQH6qQuwAY\n",
       "HQxMsHTOtcf4AhMPwykFKF8Egpl/MbCDhM69e1f47t0zhKnxCFNfgPhQhaxA9/JcYIfJ3di5igFo\n",
       "6q0LqKYyNjCsD8Dm1ni0EIAqBJnK+SAMKLBY7SkDCyhpgkw9gBoC6w8w7MeaBtzRYguqkAUYAgyd\n",
       "KUC/l7L+YuBjgJhqbIAaW+s3MORBMz3W2IKnLKhCUGwxbAYazWzAWsCwGKyEOa0EpvUwBHMo8Jbx\n",
       "oLlVH2SQDVougCpkBvmVHxjAjBuYEhjCOzo6FJh4Jl2BqXKHYK4k1WkqqKaayT8GBv5TtBwLVcgH\n",
       "igReoLXrJ3DcWsAGCQHumAWEcyzYkALsyXw5jME4Id6XgScAEq6nDuAsXVYhc3gUsJt6CJ7ekjbZ\n",
       "MjB0g1L2uQOL7WDCnQy4Mx7ekhAZMAHDlYRSG4d9HBMYGMivYXhx6L7JwAAAnwGrl46GbJQAAAAA\n",
       "SUVORK5CYII=\n",
       "\" style=\"display:inline;vertical-align:middle;\" /></a><br>"
      ],
      "text/plain": [
       "successorIsGreater: forall_{a in Reals} ((a + 1) > a)"
      ]
     },
     "execution_count": 22,
     "metadata": {},
     "output_type": "execute_result"
    }
   ],
   "source": [
    "successorIsGreater = Forall(a, Greater(Add(a, one), a), domain=Reals)"
   ]
  },
  {
   "cell_type": "code",
   "execution_count": 23,
   "metadata": {},
   "outputs": [
    {
     "data": {
      "text/html": [
       "<strong id=\"less__in__less_eq_relations\"><a class=\"ProveItLink\" href=\"_proofs_/less__in__less_eq_relations.ipynb\">less__in__less_eq_relations</a>:</strong> <a class=\"ProveItLink\" href=\"__pv_it/c8fb08baf4a02f4b5cdb3c05eb73443bdc6ebbe50/expr.ipynb\"><img src=\"data:image/png;base64,iVBORw0KGgoAAAANSUhEUgAAAHkAAAAVBAMAAACQ4lxbAAAAMFBMVEX///+6uroQEBBERERUVFTu\n",
       "7u52dnaIiIjc3NxmZmYiIiKYmJjMzMwyMjKqqqoAAAASK41gAAAAAXRSTlMAQObYZgAAAUBJREFU\n",
       "OMtjYMACuGczEAQ80wOwS7BeYyACMOpgF+f+QIxuhrnYhdkWYBNlX4MmkAVj8N3BqhtZOGw5Aw7d\n",
       "3CsbgOTmVasuoOiGCENA52oGHLrZl4GC73Apmt0QYQhouceAQzfETaxX0VyO7NTDF7EERBKIiIS4\n",
       "iQXhSpYLCGEwYLZBCpS7YDCBgWE/SCnUTcwIBY8OIIQhfliOLWXwAk0IgSo7BDIRHGqHVzAghKHh\n",
       "twybdq8CeGg2I0SFDmAEMt/NBky7HRDBw4QQZjHAjGDGKwdQ/O0A8TcsajgLGPDEGDBXGAtgC3NY\n",
       "sliHkdZAwvEXYKIcPkgcjJQaYhiAJaVyLUVSj8JB6AYDMSu0lAoGTxlwcbJw5DEFJE4CAy5OFuH8\n",
       "zQoKzNhVILAGwiGUvxmQyhZuFGNR4lARh24+Yss1APHCZMh6s4S3AAAAAElFTkSuQmCC\n",
       "\" style=\"display:inline;vertical-align:middle;\" /></a><br>"
      ],
      "text/plain": [
       "less__in__less_eq_relations: < in {<, <=, =}"
      ]
     },
     "execution_count": 23,
     "metadata": {},
     "output_type": "execute_result"
    }
   ],
   "source": [
    "less__in__less_eq_relations = InSet(Less._operator_, less_eq_relations)"
   ]
  },
  {
   "cell_type": "code",
   "execution_count": 24,
   "metadata": {},
   "outputs": [
    {
     "data": {
      "text/html": [
       "<strong id=\"less_eq__in__less_eq_relations\"><a class=\"ProveItLink\" href=\"_proofs_/less_eq__in__less_eq_relations.ipynb\">less_eq__in__less_eq_relations</a>:</strong> <a class=\"ProveItLink\" href=\"__pv_it/407ef8340c3fd56e61ab7af8f7ac49dd97829db00/expr.ipynb\"><img src=\"data:image/png;base64,iVBORw0KGgoAAAANSUhEUgAAAHkAAAAVBAMAAACQ4lxbAAAAMFBMVEX///8QEBC6urpERESqqqoy\n",
       "MjJUVFSYmJhmZmbc3Nx2dnbu7u7MzMwiIiKIiIgAAAD1zHUxAAAAAXRSTlMAQObYZgAAAVNJREFU\n",
       "OMtjYMAC2NsZCAKevg3YJbijGIgATDLYxdk/EKOboRXG4LuDLMx1AZtiVDVAsBZK77rHgFU3SwxC\n",
       "EE0NQveM62Cq+O7dABTd7DcmwJVC1WDqnhYCpg6/RrOb7xYiVKFqMHUfDoIEdDSay5GdClWDChYC\n",
       "MbMNhM2GcCUbyAM7kJwKUwM2OhQMGhgY6kHuuwdxHzNCgeMBoAnIToWpQQWsDaCwgXjvIMhEcKgd\n",
       "vgkktqF4lP0WNu25D0DxEgFy9GSEqOIBjECGqEGzOwGS5sKAyhkRwmwGmBEMVoPk7wSIv8Ep3liB\n",
       "geMBA54Yg6jBDHMw4MxhYLiCkdZAqWV/AJIaBAc5pYLBNqMNWFIq720kJSgcVN0MWrZoKRUMvBlw\n",
       "cdZiz3pcAkicBQy4OCDdW++CwB1c+Zv7AZIa7gdY8zcaQCpb2FGMRYlDIRy6WYgt1wDRc2lz7VFs\n",
       "XAAAAABJRU5ErkJggg==\n",
       "\" style=\"display:inline;vertical-align:middle;\" /></a><br>"
      ],
      "text/plain": [
       "less_eq__in__less_eq_relations: <= in {<, <=, =}"
      ]
     },
     "execution_count": 24,
     "metadata": {},
     "output_type": "execute_result"
    }
   ],
   "source": [
    "less_eq__in__less_eq_relations = InSet(LessEq._operator_, less_eq_relations)"
   ]
  },
  {
   "cell_type": "code",
   "execution_count": 25,
   "metadata": {},
   "outputs": [
    {
     "data": {
      "text/html": [
       "<strong id=\"eq__in__less_eq_relations\"><a class=\"ProveItLink\" href=\"_proofs_/eq__in__less_eq_relations.ipynb\">eq__in__less_eq_relations</a>:</strong> <a class=\"ProveItLink\" href=\"__pv_it/c1f43fa4fe53f029b59d963ad757eb2ff90a990c0/expr.ipynb\"><img src=\"data:image/png;base64,iVBORw0KGgoAAAANSUhEUgAAAHkAAAAVBAMAAACQ4lxbAAAAMFBMVEX///+6urqqqqoQEBDc3Nzu\n",
       "7u6IiIjMzMwiIiJERESYmJhUVFRmZmYyMjJ2dnYAAAB5hzdQAAAAAXRSTlMAQObYZgAAATNJREFU\n",
       "OMtjYMACuE4xEATsxwKwS7DeYyACMJpjF+f6QIxuhrPYhfkasImytaMJvCCgm+k6QjCujQGv7pUd\n",
       "HRdQdHP1OMAlfboY8OquTEWzm60PEarelxjw6ma9iuZyZKdWXsTiwcdA/PYuCNxh4Ea4khvkgRgk\n",
       "p3JORwoUsPq7BxgY1iOZxIlgKhcATUB2KlsbtpTBewDBLgaZCA61yhYgEY3iUa4+bNp3JMCZnghR\n",
       "4QKMQGa644Bp9waYv28zMCOEuSdgRjDj7QIUf29A9TdPAgOeGAPmipkCWMIcDpow0hootcRfgImy\n",
       "bEfiYKSW6IkBWFIqRyuSEhQOWkqVm4GWUsFAlQEXB1cuMUDiPGDAxXlBOH+zggIztgME2iEcQvmb\n",
       "Aals4UIxFiUODXHoZiK2XAMAZwdk0S2MOUcAAAAASUVORK5CYII=\n",
       "\" style=\"display:inline;vertical-align:middle;\" /></a><br>"
      ],
      "text/plain": [
       "eq__in__less_eq_relations: = in {<, <=, =}"
      ]
     },
     "execution_count": 25,
     "metadata": {},
     "output_type": "execute_result"
    }
   ],
   "source": [
    "eq__in__less_eq_relations = InSet(Equals._operator_, less_eq_relations)"
   ]
  },
  {
   "cell_type": "code",
   "execution_count": 26,
   "metadata": {},
   "outputs": [
    {
     "data": {
      "text/html": [
       "<strong id=\"greater__in__greater_eq_relations\"><a class=\"ProveItLink\" href=\"_proofs_/greater__in__greater_eq_relations.ipynb\">greater__in__greater_eq_relations</a>:</strong> <a class=\"ProveItLink\" href=\"__pv_it/735bc8a5168b9e83df01d23ca9fc8b73f190991a0/expr.ipynb\"><img src=\"data:image/png;base64,iVBORw0KGgoAAAANSUhEUgAAAHkAAAAVBAMAAACQ4lxbAAAAMFBMVEX///8QEBDMzMxERES6urrc\n",
       "3NxUVFSqqqpmZmaIiIgiIiJ2dnaYmJgyMjLu7u4AAACnD0uXAAAAAXRSTlMAQObYZgAAAT1JREFU\n",
       "OMtjYMACeHoYCAKmzgfYJfhuMxABWISwi/N8IEY3Qy92Ye4FaAKv+rAp2wXEbw9g1Y0qXJuKQzff\n",
       "rglQ3uFVqy7AdSOEwcA3CbtuBoZZ+8CU8jxUl0OFoUDZBIduhlMgb/HdQ/f3KRTfhl1H170RyVts\n",
       "AXBhtgvYfBuxFGL0XTBoYGA4D/dWHgMzQl2hAkIYAU41oNnNCxPwtWNQBJkItlR5KQNCGA5QgwEM\n",
       "sibAnRiMEHVUwHA5WhRA7E5ABA8jQpjNAD3UWLvg0Q/1dwLM3xA3cUxgwBljrLkFWFLLRmQ3LUfR\n",
       "DRN+DwqKxw4MCA72lPrM5AGWlMq1Dkk9CgeWWqDA2woppcJBHQMuzi4ceUwAibOBARdnF+H8zQfy\n",
       "/ttVILAIwiGUvxmQyhYeFGNRyhYRHLrZiS3XAL1/bh0bUh9MAAAAAElFTkSuQmCC\n",
       "\" style=\"display:inline;vertical-align:middle;\" /></a><br>"
      ],
      "text/plain": [
       "greater__in__greater_eq_relations: > in {>, >=, =}"
      ]
     },
     "execution_count": 26,
     "metadata": {},
     "output_type": "execute_result"
    }
   ],
   "source": [
    "greater__in__greater_eq_relations = InSet(Greater._operator_, greater_eq_relations)"
   ]
  },
  {
   "cell_type": "code",
   "execution_count": 27,
   "metadata": {},
   "outputs": [
    {
     "data": {
      "text/html": [
       "<strong id=\"greater_eq__in__greater_eq_relations\"><a class=\"ProveItLink\" href=\"_proofs_/greater_eq__in__greater_eq_relations.ipynb\">greater_eq__in__greater_eq_relations</a>:</strong> <a class=\"ProveItLink\" href=\"__pv_it/03c85a9a2fe60d9ab629dad7b6bc89f70e1d960d0/expr.ipynb\"><img src=\"data:image/png;base64,iVBORw0KGgoAAAANSUhEUgAAAHkAAAAVBAMAAACQ4lxbAAAAMFBMVEX///8QEBB2dnaIiIiYmJhE\n",
       "RETMzMy6urrc3NxUVFQyMjKqqqpmZmYiIiLu7u4AAABkm1r0AAAAAXRSTlMAQObYZgAAAU5JREFU\n",
       "OMtjYMACWI4wEARshx9gl+BbxEAEYBfDLs7ygRjdDKeA+O05DGGmC2gCWNQAgS6I2DUDm+5XDsgi\n",
       "mGpguhmqpkF4rnfvLoDr5tM1QFYJU4OpmyE1HEzaobrcVg9ZKUQNNt0MnauBlq1D97cvim9BalCB\n",
       "IozRc4OBswEuzLkAm2+BasBGrwKDAwwM/jAZ3wMMrAh1GxNgvp2HpBuoBhVwQQVAXkwEmQi2NPUG\n",
       "PKziEGpRgwEM5oICFhK8rQjRwgQMl6NFAcTuCUCC4yw4ahkRwpwB6KEGVYPk7wkQf3PM2gAW5TFg\n",
       "wBljMDWYYf60AMq5jaIb5tT3C5DUvF+ALb7B4GX4AywplfcekhIUDqpuhqJYpJQKB/sYcHF0sWc9\n",
       "JgEkjgIDLg5I96u7IHANV/7mM0BSw2eAnr+xAaSyhQXFWJSyRRyHbm5iyzUADXhpy/QEor4AAAAA\n",
       "SUVORK5CYII=\n",
       "\" style=\"display:inline;vertical-align:middle;\" /></a><br>"
      ],
      "text/plain": [
       "greater_eq__in__greater_eq_relations: >= in {>, >=, =}"
      ]
     },
     "execution_count": 27,
     "metadata": {},
     "output_type": "execute_result"
    }
   ],
   "source": [
    "greater_eq__in__greater_eq_relations = InSet(GreaterEq._operator_, greater_eq_relations)"
   ]
  },
  {
   "cell_type": "code",
   "execution_count": 28,
   "metadata": {},
   "outputs": [
    {
     "data": {
      "text/html": [
       "<strong id=\"eq__in__greater_eq_relations\"><a class=\"ProveItLink\" href=\"_proofs_/eq__in__greater_eq_relations.ipynb\">eq__in__greater_eq_relations</a>:</strong> <a class=\"ProveItLink\" href=\"__pv_it/edd54c5efc1bdd3bf177799c9ac7583c494b7e890/expr.ipynb\"><img src=\"data:image/png;base64,iVBORw0KGgoAAAANSUhEUgAAAHkAAAAVBAMAAACQ4lxbAAAAMFBMVEX///+6urqqqqoQEBDc3Nzu\n",
       "7u6IiIjMzMwiIiJERESYmJhUVFRmZmYyMjJ2dnYAAAB5hzdQAAAAAXRSTlMAQObYZgAAAS1JREFU\n",
       "OMtjYMACuE4xEATsxwKwS7DeYyACMJpjF+f6QIxuhrPYhfka0AQijmJT9gK37tgFyCK6WwjqXtnR\n",
       "cQGum/VFArKc7HYCuitTUV2e8RRFdiJe3axX0f29AsW33pfQdT8G4rd3QeAOA7cDXJj7Ajbf+rRA\n",
       "jAarv3uAgWE9kiQngqlcAPPtViQFKw6g2c2LJFAMMhFsaWULPKymIuRRgwEMdiAC1hMhKlyA4XK0\n",
       "KIDYvQHm79sMzAhh7gnoocZyAh79UH9vQPU3TwIDzhhj2auAJbU8RuY0oeiGOTUeFBSRAgwIDvbU\n",
       "Ej0xAEtK5WhFUoLCQUupcjOQUiocqDLg4uDKJQZInAcMuDgvCOdvVpD3YztAoB3CIZS/GZDKFi4U\n",
       "Y1HKFkMcupmILdcAdZ1pBf4iTtUAAAAASUVORK5CYII=\n",
       "\" style=\"display:inline;vertical-align:middle;\" /></a><br>"
      ],
      "text/plain": [
       "eq__in__greater_eq_relations: = in {>, >=, =}"
      ]
     },
     "execution_count": 28,
     "metadata": {},
     "output_type": "execute_result"
    }
   ],
   "source": [
    "eq__in__greater_eq_relations = InSet(Equals._operator_, greater_eq_relations)"
   ]
  },
  {
   "cell_type": "code",
   "execution_count": 29,
   "metadata": {},
   "outputs": [
    {
     "data": {
      "text/html": [
       "<strong id=\"lessEqShiftAddRight\"><a class=\"ProveItLink\" href=\"_proofs_/lessEqShiftAddRight.ipynb\">lessEqShiftAddRight</a>:</strong> <a class=\"ProveItLink\" href=\"__pv_it/c7904d814f44f237e381cf1f84a8a9660697d51d0/expr.ipynb\"><img src=\"data:image/png;base64,iVBORw0KGgoAAAANSUhEUgAAAUwAAAAWBAMAAABZIrhJAAAAMFBMVEX///8QEBCIiIhmZma6urrM\n",
       "zMxUVFQiIiJERETc3Nzu7u6qqqp2dnaYmJgyMjIAAAAcRTyBAAAAAXRSTlMAQObYZgAABDRJREFU\n",
       "SMfNl3+IFGUYx7+7c/trdmbXP/pDkWJayZPAWDw6jdIW+sO/0u0fKwhcLI1+EJsYld4f2xExlyRL\n",
       "QUoQjB1UXFc3GKEHIYNHSJvKYoEmeCyRSqWTBEFeKT3vj9ndd3b2stiiB743M+89z72feZ/neec9\n",
       "4N+xd6UibbZ3KNOMds3WhVrs4fygKfWaULQl6z1DH0J/pRrl+5TQV+z+x0Fj5upCfV6i1bkfLvPL\n",
       "D+RfjPL9ROgAW/HaoDG/lurYoe6HY23g4xa/moSYd4NEW12uhsWVc+jiDhrzZak+mAeDilwrSzJF\n",
       "K7/ZicLUl3CZjamp/YOmzFSF+mHmSsLtuWB9GMFxRGHie6HfbHts0JjxohDemrvdCWEeK5Rh8DJM\n",
       "7CsFgytIFwv3hjCNwh3AHLi2AxMRM21q/SXMUPjZD+7STaGhZfg5tJr73XQLJv/jdrkd+gZl9oYz\n",
       "U1cwM3uwD5gH1wNK4+Hwqse/428i+y6787UNShICBwJRII+IFxel5godbGJdCHMMSRdZXhDDd7aD\n",
       "99BEC8hbCmbKwzM0H7hSiAdbq/75SDNuoMHccqxsPppbD8sz3kOEQwjzKI39FDzESkL3O9jJnk/5\n",
       "/vO+f5HutAWe7qvc7UwjCLiFftPCjEfL4/uXbvP9Cng02VYho5kKnM/OToEozjHsPCXA3PuOQ5jm\n",
       "x1EOKuY8G7oWxlwK/Vd1NWO1LkwcvaeDSdvmZldZzaXowsy0ttDN5MoLGGJ5ZhQe+03haaoHMsKc\n",
       "FvVsKQ4BJovEXYwy8ctKR0m6/geyV1XMGR46FOwCm7a3k55vyuULMCma2UapiSdo6IXEAnIQFCOM\n",
       "ZthZIT6klqeNsOuuxBLFQWLyyI18GeK740WlhfTfkWzNKpgEA1e2ELNHXg1aKF/Sb1U7/TrdtlsI\n",
       "n9KracVEFZN8Lm3HLnYdx7zOJ7VGn2T7hlZDWXGQmDxymk+WtoLpWf8xjeNMxVMwtQomy9C8drW8\n",
       "zdudmi/ZTBdVzFHodwP3QYj1V8yNV/CwbdtW3HjzG1Eto4mXbHsc1perGWaMFkxxkJg8EtN7eUVq\n",
       "Fbk1VYXeLzy6raR2+onzNF2uHNrLKKv6mpOh7d04eZp+XpAyqSJm6ulzTlLkNPsYK5EFLEdFJP2z\n",
       "hmwpxUFi8kgapS7POzH35j6WH4S34FT3MUX9WFaFRAPWtz4IoyxKr+FlXsdus4YvBKYxjQMOfd+K\n",
       "HYeu1WSR7GWvIOWc7X/0mIo8egRmdp+OdKf36CGztO3QeoBl7vApb3JDYjm2nCAOWpzs2GV9pPWQ\n",
       "m1lz2uk4dDBFJFsDJ/Fsu+TSdaHFDnL6pReZifxP9POVBznlU0ylJ9ddXFZRbQpzQw69X6G/cSxO\n",
       "Rx2L+9jEYu8wG3HW753tn/6T8e3N/5Nh1oWiLRxkYlHMI7QF2A7+n6b9d1P9Cb7pPc9Q2M7GAAAA\n",
       "AElFTkSuQmCC\n",
       "\" style=\"display:inline;vertical-align:middle;\" /></a><br>"
      ],
      "text/plain": [
       "lessEqShiftAddRight: forall_{a in Reals, b in Reals, c in Reals | a <= b} ((a + c) <= (b + c))"
      ]
     },
     "execution_count": 29,
     "metadata": {},
     "output_type": "execute_result"
    }
   ],
   "source": [
    "lessEqShiftAddRight = Forall([a, b, c], LessEq(Add(a, c), Add(b, c)), domain=Reals, conditions=[LessEq(a, b)])"
   ]
  },
  {
   "cell_type": "code",
   "execution_count": 30,
   "metadata": {},
   "outputs": [
    {
     "data": {
      "text/html": [
       "<strong id=\"lessEqShiftAddLeft\"><a class=\"ProveItLink\" href=\"_proofs_/lessEqShiftAddLeft.ipynb\">lessEqShiftAddLeft</a>:</strong> <a class=\"ProveItLink\" href=\"__pv_it/53c8b571c70f768fec6e1bb3c8dbb1e8907e18450/expr.ipynb\"><img src=\"data:image/png;base64,iVBORw0KGgoAAAANSUhEUgAAAUwAAAAWBAMAAABZIrhJAAAAMFBMVEX///8QEBCIiIhmZma6urrM\n",
       "zMxUVFQiIiJERETc3Nzu7u6qqqp2dnaYmJgyMjIAAAAcRTyBAAAAAXRSTlMAQObYZgAABCRJREFU\n",
       "SMfNl0toE1EUhk+STpNMZlIXgqIoQ6tWRCVYrAhaKy5cKXGjLgRDfeGTKr7tIqjIVFEGFyqCMJqF\n",
       "UqsZFFFBNFhEjA+CCj7AEnziaxBxoVXBcx8z6Z1OtEoUL/yZmZtzcr97zzl3bgD+TjvC5dsu9u2K\n",
       "FvxNYwZTkTw8qTSlnGbyb9VGn64TPmYnBuHHcqabpONNpTHjBlOZSRRL9/VJenntZ/cMdZrpEFnx\n",
       "dKUx73G57Yzw9VUX+LpGr2qid6A1fvMVpWhUcRMvVqUxt3CVwTzqZOQknpJhwwezqodMZACVmu/o\n",
       "OFhpymgrUznMeDMzW+Osj0DgYCr0F54zfdb1tkpjBhNMoNSOFDGjUyYMwW4aY2lfs+NQR1OhNilg\n",
       "xlvqcBpdQLUEoN1npNnFX8JUeZ9t5y5SYIpug30i5nQj/gFTkf64nnRd95IVtSJFATP7Rv4C0A1U\n",
       "M4TCg/OjFz2lK86TOrZuV5MGPgYIIkBeYBNnqWZx5WClgCkPgxDWa4yGs36M67wN1QbVloB5xYSP\n",
       "OB5QhSHobK3ypYZCUIE8MYsTl5NdU0HLKcfAx8CDeRn73joPgWamaSZ9vGPba237Jd6FeiCMhtIH\n",
       "2v8g7zgMpF/R5bHtV8NtO4W3TSB/A1gIVEoh7Bg/vNgBSPGYYNdg7al7DpuIqZ7yMxAxu0nXFy/m\n",
       "YG8JBdKQTbqYcHlyCTOQ9pbQM6j66mJGi3PxJjPqBVSROBOKHPmmdgXmAzbE7KTTrNUEAweTeMJ4\n",
       "Qil9HGUKQSeLIWJmc3CFZLGzC8xe4gY9m/NifqcrPBOY2hdjNDdIPRAHRtFAaOrNOvYi1XKhBnJd\n",
       "Lw0QDDgm9ZxJkyq4NZgQS+g7jiliWrAGX9GqWw3zdzolVIP2Ym5+gqMFt4TgLE4tlJBaIUPHCi1d\n",
       "T67boVumg2qNy8i+gZmfFAw4JvXspINFNGd4Un9EjSBPFDDRZKOCTu7KwQFa7lh8oRRkxA1pNezA\n",
       "zylcNdgbsIIpmKfruhZU9t9n2dIobdb17aDdGEcwAzhTwYBjUk/o3EMzMpTiW1Mrk3L7rhh0uWXk\n",
       "gRFYn0nPXkaieuuJJgY9M5ak0gsuFRMqa0Qem9UsprEFJMN6YCikWNDP5XlJCQYck3piL1Z5jRmw\n",
       "+veyPO7dgn1flmxirUysAo2Fs0BJstTL56K7YauahmsMU+mEQya+3xIlg16rSTzJZN9D2HxY9ujR\n",
       "4X/0cJpw9JDNXg/86MGj1HJmKgCJ3Pk7uUyTNBTm3kIOXJxY2zu5oTjHik64a5YMSpjMk6yBKa1y\n",
       "Uy5iMP3sICe/2kQai397OVt+kBNexZh6fN3ZZTTmJmuWx6DvW+g3jsWR/h2LXf72/v4NiPmtTORP\n",
       "/2Q86v+fDNVg8m9eJxV+inkBtwDdhP+zhf7dUD8AgyA9ddkt9gAAAAAASUVORK5CYII=\n",
       "\" style=\"display:inline;vertical-align:middle;\" /></a><br>"
      ],
      "text/plain": [
       "lessEqShiftAddLeft: forall_{a in Reals, b in Reals, c in Reals | a <= b} ((c + a) <= (c + b))"
      ]
     },
     "execution_count": 30,
     "metadata": {},
     "output_type": "execute_result"
    }
   ],
   "source": [
    "lessEqShiftAddLeft = Forall([a, b, c], LessEq(Add(c, a), Add(c, b)), domain=Reals, conditions=[LessEq(a, b)])"
   ]
  },
  {
   "cell_type": "code",
   "execution_count": 31,
   "metadata": {},
   "outputs": [
    {
     "data": {
      "text/html": [
       "<strong id=\"lessShiftAddRight\"><a class=\"ProveItLink\" href=\"_proofs_/lessShiftAddRight.ipynb\">lessShiftAddRight</a>:</strong> <a class=\"ProveItLink\" href=\"__pv_it/b89436a3783c8153acc86fa56a325285fea274280/expr.ipynb\"><img src=\"data:image/png;base64,iVBORw0KGgoAAAANSUhEUgAAAUwAAAAWBAMAAABZIrhJAAAAMFBMVEX///8QEBCIiIhmZma6urrM\n",
       "zMxUVFQiIiJERETc3Nzu7u6qqqp2dnaYmJgyMjIAAAAcRTyBAAAAAXRSTlMAQObYZgAABB5JREFU\n",
       "SMfNl22IG0UYx//JXt4mu0k/9EOlKGuKbb8IoYdnRVsP/OAnbfqlKggN9bUqEksFbe9DPLDkLMqi\n",
       "YIsgbA2onNVbKiIHIksPKY3tEarQWmgJ0lZsy7YIgp4v+MzLJpnNRk+J4sA/M7N5JvPbeZ5nZgL8\n",
       "O+VtpdgyP/go1443zTtSHd45N2pKVpeKL2ln4NH7YC/V4mx3Sn3J25dHjVlwpIa8RGfg0fdkX46z\n",
       "/UjqIF/x+qgxv1LqlSP9naO95ucV/mkRYtELHW33mZq2UMGlyhs15otKQzAPdVun7xBVhlZ+ixuH\n",
       "yVYIWa3Z2QOjpszVpIZhFiZVY11L1pzgGOIwcUHqp0ZjatSYybIU3li42Y1gHi1VYMowZMdCoDWk\n",
       "S6U7I5hm6RZgAUKPATMxM93f+UuYsWg/CFvZttTYDbgWWc0DXrYDS/w4u727C71Kvd/dOUfDzO3F\n",
       "a8B5CN2jJ96n6x/5VryJyrv8rn2bNSeEBgSiQ7rixWWoeVKH2tgYwZxC2kNeBMSzvZTYSxMtoWhr\n",
       "mBkfT9N8EMogGb4U+2y8nTTR4mYF/hsfLGyC7ZvvIMYggpnaB1wJO4lJqbtd7OL9xSB4LgguUctY\n",
       "EsbX+Y/1Ya6kbzqY82l5guC7m4KgCjGaynYps50Jjc/Mz4IoznLsIjnA2v+WS5jWh3EGOmbuSbL/\n",
       "OYq5CuxHfTUT9S4mcj2nrxTb5hZPW81V6MPMdbZRo7n2Isa4nzmFz78pPUXxQIUwD8t4tjWDEJOP\n",
       "BNtI21/qh7Wu5nT2K/LXdcw5MXSsFkkhcnqxrZYvxKTRvNyrNPMoPXo+tYQCJMU4p1nnrpEHqe0b\n",
       "47zenVqhGShMMZIt8h0muSdZ1lKI/YJ0Z17DJBh4KoX6NiRKoeIku1HP9N+o2U0hfEyvZpRTNTQF\n",
       "hfH4bl5P4zwTk9oTT3AGo46KZqAwxcitwntZO5ye5x/XNE5XfQ3TqKJZgeFHtndKvnQ7W9YxJ8Bu\n",
       "A+6CFM+vhJes4oFGo2Enzde/ltEykXqh0ZiGffxWjpkgP2oGClOMNC/IiDSqKutrUu+WHtoxqWf6\n",
       "iXM0XaESOSzJq2zDycj2bp48RZ8XlSyKiDkne9ZNS5/mH+YhsoTVqEqnf9JSKaUZKEwxEs2XuYmb\n",
       "8JZ3WL4X3YIz/dcU/bCsSckEdLbfB7MiQ6/l517BHquOLySmeRgHXTrfyj2DvtXkI4E36YjIuGeG\n",
       "Xz1mh1w9ZLH6b0fMHbx6KC/tOLIJ2M930kW/uTm1GttOEActTn7qKhvvbPVyG065PYMephxJN62d\n",
       "SD3TDbmsI7Xsi9zMMFt1kdOOYgo9te6yWk+xKYsXMRg8hR50ln0tzsZdi4eUmT97h/mYu/7gbP/0\n",
       "T8Y3y/+TYTlS8SU6yMLfxPwfFeO/m+oPAjo4ayTUuKYAAAAASUVORK5CYII=\n",
       "\" style=\"display:inline;vertical-align:middle;\" /></a><br>"
      ],
      "text/plain": [
       "lessShiftAddRight: forall_{a in Reals, b in Reals, c in Reals | a < b} ((a + c) < (b + c))"
      ]
     },
     "execution_count": 31,
     "metadata": {},
     "output_type": "execute_result"
    }
   ],
   "source": [
    "lessShiftAddRight = Forall([a, b, c], Less(Add(a, c), Add(b, c)), domain=Reals, conditions=[Less(a, b)])"
   ]
  },
  {
   "cell_type": "code",
   "execution_count": 32,
   "metadata": {},
   "outputs": [
    {
     "data": {
      "text/html": [
       "<strong id=\"lessShiftAddLeft\"><a class=\"ProveItLink\" href=\"_proofs_/lessShiftAddLeft.ipynb\">lessShiftAddLeft</a>:</strong> <a class=\"ProveItLink\" href=\"__pv_it/1f19b5d6c7d7836ff05dbcce01b233476a46a32b0/expr.ipynb\"><img src=\"data:image/png;base64,iVBORw0KGgoAAAANSUhEUgAAAUwAAAAWBAMAAABZIrhJAAAAMFBMVEX///8QEBCIiIhmZma6urrM\n",
       "zMxUVFQiIiJERETc3Nzu7u6qqqp2dnaYmJgyMjIAAAAcRTyBAAAAAXRSTlMAQObYZgAABA9JREFU\n",
       "SMfNl0toE0EYx7+8muxmN+1BUBRlaX30oBAMVgWtigdPSnqpHoSG+n6VKCpqeyiKkirK4kGLIGzN\n",
       "wVKrXRSRgmiwiBi1BBXUghJ84oNFxINWBb955DHbDUaJ4sA/O7v7TeY3833fzCzA3ymnuRzL4NhH\n",
       "UsbZNKgzZcnN00pTyp1MzqVKH/Oo18Gsdzz+bGK6Qx68qzRmSGcqMYjsmEdvnexeoC4wdZMZ76w0\n",
       "5gOufLkovL5RqF6Lkl81XOxojVe+oRSNKmTgxaw05l6uEpg9+dqj+fTi1x0wvaNk5muo1HRf38lK\n",
       "U0pxplKYocW8MiPNrgJBDlOh//CS6Usi0VFpTHeYCZTaaSKmtGD2RHzMfCzfyrm3joZCbVTADLXW\n",
       "oZuHgGodQJdDTyuyv4Tx2u+tXC2QYZLa4ZiIuUQPfcRQpH8uz82vQkfJjJqBrIA58E7+CvAMqJaK\n",
       "iXelfs1zOuM8qIM7DjVq4GCAICKkQQfOQs3kSsEWAVOeDB7M1yB1Z1shJdpRHVBlCpjXDfiE/QGV\n",
       "H9y5QclXIxm3AmliFiJNzg0tBC2lnAEHAxum7xDA+9yNazHTIoPeDlvWdst6jTXPKPixse8j+bMi\n",
       "zHH0FZ0ey3ozxbJiWG0E+TtAC1ApGX/O+PFgHyDFCMGuxtxTj5wyEFM972QgYkob0f6rHXOCPYVc\n",
       "nTAQ5ZggFZw+jr6ypdAL8H7LY0rZZqwkp78CL/EzoUiRN7WbMR6wIGY/HWatJhjkMElLkOeRzj9N\n",
       "NwSnk8kQMQdScJ0ESNyWQu30lQ3zB53hZcDUtRYb7PKNQggYRYTQzDDq2EaqpTwRct3pqxEMOCZt\n",
       "KQ+TFca9zx0WU+gH9ilimtCGW7SatS1ImELVaC/G5mfoyeRTCC7h0DxhXxySlMKzfie57odnMu1U\n",
       "a9hAGDDyo4IBx6Qtm6j3Alque5J/RA0gzxEw0WS3go1StuUdk88Tg6S4IG2DA/i7gKsan7pMdwxW\n",
       "JhIJza0cf8iipcG3J5HYD9rtWQTThSMVDDgmbam8ZBHpifGsjzMp9+6LTpdbp52YivkZtW2WxKt3\n",
       "n2qi05MzyehfcakYUAN6YMSoYj4NriYRNgqTIMacfjnNU0ow4Ji0JSQPEhPDZZa3WZ61L8GOmyUb\n",
       "WJyJZaDeshyUKAu9dEo6DPvUTrjJMJV+6DZwfwsXDIpmk7QEOIFbhN94XPLo0Vfq6MGKcPSQjaIb\n",
       "fvTgXmq9uBDgCFlJh1PJRt8kaL6LHDg5wY4PciTbZEqz7xsFgwIma4knrU3g25oPuYDOVPZBrquU\n",
       "LT/ICVsxhh6fd3apx9hkxbQZjN2FVullH4sD5R2L8/xd5X4GBJ1mJvCnHxlPyv/IUHUm52JvpMJv\n",
       "Yv5HxfPvuvoJxmI4EfvhzrcAAAAASUVORK5CYII=\n",
       "\" style=\"display:inline;vertical-align:middle;\" /></a><br>"
      ],
      "text/plain": [
       "lessShiftAddLeft: forall_{a in Reals, b in Reals, c in Reals | a < b} ((c + a) < (c + b))"
      ]
     },
     "execution_count": 32,
     "metadata": {},
     "output_type": "execute_result"
    }
   ],
   "source": [
    "lessShiftAddLeft = Forall([a, b, c], Less(Add(c, a), Add(c, b)), domain=Reals, conditions=[Less(a, b)])"
   ]
  },
  {
   "cell_type": "code",
   "execution_count": 33,
   "metadata": {},
   "outputs": [
    {
     "data": {
      "text/html": [
       "<strong id=\"greaterEqShiftAddRight\"><a class=\"ProveItLink\" href=\"_proofs_/greaterEqShiftAddRight.ipynb\">greaterEqShiftAddRight</a>:</strong> <a class=\"ProveItLink\" href=\"__pv_it/f765ea805791f32b719ca77ec728fa3b967780ee0/expr.ipynb\"><img src=\"data:image/png;base64,iVBORw0KGgoAAAANSUhEUgAAAUwAAAAWBAMAAABZIrhJAAAAMFBMVEX///8QEBCIiIhmZma6urrM\n",
       "zMxUVFQiIiJERETc3Nzu7u6qqqp2dnaYmJgyMjIAAAAcRTyBAAAAAXRSTlMAQObYZgAABDxJREFU\n",
       "SMfNV2+oFFUUP7uz/2Z2ZtcPflAkGVcyvwiLj15CaQtBfUq3DxlB4GJl+IfYnkalL9geEfN6GEtC\n",
       "iiCMLlS8Xr3BiHrQh8GHVC99LBqkgrJEPsk/kwRBvTI69547u3NnZ18Wa3jgt/fOnXPm/u75c+9d\n",
       "gDsjRwQiZap7SG1Gq2brhBZ7uNhvllqNEC2petfQh6C9UY3S3U74lvWv9ptmrk7osQjuG2233Rn6\n",
       "CfWLUbqfEA4xj9f6TfOsQEeOBx9OUEDn2gsxkGLe8QNtBlR1kyOHS9KdftN8TaAHzaPUJObKYiCN\n",
       "hDfZUTS1RRzGzPj4wX6zVKuEXjRzJWqTlugwBl9BFE34kfCbZQ33m2a8SIAD0yvsEM0ThTLofhqq\n",
       "L1IgVyLmCg+GaOqFewGmgeN5gNGImTa2/pFMIvzs+b1Mk5BYCj+HvHnQybTAaH9cfYDn536M7F/2\n",
       "ZF2iqe6DdwAuAccjovCEfL762R/4SsSCs0NvbZCC4CsgkfbYo/T9af857RCONmFdiOYwpBzIthPC\n",
       "2M2bfTjRPORNiWbahZ04H3CkIe5vrdqXA824DjNMLcei8dH0ejBd/RhEKARpqoO8Fq75z7ES4WEb\n",
       "htjzrOe95Hlz2FPmeU7e9LNjmHJiMb5pwaSL7vG8K8s9rwLcGmULQW+m/a+fmxoHZHGB0c6jg4yx\n",
       "wzbSND6OUgjSBHUd4/l7mOYS0H6VvRmrBWlODIm3i/m2ucmRvLkEAjTV1mbsNFZdhgSLM2PhsjeF\n",
       "HZgPKEhzgvLZlBR8mswS/fx1CZK/rLKloGt/QvamTHOSmyYo6Ade99eFQc83hft8mmjN5DGB0edw\n",
       "6OXkPOSAWAwwNvfZK+kgNV1lgLV7koskBUGTW7J21o7vjRelEtL+gFRrSqKJZMARJfReO0lYCeVL\n",
       "2j1ypd/CbruE4FNcmlJMVqHBWSjb9rB2BC5pfFJz8AW2uSk1KEsKgia3ZMM3IGP6Fczqj2EEvq+4\n",
       "Ek2lAo0yKGxQe7OTNFh8qWamKNMcBO1+gIeAwOor5sQr8JRlWWZcf/c7ypbB5KuWNQLmN2sYzRjG\n",
       "UVIQNLklwLExlo1KRWxNVcL7hae3luRKP3URp8uVQ3sZRlVbezq0veunz+DvZQEDM2Kynrlgpyim\n",
       "2WdYiszDMqhQ0D+bESUlKQia3BImmGfydsy5vcPyg/AWnA5eU+TDskqgAqxveRz0MqXejKu+DXuN\n",
       "GpwkmvoEHLLxfCt2FALeZJYNHr+0fa731WO8++oRECN4O9Ls7quHiNLW4+sBxthOOus2NiSXweZT\n",
       "yAOdkx2+rg20nnDUtWfsjkKHJrd8kk7oXW77GKoTFrzIXXmFCcV/tJeuuMhJRzGmnvA7NasxN0mc\n",
       "kEJo3/x31+JM1LW4h4wutIapiLt+92z/9U/G+dv/k2HUCdESNjJgQZpf4BZg2XB3ivL/TfU3tyg+\n",
       "tHEgjEcAAAAASUVORK5CYII=\n",
       "\" style=\"display:inline;vertical-align:middle;\" /></a><br>"
      ],
      "text/plain": [
       "greaterEqShiftAddRight: forall_{a in Reals, b in Reals, c in Reals | a >= b} ((a + c) >= (b + c))"
      ]
     },
     "execution_count": 33,
     "metadata": {},
     "output_type": "execute_result"
    }
   ],
   "source": [
    "greaterEqShiftAddRight = Forall([a, b, c], GreaterEq(Add(a, c), Add(b, c)), domain=Reals, conditions=[GreaterEq(a, b)])"
   ]
  },
  {
   "cell_type": "code",
   "execution_count": 34,
   "metadata": {},
   "outputs": [
    {
     "data": {
      "text/html": [
       "<strong id=\"greaterEqShiftAddLeft\"><a class=\"ProveItLink\" href=\"_proofs_/greaterEqShiftAddLeft.ipynb\">greaterEqShiftAddLeft</a>:</strong> <a class=\"ProveItLink\" href=\"__pv_it/f32ed22cd744b5f567d19b368df91da22bdeeffd0/expr.ipynb\"><img src=\"data:image/png;base64,iVBORw0KGgoAAAANSUhEUgAAAUwAAAAWBAMAAABZIrhJAAAAMFBMVEX///8QEBCIiIhmZma6urrM\n",
       "zMxUVFQiIiJERETc3Nzu7u6qqqp2dnaYmJgyMjIAAAAcRTyBAAAAAXRSTlMAQObYZgAABDZJREFU\n",
       "SMfNV1+IFVUY/+6/vXfmztz1QSgUY9hN86Hg4tLWg24rQT0V1wftJfCylWGprH/6o7vBohGzLcZQ\n",
       "YBIEo/dBWbd2MKKEwItLYKstF/NBBeWiuZLVINJDrgp93/nOzL1nnGtb3KQPfnPOnPOdOb/z/Tnn\n",
       "DMB/I59LxMqxe5u0Wrxq3mHU6eViu1nqI4x46XDuaToco3b4IXxsZJyihuvtpllwGC0WIWyjb3cb\n",
       "Tb/E6V1BfMnYTxYfaTfNnyRCOap0n2CHzoYLMYvNjrZk5TbCsAQKuCTDazfNnRItaB7gIj1bkg1Z\n",
       "J4Zmeo5svkDAnB4f/7TdLLVBRiuahX4uM7asKAwCmob4ws+MP217uN00k0UGGF1LVZrayhWLsDnw\n",
       "sbaFHdktQqGrpNAsDHRj7xQIvAYwGjPTi/W/JZOOvvtBLVdjaEPwkUpztVO4gaEYflx7Srh7L1nU\n",
       "y9UVmpPX9VsAl0DgWZl4Ur5Z/splYXG54Py2D/osiFFAImHbcxxaU8F71pOowpsKTX0JpDBf82FA\n",
       "mNtFMYQYhg5PoXnchZs4HwhkIRlsrfp3PbWkAdOkVqAhR6ZWgVU1DkKMQjNNrVe469fgPdHPeIa3\n",
       "nBnf3+r7s1hLzUEWB2duBNExzBoLRZcwj+9fe8T3y1jtA/0OwHoQMGrZ4Ovnjo0DsrhAtDvRQObY\n",
       "Zy7SNL+IU2imCdrTxPNWlObD0RRKjMBkqUFzYpvsXii6Iil0BdK3Q5pafR1WKsuuQpr8TCyq1NP1\n",
       "BsYDCtKcEMvsshSFgCaNRDuf7IfMzWWu4nQyhkpzsgrHKYrZ6Z+8F3QPia4IzbvCws8DY/RVnOWt\n",
       "zBwUgFn0EJvH3G4+SK1qqofKHZkFioKkKUZSOeMmdyWLagrdxTlVmh5swSOaU2hfGCSUQp2or8bm\n",
       "H3CgFqYQfIVLSxUzg1ARLFIbdlC5Gy7pYlKr93Xa3DDyS4qCpClGUvPvkLOCDKb8I/SC/qRCE1Xe\n",
       "NnAQWU5/vxE0mHypMlTUDWkz7MHnSolObE14yTK8ZNu2lTQ+PsvR0pt517Z3g/XDE0QzgStVFCRN\n",
       "MRLg4BhFY6ost6ZBhvHjGdXp+sDSfY9ifpYiexl59fRFS3V65XHKgasSJgbUpJO74HawT/MvU4TN\n",
       "wWIos9O/npYppShImmIkTJBlOt2EN7/D8lB0C449LHlhgwzOQGf9C2CUOPSmq9qHsMscge+ZpjEB\n",
       "+10834oNhSZr0siK8F/WPdfy6jEec/VoEuXqoTfdnIKrh/TSwNFVAGO0k85UK32ZxbDuNPJA4+SH\n",
       "f9N76ms8bcUZt6HQoClGruUTelOYrDmHcd+L3LV3SNj/o6105UVOOYox9KTduViOscniRRQi++Y/\n",
       "uxbn5nctDvmPzvc3IB9nmdy//ck4P/+fDNNhxEt0kAn3pfktbgG2C/9PST24qf4Ce18+Wtftcr0A\n",
       "AAAASUVORK5CYII=\n",
       "\" style=\"display:inline;vertical-align:middle;\" /></a><br>"
      ],
      "text/plain": [
       "greaterEqShiftAddLeft: forall_{a in Reals, b in Reals, c in Reals | a >= b} ((c + a) >= (c + b))"
      ]
     },
     "execution_count": 34,
     "metadata": {},
     "output_type": "execute_result"
    }
   ],
   "source": [
    "greaterEqShiftAddLeft = Forall([a, b, c], GreaterEq(Add(c, a), Add(c, b)), domain=Reals, conditions=[GreaterEq(a, b)])"
   ]
  },
  {
   "cell_type": "code",
   "execution_count": 35,
   "metadata": {},
   "outputs": [
    {
     "data": {
      "text/html": [
       "<strong id=\"greaterShiftAddRight\"><a class=\"ProveItLink\" href=\"_proofs_/greaterShiftAddRight.ipynb\">greaterShiftAddRight</a>:</strong> <a class=\"ProveItLink\" href=\"__pv_it/77f39f9f61661575b843049a83beb3932be475630/expr.ipynb\"><img src=\"data:image/png;base64,iVBORw0KGgoAAAANSUhEUgAAAUwAAAAWBAMAAABZIrhJAAAAMFBMVEX///8QEBCIiIhmZma6urrM\n",
       "zMxUVFQiIiJERETc3Nzu7u6qqqp2dnaYmJgyMjIAAAAcRTyBAAAAAXRSTlMAQObYZgAABCRJREFU\n",
       "SMfNl1+oFFUcx7+7s39nZ3Z98MGQYlrJfAkWL12i0i700FO6vZhB4GKlZD1sZpB6H9YbyF6lGIrw\n",
       "EghjFyxut+5gRFzwYfAi0U1lMyETlEXylmajBEHdSvqdP7M7Z3a2rrFFP/juzJz9/fZ85vzO75yz\n",
       "wL9jh6Vibba3Kd+Kdy3YQm32cHHQlHpDKN4ydk/T+9D31eN8nxf6gt1fGzRm0Rbq8xLtnqar5F+J\n",
       "8/1IaIKNeGPQmF9Jde1Y+OEEh/2x22ASYskNEm2FXA2Lq+jQxR005m6pPphH+Of0zk5DlkZ+oxOH\n",
       "qS/jMuenpg4NmjJfF+qHWRzhl+RoQMYIPkMcJr4V+qXZHB00ZrIihLfm7nYimCfKVRhyGpovy29X\n",
       "kRbKD0UwjfI9wBy4ngPGY3ra0P5bmFT02Q/uci2h1B24ERnNQ26uDTP48cKCqLPXKbO3nBlbwczv\n",
       "xRvAJXA9qhbep2ueuczfRL5wYef+9UoSAgcC6bS9LS5znanmCh1p4YEI5igyLgqdCZFa4OO5lzpa\n",
       "RMlSMLMeXqD+wJVFMlha9eNDraSBeeZWZGX1wdw6WJ7xLmIcwphHRT5+CJ4TI0KPOOBlcsb3X/L9\n",
       "BbrTFtlz+mYH83uOuZy+aWPGo+Hx/e/u8v0aeDTZFiGjlQ1izs9OgSguMOwSJcA8+I5DmOaHcQ5h\n",
       "TEywVRi/RjFXQP9ZHc1EQ8EMkr6cL5sbXWU0VyCEmW9vopvJ1VeQYnlmFB77pryD5gMZYU6L+Wwp\n",
       "DgEmiwQ2P0id/7TaUZKu/47CTRVzhoem6pESoqSXWnL4AkyKZvaY1Piz1PRKehFFCIohRnOvs0ps\n",
       "pJanDbHrrvQyxUFi8khWchaSe5IVpYT035BpzyqYBAM3KKHugkQlVBrR71Qr/Q+67ZQQPqZX0yrp\n",
       "OiZ5qLZtF7uO4ZLOO7WGt7NVTmugqjhITB7J7Es7ZwUVzOqPaQxf1zwFU6thsgrNiyzvVHyZVq6i\n",
       "Yg5Dvx94GEKsvhJusoYnm82mlTTePCdmy3D61WZzDNbn9zHMBOVRcZCYPJL99mWajVpNFkZd6Gj5\n",
       "qa0jaqWfukjdFauRzZKyqq89HVnejdNn6fOKlEkjP2PnLjgZkdPC0ywVi1iJmkj6J/OypBQHickj\n",
       "Ceq6g5KTcJe2Wb4XXYKz4WOKulnWhUQB2lseh1EVU2/eyx/AHrOBkwLTmMaEQ/tbpesQGk0WifRr\n",
       "hJp1zvc/ekz1HD3CZoZPR7rTe/SQWdp6bB1wkK2kZ7zJ9emV2HSKOGhwCqPX9aH2E25+7Vmn69DF\n",
       "5JH5bWw00i96nW3IFlryQW68n688yClbMU09Oe7isobmpjA34qCum5urt3UszsUdi/vY+F+9w2zM\n",
       "Wb+3t3/6J+Obpf/JMG2heIsGmbhNzP+Raf9dV38CqO07GQnKIEkAAAAASUVORK5CYII=\n",
       "\" style=\"display:inline;vertical-align:middle;\" /></a><br>"
      ],
      "text/plain": [
       "greaterShiftAddRight: forall_{a in Reals, b in Reals, c in Reals | a > b} ((a + c) > (b + c))"
      ]
     },
     "execution_count": 35,
     "metadata": {},
     "output_type": "execute_result"
    }
   ],
   "source": [
    "greaterShiftAddRight = Forall([a, b, c], Greater(Add(a, c), Add(b, c)), domain=Reals, conditions=[Greater(a, b)])"
   ]
  },
  {
   "cell_type": "code",
   "execution_count": 36,
   "metadata": {},
   "outputs": [
    {
     "data": {
      "text/html": [
       "<strong id=\"greaterShiftAddLeft\"><a class=\"ProveItLink\" href=\"_proofs_/greaterShiftAddLeft.ipynb\">greaterShiftAddLeft</a>:</strong> <a class=\"ProveItLink\" href=\"__pv_it/a2ceac49c8c9829541a019a153c575b22892b14a0/expr.ipynb\"><img src=\"data:image/png;base64,iVBORw0KGgoAAAANSUhEUgAAAUwAAAAWBAMAAABZIrhJAAAAMFBMVEX///8QEBCIiIhmZma6urrM\n",
       "zMxUVFQiIiJERETc3Nzu7u6qqqp2dnaYmJgyMjIAAAAcRTyBAAAAAXRSTlMAQObYZgAABBNJREFU\n",
       "SMfNl0toE0EYx7+8mmSzm3ooKBZlaX0dFILFHqStigdPSryoB8FQX/gkahW1PZQWJFWURVCLIGwN\n",
       "qNRqF0VEEAwWD9Yq8XFQwRKq1vci4kGrgt88dpPZbjBKFAf++5j9Zvc33zffzCzA3ymnuFzLtfFV\n",
       "4ay7aURjypGbZ+WmlNqZ3EuFNq7qnIvZuYl42MR0h1S8LTdmVGMq0oncuKo3bnbPUReZuonH28uN\n",
       "+ZDLLpeExzcp7Id8hRIrDLTKL76hZJUqquPJKDfmPq4imD302LfTrghqLpj+MdKZCVTKYG/viXJT\n",
       "hpNMxTCjC+nJ26bzCoHAwpTpG14wfUml2sqN6Y0xgVwzXcQMN8ydjNU8xsouzllLh0JNXMCMNtdi\n",
       "mAeAaj1Al8uXluV+CeN33pvWVSjLFG6FIyLmIi36EfGsl0dGWbQPE48aoZyA2f9W+gowDFSLxcS7\n",
       "OmvtCPU473Bk54EmFVwMEMSuO8ZOA/ZQM7gysEXAlKaAD/M1Yg8I/yj1ZyuqDSoMAfOGDp/we0AV\n",
       "BK81tUrX67JeGQaJWZQ0OT/QCGpGPg0uBoWYZ1g83ln3noVMC1hM75nmDtMcxSvfGASxceCjjfma\n",
       "mlTRR9Q9pvlqqmkm8LIJpO8Aa4BKzgatNo+v9QJSPCXYlRgN5dBJHTGVC24GhZjQTWZh+OrEnORM\n",
       "IU879McLMK2gV9FHjhR6Dv5vNmY4twIv0jNegp/EmVBkyJOazTgesCBmH+1mjSoYWJikJcCq+fjx\n",
       "TzN0IejEGSJmfwZuEB8mHSnUSh85MH9QDy8Bpq51GM3dgTGIAqOoIzQz9Vq2kKoZXx05twQmCAYc\n",
       "k7YkKaeCd783JqbQD/ymiGnAdlyieQrlJyRMoUq0F8fmZ+jJ2ikEl7FrvlggCWna1LehhZw7YFii\n",
       "H1XrN5JZDkd+XDDgmLQlKfe1kGplMMk/onqQ5gmYaLJHxkYZx/SOyedLQFqckLZBJx4buCqx1mN4\n",
       "E7AylUqpXvnoIzZa6gN7U6kOUG/PIZge7KlgwDFpS/LuERyNvgRPjCSTfPeBGHSpefrxaZifccdi\n",
       "SaI69EwVg56eTXLgJZeCnu/XQk/1ChbTyGoSijGohgQL+pVBnlKCAcekLRHqvQ6VuscobbE865yC\n",
       "XRdL1rEkE8tAbc1SkONs6A1mwgdhv9IOtxim3AfdOq5vsbxBgTdJSwh0ImpQf1x069E7futRWISt\n",
       "h6QX3PCtB49S86VGgENkJr2XSTcFqmHFEHKgcyJt76W63HIjPPeBnjfIY9KW4Q3EG4GtdrKGNKaS\n",
       "N3JdxWz5Rk5YinHocb+z0ywcm6wYDgNx3lwV/61tcai0bbHN31Xqb0DEzTOhP/3JeFL6T4aiMbkX\n",
       "ZyMFfhPzPyq+f/epn20kOr8GouU5AAAAAElFTkSuQmCC\n",
       "\" style=\"display:inline;vertical-align:middle;\" /></a><br>"
      ],
      "text/plain": [
       "greaterShiftAddLeft: forall_{a in Reals, b in Reals, c in Reals | a > b} ((c + a) > (c + b))"
      ]
     },
     "execution_count": 36,
     "metadata": {},
     "output_type": "execute_result"
    }
   ],
   "source": [
    "greaterShiftAddLeft = Forall([a, b, c], Greater(Add(c, a), Add(c, b)), domain=Reals, conditions=[Greater(a, b)])"
   ]
  },
  {
   "cell_type": "code",
   "execution_count": 37,
   "metadata": {},
   "outputs": [
    {
     "data": {
      "text/html": [
       "<strong id=\"lessAddBoth\"><a class=\"ProveItLink\" href=\"_proofs_/lessAddBoth.ipynb\">lessAddBoth</a>:</strong> <a class=\"ProveItLink\" href=\"__pv_it/d55ed09d3c99a4836cb3a49928d1506c8acbd16a0/expr.ipynb\"><img src=\"data:image/png;base64,iVBORw0KGgoAAAANSUhEUgAAAZMAAAAWBAMAAAD3OGyNAAAAMFBMVEX///8QEBCIiIhmZma6urrM\n",
       "zMxUVFQiIiJERETc3Nzu7u6qqqp2dnaYmJgyMjIAAAAcRTyBAAAAAXRSTlMAQObYZgAABLJJREFU\n",
       "WMPVV12IG1UU/jbZ2SSTyaYPfagUZdy6bV8qQxfXiv2J+NAnbfpSFZSGtf5UpcRSRds+pIuWrEUJ\n",
       "Cm0RhKkBlXU1oSLtQlkHFylGu4QqtBZcgrYVXY1FEDRV8dyfycydSdztU/DAycyce7+b891z7pkz\n",
       "QM/kLamdJFkK2xL1LpOnpTbYw7c9YKIXhHaW3WHTe9AP5UNW7ZA1QLyZfsGef+oBlcGS0M7yYdj0\n",
       "I823wuZ0VadwMD3OQlfoAZWvpHpy0ndvmN79TJb9pizmtpuA3vA2G5/ShXTQJly1B1RelNqZir6s\n",
       "fXvhLn6JlbjbISpngRPgmqpNTh7rAZNEXmgXKrjs3qypiesx4XaIyvcUjozQP4rFgz2gErGE4o3Z\n",
       "W22VijE0DMzK6Jx1nV5FenXobpVKYuPwdQJYQh8DJjr81f2Nxd3Zkg0YMoHn/mZXTLwutP8m/KpG\n",
       "JXEArwHzgsmd7Qr8Kj39Y1dKCpV7SvEWZVZD6L389Lfl1NpHv+NbI4tFcu/hzaZS8j1DRYUAavno\n",
       "t929FXLah0GsKvREHRtUKjEHT9Oi/H6Pd4oP0F+3kDb9VPSbESXnk3mhMURc5vqZkXrEQI3NG2SL\n",
       "vD+7CaZjvN1eTzXMqJAAFe0wsOB7njElhktfRugWG3vZ81yz+WyzeRXcQrKTO+SjshzM7YpDu9xs\n",
       "/nBLs5kjQ4sRh3ZNqFGPubMvTk+C/LrEqKUpkqkjb9rkeeoDd0LAMKtCVCqJJ2mFP73n+bqLUais\n",
       "gP67GpUVaFNBwkuw5fy1sq3qj0pfAZWMRyXR2EHG8uor6Gc5xfxy2FJDT1HukZDnU+IwmqqhPLSg\n",
       "QlwqbC3oG+hQaL+ttiX09rqLURJM/wvJawoVsjDZGjz2lGDpugyZS4Vi9AnL5LxQTOwixHNaC4MQ\n",
       "fo0w/9bYq0RTYzrREXbdpy1TDGGIpMIH9DlWAiL7eZEi6NZqe0g59vp1DDSmlaj8TZ66x95XjOnY\n",
       "pzN0OBQqVeyhds099viI+EQtLY8y9yv6+D52Hce8zv0zR59gXkULyKoGi7gpEEmFr7WdByFusn9g\n",
       "0KmX4GJkxZUFdBwXco5CZRT6HcDG4CuSMnOgHrcUKrT+8wYt6wjlRaGvGsnhgWKxaEaM178WqTmq\n",
       "vVAsjsP8fB3zvI+2NWAIQiQVPmBcFgcimhNQTB1xh2R5k0nxztBDYxmFinHuPP1eCTYulHH6+nPq\n",
       "K1IfGz56G52hrFCkKP0qpfgle0BkS/Jhlo8trERO5NPHNVkGFEMYIqnwAZRfZiCb0eBQRBbcoSU1\n",
       "LqEeOOZvPZPK++FdqaIUlHbeByMrEr/mJF7B/lQBnwnPjSkct6kxsBQDQR7xQXxRYWsBR+nFG7Mv\n",
       "ulDasl/AMV3bycku7aSsnv6uWLf9Q7KdlOEeO7kJYDlwas4pb9ZWYseXlIq0pcmDP+sjje3VxPrz\n",
       "tmIIQDwqYoB67t3QnnEgoWwrbXeI53lJ6JKb/ImuXz6yyVf6Ikp8GUBxWUtHQ0i1i8GDhN/2D5b8\n",
       "M2/s02ui06dXF/nvTZle7AM12RFaWOK37aIfxKkb+SD+RmpnCaJSWMzQlYqYeZpKXdHG/0esXv75\n",
       "v38GlTXuct8mAAAAAElFTkSuQmCC\n",
       "\" style=\"display:inline;vertical-align:middle;\" /></a><br>"
      ],
      "text/plain": [
       "lessAddBoth: forall_{a in Reals, b in Reals, c in Reals, d in Reals | a < b, c <= d} ((a + c) < (b + d))"
      ]
     },
     "execution_count": 37,
     "metadata": {},
     "output_type": "execute_result"
    }
   ],
   "source": [
    "lessAddBoth = Forall([a, b, c, d], Less(Add(a, c), Add(b, d)), domain=Reals, conditions=[Less(a, b), LessEq(c, d)])"
   ]
  },
  {
   "cell_type": "code",
   "execution_count": 38,
   "metadata": {},
   "outputs": [
    {
     "data": {
      "text/html": [
       "<strong id=\"lessAddRight\"><a class=\"ProveItLink\" href=\"_proofs_/lessAddRight.ipynb\">lessAddRight</a>:</strong> <a class=\"ProveItLink\" href=\"__pv_it/06eeb698ece2cdd02ebcfbfb11400d2d882776a10/expr.ipynb\"><img src=\"data:image/png;base64,iVBORw0KGgoAAAANSUhEUgAAATsAAAAWBAMAAABNtyaoAAAAMFBMVEX///8QEBCIiIhmZma6urrM\n",
       "zMxUVFQiIiJERETc3Nzu7u6qqqp2dnaYmJgyMjIAAAAcRTyBAAAAAXRSTlMAQObYZgAABBpJREFU\n",
       "SMfFVl2IG1UU/pLs5Gcyk/jQB0tRxiy0BVFCA7UirQHBgqCNL62CsKFqFR/KUlqwug9x0ZJYCkHB\n",
       "FkGYGrCyRjYo2i5ICbtIMa4lWKFabAniD1W79kHBriKec89NMjM7i4sQvXAyuWfOd+835+9e4D8a\n",
       "b4SrU91w/ZyWHk8uj5ydWQnXvw3zhckQfbwu8ilPfhw5vUw9XH+VXuXDPqcncoI9XBk5vQtBxdkS\n",
       "/9pELdvSqrTjeT8vknEBqzVyeocD84t3q0eCnLrLDaN3UsTuzMwcHzm7VCC/NnXkyTufQxi9TFHk\n",
       "92p1auT0opxfry7cJo4yz/WJjJN8n7snQG8+V4JFCJYngVrIgg/1/nHPsXBMdL69wjRJ/WNsPX4R\n",
       "dncNuskxmv3lztZ99I63kj3YtBbLfapCBuP05se/4ael6yl94MgOr9M9iqSfwgMa8zU+VPMznncJ\n",
       "yu6TXWxTk/3DVH+e1ltG1vHRm0K8hTSlA0sC0f7HmB8VulELHTbL8BrvLGyH07behMdgqPDTe6Qs\n",
       "GBxElmN41vtREcqie10cUIt46K0DYj3MkrutpaUfbl1aKpNimd8Y10WsbqJv/OXcDIjeJaabJYfb\n",
       "R193iY39rtdgqPDRe60mGJi/IUL7X/EdB0zvZn6l6mQY3HWq7e1qeb0XqXjppXq7adbY+B3GODZM\n",
       "j3NnIvcMxR2KTVNFO+cog4FC0zO37KcW1nhJY2DcQKKLO7saMwiu+SfS1xEoDQputst+9dCbVak7\n",
       "NimC2hMEOGQsIwOhV2AWm9xxOfCcdqygYmbcpAwGCk3vVGnCRfNbaAxooYSzU/xBmEFpmH8g3psL\n",
       "NBYqjWzRvMVXucQXrUFp4H3iGMsbk2goerF9B/k5jSumOGvrUxQZxCooNeBR9OkVsAeGbEAY5b2I\n",
       "03wRGiM7c9FM42K5HWjLC3SydpN5H71YGY0SYmTKouom0oqWsadarTpR65UvJCu2Gs9Wq9NwPrmD\n",
       "2XA+KYO+ok9vAzYC54sao3IvW0TzqMboHkQueCv36N5i4FDbycnxWaAtL16mP5mSCGyK/Gw9ecmN\n",
       "S3DTj3EqLNO+ZYnlBx1dKnF4FJqeeQPHZmBuK2lMv3KjP+lSCT/U+g3He1PwnRqntEi11CcehFWS\n",
       "3Ou0Uy/jObuCj4WN1cQJlw6YvDIQxdB7641fKVlST9NGhCHkuPQ9+xofSvnVrgQybO9txXRXXgm0\n",
       "8/e+tx3ggJw+327sMDZg9yLtT8FJT/1sFnoPt1JbPneVgSiG9O6/fZyrNHWkzhhCRhdlz7SrMLo2\n",
       "VrlQ1Va7H+oLle9k5NSSpeWxmXJPRitgsLItGzUvcu3X0fDBn7PaJ8k92neShVkm14L8l5f5r7SE\n",
       "jyDIxlrpCfIM1XjVxf86YqPf4m+DTy9Z6DefZQAAAABJRU5ErkJggg==\n",
       "\" style=\"display:inline;vertical-align:middle;\" /></a><br>"
      ],
      "text/plain": [
       "lessAddRight: forall_{a in Reals, b in Reals, c in Reals | a < b, 0 <= c} (a < (b + c))"
      ]
     },
     "execution_count": 38,
     "metadata": {},
     "output_type": "execute_result"
    }
   ],
   "source": [
    "lessAddRight = Forall([a, b, c], Less(a, Add(b, c)), domain=Reals, conditions=[Less(a, b), LessEq(zero, c)])"
   ]
  },
  {
   "cell_type": "code",
   "execution_count": 39,
   "metadata": {},
   "outputs": [
    {
     "data": {
      "text/html": [
       "<strong id=\"lessAddLeft\"><a class=\"ProveItLink\" href=\"_proofs_/lessAddLeft.ipynb\">lessAddLeft</a>:</strong> <a class=\"ProveItLink\" href=\"__pv_it/5f87c79335324f65aab8aec06b239a061f961ba10/expr.ipynb\"><img src=\"data:image/png;base64,iVBORw0KGgoAAAANSUhEUgAAATsAAAAWBAMAAABNtyaoAAAAMFBMVEX///8QEBCIiIhmZma6urrM\n",
       "zMxUVFQiIiJERETc3Nzu7u6qqqp2dnaYmJgyMjIAAAAcRTyBAAAAAXRSTlMAQObYZgAABAJJREFU\n",
       "SMfFVl1oFFcU/nZmZ39m/3zwoUGE7QZUWpQlCxIo2oWCD4XW9SVpQciitZU+SIwRahthG2jYKIWl\n",
       "ARVBGF1QWFMyWFqJ9GGJFDWNMtRCq6gsEn1oNfWhhWZbSu+5987MzjpL4sO2F87ee785Z8835+fO\n",
       "Bf6jcUaK75jtiDZocb/r7PSSEP8RqrSrfzos0O9p90vX6SUrQjqQbzynnxXoKbaOlrpO77YUd1xq\n",
       "3cy5y9gj+k2ZAk0aQNzsOr0jUjrQO+usEod4jHcaAk3M12onu84uOiykE71kXi6UMYPP12z0z3J5\n",
       "rOv0lKwQTF192WijN5cpIJ4V6+kRCT7OvAaO7gMmff7w7caKPoMr2ShzdbmKWEKCPfitLXonzUgD\n",
       "CWFZPWr3yj/GTIWjb3j75vKmvQ9ptt8nNjKxPd3q0wUiXjJvOjZCr4R7+EZuwqaQsxb62+iNIWQi\n",
       "xhMf+tUxbiKV5mgYimVz/jZnKXHMk/cktcvFq9uQrsfPoUXBBbz03ikKG9sBe8lRpGQmA3khrxvg\n",
       "6bu1tHRwaekxW6lN2mvP6Pe8Q09tYKbO0bgVtsGfZ2tg9O4S3RRroMTx0wZjk/iyVcEFPPROTAob\n",
       "uwGfspf5AwHTS+8lAj3RC5Rcepg66h57O02ORhsDlPUNjxCk3BA9qpihzIcs7+Bspnm2M2mu4ACS\n",
       "nt53oMDsP5M2vNahPCWfywhbnuTqfyP2zEtvhpdncNjbGimLAs3RyfeYj8NaE0kIejlisdHoFR+8\n",
       "dF3N0TyqreEKDiDpXSgMGZhehLRhNPK7gp/wkDQRTntaQ/8Locashx4jAtNuDedgSeX19RDoV4yj\n",
       "mtWGUeXP1fdHaR7HA10Ea+sHdCipJRSqaAFsejkMQlsPacN++6Hp1/MiegFJj5qGZBw/FeseemoR\n",
       "1QLUuvdYDlkRps1R1iKsRpQiBsvlclqJf/Ejqa3FVu2jcnkc6RubyRdVEVewAZveOmxgpZ6XNhxg\n",
       "2bhu8tpLyeOW0kRyPvPunry3cxfuM//JgvejpvfdhEQTLJwzlchdIySSG9tN8W0yN0WRy6/nZauE\n",
       "0AJIevoyPq9B7y9IG2CZP9xitnbuSh+1C74Hq4MGKkNvIV4QtTdfjx7Dx4kSvhNs4tM4ZbAPTJYr\n",
       "CMCNXo/2Oyuf6H5Gn9kwy0WohD+w0Oucez5XglqHK4EfGtxzaRtwnI7lW/Xqdm0dBhaYfxaB2NgT\n",
       "PdfYZUb7fjC4ggBcejte7aX2jE5UyIZZTm1+hT+4AmXBOacjFSGrvVD5oQqVligAMW1itSeG2abw\n",
       "/LGsTbZavth11J9459dpv13H/DQjq7+Xr3CZv/MCKA2rbZ/Aaulxyxhr8fIx/L9D7b6LfwEmNjZh\n",
       "EraLWgAAAABJRU5ErkJggg==\n",
       "\" style=\"display:inline;vertical-align:middle;\" /></a><br>"
      ],
      "text/plain": [
       "lessAddLeft: forall_{a in Reals, b in Reals, c in Reals | a < b, c <= 0} ((a + c) < b)"
      ]
     },
     "execution_count": 39,
     "metadata": {},
     "output_type": "execute_result"
    }
   ],
   "source": [
    "lessAddLeft = Forall([a, b, c], Less(Add(a, c), b), domain=Reals, conditions=[Less(a, b), LessEq(c, zero)])"
   ]
  },
  {
   "cell_type": "code",
   "execution_count": 40,
   "metadata": {},
   "outputs": [
    {
     "data": {
      "text/html": [
       "<strong id=\"lessEqAddBoth\"><a class=\"ProveItLink\" href=\"_proofs_/lessEqAddBoth.ipynb\">lessEqAddBoth</a>:</strong> <a class=\"ProveItLink\" href=\"__pv_it/405d04274970fa692f3d25f44c0d0ea5c389ccb20/expr.ipynb\"><img src=\"data:image/png;base64,iVBORw0KGgoAAAANSUhEUgAAAZMAAAAWBAMAAAD3OGyNAAAAMFBMVEX///8QEBCIiIhmZma6urrM\n",
       "zMxUVFQiIiJERETc3Nzu7u6qqqp2dnaYmJgyMjIAAAAcRTyBAAAAAXRSTlMAQObYZgAABLNJREFU\n",
       "WMPVV12IG1UUPptsNslksumDD5WijKnbFkEZunRV7E/Ehz5p40tVUBpWq/hDiaX+tX1IF5FZiyUo\n",
       "tEUQpi6orKsJFWkXyjq4SDHaEqrQWnAJaltqNRZB0FTFc+6583Nnkm77FDxwMrnn3u/O+e455869\n",
       "AH2Td6R2k0w1aks3ewyeldqixvd9YKJVWLvL01HTB6DtKUesiT3mEPIm/YraP/eBynCVtbt8HPi/\n",
       "sigeF3G8GR2Zq2sYDtKDFLpKH6h8I9WXw4H/uuFF7zj/zZrktpuAXjdssuFzfKAO24ir94HKK1K7\n",
       "U9GWuBVypyyRZFW4HaFyHOAQCM02pqcP9IFJuszagwr8JIdtc5f5ALsdofIjhqPA+qdl7e4DlZjJ\n",
       "Cm/N32KrVPT8CMA8F/W+ggtYjno+f49KJb125AoCTNatAJNdXvVAa3F3NhRDhkKoPdjuiUk1WQdv\n",
       "hN/UqKR3wT6ABfHf8t/wBmbdv3atqlC5t5rqYGa1WO8T1e/JkVWP/yCWRm4Wme2vrTeULd831FQI\n",
       "gLp9HHXX1m97GEjWWQ814S6VStKBZ3FS3rxu89C78NUdyBlBKtpNEEfnM2XWJMTcb492bLQZ06FB\n",
       "44YpRz+cXweGo7/rzaca5lRIiMoc2i6F2gIjZKDAusGG7dQ+2W4/326fB2FB2cLDTjdc+A1Abtcc\n",
       "XOV2+8LN7XYJDR0iDonLrHoz6Y4+MzsN6NdZopbDSGb3vm2j59mP3AEhw7wKUakskOmvUNuPk0tl\n",
       "KWh/qFFZCgEqMHe3TwU/K5vqwagMVKBW8KmkW5vROLXiHAxSTpFfDk2VfwZzDwU9n+FiNFTDVP6S\n",
       "CnGp0FxwB3me+H2FLaGiLTBKgml/Q+ayQgUtJBu9ot3qJViuKUPmUsEYfUYlWWaFyScQ/0KiA8PA\n",
       "fo2Sfyvt5XyoMZz4KD13JJYohihEUhEdG8XqxXaKTQqh3BZdStlrV2CoNatE5R/01C17kodfdcs+\n",
       "V8DiUKjUYRse19yyh0+QT9xMlGFKvD3+5A56TsCCJvwzxp6ijSlegaJqMJGbApFUxFwz4v0pg95A\n",
       "UG4LjNxx5QY6AadLjkJlDLQ1AGv91NxflJk51EyZChWc/0Udp3VYxaYwUI+V4CHLsoyY/ua3nJpj\n",
       "iZctawKML28nzwdwWUOGMERSER0ws1cURLzEUNkWXbxPy6R4L//IeEGhop84hb/nwrs4Zpy2+oT6\n",
       "idTGR/bfijVUZIUspl+tmjprD3G2ZB6lfOzAMihxPn3akNuAYohCJBXRgVasipxNNARUtGXXtRxc\n",
       "ImfgZPDomVG+D+9L5a2guuV+0Iuc+A0n/TrszFbgC/Zcn4GDNh4MTMWAkMcCkEBUaC5aol8haZ9x\n",
       "oaItMD2Pk9Ndj5Pe7hk8FWt2sEseJ2W4xw+vA6AcOHLSmVqfWAabv8ZUxCXN7P5FG209WE+vPmUr\n",
       "hhDEp8IdtHR24jkHJFS0vS7K8yrr1Q752oWXSPiTP9nz5iMP+cq5CBNfBpAfq7A0WOo9DD4k+rVX\n",
       "R17f1Wuy29Wrh1x9UWYXu6BmukIr13i3XfRCnL2eC/F3UrtLGJWFxQwhKkdxa7Nsf6Tf/p+I2c+X\n",
       "/wfjdZqZkuEh6QAAAABJRU5ErkJggg==\n",
       "\" style=\"display:inline;vertical-align:middle;\" /></a><br>"
      ],
      "text/plain": [
       "lessEqAddBoth: forall_{a in Reals, b in Reals, c in Reals, d in Reals | a <= b, c <= d} ((a + c) <= (b + d))"
      ]
     },
     "execution_count": 40,
     "metadata": {},
     "output_type": "execute_result"
    }
   ],
   "source": [
    "lessEqAddBoth = Forall([a, b, c, d], LessEq(Add(a, c), Add(b, d)), domain=Reals, conditions=[LessEq(a, b), LessEq(c, d)])"
   ]
  },
  {
   "cell_type": "code",
   "execution_count": 41,
   "metadata": {},
   "outputs": [
    {
     "data": {
      "text/html": [
       "<strong id=\"lessEqAddRight\"><a class=\"ProveItLink\" href=\"_proofs_/lessEqAddRight.ipynb\">lessEqAddRight</a>:</strong> <a class=\"ProveItLink\" href=\"__pv_it/441f0744af8dc24c086f96c61dc4536957492de20/expr.ipynb\"><img src=\"data:image/png;base64,iVBORw0KGgoAAAANSUhEUgAAATsAAAAWBAMAAABNtyaoAAAAMFBMVEX///8QEBCIiIhmZma6urrM\n",
       "zMxUVFQiIiJERETc3Nzu7u6qqqp2dnaYmJgyMjIAAAAcRTyBAAAAAXRSTlMAQObYZgAABClJREFU\n",
       "SMfFVluIG1UY/jK5zyXxwYeWooxZaIvFsjTQKtIaEOyTdnxpFYQN1Sr4UJZS8dJ9iIvIbEslKNgi\n",
       "CFMDVtaVHRRtV6SEXaRt3EpQoVpsCQUt3tY+KNhVxP8/58xkJjvVIkQP/EzON/8358t/OecA/9F4\n",
       "PRkudpPxOWU9nlwcujq9kYy/Bf358QQ815T2CU++H7q8UnMAWOeIx3f0ajTp7/SkHeUIN4Yu7/OB\n",
       "1U/b4mmRtLKvQMOOeMxLK3mA6Q9d3rPxituiSi5PQd3hJck7Js3qTE8fGbq6Yqy+inuDePDKp5Ek\n",
       "r1ST9pvrTgxdnsb19crCbSJQ2ZdqAT5C9m3l7gF58xUHJjHY9gBTCR98oPePa2aSOdp8e4VrgZKZ\n",
       "WY2fxcR1QvwwleGf3mwzJu+IX+jBom+x3Ss6JBwn1j96mZ+m6idj34vbokGPAIWYAqOhOF/jAwGc\n",
       "jLzMUzaPdXGnbNrbQ/wA8ZZRtmPyJpDzYVA5sOWhBVuj/lG1q5nosFuJy+Ptha2w2+YbiDj0gZg8\n",
       "47LiYD/KnMNT0T+VonTe42GfnJ3vBPjNQLqHWQq3ubR05dalpToBy6ICrkozu/nA+cu5aZC8Cyy3\n",
       "TAG3Dr3mkRrrnahDH4jKs35SHOi/IkUyL8WOA5a3il/Jcequvjza9nb40eilGlF5xd5OmrXWfoMM\n",
       "54blce2MVZ6kvEOomRHZrtjCIQSUPH3TXgcaqxMcZK8h38XGruKEydX/gHE1rNI9YXLLXY5rRN6s\n",
       "KN3MuDRMPUZrPJVdRglSXpVVrPNG5IFnt9NVkbPsTcIhBJS8486Ylzkgi4o4oA/l7e0yHsQJW0P/\n",
       "HbneXKDvoReC1ijX9FtinUt64YetgfdIY3o0O46WkJd+fD8/J3FJl8Ha/ATvA+kGnBYiQCCvil3Q\n",
       "z9QUR0QvZc+I1ZkjV+ammcT5er+nXxVvFuhk7RZGY/LSdbQcpMmVTfRNytfq2OW6rq2ZL38hq2Jz\n",
       "9hnXnYR99g5em+tJOARAIG8N1lL0z/iSI2qvXMPMIcVRexCF4M3Kw7trAxvOdi6OcwPb8uJF+lFy\n",
       "pMGizM82Cxe8nEyu8QiXwjKtW5e5fL+jyj6HCKDk6ddwmPoFG33JCTpX+0G1StKh1t9wojeF2Klx\n",
       "XJnslubY/TAdWXuddvEgnrMa+FiqMWdw1KMDZlQ4SKAfvdXZX0QbUKsSh5gjct+jXmZO8pUgbPjo\n",
       "bUX3Vl4JVPB3v7sV4ISc+LTd2pZdg52LtD5FxJj4Ua/2HvSLmz7zhIME+vLu2zAi95APmUNMbVGu\n",
       "aXiCo3qjHyb9ytM8ZFVOXe9+qC5UsZORS0t+Wj7WU+3J4Q84rDw1EGPe+HU0efDfKTSvd5zODS6a\n",
       "5Fm4Eea/vMx/pSx5DJIs/K08g1raPRhhnmTAw/860sNf4i/TwzRUrtf8lwAAAABJRU5ErkJggg==\n",
       "\" style=\"display:inline;vertical-align:middle;\" /></a><br>"
      ],
      "text/plain": [
       "lessEqAddRight: forall_{a in Reals, b in Reals, c in Reals | a <= b, 0 <= c} (a <= (b + c))"
      ]
     },
     "execution_count": 41,
     "metadata": {},
     "output_type": "execute_result"
    }
   ],
   "source": [
    "lessEqAddRight = Forall([a, b, c], LessEq(a, Add(b, c)), domain=Reals, conditions=[LessEq(a, b), LessEq(zero, c)])"
   ]
  },
  {
   "cell_type": "code",
   "execution_count": 42,
   "metadata": {},
   "outputs": [
    {
     "data": {
      "text/html": [
       "<strong id=\"lessEqAddLeft\"><a class=\"ProveItLink\" href=\"_proofs_/lessEqAddLeft.ipynb\">lessEqAddLeft</a>:</strong> <a class=\"ProveItLink\" href=\"__pv_it/8906ba5e6bc2782c77b20924207fcad7043567b50/expr.ipynb\"><img src=\"data:image/png;base64,iVBORw0KGgoAAAANSUhEUgAAATsAAAAWBAMAAABNtyaoAAAAMFBMVEX///8QEBCIiIhmZma6urrM\n",
       "zMxUVFQiIiJERETc3Nzu7u6qqqp2dnaYmJgyMjIAAAAcRTyBAAAAAXRSTlMAQObYZgAABABJREFU\n",
       "SMfFVl1oHFUU/nZmZ39mdnZ98MFShHUDtSiVJQulIK0Lgm/a7UurICRUq+CDxJDgX4Q1oExbhMWA\n",
       "LYIwdcFCjGaoqER8WFLEGmMZVFCLLUutefAn9kHBRBHvuefOzsw629iH1Qsn954v58z59t5zzr3A\n",
       "fzReU5I4lgaiXVpcHDo7s8mSPDKtfvPnJxj9lLQfhk6v2GIZQL4brrVpaV9l9KRY55tDp/eFknCc\n",
       "iSrLvdXCpJxKHqNFFyh4Q6f3tJIB9E4Fi7nneN7vMmqvzM+fGDq7/ATLIHrFOs+v/KiAjwP0d8eZ\n",
       "GTo9rcqCubO3uH30lisNFKpyef+VAFyr3AmJHgGOJnzwvu6WMdNb+WjLHbXK+Szpbfilb/dOeLku\n",
       "bOmZe6FXK3+5iy2J3h2rG7y/86HLNKvfA2vyxX3laMwQyMW4WM2eT6B/i/eUkvVYTvnY00dvBhkP\n",
       "ljx4bdINnDdRKks0C80POH9Y87UCVih6kcrlzbN7Ue4UXkfEIARi9KzLyieiT6Gk4qXqLHe5kJV5\n",
       "fn39ifX1NbHSN0k3rkoze0bZ610sdiRa8LPBJ79emoegd4HolkSTso+/6go29ltRgxCI0rN/Vj4R\n",
       "3fwNKS9O7yYCY7uXakbowfqOPyHa3n5PovnuQaG3d3yPNJ0N0aOMGas8Js4dks2CPO1KWRr0AEXP\n",
       "HH28AY3YSR+Z66wbG8j6scM1/4R1NU5vUaZnOqjq9FpDtj2fNlqiRx8WMaaNTRTB9GrE4lZ3hC+8\n",
       "ckev0Txl3CANeoCid7ox5qaflUvyETTqB1gXn8yWY6Vh/oFMdylGTxCBp0pDOjnUY0p182Yw+o7g\n",
       "qFeNCbQlPf2RKZpnccnkzdr9KDnoTTTaiAABvRoOwTxXVz7i7x4YrIvdSyl6VDQks/hqvBOjp4+j\n",
       "3YDeCVvkEbqE/ZywlqgoEZEj2jgOOY5T1govf0lWN2K38ZTjzKL8yS6KRVkkDQIgoLcdO8Tun/PY\n",
       "RwJKF2lWUu2WjonkjcoDh+vxyl29KOIXG32X8OhnUKgtqmWxlbvgZvhwrQepfDZFmHE+y3dXVNpn\n",
       "EAEUPXMDL4l6wR0e+wAb8p+kh5W71aV2OrGx9tBUa+xeFBqceyud/DE8YzfxEbMpLOCkKy6YqjRg\n",
       "INy9bcavMv8v+eQjPK9AV/pIr+8lPAnmk58EiWj68Jm9wHFqy+c77X3GdhxcFfHFDlgzP5m17gEv\n",
       "P/q5Kw0YCOndc/sIl+cH5CM853bdpnRttdency2Waz6o3n6SxnTSM0seLKUW9x+edorc4+H1Gfzz\n",
       "1kDM8/qeo8nEB/+c/te1lWSZ+/fv8i0e899cB0rD79NtXJOeJUraORZ6RvT/b+jDD/E32bY78hv6\n",
       "GywAAAAASUVORK5CYII=\n",
       "\" style=\"display:inline;vertical-align:middle;\" /></a><br>"
      ],
      "text/plain": [
       "lessEqAddLeft: forall_{a in Reals, b in Reals, c in Reals | a <= b, c <= 0} ((a + c) <= b)"
      ]
     },
     "execution_count": 42,
     "metadata": {},
     "output_type": "execute_result"
    }
   ],
   "source": [
    "lessEqAddLeft = Forall([a, b, c], LessEq(Add(a, c), b), domain=Reals, conditions=[LessEq(a, b), LessEq(c, zero)])"
   ]
  },
  {
   "cell_type": "code",
   "execution_count": 43,
   "metadata": {},
   "outputs": [
    {
     "data": {
      "text/html": [
       "<strong id=\"greaterAddBoth\"><a class=\"ProveItLink\" href=\"_proofs_/greaterAddBoth.ipynb\">greaterAddBoth</a>:</strong> <a class=\"ProveItLink\" href=\"__pv_it/bbd1bf65e30945e8449bca953c5e0044d67d199c0/expr.ipynb\"><img src=\"data:image/png;base64,iVBORw0KGgoAAAANSUhEUgAAAZMAAAAWBAMAAAD3OGyNAAAAMFBMVEX///8QEBCIiIhmZma6urrM\n",
       "zMxUVFQiIiJERETc3Nzu7u6qqqp2dnaYmJgyMjIAAAAcRTyBAAAAAXRSTlMAQObYZgAABLlJREFU\n",
       "WMPVV12IG1UU/jbZbJLJzKYPfagUZUzd2hdh6OJStD8RQZ+08cFawdKwasUfJNYq2u5DuhbJuihB\n",
       "0S6CMG2gyrqaoSK6UHRwEXW1S6yCtWAJ1a4/bWMRBE1VPPdnMnMzibv6Ejxw9m7One/O+e75uXeA\n",
       "nskrUjtJqhy2JWtdHp6VWmc/vukBE60otLPcHza9Bm1/IWSN7bcGiDfTT9nvn3pAZbAstLO8GTb9\n",
       "SM9bYXPa0SgcTKdY6Io9oPKFVF+OBv7XTR65C77FsJjbXgKaLftWGx/QQDpoE87pAZUnpXamoq3g\n",
       "w8zuliVe5m6HqHwEHAJXY356+mAPmCQLQrtQwXdiiIx53h8UboeofEvhyAr9rVQa6wGViCUUL8xd\n",
       "aatU9MwQMOfl1aNydg3pYuZ6lUpy49AlAlhC7wUmOrzq1vrS7mzJtRmybb/7G10xiZrQ/svwsxqV\n",
       "5D48B5xuBWBR9IZnKev+sqtlhcoN5UST6NaF3sirvyXvrLv7DN8a2SxSu5/ebCot3zdUVQjgt48X\n",
       "xeDtLW7yelXVS31H6KEaNqhU4i4epEX9/VjkcdlHr24ibQapaJcjSs6nCkLjiHhnj3ZsuBbRMc+e\n",
       "G2St4PW5TTBd/XBrWdXwngoJUjkiIn2uVRojuRaGS19W6BYbvLQXGo1HGo1FcAvJTp/KD9ywEszt\n",
       "qku73Gh8f0WjkSdDkxFH7KJQvRb3QCdnp0F+nWLU0rSNxuTLNnluvNFqiKphToUEqWCKH3K/+2W+\n",
       "IafEyaOyCtqvalRWQaHiJdhKfqxsdYJR6SuimvWpJOvbyFhZexb9LKeYXy5bKvMA5R4JeT4jitFU\n",
       "DZXMORXiUWFrAduvo/V/WWtLKLSPswKjJJj2B1IXFSpkYXJze9lTgqVrMmQeFYrR+yxuBaGYuIfw\n",
       "j8WaGITwa5j5d7W9RlxqTDc6zMY9sRWKIQyRVPgEaxwmInt5k2JQsi/Y3pRf9tolDNRnlaj8SZ62\n",
       "yt5vxlT26SwVh0LFwcN0XfPKHm8Rn6gVK6DCsdFde9g4jtMa988cuY81pmgROdVgkYMKRFLhazH5\n",
       "vJww2RsYlD12QWBkx5UNdBxf5V2Fygi0a4GN7UckZeZALWEpVGj9x3V6gSuUN4U+J5LHHaVSyYzo\n",
       "z38pUnMk9kSpNA7zk2uY532UEG2GdoikwifY685QMUTzAgocnvSnAklxJHPnaFahoh8/QX/Ptl9c\n",
       "KOO09cfVI1IbHXrpKqqhnFAYFMJqOXHKHhDZkrqLxbSJ1ciLfHp7XrYBxRCGSCp8gvw8byNtMxoc\n",
       "OnPAn1rOxSV0B44Hr54p5Xx4VapoBeWdt0DPicSfd5PPYK9RxIfCc30GUzZdDCzFQJAdAUggKmwt\n",
       "xJ4in+P2SQmtHJBTO7pfJ6dD18mgGMFbsWYHp+R1UoZ79OgmYJKddwtuZXNsNbZ9RqlIW5oaO68N\n",
       "129zkutP2IqhDeJT4RPJXWwTYw+5ENDbA6+RdV8WuuxL/kTXLx95yVfuRZT4MoBiWEelIcTpYvAh\n",
       "6rmy3b/TOP/l02ui06dXF/nnTZld6gM11RFaXOa37ZIfxMa/+SD+WmpnaUcZWMrQlYp48l1qdSUb\n",
       "/x+xevnyvwFwQJb5bs7ZUwAAAABJRU5ErkJggg==\n",
       "\" style=\"display:inline;vertical-align:middle;\" /></a><br>"
      ],
      "text/plain": [
       "greaterAddBoth: forall_{a in Reals, b in Reals, c in Reals, d in Reals | a > b, c >= d} ((a + c) > (b + d))"
      ]
     },
     "execution_count": 43,
     "metadata": {},
     "output_type": "execute_result"
    }
   ],
   "source": [
    "greaterAddBoth = Forall([a, b, c, d], Greater(Add(a, c), Add(b, d)), domain=Reals, conditions=[Greater(a, b), GreaterEq(c, d)])"
   ]
  },
  {
   "cell_type": "code",
   "execution_count": 44,
   "metadata": {},
   "outputs": [
    {
     "data": {
      "text/html": [
       "<strong id=\"greaterAddLeft\"><a class=\"ProveItLink\" href=\"_proofs_/greaterAddLeft.ipynb\">greaterAddLeft</a>:</strong> <a class=\"ProveItLink\" href=\"__pv_it/383cb5d89e32c86f786dfd9c482a77ec8969da8e0/expr.ipynb\"><img src=\"data:image/png;base64,iVBORw0KGgoAAAANSUhEUgAAATsAAAAWBAMAAABNtyaoAAAAMFBMVEX///8QEBCIiIhmZma6urrM\n",
       "zMxUVFQiIiJERETc3Nzu7u6qqqp2dnaYmJgyMjIAAAAcRTyBAAAAAXRSTlMAQObYZgAABARJREFU\n",
       "SMfFVl2IG1UU/pLJ5Gfy54MPLkUYs9AuSkvYQFmU1oDgm2360ioIu1TrTx9kLRVU9iGutqRbhOCC\n",
       "LYIwNWAhru5QUVkQCVukGrdlUKG1WAlF+1Bk7YOCu4p4zj3zk0kTdhWiF87cuV/Oyfnmnp97gf9o\n",
       "vO1K37E0EO3wy7WhszOqIv1HvN6r/sq0oF/x6ubQ6eXqIgPId27TLwp6mt5T1aHT+8aVYJzrXiyr\n",
       "5weOD+RtQXMWkLGHTu8lVwbQOyObeMH0gL2WoNl2s3lq6OxS0yKD6OXKMm9ru8AFD/29VpsZOr1o\n",
       "UQTz5++xeugtFyrIFN3F5ftlvlF4AAo9BJzo84d7Ohv6jG1kE11uuW9JRyQ2gl96du+Unewg61t+\n",
       "9qwK81/WYl2hD4Xr5pOxJ67z7H1P+sjx3Wa3zwBIBrGroNsGMeUD3+NjF0jYImccTPTQm0HcRjoI\n",
       "/J7D7GQdeVOhCUS9gjE+LTnRDNrsPcfl8t75XTBbmXfQpRAAAT3jGdUzcn6JzR/i51Hk3UhGyiIP\n",
       "WjjC60urq8+vrt6gN22d1/qtgN4cox0sthSacRLeL1eWmiB6V5lunhxmT75lEZvs+90KAZDsSv3j\n",
       "ddfG43eMSP+GiB2mdxeDod2LVMP0JLjU9vbaCk119tO6sfUnxDg2TI8zZrJwmOIOxWZBRa5gKgUf\n",
       "cOkZ489RaPVXLbFRuU6PhdegryHhhIJr/In0rTC9RZWeselwaeQd3miFnniSfLygryMHoVdiFtus\n",
       "UTnwzJZWUpHS71AKPuDSO1uZ5AjGrosN0SjvY3zhJv1lwgyVhvEH4p2lED0iAtsvDa+x5MvG3RD0\n",
       "Q+KoFfVpNBQ97amjPM/iB0M2a+fT3JS0KioNdAEevRIOqDk7wjb0MgGd1zsc2r2IS4+LhmUWl6da\n",
       "IXraFBoVaK1wW447SdJWKJUI5Uh0CgdqtZoZzbzxLSvciZ36i7XaLMwvtzMbziKl4AEevS3YKklj\n",
       "so0C2NOYzWmWd9sth4nl3cJjB8vhyl25Rv5zlfChZoxfhItmKTaL9eRVKy7BTT/OwVonN1MSy4/a\n",
       "btrH0QW49Iw1vN7kgmuLDbDG6BflUOVudKid7dtYfTRSn3wEmYrkXruVmsPL2So+FzaZBZy26IAp\n",
       "KgUBgt0b0X+lj36UU5psyPJHaMaE2qJRv+/1uRI0b78S9A4fjR08tws4yW35UquxW9+C/SvknwKa\n",
       "nvnZKHX22anxry2lIEBA7+H7Rh28qdoB2ZDl/PZ7dWnT0RWvTyNZF9nshaofGuXUkqNBpjHKPRl2\n",
       "j0K47+nHgkPl31xH+xMf/Dm9t+t0P83k5u/lG1zmv/sHKA+nZ53FZukpyzSVeG0O/+/Qhu/ibwC8\n",
       "NL/SgwygAAAAAElFTkSuQmCC\n",
       "\" style=\"display:inline;vertical-align:middle;\" /></a><br>"
      ],
      "text/plain": [
       "greaterAddLeft: forall_{a in Reals, b in Reals, c in Reals | a > b, c >= 0} ((a + c) > b)"
      ]
     },
     "execution_count": 44,
     "metadata": {},
     "output_type": "execute_result"
    }
   ],
   "source": [
    "greaterAddLeft = Forall([a, b, c], Greater(Add(a, c), b), domain=Reals, conditions=[Greater(a, b), GreaterEq(c, zero)])"
   ]
  },
  {
   "cell_type": "code",
   "execution_count": 45,
   "metadata": {},
   "outputs": [
    {
     "data": {
      "text/html": [
       "<strong id=\"greaterAddRight\"><a class=\"ProveItLink\" href=\"_proofs_/greaterAddRight.ipynb\">greaterAddRight</a>:</strong> <a class=\"ProveItLink\" href=\"__pv_it/f862ba5b9a675d5cf46c1a2ea0d6f549e93740eb0/expr.ipynb\"><img src=\"data:image/png;base64,iVBORw0KGgoAAAANSUhEUgAAATsAAAAWBAMAAABNtyaoAAAAMFBMVEX///8QEBCIiIhmZma6urrM\n",
       "zMxUVFQiIiJERETc3Nzu7u6qqqp2dnaYmJgyMjIAAAAcRTyBAAAAAXRSTlMAQObYZgAABCFJREFU\n",
       "SMfFVl2IG1UU/jLJ5Gcyk/jQB5eixCzUggihgaUorQtCfdKOD7YKwob674MstUKr+xC3P2RdCkHB\n",
       "FkGYNmBlXdlB8WdBJOwi2riWoIJarISCq5Z27YNCuxXxnHsnM3dmZ7EK0QuHuXPmfPd+c/7uBf6j\n",
       "8Xq8OteN18970uOXcwNnZ9Tj9W/CeHE8Rp9uSvmcXy4MnF6hGa//hT5V4n6nJ+U4e7g+cHpfKTtf\n",
       "CuYWUSu63ku+pAAWpBQcwHQHTu+AMp/d608z5NSdThy9E1KszszMsYGzy4XyS5voM+KdP0UcvcKo\n",
       "lCuNxsTA6WmcX68s3uLRsp71JsMky+U7I/QWyjZMQrA8BkzFLHhf72/3TMVjtIX2GtMs9Y/UEH71\n",
       "HbUsS+UopeKfzlwzRO+Ym+3BorVY7hYV4o8PNj9ynp+mV0/5vUe2q05XFNkgdjYCzPd4HzsihZqh\n",
       "7D7Rxdbg15aF/16g9VZRLIXoTSDtIk/pwJKB1m+NxkfVrmaiw2YFLpe3Freh1DZPQjEIFAE940lB\n",
       "R2CwD0UnN2KH6CUoi+5yENRE6mdBbwOQ7GGO3G2urPx088pKjRSr/EW/LMXsZvqYb+dnQPTOMt0i\n",
       "bWhNv+YQG+tt1SBQZJXUP9L0MDB+R8JFbqsdpXcjf4oEd4Noeztd1XuJukov19tFb61NPyLFsWF6\n",
       "nDtj5acp7hBsZkXkyiVh4Cs8esaWZ4iJftCRGOhXkaH/Mz4bFRg/uMYfyF9GpDQouMUu+1WhNydS\n",
       "NzUuBVOP0mLP6asoQNKrMotbnWF54JXayaqImX6DMPAVHr1T9hivnjovMaCFMryPccZhjF8axjWk\n",
       "e/ORxkKlURw1bgpVLvGF65cG3iWOyYo+jpaAJh/fx89J/GBIZ408QX5Asg67BUXRp1fFbumRIcYI\n",
       "7yV4H+2SwMAvmkl8U2tH2vIinazdbCVEL1lDy0aSTFlE3SRcrYbdjUajpJkvfy2zYkTf32hMonT6\n",
       "dmZD+SQN+oo+vY3YJJ4flxgjcq9I309OS4xXCeSCN8oP7RmNHGr3cHJ8EWnLS+doUrClwCJPzzWz\n",
       "Z520DG7+YXb9Ku1bk7F8r+OlfRqKwqNnXMXRGe55HYmRlYvZQ/1SWXuoqQ1HbUChU+OUJ7JammP3\n",
       "wrRl7nXauZfwvFXHJ5KNOYvjDh0wFWEgFYH3hvTfKFkevIOmhCHkMPW91iHvYKqsvRKow1JvK4az\n",
       "9krgOX/PO9uAaW7LZ9qt7fpG7Fqi/Sk4+YmLRrV3v5vb8qUjDKQioLfjtuEuXn2Kp4QhpLZUwQOy\n",
       "3TDGq411LlRT690PvQtV6GTk1JJ+lo/NlHtyuBGDcN/TDwcR+qfX0fjBv7PeL8l7dOgki7PMXg/y\n",
       "X17mv/MkfkRBFq6XnkR+SDXecPC/juTgt/gLrBkwPNbzkCYAAAAASUVORK5CYII=\n",
       "\" style=\"display:inline;vertical-align:middle;\" /></a><br>"
      ],
      "text/plain": [
       "greaterAddRight: forall_{a in Reals, b in Reals, c in Reals | a > b, 0 >= c} (a > (b + c))"
      ]
     },
     "execution_count": 45,
     "metadata": {},
     "output_type": "execute_result"
    }
   ],
   "source": [
    "greaterAddRight = Forall([a, b, c], Greater(a, Add(b, c)), domain=Reals, conditions=[Greater(a, b), GreaterEq(zero, c)])"
   ]
  },
  {
   "cell_type": "code",
   "execution_count": 46,
   "metadata": {},
   "outputs": [
    {
     "data": {
      "text/html": [
       "<strong id=\"greaterEqAddBoth\"><a class=\"ProveItLink\" href=\"_proofs_/greaterEqAddBoth.ipynb\">greaterEqAddBoth</a>:</strong> <a class=\"ProveItLink\" href=\"__pv_it/ca2f4c32d7a93779f84b73d79b1bfef82e5a905f0/expr.ipynb\"><img src=\"data:image/png;base64,iVBORw0KGgoAAAANSUhEUgAAAZMAAAAWBAMAAAD3OGyNAAAAMFBMVEX///8QEBCIiIhmZma6urrM\n",
       "zMxUVFQiIiJERETc3Nzu7u6qqqp2dnaYmJgyMjIAAAAcRTyBAAAAAXRSTlMAQObYZgAABLtJREFU\n",
       "WMPVV12IG1UUPptsNpnJzKYPfagUZUzd2hdh6OJasD8RQZ+08aEVQWlY/1BLidv6166QLiKzLkqw\n",
       "0BZBmDagsq5mqIguFB0Moq52CVVoLViC2i1ajUUQNFXx3Hvu/NyZpFt9CR44ubnnznfnfPecc+de\n",
       "gL7Jq0K7SbYatynNHg/PC22xzjd9YKJWSLvLI3HTG6DuL8esqf3mEPJm+jnr/9gHKsNV0u7yNtHd\n",
       "bQemH/B5M/5kzlExHEwPs9BV+kDlS6GBHAv91wxKtCWfrG4yt70ENPwnt9rwETaow8hbc/pA5Rmh\n",
       "3amoK6gdXCoKS7rK3Y5R+QTgCHDVF2ZnD/WBiVIm7UEFvvdqwSrQn0PkdozKdxiOAunvljXZByoJ\n",
       "kxQONK61ZSpafgSg4XPeRTmzBnUpf7NMRdk4cgkBJumDANNdXnVna3l3thQjhkKkP9juick0SQev\n",
       "gl/kqCj74CWAs0H8buL18iJm3d92vSpRuaWa6WBmtUhv5dXvy3vr7v+WL43YLLITz282pC0/MNRl\n",
       "CECwfdxGr2xE+j4G0g7pkSZskKmkXXgMJ/Wn0nfzZh++ugM5I0xFvRqS6Hy2TJqGhPftUY+PNhMa\n",
       "LLDnhllY32xsAsPVjvrTyoYPZEiYijLGV/9CpM8xXAYKpFtsmGD9xXb78XZ7CbgFZYefiZOUfyuB\n",
       "uV13cZXb7fPXtNslNHQYcUhdJNWaaQ91en4W0K8zjFoOl1GfecVGz/W3/AWSDQ0ZEqYCygbm+x+R\n",
       "fhAnj8oqUH+To7IKwlTmJsSflfyzstUJR2WgAvVCQEVpbUdjbe05GGQ5xfxy2VT5RzH3UNDzOSpG\n",
       "QzbU8hdkiEeFzYXx+rQAqV/X2gLK+xwjJZj6J2QvSlTQwuR2sh141lsLTLBcU4TMo4Ix+pCVZJkU\n",
       "ph9A/BOpDgwD+TXK/LveXkOHGsNNjrJ2T2qFZIhDBBU+wNpFO7GXb1IMyvveUFD26iUYas1LUfkL\n",
       "PfXK/qCfoazscwUsDomKA7vwuOaVPbyDfJJmqgw17lfyoT2snYKzKvfPGHuYbUzJChRlg4kOShBB\n",
       "hc/FzD9DxmBvYFDqc4zYccUGOgWnSq5EZQzUGwE28tV4LshYzMyhZsaUqOD8T2r4ApeUbwoDTqIE\n",
       "d1uWZSS0l7+i1BxLPW1ZU2B8dgPzfAATImKIQgQVPgBwdIYVQ7JEUNGnIQglxWv5e8YLEhXtxEn8\n",
       "PRfdxTHj1PUn5E+kOj5y8DqsoSIp6Jh+9WrmjD1E2ZK9l+VjB1ZDifLp3QWxDUiGOERQ4QMwxxY0\n",
       "ZzMaHMr7NHRFB5fYGTgdPnpmpe/D60JpK6juuAO0IiX+gqu8AHv1CnxMnmtzcNjGg4EpGRByXwgS\n",
       "igqbq8ZTI22fFlDqc0zP4+Rs/DgZEj18Klbt8JA4Topwjx/bBDDDvneLbm1zajVs/wJTEZc0O/mT\n",
       "Otq6y1HWn7QlQwQSUOED2+gAtdMFgm4LvUbUfZX0sof8808xoW18uufNRxzypXMRJr4IIDXrsDRI\n",
       "nB6GABL5rgTi/Jer13S3q1cPufyizC93Qc12hVau8G677IVY/zcX4q+FdpcoSoflDBEq7+PWZtnB\n",
       "k0H/fyJmP1/+D96QmpRSrWnYAAAAAElFTkSuQmCC\n",
       "\" style=\"display:inline;vertical-align:middle;\" /></a><br>"
      ],
      "text/plain": [
       "greaterEqAddBoth: forall_{a in Reals, b in Reals, c in Reals, d in Reals | a >= b, c >= d} ((a + c) >= (b + d))"
      ]
     },
     "execution_count": 46,
     "metadata": {},
     "output_type": "execute_result"
    }
   ],
   "source": [
    "greaterEqAddBoth = Forall([a, b, c, d], GreaterEq(Add(a, c), Add(b, d)), domain=Reals, conditions=[GreaterEq(a, b), GreaterEq(c, d)])"
   ]
  },
  {
   "cell_type": "code",
   "execution_count": 47,
   "metadata": {},
   "outputs": [
    {
     "data": {
      "text/html": [
       "<strong id=\"greaterEqAddLeft\"><a class=\"ProveItLink\" href=\"_proofs_/greaterEqAddLeft.ipynb\">greaterEqAddLeft</a>:</strong> <a class=\"ProveItLink\" href=\"__pv_it/c1b5258dd3c3c97de1b210fb4f930773547f5e360/expr.ipynb\"><img src=\"data:image/png;base64,iVBORw0KGgoAAAANSUhEUgAAATsAAAAWBAMAAABNtyaoAAAAMFBMVEX///8QEBCIiIhmZma6urrM\n",
       "zMxUVFQiIiJERETc3Nzu7u6qqqp2dnaYmJgyMjIAAAAcRTyBAAAAAXRSTlMAQObYZgAAA/9JREFU\n",
       "SMfFVl1oVEcUPrt37/7c/fPBh4oUbjegQYksWbChoi4IvjVZX7QFIcFf9CHEkKCWPKxByyZSWLpQ\n",
       "pVC4dqEp22gulloCRZaIqGsMFxXUYGQpNQ9Rog8tNGmRzpkzd+8Pu0aFtQMnM+fLOXe+PT8zA/Ce\n",
       "xndC6o7JhmgVF3NNZ6dkSeoPf95tfqqP0NuoLTSdXixP0oA8DxKMfWLZJwk9z9ahbNPp3RNijct2\n",
       "ZYqmq0dMIK4TGtMAInrT6Z0U0oDeBTF3HhSLLo3QaKVUOtd0dqE+kkb0Ymmx+Ow0zTdM9O9cbqjp\n",
       "9LxJEihc+0hz0ZtKZCCSNLVvnvFpPrEFOMrCOVLng53VFff0reTjnSqLVdAg8a2BF67ondODVYha\n",
       "ngWsAeWVNpHn6A6zb2j82rr/d5zN3xPu/3Kbat/TAoIWUSrpWgyE/hiuCCCgk1wwoMNFbwj8OoSt\n",
       "xD/Aj4SXIa5yNABew+zv31KGNwIV3D2G7fLTta2gliPfg83AAix6UOAlHdOd+gDERSY9aZLtGvSj\n",
       "PrO4eGxxcZ6tpGXU5Zem5/oK/pWqMFHmaMQImP96OFkCRm8W6cbZIRU9+63G2EQv2g0swEYPCmeE\n",
       "j01X/gKP7qT3AYKO6HmydnrKDdU89rp0joaqu5leXPcUfBhWpIcV0504yvIOnM04z1xC5QY1QNBT\n",
       "2nszbBo/TT681kmXlyBgOJKr/Avhl056E7w8fZTc0MfCPm5goDk6coDtMSgvQwyIXgpZrNda6MJT\n",
       "y1KKZ0pexQ1qgKA3lunmGRxf4D6MRnoX6eyTAdXRGso/4K9OOugxIqCL1gj1mtURTysfAqE/M45S\n",
       "Uu6DIqcnHRrAeRieKBSszYfxUJKykCmCDTDppWAPnzcZ6MMWHSCTzqLnEfSwaVCG4UFP2UFP6oFi\n",
       "BiQO/piuXcJGkFlzlLUIqxFvD+zJ5XKqN/L1fTRYDZvlE7ncMKi32tALq4gbmIBJby2swxS36tyH\n",
       "A0JnZRYXG2KaUH5IfL4v7ezc6Tm2fyzjuoTb74BAoyw3E/ngrOan5Ib3YrKW2TY9lMtfKqLs/WAD\n",
       "BD1lCb4qgXIzLXwAlhDlutW5K11qY3UP1hrqyXd/CpEM1V6lHBqFL6JZuE5sIuNwXmMXTJIbEGBF\n",
       "b438p6F08JAwH+b5B0hCb6mde3WeBKU6TwLXqKG+fZe3ApzFY3mmXNwmr4Xd02x/lrDw0HMlVd2l\n",
       "h9rvatyAAIvezo0thky5YT7Ms9C2Qeje6dpdFcyTvPZBdek4jkEXal1CWFp0NdDUymqPhu4ycJ97\n",
       "1qXyLs/R+sQb/xz36zpczzL45u/yFR7zj94CxWG49Ci8ll6YtXRu1PK06f/fkJq/xX+WjTqjGEPL\n",
       "lQAAAABJRU5ErkJggg==\n",
       "\" style=\"display:inline;vertical-align:middle;\" /></a><br>"
      ],
      "text/plain": [
       "greaterEqAddLeft: forall_{a in Reals, b in Reals, c in Reals | a >= b, c >= 0} ((a + c) >= b)"
      ]
     },
     "execution_count": 47,
     "metadata": {},
     "output_type": "execute_result"
    }
   ],
   "source": [
    "greaterEqAddLeft = Forall([a, b, c], GreaterEq(Add(a, c), b), domain=Reals, conditions=[GreaterEq(a, b), GreaterEq(c, zero)])"
   ]
  },
  {
   "cell_type": "code",
   "execution_count": 48,
   "metadata": {},
   "outputs": [
    {
     "data": {
      "text/html": [
       "<strong id=\"greaterEqAddRight\"><a class=\"ProveItLink\" href=\"_proofs_/greaterEqAddRight.ipynb\">greaterEqAddRight</a>:</strong> <a class=\"ProveItLink\" href=\"__pv_it/7508974525ae0d4ff0b0d27209f56dc32591b71a0/expr.ipynb\"><img src=\"data:image/png;base64,iVBORw0KGgoAAAANSUhEUgAAATsAAAAWBAMAAABNtyaoAAAAMFBMVEX///8QEBCIiIhmZma6urrM\n",
       "zMxUVFQiIiJERETc3Nzu7u6qqqp2dnaYmJgyMjIAAAAcRTyBAAAAAXRSTlMAQObYZgAABDFJREFU\n",
       "SMfFVltoHFUY/vYye5md2fWhD5airBuoAVGWLsSAtC4I9Uk7PtgiCFmqVfShhLbiLcIaokwaCosB\n",
       "WwRh2gUrcSWD4iXgw5IgaoxlUEEtVhbBFKvGPijYKOL/nzOXs9upN1g98DMz//zfOd/5b+cA/9F4\n",
       "MV6d9+L1S770+OPc0NnpzXj9y9CfnozRZ1pSPuSPC0OnV2xFTA87kf5b+lWN205Pygn2cHPo9D5R\n",
       "3gvrIVeTqJXcQF9WjJalFGkrhjt0eo+rH+l1y3/LEtE9Thy9k1LM1YWF40Nnl+/PL82uyxde+T3E\n",
       "0SvWpfxi21NDp5fk/JpfuS5wVP6gDNgIyXrllgF6yxULBiFYDgCzMRPe2fvLNdPxmORy9zLTHPWP\n",
       "9Fb8GLnzZpF/x6gAfncWW330jru5Hkyai+U2USHheGv0vq/5afj1VDj07C7V6YoiFxF9CBHmS7yJ\n",
       "3a1+elly1kkP46HCPCweT9J8myiV++hNIeOiQOnAkkUyaI36OzUvaWCVzYrs/VdWdqLcNU5BMYgU\n",
       "ET3MH0CAwRGUnPyY1UcvQVl0q4NDYbCnZJi3AKkeFsndxsbG+Ws3Nhqk2BTpeVGK4WUD0OdLCyB6\n",
       "Z5luifZvzr3gEBvzVdUgUij0MP+Mj4H+MxIu8uPWIL2r+ZccnYDnFtH29riq9xJNlV6+t5e+2tu/\n",
       "QZpjw/Q4dyYqD1PcIdh0ROQqZWEQKnx6+o6DzKQzIzHQLiFL+9PfrwtMGFz9NxQu+nt5KqBNwS15\n",
       "7FeF3qJI3fSkFMzeT5M9om2iCEmvxiyud0bkgVfupmoiZtpVwiBU+PROWxNi9s4FgQFNlOV19DMO\n",
       "Y8LS0H9FpsfHKJ7/LvQqlUaprl/TV7nEF25YGnidOKaq2iTagl7qgSP8nMZXunTW2IPcpFJNWG0o\n",
       "ioBeDfvE8yaPMcJ7CV4n+YPAICyaaXzWYMfoM1HQV+hk9XLVPnqpBtoWUmTKIuom4SYb2Gfbdjlp\n",
       "PPepzIox7THbnkb5gxuZDeWTNAgUAb1t2M5rjroCI3KvRP9PzUmMX9rkgpcq9+yvDzSc2zk5Phpo\n",
       "y2vn6KVoSYFJsVls5c46GRncwr0crE1atyFj+caqn/YZKAqfnn4JxxZkpgmMrFyRirJUYg41peGo\n",
       "Dajv1Djti6yW1sQdMCyZe6vd/FE8YTbxrmRjdHDCoQOmKgykIvLeVu0nTx8XbiEMIUeo77Vn/IOp\n",
       "GnMlUIap3lZ05/Irge/8/a/tBOa4LZ/ptndp27B3jdan4BSmvtdrvbvc/I6PHWEgFRG93TeMeJpM\n",
       "McIQMrlWxd3yaGCMXxvKher8ozwkZPZK90P/QtV3MnJqST/LxyjlnhzugMFg34si9E+vo/GDt5Nr\n",
       "Xek4XRpcNM4y93eQ//Iy/4Uv8WMQZOJP6RWopO2jCvJtVjj4X0dq+Ev8AfchNIup8PMZAAAAAElF\n",
       "TkSuQmCC\n",
       "\" style=\"display:inline;vertical-align:middle;\" /></a><br>"
      ],
      "text/plain": [
       "greaterEqAddRight: forall_{a in Reals, b in Reals, c in Reals | a >= b, 0 >= c} (a >= (b + c))"
      ]
     },
     "execution_count": 48,
     "metadata": {},
     "output_type": "execute_result"
    }
   ],
   "source": [
    "greaterEqAddRight = Forall([a, b, c], GreaterEq(a, Add(b, c)), domain=Reals, conditions=[GreaterEq(a, b), GreaterEq(zero, c)])"
   ]
  },
  {
   "cell_type": "code",
   "execution_count": 49,
   "metadata": {},
   "outputs": [
    {
     "data": {
      "text/html": [
       "<strong id=\"lessIsNotEq\"><a class=\"ProveItLink\" href=\"_proofs_/lessIsNotEq.ipynb\">lessIsNotEq</a>:</strong> <a class=\"ProveItLink\" href=\"__pv_it/af9bf395449e44053efdbc7e09c929c586ef57720/expr.ipynb\"><img src=\"data:image/png;base64,iVBORw0KGgoAAAANSUhEUgAAAMUAAAAWCAMAAABHTKhDAAAAOVBMVEX///8kJCQNDQ0oKCgQEBCI\n",
       "iIhmZma6urrMzMxUVFQiIiJERETc3Nzu7u6qqqp2dnaYmJgyMjIAAAD9T1yxAAAAAXRSTlMAQObY\n",
       "ZgAAAq1JREFUWMPNV9mSnDAMJFks3+f/f2wsX9gGPOxWKsQPUwOIRq2WLHnb/qel3PKx1ed7RuGv\n",
       "b9fOvU1CyzVH35vuIv/jSMOa+sDrt1l4tXzM6WAMhQ9yU5W/km+TcLCWYnQw1PBb0klwiPLWEh+k\n",
       "YP0VDTV19I4RsBqXEq+XtviOFPaw9phpQeIS9m0WpCaUAgtkn6tUsrGGOCGQ08dCU0qqZ9+i3j8w\n",
       "+gmKLHsk3aMrPrSg+7S+fuNvqxwdYiXokJx2iEWhVvrVMoJIDp4cUsIHA3RoyUBfoGBZmJLmyAbk\n",
       "WgqTyiKQ7EF6HeU8NQttLEC8SzaL/aZ56c0HgzULJvmAcqw9KwjJP0Gm1/h4DT4JksqAJd2sy0zG\n",
       "bU8apREvOel0YxnUB4MVC8VL5gZ1x2KXyT82STHZp9yiebfNLGJPrFQ1EO5ZTbNcdNnJWvwsEML1\n",
       "wmBm0SDxb82LinLOqBxfE7ahLn7tuTqaIsE12TYqCtHSFrVg8QN6GEySkwDVaSJ02k1uDSYWB6S2\n",
       "vlV9RTlXt07x5b4MSHddPdBaQaW6I3MoCYWuMJGi1jkJnIv2fUnSa/cGE4sGyfYu5wrK2AHgeCT4\n",
       "1mtLT3sBj2Cy3IViGkot7TEOBFVjIjURRIyhVsTRPnuBLwwmFg1y66SoKOPelUOpYyNgipMe8Dzi\n",
       "xTy1NSolX2NWl01YobBYs3xIGMPaUIzJgZ7dGowsOsiuLBrKswnELAcsPe9Msd+wQJGjZUPaWyxe\n",
       "JeO3Y0I7eWNwqUWD7LeoivJsGlxP25bMDYkTQyB9Upra1Ky3MYxxg2YYPcZt9vfC4IpFB5mnoXQe\n",
       "aCjL7bRKsRyO9HKWICXtB7xPBg96N7ufdW5OSWspno5O0+nwwfrpUeX6xLqcytx3SWyPj7SvH7j+\n",
       "yoJ//L0/BRUgYIbJjuQAAAAASUVORK5CYII=\n",
       "\" style=\"display:inline;vertical-align:middle;\" /></a><br>"
      ],
      "text/plain": [
       "lessIsNotEq: forall_{a in Reals, b in Reals | a < b} (a != b)"
      ]
     },
     "execution_count": 49,
     "metadata": {},
     "output_type": "execute_result"
    }
   ],
   "source": [
    "lessIsNotEq = Forall([a, b], NotEquals(a, b), domain=Reals, conditions=[Less(a, b)])"
   ]
  },
  {
   "cell_type": "code",
   "execution_count": 50,
   "metadata": {},
   "outputs": [
    {
     "data": {
      "text/html": [
       "<strong id=\"gtrIsNotEq\"><a class=\"ProveItLink\" href=\"_proofs_/gtrIsNotEq.ipynb\">gtrIsNotEq</a>:</strong> <a class=\"ProveItLink\" href=\"__pv_it/2723399e2e58098b5f4b2f4ffd1d6454a419244d0/expr.ipynb\"><img src=\"data:image/png;base64,iVBORw0KGgoAAAANSUhEUgAAAMUAAAAWCAMAAABHTKhDAAAAOVBMVEX///8kJCQNDQ0oKCgQEBCI\n",
       "iIhmZma6urrMzMxUVFQiIiJERETc3Nzu7u6qqqp2dnaYmJgyMjIAAAD9T1yxAAAAAXRSTlMAQObY\n",
       "ZgAAArBJREFUWMPNV9mSnDAMJFkkfF///7GxfIENeNitVIgfpgYQQq1Wy/Ky/E9Lueljq8/3jKJf\n",
       "366dexuElnOM/mi6ivyPEwxr6gOv30bh1fQx3zpjLHgIm6r4lXwbhMM5FX2AoabfwoGCnZS3lvhA\n",
       "BTtebaGWjl4pA1bTUuJ1aYvvUGF3a0+VFiQtYd9GAbWgFFqEdVSpZL2GOADm8rHYmJLq2bc27x8Y\n",
       "/cSLLD1yW2MoPrSk+7S+ftNvU44OUQk6pKAd+dqwKv1qGQGSo4edSvxgQAFdVUSXS3tWsjClzAkN\n",
       "yjkVJskiQI4gvU50njYLbSxivAuLpf2mRenNB4MbFJof6fbnXrJmBjHFJ6B/yHh/jT4RkmTAEm/W\n",
       "ZSR925NGafKXgnS6oQzqg8ENCtInV6OXM4pVpvjYQMVgn2pry902o4h7YoWqEbhntcyy6HKQVfws\n",
       "AHA9MRhRNJf0skTdeTlXVM6vCUuni19rVkdjJLhG27KJArRsi1qw+AHdDSYpSMQaNAidusmtwYBi\n",
       "d1lkDUcvZ3XrlF/uy4B0t6uHrSqoqDsix1JQFAoTKYGHIJFz0bqOhPTavcGAorlspUotqHhZLgSf\n",
       "Hgm+HLndTr2ARwCy3MViGoqW1pgHINaYSJsIeYypVuC2Y/UinxgMKJrL2lwSGcVL331F6QIATHE4\n",
       "OjyPeLFObVVirVenSxOmNDnSLO8KxrA2FFNxUGS3Bj2Kg8tcUNmuenk2gZjpgKXHzhTJZmEjjJZ1\n",
       "ZW9JvErGb8eCdvLG4JKL5vIg7ubl2TQ4n7YtjFsqBwOYPilN3dSst5HA2KAZZY9xm+O9MLhCsbtU\n",
       "fG+0zcu0nVYqpsORns4SUMq+8/fJYLJfsGH3fX5KmlPxdHQaTocP1k+PKtcn1ulU5r4LYnl8pH39\n",
       "wPVXFv7j7/0BJVsgXdMjBMcAAAAASUVORK5CYII=\n",
       "\" style=\"display:inline;vertical-align:middle;\" /></a><br>"
      ],
      "text/plain": [
       "gtrIsNotEq: forall_{a in Reals, b in Reals | a > b} (a != b)"
      ]
     },
     "execution_count": 50,
     "metadata": {},
     "output_type": "execute_result"
    }
   ],
   "source": [
    "gtrIsNotEq = Forall([a, b], NotEquals(a, b), domain=Reals, conditions=[Greater(a, b)])"
   ]
  },
  {
   "cell_type": "code",
   "execution_count": 51,
   "metadata": {},
   "outputs": [
    {
     "name": "stdout",
     "output_type": "stream",
     "text": [
      "Theorems may be imported from autogenerated _theorems_.py\n"
     ]
    }
   ],
   "source": [
    "%end theorems"
   ]
  },
  {
   "cell_type": "code",
   "execution_count": null,
   "metadata": {},
   "outputs": [],
   "source": []
  }
 ],
 "metadata": {
  "kernelspec": {
   "display_name": "Python 3",
   "language": "python",
   "name": "python3"
  }
 },
 "nbformat": 4,
 "nbformat_minor": 0
}
