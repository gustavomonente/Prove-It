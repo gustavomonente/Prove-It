{
 "cells": [
  {
   "cell_type": "markdown",
   "metadata": {},
   "source": [
    "Theorems for context <a href=\"_context_.ipynb\" class=\"ProveItLink\">proveit.number.exponentiation</a>\n",
    "========"
   ]
  },
  {
   "cell_type": "code",
   "execution_count": null,
   "metadata": {},
   "outputs": [],
   "source": [
    "import proveit\n",
    "# Automation is not needed when building theorem expressions:\n",
    "proveit.defaults.automation = False # This will speed things up.\n",
    "from proveit import IndexedVar, ExprRange\n",
    "from proveit._common_ import a, b, c, d, i, n, x, y, z\n",
    "from proveit.core_expr_types._common_ import a_1_to_n\n",
    "from proveit.logic import And, Forall, Equals, InSet, NotEquals, Or\n",
    "from proveit.number import (Abs, Add, Exp, frac,  Greater, GreaterEq, Less,\n",
    "                            LessEq, LesserSequence, Mult, Neg, sqrt, subtract)\n",
    "from proveit.number import (zero, one, two, three, Naturals, NaturalsPos,\n",
    "                            Integers, Reals, RealsNonNeg, RealsPos, Complexes)\n",
    "# the context is in the current directory:\n",
    "context = proveit.Context('.') # adds context root to sys.path if necessary"
   ]
  },
  {
   "cell_type": "code",
   "execution_count": null,
   "metadata": {},
   "outputs": [],
   "source": [
    "%begin theorems"
   ]
  },
  {
   "cell_type": "markdown",
   "metadata": {},
   "source": [
    "### Basic Operation Theorems"
   ]
  },
  {
   "cell_type": "code",
   "execution_count": null,
   "metadata": {},
   "outputs": [],
   "source": [
    "exponentiatedOne = Forall([x], Equals(Exp(one, x), one), domain=Complexes)"
   ]
  },
  {
   "cell_type": "code",
   "execution_count": null,
   "metadata": {},
   "outputs": [],
   "source": [
    "expZeroEqOne = Forall([a], Equals(Exp(a, zero), one), domain=Complexes, conditions=[NotEquals(a, zero)])"
   ]
  },
  {
   "cell_type": "code",
   "execution_count": null,
   "metadata": {},
   "outputs": [],
   "source": [
    "exponentiatedZero = Forall([x], Equals(Exp(zero, x), zero), domain=Complexes, conditions=[NotEquals(x, zero)])"
   ]
  },
  {
   "cell_type": "code",
   "execution_count": null,
   "metadata": {},
   "outputs": [],
   "source": [
    "expNotEqZero = Forall(\n",
    "    [a, b],\n",
    "    NotEquals(Exp(a,b), zero),\n",
    "    domain=Complexes,\n",
    "    conditions=[NotEquals(a, zero)])"
   ]
  },
  {
   "cell_type": "code",
   "execution_count": null,
   "metadata": {},
   "outputs": [],
   "source": [
    "natXToFirstPowerIsX = Forall(\n",
    "        n,\n",
    "        Equals(Exp(n, one), n),\n",
    "        domain=Naturals)"
   ]
  },
  {
   "cell_type": "code",
   "execution_count": null,
   "metadata": {},
   "outputs": [],
   "source": [
    "realXToFirstPowerIsX = Forall(\n",
    "        x,\n",
    "        Equals(Exp(x, one), x),\n",
    "        domain=Reals)"
   ]
  },
  {
   "cell_type": "code",
   "execution_count": null,
   "metadata": {},
   "outputs": [],
   "source": [
    "complexXToFirstPowerIsX = Forall([x],\n",
    "               Equals(Exp(x,one),\n",
    "                      x),\n",
    "               domain = Complexes)"
   ]
  },
  {
   "cell_type": "markdown",
   "metadata": {},
   "source": [
    "### Closure Theorems for General Exponentials"
   ]
  },
  {
   "cell_type": "code",
   "execution_count": null,
   "metadata": {},
   "outputs": [],
   "source": [
    "expNatClosure = Forall(\n",
    "    (a, b), \n",
    "    InSet(Exp(a, b), NaturalsPos),\n",
    "    domains=(NaturalsPos, Naturals))"
   ]
  },
  {
   "cell_type": "code",
   "execution_count": null,
   "metadata": {},
   "outputs": [],
   "source": [
    "expRealClosureExpNonZero = Forall(\n",
    "    (a, b),\n",
    "    InSet(Exp(a, b), Reals),\n",
    "    domain=Reals,\n",
    "    conditions=[GreaterEq(a, zero), NotEquals(b, zero)])"
   ]
  },
  {
   "cell_type": "code",
   "execution_count": null,
   "metadata": {},
   "outputs": [],
   "source": [
    "expRealClosureBasePos = Forall(\n",
    "    (a, b),\n",
    "    InSet(Exp(a, b), Reals),\n",
    "    domain=Reals,\n",
    "    conditions=[Greater(a, zero)])"
   ]
  },
  {
   "cell_type": "code",
   "execution_count": null,
   "metadata": {},
   "outputs": [],
   "source": [
    "expRealClosure = Forall(\n",
    "    (a, b),\n",
    "    InSet(Exp(a, b), Reals),\n",
    "    domain=Reals,\n",
    "    conditions=[Or(Greater(a, zero), And(GreaterEq(a, zero), NotEquals(b, zero)))])"
   ]
  },
  {
   "cell_type": "code",
   "execution_count": null,
   "metadata": {},
   "outputs": [],
   "source": [
    "expRealPosClosure = Forall(\n",
    "    (a, b),\n",
    "    InSet(Exp(a, b), RealsPos),\n",
    "    domain=Reals,\n",
    "    conditions=[Greater(a, zero)])"
   ]
  },
  {
   "cell_type": "code",
   "execution_count": null,
   "metadata": {},
   "outputs": [],
   "source": [
    "expComplexClosure = Forall(\n",
    "    (a, b),\n",
    "    InSet(Exp(a, b), Complexes),\n",
    "    domain=Complexes, \n",
    "    conditions=[Or(NotEquals(a, zero), NotEquals(b, zero))])"
   ]
  },
  {
   "cell_type": "markdown",
   "metadata": {},
   "source": [
    "### Closure Theorems for special case of a sqrt()"
   ]
  },
  {
   "cell_type": "code",
   "execution_count": null,
   "metadata": {},
   "outputs": [],
   "source": [
    "sqrtRealClosure = Forall(\n",
    "    (a),\n",
    "    InSet(sqrt(a), Reals),\n",
    "    domain=Reals,\n",
    "    conditions=[GreaterEq(a, zero)])"
   ]
  },
  {
   "cell_type": "code",
   "execution_count": null,
   "metadata": {},
   "outputs": [],
   "source": [
    "sqrtRealPosClosure = Forall(\n",
    "    (a),\n",
    "    InSet(sqrt(a), RealsPos),\n",
    "    domain=RealsPos)"
   ]
  },
  {
   "cell_type": "code",
   "execution_count": null,
   "metadata": {},
   "outputs": [],
   "source": [
    "sqrtComplexClosure = Forall(\n",
    "    (a),\n",
    "    InSet(sqrt(a), Complexes),\n",
    "    domain=Complexes)"
   ]
  },
  {
   "cell_type": "code",
   "execution_count": null,
   "metadata": {},
   "outputs": [],
   "source": [
    "sqrdPosClosure = Forall(\n",
    "    a,\n",
    "    InSet(Exp(a, two), RealsPos), \n",
    "    domain=Reals,\n",
    "    conditions=[NotEquals(a, zero)])"
   ]
  },
  {
   "cell_type": "markdown",
   "metadata": {},
   "source": [
    "### Theorems for the NumberRelation class"
   ]
  },
  {
   "cell_type": "code",
   "execution_count": null,
   "metadata": {},
   "outputs": [],
   "source": [
    "exp_eq = Forall((a, x, y), Equals(Exp(x, a), Exp(y, a)), condition=Equals(x, y), domain=Complexes)"
   ]
  },
  {
   "cell_type": "code",
   "execution_count": null,
   "metadata": {},
   "outputs": [],
   "source": [
    "exp_pos_less = Forall((a, x, y), Less(Exp(x, a), Exp(y, a)), \n",
    "                             conditions=[LesserSequence((LessEq._operator_, Less._operator_), (zero, x, y)),\n",
    "                                         Greater(a, zero)], domain=Reals)"
   ]
  },
  {
   "cell_type": "code",
   "execution_count": null,
   "metadata": {},
   "outputs": [],
   "source": [
    "exp_nonneg_less = Forall((a, x, y), LessEq(Exp(x, a), Exp(y, a)), \n",
    "                         conditions=[LesserSequence((Less._operator_, Less._operator_), (zero, x, y)), \n",
    "                                     GreaterEq(a, zero)], domain=Reals)"
   ]
  },
  {
   "cell_type": "code",
   "execution_count": null,
   "metadata": {},
   "outputs": [],
   "source": [
    "exp_neg_less = Forall((a, x, y), Less(Exp(y, a), Exp(x, a)), \n",
    "                      conditions=[LesserSequence((Less._operator_, Less._operator_), (zero, x, y)),\n",
    "                                  Less(a, zero)], domain=Reals)"
   ]
  },
  {
   "cell_type": "code",
   "execution_count": null,
   "metadata": {},
   "outputs": [],
   "source": [
    "exp_nonpos_less = Forall((a, x, y), LessEq(Exp(y, a), Exp(x, a)), \n",
    "                         conditions=[LesserSequence((Less._operator_, Less._operator_), (zero, x, y)),\n",
    "                                     LessEq(a, zero)], domain=Reals)"
   ]
  },
  {
   "cell_type": "code",
   "execution_count": null,
   "metadata": {},
   "outputs": [],
   "source": [
    "exp_pos_lesseq = Forall((a, x, y), LessEq(Exp(x, a), Exp(y, a)), \n",
    "                             conditions=[LesserSequence((LessEq._operator_, LessEq._operator_), (zero, x, y)),\n",
    "                                         Greater(a, zero)], domain=Reals)"
   ]
  },
  {
   "cell_type": "code",
   "execution_count": null,
   "metadata": {},
   "outputs": [],
   "source": [
    "exp_nonneg_lesseq = Forall((a, x, y), LessEq(Exp(x, a), Exp(y, a)), \n",
    "                           conditions=[LesserSequence((Less._operator_, LessEq._operator_), (zero, x, y)), \n",
    "                                       GreaterEq(a, zero)], domain=Reals)"
   ]
  },
  {
   "cell_type": "code",
   "execution_count": null,
   "metadata": {},
   "outputs": [],
   "source": [
    "exp_neg_lesseq = Forall((a, x, y), LessEq(Exp(y, a), Exp(x, a)), \n",
    "                      conditions=[LesserSequence((Less._operator_, LessEq._operator_), (zero, x, y)),\n",
    "                                  Less(a, zero)], domain=Reals)"
   ]
  },
  {
   "cell_type": "code",
   "execution_count": null,
   "metadata": {},
   "outputs": [],
   "source": [
    "exp_nonpos_lesseq = Forall((a, x, y), LessEq(Exp(y, a), Exp(x, a)), \n",
    "                           conditions=[LesserSequence((Less._operator_, LessEq._operator_), (zero, x, y)),\n",
    "                                       LessEq(a, zero)], domain=Reals)"
   ]
  },
  {
   "cell_type": "markdown",
   "metadata": {},
   "source": [
    "### Other Misc Theorems"
   ]
  },
  {
   "cell_type": "code",
   "execution_count": null,
   "metadata": {},
   "outputs": [],
   "source": [
    "# lower bound for exponentials with natural positive base and natural positive exp\n",
    "natPosToNatPosLowerBound = Forall(\n",
    "    (a, b),\n",
    "    GreaterEq(Exp(a, b), a),\n",
    "    domain = NaturalsPos)"
   ]
  },
  {
   "cell_type": "code",
   "execution_count": null,
   "metadata": {},
   "outputs": [],
   "source": [
    "# Note: if |a| <= b then b >= 0 and |b| = b.\n",
    "squarePosIneq = Forall(\n",
    "    (a,b),\n",
    "    LessEq(Exp(Abs(a),two),Exp(b,two)),\n",
    "    domain = Reals,\n",
    "    conditions = (LessEq(Abs(a),b),))"
   ]
  },
  {
   "cell_type": "code",
   "execution_count": null,
   "metadata": {},
   "outputs": [],
   "source": [
    "squarePosEq = Forall(\n",
    "    a,\n",
    "    Equals(Exp(Abs(a),two),Exp(a,two)),\n",
    "    domain = Reals)"
   ]
  },
  {
   "cell_type": "code",
   "execution_count": null,
   "metadata": {},
   "outputs": [],
   "source": [
    "sumInExp = Forall(\n",
    "    [a,b,c],\n",
    "    Equals(Mult(Exp(a,b),Exp(a,c)), Exp(a,Add(b,c))),\n",
    "    domain = Complexes,\n",
    "    conditions=[NotEquals(a, zero)])"
   ]
  },
  {
   "cell_type": "code",
   "execution_count": null,
   "metadata": {},
   "outputs": [],
   "source": [
    "addOneRightInExp = Forall(\n",
    "    [a,b],\n",
    "    Equals(Mult(Exp(a,b),a), Exp(a,Add(b,one))),\n",
    "    domain = Complexes,\n",
    "    conditions=[NotEquals(a, zero)])"
   ]
  },
  {
   "cell_type": "code",
   "execution_count": null,
   "metadata": {},
   "outputs": [],
   "source": [
    "addOneLeftInExp = Forall(\n",
    "    [a,b],\n",
    "    Equals(Mult(a, Exp(a,b)), Exp(a,Add(one, b))),\n",
    "    domain = Complexes,\n",
    "    conditions=[NotEquals(a, zero)])"
   ]
  },
  {
   "cell_type": "code",
   "execution_count": null,
   "metadata": {},
   "outputs": [],
   "source": [
    "diffInExp = Forall(\n",
    "    [a,b,c],\n",
    "    Equals(Mult(Exp(a,b),Exp(a,Neg(c))), Exp(a,subtract(b,c))),\n",
    "    domain = Complexes,\n",
    "    conditions=[NotEquals(a, zero)])"
   ]
  },
  {
   "cell_type": "code",
   "execution_count": null,
   "metadata": {},
   "outputs": [],
   "source": [
    "diffFracInExp = Forall(\n",
    "    [a,b,c,d],\n",
    "    Equals(Mult(Exp(a,b),Exp(a,frac(Neg(c), d))),\n",
    "           Exp(a, subtract(b,frac(c, d)))),\n",
    "    domain = Complexes,\n",
    "    conditions=[NotEquals(a, zero), NotEquals(d, zero)])"
   ]
  },
  {
   "cell_type": "code",
   "execution_count": null,
   "metadata": {},
   "outputs": [],
   "source": [
    "expOfPositivesProd = Forall(\n",
    "    c,\n",
    "    Forall((a, b),\n",
    "           Equals(Exp(Mult(a,b),c), Mult(Exp(a,c),Exp(b,c))),\n",
    "           domain=RealsPos),\n",
    "    domain=Complexes)"
   ]
  },
  {
   "cell_type": "code",
   "execution_count": null,
   "metadata": {},
   "outputs": [],
   "source": [
    "intExpOfProd = Forall(\n",
    "    n,\n",
    "    Forall((a, b),\n",
    "           Equals(Exp(Mult(a,b),n), Mult(Exp(a,n),Exp(b,n))),\n",
    "           domain=Complexes,\n",
    "           conditions=[NotEquals(a, zero), NotEquals(b, zero)]),\n",
    "    domain=Integers)"
   ]
  },
  {
   "cell_type": "code",
   "execution_count": null,
   "metadata": {},
   "outputs": [],
   "source": [
    "natsPosExpOfProd = Forall(\n",
    "    n,\n",
    "    Forall((a, b),\n",
    "           Equals(Exp(Mult(a,b),n), Mult(Exp(a,n),Exp(b,n))),\n",
    "           domain=Complexes),\n",
    "    domain=NaturalsPos)"
   ]
  },
  {
   "cell_type": "code",
   "execution_count": null,
   "metadata": {},
   "outputs": [],
   "source": [
    "sameExpDistribute = Forall(\n",
    "    [x,y,z],\n",
    "    Equals(Mult(Exp(x,y),Exp(z,y)), Exp(Mult(x,z),y)),\n",
    "    domain = Complexes)"
   ]
  },
  {
   "cell_type": "code",
   "execution_count": null,
   "metadata": {},
   "outputs": [],
   "source": [
    "# Works for integers powers through repetition of a^b (or a^{-b}) and adding exponents.\n",
    "# Does not work for fractional powers.  Consider sqrt[(-1)^2] = 1 not (-1)^{2*(1/2)} = -1.\n",
    "intExpOfExp = Forall(\n",
    "    n,\n",
    "    Forall((a, b),\n",
    "           Equals(Exp(Exp(a, b), n), Exp(a, Mult(b, n))), \n",
    "           domain=Complexes, conditions=[NotEquals(a, zero)]),\n",
    "    domain=Integers)"
   ]
  },
  {
   "cell_type": "code",
   "execution_count": null,
   "metadata": {},
   "outputs": [],
   "source": [
    "intExpOfNegExp = Forall(\n",
    "    n,\n",
    "    Forall((a, b),\n",
    "           Equals(Exp(Exp(a, Neg(b)), n), Exp(a, Neg(Mult(b, n)))),\n",
    "           domain=Complexes, conditions=[NotEquals(a, zero)]),\n",
    "    domain=Integers)"
   ]
  },
  {
   "cell_type": "code",
   "execution_count": null,
   "metadata": {},
   "outputs": [],
   "source": [
    "negIntExpOfExp = Forall(\n",
    "    n,\n",
    "    Forall((a, b),\n",
    "           Equals(Exp(Exp(a, b), Neg(n)), Exp(a, Neg(Mult(b, n)))),\n",
    "           domain=Complexes, conditions=[NotEquals(a, zero)]),\n",
    "    domain=Integers)"
   ]
  },
  {
   "cell_type": "code",
   "execution_count": null,
   "metadata": {},
   "outputs": [],
   "source": [
    "negIntExpOfNegExp = Forall(\n",
    "    n,\n",
    "    Forall((a, b),\n",
    "           Equals(Exp(Exp(a, Neg(b)), Neg(n)), Exp(a, Mult(b, n))),\n",
    "           domain=Complexes, conditions=[NotEquals(a, zero)]),\n",
    "    domain=Integers)"
   ]
  },
  {
   "cell_type": "code",
   "execution_count": null,
   "metadata": {},
   "outputs": [],
   "source": [
    "diffSquareComm = Forall(\n",
    "    [a,b],\n",
    "    Equals(Exp(subtract(a,b),two),Exp(subtract(b,a),two)),\n",
    "    domain = Complexes)"
   ]
  },
  {
   "cell_type": "code",
   "execution_count": null,
   "metadata": {},
   "outputs": [],
   "source": [
    "sqrtOfProd = Forall(\n",
    "    n,\n",
    "    Forall(a_1_to_n,\n",
    "           Equals(sqrt(Mult(a_1_to_n)), \n",
    "                  Mult(ExprRange(i, sqrt(IndexedVar(a, i)), one, n))),\n",
    "           domain = Complexes),\n",
    "    domain = NaturalsPos)"
   ]
  },
  {
   "cell_type": "code",
   "execution_count": null,
   "metadata": {},
   "outputs": [],
   "source": [
    "sqrtTimesItself = Forall(\n",
    "    x,\n",
    "    Equals(Mult(sqrt(x), sqrt(x)), x),\n",
    "    domain=Reals,\n",
    "    conditions=[GreaterEq(x, zero)])"
   ]
  },
  {
   "cell_type": "code",
   "execution_count": null,
   "metadata": {},
   "outputs": [],
   "source": [
    "nth_power_of_nth_root = Forall(\n",
    "    (n, x),\n",
    "    Equals(Exp(Exp(x, frac(one, n)), n), x),\n",
    "    domains=[NaturalsPos, RealsPos])"
   ]
  },
  {
   "cell_type": "code",
   "execution_count": null,
   "metadata": {},
   "outputs": [],
   "source": []
  },
  {
   "cell_type": "markdown",
   "metadata": {},
   "source": [
    "### Expansion Theorems"
   ]
  },
  {
   "cell_type": "code",
   "execution_count": null,
   "metadata": {},
   "outputs": [],
   "source": [
    "# until we have the more general \"exp_expansion\"\n",
    "square_expansion = Forall(\n",
    "    x,\n",
    "    Equals(Exp(x, two), Mult(x, x)),\n",
    "    domain=Complexes)"
   ]
  },
  {
   "cell_type": "code",
   "execution_count": null,
   "metadata": {},
   "outputs": [],
   "source": [
    "# until we have the more general \"exp_expansion\"\n",
    "cube_expansion = Forall(\n",
    "    x,\n",
    "    Equals(Exp(x, three), Mult(x, x, x)),\n",
    "    domain=Complexes)"
   ]
  },
  {
   "cell_type": "markdown",
   "metadata": {},
   "source": [
    "*Note: Could eventually include generalizations to “even power closure,” etc, but need to define and implement an Evens set to do this*"
   ]
  },
  {
   "cell_type": "code",
   "execution_count": null,
   "metadata": {},
   "outputs": [],
   "source": [
    "%end theorems"
   ]
  },
  {
   "cell_type": "code",
   "execution_count": null,
   "metadata": {},
   "outputs": [],
   "source": []
  }
 ],
 "metadata": {
  "kernelspec": {
   "display_name": "Python 3",
   "language": "python",
   "name": "python3"
  }
 },
 "nbformat": 4,
 "nbformat_minor": 0
}
