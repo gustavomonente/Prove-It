{
 "cells": [
  {
   "cell_type": "markdown",
   "metadata": {},
   "source": [
    "Theorems for context <a href=\"_context_.ipynb\" class=\"ProveItLink\">proveit.number.exponentiation</a>\n",
    "========"
   ]
  },
  {
   "cell_type": "code",
   "execution_count": null,
   "metadata": {},
   "outputs": [],
   "source": [
    "import proveit\n",
    "# Automation is not needed when building theorem expressions:\n",
    "proveit.defaults.automation = False # This will speed things up.\n",
    "from proveit import IndexedVar, ExprRange\n",
    "from proveit._common_ import a, b, c, d, k, i, m, n, x, y, z\n",
    "from proveit.core_expr_types._common_ import a_1_to_m, a_1_to_n, b_1_to_m, k_1_to_m\n",
    "from proveit.logic import And, Forall, Equals, InSet, NotEquals, Or\n",
    "from proveit.number import (Abs, Add, Exp, frac,  Greater, GreaterEq, Less,\n",
    "                            LessEq, LesserSequence, Mult, Neg, sqrt, subtract)\n",
    "from proveit.number import (zero, one, two, three, e, Naturals, NaturalsPos,\n",
    "                            Integers, Reals, RealsNonNeg, RealsPos, Complexes)\n",
    "from proveit.number.exponentiation._common_ import (\n",
    "    prod_a_raise_ki__1_to_m, prod_a_raise_bi__1_to_m, \n",
    "    prod_ai_raise_n__1_to_m, prod_ai_raise_b__1_to_m, nonzero_a_1_to_m)\n",
    "# the context is in the current directory:\n",
    "context = proveit.Context('.') # adds context root to sys.path if necessary"
   ]
  },
  {
   "cell_type": "code",
   "execution_count": null,
   "metadata": {},
   "outputs": [],
   "source": [
    "%begin theorems"
   ]
  },
  {
   "cell_type": "markdown",
   "metadata": {},
   "source": [
    "### Basic Operation Theorems"
   ]
  },
  {
   "cell_type": "code",
   "execution_count": null,
   "metadata": {},
   "outputs": [],
   "source": [
    "exponentiatedOne = Forall([x], Equals(Exp(one, x), one), domain=Complexes)"
   ]
  },
  {
   "cell_type": "code",
   "execution_count": null,
   "metadata": {},
   "outputs": [],
   "source": [
    "expZeroEqOne = Forall([a], Equals(Exp(a, zero), one), domain=Complexes, conditions=[NotEquals(a, zero)])"
   ]
  },
  {
   "cell_type": "code",
   "execution_count": null,
   "metadata": {},
   "outputs": [],
   "source": [
    "exponentiatedZero = Forall([x], Equals(Exp(zero, x), zero), domain=Complexes, conditions=[NotEquals(x, zero)])"
   ]
  },
  {
   "cell_type": "code",
   "execution_count": null,
   "metadata": {},
   "outputs": [],
   "source": [
    "expNotEqZero = Forall(\n",
    "    [a, b],\n",
    "    NotEquals(Exp(a,b), zero),\n",
    "    domain=Complexes,\n",
    "    conditions=[NotEquals(a, zero)])"
   ]
  },
  {
   "cell_type": "code",
   "execution_count": null,
   "metadata": {},
   "outputs": [],
   "source": [
    "natXToFirstPowerIsX = Forall(\n",
    "        n,\n",
    "        Equals(Exp(n, one), n),\n",
    "        domain=Naturals)"
   ]
  },
  {
   "cell_type": "code",
   "execution_count": null,
   "metadata": {},
   "outputs": [],
   "source": [
    "realXToFirstPowerIsX = Forall(\n",
    "        x,\n",
    "        Equals(Exp(x, one), x),\n",
    "        domain=Reals)"
   ]
  },
  {
   "cell_type": "code",
   "execution_count": null,
   "metadata": {},
   "outputs": [],
   "source": [
    "complexXToFirstPowerIsX = Forall([x],\n",
    "               Equals(Exp(x,one),\n",
    "                      x),\n",
    "               domain = Complexes)"
   ]
  },
  {
   "cell_type": "markdown",
   "metadata": {},
   "source": [
    "### Closure Theorems for General Exponentials"
   ]
  },
  {
   "cell_type": "code",
   "execution_count": null,
   "metadata": {},
   "outputs": [],
   "source": [
    "expNatClosure = Forall(\n",
    "    (a, b), \n",
    "    InSet(Exp(a, b), NaturalsPos),\n",
    "    domains=(NaturalsPos, Naturals))"
   ]
  },
  {
   "cell_type": "code",
   "execution_count": null,
   "metadata": {},
   "outputs": [],
   "source": [
    "expRealClosureExpNonZero = Forall(\n",
    "    (a, b),\n",
    "    InSet(Exp(a, b), Reals),\n",
    "    domain=Reals,\n",
    "    conditions=[GreaterEq(a, zero), NotEquals(b, zero)])"
   ]
  },
  {
   "cell_type": "code",
   "execution_count": null,
   "metadata": {},
   "outputs": [],
   "source": [
    "expRealClosureBasePos = Forall(\n",
    "    (a, b),\n",
    "    InSet(Exp(a, b), Reals),\n",
    "    domain=Reals,\n",
    "    conditions=[Greater(a, zero)])"
   ]
  },
  {
   "cell_type": "code",
   "execution_count": null,
   "metadata": {},
   "outputs": [],
   "source": [
    "expRealClosure = Forall(\n",
    "    (a, b),\n",
    "    InSet(Exp(a, b), Reals),\n",
    "    domain=Reals,\n",
    "    conditions=[Or(Greater(a, zero), And(GreaterEq(a, zero), NotEquals(b, zero)))])"
   ]
  },
  {
   "cell_type": "code",
   "execution_count": null,
   "metadata": {},
   "outputs": [],
   "source": [
    "expRealPosClosure = Forall(\n",
    "    (a, b),\n",
    "    InSet(Exp(a, b), RealsPos),\n",
    "    domain=Reals,\n",
    "    conditions=[Greater(a, zero)])"
   ]
  },
  {
   "cell_type": "code",
   "execution_count": null,
   "metadata": {},
   "outputs": [],
   "source": [
    "expComplexClosure = Forall(\n",
    "    (a, b),\n",
    "    InSet(Exp(a, b), Complexes),\n",
    "    domain=Complexes, \n",
    "    conditions=[Or(NotEquals(a, zero), NotEquals(b, zero))])"
   ]
  },
  {
   "cell_type": "markdown",
   "metadata": {},
   "source": [
    "### Closure Theorems for special case of a sqrt()"
   ]
  },
  {
   "cell_type": "code",
   "execution_count": null,
   "metadata": {},
   "outputs": [],
   "source": [
    "sqrtRealClosure = Forall(\n",
    "    (a),\n",
    "    InSet(sqrt(a), Reals),\n",
    "    domain=Reals,\n",
    "    conditions=[GreaterEq(a, zero)])"
   ]
  },
  {
   "cell_type": "code",
   "execution_count": null,
   "metadata": {},
   "outputs": [],
   "source": [
    "sqrtRealPosClosure = Forall(\n",
    "    (a),\n",
    "    InSet(sqrt(a), RealsPos),\n",
    "    domain=RealsPos)"
   ]
  },
  {
   "cell_type": "code",
   "execution_count": null,
   "metadata": {},
   "outputs": [],
   "source": [
    "sqrtComplexClosure = Forall(\n",
    "    (a),\n",
    "    InSet(sqrt(a), Complexes),\n",
    "    domain=Complexes)"
   ]
  },
  {
   "cell_type": "code",
   "execution_count": null,
   "metadata": {},
   "outputs": [],
   "source": [
    "sqrdPosClosure = Forall(\n",
    "    a,\n",
    "    InSet(Exp(a, two), RealsPos), \n",
    "    domain=Reals,\n",
    "    conditions=[NotEquals(a, zero)])"
   ]
  },
  {
   "cell_type": "markdown",
   "metadata": {},
   "source": [
    "### Theorems for the NumberRelation class"
   ]
  },
  {
   "cell_type": "code",
   "execution_count": null,
   "metadata": {},
   "outputs": [],
   "source": [
    "# Note: does allow 0^0 = 0^0 where both sides are undefined.  That's okay -- \"same\" nonsense is\n",
    "# equal in Prove-It.\n",
    "exp_eq = Forall((a, x, y), Equals(Exp(x, a), Exp(y, a)), condition=Equals(x, y), domain=Complexes)"
   ]
  },
  {
   "cell_type": "code",
   "execution_count": null,
   "metadata": {},
   "outputs": [],
   "source": [
    "# Note: this does not necessarily extend to the complex domain where\n",
    "# exponentiation can have periodicity (e.g., exp(2 pi i )).\n",
    "exp_neq = Forall((a, x, y), NotEquals(Exp(x, a), Exp(y, a)), \n",
    "                 conditions=[NotEquals(x, y), NotEquals(a, zero)], domain=Reals)"
   ]
  },
  {
   "cell_type": "code",
   "execution_count": null,
   "metadata": {},
   "outputs": [],
   "source": [
    "exp_pos_less = Forall((a, x, y), Less(Exp(x, a), Exp(y, a)), \n",
    "                             conditions=[LesserSequence((LessEq._operator_, Less._operator_), (zero, x, y)),\n",
    "                                         Greater(a, zero)], domain=Reals)"
   ]
  },
  {
   "cell_type": "code",
   "execution_count": null,
   "metadata": {},
   "outputs": [],
   "source": [
    "exp_nonneg_less = Forall((a, x, y), LessEq(Exp(x, a), Exp(y, a)), \n",
    "                         conditions=[LesserSequence((Less._operator_, Less._operator_), (zero, x, y)), \n",
    "                                     GreaterEq(a, zero)], domain=Reals)"
   ]
  },
  {
   "cell_type": "code",
   "execution_count": null,
   "metadata": {},
   "outputs": [],
   "source": [
    "exp_neg_less = Forall((a, x, y), Less(Exp(y, a), Exp(x, a)), \n",
    "                      conditions=[LesserSequence((Less._operator_, Less._operator_), (zero, x, y)),\n",
    "                                  Less(a, zero)], domain=Reals)"
   ]
  },
  {
   "cell_type": "code",
   "execution_count": null,
   "metadata": {},
   "outputs": [],
   "source": [
    "exp_nonpos_less = Forall((a, x, y), LessEq(Exp(y, a), Exp(x, a)), \n",
    "                         conditions=[LesserSequence((Less._operator_, Less._operator_), (zero, x, y)),\n",
    "                                     LessEq(a, zero)], domain=Reals)"
   ]
  },
  {
   "cell_type": "code",
   "execution_count": null,
   "metadata": {},
   "outputs": [],
   "source": [
    "exp_pos_lesseq = Forall((a, x, y), LessEq(Exp(x, a), Exp(y, a)), \n",
    "                             conditions=[LesserSequence((LessEq._operator_, LessEq._operator_), (zero, x, y)),\n",
    "                                         Greater(a, zero)], domain=Reals)"
   ]
  },
  {
   "cell_type": "code",
   "execution_count": null,
   "metadata": {},
   "outputs": [],
   "source": [
    "exp_nonneg_lesseq = Forall((a, x, y), LessEq(Exp(x, a), Exp(y, a)), \n",
    "                           conditions=[LesserSequence((Less._operator_, LessEq._operator_), (zero, x, y)), \n",
    "                                       GreaterEq(a, zero)], domain=Reals)"
   ]
  },
  {
   "cell_type": "code",
   "execution_count": null,
   "metadata": {},
   "outputs": [],
   "source": [
    "exp_neg_lesseq = Forall((a, x, y), LessEq(Exp(y, a), Exp(x, a)), \n",
    "                      conditions=[LesserSequence((Less._operator_, LessEq._operator_), (zero, x, y)),\n",
    "                                  Less(a, zero)], domain=Reals)"
   ]
  },
  {
   "cell_type": "code",
   "execution_count": null,
   "metadata": {},
   "outputs": [],
   "source": [
    "exp_nonpos_lesseq = Forall((a, x, y), LessEq(Exp(y, a), Exp(x, a)), \n",
    "                           conditions=[LesserSequence((Less._operator_, LessEq._operator_), (zero, x, y)),\n",
    "                                       LessEq(a, zero)], domain=Reals)"
   ]
  },
  {
   "cell_type": "markdown",
   "metadata": {},
   "source": [
    "## Exponentiation laws for positive whole number exponents"
   ]
  },
  {
   "cell_type": "code",
   "execution_count": null,
   "metadata": {},
   "outputs": [],
   "source": [
    "product_of_posnat_powers = Forall((a, m, n), Equals(Mult(Exp(a, m), Exp(a, n)), Exp(a, Add(m, n))),\n",
    "                                  domains=(Complexes, NaturalsPos, NaturalsPos))"
   ]
  },
  {
   "cell_type": "code",
   "execution_count": null,
   "metadata": {},
   "outputs": [],
   "source": [
    "products_of_posnat_powers = Forall(m, Forall((a, k_1_to_m), Equals(prod_a_raise_ki__1_to_m, Exp(a, Add(k_1_to_m))),\n",
    "                                             domains=(Complexes, NaturalsPos)),\n",
    "                                   domain=NaturalsPos)"
   ]
  },
  {
   "cell_type": "code",
   "execution_count": null,
   "metadata": {},
   "outputs": [],
   "source": [
    "quotient_of_posnat_powers = Forall((a, m, n), Equals(frac(Exp(a, m), Exp(a, n)), Exp(a, subtract(m, n))),\n",
    "                                   domains=(Complexes, NaturalsPos, NaturalsPos),\n",
    "                                   condition=NotEquals(a, zero))"
   ]
  },
  {
   "cell_type": "code",
   "execution_count": null,
   "metadata": {},
   "outputs": [],
   "source": [
    "posnat_power_of_product = Forall((a, b, n), Equals(Exp(Mult(a, b), n), Mult(Exp(a, n), Exp(b, n))),\n",
    "                                  domains=(Complexes, Complexes, NaturalsPos))"
   ]
  },
  {
   "cell_type": "code",
   "execution_count": null,
   "metadata": {},
   "outputs": [],
   "source": [
    "posnat_power_of_products = Forall((m, n), Forall(a_1_to_m, Equals(Exp(Mult(a_1_to_m), n), \n",
    "                                                                  prod_ai_raise_n__1_to_m),\n",
    "                                                 domain=Complexes),\n",
    "                                  domain=NaturalsPos)"
   ]
  },
  {
   "cell_type": "code",
   "execution_count": null,
   "metadata": {},
   "outputs": [],
   "source": [
    "posnat_power_of_quotient = Forall((a, b, n), Equals(Exp(frac(a, b), n), frac(Exp(a, n), Exp(b, n))),\n",
    "                                  domains=(Complexes, Complexes, NaturalsPos),\n",
    "                                  condition=NotEquals(b, zero))"
   ]
  },
  {
   "cell_type": "code",
   "execution_count": null,
   "metadata": {},
   "outputs": [],
   "source": [
    "posnat_power_of_posnat_power = Forall((a, m, n), Equals(Exp(Exp(a, m), n), Exp(a, Mult(m, n))),\n",
    "                               domains=(Complexes, NaturalsPos, NaturalsPos))"
   ]
  },
  {
   "cell_type": "markdown",
   "metadata": {},
   "source": [
    "## Exponentiation laws for positive, real exponents\n",
    "These can be understood via $a = r \\cdot e^{i \\theta}$ for general $a \\in \\mathbb{C}$.  Then $a^b = r^b \\cdot e^{i b \\theta}$ for $b \\in \\mathbb{R}$ and $b \\neq 0$, and $e^{i b} \\cdot e^{i c} = e^{i (b + c)}$."
   ]
  },
  {
   "cell_type": "code",
   "execution_count": null,
   "metadata": {},
   "outputs": [],
   "source": [
    "product_of_pos_powers = Forall((a, b, c), Equals(Mult(Exp(a, b), Exp(a, c)), Exp(a, Add(b, c))),\n",
    "                               domains=(Complexes, RealsPos, RealsPos))"
   ]
  },
  {
   "cell_type": "code",
   "execution_count": null,
   "metadata": {},
   "outputs": [],
   "source": [
    "products_of_pos_powers = Forall(m, Forall((a, b_1_to_m), Equals(prod_a_raise_bi__1_to_m, Exp(a, Add(b_1_to_m))),\n",
    "                                             domains=(Complexes, RealsPos)),\n",
    "                                   domain=NaturalsPos)"
   ]
  },
  {
   "cell_type": "code",
   "execution_count": null,
   "metadata": {},
   "outputs": [],
   "source": [
    "quotient_of_pos_powers = Forall((a, b, c), Equals(frac(Exp(a, b), Exp(a, c)), Exp(a, subtract(b, c))),\n",
    "                                domains=(Complexes, RealsPos, RealsPos),\n",
    "                                condition=NotEquals(a, zero))"
   ]
  },
  {
   "cell_type": "code",
   "execution_count": null,
   "metadata": {},
   "outputs": [],
   "source": [
    "pos_power_of_product = Forall((a, b, c), Equals(Exp(Mult(a, b), c), Mult(Exp(a, c), Exp(b, c))),\n",
    "                              domains=(Complexes, Complexes, RealsPos))"
   ]
  },
  {
   "cell_type": "code",
   "execution_count": null,
   "metadata": {},
   "outputs": [],
   "source": [
    "pos_power_of_products = Forall(m, Forall((a_1_to_m, b), Equals(Exp(Mult(a_1_to_m), b), \n",
    "                                                               prod_ai_raise_b__1_to_m),\n",
    "                                         domains=(Complexes, RealsPos)),\n",
    "                                  domain=NaturalsPos)"
   ]
  },
  {
   "cell_type": "code",
   "execution_count": null,
   "metadata": {},
   "outputs": [],
   "source": [
    "pos_power_of_quotient = Forall((a, b, c), Equals(Exp(frac(a, b), c), frac(Exp(a, c), Exp(b, c))),\n",
    "                               domains=(Complexes, Complexes, RealsPos),\n",
    "                               condition=NotEquals(b, zero))"
   ]
  },
  {
   "cell_type": "code",
   "execution_count": null,
   "metadata": {},
   "outputs": [],
   "source": [
    "pos_power_of_pos_power = Forall((a, b, c), Equals(Exp(Exp(a, b), c), Exp(a, Mult(b, c))),\n",
    "                            domains=(Complexes, RealsPos, RealsPos))"
   ]
  },
  {
   "cell_type": "markdown",
   "metadata": {},
   "source": [
    "## Exponentiation laws for real exponents\n",
    "\n",
    "Similar to the laws for positive exponents, but we need other means of avoiding $0^0$ which is undefined."
   ]
  },
  {
   "cell_type": "code",
   "execution_count": null,
   "metadata": {},
   "outputs": [],
   "source": [
    "product_of_real_powers = Forall((a, b, c), Equals(Mult(Exp(a, b), Exp(a, c)), Exp(a, Add(b, c))),\n",
    "                                domains=(Complexes, Reals, Reals), condition=NotEquals(a, zero))"
   ]
  },
  {
   "cell_type": "code",
   "execution_count": null,
   "metadata": {},
   "outputs": [],
   "source": [
    "products_of_real_powers = Forall(m, Forall((a, b_1_to_m), Equals(prod_a_raise_bi__1_to_m, Exp(a, Add(b_1_to_m))),\n",
    "                                           domains=(Complexes, Reals), condition=NotEquals(a, zero)),\n",
    "                                   domain=NaturalsPos)"
   ]
  },
  {
   "cell_type": "code",
   "execution_count": null,
   "metadata": {},
   "outputs": [],
   "source": [
    "quotient_of_real_powers = Forall((a, b, c), Equals(frac(Exp(a, b), Exp(a, c)), Exp(a, subtract(b, c))),\n",
    "                                 domains=(Complexes, Reals, Reals), condition=NotEquals(a, zero))"
   ]
  },
  {
   "cell_type": "code",
   "execution_count": null,
   "metadata": {},
   "outputs": [],
   "source": [
    "real_power_of_product = Forall((a, b, c), Equals(Exp(Mult(a, b), c), Mult(Exp(a, c), Exp(b, c))),\n",
    "                               domains=(Complexes, Complexes, Reals),\n",
    "                               conditions = [NotEquals(a, zero), NotEquals(b, zero)])"
   ]
  },
  {
   "cell_type": "code",
   "execution_count": null,
   "metadata": {},
   "outputs": [],
   "source": [
    "real_power_of_products = Forall(m, Forall((a_1_to_m, b), Equals(Exp(Mult(a_1_to_m), b), \n",
    "                                                                prod_ai_raise_b__1_to_m),\n",
    "                                          domains=(Complexes, RealsPos), conditions=nonzero_a_1_to_m),\n",
    "                                domain=NaturalsPos)"
   ]
  },
  {
   "cell_type": "code",
   "execution_count": null,
   "metadata": {},
   "outputs": [],
   "source": [
    "real_power_of_quotient = Forall((a, b, c), Equals(Exp(frac(a, b), c), frac(Exp(a, c), Exp(b, c))),\n",
    "                                domains=(Complexes, Complexes, Reals),\n",
    "                                conditions = [NotEquals(a, zero), NotEquals(b, zero)])"
   ]
  },
  {
   "cell_type": "code",
   "execution_count": null,
   "metadata": {},
   "outputs": [],
   "source": [
    "real_power_of_real_power = Forall((a, b, c), Equals(Exp(Exp(a, b), c), Exp(a, Mult(b, c))),\n",
    "                             domains=(Complexes, Reals, Reals),\n",
    "                             condition = NotEquals(a, zero))"
   ]
  },
  {
   "cell_type": "code",
   "execution_count": null,
   "metadata": {},
   "outputs": [],
   "source": [
    "negated_real_power_of_real_power = Forall((a, b, c), Equals(Exp(Exp(a, b), Neg(c)), Exp(a, Neg(Mult(b, c)))),\n",
    "                                     domains=(Complexes, Reals, Reals),\n",
    "                                     condition = NotEquals(a, zero))"
   ]
  },
  {
   "cell_type": "code",
   "execution_count": null,
   "metadata": {},
   "outputs": [],
   "source": [
    "real_power_of_negated_real_power = Forall((a, b, c), Equals(Exp(Exp(a, Neg(b)), c), Exp(a, Neg(Mult(b, c)))),\n",
    "                                          domains=(Complexes, Reals, Reals),\n",
    "                                          condition = NotEquals(a, zero))"
   ]
  },
  {
   "cell_type": "code",
   "execution_count": null,
   "metadata": {},
   "outputs": [],
   "source": [
    "negated_real_power_of_negated_real_power = Forall((a, b, c), Equals(Exp(Exp(a, Neg(b)), Neg(c)), Exp(a, Mult(b, c))),\n",
    "                                                  domains=(Complexes, Reals, Reals),\n",
    "                                                  condition = NotEquals(a, zero))"
   ]
  },
  {
   "cell_type": "markdown",
   "metadata": {},
   "source": [
    "## Complex exponentiation"
   ]
  },
  {
   "cell_type": "markdown",
   "metadata": {},
   "source": [
    "***Note (to be added):***"
   ]
  },
  {
   "cell_type": "markdown",
   "metadata": {},
   "source": [
    "$e^{a + b i} = e^a \\cdot e^{bi}$"
   ]
  },
  {
   "cell_type": "markdown",
   "metadata": {},
   "source": [
    "$a^{b + i c}$ = $e^{ln(a) \\cdot (b + i c)}$ if $a \\in \\mathbb{R}$"
   ]
  },
  {
   "cell_type": "markdown",
   "metadata": {},
   "source": [
    "$(a + i b)^{c + i d} = (a^2 + b^2)^{(c + i d)/2/} \\cdot e^{i (c + i d) arg(a + i b)}$"
   ]
  },
  {
   "cell_type": "markdown",
   "metadata": {},
   "source": [
    "## Exponentiation laws for complex  exponents and positive, real base\n",
    "\n",
    "### Use $a^{b + i c}$ = $e^{ln(a) \\cdot (b + i c)}$ if $a > 0$."
   ]
  },
  {
   "cell_type": "markdown",
   "metadata": {},
   "source": [
    "$a^b \\cdot a^c = e^{ln(a) b} \\cdot e^{ln(a) c} = e^{ln(a) (b + c)} = a^{b+c}$ if $a > 0$."
   ]
  },
  {
   "cell_type": "code",
   "execution_count": null,
   "metadata": {},
   "outputs": [],
   "source": [
    "product_of_complex_powers = Forall((a, b, c), Equals(Mult(Exp(a, b), Exp(a, c)), Exp(a, Add(b, c))),\n",
    "                                   domains=(RealsPos, Complexes, Complexes))"
   ]
  },
  {
   "cell_type": "code",
   "execution_count": null,
   "metadata": {},
   "outputs": [],
   "source": [
    "products_of_complex_powers = Forall(m, Forall((a, b_1_to_m), Equals(prod_a_raise_bi__1_to_m, Exp(a, Add(b_1_to_m))),\n",
    "                                           domains=(RealsPos, Complexes)),\n",
    "                                 domain=NaturalsPos)"
   ]
  },
  {
   "cell_type": "code",
   "execution_count": null,
   "metadata": {},
   "outputs": [],
   "source": [
    "quotient_of_complex_powers = Forall((a, b, c), Equals(frac(Exp(a, b), Exp(a, c)), Exp(a, subtract(b, c))),\n",
    "                                    domains=(RealsPos, Complexes, Complexes))"
   ]
  },
  {
   "cell_type": "markdown",
   "metadata": {},
   "source": [
    "$(a \\cdot b)^c = e^{ln(a \\cdot b) c} = e^{(ln(a) + ln(b)) c} = e^{ln(a) c} e^{ln(b) c} = a^c \\cdot b^c$ if $a > 0$ and $b > 0$."
   ]
  },
  {
   "cell_type": "code",
   "execution_count": null,
   "metadata": {},
   "outputs": [],
   "source": [
    "complex_power_of_product = Forall((a, b, c), Equals(Exp(Mult(a, b), c), Mult(Exp(a, c), Exp(b, c))),\n",
    "                                  domains=(RealsPos, RealsPos, Complexes))"
   ]
  },
  {
   "cell_type": "code",
   "execution_count": null,
   "metadata": {},
   "outputs": [],
   "source": [
    "complex_power_of_products = Forall(m, Forall((a_1_to_m, b), Equals(Exp(Mult(a_1_to_m), b), \n",
    "                                                                   prod_ai_raise_b__1_to_m),\n",
    "                                             domains=(RealsPos, Complexes)),\n",
    "                                   domain=NaturalsPos)"
   ]
  },
  {
   "cell_type": "code",
   "execution_count": null,
   "metadata": {},
   "outputs": [],
   "source": [
    "complex_power_of_quotient = Forall((a, b, c), Equals(Exp(frac(a, b), c), frac(Exp(a, c), Exp(b, c))),\n",
    "                                   domains=(RealsPos, RealsPos, Complexes))"
   ]
  },
  {
   "cell_type": "markdown",
   "metadata": {},
   "source": [
    "$(a^b)^c = (e^{ln(a) \\cdot b})^c = e^{ln(a) \\cdot b \\cdot c} = a^{b \\cdot c}$ if $a > 0$."
   ]
  },
  {
   "cell_type": "code",
   "execution_count": null,
   "metadata": {},
   "outputs": [],
   "source": [
    "complex_power_of_complex_power = Forall((a, b, c), Equals(Exp(Exp(a, b), c), Exp(a, Mult(b, c))),\n",
    "                                        domains=(RealsPos, Complexes, Complexes))"
   ]
  },
  {
   "cell_type": "markdown",
   "metadata": {},
   "source": [
    "### Other Misc Theorems"
   ]
  },
  {
   "cell_type": "code",
   "execution_count": null,
   "metadata": {},
   "outputs": [],
   "source": [
    "# lower bound for exponentials with natural positive base and natural positive exp\n",
    "natPosToNatPosLowerBound = Forall(\n",
    "    (a, b),\n",
    "    GreaterEq(Exp(a, b), a),\n",
    "    domain = NaturalsPos)"
   ]
  },
  {
   "cell_type": "code",
   "execution_count": null,
   "metadata": {},
   "outputs": [],
   "source": [
    "# Note: if |a| <= b then b >= 0 and |b| = b.\n",
    "squarePosIneq = Forall(\n",
    "    (a,b),\n",
    "    LessEq(Exp(Abs(a),two),Exp(b,two)),\n",
    "    domain = Reals,\n",
    "    conditions = (LessEq(Abs(a),b),))"
   ]
  },
  {
   "cell_type": "code",
   "execution_count": null,
   "metadata": {},
   "outputs": [],
   "source": [
    "squarePosEq = Forall(\n",
    "    a,\n",
    "    Equals(Exp(Abs(a),two),Exp(a,two)),\n",
    "    domain = Reals)"
   ]
  },
  {
   "cell_type": "code",
   "execution_count": null,
   "metadata": {},
   "outputs": [],
   "source": [
    "# covered by product_of_complex_powers\n",
    "# # not true for general a in C, but true for a in R\n",
    "# # except a = 0 \n",
    "# # noting $a^{b + i c}$ = $e^{ln(a) \\cdot (b + i c)}$.\n",
    "# sumInExp = Forall([a,b,c],\n",
    "#     Equals(Mult(Exp(a,b),Exp(a,c)), Exp(a,Add(b,c))),\n",
    "#     domains = (Reals, Complexes, Complexes),\n",
    "#     conditions=[NotEquals(a, zero)])"
   ]
  },
  {
   "cell_type": "code",
   "execution_count": null,
   "metadata": {},
   "outputs": [],
   "source": [
    "# true even for complex a = r exp(i theta),\n",
    "# but exclude a = 0 to avoid 0^0 which is undefined.\n",
    "addOneRightInExp = Forall(\n",
    "    [a,b],\n",
    "    Equals(Mult(Exp(a,b),a), Exp(a,Add(b,one))),\n",
    "    domain = Complexes,\n",
    "    conditions=[NotEquals(a, zero)])"
   ]
  },
  {
   "cell_type": "code",
   "execution_count": null,
   "metadata": {},
   "outputs": [],
   "source": [
    "# true even for complex a = r exp(i theta)\n",
    "# but exclude a = 0 to avoid 0^0 which is undefined.\n",
    "addOneLeftInExp = Forall(\n",
    "    [a,b],\n",
    "    Equals(Mult(a, Exp(a,b)), Exp(a,Add(one, b))),\n",
    "    domain = Complexes,\n",
    "    conditions=[NotEquals(a, zero)])"
   ]
  },
  {
   "cell_type": "code",
   "execution_count": null,
   "metadata": {},
   "outputs": [],
   "source": [
    "# Redundant.  Handled by sumInExp.\n",
    "# diffInExp = Forall(\n",
    "#     [a,b,c],\n",
    "#     Equals(Mult(Exp(a,b),Exp(a,Neg(c))), Exp(a,subtract(b,c))),\n",
    "#     domains = [Reals, Complexes, Complexes],\n",
    "#     conditions=[NotEquals(a, zero)])"
   ]
  },
  {
   "cell_type": "code",
   "execution_count": null,
   "metadata": {},
   "outputs": [],
   "source": [
    "# diffFracInExp = Forall(\n",
    "#     [a,b,c,d],\n",
    "#     Equals(Mult(Exp(a,b),Exp(a,frac(Neg(c), d))),\n",
    "#            Exp(a, subtract(b,frac(c, d)))),\n",
    "#     domain = Reals,\n",
    "#     conditions=[NotEquals(a, zero), NotEquals(d, zero)])"
   ]
  },
  {
   "cell_type": "code",
   "execution_count": null,
   "metadata": {},
   "outputs": [],
   "source": [
    "# same as complex_power_of_product\n",
    "# expOfPositivesProd = Forall(\n",
    "#     c,\n",
    "#     Forall((a, b),\n",
    "#            Equals(Exp(Mult(a,b),c), Mult(Exp(a,c),Exp(b,c))),\n",
    "#            domain=RealsPos),\n",
    "#     domain=Complexes)"
   ]
  },
  {
   "cell_type": "code",
   "execution_count": null,
   "metadata": {},
   "outputs": [],
   "source": [
    "# covered by real_power_of_product\n",
    "# intExpOfProd = Forall(\n",
    "#     n,\n",
    "#     Forall((a, b),\n",
    "#            Equals(Exp(Mult(a,b),n), Mult(Exp(a,n),Exp(b,n))),\n",
    "#            domain=Complexes,\n",
    "#            conditions=[NotEquals(a, zero), NotEquals(b, zero)]),\n",
    "#     domain=Integers)"
   ]
  },
  {
   "cell_type": "code",
   "execution_count": null,
   "metadata": {},
   "outputs": [],
   "source": [
    "# same posnat_power_of_product\n",
    "# natsPosExpOfProd = Forall(\n",
    "#     n,\n",
    "#     Forall((a, b),\n",
    "#            Equals(Exp(Mult(a,b),n), Mult(Exp(a,n),Exp(b,n))),\n",
    "#            domain=Complexes),\n",
    "#     domain=NaturalsPos)"
   ]
  },
  {
   "cell_type": "code",
   "execution_count": null,
   "metadata": {},
   "outputs": [],
   "source": [
    "# Not true in general\n",
    "# sameExpDistribute = Forall(\n",
    "#     [x,y,z],\n",
    "#     Equals(Mult(Exp(x,y),Exp(z,y)), Exp(Mult(x,z),y)),\n",
    "#     domain = Complexes)"
   ]
  },
  {
   "cell_type": "code",
   "execution_count": null,
   "metadata": {},
   "outputs": [],
   "source": [
    "# Works for integers powers through repetition of a^b (or a^{-b}) and adding exponents.\n",
    "# Does not work for fractional powers.  Consider sqrt[(-1)^2] = 1 not (-1)^{2*(1/2)} = -1.\n",
    "intExpOfExp = Forall(\n",
    "    n,\n",
    "    Forall((a, b),\n",
    "           Equals(Exp(Exp(a, b), n), Exp(a, Mult(b, n))), \n",
    "           domain=Complexes, conditions=[NotEquals(a, zero)]),\n",
    "    domain=Integers)"
   ]
  },
  {
   "cell_type": "code",
   "execution_count": null,
   "metadata": {},
   "outputs": [],
   "source": [
    "intExpOfNegExp = Forall(\n",
    "    n,\n",
    "    Forall((a, b),\n",
    "           Equals(Exp(Exp(a, Neg(b)), n), Exp(a, Neg(Mult(b, n)))),\n",
    "           domain=Complexes, conditions=[NotEquals(a, zero)]),\n",
    "    domain=Integers)"
   ]
  },
  {
   "cell_type": "code",
   "execution_count": null,
   "metadata": {},
   "outputs": [],
   "source": [
    "negIntExpOfExp = Forall(\n",
    "    n,\n",
    "    Forall((a, b),\n",
    "           Equals(Exp(Exp(a, b), Neg(n)), Exp(a, Neg(Mult(b, n)))),\n",
    "           domain=Complexes, conditions=[NotEquals(a, zero)]),\n",
    "    domain=Integers)"
   ]
  },
  {
   "cell_type": "code",
   "execution_count": null,
   "metadata": {},
   "outputs": [],
   "source": [
    "negIntExpOfNegExp = Forall(\n",
    "    n,\n",
    "    Forall((a, b),\n",
    "           Equals(Exp(Exp(a, Neg(b)), Neg(n)), Exp(a, Mult(b, n))),\n",
    "           domain=Complexes, conditions=[NotEquals(a, zero)]),\n",
    "    domain=Integers)"
   ]
  },
  {
   "cell_type": "code",
   "execution_count": null,
   "metadata": {},
   "outputs": [],
   "source": [
    "diffSquareComm = Forall(\n",
    "    [a,b],\n",
    "    Equals(Exp(subtract(a,b),two),Exp(subtract(b,a),two)),\n",
    "    domain = Complexes)"
   ]
  },
  {
   "cell_type": "code",
   "execution_count": null,
   "metadata": {},
   "outputs": [],
   "source": [
    "sqrtOfProd = Forall(\n",
    "    n,\n",
    "    Forall(a_1_to_n,\n",
    "           Equals(sqrt(Mult(a_1_to_n)), \n",
    "                  Mult(ExprRange(i, sqrt(IndexedVar(a, i)), one, n))),\n",
    "           domain = Complexes),\n",
    "    domain = NaturalsPos)"
   ]
  },
  {
   "cell_type": "code",
   "execution_count": null,
   "metadata": {},
   "outputs": [],
   "source": [
    "sqrtTimesItself = Forall(\n",
    "    x,\n",
    "    Equals(Mult(sqrt(x), sqrt(x)), x),\n",
    "    domain=Reals,\n",
    "    conditions=[GreaterEq(x, zero)])"
   ]
  },
  {
   "cell_type": "code",
   "execution_count": null,
   "metadata": {},
   "outputs": [],
   "source": [
    "nth_power_of_nth_root = Forall(\n",
    "    (n, x),\n",
    "    Equals(Exp(Exp(x, frac(one, n)), n), x),\n",
    "    domains=[NaturalsPos, RealsPos])"
   ]
  },
  {
   "cell_type": "code",
   "execution_count": null,
   "metadata": {},
   "outputs": [],
   "source": []
  },
  {
   "cell_type": "markdown",
   "metadata": {},
   "source": [
    "### Expansion Theorems"
   ]
  },
  {
   "cell_type": "code",
   "execution_count": null,
   "metadata": {},
   "outputs": [],
   "source": [
    "# until we have the more general \"exp_expansion\"\n",
    "square_expansion = Forall(\n",
    "    x,\n",
    "    Equals(Exp(x, two), Mult(x, x)),\n",
    "    domain=Complexes)"
   ]
  },
  {
   "cell_type": "code",
   "execution_count": null,
   "metadata": {},
   "outputs": [],
   "source": [
    "# until we have the more general \"exp_expansion\"\n",
    "cube_expansion = Forall(\n",
    "    x,\n",
    "    Equals(Exp(x, three), Mult(x, x, x)),\n",
    "    domain=Complexes)"
   ]
  },
  {
   "cell_type": "markdown",
   "metadata": {},
   "source": [
    "*Note: Could eventually include generalizations to “even power closure,” etc, but need to define and implement an Evens set to do this*"
   ]
  },
  {
   "cell_type": "code",
   "execution_count": null,
   "metadata": {},
   "outputs": [],
   "source": [
    "%end theorems"
   ]
  },
  {
   "cell_type": "code",
   "execution_count": null,
   "metadata": {},
   "outputs": [],
   "source": []
  }
 ],
 "metadata": {
  "kernelspec": {
   "display_name": "Python 3",
   "language": "python",
   "name": "python3"
  }
 },
 "nbformat": 4,
 "nbformat_minor": 0
}
