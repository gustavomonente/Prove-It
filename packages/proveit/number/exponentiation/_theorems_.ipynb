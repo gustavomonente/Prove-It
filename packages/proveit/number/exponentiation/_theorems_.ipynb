{
 "cells": [
  {
   "cell_type": "markdown",
   "metadata": {},
   "source": [
    "Theorems for context <a href=\"_context_.ipynb\" class=\"ProveItLink\">proveit.number.exponentiation</a>\n",
    "========"
   ]
  },
  {
   "cell_type": "code",
   "execution_count": 1,
   "metadata": {},
   "outputs": [],
   "source": [
    "import proveit\n",
    "# Automation is not needed when building theorem expressions:\n",
    "proveit.defaults.automation = False # This will speed things up.\n",
    "from proveit import IndexedVar, ExprRange\n",
    "from proveit._common_ import a, b, c, d, i, n, x, y, z\n",
    "from proveit.core_expr_types._common_ import a_1_to_n\n",
    "from proveit.logic import And, Forall, Equals, InSet, NotEquals, Or\n",
    "from proveit.number import (zero, one, two, Abs, Add, Complexes, Exp, frac,\n",
    "                            Greater, GreaterEq, Integers, LessEq, Mult, Naturals,\n",
    "                            NaturalsPos, Neg, Reals, RealsNonNeg, RealsPos, sqrt, subtract)\n",
    "# the context is in the current directory:\n",
    "context = proveit.Context('.') # adds context root to sys.path if necessary"
   ]
  },
  {
   "cell_type": "code",
   "execution_count": 2,
   "metadata": {},
   "outputs": [
    {
     "name": "stdout",
     "output_type": "stream",
     "text": [
      "Defining theorems for context 'proveit.number.exponentiation'\n",
      "Subsequent end-of-cell assignments will define theorems\n",
      "'%end theorems' will finalize the definitions\n"
     ]
    }
   ],
   "source": [
    "%begin theorems"
   ]
  },
  {
   "cell_type": "markdown",
   "metadata": {},
   "source": [
    "### Basic Operation Theorems"
   ]
  },
  {
   "cell_type": "code",
   "execution_count": 3,
   "metadata": {},
   "outputs": [
    {
     "data": {
      "text/html": [
       "<strong id=\"exponentiatedOne\"><a class=\"ProveItLink\" href=\"_proofs_/exponentiatedOne.ipynb\">exponentiatedOne</a>:</strong> <a class=\"ProveItLink\" href=\"__pv_it/8b2e697c051dfd4f5345d90d4eca96f5086609c80/expr.ipynb\"><img src=\"data:image/png;base64,iVBORw0KGgoAAAANSUhEUgAAAH8AAAAVBAMAAACd/CwcAAAAMFBMVEX///8QEBCIiIhmZma6urrM\n",
       "zMxUVFQiIiJERETc3Nzu7u6qqqp2dnaYmJgyMjIAAAAcRTyBAAAAAXRSTlMAQObYZgAAAaZJREFU\n",
       "OMtjYCAGHDJVC2AgB3BeAFNMC/LYHbDJ7wTiByDGXRwGrIBQrAxvscuzTWBgOA1ivMJhwEsg3rgA\n",
       "SPzElOOWYmDgAlo/A+TSBuz6eQ0YuHLygQawfmBFl1t27BcocBgY+IDyPBuwG8AOdCHD/QUM83ke\n",
       "8GCaDjJgIZA+tWrVdBw+AIsDDVh25dAp7AbwAcP2R0dHDQ4DlKEGYPcfyAAeAwaGVAaGThwG9KIb\n",
       "cO4dCDxGGMALDEVncFgihW5PehKUWU3QBdwFwJBiYLoAFePaY3yBK2IB6xsoX4SgAawfgN64wA4T\n",
       "u7FzFQPvHAaGPSQZwPkgDJraWYAhwuC6FSiEywuQMHiGMIAF6AWGzhRoaucDid+6iScQMVwACkSG\n",
       "zQXQ1L4YJL5rJ0LNYRChj8MAJpABzAeABL8CAyS1h3d0dCjMDkWocQdiM/nHF7DpZ078ZwtMSKBc\n",
       "zruAAZLa2cASi4CxgZyU8YLlMAY4tfOAjOO0CQBlEVhmIlTSwPMWOLV3g5hr3rXBS59OAvpRkyAw\n",
       "XIBhgK1AwQk4JhBXpOEEwCgHAOXhhUBQXQjsAAAAAElFTkSuQmCC\n",
       "\" style=\"display:inline;vertical-align:middle;\" /></a><br>"
      ],
      "text/plain": [
       "exponentiatedOne: forall_{x in Complexes} (1^{x} = 1)"
      ]
     },
     "execution_count": 3,
     "metadata": {},
     "output_type": "execute_result"
    }
   ],
   "source": [
    "exponentiatedOne = Forall([x], Equals(Exp(one, x), one), domain=Complexes)"
   ]
  },
  {
   "cell_type": "code",
   "execution_count": 4,
   "metadata": {},
   "outputs": [
    {
     "data": {
      "text/html": [
       "<strong id=\"expZeroEqOne\"><a class=\"ProveItLink\" href=\"_proofs_/expZeroEqOne.ipynb\">expZeroEqOne</a>:</strong> <a class=\"ProveItLink\" href=\"__pv_it/95b26277b9e05f0b32fa0d49506eab49cced30c20/expr.ipynb\"><img src=\"data:image/png;base64,iVBORw0KGgoAAAANSUhEUgAAALEAAAAcCAMAAAAZda7HAAAAOVBMVEX///8oKCgUFBQNDQ0QEBCI\n",
       "iIhmZma6urrMzMxUVFQiIiJERETc3Nzu7u6qqqp2dnaYmJgyMjIAAAArQGDrAAAAAXRSTlMAQObY\n",
       "ZgAAAmpJREFUWMPVV4uSoyAQdHdhYHjj/3/s8VA0Cgb1zN5RlVRiGG16enomw/Cbi1pqh/9puQDX\n",
       "4D8NkbOXryJ+HXV3Rn4B8CufeuThnZjecPb5dPhXOvmoItGuO966DwOGTVp5EoQ4kWwRA/xSBw+f\n",
       "QG0VmzkmJxBTiEybRs7++rKwuZB1PLK3kYbo+dDxTc4UyIdFsS+xLq/QaLHsEWZFrTUfFkVOco8f\n",
       "uxIKMtm4jkuJp9sFqfW8nVSOEdN0k1HGJZ5ul1BqXIEFSk5UzYKYpU8Y9T9I1X2Dw1LRrXlBznXC\n",
       "SHiUHyul6VcLqoh5KlYWf9T+oFSlRYGLCR2VKPDWvOCnC5q4WZDnOVbZWaKC6c6MtbEA4armMuzn\n",
       "3vYgVtj0ADGxBqf7xgqxzohj89vVnZNG6bjRqYTVdCGOh2vMC3OeiSxbLnOsfJlRNFD0RSpJddzk\n",
       "m6sq4hKQN9v2vCBxYinuMePwRsfY0HGGIRXmatKCT92+yNppt63JFeISgMlwfsLLNeYFlBPiyD36\n",
       "wajLXhFODJMoIDDLRaKulJ02B4hLQHZLczAv0MmPZbjuBA4n3JQWxMXUR7o0UhrzwUXiLNxdGc7b\n",
       "iEtAok8ezQszPRop5Qop6zZyJKMHt/S8nPrpUYEc6WLBLTICTRej3SBeAjBI7/srCtC15gXC7rch\n",
       "v7WY4O18ZPE4lq86VPxsq368BMzO1p4X4H5X1TsaGFJDcwJkMScdalgir6piFZCd7WBe4OT+bHI4\n",
       "NtGs45rp1jvjWwrx9nQo+LW4OmL/Pqf+LsVXdVVF7DoINHAL8PX/HNefa27ZBTz8t+6p9Qf5tRxZ\n",
       "ysuF8wAAAABJRU5ErkJggg==\n",
       "\" style=\"display:inline;vertical-align:middle;\" /></a><br>"
      ],
      "text/plain": [
       "expZeroEqOne: forall_{a in Complexes | a != 0} (a^{0} = 1)"
      ]
     },
     "execution_count": 4,
     "metadata": {},
     "output_type": "execute_result"
    }
   ],
   "source": [
    "expZeroEqOne = Forall([a], Equals(Exp(a, zero), one), domain=Complexes, conditions=[NotEquals(a, zero)])"
   ]
  },
  {
   "cell_type": "code",
   "execution_count": 5,
   "metadata": {},
   "outputs": [
    {
     "data": {
      "text/html": [
       "<strong id=\"exponentiatedZero\"><a class=\"ProveItLink\" href=\"_proofs_/exponentiatedZero.ipynb\">exponentiatedZero</a>:</strong> <a class=\"ProveItLink\" href=\"__pv_it/179815f1d7d05dbb250ee59d53b8bc8e538a6a330/expr.ipynb\"><img src=\"data:image/png;base64,iVBORw0KGgoAAAANSUhEUgAAAK8AAAAXCAMAAABK1e9fAAAAOVBMVEX///8QEBAoKCgUFBQNDQ2I\n",
       "iIhmZma6urrMzMxUVFQiIiJERETc3Nzu7u6qqqp2dnaYmJgyMjIAAAAMeWbTAAAAAXRSTlMAQObY\n",
       "ZgAAAlRJREFUSMfNV4uS2yAMJG15GYSA///YGoEx2MSh8XiuzOQ54rRZrVY6xn7uIBeKa8X+22N9\n",
       "+4kD04Etcva2s+k51M/ePwwXTKHVYyJ1fQQ/VYYcz3QCjG77PsDDeEMmaE0IC71l0U7cqvGQuLVm\n",
       "K5Z5GK4X9PwizqisKhLL17eaeOQNrTvRD53MqdGkxQg2Egr8cKvGJ4ITdo+Qjl2ebracIFJ+GR1o\n",
       "L5HjJxHWeNJGas5o0lnwYbyc5ABR5Px8ske7eEwfsgMaO5350oGIL74SdyoseYGNmJV7xouhOWKr\n",
       "Shfvk4yl2HrvnfEZ1IveE1w1plAksfWSPsrX5fwi558sZx/vSFPpiZ+cEBwKsX4LyqycqYAzeC2h\n",
       "pBkQD8p8yft6SIayFsJnzL2PGGchpfQ2/7QpvIbaOCaSX26Et/SPi7Nu1MVnvDYwpQ8jXW4Ckspl\n",
       "i7RDvP0OIIvYUuziR3pghm77CNf6rWrq4mWm1VgtDyO9ytmDP3aiGewAmkzmz/rwK970xxc+6rfO\n",
       "/6emTBvv84sTRQ51pIOozQbuAm+/A/BMYeb3dcCLYucZXvNbWRsviigb9eeRrhbiy3BmnVLv8XY7\n",
       "QNlnin7jwfZKLRkg/6clso0Pait6JayM9N2NBPDdWM94ywW9au73r6Q8/8Yfyjy+teAtR7OrIx0r\n",
       "A1bQexz5b7cDWN2OspP/ln3n3oJ/wN+MdOP2goRg2gqa4YXsZQUw4gCcuUkwXDYpz/odmex4Cn6c\n",
       "WHBzY/32947TTjiUvfUfjP+2PEO8/un1+fsjfjD3X5XjHI3FOCgZAAAAAElFTkSuQmCC\n",
       "\" style=\"display:inline;vertical-align:middle;\" /></a><br>"
      ],
      "text/plain": [
       "exponentiatedZero: forall_{x in Complexes | x != 0} (0^{x} = 0)"
      ]
     },
     "execution_count": 5,
     "metadata": {},
     "output_type": "execute_result"
    }
   ],
   "source": [
    "exponentiatedZero = Forall([x], Equals(Exp(zero, x), zero), domain=Complexes, conditions=[NotEquals(x, zero)])"
   ]
  },
  {
   "cell_type": "code",
   "execution_count": 6,
   "metadata": {},
   "outputs": [
    {
     "data": {
      "text/html": [
       "<strong id=\"expNotEqZero\"><a class=\"ProveItLink\" href=\"_proofs_/expNotEqZero.ipynb\">expNotEqZero</a>:</strong> <a class=\"ProveItLink\" href=\"__pv_it/0167e7a9b0ff224aee6b48a02f41148ef9862e8c0/expr.ipynb\"><img src=\"data:image/png;base64,iVBORw0KGgoAAAANSUhEUgAAANIAAAAcCAMAAAAjpRG0AAAAPFBMVEX///8kJCQoKCgUFBQNDQ0Q\n",
       "EBCIiIhmZma6urrMzMxUVFQiIiJERETc3Nzu7u6qqqp2dnaYmJgyMjIAAAChkoCbAAAAAXRSTlMA\n",
       "QObYZgAAAxpJREFUWMPdWIlu4yAQZdty3/D//7oMYBwwPiKrineR2ijOeMyb483DCD16sRDQ/7Yc\n",
       "/fcxcNZ9DfaNe8kzEYn+e9TvlKl4IqRgeoSREGGul6l/HiI61A6RBpFZO7k5TgmXV0bxn4eo47BT\n",
       "lSD6Cenp7poj3vESAoDv7E7OH8FvOJEFnXSIYAOFGKlLTOCfWoCrz9cdHvkNsoa3pNft1eMcjZI3\n",
       "aV+S4+zz6g56w09CLfhrceYs2nIvBWvvDCwtP5+kEu+e051Dx0lCMUNiMaeEZBdRwZLuAXy3NL2m\n",
       "jhK829vqNUkm0gKJlA/TsqguzrRLqosd/Zh3ShzZxlDV6DOcNhPilj1CXl8/8J+2anV1gpUPQMPg\n",
       "R3OwUauckILsq67eAPZ2lAqeqz3dtWGyUK4Y7JeuOE9SgkQLFle+5XBCF5HNUDLWUZquGq5SXHlw\n",
       "o+raMziGpPO2Jat01pNBiRbNP0hyTTP1hWcKJJARG3LwymoDrr3Oe7VuUF27BseQAH56MJ9Rdi0m\n",
       "rJrJ1MPQIrEynn3JUhrFC3JDiQitGjN6botv3auuXYMRUnNZrGvhg7EcK6PQscklZCOa99IfXDpK\n",
       "9B3oS855jbjSdRobydPFTid54/VMde0aDJCaS5GJ9Sf9+fqMTWkJVSBBvEVAdspYQU+pv45aVqvZ\n",
       "0lp3NO2Vyxza1vqm91xV177BAKm5LAGxaI0lHiGVoVIeIQWajhW2ZSdQDAbzfrRFsgoSAhnlMsc0\n",
       "OdeW84nq2jcYIDWXOQFqaWm4JY5cX0NsBCFcC8IunD6yvUu9UPfQeNKb+qQUPOWh6VdWoYas42RV\n",
       "XbsGPaTVpUj1//0FXeD3GC/H63jZk4N7GDOfRhyPDLrWtcinSc6zgE86xKyqa2YwzVJzuRD4cgjY\n",
       "ziVETyXMyXHBbMLEBLGE5ucru+Y1BAWJ5ZCdpromBjNILy4LgVdMbvaihOOzJJ1g9odHdVJapfd4\n",
       "ZnA4l+y5jBT2VpKQ5G/KSnv13cYc0gVxaMIN8Vh01pviH92B5K8cyOyd93a/eYq9sS/Lbjz2868a\n",
       "fmf9BbixJ5Z655PaAAAAAElFTkSuQmCC\n",
       "\" style=\"display:inline;vertical-align:middle;\" /></a><br>"
      ],
      "text/plain": [
       "expNotEqZero: forall_{a in Complexes, b in Complexes | a != 0} (a^{b} != 0)"
      ]
     },
     "execution_count": 6,
     "metadata": {},
     "output_type": "execute_result"
    }
   ],
   "source": [
    "expNotEqZero = Forall(\n",
    "    [a, b],\n",
    "    NotEquals(Exp(a,b), zero),\n",
    "    domain=Complexes,\n",
    "    conditions=[NotEquals(a, zero)])"
   ]
  },
  {
   "cell_type": "code",
   "execution_count": 7,
   "metadata": {},
   "outputs": [
    {
     "data": {
      "text/html": [
       "<strong id=\"natXToFirstPowerIsX\"><a class=\"ProveItLink\" href=\"_proofs_/natXToFirstPowerIsX.ipynb\">natXToFirstPowerIsX</a>:</strong> <a class=\"ProveItLink\" href=\"__pv_it/548a59a5951bf5bcd54970e1d6e14d45a8f31e3f0/expr.ipynb\"><img src=\"data:image/png;base64,iVBORw0KGgoAAAANSUhEUgAAAIUAAAAcBAMAAAC9nWGEAAAAMFBMVEX///8QEBCIiIhmZma6urrM\n",
       "zMxUVFQiIiJERETc3Nzu7u6qqqp2dnaYmJgyMjIAAAAcRTyBAAAAAXRSTlMAQObYZgAAAftJREFU\n",
       "OMtjYCAOsDYwUApYjQvI1xwCpVlwmMFEhP0JBMxgSSBoBt8CAmYwnCVohhEDITPYgbY8ADHu4lDA\n",
       "+YugGUwGDAynQYxXOBTwGBA0g/MDA8MMEI0r8hk3EDSDoRoSajwbcMjPhwUpAzdOMywYGHhPrVo1\n",
       "HZf8RbiLzb8p4FCjCMQ/OjpqcJlhB/TEsZlKRlhTBlTCH+jWVAaGTlxmdAD9ydHEsH4CPJDfgQEo\n",
       "qGES8QEMDM4MXA+QU2bxEQZFWOJ7xsAQzf6AYX4AFvNhEvMdgImEgekCTHz1YVuGHTwLmGFBWczA\n",
       "sGC9A8N9bG6ESQApBp4L7DBh3u5ZCxj2KhjwwAQeA/F+BoY8rB6FSoDcwfkgDKjbNkgZ5C0g2Lp1\n",
       "EtyMNki4/uVCC48EBoREPCiwOlOAZjheYJwASfdbedbGwLRkALEMA/cvHmzugEqA4oVhMzD5zFJn\n",
       "4F/ABU7ZWxkOHEaKe84vDDwPrmJL5FAJcBriB6WeJAZHBtaKjo4moBlz4QEEtAOYyDlzsaVjmIQF\n",
       "OCRBjhFlsGFlSIC4gyUInl8cCBdTj5ByX8lWhqMg5hUGhjswYeYDBI3g+oVUpOlcYOAAOo2lzoGB\n",
       "DZ7gBAiawYteGGoAwwMFZBM0gz2AkIp1BM24Q1AFtwEBBZxE1F1bCMjDsxaFAACkm4UPVInbhAAA\n",
       "AABJRU5ErkJggg==\n",
       "\" style=\"display:inline;vertical-align:middle;\" /></a><br>"
      ],
      "text/plain": [
       "natXToFirstPowerIsX: forall_{n in Naturals} (n^{1} = n)"
      ]
     },
     "execution_count": 7,
     "metadata": {},
     "output_type": "execute_result"
    }
   ],
   "source": [
    "natXToFirstPowerIsX = Forall(\n",
    "        n,\n",
    "        Equals(Exp(n, one), n),\n",
    "        domain=Naturals)"
   ]
  },
  {
   "cell_type": "code",
   "execution_count": 8,
   "metadata": {},
   "outputs": [
    {
     "data": {
      "text/html": [
       "<strong id=\"realXToFirstPowerIsX\"><a class=\"ProveItLink\" href=\"_proofs_/realXToFirstPowerIsX.ipynb\">realXToFirstPowerIsX</a>:</strong> <a class=\"ProveItLink\" href=\"__pv_it/d5820144ce75acf43c73b48b8ee88bb1d646ab610/expr.ipynb\"><img src=\"data:image/png;base64,iVBORw0KGgoAAAANSUhEUgAAAIMAAAAcBAMAAACwgxHDAAAAMFBMVEX///8QEBCIiIhmZma6urrM\n",
       "zMxUVFQiIiJERETc3Nzu7u6qqqp2dnaYmJgyMjIAAAAcRTyBAAAAAXRSTlMAQObYZgAAAhpJREFU\n",
       "OMutlEFIFFEYx/+Muzvu+Hb10M3LaiAiQYJIHSoWPYgnN4LqEBhWghcR8aZkx5EORQV6EQcX9rAI\n",
       "LXiQosOy3SaqCQQlCoaOQbIEgm6Xvrezb1xlnp+UD3bn4733/d7/+973PeBs4y7+d9y68s+u8WzD\n",
       "GIleN3jEbZyOiN1nET8ZBD5yhJYMhzAdwJfGd82GNYdDGP3Ah2N6T4z34BDJKrAiv080GzpZBOaB\n",
       "NGkVJc0RtdDc0iGuAim3WFzWLKc6lPVycUKzp4t+B7a9oLsQyrXVPTVUiVpc73l1iS5sjKJ4BCxp\n",
       "EK2Uow3sZB6rCbFXH3QLsMqpWZOOGM8Bw7D8Jret3gc/lJ2m2nPx2RmNwAtH1GLP6d6pBUwYXmPa\n",
       "ejfgGQKuKiiTjnNgRyq06hqB14QQnqmmd98UQYivCpmWivFbE2Z7/SSpIunLXqoM9uRi0kMiyioX\n",
       "soni+03qg1wEvSWzQP8UDJYekqMzbWbTCBAD/Q2PBEl9a1TRF6GhzblMXsGNYHOGjsIvIF9HtEzO\n",
       "hQ3Qgdif1mrSi0CMlZ5hlb5fjmI6BO7Ytp0xxIvt8DWowZrouxjZhIXu9eteUJ1Ug1JKvBpHIgik\n",
       "7V7Ynxf4RymsgDXhC4hckAtXpRPXWIIVtlFhu+ICT2VpfSrnb6jpmywideLlMygXxyYSJQ5h5jiZ\n",
       "Pof4xurcZNa1j1VTAWWZ99nBeYy/0jZ/6dYnuOQAAAAASUVORK5CYII=\n",
       "\" style=\"display:inline;vertical-align:middle;\" /></a><br>"
      ],
      "text/plain": [
       "realXToFirstPowerIsX: forall_{x in Reals} (x^{1} = x)"
      ]
     },
     "execution_count": 8,
     "metadata": {},
     "output_type": "execute_result"
    }
   ],
   "source": [
    "realXToFirstPowerIsX = Forall(\n",
    "        x,\n",
    "        Equals(Exp(x, one), x),\n",
    "        domain=Reals)"
   ]
  },
  {
   "cell_type": "code",
   "execution_count": 9,
   "metadata": {},
   "outputs": [
    {
     "data": {
      "text/html": [
       "<strong id=\"complexXToFirstPowerIsX\"><a class=\"ProveItLink\" href=\"_proofs_/complexXToFirstPowerIsX.ipynb\">complexXToFirstPowerIsX</a>:</strong> <a class=\"ProveItLink\" href=\"__pv_it/0474ff8758dc70df71fa2d03da2d6e6bf044b93f0/expr.ipynb\"><img src=\"data:image/png;base64,iVBORw0KGgoAAAANSUhEUgAAAIMAAAAcBAMAAACwgxHDAAAAMFBMVEX///8QEBCIiIhmZma6urrM\n",
       "zMxUVFQiIiJERETc3Nzu7u6qqqp2dnaYmJgyMjIAAAAcRTyBAAAAAXRSTlMAQObYZgAAAhhJREFU\n",
       "OMutVE9IFGEU/zHt7LjjzObBm5fVwIMEBhF1UFgUEU+OiOatkEK8RHhVqlOMGBgoFKj4sYKHRXBB\n",
       "RBQPsd02ogmC/qAweBSTRQh0u/S+3Z11lPl6UT3Yncd73/t9v+/9A/5MRvCvMnj7r0P1dFXpjfZr\n",
       "PMQwfg8Ru89CHDIQeM8hXElxEIYAfKnsKw4sCw5CuwG8u8D3krwFB5EoAq/l95niQBMLgUkgSVyt\n",
       "nOKKUk3dUkHcAexCNvtK4bYbAm3u6ajiTDP9Tl13SlUQyrXZMt6Vj3JmWuevU8H66RUPgWkFRB3l\n",
       "aA2fU08Cg3VcFqoCzDf2hEFX3HOAbph+OK7+xVhAOkm9V8AH0RcBbwmrFHtJdacRMKB5VbO5e9Mz\n",
       "R4R+FPQNXSfgRjI0yxyBdYKwPCMwf9nOwl4EdgMWkjFOFM+8Wm5dySLhy1nK32p1YjKiZ5NMQS7k\n",
       "EOk/QuwruajMlswC/dNjMP2A+lQ8MtJJafr29TwiTlR3tCLaIjjUi3aKqlQEG4/pKnwHVqRrZzs0\n",
       "AA2I/awrJrwIiP7cLJbo+/H8TWfAXdd1UwtDoW1Qgjnadi1yCFdbMp1epTupByUVvagjXm6njMx2\n",
       "VRr5pXRQm2rLt2DJ/CQ6HNS6sYNFMGtjtPopXwBmpLp2/NwJzAMshH1p82mUiwuGeI6DMByOps9B\n",
       "7LE8Nxi/clmFGijN7GeB/yG/AORDfx2EXCEQAAAAAElFTkSuQmCC\n",
       "\" style=\"display:inline;vertical-align:middle;\" /></a><br>"
      ],
      "text/plain": [
       "complexXToFirstPowerIsX: forall_{x in Complexes} (x^{1} = x)"
      ]
     },
     "execution_count": 9,
     "metadata": {},
     "output_type": "execute_result"
    }
   ],
   "source": [
    "complexXToFirstPowerIsX = Forall([x],\n",
    "               Equals(Exp(x,one),\n",
    "                      x),\n",
    "               domain = Complexes)"
   ]
  },
  {
   "cell_type": "markdown",
   "metadata": {},
   "source": [
    "### Closure Theorems for General Exponentials"
   ]
  },
  {
   "cell_type": "code",
   "execution_count": 10,
   "metadata": {},
   "outputs": [
    {
     "data": {
      "text/html": [
       "<strong id=\"expNatClosure\"><a class=\"ProveItLink\" href=\"_proofs_/expNatClosure.ipynb\">expNatClosure</a>:</strong> <a class=\"ProveItLink\" href=\"__pv_it/27ec504a39cc77956001efe249ef6ac727e58bb30/expr.ipynb\"><img src=\"data:image/png;base64,iVBORw0KGgoAAAANSUhEUgAAAL0AAAAcBAMAAADGuaNIAAAAMFBMVEX///8QEBCIiIhmZma6urrM\n",
       "zMxUVFQiIiJERETc3Nzu7u6qqqp2dnaYmJgyMjIAAAAcRTyBAAAAAXRSTlMAQObYZgAAAylJREFU\n",
       "SMe1lV1IFFEUgM/O7sz+zEz6IGEINhpYj0tCRaUNRBRBtUUoUrCDJJj1IIkUFrbsQ435shSRBNGE\n",
       "4IORirWQULCwBWEFkxRJWWy/D0arBEFtPXTuzsyd8WfXXcMDd+6Zufd+98w5554L8B/iScPKSnKF\n",
       "uIfN/lvOGQo2Zrl4VjGV3zmnRIj7lGXyV2nmPj9qtDx8eL5M/kazZ7qYYD6+F3dPEeVdUXh/xlR8\n",
       "kphyDgRm1GkQ1pZZfLL7U6JMF8UXLKNdsnuui316A8AwcOl0Zfo7GjIL0EcMihTFd42YSolGVUO4\n",
       "TkYCF/UPnDViJYwUxb9pBdWrTRqKePF0d5a/R2sBr83fgkPjg4PXigvvC5qnJxNGHzV35K4qQ5qD\n",
       "X4Xtl6qeW8THefj15HElWUVzc8jSuNgoqzj4B3CgBaBnIcOdh6+Ss7MGZuiH49T/MUGecPDDIYCd\n",
       "EEjl5O9fZAi+YrulE+c6k93gQxvXSLSYESkZgwSM7ljcuF1mVlO+lYpsxyOosnKxA9sODU7RMFSm\n",
       "UUz+AHywYcPIF3QvPR8PanU+Mg5bhdrNtduylYBk1u1kHdwXNLfl5U/YyiHwk543p/1s4qAj05Dv\n",
       "TzVYr5Njg8BPuCFB7S/B/xR7r2vwUArSkF9AS/4CP0sxpQ4+vPXZ/DBxU88xfPTXfAEPcQZ/pEmy\n",
       "+eHqNgwQSjx+mfJbkf8HuNTY/HoEHMZT6LP5JH/gbjvO72QzsIp84kPjr2z+em2dUaHiwp2j1iqS\n",
       "1VF4rSSsD17rfGbdWT/vpJRIiAuy7dBv8AUSVJMfhfeBbIjjkEg6rRqobmqWadxa9xqBPl9OToPN\n",
       "z6aYqJGSwijQqKqqxIf8Ov4Qa0wog03sGVWNIv8GTQOXvOAifmLUh/nykSZSzPdG4wz7YZdEJ2Sg\n",
       "InvVId9ziJ6NRIGFJJChJsXC+0AIkb+RQTTX+y9BlxiBx0R/CTBF8720QL5Iq7enebQOoBe13Z+N\n",
       "y5lwKqDhGRZ1DJqnWwaOrjtRIN8bmvvOoP+d77zRbUD/z5GhAvlTS4yP5fjOBwu7R5e6tvRcA/cK\n",
       "4rs1WHH5BzphwMiOKUWGAAAAAElFTkSuQmCC\n",
       "\" style=\"display:inline;vertical-align:middle;\" /></a><br>"
      ],
      "text/plain": [
       "expNatClosure: forall_{a in NaturalsPos, b in Naturals} (a^{b} in NaturalsPos)"
      ]
     },
     "execution_count": 10,
     "metadata": {},
     "output_type": "execute_result"
    }
   ],
   "source": [
    "expNatClosure = Forall(\n",
    "    (a, b), \n",
    "    InSet(Exp(a, b), NaturalsPos),\n",
    "    domains=(NaturalsPos, Naturals))"
   ]
  },
  {
   "cell_type": "code",
   "execution_count": 11,
   "metadata": {},
   "outputs": [
    {
     "data": {
      "text/html": [
       "<strong id=\"expRealClosureExpNonZero\"><a class=\"ProveItLink\" href=\"_proofs_/expRealClosureExpNonZero.ipynb\">expRealClosureExpNonZero</a>:</strong> <a class=\"ProveItLink\" href=\"__pv_it/0a668a30a208ce68b678ceb68ab11a789c0eeadc0/expr.ipynb\"><img src=\"data:image/png;base64,iVBORw0KGgoAAAANSUhEUgAAAPYAAAAcCAMAAABlE7IeAAAAOVBMVEX///8oKCgUFBQNDQ0QEBCI\n",
       "iIhmZma6urrMzMxUVFQiIiJERETc3Nzu7u6qqqp2dnaYmJgyMjIAAAArQGDrAAAAAXRSTlMAQObY\n",
       "ZgAAA3FJREFUWMPlWNeS5CAM9N2RRfT/f+whDNikCTu7D66lasOMZZlWaDXetpsvHsL2G5djvwKm\n",
       "4O3nYN+6nd4Utey+2PV7TSFvCTuYLgw7pdK80xT+hqhZX6RUmY2+1d4Kg3TyoL9BGPTeJxZiHPwD\n",
       "MveKAOwhECjwUpCcXZXPPWibRIZjD/s1bCZeF+DB5NDhLyiBhBvUOBloG9NPHpI5bNodf3J0lL0k\n",
       "2dk71jh2qm8T5kHFFXrYTJeGZmjvncGl1Q2S7clkoDnXfAZqptmOsHN4aPKyAy7l7sDjNYeaOUbJ\n",
       "yEZmZKgMW9aRzVPNSJEuvjj1X9PA/KlYctStXJre4ERQypmTuN2wj36lXvS2VaxEROyImLMUpcX+\n",
       "rKIgWaBLMh0MjkdN5NFlRx43IucumRgMKinnbwzxpUcHjDPYBJvdngyRsoJdTYehbaxjzKOIjTtw\n",
       "hg4aeGWweHqsy6Ou0iN5JuFRVh982xrU23J8WLqiRn0tSCiryXZMLVRn5oCNcm0gNA9WG7NlVN74\n",
       "XgMvDVawETiI/GBxnUaNrE7b6wxqyDNsAtWmewIsBhjjArps61AFvmFUhlr5+ciSULlOAy8NetjV\n",
       "ZfrggCcnCFT5iazmbhsMTrcyRw2N7D4b7Ku5DcbTCuEIM2h5cJBRIn7ZataEijHWaeClQQf7dFmA\n",
       "R2YRTZFmlzJNlH/xx3cGJ2FBho1lIMNm9VPNXmDHxDJxZfIYN5ZrHPcuVErRBRWTUvFOA68NOtjV\n",
       "ZbEOvsSb0FFWU3tJCBnOHeRyh5LbZOgqOxenKMcyt9Tpv9NT+1G0ESqFHt3HZGrqeaeB1wYd7Ooy\n",
       "pYmCPXt754OsNrBto8E5DXKejKRUaEknc9JI4GY8igicfiFVyTkBfPaGMQaPRCWbGrbCmU4DLw1a\n",
       "2BeXpbEHos4uZaTfv3+QhP2KyVOEnmoGB404Hc8mfRFFESB2jkTiRNO6DhlLI8kWDTwzmGa7uDQM\n",
       "zj0jO+BYblxu9bBwGvSt+w1a0gzR5JJayhJ/gi1qxAUX9xx1ocAsVw08MZjBri6FaFVa0iity8ts\n",
       "LQbDXP4GYf/wmEpz6zaK7JnB47k9VYHX/5/nUn5+TlTizRvsy2/r4EsuX1D75uO34v7tPnn9rdME\n",
       "toWyzMKlfyWT9sPX4j/6NuUHX9lb/tnObvDq7MfWfzpiK1+1f3+hAAAAAElFTkSuQmCC\n",
       "\" style=\"display:inline;vertical-align:middle;\" /></a><br>"
      ],
      "text/plain": [
       "expRealClosureExpNonZero: forall_{a in Reals, b in Reals | a >= 0, b != 0} (a^{b} in Reals)"
      ]
     },
     "execution_count": 11,
     "metadata": {},
     "output_type": "execute_result"
    }
   ],
   "source": [
    "expRealClosureExpNonZero = Forall(\n",
    "    (a, b),\n",
    "    InSet(Exp(a, b), Reals),\n",
    "    domain=Reals,\n",
    "    conditions=[GreaterEq(a, zero), NotEquals(b, zero)])"
   ]
  },
  {
   "cell_type": "code",
   "execution_count": 12,
   "metadata": {},
   "outputs": [
    {
     "data": {
      "text/html": [
       "<strong id=\"expRealClosureBasePos\"><a class=\"ProveItLink\" href=\"_proofs_/expRealClosureBasePos.ipynb\">expRealClosureBasePos</a>:</strong> <a class=\"ProveItLink\" href=\"__pv_it/0e661032d7e434ade6de5848825fc15021a622c40/expr.ipynb\"><img src=\"data:image/png;base64,iVBORw0KGgoAAAANSUhEUgAAANUAAAAcBAMAAAAEiefMAAAAMFBMVEX///8QEBCIiIhmZma6urrM\n",
       "zMxUVFQiIiJERETc3Nzu7u6qqqp2dnaYmJgyMjIAAAAcRTyBAAAAAXRSTlMAQObYZgAAA2JJREFU\n",
       "SMe9ll9IU1Ecx39uu+7u7m7rIQiT4JZlUgTDlWSkLASf+nODUB+CDftnBWJpLdIHsbKrYoweTHrp\n",
       "klCwMqW/CGGX/jw0LRb0IGKxjHqwCB8KckH0u3/OdjanSza8MM7v3nPu+ZzzO9/fdxcgt9feKCzb\n",
       "xbuXAXJAb5zD6btNOUQxfr11BdP3W/y5YzllvfWtO5F+wJvcsUqNdqNclH6AFRej6eZDtihbzAg6\n",
       "4GNSh+OU9PdTr3pgKJox9clMzuS3EspSksv5md5uXM0sQL+6qvZsWXlEfjEoTO5hbQq092HQqh8q\n",
       "P5wt64YhDTjvMNY9EQhECavcicF2TGg4FLqWtTTekaBmXG/rNlH7KmcxWIu/35LUljWrUj2JnaWr\n",
       "yT03Q+fQX43BPtz6EYCu/zI2yzwveK6QUMLfrqBzltznBymWvVkl+0SAKuDoaZ+UHJqmlWU/3Vkp\n",
       "6G8lFC5qzRQ8Jk++4lbWgDmuMZbSxqrAN+1IvVhkYIqQnT/1REw8hAVibHdeVICg8DdT3ucatGW3\n",
       "gItIohnAHAOrQEbs/4GXoY2X7m41GEIWH7GSERMjIUDWZMQwNkfPdRlZjsEUFtg6sZf7lZD6Z5R9\n",
       "OwyJZEA/rfmtdWRftmgNRgPFX8Cipk1lKYaxValjkHWXYnGljTgjc0EGZg6sJCOduG4FniXqjWax\n",
       "g+p+fWouug7jDGeYGDhBZ3nchrFFdZbZQ7Fuiz41cZZpYKikNSBrGBrtRBJmgWIx/m2GDuFBE/a5\n",
       "mSYY0Fjmoy2GsXGaPISyY16K5YFa3egKcF95ZEosHlZwnOXj22mlPArG8kWjBF2C6jEmP9RKkiSY\n",
       "+KvvDWNjzklSBwivt9CsQijW2lEBz8vlNWbERXP1G/rWx1m3Lspx7xXZK38038BbfDoUZCflfD2H\n",
       "9oOyYWx+PYePwgkWNwe9IbX8wkk6zPOmFt/uy4HkCp2On2XQtwd4UT+vsGLr1oztlc7iaW0UMD9R\n",
       "EHU7MCxK1JdZyeQsXCzuCfX3KwB61Fp+qwxUMoWasbEoaXvbd84TTbCqNxdFoO+4loLx+IcMsyIT\n",
       "y5HyEWDC8zLcQm9K8Lxgvhcwl+ZNdTITyyou1DOS5hm72FT3MrGmFuyJLJVlz/BduMS/Y/OivQ8z\n",
       "vCzDsl7/ANWy2A65VrLHAAAAAElFTkSuQmCC\n",
       "\" style=\"display:inline;vertical-align:middle;\" /></a><br>"
      ],
      "text/plain": [
       "expRealClosureBasePos: forall_{a in Reals, b in Reals | a > 0} (a^{b} in Reals)"
      ]
     },
     "execution_count": 12,
     "metadata": {},
     "output_type": "execute_result"
    }
   ],
   "source": [
    "expRealClosureBasePos = Forall(\n",
    "    (a, b),\n",
    "    InSet(Exp(a, b), Reals),\n",
    "    domain=Reals,\n",
    "    conditions=[Greater(a, zero)])"
   ]
  },
  {
   "cell_type": "code",
   "execution_count": 13,
   "metadata": {},
   "outputs": [
    {
     "data": {
      "text/html": [
       "<strong id=\"expRealClosure\"><a class=\"ProveItLink\" href=\"_proofs_/expRealClosure.ipynb\">expRealClosure</a>:</strong> <a class=\"ProveItLink\" href=\"__pv_it/09c47a15951a0f5b27f436aef8bb56537e459a510/expr.ipynb\"><img src=\"data:image/png;base64,iVBORw0KGgoAAAANSUhEUgAAAVkAAAAcCAMAAAD8zjyCAAAAOVBMVEX///8oKCgUFBQNDQ0QEBCI\n",
       "iIhmZma6urrMzMxUVFQiIiJERETc3Nzu7u6qqqp2dnaYmJgyMjIAAAArQGDrAAAAAXRSTlMAQObY\n",
       "ZgAABMJJREFUaN7tWtly4zgM1MyKJwge+v+PXZ4ST8seJ29iVZSyw+bRBBoAlW172l1jzj0k/E4z\n",
       "9OHgZxpn7WenP4KTh8EVsaL74lCfqYd4OJw3hx3TByECP1EP+5A4a7T3ZiJxIx9JrQzncIU9+zAd\n",
       "mjp68wRPtX2RHli5AxzO7VAYjOdg9MoJnkQgt90HNPpSO92G/u8cLGA+nfCAclbwsBp5HBKBYMT7\n",
       "y/QANmXSr3wAUlemavTD6lQMgmra1uwsSN9czyxVRVxp6G8Nhqbkw2okbZ9kYcY0n4Hg1GY9s/kE\n",
       "SBzlgNCk+UU7uEsgX6BuU0n+D1PyNZSelqiooWQfgw+OASkzK85UlkXLF3ECeDMbfquIbmuY9ZkR\n",
       "Q8IfNZtFkhvsHbhfKI6YGRSK37PdM+KOsYdQC53VkhbS+RFIZTQexGL9WhIQ1JFl7Bw6xJlWK1G1\n",
       "ndiwHJHcaL7+dhes/ngLbhdK+QQzgbpsdbjbopcDjTNm9yC8+lLreGhBYcmQzKI2lNpQBfvlGCRD\n",
       "Eb3q0E3OG7NDUTmHZDnyYtxOWYI9UbwzWUUFX4Drgj3Bmmo/Be0eg2MuJfN50OjPcrwD4LsrrbFZ\n",
       "b6BwygQmZkMxNsQvC1ohbpk4i7YvopcdOmZFp2YKiuVhdJmYz7jwFWEXCQklBiVUFPgUHPYsbT1l\n",
       "U+3HTY8YNxity8zucAL69S+yLso4dDar3HkJgZQId0pENoRInOmK6GWHnlnZDhxjK8U0VNhXpCO5\n",
       "DFwuKitsA97QAJuBA3uumrKp9pmZTjhxVcjWfEQ9PmYJ7yqfBbSn1+RjBSWSuaDk/su26I3EUUq7\n",
       "InrZoWM2ZXPXwDkMkjj96XBR/DbDiskmVM4EO7Dn1geKARw0IBXoCZYXKmLm85//sROMHuRAQGY2\n",
       "WLZwm1a39wqFWW+elNe5gR+fZuMI9HAZraQijgohWVdErzt0zDJoBr7SRpUPdidnL4Risukzg20G\n",
       "Js5uIzg6fAWrq32iK0uqMWxwbbJX+5RilpxIPa9uQ7GV9evMig9yVXZERMmKRx2G9yapiGVdEb3u\n",
       "0DMrmoFLQhGMNqlYVCSeKPBGm4IKq54tGAnoS2crMA9nbfU15VXtI9TCXk/Ih5SoWBsKQrgSZJKY\n",
       "+SjMcLyR4SFlc9HWr5zC5tHCmYINcUk0zq65wa6IXnbomOXQDpzEIPU+Q3Xh0FOQ/CnFgvSswVlk\n",
       "Z+CkqXDC8kKFj+F//4RIbicTTi6pd/ZGvm6gqW7H3K1XjOiiLIiV4Y2MmhCgVPC3UkTPOsyYRdkO\n",
       "fAWwdNmWlM6acmcsKlR6XmCkcG27A/MkT8FoE+yq9pVYYK55axn9gWIUh8sHJogmNMVpXQoB44zf\n",
       "k6/6eLDVs4iedJjnBtgMrESV7hOT03nKan8tqPw8wZy3NVgNLmkAFNhV7V9p5jAhZZN89QcuH17e\n",
       "OZIso029dddhwizR7W0Gn19w1jXoiSJv3b+5GogDTJv1hDOHFt9f+kn+IUC/+6YNbqrBYWC7GOKd\n",
       "O+MleFuzlzF69hoFv/7vAvuxoLz9OqfZGbuF4eQlU0K1WA2l4Tvg7VTexYQ4f7mlv/z3gt98h0A/\n",
       "M3WCSwe5d5MX4DsMWbyf0uy73T+vvX61/Q85mzzLMqptbQAAAABJRU5ErkJggg==\n",
       "\" style=\"display:inline;vertical-align:middle;\" /></a><br>"
      ],
      "text/plain": [
       "expRealClosure: forall_{a in Reals, b in Reals | (a > 0) or ((a >= 0) and (b != 0))} (a^{b} in Reals)"
      ]
     },
     "execution_count": 13,
     "metadata": {},
     "output_type": "execute_result"
    }
   ],
   "source": [
    "expRealClosure = Forall(\n",
    "    (a, b),\n",
    "    InSet(Exp(a, b), Reals),\n",
    "    domain=Reals,\n",
    "    conditions=[Or(Greater(a, zero), And(GreaterEq(a, zero), NotEquals(b, zero)))])"
   ]
  },
  {
   "cell_type": "code",
   "execution_count": 14,
   "metadata": {},
   "outputs": [
    {
     "data": {
      "text/html": [
       "<strong id=\"expRealPosClosure\"><a class=\"ProveItLink\" href=\"_proofs_/expRealPosClosure.ipynb\">expRealPosClosure</a>:</strong> <a class=\"ProveItLink\" href=\"__pv_it/a685f398f6617e43aa1a5dafd1b92c50d007d6660/expr.ipynb\"><img src=\"data:image/png;base64,iVBORw0KGgoAAAANSUhEUgAAAOMAAAAcBAMAAABhZBWzAAAAMFBMVEX///8QEBCIiIhmZma6urrM\n",
       "zMxUVFQiIiJERETc3Nzu7u6qqqp2dnaYmJgyMjIAAAAcRTyBAAAAAXRSTlMAQObYZgAAA3hJREFU\n",
       "SMfFll1IU2EYxx+3ne3s7GzrIgiT4pRlUgTDlWikLASv+lgQ6kWwYV9WIJbWIr0YVnZUjNGFSTeO\n",
       "hIKVKX0iRI0+LpoWC7oQsVhGXVgNLwpyQfSc73fTjcmGHTi87znve57fe573//x5AfJ77Y3Bcl+s\n",
       "Y/lYB6TGNpp2hhdvXR6JlFdq7YG0U/x4G7z5Q9qCUutZfyITEt7kD1kmt5uCxRmRJlyaqLAPuRLN\n",
       "CbnTCR+TBqyn+L+f+jSkDuU1LnRm8ybUlVCeknHGS/X1gDEeXxv/gWubAxgQ1ujPFVmgCDUBRckj\n",
       "tDkM/n71L6Fd2nd2NFfkoKweOG+Vlz/p88UUZKVNQ1ZgsiOh0LWc1fNO6dRNSG3DZuIvK2kNuQ7v\n",
       "3zzfkTOyWtienWWrlWdmlkyst1ZD7sN8HAHozsosDakvdM/DSpfHe1fANqc8GwME0tI6qyE9boAa\n",
       "YMjoj0sPzZAatJzuquakj7WScIvNNDxS3nzFH1sDelWGNCGfVb5vYk9axaALixN0USUdT5xRHQsR\n",
       "TjHL2y+qgAuzN1LCME3i521gV1TTCqBPgIlTZuyP4yXL56Wjh/ilEUSyUZPyODkWAkRORWWztPZe\n",
       "DyLSOpyCBHMXjjK/tNr4jHXihxG3MmGALJJtDaS2EWmO1WFvqOQLGIRcCsiwbJY1whxE3iGQTFkz\n",
       "BqYuBIGaB5OSny5cfhieaXVKIulhTkN6hAR1H8ZAZ6gEiNWDSKdDNsuYhNQ7CeQtt0fIpmEGKCKT\n",
       "TYgchWaLoho9RyAp73YNKSgW7rfgFAfVAkMiUn+0TTZLRlQQV37MRSCdUC+ZZyH+ZYESGauN5qxn\n",
       "WTVyO2F4MG50J1ewnRMMS+eFep7nOR179b1sltQ5nu8E7vVWElkEJWL7lMO9tLu0tTONG/s3qJFv\n",
       "Xgyqtu6mr/xRByrEtzg4EqCngkYpsZaDQdksvVJiH0Y0JDMPfSGhbCNJii1wpRbt7su+RY9BM+p2\n",
       "Bzx7gHVLexkJm3tEs3wlIVlSPoXUT9RMww7sFmt1qQ9naVNMQnWWxntVAL2CFbwND1VTRaJZ0lgD\n",
       "lo7vjDOmIWu3FEeh/7iYkAn1bEWtyBJpTTmJ6HAvZc+RmlLcS1joKNSlBaFOZok0udONjC3yjs4U\n",
       "6m6WyOm0I9GlIi3ZnV+XeBjQZxx9kF2MIPyP6x836+FZcEX0sQAAAABJRU5ErkJggg==\n",
       "\" style=\"display:inline;vertical-align:middle;\" /></a><br>"
      ],
      "text/plain": [
       "expRealPosClosure: forall_{a in Reals, b in Reals | a > 0} (a^{b} in RealsPos)"
      ]
     },
     "execution_count": 14,
     "metadata": {},
     "output_type": "execute_result"
    }
   ],
   "source": [
    "expRealPosClosure = Forall(\n",
    "    (a, b),\n",
    "    InSet(Exp(a, b), RealsPos),\n",
    "    domain=Reals,\n",
    "    conditions=[Greater(a, zero)])"
   ]
  },
  {
   "cell_type": "code",
   "execution_count": 15,
   "metadata": {},
   "outputs": [
    {
     "data": {
      "text/html": [
       "<strong id=\"expComplexClosure\"><a class=\"ProveItLink\" href=\"_proofs_/expComplexClosure.ipynb\">expComplexClosure</a>:</strong> <a class=\"ProveItLink\" href=\"__pv_it/5dab0faa9743528440e072b4b88e336f8dcb8ed60/expr.ipynb\"><img src=\"data:image/png;base64,iVBORw0KGgoAAAANSUhEUgAAARYAAAAcCAMAAACTf2CvAAAAOVBMVEX///8oKCgUFBQNDQ0QEBCI\n",
       "iIhmZma6urrMzMxUVFQiIiJERETc3Nzu7u6qqqp2dnaYmJgyMjIAAAArQGDrAAAAAXRSTlMAQObY\n",
       "ZgAAA9xJREFUWMPtWNdu3DAQVBIt+7L9/8eGVRKLpFNsvwghYMN35rDM1uGyvHxQ55b/YxyG/Ocg\n",
       "DEbbz04/gsNLWeHdF149Czr+SlocdjR5AI5Pgs6+kBXSBwEIXOBRehGRxD1P2xfQpHzvGDLwZO+K\n",
       "ETjh/Cpkoi+RaPSZ+72j7KwhA5PrfMGYDyQg8ZZkauMvWYmWL4ihdSg70X3Wy2JkF54jz/pMqtAH\n",
       "JzH6jTEUM4VtDW6lCGOLK8uWtaB4poXE+dZgHEq8wFnsOinYxjSfJbTUkT1OMHsNpFW8jEOYHzTi\n",
       "bbPxD6gZhmw+oIghsI7ZEvsMinxhXUKiyed42kB+2PV8pjGaTnNOeDoeGIj/1XSSPSeb3WFktTtd\n",
       "w3WcH2fw/prKLBT6VicyQkli8fyOWhouOJxrjHZCOt/VSbJhWQrgAI5lgqj5+dvN7jCLKyUHV1tz\n",
       "RE/c4JNkoEX5xHjMKjA0LagNIeFbZDIYiTnTa4yzCd3ubOosKl1A0FIrkKeSUEvDhmoEzQzT5dfC\n",
       "IklhIEZ9w1ZXR72FHE6ImZbY7g4J10qtMC5uVUJp02mM0wkdLXyaOCKTYX9Wi6oLqwLdb19QjaCZ\n",
       "YTpvKbSscpvZWUPO1AKfeotym8BCAtxtkZWilGl2zIBVY5xO6GkR3coZZPJaESNs9daMSsEhRkEz\n",
       "x7Rk82LulHz8rLEZqxfZacFl3yKmW54NhYKFLxtNYNGqmcY4ndDRUgr/tjJPde9P+LFlq+TrKVsY\n",
       "Wp2loMpmV5g2IclCS3Qm7hatbjVTlAc1uVB3qERhfVJMSsJ9mUi23dIptmsXjXE+oaOFynblfF19\n",
       "MMsKdRrK6iwFdRQ0J5hW26yHQwo+q4FCT8q6NBhSpZTYdj8e9t4Zog2YSAYKyyvN2ERjnE/oaeHt\n",
       "yku9/hb9KZJZunxwl5xIK2oXNKeYseOI2RiAKQ6TGo5c0r6dYcStXpB6ja2C2bJatIS0MZHu/klK\n",
       "74etxjid0NHCZLsyD0Xg969YCuyhqhQewt3z4TKqbnaJGYThbU9l5LH5nzzZ9IEWmiDmacxkhh36\n",
       "xfi3CX4RnaxqjNmEGS0oupVroa0aPmcIa8obED+idkFzgWni4Rt6dRyEFeWggaTDyy0G0TgnY8Fk\n",
       "0Us2jTGZMK9E2K28yH1bMKVhI/QQIhtqFzQXmLYv+QZhdfkMATl1tO3s3YQJLdDnOD2zqGtK5IC6\n",
       "xDS16OvvAII9BOiPX4vlRb89u4221136Z5gbEfOhszyOw89fNY+Xoi3MTuyJo85qUB9icrPxRbX/\n",
       "k69x5JmTAT53TTh5Y9X0ayd/wdPtj42/aRsviUAfllQAAAAASUVORK5CYII=\n",
       "\" style=\"display:inline;vertical-align:middle;\" /></a><br>"
      ],
      "text/plain": [
       "expComplexClosure: forall_{a in Complexes, b in Complexes | (a != 0) or (b != 0)} (a^{b} in Complexes)"
      ]
     },
     "execution_count": 15,
     "metadata": {},
     "output_type": "execute_result"
    }
   ],
   "source": [
    "expComplexClosure = Forall(\n",
    "    (a, b),\n",
    "    InSet(Exp(a, b), Complexes),\n",
    "    domain=Complexes, \n",
    "    conditions=[Or(NotEquals(a, zero), NotEquals(b, zero))])"
   ]
  },
  {
   "cell_type": "markdown",
   "metadata": {},
   "source": [
    "### Closure Theorems for special case of a sqrt()"
   ]
  },
  {
   "cell_type": "code",
   "execution_count": 16,
   "metadata": {},
   "outputs": [
    {
     "data": {
      "text/html": [
       "<strong id=\"sqrtRealClosure\"><a class=\"ProveItLink\" href=\"_proofs_/sqrtRealClosure.ipynb\">sqrtRealClosure</a>:</strong> <a class=\"ProveItLink\" href=\"__pv_it/f78fa24e26a4bcc7af85be2d0081d056fd0261640/expr.ipynb\"><img src=\"data:image/png;base64,iVBORw0KGgoAAAANSUhEUgAAALsAAAAaBAMAAAAd/jASAAAAMFBMVEX///8QEBCIiIhmZma6urrM\n",
       "zMxUVFQiIiJERETc3Nzu7u6qqqp2dnaYmJgyMjIAAAAcRTyBAAAAAXRSTlMAQObYZgAAAx1JREFU\n",
       "SMe1Vl1IFFEU/nZ2Z2d29kcfghIhNEGEKAYtUKgUAh+CaHvJgmAX+6FewsoQKkKkaDWMJaF6c0pI\n",
       "WCyXhEIIWrIH0YotgkIMVqEXg/LBwD+qc+/s/Kyu6+5CB/bOmTnnfvec75577gJFidi0uY+AouWY\n",
       "qfX/ZZLNxxUuGn7O1E5v7PS+WHRnhaF5Uht7SRrAzd8KhO/XzIXi64z+i5E/M72MfBWYzMw1Pxkz\n",
       "tcEs1oASFnt7KLN54CHLsLNA+HJTm8xilT0JdN4n5RotRXn64oWhe5YNTWmzs3K744YB3xAgpZ6+\n",
       "TcRiDwoM3l9qaL6k7Sx0aVb0DTIplfRbjESuF1o4KTv1fWOVHPeZZiMn3EzKEfpyBujOeirWncI3\n",
       "CWO+uVe7yK8Mv7h+3sa99zKrllAQOAjFXrsva07N6k7WQvrEabwwSoOdRxfrC0T9oyTjmKTTgt/a\n",
       "8YPXL7lIEAwClVd1ScGHiYpMePSdYWM7StLpSyojloISyLNRwyVO/fafJDr8W7WHKcNNbHckA+br\n",
       "aAwEP5VcA4++W7T2bzjSFRYgeM/jBRYasI1ZMqqbyNlz3Ijek2L9aaD6O1wsKAafsOCV2gtEIIZu\n",
       "QlyClE5TZuQoi8AneqzCO8+/ltrg5aeMgVCUhm7qSsoVcRkB6PB1qgU/GAxxRobmyEFKtxo3D7Qx\n",
       "iqs0cwXu1Ch7r7XBi+G96crBCO2PUxXbMMDhnWfbbVtbhxb+3J2k6B1peIEH2q/6WZpd+BLm6Upx\n",
       "qylg0k1Jf2RvJTTJERfCaIlEIhWC795nG3w5qhkRNXHGcEn6EnHxU+teZi0RT3acaOXflXOHzJYW\n",
       "lO+uQK8oPzkNR+Upza2T4z2pmfDKEnpjUMabMioHW3iprI6sOSnjelMwZdZQHNHQYfiCOvcTtq0t\n",
       "ExeSSj2Prsqse+zj48wmjVYxW5Or9fl+4A47Vh8SAwcs+OadVUkxqDP+TjXcj/LxtbpJa1pzGwrE\n",
       "vdVWc0x0812Uo7nhpWAOYy54JZVP55tGXvBeqqhIT4ZxJJ9bIecl5cxl9ObxP8ep4X/LP6PhxkjD\n",
       "kEgnAAAAAElFTkSuQmCC\n",
       "\" style=\"display:inline;vertical-align:middle;\" /></a><br>"
      ],
      "text/plain": [
       "sqrtRealClosure: forall_{a in Reals | a >= 0} (sqrt(a) in Reals)"
      ]
     },
     "execution_count": 16,
     "metadata": {},
     "output_type": "execute_result"
    }
   ],
   "source": [
    "sqrtRealClosure = Forall(\n",
    "    (a),\n",
    "    InSet(sqrt(a), Reals),\n",
    "    domain=Reals,\n",
    "    conditions=[GreaterEq(a, zero)])"
   ]
  },
  {
   "cell_type": "code",
   "execution_count": 17,
   "metadata": {},
   "outputs": [
    {
     "data": {
      "text/html": [
       "<strong id=\"sqrtRealPosClosure\"><a class=\"ProveItLink\" href=\"_proofs_/sqrtRealPosClosure.ipynb\">sqrtRealPosClosure</a>:</strong> <a class=\"ProveItLink\" href=\"__pv_it/9d6164a5c7485b83c3ad11501333dfb8cdd9adbe0/expr.ipynb\"><img src=\"data:image/png;base64,iVBORw0KGgoAAAANSUhEUgAAAKUAAAAbBAMAAADvxVLsAAAAMFBMVEX///8QEBCIiIhmZma6urrM\n",
       "zMxUVFQiIiJERETc3Nzu7u6qqqp2dnaYmJgyMjIAAAAcRTyBAAAAAXRSTlMAQObYZgAAAsJJREFU\n",
       "SMfFlU1oE0EUx192k0022UQPgqAYoqiIFxej2GKViOJJcXvRHoQs9eOoFT8C6iEHwU2lEjzU4sEu\n",
       "BBQCkmAPIggG9JSgRPBQSoW14KViEHrRCOqbiTs7Q7fpehAf7PIy8/Kbmf+89xbgP1kkFyjMxEcK\n",
       "yjzpOuovYl9XCCviEzYDMhddR+m7YcKEN8GQcsb1HsKqzKgN4BDnQ9/Yadv19i+fTF6yfn6c8JiS\n",
       "DtASDudrr1wnPuYzm4qbkYlxUDqddOcLSo5qTxHpi32ZG11Hq/vMxtQGFCfZPuEGLmOvEMtM7bre\n",
       "Y354tlBwXOZgymMOoB7NavV+320m17oef6cjO7l9DsY85mZ8vlnWzeUgjbt2h5NTHdq9gfqL/NnN\n",
       "ox7zBB78HEDJJ384wVy1pTbAoXKKprxS5piJy4seM28AHIa405eZIqVxhKQebm8TyPSvMe6O1hc+\n",
       "U6+3zHSORJL1mT3bcWZBZEYx46Q0OltwuAtRWgHDHbQ/d/RaH+cANWRq7SjLvxfZtqRBM6Nl92VZ\n",
       "fqeQ+WAXRqKcoSLUDDI4xefSnhG+QjBSdViLmH1eBWTOtUU9ydlrRUjiBmsNeEkHQzwz9iTjheeJ\n",
       "BKWz+Kps/wRhnVwEMhsCUyECyt9pJdfqcCFRFnoAMiPmXi+c3DvM4JniVyNdoImLzKwuMCWSn+oS\n",
       "zBNAJnlNc8uF1Sa0FIOFvyOvNbikrEfGoEIJ8vkr4h2FaR1dtK8TxUe3TW6lo49u2ayHGLG7P1j4\n",
       "AB3FyVBdMuGUZVkZSbv3nrR2TvV1VKaWLmbbsdsFx6/sFlgClGNzttI7e+K0LUYN0SOm7UDNNs66\n",
       "Q6icPw6a0dOz2RDDhskrsRSsgSfZxyM8+vQAwB2S828blYNimELbVikYM2qIvyXU0+84zl98Y+cD\n",
       "xs0ER67S3j1L5AIzZRv+if0GP+eoKNuQOy4AAAAASUVORK5CYII=\n",
       "\" style=\"display:inline;vertical-align:middle;\" /></a><br>"
      ],
      "text/plain": [
       "sqrtRealPosClosure: forall_{a in RealsPos} (sqrt(a) in RealsPos)"
      ]
     },
     "execution_count": 17,
     "metadata": {},
     "output_type": "execute_result"
    }
   ],
   "source": [
    "sqrtRealPosClosure = Forall(\n",
    "    (a),\n",
    "    InSet(sqrt(a), RealsPos),\n",
    "    domain=RealsPos)"
   ]
  },
  {
   "cell_type": "code",
   "execution_count": 18,
   "metadata": {},
   "outputs": [
    {
     "data": {
      "text/html": [
       "<strong id=\"sqrtComplexClosure\"><a class=\"ProveItLink\" href=\"_proofs_/sqrtComplexClosure.ipynb\">sqrtComplexClosure</a>:</strong> <a class=\"ProveItLink\" href=\"__pv_it/91bd1677f27842db2e410a3dbc66102ed6b1cf500/expr.ipynb\"><img src=\"data:image/png;base64,iVBORw0KGgoAAAANSUhEUgAAAIsAAAAaBAMAAAB1DbIqAAAAMFBMVEX///8QEBCIiIhmZma6urrM\n",
       "zMxUVFQiIiJERETc3Nzu7u6qqqp2dnaYmJgyMjIAAAAcRTyBAAAAAXRSTlMAQObYZgAAApNJREFU\n",
       "OMutVU9o02AUf02atPnWVA8eFGFuQzx4cAEvgnMO/9wUO2Q6QWgpikeHIhUnUkQ0xR0KHhwqLlqY\n",
       "UIUOh4fKDsPdHEJFRB0Tg+BlyJwMQTdF3/vaL0tG0uzgByG/vO/ll/f93p8ANF1KD4QuKdzlmABa\n",
       "519afj7RTCjNnABqk7BehbHIbQLdb+IVswBsAh8DHEYsgXb77u+48v2iAZIBMO2JfdWaEoAN+G33\n",
       "LUPpjwHaAsAw6ZcPoNksQGLMZ1dX8cyfMJRBgKQV4ET0SwI9cpvf53JcircRfFdFml1I+bJcvh0Q\n",
       "jL7eLxn92xvAoJMwjKgd7z9N83JQomy3NLem2klxJoRkmaMNdATtpwEKATRxoZlUwyrbBN94BRXF\n",
       "kSf3NVA6BbAfmO1+t2XoTLYBk1SfB6gy8HpQIw2Q21HOEDQjPeRC36qHObGzxvot5auoK5RPakXQ\n",
       "gddeC86RsXceF32Y5U82/CpIk6jFnBRUy6DfA5gQ0SDNnU70IWk2AvtBxuGVTlFd0Wg29V9p2xeI\n",
       "4ltw8BmahDZ0qEoedMwG+w0tC2SMODRvOA3Kmya5CqfQ6YKyBEmyznxYkUklieVfvGnYMqh21dNn\n",
       "8a0Io3Y9UzCOIcuGMgAl2ntedU0SqhttEWbp4Sq8y0wSGHT2u4esxyZSvKaHdcgZGZMycNw0zba7\n",
       "fa5Jwqv4rHWJbqMdJ7J8WoxeEw2rdG85j7muZ1BHa6UYn7H4UeWHeADBs4FXxbThLadDN3KeEoHP\n",
       "AkSK6cOQIGatKwUvhLmL56vVaj6VmNN60ezTPQA3CT6Zv54S5l5ej4shw01fNUUl1MZjUHnrF0Jo\n",
       "YqkQB2+bBK3ZUI/xNbAEDj1Xn67hPyVb8L/WP01JmrIDW1zIAAAAAElFTkSuQmCC\n",
       "\" style=\"display:inline;vertical-align:middle;\" /></a><br>"
      ],
      "text/plain": [
       "sqrtComplexClosure: forall_{a in Complexes} (sqrt(a) in Complexes)"
      ]
     },
     "execution_count": 18,
     "metadata": {},
     "output_type": "execute_result"
    }
   ],
   "source": [
    "sqrtComplexClosure = Forall(\n",
    "    (a),\n",
    "    InSet(sqrt(a), Complexes),\n",
    "    domain=Complexes)"
   ]
  },
  {
   "cell_type": "markdown",
   "metadata": {},
   "source": [
    "*Could eventually include generalizations to “even power closure,” but need to define and implement a Evens set to do this*"
   ]
  },
  {
   "cell_type": "code",
   "execution_count": 19,
   "metadata": {},
   "outputs": [
    {
     "data": {
      "text/html": [
       "<strong id=\"sqrdPosClosure\"><a class=\"ProveItLink\" href=\"_proofs_/sqrdPosClosure.ipynb\">sqrdPosClosure</a>:</strong> <a class=\"ProveItLink\" href=\"__pv_it/a5b89cd47df4b5e8e034d458403b48e5f3db936d0/expr.ipynb\"><img src=\"data:image/png;base64,iVBORw0KGgoAAAANSUhEUgAAAJEAAAAcBAMAAACT2EAWAAAAMFBMVEX///8QEBCIiIhmZma6urrM\n",
       "zMxUVFQiIiJERETc3Nzu7u6qqqp2dnaYmJgyMjIAAAAcRTyBAAAAAXRSTlMAQObYZgAAAoxJREFU\n",
       "SMetlU1o02AYgN+m+U9aPQgqgnQeRDwVpuDAn4LoaWK86AShYf6c5x89zENRwawyCQq62yqFHQqy\n",
       "4g4y9FCopw6lguAYClXw0mHtQUE3cb5J9n352i1LwH2Q5m3e93vy/n4BiLRqd4qwKUu3xeZ/IoSM\n",
       "e5Ns4XeQiYkXF046692kjPIjyCSPF2+GklpE0JY2IsGbMFA8RSQptSFJwoK4mfwUYDVJK1brViSu\n",
       "Wn8/j/skLg0w1xVEb/HpznSPJqmawngBxHZ7d/sbgNIBmMDHSj6AtIsIg3CiWyMrVcg/pj7BKMIx\n",
       "AL2yPkghaRYWXxY8aT6XaxLSQNInHUK/6+XykwCXEltXhdjKSscVhvYzPg3IPqkPr1+WdSuodM7r\n",
       "H9X6aN7VFhudedInnUabywBjASQZrfid8J0+EG2GpF1v+aSsAXAcVHamXuy7+IUWCFv3acPJAdnP\n",
       "ZHx7btGVPPgkjpUEXIM4/6q/welQJ10oYe2PFeEa3X+mjWs146/TBcaBaSTpDYn8nZ8tA5IWCDmJ\n",
       "pB2g/qT2E2wXHBhiexhJStMZ09Ler8A77eeQqsTcBPUPaB1qH2NJ8jNmgrJOkGOXMK6bwhK47YGk\n",
       "ftLQYh7UZRCbs2vnEEmCedAnObWDmRE0SQsjUHJJ8Ss3iJrDfroNH8wq3TDKTAvMiQZVvHN+tuCL\n",
       "YhXOhHOWZaU4/eF7ouaxx6f2nB/O0A1Td4t0gg35wTJVuPVNoHLalheKoheddoF24rY1LTZ4L7fu\n",
       "OUw7J2ZnT4FueHmq02gORz2lVXoQ8sPPjwDcdzrzbbV0lPZPVFKi5/jlME9dD8RKRJJkhDkd9dv0\n",
       "MdRiJhoo8Kj0l5aJRIpv0hfaW/8AhTWh89KST8YAAAAASUVORK5CYII=\n",
       "\" style=\"display:inline;vertical-align:middle;\" /></a><br>"
      ],
      "text/plain": [
       "sqrdPosClosure: forall_{a in Reals} (a^{2} in RealsPos)"
      ]
     },
     "execution_count": 19,
     "metadata": {},
     "output_type": "execute_result"
    }
   ],
   "source": [
    "sqrdPosClosure = Forall(\n",
    "    a,\n",
    "    InSet(Exp(a, two), RealsPos), \n",
    "    domain=Reals)"
   ]
  },
  {
   "cell_type": "markdown",
   "metadata": {},
   "source": [
    "### Other Misc Theorems"
   ]
  },
  {
   "cell_type": "code",
   "execution_count": 20,
   "metadata": {},
   "outputs": [
    {
     "data": {
      "text/html": [
       "<strong id=\"natPosToNatPosLowerBound\"><a class=\"ProveItLink\" href=\"_proofs_/natPosToNatPosLowerBound.ipynb\">natPosToNatPosLowerBound</a>:</strong> <a class=\"ProveItLink\" href=\"__pv_it/f922fef9f2d20e40b8362538c5cd23102c3758050/expr.ipynb\"><img src=\"data:image/png;base64,iVBORw0KGgoAAAANSUhEUgAAALkAAAAcBAMAAADPUgMyAAAAMFBMVEX///8QEBCIiIhmZma6urrM\n",
       "zMxUVFQiIiJERETc3Nzu7u6qqqp2dnaYmJgyMjIAAAAcRTyBAAAAAXRSTlMAQObYZgAAAvpJREFU\n",
       "SMe1VltIFFEY/tzZcd25rD1EVBKsdrHHxYUM05qQ6ClbIjQpcJGCLiCS2J0QiRjzZUmwCMIJocJI\n",
       "pVpI6LKwhbAVbFEYYbF0e6iHfAli66Fz5j7TtAu7eODs/898Z77zn/92Fih7tOWwiEOILArtbk2E\n",
       "pj1RX3nkbFyT1QlP2B8viz2kaLKr7rAn/qIs9gZd1iurPfEA2V0N+PsSyIN5XRnEB2/Hk2g/o8q3\n",
       "clJlKTZQcaPJvf0CcJnKgRLYK4xUyaNGlY8OuVac1mIjTJfAPqYHFadE3bi2A84VGwExMzFxqZSg\n",
       "vjSU9ueGtuecY0Utmb9k+YyHV70pU5a6mbq0uWGlHR79rsmRdC052U4yyXGG/qVhvNltRS+TuTUR\n",
       "WnDgIyfVQlqBH7QQYkAruNx/2d0dysb+FeBWgXEmxJy64FqW+hxjEkl6+LI2vKNZ8i0z2Y20Y/ue\n",
       "oDbuYO8ji/IIhO3k9RlVbFFwlIgpwi5kAwbIPYhm+YEMmoRoY3ST2aFupVtwX1AYJR3ti5rp9Ykk\n",
       "5QCmYhY3N6tvtRzcT932YK7dgN/OTIB/xdDYMVaHEoevKHgYjghOz5wnxqXw2FY9jboPuD/gaTi6\n",
       "aHsb2k9+xtd9gZ9+y+/tDFvstEO1UiWZvOhiP0jYp9HDGx0y2GMci/uNytyMljO420te9LN5hCjE\n",
       "xzJvLHbaodTAJoXb+5zsJJurwuIxM3VvSiY0iLl4Sq+IauItJsL2YlxjF2goGbNDcSpjEqm0k51Y\n",
       "xnWvHV3jkbfX6zq7JbVWiV8V2jR8cXTIshzmY8EsOQxrdij2hCwPEvarNPi2GFZIxar5o6FMJare\n",
       "KZWa7dhmZRntUHHNdv8uV0WkipBzedOQRNcOCNQyUYKofxe8oHaop1R/Dcy7Lr4lzufJ43T0Wy9E\n",
       "8+rzd99pAYaJtv0zoL9ma9QOVUVywX9WQqXLtiNFbA/EXLcJ8bv9mdfEeuJ3jzFZhH2+CD5TEOUL\n",
       "/48peiVlC8P3CqKMgkUefwGOSbLq+zltpwAAAABJRU5ErkJggg==\n",
       "\" style=\"display:inline;vertical-align:middle;\" /></a><br>"
      ],
      "text/plain": [
       "natPosToNatPosLowerBound: forall_{a in NaturalsPos, b in NaturalsPos} (a^{b} >= a)"
      ]
     },
     "execution_count": 20,
     "metadata": {},
     "output_type": "execute_result"
    }
   ],
   "source": [
    "# lower bound for exponentials with natural positive base and natural positive exp\n",
    "natPosToNatPosLowerBound = Forall(\n",
    "    (a, b),\n",
    "    GreaterEq(Exp(a, b), a),\n",
    "    domain = NaturalsPos)"
   ]
  },
  {
   "cell_type": "code",
   "execution_count": 21,
   "metadata": {},
   "outputs": [
    {
     "data": {
      "text/html": [
       "<strong id=\"squarePosIneq\"><a class=\"ProveItLink\" href=\"_proofs_/squarePosIneq.ipynb\">squarePosIneq</a>:</strong> <a class=\"ProveItLink\" href=\"__pv_it/96be8cc70e248b7960c609974d14c1b3805444b70/expr.ipynb\"><img src=\"data:image/png;base64,iVBORw0KGgoAAAANSUhEUgAAAPQAAAAmBAMAAAAB96vpAAAAMFBMVEX///8QEBCIiIhmZma6urrM\n",
       "zMxUVFQiIiJERETc3Nzu7u6qqqp2dnaYmJgyMjIAAAAcRTyBAAAAAXRSTlMAQObYZgAABAFJREFU\n",
       "WMO1mF1IFFEUx8/O7ri7szsqUfThy2RoPlQIQvSiLUT0UuGTfRAklgZRIJIUYSBaMRXBVlDRi1NC\n",
       "hVlKESpFDlgPWcQGQSIkS1YP2YeYQbqK3Y+549xxNnfhdh/u3ev8md/c/z1z7hkBRDY1kZlOqQbR\n",
       "bUOmwp2iyYFV3HSg1UinlEQv+2alcxaN5yTTSr8LRtdxs2BcnvJSETMuGULJLlIwFp70UFEzcsQ6\n",
       "nuu+XWTaQ0XNkKeFotvibormhaZmfBSKrsDdXmuCxwFvHTHjrVD0Etw9tyZoVEu9dcSMthiQ+P8g\n",
       "ghz+7UJvh60uyd3lwMzwmfAKj1+FZNFxHi2PPTk/n0MayTAKzAwU5tfx8zaLQPvrebRvbm6cXets\n",
       "oGMKmBnSOOSidzvaLQIdbHYZPt+unLIyLQowy4zIFKiDHR3XhERZXmk69NUxlk6QMZYZMjLgj643\n",
       "iUFrFvLKwGrDid79yU46NWuYwcosQC3AOa9jbUHqDzh6NkDgh329K0HRgZXw07nq0Jl5yVfFTrYT\n",
       "AFtAcVJ6Sg6QRBO1XspIw9kKmpRCjt4aep1po81C30zAJidaarCPin4DE2mbQdEBEqstlKdlCSkK\n",
       "gxiVi525N1AOmhm9lQb9DAnHbMT+borebEADt9dqk2HnO2WG/fUXWl4iyGZDfR2A0MP4UfJQQlYv\n",
       "3DAQWr3vjR7BuqkF6BWg/ObDLDJqZfdRCKQc6HCyCv1oL/4MAewxRpv4RoWH0V6ghtCdPBpr0bAB\n",
       "k+WJYoM3HK0rMu56uQJfaBExC352YpHlnzuIfjSiUywXKLoMP8JaYw1NsprpL+PQRBuCbWSR0kmJ\n",
       "ZeouGuFKCmWqPh4Nsh7DwyQOBCvtogiHR+hl85fK9dBO7uWvO4bHFhhRyE21jYdiHJpoQ9B5mkw1\n",
       "lQVpnkkNb4H31aYLDeFa3B+FVvthUtb76OtGhdouXdc1KXr5Hb60FDbKJ3S9BbSX63k00aJJ5wV8\n",
       "CsT8rEDwVVP07cI9NTE3mrb2dXa1HMCHtoo2qyseGjZyqOGRfXj3pqEAqqnhjwc5NNHiiYSiO8/w\n",
       "sSQRSqZNpF6HDdt0X3z/DohW0r0eNMPn4aTaDC8oOsqHGdGSifodgsaQXXTlZ4Omarz8moflANjB\n",
       "njdme4VcAFWvEQYtKNL0TSlLOtFESycRQz5i8pXYQvSD47g1/ruQk9BeW7ehQwna6/mEuDCb8V8z\n",
       "s9msuivdN1Kfx98WQ8NZ3BVZk6JF0P3xNBcSi6N70fugc4V8VpVeRVZViKNnA+9hNhVHgdCKVEpm\n",
       "oc0X+821LHOpLyEWPfIfvsQzbCEt45p9pWC00pip8k63YDRci2covCj8fynhygztwWfhX9fUJrm3\n",
       "ZcF3AAAAAElFTkSuQmCC\n",
       "\" style=\"display:inline;vertical-align:middle;\" /></a><br>"
      ],
      "text/plain": [
       "squarePosIneq: forall_{a in Reals, b in Reals | |a| <= b} (|a|^{2} <= b^{2})"
      ]
     },
     "execution_count": 21,
     "metadata": {},
     "output_type": "execute_result"
    }
   ],
   "source": [
    "# Note: if |a| <= b then b >= 0 and |b| = b.\n",
    "squarePosIneq = Forall(\n",
    "    (a,b),\n",
    "    LessEq(Exp(Abs(a),two),Exp(b,two)),\n",
    "    domain = Reals,\n",
    "    conditions = (LessEq(Abs(a),b),))"
   ]
  },
  {
   "cell_type": "code",
   "execution_count": 22,
   "metadata": {},
   "outputs": [
    {
     "data": {
      "text/html": [
       "<strong id=\"squarePosEq\"><a class=\"ProveItLink\" href=\"_proofs_/squarePosEq.ipynb\">squarePosEq</a>:</strong> <a class=\"ProveItLink\" href=\"__pv_it/66137a4f6500ebd08561f8902ed38872d93e56790/expr.ipynb\"><img src=\"data:image/png;base64,iVBORw0KGgoAAAANSUhEUgAAAJoAAAAmBAMAAADO2Z8qAAAAMFBMVEX///8QEBCIiIhmZma6urrM\n",
       "zMxUVFQiIiJERETc3Nzu7u6qqqp2dnaYmJgyMjIAAAAcRTyBAAAAAXRSTlMAQObYZgAAAq1JREFU\n",
       "SMeVlk1oE0EUx99usvnYbGIRBKuXKFQ8SaAXL60B8aaSk6IIDVV7LmJvHoqCpEph1UO9ZUtAIZcE\n",
       "PUhRcCGeIpQVBKWgBEUPihrUgm1a6nxtzK4zmdk57O7w/vvj/2befAAMb1kP1JpZVhAdAdV2Wi6J\n",
       "7wt0WzccoVSXm1suDfYsO9ERa79JaTOBXtI2Nrgy4vmOI4GFfk4W0795Muo5IUs1FxZkNnky6tnY\n",
       "lNCqdvi/PJdGPX+Q0Cbx4zzr4HdLICSeX0lou/HjBeugd7YgEBLP1SKQKX/H16TXQ7STcIKvJJ41\n",
       "F17i9xfBsuoGacbXp7f4QuIZTex97GGeT4vNBmnazk6XK6Se9S7kUM1ZTcFozIcyFZUl9ZzZgGy7\n",
       "Xl8SqHYV1GjMs9ED+FOpXBPR8oxyr3XAEdBIiG1K2wCXARYEtIZHafFR+DHobfU7bh/JJkNCrP0E\n",
       "OA7m4Mbw5PDFfk1XGW3Zg6OCTGmItS001KD7+6v5bNzTLWj7y2eqSWnHHLgioNEQa7/QhHpJv/d2\n",
       "pQ6ItuaFaHvBXBfQaOgfLd05gz5qhz5BHE8hprnBTM0tyHT/H7fPOBsaYqmhTGHhEvqYQ/tJDiht\n",
       "3F+NDTqnZg+V+QrXGwuxhYjmFB6jio8VjFmoEVps5mq/Qlya6XV4U3b5mdIQK+IeqyqtiQ6Js5VK\n",
       "Ja9bd1/3q7JMaQ8Onpsu8mk0xI4kvMllUfU17NSak6CZZi745ZjqqK0Ff+37m69mT50Cq0THre1b\n",
       "t0Yi0agcm5x+NAFwG1fvqlubDJwCyrTQKaKjcQvM2HYkWkNyy7iJH2OsMyajPbeHx2XnBudMGua9\n",
       "GYW2XxLXOxFg+ohMsScCTZNe9d5HoMmveqm8Miw9Kr9/zinTHirM2JKtSltU8V9SvUXjneQvGFLU\n",
       "rZ3kLfsAAAAASUVORK5CYII=\n",
       "\" style=\"display:inline;vertical-align:middle;\" /></a><br>"
      ],
      "text/plain": [
       "squarePosEq: forall_{a in Reals} (|a|^{2} = a^{2})"
      ]
     },
     "execution_count": 22,
     "metadata": {},
     "output_type": "execute_result"
    }
   ],
   "source": [
    "squarePosEq = Forall(\n",
    "    a,\n",
    "    Equals(Exp(Abs(a),two),Exp(a,two)),\n",
    "    domain = Reals)"
   ]
  },
  {
   "cell_type": "code",
   "execution_count": 23,
   "metadata": {},
   "outputs": [
    {
     "data": {
      "text/html": [
       "<strong id=\"sumInExp\"><a class=\"ProveItLink\" href=\"_proofs_/sumInExp.ipynb\">sumInExp</a>:</strong> <a class=\"ProveItLink\" href=\"__pv_it/ea2d4e284a66c7c193c1482f8a64b11d99458e690/expr.ipynb\"><img src=\"data:image/png;base64,iVBORw0KGgoAAAANSUhEUgAAAUcAAAAcCAMAAADFqY3ZAAAAOVBMVEX///8oKCgUFBQNDQ0QEBCI\n",
       "iIhmZma6urrMzMxUVFQiIiJERETc3Nzu7u6qqqp2dnaYmJgyMjIAAAArQGDrAAAAAXRSTlMAQObY\n",
       "ZgAAA8pJREFUaN7dWYmSoyAQze4Agpz6/x+7HApIc2hi1cSlKlNdmeeDPJo+8PX6X8a0LA+k/sKh\n",
       "yROpf23QCVp+LOosBb46Z0bNPib7EhkZtMJYxelzyi5OmlHzj8m+YywSWkHWFWMmRwcUY+c/2lzb\n",
       "u4yal1xXyb5jEAyt7XzN8oUHcWyeXhR5Q16ZNKfmgCuQpUxkHqCrWCWw9gNndTX9vEqcCNQrcylx\n",
       "5NQccAUyrRrn5MtzMkihyGYd0o9VSKX9uDLrRs0WO5D7Y3KuQCZ2gQV/wLFOq0dldnb+idTZdDGr\n",
       "C7Pm1LyS1TzZ7oZaPfpYuyhlBq6wuEKJpGN5duTUHHIFMqOlG2J+gDsaBK1UBmk92gaCDQ76Y3Sp\n",
       "1krUHHJtZCt3Y9YP0JEswBJEE4xkXz4ImdZxNqhS1/w4kDGfdfjJKvamXnPq/dMvHWsMtpbz0pqQ\n",
       "XffSzRpVCF1pSl5LNkj/uaqOgWxyj8qOOoprNjPc7jWPgDFFYznR16gPN/apMv0urLAkMvVgl7yo\n",
       "DhHrNNjpBrWohm1P5iIjBsWjVJoQ+62k3C6KLrrsNVuAMUVfR8G2MjckykPAJ4VFPGIGWyjXFAGq\n",
       "EDnUsUVdkzyQucYGZBnDlZCOyQj/85UuEn4TMKbo6+g0t0ujleImnbrNQjxiC8Wj59YhY39sUjf9\n",
       "USyx55cEsyUedh8lqKK5Q++9ZhMQG88O4qhjnDSgdZjGgefilHB2tOTqwGrt+koVQrP67xAfWf+5\n",
       "Rv8dyLhgYXfkTO2Xh3bRSCNqvWYTEBvPNuKoY5yU+cLhx37MtoryVDF+tOTqHJYtLyXaOlYhw3x9\n",
       "ghqQKbIda2IForN3kZgh5JFo6zXbgL3xbCMKHeOkYZ9UtsWovItAheVXY8+wHjTHAGKG9eMJakC2\n",
       "4tRsYefZdPa+YbmEorTSa3YAW0xrIwod46TeDfjuDu6RMoglL9osyTCmguFOsKtDxv3MCWpAZuS2\n",
       "eOsE3LjckCoOInFeSey9Zhuw+14TcdQxTeruAf7+2e4Bqvna72JpvXeNeec1NiCzlSddJxfcNc2q\n",
       "euqTx0u4TLr3mk1AbDxriKo/xkn3mme/jAL144toaL0z5Hrj5RYkmxhWmPifxGPJIW0+467poc4P\n",
       "Y6/ZAqTGs4Ko6ZhNGmqeTUhdqfgpgtZbjfqdLwP6ZDgEt2NbcglQRXTrRzV0Mqag9caY6Y06XiYb\n",
       "lgDq9Kumuo7j1j31r/KDPt/ceSlzncx8DOjraE64mCLQunyNeeeV9e/ef7//Yl1N0Lo6+Z1vUMgD\n",
       "Xsc8Z/wDojIy/hHxqSsAAAAASUVORK5CYII=\n",
       "\" style=\"display:inline;vertical-align:middle;\" /></a><br>"
      ],
      "text/plain": [
       "sumInExp: forall_{a in Complexes, b in Complexes, c in Complexes | a != 0} ((a^{b} * a^{c}) = a^{b + c})"
      ]
     },
     "execution_count": 23,
     "metadata": {},
     "output_type": "execute_result"
    }
   ],
   "source": [
    "# oddly named?\n",
    "sumInExp = Forall(\n",
    "    [a,b,c],\n",
    "    Equals(Mult(Exp(a,b),Exp(a,c)), Exp(a,Add(b,c))),\n",
    "    domain = Complexes,\n",
    "    conditions=[NotEquals(a, zero)])"
   ]
  },
  {
   "cell_type": "code",
   "execution_count": 24,
   "metadata": {},
   "outputs": [
    {
     "data": {
      "text/html": [
       "<strong id=\"addOneRightInExp\"><a class=\"ProveItLink\" href=\"_proofs_/addOneRightInExp.ipynb\">addOneRightInExp</a>:</strong> <a class=\"ProveItLink\" href=\"__pv_it/f39b4fdd136817083b467bb69e4d516c4121f65a0/expr.ipynb\"><img src=\"data:image/png;base64,iVBORw0KGgoAAAANSUhEUgAAAR0AAAAcCAMAAABrn5tYAAAAOVBMVEX///8oKCgUFBQNDQ0QEBCI\n",
       "iIhmZma6urrMzMxUVFQiIiJERETc3Nzu7u6qqqp2dnaYmJgyMjIAAAArQGDrAAAAAXRSTlMAQObY\n",
       "ZgAAA41JREFUWMPVWYdy4yAQ9V0Eorf//9ijSHSEyOjshJlkduzVQ7xdtvn1+h1r1/o9kIi+fuGS\n",
       "8B2QCELyg0lAeyv5pcXsUbC6VwaJk0eR74G9hRzcSmEZNr0peHGzDJLW7CyDvWNp3kqBLAMA5pOb\n",
       "otYskUE27KyCvWNB0ErHtSH8BWahh/CVzXLIlp0AluK2+jhbzPBGOl3fsqVmaQssRe4cssOOB5Ni\n",
       "4MsfzUtNOtlsjIZ4yu7Kbgck1nZt7p8q2PFg7KSNfT7Rb6KVzgjKOx+2V0ss7JZDdnwngJ0uI8UP\n",
       "vlguCqi5+eCKhXPI9JwgBZiS3C32+SpIba2UEryUNwLttlQ9JMh4gSAxGORghrpF5MfZgbqRGJQQ\n",
       "bJcBMVfZzTx2diF7PhfAMPLfs3tHuNXw7Fdf+hcDEjTmoLSW9s2+lb6MtYUKMiiFeJ0t2Ne/ZCeA\n",
       "7e5RfnFmQSUmp7/1upNSYbBZ9Avkr7N9qk5BGlcS31Q/mCTLlyrM7BO7DSBZNwx6MBdxQFPscCEh\n",
       "tJ9yRO3LIC3r7mSkcM0O8wcn+5E0ijAJKwl6DdL0PNykO1io8Ck7I8gekQHMFc1NTFZUMO6QFPPH\n",
       "FrLqToYK1+w4Ju3GqJO2k/8f0kajbsVj9LJSZe47Q8ih7zAdez4OAdbxuvl7igTKne/sToYKNTsR\n",
       "MmjLAOKUSeWvFJcSN05ZmEv7FiooayyLuIP7+pM+LIBRhgPnnCD7YdFgKK5YrzsZKlTsREjsU+OX\n",
       "/VPHHrV/Y1pK3Djnwvol2JidQmWas25AVjnLcnmOfKA9NiLe4DHi8hLo6E7GChU7ETJwKzKzbGBU\n",
       "rRyS38veIjlplqKKmtY7NyCbosuAVMAD54WIeEtbLCYQ6nQnY4WKnQjpTUdPE7pH6iCRLH9IHAOA\n",
       "GAYXwaRUmdfKNyCbwlvx46WtSalysTZlW8hBnkXP7mSoULKTIF239/fP0e11c5ZnvpbWxkNPjvQa\n",
       "MFspIbO7YClRVls6WVovcfnm7E56Cl3fiZBnNj/HA02984KylVYWNw+OGVqwHQMBoD8KjemW2+hP\n",
       "XUGNnM/E7qSj0GMngwzZ/KBH9mbeWystNWpPjjuvwUAIK2VRPFO4rHfE1CGwaKWVrhs9yM4ymLjZ\n",
       "iw3YmTdoqZ/h3/j5Sj3ZSK+D3R6tdtlRN9xBwFa6PR56cnz3P2eB3/9lTuytdHfTJye/8ONj5J+/\n",
       "/gE4+yz6PpFFhQAAAABJRU5ErkJggg==\n",
       "\" style=\"display:inline;vertical-align:middle;\" /></a><br>"
      ],
      "text/plain": [
       "addOneRightInExp: forall_{a in Complexes, b in Complexes | a != 0} ((a^{b} * a) = a^{b + 1})"
      ]
     },
     "execution_count": 24,
     "metadata": {},
     "output_type": "execute_result"
    }
   ],
   "source": [
    "addOneRightInExp = Forall(\n",
    "    [a,b],\n",
    "    Equals(Mult(Exp(a,b),a), Exp(a,Add(b,one))),\n",
    "    domain = Complexes,\n",
    "    conditions=[NotEquals(a, zero)])"
   ]
  },
  {
   "cell_type": "code",
   "execution_count": 25,
   "metadata": {},
   "outputs": [
    {
     "data": {
      "text/html": [
       "<strong id=\"addOneLeftInExp\"><a class=\"ProveItLink\" href=\"_proofs_/addOneLeftInExp.ipynb\">addOneLeftInExp</a>:</strong> <a class=\"ProveItLink\" href=\"__pv_it/c9a0a6e11fdb24e8ba276e01296ae7bb3ceda9100/expr.ipynb\"><img src=\"data:image/png;base64,iVBORw0KGgoAAAANSUhEUgAAAR0AAAAcCAMAAABrn5tYAAAAOVBMVEX///8oKCgUFBQNDQ0QEBCI\n",
       "iIhmZma6urrMzMxUVFQiIiJERETc3Nzu7u6qqqp2dnaYmJgyMjIAAAArQGDrAAAAAXRSTlMAQObY\n",
       "ZgAAA3VJREFUWMPVWYuWoyAM7e4K8gb5/49dQEElQbQ605mcM9OcEq5yCXnQ1+u3yzhN705l8km0\n",
       "nymWvskNpeI5tG8RNkKtI5NJH+QNt1vZ4ffRvoEcDrWeeDUvld9hR95H+3qZNNR6hHpCeDS27gF2\n",
       "bqB9uVACtZ4QoV8kBQuh77NToa0h2n2cLeU10LoiA48urYLQ++xUaNZc9uVvyD4XMscQojflM6Vv\n",
       "scOnIEP85wCayqwp+fGDNRio9YOyLubC3PadGi27jDW/8mDF+OCWtdGLG2wgOzWaszqKEh93HTdA\n",
       "7UwRYG0OqcOlzaDCc1LnrBrNyyjCfj5jTUBT1FIyaHRtcGQ843I4JOJ1MxpnaVg92NYclrnpxYgl\n",
       "YDukrLVxCG81YcEWHWGebUL8tBF6PBFlZ0Yb41R9sGYjLRfFB5F0sjfAn7V6CEvHOcyqy9GJV5oe\n",
       "3D6alB0HI0u46nYf+MQwFQuDCS1GHAKKHW0speFbzWR4KTbZfSPSNjhmR6WFi3HJD7v4SiuNJgtR\n",
       "aNc+72E9kse77OATcSJntFg0g5jspFE6IjmVlm3svhFpGxyzE5kMD2ZI2l79f9EGWWwX1rJ3gZGz\n",
       "voNPbKTQhKam0vNpSvhUjls6p8ywre/lRqRpULNTIGdrO4NEY1H5q+R7TftobDy2regI86oRd/jx\n",
       "xEYDN6NJxWfStWDhy12D4bRTWFvTNKjYKZA8pcZ/4c8tz6j9m8u9pr1JpezLKMAOOtLPWW3IVs4K\n",
       "XOZrIBqWzUTa8BJx9R5oaUTaBhU7BXLm1my2ZajYWcuVRUvPCqfJ4s0VGDlRJrUh2+WXJ2sBT6IX\n",
       "MpF2OmApwxjS1rQNKnYKZNo6mbcwTqmjxLr1i6Y5IUxxAqMJPnKiVm5DwgAuy+lYXjpsqXQx1q7Z\n",
       "lmqyzaa5EWka7NlZIWOz9/fP0uyhOSsxX2uXbocevdEDaKFSYn6MwdKyTW0ZdRu8JOab3IhgBqjv\n",
       "FMiczfP1AKh3XtRC7YJo/+QtA0QbOTGEpqXIkm51iP4yFtQs+kxpRBADjJ0N5JzNF3osUlWyAWpX\n",
       "+rRHbzuP0cgcVvZFcc/gsN4xXYfgBmrnRbAn2bmMZk72Yg12+g3a2s/o6z8ruUf76Otop69WUXbc\n",
       "CXcwFGpnLyQevb37yrvA938xMyPUTj7z0Ytf+vFr5J8v/wEUUSz6JSqI0wAAAABJRU5ErkJggg==\n",
       "\" style=\"display:inline;vertical-align:middle;\" /></a><br>"
      ],
      "text/plain": [
       "addOneLeftInExp: forall_{a in Complexes, b in Complexes | a != 0} ((a * a^{b}) = a^{1 + b})"
      ]
     },
     "execution_count": 25,
     "metadata": {},
     "output_type": "execute_result"
    }
   ],
   "source": [
    "addOneLeftInExp = Forall(\n",
    "    [a,b],\n",
    "    Equals(Mult(a, Exp(a,b)), Exp(a,Add(one, b))),\n",
    "    domain = Complexes,\n",
    "    conditions=[NotEquals(a, zero)])"
   ]
  },
  {
   "cell_type": "code",
   "execution_count": 26,
   "metadata": {},
   "outputs": [
    {
     "data": {
      "text/html": [
       "<strong id=\"diffInExp\"><a class=\"ProveItLink\" href=\"_proofs_/diffInExp.ipynb\">diffInExp</a>:</strong> <a class=\"ProveItLink\" href=\"__pv_it/87bd77c0b10a49746705477be527929472a4402c0/expr.ipynb\"><img src=\"data:image/png;base64,iVBORw0KGgoAAAANSUhEUgAAAVQAAAAcCAMAAAAJMLcyAAAAOVBMVEX///8oKCgUFBQNDQ0QEBCI\n",
       "iIhmZma6urrMzMxUVFQiIiJERETc3Nzu7u6qqqp2dnaYmJgyMjIAAAArQGDrAAAAAXRSTlMAQObY\n",
       "ZgAAA7tJREFUaN7dWYmSpCAMdXcNgpz6/x+7HEILcvY4h5OqqUr3PF/oEHLgNP0aWbbtV9n5GSLR\n",
       "77LzlYKXVDlkE2/xwegDFTvwVJ+SVPGys/eOMxl8oGJnmOuHyMZTxTt5ByB85BgD2MiSamxXs3YO\n",
       "skGuHyIIUiUcvZVPMJDu1mXCs9P4ULrI2QlklutVydQTnMx2nihBqPay6i/MiJqoc24aqjw5Oy8y\n",
       "yyXFVDhOP7vCX0vwrOsWqua0hXrRP3UWp50aWcJhp0BmuRj1n+gTTn9Y/XwpwTvPfdtVbtaRviFn\n",
       "50RmuXyASvHs02+ymRoIjM00ZOh0ertzccbOicxyKcmNsPUJgarmVDn3WlKO7A8CBcfOwDzU013t\n",
       "nMgc124Twyqf4FS0pYr+PRLBzKvuayGWnXdsQovlzEVs1aKdnfNdk+9S+Z9dOUi47jOlqbLMeuFb\n",
       "rdK0Ebr1xK9SuJ0EjbCcuRbzJK+4SlBJVgLlyTcGtCmsVyrhiG1W0k9davlGEoXPKp8TQ0gVEVGq\n",
       "Xhqu6mGJuEw2hUuTyoVESH/LsekZ8CbTybcEaFPUncrI0U27QhsXCZQoyELWy4byPSSKAiJGt5za\n",
       "wxJxmdHqUqYUFYwbIsWsL4RMuocioE1Rd6rZAL00nOubwnn0ykwDOHG/j+kiYihSe1giLraFywmO\n",
       "gGwhJ9hcgoVjYvHkWwSEObiGiJwajDq0dGYMeE3PDyWxwneDFnstcFqIYC2TU8kIS8xFGXE7xVes\n",
       "v4ymV8UVy02+RUCYgyuIyKnBKLFtyD/9p45VXI4bobHCdxPLZJsEKzq1heip/l0sMZdAx+lH2lt4\n",
       "tcETSgyPeY7Jtwzwc3AFETs1GHWbJk77PV8uTeZEscvRR13WR/UqItv1vsGScO3wmv3AhDxe3VgL\n",
       "ExMYZybfMsAnwgoidmowakOC+tAwj1xSXQgpr3ACgBmBck5sI3qqeg9LwqWOFZrwoMoUl1czgzic\n",
       "exQ/+RYBoZKVEZFTX0aJTmJ//5hUpkrV3+5prNxyRwufyKUbXLwvpjpIfJoksC0+EzN12U++OYBD\n",
       "+Dk4i8hFajDq2yl/hXbtUyckU+UG4Tv/RK6FgABkfx8N3QzX9ZCasQubCA2TbwbgEGEOziEyTj0Z\n",
       "de3U4VWZe8GG51S540aBfBUXuIQYD0YtQAei1qeKdvgRkSoflxVP38fV7idE97u3rFM7rhXCPM1v\n",
       "e/uubswk41zqBkTNqaon+ARKlY/e0d54O//NN/3ve0QsqfLBldz4Ggk94ZXUM+U/Dt8yzwWo9Y0A\n",
       "AAAASUVORK5CYII=\n",
       "\" style=\"display:inline;vertical-align:middle;\" /></a><br>"
      ],
      "text/plain": [
       "diffInExp: forall_{a in Complexes, b in Complexes, c in Complexes | a != 0} ((a^{b} * a^{-c}) = a^{b - c})"
      ]
     },
     "execution_count": 26,
     "metadata": {},
     "output_type": "execute_result"
    }
   ],
   "source": [
    "diffInExp = Forall(\n",
    "    [a,b,c],\n",
    "    Equals(Mult(Exp(a,b),Exp(a,Neg(c))), Exp(a,subtract(b,c))),\n",
    "    domain = Complexes,\n",
    "    conditions=[NotEquals(a, zero)])"
   ]
  },
  {
   "cell_type": "code",
   "execution_count": 27,
   "metadata": {},
   "outputs": [
    {
     "data": {
      "text/html": [
       "<strong id=\"diffFracInExp\"><a class=\"ProveItLink\" href=\"_proofs_/diffFracInExp.ipynb\">diffFracInExp</a>:</strong> <a class=\"ProveItLink\" href=\"__pv_it/cd6f504df593f2b66cf67d0304ff1ec6ed9655580/expr.ipynb\"><img src=\"data:image/png;base64,iVBORw0KGgoAAAANSUhEUgAAAawAAAAmCAMAAACvSl+UAAAAOVBMVEX///8oKCgUFBQNDQ0QEBCI\n",
       "iIhmZma6urrMzMxUVFQiIiJERETc3Nzu7u6qqqp2dnaYmJgyMjIAAAArQGDrAAAAAXRSTlMAQObY\n",
       "ZgAABRBJREFUaN7lW4uOrCgQdfcKgrz9/49dwBdgATItm9tjJZNUOqdPKdSLamYYXitaw/onImiH\n",
       "B+1C+l2CDKx/JpPp8KhdSL9JplGA+sc+0CMM0LtjS4wE1D8Xozs8bhfSrxFKYX3PO42JRyKNN5W3\n",
       "hukdY/zB2P86IQsH9V0Ubtsru90qv/cVyRgLHOAHpL9IDIX14zN5I5PiVSzUkMgRGqMANhY5QDvp\n",
       "7xEeBBMHAmuAPistt4Wf3zCo7WlgYyYupK2kv0ewgfXTjxGiDa5MsA5OanpsTMmgsdgBWkl/kYwI\n",
       "1o9WeRYDwj+P26mpL4eNxQ6wkprHT/HfkAUJqB/C7Abqn59ER9WCvmnMkaqjupnXlDC9wPq5MNaL\n",
       "caX/Wi5ytm5N+7wZm9guIqSPSDnbXYy9p2TNsH5uhF2vUf6Ebk1sS1N/kTcWMnvSPaCUfM1mzQzW\n",
       "zw/FoO/77pQWHNnUTBaMhcyeVCvhhM/v6S8WDOtncaeqoewofenvWhy/YCxkXkkXnyhn9aLNQrDO\n",
       "scKoONi5IjRCcxpHYrnRq1WNJcwrKfXtELsZuc1js1yiX2rT02L/618SKaTypDAkWctQn0a7BqZU\n",
       "b64IadnHojcoEwi+b+zC7El9YhSFLZBM0Znu9oFJVgyoU6yrVIOUigZ2m6LVOpSBSTMQ361rSBej\n",
       "UzGDHSODsEdXcm0bl2qayhrLM6+krlqhS+AKqTC2nwriekliVDrJygEuDCBCmhpJ4UW4f4t52nqp\n",
       "lLQESUpKoGOPm9E1EE0e4Q60aCoVxVxigY0VmFdSV8Yu7YVmkgtHqLnaozKaZGUBFwYQsQZoiaSw\n",
       "Wf4oInzOi5reIOpzkPxmjez4RrJsNI+YlEZYt29W1lieeSXl5gg4gRH1E8SjaZyIXBl5PMnKAuyS\n",
       "IYTCtvOCsFaQD9ACSbxZx3Nt77E+iQPPOiXNQ4ppUPg0IwtVpI6IgFDNoq1UV1LG6RpvYibbMP7I\n",
       "J1poDk2ysgCXesgYzbESxA0ryWYd36C+c/1j//RGsWeSG5DztRGgCx9j1AySZ5erhgC84UOqK6nc\n",
       "T8rY7gKZvZseZUDEfNskKw/wRZMEgCvCWRmLVpLNOp5r9Rc5nGGzz2EP0jwErP+n7t/MpjxVnuIV\n",
       "EbfPWXepANLdvVx295czyLyOqdDAJSHAJKsA2NbpAICIipVks45veK9ku3e6r+wT7huQk45CuqAI\n",
       "EU5R/shQR2w5uD52v0sFkGqxvZt1RKZdxT9fBwsUNrD7JCsP2EIkWJAYccdKvFnnN6jN+//+47K/\n",
       "jlu9G5CA2cD6c4Ni8T+Q2oMaWSaXGxUJTtrEdw0Ddx3WPsnKAoxbHxwCUoS3QnJWwMg6nmvvyX2u\n",
       "w+shKiGFIMkUZ4T1p6QH55V0okhu/SI70q6w/QxzYw7iIuqYZOUAHCONRARIEGUr0GYF31h78m0r\n",
       "lO/VU1IAkg5aBag/JabH7ZYiKdoqTvSWHwMGWbdSPGdJqCTLOuTOvOkh6UD5A9Jqn1lvRO+3qpnN\n",
       "MnXSehViFNafEdl43aYPqf4YMDS4B7hZWlZJdf33ifD2yfM3UXCPq+n4777vjvtRi+AgJJanf3Ud\n",
       "e/yMO77nt+FLQe7yLyQbX49eEL32JppzVALrT1D3uCU2vvk/E8K7X9r0Ctq/m/R7JDwvsAevJvOx\n",
       "QyvYhfSLxE3pIf1jWtnjWeXwbuHBbRQ+P+W5rEdtYXp4u3AC6x/FwNQjCeyk/wHJ6UvM6Uht0AAA\n",
       "AABJRU5ErkJggg==\n",
       "\" style=\"display:inline;vertical-align:middle;\" /></a><br>"
      ],
      "text/plain": [
       "diffFracInExp: forall_{a in Complexes, b in Complexes, c in Complexes, d in Complexes | a != 0, d != 0} ((a^{b} * a^{(-c) / d}) = a^{b - (c / d)})"
      ]
     },
     "execution_count": 27,
     "metadata": {},
     "output_type": "execute_result"
    }
   ],
   "source": [
    "diffFracInExp = Forall(\n",
    "    [a,b,c,d],\n",
    "    Equals(Mult(Exp(a,b),Exp(a,frac(Neg(c), d))),\n",
    "           Exp(a, subtract(b,frac(c, d)))),\n",
    "    domain = Complexes,\n",
    "    conditions=[NotEquals(a, zero), NotEquals(d, zero)])"
   ]
  },
  {
   "cell_type": "code",
   "execution_count": 28,
   "metadata": {},
   "outputs": [
    {
     "data": {
      "text/html": [
       "<strong id=\"expOfPositivesProd\"><a class=\"ProveItLink\" href=\"_proofs_/expOfPositivesProd.ipynb\">expOfPositivesProd</a>:</strong> <a class=\"ProveItLink\" href=\"__pv_it/8c5ef38bbfbd95fc540a65c97d4e0d7f664811c20/expr.ipynb\"><img src=\"data:image/png;base64,iVBORw0KGgoAAAANSUhEUgAAAVwAAAAZBAMAAACP2ot0AAAAMFBMVEX///8QEBCIiIhmZma6urrM\n",
       "zMxUVFQiIiJERETc3Nzu7u6qqqp2dnaYmJgyMjIAAAAcRTyBAAAAAXRSTlMAQObYZgAABKtJREFU\n",
       "WMPFWH9oG3UUf03ukvRyl+4PQacIZ6tjzBVCD5wwrRVR/9ztD52CYKjT/rONMMfqj/4RJ8wrcxAc\n",
       "ZEWdXFewGqsJyBiRwUKDiB0bhxNci0JwMnCOOsYE16r43n2/d7lL7q4YqT54ufv+eHef9+79+gYg\n",
       "gsbGi7AuNN/fjZQwPhG5nl8fsJAc2dmdYOl/gfsgiKFrcr8aPl4/uL0W43aqId8VsP8Evx4QN/jm\n",
       "aVzjcgi3SZcfwuBm6KJYXcD9iLOHpDdQ/wSGw63O7VKBXeMF0N1H3M7HJEOMcM/RwtUwuHIVLxmz\n",
       "C7g/c/ZSJou40D4/Qbx9e4YHdU/VM3mZj0mGGOFO0YcrhMG1V6a6QKtkGfuoj949D3BscEv7/ovO\n",
       "Fm8uWnXG85xLtunkaqjvkt3PdRP8RcY+2kGfaTpw/6uOlUfAVVJYccbTXK4EykK5fDw81L4vlz/u\n",
       "JuKOc/bRVxxQQGA67+gd+sZ1PTnvjEmGGDPD74YxEQ63zzDeqneu1IOTUOt2gHPvQ0N3upNX+rfj\n",
       "pmyAZIwmjzXu8UVJZnSAf3aSIUa4LwJMhsNN6JAKKG3ZwP2eADrK+dFi5rob/X+ZlSIoTWd8YZno\n",
       "Mt2mMPkIG+FX3+MqVyWeQ0iGGOE+xoLOofTbY6MeuEIWPoMwuMJyKNzXGUt3UyrCq/3oFehTIR3k\n",
       "W0k047SF9cPRjH7OmnCDg8ozRrhJiPG8Kp3RLOkZU7zmLRN5GPQqs//wsNqyboNPn978wo9+uLcx\n",
       "jq9AkvZXyCLxJlTqIF4PgNuDjvmICftdw9L+YZD+YEOSIUa4spXkey7VyqC8D3DGC/d8q7Z90ngY\n",
       "1Lp8Ehray5rtVb9wJWMyLKiytk3b3ga3pwAVSvvJHEu7O6rhcO8A6TfX2jk77QqrHXB7m0+z0iyQ\n",
       "yR4/hTNeuB+IOSeVHnnXRLjKpy3r3uJKItwlK8gZ0JpnW2nXIgsKeb/vXuHOgJZM+zX5kz4O87o8\n",
       "Y+oZJnez0mwX3KXFtp4hVULFpaF9Ojo5EsKdc+GKNzaZtpIEtx4UapUq7Es7odo3gq7sCTUPYahJ\n",
       "q5Bo1ryTN8md20MNPs+z0jxDC1/U2uCmt+HPrP68yboLtR7XXLix12JZW0mEq2V9cBuMU6py0E1v\n",
       "CStFm4KSIGWpQ/Bdzre2F950YrjOmOBitNqleZdhGOp7T7V3ZBScGuwCyYaoPjA24sJFME1byVj8\n",
       "pQP+UHuSsTR6X+leN9yHzpMH60GdN77qw/5nR30lZGar01uRDDHBVUxWmhO2Hid5FnHhLtkd3yYQ\n",
       "XzGMQ6B+PUiP1HmAxHO2kjH5nW/JOdYowjbNRhbhYJrlXPKUalm3q5BuNxO+fhez9dEy5JgznFpo\n",
       "xY7ZU00wZ0g/Z67d4oDTrnTSxejDktvieEr1EbqbWz6sd7TnG8WbFnzJ4MpzfHLKTJqXwFaSElmb\n",
       "S05CcLWUmoGAUlGnQk8D6S3c+FmDTxNP3D9gQQr9Oz1xTdL4C3dWxT2IkZQ8faE+M7xmex6FSypE\n",
       "wCWZVPGfHn42o+96qRqsZPThZzHkXScicCw6cv/mrJZep1N91yfh8cj/GZT/GqwwfvBvhJtY4lqe\n",
       "2N0AAAAASUVORK5CYII=\n",
       "\" style=\"display:inline;vertical-align:middle;\" /></a><br>"
      ],
      "text/plain": [
       "expOfPositivesProd: forall_{c in Complexes} [forall_{a in RealsPos, b in RealsPos} ((a * b)^{c} = (a^{c} * b^{c}))]"
      ]
     },
     "execution_count": 28,
     "metadata": {},
     "output_type": "execute_result"
    }
   ],
   "source": [
    "expOfPositivesProd = Forall(\n",
    "    c,\n",
    "    Forall((a, b),\n",
    "           Equals(Exp(Mult(a,b),c), Mult(Exp(a,c),Exp(b,c))),\n",
    "           domain=RealsPos),\n",
    "    domain=Complexes)"
   ]
  },
  {
   "cell_type": "code",
   "execution_count": 29,
   "metadata": {},
   "outputs": [
    {
     "data": {
      "text/html": [
       "<strong id=\"intExpOfProd\"><a class=\"ProveItLink\" href=\"_proofs_/intExpOfProd.ipynb\">intExpOfProd</a>:</strong> <a class=\"ProveItLink\" href=\"__pv_it/c9d8ebb92960eb87ff2686b7d136bd2de2fb32260/expr.ipynb\"><img src=\"data:image/png;base64,iVBORw0KGgoAAAANSUhEUgAAAaEAAAAZCAMAAACvmGFcAAAAOVBMVEX///8oKCgUFBQNDQ0QEBCI\n",
       "iIhmZma6urrMzMxUVFQiIiJERETc3Nzu7u6qqqp2dnaYmJgyMjIAAAArQGDrAAAAAXRSTlMAQObY\n",
       "ZgAABL5JREFUaN7tWouO3SgMZbfh/c7/f+wCAQIJzoOrztWqRRp5qrF9gIONcYrQ9OBCCIX+iOGI\n",
       "YxiTn4alYYftB/YC/THD0cUhtHzhPCr+l6En26RxXOyqf0v0Xar8cQwp18ubYUrUcBxyzvIG4Xn0\n",
       "NSoFr+JGhvyu6SYYmjf/xtCyl6Dako8fz1u1MISIRewxwn30FZBOpeAVGRmypph4PcHQvPk3hle9\n",
       "hBVz0tHbCVRrXC817DHCXk/B0VdAGpWMV2VkSBXSlZzJcvPmXynJegmPtRw8i1NRFW8DbN1jhH1c\n",
       "RF8BaVU2vF3Ge6ic/T0aXt1D0+ZfGOVxcPtIoDUt6WUKYU9zcPQVkE6l4BUZGXJWx6FeX/ybwbT5\n",
       "F8oE0Ut42F3D0wmEhgY4+gpIr1Lwsky13CrjeP80ygCz5j8/SkVbK1tFLMHL4P70PJS/W1KwZAIB\n",
       "9jwGaXkjnUwM8RReUk0y9M6cev9A6bJaSlthsYVcnhTKkK6XNFa4fh1ArCF36zUtyQ3na30zyAkB\n",
       "9AyAtDeZ72RiiJK2eBh0dxZpiSQEYOjOHBlpueD4cEZAhbjQi4URllJrsOJo6HKgUCZsOqnjMwQR\n",
       "2TG7TSjdEGuakXmTvgHPp/NzBGk3Q3Rye7HG3/E5U2pjCXHb7Wc11tCLdWxerDWTwZL5cqK9uVG4\n",
       "ZijPmLaPDG9uFEpZRTtJ0t8F3s90Jdmnf6cZsfUFQ2PPh8gZgDSj4GW5LSdeUueT4qRROiKF9TM3\n",
       "eIQXk6F5tXYqzcGUmZSwBhWuGYpshnXFOFnMwSWoMGZokVVzWw/vHip0K4ZnGDp67naND0DuGFIe\n",
       "MX5sEdE2dRBk4a7Pbo40wdyz1pqyXGiqAowx1xcKR4aqy007n+uoLFzvElQYZ7nt+JoRAaurgYCo\n",
       "uL2H+AHhwjMA0t7BopO5LycVp8cWUXuxODWq5+vUq7kWLGyObq2ddt1diIVOFQ+ocGCouuSpZPwV\n",
       "flzGKFkku4QVxpWCTseX+6YJVjePlrsEqhSgCL/zDIDcVAqBbiKOXSTdhJDGoxDaGSrmKFYTTKDW\n",
       "2uh+mhIncFjhwFB1uZFh0B4iC+5cwgpAIZvsQtI5r42HfZNZmbx5Rtx6BkDadGU7WXrbtaKoLSIm\n",
       "0pGMWAHI6kgf2Nsu5jHxY95Zh+hjx0xN+IXCgaHqsmt8phS/0s4lrAAkEB3eI0xxfK7tQ2atb0zP\n",
       "XjB06xkAaV9JrJOFIadPXaQ9uVLDoierQIayeSrupYv3/25NNG6rzBifcddBhZ6h3SUPCf/ff2La\n",
       "d4dSLbuEFd53fdos+1nX53X3XfTy+H2oaRFZtpcJZHhjnuceLjC20kRntQ6va7Z1AlUss8Kd4SSg\n",
       "MIyh6rKdbbzJ4nOnczlSmO2c7nkLT/Vmp8eocwp1kWSufBzn3Fov+D1DlGODSWcdTkOoe2RsPLAY\n",
       "Oyz4QoDCiKHG5VZIZwZsSvm9y4HCMX2qXt4faf9yh+VnQTT6+nDRZCr30HXX54W1eeh+/B4yo4vX\n",
       "3Cn0G/DsC94HG64/+whzOkI/+xXcPF3ueJX+zuWD8/7yK7h7HxHqk0/NBc8p9BWGHs99yJAzNy7d\n",
       "/+AL1XvCP2Lot/1/OYL+jq14F4L/B8rJQ1/XhjnBAAAAAElFTkSuQmCC\n",
       "\" style=\"display:inline;vertical-align:middle;\" /></a><br>"
      ],
      "text/plain": [
       "intExpOfProd: forall_{n in Integers} [forall_{a in Complexes, b in Complexes | a != 0, b != 0} ((a * b)^{n} = (a^{n} * b^{n}))]"
      ]
     },
     "execution_count": 29,
     "metadata": {},
     "output_type": "execute_result"
    }
   ],
   "source": [
    "intExpOfProd = Forall(\n",
    "    n,\n",
    "    Forall((a, b),\n",
    "           Equals(Exp(Mult(a,b),n), Mult(Exp(a,n),Exp(b,n))),\n",
    "           domain=Complexes,\n",
    "           conditions=[NotEquals(a, zero), NotEquals(b, zero)]),\n",
    "    domain=Integers)"
   ]
  },
  {
   "cell_type": "code",
   "execution_count": 30,
   "metadata": {},
   "outputs": [
    {
     "data": {
      "text/html": [
       "<strong id=\"natsPosExpOfProd\"><a class=\"ProveItLink\" href=\"_proofs_/natsPosExpOfProd.ipynb\">natsPosExpOfProd</a>:</strong> <a class=\"ProveItLink\" href=\"__pv_it/df01b73454c2c5c04f40f6150fc38998d2437f050/expr.ipynb\"><img src=\"data:image/png;base64,iVBORw0KGgoAAAANSUhEUgAAAVgAAAAYBAMAAABNbfirAAAAMFBMVEX///8QEBCIiIhmZma6urrM\n",
       "zMxUVFQiIiJERETc3Nzu7u6qqqp2dnaYmJgyMjIAAAAcRTyBAAAAAXRSTlMAQObYZgAABFxJREFU\n",
       "WMPVV12IG1UU/nYz2WwmM9k+KKKlMO6q9aFI6IIPuqu7iPZBtKFgFRQbQosoKIGui6iUtYIkrcKg\n",
       "YKUqTruIZWtNUIJdaWnYtAr1hwEruEWXgFa0yLKID5qqeO+5M9k7kzsTF6HQD04y3PnOvd+cOefe\n",
       "M8BlxdffDOdwpeDcBlx7pWhNHy6h/d/Dbo5vG1njCv3L+bUpcoWFMc9swNLWKR2UYTcn3T6b/DI2\n",
       "sDSFFh/9Pm5xY6I3R8YRzyToL5SYULZgXz7RyKscusJ+5Brg4EYMOeSHx5mdxuf8zsV4sb05Mn7x\n",
       "TEaWvV+dPfM7SN2bVzmgK+w/MCtiUvjhAxL7Bn+mmXixvTnyu8sJC2Coxn4WgHvQ/6XKgRAM+yVm\n",
       "V2MsSX4wLC4267CrWrzY3hwJKVtYAFvZDDgU7UAIhF1jGZFewVRd+OnruFjz7NzcAcSL7c2RcMCz\n",
       "AD6jXJiIdCAEwm6wLNcK2OR6fj9ysfijXH5eMUVDEhvFUWLEs/TY5us6gz8N384mykU6BMgiy4sj\n",
       "/rskvyaJ3QVUFFPkZLERnPtbisFXPJu0syud3eAfp2rDXKUby4QcFGSB6kX9Tz+pud8Sib1LlFus\n",
       "2DAn8/JjRcihOv7ptOVdPidM34AE1STP1kwbQxYyJWVkZbJ4NP5zysFv/mrc72MSm0K/vIMnd5/G\n",
       "9YWQWImjnxh19Yec5K/8VfEXdbQ5jnf34VE/b64SlmgjZVFQ2U+ihWoDyRWlWInsBZUH5g7of/mS\n",
       "uN8OEmu4qQ6NL3zccBJOc3T3aG1VrMT5dn4O5lvACb4hsTo29x90sNhAJiS2bwZVKu1psc1urcWI\n",
       "7ZDF9lCgbVa71C023dre2fH4wietnBFOA8GZvekCND5+N9tP0nyC4SdYhrCqfZitZAfTgEXy1Oo2\n",
       "6+JOB1opnLMFKMgCf/Nwe7sY99tCYlHZ6bcMfGHU6692iSWO/nSyjSwfOb8o7mx0Rui4No/ZXQVW\n",
       "reGpjD88NMGyUi6wUEUGyAK/45DbXWD4qOS3DDRZ3Tj2SJdYzknkkiXM8pFP5sWdvVjSOS9zVFqo\n",
       "KWzQMqcNf2zAHWS8REMpNkwWeBIv+pfkNybEsjoVLQMtjDoazS6xnNNX6y/gwXK5bL35gJ9ttyaf\n",
       "KZf3puvSeb9FmF688fUbOvW9me/2WXX3FiYLzG7qlD35XRBiTcdrGWhhJvZtXk35gFjOqdqD550B\n",
       "etTDYn9pYz0o7W6zxBYVedwS3utx3EaB++klIZZALUNBRFbbFjpuvT7D3nEfjDydN3kspPfhWXMG\n",
       "Z/it185QpxHdyBAWojufWKw2Ml4vSS0DLXwO+E4pVit+OA7s55fvL7+UT67H9i9YuvEdTv/q510d\n",
       "fgXq805vRYipxGuVWkRPCLUMfGFtzwQGlGK97waWs97BIv5uZqnTq/kmDNox3XoMyK8iiUXEwiRv\n",
       "j7ow5tf4WbMY9x0UA+5nMsG3TP2Prz/3sn9v/guCFFjCrtC9MAAAAABJRU5ErkJggg==\n",
       "\" style=\"display:inline;vertical-align:middle;\" /></a><br>"
      ],
      "text/plain": [
       "natsPosExpOfProd: forall_{n in NaturalsPos} [forall_{a in Complexes, b in Complexes} ((a * b)^{n} = (a^{n} * b^{n}))]"
      ]
     },
     "execution_count": 30,
     "metadata": {},
     "output_type": "execute_result"
    }
   ],
   "source": [
    "natsPosExpOfProd = Forall(\n",
    "    n,\n",
    "    Forall((a, b),\n",
    "           Equals(Exp(Mult(a,b),n), Mult(Exp(a,n),Exp(b,n))),\n",
    "           domain=Complexes),\n",
    "    domain=NaturalsPos)"
   ]
  },
  {
   "cell_type": "code",
   "execution_count": 31,
   "metadata": {},
   "outputs": [
    {
     "data": {
      "text/html": [
       "<strong id=\"sameExpDistribute\"><a class=\"ProveItLink\" href=\"_proofs_/sameExpDistribute.ipynb\">sameExpDistribute</a>:</strong> <a class=\"ProveItLink\" href=\"__pv_it/26148075c54437cb6cbfa020de41dc6ac12a7f390/expr.ipynb\"><img src=\"data:image/png;base64,iVBORw0KGgoAAAANSUhEUgAAAS8AAAAYBAMAAABZ+GZKAAAAMFBMVEX///8QEBCIiIhmZma6urrM\n",
       "zMxUVFQiIiJERETc3Nzu7u6qqqp2dnaYmJgyMjIAAAAcRTyBAAAAAXRSTlMAQObYZgAAA9dJREFU\n",
       "SMfNV11IFFEUPuqO487urD0YBEEsCiIStSBBlMKilPRQrg+VFNUiSQgSFiX9Iz7EqFkLJYoVTVZW\n",
       "aiWIlWKwKPZgf5sFZZjsg0FJyRIEZRDdn7mz8yu6hXjgxOnM3nO/c88597sCLDEpDMIJWIoSnuWW\n",
       "LUK6jmzg5YVEcN6sTq79P2CuKmqZrjtdLgVXyAJAxCJUP9KUcKqXGFHs+Zg4LqGWqnW6bcWQA1Bp\n",
       "XnbHKlYqyoD3JwWI8Qx7phMH5glRJULS1Uk+lAPcNy/7YpkkOiU+UEKNVpzpP1T1jaJESLo6OQLL\n",
       "UUG9xlWizzLYEOrK8vPU8KDedPckDuy4ohQYTlcnRx0xdACmOeNDlsGuA9yFJmqIo52dLYnjclZT\n",
       "VYaQpKuVzTm4iaeMy2x29PihyhGlBvyUpFOJA0v2URUyKwuHlHQZykP+PUIoDY/fsHFZFtL27Eur\n",
       "4zUuzuAi4PbB1udkmlHICoD6xIHhfbF2wzvvGSVdNnhjebWp4W3YnCSbzRAh3YXwC2HxMK/+XGjK\n",
       "Wo/Kx/6PjSIyA3FxnTtQrt/88dMar52H76E6Cq/kLUq6IJB/ZTRYjokwNh8Z8zmJcMruWUeI/I4s\n",
       "wRPoYk2BDR6S2WUnDOZFhDKZ+6oG6BougFsNsDds50nyU5VBim/7gGbKNTDHPiOwDAwljVwGwh/q\n",
       "KkMAuZjyHRvuCM9+/r6/E8QrAIPqVDe2yTAeBlfYzsOAAXzXzFyQNj7MBQwgnZ56De3IIBiAOaM7\n",
       "8MWxLjvgwOXf1IdcjPaK8Ird6GrCR94y3Qx6j6aUwP0wbu4Kxjtb02NBpZQIrvbOe0jQsVISo34/\n",
       "Giz5IO/3YNeHcQ3t4ZKI9xQMGye8oPdomn8gOQa5emC9AAzapBE0an6XvBZtq2bhg1RD80MvQsfB\n",
       "N4Ab2DXQH6c9AR+hq4vB6EINoffQuUbq+J0WM/Ayd/rFGr9KTAZB90dJzwWV/AF2ToxNYUpTuU0t\n",
       "9S/0UZIk7+XtcdrjjklSnbNPOXEBbaP3KGeOVCjPzTK8BFLgtXqvfjICQ7XtyGwviKfiE1eh8B4W\n",
       "mBiiTLqNw2eJ4rXTcSe0R0qxwUtHuhl2gd5joiS7F0j1PCnptsm45o66wY1hOvMDMORsoLQ3gr9d\n",
       "HEEs3Co7q57Uaj1WJG4jCyFxg9HxdmgUoBGb3TNnA9xKSntpeN6El58roLRH5FbIWg/r/hDVucTi\n",
       "2VNv9+zRG4z4UI8pQ6LQXo5Up3xjD5C4x/xQtJP6eT4U1QTtM+3X0x5YPo/NT2trEef7tB43GSaJ\n",
       "MNpTgy/2X0t/AUkbKhMGd9IfAAAAAElFTkSuQmCC\n",
       "\" style=\"display:inline;vertical-align:middle;\" /></a><br>"
      ],
      "text/plain": [
       "sameExpDistribute: forall_{x in Complexes, y in Complexes, z in Complexes} ((x^{y} * z^{y}) = (x * z)^{y})"
      ]
     },
     "execution_count": 31,
     "metadata": {},
     "output_type": "execute_result"
    }
   ],
   "source": [
    "sameExpDistribute = Forall(\n",
    "    [x,y,z],\n",
    "    Equals(Mult(Exp(x,y),Exp(z,y)), Exp(Mult(x,z),y)),\n",
    "    domain = Complexes)"
   ]
  },
  {
   "cell_type": "code",
   "execution_count": 32,
   "metadata": {},
   "outputs": [
    {
     "data": {
      "text/html": [
       "<strong id=\"intExpOfExp\"><a class=\"ProveItLink\" href=\"_proofs_/intExpOfExp.ipynb\">intExpOfExp</a>:</strong> <a class=\"ProveItLink\" href=\"__pv_it/e00652e9d641cc2db488ade92e94593ae95f88b80/expr.ipynb\"><img src=\"data:image/png;base64,iVBORw0KGgoAAAANSUhEUgAAAUwAAAAcCAMAAAA9SXYuAAAAOVBMVEX///8oKCgUFBQNDQ0QEBCI\n",
       "iIhmZma6urrMzMxUVFQiIiJERETc3Nzu7u6qqqp2dnaYmJgyMjIAAAArQGDrAAAAAXRSTlMAQObY\n",
       "ZgAABEhJREFUaN7tWdu2myAQta3cGUD//2MLCjggGDWmPeu0rJWXZGaLm7ltMgz/wGLT9AUgvsuy\n",
       "9CtAHC0hpdRfjDXOml9P5m3kNgTJkevJsG/Ay68XgVy0v5/fP/Q2BEMP1OJ7kTlBm+OZEIF/ctRx\n",
       "Qq4kLobA3tZ9VzJpyjrtymSUMCwvb2J4OTZ6i/FCvGaI2lsCInNrUs7dIPO++/NLz/HFQJU/KE+y\n",
       "W3YqFgY0kLD5Gc5jRwigtfcW355Ma17kyDGZ990/2LOnKuRG35bokoQQD194bth4ATtC8CUesbee\n",
       "EZk6naJWd9L8vvvzazSpptXNA/KPdq0EI/fc2IGf7z8bROUtDaqZKaKsuUPmfffPZfluYPN1zcWz\n",
       "hjGHk2TmPJkIovKmCpHpLISlL/eT1eG2++PLpcST+4nJ5hlwYmmiIfZClccQpTcZcTefVVjXR864\n",
       "57vuz/fyWA9zS9DUUjLCO0qmCVGNmikhFjLFEq5K3yTzmvspjcsOflt2TizZH56K+aZiyLDQLKa5\n",
       "jt/m8+2E1kZ3G6KeQDkik1HU5lqycVSWKko7ZL5yH4yyQgrSj4zSINBxEH58KS3eaTciT/Gb2BEg\n",
       "DINbRcsPu1CPOhB1qWZ4aA/wZF8/wFhK3VrPLRDoDe1t9+QNXHlPPtla4/YMDsmMG2atKVHSbYoJ\n",
       "HCwGkuwC6ULhaENUL1qSGUrp/rycMhoCmH977rTrKqCme/Z2emHJ2Erjdg0OyQy8++1zNAhtkVmS\n",
       "OapsepfMDsRhZOop3RAg1clwOtLB9uXk5u4FAhETx96MxwlClxq3a1CRmRFXY7tiBFtZH68q0hzm\n",
       "YGt21DH5smaKHHNtiPp0dKHNlRasVp24CDrdmsjyrrI7SO6xAXs7cLqlcbsGJZkZUSwzwy//cfER\n",
       "u+wTRQOCOXAqpqzHDxtQJ4HbEEfd3JNPV2KQ6gQUmEBagbmRmdyH0KS4HLC3gXInSOO2DUoyM+J6\n",
       "EgbFwliTmQa+2OKWJ0lRb51emOE6EO3xNt8azWljWXVyuYRCgPNYFgLT3Vuj5B7KGBGFt49p3tK4\n",
       "XYOSzIyI7y/WKjazTojERAZBCNeCVGbTedXTg6hOR1VkOtipzm3y8LopJI7VXTKjO4SIUS60lc2b\n",
       "Atnmw03jdg0KMjdE4WvZzx+horleN0+dZzi6/4fHldpEOveZSHVavnUf2izc+235YstntjDPkYbg\n",
       "6wWDDq04adyWQSsyMyLebCi6+zkzZ7A7EDmWPMwl5EOtycSqU6U7GCG8Lp2keE0mE8QQWnj7p/lO\n",
       "qYJM4iEis8ZtGDTIRIjrWBTZtC1VyMfcEbuv/vh/jE6cumknqWbeumlveZuT8M0507zuHMK0L4cR\n",
       "8uP/AEp+isyT2vz8MmffpMnFiZjKcac790HucS6dHf4OmadvvFpkujP3peazf2435I8aHiLzY/+b\n",
       "36fEsD987QdZWEkphv/rufUbReA2KOheXBUAAAAASUVORK5CYII=\n",
       "\" style=\"display:inline;vertical-align:middle;\" /></a><br>"
      ],
      "text/plain": [
       "intExpOfExp: forall_{n in Integers} [forall_{a in Complexes, b in Complexes | a != 0} ((a^{b})^{n} = a^{b * n})]"
      ]
     },
     "execution_count": 32,
     "metadata": {},
     "output_type": "execute_result"
    }
   ],
   "source": [
    "# Works for integers powers through repetition of a^b (or a^{-b}) and adding exponents.\n",
    "# Does not work for fractional powers.  Consider sqrt[(-1)^2] = 1 not (-1)^{2*(1/2)} = -1.\n",
    "intExpOfExp = Forall(\n",
    "    n,\n",
    "    Forall((a, b),\n",
    "           Equals(Exp(Exp(a, b), n), Exp(a, Mult(b, n))), \n",
    "           domain=Complexes, conditions=[NotEquals(a, zero)]),\n",
    "    domain=Integers)"
   ]
  },
  {
   "cell_type": "code",
   "execution_count": 33,
   "metadata": {},
   "outputs": [
    {
     "data": {
      "text/html": [
       "<strong id=\"intExpOfNegExp\"><a class=\"ProveItLink\" href=\"_proofs_/intExpOfNegExp.ipynb\">intExpOfNegExp</a>:</strong> <a class=\"ProveItLink\" href=\"__pv_it/264bad6cb8998b23b5d222fee76f2600d71a09950/expr.ipynb\"><img src=\"data:image/png;base64,iVBORw0KGgoAAAANSUhEUgAAAXsAAAAmCAMAAAASh8ukAAAAOVBMVEX///8oKCgUFBQNDQ0QEBCI\n",
       "iIhmZma6urrMzMxUVFQiIiJERETc3Nzu7u6qqqp2dnaYmJgyMjIAAAArQGDrAAAAAXRSTlMAQObY\n",
       "ZgAABS1JREFUaN7dWomOhCgQdXflPvX/P3bBAwoFpOljjCSTTLqrquFR59Nh6F5qdMsM91vW3nBT\n",
       "g2Lxf+yhU+8YG4dbLjTdc18k3dd72PN7HvGtQ33VKdjDsVcj/ZsflqUv4n4m+2zsGWuL/08nJlO0\n",
       "qkm4Hoj387Cns2yDCn/4ymXZKpY5x3ge9hNrlNOfvXJTsRo7HDqr52IvG91+aJVrdXtaszqFjyf0\n",
       "XOxxYxqnM0IMHN5iSxHqz0P8ZBVaRKHG2vG52I8IxEBlxEJcDR4YvXmkJaOTHnuDQfLE6tGiZjEu\n",
       "CcB+6h4HV+z79b+ScmJDp0RFULg7slOokVIhf5i51xWJgFYVPlgkcSuRCHDYm1AeJtWDfb/+N9iE\n",
       "OZdkd3z25fY5OvfD3hvV5jsM+ansJbiBObI69maVLt4OLNLooGwC2Mv9TqToyjn9+t9I9xxk8Gqp\n",
       "9fgvXmPWLOUnMmyGzrmMioPV1CKJzReaYb7f3dXoLuz79b+weLx/Xs3dLjFbsc3Ba7LyHxLdif0G\n",
       "RbSaWrSRcdShFfLYW6P8krzzB7v1v7BmfKh+RUdlZsdjIrtnItNdsbg6WE0sYgIaLA37nHnJWtx0\n",
       "Yt+t/w3sQ5sT+kWJDUa1fu61CbdgDlWDHjS+arYQ+3UuELIX+9f0m5gUUv3d5bAGnS87HmwQ23/E\n",
       "171prtXn7H7MBFa8naK5WrHTNuceC/YEg3qfm9lGYbDAuIT9lf6ghWGcobKfpQIXJ8F7BtXs3GKG\n",
       "U3K9ZXP/Ca4i80KyLJsj5XSlkgPPJpmteDJ6RR1tMLZr1TIKqeJsldff1RX1XRidzJFJKQnUsZcL\n",
       "4pzk2vGYTJd2z8O0yHBUHXFf6KPK5nQx7lPkQklasfcF4Xz5Vmip/PfuPNRmhsSAfVY/qFu5gKrN\n",
       "gUkpCtSx9/fkkot3/lFfYj+KIP0J7BvMNbcDK/ZychX6SEIQGCl4MBVOIeq7+EJsolCd0K1xkymT\n",
       "UhQ4Yh9MrtJmNeKFub3KOWqJcF1Fl/DLfM9CPbk2d5W1DjnH1UlGjiQEzN9W5hrfyOcEfcXpxpMG\n",
       "dauszDEpRYED9sEkW9qp/9yf3X7jFPsq9jlrrVVLILhZspwRCrW2ANy1uUvWw6bY620eBCQELBAK\n",
       "5dweYL/rD74gU57UF63SjQLOIy9wwD6YhL3c6vfjKe8Gp9or+vJrnA2VBhi/0Bw3mLskUPWBxwz+\n",
       "EkgIyleywn9hXKn1F1PmMXd9n4GXJ8JR3YVMEjM751EUOGAfTEJ+bE2586kVHdkhkyiGEJUMVZrW\n",
       "6YXs3WDuqnsOm96xt+pEQsQGzs3FPk6MLGO/6SvvjsL6ChrVsUKxLY+cR1EgxT6aZC7x/vuPT7+2\n",
       "1OcMYmrkFLKn+A3bpw7YD2cSwtBYaHG2JGV27SoFnZdWN6q7SZCunJX0PcrOeeQEsn4fTO795T62\n",
       "nvv7wYyNXBpQQT/FPu7wiD0kIcSWmCxjzJiJswbsCUMa4UTdybmeQfjhl3p/D5xHRiCHPTC59pcb\n",
       "+CbHBWgQCm2Dtvrxi1TxeXL1uRXa831ftObUdaP9fH+vL0scIBXqz05evKGPLbDBHz8zbG7NxBUl\n",
       "VVQE0SkbWEn7W+gBhfxr7Jsp2iz2tuEBgb3pO6Khdkb/ueuzctwf0/rW2AMa5HnvRt31JeRtdyAs\n",
       "H/g+5l+9Ctu2Ofto7O2NHT8Jyie+fy/QXaGXybtXT8TeE5833VjSB7yH/Vyfvf7Mvbi8Z0DaZKyc\n",
       "33qVjLp1x2PKWzq+InCHbg3/AwCqQJiCtseAAAAAAElFTkSuQmCC\n",
       "\" style=\"display:inline;vertical-align:middle;\" /></a><br>"
      ],
      "text/plain": [
       "intExpOfNegExp: forall_{n in Integers} [forall_{a in Complexes, b in Complexes | a != 0} ((a^{-b})^{n} = a^{-(b * n)})]"
      ]
     },
     "execution_count": 33,
     "metadata": {},
     "output_type": "execute_result"
    }
   ],
   "source": [
    "intExpOfNegExp = Forall(\n",
    "    n,\n",
    "    Forall((a, b),\n",
    "           Equals(Exp(Exp(a, Neg(b)), n), Exp(a, Neg(Mult(b, n)))),\n",
    "           domain=Complexes, conditions=[NotEquals(a, zero)]),\n",
    "    domain=Integers)"
   ]
  },
  {
   "cell_type": "code",
   "execution_count": 34,
   "metadata": {},
   "outputs": [
    {
     "data": {
      "text/html": [
       "<strong id=\"negIntExpOfExp\"><a class=\"ProveItLink\" href=\"_proofs_/negIntExpOfExp.ipynb\">negIntExpOfExp</a>:</strong> <a class=\"ProveItLink\" href=\"__pv_it/4dfaaef8a27142c51ec9214afd5c19bc509e7eaf0/expr.ipynb\"><img src=\"data:image/png;base64,iVBORw0KGgoAAAANSUhEUgAAAXsAAAAmCAMAAAASh8ukAAAAOVBMVEX///8oKCgUFBQNDQ0QEBCI\n",
       "iIhmZma6urrMzMxUVFQiIiJERETc3Nzu7u6qqqp2dnaYmJgyMjIAAAArQGDrAAAAAXRSTlMAQObY\n",
       "ZgAABSpJREFUaN7dWomyqygQdebJvvv/HzuACg2CScj4YknVrboV6QYOvR6dpuGhZj/MdL9h7Q03\n",
       "NSmW/8cBOvWNsnm65UDunvsi5b6+w57f84hfHepSo2APx17N9DcLy96DvB9nn409Y12XvzQWme4S\n",
       "mqTrgXg/D3u6dO3P4CuvXPaXwLJlGM/D3rH+I33hlZuTJXKFQxf1XOxl3+ynk0ffmz09W8Klnx16\n",
       "LvbYnUQjhFjvvBZbitB4UOKHJaBGlHKsnZ+L/YyAD5QtFuJqCljolm1aMvvZ86hnSF4sUWvULPsl\n",
       "Adi74XZwxX5c/pKQkws6Jcpnwl+LdSktlnIKhcMso6ZIBFxC4UojyVvJRIDH3qT04NQI9uPyV7AJ\n",
       "SyvIbmf1FoeDASq34bWPsG+GQlf2EdxAnDC4BI3WDjTSbKDMAezlfidSDMWccfkrwj0HEbxOtR6j\n",
       "ORqKQY1g5R0Gm2mwL6OiWqLUSHLxhRYY73dzNXoI+3H5CwbP98/ryOJjsRVb69sIVmEG0YPYb1Dk\n",
       "JUqNNjOOOpVCAXtrVBiSDy44LH/BWHCV/aBtMrND4MghggTLRGY4Y3FVLVFoxARUWxrWOUuMWtwM\n",
       "Yj8sfwX2KZqkelFig1FVz33R4bbUheVOnR4UvmqxEPu1LxByFPvP5N+iVcjpuvGwBh0vOx9sEtt/\n",
       "JOQ9t1Qp+fUWjAMjX1VTXVzvRJe2LfOI2BOck3+zZ5uFwQLjHvav5CctDOMM9Y2unPDiJHiPoJod\n",
       "o3Y6JddbaA+/4EqfHo2PbXURhH64UsWBF1P0VrxovbKMNhjbNWsZhVS3t2rL7+KKhiqMOlPTKr0J\n",
       "59jLiDgnrXI8B9NY7gWY4hyO6nmjdVRT3XqfXb8vkUspacU+JISjJVihpQrP/Xmolbbf1zblk7iV\n",
       "EVRtKlqlO+Ec+1iNq9hDzfol9rNIs/8P7NvqxsqBFXvpfIauSQgCPQVP5oRTyPLevxBzFIoTuhVu\n",
       "sqRVuhNq7JPKdbZZlYTJ3L6KOSp6uK6hJvyzeM9SPmmq+yhqVTHH50lGahICxm8rW4Vv5nOSvOJ0\n",
       "40mTuFVWtmiV7oQK+6SSxXLqj/+z2xoH31e5zllzrYqO4HvJMiJYNwpcU91nrIctsddbPwhICJgg\n",
       "FGqZPcB+l59CQqa8yC9alRsFnEd7QoV9UglrudXu50PcTUa1Z/S4GmfV/vFoPdxW91EHXNb3sPBJ\n",
       "JATlK1kRHhifasPF9HnMXT5E4PhGOIt7l6ENWqU/ocI+qYT82Bpyl0MpOrMqrCiGEJUMlTPdaMBu\n",
       "q/uIdUub3rG36kBC5ALO98XBT4zsY7/Jq2COwoYMmsWxQrksz5xHd0KJfVbJfOD9958Qfm2vzpmE\n",
       "63MKzY3/gO1TFfYNWsPQnGhxMz81juAzBV1iqZvFfSdIVwJLhhpl5zxaE5p2n1Tu9eXeth7r+8nM\n",
       "fS4NzEK/wz7vsMYekhBiC0yWMWaM4+wN7AlDGuFC3M/zNYMIzS8N9p44j8aEFvZA5VpfbuCbFjGg\n",
       "gSt0G231y2+n8vvk0/dWaI/3Y67bEtdv6m/X9/pligOkwuHdyetL+QsDbPAvvzN8uzQTryipriDw\n",
       "Ttlu8+0PoQcU8t/G/m2Ktom9feMFgb3pN6Ipd2b7ueu7cjzu0/rW2AMa5HnfRt31I+Rtd8AtH/g9\n",
       "5q8+hX1vc/bR2NsbG37hlE/8/l6gu0Ivi2+vnoh9ID5vurGiDvgO++W89/qZeXF5T4e0RVu5fPUp\n",
       "GfXjjseUtzR8ReAO/Zj+AyhnQJizXsbfAAAAAElFTkSuQmCC\n",
       "\" style=\"display:inline;vertical-align:middle;\" /></a><br>"
      ],
      "text/plain": [
       "negIntExpOfExp: forall_{n in Integers} [forall_{a in Complexes, b in Complexes | a != 0} ((a^{b})^{-n} = a^{-(b * n)})]"
      ]
     },
     "execution_count": 34,
     "metadata": {},
     "output_type": "execute_result"
    }
   ],
   "source": [
    "negIntExpOfExp = Forall(\n",
    "    n,\n",
    "    Forall((a, b),\n",
    "           Equals(Exp(Exp(a, b), Neg(n)), Exp(a, Neg(Mult(b, n)))),\n",
    "           domain=Complexes, conditions=[NotEquals(a, zero)]),\n",
    "    domain=Integers)"
   ]
  },
  {
   "cell_type": "code",
   "execution_count": 35,
   "metadata": {},
   "outputs": [
    {
     "data": {
      "text/html": [
       "<strong id=\"negIntExpOfNegExp\"><a class=\"ProveItLink\" href=\"_proofs_/negIntExpOfNegExp.ipynb\">negIntExpOfNegExp</a>:</strong> <a class=\"ProveItLink\" href=\"__pv_it/12820527055f265412e70e63d3bb7dc96832354b0/expr.ipynb\"><img src=\"data:image/png;base64,iVBORw0KGgoAAAANSUhEUgAAAWYAAAAcCAMAAABlNuU3AAAAOVBMVEX///8oKCgUFBQNDQ0QEBCI\n",
       "iIhmZma6urrMzMxUVFQiIiJERETc3Nzu7u6qqqp2dnaYmJgyMjIAAAArQGDrAAAAAXRSTlMAQObY\n",
       "ZgAABFhJREFUaN7tWtm2pCgQpKdlJ1n8/48dUEBEUHTKmTq3h3Puy62MEIMktyqE/rRFnftqvp+y\n",
       "DPluvmpxIYT6MgkZvbZx+rPPbPPh7O1eJvMP6MX3OSrjA0bzh32jzUeLrSj+s2R2MHAUM8a8a2eJ\n",
       "ZRjfCQMlX4k29qfKTNJNVbZvhAWgRQnd8kJLJ4+dbjh85qvRAgqZtzRp7QOZn8M/v9QcXwzkiZX0\n",
       "Z2GXbfOjmApweK0Zxp8a+YDU6O1OeJmNvnPjDjI/h79YQrhKPyrT8nucfJYkyy0Gd/wUca8anW48\n",
       "NfKxxYdLtJoLmVU6eSWfBI3n8M+vSacIeZqxIFsa3CBhXjWD2HgG3PgqtNBFbE5eaPQTmZ/D34sZ\n",
       "52WmD5k2ugRMDZJgQvW4zAVfhSaykNkaCEvdzmgr4DH848umyyouij6Ty1hHm3UYNjfyTMm3R+Op\n",
       "rDTmJS7dL6Hj2zyFf77OiOk4px5FDMETvNPAXZMjmq7XIjNfXFyqhzLfgw9NAE5buWXr2ODDucp4\n",
       "R2V0JhqSkptPL8D1Zowr1nYqA+S+omaFzJRsWbfZVE/SEElIR+YrONLScMFx34H2BkGoM59lS6Ty\n",
       "qLrmd/EfMfNAKGG3+Nje2tNQN0LuIzUt25PwLHyMRqANIXbNKAYw9NqTNjyhgYU6iTlTTwB6Bucy\n",
       "xx3TRnEryFZhBQ2WzwU+97enAWqAHMFe5hCyj8dqpVYQyLwuzDb6qgRpwjPaqkU/baoJQNfgXOal\n",
       "toXlNk5VbeP2Mk8yW35e5hHy2puVSzOXoien5eUmyPSb7Q3uWyHMHSvRlMXqRu0nAF2DWuZMuVqb\n",
       "lSQYi+rk5S5owBxM9bmOVNyLzTz76QB53OY205CK07onL4OtVa06Mm8xw0Ewzw0l2oJVrQlA16CS\n",
       "OVPypaD57f9sfEZ9ZfkuBcIc1OauPboYT4GdcDBAXlUa/liIqDt6KJwZcMuZN5kTHIU0yQQq0Rr2\n",
       "OykmAG2DSuZMuR6SLtxkqmROZWpMssuTBEdnlSZ5WoaOkOdCPk/o5rTj3JMzsbb54QPjM2A4g+6E\n",
       "LsFDtMR8h/b3gLUmAF2DSuZMWY6E1qA407bzxEgAHGOmOD6rDh17KPMI+b4LXG/uoSffyiXfO4Zr\n",
       "aFRX5giH4GTShsS2oQngrdzdJgBdg73MGyX3ofGvXyFA2k6lkXIfGv5OB95tXR3uzJuLntywLf+R\n",
       "ZrY47tEHdTbT5UxY0S2xdUqjQpWQJgAtg6Y3Z8pytyG6H+rmHALsaG9n8JsqQ/aDWuayJ5dp3sW5\n",
       "79qd4NcyU441Jju0f5rP1TK0iix4cZ4ANAxaMheUazEXdTaNNodNOSeP6fDuV9KWo47M+5SSYvN5\n",
       "s30DrQfp23WzvsxXXO9j+FUee/cLY8GGZB6caYwvPfpabZXcuHuqkQmbfVdla9B/I/PwdLEpsx0Y\n",
       "aOt3fzJxa4In0Ydkfu13Gs/F0vRbZCaQO00hOPp//RvrbxA8NxZ7thXnAAAAAElFTkSuQmCC\n",
       "\" style=\"display:inline;vertical-align:middle;\" /></a><br>"
      ],
      "text/plain": [
       "negIntExpOfNegExp: forall_{n in Integers} [forall_{a in Complexes, b in Complexes | a != 0} ((a^{-b})^{-n} = a^{b * n})]"
      ]
     },
     "execution_count": 35,
     "metadata": {},
     "output_type": "execute_result"
    }
   ],
   "source": [
    "negIntExpOfNegExp = Forall(\n",
    "    n,\n",
    "    Forall((a, b),\n",
    "           Equals(Exp(Exp(a, Neg(b)), Neg(n)), Exp(a, Mult(b, n))),\n",
    "           domain=Complexes, conditions=[NotEquals(a, zero)]),\n",
    "    domain=Integers)"
   ]
  },
  {
   "cell_type": "code",
   "execution_count": 36,
   "metadata": {},
   "outputs": [
    {
     "data": {
      "text/html": [
       "<strong id=\"diffSquareComm\"><a class=\"ProveItLink\" href=\"_proofs_/diffSquareComm.ipynb\">diffSquareComm</a>:</strong> <a class=\"ProveItLink\" href=\"__pv_it/85e3cc797d0bf8602559cda0e73a370ebf3002df0/expr.ipynb\"><img src=\"data:image/png;base64,iVBORw0KGgoAAAANSUhEUgAAARYAAAAmBAMAAADzbqllAAAAMFBMVEX///8QEBCIiIhmZma6urrM\n",
       "zMxUVFQiIiJERETc3Nzu7u6qqqp2dnaYmJgyMjIAAAAcRTyBAAAAAXRSTlMAQObYZgAABF5JREFU\n",
       "WMO1WF1oFFcUPrvZTbKzM4kPVrShdJtU65MECyr+tJEivmidl9oWwYRQEX2QICr+PcQVZI1N2VJa\n",
       "pS04KjYS2+7SIjUqZE2wxV9WfLARqouo+G/wB8yPpufc2VnvTu5N5i7MgdyZ3HPPne/c891zTgKg\n",
       "Kv+BD6I1lWIVzPmBBT4txWihNc4Cfc5cxS17d1oQLOFgtLfGW3EW1qltqSfL8awfqWMpHxf/FmhM\n",
       "Km1ZkQwPAHxrKWMZ/zsbYH+DGpaGyHMvTo6SOx7WdKu6GB0ECA+qQokMeFi0XnXXihgON1Wtyjzc\n",
       "aL1edddeGi6rWgVi7HSyEnUXDVcExykziBL9DAYeWZZTyqX7TRqPiC77jhYkIG4dyoRMt/KIrRbI\n",
       "GvxZAovIzQycp5n7XrHcYOM9kaoKvdPQs5Unj4/i7j1bLZDfkbUPTrZRtsjBPjrCVq9YZkPhTN1S\n",
       "ncahB+DdkRG3igyYWkCuGARGRvqpuPRDFTqhp71i2WwnJ5FqGZ3GAUk2y6sFoZ1QoM4AGOc6O/d6\n",
       "5u4zGsTL/2GBEqa5vY5aILecl/AQwMtEYrtnLE9pqKOwzp/5tisL1s6T3ec6R10k3/W+Z+XvMzuh\n",
       "VwCrAHaLirgok9B6gHYq18mq/mLVayuVBKNgpT9mUp83sNW8hKbAE3xc5/38hLGfu/Jfr24uyljH\n",
       "/94Uc/IEw7INt34Hylrdebw6BlHhzd3mqHk5kIU5+PirMDGMxIKgk4m0Ux9mtS+s8EOKPPH5aO8C\n",
       "ONwGKzNcTAEmYv4dtBO3ZntvsoycykC4X4RloqPm1sPHFisWjTwX9WyF89u/XZ1g/Axwiq4onqix\n",
       "50cL+jIQHYUl0Aop051elqXlWGw1L5NBe+HGEsktx5dD025DiMKy6BhO0ZratRg+DOsK/GbSHSP0\n",
       "sduVXrLkaajFxZemvIGt5vk1DFECvpibQOZ+hS8bsWZX0dS1Plv1gVXH6oPxG0c57Wmeiqk0rIsW\n",
       "cbG6ATnEcZeXdkfNYxnCTNvFcZf5+Sf6UlYfboFDNHWiy1bF4bpG5xQ9yn9yOF9WK2PGJr244ctW\n",
       "4vKyjKQO22pe4nC1CVfP5/ML43cgjc3v54lEIvbTZ06MZ4U3JxLxyDGeF5PAPlateeoP7xf7OfMi\n",
       "scYUYVnsqHn5pfbLZsyMtwt3/DlFAeOYSlZes8pZh3IQDfE5CDXAgj0XoRYi/Y28BjDpkNYAWS9f\n",
       "IJjhNHaBZONS0E2WUE3oibTBVqMVzrD0eIYKWF5Oy2sjkx7h7BgGb7bWncoUav5jAcAeev318S4z\n",
       "XAPLLyAr6BZql+6ucrWyu6VeSto+qQH1DE5SKG6+g8iXfBa1H9MT8WLTVFbWSzGplARDasChTI3Z\n",
       "LIo+1jRmy9gna9llBsYb8N0yUkltJ4Bf8pHyn7BDvmGpUbaY4ReUoPqJB0yfsASyyiZGzicspRx4\n",
       "3B8okSklGHX4E6SOdCkObPEFS3tJVt/78r9D+lvmf1iFMXod7jPyAAAAAElFTkSuQmCC\n",
       "\" style=\"display:inline;vertical-align:middle;\" /></a><br>"
      ],
      "text/plain": [
       "diffSquareComm: forall_{a in Complexes, b in Complexes} ((a - b)^{2} = (b - a)^{2})"
      ]
     },
     "execution_count": 36,
     "metadata": {},
     "output_type": "execute_result"
    }
   ],
   "source": [
    "diffSquareComm = Forall(\n",
    "    [a,b],\n",
    "    Equals(Exp(subtract(a,b),two),Exp(subtract(b,a),two)),\n",
    "    domain = Complexes)"
   ]
  },
  {
   "cell_type": "code",
   "execution_count": 37,
   "metadata": {},
   "outputs": [
    {
     "data": {
      "text/html": [
       "<strong id=\"sqrtOfProd\"><a class=\"ProveItLink\" href=\"_proofs_/sqrtOfProd.ipynb\">sqrtOfProd</a>:</strong> <a class=\"ProveItLink\" href=\"__pv_it/f75494fa4d0e980e96977fceb6fb38fb3328b9340/expr.ipynb\"><img src=\"data:image/png;base64,iVBORw0KGgoAAAANSUhEUgAAAjkAAAAmBAMAAADU2pc5AAAAMFBMVEX///8QEBCIiIhmZma6urrM\n",
       "zMxUVFQiIiJERETc3Nzu7u6qqqp2dnaYmJgyMjIAAAAcRTyBAAAAAXRSTlMAQObYZgAABpNJREFU\n",
       "aN7NWn2IVFUUP/Pxdua9+dhd0GgTYdQyobTBDQzSXIn0j7BGYdMg2GEpon9kyVoUpWz/qDGzXkUm\n",
       "lvpUcG372MFYylB2bOufZGFijVKsJDIoyhbdFl3t49x737vvY96+j2ludGHOvGHm9zvv/N655957\n",
       "dgH8h9LaWoF6x7cgZIihVYqmjbW2aoEwLfX7i54XEoYgWnjAYiESTJ2e+t2t0IREIYgWokXTildH\n",
       "mSlmBoihxfGbxQpXp6koJAZBtDhe1UwrXJ0u1fJh+d91jtC0ge7NxdG4rjuzwtX5yXItb2vYE24E\n",
       "rTtOmjKtaHXkq9bp0NEocRpCOw3uB9OKVidmXXj3NSx1GkI7De5L04pWJ5KzfLgTX3tDU6TUkLTH\n",
       "AhIjTq5CDXB/B7eoznn/nSeqkyXvmWrY0PYXLCzoSamjRjwRkrZJDbYpQNwR+1SjwEiFW1TnFPnw\n",
       "i5866TK+Z0Nvwb63XBOKrBpenQ9C0irBttEE93ONXqiRaVGd3f5lH9Whv9gdOrIljijH6pid6VxI\n",
       "2k+Dip7JQy0wOs4tqkMSgmaGd90h2XUqdGSbLNej+Npcz764JSTtgUC0iEs4MpkCU1e5RXUyXwwM\n",
       "vOlflc8NDLwTvjhftlwjWq6rvP8YkjYbaIlHjDNsCpSugWHJmnWlVNrqr05zqfRC+DbGJcv5Dkt6\n",
       "lKTy6yNz/OuXvHTxTcb1SEjadD7IcRNx8xyOKFD5EwxL1HkMYLsLvGJXp6kAydAllXliI4GvJN5S\n",
       "vA1+D3AGV7PjxvV39M4v0pEPQJsJUpYJbqfDEQNe4g+AqHOve5XP29WJ590WD78MYGEoxMwlt4T1\n",
       "7UAV7sLMZeuASxLRHyuzIcZXio9C0qZ6vKgtuC0ORwx4HQxL1EnQLDMPGhs/gznFGnVwni4MuH17\n",
       "6fFug4vOYXmrPs8hghN7uQZPgtROb0T5qxY+SB5VbAoSfKnqqjkLedNK417UFtwMhyMK1IvaZV2d\n",
       "dDXB8e+OLIOP01pMq1VnFPxLqnK8vaqs16RfbWGsfo5kbUUP40ZQ/sBUZGS9LilPjseRbTBY8FFn\n",
       "WloW5HTUFtwMhyM3deTzD/GJt2OPBidy+TSMtG9sL9vU2Sf591S+OTYAmbcBjtunwIOYmwmNTQHl\n",
       "OqTGuTrTjcEKDPMPqyx1pxiA1ofbxG1xOKJAhc4sxZhZsP1R1GXZ2nmkBOEYGnotXVt3ILkLn5Cy\n",
       "eEOhxtuh+Rd0doK5bwhv3wCyCpfo0QXD8qlcw33oMV91yrAhpY59NTdvVGVbinrT+lVljtvpcESB\n",
       "THrZWLPgQ/x1ZkU1orIz11D6/Udc1EmRDWp/oUuDJnvBU55m3RBgh7GzZyzfsQoXndDPKmTJ7IOv\n",
       "ixWbOqQc0DIxyMNK5jK9aTg9G9rww9Ka+LxpY3y5pawOagtuxOGIAh37HWjGsrTnVmjWFKrIEFRG\n",
       "XNSha1w7rAPppF2dWF7SQz1EzCfWM/INDD8JqbyRuofnPtzdYVOHloNeXhcoovuWXTfLB3uA6H6h\n",
       "Rh1v2qyZ3r1QQ23BrXI4osD4BBiWqpMhphtWgLSpVOpDdfYm3NQ5i69ZMF+fs5Z2Qllv4cO6UqmU\n",
       "e6vT8t3Lem9T1c+Jm21T3Lc/lYu3uPZPvGn7/XgNHD9JMEcMmJni1uzvzISlEhRZ7sTX4lvBpb+j\n",
       "XIWdA051BtXkWW3sxDl0QlPpIN9YAJzUOw6VlexiLJQ6kUKsUnA7hXrT+p5CDRw/hTJHDJhu4Zar\n",
       "I4/DU0PwObk8jYeq6bpfbdJElaizW5NfNExE7VoNR7dhvqULdGteMO9vmPEnW/TdON9up4Kosx8S\n",
       "9xfcNqGetP4dDI7bbnPEgNkit1ydeBFur0ISF/H4Mx0sCdzUWXnbPKrOmrLUBmtUYsrx7qPL8KCx\n",
       "Hr/eQX7z3sXned4Nsn1mfFKfe0abSl4ymfNXZyVER12POZ60/gcejjtic8SAjJtaZ+d0AdYd384p\n",
       "mVlmy6OsH1sW4oIfxbpjf0r6bTxr6BW+c5pxCdaT9ow/p4Gzd04ZcFjltp6+snTH3ZZmr351GI67\n",
       "tVUzem9mATR0/FtaL9w9pq23655xuXJFXgMRQxAtHbNMK/yvfYvEhLBImDjRFtMKVydSEBKDIFrC\n",
       "XLVY0eoE6kT9b2h5VjIr/v93+sQEIYgW5DbT/gfq9IuZA4Joob9s2qDqXCnl6n4Ym8U8YzG0tNWs\n",
       "22jplUDqQGenWre/N8SEIYZW6TCt3NkJ/wDkMoayRtJVHwAAAABJRU5ErkJggg==\n",
       "\" style=\"display:inline;vertical-align:middle;\" /></a><br>"
      ],
      "text/plain": [
       "sqrtOfProd: forall_{n in NaturalsPos} [forall_{a_{1}, ..a_{_a}.., a_{n} in Complexes} (sqrt((a_{1} * ..a_{_a}.. * a_{n})) = (sqrt((a_{1})) * ..sqrt((a_{i})).. * sqrt((a_{n}))))]"
      ]
     },
     "execution_count": 37,
     "metadata": {},
     "output_type": "execute_result"
    }
   ],
   "source": [
    "sqrtOfProd = Forall(\n",
    "    n,\n",
    "    Forall(a_1_to_n,\n",
    "           Equals(sqrt(Mult(a_1_to_n)), \n",
    "                  Mult(ExprRange(i, sqrt(IndexedVar(a, i)), one, n))),\n",
    "           domain = Complexes),\n",
    "    domain = NaturalsPos)"
   ]
  },
  {
   "cell_type": "code",
   "execution_count": 38,
   "metadata": {},
   "outputs": [
    {
     "data": {
      "text/html": [
       "<strong id=\"sqrtTimesItself\"><a class=\"ProveItLink\" href=\"_proofs_/sqrtTimesItself.ipynb\">sqrtTimesItself</a>:</strong> <a class=\"ProveItLink\" href=\"__pv_it/0dd9064aa4b474cffb6004512ce61bad79010e5d0/expr.ipynb\"><img src=\"data:image/png;base64,iVBORw0KGgoAAAANSUhEUgAAAPwAAAAaBAMAAABhmCzLAAAAMFBMVEX///8QEBCIiIhmZma6urrM\n",
       "zMxUVFQiIiJERETc3Nzu7u6qqqp2dnaYmJgyMjIAAAAcRTyBAAAAAXRSTlMAQObYZgAAAx5JREFU\n",
       "SMe9Vs9rE0EY/bLJZrObTdI/ITUgJagEiyAealAoCIJBRC+ColYsogimHkTEg8pWL8Ue7C2LBYVQ\n",
       "NFBRFMGQk6QSoxQVUYgWeigoQSzUKOrMbGZ2Z3cnYXvwO7zdvDf7vfnxzUwA1hcHGPSNdGChb8hH\n",
       "KZAo/cXRdjXqsqOiJKPrtk+aFEic8G3UZfWmIIlQ6BtbGeBQW35tGHtRlAUJpM2ngO5qhwKJcMWv\n",
       "EWMzojRIWMDPlYD2eo4CiXu+jRhbEqVBwgwex5WA9qEKBRILvo0Yq1QEaZCA60evBLQvmRRwaOf8\n",
       "2thsWDQ6JCTq5fLtoJX3moG4gm1WGhCkwcKaYVwKaj/CoLvI2obxXTXP0nfZSMczM7YwBjDpZxHx\n",
       "9LVWpa8GAxybAebgXfoy39xm5VVCNL7hWMKvDmE3aM5t+3jo+BfyErM7Mk4eH+ERZZYpRPII0CLX\n",
       "4ZW5B5OkHlys+sM9EoeggERXSXs23JR0qKd5e5gew1iEFC228xQGUc+lNHa15kL7A15W89g7BL2p\n",
       "UPb9kzIg+w9Nlz1MX0NtV+2tttQF9Q7pP47vlnIBvKx39A5BbR1Eb7VtGwsRfI5g+6ptr2f246HP\n",
       "XQX5Jyh0mq5T0NYA3pA7aNVZWTyLvrTXfhlcwiS6GiTzrJJPgmU/nLPts9FWkRTLitwBhV6Rpxjs\n",
       "nCJH+lOpDVnbn2e9le8U5lGRyPAVYJbYh08WHaVXSFoj3tJEXQ1R+0EGpVwCzVXkV6ytOnY/zybc\n",
       "+54TUiQpmodDhmGkJf3WorPyU1N4NocqeO1T+e73+0wK0Y6CHtqxbMZ5bfGs59TjhAROI7dliFqT\n",
       "Hz9sOuyPQAG0F3m+8kN5CvLveb9/IxybFP2tYUJJb+mgF6y1r9ulp7YbUNW2563rke37cJUCfPa9\n",
       "LTn2gSmwZ8LdxVod4CY+dhrV2RFmr53Zu8mUC9ap95LdsPIABXie80vMsW9FZ7dLkNDasx+xXof+\n",
       "aQaxKT+dYydEWSZ6OPS0v8+gfySqQQXePo52hHGDE+M5Cv1jJrBAyqtnzocM+saOwMJ/i3/8Rgev\n",
       "5zHWZQAAAABJRU5ErkJggg==\n",
       "\" style=\"display:inline;vertical-align:middle;\" /></a><br>"
      ],
      "text/plain": [
       "sqrtTimesItself: forall_{x in Reals | x >= 0} ((sqrt(x) * sqrt(x)) = x)"
      ]
     },
     "execution_count": 38,
     "metadata": {},
     "output_type": "execute_result"
    }
   ],
   "source": [
    "sqrtTimesItself = Forall(\n",
    "    x,\n",
    "    Equals(Mult(sqrt(x), sqrt(x)), x),\n",
    "    domain=Reals,\n",
    "    conditions=[GreaterEq(x, zero)])"
   ]
  },
  {
   "cell_type": "code",
   "execution_count": 39,
   "metadata": {},
   "outputs": [
    {
     "data": {
      "text/html": [
       "<strong id=\"sqrtComplexClosure\"><a class=\"ProveItLink\" href=\"_proofs_/sqrtComplexClosure.ipynb\">sqrtComplexClosure</a>:</strong> <a class=\"ProveItLink\" href=\"__pv_it/91bd1677f27842db2e410a3dbc66102ed6b1cf500/expr.ipynb\"><img src=\"data:image/png;base64,iVBORw0KGgoAAAANSUhEUgAAAIsAAAAaBAMAAAB1DbIqAAAAMFBMVEX///8QEBCIiIhmZma6urrM\n",
       "zMxUVFQiIiJERETc3Nzu7u6qqqp2dnaYmJgyMjIAAAAcRTyBAAAAAXRSTlMAQObYZgAAApNJREFU\n",
       "OMutVU9o02AUf02atPnWVA8eFGFuQzx4cAEvgnMO/9wUO2Q6QWgpikeHIhUnUkQ0xR0KHhwqLlqY\n",
       "UIUOh4fKDsPdHEJFRB0Tg+BlyJwMQTdF3/vaL0tG0uzgByG/vO/ll/f93p8ANF1KD4QuKdzlmABa\n",
       "519afj7RTCjNnABqk7BehbHIbQLdb+IVswBsAh8DHEYsgXb77u+48v2iAZIBMO2JfdWaEoAN+G33\n",
       "LUPpjwHaAsAw6ZcPoNksQGLMZ1dX8cyfMJRBgKQV4ET0SwI9cpvf53JcircRfFdFml1I+bJcvh0Q\n",
       "jL7eLxn92xvAoJMwjKgd7z9N83JQomy3NLem2klxJoRkmaMNdATtpwEKATRxoZlUwyrbBN94BRXF\n",
       "kSf3NVA6BbAfmO1+t2XoTLYBk1SfB6gy8HpQIw2Q21HOEDQjPeRC36qHObGzxvot5auoK5RPakXQ\n",
       "gddeC86RsXceF32Y5U82/CpIk6jFnBRUy6DfA5gQ0SDNnU70IWk2AvtBxuGVTlFd0Wg29V9p2xeI\n",
       "4ltw8BmahDZ0qEoedMwG+w0tC2SMODRvOA3Kmya5CqfQ6YKyBEmyznxYkUklieVfvGnYMqh21dNn\n",
       "8a0Io3Y9UzCOIcuGMgAl2ntedU0SqhttEWbp4Sq8y0wSGHT2u4esxyZSvKaHdcgZGZMycNw0zba7\n",
       "fa5Jwqv4rHWJbqMdJ7J8WoxeEw2rdG85j7muZ1BHa6UYn7H4UeWHeADBs4FXxbThLadDN3KeEoHP\n",
       "AkSK6cOQIGatKwUvhLmL56vVaj6VmNN60ezTPQA3CT6Zv54S5l5ej4shw01fNUUl1MZjUHnrF0Jo\n",
       "YqkQB2+bBK3ZUI/xNbAEDj1Xn67hPyVb8L/WP01JmrIDW1zIAAAAAElFTkSuQmCC\n",
       "\" style=\"display:inline;vertical-align:middle;\" /></a><br>(alternate proof for <a class=\"ProveItLink\" href=\"#sqrtComplexClosure\">sqrtComplexClosure</a>)<br>"
      ],
      "text/plain": [
       "sqrtComplexClosure: forall_{a in Complexes} (sqrt(a) in Complexes)"
      ]
     },
     "execution_count": 39,
     "metadata": {},
     "output_type": "execute_result"
    }
   ],
   "source": [
    "sqrtComplexClosure = Forall(\n",
    "    (a),\n",
    "    InSet(sqrt(a), Complexes),\n",
    "    domain=Complexes)"
   ]
  },
  {
   "cell_type": "markdown",
   "metadata": {},
   "source": [
    "#### *Could eventually include generalizations to “even power closure,” but need to define and implement a Evens set to do this*"
   ]
  },
  {
   "cell_type": "code",
   "execution_count": 40,
   "metadata": {},
   "outputs": [
    {
     "data": {
      "text/html": [
       "<strong id=\"sqrdPosClosure\"><a class=\"ProveItLink\" href=\"_proofs_/sqrdPosClosure.ipynb\">sqrdPosClosure</a>:</strong> <a class=\"ProveItLink\" href=\"__pv_it/a5b89cd47df4b5e8e034d458403b48e5f3db936d0/expr.ipynb\"><img src=\"data:image/png;base64,iVBORw0KGgoAAAANSUhEUgAAAJEAAAAcBAMAAACT2EAWAAAAMFBMVEX///8QEBCIiIhmZma6urrM\n",
       "zMxUVFQiIiJERETc3Nzu7u6qqqp2dnaYmJgyMjIAAAAcRTyBAAAAAXRSTlMAQObYZgAAAoxJREFU\n",
       "SMetlU1o02AYgN+m+U9aPQgqgnQeRDwVpuDAn4LoaWK86AShYf6c5x89zENRwawyCQq62yqFHQqy\n",
       "4g4y9FCopw6lguAYClXw0mHtQUE3cb5J9n352i1LwH2Q5m3e93vy/n4BiLRqd4qwKUu3xeZ/IoSM\n",
       "e5Ns4XeQiYkXF046692kjPIjyCSPF2+GklpE0JY2IsGbMFA8RSQptSFJwoK4mfwUYDVJK1brViSu\n",
       "Wn8/j/skLg0w1xVEb/HpznSPJqmawngBxHZ7d/sbgNIBmMDHSj6AtIsIg3CiWyMrVcg/pj7BKMIx\n",
       "AL2yPkghaRYWXxY8aT6XaxLSQNInHUK/6+XykwCXEltXhdjKSscVhvYzPg3IPqkPr1+WdSuodM7r\n",
       "H9X6aN7VFhudedInnUabywBjASQZrfid8J0+EG2GpF1v+aSsAXAcVHamXuy7+IUWCFv3acPJAdnP\n",
       "ZHx7btGVPPgkjpUEXIM4/6q/welQJ10oYe2PFeEa3X+mjWs146/TBcaBaSTpDYn8nZ8tA5IWCDmJ\n",
       "pB2g/qT2E2wXHBhiexhJStMZ09Ler8A77eeQqsTcBPUPaB1qH2NJ8jNmgrJOkGOXMK6bwhK47YGk\n",
       "ftLQYh7UZRCbs2vnEEmCedAnObWDmRE0SQsjUHJJ8Ss3iJrDfroNH8wq3TDKTAvMiQZVvHN+tuCL\n",
       "YhXOhHOWZaU4/eF7ouaxx6f2nB/O0A1Td4t0gg35wTJVuPVNoHLalheKoheddoF24rY1LTZ4L7fu\n",
       "OUw7J2ZnT4FueHmq02gORz2lVXoQ8sPPjwDcdzrzbbV0lPZPVFKi5/jlME9dD8RKRJJkhDkd9dv0\n",
       "MdRiJhoo8Kj0l5aJRIpv0hfaW/8AhTWh89KST8YAAAAASUVORK5CYII=\n",
       "\" style=\"display:inline;vertical-align:middle;\" /></a><br>(alternate proof for <a class=\"ProveItLink\" href=\"#sqrdPosClosure\">sqrdPosClosure</a>)<br>"
      ],
      "text/plain": [
       "sqrdPosClosure: forall_{a in Reals} (a^{2} in RealsPos)"
      ]
     },
     "execution_count": 40,
     "metadata": {},
     "output_type": "execute_result"
    }
   ],
   "source": [
    "sqrdPosClosure = Forall(\n",
    "    a,\n",
    "    InSet(Exp(a, two), RealsPos), \n",
    "    domain=Reals)"
   ]
  },
  {
   "cell_type": "code",
   "execution_count": 41,
   "metadata": {},
   "outputs": [
    {
     "data": {
      "text/html": [
       "<strong id=\"squarePosIneq\"><a class=\"ProveItLink\" href=\"_proofs_/squarePosIneq.ipynb\">squarePosIneq</a>:</strong> <a class=\"ProveItLink\" href=\"__pv_it/96be8cc70e248b7960c609974d14c1b3805444b70/expr.ipynb\"><img src=\"data:image/png;base64,iVBORw0KGgoAAAANSUhEUgAAAPQAAAAmBAMAAAAB96vpAAAAMFBMVEX///8QEBCIiIhmZma6urrM\n",
       "zMxUVFQiIiJERETc3Nzu7u6qqqp2dnaYmJgyMjIAAAAcRTyBAAAAAXRSTlMAQObYZgAABAFJREFU\n",
       "WMO1mF1IFFEUx8/O7ri7szsqUfThy2RoPlQIQvSiLUT0UuGTfRAklgZRIJIUYSBaMRXBVlDRi1NC\n",
       "hVlKESpFDlgPWcQGQSIkS1YP2YeYQbqK3Y+549xxNnfhdh/u3ev8md/c/z1z7hkBRDY1kZlOqQbR\n",
       "bUOmwp2iyYFV3HSg1UinlEQv+2alcxaN5yTTSr8LRtdxs2BcnvJSETMuGULJLlIwFp70UFEzcsQ6\n",
       "nuu+XWTaQ0XNkKeFotvibormhaZmfBSKrsDdXmuCxwFvHTHjrVD0Etw9tyZoVEu9dcSMthiQ+P8g\n",
       "ghz+7UJvh60uyd3lwMzwmfAKj1+FZNFxHi2PPTk/n0MayTAKzAwU5tfx8zaLQPvrebRvbm6cXets\n",
       "oGMKmBnSOOSidzvaLQIdbHYZPt+unLIyLQowy4zIFKiDHR3XhERZXmk69NUxlk6QMZYZMjLgj643\n",
       "iUFrFvLKwGrDid79yU46NWuYwcosQC3AOa9jbUHqDzh6NkDgh329K0HRgZXw07nq0Jl5yVfFTrYT\n",
       "AFtAcVJ6Sg6QRBO1XspIw9kKmpRCjt4aep1po81C30zAJidaarCPin4DE2mbQdEBEqstlKdlCSkK\n",
       "gxiVi525N1AOmhm9lQb9DAnHbMT+borebEADt9dqk2HnO2WG/fUXWl4iyGZDfR2A0MP4UfJQQlYv\n",
       "3DAQWr3vjR7BuqkF6BWg/ObDLDJqZfdRCKQc6HCyCv1oL/4MAewxRpv4RoWH0V6ghtCdPBpr0bAB\n",
       "k+WJYoM3HK0rMu56uQJfaBExC352YpHlnzuIfjSiUywXKLoMP8JaYw1NsprpL+PQRBuCbWSR0kmJ\n",
       "ZeouGuFKCmWqPh4Nsh7DwyQOBCvtogiHR+hl85fK9dBO7uWvO4bHFhhRyE21jYdiHJpoQ9B5mkw1\n",
       "lQVpnkkNb4H31aYLDeFa3B+FVvthUtb76OtGhdouXdc1KXr5Hb60FDbKJ3S9BbSX63k00aJJ5wV8\n",
       "CsT8rEDwVVP07cI9NTE3mrb2dXa1HMCHtoo2qyseGjZyqOGRfXj3pqEAqqnhjwc5NNHiiYSiO8/w\n",
       "sSQRSqZNpF6HDdt0X3z/DohW0r0eNMPn4aTaDC8oOsqHGdGSifodgsaQXXTlZ4Omarz8moflANjB\n",
       "njdme4VcAFWvEQYtKNL0TSlLOtFESycRQz5i8pXYQvSD47g1/ruQk9BeW7ehQwna6/mEuDCb8V8z\n",
       "s9msuivdN1Kfx98WQ8NZ3BVZk6JF0P3xNBcSi6N70fugc4V8VpVeRVZViKNnA+9hNhVHgdCKVEpm\n",
       "oc0X+821LHOpLyEWPfIfvsQzbCEt45p9pWC00pip8k63YDRci2covCj8fynhygztwWfhX9fUJrm3\n",
       "ZcF3AAAAAElFTkSuQmCC\n",
       "\" style=\"display:inline;vertical-align:middle;\" /></a><br>(alternate proof for <a class=\"ProveItLink\" href=\"#squarePosIneq\">squarePosIneq</a>)<br>"
      ],
      "text/plain": [
       "squarePosIneq: forall_{a in Reals, b in Reals | |a| <= b} (|a|^{2} <= b^{2})"
      ]
     },
     "execution_count": 41,
     "metadata": {},
     "output_type": "execute_result"
    }
   ],
   "source": [
    "# perhaps modify to make |a|≤|b| as condition?\n",
    "squarePosIneq = Forall(\n",
    "    (a,b),\n",
    "    LessEq(Exp(Abs(a),two),Exp(b,two)),\n",
    "    domain = Reals,\n",
    "    conditions = (LessEq(Abs(a),b),))"
   ]
  },
  {
   "cell_type": "code",
   "execution_count": 42,
   "metadata": {},
   "outputs": [
    {
     "data": {
      "text/html": [
       "<strong id=\"squarePosEq\"><a class=\"ProveItLink\" href=\"_proofs_/squarePosEq.ipynb\">squarePosEq</a>:</strong> <a class=\"ProveItLink\" href=\"__pv_it/66137a4f6500ebd08561f8902ed38872d93e56790/expr.ipynb\"><img src=\"data:image/png;base64,iVBORw0KGgoAAAANSUhEUgAAAJoAAAAmBAMAAADO2Z8qAAAAMFBMVEX///8QEBCIiIhmZma6urrM\n",
       "zMxUVFQiIiJERETc3Nzu7u6qqqp2dnaYmJgyMjIAAAAcRTyBAAAAAXRSTlMAQObYZgAAAq1JREFU\n",
       "SMeVlk1oE0EUx99usvnYbGIRBKuXKFQ8SaAXL60B8aaSk6IIDVV7LmJvHoqCpEph1UO9ZUtAIZcE\n",
       "PUhRcCGeIpQVBKWgBEUPihrUgm1a6nxtzK4zmdk57O7w/vvj/2befAAMb1kP1JpZVhAdAdV2Wi6J\n",
       "7wt0WzccoVSXm1suDfYsO9ERa79JaTOBXtI2Nrgy4vmOI4GFfk4W0795Muo5IUs1FxZkNnky6tnY\n",
       "lNCqdvi/PJdGPX+Q0Cbx4zzr4HdLICSeX0lou/HjBeugd7YgEBLP1SKQKX/H16TXQ7STcIKvJJ41\n",
       "F17i9xfBsuoGacbXp7f4QuIZTex97GGeT4vNBmnazk6XK6Se9S7kUM1ZTcFozIcyFZUl9ZzZgGy7\n",
       "Xl8SqHYV1GjMs9ED+FOpXBPR8oxyr3XAEdBIiG1K2wCXARYEtIZHafFR+DHobfU7bh/JJkNCrP0E\n",
       "OA7m4Mbw5PDFfk1XGW3Zg6OCTGmItS001KD7+6v5bNzTLWj7y2eqSWnHHLgioNEQa7/QhHpJv/d2\n",
       "pQ6ItuaFaHvBXBfQaOgfLd05gz5qhz5BHE8hprnBTM0tyHT/H7fPOBsaYqmhTGHhEvqYQ/tJDiht\n",
       "3F+NDTqnZg+V+QrXGwuxhYjmFB6jio8VjFmoEVps5mq/Qlya6XV4U3b5mdIQK+IeqyqtiQ6Js5VK\n",
       "Ja9bd1/3q7JMaQ8Onpsu8mk0xI4kvMllUfU17NSak6CZZi745ZjqqK0Ff+37m69mT50Cq0THre1b\n",
       "t0Yi0agcm5x+NAFwG1fvqlubDJwCyrTQKaKjcQvM2HYkWkNyy7iJH2OsMyajPbeHx2XnBudMGua9\n",
       "GYW2XxLXOxFg+ohMsScCTZNe9d5HoMmveqm8Miw9Kr9/zinTHirM2JKtSltU8V9SvUXjneQvGFLU\n",
       "rZ3kLfsAAAAASUVORK5CYII=\n",
       "\" style=\"display:inline;vertical-align:middle;\" /></a><br>(alternate proof for <a class=\"ProveItLink\" href=\"#squarePosEq\">squarePosEq</a>)<br>"
      ],
      "text/plain": [
       "squarePosEq: forall_{a in Reals} (|a|^{2} = a^{2})"
      ]
     },
     "execution_count": 42,
     "metadata": {},
     "output_type": "execute_result"
    }
   ],
   "source": [
    "squarePosEq = Forall(\n",
    "    a,\n",
    "    Equals(Exp(Abs(a),two),Exp(a,two)),\n",
    "    domain = Reals)"
   ]
  },
  {
   "cell_type": "code",
   "execution_count": 43,
   "metadata": {},
   "outputs": [
    {
     "data": {
      "text/html": [
       "<strong id=\"expNotEqZero\"><a class=\"ProveItLink\" href=\"_proofs_/expNotEqZero.ipynb\">expNotEqZero</a>:</strong> <a class=\"ProveItLink\" href=\"__pv_it/0167e7a9b0ff224aee6b48a02f41148ef9862e8c0/expr.ipynb\"><img src=\"data:image/png;base64,iVBORw0KGgoAAAANSUhEUgAAANIAAAAcCAMAAAAjpRG0AAAAPFBMVEX///8kJCQoKCgUFBQNDQ0Q\n",
       "EBCIiIhmZma6urrMzMxUVFQiIiJERETc3Nzu7u6qqqp2dnaYmJgyMjIAAAChkoCbAAAAAXRSTlMA\n",
       "QObYZgAAAxpJREFUWMPdWIlu4yAQZdty3/D//7oMYBwwPiKrineR2ijOeMyb483DCD16sRDQ/7Yc\n",
       "/fcxcNZ9DfaNe8kzEYn+e9TvlKl4IqRgeoSREGGul6l/HiI61A6RBpFZO7k5TgmXV0bxn4eo47BT\n",
       "lSD6Cenp7poj3vESAoDv7E7OH8FvOJEFnXSIYAOFGKlLTOCfWoCrz9cdHvkNsoa3pNft1eMcjZI3\n",
       "aV+S4+zz6g56w09CLfhrceYs2nIvBWvvDCwtP5+kEu+e051Dx0lCMUNiMaeEZBdRwZLuAXy3NL2m\n",
       "jhK829vqNUkm0gKJlA/TsqguzrRLqosd/Zh3ShzZxlDV6DOcNhPilj1CXl8/8J+2anV1gpUPQMPg\n",
       "R3OwUauckILsq67eAPZ2lAqeqz3dtWGyUK4Y7JeuOE9SgkQLFle+5XBCF5HNUDLWUZquGq5SXHlw\n",
       "o+raMziGpPO2Jat01pNBiRbNP0hyTTP1hWcKJJARG3LwymoDrr3Oe7VuUF27BseQAH56MJ9Rdi0m\n",
       "rJrJ1MPQIrEynn3JUhrFC3JDiQitGjN6botv3auuXYMRUnNZrGvhg7EcK6PQscklZCOa99IfXDpK\n",
       "9B3oS855jbjSdRobydPFTid54/VMde0aDJCaS5GJ9Sf9+fqMTWkJVSBBvEVAdspYQU+pv45aVqvZ\n",
       "0lp3NO2Vyxza1vqm91xV177BAKm5LAGxaI0lHiGVoVIeIQWajhW2ZSdQDAbzfrRFsgoSAhnlMsc0\n",
       "OdeW84nq2jcYIDWXOQFqaWm4JY5cX0NsBCFcC8IunD6yvUu9UPfQeNKb+qQUPOWh6VdWoYas42RV\n",
       "XbsGPaTVpUj1//0FXeD3GC/H63jZk4N7GDOfRhyPDLrWtcinSc6zgE86xKyqa2YwzVJzuRD4cgjY\n",
       "ziVETyXMyXHBbMLEBLGE5ucru+Y1BAWJ5ZCdpromBjNILy4LgVdMbvaihOOzJJ1g9odHdVJapfd4\n",
       "ZnA4l+y5jBT2VpKQ5G/KSnv13cYc0gVxaMIN8Vh01pviH92B5K8cyOyd93a/eYq9sS/Lbjz2868a\n",
       "fmf9BbixJ5Z655PaAAAAAElFTkSuQmCC\n",
       "\" style=\"display:inline;vertical-align:middle;\" /></a><br>(alternate proof for <a class=\"ProveItLink\" href=\"#expNotEqZero\">expNotEqZero</a>)<br>"
      ],
      "text/plain": [
       "expNotEqZero: forall_{a in Complexes, b in Complexes | a != 0} (a^{b} != 0)"
      ]
     },
     "execution_count": 43,
     "metadata": {},
     "output_type": "execute_result"
    }
   ],
   "source": [
    "expNotEqZero = Forall(\n",
    "    [a, b],\n",
    "    NotEquals(Exp(a,b), zero),\n",
    "    domain=Complexes,\n",
    "    conditions=[NotEquals(a, zero)])"
   ]
  },
  {
   "cell_type": "code",
   "execution_count": 44,
   "metadata": {},
   "outputs": [
    {
     "name": "stdout",
     "output_type": "stream",
     "text": [
      "WARNING: Redefining sumInExp\n"
     ]
    },
    {
     "data": {
      "text/html": [
       "<strong id=\"sumInExp\"><a class=\"ProveItLink\" href=\"_proofs_/sumInExp.ipynb\">sumInExp</a>:</strong> <a class=\"ProveItLink\" href=\"__pv_it/bce884e77705ff8ceb4b60040d7472a08f88835c0/expr.ipynb\"><img src=\"data:image/png;base64,iVBORw0KGgoAAAANSUhEUgAAAUcAAAAcCAMAAADFqY3ZAAAAOVBMVEX///8oKCgUFBQNDQ0QEBCI\n",
       "iIhmZma6urrMzMxUVFQiIiJERETc3Nzu7u6qqqp2dnaYmJgyMjIAAAArQGDrAAAAAXRSTlMAQObY\n",
       "ZgAAA5xJREFUaN7tWYuupCAMdXcFeT/8/49dQKjyUmcw2WuyTe5Nxzke9FBoy0zTy22x9oeSvcw0\n",
       "/qlkP9vIkn+2Clz6JNm5oYb3LhlLsVYBLn+S7GIHoLX3KrOykGJFiMpSR40QGiTrLv2NWhu4YF4o\n",
       "Iy7lQUxOCBc6smUi8yBZx4Cagd7B2xOUeYGuYi2jhTstjM11xN4hg2Qd6YF61zt4WvWC/B3JeXaZ\n",
       "AtOJWmez/+eiYVZjZCe2U4s180SaRMFfsKxrhXxMpav8s2xxTta2AzVTmZfCUKs3Lmu/ORle5Gvr\n",
       "qxk8SNbJTDs15tliN1p6E+wF4WjmRumidVn3CIwMkoNkHfF3agT3b97KvTH9hmxt9/fRGM2FVvxJ\n",
       "skK+GrFAPG8eDemH36xAH2pBl7Mvw/Mhjaqp5UmpZXaPa9fpjo7aHgzfJsuetoUgK8m8xXPLE3UU\n",
       "15RR1G9Bc8A1xUXoYBK2G3dXmTptvCBnk21QKWo+q+jPyeJ09hFiXXLP74yoKh6l0hi7q5JwR0is\n",
       "LlvQHuCa4lxHQWO9u+XPLA/EOcThCzbW2l6RyTXFVhshQcfo+camyjKGKyH97UaE11e6yPxdwDXF\n",
       "uY5ec/dopFGZpGU5c4AMdJhXZCwthzaiikdhoWGXGFELiz1sDUSR46JJLWgXAB3oCSLXEQbd0Hob\n",
       "xoNZsUo4jfPvMWq9Wbsf90f6BVkHQaCWTB4XdJNWMuIuZu2ikUa0WtAuADrQPiLXEQaloXD44/5M\n",
       "fIpyKVEeX8zHKbWTEgPxeJusgyjztZMax2WNnUCEhRCBDCHzu2ML2gekDrSPKHSEQbd5Uocpngsd\n",
       "U8kWHsItu6Fa7T5ZG7HXn+CtaO+UkA93wkJsOAKhCGm0oCeAuKf1EYWOMGiYe55iwN+yFuVRmnhJ\n",
       "ESKComWo9LpN1kYU/cy28uLDuyDgxueGfR/BEh2rgNSC9gEp9rqIXMd9UH/W8PtXPGto5uswi881\n",
       "62NkFtVeYhZuQS1+c9fkUMqTkDwm4TNpakG7AOhAW4hmPMKgqeZJh1FV/TjhJ7uuMTIJkyyr6V4o\n",
       "UgiHV+JQckiX8LhveoiPQ2hBe4C9A20gWjoeBt1qniikblT8d05nb9sYmaG119yGt80tb0s+AjQR\n",
       "p/WjuowQ+uSp1BAZI7V30y7LjPt1SFvH69ZdPvkD8wiZ0bV3+95hwLmO5kZ8qCd/Yf6ebD/1/rfn\n",
       "39+roZ5M2V+TYVl7/23c/gL/5jL+gBqgfAAAAABJRU5ErkJggg==\n",
       "\" style=\"display:inline;vertical-align:middle;\" /></a><br>"
      ],
      "text/plain": [
       "sumInExp: forall_{a in Complexes, b in Complexes, c in Complexes | a != 0} (a^{b + c} = (a^{b} * a^{c}))"
      ]
     },
     "execution_count": 44,
     "metadata": {},
     "output_type": "execute_result"
    }
   ],
   "source": [
    "# oddly named?\n",
    "sumInExp = Forall(\n",
    "    [a,b,c],\n",
    "    Equals(Exp(a,Add(b,c)), Mult(Exp(a,b),Exp(a,c))),\n",
    "    domain = Complexes,\n",
    "    conditions=[NotEquals(a, zero)])"
   ]
  },
  {
   "cell_type": "code",
   "execution_count": 45,
   "metadata": {},
   "outputs": [
    {
     "data": {
      "text/html": [
       "<strong id=\"sumInExpRev\"><a class=\"ProveItLink\" href=\"_proofs_/sumInExpRev.ipynb\">sumInExpRev</a>:</strong> <a class=\"ProveItLink\" href=\"__pv_it/ea2d4e284a66c7c193c1482f8a64b11d99458e690/expr.ipynb\"><img src=\"data:image/png;base64,iVBORw0KGgoAAAANSUhEUgAAAUcAAAAcCAMAAADFqY3ZAAAAOVBMVEX///8oKCgUFBQNDQ0QEBCI\n",
       "iIhmZma6urrMzMxUVFQiIiJERETc3Nzu7u6qqqp2dnaYmJgyMjIAAAArQGDrAAAAAXRSTlMAQObY\n",
       "ZgAAA8pJREFUaN7dWYmSoyAQze4Agpz6/x+7HApIc2hi1cSlKlNdmeeDPJo+8PX6X8a0LA+k/sKh\n",
       "yROpf23QCVp+LOosBb46Z0bNPib7EhkZtMJYxelzyi5OmlHzj8m+YywSWkHWFWMmRwcUY+c/2lzb\n",
       "u4yal1xXyb5jEAyt7XzN8oUHcWyeXhR5Q16ZNKfmgCuQpUxkHqCrWCWw9gNndTX9vEqcCNQrcylx\n",
       "5NQccAUyrRrn5MtzMkihyGYd0o9VSKX9uDLrRs0WO5D7Y3KuQCZ2gQV/wLFOq0dldnb+idTZdDGr\n",
       "C7Pm1LyS1TzZ7oZaPfpYuyhlBq6wuEKJpGN5duTUHHIFMqOlG2J+gDsaBK1UBmk92gaCDQ76Y3Sp\n",
       "1krUHHJtZCt3Y9YP0JEswBJEE4xkXz4ImdZxNqhS1/w4kDGfdfjJKvamXnPq/dMvHWsMtpbz0pqQ\n",
       "XffSzRpVCF1pSl5LNkj/uaqOgWxyj8qOOoprNjPc7jWPgDFFYznR16gPN/apMv0urLAkMvVgl7yo\n",
       "DhHrNNjpBrWohm1P5iIjBsWjVJoQ+62k3C6KLrrsNVuAMUVfR8G2MjckykPAJ4VFPGIGWyjXFAGq\n",
       "EDnUsUVdkzyQucYGZBnDlZCOyQj/85UuEn4TMKbo6+g0t0ujleImnbrNQjxiC8Wj59YhY39sUjf9\n",
       "USyx55cEsyUedh8lqKK5Q++9ZhMQG88O4qhjnDSgdZjGgefilHB2tOTqwGrt+koVQrP67xAfWf+5\n",
       "Rv8dyLhgYXfkTO2Xh3bRSCNqvWYTEBvPNuKoY5yU+cLhx37MtoryVDF+tOTqHJYtLyXaOlYhw3x9\n",
       "ghqQKbIda2IForN3kZgh5JFo6zXbgL3xbCMKHeOkYZ9UtsWovItAheVXY8+wHjTHAGKG9eMJakC2\n",
       "4tRsYefZdPa+YbmEorTSa3YAW0xrIwod46TeDfjuDu6RMoglL9osyTCmguFOsKtDxv3MCWpAZuS2\n",
       "eOsE3LjckCoOInFeSey9Zhuw+14TcdQxTeruAf7+2e4Bqvna72JpvXeNeec1NiCzlSddJxfcNc2q\n",
       "euqTx0u4TLr3mk1AbDxriKo/xkn3mme/jAL144toaL0z5Hrj5RYkmxhWmPifxGPJIW0+467poc4P\n",
       "Y6/ZAqTGs4Ko6ZhNGmqeTUhdqfgpgtZbjfqdLwP6ZDgEt2NbcglQRXTrRzV0Mqag9caY6Y06XiYb\n",
       "lgDq9Kumuo7j1j31r/KDPt/ceSlzncx8DOjraE64mCLQunyNeeeV9e/ef7//Yl1N0Lo6+Z1vUMgD\n",
       "Xsc8Z/wDojIy/hHxqSsAAAAASUVORK5CYII=\n",
       "\" style=\"display:inline;vertical-align:middle;\" /></a><br>"
      ],
      "text/plain": [
       "sumInExpRev: forall_{a in Complexes, b in Complexes, c in Complexes | a != 0} ((a^{b} * a^{c}) = a^{b + c})"
      ]
     },
     "execution_count": 45,
     "metadata": {},
     "output_type": "execute_result"
    }
   ],
   "source": [
    "# do we actually need both directions for an equality? (See previous thm)\n",
    "sumInExpRev = Forall(\n",
    "    [a,b,c],\n",
    "    Equals(Mult(Exp(a,b),Exp(a,c)), Exp(a,Add(b,c))),\n",
    "    domain = Complexes,\n",
    "    conditions=[NotEquals(a, zero)])"
   ]
  },
  {
   "cell_type": "code",
   "execution_count": 46,
   "metadata": {},
   "outputs": [
    {
     "name": "stdout",
     "output_type": "stream",
     "text": [
      "WARNING: Redefining addOneRightInExp\n"
     ]
    },
    {
     "data": {
      "text/html": [
       "<strong id=\"addOneRightInExp\"><a class=\"ProveItLink\" href=\"_proofs_/addOneRightInExp.ipynb\">addOneRightInExp</a>:</strong> <a class=\"ProveItLink\" href=\"__pv_it/c05e67991113b56416f665d85807bfa950162bc60/expr.ipynb\"><img src=\"data:image/png;base64,iVBORw0KGgoAAAANSUhEUgAAAR0AAAAcCAMAAABrn5tYAAAAOVBMVEX///8oKCgUFBQNDQ0QEBCI\n",
       "iIhmZma6urrMzMxUVFQiIiJERETc3Nzu7u6qqqp2dnaYmJgyMjIAAAArQGDrAAAAAXRSTlMAQObY\n",
       "ZgAAA3JJREFUWMPtWYmSnCAQNYkg9/X/HxtAYKABx3GszGxVuiqpXrd9yuvbXZavls3awVXCbwT7\n",
       "yaJxzw3G7DawnyVka3+2qqj0EQTsGloFNhHUKV9FDgUXnCgqf5kdiFaBzZKPQuWbxEpwPocQlVfZ\n",
       "AWg12DT5DFS+RzAMaMTkgvBFdiBaDTYVJmvlUcbNx9kSDnqW+wMae42dDq0Gm1ceXCtazaL6GxrU\n",
       "6ssqpgu1XtbwnznPToeWwJ5xWisiu0TwjyfW2vWU4P589dXY6dBqsIPUUrWSQ0ar70uskPyGdz1L\n",
       "sUtoNdhBteK1YrQMItjHQ8esg56sNezoAjNH0QW0Guyg8KyN4ngQpj/ODi4VU2CN0QqL6kW0IRiI\n",
       "s8pkyzG3K5TEZ4tzDz21rGxHv4wPRxp17uD5/NvqX8a65RQ72laCe7QxWPu6tQlxpFa2ACkPzqy4\n",
       "pqzE8mBZaQ2euBmTmM7+Ltg+bLogV1Pnf3Hwi4MlPQJLThqYCLc1Sqg4qBt2pNIY+6uScA9ErIbL\n",
       "yszgmB0RX5ptqYc0VTPxjuMv2JurTkKbgUlX4qE1kZmdpIShuavJhishw11GxGMrDZaVqcExO4FJ\n",
       "/2AyaLk5L1ZeTN5ZSvAxGCuh25rA2BG27GsSI2pLusWcJIrUgZ2XlakBZKdA7tZ6BwnGDMQrT7ng\n",
       "go1yZ0fIuu5QiHYCDJgQJ1qFC7rzJRnxF5sFw0gjRsvK1ACwUyBpbI1//D+TngHDnfL0tiGmqF2U\n",
       "eCd2drQTYMAE9CzPW/6chP2xCYsOLxVXtrhpWZkbAHYK5M6tqtyyovGkER/hA/+9GSOhnQBrTcqc\n",
       "VBSHHsM3ChFJWPS0v08oQgbLytwAsFMgo5t4dle4xYHGn50lKUJEULS9xU5COwHWmrSz8p4d6aW9\n",
       "S7kJtfaRwFiiugPmZWVq0LLzgAyb5O9faZMc9qzI/I1b2zU0i6BSAIUP+i0US02qOTLo2kdJ6Dd5\n",
       "WRkZDGOnQOZunj8PdPPOgm+d16+hyewz2Tlvo0ghHI/CS7uVvivwMFCTEDNlWRkYjNipIPdunujR\n",
       "o+/p661fYS+hGQqVcVXby0o7FD8zOJx31FNn0lu/E1xCYwQqZ+V0ix2z83xBk7f+wekKmtFQOX/r\n",
       "8g475oQr1a1/cXod7Z98C7x+RnVr23oZDUuo/Jep/AWVBCz6zsinGgAAAABJRU5ErkJggg==\n",
       "\" style=\"display:inline;vertical-align:middle;\" /></a><br>"
      ],
      "text/plain": [
       "addOneRightInExp: forall_{a in Complexes, b in Complexes | a != 0} (a^{b + 1} = (a^{b} * a))"
      ]
     },
     "execution_count": 46,
     "metadata": {},
     "output_type": "execute_result"
    }
   ],
   "source": [
    "addOneRightInExp = Forall(\n",
    "    [a,b],\n",
    "    Equals(Exp(a,Add(b,one)), Mult(Exp(a,b),a)),\n",
    "    domain = Complexes,\n",
    "    conditions=[NotEquals(a, zero)])"
   ]
  },
  {
   "cell_type": "code",
   "execution_count": 47,
   "metadata": {},
   "outputs": [
    {
     "data": {
      "text/html": [
       "<strong id=\"addOneRightInExpRev\"><a class=\"ProveItLink\" href=\"_proofs_/addOneRightInExpRev.ipynb\">addOneRightInExpRev</a>:</strong> <a class=\"ProveItLink\" href=\"__pv_it/f39b4fdd136817083b467bb69e4d516c4121f65a0/expr.ipynb\"><img src=\"data:image/png;base64,iVBORw0KGgoAAAANSUhEUgAAAR0AAAAcCAMAAABrn5tYAAAAOVBMVEX///8oKCgUFBQNDQ0QEBCI\n",
       "iIhmZma6urrMzMxUVFQiIiJERETc3Nzu7u6qqqp2dnaYmJgyMjIAAAArQGDrAAAAAXRSTlMAQObY\n",
       "ZgAAA41JREFUWMPVWYdy4yAQ9V0Eorf//9ijSHSEyOjshJlkduzVQ7xdtvn1+h1r1/o9kIi+fuGS\n",
       "8B2QCELyg0lAeyv5pcXsUbC6VwaJk0eR74G9hRzcSmEZNr0peHGzDJLW7CyDvWNp3kqBLAMA5pOb\n",
       "otYskUE27KyCvWNB0ErHtSH8BWahh/CVzXLIlp0AluK2+jhbzPBGOl3fsqVmaQssRe4cssOOB5Ni\n",
       "4MsfzUtNOtlsjIZ4yu7Kbgck1nZt7p8q2PFg7KSNfT7Rb6KVzgjKOx+2V0ss7JZDdnwngJ0uI8UP\n",
       "vlguCqi5+eCKhXPI9JwgBZiS3C32+SpIba2UEryUNwLttlQ9JMh4gSAxGORghrpF5MfZgbqRGJQQ\n",
       "bJcBMVfZzTx2diF7PhfAMPLfs3tHuNXw7Fdf+hcDEjTmoLSW9s2+lb6MtYUKMiiFeJ0t2Ne/ZCeA\n",
       "7e5RfnFmQSUmp7/1upNSYbBZ9Avkr7N9qk5BGlcS31Q/mCTLlyrM7BO7DSBZNwx6MBdxQFPscCEh\n",
       "tJ9yRO3LIC3r7mSkcM0O8wcn+5E0ijAJKwl6DdL0PNykO1io8Ck7I8gekQHMFc1NTFZUMO6QFPPH\n",
       "FrLqToYK1+w4Ju3GqJO2k/8f0kajbsVj9LJSZe47Q8ih7zAdez4OAdbxuvl7igTKne/sToYKNTsR\n",
       "MmjLAOKUSeWvFJcSN05ZmEv7FiooayyLuIP7+pM+LIBRhgPnnCD7YdFgKK5YrzsZKlTsREjsU+OX\n",
       "/VPHHrV/Y1pK3Djnwvol2JidQmWas25AVjnLcnmOfKA9NiLe4DHi8hLo6E7GChU7ETJwKzKzbGBU\n",
       "rRyS38veIjlplqKKmtY7NyCbosuAVMAD54WIeEtbLCYQ6nQnY4WKnQjpTUdPE7pH6iCRLH9IHAOA\n",
       "GAYXwaRUmdfKNyCbwlvx46WtSalysTZlW8hBnkXP7mSoULKTIF239/fP0e11c5ZnvpbWxkNPjvQa\n",
       "MFspIbO7YClRVls6WVovcfnm7E56Cl3fiZBnNj/HA02984KylVYWNw+OGVqwHQMBoD8KjemW2+hP\n",
       "XUGNnM/E7qSj0GMngwzZ/KBH9mbeWystNWpPjjuvwUAIK2VRPFO4rHfE1CGwaKWVrhs9yM4ymLjZ\n",
       "iw3YmTdoqZ/h3/j5Sj3ZSK+D3R6tdtlRN9xBwFa6PR56cnz3P2eB3/9lTuytdHfTJye/8ONj5J+/\n",
       "/gE4+yz6PpFFhQAAAABJRU5ErkJggg==\n",
       "\" style=\"display:inline;vertical-align:middle;\" /></a><br>"
      ],
      "text/plain": [
       "addOneRightInExpRev: forall_{a in Complexes, b in Complexes | a != 0} ((a^{b} * a) = a^{b + 1})"
      ]
     },
     "execution_count": 47,
     "metadata": {},
     "output_type": "execute_result"
    }
   ],
   "source": [
    "# do we actually need both directions for an equality? (See previous thm)\n",
    "addOneRightInExpRev = Forall(\n",
    "    [a,b],\n",
    "    Equals(Mult(Exp(a,b),a), Exp(a,Add(b,one))),\n",
    "    domain = Complexes,\n",
    "    conditions=[NotEquals(a, zero)])"
   ]
  },
  {
   "cell_type": "code",
   "execution_count": 48,
   "metadata": {},
   "outputs": [
    {
     "name": "stdout",
     "output_type": "stream",
     "text": [
      "WARNING: Redefining addOneLeftInExp\n"
     ]
    },
    {
     "data": {
      "text/html": [
       "<strong id=\"addOneLeftInExp\"><a class=\"ProveItLink\" href=\"_proofs_/addOneLeftInExp.ipynb\">addOneLeftInExp</a>:</strong> <a class=\"ProveItLink\" href=\"__pv_it/725d77a9673adae97f795e48ca1a602f7ffb52b90/expr.ipynb\"><img src=\"data:image/png;base64,iVBORw0KGgoAAAANSUhEUgAAAR0AAAAcCAMAAABrn5tYAAAAOVBMVEX///8oKCgUFBQNDQ0QEBCI\n",
       "iIhmZma6urrMzMxUVFQiIiJERETc3Nzu7u6qqqp2dnaYmJgyMjIAAAArQGDrAAAAAXRSTlMAQObY\n",
       "ZgAAA35JREFUWMPtWdmy2yAMdVuD2bf//9gCBmGzJA7xbfJQZu4djREHcyS0OMvy5YPw5tFm7c2b\n",
       "3I/4b7jBmLVPNb57n/sRf4aOrTZrYYdmwapZtNFIiAgeoK8khy5jduCOOTGLNhoJcYMFG/1Cdqy8\n",
       "wA5xCFE5hTaiMSNqA3fNfB05uHXoDjuIyQXhKbTBKIgMCI1SCdbm42wJJ6+ww/2pjZ1CG4yCWFiP\n",
       "klYv++GPjV7m2Nmh1o81/PMmXH2sxXQKbTAKonCF3PAvW0Twj1+sVS1XfCf4xKqm0EZBuSAyWBWl\n",
       "7DJafePFWlTLjo8Iht95sY6IGJCjZLQMQ7CPu45Z2yNi5iiqcxbVegrtQeoHRATLdsnxMJj+ODvY\n",
       "FlI0Rmttez6H1gcbzWzgcrtESdz6YoV1qSV5WKLG3ZFGjTl4Pv62+pexbrnEjraHgVu0Adhohjhy\n",
       "krYAKR+cWXFNGfh3JxWcFZ5YGZN4nf2qOu3Y9ECu5hQAwNSvFZa0Dwau0t9GuO0shYiDmmJHKo2x\n",
       "fyoJ94DE6rrJGSk8ZkfEl2ZbyhSn2Jh4x3GCvdnqJLQaTLrsB/1tJLCTpFA0NzHZcCVkWG5EPLbS\n",
       "VZMzVHjMTmDSb0w6KTffi5WDyjtNCe6Dseyy/W0a3xEW+jWJEbVw3eLlJIoc/Tq3JEOFmh2A3LX1\n",
       "DhKUWeWvPN0FF3SUu1pCHuMOrdHGYIMZAi1ulrigO2GSEf/w1GAYaUSvJRkqVOwAJI2p8Y//M2mP\n",
       "2qkpT6+tYnW8KPGO7+xoY7DBTJ2zPIH5ExP2xyYsGhwirjyvTi3JWKFiByB3btXBLGvFTi414hb+\n",
       "ArxXYyS0MVh/ppRJIDlUim8UPJKwaGkPIBQhnZZkrFCxA5DRXjzbLSxxVeLPxpIUISIo2t5iJ6GN\n",
       "wfozVa2834700t6k3IRYWy4wluiYCXNLMlQ4s1MgQyP5+1dqJLs5KzJ/Y9c2hWZRK2VA4Z1+C8FS\n",
       "k0NBGWTtvSTkm9yS9BS6vgOQOZvnzwNNvbPgW+v1KTQJJpON8TaKFMLxKBzSrfRZgYeCmgSfgZak\n",
       "o9Bj5wC5Z/NEj+5UlWS9k50pNENbqRvV9rByLoqfKTysd9RTY9JbvxPMoDHSShfH5RTbZ+d5gyZv\n",
       "/VlpAs3oVrq8dnmHHXPBlOrW35VeRitfAH/yW+D8GdWtaetVNCxb6f8Yjb9wWiz6mYZA9QAAAABJ\n",
       "RU5ErkJggg==\n",
       "\" style=\"display:inline;vertical-align:middle;\" /></a><br>"
      ],
      "text/plain": [
       "addOneLeftInExp: forall_{a in Complexes, b in Complexes | a != 0} (a^{1 + b} = (a * a^{b}))"
      ]
     },
     "execution_count": 48,
     "metadata": {},
     "output_type": "execute_result"
    }
   ],
   "source": [
    "addOneLeftInExp = Forall(\n",
    "    [a,b],\n",
    "    Equals(Exp(a,Add(one, b)), Mult(a, Exp(a,b))),\n",
    "    domain = Complexes,\n",
    "    conditions=[NotEquals(a, zero)])"
   ]
  },
  {
   "cell_type": "code",
   "execution_count": 49,
   "metadata": {},
   "outputs": [
    {
     "data": {
      "text/html": [
       "<strong id=\"addOneLeftInExpRev\"><a class=\"ProveItLink\" href=\"_proofs_/addOneLeftInExpRev.ipynb\">addOneLeftInExpRev</a>:</strong> <a class=\"ProveItLink\" href=\"__pv_it/c9a0a6e11fdb24e8ba276e01296ae7bb3ceda9100/expr.ipynb\"><img src=\"data:image/png;base64,iVBORw0KGgoAAAANSUhEUgAAAR0AAAAcCAMAAABrn5tYAAAAOVBMVEX///8oKCgUFBQNDQ0QEBCI\n",
       "iIhmZma6urrMzMxUVFQiIiJERETc3Nzu7u6qqqp2dnaYmJgyMjIAAAArQGDrAAAAAXRSTlMAQObY\n",
       "ZgAAA3VJREFUWMPVWYuWoyAM7e4K8gb5/49dQEElQbQ605mcM9OcEq5yCXnQ1+u3yzhN705l8km0\n",
       "nymWvskNpeI5tG8RNkKtI5NJH+QNt1vZ4ffRvoEcDrWeeDUvld9hR95H+3qZNNR6hHpCeDS27gF2\n",
       "bqB9uVACtZ4QoV8kBQuh77NToa0h2n2cLeU10LoiA48urYLQ++xUaNZc9uVvyD4XMscQojflM6Vv\n",
       "scOnIEP85wCayqwp+fGDNRio9YOyLubC3PadGi27jDW/8mDF+OCWtdGLG2wgOzWaszqKEh93HTdA\n",
       "7UwRYG0OqcOlzaDCc1LnrBrNyyjCfj5jTUBT1FIyaHRtcGQ843I4JOJ1MxpnaVg92NYclrnpxYgl\n",
       "YDukrLVxCG81YcEWHWGebUL8tBF6PBFlZ0Yb41R9sGYjLRfFB5F0sjfAn7V6CEvHOcyqy9GJV5oe\n",
       "3D6alB0HI0u46nYf+MQwFQuDCS1GHAKKHW0speFbzWR4KTbZfSPSNjhmR6WFi3HJD7v4SiuNJgtR\n",
       "aNc+72E9kse77OATcSJntFg0g5jspFE6IjmVlm3svhFpGxyzE5kMD2ZI2l79f9EGWWwX1rJ3gZGz\n",
       "voNPbKTQhKam0vNpSvhUjls6p8ywre/lRqRpULNTIGdrO4NEY1H5q+R7TftobDy2regI86oRd/jx\n",
       "xEYDN6NJxWfStWDhy12D4bRTWFvTNKjYKZA8pcZ/4c8tz6j9m8u9pr1JpezLKMAOOtLPWW3IVs4K\n",
       "XOZrIBqWzUTa8BJx9R5oaUTaBhU7BXLm1my2ZajYWcuVRUvPCqfJ4s0VGDlRJrUh2+WXJ2sBT6IX\n",
       "MpF2OmApwxjS1rQNKnYKZNo6mbcwTqmjxLr1i6Y5IUxxAqMJPnKiVm5DwgAuy+lYXjpsqXQx1q7Z\n",
       "lmqyzaa5EWka7NlZIWOz9/fP0uyhOSsxX2uXbocevdEDaKFSYn6MwdKyTW0ZdRu8JOab3IhgBqjv\n",
       "FMiczfP1AKh3XtRC7YJo/+QtA0QbOTGEpqXIkm51iP4yFtQs+kxpRBADjJ0N5JzNF3osUlWyAWpX\n",
       "+rRHbzuP0cgcVvZFcc/gsN4xXYfgBmrnRbAn2bmMZk72Yg12+g3a2s/o6z8ruUf76Otop69WUXbc\n",
       "CXcwFGpnLyQevb37yrvA938xMyPUTj7z0Ytf+vFr5J8v/wEUUSz6JSqI0wAAAABJRU5ErkJggg==\n",
       "\" style=\"display:inline;vertical-align:middle;\" /></a><br>"
      ],
      "text/plain": [
       "addOneLeftInExpRev: forall_{a in Complexes, b in Complexes | a != 0} ((a * a^{b}) = a^{1 + b})"
      ]
     },
     "execution_count": 49,
     "metadata": {},
     "output_type": "execute_result"
    }
   ],
   "source": [
    "# do we actually need both directions for an equality? (See previous thm)\n",
    "addOneLeftInExpRev = Forall(\n",
    "    [a,b],\n",
    "    Equals(Mult(a, Exp(a,b)), Exp(a,Add(one, b))),\n",
    "    domain = Complexes,\n",
    "    conditions=[NotEquals(a, zero)])"
   ]
  },
  {
   "cell_type": "code",
   "execution_count": 50,
   "metadata": {},
   "outputs": [
    {
     "name": "stdout",
     "output_type": "stream",
     "text": [
      "WARNING: Redefining diffInExp\n"
     ]
    },
    {
     "data": {
      "text/html": [
       "<strong id=\"diffInExp\"><a class=\"ProveItLink\" href=\"_proofs_/diffInExp.ipynb\">diffInExp</a>:</strong> <a class=\"ProveItLink\" href=\"__pv_it/43d2f63129fddc16b013750833c9105859844c5f0/expr.ipynb\"><img src=\"data:image/png;base64,iVBORw0KGgoAAAANSUhEUgAAAVQAAAAcCAMAAAAJMLcyAAAAOVBMVEX///8oKCgUFBQNDQ0QEBCI\n",
       "iIhmZma6urrMzMxUVFQiIiJERETc3Nzu7u6qqqp2dnaYmJgyMjIAAAArQGDrAAAAAXRSTlMAQObY\n",
       "ZgAAA4tJREFUaN7tWYmO2yAQdVsP9+n//9hyGGIwxihB3Vgq0krj7MsbM8xJluXhC1v7pWRPXhp9\n",
       "K9mTFsHFo1U/TwYn4Wk2peXzJn6eDNNaeNiysjTLBkDlKYwBYBpZN19ERdqkZ/NEm6LKWMDkAnUm\n",
       "ZHgh6yyy3sqKWDqKILzKnXmCkcVWORJ3djFVzUbce90ksu6hZEX5KIKg1UUoPKTWr67SILpgnpbb\n",
       "xao+I+umz7YisR0FwdMTf0L0n+y1NYw4Wm6GyHrroIipo5AcVKsnRr/PYaZ2B+v7JDSJrFvnXooQ\n",
       "P6YEo6Vfgj3BUc16boq0PlkLgQE5iax7LC9FkMiisIUMwfQTjIps3o5GsMp/RnYLwcnto0BD+eKD\n",
       "eWjWeIw7/wuvBxrO58z3IMOre127DdYje1joLbJ7CNnIUcBej+yYSnFNGYXr8bgE3FOEHXU8iISs\n",
       "5L51KsQ2fiJXc0xj744RN2QvvxzQJzZcCD6bwqlJlUoj5D6VxDcPxOp6PL4C3FP0jSro3lbHalxW\n",
       "kr0qhH+wDyftGzK5ZUcb0CeTUXfBj1anMmW4EtJTGRFsoXTVRlwC7in6RvUH4F6NtHqePXpXniGf\n",
       "eOoNGcuBMqCv9lRh88WCREBtzgkhmxAVuUQ5Hl8C8kDcQxRGzUojWkc1Hszq+OE0OoPHqMGUWuZU\n",
       "+gbZiD6yiVLggkYzS0bch8X0aqQRrfH4EpAH4g6iMGpWSkMb8sf9mf0tTgFHedyk92BqF/XJDdU4\n",
       "2Yi+qvq7M0B79CNnLcKC8+QSI0umfTy+BqSBuIMojZqVxkNTh/Nea6Pu3WB4CRedn7WB42QDkNz0\n",
       "ZmGD19wGPigIi/MtLEIR0hiPrwEpEXYQpVGz0uAUPDmH/8qG2/4gKQARFPBnXd0w2QCknKhigO47\n",
       "ce7BjS8ur9SDJBwbjDQeXwJyJbtGFEZ9KaUu5f3+5ROfuar+4UznXSRMJLNQC1mLcHGHfXXQ5DBL\n",
       "kFB8FuHrchqPW4CISANxE9Hy1Kw0tVPpCu3cpy5o5uA3kUym85cnR8AUFKCwP567GemqJ/djF/Ee\n",
       "msfjBiAi8kDcQjSMelAa26ndqrr1K9zQ3fPomkhmaC2003hMiOVgdAcYQPT6VHXvOnTmZdo8MkZq\n",
       "YXTddzDjPU7TqAPXCnLmL/PTyIyuhfGvTkD0jGpGHEfN/Gl+Etm33PS/vxs1swGYQ4ZkLfxfs9df\n",
       "bPUyz9aLp3QAAAAASUVORK5CYII=\n",
       "\" style=\"display:inline;vertical-align:middle;\" /></a><br>"
      ],
      "text/plain": [
       "diffInExp: forall_{a in Complexes, b in Complexes, c in Complexes | a != 0} (a^{b - c} = (a^{b} * a^{-c}))"
      ]
     },
     "execution_count": 50,
     "metadata": {},
     "output_type": "execute_result"
    }
   ],
   "source": [
    "diffInExp = Forall(\n",
    "    [a,b,c],\n",
    "    Equals(Exp(a, subtract(b,c)), Mult(Exp(a,b),Exp(a,Neg(c)))),\n",
    "    domain = Complexes,\n",
    "    conditions=[NotEquals(a, zero)])"
   ]
  },
  {
   "cell_type": "code",
   "execution_count": 51,
   "metadata": {},
   "outputs": [
    {
     "data": {
      "text/html": [
       "<strong id=\"diffInExpRev\"><a class=\"ProveItLink\" href=\"_proofs_/diffInExpRev.ipynb\">diffInExpRev</a>:</strong> <a class=\"ProveItLink\" href=\"__pv_it/87bd77c0b10a49746705477be527929472a4402c0/expr.ipynb\"><img src=\"data:image/png;base64,iVBORw0KGgoAAAANSUhEUgAAAVQAAAAcCAMAAAAJMLcyAAAAOVBMVEX///8oKCgUFBQNDQ0QEBCI\n",
       "iIhmZma6urrMzMxUVFQiIiJERETc3Nzu7u6qqqp2dnaYmJgyMjIAAAArQGDrAAAAAXRSTlMAQObY\n",
       "ZgAAA7tJREFUaN7dWYmSpCAMdXcNgpz6/x+7HEILcvY4h5OqqUr3PF/oEHLgNP0aWbbtV9n5GSLR\n",
       "77LzlYKXVDlkE2/xwegDFTvwVJ+SVPGys/eOMxl8oGJnmOuHyMZTxTt5ByB85BgD2MiSamxXs3YO\n",
       "skGuHyIIUiUcvZVPMJDu1mXCs9P4ULrI2QlklutVydQTnMx2nihBqPay6i/MiJqoc24aqjw5Oy8y\n",
       "yyXFVDhOP7vCX0vwrOsWqua0hXrRP3UWp50aWcJhp0BmuRj1n+gTTn9Y/XwpwTvPfdtVbtaRviFn\n",
       "50RmuXyASvHs02+ymRoIjM00ZOh0ertzccbOicxyKcmNsPUJgarmVDn3WlKO7A8CBcfOwDzU013t\n",
       "nMgc124Twyqf4FS0pYr+PRLBzKvuayGWnXdsQovlzEVs1aKdnfNdk+9S+Z9dOUi47jOlqbLMeuFb\n",
       "rdK0Ebr1xK9SuJ0EjbCcuRbzJK+4SlBJVgLlyTcGtCmsVyrhiG1W0k9davlGEoXPKp8TQ0gVEVGq\n",
       "Xhqu6mGJuEw2hUuTyoVESH/LsekZ8CbTybcEaFPUncrI0U27QhsXCZQoyELWy4byPSSKAiJGt5za\n",
       "wxJxmdHqUqYUFYwbIsWsL4RMuocioE1Rd6rZAL00nOubwnn0ykwDOHG/j+kiYihSe1giLraFywmO\n",
       "gGwhJ9hcgoVjYvHkWwSEObiGiJwajDq0dGYMeE3PDyWxwneDFnstcFqIYC2TU8kIS8xFGXE7xVes\n",
       "v4ymV8UVy02+RUCYgyuIyKnBKLFtyD/9p45VXI4bobHCdxPLZJsEKzq1heip/l0sMZdAx+lH2lt4\n",
       "tcETSgyPeY7Jtwzwc3AFETs1GHWbJk77PV8uTeZEscvRR13WR/UqItv1vsGScO3wmv3AhDxe3VgL\n",
       "ExMYZybfMsAnwgoidmowakOC+tAwj1xSXQgpr3ACgBmBck5sI3qqeg9LwqWOFZrwoMoUl1czgzic\n",
       "exQ/+RYBoZKVEZFTX0aJTmJ//5hUpkrV3+5prNxyRwufyKUbXLwvpjpIfJoksC0+EzN12U++OYBD\n",
       "+Dk4i8hFajDq2yl/hXbtUyckU+UG4Tv/RK6FgABkfx8N3QzX9ZCasQubCA2TbwbgEGEOziEyTj0Z\n",
       "de3U4VWZe8GG51S540aBfBUXuIQYD0YtQAei1qeKdvgRkSoflxVP38fV7idE97u3rFM7rhXCPM1v\n",
       "e/uubswk41zqBkTNqaon+ARKlY/e0d54O//NN/3ve0QsqfLBldz4Ggk94ZXUM+U/Dt8yzwWo9Y0A\n",
       "AAAASUVORK5CYII=\n",
       "\" style=\"display:inline;vertical-align:middle;\" /></a><br>"
      ],
      "text/plain": [
       "diffInExpRev: forall_{a in Complexes, b in Complexes, c in Complexes | a != 0} ((a^{b} * a^{-c}) = a^{b - c})"
      ]
     },
     "execution_count": 51,
     "metadata": {},
     "output_type": "execute_result"
    }
   ],
   "source": [
    "# do we actually need both directions for an equality? (See previous thm)\n",
    "diffInExpRev = Forall(\n",
    "    [a,b,c],\n",
    "    Equals(Mult(Exp(a,b),Exp(a,Neg(c))), Exp(a,subtract(b,c))),\n",
    "    domain = Complexes,\n",
    "    conditions=[NotEquals(a, zero)])"
   ]
  },
  {
   "cell_type": "code",
   "execution_count": 52,
   "metadata": {},
   "outputs": [
    {
     "name": "stdout",
     "output_type": "stream",
     "text": [
      "WARNING: Redefining diffFracInExp\n"
     ]
    },
    {
     "data": {
      "text/html": [
       "<strong id=\"diffFracInExp\"><a class=\"ProveItLink\" href=\"_proofs_/diffFracInExp.ipynb\">diffFracInExp</a>:</strong> <a class=\"ProveItLink\" href=\"__pv_it/aedc51c36da7d2aa64df33897669b298296d34b40/expr.ipynb\"><img src=\"data:image/png;base64,iVBORw0KGgoAAAANSUhEUgAAAawAAAAmCAMAAACvSl+UAAAAOVBMVEX///8oKCgUFBQNDQ0QEBCI\n",
       "iIhmZma6urrMzMxUVFQiIiJERETc3Nzu7u6qqqp2dnaYmJgyMjIAAAArQGDrAAAAAXRSTlMAQObY\n",
       "ZgAABLNJREFUaN7lW4uupSoMdeYKgvL0/z/2AgqbR0H2HE08ockkzZ7lqlL6oHqmaVhR6sWknML6\n",
       "oIL0q0kXDetDyjLzd5MiCusDCp/J20m1gvXxhNIi7egXkAqksNdZFKbsiTzwW4TsLP9J4uv1u420\n",
       "5ivjbQn6ng6cCHX57Fp0rN9NpGnyxIcYqCap8zmoDyasjIEJ+MktN3mAtOpuA4+u0AjWxxKsgRyG\n",
       "EOWX63cPaTWRYhUf1NQM62PJXG5TtPIJ4cv1u4e0O1aXVNfPnuhfmgXL3LaZpVb6ZaSzTHUZSqAe\n",
       "poSpHVgXs3ExnZbNi1uN/ZSfkTZlLyTqAXWqs83vjG2ckrUCa2acM4tu+I9JuxjQnuk+oKQYxlkr\n",
       "sC9NdVGV7brgB0i77Iiom3S6ktwKW4fx1bRDjQSVteOUVA+Qdtkhu8j03aXoVQ7krE/fxrDEqDXL\n",
       "UQit7G5SAALa4bvKdOq6mK3z+HbHDM0l6P3qtLk0j/0ujUsk66QwJF2CZTaPrRv9gzBXJyccqSPB\n",
       "/0YKQAo7xQ44dJcqecMFYpN0pf4yYNyVAq4pjoe7grSSPbZOUfKYBsGkFYhrsv268tlqeGvOFEjX\n",
       "WK6D9BNHJaRiZ5e5bqsVKvIlFxJj8ysntoslWubjrhqgYAARQl+RNJaQuedal7PhyklbkKQSYPdf\n",
       "a2Ob2VMtWnqGD5ekfNdTFVKxExfCQ7eFrWgv1CYYt5SKSR+nybirCigYQMQRoC2ShrPcIYi7nJd0\n",
       "xlHU1yDJus5bANXylVQIq6+cVSVdQ+iUkIqd0llMhxDkGFE3ugxt5ELEwcnScVcVYJYMIRQ3ogXC\n",
       "WEEuQBskqbPCfZ1PdtyJBa8qJ61D8ozFXWYRPUdeuGbRfyPttsujNOj1jdEjAvlKzmF8iFjFFYPG\n",
       "XVWATT1kTuZYGaLDSuascAV1net/5p86KXwu6YB8Httf46KB6kl8NxyH17WftNsui7pBrwt/dsbG\n",
       "C2R12zSUAZ4ynuOuOsCVTRIBSoS1MjetZM4K93XsFzF9wsaPTwNpHVKWbfcwJjvdcWz5hrTXbnnO\n",
       "ijpEm93dxxlkPQZkaGKCEGDc1QCc6xQAIOLCSuascIXbl5vfn/YSP5jugHzoAo4iRBjt6iAuh65f\n",
       "kPbaXaJbD7ri57OZjbgpW/E/2RhzFDeeftxVB5whEuXzFNFjJXXW5wpqCsXfP7ZcqLTV64BEzE98\n",
       "2vUEqYpuXeWPYY5qZF9sbpQkOmsT1zVMzHZYftxVBWi7PjgG5AhnhdSsgJEV7sv35C7X4eMQlZFC\n",
       "kKxJeOJF3hOkMWfBv1Akzg5yC9mSmwZos2MOYiMqjLtqAIaRQjwBZIi2FchZ0RVHT366QrpePScF\n",
       "IPl89IG3QU+Qxu2mbp3N0Vlxkhv6MWAS11aa5ywBFWVxDamN3G6TB0jL0eA3m4f9FPBNkww7S1+T\n",
       "XheP7YkPu+4nLd6QfFXvfgyYvtgeoLOUuCRV1y/mHvn65H7S+BMc/O7v3fFz1HwXv4E0npPN47wb\n",
       "Lgqy/gWkaIb14eSJv0u4m3RWsD6cKP160jhQ0dh/obWhl5OymYH6iGKn9G8m5asA9TGFrezNpJuC\n",
       "9VG9RV5MyhdA/x8hr0vMKEGQgAAAAABJRU5ErkJggg==\n",
       "\" style=\"display:inline;vertical-align:middle;\" /></a><br>"
      ],
      "text/plain": [
       "diffFracInExp: forall_{a in Complexes, b in Complexes, c in Complexes, d in Complexes | a != 0, d != 0} (a^{b - (c / d)} = (a^{b} * a^{(-c) / d}))"
      ]
     },
     "execution_count": 52,
     "metadata": {},
     "output_type": "execute_result"
    }
   ],
   "source": [
    "diffFracInExp = Forall(\n",
    "    [a,b,c,d],\n",
    "    Equals(Exp(a, subtract(b,frac(c, d))), Mult(Exp(a,b),Exp(a,frac(Neg(c), d)))),\n",
    "    domain = Complexes,\n",
    "    conditions=[NotEquals(a, zero), NotEquals(d, zero)])"
   ]
  },
  {
   "cell_type": "code",
   "execution_count": 53,
   "metadata": {},
   "outputs": [
    {
     "data": {
      "text/html": [
       "<strong id=\"diffFracInExpRev\"><a class=\"ProveItLink\" href=\"_proofs_/diffFracInExpRev.ipynb\">diffFracInExpRev</a>:</strong> <a class=\"ProveItLink\" href=\"__pv_it/cd6f504df593f2b66cf67d0304ff1ec6ed9655580/expr.ipynb\"><img src=\"data:image/png;base64,iVBORw0KGgoAAAANSUhEUgAAAawAAAAmCAMAAACvSl+UAAAAOVBMVEX///8oKCgUFBQNDQ0QEBCI\n",
       "iIhmZma6urrMzMxUVFQiIiJERETc3Nzu7u6qqqp2dnaYmJgyMjIAAAArQGDrAAAAAXRSTlMAQObY\n",
       "ZgAABRBJREFUaN7lW4uOrCgQdfcKgrz9/49dwBdgATItm9tjJZNUOqdPKdSLamYYXitaw/onImiH\n",
       "B+1C+l2CDKx/JpPp8KhdSL9JplGA+sc+0CMM0LtjS4wE1D8Xozs8bhfSrxFKYX3PO42JRyKNN5W3\n",
       "hukdY/zB2P86IQsH9V0Ubtsru90qv/cVyRgLHOAHpL9IDIX14zN5I5PiVSzUkMgRGqMANhY5QDvp\n",
       "7xEeBBMHAmuAPistt4Wf3zCo7WlgYyYupK2kv0ewgfXTjxGiDa5MsA5OanpsTMmgsdgBWkl/kYwI\n",
       "1o9WeRYDwj+P26mpL4eNxQ6wkprHT/HfkAUJqB/C7Abqn59ER9WCvmnMkaqjupnXlDC9wPq5MNaL\n",
       "caX/Wi5ytm5N+7wZm9guIqSPSDnbXYy9p2TNsH5uhF2vUf6Ebk1sS1N/kTcWMnvSPaCUfM1mzQzW\n",
       "zw/FoO/77pQWHNnUTBaMhcyeVCvhhM/v6S8WDOtncaeqoewofenvWhy/YCxkXkkXnyhn9aLNQrDO\n",
       "scKoONi5IjRCcxpHYrnRq1WNJcwrKfXtELsZuc1js1yiX2rT02L/618SKaTypDAkWctQn0a7BqZU\n",
       "b64IadnHojcoEwi+b+zC7El9YhSFLZBM0Znu9oFJVgyoU6yrVIOUigZ2m6LVOpSBSTMQ361rSBej\n",
       "UzGDHSODsEdXcm0bl2qayhrLM6+krlqhS+AKqTC2nwriekliVDrJygEuDCBCmhpJ4UW4f4t52nqp\n",
       "lLQESUpKoGOPm9E1EE0e4Q60aCoVxVxigY0VmFdSV8Yu7YVmkgtHqLnaozKaZGUBFwYQsQZoiaSw\n",
       "Wf4oInzOi5reIOpzkPxmjez4RrJsNI+YlEZYt29W1lieeSXl5gg4gRH1E8SjaZyIXBl5PMnKAuyS\n",
       "IYTCtvOCsFaQD9ACSbxZx3Nt77E+iQPPOiXNQ4ppUPg0IwtVpI6IgFDNoq1UV1LG6RpvYibbMP7I\n",
       "J1poDk2ysgCXesgYzbESxA0ryWYd36C+c/1j//RGsWeSG5DztRGgCx9j1AySZ5erhgC84UOqK6nc\n",
       "T8rY7gKZvZseZUDEfNskKw/wRZMEgCvCWRmLVpLNOp5r9Rc5nGGzz2EP0jwErP+n7t/MpjxVnuIV\n",
       "EbfPWXepANLdvVx295czyLyOqdDAJSHAJKsA2NbpAICIipVks45veK9ku3e6r+wT7huQk45CuqAI\n",
       "EU5R/shQR2w5uD52v0sFkGqxvZt1RKZdxT9fBwsUNrD7JCsP2EIkWJAYccdKvFnnN6jN+//+47K/\n",
       "jlu9G5CA2cD6c4Ni8T+Q2oMaWSaXGxUJTtrEdw0Ddx3WPsnKAoxbHxwCUoS3QnJWwMg6nmvvyX2u\n",
       "w+shKiGFIMkUZ4T1p6QH55V0okhu/SI70q6w/QxzYw7iIuqYZOUAHCONRARIEGUr0GYF31h78m0r\n",
       "lO/VU1IAkg5aBag/JabH7ZYiKdoqTvSWHwMGWbdSPGdJqCTLOuTOvOkh6UD5A9Jqn1lvRO+3qpnN\n",
       "MnXSehViFNafEdl43aYPqf4YMDS4B7hZWlZJdf33ifD2yfM3UXCPq+n4777vjvtRi+AgJJanf3Ud\n",
       "e/yMO77nt+FLQe7yLyQbX49eEL32JppzVALrT1D3uCU2vvk/E8K7X9r0Ctq/m/R7JDwvsAevJvOx\n",
       "QyvYhfSLxE3pIf1jWtnjWeXwbuHBbRQ+P+W5rEdtYXp4u3AC6x/FwNQjCeyk/wHJ6UvM6Uht0AAA\n",
       "AABJRU5ErkJggg==\n",
       "\" style=\"display:inline;vertical-align:middle;\" /></a><br>"
      ],
      "text/plain": [
       "diffFracInExpRev: forall_{a in Complexes, b in Complexes, c in Complexes, d in Complexes | a != 0, d != 0} ((a^{b} * a^{(-c) / d}) = a^{b - (c / d)})"
      ]
     },
     "execution_count": 53,
     "metadata": {},
     "output_type": "execute_result"
    }
   ],
   "source": [
    "# do we actually need both directions for an equality? (See previous thm)\n",
    "diffFracInExpRev = Forall(\n",
    "    [a,b,c,d],\n",
    "    Equals(Mult(Exp(a,b),Exp(a,frac(Neg(c), d))),\n",
    "           Exp(a, subtract(b,frac(c, d)))),\n",
    "    domain = Complexes,\n",
    "    conditions=[NotEquals(a, zero), NotEquals(d, zero)])"
   ]
  },
  {
   "cell_type": "code",
   "execution_count": 54,
   "metadata": {},
   "outputs": [
    {
     "data": {
      "text/html": [
       "<a class=\"ProveItLink\" href=\"__pv_it/5e0ba93665bb7ccb5bb19b2a5df1155ad7b66ac60/expr.ipynb\"><img src=\"data:image/png;base64,iVBORw0KGgoAAAANSUhEUgAAADkAAAAXBAMAAABDkPrwAAAAMFBMVEX///9UVFTMzMx2dna6uroQ\n",
       "EBCqqqqIiIgiIiJmZmYyMjJERETu7u6YmJjc3NwAAAC+aOQFAAAAAXRSTlMAQObYZgAAASVJREFU\n",
       "KM9jYMAJzMtxyzFwOKjikZ3NwAQk+S5gyuQBcRiYdRpVgmdrAwMD4wMGhn9g7jo0fVwTgEoWMDAs\n",
       "YeBkYOCdgCbLnwByLwPDy9oaoNMeoMn6HwASR6GcF+gusgAb7wDhVIKcPXl6DFx2Yfk0BgZmqH17\n",
       "gdj1AdcHuJt/HTj/gIF3AYTXBhSIZeDcAGKDbGT7w8BfwMDWAJENYWDg/MPAUQDWBiQ4FzCcN2Bg\n",
       "+gCXZd3AcF4BxG6EeNc/AS4LNBmoNh/h3QsM8w8wsDTAXXU+gUGKDeZtfgegM+CusmRg4C7gbWSG\n",
       "6WW8wA30DacBhOcBdI140cMSuI+m24JsV4BG8gNskXsCSmPEAiTVwBj7sEjyLICxTmOR5YZbhy3l\n",
       "3IPSAHjpQZ+sFYANAAAAAElFTkSuQmCC\n",
       "\" style=\"display:inline;vertical-align:middle;\" /></a>"
      ],
      "text/plain": [
       "(a * b)^{c}"
      ]
     },
     "execution_count": 54,
     "metadata": {},
     "output_type": "execute_result"
    }
   ],
   "source": [
    "Exp(Mult(a, b), c)"
   ]
  },
  {
   "cell_type": "code",
   "execution_count": 55,
   "metadata": {},
   "outputs": [
    {
     "data": {
      "text/html": [
       "<strong id=\"expOfPositivesProd\"><a class=\"ProveItLink\" href=\"_proofs_/expOfPositivesProd.ipynb\">expOfPositivesProd</a>:</strong> <a class=\"ProveItLink\" href=\"__pv_it/8c5ef38bbfbd95fc540a65c97d4e0d7f664811c20/expr.ipynb\"><img src=\"data:image/png;base64,iVBORw0KGgoAAAANSUhEUgAAAVwAAAAZBAMAAACP2ot0AAAAMFBMVEX///8QEBCIiIhmZma6urrM\n",
       "zMxUVFQiIiJERETc3Nzu7u6qqqp2dnaYmJgyMjIAAAAcRTyBAAAAAXRSTlMAQObYZgAABKtJREFU\n",
       "WMPFWH9oG3UUf03ukvRyl+4PQacIZ6tjzBVCD5wwrRVR/9ztD52CYKjT/rONMMfqj/4RJ8wrcxAc\n",
       "ZEWdXFewGqsJyBiRwUKDiB0bhxNci0JwMnCOOsYE16r43n2/d7lL7q4YqT54ufv+eHef9+79+gYg\n",
       "gsbGi7AuNN/fjZQwPhG5nl8fsJAc2dmdYOl/gfsgiKFrcr8aPl4/uL0W43aqId8VsP8Evx4QN/jm\n",
       "aVzjcgi3SZcfwuBm6KJYXcD9iLOHpDdQ/wSGw63O7VKBXeMF0N1H3M7HJEOMcM/RwtUwuHIVLxmz\n",
       "C7g/c/ZSJou40D4/Qbx9e4YHdU/VM3mZj0mGGOFO0YcrhMG1V6a6QKtkGfuoj949D3BscEv7/ovO\n",
       "Fm8uWnXG85xLtunkaqjvkt3PdRP8RcY+2kGfaTpw/6uOlUfAVVJYccbTXK4EykK5fDw81L4vlz/u\n",
       "JuKOc/bRVxxQQGA67+gd+sZ1PTnvjEmGGDPD74YxEQ63zzDeqneu1IOTUOt2gHPvQ0N3upNX+rfj\n",
       "pmyAZIwmjzXu8UVJZnSAf3aSIUa4LwJMhsNN6JAKKG3ZwP2eADrK+dFi5rob/X+ZlSIoTWd8YZno\n",
       "Mt2mMPkIG+FX3+MqVyWeQ0iGGOE+xoLOofTbY6MeuEIWPoMwuMJyKNzXGUt3UyrCq/3oFehTIR3k\n",
       "W0k047SF9cPRjH7OmnCDg8ozRrhJiPG8Kp3RLOkZU7zmLRN5GPQqs//wsNqyboNPn978wo9+uLcx\n",
       "jq9AkvZXyCLxJlTqIF4PgNuDjvmICftdw9L+YZD+YEOSIUa4spXkey7VyqC8D3DGC/d8q7Z90ngY\n",
       "1Lp8Ehray5rtVb9wJWMyLKiytk3b3ga3pwAVSvvJHEu7O6rhcO8A6TfX2jk77QqrHXB7m0+z0iyQ\n",
       "yR4/hTNeuB+IOSeVHnnXRLjKpy3r3uJKItwlK8gZ0JpnW2nXIgsKeb/vXuHOgJZM+zX5kz4O87o8\n",
       "Y+oZJnez0mwX3KXFtp4hVULFpaF9Ojo5EsKdc+GKNzaZtpIEtx4UapUq7Es7odo3gq7sCTUPYahJ\n",
       "q5Bo1ryTN8md20MNPs+z0jxDC1/U2uCmt+HPrP68yboLtR7XXLix12JZW0mEq2V9cBuMU6py0E1v\n",
       "CStFm4KSIGWpQ/Bdzre2F950YrjOmOBitNqleZdhGOp7T7V3ZBScGuwCyYaoPjA24sJFME1byVj8\n",
       "pQP+UHuSsTR6X+leN9yHzpMH60GdN77qw/5nR30lZGar01uRDDHBVUxWmhO2Hid5FnHhLtkd3yYQ\n",
       "XzGMQ6B+PUiP1HmAxHO2kjH5nW/JOdYowjbNRhbhYJrlXPKUalm3q5BuNxO+fhez9dEy5JgznFpo\n",
       "xY7ZU00wZ0g/Z67d4oDTrnTSxejDktvieEr1EbqbWz6sd7TnG8WbFnzJ4MpzfHLKTJqXwFaSElmb\n",
       "S05CcLWUmoGAUlGnQk8D6S3c+FmDTxNP3D9gQQr9Oz1xTdL4C3dWxT2IkZQ8faE+M7xmex6FSypE\n",
       "wCWZVPGfHn42o+96qRqsZPThZzHkXScicCw6cv/mrJZep1N91yfh8cj/GZT/GqwwfvBvhJtY4lqe\n",
       "2N0AAAAASUVORK5CYII=\n",
       "\" style=\"display:inline;vertical-align:middle;\" /></a><br>(alternate proof for <a class=\"ProveItLink\" href=\"#expOfPositivesProd\">expOfPositivesProd</a>)<br>"
      ],
      "text/plain": [
       "expOfPositivesProd: forall_{c in Complexes} [forall_{a in RealsPos, b in RealsPos} ((a * b)^{c} = (a^{c} * b^{c}))]"
      ]
     },
     "execution_count": 55,
     "metadata": {},
     "output_type": "execute_result"
    }
   ],
   "source": [
    "# THIS IS PRODUCING AN INCORRECT GROUPING and thus a false statement\n",
    "expOfPositivesProd = Forall(\n",
    "    c,\n",
    "    Forall((a, b),\n",
    "           Equals(Exp(Mult(a,b),c), Mult(Exp(a,c),Exp(b,c))),\n",
    "           domain=RealsPos),\n",
    "    domain=Complexes)"
   ]
  },
  {
   "cell_type": "code",
   "execution_count": 56,
   "metadata": {},
   "outputs": [
    {
     "data": {
      "text/html": [
       "<strong id=\"expOfPositivesProdRev\"><a class=\"ProveItLink\" href=\"_proofs_/expOfPositivesProdRev.ipynb\">expOfPositivesProdRev</a>:</strong> <a class=\"ProveItLink\" href=\"__pv_it/26c262624c6048fbbbaeeadc8f8676608d1100c80/expr.ipynb\"><img src=\"data:image/png;base64,iVBORw0KGgoAAAANSUhEUgAAAVwAAAAZBAMAAACP2ot0AAAAMFBMVEX///8QEBCIiIhmZma6urrM\n",
       "zMxUVFQiIiJERETc3Nzu7u6qqqp2dnaYmJgyMjIAAAAcRTyBAAAAAXRSTlMAQObYZgAABK1JREFU\n",
       "WMPNWGtoHFUUPtl3Zmd3+0PQKsKYaCnWwJIBK7TGFdH+7PSHVkHoErVB0LLUkvjIj1ihTqiFxUIa\n",
       "fDFtwOoa3QUpIVLokqWIKS2DCrZBZdFasJZYSgWTqHjPvXdm7tyd2eiKoQfOzn2cmfnOmfO6C9CG\n",
       "hkbKcCOQ2qPhJTYy2lasBDcG7YuvY4OJtYE719N+3p6iY2D833C7bcZIycIO3x7O0wF+9m7rEop1\n",
       "1chglsFt4uW7MLhZvGTsDuB+wBnpPog7y8qrJT5/tuUWZUx6xM1AxXKoWaJM4Z7BjcthcFVULGt1\n",
       "APdnzki3CevZPJ9/0nJLVjb4j0wsW4A8KE0KdxI/3FgYXLoz2QHaTJ4xpSVhI1fjc1WT7/lKXlhh\n",
       "Yt39XxKDzVG4aDpqw2DfRbuf6QBussyY0kWIuhvbLT5X1sn3vCTNY8sgiB2lcDPzlcqR8FD7tlL5\n",
       "sJOIO8KZ0uG+u92Nz935RTk45feoJRDEiEtgZvjdNEfD4eZM8/V66049OJ17w17O3Vv7b/XJXOrZ\n",
       "wkcN6e4I+s7hxh1upGQHe2uemJqncJ8BGA+HmzAgFZBy8sEJ0hse4vxgOXvVF/1/WVX+vO/x59wi\n",
       "EsYUpEgCiq2HX13Z6mVliYthNDQp3IdY0LmJ7o2hQQFuLB8Qwg7c2GIo3FcYK7djkueEZksvQ47H\n",
       "2Izs7sSUR22S5VAr/DllwTVPLF2icJMQ4XlVOanbyuNW/IpYJkrQJyqz98CA5lnX+VAzG5/6wQ/3\n",
       "JsbRZUhqrmFRpAlV7km7JLhdxDkfsGAvNSxacACUPzyx+FUKV7WTfOH8bAUy7wCcFOGe9WrbR437\n",
       "Qaurx6Chv6DTZPILVzKiwrym6pv1LRLcrjGoGs7aMEu722vhcG8B5Tdq6SJNu7GVFrjdzcdY0xND\n",
       "kz18gqyIcN+LFx3nOfiWReBmPvasu8SVJHAX7CBnIJY85cOUs9GClLZ5vnuJOwOxZtpz9T/x4zAx\n",
       "9DzmDDD+NGt6aMFduCD1DKkJorTSv8cgTk6IwJ124cavbbCokgi3HhRq1Rrs8XUHuQJxZyHUBCKh\n",
       "pqxAojnrLFxHV5ZDDT4tsaZnChc/m5XgpjeTn+PGLot1F1o9qrtwIy9H8lRJAlfP++A2GKe0zLAq\n",
       "YkrYKSerbJXTINnYD98U3ST5PLwmiEXrDC5GKjY9O03T1N5+VO7ISHCCDjtBoa/R7h0quHAJmCZV\n",
       "MhLdvc8fatsYK4N3TdzpS2T9Z53hT3IRI697v+eJwYKzMHWPLYhlDQY3Y7GmJ0F1OMaziAt3gfYo\n",
       "GyD+omnuB+2LPnycwYMjWqRKRtQ3v0bnCCnCgaSUVivCfrHjQr+LTY9q0Cpk0GbC1++SbH2oAkXm\n",
       "DCfmPUe0umoJ5gzpJ63wFie4BK7e4vjE5gS4tOk5iKPpxQNGS3u+Pn7dhtMMrjrNFyetpHUeqJKY\n",
       "yKS6PA7h1RKCG8ig8umK8QZSLNrkswafJh7Z1GtDivh3evSKovMiuKMWf45gRCVnztWnBsLb80Aa\n",
       "X7U994mlyv/28LOR+K5ItWAlWw8/gQ3xPzv8uGIX/utZLb32p/r2cEfa/s+QWWuwsZHhvwH9GVJh\n",
       "n4NIOQAAAABJRU5ErkJggg==\n",
       "\" style=\"display:inline;vertical-align:middle;\" /></a><br>"
      ],
      "text/plain": [
       "expOfPositivesProdRev: forall_{c in Complexes} [forall_{a in RealsPos, b in RealsPos} ((a^{c} * b^{c}) = (a * b)^{c})]"
      ]
     },
     "execution_count": 56,
     "metadata": {},
     "output_type": "execute_result"
    }
   ],
   "source": [
    "# do we actually need both directions for an equality? (See previous thm)\n",
    "# also see the grouping error\n",
    "expOfPositivesProdRev = Forall(\n",
    "    c,\n",
    "    Forall((a, b),\n",
    "           Equals(Mult(Exp(a,c),Exp(b,c)), Exp(Mult(a,b),c)),\n",
    "           domain=RealsPos),\n",
    "    domain=Complexes)"
   ]
  },
  {
   "cell_type": "code",
   "execution_count": 57,
   "metadata": {},
   "outputs": [
    {
     "data": {
      "text/html": [
       "<strong id=\"intExpOfProd\"><a class=\"ProveItLink\" href=\"_proofs_/intExpOfProd.ipynb\">intExpOfProd</a>:</strong> <a class=\"ProveItLink\" href=\"__pv_it/c9d8ebb92960eb87ff2686b7d136bd2de2fb32260/expr.ipynb\"><img src=\"data:image/png;base64,iVBORw0KGgoAAAANSUhEUgAAAaEAAAAZCAMAAACvmGFcAAAAOVBMVEX///8oKCgUFBQNDQ0QEBCI\n",
       "iIhmZma6urrMzMxUVFQiIiJERETc3Nzu7u6qqqp2dnaYmJgyMjIAAAArQGDrAAAAAXRSTlMAQObY\n",
       "ZgAABL5JREFUaN7tWouO3SgMZbfh/c7/f+wCAQIJzoOrztWqRRp5qrF9gIONcYrQ9OBCCIX+iOGI\n",
       "YxiTn4alYYftB/YC/THD0cUhtHzhPCr+l6En26RxXOyqf0v0Xar8cQwp18ubYUrUcBxyzvIG4Xn0\n",
       "NSoFr+JGhvyu6SYYmjf/xtCyl6Dako8fz1u1MISIRewxwn30FZBOpeAVGRmypph4PcHQvPk3hle9\n",
       "hBVz0tHbCVRrXC817DHCXk/B0VdAGpWMV2VkSBXSlZzJcvPmXynJegmPtRw8i1NRFW8DbN1jhH1c\n",
       "RF8BaVU2vF3Ge6ic/T0aXt1D0+ZfGOVxcPtIoDUt6WUKYU9zcPQVkE6l4BUZGXJWx6FeX/ybwbT5\n",
       "F8oE0Ut42F3D0wmEhgY4+gpIr1Lwsky13CrjeP80ygCz5j8/SkVbK1tFLMHL4P70PJS/W1KwZAIB\n",
       "9jwGaXkjnUwM8RReUk0y9M6cev9A6bJaSlthsYVcnhTKkK6XNFa4fh1ArCF36zUtyQ3na30zyAkB\n",
       "9AyAtDeZ72RiiJK2eBh0dxZpiSQEYOjOHBlpueD4cEZAhbjQi4URllJrsOJo6HKgUCZsOqnjMwQR\n",
       "2TG7TSjdEGuakXmTvgHPp/NzBGk3Q3Rye7HG3/E5U2pjCXHb7Wc11tCLdWxerDWTwZL5cqK9uVG4\n",
       "ZijPmLaPDG9uFEpZRTtJ0t8F3s90Jdmnf6cZsfUFQ2PPh8gZgDSj4GW5LSdeUueT4qRROiKF9TM3\n",
       "eIQXk6F5tXYqzcGUmZSwBhWuGYpshnXFOFnMwSWoMGZokVVzWw/vHip0K4ZnGDp67naND0DuGFIe\n",
       "MX5sEdE2dRBk4a7Pbo40wdyz1pqyXGiqAowx1xcKR4aqy007n+uoLFzvElQYZ7nt+JoRAaurgYCo\n",
       "uL2H+AHhwjMA0t7BopO5LycVp8cWUXuxODWq5+vUq7kWLGyObq2ddt1diIVOFQ+ocGCouuSpZPwV\n",
       "flzGKFkku4QVxpWCTseX+6YJVjePlrsEqhSgCL/zDIDcVAqBbiKOXSTdhJDGoxDaGSrmKFYTTKDW\n",
       "2uh+mhIncFjhwFB1uZFh0B4iC+5cwgpAIZvsQtI5r42HfZNZmbx5Rtx6BkDadGU7WXrbtaKoLSIm\n",
       "0pGMWAHI6kgf2Nsu5jHxY95Zh+hjx0xN+IXCgaHqsmt8phS/0s4lrAAkEB3eI0xxfK7tQ2atb0zP\n",
       "XjB06xkAaV9JrJOFIadPXaQ9uVLDoierQIayeSrupYv3/25NNG6rzBifcddBhZ6h3SUPCf/ff2La\n",
       "d4dSLbuEFd53fdos+1nX53X3XfTy+H2oaRFZtpcJZHhjnuceLjC20kRntQ6va7Z1AlUss8Kd4SSg\n",
       "MIyh6rKdbbzJ4nOnczlSmO2c7nkLT/Vmp8eocwp1kWSufBzn3Fov+D1DlGODSWcdTkOoe2RsPLAY\n",
       "Oyz4QoDCiKHG5VZIZwZsSvm9y4HCMX2qXt4faf9yh+VnQTT6+nDRZCr30HXX54W1eeh+/B4yo4vX\n",
       "3Cn0G/DsC94HG64/+whzOkI/+xXcPF3ueJX+zuWD8/7yK7h7HxHqk0/NBc8p9BWGHs99yJAzNy7d\n",
       "/+AL1XvCP2Lot/1/OYL+jq14F4L/B8rJQ1/XhjnBAAAAAElFTkSuQmCC\n",
       "\" style=\"display:inline;vertical-align:middle;\" /></a><br>(alternate proof for <a class=\"ProveItLink\" href=\"#intExpOfProd\">intExpOfProd</a>)<br>"
      ],
      "text/plain": [
       "intExpOfProd: forall_{n in Integers} [forall_{a in Complexes, b in Complexes | a != 0, b != 0} ((a * b)^{n} = (a^{n} * b^{n}))]"
      ]
     },
     "execution_count": 57,
     "metadata": {},
     "output_type": "execute_result"
    }
   ],
   "source": [
    "# THIS IS PRODUCING AN INCORRECT GROUPING and thus a false statement\n",
    "intExpOfProd = Forall(\n",
    "    n,\n",
    "    Forall((a, b),\n",
    "           Equals(Exp(Mult(a,b),n), Mult(Exp(a,n),Exp(b,n))),\n",
    "           domain=Complexes,\n",
    "           conditions=[NotEquals(a, zero), NotEquals(b, zero)]),\n",
    "    domain=Integers)"
   ]
  },
  {
   "cell_type": "code",
   "execution_count": 58,
   "metadata": {},
   "outputs": [
    {
     "data": {
      "text/html": [
       "<strong id=\"intExpOfProdRev\"><a class=\"ProveItLink\" href=\"_proofs_/intExpOfProdRev.ipynb\">intExpOfProdRev</a>:</strong> <a class=\"ProveItLink\" href=\"__pv_it/3cce8e36db9afdbfd4d7401ae1bd97cb2ea5428c0/expr.ipynb\"><img src=\"data:image/png;base64,iVBORw0KGgoAAAANSUhEUgAAAaEAAAAZCAMAAACvmGFcAAAAOVBMVEX///8oKCgUFBQNDQ0QEBCI\n",
       "iIhmZma6urrMzMxUVFQiIiJERETc3Nzu7u6qqqp2dnaYmJgyMjIAAAArQGDrAAAAAXRSTlMAQObY\n",
       "ZgAABLlJREFUaN7tWoly7SYMpa3Zd///xxYw2IAFXnLbO51GMxneI9KRzQFJyEHotXAhhEK/8ilx\n",
       "xDGMSTVDwwrbHyCK30X9LEN0cQgt7aZX/JchePu+UfmZKI3jiq76/82Qcu04277DHW7UM2cXssNx\n",
       "HALb0kxFhvzxDO4FQ+/NvyFatuN0+2bNRZxUuHribPjrJe/xArcwhIhFrPYQGLKmmHj9gqH35t8Q\n",
       "r9rxqHr27Xu2IScV7Z84Gytk5Ayn1rio1LDaQ2BIFaaVfBPl3pt/Jd204yHV9u1lNWcVi+87G0tB\n",
       "znA0phxsHao9xDxU9v5xGh7lodfmX5ByOThdEurt2wnNsa9R0ct9Z0Ohe1QF4MpUZMhZHUU9Tvyb\n",
       "wWvzL5QJoh2rxaq3bytWQCqe3nU2FntoAHB5KtVyq4zy/GqUHbw1//el1Mp7zayIJXiZ50/PQ419\n",
       "ig+W3HU2dlIhA3B5KjHE08GV6iVDz8ypv5Flpxs0vSu22I4gTwpFpGtHGmtnv84rrjWEcb32b+cO\n",
       "l9ZXQk7Ohk5qZHdelDyVGKJkXp7wRVoiCRkwdGWOjLRccDzefa1CfLvJkhGWQmuw4vCGBhTKA5tm\n",
       "1PGCg4gcboP0bClZrH1lYC5j2MgJiAzA5antxhr/jc8xWBtLiNtSntVYj26ssHmx1kwGS+bLjvbm\n",
       "QmHOUH5iWl9fvLlQKAUbbUaSfi8wfHIK3z79tz+PbL1iaOAERgbg8tT2OjH9nUl00igd4cP7Mwfc\n",
       "j4sJaL5bO5WewZR3LAFjqDBnKLIZ3iuek8V0kEMFmKFF7prnd+P1nYWu5i1DJycg8hVDyiPG++YT\n",
       "rUMHQXbc9TnMkSaYe1ZbU5ZLWFUcY8z1RKFnaIfctPOWi8rCtZBDBTjKbdvXXCz16vaD0GRKAech\n",
       "3jmbOKmR6fmA0DrKhTTPad98qhOLU9BNYUfdzbVgYXF0be20a7IsFjqVOUOFjqEdkqeS8a/w47KP\n",
       "Ejoy5FgBrhR02r7cz9tsKy25ZFQpjA77lZMa+aJSCBwT0fendHWENIaO0MFQMUexmmAC1dZGt88m\n",
       "cXI+VugY2iE3Mgw6jsiCG8ixQl9R5DHZhaAzvSfwsITyXNyQy8vFpZMaGYDLU6W3vdcqe/OJibQl\n",
       "o4OAbnWkb9jbLuYx8GPeWIfTx/rwTPhEoWNoh2wanymur7SBHCv0oSmPOtxHmOJ4XtsT8CLr2eWN\n",
       "4cpJjQzA5anCkNOn/tQRUalhEcmqIUPZPBX30sX8f1gTjesqM57PuOpDhZahA5KHKP/nHzHWu65U\n",
       "y5Bjheuuz+Me+Y0OygMnAFyZ6r8PVc0ny44ygYDJ7AwbEhhbaaJztw5XarZ1AlUss0LOcHKgAJ6h\n",
       "HbJ+2pjJ4nWngYQU7nZOH8pnOqczuLpzOupPyVz5OM65tV7wa4YoxwaTxjrshlDsyNh4YPHssICF\n",
       "BgoQQxXkVkhnBmyK8y0koNCHT9WOb4/Qra8Pt50AcPXXh0lnqeShedfngbW5CQ/fhwyUnc2VQvvi\n",
       "8Be8pyI/8QVvCifVHYZu9uXuy92vxwOG/BXkjZ09+Ar+TNxnv4IDcE6hrzB0e1VAhpy5gHT/gS9U\n",
       "j+VnDP1jfy9H0K9sFbsQ/G/HjENf5bKqdgAAAABJRU5ErkJggg==\n",
       "\" style=\"display:inline;vertical-align:middle;\" /></a><br>"
      ],
      "text/plain": [
       "intExpOfProdRev: forall_{n in Integers} [forall_{a in Complexes, b in Complexes | a != 0, b != 0} ((a^{n} * b^{n}) = (a * b)^{n})]"
      ]
     },
     "execution_count": 58,
     "metadata": {},
     "output_type": "execute_result"
    }
   ],
   "source": [
    "# do we actually need both directions for an equality? (See previous thm)\n",
    "# also see the grouping error\n",
    "intExpOfProdRev = Forall(\n",
    "    n,\n",
    "    Forall((a, b),\n",
    "           Equals(Mult(Exp(a,n),Exp(b,n)), Exp(Mult(a,b),n)),\n",
    "           domain=Complexes, \n",
    "           conditions=[NotEquals(a, zero), NotEquals(b, zero)]),\n",
    "    domain=Integers)"
   ]
  },
  {
   "cell_type": "code",
   "execution_count": null,
   "metadata": {},
   "outputs": [],
   "source": []
  },
  {
   "cell_type": "code",
   "execution_count": null,
   "metadata": {},
   "outputs": [],
   "source": []
  },
  {
   "cell_type": "code",
   "execution_count": 59,
   "metadata": {},
   "outputs": [
    {
     "name": "stdout",
     "output_type": "stream",
     "text": [
      "Theorems may be imported from autogenerated _theorems_.py\n"
     ]
    }
   ],
   "source": [
    "%end theorems"
   ]
  },
  {
   "cell_type": "code",
   "execution_count": null,
   "metadata": {},
   "outputs": [],
   "source": []
  }
 ],
 "metadata": {
  "kernelspec": {
   "display_name": "Python 3",
   "language": "python",
   "name": "python3"
  }
 },
 "nbformat": 4,
 "nbformat_minor": 0
}
