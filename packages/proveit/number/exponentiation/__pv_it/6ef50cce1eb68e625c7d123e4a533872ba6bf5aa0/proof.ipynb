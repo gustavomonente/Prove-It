{
 "cells": [
  {
   "cell_type": "markdown",
   "metadata": {},
   "source": [
    "Show the Proof\n",
    "========"
   ]
  },
  {
   "cell_type": "code",
   "execution_count": 1,
   "metadata": {},
   "outputs": [
    {
     "data": {
      "text/html": [
       "<table><tr><th>&nbsp;</th><th>step type</th><th>requirements</th><th>statement</th></tr>\n",
       "<tr><td><a name=\"proveit.number.exponentiation.6ef50cce1eb68e625c7d123e4a533872ba6bf5aa0_step0\">0</a></td><td>instantiation</td><td><a href=\"#proveit.number.exponentiation.6ef50cce1eb68e625c7d123e4a533872ba6bf5aa0_step1\">1</a>, <a href=\"#proveit.number.exponentiation.6ef50cce1eb68e625c7d123e4a533872ba6bf5aa0_step2\">2</a>, <a href=\"#proveit.number.exponentiation.6ef50cce1eb68e625c7d123e4a533872ba6bf5aa0_step3\">3</a></td><td><span style=\"font-size:20px;\"><a class=\"ProveItLink\" href=\"../eaff5b448a1c50686c7bd674cafb51fa12a196ae0/expr.ipynb\"><img src=\"../eaff5b448a1c50686c7bd674cafb51fa12a196ae0/expr.png\" style=\"display:inline;vertical-align:middle;\" /></a> <a class=\"ProveItLink\" href=\"proof.ipynb\" style=\"text-decoration: none\">&#x22A2;&nbsp;</a><a class=\"ProveItLink\" href=\"../1669629c92930e85a239158019db940a92a080c90/expr.ipynb\"><img src=\"../1669629c92930e85a239158019db940a92a080c90/expr.png\" style=\"display:inline;vertical-align:middle;\" /></a></span></td></tr>\n",
       "<tr><td>&nbsp;</td><td colspan=4 style=\"text-align:left\"><span style=\"font-size:20px;\"><a class=\"ProveItLink\" href=\"../../../../__pv_it/d3792d0d8642fdf1cd2a3a9b32c673ee13653de00/expr.ipynb\"><img src=\"../../../../__pv_it/d3792d0d8642fdf1cd2a3a9b32c673ee13653de00/expr.png\" style=\"display:inline;vertical-align:middle;\" /></a> : <a class=\"ProveItLink\" href=\"../f7e60e3b1013e8222ec43ecf6cf92b45259bf3790/expr.ipynb\"><img src=\"../f7e60e3b1013e8222ec43ecf6cf92b45259bf3790/expr.png\" style=\"display:inline;vertical-align:middle;\" /></a>, <a class=\"ProveItLink\" href=\"../../../../__pv_it/4d98b438710c5ada9ffa4646bb123a7d0e69ec000/expr.ipynb\"><img src=\"../../../../__pv_it/4d98b438710c5ada9ffa4646bb123a7d0e69ec000/expr.png\" style=\"display:inline;vertical-align:middle;\" /></a> : <a class=\"ProveItLink\" href=\"../a763a6ec81d33d22585c8b789163dd781e9952820/expr.ipynb\"><img src=\"../a763a6ec81d33d22585c8b789163dd781e9952820/expr.png\" style=\"display:inline;vertical-align:middle;\" /></a></span></td></tr><tr><td><a name=\"proveit.number.exponentiation.6ef50cce1eb68e625c7d123e4a533872ba6bf5aa0_step1\">1</a></td><td>theorem</td><td></td><td><span style=\"font-size:20px;\"> <a class=\"ProveItLink\" href=\"../../../../logic/boolean/conjunction/_proofs_/andIfBoth.ipynb\" style=\"text-decoration: none\">&#x22A2;&nbsp;</a><a class=\"ProveItLink\" href=\"../526f02ab2f02f76e485d5804e471a3e5f26f82d60/expr.ipynb\"><img src=\"../526f02ab2f02f76e485d5804e471a3e5f26f82d60/expr.png\" style=\"display:inline;vertical-align:middle;\" /></a></span></td></tr>\n",
       "<tr><td>&nbsp;</td><td colspan=4 style-\"text-align:left\"><a class=\"ProveItLink\" href=\"../../../../logic/boolean/conjunction/_proofs_/andIfBoth.ipynb\">proveit.logic.boolean.conjunction.andIfBoth</a></td></tr><tr><td><a name=\"proveit.number.exponentiation.6ef50cce1eb68e625c7d123e4a533872ba6bf5aa0_step2\">2</a></td><td>assumption</td><td></td><td><span style=\"font-size:20px;\"><a class=\"ProveItLink\" href=\"../d188147692fe55d35030a059c1fbacd0e691e13a0/expr.ipynb\"><img src=\"../d188147692fe55d35030a059c1fbacd0e691e13a0/expr.png\" style=\"display:inline;vertical-align:middle;\" /></a> <a class=\"ProveItLink\" href=\"../d4172ebeab11f19a76929b50643a34138d461aaa0/proof.ipynb\" style=\"text-decoration: none\">&#x22A2;&nbsp;</a><a class=\"ProveItLink\" href=\"../f7e60e3b1013e8222ec43ecf6cf92b45259bf3790/expr.ipynb\"><img src=\"../f7e60e3b1013e8222ec43ecf6cf92b45259bf3790/expr.png\" style=\"display:inline;vertical-align:middle;\" /></a></span></td></tr>\n",
       "<tr><td><a name=\"proveit.number.exponentiation.6ef50cce1eb68e625c7d123e4a533872ba6bf5aa0_step3\">3</a></td><td>assumption</td><td></td><td><span style=\"font-size:20px;\"><a class=\"ProveItLink\" href=\"../d44d77bbd307e020b527043c1a17a749804ff4b60/expr.ipynb\"><img src=\"../d44d77bbd307e020b527043c1a17a749804ff4b60/expr.png\" style=\"display:inline;vertical-align:middle;\" /></a> <a class=\"ProveItLink\" href=\"../8ffe3fc598aaf893d2217a04df20aa9dc93ffc670/proof.ipynb\" style=\"text-decoration: none\">&#x22A2;&nbsp;</a><a class=\"ProveItLink\" href=\"../a763a6ec81d33d22585c8b789163dd781e9952820/expr.ipynb\"><img src=\"../a763a6ec81d33d22585c8b789163dd781e9952820/expr.png\" style=\"display:inline;vertical-align:middle;\" /></a></span></td></tr>\n",
       "</table>"
      ],
      "text/plain": [
       "<proveit._core_.proof._ShowProof at 0x7f5b848ca358>"
      ]
     },
     "execution_count": 1,
     "metadata": {},
     "output_type": "execute_result"
    }
   ],
   "source": [
    "import proveit\n",
    "# Automation is not needed when only showing a stored proof:\n",
    "proveit.defaults.automation = False # This will speed things up.\n",
    "proveit.defaults.inline_pngs = False # Makes files smaller.\n",
    "%show_proof"
   ]
  },
  {
   "cell_type": "code",
   "execution_count": null,
   "metadata": {},
   "outputs": [],
   "source": []
  }
 ],
 "metadata": {
  "kernelspec": {
   "display_name": "Python 3",
   "language": "python",
   "name": "python3"
  },
  "language_info": {
   "codemirror_mode": {
    "name": "ipython",
    "version": 3
   },
   "file_extension": ".py",
   "mimetype": "text/x-python",
   "name": "python",
   "nbconvert_exporter": "python",
   "pygments_lexer": "ipython3",
   "version": "3.7.3"
  }
 },
 "nbformat": 4,
 "nbformat_minor": 1
}
