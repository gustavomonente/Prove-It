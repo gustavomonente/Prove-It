{
 "cells": [
  {
   "cell_type": "markdown",
   "metadata": {},
   "source": [
    "Expression of type <a class=\"ProveItLink\" href=\"../../../../../../doc/html/api/proveit.logic.Forall.html\">Forall</a>\n",
    "=======================\n",
    "# from context <a class=\"ProveItLink\" href=\"../../_context_.ipynb\">proveit.number.exponentiation</a>"
   ]
  },
  {
   "cell_type": "code",
   "execution_count": 1,
   "metadata": {},
   "outputs": [],
   "source": [
    "import proveit\n",
    "# Automation is not needed when building an expression:\n",
    "proveit.defaults.automation = False # This will speed things up.\n",
    "proveit.defaults.inline_pngs = False # Makes files smaller.\n",
    "# import Expression classes needed to build the expression\n",
    "from proveit import ExprRange, IndexedVar\n",
    "from proveit._common_ import a, i, n\n",
    "from proveit.core_expr_types._common_ import a_1_to_n\n",
    "from proveit.logic import Equals, Forall\n",
    "from proveit.number import Complexes, Mult, one, sqrt"
   ]
  },
  {
   "cell_type": "code",
   "execution_count": 2,
   "metadata": {},
   "outputs": [
    {
     "data": {
      "text/html": [
       "<strong id=\"expr\">expr:</strong> <a class=\"ProveItLink\" href=\"expr.ipynb\"><img src=\"expr.png\" style=\"display:inline;vertical-align:middle;\" /></a><br>"
      ],
      "text/plain": [
       "expr: forall_{a_{1}, ..a_{_a}.., a_{n} in Complexes} (sqrt((a_{1} * ..a_{_a}.. * a_{n})) = (sqrt((a_{1})) * ..sqrt((a_{i})).. * sqrt((a_{n}))))"
      ]
     },
     "execution_count": 2,
     "metadata": {},
     "output_type": "execute_result"
    }
   ],
   "source": [
    "# build up the expression from sub-expressions\n",
    "expr = Forall([a_1_to_n], Equals(sqrt(Mult(a_1_to_n)), Mult(ExprRange(i, sqrt(IndexedVar(a, i)), one, n))), domain = Complexes)"
   ]
  },
  {
   "cell_type": "code",
   "execution_count": 3,
   "metadata": {},
   "outputs": [
    {
     "name": "stdout",
     "output_type": "stream",
     "text": [
      "Passed sanity check: built 'expr' is the same as the stored Expression.\n"
     ]
    }
   ],
   "source": [
    "# check that the built expression is the same as the stored expression\n",
    "%check_expr"
   ]
  },
  {
   "cell_type": "code",
   "execution_count": 4,
   "metadata": {},
   "outputs": [
    {
     "name": "stdout",
     "output_type": "stream",
     "text": [
      "\\forall_{a_{1}, \\ldots, a_{n} \\in \\mathbb{C}}~\\left(\\sqrt{\\left(a_{1} \\cdot \\ldots \\cdot a_{n}\\right)} = \\left(\\sqrt{\\left(a_{1}\\right)} \\cdot \\ldots \\cdot \\sqrt{\\left(a_{n}\\right)}\\right)\\right)\n"
     ]
    }
   ],
   "source": [
    "# Show the LaTeX representation of the expression for convenience if you need it.\n",
    "print(expr.latex())"
   ]
  },
  {
   "cell_type": "code",
   "execution_count": 5,
   "metadata": {},
   "outputs": [
    {
     "data": {
      "text/html": [
       "<table><tr><th>&nbsp;</th><th>core type</th><th>sub-expressions</th><th>expression</th></tr>\n",
       "<tr><td>0</td><td>Operation</td><td>operator:&nbsp;1<br>operand:&nbsp;2<br></td><td><a class=\"ProveItLink\" href=\"expr.ipynb\"><img src=\"expr.png\" style=\"display:inline;vertical-align:middle;\" /></a></td></tr>\n",
       "<tr><td>1</td><td>Literal</td><td></td><td><a class=\"ProveItLink\" href=\"../../../../logic/boolean/quantification/universal/__pv_it/fd9c772d6675566ed52a6897806f45eb08a4ea910/expr.ipynb\"><img src=\"../../../../logic/boolean/quantification/universal/__pv_it/fd9c772d6675566ed52a6897806f45eb08a4ea910/expr.png\" style=\"display:inline;vertical-align:middle;\" /></a></td></tr>\n",
       "<tr><td>2</td><td>Lambda</td><td>parameter:&nbsp;24<br>body:&nbsp;3<br></td><td><a class=\"ProveItLink\" href=\"../e9c7b152ead7e9d67b7f80c5a41b25c1e69384450/expr.ipynb\"><img src=\"../e9c7b152ead7e9d67b7f80c5a41b25c1e69384450/expr.png\" style=\"display:inline;vertical-align:middle;\" /></a></td></tr>\n",
       "<tr><td>3</td><td>Conditional</td><td>value:&nbsp;4<br>condition:&nbsp;5<br></td><td><a class=\"ProveItLink\" href=\"../90ca14ce24ef1b903d20593aa99215f49f34e9bb0/expr.ipynb\"><img src=\"../90ca14ce24ef1b903d20593aa99215f49f34e9bb0/expr.png\" style=\"display:inline;vertical-align:middle;\" /></a></td></tr>\n",
       "<tr><td>4</td><td>Operation</td><td>operator:&nbsp;6<br>operands:&nbsp;7<br></td><td><a class=\"ProveItLink\" href=\"../cf392a72442032f4345ac828b6fa4e5ac61eed120/expr.ipynb\"><img src=\"../cf392a72442032f4345ac828b6fa4e5ac61eed120/expr.png\" style=\"display:inline;vertical-align:middle;\" /></a></td></tr>\n",
       "<tr><td>5</td><td>Operation</td><td>operator:&nbsp;8<br>operands:&nbsp;9<br></td><td><a class=\"ProveItLink\" href=\"../59952ea32ad236a9bebaf5ed33ac3306ba0d23c40/expr.ipynb\"><img src=\"../59952ea32ad236a9bebaf5ed33ac3306ba0d23c40/expr.png\" style=\"display:inline;vertical-align:middle;\" /></a></td></tr>\n",
       "<tr><td>6</td><td>Literal</td><td></td><td><a class=\"ProveItLink\" href=\"../../../../logic/equality/__pv_it/e16d2caa26a16688b658bdb9c422caf4b84579e10/expr.ipynb\"><img src=\"../../../../logic/equality/__pv_it/e16d2caa26a16688b658bdb9c422caf4b84579e10/expr.png\" style=\"display:inline;vertical-align:middle;\" /></a></td></tr>\n",
       "<tr><td>7</td><td>ExprTuple</td><td>10, 11</td><td><a class=\"ProveItLink\" href=\"../32526c616028f9dbac475c2a9b6889ed4ae778650/expr.ipynb\"><img src=\"../32526c616028f9dbac475c2a9b6889ed4ae778650/expr.png\" style=\"display:inline;vertical-align:middle;\" /></a></td></tr>\n",
       "<tr><td>8</td><td>Literal</td><td></td><td><a class=\"ProveItLink\" href=\"../../../../logic/boolean/conjunction/__pv_it/f41cc6b553210927c09f19a8a39cdf860a5585930/expr.ipynb\"><img src=\"../../../../logic/boolean/conjunction/__pv_it/f41cc6b553210927c09f19a8a39cdf860a5585930/expr.png\" style=\"display:inline;vertical-align:middle;\" /></a></td></tr>\n",
       "<tr><td>9</td><td>ExprTuple</td><td>12</td><td><a class=\"ProveItLink\" href=\"../95c627311c5eee76b78dc28f16e6f348128e77be0/expr.ipynb\"><img src=\"../95c627311c5eee76b78dc28f16e6f348128e77be0/expr.png\" style=\"display:inline;vertical-align:middle;\" /></a></td></tr>\n",
       "<tr><td>10</td><td>Operation</td><td>operator:&nbsp;29<br>operands:&nbsp;13<br></td><td><a class=\"ProveItLink\" href=\"../6e495fed95a61a7092f9fbfd78a18b415b3edad70/expr.ipynb\"><img src=\"../6e495fed95a61a7092f9fbfd78a18b415b3edad70/expr.png\" style=\"display:inline;vertical-align:middle;\" /></a></td></tr>\n",
       "<tr><td>11</td><td>Operation</td><td>operator:&nbsp;19<br>operands:&nbsp;14<br></td><td><a class=\"ProveItLink\" href=\"../e5b10267c746bda2b4429931a41033b3943b27db0/expr.ipynb\"><img src=\"../e5b10267c746bda2b4429931a41033b3943b27db0/expr.png\" style=\"display:inline;vertical-align:middle;\" /></a></td></tr>\n",
       "<tr><td>12</td><td>ExprRange</td><td>lambda_map:&nbsp;15<br>start_index:&nbsp;39<br>end_index:&nbsp;28<br></td><td><a class=\"ProveItLink\" href=\"../0f9ca6117cc020e2ce2b31d1058e6957e53d2e4e0/expr.ipynb\"><img src=\"../0f9ca6117cc020e2ce2b31d1058e6957e53d2e4e0/expr.png\" style=\"display:inline;vertical-align:middle;\" /></a></td></tr>\n",
       "<tr><td>13</td><td>ExprTuple</td><td>16, 33</td><td><a class=\"ProveItLink\" href=\"../6979cfcc3b3ace2c469680ca820a4a4f5314b09e0/expr.ipynb\"><img src=\"../6979cfcc3b3ace2c469680ca820a4a4f5314b09e0/expr.png\" style=\"display:inline;vertical-align:middle;\" /></a></td></tr>\n",
       "<tr><td>14</td><td>ExprTuple</td><td>17</td><td><a class=\"ProveItLink\" href=\"../70815e6c117f29db9147802a295623e31426b4310/expr.ipynb\"><img src=\"../70815e6c117f29db9147802a295623e31426b4310/expr.png\" style=\"display:inline;vertical-align:middle;\" /></a></td></tr>\n",
       "<tr><td>15</td><td>Lambda</td><td>parameter:&nbsp;34<br>body:&nbsp;18<br></td><td><a class=\"ProveItLink\" href=\"../f1bb345c56d9f593813d3c728cb6141429a33aa50/expr.ipynb\"><img src=\"../f1bb345c56d9f593813d3c728cb6141429a33aa50/expr.png\" style=\"display:inline;vertical-align:middle;\" /></a></td></tr>\n",
       "<tr><td>16</td><td>Operation</td><td>operator:&nbsp;19<br>operands:&nbsp;20<br></td><td><a class=\"ProveItLink\" href=\"../1fc7ee5729ca47e07dec7587b067ad5139e4969a0/expr.ipynb\"><img src=\"../1fc7ee5729ca47e07dec7587b067ad5139e4969a0/expr.png\" style=\"display:inline;vertical-align:middle;\" /></a></td></tr>\n",
       "<tr><td>17</td><td>ExprRange</td><td>lambda_map:&nbsp;21<br>start_index:&nbsp;39<br>end_index:&nbsp;28<br></td><td><a class=\"ProveItLink\" href=\"../d957a2bfe489e881d131f1774d6f8bd6814bf3ed0/expr.ipynb\"><img src=\"../d957a2bfe489e881d131f1774d6f8bd6814bf3ed0/expr.png\" style=\"display:inline;vertical-align:middle;\" /></a></td></tr>\n",
       "<tr><td>18</td><td>Operation</td><td>operator:&nbsp;22<br>operands:&nbsp;23<br></td><td><a class=\"ProveItLink\" href=\"../99e6f3391d85155ae45109bea23c8042637637280/expr.ipynb\"><img src=\"../99e6f3391d85155ae45109bea23c8042637637280/expr.png\" style=\"display:inline;vertical-align:middle;\" /></a></td></tr>\n",
       "<tr><td>19</td><td>Literal</td><td></td><td><a class=\"ProveItLink\" href=\"../../../multiplication/__pv_it/f7a1ed7c35c8c884cf4c236d27cb79bf85638cad0/expr.ipynb\"><img src=\"../../../multiplication/__pv_it/f7a1ed7c35c8c884cf4c236d27cb79bf85638cad0/expr.png\" style=\"display:inline;vertical-align:middle;\" /></a></td></tr>\n",
       "<tr><td>20</td><td>ExprTuple</td><td>24</td><td><a class=\"ProveItLink\" href=\"../a4bc5e401a50ac7a5583a5f486b50b58186954f20/expr.ipynb\"><img src=\"../a4bc5e401a50ac7a5583a5f486b50b58186954f20/expr.png\" style=\"display:inline;vertical-align:middle;\" /></a></td></tr>\n",
       "<tr><td>21</td><td>Lambda</td><td>parameter:&nbsp;36<br>body:&nbsp;25<br></td><td><a class=\"ProveItLink\" href=\"../fab4abff2d39198a0c5ab7e80f9a64f58265f6de0/expr.ipynb\"><img src=\"../fab4abff2d39198a0c5ab7e80f9a64f58265f6de0/expr.png\" style=\"display:inline;vertical-align:middle;\" /></a></td></tr>\n",
       "<tr><td>22</td><td>Literal</td><td></td><td><a class=\"ProveItLink\" href=\"../../../../logic/set_theory/membership/__pv_it/7776fc89cb67d0b5b1ec2c0c8e08da5587921ccf0/expr.ipynb\"><img src=\"../../../../logic/set_theory/membership/__pv_it/7776fc89cb67d0b5b1ec2c0c8e08da5587921ccf0/expr.png\" style=\"display:inline;vertical-align:middle;\" /></a></td></tr>\n",
       "<tr><td>23</td><td>ExprTuple</td><td>31, 26</td><td><a class=\"ProveItLink\" href=\"../31b169a98acf923bd5baf6bc5e37862efc14ef0c0/expr.ipynb\"><img src=\"../31b169a98acf923bd5baf6bc5e37862efc14ef0c0/expr.png\" style=\"display:inline;vertical-align:middle;\" /></a></td></tr>\n",
       "<tr><td>24</td><td>ExprRange</td><td>lambda_map:&nbsp;27<br>start_index:&nbsp;39<br>end_index:&nbsp;28<br></td><td><a class=\"ProveItLink\" href=\"../../../../core_expr_types/__pv_it/77d5af4cc8bfa5b718575a7e96e5588227eab7db0/expr.ipynb\"><img src=\"../../../../core_expr_types/__pv_it/77d5af4cc8bfa5b718575a7e96e5588227eab7db0/expr.png\" style=\"display:inline;vertical-align:middle;\" /></a></td></tr>\n",
       "<tr><td>25</td><td>Operation</td><td>operator:&nbsp;29<br>operands:&nbsp;30<br></td><td><a class=\"ProveItLink\" href=\"../fd9d59a4a9f77126879158273ad8b2c0edf54d430/expr.ipynb\"><img src=\"../fd9d59a4a9f77126879158273ad8b2c0edf54d430/expr.png\" style=\"display:inline;vertical-align:middle;\" /></a></td></tr>\n",
       "<tr><td>26</td><td>Literal</td><td></td><td><a class=\"ProveItLink\" href=\"../../../sets/complex/__pv_it/8a5866946d766bfd951bcdff07a1a39af0935c430/expr.ipynb\"><img src=\"../../../sets/complex/__pv_it/8a5866946d766bfd951bcdff07a1a39af0935c430/expr.png\" style=\"display:inline;vertical-align:middle;\" /></a></td></tr>\n",
       "<tr><td>27</td><td>Lambda</td><td>parameter:&nbsp;34<br>body:&nbsp;31<br></td><td><a class=\"ProveItLink\" href=\"../../../../core_expr_types/__pv_it/c512bca05a0e191e5f76f2677a0e9e227e81e9f10/expr.ipynb\"><img src=\"../../../../core_expr_types/__pv_it/c512bca05a0e191e5f76f2677a0e9e227e81e9f10/expr.png\" style=\"display:inline;vertical-align:middle;\" /></a></td></tr>\n",
       "<tr><td>28</td><td>Variable</td><td></td><td><a class=\"ProveItLink\" href=\"../../../../__pv_it/0c1c4cb515e0f4344b1ac06650f349123e526deb0/expr.ipynb\"><img src=\"../../../../__pv_it/0c1c4cb515e0f4344b1ac06650f349123e526deb0/expr.png\" style=\"display:inline;vertical-align:middle;\" /></a></td></tr>\n",
       "<tr><td>29</td><td>Literal</td><td></td><td><a class=\"ProveItLink\" href=\"../fca8e4218e687a7bc372d4b4009101e95bae518f0/expr.ipynb\"><img src=\"../fca8e4218e687a7bc372d4b4009101e95bae518f0/expr.png\" style=\"display:inline;vertical-align:middle;\" /></a></td></tr>\n",
       "<tr><td>30</td><td>ExprTuple</td><td>32, 33</td><td><a class=\"ProveItLink\" href=\"../bb3e3aa99fd817aa40f2e530be26269f457889720/expr.ipynb\"><img src=\"../bb3e3aa99fd817aa40f2e530be26269f457889720/expr.png\" style=\"display:inline;vertical-align:middle;\" /></a></td></tr>\n",
       "<tr><td>31</td><td>IndexedVar</td><td>variable:&nbsp;35<br>index:&nbsp;34<br></td><td><a class=\"ProveItLink\" href=\"../../../../core_expr_types/__pv_it/976fe6b95e8535cc9e0861bdc030337becead6960/expr.ipynb\"><img src=\"../../../../core_expr_types/__pv_it/976fe6b95e8535cc9e0861bdc030337becead6960/expr.png\" style=\"display:inline;vertical-align:middle;\" /></a></td></tr>\n",
       "<tr><td>32</td><td>IndexedVar</td><td>variable:&nbsp;35<br>index:&nbsp;36<br></td><td><a class=\"ProveItLink\" href=\"../dc6f935969ed865f5d356834b08f36bd17e6cb7e0/expr.ipynb\"><img src=\"../dc6f935969ed865f5d356834b08f36bd17e6cb7e0/expr.png\" style=\"display:inline;vertical-align:middle;\" /></a></td></tr>\n",
       "<tr><td>33</td><td>Operation</td><td>operator:&nbsp;37<br>operands:&nbsp;38<br></td><td><a class=\"ProveItLink\" href=\"../802dee724b9318af22b4f017a8f9de752aa8e4fa0/expr.ipynb\"><img src=\"../802dee724b9318af22b4f017a8f9de752aa8e4fa0/expr.png\" style=\"display:inline;vertical-align:middle;\" /></a></td></tr>\n",
       "<tr><td>34</td><td>Variable</td><td></td><td><a class=\"ProveItLink\" href=\"../../../../core_expr_types/__pv_it/1e653f789234b245ee7fea7caad998c139d617410/expr.ipynb\"><img src=\"../../../../core_expr_types/__pv_it/1e653f789234b245ee7fea7caad998c139d617410/expr.png\" style=\"display:inline;vertical-align:middle;\" /></a></td></tr>\n",
       "<tr><td>35</td><td>Variable</td><td></td><td><a class=\"ProveItLink\" href=\"../../../../__pv_it/a8d4b3a34d2189508f9082853fbac36935714f280/expr.ipynb\"><img src=\"../../../../__pv_it/a8d4b3a34d2189508f9082853fbac36935714f280/expr.png\" style=\"display:inline;vertical-align:middle;\" /></a></td></tr>\n",
       "<tr><td>36</td><td>Variable</td><td></td><td><a class=\"ProveItLink\" href=\"../../../../__pv_it/557ab5defdcd46aa58168b08767502985122cd490/expr.ipynb\"><img src=\"../../../../__pv_it/557ab5defdcd46aa58168b08767502985122cd490/expr.png\" style=\"display:inline;vertical-align:middle;\" /></a></td></tr>\n",
       "<tr><td>37</td><td>Literal</td><td></td><td><a class=\"ProveItLink\" href=\"../../../division/__pv_it/7a11ad25d6e61156459ac6819a1cec8fded2dde30/expr.ipynb\"><img src=\"../../../division/__pv_it/7a11ad25d6e61156459ac6819a1cec8fded2dde30/expr.png\" style=\"display:inline;vertical-align:middle;\" /></a></td></tr>\n",
       "<tr><td>38</td><td>ExprTuple</td><td>39, 40</td><td><a class=\"ProveItLink\" href=\"../870fe229b3bbe6904a72bc2b38613787bd64cb3d0/expr.ipynb\"><img src=\"../870fe229b3bbe6904a72bc2b38613787bd64cb3d0/expr.png\" style=\"display:inline;vertical-align:middle;\" /></a></td></tr>\n",
       "<tr><td>39</td><td>Literal</td><td></td><td><a class=\"ProveItLink\" href=\"../../../numeral/__pv_it/f086f8c372bd40a2458306ddfdbb29f3dc6f63030/expr.ipynb\"><img src=\"../../../numeral/__pv_it/f086f8c372bd40a2458306ddfdbb29f3dc6f63030/expr.png\" style=\"display:inline;vertical-align:middle;\" /></a></td></tr>\n",
       "<tr><td>40</td><td>Literal</td><td></td><td><a class=\"ProveItLink\" href=\"../../../numeral/__pv_it/fb4ccffdbfd0f653ebaacb95e7ff4802fd48a6f20/expr.ipynb\"><img src=\"../../../numeral/__pv_it/fb4ccffdbfd0f653ebaacb95e7ff4802fd48a6f20/expr.png\" style=\"display:inline;vertical-align:middle;\" /></a></td></tr>\n",
       "</table>\n"
      ],
      "text/plain": [
       "0. forall_{a_{1}, ..a_{_a}.., a_{n} in Complexes} (sqrt((a_{1} * ..a_{_a}.. * a_{n})) = (sqrt((a_{1})) * ..sqrt((a_{i})).. * sqrt((a_{n}))))\n",
       "   core type: Operation\n",
       "   operator: 1\n",
       "   operand: 2\n",
       "1. forall\n",
       "   core type: Literal\n",
       "   sub-expressions: \n",
       "2. (a_{1}, ..a_{_a}.., a_{n}) -> {sqrt((a_{1} * ..a_{_a}.. * a_{n})) = (sqrt((a_{1})) * ..sqrt((a_{i})).. * sqrt((a_{n}))) if (a_{1} in Complexes) and ..(a_{_a} in Complexes).. and (a_{n} in Complexes).\n",
       "   core type: Lambda\n",
       "   parameter: 24\n",
       "   body: 3\n",
       "3. {sqrt((a_{1} * ..a_{_a}.. * a_{n})) = (sqrt((a_{1})) * ..sqrt((a_{i})).. * sqrt((a_{n}))) if (a_{1} in Complexes) and ..(a_{_a} in Complexes).. and (a_{n} in Complexes).\n",
       "   core type: Conditional\n",
       "   value: 4\n",
       "   condition: 5\n",
       "4. sqrt((a_{1} * ..a_{_a}.. * a_{n})) = (sqrt((a_{1})) * ..sqrt((a_{i})).. * sqrt((a_{n})))\n",
       "   core type: Operation\n",
       "   operator: 6\n",
       "   operands: 7\n",
       "5. (a_{1} in Complexes) and ..(a_{_a} in Complexes).. and (a_{n} in Complexes)\n",
       "   core type: Operation\n",
       "   operator: 8\n",
       "   operands: 9\n",
       "6. =\n",
       "   core type: Literal\n",
       "   sub-expressions: \n",
       "7. (sqrt((a_{1} * ..a_{_a}.. * a_{n})), sqrt((a_{1})) * ..sqrt((a_{i})).. * sqrt((a_{n})))\n",
       "   core type: ExprTuple\n",
       "   sub-expressions: 10, 11\n",
       "8. and\n",
       "   core type: Literal\n",
       "   sub-expressions: \n",
       "9. (a_{1} in Complexes, ..a_{_a} in Complexes.., a_{n} in Complexes)\n",
       "   core type: ExprTuple\n",
       "   sub-expressions: 12\n",
       "10. sqrt((a_{1} * ..a_{_a}.. * a_{n}))\n",
       "    core type: Operation\n",
       "    operator: 29\n",
       "    operands: 13\n",
       "11. sqrt((a_{1})) * ..sqrt((a_{i})).. * sqrt((a_{n}))\n",
       "    core type: Operation\n",
       "    operator: 19\n",
       "    operands: 14\n",
       "12. (a_{1} in Complexes), ..(a_{_a} in Complexes).., (a_{n} in Complexes)\n",
       "    core type: ExprRange\n",
       "    lambda_map: 15\n",
       "    start_index: 39\n",
       "    end_index: 28\n",
       "13. (a_{1} * ..a_{_a}.. * a_{n}, 1 / 2)\n",
       "    core type: ExprTuple\n",
       "    sub-expressions: 16, 33\n",
       "14. (sqrt((a_{1})), ..sqrt((a_{i})).., sqrt((a_{n})))\n",
       "    core type: ExprTuple\n",
       "    sub-expressions: 17\n",
       "15. _a -> (a_{_a} in Complexes)\n",
       "    core type: Lambda\n",
       "    parameter: 34\n",
       "    body: 18\n",
       "16. a_{1} * ..a_{_a}.. * a_{n}\n",
       "    core type: Operation\n",
       "    operator: 19\n",
       "    operands: 20\n",
       "17. sqrt((a_{1})), ..sqrt((a_{i})).., sqrt((a_{n}))\n",
       "    core type: ExprRange\n",
       "    lambda_map: 21\n",
       "    start_index: 39\n",
       "    end_index: 28\n",
       "18. a_{_a} in Complexes\n",
       "    core type: Operation\n",
       "    operator: 22\n",
       "    operands: 23\n",
       "19. *\n",
       "    core type: Literal\n",
       "    sub-expressions: \n",
       "20. (a_{1}, ..a_{_a}.., a_{n})\n",
       "    core type: ExprTuple\n",
       "    sub-expressions: 24\n",
       "21. i -> sqrt((a_{i}))\n",
       "    core type: Lambda\n",
       "    parameter: 36\n",
       "    body: 25\n",
       "22. in\n",
       "    core type: Literal\n",
       "    sub-expressions: \n",
       "23. (a_{_a}, Complexes)\n",
       "    core type: ExprTuple\n",
       "    sub-expressions: 31, 26\n",
       "24. a_{1}, ..a_{_a}.., a_{n}\n",
       "    core type: ExprRange\n",
       "    lambda_map: 27\n",
       "    start_index: 39\n",
       "    end_index: 28\n",
       "25. sqrt((a_{i}))\n",
       "    core type: Operation\n",
       "    operator: 29\n",
       "    operands: 30\n",
       "26. Complexes\n",
       "    core type: Literal\n",
       "    sub-expressions: \n",
       "27. _a -> a_{_a}\n",
       "    core type: Lambda\n",
       "    parameter: 34\n",
       "    body: 31\n",
       "28. n\n",
       "    core type: Variable\n",
       "    sub-expressions: \n",
       "29. Exp\n",
       "    core type: Literal\n",
       "    sub-expressions: \n",
       "30. (a_{i}, 1 / 2)\n",
       "    core type: ExprTuple\n",
       "    sub-expressions: 32, 33\n",
       "31. a_{_a}\n",
       "    core type: IndexedVar\n",
       "variable: 35\n",
       "index: 34\n",
       "32. a_{i}\n",
       "    core type: IndexedVar\n",
       "variable: 35\n",
       "index: 36\n",
       "33. 1 / 2\n",
       "    core type: Operation\n",
       "    operator: 37\n",
       "    operands: 38\n",
       "34. _a\n",
       "    core type: Variable\n",
       "    sub-expressions: \n",
       "35. a\n",
       "    core type: Variable\n",
       "    sub-expressions: \n",
       "36. i\n",
       "    core type: Variable\n",
       "    sub-expressions: \n",
       "37. /\n",
       "    core type: Literal\n",
       "    sub-expressions: \n",
       "38. (1, 2)\n",
       "    core type: ExprTuple\n",
       "    sub-expressions: 39, 40\n",
       "39. 1\n",
       "    core type: Literal\n",
       "    sub-expressions: \n",
       "40. 2\n",
       "    core type: Literal\n",
       "    sub-expressions: "
      ]
     },
     "execution_count": 5,
     "metadata": {},
     "output_type": "execute_result"
    }
   ],
   "source": [
    "# display the expression information\n",
    "expr.exprInfo()"
   ]
  },
  {
   "cell_type": "code",
   "execution_count": null,
   "metadata": {},
   "outputs": [],
   "source": []
  }
 ],
 "metadata": {
  "kernelspec": {
   "display_name": "Python 3",
   "language": "python",
   "name": "python3"
  },
  "language_info": {
   "codemirror_mode": {
    "name": "ipython",
    "version": 3
   },
   "file_extension": ".py",
   "mimetype": "text/x-python",
   "name": "python",
   "nbconvert_exporter": "python",
   "pygments_lexer": "ipython3",
   "version": "3.7.3"
  }
 },
 "nbformat": 4,
 "nbformat_minor": 1
}
