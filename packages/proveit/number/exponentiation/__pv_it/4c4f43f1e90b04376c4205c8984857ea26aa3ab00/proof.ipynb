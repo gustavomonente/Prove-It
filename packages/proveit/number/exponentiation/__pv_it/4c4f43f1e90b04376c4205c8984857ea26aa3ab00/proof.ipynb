{
 "cells": [
  {
   "cell_type": "markdown",
   "metadata": {},
   "source": [
    "Show the Proof\n",
    "========"
   ]
  },
  {
   "cell_type": "code",
   "execution_count": 1,
   "metadata": {},
   "outputs": [
    {
     "data": {
      "text/html": [
       "<table><tr><th>&nbsp;</th><th>step type</th><th>requirements</th><th>statement</th></tr>\n",
       "<tr><td><a name=\"proveit.number.exponentiation.4c4f43f1e90b04376c4205c8984857ea26aa3ab00_step0\">0</a></td><td>instantiation</td><td><a href=\"#proveit.number.exponentiation.4c4f43f1e90b04376c4205c8984857ea26aa3ab00_step1\">1</a>, <a href=\"#proveit.number.exponentiation.4c4f43f1e90b04376c4205c8984857ea26aa3ab00_step2\">2</a>, <a href=\"#proveit.number.exponentiation.4c4f43f1e90b04376c4205c8984857ea26aa3ab00_step3\">3</a></td><td><span style=\"font-size:20px;\"> <a class=\"ProveItLink\" href=\"proof.ipynb\" style=\"text-decoration: none\">&#x22A2;&nbsp;</a><a class=\"ProveItLink\" href=\"../3f7ec483b018a52682b37a065ea8d8f79212648c0/expr.ipynb\"><img src=\"../3f7ec483b018a52682b37a065ea8d8f79212648c0/expr.png\" style=\"display:inline;vertical-align:middle;\" /></a></span></td></tr>\n",
       "<tr><td>&nbsp;</td><td colspan=4 style=\"text-align:left\"><span style=\"font-size:20px;\"><a class=\"ProveItLink\" href=\"../../../../__pv_it/d3792d0d8642fdf1cd2a3a9b32c673ee13653de00/expr.ipynb\"><img src=\"../../../../__pv_it/d3792d0d8642fdf1cd2a3a9b32c673ee13653de00/expr.png\" style=\"display:inline;vertical-align:middle;\" /></a> : <a class=\"ProveItLink\" href=\"../../../sets/integer/__pv_it/f6a9f4b6dec6ab4d2dcb6ba1b0ba3cceefc643530/expr.ipynb\"><img src=\"../../../sets/integer/__pv_it/f6a9f4b6dec6ab4d2dcb6ba1b0ba3cceefc643530/expr.png\" style=\"display:inline;vertical-align:middle;\" /></a>, <a class=\"ProveItLink\" href=\"../../../../__pv_it/4d98b438710c5ada9ffa4646bb123a7d0e69ec000/expr.ipynb\"><img src=\"../../../../__pv_it/4d98b438710c5ada9ffa4646bb123a7d0e69ec000/expr.png\" style=\"display:inline;vertical-align:middle;\" /></a> : <a class=\"ProveItLink\" href=\"../../../sets/integer/__pv_it/b49c37b99b7e8d73a8d7971bcf454d693b90a2c60/expr.ipynb\"><img src=\"../../../sets/integer/__pv_it/b49c37b99b7e8d73a8d7971bcf454d693b90a2c60/expr.png\" style=\"display:inline;vertical-align:middle;\" /></a>, <a class=\"ProveItLink\" href=\"../../../../__pv_it/72df168d2bfb4e0140af90912ebf83b13772060b0/expr.ipynb\"><img src=\"../../../../__pv_it/72df168d2bfb4e0140af90912ebf83b13772060b0/expr.png\" style=\"display:inline;vertical-align:middle;\" /></a> : <a class=\"ProveItLink\" href=\"../e5a6ec9b430f928e661014c9cfedf218d57371530/expr.ipynb\"><img src=\"../e5a6ec9b430f928e661014c9cfedf218d57371530/expr.png\" style=\"display:inline;vertical-align:middle;\" /></a></span></td></tr><tr><td><a name=\"proveit.number.exponentiation.4c4f43f1e90b04376c4205c8984857ea26aa3ab00_step1\">1</a></td><td>theorem</td><td></td><td><span style=\"font-size:20px;\"> <a class=\"ProveItLink\" href=\"../../../../logic/set_theory/containment/_proofs_/supersetMembershipFromSubset.ipynb\" style=\"text-decoration: none\">&#x22A2;&nbsp;</a><a class=\"ProveItLink\" href=\"../03e1fcccf007f59c5c1c5c1cbf1307039bd764420/expr.ipynb\"><img src=\"../03e1fcccf007f59c5c1c5c1cbf1307039bd764420/expr.png\" style=\"display:inline;vertical-align:middle;\" /></a></span></td></tr>\n",
       "<tr><td>&nbsp;</td><td colspan=4 style-\"text-align:left\"><a class=\"ProveItLink\" href=\"../../../../logic/set_theory/containment/_proofs_/supersetMembershipFromSubset.ipynb\">proveit.logic.set_theory.containment.supersetMembershipFromSubset</a></td></tr><tr><td><a name=\"proveit.number.exponentiation.4c4f43f1e90b04376c4205c8984857ea26aa3ab00_step2\">2</a></td><td>theorem</td><td></td><td><span style=\"font-size:20px;\"> <a class=\"ProveItLink\" href=\"../../../sets/integer/_proofs_/natsPosInNats.ipynb\" style=\"text-decoration: none\">&#x22A2;&nbsp;</a><a class=\"ProveItLink\" href=\"../85aa5ca323b3f0a3eb2c91d02a1a55b8580ada5b0/expr.ipynb\"><img src=\"../85aa5ca323b3f0a3eb2c91d02a1a55b8580ada5b0/expr.png\" style=\"display:inline;vertical-align:middle;\" /></a></span></td></tr>\n",
       "<tr><td>&nbsp;</td><td colspan=4 style-\"text-align:left\"><a class=\"ProveItLink\" href=\"../../../sets/integer/_proofs_/natsPosInNats.ipynb\">proveit.number.sets.integer.natsPosInNats</a></td></tr><tr><td><a name=\"proveit.number.exponentiation.4c4f43f1e90b04376c4205c8984857ea26aa3ab00_step3\">3</a></td><td>instantiation</td><td><a href=\"#proveit.number.exponentiation.4c4f43f1e90b04376c4205c8984857ea26aa3ab00_step4\">4</a>, <a href=\"#proveit.number.exponentiation.4c4f43f1e90b04376c4205c8984857ea26aa3ab00_step5\">5</a>, <a href=\"#proveit.number.exponentiation.4c4f43f1e90b04376c4205c8984857ea26aa3ab00_step6\">6</a></td><td><span style=\"font-size:20px;\"> <a class=\"ProveItLink\" href=\"../fa0f6e2dc486f1ed8249607bf4a118593435d12d0/proof.ipynb\" style=\"text-decoration: none\">&#x22A2;&nbsp;</a><a class=\"ProveItLink\" href=\"../6f67483db91dfd41db545b66cd2ae63199b5a3d40/expr.ipynb\"><img src=\"../6f67483db91dfd41db545b66cd2ae63199b5a3d40/expr.png\" style=\"display:inline;vertical-align:middle;\" /></a></span></td></tr>\n",
       "<tr><td>&nbsp;</td><td colspan=4 style=\"text-align:left\"><span style=\"font-size:20px;\"><a class=\"ProveItLink\" href=\"../../../../__pv_it/a8d4b3a34d2189508f9082853fbac36935714f280/expr.ipynb\"><img src=\"../../../../__pv_it/a8d4b3a34d2189508f9082853fbac36935714f280/expr.png\" style=\"display:inline;vertical-align:middle;\" /></a> : <a class=\"ProveItLink\" href=\"../../../numeral/__pv_it/fb4ccffdbfd0f653ebaacb95e7ff4802fd48a6f20/expr.ipynb\"><img src=\"../../../numeral/__pv_it/fb4ccffdbfd0f653ebaacb95e7ff4802fd48a6f20/expr.png\" style=\"display:inline;vertical-align:middle;\" /></a>, <a class=\"ProveItLink\" href=\"../../../../__pv_it/53e304ff98ebc000dbe3ef224f4637dbafd46ba70/expr.ipynb\"><img src=\"../../../../__pv_it/53e304ff98ebc000dbe3ef224f4637dbafd46ba70/expr.png\" style=\"display:inline;vertical-align:middle;\" /></a> : <a class=\"ProveItLink\" href=\"../../../numeral/__pv_it/eafea0aba3ef5dc2db24e5b7b93d46ff53acbff50/expr.ipynb\"><img src=\"../../../numeral/__pv_it/eafea0aba3ef5dc2db24e5b7b93d46ff53acbff50/expr.png\" style=\"display:inline;vertical-align:middle;\" /></a></span></td></tr><tr><td><a name=\"proveit.number.exponentiation.4c4f43f1e90b04376c4205c8984857ea26aa3ab00_step4\">4</a></td><td>theorem</td><td></td><td><span style=\"font-size:20px;\"> <a class=\"ProveItLink\" href=\"../../_proofs_/expNatClosure.ipynb\" style=\"text-decoration: none\">&#x22A2;&nbsp;</a><a class=\"ProveItLink\" href=\"../3e7588bc27d7bbdb702a1c2a5f26ad75f70f080b0/expr.ipynb\"><img src=\"../3e7588bc27d7bbdb702a1c2a5f26ad75f70f080b0/expr.png\" style=\"display:inline;vertical-align:middle;\" /></a></span></td></tr>\n",
       "<tr><td>&nbsp;</td><td colspan=4 style-\"text-align:left\"><a class=\"ProveItLink\" href=\"../../_proofs_/expNatClosure.ipynb\">proveit.number.exponentiation.expNatClosure</a></td></tr><tr><td><a name=\"proveit.number.exponentiation.4c4f43f1e90b04376c4205c8984857ea26aa3ab00_step5\">5</a></td><td>theorem</td><td></td><td><span style=\"font-size:20px;\"> <a class=\"ProveItLink\" href=\"../../../numeral/deci/_proofs_/posnat2.ipynb\" style=\"text-decoration: none\">&#x22A2;&nbsp;</a><a class=\"ProveItLink\" href=\"../319c208c2bec11a651b142d0da30b2d2b2954dcb0/expr.ipynb\"><img src=\"../319c208c2bec11a651b142d0da30b2d2b2954dcb0/expr.png\" style=\"display:inline;vertical-align:middle;\" /></a></span></td></tr>\n",
       "<tr><td>&nbsp;</td><td colspan=4 style-\"text-align:left\"><a class=\"ProveItLink\" href=\"../../../numeral/deci/_proofs_/posnat2.ipynb\">proveit.number.numeral.deci.posnat2</a></td></tr><tr><td><a name=\"proveit.number.exponentiation.4c4f43f1e90b04376c4205c8984857ea26aa3ab00_step6\">6</a></td><td>theorem</td><td></td><td><span style=\"font-size:20px;\"> <a class=\"ProveItLink\" href=\"../../../numeral/deci/_proofs_/nat3.ipynb\" style=\"text-decoration: none\">&#x22A2;&nbsp;</a><a class=\"ProveItLink\" href=\"../50582e77b44143d030866c114bc78777ccc0f16b0/expr.ipynb\"><img src=\"../50582e77b44143d030866c114bc78777ccc0f16b0/expr.png\" style=\"display:inline;vertical-align:middle;\" /></a></span></td></tr>\n",
       "<tr><td>&nbsp;</td><td colspan=4 style-\"text-align:left\"><a class=\"ProveItLink\" href=\"../../../numeral/deci/_proofs_/nat3.ipynb\">proveit.number.numeral.deci.nat3</a></td></tr></table>"
      ],
      "text/plain": [
       "<proveit._core_.proof._ShowProof at 0x7f5b8b09d7b8>"
      ]
     },
     "execution_count": 1,
     "metadata": {},
     "output_type": "execute_result"
    }
   ],
   "source": [
    "import proveit\n",
    "# Automation is not needed when only showing a stored proof:\n",
    "proveit.defaults.automation = False # This will speed things up.\n",
    "proveit.defaults.inline_pngs = False # Makes files smaller.\n",
    "%show_proof"
   ]
  },
  {
   "cell_type": "code",
   "execution_count": null,
   "metadata": {},
   "outputs": [],
   "source": []
  }
 ],
 "metadata": {
  "kernelspec": {
   "display_name": "Python 3",
   "language": "python",
   "name": "python3"
  },
  "language_info": {
   "codemirror_mode": {
    "name": "ipython",
    "version": 3
   },
   "file_extension": ".py",
   "mimetype": "text/x-python",
   "name": "python",
   "nbconvert_exporter": "python",
   "pygments_lexer": "ipython3",
   "version": "3.7.3"
  }
 },
 "nbformat": 4,
 "nbformat_minor": 1
}
