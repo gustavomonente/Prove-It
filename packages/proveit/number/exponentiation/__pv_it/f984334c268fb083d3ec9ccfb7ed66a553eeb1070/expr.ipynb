{
 "cells": [
  {
   "cell_type": "markdown",
   "metadata": {},
   "source": [
    "Expression of type <a class=\"ProveItLink\" href=\"../../../../../../doc/html/api/proveit.Conditional.html\">Conditional</a>\n",
    "=======================\n",
    "# from context <a class=\"ProveItLink\" href=\"../../_context_.ipynb\">proveit.number.exponentiation</a>"
   ]
  },
  {
   "cell_type": "code",
   "execution_count": 1,
   "metadata": {},
   "outputs": [],
   "source": [
    "import proveit\n",
    "# Automation is not needed when building an expression:\n",
    "proveit.defaults.automation = False # This will speed things up.\n",
    "proveit.defaults.inline_pngs = False # Makes files smaller.\n",
    "# import Expression classes needed to build the expression\n",
    "from proveit import Conditional\n",
    "from proveit._common_ import a, b, c, d\n",
    "from proveit.logic import And, Equals, InSet, NotEquals\n",
    "from proveit.number import Add, Complexes, Exp, Mult, Neg, frac, zero"
   ]
  },
  {
   "cell_type": "code",
   "execution_count": 2,
   "metadata": {},
   "outputs": [
    {
     "data": {
      "text/html": [
       "<strong id=\"expr\">expr:</strong> <a class=\"ProveItLink\" href=\"expr.ipynb\"><img src=\"expr.png\" style=\"display:inline;vertical-align:middle;\" /></a><br>"
      ],
      "text/plain": [
       "expr: {a^{b - (c / d)} = (a^{b} * a^{(-c) / d}) if a in Complexes ,  b in Complexes ,  c in Complexes ,  d in Complexes ,  a != 0 ,  d != 0."
      ]
     },
     "execution_count": 2,
     "metadata": {},
     "output_type": "execute_result"
    }
   ],
   "source": [
    "# build up the expression from sub-expressions\n",
    "expr = Conditional(Equals(Exp(a, Add(b, Neg(frac(c, d)))), Mult(Exp(a, b), Exp(a, frac(Neg(c), d)))), And(InSet(a, Complexes), InSet(b, Complexes), InSet(c, Complexes), InSet(d, Complexes), NotEquals(a, zero), NotEquals(d, zero)))"
   ]
  },
  {
   "cell_type": "code",
   "execution_count": 3,
   "metadata": {},
   "outputs": [
    {
     "name": "stdout",
     "output_type": "stream",
     "text": [
      "Passed sanity check: built 'expr' is the same as the stored Expression.\n"
     ]
    }
   ],
   "source": [
    "# check that the built expression is the same as the stored expression\n",
    "%check_expr"
   ]
  },
  {
   "cell_type": "code",
   "execution_count": 4,
   "metadata": {},
   "outputs": [
    {
     "name": "stdout",
     "output_type": "stream",
     "text": [
      "\\left\\{a^{b - \\frac{c}{d}} = \\left(a^{b} \\cdot a^{\\frac{-c}{d}}\\right) \\textrm{ if } a \\in \\mathbb{C} ,  b \\in \\mathbb{C} ,  c \\in \\mathbb{C} ,  d \\in \\mathbb{C} ,  a \\neq 0 ,  d \\neq 0\\right..\n"
     ]
    }
   ],
   "source": [
    "# Show the LaTeX representation of the expression for convenience if you need it.\n",
    "print(expr.latex())"
   ]
  },
  {
   "cell_type": "code",
   "execution_count": 5,
   "metadata": {},
   "outputs": [
    {
     "data": {
      "text/html": [
       "<table><tr><th>&nbsp;</th><th>core type</th><th>sub-expressions</th><th>expression</th></tr>\n",
       "<tr><td>0</td><td>Conditional</td><td>value:&nbsp;1<br>condition:&nbsp;2<br></td><td><a class=\"ProveItLink\" href=\"expr.ipynb\"><img src=\"expr.png\" style=\"display:inline;vertical-align:middle;\" /></a></td></tr>\n",
       "<tr><td>1</td><td>Operation</td><td>operator:&nbsp;3<br>operands:&nbsp;4<br></td><td><a class=\"ProveItLink\" href=\"../c051a12b35f6ca781fdf4a7c9db61eeb95efa3110/expr.ipynb\"><img src=\"../c051a12b35f6ca781fdf4a7c9db61eeb95efa3110/expr.png\" style=\"display:inline;vertical-align:middle;\" /></a></td></tr>\n",
       "<tr><td>2</td><td>Operation</td><td>operator:&nbsp;5<br>operands:&nbsp;6<br></td><td><a class=\"ProveItLink\" href=\"../3705c77d7fae3a1a83bbcf204e5243eacec8641d0/expr.ipynb\"><img src=\"../3705c77d7fae3a1a83bbcf204e5243eacec8641d0/expr.png\" style=\"display:inline;vertical-align:middle;\" /></a></td></tr>\n",
       "<tr><td>3</td><td>Literal</td><td></td><td><a class=\"ProveItLink\" href=\"../../../../logic/equality/__pv_it/e16d2caa26a16688b658bdb9c422caf4b84579e10/expr.ipynb\"><img src=\"../../../../logic/equality/__pv_it/e16d2caa26a16688b658bdb9c422caf4b84579e10/expr.png\" style=\"display:inline;vertical-align:middle;\" /></a></td></tr>\n",
       "<tr><td>4</td><td>ExprTuple</td><td>7, 8</td><td><a class=\"ProveItLink\" href=\"../57531b158eb5b6e9c700a0457c2abbb600a5b2240/expr.ipynb\"><img src=\"../57531b158eb5b6e9c700a0457c2abbb600a5b2240/expr.png\" style=\"display:inline;vertical-align:middle;\" /></a></td></tr>\n",
       "<tr><td>5</td><td>Literal</td><td></td><td><a class=\"ProveItLink\" href=\"../../../../logic/boolean/conjunction/__pv_it/f41cc6b553210927c09f19a8a39cdf860a5585930/expr.ipynb\"><img src=\"../../../../logic/boolean/conjunction/__pv_it/f41cc6b553210927c09f19a8a39cdf860a5585930/expr.png\" style=\"display:inline;vertical-align:middle;\" /></a></td></tr>\n",
       "<tr><td>6</td><td>ExprTuple</td><td>9, 10, 11, 12, 13, 14</td><td><a class=\"ProveItLink\" href=\"../a801aff056f0867efde1d8e8aaba14c2d92adea70/expr.ipynb\"><img src=\"../a801aff056f0867efde1d8e8aaba14c2d92adea70/expr.png\" style=\"display:inline;vertical-align:middle;\" /></a></td></tr>\n",
       "<tr><td>7</td><td>Operation</td><td>operator:&nbsp;34<br>operands:&nbsp;15<br></td><td><a class=\"ProveItLink\" href=\"../108aafba9fe40487eb20ca664e7c546d726c00cd0/expr.ipynb\"><img src=\"../108aafba9fe40487eb20ca664e7c546d726c00cd0/expr.png\" style=\"display:inline;vertical-align:middle;\" /></a></td></tr>\n",
       "<tr><td>8</td><td>Operation</td><td>operator:&nbsp;16<br>operands:&nbsp;17<br></td><td><a class=\"ProveItLink\" href=\"../f372c99af2fb719a20f1bafe769c2abf7d5f6ed90/expr.ipynb\"><img src=\"../f372c99af2fb719a20f1bafe769c2abf7d5f6ed90/expr.png\" style=\"display:inline;vertical-align:middle;\" /></a></td></tr>\n",
       "<tr><td>9</td><td>Operation</td><td>operator:&nbsp;21<br>operands:&nbsp;18<br></td><td><a class=\"ProveItLink\" href=\"../3a349d05e8f4326cbee9b8eaae329b60958952cc0/expr.ipynb\"><img src=\"../3a349d05e8f4326cbee9b8eaae329b60958952cc0/expr.png\" style=\"display:inline;vertical-align:middle;\" /></a></td></tr>\n",
       "<tr><td>10</td><td>Operation</td><td>operator:&nbsp;21<br>operands:&nbsp;19<br></td><td><a class=\"ProveItLink\" href=\"../95df97c34da7b3464cf6fd37240351be737674bc0/expr.ipynb\"><img src=\"../95df97c34da7b3464cf6fd37240351be737674bc0/expr.png\" style=\"display:inline;vertical-align:middle;\" /></a></td></tr>\n",
       "<tr><td>11</td><td>Operation</td><td>operator:&nbsp;21<br>operands:&nbsp;20<br></td><td><a class=\"ProveItLink\" href=\"../d02cf1906ac5f4354cc3c5b69decd4aeb8773d320/expr.ipynb\"><img src=\"../d02cf1906ac5f4354cc3c5b69decd4aeb8773d320/expr.png\" style=\"display:inline;vertical-align:middle;\" /></a></td></tr>\n",
       "<tr><td>12</td><td>Operation</td><td>operator:&nbsp;21<br>operands:&nbsp;22<br></td><td><a class=\"ProveItLink\" href=\"../9dffd23ab17bbdd30641b880131d73458250caf80/expr.ipynb\"><img src=\"../9dffd23ab17bbdd30641b880131d73458250caf80/expr.png\" style=\"display:inline;vertical-align:middle;\" /></a></td></tr>\n",
       "<tr><td>13</td><td>Operation</td><td>operator:&nbsp;24<br>operands:&nbsp;23<br></td><td><a class=\"ProveItLink\" href=\"../970a446fa01dda51995facaff0c0eb0c08308df10/expr.ipynb\"><img src=\"../970a446fa01dda51995facaff0c0eb0c08308df10/expr.png\" style=\"display:inline;vertical-align:middle;\" /></a></td></tr>\n",
       "<tr><td>14</td><td>Operation</td><td>operator:&nbsp;24<br>operands:&nbsp;25<br></td><td><a class=\"ProveItLink\" href=\"../dcf77833e8ce6f93201583ff7d0e7cf64ef8b2f00/expr.ipynb\"><img src=\"../dcf77833e8ce6f93201583ff7d0e7cf64ef8b2f00/expr.png\" style=\"display:inline;vertical-align:middle;\" /></a></td></tr>\n",
       "<tr><td>15</td><td>ExprTuple</td><td>38, 26</td><td><a class=\"ProveItLink\" href=\"../91f6e0e2d4e002ff81fd64b982459485ea5da19d0/expr.ipynb\"><img src=\"../91f6e0e2d4e002ff81fd64b982459485ea5da19d0/expr.png\" style=\"display:inline;vertical-align:middle;\" /></a></td></tr>\n",
       "<tr><td>16</td><td>Literal</td><td></td><td><a class=\"ProveItLink\" href=\"../../../multiplication/__pv_it/f7a1ed7c35c8c884cf4c236d27cb79bf85638cad0/expr.ipynb\"><img src=\"../../../multiplication/__pv_it/f7a1ed7c35c8c884cf4c236d27cb79bf85638cad0/expr.png\" style=\"display:inline;vertical-align:middle;\" /></a></td></tr>\n",
       "<tr><td>17</td><td>ExprTuple</td><td>27, 28</td><td><a class=\"ProveItLink\" href=\"../d267b147e5fb2117a788589c18e4f1c6e56f450a0/expr.ipynb\"><img src=\"../d267b147e5fb2117a788589c18e4f1c6e56f450a0/expr.png\" style=\"display:inline;vertical-align:middle;\" /></a></td></tr>\n",
       "<tr><td>18</td><td>ExprTuple</td><td>38, 29</td><td><a class=\"ProveItLink\" href=\"../bf449f70c45ffb0bbf3e6b8cd307070dfe3938e40/expr.ipynb\"><img src=\"../bf449f70c45ffb0bbf3e6b8cd307070dfe3938e40/expr.png\" style=\"display:inline;vertical-align:middle;\" /></a></td></tr>\n",
       "<tr><td>19</td><td>ExprTuple</td><td>37, 29</td><td><a class=\"ProveItLink\" href=\"../bec87c9afa10830d67721c57d7589809406677a10/expr.ipynb\"><img src=\"../bec87c9afa10830d67721c57d7589809406677a10/expr.png\" style=\"display:inline;vertical-align:middle;\" /></a></td></tr>\n",
       "<tr><td>20</td><td>ExprTuple</td><td>47, 29</td><td><a class=\"ProveItLink\" href=\"../4aac17ca52656ad743a5b31a40d15dabf78f86e30/expr.ipynb\"><img src=\"../4aac17ca52656ad743a5b31a40d15dabf78f86e30/expr.png\" style=\"display:inline;vertical-align:middle;\" /></a></td></tr>\n",
       "<tr><td>21</td><td>Literal</td><td></td><td><a class=\"ProveItLink\" href=\"../../../../logic/set_theory/membership/__pv_it/7776fc89cb67d0b5b1ec2c0c8e08da5587921ccf0/expr.ipynb\"><img src=\"../../../../logic/set_theory/membership/__pv_it/7776fc89cb67d0b5b1ec2c0c8e08da5587921ccf0/expr.png\" style=\"display:inline;vertical-align:middle;\" /></a></td></tr>\n",
       "<tr><td>22</td><td>ExprTuple</td><td>45, 29</td><td><a class=\"ProveItLink\" href=\"../0aa7e205b2eea2802330846c31a1995a21c198b80/expr.ipynb\"><img src=\"../0aa7e205b2eea2802330846c31a1995a21c198b80/expr.png\" style=\"display:inline;vertical-align:middle;\" /></a></td></tr>\n",
       "<tr><td>23</td><td>ExprTuple</td><td>38, 30</td><td><a class=\"ProveItLink\" href=\"../26fbcc07c305c1ee76b1222676cfe7ebde8ae0490/expr.ipynb\"><img src=\"../26fbcc07c305c1ee76b1222676cfe7ebde8ae0490/expr.png\" style=\"display:inline;vertical-align:middle;\" /></a></td></tr>\n",
       "<tr><td>24</td><td>Literal</td><td></td><td><a class=\"ProveItLink\" href=\"../../../../logic/equality/__pv_it/b2721051be811fe338d0c72369ee2d83e8be58da0/expr.ipynb\"><img src=\"../../../../logic/equality/__pv_it/b2721051be811fe338d0c72369ee2d83e8be58da0/expr.png\" style=\"display:inline;vertical-align:middle;\" /></a></td></tr>\n",
       "<tr><td>25</td><td>ExprTuple</td><td>45, 30</td><td><a class=\"ProveItLink\" href=\"../aca377f57bd3662294d760d7e9663fbfc22b26f20/expr.ipynb\"><img src=\"../aca377f57bd3662294d760d7e9663fbfc22b26f20/expr.png\" style=\"display:inline;vertical-align:middle;\" /></a></td></tr>\n",
       "<tr><td>26</td><td>Operation</td><td>operator:&nbsp;31<br>operands:&nbsp;32<br></td><td><a class=\"ProveItLink\" href=\"../626c65a2d893be8ede792093cbc0bf45cfa790490/expr.ipynb\"><img src=\"../626c65a2d893be8ede792093cbc0bf45cfa790490/expr.png\" style=\"display:inline;vertical-align:middle;\" /></a></td></tr>\n",
       "<tr><td>27</td><td>Operation</td><td>operator:&nbsp;34<br>operands:&nbsp;33<br></td><td><a class=\"ProveItLink\" href=\"../873b99a0ca5af2327526d4e94461498a09279e7c0/expr.ipynb\"><img src=\"../873b99a0ca5af2327526d4e94461498a09279e7c0/expr.png\" style=\"display:inline;vertical-align:middle;\" /></a></td></tr>\n",
       "<tr><td>28</td><td>Operation</td><td>operator:&nbsp;34<br>operands:&nbsp;35<br></td><td><a class=\"ProveItLink\" href=\"../b03052e58a6ca68b1f95428c825349841be2fd6d0/expr.ipynb\"><img src=\"../b03052e58a6ca68b1f95428c825349841be2fd6d0/expr.png\" style=\"display:inline;vertical-align:middle;\" /></a></td></tr>\n",
       "<tr><td>29</td><td>Literal</td><td></td><td><a class=\"ProveItLink\" href=\"../../../sets/complex/__pv_it/8a5866946d766bfd951bcdff07a1a39af0935c430/expr.ipynb\"><img src=\"../../../sets/complex/__pv_it/8a5866946d766bfd951bcdff07a1a39af0935c430/expr.png\" style=\"display:inline;vertical-align:middle;\" /></a></td></tr>\n",
       "<tr><td>30</td><td>Literal</td><td></td><td><a class=\"ProveItLink\" href=\"../../../numeral/__pv_it/bcb6bc33e5975ec2290a3272bf7802d26ab8421d0/expr.ipynb\"><img src=\"../../../numeral/__pv_it/bcb6bc33e5975ec2290a3272bf7802d26ab8421d0/expr.png\" style=\"display:inline;vertical-align:middle;\" /></a></td></tr>\n",
       "<tr><td>31</td><td>Literal</td><td></td><td><a class=\"ProveItLink\" href=\"../../../addition/__pv_it/65ad7e8aee19b10110d590375ba95a879c4fb7ea0/expr.ipynb\"><img src=\"../../../addition/__pv_it/65ad7e8aee19b10110d590375ba95a879c4fb7ea0/expr.png\" style=\"display:inline;vertical-align:middle;\" /></a></td></tr>\n",
       "<tr><td>32</td><td>ExprTuple</td><td>37, 36</td><td><a class=\"ProveItLink\" href=\"../5abd9dfa06d13a6d867fc9357706b48b3c6941100/expr.ipynb\"><img src=\"../5abd9dfa06d13a6d867fc9357706b48b3c6941100/expr.png\" style=\"display:inline;vertical-align:middle;\" /></a></td></tr>\n",
       "<tr><td>33</td><td>ExprTuple</td><td>38, 37</td><td><a class=\"ProveItLink\" href=\"../bbc1b69eb12288f0ad04da0d0cc6b9b8079b8b3f0/expr.ipynb\"><img src=\"../bbc1b69eb12288f0ad04da0d0cc6b9b8079b8b3f0/expr.png\" style=\"display:inline;vertical-align:middle;\" /></a></td></tr>\n",
       "<tr><td>34</td><td>Literal</td><td></td><td><a class=\"ProveItLink\" href=\"../fca8e4218e687a7bc372d4b4009101e95bae518f0/expr.ipynb\"><img src=\"../fca8e4218e687a7bc372d4b4009101e95bae518f0/expr.png\" style=\"display:inline;vertical-align:middle;\" /></a></td></tr>\n",
       "<tr><td>35</td><td>ExprTuple</td><td>38, 39</td><td><a class=\"ProveItLink\" href=\"../ead7014c2703bc6b926b7eb78804db09aec94b830/expr.ipynb\"><img src=\"../ead7014c2703bc6b926b7eb78804db09aec94b830/expr.png\" style=\"display:inline;vertical-align:middle;\" /></a></td></tr>\n",
       "<tr><td>36</td><td>Operation</td><td>operator:&nbsp;46<br>operand:&nbsp;40<br></td><td><a class=\"ProveItLink\" href=\"../1bbd336e070652f1c6d16b4b0d75e5bf6dd51c410/expr.ipynb\"><img src=\"../1bbd336e070652f1c6d16b4b0d75e5bf6dd51c410/expr.png\" style=\"display:inline;vertical-align:middle;\" /></a></td></tr>\n",
       "<tr><td>37</td><td>Variable</td><td></td><td><a class=\"ProveItLink\" href=\"../../../../__pv_it/53e304ff98ebc000dbe3ef224f4637dbafd46ba70/expr.ipynb\"><img src=\"../../../../__pv_it/53e304ff98ebc000dbe3ef224f4637dbafd46ba70/expr.png\" style=\"display:inline;vertical-align:middle;\" /></a></td></tr>\n",
       "<tr><td>38</td><td>Variable</td><td></td><td><a class=\"ProveItLink\" href=\"../../../../__pv_it/a8d4b3a34d2189508f9082853fbac36935714f280/expr.ipynb\"><img src=\"../../../../__pv_it/a8d4b3a34d2189508f9082853fbac36935714f280/expr.png\" style=\"display:inline;vertical-align:middle;\" /></a></td></tr>\n",
       "<tr><td>39</td><td>Operation</td><td>operator:&nbsp;42<br>operands:&nbsp;41<br></td><td><a class=\"ProveItLink\" href=\"../ff2455b72ce198f4fdbc04bd64c7e906394d15430/expr.ipynb\"><img src=\"../ff2455b72ce198f4fdbc04bd64c7e906394d15430/expr.png\" style=\"display:inline;vertical-align:middle;\" /></a></td></tr>\n",
       "<tr><td>40</td><td>Operation</td><td>operator:&nbsp;42<br>operands:&nbsp;43<br></td><td><a class=\"ProveItLink\" href=\"../1ecee90e2848d48976384fa988eaf3779292bef90/expr.ipynb\"><img src=\"../1ecee90e2848d48976384fa988eaf3779292bef90/expr.png\" style=\"display:inline;vertical-align:middle;\" /></a></td></tr>\n",
       "<tr><td>41</td><td>ExprTuple</td><td>44, 45</td><td><a class=\"ProveItLink\" href=\"../28cd7c85d8f8178c1600ce06e3f2b34b71f9a0a10/expr.ipynb\"><img src=\"../28cd7c85d8f8178c1600ce06e3f2b34b71f9a0a10/expr.png\" style=\"display:inline;vertical-align:middle;\" /></a></td></tr>\n",
       "<tr><td>42</td><td>Literal</td><td></td><td><a class=\"ProveItLink\" href=\"../../../division/__pv_it/7a11ad25d6e61156459ac6819a1cec8fded2dde30/expr.ipynb\"><img src=\"../../../division/__pv_it/7a11ad25d6e61156459ac6819a1cec8fded2dde30/expr.png\" style=\"display:inline;vertical-align:middle;\" /></a></td></tr>\n",
       "<tr><td>43</td><td>ExprTuple</td><td>47, 45</td><td><a class=\"ProveItLink\" href=\"../3efa6ef1c2df45b20f093f6245413818d5bacb780/expr.ipynb\"><img src=\"../3efa6ef1c2df45b20f093f6245413818d5bacb780/expr.png\" style=\"display:inline;vertical-align:middle;\" /></a></td></tr>\n",
       "<tr><td>44</td><td>Operation</td><td>operator:&nbsp;46<br>operand:&nbsp;47<br></td><td><a class=\"ProveItLink\" href=\"../62940839def0424129d2b5ec51270ec09891275d0/expr.ipynb\"><img src=\"../62940839def0424129d2b5ec51270ec09891275d0/expr.png\" style=\"display:inline;vertical-align:middle;\" /></a></td></tr>\n",
       "<tr><td>45</td><td>Variable</td><td></td><td><a class=\"ProveItLink\" href=\"../../../../__pv_it/445e790c2b62732eb8597a2ddda4cbd1a8fb79140/expr.ipynb\"><img src=\"../../../../__pv_it/445e790c2b62732eb8597a2ddda4cbd1a8fb79140/expr.png\" style=\"display:inline;vertical-align:middle;\" /></a></td></tr>\n",
       "<tr><td>46</td><td>Literal</td><td></td><td><a class=\"ProveItLink\" href=\"../../../negation/__pv_it/2867787e35502987d81a45cac8e7f1c6996d6ff40/expr.ipynb\"><img src=\"../../../negation/__pv_it/2867787e35502987d81a45cac8e7f1c6996d6ff40/expr.png\" style=\"display:inline;vertical-align:middle;\" /></a></td></tr>\n",
       "<tr><td>47</td><td>Variable</td><td></td><td><a class=\"ProveItLink\" href=\"../../../../__pv_it/b2b446b221a34ee579eb9a1fbdd4ac4e2891d8c70/expr.ipynb\"><img src=\"../../../../__pv_it/b2b446b221a34ee579eb9a1fbdd4ac4e2891d8c70/expr.png\" style=\"display:inline;vertical-align:middle;\" /></a></td></tr>\n",
       "</table>\n"
      ],
      "text/plain": [
       "0. {a^{b - (c / d)} = (a^{b} * a^{(-c) / d}) if a in Complexes ,  b in Complexes ,  c in Complexes ,  d in Complexes ,  a != 0 ,  d != 0.\n",
       "   core type: Conditional\n",
       "   value: 1\n",
       "   condition: 2\n",
       "1. a^{b - (c / d)} = (a^{b} * a^{(-c) / d})\n",
       "   core type: Operation\n",
       "   operator: 3\n",
       "   operands: 4\n",
       "2. (a in Complexes) and (b in Complexes) and (c in Complexes) and (d in Complexes) and (a != 0) and (d != 0)\n",
       "   core type: Operation\n",
       "   operator: 5\n",
       "   operands: 6\n",
       "3. =\n",
       "   core type: Literal\n",
       "   sub-expressions: \n",
       "4. (a^{b - (c / d)}, a^{b} * a^{(-c) / d})\n",
       "   core type: ExprTuple\n",
       "   sub-expressions: 7, 8\n",
       "5. and\n",
       "   core type: Literal\n",
       "   sub-expressions: \n",
       "6. (a in Complexes, b in Complexes, c in Complexes, d in Complexes, a != 0, d != 0)\n",
       "   core type: ExprTuple\n",
       "   sub-expressions: 9, 10, 11, 12, 13, 14\n",
       "7. a^{b - (c / d)}\n",
       "   core type: Operation\n",
       "   operator: 34\n",
       "   operands: 15\n",
       "8. a^{b} * a^{(-c) / d}\n",
       "   core type: Operation\n",
       "   operator: 16\n",
       "   operands: 17\n",
       "9. a in Complexes\n",
       "   core type: Operation\n",
       "   operator: 21\n",
       "   operands: 18\n",
       "10. b in Complexes\n",
       "    core type: Operation\n",
       "    operator: 21\n",
       "    operands: 19\n",
       "11. c in Complexes\n",
       "    core type: Operation\n",
       "    operator: 21\n",
       "    operands: 20\n",
       "12. d in Complexes\n",
       "    core type: Operation\n",
       "    operator: 21\n",
       "    operands: 22\n",
       "13. a != 0\n",
       "    core type: Operation\n",
       "    operator: 24\n",
       "    operands: 23\n",
       "14. d != 0\n",
       "    core type: Operation\n",
       "    operator: 24\n",
       "    operands: 25\n",
       "15. (a, b - (c / d))\n",
       "    core type: ExprTuple\n",
       "    sub-expressions: 38, 26\n",
       "16. *\n",
       "    core type: Literal\n",
       "    sub-expressions: \n",
       "17. (a^{b}, a^{(-c) / d})\n",
       "    core type: ExprTuple\n",
       "    sub-expressions: 27, 28\n",
       "18. (a, Complexes)\n",
       "    core type: ExprTuple\n",
       "    sub-expressions: 38, 29\n",
       "19. (b, Complexes)\n",
       "    core type: ExprTuple\n",
       "    sub-expressions: 37, 29\n",
       "20. (c, Complexes)\n",
       "    core type: ExprTuple\n",
       "    sub-expressions: 47, 29\n",
       "21. in\n",
       "    core type: Literal\n",
       "    sub-expressions: \n",
       "22. (d, Complexes)\n",
       "    core type: ExprTuple\n",
       "    sub-expressions: 45, 29\n",
       "23. (a, 0)\n",
       "    core type: ExprTuple\n",
       "    sub-expressions: 38, 30\n",
       "24. !=\n",
       "    core type: Literal\n",
       "    sub-expressions: \n",
       "25. (d, 0)\n",
       "    core type: ExprTuple\n",
       "    sub-expressions: 45, 30\n",
       "26. b - (c / d)\n",
       "    core type: Operation\n",
       "    operator: 31\n",
       "    operands: 32\n",
       "27. a^{b}\n",
       "    core type: Operation\n",
       "    operator: 34\n",
       "    operands: 33\n",
       "28. a^{(-c) / d}\n",
       "    core type: Operation\n",
       "    operator: 34\n",
       "    operands: 35\n",
       "29. Complexes\n",
       "    core type: Literal\n",
       "    sub-expressions: \n",
       "30. 0\n",
       "    core type: Literal\n",
       "    sub-expressions: \n",
       "31. +\n",
       "    core type: Literal\n",
       "    sub-expressions: \n",
       "32. (b, -(c / d))\n",
       "    core type: ExprTuple\n",
       "    sub-expressions: 37, 36\n",
       "33. (a, b)\n",
       "    core type: ExprTuple\n",
       "    sub-expressions: 38, 37\n",
       "34. Exp\n",
       "    core type: Literal\n",
       "    sub-expressions: \n",
       "35. (a, (-c) / d)\n",
       "    core type: ExprTuple\n",
       "    sub-expressions: 38, 39\n",
       "36. -(c / d)\n",
       "    core type: Operation\n",
       "    operator: 46\n",
       "    operand: 40\n",
       "37. b\n",
       "    core type: Variable\n",
       "    sub-expressions: \n",
       "38. a\n",
       "    core type: Variable\n",
       "    sub-expressions: \n",
       "39. (-c) / d\n",
       "    core type: Operation\n",
       "    operator: 42\n",
       "    operands: 41\n",
       "40. c / d\n",
       "    core type: Operation\n",
       "    operator: 42\n",
       "    operands: 43\n",
       "41. (-c, d)\n",
       "    core type: ExprTuple\n",
       "    sub-expressions: 44, 45\n",
       "42. /\n",
       "    core type: Literal\n",
       "    sub-expressions: \n",
       "43. (c, d)\n",
       "    core type: ExprTuple\n",
       "    sub-expressions: 47, 45\n",
       "44. -c\n",
       "    core type: Operation\n",
       "    operator: 46\n",
       "    operand: 47\n",
       "45. d\n",
       "    core type: Variable\n",
       "    sub-expressions: \n",
       "46. -\n",
       "    core type: Literal\n",
       "    sub-expressions: \n",
       "47. c\n",
       "    core type: Variable\n",
       "    sub-expressions: "
      ]
     },
     "execution_count": 5,
     "metadata": {},
     "output_type": "execute_result"
    }
   ],
   "source": [
    "# display the expression information\n",
    "expr.exprInfo()"
   ]
  },
  {
   "cell_type": "code",
   "execution_count": null,
   "metadata": {},
   "outputs": [],
   "source": []
  }
 ],
 "metadata": {
  "kernelspec": {
   "display_name": "Python 3",
   "language": "python",
   "name": "python3"
  },
  "language_info": {
   "codemirror_mode": {
    "name": "ipython",
    "version": 3
   },
   "file_extension": ".py",
   "mimetype": "text/x-python",
   "name": "python",
   "nbconvert_exporter": "python",
   "pygments_lexer": "ipython3",
   "version": "3.7.3"
  }
 },
 "nbformat": 4,
 "nbformat_minor": 1
}
