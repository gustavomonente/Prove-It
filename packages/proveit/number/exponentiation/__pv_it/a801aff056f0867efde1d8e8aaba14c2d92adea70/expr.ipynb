{
 "cells": [
  {
   "cell_type": "markdown",
   "metadata": {},
   "source": [
    "Expression of type <a class=\"ProveItLink\" href=\"../../../../../../doc/html/api/proveit.ExprTuple.html\">ExprTuple</a>\n",
    "=======================\n",
    "# from context <a class=\"ProveItLink\" href=\"../../_context_.ipynb\">proveit.number.exponentiation</a>"
   ]
  },
  {
   "cell_type": "code",
   "execution_count": 1,
   "metadata": {},
   "outputs": [],
   "source": [
    "import proveit\n",
    "# Automation is not needed when building an expression:\n",
    "proveit.defaults.automation = False # This will speed things up.\n",
    "proveit.defaults.inline_pngs = False # Makes files smaller.\n",
    "# import Expression classes needed to build the expression\n",
    "from proveit import ExprTuple\n",
    "from proveit._common_ import a, b, c, d\n",
    "from proveit.logic import InSet, NotEquals\n",
    "from proveit.number import Complexes, zero"
   ]
  },
  {
   "cell_type": "code",
   "execution_count": 2,
   "metadata": {},
   "outputs": [
    {
     "data": {
      "text/html": [
       "<strong id=\"expr\">expr:</strong> <a class=\"ProveItLink\" href=\"expr.ipynb\"><img src=\"expr.png\" style=\"display:inline;vertical-align:middle;\" /></a><br>"
      ],
      "text/plain": [
       "expr: (a in Complexes, b in Complexes, c in Complexes, d in Complexes, a != 0, d != 0)"
      ]
     },
     "execution_count": 2,
     "metadata": {},
     "output_type": "execute_result"
    }
   ],
   "source": [
    "# build up the expression from sub-expressions\n",
    "expr = ExprTuple(InSet(a, Complexes), InSet(b, Complexes), InSet(c, Complexes), InSet(d, Complexes), NotEquals(a, zero), NotEquals(d, zero))"
   ]
  },
  {
   "cell_type": "code",
   "execution_count": 3,
   "metadata": {},
   "outputs": [
    {
     "name": "stdout",
     "output_type": "stream",
     "text": [
      "Passed sanity check: built 'expr' is the same as the stored Expression.\n"
     ]
    }
   ],
   "source": [
    "# check that the built expression is the same as the stored expression\n",
    "%check_expr"
   ]
  },
  {
   "cell_type": "code",
   "execution_count": 4,
   "metadata": {},
   "outputs": [
    {
     "name": "stdout",
     "output_type": "stream",
     "text": [
      "\\left(a \\in \\mathbb{C}, b \\in \\mathbb{C}, c \\in \\mathbb{C}, d \\in \\mathbb{C}, a \\neq 0, d \\neq 0\\right)\n"
     ]
    }
   ],
   "source": [
    "# Show the LaTeX representation of the expression for convenience if you need it.\n",
    "print(expr.latex())"
   ]
  },
  {
   "cell_type": "code",
   "execution_count": 5,
   "metadata": {},
   "outputs": [
    {
     "data": {
      "text/html": [
       "<table><tr><th>&nbsp;</th><th>core type</th><th>sub-expressions</th><th>expression</th></tr>\n",
       "<tr><td>0</td><td>ExprTuple</td><td>1, 2, 3, 4, 5, 6</td><td><a class=\"ProveItLink\" href=\"expr.ipynb\"><img src=\"expr.png\" style=\"display:inline;vertical-align:middle;\" /></a></td></tr>\n",
       "<tr><td>1</td><td>Operation</td><td>operator:&nbsp;10<br>operands:&nbsp;7<br></td><td><a class=\"ProveItLink\" href=\"../3a349d05e8f4326cbee9b8eaae329b60958952cc0/expr.ipynb\"><img src=\"../3a349d05e8f4326cbee9b8eaae329b60958952cc0/expr.png\" style=\"display:inline;vertical-align:middle;\" /></a></td></tr>\n",
       "<tr><td>2</td><td>Operation</td><td>operator:&nbsp;10<br>operands:&nbsp;8<br></td><td><a class=\"ProveItLink\" href=\"../95df97c34da7b3464cf6fd37240351be737674bc0/expr.ipynb\"><img src=\"../95df97c34da7b3464cf6fd37240351be737674bc0/expr.png\" style=\"display:inline;vertical-align:middle;\" /></a></td></tr>\n",
       "<tr><td>3</td><td>Operation</td><td>operator:&nbsp;10<br>operands:&nbsp;9<br></td><td><a class=\"ProveItLink\" href=\"../d02cf1906ac5f4354cc3c5b69decd4aeb8773d320/expr.ipynb\"><img src=\"../d02cf1906ac5f4354cc3c5b69decd4aeb8773d320/expr.png\" style=\"display:inline;vertical-align:middle;\" /></a></td></tr>\n",
       "<tr><td>4</td><td>Operation</td><td>operator:&nbsp;10<br>operands:&nbsp;11<br></td><td><a class=\"ProveItLink\" href=\"../9dffd23ab17bbdd30641b880131d73458250caf80/expr.ipynb\"><img src=\"../9dffd23ab17bbdd30641b880131d73458250caf80/expr.png\" style=\"display:inline;vertical-align:middle;\" /></a></td></tr>\n",
       "<tr><td>5</td><td>Operation</td><td>operator:&nbsp;13<br>operands:&nbsp;12<br></td><td><a class=\"ProveItLink\" href=\"../970a446fa01dda51995facaff0c0eb0c08308df10/expr.ipynb\"><img src=\"../970a446fa01dda51995facaff0c0eb0c08308df10/expr.png\" style=\"display:inline;vertical-align:middle;\" /></a></td></tr>\n",
       "<tr><td>6</td><td>Operation</td><td>operator:&nbsp;13<br>operands:&nbsp;14<br></td><td><a class=\"ProveItLink\" href=\"../dcf77833e8ce6f93201583ff7d0e7cf64ef8b2f00/expr.ipynb\"><img src=\"../dcf77833e8ce6f93201583ff7d0e7cf64ef8b2f00/expr.png\" style=\"display:inline;vertical-align:middle;\" /></a></td></tr>\n",
       "<tr><td>7</td><td>ExprTuple</td><td>18, 17</td><td><a class=\"ProveItLink\" href=\"../bf449f70c45ffb0bbf3e6b8cd307070dfe3938e40/expr.ipynb\"><img src=\"../bf449f70c45ffb0bbf3e6b8cd307070dfe3938e40/expr.png\" style=\"display:inline;vertical-align:middle;\" /></a></td></tr>\n",
       "<tr><td>8</td><td>ExprTuple</td><td>15, 17</td><td><a class=\"ProveItLink\" href=\"../bec87c9afa10830d67721c57d7589809406677a10/expr.ipynb\"><img src=\"../bec87c9afa10830d67721c57d7589809406677a10/expr.png\" style=\"display:inline;vertical-align:middle;\" /></a></td></tr>\n",
       "<tr><td>9</td><td>ExprTuple</td><td>16, 17</td><td><a class=\"ProveItLink\" href=\"../4aac17ca52656ad743a5b31a40d15dabf78f86e30/expr.ipynb\"><img src=\"../4aac17ca52656ad743a5b31a40d15dabf78f86e30/expr.png\" style=\"display:inline;vertical-align:middle;\" /></a></td></tr>\n",
       "<tr><td>10</td><td>Literal</td><td></td><td><a class=\"ProveItLink\" href=\"../../../../logic/set_theory/membership/__pv_it/7776fc89cb67d0b5b1ec2c0c8e08da5587921ccf0/expr.ipynb\"><img src=\"../../../../logic/set_theory/membership/__pv_it/7776fc89cb67d0b5b1ec2c0c8e08da5587921ccf0/expr.png\" style=\"display:inline;vertical-align:middle;\" /></a></td></tr>\n",
       "<tr><td>11</td><td>ExprTuple</td><td>19, 17</td><td><a class=\"ProveItLink\" href=\"../0aa7e205b2eea2802330846c31a1995a21c198b80/expr.ipynb\"><img src=\"../0aa7e205b2eea2802330846c31a1995a21c198b80/expr.png\" style=\"display:inline;vertical-align:middle;\" /></a></td></tr>\n",
       "<tr><td>12</td><td>ExprTuple</td><td>18, 20</td><td><a class=\"ProveItLink\" href=\"../26fbcc07c305c1ee76b1222676cfe7ebde8ae0490/expr.ipynb\"><img src=\"../26fbcc07c305c1ee76b1222676cfe7ebde8ae0490/expr.png\" style=\"display:inline;vertical-align:middle;\" /></a></td></tr>\n",
       "<tr><td>13</td><td>Literal</td><td></td><td><a class=\"ProveItLink\" href=\"../../../../logic/equality/__pv_it/b2721051be811fe338d0c72369ee2d83e8be58da0/expr.ipynb\"><img src=\"../../../../logic/equality/__pv_it/b2721051be811fe338d0c72369ee2d83e8be58da0/expr.png\" style=\"display:inline;vertical-align:middle;\" /></a></td></tr>\n",
       "<tr><td>14</td><td>ExprTuple</td><td>19, 20</td><td><a class=\"ProveItLink\" href=\"../aca377f57bd3662294d760d7e9663fbfc22b26f20/expr.ipynb\"><img src=\"../aca377f57bd3662294d760d7e9663fbfc22b26f20/expr.png\" style=\"display:inline;vertical-align:middle;\" /></a></td></tr>\n",
       "<tr><td>15</td><td>Variable</td><td></td><td><a class=\"ProveItLink\" href=\"../../../../__pv_it/53e304ff98ebc000dbe3ef224f4637dbafd46ba70/expr.ipynb\"><img src=\"../../../../__pv_it/53e304ff98ebc000dbe3ef224f4637dbafd46ba70/expr.png\" style=\"display:inline;vertical-align:middle;\" /></a></td></tr>\n",
       "<tr><td>16</td><td>Variable</td><td></td><td><a class=\"ProveItLink\" href=\"../../../../__pv_it/b2b446b221a34ee579eb9a1fbdd4ac4e2891d8c70/expr.ipynb\"><img src=\"../../../../__pv_it/b2b446b221a34ee579eb9a1fbdd4ac4e2891d8c70/expr.png\" style=\"display:inline;vertical-align:middle;\" /></a></td></tr>\n",
       "<tr><td>17</td><td>Literal</td><td></td><td><a class=\"ProveItLink\" href=\"../../../sets/complex/__pv_it/8a5866946d766bfd951bcdff07a1a39af0935c430/expr.ipynb\"><img src=\"../../../sets/complex/__pv_it/8a5866946d766bfd951bcdff07a1a39af0935c430/expr.png\" style=\"display:inline;vertical-align:middle;\" /></a></td></tr>\n",
       "<tr><td>18</td><td>Variable</td><td></td><td><a class=\"ProveItLink\" href=\"../../../../__pv_it/a8d4b3a34d2189508f9082853fbac36935714f280/expr.ipynb\"><img src=\"../../../../__pv_it/a8d4b3a34d2189508f9082853fbac36935714f280/expr.png\" style=\"display:inline;vertical-align:middle;\" /></a></td></tr>\n",
       "<tr><td>19</td><td>Variable</td><td></td><td><a class=\"ProveItLink\" href=\"../../../../__pv_it/445e790c2b62732eb8597a2ddda4cbd1a8fb79140/expr.ipynb\"><img src=\"../../../../__pv_it/445e790c2b62732eb8597a2ddda4cbd1a8fb79140/expr.png\" style=\"display:inline;vertical-align:middle;\" /></a></td></tr>\n",
       "<tr><td>20</td><td>Literal</td><td></td><td><a class=\"ProveItLink\" href=\"../../../numeral/__pv_it/bcb6bc33e5975ec2290a3272bf7802d26ab8421d0/expr.ipynb\"><img src=\"../../../numeral/__pv_it/bcb6bc33e5975ec2290a3272bf7802d26ab8421d0/expr.png\" style=\"display:inline;vertical-align:middle;\" /></a></td></tr>\n",
       "</table>\n"
      ],
      "text/plain": [
       "0. (a in Complexes, b in Complexes, c in Complexes, d in Complexes, a != 0, d != 0)\n",
       "   core type: ExprTuple\n",
       "   sub-expressions: 1, 2, 3, 4, 5, 6\n",
       "1. a in Complexes\n",
       "   core type: Operation\n",
       "   operator: 10\n",
       "   operands: 7\n",
       "2. b in Complexes\n",
       "   core type: Operation\n",
       "   operator: 10\n",
       "   operands: 8\n",
       "3. c in Complexes\n",
       "   core type: Operation\n",
       "   operator: 10\n",
       "   operands: 9\n",
       "4. d in Complexes\n",
       "   core type: Operation\n",
       "   operator: 10\n",
       "   operands: 11\n",
       "5. a != 0\n",
       "   core type: Operation\n",
       "   operator: 13\n",
       "   operands: 12\n",
       "6. d != 0\n",
       "   core type: Operation\n",
       "   operator: 13\n",
       "   operands: 14\n",
       "7. (a, Complexes)\n",
       "   core type: ExprTuple\n",
       "   sub-expressions: 18, 17\n",
       "8. (b, Complexes)\n",
       "   core type: ExprTuple\n",
       "   sub-expressions: 15, 17\n",
       "9. (c, Complexes)\n",
       "   core type: ExprTuple\n",
       "   sub-expressions: 16, 17\n",
       "10. in\n",
       "    core type: Literal\n",
       "    sub-expressions: \n",
       "11. (d, Complexes)\n",
       "    core type: ExprTuple\n",
       "    sub-expressions: 19, 17\n",
       "12. (a, 0)\n",
       "    core type: ExprTuple\n",
       "    sub-expressions: 18, 20\n",
       "13. !=\n",
       "    core type: Literal\n",
       "    sub-expressions: \n",
       "14. (d, 0)\n",
       "    core type: ExprTuple\n",
       "    sub-expressions: 19, 20\n",
       "15. b\n",
       "    core type: Variable\n",
       "    sub-expressions: \n",
       "16. c\n",
       "    core type: Variable\n",
       "    sub-expressions: \n",
       "17. Complexes\n",
       "    core type: Literal\n",
       "    sub-expressions: \n",
       "18. a\n",
       "    core type: Variable\n",
       "    sub-expressions: \n",
       "19. d\n",
       "    core type: Variable\n",
       "    sub-expressions: \n",
       "20. 0\n",
       "    core type: Literal\n",
       "    sub-expressions: "
      ]
     },
     "execution_count": 5,
     "metadata": {},
     "output_type": "execute_result"
    }
   ],
   "source": [
    "# display the expression information\n",
    "expr.exprInfo()"
   ]
  },
  {
   "cell_type": "code",
   "execution_count": null,
   "metadata": {},
   "outputs": [],
   "source": []
  }
 ],
 "metadata": {
  "kernelspec": {
   "display_name": "Python 3",
   "language": "python",
   "name": "python3"
  },
  "language_info": {
   "codemirror_mode": {
    "name": "ipython",
    "version": 3
   },
   "file_extension": ".py",
   "mimetype": "text/x-python",
   "name": "python",
   "nbconvert_exporter": "python",
   "pygments_lexer": "ipython3",
   "version": "3.7.3"
  }
 },
 "nbformat": 4,
 "nbformat_minor": 1
}
