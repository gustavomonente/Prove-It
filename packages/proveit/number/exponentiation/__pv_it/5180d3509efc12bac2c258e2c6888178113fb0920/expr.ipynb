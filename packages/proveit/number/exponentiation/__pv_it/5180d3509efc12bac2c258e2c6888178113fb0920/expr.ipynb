{
 "cells": [
  {
   "cell_type": "markdown",
   "metadata": {},
   "source": [
    "Expression of type <a class=\"ProveItLink\" href=\"../../../../../../doc/html/api/proveit.Lambda.html\">Lambda</a>\n",
    "=======================\n",
    "# from context <a class=\"ProveItLink\" href=\"../../_context_.ipynb\">proveit.number.exponentiation</a>"
   ]
  },
  {
   "cell_type": "code",
   "execution_count": 1,
   "metadata": {},
   "outputs": [],
   "source": [
    "import proveit\n",
    "# Automation is not needed when building an expression:\n",
    "proveit.defaults.automation = False # This will speed things up.\n",
    "proveit.defaults.inline_pngs = False # Makes files smaller.\n",
    "# import Expression classes needed to build the expression\n",
    "from proveit import Conditional, Lambda\n",
    "from proveit._common_ import a, b, n\n",
    "from proveit.logic import And, Equals, InSet, NotEquals\n",
    "from proveit.number import Complexes, Exp, Mult, zero"
   ]
  },
  {
   "cell_type": "code",
   "execution_count": 2,
   "metadata": {},
   "outputs": [
    {
     "data": {
      "text/html": [
       "<strong id=\"expr\">expr:</strong> <a class=\"ProveItLink\" href=\"expr.ipynb\"><img src=\"expr.png\" style=\"display:inline;vertical-align:middle;\" /></a><br>"
      ],
      "text/plain": [
       "expr: (a, b) -> {(a^{n} * b^{n}) = (a * b)^{n} if a in Complexes ,  b in Complexes ,  a != 0 ,  b != 0."
      ]
     },
     "execution_count": 2,
     "metadata": {},
     "output_type": "execute_result"
    }
   ],
   "source": [
    "# build up the expression from sub-expressions\n",
    "expr = Lambda([a, b], Conditional(Equals(Mult(Exp(a, n), Exp(b, n)), Exp(Mult(a, b), n)), And(InSet(a, Complexes), InSet(b, Complexes), NotEquals(a, zero), NotEquals(b, zero))))"
   ]
  },
  {
   "cell_type": "code",
   "execution_count": 3,
   "metadata": {},
   "outputs": [
    {
     "name": "stdout",
     "output_type": "stream",
     "text": [
      "Passed sanity check: built 'expr' is the same as the stored Expression.\n"
     ]
    }
   ],
   "source": [
    "# check that the built expression is the same as the stored expression\n",
    "%check_expr"
   ]
  },
  {
   "cell_type": "code",
   "execution_count": 4,
   "metadata": {},
   "outputs": [
    {
     "name": "stdout",
     "output_type": "stream",
     "text": [
      "\\left(a, b\\right) \\mapsto \\left\\{\\left(a^{n} \\cdot b^{n}\\right) = \\left(a \\cdot b\\right)^{n} \\textrm{ if } a \\in \\mathbb{C} ,  b \\in \\mathbb{C} ,  a \\neq 0 ,  b \\neq 0\\right..\n"
     ]
    }
   ],
   "source": [
    "# Show the LaTeX representation of the expression for convenience if you need it.\n",
    "print(expr.latex())"
   ]
  },
  {
   "cell_type": "code",
   "execution_count": 5,
   "metadata": {},
   "outputs": [
    {
     "data": {
      "text/html": [
       "<table><tr><th>&nbsp;</th><th>core type</th><th>sub-expressions</th><th>expression</th></tr>\n",
       "<tr><td>0</td><td>Lambda</td><td>parameters:&nbsp;31<br>body:&nbsp;1<br></td><td><a class=\"ProveItLink\" href=\"expr.ipynb\"><img src=\"expr.png\" style=\"display:inline;vertical-align:middle;\" /></a></td></tr>\n",
       "<tr><td>1</td><td>Conditional</td><td>value:&nbsp;2<br>condition:&nbsp;3<br></td><td><a class=\"ProveItLink\" href=\"../07b6b2348182d4721fa58f987a31e4c960ff649b0/expr.ipynb\"><img src=\"../07b6b2348182d4721fa58f987a31e4c960ff649b0/expr.png\" style=\"display:inline;vertical-align:middle;\" /></a></td></tr>\n",
       "<tr><td>2</td><td>Operation</td><td>operator:&nbsp;4<br>operands:&nbsp;5<br></td><td><a class=\"ProveItLink\" href=\"../b8d555ee74d163611a78e82dde61713823d83e130/expr.ipynb\"><img src=\"../b8d555ee74d163611a78e82dde61713823d83e130/expr.png\" style=\"display:inline;vertical-align:middle;\" /></a></td></tr>\n",
       "<tr><td>3</td><td>Operation</td><td>operator:&nbsp;6<br>operands:&nbsp;7<br></td><td><a class=\"ProveItLink\" href=\"../a4f239b26969b647be490e09b36942a766ba1be40/expr.ipynb\"><img src=\"../a4f239b26969b647be490e09b36942a766ba1be40/expr.png\" style=\"display:inline;vertical-align:middle;\" /></a></td></tr>\n",
       "<tr><td>4</td><td>Literal</td><td></td><td><a class=\"ProveItLink\" href=\"../../../../logic/equality/__pv_it/e16d2caa26a16688b658bdb9c422caf4b84579e10/expr.ipynb\"><img src=\"../../../../logic/equality/__pv_it/e16d2caa26a16688b658bdb9c422caf4b84579e10/expr.png\" style=\"display:inline;vertical-align:middle;\" /></a></td></tr>\n",
       "<tr><td>5</td><td>ExprTuple</td><td>8, 9</td><td><a class=\"ProveItLink\" href=\"../1f7e142801e80d9f4800007e39b282bf75fd426b0/expr.ipynb\"><img src=\"../1f7e142801e80d9f4800007e39b282bf75fd426b0/expr.png\" style=\"display:inline;vertical-align:middle;\" /></a></td></tr>\n",
       "<tr><td>6</td><td>Literal</td><td></td><td><a class=\"ProveItLink\" href=\"../../../../logic/boolean/conjunction/__pv_it/f41cc6b553210927c09f19a8a39cdf860a5585930/expr.ipynb\"><img src=\"../../../../logic/boolean/conjunction/__pv_it/f41cc6b553210927c09f19a8a39cdf860a5585930/expr.png\" style=\"display:inline;vertical-align:middle;\" /></a></td></tr>\n",
       "<tr><td>7</td><td>ExprTuple</td><td>10, 11, 12, 13</td><td><a class=\"ProveItLink\" href=\"../91e235d877929bd466477e1c745d656d918bcafb0/expr.ipynb\"><img src=\"../91e235d877929bd466477e1c745d656d918bcafb0/expr.png\" style=\"display:inline;vertical-align:middle;\" /></a></td></tr>\n",
       "<tr><td>8</td><td>Operation</td><td>operator:&nbsp;30<br>operands:&nbsp;14<br></td><td><a class=\"ProveItLink\" href=\"../2ce90a41d90711d0a744e0311d270c931d981b6e0/expr.ipynb\"><img src=\"../2ce90a41d90711d0a744e0311d270c931d981b6e0/expr.png\" style=\"display:inline;vertical-align:middle;\" /></a></td></tr>\n",
       "<tr><td>9</td><td>Operation</td><td>operator:&nbsp;28<br>operands:&nbsp;15<br></td><td><a class=\"ProveItLink\" href=\"../8c16ff9370222b9e259c569b3d2f1a9f6631f2360/expr.ipynb\"><img src=\"../8c16ff9370222b9e259c569b3d2f1a9f6631f2360/expr.png\" style=\"display:inline;vertical-align:middle;\" /></a></td></tr>\n",
       "<tr><td>10</td><td>Operation</td><td>operator:&nbsp;17<br>operands:&nbsp;16<br></td><td><a class=\"ProveItLink\" href=\"../3a349d05e8f4326cbee9b8eaae329b60958952cc0/expr.ipynb\"><img src=\"../3a349d05e8f4326cbee9b8eaae329b60958952cc0/expr.png\" style=\"display:inline;vertical-align:middle;\" /></a></td></tr>\n",
       "<tr><td>11</td><td>Operation</td><td>operator:&nbsp;17<br>operands:&nbsp;18<br></td><td><a class=\"ProveItLink\" href=\"../95df97c34da7b3464cf6fd37240351be737674bc0/expr.ipynb\"><img src=\"../95df97c34da7b3464cf6fd37240351be737674bc0/expr.png\" style=\"display:inline;vertical-align:middle;\" /></a></td></tr>\n",
       "<tr><td>12</td><td>Operation</td><td>operator:&nbsp;20<br>operands:&nbsp;19<br></td><td><a class=\"ProveItLink\" href=\"../970a446fa01dda51995facaff0c0eb0c08308df10/expr.ipynb\"><img src=\"../970a446fa01dda51995facaff0c0eb0c08308df10/expr.png\" style=\"display:inline;vertical-align:middle;\" /></a></td></tr>\n",
       "<tr><td>13</td><td>Operation</td><td>operator:&nbsp;20<br>operands:&nbsp;21<br></td><td><a class=\"ProveItLink\" href=\"../629cf5f63b8ed4e405f61e1a82540d302bd29abe0/expr.ipynb\"><img src=\"../629cf5f63b8ed4e405f61e1a82540d302bd29abe0/expr.png\" style=\"display:inline;vertical-align:middle;\" /></a></td></tr>\n",
       "<tr><td>14</td><td>ExprTuple</td><td>22, 23</td><td><a class=\"ProveItLink\" href=\"../3fc966b9f83a20417656c88884f22c86bc84c1540/expr.ipynb\"><img src=\"../3fc966b9f83a20417656c88884f22c86bc84c1540/expr.png\" style=\"display:inline;vertical-align:middle;\" /></a></td></tr>\n",
       "<tr><td>15</td><td>ExprTuple</td><td>24, 32</td><td><a class=\"ProveItLink\" href=\"../3735229baf4e3fd4b518644c85e0f23b93e5cc0a0/expr.ipynb\"><img src=\"../3735229baf4e3fd4b518644c85e0f23b93e5cc0a0/expr.png\" style=\"display:inline;vertical-align:middle;\" /></a></td></tr>\n",
       "<tr><td>16</td><td>ExprTuple</td><td>33, 25</td><td><a class=\"ProveItLink\" href=\"../bf449f70c45ffb0bbf3e6b8cd307070dfe3938e40/expr.ipynb\"><img src=\"../bf449f70c45ffb0bbf3e6b8cd307070dfe3938e40/expr.png\" style=\"display:inline;vertical-align:middle;\" /></a></td></tr>\n",
       "<tr><td>17</td><td>Literal</td><td></td><td><a class=\"ProveItLink\" href=\"../../../../logic/set_theory/membership/__pv_it/7776fc89cb67d0b5b1ec2c0c8e08da5587921ccf0/expr.ipynb\"><img src=\"../../../../logic/set_theory/membership/__pv_it/7776fc89cb67d0b5b1ec2c0c8e08da5587921ccf0/expr.png\" style=\"display:inline;vertical-align:middle;\" /></a></td></tr>\n",
       "<tr><td>18</td><td>ExprTuple</td><td>34, 25</td><td><a class=\"ProveItLink\" href=\"../bec87c9afa10830d67721c57d7589809406677a10/expr.ipynb\"><img src=\"../bec87c9afa10830d67721c57d7589809406677a10/expr.png\" style=\"display:inline;vertical-align:middle;\" /></a></td></tr>\n",
       "<tr><td>19</td><td>ExprTuple</td><td>33, 26</td><td><a class=\"ProveItLink\" href=\"../26fbcc07c305c1ee76b1222676cfe7ebde8ae0490/expr.ipynb\"><img src=\"../26fbcc07c305c1ee76b1222676cfe7ebde8ae0490/expr.png\" style=\"display:inline;vertical-align:middle;\" /></a></td></tr>\n",
       "<tr><td>20</td><td>Literal</td><td></td><td><a class=\"ProveItLink\" href=\"../../../../logic/equality/__pv_it/b2721051be811fe338d0c72369ee2d83e8be58da0/expr.ipynb\"><img src=\"../../../../logic/equality/__pv_it/b2721051be811fe338d0c72369ee2d83e8be58da0/expr.png\" style=\"display:inline;vertical-align:middle;\" /></a></td></tr>\n",
       "<tr><td>21</td><td>ExprTuple</td><td>34, 26</td><td><a class=\"ProveItLink\" href=\"../d25daeb2482c84ce86b92ca5e8eeae655d8416600/expr.ipynb\"><img src=\"../d25daeb2482c84ce86b92ca5e8eeae655d8416600/expr.png\" style=\"display:inline;vertical-align:middle;\" /></a></td></tr>\n",
       "<tr><td>22</td><td>Operation</td><td>operator:&nbsp;28<br>operands:&nbsp;27<br></td><td><a class=\"ProveItLink\" href=\"../acd1dc165bc6c9ac88f8eca72191eee0105fe0230/expr.ipynb\"><img src=\"../acd1dc165bc6c9ac88f8eca72191eee0105fe0230/expr.png\" style=\"display:inline;vertical-align:middle;\" /></a></td></tr>\n",
       "<tr><td>23</td><td>Operation</td><td>operator:&nbsp;28<br>operands:&nbsp;29<br></td><td><a class=\"ProveItLink\" href=\"../f9231cb18f813bcc0e31278b6a3fc9065aa9d82b0/expr.ipynb\"><img src=\"../f9231cb18f813bcc0e31278b6a3fc9065aa9d82b0/expr.png\" style=\"display:inline;vertical-align:middle;\" /></a></td></tr>\n",
       "<tr><td>24</td><td>Operation</td><td>operator:&nbsp;30<br>operands:&nbsp;31<br></td><td><a class=\"ProveItLink\" href=\"../cc31b9b12f01c56e8b0c27d6c2488ea44ce74f0c0/expr.ipynb\"><img src=\"../cc31b9b12f01c56e8b0c27d6c2488ea44ce74f0c0/expr.png\" style=\"display:inline;vertical-align:middle;\" /></a></td></tr>\n",
       "<tr><td>25</td><td>Literal</td><td></td><td><a class=\"ProveItLink\" href=\"../../../sets/complex/__pv_it/8a5866946d766bfd951bcdff07a1a39af0935c430/expr.ipynb\"><img src=\"../../../sets/complex/__pv_it/8a5866946d766bfd951bcdff07a1a39af0935c430/expr.png\" style=\"display:inline;vertical-align:middle;\" /></a></td></tr>\n",
       "<tr><td>26</td><td>Literal</td><td></td><td><a class=\"ProveItLink\" href=\"../../../numeral/__pv_it/bcb6bc33e5975ec2290a3272bf7802d26ab8421d0/expr.ipynb\"><img src=\"../../../numeral/__pv_it/bcb6bc33e5975ec2290a3272bf7802d26ab8421d0/expr.png\" style=\"display:inline;vertical-align:middle;\" /></a></td></tr>\n",
       "<tr><td>27</td><td>ExprTuple</td><td>33, 32</td><td><a class=\"ProveItLink\" href=\"../b163413ec9ac877ea649d0c9cf089a4d56b540b50/expr.ipynb\"><img src=\"../b163413ec9ac877ea649d0c9cf089a4d56b540b50/expr.png\" style=\"display:inline;vertical-align:middle;\" /></a></td></tr>\n",
       "<tr><td>28</td><td>Literal</td><td></td><td><a class=\"ProveItLink\" href=\"../fca8e4218e687a7bc372d4b4009101e95bae518f0/expr.ipynb\"><img src=\"../fca8e4218e687a7bc372d4b4009101e95bae518f0/expr.png\" style=\"display:inline;vertical-align:middle;\" /></a></td></tr>\n",
       "<tr><td>29</td><td>ExprTuple</td><td>34, 32</td><td><a class=\"ProveItLink\" href=\"../53f0f955bd146b48da3bb6dedae57c7b74cdcf110/expr.ipynb\"><img src=\"../53f0f955bd146b48da3bb6dedae57c7b74cdcf110/expr.png\" style=\"display:inline;vertical-align:middle;\" /></a></td></tr>\n",
       "<tr><td>30</td><td>Literal</td><td></td><td><a class=\"ProveItLink\" href=\"../../../multiplication/__pv_it/f7a1ed7c35c8c884cf4c236d27cb79bf85638cad0/expr.ipynb\"><img src=\"../../../multiplication/__pv_it/f7a1ed7c35c8c884cf4c236d27cb79bf85638cad0/expr.png\" style=\"display:inline;vertical-align:middle;\" /></a></td></tr>\n",
       "<tr><td>31</td><td>ExprTuple</td><td>33, 34</td><td><a class=\"ProveItLink\" href=\"../bbc1b69eb12288f0ad04da0d0cc6b9b8079b8b3f0/expr.ipynb\"><img src=\"../bbc1b69eb12288f0ad04da0d0cc6b9b8079b8b3f0/expr.png\" style=\"display:inline;vertical-align:middle;\" /></a></td></tr>\n",
       "<tr><td>32</td><td>Variable</td><td></td><td><a class=\"ProveItLink\" href=\"../../../../__pv_it/0c1c4cb515e0f4344b1ac06650f349123e526deb0/expr.ipynb\"><img src=\"../../../../__pv_it/0c1c4cb515e0f4344b1ac06650f349123e526deb0/expr.png\" style=\"display:inline;vertical-align:middle;\" /></a></td></tr>\n",
       "<tr><td>33</td><td>Variable</td><td></td><td><a class=\"ProveItLink\" href=\"../../../../__pv_it/a8d4b3a34d2189508f9082853fbac36935714f280/expr.ipynb\"><img src=\"../../../../__pv_it/a8d4b3a34d2189508f9082853fbac36935714f280/expr.png\" style=\"display:inline;vertical-align:middle;\" /></a></td></tr>\n",
       "<tr><td>34</td><td>Variable</td><td></td><td><a class=\"ProveItLink\" href=\"../../../../__pv_it/53e304ff98ebc000dbe3ef224f4637dbafd46ba70/expr.ipynb\"><img src=\"../../../../__pv_it/53e304ff98ebc000dbe3ef224f4637dbafd46ba70/expr.png\" style=\"display:inline;vertical-align:middle;\" /></a></td></tr>\n",
       "</table>\n"
      ],
      "text/plain": [
       "0. (a, b) -> {(a^{n} * b^{n}) = (a * b)^{n} if a in Complexes ,  b in Complexes ,  a != 0 ,  b != 0.\n",
       "   core type: Lambda\n",
       "   parameters: 31\\n   body: 1\n",
       "1. {(a^{n} * b^{n}) = (a * b)^{n} if a in Complexes ,  b in Complexes ,  a != 0 ,  b != 0.\n",
       "   core type: Conditional\n",
       "   value: 2\n",
       "   condition: 3\n",
       "2. (a^{n} * b^{n}) = (a * b)^{n}\n",
       "   core type: Operation\n",
       "   operator: 4\n",
       "   operands: 5\n",
       "3. (a in Complexes) and (b in Complexes) and (a != 0) and (b != 0)\n",
       "   core type: Operation\n",
       "   operator: 6\n",
       "   operands: 7\n",
       "4. =\n",
       "   core type: Literal\n",
       "   sub-expressions: \n",
       "5. (a^{n} * b^{n}, (a * b)^{n})\n",
       "   core type: ExprTuple\n",
       "   sub-expressions: 8, 9\n",
       "6. and\n",
       "   core type: Literal\n",
       "   sub-expressions: \n",
       "7. (a in Complexes, b in Complexes, a != 0, b != 0)\n",
       "   core type: ExprTuple\n",
       "   sub-expressions: 10, 11, 12, 13\n",
       "8. a^{n} * b^{n}\n",
       "   core type: Operation\n",
       "   operator: 30\n",
       "   operands: 14\n",
       "9. (a * b)^{n}\n",
       "   core type: Operation\n",
       "   operator: 28\n",
       "   operands: 15\n",
       "10. a in Complexes\n",
       "    core type: Operation\n",
       "    operator: 17\n",
       "    operands: 16\n",
       "11. b in Complexes\n",
       "    core type: Operation\n",
       "    operator: 17\n",
       "    operands: 18\n",
       "12. a != 0\n",
       "    core type: Operation\n",
       "    operator: 20\n",
       "    operands: 19\n",
       "13. b != 0\n",
       "    core type: Operation\n",
       "    operator: 20\n",
       "    operands: 21\n",
       "14. (a^{n}, b^{n})\n",
       "    core type: ExprTuple\n",
       "    sub-expressions: 22, 23\n",
       "15. (a * b, n)\n",
       "    core type: ExprTuple\n",
       "    sub-expressions: 24, 32\n",
       "16. (a, Complexes)\n",
       "    core type: ExprTuple\n",
       "    sub-expressions: 33, 25\n",
       "17. in\n",
       "    core type: Literal\n",
       "    sub-expressions: \n",
       "18. (b, Complexes)\n",
       "    core type: ExprTuple\n",
       "    sub-expressions: 34, 25\n",
       "19. (a, 0)\n",
       "    core type: ExprTuple\n",
       "    sub-expressions: 33, 26\n",
       "20. !=\n",
       "    core type: Literal\n",
       "    sub-expressions: \n",
       "21. (b, 0)\n",
       "    core type: ExprTuple\n",
       "    sub-expressions: 34, 26\n",
       "22. a^{n}\n",
       "    core type: Operation\n",
       "    operator: 28\n",
       "    operands: 27\n",
       "23. b^{n}\n",
       "    core type: Operation\n",
       "    operator: 28\n",
       "    operands: 29\n",
       "24. a * b\n",
       "    core type: Operation\n",
       "    operator: 30\n",
       "    operands: 31\n",
       "25. Complexes\n",
       "    core type: Literal\n",
       "    sub-expressions: \n",
       "26. 0\n",
       "    core type: Literal\n",
       "    sub-expressions: \n",
       "27. (a, n)\n",
       "    core type: ExprTuple\n",
       "    sub-expressions: 33, 32\n",
       "28. Exp\n",
       "    core type: Literal\n",
       "    sub-expressions: \n",
       "29. (b, n)\n",
       "    core type: ExprTuple\n",
       "    sub-expressions: 34, 32\n",
       "30. *\n",
       "    core type: Literal\n",
       "    sub-expressions: \n",
       "31. (a, b)\n",
       "    core type: ExprTuple\n",
       "    sub-expressions: 33, 34\n",
       "32. n\n",
       "    core type: Variable\n",
       "    sub-expressions: \n",
       "33. a\n",
       "    core type: Variable\n",
       "    sub-expressions: \n",
       "34. b\n",
       "    core type: Variable\n",
       "    sub-expressions: "
      ]
     },
     "execution_count": 5,
     "metadata": {},
     "output_type": "execute_result"
    }
   ],
   "source": [
    "# display the expression information\n",
    "expr.exprInfo()"
   ]
  },
  {
   "cell_type": "code",
   "execution_count": null,
   "metadata": {},
   "outputs": [],
   "source": []
  }
 ],
 "metadata": {
  "kernelspec": {
   "display_name": "Python 3",
   "language": "python",
   "name": "python3"
  },
  "language_info": {
   "codemirror_mode": {
    "name": "ipython",
    "version": 3
   },
   "file_extension": ".py",
   "mimetype": "text/x-python",
   "name": "python",
   "nbconvert_exporter": "python",
   "pygments_lexer": "ipython3",
   "version": "3.7.3"
  }
 },
 "nbformat": 4,
 "nbformat_minor": 1
}
