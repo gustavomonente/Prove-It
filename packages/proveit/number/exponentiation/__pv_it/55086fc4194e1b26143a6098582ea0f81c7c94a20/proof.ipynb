{
 "cells": [
  {
   "cell_type": "markdown",
   "metadata": {},
   "source": [
    "Show the Proof\n",
    "========"
   ]
  },
  {
   "cell_type": "code",
   "execution_count": 1,
   "metadata": {},
   "outputs": [
    {
     "data": {
      "text/html": [
       "<table><tr><th>&nbsp;</th><th>step type</th><th>requirements</th><th>statement</th></tr>\n",
       "<tr><td><a name=\"proveit.number.exponentiation.55086fc4194e1b26143a6098582ea0f81c7c94a20_step0\">0</a></td><td>instantiation</td><td><a href=\"#proveit.number.exponentiation.55086fc4194e1b26143a6098582ea0f81c7c94a20_step1\">1</a>, <a href=\"#proveit.number.exponentiation.55086fc4194e1b26143a6098582ea0f81c7c94a20_step2\">2</a>, <a href=\"#proveit.number.exponentiation.55086fc4194e1b26143a6098582ea0f81c7c94a20_step3\">3</a>, <a href=\"#proveit.number.exponentiation.55086fc4194e1b26143a6098582ea0f81c7c94a20_step4\">4</a></td><td><span style=\"font-size:20px;\"><a class=\"ProveItLink\" href=\"../7dbb5e4e8ea325ca04770e7b65418e6c05f6f93f0/expr.ipynb\"><img src=\"../7dbb5e4e8ea325ca04770e7b65418e6c05f6f93f0/expr.png\" style=\"display:inline;vertical-align:middle;\" /></a> <a class=\"ProveItLink\" href=\"proof.ipynb\" style=\"text-decoration: none\">&#x22A2;&nbsp;</a><a class=\"ProveItLink\" href=\"../aa17794101fd9e46525f891eb46f52e33b07e7b40/expr.ipynb\"><img src=\"../aa17794101fd9e46525f891eb46f52e33b07e7b40/expr.png\" style=\"display:inline;vertical-align:middle;\" /></a></span></td></tr>\n",
       "<tr><td>&nbsp;</td><td colspan=4 style=\"text-align:left\"><span style=\"font-size:20px;\"><a class=\"ProveItLink\" href=\"../../../../__pv_it/d3792d0d8642fdf1cd2a3a9b32c673ee13653de00/expr.ipynb\"><img src=\"../../../../__pv_it/d3792d0d8642fdf1cd2a3a9b32c673ee13653de00/expr.png\" style=\"display:inline;vertical-align:middle;\" /></a> : <a class=\"ProveItLink\" href=\"../1eea5dfa21004fe0df8e8466582a4a5d259ea67a0/expr.ipynb\"><img src=\"../1eea5dfa21004fe0df8e8466582a4a5d259ea67a0/expr.png\" style=\"display:inline;vertical-align:middle;\" /></a>, <a class=\"ProveItLink\" href=\"../../../../__pv_it/4d98b438710c5ada9ffa4646bb123a7d0e69ec000/expr.ipynb\"><img src=\"../../../../__pv_it/4d98b438710c5ada9ffa4646bb123a7d0e69ec000/expr.png\" style=\"display:inline;vertical-align:middle;\" /></a> : <a class=\"ProveItLink\" href=\"../1669629c92930e85a239158019db940a92a080c90/expr.ipynb\"><img src=\"../1669629c92930e85a239158019db940a92a080c90/expr.png\" style=\"display:inline;vertical-align:middle;\" /></a></span></td></tr><tr><td><a name=\"proveit.number.exponentiation.55086fc4194e1b26143a6098582ea0f81c7c94a20_step1\">1</a></td><td>theorem</td><td></td><td><span style=\"font-size:20px;\"> <a class=\"ProveItLink\" href=\"../../../../logic/boolean/disjunction/_proofs_/orIfRight.ipynb\" style=\"text-decoration: none\">&#x22A2;&nbsp;</a><a class=\"ProveItLink\" href=\"../3a7a6aac179fbbacccc2d3bec83ba23f7879c63d0/expr.ipynb\"><img src=\"../3a7a6aac179fbbacccc2d3bec83ba23f7879c63d0/expr.png\" style=\"display:inline;vertical-align:middle;\" /></a></span></td></tr>\n",
       "<tr><td>&nbsp;</td><td colspan=4 style-\"text-align:left\"><a class=\"ProveItLink\" href=\"../../../../logic/boolean/disjunction/_proofs_/orIfRight.ipynb\">proveit.logic.boolean.disjunction.orIfRight</a></td></tr><tr><td><a name=\"proveit.number.exponentiation.55086fc4194e1b26143a6098582ea0f81c7c94a20_step2\">2</a></td><td>assumption</td><td></td><td><span style=\"font-size:20px;\"><a class=\"ProveItLink\" href=\"../484d8f3708f953b0ffca10cdf5079ad4dc31f0a90/expr.ipynb\"><img src=\"../484d8f3708f953b0ffca10cdf5079ad4dc31f0a90/expr.png\" style=\"display:inline;vertical-align:middle;\" /></a> <a class=\"ProveItLink\" href=\"../e28483470f7c128fbc8813e12511f7cf7be5e9480/proof.ipynb\" style=\"text-decoration: none\">&#x22A2;&nbsp;</a><a class=\"ProveItLink\" href=\"../ae6d0b7ea840f56054d7f850ae480f862349b21b0/expr.ipynb\"><img src=\"../ae6d0b7ea840f56054d7f850ae480f862349b21b0/expr.png\" style=\"display:inline;vertical-align:middle;\" /></a></span></td></tr>\n",
       "<tr><td><a name=\"proveit.number.exponentiation.55086fc4194e1b26143a6098582ea0f81c7c94a20_step3\">3</a></td><td>instantiation</td><td><a href=\"#proveit.number.exponentiation.55086fc4194e1b26143a6098582ea0f81c7c94a20_step5\">5</a>, <a href=\"#proveit.number.exponentiation.55086fc4194e1b26143a6098582ea0f81c7c94a20_step6\">6</a>, <a href=\"#proveit.number.exponentiation.55086fc4194e1b26143a6098582ea0f81c7c94a20_step7\">7</a></td><td><span style=\"font-size:20px;\"><a class=\"ProveItLink\" href=\"../eaff5b448a1c50686c7bd674cafb51fa12a196ae0/expr.ipynb\"><img src=\"../eaff5b448a1c50686c7bd674cafb51fa12a196ae0/expr.png\" style=\"display:inline;vertical-align:middle;\" /></a> <a class=\"ProveItLink\" href=\"../651779d4241239753c6e0f5261047b6979120ff40/proof.ipynb\" style=\"text-decoration: none\">&#x22A2;&nbsp;</a><a class=\"ProveItLink\" href=\"../526f4bfdacf73f8af57e70c6b890d68b3f0ed1d80/expr.ipynb\"><img src=\"../526f4bfdacf73f8af57e70c6b890d68b3f0ed1d80/expr.png\" style=\"display:inline;vertical-align:middle;\" /></a></span></td></tr>\n",
       "<tr><td>&nbsp;</td><td colspan=4 style=\"text-align:left\"><span style=\"font-size:20px;\"><a class=\"ProveItLink\" href=\"../6adf35e534b0f74f25bdd03c03dfd88a84b3ace50/expr.ipynb\"><img src=\"../6adf35e534b0f74f25bdd03c03dfd88a84b3ace50/expr.png\" style=\"display:inline;vertical-align:middle;\" /></a> : <a class=\"ProveItLink\" href=\"../7f5851d30d9071ac5add92b1415dd8c1d59a5c620/expr.ipynb\"><img src=\"../7f5851d30d9071ac5add92b1415dd8c1d59a5c620/expr.png\" style=\"display:inline;vertical-align:middle;\" /></a>, <a class=\"ProveItLink\" href=\"../../../../__pv_it/72df168d2bfb4e0140af90912ebf83b13772060b0/expr.ipynb\"><img src=\"../../../../__pv_it/72df168d2bfb4e0140af90912ebf83b13772060b0/expr.png\" style=\"display:inline;vertical-align:middle;\" /></a> : <a class=\"ProveItLink\" href=\"../1669629c92930e85a239158019db940a92a080c90/expr.ipynb\"><img src=\"../1669629c92930e85a239158019db940a92a080c90/expr.png\" style=\"display:inline;vertical-align:middle;\" /></a></span></td></tr><tr><td><a name=\"proveit.number.exponentiation.55086fc4194e1b26143a6098582ea0f81c7c94a20_step4\">4</a></td><td><i>reference</i></td><td><a href=\"#proveit.number.exponentiation.55086fc4194e1b26143a6098582ea0f81c7c94a20_step7\">7</a></td><td><span style=\"font-size:20px;\"><a class=\"ProveItLink\" href=\"../eaff5b448a1c50686c7bd674cafb51fa12a196ae0/expr.ipynb\"><img src=\"../eaff5b448a1c50686c7bd674cafb51fa12a196ae0/expr.png\" style=\"display:inline;vertical-align:middle;\" /></a> <a class=\"ProveItLink\" href=\"../6ef50cce1eb68e625c7d123e4a533872ba6bf5aa0/proof.ipynb\" style=\"text-decoration: none\">&#x22A2;&nbsp;</a><a class=\"ProveItLink\" href=\"../1669629c92930e85a239158019db940a92a080c90/expr.ipynb\"><img src=\"../1669629c92930e85a239158019db940a92a080c90/expr.png\" style=\"display:inline;vertical-align:middle;\" /></a></span></td></tr>\n",
       "<tr><td><a name=\"proveit.number.exponentiation.55086fc4194e1b26143a6098582ea0f81c7c94a20_step5\">5</a></td><td>theorem</td><td></td><td><span style=\"font-size:20px;\"> <a class=\"ProveItLink\" href=\"../../../../logic/equality/_proofs_/substituteTruth.ipynb\" style=\"text-decoration: none\">&#x22A2;&nbsp;</a><a class=\"ProveItLink\" href=\"../c2cb97100b117f143ca3c09a77f75b44bb41e6160/expr.ipynb\"><img src=\"../c2cb97100b117f143ca3c09a77f75b44bb41e6160/expr.png\" style=\"display:inline;vertical-align:middle;\" /></a></span></td></tr>\n",
       "<tr><td>&nbsp;</td><td colspan=4 style-\"text-align:left\"><a class=\"ProveItLink\" href=\"../../../../logic/equality/_proofs_/substituteTruth.ipynb\">proveit.logic.equality.substituteTruth</a></td></tr><tr><td><a name=\"proveit.number.exponentiation.55086fc4194e1b26143a6098582ea0f81c7c94a20_step6\">6</a></td><td>theorem</td><td></td><td><span style=\"font-size:20px;\"> <a class=\"ProveItLink\" href=\"../../../../logic/boolean/_proofs_/trueInBool.ipynb\" style=\"text-decoration: none\">&#x22A2;&nbsp;</a><a class=\"ProveItLink\" href=\"../2f88e5c6f7ea7ef0da11c50a533a1f221022588f0/expr.ipynb\"><img src=\"../2f88e5c6f7ea7ef0da11c50a533a1f221022588f0/expr.png\" style=\"display:inline;vertical-align:middle;\" /></a></span></td></tr>\n",
       "<tr><td>&nbsp;</td><td colspan=4 style-\"text-align:left\"><a class=\"ProveItLink\" href=\"../../../../logic/boolean/_proofs_/trueInBool.ipynb\">proveit.logic.boolean.trueInBool</a></td></tr><tr><td><a name=\"proveit.number.exponentiation.55086fc4194e1b26143a6098582ea0f81c7c94a20_step7\">7</a></td><td>instantiation</td><td><a href=\"#proveit.number.exponentiation.55086fc4194e1b26143a6098582ea0f81c7c94a20_step8\">8</a>, <a href=\"#proveit.number.exponentiation.55086fc4194e1b26143a6098582ea0f81c7c94a20_step9\">9</a>, <a href=\"#proveit.number.exponentiation.55086fc4194e1b26143a6098582ea0f81c7c94a20_step10\">10</a></td><td><span style=\"font-size:20px;\"><a class=\"ProveItLink\" href=\"../eaff5b448a1c50686c7bd674cafb51fa12a196ae0/expr.ipynb\"><img src=\"../eaff5b448a1c50686c7bd674cafb51fa12a196ae0/expr.png\" style=\"display:inline;vertical-align:middle;\" /></a> <a class=\"ProveItLink\" href=\"../6ef50cce1eb68e625c7d123e4a533872ba6bf5aa0/proof.ipynb\" style=\"text-decoration: none\">&#x22A2;&nbsp;</a><a class=\"ProveItLink\" href=\"../1669629c92930e85a239158019db940a92a080c90/expr.ipynb\"><img src=\"../1669629c92930e85a239158019db940a92a080c90/expr.png\" style=\"display:inline;vertical-align:middle;\" /></a></span></td></tr>\n",
       "<tr><td>&nbsp;</td><td colspan=4 style=\"text-align:left\"><span style=\"font-size:20px;\"><a class=\"ProveItLink\" href=\"../../../../__pv_it/d3792d0d8642fdf1cd2a3a9b32c673ee13653de00/expr.ipynb\"><img src=\"../../../../__pv_it/d3792d0d8642fdf1cd2a3a9b32c673ee13653de00/expr.png\" style=\"display:inline;vertical-align:middle;\" /></a> : <a class=\"ProveItLink\" href=\"../f7e60e3b1013e8222ec43ecf6cf92b45259bf3790/expr.ipynb\"><img src=\"../f7e60e3b1013e8222ec43ecf6cf92b45259bf3790/expr.png\" style=\"display:inline;vertical-align:middle;\" /></a>, <a class=\"ProveItLink\" href=\"../../../../__pv_it/4d98b438710c5ada9ffa4646bb123a7d0e69ec000/expr.ipynb\"><img src=\"../../../../__pv_it/4d98b438710c5ada9ffa4646bb123a7d0e69ec000/expr.png\" style=\"display:inline;vertical-align:middle;\" /></a> : <a class=\"ProveItLink\" href=\"../a763a6ec81d33d22585c8b789163dd781e9952820/expr.ipynb\"><img src=\"../a763a6ec81d33d22585c8b789163dd781e9952820/expr.png\" style=\"display:inline;vertical-align:middle;\" /></a></span></td></tr><tr><td><a name=\"proveit.number.exponentiation.55086fc4194e1b26143a6098582ea0f81c7c94a20_step8\">8</a></td><td>theorem</td><td></td><td><span style=\"font-size:20px;\"> <a class=\"ProveItLink\" href=\"../../../../logic/boolean/conjunction/_proofs_/andIfBoth.ipynb\" style=\"text-decoration: none\">&#x22A2;&nbsp;</a><a class=\"ProveItLink\" href=\"../526f02ab2f02f76e485d5804e471a3e5f26f82d60/expr.ipynb\"><img src=\"../526f02ab2f02f76e485d5804e471a3e5f26f82d60/expr.png\" style=\"display:inline;vertical-align:middle;\" /></a></span></td></tr>\n",
       "<tr><td>&nbsp;</td><td colspan=4 style-\"text-align:left\"><a class=\"ProveItLink\" href=\"../../../../logic/boolean/conjunction/_proofs_/andIfBoth.ipynb\">proveit.logic.boolean.conjunction.andIfBoth</a></td></tr><tr><td><a name=\"proveit.number.exponentiation.55086fc4194e1b26143a6098582ea0f81c7c94a20_step9\">9</a></td><td>assumption</td><td></td><td><span style=\"font-size:20px;\"><a class=\"ProveItLink\" href=\"../d188147692fe55d35030a059c1fbacd0e691e13a0/expr.ipynb\"><img src=\"../d188147692fe55d35030a059c1fbacd0e691e13a0/expr.png\" style=\"display:inline;vertical-align:middle;\" /></a> <a class=\"ProveItLink\" href=\"../d4172ebeab11f19a76929b50643a34138d461aaa0/proof.ipynb\" style=\"text-decoration: none\">&#x22A2;&nbsp;</a><a class=\"ProveItLink\" href=\"../f7e60e3b1013e8222ec43ecf6cf92b45259bf3790/expr.ipynb\"><img src=\"../f7e60e3b1013e8222ec43ecf6cf92b45259bf3790/expr.png\" style=\"display:inline;vertical-align:middle;\" /></a></span></td></tr>\n",
       "<tr><td><a name=\"proveit.number.exponentiation.55086fc4194e1b26143a6098582ea0f81c7c94a20_step10\">10</a></td><td>assumption</td><td></td><td><span style=\"font-size:20px;\"><a class=\"ProveItLink\" href=\"../d44d77bbd307e020b527043c1a17a749804ff4b60/expr.ipynb\"><img src=\"../d44d77bbd307e020b527043c1a17a749804ff4b60/expr.png\" style=\"display:inline;vertical-align:middle;\" /></a> <a class=\"ProveItLink\" href=\"../8ffe3fc598aaf893d2217a04df20aa9dc93ffc670/proof.ipynb\" style=\"text-decoration: none\">&#x22A2;&nbsp;</a><a class=\"ProveItLink\" href=\"../a763a6ec81d33d22585c8b789163dd781e9952820/expr.ipynb\"><img src=\"../a763a6ec81d33d22585c8b789163dd781e9952820/expr.png\" style=\"display:inline;vertical-align:middle;\" /></a></span></td></tr>\n",
       "</table>"
      ],
      "text/plain": [
       "<proveit._core_.proof._ShowProof at 0x7f5b99209e80>"
      ]
     },
     "execution_count": 1,
     "metadata": {},
     "output_type": "execute_result"
    }
   ],
   "source": [
    "import proveit\n",
    "# Automation is not needed when only showing a stored proof:\n",
    "proveit.defaults.automation = False # This will speed things up.\n",
    "proveit.defaults.inline_pngs = False # Makes files smaller.\n",
    "%show_proof"
   ]
  },
  {
   "cell_type": "code",
   "execution_count": null,
   "metadata": {},
   "outputs": [],
   "source": []
  }
 ],
 "metadata": {
  "kernelspec": {
   "display_name": "Python 3",
   "language": "python",
   "name": "python3"
  },
  "language_info": {
   "codemirror_mode": {
    "name": "ipython",
    "version": 3
   },
   "file_extension": ".py",
   "mimetype": "text/x-python",
   "name": "python",
   "nbconvert_exporter": "python",
   "pygments_lexer": "ipython3",
   "version": "3.7.3"
  }
 },
 "nbformat": 4,
 "nbformat_minor": 1
}
