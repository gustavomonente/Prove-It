{
 "cells": [
  {
   "cell_type": "markdown",
   "metadata": {},
   "source": [
    "Expression of type <a class=\"ProveItLink\" href=\"../../../../../../doc/html/api/proveit.Conditional.html\">Conditional</a>\n",
    "=======================\n",
    "# from context <a class=\"ProveItLink\" href=\"../../_context_.ipynb\">proveit.number.exponentiation</a>"
   ]
  },
  {
   "cell_type": "code",
   "execution_count": 1,
   "metadata": {},
   "outputs": [],
   "source": [
    "import proveit\n",
    "# Automation is not needed when building an expression:\n",
    "proveit.defaults.automation = False # This will speed things up.\n",
    "proveit.defaults.inline_pngs = False # Makes files smaller.\n",
    "# import Expression classes needed to build the expression\n",
    "from proveit import Conditional\n",
    "from proveit._common_ import a\n",
    "from proveit.logic import And, InSet\n",
    "from proveit.number import GreaterEq, Reals, sqrt, zero"
   ]
  },
  {
   "cell_type": "code",
   "execution_count": 2,
   "metadata": {},
   "outputs": [
    {
     "data": {
      "text/html": [
       "<strong id=\"expr\">expr:</strong> <a class=\"ProveItLink\" href=\"expr.ipynb\"><img src=\"expr.png\" style=\"display:inline;vertical-align:middle;\" /></a><br>"
      ],
      "text/plain": [
       "expr: {sqrt(a) in Reals if a in Reals ,  a >= 0."
      ]
     },
     "execution_count": 2,
     "metadata": {},
     "output_type": "execute_result"
    }
   ],
   "source": [
    "# build up the expression from sub-expressions\n",
    "expr = Conditional(InSet(sqrt(a), Reals), And(InSet(a, Reals), GreaterEq(a, zero)))"
   ]
  },
  {
   "cell_type": "code",
   "execution_count": 3,
   "metadata": {},
   "outputs": [
    {
     "name": "stdout",
     "output_type": "stream",
     "text": [
      "Passed sanity check: built 'expr' is the same as the stored Expression.\n"
     ]
    }
   ],
   "source": [
    "# check that the built expression is the same as the stored expression\n",
    "%check_expr"
   ]
  },
  {
   "cell_type": "code",
   "execution_count": 4,
   "metadata": {},
   "outputs": [
    {
     "name": "stdout",
     "output_type": "stream",
     "text": [
      "\\left\\{\\sqrt{a} \\in \\mathbb{R} \\textrm{ if } a \\in \\mathbb{R} ,  a \\geq 0\\right..\n"
     ]
    }
   ],
   "source": [
    "# Show the LaTeX representation of the expression for convenience if you need it.\n",
    "print(expr.latex())"
   ]
  },
  {
   "cell_type": "code",
   "execution_count": 5,
   "metadata": {},
   "outputs": [
    {
     "data": {
      "text/html": [
       "<table><tr><th>&nbsp;</th><th>core type</th><th>sub-expressions</th><th>expression</th></tr>\n",
       "<tr><td>0</td><td>Conditional</td><td>value:&nbsp;1<br>condition:&nbsp;2<br></td><td><a class=\"ProveItLink\" href=\"expr.ipynb\"><img src=\"expr.png\" style=\"display:inline;vertical-align:middle;\" /></a></td></tr>\n",
       "<tr><td>1</td><td>Operation</td><td>operator:&nbsp;11<br>operands:&nbsp;3<br></td><td><a class=\"ProveItLink\" href=\"../00d19ed321988ef186fcbc3939fa016ebc37f8d20/expr.ipynb\"><img src=\"../00d19ed321988ef186fcbc3939fa016ebc37f8d20/expr.png\" style=\"display:inline;vertical-align:middle;\" /></a></td></tr>\n",
       "<tr><td>2</td><td>Operation</td><td>operator:&nbsp;4<br>operands:&nbsp;5<br></td><td><a class=\"ProveItLink\" href=\"../6cf6c0b059b9553a1eb13d6f993ff31c461901ba0/expr.ipynb\"><img src=\"../6cf6c0b059b9553a1eb13d6f993ff31c461901ba0/expr.png\" style=\"display:inline;vertical-align:middle;\" /></a></td></tr>\n",
       "<tr><td>3</td><td>ExprTuple</td><td>6, 16</td><td><a class=\"ProveItLink\" href=\"../0769f682d2eb2b206b35617b5e1352a012983a370/expr.ipynb\"><img src=\"../0769f682d2eb2b206b35617b5e1352a012983a370/expr.png\" style=\"display:inline;vertical-align:middle;\" /></a></td></tr>\n",
       "<tr><td>4</td><td>Literal</td><td></td><td><a class=\"ProveItLink\" href=\"../../../../logic/boolean/conjunction/__pv_it/f41cc6b553210927c09f19a8a39cdf860a5585930/expr.ipynb\"><img src=\"../../../../logic/boolean/conjunction/__pv_it/f41cc6b553210927c09f19a8a39cdf860a5585930/expr.png\" style=\"display:inline;vertical-align:middle;\" /></a></td></tr>\n",
       "<tr><td>5</td><td>ExprTuple</td><td>7, 8</td><td><a class=\"ProveItLink\" href=\"../d8287c551eb81b49414cda4b8446824e6df2a7f70/expr.ipynb\"><img src=\"../d8287c551eb81b49414cda4b8446824e6df2a7f70/expr.png\" style=\"display:inline;vertical-align:middle;\" /></a></td></tr>\n",
       "<tr><td>6</td><td>Operation</td><td>operator:&nbsp;9<br>operands:&nbsp;10<br></td><td><a class=\"ProveItLink\" href=\"../fc7a4adb8c29281c5d1021559187c41258c528710/expr.ipynb\"><img src=\"../fc7a4adb8c29281c5d1021559187c41258c528710/expr.png\" style=\"display:inline;vertical-align:middle;\" /></a></td></tr>\n",
       "<tr><td>7</td><td>Operation</td><td>operator:&nbsp;11<br>operands:&nbsp;12<br></td><td><a class=\"ProveItLink\" href=\"../35226e3b3cf6462229df8a060308fe0fc48ffc210/expr.ipynb\"><img src=\"../35226e3b3cf6462229df8a060308fe0fc48ffc210/expr.png\" style=\"display:inline;vertical-align:middle;\" /></a></td></tr>\n",
       "<tr><td>8</td><td>Operation</td><td>operator:&nbsp;13<br>operands:&nbsp;14<br></td><td><a class=\"ProveItLink\" href=\"../dbab4aed40013c5e775a44b2b55b9a314326cea50/expr.ipynb\"><img src=\"../dbab4aed40013c5e775a44b2b55b9a314326cea50/expr.png\" style=\"display:inline;vertical-align:middle;\" /></a></td></tr>\n",
       "<tr><td>9</td><td>Literal</td><td></td><td><a class=\"ProveItLink\" href=\"../fca8e4218e687a7bc372d4b4009101e95bae518f0/expr.ipynb\"><img src=\"../fca8e4218e687a7bc372d4b4009101e95bae518f0/expr.png\" style=\"display:inline;vertical-align:middle;\" /></a></td></tr>\n",
       "<tr><td>10</td><td>ExprTuple</td><td>17, 15</td><td><a class=\"ProveItLink\" href=\"../689c075f60648ea6c7ec550275ee1387e1b884f40/expr.ipynb\"><img src=\"../689c075f60648ea6c7ec550275ee1387e1b884f40/expr.png\" style=\"display:inline;vertical-align:middle;\" /></a></td></tr>\n",
       "<tr><td>11</td><td>Literal</td><td></td><td><a class=\"ProveItLink\" href=\"../../../../logic/set_theory/membership/__pv_it/7776fc89cb67d0b5b1ec2c0c8e08da5587921ccf0/expr.ipynb\"><img src=\"../../../../logic/set_theory/membership/__pv_it/7776fc89cb67d0b5b1ec2c0c8e08da5587921ccf0/expr.png\" style=\"display:inline;vertical-align:middle;\" /></a></td></tr>\n",
       "<tr><td>12</td><td>ExprTuple</td><td>17, 16</td><td><a class=\"ProveItLink\" href=\"../d73177ba22ffd806557aed22bce46d6c8254bd730/expr.ipynb\"><img src=\"../d73177ba22ffd806557aed22bce46d6c8254bd730/expr.png\" style=\"display:inline;vertical-align:middle;\" /></a></td></tr>\n",
       "<tr><td>13</td><td>Literal</td><td></td><td><a class=\"ProveItLink\" href=\"../../../ordering/__pv_it/cef35580c31dcaee082f4b9a008104845b0dfa860/expr.ipynb\"><img src=\"../../../ordering/__pv_it/cef35580c31dcaee082f4b9a008104845b0dfa860/expr.png\" style=\"display:inline;vertical-align:middle;\" /></a></td></tr>\n",
       "<tr><td>14</td><td>ExprTuple</td><td>17, 18</td><td><a class=\"ProveItLink\" href=\"../26fbcc07c305c1ee76b1222676cfe7ebde8ae0490/expr.ipynb\"><img src=\"../26fbcc07c305c1ee76b1222676cfe7ebde8ae0490/expr.png\" style=\"display:inline;vertical-align:middle;\" /></a></td></tr>\n",
       "<tr><td>15</td><td>Operation</td><td>operator:&nbsp;19<br>operands:&nbsp;20<br></td><td><a class=\"ProveItLink\" href=\"../802dee724b9318af22b4f017a8f9de752aa8e4fa0/expr.ipynb\"><img src=\"../802dee724b9318af22b4f017a8f9de752aa8e4fa0/expr.png\" style=\"display:inline;vertical-align:middle;\" /></a></td></tr>\n",
       "<tr><td>16</td><td>Literal</td><td></td><td><a class=\"ProveItLink\" href=\"../../../sets/real/__pv_it/83c2d223a7b04200651811c8b29e747fd8f853510/expr.ipynb\"><img src=\"../../../sets/real/__pv_it/83c2d223a7b04200651811c8b29e747fd8f853510/expr.png\" style=\"display:inline;vertical-align:middle;\" /></a></td></tr>\n",
       "<tr><td>17</td><td>Variable</td><td></td><td><a class=\"ProveItLink\" href=\"../../../../__pv_it/a8d4b3a34d2189508f9082853fbac36935714f280/expr.ipynb\"><img src=\"../../../../__pv_it/a8d4b3a34d2189508f9082853fbac36935714f280/expr.png\" style=\"display:inline;vertical-align:middle;\" /></a></td></tr>\n",
       "<tr><td>18</td><td>Literal</td><td></td><td><a class=\"ProveItLink\" href=\"../../../numeral/__pv_it/bcb6bc33e5975ec2290a3272bf7802d26ab8421d0/expr.ipynb\"><img src=\"../../../numeral/__pv_it/bcb6bc33e5975ec2290a3272bf7802d26ab8421d0/expr.png\" style=\"display:inline;vertical-align:middle;\" /></a></td></tr>\n",
       "<tr><td>19</td><td>Literal</td><td></td><td><a class=\"ProveItLink\" href=\"../../../division/__pv_it/7a11ad25d6e61156459ac6819a1cec8fded2dde30/expr.ipynb\"><img src=\"../../../division/__pv_it/7a11ad25d6e61156459ac6819a1cec8fded2dde30/expr.png\" style=\"display:inline;vertical-align:middle;\" /></a></td></tr>\n",
       "<tr><td>20</td><td>ExprTuple</td><td>21, 22</td><td><a class=\"ProveItLink\" href=\"../870fe229b3bbe6904a72bc2b38613787bd64cb3d0/expr.ipynb\"><img src=\"../870fe229b3bbe6904a72bc2b38613787bd64cb3d0/expr.png\" style=\"display:inline;vertical-align:middle;\" /></a></td></tr>\n",
       "<tr><td>21</td><td>Literal</td><td></td><td><a class=\"ProveItLink\" href=\"../../../numeral/__pv_it/f086f8c372bd40a2458306ddfdbb29f3dc6f63030/expr.ipynb\"><img src=\"../../../numeral/__pv_it/f086f8c372bd40a2458306ddfdbb29f3dc6f63030/expr.png\" style=\"display:inline;vertical-align:middle;\" /></a></td></tr>\n",
       "<tr><td>22</td><td>Literal</td><td></td><td><a class=\"ProveItLink\" href=\"../../../numeral/__pv_it/fb4ccffdbfd0f653ebaacb95e7ff4802fd48a6f20/expr.ipynb\"><img src=\"../../../numeral/__pv_it/fb4ccffdbfd0f653ebaacb95e7ff4802fd48a6f20/expr.png\" style=\"display:inline;vertical-align:middle;\" /></a></td></tr>\n",
       "</table>\n"
      ],
      "text/plain": [
       "0. {sqrt(a) in Reals if a in Reals ,  a >= 0.\n",
       "   core type: Conditional\n",
       "   value: 1\n",
       "   condition: 2\n",
       "1. sqrt(a) in Reals\n",
       "   core type: Operation\n",
       "   operator: 11\n",
       "   operands: 3\n",
       "2. (a in Reals) and (a >= 0)\n",
       "   core type: Operation\n",
       "   operator: 4\n",
       "   operands: 5\n",
       "3. (sqrt(a), Reals)\n",
       "   core type: ExprTuple\n",
       "   sub-expressions: 6, 16\n",
       "4. and\n",
       "   core type: Literal\n",
       "   sub-expressions: \n",
       "5. (a in Reals, a >= 0)\n",
       "   core type: ExprTuple\n",
       "   sub-expressions: 7, 8\n",
       "6. sqrt(a)\n",
       "   core type: Operation\n",
       "   operator: 9\n",
       "   operands: 10\n",
       "7. a in Reals\n",
       "   core type: Operation\n",
       "   operator: 11\n",
       "   operands: 12\n",
       "8. a >= 0\n",
       "   core type: Operation\n",
       "   operator: 13\n",
       "   operands: 14\n",
       "9. Exp\n",
       "   core type: Literal\n",
       "   sub-expressions: \n",
       "10. (a, 1 / 2)\n",
       "    core type: ExprTuple\n",
       "    sub-expressions: 17, 15\n",
       "11. in\n",
       "    core type: Literal\n",
       "    sub-expressions: \n",
       "12. (a, Reals)\n",
       "    core type: ExprTuple\n",
       "    sub-expressions: 17, 16\n",
       "13. >=\n",
       "    core type: Literal\n",
       "    sub-expressions: \n",
       "14. (a, 0)\n",
       "    core type: ExprTuple\n",
       "    sub-expressions: 17, 18\n",
       "15. 1 / 2\n",
       "    core type: Operation\n",
       "    operator: 19\n",
       "    operands: 20\n",
       "16. Reals\n",
       "    core type: Literal\n",
       "    sub-expressions: \n",
       "17. a\n",
       "    core type: Variable\n",
       "    sub-expressions: \n",
       "18. 0\n",
       "    core type: Literal\n",
       "    sub-expressions: \n",
       "19. /\n",
       "    core type: Literal\n",
       "    sub-expressions: \n",
       "20. (1, 2)\n",
       "    core type: ExprTuple\n",
       "    sub-expressions: 21, 22\n",
       "21. 1\n",
       "    core type: Literal\n",
       "    sub-expressions: \n",
       "22. 2\n",
       "    core type: Literal\n",
       "    sub-expressions: "
      ]
     },
     "execution_count": 5,
     "metadata": {},
     "output_type": "execute_result"
    }
   ],
   "source": [
    "# display the expression information\n",
    "expr.exprInfo()"
   ]
  },
  {
   "cell_type": "code",
   "execution_count": null,
   "metadata": {},
   "outputs": [],
   "source": []
  }
 ],
 "metadata": {
  "kernelspec": {
   "display_name": "Python 3",
   "language": "python",
   "name": "python3"
  },
  "language_info": {
   "codemirror_mode": {
    "name": "ipython",
    "version": 3
   },
   "file_extension": ".py",
   "mimetype": "text/x-python",
   "name": "python",
   "nbconvert_exporter": "python",
   "pygments_lexer": "ipython3",
   "version": "3.7.3"
  }
 },
 "nbformat": 4,
 "nbformat_minor": 1
}
