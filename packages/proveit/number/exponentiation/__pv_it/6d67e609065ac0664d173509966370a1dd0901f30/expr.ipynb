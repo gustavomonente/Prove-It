{
 "cells": [
  {
   "cell_type": "markdown",
   "metadata": {},
   "source": [
    "Expression of type <a class=\"ProveItLink\" href=\"../../../../../../doc/html/api/proveit.Lambda.html\">Lambda</a>\n",
    "=======================\n",
    "# from context <a class=\"ProveItLink\" href=\"../../_context_.ipynb\">proveit.number.exponentiation</a>"
   ]
  },
  {
   "cell_type": "code",
   "execution_count": 1,
   "metadata": {},
   "outputs": [],
   "source": [
    "import proveit\n",
    "# Automation is not needed when building an expression:\n",
    "proveit.defaults.automation = False # This will speed things up.\n",
    "proveit.defaults.inline_pngs = False # Makes files smaller.\n",
    "# import Expression classes needed to build the expression\n",
    "from proveit import Conditional, Lambda\n",
    "from proveit._common_ import x, y, z\n",
    "from proveit.logic import And, Equals, InSet\n",
    "from proveit.number import Complexes, Exp, Mult"
   ]
  },
  {
   "cell_type": "code",
   "execution_count": 2,
   "metadata": {},
   "outputs": [
    {
     "data": {
      "text/html": [
       "<strong id=\"expr\">expr:</strong> <a class=\"ProveItLink\" href=\"expr.ipynb\"><img src=\"expr.png\" style=\"display:inline;vertical-align:middle;\" /></a><br>"
      ],
      "text/plain": [
       "expr: (x, y, z) -> {(x^{y} * z^{y}) = (x * z)^{y} if x in Complexes ,  y in Complexes ,  z in Complexes."
      ]
     },
     "execution_count": 2,
     "metadata": {},
     "output_type": "execute_result"
    }
   ],
   "source": [
    "# build up the expression from sub-expressions\n",
    "expr = Lambda([x, y, z], Conditional(Equals(Mult(Exp(x, y), Exp(z, y)), Exp(Mult(x, z), y)), And(InSet(x, Complexes), InSet(y, Complexes), InSet(z, Complexes))))"
   ]
  },
  {
   "cell_type": "code",
   "execution_count": 3,
   "metadata": {},
   "outputs": [
    {
     "name": "stdout",
     "output_type": "stream",
     "text": [
      "Passed sanity check: built 'expr' is the same as the stored Expression.\n"
     ]
    }
   ],
   "source": [
    "# check that the built expression is the same as the stored expression\n",
    "%check_expr"
   ]
  },
  {
   "cell_type": "code",
   "execution_count": 4,
   "metadata": {},
   "outputs": [
    {
     "name": "stdout",
     "output_type": "stream",
     "text": [
      "\\left(x, y, z\\right) \\mapsto \\left\\{\\left(x^{y} \\cdot z^{y}\\right) = \\left(x \\cdot z\\right)^{y} \\textrm{ if } x \\in \\mathbb{C} ,  y \\in \\mathbb{C} ,  z \\in \\mathbb{C}\\right..\n"
     ]
    }
   ],
   "source": [
    "# Show the LaTeX representation of the expression for convenience if you need it.\n",
    "print(expr.latex())"
   ]
  },
  {
   "cell_type": "code",
   "execution_count": 5,
   "metadata": {},
   "outputs": [
    {
     "data": {
      "text/html": [
       "<table><tr><th>&nbsp;</th><th>core type</th><th>sub-expressions</th><th>expression</th></tr>\n",
       "<tr><td>0</td><td>Lambda</td><td>parameters:&nbsp;1<br>body:&nbsp;2<br></td><td><a class=\"ProveItLink\" href=\"expr.ipynb\"><img src=\"expr.png\" style=\"display:inline;vertical-align:middle;\" /></a></td></tr>\n",
       "<tr><td>1</td><td>ExprTuple</td><td>30, 29, 31</td><td><a class=\"ProveItLink\" href=\"../bf780d418d1d51b4930e1bceb1c1f82a7f038cef0/expr.ipynb\"><img src=\"../bf780d418d1d51b4930e1bceb1c1f82a7f038cef0/expr.png\" style=\"display:inline;vertical-align:middle;\" /></a></td></tr>\n",
       "<tr><td>2</td><td>Conditional</td><td>value:&nbsp;3<br>condition:&nbsp;4<br></td><td><a class=\"ProveItLink\" href=\"../a531d4e6b53ebdb99323346460ad4f1bfe64ef850/expr.ipynb\"><img src=\"../a531d4e6b53ebdb99323346460ad4f1bfe64ef850/expr.png\" style=\"display:inline;vertical-align:middle;\" /></a></td></tr>\n",
       "<tr><td>3</td><td>Operation</td><td>operator:&nbsp;5<br>operands:&nbsp;6<br></td><td><a class=\"ProveItLink\" href=\"../582f00dc476877c68eeec597b9a25b885a11ffce0/expr.ipynb\"><img src=\"../582f00dc476877c68eeec597b9a25b885a11ffce0/expr.png\" style=\"display:inline;vertical-align:middle;\" /></a></td></tr>\n",
       "<tr><td>4</td><td>Operation</td><td>operator:&nbsp;7<br>operands:&nbsp;8<br></td><td><a class=\"ProveItLink\" href=\"../7cb746bbac5a3136d5e6972512af75e8287bcbcb0/expr.ipynb\"><img src=\"../7cb746bbac5a3136d5e6972512af75e8287bcbcb0/expr.png\" style=\"display:inline;vertical-align:middle;\" /></a></td></tr>\n",
       "<tr><td>5</td><td>Literal</td><td></td><td><a class=\"ProveItLink\" href=\"../../../../logic/equality/__pv_it/e16d2caa26a16688b658bdb9c422caf4b84579e10/expr.ipynb\"><img src=\"../../../../logic/equality/__pv_it/e16d2caa26a16688b658bdb9c422caf4b84579e10/expr.png\" style=\"display:inline;vertical-align:middle;\" /></a></td></tr>\n",
       "<tr><td>6</td><td>ExprTuple</td><td>9, 10</td><td><a class=\"ProveItLink\" href=\"../eaee32b6e7da15358d4746134c1e26d0c95288480/expr.ipynb\"><img src=\"../eaee32b6e7da15358d4746134c1e26d0c95288480/expr.png\" style=\"display:inline;vertical-align:middle;\" /></a></td></tr>\n",
       "<tr><td>7</td><td>Literal</td><td></td><td><a class=\"ProveItLink\" href=\"../../../../logic/boolean/conjunction/__pv_it/f41cc6b553210927c09f19a8a39cdf860a5585930/expr.ipynb\"><img src=\"../../../../logic/boolean/conjunction/__pv_it/f41cc6b553210927c09f19a8a39cdf860a5585930/expr.png\" style=\"display:inline;vertical-align:middle;\" /></a></td></tr>\n",
       "<tr><td>8</td><td>ExprTuple</td><td>11, 12, 13</td><td><a class=\"ProveItLink\" href=\"../8b56aefc03aa08060dea81f5b285dd87db77465b0/expr.ipynb\"><img src=\"../8b56aefc03aa08060dea81f5b285dd87db77465b0/expr.png\" style=\"display:inline;vertical-align:middle;\" /></a></td></tr>\n",
       "<tr><td>9</td><td>Operation</td><td>operator:&nbsp;27<br>operands:&nbsp;14<br></td><td><a class=\"ProveItLink\" href=\"../7104950cac0972f476d8faeebacd33476b221db70/expr.ipynb\"><img src=\"../7104950cac0972f476d8faeebacd33476b221db70/expr.png\" style=\"display:inline;vertical-align:middle;\" /></a></td></tr>\n",
       "<tr><td>10</td><td>Operation</td><td>operator:&nbsp;25<br>operands:&nbsp;15<br></td><td><a class=\"ProveItLink\" href=\"../5fbbcb35e17ff97d90f258e446e857cf34e3f91b0/expr.ipynb\"><img src=\"../5fbbcb35e17ff97d90f258e446e857cf34e3f91b0/expr.png\" style=\"display:inline;vertical-align:middle;\" /></a></td></tr>\n",
       "<tr><td>11</td><td>Operation</td><td>operator:&nbsp;18<br>operands:&nbsp;16<br></td><td><a class=\"ProveItLink\" href=\"../b528d44018b090201680500d221abf73643960c70/expr.ipynb\"><img src=\"../b528d44018b090201680500d221abf73643960c70/expr.png\" style=\"display:inline;vertical-align:middle;\" /></a></td></tr>\n",
       "<tr><td>12</td><td>Operation</td><td>operator:&nbsp;18<br>operands:&nbsp;17<br></td><td><a class=\"ProveItLink\" href=\"../29eade6bbdc2222825cd9b9d7990f741f81286a50/expr.ipynb\"><img src=\"../29eade6bbdc2222825cd9b9d7990f741f81286a50/expr.png\" style=\"display:inline;vertical-align:middle;\" /></a></td></tr>\n",
       "<tr><td>13</td><td>Operation</td><td>operator:&nbsp;18<br>operands:&nbsp;19<br></td><td><a class=\"ProveItLink\" href=\"../4e68c438bd9bdd3ef6e66110be1ebc4cd52872a80/expr.ipynb\"><img src=\"../4e68c438bd9bdd3ef6e66110be1ebc4cd52872a80/expr.png\" style=\"display:inline;vertical-align:middle;\" /></a></td></tr>\n",
       "<tr><td>14</td><td>ExprTuple</td><td>20, 21</td><td><a class=\"ProveItLink\" href=\"../3de15f73f1865bb7115ffa4a5721bdc3c426efde0/expr.ipynb\"><img src=\"../3de15f73f1865bb7115ffa4a5721bdc3c426efde0/expr.png\" style=\"display:inline;vertical-align:middle;\" /></a></td></tr>\n",
       "<tr><td>15</td><td>ExprTuple</td><td>22, 29</td><td><a class=\"ProveItLink\" href=\"../a2cae4e9491da828e942a772cb1768120b1a61c70/expr.ipynb\"><img src=\"../a2cae4e9491da828e942a772cb1768120b1a61c70/expr.png\" style=\"display:inline;vertical-align:middle;\" /></a></td></tr>\n",
       "<tr><td>16</td><td>ExprTuple</td><td>30, 23</td><td><a class=\"ProveItLink\" href=\"../9b226e4874d9ba4c6b445e5f2e4ef0f274ac238b0/expr.ipynb\"><img src=\"../9b226e4874d9ba4c6b445e5f2e4ef0f274ac238b0/expr.png\" style=\"display:inline;vertical-align:middle;\" /></a></td></tr>\n",
       "<tr><td>17</td><td>ExprTuple</td><td>29, 23</td><td><a class=\"ProveItLink\" href=\"../6362283b06c964afa2c8b56c4bbb3a0e01b665a50/expr.ipynb\"><img src=\"../6362283b06c964afa2c8b56c4bbb3a0e01b665a50/expr.png\" style=\"display:inline;vertical-align:middle;\" /></a></td></tr>\n",
       "<tr><td>18</td><td>Literal</td><td></td><td><a class=\"ProveItLink\" href=\"../../../../logic/set_theory/membership/__pv_it/7776fc89cb67d0b5b1ec2c0c8e08da5587921ccf0/expr.ipynb\"><img src=\"../../../../logic/set_theory/membership/__pv_it/7776fc89cb67d0b5b1ec2c0c8e08da5587921ccf0/expr.png\" style=\"display:inline;vertical-align:middle;\" /></a></td></tr>\n",
       "<tr><td>19</td><td>ExprTuple</td><td>31, 23</td><td><a class=\"ProveItLink\" href=\"../d90f50f919de09f193178d73fe5cc6864aab0a110/expr.ipynb\"><img src=\"../d90f50f919de09f193178d73fe5cc6864aab0a110/expr.png\" style=\"display:inline;vertical-align:middle;\" /></a></td></tr>\n",
       "<tr><td>20</td><td>Operation</td><td>operator:&nbsp;25<br>operands:&nbsp;24<br></td><td><a class=\"ProveItLink\" href=\"../9e5bcfa1bf73f29c5838c0970d0ebfe3a0b4da170/expr.ipynb\"><img src=\"../9e5bcfa1bf73f29c5838c0970d0ebfe3a0b4da170/expr.png\" style=\"display:inline;vertical-align:middle;\" /></a></td></tr>\n",
       "<tr><td>21</td><td>Operation</td><td>operator:&nbsp;25<br>operands:&nbsp;26<br></td><td><a class=\"ProveItLink\" href=\"../77d8d6ce3f34588f2b9dabd73a032899c1dbf7720/expr.ipynb\"><img src=\"../77d8d6ce3f34588f2b9dabd73a032899c1dbf7720/expr.png\" style=\"display:inline;vertical-align:middle;\" /></a></td></tr>\n",
       "<tr><td>22</td><td>Operation</td><td>operator:&nbsp;27<br>operands:&nbsp;28<br></td><td><a class=\"ProveItLink\" href=\"../2d68a0a0db578baa0a274e73821a0a008adc60500/expr.ipynb\"><img src=\"../2d68a0a0db578baa0a274e73821a0a008adc60500/expr.png\" style=\"display:inline;vertical-align:middle;\" /></a></td></tr>\n",
       "<tr><td>23</td><td>Literal</td><td></td><td><a class=\"ProveItLink\" href=\"../../../sets/complex/__pv_it/8a5866946d766bfd951bcdff07a1a39af0935c430/expr.ipynb\"><img src=\"../../../sets/complex/__pv_it/8a5866946d766bfd951bcdff07a1a39af0935c430/expr.png\" style=\"display:inline;vertical-align:middle;\" /></a></td></tr>\n",
       "<tr><td>24</td><td>ExprTuple</td><td>30, 29</td><td><a class=\"ProveItLink\" href=\"../381a8da4a9fdeac3d03f772fe63417dc7a6055a40/expr.ipynb\"><img src=\"../381a8da4a9fdeac3d03f772fe63417dc7a6055a40/expr.png\" style=\"display:inline;vertical-align:middle;\" /></a></td></tr>\n",
       "<tr><td>25</td><td>Literal</td><td></td><td><a class=\"ProveItLink\" href=\"../fca8e4218e687a7bc372d4b4009101e95bae518f0/expr.ipynb\"><img src=\"../fca8e4218e687a7bc372d4b4009101e95bae518f0/expr.png\" style=\"display:inline;vertical-align:middle;\" /></a></td></tr>\n",
       "<tr><td>26</td><td>ExprTuple</td><td>31, 29</td><td><a class=\"ProveItLink\" href=\"../ec6f5cb86b9185dda2ef5574775201e09258c6fe0/expr.ipynb\"><img src=\"../ec6f5cb86b9185dda2ef5574775201e09258c6fe0/expr.png\" style=\"display:inline;vertical-align:middle;\" /></a></td></tr>\n",
       "<tr><td>27</td><td>Literal</td><td></td><td><a class=\"ProveItLink\" href=\"../../../multiplication/__pv_it/f7a1ed7c35c8c884cf4c236d27cb79bf85638cad0/expr.ipynb\"><img src=\"../../../multiplication/__pv_it/f7a1ed7c35c8c884cf4c236d27cb79bf85638cad0/expr.png\" style=\"display:inline;vertical-align:middle;\" /></a></td></tr>\n",
       "<tr><td>28</td><td>ExprTuple</td><td>30, 31</td><td><a class=\"ProveItLink\" href=\"../bed26b1439a100c7729cc5cbcdba29eb5a20da4c0/expr.ipynb\"><img src=\"../bed26b1439a100c7729cc5cbcdba29eb5a20da4c0/expr.png\" style=\"display:inline;vertical-align:middle;\" /></a></td></tr>\n",
       "<tr><td>29</td><td>Variable</td><td></td><td><a class=\"ProveItLink\" href=\"../../../../__pv_it/c6e291955561f22a0e6708fd793ea93f1c7dbb5d0/expr.ipynb\"><img src=\"../../../../__pv_it/c6e291955561f22a0e6708fd793ea93f1c7dbb5d0/expr.png\" style=\"display:inline;vertical-align:middle;\" /></a></td></tr>\n",
       "<tr><td>30</td><td>Variable</td><td></td><td><a class=\"ProveItLink\" href=\"../../../../__pv_it/72df168d2bfb4e0140af90912ebf83b13772060b0/expr.ipynb\"><img src=\"../../../../__pv_it/72df168d2bfb4e0140af90912ebf83b13772060b0/expr.png\" style=\"display:inline;vertical-align:middle;\" /></a></td></tr>\n",
       "<tr><td>31</td><td>Variable</td><td></td><td><a class=\"ProveItLink\" href=\"../../../../__pv_it/0d889e00aed425c3081fbda3ac9194ae911895960/expr.ipynb\"><img src=\"../../../../__pv_it/0d889e00aed425c3081fbda3ac9194ae911895960/expr.png\" style=\"display:inline;vertical-align:middle;\" /></a></td></tr>\n",
       "</table>\n"
      ],
      "text/plain": [
       "0. (x, y, z) -> {(x^{y} * z^{y}) = (x * z)^{y} if x in Complexes ,  y in Complexes ,  z in Complexes.\n",
       "   core type: Lambda\n",
       "   parameters: 1\\n   body: 2\n",
       "1. (x, y, z)\n",
       "   core type: ExprTuple\n",
       "   sub-expressions: 30, 29, 31\n",
       "2. {(x^{y} * z^{y}) = (x * z)^{y} if x in Complexes ,  y in Complexes ,  z in Complexes.\n",
       "   core type: Conditional\n",
       "   value: 3\n",
       "   condition: 4\n",
       "3. (x^{y} * z^{y}) = (x * z)^{y}\n",
       "   core type: Operation\n",
       "   operator: 5\n",
       "   operands: 6\n",
       "4. (x in Complexes) and (y in Complexes) and (z in Complexes)\n",
       "   core type: Operation\n",
       "   operator: 7\n",
       "   operands: 8\n",
       "5. =\n",
       "   core type: Literal\n",
       "   sub-expressions: \n",
       "6. (x^{y} * z^{y}, (x * z)^{y})\n",
       "   core type: ExprTuple\n",
       "   sub-expressions: 9, 10\n",
       "7. and\n",
       "   core type: Literal\n",
       "   sub-expressions: \n",
       "8. (x in Complexes, y in Complexes, z in Complexes)\n",
       "   core type: ExprTuple\n",
       "   sub-expressions: 11, 12, 13\n",
       "9. x^{y} * z^{y}\n",
       "   core type: Operation\n",
       "   operator: 27\n",
       "   operands: 14\n",
       "10. (x * z)^{y}\n",
       "    core type: Operation\n",
       "    operator: 25\n",
       "    operands: 15\n",
       "11. x in Complexes\n",
       "    core type: Operation\n",
       "    operator: 18\n",
       "    operands: 16\n",
       "12. y in Complexes\n",
       "    core type: Operation\n",
       "    operator: 18\n",
       "    operands: 17\n",
       "13. z in Complexes\n",
       "    core type: Operation\n",
       "    operator: 18\n",
       "    operands: 19\n",
       "14. (x^{y}, z^{y})\n",
       "    core type: ExprTuple\n",
       "    sub-expressions: 20, 21\n",
       "15. (x * z, y)\n",
       "    core type: ExprTuple\n",
       "    sub-expressions: 22, 29\n",
       "16. (x, Complexes)\n",
       "    core type: ExprTuple\n",
       "    sub-expressions: 30, 23\n",
       "17. (y, Complexes)\n",
       "    core type: ExprTuple\n",
       "    sub-expressions: 29, 23\n",
       "18. in\n",
       "    core type: Literal\n",
       "    sub-expressions: \n",
       "19. (z, Complexes)\n",
       "    core type: ExprTuple\n",
       "    sub-expressions: 31, 23\n",
       "20. x^{y}\n",
       "    core type: Operation\n",
       "    operator: 25\n",
       "    operands: 24\n",
       "21. z^{y}\n",
       "    core type: Operation\n",
       "    operator: 25\n",
       "    operands: 26\n",
       "22. x * z\n",
       "    core type: Operation\n",
       "    operator: 27\n",
       "    operands: 28\n",
       "23. Complexes\n",
       "    core type: Literal\n",
       "    sub-expressions: \n",
       "24. (x, y)\n",
       "    core type: ExprTuple\n",
       "    sub-expressions: 30, 29\n",
       "25. Exp\n",
       "    core type: Literal\n",
       "    sub-expressions: \n",
       "26. (z, y)\n",
       "    core type: ExprTuple\n",
       "    sub-expressions: 31, 29\n",
       "27. *\n",
       "    core type: Literal\n",
       "    sub-expressions: \n",
       "28. (x, z)\n",
       "    core type: ExprTuple\n",
       "    sub-expressions: 30, 31\n",
       "29. y\n",
       "    core type: Variable\n",
       "    sub-expressions: \n",
       "30. x\n",
       "    core type: Variable\n",
       "    sub-expressions: \n",
       "31. z\n",
       "    core type: Variable\n",
       "    sub-expressions: "
      ]
     },
     "execution_count": 5,
     "metadata": {},
     "output_type": "execute_result"
    }
   ],
   "source": [
    "# display the expression information\n",
    "expr.exprInfo()"
   ]
  },
  {
   "cell_type": "code",
   "execution_count": null,
   "metadata": {},
   "outputs": [],
   "source": []
  }
 ],
 "metadata": {
  "kernelspec": {
   "display_name": "Python 3",
   "language": "python",
   "name": "python3"
  },
  "language_info": {
   "codemirror_mode": {
    "name": "ipython",
    "version": 3
   },
   "file_extension": ".py",
   "mimetype": "text/x-python",
   "name": "python",
   "nbconvert_exporter": "python",
   "pygments_lexer": "ipython3",
   "version": "3.7.3"
  }
 },
 "nbformat": 4,
 "nbformat_minor": 1
}
