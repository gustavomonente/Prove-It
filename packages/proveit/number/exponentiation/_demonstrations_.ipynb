{
 "cells": [
  {
   "cell_type": "markdown",
   "metadata": {},
   "source": [
    "Demonstrations for context <a class=\"ProveItLink\" href=\"_context_.ipynb\">proveit.number.exponentiation</a>\n",
    "========"
   ]
  },
  {
   "cell_type": "code",
   "execution_count": null,
   "metadata": {},
   "outputs": [],
   "source": [
    "import proveit\n",
    "from proveit import Literal, used_vars, free_vars\n",
    "from proveit._common_ import a, b, c, n, x, y\n",
    "from proveit.logic import And, Booleans, InSet, NotEquals\n",
    "from proveit.number import zero, one, two, three, frac, num\n",
    "from proveit.number import (Complexes, Integers, Naturals, NaturalsPos,\n",
    "                            Reals, RealsNonNeg, RealsPos)\n",
    "from proveit.number import Add, Div, Exp, Greater, GreaterEq, Mult, sqrt, subtract\n",
    "from proveit.number.exponentiation._theorems_ import expRealClosure, sqrtOfProd\n",
    "%begin demonstrations"
   ]
  },
  {
   "cell_type": "markdown",
   "metadata": {},
   "source": [
    "# Exponentiation (Exp) $x^{y}$"
   ]
  },
  {
   "cell_type": "markdown",
   "metadata": {},
   "source": [
    "<div style=\"line-height:1.4; font-size:14pt\">\n",
    "\n",
    "<a href='#introduction'>Introduction</a><br>\n",
    "<a href='#simple_expressions'>Simple Expressions involving Exponentiation $x^y$</a><br>\n",
    "<a href='#common_attributes'>Common Attributes of the Exp $x^y$ Expression</a><br>\n",
    "<a href='#axioms'>Axioms</a><br>\n",
    "<a href='#theorems'>Theorems</a><br>\n",
    "<a href='#further_demonstrations'>Further Demonstrations</a><br>\n",
    "    <ol>\n",
    "        <li><a href='#demo01'>TBA</a></li>\n",
    "        <li><a href='#demo02'>TBA</a></li>\n",
    "        <li><a href='#demo03'>TBA</a></li>\n",
    "    </ol>\n",
    "\n",
    "</div>\n"
   ]
  },
  {
   "cell_type": "markdown",
   "metadata": {},
   "source": [
    "## Introduction <a id='introduction'></a>"
   ]
  },
  {
   "cell_type": "markdown",
   "metadata": {},
   "source": [
    "<font size=4>The `Exp` class allows us to represent exponentiation expressions such as $2^3$, $x^y$, or $(x-3)^2$. This ``_demonstrations_`` notebook explores the `Exp` (exponentiation) class, its axioms and common theorems, and related methods.</font>"
   ]
  },
  {
   "cell_type": "markdown",
   "metadata": {},
   "source": [
    "## Simple Expressions Involving Exponentiation $x^y$<a id='simple_expressions'></a>"
   ]
  },
  {
   "cell_type": "markdown",
   "metadata": {},
   "source": [
    "<font size=4>It is straightforward to construct expressions involving exponentiation. Here are some basic examples of such expressions:</font>"
   ]
  },
  {
   "cell_type": "code",
   "execution_count": null,
   "metadata": {},
   "outputs": [],
   "source": [
    "# basic expression with exponent\n",
    "Exp(x, y)"
   ]
  },
  {
   "cell_type": "code",
   "execution_count": null,
   "metadata": {},
   "outputs": [],
   "source": [
    "# exponentials involving variables and numbers\n",
    "example1, example2, example3 = Exp(x, two), Exp(two, three), subtract(one, Exp(a, two))"
   ]
  },
  {
   "cell_type": "code",
   "execution_count": null,
   "metadata": {},
   "outputs": [],
   "source": [
    "# A sqrt portrayed with a radical is produced using the special sqrt() call,\n",
    "# which invokes the Exp() class behind the scenes with special formatting\n",
    "sqrt(Add(x, two))"
   ]
  },
  {
   "cell_type": "markdown",
   "metadata": {},
   "source": [
    "## Common Attributes of a Subset expression <a id='common_attributes'></a>"
   ]
  },
  {
   "cell_type": "markdown",
   "metadata": {},
   "source": [
    "<font size=4>Let's define a simple example exponential expression, $(x-y)^2$, and look at some of its attributes.</font>"
   ]
  },
  {
   "cell_type": "code",
   "execution_count": null,
   "metadata": {},
   "outputs": [],
   "source": [
    "xMinusYQuantitySquared = Exp(subtract(x,y), two)"
   ]
  },
  {
   "cell_type": "code",
   "execution_count": null,
   "metadata": {},
   "outputs": [],
   "source": [
    "xMinusYQuantitySquared.exprInfo()"
   ]
  },
  {
   "cell_type": "markdown",
   "metadata": {},
   "source": [
    "<font size=4>We can access the base and exponent separately, and identify the `Exp` operator as the outermost operation:</font>"
   ]
  },
  {
   "cell_type": "code",
   "execution_count": null,
   "metadata": {},
   "outputs": [],
   "source": [
    "xMinusYQuantitySquared.base"
   ]
  },
  {
   "cell_type": "code",
   "execution_count": null,
   "metadata": {},
   "outputs": [],
   "source": [
    "xMinusYQuantitySquared.exponent"
   ]
  },
  {
   "cell_type": "code",
   "execution_count": null,
   "metadata": {},
   "outputs": [],
   "source": [
    "xMinusYQuantitySquared.operator"
   ]
  },
  {
   "cell_type": "markdown",
   "metadata": {},
   "source": [
    "<font size=4>We can grab all the components (base and exponent) of the expression simultaneously as a tuple of expressions. We can also get a list of the variables and a separate list of the *free* variables in the expression (of course, in this expression, all the variables are also free variables):</font>"
   ]
  },
  {
   "cell_type": "code",
   "execution_count": null,
   "metadata": {},
   "outputs": [],
   "source": [
    "xMinusYQuantitySquared.operands"
   ]
  },
  {
   "cell_type": "code",
   "execution_count": null,
   "metadata": {},
   "outputs": [],
   "source": [
    "used_vars(xMinusYQuantitySquared)"
   ]
  },
  {
   "cell_type": "code",
   "execution_count": null,
   "metadata": {},
   "outputs": [],
   "source": [
    "free_vars(xMinusYQuantitySquared, err_inclusively=True)"
   ]
  },
  {
   "cell_type": "markdown",
   "metadata": {},
   "source": [
    "## Axioms <a id='axioms'></a>"
   ]
  },
  {
   "cell_type": "markdown",
   "metadata": {},
   "source": [
    "<font size=4>The ``axioms`` for the exponentiation context establish the basic definitions of exponentiation … Actually, right now we have no separate axioms for the exponentiation context.</font>"
   ]
  },
  {
   "cell_type": "markdown",
   "metadata": {},
   "source": [
    "## Theorems <a id='theorems'></a>"
   ]
  },
  {
   "cell_type": "markdown",
   "metadata": {},
   "source": [
    "<font size=4>The ``theorems`` for the exponentiation context establish many of the basic laws of exponentiation as well as some closure principles.</font>"
   ]
  },
  {
   "cell_type": "markdown",
   "metadata": {},
   "source": [
    "## Demonstrations (TBA) <a id='further_demonstrations'></a>"
   ]
  },
  {
   "cell_type": "markdown",
   "metadata": {},
   "source": [
    "<a id='demo01'></a><font size=4>1. TBA.<br><br>\n",
    "We begin with something simple …</font>"
   ]
  },
  {
   "cell_type": "markdown",
   "metadata": {},
   "source": [
    "<a id='demo02'></a><font size=4><br>2. TBA.<br><br>\n",
    "Something else relatively simple …</font>"
   ]
  },
  {
   "cell_type": "markdown",
   "metadata": {},
   "source": [
    "<a id='demo03'></a><font size=4><br>3. TBA.<br><br>\n",
    "Something more complex …</font>"
   ]
  },
  {
   "cell_type": "markdown",
   "metadata": {},
   "source": [
    "## Misc To Be Integrated Into the Demonstration Page"
   ]
  },
  {
   "cell_type": "code",
   "execution_count": null,
   "metadata": {},
   "outputs": [],
   "source": [
    "# Some example test expressions involving Exp or sqrt()\n",
    "exp_test_01, exp_test_02, exp_test_03 = Exp(x, y), Exp(two, three), sqrt(two)"
   ]
  },
  {
   "cell_type": "markdown",
   "metadata": {},
   "source": [
    "Some testing of closure theorems."
   ]
  },
  {
   "cell_type": "code",
   "execution_count": null,
   "metadata": {},
   "outputs": [],
   "source": [
    "# if we don't know anything about the base or exponent, difficult\n",
    "# to know what set(s) the result belongs to \n",
    "try:\n",
    "    exp_test_01.deduceInNumberSet(Reals)\n",
    "except Exception as e:\n",
    "    print(\"EXCEPTION: neither closure theorem applies without more constraints. \", e)"
   ]
  },
  {
   "cell_type": "code",
   "execution_count": null,
   "metadata": {},
   "outputs": [],
   "source": [
    "# if we know x, y are Real with some constraints:\n",
    "exp_test_01.deduceInNumberSet(Reals,\n",
    "        assumptions=[InSet(x, Reals), InSet(y, Reals), GreaterEq(x, zero), NotEquals(y, zero)])"
   ]
  },
  {
   "cell_type": "code",
   "execution_count": null,
   "metadata": {},
   "outputs": [],
   "source": [
    "# if we know x, y are Real with some constraints:\n",
    "exp_test_01.deduceInNumberSet(Reals,\n",
    "        assumptions=[InSet(x, Reals), InSet(y, Reals), Greater(x, zero)])"
   ]
  },
  {
   "cell_type": "code",
   "execution_count": null,
   "metadata": {},
   "outputs": [],
   "source": [
    "# trouble trying to specialize the comprehensive theorem\n",
    "# seems to demand the entire Or(And) combination rather than\n",
    "# just either side of the Or\n",
    "expRealClosure"
   ]
  },
  {
   "cell_type": "code",
   "execution_count": null,
   "metadata": {},
   "outputs": [],
   "source": [
    "# this goes through but the proof actually doesn't\n",
    "# utilize the thm being specialized! (See proof in next cell below.)\n",
    "expRealClosureExampleLHSofOR = expRealClosure.specialize(\n",
    "    {a:x, b:y},\n",
    "    assumptions=[InSet(x, Reals), InSet(y, Reals), Greater(x, zero)])"
   ]
  },
  {
   "cell_type": "code",
   "execution_count": null,
   "metadata": {},
   "outputs": [],
   "source": [
    "expRealClosureExampleLHSofOR.proof()"
   ]
  },
  {
   "cell_type": "code",
   "execution_count": null,
   "metadata": {},
   "outputs": [],
   "source": [
    "# this one won't work — doesn't seem to be able to get inside\n",
    "# the Or(And) structure correctly (see next cell below)\n",
    "# expRealClosureExampleRHSofOR = expRealClosure.specialize(\n",
    "#     {a:x, b:y},\n",
    "#     assumptions=[InSet(x, Reals), InSet(y, Reals), And(GreaterEq(x, zero), NotEquals(y, zero))])"
   ]
  },
  {
   "cell_type": "code",
   "execution_count": null,
   "metadata": {},
   "outputs": [],
   "source": [
    "# if we remind the system that x > 0 is a Boolean, then it seems to\n",
    "# be able to deal correctly with the Or(Add) conditions\n",
    "expRealClosureExampleRHSofOR = expRealClosure.specialize(\n",
    "    {a:x, b:y},\n",
    "    assumptions=[\n",
    "        InSet(x, Reals), InSet(y, Reals), GreaterEq(x, zero),\n",
    "        NotEquals(y, zero), InSet(Greater(x, zero), Booleans)])"
   ]
  },
  {
   "cell_type": "code",
   "execution_count": null,
   "metadata": {},
   "outputs": [],
   "source": [
    "exp_test_02"
   ]
  },
  {
   "cell_type": "code",
   "execution_count": null,
   "metadata": {},
   "outputs": [],
   "source": [
    "exp_test_02.deduceInNumberSet(NaturalsPos)"
   ]
  },
  {
   "cell_type": "code",
   "execution_count": null,
   "metadata": {},
   "outputs": [],
   "source": [
    "# This has trouble because it can't seem to first prove that\n",
    "# 2 ≠ 0 or 3 ≠ 0.\n",
    "# exp_test_02.deduceInNumberSet(Complexes)"
   ]
  },
  {
   "cell_type": "code",
   "execution_count": null,
   "metadata": {},
   "outputs": [],
   "source": [
    "# So this works, if we explicitly assume (e.g.) that 3 ≠ 0\n",
    "InSet(exp_test_02, Complexes).prove(assumptions=[NotEquals(three, zero)])"
   ]
  },
  {
   "cell_type": "code",
   "execution_count": null,
   "metadata": {},
   "outputs": [],
   "source": [
    "exp_test_03"
   ]
  },
  {
   "cell_type": "code",
   "execution_count": null,
   "metadata": {},
   "outputs": [],
   "source": [
    "InSet(exp_test_03, RealsPos).prove()"
   ]
  },
  {
   "cell_type": "code",
   "execution_count": null,
   "metadata": {},
   "outputs": [],
   "source": [
    "InSet(two, RealsPos).prove()"
   ]
  },
  {
   "cell_type": "code",
   "execution_count": null,
   "metadata": {},
   "outputs": [],
   "source": [
    "twoInRealsKT = InSet(two, Reals).prove()"
   ]
  },
  {
   "cell_type": "code",
   "execution_count": null,
   "metadata": {},
   "outputs": [],
   "source": [
    "twoInRealsKT.proof()"
   ]
  },
  {
   "cell_type": "code",
   "execution_count": null,
   "metadata": {},
   "outputs": [],
   "source": [
    "sqrt2IsComplex = InSet(exp_test_03, Complexes).prove()"
   ]
  },
  {
   "cell_type": "code",
   "execution_count": null,
   "metadata": {},
   "outputs": [],
   "source": [
    "t_ = Literal('t')\n",
    "twoToPowerT = Exp(two, t_)"
   ]
  },
  {
   "cell_type": "code",
   "execution_count": null,
   "metadata": {},
   "outputs": [],
   "source": [
    "InSet(twoToPowerT, NaturalsPos).prove(assumptions=[InSet(t_, NaturalsPos)])"
   ]
  },
  {
   "cell_type": "markdown",
   "metadata": {},
   "source": [
    "Testing the formatting of some Exp() and sqrt() outputs"
   ]
  },
  {
   "cell_type": "code",
   "execution_count": null,
   "metadata": {},
   "outputs": [],
   "source": [
    "InSet(exp_test_03, RealsPos).prove()"
   ]
  },
  {
   "cell_type": "code",
   "execution_count": null,
   "metadata": {},
   "outputs": [],
   "source": [
    "Exp(x, frac(one, two))"
   ]
  },
  {
   "cell_type": "code",
   "execution_count": null,
   "metadata": {},
   "outputs": [],
   "source": [
    "sqrt_test = sqrt(Add(one, frac(a, b)))"
   ]
  },
  {
   "cell_type": "code",
   "execution_count": null,
   "metadata": {},
   "outputs": [],
   "source": [
    "print(\"sqrt_test = {}\".format(sqrt_test))"
   ]
  },
  {
   "cell_type": "code",
   "execution_count": null,
   "metadata": {},
   "outputs": [],
   "source": [
    "sqrt_test"
   ]
  },
  {
   "cell_type": "code",
   "execution_count": null,
   "metadata": {},
   "outputs": [],
   "source": [
    "Add(two, sqrt_test)"
   ]
  },
  {
   "cell_type": "markdown",
   "metadata": {},
   "source": [
    "Testing the Mult.exponentCombination() method (after eliminating Sqrt class)"
   ]
  },
  {
   "cell_type": "code",
   "execution_count": null,
   "metadata": {},
   "outputs": [],
   "source": [
    "mult_of_exps_test_01 = Mult(Exp(a, b), Exp(a, c))"
   ]
  },
  {
   "cell_type": "code",
   "execution_count": null,
   "metadata": {},
   "outputs": [],
   "source": [
    "mult_of_exps_test_02 = Mult(sqrt(two), sqrt(two))"
   ]
  },
  {
   "cell_type": "code",
   "execution_count": null,
   "metadata": {},
   "outputs": [],
   "source": [
    "mult_of_exps_test_03 = Mult(Exp(two, b), sqrt(two))"
   ]
  },
  {
   "cell_type": "code",
   "execution_count": null,
   "metadata": {},
   "outputs": [],
   "source": [
    "mult_of_exps_test_01.exponentCombination(assumptions=[InSet(a, Complexes), InSet(b, Complexes), InSet(c, Complexes), NotEquals(a, zero)])"
   ]
  },
  {
   "cell_type": "code",
   "execution_count": null,
   "metadata": {},
   "outputs": [],
   "source": [
    "mult_of_exps_test_02.exprInfo()"
   ]
  },
  {
   "cell_type": "code",
   "execution_count": null,
   "metadata": {},
   "outputs": [],
   "source": [
    "mult_of_exps_test_02.exponentCombination()"
   ]
  },
  {
   "cell_type": "code",
   "execution_count": null,
   "metadata": {},
   "outputs": [],
   "source": [
    "mult_of_exps_test_03.exponentCombination(assumptions=[InSet(b, Complexes), InSet(frac(one, two), Complexes), NotEquals(two, zero)])"
   ]
  },
  {
   "cell_type": "code",
   "execution_count": null,
   "metadata": {},
   "outputs": [],
   "source": [
    "%end demonstrations"
   ]
  }
 ],
 "metadata": {
  "kernelspec": {
   "display_name": "Python 3",
   "language": "python",
   "name": "python3"
  }
 },
 "nbformat": 4,
 "nbformat_minor": 0
}
