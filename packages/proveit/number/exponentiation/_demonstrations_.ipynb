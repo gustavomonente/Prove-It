{
 "cells": [
  {
   "cell_type": "markdown",
   "metadata": {},
   "source": [
    "Demonstrations for context <a class=\"ProveItLink\" href=\"_context_.ipynb\">proveit.number.exponentiation</a>\n",
    "========"
   ]
  },
  {
   "cell_type": "code",
   "execution_count": 1,
   "metadata": {},
   "outputs": [],
   "source": [
    "import proveit\n",
    "from proveit import Literal, used_vars, free_vars\n",
    "from proveit._common_ import a, b, c, n, x, y\n",
    "from proveit.logic import And, Booleans, InSet, NotEquals\n",
    "from proveit.number import zero, one, two, three, frac, num\n",
    "from proveit.number import (Complexes, Integers, Naturals, NaturalsPos,\n",
    "                            Reals, RealsNonNeg, RealsPos)\n",
    "from proveit.number import Add, Div, Exp, Greater, GreaterEq, Mult, sqrt, subtract\n",
    "from proveit.number.exponentiation._theorems_ import expRealClosure, sqrtOfProd\n",
    "%begin demonstrations"
   ]
  },
  {
   "cell_type": "markdown",
   "metadata": {},
   "source": [
    "# Exponentiation (Exp) $x^{y}$"
   ]
  },
  {
   "cell_type": "markdown",
   "metadata": {},
   "source": [
    "<div style=\"line-height:1.4; font-size:14pt\">\n",
    "\n",
    "<a href='#introduction'>Introduction</a><br>\n",
    "<a href='#simple_expressions'>Simple Expressions involving Exponentiation $x^y$</a><br>\n",
    "<a href='#common_attributes'>Common Attributes of the Exp $x^y$ Expression</a><br>\n",
    "<a href='#axioms'>Axioms</a><br>\n",
    "<a href='#theorems'>Theorems</a><br>\n",
    "<a href='#further_demonstrations'>Further Demonstrations</a><br>\n",
    "    <ol>\n",
    "        <li><a href='#demo01'>TBA</a></li>\n",
    "        <li><a href='#demo02'>TBA</a></li>\n",
    "        <li><a href='#demo03'>TBA</a></li>\n",
    "    </ol>\n",
    "\n",
    "</div>\n"
   ]
  },
  {
   "cell_type": "markdown",
   "metadata": {},
   "source": [
    "## Introduction <a id='introduction'></a>"
   ]
  },
  {
   "cell_type": "markdown",
   "metadata": {},
   "source": [
    "<font size=4>The `Exp` class allows us to represent exponentiation expressions such as $2^3$, $x^y$, or $(x-3)^2$. This ``_demonstrations_`` notebook explores the `Exp` (exponentiation) class, its axioms and common theorems, and related methods.</font>"
   ]
  },
  {
   "cell_type": "markdown",
   "metadata": {},
   "source": [
    "## Simple Expressions Involving Exponentiation $x^y$<a id='simple_expressions'></a>"
   ]
  },
  {
   "cell_type": "markdown",
   "metadata": {},
   "source": [
    "<font size=4>It is straightforward to construct expressions involving exponentiation. Here are some basic examples of such expressions:</font>"
   ]
  },
  {
   "cell_type": "code",
   "execution_count": 2,
   "metadata": {},
   "outputs": [
    {
     "data": {
      "text/html": [
       "<a class=\"ProveItLink\" href=\"__pv_it/9e5bcfa1bf73f29c5838c0970d0ebfe3a0b4da170/expr.ipynb\"><img src=\"data:image/png;base64,iVBORw0KGgoAAAANSUhEUgAAABUAAAAQBAMAAAAL9CkWAAAAMFBMVEX///8QEBBmZmaqqqrMzMxE\n",
       "REQyMjIiIiKYmJh2dna6urrc3NxUVFSIiIju7u4AAAA6P00QAAAAAXRSTlMAQObYZgAAAHpJREFU\n",
       "CNdjYAADrjsM7A8gTAZO/geOUCbDvuUMV2FsBk2Gs3B2FYMInF3C9QHOXnM1AUi+vbPr5gW+DawN\n",
       "DAx8Ezhq2RN4JiwDmfyA8x/XBq7OCUA2HwNrAFwXA/8FBNvfAcZifnCfgRfqrPUG8Qw7oOJv7r7V\n",
       "aIAwATGZH/CoOnM2AAAAAElFTkSuQmCC\n",
       "\" style=\"display:inline;vertical-align:middle;\" /></a>"
      ],
      "text/plain": [
       "x^{y}"
      ]
     },
     "execution_count": 2,
     "metadata": {},
     "output_type": "execute_result"
    }
   ],
   "source": [
    "# basic expression with exponent\n",
    "Exp(x, y)"
   ]
  },
  {
   "cell_type": "code",
   "execution_count": 3,
   "metadata": {},
   "outputs": [
    {
     "data": {
      "text/html": [
       "<strong id=\"example1\">example1:</strong> <a class=\"ProveItLink\" href=\"__pv_it/5490d93e216074acd1693bcd47d47c0ddc2baaa40/expr.ipynb\"><img src=\"data:image/png;base64,iVBORw0KGgoAAAANSUhEUgAAABQAAAAUBAMAAAB/pwA+AAAAMFBMVEX///8QEBBmZmaqqqrMzMxE\n",
       "REQyMjIiIiKYmJh2dna6urrc3NxUVFSIiIju7u4AAAA6P00QAAAAAXRSTlMAQObYZgAAAHlJREFU\n",
       "CNdjYICASUEPoCzODTwJUCb7BpbfMOYC7l8MMMD8D85kvwBnToKzOBTgzJUMS6AslmTjOCiT8f//\n",
       "DwwMb+/sugnRzTeBo5YdYinnA85/XBsgogysAXBz+BH2+DvAnPHgPgMvxNnrDeIZdkBE39x9q9EA\n",
       "ZgEASiggRkSlCI4AAAAASUVORK5CYII=\n",
       "\" style=\"display:inline;vertical-align:middle;\" /></a><br>\n",
       "<strong id=\"example2\">example2:</strong> <a class=\"ProveItLink\" href=\"__pv_it/e5a6ec9b430f928e661014c9cfedf218d57371530/expr.ipynb\"><img src=\"data:image/png;base64,iVBORw0KGgoAAAANSUhEUgAAABEAAAAUBAMAAACZjst6AAAAMFBMVEX///+YmJiqqqqIiIgyMjLc\n",
       "3NwiIiIQEBC6urp2dnZUVFTMzMxERERmZmbu7u4AAADrYmUNAAAAAXRSTlMAQObYZgAAAH1JREFU\n",
       "CNdjYAABTtt1DBBwkeEOlHWTQZ4BBmBiDHzVMJaJAZB398wGiOwrBs4fQFa8AsM9BoZyoKp4AYYy\n",
       "Bob1AakM4g8Y/B8wrN+w03IpWGP+A6gJHD9hZrEtgLHuwhjMF2AsXQbWADCDewIDM4QVNnPuMoik\n",
       "////38AMAPc4H96J0DaDAAAAAElFTkSuQmCC\n",
       "\" style=\"display:inline;vertical-align:middle;\" /></a><br>\n",
       "<strong id=\"example3\">example3:</strong> <a class=\"ProveItLink\" href=\"__pv_it/6c22fd71141b11e43bb58f4719a2dcc4dd7ba87a0/expr.ipynb\"><img src=\"data:image/png;base64,iVBORw0KGgoAAAANSUhEUgAAADUAAAAVBAMAAAAUZLt1AAAAMFBMVEX///8iIiJERES6urrc3NzM\n",
       "zMwyMjJmZmaIiIiYmJh2dnZUVFTu7u4QEBCqqqoAAACWg0QRAAAAAXRSTlMAQObYZgAAAKBJREFU\n",
       "KM9jYMAOuIpqGHCBJQzbcMqJMMQ74JITZvA3wKmR4f0B3HISuKW4CoAE3x2sctOB+PTqP9ikmBcw\n",
       "BzAwcGKVC3v36AAuufv//zNgkWOpqoA5AUPO1oHtAw45npsM7AoocjxpYAB0G/sfBsYGHPp4FRjO\n",
       "B+CQO7+A4T0DLrkHDNv4oPHDgSbH1MApzQVhsu/9Vonqzh2t3s0MhAAA5/suonkiRQUAAAAASUVO\n",
       "RK5CYII=\n",
       "\" style=\"display:inline;vertical-align:middle;\" /></a><br>"
      ],
      "text/plain": [
       "example1: x^{2}\n",
       "example2: 2^{3}\n",
       "example3: 1 - a^{2}"
      ]
     },
     "execution_count": 3,
     "metadata": {},
     "output_type": "execute_result"
    }
   ],
   "source": [
    "# exponentials involving variables and numbers\n",
    "example1, example2, example3 = Exp(x, two), Exp(two, three), subtract(one, Exp(a, two))"
   ]
  },
  {
   "cell_type": "code",
   "execution_count": 4,
   "metadata": {},
   "outputs": [
    {
     "data": {
      "text/html": [
       "<a class=\"ProveItLink\" href=\"__pv_it/5367af8225526239435ba4b71b72fa0b229326a80/expr.ipynb\"><img src=\"data:image/png;base64,iVBORw0KGgoAAAANSUhEUgAAAFMAAAAaBAMAAAA5y32XAAAAMFBMVEX////MzMwQEBCIiIgiIiKY\n",
       "mJiqqqp2dnbu7u4yMjK6urpUVFRERETc3NxmZmYAAAACInZpAAAAAXRSTlMAQObYZgAAAYZJREFU\n",
       "OMuVk79Lw0AUx781aZumieRPEHFxK3TpINJNHMQOOipuuiiBIjppEEHExcHBTAriJGJBV6k4V7hB\n",
       "ByczikOtKArtUN/lkraJaYkP3iXv3Ye79+sAX97bg6XRIfU7xJXsaWz0OTaJt9ikckjLU9/t1Z7/\n",
       "9BLhkZkp9ZqBLOs69kkzLAo9QLopLvVknXQxgKRy4vsKjALl7kaRdCYSHQOqDDsdv1SiJhQj0RML\n",
       "VQOZTtlljjuUQ/72rBxESWYtpB2eITfypBqdvIe53HQYVX+AJOWlT/mhylSvTWxbl2FUrpBFxPk9\n",
       "GUmTliEKx0JNlNm2j8Ztu+IaddIEH6wrule2PBT4DKfl5iBQmY5ehhcAEh9/0DXoDCoPUWoCx/DS\n",
       "WpEaKATRhAmJuWlBaSHluPE5UL+1hl4Koo8bWzfAsOm+FCaaT3co14XJ+XAL2u0vmg+D/7+YF8IZ\n",
       "3Vghu+6qjTwIMzguitVriRaqLVE+aGzw5PMWG57d/9H6p0z4jv4PZgH/kl+HzHeYGcWrqQAAAABJ\n",
       "RU5ErkJggg==\n",
       "\" style=\"display:inline;vertical-align:middle;\" /></a>"
      ],
      "text/plain": [
       "sqrt((x + 2))"
      ]
     },
     "execution_count": 4,
     "metadata": {},
     "output_type": "execute_result"
    }
   ],
   "source": [
    "# A sqrt portrayed with a radical is produced using the special sqrt() call,\n",
    "# which invokes the Exp() class behind the scenes with special formatting\n",
    "sqrt(Add(x, two))"
   ]
  },
  {
   "cell_type": "markdown",
   "metadata": {},
   "source": [
    "## Common Attributes of a Subset expression <a id='common_attributes'></a>"
   ]
  },
  {
   "cell_type": "markdown",
   "metadata": {},
   "source": [
    "<font size=4>Let's define a simple example exponential expression, $(x-y)^2$, and look at some of its attributes.</font>"
   ]
  },
  {
   "cell_type": "code",
   "execution_count": 5,
   "metadata": {},
   "outputs": [
    {
     "data": {
      "text/html": [
       "<strong id=\"xMinusYQuantitySquared\">xMinusYQuantitySquared:</strong> <a class=\"ProveItLink\" href=\"__pv_it/489789469d387cbea4c67a3702a4a37afda14e430/expr.ipynb\"><img src=\"data:image/png;base64,iVBORw0KGgoAAAANSUhEUgAAAEYAAAAbBAMAAAAzEOSeAAAAMFBMVEX////MzMxUVFR2dna6uroQ\n",
       "EBCqqqqIiIgiIiJmZmYyMjJERETu7u6YmJjc3NwAAACgK8IjAAAAAXRSTlMAQObYZgAAATJJREFU\n",
       "KM9jYCAALHceIKSE+QHTAkJqOB4w/iOoxoHvCwNBwPaHsBqOAsJqLIGY7wJOWx4ACd4JQOI0biP0\n",
       "gNiZwZGBYR1uNacYGBiXpe2BmIUrAAsYWP///wAMJNxqeAIg9At8floCoSqB+HjRk2LUUDg+nYEv\n",
       "BuJvINgLNNKAt50DNeYMXBnYPzAw3ILw2oBOO8D8hwXFWXwJsxi4NzAwZEC4IUBzwHwgvQoMBEAi\n",
       "4Qz8QNvl4WoYwHwUwPKHQV4ArqYNRID4KIBzAUMpkPKAu5ntQD0DO2qK5FZg2MQAdzPQe/4J+xne\n",
       "opmjwPIXSE2G8IDGHSo/Phct8nnUK0FJdCEswWIPYqCLGHgaIGzscarFcN4BHKcQsA+bml6G7ZC0\n",
       "AQFY05h7pQCydtxplRfqVAAaBUnxxLx3QAAAAABJRU5ErkJggg==\n",
       "\" style=\"display:inline;vertical-align:middle;\" /></a><br>"
      ],
      "text/plain": [
       "xMinusYQuantitySquared: (x - y)^{2}"
      ]
     },
     "execution_count": 5,
     "metadata": {},
     "output_type": "execute_result"
    }
   ],
   "source": [
    "xMinusYQuantitySquared = Exp(subtract(x,y), two)"
   ]
  },
  {
   "cell_type": "code",
   "execution_count": 6,
   "metadata": {},
   "outputs": [
    {
     "data": {
      "text/html": [
       "<table><tr><th>&nbsp;</th><th>core type</th><th>sub-expressions</th><th>expression</th></tr>\n",
       "<tr><td>0</td><td>Operation</td><td>operator:&nbsp;1<br>operands:&nbsp;2<br></td><td><a class=\"ProveItLink\" href=\"__pv_it/489789469d387cbea4c67a3702a4a37afda14e430/expr.ipynb\"><img src=\"data:image/png;base64,iVBORw0KGgoAAAANSUhEUgAAAEYAAAAbBAMAAAAzEOSeAAAAMFBMVEX////MzMxUVFR2dna6uroQ\n",
       "EBCqqqqIiIgiIiJmZmYyMjJERETu7u6YmJjc3NwAAACgK8IjAAAAAXRSTlMAQObYZgAAATJJREFU\n",
       "KM9jYCAALHceIKSE+QHTAkJqOB4w/iOoxoHvCwNBwPaHsBqOAsJqLIGY7wJOWx4ACd4JQOI0biP0\n",
       "gNiZwZGBYR1uNacYGBiXpe2BmIUrAAsYWP///wAMJNxqeAIg9At8floCoSqB+HjRk2LUUDg+nYEv\n",
       "BuJvINgLNNKAt50DNeYMXBnYPzAw3ILw2oBOO8D8hwXFWXwJsxi4NzAwZEC4IUBzwHwgvQoMBEAi\n",
       "4Qz8QNvl4WoYwHwUwPKHQV4ArqYNRID4KIBzAUMpkPKAu5ntQD0DO2qK5FZg2MQAdzPQe/4J+xne\n",
       "opmjwPIXSE2G8IDGHSo/Phct8nnUK0FJdCEswWIPYqCLGHgaIGzscarFcN4BHKcQsA+bml6G7ZC0\n",
       "AQFY05h7pQCydtxplRfqVAAaBUnxxLx3QAAAAABJRU5ErkJggg==\n",
       "\" style=\"display:inline;vertical-align:middle;\" /></a></td></tr>\n",
       "<tr><td>1</td><td>Literal</td><td></td><td><a class=\"ProveItLink\" href=\"__pv_it/fca8e4218e687a7bc372d4b4009101e95bae518f0/expr.ipynb\"><img src=\"data:image/png;base64,iVBORw0KGgoAAAANSUhEUgAAACgAAAASBAMAAADbMYGVAAAAMFBMVEX///+qqqoQEBDc3NzMzMx2\n",
       "dnbu7u66urqYmJgyMjIiIiJUVFRmZmZERESIiIgAAADRBAegAAAAAXRSTlMAQObYZgAAAONJREFU\n",
       "GNNjYGB4+//O6V0/GdAASKAXTYz9H5DIQRNk/QIk8tAEOT8wsDIwownyX2DoAFJs7zbXxTGUXvZ7\n",
       "nQDk1c/Z9BlIpTJ0PVjJELBLgPUCkBfvwDABSIUxxCcUMwvMZuD4AOTNZ2AIYHBgSGC4CzSD4SMD\n",
       "6zeg4F8GhgS2B0AGyGns3xh4FaDOZAUazgJyGusChvwDUGd6MzCI8X1geMbAeYChCaiAC2guuwoD\n",
       "+0feD8wNQPexqDAwZM//fWbv+gkMbPuevQE6t77ujQF62DBEMWABc7CIsX3EIij1E+RgAJoNQWX9\n",
       "dNDfAAAAAElFTkSuQmCC\n",
       "\" style=\"display:inline;vertical-align:middle;\" /></a></td></tr>\n",
       "<tr><td>2</td><td>ExprTuple</td><td>3, 4</td><td><a class=\"ProveItLink\" href=\"__pv_it/32cef9e901521380b094b084953c6420c2df884b0/expr.ipynb\"><img src=\"data:image/png;base64,iVBORw0KGgoAAAANSUhEUgAAAE8AAAAUBAMAAAA+U32BAAAAMFBMVEX////MzMxUVFR2dna6uroQ\n",
       "EBCqqqqIiIgiIiJmZmYyMjJERETu7u6YmJjc3NwAAACgK8IjAAAAAXRSTlMAQObYZgAAAVZJREFU\n",
       "KM+NkzFLw1AUhb+a0NQ2jfkHdlNcGnCQbl1ENxdFB4euLiKKSCc7VRexm1QUMjtY6eIgahCkgoP+\n",
       "Asng0EUo6CBSre/ZJJJiUy+8cM7N4b1z370PjEcGxqr83Edr9OqFyZAr0Gm08AblDd2GdCVaeAQL\n",
       "MAUJN1q4BFmXW2gOqKPmkDVJ5ikK0lh/3lgL/W4cYCz7ZN9BqXApCrPSOwk7JLSm0VoeVl9FJTZl\n",
       "UBylrYasGoVDUmceSWQgXmJe7Ogl9ZOfMGVmkRHfTFWsWEsK+U36obYZNbtQq3SFZUn8ZBDDNpse\n",
       "XMFwUUuymLizjeaEhKkM9S6KWWiuLCYHc4VrXnp2zKif6B8CNSdz44JbzIp2bjWOe0ZIHyt+wa44\n",
       "ptbpvEPS7NtC4VJ48tldv6GY4CEvLjjgYii4+ku4x7lsZODE7je4M0V5YYHxlPT3n6fwBN8lXlQS\n",
       "KUTYYAAAAABJRU5ErkJggg==\n",
       "\" style=\"display:inline;vertical-align:middle;\" /></a></td></tr>\n",
       "<tr><td>3</td><td>Operation</td><td>operator:&nbsp;5<br>operands:&nbsp;6<br></td><td><a class=\"ProveItLink\" href=\"__pv_it/fb16104a5bd449f26f42cf3b13d80c9222a6e08b0/expr.ipynb\"><img src=\"data:image/png;base64,iVBORw0KGgoAAAANSUhEUgAAADAAAAANBAMAAAAdyPDHAAAAMFBMVEX///8QEBBmZmaqqqrMzMxE\n",
       "REQyMjIiIiKYmJh2dna6urrc3NxUVFSIiIju7u4AAAA6P00QAAAAAXRSTlMAQObYZgAAAJlJREFU\n",
       "GNNjYHh7Z9fNCwzI4K0uA7ccA98Ejlr2BBSJCQsZeD8wcD7g/Me1AVmc20CNgTWAgQ9EAAFfGhg4\n",
       "AFkMsgz8IMP5UW1gYOD6x+APVAAhkAFTAsNFBgbmB/cZeB+gSLAeYIhhYFhvEM+wA03HAa4fDAxv\n",
       "7r7VaECV4Dt76TcDdsCUgFX4GMP7BVglKhhisRu09hLQAwBd5Ce6/a5bXwAAAABJRU5ErkJggg==\n",
       "\" style=\"display:inline;vertical-align:middle;\" /></a></td></tr>\n",
       "<tr><td>4</td><td>Literal</td><td></td><td><a class=\"ProveItLink\" href=\"../numeral/__pv_it/fb4ccffdbfd0f653ebaacb95e7ff4802fd48a6f20/expr.ipynb\"><img src=\"data:image/png;base64,iVBORw0KGgoAAAANSUhEUgAAAAkAAAAOBAMAAAAPuiubAAAALVBMVEX///+qqqqIiIgyMjLc3Nwi\n",
       "IiIQEBC6urp2dnZUVFTMzMxERERmZmbu7u4AAAAQI6y7AAAAAXRSTlMAQObYZgAAAFJJREFUCNdj\n",
       "4D2zewEDw00GjucMDGcZGNIYGFIZGOY5MNhdYJgHlGBgiLsAJNhfgJisE0DkGRDBdABEyjCwODBw\n",
       "NTAwOTC4dvRMZWCwe/fuKQMANh0TGKpG4roAAAAASUVORK5CYII=\n",
       "\" style=\"display:inline;vertical-align:middle;\" /></a></td></tr>\n",
       "<tr><td>5</td><td>Literal</td><td></td><td><a class=\"ProveItLink\" href=\"../addition/__pv_it/65ad7e8aee19b10110d590375ba95a879c4fb7ea0/expr.ipynb\"><img src=\"data:image/png;base64,iVBORw0KGgoAAAANSUhEUgAAAA4AAAAPBAMAAAAmOuNHAAAAHlBMVEX////u7u5UVFQQEBAiIiIy\n",
       "MjJ2dnaIiIiqqqoAAABCN83zAAAAAXRSTlMAQObYZgAAABxJREFUCNdjYECAdlLo1NBQ59DQIJL1\n",
       "AYEgEAMABwsItInrGUMAAAAASUVORK5CYII=\n",
       "\" style=\"display:inline;vertical-align:middle;\" /></a></td></tr>\n",
       "<tr><td>6</td><td>ExprTuple</td><td>7, 8</td><td><a class=\"ProveItLink\" href=\"__pv_it/ad6cafefedcd2393f95918a37dac78d902997afc0/expr.ipynb\"><img src=\"data:image/png;base64,iVBORw0KGgoAAAANSUhEUgAAADwAAAAUBAMAAAAjLUMaAAAAMFBMVEX////MzMxUVFR2dna6uroQ\n",
       "EBCqqqqIiIgiIiJmZmYyMjJERETu7u6YmJjc3NwAAACgK8IjAAAAAXRSTlMAQObYZgAAAQhJREFU\n",
       "KM9jYOC7wIADsD0AEqcZcAI9IF6HW/oUAwPvBNzSzAUMHA9wS/MEMLxgwAOWMFQCyeNFT4oLUMSP\n",
       "T2fgi2FgsGTYCzTDgLedYwGKtIErA/sHBoZbDG1AFxxg/sOC4gS+hFkM3BsYGDIYQoC6wUyIV1aB\n",
       "wEIehnAGfqB18iBpBjATBbD8YZAXAEm3gXggJgrgXMBQCqQ8QE5jO1DPwH4ARZpbgWETA8hplgwM\n",
       "/gn7Gd4y8PxC1q3A8hdITQbqZzhUfnwuMNo6kAzgUa/8B6QWIgUq2wE02xl4GpCihBlJUovhvAM4\n",
       "Shj2wQMSSbqXYTskQhHJATnVuFeCvArSiTsx8T5gAADA10FMLDiCtwAAAABJRU5ErkJggg==\n",
       "\" style=\"display:inline;vertical-align:middle;\" /></a></td></tr>\n",
       "<tr><td>7</td><td>Variable</td><td></td><td><a class=\"ProveItLink\" href=\"../../__pv_it/72df168d2bfb4e0140af90912ebf83b13772060b0/expr.ipynb\"><img src=\"data:image/png;base64,iVBORw0KGgoAAAANSUhEUgAAAAsAAAAJBAMAAAAWSsseAAAALVBMVEX///9mZmaqqqrMzMxEREQy\n",
       "MjIiIiKYmJh2dna6urrc3NxUVFSIiIju7u4AAACJHQtQAAAAAXRSTlMAQObYZgAAAEJJREFUCNdj\n",
       "YLhzeuWJAwy8Dew5bAEMHBc43nIuYOBlYHFgAAG+A2DKzgBIMF04x8BzgWGegh/DcgaG22fuiBcw\n",
       "AAATyhBrnyPYZQAAAABJRU5ErkJggg==\n",
       "\" style=\"display:inline;vertical-align:middle;\" /></a></td></tr>\n",
       "<tr><td>8</td><td>Operation</td><td>operator:&nbsp;9<br>operand:&nbsp;10<br></td><td><a class=\"ProveItLink\" href=\"__pv_it/4597b45c84d9ab4a805ad3f3f1c71dfe93ab31530/expr.ipynb\"><img src=\"data:image/png;base64,iVBORw0KGgoAAAANSUhEUgAAABoAAAANBAMAAABFt2PeAAAAMFBMVEX///8iIiKYmJhUVFRERESq\n",
       "qqq6urp2dnYQEBDc3NxmZmaIiIjMzMwyMjLu7u4AAABBcqZSAAAAAXRSTlMAQObYZgAAAGJJREFU\n",
       "CNdjYICC16sZOPtgHIaCDAbuDzAOZ8BaBhYHhrd3QeAOH0M3A/8GuEq2fwznD8B5XBcYdsA5DCwG\n",
       "DM4IHpcB2ycEj896108GJADUCQe2DO8TEDwhBm8kddm7gLYBAFRsGS/yktjbAAAAAElFTkSuQmCC\n",
       "\" style=\"display:inline;vertical-align:middle;\" /></a></td></tr>\n",
       "<tr><td>9</td><td>Literal</td><td></td><td><a class=\"ProveItLink\" href=\"../negation/__pv_it/2867787e35502987d81a45cac8e7f1c6996d6ff40/expr.ipynb\"><img src=\"data:image/png;base64,iVBORw0KGgoAAAANSUhEUgAAAA4AAAACBAMAAACapPCZAAAAD1BMVEX////MzMwyMjLu7u4AAAC4\n",
       "fJKRAAAAAXRSTlMAQObYZgAAABBJREFUCNdjMFICAUUGKAAADB8A/huHQ9UAAAAASUVORK5CYII=\n",
       "\" style=\"display:inline;vertical-align:middle;\" /></a></td></tr>\n",
       "<tr><td>10</td><td>Variable</td><td></td><td><a class=\"ProveItLink\" href=\"../../__pv_it/c6e291955561f22a0e6708fd793ea93f1c7dbb5d0/expr.ipynb\"><img src=\"data:image/png;base64,iVBORw0KGgoAAAANSUhEUgAAAAsAAAANBAMAAACN24kIAAAAMFBMVEX///8iIiKYmJhUVFTMzMxE\n",
       "REQyMjKqqqq6urp2dnYQEBDc3NxmZmaIiIju7u4AAACH5sGpAAAAAXRSTlMAQObYZgAAAFlJREFU\n",
       "CNdj4LtzgWHXAwZOjgUM9xkYtvMkMIQyMDzgusDwl4GBof8ByxcgdYyBdwGQCmZgNQBShxn6FYDU\n",
       "47vnNzAwgGUZGJgT+H4AKUYF1gtAiuPuESAJAJGkFvXVdzA+AAAAAElFTkSuQmCC\n",
       "\" style=\"display:inline;vertical-align:middle;\" /></a></td></tr>\n",
       "</table>\n"
      ],
      "text/plain": [
       "0. (x - y)^{2}\n",
       "   core type: Operation\n",
       "   operator: 1\n",
       "   operands: 2\n",
       "1. Exp\n",
       "   core type: Literal\n",
       "   sub-expressions: \n",
       "2. (x - y, 2)\n",
       "   core type: ExprTuple\n",
       "   sub-expressions: 3, 4\n",
       "3. x - y\n",
       "   core type: Operation\n",
       "   operator: 5\n",
       "   operands: 6\n",
       "4. 2\n",
       "   core type: Literal\n",
       "   sub-expressions: \n",
       "5. +\n",
       "   core type: Literal\n",
       "   sub-expressions: \n",
       "6. (x, -y)\n",
       "   core type: ExprTuple\n",
       "   sub-expressions: 7, 8\n",
       "7. x\n",
       "   core type: Variable\n",
       "   sub-expressions: \n",
       "8. -y\n",
       "   core type: Operation\n",
       "   operator: 9\n",
       "   operand: 10\n",
       "9. -\n",
       "   core type: Literal\n",
       "   sub-expressions: \n",
       "10. y\n",
       "    core type: Variable\n",
       "    sub-expressions: "
      ]
     },
     "execution_count": 6,
     "metadata": {},
     "output_type": "execute_result"
    }
   ],
   "source": [
    "xMinusYQuantitySquared.exprInfo()"
   ]
  },
  {
   "cell_type": "markdown",
   "metadata": {},
   "source": [
    "<font size=4>We can access the base and exponent separately, and identify the `Exp` operator as the outermost operation:</font>"
   ]
  },
  {
   "cell_type": "code",
   "execution_count": 7,
   "metadata": {},
   "outputs": [
    {
     "data": {
      "text/html": [
       "<a class=\"ProveItLink\" href=\"__pv_it/fb16104a5bd449f26f42cf3b13d80c9222a6e08b0/expr.ipynb\"><img src=\"data:image/png;base64,iVBORw0KGgoAAAANSUhEUgAAADAAAAANBAMAAAAdyPDHAAAAMFBMVEX///8QEBBmZmaqqqrMzMxE\n",
       "REQyMjIiIiKYmJh2dna6urrc3NxUVFSIiIju7u4AAAA6P00QAAAAAXRSTlMAQObYZgAAAJlJREFU\n",
       "GNNjYHh7Z9fNCwzI4K0uA7ccA98Ejlr2BBSJCQsZeD8wcD7g/Me1AVmc20CNgTWAgQ9EAAFfGhg4\n",
       "AFkMsgz8IMP5UW1gYOD6x+APVAAhkAFTAsNFBgbmB/cZeB+gSLAeYIhhYFhvEM+wA03HAa4fDAxv\n",
       "7r7VaECV4Dt76TcDdsCUgFX4GMP7BVglKhhisRu09hLQAwBd5Ce6/a5bXwAAAABJRU5ErkJggg==\n",
       "\" style=\"display:inline;vertical-align:middle;\" /></a>"
      ],
      "text/plain": [
       "x - y"
      ]
     },
     "execution_count": 7,
     "metadata": {},
     "output_type": "execute_result"
    }
   ],
   "source": [
    "xMinusYQuantitySquared.base"
   ]
  },
  {
   "cell_type": "code",
   "execution_count": 8,
   "metadata": {},
   "outputs": [
    {
     "data": {
      "text/html": [
       "<a class=\"ProveItLink\" href=\"../numeral/__pv_it/fb4ccffdbfd0f653ebaacb95e7ff4802fd48a6f20/expr.ipynb\"><img src=\"data:image/png;base64,iVBORw0KGgoAAAANSUhEUgAAAAkAAAAOBAMAAAAPuiubAAAALVBMVEX///+qqqqIiIgyMjLc3Nwi\n",
       "IiIQEBC6urp2dnZUVFTMzMxERERmZmbu7u4AAAAQI6y7AAAAAXRSTlMAQObYZgAAAFJJREFUCNdj\n",
       "4D2zewEDw00GjucMDGcZGNIYGFIZGOY5MNhdYJgHlGBgiLsAJNhfgJisE0DkGRDBdABEyjCwODBw\n",
       "NTAwOTC4dvRMZWCwe/fuKQMANh0TGKpG4roAAAAASUVORK5CYII=\n",
       "\" style=\"display:inline;vertical-align:middle;\" /></a>"
      ],
      "text/plain": [
       "2"
      ]
     },
     "execution_count": 8,
     "metadata": {},
     "output_type": "execute_result"
    }
   ],
   "source": [
    "xMinusYQuantitySquared.exponent"
   ]
  },
  {
   "cell_type": "code",
   "execution_count": 9,
   "metadata": {},
   "outputs": [
    {
     "data": {
      "text/html": [
       "<a class=\"ProveItLink\" href=\"__pv_it/fca8e4218e687a7bc372d4b4009101e95bae518f0/expr.ipynb\"><img src=\"data:image/png;base64,iVBORw0KGgoAAAANSUhEUgAAACgAAAASBAMAAADbMYGVAAAAMFBMVEX///+qqqoQEBDc3NzMzMx2\n",
       "dnbu7u66urqYmJgyMjIiIiJUVFRmZmZERESIiIgAAADRBAegAAAAAXRSTlMAQObYZgAAAONJREFU\n",
       "GNNjYGB4+//O6V0/GdAASKAXTYz9H5DIQRNk/QIk8tAEOT8wsDIwownyX2DoAFJs7zbXxTGUXvZ7\n",
       "nQDk1c/Z9BlIpTJ0PVjJELBLgPUCkBfvwDABSIUxxCcUMwvMZuD4AOTNZ2AIYHBgSGC4CzSD4SMD\n",
       "6zeg4F8GhgS2B0AGyGns3xh4FaDOZAUazgJyGusChvwDUGd6MzCI8X1geMbAeYChCaiAC2guuwoD\n",
       "+0feD8wNQPexqDAwZM//fWbv+gkMbPuevQE6t77ujQF62DBEMWABc7CIsX3EIij1E+RgAJoNQWX9\n",
       "dNDfAAAAAElFTkSuQmCC\n",
       "\" style=\"display:inline;vertical-align:middle;\" /></a>"
      ],
      "text/plain": [
       "Exp"
      ]
     },
     "execution_count": 9,
     "metadata": {},
     "output_type": "execute_result"
    }
   ],
   "source": [
    "xMinusYQuantitySquared.operator"
   ]
  },
  {
   "cell_type": "markdown",
   "metadata": {},
   "source": [
    "<font size=4>We can grab all the components (base and exponent) of the expression simultaneously as a tuple of expressions. We can also get a list of the variables and a separate list of the *free* variables in the expression (of course, in this expression, all the variables are also free variables):</font>"
   ]
  },
  {
   "cell_type": "code",
   "execution_count": 10,
   "metadata": {},
   "outputs": [
    {
     "data": {
      "text/html": [
       "<a class=\"ProveItLink\" href=\"__pv_it/32cef9e901521380b094b084953c6420c2df884b0/expr.ipynb\"><img src=\"data:image/png;base64,iVBORw0KGgoAAAANSUhEUgAAAE8AAAAUBAMAAAA+U32BAAAAMFBMVEX////MzMxUVFR2dna6uroQ\n",
       "EBCqqqqIiIgiIiJmZmYyMjJERETu7u6YmJjc3NwAAACgK8IjAAAAAXRSTlMAQObYZgAAAVZJREFU\n",
       "KM+NkzFLw1AUhb+a0NQ2jfkHdlNcGnCQbl1ENxdFB4euLiKKSCc7VRexm1QUMjtY6eIgahCkgoP+\n",
       "Asng0EUo6CBSre/ZJJJiUy+8cM7N4b1z370PjEcGxqr83Edr9OqFyZAr0Gm08AblDd2GdCVaeAQL\n",
       "MAUJN1q4BFmXW2gOqKPmkDVJ5ikK0lh/3lgL/W4cYCz7ZN9BqXApCrPSOwk7JLSm0VoeVl9FJTZl\n",
       "UBylrYasGoVDUmceSWQgXmJe7Ogl9ZOfMGVmkRHfTFWsWEsK+U36obYZNbtQq3SFZUn8ZBDDNpse\n",
       "XMFwUUuymLizjeaEhKkM9S6KWWiuLCYHc4VrXnp2zKif6B8CNSdz44JbzIp2bjWOe0ZIHyt+wa44\n",
       "ptbpvEPS7NtC4VJ48tldv6GY4CEvLjjgYii4+ku4x7lsZODE7je4M0V5YYHxlPT3n6fwBN8lXlQS\n",
       "KUTYYAAAAABJRU5ErkJggg==\n",
       "\" style=\"display:inline;vertical-align:middle;\" /></a>"
      ],
      "text/plain": [
       "(x - y, 2)"
      ]
     },
     "execution_count": 10,
     "metadata": {},
     "output_type": "execute_result"
    }
   ],
   "source": [
    "xMinusYQuantitySquared.operands"
   ]
  },
  {
   "cell_type": "code",
   "execution_count": 11,
   "metadata": {},
   "outputs": [
    {
     "data": {
      "text/plain": [
       "{x, y}"
      ]
     },
     "execution_count": 11,
     "metadata": {},
     "output_type": "execute_result"
    }
   ],
   "source": [
    "used_vars(xMinusYQuantitySquared)"
   ]
  },
  {
   "cell_type": "code",
   "execution_count": 12,
   "metadata": {},
   "outputs": [
    {
     "data": {
      "text/plain": [
       "{x, y}"
      ]
     },
     "execution_count": 12,
     "metadata": {},
     "output_type": "execute_result"
    }
   ],
   "source": [
    "free_vars(xMinusYQuantitySquared, err_inclusively=True)"
   ]
  },
  {
   "cell_type": "markdown",
   "metadata": {},
   "source": [
    "## Axioms <a id='axioms'></a>"
   ]
  },
  {
   "cell_type": "markdown",
   "metadata": {},
   "source": [
    "<font size=4>The ``axioms`` for the exponentiation context establish the basic definitions of exponentiation … Actually, right now we have no separate axioms for the exponentiation context.</font>"
   ]
  },
  {
   "cell_type": "markdown",
   "metadata": {},
   "source": [
    "## Theorems <a id='theorems'></a>"
   ]
  },
  {
   "cell_type": "markdown",
   "metadata": {},
   "source": [
    "<font size=4>The ``theorems`` for the exponentiation context establish many of the basic laws of exponentiation as well as some closure principles.</font>"
   ]
  },
  {
   "cell_type": "markdown",
   "metadata": {},
   "source": [
    "## Demonstrations (TBA) <a id='further_demonstrations'></a>"
   ]
  },
  {
   "cell_type": "markdown",
   "metadata": {},
   "source": [
    "<a id='demo01'></a><font size=4>1. TBA.<br><br>\n",
    "We begin with something simple …</font>"
   ]
  },
  {
   "cell_type": "markdown",
   "metadata": {},
   "source": [
    "<a id='demo02'></a><font size=4><br>2. TBA.<br><br>\n",
    "Something else relatively simple …</font>"
   ]
  },
  {
   "cell_type": "markdown",
   "metadata": {},
   "source": [
    "<a id='demo03'></a><font size=4><br>3. TBA.<br><br>\n",
    "Something more complex …</font>"
   ]
  },
  {
   "cell_type": "markdown",
   "metadata": {},
   "source": [
    "## Misc To Be Integrated Into the Demonstration Page"
   ]
  },
  {
   "cell_type": "code",
   "execution_count": 13,
   "metadata": {},
   "outputs": [
    {
     "data": {
      "text/html": [
       "<strong id=\"exp_test_01\">exp_test_01:</strong> <a class=\"ProveItLink\" href=\"__pv_it/9e5bcfa1bf73f29c5838c0970d0ebfe3a0b4da170/expr.ipynb\"><img src=\"data:image/png;base64,iVBORw0KGgoAAAANSUhEUgAAABUAAAAQBAMAAAAL9CkWAAAAMFBMVEX///8QEBBmZmaqqqrMzMxE\n",
       "REQyMjIiIiKYmJh2dna6urrc3NxUVFSIiIju7u4AAAA6P00QAAAAAXRSTlMAQObYZgAAAHpJREFU\n",
       "CNdjYAADrjsM7A8gTAZO/geOUCbDvuUMV2FsBk2Gs3B2FYMInF3C9QHOXnM1AUi+vbPr5gW+DawN\n",
       "DAx8Ezhq2RN4JiwDmfyA8x/XBq7OCUA2HwNrAFwXA/8FBNvfAcZifnCfgRfqrPUG8Qw7oOJv7r7V\n",
       "aIAwATGZH/CoOnM2AAAAAElFTkSuQmCC\n",
       "\" style=\"display:inline;vertical-align:middle;\" /></a><br>\n",
       "<strong id=\"exp_test_02\">exp_test_02:</strong> <a class=\"ProveItLink\" href=\"__pv_it/e5a6ec9b430f928e661014c9cfedf218d57371530/expr.ipynb\"><img src=\"data:image/png;base64,iVBORw0KGgoAAAANSUhEUgAAABEAAAAUBAMAAACZjst6AAAAMFBMVEX///+YmJiqqqqIiIgyMjLc\n",
       "3NwiIiIQEBC6urp2dnZUVFTMzMxERERmZmbu7u4AAADrYmUNAAAAAXRSTlMAQObYZgAAAH1JREFU\n",
       "CNdjYAABTtt1DBBwkeEOlHWTQZ4BBmBiDHzVMJaJAZB398wGiOwrBs4fQFa8AsM9BoZyoKp4AYYy\n",
       "Bob1AakM4g8Y/B8wrN+w03IpWGP+A6gJHD9hZrEtgLHuwhjMF2AsXQbWADCDewIDM4QVNnPuMoik\n",
       "////38AMAPc4H96J0DaDAAAAAElFTkSuQmCC\n",
       "\" style=\"display:inline;vertical-align:middle;\" /></a><br>\n",
       "<strong id=\"exp_test_03\">exp_test_03:</strong> <a class=\"ProveItLink\" href=\"__pv_it/0b54aa616d65dca073768257333b00c8d6ae46ab0/expr.ipynb\"><img src=\"data:image/png;base64,iVBORw0KGgoAAAANSUhEUgAAABsAAAAVBAMAAABF8IgWAAAAMFBMVEX////MzMxEREQQEBCYmJh2\n",
       "dnYiIiLu7u6qqqpmZmYyMjK6urpUVFSIiIjc3NwAAADOWS8BAAAAAXRSTlMAQObYZgAAAK9JREFU\n",
       "GNNjYIAAvv8g8AHKY+DZwIAMXqHwGGag8NgTULisDSjcMgaGykmKcG4IA/sBhvgNCK2cBQzMBlAu\n",
       "rwMDcwIDzz8gczcQszEwcH1n4PkIlLACcu+C1bB9Z2B4fh9oAMTW/QFAol6BgeUCmJsDIjj/MbAV\n",
       "gBkTwF77yeAKlrwJseV8QTqI4pjA8A5Ey0eAVYkyMNwD0VxWIK18qaFzwBZw/AQLAsMGYp8ewmcA\n",
       "dDkq0OELPnAAAAAASUVORK5CYII=\n",
       "\" style=\"display:inline;vertical-align:middle;\" /></a><br>"
      ],
      "text/plain": [
       "exp_test_01: x^{y}\n",
       "exp_test_02: 2^{3}\n",
       "exp_test_03: sqrt(2)"
      ]
     },
     "execution_count": 13,
     "metadata": {},
     "output_type": "execute_result"
    }
   ],
   "source": [
    "# Some example test expressions involving Exp or sqrt()\n",
    "exp_test_01, exp_test_02, exp_test_03 = Exp(x, y), Exp(two, three), sqrt(two)"
   ]
  },
  {
   "cell_type": "markdown",
   "metadata": {},
   "source": [
    "Some testing of closure theorems."
   ]
  },
  {
   "cell_type": "code",
   "execution_count": 14,
   "metadata": {},
   "outputs": [
    {
     "name": "stdout",
     "output_type": "stream",
     "text": [
      "EXCEPTION: neither closure theorem applies without more constraints.  Positive base condition failed and non-zero exponent condition failed. Need base ≥ 0 and exponent ≠ 0, OR base > 0.\n"
     ]
    }
   ],
   "source": [
    "# if we don't know anything about the base or exponent, difficult\n",
    "# to know what set(s) the result belongs to \n",
    "try:\n",
    "    exp_test_01.deduceInNumberSet(Reals)\n",
    "except Exception as e:\n",
    "    print(\"EXCEPTION: neither closure theorem applies without more constraints. \", e)"
   ]
  },
  {
   "cell_type": "code",
   "execution_count": 15,
   "metadata": {},
   "outputs": [
    {
     "data": {
      "text/html": [
       "<span style=\"font-size:20px;\"><a class=\"ProveItLink\" href=\"__pv_it/1ceb10f75aa466be8f641f62b3915ef9743f4fc50/expr.ipynb\"><img src=\"data:image/png;base64,iVBORw0KGgoAAAANSUhEUgAAAPgAAAAVCAMAAABc1dNlAAAAOVBMVEX///8kJCQNDQ0oKCiIiIi6\n",
       "urrc3NxERETMzMwQEBCqqqpUVFQiIiJ2dnYyMjLu7u5mZmaYmJgAAACs2H6dAAAAAXRSTlMAQObY\n",
       "ZgAAAsVJREFUWMPlmNuinCAMRWnLHSHI/39sAUUEgoNn3loe5uYsdgIJiRKSxu538p8M6SmUz+Ds\n",
       "P+mjBfRnpuT5aQ/rk+2bEiI4p8T7GPmGLb7Q3crF/3I3IX25YLc32o6AiREjdgGv7V5mYfPYP5xO\n",
       "l/iamGET8vL3neOCcHu8mdeOv2C1M4ODu8rmurUNFzNyzfFdbHG4wXjPyWcDevgNS5gzXVSLvFw6\n",
       "LIVaAzfkiuNSUMB3LRovPh2gA7zOnhOIe7iSkM1nQb/d8JYcHQdKDWfU0nrewyxcDWFNuAL1CeMK\n",
       "HuAJiygX842rXkLwh/n0UfeUum94S1pVguKMO7Dp5KWkxqbhszzVm2/9srFMxDdaKwQCT1hEubru\n",
       "r8OMh1x2ZeN4r2tdHn9+p1ePkqWK6VLXUt2zMQ0Yr4aijquUuG28cX1UCSHIA4yzmPKtBvpL49g3\n",
       "Geyj7rjhPZkXRIprRaGfQCpXRrtrzJOuIMVvKi1n3Q0MxllEuQy63boQLNRH3UO8TaWeNBttOpl+\n",
       "Ai5mJckz2V9j6ciUQT7BM5aMpucE2Nrfwnk26yfdQ6gLnZZ057KYakc3gZrWYgF7Z2iOOKoe4Rk7\n",
       "Kufk7hu8Iyj2tpx1ujnHf53RZlDy6lTLqa7hOCNqEfJ0ZnyMJS/HIituIYbAM3ZUbo7zxwZm0E1b\n",
       "yp/I61Q/HU9VTkR5flvoTU/aTmJ1bhEgFDO8SVPcN2mEJ+yoDG0Bv88IqpFFdAnzcxKp42AojVVx\n",
       "v88BRjBAbjRkih6XUmbbgFy4D/wBnrKYMt7C21jvs/WXLKJLkO6jkqstK7OibVmHphq6fHsB6/f3\n",
       "OSja6mr/4Rbvclx9dddbuyAI7EfsF7KYroNFx9/cj48xdB5h6QgW9GcscsVtdcgndNTVn5azxsc3\n",
       "T2BKXrKYafKH7BeyiO6nDWeK3bLiH3rmxpaeuf0F4PApa8uCRTIAAAAASUVORK5CYII=\n",
       "\" style=\"display:inline;vertical-align:middle;\" /></a> <a class=\"ProveItLink\" href=\"__pv_it/0f6eb87635ec8a24c29dedd136b1c7a54b2211d30/proof.ipynb\" style=\"text-decoration: none\">&#x22A2;&nbsp;</a><a class=\"ProveItLink\" href=\"__pv_it/1b404405450d8224355241c7ced002b994853ac40/expr.ipynb\"><img src=\"data:image/png;base64,iVBORw0KGgoAAAANSUhEUgAAAD4AAAARBAMAAAB3FQKUAAAAMFBMVEX///8QEBBmZmaqqqrMzMxE\n",
       "REQyMjIiIiKYmJh2dna6urrc3NxUVFSIiIju7u4AAAA6P00QAAAAAXRSTlMAQObYZgAAAPhJREFU\n",
       "KM9jYAADrjsM7A8YcANO/geOeKQZ9i1nuIoiwFEY+i0xAsHXZDiLqoON7wBLRBycW8UggirPyj2B\n",
       "IWAPnFvC9QHCaC0vT4DJa7PB5ddcBYsyuN5D0q/NCmS8vbPr5gW+DawNIFG+PGTzD6wBikzgqGVP\n",
       "4JmwDCzKswFJnrkIqJrzAec/rg1cnRMgokjuEy9PBpnIwBqAcLVjGhBA3TdLAeI9/gsI+a3I/tNy\n",
       "BbP8HRDyjMjyrC+AOpkf3GfghUcN0wUkeZYDKgwM6w3iGXYgDChGCl+GyTwODG/uvtVoQMi/iXoA\n",
       "jx8H1rDPGDG5MhwSvlAAAH8AQ10WQ5bQAAAAAElFTkSuQmCC\n",
       "\" style=\"display:inline;vertical-align:middle;\" /></a></span>"
      ],
      "text/plain": [
       "{x in Reals, y in Reals, x >= 0, y != 0} |- x^{y} in Reals"
      ]
     },
     "execution_count": 15,
     "metadata": {},
     "output_type": "execute_result"
    }
   ],
   "source": [
    "# if we know x, y are Real with some constraints:\n",
    "exp_test_01.deduceInNumberSet(Reals,\n",
    "        assumptions=[InSet(x, Reals), InSet(y, Reals), GreaterEq(x, zero), NotEquals(y, zero)])"
   ]
  },
  {
   "cell_type": "code",
   "execution_count": 16,
   "metadata": {},
   "outputs": [
    {
     "data": {
      "text/html": [
       "<span style=\"font-size:20px;\"><a class=\"ProveItLink\" href=\"__pv_it/63502fca92d45192c2133bc7aaafe7a89074ff1e0/expr.ipynb\"><img src=\"data:image/png;base64,iVBORw0KGgoAAAANSUhEUgAAAL4AAAAVBAMAAAAKgUmDAAAAMFBMVEX///+IiIi6urrc3NxERETM\n",
       "zMwQEBCqqqpUVFQiIiJ2dnYyMjLu7u5mZmaYmJgAAABN0h6tAAAAAXRSTlMAQObYZgAAAp1JREFU\n",
       "OMu1VU1oE1EQnmY3Jtm8TdeLVGlRDxaxSoOISA+SSg4WQ5tDEC+SCPUg9bAnQRS6op70YCkoS1VS\n",
       "EUT0sBd/sIovt4BgrcVTpSgUQS8KHhRbxfe3m0ndXU8Z2DCbed/33nwzbxYAcsvQGTvey3/JM+iU\n",
       "9ZfZT+5bWCh3vbj6eDQS+Xl8bG78Qwz17BfGbXrMM66FLsgSJzlaisR7Tais0Mhw1ibTijqCX9fq\n",
       "UDgQSVAYYiuc9v9etRL6BPAgnH/FdT2ffzH7j2wj7ozPb+a99iC5b/nuYYBJGsZf6UXnX9TX0SeH\n",
       "aev8Zr6wfvvND5XzE2DQRvyNnr1b+ObkOdbH2Sn9xgJop4UCFOmTTih9fDCv+3uZyW/Gb4FRY36a\n",
       "ZUnquakMzzadR/ypW2q3ej90iS67iPU/uyR3C8Dczokl2i+AqiVb8wxrJIMaawlOraP6nnKfSFez\n",
       "l0AXWrQEKex3Z2zpBmBhA1c5gp2/Wgd4wQSf5kdQeDg6x0zV984b1Z4ETkA3FyA5wcPq/Ht06od1\n",
       "VIiBUksfSE+pSybxAPtwf76tKD+xBlW+SkPnHzJ3BG/dQd8ofXh9J1l6T7nkYpnAA2zA/PprhWP3\n",
       "cJNwalj/0kf/RYFb9YUiwFcq9ef9k6JboYuna1qIP+m8U77DG5rZAuY/ZkraAIz6U92vmuIftMfg\n",
       "oAjcQPMB7qXLZJXv6iT+iD8zNpoPhn0Z5j0ERvcrY5OT6P42NzaW5eVuHqLBfCvrR36Ay97Jhb7v\n",
       "spSXdgfz7REUX9qZmwiM5gOZ7SmHz4ddI27btU9RVQFZ6btqPvh2Pm4+S/5a7Aw32HMF5rdFhOv/\n",
       "5Q+f/4E12HMbhiOixIrDyqzjv19c0+195YhoLv77JbJOdfL7+xepl7zS6HXjNQAAAABJRU5ErkJg\n",
       "gg==\n",
       "\" style=\"display:inline;vertical-align:middle;\" /></a> <a class=\"ProveItLink\" href=\"__pv_it/1d89c65bb474c671b2fb326a7da42659743ee26d0/proof.ipynb\" style=\"text-decoration: none\">&#x22A2;&nbsp;</a><a class=\"ProveItLink\" href=\"__pv_it/1b404405450d8224355241c7ced002b994853ac40/expr.ipynb\"><img src=\"data:image/png;base64,iVBORw0KGgoAAAANSUhEUgAAAD4AAAARBAMAAAB3FQKUAAAAMFBMVEX///8QEBBmZmaqqqrMzMxE\n",
       "REQyMjIiIiKYmJh2dna6urrc3NxUVFSIiIju7u4AAAA6P00QAAAAAXRSTlMAQObYZgAAAPhJREFU\n",
       "KM9jYAADrjsM7A8YcANO/geOeKQZ9i1nuIoiwFEY+i0xAsHXZDiLqoON7wBLRBycW8UggirPyj2B\n",
       "IWAPnFvC9QHCaC0vT4DJa7PB5ddcBYsyuN5D0q/NCmS8vbPr5gW+DawNIFG+PGTzD6wBikzgqGVP\n",
       "4JmwDCzKswFJnrkIqJrzAec/rg1cnRMgokjuEy9PBpnIwBqAcLVjGhBA3TdLAeI9/gsI+a3I/tNy\n",
       "BbP8HRDyjMjyrC+AOpkf3GfghUcN0wUkeZYDKgwM6w3iGXYgDChGCl+GyTwODG/uvtVoQMi/iXoA\n",
       "jx8H1rDPGDG5MhwSvlAAAH8AQ10WQ5bQAAAAAElFTkSuQmCC\n",
       "\" style=\"display:inline;vertical-align:middle;\" /></a></span>"
      ],
      "text/plain": [
       "{x in Reals, y in Reals, x > 0} |- x^{y} in Reals"
      ]
     },
     "execution_count": 16,
     "metadata": {},
     "output_type": "execute_result"
    }
   ],
   "source": [
    "# if we know x, y are Real with some constraints:\n",
    "exp_test_01.deduceInNumberSet(Reals,\n",
    "        assumptions=[InSet(x, Reals), InSet(y, Reals), Greater(x, zero)])"
   ]
  },
  {
   "cell_type": "code",
   "execution_count": 17,
   "metadata": {},
   "outputs": [
    {
     "data": {
      "text/html": [
       "<span style=\"font-size:20px;\"> <a class=\"ProveItLink\" href=\"_proofs_/expRealClosure.ipynb\" style=\"text-decoration: none\">&#x22A2;&nbsp;</a><a class=\"ProveItLink\" href=\"__pv_it/f2300977c255dd3992840af4208434d47ab3c1590/expr.ipynb\"><img src=\"data:image/png;base64,iVBORw0KGgoAAAANSUhEUgAAAVkAAAAcCAMAAAD8zjyCAAAAOVBMVEX///8oKCgUFBQNDQ0QEBCI\n",
       "iIhmZma6urrMzMxUVFQiIiJERETc3Nzu7u6qqqp2dnaYmJgyMjIAAAArQGDrAAAAAXRSTlMAQObY\n",
       "ZgAABMJJREFUaN7tWtly4zgM1MyKJwge+v+PXZ4ST8seJ29iVZSyw+bRBBoAlW172l1jzj0k/E4z\n",
       "9OHgZxpn7WenP4KTh8EVsaL74lCfqYd4OJw3hx3TByECP1EP+5A4a7T3ZiJxIx9JrQzncIU9+zAd\n",
       "mjp68wRPtX2RHli5AxzO7VAYjOdg9MoJnkQgt90HNPpSO92G/u8cLGA+nfCAclbwsBp5HBKBYMT7\n",
       "y/QANmXSr3wAUlemavTD6lQMgmra1uwsSN9czyxVRVxp6G8Nhqbkw2okbZ9kYcY0n4Hg1GY9s/kE\n",
       "SBzlgNCk+UU7uEsgX6BuU0n+D1PyNZSelqiooWQfgw+OASkzK85UlkXLF3ECeDMbfquIbmuY9ZkR\n",
       "Q8IfNZtFkhvsHbhfKI6YGRSK37PdM+KOsYdQC53VkhbS+RFIZTQexGL9WhIQ1JFl7Bw6xJlWK1G1\n",
       "ndiwHJHcaL7+dhes/ngLbhdK+QQzgbpsdbjbopcDjTNm9yC8+lLreGhBYcmQzKI2lNpQBfvlGCRD\n",
       "Eb3q0E3OG7NDUTmHZDnyYtxOWYI9UbwzWUUFX4Drgj3Bmmo/Be0eg2MuJfN50OjPcrwD4LsrrbFZ\n",
       "b6BwygQmZkMxNsQvC1ohbpk4i7YvopcdOmZFp2YKiuVhdJmYz7jwFWEXCQklBiVUFPgUHPYsbT1l\n",
       "U+3HTY8YNxity8zucAL69S+yLso4dDar3HkJgZQId0pENoRInOmK6GWHnlnZDhxjK8U0VNhXpCO5\n",
       "DFwuKitsA97QAJuBA3uumrKp9pmZTjhxVcjWfEQ9PmYJ7yqfBbSn1+RjBSWSuaDk/su26I3EUUq7\n",
       "InrZoWM2ZXPXwDkMkjj96XBR/DbDiskmVM4EO7Dn1geKARw0IBXoCZYXKmLm85//sROMHuRAQGY2\n",
       "WLZwm1a39wqFWW+elNe5gR+fZuMI9HAZraQijgohWVdErzt0zDJoBr7SRpUPdidnL4Risukzg20G\n",
       "Js5uIzg6fAWrq32iK0uqMWxwbbJX+5RilpxIPa9uQ7GV9evMig9yVXZERMmKRx2G9yapiGVdEb3u\n",
       "0DMrmoFLQhGMNqlYVCSeKPBGm4IKq54tGAnoS2crMA9nbfU15VXtI9TCXk/Ih5SoWBsKQrgSZJKY\n",
       "+SjMcLyR4SFlc9HWr5zC5tHCmYINcUk0zq65wa6IXnbomOXQDpzEIPU+Q3Xh0FOQ/CnFgvSswVlk\n",
       "Z+CkqXDC8kKFj+F//4RIbicTTi6pd/ZGvm6gqW7H3K1XjOiiLIiV4Y2MmhCgVPC3UkTPOsyYRdkO\n",
       "fAWwdNmWlM6acmcsKlR6XmCkcG27A/MkT8FoE+yq9pVYYK55axn9gWIUh8sHJogmNMVpXQoB44zf\n",
       "k6/6eLDVs4iedJjnBtgMrESV7hOT03nKan8tqPw8wZy3NVgNLmkAFNhV7V9p5jAhZZN89QcuH17e\n",
       "OZIso029dddhwizR7W0Gn19w1jXoiSJv3b+5GogDTJv1hDOHFt9f+kn+IUC/+6YNbqrBYWC7GOKd\n",
       "O+MleFuzlzF69hoFv/7vAvuxoLz9OqfZGbuF4eQlU0K1WA2l4Tvg7VTexYQ4f7mlv/z3gt98h0A/\n",
       "M3WCSwe5d5MX4DsMWbyf0uy73T+vvX61/Q85mzzLMqptbQAAAABJRU5ErkJggg==\n",
       "\" style=\"display:inline;vertical-align:middle;\" /></a></span>"
      ],
      "text/plain": [
       "|- forall_{a in Reals, b in Reals | (a > 0) or ((a >= 0) and (b != 0))} (a^{b} in Reals)"
      ]
     },
     "execution_count": 17,
     "metadata": {},
     "output_type": "execute_result"
    }
   ],
   "source": [
    "# trouble trying to specialize the comprehensive theorem\n",
    "# seems to demand the entire Or(And) combination rather than\n",
    "# just either side of the Or\n",
    "expRealClosure"
   ]
  },
  {
   "cell_type": "code",
   "execution_count": 18,
   "metadata": {},
   "outputs": [
    {
     "data": {
      "text/html": [
       "<strong id=\"expRealClosureExampleLHSofOR\">expRealClosureExampleLHSofOR:</strong> <span style=\"font-size:20px;\"><a class=\"ProveItLink\" href=\"__pv_it/63502fca92d45192c2133bc7aaafe7a89074ff1e0/expr.ipynb\"><img src=\"data:image/png;base64,iVBORw0KGgoAAAANSUhEUgAAAL4AAAAVBAMAAAAKgUmDAAAAMFBMVEX///+IiIi6urrc3NxERETM\n",
       "zMwQEBCqqqpUVFQiIiJ2dnYyMjLu7u5mZmaYmJgAAABN0h6tAAAAAXRSTlMAQObYZgAAAp1JREFU\n",
       "OMu1VU1oE1EQnmY3Jtm8TdeLVGlRDxaxSoOISA+SSg4WQ5tDEC+SCPUg9bAnQRS6op70YCkoS1VS\n",
       "EUT0sBd/sIovt4BgrcVTpSgUQS8KHhRbxfe3m0ndXU8Z2DCbed/33nwzbxYAcsvQGTvey3/JM+iU\n",
       "9ZfZT+5bWCh3vbj6eDQS+Xl8bG78Qwz17BfGbXrMM66FLsgSJzlaisR7Tais0Mhw1ibTijqCX9fq\n",
       "UDgQSVAYYiuc9v9etRL6BPAgnH/FdT2ffzH7j2wj7ozPb+a99iC5b/nuYYBJGsZf6UXnX9TX0SeH\n",
       "aev8Zr6wfvvND5XzE2DQRvyNnr1b+ObkOdbH2Sn9xgJop4UCFOmTTih9fDCv+3uZyW/Gb4FRY36a\n",
       "ZUnquakMzzadR/ypW2q3ej90iS67iPU/uyR3C8Dczokl2i+AqiVb8wxrJIMaawlOraP6nnKfSFez\n",
       "l0AXWrQEKex3Z2zpBmBhA1c5gp2/Wgd4wQSf5kdQeDg6x0zV984b1Z4ETkA3FyA5wcPq/Ht06od1\n",
       "VIiBUksfSE+pSybxAPtwf76tKD+xBlW+SkPnHzJ3BG/dQd8ofXh9J1l6T7nkYpnAA2zA/PprhWP3\n",
       "cJNwalj/0kf/RYFb9YUiwFcq9ef9k6JboYuna1qIP+m8U77DG5rZAuY/ZkraAIz6U92vmuIftMfg\n",
       "oAjcQPMB7qXLZJXv6iT+iD8zNpoPhn0Z5j0ERvcrY5OT6P42NzaW5eVuHqLBfCvrR36Ay97Jhb7v\n",
       "spSXdgfz7REUX9qZmwiM5gOZ7SmHz4ddI27btU9RVQFZ6btqPvh2Pm4+S/5a7Aw32HMF5rdFhOv/\n",
       "5Q+f/4E12HMbhiOixIrDyqzjv19c0+195YhoLv77JbJOdfL7+xepl7zS6HXjNQAAAABJRU5ErkJg\n",
       "gg==\n",
       "\" style=\"display:inline;vertical-align:middle;\" /></a> <a class=\"ProveItLink\" href=\"__pv_it/1d89c65bb474c671b2fb326a7da42659743ee26d0/proof.ipynb\" style=\"text-decoration: none\">&#x22A2;&nbsp;</a><a class=\"ProveItLink\" href=\"__pv_it/1b404405450d8224355241c7ced002b994853ac40/expr.ipynb\"><img src=\"data:image/png;base64,iVBORw0KGgoAAAANSUhEUgAAAD4AAAARBAMAAAB3FQKUAAAAMFBMVEX///8QEBBmZmaqqqrMzMxE\n",
       "REQyMjIiIiKYmJh2dna6urrc3NxUVFSIiIju7u4AAAA6P00QAAAAAXRSTlMAQObYZgAAAPhJREFU\n",
       "KM9jYAADrjsM7A8YcANO/geOeKQZ9i1nuIoiwFEY+i0xAsHXZDiLqoON7wBLRBycW8UggirPyj2B\n",
       "IWAPnFvC9QHCaC0vT4DJa7PB5ddcBYsyuN5D0q/NCmS8vbPr5gW+DawNIFG+PGTzD6wBikzgqGVP\n",
       "4JmwDCzKswFJnrkIqJrzAec/rg1cnRMgokjuEy9PBpnIwBqAcLVjGhBA3TdLAeI9/gsI+a3I/tNy\n",
       "BbP8HRDyjMjyrC+AOpkf3GfghUcN0wUkeZYDKgwM6w3iGXYgDChGCl+GyTwODG/uvtVoQMi/iXoA\n",
       "jx8H1rDPGDG5MhwSvlAAAH8AQ10WQ5bQAAAAAElFTkSuQmCC\n",
       "\" style=\"display:inline;vertical-align:middle;\" /></a></span><br>"
      ],
      "text/plain": [
       "expRealClosureExampleLHSofOR: {x in Reals, y in Reals, x > 0} |- x^{y} in Reals"
      ]
     },
     "execution_count": 18,
     "metadata": {},
     "output_type": "execute_result"
    }
   ],
   "source": [
    "# this goes through but the proof actually doesn't\n",
    "# utilize the thm being specialized! (See proof in next cell below.)\n",
    "expRealClosureExampleLHSofOR = expRealClosure.specialize(\n",
    "    {a:x, b:y},\n",
    "    assumptions=[InSet(x, Reals), InSet(y, Reals), Greater(x, zero)])"
   ]
  },
  {
   "cell_type": "code",
   "execution_count": 19,
   "metadata": {},
   "outputs": [
    {
     "data": {
      "text/html": [
       "<table><tr><th>&nbsp;</th><th>step type</th><th>requirements</th><th>statement</th></tr>\n",
       "<tr><td><a name=\"0x64c65f06b8aec2d7_step0\">0</a></td><td>instantiation</td><td><a href=\"#0x64c65f06b8aec2d7_step1\">1</a>, <a href=\"#0x64c65f06b8aec2d7_step2\">2</a>, <a href=\"#0x64c65f06b8aec2d7_step3\">3</a>, <a href=\"#0x64c65f06b8aec2d7_step4\">4</a></td><td><span style=\"font-size:20px;\"><a class=\"ProveItLink\" href=\"__pv_it/63502fca92d45192c2133bc7aaafe7a89074ff1e0/expr.ipynb\"><img src=\"data:image/png;base64,iVBORw0KGgoAAAANSUhEUgAAAL4AAAAVBAMAAAAKgUmDAAAAMFBMVEX///+IiIi6urrc3NxERETM\n",
       "zMwQEBCqqqpUVFQiIiJ2dnYyMjLu7u5mZmaYmJgAAABN0h6tAAAAAXRSTlMAQObYZgAAAp1JREFU\n",
       "OMu1VU1oE1EQnmY3Jtm8TdeLVGlRDxaxSoOISA+SSg4WQ5tDEC+SCPUg9bAnQRS6op70YCkoS1VS\n",
       "EUT0sBd/sIovt4BgrcVTpSgUQS8KHhRbxfe3m0ndXU8Z2DCbed/33nwzbxYAcsvQGTvey3/JM+iU\n",
       "9ZfZT+5bWCh3vbj6eDQS+Xl8bG78Qwz17BfGbXrMM66FLsgSJzlaisR7Tais0Mhw1ibTijqCX9fq\n",
       "UDgQSVAYYiuc9v9etRL6BPAgnH/FdT2ffzH7j2wj7ozPb+a99iC5b/nuYYBJGsZf6UXnX9TX0SeH\n",
       "aev8Zr6wfvvND5XzE2DQRvyNnr1b+ObkOdbH2Sn9xgJop4UCFOmTTih9fDCv+3uZyW/Gb4FRY36a\n",
       "ZUnquakMzzadR/ypW2q3ej90iS67iPU/uyR3C8Dczokl2i+AqiVb8wxrJIMaawlOraP6nnKfSFez\n",
       "l0AXWrQEKex3Z2zpBmBhA1c5gp2/Wgd4wQSf5kdQeDg6x0zV984b1Z4ETkA3FyA5wcPq/Ht06od1\n",
       "VIiBUksfSE+pSybxAPtwf76tKD+xBlW+SkPnHzJ3BG/dQd8ofXh9J1l6T7nkYpnAA2zA/PprhWP3\n",
       "cJNwalj/0kf/RYFb9YUiwFcq9ef9k6JboYuna1qIP+m8U77DG5rZAuY/ZkraAIz6U92vmuIftMfg\n",
       "oAjcQPMB7qXLZJXv6iT+iD8zNpoPhn0Z5j0ERvcrY5OT6P42NzaW5eVuHqLBfCvrR36Ay97Jhb7v\n",
       "spSXdgfz7REUX9qZmwiM5gOZ7SmHz4ddI27btU9RVQFZ6btqPvh2Pm4+S/5a7Aw32HMF5rdFhOv/\n",
       "5Q+f/4E12HMbhiOixIrDyqzjv19c0+195YhoLv77JbJOdfL7+xepl7zS6HXjNQAAAABJRU5ErkJg\n",
       "gg==\n",
       "\" style=\"display:inline;vertical-align:middle;\" /></a> <a class=\"ProveItLink\" href=\"__pv_it/1d89c65bb474c671b2fb326a7da42659743ee26d0/proof.ipynb\" style=\"text-decoration: none\">&#x22A2;&nbsp;</a><a class=\"ProveItLink\" href=\"__pv_it/1b404405450d8224355241c7ced002b994853ac40/expr.ipynb\"><img src=\"data:image/png;base64,iVBORw0KGgoAAAANSUhEUgAAAD4AAAARBAMAAAB3FQKUAAAAMFBMVEX///8QEBBmZmaqqqrMzMxE\n",
       "REQyMjIiIiKYmJh2dna6urrc3NxUVFSIiIju7u4AAAA6P00QAAAAAXRSTlMAQObYZgAAAPhJREFU\n",
       "KM9jYAADrjsM7A8YcANO/geOeKQZ9i1nuIoiwFEY+i0xAsHXZDiLqoON7wBLRBycW8UggirPyj2B\n",
       "IWAPnFvC9QHCaC0vT4DJa7PB5ddcBYsyuN5D0q/NCmS8vbPr5gW+DawNIFG+PGTzD6wBikzgqGVP\n",
       "4JmwDCzKswFJnrkIqJrzAec/rg1cnRMgokjuEy9PBpnIwBqAcLVjGhBA3TdLAeI9/gsI+a3I/tNy\n",
       "BbP8HRDyjMjyrC+AOpkf3GfghUcN0wUkeZYDKgwM6w3iGXYgDChGCl+GyTwODG/uvtVoQMi/iXoA\n",
       "jx8H1rDPGDG5MhwSvlAAAH8AQ10WQ5bQAAAAAElFTkSuQmCC\n",
       "\" style=\"display:inline;vertical-align:middle;\" /></a></span></td></tr>\n",
       "<tr><td>&nbsp;</td><td colspan=4 style=\"text-align:left\"><span style=\"font-size:20px;\"><a class=\"ProveItLink\" href=\"../../__pv_it/a8d4b3a34d2189508f9082853fbac36935714f280/expr.ipynb\"><img src=\"data:image/png;base64,iVBORw0KGgoAAAANSUhEUgAAAAsAAAAJBAMAAAAWSsseAAAAMFBMVEX///9UVFSqqqrMzMwiIiJE\n",
       "RESYmJgyMjK6urru7u4QEBCIiIh2dnZmZmbc3NwAAABRgo0vAAAAAXRSTlMAQObYZgAAAEdJREFU\n",
       "CNdjYOC7c3slAwND1wP2DwwMnMsYeAMYGHh/MrBsYGDgCmCYb8DAMP8Agz5QxXwFBnGmBwysG9gc\n",
       "eYAqpTc/3MEAAP4BD32xAXDqAAAAAElFTkSuQmCC\n",
       "\" style=\"display:inline;vertical-align:middle;\" /></a> : <a class=\"ProveItLink\" href=\"../../__pv_it/72df168d2bfb4e0140af90912ebf83b13772060b0/expr.ipynb\"><img src=\"data:image/png;base64,iVBORw0KGgoAAAANSUhEUgAAAAsAAAAJBAMAAAAWSsseAAAALVBMVEX///9mZmaqqqrMzMxEREQy\n",
       "MjIiIiKYmJh2dna6urrc3NxUVFSIiIju7u4AAACJHQtQAAAAAXRSTlMAQObYZgAAAEJJREFUCNdj\n",
       "YLhzeuWJAwy8Dew5bAEMHBc43nIuYOBlYHFgAAG+A2DKzgBIMF04x8BzgWGegh/DcgaG22fuiBcw\n",
       "AAATyhBrnyPYZQAAAABJRU5ErkJggg==\n",
       "\" style=\"display:inline;vertical-align:middle;\" /></a>, <a class=\"ProveItLink\" href=\"../../__pv_it/53e304ff98ebc000dbe3ef224f4637dbafd46ba70/expr.ipynb\"><img src=\"data:image/png;base64,iVBORw0KGgoAAAANSUhEUgAAAAkAAAAOBAMAAAAPuiubAAAALVBMVEX///+YmJjc3NyIiIhUVFR2\n",
       "dna6urqqqqpmZmYyMjIiIiIQEBBERETu7u4AAAALjtrwAAAAAXRSTlMAQObYZgAAAE9JREFUCNdj\n",
       "4D29gAEIOBtAJF8BiMy7ACKjQATDFON2BgbelxfuKTCwv2XgM2DgmMBwLwCkPK+AgU+Aoe8CA18C\n",
       "70YGBhYBHqARvM2BDAwAqXgQspq5HJAAAAAASUVORK5CYII=\n",
       "\" style=\"display:inline;vertical-align:middle;\" /></a> : <a class=\"ProveItLink\" href=\"../../__pv_it/c6e291955561f22a0e6708fd793ea93f1c7dbb5d0/expr.ipynb\"><img src=\"data:image/png;base64,iVBORw0KGgoAAAANSUhEUgAAAAsAAAANBAMAAACN24kIAAAAMFBMVEX///8iIiKYmJhUVFTMzMxE\n",
       "REQyMjKqqqq6urp2dnYQEBDc3NxmZmaIiIju7u4AAACH5sGpAAAAAXRSTlMAQObYZgAAAFlJREFU\n",
       "CNdj4LtzgWHXAwZOjgUM9xkYtvMkMIQyMDzgusDwl4GBof8ByxcgdYyBdwGQCmZgNQBShxn6FYDU\n",
       "47vnNzAwgGUZGJgT+H4AKUYF1gtAiuPuESAJAJGkFvXVdzA+AAAAAElFTkSuQmCC\n",
       "\" style=\"display:inline;vertical-align:middle;\" /></a></span></td></tr><tr><td><a name=\"0x64c65f06b8aec2d7_step1\">1</a></td><td>theorem</td><td></td><td><span style=\"font-size:20px;\"> <a class=\"ProveItLink\" href=\"_proofs_/expRealClosureBasePos.ipynb\" style=\"text-decoration: none\">&#x22A2;&nbsp;</a><a class=\"ProveItLink\" href=\"__pv_it/9f96125239e963a7255c20434384e8aca4818f370/expr.ipynb\"><img src=\"data:image/png;base64,iVBORw0KGgoAAAANSUhEUgAAANUAAAAcBAMAAAAEiefMAAAAMFBMVEX///8QEBCIiIhmZma6urrM\n",
       "zMxUVFQiIiJERETc3Nzu7u6qqqp2dnaYmJgyMjIAAAAcRTyBAAAAAXRSTlMAQObYZgAAA2JJREFU\n",
       "SMe9ll9IU1Ecx39uu+7u7m7rIQiT4JZlUgTDlWSkLASf+nODUB+CDftnBWJpLdIHsbKrYoweTHrp\n",
       "klCwMqW/CGGX/jw0LRb0IGKxjHqwCB8KckH0u3/OdjanSza8MM7v3nPu+ZzzO9/fdxcgt9feKCzb\n",
       "xbuXAXJAb5zD6btNOUQxfr11BdP3W/y5YzllvfWtO5F+wJvcsUqNdqNclH6AFRej6eZDtihbzAg6\n",
       "4GNSh+OU9PdTr3pgKJox9clMzuS3EspSksv5md5uXM0sQL+6qvZsWXlEfjEoTO5hbQq092HQqh8q\n",
       "P5wt64YhDTjvMNY9EQhECavcicF2TGg4FLqWtTTekaBmXG/rNlH7KmcxWIu/35LUljWrUj2JnaWr\n",
       "yT03Q+fQX43BPtz6EYCu/zI2yzwveK6QUMLfrqBzltznBymWvVkl+0SAKuDoaZ+UHJqmlWU/3Vkp\n",
       "6G8lFC5qzRQ8Jk++4lbWgDmuMZbSxqrAN+1IvVhkYIqQnT/1REw8hAVibHdeVICg8DdT3ucatGW3\n",
       "gItIohnAHAOrQEbs/4GXoY2X7m41GEIWH7GSERMjIUDWZMQwNkfPdRlZjsEUFtg6sZf7lZD6Z5R9\n",
       "OwyJZEA/rfmtdWRftmgNRgPFX8Cipk1lKYaxValjkHWXYnGljTgjc0EGZg6sJCOduG4FniXqjWax\n",
       "g+p+fWouug7jDGeYGDhBZ3nchrFFdZbZQ7Fuiz41cZZpYKikNSBrGBrtRBJmgWIx/m2GDuFBE/a5\n",
       "mSYY0Fjmoy2GsXGaPISyY16K5YFa3egKcF95ZEosHlZwnOXj22mlPArG8kWjBF2C6jEmP9RKkiSY\n",
       "+KvvDWNjzklSBwivt9CsQijW2lEBz8vlNWbERXP1G/rWx1m3Lspx7xXZK38038BbfDoUZCflfD2H\n",
       "9oOyYWx+PYePwgkWNwe9IbX8wkk6zPOmFt/uy4HkCp2On2XQtwd4UT+vsGLr1oztlc7iaW0UMD9R\n",
       "EHU7MCxK1JdZyeQsXCzuCfX3KwB61Fp+qwxUMoWasbEoaXvbd84TTbCqNxdFoO+4loLx+IcMsyIT\n",
       "y5HyEWDC8zLcQm9K8Lxgvhcwl+ZNdTITyyou1DOS5hm72FT3MrGmFuyJLJVlz/BduMS/Y/OivQ8z\n",
       "vCzDsl7/ANWy2A65VrLHAAAAAElFTkSuQmCC\n",
       "\" style=\"display:inline;vertical-align:middle;\" /></a></span></td></tr>\n",
       "<tr><td>&nbsp;</td><td colspan=4 style-\"text-align:left\"><a class=\"ProveItLink\" href=\"_proofs_/expRealClosureBasePos.ipynb\">proveit.number.exponentiation.expRealClosureBasePos</a></td></tr><tr><td><a name=\"0x64c65f06b8aec2d7_step2\">2</a></td><td>assumption</td><td></td><td><span style=\"font-size:20px;\"><a class=\"ProveItLink\" href=\"__pv_it/e82ccfc5c7bcae9a9b93c062f6d697212b1c87d10/expr.ipynb\"><img src=\"data:image/png;base64,iVBORw0KGgoAAAANSUhEUgAAAEcAAAAVBAMAAADm2O7QAAAAMFBMVEX///+IiIi6urrc3NxERETM\n",
       "zMwQEBCqqqpUVFQiIiJ2dnYyMjLu7u5mZmaYmJgAAABN0h6tAAAAAXRSTlMAQObYZgAAASVJREFU\n",
       "KM9jYGDgu8eAG7BePACieHYx4ANMqSCS7wM2Ob5pLr+3+YFYt0EE1wSsJnDzNLD6+QAZK/EoYmFe\n",
       "wOBggUPRk5kzN8AUXebGrihEBsmkyywoig5KGEkJgLy6B9m6Bg0gYxmIxwE0nWcB30ROkC0cBkiK\n",
       "2OeCtLwH8coCgKYd4PrDBJJnQXJ45sztYG9eADpiMsgWBhYHsFTYbiCAOnzRBR+wWCfQHWoBIBa/\n",
       "AFjABDkILoWATWoAOQNsRjxYKQMbsiKWcwIwN4F8x35AnoERFJO8AkiKWBuuwnwHUqRf4M9gB5ab\n",
       "jhQtDMs5ApDC6YTgwXsPwHInnA7AIziAxfs79mjR8oRECxxAFCXgTU8QRdjTEwKA0xMDgZSZBKbY\n",
       "CaZxALqNUQcT4NgpAAAAAElFTkSuQmCC\n",
       "\" style=\"display:inline;vertical-align:middle;\" /></a> <a class=\"ProveItLink\" href=\"__pv_it/3ebcb9ff7008feb7cffc50c77f12640277780d6c0/proof.ipynb\" style=\"text-decoration: none\">&#x22A2;&nbsp;</a><a class=\"ProveItLink\" href=\"__pv_it/d1abe32eef57347774dfea3ee7588b7cbc50954a0/expr.ipynb\"><img src=\"data:image/png;base64,iVBORw0KGgoAAAANSUhEUgAAADQAAAAPBAMAAABZ6/G2AAAAMFBMVEX///8QEBBmZmaqqqrMzMxE\n",
       "REQyMjIiIiKYmJh2dna6urrc3NxUVFSIiIju7u4AAAA6P00QAAAAAXRSTlMAQObYZgAAAMRJREFU\n",
       "GNNjYMAAHIWh3xIjGLACNr4DLBFxWKVYuScwBOxBEWotL0+ASWmzIcu43kPSpc0KZLy9s+vmBSDN\n",
       "l4ds4IE1QJEJHLXsIHN4NiBJMRcBFXI+4PzHBRJlRXKGeHkyyBwG1gCwgGMaEECdMUsB4nb+C2Bq\n",
       "K7LjtVzBLH8HMMWILMX6Aqie+cF9Bt4HQAGmC0hSLAdUGBjWG8Qz7ACLFCMFFMNkHgeGN3ffajSA\n",
       "Rd5EPYAHrwNr2Gfk4FgZDgkoKAAAelg1omM6Y4wAAAAASUVORK5CYII=\n",
       "\" style=\"display:inline;vertical-align:middle;\" /></a></span></td></tr>\n",
       "<tr><td><a name=\"0x64c65f06b8aec2d7_step3\">3</a></td><td>assumption</td><td></td><td><span style=\"font-size:20px;\"><a class=\"ProveItLink\" href=\"__pv_it/c74b64414173c77732da5d4eacfa4457012a98170/expr.ipynb\"><img src=\"data:image/png;base64,iVBORw0KGgoAAAANSUhEUgAAAEUAAAAVBAMAAADiLT7tAAAAMFBMVEX///+IiIi6urrc3NxERETM\n",
       "zMwQEBCqqqpUVFQiIiJ2dnYyMjLu7u5mZmaYmJgAAABN0h6tAAAAAXRSTlMAQObYZgAAAT1JREFU\n",
       "KM9jYGDgu8eAE7BePACieHYx4AFMqSCS7wMWKb5pLr+3+YFYt0EE1wRs+rl5Glj9fICMlbjVsDAv\n",
       "YHCwwK6Gz3PmbJiay9xY1bA6HkCYc5kFWc3BiwzMOSDO6QNIdjVoABnLQDyODQwMC9QYGMHea0Zy\n",
       "D/vcPUDGexCvLICBueA2A4sDiOOAUJM5czvYgxcYGEImA4ORIZGBXwDknOzdQABRs+iCD1h1J1BC\n",
       "LQAYmn8Y4oEUAzOSOQsuhYDNaQC5ByjOu4FBDCyVgKSG5ZwAzD0gf7E0MHiApS4iqWFtuArzF0gN\n",
       "bwPTP7AUZwEiLhiWcwQghQ9Po+xnsBRPiw48TgNYvL+jhDPQRZC0sAQSF3AAUQN0ZzfDeQUcCWgl\n",
       "LP3MY3DElcjA6YcBmA4VZQNwpcMkMMVOKD0DAJA6VJHruQjPAAAAAElFTkSuQmCC\n",
       "\" style=\"display:inline;vertical-align:middle;\" /></a> <a class=\"ProveItLink\" href=\"__pv_it/cc9c82848dbc2e28ffd3e466ea82beb6d97264130/proof.ipynb\" style=\"text-decoration: none\">&#x22A2;&nbsp;</a><a class=\"ProveItLink\" href=\"__pv_it/30a021fb86a13c66130fd466b721d7b89aa506830/expr.ipynb\"><img src=\"data:image/png;base64,iVBORw0KGgoAAAANSUhEUgAAADMAAAASBAMAAAAEf/uKAAAAMFBMVEX///8iIiKYmJhUVFTMzMxE\n",
       "REQyMjKqqqq6urp2dnYQEBDc3NxmZmaIiIju7u4AAACH5sGpAAAAAXRSTlMAQObYZgAAAN1JREFU\n",
       "GNNjYMAAikvj05YqMGAFCY8ZXFUfYJUK2MnAym2AIqQqKJgAleLZkIAs43oPoYtnQwADA9+dCwy7\n",
       "QAbz5SEZyMwBNJCTYwHDfZAA8wYkqcJjQNXbeRIYQkECrAhn7BIUKwDSD7guMPwFCXilAQHUGT2s\n",
       "YLf3P2D5AqK3IjmepyUAxDjGwLsARHMh+ytOF8QIZmAFe4/nApKUM48DkHGYoR8SYOJIAcVZYAJk\n",
       "PL57HuLsxxEPYMGbwhCaXwCxDQI6AwVRgoc5ge8H9ghgYFRgvYBDiuPuERwyAAfzPe7bmvmqAAAA\n",
       "AElFTkSuQmCC\n",
       "\" style=\"display:inline;vertical-align:middle;\" /></a></span></td></tr>\n",
       "<tr><td><a name=\"0x64c65f06b8aec2d7_step4\">4</a></td><td>assumption</td><td></td><td><span style=\"font-size:20px;\"><a class=\"ProveItLink\" href=\"__pv_it/4051f3aeef4441dac4afcbde7ee91d7fb2ea8c030/expr.ipynb\"><img src=\"data:image/png;base64,iVBORw0KGgoAAAANSUhEUgAAAEQAAAAVBAMAAAAN71XTAAAAMFBMVEX///+IiIi6urrc3NxERETM\n",
       "zMwQEBCqqqpUVFQiIiJ2dnYyMjLu7u5mZmaYmJgAAABN0h6tAAAAAXRSTlMAQObYZgAAARZJREFU\n",
       "KM9jYGDgu8eAE8TKgEieXQx4gFoAkOD7gEN24SugNO8GIItrAnYV3AU8k6GyKEpOP4AznzEwrMam\n",
       "hGelAIzpwcBQfwCLEgYGyTVQxg8GBv0CJCUHJYykoPpf3oGY9xeoRICBKwHI5gC6mWcB30TODVDt\n",
       "1c0gkvkXA0O8AMS/ZUCvcR3g+sNkALNLuwekBGhK/AIGhr0MDCGTQaYysDggnKPtg7CIgWMiNPwY\n",
       "+OE+gVoEcm59AQPDDpBbwPrjA2AqoM5lcGFgeH8A4haQj9gPyDMwHkD1NDToEqBK9Av8GezQgo6z\n",
       "gCcVKXRPCB689wAtAngWSgQwYA1dNABRkkBQCc70Agbg9MKAP9UpgEh2AmkXAHbOScaHBRdkAAAA\n",
       "AElFTkSuQmCC\n",
       "\" style=\"display:inline;vertical-align:middle;\" /></a> <a class=\"ProveItLink\" href=\"__pv_it/9f091fb3ec52847d1e5c59cf5e134f54d42565120/proof.ipynb\" style=\"text-decoration: none\">&#x22A2;&nbsp;</a><a class=\"ProveItLink\" href=\"__pv_it/1eea5dfa21004fe0df8e8466582a4a5d259ea67a0/expr.ipynb\"><img src=\"data:image/png;base64,iVBORw0KGgoAAAANSUhEUgAAADEAAAAOBAMAAAB0nulXAAAAMFBMVEX///8QEBBmZmaqqqrMzMxE\n",
       "REQyMjIiIiKYmJh2dna6urrc3NxUVFSIiIju7u4AAAA6P00QAAAAAXRSTlMAQObYZgAAALhJREFU\n",
       "GNNjYMAG5nY6YBVnYDPgq0biPmuAMxsZGKYhyfBNvwBjxjAw2D9ANuT6PCjjDwPDegMGhrd3dt2E\n",
       "qm7Xg+j+BJS5wMA3gaOWPQGq2Ow0iOT+ycDgf4GB8wHnP64NMAOXnQPJAPX4T2DgY2ANQFi1LA5h\n",
       "GgMDP9xNUNNALrAHuoDBH+5fqAsYQhkY+h8wMD+4z8D7ANXVEJ+uN4hn2IHmU3YDPhEGhjd332o0\n",
       "oIUO39w7DgwA0hc2rjz1UYUAAAAASUVORK5CYII=\n",
       "\" style=\"display:inline;vertical-align:middle;\" /></a></span></td></tr>\n",
       "</table>"
      ],
      "text/plain": [
       "\tstep type\trequirements\tstatement\n",
       "0\tinstantiation\t1, 2, 3, 4\t{x in Reals, y in Reals, x > 0} |- x^{y} in Reals\n",
       "\ta : x, b : y\n",
       "1\ttheorem\t\t|- forall_{a in Reals, b in Reals | a > 0} (a^{b} in Reals)\n",
       "\tproveit.number.exponentiation.expRealClosureBasePos\n",
       "2\tassumption\t\t{x in Reals} |- x in Reals\n",
       "3\tassumption\t\t{y in Reals} |- y in Reals\n",
       "4\tassumption\t\t{x > 0} |- x > 0"
      ]
     },
     "execution_count": 19,
     "metadata": {},
     "output_type": "execute_result"
    }
   ],
   "source": [
    "expRealClosureExampleLHSofOR.proof()"
   ]
  },
  {
   "cell_type": "code",
   "execution_count": 20,
   "metadata": {},
   "outputs": [],
   "source": [
    "# this one won't work — doesn't seem to be able to get inside\n",
    "# the Or(And) structure correctly (see next cell below)\n",
    "# expRealClosureExampleRHSofOR = expRealClosure.specialize(\n",
    "#     {a:x, b:y},\n",
    "#     assumptions=[InSet(x, Reals), InSet(y, Reals), And(GreaterEq(x, zero), NotEquals(y, zero))])"
   ]
  },
  {
   "cell_type": "code",
   "execution_count": 21,
   "metadata": {},
   "outputs": [
    {
     "data": {
      "text/html": [
       "<strong id=\"expRealClosureExampleRHSofOR\">expRealClosureExampleRHSofOR:</strong> <span style=\"font-size:20px;\"><a class=\"ProveItLink\" href=\"__pv_it/46214c421e63be98b635fc2cae9fbb4966d201fc0/expr.ipynb\"><img src=\"data:image/png;base64,iVBORw0KGgoAAAANSUhEUgAAAWsAAAAVCAMAAAC3xz9PAAAAOVBMVEX///8kJCQNDQ0oKCiIiIi6\n",
       "urrc3NxERETMzMwQEBCqqqpUVFQiIiJ2dnYyMjLu7u5mZmaYmJgAAACs2H6dAAAAAXRSTlMAQObY\n",
       "ZgAAA+5JREFUWMPtWdt23CAMpC0YjAEB//+xBYy95iKwndOTPJSHbJL1MCMhCYEJicNZR/6PfzWE\n",
       "pXD8DkZ/v6Dl1WrL5We5VUP332wV+Tfn70/m1Mq5N2blz30zwgJ/ZhN1OsnfJs6mO+eqNvbSewfT\n",
       "rYAxCNQeX2j1hNwQ2EJecMfhsXAcax4FqJFhddSScnLOKWhYSpiUSVAWhkx3RrGgV+jp4me+5mTR\n",
       "+8f22Nco1lnEA6bnIbcm2WYPniknC3NQQWaZI02bJFemG2HNMeg9XzuuwjCNv+xC5gpqMIpFIwe0\n",
       "ap3J00pJHwMR1qne6GspybxKMbMJnOlGWAsMesfXglPox2bw10x8C8awixqW3HrH8ckM5mVKVTbT\n",
       "G32t2a0dQXDOUKZHYV1CG18DpdvC6CUrwQBWBzbCijoA1EbcssIAjGAJtZiCvKkWtRS83c1Ij2lL\n",
       "JnqDr5kSVcgiVKG6GYkwoZYeTAIXeWTfZnK6RqsouSRgb5ff/SWVLe3SobGJXvMjMIIluTHpKOjV\n",
       "0sWnHlXsZrjLw329bFXer6yqTRgVWexZ0UomzFJt0vjzO/60fZH5YZmbv5ipOpQXtlx0dn29xopY\n",
       "ptUi976G8xG4jw3lWmIKrrUUTjPsbkayRioy0ZtqiHO6boQRqpBFpMuEWtoJ6xqa1kDwYxWhmUCs\n",
       "5hhlbDJLqq4t/LXGFfxEQA/cxwYoQxRcfX2iyvQUfqY3+vr4uOjtUxW7Q6+GtJZm8rIs1tAt7fGf\n",
       "Q009wcKxvs0yUX/H4o4rvBiBMewlwT2d92M+b/Gy8vWCx3UM+bpHbamarqdgwizNPAsZQE0m306J\n",
       "9QQr2iNzcJXSlFh0HYIxrJKYgt7emAPS7e0UUzO9ydcbqfvMhioU6rqbL5gwS1O9/pVzautCz6N5\n",
       "7kMk7PX+0jVZivkrZIwVbSvKL7HTAaNYhyno9nzFMeG6N/b15rguCnZLVTQgw7NMY2n34FueZdbC\n",
       "17ET5L66BFISOWcTLVPrDv7QYbc4xxiMYbXFFHTPMmlmyKXP6pleEZ7QOuo7KVsq4N0Lk5PpI7Zj\n",
       "afjbDkVW/TVslIbW0RVzwMYZdO6PRMwRE2uRUnA8Sqn1ywCMYxmmoH9GDysQuuOcGkaM9NZ3T5my\n",
       "a+yY6RTbsTSogKHIe2d0pnl55m22Lagq2QPwiVWv70ZBvaR8fn8LBLVU2slt4enr9UtXtp8DEXj2\n",
       "CovfPd2583xJ+dbQrqUGbvr6yf11G1fZ1riFc/oO2+mYbk9hXlPWE6nPECNkx1I5W8FPGnzlvcxR\n",
       "8VioYeIl9vm7gtdr5L5saM/SWVizywFCfv/7xnfvwNzPeAc2Lp3H+8a/CGE7fpkrE2AAAAAASUVO\n",
       "RK5CYII=\n",
       "\" style=\"display:inline;vertical-align:middle;\" /></a> <a class=\"ProveItLink\" href=\"__pv_it/50ebbbd3dbdf97bf26dfc2167495c2cc36d96e510/proof.ipynb\" style=\"text-decoration: none\">&#x22A2;&nbsp;</a><a class=\"ProveItLink\" href=\"__pv_it/1b404405450d8224355241c7ced002b994853ac40/expr.ipynb\"><img src=\"data:image/png;base64,iVBORw0KGgoAAAANSUhEUgAAAD4AAAARBAMAAAB3FQKUAAAAMFBMVEX///8QEBBmZmaqqqrMzMxE\n",
       "REQyMjIiIiKYmJh2dna6urrc3NxUVFSIiIju7u4AAAA6P00QAAAAAXRSTlMAQObYZgAAAPhJREFU\n",
       "KM9jYAADrjsM7A8YcANO/geOeKQZ9i1nuIoiwFEY+i0xAsHXZDiLqoON7wBLRBycW8UggirPyj2B\n",
       "IWAPnFvC9QHCaC0vT4DJa7PB5ddcBYsyuN5D0q/NCmS8vbPr5gW+DawNIFG+PGTzD6wBikzgqGVP\n",
       "4JmwDCzKswFJnrkIqJrzAec/rg1cnRMgokjuEy9PBpnIwBqAcLVjGhBA3TdLAeI9/gsI+a3I/tNy\n",
       "BbP8HRDyjMjyrC+AOpkf3GfghUcN0wUkeZYDKgwM6w3iGXYgDChGCl+GyTwODG/uvtVoQMi/iXoA\n",
       "jx8H1rDPGDG5MhwSvlAAAH8AQ10WQ5bQAAAAAElFTkSuQmCC\n",
       "\" style=\"display:inline;vertical-align:middle;\" /></a></span><br>"
      ],
      "text/plain": [
       "expRealClosureExampleRHSofOR: {x in Reals, y in Reals, (x > 0) in BOOLEANS, x >= 0, y != 0} |- x^{y} in Reals"
      ]
     },
     "execution_count": 21,
     "metadata": {},
     "output_type": "execute_result"
    }
   ],
   "source": [
    "# if we remind the system that x > 0 is a Boolean, then it seems to\n",
    "# be able to deal correctly with the Or(Add) conditions\n",
    "expRealClosureExampleRHSofOR = expRealClosure.specialize(\n",
    "    {a:x, b:y},\n",
    "    assumptions=[\n",
    "        InSet(x, Reals), InSet(y, Reals), GreaterEq(x, zero),\n",
    "        NotEquals(y, zero), InSet(Greater(x, zero), Booleans)])"
   ]
  },
  {
   "cell_type": "code",
   "execution_count": 22,
   "metadata": {},
   "outputs": [
    {
     "data": {
      "text/html": [
       "<a class=\"ProveItLink\" href=\"__pv_it/e5a6ec9b430f928e661014c9cfedf218d57371530/expr.ipynb\"><img src=\"data:image/png;base64,iVBORw0KGgoAAAANSUhEUgAAABEAAAAUBAMAAACZjst6AAAAMFBMVEX///+YmJiqqqqIiIgyMjLc\n",
       "3NwiIiIQEBC6urp2dnZUVFTMzMxERERmZmbu7u4AAADrYmUNAAAAAXRSTlMAQObYZgAAAH1JREFU\n",
       "CNdjYAABTtt1DBBwkeEOlHWTQZ4BBmBiDHzVMJaJAZB398wGiOwrBs4fQFa8AsM9BoZyoKp4AYYy\n",
       "Bob1AakM4g8Y/B8wrN+w03IpWGP+A6gJHD9hZrEtgLHuwhjMF2AsXQbWADCDewIDM4QVNnPuMoik\n",
       "////38AMAPc4H96J0DaDAAAAAElFTkSuQmCC\n",
       "\" style=\"display:inline;vertical-align:middle;\" /></a>"
      ],
      "text/plain": [
       "2^{3}"
      ]
     },
     "execution_count": 22,
     "metadata": {},
     "output_type": "execute_result"
    }
   ],
   "source": [
    "exp_test_02"
   ]
  },
  {
   "cell_type": "code",
   "execution_count": 23,
   "metadata": {},
   "outputs": [
    {
     "data": {
      "text/html": [
       "<span style=\"font-size:20px;\"> <a class=\"ProveItLink\" href=\"__pv_it/fa0f6e2dc486f1ed8249607bf4a118593435d12d0/proof.ipynb\" style=\"text-decoration: none\">&#x22A2;&nbsp;</a><a class=\"ProveItLink\" href=\"__pv_it/6f67483db91dfd41db545b66cd2ae63199b5a3d40/expr.ipynb\"><img src=\"data:image/png;base64,iVBORw0KGgoAAAANSUhEUgAAAEcAAAAVBAMAAADm2O7QAAAAMFBMVEX///+YmJiqqqqIiIgyMjLc\n",
       "3NwiIiIQEBC6urp2dnZUVFTMzMxERERmZmbu7u4AAADrYmUNAAAAAXRSTlMAQObYZgAAASRJREFU\n",
       "KM9jYAABTtt1DATBRYY7hBXdZJDHJcWFxMZpEg+CyVdNhCITA7yK+O6e2YBp3ZM/Rx4wTP/eAFX0\n",
       "ioHzB5CKV0BVdZB7AQPfB4YlLu4uLgIM9xgYyoEuihdAVbRsgzEDQwHMujIGhvUBqQziD8ByjMfS\n",
       "UsCMFee4NjAkwBT5P2BYv2Gn5VKwFPfhB1CTlu7i80MoAoL8B3D3wllLmQx2ISvi+Al3yVIk1gxG\n",
       "AyRFbAvgUgeQFHE9WA1SxArh34XLcJe4AAFUEd8ClgK4DPMFOJMV2SSGndwIRboMrAEwdgGyIkYF\n",
       "uB7uCQzMcEWX4YpWA/FUuKKwmXOXwaXY4JHjBMS8DjCe////3xApZk0fhLHtO9AUPgfsCYNjDjRa\n",
       "UAAAU/hOZOdXR9sAAAAASUVORK5CYII=\n",
       "\" style=\"display:inline;vertical-align:middle;\" /></a></span>"
      ],
      "text/plain": [
       "|- 2^{3} in NaturalsPos"
      ]
     },
     "execution_count": 23,
     "metadata": {},
     "output_type": "execute_result"
    }
   ],
   "source": [
    "exp_test_02.deduceInNumberSet(NaturalsPos)"
   ]
  },
  {
   "cell_type": "code",
   "execution_count": 24,
   "metadata": {},
   "outputs": [],
   "source": [
    "# This has trouble because it can't seem to first prove that\n",
    "# 2 ≠ 0 or 3 ≠ 0.\n",
    "# exp_test_02.deduceInNumberSet(Complexes)"
   ]
  },
  {
   "cell_type": "code",
   "execution_count": 25,
   "metadata": {},
   "outputs": [
    {
     "data": {
      "text/html": [
       "<span style=\"font-size:20px;\"> <a class=\"ProveItLink\" href=\"__pv_it/a9541c1c670c27699be4bc777cb60f99f35b94f20/proof.ipynb\" style=\"text-decoration: none\">&#x22A2;&nbsp;</a><a class=\"ProveItLink\" href=\"__pv_it/3812f9f750d2169e2a33d3a3d2bb9cb26c230b4a0/expr.ipynb\"><img src=\"data:image/png;base64,iVBORw0KGgoAAAANSUhEUgAAADsAAAAVBAMAAAAKrYvGAAAAMFBMVEX///+YmJiqqqqIiIgyMjLc\n",
       "3NwiIiIQEBC6urp2dnZUVFTMzMxERERmZmbu7u4AAADrYmUNAAAAAXRSTlMAQObYZgAAAQlJREFU\n",
       "KM9jYAABTtt1DHjARYY7+KRvMsgz4AV4dTPwVeOVNjHApe/umQ3YDGd28y87y8DwioHzB5AXr4Aq\n",
       "y71fge++LAPDPQaGcqDN8QKo0gKLGRgY/zIwlDEwrA9IZRB/ABZlPJaWAqY31AHJtQwM/g8Y1m/Y\n",
       "abkUYuRhiCoGXtYDQPIxmJ3/AGbkExjrFfcFmBjHT7iNS2GMSA64T9kWwKUPwBixCOm7CN+UuAAB\n",
       "iPWGewLM/3BbGFjhulkewIzUZWANgIkWwBiMF0DSfEADJzAww6Uvww063AwkWhgYwmbOXQYXZIMH\n",
       "La/PPD6dc8Bg+f//GyJ+1vTBmHvdv93GiD+OOZBAhQEAapxD3Ym1Z/oAAAAASUVORK5CYII=\n",
       "\" style=\"display:inline;vertical-align:middle;\" /></a></span>"
      ],
      "text/plain": [
       "|- 2^{3} in Complexes"
      ]
     },
     "execution_count": 25,
     "metadata": {},
     "output_type": "execute_result"
    }
   ],
   "source": [
    "# So this works, if we explicitly assume (e.g.) that 3 ≠ 0\n",
    "InSet(exp_test_02, Complexes).prove(assumptions=[NotEquals(three, zero)])"
   ]
  },
  {
   "cell_type": "code",
   "execution_count": 26,
   "metadata": {},
   "outputs": [
    {
     "data": {
      "text/html": [
       "<a class=\"ProveItLink\" href=\"__pv_it/0b54aa616d65dca073768257333b00c8d6ae46ab0/expr.ipynb\"><img src=\"data:image/png;base64,iVBORw0KGgoAAAANSUhEUgAAABsAAAAVBAMAAABF8IgWAAAAMFBMVEX////MzMxEREQQEBCYmJh2\n",
       "dnYiIiLu7u6qqqpmZmYyMjK6urpUVFSIiIjc3NwAAADOWS8BAAAAAXRSTlMAQObYZgAAAK9JREFU\n",
       "GNNjYIAAvv8g8AHKY+DZwIAMXqHwGGag8NgTULisDSjcMgaGykmKcG4IA/sBhvgNCK2cBQzMBlAu\n",
       "rwMDcwIDzz8gczcQszEwcH1n4PkIlLACcu+C1bB9Z2B4fh9oAMTW/QFAol6BgeUCmJsDIjj/MbAV\n",
       "gBkTwF77yeAKlrwJseV8QTqI4pjA8A5Ey0eAVYkyMNwD0VxWIK18qaFzwBZw/AQLAsMGYp8ewmcA\n",
       "dDkq0OELPnAAAAAASUVORK5CYII=\n",
       "\" style=\"display:inline;vertical-align:middle;\" /></a>"
      ],
      "text/plain": [
       "sqrt(2)"
      ]
     },
     "execution_count": 26,
     "metadata": {},
     "output_type": "execute_result"
    }
   ],
   "source": [
    "exp_test_03"
   ]
  },
  {
   "cell_type": "code",
   "execution_count": 27,
   "metadata": {},
   "outputs": [
    {
     "data": {
      "text/html": [
       "<span style=\"font-size:20px;\"> <a class=\"ProveItLink\" href=\"__pv_it/a71b6d9d27ccb69ef24868fc09bc7018d8df72310/proof.ipynb\" style=\"text-decoration: none\">&#x22A2;&nbsp;</a><a class=\"ProveItLink\" href=\"__pv_it/1625a039698af9f98ca241f6c1a3ef07fdfc3f980/expr.ipynb\"><img src=\"data:image/png;base64,iVBORw0KGgoAAAANSUhEUgAAAE8AAAAVBAMAAAD1D64kAAAAMFBMVEX////MzMxEREQQEBCYmJh2\n",
       "dnYiIiLu7u6qqqpmZmYyMjK6urpUVFSIiIjc3NwAAADOWS8BAAAAAXRSTlMAQObYZgAAAUlJREFU\n",
       "KM9jYIAAvv8g8IGBIODZwEAceIXXFCT2DHwKmRBM9gQiFbI2EKmwjIGhcpIiqrSbkf4qIwc0hSEM\n",
       "7AcY4tF8vqCGQcipgOHUqsWrVjnAnchZwMBsgKpQ4SkDE98BFBN5HRiYExh4/oE5LGppWTCFnA8W\n",
       "wBXuBmI2Bgau7ww8H0F8Rt0ChImcDxRgCnmtgMRdsATbdxBZVYBkNQ833Orn94FegITi/gAQeQ7Z\n",
       "jW2zCuBW1yswsFwAs3Ig0giFj9OywOHLB+Zy/mNgA9vGOQHsRKtVQAA1cSdTASIQ+H4yuIIZNyFc\n",
       "JBOfcm5UQAqu8wXpIIpjAsM7EG2A7EZ1XySF8hFgO0UZGO6B6LnICmU4BRAKuaxADuFLDZ0D9jxb\n",
       "A1IUsjYcRCjk+AlWDswJYIXsh7bDE8VCBqX1SOlKDzWKuYOgUYgCAHlwVb0Wt0NfAAAAAElFTkSu\n",
       "QmCC\n",
       "\" style=\"display:inline;vertical-align:middle;\" /></a></span>"
      ],
      "text/plain": [
       "|- sqrt(2) in RealsPos"
      ]
     },
     "execution_count": 27,
     "metadata": {},
     "output_type": "execute_result"
    }
   ],
   "source": [
    "InSet(exp_test_03, RealsPos).prove()"
   ]
  },
  {
   "cell_type": "code",
   "execution_count": 28,
   "metadata": {},
   "outputs": [
    {
     "data": {
      "text/html": [
       "<span style=\"font-size:20px;\"> <a class=\"ProveItLink\" href=\"__pv_it/43331dd398bf5d0b3ca3f9449c5b230ffa6c0c6c0/proof.ipynb\" style=\"text-decoration: none\">&#x22A2;&nbsp;</a><a class=\"ProveItLink\" href=\"__pv_it/b22b3190e64c14f71ad99a632ca5730473a89aa20/expr.ipynb\"><img src=\"data:image/png;base64,iVBORw0KGgoAAAANSUhEUgAAAD4AAAAUBAMAAAAn2JMnAAAAMFBMVEX///+YmJiqqqqIiIgyMjLc\n",
       "3NwiIiIQEBC6urp2dnZUVFTMzMxERERmZmbu7u4AAADrYmUNAAAAAXRSTlMAQObYZgAAAOhJREFU\n",
       "KM9jYKAALCAgf4AK8nx3z2xAEWRMP/PF/SBc/hUD5w9UXSx8C7gPnmPgcnEpcXFkuMfAUI4qz8M6\n",
       "geFAFEx/GQPD+gCIwcfSUmDyV1lg8v4PGNaDHcB9+AFC/1UeJPfngyWePEAyf0EXQp7jJ5haimQ/\n",
       "U64fQp5tAWpg8LCWpTmBWRB33QWT3CUuQACRn3HhHMI7zBfAFCuS/gk39iDkdRlYweYUIMnzPDSA\n",
       "8bgnMDCD5S8jyXMvuA3jhc2cuwziTAVE+DJM4oJFiv///9/ADL41ffD42cBz5BNGbHLMgYQvCgAA\n",
       "q3tI0NPOwegAAAAASUVORK5CYII=\n",
       "\" style=\"display:inline;vertical-align:middle;\" /></a></span>"
      ],
      "text/plain": [
       "|- 2 in RealsPos"
      ]
     },
     "execution_count": 28,
     "metadata": {},
     "output_type": "execute_result"
    }
   ],
   "source": [
    "InSet(two, RealsPos).prove()"
   ]
  },
  {
   "cell_type": "code",
   "execution_count": 29,
   "metadata": {},
   "outputs": [
    {
     "data": {
      "text/html": [
       "<strong id=\"twoInRealsKT\">twoInRealsKT:</strong> <span style=\"font-size:20px;\"> <a class=\"ProveItLink\" href=\"__pv_it/32d3be04d4f7c2a7a37f980a016915f9a57000d10/proof.ipynb\" style=\"text-decoration: none\">&#x22A2;&nbsp;</a><a class=\"ProveItLink\" href=\"__pv_it/696e80c4585d7e472814e97a6edf2c74c873f2510/expr.ipynb\"><img src=\"data:image/png;base64,iVBORw0KGgoAAAANSUhEUgAAADIAAAAPBAMAAABU9YHxAAAAMFBMVEX///+YmJiqqqqIiIgyMjLc\n",
       "3NwiIiIQEBC6urp2dnZUVFTMzMxERERmZmbu7u4AAADrYmUNAAAAAXRSTlMAQObYZgAAANVJREFU\n",
       "GNNj4Lt7ZgMDMmBMP/PF/SCQ8YqB8weKDAML3wLug+cYGO4xMJSjyvCwTmA4EMXAUMbAsD4ALCKT\n",
       "luYAk7nKwsDg/4BhPdiiPXZIeq7ygJn5D4AEnx+yaQu6QCyOnyCSKwBJhikXrI5tAZiP5IKyNCcw\n",
       "6y6Y3O4CBFAXzLhwDsRgvgCWiUF29Y09IIYuAyvICnZkGZ6HBgwM3BMYmEEyvAZIMtwLbjMwhM2c\n",
       "uwwskIQUOgyTuDYw+P///w0s8OrEA3iIbuA58gkpvDqPQUIHCgBnrj0uOO3EnwAAAABJRU5ErkJg\n",
       "gg==\n",
       "\" style=\"display:inline;vertical-align:middle;\" /></a></span><br>"
      ],
      "text/plain": [
       "twoInRealsKT: |- 2 in Reals"
      ]
     },
     "execution_count": 29,
     "metadata": {},
     "output_type": "execute_result"
    }
   ],
   "source": [
    "twoInRealsKT = InSet(two, Reals).prove()"
   ]
  },
  {
   "cell_type": "code",
   "execution_count": 30,
   "metadata": {},
   "outputs": [
    {
     "data": {
      "text/html": [
       "<table><tr><th>&nbsp;</th><th>step type</th><th>requirements</th><th>statement</th></tr>\n",
       "<tr><td><a name=\"0x31248d91976d91bc_step0\">0</a></td><td>instantiation</td><td><a href=\"#0x31248d91976d91bc_step1\">1</a>, <a href=\"#0x31248d91976d91bc_step2\">2</a>, <a href=\"#0x31248d91976d91bc_step3\">3</a></td><td><span style=\"font-size:20px;\"> <a class=\"ProveItLink\" href=\"__pv_it/32d3be04d4f7c2a7a37f980a016915f9a57000d10/proof.ipynb\" style=\"text-decoration: none\">&#x22A2;&nbsp;</a><a class=\"ProveItLink\" href=\"__pv_it/696e80c4585d7e472814e97a6edf2c74c873f2510/expr.ipynb\"><img src=\"data:image/png;base64,iVBORw0KGgoAAAANSUhEUgAAADIAAAAPBAMAAABU9YHxAAAAMFBMVEX///+YmJiqqqqIiIgyMjLc\n",
       "3NwiIiIQEBC6urp2dnZUVFTMzMxERERmZmbu7u4AAADrYmUNAAAAAXRSTlMAQObYZgAAANVJREFU\n",
       "GNNj4Lt7ZgMDMmBMP/PF/SCQ8YqB8weKDAML3wLug+cYGO4xMJSjyvCwTmA4EMXAUMbAsD4ALCKT\n",
       "luYAk7nKwsDg/4BhPdiiPXZIeq7ygJn5D4AEnx+yaQu6QCyOnyCSKwBJhikXrI5tAZiP5IKyNCcw\n",
       "6y6Y3O4CBFAXzLhwDsRgvgCWiUF29Y09IIYuAyvICnZkGZ6HBgwM3BMYmEEyvAZIMtwLbjMwhM2c\n",
       "uwwskIQUOgyTuDYw+P///w0s8OrEA3iIbuA58gkpvDqPQUIHCgBnrj0uOO3EnwAAAABJRU5ErkJg\n",
       "gg==\n",
       "\" style=\"display:inline;vertical-align:middle;\" /></a></span></td></tr>\n",
       "<tr><td>&nbsp;</td><td colspan=4 style=\"text-align:left\"><span style=\"font-size:20px;\"><a class=\"ProveItLink\" href=\"../../__pv_it/d3792d0d8642fdf1cd2a3a9b32c673ee13653de00/expr.ipynb\"><img src=\"data:image/png;base64,iVBORw0KGgoAAAANSUhEUgAAAA8AAAAOBAMAAAACpFvcAAAALVBMVEX///8iIiIQEBBERERUVFS6\n",
       "urqIiIjc3NxmZmaqqqru7u6YmJgyMjLMzMwAAACK9jtgAAAAAXRSTlMAQObYZgAAAFtJREFUCNdj\n",
       "YACBOwxQcA5Kc59bAGGs7CuAMDbkBYBp1gXzNoAZSxnuJYAZAQx1DSCa16PDzwCshIGB6QCIMYGB\n",
       "gVEBSLMDGTwPgIxCIGZ+zsCw+N0pBk67hw0AfpEVEQi8t+wAAAAASUVORK5CYII=\n",
       "\" style=\"display:inline;vertical-align:middle;\" /></a> : <a class=\"ProveItLink\" href=\"../sets/real/__pv_it/201c4d7b652a9bf45500ae0d1f35f73fe37164750/expr.ipynb\"><img src=\"data:image/png;base64,iVBORw0KGgoAAAANSUhEUgAAABsAAAATBAMAAACTqWsLAAAAMFBMVEX///+IiIiqqqq6urpmZmZ2\n",
       "dnbc3NzMzMxUVFTu7u4yMjJEREQQEBAiIiKYmJgAAACIyPRpAAAAAXRSTlMAQObYZgAAAHNJREFU\n",
       "GNNjYMAFOFC53IS5b0/vX3X6AUJ2wQyG6tcTGLpWrVm1Cii8IZWBm60BLgvksiQsQOVuQOZyMKMo\n",
       "1vWagODm3L2lAGKwQWVNuCcgHLMhlcV8AzKXYedDFG4FSwGcC3Qkq0I7jAf0wnKG3esVIDwAl3Yo\n",
       "N6tRnxsAAAAASUVORK5CYII=\n",
       "\" style=\"display:inline;vertical-align:middle;\" /></a>, <a class=\"ProveItLink\" href=\"../../__pv_it/4d98b438710c5ada9ffa4646bb123a7d0e69ec000/expr.ipynb\"><img src=\"data:image/png;base64,iVBORw0KGgoAAAANSUhEUgAAABAAAAAOBAMAAADUAYG5AAAALVBMVEX///8yMjKqqqoiIiLu7u7c\n",
       "3NyIiIjMzMwQEBC6urpERERmZmZUVFSYmJgAAACsPVCVAAAAAXRSTlMAQObYZgAAAGxJREFUCNdj\n",
       "YGC48+70nlUTGICgi4GB+zmQZn/LwMD5Gshge8rAwPsMyOBqYGDwMAEy+A4wsNs4ABl1Z68tVgBp\n",
       "ygtgYOkBMVaAOCChNyBGAsQYhnMTIMawvwJyGIHGzFjCwMAj92b3qUUMDAAXABxvZ4rl5AAAAABJ\n",
       "RU5ErkJggg==\n",
       "\" style=\"display:inline;vertical-align:middle;\" /></a> : <a class=\"ProveItLink\" href=\"../sets/real/__pv_it/83c2d223a7b04200651811c8b29e747fd8f853510/expr.ipynb\"><img src=\"data:image/png;base64,iVBORw0KGgoAAAANSUhEUgAAAA8AAAAOBAMAAAACpFvcAAAAMFBMVEX///+IiIiqqqq6urpmZmZ2\n",
       "dnbc3NzMzMxUVFTu7u4yMjJEREQQEBAiIiKYmJgAAACIyPRpAAAAAXRSTlMAQObYZgAAAFlJREFU\n",
       "CNdjeHt6/6rTDxiAYMEMhurXE4CMDakM3GwNEAZLwgIYYwOEwcEMldL1AivOuXtLgQEsYsI9AcJg\n",
       "Md8AYTDsfAhlVLAUQKxgVWhnYABaupxh93oFAP7MI7KHKGXxAAAAAElFTkSuQmCC\n",
       "\" style=\"display:inline;vertical-align:middle;\" /></a>, <a class=\"ProveItLink\" href=\"../../__pv_it/72df168d2bfb4e0140af90912ebf83b13772060b0/expr.ipynb\"><img src=\"data:image/png;base64,iVBORw0KGgoAAAANSUhEUgAAAAsAAAAJBAMAAAAWSsseAAAALVBMVEX///9mZmaqqqrMzMxEREQy\n",
       "MjIiIiKYmJh2dna6urrc3NxUVFSIiIju7u4AAACJHQtQAAAAAXRSTlMAQObYZgAAAEJJREFUCNdj\n",
       "YLhzeuWJAwy8Dew5bAEMHBc43nIuYOBlYHFgAAG+A2DKzgBIMF04x8BzgWGegh/DcgaG22fuiBcw\n",
       "AAATyhBrnyPYZQAAAABJRU5ErkJggg==\n",
       "\" style=\"display:inline;vertical-align:middle;\" /></a> : <a class=\"ProveItLink\" href=\"../numeral/__pv_it/fb4ccffdbfd0f653ebaacb95e7ff4802fd48a6f20/expr.ipynb\"><img src=\"data:image/png;base64,iVBORw0KGgoAAAANSUhEUgAAAAkAAAAOBAMAAAAPuiubAAAALVBMVEX///+qqqqIiIgyMjLc3Nwi\n",
       "IiIQEBC6urp2dnZUVFTMzMxERERmZmbu7u4AAAAQI6y7AAAAAXRSTlMAQObYZgAAAFJJREFUCNdj\n",
       "4D2zewEDw00GjucMDGcZGNIYGFIZGOY5MNhdYJgHlGBgiLsAJNhfgJisE0DkGRDBdABEyjCwODBw\n",
       "NTAwOTC4dvRMZWCwe/fuKQMANh0TGKpG4roAAAAASUVORK5CYII=\n",
       "\" style=\"display:inline;vertical-align:middle;\" /></a></span></td></tr><tr><td><a name=\"0x31248d91976d91bc_step1\">1</a></td><td>theorem</td><td></td><td><span style=\"font-size:20px;\"> <a class=\"ProveItLink\" href=\"../../logic/set_theory/containment/_proofs_/supersetMembershipFromSubset.ipynb\" style=\"text-decoration: none\">&#x22A2;&nbsp;</a><a class=\"ProveItLink\" href=\"../../logic/set_theory/containment/__pv_it/0c084c33e0b61155e80aecb387d7a717678f8ed60/expr.ipynb\"><img src=\"data:image/png;base64,iVBORw0KGgoAAAANSUhEUgAAAPcAAAAWBAMAAADuuhdHAAAAMFBMVEX///8QEBCIiIhmZma6urrM\n",
       "zMxUVFQiIiJERETc3Nzu7u6qqqp2dnaYmJgyMjIAAAAcRTyBAAAAAXRSTlMAQObYZgAAA4ZJREFU\n",
       "SMe1lktoE1EUhn+TmTQzTdquRNBFsAul+AgEKoqPqBuVitGFuDP4gAqKQcX3o0qx0yo0brQI2hHB\n",
       "RxQNuNKNsSJK6yMq+BYHXBS60NJarZWi9547mblNk2Ij3kXm3nvOPd+Zc885E6DE4fkSG1vh3FjC\n",
       "20CwOwqLzz+OHx6IVvBHMFtErjcU3H71e2OtEYUvyS2gi2/1lAIPpNmjwiwir0gW3p8EeAegWwRv\n",
       "YxtaQylwOtVWTP6y8LY6DCj9QAfBuev0DuOGU7y6isn3jVi92bPHEqnyk11VH3CBLAQ7U6kzKAn+\n",
       "IZW6migi1kYI1tXkZv4qBt7PbiXKLWDQMA6WBq80jKZMsWIIs5ybumVJByWfm1OVcai7ebDDBN8M\n",
       "NNO++F3Wf7+eckVxnHVSR2mdX9vswn0xSZan62dVcB2vQ4f5wudqrd/2oolfctAi+FJKPbb8RtJg\n",
       "FQJVdDyn/ynqHH0O3HPhShg38l7Y0S1jhE48M5ePMAXMTkKfyJ7lCYKXwUO1enGYpN44yofkE/oi\n",
       "JlarIxE2rwXumg4cCczMGb12f0FOl8YEJjZhiMXqL2yIhDvKHWCOqb1kIZAto+3OncLlELyWDA9c\n",
       "DkPfuiKVYvMdwEL3zfEEubQKnjhr2rouHOgTC6kev3N4yIFr1loqwJBw82YMs0wZvsbfwG+XgjAA\n",
       "T48EP6/G2aR6zWZ2d46uG3aoA7YnI8oc29lRRYQdzZsoKTCHxKtmTo9Dhse9CdTZCdf34riU7fCf\n",
       "Zj81PmuXaNJC1024O55eUI15Q04RsDJXB92Ewy068B6zSfwUmCbDg2lm4oENtOBJSPBy7m+sIgs9\n",
       "7Ora4jCUX/5eTeTAAafpslxe3ML9yQh4JfdL//y4laJ9EmhPS/Ab8x8NYa79OhlovyS4uNPKJNS9\n",
       "hnHM1rWDlIC+oaba/mJdahRp6vv6PVJ/gryICQtBLvCaaKeLZcZXJSX4PGgDLCyiQ6Sh/JTh76h0\n",
       "EUPc1S3YXuua7PaaG5dtCzRWMtNZrQXaELQpUtgVFrdhXBFK7SZOZWQ476O9T5ER9yJ0x/6w5EaH\n",
       "BPcPQms9pE7Gw/5IfVSCtzag7UdWob4WOBKpbUQeXN9WN8OEP+3ojuqLBb/2lvzmYpTLnVIWXDIM\n",
       "Y1Rvl8d0fud/8WdCci0ffrsYvMCX4/C//I16ywx058Gzfw//v8P7/xF/AAdz9RArGsNxAAAAAElF\n",
       "TkSuQmCC\n",
       "\" style=\"display:inline;vertical-align:middle;\" /></a></span></td></tr>\n",
       "<tr><td>&nbsp;</td><td colspan=4 style-\"text-align:left\"><a class=\"ProveItLink\" href=\"../../logic/set_theory/containment/_proofs_/supersetMembershipFromSubset.ipynb\">proveit.logic.set_theory.containment.supersetMembershipFromSubset</a></td></tr><tr><td><a name=\"0x31248d91976d91bc_step2\">2</a></td><td>theorem</td><td></td><td><span style=\"font-size:20px;\"> <a class=\"ProveItLink\" href=\"../sets/real/_proofs_/realsPosInReals.ipynb\" style=\"text-decoration: none\">&#x22A2;&nbsp;</a><a class=\"ProveItLink\" href=\"../sets/real/__pv_it/ff96578bf31480e51627bae491d4b205a85eb37f0/expr.ipynb\"><img src=\"data:image/png;base64,iVBORw0KGgoAAAANSUhEUgAAAEcAAAAUBAMAAAAthD11AAAAMFBMVEX///+IiIiqqqq6urpmZmZ2\n",
       "dnbc3NzMzMxUVFTu7u4yMjJEREQQEBAiIiKYmJgAAACIyPRpAAAAAXRSTlMAQObYZgAAANVJREFU\n",
       "KM9jYCANcBCjiJseit6e3r/q9APsihByC2YwVL+ewNC1as2qVQ/QVEHlGBg2pDJwszVgtw4uB2Sw\n",
       "JCxAUfT67t271xmQ5cCMDciKssKQTILIARkczCjWXUO2DiIHZOh6TUBSxKKArAgityHn7i2wMBtU\n",
       "hhfJ4TC5Dakm3BOQvZSB7Duo3IZUFvMNyIpmIyuCygHt3fkQWREvSjhB5ICMCpYCJEWsAsiKIHLA\n",
       "oGdVaEc2ahFytIDlgJG4nGH3egUkRTOaJ8AjGF0OAUr3QqMFCgAeqVk92gtVHAAAAABJRU5ErkJg\n",
       "gg==\n",
       "\" style=\"display:inline;vertical-align:middle;\" /></a></span></td></tr>\n",
       "<tr><td>&nbsp;</td><td colspan=4 style-\"text-align:left\"><a class=\"ProveItLink\" href=\"../sets/real/_proofs_/realsPosInReals.ipynb\">proveit.number.sets.real.realsPosInReals</a></td></tr><tr><td><a name=\"0x31248d91976d91bc_step3\">3</a></td><td>instantiation</td><td><a href=\"#0x31248d91976d91bc_step4\">4</a>, <a href=\"#0x31248d91976d91bc_step5\">5</a>, <a href=\"#0x31248d91976d91bc_step6\">6</a></td><td><span style=\"font-size:20px;\"> <a class=\"ProveItLink\" href=\"__pv_it/43331dd398bf5d0b3ca3f9449c5b230ffa6c0c6c0/proof.ipynb\" style=\"text-decoration: none\">&#x22A2;&nbsp;</a><a class=\"ProveItLink\" href=\"__pv_it/b22b3190e64c14f71ad99a632ca5730473a89aa20/expr.ipynb\"><img src=\"data:image/png;base64,iVBORw0KGgoAAAANSUhEUgAAAD4AAAAUBAMAAAAn2JMnAAAAMFBMVEX///+YmJiqqqqIiIgyMjLc\n",
       "3NwiIiIQEBC6urp2dnZUVFTMzMxERERmZmbu7u4AAADrYmUNAAAAAXRSTlMAQObYZgAAAOhJREFU\n",
       "KM9jYKAALCAgf4AK8nx3z2xAEWRMP/PF/SBc/hUD5w9UXSx8C7gPnmPgcnEpcXFkuMfAUI4qz8M6\n",
       "geFAFEx/GQPD+gCIwcfSUmDyV1lg8v4PGNaDHcB9+AFC/1UeJPfngyWePEAyf0EXQp7jJ5haimQ/\n",
       "U64fQp5tAWpg8LCWpTmBWRB33QWT3CUuQACRn3HhHMI7zBfAFCuS/gk39iDkdRlYweYUIMnzPDSA\n",
       "8bgnMDCD5S8jyXMvuA3jhc2cuwziTAVE+DJM4oJFiv///9/ADL41ffD42cBz5BNGbHLMgYQvCgAA\n",
       "q3tI0NPOwegAAAAASUVORK5CYII=\n",
       "\" style=\"display:inline;vertical-align:middle;\" /></a></span></td></tr>\n",
       "<tr><td>&nbsp;</td><td colspan=4 style=\"text-align:left\"><span style=\"font-size:20px;\"><a class=\"ProveItLink\" href=\"../../__pv_it/d3792d0d8642fdf1cd2a3a9b32c673ee13653de00/expr.ipynb\"><img src=\"data:image/png;base64,iVBORw0KGgoAAAANSUhEUgAAAA8AAAAOBAMAAAACpFvcAAAALVBMVEX///8iIiIQEBBERERUVFS6\n",
       "urqIiIjc3NxmZmaqqqru7u6YmJgyMjLMzMwAAACK9jtgAAAAAXRSTlMAQObYZgAAAFtJREFUCNdj\n",
       "YACBOwxQcA5Kc59bAGGs7CuAMDbkBYBp1gXzNoAZSxnuJYAZAQx1DSCa16PDzwCshIGB6QCIMYGB\n",
       "gVEBSLMDGTwPgIxCIGZ+zsCw+N0pBk67hw0AfpEVEQi8t+wAAAAASUVORK5CYII=\n",
       "\" style=\"display:inline;vertical-align:middle;\" /></a> : <a class=\"ProveItLink\" href=\"../sets/integer/__pv_it/f6a9f4b6dec6ab4d2dcb6ba1b0ba3cceefc643530/expr.ipynb\"><img src=\"data:image/png;base64,iVBORw0KGgoAAAANSUhEUgAAABsAAAATBAMAAACTqWsLAAAAMFBMVEX///9mZmaqqqrc3NyIiIgi\n",
       "IiJUVFTMzMyYmJi6uroQEBB2dnZEREQyMjLu7u4AAAA1o4RqAAAAAXRSTlMAQObYZgAAAHlJREFU\n",
       "GNNjYMAF2FC5PIS5b/+cfcCw69cEmOwJ9gQGvg8MuXdv3b3bwMCQWuDCwLAArjfzHFsBQwCcm1zG\n",
       "dw+Zy+RQhsxl2MnhgMxle5AO4jJDuXwJvAvgjklmYKhmR+FyKByAc9OBeDOCewmIGS/AeKW/gDJ8\n",
       "MC4AcS4inf/pcBQAAAAASUVORK5CYII=\n",
       "\" style=\"display:inline;vertical-align:middle;\" /></a>, <a class=\"ProveItLink\" href=\"../../__pv_it/4d98b438710c5ada9ffa4646bb123a7d0e69ec000/expr.ipynb\"><img src=\"data:image/png;base64,iVBORw0KGgoAAAANSUhEUgAAABAAAAAOBAMAAADUAYG5AAAALVBMVEX///8yMjKqqqoiIiLu7u7c\n",
       "3NyIiIjMzMwQEBC6urpERERmZmZUVFSYmJgAAACsPVCVAAAAAXRSTlMAQObYZgAAAGxJREFUCNdj\n",
       "YGC48+70nlUTGICgi4GB+zmQZn/LwMD5Gshge8rAwPsMyOBqYGDwMAEy+A4wsNs4ABl1Z68tVgBp\n",
       "ygtgYOkBMVaAOCChNyBGAsQYhnMTIMawvwJyGIHGzFjCwMAj92b3qUUMDAAXABxvZ4rl5AAAAABJ\n",
       "RU5ErkJggg==\n",
       "\" style=\"display:inline;vertical-align:middle;\" /></a> : <a class=\"ProveItLink\" href=\"../sets/real/__pv_it/201c4d7b652a9bf45500ae0d1f35f73fe37164750/expr.ipynb\"><img src=\"data:image/png;base64,iVBORw0KGgoAAAANSUhEUgAAABsAAAATBAMAAACTqWsLAAAAMFBMVEX///+IiIiqqqq6urpmZmZ2\n",
       "dnbc3NzMzMxUVFTu7u4yMjJEREQQEBAiIiKYmJgAAACIyPRpAAAAAXRSTlMAQObYZgAAAHNJREFU\n",
       "GNNjYMAFOFC53IS5b0/vX3X6AUJ2wQyG6tcTGLpWrVm1Cii8IZWBm60BLgvksiQsQOVuQOZyMKMo\n",
       "1vWagODm3L2lAGKwQWVNuCcgHLMhlcV8AzKXYedDFG4FSwGcC3Qkq0I7jAf0wnKG3esVIDwAl3Yo\n",
       "N6tRnxsAAAAASUVORK5CYII=\n",
       "\" style=\"display:inline;vertical-align:middle;\" /></a>, <a class=\"ProveItLink\" href=\"../../__pv_it/72df168d2bfb4e0140af90912ebf83b13772060b0/expr.ipynb\"><img src=\"data:image/png;base64,iVBORw0KGgoAAAANSUhEUgAAAAsAAAAJBAMAAAAWSsseAAAALVBMVEX///9mZmaqqqrMzMxEREQy\n",
       "MjIiIiKYmJh2dna6urrc3NxUVFSIiIju7u4AAACJHQtQAAAAAXRSTlMAQObYZgAAAEJJREFUCNdj\n",
       "YLhzeuWJAwy8Dew5bAEMHBc43nIuYOBlYHFgAAG+A2DKzgBIMF04x8BzgWGegh/DcgaG22fuiBcw\n",
       "AAATyhBrnyPYZQAAAABJRU5ErkJggg==\n",
       "\" style=\"display:inline;vertical-align:middle;\" /></a> : <a class=\"ProveItLink\" href=\"../numeral/__pv_it/fb4ccffdbfd0f653ebaacb95e7ff4802fd48a6f20/expr.ipynb\"><img src=\"data:image/png;base64,iVBORw0KGgoAAAANSUhEUgAAAAkAAAAOBAMAAAAPuiubAAAALVBMVEX///+qqqqIiIgyMjLc3Nwi\n",
       "IiIQEBC6urp2dnZUVFTMzMxERERmZmbu7u4AAAAQI6y7AAAAAXRSTlMAQObYZgAAAFJJREFUCNdj\n",
       "4D2zewEDw00GjucMDGcZGNIYGFIZGOY5MNhdYJgHlGBgiLsAJNhfgJisE0DkGRDBdABEyjCwODBw\n",
       "NTAwOTC4dvRMZWCwe/fuKQMANh0TGKpG4roAAAAASUVORK5CYII=\n",
       "\" style=\"display:inline;vertical-align:middle;\" /></a></span></td></tr><tr><td><a name=\"0x31248d91976d91bc_step4\">4</a></td><td>theorem</td><td></td><td><span style=\"font-size:20px;\"> <a class=\"ProveItLink\" href=\"../../logic/set_theory/containment/_proofs_/unfoldSubsetEq.ipynb\" style=\"text-decoration: none\">&#x22A2;&nbsp;</a><a class=\"ProveItLink\" href=\"../../logic/set_theory/containment/__pv_it/50365d66c4ce11f61cd1875cfaef9136615e6faf0/expr.ipynb\"><img src=\"data:image/png;base64,iVBORw0KGgoAAAANSUhEUgAAAPcAAAAWBAMAAADuuhdHAAAAMFBMVEX///8QEBCIiIhmZma6urrM\n",
       "zMxUVFQiIiJERETc3Nzu7u6qqqp2dnaYmJgyMjIAAAAcRTyBAAAAAXRSTlMAQObYZgAAA4FJREFU\n",
       "SMe9lk1oE0EUx/8m2TS7SZqeRNBDsAdLsRooVJSqsV4UKo09iDeDWqgHMahYv42idtsqiRctgnZF\n",
       "sFhLDXhSD8YWsbZ+xAp+iwseCj3U0BqtlaLzsclOQ1JtRN9hd2bem/d7M/Pe7AIFimU0MLPBpZmU\n",
       "twH3sB86bX+YPdzlL6YvdyKPXgnnHH75c1uV6oc9Sj1gkA6NFAJ3xcirWMujL47mHp8HWFNQdAZv\n",
       "JwNyuBA4m9WeT/8i97A0BdjGgV4Gp6GzNcwazvZrMJ/+wLTe66YmnafKd3JUY8AV5sE90NV1AQXB\n",
       "33d1XQ/lUcvTFJvL0y1HCQEfJKfipx4woaqHC4N7VLU5nq8YfCTnFu6o6WXJZ+aUJwhpH91sH4M3\n",
       "AC1snD/Xjfc1slyxZYLNpI4tUl3VYsLtAUGXZesgVdCNV96jtGM3rbbsHGqmh+zWGXwtSz3S/cK0\n",
       "7hK4Stj0tP1HYtStqqdJ8zlw34TbfOjJWjC1ZVJECAN4pq2f5gpYGoUyl7ydIQYvgoXV6tUpprUG\n",
       "4ZwUZyirE5BO8XYVcE/LwBFCRdrpjb6Vhi2XOUStQeWdjaNEeMIdpwGQwKQk8+BKFLHhgT08ZC+s\n",
       "ugh3dfoy7d3AKnPleIJ0WrnbLmqGrQkHxnhHqMevFO7NwGV9EytALw/zZgBLNBFe7wjjrrEJKVhG\n",
       "BPhlKUgapfUN5Owytua2Q0oZkUwrc+wiU21829GynSUFljF1XUVZECI8aA1huZFwY0OnhWyH4zx5\n",
       "lNv1vfyS5rZmwt2xJMFqzOrNFAEpc2nCTDjcYhPeYSlTPwUWiXB3jLh4ZAB1WEIC3EnjDRQnoPhM\n",
       "W0Ptg+2HIynzHDiUuXRJLq9ppfHEOdxD41I+PY6w3T4DdMQEeE91/yRqjOXEIf8Q4PxMPVFI+1X1\n",
       "hGFrbFIIytbyUuOLde0kT1P756+VjW0sigD34KYKq4YO9o0kzuuiAnwF5FS6fD0x2L6L8LesdBFA\n",
       "0LTNeb3WNhvXa1o6DQ9MNhDXCbkV8iTkBcK228i+TUE5y+gdGs7FRTi9R5NPEccD03bmD0taegW4\n",
       "YwJy5Ig0Hw/HKxv9AjwSRvu3BJz95JJxHausOoksuLKzdrEGR8y0zb4Xc37tdXHlXJziTfnbu12U\n",
       "Mnrmf/AzIYSWDb/953DL0b/5jXpDHAxnwRN54O0qEfxHsf57xC8BVPer1lKnkwAAAABJRU5ErkJg\n",
       "gg==\n",
       "\" style=\"display:inline;vertical-align:middle;\" /></a></span></td></tr>\n",
       "<tr><td>&nbsp;</td><td colspan=4 style-\"text-align:left\"><a class=\"ProveItLink\" href=\"../../logic/set_theory/containment/_proofs_/unfoldSubsetEq.ipynb\">proveit.logic.set_theory.containment.unfoldSubsetEq</a></td></tr><tr><td><a name=\"0x31248d91976d91bc_step5\">5</a></td><td>instantiation</td><td><a href=\"#0x31248d91976d91bc_step7\">7</a>, <a href=\"#0x31248d91976d91bc_step8\">8</a></td><td><span style=\"font-size:20px;\"> <a class=\"ProveItLink\" href=\"__pv_it/bbb221ad5c714df7944fe067be4de6c0af4b08df0/proof.ipynb\" style=\"text-decoration: none\">&#x22A2;&nbsp;</a><a class=\"ProveItLink\" href=\"__pv_it/1512fb5c9df370b28d44b31d071b5492484218210/expr.ipynb\"><img src=\"data:image/png;base64,iVBORw0KGgoAAAANSUhEUgAAAFQAAAAWBAMAAACs1aaVAAAAMFBMVEX///9mZmaqqqrc3NyIiIgi\n",
       "IiJUVFTMzMyYmJi6uroQEBB2dnZEREQyMjLu7u4AAAA1o4RqAAAAAXRSTlMAQObYZgAAARdJREFU\n",
       "KM9jYCAHsOGTTEDh8eBTeoBmSt/+OfuAYdevCdiUckSd+XvrBMLUE+wJDHwfGHLv3rp7twGipC00\n",
       "NDQcxODlS2A/cY6B7e7dtXdvMDCkFrgwMCxAdoDtZribmDcwHDCDm5p5jq2AIQBZ6WUGZKXCvHCl\n",
       "yWV891CUMiqgKuVBKGVyKENRysqAojRhGkIpw04OB2SlZihKmQLvISlle5AOUsoMlX+DrHRp6CUw\n",
       "ywCilC+BdwFSaKI4YKfAOQQ3mYGhmh1ZKbcDsgMka1CUciigRPElZKU8LxA604F4M4rSZ5kPEErZ\n",
       "E8RRzGC8gBL31UcREcuwCRhDEFD6C2gi3wWsyQmUXAp4zn5ioC/gDg2FJUIUAAAns1WdbOqt3gAA\n",
       "AABJRU5ErkJggg==\n",
       "\" style=\"display:inline;vertical-align:middle;\" /></a></span></td></tr>\n",
       "<tr><td>&nbsp;</td><td colspan=4 style=\"text-align:left\"><span style=\"font-size:20px;\"><a class=\"ProveItLink\" href=\"../../__pv_it/d3792d0d8642fdf1cd2a3a9b32c673ee13653de00/expr.ipynb\"><img src=\"data:image/png;base64,iVBORw0KGgoAAAANSUhEUgAAAA8AAAAOBAMAAAACpFvcAAAALVBMVEX///8iIiIQEBBERERUVFS6\n",
       "urqIiIjc3NxmZmaqqqru7u6YmJgyMjLMzMwAAACK9jtgAAAAAXRSTlMAQObYZgAAAFtJREFUCNdj\n",
       "YACBOwxQcA5Kc59bAGGs7CuAMDbkBYBp1gXzNoAZSxnuJYAZAQx1DSCa16PDzwCshIGB6QCIMYGB\n",
       "gVEBSLMDGTwPgIxCIGZ+zsCw+N0pBk67hw0AfpEVEQi8t+wAAAAASUVORK5CYII=\n",
       "\" style=\"display:inline;vertical-align:middle;\" /></a> : <a class=\"ProveItLink\" href=\"../sets/integer/__pv_it/f6a9f4b6dec6ab4d2dcb6ba1b0ba3cceefc643530/expr.ipynb\"><img src=\"data:image/png;base64,iVBORw0KGgoAAAANSUhEUgAAABsAAAATBAMAAACTqWsLAAAAMFBMVEX///9mZmaqqqrc3NyIiIgi\n",
       "IiJUVFTMzMyYmJi6uroQEBB2dnZEREQyMjLu7u4AAAA1o4RqAAAAAXRSTlMAQObYZgAAAHlJREFU\n",
       "GNNjYMAF2FC5PIS5b/+cfcCw69cEmOwJ9gQGvg8MuXdv3b3bwMCQWuDCwLAArjfzHFsBQwCcm1zG\n",
       "dw+Zy+RQhsxl2MnhgMxle5AO4jJDuXwJvAvgjklmYKhmR+FyKByAc9OBeDOCewmIGS/AeKW/gDJ8\n",
       "MC4AcS4inf/pcBQAAAAASUVORK5CYII=\n",
       "\" style=\"display:inline;vertical-align:middle;\" /></a>, <a class=\"ProveItLink\" href=\"../../__pv_it/4d98b438710c5ada9ffa4646bb123a7d0e69ec000/expr.ipynb\"><img src=\"data:image/png;base64,iVBORw0KGgoAAAANSUhEUgAAABAAAAAOBAMAAADUAYG5AAAALVBMVEX///8yMjKqqqoiIiLu7u7c\n",
       "3NyIiIjMzMwQEBC6urpERERmZmZUVFSYmJgAAACsPVCVAAAAAXRSTlMAQObYZgAAAGxJREFUCNdj\n",
       "YGC48+70nlUTGICgi4GB+zmQZn/LwMD5Gshge8rAwPsMyOBqYGDwMAEy+A4wsNs4ABl1Z68tVgBp\n",
       "ygtgYOkBMVaAOCChNyBGAsQYhnMTIMawvwJyGIHGzFjCwMAj92b3qUUMDAAXABxvZ4rl5AAAAABJ\n",
       "RU5ErkJggg==\n",
       "\" style=\"display:inline;vertical-align:middle;\" /></a> : <a class=\"ProveItLink\" href=\"../sets/real/__pv_it/201c4d7b652a9bf45500ae0d1f35f73fe37164750/expr.ipynb\"><img src=\"data:image/png;base64,iVBORw0KGgoAAAANSUhEUgAAABsAAAATBAMAAACTqWsLAAAAMFBMVEX///+IiIiqqqq6urpmZmZ2\n",
       "dnbc3NzMzMxUVFTu7u4yMjJEREQQEBAiIiKYmJgAAACIyPRpAAAAAXRSTlMAQObYZgAAAHNJREFU\n",
       "GNNjYMAFOFC53IS5b0/vX3X6AUJ2wQyG6tcTGLpWrVm1Cii8IZWBm60BLgvksiQsQOVuQOZyMKMo\n",
       "1vWagODm3L2lAGKwQWVNuCcgHLMhlcV8AzKXYedDFG4FSwGcC3Qkq0I7jAf0wnKG3esVIDwAl3Yo\n",
       "N6tRnxsAAAAASUVORK5CYII=\n",
       "\" style=\"display:inline;vertical-align:middle;\" /></a></span></td></tr><tr><td><a name=\"0x31248d91976d91bc_step6\">6</a></td><td>theorem</td><td></td><td><span style=\"font-size:20px;\"> <a class=\"ProveItLink\" href=\"../numeral/deci/_proofs_/posnat2.ipynb\" style=\"text-decoration: none\">&#x22A2;&nbsp;</a><a class=\"ProveItLink\" href=\"../numeral/deci/__pv_it/319c208c2bec11a651b142d0da30b2d2b2954dcb0/expr.ipynb\"><img src=\"data:image/png;base64,iVBORw0KGgoAAAANSUhEUgAAAD4AAAAUBAMAAAAn2JMnAAAAMFBMVEX///+YmJiqqqqIiIgyMjLc\n",
       "3NwiIiIQEBC6urp2dnZUVFTMzMxERERmZmbu7u4AAADrYmUNAAAAAXRSTlMAQObYZgAAAPRJREFU\n",
       "KM9jYKAALCAgf4AK8nx3z2xAEeTzP+PHwFlfAZV/xcD5A1UXj8AuBob3DFwuLiUujgz3GBjKUeW5\n",
       "spkNGNhh5pcxMKwPAIszHktLAcv3PFjNwAaT93/AsB7sAO7DD6D6oxc8ecCG5P58sMSTBzDzA5S5\n",
       "FyDJc/wEU0vh9gdwNggjybMtQA0MrgCGdVzbQCyIu+6CSe4SFyCAyr9icId7h/kCmGJF1s89YTtc\n",
       "XpeBFWxOAZI8gxAPjMc9gYEZLH8ZLg/0LmcMjBc2c+4yiDMVoCIsIMYVmLz////fIPGypg9iYH4N\n",
       "KDQwY5NjDiR8UQAAMMdAv/oJq5oAAAAASUVORK5CYII=\n",
       "\" style=\"display:inline;vertical-align:middle;\" /></a></span></td></tr>\n",
       "<tr><td>&nbsp;</td><td colspan=4 style-\"text-align:left\"><a class=\"ProveItLink\" href=\"../numeral/deci/_proofs_/posnat2.ipynb\">proveit.number.numeral.deci.posnat2</a></td></tr><tr><td><a name=\"0x31248d91976d91bc_step7\">7</a></td><td>theorem</td><td></td><td><span style=\"font-size:20px;\"> <a class=\"ProveItLink\" href=\"../../logic/set_theory/containment/_proofs_/relaxSubset.ipynb\" style=\"text-decoration: none\">&#x22A2;&nbsp;</a><a class=\"ProveItLink\" href=\"../../logic/set_theory/containment/__pv_it/197cc6314f49adcd0f573501720524921008fe290/expr.ipynb\"><img src=\"data:image/png;base64,iVBORw0KGgoAAAANSUhEUgAAALkAAAAWBAMAAABuySBUAAAAMFBMVEX///8QEBCIiIhmZma6urrM\n",
       "zMxUVFQiIiJERETc3Nzu7u6qqqp2dnaYmJgyMjIAAAAcRTyBAAAAAXRSTlMAQObYZgAAAs1JREFU\n",
       "SMetVU1oE0EU/tyfNLtJak8iKBLwoBdtIBBRika8SFFaPPQkGLBCD4rRokFRjCB2W4XEixZEuyK0\n",
       "koMGetGTtSJqFYkVBBE14Ml6aGlsTSO1vpnZTSdtrbg6sPvemzfzvd+ZATyPG3/QP6CvyJgPHsDN\n",
       "NCd6cZHm7dzBmBWHLwu8YPKYB/T6rCATLmYqlToh2NWAOgWT7PaSZKQ9oL8R5GNF0JvPqxp9FtBK\n",
       "wDDZtoFg3gP6KZGfwRkhfpnXKDQVmgRuERnJ5a55ADeSnISUb5yqkoP+BkI+TY7HgbJlnfGArkQ4\n",
       "aQ7MclonqVYmoJ9kKaElh4BuPin+u0uPO3i9tKorWZfTMk2xbne2wBMT1ye5eFVCP3BktIuFEqKy\n",
       "7uLFJV6EGGpAsIFvdxd/ilf3vQYeOWxdXrhglLh4R0JvzMJcRTSQZDEp3I3bIkQ1gUBFRjd3kFpf\n",
       "H40SHwMe2mJ6BbfZFo2VF2XmPLNAxnVq1mBBaEY6xbIw1KKMHhyIwDzcnMsRfxzYDhmdfuvEqvA8\n",
       "+jRDDwt0o9jGmzRscdW9Vmy2ZfR9/jR8rSKMKShjcmYC9B0T8teadsdRsquxtupuZ3M+bOG6lk0b\n",
       "E5DRE2oSe5yqTo5ehFzV6/SNC7m/3ZbaXS87VcUg79z3aOS6V8AGGT2UVybwxElSEUrSTVjE6fmM\n",
       "01L7u5yboJ6aYmcPK+EQa0+WMvPzyww3fhnoy0vod5ueVbDV8XcIxg+3O5MwMz9t3J/rrD0IvvHp\n",
       "aMclboblM8RQVRt9PLm0uyUroW+DMUWBiWOShzZTexMsNwaq3F7aWzB6YFRgrJUyo1F6Z91u7rNx\n",
       "ZWjBLbbMGK7WqAwjc1Zfg6elaEdcQs+k0fu9oPETGjwXjV3A4iPMdanU/A3sHJSFN39A4v2yot+y\n",
       "rKVfj9+PWvPOY7UkupeX793CicLfoP/TUP8Dxi9bSbT1CXT83gAAAABJRU5ErkJggg==\n",
       "\" style=\"display:inline;vertical-align:middle;\" /></a></span></td></tr>\n",
       "<tr><td>&nbsp;</td><td colspan=4 style-\"text-align:left\"><a class=\"ProveItLink\" href=\"../../logic/set_theory/containment/_proofs_/relaxSubset.ipynb\">proveit.logic.set_theory.containment.relaxSubset</a></td></tr><tr><td><a name=\"0x31248d91976d91bc_step8\">8</a></td><td>theorem</td><td></td><td><span style=\"font-size:20px;\"> <a class=\"ProveItLink\" href=\"../sets/real/_proofs_/natPosInRealsPos.ipynb\" style=\"text-decoration: none\">&#x22A2;&nbsp;</a><a class=\"ProveItLink\" href=\"../sets/real/__pv_it/ceafa1fba783dfcd569c7fed8bcee57ff010cc5c0/expr.ipynb\"><img src=\"data:image/png;base64,iVBORw0KGgoAAAANSUhEUgAAAFQAAAAUBAMAAADhHQeeAAAAMFBMVEX///9mZmaqqqrc3NyIiIgi\n",
       "IiJUVFTMzMyYmJi6uroQEBB2dnZEREQyMjLu7u4AAAA1o4RqAAAAAXRSTlMAQObYZgAAARJJREFU\n",
       "KM9jYCAHsOGTTEDh8eBTeoBmSt/+OfuAYdevCdiUckSd+XvrBMLUE+wJDHwfGHLv3rp7twFNLS9f\n",
       "AvuJcwxsd++uvXuDgSG1wIWBYQF2B/Awb2A4YAY3NfMcWwFDAIrSntDQ0HCYUmFeuNLkMr57qEpt\n",
       "NyObKsyDUMrkUIaqNBjFAQnTEEoZdnI4ICtlVEBWyhR4D0kp24N0kFJmqDwrsreWhl4CswwgSvkS\n",
       "eBcgedsMWelOgXMIbjIDQzU7stI3KIElWYOilEMBOYpRHLCB54UDnJsOxJuRlXI7ICtlTxCHc0HO\n",
       "ZryAHEeXkCOWYRMwhiCg9BfQRD4Upc8yHyCSSwHP2U94Ulz1UWjEogAAoqlTGKZjvAUAAAAASUVO\n",
       "RK5CYII=\n",
       "\" style=\"display:inline;vertical-align:middle;\" /></a></span></td></tr>\n",
       "<tr><td>&nbsp;</td><td colspan=4 style-\"text-align:left\"><a class=\"ProveItLink\" href=\"../sets/real/_proofs_/natPosInRealsPos.ipynb\">proveit.number.sets.real.natPosInRealsPos</a></td></tr></table>"
      ],
      "text/plain": [
       "\tstep type\trequirements\tstatement\n",
       "0\tinstantiation\t1, 2, 3\t|- 2 in Reals\n",
       "\tA : RealsPos, B : Reals, x : 2\n",
       "1\ttheorem\t\t|- forall_{A, B | A subset B} [forall_{x in A} (x in B)]\n",
       "\tproveit.logic.set_theory.containment.supersetMembershipFromSubset\n",
       "2\ttheorem\t\t|- RealsPos subset Reals\n",
       "\tproveit.number.sets.real.realsPosInReals\n",
       "3\tinstantiation\t4, 5, 6\t|- 2 in RealsPos\n",
       "\tA : NaturalsPos, B : RealsPos, x : 2\n",
       "4\ttheorem\t\t|- forall_{A, B | A subseteq B} [forall_{x in A} (x in B)]\n",
       "\tproveit.logic.set_theory.containment.unfoldSubsetEq\n",
       "5\tinstantiation\t7, 8\t|- NaturalsPos subseteq RealsPos\n",
       "\tA : NaturalsPos, B : RealsPos\n",
       "6\ttheorem\t\t|- 2 in NaturalsPos\n",
       "\tproveit.number.numeral.deci.posnat2\n",
       "7\ttheorem\t\t|- forall_{A, B | A subset B} (A subseteq B)\n",
       "\tproveit.logic.set_theory.containment.relaxSubset\n",
       "8\ttheorem\t\t|- NaturalsPos subset RealsPos\n",
       "\tproveit.number.sets.real.natPosInRealsPos"
      ]
     },
     "execution_count": 30,
     "metadata": {},
     "output_type": "execute_result"
    }
   ],
   "source": [
    "twoInRealsKT.proof()"
   ]
  },
  {
   "cell_type": "code",
   "execution_count": 31,
   "metadata": {},
   "outputs": [
    {
     "data": {
      "text/html": [
       "<strong id=\"sqrt2IsComplex\">sqrt2IsComplex:</strong> <span style=\"font-size:20px;\"> <a class=\"ProveItLink\" href=\"__pv_it/ad975ec3fc9b1c58cebb2aa8e9eb8510e34dc7c80/proof.ipynb\" style=\"text-decoration: none\">&#x22A2;&nbsp;</a><a class=\"ProveItLink\" href=\"__pv_it/f5b7c2373c424880dac8e31c401187a72ddf95950/expr.ipynb\"><img src=\"data:image/png;base64,iVBORw0KGgoAAAANSUhEUgAAAEMAAAAVBAMAAADvM06qAAAAMFBMVEX////MzMxEREQQEBCYmJh2\n",
       "dnYiIiLu7u6qqqpmZmYyMjK6urpUVFSIiIjc3NwAAADOWS8BAAAAAXRSTlMAQObYZgAAATdJREFU\n",
       "KM9jYIAAvv8g8IEBD+DZwEAIvCKogmEGQRXsCQSVsDYQVFLGwFA5SRFdlHfZejNNGCeEgf0AQzya\n",
       "rxjlG9jneyKcwlnAwGyAqsThLAMDy0+YiQ4MzAkMPP/AHBa1tCwwLWAOJE8C8W4gZmNg4PrOwPMR\n",
       "bLxuAUQfJ58CkKwFGmAFpO+Cxdi+g8gqqAqGGsYJEMbz+0BHQkJlfwCIPAdzylPuC1BWvQIDC4Sd\n",
       "AyYVYEpewpVw/mNgA5vNCTaX0WoVEIBYRYwBsGTwk8EVzLgJ4cJN4So4AGOeL0gHURwTGN6BaHjg\n",
       "sEwAKWEHMeUjwDaIMjDcA9Fz4UGnuxdI7AIbaAVyCl9q6Bywx9jgMcq5KJy9SR1sAziMuYDpEqyE\n",
       "/dB2mBrJxd8mQlh6qFHDHQSJABgAAEaSSfW+M0X9AAAAAElFTkSuQmCC\n",
       "\" style=\"display:inline;vertical-align:middle;\" /></a></span><br>"
      ],
      "text/plain": [
       "sqrt2IsComplex: |- sqrt(2) in Complexes"
      ]
     },
     "execution_count": 31,
     "metadata": {},
     "output_type": "execute_result"
    }
   ],
   "source": [
    "sqrt2IsComplex = InSet(exp_test_03, Complexes).prove()"
   ]
  },
  {
   "cell_type": "code",
   "execution_count": 32,
   "metadata": {},
   "outputs": [
    {
     "data": {
      "text/html": [
       "<strong id=\"twoToPowerT\">twoToPowerT:</strong> <a class=\"ProveItLink\" href=\"__pv_it/086f3b22cc0c2f16d86a69ed2465892ab3a93eb30/expr.ipynb\"><img src=\"data:image/png;base64,iVBORw0KGgoAAAANSUhEUgAAAA8AAAATBAMAAAC97EqZAAAALVBMVEX///+qqqqIiIgyMjLc3Nwi\n",
       "IiIQEBC6urp2dnZUVFTMzMxERERmZmbu7u4AAAAQI6y7AAAAAXRSTlMAQObYZgAAAHdJREFUCNdj\n",
       "YAADKwjFwPsAymAMgNAsR20WQFjMAkDpM7sXMPA5MDDcZOB4zrAMKHqWgSGNQZPXgSGVgWGewyEO\n",
       "Bga7CwzzFqzUAuuJuwDRy/4CaizrBCjjDJRmOgBlyDCwOIBorgYGJjDDtaNnKljG7t27pyAaAOXm\n",
       "GU9MDlD9AAAAAElFTkSuQmCC\n",
       "\" style=\"display:inline;vertical-align:middle;\" /></a><br>"
      ],
      "text/plain": [
       "twoToPowerT: 2^{t}"
      ]
     },
     "execution_count": 32,
     "metadata": {},
     "output_type": "execute_result"
    }
   ],
   "source": [
    "t_ = Literal('t')\n",
    "twoToPowerT = Exp(two, t_)"
   ]
  },
  {
   "cell_type": "code",
   "execution_count": 33,
   "metadata": {},
   "outputs": [
    {
     "data": {
      "text/html": [
       "<span style=\"font-size:20px;\"><a class=\"ProveItLink\" href=\"__pv_it/f71b8c74323f1fa3b5bc916347f8a6c65b6b05ee0/expr.ipynb\"><img src=\"data:image/png;base64,iVBORw0KGgoAAAANSUhEUgAAAFIAAAAbBAMAAAAdVcUMAAAAMFBMVEX///+YmJiqqqpmZmYyMjJE\n",
       "RETu7u5UVFQiIiJ2dnbMzMy6uroQEBCIiIjc3NwAAACK8CUvAAAAAXRSTlMAQObYZgAAAVJJREFU\n",
       "OMtjYCAB8N3FJ1sAIhZvALPvbMCnMgBEsJUkAEnuXwwEVTKwgCjeD0So5DwAI9AAm3+oGwPn+dPY\n",
       "VPahKmUVWM7AkM/A7uJyxMURRSUTmhPYu3gvMPBgs53ZAaJCtKMDzGLfmlDFwIFNJccEsMDSazAz\n",
       "XxWkJGBTuTk++ALII25w2x/ochUgqQQHEAcoFvSh8giVnBtkkVRyAQOdrRTEMoH4GOGjBwxl7CtA\n",
       "LKhmiQ0MOxaAGJ1g7hoXIHCAqkxn8EEOjWAGbk+QA3+DeU+RzeSasAZJ4RKgP3KA3ub+wABKAjzI\n",
       "KhmEWJHS2ydQUDYA/e/ABHIE8wW4SiCXE2EFxO+gUGIuyAULNMFkWBTg3kQNT75AAbBAenQCJFD6\n",
       "jwLJFCwq4WBnRIcDtrSHM9VRrPIDsSqZvhGhkhXs+pIEwirvgKOfu5CgwuXXSClAAH1NXLHui0Xk\n",
       "AAAAAElFTkSuQmCC\n",
       "\" style=\"display:inline;vertical-align:middle;\" /></a> <a class=\"ProveItLink\" href=\"__pv_it/9f5f782bf320acd85551b52dce035fb6da3f33970/proof.ipynb\" style=\"text-decoration: none\">&#x22A2;&nbsp;</a><a class=\"ProveItLink\" href=\"__pv_it/dd4172449575f02bc1f23b3dfe4f34f5a6a66e1e0/expr.ipynb\"><img src=\"data:image/png;base64,iVBORw0KGgoAAAANSUhEUgAAAEUAAAAUBAMAAAApce1IAAAAMFBMVEX///+YmJiqqqqIiIgyMjLc\n",
       "3NwiIiIQEBC6urp2dnZUVFTMzMxERERmZmbu7u4AAADrYmUNAAAAAXRSTlMAQObYZgAAARtJREFU\n",
       "KM9jYAADbwaCgO8DLhkuOIspAZcaHhiD9ZrvBkJqGFgU8JrDd/fMBgb+AFSZJ3+OPGCY/r0BquYV\n",
       "A+cPhu3o2g9yLwB5ZImLu4uLAMM9BoZyBis+NIOWbTBmYCiA2VXGwLA+4DInRIrxWFoKmLHiHNcG\n",
       "hgSYGv8HDOs37LIGy3AffgA1Z+kuPj+EGiDIh8k8gTEYljIZ7EJWw/ETLsOAYM1gNEBSw7YAJnMA\n",
       "SQ3Xg9UgNawQ/l2YBHeJCxBA1fAtYCmAa2G+AI8SZHMYdnIj1OgysMICpwBZDaMCXAv3BAZmmJrL\n",
       "cDWrgXgqXE3YzLnLYGw2eNQ6ATGvA4zn////N3hSW9MHYWz7DjSDzwFrSuCYA40LFAAANZNK4kH5\n",
       "y2YAAAAASUVORK5CYII=\n",
       "\" style=\"display:inline;vertical-align:middle;\" /></a></span>"
      ],
      "text/plain": [
       "{t in NaturalsPos} |- 2^{t} in NaturalsPos"
      ]
     },
     "execution_count": 33,
     "metadata": {},
     "output_type": "execute_result"
    }
   ],
   "source": [
    "InSet(twoToPowerT, NaturalsPos).prove(assumptions=[InSet(t_, NaturalsPos)])"
   ]
  },
  {
   "cell_type": "markdown",
   "metadata": {},
   "source": [
    "Testing the formatting of some Exp() and sqrt() outputs"
   ]
  },
  {
   "cell_type": "code",
   "execution_count": 34,
   "metadata": {},
   "outputs": [
    {
     "data": {
      "text/html": [
       "<span style=\"font-size:20px;\"> <a class=\"ProveItLink\" href=\"__pv_it/a71b6d9d27ccb69ef24868fc09bc7018d8df72310/proof.ipynb\" style=\"text-decoration: none\">&#x22A2;&nbsp;</a><a class=\"ProveItLink\" href=\"__pv_it/1625a039698af9f98ca241f6c1a3ef07fdfc3f980/expr.ipynb\"><img src=\"data:image/png;base64,iVBORw0KGgoAAAANSUhEUgAAAE8AAAAVBAMAAAD1D64kAAAAMFBMVEX////MzMxEREQQEBCYmJh2\n",
       "dnYiIiLu7u6qqqpmZmYyMjK6urpUVFSIiIjc3NwAAADOWS8BAAAAAXRSTlMAQObYZgAAAUlJREFU\n",
       "KM9jYIAAvv8g8IGBIODZwEAceIXXFCT2DHwKmRBM9gQiFbI2EKmwjIGhcpIiqrSbkf4qIwc0hSEM\n",
       "7AcY4tF8vqCGQcipgOHUqsWrVjnAnchZwMBsgKpQ4SkDE98BFBN5HRiYExh4/oE5LGppWTCFnA8W\n",
       "wBXuBmI2Bgau7ww8H0F8Rt0ChImcDxRgCnmtgMRdsATbdxBZVYBkNQ833Orn94FegITi/gAQeQ7Z\n",
       "jW2zCuBW1yswsFwAs3Ig0giFj9OywOHLB+Zy/mNgA9vGOQHsRKtVQAA1cSdTASIQ+H4yuIIZNyFc\n",
       "JBOfcm5UQAqu8wXpIIpjAsM7EG2A7EZ1XySF8hFgO0UZGO6B6LnICmU4BRAKuaxADuFLDZ0D9jxb\n",
       "A1IUsjYcRCjk+AlWDswJYIXsh7bDE8VCBqX1SOlKDzWKuYOgUYgCAHlwVb0Wt0NfAAAAAElFTkSu\n",
       "QmCC\n",
       "\" style=\"display:inline;vertical-align:middle;\" /></a></span>"
      ],
      "text/plain": [
       "|- sqrt(2) in RealsPos"
      ]
     },
     "execution_count": 34,
     "metadata": {},
     "output_type": "execute_result"
    }
   ],
   "source": [
    "InSet(exp_test_03, RealsPos).prove()"
   ]
  },
  {
   "cell_type": "code",
   "execution_count": 35,
   "metadata": {},
   "outputs": [
    {
     "data": {
      "text/html": [
       "<a class=\"ProveItLink\" href=\"__pv_it/42018be74c8f89003b74123d9eb5e81a8f1bfd760/expr.ipynb\"><img src=\"data:image/png;base64,iVBORw0KGgoAAAANSUhEUgAAABcAAAAWBAMAAADZWBo2AAAAMFBMVEX///8QEBBmZmaqqqrMzMxE\n",
       "REQyMjIiIiKYmJh2dna6urrc3NxUVFSIiIju7u4AAAA6P00QAAAAAXRSTlMAQObYZgAAAH5JREFU\n",
       "GNNjYICBcwwI4CmHxGGoo5Dj+8mAASvg/////weEpVM3IKQCWAoQnAQ+kKq3d3bdvACkmYEyfBM4\n",
       "atkTgJxnQD2cDzj/cQFpPpAX+BhYA0B6Hr2bALYCpIOh/j/YNH8HuJHMD+4z8D6ActYbxDPsgMm8\n",
       "uftWowHKBgBqtSYuwAZoYwAAAABJRU5ErkJggg==\n",
       "\" style=\"display:inline;vertical-align:middle;\" /></a>"
      ],
      "text/plain": [
       "x^{1 / 2}"
      ]
     },
     "execution_count": 35,
     "metadata": {},
     "output_type": "execute_result"
    }
   ],
   "source": [
    "Exp(x, frac(one, two))"
   ]
  },
  {
   "cell_type": "code",
   "execution_count": 36,
   "metadata": {},
   "outputs": [
    {
     "data": {
      "text/html": [
       "<strong id=\"sqrt_test\">sqrt_test:</strong> <a class=\"ProveItLink\" href=\"__pv_it/22ee1b902d826c3369595841273a4cb8206cd4280/expr.ipynb\"><img src=\"data:image/png;base64,iVBORw0KGgoAAAANSUhEUgAAAGAAAAAyBAMAAABR8MP3AAAAMFBMVEX///8QEBCYmJhUVFS6uroy\n",
       "MjLMzMxmZmaIiIiqqqpERETc3NwiIiLu7u52dnYAAACjzGUgAAAAAXRSTlMAQObYZgAAAmxJREFU\n",
       "SMdjYICB9/+JAnD1DAcYSAPcC0jUwNlAogb2BBI18JConuEqqRrmkarhCZhkUsCpgNcAlR8LJlux\n",
       "qt3+vPECA4MrqmAAiGCRxaaeRZohHkhxoFjBUgAiL2IN24sKDFUgOghZkGMCiDTG6qL6CwwnQPTG\n",
       "C0iCXCAO22+sGqQYeL+BaGYD9HhjNcAaPP8YOD+AGGx/kUSTQcT+DVg1/GRgDpgNYkUgiSqBiFLs\n",
       "MbCCQcfgAYihiCRoDSIksGu43JFt4QB2gQNq9uH+RiA1MD5AzT5MYK9xyuLUwBwAZzKBsg87yJrL\n",
       "j//izFIcH1CzDw84lzLh1sD5GzUa+AsIaGD7iZp9+BsIaOD9hJp97isQ0MDwA0Rsg2ef/QQ1/IPH\n",
       "Nzi88icgNPCFhsaIhoaiJa7vIHM+Y9WAZAM/oogEabh0EJ59CDqJF+SkCcDsAc0+9wmFEjc4lPQn\n",
       "QLMPAz84qXAQiof9D2DFHiPIi+yGX4twaWD5AjY3AJp9GLgCCBTPENdyAVNUE5jPJ4DqRXievyXD\n",
       "gKSA7xs0+zBw/sWVrsMhFCTPc36C1T5ISQUNQBMdJO3wfobXPotxqGeBWj0fUkjIQLIPWiZHBnzQ\n",
       "+g9aSNhfgNU+9ydg18Bq0Q6WkYRw+x1gtQ9HAHYN92N5QXmNAxqK+Q23YDJi2DXMvwDOCYzQyoN/\n",
       "Abz2UcWuoRSS7GCVB6vAE3iR3IAjGliAAcstDSsxfsOdznsMq4ZPDOzAgL0DCxKmTwi/7sFaHH8B\n",
       "1SkMi+Cp/E8BIsVjrYKMGJYDbUcUrP8nEChTr/ehVq7rL5BYRb8htU73I0UxAGBZx417ZoFCAAAA\n",
       "AElFTkSuQmCC\n",
       "\" style=\"display:inline;vertical-align:middle;\" /></a><br>"
      ],
      "text/plain": [
       "sqrt_test: sqrt((1 + (a / b)))"
      ]
     },
     "execution_count": 36,
     "metadata": {},
     "output_type": "execute_result"
    }
   ],
   "source": [
    "sqrt_test = sqrt(Add(one, frac(a, b)))"
   ]
  },
  {
   "cell_type": "code",
   "execution_count": 37,
   "metadata": {},
   "outputs": [
    {
     "name": "stdout",
     "output_type": "stream",
     "text": [
      "sqrt_test = sqrt((1 + (a / b)))\n"
     ]
    }
   ],
   "source": [
    "print(\"sqrt_test = {}\".format(sqrt_test))"
   ]
  },
  {
   "cell_type": "code",
   "execution_count": 38,
   "metadata": {},
   "outputs": [
    {
     "data": {
      "text/html": [
       "<a class=\"ProveItLink\" href=\"__pv_it/22ee1b902d826c3369595841273a4cb8206cd4280/expr.ipynb\"><img src=\"data:image/png;base64,iVBORw0KGgoAAAANSUhEUgAAAGAAAAAyBAMAAABR8MP3AAAAMFBMVEX///8QEBCYmJhUVFS6uroy\n",
       "MjLMzMxmZmaIiIiqqqpERETc3NwiIiLu7u52dnYAAACjzGUgAAAAAXRSTlMAQObYZgAAAmxJREFU\n",
       "SMdjYICB9/+JAnD1DAcYSAPcC0jUwNlAogb2BBI18JConuEqqRrmkarhCZhkUsCpgNcAlR8LJlux\n",
       "qt3+vPECA4MrqmAAiGCRxaaeRZohHkhxoFjBUgAiL2IN24sKDFUgOghZkGMCiDTG6qL6CwwnQPTG\n",
       "C0iCXCAO22+sGqQYeL+BaGYD9HhjNcAaPP8YOD+AGGx/kUSTQcT+DVg1/GRgDpgNYkUgiSqBiFLs\n",
       "MbCCQcfgAYihiCRoDSIksGu43JFt4QB2gQNq9uH+RiA1MD5AzT5MYK9xyuLUwBwAZzKBsg87yJrL\n",
       "j//izFIcH1CzDw84lzLh1sD5GzUa+AsIaGD7iZp9+BsIaOD9hJp97isQ0MDwA0Rsg2ef/QQ1/IPH\n",
       "Nzi88icgNPCFhsaIhoaiJa7vIHM+Y9WAZAM/oogEabh0EJ59CDqJF+SkCcDsAc0+9wmFEjc4lPQn\n",
       "QLMPAz84qXAQiof9D2DFHiPIi+yGX4twaWD5AjY3AJp9GLgCCBTPENdyAVNUE5jPJ4DqRXievyXD\n",
       "gKSA7xs0+zBw/sWVrsMhFCTPc36C1T5ISQUNQBMdJO3wfobXPotxqGeBWj0fUkjIQLIPWiZHBnzQ\n",
       "+g9aSNhfgNU+9ydg18Bq0Q6WkYRw+x1gtQ9HAHYN92N5QXmNAxqK+Q23YDJi2DXMvwDOCYzQyoN/\n",
       "Abz2UcWuoRSS7GCVB6vAE3iR3IAjGliAAcstDSsxfsOdznsMq4ZPDOzAgL0DCxKmTwi/7sFaHH8B\n",
       "1SkMi+Cp/E8BIsVjrYKMGJYDbUcUrP8nEChTr/ehVq7rL5BYRb8htU73I0UxAGBZx417ZoFCAAAA\n",
       "AElFTkSuQmCC\n",
       "\" style=\"display:inline;vertical-align:middle;\" /></a>"
      ],
      "text/plain": [
       "sqrt((1 + (a / b)))"
      ]
     },
     "execution_count": 38,
     "metadata": {},
     "output_type": "execute_result"
    }
   ],
   "source": [
    "sqrt_test"
   ]
  },
  {
   "cell_type": "code",
   "execution_count": 39,
   "metadata": {},
   "outputs": [
    {
     "data": {
      "text/html": [
       "<a class=\"ProveItLink\" href=\"__pv_it/4dc831e3d6e8a93ed3dc904bc1ac326f9648ce2a0/expr.ipynb\"><img src=\"data:image/png;base64,iVBORw0KGgoAAAANSUhEUgAAAIUAAAAyBAMAAACAOwXCAAAAMFBMVEX///+YmJiqqqqIiIgyMjLc\n",
       "3NwiIiIQEBC6urp2dnZUVFTMzMxERERmZmbu7u4AAADrYmUNAAAAAXRSTlMAQObYZgAAAtdJREFU\n",
       "SMetls9rE0EUx19+Z/NjElG8JuDBkySI4C+kHhaFQm0OoqBCiiCCKLYgFRVqbz2JOQjFg7jSIugl\n",
       "+x8koEd/FBRBpbonFVHXpFYS0MSdmd1NN8zbqWT38HaWnf3svHlvvu8B4JfS39T10wcBcRj9OhMA\n",
       "Y0cAjPcBMKZGR5DDozPCtdEZyjy7bcFnfJUyoga1EaFHsbev5gCSUm+jzC4YoncLlShNzwMyxi22\n",
       "sTeE2z0D2Sb9TV7C2E1NShO9yvYgXqYuzUkYL6hpVESvEk0wdTp4vJkUGxe+MmtQYoOG4YtIUy9i\n",
       "62JGEZbDdIXRsi8jRPcrK45ephy6oLBJ076MFP1PQvwfsnTw1D6WJx32uPpMxxWoqks27RrPV6WD\n",
       "K1CBDXfiO7dMzQeAq/YZ8657KzVv6Eof1Q1UlcaomQWoV0QMpkAX2bCAM0r020kD6rqIwdLjr4zR\n",
       "KPL7ZUPA4Aq0JmOY/MQku6L9YApEWjJGjn8U14YYMd1RoJicwcVulYmWqh65oqoMxxKYqUe6vYFx\n",
       "R1XPq+rQAcqtMKFagaF1lDQhY8M6BjWSM3ZBzBtbsn3aUSC5Lyb1JV2DiJcRthTGViAijUuVxuXE\n",
       "3XsPh3wJtR0FAh6yMUl+TPb7v4fj0nWL3HVq3t2cyGOM2/PemuTmxy9bgQCeyqp4wXscifv40ooW\n",
       "//Oi94sfzuDbrD1YxA70fZ0rkBVm7NRP2PdxjFHKOz2QiRWQtr32FsYwNacHymjiGcmevYfrGCMx\n",
       "xRUI11zF7k2yaMVN9ZweiLSRWrx0iAlHoogxIh23B9qDeHuMMC/24uVpjTQdt8TCbsWLHYMZXPH/\n",
       "uD1QSOzwayBdtDnh11HFTeEnSHok6U6drOCMj8fd4SehMy3aPgA561O9CtsGXdM50YQOfLayL+PX\n",
       "wlQvDcanRRMewHPLfvGrorm2pMx+3y/roiDTC6A1DaDNTv5Xi/wP/srVJTbl54IAAAAASUVORK5C\n",
       "YII=\n",
       "\" style=\"display:inline;vertical-align:middle;\" /></a>"
      ],
      "text/plain": [
       "2 + sqrt((1 + (a / b)))"
      ]
     },
     "execution_count": 39,
     "metadata": {},
     "output_type": "execute_result"
    }
   ],
   "source": [
    "Add(two, sqrt_test)"
   ]
  },
  {
   "cell_type": "markdown",
   "metadata": {},
   "source": [
    "Testing the Mult.exponentCombination() method (after eliminating Sqrt class)"
   ]
  },
  {
   "cell_type": "code",
   "execution_count": 40,
   "metadata": {},
   "outputs": [
    {
     "data": {
      "text/html": [
       "<strong id=\"mult_of_exps_test_01\">mult_of_exps_test_01:</strong> <a class=\"ProveItLink\" href=\"__pv_it/c93beb42786d8913818c13f87bf1a7f5086d30430/expr.ipynb\"><img src=\"data:image/png;base64,iVBORw0KGgoAAAANSUhEUgAAADUAAAAUBAMAAADfOGjQAAAAMFBMVEX///9UVFSqqqrMzMwiIiJE\n",
       "RESYmJgyMjK6urru7u4QEBCIiIh2dnZmZmbc3NwAAABRgo0vAAAAAXRSTlMAQObYZgAAALBJREFU\n",
       "KM9jYACD9gIGnIDnAm45dgXccvwPcMvZ75ZEEzm9G8baMmEvqhRLgxWMGc2Qjip3lYEZxlzBcBFV\n",
       "bhGC+ROZAwL/EExPtgBUuQoGXhjT8AyaM99u2wkk+e7cXokijCTQ9YD9A4ocQoBzGQMv3K4JqAK8\n",
       "PxlYNkClOL+jCnAFMMw3gOlzRBWYf4BBH8U6JIH5CgziTMixgCTAuoHNkQdZH5IAp/TmhzuQ5RAC\n",
       "AA07M9ZaDmbDAAAAAElFTkSuQmCC\n",
       "\" style=\"display:inline;vertical-align:middle;\" /></a><br>"
      ],
      "text/plain": [
       "mult_of_exps_test_01: a^{b} * a^{c}"
      ]
     },
     "execution_count": 40,
     "metadata": {},
     "output_type": "execute_result"
    }
   ],
   "source": [
    "mult_of_exps_test_01 = Mult(Exp(a, b), Exp(a, c))"
   ]
  },
  {
   "cell_type": "code",
   "execution_count": 41,
   "metadata": {},
   "outputs": [
    {
     "data": {
      "text/html": [
       "<strong id=\"mult_of_exps_test_02\">mult_of_exps_test_02:</strong> <a class=\"ProveItLink\" href=\"__pv_it/eb45aecfb26b8da7bd45c44ac90993c7e0a86f990/expr.ipynb\"><img src=\"data:image/png;base64,iVBORw0KGgoAAAANSUhEUgAAAEUAAAAVBAMAAADiLT7tAAAAMFBMVEX////MzMxEREQQEBCYmJh2\n",
       "dnYiIiLu7u6qqqpmZmYyMjK6urpUVFSIiIjc3NwAAADOWS8BAAAAAXRSTlMAQObYZgAAAOdJREFU\n",
       "KM9jYIAAvv8g8IEBBaAJ8mxgwARogq+wKEEXnIFNDaogewIWJWiCrA1Y1KAJljEwVE5SRFODJhjC\n",
       "wH6AIR7Nb6iCQJs5CxiYDdCdgyzI68DAnMDA8w9FDZLgbiBmY2Dg+s7A8xEujyrIawXk3gVLsH2H\n",
       "G4Eq+Pw+0FGQgNgfAFODLlivwMByAczNAbsUzEQT5PzHwFYAZkwAyy7AIsj3k8EVrOMmxP4DWAQZ\n",
       "zhekgyiOCQzvEB5HE5SPAJsnysBwD6EGTZDLCmQzX2roHKR4RhPk+AkWBKZKJDXognrY0heSIACT\n",
       "EFeLPnWaxAAAAABJRU5ErkJggg==\n",
       "\" style=\"display:inline;vertical-align:middle;\" /></a><br>"
      ],
      "text/plain": [
       "mult_of_exps_test_02: sqrt(2) * sqrt(2)"
      ]
     },
     "execution_count": 41,
     "metadata": {},
     "output_type": "execute_result"
    }
   ],
   "source": [
    "mult_of_exps_test_02 = Mult(sqrt(two), sqrt(two))"
   ]
  },
  {
   "cell_type": "code",
   "execution_count": 42,
   "metadata": {},
   "outputs": [
    {
     "data": {
      "text/html": [
       "<strong id=\"mult_of_exps_test_03\">mult_of_exps_test_03:</strong> <a class=\"ProveItLink\" href=\"__pv_it/ccf00c52d4634c106b45eda48800c42ce0da1fe10/expr.ipynb\"><img src=\"data:image/png;base64,iVBORw0KGgoAAAANSUhEUgAAAD0AAAAVBAMAAAAHs/uBAAAAMFBMVEX///+YmJiqqqqIiIgyMjLc\n",
       "3NwiIiIQEBC6urp2dnZUVFTMzMxERERmZmbu7u4AAADrYmUNAAAAAXRSTlMAQObYZgAAAS5JREFU\n",
       "KM9jYACBFgcGdMD6HwQ+QDicFzDkuRqQOCwKGPIhyBz+AAz5S8ic/cbr0KT5EpB5Zg9s0eQ5YTby\n",
       "3T2zgeEwgwia/DMGhrd3TgMZrxg4fzBUMNxCk5/IwLeAYT7QD/cYGMoZ/jEUYVjP+4CBvYCBoYyB\n",
       "YX1AHuMBVHlmAQb2BAaurwwM/g8Y1m/YNRNJrgOI2YBh8o+B6zdYIP8BitYSIGEMZrL9A5EcP1GM\n",
       "jrMHugri+/4JYFULYFIQc94fYGA0ALOywORduKO/gCnerwxsYJW84FhjRsQdRD3rXwZJMAMSproM\n",
       "rGixs/5BHohiusAQysDAPYGBGU1+/ySwkTsZGEwZGMJmzl2GFrYsJSDrWTNn3gJ6w////29o8kx/\n",
       "waqAySuBASs4imACAPsrUEF72Hu6AAAAAElFTkSuQmCC\n",
       "\" style=\"display:inline;vertical-align:middle;\" /></a><br>"
      ],
      "text/plain": [
       "mult_of_exps_test_03: 2^{b} * sqrt(2)"
      ]
     },
     "execution_count": 42,
     "metadata": {},
     "output_type": "execute_result"
    }
   ],
   "source": [
    "mult_of_exps_test_03 = Mult(Exp(two, b), sqrt(two))"
   ]
  },
  {
   "cell_type": "code",
   "execution_count": 43,
   "metadata": {},
   "outputs": [
    {
     "data": {
      "text/html": [
       "<span style=\"font-size:20px;\"><a class=\"ProveItLink\" href=\"__pv_it/c4e4ee967eebdd8d056ee4be1d7cfd775370c3150/expr.ipynb\"><img src=\"data:image/png;base64,iVBORw0KGgoAAAANSUhEUgAAAPUAAAAVCAMAAACpK1jVAAAAOVBMVEX///8kJCQNDQ0oKCiIiIi6\n",
       "urrc3NxERETMzMwQEBCqqqpUVFQiIiJ2dnYyMjLu7u5mZmaYmJgAAACs2H6dAAAAAXRSTlMAQObY\n",
       "ZgAAAp5JREFUWMPlWNmynCAQJQnY7A38/8cGEa4g4LhU5Vbd8GA5Ooc+vTcSsi7vPPkfFncUyz1a\n",
       "8/MUNDh8zATPdz7c25BabYPQ4KpnCEI/Q74QerIW25iAepO1deWF0beihAcZtXTBtwSse4p8IXS6\n",
       "FKuprVi9tMre0toTRXOEtARWWs+QL4ROXQ01WiQt7XWtPei49nDxnIicMaohwAKeQ6fIF0LnrubV\n",
       "D1DrVW4EL2jNgR50cbsZkTapoz9Ap8gXQi+5mgS1uUWOtV6ccVTsItEe/YcqVv+hIKsodXIOnSPX\n",
       "YkMpfyK0Y1y8W7sat6xgIRnMiBIOtlT1mPC2Kuhq6aQYwobWxhDJYlim0CmSLDoaC+wDoR1jY9P6\n",
       "83u9FkMtITVmvmldGpbMLQzFOqq4KjhgYNsJgS1rAp1Cp0iiV1JKPhDaMx64OmrtNq3N3ms45JJO\n",
       "XCKu9/25sGXtbZnw4UiT2iAGM4XOkW0ZvCX0yDhvoQ5hWEd4NHAClHFFQPoLn9SEnL5I1DCt3V4w\n",
       "xtAZUsBJIboArRlnVx9yJOQaLnMBysoD+XKUrOc0MWgqbidQ+yj41m3iKnKPj9tCe8Ypr3/laPmC\n",
       "AGwJjc0gutVwTLaIlU1+mcoNsgloyTFWD32BlTSbQmfIDSTvCx0wTs48lsN2ShFt54K4sdeKVLbX\n",
       "cpTBECd7lACYSneOl8i9mZEH0DHSrT5Bxx8IHTCOdumb3Loj5jw+9muMHZcvirK6UwLD/rhmRdCZ\n",
       "ptbbe3TU+LbJ9tAhkhjjPSWPhPaMUxHoan0cCMq0dmkiZQaa4bBvWfgU+hx5AiXyw8i6ay3enGO/\n",
       "AXkGtXhR67vn6yZ46L9HnkHlJ1t+na/Ji28p/huQZ9BPrmaCVcnwU76bsUvfzf4CpGknZAgQPdcA\n",
       "AAAASUVORK5CYII=\n",
       "\" style=\"display:inline;vertical-align:middle;\" /></a> <a class=\"ProveItLink\" href=\"__pv_it/6c5b89cfcf2baeeffed02fa51dae5af9fb0d7f7e0/proof.ipynb\" style=\"text-decoration: none\">&#x22A2;&nbsp;</a><a class=\"ProveItLink\" href=\"__pv_it/11f5aa24a263149ec3b80285f7705c0db3becbd30/expr.ipynb\"><img src=\"data:image/png;base64,iVBORw0KGgoAAAANSUhEUgAAAIgAAAAcBAMAAABIY+o0AAAAMFBMVEX///8iIiJERESYmJiqqqoQ\n",
       "EBB2dnbc3NyIiIhmZmbu7u4yMjJUVFS6urrMzMwAAADZVrDbAAAAAXRSTlMAQObYZgAAAfhJREFU\n",
       "OMtjYICB2xsYiAe8u7GLs00gwRCGTDT+WwjF7YBFLQcuQ7aACB44l+8AhOYvwObsAzgM+Q4imOBc\n",
       "7gUQ+n3HKXQPdjQwJGM3g+9HzwKoISBVDDOg4o0LOtFUyvIFMDAuwGoIhxTHBKghIFXsv6DiGgzW\n",
       "qAo5FRgeMHBgD26mBuYNEEPAquCREsswB1UhKyik2T9gNYT1AueB07u37t5tAFbFCouUXwwhqAoh\n",
       "IS2C1RD+BSB9TDBV9TBPSzEroCrkvsAAdOUkrIYwLjCCxg5YlSlM/E0amkL2GRZAC1qxx86xBKgh\n",
       "YFWzQYxpM6JQFVVmtkJdeB8jehBy8HSiBMRXC7hRw483nGE/lPn+AYjM3g0CO9Hk4IbsYWDgCgZF\n",
       "FBSALVlqAA+L+gtoDkGSY4eJSQKj+hcDYwOUy/UbRM5fwCABFViPbgiSHBwAnciqwLD+AYwvAyKC\n",
       "GLj+4XIJkhwc6AAtS2DwRxHj+sbAAguk9wWIMNmDJgcHh4CGODCcZkHOw1xfGHg2uGOPHWQ5OGgF\n",
       "ZwQZNhRBDQbDAwkQpim6rUhycAC0ietEX00viuCajucnoGGBkWKR5JCyEv5ycAcxhSVnAl5prl/E\n",
       "GAIsUvAB5gNEldtH8MoyPiDKkNV4Zc2Iq0FY8NU37ApE1kO++IJ9AQO9AABse4TFa8EblQAAAABJ\n",
       "RU5ErkJggg==\n",
       "\" style=\"display:inline;vertical-align:middle;\" /></a></span>"
      ],
      "text/plain": [
       "{a in Complexes, b in Complexes, c in Complexes, a != 0} |- (a^{b} * a^{c}) = a^{b + c}"
      ]
     },
     "execution_count": 43,
     "metadata": {},
     "output_type": "execute_result"
    }
   ],
   "source": [
    "mult_of_exps_test_01.exponentCombination(assumptions=[InSet(a, Complexes), InSet(b, Complexes), InSet(c, Complexes), NotEquals(a, zero)])"
   ]
  },
  {
   "cell_type": "code",
   "execution_count": 44,
   "metadata": {},
   "outputs": [
    {
     "data": {
      "text/html": [
       "<table><tr><th>&nbsp;</th><th>core type</th><th>sub-expressions</th><th>expression</th></tr>\n",
       "<tr><td>0</td><td>Operation</td><td>operator:&nbsp;1<br>operands:&nbsp;2<br></td><td><a class=\"ProveItLink\" href=\"__pv_it/eb45aecfb26b8da7bd45c44ac90993c7e0a86f990/expr.ipynb\"><img src=\"data:image/png;base64,iVBORw0KGgoAAAANSUhEUgAAAEUAAAAVBAMAAADiLT7tAAAAMFBMVEX////MzMxEREQQEBCYmJh2\n",
       "dnYiIiLu7u6qqqpmZmYyMjK6urpUVFSIiIjc3NwAAADOWS8BAAAAAXRSTlMAQObYZgAAAOdJREFU\n",
       "KM9jYIAAvv8g8IEBBaAJ8mxgwARogq+wKEEXnIFNDaogewIWJWiCrA1Y1KAJljEwVE5SRFODJhjC\n",
       "wH6AIR7Nb6iCQJs5CxiYDdCdgyzI68DAnMDA8w9FDZLgbiBmY2Dg+s7A8xEujyrIawXk3gVLsH2H\n",
       "G4Eq+Pw+0FGQgNgfAFODLlivwMByAczNAbsUzEQT5PzHwFYAZkwAyy7AIsj3k8EVrOMmxP4DWAQZ\n",
       "zhekgyiOCQzvEB5HE5SPAJsnysBwD6EGTZDLCmQzX2roHKR4RhPk+AkWBKZKJDXognrY0heSIACT\n",
       "EFeLPnWaxAAAAABJRU5ErkJggg==\n",
       "\" style=\"display:inline;vertical-align:middle;\" /></a></td></tr>\n",
       "<tr><td>1</td><td>Literal</td><td></td><td><a class=\"ProveItLink\" href=\"../multiplication/__pv_it/f7a1ed7c35c8c884cf4c236d27cb79bf85638cad0/expr.ipynb\"><img src=\"data:image/png;base64,iVBORw0KGgoAAAANSUhEUgAAAAMAAAADBAMAAACkBqiMAAAAElBMVEX///9UVFQiIiIyMjLu7u4A\n",
       "AACDZsVeAAAAAXRSTlMAQObYZgAAABFJREFUCNdjYGFgcDVgYBIAAAJWAIzwV2E9AAAAAElFTkSu\n",
       "QmCC\n",
       "\" style=\"display:inline;vertical-align:middle;\" /></a></td></tr>\n",
       "<tr><td>2</td><td>ExprTuple</td><td>3, 3</td><td><a class=\"ProveItLink\" href=\"__pv_it/7626045fafddf2436c9adda7741a88a5dc6febf40/expr.ipynb\"><img src=\"data:image/png;base64,iVBORw0KGgoAAAANSUhEUgAAAFMAAAAmBAMAAABKc7pBAAAAMFBMVEX///92dnaqqqpEREQiIiJm\n",
       "Zmbc3NxUVFTMzMzu7u4QEBC6uroyMjKIiIiYmJgAAABs22DkAAAAAXRSTlMAQObYZgAAAkBJREFU\n",
       "OMuNVUFrE1EQ/pJsNtk0u9kWvHjQXHrw1IKgPaZe1JNBKSII7qEIipIeBA8K0V+QPSiCRbaCB5Uq\n",
       "uXtob6KX5qJCUROvotiiLYaA8c3M23VlA7uP7Lxh9uObb2be2wCAM0DKehA6H9OQmNrU+7NUKD7I\n",
       "9vBOOrQqGm9GAbM/phXHXOfIjsmZy/tRvNRN0N3SO/NVV6L4tQTS1PWg4yvT8qIXZxPQYj0U21Pm\n",
       "YhS3GgnovdBx1pR5EcVz9QR0JlIyUs/vOIW1dDTeOspz/9wCuY8V80704hBNMDeKQXMDWCs4TI25\n",
       "rYQ34hQXgOf/Sy36qJDOPmDMh3FbTeQJ0P7XEXwGKg2UqPNzHmpNir1Sj6GeLR9tETtFWVWe6hAl\n",
       "KqdTR40aZq8r80mYzvi8bavm2z12jaEywYB+wJV+lymIbVea82gkedTacJVRlC0+M8E8HE2h52z9\n",
       "BL6Le5JMzSUNNMB9GJJ4KSzpkofTMlyuRtUkUHMPX6QNzRDaajouO++goSIAbV8oZmHqZpWGkiff\n",
       "xGWS6CIQiZ0Zpiu7sDW0vDvL+13gPSUZkFw+ZOtMsTx94AYCOaRv37C0xenzDelrRSrO7/G2NR7/\n",
       "giFa5jhPVd0Xgm50UdDn/Fhs9EfYFrz4cfzhI7eWvJ/uhDt7UGUeJqJWbwL0tYr/SUSdCUiGHUeW\n",
       "laeD+DUTtEjVB/Us0Aqh7M0s0G22T7NAX7L9lgGpUxd66dCrMjnrVCrSOqGdZS8NWgj/LczUz/Yq\n",
       "mb8ax44WxC9v9AAAAABJRU5ErkJggg==\n",
       "\" style=\"display:inline;vertical-align:middle;\" /></a></td></tr>\n",
       "<tr><td>3</td><td>Operation</td><td>operator:&nbsp;4<br>operands:&nbsp;5<br></td><td><a class=\"ProveItLink\" href=\"__pv_it/0b54aa616d65dca073768257333b00c8d6ae46ab0/expr.ipynb\"><img src=\"data:image/png;base64,iVBORw0KGgoAAAANSUhEUgAAABsAAAAVBAMAAABF8IgWAAAAMFBMVEX////MzMxEREQQEBCYmJh2\n",
       "dnYiIiLu7u6qqqpmZmYyMjK6urpUVFSIiIjc3NwAAADOWS8BAAAAAXRSTlMAQObYZgAAAK9JREFU\n",
       "GNNjYIAAvv8g8AHKY+DZwIAMXqHwGGag8NgTULisDSjcMgaGykmKcG4IA/sBhvgNCK2cBQzMBlAu\n",
       "rwMDcwIDzz8gczcQszEwcH1n4PkIlLACcu+C1bB9Z2B4fh9oAMTW/QFAol6BgeUCmJsDIjj/MbAV\n",
       "gBkTwF77yeAKlrwJseV8QTqI4pjA8A5Ey0eAVYkyMNwD0VxWIK18qaFzwBZw/AQLAsMGYp8ewmcA\n",
       "dDkq0OELPnAAAAAASUVORK5CYII=\n",
       "\" style=\"display:inline;vertical-align:middle;\" /></a></td></tr>\n",
       "<tr><td>4</td><td>Literal</td><td></td><td><a class=\"ProveItLink\" href=\"__pv_it/fca8e4218e687a7bc372d4b4009101e95bae518f0/expr.ipynb\"><img src=\"data:image/png;base64,iVBORw0KGgoAAAANSUhEUgAAACgAAAASBAMAAADbMYGVAAAAMFBMVEX///+qqqoQEBDc3NzMzMx2\n",
       "dnbu7u66urqYmJgyMjIiIiJUVFRmZmZERESIiIgAAADRBAegAAAAAXRSTlMAQObYZgAAAONJREFU\n",
       "GNNjYGB4+//O6V0/GdAASKAXTYz9H5DIQRNk/QIk8tAEOT8wsDIwownyX2DoAFJs7zbXxTGUXvZ7\n",
       "nQDk1c/Z9BlIpTJ0PVjJELBLgPUCkBfvwDABSIUxxCcUMwvMZuD4AOTNZ2AIYHBgSGC4CzSD4SMD\n",
       "6zeg4F8GhgS2B0AGyGns3xh4FaDOZAUazgJyGusChvwDUGd6MzCI8X1geMbAeYChCaiAC2guuwoD\n",
       "+0feD8wNQPexqDAwZM//fWbv+gkMbPuevQE6t77ujQF62DBEMWABc7CIsX3EIij1E+RgAJoNQWX9\n",
       "dNDfAAAAAElFTkSuQmCC\n",
       "\" style=\"display:inline;vertical-align:middle;\" /></a></td></tr>\n",
       "<tr><td>5</td><td>ExprTuple</td><td>10, 6</td><td><a class=\"ProveItLink\" href=\"__pv_it/cbd65000ee8e5e149aa63b66d8adafa73116011e0/expr.ipynb\"><img src=\"data:image/png;base64,iVBORw0KGgoAAAANSUhEUgAAADkAAAAyBAMAAAAU8W51AAAAMFBMVEX///8yMjLMzMzc3NyYmJgi\n",
       "IiJmZmZERETu7u4QEBCqqqpUVFSIiIi6urp2dnYAAABBmyukAAAAAXRSTlMAQObYZgAAAcNJREFU\n",
       "OMt9lL1OwlAUx/9Q2gIW4Q3gDWBx18kRJuMmgyE6wWJcuztATIwao3HR6ASLg4lJfQN4A5lcTEAD\n",
       "JsSoeD96Kfej3uHm9P56z0f/pwcga3UAdR1F5kiDyBWE5fV0ig1h3Mvn2TO6u0P+lL6UI77Nlk/d\n",
       "unw3NVv22PWN1Oaut2Ck2Ql7mJgpv2W3YmiVRiwPYmj7mWz7iKEJ+rku4qhHEkpO46g15W/Iywsp\n",
       "9ep2FOg8fuxy6wDIsILSjcOSJtOY5F3nYq/+aLRaQplWhT3gXKMEda+pcQIEFZUSt1UWr+gj0ALn\n",
       "e+iLKzu+RlsYh4e5Xy1upoBmSG299TI1BKHZEO7mdPELHUG9ut60hIaeb2FpFdk1jNlhcgivYsiq\n",
       "z8pcG70+oF1QaA9V1jjF+fwT9rZSbx3dpba6k+VqD1Fej+hQlouokI9KSStyEYHsKJUUZLlIOc67\n",
       "UkckVxB14PIK5Tol3+FLnwpcLuvb1O1CLtbLTY2Gcrk1sr2of5mQK08LtFXthFx9H3rSC7l4Qlcy\n",
       "ZXItJoM6VZhc9PflEROGpqETiV+yjk1wMeNuTHRFeHRMU3RzYT39N4HhGKY3y+kPmhWFa9OhUqMA\n",
       "AAAASUVORK5CYII=\n",
       "\" style=\"display:inline;vertical-align:middle;\" /></a></td></tr>\n",
       "<tr><td>6</td><td>Operation</td><td>operator:&nbsp;7<br>operands:&nbsp;8<br></td><td><a class=\"ProveItLink\" href=\"__pv_it/802dee724b9318af22b4f017a8f9de752aa8e4fa0/expr.ipynb\"><img src=\"data:image/png;base64,iVBORw0KGgoAAAANSUhEUgAAAAsAAAAqBAMAAACXcryGAAAAMFBMVEX////c3NwiIiK6urrMzMxE\n",
       "REQyMjJmZmaIiIiYmJh2dnZUVFTu7u4QEBCqqqoAAACmrgyzAAAAAXRSTlMAQObYZgAAAHFJREFU\n",
       "GNNjYICBtweABM+u/QfAvPmUUf1gqvp++gQGssF/EPhAlNLjpSEgx29gWG/AwMB+gIH3AgMDrwID\n",
       "90cGBrY/DNxfwIqY/oAp+wVgShtMsheAqXYwyVfAIAikvBgYGhkYGLVWVSsAtQPdoMAAAEEeKsEV\n",
       "wCj1AAAAAElFTkSuQmCC\n",
       "\" style=\"display:inline;vertical-align:middle;\" /></a></td></tr>\n",
       "<tr><td>7</td><td>Literal</td><td></td><td><a class=\"ProveItLink\" href=\"../division/__pv_it/7a11ad25d6e61156459ac6819a1cec8fded2dde30/expr.ipynb\"><img src=\"data:image/png;base64,iVBORw0KGgoAAAANSUhEUgAAAA4AAAAMBAMAAACgrpHpAAAAIVBMVEX///9UVFRmZmbu7u4iIiIy\n",
       "MjK6urrc3NyYmJiqqqoAAACDToSlAAAAAXRSTlMAQObYZgAAACJJREFUCNdjYGBgmMEABuyrEiCM\n",
       "EAMG3EA1FAQCsUlhMwcALk0GeoeEfOIAAAAASUVORK5CYII=\n",
       "\" style=\"display:inline;vertical-align:middle;\" /></a></td></tr>\n",
       "<tr><td>8</td><td>ExprTuple</td><td>9, 10</td><td><a class=\"ProveItLink\" href=\"__pv_it/870fe229b3bbe6904a72bc2b38613787bd64cb3d0/expr.ipynb\"><img src=\"data:image/png;base64,iVBORw0KGgoAAAANSUhEUgAAACkAAAAUBAMAAADiqgm2AAAAMFBMVEX////MzMxUVFR2dna6uroQ\n",
       "EBCqqqqIiIgiIiJmZmYyMjJERETu7u6YmJjc3NwAAACgK8IjAAAAAXRSTlMAQObYZgAAAOhJREFU\n",
       "GNNjYOC7wIAK8kDEaSQBnpm7BRiYHgBZ64A49QBE9BAD8xcGngUMDLwTGHiU9aGicxgYQhkYzBkY\n",
       "OEDq70NFIxgY9B8wHGVgeMGAJLr+AIO+AAOXA0MlsigQ9B9gYJ7AsBdVlOUz0KoFDG2oohwKDAxs\n",
       "DQwhqKIzgZjxA5oo+wSIKKoJmQx8DxhYGlBtYzRgYH8Ass0SxKs/wMDzC0i/MLbUYGDgNGDwAHIm\n",
       "xa+8wNABVL/+//8fDAxcAhAfgwAb3B0nwKEDAcxw7wFDh2EflH0cHsgLkEIdHiXcIDMxYugeAwMA\n",
       "1XBESVcHc78AAAAASUVORK5CYII=\n",
       "\" style=\"display:inline;vertical-align:middle;\" /></a></td></tr>\n",
       "<tr><td>9</td><td>Literal</td><td></td><td><a class=\"ProveItLink\" href=\"../numeral/__pv_it/f086f8c372bd40a2458306ddfdbb29f3dc6f63030/expr.ipynb\"><img src=\"data:image/png;base64,iVBORw0KGgoAAAANSUhEUgAAAAgAAAAPBAMAAAArJJMAAAAAIVBMVEX///8yMjJmZmaIiIiYmJh2\n",
       "dnZUVFTu7u4QEBCqqqoAAAADAhFxAAAAAXRSTlMAQObYZgAAACBJREFUCNdjYAADznYGhrKw5UAW\n",
       "CykEM5BgylioAjYDAHBOCeDSSky9AAAAAElFTkSuQmCC\n",
       "\" style=\"display:inline;vertical-align:middle;\" /></a></td></tr>\n",
       "<tr><td>10</td><td>Literal</td><td></td><td><a class=\"ProveItLink\" href=\"../numeral/__pv_it/fb4ccffdbfd0f653ebaacb95e7ff4802fd48a6f20/expr.ipynb\"><img src=\"data:image/png;base64,iVBORw0KGgoAAAANSUhEUgAAAAkAAAAOBAMAAAAPuiubAAAALVBMVEX///+qqqqIiIgyMjLc3Nwi\n",
       "IiIQEBC6urp2dnZUVFTMzMxERERmZmbu7u4AAAAQI6y7AAAAAXRSTlMAQObYZgAAAFJJREFUCNdj\n",
       "4D2zewEDw00GjucMDGcZGNIYGFIZGOY5MNhdYJgHlGBgiLsAJNhfgJisE0DkGRDBdABEyjCwODBw\n",
       "NTAwOTC4dvRMZWCwe/fuKQMANh0TGKpG4roAAAAASUVORK5CYII=\n",
       "\" style=\"display:inline;vertical-align:middle;\" /></a></td></tr>\n",
       "</table>\n"
      ],
      "text/plain": [
       "0. sqrt(2) * sqrt(2)\n",
       "   core type: Operation\n",
       "   operator: 1\n",
       "   operands: 2\n",
       "1. *\n",
       "   core type: Literal\n",
       "   sub-expressions: \n",
       "2. (sqrt(2), sqrt(2))\n",
       "   core type: ExprTuple\n",
       "   sub-expressions: 3, 3\n",
       "3. sqrt(2)\n",
       "   core type: Operation\n",
       "   operator: 4\n",
       "   operands: 5\n",
       "4. Exp\n",
       "   core type: Literal\n",
       "   sub-expressions: \n",
       "5. (2, 1 / 2)\n",
       "   core type: ExprTuple\n",
       "   sub-expressions: 10, 6\n",
       "6. 1 / 2\n",
       "   core type: Operation\n",
       "   operator: 7\n",
       "   operands: 8\n",
       "7. /\n",
       "   core type: Literal\n",
       "   sub-expressions: \n",
       "8. (1, 2)\n",
       "   core type: ExprTuple\n",
       "   sub-expressions: 9, 10\n",
       "9. 1\n",
       "   core type: Literal\n",
       "   sub-expressions: \n",
       "10. 2\n",
       "    core type: Literal\n",
       "    sub-expressions: "
      ]
     },
     "execution_count": 44,
     "metadata": {},
     "output_type": "execute_result"
    }
   ],
   "source": [
    "mult_of_exps_test_02.exprInfo()"
   ]
  },
  {
   "cell_type": "code",
   "execution_count": 45,
   "metadata": {},
   "outputs": [
    {
     "data": {
      "text/html": [
       "<span style=\"font-size:20px;\"> <a class=\"ProveItLink\" href=\"__pv_it/8a22e4b37e9309e3a52556468d180b933f0085610/proof.ipynb\" style=\"text-decoration: none\">&#x22A2;&nbsp;</a><a class=\"ProveItLink\" href=\"__pv_it/dad9760310bd9e21790430ad37833b97bdbf1f740/expr.ipynb\"><img src=\"data:image/png;base64,iVBORw0KGgoAAAANSUhEUgAAAJ0AAAAmBAMAAAAsBYRTAAAAMFBMVEX///92dnaqqqpEREQiIiJm\n",
       "Zmbc3NxUVFTMzMzu7u4QEBC6uroyMjKIiIiYmJgAAABs22DkAAAAAXRSTlMAQObYZgAAAi1JREFU\n",
       "SMetVrtuGkEUvbwWFghguUsT/iB0TrlJk7gKkos0LiisFGmgi5BSwAdY0FhRHhJOF6Q48h9AlwZF\n",
       "NI4ly5KpLUuhMTJKFLIzO8zO3GF370qeYnQ459wzz2UXAKA0g/D2HmK1yyhDYRwnrjCUsG2qnDoP\n",
       "rm4b+GNn/bs7NOweVQzcEbVE4Lc+s2sWcMoaBs5vF+PcIjpPHTMqr9gi5PX64XktHzcbhLziNDyv\n",
       "5uN9IOSVjsl5J752eFvFdkFZfwLihF6T2Lpj8GjvCXbq1BcI1WsSleZuZ7fg0SmUV6vVfM0j6h2O\n",
       "U/TsZPJt8lN4M44rZvqQd3eou+2fDaKucJ6u8/lxnGYw70DWvYa1nCP9iHrcQHm6zvM4LtfZdVhC\n",
       "1t3HsS2Xi6kePild53kcl8XNSi/dLumoJSo12PAEK7p3HgyvjaOK233WVqVS3rCJCW91Q/fyGG6K\n",
       "vOfszMSfT9+kyhVzforOQzkWG5NhYx594FX2X4PythmdsKrDGou8M9a9XDlyYERtyNN0ib31Juvw\n",
       "Gtl1alBR9q8VUMKNfKO7AL/wP69GNY3z3VAiN9p6uvXK0XlEGfdvQ4l3z9nki+6jh0REjU4hVJct\n",
       "RXsX/u4T35aJY5LtIfXtm1ySbD+oefa/+3PxtkNaxYKcd00xZehfMIMqwZSvkvMeUIa+iPF99ZXg\n",
       "+R4j7+ae1iCfkGmk5U0jRp79ItLxLNb37kHU6KlZrDyrE2H4RM/6DxNBvtrWOZP5AAAAAElFTkSu\n",
       "QmCC\n",
       "\" style=\"display:inline;vertical-align:middle;\" /></a></span>"
      ],
      "text/plain": [
       "|- (2^{1 / 2} * 2^{1 / 2}) = 2^{(1 / 2) + (1 / 2)}"
      ]
     },
     "execution_count": 45,
     "metadata": {},
     "output_type": "execute_result"
    }
   ],
   "source": [
    "mult_of_exps_test_02.exponentCombination()"
   ]
  },
  {
   "cell_type": "code",
   "execution_count": 46,
   "metadata": {},
   "outputs": [
    {
     "data": {
      "text/html": [
       "<span style=\"font-size:20px;\"><a class=\"ProveItLink\" href=\"__pv_it/f79330deab2982a37c136a0ba02ed232aa40ec050/expr.ipynb\"><img src=\"data:image/png;base64,iVBORw0KGgoAAAANSUhEUgAAAMYAAAAyCAMAAAAwRlRgAAAAOVBMVEX///8kJCQNDQ0oKCiIiIiY\n",
       "mJgyMjJUVFRERETc3NyqqqrMzMwiIiIQEBC6urpmZmZ2dnbu7u4AAACm+Lg5AAAAAXRSTlMAQObY\n",
       "ZgAAAxJJREFUaN7tWtu2myAQtS1yEXCY+f+PrRovg3COkCau0oaHrBVjtmzmtmeSrlsXBugaW0YP\n",
       "50ujd7Y1Gl3vNUYXBmrOFos9nOM8DOkXAQ8eb+VBir1T9JKHowovQipeQCwWSL7MXW+mYUkwGqpV\n",
       "GsiCGlumoT40PjQ+ND40/k8a4l+gAcqThP7lmw1YSQO1dwVnLp0k7/TTsjgLgABa59oFE2mlIPpg\n",
       "L60hL/dmLQ3zQ6l/kkYeAOdNBBrT+xW/JuevOnNFg4arKO6UWMP5ORpfAMDiOd5nuryoVVosIjNy\n",
       "0FA42sBzjPbaTeswa2+7radQRTRKAR7erMgkxuCOptWjzdt2yTqlnlkyxKFhtTjRguN0UBQ4UDGA\n",
       "XLamyH5njPX0x91nJO0fObZ1qYSA3a9QYtIadbbCl6oBXJKxo6hfhfm4txkDbYkxMDsiTc/F/YJK\n",
       "LGxCN4pyGrUA4+HfQS7r18/5FWL/Z93S5oXBj3y2MB/GflPaohuoolEL4JIKFqdg87CGZdGs5v2j\n",
       "VNyKIBeTrDdZL7d1FJbOhvwW6Fh7ZFQBTI9P3M2qXLc38t51cGJKwcBpLNbbA8hkBiaT05XX/EoA\n",
       "kQaNPnklrZmKlQXrZk7g+XChX8YNGzOfyZ9w7OJaP1UBDDMLY3hs/FjNuX9D67MC3YIC/MF4Tr3o\n",
       "d1UEGS/WYvPt8XqgUgPw8DURHb88p4hz+ZsSlE0TrpoYcKXjMjUdpJ60Gg56Hj3ixXCoHMC4EAKo\n",
       "qG6NkAXEw4FYlIij/CGI0EdZXo+J61iQnhzY9Qzw+xFcKYB8ZAd3iqMEMAjB6rqmrBhJM3nQkZZI\n",
       "1oDfa9QagPMn14WWOQP+0SA6FGjUQoBMUrurbWK66EuNWgpwNka4r/vrCzRqKUC1Md7SxH6lUZ9d\n",
       "Bd75ppFCVqO2NxmJNGrLNJzq/gEacO+PiO8at938U+h7aMQatVUaOY3aHo2cRr2RRvey8pdq1LfT\n",
       "YMHoZdfo4rOFahn09yzBlY8h1SYLjP8lIkg0ycKd/qLSk8LmWAw+Ha1Cc35l5N6q/AYqlC19rbAb\n",
       "1AAAAABJRU5ErkJggg==\n",
       "\" style=\"display:inline;vertical-align:middle;\" /></a> <a class=\"ProveItLink\" href=\"__pv_it/5646fa67b5ede4c6e19650b3c2326d5a74bc03c90/proof.ipynb\" style=\"text-decoration: none\">&#x22A2;&nbsp;</a><a class=\"ProveItLink\" href=\"__pv_it/550ac73d5b9181119101ee8f68f469abae5ce7ef0/expr.ipynb\"><img src=\"data:image/png;base64,iVBORw0KGgoAAAANSUhEUgAAAJQAAAAmBAMAAADQEK+ZAAAAMFBMVEX///92dnaqqqpEREQiIiJm\n",
       "Zmbc3NxUVFTMzMzu7u4QEBC6uroyMjKIiIiYmJgAAABs22DkAAAAAXRSTlMAQObYZgAAAp5JREFU\n",
       "SMetls9r02AYx5+uadJmSboedhHBHvTsQFAvjnrSnVaUMgY79DA8eOkEQTytguBxEZSBl5Yh4k/o\n",
       "HyBYBPUStx6cXhQL3sYOq2hZGbPm/Znkza9X3HtIm36//eR9n+/zJgEAsPqQMAorID++Jsuv5UmT\n",
       "z2IlzXYPpsy0sBMeNeP0/DFs2EwnUectNjsn5FCw4bods/Ku4MwP2el0DEqLWWGmKjgNbnwbg8qP\n",
       "olFGGR1XPGejzqRhDAo+RqOK+J8znnOJl+7wix2N2olGrX27HUS9Yoo5Z1aFXL5fwZ+NTiTqk73N\n",
       "UNip7qOvD6+eh2zP4pEUamd8LaJPhbYA0i/ALp8VGtYe2RwnOnonxxNYh8wBwNgdOMKuiML6C1jQ\n",
       "HOels0mduYqr5GzQ20VbLzPrIsBzd9qls2TpeyIK6yPY4AtETgV91SugDRX7B7c+BlitQxbu4rOJ\n",
       "ULZYn7NmGAo7i6jUxgi0/fwNryRbNqw2wYAWKf9PEYX1eyXeDNhZ7NHcxT6cR/GeJEX+E5HfPO0c\n",
       "WnbX2aI3qzdCSpMDxHhPTg7x8biDxjuf7qGQs0FRl3jOdJYozXV65UF4UgpLm2wW5FwjqeV4d7ZI\n",
       "8jVEXbxPfvsdRtWCfYacFLUtXA43vjL+FYcSNgZ2kgVOVOFaQDsFat275sBXqw9hna0HJ3gH4HNg\n",
       "902B6VnVUIJBnd0pUHLqxdJCxf/rcmn6pu+Pob4K6myrotIY7hYKoLbGrEw4+INQiwZ0OrLd9IeA\n",
       "NZJ6dGXaR+NB2Ulc0ZB7QEfuLzHlvtzD+Vy65XRdDrWTblmSfGVolVMtG5IoM7UbzLYkCp6mGfS+\n",
       "LGr3P9+//P3eS9bVJ9KowuVk/UFZGgXLyW0z+w/vomozcdIdScxfrUi01L5E0ccAAAAASUVORK5C\n",
       "YII=\n",
       "\" style=\"display:inline;vertical-align:middle;\" /></a></span>"
      ],
      "text/plain": [
       "{b in Complexes, (1 / 2) in Complexes, 2 != 0} |- (2^{b} * 2^{1 / 2}) = 2^{b + (1 / 2)}"
      ]
     },
     "execution_count": 46,
     "metadata": {},
     "output_type": "execute_result"
    }
   ],
   "source": [
    "mult_of_exps_test_03.exponentCombination(assumptions=[InSet(b, Complexes), InSet(frac(one, two), Complexes), NotEquals(two, zero)])"
   ]
  },
  {
   "cell_type": "code",
   "execution_count": 47,
   "metadata": {},
   "outputs": [],
   "source": [
    "%end demonstrations"
   ]
  }
 ],
 "metadata": {
  "kernelspec": {
   "display_name": "Python 3",
   "language": "python",
   "name": "python3"
  }
 },
 "nbformat": 4,
 "nbformat_minor": 0
}
