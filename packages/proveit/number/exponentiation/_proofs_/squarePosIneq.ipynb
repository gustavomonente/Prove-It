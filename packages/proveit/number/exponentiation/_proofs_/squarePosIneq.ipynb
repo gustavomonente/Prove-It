{
 "cells": [
  {
   "cell_type": "markdown",
   "metadata": {},
   "source": [
    "Proof of <a class=\"ProveItLink\" href=\"../../../_context_.ipynb\">proveit</a>.<a class=\"ProveItLink\" href=\"../../_context_.ipynb\">number</a>.<a class=\"ProveItLink\" href=\"../_context_.ipynb\">exponentiation</a>.<a class=\"ProveItLink\" href=\"../_theorems_.ipynb#squarePosIneq\">squarePosIneq</a> theorem\n",
    "========"
   ]
  },
  {
   "cell_type": "code",
   "execution_count": 1,
   "metadata": {},
   "outputs": [],
   "source": [
    "import proveit\n",
    "context = proveit.Context('..') # the theorem's context is in the parent directory"
   ]
  },
  {
   "cell_type": "code",
   "execution_count": 2,
   "metadata": {},
   "outputs": [
    {
     "name": "stdout",
     "output_type": "stream",
     "text": [
      "Beginning proof of squarePosIneq\n",
      "Recorded 'presuming' information\n",
      "Presuming previous theorems (applied transitively).\n"
     ]
    },
    {
     "data": {
      "text/html": [
       "<strong id=\"squarePosIneq\">squarePosIneq:</strong> <a class=\"ProveItLink\" href=\"../__pv_it/96be8cc70e248b7960c609974d14c1b3805444b70/expr.ipynb\"><img src=\"data:image/png;base64,iVBORw0KGgoAAAANSUhEUgAAAPQAAAAmBAMAAAAB96vpAAAAMFBMVEX///8QEBCIiIhmZma6urrM\n",
       "zMxUVFQiIiJERETc3Nzu7u6qqqp2dnaYmJgyMjIAAAAcRTyBAAAAAXRSTlMAQObYZgAABAFJREFU\n",
       "WMO1mF1IFFEUx8/O7ri7szsqUfThy2RoPlQIQvSiLUT0UuGTfRAklgZRIJIUYSBaMRXBVlDRi1NC\n",
       "hVlKESpFDlgPWcQGQSIkS1YP2YeYQbqK3Y+549xxNnfhdh/u3ev8md/c/z1z7hkBRDY1kZlOqQbR\n",
       "bUOmwp2iyYFV3HSg1UinlEQv+2alcxaN5yTTSr8LRtdxs2BcnvJSETMuGULJLlIwFp70UFEzcsQ6\n",
       "nuu+XWTaQ0XNkKeFotvibormhaZmfBSKrsDdXmuCxwFvHTHjrVD0Etw9tyZoVEu9dcSMthiQ+P8g\n",
       "ghz+7UJvh60uyd3lwMzwmfAKj1+FZNFxHi2PPTk/n0MayTAKzAwU5tfx8zaLQPvrebRvbm6cXets\n",
       "oGMKmBnSOOSidzvaLQIdbHYZPt+unLIyLQowy4zIFKiDHR3XhERZXmk69NUxlk6QMZYZMjLgj643\n",
       "iUFrFvLKwGrDid79yU46NWuYwcosQC3AOa9jbUHqDzh6NkDgh329K0HRgZXw07nq0Jl5yVfFTrYT\n",
       "AFtAcVJ6Sg6QRBO1XspIw9kKmpRCjt4aep1po81C30zAJidaarCPin4DE2mbQdEBEqstlKdlCSkK\n",
       "gxiVi525N1AOmhm9lQb9DAnHbMT+borebEADt9dqk2HnO2WG/fUXWl4iyGZDfR2A0MP4UfJQQlYv\n",
       "3DAQWr3vjR7BuqkF6BWg/ObDLDJqZfdRCKQc6HCyCv1oL/4MAewxRpv4RoWH0V6ghtCdPBpr0bAB\n",
       "k+WJYoM3HK0rMu56uQJfaBExC352YpHlnzuIfjSiUywXKLoMP8JaYw1NsprpL+PQRBuCbWSR0kmJ\n",
       "ZeouGuFKCmWqPh4Nsh7DwyQOBCvtogiHR+hl85fK9dBO7uWvO4bHFhhRyE21jYdiHJpoQ9B5mkw1\n",
       "lQVpnkkNb4H31aYLDeFa3B+FVvthUtb76OtGhdouXdc1KXr5Hb60FDbKJ3S9BbSX63k00aJJ5wV8\n",
       "CsT8rEDwVVP07cI9NTE3mrb2dXa1HMCHtoo2qyseGjZyqOGRfXj3pqEAqqnhjwc5NNHiiYSiO8/w\n",
       "sSQRSqZNpF6HDdt0X3z/DohW0r0eNMPn4aTaDC8oOsqHGdGSifodgsaQXXTlZ4Omarz8moflANjB\n",
       "njdme4VcAFWvEQYtKNL0TSlLOtFESycRQz5i8pXYQvSD47g1/ruQk9BeW7ehQwna6/mEuDCb8V8z\n",
       "s9msuivdN1Kfx98WQ8NZ3BVZk6JF0P3xNBcSi6N70fugc4V8VpVeRVZViKNnA+9hNhVHgdCKVEpm\n",
       "oc0X+821LHOpLyEWPfIfvsQzbCEt45p9pWC00pip8k63YDRci2covCj8fynhygztwWfhX9fUJrm3\n",
       "ZcF3AAAAAElFTkSuQmCC\n",
       "\" style=\"display:inline;vertical-align:middle;\" /></a><br>(see <a class=\"ProveItLink\" href=\"../__pv_it/96be8cc70e248b7960c609974d14c1b3805444b70/dependencies.ipynb\">dependencies</a>)<br>"
      ],
      "text/plain": [
       "squarePosIneq: forall_{a in Reals, b in Reals | |a| <= b} (|a|^{2} <= b^{2})"
      ]
     },
     "execution_count": 2,
     "metadata": {},
     "output_type": "execute_result"
    }
   ],
   "source": [
    "%proving squarePosIneq presuming []"
   ]
  },
  {
   "cell_type": "code",
   "execution_count": null,
   "metadata": {},
   "outputs": [],
   "source": []
  }
 ],
 "metadata": {
  "kernelspec": {
   "display_name": "Python 3",
   "language": "python",
   "name": "python3"
  }
 },
 "nbformat": 4,
 "nbformat_minor": 0
}
