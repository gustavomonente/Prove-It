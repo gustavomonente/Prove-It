{
 "cells": [
  {
   "cell_type": "markdown",
   "metadata": {},
   "source": [
    "Proof of <a class=\"ProveItLink\" href=\"../../../_context_.ipynb\">proveit</a>.<a class=\"ProveItLink\" href=\"../../_context_.ipynb\">number</a>.<a class=\"ProveItLink\" href=\"../_context_.ipynb\">exponentiation</a>.<a class=\"ProveItLink\" href=\"../_theorems_.ipynb#expNatClosure\">expNatClosure</a> theorem\n",
    "========"
   ]
  },
  {
   "cell_type": "code",
   "execution_count": 1,
   "metadata": {},
   "outputs": [],
   "source": [
    "import proveit\n",
    "context = proveit.Context('..') # the theorem's context is in the parent directory"
   ]
  },
  {
   "cell_type": "code",
   "execution_count": 2,
   "metadata": {},
   "outputs": [
    {
     "name": "stdout",
     "output_type": "stream",
     "text": [
      "Beginning proof of expNatClosure\n",
      "Recorded 'presuming' information\n",
      "Presuming previous theorems (applied transitively).\n"
     ]
    },
    {
     "data": {
      "text/html": [
       "<strong id=\"expNatClosure\">expNatClosure:</strong> <a class=\"ProveItLink\" href=\"../__pv_it/27ec504a39cc77956001efe249ef6ac727e58bb30/expr.ipynb\"><img src=\"data:image/png;base64,iVBORw0KGgoAAAANSUhEUgAAAL0AAAAcBAMAAADGuaNIAAAAMFBMVEX///8QEBCIiIhmZma6urrM\n",
       "zMxUVFQiIiJERETc3Nzu7u6qqqp2dnaYmJgyMjIAAAAcRTyBAAAAAXRSTlMAQObYZgAAAylJREFU\n",
       "SMe1lV1IFFEUgM/O7sz+zEz6IGEINhpYj0tCRaUNRBRBtUUoUrCDJJj1IIkUFrbsQ435shSRBNGE\n",
       "4IORirWQULCwBWEFkxRJWWy/D0arBEFtPXTuzsyd8WfXXcMDd+6Zufd+98w5554L8B/iScPKSnKF\n",
       "uIfN/lvOGQo2Zrl4VjGV3zmnRIj7lGXyV2nmPj9qtDx8eL5M/kazZ7qYYD6+F3dPEeVdUXh/xlR8\n",
       "kphyDgRm1GkQ1pZZfLL7U6JMF8UXLKNdsnuui316A8AwcOl0Zfo7GjIL0EcMihTFd42YSolGVUO4\n",
       "TkYCF/UPnDViJYwUxb9pBdWrTRqKePF0d5a/R2sBr83fgkPjg4PXigvvC5qnJxNGHzV35K4qQ5qD\n",
       "X4Xtl6qeW8THefj15HElWUVzc8jSuNgoqzj4B3CgBaBnIcOdh6+Ss7MGZuiH49T/MUGecPDDIYCd\n",
       "EEjl5O9fZAi+YrulE+c6k93gQxvXSLSYESkZgwSM7ljcuF1mVlO+lYpsxyOosnKxA9sODU7RMFSm\n",
       "UUz+AHywYcPIF3QvPR8PanU+Mg5bhdrNtduylYBk1u1kHdwXNLfl5U/YyiHwk543p/1s4qAj05Dv\n",
       "TzVYr5Njg8BPuCFB7S/B/xR7r2vwUArSkF9AS/4CP0sxpQ4+vPXZ/DBxU88xfPTXfAEPcQZ/pEmy\n",
       "+eHqNgwQSjx+mfJbkf8HuNTY/HoEHMZT6LP5JH/gbjvO72QzsIp84kPjr2z+em2dUaHiwp2j1iqS\n",
       "1VF4rSSsD17rfGbdWT/vpJRIiAuy7dBv8AUSVJMfhfeBbIjjkEg6rRqobmqWadxa9xqBPl9OToPN\n",
       "z6aYqJGSwijQqKqqxIf8Ov4Qa0wog03sGVWNIv8GTQOXvOAifmLUh/nykSZSzPdG4wz7YZdEJ2Sg\n",
       "InvVId9ziJ6NRIGFJJChJsXC+0AIkb+RQTTX+y9BlxiBx0R/CTBF8720QL5Iq7enebQOoBe13Z+N\n",
       "y5lwKqDhGRZ1DJqnWwaOrjtRIN8bmvvOoP+d77zRbUD/z5GhAvlTS4yP5fjOBwu7R5e6tvRcA/cK\n",
       "4rs1WHH5BzphwMiOKUWGAAAAAElFTkSuQmCC\n",
       "\" style=\"display:inline;vertical-align:middle;\" /></a><br>(see <a class=\"ProveItLink\" href=\"../__pv_it/27ec504a39cc77956001efe249ef6ac727e58bb30/dependencies.ipynb\">dependencies</a>)<br>"
      ],
      "text/plain": [
       "expNatClosure: forall_{a in NaturalsPos, b in Naturals} (a^{b} in NaturalsPos)"
      ]
     },
     "execution_count": 2,
     "metadata": {},
     "output_type": "execute_result"
    }
   ],
   "source": [
    "%proving expNatClosure presuming []"
   ]
  },
  {
   "cell_type": "code",
   "execution_count": null,
   "metadata": {},
   "outputs": [],
   "source": []
  }
 ],
 "metadata": {
  "kernelspec": {
   "display_name": "Python 3",
   "language": "python",
   "name": "python3"
  }
 },
 "nbformat": 4,
 "nbformat_minor": 0
}
