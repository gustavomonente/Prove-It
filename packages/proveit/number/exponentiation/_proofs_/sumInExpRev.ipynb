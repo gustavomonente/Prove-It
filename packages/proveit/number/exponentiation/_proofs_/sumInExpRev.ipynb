{
 "cells": [
  {
   "cell_type": "markdown",
   "metadata": {},
   "source": [
    "Proof of <a class=\"ProveItLink\" href=\"../../../_context_.ipynb\">proveit</a>.<a class=\"ProveItLink\" href=\"../../_context_.ipynb\">number</a>.<a class=\"ProveItLink\" href=\"../_context_.ipynb\">exponentiation</a>.<a class=\"ProveItLink\" href=\"../_theorems_.ipynb#sumInExpRev\">sumInExpRev</a> theorem\n",
    "========"
   ]
  },
  {
   "cell_type": "code",
   "execution_count": 1,
   "metadata": {},
   "outputs": [],
   "source": [
    "import proveit\n",
    "context = proveit.Context('..') # the theorem's context is in the parent directory"
   ]
  },
  {
   "cell_type": "code",
   "execution_count": 2,
   "metadata": {},
   "outputs": [
    {
     "name": "stdout",
     "output_type": "stream",
     "text": [
      "Beginning proof of sumInExpRev\n",
      "Recorded 'presuming' information\n",
      "Presuming previous theorems (applied transitively).\n"
     ]
    },
    {
     "data": {
      "text/html": [
       "<strong id=\"sumInExpRev\">sumInExpRev:</strong> <a class=\"ProveItLink\" href=\"../__pv_it/ea2d4e284a66c7c193c1482f8a64b11d99458e690/expr.ipynb\"><img src=\"data:image/png;base64,iVBORw0KGgoAAAANSUhEUgAAAUcAAAAcCAMAAADFqY3ZAAAAOVBMVEX///8oKCgUFBQNDQ0QEBCI\n",
       "iIhmZma6urrMzMxUVFQiIiJERETc3Nzu7u6qqqp2dnaYmJgyMjIAAAArQGDrAAAAAXRSTlMAQObY\n",
       "ZgAAA8pJREFUaN7dWYmSoyAQze4Agpz6/x+7HApIc2hi1cSlKlNdmeeDPJo+8PX6X8a0LA+k/sKh\n",
       "yROpf23QCVp+LOosBb46Z0bNPib7EhkZtMJYxelzyi5OmlHzj8m+YywSWkHWFWMmRwcUY+c/2lzb\n",
       "u4yal1xXyb5jEAyt7XzN8oUHcWyeXhR5Q16ZNKfmgCuQpUxkHqCrWCWw9gNndTX9vEqcCNQrcylx\n",
       "5NQccAUyrRrn5MtzMkihyGYd0o9VSKX9uDLrRs0WO5D7Y3KuQCZ2gQV/wLFOq0dldnb+idTZdDGr\n",
       "C7Pm1LyS1TzZ7oZaPfpYuyhlBq6wuEKJpGN5duTUHHIFMqOlG2J+gDsaBK1UBmk92gaCDQ76Y3Sp\n",
       "1krUHHJtZCt3Y9YP0JEswBJEE4xkXz4ImdZxNqhS1/w4kDGfdfjJKvamXnPq/dMvHWsMtpbz0pqQ\n",
       "XffSzRpVCF1pSl5LNkj/uaqOgWxyj8qOOoprNjPc7jWPgDFFYznR16gPN/apMv0urLAkMvVgl7yo\n",
       "DhHrNNjpBrWohm1P5iIjBsWjVJoQ+62k3C6KLrrsNVuAMUVfR8G2MjckykPAJ4VFPGIGWyjXFAGq\n",
       "EDnUsUVdkzyQucYGZBnDlZCOyQj/85UuEn4TMKbo6+g0t0ujleImnbrNQjxiC8Wj59YhY39sUjf9\n",
       "USyx55cEsyUedh8lqKK5Q++9ZhMQG88O4qhjnDSgdZjGgefilHB2tOTqwGrt+koVQrP67xAfWf+5\n",
       "Rv8dyLhgYXfkTO2Xh3bRSCNqvWYTEBvPNuKoY5yU+cLhx37MtoryVDF+tOTqHJYtLyXaOlYhw3x9\n",
       "ghqQKbIda2IForN3kZgh5JFo6zXbgL3xbCMKHeOkYZ9UtsWovItAheVXY8+wHjTHAGKG9eMJakC2\n",
       "4tRsYefZdPa+YbmEorTSa3YAW0xrIwod46TeDfjuDu6RMoglL9osyTCmguFOsKtDxv3MCWpAZuS2\n",
       "eOsE3LjckCoOInFeSey9Zhuw+14TcdQxTeruAf7+2e4Bqvna72JpvXeNeec1NiCzlSddJxfcNc2q\n",
       "euqTx0u4TLr3mk1AbDxriKo/xkn3mme/jAL144toaL0z5Hrj5RYkmxhWmPifxGPJIW0+467poc4P\n",
       "Y6/ZAqTGs4Ko6ZhNGmqeTUhdqfgpgtZbjfqdLwP6ZDgEt2NbcglQRXTrRzV0Mqag9caY6Y06XiYb\n",
       "lgDq9Kumuo7j1j31r/KDPt/ceSlzncx8DOjraE64mCLQunyNeeeV9e/ef7//Yl1N0Lo6+Z1vUMgD\n",
       "Xsc8Z/wDojIy/hHxqSsAAAAASUVORK5CYII=\n",
       "\" style=\"display:inline;vertical-align:middle;\" /></a><br>(see <a class=\"ProveItLink\" href=\"../__pv_it/ea2d4e284a66c7c193c1482f8a64b11d99458e690/dependencies.ipynb\">dependencies</a>)<br>"
      ],
      "text/plain": [
       "sumInExpRev: forall_{a in Complexes, b in Complexes, c in Complexes | a != 0} ((a^{b} * a^{c}) = a^{b + c})"
      ]
     },
     "execution_count": 2,
     "metadata": {},
     "output_type": "execute_result"
    }
   ],
   "source": [
    "%proving sumInExpRev presuming []"
   ]
  },
  {
   "cell_type": "code",
   "execution_count": null,
   "metadata": {},
   "outputs": [],
   "source": []
  }
 ],
 "metadata": {
  "kernelspec": {
   "display_name": "Python 3",
   "language": "python",
   "name": "python3"
  }
 },
 "nbformat": 4,
 "nbformat_minor": 0
}
