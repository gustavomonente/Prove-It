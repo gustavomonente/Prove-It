{
 "cells": [
  {
   "cell_type": "markdown",
   "metadata": {},
   "source": [
    "Proof of <a class=\"ProveItLink\" href=\"../../../_context_.ipynb\">proveit</a>.<a class=\"ProveItLink\" href=\"../../_context_.ipynb\">number</a>.<a class=\"ProveItLink\" href=\"../_context_.ipynb\">exponentiation</a>.<a class=\"ProveItLink\" href=\"../_theorems_.ipynb#diffSquareComm\">diffSquareComm</a> theorem\n",
    "========"
   ]
  },
  {
   "cell_type": "code",
   "execution_count": 1,
   "metadata": {},
   "outputs": [],
   "source": [
    "import proveit\n",
    "context = proveit.Context('..') # the theorem's context is in the parent directory"
   ]
  },
  {
   "cell_type": "code",
   "execution_count": 2,
   "metadata": {},
   "outputs": [
    {
     "name": "stdout",
     "output_type": "stream",
     "text": [
      "Beginning proof of diffSquareComm\n",
      "Recorded 'presuming' information\n",
      "Presuming previous theorems (applied transitively).\n"
     ]
    },
    {
     "data": {
      "text/html": [
       "<strong id=\"diffSquareComm\">diffSquareComm:</strong> <a class=\"ProveItLink\" href=\"../__pv_it/85e3cc797d0bf8602559cda0e73a370ebf3002df0/expr.ipynb\"><img src=\"data:image/png;base64,iVBORw0KGgoAAAANSUhEUgAAARYAAAAmBAMAAADzbqllAAAAMFBMVEX///8QEBCIiIhmZma6urrM\n",
       "zMxUVFQiIiJERETc3Nzu7u6qqqp2dnaYmJgyMjIAAAAcRTyBAAAAAXRSTlMAQObYZgAABF5JREFU\n",
       "WMO1WF1oFFcUPrvZTbKzM4kPVrShdJtU65MECyr+tJEivmidl9oWwYRQEX2QICr+PcQVZI1N2VJa\n",
       "pS04KjYS2+7SIjUqZE2wxV9WfLARqouo+G/wB8yPpufc2VnvTu5N5i7MgdyZ3HPPne/c891zTgKg\n",
       "Kv+BD6I1lWIVzPmBBT4txWihNc4Cfc5cxS17d1oQLOFgtLfGW3EW1qltqSfL8awfqWMpHxf/FmhM\n",
       "Km1ZkQwPAHxrKWMZ/zsbYH+DGpaGyHMvTo6SOx7WdKu6GB0ECA+qQokMeFi0XnXXihgON1Wtyjzc\n",
       "aL1edddeGi6rWgVi7HSyEnUXDVcExykziBL9DAYeWZZTyqX7TRqPiC77jhYkIG4dyoRMt/KIrRbI\n",
       "GvxZAovIzQycp5n7XrHcYOM9kaoKvdPQs5Unj4/i7j1bLZDfkbUPTrZRtsjBPjrCVq9YZkPhTN1S\n",
       "ncahB+DdkRG3igyYWkCuGARGRvqpuPRDFTqhp71i2WwnJ5FqGZ3GAUk2y6sFoZ1QoM4AGOc6O/d6\n",
       "5u4zGsTL/2GBEqa5vY5aILecl/AQwMtEYrtnLE9pqKOwzp/5tisL1s6T3ec6R10k3/W+Z+XvMzuh\n",
       "VwCrAHaLirgok9B6gHYq18mq/mLVayuVBKNgpT9mUp83sNW8hKbAE3xc5/38hLGfu/Jfr24uyljH\n",
       "/94Uc/IEw7INt34Hylrdebw6BlHhzd3mqHk5kIU5+PirMDGMxIKgk4m0Ux9mtS+s8EOKPPH5aO8C\n",
       "ONwGKzNcTAEmYv4dtBO3ZntvsoycykC4X4RloqPm1sPHFisWjTwX9WyF89u/XZ1g/Axwiq4onqix\n",
       "50cL+jIQHYUl0Aop051elqXlWGw1L5NBe+HGEsktx5dD025DiMKy6BhO0ZratRg+DOsK/GbSHSP0\n",
       "sduVXrLkaajFxZemvIGt5vk1DFECvpibQOZ+hS8bsWZX0dS1Plv1gVXH6oPxG0c57Wmeiqk0rIsW\n",
       "cbG6ATnEcZeXdkfNYxnCTNvFcZf5+Sf6UlYfboFDNHWiy1bF4bpG5xQ9yn9yOF9WK2PGJr244ctW\n",
       "4vKyjKQO22pe4nC1CVfP5/ML43cgjc3v54lEIvbTZ06MZ4U3JxLxyDGeF5PAPlateeoP7xf7OfMi\n",
       "scYUYVnsqHn5pfbLZsyMtwt3/DlFAeOYSlZes8pZh3IQDfE5CDXAgj0XoRYi/Y28BjDpkNYAWS9f\n",
       "IJjhNHaBZONS0E2WUE3oibTBVqMVzrD0eIYKWF5Oy2sjkx7h7BgGb7bWncoUav5jAcAeev318S4z\n",
       "XAPLLyAr6BZql+6ucrWyu6VeSto+qQH1DE5SKG6+g8iXfBa1H9MT8WLTVFbWSzGplARDasChTI3Z\n",
       "LIo+1jRmy9gna9llBsYb8N0yUkltJ4Bf8pHyn7BDvmGpUbaY4ReUoPqJB0yfsASyyiZGzicspRx4\n",
       "3B8okSklGHX4E6SOdCkObPEFS3tJVt/78r9D+lvmf1iFMXod7jPyAAAAAElFTkSuQmCC\n",
       "\" style=\"display:inline;vertical-align:middle;\" /></a><br>(see <a class=\"ProveItLink\" href=\"../__pv_it/85e3cc797d0bf8602559cda0e73a370ebf3002df0/dependencies.ipynb\">dependencies</a>)<br>"
      ],
      "text/plain": [
       "diffSquareComm: forall_{a in Complexes, b in Complexes} ((a - b)^{2} = (b - a)^{2})"
      ]
     },
     "execution_count": 2,
     "metadata": {},
     "output_type": "execute_result"
    }
   ],
   "source": [
    "%proving diffSquareComm presuming []"
   ]
  },
  {
   "cell_type": "code",
   "execution_count": null,
   "metadata": {},
   "outputs": [],
   "source": []
  }
 ],
 "metadata": {
  "kernelspec": {
   "display_name": "Python 3",
   "language": "python",
   "name": "python3"
  }
 },
 "nbformat": 4,
 "nbformat_minor": 0
}
