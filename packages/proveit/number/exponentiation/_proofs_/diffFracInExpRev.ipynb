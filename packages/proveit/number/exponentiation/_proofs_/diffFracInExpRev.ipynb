{
 "cells": [
  {
   "cell_type": "markdown",
   "metadata": {},
   "source": [
    "Proof of <a class=\"ProveItLink\" href=\"../../../_context_.ipynb\">proveit</a>.<a class=\"ProveItLink\" href=\"../../_context_.ipynb\">number</a>.<a class=\"ProveItLink\" href=\"../_context_.ipynb\">exponentiation</a>.<a class=\"ProveItLink\" href=\"../_theorems_.ipynb#diffFracInExpRev\">diffFracInExpRev</a> theorem\n",
    "========"
   ]
  },
  {
   "cell_type": "code",
   "execution_count": 1,
   "metadata": {},
   "outputs": [],
   "source": [
    "import proveit\n",
    "context = proveit.Context('..') # the theorem's context is in the parent directory"
   ]
  },
  {
   "cell_type": "code",
   "execution_count": 2,
   "metadata": {},
   "outputs": [
    {
     "name": "stdout",
     "output_type": "stream",
     "text": [
      "Beginning proof of diffFracInExpRev\n",
      "Recorded 'presuming' information\n",
      "Presuming previous theorems (applied transitively).\n"
     ]
    },
    {
     "data": {
      "text/html": [
       "<strong id=\"diffFracInExpRev\">diffFracInExpRev:</strong> <a class=\"ProveItLink\" href=\"../__pv_it/cd6f504df593f2b66cf67d0304ff1ec6ed9655580/expr.ipynb\"><img src=\"data:image/png;base64,iVBORw0KGgoAAAANSUhEUgAAAawAAAAmCAMAAACvSl+UAAAAOVBMVEX///8oKCgUFBQNDQ0QEBCI\n",
       "iIhmZma6urrMzMxUVFQiIiJERETc3Nzu7u6qqqp2dnaYmJgyMjIAAAArQGDrAAAAAXRSTlMAQObY\n",
       "ZgAABRBJREFUaN7lW4uOrCgQdfcKgrz9/49dwBdgATItm9tjJZNUOqdPKdSLamYYXitaw/onImiH\n",
       "B+1C+l2CDKx/JpPp8KhdSL9JplGA+sc+0CMM0LtjS4wE1D8Xozs8bhfSrxFKYX3PO42JRyKNN5W3\n",
       "hukdY/zB2P86IQsH9V0Ubtsru90qv/cVyRgLHOAHpL9IDIX14zN5I5PiVSzUkMgRGqMANhY5QDvp\n",
       "7xEeBBMHAmuAPistt4Wf3zCo7WlgYyYupK2kv0ewgfXTjxGiDa5MsA5OanpsTMmgsdgBWkl/kYwI\n",
       "1o9WeRYDwj+P26mpL4eNxQ6wkprHT/HfkAUJqB/C7Abqn59ER9WCvmnMkaqjupnXlDC9wPq5MNaL\n",
       "caX/Wi5ytm5N+7wZm9guIqSPSDnbXYy9p2TNsH5uhF2vUf6Ebk1sS1N/kTcWMnvSPaCUfM1mzQzW\n",
       "zw/FoO/77pQWHNnUTBaMhcyeVCvhhM/v6S8WDOtncaeqoewofenvWhy/YCxkXkkXnyhn9aLNQrDO\n",
       "scKoONi5IjRCcxpHYrnRq1WNJcwrKfXtELsZuc1js1yiX2rT02L/618SKaTypDAkWctQn0a7BqZU\n",
       "b64IadnHojcoEwi+b+zC7El9YhSFLZBM0Znu9oFJVgyoU6yrVIOUigZ2m6LVOpSBSTMQ361rSBej\n",
       "UzGDHSODsEdXcm0bl2qayhrLM6+krlqhS+AKqTC2nwriekliVDrJygEuDCBCmhpJ4UW4f4t52nqp\n",
       "lLQESUpKoGOPm9E1EE0e4Q60aCoVxVxigY0VmFdSV8Yu7YVmkgtHqLnaozKaZGUBFwYQsQZoiaSw\n",
       "Wf4oInzOi5reIOpzkPxmjez4RrJsNI+YlEZYt29W1lieeSXl5gg4gRH1E8SjaZyIXBl5PMnKAuyS\n",
       "IYTCtvOCsFaQD9ACSbxZx3Nt77E+iQPPOiXNQ4ppUPg0IwtVpI6IgFDNoq1UV1LG6RpvYibbMP7I\n",
       "J1poDk2ysgCXesgYzbESxA0ryWYd36C+c/1j//RGsWeSG5DztRGgCx9j1AySZ5erhgC84UOqK6nc\n",
       "T8rY7gKZvZseZUDEfNskKw/wRZMEgCvCWRmLVpLNOp5r9Rc5nGGzz2EP0jwErP+n7t/MpjxVnuIV\n",
       "EbfPWXepANLdvVx295czyLyOqdDAJSHAJKsA2NbpAICIipVks45veK9ku3e6r+wT7huQk45CuqAI\n",
       "EU5R/shQR2w5uD52v0sFkGqxvZt1RKZdxT9fBwsUNrD7JCsP2EIkWJAYccdKvFnnN6jN+//+47K/\n",
       "jlu9G5CA2cD6c4Ni8T+Q2oMaWSaXGxUJTtrEdw0Ddx3WPsnKAoxbHxwCUoS3QnJWwMg6nmvvyX2u\n",
       "w+shKiGFIMkUZ4T1p6QH55V0okhu/SI70q6w/QxzYw7iIuqYZOUAHCONRARIEGUr0GYF31h78m0r\n",
       "lO/VU1IAkg5aBag/JabH7ZYiKdoqTvSWHwMGWbdSPGdJqCTLOuTOvOkh6UD5A9Jqn1lvRO+3qpnN\n",
       "MnXSehViFNafEdl43aYPqf4YMDS4B7hZWlZJdf33ifD2yfM3UXCPq+n4777vjvtRi+AgJJanf3Ud\n",
       "e/yMO77nt+FLQe7yLyQbX49eEL32JppzVALrT1D3uCU2vvk/E8K7X9r0Ctq/m/R7JDwvsAevJvOx\n",
       "QyvYhfSLxE3pIf1jWtnjWeXwbuHBbRQ+P+W5rEdtYXp4u3AC6x/FwNQjCeyk/wHJ6UvM6Uht0AAA\n",
       "AABJRU5ErkJggg==\n",
       "\" style=\"display:inline;vertical-align:middle;\" /></a><br>(see <a class=\"ProveItLink\" href=\"../__pv_it/cd6f504df593f2b66cf67d0304ff1ec6ed9655580/dependencies.ipynb\">dependencies</a>)<br>"
      ],
      "text/plain": [
       "diffFracInExpRev: forall_{a in Complexes, b in Complexes, c in Complexes, d in Complexes | a != 0, d != 0} ((a^{b} * a^{(-c) / d}) = a^{b - (c / d)})"
      ]
     },
     "execution_count": 2,
     "metadata": {},
     "output_type": "execute_result"
    }
   ],
   "source": [
    "%proving diffFracInExpRev presuming []"
   ]
  },
  {
   "cell_type": "code",
   "execution_count": null,
   "metadata": {},
   "outputs": [],
   "source": []
  }
 ],
 "metadata": {
  "kernelspec": {
   "display_name": "Python 3",
   "language": "python",
   "name": "python3"
  }
 },
 "nbformat": 4,
 "nbformat_minor": 0
}
