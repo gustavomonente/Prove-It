{
 "cells": [
  {
   "cell_type": "markdown",
   "metadata": {},
   "source": [
    "Proof of <a class=\"ProveItLink\" href=\"../../../_context_.ipynb\">proveit</a>.<a class=\"ProveItLink\" href=\"../../_context_.ipynb\">number</a>.<a class=\"ProveItLink\" href=\"../_context_.ipynb\">exponentiation</a>.<a class=\"ProveItLink\" href=\"../_theorems_.ipynb#squarePosEq\">squarePosEq</a> theorem\n",
    "========"
   ]
  },
  {
   "cell_type": "code",
   "execution_count": 1,
   "metadata": {},
   "outputs": [],
   "source": [
    "import proveit\n",
    "context = proveit.Context('..') # the theorem's context is in the parent directory"
   ]
  },
  {
   "cell_type": "code",
   "execution_count": 2,
   "metadata": {},
   "outputs": [
    {
     "name": "stdout",
     "output_type": "stream",
     "text": [
      "Beginning proof of squarePosEq\n",
      "Recorded 'presuming' information\n",
      "Presuming previous theorems (applied transitively).\n"
     ]
    },
    {
     "data": {
      "text/html": [
       "<strong id=\"squarePosEq\">squarePosEq:</strong> <a class=\"ProveItLink\" href=\"../__pv_it/66137a4f6500ebd08561f8902ed38872d93e56790/expr.ipynb\"><img src=\"data:image/png;base64,iVBORw0KGgoAAAANSUhEUgAAAJoAAAAmBAMAAADO2Z8qAAAAMFBMVEX///8QEBCIiIhmZma6urrM\n",
       "zMxUVFQiIiJERETc3Nzu7u6qqqp2dnaYmJgyMjIAAAAcRTyBAAAAAXRSTlMAQObYZgAAAq1JREFU\n",
       "SMeVlk1oE0EUx99usvnYbGIRBKuXKFQ8SaAXL60B8aaSk6IIDVV7LmJvHoqCpEph1UO9ZUtAIZcE\n",
       "PUhRcCGeIpQVBKWgBEUPihrUgm1a6nxtzK4zmdk57O7w/vvj/2befAAMb1kP1JpZVhAdAdV2Wi6J\n",
       "7wt0WzccoVSXm1suDfYsO9ERa79JaTOBXtI2Nrgy4vmOI4GFfk4W0795Muo5IUs1FxZkNnky6tnY\n",
       "lNCqdvi/PJdGPX+Q0Cbx4zzr4HdLICSeX0lou/HjBeugd7YgEBLP1SKQKX/H16TXQ7STcIKvJJ41\n",
       "F17i9xfBsuoGacbXp7f4QuIZTex97GGeT4vNBmnazk6XK6Se9S7kUM1ZTcFozIcyFZUl9ZzZgGy7\n",
       "Xl8SqHYV1GjMs9ED+FOpXBPR8oxyr3XAEdBIiG1K2wCXARYEtIZHafFR+DHobfU7bh/JJkNCrP0E\n",
       "OA7m4Mbw5PDFfk1XGW3Zg6OCTGmItS001KD7+6v5bNzTLWj7y2eqSWnHHLgioNEQa7/QhHpJv/d2\n",
       "pQ6ItuaFaHvBXBfQaOgfLd05gz5qhz5BHE8hprnBTM0tyHT/H7fPOBsaYqmhTGHhEvqYQ/tJDiht\n",
       "3F+NDTqnZg+V+QrXGwuxhYjmFB6jio8VjFmoEVps5mq/Qlya6XV4U3b5mdIQK+IeqyqtiQ6Js5VK\n",
       "Ja9bd1/3q7JMaQ8Onpsu8mk0xI4kvMllUfU17NSak6CZZi745ZjqqK0Ff+37m69mT50Cq0THre1b\n",
       "t0Yi0agcm5x+NAFwG1fvqlubDJwCyrTQKaKjcQvM2HYkWkNyy7iJH2OsMyajPbeHx2XnBudMGua9\n",
       "GYW2XxLXOxFg+ohMsScCTZNe9d5HoMmveqm8Miw9Kr9/zinTHirM2JKtSltU8V9SvUXjneQvGFLU\n",
       "rZ3kLfsAAAAASUVORK5CYII=\n",
       "\" style=\"display:inline;vertical-align:middle;\" /></a><br>(see <a class=\"ProveItLink\" href=\"../__pv_it/66137a4f6500ebd08561f8902ed38872d93e56790/dependencies.ipynb\">dependencies</a>)<br>"
      ],
      "text/plain": [
       "squarePosEq: forall_{a in Reals} (|a|^{2} = a^{2})"
      ]
     },
     "execution_count": 2,
     "metadata": {},
     "output_type": "execute_result"
    }
   ],
   "source": [
    "%proving squarePosEq presuming []"
   ]
  },
  {
   "cell_type": "code",
   "execution_count": null,
   "metadata": {},
   "outputs": [],
   "source": []
  }
 ],
 "metadata": {
  "kernelspec": {
   "display_name": "Python 3",
   "language": "python",
   "name": "python3"
  }
 },
 "nbformat": 4,
 "nbformat_minor": 0
}
