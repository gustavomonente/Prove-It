{
 "cells": [
  {
   "cell_type": "markdown",
   "metadata": {},
   "source": [
    "Proof of <a class=\"ProveItLink\" href=\"../../../_context_.ipynb\">proveit</a>.<a class=\"ProveItLink\" href=\"../../_context_.ipynb\">number</a>.<a class=\"ProveItLink\" href=\"../_context_.ipynb\">exponentiation</a>.<a class=\"ProveItLink\" href=\"../_theorems_.ipynb#diffInExp\">diffInExp</a> theorem\n",
    "========"
   ]
  },
  {
   "cell_type": "code",
   "execution_count": 1,
   "metadata": {},
   "outputs": [],
   "source": [
    "import proveit\n",
    "context = proveit.Context('..') # the theorem's context is in the parent directory"
   ]
  },
  {
   "cell_type": "code",
   "execution_count": 2,
   "metadata": {},
   "outputs": [
    {
     "name": "stdout",
     "output_type": "stream",
     "text": [
      "Beginning proof of diffInExp\n",
      "Recorded 'presuming' information\n",
      "Presuming previous theorems (applied transitively).\n"
     ]
    },
    {
     "data": {
      "text/html": [
       "<strong id=\"diffInExp\">diffInExp:</strong> <a class=\"ProveItLink\" href=\"../__pv_it/43d2f63129fddc16b013750833c9105859844c5f0/expr.ipynb\"><img src=\"data:image/png;base64,iVBORw0KGgoAAAANSUhEUgAAAVQAAAAcCAMAAAAJMLcyAAAAOVBMVEX///8oKCgUFBQNDQ0QEBCI\n",
       "iIhmZma6urrMzMxUVFQiIiJERETc3Nzu7u6qqqp2dnaYmJgyMjIAAAArQGDrAAAAAXRSTlMAQObY\n",
       "ZgAAA4tJREFUaN7tWYmO2yAQdVsP9+n//9hyGGIwxihB3Vgq0krj7MsbM8xJluXhC1v7pWRPXhp9\n",
       "K9mTFsHFo1U/TwYn4Wk2peXzJn6eDNNaeNiysjTLBkDlKYwBYBpZN19ERdqkZ/NEm6LKWMDkAnUm\n",
       "ZHgh6yyy3sqKWDqKILzKnXmCkcVWORJ3djFVzUbce90ksu6hZEX5KIKg1UUoPKTWr67SILpgnpbb\n",
       "xao+I+umz7YisR0FwdMTf0L0n+y1NYw4Wm6GyHrroIipo5AcVKsnRr/PYaZ2B+v7JDSJrFvnXooQ\n",
       "P6YEo6Vfgj3BUc16boq0PlkLgQE5iax7LC9FkMiisIUMwfQTjIps3o5GsMp/RnYLwcnto0BD+eKD\n",
       "eWjWeIw7/wuvBxrO58z3IMOre127DdYje1joLbJ7CNnIUcBej+yYSnFNGYXr8bgE3FOEHXU8iISs\n",
       "5L51KsQ2fiJXc0xj744RN2QvvxzQJzZcCD6bwqlJlUoj5D6VxDcPxOp6PL4C3FP0jSro3lbHalxW\n",
       "kr0qhH+wDyftGzK5ZUcb0CeTUXfBj1anMmW4EtJTGRFsoXTVRlwC7in6RvUH4F6NtHqePXpXniGf\n",
       "eOoNGcuBMqCv9lRh88WCREBtzgkhmxAVuUQ5Hl8C8kDcQxRGzUojWkc1Hszq+OE0OoPHqMGUWuZU\n",
       "+gbZiD6yiVLggkYzS0bch8X0aqQRrfH4EpAH4g6iMGpWSkMb8sf9mf0tTgFHedyk92BqF/XJDdU4\n",
       "2Yi+qvq7M0B79CNnLcKC8+QSI0umfTy+BqSBuIMojZqVxkNTh/Nea6Pu3WB4CRedn7WB42QDkNz0\n",
       "ZmGD19wGPigIi/MtLEIR0hiPrwEpEXYQpVGz0uAUPDmH/8qG2/4gKQARFPBnXd0w2QCknKhigO47\n",
       "ce7BjS8ur9SDJBwbjDQeXwJyJbtGFEZ9KaUu5f3+5ROfuar+4UznXSRMJLNQC1mLcHGHfXXQ5DBL\n",
       "kFB8FuHrchqPW4CISANxE9Hy1Kw0tVPpCu3cpy5o5uA3kUym85cnR8AUFKCwP567GemqJ/djF/Ee\n",
       "msfjBiAi8kDcQjSMelAa26ndqrr1K9zQ3fPomkhmaC2003hMiOVgdAcYQPT6VHXvOnTmZdo8MkZq\n",
       "YXTddzDjPU7TqAPXCnLmL/PTyIyuhfGvTkD0jGpGHEfN/Gl+Etm33PS/vxs1swGYQ4ZkLfxfs9df\n",
       "bPUyz9aLp3QAAAAASUVORK5CYII=\n",
       "\" style=\"display:inline;vertical-align:middle;\" /></a><br>(see <a class=\"ProveItLink\" href=\"../__pv_it/43d2f63129fddc16b013750833c9105859844c5f0/dependencies.ipynb\">dependencies</a>)<br>"
      ],
      "text/plain": [
       "diffInExp: forall_{a in Complexes, b in Complexes, c in Complexes | a != 0} (a^{b - c} = (a^{b} * a^{-c}))"
      ]
     },
     "execution_count": 2,
     "metadata": {},
     "output_type": "execute_result"
    }
   ],
   "source": [
    "%proving diffInExp presuming []"
   ]
  },
  {
   "cell_type": "code",
   "execution_count": null,
   "metadata": {},
   "outputs": [],
   "source": []
  }
 ],
 "metadata": {
  "kernelspec": {
   "display_name": "Python 3",
   "language": "python",
   "name": "python3"
  }
 },
 "nbformat": 4,
 "nbformat_minor": 0
}
