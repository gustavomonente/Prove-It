{
 "cells": [
  {
   "cell_type": "markdown",
   "metadata": {},
   "source": [
    "Proof of <a class=\"ProveItLink\" href=\"../../../_context_.ipynb\">proveit</a>.<a class=\"ProveItLink\" href=\"../../_context_.ipynb\">number</a>.<a class=\"ProveItLink\" href=\"../_context_.ipynb\">exponentiation</a>.<a class=\"ProveItLink\" href=\"../_theorems_.ipynb#sqrtComplexClosure\">sqrtComplexClosure</a> theorem\n",
    "========"
   ]
  },
  {
   "cell_type": "code",
   "execution_count": 1,
   "metadata": {},
   "outputs": [],
   "source": [
    "import proveit\n",
    "context = proveit.Context('..') # the theorem's context is in the parent directory"
   ]
  },
  {
   "cell_type": "code",
   "execution_count": 2,
   "metadata": {},
   "outputs": [
    {
     "name": "stdout",
     "output_type": "stream",
     "text": [
      "Beginning proof of sqrtComplexClosure\n",
      "Recorded 'presuming' information\n",
      "Presuming previous theorems (applied transitively).\n"
     ]
    },
    {
     "data": {
      "text/html": [
       "<strong id=\"sqrtComplexClosure\">sqrtComplexClosure:</strong> <a class=\"ProveItLink\" href=\"../__pv_it/91bd1677f27842db2e410a3dbc66102ed6b1cf500/expr.ipynb\"><img src=\"data:image/png;base64,iVBORw0KGgoAAAANSUhEUgAAAIsAAAAaBAMAAAB1DbIqAAAAMFBMVEX///8QEBCIiIhmZma6urrM\n",
       "zMxUVFQiIiJERETc3Nzu7u6qqqp2dnaYmJgyMjIAAAAcRTyBAAAAAXRSTlMAQObYZgAAApNJREFU\n",
       "OMutVU9o02AUf02atPnWVA8eFGFuQzx4cAEvgnMO/9wUO2Q6QWgpikeHIhUnUkQ0xR0KHhwqLlqY\n",
       "UIUOh4fKDsPdHEJFRB0Tg+BlyJwMQTdF3/vaL0tG0uzgByG/vO/ll/f93p8ANF1KD4QuKdzlmABa\n",
       "519afj7RTCjNnABqk7BehbHIbQLdb+IVswBsAh8DHEYsgXb77u+48v2iAZIBMO2JfdWaEoAN+G33\n",
       "LUPpjwHaAsAw6ZcPoNksQGLMZ1dX8cyfMJRBgKQV4ET0SwI9cpvf53JcircRfFdFml1I+bJcvh0Q\n",
       "jL7eLxn92xvAoJMwjKgd7z9N83JQomy3NLem2klxJoRkmaMNdATtpwEKATRxoZlUwyrbBN94BRXF\n",
       "kSf3NVA6BbAfmO1+t2XoTLYBk1SfB6gy8HpQIw2Q21HOEDQjPeRC36qHObGzxvot5auoK5RPakXQ\n",
       "gddeC86RsXceF32Y5U82/CpIk6jFnBRUy6DfA5gQ0SDNnU70IWk2AvtBxuGVTlFd0Wg29V9p2xeI\n",
       "4ltw8BmahDZ0qEoedMwG+w0tC2SMODRvOA3Kmya5CqfQ6YKyBEmyznxYkUklieVfvGnYMqh21dNn\n",
       "8a0Io3Y9UzCOIcuGMgAl2ntedU0SqhttEWbp4Sq8y0wSGHT2u4esxyZSvKaHdcgZGZMycNw0zba7\n",
       "fa5Jwqv4rHWJbqMdJ7J8WoxeEw2rdG85j7muZ1BHa6UYn7H4UeWHeADBs4FXxbThLadDN3KeEoHP\n",
       "AkSK6cOQIGatKwUvhLmL56vVaj6VmNN60ezTPQA3CT6Zv54S5l5ej4shw01fNUUl1MZjUHnrF0Jo\n",
       "YqkQB2+bBK3ZUI/xNbAEDj1Xn67hPyVb8L/WP01JmrIDW1zIAAAAAElFTkSuQmCC\n",
       "\" style=\"display:inline;vertical-align:middle;\" /></a><br>(see <a class=\"ProveItLink\" href=\"../__pv_it/91bd1677f27842db2e410a3dbc66102ed6b1cf500/dependencies.ipynb\">dependencies</a>)<br>"
      ],
      "text/plain": [
       "sqrtComplexClosure: forall_{a in Complexes} (sqrt(a) in Complexes)"
      ]
     },
     "execution_count": 2,
     "metadata": {},
     "output_type": "execute_result"
    }
   ],
   "source": [
    "%proving sqrtComplexClosure presuming []"
   ]
  },
  {
   "cell_type": "code",
   "execution_count": null,
   "metadata": {},
   "outputs": [],
   "source": []
  }
 ],
 "metadata": {
  "kernelspec": {
   "display_name": "Python 3",
   "language": "python",
   "name": "python3"
  }
 },
 "nbformat": 4,
 "nbformat_minor": 0
}
