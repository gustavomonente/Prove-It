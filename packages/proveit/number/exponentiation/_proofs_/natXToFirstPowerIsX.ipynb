{
 "cells": [
  {
   "cell_type": "markdown",
   "metadata": {},
   "source": [
    "Proof of <a class=\"ProveItLink\" href=\"../../../_context_.ipynb\">proveit</a>.<a class=\"ProveItLink\" href=\"../../_context_.ipynb\">number</a>.<a class=\"ProveItLink\" href=\"../_context_.ipynb\">exponentiation</a>.<a class=\"ProveItLink\" href=\"../_theorems_.ipynb#natXToFirstPowerIsX\">natXToFirstPowerIsX</a> theorem\n",
    "========"
   ]
  },
  {
   "cell_type": "code",
   "execution_count": 1,
   "metadata": {},
   "outputs": [],
   "source": [
    "import proveit\n",
    "context = proveit.Context('..') # the theorem's context is in the parent directory"
   ]
  },
  {
   "cell_type": "code",
   "execution_count": 2,
   "metadata": {},
   "outputs": [
    {
     "name": "stdout",
     "output_type": "stream",
     "text": [
      "Beginning proof of natXToFirstPowerIsX\n",
      "Recorded 'presuming' information\n",
      "Presuming previous theorems (applied transitively).\n"
     ]
    },
    {
     "data": {
      "text/html": [
       "<strong id=\"natXToFirstPowerIsX\">natXToFirstPowerIsX:</strong> <a class=\"ProveItLink\" href=\"../__pv_it/548a59a5951bf5bcd54970e1d6e14d45a8f31e3f0/expr.ipynb\"><img src=\"data:image/png;base64,iVBORw0KGgoAAAANSUhEUgAAAIUAAAAcBAMAAAC9nWGEAAAAMFBMVEX///8QEBCIiIhmZma6urrM\n",
       "zMxUVFQiIiJERETc3Nzu7u6qqqp2dnaYmJgyMjIAAAAcRTyBAAAAAXRSTlMAQObYZgAAAftJREFU\n",
       "OMtjYCAOsDYwUApYjQvI1xwCpVlwmMFEhP0JBMxgSSBoBt8CAmYwnCVohhEDITPYgbY8ADHu4lDA\n",
       "+YugGUwGDAynQYxXOBTwGBA0g/MDA8MMEI0r8hk3EDSDoRoSajwbcMjPhwUpAzdOMywYGHhPrVo1\n",
       "HZf8RbiLzb8p4FCjCMQ/OjpqcJlhB/TEsZlKRlhTBlTCH+jWVAaGTlxmdAD9ydHEsH4CPJDfgQEo\n",
       "qGES8QEMDM4MXA+QU2bxEQZFWOJ7xsAQzf6AYX4AFvNhEvMdgImEgekCTHz1YVuGHTwLmGFBWczA\n",
       "sGC9A8N9bG6ESQApBp4L7DBh3u5ZCxj2KhjwwAQeA/F+BoY8rB6FSoDcwfkgDKjbNkgZ5C0g2Lp1\n",
       "EtyMNki4/uVCC48EBoREPCiwOlOAZjheYJwASfdbedbGwLRkALEMA/cvHmzugEqA4oVhMzD5zFJn\n",
       "4F/ABU7ZWxkOHEaKe84vDDwPrmJL5FAJcBriB6WeJAZHBtaKjo4moBlz4QEEtAOYyDlzsaVjmIQF\n",
       "OCRBjhFlsGFlSIC4gyUInl8cCBdTj5ByX8lWhqMg5hUGhjswYeYDBI3g+oVUpOlcYOAAOo2lzoGB\n",
       "DZ7gBAiawYteGGoAwwMFZBM0gz2AkIp1BM24Q1AFtwEBBZxE1F1bCMjDsxaFAACkm4UPVInbhAAA\n",
       "AABJRU5ErkJggg==\n",
       "\" style=\"display:inline;vertical-align:middle;\" /></a><br>(see <a class=\"ProveItLink\" href=\"../__pv_it/548a59a5951bf5bcd54970e1d6e14d45a8f31e3f0/dependencies.ipynb\">dependencies</a>)<br>"
      ],
      "text/plain": [
       "natXToFirstPowerIsX: forall_{n in Naturals} (n^{1} = n)"
      ]
     },
     "execution_count": 2,
     "metadata": {},
     "output_type": "execute_result"
    }
   ],
   "source": [
    "%proving natXToFirstPowerIsX presuming []"
   ]
  },
  {
   "cell_type": "code",
   "execution_count": null,
   "metadata": {},
   "outputs": [],
   "source": []
  }
 ],
 "metadata": {
  "kernelspec": {
   "display_name": "Python 3",
   "language": "python",
   "name": "python3"
  }
 },
 "nbformat": 4,
 "nbformat_minor": 0
}
