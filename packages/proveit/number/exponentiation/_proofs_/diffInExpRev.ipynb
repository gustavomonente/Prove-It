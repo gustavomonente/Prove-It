{
 "cells": [
  {
   "cell_type": "markdown",
   "metadata": {},
   "source": [
    "Proof of <a class=\"ProveItLink\" href=\"../../../_context_.ipynb\">proveit</a>.<a class=\"ProveItLink\" href=\"../../_context_.ipynb\">number</a>.<a class=\"ProveItLink\" href=\"../_context_.ipynb\">exponentiation</a>.<a class=\"ProveItLink\" href=\"../_theorems_.ipynb#diffInExpRev\">diffInExpRev</a> theorem\n",
    "========"
   ]
  },
  {
   "cell_type": "code",
   "execution_count": 1,
   "metadata": {},
   "outputs": [],
   "source": [
    "import proveit\n",
    "context = proveit.Context('..') # the theorem's context is in the parent directory"
   ]
  },
  {
   "cell_type": "code",
   "execution_count": 2,
   "metadata": {},
   "outputs": [
    {
     "name": "stdout",
     "output_type": "stream",
     "text": [
      "Beginning proof of diffInExpRev\n",
      "Recorded 'presuming' information\n",
      "Presuming previous theorems (applied transitively).\n"
     ]
    },
    {
     "data": {
      "text/html": [
       "<strong id=\"diffInExpRev\">diffInExpRev:</strong> <a class=\"ProveItLink\" href=\"../__pv_it/87bd77c0b10a49746705477be527929472a4402c0/expr.ipynb\"><img src=\"data:image/png;base64,iVBORw0KGgoAAAANSUhEUgAAAVQAAAAcCAMAAAAJMLcyAAAAOVBMVEX///8oKCgUFBQNDQ0QEBCI\n",
       "iIhmZma6urrMzMxUVFQiIiJERETc3Nzu7u6qqqp2dnaYmJgyMjIAAAArQGDrAAAAAXRSTlMAQObY\n",
       "ZgAAA7tJREFUaN7dWYmSpCAMdXcNgpz6/x+7HEILcvY4h5OqqUr3PF/oEHLgNP0aWbbtV9n5GSLR\n",
       "77LzlYKXVDlkE2/xwegDFTvwVJ+SVPGys/eOMxl8oGJnmOuHyMZTxTt5ByB85BgD2MiSamxXs3YO\n",
       "skGuHyIIUiUcvZVPMJDu1mXCs9P4ULrI2QlklutVydQTnMx2nihBqPay6i/MiJqoc24aqjw5Oy8y\n",
       "yyXFVDhOP7vCX0vwrOsWqua0hXrRP3UWp50aWcJhp0BmuRj1n+gTTn9Y/XwpwTvPfdtVbtaRviFn\n",
       "50RmuXyASvHs02+ymRoIjM00ZOh0ertzccbOicxyKcmNsPUJgarmVDn3WlKO7A8CBcfOwDzU013t\n",
       "nMgc124Twyqf4FS0pYr+PRLBzKvuayGWnXdsQovlzEVs1aKdnfNdk+9S+Z9dOUi47jOlqbLMeuFb\n",
       "rdK0Ebr1xK9SuJ0EjbCcuRbzJK+4SlBJVgLlyTcGtCmsVyrhiG1W0k9davlGEoXPKp8TQ0gVEVGq\n",
       "Xhqu6mGJuEw2hUuTyoVESH/LsekZ8CbTybcEaFPUncrI0U27QhsXCZQoyELWy4byPSSKAiJGt5za\n",
       "wxJxmdHqUqYUFYwbIsWsL4RMuocioE1Rd6rZAL00nOubwnn0ykwDOHG/j+kiYihSe1giLraFywmO\n",
       "gGwhJ9hcgoVjYvHkWwSEObiGiJwajDq0dGYMeE3PDyWxwneDFnstcFqIYC2TU8kIS8xFGXE7xVes\n",
       "v4ymV8UVy02+RUCYgyuIyKnBKLFtyD/9p45VXI4bobHCdxPLZJsEKzq1heip/l0sMZdAx+lH2lt4\n",
       "tcETSgyPeY7Jtwzwc3AFETs1GHWbJk77PV8uTeZEscvRR13WR/UqItv1vsGScO3wmv3AhDxe3VgL\n",
       "ExMYZybfMsAnwgoidmowakOC+tAwj1xSXQgpr3ACgBmBck5sI3qqeg9LwqWOFZrwoMoUl1czgzic\n",
       "exQ/+RYBoZKVEZFTX0aJTmJ//5hUpkrV3+5prNxyRwufyKUbXLwvpjpIfJoksC0+EzN12U++OYBD\n",
       "+Dk4i8hFajDq2yl/hXbtUyckU+UG4Tv/RK6FgABkfx8N3QzX9ZCasQubCA2TbwbgEGEOziEyTj0Z\n",
       "de3U4VWZe8GG51S540aBfBUXuIQYD0YtQAei1qeKdvgRkSoflxVP38fV7idE97u3rFM7rhXCPM1v\n",
       "e/uubswk41zqBkTNqaon+ARKlY/e0d54O//NN/3ve0QsqfLBldz4Ggk94ZXUM+U/Dt8yzwWo9Y0A\n",
       "AAAASUVORK5CYII=\n",
       "\" style=\"display:inline;vertical-align:middle;\" /></a><br>(see <a class=\"ProveItLink\" href=\"../__pv_it/87bd77c0b10a49746705477be527929472a4402c0/dependencies.ipynb\">dependencies</a>)<br>"
      ],
      "text/plain": [
       "diffInExpRev: forall_{a in Complexes, b in Complexes, c in Complexes | a != 0} ((a^{b} * a^{-c}) = a^{b - c})"
      ]
     },
     "execution_count": 2,
     "metadata": {},
     "output_type": "execute_result"
    }
   ],
   "source": [
    "%proving diffInExpRev presuming []"
   ]
  },
  {
   "cell_type": "code",
   "execution_count": null,
   "metadata": {},
   "outputs": [],
   "source": []
  }
 ],
 "metadata": {
  "kernelspec": {
   "display_name": "Python 3",
   "language": "python",
   "name": "python3"
  }
 },
 "nbformat": 4,
 "nbformat_minor": 0
}
