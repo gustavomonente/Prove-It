{
 "cells": [
  {
   "cell_type": "markdown",
   "metadata": {},
   "source": [
    "Proof of <a class=\"ProveItLink\" href=\"../../../_context_.ipynb\">proveit</a>.<a class=\"ProveItLink\" href=\"../../_context_.ipynb\">number</a>.<a class=\"ProveItLink\" href=\"../_context_.ipynb\">exponentiation</a>.<a class=\"ProveItLink\" href=\"../_theorems_.ipynb#negIntExpOfExp\">negIntExpOfExp</a> theorem\n",
    "========"
   ]
  },
  {
   "cell_type": "code",
   "execution_count": 1,
   "metadata": {},
   "outputs": [],
   "source": [
    "import proveit\n",
    "context = proveit.Context('..') # the theorem's context is in the parent directory"
   ]
  },
  {
   "cell_type": "code",
   "execution_count": 2,
   "metadata": {},
   "outputs": [
    {
     "name": "stdout",
     "output_type": "stream",
     "text": [
      "Beginning proof of negIntExpOfExp\n",
      "Recorded 'presuming' information\n",
      "Presuming previous theorems (applied transitively).\n"
     ]
    },
    {
     "data": {
      "text/html": [
       "<strong id=\"negIntExpOfExp\">negIntExpOfExp:</strong> <a class=\"ProveItLink\" href=\"../__pv_it/4dfaaef8a27142c51ec9214afd5c19bc509e7eaf0/expr.ipynb\"><img src=\"data:image/png;base64,iVBORw0KGgoAAAANSUhEUgAAAXsAAAAmCAMAAAASh8ukAAAAOVBMVEX///8oKCgUFBQNDQ0QEBCI\n",
       "iIhmZma6urrMzMxUVFQiIiJERETc3Nzu7u6qqqp2dnaYmJgyMjIAAAArQGDrAAAAAXRSTlMAQObY\n",
       "ZgAABSpJREFUaN7dWomyqygQdebJvvv/HzuACg2CScj4YknVrboV6QYOvR6dpuGhZj/MdL9h7Q03\n",
       "NSmW/8cBOvWNsnm65UDunvsi5b6+w57f84hfHepSo2APx17N9DcLy96DvB9nn409Y12XvzQWme4S\n",
       "mqTrgXg/D3u6dO3P4CuvXPaXwLJlGM/D3rH+I33hlZuTJXKFQxf1XOxl3+ynk0ffmz09W8Klnx16\n",
       "LvbYnUQjhFjvvBZbitB4UOKHJaBGlHKsnZ+L/YyAD5QtFuJqCljolm1aMvvZ86hnSF4sUWvULPsl\n",
       "Adi74XZwxX5c/pKQkws6Jcpnwl+LdSktlnIKhcMso6ZIBFxC4UojyVvJRIDH3qT04NQI9uPyV7AJ\n",
       "SyvIbmf1FoeDASq34bWPsG+GQlf2EdxAnDC4BI3WDjTSbKDMAezlfidSDMWccfkrwj0HEbxOtR6j\n",
       "ORqKQY1g5R0Gm2mwL6OiWqLUSHLxhRYY73dzNXoI+3H5CwbP98/ryOJjsRVb69sIVmEG0YPYb1Dk\n",
       "JUqNNjOOOpVCAXtrVBiSDy44LH/BWHCV/aBtMrND4MghggTLRGY4Y3FVLVFoxARUWxrWOUuMWtwM\n",
       "Yj8sfwX2KZqkelFig1FVz33R4bbUheVOnR4UvmqxEPu1LxByFPvP5N+iVcjpuvGwBh0vOx9sEtt/\n",
       "JOQ9t1Qp+fUWjAMjX1VTXVzvRJe2LfOI2BOck3+zZ5uFwQLjHvav5CctDOMM9Y2unPDiJHiPoJod\n",
       "o3Y6JddbaA+/4EqfHo2PbXURhH64UsWBF1P0VrxovbKMNhjbNWsZhVS3t2rL7+KKhiqMOlPTKr0J\n",
       "59jLiDgnrXI8B9NY7gWY4hyO6nmjdVRT3XqfXb8vkUspacU+JISjJVihpQrP/Xmolbbf1zblk7iV\n",
       "EVRtKlqlO+Ec+1iNq9hDzfol9rNIs/8P7NvqxsqBFXvpfIauSQgCPQVP5oRTyPLevxBzFIoTuhVu\n",
       "sqRVuhNq7JPKdbZZlYTJ3L6KOSp6uK6hJvyzeM9SPmmq+yhqVTHH50lGahICxm8rW4Vv5nOSvOJ0\n",
       "40mTuFVWtmiV7oQK+6SSxXLqj/+z2xoH31e5zllzrYqO4HvJMiJYNwpcU91nrIctsddbPwhICJgg\n",
       "FGqZPcB+l59CQqa8yC9alRsFnEd7QoV9UglrudXu50PcTUa1Z/S4GmfV/vFoPdxW91EHXNb3sPBJ\n",
       "JATlK1kRHhifasPF9HnMXT5E4PhGOIt7l6ENWqU/ocI+qYT82Bpyl0MpOrMqrCiGEJUMlTPdaMBu\n",
       "q/uIdUub3rG36kBC5ALO98XBT4zsY7/Jq2COwoYMmsWxQrksz5xHd0KJfVbJfOD9958Qfm2vzpmE\n",
       "63MKzY3/gO1TFfYNWsPQnGhxMz81juAzBV1iqZvFfSdIVwJLhhpl5zxaE5p2n1Tu9eXeth7r+8nM\n",
       "fS4NzEK/wz7vsMYekhBiC0yWMWaM4+wN7AlDGuFC3M/zNYMIzS8N9p44j8aEFvZA5VpfbuCbFjGg\n",
       "gSt0G231y2+n8vvk0/dWaI/3Y67bEtdv6m/X9/pligOkwuHdyetL+QsDbPAvvzN8uzQTryipriDw\n",
       "Ttlu8+0PoQcU8t/G/m2Ktom9feMFgb3pN6Ipd2b7ueu7cjzu0/rW2AMa5HnfRt31I+Rtd8AtH/g9\n",
       "5q8+hX1vc/bR2NsbG37hlE/8/l6gu0Ivi2+vnoh9ID5vurGiDvgO++W89/qZeXF5T4e0RVu5fPUp\n",
       "GfXjjseUtzR8ReAO/Zj+AyhnQJizXsbfAAAAAElFTkSuQmCC\n",
       "\" style=\"display:inline;vertical-align:middle;\" /></a><br>(see <a class=\"ProveItLink\" href=\"../__pv_it/4dfaaef8a27142c51ec9214afd5c19bc509e7eaf0/dependencies.ipynb\">dependencies</a>)<br>"
      ],
      "text/plain": [
       "negIntExpOfExp: forall_{n in Integers} [forall_{a in Complexes, b in Complexes | a != 0} ((a^{b})^{-n} = a^{-(b * n)})]"
      ]
     },
     "execution_count": 2,
     "metadata": {},
     "output_type": "execute_result"
    }
   ],
   "source": [
    "%proving negIntExpOfExp presuming []"
   ]
  },
  {
   "cell_type": "code",
   "execution_count": null,
   "metadata": {},
   "outputs": [],
   "source": []
  }
 ],
 "metadata": {
  "kernelspec": {
   "display_name": "Python 3",
   "language": "python",
   "name": "python3"
  }
 },
 "nbformat": 4,
 "nbformat_minor": 0
}
