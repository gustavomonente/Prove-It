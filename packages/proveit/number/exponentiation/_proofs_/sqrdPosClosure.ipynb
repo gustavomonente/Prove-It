{
 "cells": [
  {
   "cell_type": "markdown",
   "metadata": {},
   "source": [
    "Proof of <a class=\"ProveItLink\" href=\"../../../_context_.ipynb\">proveit</a>.<a class=\"ProveItLink\" href=\"../../_context_.ipynb\">number</a>.<a class=\"ProveItLink\" href=\"../_context_.ipynb\">exponentiation</a>.<a class=\"ProveItLink\" href=\"../_theorems_.ipynb#sqrdPosClosure\">sqrdPosClosure</a> theorem\n",
    "========"
   ]
  },
  {
   "cell_type": "code",
   "execution_count": 1,
   "metadata": {},
   "outputs": [],
   "source": [
    "import proveit\n",
    "context = proveit.Context('..') # the theorem's context is in the parent directory"
   ]
  },
  {
   "cell_type": "code",
   "execution_count": 2,
   "metadata": {},
   "outputs": [
    {
     "name": "stdout",
     "output_type": "stream",
     "text": [
      "Beginning proof of sqrdPosClosure\n",
      "Recorded 'presuming' information\n",
      "Presuming previous theorems (applied transitively).\n"
     ]
    },
    {
     "data": {
      "text/html": [
       "<strong id=\"sqrdPosClosure\">sqrdPosClosure:</strong> <a class=\"ProveItLink\" href=\"../__pv_it/a5b89cd47df4b5e8e034d458403b48e5f3db936d0/expr.ipynb\"><img src=\"data:image/png;base64,iVBORw0KGgoAAAANSUhEUgAAAJEAAAAcBAMAAACT2EAWAAAAMFBMVEX///8QEBCIiIhmZma6urrM\n",
       "zMxUVFQiIiJERETc3Nzu7u6qqqp2dnaYmJgyMjIAAAAcRTyBAAAAAXRSTlMAQObYZgAAAoxJREFU\n",
       "SMetlU1o02AYgN+m+U9aPQgqgnQeRDwVpuDAn4LoaWK86AShYf6c5x89zENRwawyCQq62yqFHQqy\n",
       "4g4y9FCopw6lguAYClXw0mHtQUE3cb5J9n352i1LwH2Q5m3e93vy/n4BiLRqd4qwKUu3xeZ/IoSM\n",
       "e5Ns4XeQiYkXF046692kjPIjyCSPF2+GklpE0JY2IsGbMFA8RSQptSFJwoK4mfwUYDVJK1brViSu\n",
       "Wn8/j/skLg0w1xVEb/HpznSPJqmawngBxHZ7d/sbgNIBmMDHSj6AtIsIg3CiWyMrVcg/pj7BKMIx\n",
       "AL2yPkghaRYWXxY8aT6XaxLSQNInHUK/6+XykwCXEltXhdjKSscVhvYzPg3IPqkPr1+WdSuodM7r\n",
       "H9X6aN7VFhudedInnUabywBjASQZrfid8J0+EG2GpF1v+aSsAXAcVHamXuy7+IUWCFv3acPJAdnP\n",
       "ZHx7btGVPPgkjpUEXIM4/6q/welQJ10oYe2PFeEa3X+mjWs146/TBcaBaSTpDYn8nZ8tA5IWCDmJ\n",
       "pB2g/qT2E2wXHBhiexhJStMZ09Ler8A77eeQqsTcBPUPaB1qH2NJ8jNmgrJOkGOXMK6bwhK47YGk\n",
       "ftLQYh7UZRCbs2vnEEmCedAnObWDmRE0SQsjUHJJ8Ss3iJrDfroNH8wq3TDKTAvMiQZVvHN+tuCL\n",
       "YhXOhHOWZaU4/eF7ouaxx6f2nB/O0A1Td4t0gg35wTJVuPVNoHLalheKoheddoF24rY1LTZ4L7fu\n",
       "OUw7J2ZnT4FueHmq02gORz2lVXoQ8sPPjwDcdzrzbbV0lPZPVFKi5/jlME9dD8RKRJJkhDkd9dv0\n",
       "MdRiJhoo8Kj0l5aJRIpv0hfaW/8AhTWh89KST8YAAAAASUVORK5CYII=\n",
       "\" style=\"display:inline;vertical-align:middle;\" /></a><br>(see <a class=\"ProveItLink\" href=\"../__pv_it/a5b89cd47df4b5e8e034d458403b48e5f3db936d0/dependencies.ipynb\">dependencies</a>)<br>"
      ],
      "text/plain": [
       "sqrdPosClosure: forall_{a in Reals} (a^{2} in RealsPos)"
      ]
     },
     "execution_count": 2,
     "metadata": {},
     "output_type": "execute_result"
    }
   ],
   "source": [
    "%proving sqrdPosClosure presuming []"
   ]
  },
  {
   "cell_type": "code",
   "execution_count": null,
   "metadata": {},
   "outputs": [],
   "source": []
  }
 ],
 "metadata": {
  "kernelspec": {
   "display_name": "Python 3",
   "language": "python",
   "name": "python3"
  }
 },
 "nbformat": 4,
 "nbformat_minor": 0
}
