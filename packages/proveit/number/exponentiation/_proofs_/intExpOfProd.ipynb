{
 "cells": [
  {
   "cell_type": "markdown",
   "metadata": {},
   "source": [
    "Proof of <a class=\"ProveItLink\" href=\"../../../_context_.ipynb\">proveit</a>.<a class=\"ProveItLink\" href=\"../../_context_.ipynb\">number</a>.<a class=\"ProveItLink\" href=\"../_context_.ipynb\">exponentiation</a>.<a class=\"ProveItLink\" href=\"../_theorems_.ipynb#intExpOfProd\">intExpOfProd</a> theorem\n",
    "========"
   ]
  },
  {
   "cell_type": "code",
   "execution_count": 1,
   "metadata": {},
   "outputs": [],
   "source": [
    "import proveit\n",
    "context = proveit.Context('..') # the theorem's context is in the parent directory"
   ]
  },
  {
   "cell_type": "code",
   "execution_count": 2,
   "metadata": {},
   "outputs": [
    {
     "name": "stdout",
     "output_type": "stream",
     "text": [
      "Beginning proof of intExpOfProd\n",
      "Recorded 'presuming' information\n",
      "Presuming previous theorems (applied transitively).\n"
     ]
    },
    {
     "data": {
      "text/html": [
       "<strong id=\"intExpOfProd\">intExpOfProd:</strong> <a class=\"ProveItLink\" href=\"../__pv_it/c9d8ebb92960eb87ff2686b7d136bd2de2fb32260/expr.ipynb\"><img src=\"data:image/png;base64,iVBORw0KGgoAAAANSUhEUgAAAaEAAAAZCAMAAACvmGFcAAAAOVBMVEX///8oKCgUFBQNDQ0QEBCI\n",
       "iIhmZma6urrMzMxUVFQiIiJERETc3Nzu7u6qqqp2dnaYmJgyMjIAAAArQGDrAAAAAXRSTlMAQObY\n",
       "ZgAABL5JREFUaN7tWouO3SgMZbfh/c7/f+wCAQIJzoOrztWqRRp5qrF9gIONcYrQ9OBCCIX+iOGI\n",
       "YxiTn4alYYftB/YC/THD0cUhtHzhPCr+l6En26RxXOyqf0v0Xar8cQwp18ubYUrUcBxyzvIG4Xn0\n",
       "NSoFr+JGhvyu6SYYmjf/xtCyl6Dako8fz1u1MISIRewxwn30FZBOpeAVGRmypph4PcHQvPk3hle9\n",
       "hBVz0tHbCVRrXC817DHCXk/B0VdAGpWMV2VkSBXSlZzJcvPmXynJegmPtRw8i1NRFW8DbN1jhH1c\n",
       "RF8BaVU2vF3Ge6ic/T0aXt1D0+ZfGOVxcPtIoDUt6WUKYU9zcPQVkE6l4BUZGXJWx6FeX/ybwbT5\n",
       "F8oE0Ut42F3D0wmEhgY4+gpIr1Lwsky13CrjeP80ygCz5j8/SkVbK1tFLMHL4P70PJS/W1KwZAIB\n",
       "9jwGaXkjnUwM8RReUk0y9M6cev9A6bJaSlthsYVcnhTKkK6XNFa4fh1ArCF36zUtyQ3na30zyAkB\n",
       "9AyAtDeZ72RiiJK2eBh0dxZpiSQEYOjOHBlpueD4cEZAhbjQi4URllJrsOJo6HKgUCZsOqnjMwQR\n",
       "2TG7TSjdEGuakXmTvgHPp/NzBGk3Q3Rye7HG3/E5U2pjCXHb7Wc11tCLdWxerDWTwZL5cqK9uVG4\n",
       "ZijPmLaPDG9uFEpZRTtJ0t8F3s90Jdmnf6cZsfUFQ2PPh8gZgDSj4GW5LSdeUueT4qRROiKF9TM3\n",
       "eIQXk6F5tXYqzcGUmZSwBhWuGYpshnXFOFnMwSWoMGZokVVzWw/vHip0K4ZnGDp67naND0DuGFIe\n",
       "MX5sEdE2dRBk4a7Pbo40wdyz1pqyXGiqAowx1xcKR4aqy007n+uoLFzvElQYZ7nt+JoRAaurgYCo\n",
       "uL2H+AHhwjMA0t7BopO5LycVp8cWUXuxODWq5+vUq7kWLGyObq2ddt1diIVOFQ+ocGCouuSpZPwV\n",
       "flzGKFkku4QVxpWCTseX+6YJVjePlrsEqhSgCL/zDIDcVAqBbiKOXSTdhJDGoxDaGSrmKFYTTKDW\n",
       "2uh+mhIncFjhwFB1uZFh0B4iC+5cwgpAIZvsQtI5r42HfZNZmbx5Rtx6BkDadGU7WXrbtaKoLSIm\n",
       "0pGMWAHI6kgf2Nsu5jHxY95Zh+hjx0xN+IXCgaHqsmt8phS/0s4lrAAkEB3eI0xxfK7tQ2atb0zP\n",
       "XjB06xkAaV9JrJOFIadPXaQ9uVLDoierQIayeSrupYv3/25NNG6rzBifcddBhZ6h3SUPCf/ff2La\n",
       "d4dSLbuEFd53fdos+1nX53X3XfTy+H2oaRFZtpcJZHhjnuceLjC20kRntQ6va7Z1AlUss8Kd4SSg\n",
       "MIyh6rKdbbzJ4nOnczlSmO2c7nkLT/Vmp8eocwp1kWSufBzn3Fov+D1DlGODSWcdTkOoe2RsPLAY\n",
       "Oyz4QoDCiKHG5VZIZwZsSvm9y4HCMX2qXt4faf9yh+VnQTT6+nDRZCr30HXX54W1eeh+/B4yo4vX\n",
       "3Cn0G/DsC94HG64/+whzOkI/+xXcPF3ueJX+zuWD8/7yK7h7HxHqk0/NBc8p9BWGHs99yJAzNy7d\n",
       "/+AL1XvCP2Lot/1/OYL+jq14F4L/B8rJQ1/XhjnBAAAAAElFTkSuQmCC\n",
       "\" style=\"display:inline;vertical-align:middle;\" /></a><br>(see <a class=\"ProveItLink\" href=\"../__pv_it/c9d8ebb92960eb87ff2686b7d136bd2de2fb32260/dependencies.ipynb\">dependencies</a>)<br>"
      ],
      "text/plain": [
       "intExpOfProd: forall_{n in Integers} [forall_{a in Complexes, b in Complexes | a != 0, b != 0} ((a * b)^{n} = (a^{n} * b^{n}))]"
      ]
     },
     "execution_count": 2,
     "metadata": {},
     "output_type": "execute_result"
    }
   ],
   "source": [
    "%proving intExpOfProd presuming []"
   ]
  },
  {
   "cell_type": "code",
   "execution_count": null,
   "metadata": {},
   "outputs": [],
   "source": []
  }
 ],
 "metadata": {
  "kernelspec": {
   "display_name": "Python 3",
   "language": "python",
   "name": "python3"
  }
 },
 "nbformat": 4,
 "nbformat_minor": 0
}
