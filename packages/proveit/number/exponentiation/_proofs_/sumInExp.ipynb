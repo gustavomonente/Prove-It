{
 "cells": [
  {
   "cell_type": "markdown",
   "metadata": {},
   "source": [
    "Proof of <a class=\"ProveItLink\" href=\"../../../_context_.ipynb\">proveit</a>.<a class=\"ProveItLink\" href=\"../../_context_.ipynb\">number</a>.<a class=\"ProveItLink\" href=\"../_context_.ipynb\">exponentiation</a>.<a class=\"ProveItLink\" href=\"../_theorems_.ipynb#sumInExp\">sumInExp</a> theorem\n",
    "========"
   ]
  },
  {
   "cell_type": "code",
   "execution_count": 1,
   "metadata": {},
   "outputs": [],
   "source": [
    "import proveit\n",
    "context = proveit.Context('..') # the theorem's context is in the parent directory"
   ]
  },
  {
   "cell_type": "code",
   "execution_count": 2,
   "metadata": {},
   "outputs": [
    {
     "name": "stdout",
     "output_type": "stream",
     "text": [
      "Beginning proof of sumInExp\n",
      "Recorded 'presuming' information\n",
      "Presuming previous theorems (applied transitively).\n"
     ]
    },
    {
     "data": {
      "text/html": [
       "<strong id=\"sumInExp\">sumInExp:</strong> <a class=\"ProveItLink\" href=\"../__pv_it/bce884e77705ff8ceb4b60040d7472a08f88835c0/expr.ipynb\"><img src=\"data:image/png;base64,iVBORw0KGgoAAAANSUhEUgAAAUcAAAAcCAMAAADFqY3ZAAAAOVBMVEX///8oKCgUFBQNDQ0QEBCI\n",
       "iIhmZma6urrMzMxUVFQiIiJERETc3Nzu7u6qqqp2dnaYmJgyMjIAAAArQGDrAAAAAXRSTlMAQObY\n",
       "ZgAAA5xJREFUaN7tWYuupCAMdXcFeT/8/49dQKjyUmcw2WuyTe5Nxzke9FBoy0zTy22x9oeSvcw0\n",
       "/qlkP9vIkn+2Clz6JNm5oYb3LhlLsVYBLn+S7GIHoLX3KrOykGJFiMpSR40QGiTrLv2NWhu4YF4o\n",
       "Iy7lQUxOCBc6smUi8yBZx4Cagd7B2xOUeYGuYi2jhTstjM11xN4hg2Qd6YF61zt4WvWC/B3JeXaZ\n",
       "AtOJWmez/+eiYVZjZCe2U4s180SaRMFfsKxrhXxMpav8s2xxTta2AzVTmZfCUKs3Lmu/ORle5Gvr\n",
       "qxk8SNbJTDs15tliN1p6E+wF4WjmRumidVn3CIwMkoNkHfF3agT3b97KvTH9hmxt9/fRGM2FVvxJ\n",
       "skK+GrFAPG8eDemH36xAH2pBl7Mvw/Mhjaqp5UmpZXaPa9fpjo7aHgzfJsuetoUgK8m8xXPLE3UU\n",
       "15RR1G9Bc8A1xUXoYBK2G3dXmTptvCBnk21QKWo+q+jPyeJ09hFiXXLP74yoKh6l0hi7q5JwR0is\n",
       "LlvQHuCa4lxHQWO9u+XPLA/EOcThCzbW2l6RyTXFVhshQcfo+camyjKGKyH97UaE11e6yPxdwDXF\n",
       "uY5ec/dopFGZpGU5c4AMdJhXZCwthzaiikdhoWGXGFELiz1sDUSR46JJLWgXAB3oCSLXEQbd0Hob\n",
       "xoNZsUo4jfPvMWq9Wbsf90f6BVkHQaCWTB4XdJNWMuIuZu2ikUa0WtAuADrQPiLXEQaloXD44/5M\n",
       "fIpyKVEeX8zHKbWTEgPxeJusgyjztZMax2WNnUCEhRCBDCHzu2ML2gekDrSPKHSEQbd5Uocpngsd\n",
       "U8kWHsItu6Fa7T5ZG7HXn+CtaO+UkA93wkJsOAKhCGm0oCeAuKf1EYWOMGiYe55iwN+yFuVRmnhJ\n",
       "ESKComWo9LpN1kYU/cy28uLDuyDgxueGfR/BEh2rgNSC9gEp9rqIXMd9UH/W8PtXPGto5uswi881\n",
       "62NkFtVeYhZuQS1+c9fkUMqTkDwm4TNpakG7AOhAW4hmPMKgqeZJh1FV/TjhJ7uuMTIJkyyr6V4o\n",
       "UgiHV+JQckiX8LhveoiPQ2hBe4C9A20gWjoeBt1qniikblT8d05nb9sYmaG119yGt80tb0s+AjQR\n",
       "p/WjuowQ+uSp1BAZI7V30y7LjPt1SFvH69ZdPvkD8wiZ0bV3+95hwLmO5kZ8qCd/Yf6ebD/1/rfn\n",
       "39+roZ5M2V+TYVl7/23c/gL/5jL+gBqgfAAAAABJRU5ErkJggg==\n",
       "\" style=\"display:inline;vertical-align:middle;\" /></a><br>(see <a class=\"ProveItLink\" href=\"../__pv_it/bce884e77705ff8ceb4b60040d7472a08f88835c0/dependencies.ipynb\">dependencies</a>)<br>"
      ],
      "text/plain": [
       "sumInExp: forall_{a in Complexes, b in Complexes, c in Complexes | a != 0} (a^{b + c} = (a^{b} * a^{c}))"
      ]
     },
     "execution_count": 2,
     "metadata": {},
     "output_type": "execute_result"
    }
   ],
   "source": [
    "%proving sumInExp presuming []"
   ]
  },
  {
   "cell_type": "code",
   "execution_count": null,
   "metadata": {},
   "outputs": [],
   "source": []
  }
 ],
 "metadata": {
  "kernelspec": {
   "display_name": "Python 3",
   "language": "python",
   "name": "python3"
  }
 },
 "nbformat": 4,
 "nbformat_minor": 0
}
