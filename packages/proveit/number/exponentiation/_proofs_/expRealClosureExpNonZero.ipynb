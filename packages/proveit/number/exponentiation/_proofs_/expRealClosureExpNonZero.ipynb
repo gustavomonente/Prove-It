{
 "cells": [
  {
   "cell_type": "markdown",
   "metadata": {},
   "source": [
    "Proof of <a class=\"ProveItLink\" href=\"../../../_context_.ipynb\">proveit</a>.<a class=\"ProveItLink\" href=\"../../_context_.ipynb\">number</a>.<a class=\"ProveItLink\" href=\"../_context_.ipynb\">exponentiation</a>.<a class=\"ProveItLink\" href=\"../_theorems_.ipynb#expRealClosureExpNonZero\">expRealClosureExpNonZero</a> theorem\n",
    "========"
   ]
  },
  {
   "cell_type": "code",
   "execution_count": 1,
   "metadata": {},
   "outputs": [],
   "source": [
    "import proveit\n",
    "context = proveit.Context('..') # the theorem's context is in the parent directory"
   ]
  },
  {
   "cell_type": "code",
   "execution_count": 2,
   "metadata": {},
   "outputs": [
    {
     "name": "stdout",
     "output_type": "stream",
     "text": [
      "Beginning proof of expRealClosureExpNonZero\n",
      "Recorded 'presuming' information\n",
      "Presuming previous theorems (applied transitively).\n"
     ]
    },
    {
     "data": {
      "text/html": [
       "<strong id=\"expRealClosureExpNonZero\">expRealClosureExpNonZero:</strong> <a class=\"ProveItLink\" href=\"../__pv_it/0a668a30a208ce68b678ceb68ab11a789c0eeadc0/expr.ipynb\"><img src=\"data:image/png;base64,iVBORw0KGgoAAAANSUhEUgAAAPYAAAAcCAMAAABlE7IeAAAAOVBMVEX///8oKCgUFBQNDQ0QEBCI\n",
       "iIhmZma6urrMzMxUVFQiIiJERETc3Nzu7u6qqqp2dnaYmJgyMjIAAAArQGDrAAAAAXRSTlMAQObY\n",
       "ZgAAA3FJREFUWMPlWNeS5CAM9N2RRfT/f+whDNikCTu7D66lasOMZZlWaDXetpsvHsL2G5djvwKm\n",
       "4O3nYN+6nd4Utey+2PV7TSFvCTuYLgw7pdK80xT+hqhZX6RUmY2+1d4Kg3TyoL9BGPTeJxZiHPwD\n",
       "MveKAOwhECjwUpCcXZXPPWibRIZjD/s1bCZeF+DB5NDhLyiBhBvUOBloG9NPHpI5bNodf3J0lL0k\n",
       "2dk71jh2qm8T5kHFFXrYTJeGZmjvncGl1Q2S7clkoDnXfAZqptmOsHN4aPKyAy7l7sDjNYeaOUbJ\n",
       "yEZmZKgMW9aRzVPNSJEuvjj1X9PA/KlYctStXJre4ERQypmTuN2wj36lXvS2VaxEROyImLMUpcX+\n",
       "rKIgWaBLMh0MjkdN5NFlRx43IucumRgMKinnbwzxpUcHjDPYBJvdngyRsoJdTYehbaxjzKOIjTtw\n",
       "hg4aeGWweHqsy6Ou0iN5JuFRVh982xrU23J8WLqiRn0tSCiryXZMLVRn5oCNcm0gNA9WG7NlVN74\n",
       "XgMvDVawETiI/GBxnUaNrE7b6wxqyDNsAtWmewIsBhjjArps61AFvmFUhlr5+ciSULlOAy8NetjV\n",
       "ZfrggCcnCFT5iazmbhsMTrcyRw2N7D4b7Ku5DcbTCuEIM2h5cJBRIn7ZataEijHWaeClQQf7dFmA\n",
       "R2YRTZFmlzJNlH/xx3cGJ2FBho1lIMNm9VPNXmDHxDJxZfIYN5ZrHPcuVErRBRWTUvFOA68NOtjV\n",
       "ZbEOvsSb0FFWU3tJCBnOHeRyh5LbZOgqOxenKMcyt9Tpv9NT+1G0ESqFHt3HZGrqeaeB1wYd7Ooy\n",
       "pYmCPXt754OsNrBto8E5DXKejKRUaEknc9JI4GY8igicfiFVyTkBfPaGMQaPRCWbGrbCmU4DLw1a\n",
       "2BeXpbEHos4uZaTfv3+QhP2KyVOEnmoGB404Hc8mfRFFESB2jkTiRNO6DhlLI8kWDTwzmGa7uDQM\n",
       "zj0jO+BYblxu9bBwGvSt+w1a0gzR5JJayhJ/gi1qxAUX9xx1ocAsVw08MZjBri6FaFVa0iity8ts\n",
       "LQbDXP4GYf/wmEpz6zaK7JnB47k9VYHX/5/nUn5+TlTizRvsy2/r4EsuX1D75uO34v7tPnn9rdME\n",
       "toWyzMKlfyWT9sPX4j/6NuUHX9lb/tnObvDq7MfWfzpiK1+1f3+hAAAAAElFTkSuQmCC\n",
       "\" style=\"display:inline;vertical-align:middle;\" /></a><br>(see <a class=\"ProveItLink\" href=\"../__pv_it/0a668a30a208ce68b678ceb68ab11a789c0eeadc0/dependencies.ipynb\">dependencies</a>)<br>"
      ],
      "text/plain": [
       "expRealClosureExpNonZero: forall_{a in Reals, b in Reals | a >= 0, b != 0} (a^{b} in Reals)"
      ]
     },
     "execution_count": 2,
     "metadata": {},
     "output_type": "execute_result"
    }
   ],
   "source": [
    "%proving expRealClosureExpNonZero presuming []"
   ]
  },
  {
   "cell_type": "code",
   "execution_count": null,
   "metadata": {},
   "outputs": [],
   "source": []
  }
 ],
 "metadata": {
  "kernelspec": {
   "display_name": "Python 3",
   "language": "python",
   "name": "python3"
  }
 },
 "nbformat": 4,
 "nbformat_minor": 0
}
