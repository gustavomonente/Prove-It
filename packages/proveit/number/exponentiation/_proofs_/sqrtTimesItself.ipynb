{
 "cells": [
  {
   "cell_type": "markdown",
   "metadata": {},
   "source": [
    "Proof of <a class=\"ProveItLink\" href=\"../../../_context_.ipynb\">proveit</a>.<a class=\"ProveItLink\" href=\"../../_context_.ipynb\">number</a>.<a class=\"ProveItLink\" href=\"../_context_.ipynb\">exponentiation</a>.<a class=\"ProveItLink\" href=\"../_theorems_.ipynb#sqrtTimesItself\">sqrtTimesItself</a> theorem\n",
    "========"
   ]
  },
  {
   "cell_type": "code",
   "execution_count": 1,
   "metadata": {},
   "outputs": [],
   "source": [
    "import proveit\n",
    "context = proveit.Context('..') # the theorem's context is in the parent directory"
   ]
  },
  {
   "cell_type": "code",
   "execution_count": 2,
   "metadata": {},
   "outputs": [
    {
     "name": "stdout",
     "output_type": "stream",
     "text": [
      "Beginning proof of sqrtTimesItself\n",
      "Recorded 'presuming' information\n",
      "Presuming previous theorems (applied transitively).\n"
     ]
    },
    {
     "data": {
      "text/html": [
       "<strong id=\"sqrtTimesItself\">sqrtTimesItself:</strong> <a class=\"ProveItLink\" href=\"../__pv_it/0dd9064aa4b474cffb6004512ce61bad79010e5d0/expr.ipynb\"><img src=\"data:image/png;base64,iVBORw0KGgoAAAANSUhEUgAAAPwAAAAaBAMAAABhmCzLAAAAMFBMVEX///8QEBCIiIhmZma6urrM\n",
       "zMxUVFQiIiJERETc3Nzu7u6qqqp2dnaYmJgyMjIAAAAcRTyBAAAAAXRSTlMAQObYZgAAAx5JREFU\n",
       "SMe9Vs9rE0EY/bLJZrObTdI/ITUgJagEiyAealAoCIJBRC+ColYsogimHkTEg8pWL8Ue7C2LBYVQ\n",
       "NFBRFMGQk6QSoxQVUYgWeigoQSzUKOrMbGZ2Z3cnYXvwO7zdvDf7vfnxzUwA1hcHGPSNdGChb8hH\n",
       "KZAo/cXRdjXqsqOiJKPrtk+aFEic8G3UZfWmIIlQ6BtbGeBQW35tGHtRlAUJpM2ngO5qhwKJcMWv\n",
       "EWMzojRIWMDPlYD2eo4CiXu+jRhbEqVBwgwex5WA9qEKBRILvo0Yq1QEaZCA60evBLQvmRRwaOf8\n",
       "2thsWDQ6JCTq5fLtoJX3moG4gm1WGhCkwcKaYVwKaj/CoLvI2obxXTXP0nfZSMczM7YwBjDpZxHx\n",
       "9LVWpa8GAxybAebgXfoy39xm5VVCNL7hWMKvDmE3aM5t+3jo+BfyErM7Mk4eH+ERZZYpRPII0CLX\n",
       "4ZW5B5OkHlys+sM9EoeggERXSXs23JR0qKd5e5gew1iEFC228xQGUc+lNHa15kL7A15W89g7BL2p\n",
       "UPb9kzIg+w9Nlz1MX0NtV+2tttQF9Q7pP47vlnIBvKx39A5BbR1Eb7VtGwsRfI5g+6ptr2f246HP\n",
       "XQX5Jyh0mq5T0NYA3pA7aNVZWTyLvrTXfhlcwiS6GiTzrJJPgmU/nLPts9FWkRTLitwBhV6Rpxjs\n",
       "nCJH+lOpDVnbn2e9le8U5lGRyPAVYJbYh08WHaVXSFoj3tJEXQ1R+0EGpVwCzVXkV6ytOnY/zybc\n",
       "+54TUiQpmodDhmGkJf3WorPyU1N4NocqeO1T+e73+0wK0Y6CHtqxbMZ5bfGs59TjhAROI7dliFqT\n",
       "Hz9sOuyPQAG0F3m+8kN5CvLveb9/IxybFP2tYUJJb+mgF6y1r9ulp7YbUNW2563rke37cJUCfPa9\n",
       "LTn2gSmwZ8LdxVod4CY+dhrV2RFmr53Zu8mUC9ap95LdsPIABXie80vMsW9FZ7dLkNDasx+xXof+\n",
       "aQaxKT+dYydEWSZ6OPS0v8+gfySqQQXePo52hHGDE+M5Cv1jJrBAyqtnzocM+saOwMJ/i3/8Rgev\n",
       "5zHWZQAAAABJRU5ErkJggg==\n",
       "\" style=\"display:inline;vertical-align:middle;\" /></a><br>(see <a class=\"ProveItLink\" href=\"../__pv_it/0dd9064aa4b474cffb6004512ce61bad79010e5d0/dependencies.ipynb\">dependencies</a>)<br>"
      ],
      "text/plain": [
       "sqrtTimesItself: forall_{x in Reals | x >= 0} ((sqrt(x) * sqrt(x)) = x)"
      ]
     },
     "execution_count": 2,
     "metadata": {},
     "output_type": "execute_result"
    }
   ],
   "source": [
    "%proving sqrtTimesItself presuming []"
   ]
  },
  {
   "cell_type": "code",
   "execution_count": null,
   "metadata": {},
   "outputs": [],
   "source": []
  }
 ],
 "metadata": {
  "kernelspec": {
   "display_name": "Python 3",
   "language": "python",
   "name": "python3"
  }
 },
 "nbformat": 4,
 "nbformat_minor": 0
}
