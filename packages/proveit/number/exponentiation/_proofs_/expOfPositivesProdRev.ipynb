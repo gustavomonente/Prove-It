{
 "cells": [
  {
   "cell_type": "markdown",
   "metadata": {},
   "source": [
    "Proof of <a class=\"ProveItLink\" href=\"../../../_context_.ipynb\">proveit</a>.<a class=\"ProveItLink\" href=\"../../_context_.ipynb\">number</a>.<a class=\"ProveItLink\" href=\"../_context_.ipynb\">exponentiation</a>.<a class=\"ProveItLink\" href=\"../_theorems_.ipynb#expOfPositivesProdRev\">expOfPositivesProdRev</a> theorem\n",
    "========"
   ]
  },
  {
   "cell_type": "code",
   "execution_count": 1,
   "metadata": {},
   "outputs": [],
   "source": [
    "import proveit\n",
    "context = proveit.Context('..') # the theorem's context is in the parent directory"
   ]
  },
  {
   "cell_type": "code",
   "execution_count": 2,
   "metadata": {},
   "outputs": [
    {
     "name": "stdout",
     "output_type": "stream",
     "text": [
      "Beginning proof of expOfPositivesProdRev\n",
      "Recorded 'presuming' information\n",
      "Presuming previous theorems (applied transitively).\n"
     ]
    },
    {
     "data": {
      "text/html": [
       "<strong id=\"expOfPositivesProdRev\">expOfPositivesProdRev:</strong> <a class=\"ProveItLink\" href=\"../__pv_it/26c262624c6048fbbbaeeadc8f8676608d1100c80/expr.ipynb\"><img src=\"data:image/png;base64,iVBORw0KGgoAAAANSUhEUgAAAVwAAAAZBAMAAACP2ot0AAAAMFBMVEX///8QEBCIiIhmZma6urrM\n",
       "zMxUVFQiIiJERETc3Nzu7u6qqqp2dnaYmJgyMjIAAAAcRTyBAAAAAXRSTlMAQObYZgAABK1JREFU\n",
       "WMPNWGtoHFUUPtl3Zmd3+0PQKsKYaCnWwJIBK7TGFdH+7PSHVkHoErVB0LLUkvjIj1ihTqiFxUIa\n",
       "fDFtwOoa3QUpIVLokqWIKS2DCrZBZdFasJZYSgWTqHjPvXdm7tyd2eiKoQfOzn2cmfnOmfO6C9CG\n",
       "hkbKcCOQ2qPhJTYy2lasBDcG7YuvY4OJtYE719N+3p6iY2D833C7bcZIycIO3x7O0wF+9m7rEop1\n",
       "1chglsFt4uW7MLhZvGTsDuB+wBnpPog7y8qrJT5/tuUWZUx6xM1AxXKoWaJM4Z7BjcthcFVULGt1\n",
       "APdnzki3CevZPJ9/0nJLVjb4j0wsW4A8KE0KdxI/3FgYXLoz2QHaTJ4xpSVhI1fjc1WT7/lKXlhh\n",
       "Yt39XxKDzVG4aDpqw2DfRbuf6QBussyY0kWIuhvbLT5X1sn3vCTNY8sgiB2lcDPzlcqR8FD7tlL5\n",
       "sJOIO8KZ0uG+u92Nz935RTk45feoJRDEiEtgZvjdNEfD4eZM8/V66049OJ17w17O3Vv7b/XJXOrZ\n",
       "wkcN6e4I+s7hxh1upGQHe2uemJqncJ8BGA+HmzAgFZBy8sEJ0hse4vxgOXvVF/1/WVX+vO/x59wi\n",
       "EsYUpEgCiq2HX13Z6mVliYthNDQp3IdY0LmJ7o2hQQFuLB8Qwg7c2GIo3FcYK7djkueEZksvQ47H\n",
       "2Izs7sSUR22S5VAr/DllwTVPLF2icJMQ4XlVOanbyuNW/IpYJkrQJyqz98CA5lnX+VAzG5/6wQ/3\n",
       "JsbRZUhqrmFRpAlV7km7JLhdxDkfsGAvNSxacACUPzyx+FUKV7WTfOH8bAUy7wCcFOGe9WrbR437\n",
       "Qaurx6Chv6DTZPILVzKiwrym6pv1LRLcrjGoGs7aMEu722vhcG8B5Tdq6SJNu7GVFrjdzcdY0xND\n",
       "kz18gqyIcN+LFx3nOfiWReBmPvasu8SVJHAX7CBnIJY85cOUs9GClLZ5vnuJOwOxZtpz9T/x4zAx\n",
       "9DzmDDD+NGt6aMFduCD1DKkJorTSv8cgTk6IwJ124cavbbCokgi3HhRq1Rrs8XUHuQJxZyHUBCKh\n",
       "pqxAojnrLFxHV5ZDDT4tsaZnChc/m5XgpjeTn+PGLot1F1o9qrtwIy9H8lRJAlfP++A2GKe0zLAq\n",
       "YkrYKSerbJXTINnYD98U3ST5PLwmiEXrDC5GKjY9O03T1N5+VO7ISHCCDjtBoa/R7h0quHAJmCZV\n",
       "MhLdvc8fatsYK4N3TdzpS2T9Z53hT3IRI697v+eJwYKzMHWPLYhlDQY3Y7GmJ0F1OMaziAt3gfYo\n",
       "GyD+omnuB+2LPnycwYMjWqRKRtQ3v0bnCCnCgaSUVivCfrHjQr+LTY9q0Cpk0GbC1++SbH2oAkXm\n",
       "DCfmPUe0umoJ5gzpJ63wFie4BK7e4vjE5gS4tOk5iKPpxQNGS3u+Pn7dhtMMrjrNFyetpHUeqJKY\n",
       "yKS6PA7h1RKCG8ig8umK8QZSLNrkswafJh7Z1GtDivh3evSKovMiuKMWf45gRCVnztWnBsLb80Aa\n",
       "X7U994mlyv/28LOR+K5ItWAlWw8/gQ3xPzv8uGIX/utZLb32p/r2cEfa/s+QWWuwsZHhvwH9GVJh\n",
       "n4NIOQAAAABJRU5ErkJggg==\n",
       "\" style=\"display:inline;vertical-align:middle;\" /></a><br>(see <a class=\"ProveItLink\" href=\"../__pv_it/26c262624c6048fbbbaeeadc8f8676608d1100c80/dependencies.ipynb\">dependencies</a>)<br>"
      ],
      "text/plain": [
       "expOfPositivesProdRev: forall_{c in Complexes} [forall_{a in RealsPos, b in RealsPos} ((a^{c} * b^{c}) = (a * b)^{c})]"
      ]
     },
     "execution_count": 2,
     "metadata": {},
     "output_type": "execute_result"
    }
   ],
   "source": [
    "%proving expOfPositivesProdRev presuming []"
   ]
  },
  {
   "cell_type": "code",
   "execution_count": null,
   "metadata": {},
   "outputs": [],
   "source": []
  }
 ],
 "metadata": {
  "kernelspec": {
   "display_name": "Python 3",
   "language": "python",
   "name": "python3"
  }
 },
 "nbformat": 4,
 "nbformat_minor": 0
}
