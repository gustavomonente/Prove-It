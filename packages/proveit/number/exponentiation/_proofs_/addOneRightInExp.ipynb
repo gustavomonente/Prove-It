{
 "cells": [
  {
   "cell_type": "markdown",
   "metadata": {},
   "source": [
    "Proof of <a class=\"ProveItLink\" href=\"../../../_context_.ipynb\">proveit</a>.<a class=\"ProveItLink\" href=\"../../_context_.ipynb\">number</a>.<a class=\"ProveItLink\" href=\"../_context_.ipynb\">exponentiation</a>.<a class=\"ProveItLink\" href=\"../_theorems_.ipynb#addOneRightInExp\">addOneRightInExp</a> theorem\n",
    "========"
   ]
  },
  {
   "cell_type": "code",
   "execution_count": 1,
   "metadata": {},
   "outputs": [],
   "source": [
    "import proveit\n",
    "context = proveit.Context('..') # the theorem's context is in the parent directory"
   ]
  },
  {
   "cell_type": "code",
   "execution_count": 2,
   "metadata": {},
   "outputs": [
    {
     "name": "stdout",
     "output_type": "stream",
     "text": [
      "Beginning proof of addOneRightInExp\n",
      "Recorded 'presuming' information\n",
      "Presuming previous theorems (applied transitively).\n"
     ]
    },
    {
     "data": {
      "text/html": [
       "<strong id=\"addOneRightInExp\">addOneRightInExp:</strong> <a class=\"ProveItLink\" href=\"../__pv_it/c05e67991113b56416f665d85807bfa950162bc60/expr.ipynb\"><img src=\"data:image/png;base64,iVBORw0KGgoAAAANSUhEUgAAAR0AAAAcCAMAAABrn5tYAAAAOVBMVEX///8oKCgUFBQNDQ0QEBCI\n",
       "iIhmZma6urrMzMxUVFQiIiJERETc3Nzu7u6qqqp2dnaYmJgyMjIAAAArQGDrAAAAAXRSTlMAQObY\n",
       "ZgAAA3JJREFUWMPtWYmSnCAQNYkg9/X/HxtAYKABx3GszGxVuiqpXrd9yuvbXZavls3awVXCbwT7\n",
       "yaJxzw3G7DawnyVka3+2qqj0EQTsGloFNhHUKV9FDgUXnCgqf5kdiFaBzZKPQuWbxEpwPocQlVfZ\n",
       "AWg12DT5DFS+RzAMaMTkgvBFdiBaDTYVJmvlUcbNx9kSDnqW+wMae42dDq0Gm1ceXCtazaL6GxrU\n",
       "6ssqpgu1XtbwnznPToeWwJ5xWisiu0TwjyfW2vWU4P589dXY6dBqsIPUUrWSQ0ar70uskPyGdz1L\n",
       "sUtoNdhBteK1YrQMItjHQ8esg56sNezoAjNH0QW0Guyg8KyN4ngQpj/ODi4VU2CN0QqL6kW0IRiI\n",
       "s8pkyzG3K5TEZ4tzDz21rGxHv4wPRxp17uD5/NvqX8a65RQ72laCe7QxWPu6tQlxpFa2ACkPzqy4\n",
       "pqzE8mBZaQ2euBmTmM7+Ltg+bLogV1Pnf3Hwi4MlPQJLThqYCLc1Sqg4qBt2pNIY+6uScA9ErIbL\n",
       "yszgmB0RX5ptqYc0VTPxjuMv2JurTkKbgUlX4qE1kZmdpIShuavJhishw11GxGMrDZaVqcExO4FJ\n",
       "/2AyaLk5L1ZeTN5ZSvAxGCuh25rA2BG27GsSI2pLusWcJIrUgZ2XlakBZKdA7tZ6BwnGDMQrT7ng\n",
       "go1yZ0fIuu5QiHYCDJgQJ1qFC7rzJRnxF5sFw0gjRsvK1ACwUyBpbI1//D+TngHDnfL0tiGmqF2U\n",
       "eCd2drQTYMAE9CzPW/6chP2xCYsOLxVXtrhpWZkbAHYK5M6tqtyyovGkER/hA/+9GSOhnQBrTcqc\n",
       "VBSHHsM3ChFJWPS0v08oQgbLytwAsFMgo5t4dle4xYHGn50lKUJEULS9xU5COwHWmrSz8p4d6aW9\n",
       "S7kJtfaRwFiiugPmZWVq0LLzgAyb5O9faZMc9qzI/I1b2zU0i6BSAIUP+i0US02qOTLo2kdJ6Dd5\n",
       "WRkZDGOnQOZunj8PdPPOgm+d16+hyewz2Tlvo0ghHI/CS7uVvivwMFCTEDNlWRkYjNipIPdunujR\n",
       "o+/p661fYS+hGQqVcVXby0o7FD8zOJx31FNn0lu/E1xCYwQqZ+V0ix2z83xBk7f+wekKmtFQOX/r\n",
       "8g475oQr1a1/cXod7Z98C7x+RnVr23oZDUuo/Jep/AWVBCz6zsinGgAAAABJRU5ErkJggg==\n",
       "\" style=\"display:inline;vertical-align:middle;\" /></a><br>(see <a class=\"ProveItLink\" href=\"../__pv_it/c05e67991113b56416f665d85807bfa950162bc60/dependencies.ipynb\">dependencies</a>)<br>"
      ],
      "text/plain": [
       "addOneRightInExp: forall_{a in Complexes, b in Complexes | a != 0} (a^{b + 1} = (a^{b} * a))"
      ]
     },
     "execution_count": 2,
     "metadata": {},
     "output_type": "execute_result"
    }
   ],
   "source": [
    "%proving addOneRightInExp presuming []"
   ]
  },
  {
   "cell_type": "code",
   "execution_count": null,
   "metadata": {},
   "outputs": [],
   "source": []
  }
 ],
 "metadata": {
  "kernelspec": {
   "display_name": "Python 3",
   "language": "python",
   "name": "python3"
  }
 },
 "nbformat": 4,
 "nbformat_minor": 0
}
