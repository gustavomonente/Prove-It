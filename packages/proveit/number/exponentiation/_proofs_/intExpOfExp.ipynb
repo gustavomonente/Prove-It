{
 "cells": [
  {
   "cell_type": "markdown",
   "metadata": {},
   "source": [
    "Proof of <a class=\"ProveItLink\" href=\"../../../_context_.ipynb\">proveit</a>.<a class=\"ProveItLink\" href=\"../../_context_.ipynb\">number</a>.<a class=\"ProveItLink\" href=\"../_context_.ipynb\">exponentiation</a>.<a class=\"ProveItLink\" href=\"../_theorems_.ipynb#intExpOfExp\">intExpOfExp</a> theorem\n",
    "========"
   ]
  },
  {
   "cell_type": "code",
   "execution_count": 1,
   "metadata": {},
   "outputs": [],
   "source": [
    "import proveit\n",
    "context = proveit.Context('..') # the theorem's context is in the parent directory"
   ]
  },
  {
   "cell_type": "code",
   "execution_count": 2,
   "metadata": {},
   "outputs": [
    {
     "name": "stdout",
     "output_type": "stream",
     "text": [
      "Beginning proof of intExpOfExp\n",
      "Recorded 'presuming' information\n",
      "Presuming previous theorems (applied transitively).\n"
     ]
    },
    {
     "data": {
      "text/html": [
       "<strong id=\"intExpOfExp\">intExpOfExp:</strong> <a class=\"ProveItLink\" href=\"../__pv_it/e00652e9d641cc2db488ade92e94593ae95f88b80/expr.ipynb\"><img src=\"data:image/png;base64,iVBORw0KGgoAAAANSUhEUgAAAUwAAAAcCAMAAAA9SXYuAAAAOVBMVEX///8oKCgUFBQNDQ0QEBCI\n",
       "iIhmZma6urrMzMxUVFQiIiJERETc3Nzu7u6qqqp2dnaYmJgyMjIAAAArQGDrAAAAAXRSTlMAQObY\n",
       "ZgAABEhJREFUaN7tWdu2myAQta3cGUD//2MLCjggGDWmPeu0rJWXZGaLm7ltMgz/wGLT9AUgvsuy\n",
       "9CtAHC0hpdRfjDXOml9P5m3kNgTJkevJsG/Ay68XgVy0v5/fP/Q2BEMP1OJ7kTlBm+OZEIF/ctRx\n",
       "Qq4kLobA3tZ9VzJpyjrtymSUMCwvb2J4OTZ6i/FCvGaI2lsCInNrUs7dIPO++/NLz/HFQJU/KE+y\n",
       "W3YqFgY0kLD5Gc5jRwigtfcW355Ma17kyDGZ990/2LOnKuRG35bokoQQD194bth4ATtC8CUesbee\n",
       "EZk6naJWd9L8vvvzazSpptXNA/KPdq0EI/fc2IGf7z8bROUtDaqZKaKsuUPmfffPZfluYPN1zcWz\n",
       "hjGHk2TmPJkIovKmCpHpLISlL/eT1eG2++PLpcST+4nJ5hlwYmmiIfZClccQpTcZcTefVVjXR864\n",
       "57vuz/fyWA9zS9DUUjLCO0qmCVGNmikhFjLFEq5K3yTzmvspjcsOflt2TizZH56K+aZiyLDQLKa5\n",
       "jt/m8+2E1kZ3G6KeQDkik1HU5lqycVSWKko7ZL5yH4yyQgrSj4zSINBxEH58KS3eaTciT/Gb2BEg\n",
       "DINbRcsPu1CPOhB1qWZ4aA/wZF8/wFhK3VrPLRDoDe1t9+QNXHlPPtla4/YMDsmMG2atKVHSbYoJ\n",
       "HCwGkuwC6ULhaENUL1qSGUrp/rycMhoCmH977rTrKqCme/Z2emHJ2Erjdg0OyQy8++1zNAhtkVmS\n",
       "OapsepfMDsRhZOop3RAg1clwOtLB9uXk5u4FAhETx96MxwlClxq3a1CRmRFXY7tiBFtZH68q0hzm\n",
       "YGt21DH5smaKHHNtiPp0dKHNlRasVp24CDrdmsjyrrI7SO6xAXs7cLqlcbsGJZkZUSwzwy//cfER\n",
       "u+wTRQOCOXAqpqzHDxtQJ4HbEEfd3JNPV2KQ6gQUmEBagbmRmdyH0KS4HLC3gXInSOO2DUoyM+J6\n",
       "EgbFwliTmQa+2OKWJ0lRb51emOE6EO3xNt8azWljWXVyuYRCgPNYFgLT3Vuj5B7KGBGFt49p3tK4\n",
       "XYOSzIyI7y/WKjazTojERAZBCNeCVGbTedXTg6hOR1VkOtipzm3y8LopJI7VXTKjO4SIUS60lc2b\n",
       "Atnmw03jdg0KMjdE4WvZzx+horleN0+dZzi6/4fHldpEOveZSHVavnUf2izc+235YstntjDPkYbg\n",
       "6wWDDq04adyWQSsyMyLebCi6+zkzZ7A7EDmWPMwl5EOtycSqU6U7GCG8Lp2keE0mE8QQWnj7p/lO\n",
       "qYJM4iEis8ZtGDTIRIjrWBTZtC1VyMfcEbuv/vh/jE6cumknqWbeumlveZuT8M0507zuHMK0L4cR\n",
       "8uP/AEp+isyT2vz8MmffpMnFiZjKcac790HucS6dHf4OmadvvFpkujP3peazf2435I8aHiLzY/+b\n",
       "36fEsD987QdZWEkphv/rufUbReA2KOheXBUAAAAASUVORK5CYII=\n",
       "\" style=\"display:inline;vertical-align:middle;\" /></a><br>(see <a class=\"ProveItLink\" href=\"../__pv_it/e00652e9d641cc2db488ade92e94593ae95f88b80/dependencies.ipynb\">dependencies</a>)<br>"
      ],
      "text/plain": [
       "intExpOfExp: forall_{n in Integers} [forall_{a in Complexes, b in Complexes | a != 0} ((a^{b})^{n} = a^{b * n})]"
      ]
     },
     "execution_count": 2,
     "metadata": {},
     "output_type": "execute_result"
    }
   ],
   "source": [
    "%proving intExpOfExp presuming []"
   ]
  },
  {
   "cell_type": "code",
   "execution_count": null,
   "metadata": {},
   "outputs": [],
   "source": []
  }
 ],
 "metadata": {
  "kernelspec": {
   "display_name": "Python 3",
   "language": "python",
   "name": "python3"
  }
 },
 "nbformat": 4,
 "nbformat_minor": 0
}
