{
 "cells": [
  {
   "cell_type": "markdown",
   "metadata": {},
   "source": [
    "Proof of <a class=\"ProveItLink\" href=\"../../../_context_.ipynb\">proveit</a>.<a class=\"ProveItLink\" href=\"../../_context_.ipynb\">number</a>.<a class=\"ProveItLink\" href=\"../_context_.ipynb\">exponentiation</a>.<a class=\"ProveItLink\" href=\"../_theorems_.ipynb#sameExpDistribute\">sameExpDistribute</a> theorem\n",
    "========"
   ]
  },
  {
   "cell_type": "code",
   "execution_count": 1,
   "metadata": {},
   "outputs": [],
   "source": [
    "import proveit\n",
    "context = proveit.Context('..') # the theorem's context is in the parent directory"
   ]
  },
  {
   "cell_type": "code",
   "execution_count": 2,
   "metadata": {},
   "outputs": [
    {
     "name": "stdout",
     "output_type": "stream",
     "text": [
      "Beginning proof of sameExpDistribute\n",
      "Recorded 'presuming' information\n",
      "Presuming previous theorems (applied transitively).\n"
     ]
    },
    {
     "data": {
      "text/html": [
       "<strong id=\"sameExpDistribute\">sameExpDistribute:</strong> <a class=\"ProveItLink\" href=\"../__pv_it/26148075c54437cb6cbfa020de41dc6ac12a7f390/expr.ipynb\"><img src=\"data:image/png;base64,iVBORw0KGgoAAAANSUhEUgAAAS8AAAAYBAMAAABZ+GZKAAAAMFBMVEX///8QEBCIiIhmZma6urrM\n",
       "zMxUVFQiIiJERETc3Nzu7u6qqqp2dnaYmJgyMjIAAAAcRTyBAAAAAXRSTlMAQObYZgAAA9dJREFU\n",
       "SMfNV11IFFEUPuqO487urD0YBEEsCiIStSBBlMKilPRQrg+VFNUiSQgSFiX9Iz7EqFkLJYoVTVZW\n",
       "aiWIlWKwKPZgf5sFZZjsg0FJyRIEZRDdn7mz8yu6hXjgxOnM3nO/c88597sCLDEpDMIJWIoSnuWW\n",
       "LUK6jmzg5YVEcN6sTq79P2CuKmqZrjtdLgVXyAJAxCJUP9KUcKqXGFHs+Zg4LqGWqnW6bcWQA1Bp\n",
       "XnbHKlYqyoD3JwWI8Qx7phMH5glRJULS1Uk+lAPcNy/7YpkkOiU+UEKNVpzpP1T1jaJESLo6OQLL\n",
       "UUG9xlWizzLYEOrK8vPU8KDedPckDuy4ohQYTlcnRx0xdACmOeNDlsGuA9yFJmqIo52dLYnjclZT\n",
       "VYaQpKuVzTm4iaeMy2x29PihyhGlBvyUpFOJA0v2URUyKwuHlHQZykP+PUIoDY/fsHFZFtL27Eur\n",
       "4zUuzuAi4PbB1udkmlHICoD6xIHhfbF2wzvvGSVdNnhjebWp4W3YnCSbzRAh3YXwC2HxMK/+XGjK\n",
       "Wo/Kx/6PjSIyA3FxnTtQrt/88dMar52H76E6Cq/kLUq6IJB/ZTRYjokwNh8Z8zmJcMruWUeI/I4s\n",
       "wRPoYk2BDR6S2WUnDOZFhDKZ+6oG6BougFsNsDds50nyU5VBim/7gGbKNTDHPiOwDAwljVwGwh/q\n",
       "KkMAuZjyHRvuCM9+/r6/E8QrAIPqVDe2yTAeBlfYzsOAAXzXzFyQNj7MBQwgnZ56De3IIBiAOaM7\n",
       "8MWxLjvgwOXf1IdcjPaK8Ird6GrCR94y3Qx6j6aUwP0wbu4Kxjtb02NBpZQIrvbOe0jQsVISo34/\n",
       "Giz5IO/3YNeHcQ3t4ZKI9xQMGye8oPdomn8gOQa5emC9AAzapBE0an6XvBZtq2bhg1RD80MvQsfB\n",
       "N4Ab2DXQH6c9AR+hq4vB6EINoffQuUbq+J0WM/Ayd/rFGr9KTAZB90dJzwWV/AF2ToxNYUpTuU0t\n",
       "9S/0UZIk7+XtcdrjjklSnbNPOXEBbaP3KGeOVCjPzTK8BFLgtXqvfjICQ7XtyGwviKfiE1eh8B4W\n",
       "mBiiTLqNw2eJ4rXTcSe0R0qxwUtHuhl2gd5joiS7F0j1PCnptsm45o66wY1hOvMDMORsoLQ3gr9d\n",
       "HEEs3Co7q57Uaj1WJG4jCyFxg9HxdmgUoBGb3TNnA9xKSntpeN6El58roLRH5FbIWg/r/hDVucTi\n",
       "2VNv9+zRG4z4UI8pQ6LQXo5Up3xjD5C4x/xQtJP6eT4U1QTtM+3X0x5YPo/NT2trEef7tB43GSaJ\n",
       "MNpTgy/2X0t/AUkbKhMGd9IfAAAAAElFTkSuQmCC\n",
       "\" style=\"display:inline;vertical-align:middle;\" /></a><br>(see <a class=\"ProveItLink\" href=\"../__pv_it/26148075c54437cb6cbfa020de41dc6ac12a7f390/dependencies.ipynb\">dependencies</a>)<br>"
      ],
      "text/plain": [
       "sameExpDistribute: forall_{x in Complexes, y in Complexes, z in Complexes} ((x^{y} * z^{y}) = (x * z)^{y})"
      ]
     },
     "execution_count": 2,
     "metadata": {},
     "output_type": "execute_result"
    }
   ],
   "source": [
    "%proving sameExpDistribute presuming []"
   ]
  },
  {
   "cell_type": "code",
   "execution_count": null,
   "metadata": {},
   "outputs": [],
   "source": []
  }
 ],
 "metadata": {
  "kernelspec": {
   "display_name": "Python 3",
   "language": "python",
   "name": "python3"
  }
 },
 "nbformat": 4,
 "nbformat_minor": 0
}
