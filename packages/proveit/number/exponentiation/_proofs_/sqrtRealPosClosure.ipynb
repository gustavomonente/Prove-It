{
 "cells": [
  {
   "cell_type": "markdown",
   "metadata": {},
   "source": [
    "Proof of <a class=\"ProveItLink\" href=\"../../../_context_.ipynb\">proveit</a>.<a class=\"ProveItLink\" href=\"../../_context_.ipynb\">number</a>.<a class=\"ProveItLink\" href=\"../_context_.ipynb\">exponentiation</a>.<a class=\"ProveItLink\" href=\"../_theorems_.ipynb#sqrtRealPosClosure\">sqrtRealPosClosure</a> theorem\n",
    "========"
   ]
  },
  {
   "cell_type": "code",
   "execution_count": 1,
   "metadata": {},
   "outputs": [],
   "source": [
    "import proveit\n",
    "context = proveit.Context('..') # the theorem's context is in the parent directory"
   ]
  },
  {
   "cell_type": "code",
   "execution_count": 2,
   "metadata": {},
   "outputs": [
    {
     "name": "stdout",
     "output_type": "stream",
     "text": [
      "Beginning proof of sqrtRealPosClosure\n",
      "Recorded 'presuming' information\n",
      "Presuming previous theorems (applied transitively).\n"
     ]
    },
    {
     "data": {
      "text/html": [
       "<strong id=\"sqrtRealPosClosure\">sqrtRealPosClosure:</strong> <a class=\"ProveItLink\" href=\"../__pv_it/9d6164a5c7485b83c3ad11501333dfb8cdd9adbe0/expr.ipynb\"><img src=\"data:image/png;base64,iVBORw0KGgoAAAANSUhEUgAAAKUAAAAbBAMAAADvxVLsAAAAMFBMVEX///8QEBCIiIhmZma6urrM\n",
       "zMxUVFQiIiJERETc3Nzu7u6qqqp2dnaYmJgyMjIAAAAcRTyBAAAAAXRSTlMAQObYZgAAAsJJREFU\n",
       "SMfFlU1oE0EUx192k0022UQPgqAYoqiIFxej2GKViOJJcXvRHoQs9eOoFT8C6iEHwU2lEjzU4sEu\n",
       "BBQCkmAPIggG9JSgRPBQSoW14KViEHrRCOqbiTs7Q7fpehAf7PIy8/Kbmf+89xbgP1kkFyjMxEcK\n",
       "yjzpOuovYl9XCCviEzYDMhddR+m7YcKEN8GQcsb1HsKqzKgN4BDnQ9/Yadv19i+fTF6yfn6c8JiS\n",
       "DtASDudrr1wnPuYzm4qbkYlxUDqddOcLSo5qTxHpi32ZG11Hq/vMxtQGFCfZPuEGLmOvEMtM7bre\n",
       "Y354tlBwXOZgymMOoB7NavV+320m17oef6cjO7l9DsY85mZ8vlnWzeUgjbt2h5NTHdq9gfqL/NnN\n",
       "ox7zBB78HEDJJ384wVy1pTbAoXKKprxS5piJy4seM28AHIa405eZIqVxhKQebm8TyPSvMe6O1hc+\n",
       "U6+3zHSORJL1mT3bcWZBZEYx46Q0OltwuAtRWgHDHbQ/d/RaH+cANWRq7SjLvxfZtqRBM6Nl92VZ\n",
       "fqeQ+WAXRqKcoSLUDDI4xefSnhG+QjBSdViLmH1eBWTOtUU9ydlrRUjiBmsNeEkHQzwz9iTjheeJ\n",
       "BKWz+Kps/wRhnVwEMhsCUyECyt9pJdfqcCFRFnoAMiPmXi+c3DvM4JniVyNdoImLzKwuMCWSn+oS\n",
       "zBNAJnlNc8uF1Sa0FIOFvyOvNbikrEfGoEIJ8vkr4h2FaR1dtK8TxUe3TW6lo49u2ayHGLG7P1j4\n",
       "AB3FyVBdMuGUZVkZSbv3nrR2TvV1VKaWLmbbsdsFx6/sFlgClGNzttI7e+K0LUYN0SOm7UDNNs66\n",
       "Q6icPw6a0dOz2RDDhskrsRSsgSfZxyM8+vQAwB2S828blYNimELbVikYM2qIvyXU0+84zl98Y+cD\n",
       "xs0ER67S3j1L5AIzZRv+if0GP+eoKNuQOy4AAAAASUVORK5CYII=\n",
       "\" style=\"display:inline;vertical-align:middle;\" /></a><br>(see <a class=\"ProveItLink\" href=\"../__pv_it/9d6164a5c7485b83c3ad11501333dfb8cdd9adbe0/dependencies.ipynb\">dependencies</a>)<br>"
      ],
      "text/plain": [
       "sqrtRealPosClosure: forall_{a in RealsPos} (sqrt(a) in RealsPos)"
      ]
     },
     "execution_count": 2,
     "metadata": {},
     "output_type": "execute_result"
    }
   ],
   "source": [
    "%proving sqrtRealPosClosure presuming []"
   ]
  },
  {
   "cell_type": "code",
   "execution_count": null,
   "metadata": {},
   "outputs": [],
   "source": []
  }
 ],
 "metadata": {
  "kernelspec": {
   "display_name": "Python 3",
   "language": "python",
   "name": "python3"
  }
 },
 "nbformat": 4,
 "nbformat_minor": 0
}
