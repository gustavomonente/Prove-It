{
 "cells": [
  {
   "cell_type": "markdown",
   "metadata": {},
   "source": [
    "Proof of <a class=\"ProveItLink\" href=\"../../../_context_.ipynb\">proveit</a>.<a class=\"ProveItLink\" href=\"../../_context_.ipynb\">number</a>.<a class=\"ProveItLink\" href=\"../_context_.ipynb\">exponentiation</a>.<a class=\"ProveItLink\" href=\"../_theorems_.ipynb#complexXToFirstPowerIsX\">complexXToFirstPowerIsX</a> theorem\n",
    "========"
   ]
  },
  {
   "cell_type": "code",
   "execution_count": 1,
   "metadata": {},
   "outputs": [],
   "source": [
    "import proveit\n",
    "context = proveit.Context('..') # the theorem's context is in the parent directory"
   ]
  },
  {
   "cell_type": "code",
   "execution_count": 2,
   "metadata": {},
   "outputs": [
    {
     "name": "stdout",
     "output_type": "stream",
     "text": [
      "Beginning proof of complexXToFirstPowerIsX\n",
      "Recorded 'presuming' information\n",
      "Presuming previous theorems (applied transitively).\n"
     ]
    },
    {
     "data": {
      "text/html": [
       "<strong id=\"complexXToFirstPowerIsX\">complexXToFirstPowerIsX:</strong> <a class=\"ProveItLink\" href=\"../__pv_it/0474ff8758dc70df71fa2d03da2d6e6bf044b93f0/expr.ipynb\"><img src=\"data:image/png;base64,iVBORw0KGgoAAAANSUhEUgAAAIMAAAAcBAMAAACwgxHDAAAAMFBMVEX///8QEBCIiIhmZma6urrM\n",
       "zMxUVFQiIiJERETc3Nzu7u6qqqp2dnaYmJgyMjIAAAAcRTyBAAAAAXRSTlMAQObYZgAAAhhJREFU\n",
       "OMutVE9IFGEU/zHt7LjjzObBm5fVwIMEBhF1UFgUEU+OiOatkEK8RHhVqlOMGBgoFKj4sYKHRXBB\n",
       "RBQPsd02ogmC/qAweBSTRQh0u/S+3Z11lPl6UT3Yncd73/t9v+/9A/5MRvCvMnj7r0P1dFXpjfZr\n",
       "PMQwfg8Ru89CHDIQeM8hXElxEIYAfKnsKw4sCw5CuwG8u8D3krwFB5EoAq/l95niQBMLgUkgSVyt\n",
       "nOKKUk3dUkHcAexCNvtK4bYbAm3u6ajiTDP9Tl13SlUQyrXZMt6Vj3JmWuevU8H66RUPgWkFRB3l\n",
       "aA2fU08Cg3VcFqoCzDf2hEFX3HOAbph+OK7+xVhAOkm9V8AH0RcBbwmrFHtJdacRMKB5VbO5e9Mz\n",
       "R4R+FPQNXSfgRjI0yxyBdYKwPCMwf9nOwl4EdgMWkjFOFM+8Wm5dySLhy1nK32p1YjKiZ5NMQS7k\n",
       "EOk/QuwruajMlswC/dNjMP2A+lQ8MtJJafr29TwiTlR3tCLaIjjUi3aKqlQEG4/pKnwHVqRrZzs0\n",
       "AA2I/awrJrwIiP7cLJbo+/H8TWfAXdd1UwtDoW1Qgjnadi1yCFdbMp1epTupByUVvagjXm6njMx2\n",
       "VRr5pXRQm2rLt2DJ/CQ6HNS6sYNFMGtjtPopXwBmpLp2/NwJzAMshH1p82mUiwuGeI6DMByOps9B\n",
       "7LE8Nxi/clmFGijN7GeB/yG/AORDfx2EXCEQAAAAAElFTkSuQmCC\n",
       "\" style=\"display:inline;vertical-align:middle;\" /></a><br>(see <a class=\"ProveItLink\" href=\"../__pv_it/0474ff8758dc70df71fa2d03da2d6e6bf044b93f0/dependencies.ipynb\">dependencies</a>)<br>"
      ],
      "text/plain": [
       "complexXToFirstPowerIsX: forall_{x in Complexes} (x^{1} = x)"
      ]
     },
     "execution_count": 2,
     "metadata": {},
     "output_type": "execute_result"
    }
   ],
   "source": [
    "%proving complexXToFirstPowerIsX presuming []"
   ]
  },
  {
   "cell_type": "code",
   "execution_count": null,
   "metadata": {},
   "outputs": [],
   "source": []
  }
 ],
 "metadata": {
  "kernelspec": {
   "display_name": "Python 3",
   "language": "python",
   "name": "python3"
  }
 },
 "nbformat": 4,
 "nbformat_minor": 0
}
