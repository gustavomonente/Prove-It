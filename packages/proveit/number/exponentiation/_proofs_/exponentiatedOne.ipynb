{
 "cells": [
  {
   "cell_type": "markdown",
   "metadata": {},
   "source": [
    "Proof of <a class=\"ProveItLink\" href=\"../../../_context_.ipynb\">proveit</a>.<a class=\"ProveItLink\" href=\"../../_context_.ipynb\">number</a>.<a class=\"ProveItLink\" href=\"../_context_.ipynb\">exponentiation</a>.<a class=\"ProveItLink\" href=\"../_theorems_.ipynb#exponentiatedOne\">exponentiatedOne</a> theorem\n",
    "========"
   ]
  },
  {
   "cell_type": "code",
   "execution_count": 1,
   "metadata": {},
   "outputs": [],
   "source": [
    "import proveit\n",
    "context = proveit.Context('..') # the theorem's context is in the parent directory"
   ]
  },
  {
   "cell_type": "code",
   "execution_count": 2,
   "metadata": {},
   "outputs": [
    {
     "name": "stdout",
     "output_type": "stream",
     "text": [
      "Beginning proof of exponentiatedOne\n",
      "Recorded 'presuming' information\n"
     ]
    },
    {
     "data": {
      "text/html": [
       "<strong id=\"exponentiatedOne\">exponentiatedOne:</strong> <a class=\"ProveItLink\" href=\"../__pv_it/8b2e697c051dfd4f5345d90d4eca96f5086609c80/expr.ipynb\"><img src=\"data:image/png;base64,iVBORw0KGgoAAAANSUhEUgAAAH8AAAAVBAMAAACd/CwcAAAAMFBMVEX///8QEBCIiIhmZma6urrM\n",
       "zMxUVFQiIiJERETc3Nzu7u6qqqp2dnaYmJgyMjIAAAAcRTyBAAAAAXRSTlMAQObYZgAAAaZJREFU\n",
       "OMtjYCAGHDJVC2AgB3BeAFNMC/LYHbDJ7wTiByDGXRwGrIBQrAxvscuzTWBgOA1ivMJhwEsg3rgA\n",
       "SPzElOOWYmDgAlo/A+TSBuz6eQ0YuHLygQawfmBFl1t27BcocBgY+IDyPBuwG8AOdCHD/QUM83ke\n",
       "8GCaDjJgIZA+tWrVdBw+AIsDDVh25dAp7AbwAcP2R0dHDQ4DlKEGYPcfyAAeAwaGVAaGThwG9KIb\n",
       "cO4dCDxGGMALDEVncFgihW5PehKUWU3QBdwFwJBiYLoAFePaY3yBK2IB6xsoX4SgAawfgN64wA4T\n",
       "u7FzFQPvHAaGPSQZwPkgDJraWYAhwuC6FSiEywuQMHiGMIAF6AWGzhRoaucDid+6iScQMVwACkSG\n",
       "zQXQ1L4YJL5rJ0LNYRChj8MAJpABzAeABL8CAyS1h3d0dCjMDkWocQdiM/nHF7DpZ078ZwtMSKBc\n",
       "zruAAZLa2cASi4CxgZyU8YLlMAY4tfOAjOO0CQBlEVhmIlTSwPMWOLV3g5hr3rXBS59OAvpRkyAw\n",
       "XIBhgK1AwQk4JhBXpOEEwCgHAOXhhUBQXQjsAAAAAElFTkSuQmCC\n",
       "\" style=\"display:inline;vertical-align:middle;\" /></a><br>(see <a class=\"ProveItLink\" href=\"../__pv_it/8b2e697c051dfd4f5345d90d4eca96f5086609c80/dependencies.ipynb\">dependencies</a>)<br>"
      ],
      "text/plain": [
       "exponentiatedOne: forall_{x in Complexes} (1^{x} = 1)"
      ]
     },
     "execution_count": 2,
     "metadata": {},
     "output_type": "execute_result"
    }
   ],
   "source": [
    "%proving exponentiatedOne presuming []"
   ]
  },
  {
   "cell_type": "code",
   "execution_count": null,
   "metadata": {},
   "outputs": [],
   "source": []
  }
 ],
 "metadata": {
  "kernelspec": {
   "display_name": "Python 3",
   "language": "python",
   "name": "python3"
  }
 },
 "nbformat": 4,
 "nbformat_minor": 0
}
