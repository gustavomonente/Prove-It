{
 "cells": [
  {
   "cell_type": "markdown",
   "metadata": {},
   "source": [
    "Proof of <a class=\"ProveItLink\" href=\"../../../_context_.ipynb\">proveit</a>.<a class=\"ProveItLink\" href=\"../../_context_.ipynb\">number</a>.<a class=\"ProveItLink\" href=\"../_context_.ipynb\">exponentiation</a>.<a class=\"ProveItLink\" href=\"../_theorems_.ipynb#intExpOfNegExp\">intExpOfNegExp</a> theorem\n",
    "========"
   ]
  },
  {
   "cell_type": "code",
   "execution_count": 1,
   "metadata": {},
   "outputs": [],
   "source": [
    "import proveit\n",
    "context = proveit.Context('..') # the theorem's context is in the parent directory"
   ]
  },
  {
   "cell_type": "code",
   "execution_count": 2,
   "metadata": {},
   "outputs": [
    {
     "name": "stdout",
     "output_type": "stream",
     "text": [
      "Beginning proof of intExpOfNegExp\n",
      "Recorded 'presuming' information\n",
      "Presuming previous theorems (applied transitively).\n"
     ]
    },
    {
     "data": {
      "text/html": [
       "<strong id=\"intExpOfNegExp\">intExpOfNegExp:</strong> <a class=\"ProveItLink\" href=\"../__pv_it/264bad6cb8998b23b5d222fee76f2600d71a09950/expr.ipynb\"><img src=\"data:image/png;base64,iVBORw0KGgoAAAANSUhEUgAAAXsAAAAmCAMAAAASh8ukAAAAOVBMVEX///8oKCgUFBQNDQ0QEBCI\n",
       "iIhmZma6urrMzMxUVFQiIiJERETc3Nzu7u6qqqp2dnaYmJgyMjIAAAArQGDrAAAAAXRSTlMAQObY\n",
       "ZgAABS1JREFUaN7dWomOhCgQdXflPvX/P3bBAwoFpOljjCSTTLqrquFR59Nh6F5qdMsM91vW3nBT\n",
       "g2Lxf+yhU+8YG4dbLjTdc18k3dd72PN7HvGtQ33VKdjDsVcj/ZsflqUv4n4m+2zsGWuL/08nJlO0\n",
       "qkm4Hoj387Cns2yDCn/4ymXZKpY5x3ge9hNrlNOfvXJTsRo7HDqr52IvG91+aJVrdXtaszqFjyf0\n",
       "XOxxYxqnM0IMHN5iSxHqz0P8ZBVaRKHG2vG52I8IxEBlxEJcDR4YvXmkJaOTHnuDQfLE6tGiZjEu\n",
       "CcB+6h4HV+z79b+ScmJDp0RFULg7slOokVIhf5i51xWJgFYVPlgkcSuRCHDYm1AeJtWDfb/+N9iE\n",
       "OZdkd3z25fY5OvfD3hvV5jsM+ansJbiBObI69maVLt4OLNLooGwC2Mv9TqToyjn9+t9I9xxk8Gqp\n",
       "9fgvXmPWLOUnMmyGzrmMioPV1CKJzReaYb7f3dXoLuz79b+weLx/Xs3dLjFbsc3Ba7LyHxLdif0G\n",
       "RbSaWrSRcdShFfLYW6P8krzzB7v1v7BmfKh+RUdlZsdjIrtnItNdsbg6WE0sYgIaLA37nHnJWtx0\n",
       "Yt+t/w3sQ5sT+kWJDUa1fu61CbdgDlWDHjS+arYQ+3UuELIX+9f0m5gUUv3d5bAGnS87HmwQ23/E\n",
       "171prtXn7H7MBFa8naK5WrHTNuceC/YEg3qfm9lGYbDAuIT9lf6ghWGcobKfpQIXJ8F7BtXs3GKG\n",
       "U3K9ZXP/Ca4i80KyLJsj5XSlkgPPJpmteDJ6RR1tMLZr1TIKqeJsldff1RX1XRidzJFJKQnUsZcL\n",
       "4pzk2vGYTJd2z8O0yHBUHXFf6KPK5nQx7lPkQklasfcF4Xz5Vmip/PfuPNRmhsSAfVY/qFu5gKrN\n",
       "gUkpCtSx9/fkkot3/lFfYj+KIP0J7BvMNbcDK/ZychX6SEIQGCl4MBVOIeq7+EJsolCd0K1xkymT\n",
       "UhQ4Yh9MrtJmNeKFub3KOWqJcF1Fl/DLfM9CPbk2d5W1DjnH1UlGjiQEzN9W5hrfyOcEfcXpxpMG\n",
       "dauszDEpRYED9sEkW9qp/9yf3X7jFPsq9jlrrVVLILhZspwRCrW2ANy1uUvWw6bY620eBCQELBAK\n",
       "5dweYL/rD74gU57UF63SjQLOIy9wwD6YhL3c6vfjKe8Gp9or+vJrnA2VBhi/0Bw3mLskUPWBxwz+\n",
       "EkgIyleywn9hXKn1F1PmMXd9n4GXJ8JR3YVMEjM751EUOGAfTEJ+bE2586kVHdkhkyiGEJUMVZrW\n",
       "6YXs3WDuqnsOm96xt+pEQsQGzs3FPk6MLGO/6SvvjsL6ChrVsUKxLY+cR1EgxT6aZC7x/vuPT7+2\n",
       "1OcMYmrkFLKn+A3bpw7YD2cSwtBYaHG2JGV27SoFnZdWN6q7SZCunJX0PcrOeeQEsn4fTO795T62\n",
       "nvv7wYyNXBpQQT/FPu7wiD0kIcSWmCxjzJiJswbsCUMa4UTdybmeQfjhl3p/D5xHRiCHPTC59pcb\n",
       "+CbHBWgQCm2Dtvrxi1TxeXL1uRXa831ftObUdaP9fH+vL0scIBXqz05evKGPLbDBHz8zbG7NxBUl\n",
       "VVQE0SkbWEn7W+gBhfxr7Jsp2iz2tuEBgb3pO6Khdkb/ueuzctwf0/rW2AMa5HnvRt31JeRtdyAs\n",
       "H/g+5l+9Ctu2Ofto7O2NHT8Jyie+fy/QXaGXybtXT8TeE5833VjSB7yH/Vyfvf7Mvbi8Z0DaZKyc\n",
       "33qVjLp1x2PKWzq+InCHbg3/AwCqQJiCtseAAAAAAElFTkSuQmCC\n",
       "\" style=\"display:inline;vertical-align:middle;\" /></a><br>(see <a class=\"ProveItLink\" href=\"../__pv_it/264bad6cb8998b23b5d222fee76f2600d71a09950/dependencies.ipynb\">dependencies</a>)<br>"
      ],
      "text/plain": [
       "intExpOfNegExp: forall_{n in Integers} [forall_{a in Complexes, b in Complexes | a != 0} ((a^{-b})^{n} = a^{-(b * n)})]"
      ]
     },
     "execution_count": 2,
     "metadata": {},
     "output_type": "execute_result"
    }
   ],
   "source": [
    "%proving intExpOfNegExp presuming []"
   ]
  },
  {
   "cell_type": "code",
   "execution_count": null,
   "metadata": {},
   "outputs": [],
   "source": []
  }
 ],
 "metadata": {
  "kernelspec": {
   "display_name": "Python 3",
   "language": "python",
   "name": "python3"
  }
 },
 "nbformat": 4,
 "nbformat_minor": 0
}
