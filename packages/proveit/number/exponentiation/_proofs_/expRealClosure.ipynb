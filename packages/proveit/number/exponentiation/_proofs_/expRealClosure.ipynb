{
 "cells": [
  {
   "cell_type": "markdown",
   "metadata": {},
   "source": [
    "Proof of <a class=\"ProveItLink\" href=\"../../../_context_.ipynb\">proveit</a>.<a class=\"ProveItLink\" href=\"../../_context_.ipynb\">number</a>.<a class=\"ProveItLink\" href=\"../_context_.ipynb\">exponentiation</a>.<a class=\"ProveItLink\" href=\"../_theorems_.ipynb#expRealClosure\">expRealClosure</a> theorem\n",
    "========"
   ]
  },
  {
   "cell_type": "code",
   "execution_count": 1,
   "metadata": {},
   "outputs": [],
   "source": [
    "import proveit\n",
    "context = proveit.Context('..') # the theorem's context is in the parent directory"
   ]
  },
  {
   "cell_type": "code",
   "execution_count": 2,
   "metadata": {},
   "outputs": [
    {
     "name": "stdout",
     "output_type": "stream",
     "text": [
      "Beginning proof of expRealClosure\n",
      "Recorded 'presuming' information\n",
      "Presuming previous theorems (applied transitively).\n"
     ]
    },
    {
     "data": {
      "text/html": [
       "<strong id=\"expRealClosure\">expRealClosure:</strong> <a class=\"ProveItLink\" href=\"../__pv_it/09c47a15951a0f5b27f436aef8bb56537e459a510/expr.ipynb\"><img src=\"data:image/png;base64,iVBORw0KGgoAAAANSUhEUgAAAVkAAAAcCAMAAAD8zjyCAAAAOVBMVEX///8oKCgUFBQNDQ0QEBCI\n",
       "iIhmZma6urrMzMxUVFQiIiJERETc3Nzu7u6qqqp2dnaYmJgyMjIAAAArQGDrAAAAAXRSTlMAQObY\n",
       "ZgAABMJJREFUaN7tWtly4zgM1MyKJwge+v+PXZ4ST8seJ29iVZSyw+bRBBoAlW172l1jzj0k/E4z\n",
       "9OHgZxpn7WenP4KTh8EVsaL74lCfqYd4OJw3hx3TByECP1EP+5A4a7T3ZiJxIx9JrQzncIU9+zAd\n",
       "mjp68wRPtX2RHli5AxzO7VAYjOdg9MoJnkQgt90HNPpSO92G/u8cLGA+nfCAclbwsBp5HBKBYMT7\n",
       "y/QANmXSr3wAUlemavTD6lQMgmra1uwsSN9czyxVRVxp6G8Nhqbkw2okbZ9kYcY0n4Hg1GY9s/kE\n",
       "SBzlgNCk+UU7uEsgX6BuU0n+D1PyNZSelqiooWQfgw+OASkzK85UlkXLF3ECeDMbfquIbmuY9ZkR\n",
       "Q8IfNZtFkhvsHbhfKI6YGRSK37PdM+KOsYdQC53VkhbS+RFIZTQexGL9WhIQ1JFl7Bw6xJlWK1G1\n",
       "ndiwHJHcaL7+dhes/ngLbhdK+QQzgbpsdbjbopcDjTNm9yC8+lLreGhBYcmQzKI2lNpQBfvlGCRD\n",
       "Eb3q0E3OG7NDUTmHZDnyYtxOWYI9UbwzWUUFX4Drgj3Bmmo/Be0eg2MuJfN50OjPcrwD4LsrrbFZ\n",
       "b6BwygQmZkMxNsQvC1ohbpk4i7YvopcdOmZFp2YKiuVhdJmYz7jwFWEXCQklBiVUFPgUHPYsbT1l\n",
       "U+3HTY8YNxity8zucAL69S+yLso4dDar3HkJgZQId0pENoRInOmK6GWHnlnZDhxjK8U0VNhXpCO5\n",
       "DFwuKitsA97QAJuBA3uumrKp9pmZTjhxVcjWfEQ9PmYJ7yqfBbSn1+RjBSWSuaDk/su26I3EUUq7\n",
       "InrZoWM2ZXPXwDkMkjj96XBR/DbDiskmVM4EO7Dn1geKARw0IBXoCZYXKmLm85//sROMHuRAQGY2\n",
       "WLZwm1a39wqFWW+elNe5gR+fZuMI9HAZraQijgohWVdErzt0zDJoBr7SRpUPdidnL4Risukzg20G\n",
       "Js5uIzg6fAWrq32iK0uqMWxwbbJX+5RilpxIPa9uQ7GV9evMig9yVXZERMmKRx2G9yapiGVdEb3u\n",
       "0DMrmoFLQhGMNqlYVCSeKPBGm4IKq54tGAnoS2crMA9nbfU15VXtI9TCXk/Ih5SoWBsKQrgSZJKY\n",
       "+SjMcLyR4SFlc9HWr5zC5tHCmYINcUk0zq65wa6IXnbomOXQDpzEIPU+Q3Xh0FOQ/CnFgvSswVlk\n",
       "Z+CkqXDC8kKFj+F//4RIbicTTi6pd/ZGvm6gqW7H3K1XjOiiLIiV4Y2MmhCgVPC3UkTPOsyYRdkO\n",
       "fAWwdNmWlM6acmcsKlR6XmCkcG27A/MkT8FoE+yq9pVYYK55axn9gWIUh8sHJogmNMVpXQoB44zf\n",
       "k6/6eLDVs4iedJjnBtgMrESV7hOT03nKan8tqPw8wZy3NVgNLmkAFNhV7V9p5jAhZZN89QcuH17e\n",
       "OZIso029dddhwizR7W0Gn19w1jXoiSJv3b+5GogDTJv1hDOHFt9f+kn+IUC/+6YNbqrBYWC7GOKd\n",
       "O+MleFuzlzF69hoFv/7vAvuxoLz9OqfZGbuF4eQlU0K1WA2l4Tvg7VTexYQ4f7mlv/z3gt98h0A/\n",
       "M3WCSwe5d5MX4DsMWbyf0uy73T+vvX61/Q85mzzLMqptbQAAAABJRU5ErkJggg==\n",
       "\" style=\"display:inline;vertical-align:middle;\" /></a><br>(see <a class=\"ProveItLink\" href=\"../__pv_it/09c47a15951a0f5b27f436aef8bb56537e459a510/dependencies.ipynb\">dependencies</a>)<br>"
      ],
      "text/plain": [
       "expRealClosure: forall_{a in Reals, b in Reals | (a > 0) or ((a >= 0) and (b != 0))} (a^{b} in Reals)"
      ]
     },
     "execution_count": 2,
     "metadata": {},
     "output_type": "execute_result"
    }
   ],
   "source": [
    "%proving expRealClosure presuming []"
   ]
  },
  {
   "cell_type": "code",
   "execution_count": null,
   "metadata": {},
   "outputs": [],
   "source": []
  }
 ],
 "metadata": {
  "kernelspec": {
   "display_name": "Python 3",
   "language": "python",
   "name": "python3"
  }
 },
 "nbformat": 4,
 "nbformat_minor": 0
}
