{
 "cells": [
  {
   "cell_type": "markdown",
   "metadata": {},
   "source": [
    "Proof of <a class=\"ProveItLink\" href=\"../../../_context_.ipynb\">proveit</a>.<a class=\"ProveItLink\" href=\"../../_context_.ipynb\">number</a>.<a class=\"ProveItLink\" href=\"../_context_.ipynb\">exponentiation</a>.<a class=\"ProveItLink\" href=\"../_theorems_.ipynb#addOneRightInExpRev\">addOneRightInExpRev</a> theorem\n",
    "========"
   ]
  },
  {
   "cell_type": "code",
   "execution_count": 1,
   "metadata": {},
   "outputs": [],
   "source": [
    "import proveit\n",
    "context = proveit.Context('..') # the theorem's context is in the parent directory"
   ]
  },
  {
   "cell_type": "code",
   "execution_count": 2,
   "metadata": {},
   "outputs": [
    {
     "name": "stdout",
     "output_type": "stream",
     "text": [
      "Beginning proof of addOneRightInExpRev\n",
      "Recorded 'presuming' information\n",
      "Presuming previous theorems (applied transitively).\n"
     ]
    },
    {
     "data": {
      "text/html": [
       "<strong id=\"addOneRightInExpRev\">addOneRightInExpRev:</strong> <a class=\"ProveItLink\" href=\"../__pv_it/f39b4fdd136817083b467bb69e4d516c4121f65a0/expr.ipynb\"><img src=\"data:image/png;base64,iVBORw0KGgoAAAANSUhEUgAAAR0AAAAcCAMAAABrn5tYAAAAOVBMVEX///8oKCgUFBQNDQ0QEBCI\n",
       "iIhmZma6urrMzMxUVFQiIiJERETc3Nzu7u6qqqp2dnaYmJgyMjIAAAArQGDrAAAAAXRSTlMAQObY\n",
       "ZgAAA41JREFUWMPVWYdy4yAQ9V0Eorf//9ijSHSEyOjshJlkduzVQ7xdtvn1+h1r1/o9kIi+fuGS\n",
       "8B2QCELyg0lAeyv5pcXsUbC6VwaJk0eR74G9hRzcSmEZNr0peHGzDJLW7CyDvWNp3kqBLAMA5pOb\n",
       "otYskUE27KyCvWNB0ErHtSH8BWahh/CVzXLIlp0AluK2+jhbzPBGOl3fsqVmaQssRe4cssOOB5Ni\n",
       "4MsfzUtNOtlsjIZ4yu7Kbgck1nZt7p8q2PFg7KSNfT7Rb6KVzgjKOx+2V0ss7JZDdnwngJ0uI8UP\n",
       "vlguCqi5+eCKhXPI9JwgBZiS3C32+SpIba2UEryUNwLttlQ9JMh4gSAxGORghrpF5MfZgbqRGJQQ\n",
       "bJcBMVfZzTx2diF7PhfAMPLfs3tHuNXw7Fdf+hcDEjTmoLSW9s2+lb6MtYUKMiiFeJ0t2Ne/ZCeA\n",
       "7e5RfnFmQSUmp7/1upNSYbBZ9Avkr7N9qk5BGlcS31Q/mCTLlyrM7BO7DSBZNwx6MBdxQFPscCEh\n",
       "tJ9yRO3LIC3r7mSkcM0O8wcn+5E0ijAJKwl6DdL0PNykO1io8Ck7I8gekQHMFc1NTFZUMO6QFPPH\n",
       "FrLqToYK1+w4Ju3GqJO2k/8f0kajbsVj9LJSZe47Q8ih7zAdez4OAdbxuvl7igTKne/sToYKNTsR\n",
       "MmjLAOKUSeWvFJcSN05ZmEv7FiooayyLuIP7+pM+LIBRhgPnnCD7YdFgKK5YrzsZKlTsREjsU+OX\n",
       "/VPHHrV/Y1pK3Djnwvol2JidQmWas25AVjnLcnmOfKA9NiLe4DHi8hLo6E7GChU7ETJwKzKzbGBU\n",
       "rRyS38veIjlplqKKmtY7NyCbosuAVMAD54WIeEtbLCYQ6nQnY4WKnQjpTUdPE7pH6iCRLH9IHAOA\n",
       "GAYXwaRUmdfKNyCbwlvx46WtSalysTZlW8hBnkXP7mSoULKTIF239/fP0e11c5ZnvpbWxkNPjvQa\n",
       "MFspIbO7YClRVls6WVovcfnm7E56Cl3fiZBnNj/HA02984KylVYWNw+OGVqwHQMBoD8KjemW2+hP\n",
       "XUGNnM/E7qSj0GMngwzZ/KBH9mbeWystNWpPjjuvwUAIK2VRPFO4rHfE1CGwaKWVrhs9yM4ymLjZ\n",
       "iw3YmTdoqZ/h3/j5Sj3ZSK+D3R6tdtlRN9xBwFa6PR56cnz3P2eB3/9lTuytdHfTJye/8ONj5J+/\n",
       "/gE4+yz6PpFFhQAAAABJRU5ErkJggg==\n",
       "\" style=\"display:inline;vertical-align:middle;\" /></a><br>(see <a class=\"ProveItLink\" href=\"../__pv_it/f39b4fdd136817083b467bb69e4d516c4121f65a0/dependencies.ipynb\">dependencies</a>)<br>"
      ],
      "text/plain": [
       "addOneRightInExpRev: forall_{a in Complexes, b in Complexes | a != 0} ((a^{b} * a) = a^{b + 1})"
      ]
     },
     "execution_count": 2,
     "metadata": {},
     "output_type": "execute_result"
    }
   ],
   "source": [
    "%proving addOneRightInExpRev presuming []"
   ]
  },
  {
   "cell_type": "code",
   "execution_count": null,
   "metadata": {},
   "outputs": [],
   "source": []
  }
 ],
 "metadata": {
  "kernelspec": {
   "display_name": "Python 3",
   "language": "python",
   "name": "python3"
  }
 },
 "nbformat": 4,
 "nbformat_minor": 0
}
