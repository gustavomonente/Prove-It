{
 "cells": [
  {
   "cell_type": "markdown",
   "metadata": {},
   "source": [
    "Proof of <a class=\"ProveItLink\" href=\"../../../_context_.ipynb\">proveit</a>.<a class=\"ProveItLink\" href=\"../../_context_.ipynb\">number</a>.<a class=\"ProveItLink\" href=\"../_context_.ipynb\">exponentiation</a>.<a class=\"ProveItLink\" href=\"../_theorems_.ipynb#expNotEqZero\">expNotEqZero</a> theorem\n",
    "========"
   ]
  },
  {
   "cell_type": "code",
   "execution_count": 1,
   "metadata": {},
   "outputs": [],
   "source": [
    "import proveit\n",
    "context = proveit.Context('..') # the theorem's context is in the parent directory"
   ]
  },
  {
   "cell_type": "code",
   "execution_count": 2,
   "metadata": {},
   "outputs": [
    {
     "name": "stdout",
     "output_type": "stream",
     "text": [
      "Beginning proof of expNotEqZero\n",
      "Recorded 'presuming' information\n",
      "Presuming previous theorems (applied transitively).\n"
     ]
    },
    {
     "data": {
      "text/html": [
       "<strong id=\"expNotEqZero\">expNotEqZero:</strong> <a class=\"ProveItLink\" href=\"../__pv_it/0167e7a9b0ff224aee6b48a02f41148ef9862e8c0/expr.ipynb\"><img src=\"data:image/png;base64,iVBORw0KGgoAAAANSUhEUgAAANIAAAAcCAMAAAAjpRG0AAAAPFBMVEX///8kJCQoKCgUFBQNDQ0Q\n",
       "EBCIiIhmZma6urrMzMxUVFQiIiJERETc3Nzu7u6qqqp2dnaYmJgyMjIAAAChkoCbAAAAAXRSTlMA\n",
       "QObYZgAAAxpJREFUWMPdWIlu4yAQZdty3/D//7oMYBwwPiKrineR2ijOeMyb483DCD16sRDQ/7Yc\n",
       "/fcxcNZ9DfaNe8kzEYn+e9TvlKl4IqRgeoSREGGul6l/HiI61A6RBpFZO7k5TgmXV0bxn4eo47BT\n",
       "lSD6Cenp7poj3vESAoDv7E7OH8FvOJEFnXSIYAOFGKlLTOCfWoCrz9cdHvkNsoa3pNft1eMcjZI3\n",
       "aV+S4+zz6g56w09CLfhrceYs2nIvBWvvDCwtP5+kEu+e051Dx0lCMUNiMaeEZBdRwZLuAXy3NL2m\n",
       "jhK829vqNUkm0gKJlA/TsqguzrRLqosd/Zh3ShzZxlDV6DOcNhPilj1CXl8/8J+2anV1gpUPQMPg\n",
       "R3OwUauckILsq67eAPZ2lAqeqz3dtWGyUK4Y7JeuOE9SgkQLFle+5XBCF5HNUDLWUZquGq5SXHlw\n",
       "o+raMziGpPO2Jat01pNBiRbNP0hyTTP1hWcKJJARG3LwymoDrr3Oe7VuUF27BseQAH56MJ9Rdi0m\n",
       "rJrJ1MPQIrEynn3JUhrFC3JDiQitGjN6botv3auuXYMRUnNZrGvhg7EcK6PQscklZCOa99IfXDpK\n",
       "9B3oS855jbjSdRobydPFTid54/VMde0aDJCaS5GJ9Sf9+fqMTWkJVSBBvEVAdspYQU+pv45aVqvZ\n",
       "0lp3NO2Vyxza1vqm91xV177BAKm5LAGxaI0lHiGVoVIeIQWajhW2ZSdQDAbzfrRFsgoSAhnlMsc0\n",
       "OdeW84nq2jcYIDWXOQFqaWm4JY5cX0NsBCFcC8IunD6yvUu9UPfQeNKb+qQUPOWh6VdWoYas42RV\n",
       "XbsGPaTVpUj1//0FXeD3GC/H63jZk4N7GDOfRhyPDLrWtcinSc6zgE86xKyqa2YwzVJzuRD4cgjY\n",
       "ziVETyXMyXHBbMLEBLGE5ucru+Y1BAWJ5ZCdpromBjNILy4LgVdMbvaihOOzJJ1g9odHdVJapfd4\n",
       "ZnA4l+y5jBT2VpKQ5G/KSnv13cYc0gVxaMIN8Vh01pviH92B5K8cyOyd93a/eYq9sS/Lbjz2868a\n",
       "fmf9BbixJ5Z655PaAAAAAElFTkSuQmCC\n",
       "\" style=\"display:inline;vertical-align:middle;\" /></a><br>(see <a class=\"ProveItLink\" href=\"../__pv_it/0167e7a9b0ff224aee6b48a02f41148ef9862e8c0/dependencies.ipynb\">dependencies</a>)<br>"
      ],
      "text/plain": [
       "expNotEqZero: forall_{a in Complexes, b in Complexes | a != 0} (a^{b} != 0)"
      ]
     },
     "execution_count": 2,
     "metadata": {},
     "output_type": "execute_result"
    }
   ],
   "source": [
    "%proving expNotEqZero presuming []"
   ]
  },
  {
   "cell_type": "code",
   "execution_count": null,
   "metadata": {},
   "outputs": [],
   "source": []
  }
 ],
 "metadata": {
  "kernelspec": {
   "display_name": "Python 3",
   "language": "python",
   "name": "python3"
  }
 },
 "nbformat": 4,
 "nbformat_minor": 0
}
