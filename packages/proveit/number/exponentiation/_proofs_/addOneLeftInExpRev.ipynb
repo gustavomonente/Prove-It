{
 "cells": [
  {
   "cell_type": "markdown",
   "metadata": {},
   "source": [
    "Proof of <a class=\"ProveItLink\" href=\"../../../_context_.ipynb\">proveit</a>.<a class=\"ProveItLink\" href=\"../../_context_.ipynb\">number</a>.<a class=\"ProveItLink\" href=\"../_context_.ipynb\">exponentiation</a>.<a class=\"ProveItLink\" href=\"../_theorems_.ipynb#addOneLeftInExpRev\">addOneLeftInExpRev</a> theorem\n",
    "========"
   ]
  },
  {
   "cell_type": "code",
   "execution_count": 1,
   "metadata": {},
   "outputs": [],
   "source": [
    "import proveit\n",
    "context = proveit.Context('..') # the theorem's context is in the parent directory"
   ]
  },
  {
   "cell_type": "code",
   "execution_count": 2,
   "metadata": {},
   "outputs": [
    {
     "name": "stdout",
     "output_type": "stream",
     "text": [
      "Beginning proof of addOneLeftInExpRev\n",
      "Recorded 'presuming' information\n",
      "Presuming previous theorems (applied transitively).\n"
     ]
    },
    {
     "data": {
      "text/html": [
       "<strong id=\"addOneLeftInExpRev\">addOneLeftInExpRev:</strong> <a class=\"ProveItLink\" href=\"../__pv_it/c9a0a6e11fdb24e8ba276e01296ae7bb3ceda9100/expr.ipynb\"><img src=\"data:image/png;base64,iVBORw0KGgoAAAANSUhEUgAAAR0AAAAcCAMAAABrn5tYAAAAOVBMVEX///8oKCgUFBQNDQ0QEBCI\n",
       "iIhmZma6urrMzMxUVFQiIiJERETc3Nzu7u6qqqp2dnaYmJgyMjIAAAArQGDrAAAAAXRSTlMAQObY\n",
       "ZgAAA3VJREFUWMPVWYuWoyAM7e4K8gb5/49dQEElQbQ605mcM9OcEq5yCXnQ1+u3yzhN705l8km0\n",
       "nymWvskNpeI5tG8RNkKtI5NJH+QNt1vZ4ffRvoEcDrWeeDUvld9hR95H+3qZNNR6hHpCeDS27gF2\n",
       "bqB9uVACtZ4QoV8kBQuh77NToa0h2n2cLeU10LoiA48urYLQ++xUaNZc9uVvyD4XMscQojflM6Vv\n",
       "scOnIEP85wCayqwp+fGDNRio9YOyLubC3PadGi27jDW/8mDF+OCWtdGLG2wgOzWaszqKEh93HTdA\n",
       "7UwRYG0OqcOlzaDCc1LnrBrNyyjCfj5jTUBT1FIyaHRtcGQ843I4JOJ1MxpnaVg92NYclrnpxYgl\n",
       "YDukrLVxCG81YcEWHWGebUL8tBF6PBFlZ0Yb41R9sGYjLRfFB5F0sjfAn7V6CEvHOcyqy9GJV5oe\n",
       "3D6alB0HI0u46nYf+MQwFQuDCS1GHAKKHW0speFbzWR4KTbZfSPSNjhmR6WFi3HJD7v4SiuNJgtR\n",
       "aNc+72E9kse77OATcSJntFg0g5jspFE6IjmVlm3svhFpGxyzE5kMD2ZI2l79f9EGWWwX1rJ3gZGz\n",
       "voNPbKTQhKam0vNpSvhUjls6p8ywre/lRqRpULNTIGdrO4NEY1H5q+R7TftobDy2regI86oRd/jx\n",
       "xEYDN6NJxWfStWDhy12D4bRTWFvTNKjYKZA8pcZ/4c8tz6j9m8u9pr1JpezLKMAOOtLPWW3IVs4K\n",
       "XOZrIBqWzUTa8BJx9R5oaUTaBhU7BXLm1my2ZajYWcuVRUvPCqfJ4s0VGDlRJrUh2+WXJ2sBT6IX\n",
       "MpF2OmApwxjS1rQNKnYKZNo6mbcwTqmjxLr1i6Y5IUxxAqMJPnKiVm5DwgAuy+lYXjpsqXQx1q7Z\n",
       "lmqyzaa5EWka7NlZIWOz9/fP0uyhOSsxX2uXbocevdEDaKFSYn6MwdKyTW0ZdRu8JOab3IhgBqjv\n",
       "FMiczfP1AKh3XtRC7YJo/+QtA0QbOTGEpqXIkm51iP4yFtQs+kxpRBADjJ0N5JzNF3osUlWyAWpX\n",
       "+rRHbzuP0cgcVvZFcc/gsN4xXYfgBmrnRbAn2bmMZk72Yg12+g3a2s/o6z8ruUf76Otop69WUXbc\n",
       "CXcwFGpnLyQevb37yrvA938xMyPUTj7z0Ytf+vFr5J8v/wEUUSz6JSqI0wAAAABJRU5ErkJggg==\n",
       "\" style=\"display:inline;vertical-align:middle;\" /></a><br>(see <a class=\"ProveItLink\" href=\"../__pv_it/c9a0a6e11fdb24e8ba276e01296ae7bb3ceda9100/dependencies.ipynb\">dependencies</a>)<br>"
      ],
      "text/plain": [
       "addOneLeftInExpRev: forall_{a in Complexes, b in Complexes | a != 0} ((a * a^{b}) = a^{1 + b})"
      ]
     },
     "execution_count": 2,
     "metadata": {},
     "output_type": "execute_result"
    }
   ],
   "source": [
    "%proving addOneLeftInExpRev presuming []"
   ]
  },
  {
   "cell_type": "code",
   "execution_count": null,
   "metadata": {},
   "outputs": [],
   "source": []
  }
 ],
 "metadata": {
  "kernelspec": {
   "display_name": "Python 3",
   "language": "python",
   "name": "python3"
  }
 },
 "nbformat": 4,
 "nbformat_minor": 0
}
