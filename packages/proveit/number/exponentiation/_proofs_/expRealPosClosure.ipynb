{
 "cells": [
  {
   "cell_type": "markdown",
   "metadata": {},
   "source": [
    "Proof of <a class=\"ProveItLink\" href=\"../../../_context_.ipynb\">proveit</a>.<a class=\"ProveItLink\" href=\"../../_context_.ipynb\">number</a>.<a class=\"ProveItLink\" href=\"../_context_.ipynb\">exponentiation</a>.<a class=\"ProveItLink\" href=\"../_theorems_.ipynb#expRealPosClosure\">expRealPosClosure</a> theorem\n",
    "========"
   ]
  },
  {
   "cell_type": "code",
   "execution_count": 1,
   "metadata": {},
   "outputs": [],
   "source": [
    "import proveit\n",
    "context = proveit.Context('..') # the theorem's context is in the parent directory"
   ]
  },
  {
   "cell_type": "code",
   "execution_count": 2,
   "metadata": {},
   "outputs": [
    {
     "name": "stdout",
     "output_type": "stream",
     "text": [
      "Beginning proof of expRealPosClosure\n",
      "Recorded 'presuming' information\n",
      "Presuming previous theorems (applied transitively).\n"
     ]
    },
    {
     "data": {
      "text/html": [
       "<strong id=\"expRealPosClosure\">expRealPosClosure:</strong> <a class=\"ProveItLink\" href=\"../__pv_it/a685f398f6617e43aa1a5dafd1b92c50d007d6660/expr.ipynb\"><img src=\"data:image/png;base64,iVBORw0KGgoAAAANSUhEUgAAAOMAAAAcBAMAAABhZBWzAAAAMFBMVEX///8QEBCIiIhmZma6urrM\n",
       "zMxUVFQiIiJERETc3Nzu7u6qqqp2dnaYmJgyMjIAAAAcRTyBAAAAAXRSTlMAQObYZgAAA3hJREFU\n",
       "SMfFll1IU2EYxx+3ne3s7GzrIgiT4pRlUgTDlWikLASv+lgQ6kWwYV9WIJbWIr0YVnZUjNGFSTeO\n",
       "hIKVKX0iRI0+LpoWC7oQsVhGXVgNLwpyQfSc73fTjcmGHTi87znve57fe573//x5AfJ77Y3Bcl+s\n",
       "Y/lYB6TGNpp2hhdvXR6JlFdq7YG0U/x4G7z5Q9qCUutZfyITEt7kD1kmt5uCxRmRJlyaqLAPuRLN\n",
       "CbnTCR+TBqyn+L+f+jSkDuU1LnRm8ybUlVCeknHGS/X1gDEeXxv/gWubAxgQ1ujPFVmgCDUBRckj\n",
       "tDkM/n71L6Fd2nd2NFfkoKweOG+Vlz/p88UUZKVNQ1ZgsiOh0LWc1fNO6dRNSG3DZuIvK2kNuQ7v\n",
       "3zzfkTOyWtienWWrlWdmlkyst1ZD7sN8HAHozsosDakvdM/DSpfHe1fANqc8GwME0tI6qyE9boAa\n",
       "YMjoj0sPzZAatJzuquakj7WScIvNNDxS3nzFH1sDelWGNCGfVb5vYk9axaALixN0USUdT5xRHQsR\n",
       "TjHL2y+qgAuzN1LCME3i521gV1TTCqBPgIlTZuyP4yXL56Wjh/ilEUSyUZPyODkWAkRORWWztPZe\n",
       "DyLSOpyCBHMXjjK/tNr4jHXihxG3MmGALJJtDaS2EWmO1WFvqOQLGIRcCsiwbJY1whxE3iGQTFkz\n",
       "BqYuBIGaB5OSny5cfhieaXVKIulhTkN6hAR1H8ZAZ6gEiNWDSKdDNsuYhNQ7CeQtt0fIpmEGKCKT\n",
       "TYgchWaLoho9RyAp73YNKSgW7rfgFAfVAkMiUn+0TTZLRlQQV37MRSCdUC+ZZyH+ZYESGauN5qxn\n",
       "WTVyO2F4MG50J1ewnRMMS+eFep7nOR179b1sltQ5nu8E7vVWElkEJWL7lMO9tLu0tTONG/s3qJFv\n",
       "Xgyqtu6mr/xRByrEtzg4EqCngkYpsZaDQdksvVJiH0Y0JDMPfSGhbCNJii1wpRbt7su+RY9BM+p2\n",
       "Bzx7gHVLexkJm3tEs3wlIVlSPoXUT9RMww7sFmt1qQ9naVNMQnWWxntVAL2CFbwND1VTRaJZ0lgD\n",
       "lo7vjDOmIWu3FEeh/7iYkAn1bEWtyBJpTTmJ6HAvZc+RmlLcS1joKNSlBaFOZok0udONjC3yjs4U\n",
       "6m6WyOm0I9GlIi3ZnV+XeBjQZxx9kF2MIPyP6x836+FZcEX0sQAAAABJRU5ErkJggg==\n",
       "\" style=\"display:inline;vertical-align:middle;\" /></a><br>(see <a class=\"ProveItLink\" href=\"../__pv_it/a685f398f6617e43aa1a5dafd1b92c50d007d6660/dependencies.ipynb\">dependencies</a>)<br>"
      ],
      "text/plain": [
       "expRealPosClosure: forall_{a in Reals, b in Reals | a > 0} (a^{b} in RealsPos)"
      ]
     },
     "execution_count": 2,
     "metadata": {},
     "output_type": "execute_result"
    }
   ],
   "source": [
    "%proving expRealPosClosure presuming []"
   ]
  },
  {
   "cell_type": "code",
   "execution_count": null,
   "metadata": {},
   "outputs": [],
   "source": []
  }
 ],
 "metadata": {
  "kernelspec": {
   "display_name": "Python 3",
   "language": "python",
   "name": "python3"
  }
 },
 "nbformat": 4,
 "nbformat_minor": 0
}
