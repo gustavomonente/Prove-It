{
 "cells": [
  {
   "cell_type": "markdown",
   "metadata": {},
   "source": [
    "Proof of <a class=\"ProveItLink\" href=\"../../../_context_.ipynb\">proveit</a>.<a class=\"ProveItLink\" href=\"../../_context_.ipynb\">number</a>.<a class=\"ProveItLink\" href=\"../_context_.ipynb\">exponentiation</a>.<a class=\"ProveItLink\" href=\"../_theorems_.ipynb#negIntExpOfNegExp\">negIntExpOfNegExp</a> theorem\n",
    "========"
   ]
  },
  {
   "cell_type": "code",
   "execution_count": 1,
   "metadata": {},
   "outputs": [],
   "source": [
    "import proveit\n",
    "context = proveit.Context('..') # the theorem's context is in the parent directory"
   ]
  },
  {
   "cell_type": "code",
   "execution_count": 2,
   "metadata": {},
   "outputs": [
    {
     "name": "stdout",
     "output_type": "stream",
     "text": [
      "Beginning proof of negIntExpOfNegExp\n",
      "Recorded 'presuming' information\n",
      "Presuming previous theorems (applied transitively).\n"
     ]
    },
    {
     "data": {
      "text/html": [
       "<strong id=\"negIntExpOfNegExp\">negIntExpOfNegExp:</strong> <a class=\"ProveItLink\" href=\"../__pv_it/12820527055f265412e70e63d3bb7dc96832354b0/expr.ipynb\"><img src=\"data:image/png;base64,iVBORw0KGgoAAAANSUhEUgAAAWYAAAAcCAMAAABlNuU3AAAAOVBMVEX///8oKCgUFBQNDQ0QEBCI\n",
       "iIhmZma6urrMzMxUVFQiIiJERETc3Nzu7u6qqqp2dnaYmJgyMjIAAAArQGDrAAAAAXRSTlMAQObY\n",
       "ZgAABFhJREFUaN7tWtm2pCgQpKdlJ1n8/48dUEBEUHTKmTq3h3Puy62MEIMktyqE/rRFnftqvp+y\n",
       "DPluvmpxIYT6MgkZvbZx+rPPbPPh7O1eJvMP6MX3OSrjA0bzh32jzUeLrSj+s2R2MHAUM8a8a2eJ\n",
       "ZRjfCQMlX4k29qfKTNJNVbZvhAWgRQnd8kJLJ4+dbjh85qvRAgqZtzRp7QOZn8M/v9QcXwzkiZX0\n",
       "Z2GXbfOjmApweK0Zxp8a+YDU6O1OeJmNvnPjDjI/h79YQrhKPyrT8nucfJYkyy0Gd/wUca8anW48\n",
       "NfKxxYdLtJoLmVU6eSWfBI3n8M+vSacIeZqxIFsa3CBhXjWD2HgG3PgqtNBFbE5eaPQTmZ/D34sZ\n",
       "52WmD5k2ugRMDZJgQvW4zAVfhSaykNkaCEvdzmgr4DH848umyyouij6Ty1hHm3UYNjfyTMm3R+Op\n",
       "rDTmJS7dL6Hj2zyFf77OiOk4px5FDMETvNPAXZMjmq7XIjNfXFyqhzLfgw9NAE5buWXr2ODDucp4\n",
       "R2V0JhqSkptPL8D1Zowr1nYqA+S+omaFzJRsWbfZVE/SEElIR+YrONLScMFx34H2BkGoM59lS6Ty\n",
       "qLrmd/EfMfNAKGG3+Nje2tNQN0LuIzUt25PwLHyMRqANIXbNKAYw9NqTNjyhgYU6iTlTTwB6Bucy\n",
       "xx3TRnEryFZhBQ2WzwU+97enAWqAHMFe5hCyj8dqpVYQyLwuzDb6qgRpwjPaqkU/baoJQNfgXOal\n",
       "toXlNk5VbeP2Mk8yW35e5hHy2puVSzOXoien5eUmyPSb7Q3uWyHMHSvRlMXqRu0nAF2DWuZMuVqb\n",
       "lSQYi+rk5S5owBxM9bmOVNyLzTz76QB53OY205CK07onL4OtVa06Mm8xw0Ewzw0l2oJVrQlA16CS\n",
       "OVPypaD57f9sfEZ9ZfkuBcIc1OauPboYT4GdcDBAXlUa/liIqDt6KJwZcMuZN5kTHIU0yQQq0Rr2\n",
       "OykmAG2DSuZMuR6SLtxkqmROZWpMssuTBEdnlSZ5WoaOkOdCPk/o5rTj3JMzsbb54QPjM2A4g+6E\n",
       "LsFDtMR8h/b3gLUmAF2DSuZMWY6E1qA407bzxEgAHGOmOD6rDh17KPMI+b4LXG/uoSffyiXfO4Zr\n",
       "aFRX5giH4GTShsS2oQngrdzdJgBdg73MGyX3ofGvXyFA2k6lkXIfGv5OB95tXR3uzJuLntywLf+R\n",
       "ZrY47tEHdTbT5UxY0S2xdUqjQpWQJgAtg6Y3Z8pytyG6H+rmHALsaG9n8JsqQ/aDWuayJ5dp3sW5\n",
       "79qd4NcyU441Jju0f5rP1TK0iix4cZ4ANAxaMheUazEXdTaNNodNOSeP6fDuV9KWo47M+5SSYvN5\n",
       "s30DrQfp23WzvsxXXO9j+FUee/cLY8GGZB6caYwvPfpabZXcuHuqkQmbfVdla9B/I/PwdLEpsx0Y\n",
       "aOt3fzJxa4In0Ydkfu13Gs/F0vRbZCaQO00hOPp//RvrbxA8NxZ7thXnAAAAAElFTkSuQmCC\n",
       "\" style=\"display:inline;vertical-align:middle;\" /></a><br>(see <a class=\"ProveItLink\" href=\"../__pv_it/12820527055f265412e70e63d3bb7dc96832354b0/dependencies.ipynb\">dependencies</a>)<br>"
      ],
      "text/plain": [
       "negIntExpOfNegExp: forall_{n in Integers} [forall_{a in Complexes, b in Complexes | a != 0} ((a^{-b})^{-n} = a^{b * n})]"
      ]
     },
     "execution_count": 2,
     "metadata": {},
     "output_type": "execute_result"
    }
   ],
   "source": [
    "%proving negIntExpOfNegExp presuming []"
   ]
  },
  {
   "cell_type": "code",
   "execution_count": null,
   "metadata": {},
   "outputs": [],
   "source": []
  }
 ],
 "metadata": {
  "kernelspec": {
   "display_name": "Python 3",
   "language": "python",
   "name": "python3"
  }
 },
 "nbformat": 4,
 "nbformat_minor": 0
}
