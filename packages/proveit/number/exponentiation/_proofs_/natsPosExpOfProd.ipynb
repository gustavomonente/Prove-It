{
 "cells": [
  {
   "cell_type": "markdown",
   "metadata": {},
   "source": [
    "Proof of <a class=\"ProveItLink\" href=\"../../../_context_.ipynb\">proveit</a>.<a class=\"ProveItLink\" href=\"../../_context_.ipynb\">number</a>.<a class=\"ProveItLink\" href=\"../_context_.ipynb\">exponentiation</a>.<a class=\"ProveItLink\" href=\"../_theorems_.ipynb#natsPosExpOfProd\">natsPosExpOfProd</a> theorem\n",
    "========"
   ]
  },
  {
   "cell_type": "code",
   "execution_count": 1,
   "metadata": {},
   "outputs": [],
   "source": [
    "import proveit\n",
    "context = proveit.Context('..') # the theorem's context is in the parent directory"
   ]
  },
  {
   "cell_type": "code",
   "execution_count": 2,
   "metadata": {},
   "outputs": [
    {
     "name": "stdout",
     "output_type": "stream",
     "text": [
      "Beginning proof of natsPosExpOfProd\n",
      "Recorded 'presuming' information\n",
      "Presuming previous theorems (applied transitively).\n"
     ]
    },
    {
     "data": {
      "text/html": [
       "<strong id=\"natsPosExpOfProd\">natsPosExpOfProd:</strong> <a class=\"ProveItLink\" href=\"../__pv_it/df01b73454c2c5c04f40f6150fc38998d2437f050/expr.ipynb\"><img src=\"data:image/png;base64,iVBORw0KGgoAAAANSUhEUgAAAVgAAAAYBAMAAABNbfirAAAAMFBMVEX///8QEBCIiIhmZma6urrM\n",
       "zMxUVFQiIiJERETc3Nzu7u6qqqp2dnaYmJgyMjIAAAAcRTyBAAAAAXRSTlMAQObYZgAABFxJREFU\n",
       "WMPVV12IG1UU/nYz2WwmM9k+KKKlMO6q9aFI6IIPuqu7iPZBtKFgFRQbQosoKIGui6iUtYIkrcKg\n",
       "YKUqTruIZWtNUIJdaWnYtAr1hwEruEWXgFa0yLKID5qqeO+5M9k7kzsTF6HQD04y3PnOvd+cOefe\n",
       "M8BlxdffDOdwpeDcBlx7pWhNHy6h/d/Dbo5vG1njCv3L+bUpcoWFMc9swNLWKR2UYTcn3T6b/DI2\n",
       "sDSFFh/9Pm5xY6I3R8YRzyToL5SYULZgXz7RyKscusJ+5Brg4EYMOeSHx5mdxuf8zsV4sb05Mn7x\n",
       "TEaWvV+dPfM7SN2bVzmgK+w/MCtiUvjhAxL7Bn+mmXixvTnyu8sJC2Coxn4WgHvQ/6XKgRAM+yVm\n",
       "V2MsSX4wLC4267CrWrzY3hwJKVtYAFvZDDgU7UAIhF1jGZFewVRd+OnruFjz7NzcAcSL7c2RcMCz\n",
       "AD6jXJiIdCAEwm6wLNcK2OR6fj9ysfijXH5eMUVDEhvFUWLEs/TY5us6gz8N384mykU6BMgiy4sj\n",
       "/rskvyaJ3QVUFFPkZLERnPtbisFXPJu0syud3eAfp2rDXKUby4QcFGSB6kX9Tz+pud8Sib1LlFus\n",
       "2DAn8/JjRcihOv7ptOVdPidM34AE1STP1kwbQxYyJWVkZbJ4NP5zysFv/mrc72MSm0K/vIMnd5/G\n",
       "9YWQWImjnxh19Yec5K/8VfEXdbQ5jnf34VE/b64SlmgjZVFQ2U+ihWoDyRWlWInsBZUH5g7of/mS\n",
       "uN8OEmu4qQ6NL3zccBJOc3T3aG1VrMT5dn4O5lvACb4hsTo29x90sNhAJiS2bwZVKu1psc1urcWI\n",
       "7ZDF9lCgbVa71C023dre2fH4wietnBFOA8GZvekCND5+N9tP0nyC4SdYhrCqfZitZAfTgEXy1Oo2\n",
       "6+JOB1opnLMFKMgCf/Nwe7sY99tCYlHZ6bcMfGHU6692iSWO/nSyjSwfOb8o7mx0Rui4No/ZXQVW\n",
       "reGpjD88NMGyUi6wUEUGyAK/45DbXWD4qOS3DDRZ3Tj2SJdYzknkkiXM8pFP5sWdvVjSOS9zVFqo\n",
       "KWzQMqcNf2zAHWS8REMpNkwWeBIv+pfkNybEsjoVLQMtjDoazS6xnNNX6y/gwXK5bL35gJ9ttyaf\n",
       "KZf3puvSeb9FmF688fUbOvW9me/2WXX3FiYLzG7qlD35XRBiTcdrGWhhJvZtXk35gFjOqdqD550B\n",
       "etTDYn9pYz0o7W6zxBYVedwS3utx3EaB++klIZZALUNBRFbbFjpuvT7D3nEfjDydN3kspPfhWXMG\n",
       "Z/it185QpxHdyBAWojufWKw2Ml4vSS0DLXwO+E4pVit+OA7s55fvL7+UT67H9i9YuvEdTv/q510d\n",
       "fgXq805vRYipxGuVWkRPCLUMfGFtzwQGlGK97waWs97BIv5uZqnTq/kmDNox3XoMyK8iiUXEwiRv\n",
       "j7ow5tf4WbMY9x0UA+5nMsG3TP2Prz/3sn9v/guCFFjCrtC9MAAAAABJRU5ErkJggg==\n",
       "\" style=\"display:inline;vertical-align:middle;\" /></a><br>(see <a class=\"ProveItLink\" href=\"../__pv_it/df01b73454c2c5c04f40f6150fc38998d2437f050/dependencies.ipynb\">dependencies</a>)<br>"
      ],
      "text/plain": [
       "natsPosExpOfProd: forall_{n in NaturalsPos} [forall_{a in Complexes, b in Complexes} ((a * b)^{n} = (a^{n} * b^{n}))]"
      ]
     },
     "execution_count": 2,
     "metadata": {},
     "output_type": "execute_result"
    }
   ],
   "source": [
    "%proving natsPosExpOfProd presuming []"
   ]
  },
  {
   "cell_type": "code",
   "execution_count": null,
   "metadata": {},
   "outputs": [],
   "source": []
  }
 ],
 "metadata": {
  "kernelspec": {
   "display_name": "Python 3",
   "language": "python",
   "name": "python3"
  }
 },
 "nbformat": 4,
 "nbformat_minor": 0
}
