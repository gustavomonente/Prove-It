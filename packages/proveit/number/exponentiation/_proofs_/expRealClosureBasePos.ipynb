{
 "cells": [
  {
   "cell_type": "markdown",
   "metadata": {},
   "source": [
    "Proof of <a class=\"ProveItLink\" href=\"../../../_context_.ipynb\">proveit</a>.<a class=\"ProveItLink\" href=\"../../_context_.ipynb\">number</a>.<a class=\"ProveItLink\" href=\"../_context_.ipynb\">exponentiation</a>.<a class=\"ProveItLink\" href=\"../_theorems_.ipynb#expRealClosureBasePos\">expRealClosureBasePos</a> theorem\n",
    "========"
   ]
  },
  {
   "cell_type": "code",
   "execution_count": 1,
   "metadata": {},
   "outputs": [],
   "source": [
    "import proveit\n",
    "context = proveit.Context('..') # the theorem's context is in the parent directory"
   ]
  },
  {
   "cell_type": "code",
   "execution_count": 2,
   "metadata": {},
   "outputs": [
    {
     "name": "stdout",
     "output_type": "stream",
     "text": [
      "Beginning proof of expRealClosureBasePos\n",
      "Recorded 'presuming' information\n",
      "Presuming previous theorems (applied transitively).\n"
     ]
    },
    {
     "data": {
      "text/html": [
       "<strong id=\"expRealClosureBasePos\">expRealClosureBasePos:</strong> <a class=\"ProveItLink\" href=\"../__pv_it/0e661032d7e434ade6de5848825fc15021a622c40/expr.ipynb\"><img src=\"data:image/png;base64,iVBORw0KGgoAAAANSUhEUgAAANUAAAAcBAMAAAAEiefMAAAAMFBMVEX///8QEBCIiIhmZma6urrM\n",
       "zMxUVFQiIiJERETc3Nzu7u6qqqp2dnaYmJgyMjIAAAAcRTyBAAAAAXRSTlMAQObYZgAAA2JJREFU\n",
       "SMe9ll9IU1Ecx39uu+7u7m7rIQiT4JZlUgTDlWSkLASf+nODUB+CDftnBWJpLdIHsbKrYoweTHrp\n",
       "klCwMqW/CGGX/jw0LRb0IGKxjHqwCB8KckH0u3/OdjanSza8MM7v3nPu+ZzzO9/fdxcgt9feKCzb\n",
       "xbuXAXJAb5zD6btNOUQxfr11BdP3W/y5YzllvfWtO5F+wJvcsUqNdqNclH6AFRej6eZDtihbzAg6\n",
       "4GNSh+OU9PdTr3pgKJox9clMzuS3EspSksv5md5uXM0sQL+6qvZsWXlEfjEoTO5hbQq092HQqh8q\n",
       "P5wt64YhDTjvMNY9EQhECavcicF2TGg4FLqWtTTekaBmXG/rNlH7KmcxWIu/35LUljWrUj2JnaWr\n",
       "yT03Q+fQX43BPtz6EYCu/zI2yzwveK6QUMLfrqBzltznBymWvVkl+0SAKuDoaZ+UHJqmlWU/3Vkp\n",
       "6G8lFC5qzRQ8Jk++4lbWgDmuMZbSxqrAN+1IvVhkYIqQnT/1REw8hAVibHdeVICg8DdT3ucatGW3\n",
       "gItIohnAHAOrQEbs/4GXoY2X7m41GEIWH7GSERMjIUDWZMQwNkfPdRlZjsEUFtg6sZf7lZD6Z5R9\n",
       "OwyJZEA/rfmtdWRftmgNRgPFX8Cipk1lKYaxValjkHWXYnGljTgjc0EGZg6sJCOduG4FniXqjWax\n",
       "g+p+fWouug7jDGeYGDhBZ3nchrFFdZbZQ7Fuiz41cZZpYKikNSBrGBrtRBJmgWIx/m2GDuFBE/a5\n",
       "mSYY0Fjmoy2GsXGaPISyY16K5YFa3egKcF95ZEosHlZwnOXj22mlPArG8kWjBF2C6jEmP9RKkiSY\n",
       "+KvvDWNjzklSBwivt9CsQijW2lEBz8vlNWbERXP1G/rWx1m3Lspx7xXZK38038BbfDoUZCflfD2H\n",
       "9oOyYWx+PYePwgkWNwe9IbX8wkk6zPOmFt/uy4HkCp2On2XQtwd4UT+vsGLr1oztlc7iaW0UMD9R\n",
       "EHU7MCxK1JdZyeQsXCzuCfX3KwB61Fp+qwxUMoWasbEoaXvbd84TTbCqNxdFoO+4loLx+IcMsyIT\n",
       "y5HyEWDC8zLcQm9K8Lxgvhcwl+ZNdTITyyou1DOS5hm72FT3MrGmFuyJLJVlz/BduMS/Y/OivQ8z\n",
       "vCzDsl7/ANWy2A65VrLHAAAAAElFTkSuQmCC\n",
       "\" style=\"display:inline;vertical-align:middle;\" /></a><br>(see <a class=\"ProveItLink\" href=\"../__pv_it/0e661032d7e434ade6de5848825fc15021a622c40/dependencies.ipynb\">dependencies</a>)<br>"
      ],
      "text/plain": [
       "expRealClosureBasePos: forall_{a in Reals, b in Reals | a > 0} (a^{b} in Reals)"
      ]
     },
     "execution_count": 2,
     "metadata": {},
     "output_type": "execute_result"
    }
   ],
   "source": [
    "%proving expRealClosureBasePos presuming []"
   ]
  },
  {
   "cell_type": "code",
   "execution_count": null,
   "metadata": {},
   "outputs": [],
   "source": []
  }
 ],
 "metadata": {
  "kernelspec": {
   "display_name": "Python 3",
   "language": "python",
   "name": "python3"
  }
 },
 "nbformat": 4,
 "nbformat_minor": 0
}
