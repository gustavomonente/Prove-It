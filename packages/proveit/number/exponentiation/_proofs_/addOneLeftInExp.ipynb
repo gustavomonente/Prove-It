{
 "cells": [
  {
   "cell_type": "markdown",
   "metadata": {},
   "source": [
    "Proof of <a class=\"ProveItLink\" href=\"../../../_context_.ipynb\">proveit</a>.<a class=\"ProveItLink\" href=\"../../_context_.ipynb\">number</a>.<a class=\"ProveItLink\" href=\"../_context_.ipynb\">exponentiation</a>.<a class=\"ProveItLink\" href=\"../_theorems_.ipynb#addOneLeftInExp\">addOneLeftInExp</a> theorem\n",
    "========"
   ]
  },
  {
   "cell_type": "code",
   "execution_count": 1,
   "metadata": {},
   "outputs": [],
   "source": [
    "import proveit\n",
    "context = proveit.Context('..') # the theorem's context is in the parent directory"
   ]
  },
  {
   "cell_type": "code",
   "execution_count": 2,
   "metadata": {},
   "outputs": [
    {
     "name": "stdout",
     "output_type": "stream",
     "text": [
      "Beginning proof of addOneLeftInExp\n",
      "Recorded 'presuming' information\n",
      "Presuming previous theorems (applied transitively).\n"
     ]
    },
    {
     "data": {
      "text/html": [
       "<strong id=\"addOneLeftInExp\">addOneLeftInExp:</strong> <a class=\"ProveItLink\" href=\"../__pv_it/725d77a9673adae97f795e48ca1a602f7ffb52b90/expr.ipynb\"><img src=\"data:image/png;base64,iVBORw0KGgoAAAANSUhEUgAAAR0AAAAcCAMAAABrn5tYAAAAOVBMVEX///8oKCgUFBQNDQ0QEBCI\n",
       "iIhmZma6urrMzMxUVFQiIiJERETc3Nzu7u6qqqp2dnaYmJgyMjIAAAArQGDrAAAAAXRSTlMAQObY\n",
       "ZgAAA35JREFUWMPtWdmy2yAMdVuD2bf//9gCBmGzJA7xbfJQZu4djREHcyS0OMvy5YPw5tFm7c2b\n",
       "3I/4b7jBmLVPNb57n/sRf4aOrTZrYYdmwapZtNFIiAgeoK8khy5jduCOOTGLNhoJcYMFG/1Cdqy8\n",
       "wA5xCFE5hTaiMSNqA3fNfB05uHXoDjuIyQXhKbTBKIgMCI1SCdbm42wJJ6+ww/2pjZ1CG4yCWFiP\n",
       "klYv++GPjV7m2Nmh1o81/PMmXH2sxXQKbTAKonCF3PAvW0Twj1+sVS1XfCf4xKqm0EZBuSAyWBWl\n",
       "7DJafePFWlTLjo8Iht95sY6IGJCjZLQMQ7CPu45Z2yNi5iiqcxbVegrtQeoHRATLdsnxMJj+ODvY\n",
       "FlI0Rmttez6H1gcbzWzgcrtESdz6YoV1qSV5WKLG3ZFGjTl4Pv62+pexbrnEjraHgVu0Adhohjhy\n",
       "krYAKR+cWXFNGfh3JxWcFZ5YGZN4nf2qOu3Y9ECu5hQAwNSvFZa0Dwau0t9GuO0shYiDmmJHKo2x\n",
       "fyoJ94DE6rrJGSk8ZkfEl2ZbyhSn2Jh4x3GCvdnqJLQaTLrsB/1tJLCTpFA0NzHZcCVkWG5EPLbS\n",
       "VZMzVHjMTmDSb0w6KTffi5WDyjtNCe6Dseyy/W0a3xEW+jWJEbVw3eLlJIoc/Tq3JEOFmh2A3LX1\n",
       "DhKUWeWvPN0FF3SUu1pCHuMOrdHGYIMZAi1ulrigO2GSEf/w1GAYaUSvJRkqVOwAJI2p8Y//M2mP\n",
       "2qkpT6+tYnW8KPGO7+xoY7DBTJ2zPIH5ExP2xyYsGhwirjyvTi3JWKFiByB3btXBLGvFTi414hb+\n",
       "ArxXYyS0MVh/ppRJIDlUim8UPJKwaGkPIBQhnZZkrFCxA5DRXjzbLSxxVeLPxpIUISIo2t5iJ6GN\n",
       "wfozVa2834700t6k3IRYWy4wluiYCXNLMlQ4s1MgQyP5+1dqJLs5KzJ/Y9c2hWZRK2VA4Z1+C8FS\n",
       "k0NBGWTtvSTkm9yS9BS6vgOQOZvnzwNNvbPgW+v1KTQJJpON8TaKFMLxKBzSrfRZgYeCmgSfgZak\n",
       "o9Bj5wC5Z/NEj+5UlWS9k50pNENbqRvV9rByLoqfKTysd9RTY9JbvxPMoDHSShfH5RTbZ+d5gyZv\n",
       "/VlpAs3oVrq8dnmHHXPBlOrW35VeRitfAH/yW+D8GdWtaetVNCxb6f8Yjb9wWiz6mYZA9QAAAABJ\n",
       "RU5ErkJggg==\n",
       "\" style=\"display:inline;vertical-align:middle;\" /></a><br>(see <a class=\"ProveItLink\" href=\"../__pv_it/725d77a9673adae97f795e48ca1a602f7ffb52b90/dependencies.ipynb\">dependencies</a>)<br>"
      ],
      "text/plain": [
       "addOneLeftInExp: forall_{a in Complexes, b in Complexes | a != 0} (a^{1 + b} = (a * a^{b}))"
      ]
     },
     "execution_count": 2,
     "metadata": {},
     "output_type": "execute_result"
    }
   ],
   "source": [
    "%proving addOneLeftInExp presuming []"
   ]
  },
  {
   "cell_type": "code",
   "execution_count": null,
   "metadata": {},
   "outputs": [],
   "source": []
  }
 ],
 "metadata": {
  "kernelspec": {
   "display_name": "Python 3",
   "language": "python",
   "name": "python3"
  }
 },
 "nbformat": 4,
 "nbformat_minor": 0
}
