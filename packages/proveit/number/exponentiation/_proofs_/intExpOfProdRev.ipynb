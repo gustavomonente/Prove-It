{
 "cells": [
  {
   "cell_type": "markdown",
   "metadata": {},
   "source": [
    "Proof of <a class=\"ProveItLink\" href=\"../../../_context_.ipynb\">proveit</a>.<a class=\"ProveItLink\" href=\"../../_context_.ipynb\">number</a>.<a class=\"ProveItLink\" href=\"../_context_.ipynb\">exponentiation</a>.<a class=\"ProveItLink\" href=\"../_theorems_.ipynb#intExpOfProdRev\">intExpOfProdRev</a> theorem\n",
    "========"
   ]
  },
  {
   "cell_type": "code",
   "execution_count": 1,
   "metadata": {},
   "outputs": [],
   "source": [
    "import proveit\n",
    "context = proveit.Context('..') # the theorem's context is in the parent directory"
   ]
  },
  {
   "cell_type": "code",
   "execution_count": 2,
   "metadata": {},
   "outputs": [
    {
     "name": "stdout",
     "output_type": "stream",
     "text": [
      "Beginning proof of intExpOfProdRev\n",
      "Recorded 'presuming' information\n",
      "Presuming previous theorems (applied transitively).\n"
     ]
    },
    {
     "data": {
      "text/html": [
       "<strong id=\"intExpOfProdRev\">intExpOfProdRev:</strong> <a class=\"ProveItLink\" href=\"../__pv_it/3cce8e36db9afdbfd4d7401ae1bd97cb2ea5428c0/expr.ipynb\"><img src=\"data:image/png;base64,iVBORw0KGgoAAAANSUhEUgAAAaEAAAAZCAMAAACvmGFcAAAAOVBMVEX///8oKCgUFBQNDQ0QEBCI\n",
       "iIhmZma6urrMzMxUVFQiIiJERETc3Nzu7u6qqqp2dnaYmJgyMjIAAAArQGDrAAAAAXRSTlMAQObY\n",
       "ZgAABLlJREFUaN7tWoly7SYMpa3Zd///xxYw2IAFXnLbO51GMxneI9KRzQFJyEHotXAhhEK/8ilx\n",
       "xDGMSTVDwwrbHyCK30X9LEN0cQgt7aZX/JchePu+UfmZKI3jiq76/82Qcu04277DHW7UM2cXssNx\n",
       "HALb0kxFhvzxDO4FQ+/NvyFatuN0+2bNRZxUuHribPjrJe/xArcwhIhFrPYQGLKmmHj9gqH35t8Q\n",
       "r9rxqHr27Xu2IScV7Z84Gytk5Ayn1rio1LDaQ2BIFaaVfBPl3pt/Jd204yHV9u1lNWcVi+87G0tB\n",
       "znA0phxsHao9xDxU9v5xGh7lodfmX5ByOThdEurt2wnNsa9R0ct9Z0Ohe1QF4MpUZMhZHUU9Tvyb\n",
       "wWvzL5QJoh2rxaq3bytWQCqe3nU2FntoAHB5KtVyq4zy/GqUHbw1//el1Mp7zayIJXiZ50/PQ419\n",
       "ig+W3HU2dlIhA3B5KjHE08GV6iVDz8ypv5Flpxs0vSu22I4gTwpFpGtHGmtnv84rrjWEcb32b+cO\n",
       "l9ZXQk7Ohk5qZHdelDyVGKJkXp7wRVoiCRkwdGWOjLRccDzefa1CfLvJkhGWQmuw4vCGBhTKA5tm\n",
       "1PGCg4gcboP0bClZrH1lYC5j2MgJiAzA5antxhr/jc8xWBtLiNtSntVYj26ssHmx1kwGS+bLjvbm\n",
       "QmHOUH5iWl9fvLlQKAUbbUaSfi8wfHIK3z79tz+PbL1iaOAERgbg8tT2OjH9nUl00igd4cP7Mwfc\n",
       "j4sJaL5bO5WewZR3LAFjqDBnKLIZ3iuek8V0kEMFmKFF7prnd+P1nYWu5i1DJycg8hVDyiPG++YT\n",
       "rUMHQXbc9TnMkSaYe1ZbU5ZLWFUcY8z1RKFnaIfctPOWi8rCtZBDBTjKbdvXXCz16vaD0GRKAech\n",
       "3jmbOKmR6fmA0DrKhTTPad98qhOLU9BNYUfdzbVgYXF0be20a7IsFjqVOUOFjqEdkqeS8a/w47KP\n",
       "Ejoy5FgBrhR02r7cz9tsKy25ZFQpjA77lZMa+aJSCBwT0fendHWENIaO0MFQMUexmmAC1dZGt88m\n",
       "cXI+VugY2iE3Mgw6jsiCG8ixQl9R5DHZhaAzvSfwsITyXNyQy8vFpZMaGYDLU6W3vdcqe/OJibQl\n",
       "o4OAbnWkb9jbLuYx8GPeWIfTx/rwTPhEoWNoh2wanymur7SBHCv0oSmPOtxHmOJ4XtsT8CLr2eWN\n",
       "4cpJjQzA5anCkNOn/tQRUalhEcmqIUPZPBX30sX8f1gTjesqM57PuOpDhZahA5KHKP/nHzHWu65U\n",
       "y5Bjheuuz+Me+Y0OygMnAFyZ6r8PVc0ny44ygYDJ7AwbEhhbaaJztw5XarZ1AlUss0LOcHKgAJ6h\n",
       "HbJ+2pjJ4nWngYQU7nZOH8pnOqczuLpzOupPyVz5OM65tV7wa4YoxwaTxjrshlDsyNh4YPHssICF\n",
       "BgoQQxXkVkhnBmyK8y0koNCHT9WOb4/Qra8Pt50AcPXXh0lnqeShedfngbW5CQ/fhwyUnc2VQvvi\n",
       "8Be8pyI/8QVvCifVHYZu9uXuy92vxwOG/BXkjZ09+Ar+TNxnv4IDcE6hrzB0e1VAhpy5gHT/gS9U\n",
       "j+VnDP1jfy9H0K9sFbsQ/G/HjENf5bKqdgAAAABJRU5ErkJggg==\n",
       "\" style=\"display:inline;vertical-align:middle;\" /></a><br>(see <a class=\"ProveItLink\" href=\"../__pv_it/3cce8e36db9afdbfd4d7401ae1bd97cb2ea5428c0/dependencies.ipynb\">dependencies</a>)<br>"
      ],
      "text/plain": [
       "intExpOfProdRev: forall_{n in Integers} [forall_{a in Complexes, b in Complexes | a != 0, b != 0} ((a^{n} * b^{n}) = (a * b)^{n})]"
      ]
     },
     "execution_count": 2,
     "metadata": {},
     "output_type": "execute_result"
    }
   ],
   "source": [
    "%proving intExpOfProdRev presuming []"
   ]
  },
  {
   "cell_type": "code",
   "execution_count": null,
   "metadata": {},
   "outputs": [],
   "source": []
  }
 ],
 "metadata": {
  "kernelspec": {
   "display_name": "Python 3",
   "language": "python",
   "name": "python3"
  }
 },
 "nbformat": 4,
 "nbformat_minor": 0
}
