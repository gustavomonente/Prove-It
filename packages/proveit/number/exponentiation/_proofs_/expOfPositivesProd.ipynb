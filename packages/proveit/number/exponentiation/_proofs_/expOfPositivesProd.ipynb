{
 "cells": [
  {
   "cell_type": "markdown",
   "metadata": {},
   "source": [
    "Proof of <a class=\"ProveItLink\" href=\"../../../_context_.ipynb\">proveit</a>.<a class=\"ProveItLink\" href=\"../../_context_.ipynb\">number</a>.<a class=\"ProveItLink\" href=\"../_context_.ipynb\">exponentiation</a>.<a class=\"ProveItLink\" href=\"../_theorems_.ipynb#expOfPositivesProd\">expOfPositivesProd</a> theorem\n",
    "========"
   ]
  },
  {
   "cell_type": "code",
   "execution_count": 1,
   "metadata": {},
   "outputs": [],
   "source": [
    "import proveit\n",
    "context = proveit.Context('..') # the theorem's context is in the parent directory"
   ]
  },
  {
   "cell_type": "code",
   "execution_count": 2,
   "metadata": {},
   "outputs": [
    {
     "name": "stdout",
     "output_type": "stream",
     "text": [
      "Beginning proof of expOfPositivesProd\n",
      "Recorded 'presuming' information\n",
      "Presuming previous theorems (applied transitively).\n"
     ]
    },
    {
     "data": {
      "text/html": [
       "<strong id=\"expOfPositivesProd\">expOfPositivesProd:</strong> <a class=\"ProveItLink\" href=\"../__pv_it/8c5ef38bbfbd95fc540a65c97d4e0d7f664811c20/expr.ipynb\"><img src=\"data:image/png;base64,iVBORw0KGgoAAAANSUhEUgAAAVwAAAAZBAMAAACP2ot0AAAAMFBMVEX///8QEBCIiIhmZma6urrM\n",
       "zMxUVFQiIiJERETc3Nzu7u6qqqp2dnaYmJgyMjIAAAAcRTyBAAAAAXRSTlMAQObYZgAABKtJREFU\n",
       "WMPFWH9oG3UUf03ukvRyl+4PQacIZ6tjzBVCD5wwrRVR/9ztD52CYKjT/rONMMfqj/4RJ8wrcxAc\n",
       "ZEWdXFewGqsJyBiRwUKDiB0bhxNci0JwMnCOOsYE16r43n2/d7lL7q4YqT54ufv+eHef9+79+gYg\n",
       "gsbGi7AuNN/fjZQwPhG5nl8fsJAc2dmdYOl/gfsgiKFrcr8aPl4/uL0W43aqId8VsP8Evx4QN/jm\n",
       "aVzjcgi3SZcfwuBm6KJYXcD9iLOHpDdQ/wSGw63O7VKBXeMF0N1H3M7HJEOMcM/RwtUwuHIVLxmz\n",
       "C7g/c/ZSJou40D4/Qbx9e4YHdU/VM3mZj0mGGOFO0YcrhMG1V6a6QKtkGfuoj949D3BscEv7/ovO\n",
       "Fm8uWnXG85xLtunkaqjvkt3PdRP8RcY+2kGfaTpw/6uOlUfAVVJYccbTXK4EykK5fDw81L4vlz/u\n",
       "JuKOc/bRVxxQQGA67+gd+sZ1PTnvjEmGGDPD74YxEQ63zzDeqneu1IOTUOt2gHPvQ0N3upNX+rfj\n",
       "pmyAZIwmjzXu8UVJZnSAf3aSIUa4LwJMhsNN6JAKKG3ZwP2eADrK+dFi5rob/X+ZlSIoTWd8YZno\n",
       "Mt2mMPkIG+FX3+MqVyWeQ0iGGOE+xoLOofTbY6MeuEIWPoMwuMJyKNzXGUt3UyrCq/3oFehTIR3k\n",
       "W0k047SF9cPRjH7OmnCDg8ozRrhJiPG8Kp3RLOkZU7zmLRN5GPQqs//wsNqyboNPn978wo9+uLcx\n",
       "jq9AkvZXyCLxJlTqIF4PgNuDjvmICftdw9L+YZD+YEOSIUa4spXkey7VyqC8D3DGC/d8q7Z90ngY\n",
       "1Lp8Ehray5rtVb9wJWMyLKiytk3b3ga3pwAVSvvJHEu7O6rhcO8A6TfX2jk77QqrHXB7m0+z0iyQ\n",
       "yR4/hTNeuB+IOSeVHnnXRLjKpy3r3uJKItwlK8gZ0JpnW2nXIgsKeb/vXuHOgJZM+zX5kz4O87o8\n",
       "Y+oZJnez0mwX3KXFtp4hVULFpaF9Ojo5EsKdc+GKNzaZtpIEtx4UapUq7Es7odo3gq7sCTUPYahJ\n",
       "q5Bo1ryTN8md20MNPs+z0jxDC1/U2uCmt+HPrP68yboLtR7XXLix12JZW0mEq2V9cBuMU6py0E1v\n",
       "CStFm4KSIGWpQ/Bdzre2F950YrjOmOBitNqleZdhGOp7T7V3ZBScGuwCyYaoPjA24sJFME1byVj8\n",
       "pQP+UHuSsTR6X+leN9yHzpMH60GdN77qw/5nR30lZGar01uRDDHBVUxWmhO2Hid5FnHhLtkd3yYQ\n",
       "XzGMQ6B+PUiP1HmAxHO2kjH5nW/JOdYowjbNRhbhYJrlXPKUalm3q5BuNxO+fhez9dEy5JgznFpo\n",
       "xY7ZU00wZ0g/Z67d4oDTrnTSxejDktvieEr1EbqbWz6sd7TnG8WbFnzJ4MpzfHLKTJqXwFaSElmb\n",
       "S05CcLWUmoGAUlGnQk8D6S3c+FmDTxNP3D9gQQr9Oz1xTdL4C3dWxT2IkZQ8faE+M7xmex6FSypE\n",
       "wCWZVPGfHn42o+96qRqsZPThZzHkXScicCw6cv/mrJZep1N91yfh8cj/GZT/GqwwfvBvhJtY4lqe\n",
       "2N0AAAAASUVORK5CYII=\n",
       "\" style=\"display:inline;vertical-align:middle;\" /></a><br>(see <a class=\"ProveItLink\" href=\"../__pv_it/8c5ef38bbfbd95fc540a65c97d4e0d7f664811c20/dependencies.ipynb\">dependencies</a>)<br>"
      ],
      "text/plain": [
       "expOfPositivesProd: forall_{c in Complexes} [forall_{a in RealsPos, b in RealsPos} ((a * b)^{c} = (a^{c} * b^{c}))]"
      ]
     },
     "execution_count": 2,
     "metadata": {},
     "output_type": "execute_result"
    }
   ],
   "source": [
    "%proving expOfPositivesProd presuming []"
   ]
  },
  {
   "cell_type": "code",
   "execution_count": null,
   "metadata": {},
   "outputs": [],
   "source": []
  }
 ],
 "metadata": {
  "kernelspec": {
   "display_name": "Python 3",
   "language": "python",
   "name": "python3"
  }
 },
 "nbformat": 4,
 "nbformat_minor": 0
}
