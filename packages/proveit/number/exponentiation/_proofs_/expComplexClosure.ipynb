{
 "cells": [
  {
   "cell_type": "markdown",
   "metadata": {},
   "source": [
    "Proof of <a class=\"ProveItLink\" href=\"../../../_context_.ipynb\">proveit</a>.<a class=\"ProveItLink\" href=\"../../_context_.ipynb\">number</a>.<a class=\"ProveItLink\" href=\"../_context_.ipynb\">exponentiation</a>.<a class=\"ProveItLink\" href=\"../_theorems_.ipynb#expComplexClosure\">expComplexClosure</a> theorem\n",
    "========"
   ]
  },
  {
   "cell_type": "code",
   "execution_count": 1,
   "metadata": {},
   "outputs": [],
   "source": [
    "import proveit\n",
    "context = proveit.Context('..') # the theorem's context is in the parent directory"
   ]
  },
  {
   "cell_type": "code",
   "execution_count": 2,
   "metadata": {},
   "outputs": [
    {
     "name": "stdout",
     "output_type": "stream",
     "text": [
      "Beginning proof of expComplexClosure\n",
      "Recorded 'presuming' information\n",
      "Presuming previous theorems (applied transitively).\n"
     ]
    },
    {
     "data": {
      "text/html": [
       "<strong id=\"expComplexClosure\">expComplexClosure:</strong> <a class=\"ProveItLink\" href=\"../__pv_it/5dab0faa9743528440e072b4b88e336f8dcb8ed60/expr.ipynb\"><img src=\"data:image/png;base64,iVBORw0KGgoAAAANSUhEUgAAARYAAAAcCAMAAACTf2CvAAAAOVBMVEX///8oKCgUFBQNDQ0QEBCI\n",
       "iIhmZma6urrMzMxUVFQiIiJERETc3Nzu7u6qqqp2dnaYmJgyMjIAAAArQGDrAAAAAXRSTlMAQObY\n",
       "ZgAAA9xJREFUWMPtWNdu3DAQVBIt+7L9/8eGVRKLpFNsvwghYMN35rDM1uGyvHxQ55b/YxyG/Ocg\n",
       "DEbbz04/gsNLWeHdF149Czr+SlocdjR5AI5Pgs6+kBXSBwEIXOBRehGRxD1P2xfQpHzvGDLwZO+K\n",
       "ETjh/Cpkoi+RaPSZ+72j7KwhA5PrfMGYDyQg8ZZkauMvWYmWL4ihdSg70X3Wy2JkF54jz/pMqtAH\n",
       "JzH6jTEUM4VtDW6lCGOLK8uWtaB4poXE+dZgHEq8wFnsOinYxjSfJbTUkT1OMHsNpFW8jEOYHzTi\n",
       "bbPxD6gZhmw+oIghsI7ZEvsMinxhXUKiyed42kB+2PV8pjGaTnNOeDoeGIj/1XSSPSeb3WFktTtd\n",
       "w3WcH2fw/prKLBT6VicyQkli8fyOWhouOJxrjHZCOt/VSbJhWQrgAI5lgqj5+dvN7jCLKyUHV1tz\n",
       "RE/c4JNkoEX5xHjMKjA0LagNIeFbZDIYiTnTa4yzCd3ubOosKl1A0FIrkKeSUEvDhmoEzQzT5dfC\n",
       "IklhIEZ9w1ZXR72FHE6ImZbY7g4J10qtMC5uVUJp02mM0wkdLXyaOCKTYX9Wi6oLqwLdb19QjaCZ\n",
       "YTpvKbSscpvZWUPO1AKfeotym8BCAtxtkZWilGl2zIBVY5xO6GkR3coZZPJaESNs9daMSsEhRkEz\n",
       "x7Rk82LulHz8rLEZqxfZacFl3yKmW54NhYKFLxtNYNGqmcY4ndDRUgr/tjJPde9P+LFlq+TrKVsY\n",
       "Wp2loMpmV5g2IclCS3Qm7hatbjVTlAc1uVB3qERhfVJMSsJ9mUi23dIptmsXjXE+oaOFynblfF19\n",
       "MMsKdRrK6iwFdRQ0J5hW26yHQwo+q4FCT8q6NBhSpZTYdj8e9t4Zog2YSAYKyyvN2ERjnE/oaeHt\n",
       "yku9/hb9KZJZunxwl5xIK2oXNKeYseOI2RiAKQ6TGo5c0r6dYcStXpB6ja2C2bJatIS0MZHu/klK\n",
       "74etxjid0NHCZLsyD0Xg969YCuyhqhQewt3z4TKqbnaJGYThbU9l5LH5nzzZ9IEWmiDmacxkhh36\n",
       "xfi3CX4RnaxqjNmEGS0oupVroa0aPmcIa8obED+idkFzgWni4Rt6dRyEFeWggaTDyy0G0TgnY8Fk\n",
       "0Us2jTGZMK9E2K28yH1bMKVhI/QQIhtqFzQXmLYv+QZhdfkMATl1tO3s3YQJLdDnOD2zqGtK5IC6\n",
       "xDS16OvvAII9BOiPX4vlRb89u4221136Z5gbEfOhszyOw89fNY+Xoi3MTuyJo85qUB9icrPxRbX/\n",
       "k69x5JmTAT53TTh5Y9X0ayd/wdPtj42/aRsviUAfllQAAAAASUVORK5CYII=\n",
       "\" style=\"display:inline;vertical-align:middle;\" /></a><br>(see <a class=\"ProveItLink\" href=\"../__pv_it/5dab0faa9743528440e072b4b88e336f8dcb8ed60/dependencies.ipynb\">dependencies</a>)<br>"
      ],
      "text/plain": [
       "expComplexClosure: forall_{a in Complexes, b in Complexes | (a != 0) or (b != 0)} (a^{b} in Complexes)"
      ]
     },
     "execution_count": 2,
     "metadata": {},
     "output_type": "execute_result"
    }
   ],
   "source": [
    "%proving expComplexClosure presuming []"
   ]
  },
  {
   "cell_type": "code",
   "execution_count": null,
   "metadata": {},
   "outputs": [],
   "source": []
  }
 ],
 "metadata": {
  "kernelspec": {
   "display_name": "Python 3",
   "language": "python",
   "name": "python3"
  }
 },
 "nbformat": 4,
 "nbformat_minor": 0
}
