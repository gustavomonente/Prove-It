{
 "cells": [
  {
   "cell_type": "markdown",
   "metadata": {},
   "source": [
    "Proof of <a class=\"ProveItLink\" href=\"../../../_context_.ipynb\">proveit</a>.<a class=\"ProveItLink\" href=\"../../_context_.ipynb\">number</a>.<a class=\"ProveItLink\" href=\"../_context_.ipynb\">exponentiation</a>.<a class=\"ProveItLink\" href=\"../_theorems_.ipynb#diffFracInExp\">diffFracInExp</a> theorem\n",
    "========"
   ]
  },
  {
   "cell_type": "code",
   "execution_count": 1,
   "metadata": {},
   "outputs": [],
   "source": [
    "import proveit\n",
    "context = proveit.Context('..') # the theorem's context is in the parent directory"
   ]
  },
  {
   "cell_type": "code",
   "execution_count": 2,
   "metadata": {},
   "outputs": [
    {
     "name": "stdout",
     "output_type": "stream",
     "text": [
      "Beginning proof of diffFracInExp\n",
      "Recorded 'presuming' information\n",
      "Presuming previous theorems (applied transitively).\n"
     ]
    },
    {
     "data": {
      "text/html": [
       "<strong id=\"diffFracInExp\">diffFracInExp:</strong> <a class=\"ProveItLink\" href=\"../__pv_it/aedc51c36da7d2aa64df33897669b298296d34b40/expr.ipynb\"><img src=\"data:image/png;base64,iVBORw0KGgoAAAANSUhEUgAAAawAAAAmCAMAAACvSl+UAAAAOVBMVEX///8oKCgUFBQNDQ0QEBCI\n",
       "iIhmZma6urrMzMxUVFQiIiJERETc3Nzu7u6qqqp2dnaYmJgyMjIAAAArQGDrAAAAAXRSTlMAQObY\n",
       "ZgAABLNJREFUaN7lW4uupSoMdeYKgvL0/z/2AgqbR0H2HE08ockkzZ7lqlL6oHqmaVhR6sWknML6\n",
       "oIL0q0kXDetDyjLzd5MiCusDCp/J20m1gvXxhNIi7egXkAqksNdZFKbsiTzwW4TsLP9J4uv1u420\n",
       "5ivjbQn6ng6cCHX57Fp0rN9NpGnyxIcYqCap8zmoDyasjIEJ+MktN3mAtOpuA4+u0AjWxxKsgRyG\n",
       "EOWX63cPaTWRYhUf1NQM62PJXG5TtPIJ4cv1u4e0O1aXVNfPnuhfmgXL3LaZpVb6ZaSzTHUZSqAe\n",
       "poSpHVgXs3ExnZbNi1uN/ZSfkTZlLyTqAXWqs83vjG2ckrUCa2acM4tu+I9JuxjQnuk+oKQYxlkr\n",
       "sC9NdVGV7brgB0i77Iiom3S6ktwKW4fx1bRDjQSVteOUVA+Qdtkhu8j03aXoVQ7krE/fxrDEqDXL\n",
       "UQit7G5SAALa4bvKdOq6mK3z+HbHDM0l6P3qtLk0j/0ujUsk66QwJF2CZTaPrRv9gzBXJyccqSPB\n",
       "/0YKQAo7xQ44dJcqecMFYpN0pf4yYNyVAq4pjoe7grSSPbZOUfKYBsGkFYhrsv268tlqeGvOFEjX\n",
       "WK6D9BNHJaRiZ5e5bqsVKvIlFxJj8ysntoslWubjrhqgYAARQl+RNJaQuedal7PhyklbkKQSYPdf\n",
       "a2Ob2VMtWnqGD5ekfNdTFVKxExfCQ7eFrWgv1CYYt5SKSR+nybirCigYQMQRoC2ShrPcIYi7nJd0\n",
       "xlHU1yDJus5bANXylVQIq6+cVSVdQ+iUkIqd0llMhxDkGFE3ugxt5ELEwcnScVcVYJYMIRQ3ogXC\n",
       "WEEuQBskqbPCfZ1PdtyJBa8qJ61D8ozFXWYRPUdeuGbRfyPttsujNOj1jdEjAvlKzmF8iFjFFYPG\n",
       "XVWATT1kTuZYGaLDSuascAV1net/5p86KXwu6YB8Httf46KB6kl8NxyH17WftNsui7pBrwt/dsbG\n",
       "C2R12zSUAZ4ynuOuOsCVTRIBSoS1MjetZM4K93XsFzF9wsaPTwNpHVKWbfcwJjvdcWz5hrTXbnnO\n",
       "ijpEm93dxxlkPQZkaGKCEGDc1QCc6xQAIOLCSuascIXbl5vfn/YSP5jugHzoAo4iRBjt6iAuh65f\n",
       "kPbaXaJbD7ri57OZjbgpW/E/2RhzFDeeftxVB5whEuXzFNFjJXXW5wpqCsXfP7ZcqLTV64BEzE98\n",
       "2vUEqYpuXeWPYY5qZF9sbpQkOmsT1zVMzHZYftxVBWi7PjgG5AhnhdSsgJEV7sv35C7X4eMQlZFC\n",
       "kKxJeOJF3hOkMWfBv1Akzg5yC9mSmwZos2MOYiMqjLtqAIaRQjwBZIi2FchZ0RVHT366QrpePScF\n",
       "IPl89IG3QU+Qxu2mbp3N0Vlxkhv6MWAS11aa5ywBFWVxDamN3G6TB0jL0eA3m4f9FPBNkww7S1+T\n",
       "XheP7YkPu+4nLd6QfFXvfgyYvtgeoLOUuCRV1y/mHvn65H7S+BMc/O7v3fFz1HwXv4E0npPN47wb\n",
       "Lgqy/gWkaIb14eSJv0u4m3RWsD6cKP160jhQ0dh/obWhl5OymYH6iGKn9G8m5asA9TGFrezNpJuC\n",
       "9VG9RV5MyhdA/x8hr0vMKEGQgAAAAABJRU5ErkJggg==\n",
       "\" style=\"display:inline;vertical-align:middle;\" /></a><br>(see <a class=\"ProveItLink\" href=\"../__pv_it/aedc51c36da7d2aa64df33897669b298296d34b40/dependencies.ipynb\">dependencies</a>)<br>"
      ],
      "text/plain": [
       "diffFracInExp: forall_{a in Complexes, b in Complexes, c in Complexes, d in Complexes | a != 0, d != 0} (a^{b - (c / d)} = (a^{b} * a^{(-c) / d}))"
      ]
     },
     "execution_count": 2,
     "metadata": {},
     "output_type": "execute_result"
    }
   ],
   "source": [
    "%proving diffFracInExp presuming []"
   ]
  },
  {
   "cell_type": "code",
   "execution_count": null,
   "metadata": {},
   "outputs": [],
   "source": []
  }
 ],
 "metadata": {
  "kernelspec": {
   "display_name": "Python 3",
   "language": "python",
   "name": "python3"
  }
 },
 "nbformat": 4,
 "nbformat_minor": 0
}
