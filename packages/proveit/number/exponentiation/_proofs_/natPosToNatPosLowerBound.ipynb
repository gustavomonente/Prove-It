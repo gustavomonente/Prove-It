{
 "cells": [
  {
   "cell_type": "markdown",
   "metadata": {},
   "source": [
    "Proof of <a class=\"ProveItLink\" href=\"../../../_context_.ipynb\">proveit</a>.<a class=\"ProveItLink\" href=\"../../_context_.ipynb\">number</a>.<a class=\"ProveItLink\" href=\"../_context_.ipynb\">exponentiation</a>.<a class=\"ProveItLink\" href=\"../_theorems_.ipynb#natPosToNatPosLowerBound\">natPosToNatPosLowerBound</a> theorem\n",
    "========"
   ]
  },
  {
   "cell_type": "code",
   "execution_count": 1,
   "metadata": {},
   "outputs": [],
   "source": [
    "import proveit\n",
    "context = proveit.Context('..') # the theorem's context is in the parent directory"
   ]
  },
  {
   "cell_type": "code",
   "execution_count": 2,
   "metadata": {},
   "outputs": [
    {
     "name": "stdout",
     "output_type": "stream",
     "text": [
      "Beginning proof of natPosToNatPosLowerBound\n",
      "Recorded 'presuming' information\n",
      "Presuming previous theorems (applied transitively).\n"
     ]
    },
    {
     "data": {
      "text/html": [
       "<strong id=\"natPosToNatPosLowerBound\">natPosToNatPosLowerBound:</strong> <a class=\"ProveItLink\" href=\"../__pv_it/f922fef9f2d20e40b8362538c5cd23102c3758050/expr.ipynb\"><img src=\"data:image/png;base64,iVBORw0KGgoAAAANSUhEUgAAALkAAAAcBAMAAADPUgMyAAAAMFBMVEX///8QEBCIiIhmZma6urrM\n",
       "zMxUVFQiIiJERETc3Nzu7u6qqqp2dnaYmJgyMjIAAAAcRTyBAAAAAXRSTlMAQObYZgAAAvpJREFU\n",
       "SMe1VltIFFEY/tzZcd25rD1EVBKsdrHHxYUM05qQ6ClbIjQpcJGCLiCS2J0QiRjzZUmwCMIJocJI\n",
       "pVpI6LKwhbAVbFEYYbF0e6iHfAli66Fz5j7TtAu7eODs/898Z77zn/92Fih7tOWwiEOILArtbk2E\n",
       "pj1RX3nkbFyT1QlP2B8viz2kaLKr7rAn/qIs9gZd1iurPfEA2V0N+PsSyIN5XRnEB2/Hk2g/o8q3\n",
       "clJlKTZQcaPJvf0CcJnKgRLYK4xUyaNGlY8OuVac1mIjTJfAPqYHFadE3bi2A84VGwExMzFxqZSg\n",
       "vjSU9ueGtuecY0Utmb9k+YyHV70pU5a6mbq0uWGlHR79rsmRdC052U4yyXGG/qVhvNltRS+TuTUR\n",
       "WnDgIyfVQlqBH7QQYkAruNx/2d0dysb+FeBWgXEmxJy64FqW+hxjEkl6+LI2vKNZ8i0z2Y20Y/ue\n",
       "oDbuYO8ji/IIhO3k9RlVbFFwlIgpwi5kAwbIPYhm+YEMmoRoY3ST2aFupVtwX1AYJR3ti5rp9Ykk\n",
       "5QCmYhY3N6tvtRzcT932YK7dgN/OTIB/xdDYMVaHEoevKHgYjghOz5wnxqXw2FY9jboPuD/gaTi6\n",
       "aHsb2k9+xtd9gZ9+y+/tDFvstEO1UiWZvOhiP0jYp9HDGx0y2GMci/uNytyMljO420te9LN5hCjE\n",
       "xzJvLHbaodTAJoXb+5zsJJurwuIxM3VvSiY0iLl4Sq+IauItJsL2YlxjF2goGbNDcSpjEqm0k51Y\n",
       "xnWvHV3jkbfX6zq7JbVWiV8V2jR8cXTIshzmY8EsOQxrdij2hCwPEvarNPi2GFZIxar5o6FMJare\n",
       "KZWa7dhmZRntUHHNdv8uV0WkipBzedOQRNcOCNQyUYKofxe8oHaop1R/Dcy7Lr4lzufJ43T0Wy9E\n",
       "8+rzd99pAYaJtv0zoL9ma9QOVUVywX9WQqXLtiNFbA/EXLcJ8bv9mdfEeuJ3jzFZhH2+CD5TEOUL\n",
       "/48peiVlC8P3CqKMgkUefwGOSbLq+zltpwAAAABJRU5ErkJggg==\n",
       "\" style=\"display:inline;vertical-align:middle;\" /></a><br>(see <a class=\"ProveItLink\" href=\"../__pv_it/f922fef9f2d20e40b8362538c5cd23102c3758050/dependencies.ipynb\">dependencies</a>)<br>"
      ],
      "text/plain": [
       "natPosToNatPosLowerBound: forall_{a in NaturalsPos, b in NaturalsPos} (a^{b} >= a)"
      ]
     },
     "execution_count": 2,
     "metadata": {},
     "output_type": "execute_result"
    }
   ],
   "source": [
    "%proving natPosToNatPosLowerBound presuming []"
   ]
  },
  {
   "cell_type": "code",
   "execution_count": null,
   "metadata": {},
   "outputs": [],
   "source": []
  }
 ],
 "metadata": {
  "kernelspec": {
   "display_name": "Python 3",
   "language": "python",
   "name": "python3"
  }
 },
 "nbformat": 4,
 "nbformat_minor": 0
}
