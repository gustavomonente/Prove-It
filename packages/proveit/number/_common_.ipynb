{
 "cells": [
  {
   "cell_type": "markdown",
   "metadata": {},
   "source": [
    "Common expressions for context <a href=\"_context_.ipynb\" class=\"ProveItLink\">proveit.number</a>\n",
    "========"
   ]
  },
  {
   "cell_type": "code",
   "execution_count": 1,
   "metadata": {},
   "outputs": [
    {
     "name": "stdout",
     "output_type": "stream",
     "text": [
      "Defining common sub-expressions for context 'proveit.number'\n",
      "Subsequent end-of-cell assignments will define common sub-expressions\n",
      "%end_common will finalize the definitions\n"
     ]
    }
   ],
   "source": [
    "import proveit\n",
    "# Automation is not needed when only building common expressions:\n",
    "proveit.defaults.automation = False # This will speed things up.\n",
    "from proveit import Function\n",
    "from proveit._common_ import P, k, m, n\n",
    "from proveit.logic import Set, Difference\n",
    "from proveit.number import Add, Complexes, zero, one\n",
    "%begin common"
   ]
  },
  {
   "cell_type": "code",
   "execution_count": 2,
   "metadata": {},
   "outputs": [
    {
     "data": {
      "text/html": [
       "<strong id=\"ComplexesSansZero\">ComplexesSansZero:</strong> <a class=\"ProveItLink\" href=\"__pv_it/093df51ac3c5b248f9b17b980c05d1102361fd670/expr.ipynb\"><img src=\"data:image/png;base64,iVBORw0KGgoAAAANSUhEUgAAAEYAAAAVBAMAAAAJGoXuAAAAMFBMVEX///+6urp2dnbc3NxUVFSY\n",
       "mJju7u6qqqrMzMxmZmZEREQQEBAiIiIyMjKIiIgAAAAjslSOAAAAAXRSTlMAQObYZgAAAR9JREFU\n",
       "KM9jYMAOIgMgdOczBlwgVwHGkm4AkXx37u9ZiaYmHkToBQHlOS8AWRz9BWzzI9HU6AAxbwHbYQYG\n",
       "pgNAZoAfAwPrTyxqohkYdCFqWBu2AfmeWNQsYWCoTwCr4WReAOTnYVHzhYFBvgCsJoVjAhZ/AdWw\n",
       "Ae2Xf8DAtIGBwYjxARY1vgwMzJ8YGPofMLB+YGCwxKaGfQdQDdCcfmAw3WRgyOKABRfbXTAAhgnH\n",
       "GgO4XQws5xh4ExwwzWHcAXFzfQEDwxWg3yeA1LChKfIC4lXA4E4Au4dhnRyQkMUdhkB/MXDeUmOr\n",
       "WoZFDU8B2w5oXDB03v4zA0v4MLDpPWmAqWHAHoZQgFuNNhFq4uEscPrBCngR6VAAZ2KtRErPADLB\n",
       "R8Hv/3DqAAAAAElFTkSuQmCC\n",
       "\" style=\"display:inline;vertical-align:middle;\" /></a><br>"
      ],
      "text/plain": [
       "ComplexesSansZero: Complexes - {0}"
      ]
     },
     "execution_count": 2,
     "metadata": {},
     "output_type": "execute_result"
    }
   ],
   "source": [
    "ComplexesSansZero = Difference(Complexes, Set(zero))"
   ]
  },
  {
   "cell_type": "code",
   "execution_count": 3,
   "metadata": {},
   "outputs": [
    {
     "data": {
      "text/html": [
       "<strong id=\"Pzero\">Pzero:</strong> <a class=\"ProveItLink\" href=\"__pv_it/c491dba95ad85823965ef7c61600a16de3c7ea190/expr.ipynb\"><img src=\"data:image/png;base64,iVBORw0KGgoAAAANSUhEUgAAACkAAAAUBAMAAADiqgm2AAAAMFBMVEX///8iIiLc3Ny6urqIiIiq\n",
       "qqp2dnbMzMwQEBDu7u5mZmYyMjJERERUVFSYmJgAAAA4CJ/KAAAAAXRSTlMAQObYZgAAAQpJREFU\n",
       "GNNVkTFOw0AQRV9MgtnYgcgFdU4AuQG+AMLiAklh0dD4BikjOtNRuuAA1DRwACI6OqSIAiEkBCgI\n",
       "CaMIZnazwoy0tvV258/fb/irHfc6tM+Xn9n9ZQnmGvLHgt7A4m+ITyAaEGUmwVwoDD+h8wHP8ATH\n",
       "0qC0vZAlOwnMYFRypjR+g96CoA9L2MuIhkK3RGe3ol1haqEp65XQyZjOtrTMCURnkrKp4w7ujs7F\n",
       "WCsjqN0Z0eK2tP42hl4hlEG846lOG2WWhrWjosANvJas9Z1da3Dub6HToi9H1U8rM1PojuleLVNL\n",
       "tc/k+4WcKxpBJv7jtAE1HVd5k8Yu11WSvjT15u7/P/QAv0hOQIFd2x/XAAAAAElFTkSuQmCC\n",
       "\" style=\"display:inline;vertical-align:middle;\" /></a><br>"
      ],
      "text/plain": [
       "Pzero: P(0)"
      ]
     },
     "execution_count": 3,
     "metadata": {},
     "output_type": "execute_result"
    }
   ],
   "source": [
    "Pzero = Function(P, zero)"
   ]
  },
  {
   "cell_type": "code",
   "execution_count": 4,
   "metadata": {},
   "outputs": [
    {
     "data": {
      "text/html": [
       "<strong id=\"Pone\">Pone:</strong> <a class=\"ProveItLink\" href=\"__pv_it/5a74d71f3077b6aaa931ff3eeb6f279c45a56e660/expr.ipynb\"><img src=\"data:image/png;base64,iVBORw0KGgoAAAANSUhEUgAAACkAAAAUBAMAAADiqgm2AAAAMFBMVEX///8iIiLc3Ny6urqIiIiq\n",
       "qqp2dnbMzMwQEBDu7u5mZmYyMjJERERUVFSYmJgAAAA4CJ/KAAAAAXRSTlMAQObYZgAAAONJREFU\n",
       "GNNjYEAAPQgVBCbf/j97d9cEBgbOAxBRXgUw9ZuBgaeTgYEbyGMF0pwbQILs34C8LwwMrxgY5ub+\n",
       "BAqkgERZPgMxUEYIyOYDic4AifJ8AJr1mYFJACbKbQAk+IHm6C9gYFkAE2UDseoTGFjFgFoewET5\n",
       "QNb5X0tbAnQYYwBMlBVk1vkJYPdxGMBE2YEWMXxkwCLK/gsiijCBWQDiXLADUWzj/gkRBbuHBcTh\n",
       "SmDg2v/XASwK0sd14/c6oLoCpIAUgjEmIgmCQgcCUpBFeSDhCg1JGICFOkwWNYYeMTAAAKo2OyOK\n",
       "8RDqAAAAAElFTkSuQmCC\n",
       "\" style=\"display:inline;vertical-align:middle;\" /></a><br>"
      ],
      "text/plain": [
       "Pone: P(1)"
      ]
     },
     "execution_count": 4,
     "metadata": {},
     "output_type": "execute_result"
    }
   ],
   "source": [
    "Pone = Function(P, one)"
   ]
  },
  {
   "cell_type": "code",
   "execution_count": 5,
   "metadata": {},
   "outputs": [
    {
     "data": {
      "text/html": [
       "<strong id=\"Pn\">Pn:</strong> <a class=\"ProveItLink\" href=\"__pv_it/69db07508e41fd251428c1f0cfc66e47a54e32910/expr.ipynb\"><img src=\"data:image/png;base64,iVBORw0KGgoAAAANSUhEUgAAACsAAAAUBAMAAADmX9mLAAAAMFBMVEX///8iIiLc3Ny6urqIiIiq\n",
       "qqp2dnbMzMwQEBDu7u5mZmYyMjJERERUVFSYmJgAAAA4CJ/KAAAAAXRSTlMAQObYZgAAAQ1JREFU\n",
       "GNNjYEAAPSgdBCbf/j97d9cEBgbOA1BhXgUw9ZuBgaeTgYFbASrMuQFEsn9jYGD9wsDwCm5aCohg\n",
       "+QzEQCkhuPAMEMHzAWjcZwYmAbgwtwGQ4Acapb+AgWUBA4PZJRUvBwYGNiCToT6BgVUMqOkBA0PC\n",
       "GQfOTwwMfCA7/a+lLQG6jzGAgT1AmoHpO9ABIPPOTwAbyGHAwMn5mYEPaBM7EDN8ZIAJM7B+YODd\n",
       "ABFm/wURBhrCwLWBgf/BBAZmAYizwe4EWsmRwBA/IQFsJfdPiDDIVfoGDNl8BQxcCQxc+/86gIVB\n",
       "Og0ZGHSfAlUWIIUrwvMTkUTRgwoGeFADFgbg0QCXR420RwwMAOuUO4NXZY/LAAAAAElFTkSuQmCC\n",
       "\" style=\"display:inline;vertical-align:middle;\" /></a><br>"
      ],
      "text/plain": [
       "Pn: P(n)"
      ]
     },
     "execution_count": 5,
     "metadata": {},
     "output_type": "execute_result"
    }
   ],
   "source": [
    "Pn = Function(P, n)"
   ]
  },
  {
   "cell_type": "code",
   "execution_count": 6,
   "metadata": {},
   "outputs": [
    {
     "data": {
      "text/html": [
       "<strong id=\"P_nAddOne\">P_nAddOne:</strong> <a class=\"ProveItLink\" href=\"__pv_it/bb74a190a60746acec3a0e1a5f54860782b2321b0/expr.ipynb\"><img src=\"data:image/png;base64,iVBORw0KGgoAAAANSUhEUgAAAE8AAAAUBAMAAAA+U32BAAAAMFBMVEX///8iIiLc3Ny6urqIiIiq\n",
       "qqp2dnbMzMwQEBDu7u5mZmYyMjJERERUVFSYmJgAAAA4CJ/KAAAAAXRSTlMAQObYZgAAAUVJREFU\n",
       "KM9jYEAAPQZcIAhMvv1/9u6uCQwMnAdwKuRVAFO/GRh4OhkYuBWwKmIFSnFuALHYvwF5XxgYXqHK\n",
       "O0Doubk/gWQKiMnyGYiBioWwKmTgAymcAWLxfAA64jMDkwAehdwGQIIf6AD9BQwsCxgYzC6peDlg\n",
       "U8gGlGSoT2BgFQMa/ICBIeGMA+cnbAr5QL7xv5a2BBg6jAEM7AHSDEzfsSlkBbnr/ASwAIcBAyfn\n",
       "Zwa+DyCbdu/e2L179wW4QnaQ6EcGmEIG1g8MvBuwmQhSyP4LIgC0moFrAwP/gwlYFDILQIIRHEpA\n",
       "z3AkMMRPSMDhGe6fEAFQCOgbMGTzFaAqZAHJcyUwcO3/CxECmW7IwKD7FNWNXDd+rwOaVoAUFzii\n",
       "EAwmInNQEwXnBGReCjKHRwFneuTcgMLDnXDRzMCdFR4xMAAAhEVTrm8V5yMAAAAASUVORK5CYII=\n",
       "\" style=\"display:inline;vertical-align:middle;\" /></a><br>"
      ],
      "text/plain": [
       "P_nAddOne: P(n + 1)"
      ]
     },
     "execution_count": 6,
     "metadata": {},
     "output_type": "execute_result"
    }
   ],
   "source": [
    "P_nAddOne = Function(P, Add(n, one))"
   ]
  },
  {
   "cell_type": "code",
   "execution_count": 7,
   "metadata": {},
   "outputs": [
    {
     "data": {
      "text/html": [
       "<strong id=\"Pm\">Pm:</strong> <a class=\"ProveItLink\" href=\"__pv_it/a32eaed5ef9e1ff52b7fca66fdb03235ddc641cb0/expr.ipynb\"><img src=\"data:image/png;base64,iVBORw0KGgoAAAANSUhEUgAAADEAAAAUBAMAAADW08iqAAAAMFBMVEX///8iIiLc3Ny6urqIiIiq\n",
       "qqp2dnbMzMwQEBDu7u5mZmYyMjJERERUVFSYmJgAAAA4CJ/KAAAAAXRSTlMAQObYZgAAAR9JREFU\n",
       "KM9tka9Pw1AUhb+VvfXnRoPAYCbQrBgs1SQLDRJDBUGjsGBxxeGYwGGmEBj2B0BIEDgSgiQhGemy\n",
       "ZBAC971mtMt4SU97+717cu57UK618nPH6PvP/fNNBu6gJM22eX1BcAp+uyRuX6s9BjWCt4ox+1rq\n",
       "uTxCl6rkXEswFN8cK6wSPxJZFM9Oj3oPNh5Xu/FRV/42pOI4RS1L6wukd7E7itQJtHSE7aeDSwld\n",
       "S7CTFawxLbFX2vshM85OhOvmqAlNGcwWygdTghrihThxQezPgogbXp9aymY7YyEsxjHhJYGTchFx\n",
       "ZSUmgT8piM7ZidiD64Z0p3i337Ehun8dtmD3VfYfVsaeOZ2zajF/otMVzN3CXzX4f9fsbUuGX046\n",
       "P5Nja0WUAAAAAElFTkSuQmCC\n",
       "\" style=\"display:inline;vertical-align:middle;\" /></a><br>"
      ],
      "text/plain": [
       "Pm: P(m)"
      ]
     },
     "execution_count": 7,
     "metadata": {},
     "output_type": "execute_result"
    }
   ],
   "source": [
    "Pm = Function(P, m)"
   ]
  },
  {
   "cell_type": "code",
   "execution_count": 8,
   "metadata": {},
   "outputs": [
    {
     "data": {
      "text/html": [
       "<strong id=\"P_mAddOne\">P_mAddOne:</strong> <a class=\"ProveItLink\" href=\"__pv_it/62c523916ecaf4bf590a5d3d15e562f90f5f3f3a0/expr.ipynb\"><img src=\"data:image/png;base64,iVBORw0KGgoAAAANSUhEUgAAAFMAAAAUBAMAAAADwRznAAAAMFBMVEX///8iIiLc3Ny6urqIiIiq\n",
       "qqp2dnbMzMwQEBDu7u5mZmYyMjJERERUVFSYmJgAAAA4CJ/KAAAAAXRSTlMAQObYZgAAAVVJREFU\n",
       "KM99k7FLw1AQh7/axtA01i4Wxyo4t/4Hgk4ugji4NUNxUAouzg6K4BY3BaUV3AQpjgYRxFUdFHFQ\n",
       "EHexGinUInovobXVJAe5d3f5eLl77xfoWN8T4Tbr+Zfvy8cTG3YjSAZy3tICcxOOwzBNXiZrKtIb\n",
       "kn2Qrv5F5vxlr9wUX1JhwpWnQSwXgpJW6LaKzLq04jJCJJoqiBuUNvJVpiFeHp261Us3QWi/6m/V\n",
       "QsvClaTmBZVJ5oPQtJpr5m7hQM5qCFZiNfIWr0GolhF3bXuFNbArBYo2DypdcpxhxzntoLpMxBtt\n",
       "lCLsw3rQrgrVP/2CNMAhZIm/JwPQeMY/VmUyFhskXYzaWMhYqaZfWBTBuGh1UpbViyYUYVgYZ18T\n",
       "XmHc+0iiinaU60GN+9aR7Lj8ezfhF+vZVlf8Xy473UmpOzmP0qsvwrZFStvsaS/yh3mGH8TJWctm\n",
       "9jlDAAAAAElFTkSuQmCC\n",
       "\" style=\"display:inline;vertical-align:middle;\" /></a><br>"
      ],
      "text/plain": [
       "P_mAddOne: P(m + 1)"
      ]
     },
     "execution_count": 8,
     "metadata": {},
     "output_type": "execute_result"
    }
   ],
   "source": [
    "P_mAddOne = Function(P, Add(m, one))"
   ]
  },
  {
   "cell_type": "code",
   "execution_count": 9,
   "metadata": {},
   "outputs": [
    {
     "data": {
      "text/html": [
       "<strong id=\"Pk\">Pk:</strong> <a class=\"ProveItLink\" href=\"__pv_it/744f6800d40c00fdcd9c7b456ef2296cdebf657c0/expr.ipynb\"><img src=\"data:image/png;base64,iVBORw0KGgoAAAANSUhEUgAAACoAAAAUBAMAAAAJnbK1AAAAMFBMVEX///8iIiLc3Ny6urqIiIiq\n",
       "qqp2dnbMzMwQEBDu7u5mZmYyMjJERERUVFSYmJgAAAA4CJ/KAAAAAXRSTlMAQObYZgAAAQ9JREFU\n",
       "GNNjYIADpgcQmlUBRL79f/burgkMDHOAqBEkcAks+ZuBgaeTgWETkLkLxJ8NIti/AXV9YeBbAGR/\n",
       "BQmwOQAJls9A/I2BEWgc80+QKGcDkOD5wMDA+5lBEaRKAGzkZiDm38DAoL+AwQvI5F7A+gqoJQvI\n",
       "rE9gYBVjYDgHZM4PcLIHuu81kOl/LW0J0GGiQGb8lAnzgFQgEJ+fADasGYhXLAAz64H4IwNcVNbH\n",
       "ASrK/gsiCjSB8zPTZxDTEOJcEADaxveB8ysbA9g27p8QUaBzeA8wfAeJLmPg2v8XbBZIG08Ag5cn\n",
       "kLkdEZCMCjAWpwBClG8BjMXmgBBlOARjzEYSBIU6mjRyDPEpMAAApNg/jo0N/hsAAAAASUVORK5C\n",
       "YII=\n",
       "\" style=\"display:inline;vertical-align:middle;\" /></a><br>"
      ],
      "text/plain": [
       "Pk: P(k)"
      ]
     },
     "execution_count": 9,
     "metadata": {},
     "output_type": "execute_result"
    }
   ],
   "source": [
    "Pk = Function(P, k)"
   ]
  },
  {
   "cell_type": "code",
   "execution_count": 10,
   "metadata": {},
   "outputs": [
    {
     "name": "stdout",
     "output_type": "stream",
     "text": [
      "Common expressions may be imported from autogenerated _common_.py\n"
     ]
    }
   ],
   "source": [
    "%end common"
   ]
  },
  {
   "cell_type": "code",
   "execution_count": null,
   "metadata": {},
   "outputs": [],
   "source": []
  }
 ],
 "metadata": {
  "kernelspec": {
   "display_name": "Python 3",
   "language": "python",
   "name": "python3"
  }
 },
 "nbformat": 4,
 "nbformat_minor": 0
}
