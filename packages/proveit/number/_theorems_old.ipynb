{
 "cells": [
  {
   "cell_type": "code",
   "execution_count": null,
   "metadata": {},
   "outputs": [],
   "source": [
    "import proveit.specialStatementMagic # for %begin_axioms and %end_axioms\n",
    "from proveit.expression import Operation\n",
    "from proveit.basiclogic import In, Implies, Forall, Exists, Equals, SetOfAll\n",
    "from proveit.number import Summation, Multiply, Exponentiate, DiscreteContiguousSet, \\\n",
    "    Fraction, subtract, Add, LessThan, LessThanEquals, Mod\n",
    "from proveit.common import  a, b, c, f, g, k, l, m, x, y, z, fx, fa, fb, gy, A, N, R, S, Am, xEtc, yEtc, zEtc\n",
    "from proveit.number.numberSets import Integers, Reals, Complexes\n",
    "from proveit.number.common import zero, one, two, infinity"
   ]
  },
  {
   "cell_type": "code",
   "execution_count": null,
   "metadata": {},
   "outputs": [],
   "source": [
    "%begin_theorems"
   ]
  },
  {
   "cell_type": "code",
   "execution_count": null,
   "metadata": {},
   "outputs": [],
   "source": [
    "addAssocRev = Forall([xEtc,yEtc,zEtc],\n",
    "                  Equals(\n",
    "                        Add(\n",
    "                                xEtc,Add(yEtc),zEtc),\n",
    "                        Add(\n",
    "                                xEtc,yEtc,zEtc)\n",
    "                        )\n",
    "                  )\n",
    "addAssocRev"
   ]
  },
  {
   "cell_type": "code",
   "execution_count": null,
   "metadata": {},
   "outputs": [],
   "source": [
    "multAssocRev = Forall([xEtc,yEtc,zEtc],\n",
    "                  Equals(\n",
    "                        Multiply(\n",
    "                                xEtc,Multiply(yEtc),zEtc),\n",
    "                        Multiply(\n",
    "                                xEtc,yEtc,zEtc)\n",
    "                        )\n",
    "                  )\n",
    "multAssocRev"
   ]
  },
  {
   "cell_type": "code",
   "execution_count": null,
   "metadata": {},
   "outputs": [],
   "source": [
    "powOneUnchanged = Forall([a], Equals(Exponentiate(a, one), a))\n",
    "powOneUnchanged"
   ]
  },
  {
   "cell_type": "code",
   "execution_count": null,
   "metadata": {},
   "outputs": [],
   "source": [
    "%end_theorems"
   ]
  },
  {
   "cell_type": "code",
   "execution_count": null,
   "metadata": {},
   "outputs": [],
   "source": []
  }
 ],
 "metadata": {
  "kernelspec": {
   "display_name": "Python 3",
   "language": "python",
   "name": "python3"
  }
 },
 "nbformat": 4,
 "nbformat_minor": 0
}
