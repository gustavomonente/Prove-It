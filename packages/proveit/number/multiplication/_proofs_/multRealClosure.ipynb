{
 "cells": [
  {
   "cell_type": "markdown",
   "metadata": {},
   "source": [
    "Proof of <a class=\"ProveItLink\" href=\"../../../_context_.ipynb\">proveit</a>.<a class=\"ProveItLink\" href=\"../../_context_.ipynb\">number</a>.<a class=\"ProveItLink\" href=\"../_context_.ipynb\">multiplication</a>.<a class=\"ProveItLink\" href=\"../_theorems_.ipynb#multRealClosure\">multRealClosure</a> theorem\n",
    "========"
   ]
  },
  {
   "cell_type": "code",
   "execution_count": 1,
   "metadata": {},
   "outputs": [],
   "source": [
    "import proveit\n",
    "context = proveit.Context('..') # the theorem's context is in the parent directory"
   ]
  },
  {
   "cell_type": "code",
   "execution_count": 2,
   "metadata": {},
   "outputs": [
    {
     "name": "stdout",
     "output_type": "stream",
     "text": [
      "Beginning proof of multRealClosure\n",
      "Recorded 'presuming' information\n",
      "Presuming previous theorems (applied transitively).\n"
     ]
    },
    {
     "data": {
      "text/html": [
       "<strong id=\"multRealClosure\">multRealClosure:</strong> <a class=\"ProveItLink\" href=\"../__pv_it/356988a682293cba47637c420b1fbf372fc14e6f0/expr.ipynb\"><img src=\"data:image/png;base64,iVBORw0KGgoAAAANSUhEUgAAAVQAAAAVBAMAAADrzwv7AAAAMFBMVEX///8QEBCIiIhmZma6urrM\n",
       "zMxUVFQiIiJERETc3Nzu7u6qqqp2dnaYmJgyMjIAAAAcRTyBAAAAAXRSTlMAQObYZgAABDFJREFU\n",
       "SMe9l11oHFUUx//7MdnZ2dmND0qNImyNtkWtLo2ixUQThOZFYVPBtlDIsn5AX0pqYyIodSlCJymR\n",
       "pYU0FJQpgVZX6i6VpQZaHN34kqAMKFhDLGuxD7ZQg7RQWymee+/M7Ex2p9uR4oEzc+fO7JzfnnvO\n",
       "uWeA20j4Shb/SeKm0IAy5zOfKALnR1Fn419bP6L2p9gpGdjop5YGlI6i9zq5R7v12xQNdpHOY5HN\n",
       "XfJDVSt0SulBbf5haUBR6qsmUkpOmpoEvuCoM2y9Cn6o/M5MUJPJjNDA8u2qazluoDBNIGmGylzG\n",
       "fdcSlft7MajFWFFoYDlmnc+Nj9dt1M0UhMo9DDW5UCodgS/qcqn02UhQi0csDSypfn7a/pjLq5tl\n",
       "GvzOUHFd0973R+3UtANGUIvdlsZ7Nz3Q/unDtbV2Mqg8apRL7gDIbaFBjaO+CUz4o3ZkIQdeyilL\n",
       "B4qpFfLR7R+OduFPJ8jr3kJAqIm9DPw8R33Jm3jS3nmszTmo0QxPv/ZyesPrF+zxe0KVhxAp4NVn\n",
       "RXa3+A135jETzzkFlMea7EqrNeOX+ds5agxhp25+XuvDV6oe0R1UjGBj+yJzpscMq1hIW9f3Co3c\n",
       "QIymBvlcud78s1vs+KKOtx0/rbDj0BUSK63mM5NsMMxRVTPm+P/gUR1n0xm1EQD4Hu2z6txcCYS6\n",
       "ZHpRQwWUszZqLNf8uzF2uB/KNS/qjLtYPb29gRqvv0aQfVu7WSyQVKuH3KifSGRD2bS7eYudXXfR\n",
       "ijaWDAzV8AZA2cDXsFF9V+QfJFYs+4hyt4TcqPLJtHgHoWLiDUIdMENFsclW1ZM7XajyNB1OZId1\n",
       "dHg3LeUd6YZVYiBQezLetCpXsJu27zaoN9FRnxP2rbSKpF2oUu4ZJ63wJf2Vo+vRqSvcVBVGzYWa\n",
       "YFnRg22QvvGiRjKSFRqzHDXy1qh9qyZUTifHVI9XeXSyqBVhymU/fs4Z3D6903BWxd5YsUhFCL0C\n",
       "tZP9iTwGIL2rafsJ9eOYCxV/kT6IdRRtXtRQJWyF3zZN09Jh9dBP9q1BoUr+0elHvAEwZkftmDN1\n",
       "/OEd+X5un9BEmB3/UHfalaz80U3gokBNsvn70CshJ7wa3epGXSKbf2OqtBq1XJSX9B/PLlMdFAGQ\n",
       "2Km33FgH76TWcfs4YV29fGDcUzCUEYHKG8wVjFbxHRuSb5bdqEy6pKsmQ53R45P2IVQcfgWnCrQC\n",
       "albE6oLRsl05fScNLrff1K44e1G6gRrN4QkTMrUt0X39wk1u1C2Pd3PUoYrUhaEiO1Si+VN9tJmx\n",
       "WnKQAf1gzL5gv3oCjS3w8Af59qjCvlL3uS2aQI9soFj1bqzufonWt9GCiVEMG+mZMMXq3Witfbfw\n",
       "iWbU1R8s+1zVVHrqef7l0PiGYAmAM+bd+2D5xa//JWNPjgbsmVuM/jf5FxzzKe8RHA6xAAAAAElF\n",
       "TkSuQmCC\n",
       "\" style=\"display:inline;vertical-align:middle;\" /></a><br>(see <a class=\"ProveItLink\" href=\"../__pv_it/356988a682293cba47637c420b1fbf372fc14e6f0/dependencies.ipynb\">dependencies</a>)<br>"
      ],
      "text/plain": [
       "multRealClosure: forall_{n in Naturals} [forall_{a_{1}, ..a_{_a}.., a_{n} in Reals} ((a_{1} * ..a_{_a}.. * a_{n}) in Reals)]"
      ]
     },
     "execution_count": 2,
     "metadata": {},
     "output_type": "execute_result"
    }
   ],
   "source": [
    "%proving multRealClosure presuming []"
   ]
  },
  {
   "cell_type": "code",
   "execution_count": null,
   "metadata": {},
   "outputs": [],
   "source": []
  }
 ],
 "metadata": {
  "kernelspec": {
   "display_name": "Python 3",
   "language": "python",
   "name": "python3"
  }
 },
 "nbformat": 4,
 "nbformat_minor": 0
}
