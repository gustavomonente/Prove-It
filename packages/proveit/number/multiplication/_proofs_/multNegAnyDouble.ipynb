{
 "cells": [
  {
   "cell_type": "markdown",
   "metadata": {},
   "source": [
    "Proof of <a class=\"ProveItLink\" href=\"../../../_context_.ipynb\">proveit</a>.<a class=\"ProveItLink\" href=\"../../_context_.ipynb\">number</a>.<a class=\"ProveItLink\" href=\"../_context_.ipynb\">multiplication</a>.<a class=\"ProveItLink\" href=\"../_theorems_.ipynb#multNegAnyDouble\">multNegAnyDouble</a> theorem\n",
    "========"
   ]
  },
  {
   "cell_type": "code",
   "execution_count": 1,
   "metadata": {},
   "outputs": [],
   "source": [
    "import proveit\n",
    "context = proveit.Context('..') # the theorem's context is in the parent directory"
   ]
  },
  {
   "cell_type": "code",
   "execution_count": 2,
   "metadata": {},
   "outputs": [
    {
     "name": "stdout",
     "output_type": "stream",
     "text": [
      "Beginning proof of multNegAnyDouble\n",
      "Recorded 'presuming' information\n",
      "Presuming previous theorems (applied transitively).\n"
     ]
    },
    {
     "data": {
      "text/html": [
       "<strong id=\"multNegAnyDouble\">multNegAnyDouble:</strong> <a class=\"ProveItLink\" href=\"../__pv_it/75fb6eb621cc0f3706574086c6499a0458c2046f0/expr.ipynb\"><img src=\"data:image/png;base64,iVBORw0KGgoAAAANSUhEUgAAA7AAAAAZBAMAAAD6aN9KAAAAMFBMVEX///8QEBCIiIhmZma6urrM\n",
       "zMxUVFQiIiJERETc3Nzu7u6qqqp2dnaYmJgyMjIAAAAcRTyBAAAAAXRSTlMAQObYZgAAB/NJREFU\n",
       "aN7tWntsFEUY/9q7vcfe3rV/EHnF5GgVCUq8QAQCRaoGG/+QXDXyCMZeGghBkVx8tCJELzXRA8Sc\n",
       "NhZEMQsEKkVogzalBuWkQiKvXECjECCX0BolBolBY1sxzuv2ZvZxt90oBwmTftfdme/7zbfzm8c3\n",
       "swtgPy1vTsHtdCskd/PakajHb7fYLZPabkFi/RkqYo6ztFW4CzidkbChmfHWG902vUwQsVn874JN\n",
       "YkP4XzBTWmI/YSLmOEpyIo8xGv2scAq0wtSYgx/hI452aOhJUUHEHsf3l20Sq3ShfyG1tMT+wkTM\n",
       "cZRC3Ci7hGSfU6B9psYhxzHJJac9NUsFEbsZT2UJm8QSxc2l5TUYoSLmOEtnuOthJErYIRA2NBqf\n",
       "cfyQw04NDzNpI+OPDERbaywe2sdLS6w3RUXMcZZWc4HkEO7wlU5HSqWZ8WrHUe2QU8ttTNogeKyj\n",
       "Y5Pt4Ol8R8fuEsdQm5iIOc7CMO5RFHLd7xSq38TY77ilFMeWoVoqKCr+K5lca5vYimTyrXRpia1m\n",
       "Iub4a6aOK06kTqmcm8NDjdVo3urjGrfqbhszX1WUXvSBYJyHb+2boI7YMerMCBzRdJQIFUTsMoB1\n",
       "ton1RMFX4lOKjUzEnIdSoatFTfVKPi6+77wsDwJczLf1Gnin+OzR5cvSq4tM4NQVnC7l4N1j4TcY\n",
       "sWPUGfuO5HWCWSqI2EdIGFWuD0BCUTNi3RGnkeP87H9E7BomQo58J7hQYLeILngmVnjUMKVqTcfL\n",
       "xRaHVPgdoCdflobnQEpoxvpFlfyuBQ+CGABq2KOPBlDZtgzMhAI4BsfUvDP02o4jRIdQFohTQcR6\n",
       "oRz1LImOQ+nFb2BCjOy5qd3CmtryO7gDijhMMezO317eWGjzTosVreccONoUBmcgOI2iIpORcSVK\n",
       "71xD4A3DkzNofzf2IfkfyCnBYk2nDC1G+wjMADwI8t8ADVrZXNSI0rS4ZqxLRMdFYxzcPRqY8AnD\n",
       "I5gXCuHoHaM61Bl6bceRuWqOMukqFUSskvEynT19c+CAorpy/UI+OC0TSByDWRyxJ4XzJ6whL1Kl\n",
       "Xy1iRa441MVq2LkenkmDMxCOWC6hu7IEdCKO6+hIiRlRmkBTyuvgls/vHN3DjBtSNoZEp3HNWD8a\n",
       "YxQwl6yIHQPyH4VwDI415Z2h13YcGaPdcsT6swvY9LxhiwpfhiNKTunH3g4InHZBmiP2Y4lvNawR\n",
       "/AjgoDknfHFFitVwNg2BNDgDsZyKO9NwCHLEWiWmJM6VuXSdjD8NAI8YrT0LAOZSXa52usb+xOAR\n",
       "TOCqHRzRseu5ycCeI1QHcopuOhXDuqXoeiJebFHq7n6PELt9Nl5P0fBesjjME+trQ91QnrqKdDCi\n",
       "Ma8bdQ6xoh0TBwzFDVXPkhrcS5BpikaUUAhEqQqbFpsGT51dsCqQKkYsUXo4Zho8XcPLIRc8XcdT\n",
       "WxFCKpBFl0wCWC14EmMzeRg82d6ixOodo87Yd4ToIMqE4Ak+Q0ZKhUpPjbuVvU/j/5H59GA4ED32\n",
       "PU9sAC9j7dEGFTwq1Th31tCBXpZQf8uKxfeo1aSG4F4WVXtr6zGGFQi8JFXiY09DsXFjge584WCT\n",
       "IoxYvPaQNSm/MFGldH7zr3AR4/PwBvqt0e6ng/yA0J4aYH4Jd8VgR9TlzjLDGv0eBMG3wA+xdDEc\n",
       "g2PUGXNHNFtuxSU6iDLkUpoKJrYCjYwtPSCTp+yGNG41OXUUdlBiFe3xCTiO1qbBQpC+VqnGF716\n",
       "SlwRKY4jOKG4BS6SGgJ7GLEzQcIYliAJILOCobjOMOWiO7nx7ra7hHyy9jQJCxNR8u+JC/OWNsvc\n",
       "h8fIQJ6Vk6dFBQ2QW8JPXAjDbiXGDAf050fIelfV4sbaYjgGx6gzFo40CU+n6WDKaGSMBRMbVEm7\n",
       "S68kky2I2K1eNr8tTCaT4UDUn4nzxJ5DMh7QzO1VqcaHT+k5KesqJz4LxaNgOqnB383ChPFAMKxB\n",
       "WFiuLy50pFhnY7vkC1uf+clxIzXFATPUUI5bHinawylwUG0LAC9Q7Uxy72PloSjE6Ih1P0FyBsFD\n",
       "RyzMC/PEYuVB2NiBSSEaru36nWNnyndO3R8Wi4cQk6SGWWG6HxtkxFqAkGDrvElxoZcAdojt3Gl9\n",
       "Sq8/x7fVntjTIi8BbOHwjjkidlB4CcD2idk0HMEX3wGch80qoAVOwUMrWAvBtI5YGCtdy2BSiIa/\n",
       "JgqH/euREflBf2Wphsfh84hY/GowQWtoPYKaAGX0g4sQawESqoXI++18ca72daA/K9Puemw8/lcK\n",
       "N0h0p2j6w5eAnfasB6vXdhq8LRzeMXDgiFQpvLZjg3BlCnxo8nO/VovGSH0XlKMt2gY8BvoBYnpi\n",
       "H723mhBLNODTK29GpfFQn5LGoh9k7G7cPwcfPgrFC04AqQHkUz8vA5TROmUywbAA8U89rZIwWivO\n",
       "1W79or319cbiz7/rW27qTYB5D2EndTP+DBcHnGTa2Xh4ezi8Y+DAEUwZ7kq+FOg+jZmE1lhgZyl4\n",
       "wi9Hq5vuSJFf2VReI5AvoItju9ukOF9DQMMoBHIcjF78j5/GBB0dg7dQw2CpP43BlOHdA9lBmH/z\n",
       "FEgtfVc1fQnADfz7Z/O3vZwx+eeZbF7MZ+gwjCCX4aZPnsfG3RyOiJSZExuElSugCLG6lOGMCxZb\n",
       "ZZiA+D/I3gLEHr1JvskVKRvRV4rNN/i74mDf7e+YnSV3c9O/543EvPDRLAIAAAAASUVORK5CYII=\n",
       "\" style=\"display:inline;vertical-align:middle;\" /></a><br>(see <a class=\"ProveItLink\" href=\"../__pv_it/75fb6eb621cc0f3706574086c6499a0458c2046f0/dependencies.ipynb\">dependencies</a>)<br>"
      ],
      "text/plain": [
       "multNegAnyDouble: forall_{i in Naturals, j in Naturals} [forall_{a_{1} in Complexes, ..a_{_a} in Complexes.., a_{i} in Complexes, b in Complexes, c_{1} in Complexes, ..c_{_a} in Complexes.., c_{j} in Complexes} ((-(a_{1} * ..a_{_a}.. * a_{i} * (-b) * c_{1} * ..c_{_a}.. * c_{j})) = (a_{1} * ..a_{_a}.. * a_{i} * b * c_{1} * ..c_{_a}.. * c_{j}))]"
      ]
     },
     "execution_count": 2,
     "metadata": {},
     "output_type": "execute_result"
    }
   ],
   "source": [
    "%proving multNegAnyDouble presuming []"
   ]
  },
  {
   "cell_type": "code",
   "execution_count": null,
   "metadata": {},
   "outputs": [],
   "source": []
  }
 ],
 "metadata": {
  "kernelspec": {
   "display_name": "Python 3",
   "language": "python",
   "name": "python3"
  }
 },
 "nbformat": 4,
 "nbformat_minor": 0
}
