{
 "cells": [
  {
   "cell_type": "markdown",
   "metadata": {},
   "source": [
    "Proof of <a class=\"ProveItLink\" href=\"../../../_context_.ipynb\">proveit</a>.<a class=\"ProveItLink\" href=\"../../_context_.ipynb\">number</a>.<a class=\"ProveItLink\" href=\"../_context_.ipynb\">multiplication</a>.<a class=\"ProveItLink\" href=\"../_theorems_.ipynb#multRealClosureBin\">multRealClosureBin</a> theorem\n",
    "========"
   ]
  },
  {
   "cell_type": "code",
   "execution_count": 1,
   "metadata": {},
   "outputs": [],
   "source": [
    "import proveit\n",
    "context = proveit.Context('..') # the theorem's context is in the parent directory"
   ]
  },
  {
   "cell_type": "code",
   "execution_count": 2,
   "metadata": {},
   "outputs": [
    {
     "name": "stdout",
     "output_type": "stream",
     "text": [
      "Beginning proof of multRealClosureBin\n",
      "Recorded 'presuming' information\n",
      "Presuming previous theorems (applied transitively).\n"
     ]
    },
    {
     "data": {
      "text/html": [
       "<strong id=\"multRealClosureBin\">multRealClosureBin:</strong> <a class=\"ProveItLink\" href=\"../__pv_it/722cdf1db47c21199ff1a85b2790ea32b817dcd60/expr.ipynb\"><img src=\"data:image/png;base64,iVBORw0KGgoAAAANSUhEUgAAAMEAAAAVBAMAAAANw5eWAAAAMFBMVEX///8QEBCIiIhmZma6urrM\n",
       "zMxUVFQiIiJERETc3Nzu7u6qqqp2dnaYmJgyMjIAAAAcRTyBAAAAAXRSTlMAQObYZgAAAvpJREFU\n",
       "SMetVVtIFFEY/ndnL7OzM7svPUgSDNpFgkBc8KU0Q6KXyu3FfAhcLAt6CIlqoyQ2iRqVaOohJXqY\n",
       "EizM2KEIEYIWJaLtwiBBKhRDYJCE9Rj7EP3nMnsZdmyDfvjnnPnmzPnmfP9lAP7JIhZzt816rCe4\n",
       "TSafamV4yL3MpMsDACG9EvxYd2OtzmL4GwKs1srwjXu5xZqRxnaB9iT0LBoUHydnz9RIoDQzr7C4\n",
       "iZc5F5i5C2IkRfGYASCbNTKEdeYV1oU7wD1+s5hO25xB0G2KK/mpqbFaRRrjXmGvqFQddN6zvXQG\n",
       "Qc8w/JemDdbK0Mg9sqtlYxH82rATZaDaSatlKoUCKYb3AwxX2eygXQW8zn2PHvtZzKXfRlYHhS4v\n",
       "pRQyzLSjfATvrEyEmaajX8go84BGT19tV52HF5lLm0AgySHRBQWIqxAdIHOxFOmb6UskugQPg98p\n",
       "Iel5wvLLkCc7xsjzR/NtoObk+857G5gLBQiTNVnyaYIN2RwE6ZkOraHxSHeKJAMILlthZ4PF2SlA\n",
       "hmXCGMcDK6N3DGRQHrsYfBnIJklqpVg5dJmcYbwsW4W9Gc4QsbtxNrF1BQJEGMKQw7G34SQKiIYM\n",
       "0y6V8JtflMrBgt0GBKhKvvJ6GFnAkeLDx1Cfs8ECxIAxJAjTNqORdRQ1JyRckc6acCrqBDXegWHh\n",
       "kRbUMoZuIcnxp0gjNAcHYIIyCMfPkHEIPks02GrriQ7nvXnmoqqckx0sZIm4TsgVD+l0Ddns5zhm\n",
       "AvhMfwoOa5qm+uVbH5jkrcHzmjYE6usdRYZ9zKW+Lbc3F7O15R2JRpLeTF4xnM63AtoPk+EKglld\n",
       "XDZCTKXoEbKqAPWQYio9y6/bNag94OP+a2m7Gg4+vfcAyEkWh3wuMgIXlAy8ZAzy9Lqdj9qcRxco\n",
       "4oG+J20Ao6Ti3ucm2oP10P0W9caaiA5+lxLFzxqG6h1AsqsTuHE/xoFXMhuaMA5/+wNRE/XqDF64\n",
       "91/R6y+65LF+ybOJWvDf7A/NotxgfptiogAAAABJRU5ErkJggg==\n",
       "\" style=\"display:inline;vertical-align:middle;\" /></a><br>(see <a class=\"ProveItLink\" href=\"../__pv_it/722cdf1db47c21199ff1a85b2790ea32b817dcd60/dependencies.ipynb\">dependencies</a>)<br>"
      ],
      "text/plain": [
       "multRealClosureBin: forall_{a in Reals, b in Reals} ((a * b) in Reals)"
      ]
     },
     "execution_count": 2,
     "metadata": {},
     "output_type": "execute_result"
    }
   ],
   "source": [
    "%proving multRealClosureBin presuming []"
   ]
  },
  {
   "cell_type": "code",
   "execution_count": null,
   "metadata": {},
   "outputs": [],
   "source": []
  }
 ],
 "metadata": {
  "kernelspec": {
   "display_name": "Python 3",
   "language": "python",
   "name": "python3"
  }
 },
 "nbformat": 4,
 "nbformat_minor": 0
}
