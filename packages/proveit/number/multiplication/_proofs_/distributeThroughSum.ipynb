{
 "cells": [
  {
   "cell_type": "markdown",
   "metadata": {},
   "source": [
    "Proof of <a class=\"ProveItLink\" href=\"../../../_context_.ipynb\">proveit</a>.<a class=\"ProveItLink\" href=\"../../_context_.ipynb\">number</a>.<a class=\"ProveItLink\" href=\"../_context_.ipynb\">multiplication</a>.<a class=\"ProveItLink\" href=\"../_theorems_.ipynb#distributeThroughSum\">distributeThroughSum</a> theorem\n",
    "========"
   ]
  },
  {
   "cell_type": "code",
   "execution_count": 1,
   "metadata": {},
   "outputs": [],
   "source": [
    "import proveit\n",
    "context = proveit.Context('..') # the theorem's context is in the parent directory"
   ]
  },
  {
   "cell_type": "code",
   "execution_count": 2,
   "metadata": {},
   "outputs": [
    {
     "name": "stdout",
     "output_type": "stream",
     "text": [
      "Beginning proof of distributeThroughSum\n",
      "Recorded 'presuming' information\n",
      "Presuming previous theorems (applied transitively).\n"
     ]
    },
    {
     "data": {
      "text/html": [
       "<strong id=\"distributeThroughSum\">distributeThroughSum:</strong> <a class=\"ProveItLink\" href=\"../__pv_it/c242dac618cb21d040c7ac2a629204e0461b19020/expr.ipynb\"><img src=\"data:image/png;base64,iVBORw0KGgoAAAANSUhEUgAABFEAAAAyBAMAAABmGFlzAAAAMFBMVEX///8QEBCIiIhmZma6urrM\n",
       "zMxUVFQiIiJERETc3Nzu7u6qqqp2dnaYmJgyMjIAAAAcRTyBAAAAAXRSTlMAQObYZgAADHtJREFU\n",
       "eNrtXQ2MVEcd/+/H24+3X6S5KEgwy50gqTZsirZNoeW0qSQmpXs1lpIa73IpMSjWVfRSSlOvNLFH\n",
       "K2YrsXy0mAekgIftbWkvFFNlhX5EKO2m1UiRwkawWtTzgtDIIcX5eO/NvPd2933Mq9zl3QRu92b+\n",
       "///MzvzezH/mP789AJEUuny5ChMovQyTyVXaQV/Sly9PETMU2rdJmUCfO12dHHt3KVonL/KmJ0WR\n",
       "UpxQn3v25NC7TSfUVylQSEmJfdotXhWTNa+a+zx/1LJPfZaoBhEpWztFtOV+r5q7QH6o5Erh4+qb\n",
       "mOcBX+5Tn8ltQUTKw0LaWc+j9j5SLrjSOKWNU91rnc/61WnPBRApqTEh9be9KmYQSnIVPmdPM1Gt\n",
       "4KKWccCz8573qdfi1eAhJV4QUl/luV40Gd2uuEFKVMf0Vs+rxhS/nq8LwUPKSSEvL1nyqrkB/X8N\n",
       "3CAlrdeV9exanfar21YGDyn3CWmH8Yy0/uBMxVbSLNSB/r/XPt8FUrK9HepqlebmwQPt9r2dbp+l\n",
       "vjvo2wOmBA0p0jmx7SLa6kanwb+QodabICoUZkO8Dq0FHypDZbjLKVKGzshozs+izs0wl3ZDJVFn\n",
       "JppMfKvhJzAzrx+EpEdIElp2h/JBQ0pE7LPG0VO+tQY3gDSPrg0NJheZuBZYCKSyLrOaONO5/Feu\n",
       "d4qU/QqcRUrYSyjpZh6AWEU1ITdQVVT381sQJyvWXr/6LVsPGlJCPWLqqP8XKvA9NGmQ0ZM/bPD4\n",
       "4U6lQsBk2hBK6zBUhUUk842Rke+OjLxn1WYFN4P8X3UiHNXMRIiXu4jVYwIpqWohxssQAU23X/0W\n",
       "vhA0pHTXhJEyFeTzGlKgr8G8g8FIhYDJtJHjlNsr6jA7mFNOQfQihxRiJtTPkBJvAHpS1VQm4xtS\n",
       "kpeChpS5YgfcaPVBD3pqVEdKs+0pEYpyISa0+uRq+HF3jJRLeAbZhn1gVtdQlaGgRd3Yl5Vma5Kq\n",
       "nyI2m34saEh5SEwdebTyRYjV99khhQilcwrv0eY65RngHCnnsLNTWAy8R4vABhUbpCCIIe/mny/g\n",
       "9eeEbx33SNCQMlVMHe9X18Afe6o8Uoh3gL0GzmshQps5hxLtV2O1RMGKFKu2WvBteBjk8qvYO6nq\n",
       "DnkPbC/ySCHOiqnu60D+PHxABmWBbx33pooUAtp3vSMli18ztXEPFPnfYvoYHzval/Z2GuaUPs1r\n",
       "YF4LFVrDZNDoytcegQZzikVbLdj+2Rqdi8hOWU2vv5s3rD5E0VR3+shbIF31GH77F9967mSRIuUw\n",
       "/uWMd6Sk8RlRVhn3SJHOChpYxWPGFpdjbIjjZQYZZ6sPTXjPsdMksMjBXqW/K4kaUPKt57rzFCkb\n",
       "sXvb7x0pRHfj+F98UhcFDegRwpSDQUjV9WWDRAjBcMQx2EyNLyCegTlC6OCUJJFfEvYxQohWuAJt\n",
       "DZ4O0hUBPwXPR4fHP1Iy5wUNJNSpIXn9B/ajIK/gdlpr6cv6H/a6Osfot946cGIiW47N8vHWAfKl\n",
       "eyhSMocGBzeIeLTHBwd/URr/SKEHSCKOjteJF3Z5Q2aeodN9WusjUvrVGe4/AwMPiCAlNzDwSHX8\n",
       "IyU9Jmrh/3s78p7H0WT/jucZtOxfz4XqKlKWEQCGzVGkrHEDHL6qGVJiRa/QX1xvvdsY8RMpkTGY\n",
       "UGnF8vHSklBJRcotZDWkES2QVr4MM3uIT0bFlizoDJNDuu9rinqOipRoocGi+OKrfS0W89SPv9EL\n",
       "xpC6ngmGg4hWxc0yGzcjNgqTyVOKT1GREoewOjvuPngTvJhWItqWV35pXi3VfwhuJNs+c46GFCjB\n",
       "NbxhbOXpR+HrjVckbEG+S5H+gaetSoNMLv29VXETnabNmESKMFLStbi6tj22WYFf5wtpTeTovkFI\n",
       "vRWBqn6IwOfoSDkCvENLrLxThVRjpGALmacAXsKuUrlBpulAoWlxE52mzZhoq884Qoq2+iTrdwKJ\n",
       "aN2Cs4eHf0qQsm0+XlbQ/H730nyVrBR39BhzdKT8XOrBp5D3UscGW4nejd4bfZfts8mhIbFw6zCq\n",
       "FR/ptH8TLJncgcLZ2Yq1+EB7Kx2t2NqM9IXJMRf0aGHtPagfcwo91x9OP/M1/FpYTM/pU8VDf8C4\n",
       "yP7py2PGHB0piSc6AXYWuxWIoZHFVjLPmF1c+QfSGC4jFo6pLv2nlQ6iYsjknOj7kZsdKxuL451d\n",
       "rXRw8c34jaUZ4fPmfcyWK9LvLsheySsSI8GkMgOxLNSjIeV5NLts3gsy8S+HoYodSRyf2k5xkSaO\n",
       "Z24Znhj4HB0pKXwRax4sAem3CrWS2m1GSqQglfC9LGLhV2pvrYETWMWYyR8o0EiqofgGkFrpoGJ4\n",
       "Hrff0ozMOdPZiNfzEZcsL3NyQfba5bEKnVjmLS0HI7EsV9CQksuTUZPuGxhYg5Cyhbot62DJwMBA\n",
       "PlVM1nDPdM1B7qchR0cKvskH0zHpN65QK8lhc4w5VAmTHRWx8ORXaWYbXIdVjJmcTmfEqjMdoJUO\n",
       "Lsb3OqzNSPFIwSwvz0yvrNC1VBdkr/e91nFKCCnPgvGIl9yMIUjJKDSi1UPnlOgdqjsZozMI3IqR\n",
       "NEeaUjbmMKQcQ/oXYN0gGUJi5ca86Z7pUDlxTNmTpxYi2+hV0DE0sFjFkMlhWQlVMsdNxRdUpDTR\n",
       "wcWrbis0aIZ0iRN7GwSYXrmK0EBooZxUs2MELUyY8YxIsRAXDhnxYSMtQqg2u16FV/Cb3wMch40K\n",
       "LkljGGQ6IVNNPgprpFKeyzEgBadp0rkaGUJiZf0rqK6NCtJTf4TK3bfBCwVqIbmgCAdQ9v2ZfqJi\n",
       "yFQV0L+4chR+ttNUfBoiTXXU4hmba3wztBbytw5WgQDTy8jycp22OkVK3OukFxXb5mFSGU8s21/h\n",
       "kYIjWgmUE32wEz2uXRUSn8L3HBadRs+nNB3NhL1FLseClC99poMiBVsB+Y2/LUNWpGnQVcY/KtHe\n",
       "PTfh01xiAX458qMisnnn63R+MGRShTLWXlGlexi+eP01VzfVocXRP+NnkTVDSw9yrmJJhOn1mpjH\n",
       "qJG9bJHiORqXFgzDnQYDsezNMpjvvM0Z0O7fVEh8KoxcAfVTaRsIPceMFPoUKCYrYHi3M2q1SVSs\n",
       "Fek6h8GFDnkXzp+pGJqhpoXcPqggwvQysryAp2O1WnQ0Xpe2HbBFSgeZNa/9hP0eySTEiGWWyp00\n",
       "kJyNc+fj3wFoejsyVSbxKfutnREp0tz55u2W4V3saotNkwpXkapzBlzokHeR8vHORm09yT4RZnl5\n",
       "ZnqZWF4qHcvGCOF10diZdjXWFin4ztsXytlRsOODUaEO5hTqxDKucjsjrIHkCi53DXdqC6RkzPGp\n",
       "miOkWKxY39nZrBl1kpvqbnRanj90s+cMs7w8M714lhcRwHQsOyOE10VjZ9pFKFukrEa6MyDSDzZ8\n",
       "MCoES3UZRixzQSpjDSTXpdiVqeTZFkhxfnz3Ed+4zhz0L3rOMcMwd8cz04tneWkCtkZILIHGzgiF\n",
       "Jz0y8tdPNqJXcLyxNqIWz9vxwVQhJsOIZc5JZVwDCVWI0YWCxwyLjFqQ4onpxbO8VAGwNUJ4XVRG\n",
       "GnU4p7QRtaGiHR9MFWIyjFjmnFTGNdCElEQpaEiJnjOvPt6YXiaWl/r82lzDJqdXJHamSzpZfZDa\n",
       "frC7Z02FvsggwIhlXOX2RrQGEkkmTQ5mg/WtGCvNHq03ppeJ5aXSsWyQQnhdJHbmyqMdqsC9yLW3\n",
       "GWQiVGWHKIxYxlVuY4RroMmjnasEDils84M3qp6ZXiaWl0rH4pGiG2BOQQTzukjsTCd7qUghggbp\n",
       "PWyzmshn+tJg5oMxFYp7LJTczRrAiGVc5TZGuAYSUhkjltFba4FCSqiqL0QlAaaXieVF6VgGI7oB\n",
       "zinAvC4SO9N3r9qc0gcmaQ0pmFHWO+uJT1n5YH0Gl4gKJdgUxYhlXOU2RrgGElKZTiwL4rd3cd8I\n",
       "aDjNd8v0gkarvhMjJHamk71cnOY74IPB0NOmDPN9nEVOG4hJZYxYpsZDg/UtoyzEaogQumV66WcO\n",
       "BgEHRkjsTI8QykoTMY0exiKETr415zdp4++Wod3rtIHGCOFzSgCR8rjeWkwm8M70AitFy5EREjtz\n",
       "cetgbZPKGqYdvzP+Hu6Hli1u2kDjrYNgfnMxe+5FbjIJpsRHf5NJ9XO9aq7lQAqxQhCRgnYpWrpy\n",
       "tyNdkL1EbkeaAncuEiaVMWLZUfAJKRPrr7bE8hCU5BOxzL+/2jLB/hLU52AyuUo76ESA/xLU/wAE\n",
       "Zlhm89m4NwAAAABJRU5ErkJggg==\n",
       "\" style=\"display:inline;vertical-align:middle;\" /></a><br>(see <a class=\"ProveItLink\" href=\"../__pv_it/c242dac618cb21d040c7ac2a629204e0461b19020/dependencies.ipynb\">dependencies</a>)<br>"
      ],
      "text/plain": [
       "distributeThroughSum: forall_{i in Naturals, j in Naturals, k in Naturals} [forall_{a_{1} in Complexes, ..a_{_a} in Complexes.., a_{i} in Complexes, b_{1} in Complexes, ..b_{_a} in Complexes.., b_{j} in Complexes, c_{1} in Complexes, ..c_{_a} in Complexes.., c_{k} in Complexes} ((a_{1} * ..a_{_a}.. * a_{i} * (b_{1} + ..b_{_a}.. + b_{j}) * c_{1} * ..c_{_a}.. * c_{k}) =  \\\\ ((a_{1} * ..a_{_a}.. * a_{i} * b_{1} * c_{1} * ..c_{_a}.. * c_{k}) + ..(a_{1} * ..a_{_a}.. * a_{i} * b_{n} * c_{1} * ..c_{_a}.. * c_{k}).. + (a_{1} * ..a_{_a}.. * a_{i} * b_{j} * c_{1} * ..c_{_a}.. * c_{k})))]"
      ]
     },
     "execution_count": 2,
     "metadata": {},
     "output_type": "execute_result"
    }
   ],
   "source": [
    "%proving distributeThroughSum presuming []"
   ]
  },
  {
   "cell_type": "code",
   "execution_count": null,
   "metadata": {},
   "outputs": [],
   "source": []
  }
 ],
 "metadata": {
  "kernelspec": {
   "display_name": "Python 3",
   "language": "python",
   "name": "python3"
  }
 },
 "nbformat": 4,
 "nbformat_minor": 0
}
