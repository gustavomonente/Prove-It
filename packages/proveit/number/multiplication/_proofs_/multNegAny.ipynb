{
 "cells": [
  {
   "cell_type": "markdown",
   "metadata": {},
   "source": [
    "Proof of <a class=\"ProveItLink\" href=\"../../../_context_.ipynb\">proveit</a>.<a class=\"ProveItLink\" href=\"../../_context_.ipynb\">number</a>.<a class=\"ProveItLink\" href=\"../_context_.ipynb\">multiplication</a>.<a class=\"ProveItLink\" href=\"../_theorems_.ipynb#multNegAny\">multNegAny</a> theorem\n",
    "========"
   ]
  },
  {
   "cell_type": "code",
   "execution_count": 1,
   "metadata": {},
   "outputs": [],
   "source": [
    "import proveit\n",
    "context = proveit.Context('..') # the theorem's context is in the parent directory"
   ]
  },
  {
   "cell_type": "code",
   "execution_count": 2,
   "metadata": {},
   "outputs": [
    {
     "name": "stdout",
     "output_type": "stream",
     "text": [
      "Beginning proof of multNegAny\n",
      "Recorded 'presuming' information\n",
      "Presuming previous theorems (applied transitively).\n"
     ]
    },
    {
     "data": {
      "text/html": [
       "<strong id=\"multNegAny\">multNegAny:</strong> <a class=\"ProveItLink\" href=\"../__pv_it/f8c0046fed7ad7305953410adc33c70565ac40990/expr.ipynb\"><img src=\"data:image/png;base64,iVBORw0KGgoAAAANSUhEUgAAA7AAAAAZBAMAAAD6aN9KAAAAMFBMVEX///8QEBCIiIhmZma6urrM\n",
       "zMxUVFQiIiJERETc3Nzu7u6qqqp2dnaYmJgyMjIAAAAcRTyBAAAAAXRSTlMAQObYZgAACCZJREFU\n",
       "aN7tWntsFEUY/9q77d3t3l35gyiPmBytIEGJlxKBQJGqwcY/hKtGHsHYSwMhKJKLj1aFaK2JHiDm\n",
       "tLEgillooFLEu6BNqUE5W8HIw1xQoyVALgGMEoPEoLEFifPYx+zu3O12RVsSJvft7e588z32N/PN\n",
       "N7ML4LysaErBjXI9FG/T2qGwJ248seumtF2HwAZylNyVrcbLHpdipBTfsIKK/vvSwxACNo//TjkE\n",
       "Noz/QrnhBfYDhVwVsVk/fRn11DK3s8tKvmE8RUN072aXDbErKiFgj+B75x0CG8ygv7A8vMD+opCr\n",
       "EmaADEfR88+7FPQR3zCuoqGVM277bF4nBOxmHEOaHQJLGDcPL66hKCV35VvmvBx3016XgoIRnmF8\n",
       "RUMrl9027GWojYw/MhAdzbF4aB8ZXmB9KUruyvPM+QIcera5HR+jeIbxFQ0tox1023IbQ20QOtzZ\n",
       "uclx8nSys3PXMOdQmxRyl3ixxn9FQmaNS1FneYbxFQ0tFLhuiV1RCWXFfyWTax0DW55MvpYdXmAr\n",
       "FQpUV42z527tm8CmBKVsuPypYjZ6jsyd3oqYfbxTefp4hhkVmZQX6GsmP8INlXoADVZMtO8JKg92\n",
       "RSUE7HKAdY6BLYuBf5h3KTYqdE8qfNE+ro2F39hrP5PRi1fldApCeva0KeO3TaV0ntPkWV4gJaoa\n",
       "ZlBkVs4vZj/S58UBDfQ18IZtx9B4sCsqIWDvI2lUqTkdCcd4wHqjvHTQSZmfv0bArqEk3gIelMot\n",
       "phhx+MhY2ZaDmYpzhMfHZBPSIJRHQEpo7ddCWcZOIOGBc+ism2eYPuFmVOVCs97aNE2TA/WjUuM5\n",
       "IMPv6rkvC0/YCSA8BC7sikoIWB+Uot4l0HEoPP0lTIgTt2nbRdU1pTcxGxQJmGpZq7++oqHYUp5W\n",
       "6yFv36HGCLgTgstoSp5B8EXg4Rm0l1t7jXgVH+fK8JTiHOEpQdOPSEdZzJOHdBaEi2qdB2ctNgI9\n",
       "NLPB3aPezDBaF00VEeXCtIRujrGoWpEfsETjuRvEK4z5tgLmyipc2BWVELDBnE/h2903B/YFZY/a\n",
       "N8T903JS82GYxQB7zLD/hDnExbLwa4HMkakOZxQNO9bDY1lwJ4QBtqQZ0ugB1tLxEbe2a8SHMSD+\n",
       "oY6huAIss4xdkKHA0joyMooLLNEXhjxg9YIVUeXehG6OKY1WtKZjrMlnwHtZNx9sBYzRLk3ABvIL\n",
       "lRC9YYsMn0WiQZXxx55OkI57IMsA+77Auow5Qu8B7OdjwlaXpxQN/VmQsuBOCBOK0WA7oOFQcE1y\n",
       "BaSL5gipLWNzuLd7tY6azoKtwLRueS0zx8Z5oVhR7k3YSTxguPG3GhaI+WAngPKAyqgS3itetwyd\n",
       "T8KTLSpdXW8RYLfPxvMpGuJLl0RYYP1tOJhVrSadjHDM60Kdw6isfdI5S3V9xeNEg3cpapqi+SUU\n",
       "ExKsiHCrleQpnYHVUsoO2MtQlu/BznGSp/IaNL8xyRMCGsXY4gIJj0jS1tO8rI5VRJXbAkv8uFcf\n",
       "Lpfw3KyBjGKsjQDCg+CyJE/wMWoYLJfprnFXcM+j+D86n24MS7HD37PASngO6ojVy1AmU44T/ZbH\n",
       "+ayA+lzeWH2bXEk0hPYoWbWvpg7LKCQEnhFG4W1PS3UfJX8k1Bg0DDAy4+ADMx21wA/xLHYO9BWB\n",
       "trea86MrjzYGPXFoj5kFEln6jEt4PF58XW022LD+wYqIcgMuHInUj6y+K/EkvKKdTwfxLlaA1pZx\n",
       "kfAguKgrKmFgUWoIW7pBJD53QRYbKKYOQTsFNqg9DKIAZ2zTYBEIX8iU41PLCxJPVEjgLM5Q3QKn\n",
       "iQZptwLsTBCwjIJCmoFEBUt1LSWxYWLbrQZgyYxDDvp0tLNiSUPNlm5DtNKeUtUxY/Z/9FTEKrDR\n",
       "OONinl1BfH3ObLFhrGNFRLlBJUci8SOwW2dqv0OPKsFjx402N1pdxDwYLuqKShjYkEyeu/BcMtmC\n",
       "gN3qUwLLomQyGZFigVyCBfYEovGAgptPphzvPmL2sCRTSuw2VI+G6URDoEt5kuOByCgsREnLzdXG\n",
       "LcVaJyukliI7fR3F4ClQcEAXEw63FL1OdpL8kSJrcScCNiquqKS+jxUHYxCnI9b7ELkzAGV0xMK8\n",
       "CAssZh6AjZ0YFMLh2W5e9qVT/hPy3oixehAhSTTMitA12YACbAEhJNk6yak2vgRwggN2ruDefK8L\n",
       "YLFtjl8COMIlveNfAjtgeQmgrBPzWTiIT74DOAmbZUATXBA/jlANhLImYGGscCmHQSEcgeoY9AbW\n",
       "o0bkgH4lqfoH4ZOosfqFUDPV0HoQPRR04yx4CLAFhIRrIPp2B1utal8HzF5ZtwOnsXPa0DDtm1le\n",
       "2zkRWAfc13aGDTxNkeQEl8+DRcx3IADBZX5tp/i3KgV+FPy8L9agMVKXgVK0YNuAO/BZgLgZ2Ptv\n",
       "ryTAEg748MKrMWE81KWEseiAGnsb9s7Bm4+G6oVHgWgA8ZuflwO60Tp1CpFRQEig6rhM0mitWtXO\n",
       "vmhvfanBwYhdpaNpfv9tBtqRwMnA3YblvmgPzPgzYi9x59eFtwydCMBwYVdUMn4aMzmpTkYZEvRL\n",
       "0exm2lJkpxSZ5ZD0Cjo5dng51boGSZNRTMgRsFpxbT+N6XcjAzkRGlmfxmC4+kGnAt88Sallb8rc\n",
       "lwDM4L9zNnvZwzSmi4kp/Gr2hkmGVch5GIGl7IFxI80kK1x8YEOwaiXYAGsqOaZx0epCNzhCAu/k\n",
       "RySwh0bcV7hWuIb0lWLT//xdcajvxnfM7oq3qfEfB0LNd7toRy4AAAAASUVORK5CYII=\n",
       "\" style=\"display:inline;vertical-align:middle;\" /></a><br>(see <a class=\"ProveItLink\" href=\"../__pv_it/f8c0046fed7ad7305953410adc33c70565ac40990/dependencies.ipynb\">dependencies</a>)<br>"
      ],
      "text/plain": [
       "multNegAny: forall_{i in Naturals, j in Naturals} [forall_{a_{1} in Complexes, ..a_{_a} in Complexes.., a_{i} in Complexes, b in Complexes, c_{1} in Complexes, ..c_{_a} in Complexes.., c_{j} in Complexes} ((a_{1} * ..a_{_a}.. * a_{i} * (-b) * c_{1} * ..c_{_a}.. * c_{j}) = (-(a_{1} * ..a_{_a}.. * a_{i} * b * c_{1} * ..c_{_a}.. * c_{j})))]"
      ]
     },
     "execution_count": 2,
     "metadata": {},
     "output_type": "execute_result"
    }
   ],
   "source": [
    "%proving multNegAny presuming []"
   ]
  },
  {
   "cell_type": "code",
   "execution_count": null,
   "metadata": {},
   "outputs": [],
   "source": []
  }
 ],
 "metadata": {
  "kernelspec": {
   "display_name": "Python 3",
   "language": "python",
   "name": "python3"
  }
 },
 "nbformat": 4,
 "nbformat_minor": 0
}
