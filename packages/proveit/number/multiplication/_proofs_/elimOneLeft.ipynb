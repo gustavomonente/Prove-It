{
 "cells": [
  {
   "cell_type": "markdown",
   "metadata": {},
   "source": [
    "Proof of <a class=\"ProveItLink\" href=\"../../../_context_.ipynb\">proveit</a>.<a class=\"ProveItLink\" href=\"../../_context_.ipynb\">number</a>.<a class=\"ProveItLink\" href=\"../_context_.ipynb\">multiplication</a>.<a class=\"ProveItLink\" href=\"../_theorems_.ipynb#elimOneLeft\">elimOneLeft</a> theorem\n",
    "========"
   ]
  },
  {
   "cell_type": "code",
   "execution_count": 1,
   "metadata": {},
   "outputs": [],
   "source": [
    "import proveit\n",
    "context = proveit.Context('..') # the theorem's context is in the parent directory"
   ]
  },
  {
   "cell_type": "code",
   "execution_count": 2,
   "metadata": {},
   "outputs": [
    {
     "name": "stdout",
     "output_type": "stream",
     "text": [
      "Beginning proof of elimOneLeft\n",
      "Recorded 'presuming' information\n",
      "Presuming previous theorems (applied transitively).\n"
     ]
    },
    {
     "data": {
      "text/html": [
       "<strong id=\"elimOneLeft\">elimOneLeft:</strong> <a class=\"ProveItLink\" href=\"../__pv_it/3fc41670bf565f215cc445c9019bffb5e2e8f5bb0/expr.ipynb\"><img src=\"data:image/png;base64,iVBORw0KGgoAAAANSUhEUgAAAKEAAAAUBAMAAAAXeEBDAAAAMFBMVEX///8QEBCIiIhmZma6urrM\n",
       "zMxUVFQiIiJERETc3Nzu7u6qqqp2dnaYmJgyMjIAAAAcRTyBAAAAAXRSTlMAQObYZgAAAipJREFU\n",
       "OMtjYMAHOC9AMAbgnoBdw04gfgBi3MVh4gooxgSZ2DWwAW06DWK8wmHiSyjeuABdZh12DVxAB84A\n",
       "ea4BuzyvARhz5eRjmMijgF3LIQYGPqBing3YpdknQDDDfQwTuQSwa1kIdMOpVaum4/D0dCjGYiLD\n",
       "E+xa+BwYGH50dNTgMFEZilFMXKQ2RQfo5cPojlbKdAJ6mQcYUKkMDJ04TOyFYmQTuQ7wFrEDw/8e\n",
       "iHPuHQg8BjHXMFxXqAN6GSjlDI4gpKTWk54EZVZDMdRELnCULOD5xQIM2+1otp9iOL/AE6i7ABj0\n",
       "DEywNMy1x/gCV8QC1jdQvggUQ01c/wBsLAc4ZcSjmbiAoQNEsX4AWnqBHSZ6Y+cqBt45DAx7sJvI\n",
       "ngAW5VfAZiIDwyeYiZwPwkDpyFQtgAUYqgyuW4FC2H0NBfEBINIdEY7PwMKsX0EkC9DXDJ0pDAxM\n",
       "C/LYHfhAQrdu4o8Z7gX6QNXQmEECu5g+MGhBYoZhM9BYVoa3DAyLwTI7EaoOQzGDPsJE/w39DHOB\n",
       "tA2qgSy/OT6AyhTmA/Bw+cnAEN7R0aEwOxShzB2KzeQfwwugZUqLbEGcp2jJMUlLGVTe8IGChHcB\n",
       "OERZGdhAUsyLoMkEORdiKRIKsCfh5TDGfJ4HPAw8IPM5bQJA2R25pMAG8JQUUL9cOXSKgaEbnPjf\n",
       "tQXAhDsZcGUoPKUZMmAChiORJS6OjMsxgYGBvFqBF4dOYNIDAO/loJcUK4yWAAAAAElFTkSuQmCC\n",
       "\" style=\"display:inline;vertical-align:middle;\" /></a><br>(see <a class=\"ProveItLink\" href=\"../__pv_it/3fc41670bf565f215cc445c9019bffb5e2e8f5bb0/dependencies.ipynb\">dependencies</a>)<br>"
      ],
      "text/plain": [
       "elimOneLeft: forall_{x in Complexes} ((1 * x) = x)"
      ]
     },
     "execution_count": 2,
     "metadata": {},
     "output_type": "execute_result"
    }
   ],
   "source": [
    "%proving elimOneLeft presuming []"
   ]
  },
  {
   "cell_type": "code",
   "execution_count": null,
   "metadata": {},
   "outputs": [],
   "source": []
  }
 ],
 "metadata": {
  "kernelspec": {
   "display_name": "Python 3",
   "language": "python",
   "name": "python3"
  }
 },
 "nbformat": 4,
 "nbformat_minor": 0
}
