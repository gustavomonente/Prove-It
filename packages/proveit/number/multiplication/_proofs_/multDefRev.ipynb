{
 "cells": [
  {
   "cell_type": "markdown",
   "metadata": {},
   "source": [
    "Proof of <a class=\"ProveItLink\" href=\"../../../_context_.ipynb\">proveit</a>.<a class=\"ProveItLink\" href=\"../../_context_.ipynb\">number</a>.<a class=\"ProveItLink\" href=\"../_context_.ipynb\">multiplication</a>.<a class=\"ProveItLink\" href=\"../_theorems_.ipynb#multDefRev\">multDefRev</a> theorem\n",
    "========"
   ]
  },
  {
   "cell_type": "code",
   "execution_count": 1,
   "metadata": {},
   "outputs": [],
   "source": [
    "import proveit\n",
    "context = proveit.Context('..') # the theorem's context is in the parent directory"
   ]
  },
  {
   "cell_type": "code",
   "execution_count": 2,
   "metadata": {},
   "outputs": [
    {
     "name": "stdout",
     "output_type": "stream",
     "text": [
      "Beginning proof of multDefRev\n",
      "Recorded 'presuming' information\n"
     ]
    },
    {
     "data": {
      "text/html": [
       "<strong id=\"multDefRev\">multDefRev:</strong> <a class=\"ProveItLink\" href=\"../__pv_it/e6402bdb92d2b11ebc89358154f6c6606226829f0/expr.ipynb\"><img src=\"data:image/png;base64,iVBORw0KGgoAAAANSUhEUgAAAcsAAAAZBAMAAACsrRjkAAAAMFBMVEX///8QEBCIiIhmZma6urrM\n",
       "zMxUVFQiIiJERETc3Nzu7u6qqqp2dnaYmJgyMjIAAAAcRTyBAAAAAXRSTlMAQObYZgAABRBJREFU\n",
       "WMPtWG9oHFUQn8vd5u72di9+UDAtyrXRWLDi0SIKJnghaL4oXiLaCIEch0UqJRxVE61SQz/IxVpc\n",
       "W2lDtXQTIZX4547KUSO1Hon9Umk5MKCtVg60iqJnwBY0SnHmvd29/Xdx16tIwIHZP2/f/HZ+++bN\n",
       "m30A/qR17FlYbdI3VvZrEoZVKNHM/zT/JZqH6b2VJgDmGoA6JKZwJZpVarjgh6ZPC5uI43h4q5nv\n",
       "1Kq4gzplm6ZI81O6/9EPTZ8WNomTkz80Q1OsuoM65T1NkeYkncb90PRpYZPPUOWkI74SDbq7PZh3\n",
       "BXURKcEVacZVvCz6oenTwia0HoWVpmhOuYK6jfs1XJGmfHp29qCvFOTTwpb0cng4CE3RjKfcQN3k\n",
       "W66UaX/L55/3l2n9WVilheK1g1zr2rTGD839C+tUPRaTLqD3b9vXUQeZ7nxtI94tAFOiuRVgwh9N\n",
       "7xbCGX4eMGI8QkvJXtQeJb4EMOiVZqgdftHbZJaDztZIvtFBy/mE+LsRrWV5Rxh7fQ1MiWavNXUJ\n",
       "T34C66zLaezlx7Nmmr1uyc5VXtUHYLthT4SfQ0dugOA4PHSnV5pTFbjLaLPHKIIKxV0QvUw39EpJ\n",
       "lZZDmACOA1OiGYYWY7F+e6EbPpDUoGp8lhObK+KgKvxkpmm2aCgEBSf1O+MiQPPqWoDgMoSRQR8L\n",
       "wlrt+xtrNWepYnpwjwo7jJFYsvVDUFG8BDK1i1foABG2FAxzJZpSxahs5D2HVPgokZQMgC/mZkF+\n",
       "A+CEmabJoqEwqBVoBsahkNZoehnN60G8vBJNiC1BK4uxUdbUlrDRjFYfQa+6BzooGlFKpX2M5vwd\n",
       "nekQTfZ7S9jJTJNZwJudF50ZfNNIml/1GuwIp05TD9pCGT4G7zTFP4kH9xJCufrc/E4HDVahrWJE\n",
       "IQwzP/q4spp24jGk2VMJKLyMK0nvDlH2UkfCqTg1nD9nr2nJQnxaWAZ4wurU0fSw9qaqTpPh1Gnq\n",
       "KahQhBGsNz3T/APHao57qaUgkxBoAL+bqv9wxdTb8cWWFATv48c5dAu0qSJL1CUoUx4W4GccMWr4\n",
       "cM5OkyyCSSEHQ2us79sMW7RhTeqZh+HAlGJeDBA/kpBHJedoFqr67LpifbAbPs+UmZf4avvvI4Ee\n",
       "ScFZWQsleLD4Cqvmu7gymiyMs9ADwjP5/G6keZhPPUzPW/L5fOL1h+00ySJQbEHjndb3rYVObfow\n",
       "qMGkhgOCvtCygENyYvbmAzc5aYYz+uwatT6YWf9oNsW8xPIgbaNJoIh04Eu9YWb9dDeFzUWujKZM\n",
       "cXYddAmQ4aMZGuATXYBWughOU+oy0ySLghI5r9po4sK1d1a++wJ+7YyxjhBOfTRtxZ7nFMSFeQlH\n",
       "PRd7Oa7G/2Z0CZ4qwSm6XAT4CibVI1JVAinN6pV0vVo2cmxAGX6AjeakGn2JHfDULlyqxDYAIp/S\n",
       "5ybDqc9NW+l+XHdIbfQ7Yn7AvfxHpbs27BnYWIEIZqzQrhQOYn9xZnH+NMAeevhO7cW0g2Yoe6yb\n",
       "0ewvCu3Qrwjtwlq479aOCmwVcM2KFDWaHKdOM0IjqRdR+1/I+qkUuZcutUnkb3/ELLIBJxQXrTpr\n",
       "wbm50u7BznpXDDB+yrUs6lDOdfMq/FZHPP9WT2jacJMkpnjaJBn4tWjqyjOymImdcbA7eRU3Sc55\n",
       "3SSRFa6Nacre94LqXZ2+G5ln+2rb8vK1Txu9jZ+Hiv8ly76xzF+Ad4BrFsIw0wAAAABJRU5ErkJg\n",
       "gg==\n",
       "\" style=\"display:inline;vertical-align:middle;\" /></a><br>(see <a class=\"ProveItLink\" href=\"../__pv_it/e6402bdb92d2b11ebc89358154f6c6606226829f0/dependencies.ipynb\">dependencies</a>)<br>"
      ],
      "text/plain": [
       "multDefRev: forall_{n in Naturals, x in Complexes} [forall_{a_{1}, ..a_{_a}.., a_{n} in {x}} ((a_{1} + ..a_{_a}.. + a_{n}) = (n * x))]"
      ]
     },
     "execution_count": 2,
     "metadata": {},
     "output_type": "execute_result"
    }
   ],
   "source": [
    "%proving multDefRev presuming []"
   ]
  },
  {
   "cell_type": "code",
   "execution_count": null,
   "metadata": {},
   "outputs": [],
   "source": []
  }
 ],
 "metadata": {
  "kernelspec": {
   "display_name": "Python 3",
   "language": "python",
   "name": "python3"
  }
 },
 "nbformat": 4,
 "nbformat_minor": 0
}
