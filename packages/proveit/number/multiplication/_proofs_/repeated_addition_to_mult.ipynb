{
 "cells": [
  {
   "cell_type": "markdown",
   "metadata": {},
   "source": [
    "Proof of <a class=\"ProveItLink\" href=\"../../../_context_.ipynb\">proveit</a>.<a class=\"ProveItLink\" href=\"../../_context_.ipynb\">number</a>.<a class=\"ProveItLink\" href=\"../_context_.ipynb\">multiplication</a>.<a class=\"ProveItLink\" href=\"../_theorems_.ipynb#repeated_addition_to_mult\">repeated_addition_to_mult</a> theorem\n",
    "========"
   ]
  },
  {
   "cell_type": "code",
   "execution_count": 1,
   "metadata": {},
   "outputs": [],
   "source": [
    "import proveit\n",
    "context = proveit.Context('..') # the theorem's context is in the parent directory"
   ]
  },
  {
   "cell_type": "code",
   "execution_count": 2,
   "metadata": {},
   "outputs": [
    {
     "name": "stdout",
     "output_type": "stream",
     "text": [
      "Beginning proof of repeated_addition_to_mult\n",
      "Recorded 'presuming' information\n",
      "Presuming previous theorem (applied transitively).\n"
     ]
    },
    {
     "data": {
      "text/html": [
       "<strong id=\"repeated_addition_to_mult\">repeated_addition_to_mult:</strong> <a class=\"ProveItLink\" href=\"../__pv_it/4045da3f0e8f8794889e01085ea2349bb23498570/expr.ipynb\"><img src=\"data:image/png;base64,iVBORw0KGgoAAAANSUhEUgAAAYMAAAAVBAMAAABWAp/LAAAAMFBMVEX///8QEBCIiIhmZma6urrM\n",
       "zMxUVFQiIiJERETc3Nzu7u6qqqp2dnaYmJgyMjIAAAAcRTyBAAAAAXRSTlMAQObYZgAABItJREFU\n",
       "SMfVV21oW1UYftLe2yT33qQy3Q9F5NrC1BnwsqE/pJnpRKYwXBz4ASoJnSIFM6PzhxMpYz8kpYJh\n",
       "Dp3V0WOFVupHwyTMlkpDpvtRsQvr/Jg2GlE7FRfC2mldGfOce07SND1db1uG+JIHzrk5yXOe9+Oc\n",
       "9wIrtMMCV8z0pJx0sQ0JFNgk75hA28dxBa1dSiqxhiTHF2zyh+P/9yc5Vm/Kcgs+kpLK3FngOETH\n",
       "XudunRCoCry5MgnvLn50ZMHMMGWkMsty+An9UcrxBvYKrF7CxHIStKtkpDJ7h8M3NjDwhmN+b5xj\n",
       "9RL06eUk4BcJqTyrQxyzicRLjjdQZ3FoTe1bszIJ29sPNNsP7l838jtem2xXfvqyJUa3ETyexJGA\n",
       "iYm/N6fUW08WZBJ6NxykK3BMQqocf7Np03ygOL1hcTwJdDqW4MlxfIBvzA6ZhEzC1P6xR1cPX1Re\n",
       "RCtxXYN+C9uIcp2+F3cAe4D3gLhEgpbxPeem2n6wK6JomyVIDc9+DFaqWtD7Chx321VdMXXPZ7gx\n",
       "ujD2rzzVJobuFMcYTpD7JBLUVAe85+3hGcCVgcv0R6HP4Hpgnb4eOwiT0EpgSiQYxLig0G0erfEb\n",
       "I3yUausJM53siaDX4xxu1OXKi98/FsQnBqknlYiNbM5pjxD1TzF3hTgIEhC+OnNDsViRrGkz8JXs\n",
       "4RQQCea/zvktaNPqdD4fgxq4K8kkuGdvmd/geLH4bLE4Ze/OYx+NkRoJNuFgCD+yySDzt6BXSxxG\n",
       "zl1e6+vqJvjUtIzKr78dGoDvbWCkRgJwTl7OegkNPKg/A6PspKMSMKvPsS3+lozYErTxS5a0nBvN\n",
       "pSRgFNhth4S761y1BG/hIbr54M5mllPU0ukDtoTs7RvCCmO6J00X1SQS1PNyCfUFNObsINLARUwu\n",
       "gUaBUXriiHRTCWY3fDNSCRGWKthWVQtRQYotwEVtPmFteiXOgc4nqITWnCvJm4208eFj7Bggu90h\n",
       "P3vw3enF5TxcV8JGmQSa/qMkIyTQ/NVELdDi622k3x0MT8HaCsQkEnRyG6UV5VxzhtBi0i9UskPQ\n",
       "l8sZH1Md3TehkWh2dNPIsFNNxVlxkw4PVd2c/BhT5jwlb26hBJqk9NMTwrjP9iVNGHUO9cR/Lfoz\n",
       "iKRwp2sfTjxOtsCi5dwp1ldL2JF61W7oWmokMFLvDIzCV+UeRdDXZzh4ArahFeoLicR+KuEwLw56\n",
       "Nj6cSCTMtx6sanB46LS2jc35mkSiSUo/NAle/55N773UBfRtGoM/1kTDrO0KEO+uQO9ZNDyd3H5y\n",
       "MiTWV0voa+oNMr/8WttVcVJvrNxElOn9YQ74WOquR4uKKI+CspPXiooGO717xVG2ugbDby1729Q0\n",
       "GHGnDUa/AL/DS3g+jc/Z8BQwiUOkxygYMJhEb0sY2aXbPI2sWcLA2to8EasoAjl4aKSUjhB1/gOp\n",
       "vlPZMaDLvguLL4crpZXkcG7u6Aq78cXNtufyzfYCu5nWAjeRdnW0Ftb2yqM889cKXy86nb7yXN6d\n",
       "evI/e/H0OX7xPC2wxP/g/2P/AgI3dvPKiH+XAAAAAElFTkSuQmCC\n",
       "\" style=\"display:inline;vertical-align:middle;\" /></a><br>(see <a class=\"ProveItLink\" href=\"../__pv_it/4045da3f0e8f8794889e01085ea2349bb23498570/dependencies.ipynb\">dependencies</a>)<br>"
      ],
      "text/plain": [
       "repeated_addition_to_mult: forall_{n in Naturals, x in Complexes} ((x + ..n repeats.. + x) = (n * x))"
      ]
     },
     "execution_count": 2,
     "metadata": {},
     "output_type": "execute_result"
    }
   ],
   "source": [
    "%proving repeated_addition_to_mult presuming []"
   ]
  },
  {
   "cell_type": "code",
   "execution_count": null,
   "metadata": {},
   "outputs": [],
   "source": []
  }
 ],
 "metadata": {
  "kernelspec": {
   "display_name": "Python 3",
   "language": "python",
   "name": "python3"
  }
 },
 "nbformat": 4,
 "nbformat_minor": 0
}
