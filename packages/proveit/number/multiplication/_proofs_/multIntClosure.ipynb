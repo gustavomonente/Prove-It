{
 "cells": [
  {
   "cell_type": "markdown",
   "metadata": {},
   "source": [
    "Proof of <a class=\"ProveItLink\" href=\"../../../_context_.ipynb\">proveit</a>.<a class=\"ProveItLink\" href=\"../../_context_.ipynb\">number</a>.<a class=\"ProveItLink\" href=\"../_context_.ipynb\">multiplication</a>.<a class=\"ProveItLink\" href=\"../_theorems_.ipynb#multIntClosure\">multIntClosure</a> theorem\n",
    "========"
   ]
  },
  {
   "cell_type": "code",
   "execution_count": 1,
   "metadata": {},
   "outputs": [],
   "source": [
    "import proveit\n",
    "context = proveit.Context('..') # the theorem's context is in the parent directory"
   ]
  },
  {
   "cell_type": "code",
   "execution_count": 2,
   "metadata": {},
   "outputs": [
    {
     "name": "stdout",
     "output_type": "stream",
     "text": [
      "Beginning proof of multIntClosure\n",
      "Recorded 'presuming' information\n",
      "Presuming previous theorems (applied transitively).\n"
     ]
    },
    {
     "data": {
      "text/html": [
       "<strong id=\"multIntClosure\">multIntClosure:</strong> <a class=\"ProveItLink\" href=\"../__pv_it/1bac63e75a6f882fc9cd4a4629c8a997638786d00/expr.ipynb\"><img src=\"data:image/png;base64,iVBORw0KGgoAAAANSUhEUgAAAVIAAAAVBAMAAADm0Xu8AAAAMFBMVEX///8QEBCIiIhmZma6urrM\n",
       "zMxUVFQiIiJERETc3Nzu7u6qqqp2dnaYmJgyMjIAAAAcRTyBAAAAAXRSTlMAQObYZgAABBhJREFU\n",
       "SMe9l11oHFUUx//7MTu7k9lNXsREqa5Wq6DVIX3wwQQShBb8gGkF64OSJVjRB8uKsSpIXNqHTlKU\n",
       "QSGGSHVIwY8V3aWyVKHFlaygiYWBVJGShhUUwYdQxQftg3jvPXcms5uZbEeKB87du2fO7PzmnnPP\n",
       "uQtsI8kNE/9JTkqNJ312tH19Cm0+vxTuoo8V+EfejflIrUIaV57t+p5+/veN639yhb2FFW76LYpU\n",
       "r7OPghPziQWbNK582h3TYybaWbK3MM/GXCWKVFyZj/vEValxRS92fk81oddbZG+JBRMrF0oqVnsl\n",
       "7hNfkRpXtAH6zB9/aVqQOphTDLK3kF+uVt9GJOlatfpROeYDc2XS+PKzGJWjm+k2m3XIzpb2L8t6\n",
       "NZq037KON2M+L2mQIjcyfEPv9wo4LVG6boLmi5eknZEeAmaiSTMmsnH3RtYlxbhduAw8vr03OZGs\n",
       "d5eAD6mErAvSB6C1AzcqL7RwS8knTRtbdmS4ZAaXjhk0Veuk2g6kKnj0PmEMqx/cRk5SzogxsL8P\n",
       "ZWxpZ6Qqkn69/HhpFJ/rTsrxSVHG7t474eweV7X1RXlbYow0dQUq27X7hMs/Ibdxm3QimRBrddMG\n",
       "EyqoxsOenZcAV/Wz4sSCg3NFQ9+MPs6j99748Ysq+vCk15U80kQFNVOS4kjIfdwmnQKkgZpZ4Ou7\n",
       "7JHm2o8xxtEDO3kiMGk03gySvquwVNCGD2/tq6d2/SJbCUXd8HaeF/1aE1/CI40Sclr9/lbDdx3w\n",
       "L65wggFhZ6SYeYqRjrsJmzprQ//kiQBpdo4NH5gTDjKdqaa9qFzx3lwE5B2za0fV6jjMenYPUuF0\n",
       "YQeG/B017JeF0hxLjwFvR+EzFt6FO9DvaGJtGmguBUj7+IbYg4NQvuokTRmKzItTYlzU/ZJhkGaL\n",
       "+SN6x5rW2jI7a/4mFk65xTL4a4/4MaFrziy05yrCzkn7eUJPYhzKy5Z1lJGeVAOk+IPpjdjFfqCT\n",
       "NFFPyhJx0LKsIprLWJDZUCbVJm+fu62DVC3J7FRLfmiEU6aY5jGndNKeeVAWsDcGrZsHDWHnpHlO\n",
       "cB1GFJRoTdMHgqQX2a1/4/VqN2nNzl50Vs+tsQIl8Bouvg3tpvuuosYlzFTThCaDlP6Guqn/NmUi\n",
       "FRlxGVMNfM2nF4C1ICmXIeVPl5POO7lZb0jYE4/gdIWtv84TNJUS6xhyQjlzFaTvQX3I3HJCCZ5c\n",
       "PNJ0CXe7yLIESU+P0SIFSffetVOQ7q8rQ9hv86Genjw9yloY70AnmP7w9He/eiHlXc3vbG+9Ntmb\n",
       "dC+S5xHZY+jU1yF3sjzt7KYB4dHfPHTRTMVu5pPkeXoNTtIz29hb2x81pgNVVLn3/sD/Bzl7H2fd\n",
       "a/bvJG9H2++ZivlbIbP/S/4FiR4gxietuXEAAAAASUVORK5CYII=\n",
       "\" style=\"display:inline;vertical-align:middle;\" /></a><br>(see <a class=\"ProveItLink\" href=\"../__pv_it/1bac63e75a6f882fc9cd4a4629c8a997638786d00/dependencies.ipynb\">dependencies</a>)<br>"
      ],
      "text/plain": [
       "multIntClosure: forall_{n in Naturals} [forall_{a_{1}, ..a_{_a}.., a_{n} in Integers} ((a_{1} * ..a_{_a}.. * a_{n}) in Integers)]"
      ]
     },
     "execution_count": 2,
     "metadata": {},
     "output_type": "execute_result"
    }
   ],
   "source": [
    "%proving multIntClosure presuming []"
   ]
  },
  {
   "cell_type": "code",
   "execution_count": null,
   "metadata": {},
   "outputs": [],
   "source": []
  }
 ],
 "metadata": {
  "kernelspec": {
   "display_name": "Python 3",
   "language": "python",
   "name": "python3"
  }
 },
 "nbformat": 4,
 "nbformat_minor": 0
}
