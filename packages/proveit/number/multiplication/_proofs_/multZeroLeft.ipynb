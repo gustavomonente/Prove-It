{
 "cells": [
  {
   "cell_type": "markdown",
   "metadata": {},
   "source": [
    "Proof of <a class=\"ProveItLink\" href=\"../../../_context_.ipynb\">proveit</a>.<a class=\"ProveItLink\" href=\"../../_context_.ipynb\">number</a>.<a class=\"ProveItLink\" href=\"../_context_.ipynb\">multiplication</a>.<a class=\"ProveItLink\" href=\"../_theorems_.ipynb#multZeroLeft\">multZeroLeft</a> theorem\n",
    "========"
   ]
  },
  {
   "cell_type": "code",
   "execution_count": 1,
   "metadata": {},
   "outputs": [],
   "source": [
    "import proveit\n",
    "context = proveit.Context('..') # the theorem's context is in the parent directory"
   ]
  },
  {
   "cell_type": "code",
   "execution_count": 2,
   "metadata": {},
   "outputs": [
    {
     "name": "stdout",
     "output_type": "stream",
     "text": [
      "Beginning proof of multZeroLeft\n",
      "Recorded 'presuming' information\n",
      "Presuming previous theorems (applied transitively).\n"
     ]
    },
    {
     "data": {
      "text/html": [
       "<strong id=\"multZeroLeft\">multZeroLeft:</strong> <a class=\"ProveItLink\" href=\"../__pv_it/c08743b8e91b3cd5acf6ecd18abd024cc9aedbb70/expr.ipynb\"><img src=\"data:image/png;base64,iVBORw0KGgoAAAANSUhEUgAAAJ8AAAAUBAMAAABhQvLIAAAAMFBMVEX///8QEBCIiIhmZma6urrM\n",
       "zMxUVFQiIiJERETc3Nzu7u6qqqp2dnaYmJgyMjIAAAAcRTyBAAAAAXRSTlMAQObYZgAAAjtJREFU\n",
       "OMuNlU1oE0EUx/+ku91ks5v2oPelhR4KQkC8eSiKlJ66Fz9uDcUiXqRXqUhPZYMKvVWokK2FVkKh\n",
       "C+KhUmhY8RKhRhC0ohgQBL9KqChqe3De7GRjZmeDAy/M/ubln31fE6DXyjUiS6wttT/hJm3epQg+\n",
       "iMw68VQ66F9M+IZvXY6f0cPnFMFPkX3BuiRgNmXXQmBe5/guRTav1rOL3OxBWLJAKPu+AHY5Lvgs\n",
       "pEAtaCxyy5aQ/yMdrci+C8COT9iuV6tLKREvRTZQgnYoRzgmgZ/AZMDxL8+7kSI4HNlmEdpBnL2h\n",
       "q2dYYFZRSup3JuhwPAOUUwTvRFapQY8FN/DKuckC40nd3af1gcpwBEw5HJ+VSpa/fWVabOciqxSh\n",
       "H9FbEKvjuT/BvGaljmVvOFXj2ECm3brm9smGecnXv4rnY5G1Q96kH/bh0ZHeUoZM2GoYbfp6qwr7\n",
       "HrDdLciKkqeiGCVOD1SCVJSdgONc8wL11akRV6NEn3vEUHfI2XnYnbbRf9CnNtvJ4Ufasvd+70e4\n",
       "fBnI+NeMsQIdvNlLFKWrsR9nWhhtFyXR2Bw/ZKo6vgGr/Av/zP0TYXNYcQXSDrMtui76avIQBOZx\n",
       "gQccAr+Bi57nOcvnO07jwjaGZuLkT48O01VScCVBMxxxBbZ9nmQd/XTQd1/0R2f0VGsdvXHFalqw\n",
       "SD532o0nX1wOqhWiN157GdaBW3wU9hficMpIGaPk9aXEGZZD1QWbXFl1IlLwf/wF7Kn9Gf4LYK2v\n",
       "laO+YRYAAAAASUVORK5CYII=\n",
       "\" style=\"display:inline;vertical-align:middle;\" /></a><br>(see <a class=\"ProveItLink\" href=\"../__pv_it/c08743b8e91b3cd5acf6ecd18abd024cc9aedbb70/dependencies.ipynb\">dependencies</a>)<br>"
      ],
      "text/plain": [
       "multZeroLeft: forall_{x in Complexes} ((0 * x) = 0)"
      ]
     },
     "execution_count": 2,
     "metadata": {},
     "output_type": "execute_result"
    }
   ],
   "source": [
    "%proving multZeroLeft presuming []"
   ]
  },
  {
   "cell_type": "code",
   "execution_count": null,
   "metadata": {},
   "outputs": [],
   "source": []
  }
 ],
 "metadata": {
  "kernelspec": {
   "display_name": "Python 3",
   "language": "python",
   "name": "python3"
  }
 },
 "nbformat": 4,
 "nbformat_minor": 0
}
