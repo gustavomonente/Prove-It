{
 "cells": [
  {
   "cell_type": "markdown",
   "metadata": {},
   "source": [
    "Proof of <a class=\"ProveItLink\" href=\"../../../_context_.ipynb\">proveit</a>.<a class=\"ProveItLink\" href=\"../../_context_.ipynb\">number</a>.<a class=\"ProveItLink\" href=\"../_context_.ipynb\">multiplication</a>.<a class=\"ProveItLink\" href=\"../_theorems_.ipynb#multNatPosClosure\">multNatPosClosure</a> theorem\n",
    "========"
   ]
  },
  {
   "cell_type": "code",
   "execution_count": 1,
   "metadata": {},
   "outputs": [],
   "source": [
    "import proveit\n",
    "context = proveit.Context('..') # the theorem's context is in the parent directory"
   ]
  },
  {
   "cell_type": "code",
   "execution_count": 2,
   "metadata": {},
   "outputs": [
    {
     "name": "stdout",
     "output_type": "stream",
     "text": [
      "Beginning proof of multNatPosClosure\n",
      "Recorded 'presuming' information\n",
      "Presuming previous theorems (applied transitively).\n"
     ]
    },
    {
     "data": {
      "text/html": [
       "<strong id=\"multNatPosClosure\">multNatPosClosure:</strong> <a class=\"ProveItLink\" href=\"../__pv_it/0f5c9a00447444d0bd5e9c940adc3356c19168370/expr.ipynb\"><img src=\"data:image/png;base64,iVBORw0KGgoAAAANSUhEUgAAAXQAAAAbBAMAAACemGlbAAAAMFBMVEX///8QEBCIiIhmZma6urrM\n",
       "zMxUVFQiIiJERETc3Nzu7u6qqqp2dnaYmJgyMjIAAAAcRTyBAAAAAXRSTlMAQObYZgAABH1JREFU\n",
       "WMPdmGtoFFcUgM8mO7O7s7OJPxSMoXXT1Ac+MCQ/FJ8bCtofQhMtPkBwCQakBQmm7tYHGkR0VYSl\n",
       "YlyE1vFPtFuaDbVL6w9xNfZPRRhFfLXCiiAYMIaiUNMinvuYmTv73okR2gv3zp07c+d+59xzzz13\n",
       "AP6nSY7untgHPn/XRGHMQczu6L7SL3omOJAUftfofZhX01r/5KLXaZOBrurvAb0Vs0+vutul0uiw\n",
       "h6FnyeVRUfQ6cgnozsh941hccLDE4vZ75UVsBNSZUw30ZoZ+g1xGiqKrQxOYd7UFi2fV91OyOQ1e\n",
       "fQNACuTR0Q9HnwOcZegJop2+ouj0UcKhvbhQ7kCLg47XcqdhV00QXKbBeIYoOtEoVW0RWycTcsMh\n",
       "+ln8tifuoOM5fr0fjdIJkD/VutnCo+i1fRQ98HsyebrEMv0zmfy+xyH6LcynHXmmEL1smmdo/VR4\n",
       "ULPQa6YwD/N3LLavBHp9LHYkU82wwssr+ZLyLW+dUb7jyeEmTVwkoIxY6/YnKWyhu8cZejfA0RLo\n",
       "cgd4q5pzwbZjmE9gbo/XjaEOS/dzN8ALox7I2h2NHFdDty106RVD/8S+oKXe69AUttDdLTAIDtGf\n",
       "Yt6L2vuAWOf6xcx7FOhClX1OhyVGg5+aqFf0ll/IG0mNSuN7ydA9UGO67R+GV8CvqlarCVtSDyys\n",
       "bNPnMgvovZjRGdeOgwfjjjW0LZXN94VvSLlKg53mt8ZI2TmKydD/ADy2OnB0VTf3zMDxMxpcDrao\n",
       "4m56EypYpabMw229baa/esLQXX2Q6jDQPQXCmggppoPyyo6eELUuZTqtrY6j+7Lo7gMr1jUT28GU\n",
       "Tn9jQ/+ughhKlFnQ+mFmMKkMXAEDveg29C/4xzgHuKm2XLbt9Q/LfqTXPIY5ug3HbtddcRYUpNUf\n",
       "t4jo3n70VErrjo780cxGUWYBfTtbpqkh2OGPl0P/B+TsJcbBl2lt0ETHcVRrEgwPAxdRxDNzoF5T\n",
       "6KhpyAyL6H6yvM53bNVAzokHaCNNoswCehNm/JY3GIioNq1T6yZWz8ycpoNwL5yhHAjNPOxe088P\n",
       "cVfLJ5n7dagnwnVBO0hfx2IHEf1bjy1y/AtzG2wE6WoOOmlkJKLMAvpnGgVWumb1f2w3mIhh9RGz\n",
       "aeCjzV0hyoGobDYHDrERpQPTsbQcHd9NUQbyfBosl+gRBAnc62zoDzE3wmy8y0GnjfTTosyCYblC\n",
       "YiCwphI/RTngPL9beySaLbTZBoV43TcGX6XhN1K9g5t/bryuvIYTyVx02hhY9igD+TJz7WTE8OuX\n",
       "SsJkypEXfuWklCagu8OwQAcvmpR7fwjkvKNGg/RSJ+i+Y5DQjII0+ucS35knM58NYpPGVn3yQFd5\n",
       "dMahZEu/dbfAKWkuznvBU9Lq+c0UXWqEzrjUQIpG1tgtoeHlyczTl86OGuUij11VH/CIwfjNO17r\n",
       "qblTQGaeBp0d8B6U2UUy1aJLi5aJx0ZWU8L+m8X7+52cM8qmREV/BPL+w+gFaiXSz5OBvpT+h4n8\n",
       "h/9vvQVzKjYXCUtkFQAAAABJRU5ErkJggg==\n",
       "\" style=\"display:inline;vertical-align:middle;\" /></a><br>(see <a class=\"ProveItLink\" href=\"../__pv_it/0f5c9a00447444d0bd5e9c940adc3356c19168370/dependencies.ipynb\">dependencies</a>)<br>"
      ],
      "text/plain": [
       "multNatPosClosure: forall_{n in Naturals} [forall_{a_{1}, ..a_{_a}.., a_{n} in NaturalsPos} ((a_{1} * ..a_{_a}.. * a_{n}) in NaturalsPos)]"
      ]
     },
     "execution_count": 2,
     "metadata": {},
     "output_type": "execute_result"
    }
   ],
   "source": [
    "%proving multNatPosClosure presuming []"
   ]
  },
  {
   "cell_type": "code",
   "execution_count": null,
   "metadata": {},
   "outputs": [],
   "source": []
  }
 ],
 "metadata": {
  "kernelspec": {
   "display_name": "Python 3",
   "language": "python",
   "name": "python3"
  }
 },
 "nbformat": 4,
 "nbformat_minor": 0
}
