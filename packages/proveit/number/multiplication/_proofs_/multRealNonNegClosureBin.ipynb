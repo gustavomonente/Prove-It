{
 "cells": [
  {
   "cell_type": "markdown",
   "metadata": {},
   "source": [
    "Proof of <a class=\"ProveItLink\" href=\"../../../_context_.ipynb\">proveit</a>.<a class=\"ProveItLink\" href=\"../../_context_.ipynb\">number</a>.<a class=\"ProveItLink\" href=\"../_context_.ipynb\">multiplication</a>.<a class=\"ProveItLink\" href=\"../_theorems_.ipynb#multRealNonNegClosureBin\">multRealNonNegClosureBin</a> theorem\n",
    "========"
   ]
  },
  {
   "cell_type": "code",
   "execution_count": 1,
   "metadata": {},
   "outputs": [],
   "source": [
    "import proveit\n",
    "context = proveit.Context('..') # the theorem's context is in the parent directory"
   ]
  },
  {
   "cell_type": "code",
   "execution_count": 2,
   "metadata": {},
   "outputs": [
    {
     "name": "stdout",
     "output_type": "stream",
     "text": [
      "Beginning proof of multRealNonNegClosureBin\n",
      "Recorded 'presuming' information\n",
      "Presuming previous theorems (applied transitively).\n"
     ]
    },
    {
     "data": {
      "text/html": [
       "<strong id=\"multRealNonNegClosureBin\">multRealNonNegClosureBin:</strong> <a class=\"ProveItLink\" href=\"../__pv_it/2b9088612242855f9c8a76074a4f38a1433a0f700/expr.ipynb\"><img src=\"data:image/png;base64,iVBORw0KGgoAAAANSUhEUgAAAQEAAAAcBAMAAACT/Rc/AAAAMFBMVEX///8QEBCIiIhmZma6urrM\n",
       "zMxUVFQiIiJERETc3Nzu7u6qqqp2dnaYmJgyMjIAAAAcRTyBAAAAAXRSTlMAQObYZgAABDVJREFU\n",
       "SMfNVl2IG1UU/pLJ72SSLLIPxUUYW39KqRB2cVmwXSNFfVGbIq59ELL0R6GiLMV2xVaJZdHsLuLU\n",
       "By0idOxClTWSYNG6IBhapZpuSyyia6kyFCpYtO6DD5IH8Zx7Z5LJJOtmNwv1htzJnLk5893vfOec\n",
       "C9yssXnzTXv1QwbP8XJsdK08BtMrWx8dzNAcTqMG/9ogGFnpH6JDBKGYQR8Ca0PD9RX/Q/0mjayB\n",
       "l4ELawFA0Xlb1dYHc/8B4aKZNbGfYmECFlt+7gLBcXKCDz1veHUMCBnNxh/XvXljnUTq/4M5uIV+\n",
       "pIDzqyOyMc7y9JvHmCDPquUxWiexc4HxnpgWOviLuFsEjjGHuS4Q9HFqpTzGZImmMx5j7j1EoqS9\n",
       "woSTC8AhQkugtNLqAUTZT9hDOLbzVt+3bxbGxy0bgWJYmJkQgUiJejBE8Cuzs+90QUG8h6YWB+dE\n",
       "KGSh2LmpwYFi5PCEXRNF+G6n79/5/OFuUoG3t4HJ2NJ/a9366/r7iFoRG/W6KwohbwVgsvYCky1+\n",
       "uWqhcMVsUwGF1wsV5z7CGnqDvg8YicV6LvxjFg3EBfeNlCAEp4c9LrP0pm2togV+YGVMqUKhjzU9\n",
       "jj/LrzXr6ZcYlXpSb4MilvMrYjUkdcTGBMSGEo+Ov0J+P8/TcIAcp0iF4XeXk9Mbd1/l9kG2HnCM\n",
       "bTLJ7f7Xhqn6BJ4DfPSxR5if9lI0agjrYvsyNMUygoKTHTdo2ErcFvGyWiQEWjVcJ++LgapfQ4U9\n",
       "Pb4p2oMDYpfMx0dnt0Ivayc4Dv3mUYQzrsxnBL4cpziNg9K4vWQjOObKRuVBb94zB1Gr3loW5mZB\n",
       "CC4zJ8FpB0GSAhmfftckBPGPhbhLLgQROwq05y8b5aCK+00ERBR87nowdcmDIMsqmdxD08xd1xDg\n",
       "7TCCMlFOXC9CiDu7fh+JhQYhKNDlsyqS8Dl0hmwlFkt4PuaILpkmWdhKFH3DQTCiZNoUjlMEVT0Q\n",
       "rCEBiWAgJfVmK/Fuc4PsHnpZGZAidSnR3yMrc0SPH9QcY6gaod0oZXFzyFWVtdLeZgTfCcAEUkkF\n",
       "xzAjPCpPvwDc68rGI/hFFWLUB59JQ2zClY0BrokPk2nXnW/fURdUP7fdhNzvyQnT6UzXkP+zuf4O\n",
       "ifyiBb6SfxRPUpbofu2t75th9mIw+GI+fwT6t/e0OQ71tqvKYnxgXx95fdxaqqBdrSeFEblshmQU\n",
       "Yk+Z6vz8/FfOsxo1n1EZhU8rKNCjJhxb2nUmMc50cFapOb98RvZRaBmpg0rZ1Xim8FI8h68lAq3Q\n",
       "6mQHT5PtvFsddJV6kQ7s+mQrMM0V6WJ5ZthVhPswMk86o+jFDv+uDrR6DZVaTygyT43lEYQ9qeEn\n",
       "HXjXxORlI+lgCSKtJU5pP3XQ1650sGZu2RWnujhcdHI0qi67IpZeNQLFxP9g/AvFyh0bWBhevwAA\n",
       "AABJRU5ErkJggg==\n",
       "\" style=\"display:inline;vertical-align:middle;\" /></a><br>(see <a class=\"ProveItLink\" href=\"../__pv_it/2b9088612242855f9c8a76074a4f38a1433a0f700/dependencies.ipynb\">dependencies</a>)<br>"
      ],
      "text/plain": [
       "multRealNonNegClosureBin: forall_{a in RealsNonNeg, b in RealsNonNeg} ((a * b) in RealsNonNeg)"
      ]
     },
     "execution_count": 2,
     "metadata": {},
     "output_type": "execute_result"
    }
   ],
   "source": [
    "%proving multRealNonNegClosureBin presuming []"
   ]
  },
  {
   "cell_type": "code",
   "execution_count": null,
   "metadata": {},
   "outputs": [],
   "source": []
  }
 ],
 "metadata": {
  "kernelspec": {
   "display_name": "Python 3",
   "language": "python",
   "name": "python3"
  }
 },
 "nbformat": 4,
 "nbformat_minor": 0
}
