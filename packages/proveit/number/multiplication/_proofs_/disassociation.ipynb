{
 "cells": [
  {
   "cell_type": "markdown",
   "metadata": {},
   "source": [
    "Proof of <a class=\"ProveItLink\" href=\"../../../_context_.ipynb\">proveit</a>.<a class=\"ProveItLink\" href=\"../../_context_.ipynb\">number</a>.<a class=\"ProveItLink\" href=\"../_context_.ipynb\">multiplication</a>.<a class=\"ProveItLink\" href=\"../_theorems_.ipynb#disassociation\">disassociation</a> theorem\n",
    "========"
   ]
  },
  {
   "cell_type": "code",
   "execution_count": 1,
   "metadata": {},
   "outputs": [],
   "source": [
    "import proveit\n",
    "context = proveit.Context('..') # the theorem's context is in the parent directory"
   ]
  },
  {
   "cell_type": "code",
   "execution_count": 2,
   "metadata": {},
   "outputs": [
    {
     "name": "stdout",
     "output_type": "stream",
     "text": [
      "Beginning proof of disassociation\n",
      "Recorded 'presuming' information\n",
      "Presuming previous theorems (applied transitively).\n"
     ]
    },
    {
     "data": {
      "text/html": [
       "<strong id=\"disassociation\">disassociation:</strong> <a class=\"ProveItLink\" href=\"../__pv_it/e0405b126a3fbe018375242d801c7be8cc019c390/expr.ipynb\"><img src=\"data:image/png;base64,iVBORw0KGgoAAAANSUhEUgAAA2wAAAAyBAMAAADSLkV4AAAAMFBMVEX///8QEBCIiIhmZma6urrM\n",
       "zMxUVFQiIiJERETc3Nzu7u6qqqp2dnaYmJgyMjIAAAAcRTyBAAAAAXRSTlMAQObYZgAACwhJREFU\n",
       "eNrlXA+MHFUZ/253Z//Mzt42pAHapmZ7Z2uDkm6oAqGlrBJsJKHsYaA0GO9y0hi0klPwpJTgUhNZ\n",
       "/tQsNtI/igxtoO0VvBW4lDNo1x7U2FLcoEaopWxsIVK1nuXacFtrff9m5s3Mm5m9ub3LXefl7vbd\n",
       "974/s+8373vf++bbBRhPazl/vgLTqL0G07nJXfT1D+f/Mz5FLYNb1Gn0vpXKtIYNVtCXXVt+OU7Y\n",
       "8tPqbS+Y3qhBqsY6HUGCLTlD7z7lV0eiOjaTJb+GBkXEx4MI2zM5fZco+NWxE+SHerx3IZ3nLr+G\n",
       "oiWXdxAo2H6g91p9L4IPkXDWm03n+YXv+KPm4i+CBFuyrnf/6Ht3QXCky958Oo+S8Wtqn4j4QPBg\n",
       "ixmrZK1vHWiZ3txA8KzzyDN8u3QRcW8pcLC9p3vGRI9fHZvQ7+8a4DN4jvs11ZpzvvWCBNt9ei+E\n",
       "3/zGoXney8bK1I5+P2hb4iln8Axxx8a2+Q34xjY2p4poC03VgwabNKJ34yiKj8yCfyOie0hJmULG\n",
       "BG5Abu9/an8JbnePJwgPvI+6R42zwzr4kZdB2FSO10IXGYe0N0/idkxXfCposIWNXSaGAoZnqnA1\n",
       "SIuJu5RFM0/2F8wEEvGuZNWtI5FNOvPlq8BJUAXGA4Djkj06X6wC32QGQXUwiGKOaBnuJRGU0JOf\n",
       "DBpsLV1GF20b16nwHbScyNz0C4JtQqNMbAHhvzMR/DXor8BycBAkfJSHtE5emWaQKhMYDGMnKBNP\n",
       "KA2L3sWiUsBg66yaYLsU5NPaLMa6BJs/plEm2noZbOhIdnOZwSYS7AWNx4CNKdNho8oEBlsKOo8Y\n",
       "tqerAYNtUYl3kvJ/ITmsz6LTFkWYIlwqEznJdBWvm+XuxzbMI7dj5JZzysDLIF2jSvaWLo2T7m0f\n",
       "WHxGgGB7CPiQRD4L0dqgF2yESUmrfEiSzslzwQs2zBOO1EwhyTm0X3nBhvCGcutfb6xzeWNTi/cE\n",
       "DLZLuUgchYbr4S9dFX4WyX6DNxhu4yFMW/cYkiicj1bjWRNsuowhSHh2KXhlLNX5rgT5czaDulUW\n",
       "N3XB9nx6NelWRO9CGaawEYl3/cPWSoLV6pRHTf6Ii+vR3D3Xtqo7Z7r5e7UNxth4KNN6gwehJV9x\n",
       "CEywGTK6IOXB5wxyCGAzfugtsBk0rNL2xrsZ6FiIvWurcEmkTlPYDuKXE/5hU4gJdcrDJp3i/lnL\n",
       "A+gJeD1vSm5p+Hm2NGKWLQYaMbhQmoEkd7i8jQ7YjA+CBf+wEdnNU99HJs9y/+ip5GQDs5isGe4q\n",
       "pZ289zRgEu9A1lRyIwbXSz0Zh1QycxodZKEoZf+wkZV6cOrDljrNb+xs0SSuOpPxXm1ruMc8j7Ck\n",
       "1/e7G1g1YHtw05DBD6E7L35wg9oZClvqQF/fpvGEJEf6+nb1TH3YQqM8En7dC+wcA+96A+axt7jD\n",
       "I8GP2Tr+uFh8YDywpYvFhytTHzalzv83CUUJ0S/NRmvc9/PYdxzon2CwrSa3RMiab7YEMjS9KYIt\n",
       "mne8MzzaiprrcORkM2EL1yf5PonuL02E2ksYbNcTN0rTpSDd8xrMI+FoknKtXJoLXYw792pyOoXB\n",
       "FskKnry/sr/XxYcnH/96N1gfTTAimA5JbsNORPFlRIfhgmjfZrDFIMQW/u6ha+EVRQ1r0bz86uJq\n",
       "snAArgEtvclT9ON2D1zO68Vann0Uvip2nFiDfLsq/RMv6LKAyLV/uA07yDhexoUGm1KNsVjrsa0q\n",
       "/DqTVTSOtwf7IPlWGCr6eYOn6LAdAj4iIVreqUBSDBvWkPoZwKvsXGMjcm3UbdhBxvEyJt1JTlD7\n",
       "HoMtUbsNSLr0ekwYGPgxgW3bEuz9kBu6Y1WmAiy9aaLosP1c6sJ5gbvpZoi1RO5AfbNn376ApAuI\n",
       "hhsGkFX02tn2DbAR+ZPlAtU+vK/NTUYbtl+GMnphwKaFJPDInehNpVWa5hpQXvgKfs2uoGmrZP7A\n",
       "nzFIJL1pouiwxZ/MoTN9vlOFKJpmrCX1gnU3lr8r1fEY0XCYRUmfUtuJiInIRUH3ozgpWjIPx3Id\n",
       "bjJ4eBnu2C4jdHqckeGk5wfEEc3FGmwvIR+3dQ/IJEAYgAqOBOTSfthOQVJI5EDSmyaKDlsSP+ld\n",
       "DCtB+q1KtSR3W02Gs1IPfqZLNPxqUDvXHMUiZiJ3csnQJLhp+GqQ3GTQMLyEr992GamRcZ/DTHKX\n",
       "NIfHpYkrYz/SYMOPz9EUSvcVi+sRbE/RrW4DrCwWi5lkPlHFWxdJb5ooOmyA02RzcIF9TKVaEgPW\n",
       "NGhLOUTiU6Lhp7dS4ky4EouYiZxMLmyXmQPgJoOHcfGN/TKSIw4ZCZ/tWJN4nJuwMpY+tcOwpVSa\n",
       "Lu2iqy1yC4sHonRtwQ0ZLb1pohiwHUbyo7Chj8wn0XJNxlIu0V+KH1ZfzFAN4W20cqKOZhmLmIhG\n",
       "S6st5dQRy/Aog81BBg+vvSkruAzpnDByyfqd1LNN4nFJEIiOUFoq2UiXvo47fwI4ApvRqpkBCsYk\n",
       "lYNUJfEoTW8aFBNsuM2SRqpkPomWja8jo5tVJMf+tJQ6b4KXs1RDYmke9iHy/akCETERmQD6ialv\n",
       "w092WIaPQ9hRhg3P3VrlL8PkXWx7od8jcaTeHB63XKioMpZmxDu4dGkcucHIgzl0I3eUIVQAeAwN\n",
       "LD+O7lxpDk1vGhQbbF/8dDuFDWsB+c2/r0ZapFnQUcJ/ypHuF6/F+RSiAZ4/+cM80nnbG3TlmIhU\n",
       "oISl11RoRMgPb7z8MkcZOhz5G15BxmVo7UHR1PjOxio9zeFxa6LKWBoQm55uLyxqDwTLKB5AwRfa\n",
       "PhjGWjimU6yw0XtXtWgBU29HxK6TiNgN6TIHYQwypBfKnCibLoO160Qz007W7BWzvXORFqbW7nbP\n",
       "xyZ2Hr121Q1svQh2SJQyG7bBxsWedz5h2poGXVLJnN9dtEQcwbJe9DKbTosIZ4jJnIAxyJBeuHQk\n",
       "J7rW91QBcQP6/XypFc2Fe70qY2o3NusTaDv3qFUlPHxyF9euehkiRbDzyB15VDTjBWfYUrDGHH1W\n",
       "G4LNpsXe89JZNcskttTGIuN6BusUrY51yJPOhXABPOpVKROs0nn2qnDKq1YV82jOgPDg2lUPQ6QI\n",
       "Fh0/cVf0KPbpjDNsDbeJLgFKDTUvi86VtxptJsl6xTLgVa9KmQyeZTgU96hVXcbCdU4JeBmiRbD9\n",
       "BMFOwQUHrrw1PCyGDbmd/jx41KsyJoPnGETOetWqEh6zEvAyRAvMKI8ItochYLBFRsROsr8Ce8Gr\n",
       "pocyfcGY63N47XjU8xCebUt4JZ6G6PockhY4cAbuoxtwjzgk6S/D3Sj+8YCNMFWMg9gI/liHB2yE\n",
       "J7vCyB/g2lWvmi9SBPuvl7GbFIQkocB9UEoYSg6R1GevIq5XNTYgwpTYbcD0LfxJcFFxLCeEeXBy\n",
       "V3fTuHbVashaUUuKYM+QeV3quEEHCbaWip2Gy1W75z/5SXG9qrEBUaa4cWjd/pkqiItjDSHCQ84Y\n",
       "rOHaVZshS0UtLoKVLiLJhPft1xvADwEn627JrUbqVfuftWyXjaRBRu13ilcLFToS9spYAD05Hagv\n",
       "uBAk5I1UciP1qr9RLDdCA7BJ1sxiA4bimZUhYSo5OTuAsD0huFqtjrGhetXnfm9OaDRSqxqyZFIa\n",
       "MdRais4XPrgJ5NfJiBbHzok2Gs/4lRRUxn4NAggbitJsbaKLEizJ3bFkiOwJolShSbBNry8mjGYm\n",
       "3eSau5qorGlfTDjNvgb0szCdm0wL3fDXgP4f6qOiL7BxXhIAAAAASUVORK5CYII=\n",
       "\" style=\"display:inline;vertical-align:middle;\" /></a><br>(see <a class=\"ProveItLink\" href=\"../__pv_it/e0405b126a3fbe018375242d801c7be8cc019c390/dependencies.ipynb\">dependencies</a>)<br>"
      ],
      "text/plain": [
       "disassociation: forall_{i in Naturals, j in Naturals, k in Naturals} [forall_{a_{1} in Complexes, ..a_{_a} in Complexes.., a_{i} in Complexes, b_{1} in Complexes, ..b_{_a} in Complexes.., b_{j} in Complexes, c_{1} in Complexes, ..c_{_a} in Complexes.., c_{k} in Complexes} ((a_{1} * ..a_{_a}.. * a_{i} * (b_{1} * ..b_{_a}.. * b_{j}) * c_{1} * ..c_{_a}.. * c_{k}) =  \\\\ (a_{1} * ..a_{_a}.. * a_{i} * b_{1} * ..b_{_a}.. * b_{j} * c_{1} * ..c_{_a}.. * c_{k}))]"
      ]
     },
     "execution_count": 2,
     "metadata": {},
     "output_type": "execute_result"
    }
   ],
   "source": [
    "%proving disassociation presuming []"
   ]
  },
  {
   "cell_type": "code",
   "execution_count": null,
   "metadata": {},
   "outputs": [],
   "source": []
  }
 ],
 "metadata": {
  "kernelspec": {
   "display_name": "Python 3",
   "language": "python",
   "name": "python3"
  }
 },
 "nbformat": 4,
 "nbformat_minor": 0
}
