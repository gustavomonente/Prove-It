{
 "cells": [
  {
   "cell_type": "markdown",
   "metadata": {},
   "source": [
    "Proof of <a class=\"ProveItLink\" href=\"../../../_context_.ipynb\">proveit</a>.<a class=\"ProveItLink\" href=\"../../_context_.ipynb\">number</a>.<a class=\"ProveItLink\" href=\"../_context_.ipynb\">multiplication</a>.<a class=\"ProveItLink\" href=\"../_theorems_.ipynb#commutation\">commutation</a> theorem\n",
    "========"
   ]
  },
  {
   "cell_type": "code",
   "execution_count": 1,
   "metadata": {},
   "outputs": [],
   "source": [
    "import proveit\n",
    "context = proveit.Context('..') # the theorem's context is in the parent directory"
   ]
  },
  {
   "cell_type": "code",
   "execution_count": 2,
   "metadata": {},
   "outputs": [
    {
     "name": "stdout",
     "output_type": "stream",
     "text": [
      "Beginning proof of commutation\n",
      "Recorded 'presuming' information\n",
      "Presuming previous theorems (applied transitively).\n"
     ]
    },
    {
     "data": {
      "text/html": [
       "<strong id=\"commutation\">commutation:</strong> <a class=\"ProveItLink\" href=\"../__pv_it/21599c54bc0138e7a200bec66646cf405aa7e8190/expr.ipynb\"><img src=\"data:image/png;base64,iVBORw0KGgoAAAANSUhEUgAAAOcAAAAVBAMAAABPgOQBAAAAMFBMVEX///8QEBCIiIhmZma6urrM\n",
       "zMxUVFQiIiJERETc3Nzu7u6qqqp2dnaYmJgyMjIAAAAcRTyBAAAAAXRSTlMAQObYZgAAAvtJREFU\n",
       "SMe1lk1IVFEUx/86M87Mm3njxlUSDNrXcjBoUUlGhKtyNlkQpEgStAg3iWQLcxFPLXgQZFSLMYlC\n",
       "ixkKIUNoUEzoi1k2QjGboiLEZcwiuuee+57zntd6Ljrwn493fueeN+eee94A27J4ieW3eT2qw0gV\n",
       "+vIpaNLHSjVmXBsAGmwNKj0eI4z0lr78CJr0u1KtpTIic0WHksd7gxXWHarESMCcZoblscaCeFnU\n",
       "odLjsUVWKgckCwGTRm2Wx7rECpjSodLjsSmW+WZmZjJodSeVPLYia9yhQVc2LUAY6ZdlXQ2atFUp\n",
       "frhth3vxa8shUayMBpUep5llCGGkfmBMs/7JiubiTaWjdmrdbY7fubwNk/DkmrSMQtmjjEMIIx3z\n",
       "tV7ixoU+1N76i9eDafVxmGXsRIh6z5B8FY1pJPynY9jxALSzKoQwUhT1zjE2FvaXjDO5yE+qPjXX\n",
       "7FI7Ho7jXFEBTaxQFVFaLU93G6ogX0Rk3Ze0yfGIHww3hDBSshR1wI/zMzDvAwt0EERhzIm7OZSL\n",
       "SPiS1o0gn6UO7eVj2lXQJmUPMAg3xEkar3SLi9N7viBMFT0+Jy6J956Wi6LyQPisYG1vecX9v9o4\n",
       "piUcySE8sLGnvQplD5sKIUyiY+dFCS5HqkiRd7XM1N5cqxyR5lN7UyPlC7iUcC43doj94kby9Rx7\n",
       "VFIOcRoJz0XmUCYygGnyvlSzexSfDfrlidmapEusWNocTLrztBQTXKjoS7rkeNhUCGESpQ6rK9T3\n",
       "4rRlWel7p5w9ORAZsqzR+Fx2Y6VOltG3+/Yu98i0vaedzfqSdjoeRXEIYRI1Rd3zdmw110De0AM+\n",
       "ClU0Q27OwTQ3/ZZjUNoj3RjUYy5aZ/ecQDIrJ0cWi/FxXDFHsEyuW8tIpv828N1Jvmng6zEXDfc9\n",
       "awcm6OOTtevZSDO634mNoIY3Pnzrd4PGoJ9fmkfbVpgfrRd7qsYSv+2zRv/5EOc+sbXPex0Ws7ea\n",
       "7PPb/LtSDvZ3paxHlZXwP+0PVKbsrp82OmsAAAAASUVORK5CYII=\n",
       "\" style=\"display:inline;vertical-align:middle;\" /></a><br>(see <a class=\"ProveItLink\" href=\"../__pv_it/21599c54bc0138e7a200bec66646cf405aa7e8190/dependencies.ipynb\">dependencies</a>)<br>"
      ],
      "text/plain": [
       "commutation: forall_{a in Complexes, b in Complexes} ((a * b) = (b * a))"
      ]
     },
     "execution_count": 2,
     "metadata": {},
     "output_type": "execute_result"
    }
   ],
   "source": [
    "%proving commutation presuming []"
   ]
  },
  {
   "cell_type": "code",
   "execution_count": null,
   "metadata": {},
   "outputs": [],
   "source": []
  }
 ],
 "metadata": {
  "kernelspec": {
   "display_name": "Python 3",
   "language": "python",
   "name": "python3"
  }
 },
 "nbformat": 4,
 "nbformat_minor": 0
}
