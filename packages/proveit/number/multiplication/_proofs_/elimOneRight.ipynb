{
 "cells": [
  {
   "cell_type": "markdown",
   "metadata": {},
   "source": [
    "Proof of <a class=\"ProveItLink\" href=\"../../../_context_.ipynb\">proveit</a>.<a class=\"ProveItLink\" href=\"../../_context_.ipynb\">number</a>.<a class=\"ProveItLink\" href=\"../_context_.ipynb\">multiplication</a>.<a class=\"ProveItLink\" href=\"../_theorems_.ipynb#elimOneRight\">elimOneRight</a> theorem\n",
    "========"
   ]
  },
  {
   "cell_type": "code",
   "execution_count": 1,
   "metadata": {},
   "outputs": [],
   "source": [
    "import proveit\n",
    "context = proveit.Context('..') # the theorem's context is in the parent directory"
   ]
  },
  {
   "cell_type": "code",
   "execution_count": 2,
   "metadata": {},
   "outputs": [
    {
     "name": "stdout",
     "output_type": "stream",
     "text": [
      "Beginning proof of elimOneRight\n",
      "Recorded 'presuming' information\n",
      "Presuming previous theorems (applied transitively).\n"
     ]
    },
    {
     "data": {
      "text/html": [
       "<strong id=\"elimOneRight\">elimOneRight:</strong> <a class=\"ProveItLink\" href=\"../__pv_it/0d31e9a49599bb29c1ae597a2ffebecaf1d746e70/expr.ipynb\"><img src=\"data:image/png;base64,iVBORw0KGgoAAAANSUhEUgAAAKEAAAAUBAMAAAAXeEBDAAAAMFBMVEX///8QEBCIiIhmZma6urrM\n",
       "zMxUVFQiIiJERETc3Nzu7u6qqqp2dnaYmJgyMjIAAAAcRTyBAAAAAXRSTlMAQObYZgAAAhJJREFU\n",
       "OMtjYMAHOC9AMAbYiUMDSPwBiHEXh4IVUIwB2CZg1wASPw1ivMJh4ksoRgHcUgwMXA+wawCJzwB5\n",
       "rgG7PK8BBKOAZcd+AclDONwAFOdbwMDAswG7NPsECEazB2TiQhwmAsV5T61aNR2H9HQoxmIinwN2\n",
       "LSDxHx0dNThMVIbiRWpTdBRQTeRBDwwupUynQxDxVAaGThwm9kIw1wHeIvYHqCbygvnn3oHAYxBz\n",
       "DcN1hTqIuDNaxHH3pCdBmdUQzLOA5xcLKDi5ECZyF6DZforh/AJPiDg7AxMsDXPtMb7AFbGA9Q2U\n",
       "LwLBXAwckMSw/gHcRNYPaCYuYOhggIrzXGCHid7YuYqBdw4Dwx5UExkY+CGhyJ6A20QGhk8wEzkf\n",
       "hIHSkalaAAsotF23AoVQfc3AEB+AHtcsBYhwfAYWZv3KABPvTGFgYFqQx+7ABxK6dRMjZrgX6AMV\n",
       "YIsZJLCL6QODFlR8M9BYVoa3DAyLwTJIhcBhCPbf0M8wFyHKBDKR+QCqgSy/OT6AyhSwOCSQfjIw\n",
       "hHd0dCjMDkUoc4fgZUqLbBEFEHPiP1tgSg5AS45JWsqg8gYszrsAHKKsDGxgDYtgqQRXLgSD5TiS\n",
       "MFx8Ps8DHgYekPmcNgHwYgBrSQEvEfCLL7ty6BQDQzc48b9rg/uokwFHhsJXmiEDJmA4ElficuAo\n",
       "cXGJE64VbuLQABQHALbbnuRyIzXQAAAAAElFTkSuQmCC\n",
       "\" style=\"display:inline;vertical-align:middle;\" /></a><br>(see <a class=\"ProveItLink\" href=\"../__pv_it/0d31e9a49599bb29c1ae597a2ffebecaf1d746e70/dependencies.ipynb\">dependencies</a>)<br>"
      ],
      "text/plain": [
       "elimOneRight: forall_{x in Complexes} ((x * 1) = x)"
      ]
     },
     "execution_count": 2,
     "metadata": {},
     "output_type": "execute_result"
    }
   ],
   "source": [
    "%proving elimOneRight presuming []"
   ]
  },
  {
   "cell_type": "code",
   "execution_count": null,
   "metadata": {},
   "outputs": [],
   "source": []
  }
 ],
 "metadata": {
  "kernelspec": {
   "display_name": "Python 3",
   "language": "python",
   "name": "python3"
  }
 },
 "nbformat": 4,
 "nbformat_minor": 0
}
