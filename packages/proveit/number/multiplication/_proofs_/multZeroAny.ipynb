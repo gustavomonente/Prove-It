{
 "cells": [
  {
   "cell_type": "markdown",
   "metadata": {},
   "source": [
    "Proof of <a class=\"ProveItLink\" href=\"../../../_context_.ipynb\">proveit</a>.<a class=\"ProveItLink\" href=\"../../_context_.ipynb\">number</a>.<a class=\"ProveItLink\" href=\"../_context_.ipynb\">multiplication</a>.<a class=\"ProveItLink\" href=\"../_theorems_.ipynb#multZeroAny\">multZeroAny</a> theorem\n",
    "========"
   ]
  },
  {
   "cell_type": "code",
   "execution_count": 1,
   "metadata": {},
   "outputs": [],
   "source": [
    "import proveit\n",
    "context = proveit.Context('..') # the theorem's context is in the parent directory"
   ]
  },
  {
   "cell_type": "code",
   "execution_count": 2,
   "metadata": {},
   "outputs": [
    {
     "name": "stdout",
     "output_type": "stream",
     "text": [
      "Beginning proof of multZeroAny\n",
      "Recorded 'presuming' information\n",
      "Presuming previous theorems (applied transitively).\n"
     ]
    },
    {
     "data": {
      "text/html": [
       "<strong id=\"multZeroAny\">multZeroAny:</strong> <a class=\"ProveItLink\" href=\"../__pv_it/4a0ba886a2365842c5a8afe2564571bbf4ff4ca20/expr.ipynb\"><img src=\"data:image/png;base64,iVBORw0KGgoAAAANSUhEUgAAAmoAAAAZBAMAAABz1R8KAAAAMFBMVEX///8QEBCIiIhmZma6urrM\n",
       "zMxUVFQiIiJERETc3Nzu7u6qqqp2dnaYmJgyMjIAAAAcRTyBAAAAAXRSTlMAQObYZgAABklJREFU\n",
       "WMPtWWtsFFUUPu3udHfn0frDVzUmA2hjVOKG/sBA0RqD/FIXjBYCsZuGhmgq2WhstRJtMMEFJFkl\n",
       "LhUfDBAtFrEbtIEaTNdW+AGRrEYjJRg3QY1SU5uCxBY03nPvvO7szO6wxg0k3OTO455z5s755tzz\n",
       "uANwCW1NVwqutmDXukviT1yFjLb0FYBaJMd6ZdtQkeE05PH0g1/UavGkVFaFPXovq8lzD1sPusHH\n",
       "ZAZPTaEzGjkVY8NpOIb3Z/yiJmfIqVarKGq/6b2sNg59lvqnfQgYPGLeSanNiC+w4TT04hro8Ysa\n",
       "5eytKGhKlPXyhK8B2VL/gg8Jk2fESfka4DgbTlPDoRbkz6+hVR6rKGqhFOtltXAcpBkz+M34CJAm\n",
       "z04naQPAsEaH06Ac7e/f5j8anOrv/7CyQWGb3stqdXEImtYj+3hxi6e22UE6D/BIhg6TGPpXMrnO\n",
       "P2p1yeSr2YqiNkfvkaZ5N5Xm3jo6y+51B6IQnDJxaJtTclFZPLLDK4hnCWoqHSaotQNs9I9aTQzC\n",
       "lU11t+j9/lTtZOkFVg9/2O93ZEEwURs4I06XeoDFo1B/eHwCG4aIyEWAVpUOE9QeoHGh2ulva2Ou\n",
       "qAWj8HGZKfVEeeQXWRdvgQAJRcvZd3fhoya2Mwf36MpQnh1REC4aN8QrTYHQY3E7jMnkocpLjvUc\n",
       "IbbWmqXDBLUQVJP8S2AGJDz7JcyK45XEeFuamquvt2e5CZhbMN/BI51qEUB08mhxGY4svbamTb+8\n",
       "lvXADIRUeHQ+s4h8oc7/4PE+DZ7RlaE8xgqlN/eCeFFoTFjcDjMzeJjywqTrCsVhgpqcC+nje0cX\n",
       "wUFZCxjfQTzUmJN6jsICO2pf8RUCyry/CZ7w8HV28nhxmXHbrOJyTfidR62qBwaIBSxhcTVeOFUn\n",
       "Hm4E8U8j9sZZNJAuGDenMTIEExa3I1ibPMyAJgujwXDGQC2Sf1xfyJu3a/C5GpUNthND/SB9E4Cs\n",
       "HbX3BPsbU5kxYrfuqHHk6eIy07ZZlXcADvErdCALw2Cg5tWInUicsuEeUMxc4m802GDxQEp5mMtI\n",
       "WH7tF7xMAvyo0WGsQzeuJiwN6OBIGxx8g6K2ayG6MGKrK1eoHGrhNAm94ry1zO2hTHAlueYjxO6G\n",
       "nwvIwlSDVkTGINNZFw+Sr8lHg4EMrJVSpVC7ADX5IVTGLcs9h26vBGqUhyhvRIOCLFePBvAJeY5c\n",
       "p7GKdFDetwrP0YdZzSnFjn7HoSahZ+mLtWpQQ7REGWWfM6iKzwkzlGYnV3cTJ/0UeMlQMqny6Kwn\n",
       "x3h/R3pYVTplztaY48pzTmo9fB/PojJWLNlphrWn4RWwo0blzKfYeIjyxJE6l08oI17HhhG1OuKV\n",
       "tx8AkUbRQcjia4qpI7CboSZbiQudEJ1rI7SA8IXGZKS9TgQCUSGBYYojE7Xzq0jG5SGDZGqmePjM\n",
       "tuOwhHWx7bb0rRxq1A/Rg+WkPpi9oq2ZKGO2j2a3WyvgrhyHGpWznmLyoPIuSYQ40hBjw4iaotGP\n",
       "JDyfTK4nqL0b0hdGSzKZVKVYJJfgUDtJ+s1AFkFIYzKRQefzqzLV9DU4clVzIA7d4CmDZAzaOOvb\n",
       "j3lVVEv8JDnri2U4fiob9Ap97qQ+2/6aOBODOLO14DLdOdcwW4PFqnN/jSSCW/oRNSazQHXkPwOp\n",
       "8Eltv8qT67SqDKLmIYNk5RSwWQO7rJyMr979oIbK/DfUpt2qd6uoN1CT8lmgG1HfklITeokVETeK\n",
       "cyvNoGQLdiXrhXM5ihqV2XoYZLVXi2wC/VCVan0IPo3y5JB2Aihq7jJIfpN8SDprpClmvfVGsFUv\n",
       "B3zojMp4E32gRpR32SmyNpBMW+tIQZgUYMGXmsnXXpqBapJCb8Zv+5NuHBxqD945h6GGMiAe/7Wd\n",
       "yAj1sDSFh0ywbf8irL14ckeWoeYuQ8kYXjdTdzSxIea2K7n15TYfttbhXfNF5p9XSz4AlfeoG8Mp\n",
       "5w747UnDIWSIcybCxMMU2QFH1DgZ4K76gi7kbigqg3tQBbNWfgcclR9zJ415/zeQUqtf10r9NxDu\n",
       "XsjLOK5q7igkLzubKSpzBi6H5q68rbmjpkDHk1AKtQKZwitXsrdM5K38ZYGau/IlUfNqXf/v/1Bl\n",
       "9Ir43Rrs6vwXEdkmrQrDwuYAAAAASUVORK5CYII=\n",
       "\" style=\"display:inline;vertical-align:middle;\" /></a><br>(see <a class=\"ProveItLink\" href=\"../__pv_it/4a0ba886a2365842c5a8afe2564571bbf4ff4ca20/dependencies.ipynb\">dependencies</a>)<br>"
      ],
      "text/plain": [
       "multZeroAny: forall_{i in Naturals, j in Naturals} [forall_{a_{1} in Complexes, ..a_{_a} in Complexes.., a_{i} in Complexes, b_{1} in Complexes, ..b_{_a} in Complexes.., b_{j} in Complexes} ((a_{1} * ..a_{_a}.. * a_{i} * 0 * b_{1} * ..b_{_a}.. * b_{j}) = 0)]"
      ]
     },
     "execution_count": 2,
     "metadata": {},
     "output_type": "execute_result"
    }
   ],
   "source": [
    "%proving multZeroAny presuming []"
   ]
  },
  {
   "cell_type": "code",
   "execution_count": null,
   "metadata": {},
   "outputs": [],
   "source": []
  }
 ],
 "metadata": {
  "kernelspec": {
   "display_name": "Python 3",
   "language": "python",
   "name": "python3"
  }
 },
 "nbformat": 4,
 "nbformat_minor": 0
}
