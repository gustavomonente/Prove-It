{
 "cells": [
  {
   "cell_type": "markdown",
   "metadata": {},
   "source": [
    "Proof of <a class=\"ProveItLink\" href=\"../../../_context_.ipynb\">proveit</a>.<a class=\"ProveItLink\" href=\"../../_context_.ipynb\">number</a>.<a class=\"ProveItLink\" href=\"../_context_.ipynb\">multiplication</a>.<a class=\"ProveItLink\" href=\"../_theorems_.ipynb#multNegLeftDouble\">multNegLeftDouble</a> theorem\n",
    "========"
   ]
  },
  {
   "cell_type": "code",
   "execution_count": 1,
   "metadata": {},
   "outputs": [],
   "source": [
    "import proveit\n",
    "context = proveit.Context('..') # the theorem's context is in the parent directory"
   ]
  },
  {
   "cell_type": "code",
   "execution_count": 2,
   "metadata": {},
   "outputs": [
    {
     "name": "stdout",
     "output_type": "stream",
     "text": [
      "Beginning proof of multNegLeftDouble\n",
      "Recorded 'presuming' information\n",
      "Presuming previous theorems (applied transitively).\n"
     ]
    },
    {
     "data": {
      "text/html": [
       "<strong id=\"multNegLeftDouble\">multNegLeftDouble:</strong> <a class=\"ProveItLink\" href=\"../__pv_it/1a0bd066d6a13aa3714da62ca993289cbafd721d0/expr.ipynb\"><img src=\"data:image/png;base64,iVBORw0KGgoAAAANSUhEUgAAATMAAAAVBAMAAADY9BTyAAAAMFBMVEX///8QEBCIiIhmZma6urrM\n",
       "zMxUVFQiIiJERETc3Nzu7u6qqqp2dnaYmJgyMjIAAAAcRTyBAAAAAXRSTlMAQObYZgAAA29JREFU\n",
       "SMfFVktoE0EY/ppuXtukLeJJL2sDPRShRamnWmNFigfJXnzcWoIiBSnBg+CT4KGkPiMIFaq4VvFR\n",
       "igZESksPIb1V0YCCVqgsaAVFSxAFW1Gc2Znd2d1sYNuLH3xp58v8k29m/n9mgNUhWmYUuMlpR0Pe\n",
       "Q6gSPQINTHHqtLHg29oDTgtyltGJAS+hSvQIpAjlGZ/Rxhff1j5zWmjMMzrxyEuoEj0CDcM643W6\n",
       "S1m/zuIdjAKvOJ2IKR5ClegRaKDE2KiRmIJfa+E8o8AJTtfEmz2EKtEj0MBtxvjc+PiI7/0c4RRl\n",
       "kWF046OX4Ba9Ao19TjL+yuVO+7aW4LQQ6GC0MNZ6bTPZuFkhbEF0AxNmXaPRQLlloKdkrW1CwVUN\n",
       "MaJTHgaGfVu7xGkhUma0Bi/Gj4VJCr+3lOJOBCpMMMQXSxQfzOAJvFHOWhkpNaOd7KTOuMuoBtsR\n",
       "dPFI2nUoCeUUp0i+AqM1uBZbkUgyTtKGRjet0I1IlgmT7swlgXN4qe0xO4/W68iRH8wwhhEwZy3P\n",
       "bC3LB7XgV7EILmU9o2zMfEkF6pKMpiIbPoA+GvyXfmAdmhQm9Lms0UCNejE7a3UKvgPBCmOsHDa7\n",
       "vp0aR/wGMINaCrfmHJ1SoEkxreE4/ZBW0KfWtgbqxeqc0oI/hbWovp8eI52tqkTTefdTIpG/Pf04\n",
       "CYfia0Nh+AB6rTbZo01c6BW59skMBvVioRsBcsJIGUYMHyK1og2Gk430y3fzPHtXgs1wKL7KoEFr\n",
       "J4PZyyDSjyHYysAVPE1qpM1Shmh3qwzwhPgL4htwh345PcWOnLuZQNahGKg6Asw6N5EqXDHu7C6x\n",
       "av3SHy50ua+IDki/IxXbc2EbUqRRX2TkybEMHMjlcsroPj5iMaQ4Fdi3xYS19hz3Wsa2019aFJWU\n",
       "TixzYdFljQTK6bbEgj18B72TVUbEadkGK0GEDEtjtKpIHiTrVKeyqovKfs7X60yQMz4uqm7C+5wG\n",
       "bsX0GGLUaLRLRSl6HmE1BZuy9ut9EI+Tfq/3kC7/ENc7X8jXpTngAv13YmlIDW6ElL4Mm2J2HIbr\n",
       "8ojkGWs+is7gXM1HkTswXI4o4lHkuNNIZvFCw0OjEoWyuqekzX1PQvWakudTUmrprDlb8QY+Kulr\n",
       "f4DH8x5C3O8DfJ7TG2XsfY7/jH8l6SMypyAj+gAAAABJRU5ErkJggg==\n",
       "\" style=\"display:inline;vertical-align:middle;\" /></a><br>(see <a class=\"ProveItLink\" href=\"../__pv_it/1a0bd066d6a13aa3714da62ca993289cbafd721d0/dependencies.ipynb\">dependencies</a>)<br>"
      ],
      "text/plain": [
       "multNegLeftDouble: forall_{x in Complexes, y in Complexes} ((-((-x) * y)) = (x * y))"
      ]
     },
     "execution_count": 2,
     "metadata": {},
     "output_type": "execute_result"
    }
   ],
   "source": [
    "%proving multNegLeftDouble presuming []"
   ]
  },
  {
   "cell_type": "code",
   "execution_count": null,
   "metadata": {},
   "outputs": [],
   "source": []
  }
 ],
 "metadata": {
  "kernelspec": {
   "display_name": "Python 3",
   "language": "python",
   "name": "python3"
  }
 },
 "nbformat": 4,
 "nbformat_minor": 0
}
