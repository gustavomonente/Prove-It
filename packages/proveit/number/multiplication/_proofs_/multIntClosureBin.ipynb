{
 "cells": [
  {
   "cell_type": "markdown",
   "metadata": {},
   "source": [
    "Proof of <a class=\"ProveItLink\" href=\"../../../_context_.ipynb\">proveit</a>.<a class=\"ProveItLink\" href=\"../../_context_.ipynb\">number</a>.<a class=\"ProveItLink\" href=\"../_context_.ipynb\">multiplication</a>.<a class=\"ProveItLink\" href=\"../_theorems_.ipynb#multIntClosureBin\">multIntClosureBin</a> theorem\n",
    "========"
   ]
  },
  {
   "cell_type": "code",
   "execution_count": 1,
   "metadata": {},
   "outputs": [],
   "source": [
    "import proveit\n",
    "context = proveit.Context('..') # the theorem's context is in the parent directory"
   ]
  },
  {
   "cell_type": "code",
   "execution_count": 2,
   "metadata": {},
   "outputs": [
    {
     "name": "stdout",
     "output_type": "stream",
     "text": [
      "Beginning proof of multIntClosureBin\n",
      "Recorded 'presuming' information\n",
      "Presuming previous theorems (applied transitively).\n"
     ]
    },
    {
     "data": {
      "text/html": [
       "<strong id=\"multIntClosureBin\">multIntClosureBin:</strong> <a class=\"ProveItLink\" href=\"../__pv_it/4e4e0075653c2459ff734e5a858cb479ab78a5f50/expr.ipynb\"><img src=\"data:image/png;base64,iVBORw0KGgoAAAANSUhEUgAAAL4AAAAVBAMAAAAKgUmDAAAAMFBMVEX///8QEBCIiIhmZma6urrM\n",
       "zMxUVFQiIiJERETc3Nzu7u6qqqp2dnaYmJgyMjIAAAAcRTyBAAAAAXRSTlMAQObYZgAAAyZJREFU\n",
       "OMutVV1IFFEU/nbXcXdnZ1YfgiSpBu2PnhaFCFJSegj60yd7EjdJyaiwh+yX2PShUSvmycIQJn1I\n",
       "DNylkBCCFi0qtRgIIoNkgyzqQeot9iE698zurLuutUIX7tw7Z+79zjnf+e4dYC1tiLrfWmmfzL88\n",
       "YAAJMflYGLwcocdoju1aJ1BsZBuLzv5cWv/JQgcwK96/F4YfFDDfco0hcpLItrl7GpHwAePAHZFy\n",
       "pDD8t9TVUI6xJEaPqWybJw4l9gxQNARNGmKF4V+k7s2hAg0EgHv2XL1+/irjmxiQRF6lUGfGxm4X\n",
       "Bu8nprFi7QsmqU48pW7TMff5xPwz8EvXrxSG7xbUVApHNVUbHOuXij3EALM2noFXNdbMNNAG9OYB\n",
       "O5JYYfIJZd6kXm8Efzj6+W1GDai8uiOzdpS1hgVgX3b1i8ume0QwSrqOx27srrZnXlGmywS5ER6x\n",
       "W2aNJ1GiISCowzKZtNmSfUy74E6fGPlJteU1lGGRZlCAPZiupaLO7LQ/uwTJ66h6SXg1mkZFXJ4E\n",
       "onFIIh9p0xI1+wCEDvHYQoFa3rTT95NjCKB5iGVH/tX+QRMxad7KxndFEG0U+YRt+TfEbPxlMg+K\n",
       "XGYY359oIsPItkVyyt9CcfZccZKoY7EpyOaH4n2akb+FvSaKmJ9Sxzqr1PHrfpr3HidmzklJcsqV\n",
       "vytiw3az0r47MD+RU99oDGcC6WNQUkflSNW3ylFyeIDiKuX64hH59oSkTozwt2E73G4syJyPrMVT\n",
       "u7jkpDifpnYpjh4sX4gPbDpBjsTsg3yaKKoREVCtXDF3GEd1XdcQn8Eg87xLuqDr3VAU02/rmkmg\n",
       "jOXWrQNbHH1WvRZ8c87yiQO2sf5Wmb65jPwuCkJod9TwfTCLGWTCwisakyiHqB8ONkMx/nI/cLuf\n",
       "ujdf2veD47wzNXEZLYehiCA8HorT34dLagTPudwhrtKq9xu3qfwnXtHSF3brw1qgn2bv2ue+hqVy\n",
       "NM0RjcSn2n7qTVeaVhF7vsMuJ/Ljj+dcMIJ/+89jDzuI/3/8XzKO87Te1a6yybX9H+fzL1eN1fAt\n",
       "/Kf2B1uxyFV2VrugAAAAAElFTkSuQmCC\n",
       "\" style=\"display:inline;vertical-align:middle;\" /></a><br>(see <a class=\"ProveItLink\" href=\"../__pv_it/4e4e0075653c2459ff734e5a858cb479ab78a5f50/dependencies.ipynb\">dependencies</a>)<br>"
      ],
      "text/plain": [
       "multIntClosureBin: forall_{a in Integers, b in Integers} ((a * b) in Integers)"
      ]
     },
     "execution_count": 2,
     "metadata": {},
     "output_type": "execute_result"
    }
   ],
   "source": [
    "%proving multIntClosureBin presuming []"
   ]
  },
  {
   "cell_type": "code",
   "execution_count": null,
   "metadata": {},
   "outputs": [],
   "source": []
  }
 ],
 "metadata": {
  "kernelspec": {
   "display_name": "Python 3",
   "language": "python",
   "name": "python3"
  }
 },
 "nbformat": 4,
 "nbformat_minor": 0
}
