{
 "cells": [
  {
   "cell_type": "markdown",
   "metadata": {},
   "source": [
    "Proof of <a class=\"ProveItLink\" href=\"../../../_context_.ipynb\">proveit</a>.<a class=\"ProveItLink\" href=\"../../_context_.ipynb\">number</a>.<a class=\"ProveItLink\" href=\"../_context_.ipynb\">multiplication</a>.<a class=\"ProveItLink\" href=\"../_theorems_.ipynb#leftwardCommutation\">leftwardCommutation</a> theorem\n",
    "========"
   ]
  },
  {
   "cell_type": "code",
   "execution_count": 1,
   "metadata": {},
   "outputs": [],
   "source": [
    "import proveit\n",
    "context = proveit.Context('..') # the theorem's context is in the parent directory"
   ]
  },
  {
   "cell_type": "code",
   "execution_count": 2,
   "metadata": {},
   "outputs": [
    {
     "name": "stdout",
     "output_type": "stream",
     "text": [
      "Beginning proof of leftwardCommutation\n",
      "Recorded 'presuming' information\n",
      "Presuming previous theorems (applied transitively).\n"
     ]
    },
    {
     "data": {
      "text/html": [
       "<strong id=\"leftwardCommutation\">leftwardCommutation:</strong> <a class=\"ProveItLink\" href=\"../__pv_it/c62e11bcaaaaf2a284038f5a232af0f8f03597520/expr.ipynb\"><img src=\"data:image/png;base64,iVBORw0KGgoAAAANSUhEUgAAA5wAAAAyBAMAAADCYsnhAAAAMFBMVEX///8QEBCIiIhmZma6urrM\n",
       "zMxUVFQiIiJERETc3Nzu7u6qqqp2dnaYmJgyMjIAAAAcRTyBAAAAAXRSTlMAQObYZgAACyJJREFU\n",
       "eNrtXA+MHFUZ/253Z//M7N41aKDXBrO9s2eDYjetAqGlXTV40YT2DiJtg/EuJ8SolayCJ4UGr0ci\n",
       "V6A62AhtFRjaQNureCtwgTNo1x60sbW4QY1QK2ykJVq1nnBtuK1Y35+Zt++9mZ0Z9/Zq9nZfLrdv\n",
       "3vfe9+2+37zvfe+b3y7AdErT+fM5qOnyItR+UXvp62/O/2t6iprGths1PRPx3CyAE1bRl73bfzpN\n",
       "OLtqfCI6ZgOakCiYle76hlObw6qP1MhbHnNqfKABJy6Pp9n+M1DhvrUp491pzyWu4rXv82FI2ZQi\n",
       "r2Hd5XPUOZz3sFqzXqGK5pSPTm+6i8/5MdSSpfdPwcXL1DecWpFVf1upDnOWp4NXqOjH0Goz6Dzg\n",
       "JNzYgBMgUlpZGyrVsdpHaO+BVzzjx9Ahy7E6CffrDTjhDeZhY5lKdRzycxzKTN9fM4fdnC5/Y9Y3\n",
       "nHewWgBPx9bxBd5LLbZ8yTz++q22Zd77a1+76JLjbQtZfeuBnqwPqwsthx13Aj9RbMCpTLJqNI9c\n",
       "Yiv8EzV6hLif0JsnANpZZPsfY0SHte5jRk6pUwhUNlmxu+C7zBG3wvcMH1ajRQhcVDpkvnwaFxZi\n",
       "qW834AyWTp0RtEAez8NVoCyljtFhmark36UQRFO/zuqDoqmW5A1XljpIhejZbwCabo31ieTgq1Yd\n",
       "WV3hyypC8XYSvzl67tMNOJt6S1W0Ia004BtotWToonNYY3hZBIsQSVoLE18XYCQHnaUOEhhEzwpQ\n",
       "/80rWWkI9Y2+rOZAJR5VmXD6LIv1uoezJy/AORfUM9bEQr9DuIHRbxqAEetD99MwZnXWhDPSax/U\n",
       "T6OY0DleyVyhrk76spo2OznD+Vi+7uFcrPPOFi0gbYJNbNltMAf7AT7JgGvJ4/XV6W7oPby8drKQ\n",
       "iS1VWvdtNZ66vtfqSvfOtyRPU9dwbgI+FFLPQbgw5jmxWbhV03PsINmSRvuaF5yTeIdMreLgpRsp\n",
       "hvN/sNr8x88WuXy7UKKZuodzLndyQNH/IPyhN8dPLNnKyL/SrhhNJvrjsX2sUzgfTQlwsv7cRvg1\n",
       "uAdU/SC7vgLUj1t1m9XSYMkqtNxCAric49F2gsJJhvypcjibSfCcr0E01Xe4vA2azifb1vWlhYnt\n",
       "t/6VdkW1b+FDH0TTy66XHAVxdbL+pY1w10fw/Gwpzf3RV1jdbpUNlq12L8IH1GbHJZQ4Q+E8gl9O\n",
       "VQ5nnJgwahBO5W3uYgMPrGcZeUK87vRjb8pF5svqImUO2u13u3yYbtiGj7UDlcNJxm6rRV+r8Ylx\n",
       "loLX/EzsL+Li9XN+7p45bu/Fj9VBJZMsk4I3XU03WVjxbOVwkpV9pBbhpP7J2p3MKDd25dmk99An\n",
       "fyVcbv12n/eYgMua8Wf1r9DX5fyADJWzFM7E4eHhh6cTCh0fHt6bqUU4A7z3q/Txtf8STVZHTZkH\n",
       "s++ake27Q0MbpwNny9DQvblahDMuPLaaaXLJzQ9WJ754rUz7B0w4UfS72XykwBcpgKLpXyc4w11l\n",
       "7xiPsqrgKg6d9qcmeKYyebB4IW+e9V+eWf2XmHB+irhjhSKi3PYiLCDxsXnOXbM8HbgYV263xrEW\n",
       "E85QCn5iU/78wX4X36I98KU+kB/1mI1cGXcVMxPqhLvhcvLwBMyi8nUTzggEzFPjvvFr4Pm4EbS8\n",
       "gvrC0rw2cBiuxvWi3MLSCBm4nNeLtTxxH3zB2QFjDepaQ/k7dgBZh0au/K2cWDShFdwNl5PPTjjj\n",
       "+YgZ6d2/w4CfJ1MsCH91bBi0V4KQYwcjvoXBeRT4SIhoeS0HmjOcWEPiRwAv4ASZ7tDocFCTxZIJ\n",
       "c5GXNVxOfmGd7UyXb5lwxgo3IrQ6sNdFZXT0+wTOncuwF0W39k3rkjkw079CC4PzUaUXZ0dupZst\n",
       "1hK6CdXF/XRXx0myH2IN144iq+i1p+0rYGvkT8Ydhl18oE00oS75aNbNcHl5fGo2wWmFQrD5ZvTR\n",
       "Wgya7huNP/V5/JpaRdN3Wtfh32PwSPpXaGFwRh9KA+zu6jEgjKYfa0k8JcdG6jeVIpYRDcfM6OxD\n",
       "RjsZIjRy0dedKD4L66I4ku4WTXgYpvIV4CAP2EOkWI0kKzV77HmxBeczyFfueA5U4pNGIYcjEJww\n",
       "3kXBixNnRdK/QguDU8PP4pfCGlB+aVAt2j7ZXDClZPDDdqLhZyaTexBex0PERv6gRh8eCOKrQBFN\n",
       "LEWfwcUwkcMz4CBPTNrmZE8VptqDI03vbjvZ2qJFuxeLYW0Pk9+x4GxJkqlV7hgaGkRwPkK30i2w\n",
       "ZmhoKKl1xfLYNEn/Ci0MTkycgPn46x4Rg2qJjcpp4qZsgMTLRMMPP0cb3w9X4CFiIzcmHbSPmQ+S\n",
       "CQ/DVL4MHOTapEPepQrlTR99HMh7vgi7FmPXdpagz1AxnAkDB65d0EtXZ+h6Mw4J07UI12K4SfpX\n",
       "aCnBeQyNn4ItwwQbouXqpMR7GdGjx4ynk1RDcCelwBTRXOMhQiP3+YymbOK4JMb7HW/CyzCVb7gu\n",
       "ZZcr79nSfqlqwOmH0+6AnR/CLmPsxuXTmJWCt4L5HLyEK78DOA7bDJwwjmOsEmlI5GL30fRvqUWA\n",
       "E5dWZTJPZpVo2foSMrjNQOPMf016z3XwbIpqiC3vggOo+c7EABkiNJoD0F/EeBV+sFsSn4AgZwI1\n",
       "tCpnyhu25JfuyHNywT/xJaJXAU1fnHYH7PwQdhljV5Xz+fR5ggWnul6HKLpjQnen0WrozpKE8f1I\n",
       "0HkC3ffKfJr+LbXY4Pz0h9vprGItoL78l1uQFqUVunX8Lxvqe/oanD8iGuDHp7/ThXTe+GviJsVG\n",
       "OkDHo9fnaDzKi7defhlnAjW4GjbloT+neLlV7pYn6+FqLE5fnPZDlfnokpM+IVud4uEkZRHaO2nJ\n",
       "koRxAO1ZJvZWMMhaZDjp3W1IWkCo7Q7ZdZIhdkNszBEnccmE5mGYygPJU1lebpaV8mS1g50W7Vhs\n",
       "nTgetI0j7VRksjVHi3YpHMN6XBKFJ2xwcnGwlDAec0nBc/578TLnaNqshS+z6ZSGcIbMMafA9X2M\n",
       "uRs25UH9eNrh3b8hezzMF6C0aA8etMSdFnjQhCPtQYOmZGs4ySmMFj2tUob1AnJrvy4jMVAezoSc\n",
       "MM77gtOmxV7z0pkXx8S2F9zH5N0Ng+s50vZlgrssWrQHD5rnTtt40Jgj7UWDJmRr04tYCgteVinD\n",
       "Gp28cV1+YP5YsjycvstMU78S4/oMaudo09bJyaJFu/OgOe60nQdNONJeNGhCthYV5rysmgzrEWKr\n",
       "R+rRoE1DcMIOp0mLdudB89xpGw+acKQ9aNCUbC0qTHtZNRnWtJMM571Q93CGJu3OlhKUPbhcMnea\n",
       "50FTjrQHlYuQrdVSyOTLqsmwHlc6HLo2vnIEcJs9FKIEZS84Je40z4OmHGkvODHZOhgqiAq94KQM\n",
       "6388i92tFAoFGl8ItIe24xZBmZ9YspWJPGiZOy3woDFH2osGTcjWe+O9gkIvqybD+iyZ8+WOYUB9\n",
       "w9mUE687LYIyP7FkKxN50DJ3WuBBE460Fw2akK2jeVGhh1XKsFYuIlmVk+I7b3yZHoSfupCSfH54\n",
       "0DJ3WtiW/aSGWuSw3Y/VwEB3DOGfcUwp1fkP0UiJtVIK3g8PWuZOCzeKHzhtk+/HajS5JmBLwWvz\n",
       "GnCi8qD0/jdb2TQ/PGiJOy3k7HzRoBfJOTw/Vpv18ELbA7LGz0Q5LqI9F9T6YOVDN4uXX4QGnDQk\n",
       "FVfVBSSXhD8zr+KxCXHXTQxUCc5a/wHUcPL/Z/pg1RKYVfsB1Jr/eeKPQe0XlRIi8c8T/xdmlvVU\n",
       "t8mZNwAAAABJRU5ErkJggg==\n",
       "\" style=\"display:inline;vertical-align:middle;\" /></a><br>(see <a class=\"ProveItLink\" href=\"../__pv_it/c62e11bcaaaaf2a284038f5a232af0f8f03597520/dependencies.ipynb\">dependencies</a>)<br>"
      ],
      "text/plain": [
       "leftwardCommutation: forall_{i in Naturals, j in Naturals, k in Naturals} [forall_{a_{1} in Complexes, ..a_{_a} in Complexes.., a_{i} in Complexes, b_{1} in Complexes, ..b_{_a} in Complexes.., b_{j} in Complexes, c in Complexes, d_{1} in Complexes, ..d_{_a} in Complexes.., d_{k} in Complexes} ((a_{1} * ..a_{_a}.. * a_{i} * b_{1} * ..b_{_a}.. * b_{j} * c * d_{1} * ..d_{_a}.. * d_{k}) =  \\\\ (a_{1} * ..a_{_a}.. * a_{i} * c * b_{1} * ..b_{_a}.. * b_{j} * d_{1} * ..d_{_a}.. * d_{k}))]"
      ]
     },
     "execution_count": 2,
     "metadata": {},
     "output_type": "execute_result"
    }
   ],
   "source": [
    "%proving leftwardCommutation presuming []"
   ]
  },
  {
   "cell_type": "code",
   "execution_count": null,
   "metadata": {},
   "outputs": [],
   "source": []
  }
 ],
 "metadata": {
  "kernelspec": {
   "display_name": "Python 3",
   "language": "python",
   "name": "python3"
  }
 },
 "nbformat": 4,
 "nbformat_minor": 0
}
