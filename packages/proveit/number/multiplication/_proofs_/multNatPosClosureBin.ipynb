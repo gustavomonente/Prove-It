{
 "cells": [
  {
   "cell_type": "markdown",
   "metadata": {},
   "source": [
    "Proof of <a class=\"ProveItLink\" href=\"../../../_context_.ipynb\">proveit</a>.<a class=\"ProveItLink\" href=\"../../_context_.ipynb\">number</a>.<a class=\"ProveItLink\" href=\"../_context_.ipynb\">multiplication</a>.<a class=\"ProveItLink\" href=\"../_theorems_.ipynb#multNatPosClosureBin\">multNatPosClosureBin</a> theorem\n",
    "========"
   ]
  },
  {
   "cell_type": "code",
   "execution_count": 1,
   "metadata": {},
   "outputs": [],
   "source": [
    "import proveit\n",
    "context = proveit.Context('..') # the theorem's context is in the parent directory"
   ]
  },
  {
   "cell_type": "code",
   "execution_count": 2,
   "metadata": {},
   "outputs": [
    {
     "name": "stdout",
     "output_type": "stream",
     "text": [
      "Beginning proof of multNatPosClosureBin\n",
      "Recorded 'presuming' information\n",
      "Presuming previous theorems (applied transitively).\n"
     ]
    },
    {
     "data": {
      "text/html": [
       "<strong id=\"multNatPosClosureBin\">multNatPosClosureBin:</strong> <a class=\"ProveItLink\" href=\"../__pv_it/990c86dd532992c7a7c3bc6330877e954f1216cc0/expr.ipynb\"><img src=\"data:image/png;base64,iVBORw0KGgoAAAANSUhEUgAAAOkAAAAbBAMAAABrQ7XCAAAAMFBMVEX///8QEBCIiIhmZma6urrM\n",
       "zMxUVFQiIiJERETc3Nzu7u6qqqp2dnaYmJgyMjIAAAAcRTyBAAAAAXRSTlMAQObYZgAAA7BJREFU\n",
       "SMfVlltoE0EUhn+T7LbdbFofxAuCpgoq4kMwoOI1IKIPXqJIqyg0FAWtCGLRekNDFd3qS1BEEcSV\n",
       "QpGKbVGLFhQL0ZeqEG9YvBGvDwWriIK2Kp6Z2ezNbcT0QVzYyezZzHxzzvzn7AD/27Xyr0ck6PYN\n",
       "Diol/npIku5AYlDUUr0gKu4OijqVNad/twdT+alFtNos6zwvAFrSR42SdBrPjaBmo9OmfNB6oI4d\n",
       "lqP6IsBt1ukpgKpGWJTdfr2mu8VlK85UAK2Qe3vH9L6n5X4ETrJlJwugDmmj5oHb2s/WE3ba5G2+\n",
       "MIaYEcZuoQm1rQDqGSamnS5jgId9qHjorqvj+ycv0tejyKLOAEJdzc0nChHTPRakLe6wc8Mb3l81\n",
       "Oefr8USLbqOW0/1V0/Z47Jo3qtPqzjWEgWPpcjOHSqvHU9zSXESmWOTURSlhoy6jv68HGn6f3u9N\n",
       "jVhdjeuEgjoKH0xja4/yDXghWBZVjd23UaviwHwo2QGpS7MDUt+x1CPHzmbYRgHc3xs6PgFXuHIt\n",
       "NaVQI1eynljImRiNhC9jm7dydsw33KSqBkaqvYnyhINay3RM4+fp2MoC+lOEXflOzrDu8l66sga1\n",
       "CS+tka00Ss0Umfl8LZoJJrswU41Oj87i+8TUfT49B1dV3a+no7XRNntmMupIKF/Y83ZhDPQb1JN2\n",
       "X6XO5Tb106iSbEXusbujGcH7fqYZw9cyiknoyCkd18MR1RnhgyLC5Fvwo2n8AT/lzkKez3YqnloB\n",
       "RxULdMM6ahonvEWAzRlcszpsUavG1dDG09XeftRF3SDUpPRDznbkjJ/ZNgs1+c1aIZN6VMt1rmFc\n",
       "ohxTtkl9KOW1O971yKJO1MeLSt2uXljrpJYb216PxwkzoTZjP7WzcyXISKc2I9FsmY4yWpQ/Im1B\n",
       "o6CqbC6DWo8XCie1ozPtpLIVB2jBTeNWV8dyxsYpTJlveb/pgEhjad9IZ3Hmkg/prKj6EqjUNC0c\n",
       "jJdkaC5J/GEYpkk7NK2eqKeZ6OK2OhzzqIhClEbFWnyoLuv1/pUp5lTxE10WvmKBVb37MJofO4ga\n",
       "WOHK6E6v6g+P6u9eVJ+58FTVEqjMk1AMIWObSg5jVyiJW6z/EHjmOsCwGl/s9QVvyV/AQ+YRJlB9\n",
       "cQ5whHoL34hDFZt3NCru0MwkhsDeGGTX6E0eX3V+NeSnFsWdzz7aV8dZRPxMon0dyCWPE0wolZ/6\n",
       "7A8fs468b4ORgo5bfzxCZPK/vlwQ1a/jH12/AFXh5/bTBQ5/AAAAAElFTkSuQmCC\n",
       "\" style=\"display:inline;vertical-align:middle;\" /></a><br>(see <a class=\"ProveItLink\" href=\"../__pv_it/990c86dd532992c7a7c3bc6330877e954f1216cc0/dependencies.ipynb\">dependencies</a>)<br>"
      ],
      "text/plain": [
       "multNatPosClosureBin: forall_{a in NaturalsPos, b in NaturalsPos} ((a * b) in NaturalsPos)"
      ]
     },
     "execution_count": 2,
     "metadata": {},
     "output_type": "execute_result"
    }
   ],
   "source": [
    "%proving multNatPosClosureBin presuming []"
   ]
  },
  {
   "cell_type": "code",
   "execution_count": null,
   "metadata": {},
   "outputs": [],
   "source": []
  }
 ],
 "metadata": {
  "kernelspec": {
   "display_name": "Python 3",
   "language": "python",
   "name": "python3"
  }
 },
 "nbformat": 4,
 "nbformat_minor": 0
}
