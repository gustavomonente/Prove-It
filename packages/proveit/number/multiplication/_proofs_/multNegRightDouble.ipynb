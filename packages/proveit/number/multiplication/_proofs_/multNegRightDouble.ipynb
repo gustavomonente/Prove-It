{
 "cells": [
  {
   "cell_type": "markdown",
   "metadata": {},
   "source": [
    "Proof of <a class=\"ProveItLink\" href=\"../../../_context_.ipynb\">proveit</a>.<a class=\"ProveItLink\" href=\"../../_context_.ipynb\">number</a>.<a class=\"ProveItLink\" href=\"../_context_.ipynb\">multiplication</a>.<a class=\"ProveItLink\" href=\"../_theorems_.ipynb#multNegRightDouble\">multNegRightDouble</a> theorem\n",
    "========"
   ]
  },
  {
   "cell_type": "code",
   "execution_count": 1,
   "metadata": {},
   "outputs": [],
   "source": [
    "import proveit\n",
    "context = proveit.Context('..') # the theorem's context is in the parent directory"
   ]
  },
  {
   "cell_type": "code",
   "execution_count": 2,
   "metadata": {},
   "outputs": [
    {
     "name": "stdout",
     "output_type": "stream",
     "text": [
      "Beginning proof of multNegRightDouble\n",
      "Recorded 'presuming' information\n",
      "Presuming previous theorems (applied transitively).\n"
     ]
    },
    {
     "data": {
      "text/html": [
       "<strong id=\"multNegRightDouble\">multNegRightDouble:</strong> <a class=\"ProveItLink\" href=\"../__pv_it/564f83afda52f72e5e973d6f2def3924e242aae00/expr.ipynb\"><img src=\"data:image/png;base64,iVBORw0KGgoAAAANSUhEUgAAATMAAAAVBAMAAADY9BTyAAAAMFBMVEX///8QEBCIiIhmZma6urrM\n",
       "zMxUVFQiIiJERETc3Nzu7u6qqqp2dnaYmJgyMjIAAAAcRTyBAAAAAXRSTlMAQObYZgAAAyFJREFU\n",
       "SMfFVk1oE0EU/ppm89dN7MGbl9CCh14UpJ5KDRURD9Jc/LlZiiIFkZ6EqkhPJfWPeKpQi1uVVksR\n",
       "QURSeijxVkUDFbRCJeAPKFqCKFQFcd7O7M5MMkm3RfCDL8m+976dt3nz5i2wMcRLnBITphAVBcaW\n",
       "PGc1JkxrFATLdLESOLW7gj4Sw6YQFRFKaUBQR63YExCf0sXnwKl9EvSRyptCtPXp6e8L6kjlTWuQ\n",
       "gHidSjAcNLPkTk6JJVOIjiKjnebUsWRepciZcpjmQdDUonlOiSFTiI5J+idaOXUMmVeZ5EwuzsyM\n",
       "Ba7nmKDc84OmkKqyZdjHe8HGYikgruVy5wOn1i7oI8TKl2gb6ClqId6maU/jmgObSvxEsKFYERBP\n",
       "AKOBU7si6CPGTopZvEpf0EIE7HArdrDCUB+8FcTzVcI7o1gREPfyFvLRcvlkv56PYjknKHcW26aL\n",
       "eOEcoAsHunu8uYwc01PdHgs2FCsCYhQh74xMzO8qJY461hdZkirLVs6E++SrWaApQzfN8eA/0N1O\n",
       "UxrfAKvCzMcEVdSIFQHRLkW90NeFGSRvAPOoZxGp6XcH3Y5wBlXuXsf6sU5qulgKiPHyYTpGOrdn\n",
       "w7Rd9z1iJvbd04ez0Cx1Cwq6nQ/V3Y0QOzDCVND9gmKvfTSLpcAVjR5nveKcjmZS5HyzzIMWflmt\n",
       "0Cx122AuVEGHqQ0wglhfdRs0FEuBK3rI8rPwFbhNzrkCP3LuDIaGNYuLmiOA9Xj4d6yijHTVvRu9\n",
       "zNG8wH52CTYWS4Er2uLOj5/AkVwulx4/xIOaFyJp3QK1LB7Y/57o72hf0UM8TLXtYbMhxdoFHwQb\n",
       "i6XAFSWpba2KhYib0i3WLbQPMk1Z3bKpQdXNOE0NOMi57qDyBNOe4aZdtmFTovGuLIrxi4hme6FY\n",
       "NjXeI+XE9w2Nd0XgT4ipl8VF4BL9nF0dyVrbEO6/CsXiBY6ianjEaqa5dEdLsXTDl6JqsRToY4D1\n",
       "KdtZYgDgnttq0rKZV8lwW6e3fs0jGcVSEMvXm5UFnAqX/9ELOJ09yTxnoBfwZUEzSjj4DP8ZfwGZ\n",
       "xScBBiEX3gAAAABJRU5ErkJggg==\n",
       "\" style=\"display:inline;vertical-align:middle;\" /></a><br>(see <a class=\"ProveItLink\" href=\"../__pv_it/564f83afda52f72e5e973d6f2def3924e242aae00/dependencies.ipynb\">dependencies</a>)<br>"
      ],
      "text/plain": [
       "multNegRightDouble: forall_{x in Complexes, y in Complexes} ((-(x * (-y))) = (x * y))"
      ]
     },
     "execution_count": 2,
     "metadata": {},
     "output_type": "execute_result"
    }
   ],
   "source": [
    "%proving multNegRightDouble presuming []"
   ]
  },
  {
   "cell_type": "code",
   "execution_count": null,
   "metadata": {},
   "outputs": [],
   "source": []
  }
 ],
 "metadata": {
  "kernelspec": {
   "display_name": "Python 3",
   "language": "python",
   "name": "python3"
  }
 },
 "nbformat": 4,
 "nbformat_minor": 0
}
