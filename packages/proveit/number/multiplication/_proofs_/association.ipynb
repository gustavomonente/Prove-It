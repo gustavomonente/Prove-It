{
 "cells": [
  {
   "cell_type": "markdown",
   "metadata": {},
   "source": [
    "Proof of <a class=\"ProveItLink\" href=\"../../../_context_.ipynb\">proveit</a>.<a class=\"ProveItLink\" href=\"../../_context_.ipynb\">number</a>.<a class=\"ProveItLink\" href=\"../_context_.ipynb\">multiplication</a>.<a class=\"ProveItLink\" href=\"../_theorems_.ipynb#association\">association</a> theorem\n",
    "========"
   ]
  },
  {
   "cell_type": "code",
   "execution_count": 1,
   "metadata": {},
   "outputs": [],
   "source": [
    "import proveit\n",
    "context = proveit.Context('..') # the theorem's context is in the parent directory"
   ]
  },
  {
   "cell_type": "code",
   "execution_count": 2,
   "metadata": {},
   "outputs": [
    {
     "name": "stdout",
     "output_type": "stream",
     "text": [
      "Beginning proof of association\n",
      "Recorded 'presuming' information\n",
      "Presuming previous theorems (applied transitively).\n"
     ]
    },
    {
     "data": {
      "text/html": [
       "<strong id=\"association\">association:</strong> <a class=\"ProveItLink\" href=\"../__pv_it/833ecf068bc65242fedcd7ead86f2e3f3e5355f60/expr.ipynb\"><img src=\"data:image/png;base64,iVBORw0KGgoAAAANSUhEUgAAA1wAAAAyBAMAAAC63cdAAAAAMFBMVEX///8QEBCIiIhmZma6urrM\n",
       "zMxUVFQiIiJERETc3Nzu7u6qqqp2dnaYmJgyMjIAAAAcRTyBAAAAAXRSTlMAQObYZgAACrNJREFU\n",
       "eNrlXA+MXEUZ/2533/55u3t7IQYoDWZ7Z0uDkl6oAqGlrBJsJKHsYaA0GO9y0hi1klP0pNjgcSay\n",
       "BWoWG6GtIq9toPYq3gpcyhm06x3U2FLcoEZaC2xsJVq1nuXacHvWOt/M2/dm3v97t21ufZPL7ew3\n",
       "3/fN7PzezPfNN98uwGxKy7lzZWii8go0Y5F72Otvz/17dopaRrcqTfS5U+WmhAtWsZfdW382S7jy\n",
       "TfWxFzUnWpCuqpWuIMGVbNOqT83ZQY5aER8LIlzbc5o1GPBpRR7qawiPQ4kWHUYeKLi+rdVaiz5V\n",
       "tHY2hscB7arDvhAkuJI1rfo7vzoypcbwOJQxK+KG4MEV05/69X513KY0hsdpy7Yi7isGDq53tB0w\n",
       "4du6/LpBPE57ac7+UQsSXPdrtRB++M3jC9yXgZHp3fZlrjImnlT7QvcjocaTsjJ96VrQ4JImtWq8\n",
       "AhCZB/8iRGcXkTGFtAmU/6sMF+EuZ1+B8sBfNELim/Bdt44oz4Ksfsh6/SSWY5rSU0GDK6yfumLE\n",
       "GdhegetAWkq3Rdlq1qkdQSaQ6C6qMG8lk/30tWAnpPEAlDSeWBm+pHYEik1HyAMxug0mLXfqk0GD\n",
       "q6VHr5J5uVGBr5LlQ+dm2MJ5pjTGpC4ahLwKw2VYCTZCHI+opN4RZbDpiNQomNKE1eiXFAMGV3dF\n",
       "gOtSkE/XZzHWY2HckcaYWOlnR6rbSipcVkI6j6BEg4syWHdECtNrDdfTlYDBtaTIb4byfyA5oc2i\n",
       "nRmiTBE91Jip4DpY6XzsQh65o8QpAQ8dkTIuLdI4me1617A3BAiuh4B3NeRpiFZH3WaRMqUymsXJ\n",
       "5OTLwQ0u5AlH9K3yLLFHLh0xnn++iNth2iqsAfG+gMF1Kec1E1dvEP7YU+ZnkdoVNCScgaFM2/Zq\n",
       "76OVeKcAl8avC1Ge3Sl9q7wG5I+ZOtJ643jO0NkMly0d/QkGF5V4yz9crdT5rMx5tOT3OP+czN2z\n",
       "7Wt6c8JD3183JLqBYUyDupKrD4EAl87fL/LE9RlJHXoDTB3pvWk80kWP0mOy5RJIn2ZwHcSXE/7h\n",
       "SuEm3arMebikU9yb9TxwrkDXDBO40kN3GUMQ2UNHoYGuBHnZ5TD8LtiCh7QB/3BR2S1zfy9MTnNv\n",
       "tBBv0gNcyaphe9rroTujlfHQUTy7OgQ2IV51c+iiCyNV8g8XXZkH5z5c6dP8zKjPfuLaM1n31bVO\n",
       "XCmbv9Xr3t1iQ9TCQ0etxehCmwsUUs4wuNIHhoaenI2rcXRoaHff3IcrNMUjMHC+uxv0Kxi3uYp7\n",
       "X12z7xcKG2YDV6ZQeLg89+FK1fh35/nyP/qpy/yKHrahf1CFay3ARj6MWV+aon0NXWQHVzRv+0S4\n",
       "lFVVx+bIyUbOYLh2AZ+N6P5io1VeosJ1E90uWRgTpPtegQXUvUwyrtXLc6GLsfK1upxGUeGKdMJP\n",
       "Tcpf2t/vsFcnH/t8LxivClQiV8adm+2I1sOITkBTl6+ocMUgpJ4R9ozfAC+llHDdK5dfXlpJDhyA\n",
       "66k3a6Rox+Q+uIrXi1qeeQQ+a71Bogb5LkX6By7gkgWRK393araRsR3G/wtcqUpM9Z0e3abAL7Kd\n",
       "qTrHm6NDkHwjDGXt3MBTNLgOAe9pUC2Hy5C0hgs1pH8I8DJ/NuGJXJlyaraRsR3GBd0Mz0P5hgpX\n",
       "onon0DDmTUgYGfkehWvHMtzlyHZz95psmW5ct/eIFA2uH0k9eJa/lxk71BK5m9TF3XvnInpfRzXc\n",
       "PEJ6Ja/d7V8EE5E/GS5SzM1j7U4y9WbzMFJTzQ1X3dWAjfeQD5NRWDhqJPXcZ/C1cxULLyXzB/6A\n",
       "4LT+6ZaaSNHgij+RI2fxfLcCUTK9qCX9nNHSyl+XathGNRxRvZ8rlA4qIhA57+YB4v9Ei2JzLNfl\n",
       "JIPNK7BiGkboNDTGNZyh5Kjvc704hxfX4XqB7GXb9oJMDf8IlNHCy8X9sJOBk6IeQWYtLhGeosGV\n",
       "xNvVpbAapF8pTEtyjxGucKfUh3epVMPPR+tnk7dRRCTyp3wWnBaarwPJSYY0wws4ftMw0pPQkIMX\n",
       "kfzxJe5sGk/Ut4/4BeHde3W48KqaTJ10f6EwSOB6ipmyTbC6UChkk/lEBU1T12LiFwgUDS7AcNZ8\n",
       "TECPKUxLYsQYpmwphai/STX84A5G/ABcgyIikZPJhc0y8wGcZLAZE1vMw0hOihEEv5OIksc88NV5\n",
       "5KrfngR/m92IIVxphYUxe9jqityu2vkoW0twM8K5WGorihQdriNEfgo2DdF5pFquzxrSEoaL8SPK\n",
       "81mmIbyDZSjUyOyiiEDkoqRKSyl91NA8pcJlI4PN62/ttBiGdBasgoYzLig57YFP4xnzfbDPCoac\n",
       "j0RiGPNVrPwe4ChsIaukDVKIRToH6XLiERiU+rIcRYALyzxpskLnkWrZ/CrpbItC5NR/LcXuW+HF\n",
       "TqYhsTwPY4T8QHqAighEVYD8xZQ34fu7DM3HIWwrozZfvq3CD0PYTerFd14oSkY8OJk6z3bf224b\n",
       "b8mmebgwjBkn213kwRx5cLtKECKbO16/rDxOnlRpPvwNevMcxQTXJz/cweBCLSC//te1RIs0D7qK\n",
       "+K8U6X3+Box/UA3wk5PfyROdd77GVopAZAJFlF5XZh4e37z5qittZVhz5M9ot/Rh1MuDfMTVd5AT\n",
       "JVMepHUeyzRPT+U4r2+Kh4tFkQv1wGSJ2HniTBHzoGJbd680ihEu5pcpBi0g1HZFzDqpiLkjTeYg\n",
       "zECG1kLZEyVhGGq5kXc6PeeFJpZfLYT/ULK1t8P1CkPn4WM3Y+3u1+96gigf1YlOmODifMh7Hle8\n",
       "eKMiXNKSZdaeqFqLXmnSaRDhOlJlTsAMZGgtXDxq+Ty/w30iz3mh8PFiK5moDkFy+AQx1S6ClIcG\n",
       "XrnciydL8apLUimfIPo2P9MD9nClYZ3oRVY8wWXSYq656ayIMomt1ZnIOKYgdHMrwpgXapWuSWmY\n",
       "JUMmao3Gg5L7FDjllueJPGy5s4tJyrcBoiWXpFI+QZS/Bn06aw+X53K+U2vS442LbHNpoaa8UKt0\n",
       "TZbjWYNYlntPJVegW+2S57lCdb3VvMG6MgCXpFI+QbSbawxcWmh4QoSLzwu1StekNLIHDee591Ty\n",
       "GESm3fI8KY8OV12ZBpddUimfIMrD9TAEDK7IpLAZesoLxfTpfQCf6BG20bO4TlwTBwnPjmXA98By\n",
       "sZ0Tc/gEUZ4zcF9pgPsEV8NTXigMl+DeZLFcE1yNSbR7LoKUpxN/YUF3NTIV9Hdd8qi4BFHO1QgF\n",
       "7gtDvGtomReq53jqhiWeTfenEnv6BMkv47ecrRJKOUHkwcArn+YZ7oGdeWNSqTETlUsQXW4yvEGC\n",
       "q6Wsb4yWeaFajqduWOTehU98iB5COcmdH6mAdUKpLkh5YBMIWRSvvZU1J5UaMlG5BFH9K2JB/LIr\n",
       "91XymeWFwvAzZklPghiKMKZ5ekgqZQmicp8pYByoH2o4ZhHi9ZIXCr9MmSW9CEptFiFeD0mlLEGU\n",
       "C/EmLwsgXI/ro51RXig8+xswSnoSxMCr8QLFS1IpSxDlLlAC+TMo3IKY1fWk54I2L+77oL9Rr34O\n",
       "AggX8bq0ciEu/2ng9bDviI6Oc3qgQXA11w/kRbMXtDtD4NV/adgP5DXZz09+FJqxyCxhDH9+8n+H\n",
       "zKfPfDk30gAAAABJRU5ErkJggg==\n",
       "\" style=\"display:inline;vertical-align:middle;\" /></a><br>(see <a class=\"ProveItLink\" href=\"../__pv_it/833ecf068bc65242fedcd7ead86f2e3f3e5355f60/dependencies.ipynb\">dependencies</a>)<br>"
      ],
      "text/plain": [
       "association: forall_{i in Naturals, j in Naturals, k in Naturals} [forall_{a_{1} in Complexes, ..a_{_a} in Complexes.., a_{i} in Complexes, b_{1} in Complexes, ..b_{_a} in Complexes.., b_{j} in Complexes, c_{1} in Complexes, ..c_{_a} in Complexes.., c_{k} in Complexes} ((a_{1} * ..a_{_a}.. * a_{i} * b_{1} * ..b_{_a}.. * b_{j} * c_{1} * ..c_{_a}.. * c_{k}) =  \\\\ (a_{1} * ..a_{_a}.. * a_{i} * (b_{1} * ..b_{_a}.. * b_{j}) * c_{1} * ..c_{_a}.. * c_{k}))]"
      ]
     },
     "execution_count": 2,
     "metadata": {},
     "output_type": "execute_result"
    }
   ],
   "source": [
    "%proving association presuming []"
   ]
  },
  {
   "cell_type": "code",
   "execution_count": null,
   "metadata": {},
   "outputs": [],
   "source": []
  }
 ],
 "metadata": {
  "kernelspec": {
   "display_name": "Python 3",
   "language": "python",
   "name": "python3"
  }
 },
 "nbformat": 4,
 "nbformat_minor": 0
}
