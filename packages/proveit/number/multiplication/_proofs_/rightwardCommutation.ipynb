{
 "cells": [
  {
   "cell_type": "markdown",
   "metadata": {},
   "source": [
    "Proof of <a class=\"ProveItLink\" href=\"../../../_context_.ipynb\">proveit</a>.<a class=\"ProveItLink\" href=\"../../_context_.ipynb\">number</a>.<a class=\"ProveItLink\" href=\"../_context_.ipynb\">multiplication</a>.<a class=\"ProveItLink\" href=\"../_theorems_.ipynb#rightwardCommutation\">rightwardCommutation</a> theorem\n",
    "========"
   ]
  },
  {
   "cell_type": "code",
   "execution_count": 1,
   "metadata": {},
   "outputs": [],
   "source": [
    "import proveit\n",
    "context = proveit.Context('..') # the theorem's context is in the parent directory"
   ]
  },
  {
   "cell_type": "code",
   "execution_count": 2,
   "metadata": {},
   "outputs": [
    {
     "name": "stdout",
     "output_type": "stream",
     "text": [
      "Beginning proof of rightwardCommutation\n",
      "Recorded 'presuming' information\n",
      "Presuming previous theorems (applied transitively).\n"
     ]
    },
    {
     "data": {
      "text/html": [
       "<strong id=\"rightwardCommutation\">rightwardCommutation:</strong> <a class=\"ProveItLink\" href=\"../__pv_it/7a1f3ae75fd78b496ede6adfaf28bd71e32cff480/expr.ipynb\"><img src=\"data:image/png;base64,iVBORw0KGgoAAAANSUhEUgAAA50AAAAyBAMAAAAtoKLfAAAAMFBMVEX///8QEBCIiIhmZma6urrM\n",
       "zMxUVFQiIiJERETc3Nzu7u6qqqp2dnaYmJgyMjIAAAAcRTyBAAAAAXRSTlMAQObYZgAACxBJREFU\n",
       "eNrtXA+MHFUZ/253Z//M/rkGDdA2mO2dPRsUu2kVCC3tqsFGEsoeRNoG411OiBGRnFJPKg0uZyJX\n",
       "oLp4kf4BZNoGClfgNsAFzqBd76DGFsimapRa4CKt0UbrpVwbbiue79/MvHnz5k93r0f2bl+au9n3\n",
       "fe/3Zuc373vffPPrAdTSmqamSlDX7VWo/6Z20t+Jqal5tSE1De/Q6vpSJEqzgE9Yy3jd8UitfObq\n",
       "/Eq0zQY6ITnGDpQ5zmfc/P6P1ckpD8s6H2zwSdqurLEH5auEeOqims9CuTfj3ylccPkec53PHxtH\n",
       "qUK1GO/VfhrNRf9O6phLnJnjfMYrxuEfqgY5W/t5XK+dg9OIzLi5wSdqETPObaoWI1Sp/Tx+dy5O\n",
       "u2TG/YUGnwDvGkE21l31E0937efx3rk4pbLOd+Yc5/Mu4yiAr0f/6CLvwBdbuWwB/znV1WrufiMt\n",
       "3hck0bJYAFx81seshlNCljwlKw0+QZkwDqNlFDnnw39Qp0ei+4VCahyg1fg8eEKd1I+3FaNjsN6D\n",
       "mbvhp+guyHGAUUTGeq9ZkVPgAvNh882TuBkLWz3V4BOC5rePoDW2qwxXgrKcxk/JQlXJj0sgiBjf\n",
       "YPjs1+CUfrwZwsUbrzCdZQCREnwbZWIWwDFgo2ThQTOcYCNJ4qQB/mSDT2jqNA/RprRag++hVUou\n",
       "l/o/u/sgXhjBCkTSjB7iswrU/7LjIAl6a0xnGcBqzQ5YYqNks+rIyEkl+Mq47LssLTT47Chb+LwY\n",
       "1NM6n9AjyTkw/U15GNS/dA9NU0Jn2XFT3uQz0ukAcLEEMKuPksyqIyMnempyPh8vN/hcWuDjLVpm\n",
       "8XGDT6c2WIL9AF802fqQLUtqM/h0angxA+xeIQB6jKJOicwNnfoJ0v3z70Ksmdt83gt8PqSehfDY\n",
       "sCefRbgjXiiZD50TeN9lFRx0UPRgBvGPNs/MWgHQi0/ilPrrtRWu+G5p0e4Gn1zoww8BvfDnzhLP\n",
       "J9m6yA9zN4ymkz2J2D7T6Ttm0TDYCXtyPDPGWG5jvBzUz6uFA2ABtKxPY4AwKzTfSmYpSZ+Cxhmf\n",
       "ZMzb1fOZIjl0uQ7pVN/nqjyIoCdbNnRlLeuzR/9h7oZq1+KHP4mur+Gz5zPmd3/97bQ1chpjzY0x\n",
       "8cZh9HMrWAH5UcYAcdb2JfhJNyVdQ8nTjM9D+PeJ6vlMkDm0OuRTOcV92MQz69kGn3C2rfEz92Q1\n",
       "o5Yo89COv9flyyA+t+Nn3Hz1fJKx2+sx3Mb5soxRj4/74fM3CWfbS35upXnVjOpVutMO9XgWbBAu\n",
       "XlqJYvV8krV9qB75pCFK36FYrhu74kzae+iTv3c09f+oy3t8IF/NqH9CV07+vgy1M4zP5MGBgW21\n",
       "5ENHBwae7q5HPgN80Kv6fXZVLZqufqjDi9oP9HX/QV/f5lr4bO7ru69Uj3wmLG+6ZlJvcstD1ecb\n",
       "bzn0f0LnEyXBW9gLBr4JaRStBcv4DOcc7xmPtnZsWq5O8HR19mDlo7qTbv/W9GNepPP5JRKSFfZC\n",
       "9M5XYRFJk+PUbd3KbOBCfLBRH2j0MD5DGXjOhv7ygR6XkBJ/8JtdwL/5YR1SLw8QFCrH3Sd2sofH\n",
       "YRa17+p8RiDAnqD2jV4NLye0oB4M1FeWl+P5g3AVPq6IPUY9oRsu44ExyhP3w9flMRgjqOs15V84\n",
       "BBSZu94h9fIAQcSOuU/sZJ+lfCbKEZbvPbBTg1+nM0Yu/pfhAYgfDkLJeCzjeww+3wA+HSIob5Ug\n",
       "LucTIyQfBXgF18cKzF3vkHp5gBjL3HFiJ/tHF2/PR/uBzmds7CZEVxsOvKgNDf2c8Ll7BQ6k6Oa+\n",
       "eUO6BKwWbOkx+PylggK0uuwOuuFilNDN6Ni6p+5pO06e1jHCNUNoVvS7o+U2OqneASMtYPPimWlJ\n",
       "28zqss8W3SZ2ticmZxOfRj4EW25B361Zo5W/ocSzX8O/M2tpJS+eO/gnzB6pBVt6DD6jD2cB9uY6\n",
       "NAijSI1Rks+KCZL6faWCbQThCMvRPqW10kn1jki2nWBYvLi2EZ1vuGA1e0xM7atAYg/Y86RYndQt\n",
       "4/YE9EKDzxdQuNz5EqgkLA1BaRRf/8IB2EPZS5B4RWrBlh6Dzzh+t74c1oHyW42ixPeJ8wUzSjd+\n",
       "1U4QfsU03r3wDp1U77gSFIxh9eJA8kBigMW8HNrdJiZ2eAEk9uSE7aI8NZOkCErs9R/zMUZ3sifI\n",
       "7xt8NqfJtVXu6uvrRXw+RrfTrbCur68vHc/Fynh7JLVgS4/BJ9FbLMT/FSSiUZTYkFgzbioGSNZM\n",
       "EB75Ku38OFxOJ9U7FgLBsHrxICzD5s0eE1P7CpDY4xOSCsxMNkHW50vIy5xsTxT0vSrhM6nh9DUH\n",
       "nXR9hm4gDpMQpqsRrsF8k1qwpcfk8wgaPwlbBwgXBOWqtKCFGSxEj2jPpylCcDfVzlTQxe7kOyYZ\n",
       "nxYvs5H86ajV7DUxtW+6LmO3Kx/aKoCZGeXTSqAvIa/ulBAfyox6vJ7Tl+A1fPBHgKOwXcOWBCYr\n",
       "mYVkKXY/rQWbPRY+cZuvTJTJZSUo/a+hGbdraBz70VTouA5ezFCE2MocjKDuHybz1F3vOAZBgmHx\n",
       "YgjoXyoLmV/sFczzldPOE+v2S3aWObslRPEtUphJOgUCfQl5dSdVLOjTlwsGn+rtBYiicBa6J4tu\n",
       "//YiqRg/gAxrjqE7X1lIa8Fmj43PL3+6lV5WjALqm/+4FaEo86G9gH8UQ13PX40rSQQBnjn5kxzC\n",
       "vOl15q539F92KcGweFGEAgKJLTuskTSVN7tOzOyhv2V4u97uEa/WthldngKBKT/BwXA6JoJNWvgk\n",
       "bQnaymgrkopxAG1TjH09JTR6RD7p/a0JKGA52huSYJrucRPDPrMBckhmdpyY2gPpE0Xeztpq8Wq1\n",
       "gl0vLW+i9FoUSUuboLa2KLH7Rzq8X3JxTqOCKTxu55NLh4WK8bBLPZ6L4UtXyJNqdhS+1BVzWILB\n",
       "eTGQExKz48TMHiwczUrO/l2xKo5VA1Qv7SFvptJrs+ZNRNJeSmyitobjZk7BKbER4M80LwTqtIjc\n",
       "yu+ITORd+EyKFeOyLz5tKPYjN8yyuxcBie0Y8x6T9D5x0mwr4m5dL+0iiib3AJFe05q3IZJ2UWKb\n",
       "amsWO8hnXomNAFfpWm5HKTZxQg/p+Fh8//142oVP323G9WDJ0WlMWTg9tf4ApeulHUXRVNlFpdem\n",
       "DxFJOyuxObU1B8IpsTHAZh3BTYqNnAbJDdAhODT01OgKj9v5ZHppZ1E0UXZR6bXpQ5SCzkpsTm3N\n",
       "gXBKbAw4oSO4SLGxEz01kc/7oMFnaMIeb33Jm6n0OtRmfZj3VmIjTy4F4pTYvrTczGlUaZOcYOP/\n",
       "I6F2pz0f8iVvptJrXPM2qEGZtAefRG0dDJnBlFNi+9JyM6d/v4gjrpAPBRr/X1CS4I46yZtFUTSR\n",
       "Xu80cxIskrawIdFEB7Ha+umEGUw5JbaDlls2K5wh13ylNBWY43w2layf1zjKmwVRNJVem4+zRCTN\n",
       "8ynRRFO1ddTMuHkltlzLLZtVuYBUU45bz7zx/+3Jg2rFqd7nR96Ma96W7dhPwa7ZLT/3gxDIt8fQ\n",
       "3IInK+3P9b9XI7zhMOvxfuTNuOZt+eyHz3ZXRB8I0fS6gK0eH1/Q4BO3h4Tz36IX1vzIm3HNm2v+\n",
       "lNhLXGy+EFKF8GLb+7LG35OSL4jz/z67d3pgtlg/fgMafLLE1LpCzrPeJPyVBdOCk7Tuwsn8dPFZ\n",
       "738vNZye2ekOnJc3rNP391Lr/u8Zfw7qv6m3saemqal5/wesFdlM7Tn/2wAAAABJRU5ErkJggg==\n",
       "\" style=\"display:inline;vertical-align:middle;\" /></a><br>(see <a class=\"ProveItLink\" href=\"../__pv_it/7a1f3ae75fd78b496ede6adfaf28bd71e32cff480/dependencies.ipynb\">dependencies</a>)<br>"
      ],
      "text/plain": [
       "rightwardCommutation: forall_{i in Naturals, j in Naturals, k in Naturals} [forall_{a_{1} in Complexes, ..a_{_a} in Complexes.., a_{i} in Complexes, b in Complexes, c_{1} in Complexes, ..c_{_a} in Complexes.., c_{j} in Complexes, d_{1} in Complexes, ..d_{_a} in Complexes.., d_{k} in Complexes} ((a_{1} * ..a_{_a}.. * a_{i} * b * c_{1} * ..c_{_a}.. * c_{j} * d_{1} * ..d_{_a}.. * d_{k}) =  \\\\ (a_{1} * ..a_{_a}.. * a_{i} * c_{1} * ..c_{_a}.. * c_{j} * b * d_{1} * ..d_{_a}.. * d_{k}))]"
      ]
     },
     "execution_count": 2,
     "metadata": {},
     "output_type": "execute_result"
    }
   ],
   "source": [
    "%proving rightwardCommutation presuming []"
   ]
  },
  {
   "cell_type": "code",
   "execution_count": null,
   "metadata": {},
   "outputs": [],
   "source": []
  }
 ],
 "metadata": {
  "kernelspec": {
   "display_name": "Python 3",
   "language": "python",
   "name": "python3"
  }
 },
 "nbformat": 4,
 "nbformat_minor": 0
}
