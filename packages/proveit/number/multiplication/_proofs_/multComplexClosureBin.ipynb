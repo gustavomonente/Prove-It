{
 "cells": [
  {
   "cell_type": "markdown",
   "metadata": {},
   "source": [
    "Proof of <a class=\"ProveItLink\" href=\"../../../_context_.ipynb\">proveit</a>.<a class=\"ProveItLink\" href=\"../../_context_.ipynb\">number</a>.<a class=\"ProveItLink\" href=\"../_context_.ipynb\">multiplication</a>.<a class=\"ProveItLink\" href=\"../_theorems_.ipynb#multComplexClosureBin\">multComplexClosureBin</a> theorem\n",
    "========"
   ]
  },
  {
   "cell_type": "code",
   "execution_count": 1,
   "metadata": {},
   "outputs": [],
   "source": [
    "import proveit\n",
    "context = proveit.Context('..') # the theorem's context is in the parent directory"
   ]
  },
  {
   "cell_type": "code",
   "execution_count": 2,
   "metadata": {},
   "outputs": [
    {
     "name": "stdout",
     "output_type": "stream",
     "text": [
      "Beginning proof of multComplexClosureBin\n",
      "Recorded 'presuming' information\n",
      "Presuming previous theorems (applied transitively).\n"
     ]
    },
    {
     "data": {
      "text/html": [
       "<strong id=\"multComplexClosureBin\">multComplexClosureBin:</strong> <a class=\"ProveItLink\" href=\"../__pv_it/c25da509d500785e5ad6cfc348cb1bf2222da71f0/expr.ipynb\"><img src=\"data:image/png;base64,iVBORw0KGgoAAAANSUhEUgAAAMEAAAAVBAMAAAANw5eWAAAAMFBMVEX///8QEBCIiIhmZma6urrM\n",
       "zMxUVFQiIiJERETc3Nzu7u6qqqp2dnaYmJgyMjIAAAAcRTyBAAAAAXRSTlMAQObYZgAAAvpJREFU\n",
       "SMetVU1oE0EUfslm87PJphdBaBFC6x+eQkUPamlVxIvaiFgLgg3RIniQXGxFPdQoukkVFgRbtIe1\n",
       "xVpaJUEptFIwtFSh/rDgpSko60GtIlXwoOQgzpuZ3TRrtkbwwdud/fbtfDPfe28W4J8soDO326RD\n",
       "POIGDt5UyzDCfZlJF5MAXtUe6f74dfUlij/Hx8/VMnzivtzCUUJj2ECxIyc1v6Z4P+69p0oCOcq8\n",
       "zGpy5DJtA/UEifxO8bAGEMpVyeBTmZdZK5kB7vCH+e5u3I4cqyXX4xSX50ZH+6oVqY97mT2jUrXQ\n",
       "cfsmhglUlkGG/1SUC9UyNHAP7GistcAP9duJDFQ7yUzosMi1RLwTIF1hsgNGBfA6951q+JtVS7+0\n",
       "rAoyDbdKasAT4Zkj+G5bIQSvnUyAuSi0iaddPBzOM5fWgIAqSDS+CDURCCZx7De/uWEyIO4Dt9lC\n",
       "0tRmXWrXxC8oLGZ/bKYJ7mbgWJ4HrGIuFMGHM2RxaYIB2TyIdE8Hl4ghOCLyTxAP6T6TeX5yFOQB\n",
       "gCmsQbJhufeWBoU8BG0Mrh7IxrC04qwdWnOcod/qES1eYggYbWQ0tP49eFCYPeMEIveO+lNEQADP\n",
       "UTKXWq4SWfOTUjvo0KyBh6rkKjVOnKlI8fQJMj4jFiGM7xYKLGaD1kBPFPmB+kemszk4HTThmhaS\n",
       "Fp5pwUwYpHZhtXD8EaERomIShvDVY36IpeCthHsKji1jmGHuj8hdIRPz6n4SJ+StTbKGWJyTJjIc\n",
       "J5UArpw7DkcURYncPmxKvlU8qyipwHisxLCXuZRYd3OtVa2NL1F4FjV8WePwoXc/tpi4TMCs6l/Q\n",
       "vJR8kFVhEeqAZmsbWYC20qlB7R6/77vabVTCwaV27IdQjLZrDKYDGTgn98AsLe1ZCEVWOvmoTTuc\n",
       "AhbuSTxsAujF4f2lKzGxDtpeEL2xJ6RXi53WB2mofAJIRmUCO+4meeCtyG4bldRf/0DU/GplBifc\n",
       "+a/o9BctOMQXHA9RHf6b/QZVMc1P4paDKwAAAABJRU5ErkJggg==\n",
       "\" style=\"display:inline;vertical-align:middle;\" /></a><br>(see <a class=\"ProveItLink\" href=\"../__pv_it/c25da509d500785e5ad6cfc348cb1bf2222da71f0/dependencies.ipynb\">dependencies</a>)<br>"
      ],
      "text/plain": [
       "multComplexClosureBin: forall_{a in Complexes, b in Complexes} ((a * b) in Complexes)"
      ]
     },
     "execution_count": 2,
     "metadata": {},
     "output_type": "execute_result"
    }
   ],
   "source": [
    "%proving multComplexClosureBin presuming []"
   ]
  },
  {
   "cell_type": "code",
   "execution_count": null,
   "metadata": {},
   "outputs": [],
   "source": []
  }
 ],
 "metadata": {
  "kernelspec": {
   "display_name": "Python 3",
   "language": "python",
   "name": "python3"
  }
 },
 "nbformat": 4,
 "nbformat_minor": 0
}
