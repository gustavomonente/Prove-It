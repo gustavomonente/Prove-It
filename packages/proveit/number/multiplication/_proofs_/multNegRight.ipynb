{
 "cells": [
  {
   "cell_type": "markdown",
   "metadata": {},
   "source": [
    "Proof of <a class=\"ProveItLink\" href=\"../../../_context_.ipynb\">proveit</a>.<a class=\"ProveItLink\" href=\"../../_context_.ipynb\">number</a>.<a class=\"ProveItLink\" href=\"../_context_.ipynb\">multiplication</a>.<a class=\"ProveItLink\" href=\"../_theorems_.ipynb#multNegRight\">multNegRight</a> theorem\n",
    "========"
   ]
  },
  {
   "cell_type": "code",
   "execution_count": 1,
   "metadata": {},
   "outputs": [],
   "source": [
    "import proveit\n",
    "context = proveit.Context('..') # the theorem's context is in the parent directory"
   ]
  },
  {
   "cell_type": "code",
   "execution_count": 2,
   "metadata": {},
   "outputs": [
    {
     "name": "stdout",
     "output_type": "stream",
     "text": [
      "Beginning proof of multNegRight\n",
      "Recorded 'presuming' information\n",
      "Presuming previous theorems (applied transitively).\n"
     ]
    },
    {
     "data": {
      "text/html": [
       "<strong id=\"multNegRight\">multNegRight:</strong> <a class=\"ProveItLink\" href=\"../__pv_it/4eed258dab5dc947ba9209b225f2ef42e2bfda390/expr.ipynb\"><img src=\"data:image/png;base64,iVBORw0KGgoAAAANSUhEUgAAATMAAAAVBAMAAADY9BTyAAAAMFBMVEX///8QEBCIiIhmZma6urrM\n",
       "zMxUVFQiIiJERETc3Nzu7u6qqqp2dnaYmJgyMjIAAAAcRTyBAAAAAXRSTlMAQObYZgAAA2ZJREFU\n",
       "SMfFVk1oE0EU/ppu/rabWMSTXmICPRShRamnWmtFigfpXvy5NRRFClKCB0GrUjyUxN8KQoUqrlWq\n",
       "llILIpLSQ4i3KhhQ0ArKHuxB0RKKglYUZ3ZmMzP5qWsvfvBls4/5Zt7Oe2/eAP+GcIFRxU31tWGE\n",
       "sZq4poghK9GmhneeXbvPqUAfKjP0c1YR1xY5CIwIPqOGT55d+8ipIFq+Q9OcVcS1RcxhW/A63egh\n",
       "r55FWhlVvCw3GDHGSvEqIoa8YNQis8x4dS04wqjiZMW3NzJWilcRMdwWjMxPTo56jucop5rdqYpx\n",
       "HzgrxKuJWJw7Bb+n06c9u5bgHG+6tqUUMJ8UqPGtCG8EnoKxQgxZpMf7u/KlnU7EcNWCQewujwAZ\n",
       "z65dYtRzkeNB2zWGpDMhtwu+IvAejDCWHLS6YsiiKbyOnS3lp9aIFhJFW3C3Uw3SoXTxaF/ZMSUs\n",
       "g4yGZaxoNHMsJ4dEqoZnOhAiRfUEjAoGlcQjonm8sPaCTzNWbyNNFksJBuFzv1qf21bQD1n+zyKf\n",
       "yywbGHVnffL8TX/rSFpMO5uzqGM91pFI94JRARWyTTSZyKK+uNNYdTEsA/6ioFEIuto32UlEbgBz\n",
       "qGXhrsFZn+CE65oLbQW9Zm3XBJhoGWKaHsv/TXUtbB+gx0hbk6nRjNjzmJjIsyuJU1AsUkDhrC/H\n",
       "xgWJymby6OZ0cy1ZNaCgvpTQAR85b7SUIDKHSb1YA8HOKB3wdoHn84q/EYpFKoMGq4VIqpVBKIlh\n",
       "SGVQXkNKGcySimkuWYapWCkDPCL++fEFuEMHzGZZPt9N+YYUiwN+KPTMXJG6syEdHvVJ7Rd5tHMq\n",
       "UE4TItJ+hopSx9+OHvJSnxPkafMDOJhOp2Nj+/kauUBMtUAEaiI+vkPMqUmnp96XIDNhkVNBt/xC\n",
       "RHpfc0K6WEzEd5Kij5qCiNDI+It+BByXxmkBklzorDNVi8dGVU+bc4rxHxtVB+E9iQ5uGbYBgzoa\n",
       "bjeRD59H0OyBZPHa3gfwsHNt7T1g61/V9s4381V+HrhA/04tDZv+TdD6LkOyuAMzqNI8QmI7zuBc\n",
       "7UtRpoaI7WkhFFMvRUpfI5nFGwAeOAUlLB6vkl0Js9YH/OUqqcXbuMMuqyOLY5q95gt4ZIRxDRfw\n",
       "BYnVUcC+5/jP+AONTySppx8qGgAAAABJRU5ErkJggg==\n",
       "\" style=\"display:inline;vertical-align:middle;\" /></a><br>(see <a class=\"ProveItLink\" href=\"../__pv_it/4eed258dab5dc947ba9209b225f2ef42e2bfda390/dependencies.ipynb\">dependencies</a>)<br>"
      ],
      "text/plain": [
       "multNegRight: forall_{x in Complexes, y in Complexes} ((x * (-y)) = (-(x * y)))"
      ]
     },
     "execution_count": 2,
     "metadata": {},
     "output_type": "execute_result"
    }
   ],
   "source": [
    "%proving multNegRight presuming []"
   ]
  },
  {
   "cell_type": "code",
   "execution_count": null,
   "metadata": {},
   "outputs": [],
   "source": []
  }
 ],
 "metadata": {
  "kernelspec": {
   "display_name": "Python 3",
   "language": "python",
   "name": "python3"
  }
 },
 "nbformat": 4,
 "nbformat_minor": 0
}
