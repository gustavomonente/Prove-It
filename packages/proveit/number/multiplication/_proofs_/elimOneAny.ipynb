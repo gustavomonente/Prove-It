{
 "cells": [
  {
   "cell_type": "markdown",
   "metadata": {},
   "source": [
    "Proof of <a class=\"ProveItLink\" href=\"../../../_context_.ipynb\">proveit</a>.<a class=\"ProveItLink\" href=\"../../_context_.ipynb\">number</a>.<a class=\"ProveItLink\" href=\"../_context_.ipynb\">multiplication</a>.<a class=\"ProveItLink\" href=\"../_theorems_.ipynb#elimOneAny\">elimOneAny</a> theorem\n",
    "========"
   ]
  },
  {
   "cell_type": "code",
   "execution_count": 1,
   "metadata": {},
   "outputs": [],
   "source": [
    "import proveit\n",
    "context = proveit.Context('..') # the theorem's context is in the parent directory"
   ]
  },
  {
   "cell_type": "code",
   "execution_count": 2,
   "metadata": {},
   "outputs": [
    {
     "name": "stdout",
     "output_type": "stream",
     "text": [
      "Beginning proof of elimOneAny\n",
      "Recorded 'presuming' information\n",
      "Presuming previous theorems (applied transitively).\n"
     ]
    },
    {
     "data": {
      "text/html": [
       "<strong id=\"elimOneAny\">elimOneAny:</strong> <a class=\"ProveItLink\" href=\"../__pv_it/8b1441b1d60a5d037780debce903df4738c6d9720/expr.ipynb\"><img src=\"data:image/png;base64,iVBORw0KGgoAAAANSUhEUgAAAzMAAAAZBAMAAAD3Wm1IAAAAMFBMVEX///8QEBCIiIhmZma6urrM\n",
       "zMxUVFQiIiJERETc3Nzu7u6qqqp2dnaYmJgyMjIAAAAcRTyBAAAAAXRSTlMAQObYZgAAByVJREFU\n",
       "aN7tWn2ME0UUf9d2+7Hd7fEHUYGYFE6R+BEbSMTIoVWDxD+EopGPaHL1giEYJI3GO0Wj55loEUlW\n",
       "iYAoZoHIyaG2QS/nGZTKKUYQ0/gRgSBpIpCIBglB4x1KnDez7c5+b0uo/MHk3m277/dmZ95v5s2b\n",
       "2QL4L0u6FbhUmlNmd5fqgecueax5JZa9+KmJlZk0twzZ3NvYhOfGFSZITQVv/OyTmgRe5Ob66V1N\n",
       "zr+iy+vAhK2xW+xp7Lni87k6MEs1IdTsw+8nfFIjFckloTaVml81aWwQjue+/OLDoIoRKxZVotGV\n",
       "NpGqA/OBJoSa9Xjp8UkNBa5vKjNyiklDZeueUe7bWR8WNcxui+r7RrvQWqwDIyWZEGpwDkhFn9TQ\n",
       "6bWvqdREFCYNEstRExr1xuuYTRbdU402Yq5aB0Ycw4RQI+/t71/nOw043N+/rbnZwDpNzp8ayUfD\n",
       "dUwibU5HGu73V3VhjjLBDO3vfP4Z39S05vMvlZpKTZsmsfap472zOTOIpybR2eYZHXSMZA6iAbyx\n",
       "Znii9xQwg45PmuFpo2OGmSA1DwOs9E1NOAPR5u47V2tyu5I45Qm2gHhqCifEEa8KdIxM84BvT2Kh\n",
       "uUGUJKahcfCHd1A0gcRzasHLZxzmCBOk5k6ajQTMgySRsaMmlKLpQwNlTsW9PycdFE8zEa+EIMlB\n",
       "FrKO2OBwnGqgNh2jUUMH8S4VToPQo98weaeGoX2Pm+NXhEynTWW4GbQ67BpB7zEQcyg+Jz4KrUmP\n",
       "ljMMHCMfB5kgNREIkPEgMM6Ex7+AiXQfGmd2C9rTgcu4LWcObrAkqK8s6XTLX5naGCCsNsMO6rFM\n",
       "gqMQScJ909nYrtgMO6iCYJGOYdRQJdwK4j/CtJx+wzRhKhqG9V0wz9EWsvjcpsJjoNVh0wh2j4KY\n",
       "Q1mrKlAoebUcMQAYTDuYIDVSOaKBtg/PhI8lNVhLFnZOK8d79sItHDX7DWcCiBAXqsLvDtOUUyeK\n",
       "7ja/Oag1alp6oEDG8mw2gG0OMbqgBuIw2qzpYluW0FkI5fQbplmRrWLYILWj5goQ/wStDrtG0HsM\n",
       "pLeKbFnmFj1azjC0cNTEKvO16LpqgwqfJlNS1ebAUD/EvwtCiaPmbYGvHBHyWwA77anh1a2Ku82I\n",
       "g1oLaGRM7YIqNY4rBQM5rDX/4qwKuedZFMMibE5fa45rAY3MqPgp8KhDA3FbljJOJPeWMww72GRC\n",
       "z9BWLiZPm4yLDikDA69RajbPwHWFzO0HFiV5aqJryeARpy6ng5MiZg2QeowP2jL5mEXdMekRcLER\n",
       "Tk9WbdVaGlAowvK44kUNBd2RtafmDK4CHtRQzOYZtTSAKyQNEM9CuDLkRQ0FoUOrbk+TNdCLGsSI\n",
       "NDvk0gD4kDxJalXZadqA9P6DeE3NYQdm8czeH3lq4hgz+zIdKoRVhjh00NK4JwTikYpRfY3ahiZO\n",
       "NoEVZN0MK1a1lktGk3KXZOgghm0ap/WFg4FKHB0B7vOj8IJhxFO7Wi0chvSdRH/zHgEXy174KVvy\n",
       "qoOC0KHV47hyNOXVcooJhpCCdiaUGkwNNgyCSNfpASihM0RlD2xh1Ei1BZy2iCQwMA0WgPC5yhCf\n",
       "WA5pgykhh4mHQd0LR9DEyYZ4lQ4Ni1qb32Ln1WuvMnSQhu0uw8JBQbHtuueCD52bqc/l68vGYNRl\n",
       "qKWGwb7bZKhouXXSos60Vx0UtGFQp2/qfvBsOWK2Sag4xoRSI6vUc8KT+XwvoWZjRAskC/L5fDKe\n",
       "iZVzPDWHiEwAMl0jKkO8eb/ZzS3FAI0pBvVYuAlNHG3SQauN9aBmto80PZp0S9L97OkxiPY5H9T4\n",
       "qqPX9N1Xy8nYEXNMau9rxNEMZNmsCd2rLcthNmtgVpKnBsEjsLof/UwRwc3mdL2gRA+pO5JG9Sgh\n",
       "FKlxsGlVW4ryYRu18XjTTwcL75wvNSPux5t+6kCH1k0Npkrc8aa2kaiU4Ev88APAYVivgjAGJKxc\n",
       "ToNcMlED44QzZfQzRcTaM7A79jIxov/IX4vScQ98lDKqV8g9lBoHm4h6AF7v49XVh60E7rhi0EcH\n",
       "P5Pcdlk+3CqMsX0pUDsG8VMHOtRQ/LR8nvGlgEbyMgWiJD8IPZsmA3deEQJkx7sKyT4KkDVTc9d1\n",
       "bZQaioD3Tr6YESbAPEUYR/4R41Dnjpl4pGNQz/+GxkAnG2FZieWINXX1YfyrtDXPdfp4E/C1yyHb\n",
       "9L+SnhVg36POr9J81YEONZyr+Wn5FG4kGl9AT8lXA2SRBuwACfumgxp+e6XyiLiuYFunvpBVTalx\n",
       "sdkH1of+Dy+gse8Hbe5f8BfQxP2ywsTptwFxZfGrqu3xJjfrbzQcpw5xxiwdvNaiNplYbU7AxVBs\n",
       "+96EEr6bPzV3oEaGZUvBgxpTKXPGrmpnm9gblYuCGtu+N4OaPYo3NQ6l+8L+Dk0evvQzNz2h687+\n",
       "B3oIeTzhSsJrAAAAAElFTkSuQmCC\n",
       "\" style=\"display:inline;vertical-align:middle;\" /></a><br>(see <a class=\"ProveItLink\" href=\"../__pv_it/8b1441b1d60a5d037780debce903df4738c6d9720/dependencies.ipynb\">dependencies</a>)<br>"
      ],
      "text/plain": [
       "elimOneAny: forall_{i in Naturals, j in Naturals} [forall_{a_{1} in Complexes, ..a_{_a} in Complexes.., a_{i} in Complexes, b_{1} in Complexes, ..b_{_a} in Complexes.., b_{j} in Complexes} ((a_{1} * ..a_{_a}.. * a_{i} * 1 * b_{1} * ..b_{_a}.. * b_{j}) = (a_{1} * ..a_{_a}.. * a_{i} * b_{1} * ..b_{_a}.. * b_{j}))]"
      ]
     },
     "execution_count": 2,
     "metadata": {},
     "output_type": "execute_result"
    }
   ],
   "source": [
    "%proving elimOneAny presuming []"
   ]
  },
  {
   "cell_type": "code",
   "execution_count": null,
   "metadata": {},
   "outputs": [],
   "source": []
  }
 ],
 "metadata": {
  "kernelspec": {
   "display_name": "Python 3",
   "language": "python",
   "name": "python3"
  }
 },
 "nbformat": 4,
 "nbformat_minor": 0
}
