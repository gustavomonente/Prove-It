{
 "cells": [
  {
   "cell_type": "markdown",
   "metadata": {},
   "source": [
    "Proof of <a class=\"ProveItLink\" href=\"../../../_context_.ipynb\">proveit</a>.<a class=\"ProveItLink\" href=\"../../_context_.ipynb\">number</a>.<a class=\"ProveItLink\" href=\"../_context_.ipynb\">multiplication</a>.<a class=\"ProveItLink\" href=\"../_theorems_.ipynb#multRealPosClosure\">multRealPosClosure</a> theorem\n",
    "========"
   ]
  },
  {
   "cell_type": "code",
   "execution_count": 1,
   "metadata": {},
   "outputs": [],
   "source": [
    "import proveit\n",
    "context = proveit.Context('..') # the theorem's context is in the parent directory"
   ]
  },
  {
   "cell_type": "code",
   "execution_count": 2,
   "metadata": {},
   "outputs": [
    {
     "name": "stdout",
     "output_type": "stream",
     "text": [
      "Beginning proof of multRealPosClosure\n",
      "Recorded 'presuming' information\n",
      "Presuming previous theorems (applied transitively).\n"
     ]
    },
    {
     "data": {
      "text/html": [
       "<strong id=\"multRealPosClosure\">multRealPosClosure:</strong> <a class=\"ProveItLink\" href=\"../__pv_it/79be1d0b44ee24c9bd7aa25e3571b477b48ac53d0/expr.ipynb\"><img src=\"data:image/png;base64,iVBORw0KGgoAAAANSUhEUgAAAXQAAAAbBAMAAACemGlbAAAAMFBMVEX///8QEBCIiIhmZma6urrM\n",
       "zMxUVFQiIiJERETc3Nzu7u6qqqp2dnaYmJgyMjIAAAAcRTyBAAAAAXRSTlMAQObYZgAABJ5JREFU\n",
       "WMPdmH1oHEUUwN8lt3d7u3uJfygag7IxfhS1eOT8qv3wgpD+I3it4gcILsGiIJTY6J3aoEeR9hqJ\n",
       "HBbSo6Dd+kerZ9ML6KH9Q1xN+4cNhROKX1hYEQSjxiAt2FSKb2Z292b37vbuNo2gAzOzO7uz85s3\n",
       "7715swD/0xTJvryyDzxyuYk0zCrmcHbC/8XoCgcStMuNnsM8Qq+mVxe9R18NdKX6L6APYY5VO+52\n",
       "3B8dXmHoJqnONkXvIVW8Gow8tozFewFMrOC+jz+fv/TjVA19kKHPk2qhKboyu4J1VxJY/NJ5P8n0\n",
       "Kp6kCVOTEFlcvH7xd4CDDL1IpJNrik4fFQPqSwjnHU8E6PiF516MGZCbdqQenaXoRKJUtE10nSzI\n",
       "fED0g/jtaCFAx0NW/W02a9ro63oc9O4cRY+fKpX2+5jpD6XS+2MB0b/CvD+QZ0rR6vFbOamvEx30\n",
       "riuYh/krn5/wQe/N5/cYnQzLvbzJMqnYhqFrW3fcNzeg80YC0gKvMNqIgx5eZujbAPb6oEfSIHa0\n",
       "5pxu5zETxzBc6FlCGfr3C/fBH45LMd2OBtHl8QUHXTjP0B9wG7QwfgIGtBp6OAHHICD6z5h3ovSu\n",
       "I9r58D3MezToQoV9qAr32g0yVVGRM9Ors7/SKzqb2DmGHoUux21/MLcRPlH0bp3bksZgbVvI8o7d\n",
       "m1Q3+jjmK9GqliGKTzbTtrJZ7wsvkfJ+HXY48lsi5ZZFTJaZnkhMch0sdKXq7JnxNw7o8KmaUPjd\n",
       "9DS0YaVkzqqhvAtzyfGk469+YuihHJTTNnq0QViTIcU1IJ13oxd553gnp2+21GPmowi9cesg0R1M\n",
       "lcpbLvR32oih6JxVIz7jlvpupjBlAz4DG73pNvQ3yEsWB4SptEI8ujij1pT6ghXD7H0axx6uhgos\n",
       "KKgoM0/y6OI0eippaHu6fjSnkc4Z0Y+60Z9lZlqehe1yoRX6RYiYxxmHZabdKocuaHfVLNryMPAh\n",
       "TvHALdCrS3TUChhzPLpMzOtI+ikdIp54gDbSZDL07qQbfQAzfktU4xnFJXWq3UTrmZrTtAu+0QzK\n",
       "gdDMw+7kAgGYjzjCi1t+HXrJ5EZhGISX8vldiP521BU5/ok5CY+B8LkHnTQyEoqr3v1Myo3+kE6B\n",
       "pdGbpm90K0zG1vqM03T4hidGU5QDURnl4dd1J/xKi29etF+1dlN8QJ5fBRsEegRB9PBWF/r3mPvh\n",
       "ZrzzoNNGqnt0zuqXawk6p1ihFB8IbG7HT1EOOGLdPbgnazbabFUuXo8twQsVOEkuz+Dm743XpQsw\n",
       "VfKi08b4+rMGO3ahwlROuYcg614Lvz5uJ0ymHHXhlyeVdQ49rMHtVRDRrYVfTUGk7qjRJ5yrEvTY\n",
       "JBR1uyCN8hriO08ydOWo53xHdNLeqve9NtoanXFIpv9bXzc4Ja3BdW94Shq5bZCiC/2wpSD0kaKf\n",
       "NW4TUPHInOWJ36SkZ8zngh01WkUeL3Z8wCMKI9d2T1aNdZ1pMGcrHQt2wPuuxS5idIou3LGePzay\n",
       "K0mTT/sEB0HOGS1Tsa0/AnX/YaoNrnzSR6uBfh/9D5P5D//f+gcU8joVyPMORAAAAABJRU5ErkJg\n",
       "gg==\n",
       "\" style=\"display:inline;vertical-align:middle;\" /></a><br>(see <a class=\"ProveItLink\" href=\"../__pv_it/79be1d0b44ee24c9bd7aa25e3571b477b48ac53d0/dependencies.ipynb\">dependencies</a>)<br>"
      ],
      "text/plain": [
       "multRealPosClosure: forall_{n in Naturals} [forall_{a_{1}, ..a_{_a}.., a_{n} in RealsPos} ((a_{1} * ..a_{_a}.. * a_{n}) in RealsPos)]"
      ]
     },
     "execution_count": 2,
     "metadata": {},
     "output_type": "execute_result"
    }
   ],
   "source": [
    "%proving multRealPosClosure presuming []"
   ]
  },
  {
   "cell_type": "code",
   "execution_count": null,
   "metadata": {},
   "outputs": [],
   "source": []
  }
 ],
 "metadata": {
  "kernelspec": {
   "display_name": "Python 3",
   "language": "python",
   "name": "python3"
  }
 },
 "nbformat": 4,
 "nbformat_minor": 0
}
