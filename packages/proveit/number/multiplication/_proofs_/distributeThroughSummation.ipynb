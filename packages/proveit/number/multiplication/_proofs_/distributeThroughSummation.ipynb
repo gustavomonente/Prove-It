{
 "cells": [
  {
   "cell_type": "markdown",
   "metadata": {},
   "source": [
    "Proof of <a class=\"ProveItLink\" href=\"../../../_context_.ipynb\">proveit</a>.<a class=\"ProveItLink\" href=\"../../_context_.ipynb\">number</a>.<a class=\"ProveItLink\" href=\"../_context_.ipynb\">multiplication</a>.<a class=\"ProveItLink\" href=\"../_theorems_.ipynb#distributeThroughSummation\">distributeThroughSummation</a> theorem\n",
    "========"
   ]
  },
  {
   "cell_type": "code",
   "execution_count": 1,
   "metadata": {},
   "outputs": [],
   "source": [
    "import proveit\n",
    "context = proveit.Context('..') # the theorem's context is in the parent directory"
   ]
  },
  {
   "cell_type": "code",
   "execution_count": 2,
   "metadata": {},
   "outputs": [
    {
     "name": "stdout",
     "output_type": "stream",
     "text": [
      "Beginning proof of distributeThroughSummation\n",
      "Recorded 'presuming' information\n",
      "Presuming previous theorems (applied transitively).\n"
     ]
    },
    {
     "data": {
      "text/html": [
       "<strong id=\"distributeThroughSummation\">distributeThroughSummation:</strong> <a class=\"ProveItLink\" href=\"../__pv_it/59862f668da8378f555965a0d8416a15c8eda4730/expr.ipynb\"><img src=\"data:image/png;base64,iVBORw0KGgoAAAANSUhEUgAABVUAAABMBAMAAACfVUp4AAAAMFBMVEX///8QEBCIiIhmZma6urrM\n",
       "zMxUVFQiIiJERETc3Nzu7u6qqqp2dnaYmJgyMjIAAAAcRTyBAAAAAXRSTlMAQObYZgAAFRVJREFU\n",
       "eNrtnQuQHMV5gP/bx+3u7ONOlBIMgtJyMooKO9EhipiHgjambJVTNnfCEYiY8m0pBuxEQVdOrIsE\n",
       "iQ45IYccorVVNjK2o5EUCwVibitEJbBNdi3ZUAHZbExIwOGxjnjYkHACSSfd6cRmunse3T3d07uz\n",
       "mruTNX+VdP3unulve/7u+XsaoC0ZaDTGlYkuh9kvTV1IYBLtt53Zms8ytDlzqtPd7kvnnO8z525h\n",
       "aKpoOhKNRkPgb6+Ll/R8QJUmUj8TWG3iQoKT3xI6W2S1eyZa7pfVmBiKNdYvtqdnrcjfVheXTk+a\n",
       "mWd1JhsZn3D68HzfrA6eSazCQmHojoLtrIj8QXfxnRCy6i0J5+G9o/8sYTUn1HWy57Ns8v6Auzgz\n",
       "GLKqkCcd561wlrCaEud8nWPz9WlldXstZFXRbadE2sCvOKuSX2VfP8sm7w+2i++CkFVvSTqzolzx\n",
       "rGF1QBeqBnWWTd4faBfHT4Wsqup2njzbS2cNq7m8cH3gJMsm7w+0i5PdIavNP3mugbOG1awYjDc4\n",
       "Nt+YRla3V0NWFerqlOM+pz1Wt5w7ZMj8RkP325bmJxfpUnuspo4Kg18psGzy/iC7eFkpZNVbos58\n",
       "KnWsPVYH8NiqfXx+vsXM/9m4+9ZDBuB7QLvLe3x24j/XHqtwgTB0dJhlk/cH2cXvQciqt3TVnefi\n",
       "4fZYzRwx8W9ZHzC6KWlw90tDj+xV6JlW/MNtsnq7WGecYNnk/QF2cfrdkFWFVJxBMDrYHqswViae\n",
       "Vk0w4lO4q7IGh11lxU/Lis/k22N1sTcwFbE/wC7unAhZVchap+rEcJusbjfZ2dli5oihPEamIGE0\n",
       "pU+h69rx2AChDVYr4lt+nGPz+LSx2tUdsqqQd6i71dsmq2mfKlfSUD46j8J9wLxEE4oT/2p7rA6I\n",
       "B/CxEssm7w+uiyu9IasKLekIxSpWB1JLl6gRcCUia1Zr874agXTm7b2wwHC+3nO1Z1In/gDHaqbn\n",
       "YmVFVJpR8ZrD4jzLJu8ProuXlUNWFcsAJ6lJMO6+3y3l1HMsVyLCasLfSsJAFdJ3AtxrFPOePup1\n",
       "L6j4l1lWU3fA3yl/YVQa8sOEn7yN5JDTlDrLJu8Pros36iGr3pKYdNzYdkK7EKKG3rqKoCHIoTuJ\n",
       "FjhpCKvx4/7mOWsOLjGKvcMY5icRRKvkjwEcD68Zzn02q7iTE1X4Y4gPOwEc5HaaiwikXVXxEH+Y\n",
       "ZZP3B9bF2jsQsuoto92cChedhEQePvkhElsXjGx2IrjJSWO+t1pc9NOILQSuuUbBdRitmpULHwMo\n",
       "HgA1dMBiFbcIlhllxC8bdAK466ybaSBR8FLOc8dYNnl/YF0cOxGyqpC+YY7VjmEY7QdYTkZdAXrr\n",
       "nERUGpPVnK+FF3M0nouXT/vKZuVClHA8aa09rqIWwftwhw86Adzzo2ilGdW9WI2eYtnk/YF1cWYq\n",
       "ZFUhz1Q5HcAYtlC/LPcejat855msZszirnMPyFxY/ODTz1lOc35n6ABdNTT4ySsn8ViWM/qqNkWx\n",
       "KnvMToFzZaNVSl917FQj4yybvD+wLk6eDFlVPX6p2eco0uRGy3B7uqRiFSf6cNHF6qPWKCEYtdiw\n",
       "ayFtzc4i5rt5Y27VVTBUYS9WUby2oOyeWxnjX1rBKklzIL7Q/mEKHsXHWTZ5f2Bd3HEsZFUh86ld\n",
       "K3i6kcxn12UYXJCqh1VARw8kiaqTPKupDdazWrAAY4c9dOB3AIyUlvqRm7RXoTpryV5cOa6LrRn5\n",
       "cHwUb+1byrL626BdTrPKFkCl+b9/wVqAZH1Va7Bs8v7AurhrMmRVIbRNVAcaJ7XVF3/t/QyrWNVb\n",
       "x+iBOFHqoUGe1Qes6+gSXJAVlv3S/UalE2SGhFTCsfG89VTXlvzYfEwP6XzNiQ1m/D9mUPhrLKuZ\n",
       "H/+U1QHWMU130oyTX2dfwfOGVGT+oLp4++GQVW9J0fvek5RCubyJzMk8z+qXzFJhoOeP3Bdphl2L\n",
       "///5D93znxJVedq98PRdu+KaWSH/0iKmtmiIn0Ma+YouedAUWDZ5f1Bd3GcuyNw2NFtMA5cPVWcV\n",
       "qzF6VS/T3Rqro9/mWLVmVtfDb+gLoJOjAYUhUz7yi9g1fy5fXraXqjzjrq9Kj9BC25UmWI0Mr0ih\n",
       "vz+QxI/VWDZ5f1CsvmIOFLNoL2uqOKtYzdJLkWlKZdrXROZ/zXCsmjMrbQNsgpfjP+BY3YSnQ6CZ\n",
       "RKZucxV4D1W52/5Fs4fxFSCxCUyrezqZvzGC/r4uiV9bZdnk/UGx+sxwyKq3ZOgVaM3ZnLZ142p1\n",
       "5t3/xrJqzayW12GuMY9JcKyiMPQQ/vORkU1gDMmjrgL3UJW7p+lZ27XI4ppjNfWh8byq0blS58Xs\n",
       "tbKyrMiyyfuDYtWsxy+r35K4FfKYV/gsYzXKfEbrbv8FIVYfeG7lypW///iTjRpMwjwXqyjsJWOU\n",
       "wnfgewA3uH/ITe5h2WSA2+YelvSE9/hWcfvxQ/qldlj1KmGLzaqfejSjldm1J269/Srs3nOud3I7\n",
       "vtMFXuSNsXO/SMLlrLZ3K3xKkmH139tj9dI5puiwITuMWE1thm269Z8RlvoDI9mPUPorQNvss6rO\n",
       "j9mI+mc1WpexWudYtf1Po79vtsOqVwljvRarfurJIbaQudpdOnYfUqS34jX+NsQHytqyZ0m4nNX2\n",
       "boVPyR1hJkvltlil5IaDgFiNz4MVpfh56L95OCxm9EgS1XLl0gO6X1afKLXPaofsUhcPsqw6/m2o\n",
       "+4bbYdWrhLGqxaqfep7FVVTxNg/kVr0Es+P3cxE1Q/3KHiHhclbbuxV+WWXeQrfxTUXBnmukA6Sd\n",
       "hy7RjxEiiwx99fSIf1Yvks7HOVYdf0432++bVa8SNtqs+qlnPf5ZFYx/VeSOKV4sOPE7zL/PDw2h\n",
       "zs/2o1v6hyScZvWepi8kMEmwFhO/dhpZjS++mtbdiSunn9bm+2f1Qimr3Ryrtj/71IMP3tfW3Mqr\n",
       "hI15i1Uf9aTw3d+Cli0KyK36ipsTnyvgP6suMVUjPFruJOE0q6uavpDgWGU3T758OsdV/EhhXV//\n",
       "e5gdrMqfIJXDLKuU/8TIyJ1tsepVwvyavQ7Qej0RrOy+Z+B1BLtzqxd4jnpOPDHS0Czdc3e81wmn\n",
       "WbXXvpUXEph0sEs3yfxpZpWTF6+cJax+ueSD1VvwozDCm+Xk2A+BRs6Rs0pKiG1ZcwV6hUeZmjGs\n",
       "4lSxtwWPbjbs5oOPm1WjF3l4N/C+KnaPvqlNWIbnIsHxuOHZOrMc8M2YSQAKJ6xGh7AcEVzIjLKq\n",
       "fSFYVk+3+GVVu0Ma1cexSvmvxdPjOOnX+J/+EC4qOpo43Li0EPl15PgzK6sdYncxKQGttzwJjKkZ\n",
       "QKNss0pSHRA0jgkz5qlWKxMoc2T84IFLiLuiw7um4bn4B2nEk4aTtydJK2KrxSoKZ+ZW6bcEF8Iu\n",
       "A/7tbV6L8sJoRR549Il19vDZxU0Y7/O70KudGMlPN6mLRvzaJiXlC7l9kxyrjj8BETMfshR7NKNH\n",
       "Le1b+/5ltfTwU3AVck/yISSL7pRwK/k8AWVqBvDZfptVkuotQePeoupDc1eLsQ6kdSYnbfc1yFbX\n",
       "44XzNaYtr/GTw7+WFciIF8G3J151wtl1gIfnui8EqPZoq/T4/0rgEEUr8uB7/O3N8Omqvf7z15yS\n",
       "7vvD1itXTvv7jK+u9Nvaf5BHbSP4fEPgz9QS5gMSWYo9nu+13zE//9iDkP5pFFssEEToEDLIlpwS\n",
       "/gJgBGhTM3ZcJalELysmqPqQVUSaZrVr0HYfQl849GD1kP0FRMLqNluf0YsSVlNrSu4Loa8/+02A\n",
       "74urE0Yr8uB7/EIV0lXZuIqBn4EjVWZCouilhVuvJKPTPoE/Vb/BQHGhaSm2d+9XMKs7r8arxpD+\n",
       "1E35Kp6VXF9kQ5xHJy4BDF0xgl5HM6ZmDUdfxani7y50tc4Kw6VD7oIC0DrAQK/tPoV2xHmwiuN3\n",
       "Xm3/sjqcKRTiUyPhpr76NpGS+0J2LXwN7PZ8ZC8ysGNAWnJ7vzt6f49XHisa3+PYp4z89hDYJXgt\n",
       "rnXDWSIdclYrIv89nzFQ7NLJK8a9me/cjP72Xgc5rHr1P/UcIjP33783yYY4XYxLgNjUB/GLH8bU\n",
       "jJpb4VSRDcYkjjOsxGHGPChH+unSdwq0TrO4YLuPwo6aF6s43mi4NbeK2vrbpg8b/11Hz61M5bju\n",
       "vhDtC3Hj5hhtxO352Qt8LQ/0D+gojolOFFZgCzxJHhSNP62KV3u/U5LPrWZwmjRbWPWYW8Ejxp25\n",
       "f59pKbYXqmiqo5WegF2EzAxeAOq6BWFIh1Bd/Ag2nbT6nTY1c9ZXSapkPlu/mZs7ojCwSjfka1ZP\n",
       "4WrGdNv9J/BFMjS6d1ZgB4pHDTcoJT8me64Z/cVT2qObSTjN6sO6+0KivfFBQG3E7fmuyw7mMrgR\n",
       "j9FM9BUQxxZ4kjxGNDwCpjVe+qGSfH01ZNWTVfz9i02mpdhe+BbR2e6FG0dGRvLp/lQN3bkVi4yH\n",
       "MBNCdTEuIUkAZk3NaFZRqo5CtAgbuPaiMDBL1/pBs5YREJbXNFbb7l0frBEH2ktB7axAudGGCxyP\n",
       "9rdZC267/8q6FZ/8+fHLzXCa1VvAfSEd5UgRzxBxe76xkr+V88yjmZjoeUDeaErzACDdBN/j1N7+\n",
       "kFWfrGZ1NM3vJ5ZieyF2vTnh6SSjKHwE8bYo3l1iQ6guRiVY3zpkTc0cewCSqkvvKPOsorDsi2CW\n",
       "Xoa4DdN6KtV6CmBnL4WzTKTTM7UHTPfH/2aIWYRC4TSrJXBfyGgp+TMdtRG3J7qT+/aJoZbf+2C6\n",
       "h4ueMFkV58HR6z/Ra1rjXZWnPkySmwpZ5Vjl3rHy/nS9SizF/gPgRdimQ7wbMujnny1AtpraDJvi\n",
       "g3kqhO1i22kkZE3NtvQ6rOJRRH8ej1mOndo2HYV91aAIlx4dhj12+5+lrsBy46VT9yzZXryIoyvb\n",
       "L7k13rYr5u0rDXwCtxG3J7W0H/YzhnXnxY/W0tdy0a9CFLMqyYOiL7y/Zlrjbf0R2f9BNKAjIaus\n",
       "yO0BzLuzpoQtxWJ/WTDGhhVliAyTfWbLXzUGg/g8+CWs7qdC3F0cGbsSkAUaa2rGsxpfU8UcrCgT\n",
       "O7XzkAuFoQkyKj269eBVjiZLKXamGxuea+5Fb3vDBWq4e0XfvMp6E6zGVv8z2ZBM9tn909t39zOG\n",
       "dR/9wIIaVh7o6K2/eQmxbBbnMaJj/4NuBbbG037yC0f5CFnlRW4TyLyFsCzFyvi9dGTEehNirXg6\n",
       "Ie5xlUloydoiyyqWDUAvwRLX06LStWGxO+u+wJozU2MZZ2ZxJWh2X8AGEF2/5dIGC+5ozKo0TyT/\n",
       "ptAar3NczGrbx1ScsazKba1Fki595stMIbJNIa4u5hMuG3azev2RsnmIB6kL/xGbOLe+hwU3/AVJ\n",
       "JA5vilXURuFlma7V7tuDLfDkeaKlFwvC9fATYlZ9H1PR0m4fsbRwGoscjaYyilg1manI/KxkYc3n\n",
       "xKOWilU+4WIBq+zIiF2pr9dP0w+Va7ioI5oaV2WXVfOObj6PrbNIWPV/TAX9BGpNmj+NxWu/UJOC\n",
       "M4pYXdvLssn7/YpqS13FZHDI+/sA2QPT9ip7+VDRz4UEJqKvprd1TAXZ+eNPmj+NRb5fqOmfVF3C\n",
       "6pYqyybvD4rVgTPlbeGMsRp/R8Kq32MqmNWTFtvS/Gks8v1CTct+Cavmj7Qi8wfVxaPhN4JUw0tD\n",
       "wqrfYyqYVenWpIXTWNz7hVqWHRJWzY/RVWT+oLq4ayJkVSGNkphVv8dUpPwveLVwGotrv1DrgjIK\n",
       "WNW4b61p0/XttcTRkFWFbCxIWPV5TAXe4bH1wEW6MqUrUQunsfD7hczHeo/antVOgzIKWI1z37CM\n",
       "T9c3LTtPhawqZG1NwqrPYyqQRVrsPBgDr+0++DGOE9Gbl/jTWFZ5KHfcfiEs95WTda9MVhqyIQpl\n",
       "FLBqfeCrIvEH1sWRIyGrClncK2HV5zEVyNJ3Rw2ZdpnbfQQDLLZWwInMzUskDXcai8cJF/x+IWL+\n",
       "cCd0ls1MolFdt9KQDVEoo4BVa7GuIvEH1sXx90JWVTXXZaz6O6YC7aBYpsPnLYtzrzNRPm9VSNJw\n",
       "p7F4fVaT2y+EC4zi+dZyWaXW+THWhiiUUcCq9dn+isQfXBc3QlYV0nVYxqqvYyowq+8D7VgTZ6Jo\n",
       "tkZM0jR/Ggu/XwgX2DFssyqq1Do/xmqYhFXrvK+KxB9cF4+VQlYV0+EJGau+jqlAOoAx5CG/8kwU\n",
       "I1FsIUV886exuPYL4dG66rAq1XOrYG6IwhkFrFrnfVUk/uC6+JlayKpi9eeUhFV/x1SguZV2Ejrr\n",
       "j6lYxYnQ5iV7ctH8aSyu/UL4CVFDlkjerOI0eEOUbG5VKbJs8v7gurivGLLqLbFxCau+jqkgI+4m\n",
       "+K9iVXgmCnUQIU50P/X5bNFpLM4OIXbjkGu/EHIVYVe/8PwYp1KcBm+IwhkFrK4ts2zy/uC6uONw\n",
       "yKpC5ktY9XlMBSJ0d89NqwviM1GcgwhJIsdEUXwai71fyDlRRbhfCMnBl/Li82Oo0w9RGrwhCmcU\n",
       "sGrdjorEH1wXR4+FrCpkWb+QVd/HVKynqVUJ2rzkmt3Qp7E0vV8I6EzegjdE4YxuVlPjLJu8P8Au\n",
       "jk2FrKrUpKqQVd/HVNi2K02cM4E3L/Fif5EO6wfueO/9Qk2cyYE3RElsVyInWTZ5f5BdPCdkVaUm\n",
       "dYtY9X9MhbUroplzJvDmJZeYH6DDJ1y0ul+omTM58IYoiU1grptlk/cH2cXmtyhCVqUSOSpi1f8x\n",
       "Ff5trS3ZQw+y7uim9gspJSm2td5eZdnk/UF2cVcxZFUh4yJW2zimYrr2sHjuF1IKzuhm1TpE22KT\n",
       "9wfZxZnJkFWFPKML1wFsCfKYinZEvV9Irf+4Lt3+4VaE/kC7WJsKWVXIaNWbVTw31wM/pmJGdHWe\n",
       "1cgEyybvD7aLF+shqwqFdVLJ6nQcUzErWO3oZdnk/cF2cUc1ZFUhF6jHVWZOE8wxFbOCVefw64rQ\n",
       "H2wXpydDVhVS0ZtilZPTfUzFbGBVc75EVxH5g+7iz4asKqRz2A+rvwrCs9pZZ9nk/UF3caIcsqqQ\n",
       "O0JWifSVWDZ5f1td3GiMq9LEzz8TWG3iQoKTFWyXzcSRKjMyqRzZwrFqnfaTaDQaIn87srOn5/3K\n",
       "RB87A25bUxcSmMS4UX0GjlSZCUmt5L6qrFmP4GxPT4/L//+10NMMuFoZuAAAAABJRU5ErkJggg==\n",
       "\" style=\"display:inline;vertical-align:middle;\" /></a><br>(see <a class=\"ProveItLink\" href=\"../__pv_it/59862f668da8378f555965a0d8416a15c8eda4730/dependencies.ipynb\">dependencies</a>)<br>"
      ],
      "text/plain": [
       "distributeThroughSummation: forall_{i in Naturals, j in Naturals, k in Naturals} [forall_{P, S} ([forall_{b_{1}, ..b_{_a}.., b_{j} in S} (P(b_{1}, ..b_{_a}.., b_{j}) in Complexes)] => [forall_{a_{1} in Complexes, ..a_{_a} in Complexes.., a_{i} in Complexes, c_{1} in Complexes, ..c_{_a} in Complexes.., c_{k} in Complexes} ((a_{1} * ..a_{_a}.. * a_{i} * [Sum_{b_{1}, ..b_{_a}.., b_{j} in S} P(b_{1}, ..b_{_a}.., b_{j})] * c_{1} * ..c_{_a}.. * c_{k}) =  \\\\ [Sum_{b_{1}, ..b_{_a}.., b_{j} in S} (a_{1} * ..a_{_a}.. * a_{i} * P(b_{1}, ..b_{_a}.., b_{j}) * c_{1} * ..c_{_a}.. * c_{k})])])]"
      ]
     },
     "execution_count": 2,
     "metadata": {},
     "output_type": "execute_result"
    }
   ],
   "source": [
    "%proving distributeThroughSummation presuming []"
   ]
  },
  {
   "cell_type": "code",
   "execution_count": null,
   "metadata": {},
   "outputs": [],
   "source": []
  }
 ],
 "metadata": {
  "kernelspec": {
   "display_name": "Python 3",
   "language": "python",
   "name": "python3"
  }
 },
 "nbformat": 4,
 "nbformat_minor": 0
}
