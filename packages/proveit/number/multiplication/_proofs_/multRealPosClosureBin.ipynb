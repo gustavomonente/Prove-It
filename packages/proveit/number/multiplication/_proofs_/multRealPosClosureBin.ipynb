{
 "cells": [
  {
   "cell_type": "markdown",
   "metadata": {},
   "source": [
    "Proof of <a class=\"ProveItLink\" href=\"../../../_context_.ipynb\">proveit</a>.<a class=\"ProveItLink\" href=\"../../_context_.ipynb\">number</a>.<a class=\"ProveItLink\" href=\"../_context_.ipynb\">multiplication</a>.<a class=\"ProveItLink\" href=\"../_theorems_.ipynb#multRealPosClosureBin\">multRealPosClosureBin</a> theorem\n",
    "========"
   ]
  },
  {
   "cell_type": "code",
   "execution_count": 1,
   "metadata": {},
   "outputs": [],
   "source": [
    "import proveit\n",
    "context = proveit.Context('..') # the theorem's context is in the parent directory"
   ]
  },
  {
   "cell_type": "code",
   "execution_count": 2,
   "metadata": {},
   "outputs": [
    {
     "name": "stdout",
     "output_type": "stream",
     "text": [
      "Beginning proof of multRealPosClosureBin\n",
      "Recorded 'presuming' information\n",
      "Presuming previous theorems (applied transitively).\n"
     ]
    },
    {
     "data": {
      "text/html": [
       "<strong id=\"multRealPosClosureBin\">multRealPosClosureBin:</strong> <a class=\"ProveItLink\" href=\"../__pv_it/6a05e7742d9d626a3608bf9766cfa44312893ed50/expr.ipynb\"><img src=\"data:image/png;base64,iVBORw0KGgoAAAANSUhEUgAAAOkAAAAbBAMAAABrQ7XCAAAAMFBMVEX///8QEBCIiIhmZma6urrM\n",
       "zMxUVFQiIiJERETc3Nzu7u6qqqp2dnaYmJgyMjIAAAAcRTyBAAAAAXRSTlMAQObYZgAAA6dJREFU\n",
       "SMfVlmtIU1EcwP/t5XZ3p30ILIS4KpREwWhlSWmDoL70WBBWEOxi7yIwrdbDD8PCrooxCkqC8NZA\n",
       "wnzRAxGCBqsPzYpFQSIly7IPVkuioLaS/ufe7b68TpwfogP37H//d+f8zvm/zgH439r2GY9g8THM\n",
       "DmpmZzzEj4+JnRU1l8+KCs9mRV1OuuuT9fZAZmoOrjZGhLdZQG0J7Ci/WnkrH7tDap3jGDfxrkWm\n",
       "GpwAA0QYy4JKO4mVtft6j0+31hUUa25pAks8vjD+BZc7DtBKlu3PgjqnF7uXWm2SrIdR66y2EPiv\n",
       "SHuFs2JM0L1ZUNtIMJ3WKE2C2eeKL4M+XyxNLcuVqavR6pGOjqvZBNMLYqRqrdkFxQdB3rlEsdcy\n",
       "q0wtxOcnx9XpeE0fFZLFilRgwOVwoZRDuVXFaLcwEakxpYXZDTJ1K/59H0Dj5OmN+lSnLHJkviga\n",
       "dQF8lZQ9Y9QvgGEiWgIKqr12TKZ6PQDrgYpNSd0Sm5L6kaQebuxGlDgKQNjvQx6+AfQJLEU05fs+\n",
       "CZK4kDY3jgRDVDFvX8meEZlKpzD2moYKRk2tJXGM49fxUEMMOiGanfqNmyHitji2VDQ9cjYpED04\n",
       "io7mpF+pB66ogYYIQ7tWudYIfiLRfTtcDkyIvglhV62rV5mZhDofqB/k/aSoNCVT1FZl5qzYqYx+\n",
       "HGWLVaZfB/s7AKlDUWmveWgTR/M1HqmOLvVeG0QL497s45LyDxgxdzYK+aykWrsUOewlhm7ci11w\n",
       "0SiYyJyEGpKo3qLD6HhsSO1UUw+K0UQlwRLrTyu/EzeL0WRkFFQzu1IeSWIY7mKOUSfMCRASGaku\n",
       "p0RdzBeLlZoJGV1qamHK7fXwmpUS6iicw35tugRJFREGLB5VpkMeLsroNFdDUKAa9x+Xo6kehimB\n",
       "xJQecKupZMUmXHB70a4qd1oZXEoic1SQ28/zUvX3WC8mpZFCyDt4UlQNLOzgOI4x0JdekSNb/MM8\n",
       "KDWf4rh6YJ4sI1N7FHXYrVMRxaBMVaxNF3wxve8jUjAHrEO8RbSwfbd8XCegQLh2oIXvRzQZHdKr\n",
       "/qBT/bWLSkgLD3g3A+0R/RpJucnWBGccfngsUulOzQWG1Hir3gnenbmAO6QrjKnqTjlAM6kSz0PB\n",
       "itS8BVD5FGfGFLXXfaZcGnMd0TnVhdaYmZrjUb8b0K+qu4j4U4J+nWpLOjcYRyAz9c00h1l/xq92\n",
       "Z1bXrWmvENHMn+9lRTXy8I/aX5pt7OgJ9jPGAAAAAElFTkSuQmCC\n",
       "\" style=\"display:inline;vertical-align:middle;\" /></a><br>(see <a class=\"ProveItLink\" href=\"../__pv_it/6a05e7742d9d626a3608bf9766cfa44312893ed50/dependencies.ipynb\">dependencies</a>)<br>"
      ],
      "text/plain": [
       "multRealPosClosureBin: forall_{a in RealsPos, b in RealsPos} ((a * b) in RealsPos)"
      ]
     },
     "execution_count": 2,
     "metadata": {},
     "output_type": "execute_result"
    }
   ],
   "source": [
    "%proving multRealPosClosureBin presuming []"
   ]
  },
  {
   "cell_type": "code",
   "execution_count": null,
   "metadata": {},
   "outputs": [],
   "source": []
  }
 ],
 "metadata": {
  "kernelspec": {
   "display_name": "Python 3",
   "language": "python",
   "name": "python3"
  }
 },
 "nbformat": 4,
 "nbformat_minor": 0
}
