{
 "cells": [
  {
   "cell_type": "markdown",
   "metadata": {},
   "source": [
    "Proof of <a class=\"ProveItLink\" href=\"../../../_context_.ipynb\">proveit</a>.<a class=\"ProveItLink\" href=\"../../_context_.ipynb\">number</a>.<a class=\"ProveItLink\" href=\"../_context_.ipynb\">multiplication</a>.<a class=\"ProveItLink\" href=\"../_theorems_.ipynb#multZeroRight\">multZeroRight</a> theorem\n",
    "========"
   ]
  },
  {
   "cell_type": "code",
   "execution_count": 1,
   "metadata": {},
   "outputs": [],
   "source": [
    "import proveit\n",
    "context = proveit.Context('..') # the theorem's context is in the parent directory"
   ]
  },
  {
   "cell_type": "code",
   "execution_count": 2,
   "metadata": {},
   "outputs": [
    {
     "name": "stdout",
     "output_type": "stream",
     "text": [
      "Beginning proof of multZeroRight\n",
      "Recorded 'presuming' information\n",
      "Presuming previous theorems (applied transitively).\n"
     ]
    },
    {
     "data": {
      "text/html": [
       "<strong id=\"multZeroRight\">multZeroRight:</strong> <a class=\"ProveItLink\" href=\"../__pv_it/c393d43f9bcb8b2510ba76d3311dbcd6d6a0107a0/expr.ipynb\"><img src=\"data:image/png;base64,iVBORw0KGgoAAAANSUhEUgAAAJ8AAAAUBAMAAABhQvLIAAAAMFBMVEX///8QEBCIiIhmZma6urrM\n",
       "zMxUVFQiIiJERETc3Nzu7u6qqqp2dnaYmJgyMjIAAAAcRTyBAAAAAXRSTlMAQObYZgAAAglJREFU\n",
       "OMuNlU9oE0EUxj/SbLeZ7G4v7T1YyEloQbwpFKR47F6qvUWK4k1Kb2IPnsoGFXsQKljpNoUqQXCh\n",
       "eIgEEuItQojQQ1sqLhQKLVoKgqh4cF5nk/2TmbQPPpj5zcxj35s3b4F+lmkL9VhFvp+wT4OvCodv\n",
       "A8WssW9jcBkq/JkmxwqHR4GiZnnsIZgPFX5JkT2W+zMnhGL2BWjx74EKWy5geHKH+rJQzJaAmot1\n",
       "qLDZLJdXFBGvBIrZL2DagzWpxL8dZ1HhcCxQKf/ici5g7Cc/mYORyEQE3wOKCofPhFjdXNA7t5D5\n",
       "BxRyMM/mrROygzi+kbiy7NP7c8HwkZDhGn/TlEpGJ/mnFOrIzicqNsQ6Up3SZdUrbTbrat+D+YgQ\n",
       "w5Aog/d+NzbtVBoyYaOtd+hOpQxzFajGHQLDIoP6HZH9mtfjMIIz/i2q86t5O02JnvrAUTxkHowd\n",
       "nnSAby7S82EODxO4eBdIuQ/0SYsW9nZ7LiXrjvMN8Qo2fWlhn+Et7lXDD2CDFj5G3v0noWnvOV6H\n",
       "1e6xUWCgnnwEIRYJ+gPcdhwn92om3HRTaPNS6XrYclgjzxNg2QmHEWxSNNqphkFaGCiJ8lA+PWFv\n",
       "0B+vGb4Bg9xnrtndly9tDkGzQn+8ud1oAk9o+O5kqRtOEYpn1Nu+pDjFc3h+gyUbkidCgS/wC9iV\n",
       "7+f4P15yr3d25BTNAAAAAElFTkSuQmCC\n",
       "\" style=\"display:inline;vertical-align:middle;\" /></a><br>(see <a class=\"ProveItLink\" href=\"../__pv_it/c393d43f9bcb8b2510ba76d3311dbcd6d6a0107a0/dependencies.ipynb\">dependencies</a>)<br>"
      ],
      "text/plain": [
       "multZeroRight: forall_{x in Complexes} ((x * 0) = 0)"
      ]
     },
     "execution_count": 2,
     "metadata": {},
     "output_type": "execute_result"
    }
   ],
   "source": [
    "%proving multZeroRight presuming []"
   ]
  },
  {
   "cell_type": "code",
   "execution_count": null,
   "metadata": {},
   "outputs": [],
   "source": []
  }
 ],
 "metadata": {
  "kernelspec": {
   "display_name": "Python 3",
   "language": "python",
   "name": "python3"
  }
 },
 "nbformat": 4,
 "nbformat_minor": 0
}
