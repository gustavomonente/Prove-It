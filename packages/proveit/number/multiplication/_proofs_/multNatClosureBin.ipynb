{
 "cells": [
  {
   "cell_type": "markdown",
   "metadata": {},
   "source": [
    "Proof of <a class=\"ProveItLink\" href=\"../../../_context_.ipynb\">proveit</a>.<a class=\"ProveItLink\" href=\"../../_context_.ipynb\">number</a>.<a class=\"ProveItLink\" href=\"../_context_.ipynb\">multiplication</a>.<a class=\"ProveItLink\" href=\"../_theorems_.ipynb#multNatClosureBin\">multNatClosureBin</a> theorem\n",
    "========"
   ]
  },
  {
   "cell_type": "code",
   "execution_count": 1,
   "metadata": {},
   "outputs": [],
   "source": [
    "import proveit\n",
    "context = proveit.Context('..') # the theorem's context is in the parent directory"
   ]
  },
  {
   "cell_type": "code",
   "execution_count": 2,
   "metadata": {},
   "outputs": [
    {
     "name": "stdout",
     "output_type": "stream",
     "text": [
      "Beginning proof of multNatClosureBin\n",
      "Recorded 'presuming' information\n",
      "Presuming previous theorems (applied transitively).\n"
     ]
    },
    {
     "data": {
      "text/html": [
       "<strong id=\"multNatClosureBin\">multNatClosureBin:</strong> <a class=\"ProveItLink\" href=\"../__pv_it/f791b831998f6b76451c84c0f06b5edda5c311780/expr.ipynb\"><img src=\"data:image/png;base64,iVBORw0KGgoAAAANSUhEUgAAAMEAAAAVBAMAAAANw5eWAAAAMFBMVEX///8QEBCIiIhmZma6urrM\n",
       "zMxUVFQiIiJERETc3Nzu7u6qqqp2dnaYmJgyMjIAAAAcRTyBAAAAAXRSTlMAQObYZgAAAwdJREFU\n",
       "SMetVUtoE1EUPclk8plP4kJcWISx9YerUMGFthgRcaM2ukgVCx1Ki9SFBEQrKhKLYNpSCS5sEYSR\n",
       "gkpFE5SABcXYVsSqEEShFZVZqGAFaXclC/H9Mk1CUiN44M68OfNmztxz73sD/BMCeR6VmKgxn/I2\n",
       "HXyuV+GuiBIol+KAN1VOPli6auH5YoTyrykxX6/CDxGlCIaJjF1BDssmlAXGj9LcE3UK6GEeZQhl\n",
       "yGGygjwebQRWMT5oAVqmTgVfikcZ2sgbcEtczPb1sXS6B71RxBmvz4yPj9Rr0oiIMrxkVkXY+MhW\n",
       "QfbGlHmqQPmlZPJCvQpNIgItzWsd8nvjTmID805xCtqrGjGqQPkeYKDKyw7aVchhEbtTwQWnl35b\n",
       "6RR0Nn25pXoxrRtEgfJ7yhuhvSXiXoPiRwHyqWmsN8XN8zyUdZBocyiUUwsIGVDjdOzHsoLX6iEc\n",
       "5X1wF5eQ8mRbXk3MYAc1llb/3lQrHmuWZIkJq3lIBfgMMkzTT5NspHOQWU6HfhHYXEExg6SXKK/l\n",
       "fUXh2YlxqO8k5GgPkoT1oRsWnhphDeUKrgTSUdpaJl8ObRmhMFqSAzpkoRCwY4QZ2/QNHmqMeuyo\n",
       "QRU6G08QAwmy2WuOgnCJfPOz5eWQxy4LHuaSq1RBzxAnGT/QTfw5LRcQZLZGZz5Qhc1WE99Rstr9\n",
       "jopKpzM4qRaLGoqQsohKS0ZxJukfvEoI/hGRkcJyHGNcQWNF7scXhRU7i9xU8bkpHn5DP+Pk5c37\n",
       "yTwp5yTJ8JNXiPOkE+DKuE20J5NJQ40G8nFm93b5bDLZTxRuOoXax0Pp2nh9g9OtzW9pNaLs4vZl\n",
       "3hTtiwm+WTFeJ2Q65f9oeXkO2EtzLaABJs/Bc3jFXYPhjjjvv9JnV+PhSnUegMb0ItBzgUGc0xN4\n",
       "QW+9Bz6tuPMxTNbYBRze0/WwFRiiJnwFTLkBsTfEb7ImPBcj8DoPDKD6DqDY1QUqeTepAx+p/LSF\n",
       "1OFvfyAGf6q6Qi2+9l+x1l90rsb8uZqbaB7/DX8AHgDR+xIeeMUAAAAASUVORK5CYII=\n",
       "\" style=\"display:inline;vertical-align:middle;\" /></a><br>(see <a class=\"ProveItLink\" href=\"../__pv_it/f791b831998f6b76451c84c0f06b5edda5c311780/dependencies.ipynb\">dependencies</a>)<br>"
      ],
      "text/plain": [
       "multNatClosureBin: forall_{a in Naturals, b in Naturals} ((a * b) in Naturals)"
      ]
     },
     "execution_count": 2,
     "metadata": {},
     "output_type": "execute_result"
    }
   ],
   "source": [
    "%proving multNatClosureBin presuming []"
   ]
  },
  {
   "cell_type": "code",
   "execution_count": null,
   "metadata": {},
   "outputs": [],
   "source": []
  }
 ],
 "metadata": {
  "kernelspec": {
   "display_name": "Python 3",
   "language": "python",
   "name": "python3"
  }
 },
 "nbformat": 4,
 "nbformat_minor": 0
}
