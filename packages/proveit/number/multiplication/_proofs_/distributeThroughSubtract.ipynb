{
 "cells": [
  {
   "cell_type": "markdown",
   "metadata": {},
   "source": [
    "Proof of <a class=\"ProveItLink\" href=\"../../../_context_.ipynb\">proveit</a>.<a class=\"ProveItLink\" href=\"../../_context_.ipynb\">number</a>.<a class=\"ProveItLink\" href=\"../_context_.ipynb\">multiplication</a>.<a class=\"ProveItLink\" href=\"../_theorems_.ipynb#distributeThroughSubtract\">distributeThroughSubtract</a> theorem\n",
    "========"
   ]
  },
  {
   "cell_type": "code",
   "execution_count": 1,
   "metadata": {},
   "outputs": [],
   "source": [
    "import proveit\n",
    "context = proveit.Context('..') # the theorem's context is in the parent directory"
   ]
  },
  {
   "cell_type": "code",
   "execution_count": 2,
   "metadata": {},
   "outputs": [
    {
     "name": "stdout",
     "output_type": "stream",
     "text": [
      "Beginning proof of distributeThroughSubtract\n",
      "Recorded 'presuming' information\n",
      "Presuming previous theorems (applied transitively).\n"
     ]
    },
    {
     "data": {
      "text/html": [
       "<strong id=\"distributeThroughSubtract\">distributeThroughSubtract:</strong> <a class=\"ProveItLink\" href=\"../__pv_it/f520ea843cfabf6890667514638ece1714a4f3af0/expr.ipynb\"><img src=\"data:image/png;base64,iVBORw0KGgoAAAANSUhEUgAAA8oAAAAyBAMAAAB2aD/uAAAAMFBMVEX///8QEBCIiIhmZma6urrM\n",
       "zMxUVFQiIiJERETc3Nzu7u6qqqp2dnaYmJgyMjIAAAAcRTyBAAAAAXRSTlMAQObYZgAAC/RJREFU\n",
       "eNrtXH+QE1cd/16SzY9NcmEcBKHqBE5PptYhwihOgZLSqTf9o1zQsZSp492c7Tg4iLEdUegPrzjT\n",
       "pj/QKLYFFFkOC3K0JK3eXK9TJXKWjkBLxtZpy2CbGaCjVfGkpVNyrfh+bPa9t7vJbrIrzezcdy6X\n",
       "zXvf7zcv7/N+fN97n10A+9Jx8WIJ2ldiaZgSTuR++n784n+aMesY26a08a86NgWsKCvo275tTzSF\n",
       "cqadf5OvfwpXUeIV9WKld1B+wpH1jlYNI+V6OdF8iy7H3KqSBz2HsjzdkfVgq5a/rp+1htOaaaMM\n",
       "d2fpRTDvUp3sSnsN5XDKiXVnyxX79/pZB7jrU3YKof4EueJSnUSneQ3lg44CwxdbnvsaNK5Ykl1P\n",
       "2vCVKKoXh9yqlDu8hvJtjqw3tGoYajAIyNO0y0DVhq/eWkPd5VrTz3sL5fgFJ9aRbKuWjzTKPM26\n",
       "tZ0veE4but1a+YdS3kI5NOjE2odrY8v4HOtRX6/UhV5D3T+7IiloDS2AyGyAcTblDnQVLX2/MXex\n",
       "2iZSbrX9qrdQ7nPU/MNoORSYBf8GkBq3FqrkYyhsRgNzKX5rSAyYSleDbwLgNS2h8KZ8wcq3/F+l\n",
       "gEbYM7WF7gtnsZxy8rvkc95C+bPORgLU0XaV4QsgLaRDq0mnlsmMiZVAyms6t6Oep8SqAWF6jhSv\n",
       "gjCCdFSzQ7HhOSvf0Sok0JCAihLNulUtZ72F8gxH1h1oJFimwK2os2ZptzLqFHAHo0rAdKZjiMK0\n",
       "kx4gne8MTvkQAaxPs7sK5PesfPsrUCiRj9KEW9UyP+8llKX3HaP8EZDP11CG9Sb9vR9qSsB0yF5M\n",
       "Iqkf2KvQl1FRJnanIDBp5Rstl3uLLqO8s+wllH2OQmw8YqO+Fp3QUK43zxGlQDdLuZ0EBfqKQd1y\n",
       "Dnrr0RLeB3/VwjckymiokHGURhXpvPyGs+bb7yWUw9OcmZdBnoRgZcwKZaIUSyh89BVV5oNPnGzD\n",
       "/XAP8NHX23hGt0I5LX8M/IEKd8zgvF6yXkK5w9FCiixdNsHL/SUeCTKB4hmTm0mJ0vZRZokWS73F\n",
       "H+sPO/z9ATyFLNESvgU/FMcJzW9BQzRYDqdgXwz1Pn/JrXqJTVCUyZf81S7KnWQVVm47lAvOVpi4\n",
       "/vfMXT2QFpBYX5sx2UxKlTYxnR6cNrRUVyPyQBeeQs5oCbuvKIsoa37JBTVa8Ly6qOt0rTvFz1OU\n",
       "j+K3N+2iHMPhQafSdij3JZ3Zb+DxtlyFVhkK9XY4/bivZo1tyVISyOFe96LScxTlrXh9N2gXZaK5\n",
       "tf1G7INFZ/baaYWdpWq0wkZU89OKdVBIi6cVdn2TOdS10wqQ36I+cceMFe2iTHr90fZD+XWHY1xY\n",
       "7ZKRRe9YjwryWq4D32emcScZ1A+IibZ8wzwXTx6RvENRjh8ZHn7EfvR1cnh4X7b9UJ7v8ODdZRbB\n",
       "8q5MvQZgJZtYk3ND3lXHh3dzuTvso5zI5e4ttR/Kx52GCv8HRlC8BbCC180GeNXFivm4ivItpNH5\n",
       "9POLSZyHUQ5mXG1qOlnReKwKnK2Xs6z9AsKWJHjY5cqdqaJ8DZkH6AY8SLf9EeaQ2D5KtVYtSftm\n",
       "cCgHUvrpBslTh9c3mnEM2dEHvzEAZinikZtRbbxe9rdhSkzlOyrKIfCpg87+8aXwVEzx1/qF/MzC\n",
       "cnTwCFzJ74pk4TO8F2zz6P3wtTqjuCEb+5RvVKR/gllKZ7GuGpF/1MueQtkC5Vg5pM4jD2xX4HfJ\n",
       "VKym8crYMET/7IcSj/LzwAdfxObVEkTNUTZmY5/xXwA8A2YpiXxdNSIX6mV7ZcR2Xb6nohyp3ABk\n",
       "A/4anDAy8lOC8tBiPDijYfGm1UkB5V9K/XibZh2dtrFN4CZ0LU4nu7vPGLMPfa47Q3xeO4K+FUei\n",
       "/bARhJS+ud+kEzCfyK/xuxXz7OP5KUAbRl9w382oQycUutc5Env8q/g9tYLuZkYzR/4ioBx+GK33\n",
       "92b6FAiiGsc28cf1VSx/V6qSPD7bp6wLpYnPE2oQWapK00BI+ZTSRdwKiUx8G1GQGMybZM/P6OLl\n",
       "HZe8Pk1I9pe+EGOgI+3PqKH8GzQEbx8FmUQ+I1DCIY6cPwy7KcoxLSQiKEcXoX8LYRVIf1CoTXS/\n",
       "/vf5U1IWcyKEbAn+BdTn07QckV9lfYNCClosvobdionc3kWSntYYs19Pi2vf1te/Qmu9O9uEzhr3\n",
       "FuHCgnxmEzqYsC+Q9t+qoUzOwDeB9P1cbhNCeQedpjfDqlwul4xmIuUsjzLgndHLAI3wIYXaREb0\n",
       "i66OIr1pSZeNZlXi8+dfURtDKZgUU6bD57FbMZHzm/YTv8bsgxzKmEHf6c4I3plqQsew9nCpEKea\n",
       "0MHLJX7rTH6vhnJcoRvw/bQvB76kQhKkfRmuTQoon0DaF2DzMIGD2FyZ1JGZCvnwCeXJpC5bmpCo\n",
       "T/8QZTqF0sijkFJF7Qe7FRKZJJSOYvykWXYftzfxIjhg0YuSKDaho9+2dqsQk83oHAJhG7x2WqFO\n",
       "KpUSPIsvXgI4CVtRL50GMQxqPA1xYV4mMkt6u0zgIDZbnkW/cKsSuR/Ufx35vuvhtykxe2esEqM+\n",
       "I0sycAgphjK9IKZsjA8St0Ki6hT9hZRX4KG9fLZW1Vyn2wAOWPSi9CpN6Mh6JoM7hbBD2Gc6u0Ag\n",
       "7UcneZTxBnwYc1HuSqOesrIIaMaEB1BGz2m1Rwoof/HTXRRlbAPyC3+7BdlIs2BlHv8rBgaeXIp3\n",
       "yYTsPS8dOkJ9wmNn78lIl0Fg4EcgptxwjEwEYiJ1msffsLZE43Ytu1agEBulMIM+4tJW+3NN6ZzW\n",
       "7X26Uwg7hH2mgwn7HGk/doFHmci8XO14vIgCHRTSotlPv8PJCYGDtwHham/ALJv5jMI+zKcRUjS3\n",
       "+kTOxVEwlgz8jA+H92rJfm1kyYLZ1tvQOiV57prlbMTTePANhOmM61YEtqn8+kKopH0VNxuEfaaD\n",
       "Q2VuBzE4YUCZWxTc/BOTsokoS/MXmy8k1Kvg5Y3XGWOwNlAxLAP0brl1gerClPEQZ8MaJlvgF1yd\n",
       "70S/8cbG9UOVurTPj8HLybs0yAkPvrEHxpXnaF5aQWxR+Q2FUEn7apBjg7BPdMjRA16EcLQxypQy\n",
       "RzkOa9eAFcoGG+OVaXZNynD9MX2KiZRFF5FtFTMtiYUomEGPX5gqNwhfXkQSzfoTTqNKsFrTOQLH\n",
       "leuA58GrHuQ6HhhXHkbFXNtUfn0haqR9asAR9s3KoJH66bCHmQocW2Fnsj7KdaQd2H3xcfPlyQxu\n",
       "uUVf/iqEkipb1ozpTtJUJaajQI72DtyYKA++hyWYedC48oR+LRN67dkMNEHl1xeiRtqnBhxh36QM\n",
       "HKmfNvcJgc7tLdY9LDOgjAarQqbGiTZhupM0VYnXobcWcTz4HpZg4oFx5SnJHoSC2KLyGwqhkvbp\n",
       "B46wb1YGRuo3Q/le8BTKvWn9iI162EHgme+mExpRWs7VnnSeWwpjHryFB8aV1yvapfIbC6GS9qnY\n",
       "IewTnSEc0GBFTtljd8OFUvroq1CEdShgs0CZKJVY7PY0Cnu0sJHw4K1Q1rjyJtGXLSq/sRAqaZ+K\n",
       "HcI+0UnhJz+J0ZfPY3e2siC7tpYIJ+PrYwJGJkx3ohTZr9VhYDI8wTg+hAdv4YFx5TmSvVYQA5Xf\n",
       "TiFAJe1T0RP2zW4GwDr46IES9hlpn95A46EnTnxUA0ods+SBTz78CQEjM6Y7UQon2efLu9gtCJQH\n",
       "b+FB48pzJHutIEYqv41C1Ej7VAyEfZObAYgO2X3AqylG5vLaEye4p8eIO5w9NmwLjzbKteMB0x/0\n",
       "JPvmqPxiIfwVY4uxFNwy9gJP2lcPMbyDMjs+Ek8rRm3Y/j7WKNeOB1yP9U8rbNHtuUJQ0r6wqWTD\n",
       "g4T30YXTiuhsr6Ec+bA2zeU5SvOWHwxY2+75U4NMWx7mgcnJY1NUfr4Qd/J3Ytn2gI8exJNH7z3V\n",
       "jXU591gE9gWjYiDZt1wIStpvVvDELrRw+Dp4DmW/Fs1cckYQ4crHP2BGEDl6wCwpjSkVH2wJ5fZ+\n",
       "cvLAB/bNrnPlWxHj0UOLT05u76eg+9MwJfyEQfmw+Cno/wOOMgg87Q+PCQAAAABJRU5ErkJggg==\n",
       "\" style=\"display:inline;vertical-align:middle;\" /></a><br>(see <a class=\"ProveItLink\" href=\"../__pv_it/f520ea843cfabf6890667514638ece1714a4f3af0/dependencies.ipynb\">dependencies</a>)<br>"
      ],
      "text/plain": [
       "distributeThroughSubtract: forall_{i in Naturals, j in Naturals} [forall_{a_{1} in Complexes, ..a_{_a} in Complexes.., a_{i} in Complexes, x in Complexes, y in Complexes, b_{1} in Complexes, ..b_{_a} in Complexes.., b_{j} in Complexes} ((a_{1} * ..a_{_a}.. * a_{i} * (x - y) * b_{1} * ..b_{_a}.. * b_{j}) =  \\\\ ((a_{1} * ..a_{_a}.. * a_{i} * x * b_{1} * ..b_{_a}.. * b_{j}) - (a_{1} * ..a_{_a}.. * a_{i} * y * b_{1} * ..b_{_a}.. * b_{j})))]"
      ]
     },
     "execution_count": 2,
     "metadata": {},
     "output_type": "execute_result"
    }
   ],
   "source": [
    "%proving distributeThroughSubtract presuming []"
   ]
  },
  {
   "cell_type": "code",
   "execution_count": null,
   "metadata": {},
   "outputs": [],
   "source": []
  }
 ],
 "metadata": {
  "kernelspec": {
   "display_name": "Python 3",
   "language": "python",
   "name": "python3"
  }
 },
 "nbformat": 4,
 "nbformat_minor": 0
}
