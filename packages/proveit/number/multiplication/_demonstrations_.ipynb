{
 "cells": [
  {
   "cell_type": "markdown",
   "metadata": {},
   "source": [
    "Demonstrations for context <a class=\"ProveItLink\" href=\"_context_.ipynb\">proveit.number.multiplication</a>\n",
    "========"
   ]
  },
  {
   "cell_type": "code",
   "execution_count": 1,
   "metadata": {},
   "outputs": [],
   "source": [
    "import proveit\n",
    "from proveit.logic import InSet, NotEquals, Equals\n",
    "from proveit.number import (four, Add, subtract, Mult, Sum, frac, Integers, Interval, num, \n",
    "                            Complexes, Naturals, NaturalsPos, Reals, RealsPos)\n",
    "from proveit._common_ import a, b, c, d,e, k, w, x, y, z\n",
    "%begin demonstrations"
   ]
  },
  {
   "cell_type": "code",
   "execution_count": 2,
   "metadata": {},
   "outputs": [
    {
     "data": {
      "text/html": [
       "<span style=\"font-size:20px;\"><a class=\"ProveItLink\" href=\"__pv_it/814ad3b887777c33126b530621b71f90ad99ce800/expr.ipynb\"><img src=\"data:image/png;base64,iVBORw0KGgoAAAANSUhEUgAAAEUAAAAVBAMAAADiLT7tAAAAMFBMVEX///+IiIi6urrc3NxERETM\n",
       "zMwQEBCqqqpUVFQiIiJ2dnYyMjLu7u5mZmaYmJgAAABN0h6tAAAAAXRSTlMAQObYZgAAAS9JREFU\n",
       "KM9jYGDgu8eAE7BePACieHYx4AFMqSCS7wN2WenZ36ZcYGC4DWJzTcCqJPQ7w9l/QDUrcavh4xBg\n",
       "YHiPXQ2f58zZIPopG9CxHFjVsDoegDAumIC8I4CsxnatGFjyNFQJT0MsVNcyEMGxAejDZIb9YJFm\n",
       "qAzzAkUo6z2IKAtgYDj2gOEKWMQBpuYCTA030E0hk4GM+wcYJoKdk70bCEB2OUTBnNgJdJQa0JwU\n",
       "Bp6vYO0wcxj2cMDMaQC5x4GB5xcDOyS0E2Bq3oLVHIC6B+gvnu9AlxeDOBdhaliEgFYwbYD6C+R3\n",
       "R4aXDQtAHM4CmKLbXgeOuxxACp8TgsGNCuBwadGBhebt/LlAl2KLC6YlkLiAA4iaBHzpB6IGV/qB\n",
       "uQtM4k+HSWCKnVB6BgCXzVVZM2wCaAAAAABJRU5ErkJggg==\n",
       "\" style=\"display:inline;vertical-align:middle;\" /></a> <a class=\"ProveItLink\" href=\"__pv_it/a71cd896f039351295dcca669e4ccf1b575c82730/proof.ipynb\" style=\"text-decoration: none\">&#x22A2;&nbsp;</a><a class=\"ProveItLink\" href=\"__pv_it/8f3488c70144eb7461cedbb6e608719f2e0c92cc0/expr.ipynb\"><img src=\"data:image/png;base64,iVBORw0KGgoAAAANSUhEUgAAANQAAAAUBAMAAAAHGA6fAAAAMFBMVEX///9UVFTMzMx2dna6uroQ\n",
       "EBCqqqqIiIgiIiJmZmYyMjJERETu7u6YmJjc3NwAAAC+aOQFAAAAAXRSTlMAQObYZgAAAelJREFU\n",
       "SMetVT1Iw0AUfqLWVNPSrSAoXV20a3VxERwVnPxDJ520iCJu7aCuQodSHKziIDfUbk4NFRHBCuko\n",
       "TnGrgyCKToK+S+9yyV1aCukbctfvvvu+vpfLO4BoHZQIWSrmx+s8bMUanY1JK6MquQaBgiqW6CQr\n",
       "LTyq3FIwK1SMnOA4MC8t9KZlqs1zYkOtULo9gooaLeL7uUTT5+SNmhXMChUbdEzKVnApAw0IZoWK\n",
       "B7Q4lsvqLbVXBUjJGykvmssve60EwoVVxFGs4PwBhFXfKlzj8GLXl9hhvyXKm7EGP7xWAuHCKuIo\n",
       "HtH6Na10+rivwykOm3JWyNNXIFz2WLkQJqwiQnEBsUTTyizi46wKxzhMyFbIC/+CRrdPEnJICN3C\n",
       "EUz/apGQmB8iFFHiDppWGl1YAv2zhVV/GcyEJysXwnJQEaGIhVkvFL7z/Ex+QYjWetb1rmKsgGYS\n",
       "tr0n0IUwYRURihX7t/MJ6z/QU9xix8IdyDPXYJh1R24lEG6lIEIxxZLkcQPPsSRATrZC3lA6ku31\n",
       "ZOVCmLCKCEW7UlN/I1zydn88Pg1wIVshT4/vvO56T6BAeA4KIhQ1y6856pmuN6aM1EY7bbdP6p+r\n",
       "tkeootGi5cthBL5E/K88o+tXo9HiIo90/cJHxX+rALJYZJqBjgAAAABJRU5ErkJggg==\n",
       "\" style=\"display:inline;vertical-align:middle;\" /></a></span>"
      ],
      "text/plain": [
       "{a in Complexes} |- (4 * a) = (a + a + a + a)"
      ]
     },
     "execution_count": 2,
     "metadata": {},
     "output_type": "execute_result"
    }
   ],
   "source": [
    "Mult(four, a).conversionToAddition(assumptions=[InSet(a, Complexes)])"
   ]
  },
  {
   "cell_type": "code",
   "execution_count": 3,
   "metadata": {},
   "outputs": [
    {
     "data": {
      "text/html": [
       "<strong id=\"complex_assumptions\">complex_assumptions:</strong> <a class=\"ProveItLink\" href=\"__pv_it/3120f1fdeaefd469448704dfce7aed3af22e2f540/expr.ipynb\"><img src=\"data:image/png;base64,iVBORw0KGgoAAAANSUhEUgAAASwAAAAUBAMAAADFDR0yAAAAMFBMVEX///9UVFTMzMx2dna6uroQ\n",
       "EBCqqqqIiIgiIiJmZmYyMjJERETu7u6YmJjc3NwAAAC+aOQFAAAAAXRSTlMAQObYZgAAAwtJREFU\n",
       "SMfNlk1oE0EYhr9N0jY/k01OBhVKUTwUweytihYKIhYR2oOIf9UcBUVDKYSKh4hQYvUQLVjopVEU\n",
       "RIsGVFr/twctaQ9ZvGir4ooXpZeCGrS04MzO7mQm2UnanjqH2W/mmffd2ZkvMwFQDVhnpdHE1Ywr\n",
       "arr36MgzK0JP01X0wuCfq1mZqwC3H12N1KbNOHrohj3xBBqdpXGwymVLCQrLMu8KWFqF1KHTAGHX\n",
       "MUYMk380jiQqYFhJAnyVeFdA39LKpYx6k+A3+f6JzKD1bDmB6420s0u36adMJkee7xtwj1LhLYHe\n",
       "tGDsKq3Som74wW/duD2DgJrH9RRt7HTS5KIdZOdJyiUFZxmkGcCM3aQu2jvQjyN1aJisDkw76zLp\n",
       "4T7oVuqmlfpjdhtFWzlPb6pXDn+2xRO8sUhRW7/prt0Fr3C9zwwukFazI/juK38QWtSLRK04u61q\n",
       "+8vW6gA8l0LfSXij88YChU5T1dy1czCAX9wDAbJpkGdfyU2rcQkipBViM8ly3n4NNkjhWwNGgDcW\n",
       "KDoMhRZ37Wk4hDNpCfzkxZ5j93Eh3TMejakDOSiS1jYCSWai/Nay9yjdHim8DLyxQJWe1GeJNk6m\n",
       "1ZCHIpm2ylYrqEeBS9oukiDzrGdMKXsfpw8ZRL9BMOZpJCrVxskm4sU4b7W62UGRJRJE1QZdkgam\n",
       "nrXU1jKhX7RLBhsXRGOOQkSTajtJyhcTsMm6h4bZgHGyyweougPnHtlMlm6hPhz6rJMGlnHyySAq\n",
       "gZI7B7wxL8VpCUl37Rz+LUIoGb7ktQay8zzwYA868xKKeIhihOhpMcAmPfJYf/dCR4s4vA7ohhSO\n",
       "w8eoJhpztCkHBdNNCzCE1wtQrPdbn/V5mw86A1rv/sWv81/DncPt9mH2xDnWPCOnruBkzOC2t/2D\n",
       "HE6mdsQ6RGOOQv8Xw10Lt8XLx7eb3hGsnOUbeyfoHcGODn2lsMpYpJValJZc1U7RakHvmmE9ilPs\n",
       "dQ1eeXuJZWrNsA6dlv4NtA+KmmpjzbAOJSu1/v40h034D/TBL0y140FiAAAAAElFTkSuQmCC\n",
       "\" style=\"display:inline;vertical-align:middle;\" /></a><br>"
      ],
      "text/plain": [
       "complex_assumptions: (a in Complexes, b in Complexes, c in Complexes, d in Complexes, e in Complexes)"
      ]
     },
     "execution_count": 3,
     "metadata": {},
     "output_type": "execute_result"
    }
   ],
   "source": [
    "complex_assumptions = \\\n",
    "    [InSet(a, Complexes), InSet(b, Complexes), InSet(c, Complexes), InSet(d, Complexes), InSet(e, Complexes)]"
   ]
  },
  {
   "cell_type": "code",
   "execution_count": 4,
   "metadata": {},
   "outputs": [
    {
     "data": {
      "text/html": [
       "<span style=\"font-size:20px;\"><a class=\"ProveItLink\" href=\"__pv_it/1fd12b647b8f01c61d99cce0910a64c05073a7a60/expr.ipynb\"><img src=\"data:image/png;base64,iVBORw0KGgoAAAANSUhEUgAAATMAAAAVBAMAAADY9BTyAAAAMFBMVEX///+IiIi6urrc3NxERETM\n",
       "zMwQEBCqqqpUVFQiIiJ2dnYyMjLu7u5mZmaYmJgAAABN0h6tAAAAAXRSTlMAQObYZgAAAxlJREFU\n",
       "SMfNl0toE0EYx79uknaTTF6FnrRQLwUf0Bx6EEFIRYT6wIDVg1BafCCi1oDiSTBBQUSEgkKNVdiC\n",
       "FApSehDxUXALogUpSQ6iWLAR6kGwtngwaGtxvp3dyWwykz5O3cPszPz2/8+3M99+uwGA8BfYaIev\n",
       "YOKJvISNd2insQ0vyGndi9dnD1k9sq+/im4a/H0vrzJ2wa4La5E6dBr7gX75mvakyMwc6wernI6W\n",
       "YGpZ5V8BS2uQcjpSI7Rihi7oP9aPpCpgWI8CzCv8K6C2tHppmUpCC3dmB61z8jxt77DJNtOms9ns\n",
       "GJ6/1dMZvcJfAW1/x1gqrdZWh+brsKMIeRK0nWCDESdtNtudfDumYNTlroIsG7ixTCrRlkPzfC7g\n",
       "KsF7Z30mfcKNPY99tB6HcXtM0t2CbyDWpIa7h3pSorGbkqHmuFw7jI2OK9kaD1oP6nVHtEsr3xhZ\n",
       "NHPooMftCY+xpWzvGYADSqidhMOmaOyisDXuMeTaeWyuJOmP90EINxAS/G6F0BqWIIIjL48mL/j7\n",
       "DbiphG+LrAxwYxclZ2AqKddiGnTdxcxaAj/+uO/cK3ogeuMzuENoDHI4OoYQ15gkjpf9Z9hWKeED\n",
       "EI1dVO+L/VBpb9F4Wmnc9QnIYfgevmpBMw1CIrdhwrTzmXG97H+KnVSQ/AKXsUgjaaU2iEinKroo\n",
       "16yZXl5E8sgIcyiypannDnOWA3vP/WVTKtiw4DYWKEQMpXbeeUJzKbjdgLlY4Bd14K5vZw4tNBdx\n",
       "Y3n6eRtpV7MqESzTZFRBUqJP2SUQjUUpTVOIyrXDTmjeaPh+wLqY1/3Q0yfk8kHI0cv0opdVkgEe\n",
       "+PR+891ekyzS7icgH5SwA76nDbexQOvGYCou0wp1jWSadjZat3ljh3NR97M/9Cf9D+lkYdQudnuc\n",
       "suebvviIJmeWjgOjX9VwMnYk0+I2Fig0/yzKtbIXlfaYvU/4cVUcbOtk7xNeVszVwipjN63U2qH1\n",
       "1vxyMmrBwLrhCpSFpvpes6titBadWDdcgdqFuuZXbrimQXHdcAWqnWC7vkH/G/wH2rIzFpFTY+kA\n",
       "AAAASUVORK5CYII=\n",
       "\" style=\"display:inline;vertical-align:middle;\" /></a> <a class=\"ProveItLink\" href=\"__pv_it/90a6c4bfb5353f47a0124f732f8f4f745060a5500/proof.ipynb\" style=\"text-decoration: none\">&#x22A2;&nbsp;</a><a class=\"ProveItLink\" href=\"__pv_it/2ed00062828e35b22c2c67041d9b0aed314112ec0/expr.ipynb\"><img src=\"data:image/png;base64,iVBORw0KGgoAAAANSUhEUgAAASMAAAAUBAMAAAA0Bka/AAAAMFBMVEX///9UVFTMzMx2dna6uroQ\n",
       "EBCqqqqIiIgiIiJmZmYyMjJERETu7u6YmJjc3NwAAAC+aOQFAAAAAXRSTlMAQObYZgAAAqdJREFU\n",
       "SMedls9rE0EUx1+aJtnsbn5cRPAg/Q8MeKgehFwKvdWDeLKwR0+6FCFEELYUPJZgwJ6sqXjRg+TS\n",
       "o6UghdYeNjdRjKx46UWICB4kB9+83ZmdnexmxzxI8t7mu5+ZefPmB0B9BItZOZh99hM/acAHulAS\n",
       "nief2YdelnzpsJeIr84o7GEGsBBoQkn4TtGYvcwhNJxE+HFGYGYB7YEmlAlrvfntyrZxnAiLrir4\n",
       "DFnAVV0oCo1gvkS2G8qU3FYFu5AFPNGFovAiRyLbGyV+rcR1VobpQLOtCUVhl6H6e/fEs4POcymN\n",
       "nRXRXn/rT5yg1S4m46ZCr7A5SwcWe/nQD519Er5Hfy0wJ6Kxv8e+SP2FY4m6XAusqXh7Pai3AL5Q\n",
       "Rb0lY01abPmnA2txfWdBl3fhBzDhU3xpE6ps9QKb9PIUGm7kww4UnMhnogEX2XfhDEd6X8mSwcQS\n",
       "0AYBLHs8jqDkcygFJ479DJjwDkB1CoZL48EvlPgt7k+jcYa+0eJBYbPzFX+uKV0qsYKRgP5AAJcm\n",
       "Ig6h3CcoBZc+PcHhohAJpSH4NLvb4S6y4UR+aRg2Ffl+mweNJj3P6hIHGk0BpC5RHEG5T1AKfoVb\n",
       "54TlGQfxMN5FRvCSbwMsXRD7kij8Y12qpaY0cSnAZQ/yoL/DivJYNfoOXBEHVqONExzTgG+cCRHL\n",
       "thuVt2S8vFOAcXlnQndwyZIQF7Ll1raL4pAZWWK9VptUxWFzsqgygDMk9ZUu0UpPB1ZbudDHYO+T\n",
       "EJNvX976/kis2b1bcRvXx+LMSIigO2YJeaV0iWYnHWiu5EIrL8ah0AhgUbM9rQOF7FQXeppySuqb\n",
       "5rHLT1M9Y8Kjhbs0ezmxggzgnMtJivB84S4daV3h4r7qGAkXvujW/uOi+00XisJ/k9/0q33WWrQA\n",
       "AAAASUVORK5CYII=\n",
       "\" style=\"display:inline;vertical-align:middle;\" /></a></span>"
      ],
      "text/plain": [
       "{a in Complexes, b in Complexes, c in Complexes, d in Complexes, e in Complexes} |- (a * b * c * d * e) = ((a * b) * c * d * e)"
      ]
     },
     "execution_count": 4,
     "metadata": {},
     "output_type": "execute_result"
    }
   ],
   "source": [
    "Mult(a,b,c,d,e).association(0,2, complex_assumptions)"
   ]
  },
  {
   "cell_type": "code",
   "execution_count": 5,
   "metadata": {},
   "outputs": [
    {
     "data": {
      "text/html": [
       "<strong id=\"naturals_assumptions\">naturals_assumptions:</strong> <a class=\"ProveItLink\" href=\"__pv_it/79f3c165e7a9269914750d956c856b7b5a651e1b0/expr.ipynb\"><img src=\"data:image/png;base64,iVBORw0KGgoAAAANSUhEUgAAASwAAAAUBAMAAADFDR0yAAAAMFBMVEX///9UVFTMzMx2dna6uroQ\n",
       "EBCqqqqIiIgiIiJmZmYyMjJERETu7u6YmJjc3NwAAAC+aOQFAAAAAXRSTlMAQObYZgAAAxZJREFU\n",
       "SMfNlk9IFFEcx78zo+uqb/8gkVGxKCEIQe6hsAhjIQKhwD1E0B9rb3WQGiRYhA5WIEsEWUKCl7ao\n",
       "DiHloVAsazxEuB12ThlWMHUqugilhzLovXkz45tx3rp4cmBn3rzP+373937vN/MGiJvYZEfEoqf3\n",
       "IaD0d9rAvqUMa5MXg35Inr0ch3bueKhlEO4+WbV0labozdOwETNqEmSRtxuGA7DRbAXKkqkG4XL1\n",
       "Uo+WgNhw2IBtLXkgy9uJXAAq1+p01EqsA7BmpXqpRzUdUUvoj00VbtiNLa+UFjiL12M49FOhULTV\n",
       "R40mRAOWEqgN+oxDpWu0JIvvAlYn3QhSrWTcDWu/WyZX3El9S5aMgLcM8grwjMOkIdqHGKDn+Mjo\n",
       "GbvS3aiQiuitblj383ftghz3cm2dV5Out5bvl8MfnR05n7GPks4BK1x7ADP0fMRqsMs75U0ghb0x\n",
       "nYdF/hhly9asqrXMvOMdH8K0FNacxRvDZyxSdFvxdLh2AUP0j3tRP8G6J4SwFKOJhxVZQUJnj8lq\n",
       "ZVrYqbTzdjSNrVL41sQYfMYiJScw1xKuvQD6DqlfQZT9sXrqCT2csEiygT+J9UWU2aTaGCw66lk8\n",
       "4k73+PJI4XX4jEWq9OY/S7QdLKzaCZRZ2HExW9ilZt2i7WEF8lOclJpu4+3T/CKD5Dd8xiJNJKXa\n",
       "DraINBmX7O6sGFYsx80SJk9JrajGB5568ot3yWBk0W8sUCTSUm03K/lyDtvtfWjUG9BEf4ecsDK0\n",
       "9thi6p6aplZz5viPFp8MkmUoxYsQjUUpLUvo4doF+iyiUY9d1eyB3vv8sVNUdMkVs5FvBEPeu4gN\n",
       "G6OPKL3cBrkjhZP4mEz7jEVaV8ScFaYFRmi+QJr7v162p7fjGOftSzRTpIjoTXoZ7eKds895eau3\n",
       "WEHRfatA77WueTmcze9pzojGPoqBL2a4Fg/8m0/NQWfzcY8+8ebwFN8jvA8Qo1q4xthPg1oyKNmq\n",
       "3SNdCWobhutRWm2vK3CiV1K/2zBch5Ykn4HeF0VFtblhuA5lmdp8H80xC/8BlBknswXt1LQAAAAA\n",
       "SUVORK5CYII=\n",
       "\" style=\"display:inline;vertical-align:middle;\" /></a><br>"
      ],
      "text/plain": [
       "naturals_assumptions: (a in Naturals, b in Naturals, c in Naturals, d in Naturals, e in Naturals)"
      ]
     },
     "execution_count": 5,
     "metadata": {},
     "output_type": "execute_result"
    }
   ],
   "source": [
    "naturals_assumptions = \\\n",
    "    [InSet(a, Naturals), InSet(b, Naturals), InSet(c, Naturals), InSet(d, Naturals), InSet(e, Naturals)]"
   ]
  },
  {
   "cell_type": "code",
   "execution_count": 6,
   "metadata": {},
   "outputs": [
    {
     "data": {
      "text/html": [
       "<span style=\"font-size:20px;\"><a class=\"ProveItLink\" href=\"__pv_it/9e0daf739d5b5fe0373b7dfaa37ce749191f97220/expr.ipynb\"><img src=\"data:image/png;base64,iVBORw0KGgoAAAANSUhEUgAAAIEAAAAVBAMAAACTeZA2AAAAMFBMVEX///+IiIi6urrc3NxERETM\n",
       "zMwQEBCqqqpUVFQiIiJ2dnYyMjLu7u5mZmaYmJgAAABN0h6tAAAAAXRSTlMAQObYZgAAAfdJREFU\n",
       "OMtjYGDgu8dAJmC9eABE8exiIBswpYJIvg/Y5E5/8T7AsOybAtgOtwmokjz7XfYwcOUnMTDcBnG5\n",
       "JmA13o+1gYEHajj3BTRJlgcRDAzngYyVeEzoDBBkYEiAsPkL0CQ5pjIKMLDhMOHJzJkbQHSTD0cA\n",
       "A1RK/wCaJIfKgVYGTuwmhMhAGc0RPHtgJqxEl+QwbTh9ANUE5lsXc8BhtAdmVDO7QATMhB2C11El\n",
       "OQwKWRtAJiwD80DuUjPg/gCRgpvAsIhPAGICz+8D5w1QJDkMuBQegkx4D+KVBQDV5DHwOoADmQFh\n",
       "AseBVogJ7H8Y+AVQJIFm9XBEQmMpZDKQwfuHgROkhiFsNxBsgJjA08ANiQveDQznF6BIAk04wbAN\n",
       "HGVAbWpAN7A5MJwPAAmYILmBIYo1AZYc9AtQJIEmsC4IA0k1gHhA5wOtqAdLsSGbwFfgAEkODxju\n",
       "H0CRBIXIcxZYOIDi4nwBQzc7KJx4BWCKWoF4MdQEBWA4oUgCkwoDlwksLkAmsAjwzeACy02HKdoO\n",
       "DQCgvzkesFxAleQGeeo2cnrgaRS1EALLnXCCpL/Ib0D7eTYwcM4BUhfXMaBIss5PAWU+HKlayxOS\n",
       "cGGgBp8k1IQEvEXAAryyK3GXD/CiQACvCeDygQFvGcWHv4xKgiRayspJAFrNiemNf2P8AAAAAElF\n",
       "TkSuQmCC\n",
       "\" style=\"display:inline;vertical-align:middle;\" /></a> <a class=\"ProveItLink\" href=\"__pv_it/a85643711d10b03ad13e6b7a73a0d170703b9d1f0/proof.ipynb\" style=\"text-decoration: none\">&#x22A2;&nbsp;</a><a class=\"ProveItLink\" href=\"__pv_it/a30e38684a989c06e686178c4d56616b1d765ef40/expr.ipynb\"><img src=\"data:image/png;base64,iVBORw0KGgoAAAANSUhEUgAAAFkAAAAUBAMAAAAU44wuAAAAMFBMVEX///9UVFTMzMx2dna6uroQ\n",
       "EBCqqqqIiIgiIiJmZmYyMjJERETu7u6YmJjc3NwAAAC+aOQFAAAAAXRSTlMAQObYZgAAAZVJREFU\n",
       "KM9jYOC7wIAB8hhwgdOoXJ6tDQwMjA9QBU/93nWAwfSrAwPDOjTdXBOAWhagCe5lEmDg+cDAwDsB\n",
       "TYI/AUiYowlKKJQzMAQwMHCgWcrgfwBIHIVybnd0gK0R2cOowAB04gt0f1iAneMAZmvXQAXlFHnW\n",
       "gFRXAtl8k6fHwFUvLJ/GwMAMdh9QBUw1W4EiSPVeINv1AdcHeJj8OnD+AQMv2H5E0MgxmPAWAFW3\n",
       "ARXEMnBuAImBXMz2h4G/gIGtAcTnZkCoZjwgBBQLYWDg/MPAUQA2FkhwLmA4b8DABLZLdRUQLICo\n",
       "5hHgCgCrZt3AcF4BJNYICW7/BKjq10hmMygzBYBdAjQrHxHcFxjmH2BgAbuEFVk1b8IGsC/PJzBI\n",
       "scE8xO8A9AbUl5wFMNVCQGwHVG0J9EwBbyMzTJzxAjcw9DgNwJw2mOgyiI8YPIC+Ey96WAIPwem2\n",
       "INeD/cFwcMsBMK3xdQMk8WDEPBicgNLOOzpQEhhGqgIDc1zpex8WMYwUiys3gAH3A1yqseW0ezjU\n",
       "AgAF6GAIkZvtHQAAAABJRU5ErkJggg==\n",
       "\" style=\"display:inline;vertical-align:middle;\" /></a></span>"
      ],
      "text/plain": [
       "{a in Naturals, b in Naturals} |- (a * b) in Naturals"
      ]
     },
     "execution_count": 6,
     "metadata": {},
     "output_type": "execute_result"
    }
   ],
   "source": [
    "InSet(Mult(a,b),Naturals).prove(naturals_assumptions)"
   ]
  },
  {
   "cell_type": "code",
   "execution_count": 7,
   "metadata": {},
   "outputs": [
    {
     "data": {
      "text/html": [
       "<strong id=\"naturals_pos_assumptions\">naturals_pos_assumptions:</strong> <a class=\"ProveItLink\" href=\"__pv_it/a0c17ff2e2f63d4208aadfa4fd4cf14605d9e6180/expr.ipynb\"><img src=\"data:image/png;base64,iVBORw0KGgoAAAANSUhEUgAAAXIAAAAbBAMAAACThhkcAAAAMFBMVEX///8iIiJERESYmJiqqqoQ\n",
       "EBB2dnbc3NyIiIhmZmbu7u4yMjJUVFS6urrMzMwAAADZVrDbAAAAAXRSTlMAQObYZgAAA2dJREFU\n",
       "WMPVmE1oE0EYht+YZJNufmigKP5Q03qpVjH+QQ8e9qYI0qgH0SIGRfQilB4EQeyCKKliKQi2WNFF\n",
       "UJQWEtAemgjGWkmxWIqgBxFsC9VLxWJTK9WKM5tks1OTnSnkkoHMZnefvN+7M983OwSo4PbN8m5K\n",
       "QKFcjBDkpZ1KO781HhQQKxcjBK2i3SfaebQKdC6FSNeDCnSOdYBrschd+UV9AtLJE2axB4f4jIgO\n",
       "aVPHViqEvh+NGs7Mj+edd5Bx7yr6YKEZIAZvMtmSfJq7NijAQIzJrFgIm0g9yrMYTQ4kkyRV2gGn\n",
       "UrSAa90qnOwEZgQYCDG+xRUL4eVEFAgb2WJT0M4U6M5AIK6LvdPGYGPEjHAWjNHsdYH1pRmpWgBa\n",
       "Fu3tFu8Eqg3nVUHsMWNT1/PDcDnVp7FiuXCWTL75GzQrxtMlAC2Llp6REybn7jB6ycF1u+e4XisJ\n",
       "YwJb9/tTrJhnpEPhMZCinXo9aRbMxXPfFS70KNrNOko71BmTc5IB9eTwvtUzm5UouJLGm1ixWEJe\n",
       "4DGuGjTqYSwY31Fs17jQGlxgHaVx3q4WnPv/4jl5sCM0bYyLuV+88U7Sb8ZPmzX84jG2CIYZB0WY\n",
       "hyF9njmQIt9jHaXh1caoc1d2jJawlmT7Imz6RmA6SVo8J9aPASbjeiH/5DH3swngb6FQaWY1F3rd\n",
       "dEVjHaUhpzzhwktgia7SziBiE/S0zTye/sg0IzYIX4bHHM4lTdCSIVF50J/csc005vjiLzgnY76V\n",
       "ZHAEzfqp0+wKu1cxYnN0bqwZfVJoC1syjlkehLyQ0+zcrhQq2L+AIeJcwaiDpliVaoiROZDaGLEl\n",
       "mqEcZg5wwLwX+p+RM/DG93Egmk9uMNHGyOds0Pwyu0rKQLVvkPTzGmMJVPTMzi8rNNNeYbMVI/8m\n",
       "3V1kC8umlGYasCMV4UE3IHez0Z7R54gXXnVhfNYgj3Reuqmf92/LldhGmrF9xpJBdmZ4ci1kxSBA\n",
       "Lkunm7LRhz6WZPqjX0fGeZD71i4w0SbnyXjLBedkMXSOm2fpQ10gXmTTcECAcZi3Eb5T2Re7FSMG\n",
       "lYjmUVEVEdgTizBSmRgxKKbBtNKUbLIqoPW4TIwYtJd8hvmYXUQrVCZGDKplSqOCmp3mr6OrAp1n\n",
       "V/+DFej8TiX/wfUPFwJArVwlK7cAAAAASUVORK5CYII=\n",
       "\" style=\"display:inline;vertical-align:middle;\" /></a><br>"
      ],
      "text/plain": [
       "naturals_pos_assumptions: (a in NaturalsPos, b in NaturalsPos, c in NaturalsPos, d in NaturalsPos, e in NaturalsPos)"
      ]
     },
     "execution_count": 7,
     "metadata": {},
     "output_type": "execute_result"
    }
   ],
   "source": [
    "naturals_pos_assumptions = \\\n",
    "    [InSet(a, NaturalsPos), InSet(b, NaturalsPos), InSet(c, NaturalsPos), InSet(d, NaturalsPos), InSet(e, NaturalsPos)]"
   ]
  },
  {
   "cell_type": "code",
   "execution_count": 8,
   "metadata": {},
   "outputs": [
    {
     "data": {
      "text/html": [
       "<span style=\"font-size:20px;\"><a class=\"ProveItLink\" href=\"__pv_it/4fbe1a612eff75ac13cef2700a2a5886388516b40/expr.ipynb\"><img src=\"data:image/png;base64,iVBORw0KGgoAAAANSUhEUgAAAJ0AAAAbBAMAAACU4ZAgAAAAMFBMVEX///+YmJiqqqpmZmYyMjJE\n",
       "RETu7u5UVFQiIiJ2dnbMzMy6uroQEBCIiIjc3NwAAACK8CUvAAAAAXRSTlMAQObYZgAAAj9JREFU\n",
       "SMetlD2IE0EUx99mk5ns5hPBUkhlJwaxETmMx5pDODHCKYIWUxykEXaFKBK5cFh4QQtjd3DHkUZy\n",
       "woFpBAXhTlAbQbeyUA/TiGBjCr1CrvC93Usys4R1i32wbyZv/vnN2zdvFiB2y++GLvMoDAcf87Q/\n",
       "/9oPlaai8Grk6lXymb8QEw/OkcsNY+OtkzN2pgkW/ywIWN/vSzx2fVnVsIuXq2B8fB+FB5dMB9gQ\n",
       "Gta8ZRX9ULIcTL3YA7CBW9Yb6+x/eHe6eOw7yvsWSsGjf5BzIRv+vofb7QqNd6/wLiwrvG0R0PDn\n",
       "ognpUN6TTweTVo9VA7zVoIb/dBbFVF7+1Mw7r8TV0Z9bCbcX4M3tnlA1fHDMdCTeN3Jp6u1Xg+TQ\n",
       "V4x5sKa5Co/9FvZA0fCB0T8i8Z51UXWLpK9Br6nN1gIumsTLjyKJPSi4igbJt/kmzfwttIcAL5AJ\n",
       "+h6kSQpbFlrF5zEnqZRWr4DdUTTIq8O83EBlyJzHMVsDm7jwXcoPnpoKD9tvu6RokGd2tiYK8wK6\n",
       "G7gn7nvci2RlnlaqybxCEc4IRUOVPCTdx1+0nY5FskvQSFANdHe01sRnQ+X1scyKBjsUjEm6/vlS\n",
       "v6RcbcXwQvdGa7N+xQ7MxhkvpsqqJkn5nJzwxv3Hlj7/+OKF6tf8S7C5j7mxMS99H3/NPAZFYz56\n",
       "S1+OKTzJXl5tV6Zc56MRNKHfg4B1ooii85gbnTeMoNQgMg+vUVy24PmGiAmX++ANmZvx4MwlAbHb\n",
       "P+e3lvvyZVCDAAAAAElFTkSuQmCC\n",
       "\" style=\"display:inline;vertical-align:middle;\" /></a> <a class=\"ProveItLink\" href=\"__pv_it/e60a7bbb045776f7b1bdac32192fccf8ea78fbc90/proof.ipynb\" style=\"text-decoration: none\">&#x22A2;&nbsp;</a><a class=\"ProveItLink\" href=\"__pv_it/418ec4cbc06914aba8773a722b796dc7729ffbe80/expr.ipynb\"><img src=\"data:image/png;base64,iVBORw0KGgoAAAANSUhEUgAAAGYAAAAYBAMAAAD62ZXgAAAAMFBMVEX///9UVFTMzMx2dna6uroQ\n",
       "EBCqqqqIiIgiIiJmZmYyMjJERETu7u6YmJjc3NwAAAC+aOQFAAAAAXRSTlMAQObYZgAAAatJREFU\n",
       "OMtjYKADECBDzwZy9fBdwJTII6DnNKoYz9YGBgbGB2iC63evYWCOD4HpWYdmENcEoJoFaILcFxQZ\n",
       "GM4zMK5aFbVqLQPvBDRp/gQgYY4myNjEXsDACnMbB5ozGPwPAImjUM7tjg6wlYzeB4QYOGB6XqB7\n",
       "0gLsQAcwW7sGZs8jgVMH4HoqQUE3eXoMXM/C8mkMDMxgF/OsgbvtQTqTAFzPXiB2fcD1AR5Evw6c\n",
       "f8DAC3HRA4QeZofrcD1tQGWxDJzgIAT5hO0PA38BA1sDOLQQYfCAQYZRA8QCGQMMc84/DBwFYCuA\n",
       "BOcChvMGDExge1VXAQHMxoMMS2EmAPWwbmA4rwBiN0Kixz8Bquc1sj1MBqowHtBtQHPzEdFzgWH+\n",
       "AQYWsNtYkfUwXIM7FRgG5xMYpNhg3uV3AHoPGgacBXA9QHcww621BHq1gLeRGS57gRsYzpwGMEdA\n",
       "ExQoccyC8TyAfhcvelgCD+vptiA1YP8xHNxyAEwz9UcDyVMwNRhpBwxOQGnnHR0LMGUx0igYmOPP\n",
       "ePuwiPEswK/nNBYx7gf49WDL2/fw6gAAnKxrluTVyLkAAAAASUVORK5CYII=\n",
       "\" style=\"display:inline;vertical-align:middle;\" /></a></span>"
      ],
      "text/plain": [
       "{a in NaturalsPos, b in NaturalsPos} |- (a * b) in NaturalsPos"
      ]
     },
     "execution_count": 8,
     "metadata": {},
     "output_type": "execute_result"
    }
   ],
   "source": [
    "InSet(Mult(a,b),NaturalsPos).prove(naturals_pos_assumptions)"
   ]
  },
  {
   "cell_type": "code",
   "execution_count": 9,
   "metadata": {},
   "outputs": [
    {
     "data": {
      "text/html": [
       "<strong id=\"integers_assumptions\">integers_assumptions:</strong> <a class=\"ProveItLink\" href=\"__pv_it/1ce512ad1d2cd81489ac9fed62ab990c876645380/expr.ipynb\"><img src=\"data:image/png;base64,iVBORw0KGgoAAAANSUhEUgAAASYAAAAUBAMAAADSL437AAAAMFBMVEX///9UVFTMzMx2dna6uroQ\n",
       "EBCqqqqIiIgiIiJmZmYyMjJERETu7u6YmJjc3NwAAAC+aOQFAAAAAXRSTlMAQObYZgAAAuRJREFU\n",
       "SMfNlk1oE0EUx/9JNjYfu2sQpKC05OJBPDSg+IEeCqUQQbAHD6WxdI8ehIYqlFaFSlFCEQkNUhAt\n",
       "QcyhpUgOFhtbZYsUaXOIt0JLIMFLwYtSW0GqOLM72WQ3Mwvm1DkM8+a3/Gf2zXtvBlC/4DC1IxXS\n",
       "FTlAerQ3358zN1vsd8D40EBualAgaYfexbRIVrhmJxm/4fC2QhTZMDPmHPDeNELIC/bkgEc1oaxo\n",
       "zQ1ASXN4MAafdo4Z+w6YAc77ugXKDnhdF8qK1vQlEag0zCtLqSmD66h62WalAwd8ATVy2qm4nUpl\n",
       "OfCiUFa4ptyHnQbsfVf/rZUwG/smmmBYX3EIn7kPLpwTyorXfI0x0quZmZt0bqOOlWSZjULtY5oD\n",
       "bipWnF4YjZJeXgAHqpmRfaEsPo3O8uElfCB9byX0nVqddeWiXAvU0oL81w7lvJWrO1qYHpmnwoO9\n",
       "lfCBUFZ6iq98uIXHRGYQQcNqSKZj1jLDOn7ZoSdqCU3CQ53YkEt1SGWzQtk1TZ7mw1u4QaLrAIEk\n",
       "PdqBedLMv0j31L58DnnXDq9KsVqusPg/RVm2GQZiQtnjmw90Puyie/LnUaJRodb3bNSYKyxMpX07\n",
       "pFXEZ4SBn01+Ax+WuoWyP1jMNcMuenalGIaN2T6LGzXGNP8wb1jQqCJ+M9aYT/zgQxfZXTbVDOM0\n",
       "xksaThjXzEwNq5Eq8b35+U+sGYlkwaoaAZ6ZZZoQGk/BJAe6y06Syg0u3CKZh3BSeeij0wGtocbI\n",
       "HXn5Nxl3oAAbpFVkdRslEj/BCNbpqVNvN0F32XHIszxIr4I4SZD2kepdI1NOXmNZ/D6xPJRII0UC\n",
       "Y/2OWW9qUErklhf3Cgg8IcbZsumh1bd6E3SXbXtZBhfilf1ukS6bdd56OOgu8Haj0bNk3i1c+F+y\n",
       "8gT/DrYi1u2lE2sZusqSOxgfXfhnFyYnW4WusvStwn3T1ZrbE1RBq9BV1vDRIXv7KhX8A2/5KAP/\n",
       "7yIgAAAAAElFTkSuQmCC\n",
       "\" style=\"display:inline;vertical-align:middle;\" /></a><br>"
      ],
      "text/plain": [
       "integers_assumptions: (a in Integers, b in Integers, c in Integers, d in Integers, e in Integers)"
      ]
     },
     "execution_count": 9,
     "metadata": {},
     "output_type": "execute_result"
    }
   ],
   "source": [
    "integers_assumptions = \\\n",
    "    [InSet(a, Integers), InSet(b, Integers), InSet(c, Integers), InSet(d, Integers), InSet(e, Integers)]"
   ]
  },
  {
   "cell_type": "code",
   "execution_count": 10,
   "metadata": {},
   "outputs": [
    {
     "data": {
      "text/html": [
       "<span style=\"font-size:20px;\"><a class=\"ProveItLink\" href=\"__pv_it/f501bc1ab9f9dee90a516b79c8bd4178a0f449db0/expr.ipynb\"><img src=\"data:image/png;base64,iVBORw0KGgoAAAANSUhEUgAAAS0AAAAVBAMAAADhk6WpAAAAMFBMVEX///+IiIi6urrc3NxERETM\n",
       "zMwQEBCqqqpUVFQiIiJ2dnYyMjLu7u5mZmaYmJgAAABN0h6tAAAAAXRSTlMAQObYZgAAAutJREFU\n",
       "SMfNlk1oE0EUx193N2k+Nmsq9uIXPQUsijl4iJ6ilEKxgRyKN6FIPJRKuydPQlP8ABGKUFDTeogi\n",
       "lYqHnHKwLawQSlHKJpR6SKW00HPqB7TSBnFmd3azHzMD5pQ5bObtb/KfNzPvvR0AULaho1qgpuEf\n",
       "+RN0WBPu4qfyg8peHCyNlXeMfmXMAy9MjpfnJxiqbhgYrLJk2XNuYSvynDamK5OFkkSMFQ88tQlR\n",
       "SDP88sATKlOWOeci269YESLqW2IcemAd4H2kj6HugZc1pixzTopfylBh3hijQSpAjkBoeuB3EPO3\n",
       "vap7hUKJAheZsuw5/X4FrreWNyyRvjXCASVt2CM+chaocIUpy56z5ZdYr93DxtfWECXeIL3o9DnV\n",
       "A3cVO3bf9GRxVi8DBYr13kOmLHzp2aDDBfwI4d1PJKNGWj5sqVdkK3j1Zfm3G8rpitW9qkpYIJSk\n",
       "wURSajJlhVm4Rof7+HEfLVeegJjxxpFkj+2ppjT46YahrC02ByG8mY4ca0EsW2LKrqryJh1GUZCN\n",
       "zOKIa0I4jo96fAk1czXVfmv0FshHbnhJKFo5RHLiFmYlPwwXmbJPds9rDPgUOZNA+xVMg46jRGz5\n",
       "btSgjyR0hUM3xFUmYoRFkLy8AnSo9zFl/5AY9MNoHm876utFmDLIqD3GqEGm+Zfsig2NKhM0Y4/s\n",
       "TRDokCN7RF754b6Vj7oKz7rx0dasIWI+hc7B/MsvWDUSzIYpES3om1nOEcHxFYtTIF92DlV4oMIF\n",
       "yy8prryKYCOsOmqQPJOWj1F/BjLggrjKrO2BjuIplod1HAHwEvyQL3sG5A0adNQvebo3ddLIoEcX\n",
       "SYbfzA1M5qpQQIGyftqsRxYUcuWBwYMMhF8j40PD3Km1G5oP8mW7thtAhbTvkPDO/CZYrVvjwAdO\n",
       "o3/I/A5R4X/JEr9GeXehCA8W24ZcWdMv+v3Lap85TI63C7my5P4F3PvqDocp0C7kyoJwxzzrTrzf\n",
       "/wMCryfW4eGZCQAAAABJRU5ErkJggg==\n",
       "\" style=\"display:inline;vertical-align:middle;\" /></a> <a class=\"ProveItLink\" href=\"__pv_it/7b752d0271fc5c32dadeeda0ce7a1f9992b4c7590/proof.ipynb\" style=\"text-decoration: none\">&#x22A2;&nbsp;</a><a class=\"ProveItLink\" href=\"__pv_it/272359ca10c05fcc703903bb9144fb4437c9fabe0/expr.ipynb\"><img src=\"data:image/png;base64,iVBORw0KGgoAAAANSUhEUgAAAKMAAAAUBAMAAAATjZB+AAAAMFBMVEX///9UVFTMzMx2dna6uroQ\n",
       "EBCqqqqIiIgiIiJmZmYyMjJERETu7u6YmJjc3NwAAAC+aOQFAAAAAXRSTlMAQObYZgAAAhZJREFU\n",
       "OMudVTtIA0EQnZioSe6TdIKC2Fp5oPhBhDSCgmAKsVCDV9p5iBCCjSKIWAWDphGMooUWck1QMcpZ\n",
       "qsWlE/zA2VnaaCEp3M/t3gfPTwZuZyYzO/t2PhsAuQr1UZMVZLnzqmJ5OcizoZz36O0++8js1OFG\n",
       "BgknPkM8H4groXrUW595aRPioANI+Z/3uWnc8KhhzWsuAPSGUwBR6+d9bur35ShNuXS2voH5DsjJ\n",
       "TsRff9nnpiOffkBTfMpBCEYFrTn0yYXiDPfby247m/qyHUyUCwsfDsC+HLrdAE2pc617CbfPJfqG\n",
       "rfgbd/40TJ6LV1UoMXnYEmpOcS1ZAXjwFV7USfusISkDMR3L+LimGiQ0W4ZVCKm2jJ1KzEmchBsE\n",
       "f44E0nnIUAcJPwEQq0FUIwDRgvaZCpNrNnAqRxWmhDLZJ8S6SCqnjhERx9GIYods1MEkKVuhbTmu\n",
       "2nKjDcCWzRRTEknyOwkpOyhLAuosA18coZp32rIKuyzfpuIUyutEDSNkTfM+VXvQ0aQ8pgqtfGAT\n",
       "KTHjCg+s8T1OOAUaK0+Rub/ICPwWaQRBk1bCPMVVgc9TLEmqQFvO7dRcghuLjAuOz06tCAZcPxLw\n",
       "YsvCyyJvhOKQc9vuZz5zHifIPeMG3KeWtjHCI9OHF+X3828G8u8k2m9WZJAOJCMpX3dI/7PB6aru\n",
       "kLd/fIL/QYFg6v6jkAKq8AVwl40G11A1AgAAAABJRU5ErkJggg==\n",
       "\" style=\"display:inline;vertical-align:middle;\" /></a></span>"
      ],
      "text/plain": [
       "{a in Integers, b in Integers, c in Integers, d in Integers, e in Integers} |- (a * b * c * d * e) in Integers"
      ]
     },
     "execution_count": 10,
     "metadata": {},
     "output_type": "execute_result"
    }
   ],
   "source": [
    "InSet(Mult(a,b,c,d,e),Integers).prove(integers_assumptions)"
   ]
  },
  {
   "cell_type": "code",
   "execution_count": 11,
   "metadata": {},
   "outputs": [
    {
     "data": {
      "text/html": [
       "<strong id=\"reals_assumptions\">reals_assumptions:</strong> <a class=\"ProveItLink\" href=\"__pv_it/93b14a7c4870896a4cf5cd22c994aa66030ecc970/expr.ipynb\"><img src=\"data:image/png;base64,iVBORw0KGgoAAAANSUhEUgAAASwAAAAUBAMAAADFDR0yAAAAMFBMVEX///9UVFTMzMx2dna6uroQ\n",
       "EBCqqqqIiIgiIiJmZmYyMjJERETu7u6YmJjc3NwAAAC+aOQFAAAAAXRSTlMAQObYZgAAAwJJREFU\n",
       "SMfNlk9IFFEcx3/7x21n57m7dEgoiO3QScg9RBYhWBEYBHqIqMzYo4eoIYJF6GBEMkkH00jwYJNU\n",
       "B4naQ6H4J8dDhEbs3hQtGJGg6CIUHsSg9/a9GX9vnLcunhzY2Tfv877f+c3v/YbfACRLsMeOmENP\n",
       "XwLAYvvMaLsIl3zolmHtw8mNV9MKSz+sv1q1dIsepr+3QSusWahftvk40eeDCZIOT08pvP1wvXqp\n",
       "R+dpiH1BCwqroCfTfJzK+aCezEJhRWHtg9HN6qUejRgQd3Aax81eNyzNsfhkq8gaLJum5aqHEz5L\n",
       "BYx0S8aB0m1a0gY/EQ6P2VvZ0pwCH590y+QeeqhhXXZWQV4BnnGQNED7ErroOTkweJ1Nz9toE0NR\n",
       "sYkv8s/Kpf8G5zp9xk1H/o4a/mpsyEnGEiWNXU6w9hSwyj/vJNZAvAFeWJ1D3Its2EWmDjlIHXsk\n",
       "vJI9MKGE0RswY0vGmEKLQ8MI1C5BD71xB2jlDStshfXD7BWVHtuElME0qDKvmK/FOJ6FA0r4qQRD\n",
       "IBljSi7DXCZY2wmXALRNiLMbh6+N0kNk64IuEq9ZUGQPdZRBUZnH+9yX/DlfpYQPQDLGNNSR/6bQ\n",
       "NrCwagpQZGEnUbZWtbMFr2hbWeJ+4/f4ab0Yt/M/FSR/QTLGNJVWahvYJtJk3C5Pt+HamloQ6hJP\n",
       "SQ1W618NvhF/+JQKxtZkY0QhlVVqW1jJF3NwsNyHBnFYR7QMVzfT2mObaSB1ON3Px/9o8akgWYeQ\n",
       "dQuwMZbSsgQjWLtE30XQjdr7kfLCHGo+kdx+KNItD5V03gh6UI+AE6EM2aDjJ0D6lXAMFtNZyRjT\n",
       "fRbMOUFagAGaLyB1d1bulh/v0EWvVY/A5Ltc/DGdHGzik7Pvba+jZvSJdTDpdaRpQQ1n88fqmrGx\n",
       "RKHreylYCyNy84meFs3HPW7ii3PjpiV9gNjVwm3GMvVrSbeiVbtHthKM7BruRGm1fazAiVFJ/XnX\n",
       "cAc6r/gM9L4oKqpLu4Y7UJapvffRXOvAf3b0OBsWzR5KAAAAAElFTkSuQmCC\n",
       "\" style=\"display:inline;vertical-align:middle;\" /></a><br>"
      ],
      "text/plain": [
       "reals_assumptions: (a in Reals, b in Reals, c in Reals, d in Reals, e in Reals)"
      ]
     },
     "execution_count": 11,
     "metadata": {},
     "output_type": "execute_result"
    }
   ],
   "source": [
    "reals_assumptions = \\\n",
    "    [InSet(a, Reals), InSet(b, Reals), InSet(c, Reals), InSet(d, Reals), InSet(e, Reals)]"
   ]
  },
  {
   "cell_type": "code",
   "execution_count": 12,
   "metadata": {},
   "outputs": [
    {
     "data": {
      "text/html": [
       "<span style=\"font-size:20px;\"><a class=\"ProveItLink\" href=\"__pv_it/b1dbd28e630160afc4420205dacab654544862100/expr.ipynb\"><img src=\"data:image/png;base64,iVBORw0KGgoAAAANSUhEUgAAATMAAAAVBAMAAADY9BTyAAAAMFBMVEX///+IiIi6urrc3NxERETM\n",
       "zMwQEBCqqqpUVFQiIiJ2dnYyMjLu7u5mZmaYmJgAAABN0h6tAAAAAXRSTlMAQObYZgAAAw1JREFU\n",
       "SMfNl01oE0EUx5/Jptkmu/kQerPQi0VF6R5ESkFIpQilpQ0YxJtFKyJqCQiCIJiiIuKlIFjXKqQi\n",
       "lV5KLn5gBdeLBKSmsRTFgqbQS6HY4iVgiziTmU3ebmaSkFPnsJnZ3/7/+/bNm50NAIR+wm5rvrxF\n",
       "f7R3sPua5wI9hrZEbH10eH60wPrayQknDD3q2349JHF1w8TVhqWIrtBDYEJ4VSYLiTWL9YOLLhjU\n",
       "Ur6hQYm/GxYbl1bobI3QYj2geFOsH066oOJNQ6xbYu+Cnp3GpRUqCC3Ub07ZoelGhp3s4tmDNdPM\n",
       "2A5LQZetBHJ/21gordZWh+brtSpZ040Y68/aZbMPPdyS4nSXQVYNZWORVKCthOb9kb9CB58tNKGq\n",
       "h0/o2+i30nJ4j/OeOmCnJdomh8enzyYdxg6qTbcbYu0MHak0k51GsLRQb+Nau7HC/LRtK0cdVAM5\n",
       "+J9xP+8kDEih5zwMWw5jTOGgQUIRajfp6Hqc3HwM9NLkxSqhHTOnePX7dyAcoTpUrZfMN7zfmoZ7\n",
       "UvipwF4DFWNMtYuwEBdraRkkHpKOvgOt9Oa+y/Ok8awdUfgk6BnI0Yc7TSGv1ueL9gvgF7tKCp+A\n",
       "wxhTdSy6IdPeJ/F0krhbYpCj4XtR1nr0/bFyIXfRBB7Fa/xrgvdH2Y8Man/AYYxpOCXVBilSiYok\n",
       "5VYJjeBaG1zlDgWWmhbsoHyJsEn5y07JoH/LaYwohNNS7aa9QnNJeOCntZjHoZ3R48yhg9QindgI\n",
       "cvCllln/HylGGdSKZJVdA2yMpaRMISLWztihKZHQ40Dp4iTaqALJu5AjJaAWFLZTTaL9BF6qcW2b\n",
       "9L+DtiyFvbCeSjuMMd2TgQVDpEXvNW28rXtv6THvHC5v76+g70Oy9Sk5mZ9jJ7MnrPIuHFcGimCS\n",
       "cWBuVQ6z0VPjHdjYQaH9d0GsFW1Unhd8o7LbTTw41G9m8NhvNQqrjJ3UreWhjdT8ckrXgoGmYR3K\n",
       "QhN/r9lNi9SiH5uGdSh/Udf8yg3VNCg0DetQzzk267v0v8F/IKQ63CwTLV8AAAAASUVORK5CYII=\n",
       "\" style=\"display:inline;vertical-align:middle;\" /></a> <a class=\"ProveItLink\" href=\"__pv_it/55fdec749cd4483483e194d69684595b8d1d5a770/proof.ipynb\" style=\"text-decoration: none\">&#x22A2;&nbsp;</a><a class=\"ProveItLink\" href=\"__pv_it/983832306a75598c37cd49a857a4e7d97b1341650/expr.ipynb\"><img src=\"data:image/png;base64,iVBORw0KGgoAAAANSUhEUgAAAKQAAAAUBAMAAADxUYsHAAAAMFBMVEX///9UVFTMzMx2dna6uroQ\n",
       "EBCqqqqIiIgiIiJmZmYyMjJERETu7u6YmJjc3NwAAAC+aOQFAAAAAXRSTlMAQObYZgAAAhBJREFU\n",
       "OMudVT1Iw0AUfmmptk3aZhMcpIuTgwXFn0GoiOBWBxEHhYxuBhFKwUERpW7Bim4aRQVFpIOC+Ecd\n",
       "VSSd/YG4CS5ODtLBu0vucheJP31D7nt57315d+/dC0CyCvVJgx1kuRNV5WQuyDN0Ygh6i2hOLJ5/\n",
       "7l5idOQLjBuBeaU0Qb31Rypq6PICcRs/x/GSqwhqWBfNcjID5ReAqP1zHC89vjMadtbHYtGklBtx\n",
       "gNdf4njZ9+k75Nk2y2W5IQMUEE6W1seZ31Z+zQvqzqcpTJamP7wEuwtod70EHvIbV/sBcIkG7fg7\n",
       "c/6sWOwsXjXZpHjQlmuMcshG4fCAoWRzlA3L6ANLiGUCYmXMRrqtBindxbAAkuZi7GRSJ2UUblD6\n",
       "k4SIK89YcQ+tIwCxGkRx8SwcguKsDMVOWhRHM1SRJvJPaGnH1tYDJG55Oo0LhzJSBgsfWVR12jKn\n",
       "uThSJpQUW1mqpFRiIJRvfBOttgHZOMpqymvLKmzSNsLpgoc5J8cwhB8RnlK+10l5LA2a2YVNZdGp\n",
       "efRAG19wwkegu+WJ6RxlSF0hjSDrifkwfS9VZXafYiqpguPPOzWacIPoS0RZ4i4kdElpnLzSNP0y\n",
       "w5povc/bbcczS0FwgsIznl/bBF8fV9jYSMtnH98v5N9FcWfWwGnRFEaSUTelf2wwuaqb8vaPI/gf\n",
       "EphM3T+KREAVvgBGJowhkSKd9QAAAABJRU5ErkJggg==\n",
       "\" style=\"display:inline;vertical-align:middle;\" /></a></span>"
      ],
      "text/plain": [
       "{a in Reals, b in Reals, c in Reals, d in Reals, e in Reals} |- (a * b * c * d * e) in Reals"
      ]
     },
     "execution_count": 12,
     "metadata": {},
     "output_type": "execute_result"
    }
   ],
   "source": [
    "InSet(Mult(a,b,c,d,e),Reals).prove(reals_assumptions)"
   ]
  },
  {
   "cell_type": "code",
   "execution_count": 13,
   "metadata": {},
   "outputs": [
    {
     "data": {
      "text/html": [
       "<strong id=\"reals_pos_assumptions\">reals_pos_assumptions:</strong> <a class=\"ProveItLink\" href=\"__pv_it/3f7901c2f05963d57d3166a0b57c7e3a51457d540/expr.ipynb\"><img src=\"data:image/png;base64,iVBORw0KGgoAAAANSUhEUgAAAXIAAAAbBAMAAACThhkcAAAAMFBMVEX///8iIiJERESYmJiqqqoQ\n",
       "EBB2dnbc3NyIiIhmZmbu7u4yMjJUVFS6urrMzMwAAADZVrDbAAAAAXRSTlMAQObYZgAAA2FJREFU\n",
       "WMPVmF9IFEEcx3/3b8/bvVs6sMKMWPXFtPA0Ah962J6CIDztIcqXo3roJTiEhEDwIAotkoOgkyxb\n",
       "iqJIuIPyQTfqMCNBCF8KCjE5iF6KBI8MzWhm925vxu52RriXHbiZm73Pfee7M7+d+bEADi4/bH/N\n",
       "cihUi+GCgrhK4Eq2xxUOsWoxXJAbV4u4kjQHOhciqBoFBzqHPQD+9TK/enY2bkw20WIPutkMjw4q\n",
       "udPbFYL2nja9J1JyPozmPVkOlMSs3NQCQV3v1Z8Xrk1xMMDH5LctBJkJyHVoMK9P6jq6g0EAn1p2\n",
       "SfwxUAboachzMMDFhNa3LQRKP+Ky1py7VBikHtCOcDhTFEtJlJg1nA1TioCGcH1lRtjBAW0ZDTkP\n",
       "xDOW84ACh0ksd52YhpSbEisMZ8sUi9ys2TFSkgPaMprhXLGc10RhDDX+26NncFecJhcwu0iJSXPD\n",
       "KosBYWgEN880G+byhZ8qE3o8lKIdIefBUClaUAQ0ouZDXFoxjqc44cpbN02JpafFNRbjr4VW3L6z\n",
       "YUKnoE1jQruhn3aEnB8d0yzn8l94iW7sJA4b66Ip1h1+YXyz/tqlwW8W44rBLOWgDPMoYqwzA1LF\n",
       "cdqRcilcbyyV35yjTahD0b4OLiMR+KqjUnj6LiZb6IgbA/EXi7lvBoDci6HKzC4m9LbzikY7Uvo/\n",
       "uYnNRNzEu7RPgfQy7vaRG9W9HC02BaE8i+kpBI1iy6BRWdCfQttH7IqBJeIBRnN+AEVwDLqMro90\n",
       "5X6YoMRW8drYM8ai4BK1ZbwrLAiKQj5yP2/pJHavNZhBzlWY9+IQCyQIMTk7Tolt4ghlMKsAXiBz\n",
       "of8ZMQ/BzDEGhOOpBqjRkPPvgWXyMLuK/pnw7BWMfi1xIMP5YBFM40h7A/vtGHEDVXfBfLBcamWm\n",
       "GdqzMRZ0A8QUPRo6/QX1femoi8IXDcS5kYGbRn/ioGYlQcvu1uJ570KZGTy9FrFjIIwuC+fMBRVn\n",
       "PldkJoa+zS2woJpbh4AaDWVcr6DxtZWqoM3Qt0Cu0scG86zdUo5zMF4yjQidNQ92O4YPqjCalIBA\n",
       "jCMn5mGEKjF8UFoDOcrGxASH1pMqMXzQEfSZZWMeHq1IlRg+aB9OfJz4vsKD49ebdKBz82w94UDn\n",
       "d5z8gusfB8c6ixqcYo4AAAAASUVORK5CYII=\n",
       "\" style=\"display:inline;vertical-align:middle;\" /></a><br>"
      ],
      "text/plain": [
       "reals_pos_assumptions: (a in RealsPos, b in RealsPos, c in RealsPos, d in RealsPos, e in RealsPos)"
      ]
     },
     "execution_count": 13,
     "metadata": {},
     "output_type": "execute_result"
    }
   ],
   "source": [
    "reals_pos_assumptions = \\\n",
    "    [InSet(a, RealsPos), InSet(b, RealsPos), InSet(c, RealsPos), InSet(d, RealsPos), InSet(e, RealsPos)]"
   ]
  },
  {
   "cell_type": "code",
   "execution_count": 14,
   "metadata": {},
   "outputs": [
    {
     "data": {
      "text/html": [
       "<span style=\"font-size:20px;\"><a class=\"ProveItLink\" href=\"__pv_it/8e3f60138868f902a0343d1129333e40c6ca940f0/expr.ipynb\"><img src=\"data:image/png;base64,iVBORw0KGgoAAAANSUhEUgAAAXkAAAAbBAMAAABrZuLrAAAAMFBMVEX///+YmJiqqqpmZmYyMjJE\n",
       "RETu7u5UVFQiIiJ2dnbMzMy6uroQEBCIiIjc3NwAAACK8CUvAAAAAXRSTlMAQObYZgAAA0pJREFU\n",
       "WMPVmE1oE0EUx1/zsUl2mxAPhV4KexJPtkJBbGmMdg0oFbfYloKUrqgUQUkq7UWMSC0aUSQKnlTo\n",
       "JXgRWxD8wkPFVnoqEUWwGlqQUgqCbSgVLYozu5tkJjYzE8hl32EmO/nlP//defN2CIDDI5Rjf58Q\n",
       "0KgVIwT5cCO3Wxdfp9iwLiBYK0YI8prtUAy3ym9wpHs4hJvgmkPdP8BNYHo7ou5W70ZXNy14Zo7P\n",
       "iOigyLytVggaZwe12bCYe/BICbm7D3yaNqMdsMc6BRgQY/JVC0F0CDINBoxoXZoW5rj3htKgr9CP\n",
       "Iy/AgBCjbFYtBPoq4hLsZ9+QSkULghEPJVicksGUsqE/NV6ZCVwRgMpmQ+7dS1Gm+8wn4nFEvJSg\n",
       "PSWTKYQ8YLAYT4sAVDab6V7fzn1oX8c7fCHFyMVMPKcEPckPKo+BQG4Bd6cNBvPt4aTKhc7mIrQj\n",
       "5N6nEJmziBs/Hni95DELp2+JcOa6GqME4zHpL48JjUEP7i8zGGUeBg0udBtWaUfI/a5Wo+R+cgLd\n",
       "2yi+wTfg1oliZArOpQ6an4o/bzbgD4/xp+EC5WIb5lwYWoELqVIb7Uj/nho3lyxk76ybAC/QHYB7\n",
       "E/xZPPJYQ2HvyPstfXQGtoL0i8fst5JBnsFQZeYGF7rU9N6gHemrT70GValaQDmM+nod4vguYJks\n",
       "Yu0ZWrATlDyPmbUTSGcy0hYX+mn3y0TFdL8iN7V8FC9RGmV0GprNkXrSmfdklhJcx2vEZszFwTHN\n",
       "ZFxrPAgKQvVkve9rIogfOI3cqA7GVRhx4ZRzZwlBOdFGCW7hjOUw6wAu3HdUZqQ8+KK7ORDOrSBQ\n",
       "syH3j9wTJWKxUDG92brrAXNojHh5w11fAY7jzBuG4yxG2kDNXrA2m1+tzAxAYyLNgz6CFKFnQyeF\n",
       "gHqx5L5Y76XkwsoX69R8wigenCa8PYWzgf8aak59DrMYSKHhwB1rcaXRZxWZodyT5BQPCu7ZAdRs\n",
       "6JR2BHqPqf+7J+Jlv/VeLoudAoyLrAjKPesQwGLEoAqzMU9pZZEWYAI1YsSgKtxLWQHofI0YMch2\n",
       "vyZA1onIhWvEiEGWe9emQ/8LMc9TMGI40nxw3tr4w040LycNcHj8A0ezP8wQznq8AAAAAElFTkSu\n",
       "QmCC\n",
       "\" style=\"display:inline;vertical-align:middle;\" /></a> <a class=\"ProveItLink\" href=\"__pv_it/a2288702187b5ff1badf675cfaf2bbf1f3eae4190/proof.ipynb\" style=\"text-decoration: none\">&#x22A2;&nbsp;</a><a class=\"ProveItLink\" href=\"__pv_it/baaaf67c29493d41d1e0dd84a18093d0979bf25f0/expr.ipynb\"><img src=\"data:image/png;base64,iVBORw0KGgoAAAANSUhEUgAAALAAAAAYBAMAAACo1mruAAAAMFBMVEX///9UVFTMzMx2dna6uroQ\n",
       "EBCqqqqIiIgiIiJmZmYyMjJERETu7u6YmJjc3NwAAAC+aOQFAAAAAXRSTlMAQObYZgAAAjdJREFU\n",
       "SMdjYBhSQIBWBm+gqcF8F8jUzfYAv8GnUcV4tjbgUs60dQIKXw5Vmrd196+lexEGr0PTzjUBp0P4\n",
       "E1C4p9B18ggw7d3DwLhqVdSqtQy8E/DrRgb+B1C4zAWo0tx8BgwbHsJczPEAv25kYIEWagEQ+nZH\n",
       "xwKYwfO4YAa/IKAbGaxE4y8Bk9o1SC6exw0zuBKUMCZPj4GrXlg+DaHVvFwBxuSbXPQN4VjzSqBP\n",
       "LcHMNchBIeAIMxgUja4PuD7Atfw6cB4eOi8SuBfA2K4PuP/ADfZ4ADSE4RaIyfgAyWC2zjUwg9uA\n",
       "ZsUycIITCCh02f4w8AMjhQestJmBMQHKBikCWQLhhDGcBHolA2wcUuRFdCwDs0B2hTAwcP5h4CgA\n",
       "OxZIAHWfBzrmPMgQTogTYWwOAxiHMbb8DpDSB8mqrgICaOSZTNgDtwZoMOsGhvPgoGyEJGN/oCs5\n",
       "QOUIKyTPw9jnHWAcfkgpAzb4NXJym6IN5wGDAujCfEQyvsAwH5bgQE5nQLCRFEEkPEAEK7LB3Gfh\n",
       "aRsYeecTGKTgGZ/fARiaCEsYYNkFRREoUAqgkcdZgGQwk8AkGA+YZLgLeBuZYXzGC9zwvMgpAI4j\n",
       "iC5kRewLGE4CLZkM8zM8SzOYMcI0AL3DI170sASe3KbbIvxvfBfuHBRFDJV3QWXiIjD74JYD8EJI\n",
       "gXsXLLFzPCC71OWBloPOOzoWYMryTiDbYPRCCA3sI9vgU/ilT5NtMAEnkV018eKNHQBj0Zb7FXS/\n",
       "fwAAAABJRU5ErkJggg==\n",
       "\" style=\"display:inline;vertical-align:middle;\" /></a></span>"
      ],
      "text/plain": [
       "{a in RealsPos, b in RealsPos, c in RealsPos, d in RealsPos, e in RealsPos} |- (a * b * c * d * e) in RealsPos"
      ]
     },
     "execution_count": 14,
     "metadata": {},
     "output_type": "execute_result"
    }
   ],
   "source": [
    "InSet(Mult(a,b,c,d,e),RealsPos).prove(reals_pos_assumptions)"
   ]
  },
  {
   "cell_type": "code",
   "execution_count": null,
   "metadata": {},
   "outputs": [],
   "source": []
  },
  {
   "cell_type": "code",
   "execution_count": null,
   "metadata": {},
   "outputs": [],
   "source": []
  },
  {
   "cell_type": "code",
   "execution_count": null,
   "metadata": {},
   "outputs": [],
   "source": []
  },
  {
   "cell_type": "markdown",
   "metadata": {},
   "source": [
    "*Broken demonstrations below need to be fixed*<br\\>\n",
    "*Shown as markdown instead of code temporarily*"
   ]
  },
  {
   "cell_type": "markdown",
   "metadata": {},
   "source": [
    "## Distribution"
   ]
  },
  {
   "cell_type": "code",
   "execution_count": 15,
   "metadata": {},
   "outputs": [
    {
     "data": {
      "text/html": [
       "<strong id=\"assumptions\">assumptions:</strong> <a class=\"ProveItLink\" href=\"__pv_it/aea3b39d29d22e4024712c6715f5aa8d9a4ae15c0/expr.ipynb\"><img src=\"data:image/png;base64,iVBORw0KGgoAAAANSUhEUgAAAeYAAAAUBAMAAACqkINaAAAAMFBMVEX///9UVFTMzMx2dna6uroQ\n",
       "EBCqqqqIiIgiIiJmZmYyMjJERETu7u6YmJjc3NwAAAC+aOQFAAAAAXRSTlMAQObYZgAABFdJREFU\n",
       "WMPlmF9oHEUcx793t7nL5fY2iy/BSsvhn4cicgcW/2CFSAkVEZoHwWAq3RdBsdCzfwgpghVpjdXC\n",
       "YR5CA+IhLdgadItKGht186BHkocEoUgrxQv2oRKEgm1aJQnO7M7O7czuzMW8dh6Wmf3sZ+43f3f2\n",
       "AGsR91LKNsllPonkPv9qYCospL+tSfjoydsf1jQVC3o86XW9rKPG8dvnB84GYzg/oIDbSP7LBDld\n",
       "dsxPr/BityPiB1cwu6Zps6TLSa/rZS3NTZVQL7DCOQWcA4pJP77YQ8A/vLjHE2gxVQV+17RZ0qXU\n",
       "RtfLWpqvIOPsYIUVBcxU0dmM3P9tZKROoyrtJdf7+e2nBIpfOkgfpOJBFy+OnESCLuFkXS+3qZpF\n",
       "lvewlGYVG6uSGkKzHzci6qNvsy6xXHJt8PvnBIraMrmY1di0m/SSdQkn6nq5TdU8MmC6wJ7MHJNU\n",
       "Ds9gmBaeHCrROCYYm0lHRsEaPehPE05Ne3uLNsaQrWdp52POS9Ibb10/VI1iWbc0snG89zE1tUbH\n",
       "9gqRkUGtXmO5rp5hR1A5fBrfk+sNp0CnRiqc5n8YkVHoaxb8acKpVdndopXXULCNWzS7DQm6WSm+\n",
       "31mPYlHvQ+6mUsb8r6ddNe1rdt0UIiOC6bLcwoS5LqgcXsUJcn0PKdon4Y6HP6NBv4q8HzOnVq0V\n",
       "tOWMo3sRP9C8m6RnvMyq0YxiWS+4ShkelqGkNDJXiAy4j7f/gIc7gsrh63iJLBK23B85TxJt33y6\n",
       "0truVtFZEajpPtT6XbyMchN0wqVfoQ9A0k3WphaW9e6qUib3p6GkNLKqEBmM2q6QjsP8W1A5LNM2\n",
       "d7C+WA6f7/JsXjOBC70CxUQqsuLWcYRMUTpmbpKOoE1RLOirKJc08nOSK0dWEiProsO6k+27xoqg\n",
       "climc3uB9V0HX+w12x8Ef11UcECkuJIK5p3f2XVcgOV3Sn+SjqBNUSzpR6CWszbUNCGyJzK94cNr\n",
       "bPr2x+DzdA8jCxJ0Pef5WpmkS+6FoGYHW/wzaosWDpOsUQ/yNtkNcn52DAl61nsHOU/Akn5BLeMN\n",
       "wFbSeGSWvURKQStv4adFQeXwKtm5kbcx6w/GCb5UvthpvjmNBRJYoVp8NwOBYvxr7+dLnvkvPdHV\n",
       "jUE87N/tdBL0Pc6P+EvCET1vG2tqOX3q2aO9ShqPrOBNw9zq+jVvxZRYMYPAKBlp4PFrQU/NfBO+\n",
       "zLafvfsxef4jMo96Di4dlmh6fN8HpJNGaPn00Myh4FRvPvAiYvrMUOMTGUd0s2d4XS3ncfmMmsYj\n",
       "6/tu8NK+wZpf86wcVQjxmXj23HUxOF2Gab9w3JFp1pO+XJ4JTnkKXcaBnq9vRG5TtRSZEJismseS\n",
       "vzH4kUH7KZpp963aXt/CXgr/W65sOjDyjRGcJ5JT/EwtpEabJm9AP4XJTcl6qg1sTvWfAXsz6NvU\n",
       "7g+WDei7h0ubkoubD4yO8T3231Cxif8AWjfMcJSHh/sAAAAASUVORK5CYII=\n",
       "\" style=\"display:inline;vertical-align:middle;\" /></a><br>"
      ],
      "text/plain": [
       "assumptions: (c in Complexes, d in Complexes, w in Complexes, x in Complexes, y in Complexes, z in Complexes, a in Integers, b in Integers)"
      ]
     },
     "execution_count": 15,
     "metadata": {},
     "output_type": "execute_result"
    }
   ],
   "source": [
    "assumptions = [InSet(var, Complexes) for var in [c, d, w, x, y, z]]\n",
    "assumptions = assumptions + [InSet(var, Integers) for var in [a, b]]"
   ]
  },
  {
   "cell_type": "code",
   "execution_count": 16,
   "metadata": {},
   "outputs": [
    {
     "data": {
      "text/html": [
       "<strong id=\"expr\">expr:</strong> <a class=\"ProveItLink\" href=\"__pv_it/27da8c9e278d7ef3df433ef4971b22f09695ec520/expr.ipynb\"><img src=\"data:image/png;base64,iVBORw0KGgoAAAANSUhEUgAAAMgAAAAUBAMAAAA6im/5AAAAMFBMVEX///9UVFSqqqrMzMwiIiJE\n",
       "RESYmJgyMjK6urru7u4QEBCIiIh2dnZmZmbc3NwAAABRgo0vAAAAAXRSTlMAQObYZgAAAldJREFU\n",
       "OMudVTFoE1EY/hKTa569XA6XDgE5wVkz6GrSDi46xKWCgr1BcKhDRCFOksGpDrkOIpjhutS2iHLS\n",
       "RYzBG6SLCFHRDikYQcRFKB2qgSK+d7l7796Zizl/SO5733v3f/97///+A+JNMzGxpfsTLyWXKqHR\n",
       "fSSwo7Ezp59EiKluaHAniciD+Km9yLhgCKx0pfNw/johiVGdOI3cIEI0LYEz/SQiZCVORK1EiNch\n",
       "/BVJRHA7ToSlQNvpbXDiRvs9xx36az37/tKRXLZ60DZkkbvrh2gdvg3F3t7k+MebMk3BUn9ql+/5\n",
       "p2XzQ5qnY1c5l6lJLt0lTO9KDJnvfKSPa6L053CRJ+QpFiyQR8hX2VLvvQEKjo8xR0Oy1EGuH3ap\n",
       "GdvIVmURaIw4zrCX0oyLIwF+aGIbyA+QYattFnC+Btv1MdbZ+0OHar1+a61e1xnz2ItDMOwmMH9l\n",
       "7yTY8LOFMD4PHK7CLjF5fZijpuFjJgLPoRQ3LchySc5JzlvORDDL/laHtI/JL7DIT4prYvph+MeF\n",
       "wKFwSTf7IlJdx4bp54k9CBX2AdI0g7aBGd54Cg2aolDi09YrTFuSy6yOC7JIuouUlPh9ygUie0jV\n",
       "TiDrKLNqMJ0ys+Ka05psGgv4FtmJntuXmVPXF9kd2eEvvgP5EODLuKq7IMXNL8/57npbYqt0/8vt\n",
       "1idTdkmKnd8y01XWGvRxU1yTrUWOl9tnio0xLS+ureRrI9tKBf9jcoMkfkHMwG7IzL8a5Hi7Moo8\n",
       "S485YasfayM/Wvc6pckjmsCSfH6VcZ/fP8KmoAMUBpW+AAAAAElFTkSuQmCC\n",
       "\" style=\"display:inline;vertical-align:middle;\" /></a><br>"
      ],
      "text/plain": [
       "expr: a * b * (x + y + z) * c * d"
      ]
     },
     "execution_count": 16,
     "metadata": {},
     "output_type": "execute_result"
    }
   ],
   "source": [
    "expr = Mult(a, b, Add(x, y, z), c, d)"
   ]
  },
  {
   "cell_type": "code",
   "execution_count": 17,
   "metadata": {},
   "outputs": [
    {
     "data": {
      "text/html": [
       "<span style=\"font-size:20px;\"><a class=\"ProveItLink\" href=\"__pv_it/7375c01393bfb053b4b3e63a14933ecfaa5446620/expr.ipynb\"><img src=\"data:image/png;base64,iVBORw0KGgoAAAANSUhEUgAAAasAAAAVBAMAAAAKiNzvAAAAMFBMVEX///+IiIi6urrc3NxERETM\n",
       "zMwQEBCqqqpUVFQiIiJ2dnYyMjLu7u5mZmaYmJgAAABN0h6tAAAAAXRSTlMAQObYZgAABChJREFU\n",
       "WMPdmFtoFFcYx7/MXjLZzI4bKVK8YPoiai0JEtooRDYlFC8JLjT2QUgTND4EtVlQfFK6QX3og1JR\n",
       "LGusrCKKomUpJaCmeBaWGpCQEZoirpoVrOCDpiomeMVzmZk9Z/acsdnHzMPkzP7m/z/fd74z58wE\n",
       "AMz7MJuO0C1E/hhXYXYd2jZyNv+TsuNT1/qGirSd7/PAZf3bhwZ/UBsvGJw6Zilp1ZXrfR0VUsG5\n",
       "c6ecFkg78rPUvSMB2aB98acHfjIOtRBX9r1pGkbfK9MKdSeNiSeVUY/ztJxeUKcVzUAkeUYuhzsA\n",
       "5yP1qr5NPQYwqUyrOIBveVcR9Thrb+VUkpa5Lj1I00LQHLI8cgfehUCqq7xTm/4bxs+sbimomdiB\n",
       "z4dmRB+m01mJsx15GS1PK9SK3HZ7EAlyHgZRe9n0cajVRBaimIJGA2T25mZCOxeC1LnWktNSWi2X\n",
       "51Hjm6WszNhTRz6wKOmBD8yi3cp9unJ+jKcGX0hjUQy+RLx2JGTxC1P996CkcLouQTyGQeIMLae7\n",
       "k3J6jpx0XEFtK1ynv+wvyfKGsyiMDRsvRGjE804rYx6pyfI0kPmsZBLRemCxoF2tcXXMP7gXV9NV\n",
       "ySBx1htlzjjkjUhOJ8lpDx6Rv4rwN/2FW94OuoIfETwToZ5wAomgyFutkacBi+v8q2gW2gRtCx84\n",
       "giZQ0xOgk3o467HojEOmC7mEksnZeRQ3JhAcoXN8+zV8sNGwljuCAhivRfiFlnGqBUEWk0uN+GYu\n",
       "7nCMDklJmw9l+IeqHZQ0aq9U3xGY9TrjkE+o6E94bJbgavWC8ZJmXCoI3Zgu2duWNi1CsqNF7Odh\n",
       "DhvfEh3WubgbUOilQGtRisNLPVqehu1fm0DmjEN+rqC1xEOPk2JUs3eNHvcmujGxy/f2wLmQ7mhh\n",
       "+6I7AaL0ic7ml13pqh6BmlaKFpke1SmPlqdjduHCIHF2Q5bQSXslNKbxwrGLXNxyZ2qqGU8D1t1z\n",
       "MpF52BzAnf/DAkOLoQoJNDgX10/Lsou1EEwJFFrJI/A5a+8DUNM5uFPybEVjEmc3ZAk95yzwrfA4\n",
       "RcemJsltTMbhuPEGtw8De0lzIdnRRh7CGLZoSG6ENSKFwnp0ow1RKdyGhqJIo39cMna3U3Ho1G8L\n",
       "6pU0moJROhN+AYmzG7KXcvvWSN23A9TfOLCC3bJkQ29bf68FaXzb6Hy2STlQ6x1q+2aqA2pOEmXu\n",
       "vkhxtIX+X3E8RIr5RKNIoWvo1ThQcRQe/Q5KChefskqMfI3Knd2Qy6js5Uk7y95inKMa+cC98D+k\n",
       "BTkVxf50+bp0VhlUGbXT6vH7eIn4wQx8TKpn2Xo1Y3Gm4qDstOTfW86R82He9z6JtKYYjFUi9qc5\n",
       "/7TY/PD9Oi76MNPfnUi1uvGKxCZUGhTucwubqbPwfxkfAAV1obHr/27cAAAAAElFTkSuQmCC\n",
       "\" style=\"display:inline;vertical-align:middle;\" /></a> <a class=\"ProveItLink\" href=\"__pv_it/adc3e6963cb6c741db4e5225e69aefc9f0d8bf2c0/proof.ipynb\" style=\"text-decoration: none\">&#x22A2;&nbsp;</a><a class=\"ProveItLink\" href=\"__pv_it/611585b31d5a068136ec1bb63e3de97d3b32660a0/expr.ipynb\"><img src=\"data:image/png;base64,iVBORw0KGgoAAAANSUhEUgAAAq8AAAAUBAMAAABR3ckxAAAAMFBMVEX///9UVFTMzMx2dna6uroQ\n",
       "EBCqqqqIiIgiIiJmZmYyMjJERETu7u6YmJjc3NwAAAC+aOQFAAAAAXRSTlMAQObYZgAABQZJREFU\n",
       "WMPNWV9oW1UY/9KkaZrcpHmyMFD6KIg24EOdUIgPxb3Vh4I6p1yf1Jctdo4QX8wY654m0YLFDjGT\n",
       "PbggtT4MUdx29zDqjJCASFVQIvjQIUKxo4Kkw++ce8653/137m5Sgh98yZfzu+f3fec7f+8JQKEL\n",
       "4aIFPZLuxQQZeRwHkYx//R+4TgqFtrvcuFYnv9pxKB8JRR57MQhsR3nXSBCjsenhf2HkXGPXGgns\n",
       "JKaw4cGyDfJjI05ivwuH9oPAjSjvOglgzHrH3dXRc02ZRhO7BTXf8EGO7QFf8/G4SpKVMHepfgDI\n",
       "yLXedUIY05L5Z3/CRs61aMEcfqFmen5IiQeMSKzxXJi7ZD0AZORa7zohjCoZ7/oTNnKupwBuA9ed\n",
       "AEjJDsRJLFwJc8cmuA/cgQjvOiGMMhmFuj9hI+fCFSNb5lpjNKtrJxR0ufqBshm49eYfpyuuNG6t\n",
       "QeGEO7Gp8+XHAY6SQKrLyr47N2u6QIdc65141jHKZEywZeXu0TNqzGena2phITEPzQXHlsacw8xc\n",
       "dUYdc1aXccVINrhex4KFXnZXzed/rY6anwgapfyFTNOVxtICTOy6E9ve/hC30V+ck9QKfK1m0Stw\n",
       "0xJgssWlIci13qnncEYnGbkuRz5XQXQ+M+5Lm8Q8NJdxvXbJmXdmTsW40MvhipFvcl3BB1+GSX66\n",
       "YP2T7sNURdgMTFrJfqpH01gw1yG36U6sBX/i5+vcLV8/S/CQtG93YV2CVFZsDfLO6ynPFmG0/Iwy\n",
       "GRmTI5ckF5yy4B9hq5gH4DI8XFhQUAHDOUiYwmYtwaSm61yXACb7kKnw4YIfCHVKwmagIZP4dKt1\n",
       "vtW6zEqet3OvStgB7hv8mOV9yzrwY3sOSfucBKks2RrkndeTnu1QbEZlS0acAp8eb7WKaI6XOXJB\n",
       "PbYOxp6wZcwDcNnBEC528rVUwH0AYmOXwdguV2za+CZ0+Dpx1l7JF01h87bbSaTjE3fI2RnP5vUM\n",
       "yNxlWGAviY63beOeJrFB3nk95ZmHIhiFTRnlKGPJQORv9dhVSO1LW8Y8ABcPhnJBqqjqj28CtTtl\n",
       "lVicjDhGTjkHya4cbmK2qiSqNOKwOuM5FaS5q2NqFdojh7A9SO9KUKyxRbIUhHsnnsMZXdNXIrYc\n",
       "yPHkjnloLnjVqc/mF7FZS1J1rrh9dEw4ot6Wp8q4VJDNK229AxOWK425InzhSewbAEW6eR1gRRn6\n",
       "PiSaJynokGu9U886RrLhSMSWe2yZBF/MQ3OlG5AgIwHkcUG0RGxeeM7IVfJnk/LJRDfnvA0huGje\n",
       "VBcScsQWUwfukrGL82/jJFhVFd8D431pfwk/FUsUdMi13qlnHaNMBjvmCMSWh+ErVZ3EPDTXoz9s\n",
       "X3F44Y6cV6IlkyWuOAeM6eXf31JzY23eaTuCt6pbH3XdaTSma/c9qYYfmatPnIPi/Layb1WfmC5T\n",
       "0CHXeqeedYwyGWwKCsSWO6ed6iTmobka+eOqHJ78teL44C3JznDN6C77wl5pJ5uBr7S6txM/GPhK\n",
       "G0MkY+hrqFtUzIfApZVvbc3rrpM84Pf21xG++dGSqEuYQDDwEiaGSEbDCrs4IUJiHporQsQlDNzQ\n",
       "PRQIXsTlJ+a1YSB4I8p7zFvKnGb4h8U8CFfERBLXhvq77EDw2drMg/eCBmzHvUmPYPReTj9IzINw\n",
       "6YV1Ce+WQ/trJt+LCQ7310z+EP9OOUyu32z9D7pSNg8wCONSAAAAAElFTkSuQmCC\n",
       "\" style=\"display:inline;vertical-align:middle;\" /></a></span>"
      ],
      "text/plain": [
       "{a in Integers, b in Integers, x in Complexes, y in Complexes, z in Complexes, c in Complexes, d in Complexes} |- (a * b * (x + y + z) * c * d) = ((a * b * x * c * d) + (a * b * y * c * d) + (a * b * z * c * d))"
      ]
     },
     "execution_count": 17,
     "metadata": {},
     "output_type": "execute_result"
    }
   ],
   "source": [
    "expr.distribution(2, assumptions=assumptions)"
   ]
  },
  {
   "cell_type": "code",
   "execution_count": 18,
   "metadata": {},
   "outputs": [
    {
     "data": {
      "text/html": [
       "<strong id=\"expr\">expr:</strong> <a class=\"ProveItLink\" href=\"__pv_it/a9cac51fa567895fd7d071b8d9411a82f598d37b0/expr.ipynb\"><img src=\"data:image/png;base64,iVBORw0KGgoAAAANSUhEUgAAAKQAAAAUBAMAAADxUYsHAAAAMFBMVEX///9UVFSqqqrMzMwiIiJE\n",
       "RESYmJgyMjK6urru7u4QEBCIiIh2dnZmZmbc3NwAAABRgo0vAAAAAXRSTlMAQObYZgAAAgxJREFU\n",
       "OMtjYMAN+BJwyTA9YCAWcEY5IPGm4lYoh1PGdC2aAPsFJE4dbiOn45b6hMbnV0Cw2S7g1sezAZcM\n",
       "x080gf4JCDYLngDjXIDTMgc0gSNI7Cf4Qr0ClwQo6Pju3F4JFyjcfQnO3gvEsze+2IPqx9m3GfiA\n",
       "6s8iuWv3Zjj77Wl7YNB1PWD/APfP9wnz4d4NA/IPsHmzFKAYeaCLgRuoPh2R1JwYwuEBuY4hfgID\n",
       "5zIG3gCQaeD09pOBfwOUzeAEdMAEnp8cKEHKp3CdgRWoXoUBpoflAIMQkAJHwqwEhusMDLw/GVhA\n",
       "XpsPcgxvAcP8A1A2wwqQHpB2IF0OBgYgkdVgW+0ZYHruT4D4jwHC9mFg4ApgmG8AskwAErb9ClA2\n",
       "yEgGsHb0RGJvADUSrG4pRNyRAczm/MEAcpU+IlkmQC2FepwBrB0FAD2yC0i1wIP/D1LS+sPABAzn\n",
       "+QoM4vAsy98ADFqk6GGasJ+BewKKkawCDIEMyNHzDagMZuQnBsYCPQbWDWyOPDBpxgRWRJYBppN+\n",
       "hXiGZ2iuFOAAGsJwBy5wkYHzMowdzZAicICBU3rzwx1wl98+htAM9NvE3bOvoRVHnNJ7/wGpYkSy\n",
       "PJYNZ0/cbSfdgCeD4MqQwNBk4HRgIAdgLzbEGeY34Cs28IM4bIJuwADDW7jhBViL4O69BrhsIwLg\n",
       "rijY8FUUAFQTgSEQoxwHAAAAAElFTkSuQmCC\n",
       "\" style=\"display:inline;vertical-align:middle;\" /></a><br>"
      ],
      "text/plain": [
       "expr: a * b * (x - y) * c * d"
      ]
     },
     "execution_count": 18,
     "metadata": {},
     "output_type": "execute_result"
    }
   ],
   "source": [
    "expr = Mult(a, b, subtract(x, y), c, d)"
   ]
  },
  {
   "cell_type": "code",
   "execution_count": 19,
   "metadata": {},
   "outputs": [
    {
     "data": {
      "text/html": [
       "<span style=\"font-size:20px;\"><a class=\"ProveItLink\" href=\"__pv_it/a96d3f5c179ca9ec536852bca5f2ebc77a704f240/expr.ipynb\"><img src=\"data:image/png;base64,iVBORw0KGgoAAAANSUhEUgAAAW8AAAAVBAMAAAB73HI0AAAAMFBMVEX///+IiIi6urrc3NxERETM\n",
       "zMwQEBCqqqpUVFQiIiJ2dnYyMjLu7u5mZmaYmJgAAABN0h6tAAAAAXRSTlMAQObYZgAAA+9JREFU\n",
       "SMfVl01oE0EUx183m2Sz2axbURC1qJeCVWkR0SooqRTxo6UBqwehtGg9lKoNKJ4EU9SDiKIoaqxC\n",
       "FKkoHnKQgrbiBIoWpGR7qIgRG6EePGj9wBa1ijOzu9mdZHat3jqHzUx+8595M+/N21kAUN/A7Cr+\n",
       "EUR+lEcw24qwnzzVT1x2ebK/oy9P64MdRXB5V2dfzyH3gRf1TF7SXWnZwycdjTPTNh/k0xypy+e5\n",
       "ozfGIC2ajcdFcN4ohCHqOveuKRj+7Wq4vzWujH2YoXaKT++6Gx5JgRy/xZfDK4A78lK3uVVJA5hw\n",
       "NTzfjbv8mplWmOZTjuHqtmQPNRxBrV8vklvwNfgSLaWTmvRdAJ8dSXehauwAfp4touPJZJqjNW0r\n",
       "oaWG++tQod4gIkbuhCJqKAkBi+pryJHXXGjER2Isw9LmxcDVhnU+tQ33vRohGwHPbbtV7aMl766I\n",
       "F8G3at6sZRasXqg5qeJ0hlKhwVrk1A75nb64WR4jvQaAo4WNN1vjfNpLHhLxQmVNmCaXE7ZsULGO\n",
       "X3ZA+cpCJTpo1VLqhVDaSX2pZfYgstAGSxjtBsHhi/VxkWilGp5W2AdNiE8nyOMoXrNyCCLUTEeq\n",
       "OFUQHEfwmYVSzDJERvK0UOOkPt0x+bpIGuoZ7Uan4ddAIntqZS9W+zRvpD0OJSHUfJEE3jSEyHj+\n",
       "zn5cjPXqVZYgB8oPFq4SUtaOg2jYVKBKdI89OQpodNG2dtCfslOXeep3E5gu1o4hvDAXehpbW4l3\n",
       "PBCFLAk2n72pNFHfN9O4MMVCkuFlM2rnGDto0wHJEafVyP+NoWGUKMCA+e8a4GnbQfniQsNkDAmr\n",
       "syk4Tv9pK3Siidpo/ja3pgBphg+YjdYYsNIPdHhkeausjaGqnqCOoofH3PwAcLTYy8FPLnTCyirZ\n",
       "OJwJkkgdKcRToha70pjuCwk3J6z14clf0GoQLYEyxFBxLvaBkDYaW0FMMBTqSKCuMJyFhyUxHtE4\n",
       "WmUK543DfNprGS5q6lWZNEJxR6JWzkWVn7h+DoyrRQGSDD80Dlk8RHW8CTaxFHLb0bN6RKXwEqrz\n",
       "LI08uK8caaDiSAKGqb+uAEdbB+8TKR515HGle37tXLrMkyuNLpU72uu72nVI4m7DC42kbUGhva9+\n",
       "y2QjhK7jtFyeecNSfBJzXTewPUSK+VgNS6Gl7/soUDHc+2js5tBmVKodKt/ZvZRLea984bbxZrZK\n",
       "EHnAYzADaY5PWXHVtmTaddoSahre5nX1lb1gCv4mldJGZvhXsex9Ib/rfh+3SsaDFd9HONJQXtT+\n",
       "R5zxNtzwoucXUN6Dqd6jE6lQPvpf4rz3F9BeI55m5TfnH/NTbQYG8utZAAAAAElFTkSuQmCC\n",
       "\" style=\"display:inline;vertical-align:middle;\" /></a> <a class=\"ProveItLink\" href=\"__pv_it/c888f4760c41d8ed064085b1db62a97f3ae149bc0/proof.ipynb\" style=\"text-decoration: none\">&#x22A2;&nbsp;</a><a class=\"ProveItLink\" href=\"__pv_it/fa771f1cb6c15181eeb6b81da5ef35584772579b0/expr.ipynb\"><img src=\"data:image/png;base64,iVBORw0KGgoAAAANSUhEUgAAAjQAAAAUBAMAAABolrovAAAAMFBMVEX///9UVFTMzMx2dna6uroQ\n",
       "EBCqqqqIiIgiIiJmZmYyMjJERETu7u6YmJjc3NwAAAC+aOQFAAAAAXRSTlMAQObYZgAABGxJREFU\n",
       "WMOtmE1oFEkUx1/syWQy3TOZ0wYEJXfBmVvMQZhL0Fv2IOyuusscPekYlZCTkYV4UkYDBiKy2eBh\n",
       "DRL1ILLCxvYg0eQwc1NzkBE86GEhbCQLEsWqro+u6qp6laAPXvJmXr/3/810fUw1QLkDbnMk/9Vf\n",
       "5rvMnWZL0taoNmqnvVBeYpQ2uWBNfz96OKW8WrPWRvczb+znbrcDv9iSaz5tt+152Orp+qDWfvYR\n",
       "o7TUlzKpYkt5sWStLma5Vrk7bMuWXPJpIzbQiOa9UHd8xCgt8VLLkE1jPZlv8uB1tlvQZG633LYl\n",
       "SVuj2piNxTDshdpSYisxSku80DVlpelJSXHVGMw/MrdbMGVJ0taoNmaHAJ75oMhHTM1KjNISf2+R\n",
       "laYnBUXZXBFuc7fPv5Yl+d5on9HGjMyVYt0DFShvOIhR2tswSStnZk/K1J8TN2RMkytn351rahR9\n",
       "yjxYmYUyqR0B5gJrYlzGH4arDS2Ztka1U91Mx/LMOJkrQQtMqA8jF+S4Kw5OyunpIEZpR+Af8ne0\n",
       "W9yQI+1T3JbjnCSjWulyYV6jCJUttzYKfaR2HZhz+Gl4LMf1b/Ak5slgMbEWb41qK7qZjqPdkMyV\n",
       "0jwYUETrnoRo342+iNhBjNKuwzSh+BX66eYWJVLbMNDkMU0GcbCd62oUhXSxLDfmICS1p4A5qyvU\n",
       "4AcRP+vAnEiqNs3cqS11Y6UjjWkF+VryU2BAEa2bIErOxPC/LLcTG71V2lNwDKB/GwpUoE1vBJFt\n",
       "13hMk1HSKLnjfx1fXKyQsJdM89Xk/i9E8FPyaarAnNX9wUa1iH8XSdWOMXdqC93oE8iOSUwryEV7\n",
       "NkwoctVlWTIH0aaIHcRGb5W2SvF670N7iH59FbYKjTV4nPAnjbQb1FvX9oHqkPLVJHUn+I1kcfQR\n",
       "+Wrc2kL3EqQdaUwr6vyryUARrf9kyR3IbYnYQWz0VmmrdFCTO3Um/WnRETedj/qkkWtC0Rt9gfw7\n",
       "yp0tE5vKJrkJ+Q2R5GtNRZlQbu1UV+/IK3LmhBJazD7T8QUoMUp7lC6F7QbslYeKgTqZzMoynI8v\n",
       "Ql/sXIbDCjyA7DL8mVwrxLagZ/60mkxbo9qKrt6RV1iWYaHF7CNdOAAlRmnX6T4VNkuXAnFhTydM\n",
       "dzqSHGs8EWczQREoW2F/JUdawwx3Ztcgui7iR/CqUlOTaWtUW9HVO/KK/poJxbWY7YO/0+3ZTozS\n",
       "ztCxEw2Ovz0vx9Ts4bQNST6dWLnV0Slyyg+oaHCSbpEL3DnJ4ZcyfjpxcLCuJtPWqLaiq3fkFcUh\n",
       "E4prMXtxLi13EKO0C+aP9eyved9Bge6k0RRzp5lJ60FhF/bce3oB10FBEKO0xEvYYVdPRrF5WNub\n",
       "bBf48dJ6mrMeL3dhwwiUaVZilJb6MtbSngzTu32FTE/vQwlrchk82qiZDyVCbAhaiVHaVefTqp0+\n",
       "yjoyObSTj7m8o0dZu7DQ+yjLT4zSLgN8jwegpS5z98T87g9A33zbA1AvLfGvi+vhpXKIS4UAAAAA\n",
       "SUVORK5CYII=\n",
       "\" style=\"display:inline;vertical-align:middle;\" /></a></span>"
      ],
      "text/plain": [
       "{a in Integers, b in Integers, x in Complexes, y in Complexes, c in Complexes, d in Complexes} |- (a * b * (x + (-y)) * c * d) = ((a * b * x * c * d) + (a * b * (-y) * c * d))"
      ]
     },
     "execution_count": 19,
     "metadata": {},
     "output_type": "execute_result"
    }
   ],
   "source": [
    "expr.distribution(2, assumptions=assumptions)"
   ]
  },
  {
   "cell_type": "markdown",
   "metadata": {},
   "source": [
    "### Mult.distribution must be updated for the Sum case."
   ]
  },
  {
   "cell_type": "code",
   "execution_count": 20,
   "metadata": {},
   "outputs": [
    {
     "data": {
      "text/html": [
       "<strong id=\"expr\">expr:</strong> <a class=\"ProveItLink\" href=\"__pv_it/69dc066dc905243e1b65c8a7e74ffedbfd81bfec0/expr.ipynb\"><img src=\"data:image/png;base64,iVBORw0KGgoAAAANSUhEUgAAALUAAAA/BAMAAABUVpQkAAAAMFBMVEX///9UVFTMzMx2dna6uroQ\n",
       "EBCqqqqIiIgiIiJmZmYyMjJERETu7u6YmJjc3NwAAAC+aOQFAAAAAXRSTlMAQObYZgAABHNJREFU\n",
       "WMOlWE1oE0EUfkm2zd+mqXooVMRcRG/tRfwBMR4EBSEFxR+ompsnTf1BKQpGsHopNChY9GDbS7FB\n",
       "bS8qUqqLUKhU2HiwCoKN0IonW9tqraZdd2f/5m12lg0zh+zMzuyXmfe+9723C1BD+6hfhKLj/kHg\n",
       "bvV5o7PLMRHv4MaeTRmdQceEeIQb+7bZWXPO7C9zQof6jU5w+byEp6L9nNhzaaMT7g4XHEb5zYk9\n",
       "arsu4dzndk6WWFauS0cbHZMyH1NiI2YvKdVlnb6ocGG3lMxeRPrsnGxY5cLebPWCG1qrZos80OJP\n",
       "z+nrPAxPLHlOy60c2PF5b0+3cWAnR7yDdgH79m5vu3/sjPehhWWHwMTm/WPvTXu7+h8anYToiH/s\n",
       "YSJPw4rd8E67kHZVIFJDpP4hvzlF13Bx5v3pX5j+NAnrRkBO+YZu0M8cVfIWKXtQ4F8vYUbmalCq\n",
       "Ff3a85Mh2tO0r+UsNNf7jqawYd0Wxd7fHcSjRpRAEzdC2mlLDLhzyDuG+icUO6ElUOagTyE2Xfh6\n",
       "Sb1OujHqmWrWAH2ogBnyr/9UrySx5RaYT11DWE1aIr2TmLndcaVQtZJQwyVWEmjpGTPCNQ7soFll\n",
       "ir+g4NyYzDoWUC1SdsPOaJEyTkNY29r7CyX5jDGKrFVjfwc37J3kuGk37JiCuLcT2NidSLVM7IEr\n",
       "91RtK7hhi6cX6eeH4OxD8pcL1dhjSLUMbPGvJJeBrhRsbDXu03RlEp4huTLugn0LqZaBXV+BZIdR\n",
       "W+r2lG2KRRVKmusr10QSIHGdpCKNfcRWrd3FYlexOKCHsyoJwXlyBCc29FBGiZ4wQ1HHlslZiU7O\n",
       "a9iUap2xSJvJ6thwQ3+Gou9cnqJZ0wuEHWnENqFUy8BOlqBPAiHvam/4QNFWThtlIsOXlGqZ2GnV\n",
       "ByxfCjTKtPp0Kwt7l61aNnagFFf5F211xW6hdXsjJFNkWcQF+4CtWhQHe/doW0m5xDyIx+jHn0O4\n",
       "V2LFjnvMkzZBL6s4xcnRsFZNHq/Wqnf0gNYqOzRGGfUL1sEh8vuKWRb0u+QGCHXbcYOKtjx6WF8+\n",
       "yazSaGuFV6sJOIVKaFSPCLoJmTntC8rFi1UEFFCmySHbhvI1lINBI7/PWQQU+wrMGgJiTZ1Z/+C6\n",
       "rIiHzfG3zQqqbvrQSH4srvnH7tH387dIWpeqRTgpD6NRToJl/9j6vvqY9SD+pwcgLvrHzpW8/bHi\n",
       "oLdQw+us3Ohdd2GoVS0p+G4Rb1YFcFguwXiphi8F3n6vw6X8JnhZA8EbvP2ewdt8e7GGbQM8ImY9\n",
       "xnqzlXheXqcJCW8yZle43rmTWnoRGd5PLPB99tGqEoHBlhjnhx9NSkKFrSbPxd5mW0IyKT7sadVd\n",
       "salDlcCo2sZgItUiOdIMx8cZ1eDJ9dbwPmyz1b2dEzuoRs+Wq5YsH4XzduSUOLHhE8DVYFs5oIns\n",
       "E1Wfx6zMvY7722OgAC+CefNd+lRwydxtIs+NDYPqi1eTyYh9lztN7NkyP/Ybxv0f7rf/AyfWaX99\n",
       "z2/TAAAAAElFTkSuQmCC\n",
       "\" style=\"display:inline;vertical-align:middle;\" /></a><br>"
      ],
      "text/plain": [
       "expr: (a + b) * (Sum_{k=a}^{b} k) * (a / b)"
      ]
     },
     "execution_count": 20,
     "metadata": {},
     "output_type": "execute_result"
    }
   ],
   "source": [
    "expr = Mult(Add(a, b), Sum(k, k, domain=Interval(a, b)), frac(a, b))"
   ]
  },
  {
   "cell_type": "code",
   "execution_count": 21,
   "metadata": {},
   "outputs": [
    {
     "data": {
      "text/html": [
       "<strong id=\"assumptions\">assumptions:</strong> <a class=\"ProveItLink\" href=\"__pv_it/e9c6f13d3a27e0e9eeef33ae50dbbb201c3d8bb90/expr.ipynb\"><img src=\"data:image/png;base64,iVBORw0KGgoAAAANSUhEUgAAAK8AAAAUCAMAAADMQZ3xAAAAOVBMVEX///8kJCQNDQ0oKChUVFTM\n",
       "zMx2dna6uroQEBCqqqqIiIgiIiJmZmYyMjJERETu7u6YmJjc3NwAAABfYoQ1AAAAAXRSTlMAQObY\n",
       "ZgAAAjtJREFUSMfNl1lywyAMQGnLvgm4/2ELku1iG1yayUeZTNIEP6FdlDHGcmL/bEkY/GgyfUJc\n",
       "lKKcLjoE7YLuLYSo3XvJHE7K2yRF+4OTwiEv6mujb1wVdrEw+PeSXPWPmGqYazoCmpH8apS8RHMN\n",
       "k+q8UcxbydwblTSigTxd39zcvSm6uo7g+JZVmTNxsVAVeAb/QKJ7RfclcsxdfBCq7nmaeyLagbQI\n",
       "7XWuDrcCrpB397LCyTAMRFDM7iZnL73VPwIhjA5NlqVrOwncWm9+AVfIza7evVA86WvRPs/iJkPp\n",
       "mhehdFEZ5UntJbd2AqUqCCU/ggukDLi+Ptv74cWCqS9I3xSYI/MAG43vJA67XE2tmzqUWyRwCi6R\n",
       "d/dWfT3pi2obxzRVrEfU/aBCh3119eGZkrfiD+gq+QQukYTzSwj6fBBl11dH3BSTrN/zbfdeP4Aw\n",
       "duroTENwiST3XoJQtv5gNn0pH8hI06Uv04MxeTTQfrOkIz4zcInE/P3YonN4OaKZiR5Sbqs3QP15\n",
       "OIZ0lWNvjYa3F+6dTlV7+s/AVXI0bPt50epNUiXGekhynHW55MykgQJPEYt7q6R6YOwHwQ1cJlua\n",
       "X1eTBlrsc1JRy4baCUXmtpuXwKPqO6nSMegYY7264CHO0S54K08+uoLrJBu0bpDW7hMviMd5rGQ8\n",
       "jdVrO4IXwSlpnu8y4P5037kVEXs3GeAZs6MOsrrAvqrujDTPHqD75Pp9/Vq5L7s3vebe3bH/5v8h\n",
       "9WxlU/cb5TwfOlHlzCUAAAAASUVORK5CYII=\n",
       "\" style=\"display:inline;vertical-align:middle;\" /></a><br>"
      ],
      "text/plain": [
       "assumptions: (a in Integers, b in Integers, b != 0)"
      ]
     },
     "execution_count": 21,
     "metadata": {},
     "output_type": "execute_result"
    }
   ],
   "source": [
    "assumptions = [InSet(var, Integers) for var in [a, b]] + [NotEquals(b, num(0))]"
   ]
  },
  {
   "cell_type": "markdown",
   "metadata": {},
   "source": [
    "InSet(k, Integers).prove(assumptions=[InSet(k, Interval(a, b))]).generalize(k, domain=Interval(a, b))"
   ]
  },
  {
   "cell_type": "markdown",
   "metadata": {},
   "source": [
    "InSet(Sum(k, k, domain=Interval(a, b)), Complexes).prove()"
   ]
  },
  {
   "cell_type": "markdown",
   "metadata": {},
   "source": [
    "expr.distribute(0, assumptions)"
   ]
  },
  {
   "cell_type": "markdown",
   "metadata": {},
   "source": [
    "expr.distribute(1, assumptions)"
   ]
  },
  {
   "cell_type": "markdown",
   "metadata": {},
   "source": [
    "expr.distribute(2, assumptions)"
   ]
  },
  {
   "cell_type": "code",
   "execution_count": 22,
   "metadata": {},
   "outputs": [
    {
     "data": {
      "text/html": [
       "<strong id=\"expr\">expr:</strong> <a class=\"ProveItLink\" href=\"__pv_it/8b85695e0bb0d9ba06a35d93c3e0be126a032e180/expr.ipynb\"><img src=\"data:image/png;base64,iVBORw0KGgoAAAANSUhEUgAAALYAAAA/BAMAAAC/YS8nAAAAMFBMVEX///8yMjJ2dnaqqqpUVFTc\n",
       "3NxmZmaIiIhERETu7u6YmJjMzMwQEBAiIiK6uroAAABWQA0ZAAAAAXRSTlMAQObYZgAAA8RJREFU\n",
       "WMOtmE1IFFEcwP+zX+7suh92kAhq145htAfpFq0QRR+glyAiUiE0umgmK0GxewgqL86hssDYrYuX\n",
       "wjkERSBTiIQEurdIrCykIIzdLM01ddqdz/fezM7We/0PM2/n//Y3M//3/3oDUEMCfer5Y5RQfAZm\n",
       "OaCdXZ2Ewt/Hiva+1gZcgtDwM6zskP50kXZStdTOyG7SB9LgUULlizKaZEsfXRVSpFF+sLH9GX10\n",
       "HR6QymY29kHDpjNwjlRm2TxluzEqwSSpdJVY0MF1Y/g2kLEsxjoL21M0hk92W9UNLOxs0lGdZvHw\n",
       "8QXnW8cZ2MPOau4FA3vNWe36TY8OL9fQ/6Jnu7ac9fwaPZtTgoOTEcFDcZ6eHclXjm5ZM+vtrydk\n",
       "fPXa6J2wQw3F3k3jymM896Vz9JlKrWMh2QyhLtz/6R08rVo3KJuJwyeiEwpJanavViPHZdOumBU6\n",
       "6EtPmxbyfjlfZbHpAzOmPS4/u2o/ob5IzZ4VdLvKCXs2fXWQjQCVp+07jBV2NsS+U7HD8wvP9fFI\n",
       "D3in7dijMurJIwNn+xX35NBE+G0mmCNAd8e6jUoYX4K6oh3bLSNpi48H3oQU7/MjbH4odR4IkACn\n",
       "FFWluCa61I6EV2dvIK6+IZjpUXCVwooL+dU78urBm7GAgjeV+hStXH4FkT7tB84OIUbhjZZIY6vT\n",
       "4ZlgAS2qf66Eb7gEkqj/AF5G+oVNLGb6MLY6PZy0gNxJrH28YusnEJhC2ZKWVbC1bAELaD+AQfcn\n",
       "4Zo9u4DkKLeQhjqBZLs7wQM4KDi356LRKfiS4XVbdhDN24XEMJxW3x9hTzwc2wU4yAePzEv8kdSK\n",
       "XczDKFrLbg2OXMhZYqcz8HKhGsimYf9gsBv/OVdZOv9WyKKd1LBoacOJHFuNTYAqMldu4W1qA+w1\n",
       "AwdLiNkqeZ0EVeRLSrQrtYgDBjC2VOV9SJBdLY5bHHDJrljTiKQ6vtd0wDur/6uHiKhrPaqnEm+L\n",
       "jHeXvSI1O6S6QaxBkZ2z5Z4NX7wYfc/mU57SV70f3KRnu2tsloKr9Gz+p7O+jmVn/O6vt3H/Lvuc\n",
       "e+D6DAO7w3lXXcgxsLm8c78oMLADzhsxBjcpyzLDnWtJc/mtXamnx3Wn7GlFopxj+/BTX04llz3R\n",
       "954bZRmC+6Ik2NdnGoOXm2CRM9yhGyYQZSPjt7Bt2Ce2SRhAMsI0I1sqcyUQPZVEuINfgaF7pr1y\n",
       "jOxA3ltsAj2BTwW3TOAhYJXD/LFP/foCLl5K5cy7MrO5RBXFmXZmNl/N0U7W/Osf2MsobSqDH4QA\n",
       "AAAASUVORK5CYII=\n",
       "\" style=\"display:inline;vertical-align:middle;\" /></a><br>"
      ],
      "text/plain": [
       "expr: z * y * (Sum_{x=a}^{b} x) * z * y"
      ]
     },
     "execution_count": 22,
     "metadata": {},
     "output_type": "execute_result"
    }
   ],
   "source": [
    "expr = Mult(z, y, Sum(x, x, domain=Interval(a, b)), z, y)"
   ]
  },
  {
   "cell_type": "markdown",
   "metadata": {},
   "source": [
    "expr.distribution(2, assumptions=assumptions)"
   ]
  },
  {
   "cell_type": "markdown",
   "metadata": {},
   "source": [
    "## Factoring"
   ]
  },
  {
   "cell_type": "code",
   "execution_count": 23,
   "metadata": {},
   "outputs": [
    {
     "data": {
      "text/html": [
       "<strong id=\"assumptions\">assumptions:</strong> <a class=\"ProveItLink\" href=\"__pv_it/aea3b39d29d22e4024712c6715f5aa8d9a4ae15c0/expr.ipynb\"><img src=\"data:image/png;base64,iVBORw0KGgoAAAANSUhEUgAAAeYAAAAUBAMAAACqkINaAAAAMFBMVEX///9UVFTMzMx2dna6uroQ\n",
       "EBCqqqqIiIgiIiJmZmYyMjJERETu7u6YmJjc3NwAAAC+aOQFAAAAAXRSTlMAQObYZgAABFdJREFU\n",
       "WMPlmF9oHEUcx793t7nL5fY2iy/BSsvhn4cicgcW/2CFSAkVEZoHwWAq3RdBsdCzfwgpghVpjdXC\n",
       "YR5CA+IhLdgadItKGht186BHkocEoUgrxQv2oRKEgm1aJQnO7M7O7czuzMW8dh6Wmf3sZ+43f3f2\n",
       "AGsR91LKNsllPonkPv9qYCospL+tSfjoydsf1jQVC3o86XW9rKPG8dvnB84GYzg/oIDbSP7LBDld\n",
       "dsxPr/BityPiB1cwu6Zps6TLSa/rZS3NTZVQL7DCOQWcA4pJP77YQ8A/vLjHE2gxVQV+17RZ0qXU\n",
       "RtfLWpqvIOPsYIUVBcxU0dmM3P9tZKROoyrtJdf7+e2nBIpfOkgfpOJBFy+OnESCLuFkXS+3qZpF\n",
       "lvewlGYVG6uSGkKzHzci6qNvsy6xXHJt8PvnBIraMrmY1di0m/SSdQkn6nq5TdU8MmC6wJ7MHJNU\n",
       "Ds9gmBaeHCrROCYYm0lHRsEaPehPE05Ne3uLNsaQrWdp52POS9Ibb10/VI1iWbc0snG89zE1tUbH\n",
       "9gqRkUGtXmO5rp5hR1A5fBrfk+sNp0CnRiqc5n8YkVHoaxb8acKpVdndopXXULCNWzS7DQm6WSm+\n",
       "31mPYlHvQ+6mUsb8r6ddNe1rdt0UIiOC6bLcwoS5LqgcXsUJcn0PKdon4Y6HP6NBv4q8HzOnVq0V\n",
       "tOWMo3sRP9C8m6RnvMyq0YxiWS+4ShkelqGkNDJXiAy4j7f/gIc7gsrh63iJLBK23B85TxJt33y6\n",
       "0truVtFZEajpPtT6XbyMchN0wqVfoQ9A0k3WphaW9e6qUib3p6GkNLKqEBmM2q6QjsP8W1A5LNM2\n",
       "d7C+WA6f7/JsXjOBC70CxUQqsuLWcYRMUTpmbpKOoE1RLOirKJc08nOSK0dWEiProsO6k+27xoqg\n",
       "climc3uB9V0HX+w12x8Ef11UcECkuJIK5p3f2XVcgOV3Sn+SjqBNUSzpR6CWszbUNCGyJzK94cNr\n",
       "bPr2x+DzdA8jCxJ0Pef5WpmkS+6FoGYHW/wzaosWDpOsUQ/yNtkNcn52DAl61nsHOU/Akn5BLeMN\n",
       "wFbSeGSWvURKQStv4adFQeXwKtm5kbcx6w/GCb5UvthpvjmNBRJYoVp8NwOBYvxr7+dLnvkvPdHV\n",
       "jUE87N/tdBL0Pc6P+EvCET1vG2tqOX3q2aO9ShqPrOBNw9zq+jVvxZRYMYPAKBlp4PFrQU/NfBO+\n",
       "zLafvfsxef4jMo96Di4dlmh6fN8HpJNGaPn00Myh4FRvPvAiYvrMUOMTGUd0s2d4XS3ncfmMmsYj\n",
       "6/tu8NK+wZpf86wcVQjxmXj23HUxOF2Gab9w3JFp1pO+XJ4JTnkKXcaBnq9vRG5TtRSZEJismseS\n",
       "vzH4kUH7KZpp963aXt/CXgr/W65sOjDyjRGcJ5JT/EwtpEabJm9AP4XJTcl6qg1sTvWfAXsz6NvU\n",
       "7g+WDei7h0ubkoubD4yO8T3231Cxif8AWjfMcJSHh/sAAAAASUVORK5CYII=\n",
       "\" style=\"display:inline;vertical-align:middle;\" /></a><br>"
      ],
      "text/plain": [
       "assumptions: (c in Complexes, d in Complexes, w in Complexes, x in Complexes, y in Complexes, z in Complexes, a in Integers, b in Integers)"
      ]
     },
     "execution_count": 23,
     "metadata": {},
     "output_type": "execute_result"
    }
   ],
   "source": [
    "assumptions = [InSet(var, Complexes) for var in [c, d, w, x, y, z]]\n",
    "assumptions = assumptions + [InSet(var, Integers) for var in [a, b]]"
   ]
  },
  {
   "cell_type": "code",
   "execution_count": 24,
   "metadata": {},
   "outputs": [
    {
     "data": {
      "text/html": [
       "<strong id=\"expr\">expr:</strong> <a class=\"ProveItLink\" href=\"__pv_it/f0304ee0ef023746bc3b0de3653f24a557ecb5870/expr.ipynb\"><img src=\"data:image/png;base64,iVBORw0KGgoAAAANSUhEUgAAACYAAAANBAMAAAA3eAFoAAAAMFBMVEX///8QEBBmZmaqqqrMzMxE\n",
       "REQyMjIiIiKYmJh2dna6urrc3NxUVFSIiIju7u4AAAA6P00QAAAAAXRSTlMAQObYZgAAAJlJREFU\n",
       "GNNjYHh7Z9fNCwxQ8FaXgVuOgW8CRy17AkxswkIG3g8MnA84/3FtAHIfADG3gRoDawADH4gAAr5v\n",
       "IIJBloEfZBA/xLQaEMH1j8HfAUiDCShgSmC4yMDA/OA+A+8DmBjrAYYYBob1BvEMOxDqDnD9YGB4\n",
       "c/etRgNcjO/spd8MGIApAV3kGMP7BehiFQyxGDrXXgI6DABJSSdo7aLCzgAAAABJRU5ErkJggg==\n",
       "\" style=\"display:inline;vertical-align:middle;\" /></a><br>"
      ],
      "text/plain": [
       "expr: x * y"
      ]
     },
     "execution_count": 24,
     "metadata": {},
     "output_type": "execute_result"
    }
   ],
   "source": [
    "expr = Mult(x, y)"
   ]
  },
  {
   "cell_type": "code",
   "execution_count": 25,
   "metadata": {},
   "outputs": [
    {
     "data": {
      "text/html": [
       "<span style=\"font-size:20px;\"> <a class=\"ProveItLink\" href=\"__pv_it/1e4dd1f4d7cdde8fa8b9021b5f8953930f2b8bc00/proof.ipynb\" style=\"text-decoration: none\">&#x22A2;&nbsp;</a><a class=\"ProveItLink\" href=\"__pv_it/a830dd592962a3282b4b621d1451e1230a4949770/expr.ipynb\"><img src=\"data:image/png;base64,iVBORw0KGgoAAAANSUhEUgAAAIMAAAAUBAMAAABc0JOuAAAAMFBMVEX////MzMxUVFR2dna6uroQ\n",
       "EBCqqqqIiIgiIiJmZmYyMjJERETu7u6YmJjc3NwAAACgK8IjAAAAAXRSTlMAQObYZgAAAatJREFU\n",
       "OMuNlD1LA0EQht/kTvN1ifkHSSdYSDqxSyPaJYVgY5HSSg5FwlUJFrESohZCQDzBykIkjYWoR0Ai\n",
       "WpjaQlKo2AgRBEGiOHNJTLK7Bxm4HXb22bnZmZ0FYg3IMt6UbUpwlYd7qGRaNilBP//rVOniTjYp\n",
       "QcMGomWlC80ULR7gDBBsKleMrGjxAG+AN6jlWDR4gOE0LFL1tef1/8Dr+4gtA7MiK4KGZeLFgVbG\n",
       "JU1S0a2g3UNTcwi0gEc3IyeuuFkQQU3PokApslGiiaO1dT6pw9XPVRA5A1bEKETwNWTjgm5QEYvk\n",
       "3N1D+psHLGGCgk2ILkTQGTPxBfhavAJ3D8kmD3obibjaxTCYcXwfrosSz3hPTyi+DVILA7lIdg8y\n",
       "DFYQoMrrRc7SuFNAwOmtRJKoopvOQZHAKqOcTipeJneN934USf2H1J7oQgJ3kaHGC6U44Fq+ftDv\n",
       "QmPS+iV1JLqQwFr+kKoTjqvuLWUDRnGEC16h71bRPVN4SI/SZn7b+Oy0Ga4EdBvn6mYXwGAjYnaa\n",
       "XXpJ5q24wrEM6vkdrl/T6z2LjvrwPQF/deaC+RRMq84AAAAASUVORK5CYII=\n",
       "\" style=\"display:inline;vertical-align:middle;\" /></a></span>"
      ],
      "text/plain": [
       "|- (x * y) = (x * y)"
      ]
     },
     "execution_count": 25,
     "metadata": {},
     "output_type": "execute_result"
    }
   ],
   "source": [
    "expr.factorization(x, 'left', assumptions=assumptions)"
   ]
  },
  {
   "cell_type": "code",
   "execution_count": 26,
   "metadata": {},
   "outputs": [
    {
     "data": {
      "text/html": [
       "<span style=\"font-size:20px;\"><a class=\"ProveItLink\" href=\"__pv_it/fce0a5aba45cfa9a01332f9ad4c2736472213b360/expr.ipynb\"><img src=\"data:image/png;base64,iVBORw0KGgoAAAANSUhEUgAAAIMAAAAVBAMAAACXjEALAAAAMFBMVEX///+IiIi6urrc3NxERETM\n",
       "zMwQEBCqqqpUVFQiIiJ2dnYyMjLu7u5mZmaYmJgAAABN0h6tAAAAAXRSTlMAQObYZgAAAadJREFU\n",
       "OMtjYGDgu8dALmC9eABE8exiIB8wpYJIvg84pKVnf5tyAadmqOxtEJtrAnY1od8Zzv7DaQRMdiUe\n",
       "I/g4BBgY3uMyAi6LzYgnM2duANFP2YAhxYFuBIYsFiNCZKCMCyagoBZANQFTFm4Ej2Cz4kJw9OyB\n",
       "quFpiEXoPHiRgTkHu+wyEMEBdNkphpcCs8EcA6gU8wJFhBEL1BgYP2CXfQ8iygIYGNYwrD+gDOKw\n",
       "wHQxX0AYwVxwm4HFAbssNzA8QiYDGQcYXCAiYbuBABRgPA5RcCN4GBIZ+AVwyHYCJdQCQKyPEAET\n",
       "uL49HEhp8A9DfAB2We4GkAdBTmT9ChFhgyt6C1YEzgIMvBsYxHDIvofFSA0wtMDxxQuPRRYhIJNp\n",
       "A4TdwOCBQ3YZ1Aim7ywfmB+A5abDLbrtdeC4ywGe3yCtDUz/sMoi0gVPo4zsO4jUCacDsIx8O38u\n",
       "MABmAvk8jbKfsctiTeBanpAkDAPsB6ChgVUWakQC3hKBC4i7Gc4r4JBeibe8gCZuIJ7H4IhLGlxe\n",
       "MOAvtUChrCgbgKvUSoL4lsKyEwASs41l9rj/dgAAAABJRU5ErkJggg==\n",
       "\" style=\"display:inline;vertical-align:middle;\" /></a> <a class=\"ProveItLink\" href=\"__pv_it/9c97c4b24ec6cbdf53da49ae0fd40a5b72a4190f0/proof.ipynb\" style=\"text-decoration: none\">&#x22A2;&nbsp;</a><a class=\"ProveItLink\" href=\"__pv_it/e9dbccbfa3aad0264d90bb136cea4d5ee2873f630/expr.ipynb\"><img src=\"data:image/png;base64,iVBORw0KGgoAAAANSUhEUgAAAIQAAAAUBAMAAAC+DIjXAAAAMFBMVEX////MzMxUVFR2dna6uroQ\n",
       "EBCqqqqIiIgiIiJmZmYyMjJERETu7u6YmJjc3NwAAACgK8IjAAAAAXRSTlMAQObYZgAAAaxJREFU\n",
       "OMuNVD1LA0EQfZozidwl5h/cdYKFpE1nI6ZLCsHGImXKQ5FwVYKFVoKaQgiIF7CyELGxEOORJqBF\n",
       "UqdKoWIjKAiCRHF2cx9hbxecYveY997czOzOAtkB4pYcxX1q4iNkthx3qYmXUuQh7lISM4dSJGGL\n",
       "HjUxPZIiRln0qImvkNu56FATHVp7W0/bYeK9E2Q3gYJIJaLh2Hj2QuJEVcAdIfnMftoNkPwqUu/A\n",
       "kBd6wY13gYgJrYx6WIGvGmKPEC8x1lil7AfZSgv6FVAVsyDiy7yLW6bm4X1VFevMwzS0f3N4AwuU\n",
       "nymGIKI3Z+OLPvsuIpXJEHAN2S5btDHMnDwESt7MBzscC5HKZPmBawKjZHdoK071wvILQQupqcOe\n",
       "qIqsS0mvjlTYaN3CNfx2ThsRCdCtcDp81ZAdXqlyj7coC0v7oa0phmCnfIxSOGuBqskS7tZ6p9EU\n",
       "GovOL21tMQSrrFs7C+9ooGrL7i11A0ZDfsFbsQveiE/PEvorijGbdY1P2Tx2BN8BbuTD3kF6oNuy\n",
       "V0F8SdacHOKBOVGrHUkCK96zzH8fPiL+AQS4gUbcXCybAAAAAElFTkSuQmCC\n",
       "\" style=\"display:inline;vertical-align:middle;\" /></a></span>"
      ],
      "text/plain": [
       "{x in Complexes, y in Complexes} |- (x * y) = (y * x)"
      ]
     },
     "execution_count": 26,
     "metadata": {},
     "output_type": "execute_result"
    }
   ],
   "source": [
    "expr.factorization(x, 'right', assumptions=assumptions)"
   ]
  },
  {
   "cell_type": "code",
   "execution_count": 27,
   "metadata": {},
   "outputs": [
    {
     "data": {
      "text/html": [
       "<span style=\"font-size:20px;\"><a class=\"ProveItLink\" href=\"__pv_it/fce0a5aba45cfa9a01332f9ad4c2736472213b360/expr.ipynb\"><img src=\"data:image/png;base64,iVBORw0KGgoAAAANSUhEUgAAAIMAAAAVBAMAAACXjEALAAAAMFBMVEX///+IiIi6urrc3NxERETM\n",
       "zMwQEBCqqqpUVFQiIiJ2dnYyMjLu7u5mZmaYmJgAAABN0h6tAAAAAXRSTlMAQObYZgAAAadJREFU\n",
       "OMtjYGDgu8dALmC9eABE8exiIB8wpYJIvg84pKVnf5tyAadmqOxtEJtrAnY1od8Zzv7DaQRMdiUe\n",
       "I/g4BBgY3uMyAi6LzYgnM2duANFP2YAhxYFuBIYsFiNCZKCMCyagoBZANQFTFm4Ej2Cz4kJw9OyB\n",
       "quFpiEXoPHiRgTkHu+wyEMEBdNkphpcCs8EcA6gU8wJFhBEL1BgYP2CXfQ8iygIYGNYwrD+gDOKw\n",
       "wHQxX0AYwVxwm4HFAbssNzA8QiYDGQcYXCAiYbuBABRgPA5RcCN4GBIZ+AVwyHYCJdQCQKyPEAET\n",
       "uL49HEhp8A9DfAB2We4GkAdBTmT9ChFhgyt6C1YEzgIMvBsYxHDIvofFSA0wtMDxxQuPRRYhIJNp\n",
       "A4TdwOCBQ3YZ1Aim7ywfmB+A5abDLbrtdeC4ywGe3yCtDUz/sMoi0gVPo4zsO4jUCacDsIx8O38u\n",
       "MABmAvk8jbKfsctiTeBanpAkDAPsB6ChgVUWakQC3hKBC4i7Gc4r4JBeibe8gCZuIJ7H4IhLGlxe\n",
       "MOAvtUChrCgbgKvUSoL4lsKyEwASs41l9rj/dgAAAABJRU5ErkJggg==\n",
       "\" style=\"display:inline;vertical-align:middle;\" /></a> <a class=\"ProveItLink\" href=\"__pv_it/9c97c4b24ec6cbdf53da49ae0fd40a5b72a4190f0/proof.ipynb\" style=\"text-decoration: none\">&#x22A2;&nbsp;</a><a class=\"ProveItLink\" href=\"__pv_it/e9dbccbfa3aad0264d90bb136cea4d5ee2873f630/expr.ipynb\"><img src=\"data:image/png;base64,iVBORw0KGgoAAAANSUhEUgAAAIQAAAAUBAMAAAC+DIjXAAAAMFBMVEX////MzMxUVFR2dna6uroQ\n",
       "EBCqqqqIiIgiIiJmZmYyMjJERETu7u6YmJjc3NwAAACgK8IjAAAAAXRSTlMAQObYZgAAAaxJREFU\n",
       "OMuNVD1LA0EQfZozidwl5h/cdYKFpE1nI6ZLCsHGImXKQ5FwVYKFVoKaQgiIF7CyELGxEOORJqBF\n",
       "UqdKoWIjKAiCRHF2cx9hbxecYveY997czOzOAtkB4pYcxX1q4iNkthx3qYmXUuQh7lISM4dSJGGL\n",
       "HjUxPZIiRln0qImvkNu56FATHVp7W0/bYeK9E2Q3gYJIJaLh2Hj2QuJEVcAdIfnMftoNkPwqUu/A\n",
       "kBd6wY13gYgJrYx6WIGvGmKPEC8x1lil7AfZSgv6FVAVsyDiy7yLW6bm4X1VFevMwzS0f3N4AwuU\n",
       "nymGIKI3Z+OLPvsuIpXJEHAN2S5btDHMnDwESt7MBzscC5HKZPmBawKjZHdoK071wvILQQupqcOe\n",
       "qIqsS0mvjlTYaN3CNfx2ThsRCdCtcDp81ZAdXqlyj7coC0v7oa0phmCnfIxSOGuBqskS7tZ6p9EU\n",
       "GovOL21tMQSrrFs7C+9ooGrL7i11A0ZDfsFbsQveiE/PEvorijGbdY1P2Tx2BN8BbuTD3kF6oNuy\n",
       "V0F8SdacHOKBOVGrHUkCK96zzH8fPiL+AQS4gUbcXCybAAAAAElFTkSuQmCC\n",
       "\" style=\"display:inline;vertical-align:middle;\" /></a></span>"
      ],
      "text/plain": [
       "{x in Complexes, y in Complexes} |- (x * y) = (y * x)"
      ]
     },
     "execution_count": 27,
     "metadata": {},
     "output_type": "execute_result"
    }
   ],
   "source": [
    "expr.factorization(y, 'left', assumptions=assumptions)"
   ]
  },
  {
   "cell_type": "code",
   "execution_count": 28,
   "metadata": {},
   "outputs": [
    {
     "data": {
      "text/html": [
       "<span style=\"font-size:20px;\"> <a class=\"ProveItLink\" href=\"__pv_it/1e4dd1f4d7cdde8fa8b9021b5f8953930f2b8bc00/proof.ipynb\" style=\"text-decoration: none\">&#x22A2;&nbsp;</a><a class=\"ProveItLink\" href=\"__pv_it/a830dd592962a3282b4b621d1451e1230a4949770/expr.ipynb\"><img src=\"data:image/png;base64,iVBORw0KGgoAAAANSUhEUgAAAIMAAAAUBAMAAABc0JOuAAAAMFBMVEX////MzMxUVFR2dna6uroQ\n",
       "EBCqqqqIiIgiIiJmZmYyMjJERETu7u6YmJjc3NwAAACgK8IjAAAAAXRSTlMAQObYZgAAAatJREFU\n",
       "OMuNlD1LA0EQht/kTvN1ifkHSSdYSDqxSyPaJYVgY5HSSg5FwlUJFrESohZCQDzBykIkjYWoR0Ai\n",
       "WpjaQlKo2AgRBEGiOHNJTLK7Bxm4HXb22bnZmZ0FYg3IMt6UbUpwlYd7qGRaNilBP//rVOniTjYp\n",
       "QcMGomWlC80ULR7gDBBsKleMrGjxAG+AN6jlWDR4gOE0LFL1tef1/8Dr+4gtA7MiK4KGZeLFgVbG\n",
       "JU1S0a2g3UNTcwi0gEc3IyeuuFkQQU3PokApslGiiaO1dT6pw9XPVRA5A1bEKETwNWTjgm5QEYvk\n",
       "3N1D+psHLGGCgk2ILkTQGTPxBfhavAJ3D8kmD3obibjaxTCYcXwfrosSz3hPTyi+DVILA7lIdg8y\n",
       "DFYQoMrrRc7SuFNAwOmtRJKoopvOQZHAKqOcTipeJneN934USf2H1J7oQgJ3kaHGC6U44Fq+ftDv\n",
       "QmPS+iV1JLqQwFr+kKoTjqvuLWUDRnGEC16h71bRPVN4SI/SZn7b+Oy0Ga4EdBvn6mYXwGAjYnaa\n",
       "XXpJ5q24wrEM6vkdrl/T6z2LjvrwPQF/deaC+RRMq84AAAAASUVORK5CYII=\n",
       "\" style=\"display:inline;vertical-align:middle;\" /></a></span>"
      ],
      "text/plain": [
       "|- (x * y) = (x * y)"
      ]
     },
     "execution_count": 28,
     "metadata": {},
     "output_type": "execute_result"
    }
   ],
   "source": [
    "expr.factorization(y, 'right', assumptions=assumptions)"
   ]
  },
  {
   "cell_type": "code",
   "execution_count": 29,
   "metadata": {},
   "outputs": [
    {
     "data": {
      "text/html": [
       "<strong id=\"expr\">expr:</strong> <a class=\"ProveItLink\" href=\"__pv_it/c85cdfc912d23a41e4de25dc6d43c7b92f1d6cb60/expr.ipynb\"><img src=\"data:image/png;base64,iVBORw0KGgoAAAANSUhEUgAAAD8AAAANBAMAAADsw6tKAAAAMFBMVEX///8QEBBmZmaqqqrMzMxE\n",
       "REQyMjIiIiKYmJh2dna6urrc3NxUVFSIiIju7u4AAAA6P00QAAAAAXRSTlMAQObYZgAAANNJREFU\n",
       "GNNjYHh7Z9fNCwxQ8FaXgVsOxmFYLsXSwMA3gaOWPQEmNGEhA+8HGIcv4pIqAwPnA85/XBtAXCDm\n",
       "NlBjYA0AMh6AFTBwB4BIsAgDw/sEEEeWgR9oH983iBmuYIX8EBewHwASXP8Y/B2AdA1YiOsAmAKL\n",
       "QAFTAsNFBM8GRDA/uM/A+wAmxHqAIQYuz6zAwMPAsN4gnmEHwoQDXD/gHPfO3iwGhjd332o0wMX4\n",
       "zl76DecocIgtYMAATAkM+MAxhvcL8CqoYIjFK8+w9pIDmggAgw8xlnVKKUAAAAAASUVORK5CYII=\n",
       "\" style=\"display:inline;vertical-align:middle;\" /></a><br>"
      ],
      "text/plain": [
       "expr: x * y * z"
      ]
     },
     "execution_count": 29,
     "metadata": {},
     "output_type": "execute_result"
    }
   ],
   "source": [
    "expr = Mult(x, y, z)"
   ]
  },
  {
   "cell_type": "code",
   "execution_count": 30,
   "metadata": {},
   "outputs": [
    {
     "data": {
      "text/html": [
       "<span style=\"font-size:20px;\"> <a class=\"ProveItLink\" href=\"__pv_it/222ff84f507b643ce86ccd3a2adfe440d917ade90/proof.ipynb\" style=\"text-decoration: none\">&#x22A2;&nbsp;</a><a class=\"ProveItLink\" href=\"__pv_it/f7e01fec22a9c21ff47e7b8cfdda4a9fb60dadc50/expr.ipynb\"><img src=\"data:image/png;base64,iVBORw0KGgoAAAANSUhEUgAAALcAAAAUBAMAAAA9yLHsAAAAMFBMVEX////MzMxUVFR2dna6uroQ\n",
       "EBCqqqqIiIgiIiJmZmYyMjJERETu7u6YmJjc3NwAAACgK8IjAAAAAXRSTlMAQObYZgAAAhpJREFU\n",
       "OMudVT1II1EQ/pLs5cdsYkpBxO0EC0l3WBwEQbRLCkEQC7HSRhblCGtjODithNxZiBFxBSsLERsL\n",
       "/4IgES0URAQLSeGJIILCwcHhHfdmk32be7vwVqeY3Zk338e8efPmAckLSCRcdfvkqAlSZ5BKl9sl\n",
       "RwUppU05+anbJUepJpAoyslDuujxg/oIRKvyMDUnevygjoEH+JB10eEH1ZSBwT6VybspvvPKIpLD\n",
       "PKJ/IMD6olsEiijV0PGjbK8qXzNtrJhF7LOVdGIuator6V5EnnlB9o1l9rmxKr9hiVVtERVScphx\n",
       "Wul6aYudi4lZtlIOvSpURJUaeKSE+FbdYCpJ/2Ni5o0oSvg+ZmIXdYOpR7oeBQwQg8UGnJtkDKJZ\n",
       "rxtMWim8XSRvQKm/ie6Djl+2AQT2SD1TGGpsrAc0Ktgr2lO2AcXSXuQc9YVUthx44QZ6UCOftcAp\n",
       "B8c2+NmxRmvH2lBzrV6W/1ElRJx+DdfyKtDRhMsziPCjjmvYdsKKCNoH2igu1DbhbBkHNOtAWZdl\n",
       "Rw7x5GSuKX+40XJ5TT2+IJK7UN+R5aMsMP9pOsOI0rTjo3xlxRlyaofxlxvFxBALw5pI7kId5Vf5\n",
       "pY3hijJqSnld5JgpXv+Cj+tfEh0nHiOoE+eZNw+uoKn+9BhcOBB889jxMXIFVPQirnuMXNfY7zNS\n",
       "EiaPx0LJfxMj4lVfD1biXc/cLfAPweuaGrWvV34AAAAASUVORK5CYII=\n",
       "\" style=\"display:inline;vertical-align:middle;\" /></a></span>"
      ],
      "text/plain": [
       "|- (x * y * z) = (x * y * z)"
      ]
     },
     "execution_count": 30,
     "metadata": {},
     "output_type": "execute_result"
    }
   ],
   "source": [
    "expr.factorization(x, 'left', assumptions=assumptions)"
   ]
  },
  {
   "cell_type": "code",
   "execution_count": 31,
   "metadata": {},
   "outputs": [
    {
     "data": {
      "text/html": [
       "<span style=\"font-size:20px;\"><a class=\"ProveItLink\" href=\"__pv_it/1d056d4e6cf7fbcc034c9071ed1bf9b5345acc970/expr.ipynb\"><img src=\"data:image/png;base64,iVBORw0KGgoAAAANSUhEUgAAAL8AAAAVBAMAAADlQyK9AAAAMFBMVEX///+IiIi6urrc3NxERETM\n",
       "zMwQEBCqqqpUVFQiIiJ2dnYyMjLu7u5mZmaYmJgAAABN0h6tAAAAAXRSTlMAQObYZgAAAhVJREFU\n",
       "OMtjYGDgu8dAG8B68QCI4tnFQCvAlAoi+T7gkJae/W3KBZyaiZK9DWJzTcCuJvQ7w9l/OI0gTnYl\n",
       "Hgv4OAQYGN7jMoJIWWwWPJk5cwOIfsoGjCEOdCPwy/J5zpyNIovFghAZKOOCCSgBCKCagF+W1fEA\n",
       "mizcAh7BZsWF4CS1B6qYpyEWofPgRQbmHJyyDJpJrA9A9OkD6LLLQAQH0M+nGF4KgD3HYQCVYl6g\n",
       "iDBhgRoD4wecsjx+slfAjGYM2fcgoiyAgWENw/oDyiAOC0wX8wWEEcwFtxlYHHDJMvAwMDuAGQ4Y\n",
       "stzAeAiZDGQcYHCBiITtBgJQNPI4RCGZkMjAL4BLFhQ14LBhzQZJo8p2ArWpBYBYHyECJnBNeziQ\n",
       "cuQfhvgAnLIMTA0QhztgyHKDZDhA4qxfISJscF1vwYog0ca7gUEMtyxDBVQwAUP2PSwV1QDjEJwC\n",
       "eeEpj0UIyGTaAGE3MHjglmW/wABx8UUM2WVQC5i+s3xgBqc0hulwR972OnDc5QDPb5DBDUz/cMtG\n",
       "vnq4CSzGWYAqi8gHPI0ysu8gUiecDsCyze38ucCAnwnk8zTKfsYte4EvWwGSGFp0UGWxFhVanpDC\n",
       "AAbYD0BjAY8sPLaXQIoKOIBYkIC3TOcC4m6G8wq4ZfGAlXjrA2gxAcTzGBzxyOIB4PqAAX+NBop7\n",
       "RdkAPLJ4arQkSDjStE4GAI26wi7+iA88AAAAAElFTkSuQmCC\n",
       "\" style=\"display:inline;vertical-align:middle;\" /></a> <a class=\"ProveItLink\" href=\"__pv_it/98382439b4a1fa2b75f93bfea2c5bd7775e471d40/proof.ipynb\" style=\"text-decoration: none\">&#x22A2;&nbsp;</a><a class=\"ProveItLink\" href=\"__pv_it/494edf462e90f8fe3a1c4c7255aa9fbc9c9cd6c60/expr.ipynb\"><img src=\"data:image/png;base64,iVBORw0KGgoAAAANSUhEUgAAAMcAAAAUBAMAAADLgTR0AAAAMFBMVEX////MzMxUVFR2dna6uroQ\n",
       "EBCqqqqIiIgiIiJmZmYyMjJERETu7u6YmJjc3NwAAACgK8IjAAAAAXRSTlMAQObYZgAAAl1JREFU\n",
       "OMudVUGI01AQnbbZtmmSbo+CyOYmeJDexINQBNFb91AQxEPxpBcJipR42SK4nlaiexArYgRPHmTx\n",
       "4kF3DQtS0cMWRBY9SA8qgggrCIKs4sz/yU87SUjZD++3/+XPm5+ZyXyA+ghyRnmc5H5wIlXmYgh4\n",
       "C7njcIIx1ziTKlMcS8CTfCdvEkwt8XKpMqYvYXn5TkoOZz5wIkPmiER1nO/EXOTMTU5kyLyS+AYz\n",
       "jEc8y32+I0Om1hJw8e/w0ufLKiLDO1A/q3ad6hSwbI4y24rHrVDGdB34EkSEdr11AAPtCazj06Z1\n",
       "o+pHT5snoLKjArXu3sOfjyIzj8UgfWPErVCmpC3CUlxt23exAi1fYBmfBqVdjWJqUiS6AzDWwgVO\n",
       "dfp/nmegO2ElDo8yX3UfnkNEBPCdPrG+QIeUDFn2W1RxcBrmnXCBYz+ZLDAnc63YyvxDM8oEcw78\n",
       "VgQUXtC0I9AhYl7GtmpTMHdhoREtQBNzmhNldS10Au2g8FMRcBxiJ8tCpBEL4EtfiVfnZPoncmKH\n",
       "4Zq2IpkBVOJaL8sz9gUwY+VgCSqqLAwbnsZbPShGiZ8YlPhpK5RBM8NWWy4A2CrxWJ3t7suJhqfb\n",
       "2l+12Pdum76RVd4CPG5FRX4b2qpLFlaOXcWY6k0BjMRmb3g/7qHmQfefWnjWGQr/Q+aEojBtRQHd\n",
       "7D1Q370O7+l0tYZASj/Qfd5W+jO2lQGnX0skOtsh2GrtqUEWffNXRoOEDcavwLP8Vm8k3n8DqiPD\n",
       "yWj1idvmpNtICsxyaWm9W2lnEefJv36tPV+/nyT+A7iHsz3PeipbAAAAAElFTkSuQmCC\n",
       "\" style=\"display:inline;vertical-align:middle;\" /></a></span>"
      ],
      "text/plain": [
       "{x in Complexes, y in Complexes, z in Complexes} |- (x * y * z) = (x * (y * z))"
      ]
     },
     "execution_count": 31,
     "metadata": {},
     "output_type": "execute_result"
    }
   ],
   "source": [
    "expr.factorization(x, 'left', groupRemainder=True, assumptions=assumptions)"
   ]
  },
  {
   "cell_type": "code",
   "execution_count": 32,
   "metadata": {},
   "outputs": [
    {
     "data": {
      "text/html": [
       "<span style=\"font-size:20px;\"><a class=\"ProveItLink\" href=\"__pv_it/1d056d4e6cf7fbcc034c9071ed1bf9b5345acc970/expr.ipynb\"><img src=\"data:image/png;base64,iVBORw0KGgoAAAANSUhEUgAAAL8AAAAVBAMAAADlQyK9AAAAMFBMVEX///+IiIi6urrc3NxERETM\n",
       "zMwQEBCqqqpUVFQiIiJ2dnYyMjLu7u5mZmaYmJgAAABN0h6tAAAAAXRSTlMAQObYZgAAAhVJREFU\n",
       "OMtjYGDgu8dAG8B68QCI4tnFQCvAlAoi+T7gkJae/W3KBZyaiZK9DWJzTcCuJvQ7w9l/OI0gTnYl\n",
       "Hgv4OAQYGN7jMoJIWWwWPJk5cwOIfsoGjCEOdCPwy/J5zpyNIovFghAZKOOCCSgBCKCagF+W1fEA\n",
       "mizcAh7BZsWF4CS1B6qYpyEWofPgRQbmHJyyDJpJrA9A9OkD6LLLQAQH0M+nGF4KgD3HYQCVYl6g\n",
       "iDBhgRoD4wecsjx+slfAjGYM2fcgoiyAgWENw/oDyiAOC0wX8wWEEcwFtxlYHHDJMvAwMDuAGQ4Y\n",
       "stzAeAiZDGQcYHCBiITtBgJQNPI4RCGZkMjAL4BLFhQ14LBhzQZJo8p2ArWpBYBYHyECJnBNeziQ\n",
       "cuQfhvgAnLIMTA0QhztgyHKDZDhA4qxfISJscF1vwYog0ca7gUEMtyxDBVQwAUP2PSwV1QDjEJwC\n",
       "eeEpj0UIyGTaAGE3MHjglmW/wABx8UUM2WVQC5i+s3xgBqc0hulwR972OnDc5QDPb5DBDUz/cMtG\n",
       "vnq4CSzGWYAqi8gHPI0ysu8gUiecDsCyze38ucCAnwnk8zTKfsYte4EvWwGSGFp0UGWxFhVanpDC\n",
       "AAbYD0BjAY8sPLaXQIoKOIBYkIC3TOcC4m6G8wq4ZfGAlXjrA2gxAcTzGBzxyOIB4PqAAX+NBop7\n",
       "RdkAPLJ4arQkSDjStE4GAI26wi7+iA88AAAAAElFTkSuQmCC\n",
       "\" style=\"display:inline;vertical-align:middle;\" /></a> <a class=\"ProveItLink\" href=\"__pv_it/5bfe361a539e1bf2c2760233eeb7a5c8edef7d960/proof.ipynb\" style=\"text-decoration: none\">&#x22A2;&nbsp;</a><a class=\"ProveItLink\" href=\"__pv_it/90da334b451c5ab074c01c354c787fe34c4095460/expr.ipynb\"><img src=\"data:image/png;base64,iVBORw0KGgoAAAANSUhEUgAAALcAAAAUBAMAAAA9yLHsAAAAMFBMVEX////MzMxUVFR2dna6uroQ\n",
       "EBCqqqqIiIgiIiJmZmYyMjJERETu7u6YmJjc3NwAAACgK8IjAAAAAXRSTlMAQObYZgAAAkBJREFU\n",
       "OMudVU1oE0EU/pKs+XE3MUdBpHsTPJTcRFAMgtST6aEgiIfiSUFkUSSsFJqLFYRCtIdiRFyhJw9S\n",
       "vHiorUtFInpoQaQiKDmoCCJEEL1U8b1NZibMLp3Fd9jd9/Z938y8vwEqmzBIvhe3mVGX+PEaRhmP\n",
       "m8yoLG/pkZn8VdxkRjkBUG6byXOebkmDOgQUe2Y3Z1K3pEG9AL4ihSzphjSo3XX49Ope/nRFnry7\n",
       "iMpZ6XFyKkN1cVgHEsrxPXwOhcG6Xt8vD9ocn6CY5NpYJaVWvlEMxK/aCRT60m/Vv0uv91HkH0YS\n",
       "RZtQOWsSs6p6tu4si+/neOfdpLwEmCO3MLdtcRAdLuDpDuzloUKPCn+f13dOqC+lACvCDyG+QShH\n",
       "cCw8Re3RwhRb7MGqGwErp7HHGyok+/jkYzo5ocJdHn4rv8xTwUALrUSWPrthwEY14HL0tjFWFQqs\n",
       "6JlEjkaY+SH9cFwxIFqUyecicFXh6LRXlXZukNaRmLvDsKCDgirRvDuydLQorBanJh/OoiDzbrt4\n",
       "rDBtZEVCR4VQ5GUrxguAVC5SQcxECaUqa0w/w3e1c9f6I5W9b7a4xhd0cq7N22jI6ZWZP3qtLqry\n",
       "l93nuVaq8YnXm917asg5B/y/UmmXzzDmgU7OcVpv3pd9WsLbJUUw43/gJqomNXIp0Nu/ldz+nR07\n",
       "9GXCCDqIjXqawZUNnJ+mwYU1zTaPJylG7hqKm7ZnGrmxsT/hV+NMCZeF1by148btXqoLq/xf19xH\n",
       "4B/LuZfRvD/KbAAAAABJRU5ErkJggg==\n",
       "\" style=\"display:inline;vertical-align:middle;\" /></a></span>"
      ],
      "text/plain": [
       "{x in Complexes, y in Complexes, z in Complexes} |- (x * y * z) = (y * z * x)"
      ]
     },
     "execution_count": 32,
     "metadata": {},
     "output_type": "execute_result"
    }
   ],
   "source": [
    "expr.factorization(x, 'right', assumptions=assumptions)"
   ]
  },
  {
   "cell_type": "code",
   "execution_count": 33,
   "metadata": {},
   "outputs": [
    {
     "data": {
      "text/html": [
       "<span style=\"font-size:20px;\"><a class=\"ProveItLink\" href=\"__pv_it/1d056d4e6cf7fbcc034c9071ed1bf9b5345acc970/expr.ipynb\"><img src=\"data:image/png;base64,iVBORw0KGgoAAAANSUhEUgAAAL8AAAAVBAMAAADlQyK9AAAAMFBMVEX///+IiIi6urrc3NxERETM\n",
       "zMwQEBCqqqpUVFQiIiJ2dnYyMjLu7u5mZmaYmJgAAABN0h6tAAAAAXRSTlMAQObYZgAAAhVJREFU\n",
       "OMtjYGDgu8dAG8B68QCI4tnFQCvAlAoi+T7gkJae/W3KBZyaiZK9DWJzTcCuJvQ7w9l/OI0gTnYl\n",
       "Hgv4OAQYGN7jMoJIWWwWPJk5cwOIfsoGjCEOdCPwy/J5zpyNIovFghAZKOOCCSgBCKCagF+W1fEA\n",
       "mizcAh7BZsWF4CS1B6qYpyEWofPgRQbmHJyyDJpJrA9A9OkD6LLLQAQH0M+nGF4KgD3HYQCVYl6g\n",
       "iDBhgRoD4wecsjx+slfAjGYM2fcgoiyAgWENw/oDyiAOC0wX8wWEEcwFtxlYHHDJMvAwMDuAGQ4Y\n",
       "stzAeAiZDGQcYHCBiITtBgJQNPI4RCGZkMjAL4BLFhQ14LBhzQZJo8p2ArWpBYBYHyECJnBNeziQ\n",
       "cuQfhvgAnLIMTA0QhztgyHKDZDhA4qxfISJscF1vwYog0ca7gUEMtyxDBVQwAUP2PSwV1QDjEJwC\n",
       "eeEpj0UIyGTaAGE3MHjglmW/wABx8UUM2WVQC5i+s3xgBqc0hulwR972OnDc5QDPb5DBDUz/cMtG\n",
       "vnq4CSzGWYAqi8gHPI0ysu8gUiecDsCyze38ucCAnwnk8zTKfsYte4EvWwGSGFp0UGWxFhVanpDC\n",
       "AAbYD0BjAY8sPLaXQIoKOIBYkIC3TOcC4m6G8wq4ZfGAlXjrA2gxAcTzGBzxyOIB4PqAAX+NBop7\n",
       "RdkAPLJ4arQkSDjStE4GAI26wi7+iA88AAAAAElFTkSuQmCC\n",
       "\" style=\"display:inline;vertical-align:middle;\" /></a> <a class=\"ProveItLink\" href=\"__pv_it/023368d1cf1d939ea7506a606ab15b5f701428dd0/proof.ipynb\" style=\"text-decoration: none\">&#x22A2;&nbsp;</a><a class=\"ProveItLink\" href=\"__pv_it/db7d76d1936ac70bd41c99ddeb2a85d618a4356a0/expr.ipynb\"><img src=\"data:image/png;base64,iVBORw0KGgoAAAANSUhEUgAAANwAAAAUBAMAAAAUz05rAAAAMFBMVEX////MzMxUVFR2dna6uroQ\n",
       "EBCqqqqIiIgiIiJmZmYyMjJERETu7u6YmJjc3NwAAACgK8IjAAAAAXRSTlMAQObYZgAAAphJREFU\n",
       "SMeVlk9oE0EUxr8022z+bGKOgkj2JniQ3IqCEASxt+RQEMRD8KSXsihS4qVBUEGopHoQI2KUHLSH\n",
       "Erx40MZFKBFzSECk2EPZg0pBhAqCIFV8+2dmZ3aTbHyQYeftN98v+3b3zQK5ISJicUTuO9S1PJB9\n",
       "VrJnzGNxok/CoqEfRcOMFUppHcQdkDv2xyvFOEa/9Uic1gql0paEWx+vFOM9laMRicNcKPMJIs73\n",
       "mJvoEzeQtKJxm6HMHQnne2xOLlMFu9E0pEuBRK4u4XbHK+Voo0Zj7/LnKwZL9e4jd54L5hdiQ8SD\n",
       "BVcbEo48tJqBL6aoVG6UDvOJRziODZIWs7eS/CYXT0Pd45e/UXtI98Y5eWLNjuf2YWYo4cgjrlSw\n",
       "zJRO9LcedLiNR9jGTZKa8X3FLr9p16naRKbjTaAhR8eJeuDqklUHpHk48viaauEVU5ru8M11gE+4\n",
       "iAU74/hD++2cPosDhjehOERrY3sB3GzJAQ1aLo48zFkDvzyltzT22h4HLfiEgi2F409x3an5Pgp5\n",
       "NoGiYzwuqXMcymbsB1O6S0+5hdDhEwp2IeD6e0FVuerPLjjMun/vngrFhF9MNKFWmNJtWbr4B13C\n",
       "vH2bE+YyVJOdyOh44a9pYEZ6ADxN6FGhNbRQVF4COJARtunZRLn6hlouvzpd+cMnBz9stSlVDLYH\n",
       "+UUgD9xFeSgqYysnr/GXkBHu0fXh7VLvkb8taEdqf/mkkT1Ha9L5AE6RX3PyIJPHlqhM4WOb6xnh\n",
       "yagmlgrW7t1UTaw5Uik1sXq4RR/FoPT/LXqmpf2cpkWjG8it4GX0BpSRN6AuksOMMc0GFNpez9Ty\n",
       "Ye/I7VVZWh2tFKMrbPzjY2f0x8Nt+luq/PGwM9Ena+Ef19jB7LnSRVAAAAAASUVORK5CYII=\n",
       "\" style=\"display:inline;vertical-align:middle;\" /></a></span>"
      ],
      "text/plain": [
       "{x in Complexes, y in Complexes, z in Complexes} |- (x * y * z) = ([*](y) * z * x)"
      ]
     },
     "execution_count": 33,
     "metadata": {},
     "output_type": "execute_result"
    }
   ],
   "source": [
    "expr.factorization(x, 'right', groupRemainder=True, assumptions=assumptions)"
   ]
  },
  {
   "cell_type": "code",
   "execution_count": 34,
   "metadata": {},
   "outputs": [
    {
     "data": {
      "text/html": [
       "<span style=\"font-size:20px;\"><a class=\"ProveItLink\" href=\"__pv_it/1d056d4e6cf7fbcc034c9071ed1bf9b5345acc970/expr.ipynb\"><img src=\"data:image/png;base64,iVBORw0KGgoAAAANSUhEUgAAAL8AAAAVBAMAAADlQyK9AAAAMFBMVEX///+IiIi6urrc3NxERETM\n",
       "zMwQEBCqqqpUVFQiIiJ2dnYyMjLu7u5mZmaYmJgAAABN0h6tAAAAAXRSTlMAQObYZgAAAhVJREFU\n",
       "OMtjYGDgu8dAG8B68QCI4tnFQCvAlAoi+T7gkJae/W3KBZyaiZK9DWJzTcCuJvQ7w9l/OI0gTnYl\n",
       "Hgv4OAQYGN7jMoJIWWwWPJk5cwOIfsoGjCEOdCPwy/J5zpyNIovFghAZKOOCCSgBCKCagF+W1fEA\n",
       "mizcAh7BZsWF4CS1B6qYpyEWofPgRQbmHJyyDJpJrA9A9OkD6LLLQAQH0M+nGF4KgD3HYQCVYl6g\n",
       "iDBhgRoD4wecsjx+slfAjGYM2fcgoiyAgWENw/oDyiAOC0wX8wWEEcwFtxlYHHDJMvAwMDuAGQ4Y\n",
       "stzAeAiZDGQcYHCBiITtBgJQNPI4RCGZkMjAL4BLFhQ14LBhzQZJo8p2ArWpBYBYHyECJnBNeziQ\n",
       "cuQfhvgAnLIMTA0QhztgyHKDZDhA4qxfISJscF1vwYog0ca7gUEMtyxDBVQwAUP2PSwV1QDjEJwC\n",
       "eeEpj0UIyGTaAGE3MHjglmW/wABx8UUM2WVQC5i+s3xgBqc0hulwR972OnDc5QDPb5DBDUz/cMtG\n",
       "vnq4CSzGWYAqi8gHPI0ysu8gUiecDsCyze38ucCAnwnk8zTKfsYte4EvWwGSGFp0UGWxFhVanpDC\n",
       "AAbYD0BjAY8sPLaXQIoKOIBYkIC3TOcC4m6G8wq4ZfGAlXjrA2gxAcTzGBzxyOIB4PqAAX+NBop7\n",
       "RdkAPLJ4arQkSDjStE4GAI26wi7+iA88AAAAAElFTkSuQmCC\n",
       "\" style=\"display:inline;vertical-align:middle;\" /></a> <a class=\"ProveItLink\" href=\"__pv_it/1e04289fb607161d3926a184826c3622075156120/proof.ipynb\" style=\"text-decoration: none\">&#x22A2;&nbsp;</a><a class=\"ProveItLink\" href=\"__pv_it/d4408ce5a17084008e7655c8fcdac6833c369f870/expr.ipynb\"><img src=\"data:image/png;base64,iVBORw0KGgoAAAANSUhEUgAAALcAAAAUBAMAAAA9yLHsAAAAMFBMVEX////MzMxUVFR2dna6uroQ\n",
       "EBCqqqqIiIgiIiJmZmYyMjJERETu7u6YmJjc3NwAAACgK8IjAAAAAXRSTlMAQObYZgAAAixJREFU\n",
       "OMudVT1oFEEU/u5uvZ/s3nllQEK2EyzkOrEQDkFMdykCAUkRrLSRRZFjbXIIxipwahE8kaxgZSEh\n",
       "TYr8LYFwYooEQghYyBUqgggRBEGi+N7c7eze7JJZnGJ235vv+5h5894boLIPzcj34j496w5Pu9CO\n",
       "i3GXnpXlLb3Vi7+Pu/QsywPKbb14zlE9aViXgGJPD7MmVU8a1g7wFSnGa9WRhjVSh0uf7t1P9+TJ\n",
       "u4uozEjExFSG8uKySiSW5Tr47EtWVMJ4VB+jYLaxQbBa+XHRC1Zq11A4lgHZcF/Q54OI/BsxRLSJ\n",
       "lTMmMSdxQxK7R8+X6V48zBPMz50YHESLE3i2A3N5YNBU4f9b6s6J9aXkYS3ASQlxFB/fuDxamOJl\n",
       "oQbseWxM46wzMGicY/i4Kk4s/4yDXwEukLB+i+XMOk/HDENfjXLA5oCdYLwaGDDEnCSOhp/5IXGB\n",
       "xEMxX0VffF6QqyGPTns/tG72rzUSc3sQFnRQiKRoVCLf31eLrybvz6Eg7920sRLC2sgGFxodxCKU\n",
       "aUvckMRtwBYXSlnWmN3C93DntvFHGqMHR5zjz1Rxzs2naMjuNSSRWbjyoE5CNT7xdrP7Mmxy1nn3\n",
       "rzTa5RsEwytVnOO03VySdTokUcIh72ikmlTIJU8t/1Zy+XdOrdB3CS3oAvbqaRpX1rN+6hoXNhXf\n",
       "AlZTtNxNFPdNR9dyY23/uluNKyU8FkbzyakbN3upHqzyfz1zH4F/cfCZdTaLA2cAAAAASUVORK5C\n",
       "YII=\n",
       "\" style=\"display:inline;vertical-align:middle;\" /></a></span>"
      ],
      "text/plain": [
       "{x in Complexes, y in Complexes, z in Complexes} |- (x * y * z) = (y * x * z)"
      ]
     },
     "execution_count": 34,
     "metadata": {},
     "output_type": "execute_result"
    }
   ],
   "source": [
    "expr.factorization(y, 'left', assumptions=assumptions)"
   ]
  },
  {
   "cell_type": "code",
   "execution_count": 35,
   "metadata": {},
   "outputs": [
    {
     "data": {
      "text/html": [
       "<span style=\"font-size:20px;\"><a class=\"ProveItLink\" href=\"__pv_it/1d056d4e6cf7fbcc034c9071ed1bf9b5345acc970/expr.ipynb\"><img src=\"data:image/png;base64,iVBORw0KGgoAAAANSUhEUgAAAL8AAAAVBAMAAADlQyK9AAAAMFBMVEX///+IiIi6urrc3NxERETM\n",
       "zMwQEBCqqqpUVFQiIiJ2dnYyMjLu7u5mZmaYmJgAAABN0h6tAAAAAXRSTlMAQObYZgAAAhVJREFU\n",
       "OMtjYGDgu8dAG8B68QCI4tnFQCvAlAoi+T7gkJae/W3KBZyaiZK9DWJzTcCuJvQ7w9l/OI0gTnYl\n",
       "Hgv4OAQYGN7jMoJIWWwWPJk5cwOIfsoGjCEOdCPwy/J5zpyNIovFghAZKOOCCSgBCKCagF+W1fEA\n",
       "mizcAh7BZsWF4CS1B6qYpyEWofPgRQbmHJyyDJpJrA9A9OkD6LLLQAQH0M+nGF4KgD3HYQCVYl6g\n",
       "iDBhgRoD4wecsjx+slfAjGYM2fcgoiyAgWENw/oDyiAOC0wX8wWEEcwFtxlYHHDJMvAwMDuAGQ4Y\n",
       "stzAeAiZDGQcYHCBiITtBgJQNPI4RCGZkMjAL4BLFhQ14LBhzQZJo8p2ArWpBYBYHyECJnBNeziQ\n",
       "cuQfhvgAnLIMTA0QhztgyHKDZDhA4qxfISJscF1vwYog0ca7gUEMtyxDBVQwAUP2PSwV1QDjEJwC\n",
       "eeEpj0UIyGTaAGE3MHjglmW/wABx8UUM2WVQC5i+s3xgBqc0hulwR972OnDc5QDPb5DBDUz/cMtG\n",
       "vnq4CSzGWYAqi8gHPI0ysu8gUiecDsCyze38ucCAnwnk8zTKfsYte4EvWwGSGFp0UGWxFhVanpDC\n",
       "AAbYD0BjAY8sPLaXQIoKOIBYkIC3TOcC4m6G8wq4ZfGAlXjrA2gxAcTzGBzxyOIB4PqAAX+NBop7\n",
       "RdkAPLJ4arQkSDjStE4GAI26wi7+iA88AAAAAElFTkSuQmCC\n",
       "\" style=\"display:inline;vertical-align:middle;\" /></a> <a class=\"ProveItLink\" href=\"__pv_it/e2930ca7089a88a1e55b61d6a5a423bfd788581f0/proof.ipynb\" style=\"text-decoration: none\">&#x22A2;&nbsp;</a><a class=\"ProveItLink\" href=\"__pv_it/9271f04370706a9337762bf1fa45e8958af9f8a60/expr.ipynb\"><img src=\"data:image/png;base64,iVBORw0KGgoAAAANSUhEUgAAALcAAAAUBAMAAAA9yLHsAAAAMFBMVEX////MzMxUVFR2dna6uroQ\n",
       "EBCqqqqIiIgiIiJmZmYyMjJERETu7u6YmJjc3NwAAACgK8IjAAAAAXRSTlMAQObYZgAAAhtJREFU\n",
       "OMtjYOC7wEAAsD3AFCOsKw9EnGYgCPQwhQjrYgI5aR1hw09hChHWxbOAgYF3AmHDmQvQRYjRZc7A\n",
       "wPGAsDKeAHQRYnQdZWB4wUAEWIIuQIwuLgeGSiB1vOhJMdznx6cz8MXAVXiEMALThSW6RgxdLK0O\n",
       "snCPVhYwPD3AwDyBYS+QY8DbzrEAJmXgysD+Aa5ub+VsIHULHPKrwAAc2hi6Tl+fuQEeRSwBDPXA\n",
       "eFnA0AbkHGD+wwIKRB5QAk6YxcC9AcoBEnwgdga6y5F1HWAAE68ZGKCcZ5wLGHYDs0cDQwjIBG6I\n",
       "recXgDjhDPwFUA4QSIOUy6MbjqSL5xdYhHEPnHOAtYDhO1DkA0gZA8Q0YBpQAIXeHwZ5ARiHgQVM\n",
       "YjMcrqsJTDoxIDj+Bxg/gg1vA2sWQOgD+qkUwUuCRCtSmCtAgwVVF5sCktWzGNiBiZelARQ1bAfq\n",
       "GdgPwGS4FRg2IfRMYGCCRSgywNCVycCAMH4TyBBQhAJTmX/Cfoa3CJcrsPyFcyQuXwel8cnohqPr\n",
       "Yuy1rXKAy05i8AemX04DkI8PlR+fiyjkeNQr/8E5E3ijQHoWohuOrouT4SpSRjtUPh+YjLgEsGVk\n",
       "zgXo2b+B1Ow/C4hPYCmCtBjOO1BWcDEt4PkCKbgY9qFJ9TJsJ6LI3YfHcI4L3AWQIhej2HevFCDC\n",
       "JHyVBUv5RFCqe0BUhcVLVjV3j4EBADkDmho6F4LBAAAAAElFTkSuQmCC\n",
       "\" style=\"display:inline;vertical-align:middle;\" /></a></span>"
      ],
      "text/plain": [
       "{x in Complexes, y in Complexes, z in Complexes} |- (x * y * z) = (x * z * y)"
      ]
     },
     "execution_count": 35,
     "metadata": {},
     "output_type": "execute_result"
    }
   ],
   "source": [
    "expr.factorization(y, 'right', assumptions=assumptions)"
   ]
  },
  {
   "cell_type": "code",
   "execution_count": 36,
   "metadata": {},
   "outputs": [
    {
     "data": {
      "text/html": [
       "<span style=\"font-size:20px;\"><a class=\"ProveItLink\" href=\"__pv_it/1d056d4e6cf7fbcc034c9071ed1bf9b5345acc970/expr.ipynb\"><img src=\"data:image/png;base64,iVBORw0KGgoAAAANSUhEUgAAAL8AAAAVBAMAAADlQyK9AAAAMFBMVEX///+IiIi6urrc3NxERETM\n",
       "zMwQEBCqqqpUVFQiIiJ2dnYyMjLu7u5mZmaYmJgAAABN0h6tAAAAAXRSTlMAQObYZgAAAhVJREFU\n",
       "OMtjYGDgu8dAG8B68QCI4tnFQCvAlAoi+T7gkJae/W3KBZyaiZK9DWJzTcCuJvQ7w9l/OI0gTnYl\n",
       "Hgv4OAQYGN7jMoJIWWwWPJk5cwOIfsoGjCEOdCPwy/J5zpyNIovFghAZKOOCCSgBCKCagF+W1fEA\n",
       "mizcAh7BZsWF4CS1B6qYpyEWofPgRQbmHJyyDJpJrA9A9OkD6LLLQAQH0M+nGF4KgD3HYQCVYl6g\n",
       "iDBhgRoD4wecsjx+slfAjGYM2fcgoiyAgWENw/oDyiAOC0wX8wWEEcwFtxlYHHDJMvAwMDuAGQ4Y\n",
       "stzAeAiZDGQcYHCBiITtBgJQNPI4RCGZkMjAL4BLFhQ14LBhzQZJo8p2ArWpBYBYHyECJnBNeziQ\n",
       "cuQfhvgAnLIMTA0QhztgyHKDZDhA4qxfISJscF1vwYog0ca7gUEMtyxDBVQwAUP2PSwV1QDjEJwC\n",
       "eeEpj0UIyGTaAGE3MHjglmW/wABx8UUM2WVQC5i+s3xgBqc0hulwR972OnDc5QDPb5DBDUz/cMtG\n",
       "vnq4CSzGWYAqi8gHPI0ysu8gUiecDsCyze38ucCAnwnk8zTKfsYte4EvWwGSGFp0UGWxFhVanpDC\n",
       "AAbYD0BjAY8sPLaXQIoKOIBYkIC3TOcC4m6G8wq4ZfGAlXjrA2gxAcTzGBzxyOIB4PqAAX+NBop7\n",
       "RdkAPLJ4arQkSDjStE4GAI26wi7+iA88AAAAAElFTkSuQmCC\n",
       "\" style=\"display:inline;vertical-align:middle;\" /></a> <a class=\"ProveItLink\" href=\"__pv_it/210611a53398bc3f4a031c2c3ad504bf4d54b3190/proof.ipynb\" style=\"text-decoration: none\">&#x22A2;&nbsp;</a><a class=\"ProveItLink\" href=\"__pv_it/33f60da80be04602be84e8ca289801b0490e58660/expr.ipynb\"><img src=\"data:image/png;base64,iVBORw0KGgoAAAANSUhEUgAAALcAAAAUBAMAAAA9yLHsAAAAMFBMVEX////MzMxUVFR2dna6uroQ\n",
       "EBCqqqqIiIgiIiJmZmYyMjJERETu7u6YmJjc3NwAAACgK8IjAAAAAXRSTlMAQObYZgAAAkdJREFU\n",
       "OMulVU1oE1EQ/pKs+elu0hwFke6t0EPJrQiKQZB6Mj0EBPFQPLUgslgkrBQaBCsUCqkeihFxhZ48\n",
       "SOnFQ01dKiWihxakVARLDrYUihBBWpAqzuxm34aX0F3tQN7u/Hxf3puZNwtkNhAg8UanLRh1m5eP\n",
       "CJTBTlMwKspbehVM/qHTFIzSLCBdCSaPGbIlDGoISDaCw7QR2RIGtQbsIYQsyIYwqJ48THrU73yb\n",
       "ECevzyNzQ0RcKUaoL87JQEYpD/JnxdlKg8NDQjEN7NiIVVAjJZd+mLQ8V+4yEk0RVzOf0uOLk/mX\n",
       "jjjZrnHDbD1Z9OLe4bMxI0qkjGCK6mJhmhQ7dqRwEjVu4NEq1MWWQkuG38fknRMKNvbhxZ3HRfsq\n",
       "HCOwm7KwTNejjCK7VXcL6xYr19BrtBSSMxzeJ5MXeYm88UDEueye9BcrpwwckrvphvW6GU/qnMoj\n",
       "9GU9BYqzdie/5IPAbCz3eSnYkR8O+bQDzvo4OtNdX7vplrUt57qXlrje9m/MJqSKBDWvUubSxO0p\n",
       "JGzPo+pY8sdKBVGvoO3CBR0HBP0t6oFJ4V1iEi4odVlh9C2++zvXld9COf1pi3v8sUxOqMjshXv5\n",
       "lqocqM22UfYIBVJSOT7xaqn+zPdo/eYfoVTS15nghUxOqBQ2F3zMpPnV966WnlPz9WS7XeSUJV//\n",
       "8r9e/yr93ncZQQNYz59scEUt7ac7uLAiuWbxOsTIXTmGPLmhGu7I7Rj7w2Y2BNNxHwulNMdd1wj1\n",
       "wUr/12duG/gLfXiYdmXU+fYAAAAASUVORK5CYII=\n",
       "\" style=\"display:inline;vertical-align:middle;\" /></a></span>"
      ],
      "text/plain": [
       "{x in Complexes, y in Complexes, z in Complexes} |- (x * y * z) = (z * x * y)"
      ]
     },
     "execution_count": 36,
     "metadata": {},
     "output_type": "execute_result"
    }
   ],
   "source": [
    "expr.factorization(z, 'left', assumptions=assumptions)"
   ]
  },
  {
   "cell_type": "code",
   "execution_count": 37,
   "metadata": {},
   "outputs": [
    {
     "data": {
      "text/html": [
       "<span style=\"font-size:20px;\"> <a class=\"ProveItLink\" href=\"__pv_it/222ff84f507b643ce86ccd3a2adfe440d917ade90/proof.ipynb\" style=\"text-decoration: none\">&#x22A2;&nbsp;</a><a class=\"ProveItLink\" href=\"__pv_it/f7e01fec22a9c21ff47e7b8cfdda4a9fb60dadc50/expr.ipynb\"><img src=\"data:image/png;base64,iVBORw0KGgoAAAANSUhEUgAAALcAAAAUBAMAAAA9yLHsAAAAMFBMVEX////MzMxUVFR2dna6uroQ\n",
       "EBCqqqqIiIgiIiJmZmYyMjJERETu7u6YmJjc3NwAAACgK8IjAAAAAXRSTlMAQObYZgAAAhpJREFU\n",
       "OMudVT1II1EQ/pLs5cdsYkpBxO0EC0l3WBwEQbRLCkEQC7HSRhblCGtjODithNxZiBFxBSsLERsL\n",
       "/4IgES0URAQLSeGJIILCwcHhHfdmk32be7vwVqeY3Zk338e8efPmAckLSCRcdfvkqAlSZ5BKl9sl\n",
       "RwUppU05+anbJUepJpAoyslDuujxg/oIRKvyMDUnevygjoEH+JB10eEH1ZSBwT6VybspvvPKIpLD\n",
       "PKJ/IMD6olsEiijV0PGjbK8qXzNtrJhF7LOVdGIuator6V5EnnlB9o1l9rmxKr9hiVVtERVScphx\n",
       "Wul6aYudi4lZtlIOvSpURJUaeKSE+FbdYCpJ/2Ni5o0oSvg+ZmIXdYOpR7oeBQwQg8UGnJtkDKJZ\n",
       "rxtMWim8XSRvQKm/ie6Djl+2AQT2SD1TGGpsrAc0Ktgr2lO2AcXSXuQc9YVUthx44QZ6UCOftcAp\n",
       "B8c2+NmxRmvH2lBzrV6W/1ElRJx+DdfyKtDRhMsziPCjjmvYdsKKCNoH2igu1DbhbBkHNOtAWZdl\n",
       "Rw7x5GSuKX+40XJ5TT2+IJK7UN+R5aMsMP9pOsOI0rTjo3xlxRlyaofxlxvFxBALw5pI7kId5Vf5\n",
       "pY3hijJqSnld5JgpXv+Cj+tfEh0nHiOoE+eZNw+uoKn+9BhcOBB889jxMXIFVPQirnuMXNfY7zNS\n",
       "EiaPx0LJfxMj4lVfD1biXc/cLfAPweuaGrWvV34AAAAASUVORK5CYII=\n",
       "\" style=\"display:inline;vertical-align:middle;\" /></a></span>"
      ],
      "text/plain": [
       "|- (x * y * z) = (x * y * z)"
      ]
     },
     "execution_count": 37,
     "metadata": {},
     "output_type": "execute_result"
    }
   ],
   "source": [
    "expr.factorization(z, 'right', assumptions=assumptions)"
   ]
  },
  {
   "cell_type": "code",
   "execution_count": 38,
   "metadata": {},
   "outputs": [
    {
     "data": {
      "text/html": [
       "<span style=\"font-size:20px;\"><a class=\"ProveItLink\" href=\"__pv_it/1d056d4e6cf7fbcc034c9071ed1bf9b5345acc970/expr.ipynb\"><img src=\"data:image/png;base64,iVBORw0KGgoAAAANSUhEUgAAAL8AAAAVBAMAAADlQyK9AAAAMFBMVEX///+IiIi6urrc3NxERETM\n",
       "zMwQEBCqqqpUVFQiIiJ2dnYyMjLu7u5mZmaYmJgAAABN0h6tAAAAAXRSTlMAQObYZgAAAhVJREFU\n",
       "OMtjYGDgu8dAG8B68QCI4tnFQCvAlAoi+T7gkJae/W3KBZyaiZK9DWJzTcCuJvQ7w9l/OI0gTnYl\n",
       "Hgv4OAQYGN7jMoJIWWwWPJk5cwOIfsoGjCEOdCPwy/J5zpyNIovFghAZKOOCCSgBCKCagF+W1fEA\n",
       "mizcAh7BZsWF4CS1B6qYpyEWofPgRQbmHJyyDJpJrA9A9OkD6LLLQAQH0M+nGF4KgD3HYQCVYl6g\n",
       "iDBhgRoD4wecsjx+slfAjGYM2fcgoiyAgWENw/oDyiAOC0wX8wWEEcwFtxlYHHDJMvAwMDuAGQ4Y\n",
       "stzAeAiZDGQcYHCBiITtBgJQNPI4RCGZkMjAL4BLFhQ14LBhzQZJo8p2ArWpBYBYHyECJnBNeziQ\n",
       "cuQfhvgAnLIMTA0QhztgyHKDZDhA4qxfISJscF1vwYog0ca7gUEMtyxDBVQwAUP2PSwV1QDjEJwC\n",
       "eeEpj0UIyGTaAGE3MHjglmW/wABx8UUM2WVQC5i+s3xgBqc0hulwR972OnDc5QDPb5DBDUz/cMtG\n",
       "vnq4CSzGWYAqi8gHPI0ysu8gUiecDsCyze38ucCAnwnk8zTKfsYte4EvWwGSGFp0UGWxFhVanpDC\n",
       "AAbYD0BjAY8sPLaXQIoKOIBYkIC3TOcC4m6G8wq4ZfGAlXjrA2gxAcTzGBzxyOIB4PqAAX+NBop7\n",
       "RdkAPLJ4arQkSDjStE4GAI26wi7+iA88AAAAAElFTkSuQmCC\n",
       "\" style=\"display:inline;vertical-align:middle;\" /></a> <a class=\"ProveItLink\" href=\"__pv_it/0783262d1cb82d6b23b191afe72c2bd8580ea0b30/proof.ipynb\" style=\"text-decoration: none\">&#x22A2;&nbsp;</a><a class=\"ProveItLink\" href=\"__pv_it/429b2a3c9bcc34becf2261f075cf8e35eff23f2d0/expr.ipynb\"><img src=\"data:image/png;base64,iVBORw0KGgoAAAANSUhEUgAAAMcAAAAUBAMAAADLgTR0AAAAMFBMVEX////MzMxUVFR2dna6uroQ\n",
       "EBCqqqqIiIgiIiJmZmYyMjJERETu7u6YmJjc3NwAAACgK8IjAAAAAXRSTlMAQObYZgAAAlVJREFU\n",
       "OMudVU1oE0EU/pJsm012k+YoiDQ3wYPkJh6EIIje0kNAEA/Bk15kUSSslwbBeqpEPYgpxQiePEjo\n",
       "xYO2LgVJsYcWRIoeJAcVQYQKgiBVfG82+9OZWTY6MLP7vpnvvdnvzb4ByttIadMjFftGXcu8rAU2\n",
       "kdqOKog9SGJmRzrgaXqQ1wpSTGTafQ1Q6qYHyTky8g6JzGMawBylB7HnZOQ2EpmvNMAXTNAeS3a5\n",
       "g0Rmsa4CLj2GVz5eDRUZ3kf5fLjiTDNDZ+i4xMuzUjLTdh188pCLVDRu1g+BgVWarZVumWG+aqeQ\n",
       "3w2FWnWX6PFeZOaJaOzD4sMrM3PGHOYpVVHmN3ceDASwQLNebs9ggW1WotWDNRgbNJT5/aL0JWaL\n",
       "hjjTo/650Mdz+qtYSgHQ8BUCaLIn4RXY6rNxFjPO2KB2kJfPSkGmWPcY0/7FLqcc/AQyuwFA7y8g\n",
       "gCYbM76uZpWF3MNsJTBgiDEpSMi8wUPDy3wfB/EBnIQfZEE4qUQO6KOvRdYFP/2xnFRjcu1n9pCn\n",
       "s250onrk77PD6Zv25pH3ghmripVoWRfZIPGxFiR+P3OFufHEXwJ8gE5no/VSFLzxl1SN36Fx4M0O\n",
       "/yP35BLAR0xh3kWDghdqgZ1ZPHG9LgBSYr09XI4Kqn3Y/RMa3dI5lv+RFERIojDX2w/ppBVDAQt4\n",
       "yzskQFMcCkqN60xYVnrUN2RwQ1PmjmCr/l8FMtu3fyQUSKxJ2CKepZd6a6QyzW3LSSj1ytVz2q3I\n",
       "LtcmurSM9p0gvLKf9Ou39C/X7wcN8Bd9aLM9T6vwQgAAAABJRU5ErkJggg==\n",
       "\" style=\"display:inline;vertical-align:middle;\" /></a></span>"
      ],
      "text/plain": [
       "{x in Complexes, y in Complexes, z in Complexes} |- (x * y * z) = ((x * y) * z)"
      ]
     },
     "execution_count": 38,
     "metadata": {},
     "output_type": "execute_result"
    }
   ],
   "source": [
    "expr.factorization(Mult(x, y), 'left', assumptions=assumptions)"
   ]
  },
  {
   "cell_type": "code",
   "execution_count": 39,
   "metadata": {},
   "outputs": [
    {
     "data": {
      "text/html": [
       "<span style=\"font-size:20px;\"><a class=\"ProveItLink\" href=\"__pv_it/1d056d4e6cf7fbcc034c9071ed1bf9b5345acc970/expr.ipynb\"><img src=\"data:image/png;base64,iVBORw0KGgoAAAANSUhEUgAAAL8AAAAVBAMAAADlQyK9AAAAMFBMVEX///+IiIi6urrc3NxERETM\n",
       "zMwQEBCqqqpUVFQiIiJ2dnYyMjLu7u5mZmaYmJgAAABN0h6tAAAAAXRSTlMAQObYZgAAAhVJREFU\n",
       "OMtjYGDgu8dAG8B68QCI4tnFQCvAlAoi+T7gkJae/W3KBZyaiZK9DWJzTcCuJvQ7w9l/OI0gTnYl\n",
       "Hgv4OAQYGN7jMoJIWWwWPJk5cwOIfsoGjCEOdCPwy/J5zpyNIovFghAZKOOCCSgBCKCagF+W1fEA\n",
       "mizcAh7BZsWF4CS1B6qYpyEWofPgRQbmHJyyDJpJrA9A9OkD6LLLQAQH0M+nGF4KgD3HYQCVYl6g\n",
       "iDBhgRoD4wecsjx+slfAjGYM2fcgoiyAgWENw/oDyiAOC0wX8wWEEcwFtxlYHHDJMvAwMDuAGQ4Y\n",
       "stzAeAiZDGQcYHCBiITtBgJQNPI4RCGZkMjAL4BLFhQ14LBhzQZJo8p2ArWpBYBYHyECJnBNeziQ\n",
       "cuQfhvgAnLIMTA0QhztgyHKDZDhA4qxfISJscF1vwYog0ca7gUEMtyxDBVQwAUP2PSwV1QDjEJwC\n",
       "eeEpj0UIyGTaAGE3MHjglmW/wABx8UUM2WVQC5i+s3xgBqc0hulwR972OnDc5QDPb5DBDUz/cMtG\n",
       "vnq4CSzGWYAqi8gHPI0ysu8gUiecDsCyze38ucCAnwnk8zTKfsYte4EvWwGSGFp0UGWxFhVanpDC\n",
       "AAbYD0BjAY8sPLaXQIoKOIBYkIC3TOcC4m6G8wq4ZfGAlXjrA2gxAcTzGBzxyOIB4PqAAX+NBop7\n",
       "RdkAPLJ4arQkSDjStE4GAI26wi7+iA88AAAAAElFTkSuQmCC\n",
       "\" style=\"display:inline;vertical-align:middle;\" /></a> <a class=\"ProveItLink\" href=\"__pv_it/f6e3a6135989ed4524224b470e6554d151a455880/proof.ipynb\" style=\"text-decoration: none\">&#x22A2;&nbsp;</a><a class=\"ProveItLink\" href=\"__pv_it/adea8a5232f81c7d7343fc74c6355eaee3b4fbff0/expr.ipynb\"><img src=\"data:image/png;base64,iVBORw0KGgoAAAANSUhEUgAAAMcAAAAUBAMAAADLgTR0AAAAMFBMVEX////MzMxUVFR2dna6uroQ\n",
       "EBCqqqqIiIgiIiJmZmYyMjJERETu7u6YmJjc3NwAAACgK8IjAAAAAXRSTlMAQObYZgAAAnFJREFU\n",
       "OMulVUFoE1EQnSTbZLe7SXMsiHRvBQ8ltyJUXIRST00PAUE8BE8KIosiYaXQIFihUIl6ECPiCj15\n",
       "kNKLB21dKhKxhxZEqoKyBxVBhAhioVRx5v/s3+Vv4Ws78H523p8/k52ZnQ9Q2gCF5MM0911JkJzv\n",
       "AdZAKSMpxlpUEUyyIQc8Ugd5lWL6QxXBQ/scxZY6SM6VmXdKgssohx6qg1hTMnNdSXB5wfEV/kEW\n",
       "JL3UVBFRFh0GDx87Fz5dFBnp3IbSKWF1vJbB7jssnS1QjrWrzsEkYTVGJkbFy3sufA4ghzxiGYlK\n",
       "8ZruR9uVcSh0he2ydxd/3rPKPGRC/k1q+7XNO6KliHgOb905UUZtCmaw4j7DLBJBbkej0lj04vU2\n",
       "mIs9BZcSPZ+R3kSv4xLAN4jsiBiDo8EksA2AL4YPT/ATazLUyMzkf2mdOg5OwIDbU1AO0JEhKUif\n",
       "Q2vmaXSIEQF5pajbFKjPhS006TLUiB/gFdFtSvUODJUjBTS27h7kWHyIE1t89wot1SDzQwSZZU7K\n",
       "sQN8z0uxdpqXP1ETO0pX3pbyR16FtKGAja81GbDw+WAGCoGooQ1L8dhqQTYqfEJY4c8C2EniHPbL\n",
       "tDBZIkdR4bE7q/Vniflm2NpvoQy+3qRv5JY8ArDFMvNHLjsJQvtldhPD9iZUUTEqDJiJ1UbnXrxr\n",
       "DXt/hNIqniRHD6QglAUD3iwkCWt42vsQm6w27mPD9pcZdhkrhi+PleZexkob8ZIjNSAPwbqz/wGZ\n",
       "9a2f8YCEFWl7Hh6rR70ZKgh9w3TjUZ+6tCa8suxy5f8vLa1xoxeahVdfv8U9X78fOf4CMBqyApmk\n",
       "y9wAAAAASUVORK5CYII=\n",
       "\" style=\"display:inline;vertical-align:middle;\" /></a></span>"
      ],
      "text/plain": [
       "{x in Complexes, y in Complexes, z in Complexes} |- (x * y * z) = (z * (x * y))"
      ]
     },
     "execution_count": 39,
     "metadata": {},
     "output_type": "execute_result"
    }
   ],
   "source": [
    "expr.factorization(Mult(x, y), 'right', assumptions=assumptions)"
   ]
  },
  {
   "cell_type": "code",
   "execution_count": 40,
   "metadata": {},
   "outputs": [
    {
     "data": {
      "text/html": [
       "<span style=\"font-size:20px;\"><a class=\"ProveItLink\" href=\"__pv_it/1d056d4e6cf7fbcc034c9071ed1bf9b5345acc970/expr.ipynb\"><img src=\"data:image/png;base64,iVBORw0KGgoAAAANSUhEUgAAAL8AAAAVBAMAAADlQyK9AAAAMFBMVEX///+IiIi6urrc3NxERETM\n",
       "zMwQEBCqqqpUVFQiIiJ2dnYyMjLu7u5mZmaYmJgAAABN0h6tAAAAAXRSTlMAQObYZgAAAhVJREFU\n",
       "OMtjYGDgu8dAG8B68QCI4tnFQCvAlAoi+T7gkJae/W3KBZyaiZK9DWJzTcCuJvQ7w9l/OI0gTnYl\n",
       "Hgv4OAQYGN7jMoJIWWwWPJk5cwOIfsoGjCEOdCPwy/J5zpyNIovFghAZKOOCCSgBCKCagF+W1fEA\n",
       "mizcAh7BZsWF4CS1B6qYpyEWofPgRQbmHJyyDJpJrA9A9OkD6LLLQAQH0M+nGF4KgD3HYQCVYl6g\n",
       "iDBhgRoD4wecsjx+slfAjGYM2fcgoiyAgWENw/oDyiAOC0wX8wWEEcwFtxlYHHDJMvAwMDuAGQ4Y\n",
       "stzAeAiZDGQcYHCBiITtBgJQNPI4RCGZkMjAL4BLFhQ14LBhzQZJo8p2ArWpBYBYHyECJnBNeziQ\n",
       "cuQfhvgAnLIMTA0QhztgyHKDZDhA4qxfISJscF1vwYog0ca7gUEMtyxDBVQwAUP2PSwV1QDjEJwC\n",
       "eeEpj0UIyGTaAGE3MHjglmW/wABx8UUM2WVQC5i+s3xgBqc0hulwR972OnDc5QDPb5DBDUz/cMtG\n",
       "vnq4CSzGWYAqi8gHPI0ysu8gUiecDsCyze38ucCAnwnk8zTKfsYte4EvWwGSGFp0UGWxFhVanpDC\n",
       "AAbYD0BjAY8sPLaXQIoKOIBYkIC3TOcC4m6G8wq4ZfGAlXjrA2gxAcTzGBzxyOIB4PqAAX+NBop7\n",
       "RdkAPLJ4arQkSDjStE4GAI26wi7+iA88AAAAAElFTkSuQmCC\n",
       "\" style=\"display:inline;vertical-align:middle;\" /></a> <a class=\"ProveItLink\" href=\"__pv_it/65892d07161d06d9f0e9fb05f8bf1e4acf0654570/proof.ipynb\" style=\"text-decoration: none\">&#x22A2;&nbsp;</a><a class=\"ProveItLink\" href=\"__pv_it/4b65ba39da1c44174c9cbc96f0a01e868b8256e40/expr.ipynb\"><img src=\"data:image/png;base64,iVBORw0KGgoAAAANSUhEUgAAAMcAAAAUBAMAAADLgTR0AAAAMFBMVEX////MzMxUVFR2dna6uroQ\n",
       "EBCqqqqIiIgiIiJmZmYyMjJERETu7u6YmJjc3NwAAACgK8IjAAAAAXRSTlMAQObYZgAAAnhJREFU\n",
       "OMuVlU1oE0EUx/+bbPPhbmKOgkj3VvBQchNBcRGknkwPBUE8BE8KIosiYaXQXKwgtEQ9iBFxhZw8\n",
       "SPDiQVuXikTsoQWRqqDkoCKIEEHspYpvJruzy0yWjQOZzXv7e/Nm33vzBihvImXk+qruB/1GWars\n",
       "BTatI3VMKxqzm2SpsBnm9lG6k9eKZleipcKaHlBqpTvJOrLmPZIsVfYAUOinOzFnZc0ykixV9iXw\n",
       "DWOMjiSXm0i07CihteHSo3fx8yXxlb3bKJ8WxPE5jWrooGSXZ5EiS9N18MUPtfpVe1+cNRvTMxSr\n",
       "bAsrJFRL1wpe+Kp6DPmB4Fbcu/T4wKP9kA+2vsGKlyyz+iwWxKLrW3e6AcvHC7xzrlPuPCwS6md3\n",
       "dBZgk0Wi3obRDQSayuz/WelLCnWayPJr0cPTkIWP7yHLFYdwxD9BR6eJOabhqwIbHhNOYrcTCDT2\n",
       "smhMSk4mbJrI0p9wsB2x2rOQ5QqfbwDagKEYrkobtFhkdzBZCQXofE5ygpqv/RQsjgo2UGwHThb5\n",
       "i0q0AEXgciSdGaY/lhMrFi60kY9KNmcJdjj4BqA3Wfpy/gLyokYMC48juxYyiCczYILEE2lYQnsO\n",
       "sOLseSqgeZ54qrha/TlveMGXWPofIex5s8Xq/pZ8rFmJsVq9iZroktrS4St2jNV/GwPWQ4tV9nVr\n",
       "jd69qKGaU+5fIbRKp1j4H0hO9GYQl7XGfXHui3jbibPm1Lz7kR3GyqjmUPTkVtFMbivtVPbViDa3\n",
       "Hxv2uA0y45m/xmmQWJV0S3iS3uqNPrcsbBrOOK1euXpm3IrMrSZdWnrjRirL95N+/Zb+4/pV2U/A\n",
       "P9aEr+bVSkiGAAAAAElFTkSuQmCC\n",
       "\" style=\"display:inline;vertical-align:middle;\" /></a></span>"
      ],
      "text/plain": [
       "{x in Complexes, y in Complexes, z in Complexes} |- (x * y * z) = ((y * z) * x)"
      ]
     },
     "execution_count": 40,
     "metadata": {},
     "output_type": "execute_result"
    }
   ],
   "source": [
    "expr.factorization(Mult(y, z), 'left', assumptions=assumptions)"
   ]
  },
  {
   "cell_type": "code",
   "execution_count": 41,
   "metadata": {},
   "outputs": [
    {
     "data": {
      "text/html": [
       "<span style=\"font-size:20px;\"><a class=\"ProveItLink\" href=\"__pv_it/1d056d4e6cf7fbcc034c9071ed1bf9b5345acc970/expr.ipynb\"><img src=\"data:image/png;base64,iVBORw0KGgoAAAANSUhEUgAAAL8AAAAVBAMAAADlQyK9AAAAMFBMVEX///+IiIi6urrc3NxERETM\n",
       "zMwQEBCqqqpUVFQiIiJ2dnYyMjLu7u5mZmaYmJgAAABN0h6tAAAAAXRSTlMAQObYZgAAAhVJREFU\n",
       "OMtjYGDgu8dAG8B68QCI4tnFQCvAlAoi+T7gkJae/W3KBZyaiZK9DWJzTcCuJvQ7w9l/OI0gTnYl\n",
       "Hgv4OAQYGN7jMoJIWWwWPJk5cwOIfsoGjCEOdCPwy/J5zpyNIovFghAZKOOCCSgBCKCagF+W1fEA\n",
       "mizcAh7BZsWF4CS1B6qYpyEWofPgRQbmHJyyDJpJrA9A9OkD6LLLQAQH0M+nGF4KgD3HYQCVYl6g\n",
       "iDBhgRoD4wecsjx+slfAjGYM2fcgoiyAgWENw/oDyiAOC0wX8wWEEcwFtxlYHHDJMvAwMDuAGQ4Y\n",
       "stzAeAiZDGQcYHCBiITtBgJQNPI4RCGZkMjAL4BLFhQ14LBhzQZJo8p2ArWpBYBYHyECJnBNeziQ\n",
       "cuQfhvgAnLIMTA0QhztgyHKDZDhA4qxfISJscF1vwYog0ca7gUEMtyxDBVQwAUP2PSwV1QDjEJwC\n",
       "eeEpj0UIyGTaAGE3MHjglmW/wABx8UUM2WVQC5i+s3xgBqc0hulwR972OnDc5QDPb5DBDUz/cMtG\n",
       "vnq4CSzGWYAqi8gHPI0ysu8gUiecDsCyze38ucCAnwnk8zTKfsYte4EvWwGSGFp0UGWxFhVanpDC\n",
       "AAbYD0BjAY8sPLaXQIoKOIBYkIC3TOcC4m6G8wq4ZfGAlXjrA2gxAcTzGBzxyOIB4PqAAX+NBop7\n",
       "RdkAPLJ4arQkSDjStE4GAI26wi7+iA88AAAAAElFTkSuQmCC\n",
       "\" style=\"display:inline;vertical-align:middle;\" /></a> <a class=\"ProveItLink\" href=\"__pv_it/98382439b4a1fa2b75f93bfea2c5bd7775e471d40/proof.ipynb\" style=\"text-decoration: none\">&#x22A2;&nbsp;</a><a class=\"ProveItLink\" href=\"__pv_it/494edf462e90f8fe3a1c4c7255aa9fbc9c9cd6c60/expr.ipynb\"><img src=\"data:image/png;base64,iVBORw0KGgoAAAANSUhEUgAAAMcAAAAUBAMAAADLgTR0AAAAMFBMVEX////MzMxUVFR2dna6uroQ\n",
       "EBCqqqqIiIgiIiJmZmYyMjJERETu7u6YmJjc3NwAAACgK8IjAAAAAXRSTlMAQObYZgAAAl1JREFU\n",
       "OMudVUGI01AQnbbZtmmSbo+CyOYmeJDexINQBNFb91AQxEPxpBcJipR42SK4nlaiexArYgRPHmTx\n",
       "4kF3DQtS0cMWRBY9SA8qgggrCIKs4sz/yU87SUjZD++3/+XPm5+ZyXyA+ghyRnmc5H5wIlXmYgh4\n",
       "C7njcIIx1ziTKlMcS8CTfCdvEkwt8XKpMqYvYXn5TkoOZz5wIkPmiER1nO/EXOTMTU5kyLyS+AYz\n",
       "jEc8y32+I0Om1hJw8e/w0ufLKiLDO1A/q3ad6hSwbI4y24rHrVDGdB34EkSEdr11AAPtCazj06Z1\n",
       "o+pHT5snoLKjArXu3sOfjyIzj8UgfWPErVCmpC3CUlxt23exAi1fYBmfBqVdjWJqUiS6AzDWwgVO\n",
       "dfp/nmegO2ElDo8yX3UfnkNEBPCdPrG+QIeUDFn2W1RxcBrmnXCBYz+ZLDAnc63YyvxDM8oEcw78\n",
       "VgQUXtC0I9AhYl7GtmpTMHdhoREtQBNzmhNldS10Au2g8FMRcBxiJ8tCpBEL4EtfiVfnZPoncmKH\n",
       "4Zq2IpkBVOJaL8sz9gUwY+VgCSqqLAwbnsZbPShGiZ8YlPhpK5RBM8NWWy4A2CrxWJ3t7suJhqfb\n",
       "2l+12Pdum76RVd4CPG5FRX4b2qpLFlaOXcWY6k0BjMRmb3g/7qHmQfefWnjWGQr/Q+aEojBtRQHd\n",
       "7D1Q370O7+l0tYZASj/Qfd5W+jO2lQGnX0skOtsh2GrtqUEWffNXRoOEDcavwLP8Vm8k3n8DqiPD\n",
       "yWj1idvmpNtICsxyaWm9W2lnEefJv36tPV+/nyT+A7iHsz3PeipbAAAAAElFTkSuQmCC\n",
       "\" style=\"display:inline;vertical-align:middle;\" /></a></span>"
      ],
      "text/plain": [
       "{x in Complexes, y in Complexes, z in Complexes} |- (x * y * z) = (x * (y * z))"
      ]
     },
     "execution_count": 41,
     "metadata": {},
     "output_type": "execute_result"
    }
   ],
   "source": [
    "expr.factorization(Mult(y, z), 'right', assumptions=assumptions)"
   ]
  },
  {
   "cell_type": "code",
   "execution_count": 42,
   "metadata": {},
   "outputs": [
    {
     "data": {
      "text/html": [
       "<strong id=\"expr\">expr:</strong> <a class=\"ProveItLink\" href=\"__pv_it/87d377575b5814ab470e1a48bd0e712faf7752c50/expr.ipynb\"><img src=\"data:image/png;base64,iVBORw0KGgoAAAANSUhEUgAAAF0AAAANBAMAAAA50X8HAAAAMFBMVEX///8QEBBmZmaqqqrMzMxE\n",
       "REQyMjIiIiKYmJh2dna6urrc3NxUVFSIiIju7u4AAAA6P00QAAAAAXRSTlMAQObYZgAAARxJREFU\n",
       "KM9jYHh7Z9fNCwxQ8FaXgVsOxmFYLsXSAGXyXbrAYMZg+ICBbwJHLXsCTMWEhQy8H2AcvohLqjA2\n",
       "J7MAQwzD+gUMnA84/3FtAIo8AGJuAzUG1gAoh4GPgRvEBnM2MyUw/GBg3QAUBCtg4PsGViHLwH8B\n",
       "ygEC1wcwmQeMF1h+MzCBBPkhrq8BEVz/GPwdYBwGrgMImfUbeAUYOEEssAIoANp6EcGzQTAZgA49\n",
       "wLCLgYH5wX0G3gcwUaBYDFwJswIDD5wTw8A+gQHokvUG8Qw7EOYf4PoB57h39mbBOdcYFgawLGBg\n",
       "eHP3rUYDXJTv7KXfcI4Ch9gChEm6987OYMAETAkMJIBjDO8XkKK+giGWFOUMay854FcAAHs+SC7+\n",
       "Pe5QAAAAAElFTkSuQmCC\n",
       "\" style=\"display:inline;vertical-align:middle;\" /></a><br>"
      ],
      "text/plain": [
       "expr: x * y * z * w"
      ]
     },
     "execution_count": 42,
     "metadata": {},
     "output_type": "execute_result"
    }
   ],
   "source": [
    "expr = Mult(x, y, z, w)"
   ]
  },
  {
   "cell_type": "code",
   "execution_count": 43,
   "metadata": {},
   "outputs": [
    {
     "data": {
      "text/html": [
       "<span style=\"font-size:20px;\"><a class=\"ProveItLink\" href=\"__pv_it/a76187a2521a987ebcb10fcbc46510975a3b3f6d0/expr.ipynb\"><img src=\"data:image/png;base64,iVBORw0KGgoAAAANSUhEUgAAAQEAAAAVBAMAAAC08kb3AAAAMFBMVEX///+IiIi6urrc3NxERETM\n",
       "zMwQEBCqqqpUVFQiIiJ2dnYyMjLu7u5mZmaYmJgAAABN0h6tAAAAAXRSTlMAQObYZgAAAtJJREFU\n",
       "SMfFVk1oE0EUftlkk02ySaMHEdNgegmiQkoJCIKSiIdWKuZQPQi1UfBQFMxBelFhg15EBEVRQrXs\n",
       "QQoFKUFEUAtuQLAg0uTgKVgrqLcSoaCINThvZnezhpktySUPMvOy37zvvXnz5gcAoqvQJ5HrBnbq\n",
       "K+ibSOexjf4QwPHZn/drQmPPyzfTx3tE2+QN1EN3+GNO/oIPLWEE8lRR/bzeG+ogX3CJIKrEAJrC\n",
       "CNZKZMjf3lAHOS+Cr+VyBftvflIlSmcE0bHyLO3zF0l7uyuUR86JYGLQVGoZrNJYR3ZzBlMi3ixp\n",
       "q92gXPJ2BNWdI7vQm7pkjlG1ybZltQ5enBW8N13AsuzIjvQgeUaIqokYXIEZg08+j41C8qLq0btB\n",
       "zI8ybEJefajtQk+Bh+6Y69aXg5IjO2+/fMoK0VCgAKOQTvLJm9jM5MkwI7QpIe6zDL21dgTeYgN8\n",
       "1EfW+nTIGYEBGRCiByIVaIFPQB4myZq4h2kxPcCp10QwGWr2dDuRcBYGkFO+gDCdtqw7C2AchKjh\n",
       "j8kbEBGR3yS8qTxqAyzqjG25pDgWehOmcJTXnmXY0BwR7GEz46PpYU8BQgLyMA5UqCH1AOC3B60r\n",
       "LMG0tiuwgyoFe9/VNJocKgHTHx8lK6jBiIC8ae2FgLEbPOgtYi+gbztRpQrTNVJMKHWbI4cruY/p\n",
       "1wA0MToKQR0oLYd83oogXTwBhyn20GZpHDPeHTXUP2iqSS36LVi00Mjzp+rlcVghLPLcYjwpRCEO\n",
       "qayc5JI7zoPlbdXVNbaVj1ibWm5cekyWpkz+q6XEBqvJG/stjskXvz8Sp4+IO/j+TIxCpD5YWgQ+\n",
       "OfdU3jvGDk5LAoZZCawmn7Bz15ar/122riiH3Iyg4HqFYxXfgpWkANZdjfWtHggLru8D80QmvznI\n",
       "CdDOi6MblG0UFPc3EpbHUCIvumZdbaNbvpHOsZXu7zvxH6RA7a9oExsKAAAAAElFTkSuQmCC\n",
       "\" style=\"display:inline;vertical-align:middle;\" /></a> <a class=\"ProveItLink\" href=\"__pv_it/7086fd26c524a0847a2a30f70a600b9b956756770/proof.ipynb\" style=\"text-decoration: none\">&#x22A2;&nbsp;</a><a class=\"ProveItLink\" href=\"__pv_it/0419620a7b11c4499577c0cf2b84fd1ed9ff27520/expr.ipynb\"><img src=\"data:image/png;base64,iVBORw0KGgoAAAANSUhEUgAAAQMAAAAUBAMAAAB7W0VvAAAAMFBMVEX////MzMxUVFR2dna6uroQ\n",
       "EBCqqqqIiIgiIiJmZmYyMjJERETu7u6YmJjc3NwAAACgK8IjAAAAAXRSTlMAQObYZgAAAq5JREFU\n",
       "SMetlk9oE0EUxr9Ntsluskl7FES6t4IHyU08FIJQ9JYcAoJ4CIKgHmRRJKQIDYL1VEn1UIyIETx5\n",
       "kJCLB21dCpJiDxZEij1IDlUEESoIgrTFN+P+y0w2mwUHNsmbb/Y3L++9fbNAfgvxRqovz/2gayjo\n",
       "WgSM65uIO05IM0YnDJToj2Zx/UVsF95JM5lQkNEezWJ6rhnbhaQlznxCKOhkBIx0rR/bBaMsztxD\n",
       "KOhtBIz0b4g/ngl2voFQUKY4mkV6nb5613dveMHtrSB/wVtxtqK4hW7ULVzFJRs4JWDSLAciiC3/\n",
       "YiPp50e9UzwGEUb6KpmF3F3NK5vCHNJ73srV+iOvBFJldFGif7XDzed8sB2yzEsRlFTLWKAS8etx\n",
       "c/thR4KRvkimndxXWSZtFtRqC9mOY8BAnt/FjK96GwfI0sLLQhS0Kn2IILb8FXWRhns/fXyHBCO9\n",
       "wvbhe8L4wzc9h0nLMWgctV3FnrCUQ+j0a1pwYYLlWwTRcvwGlD14MOU1JBjpFTY7+S+Bt3nG9jE9\n",
       "5RpQTV8p9dNlJEe4MAgq2cpPxwUHdhoyjPRFZvM9nUERuulbFwM7UYZM7LIaDdSCGUjEIKgF2gRq\n",
       "w+/s5hAY6VRFKXsBadvVSOn6dzWR8IwutALY39wRouCW4yCoy1DBcrwCmBKMdHrAStU3/JxxomCq\n",
       "B55x5MO23wTmMddRWMwfiO2SPRYS6D5K5JpecG1laXa+KMFIp6Cu13qP/VPOmKkfekYzd96/S1+5\n",
       "NTPLfjwVXODBlkDrtSf0dGS81Oj4GOhpLoz0IX1VjzpaGmM26BZdGxGddmPI6XIc74v/45hKtI1f\n",
       "4x1TWBPmlvAy9mHN+pUI0ray1niHtfSmcaY+FeHC2livLGpt2XVuxOB67Be3XJwXt88RMNL/AknE\n",
       "3DMuQPGRAAAAAElFTkSuQmCC\n",
       "\" style=\"display:inline;vertical-align:middle;\" /></a></span>"
      ],
      "text/plain": [
       "{x in Complexes, y in Complexes, z in Complexes, w in Complexes} |- (x * y * z * w) = ((x * y) * z * w)"
      ]
     },
     "execution_count": 43,
     "metadata": {},
     "output_type": "execute_result"
    }
   ],
   "source": [
    "expr.factorization(Mult(x, y), 'left', assumptions=assumptions)"
   ]
  },
  {
   "cell_type": "code",
   "execution_count": 44,
   "metadata": {},
   "outputs": [
    {
     "data": {
      "text/html": [
       "<span style=\"font-size:20px;\"><a class=\"ProveItLink\" href=\"__pv_it/a76187a2521a987ebcb10fcbc46510975a3b3f6d0/expr.ipynb\"><img src=\"data:image/png;base64,iVBORw0KGgoAAAANSUhEUgAAAQEAAAAVBAMAAAC08kb3AAAAMFBMVEX///+IiIi6urrc3NxERETM\n",
       "zMwQEBCqqqpUVFQiIiJ2dnYyMjLu7u5mZmaYmJgAAABN0h6tAAAAAXRSTlMAQObYZgAAAtJJREFU\n",
       "SMfFVk1oE0EUftlkk02ySaMHEdNgegmiQkoJCIKSiIdWKuZQPQi1UfBQFMxBelFhg15EBEVRQrXs\n",
       "QQoFKUFEUAtuQLAg0uTgKVgrqLcSoaCINThvZnezhpktySUPMvOy37zvvXnz5gcAoqvQJ5HrBnbq\n",
       "K+ibSOexjf4QwPHZn/drQmPPyzfTx3tE2+QN1EN3+GNO/oIPLWEE8lRR/bzeG+ogX3CJIKrEAJrC\n",
       "CNZKZMjf3lAHOS+Cr+VyBftvflIlSmcE0bHyLO3zF0l7uyuUR86JYGLQVGoZrNJYR3ZzBlMi3ixp\n",
       "q92gXPJ2BNWdI7vQm7pkjlG1ybZltQ5enBW8N13AsuzIjvQgeUaIqokYXIEZg08+j41C8qLq0btB\n",
       "zI8ybEJefajtQk+Bh+6Y69aXg5IjO2+/fMoK0VCgAKOQTvLJm9jM5MkwI7QpIe6zDL21dgTeYgN8\n",
       "1EfW+nTIGYEBGRCiByIVaIFPQB4myZq4h2kxPcCp10QwGWr2dDuRcBYGkFO+gDCdtqw7C2AchKjh\n",
       "j8kbEBGR3yS8qTxqAyzqjG25pDgWehOmcJTXnmXY0BwR7GEz46PpYU8BQgLyMA5UqCH1AOC3B60r\n",
       "LMG0tiuwgyoFe9/VNJocKgHTHx8lK6jBiIC8ae2FgLEbPOgtYi+gbztRpQrTNVJMKHWbI4cruY/p\n",
       "1wA0MToKQR0oLYd83oogXTwBhyn20GZpHDPeHTXUP2iqSS36LVi00Mjzp+rlcVghLPLcYjwpRCEO\n",
       "qayc5JI7zoPlbdXVNbaVj1ibWm5cekyWpkz+q6XEBqvJG/stjskXvz8Sp4+IO/j+TIxCpD5YWgQ+\n",
       "OfdU3jvGDk5LAoZZCawmn7Bz15ar/122riiH3Iyg4HqFYxXfgpWkANZdjfWtHggLru8D80QmvznI\n",
       "CdDOi6MblG0UFPc3EpbHUCIvumZdbaNbvpHOsZXu7zvxH6RA7a9oExsKAAAAAElFTkSuQmCC\n",
       "\" style=\"display:inline;vertical-align:middle;\" /></a> <a class=\"ProveItLink\" href=\"__pv_it/100d3ef281ad4a0a9812213d853c084786beeb100/proof.ipynb\" style=\"text-decoration: none\">&#x22A2;&nbsp;</a><a class=\"ProveItLink\" href=\"__pv_it/10252c7cfe71a0337015a1fd20fdce8b047c1d310/expr.ipynb\"><img src=\"data:image/png;base64,iVBORw0KGgoAAAANSUhEUgAAAQMAAAAUBAMAAAB7W0VvAAAAMFBMVEX////MzMxUVFR2dna6uroQ\n",
       "EBCqqqqIiIgiIiJmZmYyMjJERETu7u6YmJjc3NwAAACgK8IjAAAAAXRSTlMAQObYZgAAAs9JREFU\n",
       "SMe1Vk1oE1EQ/rbZZrPZzc/BgyCSvRU8SG7ioRCEorfkEBDUQxAK6kGCpYQUoUGxnipRD6URcQVP\n",
       "HiTk4kGrS0Ai9tCASLEHyaGKIEKFgiBtcN7b3+4mLCv1wbfszL6Zb9682TcPSPcRbcQHQd3PEJuR\n",
       "JNctYB1Rx8mARm2HmIwkmRiYwIvIIXwIaJKDEJORJKpuItWMHEKs6td8DrEYQ3LKRGIQOQS15Nfc\n",
       "C7EYQ/LOxHdEH8/8xdYIMRhDkixw1Om1d2N7zklubwXpS86sc2XBLma1XsU1zBrAaZ8rieVZvFM4\n",
       "7vER1+OuFz8Jc/XVQIzsCGukyKfuJnR7en4G0o6T87X6I6cE4iV0UKTIt7j4nA/GrrAo1zdXnf8i\n",
       "PwtFE3edEPwkMbGERSoRnWOJFEZsT2S7ZbCkVlpQ2pYAFWnulwnfZB37UGjiFf9WV/iUH6aF6SPT\n",
       "xxtLRICEuXpFJ0yDo8ymcU6of7jNeWSqlkDjmGF/MSarwhAyveV8IUwW2FN4zZ4buukjN0DTEhEg\n",
       "IVf4TRY7HGWmz5ibdIs9xD3ksrYAUXO/FAdSCbGxIZwxM8IMxCHmaTtsMUhSNIRfTghLTMM5rUE5\n",
       "mnelyx4m2iEN26xGPbWg2RsR1w746CBdcOQASQu0GogNDqqUuLEIybC/Ek3H7QdNTDhCB4k82FK2\n",
       "fFng5XgV0Dw+bkOCtxwPknTYFLsc6QcrVt56+oysifuOcPTjpnsILGCmLbClPfQfl7TrwvL0grNs\n",
       "SRcv4og7IUDyAEUKW85zUFK7td5jt5OpU/WhIzRTF9x0yis3p6bZy1NfCCyhMj55TqzVWnfO0xwD\n",
       "JN3aE/o7klmOEWenrIcc0I1DOKBbhPcmAh3kBDYK/7tNTejqrtum+AHiHct4GblZK2G9zkeS6CtV\n",
       "t1kHbhNn69lo/v7hyiLW7luB8+AjX9xSh3Vx+2LiL2CO2kTTEvb2AAAAAElFTkSuQmCC\n",
       "\" style=\"display:inline;vertical-align:middle;\" /></a></span>"
      ],
      "text/plain": [
       "{x in Complexes, y in Complexes, z in Complexes, w in Complexes} |- (x * y * z * w) = (z * w * (x * y))"
      ]
     },
     "execution_count": 44,
     "metadata": {},
     "output_type": "execute_result"
    }
   ],
   "source": [
    "expr.factorization(Mult(x, y), 'right', assumptions=assumptions)"
   ]
  },
  {
   "cell_type": "code",
   "execution_count": 45,
   "metadata": {},
   "outputs": [
    {
     "data": {
      "text/html": [
       "<span style=\"font-size:20px;\"><a class=\"ProveItLink\" href=\"__pv_it/a76187a2521a987ebcb10fcbc46510975a3b3f6d0/expr.ipynb\"><img src=\"data:image/png;base64,iVBORw0KGgoAAAANSUhEUgAAAQEAAAAVBAMAAAC08kb3AAAAMFBMVEX///+IiIi6urrc3NxERETM\n",
       "zMwQEBCqqqpUVFQiIiJ2dnYyMjLu7u5mZmaYmJgAAABN0h6tAAAAAXRSTlMAQObYZgAAAtJJREFU\n",
       "SMfFVk1oE0EUftlkk02ySaMHEdNgegmiQkoJCIKSiIdWKuZQPQi1UfBQFMxBelFhg15EBEVRQrXs\n",
       "QQoFKUFEUAtuQLAg0uTgKVgrqLcSoaCINThvZnezhpktySUPMvOy37zvvXnz5gcAoqvQJ5HrBnbq\n",
       "K+ibSOexjf4QwPHZn/drQmPPyzfTx3tE2+QN1EN3+GNO/oIPLWEE8lRR/bzeG+ogX3CJIKrEAJrC\n",
       "CNZKZMjf3lAHOS+Cr+VyBftvflIlSmcE0bHyLO3zF0l7uyuUR86JYGLQVGoZrNJYR3ZzBlMi3ixp\n",
       "q92gXPJ2BNWdI7vQm7pkjlG1ybZltQ5enBW8N13AsuzIjvQgeUaIqokYXIEZg08+j41C8qLq0btB\n",
       "zI8ybEJefajtQk+Bh+6Y69aXg5IjO2+/fMoK0VCgAKOQTvLJm9jM5MkwI7QpIe6zDL21dgTeYgN8\n",
       "1EfW+nTIGYEBGRCiByIVaIFPQB4myZq4h2kxPcCp10QwGWr2dDuRcBYGkFO+gDCdtqw7C2AchKjh\n",
       "j8kbEBGR3yS8qTxqAyzqjG25pDgWehOmcJTXnmXY0BwR7GEz46PpYU8BQgLyMA5UqCH1AOC3B60r\n",
       "LMG0tiuwgyoFe9/VNJocKgHTHx8lK6jBiIC8ae2FgLEbPOgtYi+gbztRpQrTNVJMKHWbI4cruY/p\n",
       "1wA0MToKQR0oLYd83oogXTwBhyn20GZpHDPeHTXUP2iqSS36LVi00Mjzp+rlcVghLPLcYjwpRCEO\n",
       "qayc5JI7zoPlbdXVNbaVj1ibWm5cekyWpkz+q6XEBqvJG/stjskXvz8Sp4+IO/j+TIxCpD5YWgQ+\n",
       "OfdU3jvGDk5LAoZZCawmn7Bz15ar/122riiH3Iyg4HqFYxXfgpWkANZdjfWtHggLru8D80QmvznI\n",
       "CdDOi6MblG0UFPc3EpbHUCIvumZdbaNbvpHOsZXu7zvxH6RA7a9oExsKAAAAAElFTkSuQmCC\n",
       "\" style=\"display:inline;vertical-align:middle;\" /></a> <a class=\"ProveItLink\" href=\"__pv_it/2a0f0dc079d52048b46e2cf555008cb0f6ae6d700/proof.ipynb\" style=\"text-decoration: none\">&#x22A2;&nbsp;</a><a class=\"ProveItLink\" href=\"__pv_it/648e0e29e15f39e1b480104ba5ae02a94fbb40290/expr.ipynb\"><img src=\"data:image/png;base64,iVBORw0KGgoAAAANSUhEUgAAAQMAAAAUBAMAAAB7W0VvAAAAMFBMVEX////MzMxUVFR2dna6uroQ\n",
       "EBCqqqqIiIgiIiJmZmYyMjJERETu7u6YmJjc3NwAAACgK8IjAAAAAXRSTlMAQObYZgAAAtdJREFU\n",
       "SMedVk1oE0EU/rbZ5nc35iiINLeAh5BbESwGobQnk0NBEA9BEFREgiJhS6BBMAWhEvVQrIgr5ORB\n",
       "Qi4etHWpSKQ9tCBSLSg5VBFEiCAWpC3OTHZn19msy+ZBknlvvvnm5b038wZIbiKYhLtu2w/yGUQ0\n",
       "CPuPXKVf6wgqWZdFaXkRZX24RqiPzwK7sOayxD2J1ny4FB1QG4FdCJVFy0d4EbmxgowD0W5gF5Si\n",
       "aLkDLyI3VpA3wDcEl6agJ2vwJGr6cMXz0MhP59rOdR6wziKS5zhiekayCl3RyriMCwZwXKCJ0Bxo\n",
       "fcQXw7LKt/JHnVilkp0ah0gWamCZqDl1Pqpbk7lJRHocuaw95GkNF9FGIQ9sM/UpE7p7gnpJiEJy\n",
       "EXN8y/WtBy0Ty+Q1PpRvu8hUHXWiGqE9mWaS/oFkaQmJlqlAQZKOmfI1pmMfCQK8KEQhWiJf9T7i\n",
       "BVvVX/MdJpYZTuCkcdpFFq5hhgLYnlD+MPQZHCqbCpEjhjVjjJalA8TIaExwYZREhhIRBHbJcKMf\n",
       "UumlhWUGg7knkkk9uhJsTyI3WQr3MJayFMhpe6bQjRQR+o8LKBjSTxqV/qJTsLCmYRduMuJCneFS\n",
       "Nh+J0A1bO+/YiWQojR1ao45aSDsSQRAR+xCG2b7T9nrmnkgm12gVhY05RHghk5m2TdPACFfaiOZA\n",
       "47UtRMEqR4JIpLn1EpB2Yq+QKq+6yEg5kkNTKL1ifcaMQlre58rhd1v2wZ7FZEuiMb8vXoH0WNDT\n",
       "dw8F3qukhYnZvAMr/070HJ3MIovlaKBWK51H9pyS0Q640lDP5m3nFquZCTp4Irgg18yIr1Ye8zsy\n",
       "hvdNJ1bJVLVPcJHFU4Pu1Zjuc0HXvC/oJV+sIG8HdJdj2MgP2aZGdOXXEG0KK4JtAc8DN2t6XxGi\n",
       "6GaiPESzdr00prSUz7IVryeLXLnrjx3gfOCHmxrg4ab6PQU+A38B4w7Y3P6E4UgAAAAASUVORK5C\n",
       "YII=\n",
       "\" style=\"display:inline;vertical-align:middle;\" /></a></span>"
      ],
      "text/plain": [
       "{x in Complexes, y in Complexes, z in Complexes, w in Complexes} |- (x * y * z * w) = ((y * z) * x * w)"
      ]
     },
     "execution_count": 45,
     "metadata": {},
     "output_type": "execute_result"
    }
   ],
   "source": [
    "expr.factorization(Mult(y, z), 'left', assumptions=assumptions)"
   ]
  },
  {
   "cell_type": "code",
   "execution_count": 46,
   "metadata": {},
   "outputs": [
    {
     "data": {
      "text/html": [
       "<span style=\"font-size:20px;\"><a class=\"ProveItLink\" href=\"__pv_it/a76187a2521a987ebcb10fcbc46510975a3b3f6d0/expr.ipynb\"><img src=\"data:image/png;base64,iVBORw0KGgoAAAANSUhEUgAAAQEAAAAVBAMAAAC08kb3AAAAMFBMVEX///+IiIi6urrc3NxERETM\n",
       "zMwQEBCqqqpUVFQiIiJ2dnYyMjLu7u5mZmaYmJgAAABN0h6tAAAAAXRSTlMAQObYZgAAAtJJREFU\n",
       "SMfFVk1oE0EUftlkk02ySaMHEdNgegmiQkoJCIKSiIdWKuZQPQi1UfBQFMxBelFhg15EBEVRQrXs\n",
       "QQoFKUFEUAtuQLAg0uTgKVgrqLcSoaCINThvZnezhpktySUPMvOy37zvvXnz5gcAoqvQJ5HrBnbq\n",
       "K+ibSOexjf4QwPHZn/drQmPPyzfTx3tE2+QN1EN3+GNO/oIPLWEE8lRR/bzeG+ogX3CJIKrEAJrC\n",
       "CNZKZMjf3lAHOS+Cr+VyBftvflIlSmcE0bHyLO3zF0l7uyuUR86JYGLQVGoZrNJYR3ZzBlMi3ixp\n",
       "q92gXPJ2BNWdI7vQm7pkjlG1ybZltQ5enBW8N13AsuzIjvQgeUaIqokYXIEZg08+j41C8qLq0btB\n",
       "zI8ybEJefajtQk+Bh+6Y69aXg5IjO2+/fMoK0VCgAKOQTvLJm9jM5MkwI7QpIe6zDL21dgTeYgN8\n",
       "1EfW+nTIGYEBGRCiByIVaIFPQB4myZq4h2kxPcCp10QwGWr2dDuRcBYGkFO+gDCdtqw7C2AchKjh\n",
       "j8kbEBGR3yS8qTxqAyzqjG25pDgWehOmcJTXnmXY0BwR7GEz46PpYU8BQgLyMA5UqCH1AOC3B60r\n",
       "LMG0tiuwgyoFe9/VNJocKgHTHx8lK6jBiIC8ae2FgLEbPOgtYi+gbztRpQrTNVJMKHWbI4cruY/p\n",
       "1wA0MToKQR0oLYd83oogXTwBhyn20GZpHDPeHTXUP2iqSS36LVi00Mjzp+rlcVghLPLcYjwpRCEO\n",
       "qayc5JI7zoPlbdXVNbaVj1ibWm5cekyWpkz+q6XEBqvJG/stjskXvz8Sp4+IO/j+TIxCpD5YWgQ+\n",
       "OfdU3jvGDk5LAoZZCawmn7Bz15ar/122riiH3Iyg4HqFYxXfgpWkANZdjfWtHggLru8D80QmvznI\n",
       "CdDOi6MblG0UFPc3EpbHUCIvumZdbaNbvpHOsZXu7zvxH6RA7a9oExsKAAAAAElFTkSuQmCC\n",
       "\" style=\"display:inline;vertical-align:middle;\" /></a> <a class=\"ProveItLink\" href=\"__pv_it/a96d48c0f4ad3cc662fe5b2afb9037e0180db5380/proof.ipynb\" style=\"text-decoration: none\">&#x22A2;&nbsp;</a><a class=\"ProveItLink\" href=\"__pv_it/0b4e5f5f231d1aac4704f2ecd5c981ea92f7b3b60/expr.ipynb\"><img src=\"data:image/png;base64,iVBORw0KGgoAAAANSUhEUgAAAQMAAAAUBAMAAAB7W0VvAAAAMFBMVEX////MzMxUVFR2dna6uroQ\n",
       "EBCqqqqIiIgiIiJmZmYyMjJERETu7u6YmJjc3NwAAACgK8IjAAAAAXRSTlMAQObYZgAAAmpJREFU\n",
       "SMe1VjGIE0EUfbnsJdlkdy+lYHHpDiwknVgIaQ7tkiJwIBZBEMRCgiKyIhgszkpZsDjwEFawspCQ\n",
       "5qo7F0EiWnhgIV4hWxxiI1wtd4d/ZnZnktk5lj104IX9f95/+/P37/wFvF0UW5U46/udF2Qi3E6A\n",
       "zyi6zmc8zjgnxEhYiAXwtnAKnzKeepwTYiQ4oYAbFE6hPNQ93/NCzIQLArW4cApOT/c8ywsxEz4I\n",
       "/ELx9VqzvVFOwAmEeofDp8vpnf27srjTDXjXJOtKv5S+MY4/xC3ciICLmlQ10EQUVREMumVyE7Yp\n",
       "oO0+qYXpZnsV1QNZ821/U7ZApYcJupT5Hjff8MXu3tjVRBRVLEYw6LohxzoFROVDi7UEy9obvEBj\n",
       "nBhw4PHXiRk/7RBHaBDxplaF2kATUVQhQwSTbmXE0Wc234Pzh2+uYWmYGLTORulOtDgsHcOmq2Ut\n",
       "hcWOJqKoQoYIJt3SAUef2UviIT5mP9YhlpupAauldrpxtYfyCSnMi0iqMBnBoJuksM4cfC9ZVMN7\n",
       "yro+cyeqZAv7rJdmeqGVPIh5EUlVT8qga404qB0r0SNUZfdS7ETNgwAL0pig1gb7q3taFVi3zYtI\n",
       "qiIYdJN2pBesO3g3M0bslnUkjTNfv6lD4AFWxyVW8+f6cRnoIpKqCAZdu81BRX1/f/pSjUtnxT+W\n",
       "RuBeVUL2xsOVS+zilZYCK+i8iKQqgkG33uQwHNB2mHNAj053QGd0PwpkxtQ5fOn8jzFl0E3GFHY0\n",
       "/1NsFR7WjbxZR4SsbjqsM58sl/1mjt7OqT5ZsroscZ584Q839199uP0Q+AtR3tcpnYRNJAAAAABJ\n",
       "RU5ErkJggg==\n",
       "\" style=\"display:inline;vertical-align:middle;\" /></a></span>"
      ],
      "text/plain": [
       "{x in Complexes, y in Complexes, z in Complexes, w in Complexes} |- (x * y * z * w) = (x * w * (y * z))"
      ]
     },
     "execution_count": 46,
     "metadata": {},
     "output_type": "execute_result"
    }
   ],
   "source": [
    "expr.factorization(Mult(y, z), 'right', assumptions=assumptions)"
   ]
  },
  {
   "cell_type": "code",
   "execution_count": 47,
   "metadata": {},
   "outputs": [],
   "source": [
    "%end demonstrations"
   ]
  },
  {
   "cell_type": "code",
   "execution_count": null,
   "metadata": {},
   "outputs": [],
   "source": []
  }
 ],
 "metadata": {
  "kernelspec": {
   "display_name": "Python 3",
   "language": "python",
   "name": "python3"
  }
 },
 "nbformat": 4,
 "nbformat_minor": 0
}
