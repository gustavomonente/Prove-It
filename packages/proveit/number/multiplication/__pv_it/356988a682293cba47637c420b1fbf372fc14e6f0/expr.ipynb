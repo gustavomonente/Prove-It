{
 "cells": [
  {
   "cell_type": "markdown",
   "metadata": {},
   "source": [
    "Theorem <a class=\"ProveItLink\" href=\"../../_theorems_.ipynb#multRealClosure\">multRealClosure</a> of type <a class=\"ProveItLink\" href=\"../../../../../../doc/html/api/proveit.logic.Forall.html\">Forall</a>\n",
    "=======================\n",
    "# from context <a class=\"ProveItLink\" href=\"../../_context_.ipynb\">proveit.number.multiplication</a>\n",
    "*** see <a class=\"ProveItLink\" href=\"dependencies.ipynb\">dependencies</a> ***"
   ]
  },
  {
   "cell_type": "code",
   "execution_count": 1,
   "metadata": {},
   "outputs": [],
   "source": [
    "import proveit\n",
    "# Automation is not needed when only building an expression:\n",
    "proveit.defaults.automation = False # This will speed things up.\n",
    "proveit.defaults.inline_pngs = False # Makes files smaller.\n",
    "# import the special expression\n",
    "from proveit.number.multiplication._theorems_ import multRealClosure"
   ]
  },
  {
   "cell_type": "code",
   "execution_count": 2,
   "metadata": {},
   "outputs": [
    {
     "name": "stdout",
     "output_type": "stream",
     "text": [
      "Passed sanity check: built 'multRealClosure' is the same as the stored Expression.\n"
     ]
    }
   ],
   "source": [
    "# check that the built expression is the same as the stored expression\n",
    "%check_expr multRealClosure"
   ]
  },
  {
   "cell_type": "code",
   "execution_count": 3,
   "metadata": {},
   "outputs": [
    {
     "name": "stdout",
     "output_type": "stream",
     "text": [
      "\\vdash \\forall_{n \\in \\mathbb{N}}~\\left[\\forall_{a_{1}, \\ldots, a_{n} \\in \\mathbb{R}}~\\left(\\left(a_{1} \\cdot \\ldots \\cdot a_{n}\\right) \\in \\mathbb{R}\\right)\\right]\n"
     ]
    }
   ],
   "source": [
    "# Show the LaTeX representation of the expression for convenience if you need it.\n",
    "print(multRealClosure.latex())"
   ]
  },
  {
   "cell_type": "code",
   "execution_count": 4,
   "metadata": {},
   "outputs": [
    {
     "data": {
      "text/html": [
       "<table><tr><th>&nbsp;</th><th>core type</th><th>sub-expressions</th><th>expression</th></tr>\n",
       "<tr><td>0</td><td>Operation</td><td>operator:&nbsp;5<br>operand:&nbsp;1<br></td><td><a class=\"ProveItLink\" href=\"expr.ipynb\"><img src=\"expr.png\" style=\"display:inline;vertical-align:middle;\" /></a></td></tr>\n",
       "<tr><td>1</td><td>Lambda</td><td>parameter:&nbsp;24<br>body:&nbsp;2<br></td><td><a class=\"ProveItLink\" href=\"../73ddb8c5517375a588ca8a5e2046b3ea878336f00/expr.ipynb\"><img src=\"../73ddb8c5517375a588ca8a5e2046b3ea878336f00/expr.png\" style=\"display:inline;vertical-align:middle;\" /></a></td></tr>\n",
       "<tr><td>2</td><td>Conditional</td><td>value:&nbsp;3<br>condition:&nbsp;4<br></td><td><a class=\"ProveItLink\" href=\"../8dd05a7a6203a37aff4cb5534f8cebe0281cd25f0/expr.ipynb\"><img src=\"../8dd05a7a6203a37aff4cb5534f8cebe0281cd25f0/expr.png\" style=\"display:inline;vertical-align:middle;\" /></a></td></tr>\n",
       "<tr><td>3</td><td>Operation</td><td>operator:&nbsp;5<br>operand:&nbsp;6<br></td><td><a class=\"ProveItLink\" href=\"../ca681bce9e19f926b75d33f277cbf8fef75f93740/expr.ipynb\"><img src=\"../ca681bce9e19f926b75d33f277cbf8fef75f93740/expr.png\" style=\"display:inline;vertical-align:middle;\" /></a></td></tr>\n",
       "<tr><td>4</td><td>Operation</td><td>operator:&nbsp;25<br>operands:&nbsp;7<br></td><td><a class=\"ProveItLink\" href=\"../2cf8e15839f3241ee91ee5160b94bb56314115740/expr.ipynb\"><img src=\"../2cf8e15839f3241ee91ee5160b94bb56314115740/expr.png\" style=\"display:inline;vertical-align:middle;\" /></a></td></tr>\n",
       "<tr><td>5</td><td>Literal</td><td></td><td><a class=\"ProveItLink\" href=\"../../../../logic/boolean/quantification/universal/__pv_it/fd9c772d6675566ed52a6897806f45eb08a4ea910/expr.ipynb\"><img src=\"../../../../logic/boolean/quantification/universal/__pv_it/fd9c772d6675566ed52a6897806f45eb08a4ea910/expr.png\" style=\"display:inline;vertical-align:middle;\" /></a></td></tr>\n",
       "<tr><td>6</td><td>Lambda</td><td>parameter:&nbsp;20<br>body:&nbsp;8<br></td><td><a class=\"ProveItLink\" href=\"../44f038f41eeae9b42249b206baf29f7cb4c47e020/expr.ipynb\"><img src=\"../44f038f41eeae9b42249b206baf29f7cb4c47e020/expr.png\" style=\"display:inline;vertical-align:middle;\" /></a></td></tr>\n",
       "<tr><td>7</td><td>ExprTuple</td><td>24, 9</td><td><a class=\"ProveItLink\" href=\"../1cec7219484835bb1a8f99347b9938cdf616708c0/expr.ipynb\"><img src=\"../1cec7219484835bb1a8f99347b9938cdf616708c0/expr.png\" style=\"display:inline;vertical-align:middle;\" /></a></td></tr>\n",
       "<tr><td>8</td><td>Conditional</td><td>value:&nbsp;10<br>condition:&nbsp;11<br></td><td><a class=\"ProveItLink\" href=\"../551e7cf20b1752894893fddc265471fa82de50230/expr.ipynb\"><img src=\"../551e7cf20b1752894893fddc265471fa82de50230/expr.png\" style=\"display:inline;vertical-align:middle;\" /></a></td></tr>\n",
       "<tr><td>9</td><td>Literal</td><td></td><td><a class=\"ProveItLink\" href=\"../../../sets/integer/__pv_it/b49c37b99b7e8d73a8d7971bcf454d693b90a2c60/expr.ipynb\"><img src=\"../../../sets/integer/__pv_it/b49c37b99b7e8d73a8d7971bcf454d693b90a2c60/expr.png\" style=\"display:inline;vertical-align:middle;\" /></a></td></tr>\n",
       "<tr><td>10</td><td>Operation</td><td>operator:&nbsp;25<br>operands:&nbsp;12<br></td><td><a class=\"ProveItLink\" href=\"../fa60d325ccaac22f9f215cbabd072fd3aa8405ca0/expr.ipynb\"><img src=\"../fa60d325ccaac22f9f215cbabd072fd3aa8405ca0/expr.png\" style=\"display:inline;vertical-align:middle;\" /></a></td></tr>\n",
       "<tr><td>11</td><td>Operation</td><td>operator:&nbsp;13<br>operands:&nbsp;14<br></td><td><a class=\"ProveItLink\" href=\"../5ca0936c52ebe0e6fdaee3f4fd2f7b52248ccb7e0/expr.ipynb\"><img src=\"../5ca0936c52ebe0e6fdaee3f4fd2f7b52248ccb7e0/expr.png\" style=\"display:inline;vertical-align:middle;\" /></a></td></tr>\n",
       "<tr><td>12</td><td>ExprTuple</td><td>15, 28</td><td><a class=\"ProveItLink\" href=\"../ab871567034fca8c067818bade0ab355e587775e0/expr.ipynb\"><img src=\"../ab871567034fca8c067818bade0ab355e587775e0/expr.png\" style=\"display:inline;vertical-align:middle;\" /></a></td></tr>\n",
       "<tr><td>13</td><td>Literal</td><td></td><td><a class=\"ProveItLink\" href=\"../../../../logic/boolean/conjunction/__pv_it/f41cc6b553210927c09f19a8a39cdf860a5585930/expr.ipynb\"><img src=\"../../../../logic/boolean/conjunction/__pv_it/f41cc6b553210927c09f19a8a39cdf860a5585930/expr.png\" style=\"display:inline;vertical-align:middle;\" /></a></td></tr>\n",
       "<tr><td>14</td><td>ExprTuple</td><td>16</td><td><a class=\"ProveItLink\" href=\"../42ab81b162e6d51069276e5e91e2308231507df20/expr.ipynb\"><img src=\"../42ab81b162e6d51069276e5e91e2308231507df20/expr.png\" style=\"display:inline;vertical-align:middle;\" /></a></td></tr>\n",
       "<tr><td>15</td><td>Operation</td><td>operator:&nbsp;17<br>operands:&nbsp;18<br></td><td><a class=\"ProveItLink\" href=\"../c551c493fbab5ceecad014d1955f60f1448bb0c80/expr.ipynb\"><img src=\"../c551c493fbab5ceecad014d1955f60f1448bb0c80/expr.png\" style=\"display:inline;vertical-align:middle;\" /></a></td></tr>\n",
       "<tr><td>16</td><td>ExprRange</td><td>lambda_map:&nbsp;19<br>start_index:&nbsp;23<br>end_index:&nbsp;24<br></td><td><a class=\"ProveItLink\" href=\"../be3d2e4e0affbe4ff48075a1eb4bef0acb9d5d850/expr.ipynb\"><img src=\"../be3d2e4e0affbe4ff48075a1eb4bef0acb9d5d850/expr.png\" style=\"display:inline;vertical-align:middle;\" /></a></td></tr>\n",
       "<tr><td>17</td><td>Literal</td><td></td><td><a class=\"ProveItLink\" href=\"../f7a1ed7c35c8c884cf4c236d27cb79bf85638cad0/expr.ipynb\"><img src=\"../f7a1ed7c35c8c884cf4c236d27cb79bf85638cad0/expr.png\" style=\"display:inline;vertical-align:middle;\" /></a></td></tr>\n",
       "<tr><td>18</td><td>ExprTuple</td><td>20</td><td><a class=\"ProveItLink\" href=\"../a4bc5e401a50ac7a5583a5f486b50b58186954f20/expr.ipynb\"><img src=\"../a4bc5e401a50ac7a5583a5f486b50b58186954f20/expr.png\" style=\"display:inline;vertical-align:middle;\" /></a></td></tr>\n",
       "<tr><td>19</td><td>Lambda</td><td>parameter:&nbsp;30<br>body:&nbsp;21<br></td><td><a class=\"ProveItLink\" href=\"../3a6580680907a5877a659a3608443c365fc7a8630/expr.ipynb\"><img src=\"../3a6580680907a5877a659a3608443c365fc7a8630/expr.png\" style=\"display:inline;vertical-align:middle;\" /></a></td></tr>\n",
       "<tr><td>20</td><td>ExprRange</td><td>lambda_map:&nbsp;22<br>start_index:&nbsp;23<br>end_index:&nbsp;24<br></td><td><a class=\"ProveItLink\" href=\"../../../../core_expr_types/__pv_it/77d5af4cc8bfa5b718575a7e96e5588227eab7db0/expr.ipynb\"><img src=\"../../../../core_expr_types/__pv_it/77d5af4cc8bfa5b718575a7e96e5588227eab7db0/expr.png\" style=\"display:inline;vertical-align:middle;\" /></a></td></tr>\n",
       "<tr><td>21</td><td>Operation</td><td>operator:&nbsp;25<br>operands:&nbsp;26<br></td><td><a class=\"ProveItLink\" href=\"../8e793f86b8136d522f8fbba85740aa84301fd2cb0/expr.ipynb\"><img src=\"../8e793f86b8136d522f8fbba85740aa84301fd2cb0/expr.png\" style=\"display:inline;vertical-align:middle;\" /></a></td></tr>\n",
       "<tr><td>22</td><td>Lambda</td><td>parameter:&nbsp;30<br>body:&nbsp;27<br></td><td><a class=\"ProveItLink\" href=\"../../../../core_expr_types/__pv_it/c512bca05a0e191e5f76f2677a0e9e227e81e9f10/expr.ipynb\"><img src=\"../../../../core_expr_types/__pv_it/c512bca05a0e191e5f76f2677a0e9e227e81e9f10/expr.png\" style=\"display:inline;vertical-align:middle;\" /></a></td></tr>\n",
       "<tr><td>23</td><td>Literal</td><td></td><td><a class=\"ProveItLink\" href=\"../../../numeral/__pv_it/f086f8c372bd40a2458306ddfdbb29f3dc6f63030/expr.ipynb\"><img src=\"../../../numeral/__pv_it/f086f8c372bd40a2458306ddfdbb29f3dc6f63030/expr.png\" style=\"display:inline;vertical-align:middle;\" /></a></td></tr>\n",
       "<tr><td>24</td><td>Variable</td><td></td><td><a class=\"ProveItLink\" href=\"../../../../__pv_it/0c1c4cb515e0f4344b1ac06650f349123e526deb0/expr.ipynb\"><img src=\"../../../../__pv_it/0c1c4cb515e0f4344b1ac06650f349123e526deb0/expr.png\" style=\"display:inline;vertical-align:middle;\" /></a></td></tr>\n",
       "<tr><td>25</td><td>Literal</td><td></td><td><a class=\"ProveItLink\" href=\"../../../../logic/set_theory/membership/__pv_it/7776fc89cb67d0b5b1ec2c0c8e08da5587921ccf0/expr.ipynb\"><img src=\"../../../../logic/set_theory/membership/__pv_it/7776fc89cb67d0b5b1ec2c0c8e08da5587921ccf0/expr.png\" style=\"display:inline;vertical-align:middle;\" /></a></td></tr>\n",
       "<tr><td>26</td><td>ExprTuple</td><td>27, 28</td><td><a class=\"ProveItLink\" href=\"../970862bf195d1169fda54c8c98e12eb25879cffb0/expr.ipynb\"><img src=\"../970862bf195d1169fda54c8c98e12eb25879cffb0/expr.png\" style=\"display:inline;vertical-align:middle;\" /></a></td></tr>\n",
       "<tr><td>27</td><td>IndexedVar</td><td>variable:&nbsp;29<br>index:&nbsp;30<br></td><td><a class=\"ProveItLink\" href=\"../../../../core_expr_types/__pv_it/976fe6b95e8535cc9e0861bdc030337becead6960/expr.ipynb\"><img src=\"../../../../core_expr_types/__pv_it/976fe6b95e8535cc9e0861bdc030337becead6960/expr.png\" style=\"display:inline;vertical-align:middle;\" /></a></td></tr>\n",
       "<tr><td>28</td><td>Literal</td><td></td><td><a class=\"ProveItLink\" href=\"../../../sets/real/__pv_it/83c2d223a7b04200651811c8b29e747fd8f853510/expr.ipynb\"><img src=\"../../../sets/real/__pv_it/83c2d223a7b04200651811c8b29e747fd8f853510/expr.png\" style=\"display:inline;vertical-align:middle;\" /></a></td></tr>\n",
       "<tr><td>29</td><td>Variable</td><td></td><td><a class=\"ProveItLink\" href=\"../../../../__pv_it/a8d4b3a34d2189508f9082853fbac36935714f280/expr.ipynb\"><img src=\"../../../../__pv_it/a8d4b3a34d2189508f9082853fbac36935714f280/expr.png\" style=\"display:inline;vertical-align:middle;\" /></a></td></tr>\n",
       "<tr><td>30</td><td>Variable</td><td></td><td><a class=\"ProveItLink\" href=\"../../../../core_expr_types/__pv_it/1e653f789234b245ee7fea7caad998c139d617410/expr.ipynb\"><img src=\"../../../../core_expr_types/__pv_it/1e653f789234b245ee7fea7caad998c139d617410/expr.png\" style=\"display:inline;vertical-align:middle;\" /></a></td></tr>\n",
       "</table>\n"
      ],
      "text/plain": [
       "0. forall_{n in Naturals} [forall_{a_{1}, ..a_{_a}.., a_{n} in Reals} ((a_{1} * ..a_{_a}.. * a_{n}) in Reals)]\n",
       "   core type: Operation\n",
       "   operator: 5\n",
       "   operand: 1\n",
       "1. n -> {forall_{a_{1}, ..a_{_a}.., a_{n} in Reals} ((a_{1} * ..a_{_a}.. * a_{n}) in Reals) if n in Naturals.\n",
       "   core type: Lambda\n",
       "   parameter: 24\n",
       "   body: 2\n",
       "2. {forall_{a_{1}, ..a_{_a}.., a_{n} in Reals} ((a_{1} * ..a_{_a}.. * a_{n}) in Reals) if n in Naturals.\n",
       "   core type: Conditional\n",
       "   value: 3\n",
       "   condition: 4\n",
       "3. forall_{a_{1}, ..a_{_a}.., a_{n} in Reals} ((a_{1} * ..a_{_a}.. * a_{n}) in Reals)\n",
       "   core type: Operation\n",
       "   operator: 5\n",
       "   operand: 6\n",
       "4. n in Naturals\n",
       "   core type: Operation\n",
       "   operator: 25\n",
       "   operands: 7\n",
       "5. forall\n",
       "   core type: Literal\n",
       "   sub-expressions: \n",
       "6. (a_{1}, ..a_{_a}.., a_{n}) -> {(a_{1} * ..a_{_a}.. * a_{n}) in Reals if (a_{1} in Reals) and ..(a_{_a} in Reals).. and (a_{n} in Reals).\n",
       "   core type: Lambda\n",
       "   parameter: 20\n",
       "   body: 8\n",
       "7. (n, Naturals)\n",
       "   core type: ExprTuple\n",
       "   sub-expressions: 24, 9\n",
       "8. {(a_{1} * ..a_{_a}.. * a_{n}) in Reals if (a_{1} in Reals) and ..(a_{_a} in Reals).. and (a_{n} in Reals).\n",
       "   core type: Conditional\n",
       "   value: 10\n",
       "   condition: 11\n",
       "9. Naturals\n",
       "   core type: Literal\n",
       "   sub-expressions: \n",
       "10. (a_{1} * ..a_{_a}.. * a_{n}) in Reals\n",
       "    core type: Operation\n",
       "    operator: 25\n",
       "    operands: 12\n",
       "11. (a_{1} in Reals) and ..(a_{_a} in Reals).. and (a_{n} in Reals)\n",
       "    core type: Operation\n",
       "    operator: 13\n",
       "    operands: 14\n",
       "12. (a_{1} * ..a_{_a}.. * a_{n}, Reals)\n",
       "    core type: ExprTuple\n",
       "    sub-expressions: 15, 28\n",
       "13. and\n",
       "    core type: Literal\n",
       "    sub-expressions: \n",
       "14. (a_{1} in Reals, ..a_{_a} in Reals.., a_{n} in Reals)\n",
       "    core type: ExprTuple\n",
       "    sub-expressions: 16\n",
       "15. a_{1} * ..a_{_a}.. * a_{n}\n",
       "    core type: Operation\n",
       "    operator: 17\n",
       "    operands: 18\n",
       "16. (a_{1} in Reals), ..(a_{_a} in Reals).., (a_{n} in Reals)\n",
       "    core type: ExprRange\n",
       "    lambda_map: 19\n",
       "    start_index: 23\n",
       "    end_index: 24\n",
       "17. *\n",
       "    core type: Literal\n",
       "    sub-expressions: \n",
       "18. (a_{1}, ..a_{_a}.., a_{n})\n",
       "    core type: ExprTuple\n",
       "    sub-expressions: 20\n",
       "19. _a -> (a_{_a} in Reals)\n",
       "    core type: Lambda\n",
       "    parameter: 30\n",
       "    body: 21\n",
       "20. a_{1}, ..a_{_a}.., a_{n}\n",
       "    core type: ExprRange\n",
       "    lambda_map: 22\n",
       "    start_index: 23\n",
       "    end_index: 24\n",
       "21. a_{_a} in Reals\n",
       "    core type: Operation\n",
       "    operator: 25\n",
       "    operands: 26\n",
       "22. _a -> a_{_a}\n",
       "    core type: Lambda\n",
       "    parameter: 30\n",
       "    body: 27\n",
       "23. 1\n",
       "    core type: Literal\n",
       "    sub-expressions: \n",
       "24. n\n",
       "    core type: Variable\n",
       "    sub-expressions: \n",
       "25. in\n",
       "    core type: Literal\n",
       "    sub-expressions: \n",
       "26. (a_{_a}, Reals)\n",
       "    core type: ExprTuple\n",
       "    sub-expressions: 27, 28\n",
       "27. a_{_a}\n",
       "    core type: IndexedVar\n",
       "variable: 29\n",
       "index: 30\n",
       "28. Reals\n",
       "    core type: Literal\n",
       "    sub-expressions: \n",
       "29. a\n",
       "    core type: Variable\n",
       "    sub-expressions: \n",
       "30. _a\n",
       "    core type: Variable\n",
       "    sub-expressions: "
      ]
     },
     "execution_count": 4,
     "metadata": {},
     "output_type": "execute_result"
    }
   ],
   "source": [
    "# display the expression information\n",
    "multRealClosure.exprInfo()"
   ]
  },
  {
   "cell_type": "code",
   "execution_count": null,
   "metadata": {},
   "outputs": [],
   "source": []
  }
 ],
 "metadata": {
  "kernelspec": {
   "display_name": "Python 3",
   "language": "python",
   "name": "python3"
  },
  "language_info": {
   "codemirror_mode": {
    "name": "ipython",
    "version": 3
   },
   "file_extension": ".py",
   "mimetype": "text/x-python",
   "name": "python",
   "nbconvert_exporter": "python",
   "pygments_lexer": "ipython3",
   "version": "3.7.3"
  }
 },
 "nbformat": 4,
 "nbformat_minor": 1
}
