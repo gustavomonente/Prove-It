{
 "cells": [
  {
   "cell_type": "markdown",
   "metadata": {},
   "source": [
    "Expression of type <a class=\"ProveItLink\" href=\"../../../../../../doc/html/api/proveit.Lambda.html\">Lambda</a>\n",
    "=======================\n",
    "# from context <a class=\"ProveItLink\" href=\"../../_context_.ipynb\">proveit.number.multiplication</a>"
   ]
  },
  {
   "cell_type": "code",
   "execution_count": 1,
   "metadata": {},
   "outputs": [],
   "source": [
    "import proveit\n",
    "# Automation is not needed when building an expression:\n",
    "proveit.defaults.automation = False # This will speed things up.\n",
    "proveit.defaults.inline_pngs = False # Makes files smaller.\n",
    "# import Expression classes needed to build the expression\n",
    "from proveit import Conditional, ExprRange, IndexedVar, Lambda, Variable\n",
    "from proveit._common_ import a, n\n",
    "from proveit.core_expr_types._common_ import a_1_to_n\n",
    "from proveit.logic import And, InSet\n",
    "from proveit.number import Mult, NaturalsPos, one"
   ]
  },
  {
   "cell_type": "code",
   "execution_count": 2,
   "metadata": {},
   "outputs": [
    {
     "data": {
      "text/html": [
       "<strong id=\"expr\">expr:</strong> <a class=\"ProveItLink\" href=\"../526ce529ce8a85e0f85699a4bbb49ea558e5cfc10/expr.ipynb\"><img src=\"../526ce529ce8a85e0f85699a4bbb49ea558e5cfc10/expr.png\" style=\"display:inline;vertical-align:middle;\" /></a><br>"
      ],
      "text/plain": [
       "expr: (a_{1}, ..a_{_a}.., a_{n}) -> {(a_{1} * ..a_{_a}.. * a_{n}) in NaturalsPos if (a_{1} in NaturalsPos) and ..(a_{_a} in NaturalsPos).. and (a_{n} in NaturalsPos)."
      ]
     },
     "execution_count": 2,
     "metadata": {},
     "output_type": "execute_result"
    }
   ],
   "source": [
    "# build up the expression from sub-expressions\n",
    "subExpr1 = Variable(\"_a\", latexFormat = r\"{_{-}a}\")\n",
    "expr = Lambda(a_1_to_n, Conditional(InSet(Mult(a_1_to_n), NaturalsPos), And(ExprRange(subExpr1, InSet(IndexedVar(a, subExpr1), NaturalsPos), one, n))))"
   ]
  },
  {
   "cell_type": "code",
   "execution_count": 3,
   "metadata": {},
   "outputs": [
    {
     "name": "stdout",
     "output_type": "stream",
     "text": [
      "Passed sanity check: built 'expr' is the same as the stored Expression.\n"
     ]
    }
   ],
   "source": [
    "# check that the built expression is the same as the stored expression\n",
    "%check_expr"
   ]
  },
  {
   "cell_type": "code",
   "execution_count": 4,
   "metadata": {},
   "outputs": [
    {
     "name": "stdout",
     "output_type": "stream",
     "text": [
      "\\left(a_{1}, \\ldots, a_{n}\\right) \\mapsto \\left\\{\\left(a_{1} \\cdot \\ldots \\cdot a_{n}\\right) \\in \\mathbb{N}^+ \\textrm{ if } \\left(a_{1} \\in \\mathbb{N}^+\\right) \\land \\ldots \\land \\left(a_{n} \\in \\mathbb{N}^+\\right)\\right..\n"
     ]
    }
   ],
   "source": [
    "# Show the LaTeX representation of the expression for convenience if you need it.\n",
    "print(expr.latex())"
   ]
  },
  {
   "cell_type": "code",
   "execution_count": 5,
   "metadata": {},
   "outputs": [
    {
     "data": {
      "text/html": [
       "<table><tr><th>&nbsp;</th><th>core type</th><th>sub-expressions</th><th>expression</th></tr>\n",
       "<tr><td>0</td><td>Lambda</td><td>parameter:&nbsp;12<br>body:&nbsp;1<br></td><td><a class=\"ProveItLink\" href=\"../526ce529ce8a85e0f85699a4bbb49ea558e5cfc10/expr.ipynb\"><img src=\"../526ce529ce8a85e0f85699a4bbb49ea558e5cfc10/expr.png\" style=\"display:inline;vertical-align:middle;\" /></a></td></tr>\n",
       "<tr><td>1</td><td>Conditional</td><td>value:&nbsp;2<br>condition:&nbsp;3<br></td><td><a class=\"ProveItLink\" href=\"../033e9dc56e722a768b75ffbea1318c8e6955c0820/expr.ipynb\"><img src=\"../033e9dc56e722a768b75ffbea1318c8e6955c0820/expr.png\" style=\"display:inline;vertical-align:middle;\" /></a></td></tr>\n",
       "<tr><td>2</td><td>Operation</td><td>operator:&nbsp;17<br>operands:&nbsp;4<br></td><td><a class=\"ProveItLink\" href=\"../2c9babf6fea51146fc06f3539968158d4b1d89db0/expr.ipynb\"><img src=\"../2c9babf6fea51146fc06f3539968158d4b1d89db0/expr.png\" style=\"display:inline;vertical-align:middle;\" /></a></td></tr>\n",
       "<tr><td>3</td><td>Operation</td><td>operator:&nbsp;5<br>operands:&nbsp;6<br></td><td><a class=\"ProveItLink\" href=\"../02ff4100c5d004814679bf559eee574af3988d3e0/expr.ipynb\"><img src=\"../02ff4100c5d004814679bf559eee574af3988d3e0/expr.png\" style=\"display:inline;vertical-align:middle;\" /></a></td></tr>\n",
       "<tr><td>4</td><td>ExprTuple</td><td>7, 20</td><td><a class=\"ProveItLink\" href=\"../a9ed50eb6eac9fbe0e030bb33f3a62a149a4dfaa0/expr.ipynb\"><img src=\"../a9ed50eb6eac9fbe0e030bb33f3a62a149a4dfaa0/expr.png\" style=\"display:inline;vertical-align:middle;\" /></a></td></tr>\n",
       "<tr><td>5</td><td>Literal</td><td></td><td><a class=\"ProveItLink\" href=\"../../../../logic/boolean/conjunction/__pv_it/f41cc6b553210927c09f19a8a39cdf860a5585930/expr.ipynb\"><img src=\"../../../../logic/boolean/conjunction/__pv_it/f41cc6b553210927c09f19a8a39cdf860a5585930/expr.png\" style=\"display:inline;vertical-align:middle;\" /></a></td></tr>\n",
       "<tr><td>6</td><td>ExprTuple</td><td>8</td><td><a class=\"ProveItLink\" href=\"../3d765ba2c34b7bdceb40427c7b6e86c6ff2fb2150/expr.ipynb\"><img src=\"../3d765ba2c34b7bdceb40427c7b6e86c6ff2fb2150/expr.png\" style=\"display:inline;vertical-align:middle;\" /></a></td></tr>\n",
       "<tr><td>7</td><td>Operation</td><td>operator:&nbsp;9<br>operands:&nbsp;10<br></td><td><a class=\"ProveItLink\" href=\"../c551c493fbab5ceecad014d1955f60f1448bb0c80/expr.ipynb\"><img src=\"../c551c493fbab5ceecad014d1955f60f1448bb0c80/expr.png\" style=\"display:inline;vertical-align:middle;\" /></a></td></tr>\n",
       "<tr><td>8</td><td>ExprRange</td><td>lambda_map:&nbsp;11<br>start_index:&nbsp;15<br>end_index:&nbsp;16<br></td><td><a class=\"ProveItLink\" href=\"../11798035715452a2967b020d388c61e750df75d50/expr.ipynb\"><img src=\"../11798035715452a2967b020d388c61e750df75d50/expr.png\" style=\"display:inline;vertical-align:middle;\" /></a></td></tr>\n",
       "<tr><td>9</td><td>Literal</td><td></td><td><a class=\"ProveItLink\" href=\"../f7a1ed7c35c8c884cf4c236d27cb79bf85638cad0/expr.ipynb\"><img src=\"../f7a1ed7c35c8c884cf4c236d27cb79bf85638cad0/expr.png\" style=\"display:inline;vertical-align:middle;\" /></a></td></tr>\n",
       "<tr><td>10</td><td>ExprTuple</td><td>12</td><td><a class=\"ProveItLink\" href=\"../a4bc5e401a50ac7a5583a5f486b50b58186954f20/expr.ipynb\"><img src=\"../a4bc5e401a50ac7a5583a5f486b50b58186954f20/expr.png\" style=\"display:inline;vertical-align:middle;\" /></a></td></tr>\n",
       "<tr><td>11</td><td>Lambda</td><td>parameter:&nbsp;22<br>body:&nbsp;13<br></td><td><a class=\"ProveItLink\" href=\"../d4f2a258fe9756acf25065d4fb05d74421db49330/expr.ipynb\"><img src=\"../d4f2a258fe9756acf25065d4fb05d74421db49330/expr.png\" style=\"display:inline;vertical-align:middle;\" /></a></td></tr>\n",
       "<tr><td>12</td><td>ExprRange</td><td>lambda_map:&nbsp;14<br>start_index:&nbsp;15<br>end_index:&nbsp;16<br></td><td><a class=\"ProveItLink\" href=\"../../../../core_expr_types/__pv_it/77d5af4cc8bfa5b718575a7e96e5588227eab7db0/expr.ipynb\"><img src=\"../../../../core_expr_types/__pv_it/77d5af4cc8bfa5b718575a7e96e5588227eab7db0/expr.png\" style=\"display:inline;vertical-align:middle;\" /></a></td></tr>\n",
       "<tr><td>13</td><td>Operation</td><td>operator:&nbsp;17<br>operands:&nbsp;18<br></td><td><a class=\"ProveItLink\" href=\"../c7517e7225bb1559e6adf194079b45a40ae410ca0/expr.ipynb\"><img src=\"../c7517e7225bb1559e6adf194079b45a40ae410ca0/expr.png\" style=\"display:inline;vertical-align:middle;\" /></a></td></tr>\n",
       "<tr><td>14</td><td>Lambda</td><td>parameter:&nbsp;22<br>body:&nbsp;19<br></td><td><a class=\"ProveItLink\" href=\"../../../../core_expr_types/__pv_it/c512bca05a0e191e5f76f2677a0e9e227e81e9f10/expr.ipynb\"><img src=\"../../../../core_expr_types/__pv_it/c512bca05a0e191e5f76f2677a0e9e227e81e9f10/expr.png\" style=\"display:inline;vertical-align:middle;\" /></a></td></tr>\n",
       "<tr><td>15</td><td>Literal</td><td></td><td><a class=\"ProveItLink\" href=\"../../../numeral/__pv_it/f086f8c372bd40a2458306ddfdbb29f3dc6f63030/expr.ipynb\"><img src=\"../../../numeral/__pv_it/f086f8c372bd40a2458306ddfdbb29f3dc6f63030/expr.png\" style=\"display:inline;vertical-align:middle;\" /></a></td></tr>\n",
       "<tr><td>16</td><td>Variable</td><td></td><td><a class=\"ProveItLink\" href=\"../../../../__pv_it/0c1c4cb515e0f4344b1ac06650f349123e526deb0/expr.ipynb\"><img src=\"../../../../__pv_it/0c1c4cb515e0f4344b1ac06650f349123e526deb0/expr.png\" style=\"display:inline;vertical-align:middle;\" /></a></td></tr>\n",
       "<tr><td>17</td><td>Literal</td><td></td><td><a class=\"ProveItLink\" href=\"../../../../logic/set_theory/membership/__pv_it/7776fc89cb67d0b5b1ec2c0c8e08da5587921ccf0/expr.ipynb\"><img src=\"../../../../logic/set_theory/membership/__pv_it/7776fc89cb67d0b5b1ec2c0c8e08da5587921ccf0/expr.png\" style=\"display:inline;vertical-align:middle;\" /></a></td></tr>\n",
       "<tr><td>18</td><td>ExprTuple</td><td>19, 20</td><td><a class=\"ProveItLink\" href=\"../cb4507bb47e98b529bf8ad2763a7acf05bd5860f0/expr.ipynb\"><img src=\"../cb4507bb47e98b529bf8ad2763a7acf05bd5860f0/expr.png\" style=\"display:inline;vertical-align:middle;\" /></a></td></tr>\n",
       "<tr><td>19</td><td>IndexedVar</td><td>variable:&nbsp;21<br>index:&nbsp;22<br></td><td><a class=\"ProveItLink\" href=\"../../../../core_expr_types/__pv_it/976fe6b95e8535cc9e0861bdc030337becead6960/expr.ipynb\"><img src=\"../../../../core_expr_types/__pv_it/976fe6b95e8535cc9e0861bdc030337becead6960/expr.png\" style=\"display:inline;vertical-align:middle;\" /></a></td></tr>\n",
       "<tr><td>20</td><td>Literal</td><td></td><td><a class=\"ProveItLink\" href=\"../../../sets/integer/__pv_it/f6a9f4b6dec6ab4d2dcb6ba1b0ba3cceefc643530/expr.ipynb\"><img src=\"../../../sets/integer/__pv_it/f6a9f4b6dec6ab4d2dcb6ba1b0ba3cceefc643530/expr.png\" style=\"display:inline;vertical-align:middle;\" /></a></td></tr>\n",
       "<tr><td>21</td><td>Variable</td><td></td><td><a class=\"ProveItLink\" href=\"../../../../__pv_it/a8d4b3a34d2189508f9082853fbac36935714f280/expr.ipynb\"><img src=\"../../../../__pv_it/a8d4b3a34d2189508f9082853fbac36935714f280/expr.png\" style=\"display:inline;vertical-align:middle;\" /></a></td></tr>\n",
       "<tr><td>22</td><td>Variable</td><td></td><td><a class=\"ProveItLink\" href=\"../../../../core_expr_types/__pv_it/1e653f789234b245ee7fea7caad998c139d617410/expr.ipynb\"><img src=\"../../../../core_expr_types/__pv_it/1e653f789234b245ee7fea7caad998c139d617410/expr.png\" style=\"display:inline;vertical-align:middle;\" /></a></td></tr>\n",
       "</table>\n"
      ],
      "text/plain": [
       "0. (a_{1}, ..a_{_a}.., a_{n}) -> {(a_{1} * ..a_{_a}.. * a_{n}) in NaturalsPos if (a_{1} in NaturalsPos) and ..(a_{_a} in NaturalsPos).. and (a_{n} in NaturalsPos).\n",
       "   core type: Lambda\n",
       "   parameter: 12\n",
       "   body: 1\n",
       "1. {(a_{1} * ..a_{_a}.. * a_{n}) in NaturalsPos if (a_{1} in NaturalsPos) and ..(a_{_a} in NaturalsPos).. and (a_{n} in NaturalsPos).\n",
       "   core type: Conditional\n",
       "   value: 2\n",
       "   condition: 3\n",
       "2. (a_{1} * ..a_{_a}.. * a_{n}) in NaturalsPos\n",
       "   core type: Operation\n",
       "   operator: 17\n",
       "   operands: 4\n",
       "3. (a_{1} in NaturalsPos) and ..(a_{_a} in NaturalsPos).. and (a_{n} in NaturalsPos)\n",
       "   core type: Operation\n",
       "   operator: 5\n",
       "   operands: 6\n",
       "4. (a_{1} * ..a_{_a}.. * a_{n}, NaturalsPos)\n",
       "   core type: ExprTuple\n",
       "   sub-expressions: 7, 20\n",
       "5. and\n",
       "   core type: Literal\n",
       "   sub-expressions: \n",
       "6. (a_{1} in NaturalsPos, ..a_{_a} in NaturalsPos.., a_{n} in NaturalsPos)\n",
       "   core type: ExprTuple\n",
       "   sub-expressions: 8\n",
       "7. a_{1} * ..a_{_a}.. * a_{n}\n",
       "   core type: Operation\n",
       "   operator: 9\n",
       "   operands: 10\n",
       "8. (a_{1} in NaturalsPos), ..(a_{_a} in NaturalsPos).., (a_{n} in NaturalsPos)\n",
       "   core type: ExprRange\n",
       "   lambda_map: 11\n",
       "   start_index: 15\n",
       "   end_index: 16\n",
       "9. *\n",
       "   core type: Literal\n",
       "   sub-expressions: \n",
       "10. (a_{1}, ..a_{_a}.., a_{n})\n",
       "    core type: ExprTuple\n",
       "    sub-expressions: 12\n",
       "11. _a -> (a_{_a} in NaturalsPos)\n",
       "    core type: Lambda\n",
       "    parameter: 22\n",
       "    body: 13\n",
       "12. a_{1}, ..a_{_a}.., a_{n}\n",
       "    core type: ExprRange\n",
       "    lambda_map: 14\n",
       "    start_index: 15\n",
       "    end_index: 16\n",
       "13. a_{_a} in NaturalsPos\n",
       "    core type: Operation\n",
       "    operator: 17\n",
       "    operands: 18\n",
       "14. _a -> a_{_a}\n",
       "    core type: Lambda\n",
       "    parameter: 22\n",
       "    body: 19\n",
       "15. 1\n",
       "    core type: Literal\n",
       "    sub-expressions: \n",
       "16. n\n",
       "    core type: Variable\n",
       "    sub-expressions: \n",
       "17. in\n",
       "    core type: Literal\n",
       "    sub-expressions: \n",
       "18. (a_{_a}, NaturalsPos)\n",
       "    core type: ExprTuple\n",
       "    sub-expressions: 19, 20\n",
       "19. a_{_a}\n",
       "    core type: IndexedVar\n",
       "variable: 21\n",
       "index: 22\n",
       "20. NaturalsPos\n",
       "    core type: Literal\n",
       "    sub-expressions: \n",
       "21. a\n",
       "    core type: Variable\n",
       "    sub-expressions: \n",
       "22. _a\n",
       "    core type: Variable\n",
       "    sub-expressions: "
      ]
     },
     "execution_count": 5,
     "metadata": {},
     "output_type": "execute_result"
    }
   ],
   "source": [
    "# display the expression information\n",
    "expr.exprInfo()"
   ]
  },
  {
   "cell_type": "code",
   "execution_count": null,
   "metadata": {},
   "outputs": [],
   "source": []
  }
 ],
 "metadata": {
  "kernelspec": {
   "display_name": "Python 3",
   "language": "python",
   "name": "python3"
  },
  "language_info": {
   "codemirror_mode": {
    "name": "ipython",
    "version": 3
   },
   "file_extension": ".py",
   "mimetype": "text/x-python",
   "name": "python",
   "nbconvert_exporter": "python",
   "pygments_lexer": "ipython3",
   "version": "3.7.3"
  }
 },
 "nbformat": 4,
 "nbformat_minor": 1
}
