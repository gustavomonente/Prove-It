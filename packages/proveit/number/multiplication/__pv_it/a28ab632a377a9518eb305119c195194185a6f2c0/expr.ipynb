{
 "cells": [
  {
   "cell_type": "markdown",
   "metadata": {},
   "source": [
    "Expression of type <a class=\"ProveItLink\" href=\"../../../../../../doc/html/api/proveit.Conditional.html\">Conditional</a>\n",
    "=======================\n",
    "# from context <a class=\"ProveItLink\" href=\"../../_context_.ipynb\">proveit.number.multiplication</a>"
   ]
  },
  {
   "cell_type": "code",
   "execution_count": 1,
   "metadata": {},
   "outputs": [],
   "source": [
    "import proveit\n",
    "# Automation is not needed when building an expression:\n",
    "proveit.defaults.automation = False # This will speed things up.\n",
    "proveit.defaults.inline_pngs = False # Makes files smaller.\n",
    "# import Expression classes needed to build the expression\n",
    "from proveit import Conditional, ExprRange, IndexedVar, Variable\n",
    "from proveit._common_ import a, b, c, d, i, j, k\n",
    "from proveit.core_expr_types._common_ import a_1_to_i, b_1_to_j, d_1_to_k\n",
    "from proveit.logic import And, Equals, InSet\n",
    "from proveit.number import Complexes, Mult, one"
   ]
  },
  {
   "cell_type": "code",
   "execution_count": 2,
   "metadata": {},
   "outputs": [
    {
     "data": {
      "text/html": [
       "<strong id=\"expr\">expr:</strong> <a class=\"ProveItLink\" href=\"../076fdd6887754a17171233bd3ea1ef33a9aea7b50/expr.ipynb\"><img src=\"../076fdd6887754a17171233bd3ea1ef33a9aea7b50/expr.png\" style=\"display:inline;vertical-align:middle;\" /></a><br>"
      ],
      "text/plain": [
       "expr: {(a_{1} * ..a_{_a}.. * a_{i} * b_{1} * ..b_{_a}.. * b_{j} * c * d_{1} * ..d_{_a}.. * d_{k}) =  \\\\ (a_{1} * ..a_{_a}.. * a_{i} * c * b_{1} * ..b_{_a}.. * b_{j} * d_{1} * ..d_{_a}.. * d_{k}) if a_{1} in Complexes ,  ..a_{_a} in Complexes.. ,  a_{i} in Complexes ,  b_{1} in Complexes ,  ..b_{_a} in Complexes.. ,  b_{j} in Complexes ,  c in Complexes ,  d_{1} in Complexes ,  ..d_{_a} in Complexes.. ,  d_{k} in Complexes."
      ]
     },
     "execution_count": 2,
     "metadata": {},
     "output_type": "execute_result"
    }
   ],
   "source": [
    "# build up the expression from sub-expressions\n",
    "subExpr1 = Variable(\"_a\", latexFormat = r\"{_{-}a}\")\n",
    "expr = Conditional(Equals(Mult(a_1_to_i, b_1_to_j, c, d_1_to_k), Mult(a_1_to_i, c, b_1_to_j, d_1_to_k)).withWrappingAt(2), And(ExprRange(subExpr1, InSet(IndexedVar(a, subExpr1), Complexes), one, i), ExprRange(subExpr1, InSet(IndexedVar(b, subExpr1), Complexes), one, j), InSet(c, Complexes), ExprRange(subExpr1, InSet(IndexedVar(d, subExpr1), Complexes), one, k)))"
   ]
  },
  {
   "cell_type": "code",
   "execution_count": 3,
   "metadata": {},
   "outputs": [
    {
     "name": "stdout",
     "output_type": "stream",
     "text": [
      "Passed sanity check: built 'expr' is the same as the stored Expression.\n"
     ]
    }
   ],
   "source": [
    "# check that the built expression is the same as the stored expression\n",
    "%check_expr"
   ]
  },
  {
   "cell_type": "code",
   "execution_count": 4,
   "metadata": {},
   "outputs": [
    {
     "name": "stdout",
     "output_type": "stream",
     "text": [
      "\\left\\{\\begin{array}{c} \\left(a_{1} \\cdot \\ldots \\cdot a_{i} \\cdot b_{1} \\cdot \\ldots \\cdot b_{j} \\cdot c \\cdot d_{1} \\cdot \\ldots \\cdot d_{k}\\right) =  \\\\ \\left(a_{1} \\cdot \\ldots \\cdot a_{i} \\cdot c \\cdot b_{1} \\cdot \\ldots \\cdot b_{j} \\cdot d_{1} \\cdot \\ldots \\cdot d_{k}\\right) \\end{array} \\textrm{ if } a_{1} \\in \\mathbb{C} ,  \\ldots ,  a_{i} \\in \\mathbb{C} ,  b_{1} \\in \\mathbb{C} ,  \\ldots ,  b_{j} \\in \\mathbb{C} ,  c \\in \\mathbb{C} ,  d_{1} \\in \\mathbb{C} ,  \\ldots ,  d_{k} \\in \\mathbb{C}\\right..\n"
     ]
    }
   ],
   "source": [
    "# Show the LaTeX representation of the expression for convenience if you need it.\n",
    "print(expr.latex())"
   ]
  },
  {
   "cell_type": "code",
   "execution_count": 5,
   "metadata": {},
   "outputs": [
    {
     "data": {
      "text/html": [
       "<table><tr><th>&nbsp;</th><th>core type</th><th>sub-expressions</th><th>expression</th></tr>\n",
       "<tr><td>0</td><td>Conditional</td><td>value:&nbsp;1<br>condition:&nbsp;2<br></td><td><a class=\"ProveItLink\" href=\"../076fdd6887754a17171233bd3ea1ef33a9aea7b50/expr.ipynb\"><img src=\"../076fdd6887754a17171233bd3ea1ef33a9aea7b50/expr.png\" style=\"display:inline;vertical-align:middle;\" /></a></td></tr>\n",
       "<tr><td>1</td><td>Operation</td><td>operator:&nbsp;3<br>operands:&nbsp;4<br></td><td><a class=\"ProveItLink\" href=\"../3e314e64e40f0e1892ad185b5572a435dfa5f0c60/expr.ipynb\"><img src=\"../3e314e64e40f0e1892ad185b5572a435dfa5f0c60/expr.png\" style=\"display:inline;vertical-align:middle;\" /></a></td></tr>\n",
       "<tr><td>2</td><td>Operation</td><td>operator:&nbsp;5<br>operands:&nbsp;6<br></td><td><a class=\"ProveItLink\" href=\"../16a60f52bc6333acd7d0376ef7c2989aee4fa9690/expr.ipynb\"><img src=\"../16a60f52bc6333acd7d0376ef7c2989aee4fa9690/expr.png\" style=\"display:inline;vertical-align:middle;\" /></a></td></tr>\n",
       "<tr><td>3</td><td>Literal</td><td></td><td><a class=\"ProveItLink\" href=\"../../../../logic/equality/__pv_it/e16d2caa26a16688b658bdb9c422caf4b84579e10/expr.ipynb\"><img src=\"../../../../logic/equality/__pv_it/e16d2caa26a16688b658bdb9c422caf4b84579e10/expr.png\" style=\"display:inline;vertical-align:middle;\" /></a></td></tr>\n",
       "<tr><td>4</td><td>ExprTuple</td><td>7, 8</td><td><a class=\"ProveItLink\" href=\"../9e9cf6cc96d4ea843636a5719fea15c570605be80/expr.ipynb\"><img src=\"../9e9cf6cc96d4ea843636a5719fea15c570605be80/expr.png\" style=\"display:inline;vertical-align:middle;\" /></a></td></tr>\n",
       "<tr><td>5</td><td>Literal</td><td></td><td><a class=\"ProveItLink\" href=\"../../../../logic/boolean/conjunction/__pv_it/f41cc6b553210927c09f19a8a39cdf860a5585930/expr.ipynb\"><img src=\"../../../../logic/boolean/conjunction/__pv_it/f41cc6b553210927c09f19a8a39cdf860a5585930/expr.png\" style=\"display:inline;vertical-align:middle;\" /></a></td></tr>\n",
       "<tr><td>6</td><td>ExprTuple</td><td>9, 10, 11, 12</td><td><a class=\"ProveItLink\" href=\"../8da5fd41d22aadcb48f1b63a283d0d505c1296a20/expr.ipynb\"><img src=\"../8da5fd41d22aadcb48f1b63a283d0d505c1296a20/expr.png\" style=\"display:inline;vertical-align:middle;\" /></a></td></tr>\n",
       "<tr><td>7</td><td>Operation</td><td>operator:&nbsp;14<br>operands:&nbsp;13<br></td><td><a class=\"ProveItLink\" href=\"../6fb82619ee52943c5b3d14c14727f3ab9e9d3a7a0/expr.ipynb\"><img src=\"../6fb82619ee52943c5b3d14c14727f3ab9e9d3a7a0/expr.png\" style=\"display:inline;vertical-align:middle;\" /></a></td></tr>\n",
       "<tr><td>8</td><td>Operation</td><td>operator:&nbsp;14<br>operands:&nbsp;15<br></td><td><a class=\"ProveItLink\" href=\"../858e2787af6655af2bf6b4293829e4f532ac47a30/expr.ipynb\"><img src=\"../858e2787af6655af2bf6b4293829e4f532ac47a30/expr.png\" style=\"display:inline;vertical-align:middle;\" /></a></td></tr>\n",
       "<tr><td>9</td><td>ExprRange</td><td>lambda_map:&nbsp;16<br>start_index:&nbsp;32<br>end_index:&nbsp;28<br></td><td><a class=\"ProveItLink\" href=\"../27dce8086a01373c643c944d0d87e95fd5843eba0/expr.ipynb\"><img src=\"../27dce8086a01373c643c944d0d87e95fd5843eba0/expr.png\" style=\"display:inline;vertical-align:middle;\" /></a></td></tr>\n",
       "<tr><td>10</td><td>ExprRange</td><td>lambda_map:&nbsp;17<br>start_index:&nbsp;32<br>end_index:&nbsp;30<br></td><td><a class=\"ProveItLink\" href=\"../e8f6f423889e757112bd1046776c9f53e92e075e0/expr.ipynb\"><img src=\"../e8f6f423889e757112bd1046776c9f53e92e075e0/expr.png\" style=\"display:inline;vertical-align:middle;\" /></a></td></tr>\n",
       "<tr><td>11</td><td>Operation</td><td>operator:&nbsp;36<br>operands:&nbsp;18<br></td><td><a class=\"ProveItLink\" href=\"../d02cf1906ac5f4354cc3c5b69decd4aeb8773d320/expr.ipynb\"><img src=\"../d02cf1906ac5f4354cc3c5b69decd4aeb8773d320/expr.png\" style=\"display:inline;vertical-align:middle;\" /></a></td></tr>\n",
       "<tr><td>12</td><td>ExprRange</td><td>lambda_map:&nbsp;19<br>start_index:&nbsp;32<br>end_index:&nbsp;33<br></td><td><a class=\"ProveItLink\" href=\"../59a690df70919c2f8daee6b94d5090f1c378aea30/expr.ipynb\"><img src=\"../59a690df70919c2f8daee6b94d5090f1c378aea30/expr.png\" style=\"display:inline;vertical-align:middle;\" /></a></td></tr>\n",
       "<tr><td>13</td><td>ExprTuple</td><td>20, 21, 25, 22</td><td><a class=\"ProveItLink\" href=\"../e5fe525ccfa820ff15a549c4a3bcaeb33b150d190/expr.ipynb\"><img src=\"../e5fe525ccfa820ff15a549c4a3bcaeb33b150d190/expr.png\" style=\"display:inline;vertical-align:middle;\" /></a></td></tr>\n",
       "<tr><td>14</td><td>Literal</td><td></td><td><a class=\"ProveItLink\" href=\"../f7a1ed7c35c8c884cf4c236d27cb79bf85638cad0/expr.ipynb\"><img src=\"../f7a1ed7c35c8c884cf4c236d27cb79bf85638cad0/expr.png\" style=\"display:inline;vertical-align:middle;\" /></a></td></tr>\n",
       "<tr><td>15</td><td>ExprTuple</td><td>20, 25, 21, 22</td><td><a class=\"ProveItLink\" href=\"../15bafe32053c4cc20a946075c9835f36111908f30/expr.ipynb\"><img src=\"../15bafe32053c4cc20a946075c9835f36111908f30/expr.png\" style=\"display:inline;vertical-align:middle;\" /></a></td></tr>\n",
       "<tr><td>16</td><td>Lambda</td><td>parameter:&nbsp;45<br>body:&nbsp;23<br></td><td><a class=\"ProveItLink\" href=\"../f1bb345c56d9f593813d3c728cb6141429a33aa50/expr.ipynb\"><img src=\"../f1bb345c56d9f593813d3c728cb6141429a33aa50/expr.png\" style=\"display:inline;vertical-align:middle;\" /></a></td></tr>\n",
       "<tr><td>17</td><td>Lambda</td><td>parameter:&nbsp;45<br>body:&nbsp;24<br></td><td><a class=\"ProveItLink\" href=\"../9938d744ea5a09ad4518d1a9d1ec6f0ab71e7eb10/expr.ipynb\"><img src=\"../9938d744ea5a09ad4518d1a9d1ec6f0ab71e7eb10/expr.png\" style=\"display:inline;vertical-align:middle;\" /></a></td></tr>\n",
       "<tr><td>18</td><td>ExprTuple</td><td>25, 41</td><td><a class=\"ProveItLink\" href=\"../4aac17ca52656ad743a5b31a40d15dabf78f86e30/expr.ipynb\"><img src=\"../4aac17ca52656ad743a5b31a40d15dabf78f86e30/expr.png\" style=\"display:inline;vertical-align:middle;\" /></a></td></tr>\n",
       "<tr><td>19</td><td>Lambda</td><td>parameter:&nbsp;45<br>body:&nbsp;26<br></td><td><a class=\"ProveItLink\" href=\"../8952bc0f9e73b11e4286584818010d0a789b47430/expr.ipynb\"><img src=\"../8952bc0f9e73b11e4286584818010d0a789b47430/expr.png\" style=\"display:inline;vertical-align:middle;\" /></a></td></tr>\n",
       "<tr><td>20</td><td>ExprRange</td><td>lambda_map:&nbsp;27<br>start_index:&nbsp;32<br>end_index:&nbsp;28<br></td><td><a class=\"ProveItLink\" href=\"../../../../core_expr_types/__pv_it/196a4822a947788226dd6f6295906f44615646a20/expr.ipynb\"><img src=\"../../../../core_expr_types/__pv_it/196a4822a947788226dd6f6295906f44615646a20/expr.png\" style=\"display:inline;vertical-align:middle;\" /></a></td></tr>\n",
       "<tr><td>21</td><td>ExprRange</td><td>lambda_map:&nbsp;29<br>start_index:&nbsp;32<br>end_index:&nbsp;30<br></td><td><a class=\"ProveItLink\" href=\"../../../../core_expr_types/__pv_it/15695dfd517be7325909f934999e746bda7ef4c10/expr.ipynb\"><img src=\"../../../../core_expr_types/__pv_it/15695dfd517be7325909f934999e746bda7ef4c10/expr.png\" style=\"display:inline;vertical-align:middle;\" /></a></td></tr>\n",
       "<tr><td>22</td><td>ExprRange</td><td>lambda_map:&nbsp;31<br>start_index:&nbsp;32<br>end_index:&nbsp;33<br></td><td><a class=\"ProveItLink\" href=\"../../../../core_expr_types/__pv_it/8dbfd9b81962376ad62d41c65a9cad6034f7147f0/expr.ipynb\"><img src=\"../../../../core_expr_types/__pv_it/8dbfd9b81962376ad62d41c65a9cad6034f7147f0/expr.png\" style=\"display:inline;vertical-align:middle;\" /></a></td></tr>\n",
       "<tr><td>23</td><td>Operation</td><td>operator:&nbsp;36<br>operands:&nbsp;34<br></td><td><a class=\"ProveItLink\" href=\"../99e6f3391d85155ae45109bea23c8042637637280/expr.ipynb\"><img src=\"../99e6f3391d85155ae45109bea23c8042637637280/expr.png\" style=\"display:inline;vertical-align:middle;\" /></a></td></tr>\n",
       "<tr><td>24</td><td>Operation</td><td>operator:&nbsp;36<br>operands:&nbsp;35<br></td><td><a class=\"ProveItLink\" href=\"../2e035efc2d58895e5b5a463821396422879e99b20/expr.ipynb\"><img src=\"../2e035efc2d58895e5b5a463821396422879e99b20/expr.png\" style=\"display:inline;vertical-align:middle;\" /></a></td></tr>\n",
       "<tr><td>25</td><td>Variable</td><td></td><td><a class=\"ProveItLink\" href=\"../../../../__pv_it/b2b446b221a34ee579eb9a1fbdd4ac4e2891d8c70/expr.ipynb\"><img src=\"../../../../__pv_it/b2b446b221a34ee579eb9a1fbdd4ac4e2891d8c70/expr.png\" style=\"display:inline;vertical-align:middle;\" /></a></td></tr>\n",
       "<tr><td>26</td><td>Operation</td><td>operator:&nbsp;36<br>operands:&nbsp;37<br></td><td><a class=\"ProveItLink\" href=\"../20025be8436635ed805a2c9b8e76d0bf380618590/expr.ipynb\"><img src=\"../20025be8436635ed805a2c9b8e76d0bf380618590/expr.png\" style=\"display:inline;vertical-align:middle;\" /></a></td></tr>\n",
       "<tr><td>27</td><td>Lambda</td><td>parameter:&nbsp;45<br>body:&nbsp;38<br></td><td><a class=\"ProveItLink\" href=\"../../../../core_expr_types/__pv_it/c512bca05a0e191e5f76f2677a0e9e227e81e9f10/expr.ipynb\"><img src=\"../../../../core_expr_types/__pv_it/c512bca05a0e191e5f76f2677a0e9e227e81e9f10/expr.png\" style=\"display:inline;vertical-align:middle;\" /></a></td></tr>\n",
       "<tr><td>28</td><td>Variable</td><td></td><td><a class=\"ProveItLink\" href=\"../../../../__pv_it/557ab5defdcd46aa58168b08767502985122cd490/expr.ipynb\"><img src=\"../../../../__pv_it/557ab5defdcd46aa58168b08767502985122cd490/expr.png\" style=\"display:inline;vertical-align:middle;\" /></a></td></tr>\n",
       "<tr><td>29</td><td>Lambda</td><td>parameter:&nbsp;45<br>body:&nbsp;39<br></td><td><a class=\"ProveItLink\" href=\"../../../../core_expr_types/__pv_it/996f2ec6331c8b2d1be4799856e0d232802586e80/expr.ipynb\"><img src=\"../../../../core_expr_types/__pv_it/996f2ec6331c8b2d1be4799856e0d232802586e80/expr.png\" style=\"display:inline;vertical-align:middle;\" /></a></td></tr>\n",
       "<tr><td>30</td><td>Variable</td><td></td><td><a class=\"ProveItLink\" href=\"../../../../__pv_it/6a5b5879f51878868f626bf09e4d76392d4779cd0/expr.ipynb\"><img src=\"../../../../__pv_it/6a5b5879f51878868f626bf09e4d76392d4779cd0/expr.png\" style=\"display:inline;vertical-align:middle;\" /></a></td></tr>\n",
       "<tr><td>31</td><td>Lambda</td><td>parameter:&nbsp;45<br>body:&nbsp;40<br></td><td><a class=\"ProveItLink\" href=\"../../../../core_expr_types/__pv_it/1d659b85c5bf2e490debbb01f894db0a39c622230/expr.ipynb\"><img src=\"../../../../core_expr_types/__pv_it/1d659b85c5bf2e490debbb01f894db0a39c622230/expr.png\" style=\"display:inline;vertical-align:middle;\" /></a></td></tr>\n",
       "<tr><td>32</td><td>Literal</td><td></td><td><a class=\"ProveItLink\" href=\"../../../numeral/__pv_it/f086f8c372bd40a2458306ddfdbb29f3dc6f63030/expr.ipynb\"><img src=\"../../../numeral/__pv_it/f086f8c372bd40a2458306ddfdbb29f3dc6f63030/expr.png\" style=\"display:inline;vertical-align:middle;\" /></a></td></tr>\n",
       "<tr><td>33</td><td>Variable</td><td></td><td><a class=\"ProveItLink\" href=\"../../../../__pv_it/273f49450ca25e1b56abbd98a7aef618f8f6c1360/expr.ipynb\"><img src=\"../../../../__pv_it/273f49450ca25e1b56abbd98a7aef618f8f6c1360/expr.png\" style=\"display:inline;vertical-align:middle;\" /></a></td></tr>\n",
       "<tr><td>34</td><td>ExprTuple</td><td>38, 41</td><td><a class=\"ProveItLink\" href=\"../31b169a98acf923bd5baf6bc5e37862efc14ef0c0/expr.ipynb\"><img src=\"../31b169a98acf923bd5baf6bc5e37862efc14ef0c0/expr.png\" style=\"display:inline;vertical-align:middle;\" /></a></td></tr>\n",
       "<tr><td>35</td><td>ExprTuple</td><td>39, 41</td><td><a class=\"ProveItLink\" href=\"../a7faa821d2cdbb78d1f477b82404ed0268c873f70/expr.ipynb\"><img src=\"../a7faa821d2cdbb78d1f477b82404ed0268c873f70/expr.png\" style=\"display:inline;vertical-align:middle;\" /></a></td></tr>\n",
       "<tr><td>36</td><td>Literal</td><td></td><td><a class=\"ProveItLink\" href=\"../../../../logic/set_theory/membership/__pv_it/7776fc89cb67d0b5b1ec2c0c8e08da5587921ccf0/expr.ipynb\"><img src=\"../../../../logic/set_theory/membership/__pv_it/7776fc89cb67d0b5b1ec2c0c8e08da5587921ccf0/expr.png\" style=\"display:inline;vertical-align:middle;\" /></a></td></tr>\n",
       "<tr><td>37</td><td>ExprTuple</td><td>40, 41</td><td><a class=\"ProveItLink\" href=\"../1141e4458f8ffeb616331b0311a85101422132480/expr.ipynb\"><img src=\"../1141e4458f8ffeb616331b0311a85101422132480/expr.png\" style=\"display:inline;vertical-align:middle;\" /></a></td></tr>\n",
       "<tr><td>38</td><td>IndexedVar</td><td>variable:&nbsp;42<br>index:&nbsp;45<br></td><td><a class=\"ProveItLink\" href=\"../../../../core_expr_types/__pv_it/976fe6b95e8535cc9e0861bdc030337becead6960/expr.ipynb\"><img src=\"../../../../core_expr_types/__pv_it/976fe6b95e8535cc9e0861bdc030337becead6960/expr.png\" style=\"display:inline;vertical-align:middle;\" /></a></td></tr>\n",
       "<tr><td>39</td><td>IndexedVar</td><td>variable:&nbsp;43<br>index:&nbsp;45<br></td><td><a class=\"ProveItLink\" href=\"../../../../core_expr_types/__pv_it/9bc57456e5b3b4b9fd388151d23275520992cab00/expr.ipynb\"><img src=\"../../../../core_expr_types/__pv_it/9bc57456e5b3b4b9fd388151d23275520992cab00/expr.png\" style=\"display:inline;vertical-align:middle;\" /></a></td></tr>\n",
       "<tr><td>40</td><td>IndexedVar</td><td>variable:&nbsp;44<br>index:&nbsp;45<br></td><td><a class=\"ProveItLink\" href=\"../../../../core_expr_types/__pv_it/d26772a033711e24e6d8cc0cab11122d045b19db0/expr.ipynb\"><img src=\"../../../../core_expr_types/__pv_it/d26772a033711e24e6d8cc0cab11122d045b19db0/expr.png\" style=\"display:inline;vertical-align:middle;\" /></a></td></tr>\n",
       "<tr><td>41</td><td>Literal</td><td></td><td><a class=\"ProveItLink\" href=\"../../../sets/complex/__pv_it/8a5866946d766bfd951bcdff07a1a39af0935c430/expr.ipynb\"><img src=\"../../../sets/complex/__pv_it/8a5866946d766bfd951bcdff07a1a39af0935c430/expr.png\" style=\"display:inline;vertical-align:middle;\" /></a></td></tr>\n",
       "<tr><td>42</td><td>Variable</td><td></td><td><a class=\"ProveItLink\" href=\"../../../../__pv_it/a8d4b3a34d2189508f9082853fbac36935714f280/expr.ipynb\"><img src=\"../../../../__pv_it/a8d4b3a34d2189508f9082853fbac36935714f280/expr.png\" style=\"display:inline;vertical-align:middle;\" /></a></td></tr>\n",
       "<tr><td>43</td><td>Variable</td><td></td><td><a class=\"ProveItLink\" href=\"../../../../__pv_it/53e304ff98ebc000dbe3ef224f4637dbafd46ba70/expr.ipynb\"><img src=\"../../../../__pv_it/53e304ff98ebc000dbe3ef224f4637dbafd46ba70/expr.png\" style=\"display:inline;vertical-align:middle;\" /></a></td></tr>\n",
       "<tr><td>44</td><td>Variable</td><td></td><td><a class=\"ProveItLink\" href=\"../../../../__pv_it/445e790c2b62732eb8597a2ddda4cbd1a8fb79140/expr.ipynb\"><img src=\"../../../../__pv_it/445e790c2b62732eb8597a2ddda4cbd1a8fb79140/expr.png\" style=\"display:inline;vertical-align:middle;\" /></a></td></tr>\n",
       "<tr><td>45</td><td>Variable</td><td></td><td><a class=\"ProveItLink\" href=\"../../../../core_expr_types/__pv_it/1e653f789234b245ee7fea7caad998c139d617410/expr.ipynb\"><img src=\"../../../../core_expr_types/__pv_it/1e653f789234b245ee7fea7caad998c139d617410/expr.png\" style=\"display:inline;vertical-align:middle;\" /></a></td></tr>\n",
       "</table>\n"
      ],
      "text/plain": [
       "0. {(a_{1} * ..a_{_a}.. * a_{i} * b_{1} * ..b_{_a}.. * b_{j} * c * d_{1} * ..d_{_a}.. * d_{k}) =  \\\\ (a_{1} * ..a_{_a}.. * a_{i} * c * b_{1} * ..b_{_a}.. * b_{j} * d_{1} * ..d_{_a}.. * d_{k}) if a_{1} in Complexes ,  ..a_{_a} in Complexes.. ,  a_{i} in Complexes ,  b_{1} in Complexes ,  ..b_{_a} in Complexes.. ,  b_{j} in Complexes ,  c in Complexes ,  d_{1} in Complexes ,  ..d_{_a} in Complexes.. ,  d_{k} in Complexes.\n",
       "   core type: Conditional\n",
       "   value: 1\n",
       "   condition: 2\n",
       "1. (a_{1} * ..a_{_a}.. * a_{i} * b_{1} * ..b_{_a}.. * b_{j} * c * d_{1} * ..d_{_a}.. * d_{k}) =  \\\\ (a_{1} * ..a_{_a}.. * a_{i} * c * b_{1} * ..b_{_a}.. * b_{j} * d_{1} * ..d_{_a}.. * d_{k})\n",
       "   core type: Operation\n",
       "   operator: 3\n",
       "   operands: 4\n",
       "2. (a_{1} in Complexes) and ..(a_{_a} in Complexes).. and (a_{i} in Complexes) and (b_{1} in Complexes) and ..(b_{_a} in Complexes).. and (b_{j} in Complexes) and (c in Complexes) and (d_{1} in Complexes) and ..(d_{_a} in Complexes).. and (d_{k} in Complexes)\n",
       "   core type: Operation\n",
       "   operator: 5\n",
       "   operands: 6\n",
       "3. =\n",
       "   core type: Literal\n",
       "   sub-expressions: \n",
       "4. (a_{1} * ..a_{_a}.. * a_{i} * b_{1} * ..b_{_a}.. * b_{j} * c * d_{1} * ..d_{_a}.. * d_{k}, a_{1} * ..a_{_a}.. * a_{i} * c * b_{1} * ..b_{_a}.. * b_{j} * d_{1} * ..d_{_a}.. * d_{k})\n",
       "   core type: ExprTuple\n",
       "   sub-expressions: 7, 8\n",
       "5. and\n",
       "   core type: Literal\n",
       "   sub-expressions: \n",
       "6. (a_{1} in Complexes, ..a_{_a} in Complexes.., a_{i} in Complexes, b_{1} in Complexes, ..b_{_a} in Complexes.., b_{j} in Complexes, c in Complexes, d_{1} in Complexes, ..d_{_a} in Complexes.., d_{k} in Complexes)\n",
       "   core type: ExprTuple\n",
       "   sub-expressions: 9, 10, 11, 12\n",
       "7. a_{1} * ..a_{_a}.. * a_{i} * b_{1} * ..b_{_a}.. * b_{j} * c * d_{1} * ..d_{_a}.. * d_{k}\n",
       "   core type: Operation\n",
       "   operator: 14\n",
       "   operands: 13\n",
       "8. a_{1} * ..a_{_a}.. * a_{i} * c * b_{1} * ..b_{_a}.. * b_{j} * d_{1} * ..d_{_a}.. * d_{k}\n",
       "   core type: Operation\n",
       "   operator: 14\n",
       "   operands: 15\n",
       "9. (a_{1} in Complexes), ..(a_{_a} in Complexes).., (a_{i} in Complexes)\n",
       "   core type: ExprRange\n",
       "   lambda_map: 16\n",
       "   start_index: 32\n",
       "   end_index: 28\n",
       "10. (b_{1} in Complexes), ..(b_{_a} in Complexes).., (b_{j} in Complexes)\n",
       "    core type: ExprRange\n",
       "    lambda_map: 17\n",
       "    start_index: 32\n",
       "    end_index: 30\n",
       "11. c in Complexes\n",
       "    core type: Operation\n",
       "    operator: 36\n",
       "    operands: 18\n",
       "12. (d_{1} in Complexes), ..(d_{_a} in Complexes).., (d_{k} in Complexes)\n",
       "    core type: ExprRange\n",
       "    lambda_map: 19\n",
       "    start_index: 32\n",
       "    end_index: 33\n",
       "13. (a_{1}, ..a_{_a}.., a_{i}, b_{1}, ..b_{_a}.., b_{j}, c, d_{1}, ..d_{_a}.., d_{k})\n",
       "    core type: ExprTuple\n",
       "    sub-expressions: 20, 21, 25, 22\n",
       "14. *\n",
       "    core type: Literal\n",
       "    sub-expressions: \n",
       "15. (a_{1}, ..a_{_a}.., a_{i}, c, b_{1}, ..b_{_a}.., b_{j}, d_{1}, ..d_{_a}.., d_{k})\n",
       "    core type: ExprTuple\n",
       "    sub-expressions: 20, 25, 21, 22\n",
       "16. _a -> (a_{_a} in Complexes)\n",
       "    core type: Lambda\n",
       "    parameter: 45\n",
       "    body: 23\n",
       "17. _a -> (b_{_a} in Complexes)\n",
       "    core type: Lambda\n",
       "    parameter: 45\n",
       "    body: 24\n",
       "18. (c, Complexes)\n",
       "    core type: ExprTuple\n",
       "    sub-expressions: 25, 41\n",
       "19. _a -> (d_{_a} in Complexes)\n",
       "    core type: Lambda\n",
       "    parameter: 45\n",
       "    body: 26\n",
       "20. a_{1}, ..a_{_a}.., a_{i}\n",
       "    core type: ExprRange\n",
       "    lambda_map: 27\n",
       "    start_index: 32\n",
       "    end_index: 28\n",
       "21. b_{1}, ..b_{_a}.., b_{j}\n",
       "    core type: ExprRange\n",
       "    lambda_map: 29\n",
       "    start_index: 32\n",
       "    end_index: 30\n",
       "22. d_{1}, ..d_{_a}.., d_{k}\n",
       "    core type: ExprRange\n",
       "    lambda_map: 31\n",
       "    start_index: 32\n",
       "    end_index: 33\n",
       "23. a_{_a} in Complexes\n",
       "    core type: Operation\n",
       "    operator: 36\n",
       "    operands: 34\n",
       "24. b_{_a} in Complexes\n",
       "    core type: Operation\n",
       "    operator: 36\n",
       "    operands: 35\n",
       "25. c\n",
       "    core type: Variable\n",
       "    sub-expressions: \n",
       "26. d_{_a} in Complexes\n",
       "    core type: Operation\n",
       "    operator: 36\n",
       "    operands: 37\n",
       "27. _a -> a_{_a}\n",
       "    core type: Lambda\n",
       "    parameter: 45\n",
       "    body: 38\n",
       "28. i\n",
       "    core type: Variable\n",
       "    sub-expressions: \n",
       "29. _a -> b_{_a}\n",
       "    core type: Lambda\n",
       "    parameter: 45\n",
       "    body: 39\n",
       "30. j\n",
       "    core type: Variable\n",
       "    sub-expressions: \n",
       "31. _a -> d_{_a}\n",
       "    core type: Lambda\n",
       "    parameter: 45\n",
       "    body: 40\n",
       "32. 1\n",
       "    core type: Literal\n",
       "    sub-expressions: \n",
       "33. k\n",
       "    core type: Variable\n",
       "    sub-expressions: \n",
       "34. (a_{_a}, Complexes)\n",
       "    core type: ExprTuple\n",
       "    sub-expressions: 38, 41\n",
       "35. (b_{_a}, Complexes)\n",
       "    core type: ExprTuple\n",
       "    sub-expressions: 39, 41\n",
       "36. in\n",
       "    core type: Literal\n",
       "    sub-expressions: \n",
       "37. (d_{_a}, Complexes)\n",
       "    core type: ExprTuple\n",
       "    sub-expressions: 40, 41\n",
       "38. a_{_a}\n",
       "    core type: IndexedVar\n",
       "variable: 42\n",
       "index: 45\n",
       "39. b_{_a}\n",
       "    core type: IndexedVar\n",
       "variable: 43\n",
       "index: 45\n",
       "40. d_{_a}\n",
       "    core type: IndexedVar\n",
       "variable: 44\n",
       "index: 45\n",
       "41. Complexes\n",
       "    core type: Literal\n",
       "    sub-expressions: \n",
       "42. a\n",
       "    core type: Variable\n",
       "    sub-expressions: \n",
       "43. b\n",
       "    core type: Variable\n",
       "    sub-expressions: \n",
       "44. d\n",
       "    core type: Variable\n",
       "    sub-expressions: \n",
       "45. _a\n",
       "    core type: Variable\n",
       "    sub-expressions: "
      ]
     },
     "execution_count": 5,
     "metadata": {},
     "output_type": "execute_result"
    }
   ],
   "source": [
    "# display the expression information\n",
    "expr.exprInfo()"
   ]
  },
  {
   "cell_type": "code",
   "execution_count": null,
   "metadata": {},
   "outputs": [],
   "source": []
  }
 ],
 "metadata": {
  "kernelspec": {
   "display_name": "Python 3",
   "language": "python",
   "name": "python3"
  },
  "language_info": {
   "codemirror_mode": {
    "name": "ipython",
    "version": 3
   },
   "file_extension": ".py",
   "mimetype": "text/x-python",
   "name": "python",
   "nbconvert_exporter": "python",
   "pygments_lexer": "ipython3",
   "version": "3.7.3"
  }
 },
 "nbformat": 4,
 "nbformat_minor": 1
}
