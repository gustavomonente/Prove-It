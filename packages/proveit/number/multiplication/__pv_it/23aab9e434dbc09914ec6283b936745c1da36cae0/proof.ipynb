{
 "cells": [
  {
   "cell_type": "markdown",
   "metadata": {},
   "source": [
    "Show the Proof\n",
    "========"
   ]
  },
  {
   "cell_type": "code",
   "execution_count": 1,
   "metadata": {},
   "outputs": [
    {
     "data": {
      "text/html": [
       "<table><tr><th>&nbsp;</th><th>step type</th><th>requirements</th><th>statement</th></tr>\n",
       "<tr><td><a name=\"proveit.number.multiplication.23aab9e434dbc09914ec6283b936745c1da36cae0_step0\">0</a></td><td>instantiation</td><td><a href=\"#proveit.number.multiplication.23aab9e434dbc09914ec6283b936745c1da36cae0_step1\">1</a>, <a href=\"#proveit.number.multiplication.23aab9e434dbc09914ec6283b936745c1da36cae0_step2\">2</a></td><td><span style=\"font-size:20px;\"><a class=\"ProveItLink\" href=\"../2aa9a0d638684f0e54d969671ce2afaad1c1d3ed0/expr.ipynb\"><img src=\"../2aa9a0d638684f0e54d969671ce2afaad1c1d3ed0/expr.png\" style=\"display:inline;vertical-align:middle;\" /></a> <a class=\"ProveItLink\" href=\"proof.ipynb\" style=\"text-decoration: none\">&#x22A2;&nbsp;</a><a class=\"ProveItLink\" href=\"../852baec70ccb793fe12720d14b8fe6210fa0cdc20/expr.ipynb\"><img src=\"../852baec70ccb793fe12720d14b8fe6210fa0cdc20/expr.png\" style=\"display:inline;vertical-align:middle;\" /></a></span></td></tr>\n",
       "<tr><td>&nbsp;</td><td colspan=4 style=\"text-align:left\"><span style=\"font-size:20px;\"><a class=\"ProveItLink\" href=\"../../../../__pv_it/a8d4b3a34d2189508f9082853fbac36935714f280/expr.ipynb\"><img src=\"../../../../__pv_it/a8d4b3a34d2189508f9082853fbac36935714f280/expr.png\" style=\"display:inline;vertical-align:middle;\" /></a> : <a class=\"ProveItLink\" href=\"../../../../__pv_it/c6e291955561f22a0e6708fd793ea93f1c7dbb5d0/expr.ipynb\"><img src=\"../../../../__pv_it/c6e291955561f22a0e6708fd793ea93f1c7dbb5d0/expr.png\" style=\"display:inline;vertical-align:middle;\" /></a></span></td></tr><tr><td><a name=\"proveit.number.multiplication.23aab9e434dbc09914ec6283b936745c1da36cae0_step1\">1</a></td><td>theorem</td><td></td><td><span style=\"font-size:20px;\"> <a class=\"ProveItLink\" href=\"../../../negation/_proofs_/complexClosure.ipynb\" style=\"text-decoration: none\">&#x22A2;&nbsp;</a><a class=\"ProveItLink\" href=\"../85edbe60f45970bb2e8e00e630b0ccccb82a52800/expr.ipynb\"><img src=\"../85edbe60f45970bb2e8e00e630b0ccccb82a52800/expr.png\" style=\"display:inline;vertical-align:middle;\" /></a></span></td></tr>\n",
       "<tr><td>&nbsp;</td><td colspan=4 style-\"text-align:left\"><a class=\"ProveItLink\" href=\"../../../negation/_proofs_/complexClosure.ipynb\">proveit.number.negation.complexClosure</a></td></tr><tr><td><a name=\"proveit.number.multiplication.23aab9e434dbc09914ec6283b936745c1da36cae0_step2\">2</a></td><td>assumption</td><td></td><td><span style=\"font-size:20px;\"><a class=\"ProveItLink\" href=\"../2aa9a0d638684f0e54d969671ce2afaad1c1d3ed0/expr.ipynb\"><img src=\"../2aa9a0d638684f0e54d969671ce2afaad1c1d3ed0/expr.png\" style=\"display:inline;vertical-align:middle;\" /></a> <a class=\"ProveItLink\" href=\"../87e2d59d39cca29a91cfe4b45a78fcb0d6a2c0aa0/proof.ipynb\" style=\"text-decoration: none\">&#x22A2;&nbsp;</a><a class=\"ProveItLink\" href=\"../29eade6bbdc2222825cd9b9d7990f741f81286a50/expr.ipynb\"><img src=\"../29eade6bbdc2222825cd9b9d7990f741f81286a50/expr.png\" style=\"display:inline;vertical-align:middle;\" /></a></span></td></tr>\n",
       "</table>"
      ],
      "text/plain": [
       "<proveit._core_.proof._ShowProof at 0x7f5b8de7f828>"
      ]
     },
     "execution_count": 1,
     "metadata": {},
     "output_type": "execute_result"
    }
   ],
   "source": [
    "import proveit\n",
    "# Automation is not needed when only showing a stored proof:\n",
    "proveit.defaults.automation = False # This will speed things up.\n",
    "proveit.defaults.inline_pngs = False # Makes files smaller.\n",
    "%show_proof"
   ]
  },
  {
   "cell_type": "code",
   "execution_count": null,
   "metadata": {},
   "outputs": [],
   "source": []
  }
 ],
 "metadata": {
  "kernelspec": {
   "display_name": "Python 3",
   "language": "python",
   "name": "python3"
  },
  "language_info": {
   "codemirror_mode": {
    "name": "ipython",
    "version": 3
   },
   "file_extension": ".py",
   "mimetype": "text/x-python",
   "name": "python",
   "nbconvert_exporter": "python",
   "pygments_lexer": "ipython3",
   "version": "3.7.3"
  }
 },
 "nbformat": 4,
 "nbformat_minor": 1
}
