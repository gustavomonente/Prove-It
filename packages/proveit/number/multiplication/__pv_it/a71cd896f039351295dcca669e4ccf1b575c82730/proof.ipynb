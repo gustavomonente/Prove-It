{
 "cells": [
  {
   "cell_type": "markdown",
   "metadata": {},
   "source": [
    "Show the Proof\n",
    "========"
   ]
  },
  {
   "cell_type": "code",
   "execution_count": 1,
   "metadata": {},
   "outputs": [
    {
     "data": {
      "text/html": [
       "<table><tr><th>&nbsp;</th><th>step type</th><th>requirements</th><th>statement</th></tr>\n",
       "<tr><td><a name=\"proveit.number.multiplication.a71cd896f039351295dcca669e4ccf1b575c82730_step0\">0</a></td><td>instantiation</td><td><a href=\"#proveit.number.multiplication.a71cd896f039351295dcca669e4ccf1b575c82730_step1\">1</a>, <a href=\"#proveit.number.multiplication.a71cd896f039351295dcca669e4ccf1b575c82730_step2\">2</a>, <a href=\"#proveit.number.multiplication.a71cd896f039351295dcca669e4ccf1b575c82730_step3\">3</a>, <a href=\"#proveit.number.multiplication.a71cd896f039351295dcca669e4ccf1b575c82730_step4\">4</a>, <a href=\"#proveit.number.multiplication.a71cd896f039351295dcca669e4ccf1b575c82730_step5\">5</a></td><td><span style=\"font-size:20px;\"><a class=\"ProveItLink\" href=\"../814ad3b887777c33126b530621b71f90ad99ce800/expr.ipynb\"><img src=\"../814ad3b887777c33126b530621b71f90ad99ce800/expr.png\" style=\"display:inline;vertical-align:middle;\" /></a> <a class=\"ProveItLink\" href=\"proof.ipynb\" style=\"text-decoration: none\">&#x22A2;&nbsp;</a><a class=\"ProveItLink\" href=\"../8f3488c70144eb7461cedbb6e608719f2e0c92cc0/expr.ipynb\"><img src=\"../8f3488c70144eb7461cedbb6e608719f2e0c92cc0/expr.png\" style=\"display:inline;vertical-align:middle;\" /></a></span></td></tr>\n",
       "<tr><td>&nbsp;</td><td colspan=4 style=\"text-align:left\"><span style=\"font-size:20px;\"><a class=\"ProveItLink\" href=\"../../../../__pv_it/0c1c4cb515e0f4344b1ac06650f349123e526deb0/expr.ipynb\"><img src=\"../../../../__pv_it/0c1c4cb515e0f4344b1ac06650f349123e526deb0/expr.png\" style=\"display:inline;vertical-align:middle;\" /></a> : <a class=\"ProveItLink\" href=\"../../../numeral/__pv_it/32801785a546fd942457f8cd430f52e750ed8f980/expr.ipynb\"><img src=\"../../../numeral/__pv_it/32801785a546fd942457f8cd430f52e750ed8f980/expr.png\" style=\"display:inline;vertical-align:middle;\" /></a>, <a class=\"ProveItLink\" href=\"../../../../__pv_it/72df168d2bfb4e0140af90912ebf83b13772060b0/expr.ipynb\"><img src=\"../../../../__pv_it/72df168d2bfb4e0140af90912ebf83b13772060b0/expr.png\" style=\"display:inline;vertical-align:middle;\" /></a> : <a class=\"ProveItLink\" href=\"../../../../__pv_it/a8d4b3a34d2189508f9082853fbac36935714f280/expr.ipynb\"><img src=\"../../../../__pv_it/a8d4b3a34d2189508f9082853fbac36935714f280/expr.png\" style=\"display:inline;vertical-align:middle;\" /></a>, <a class=\"ProveItLink\" href=\"../../../../__pv_it/a8d4b3a34d2189508f9082853fbac36935714f280/expr.ipynb\"><img src=\"../../../../__pv_it/a8d4b3a34d2189508f9082853fbac36935714f280/expr.png\" style=\"display:inline;vertical-align:middle;\" /></a> : <a class=\"ProveItLink\" href=\"../be6907a920d99f3bc37852b3ca9594b68bdb825d0/expr.ipynb\"><img src=\"../be6907a920d99f3bc37852b3ca9594b68bdb825d0/expr.png\" style=\"display:inline;vertical-align:middle;\" /></a></span></td></tr><tr><td><a name=\"proveit.number.multiplication.a71cd896f039351295dcca669e4ccf1b575c82730_step1\">1</a></td><td>axiom</td><td></td><td><span style=\"font-size:20px;\"> <a class=\"ProveItLink\" href=\"../../_axioms_.ipynb#multDef\" style=\"text-decoration: none\">&#x22A2;&nbsp;</a><a class=\"ProveItLink\" href=\"../c4a90e865b2b43aa2f6303663ac9d915165c071b0/expr.ipynb\"><img src=\"../c4a90e865b2b43aa2f6303663ac9d915165c071b0/expr.png\" style=\"display:inline;vertical-align:middle;\" /></a></span></td></tr>\n",
       "<tr><td>&nbsp;</td><td colspan=4 style-\"text-align:left\"><a class=\"ProveItLink\" href=\"../../_axioms_.ipynb#multDef\">proveit.number.multiplication.multDef</a></td></tr><tr><td><a name=\"proveit.number.multiplication.a71cd896f039351295dcca669e4ccf1b575c82730_step2\">2</a></td><td>theorem</td><td></td><td><span style=\"font-size:20px;\"> <a class=\"ProveItLink\" href=\"../../../numeral/deci/_proofs_/nat4.ipynb\" style=\"text-decoration: none\">&#x22A2;&nbsp;</a><a class=\"ProveItLink\" href=\"../0ac72aa4f3c098e8aab965f7fe889137da3082fc0/expr.ipynb\"><img src=\"../0ac72aa4f3c098e8aab965f7fe889137da3082fc0/expr.png\" style=\"display:inline;vertical-align:middle;\" /></a></span></td></tr>\n",
       "<tr><td>&nbsp;</td><td colspan=4 style-\"text-align:left\"><a class=\"ProveItLink\" href=\"../../../numeral/deci/_proofs_/nat4.ipynb\">proveit.number.numeral.deci.nat4</a></td></tr><tr><td><a name=\"proveit.number.multiplication.a71cd896f039351295dcca669e4ccf1b575c82730_step3\">3</a></td><td>assumption</td><td></td><td><span style=\"font-size:20px;\"><a class=\"ProveItLink\" href=\"../814ad3b887777c33126b530621b71f90ad99ce800/expr.ipynb\"><img src=\"../814ad3b887777c33126b530621b71f90ad99ce800/expr.png\" style=\"display:inline;vertical-align:middle;\" /></a> <a class=\"ProveItLink\" href=\"../a03d66f1d8532d5b6adf57539af91200c3f4bc840/proof.ipynb\" style=\"text-decoration: none\">&#x22A2;&nbsp;</a><a class=\"ProveItLink\" href=\"../3a349d05e8f4326cbee9b8eaae329b60958952cc0/expr.ipynb\"><img src=\"../3a349d05e8f4326cbee9b8eaae329b60958952cc0/expr.png\" style=\"display:inline;vertical-align:middle;\" /></a></span></td></tr>\n",
       "<tr><td><a name=\"proveit.number.multiplication.a71cd896f039351295dcca669e4ccf1b575c82730_step4\">4</a></td><td>instantiation</td><td><a href=\"#proveit.number.multiplication.a71cd896f039351295dcca669e4ccf1b575c82730_step6\">6</a></td><td><span style=\"font-size:20px;\"> <a class=\"ProveItLink\" href=\"../9f551697597ea34c0bfb6dac4fd219b9a2e19c990/proof.ipynb\" style=\"text-decoration: none\">&#x22A2;&nbsp;</a><a class=\"ProveItLink\" href=\"../b42124ce75f9e8d0385245e528f8922e07443fed0/expr.ipynb\"><img src=\"../b42124ce75f9e8d0385245e528f8922e07443fed0/expr.png\" style=\"display:inline;vertical-align:middle;\" /></a></span></td></tr>\n",
       "<tr><td>&nbsp;</td><td colspan=4 style=\"text-align:left\"><span style=\"font-size:20px;\"><a class=\"ProveItLink\" href=\"../../../../__pv_it/a8d4b3a34d2189508f9082853fbac36935714f280/expr.ipynb\"><img src=\"../../../../__pv_it/a8d4b3a34d2189508f9082853fbac36935714f280/expr.png\" style=\"display:inline;vertical-align:middle;\" /></a> : <a class=\"ProveItLink\" href=\"../../../../__pv_it/a8d4b3a34d2189508f9082853fbac36935714f280/expr.ipynb\"><img src=\"../../../../__pv_it/a8d4b3a34d2189508f9082853fbac36935714f280/expr.png\" style=\"display:inline;vertical-align:middle;\" /></a>, <a class=\"ProveItLink\" href=\"../../../../__pv_it/53e304ff98ebc000dbe3ef224f4637dbafd46ba70/expr.ipynb\"><img src=\"../../../../__pv_it/53e304ff98ebc000dbe3ef224f4637dbafd46ba70/expr.png\" style=\"display:inline;vertical-align:middle;\" /></a> : <a class=\"ProveItLink\" href=\"../../../../__pv_it/a8d4b3a34d2189508f9082853fbac36935714f280/expr.ipynb\"><img src=\"../../../../__pv_it/a8d4b3a34d2189508f9082853fbac36935714f280/expr.png\" style=\"display:inline;vertical-align:middle;\" /></a>, <a class=\"ProveItLink\" href=\"../../../../__pv_it/b2b446b221a34ee579eb9a1fbdd4ac4e2891d8c70/expr.ipynb\"><img src=\"../../../../__pv_it/b2b446b221a34ee579eb9a1fbdd4ac4e2891d8c70/expr.png\" style=\"display:inline;vertical-align:middle;\" /></a> : <a class=\"ProveItLink\" href=\"../../../../__pv_it/a8d4b3a34d2189508f9082853fbac36935714f280/expr.ipynb\"><img src=\"../../../../__pv_it/a8d4b3a34d2189508f9082853fbac36935714f280/expr.png\" style=\"display:inline;vertical-align:middle;\" /></a>, <a class=\"ProveItLink\" href=\"../../../../__pv_it/445e790c2b62732eb8597a2ddda4cbd1a8fb79140/expr.ipynb\"><img src=\"../../../../__pv_it/445e790c2b62732eb8597a2ddda4cbd1a8fb79140/expr.png\" style=\"display:inline;vertical-align:middle;\" /></a> : <a class=\"ProveItLink\" href=\"../../../../__pv_it/a8d4b3a34d2189508f9082853fbac36935714f280/expr.ipynb\"><img src=\"../../../../__pv_it/a8d4b3a34d2189508f9082853fbac36935714f280/expr.png\" style=\"display:inline;vertical-align:middle;\" /></a></span></td></tr><tr><td><a name=\"proveit.number.multiplication.a71cd896f039351295dcca669e4ccf1b575c82730_step5\">5</a></td><td>instantiation</td><td><a href=\"#proveit.number.multiplication.a71cd896f039351295dcca669e4ccf1b575c82730_step7\">7</a>, <a href=\"#proveit.number.multiplication.a71cd896f039351295dcca669e4ccf1b575c82730_step8\">8</a></td><td><span style=\"font-size:20px;\"> <a class=\"ProveItLink\" href=\"../de83422d908ccec5a2de8dc9d9625fe425937e4e0/proof.ipynb\" style=\"text-decoration: none\">&#x22A2;&nbsp;</a><a class=\"ProveItLink\" href=\"../4d4292e03a005a28b5f3b1760e8f2d675e65481f0/expr.ipynb\"><img src=\"../4d4292e03a005a28b5f3b1760e8f2d675e65481f0/expr.png\" style=\"display:inline;vertical-align:middle;\" /></a></span></td></tr>\n",
       "<tr><td>&nbsp;</td><td colspan=4 style=\"text-align:left\"><span style=\"font-size:20px;\"><a class=\"ProveItLink\" href=\"../../../../__pv_it/72df168d2bfb4e0140af90912ebf83b13772060b0/expr.ipynb\"><img src=\"../../../../__pv_it/72df168d2bfb4e0140af90912ebf83b13772060b0/expr.png\" style=\"display:inline;vertical-align:middle;\" /></a> : <a class=\"ProveItLink\" href=\"../../../../__pv_it/a8d4b3a34d2189508f9082853fbac36935714f280/expr.ipynb\"><img src=\"../../../../__pv_it/a8d4b3a34d2189508f9082853fbac36935714f280/expr.png\" style=\"display:inline;vertical-align:middle;\" /></a>, <a class=\"ProveItLink\" href=\"../../../../__pv_it/c6e291955561f22a0e6708fd793ea93f1c7dbb5d0/expr.ipynb\"><img src=\"../../../../__pv_it/c6e291955561f22a0e6708fd793ea93f1c7dbb5d0/expr.png\" style=\"display:inline;vertical-align:middle;\" /></a> : <a class=\"ProveItLink\" href=\"../../../../__pv_it/a8d4b3a34d2189508f9082853fbac36935714f280/expr.ipynb\"><img src=\"../../../../__pv_it/a8d4b3a34d2189508f9082853fbac36935714f280/expr.png\" style=\"display:inline;vertical-align:middle;\" /></a></span></td></tr><tr><td><a name=\"proveit.number.multiplication.a71cd896f039351295dcca669e4ccf1b575c82730_step6\">6</a></td><td>theorem</td><td></td><td><span style=\"font-size:20px;\"> <a class=\"ProveItLink\" href=\"../../../numeral/deci/_proofs_/tuple_len_4_typical_equiv.ipynb\" style=\"text-decoration: none\">&#x22A2;&nbsp;</a><a class=\"ProveItLink\" href=\"../2721bd146fe7230dcf99d2f40b939da563cdb69f0/expr.ipynb\"><img src=\"../2721bd146fe7230dcf99d2f40b939da563cdb69f0/expr.png\" style=\"display:inline;vertical-align:middle;\" /></a></span></td></tr>\n",
       "<tr><td>&nbsp;</td><td colspan=4 style-\"text-align:left\"><a class=\"ProveItLink\" href=\"../../../numeral/deci/_proofs_/tuple_len_4_typical_equiv.ipynb\">proveit.number.numeral.deci.tuple_len_4_typical_equiv</a></td></tr><tr><td><a name=\"proveit.number.multiplication.a71cd896f039351295dcca669e4ccf1b575c82730_step7\">7</a></td><td>theorem</td><td></td><td><span style=\"font-size:20px;\"> <a class=\"ProveItLink\" href=\"../../../../logic/set_theory/enumeration/_proofs_/foldSingleton.ipynb\" style=\"text-decoration: none\">&#x22A2;&nbsp;</a><a class=\"ProveItLink\" href=\"../ff78db703f3350f77f2c5df63d9b405331f7aa1e0/expr.ipynb\"><img src=\"../ff78db703f3350f77f2c5df63d9b405331f7aa1e0/expr.png\" style=\"display:inline;vertical-align:middle;\" /></a></span></td></tr>\n",
       "<tr><td>&nbsp;</td><td colspan=4 style-\"text-align:left\"><a class=\"ProveItLink\" href=\"../../../../logic/set_theory/enumeration/_proofs_/foldSingleton.ipynb\">proveit.logic.set_theory.enumeration.foldSingleton</a></td></tr><tr><td><a name=\"proveit.number.multiplication.a71cd896f039351295dcca669e4ccf1b575c82730_step8\">8</a></td><td>instantiation</td><td><a href=\"#proveit.number.multiplication.a71cd896f039351295dcca669e4ccf1b575c82730_step9\">9</a></td><td><span style=\"font-size:20px;\"> <a class=\"ProveItLink\" href=\"../76d6deeab23f0595694c42c248e021ca0859ffff0/proof.ipynb\" style=\"text-decoration: none\">&#x22A2;&nbsp;</a><a class=\"ProveItLink\" href=\"../2e9afcb24fa5b397bd3a6a7a9cfc4a30640f76f80/expr.ipynb\"><img src=\"../2e9afcb24fa5b397bd3a6a7a9cfc4a30640f76f80/expr.png\" style=\"display:inline;vertical-align:middle;\" /></a></span></td></tr>\n",
       "<tr><td>&nbsp;</td><td colspan=4 style=\"text-align:left\"><span style=\"font-size:20px;\"><a class=\"ProveItLink\" href=\"../../../../__pv_it/72df168d2bfb4e0140af90912ebf83b13772060b0/expr.ipynb\"><img src=\"../../../../__pv_it/72df168d2bfb4e0140af90912ebf83b13772060b0/expr.png\" style=\"display:inline;vertical-align:middle;\" /></a> : <a class=\"ProveItLink\" href=\"../../../../__pv_it/a8d4b3a34d2189508f9082853fbac36935714f280/expr.ipynb\"><img src=\"../../../../__pv_it/a8d4b3a34d2189508f9082853fbac36935714f280/expr.png\" style=\"display:inline;vertical-align:middle;\" /></a></span></td></tr><tr><td><a name=\"proveit.number.multiplication.a71cd896f039351295dcca669e4ccf1b575c82730_step9\">9</a></td><td>axiom</td><td></td><td><span style=\"font-size:20px;\"> <a class=\"ProveItLink\" href=\"../../../../logic/equality/_axioms_.ipynb#equalsReflexivity\" style=\"text-decoration: none\">&#x22A2;&nbsp;</a><a class=\"ProveItLink\" href=\"../6271859bafd4d8c2f634b70f8009307b935692d70/expr.ipynb\"><img src=\"../6271859bafd4d8c2f634b70f8009307b935692d70/expr.png\" style=\"display:inline;vertical-align:middle;\" /></a></span></td></tr>\n",
       "<tr><td>&nbsp;</td><td colspan=4 style-\"text-align:left\"><a class=\"ProveItLink\" href=\"../../../../logic/equality/_axioms_.ipynb#equalsReflexivity\">proveit.logic.equality.equalsReflexivity</a></td></tr></table>"
      ],
      "text/plain": [
       "<proveit._core_.proof._ShowProof at 0x7f5bb0c316a0>"
      ]
     },
     "execution_count": 1,
     "metadata": {},
     "output_type": "execute_result"
    }
   ],
   "source": [
    "import proveit\n",
    "# Automation is not needed when only showing a stored proof:\n",
    "proveit.defaults.automation = False # This will speed things up.\n",
    "proveit.defaults.inline_pngs = False # Makes files smaller.\n",
    "%show_proof"
   ]
  },
  {
   "cell_type": "code",
   "execution_count": null,
   "metadata": {},
   "outputs": [],
   "source": []
  }
 ],
 "metadata": {
  "kernelspec": {
   "display_name": "Python 3",
   "language": "python",
   "name": "python3"
  },
  "language_info": {
   "codemirror_mode": {
    "name": "ipython",
    "version": 3
   },
   "file_extension": ".py",
   "mimetype": "text/x-python",
   "name": "python",
   "nbconvert_exporter": "python",
   "pygments_lexer": "ipython3",
   "version": "3.7.3"
  }
 },
 "nbformat": 4,
 "nbformat_minor": 1
}
