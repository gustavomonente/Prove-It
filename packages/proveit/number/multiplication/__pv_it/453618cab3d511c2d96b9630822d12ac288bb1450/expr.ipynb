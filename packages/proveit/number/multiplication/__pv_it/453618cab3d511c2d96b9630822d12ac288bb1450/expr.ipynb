{
 "cells": [
  {
   "cell_type": "markdown",
   "metadata": {},
   "source": [
    "Expression of type <a class=\"ProveItLink\" href=\"../../../../../../doc/html/api/proveit.Lambda.html\">Lambda</a>\n",
    "=======================\n",
    "# from context <a class=\"ProveItLink\" href=\"../../_context_.ipynb\">proveit.number.multiplication</a>"
   ]
  },
  {
   "cell_type": "code",
   "execution_count": 1,
   "metadata": {},
   "outputs": [],
   "source": [
    "import proveit\n",
    "# Automation is not needed when building an expression:\n",
    "proveit.defaults.automation = False # This will speed things up.\n",
    "proveit.defaults.inline_pngs = False # Makes files smaller.\n",
    "# import Expression classes needed to build the expression\n",
    "from proveit import Conditional, Lambda\n",
    "from proveit._common_ import n\n",
    "from proveit.core_expr_types._common_ import a_1_to_n\n",
    "from proveit.logic import Forall, InSet\n",
    "from proveit.number import Mult, Naturals"
   ]
  },
  {
   "cell_type": "code",
   "execution_count": 2,
   "metadata": {},
   "outputs": [
    {
     "data": {
      "text/html": [
       "<strong id=\"expr\">expr:</strong> <a class=\"ProveItLink\" href=\"expr.ipynb\"><img src=\"expr.png\" style=\"display:inline;vertical-align:middle;\" /></a><br>"
      ],
      "text/plain": [
       "expr: n -> {forall_{a_{1}, ..a_{_a}.., a_{n} in Naturals} ((a_{1} * ..a_{_a}.. * a_{n}) in Naturals) if n in Naturals."
      ]
     },
     "execution_count": 2,
     "metadata": {},
     "output_type": "execute_result"
    }
   ],
   "source": [
    "# build up the expression from sub-expressions\n",
    "expr = Lambda(n, Conditional(Forall([a_1_to_n], InSet(Mult(a_1_to_n), Naturals), domain = Naturals), InSet(n, Naturals)))"
   ]
  },
  {
   "cell_type": "code",
   "execution_count": 3,
   "metadata": {},
   "outputs": [
    {
     "name": "stdout",
     "output_type": "stream",
     "text": [
      "Passed sanity check: built 'expr' is the same as the stored Expression.\n"
     ]
    }
   ],
   "source": [
    "# check that the built expression is the same as the stored expression\n",
    "%check_expr"
   ]
  },
  {
   "cell_type": "code",
   "execution_count": 4,
   "metadata": {},
   "outputs": [
    {
     "name": "stdout",
     "output_type": "stream",
     "text": [
      "n \\mapsto \\left\\{\\forall_{a_{1}, \\ldots, a_{n} \\in \\mathbb{N}}~\\left(\\left(a_{1} \\cdot \\ldots \\cdot a_{n}\\right) \\in \\mathbb{N}\\right) \\textrm{ if } n \\in \\mathbb{N}\\right..\n"
     ]
    }
   ],
   "source": [
    "# Show the LaTeX representation of the expression for convenience if you need it.\n",
    "print(expr.latex())"
   ]
  },
  {
   "cell_type": "code",
   "execution_count": 5,
   "metadata": {},
   "outputs": [
    {
     "data": {
      "text/html": [
       "<table><tr><th>&nbsp;</th><th>core type</th><th>sub-expressions</th><th>expression</th></tr>\n",
       "<tr><td>0</td><td>Lambda</td><td>parameter:&nbsp;22<br>body:&nbsp;1<br></td><td><a class=\"ProveItLink\" href=\"expr.ipynb\"><img src=\"expr.png\" style=\"display:inline;vertical-align:middle;\" /></a></td></tr>\n",
       "<tr><td>1</td><td>Conditional</td><td>value:&nbsp;2<br>condition:&nbsp;3<br></td><td><a class=\"ProveItLink\" href=\"../0d34e3ef147b2f51febbc50f03ce8e2ffd9b30400/expr.ipynb\"><img src=\"../0d34e3ef147b2f51febbc50f03ce8e2ffd9b30400/expr.png\" style=\"display:inline;vertical-align:middle;\" /></a></td></tr>\n",
       "<tr><td>2</td><td>Operation</td><td>operator:&nbsp;4<br>operand:&nbsp;5<br></td><td><a class=\"ProveItLink\" href=\"../1b0df0d87e132e9e277708ff1be5c61ffd8eb0aa0/expr.ipynb\"><img src=\"../1b0df0d87e132e9e277708ff1be5c61ffd8eb0aa0/expr.png\" style=\"display:inline;vertical-align:middle;\" /></a></td></tr>\n",
       "<tr><td>3</td><td>Operation</td><td>operator:&nbsp;23<br>operands:&nbsp;6<br></td><td><a class=\"ProveItLink\" href=\"../2cf8e15839f3241ee91ee5160b94bb56314115740/expr.ipynb\"><img src=\"../2cf8e15839f3241ee91ee5160b94bb56314115740/expr.png\" style=\"display:inline;vertical-align:middle;\" /></a></td></tr>\n",
       "<tr><td>4</td><td>Literal</td><td></td><td><a class=\"ProveItLink\" href=\"../../../../logic/boolean/quantification/universal/__pv_it/fd9c772d6675566ed52a6897806f45eb08a4ea910/expr.ipynb\"><img src=\"../../../../logic/boolean/quantification/universal/__pv_it/fd9c772d6675566ed52a6897806f45eb08a4ea910/expr.png\" style=\"display:inline;vertical-align:middle;\" /></a></td></tr>\n",
       "<tr><td>5</td><td>Lambda</td><td>parameter:&nbsp;18<br>body:&nbsp;7<br></td><td><a class=\"ProveItLink\" href=\"../966aca9d6b770b9d4fc36ccbf0fe11d6dacda82d0/expr.ipynb\"><img src=\"../966aca9d6b770b9d4fc36ccbf0fe11d6dacda82d0/expr.png\" style=\"display:inline;vertical-align:middle;\" /></a></td></tr>\n",
       "<tr><td>6</td><td>ExprTuple</td><td>22, 26</td><td><a class=\"ProveItLink\" href=\"../1cec7219484835bb1a8f99347b9938cdf616708c0/expr.ipynb\"><img src=\"../1cec7219484835bb1a8f99347b9938cdf616708c0/expr.png\" style=\"display:inline;vertical-align:middle;\" /></a></td></tr>\n",
       "<tr><td>7</td><td>Conditional</td><td>value:&nbsp;8<br>condition:&nbsp;9<br></td><td><a class=\"ProveItLink\" href=\"../c0f107d9fac79c3461573fad60d0d0ded1392dc80/expr.ipynb\"><img src=\"../c0f107d9fac79c3461573fad60d0d0ded1392dc80/expr.png\" style=\"display:inline;vertical-align:middle;\" /></a></td></tr>\n",
       "<tr><td>8</td><td>Operation</td><td>operator:&nbsp;23<br>operands:&nbsp;10<br></td><td><a class=\"ProveItLink\" href=\"../41b02484e9490a035993a830982eb85e4bac85100/expr.ipynb\"><img src=\"../41b02484e9490a035993a830982eb85e4bac85100/expr.png\" style=\"display:inline;vertical-align:middle;\" /></a></td></tr>\n",
       "<tr><td>9</td><td>Operation</td><td>operator:&nbsp;11<br>operands:&nbsp;12<br></td><td><a class=\"ProveItLink\" href=\"../62dffbb4c4bed1f071a0b870d2130c55dd8141430/expr.ipynb\"><img src=\"../62dffbb4c4bed1f071a0b870d2130c55dd8141430/expr.png\" style=\"display:inline;vertical-align:middle;\" /></a></td></tr>\n",
       "<tr><td>10</td><td>ExprTuple</td><td>13, 26</td><td><a class=\"ProveItLink\" href=\"../27784f10553cb4ac669b33e3403e916bd53aeab00/expr.ipynb\"><img src=\"../27784f10553cb4ac669b33e3403e916bd53aeab00/expr.png\" style=\"display:inline;vertical-align:middle;\" /></a></td></tr>\n",
       "<tr><td>11</td><td>Literal</td><td></td><td><a class=\"ProveItLink\" href=\"../../../../logic/boolean/conjunction/__pv_it/f41cc6b553210927c09f19a8a39cdf860a5585930/expr.ipynb\"><img src=\"../../../../logic/boolean/conjunction/__pv_it/f41cc6b553210927c09f19a8a39cdf860a5585930/expr.png\" style=\"display:inline;vertical-align:middle;\" /></a></td></tr>\n",
       "<tr><td>12</td><td>ExprTuple</td><td>14</td><td><a class=\"ProveItLink\" href=\"../88a990588baff7cb2f5bd14cfd52e745104fbc6f0/expr.ipynb\"><img src=\"../88a990588baff7cb2f5bd14cfd52e745104fbc6f0/expr.png\" style=\"display:inline;vertical-align:middle;\" /></a></td></tr>\n",
       "<tr><td>13</td><td>Operation</td><td>operator:&nbsp;15<br>operands:&nbsp;16<br></td><td><a class=\"ProveItLink\" href=\"../c551c493fbab5ceecad014d1955f60f1448bb0c80/expr.ipynb\"><img src=\"../c551c493fbab5ceecad014d1955f60f1448bb0c80/expr.png\" style=\"display:inline;vertical-align:middle;\" /></a></td></tr>\n",
       "<tr><td>14</td><td>ExprRange</td><td>lambda_map:&nbsp;17<br>start_index:&nbsp;21<br>end_index:&nbsp;22<br></td><td><a class=\"ProveItLink\" href=\"../8ca2551486062b0d45e1cb9aa10abfd4b1b7714f0/expr.ipynb\"><img src=\"../8ca2551486062b0d45e1cb9aa10abfd4b1b7714f0/expr.png\" style=\"display:inline;vertical-align:middle;\" /></a></td></tr>\n",
       "<tr><td>15</td><td>Literal</td><td></td><td><a class=\"ProveItLink\" href=\"../f7a1ed7c35c8c884cf4c236d27cb79bf85638cad0/expr.ipynb\"><img src=\"../f7a1ed7c35c8c884cf4c236d27cb79bf85638cad0/expr.png\" style=\"display:inline;vertical-align:middle;\" /></a></td></tr>\n",
       "<tr><td>16</td><td>ExprTuple</td><td>18</td><td><a class=\"ProveItLink\" href=\"../a4bc5e401a50ac7a5583a5f486b50b58186954f20/expr.ipynb\"><img src=\"../a4bc5e401a50ac7a5583a5f486b50b58186954f20/expr.png\" style=\"display:inline;vertical-align:middle;\" /></a></td></tr>\n",
       "<tr><td>17</td><td>Lambda</td><td>parameter:&nbsp;28<br>body:&nbsp;19<br></td><td><a class=\"ProveItLink\" href=\"../0e863016735dbd1553342178597132ace79ef3f00/expr.ipynb\"><img src=\"../0e863016735dbd1553342178597132ace79ef3f00/expr.png\" style=\"display:inline;vertical-align:middle;\" /></a></td></tr>\n",
       "<tr><td>18</td><td>ExprRange</td><td>lambda_map:&nbsp;20<br>start_index:&nbsp;21<br>end_index:&nbsp;22<br></td><td><a class=\"ProveItLink\" href=\"../../../../core_expr_types/__pv_it/77d5af4cc8bfa5b718575a7e96e5588227eab7db0/expr.ipynb\"><img src=\"../../../../core_expr_types/__pv_it/77d5af4cc8bfa5b718575a7e96e5588227eab7db0/expr.png\" style=\"display:inline;vertical-align:middle;\" /></a></td></tr>\n",
       "<tr><td>19</td><td>Operation</td><td>operator:&nbsp;23<br>operands:&nbsp;24<br></td><td><a class=\"ProveItLink\" href=\"../f3b1ab2ff0050cffa11a2b83bce368516ee153200/expr.ipynb\"><img src=\"../f3b1ab2ff0050cffa11a2b83bce368516ee153200/expr.png\" style=\"display:inline;vertical-align:middle;\" /></a></td></tr>\n",
       "<tr><td>20</td><td>Lambda</td><td>parameter:&nbsp;28<br>body:&nbsp;25<br></td><td><a class=\"ProveItLink\" href=\"../../../../core_expr_types/__pv_it/c512bca05a0e191e5f76f2677a0e9e227e81e9f10/expr.ipynb\"><img src=\"../../../../core_expr_types/__pv_it/c512bca05a0e191e5f76f2677a0e9e227e81e9f10/expr.png\" style=\"display:inline;vertical-align:middle;\" /></a></td></tr>\n",
       "<tr><td>21</td><td>Literal</td><td></td><td><a class=\"ProveItLink\" href=\"../../../numeral/__pv_it/f086f8c372bd40a2458306ddfdbb29f3dc6f63030/expr.ipynb\"><img src=\"../../../numeral/__pv_it/f086f8c372bd40a2458306ddfdbb29f3dc6f63030/expr.png\" style=\"display:inline;vertical-align:middle;\" /></a></td></tr>\n",
       "<tr><td>22</td><td>Variable</td><td></td><td><a class=\"ProveItLink\" href=\"../../../../__pv_it/0c1c4cb515e0f4344b1ac06650f349123e526deb0/expr.ipynb\"><img src=\"../../../../__pv_it/0c1c4cb515e0f4344b1ac06650f349123e526deb0/expr.png\" style=\"display:inline;vertical-align:middle;\" /></a></td></tr>\n",
       "<tr><td>23</td><td>Literal</td><td></td><td><a class=\"ProveItLink\" href=\"../../../../logic/set_theory/membership/__pv_it/7776fc89cb67d0b5b1ec2c0c8e08da5587921ccf0/expr.ipynb\"><img src=\"../../../../logic/set_theory/membership/__pv_it/7776fc89cb67d0b5b1ec2c0c8e08da5587921ccf0/expr.png\" style=\"display:inline;vertical-align:middle;\" /></a></td></tr>\n",
       "<tr><td>24</td><td>ExprTuple</td><td>25, 26</td><td><a class=\"ProveItLink\" href=\"../3a0714364e56982320cc686135d598c793fbcb1b0/expr.ipynb\"><img src=\"../3a0714364e56982320cc686135d598c793fbcb1b0/expr.png\" style=\"display:inline;vertical-align:middle;\" /></a></td></tr>\n",
       "<tr><td>25</td><td>IndexedVar</td><td>variable:&nbsp;27<br>index:&nbsp;28<br></td><td><a class=\"ProveItLink\" href=\"../../../../core_expr_types/__pv_it/976fe6b95e8535cc9e0861bdc030337becead6960/expr.ipynb\"><img src=\"../../../../core_expr_types/__pv_it/976fe6b95e8535cc9e0861bdc030337becead6960/expr.png\" style=\"display:inline;vertical-align:middle;\" /></a></td></tr>\n",
       "<tr><td>26</td><td>Literal</td><td></td><td><a class=\"ProveItLink\" href=\"../../../sets/integer/__pv_it/b49c37b99b7e8d73a8d7971bcf454d693b90a2c60/expr.ipynb\"><img src=\"../../../sets/integer/__pv_it/b49c37b99b7e8d73a8d7971bcf454d693b90a2c60/expr.png\" style=\"display:inline;vertical-align:middle;\" /></a></td></tr>\n",
       "<tr><td>27</td><td>Variable</td><td></td><td><a class=\"ProveItLink\" href=\"../../../../__pv_it/a8d4b3a34d2189508f9082853fbac36935714f280/expr.ipynb\"><img src=\"../../../../__pv_it/a8d4b3a34d2189508f9082853fbac36935714f280/expr.png\" style=\"display:inline;vertical-align:middle;\" /></a></td></tr>\n",
       "<tr><td>28</td><td>Variable</td><td></td><td><a class=\"ProveItLink\" href=\"../../../../core_expr_types/__pv_it/1e653f789234b245ee7fea7caad998c139d617410/expr.ipynb\"><img src=\"../../../../core_expr_types/__pv_it/1e653f789234b245ee7fea7caad998c139d617410/expr.png\" style=\"display:inline;vertical-align:middle;\" /></a></td></tr>\n",
       "</table>\n"
      ],
      "text/plain": [
       "0. n -> {forall_{a_{1}, ..a_{_a}.., a_{n} in Naturals} ((a_{1} * ..a_{_a}.. * a_{n}) in Naturals) if n in Naturals.\n",
       "   core type: Lambda\n",
       "   parameter: 22\n",
       "   body: 1\n",
       "1. {forall_{a_{1}, ..a_{_a}.., a_{n} in Naturals} ((a_{1} * ..a_{_a}.. * a_{n}) in Naturals) if n in Naturals.\n",
       "   core type: Conditional\n",
       "   value: 2\n",
       "   condition: 3\n",
       "2. forall_{a_{1}, ..a_{_a}.., a_{n} in Naturals} ((a_{1} * ..a_{_a}.. * a_{n}) in Naturals)\n",
       "   core type: Operation\n",
       "   operator: 4\n",
       "   operand: 5\n",
       "3. n in Naturals\n",
       "   core type: Operation\n",
       "   operator: 23\n",
       "   operands: 6\n",
       "4. forall\n",
       "   core type: Literal\n",
       "   sub-expressions: \n",
       "5. (a_{1}, ..a_{_a}.., a_{n}) -> {(a_{1} * ..a_{_a}.. * a_{n}) in Naturals if (a_{1} in Naturals) and ..(a_{_a} in Naturals).. and (a_{n} in Naturals).\n",
       "   core type: Lambda\n",
       "   parameter: 18\n",
       "   body: 7\n",
       "6. (n, Naturals)\n",
       "   core type: ExprTuple\n",
       "   sub-expressions: 22, 26\n",
       "7. {(a_{1} * ..a_{_a}.. * a_{n}) in Naturals if (a_{1} in Naturals) and ..(a_{_a} in Naturals).. and (a_{n} in Naturals).\n",
       "   core type: Conditional\n",
       "   value: 8\n",
       "   condition: 9\n",
       "8. (a_{1} * ..a_{_a}.. * a_{n}) in Naturals\n",
       "   core type: Operation\n",
       "   operator: 23\n",
       "   operands: 10\n",
       "9. (a_{1} in Naturals) and ..(a_{_a} in Naturals).. and (a_{n} in Naturals)\n",
       "   core type: Operation\n",
       "   operator: 11\n",
       "   operands: 12\n",
       "10. (a_{1} * ..a_{_a}.. * a_{n}, Naturals)\n",
       "    core type: ExprTuple\n",
       "    sub-expressions: 13, 26\n",
       "11. and\n",
       "    core type: Literal\n",
       "    sub-expressions: \n",
       "12. (a_{1} in Naturals, ..a_{_a} in Naturals.., a_{n} in Naturals)\n",
       "    core type: ExprTuple\n",
       "    sub-expressions: 14\n",
       "13. a_{1} * ..a_{_a}.. * a_{n}\n",
       "    core type: Operation\n",
       "    operator: 15\n",
       "    operands: 16\n",
       "14. (a_{1} in Naturals), ..(a_{_a} in Naturals).., (a_{n} in Naturals)\n",
       "    core type: ExprRange\n",
       "    lambda_map: 17\n",
       "    start_index: 21\n",
       "    end_index: 22\n",
       "15. *\n",
       "    core type: Literal\n",
       "    sub-expressions: \n",
       "16. (a_{1}, ..a_{_a}.., a_{n})\n",
       "    core type: ExprTuple\n",
       "    sub-expressions: 18\n",
       "17. _a -> (a_{_a} in Naturals)\n",
       "    core type: Lambda\n",
       "    parameter: 28\n",
       "    body: 19\n",
       "18. a_{1}, ..a_{_a}.., a_{n}\n",
       "    core type: ExprRange\n",
       "    lambda_map: 20\n",
       "    start_index: 21\n",
       "    end_index: 22\n",
       "19. a_{_a} in Naturals\n",
       "    core type: Operation\n",
       "    operator: 23\n",
       "    operands: 24\n",
       "20. _a -> a_{_a}\n",
       "    core type: Lambda\n",
       "    parameter: 28\n",
       "    body: 25\n",
       "21. 1\n",
       "    core type: Literal\n",
       "    sub-expressions: \n",
       "22. n\n",
       "    core type: Variable\n",
       "    sub-expressions: \n",
       "23. in\n",
       "    core type: Literal\n",
       "    sub-expressions: \n",
       "24. (a_{_a}, Naturals)\n",
       "    core type: ExprTuple\n",
       "    sub-expressions: 25, 26\n",
       "25. a_{_a}\n",
       "    core type: IndexedVar\n",
       "variable: 27\n",
       "index: 28\n",
       "26. Naturals\n",
       "    core type: Literal\n",
       "    sub-expressions: \n",
       "27. a\n",
       "    core type: Variable\n",
       "    sub-expressions: \n",
       "28. _a\n",
       "    core type: Variable\n",
       "    sub-expressions: "
      ]
     },
     "execution_count": 5,
     "metadata": {},
     "output_type": "execute_result"
    }
   ],
   "source": [
    "# display the expression information\n",
    "expr.exprInfo()"
   ]
  },
  {
   "cell_type": "code",
   "execution_count": null,
   "metadata": {},
   "outputs": [],
   "source": []
  }
 ],
 "metadata": {
  "kernelspec": {
   "display_name": "Python 3",
   "language": "python",
   "name": "python3"
  },
  "language_info": {
   "codemirror_mode": {
    "name": "ipython",
    "version": 3
   },
   "file_extension": ".py",
   "mimetype": "text/x-python",
   "name": "python",
   "nbconvert_exporter": "python",
   "pygments_lexer": "ipython3",
   "version": "3.7.3"
  }
 },
 "nbformat": 4,
 "nbformat_minor": 1
}
