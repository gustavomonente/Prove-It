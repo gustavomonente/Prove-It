{
 "cells": [
  {
   "cell_type": "markdown",
   "metadata": {},
   "source": [
    "Theorems for context <a href=\"_context_.ipynb\" class=\"ProveItLink\">proveit.number.multiplication</a>\n",
    "========"
   ]
  },
  {
   "cell_type": "code",
   "execution_count": 1,
   "metadata": {},
   "outputs": [],
   "source": [
    "import proveit\n",
    "## 72 spaces ===========================================================\n",
    "\n",
    "# Automation is not needed when building theorem expressions:\n",
    "proveit.defaults.automation = False # This will speed things up.\n",
    "context = proveit.Context('.') # adds context root to sys.path if necessary\n",
    "from proveit import ExprRange, IndexedVar\n",
    "\n",
    "from proveit._common_ import a, b, c, d, i, j, k, n, x, y, P, S\n",
    "from proveit.core_expr_types._common_ import (\n",
    "    a_1_to_i, a_1_to_n, b_1_to_j, c_1_to_j, c_1_to_k, d_1_to_k)\n",
    "\n",
    "from proveit.logic import Forall, Set, InSet, Equals, NotEquals, Implies, Booleans\n",
    "from proveit.number import (Naturals, NaturalsPos, Integers, Reals, \n",
    "                            RealsNonNeg, RealsPos, Complexes)\n",
    "from proveit.number import Mult, Neg, Add, subtract, Sum, num, zero, one, Exp\n",
    "from proveit.number._common_ import ComplexesSansZero\n",
    "from proveit._core_.expression.operation import Function\n",
    "# the context is in the current directory:\n",
    "context = proveit.Context('.') # adds context root to sys.path if necessary"
   ]
  },
  {
   "cell_type": "code",
   "execution_count": 2,
   "metadata": {},
   "outputs": [
    {
     "name": "stdout",
     "output_type": "stream",
     "text": [
      "Defining theorems for context 'proveit.number.multiplication'\n",
      "Subsequent end-of-cell assignments will define theorems\n",
      "'%end theorems' will finalize the definitions\n"
     ]
    }
   ],
   "source": [
    "%begin theorems"
   ]
  },
  {
   "cell_type": "code",
   "execution_count": 3,
   "metadata": {},
   "outputs": [
    {
     "data": {
      "text/html": [
       "<strong id=\"multDefRev\"><a class=\"ProveItLink\" href=\"_proofs_/multDefRev.ipynb\">multDefRev</a>:</strong> <a class=\"ProveItLink\" href=\"__pv_it/e3619e1d3af081153acb333d00a032ddfb330a9d0/expr.ipynb\"><img src=\"data:image/png;base64,iVBORw0KGgoAAAANSUhEUgAAAcsAAAAZBAMAAACsrRjkAAAAMFBMVEX///8QEBCIiIhmZma6urrM\n",
       "zMxUVFQiIiJERETc3Nzu7u6qqqp2dnaYmJgyMjIAAAAcRTyBAAAAAXRSTlMAQObYZgAABRBJREFU\n",
       "WMPtWG9oHFUQn8vd5u72di9+UDAtyrXRWLDi0SIKJnghaL4oXiLaCIEch0UqJRxVE61SQz/IxVpc\n",
       "W2lDtXQTIZX4547KUSO1Hon9Umk5MKCtVg60iqJnwBY0SnHmvd29/Xdx16tIwIHZP2/f/HZ+++bN\n",
       "m30A/qR17FlYbdI3VvZrEoZVKNHM/zT/JZqH6b2VJgDmGoA6JKZwJZpVarjgh6ZPC5uI43h4q5nv\n",
       "1Kq4gzplm6ZI81O6/9EPTZ8WNomTkz80Q1OsuoM65T1NkeYkncb90PRpYZPPUOWkI74SDbq7PZh3\n",
       "BXURKcEVacZVvCz6oenTwia0HoWVpmhOuYK6jfs1XJGmfHp29qCvFOTTwpb0cng4CE3RjKfcQN3k\n",
       "W66UaX/L55/3l2n9WVilheK1g1zr2rTGD839C+tUPRaTLqD3b9vXUQeZ7nxtI94tAFOiuRVgwh9N\n",
       "7xbCGX4eMGI8QkvJXtQeJb4EMOiVZqgdftHbZJaDztZIvtFBy/mE+LsRrWV5Rxh7fQ1MiWavNXUJ\n",
       "T34C66zLaezlx7Nmmr1uyc5VXtUHYLthT4SfQ0dugOA4PHSnV5pTFbjLaLPHKIIKxV0QvUw39EpJ\n",
       "lZZDmACOA1OiGYYWY7F+e6EbPpDUoGp8lhObK+KgKvxkpmm2aCgEBSf1O+MiQPPqWoDgMoSRQR8L\n",
       "wlrt+xtrNWepYnpwjwo7jJFYsvVDUFG8BDK1i1foABG2FAxzJZpSxahs5D2HVPgokZQMgC/mZkF+\n",
       "A+CEmabJoqEwqBVoBsahkNZoehnN60G8vBJNiC1BK4uxUdbUlrDRjFYfQa+6BzooGlFKpX2M5vwd\n",
       "nekQTfZ7S9jJTJNZwJudF50ZfNNIml/1GuwIp05TD9pCGT4G7zTFP4kH9xJCufrc/E4HDVahrWJE\n",
       "IQwzP/q4spp24jGk2VMJKLyMK0nvDlH2UkfCqTg1nD9nr2nJQnxaWAZ4wurU0fSw9qaqTpPh1Gnq\n",
       "KahQhBGsNz3T/APHao57qaUgkxBoAL+bqv9wxdTb8cWWFATv48c5dAu0qSJL1CUoUx4W4GccMWr4\n",
       "cM5OkyyCSSEHQ2us79sMW7RhTeqZh+HAlGJeDBA/kpBHJedoFqr67LpifbAbPs+UmZf4avvvI4Ee\n",
       "ScFZWQsleLD4Cqvmu7gymiyMs9ADwjP5/G6keZhPPUzPW/L5fOL1h+00ySJQbEHjndb3rYVObfow\n",
       "qMGkhgOCvtCygENyYvbmAzc5aYYz+uwatT6YWf9oNsW8xPIgbaNJoIh04Eu9YWb9dDeFzUWujKZM\n",
       "cXYddAmQ4aMZGuATXYBWughOU+oy0ySLghI5r9po4sK1d1a++wJ+7YyxjhBOfTRtxZ7nFMSFeQlH\n",
       "PRd7Oa7G/2Z0CZ4qwSm6XAT4CibVI1JVAinN6pV0vVo2cmxAGX6AjeakGn2JHfDULlyqxDYAIp/S\n",
       "5ybDqc9NW+l+XHdIbfQ7Yn7AvfxHpbs27BnYWIEIZqzQrhQOYn9xZnH+NMAeevhO7cW0g2Yoe6yb\n",
       "0ewvCu3Qrwjtwlq479aOCmwVcM2KFDWaHKdOM0IjqRdR+1/I+qkUuZcutUnkb3/ELLIBJxQXrTpr\n",
       "wbm50u7BznpXDDB+yrUs6lDOdfMq/FZHPP9WT2jacJMkpnjaJBn4tWjqyjOymImdcbA7eRU3Sc55\n",
       "3SSRFa6Nacre94LqXZ2+G5ln+2rb8vK1Txu9jZ+Hiv8ly76xzF+Ad4BrFsIw0wAAAABJRU5ErkJg\n",
       "gg==\n",
       "\" style=\"display:inline;vertical-align:middle;\" /></a><br>"
      ],
      "text/plain": [
       "multDefRev: forall_{n in Naturals, x in Complexes} [forall_{a_{1}, ..a_{_a}.., a_{n} in {x}} ((a_{1} + ..a_{_a}.. + a_{n}) = (n * x))]"
      ]
     },
     "execution_count": 3,
     "metadata": {},
     "output_type": "execute_result"
    }
   ],
   "source": [
    "multDefRev = \\\n",
    "    Forall((n, x), Forall(a_1_to_n, \n",
    "                          Equals(Add(a_1_to_n), Mult(n, x)),\n",
    "                          domain=Set(x)),\n",
    "           domains=(Naturals, Complexes))"
   ]
  },
  {
   "cell_type": "code",
   "execution_count": 4,
   "metadata": {},
   "outputs": [
    {
     "data": {
      "text/html": [
       "<strong id=\"repeated_addition_to_mult\"><a class=\"ProveItLink\" href=\"_proofs_/repeated_addition_to_mult.ipynb\">repeated_addition_to_mult</a>:</strong> <a class=\"ProveItLink\" href=\"__pv_it/4045da3f0e8f8794889e01085ea2349bb23498570/expr.ipynb\"><img src=\"data:image/png;base64,iVBORw0KGgoAAAANSUhEUgAAAYMAAAAVBAMAAABWAp/LAAAAMFBMVEX///8QEBCIiIhmZma6urrM\n",
       "zMxUVFQiIiJERETc3Nzu7u6qqqp2dnaYmJgyMjIAAAAcRTyBAAAAAXRSTlMAQObYZgAABItJREFU\n",
       "SMfVV21oW1UYftLe2yT33qQy3Q9F5NrC1BnwsqE/pJnpRKYwXBz4ASoJnSIFM6PzhxMpYz8kpYJh\n",
       "Dp3V0WOFVupHwyTMlkpDpvtRsQvr/Jg2GlE7FRfC2mldGfOce07SND1db1uG+JIHzrk5yXOe9+Oc\n",
       "9wIrtMMCV8z0pJx0sQ0JFNgk75hA28dxBa1dSiqxhiTHF2zyh+P/9yc5Vm/Kcgs+kpLK3FngOETH\n",
       "XudunRCoCry5MgnvLn50ZMHMMGWkMsty+An9UcrxBvYKrF7CxHIStKtkpDJ7h8M3NjDwhmN+b5xj\n",
       "9RL06eUk4BcJqTyrQxyzicRLjjdQZ3FoTe1bszIJ29sPNNsP7l838jtem2xXfvqyJUa3ETyexJGA\n",
       "iYm/N6fUW08WZBJ6NxykK3BMQqocf7Np03ygOL1hcTwJdDqW4MlxfIBvzA6ZhEzC1P6xR1cPX1Re\n",
       "RCtxXYN+C9uIcp2+F3cAe4D3gLhEgpbxPeem2n6wK6JomyVIDc9+DFaqWtD7Chx321VdMXXPZ7gx\n",
       "ujD2rzzVJobuFMcYTpD7JBLUVAe85+3hGcCVgcv0R6HP4Hpgnb4eOwiT0EpgSiQYxLig0G0erfEb\n",
       "I3yUausJM53siaDX4xxu1OXKi98/FsQnBqknlYiNbM5pjxD1TzF3hTgIEhC+OnNDsViRrGkz8JXs\n",
       "4RQQCea/zvktaNPqdD4fgxq4K8kkuGdvmd/geLH4bLE4Ze/OYx+NkRoJNuFgCD+yySDzt6BXSxxG\n",
       "zl1e6+vqJvjUtIzKr78dGoDvbWCkRgJwTl7OegkNPKg/A6PspKMSMKvPsS3+lozYErTxS5a0nBvN\n",
       "pSRgFNhth4S761y1BG/hIbr54M5mllPU0ukDtoTs7RvCCmO6J00X1SQS1PNyCfUFNObsINLARUwu\n",
       "gUaBUXriiHRTCWY3fDNSCRGWKthWVQtRQYotwEVtPmFteiXOgc4nqITWnCvJm4208eFj7Bggu90h\n",
       "P3vw3enF5TxcV8JGmQSa/qMkIyTQ/NVELdDi622k3x0MT8HaCsQkEnRyG6UV5VxzhtBi0i9UskPQ\n",
       "l8sZH1Md3TehkWh2dNPIsFNNxVlxkw4PVd2c/BhT5jwlb26hBJqk9NMTwrjP9iVNGHUO9cR/Lfoz\n",
       "iKRwp2sfTjxOtsCi5dwp1ldL2JF61W7oWmokMFLvDIzCV+UeRdDXZzh4ArahFeoLicR+KuEwLw56\n",
       "Nj6cSCTMtx6sanB46LS2jc35mkSiSUo/NAle/55N773UBfRtGoM/1kTDrO0KEO+uQO9ZNDyd3H5y\n",
       "MiTWV0voa+oNMr/8WttVcVJvrNxElOn9YQ74WOquR4uKKI+CspPXiooGO717xVG2ugbDby1729Q0\n",
       "GHGnDUa/AL/DS3g+jc/Z8BQwiUOkxygYMJhEb0sY2aXbPI2sWcLA2to8EasoAjl4aKSUjhB1/gOp\n",
       "vlPZMaDLvguLL4crpZXkcG7u6Aq78cXNtufyzfYCu5nWAjeRdnW0Ftb2yqM889cKXy86nb7yXN6d\n",
       "evI/e/H0OX7xPC2wxP/g/2P/AgI3dvPKiH+XAAAAAElFTkSuQmCC\n",
       "\" style=\"display:inline;vertical-align:middle;\" /></a><br>"
      ],
      "text/plain": [
       "repeated_addition_to_mult: forall_{n in Naturals, x in Complexes} ((x + ..n repeats.. + x) = (n * x))"
      ]
     },
     "execution_count": 4,
     "metadata": {},
     "output_type": "execute_result"
    }
   ],
   "source": [
    "repeated_addition_to_mult = Forall((n, x), Equals(Add(ExprRange(k, x, one, n)), \n",
    "                                                  Mult(n, x)),\n",
    "                                   domains=(Naturals, Complexes))"
   ]
  },
  {
   "cell_type": "code",
   "execution_count": 5,
   "metadata": {},
   "outputs": [
    {
     "data": {
      "text/html": [
       "<strong id=\"multNatClosureBin\"><a class=\"ProveItLink\" href=\"_proofs_/multNatClosureBin.ipynb\">multNatClosureBin</a>:</strong> <a class=\"ProveItLink\" href=\"__pv_it/f791b831998f6b76451c84c0f06b5edda5c311780/expr.ipynb\"><img src=\"data:image/png;base64,iVBORw0KGgoAAAANSUhEUgAAAMEAAAAVBAMAAAANw5eWAAAAMFBMVEX///8QEBCIiIhmZma6urrM\n",
       "zMxUVFQiIiJERETc3Nzu7u6qqqp2dnaYmJgyMjIAAAAcRTyBAAAAAXRSTlMAQObYZgAAAwdJREFU\n",
       "SMetVUtoE1EUPclk8plP4kJcWISx9YerUMGFthgRcaM2ukgVCx1Ki9SFBEQrKhKLYNpSCS5sEYSR\n",
       "gkpFE5SABcXYVsSqEEShFZVZqGAFaXclC/H9Mk1CUiN44M68OfNmztxz73sD/BMCeR6VmKgxn/I2\n",
       "HXyuV+GuiBIol+KAN1VOPli6auH5YoTyrykxX6/CDxGlCIaJjF1BDssmlAXGj9LcE3UK6GEeZQhl\n",
       "yGGygjwebQRWMT5oAVqmTgVfikcZ2sgbcEtczPb1sXS6B71RxBmvz4yPj9Rr0oiIMrxkVkXY+MhW\n",
       "QfbGlHmqQPmlZPJCvQpNIgItzWsd8nvjTmID805xCtqrGjGqQPkeYKDKyw7aVchhEbtTwQWnl35b\n",
       "6RR0Nn25pXoxrRtEgfJ7yhuhvSXiXoPiRwHyqWmsN8XN8zyUdZBocyiUUwsIGVDjdOzHsoLX6iEc\n",
       "5X1wF5eQ8mRbXk3MYAc1llb/3lQrHmuWZIkJq3lIBfgMMkzTT5NspHOQWU6HfhHYXEExg6SXKK/l\n",
       "fUXh2YlxqO8k5GgPkoT1oRsWnhphDeUKrgTSUdpaJl8ObRmhMFqSAzpkoRCwY4QZ2/QNHmqMeuyo\n",
       "QRU6G08QAwmy2WuOgnCJfPOz5eWQxy4LHuaSq1RBzxAnGT/QTfw5LRcQZLZGZz5Qhc1WE99Rstr9\n",
       "jopKpzM4qRaLGoqQsohKS0ZxJukfvEoI/hGRkcJyHGNcQWNF7scXhRU7i9xU8bkpHn5DP+Pk5c37\n",
       "yTwp5yTJ8JNXiPOkE+DKuE20J5NJQ40G8nFm93b5bDLZTxRuOoXax0Pp2nh9g9OtzW9pNaLs4vZl\n",
       "3hTtiwm+WTFeJ2Q65f9oeXkO2EtzLaABJs/Bc3jFXYPhjjjvv9JnV+PhSnUegMb0ItBzgUGc0xN4\n",
       "QW+9Bz6tuPMxTNbYBRze0/WwFRiiJnwFTLkBsTfEb7ImPBcj8DoPDKD6DqDY1QUqeTepAx+p/LSF\n",
       "1OFvfyAGf6q6Qi2+9l+x1l90rsb8uZqbaB7/DX8AHgDR+xIeeMUAAAAASUVORK5CYII=\n",
       "\" style=\"display:inline;vertical-align:middle;\" /></a><br>"
      ],
      "text/plain": [
       "multNatClosureBin: forall_{a in Naturals, b in Naturals} ((a * b) in Naturals)"
      ]
     },
     "execution_count": 5,
     "metadata": {},
     "output_type": "execute_result"
    }
   ],
   "source": [
    "multNatClosureBin = Forall((a, b), InSet(Mult(a, b), Naturals), domain=Naturals)"
   ]
  },
  {
   "cell_type": "code",
   "execution_count": 6,
   "metadata": {},
   "outputs": [
    {
     "data": {
      "text/html": [
       "<strong id=\"multNatClosure\"><a class=\"ProveItLink\" href=\"_proofs_/multNatClosure.ipynb\">multNatClosure</a>:</strong> <a class=\"ProveItLink\" href=\"__pv_it/a1fd6519aa1dfb82ae040438afbed9633f75c49e0/expr.ipynb\"><img src=\"data:image/png;base64,iVBORw0KGgoAAAANSUhEUgAAAVQAAAAVBAMAAADrzwv7AAAAMFBMVEX///8QEBCIiIhmZma6urrM\n",
       "zMxUVFQiIiJERETc3Nzu7u6qqqp2dnaYmJgyMjIAAAAcRTyBAAAAAXRSTlMAQObYZgAABDtJREFU\n",
       "SMe9l11oHFUUx//7MfsxO5v4UKVRxKmxVaq1oX1QNNENovFBYVPBWBSyLPZBH0qwaSIo7VKETiyF\n",
       "wWK7FJQphVRX7C6RpQZaOrr1JUUYqtJaY1nBPpiHNoiFWkU8996Z2ZnsTrcjxQPnzp27s3t+e+75\n",
       "uAPcRKJX8vhPkraEhpT5gPWMDlyaRJPNf+78iJLrYZdsaKOf2BpSErr/Xr6qLUG5bxXeoJszOMvW\n",
       "loJQlRpdeoywNn+zNaTIzRULKetloAoc56hltl+lIFT+STmsyeyA0NDy9Uo374yqiBCIylCZy7jv\n",
       "OqJyf58NazGpCw0tR+zrhelp7uDE88Y2JMnddzDU7EKlcgiBqIuVyqcTYS0esjW09OT45ZX1jlc/\n",
       "LBw3CBW/MlRc17R3g1F7NW2vGdZiv63pwU13d3/6QGONkwwKjxp5qZVnc1KBoTY46jZgJhg1kUcq\n",
       "9Fbut3VY71kmH9384XgfrrpB3vQXgoSu5M4x1Esc9Rl/4kk7zmBNwUWND/D06y5jg7noXfb8HaHy\n",
       "vYiV8NJjIrs7fIc784iFx90CymMt5a1ebybGaHKCoyYRdevmZ40hfKkYMcNFxQQ2dC8yJzdbmdIC\n",
       "nrDvVwmN3UCSUneEr1Wb7V/7h41PG3jL9dMyG0evkDj+ncUvNBnnqIqVdP2/77CBU+qA0goAfIvu\n",
       "WXVhvoLMuRhMP2qkhGreQU0W2r83xYbVkK/5Ucter0rmqIuablKZzQ5t6WexQFKvf+BF/VgiG/Km\n",
       "7e0t9ui6y3a0sWTIvLpVNf0BUDVxGg5q4I78jcyybR9x7paIr339lBK/QaiYeZ1Qh62ILppsXfn8\n",
       "NQ9q6iANx/LjBhL+piXvlG7YJYaHWX7hB9OfVtUatlP77oL6FxLNeWHfTquY6qKSg5Sym1b4gv7K\n",
       "4QfRa8i8VNRhNjyoGZYVmzEG6Ss/amxAskPjqEBVFKdBNYSm1OyU4vMqj04WtSJMuezB+YLJ7dNv\n",
       "mu6uCCew3vQU6aBA7WV/oohhSG9r2h5C/SjpQcXvpPdgHUWbHzVSi9rhN6ZpmprJpy0nqkeEysW1\n",
       "Bx/wB8CUE7VT7tLs/VuLOW6f0ESYzb4nTEm7V0McAC4L1CxbvxODEgrCq/EtXtSLZPNP7K+sRK3q\n",
       "qYvGd6cWaZuEV/Gs2rGxjtxKreP2ccy+e2HvtK9gyBMClR8wlzFZxzds+j2w6EVl0if9YTHUspF+\n",
       "3xki+viLmCvRDijMF9kcsmbH48qJWzngcvttxxW3F6kt1HgBj1hIUWjEd+WEm7yozz3cz1FHa1If\n",
       "RnU21OLFuSGKe9aL9jHfUZt269EMWi3wwO5id1RhX24GfCwOgT55iGLV31i95yUKgNYRTMyS2EDP\n",
       "RClWb8fROrCFz7Sjrnxh2eWpptLGJ/mbQ+sdgiUATlq374Xlx6DzLxl7dDLkmbnD7H+TfwGrFSVM\n",
       "yR8QKQAAAABJRU5ErkJggg==\n",
       "\" style=\"display:inline;vertical-align:middle;\" /></a><br>"
      ],
      "text/plain": [
       "multNatClosure: forall_{n in Naturals} [forall_{a_{1}, ..a_{_a}.., a_{n} in Naturals} ((a_{1} * ..a_{_a}.. * a_{n}) in Naturals)]"
      ]
     },
     "execution_count": 6,
     "metadata": {},
     "output_type": "execute_result"
    }
   ],
   "source": [
    "multNatClosure = \\\n",
    "    Forall(n, Forall(a_1_to_n, InSet(Mult(a_1_to_n), Naturals), \n",
    "                     domain=Naturals), \n",
    "           domain=Naturals)"
   ]
  },
  {
   "cell_type": "code",
   "execution_count": 7,
   "metadata": {},
   "outputs": [
    {
     "data": {
      "text/html": [
       "<strong id=\"multNatPosClosureBin\"><a class=\"ProveItLink\" href=\"_proofs_/multNatPosClosureBin.ipynb\">multNatPosClosureBin</a>:</strong> <a class=\"ProveItLink\" href=\"__pv_it/990c86dd532992c7a7c3bc6330877e954f1216cc0/expr.ipynb\"><img src=\"data:image/png;base64,iVBORw0KGgoAAAANSUhEUgAAAOkAAAAbBAMAAABrQ7XCAAAAMFBMVEX///8QEBCIiIhmZma6urrM\n",
       "zMxUVFQiIiJERETc3Nzu7u6qqqp2dnaYmJgyMjIAAAAcRTyBAAAAAXRSTlMAQObYZgAAA7BJREFU\n",
       "SMfVlltoE0EUhn+T7LbdbFofxAuCpgoq4kMwoOI1IKIPXqJIqyg0FAWtCGLRekNDFd3qS1BEEcSV\n",
       "QpGKbVGLFhQL0ZeqEG9YvBGvDwWriIK2Kp6Z2ezNbcT0QVzYyezZzHxzzvzn7AD/27Xyr0ck6PYN\n",
       "Diol/npIku5AYlDUUr0gKu4OijqVNad/twdT+alFtNos6zwvAFrSR42SdBrPjaBmo9OmfNB6oI4d\n",
       "lqP6IsBt1ukpgKpGWJTdfr2mu8VlK85UAK2Qe3vH9L6n5X4ETrJlJwugDmmj5oHb2s/WE3ba5G2+\n",
       "MIaYEcZuoQm1rQDqGSamnS5jgId9qHjorqvj+ycv0tejyKLOAEJdzc0nChHTPRakLe6wc8Mb3l81\n",
       "Oefr8USLbqOW0/1V0/Z47Jo3qtPqzjWEgWPpcjOHSqvHU9zSXESmWOTURSlhoy6jv68HGn6f3u9N\n",
       "jVhdjeuEgjoKH0xja4/yDXghWBZVjd23UaviwHwo2QGpS7MDUt+x1CPHzmbYRgHc3xs6PgFXuHIt\n",
       "NaVQI1eynljImRiNhC9jm7dydsw33KSqBkaqvYnyhINay3RM4+fp2MoC+lOEXflOzrDu8l66sga1\n",
       "CS+tka00Ss0Umfl8LZoJJrswU41Oj87i+8TUfT49B1dV3a+no7XRNntmMupIKF/Y83ZhDPQb1JN2\n",
       "X6XO5Tb106iSbEXusbujGcH7fqYZw9cyiknoyCkd18MR1RnhgyLC5Fvwo2n8AT/lzkKez3YqnloB\n",
       "RxULdMM6ahonvEWAzRlcszpsUavG1dDG09XeftRF3SDUpPRDznbkjJ/ZNgs1+c1aIZN6VMt1rmFc\n",
       "ohxTtkl9KOW1O971yKJO1MeLSt2uXljrpJYb216PxwkzoTZjP7WzcyXISKc2I9FsmY4yWpQ/Im1B\n",
       "o6CqbC6DWo8XCie1ozPtpLIVB2jBTeNWV8dyxsYpTJlveb/pgEhjad9IZ3Hmkg/prKj6EqjUNC0c\n",
       "jJdkaC5J/GEYpkk7NK2eqKeZ6OK2OhzzqIhClEbFWnyoLuv1/pUp5lTxE10WvmKBVb37MJofO4ga\n",
       "WOHK6E6v6g+P6u9eVJ+58FTVEqjMk1AMIWObSg5jVyiJW6z/EHjmOsCwGl/s9QVvyV/AQ+YRJlB9\n",
       "cQ5whHoL34hDFZt3NCru0MwkhsDeGGTX6E0eX3V+NeSnFsWdzz7aV8dZRPxMon0dyCWPE0wolZ/6\n",
       "7A8fs468b4ORgo5bfzxCZPK/vlwQ1a/jH12/AFXh5/bTBQ5/AAAAAElFTkSuQmCC\n",
       "\" style=\"display:inline;vertical-align:middle;\" /></a><br>"
      ],
      "text/plain": [
       "multNatPosClosureBin: forall_{a in NaturalsPos, b in NaturalsPos} ((a * b) in NaturalsPos)"
      ]
     },
     "execution_count": 7,
     "metadata": {},
     "output_type": "execute_result"
    }
   ],
   "source": [
    "multNatPosClosureBin = Forall((a, b), InSet(Mult(a, b), NaturalsPos), domain=NaturalsPos)"
   ]
  },
  {
   "cell_type": "code",
   "execution_count": 8,
   "metadata": {},
   "outputs": [
    {
     "data": {
      "text/html": [
       "<strong id=\"multNatPosClosure\"><a class=\"ProveItLink\" href=\"_proofs_/multNatPosClosure.ipynb\">multNatPosClosure</a>:</strong> <a class=\"ProveItLink\" href=\"__pv_it/54f0221435248c5186b44d5513c3df9f2238c3420/expr.ipynb\"><img src=\"data:image/png;base64,iVBORw0KGgoAAAANSUhEUgAAAXQAAAAbBAMAAACemGlbAAAAMFBMVEX///8QEBCIiIhmZma6urrM\n",
       "zMxUVFQiIiJERETc3Nzu7u6qqqp2dnaYmJgyMjIAAAAcRTyBAAAAAXRSTlMAQObYZgAABH1JREFU\n",
       "WMPdmGtoFFcUgM8mO7O7s7OJPxSMoXXT1Ac+MCQ/FJ8bCtofQhMtPkBwCQakBQmm7tYHGkR0VYSl\n",
       "YlyE1vFPtFuaDbVL6w9xNfZPRRhFfLXCiiAYMIaiUNMinvuYmTv73okR2gv3zp07c+d+59xzzz13\n",
       "AP6nSY7untgHPn/XRGHMQczu6L7SL3omOJAUftfofZhX01r/5KLXaZOBrurvAb0Vs0+vutul0uiw\n",
       "h6FnyeVRUfQ6cgnozsh941hccLDE4vZ75UVsBNSZUw30ZoZ+g1xGiqKrQxOYd7UFi2fV91OyOQ1e\n",
       "fQNACuTR0Q9HnwOcZegJop2+ouj0UcKhvbhQ7kCLg47XcqdhV00QXKbBeIYoOtEoVW0RWycTcsMh\n",
       "+ln8tifuoOM5fr0fjdIJkD/VutnCo+i1fRQ98HsyebrEMv0zmfy+xyH6LcynHXmmEL1smmdo/VR4\n",
       "ULPQa6YwD/N3LLavBHp9LHYkU82wwssr+ZLyLW+dUb7jyeEmTVwkoIxY6/YnKWyhu8cZejfA0RLo\n",
       "cgd4q5pzwbZjmE9gbo/XjaEOS/dzN8ALox7I2h2NHFdDty106RVD/8S+oKXe69AUttDdLTAIDtGf\n",
       "Yt6L2vuAWOf6xcx7FOhClX1OhyVGg5+aqFf0ll/IG0mNSuN7ydA9UGO67R+GV8CvqlarCVtSDyys\n",
       "bNPnMgvovZjRGdeOgwfjjjW0LZXN94VvSLlKg53mt8ZI2TmKydD/ADy2OnB0VTf3zMDxMxpcDrao\n",
       "4m56EypYpabMw229baa/esLQXX2Q6jDQPQXCmggppoPyyo6eELUuZTqtrY6j+7Lo7gMr1jUT28GU\n",
       "Tn9jQ/+ughhKlFnQ+mFmMKkMXAEDveg29C/4xzgHuKm2XLbt9Q/LfqTXPIY5ug3HbtddcRYUpNUf\n",
       "t4jo3n70VErrjo780cxGUWYBfTtbpqkh2OGPl0P/B+TsJcbBl2lt0ETHcVRrEgwPAxdRxDNzoF5T\n",
       "6KhpyAyL6H6yvM53bNVAzokHaCNNoswCehNm/JY3GIioNq1T6yZWz8ycpoNwL5yhHAjNPOxe088P\n",
       "cVfLJ5n7dagnwnVBO0hfx2IHEf1bjy1y/AtzG2wE6WoOOmlkJKLMAvpnGgVWumb1f2w3mIhh9RGz\n",
       "aeCjzV0hyoGobDYHDrERpQPTsbQcHd9NUQbyfBosl+gRBAnc62zoDzE3wmy8y0GnjfTTosyCYblC\n",
       "YiCwphI/RTngPL9beySaLbTZBoV43TcGX6XhN1K9g5t/bryuvIYTyVx02hhY9igD+TJz7WTE8OuX\n",
       "SsJkypEXfuWklCagu8OwQAcvmpR7fwjkvKNGg/RSJ+i+Y5DQjII0+ucS35knM58NYpPGVn3yQFd5\n",
       "dMahZEu/dbfAKWkuznvBU9Lq+c0UXWqEzrjUQIpG1tgtoeHlyczTl86OGuUij11VH/CIwfjNO17r\n",
       "qblTQGaeBp0d8B6U2UUy1aJLi5aJx0ZWU8L+m8X7+52cM8qmREV/BPL+w+gFaiXSz5OBvpT+h4n8\n",
       "h/9vvQVzKjYXCUtkFQAAAABJRU5ErkJggg==\n",
       "\" style=\"display:inline;vertical-align:middle;\" /></a><br>"
      ],
      "text/plain": [
       "multNatPosClosure: forall_{n in Naturals} [forall_{a_{1}, ..a_{_a}.., a_{n} in NaturalsPos} ((a_{1} * ..a_{_a}.. * a_{n}) in NaturalsPos)]"
      ]
     },
     "execution_count": 8,
     "metadata": {},
     "output_type": "execute_result"
    }
   ],
   "source": [
    "multNatPosClosure = \\\n",
    "    Forall(n, Forall(a_1_to_n, \n",
    "                     InSet(Mult(a_1_to_n), NaturalsPos), \n",
    "                     domain=NaturalsPos), \n",
    "           domain=Naturals)"
   ]
  },
  {
   "cell_type": "code",
   "execution_count": 9,
   "metadata": {},
   "outputs": [
    {
     "data": {
      "text/html": [
       "<strong id=\"multIntClosureBin\"><a class=\"ProveItLink\" href=\"_proofs_/multIntClosureBin.ipynb\">multIntClosureBin</a>:</strong> <a class=\"ProveItLink\" href=\"__pv_it/4e4e0075653c2459ff734e5a858cb479ab78a5f50/expr.ipynb\"><img src=\"data:image/png;base64,iVBORw0KGgoAAAANSUhEUgAAAL4AAAAVBAMAAAAKgUmDAAAAMFBMVEX///8QEBCIiIhmZma6urrM\n",
       "zMxUVFQiIiJERETc3Nzu7u6qqqp2dnaYmJgyMjIAAAAcRTyBAAAAAXRSTlMAQObYZgAAAyZJREFU\n",
       "OMutVV1IFFEU/nbXcXdnZ1YfgiSpBu2PnhaFCFJSegj60yd7EjdJyaiwh+yX2PShUSvmycIQJn1I\n",
       "DNylkBCCFi0qtRgIIoNkgyzqQeot9iE698zurLuutUIX7tw7Z+79zjnf+e4dYC1tiLrfWmmfzL88\n",
       "YAAJMflYGLwcocdoju1aJ1BsZBuLzv5cWv/JQgcwK96/F4YfFDDfco0hcpLItrl7GpHwAePAHZFy\n",
       "pDD8t9TVUI6xJEaPqWybJw4l9gxQNARNGmKF4V+k7s2hAg0EgHv2XL1+/irjmxiQRF6lUGfGxm4X\n",
       "Bu8nprFi7QsmqU48pW7TMff5xPwz8EvXrxSG7xbUVApHNVUbHOuXij3EALM2noFXNdbMNNAG9OYB\n",
       "O5JYYfIJZd6kXm8Efzj6+W1GDai8uiOzdpS1hgVgX3b1i8ume0QwSrqOx27srrZnXlGmywS5ER6x\n",
       "W2aNJ1GiISCowzKZtNmSfUy74E6fGPlJteU1lGGRZlCAPZiupaLO7LQ/uwTJ66h6SXg1mkZFXJ4E\n",
       "onFIIh9p0xI1+wCEDvHYQoFa3rTT95NjCKB5iGVH/tX+QRMxad7KxndFEG0U+YRt+TfEbPxlMg+K\n",
       "XGYY359oIsPItkVyyt9CcfZccZKoY7EpyOaH4n2akb+FvSaKmJ9Sxzqr1PHrfpr3HidmzklJcsqV\n",
       "vytiw3az0r47MD+RU99oDGcC6WNQUkflSNW3ylFyeIDiKuX64hH59oSkTozwt2E73G4syJyPrMVT\n",
       "u7jkpDifpnYpjh4sX4gPbDpBjsTsg3yaKKoREVCtXDF3GEd1XdcQn8Eg87xLuqDr3VAU02/rmkmg\n",
       "jOXWrQNbHH1WvRZ8c87yiQO2sf5Wmb65jPwuCkJod9TwfTCLGWTCwisakyiHqB8ONkMx/nI/cLuf\n",
       "ujdf2veD47wzNXEZLYehiCA8HorT34dLagTPudwhrtKq9xu3qfwnXtHSF3brw1qgn2bv2ue+hqVy\n",
       "NM0RjcSn2n7qTVeaVhF7vsMuJ/Ljj+dcMIJ/+89jDzuI/3/8XzKO87Te1a6yybX9H+fzL1eN1fAt\n",
       "/Kf2B1uxyFV2VrugAAAAAElFTkSuQmCC\n",
       "\" style=\"display:inline;vertical-align:middle;\" /></a><br>"
      ],
      "text/plain": [
       "multIntClosureBin: forall_{a in Integers, b in Integers} ((a * b) in Integers)"
      ]
     },
     "execution_count": 9,
     "metadata": {},
     "output_type": "execute_result"
    }
   ],
   "source": [
    "multIntClosureBin = Forall((a, b), InSet(Mult(a, b), Integers), domain=Integers)"
   ]
  },
  {
   "cell_type": "code",
   "execution_count": 10,
   "metadata": {},
   "outputs": [
    {
     "data": {
      "text/html": [
       "<strong id=\"multIntClosure\"><a class=\"ProveItLink\" href=\"_proofs_/multIntClosure.ipynb\">multIntClosure</a>:</strong> <a class=\"ProveItLink\" href=\"__pv_it/aa09dc7e87a30cb47f63b7108f3d9cf1e727f9720/expr.ipynb\"><img src=\"data:image/png;base64,iVBORw0KGgoAAAANSUhEUgAAAVIAAAAVBAMAAADm0Xu8AAAAMFBMVEX///8QEBCIiIhmZma6urrM\n",
       "zMxUVFQiIiJERETc3Nzu7u6qqqp2dnaYmJgyMjIAAAAcRTyBAAAAAXRSTlMAQObYZgAABBhJREFU\n",
       "SMe9l11oHFUUx//7MTu7k9lNXsREqa5Wq6DVIX3wwQQShBb8gGkF64OSJVjRB8uKsSpIXNqHTlKU\n",
       "QSGGSHVIwY8V3aWyVKHFlaygiYWBVJGShhUUwYdQxQftg3jvPXcms5uZbEeKB87du2fO7PzmnnPP\n",
       "uQtsI8kNE/9JTkqNJ312tH19Cm0+vxTuoo8V+EfejflIrUIaV57t+p5+/veN639yhb2FFW76LYpU\n",
       "r7OPghPziQWbNK582h3TYybaWbK3MM/GXCWKVFyZj/vEValxRS92fk81oddbZG+JBRMrF0oqVnsl\n",
       "7hNfkRpXtAH6zB9/aVqQOphTDLK3kF+uVt9GJOlatfpROeYDc2XS+PKzGJWjm+k2m3XIzpb2L8t6\n",
       "NZq037KON2M+L2mQIjcyfEPv9wo4LVG6boLmi5eknZEeAmaiSTMmsnH3RtYlxbhduAw8vr03OZGs\n",
       "d5eAD6mErAvSB6C1AzcqL7RwS8knTRtbdmS4ZAaXjhk0Veuk2g6kKnj0PmEMqx/cRk5SzogxsL8P\n",
       "ZWxpZ6Qqkn69/HhpFJ/rTsrxSVHG7t474eweV7X1RXlbYow0dQUq27X7hMs/Ibdxm3QimRBrddMG\n",
       "EyqoxsOenZcAV/Wz4sSCg3NFQ9+MPs6j99748Ysq+vCk15U80kQFNVOS4kjIfdwmnQKkgZpZ4Ou7\n",
       "7JHm2o8xxtEDO3kiMGk03gySvquwVNCGD2/tq6d2/SJbCUXd8HaeF/1aE1/CI40Sclr9/lbDdx3w\n",
       "L65wggFhZ6SYeYqRjrsJmzprQ//kiQBpdo4NH5gTDjKdqaa9qFzx3lwE5B2za0fV6jjMenYPUuF0\n",
       "YQeG/B017JeF0hxLjwFvR+EzFt6FO9DvaGJtGmguBUj7+IbYg4NQvuokTRmKzItTYlzU/ZJhkGaL\n",
       "+SN6x5rW2jI7a/4mFk65xTL4a4/4MaFrziy05yrCzkn7eUJPYhzKy5Z1lJGeVAOk+IPpjdjFfqCT\n",
       "NFFPyhJx0LKsIprLWJDZUCbVJm+fu62DVC3J7FRLfmiEU6aY5jGndNKeeVAWsDcGrZsHDWHnpHlO\n",
       "cB1GFJRoTdMHgqQX2a1/4/VqN2nNzl50Vs+tsQIl8Bouvg3tpvuuosYlzFTThCaDlP6Guqn/NmUi\n",
       "FRlxGVMNfM2nF4C1ICmXIeVPl5POO7lZb0jYE4/gdIWtv84TNJUS6xhyQjlzFaTvQX3I3HJCCZ5c\n",
       "PNJ0CXe7yLIESU+P0SIFSffetVOQ7q8rQ9hv86Genjw9yloY70AnmP7w9He/eiHlXc3vbG+9Ntmb\n",
       "dC+S5xHZY+jU1yF3sjzt7KYB4dHfPHTRTMVu5pPkeXoNTtIz29hb2x81pgNVVLn3/sD/Bzl7H2fd\n",
       "a/bvJG9H2++ZivlbIbP/S/4FiR4gxietuXEAAAAASUVORK5CYII=\n",
       "\" style=\"display:inline;vertical-align:middle;\" /></a><br>"
      ],
      "text/plain": [
       "multIntClosure: forall_{n in Naturals} [forall_{a_{1}, ..a_{_a}.., a_{n} in Integers} ((a_{1} * ..a_{_a}.. * a_{n}) in Integers)]"
      ]
     },
     "execution_count": 10,
     "metadata": {},
     "output_type": "execute_result"
    }
   ],
   "source": [
    "multIntClosure = \\\n",
    "    Forall(n, Forall(a_1_to_n, InSet(Mult(a_1_to_n), Integers), \n",
    "                     domain=Integers), \n",
    "           domain=Naturals)"
   ]
  },
  {
   "cell_type": "code",
   "execution_count": 11,
   "metadata": {},
   "outputs": [
    {
     "data": {
      "text/html": [
       "<strong id=\"multRealClosureBin\"><a class=\"ProveItLink\" href=\"_proofs_/multRealClosureBin.ipynb\">multRealClosureBin</a>:</strong> <a class=\"ProveItLink\" href=\"__pv_it/722cdf1db47c21199ff1a85b2790ea32b817dcd60/expr.ipynb\"><img src=\"data:image/png;base64,iVBORw0KGgoAAAANSUhEUgAAAMEAAAAVBAMAAAANw5eWAAAAMFBMVEX///8QEBCIiIhmZma6urrM\n",
       "zMxUVFQiIiJERETc3Nzu7u6qqqp2dnaYmJgyMjIAAAAcRTyBAAAAAXRSTlMAQObYZgAAAvpJREFU\n",
       "SMetVVtIFFEY/ndnL7OzM7svPUgSDNpFgkBc8KU0Q6KXyu3FfAhcLAt6CIlqoyQ2iRqVaOohJXqY\n",
       "EizM2KEIEYIWJaLtwiBBKhRDYJCE9Rj7EP3nMnsZdmyDfvjnnPnmzPnmfP9lAP7JIhZzt816rCe4\n",
       "TSafamV4yL3MpMsDACG9EvxYd2OtzmL4GwKs1srwjXu5xZqRxnaB9iT0LBoUHydnz9RIoDQzr7C4\n",
       "iZc5F5i5C2IkRfGYASCbNTKEdeYV1oU7wD1+s5hO25xB0G2KK/mpqbFaRRrjXmGvqFQddN6zvXQG\n",
       "Qc8w/JemDdbK0Mg9sqtlYxH82rATZaDaSatlKoUCKYb3AwxX2eygXQW8zn2PHvtZzKXfRlYHhS4v\n",
       "pRQyzLSjfATvrEyEmaajX8go84BGT19tV52HF5lLm0AgySHRBQWIqxAdIHOxFOmb6UskugQPg98p\n",
       "Iel5wvLLkCc7xsjzR/NtoObk+857G5gLBQiTNVnyaYIN2RwE6ZkOraHxSHeKJAMILlthZ4PF2SlA\n",
       "hmXCGMcDK6N3DGRQHrsYfBnIJklqpVg5dJmcYbwsW4W9Gc4QsbtxNrF1BQJEGMKQw7G34SQKiIYM\n",
       "0y6V8JtflMrBgt0GBKhKvvJ6GFnAkeLDx1Cfs8ECxIAxJAjTNqORdRQ1JyRckc6acCrqBDXegWHh\n",
       "kRbUMoZuIcnxp0gjNAcHYIIyCMfPkHEIPks02GrriQ7nvXnmoqqckx0sZIm4TsgVD+l0Ddns5zhm\n",
       "AvhMfwoOa5qm+uVbH5jkrcHzmjYE6usdRYZ9zKW+Lbc3F7O15R2JRpLeTF4xnM63AtoPk+EKglld\n",
       "XDZCTKXoEbKqAPWQYio9y6/bNag94OP+a2m7Gg4+vfcAyEkWh3wuMgIXlAy8ZAzy9Lqdj9qcRxco\n",
       "4oG+J20Ao6Ti3ucm2oP10P0W9caaiA5+lxLFzxqG6h1AsqsTuHE/xoFXMhuaMA5/+wNRE/XqDF64\n",
       "91/R6y+65LF+ybOJWvDf7A/NotxgfptiogAAAABJRU5ErkJggg==\n",
       "\" style=\"display:inline;vertical-align:middle;\" /></a><br>"
      ],
      "text/plain": [
       "multRealClosureBin: forall_{a in Reals, b in Reals} ((a * b) in Reals)"
      ]
     },
     "execution_count": 11,
     "metadata": {},
     "output_type": "execute_result"
    }
   ],
   "source": [
    "multRealClosureBin = Forall((a, b), InSet(Mult(a, b), Reals), domain=Reals)"
   ]
  },
  {
   "cell_type": "code",
   "execution_count": 12,
   "metadata": {},
   "outputs": [
    {
     "data": {
      "text/html": [
       "<strong id=\"multRealClosure\"><a class=\"ProveItLink\" href=\"_proofs_/multRealClosure.ipynb\">multRealClosure</a>:</strong> <a class=\"ProveItLink\" href=\"__pv_it/8d90a63da555b1aacb883ae3287605fd363795b20/expr.ipynb\"><img src=\"data:image/png;base64,iVBORw0KGgoAAAANSUhEUgAAAVQAAAAVBAMAAADrzwv7AAAAMFBMVEX///8QEBCIiIhmZma6urrM\n",
       "zMxUVFQiIiJERETc3Nzu7u6qqqp2dnaYmJgyMjIAAAAcRTyBAAAAAXRSTlMAQObYZgAABDFJREFU\n",
       "SMe9l11oHFUUx//7MdnZ2dmND0qNImyNtkWtLo2ixUQThOZFYVPBtlDIsn5AX0pqYyIodSlCJymR\n",
       "pYU0FJQpgVZX6i6VpQZaHN34kqAMKFhDLGuxD7ZQg7RQWymee+/M7Ex2p9uR4oEzc+fO7JzfnnvO\n",
       "uWeA20j4Shb/SeKm0IAy5zOfKALnR1Fn419bP6L2p9gpGdjop5YGlI6i9zq5R7v12xQNdpHOY5HN\n",
       "XfJDVSt0SulBbf5haUBR6qsmUkpOmpoEvuCoM2y9Cn6o/M5MUJPJjNDA8u2qazluoDBNIGmGylzG\n",
       "fdcSlft7MajFWFFoYDlmnc+Nj9dt1M0UhMo9DDW5UCodgS/qcqn02UhQi0csDSypfn7a/pjLq5tl\n",
       "GvzOUHFd0973R+3UtANGUIvdlsZ7Nz3Q/unDtbV2Mqg8apRL7gDIbaFBjaO+CUz4o3ZkIQdeyilL\n",
       "B4qpFfLR7R+OduFPJ8jr3kJAqIm9DPw8R33Jm3jS3nmszTmo0QxPv/ZyesPrF+zxe0KVhxAp4NVn\n",
       "RXa3+A135jETzzkFlMea7EqrNeOX+ds5agxhp25+XuvDV6oe0R1UjGBj+yJzpscMq1hIW9f3Co3c\n",
       "QIymBvlcud78s1vs+KKOtx0/rbDj0BUSK63mM5NsMMxRVTPm+P/gUR1n0xm1EQD4Hu2z6txcCYS6\n",
       "ZHpRQwWUszZqLNf8uzF2uB/KNS/qjLtYPb29gRqvv0aQfVu7WSyQVKuH3KifSGRD2bS7eYudXXfR\n",
       "ijaWDAzV8AZA2cDXsFF9V+QfJFYs+4hyt4TcqPLJtHgHoWLiDUIdMENFsclW1ZM7XajyNB1OZId1\n",
       "dHg3LeUd6YZVYiBQezLetCpXsJu27zaoN9FRnxP2rbSKpF2oUu4ZJ63wJf2Vo+vRqSvcVBVGzYWa\n",
       "YFnRg22QvvGiRjKSFRqzHDXy1qh9qyZUTifHVI9XeXSyqBVhymU/fs4Z3D6903BWxd5YsUhFCL0C\n",
       "tZP9iTwGIL2rafsJ9eOYCxV/kT6IdRRtXtRQJWyF3zZN09Jh9dBP9q1BoUr+0elHvAEwZkftmDN1\n",
       "/OEd+X5un9BEmB3/UHfalaz80U3gokBNsvn70CshJ7wa3epGXSKbf2OqtBq1XJSX9B/PLlMdFAGQ\n",
       "2Km33FgH76TWcfs4YV29fGDcUzCUEYHKG8wVjFbxHRuSb5bdqEy6pKsmQ53R45P2IVQcfgWnCrQC\n",
       "albE6oLRsl05fScNLrff1K44e1G6gRrN4QkTMrUt0X39wk1u1C2Pd3PUoYrUhaEiO1Si+VN9tJmx\n",
       "WnKQAf1gzL5gv3oCjS3w8Af59qjCvlL3uS2aQI9soFj1bqzufonWt9GCiVEMG+mZMMXq3Witfbfw\n",
       "iWbU1R8s+1zVVHrqef7l0PiGYAmAM+bd+2D5xa//JWNPjgbsmVuM/jf5FxzzKe8RHA6xAAAAAElF\n",
       "TkSuQmCC\n",
       "\" style=\"display:inline;vertical-align:middle;\" /></a><br>"
      ],
      "text/plain": [
       "multRealClosure: forall_{n in Naturals} [forall_{a_{1}, ..a_{_a}.., a_{n} in Reals} ((a_{1} * ..a_{_a}.. * a_{n}) in Reals)]"
      ]
     },
     "execution_count": 12,
     "metadata": {},
     "output_type": "execute_result"
    }
   ],
   "source": [
    "multRealClosure = \\\n",
    "    Forall(n, Forall(a_1_to_n, \n",
    "                     InSet(Mult(a_1_to_n), Reals), \n",
    "                     domain=Reals), \n",
    "           domain=Naturals)"
   ]
  },
  {
   "cell_type": "code",
   "execution_count": 13,
   "metadata": {},
   "outputs": [
    {
     "data": {
      "text/html": [
       "<strong id=\"multRealPosClosureBin\"><a class=\"ProveItLink\" href=\"_proofs_/multRealPosClosureBin.ipynb\">multRealPosClosureBin</a>:</strong> <a class=\"ProveItLink\" href=\"__pv_it/6a05e7742d9d626a3608bf9766cfa44312893ed50/expr.ipynb\"><img src=\"data:image/png;base64,iVBORw0KGgoAAAANSUhEUgAAAOkAAAAbBAMAAABrQ7XCAAAAMFBMVEX///8QEBCIiIhmZma6urrM\n",
       "zMxUVFQiIiJERETc3Nzu7u6qqqp2dnaYmJgyMjIAAAAcRTyBAAAAAXRSTlMAQObYZgAAA6dJREFU\n",
       "SMfVlmtIU1EcwP/t5XZ3p30ILIS4KpREwWhlSWmDoL70WBBWEOxi7yIwrdbDD8PCrooxCkqC8NZA\n",
       "wnzRAxGCBqsPzYpFQSIly7IPVkuioLaS/ufe7b68TpwfogP37H//d+f8zvm/zgH439r2GY9g8THM\n",
       "DmpmZzzEj4+JnRU1l8+KCs9mRV1OuuuT9fZAZmoOrjZGhLdZQG0J7Ci/WnkrH7tDap3jGDfxrkWm\n",
       "GpwAA0QYy4JKO4mVtft6j0+31hUUa25pAks8vjD+BZc7DtBKlu3PgjqnF7uXWm2SrIdR66y2EPiv\n",
       "SHuFs2JM0L1ZUNtIMJ3WKE2C2eeKL4M+XyxNLcuVqavR6pGOjqvZBNMLYqRqrdkFxQdB3rlEsdcy\n",
       "q0wtxOcnx9XpeE0fFZLFilRgwOVwoZRDuVXFaLcwEakxpYXZDTJ1K/59H0Dj5OmN+lSnLHJkviga\n",
       "dQF8lZQ9Y9QvgGEiWgIKqr12TKZ6PQDrgYpNSd0Sm5L6kaQebuxGlDgKQNjvQx6+AfQJLEU05fs+\n",
       "CZK4kDY3jgRDVDFvX8meEZlKpzD2moYKRk2tJXGM49fxUEMMOiGanfqNmyHitji2VDQ9cjYpED04\n",
       "io7mpF+pB66ogYYIQ7tWudYIfiLRfTtcDkyIvglhV62rV5mZhDofqB/k/aSoNCVT1FZl5qzYqYx+\n",
       "HGWLVaZfB/s7AKlDUWmveWgTR/M1HqmOLvVeG0QL497s45LyDxgxdzYK+aykWrsUOewlhm7ci11w\n",
       "0SiYyJyEGpKo3qLD6HhsSO1UUw+K0UQlwRLrTyu/EzeL0WRkFFQzu1IeSWIY7mKOUSfMCRASGaku\n",
       "p0RdzBeLlZoJGV1qamHK7fXwmpUS6iicw35tugRJFREGLB5VpkMeLsroNFdDUKAa9x+Xo6kehimB\n",
       "xJQecKupZMUmXHB70a4qd1oZXEoic1SQ28/zUvX3WC8mpZFCyDt4UlQNLOzgOI4x0JdekSNb/MM8\n",
       "KDWf4rh6YJ4sI1N7FHXYrVMRxaBMVaxNF3wxve8jUjAHrEO8RbSwfbd8XCegQLh2oIXvRzQZHdKr\n",
       "/qBT/bWLSkgLD3g3A+0R/RpJucnWBGccfngsUulOzQWG1Hir3gnenbmAO6QrjKnqTjlAM6kSz0PB\n",
       "itS8BVD5FGfGFLXXfaZcGnMd0TnVhdaYmZrjUb8b0K+qu4j4U4J+nWpLOjcYRyAz9c00h1l/xq92\n",
       "Z1bXrWmvENHMn+9lRTXy8I/aX5pt7OgJ9jPGAAAAAElFTkSuQmCC\n",
       "\" style=\"display:inline;vertical-align:middle;\" /></a><br>"
      ],
      "text/plain": [
       "multRealPosClosureBin: forall_{a in RealsPos, b in RealsPos} ((a * b) in RealsPos)"
      ]
     },
     "execution_count": 13,
     "metadata": {},
     "output_type": "execute_result"
    }
   ],
   "source": [
    "multRealPosClosureBin = Forall((a, b), InSet(Mult(a, b), RealsPos), domain=RealsPos)"
   ]
  },
  {
   "cell_type": "code",
   "execution_count": 14,
   "metadata": {},
   "outputs": [
    {
     "data": {
      "text/html": [
       "<strong id=\"multRealPosClosure\"><a class=\"ProveItLink\" href=\"_proofs_/multRealPosClosure.ipynb\">multRealPosClosure</a>:</strong> <a class=\"ProveItLink\" href=\"__pv_it/0e11c5fe6918efa505b2dfd5e26a82d9e96cdb7e0/expr.ipynb\"><img src=\"data:image/png;base64,iVBORw0KGgoAAAANSUhEUgAAAXQAAAAbBAMAAACemGlbAAAAMFBMVEX///8QEBCIiIhmZma6urrM\n",
       "zMxUVFQiIiJERETc3Nzu7u6qqqp2dnaYmJgyMjIAAAAcRTyBAAAAAXRSTlMAQObYZgAABJ5JREFU\n",
       "WMPdmH1oHEUUwN8lt3d7u3uJfygag7IxfhS1eOT8qv3wgpD+I3it4gcILsGiIJTY6J3aoEeR9hqJ\n",
       "HBbSo6Dd+kerZ9ML6KH9Q1xN+4cNhROKX1hYEQSjxiAt2FSKb2Z292b37vbuNo2gAzOzO7uz85s3\n",
       "7715swD/0xTJvryyDzxyuYk0zCrmcHbC/8XoCgcStMuNnsM8Qq+mVxe9R18NdKX6L6APYY5VO+52\n",
       "3B8dXmHoJqnONkXvIVW8Gow8tozFewFMrOC+jz+fv/TjVA19kKHPk2qhKboyu4J1VxJY/NJ5P8n0\n",
       "Kp6kCVOTEFlcvH7xd4CDDL1IpJNrik4fFQPqSwjnHU8E6PiF516MGZCbdqQenaXoRKJUtE10nSzI\n",
       "fED0g/jtaCFAx0NW/W02a9ro63oc9O4cRY+fKpX2+5jpD6XS+2MB0b/CvD+QZ0rR6vFbOamvEx30\n",
       "riuYh/krn5/wQe/N5/cYnQzLvbzJMqnYhqFrW3fcNzeg80YC0gKvMNqIgx5eZujbAPb6oEfSIHa0\n",
       "5pxu5zETxzBc6FlCGfr3C/fBH45LMd2OBtHl8QUHXTjP0B9wG7QwfgIGtBp6OAHHICD6z5h3ovSu\n",
       "I9r58D3MezToQoV9qAr32g0yVVGRM9Ors7/SKzqb2DmGHoUux21/MLcRPlH0bp3bksZgbVvI8o7d\n",
       "m1Q3+jjmK9GqliGKTzbTtrJZ7wsvkfJ+HXY48lsi5ZZFTJaZnkhMch0sdKXq7JnxNw7o8KmaUPjd\n",
       "9DS0YaVkzqqhvAtzyfGk469+YuihHJTTNnq0QViTIcU1IJ13oxd553gnp2+21GPmowi9cesg0R1M\n",
       "lcpbLvR32oih6JxVIz7jlvpupjBlAz4DG73pNvQ3yEsWB4SptEI8ujij1pT6ghXD7H0axx6uhgos\n",
       "KKgoM0/y6OI0eippaHu6fjSnkc4Z0Y+60Z9lZlqehe1yoRX6RYiYxxmHZabdKocuaHfVLNryMPAh\n",
       "TvHALdCrS3TUChhzPLpMzOtI+ikdIp54gDbSZDL07qQbfQAzfktU4xnFJXWq3UTrmZrTtAu+0QzK\n",
       "gdDMw+7kAgGYjzjCi1t+HXrJ5EZhGISX8vldiP521BU5/ok5CY+B8LkHnTQyEoqr3v1Myo3+kE6B\n",
       "pdGbpm90K0zG1vqM03T4hidGU5QDURnl4dd1J/xKi29etF+1dlN8QJ5fBRsEegRB9PBWF/r3mPvh\n",
       "ZrzzoNNGqnt0zuqXawk6p1ihFB8IbG7HT1EOOGLdPbgnazbabFUuXo8twQsVOEkuz+Dm743XpQsw\n",
       "VfKi08b4+rMGO3ahwlROuYcg614Lvz5uJ0ymHHXhlyeVdQ49rMHtVRDRrYVfTUGk7qjRJ5yrEvTY\n",
       "JBR1uyCN8hriO08ydOWo53xHdNLeqve9NtoanXFIpv9bXzc4Ja3BdW94Shq5bZCiC/2wpSD0kaKf\n",
       "NW4TUPHInOWJ36SkZ8zngh01WkUeL3Z8wCMKI9d2T1aNdZ1pMGcrHQt2wPuuxS5idIou3LGePzay\n",
       "K0mTT/sEB0HOGS1Tsa0/AnX/YaoNrnzSR6uBfh/9D5P5D//f+gcU8joVyPMORAAAAABJRU5ErkJg\n",
       "gg==\n",
       "\" style=\"display:inline;vertical-align:middle;\" /></a><br>"
      ],
      "text/plain": [
       "multRealPosClosure: forall_{n in Naturals} [forall_{a_{1}, ..a_{_a}.., a_{n} in RealsPos} ((a_{1} * ..a_{_a}.. * a_{n}) in RealsPos)]"
      ]
     },
     "execution_count": 14,
     "metadata": {},
     "output_type": "execute_result"
    }
   ],
   "source": [
    "multRealPosClosure = \\\n",
    "    Forall(n, Forall(a_1_to_n, InSet(Mult(a_1_to_n), RealsPos), \n",
    "                     domain=RealsPos), \n",
    "           domain=Naturals)"
   ]
  },
  {
   "cell_type": "code",
   "execution_count": 15,
   "metadata": {},
   "outputs": [
    {
     "data": {
      "text/html": [
       "<strong id=\"multRealNonNegClosureBin\"><a class=\"ProveItLink\" href=\"_proofs_/multRealNonNegClosureBin.ipynb\">multRealNonNegClosureBin</a>:</strong> <a class=\"ProveItLink\" href=\"__pv_it/2b9088612242855f9c8a76074a4f38a1433a0f700/expr.ipynb\"><img src=\"data:image/png;base64,iVBORw0KGgoAAAANSUhEUgAAAQEAAAAcBAMAAACT/Rc/AAAAMFBMVEX///8QEBCIiIhmZma6urrM\n",
       "zMxUVFQiIiJERETc3Nzu7u6qqqp2dnaYmJgyMjIAAAAcRTyBAAAAAXRSTlMAQObYZgAABDVJREFU\n",
       "SMfNVl2IG1UU/pLJ72SSLLIPxUUYW39KqRB2cVmwXSNFfVGbIq59ELL0R6GiLMV2xVaJZdHsLuLU\n",
       "By0idOxClTWSYNG6IBhapZpuSyyia6kyFCpYtO6DD5IH8Zx7Z5LJJOtmNwv1htzJnLk5893vfOec\n",
       "C9yssXnzTXv1QwbP8XJsdK08BtMrWx8dzNAcTqMG/9ogGFnpH6JDBKGYQR8Ca0PD9RX/Q/0mjayB\n",
       "l4ELawFA0Xlb1dYHc/8B4aKZNbGfYmECFlt+7gLBcXKCDz1veHUMCBnNxh/XvXljnUTq/4M5uIV+\n",
       "pIDzqyOyMc7y9JvHmCDPquUxWiexc4HxnpgWOviLuFsEjjGHuS4Q9HFqpTzGZImmMx5j7j1EoqS9\n",
       "woSTC8AhQkugtNLqAUTZT9hDOLbzVt+3bxbGxy0bgWJYmJkQgUiJejBE8Cuzs+90QUG8h6YWB+dE\n",
       "KGSh2LmpwYFi5PCEXRNF+G6n79/5/OFuUoG3t4HJ2NJ/a9366/r7iFoRG/W6KwohbwVgsvYCky1+\n",
       "uWqhcMVsUwGF1wsV5z7CGnqDvg8YicV6LvxjFg3EBfeNlCAEp4c9LrP0pm2togV+YGVMqUKhjzU9\n",
       "jj/LrzXr6ZcYlXpSb4MilvMrYjUkdcTGBMSGEo+Ov0J+P8/TcIAcp0iF4XeXk9Mbd1/l9kG2HnCM\n",
       "bTLJ7f7Xhqn6BJ4DfPSxR5if9lI0agjrYvsyNMUygoKTHTdo2ErcFvGyWiQEWjVcJ++LgapfQ4U9\n",
       "Pb4p2oMDYpfMx0dnt0Ivayc4Dv3mUYQzrsxnBL4cpziNg9K4vWQjOObKRuVBb94zB1Gr3loW5mZB\n",
       "CC4zJ8FpB0GSAhmfftckBPGPhbhLLgQROwq05y8b5aCK+00ERBR87nowdcmDIMsqmdxD08xd1xDg\n",
       "7TCCMlFOXC9CiDu7fh+JhQYhKNDlsyqS8Dl0hmwlFkt4PuaILpkmWdhKFH3DQTCiZNoUjlMEVT0Q\n",
       "rCEBiWAgJfVmK/Fuc4PsHnpZGZAidSnR3yMrc0SPH9QcY6gaod0oZXFzyFWVtdLeZgTfCcAEUkkF\n",
       "xzAjPCpPvwDc68rGI/hFFWLUB59JQ2zClY0BrokPk2nXnW/fURdUP7fdhNzvyQnT6UzXkP+zuf4O\n",
       "ifyiBb6SfxRPUpbofu2t75th9mIw+GI+fwT6t/e0OQ71tqvKYnxgXx95fdxaqqBdrSeFEblshmQU\n",
       "Yk+Z6vz8/FfOsxo1n1EZhU8rKNCjJhxb2nUmMc50cFapOb98RvZRaBmpg0rZ1Xim8FI8h68lAq3Q\n",
       "6mQHT5PtvFsddJV6kQ7s+mQrMM0V6WJ5ZthVhPswMk86o+jFDv+uDrR6DZVaTygyT43lEYQ9qeEn\n",
       "HXjXxORlI+lgCSKtJU5pP3XQ1650sGZu2RWnujhcdHI0qi67IpZeNQLFxP9g/AvFyh0bWBhevwAA\n",
       "AABJRU5ErkJggg==\n",
       "\" style=\"display:inline;vertical-align:middle;\" /></a><br>"
      ],
      "text/plain": [
       "multRealNonNegClosureBin: forall_{a in RealsNonNeg, b in RealsNonNeg} ((a * b) in RealsNonNeg)"
      ]
     },
     "execution_count": 15,
     "metadata": {},
     "output_type": "execute_result"
    }
   ],
   "source": [
    "multRealNonNegClosureBin = Forall((a, b), InSet(Mult(a, b), RealsNonNeg), domain=RealsNonNeg)"
   ]
  },
  {
   "cell_type": "code",
   "execution_count": 16,
   "metadata": {},
   "outputs": [
    {
     "data": {
      "text/html": [
       "<strong id=\"multRealNonNegClosure\"><a class=\"ProveItLink\" href=\"_proofs_/multRealNonNegClosure.ipynb\">multRealNonNegClosure</a>:</strong> <a class=\"ProveItLink\" href=\"__pv_it/48e5300db9dd52a216b261936a4201cc4d65f9940/expr.ipynb\"><img src=\"data:image/png;base64,iVBORw0KGgoAAAANSUhEUgAAAYQAAAAcBAMAAACT0dV6AAAAMFBMVEX///8QEBCIiIhmZma6urrM\n",
       "zMxUVFQiIiJERETc3Nzu7u6qqqp2dnaYmJgyMjIAAAAcRTyBAAAAAXRSTlMAQObYZgAABQNJREFU\n",
       "WMPVmF9oHEUYwL+7vd29vdu7BKnQGCqn0VowxZBAFZuWC8UU9OVaseZB6BEMKmIJVRP/xHiUYq8t\n",
       "xa1CGkrVNYLVM20Oytn6IJ7GQk0TWTTWP1i4Fx8UrUUi2DyI3zeze9nd21z2LomQCZndnZuZnd98\n",
       "f2cB1mZpbYU1W7o1qmPFaNpff2nwxWW/U0yuKIKyJYW1nIR5SOBNaHCoen95Bd65Z4XFoNyHDBMp\n",
       "aIZu9jyy+gi/rbQqRS4lYa8Gr4Bq/D8IAolbMWoe90kVhq/1vTrsB3iJI5TocnVRhDgzHqN+hHd0\n",
       "rD6ofZykOZ+/X//6tfV8HcE/SAo3AbRwhMvVhC2DmsdLXK8fYZKqX+tQl5KrofQ+9PxACxk7ymxh\n",
       "DreHI4ySnDOLIrCfRpehSM0kxbY6Bn7hes6cgrCCnnT8oOWRQM4zBNphttWL2AIJ6PIy/Mc8TaPV\n",
       "MfJdfokdGhy2EAStBO8dZLrURnFByDCE2FQud6KKOf+cy33YXz9CrBGrE/WMjLN4Ih7QF6QgaBl4\n",
       "xIzOpKDBRu6R/slmh6ogNGSzh4rLcEik0mR2Smf7LUvLzNZJZdp3VrcpkhRyhuTQPEfoAzhcBUFK\n",
       "QbgGPRCZKc5MWc9hkvUx/O/S4tcBeqqP5p1M+TF7fspuC+e3O/2K+DdH2OE0fvHZL+G29AJCqA3O\n",
       "1qI4T9O69bIXjdNULyPVBtLch+/l3sZjIC2OdzJLlKnvgqPJHB8cRpu9kMVikihzHEGGYNntfzS5\n",
       "DS6ouqDbQls/bPa1+Oj+17ZjGAs9AxDAP2sGUod1qFDzIOOvO1njRKnSh/4L5U7mXpI8xFuvYTGl\n",
       "sCPscu4RE0E1yjE4dvSkDp8m2lR7dJ4BH9ZM7ImiOkZvbdePg5yypGAiBDLky00E2SPLHIByJxuC\n",
       "zd1nTgkPuJy/JQWlhIlYbNvuFtIpLIXCGw6Et8Wl01rGnijGztBDT96GEDYVaaIIn4GFsFjhnb79\n",
       "7nbiDrGda7TbwpFvXIZ3w8yRDj+Oa+gyAhpPNgrqmcfsCOER9G6R9n2pSuGXGxk7Iozj5WMDGiBg\n",
       "iVwyzXkiD/ui2lIIrNPsBmgqm3O7HWGPkPL0SHAOcU/eBQ16hLmxAhQn7QhRMsHTKUysJJcqskYe\n",
       "/DmC0AFwJe8wZ+a6cb5wIjagOqRABsEsgFVcZNRJGeunyAsCc+Vy3pZgqPm+yqBDCA1kQb3QBeIL\n",
       "2ewBRHhLdmSqf+F/BzwK4ucuBGrk4mDsiS1PJIHtk82pso3ChUd67xy5w4HADGLAMgM+D+skJUK0\n",
       "tDjb8ciTD5bTvF8g+6cjjzCjM7LQym6GThHSXAqh3Q6En1imsxGfdHf6s9HUScae+GqzxwFtnSPB\n",
       "2OnDtQVSQhGXf9rcg0tmguEVwBO284JyHZ4rwEW6ncWkwn1eiNyAYzk3AmuMbb2KAk9zRSpMwfj0\n",
       "9LQDpNOR5p33k56D/FCqMs3zsh3dhoCRu9WAMIopNJwEqeLI0yTOGYSgHIFR3aqoMbqJfO5FjqCO\n",
       "V75mF1VW+H/z1V4fB3wIzngk2x7lisepbRPqg+eprfvuFoYgNsMuTWyiqpk39omokMQeHfo90lH5\n",
       "Xilf35HHT1bzfM0HT1Kk6EI05pf+4KwHu+voUsfB80cfyUyxVgTxnq32Iy2/i6SjM9XnOLdqn5RG\n",
       "fX3BqPiOZHjcLZE7JVcL4X72HWkA1n75D/aGWkSyh7xAAAAAAElFTkSuQmCC\n",
       "\" style=\"display:inline;vertical-align:middle;\" /></a><br>"
      ],
      "text/plain": [
       "multRealNonNegClosure: forall_{n in Naturals} [forall_{a_{1}, ..a_{_a}.., a_{n} in RealsNonNeg} ((a_{1} * ..a_{_a}.. * a_{n}) in RealsNonNeg)]"
      ]
     },
     "execution_count": 16,
     "metadata": {},
     "output_type": "execute_result"
    }
   ],
   "source": [
    "multRealNonNegClosure = Forall(n, Forall(a_1_to_n, InSet(Mult(a_1_to_n), RealsNonNeg), \n",
    "                                         domain=RealsNonNeg), \n",
    "                               domain=Naturals)"
   ]
  },
  {
   "cell_type": "code",
   "execution_count": 17,
   "metadata": {},
   "outputs": [
    {
     "data": {
      "text/html": [
       "<strong id=\"multComplexClosureBin\"><a class=\"ProveItLink\" href=\"_proofs_/multComplexClosureBin.ipynb\">multComplexClosureBin</a>:</strong> <a class=\"ProveItLink\" href=\"__pv_it/c25da509d500785e5ad6cfc348cb1bf2222da71f0/expr.ipynb\"><img src=\"data:image/png;base64,iVBORw0KGgoAAAANSUhEUgAAAMEAAAAVBAMAAAANw5eWAAAAMFBMVEX///8QEBCIiIhmZma6urrM\n",
       "zMxUVFQiIiJERETc3Nzu7u6qqqp2dnaYmJgyMjIAAAAcRTyBAAAAAXRSTlMAQObYZgAAAvpJREFU\n",
       "SMetVU1oE0EUfslm87PJphdBaBFC6x+eQkUPamlVxIvaiFgLgg3RIniQXGxFPdQoukkVFgRbtIe1\n",
       "xVpaJUEptFIwtFSh/rDgpSko60GtIlXwoOQgzpuZ3TRrtkbwwdud/fbtfDPfe28W4J8soDO326RD\n",
       "POIGDt5UyzDCfZlJF5MAXtUe6f74dfUlij/Hx8/VMnzivtzCUUJj2ECxIyc1v6Z4P+69p0oCOcq8\n",
       "zGpy5DJtA/UEifxO8bAGEMpVyeBTmZdZK5kB7vCH+e5u3I4cqyXX4xSX50ZH+6oVqY97mT2jUrXQ\n",
       "cfsmhglUlkGG/1SUC9UyNHAP7GistcAP9duJDFQ7yUzosMi1RLwTIF1hsgNGBfA6951q+JtVS7+0\n",
       "rAoyDbdKasAT4Zkj+G5bIQSvnUyAuSi0iaddPBzOM5fWgIAqSDS+CDURCCZx7De/uWEyIO4Dt9lC\n",
       "0tRmXWrXxC8oLGZ/bKYJ7mbgWJ4HrGIuFMGHM2RxaYIB2TyIdE8Hl4ghOCLyTxAP6T6TeX5yFOQB\n",
       "gCmsQbJhufeWBoU8BG0Mrh7IxrC04qwdWnOcod/qES1eYggYbWQ0tP49eFCYPeMEIveO+lNEQADP\n",
       "UTKXWq4SWfOTUjvo0KyBh6rkKjVOnKlI8fQJMj4jFiGM7xYKLGaD1kBPFPmB+kemszk4HTThmhaS\n",
       "Fp5pwUwYpHZhtXD8EaERomIShvDVY36IpeCthHsKji1jmGHuj8hdIRPz6n4SJ+StTbKGWJyTJjIc\n",
       "J5UArpw7DkcURYncPmxKvlU8qyipwHisxLCXuZRYd3OtVa2NL1F4FjV8WePwoXc/tpi4TMCs6l/Q\n",
       "vJR8kFVhEeqAZmsbWYC20qlB7R6/77vabVTCwaV27IdQjLZrDKYDGTgn98AsLe1ZCEVWOvmoTTuc\n",
       "AhbuSTxsAujF4f2lKzGxDtpeEL2xJ6RXi53WB2mofAJIRmUCO+4meeCtyG4bldRf/0DU/GplBifc\n",
       "+a/o9BctOMQXHA9RHf6b/QZVMc1P4paDKwAAAABJRU5ErkJggg==\n",
       "\" style=\"display:inline;vertical-align:middle;\" /></a><br>"
      ],
      "text/plain": [
       "multComplexClosureBin: forall_{a in Complexes, b in Complexes} ((a * b) in Complexes)"
      ]
     },
     "execution_count": 17,
     "metadata": {},
     "output_type": "execute_result"
    }
   ],
   "source": [
    "multComplexClosureBin = Forall((a, b), InSet(Mult(a, b), Complexes), domain=Complexes)"
   ]
  },
  {
   "cell_type": "code",
   "execution_count": 18,
   "metadata": {},
   "outputs": [
    {
     "data": {
      "text/html": [
       "<strong id=\"multComplexClosure\"><a class=\"ProveItLink\" href=\"_proofs_/multComplexClosure.ipynb\">multComplexClosure</a>:</strong> <a class=\"ProveItLink\" href=\"__pv_it/93b4b712cf9e9d226f3ded46952b9d2dcc1c76cf0/expr.ipynb\"><img src=\"data:image/png;base64,iVBORw0KGgoAAAANSUhEUgAAAVQAAAAVBAMAAADrzwv7AAAAMFBMVEX///8QEBCIiIhmZma6urrM\n",
       "zMxUVFQiIiJERETc3Nzu7u6qqqp2dnaYmJgyMjIAAAAcRTyBAAAAAXRSTlMAQObYZgAABDJJREFU\n",
       "SMe9l11oFFcUx/+b3ZndncwmfVAwLeLaWFusH4M+KDTRRGnzYmGj+FEQsiwV8UWCponQEhcpdVIV\n",
       "FgUNasvYgNpVu4uyaEqkq2tflMKCihpSuw/6oEgaSwWrbfF+zezMbsbNFOmBc+fuvTNzfnvuueee\n",
       "AV4hdeMx/CcJF7l6lGGX8foUcK8HJdr/dfJb1LYGeol4NnpKqEeRU1VDC/uf7NSwlfSu4jodeOSG\n",
       "qmbJpcHwavOhUI+ilCpH1r3A0D8afmCog3S9km6obGbQq8mIxtWzXKl8kRwFftOgRikqdRnz3aSo\n",
       "zN/XvVoMprh6luPieqevjzn4lo/QyRqUNyhq5Fo6fRiuqGPp9PfdXi0eFupZGtrYZeM88VujC6oQ\n",
       "l96nqHim61+4ozbq+p68V4vNQsMti9+sfffBwmxzM6gsahRz6yjxtaJXYKibgQF3VDmGkOel3C+0\n",
       "PdUwQXz06psDTfjdis2SIxGE8ytF7x5DXeXceNKOq5gdt1ADfPtNQer3bUmI7udclZnwJ7F2KffQ\n",
       "JI8wZx4vYpn1DhZrISs9aybqBYYaRJ2VN08XWnFRNfyGhYpuLKidZEaWFJWNhvRY/J7G1f8cQRJn\n",
       "HWwsU6p+7F/arjCw3fLTBG07x4nQ25XkJjHRxVDVYtDy/94jBi5FNbUcAPgFtXfVneE0IseAESeq\n",
       "L4lMzEQNxquf66XNDChPnajl5PhIdqCGS+sJZOuaZhoLRHK5A3bUbyViQ1m8rfqIHZr7QEQb3Qwf\n",
       "5sirnAGQyeMnmKiuK/I36ieEfQSYW3zW5A1ZxEkHQ8XApwS1vehL8UM2p57dZEMNHSLNyViXAdl5\n",
       "aCmfSc9FiqHN6N2qbZXJYhs5vmugvoBcGub2xbbyR83J0BzSDZTMbYXz5K8ceReNhsJSRQ75gg21\n",
       "nu6KJdgA6bIT1a9JIjSGaPOjrdYocA1FI72qw6ssOmnU8jBlshu343lmn7wzb60Kl+X7jNM6mWjh\n",
       "qI30TyTQDmmnru8mqN8Ebaj4g+hbmEuizYnqy9aJ8Nug63r06LryVAdXJfHOoTnOAOg1o7bXGjrx\n",
       "9ieJNmafrA8PsxNfmqak5bN20LEHHDVCx6ejRUKcezWwxo46Smz+hf3pStRMKjRq3Lg0RvIgc/J3\n",
       "5YTkPFg7ppLqmH2cFL9W7+lzJAylm6OyDDaBnhx+pt2bwJgdlUqT9GeRog4a4a/Nxpfq+hjnkmQF\n",
       "1Bg7mWJWteEsVy5MpcBl9qvKFessipZRA3HMLyJEypZAfxvkStSP3m9mqJ1ZqQmdKdpkA4lzreQw\n",
       "o2fRXnrPmfGvrCwxgPIReHBXojYqt19dBArhRaBD3iOx6jxY7fUSCYByCcZ7QSwg99SRWH0dpbXr\n",
       "ET5QjVr5wdJvy6bSog/Yl0P5G4JuAIwUX98Hy123+pcYW9jjsWaepPe/yUsJ6CPApbtKegAAAABJ\n",
       "RU5ErkJggg==\n",
       "\" style=\"display:inline;vertical-align:middle;\" /></a><br>"
      ],
      "text/plain": [
       "multComplexClosure: forall_{n in Naturals} [forall_{a_{1}, ..a_{_a}.., a_{n} in Complexes} ((a_{1} * ..a_{_a}.. * a_{n}) in Complexes)]"
      ]
     },
     "execution_count": 18,
     "metadata": {},
     "output_type": "execute_result"
    }
   ],
   "source": [
    "multComplexClosure = \\\n",
    "    Forall(n, Forall(a_1_to_n, InSet(Mult(a_1_to_n),Complexes), \n",
    "                     domain=Complexes), \n",
    "           domain=Naturals)"
   ]
  },
  {
   "cell_type": "code",
   "execution_count": 19,
   "metadata": {},
   "outputs": [
    {
     "data": {
      "text/html": [
       "<strong id=\"multNotEqZero\"><a class=\"ProveItLink\" href=\"_proofs_/multNotEqZero.ipynb\">multNotEqZero</a>:</strong> <a class=\"ProveItLink\" href=\"__pv_it/0f26e9535e118edbba029f9295083265f3568c9c0/expr.ipynb\"><img src=\"data:image/png;base64,iVBORw0KGgoAAAANSUhEUgAAAXwAAAAZCAMAAAAFd2WlAAAAOVBMVEX///8kJCQNDQ0oKCgQEBCI\n",
       "iIhmZma6urrMzMxUVFQiIiJERETc3Nzu7u6qqqp2dnaYmJgyMjIAAAD9T1yxAAAAAXRSTlMAQObY\n",
       "ZgAABIRJREFUaN7tWtmymzAMpS3eV/j/j60t72ATLoRMOxM94CRXsuFYPlq403RdGOdcTl+5IsRh\n",
       "Z+5MwL8Y3hHJvuB/wX/3c9l2fFL0iHmNOtZ24C/5i7VXwL9h/5go0Y7PCuujL5dmJ5A1tNV24Bud\n",
       "vizqCvg37B+TRbbjw1u99PeE1HfkUFKQnRRtB75M3iHFJdq5Yf+UWNyOT4tBPcev4bAz6C2Ntuf8\n",
       "5LDFhX/G+dftn5KU/34qD1Zzz/Fp9UVAbNWrqrU9+NYoL/Ln4TNYXLd/KtrydvwAzZFjx59WAJ+s\n",
       "utaGbGcVXi6k/PHhLts/JAi34ySxwWh+R0QazGT2/CZqx1crDuCjWhvADwdEyKvgX7a/INRASoUM\n",
       "8ntNUY/qhG1HMrtbW9Zgfysw1TM1QaaEXLOA/Pntr3n3V/BMGsBP2gA+weOQ7U04Nu6goJkNwH9h\n",
       "fy15FoZxtgtkMniddc+i4XZY57xx3Yxq9puAPeoU45qKTp4FVbg9z7S5W37o+A58HMA3tXYosvwX\n",
       "tE/SlTYYWw8E1AtYjYqsgf2FyBVXVFS4xeiyQ1aHLeaeNSF66c6ez6QZMShyFFsqNRmccpii1szU\n",
       "+Of2MFC2maKmnaQdwPdHeR+crNBSwQNaNDljM6xw+/YXUsS0opXBRQbgq9X71azPgT+LbNKCP/Fz\n",
       "9X1Wa2Y6BH/LwWvMdvQefFeLxa2y2FIUAhXJQURTTSU6AL/YTwojttAz/rRXzCsSt2CYuA8+Xf0f\n",
       "uB2A39KOgrOu4wOTG05Sz1QB1c4KnP9rDsyfN1cAVVk4OVk79naEjOWYJZ7WfFip2gYOCaMsHYNf\n",
       "7BWnDhpYgh0yaqVYErZ8ApQdRO8Efj7+PfDbgKvA3dgSuir3wC8zVUC1AbdfWddFVhtw3SPEOCQV\n",
       "4pFNFa7Bd27fSafygyT7CWMfoCErOU7tsmJ9FvJ0atSsYqZ4/owgBu41053GUTg966jDjD0/0/r+\n",
       "Q7OreaYKKHga0z/C7WlUM220U1dzTUHEJxhkhhwHsne/ngdf2g6rl1+SvedhFObkh+BXiiWrSitK\n",
       "TRMhEZHER2CBp8L5KwlWuxOZAI6jYghRyRA5oJ1M6/sP9R5VM2WgwNNb/uw0uZRBKNW8STuBb5O6\n",
       "3xy3M+7KGs93PIwOwI/2yruksBA0D8EvihZrawN+ZUWsUD8XjJllyXZ6nn/UXiDvqnoLUJ5DW248\n",
       "bill7W0/X67waEA0eTctSbn1EPx8S9JxArHZ86V32N4lK2ok0kRlRVdI0m7DKlK8j3Qhz+9x/lFj\n",
       "Tb8J/Aqo3X2+6O42jbXGMRiUj4Ce0MlZQjOCnQCfMKQRLuBTTy/Ue2d90bWiO4yp7BS6nNJlEYwO\n",
       "Aq6/xUjoXfBzprfN+CTmK0PvAL8GalNfanOyAX34JgtFzn/VXhj8Mex/r/7Xm0mQJSdX3GHdB/+z\n",
       "L1M2W/zC8YU8Bf7Z3k63J4FWDEVQh5Kb3xTzvnK2PD4J/kdfI27TYnJW+/F3uPbkb6c757Ibgf9L\n",
       "uQn+5/9vRzY9JPrvvMD5cdBw2LG/Hrg2HCdUeowAAAAASUVORK5CYII=\n",
       "\" style=\"display:inline;vertical-align:middle;\" /></a><br>"
      ],
      "text/plain": [
       "multNotEqZero: forall_{n in Naturals} [forall_{a_{1}, ..a_{_a}.., a_{n} in Complexes - {0}} ((a_{1} * ..a_{_a}.. * a_{n}) != 0)]"
      ]
     },
     "execution_count": 19,
     "metadata": {},
     "output_type": "execute_result"
    }
   ],
   "source": [
    "multNotEqZero = \\\n",
    "    Forall(n, Forall(a_1_to_n, \n",
    "                     NotEquals(Mult(a_1_to_n), zero), \n",
    "                     domain=ComplexesSansZero), \n",
    "           domain=Naturals)"
   ]
  },
  {
   "cell_type": "code",
   "execution_count": 20,
   "metadata": {},
   "outputs": [
    {
     "data": {
      "text/html": [
       "<strong id=\"elimOneLeft\"><a class=\"ProveItLink\" href=\"_proofs_/elimOneLeft.ipynb\">elimOneLeft</a>:</strong> <a class=\"ProveItLink\" href=\"__pv_it/3fc41670bf565f215cc445c9019bffb5e2e8f5bb0/expr.ipynb\"><img src=\"data:image/png;base64,iVBORw0KGgoAAAANSUhEUgAAAKEAAAAUBAMAAAAXeEBDAAAAMFBMVEX///8QEBCIiIhmZma6urrM\n",
       "zMxUVFQiIiJERETc3Nzu7u6qqqp2dnaYmJgyMjIAAAAcRTyBAAAAAXRSTlMAQObYZgAAAipJREFU\n",
       "OMtjYMAHOC9AMAbgnoBdw04gfgBi3MVh4gooxgSZ2DWwAW06DWK8wmHiSyjeuABdZh12DVxAB84A\n",
       "ea4BuzyvARhz5eRjmMijgF3LIQYGPqBing3YpdknQDDDfQwTuQSwa1kIdMOpVaum4/D0dCjGYiLD\n",
       "E+xa+BwYGH50dNTgMFEZilFMXKQ2RQfo5cPojlbKdAJ6mQcYUKkMDJ04TOyFYmQTuQ7wFrEDw/8e\n",
       "iHPuHQg8BjHXMFxXqAN6GSjlDI4gpKTWk54EZVZDMdRELnCULOD5xQIM2+1otp9iOL/AE6i7ABj0\n",
       "DEywNMy1x/gCV8QC1jdQvggUQ01c/wBsLAc4ZcSjmbiAoQNEsX4AWnqBHSZ6Y+cqBt45DAx7sJvI\n",
       "ngAW5VfAZiIDwyeYiZwPwkDpyFQtgAUYqgyuW4FC2H0NBfEBINIdEY7PwMKsX0EkC9DXDJ0pDAxM\n",
       "C/LYHfhAQrdu4o8Z7gX6QNXQmEECu5g+MGhBYoZhM9BYVoa3DAyLwTI7EaoOQzGDPsJE/w39DHOB\n",
       "tA2qgSy/OT6AyhTmA/Bw+cnAEN7R0aEwOxShzB2KzeQfwwugZUqLbEGcp2jJMUlLGVTe8IGChHcB\n",
       "OERZGdhAUsyLoMkEORdiKRIKsCfh5TDGfJ4HPAw8IPM5bQJA2R25pMAG8JQUUL9cOXSKgaEbnPjf\n",
       "tQXAhDsZcGUoPKUZMmAChiORJS6OjMsxgYGBvFqBF4dOYNIDAO/loJcUK4yWAAAAAElFTkSuQmCC\n",
       "\" style=\"display:inline;vertical-align:middle;\" /></a><br>"
      ],
      "text/plain": [
       "elimOneLeft: forall_{x in Complexes} ((1 * x) = x)"
      ]
     },
     "execution_count": 20,
     "metadata": {},
     "output_type": "execute_result"
    }
   ],
   "source": [
    "elimOneLeft = Forall(x, Equals(Mult(one, x), x), domain=Complexes)"
   ]
  },
  {
   "cell_type": "code",
   "execution_count": 21,
   "metadata": {},
   "outputs": [
    {
     "data": {
      "text/html": [
       "<strong id=\"elimOneRight\"><a class=\"ProveItLink\" href=\"_proofs_/elimOneRight.ipynb\">elimOneRight</a>:</strong> <a class=\"ProveItLink\" href=\"__pv_it/0d31e9a49599bb29c1ae597a2ffebecaf1d746e70/expr.ipynb\"><img src=\"data:image/png;base64,iVBORw0KGgoAAAANSUhEUgAAAKEAAAAUBAMAAAAXeEBDAAAAMFBMVEX///8QEBCIiIhmZma6urrM\n",
       "zMxUVFQiIiJERETc3Nzu7u6qqqp2dnaYmJgyMjIAAAAcRTyBAAAAAXRSTlMAQObYZgAAAhJJREFU\n",
       "OMtjYMAHOC9AMAbYiUMDSPwBiHEXh4IVUIwB2CZg1wASPw1ivMJh4ksoRgHcUgwMXA+wawCJzwB5\n",
       "rgG7PK8BBKOAZcd+AclDONwAFOdbwMDAswG7NPsECEazB2TiQhwmAsV5T61aNR2H9HQoxmIinwN2\n",
       "LSDxHx0dNThMVIbiRWpTdBRQTeRBDwwupUynQxDxVAaGThwm9kIw1wHeIvYHqCbygvnn3oHAYxBz\n",
       "DcN1hTqIuDNaxHH3pCdBmdUQzLOA5xcLKDi5ECZyF6DZforh/AJPiDg7AxMsDXPtMb7AFbGA9Q2U\n",
       "LwLBXAwckMSw/gHcRNYPaCYuYOhggIrzXGCHid7YuYqBdw4Dwx5UExkY+CGhyJ6A20QGhk8wEzkf\n",
       "hIHSkalaAAsotF23AoVQfc3AEB+AHtcsBYhwfAYWZv3KABPvTGFgYFqQx+7ABxK6dRMjZrgX6AMV\n",
       "YIsZJLCL6QODFlR8M9BYVoa3DAyLwTJIhcBhCPbf0M8wFyHKBDKR+QCqgSy/OT6AyhSwOCSQfjIw\n",
       "hHd0dCjMDkUoc4fgZUqLbBEFEHPiP1tgSg5AS45JWsqg8gYszrsAHKKsDGxgDYtgqQRXLgSD5TiS\n",
       "MFx8Ps8DHgYekPmcNgHwYgBrSQEvEfCLL7ty6BQDQzc48b9rg/uokwFHhsJXmiEDJmA4ElficuAo\n",
       "cXGJE64VbuLQABQHALbbnuRyIzXQAAAAAElFTkSuQmCC\n",
       "\" style=\"display:inline;vertical-align:middle;\" /></a><br>"
      ],
      "text/plain": [
       "elimOneRight: forall_{x in Complexes} ((x * 1) = x)"
      ]
     },
     "execution_count": 21,
     "metadata": {},
     "output_type": "execute_result"
    }
   ],
   "source": [
    "elimOneRight = Forall(x, Equals(Mult(x, one), x), domain=Complexes)"
   ]
  },
  {
   "cell_type": "code",
   "execution_count": 22,
   "metadata": {},
   "outputs": [
    {
     "data": {
      "text/html": [
       "<strong id=\"elimOneAny\"><a class=\"ProveItLink\" href=\"_proofs_/elimOneAny.ipynb\">elimOneAny</a>:</strong> <a class=\"ProveItLink\" href=\"__pv_it/7fa2f8162890422f8fc53b0562bf85204a69bdfb0/expr.ipynb\"><img src=\"data:image/png;base64,iVBORw0KGgoAAAANSUhEUgAAAzMAAAAZBAMAAAD3Wm1IAAAAMFBMVEX///8QEBCIiIhmZma6urrM\n",
       "zMxUVFQiIiJERETc3Nzu7u6qqqp2dnaYmJgyMjIAAAAcRTyBAAAAAXRSTlMAQObYZgAAByVJREFU\n",
       "aN7tWn2ME0UUf9d2+7Hd7fEHUYGYFE6R+BEbSMTIoVWDxD+EopGPaHL1giEYJI3GO0Wj55loEUlW\n",
       "iYAoZoHIyaG2QS/nGZTKKUYQ0/gRgSBpIpCIBglB4x1KnDez7c5+b0uo/MHk3m277/dmZ95v5s2b\n",
       "2QL4L0u6FbhUmlNmd5fqgecueax5JZa9+KmJlZk0twzZ3NvYhOfGFSZITQVv/OyTmgRe5Ob66V1N\n",
       "zr+iy+vAhK2xW+xp7Lni87k6MEs1IdTsw+8nfFIjFckloTaVml81aWwQjue+/OLDoIoRKxZVotGV\n",
       "NpGqA/OBJoSa9Xjp8UkNBa5vKjNyiklDZeueUe7bWR8WNcxui+r7RrvQWqwDIyWZEGpwDkhFn9TQ\n",
       "6bWvqdREFCYNEstRExr1xuuYTRbdU402Yq5aB0Ycw4RQI+/t71/nOw043N+/rbnZwDpNzp8ayUfD\n",
       "dUwibU5HGu73V3VhjjLBDO3vfP4Z39S05vMvlZpKTZsmsfap472zOTOIpybR2eYZHXSMZA6iAbyx\n",
       "Znii9xQwg45PmuFpo2OGmSA1DwOs9E1NOAPR5u47V2tyu5I45Qm2gHhqCifEEa8KdIxM84BvT2Kh\n",
       "uUGUJKahcfCHd1A0gcRzasHLZxzmCBOk5k6ajQTMgySRsaMmlKLpQwNlTsW9PycdFE8zEa+EIMlB\n",
       "FrKO2OBwnGqgNh2jUUMH8S4VToPQo98weaeGoX2Pm+NXhEynTWW4GbQ67BpB7zEQcyg+Jz4KrUmP\n",
       "ljMMHCMfB5kgNREIkPEgMM6Ex7+AiXQfGmd2C9rTgcu4LWcObrAkqK8s6XTLX5naGCCsNsMO6rFM\n",
       "gqMQScJ909nYrtgMO6iCYJGOYdRQJdwK4j/CtJx+wzRhKhqG9V0wz9EWsvjcpsJjoNVh0wh2j4KY\n",
       "Q1mrKlAoebUcMQAYTDuYIDVSOaKBtg/PhI8lNVhLFnZOK8d79sItHDX7DWcCiBAXqsLvDtOUUyeK\n",
       "7ja/Oag1alp6oEDG8mw2gG0OMbqgBuIw2qzpYluW0FkI5fQbplmRrWLYILWj5goQ/wStDrtG0HsM\n",
       "pLeKbFnmFj1azjC0cNTEKvO16LpqgwqfJlNS1ebAUD/EvwtCiaPmbYGvHBHyWwA77anh1a2Ku82I\n",
       "g1oLaGRM7YIqNY4rBQM5rDX/4qwKuedZFMMibE5fa45rAY3MqPgp8KhDA3FbljJOJPeWMww72GRC\n",
       "z9BWLiZPm4yLDikDA69RajbPwHWFzO0HFiV5aqJryeARpy6ng5MiZg2QeowP2jL5mEXdMekRcLER\n",
       "Tk9WbdVaGlAowvK44kUNBd2RtafmDK4CHtRQzOYZtTSAKyQNEM9CuDLkRQ0FoUOrbk+TNdCLGsSI\n",
       "NDvk0gD4kDxJalXZadqA9P6DeE3NYQdm8czeH3lq4hgz+zIdKoRVhjh00NK4JwTikYpRfY3ahiZO\n",
       "NoEVZN0MK1a1lktGk3KXZOgghm0ap/WFg4FKHB0B7vOj8IJhxFO7Wi0chvSdRH/zHgEXy174KVvy\n",
       "qoOC0KHV47hyNOXVcooJhpCCdiaUGkwNNgyCSNfpASihM0RlD2xh1Ei1BZy2iCQwMA0WgPC5yhCf\n",
       "WA5pgykhh4mHQd0LR9DEyYZ4lQ4Ni1qb32Ln1WuvMnSQhu0uw8JBQbHtuueCD52bqc/l68vGYNRl\n",
       "qKWGwb7bZKhouXXSos60Vx0UtGFQp2/qfvBsOWK2Sag4xoRSI6vUc8KT+XwvoWZjRAskC/L5fDKe\n",
       "iZVzPDWHiEwAMl0jKkO8eb/ZzS3FAI0pBvVYuAlNHG3SQauN9aBmto80PZp0S9L97OkxiPY5H9T4\n",
       "qqPX9N1Xy8nYEXNMau9rxNEMZNmsCd2rLcthNmtgVpKnBsEjsLof/UwRwc3mdL2gRA+pO5JG9Sgh\n",
       "FKlxsGlVW4ryYRu18XjTTwcL75wvNSPux5t+6kCH1k0Npkrc8aa2kaiU4Ev88APAYVivgjAGJKxc\n",
       "ToNcMlED44QzZfQzRcTaM7A79jIxov/IX4vScQ98lDKqV8g9lBoHm4h6AF7v49XVh60E7rhi0EcH\n",
       "P5Pcdlk+3CqMsX0pUDsG8VMHOtRQ/LR8nvGlgEbyMgWiJD8IPZsmA3deEQJkx7sKyT4KkDVTc9d1\n",
       "bZQaioD3Tr6YESbAPEUYR/4R41Dnjpl4pGNQz/+GxkAnG2FZieWINXX1YfyrtDXPdfp4E/C1yyHb\n",
       "9L+SnhVg36POr9J81YEONZyr+Wn5FG4kGl9AT8lXA2SRBuwACfumgxp+e6XyiLiuYFunvpBVTalx\n",
       "sdkH1of+Dy+gse8Hbe5f8BfQxP2ywsTptwFxZfGrqu3xJjfrbzQcpw5xxiwdvNaiNplYbU7AxVBs\n",
       "+96EEr6bPzV3oEaGZUvBgxpTKXPGrmpnm9gblYuCGtu+N4OaPYo3NQ6l+8L+Dk0evvQzNz2h687+\n",
       "B3oIeTzhSsJrAAAAAElFTkSuQmCC\n",
       "\" style=\"display:inline;vertical-align:middle;\" /></a><br>"
      ],
      "text/plain": [
       "elimOneAny: forall_{i in Naturals, j in Naturals} [forall_{a_{1} in Complexes, ..a_{_a} in Complexes.., a_{i} in Complexes, b_{1} in Complexes, ..b_{_a} in Complexes.., b_{j} in Complexes} ((a_{1} * ..a_{_a}.. * a_{i} * 1 * b_{1} * ..b_{_a}.. * b_{j}) = (a_{1} * ..a_{_a}.. * a_{i} * b_{1} * ..b_{_a}.. * b_{j}))]"
      ]
     },
     "execution_count": 22,
     "metadata": {},
     "output_type": "execute_result"
    }
   ],
   "source": [
    "elimOneAny = \\\n",
    "    Forall((i, j), \n",
    "           Forall((a_1_to_i, b_1_to_j), \n",
    "                  Equals(Mult(a_1_to_i, one, b_1_to_j), \n",
    "                         Mult(a_1_to_i, b_1_to_j)), \n",
    "                  domain=Complexes),\n",
    "           domain=Naturals)"
   ]
  },
  {
   "cell_type": "code",
   "execution_count": 23,
   "metadata": {},
   "outputs": [
    {
     "data": {
      "text/html": [
       "<strong id=\"multZeroLeft\"><a class=\"ProveItLink\" href=\"_proofs_/multZeroLeft.ipynb\">multZeroLeft</a>:</strong> <a class=\"ProveItLink\" href=\"__pv_it/c08743b8e91b3cd5acf6ecd18abd024cc9aedbb70/expr.ipynb\"><img src=\"data:image/png;base64,iVBORw0KGgoAAAANSUhEUgAAAJ8AAAAUBAMAAABhQvLIAAAAMFBMVEX///8QEBCIiIhmZma6urrM\n",
       "zMxUVFQiIiJERETc3Nzu7u6qqqp2dnaYmJgyMjIAAAAcRTyBAAAAAXRSTlMAQObYZgAAAjtJREFU\n",
       "OMuNlU1oE0EUx/+ku91ks5v2oPelhR4KQkC8eSiKlJ66Fz9uDcUiXqRXqUhPZYMKvVWokK2FVkKh\n",
       "C+KhUmhY8RKhRhC0ohgQBL9KqChqe3De7GRjZmeDAy/M/ubln31fE6DXyjUiS6wttT/hJm3epQg+\n",
       "iMw68VQ66F9M+IZvXY6f0cPnFMFPkX3BuiRgNmXXQmBe5/guRTav1rOL3OxBWLJAKPu+AHY5Lvgs\n",
       "pEAtaCxyy5aQ/yMdrci+C8COT9iuV6tLKREvRTZQgnYoRzgmgZ/AZMDxL8+7kSI4HNlmEdpBnL2h\n",
       "q2dYYFZRSup3JuhwPAOUUwTvRFapQY8FN/DKuckC40nd3af1gcpwBEw5HJ+VSpa/fWVabOciqxSh\n",
       "H9FbEKvjuT/BvGaljmVvOFXj2ECm3brm9smGecnXv4rnY5G1Q96kH/bh0ZHeUoZM2GoYbfp6qwr7\n",
       "HrDdLciKkqeiGCVOD1SCVJSdgONc8wL11akRV6NEn3vEUHfI2XnYnbbRf9CnNtvJ4Ufasvd+70e4\n",
       "fBnI+NeMsQIdvNlLFKWrsR9nWhhtFyXR2Bw/ZKo6vgGr/Av/zP0TYXNYcQXSDrMtui76avIQBOZx\n",
       "gQccAr+Bi57nOcvnO07jwjaGZuLkT48O01VScCVBMxxxBbZ9nmQd/XTQd1/0R2f0VGsdvXHFalqw\n",
       "SD532o0nX1wOqhWiN157GdaBW3wU9hficMpIGaPk9aXEGZZD1QWbXFl1IlLwf/wF7Kn9Gf4LYK2v\n",
       "laO+YRYAAAAASUVORK5CYII=\n",
       "\" style=\"display:inline;vertical-align:middle;\" /></a><br>"
      ],
      "text/plain": [
       "multZeroLeft: forall_{x in Complexes} ((0 * x) = 0)"
      ]
     },
     "execution_count": 23,
     "metadata": {},
     "output_type": "execute_result"
    }
   ],
   "source": [
    "multZeroLeft = Forall(x, Equals(Mult(zero, x), zero), domain=Complexes)"
   ]
  },
  {
   "cell_type": "code",
   "execution_count": 24,
   "metadata": {},
   "outputs": [
    {
     "data": {
      "text/html": [
       "<strong id=\"multZeroRight\"><a class=\"ProveItLink\" href=\"_proofs_/multZeroRight.ipynb\">multZeroRight</a>:</strong> <a class=\"ProveItLink\" href=\"__pv_it/c393d43f9bcb8b2510ba76d3311dbcd6d6a0107a0/expr.ipynb\"><img src=\"data:image/png;base64,iVBORw0KGgoAAAANSUhEUgAAAJ8AAAAUBAMAAABhQvLIAAAAMFBMVEX///8QEBCIiIhmZma6urrM\n",
       "zMxUVFQiIiJERETc3Nzu7u6qqqp2dnaYmJgyMjIAAAAcRTyBAAAAAXRSTlMAQObYZgAAAglJREFU\n",
       "OMuNlU9oE0EUxj/SbLeZ7G4v7T1YyEloQbwpFKR47F6qvUWK4k1Kb2IPnsoGFXsQKljpNoUqQXCh\n",
       "eIgEEuItQojQQ1sqLhQKLVoKgqh4cF5nk/2TmbQPPpj5zcxj35s3b4F+lmkL9VhFvp+wT4OvCodv\n",
       "A8WssW9jcBkq/JkmxwqHR4GiZnnsIZgPFX5JkT2W+zMnhGL2BWjx74EKWy5geHKH+rJQzJaAmot1\n",
       "qLDZLJdXFBGvBIrZL2DagzWpxL8dZ1HhcCxQKf/ici5g7Cc/mYORyEQE3wOKCofPhFjdXNA7t5D5\n",
       "BxRyMM/mrROygzi+kbiy7NP7c8HwkZDhGn/TlEpGJ/mnFOrIzicqNsQ6Up3SZdUrbTbrat+D+YgQ\n",
       "w5Aog/d+NzbtVBoyYaOtd+hOpQxzFajGHQLDIoP6HZH9mtfjMIIz/i2q86t5O02JnvrAUTxkHowd\n",
       "nnSAby7S82EODxO4eBdIuQ/0SYsW9nZ7LiXrjvMN8Qo2fWlhn+Et7lXDD2CDFj5G3v0noWnvOV6H\n",
       "1e6xUWCgnnwEIRYJ+gPcdhwn92om3HRTaPNS6XrYclgjzxNg2QmHEWxSNNqphkFaGCiJ8lA+PWFv\n",
       "0B+vGb4Bg9xnrtndly9tDkGzQn+8ud1oAk9o+O5kqRtOEYpn1Nu+pDjFc3h+gyUbkidCgS/wC9iV\n",
       "7+f4P15yr3d25BTNAAAAAElFTkSuQmCC\n",
       "\" style=\"display:inline;vertical-align:middle;\" /></a><br>"
      ],
      "text/plain": [
       "multZeroRight: forall_{x in Complexes} ((x * 0) = 0)"
      ]
     },
     "execution_count": 24,
     "metadata": {},
     "output_type": "execute_result"
    }
   ],
   "source": [
    "multZeroRight = Forall(x, Equals(Mult(x, zero), zero), domain=Complexes)"
   ]
  },
  {
   "cell_type": "code",
   "execution_count": 25,
   "metadata": {},
   "outputs": [
    {
     "data": {
      "text/html": [
       "<strong id=\"multZeroAny\"><a class=\"ProveItLink\" href=\"_proofs_/multZeroAny.ipynb\">multZeroAny</a>:</strong> <a class=\"ProveItLink\" href=\"__pv_it/73a0d95a6e5df8327729f51c9d72b84fe65295aa0/expr.ipynb\"><img src=\"data:image/png;base64,iVBORw0KGgoAAAANSUhEUgAAAmoAAAAZBAMAAABz1R8KAAAAMFBMVEX///8QEBCIiIhmZma6urrM\n",
       "zMxUVFQiIiJERETc3Nzu7u6qqqp2dnaYmJgyMjIAAAAcRTyBAAAAAXRSTlMAQObYZgAABklJREFU\n",
       "WMPtWWtsFFUUPu3udHfn0frDVzUmA2hjVOKG/sBA0RqD/FIXjBYCsZuGhmgq2WhstRJtMMEFJFkl\n",
       "LhUfDBAtFrEbtIEaTNdW+AGRrEYjJRg3QY1SU5uCxBY03nPvvO7szO6wxg0k3OTO455z5s755tzz\n",
       "uANwCW1NVwqutmDXukviT1yFjLb0FYBaJMd6ZdtQkeE05PH0g1/UavGkVFaFPXovq8lzD1sPusHH\n",
       "ZAZPTaEzGjkVY8NpOIb3Z/yiJmfIqVarKGq/6b2sNg59lvqnfQgYPGLeSanNiC+w4TT04hro8Ysa\n",
       "5eytKGhKlPXyhK8B2VL/gg8Jk2fESfka4DgbTlPDoRbkz6+hVR6rKGqhFOtltXAcpBkz+M34CJAm\n",
       "z04naQPAsEaH06Ac7e/f5j8anOrv/7CyQWGb3stqdXEImtYj+3hxi6e22UE6D/BIhg6TGPpXMrnO\n",
       "P2p1yeSr2YqiNkfvkaZ5N5Xm3jo6y+51B6IQnDJxaJtTclFZPLLDK4hnCWoqHSaotQNs9I9aTQzC\n",
       "lU11t+j9/lTtZOkFVg9/2O93ZEEwURs4I06XeoDFo1B/eHwCG4aIyEWAVpUOE9QeoHGh2ulva2Ou\n",
       "qAWj8HGZKfVEeeQXWRdvgQAJRcvZd3fhoya2Mwf36MpQnh1REC4aN8QrTYHQY3E7jMnkocpLjvUc\n",
       "IbbWmqXDBLUQVJP8S2AGJDz7JcyK45XEeFuamquvt2e5CZhbMN/BI51qEUB08mhxGY4svbamTb+8\n",
       "lvXADIRUeHQ+s4h8oc7/4PE+DZ7RlaE8xgqlN/eCeFFoTFjcDjMzeJjywqTrCsVhgpqcC+nje0cX\n",
       "wUFZCxjfQTzUmJN6jsICO2pf8RUCyry/CZ7w8HV28nhxmXHbrOJyTfidR62qBwaIBSxhcTVeOFUn\n",
       "Hm4E8U8j9sZZNJAuGDenMTIEExa3I1ibPMyAJgujwXDGQC2Sf1xfyJu3a/C5GpUNthND/SB9E4Cs\n",
       "HbX3BPsbU5kxYrfuqHHk6eIy07ZZlXcADvErdCALw2Cg5tWInUicsuEeUMxc4m802GDxQEp5mMtI\n",
       "WH7tF7xMAvyo0WGsQzeuJiwN6OBIGxx8g6K2ayG6MGKrK1eoHGrhNAm94ry1zO2hTHAlueYjxO6G\n",
       "nwvIwlSDVkTGINNZFw+Sr8lHg4EMrJVSpVC7ADX5IVTGLcs9h26vBGqUhyhvRIOCLFePBvAJeY5c\n",
       "p7GKdFDetwrP0YdZzSnFjn7HoSahZ+mLtWpQQ7REGWWfM6iKzwkzlGYnV3cTJ/0UeMlQMqny6Kwn\n",
       "x3h/R3pYVTplztaY48pzTmo9fB/PojJWLNlphrWn4RWwo0blzKfYeIjyxJE6l08oI17HhhG1OuKV\n",
       "tx8AkUbRQcjia4qpI7CboSZbiQudEJ1rI7SA8IXGZKS9TgQCUSGBYYojE7Xzq0jG5SGDZGqmePjM\n",
       "tuOwhHWx7bb0rRxq1A/Rg+WkPpi9oq2ZKGO2j2a3WyvgrhyHGpWznmLyoPIuSYQ40hBjw4iaotGP\n",
       "JDyfTK4nqL0b0hdGSzKZVKVYJJfgUDtJ+s1AFkFIYzKRQefzqzLV9DU4clVzIA7d4CmDZAzaOOvb\n",
       "j3lVVEv8JDnri2U4fiob9Ap97qQ+2/6aOBODOLO14DLdOdcwW4PFqnN/jSSCW/oRNSazQHXkPwOp\n",
       "8Eltv8qT67SqDKLmIYNk5RSwWQO7rJyMr979oIbK/DfUpt2qd6uoN1CT8lmgG1HfklITeokVETeK\n",
       "cyvNoGQLdiXrhXM5ihqV2XoYZLVXi2wC/VCVan0IPo3y5JB2Aihq7jJIfpN8SDprpClmvfVGsFUv\n",
       "B3zojMp4E32gRpR32SmyNpBMW+tIQZgUYMGXmsnXXpqBapJCb8Zv+5NuHBxqD945h6GGMiAe/7Wd\n",
       "yAj1sDSFh0ywbf8irL14ckeWoeYuQ8kYXjdTdzSxIea2K7n15TYfttbhXfNF5p9XSz4AlfeoG8Mp\n",
       "5w747UnDIWSIcybCxMMU2QFH1DgZ4K76gi7kbigqg3tQBbNWfgcclR9zJ415/zeQUqtf10r9NxDu\n",
       "XsjLOK5q7igkLzubKSpzBi6H5q68rbmjpkDHk1AKtQKZwitXsrdM5K38ZYGau/IlUfNqXf/v/1Bl\n",
       "9Ir43Rrs6vwXEdkmrQrDwuYAAAAASUVORK5CYII=\n",
       "\" style=\"display:inline;vertical-align:middle;\" /></a><br>"
      ],
      "text/plain": [
       "multZeroAny: forall_{i in Naturals, j in Naturals} [forall_{a_{1} in Complexes, ..a_{_a} in Complexes.., a_{i} in Complexes, b_{1} in Complexes, ..b_{_a} in Complexes.., b_{j} in Complexes} ((a_{1} * ..a_{_a}.. * a_{i} * 0 * b_{1} * ..b_{_a}.. * b_{j}) = 0)]"
      ]
     },
     "execution_count": 25,
     "metadata": {},
     "output_type": "execute_result"
    }
   ],
   "source": [
    "multZeroAny = \\\n",
    "    Forall((i, j), \n",
    "           Forall((a_1_to_i, b_1_to_j), \n",
    "                  Equals(Mult(a_1_to_i, zero, b_1_to_j), zero), \n",
    "                  domain=Complexes),\n",
    "           domain=Naturals)"
   ]
  },
  {
   "cell_type": "code",
   "execution_count": 26,
   "metadata": {},
   "outputs": [
    {
     "data": {
      "text/html": [
       "<strong id=\"multNegLeft\"><a class=\"ProveItLink\" href=\"_proofs_/multNegLeft.ipynb\">multNegLeft</a>:</strong> <a class=\"ProveItLink\" href=\"__pv_it/f5e6d594ace1c6ae1214aa35c9b31cec870bcad00/expr.ipynb\"><img src=\"data:image/png;base64,iVBORw0KGgoAAAANSUhEUgAAATMAAAAVBAMAAADY9BTyAAAAMFBMVEX///8QEBCIiIhmZma6urrM\n",
       "zMxUVFQiIiJERETc3Nzu7u6qqqp2dnaYmJgyMjIAAAAcRTyBAAAAAXRSTlMAQObYZgAAA1VJREFU\n",
       "SMfFVk1oE0EYfU033WSbpEU86WVtoIcitCj1VGusSPEg2Ys/t4agSEFK8CBoVYKHkvobQahQxbWK\n",
       "P6XYgoik9BDSWxUMKGgFZQ96ULQEUbAVxZnN7s7MsjEbLz54m+5jv5nX+b5vZoDGEC4z8mjNo44A\n",
       "d9ANr/ELHA0qvPVt7T5HAcN1BVeQkvUavyXP+JQKn3xb+8hRwMO6gisolvcaXzEYr9GFzvp1Fu1h\n",
       "FBFR6wmuoBfeM5QYYzoZZc6vNTnP6Pp32+sJrqAT3jPcYowuTU9P+M7nBEcX3tcVhKBwxnuGWILx\n",
       "Ry53yre1OEcbU51XN5PkLTJhC8IbeIELdhAg2VU6hgdKzirHVVzRESG6zcPAuG9rFznaQxajx2RS\n",
       "tO8cpbgTgYolRFZM9EAMAkJkI5nBK/WMU5tSO7pJFg3GXWY3cBvShSNp1xbFlFGO9pB6ZE0iVfTE\n",
       "9ElTNdePUNYSeIwKhUfqewnP9T30hdQ7JpsN5MhkGUYZAXsnVBa2lpWDevAzWxKXsp5Rqa6Hppg+\n",
       "gCH6mKV9j3VoUy2BBxcENCWoo1x1lt/UXpOKr0Cwwhgpy3bs68I0oteBBdRSOGsMbapjTU6Rh7SG\n",
       "Ic3bGgO1BuqF4jh9JPXgd9Fa2NhPt5HeTk2iFbH7MZHI70AKJyEoNRIK0wcw6LyTzGyyBavWUp4J\n",
       "BfXioB8Bst9IGUaMHyL9oo/IiRj94M2yVctrwXYISo02aNW7STjfBqEUxsALXLDQBvOkW7ocZYwG\n",
       "Cm2AR8RfEF+A2/SD+UJ127mTCWQFxcQiRwvJucvmSd3HVi0l/RIELph1Tw+kn6EKd+JvQ5K8NBcZ\n",
       "rVJZBQ7kcjl1cp81frFFFRU7a4NC9nC3Y2o7Hf8D6510fFUQuGAHJGFKuiv+lh9oB2n0mMaIKG3d\n",
       "YCWIFtPSVHULkBNNmqjUOaj43b3ZcAn+Dqp+wnscTdyMGBFEqNFwn4ZS+BxkLQlOaeR4H8FsovHj\n",
       "vcVQvonHu7WYL0tLwHn658zKmBbcCCl9CZxifzjOsdYd6DTOel+KhKCQa+HlckgVL0XCuUYqy2o7\n",
       "PDAbiin1rpLctANxDZ6n31+vklJHr2XYpjcKOCoZjVzAo+6hov92AV/m6I0y9j7Df8YfO2kjQRAE\n",
       "+aAAAAAASUVORK5CYII=\n",
       "\" style=\"display:inline;vertical-align:middle;\" /></a><br>"
      ],
      "text/plain": [
       "multNegLeft: forall_{x in Complexes, y in Complexes} (((-x) * y) = (-(x * y)))"
      ]
     },
     "execution_count": 26,
     "metadata": {},
     "output_type": "execute_result"
    }
   ],
   "source": [
    "multNegLeft = Forall((x, y), Equals(Mult(Neg(x), y), Neg(Mult(x, y))), domain=Complexes)"
   ]
  },
  {
   "cell_type": "code",
   "execution_count": 27,
   "metadata": {},
   "outputs": [
    {
     "data": {
      "text/html": [
       "<strong id=\"multNegRight\"><a class=\"ProveItLink\" href=\"_proofs_/multNegRight.ipynb\">multNegRight</a>:</strong> <a class=\"ProveItLink\" href=\"__pv_it/4eed258dab5dc947ba9209b225f2ef42e2bfda390/expr.ipynb\"><img src=\"data:image/png;base64,iVBORw0KGgoAAAANSUhEUgAAATMAAAAVBAMAAADY9BTyAAAAMFBMVEX///8QEBCIiIhmZma6urrM\n",
       "zMxUVFQiIiJERETc3Nzu7u6qqqp2dnaYmJgyMjIAAAAcRTyBAAAAAXRSTlMAQObYZgAAA2ZJREFU\n",
       "SMfFVk1oE0EU/ppu/rabWMSTXmICPRShRamnWmtFigfpXvy5NRRFClKCB0GrUjyUxN8KQoUqrlWq\n",
       "llILIpLSQ4i3KhhQ0ArKHuxB0RKKglYUZ3ZmMzP5qWsvfvBls4/5Zt7Oe2/eAP+GcIFRxU31tWGE\n",
       "sZq4poghK9GmhneeXbvPqUAfKjP0c1YR1xY5CIwIPqOGT55d+8ipIFq+Q9OcVcS1RcxhW/A63egh\n",
       "r55FWhlVvCw3GDHGSvEqIoa8YNQis8x4dS04wqjiZMW3NzJWilcRMdwWjMxPTo56jucop5rdqYpx\n",
       "HzgrxKuJWJw7Bb+n06c9u5bgHG+6tqUUMJ8UqPGtCG8EnoKxQgxZpMf7u/KlnU7EcNWCQewujwAZ\n",
       "z65dYtRzkeNB2zWGpDMhtwu+IvAejDCWHLS6YsiiKbyOnS3lp9aIFhJFW3C3Uw3SoXTxaF/ZMSUs\n",
       "g4yGZaxoNHMsJ4dEqoZnOhAiRfUEjAoGlcQjonm8sPaCTzNWbyNNFksJBuFzv1qf21bQD1n+zyKf\n",
       "yywbGHVnffL8TX/rSFpMO5uzqGM91pFI94JRARWyTTSZyKK+uNNYdTEsA/6ioFEIuto32UlEbgBz\n",
       "qGXhrsFZn+CE65oLbQW9Zm3XBJhoGWKaHsv/TXUtbB+gx0hbk6nRjNjzmJjIsyuJU1AsUkDhrC/H\n",
       "xgWJymby6OZ0cy1ZNaCgvpTQAR85b7SUIDKHSb1YA8HOKB3wdoHn84q/EYpFKoMGq4VIqpVBKIlh\n",
       "SGVQXkNKGcySimkuWYapWCkDPCL++fEFuEMHzGZZPt9N+YYUiwN+KPTMXJG6syEdHvVJ7Rd5tHMq\n",
       "UE4TItJ+hopSx9+OHvJSnxPkafMDOJhOp2Nj+/kauUBMtUAEaiI+vkPMqUmnp96XIDNhkVNBt/xC\n",
       "RHpfc0K6WEzEd5Kij5qCiNDI+It+BByXxmkBklzorDNVi8dGVU+bc4rxHxtVB+E9iQ5uGbYBgzoa\n",
       "bjeRD59H0OyBZPHa3gfwsHNt7T1g61/V9s4381V+HrhA/04tDZv+TdD6LkOyuAMzqNI8QmI7zuBc\n",
       "7UtRpoaI7WkhFFMvRUpfI5nFGwAeOAUlLB6vkl0Js9YH/OUqqcXbuMMuqyOLY5q95gt4ZIRxDRfw\n",
       "BYnVUcC+5/jP+AONTySppx8qGgAAAABJRU5ErkJggg==\n",
       "\" style=\"display:inline;vertical-align:middle;\" /></a><br>"
      ],
      "text/plain": [
       "multNegRight: forall_{x in Complexes, y in Complexes} ((x * (-y)) = (-(x * y)))"
      ]
     },
     "execution_count": 27,
     "metadata": {},
     "output_type": "execute_result"
    }
   ],
   "source": [
    "multNegRight = Forall((x, y), Equals(Mult(x, Neg(y)), Neg(Mult(x, y))), domain=Complexes)"
   ]
  },
  {
   "cell_type": "code",
   "execution_count": 28,
   "metadata": {},
   "outputs": [
    {
     "data": {
      "text/html": [
       "<strong id=\"multNegLeftDouble\"><a class=\"ProveItLink\" href=\"_proofs_/multNegLeftDouble.ipynb\">multNegLeftDouble</a>:</strong> <a class=\"ProveItLink\" href=\"__pv_it/1a0bd066d6a13aa3714da62ca993289cbafd721d0/expr.ipynb\"><img src=\"data:image/png;base64,iVBORw0KGgoAAAANSUhEUgAAATMAAAAVBAMAAADY9BTyAAAAMFBMVEX///8QEBCIiIhmZma6urrM\n",
       "zMxUVFQiIiJERETc3Nzu7u6qqqp2dnaYmJgyMjIAAAAcRTyBAAAAAXRSTlMAQObYZgAAA29JREFU\n",
       "SMfFVktoE0EY/ppuXtukLeJJL2sDPRShRamnWmNFigfJXnzcWoIiBSnBg+CT4KGkPiMIFaq4VvFR\n",
       "igZESksPIb1V0YCCVqgsaAVFSxAFW1Gc2Znd2d1sYNuLH3xp58v8k29m/n9mgNUhWmYUuMlpR0Pe\n",
       "Q6gSPQINTHHqtLHg29oDTgtyltGJAS+hSvQIpAjlGZ/Rxhff1j5zWmjMMzrxyEuoEj0CDcM643W6\n",
       "S1m/zuIdjAKvOJ2IKR5ClegRaKDE2KiRmIJfa+E8o8AJTtfEmz2EKtEj0MBtxvjc+PiI7/0c4RRl\n",
       "kWF046OX4Ba9Ao19TjL+yuVO+7aW4LQQ6GC0MNZ6bTPZuFkhbEF0AxNmXaPRQLlloKdkrW1CwVUN\n",
       "MaJTHgaGfVu7xGkhUma0Bi/Gj4VJCr+3lOJOBCpMMMQXSxQfzOAJvFHOWhkpNaOd7KTOuMuoBtsR\n",
       "dPFI2nUoCeUUp0i+AqM1uBZbkUgyTtKGRjet0I1IlgmT7swlgXN4qe0xO4/W68iRH8wwhhEwZy3P\n",
       "bC3LB7XgV7EILmU9o2zMfEkF6pKMpiIbPoA+GvyXfmAdmhQm9Lms0UCNejE7a3UKvgPBCmOsHDa7\n",
       "vp0aR/wGMINaCrfmHJ1SoEkxreE4/ZBW0KfWtgbqxeqc0oI/hbWovp8eI52tqkTTefdTIpG/Pf04\n",
       "CYfia0Nh+AB6rTbZo01c6BW59skMBvVioRsBcsJIGUYMHyK1og2Gk430y3fzPHtXgs1wKL7KoEFr\n",
       "J4PZyyDSjyHYysAVPE1qpM1Shmh3qwzwhPgL4htwh345PcWOnLuZQNahGKg6Asw6N5EqXDHu7C6x\n",
       "av3SHy50ua+IDki/IxXbc2EbUqRRX2TkybEMHMjlcsroPj5iMaQ4Fdi3xYS19hz3Wsa2019aFJWU\n",
       "TixzYdFljQTK6bbEgj18B72TVUbEadkGK0GEDEtjtKpIHiTrVKeyqovKfs7X60yQMz4uqm7C+5wG\n",
       "bsX0GGLUaLRLRSl6HmE1BZuy9ut9EI+Tfq/3kC7/ENc7X8jXpTngAv13YmlIDW6ElL4Mm2J2HIbr\n",
       "8ojkGWs+is7gXM1HkTswXI4o4lHkuNNIZvFCw0OjEoWyuqekzX1PQvWakudTUmrprDlb8QY+Kulr\n",
       "f4DH8x5C3O8DfJ7TG2XsfY7/jH8l6SMypyAj+gAAAABJRU5ErkJggg==\n",
       "\" style=\"display:inline;vertical-align:middle;\" /></a><br>"
      ],
      "text/plain": [
       "multNegLeftDouble: forall_{x in Complexes, y in Complexes} ((-((-x) * y)) = (x * y))"
      ]
     },
     "execution_count": 28,
     "metadata": {},
     "output_type": "execute_result"
    }
   ],
   "source": [
    "multNegLeftDouble = Forall((x, y), Equals(Neg(Mult(Neg(x), y)), Mult(x, y)), domain=Complexes)"
   ]
  },
  {
   "cell_type": "code",
   "execution_count": 29,
   "metadata": {},
   "outputs": [
    {
     "data": {
      "text/html": [
       "<strong id=\"multNegRightDouble\"><a class=\"ProveItLink\" href=\"_proofs_/multNegRightDouble.ipynb\">multNegRightDouble</a>:</strong> <a class=\"ProveItLink\" href=\"__pv_it/564f83afda52f72e5e973d6f2def3924e242aae00/expr.ipynb\"><img src=\"data:image/png;base64,iVBORw0KGgoAAAANSUhEUgAAATMAAAAVBAMAAADY9BTyAAAAMFBMVEX///8QEBCIiIhmZma6urrM\n",
       "zMxUVFQiIiJERETc3Nzu7u6qqqp2dnaYmJgyMjIAAAAcRTyBAAAAAXRSTlMAQObYZgAAAyFJREFU\n",
       "SMfFVk1oE0EU/ppm89dN7MGbl9CCh14UpJ5KDRURD9Jc/LlZiiIFkZ6EqkhPJfWPeKpQi1uVVksR\n",
       "QURSeijxVkUDFbRCJeAPKFqCKFQFcd7O7M5MMkm3RfCDL8m+976dt3nz5i2wMcRLnBITphAVBcaW\n",
       "PGc1JkxrFATLdLESOLW7gj4Sw6YQFRFKaUBQR63YExCf0sXnwKl9EvSRyptCtPXp6e8L6kjlTWuQ\n",
       "gHidSjAcNLPkTk6JJVOIjiKjnebUsWRepciZcpjmQdDUonlOiSFTiI5J+idaOXUMmVeZ5EwuzsyM\n",
       "Ba7nmKDc84OmkKqyZdjHe8HGYikgruVy5wOn1i7oI8TKl2gb6ClqId6maU/jmgObSvxEsKFYERBP\n",
       "AKOBU7si6CPGTopZvEpf0EIE7HArdrDCUB+8FcTzVcI7o1gREPfyFvLRcvlkv56PYjknKHcW26aL\n",
       "eOEcoAsHunu8uYwc01PdHgs2FCsCYhQh74xMzO8qJY461hdZkirLVs6E++SrWaApQzfN8eA/0N1O\n",
       "UxrfAKvCzMcEVdSIFQHRLkW90NeFGSRvAPOoZxGp6XcH3Y5wBlXuXsf6sU5qulgKiPHyYTpGOrdn\n",
       "w7Rd9z1iJvbd04ez0Cx1Cwq6nQ/V3Y0QOzDCVND9gmKvfTSLpcAVjR5nveKcjmZS5HyzzIMWflmt\n",
       "0Cx122AuVEGHqQ0wglhfdRs0FEuBK3rI8rPwFbhNzrkCP3LuDIaGNYuLmiOA9Xj4d6yijHTVvRu9\n",
       "zNG8wH52CTYWS4Er2uLOj5/AkVwulx4/xIOaFyJp3QK1LB7Y/57o72hf0UM8TLXtYbMhxdoFHwQb\n",
       "i6XAFSWpba2KhYib0i3WLbQPMk1Z3bKpQdXNOE0NOMi57qDyBNOe4aZdtmFTovGuLIrxi4hme6FY\n",
       "NjXeI+XE9w2Nd0XgT4ipl8VF4BL9nF0dyVrbEO6/CsXiBY6ianjEaqa5dEdLsXTDl6JqsRToY4D1\n",
       "KdtZYgDgnttq0rKZV8lwW6e3fs0jGcVSEMvXm5UFnAqX/9ELOJ09yTxnoBfwZUEzSjj4DP8ZfwGZ\n",
       "xScBBiEX3gAAAABJRU5ErkJggg==\n",
       "\" style=\"display:inline;vertical-align:middle;\" /></a><br>"
      ],
      "text/plain": [
       "multNegRightDouble: forall_{x in Complexes, y in Complexes} ((-(x * (-y))) = (x * y))"
      ]
     },
     "execution_count": 29,
     "metadata": {},
     "output_type": "execute_result"
    }
   ],
   "source": [
    "multNegRightDouble = Forall((x, y), Equals(Neg(Mult(x, Neg(y))), Mult(x, y)), domain=Complexes)"
   ]
  },
  {
   "cell_type": "code",
   "execution_count": 30,
   "metadata": {},
   "outputs": [
    {
     "data": {
      "text/html": [
       "<strong id=\"multNegAny\"><a class=\"ProveItLink\" href=\"_proofs_/multNegAny.ipynb\">multNegAny</a>:</strong> <a class=\"ProveItLink\" href=\"__pv_it/453f9b49e884cb5029038f0d94122af32a1d29ab0/expr.ipynb\"><img src=\"data:image/png;base64,iVBORw0KGgoAAAANSUhEUgAAA7AAAAAZBAMAAAD6aN9KAAAAMFBMVEX///8QEBCIiIhmZma6urrM\n",
       "zMxUVFQiIiJERETc3Nzu7u6qqqp2dnaYmJgyMjIAAAAcRTyBAAAAAXRSTlMAQObYZgAACCZJREFU\n",
       "aN7tWntsFEUY/9q77d3t3l35gyiPmBytIEGJlxKBQJGqwcY/hKtGHsHYSwMhKJKLj1aFaK2JHiDm\n",
       "tLEgillooFLEu6BNqUE5W8HIw1xQoyVALgGMEoPEoLEFifPYx+zu3O12RVsSJvft7e588z32N/PN\n",
       "N7ML4LysaErBjXI9FG/T2qGwJ248seumtF2HwAZylNyVrcbLHpdipBTfsIKK/vvSwxACNo//TjkE\n",
       "Noz/QrnhBfYDhVwVsVk/fRn11DK3s8tKvmE8RUN072aXDbErKiFgj+B75x0CG8ygv7A8vMD+opCr\n",
       "EmaADEfR88+7FPQR3zCuoqGVM277bF4nBOxmHEOaHQJLGDcPL66hKCV35VvmvBx3016XgoIRnmF8\n",
       "RUMrl9027GWojYw/MhAdzbF4aB8ZXmB9KUruyvPM+QIcera5HR+jeIbxFQ0tox1023IbQ20QOtzZ\n",
       "uclx8nSys3PXMOdQmxRyl3ixxn9FQmaNS1FneYbxFQ0tFLhuiV1RCWXFfyWTax0DW55MvpYdXmAr\n",
       "FQpUV42z527tm8CmBKVsuPypYjZ6jsyd3oqYfbxTefp4hhkVmZQX6GsmP8INlXoADVZMtO8JKg92\n",
       "RSUE7HKAdY6BLYuBf5h3KTYqdE8qfNE+ro2F39hrP5PRi1fldApCeva0KeO3TaV0ntPkWV4gJaoa\n",
       "ZlBkVs4vZj/S58UBDfQ18IZtx9B4sCsqIWDvI2lUqTkdCcd4wHqjvHTQSZmfv0bArqEk3gIelMot\n",
       "phhx+MhY2ZaDmYpzhMfHZBPSIJRHQEpo7ddCWcZOIOGBc+ism2eYPuFmVOVCs97aNE2TA/WjUuM5\n",
       "IMPv6rkvC0/YCSA8BC7sikoIWB+Uot4l0HEoPP0lTIgTt2nbRdU1pTcxGxQJmGpZq7++oqHYUp5W\n",
       "6yFv36HGCLgTgstoSp5B8EXg4Rm0l1t7jXgVH+fK8JTiHOEpQdOPSEdZzJOHdBaEi2qdB2ctNgI9\n",
       "NLPB3aPezDBaF00VEeXCtIRujrGoWpEfsETjuRvEK4z5tgLmyipc2BWVELDBnE/h2903B/YFZY/a\n",
       "N8T903JS82GYxQB7zLD/hDnExbLwa4HMkakOZxQNO9bDY1lwJ4QBtqQZ0ugB1tLxEbe2a8SHMSD+\n",
       "oY6huAIss4xdkKHA0joyMooLLNEXhjxg9YIVUeXehG6OKY1WtKZjrMlnwHtZNx9sBYzRLk3ABvIL\n",
       "lRC9YYsMn0WiQZXxx55OkI57IMsA+77Auow5Qu8B7OdjwlaXpxQN/VmQsuBOCBOK0WA7oOFQcE1y\n",
       "BaSL5gipLWNzuLd7tY6azoKtwLRueS0zx8Z5oVhR7k3YSTxguPG3GhaI+WAngPKAyqgS3itetwyd\n",
       "T8KTLSpdXW8RYLfPxvMpGuJLl0RYYP1tOJhVrSadjHDM60Kdw6isfdI5S3V9xeNEg3cpapqi+SUU\n",
       "ExKsiHCrleQpnYHVUsoO2MtQlu/BznGSp/IaNL8xyRMCGsXY4gIJj0jS1tO8rI5VRJXbAkv8uFcf\n",
       "Lpfw3KyBjGKsjQDCg+CyJE/wMWoYLJfprnFXcM+j+D86n24MS7HD37PASngO6ojVy1AmU44T/ZbH\n",
       "+ayA+lzeWH2bXEk0hPYoWbWvpg7LKCQEnhFG4W1PS3UfJX8k1Bg0DDAy4+ADMx21wA/xLHYO9BWB\n",
       "trea86MrjzYGPXFoj5kFEln6jEt4PF58XW022LD+wYqIcgMuHInUj6y+K/EkvKKdTwfxLlaA1pZx\n",
       "kfAguKgrKmFgUWoIW7pBJD53QRYbKKYOQTsFNqg9DKIAZ2zTYBEIX8iU41PLCxJPVEjgLM5Q3QKn\n",
       "iQZptwLsTBCwjIJCmoFEBUt1LSWxYWLbrQZgyYxDDvp0tLNiSUPNlm5DtNKeUtUxY/Z/9FTEKrDR\n",
       "OONinl1BfH3ObLFhrGNFRLlBJUci8SOwW2dqv0OPKsFjx402N1pdxDwYLuqKShjYkEyeu/BcMtmC\n",
       "gN3qUwLLomQyGZFigVyCBfYEovGAgptPphzvPmL2sCRTSuw2VI+G6URDoEt5kuOByCgsREnLzdXG\n",
       "LcVaJyukliI7fR3F4ClQcEAXEw63FL1OdpL8kSJrcScCNiquqKS+jxUHYxCnI9b7ELkzAGV0xMK8\n",
       "CAssZh6AjZ0YFMLh2W5e9qVT/hPy3oixehAhSTTMitA12YACbAEhJNk6yak2vgRwggN2ruDefK8L\n",
       "YLFtjl8COMIlveNfAjtgeQmgrBPzWTiIT74DOAmbZUATXBA/jlANhLImYGGscCmHQSEcgeoY9AbW\n",
       "o0bkgH4lqfoH4ZOosfqFUDPV0HoQPRR04yx4CLAFhIRrIPp2B1utal8HzF5ZtwOnsXPa0DDtm1le\n",
       "2zkRWAfc13aGDTxNkeQEl8+DRcx3IADBZX5tp/i3KgV+FPy8L9agMVKXgVK0YNuAO/BZgLgZ2Ptv\n",
       "ryTAEg748MKrMWE81KWEseiAGnsb9s7Bm4+G6oVHgWgA8ZuflwO60Tp1CpFRQEig6rhM0mitWtXO\n",
       "vmhvfanBwYhdpaNpfv9tBtqRwMnA3YblvmgPzPgzYi9x59eFtwydCMBwYVdUMn4aMzmpTkYZEvRL\n",
       "0exm2lJkpxSZ5ZD0Cjo5dng51boGSZNRTMgRsFpxbT+N6XcjAzkRGlmfxmC4+kGnAt88Sallb8rc\n",
       "lwDM4L9zNnvZwzSmi4kp/Gr2hkmGVch5GIGl7IFxI80kK1x8YEOwaiXYAGsqOaZx0epCNzhCAu/k\n",
       "RySwh0bcV7hWuIb0lWLT//xdcajvxnfM7oq3qfEfB0LNd7toRy4AAAAASUVORK5CYII=\n",
       "\" style=\"display:inline;vertical-align:middle;\" /></a><br>"
      ],
      "text/plain": [
       "multNegAny: forall_{i in Naturals, j in Naturals} [forall_{a_{1} in Complexes, ..a_{_a} in Complexes.., a_{i} in Complexes, b in Complexes, c_{1} in Complexes, ..c_{_a} in Complexes.., c_{j} in Complexes} ((a_{1} * ..a_{_a}.. * a_{i} * (-b) * c_{1} * ..c_{_a}.. * c_{j}) = (-(a_{1} * ..a_{_a}.. * a_{i} * b * c_{1} * ..c_{_a}.. * c_{j})))]"
      ]
     },
     "execution_count": 30,
     "metadata": {},
     "output_type": "execute_result"
    }
   ],
   "source": [
    "multNegAny = \\\n",
    "    Forall((i, j), \n",
    "           Forall((a_1_to_i, b, c_1_to_j), \n",
    "                  Equals(Mult(a_1_to_i, Neg(b), c_1_to_j), \n",
    "                         Neg(Mult(a_1_to_i, b, c_1_to_j))), \n",
    "                  domain=Complexes),\n",
    "           domain=Naturals)"
   ]
  },
  {
   "cell_type": "code",
   "execution_count": 31,
   "metadata": {},
   "outputs": [
    {
     "data": {
      "text/html": [
       "<strong id=\"multNegAnyDouble\"><a class=\"ProveItLink\" href=\"_proofs_/multNegAnyDouble.ipynb\">multNegAnyDouble</a>:</strong> <a class=\"ProveItLink\" href=\"__pv_it/dcf53e031f33c7ef93c96a3741ad5479b8a40a740/expr.ipynb\"><img src=\"data:image/png;base64,iVBORw0KGgoAAAANSUhEUgAAA7AAAAAZBAMAAAD6aN9KAAAAMFBMVEX///8QEBCIiIhmZma6urrM\n",
       "zMxUVFQiIiJERETc3Nzu7u6qqqp2dnaYmJgyMjIAAAAcRTyBAAAAAXRSTlMAQObYZgAAB/NJREFU\n",
       "aN7tWntsFEUY/9q7vcfe3rV/EHnF5GgVCUq8QAQCRaoGG/+QXDXyCMZeGghBkVx8tCJELzXRA8Sc\n",
       "NhZEMQsEKkVogzalBuWkQiKvXECjECCX0BolBolBY1sxzuv2ZvZxt90oBwmTftfdme/7zbfzm8c3\n",
       "swtgPy1vTsHtdCskd/PakajHb7fYLZPabkFi/RkqYo6ztFW4CzidkbChmfHWG902vUwQsVn874JN\n",
       "YkP4XzBTWmI/YSLmOEpyIo8xGv2scAq0wtSYgx/hI452aOhJUUHEHsf3l20Sq3ShfyG1tMT+wkTM\n",
       "cZRC3Ci7hGSfU6B9psYhxzHJJac9NUsFEbsZT2UJm8QSxc2l5TUYoSLmOEtnuOthJErYIRA2NBqf\n",
       "cfyQw04NDzNpI+OPDERbaywe2sdLS6w3RUXMcZZWc4HkEO7wlU5HSqWZ8WrHUe2QU8ttTNogeKyj\n",
       "Y5Pt4Ol8R8fuEsdQm5iIOc7CMO5RFHLd7xSq38TY77ilFMeWoVoqKCr+K5lca5vYimTyrXRpia1m\n",
       "Iub4a6aOK06kTqmcm8NDjdVo3urjGrfqbhszX1WUXvSBYJyHb+2boI7YMerMCBzRdJQIFUTsMoB1\n",
       "ton1RMFX4lOKjUzEnIdSoatFTfVKPi6+77wsDwJczLf1Gnin+OzR5cvSq4tM4NQVnC7l4N1j4TcY\n",
       "sWPUGfuO5HWCWSqI2EdIGFWuD0BCUTNi3RGnkeP87H9E7BomQo58J7hQYLeILngmVnjUMKVqTcfL\n",
       "xRaHVPgdoCdflobnQEpoxvpFlfyuBQ+CGABq2KOPBlDZtgzMhAI4BsfUvDP02o4jRIdQFohTQcR6\n",
       "oRz1LImOQ+nFb2BCjOy5qd3CmtryO7gDijhMMezO317eWGjzTosVreccONoUBmcgOI2iIpORcSVK\n",
       "71xD4A3DkzNofzf2IfkfyCnBYk2nDC1G+wjMADwI8t8ADVrZXNSI0rS4ZqxLRMdFYxzcPRqY8AnD\n",
       "I5gXCuHoHaM61Bl6bceRuWqOMukqFUSskvEynT19c+CAorpy/UI+OC0TSByDWRyxJ4XzJ6whL1Kl\n",
       "Xy1iRa441MVq2LkenkmDMxCOWC6hu7IEdCKO6+hIiRlRmkBTyuvgls/vHN3DjBtSNoZEp3HNWD8a\n",
       "YxQwl6yIHQPyH4VwDI415Z2h13YcGaPdcsT6swvY9LxhiwpfhiNKTunH3g4InHZBmiP2Y4lvNawR\n",
       "/AjgoDknfHFFitVwNg2BNDgDsZyKO9NwCHLEWiWmJM6VuXSdjD8NAI8YrT0LAOZSXa52usb+xOAR\n",
       "TOCqHRzRseu5ycCeI1QHcopuOhXDuqXoeiJebFHq7n6PELt9Nl5P0fBesjjME+trQ91QnrqKdDCi\n",
       "Ma8bdQ6xoh0TBwzFDVXPkhrcS5BpikaUUAhEqQqbFpsGT51dsCqQKkYsUXo4Zho8XcPLIRc8XcdT\n",
       "WxFCKpBFl0wCWC14EmMzeRg82d6ixOodo87Yd4ToIMqE4Ak+Q0ZKhUpPjbuVvU/j/5H59GA4ED32\n",
       "PU9sAC9j7dEGFTwq1Th31tCBXpZQf8uKxfeo1aSG4F4WVXtr6zGGFQi8JFXiY09DsXFjge584WCT\n",
       "IoxYvPaQNSm/MFGldH7zr3AR4/PwBvqt0e6ng/yA0J4aYH4Jd8VgR9TlzjLDGv0eBMG3wA+xdDEc\n",
       "g2PUGXNHNFtuxSU6iDLkUpoKJrYCjYwtPSCTp+yGNG41OXUUdlBiFe3xCTiO1qbBQpC+VqnGF716\n",
       "SlwRKY4jOKG4BS6SGgJ7GLEzQcIYliAJILOCobjOMOWiO7nx7ra7hHyy9jQJCxNR8u+JC/OWNsvc\n",
       "h8fIQJ6Vk6dFBQ2QW8JPXAjDbiXGDAf050fIelfV4sbaYjgGx6gzFo40CU+n6WDKaGSMBRMbVEm7\n",
       "S68kky2I2K1eNr8tTCaT4UDUn4nzxJ5DMh7QzO1VqcaHT+k5KesqJz4LxaNgOqnB383ChPFAMKxB\n",
       "WFiuLy50pFhnY7vkC1uf+clxIzXFATPUUI5bHinawylwUG0LAC9Q7Uxy72PloSjE6Ih1P0FyBsFD\n",
       "RyzMC/PEYuVB2NiBSSEaru36nWNnyndO3R8Wi4cQk6SGWWG6HxtkxFqAkGDrvElxoZcAdojt3Gl9\n",
       "Sq8/x7fVntjTIi8BbOHwjjkidlB4CcD2idk0HMEX3wGch80qoAVOwUMrWAvBtI5YGCtdy2BSiIa/\n",
       "JgqH/euREflBf2Wphsfh84hY/GowQWtoPYKaAGX0g4sQawESqoXI++18ca72daA/K9Puemw8/lcK\n",
       "N0h0p2j6w5eAnfasB6vXdhq8LRzeMXDgiFQpvLZjg3BlCnxo8nO/VovGSH0XlKMt2gY8BvoBYnpi\n",
       "H723mhBLNODTK29GpfFQn5LGoh9k7G7cPwcfPgrFC04AqQHkUz8vA5TROmUywbAA8U89rZIwWivO\n",
       "1W79or319cbiz7/rW27qTYB5D2EndTP+DBcHnGTa2Xh4ezi8Y+DAEUwZ7kq+FOg+jZmE1lhgZyl4\n",
       "wi9Hq5vuSJFf2VReI5AvoItju9ukOF9DQMMoBHIcjF78j5/GBB0dg7dQw2CpP43BlOHdA9lBmH/z\n",
       "FEgtfVc1fQnADfz7Z/O3vZwx+eeZbF7MZ+gwjCCX4aZPnsfG3RyOiJSZExuElSugCLG6lOGMCxZb\n",
       "ZZiA+D/I3gLEHr1JvskVKRvRV4rNN/i74mDf7e+YnSV3c9O/543EvPDRLAIAAAAASUVORK5CYII=\n",
       "\" style=\"display:inline;vertical-align:middle;\" /></a><br>"
      ],
      "text/plain": [
       "multNegAnyDouble: forall_{i in Naturals, j in Naturals} [forall_{a_{1} in Complexes, ..a_{_a} in Complexes.., a_{i} in Complexes, b in Complexes, c_{1} in Complexes, ..c_{_a} in Complexes.., c_{j} in Complexes} ((-(a_{1} * ..a_{_a}.. * a_{i} * (-b) * c_{1} * ..c_{_a}.. * c_{j})) = (a_{1} * ..a_{_a}.. * a_{i} * b * c_{1} * ..c_{_a}.. * c_{j}))]"
      ]
     },
     "execution_count": 31,
     "metadata": {},
     "output_type": "execute_result"
    }
   ],
   "source": [
    "multNegAnyDouble = \\\n",
    "    Forall((i, j), \n",
    "           Forall((a_1_to_i, b, c_1_to_j), \n",
    "                  Equals(Neg(Mult(a_1_to_i, Neg(b), c_1_to_j)), \n",
    "                         Mult(a_1_to_i, b, c_1_to_j)), \n",
    "                  domain=Complexes),\n",
    "           domain=Naturals)"
   ]
  },
  {
   "cell_type": "code",
   "execution_count": 32,
   "metadata": {},
   "outputs": [
    {
     "data": {
      "text/html": [
       "<strong id=\"distributeThroughSum\"><a class=\"ProveItLink\" href=\"_proofs_/distributeThroughSum.ipynb\">distributeThroughSum</a>:</strong> <a class=\"ProveItLink\" href=\"__pv_it/374728073920c9ae2d4708f51e1682fa60a5386e0/expr.ipynb\"><img src=\"data:image/png;base64,iVBORw0KGgoAAAANSUhEUgAABFEAAAAyBAMAAABmGFlzAAAAMFBMVEX///8QEBCIiIhmZma6urrM\n",
       "zMxUVFQiIiJERETc3Nzu7u6qqqp2dnaYmJgyMjIAAAAcRTyBAAAAAXRSTlMAQObYZgAADHtJREFU\n",
       "eNrtXQ2MVEcd/+/H24+3X6S5KEgwy50gqTZsirZNoeW0qSQmpXs1lpIa73IpMSjWVfRSSlOvNLFH\n",
       "K2YrsXy0mAekgIftbWkvFFNlhX5EKO2m1UiRwkawWtTzgtDIIcX5eO/NvPd2933Mq9zl3QRu92b+\n",
       "///MzvzezH/mP789AJEUuny5ChMovQyTyVXaQV/Sly9PETMU2rdJmUCfO12dHHt3KVonL/KmJ0WR\n",
       "UpxQn3v25NC7TSfUVylQSEmJfdotXhWTNa+a+zx/1LJPfZaoBhEpWztFtOV+r5q7QH6o5Erh4+qb\n",
       "mOcBX+5Tn8ltQUTKw0LaWc+j9j5SLrjSOKWNU91rnc/61WnPBRApqTEh9be9KmYQSnIVPmdPM1Gt\n",
       "4KKWccCz8573qdfi1eAhJV4QUl/luV40Gd2uuEFKVMf0Vs+rxhS/nq8LwUPKSSEvL1nyqrkB/X8N\n",
       "3CAlrdeV9exanfar21YGDyn3CWmH8Yy0/uBMxVbSLNSB/r/XPt8FUrK9HepqlebmwQPt9r2dbp+l\n",
       "vjvo2wOmBA0p0jmx7SLa6kanwb+QodabICoUZkO8Dq0FHypDZbjLKVKGzshozs+izs0wl3ZDJVFn\n",
       "JppMfKvhJzAzrx+EpEdIElp2h/JBQ0pE7LPG0VO+tQY3gDSPrg0NJheZuBZYCKSyLrOaONO5/Feu\n",
       "d4qU/QqcRUrYSyjpZh6AWEU1ITdQVVT381sQJyvWXr/6LVsPGlJCPWLqqP8XKvA9NGmQ0ZM/bPD4\n",
       "4U6lQsBk2hBK6zBUhUUk842Rke+OjLxn1WYFN4P8X3UiHNXMRIiXu4jVYwIpqWohxssQAU23X/0W\n",
       "vhA0pHTXhJEyFeTzGlKgr8G8g8FIhYDJtJHjlNsr6jA7mFNOQfQihxRiJtTPkBJvAHpS1VQm4xtS\n",
       "kpeChpS5YgfcaPVBD3pqVEdKs+0pEYpyISa0+uRq+HF3jJRLeAbZhn1gVtdQlaGgRd3Yl5Vma5Kq\n",
       "nyI2m34saEh5SEwdebTyRYjV99khhQilcwrv0eY65RngHCnnsLNTWAy8R4vABhUbpCCIIe/mny/g\n",
       "9eeEbx33SNCQMlVMHe9X18Afe6o8Uoh3gL0GzmshQps5hxLtV2O1RMGKFKu2WvBteBjk8qvYO6nq\n",
       "DnkPbC/ySCHOiqnu60D+PHxABmWBbx33pooUAtp3vSMli18ztXEPFPnfYvoYHzval/Z2GuaUPs1r\n",
       "YF4LFVrDZNDoytcegQZzikVbLdj+2Rqdi8hOWU2vv5s3rD5E0VR3+shbIF31GH77F9967mSRIuUw\n",
       "/uWMd6Sk8RlRVhn3SJHOChpYxWPGFpdjbIjjZQYZZ6sPTXjPsdMksMjBXqW/K4kaUPKt57rzFCkb\n",
       "sXvb7x0pRHfj+F98UhcFDegRwpSDQUjV9WWDRAjBcMQx2EyNLyCegTlC6OCUJJFfEvYxQohWuAJt\n",
       "DZ4O0hUBPwXPR4fHP1Iy5wUNJNSpIXn9B/ajIK/gdlpr6cv6H/a6Osfot946cGIiW47N8vHWAfKl\n",
       "eyhSMocGBzeIeLTHBwd/URr/SKEHSCKOjteJF3Z5Q2aeodN9WusjUvrVGe4/AwMPiCAlNzDwSHX8\n",
       "IyU9Jmrh/3s78p7H0WT/jucZtOxfz4XqKlKWEQCGzVGkrHEDHL6qGVJiRa/QX1xvvdsY8RMpkTGY\n",
       "UGnF8vHSklBJRcotZDWkES2QVr4MM3uIT0bFlizoDJNDuu9rinqOipRoocGi+OKrfS0W89SPv9EL\n",
       "xpC6ngmGg4hWxc0yGzcjNgqTyVOKT1GREoewOjvuPngTvJhWItqWV35pXi3VfwhuJNs+c46GFCjB\n",
       "NbxhbOXpR+HrjVckbEG+S5H+gaetSoNMLv29VXETnabNmESKMFLStbi6tj22WYFf5wtpTeTovkFI\n",
       "vRWBqn6IwOfoSDkCvENLrLxThVRjpGALmacAXsKuUrlBpulAoWlxE52mzZhoq884Qoq2+iTrdwKJ\n",
       "aN2Cs4eHf0qQsm0+XlbQ/H730nyVrBR39BhzdKT8XOrBp5D3UscGW4nejd4bfZfts8mhIbFw6zCq\n",
       "FR/ptH8TLJncgcLZ2Yq1+EB7Kx2t2NqM9IXJMRf0aGHtPagfcwo91x9OP/M1/FpYTM/pU8VDf8C4\n",
       "yP7py2PGHB0piSc6AXYWuxWIoZHFVjLPmF1c+QfSGC4jFo6pLv2nlQ6iYsjknOj7kZsdKxuL451d\n",
       "rXRw8c34jaUZ4fPmfcyWK9LvLsheySsSI8GkMgOxLNSjIeV5NLts3gsy8S+HoYodSRyf2k5xkSaO\n",
       "Z24Znhj4HB0pKXwRax4sAem3CrWS2m1GSqQglfC9LGLhV2pvrYETWMWYyR8o0EiqofgGkFrpoGJ4\n",
       "Hrff0ozMOdPZiNfzEZcsL3NyQfba5bEKnVjmLS0HI7EsV9CQksuTUZPuGxhYg5Cyhbot62DJwMBA\n",
       "PlVM1nDPdM1B7qchR0cKvskH0zHpN65QK8lhc4w5VAmTHRWx8ORXaWYbXIdVjJmcTmfEqjMdoJUO\n",
       "Lsb3OqzNSPFIwSwvz0yvrNC1VBdkr/e91nFKCCnPgvGIl9yMIUjJKDSi1UPnlOgdqjsZozMI3IqR\n",
       "NEeaUjbmMKQcQ/oXYN0gGUJi5ca86Z7pUDlxTNmTpxYi2+hV0DE0sFjFkMlhWQlVMsdNxRdUpDTR\n",
       "wcWrbis0aIZ0iRN7GwSYXrmK0EBooZxUs2MELUyY8YxIsRAXDhnxYSMtQqg2u16FV/Cb3wMch40K\n",
       "LkljGGQ6IVNNPgprpFKeyzEgBadp0rkaGUJiZf0rqK6NCtJTf4TK3bfBCwVqIbmgCAdQ9v2ZfqJi\n",
       "yFQV0L+4chR+ttNUfBoiTXXU4hmba3wztBbytw5WgQDTy8jycp22OkVK3OukFxXb5mFSGU8s21/h\n",
       "kYIjWgmUE32wEz2uXRUSn8L3HBadRs+nNB3NhL1FLseClC99poMiBVsB+Y2/LUNWpGnQVcY/KtHe\n",
       "PTfh01xiAX458qMisnnn63R+MGRShTLWXlGlexi+eP01VzfVocXRP+NnkTVDSw9yrmJJhOn1mpjH\n",
       "qJG9bJHiORqXFgzDnQYDsezNMpjvvM0Z0O7fVEh8KoxcAfVTaRsIPceMFPoUKCYrYHi3M2q1SVSs\n",
       "Fek6h8GFDnkXzp+pGJqhpoXcPqggwvQysryAp2O1WnQ0Xpe2HbBFSgeZNa/9hP0eySTEiGWWyp00\n",
       "kJyNc+fj3wFoejsyVSbxKfutnREp0tz55u2W4V3saotNkwpXkapzBlzokHeR8vHORm09yT4RZnl5\n",
       "ZnqZWF4qHcvGCOF10diZdjXWFin4ztsXytlRsOODUaEO5hTqxDKucjsjrIHkCi53DXdqC6RkzPGp\n",
       "miOkWKxY39nZrBl1kpvqbnRanj90s+cMs7w8M714lhcRwHQsOyOE10VjZ9pFKFukrEa6MyDSDzZ8\n",
       "MCoES3UZRixzQSpjDSTXpdiVqeTZFkhxfnz3Ed+4zhz0L3rOMcMwd8cz04tneWkCtkZILIHGzgiF\n",
       "Jz0y8tdPNqJXcLyxNqIWz9vxwVQhJsOIZc5JZVwDCVWI0YWCxwyLjFqQ4onpxbO8VAGwNUJ4XVRG\n",
       "GnU4p7QRtaGiHR9MFWIyjFjmnFTGNdCElEQpaEiJnjOvPt6YXiaWl/r82lzDJqdXJHamSzpZfZDa\n",
       "frC7Z02FvsggwIhlXOX2RrQGEkkmTQ5mg/WtGCvNHq03ppeJ5aXSsWyQQnhdJHbmyqMdqsC9yLW3\n",
       "GWQiVGWHKIxYxlVuY4RroMmjnasEDils84M3qp6ZXiaWl0rH4pGiG2BOQQTzukjsTCd7qUghggbp\n",
       "PWyzmshn+tJg5oMxFYp7LJTczRrAiGVc5TZGuAYSUhkjltFba4FCSqiqL0QlAaaXieVF6VgGI7oB\n",
       "zinAvC4SO9N3r9qc0gcmaQ0pmFHWO+uJT1n5YH0Gl4gKJdgUxYhlXOU2RrgGElKZTiwL4rd3cd8I\n",
       "aDjNd8v0gkarvhMjJHamk71cnOY74IPB0NOmDPN9nEVOG4hJZYxYpsZDg/UtoyzEaogQumV66WcO\n",
       "BgEHRkjsTI8QykoTMY0exiKETr415zdp4++Wod3rtIHGCOFzSgCR8rjeWkwm8M70AitFy5EREjtz\n",
       "cetgbZPKGqYdvzP+Hu6Hli1u2kDjrYNgfnMxe+5FbjIJpsRHf5NJ9XO9aq7lQAqxQhCRgnYpWrpy\n",
       "tyNdkL1EbkeaAncuEiaVMWLZUfAJKRPrr7bE8hCU5BOxzL+/2jLB/hLU52AyuUo76ESA/xLU/wAE\n",
       "Zlhm89m4NwAAAABJRU5ErkJggg==\n",
       "\" style=\"display:inline;vertical-align:middle;\" /></a><br>"
      ],
      "text/plain": [
       "distributeThroughSum: forall_{i in Naturals, j in Naturals, k in Naturals} [forall_{a_{1} in Complexes, ..a_{_a} in Complexes.., a_{i} in Complexes, b_{1} in Complexes, ..b_{_a} in Complexes.., b_{j} in Complexes, c_{1} in Complexes, ..c_{_a} in Complexes.., c_{k} in Complexes} ((a_{1} * ..a_{_a}.. * a_{i} * (b_{1} + ..b_{_a}.. + b_{j}) * c_{1} * ..c_{_a}.. * c_{k}) =  \\\\ ((a_{1} * ..a_{_a}.. * a_{i} * b_{1} * c_{1} * ..c_{_a}.. * c_{k}) + ..(a_{1} * ..a_{_a}.. * a_{i} * b_{n} * c_{1} * ..c_{_a}.. * c_{k}).. + (a_{1} * ..a_{_a}.. * a_{i} * b_{j} * c_{1} * ..c_{_a}.. * c_{k})))]"
      ]
     },
     "execution_count": 32,
     "metadata": {},
     "output_type": "execute_result"
    }
   ],
   "source": [
    "distributeThroughSum =  \\\n",
    "    Forall((i,j,k),\n",
    "           Forall((a_1_to_i, b_1_to_j, c_1_to_k),\n",
    "                  Equals(\n",
    "                        Mult(a_1_to_i, Add(b_1_to_j), c_1_to_k),\n",
    "                        Add(ExprRange(n,Mult(a_1_to_i, \n",
    "                                             IndexedVar(b, n), \n",
    "                                             c_1_to_k), \n",
    "                                 one, j))).withWrappingAt(2),\n",
    "                  domain=Complexes),\n",
    "           domain=Naturals)"
   ]
  },
  {
   "cell_type": "code",
   "execution_count": 33,
   "metadata": {},
   "outputs": [
    {
     "data": {
      "text/html": [
       "<strong id=\"distributeThroughSubtract\"><a class=\"ProveItLink\" href=\"_proofs_/distributeThroughSubtract.ipynb\">distributeThroughSubtract</a>:</strong> <a class=\"ProveItLink\" href=\"__pv_it/b0a0703583c6b0eed8a20943ccdc718717e4a9be0/expr.ipynb\"><img src=\"data:image/png;base64,iVBORw0KGgoAAAANSUhEUgAAA8oAAAAyBAMAAAB2aD/uAAAAMFBMVEX///8QEBCIiIhmZma6urrM\n",
       "zMxUVFQiIiJERETc3Nzu7u6qqqp2dnaYmJgyMjIAAAAcRTyBAAAAAXRSTlMAQObYZgAAC/RJREFU\n",
       "eNrtXH+QE1cd/16SzY9NcmEcBKHqBE5PptYhwihOgZLSqTf9o1zQsZSp492c7Tg4iLEdUegPrzjT\n",
       "pj/QKLYFFFkOC3K0JK3eXK9TJXKWjkBLxtZpy2CbGaCjVfGkpVNyrfh+bPa9t7vJbrIrzezcdy6X\n",
       "zXvf7zcv7/N+fN97n10A+9Jx8WIJ2ldiaZgSTuR++n784n+aMesY26a08a86NgWsKCvo275tTzSF\n",
       "cqadf5OvfwpXUeIV9WKld1B+wpH1jlYNI+V6OdF8iy7H3KqSBz2HsjzdkfVgq5a/rp+1htOaaaMM\n",
       "d2fpRTDvUp3sSnsN5XDKiXVnyxX79/pZB7jrU3YKof4EueJSnUSneQ3lg44CwxdbnvsaNK5Ykl1P\n",
       "2vCVKKoXh9yqlDu8hvJtjqw3tGoYajAIyNO0y0DVhq/eWkPd5VrTz3sL5fgFJ9aRbKuWjzTKPM26\n",
       "tZ0veE4but1a+YdS3kI5NOjE2odrY8v4HOtRX6/UhV5D3T+7IiloDS2AyGyAcTblDnQVLX2/MXex\n",
       "2iZSbrX9qrdQ7nPU/MNoORSYBf8GkBq3FqrkYyhsRgNzKX5rSAyYSleDbwLgNS2h8KZ8wcq3/F+l\n",
       "gEbYM7WF7gtnsZxy8rvkc95C+bPORgLU0XaV4QsgLaRDq0mnlsmMiZVAyms6t6Oep8SqAWF6jhSv\n",
       "gjCCdFSzQ7HhOSvf0Sok0JCAihLNulUtZ72F8gxH1h1oJFimwK2os2ZptzLqFHAHo0rAdKZjiMK0\n",
       "kx4gne8MTvkQAaxPs7sK5PesfPsrUCiRj9KEW9UyP+8llKX3HaP8EZDP11CG9Sb9vR9qSsB0yF5M\n",
       "Iqkf2KvQl1FRJnanIDBp5Rstl3uLLqO8s+wllH2OQmw8YqO+Fp3QUK43zxGlQDdLuZ0EBfqKQd1y\n",
       "Dnrr0RLeB3/VwjckymiokHGURhXpvPyGs+bb7yWUw9OcmZdBnoRgZcwKZaIUSyh89BVV5oNPnGzD\n",
       "/XAP8NHX23hGt0I5LX8M/IEKd8zgvF6yXkK5w9FCiixdNsHL/SUeCTKB4hmTm0mJ0vZRZokWS73F\n",
       "H+sPO/z9ATyFLNESvgU/FMcJzW9BQzRYDqdgXwz1Pn/JrXqJTVCUyZf81S7KnWQVVm47lAvOVpi4\n",
       "/vfMXT2QFpBYX5sx2UxKlTYxnR6cNrRUVyPyQBeeQs5oCbuvKIsoa37JBTVa8Ly6qOt0rTvFz1OU\n",
       "j+K3N+2iHMPhQafSdij3JZ3Zb+DxtlyFVhkK9XY4/bivZo1tyVISyOFe96LScxTlrXh9N2gXZaK5\n",
       "tf1G7INFZ/baaYWdpWq0wkZU89OKdVBIi6cVdn2TOdS10wqQ36I+cceMFe2iTHr90fZD+XWHY1xY\n",
       "7ZKRRe9YjwryWq4D32emcScZ1A+IibZ8wzwXTx6RvENRjh8ZHn7EfvR1cnh4X7b9UJ7v8ODdZRbB\n",
       "8q5MvQZgJZtYk3ND3lXHh3dzuTvso5zI5e4ttR/Kx52GCv8HRlC8BbCC180GeNXFivm4ivItpNH5\n",
       "9POLSZyHUQ5mXG1qOlnReKwKnK2Xs6z9AsKWJHjY5cqdqaJ8DZkH6AY8SLf9EeaQ2D5KtVYtSftm\n",
       "cCgHUvrpBslTh9c3mnEM2dEHvzEAZinikZtRbbxe9rdhSkzlOyrKIfCpg87+8aXwVEzx1/qF/MzC\n",
       "cnTwCFzJ74pk4TO8F2zz6P3wtTqjuCEb+5RvVKR/gllKZ7GuGpF/1MueQtkC5Vg5pM4jD2xX4HfJ\n",
       "VKym8crYMET/7IcSj/LzwAdfxObVEkTNUTZmY5/xXwA8A2YpiXxdNSIX6mV7ZcR2Xb6nohyp3ABk\n",
       "A/4anDAy8lOC8tBiPDijYfGm1UkB5V9K/XibZh2dtrFN4CZ0LU4nu7vPGLMPfa47Q3xeO4K+FUei\n",
       "/bARhJS+ud+kEzCfyK/xuxXz7OP5KUAbRl9w382oQycUutc5Env8q/g9tYLuZkYzR/4ioBx+GK33\n",
       "92b6FAiiGsc28cf1VSx/V6qSPD7bp6wLpYnPE2oQWapK00BI+ZTSRdwKiUx8G1GQGMybZM/P6OLl\n",
       "HZe8Pk1I9pe+EGOgI+3PqKH8GzQEbx8FmUQ+I1DCIY6cPwy7KcoxLSQiKEcXoX8LYRVIf1CoTXS/\n",
       "/vf5U1IWcyKEbAn+BdTn07QckV9lfYNCClosvobdionc3kWSntYYs19Pi2vf1te/Qmu9O9uEzhr3\n",
       "FuHCgnxmEzqYsC+Q9t+qoUzOwDeB9P1cbhNCeQedpjfDqlwul4xmIuUsjzLgndHLAI3wIYXaREb0\n",
       "i66OIr1pSZeNZlXi8+dfURtDKZgUU6bD57FbMZHzm/YTv8bsgxzKmEHf6c4I3plqQsew9nCpEKea\n",
       "0MHLJX7rTH6vhnJcoRvw/bQvB76kQhKkfRmuTQoon0DaF2DzMIGD2FyZ1JGZCvnwCeXJpC5bmpCo\n",
       "T/8QZTqF0sijkFJF7Qe7FRKZJJSOYvykWXYftzfxIjhg0YuSKDaho9+2dqsQk83oHAJhG7x2WqFO\n",
       "KpUSPIsvXgI4CVtRL50GMQxqPA1xYV4mMkt6u0zgIDZbnkW/cKsSuR/Ufx35vuvhtykxe2esEqM+\n",
       "I0sycAgphjK9IKZsjA8St0Ki6hT9hZRX4KG9fLZW1Vyn2wAOWPSi9CpN6Mh6JoM7hbBD2Gc6u0Ag\n",
       "7UcneZTxBnwYc1HuSqOesrIIaMaEB1BGz2m1Rwoof/HTXRRlbAPyC3+7BdlIs2BlHv8rBgaeXIp3\n",
       "yYTsPS8dOkJ9wmNn78lIl0Fg4EcgptxwjEwEYiJ1msffsLZE43Ytu1agEBulMIM+4tJW+3NN6ZzW\n",
       "7X26Uwg7hH2mgwn7HGk/doFHmci8XO14vIgCHRTSotlPv8PJCYGDtwHham/ALJv5jMI+zKcRUjS3\n",
       "+kTOxVEwlgz8jA+H92rJfm1kyYLZ1tvQOiV57prlbMTTePANhOmM61YEtqn8+kKopH0VNxuEfaaD\n",
       "Q2VuBzE4YUCZWxTc/BOTsokoS/MXmy8k1Kvg5Y3XGWOwNlAxLAP0brl1gerClPEQZ8MaJlvgF1yd\n",
       "70S/8cbG9UOVurTPj8HLybs0yAkPvrEHxpXnaF5aQWxR+Q2FUEn7apBjg7BPdMjRA16EcLQxypQy\n",
       "RzkOa9eAFcoGG+OVaXZNynD9MX2KiZRFF5FtFTMtiYUomEGPX5gqNwhfXkQSzfoTTqNKsFrTOQLH\n",
       "leuA58GrHuQ6HhhXHkbFXNtUfn0haqR9asAR9s3KoJH66bCHmQocW2Fnsj7KdaQd2H3xcfPlyQxu\n",
       "uUVf/iqEkipb1ozpTtJUJaajQI72DtyYKA++hyWYedC48oR+LRN67dkMNEHl1xeiRtqnBhxh36QM\n",
       "HKmfNvcJgc7tLdY9LDOgjAarQqbGiTZhupM0VYnXobcWcTz4HpZg4oFx5SnJHoSC2KLyGwqhkvbp\n",
       "B46wb1YGRuo3Q/le8BTKvWn9iI162EHgme+mExpRWs7VnnSeWwpjHryFB8aV1yvapfIbC6GS9qnY\n",
       "IewTnSEc0GBFTtljd8OFUvroq1CEdShgs0CZKJVY7PY0Cnu0sJHw4K1Q1rjyJtGXLSq/sRAqaZ+K\n",
       "HcI+0UnhJz+J0ZfPY3e2siC7tpYIJ+PrYwJGJkx3ohTZr9VhYDI8wTg+hAdv4YFx5TmSvVYQA5Xf\n",
       "TiFAJe1T0RP2zW4GwDr46IES9hlpn95A46EnTnxUA0ods+SBTz78CQEjM6Y7UQon2efLu9gtCJQH\n",
       "b+FB48pzJHutIEYqv41C1Ej7VAyEfZObAYgO2X3AqylG5vLaEye4p8eIO5w9NmwLjzbKteMB0x/0\n",
       "JPvmqPxiIfwVY4uxFNwy9gJP2lcPMbyDMjs+Ek8rRm3Y/j7WKNeOB1yP9U8rbNHtuUJQ0r6wqWTD\n",
       "g4T30YXTiuhsr6Ec+bA2zeU5SvOWHwxY2+75U4NMWx7mgcnJY1NUfr4Qd/J3Ytn2gI8exJNH7z3V\n",
       "jXU591gE9gWjYiDZt1wIStpvVvDELrRw+Dp4DmW/Fs1cckYQ4crHP2BGEDl6wCwpjSkVH2wJ5fZ+\n",
       "cvLAB/bNrnPlWxHj0UOLT05u76eg+9MwJfyEQfmw+Cno/wOOMgg87Q+PCQAAAABJRU5ErkJggg==\n",
       "\" style=\"display:inline;vertical-align:middle;\" /></a><br>"
      ],
      "text/plain": [
       "distributeThroughSubtract: forall_{i in Naturals, j in Naturals} [forall_{a_{1} in Complexes, ..a_{_a} in Complexes.., a_{i} in Complexes, x in Complexes, y in Complexes, b_{1} in Complexes, ..b_{_a} in Complexes.., b_{j} in Complexes} ((a_{1} * ..a_{_a}.. * a_{i} * (x - y) * b_{1} * ..b_{_a}.. * b_{j}) =  \\\\ ((a_{1} * ..a_{_a}.. * a_{i} * x * b_{1} * ..b_{_a}.. * b_{j}) - (a_{1} * ..a_{_a}.. * a_{i} * y * b_{1} * ..b_{_a}.. * b_{j})))]"
      ]
     },
     "execution_count": 33,
     "metadata": {},
     "output_type": "execute_result"
    }
   ],
   "source": [
    "distributeThroughSubtract =  \\\n",
    "    Forall((i,j),\n",
    "           Forall((a_1_to_i, x, y, b_1_to_j),\n",
    "                  Equals(\n",
    "                        Mult(a_1_to_i, subtract(x, y), b_1_to_j),\n",
    "                        subtract(Mult(a_1_to_i, x, b_1_to_j),\n",
    "                                 Mult(a_1_to_i, y, b_1_to_j)))\\\n",
    "                  .withWrappingAt(2), \n",
    "                  domain=Complexes),\n",
    "           domain=Naturals)"
   ]
  },
  {
   "cell_type": "code",
   "execution_count": 34,
   "metadata": {},
   "outputs": [
    {
     "data": {
      "text/html": [
       "<strong id=\"distributeThroughSummation\"><a class=\"ProveItLink\" href=\"_proofs_/distributeThroughSummation.ipynb\">distributeThroughSummation</a>:</strong> <a class=\"ProveItLink\" href=\"__pv_it/6e4c349d825281186a4aa2225116ab4e54dfbf2d0/expr.ipynb\"><img src=\"data:image/png;base64,iVBORw0KGgoAAAANSUhEUgAABVUAAABMBAMAAACfVUp4AAAAMFBMVEX///8QEBCIiIhmZma6urrM\n",
       "zMxUVFQiIiJERETc3Nzu7u6qqqp2dnaYmJgyMjIAAAAcRTyBAAAAAXRSTlMAQObYZgAAFRVJREFU\n",
       "eNrtnQuQHMV5gP/bx+3u7ONOlBIMgtJyMooKO9EhipiHgjambJVTNnfCEYiY8m0pBuxEQVdOrIsE\n",
       "iQ45IYccorVVNjK2o5EUCwVibitEJbBNdi3ZUAHZbExIwOGxjnjYkHACSSfd6cRmunse3T3d07uz\n",
       "mruTNX+VdP3unulve/7u+XsaoC0ZaDTGlYkuh9kvTV1IYBLtt53Zms8ytDlzqtPd7kvnnO8z525h\n",
       "aKpoOhKNRkPgb6+Ll/R8QJUmUj8TWG3iQoKT3xI6W2S1eyZa7pfVmBiKNdYvtqdnrcjfVheXTk+a\n",
       "mWd1JhsZn3D68HzfrA6eSazCQmHojoLtrIj8QXfxnRCy6i0J5+G9o/8sYTUn1HWy57Ns8v6Auzgz\n",
       "GLKqkCcd561wlrCaEud8nWPz9WlldXstZFXRbadE2sCvOKuSX2VfP8sm7w+2i++CkFVvSTqzolzx\n",
       "rGF1QBeqBnWWTd4faBfHT4Wsqup2njzbS2cNq7m8cH3gJMsm7w+0i5PdIavNP3mugbOG1awYjDc4\n",
       "Nt+YRla3V0NWFerqlOM+pz1Wt5w7ZMj8RkP325bmJxfpUnuspo4Kg18psGzy/iC7eFkpZNVbos58\n",
       "KnWsPVYH8NiqfXx+vsXM/9m4+9ZDBuB7QLvLe3x24j/XHqtwgTB0dJhlk/cH2cXvQciqt3TVnefi\n",
       "4fZYzRwx8W9ZHzC6KWlw90tDj+xV6JlW/MNtsnq7WGecYNnk/QF2cfrdkFWFVJxBMDrYHqswViae\n",
       "Vk0w4lO4q7IGh11lxU/Lis/k22N1sTcwFbE/wC7unAhZVchap+rEcJusbjfZ2dli5oihPEamIGE0\n",
       "pU+h69rx2AChDVYr4lt+nGPz+LSx2tUdsqqQd6i71dsmq2mfKlfSUD46j8J9wLxEE4oT/2p7rA6I\n",
       "B/CxEssm7w+uiyu9IasKLekIxSpWB1JLl6gRcCUia1Zr874agXTm7b2wwHC+3nO1Z1In/gDHaqbn\n",
       "YmVFVJpR8ZrD4jzLJu8ProuXlUNWFcsAJ6lJMO6+3y3l1HMsVyLCasLfSsJAFdJ3AtxrFPOePup1\n",
       "L6j4l1lWU3fA3yl/YVQa8sOEn7yN5JDTlDrLJu8Pros36iGr3pKYdNzYdkK7EKKG3rqKoCHIoTuJ\n",
       "FjhpCKvx4/7mOWsOLjGKvcMY5icRRKvkjwEcD68Zzn02q7iTE1X4Y4gPOwEc5HaaiwikXVXxEH+Y\n",
       "ZZP3B9bF2jsQsuoto92cChedhEQePvkhElsXjGx2IrjJSWO+t1pc9NOILQSuuUbBdRitmpULHwMo\n",
       "HgA1dMBiFbcIlhllxC8bdAK466ybaSBR8FLOc8dYNnl/YF0cOxGyqpC+YY7VjmEY7QdYTkZdAXrr\n",
       "nERUGpPVnK+FF3M0nouXT/vKZuVClHA8aa09rqIWwftwhw86Adzzo2ilGdW9WI2eYtnk/YF1cWYq\n",
       "ZFUhz1Q5HcAYtlC/LPcejat855msZszirnMPyFxY/ODTz1lOc35n6ABdNTT4ySsn8ViWM/qqNkWx\n",
       "KnvMToFzZaNVSl917FQj4yybvD+wLk6eDFlVPX6p2eco0uRGy3B7uqRiFSf6cNHF6qPWKCEYtdiw\n",
       "ayFtzc4i5rt5Y27VVTBUYS9WUby2oOyeWxnjX1rBKklzIL7Q/mEKHsXHWTZ5f2Bd3HEsZFUh86ld\n",
       "K3i6kcxn12UYXJCqh1VARw8kiaqTPKupDdazWrAAY4c9dOB3AIyUlvqRm7RXoTpryV5cOa6LrRn5\n",
       "cHwUb+1byrL626BdTrPKFkCl+b9/wVqAZH1Va7Bs8v7AurhrMmRVIbRNVAcaJ7XVF3/t/QyrWNVb\n",
       "x+iBOFHqoUGe1Qes6+gSXJAVlv3S/UalE2SGhFTCsfG89VTXlvzYfEwP6XzNiQ1m/D9mUPhrLKuZ\n",
       "H/+U1QHWMU130oyTX2dfwfOGVGT+oLp4++GQVW9J0fvek5RCubyJzMk8z+qXzFJhoOeP3Bdphl2L\n",
       "///5D93znxJVedq98PRdu+KaWSH/0iKmtmiIn0Ma+YouedAUWDZ5f1Bd3GcuyNw2NFtMA5cPVWcV\n",
       "qzF6VS/T3Rqro9/mWLVmVtfDb+gLoJOjAYUhUz7yi9g1fy5fXraXqjzjrq9Kj9BC25UmWI0Mr0ih\n",
       "vz+QxI/VWDZ5f1CsvmIOFLNoL2uqOKtYzdJLkWlKZdrXROZ/zXCsmjMrbQNsgpfjP+BY3YSnQ6CZ\n",
       "RKZucxV4D1W52/5Fs4fxFSCxCUyrezqZvzGC/r4uiV9bZdnk/UGx+sxwyKq3ZOgVaM3ZnLZ142p1\n",
       "5t3/xrJqzayW12GuMY9JcKyiMPQQ/vORkU1gDMmjrgL3UJW7p+lZ27XI4ppjNfWh8byq0blS58Xs\n",
       "tbKyrMiyyfuDYtWsxy+r35K4FfKYV/gsYzXKfEbrbv8FIVYfeG7lypW///iTjRpMwjwXqyjsJWOU\n",
       "wnfgewA3uH/ITe5h2WSA2+YelvSE9/hWcfvxQ/qldlj1KmGLzaqfejSjldm1J269/Srs3nOud3I7\n",
       "vtMFXuSNsXO/SMLlrLZ3K3xKkmH139tj9dI5puiwITuMWE1thm269Z8RlvoDI9mPUPorQNvss6rO\n",
       "j9mI+mc1WpexWudYtf1Po79vtsOqVwljvRarfurJIbaQudpdOnYfUqS34jX+NsQHytqyZ0m4nNX2\n",
       "boVPyR1hJkvltlil5IaDgFiNz4MVpfh56L95OCxm9EgS1XLl0gO6X1afKLXPaofsUhcPsqw6/m2o\n",
       "+4bbYdWrhLGqxaqfep7FVVTxNg/kVr0Es+P3cxE1Q/3KHiHhclbbuxV+WWXeQrfxTUXBnmukA6Sd\n",
       "hy7RjxEiiwx99fSIf1Yvks7HOVYdf0432++bVa8SNtqs+qlnPf5ZFYx/VeSOKV4sOPE7zL/PDw2h\n",
       "zs/2o1v6hyScZvWepi8kMEmwFhO/dhpZjS++mtbdiSunn9bm+2f1Qimr3Ryrtj/71IMP3tfW3Mqr\n",
       "hI15i1Uf9aTw3d+Cli0KyK36ipsTnyvgP6suMVUjPFruJOE0q6uavpDgWGU3T758OsdV/EhhXV//\n",
       "e5gdrMqfIJXDLKuU/8TIyJ1tsepVwvyavQ7Qej0RrOy+Z+B1BLtzqxd4jnpOPDHS0Czdc3e81wmn\n",
       "WbXXvpUXEph0sEs3yfxpZpWTF6+cJax+ueSD1VvwozDCm+Xk2A+BRs6Rs0pKiG1ZcwV6hUeZmjGs\n",
       "4lSxtwWPbjbs5oOPm1WjF3l4N/C+KnaPvqlNWIbnIsHxuOHZOrMc8M2YSQAKJ6xGh7AcEVzIjLKq\n",
       "fSFYVk+3+GVVu0Ma1cexSvmvxdPjOOnX+J/+EC4qOpo43Li0EPl15PgzK6sdYncxKQGttzwJjKkZ\n",
       "QKNss0pSHRA0jgkz5qlWKxMoc2T84IFLiLuiw7um4bn4B2nEk4aTtydJK2KrxSoKZ+ZW6bcEF8Iu\n",
       "A/7tbV6L8sJoRR549Il19vDZxU0Y7/O70KudGMlPN6mLRvzaJiXlC7l9kxyrjj8BETMfshR7NKNH\n",
       "Le1b+/5ltfTwU3AVck/yISSL7pRwK/k8AWVqBvDZfptVkuotQePeoupDc1eLsQ6kdSYnbfc1yFbX\n",
       "44XzNaYtr/GTw7+WFciIF8G3J151wtl1gIfnui8EqPZoq/T4/0rgEEUr8uB7/O3N8Omqvf7z15yS\n",
       "7vvD1itXTvv7jK+u9Nvaf5BHbSP4fEPgz9QS5gMSWYo9nu+13zE//9iDkP5pFFssEEToEDLIlpwS\n",
       "/gJgBGhTM3ZcJalELysmqPqQVUSaZrVr0HYfQl849GD1kP0FRMLqNluf0YsSVlNrSu4Loa8/+02A\n",
       "74urE0Yr8uB7/EIV0lXZuIqBn4EjVWZCouilhVuvJKPTPoE/Vb/BQHGhaSm2d+9XMKs7r8arxpD+\n",
       "1E35Kp6VXF9kQ5xHJy4BDF0xgl5HM6ZmDUdfxani7y50tc4Kw6VD7oIC0DrAQK/tPoV2xHmwiuN3\n",
       "Xm3/sjqcKRTiUyPhpr76NpGS+0J2LXwN7PZ8ZC8ysGNAWnJ7vzt6f49XHisa3+PYp4z89hDYJXgt\n",
       "rnXDWSIdclYrIv89nzFQ7NLJK8a9me/cjP72Xgc5rHr1P/UcIjP33783yYY4XYxLgNjUB/GLH8bU\n",
       "jJpb4VSRDcYkjjOsxGHGPChH+unSdwq0TrO4YLuPwo6aF6s43mi4NbeK2vrbpg8b/11Hz61M5bju\n",
       "vhDtC3Hj5hhtxO352Qt8LQ/0D+gojolOFFZgCzxJHhSNP62KV3u/U5LPrWZwmjRbWPWYW8Ejxp25\n",
       "f59pKbYXqmiqo5WegF2EzAxeAOq6BWFIh1Bd/Ag2nbT6nTY1c9ZXSapkPlu/mZs7ojCwSjfka1ZP\n",
       "4WrGdNv9J/BFMjS6d1ZgB4pHDTcoJT8me64Z/cVT2qObSTjN6sO6+0KivfFBQG3E7fmuyw7mMrgR\n",
       "j9FM9BUQxxZ4kjxGNDwCpjVe+qGSfH01ZNWTVfz9i02mpdhe+BbR2e6FG0dGRvLp/lQN3bkVi4yH\n",
       "MBNCdTEuIUkAZk3NaFZRqo5CtAgbuPaiMDBL1/pBs5YREJbXNFbb7l0frBEH2ktB7axAudGGCxyP\n",
       "9rdZC267/8q6FZ/8+fHLzXCa1VvAfSEd5UgRzxBxe76xkr+V88yjmZjoeUDeaErzACDdBN/j1N7+\n",
       "kFWfrGZ1NM3vJ5ZieyF2vTnh6SSjKHwE8bYo3l1iQ6guRiVY3zpkTc0cewCSqkvvKPOsorDsi2CW\n",
       "Xoa4DdN6KtV6CmBnL4WzTKTTM7UHTPfH/2aIWYRC4TSrJXBfyGgp+TMdtRG3J7qT+/aJoZbf+2C6\n",
       "h4ueMFkV58HR6z/Ra1rjXZWnPkySmwpZ5Vjl3rHy/nS9SizF/gPgRdimQ7wbMujnny1AtpraDJvi\n",
       "g3kqhO1i22kkZE3NtvQ6rOJRRH8ej1mOndo2HYV91aAIlx4dhj12+5+lrsBy46VT9yzZXryIoyvb\n",
       "L7k13rYr5u0rDXwCtxG3J7W0H/YzhnXnxY/W0tdy0a9CFLMqyYOiL7y/Zlrjbf0R2f9BNKAjIaus\n",
       "yO0BzLuzpoQtxWJ/WTDGhhVliAyTfWbLXzUGg/g8+CWs7qdC3F0cGbsSkAUaa2rGsxpfU8UcrCgT\n",
       "O7XzkAuFoQkyKj269eBVjiZLKXamGxuea+5Fb3vDBWq4e0XfvMp6E6zGVv8z2ZBM9tn909t39zOG\n",
       "dR/9wIIaVh7o6K2/eQmxbBbnMaJj/4NuBbbG037yC0f5CFnlRW4TyLyFsCzFyvi9dGTEehNirXg6\n",
       "Ie5xlUloydoiyyqWDUAvwRLX06LStWGxO+u+wJozU2MZZ2ZxJWh2X8AGEF2/5dIGC+5ozKo0TyT/\n",
       "ptAar3NczGrbx1ScsazKba1Fki595stMIbJNIa4u5hMuG3azev2RsnmIB6kL/xGbOLe+hwU3/AVJ\n",
       "JA5vilXURuFlma7V7tuDLfDkeaKlFwvC9fATYlZ9H1PR0m4fsbRwGoscjaYyilg1manI/KxkYc3n\n",
       "xKOWilU+4WIBq+zIiF2pr9dP0w+Va7ioI5oaV2WXVfOObj6PrbNIWPV/TAX9BGpNmj+NxWu/UJOC\n",
       "M4pYXdvLssn7/YpqS13FZHDI+/sA2QPT9ip7+VDRz4UEJqKvprd1TAXZ+eNPmj+NRb5fqOmfVF3C\n",
       "6pYqyybvD4rVgTPlbeGMsRp/R8Kq32MqmNWTFtvS/Gks8v1CTct+Cavmj7Qi8wfVxaPhN4JUw0tD\n",
       "wqrfYyqYVenWpIXTWNz7hVqWHRJWzY/RVWT+oLq4ayJkVSGNkphVv8dUpPwveLVwGotrv1DrgjIK\n",
       "WNW4b61p0/XttcTRkFWFbCxIWPV5TAXe4bH1wEW6MqUrUQunsfD7hczHeo/antVOgzIKWI1z37CM\n",
       "T9c3LTtPhawqZG1NwqrPYyqQRVrsPBgDr+0++DGOE9Gbl/jTWFZ5KHfcfiEs95WTda9MVhqyIQpl\n",
       "FLBqfeCrIvEH1sWRIyGrClncK2HV5zEVyNJ3Rw2ZdpnbfQQDLLZWwInMzUskDXcai8cJF/x+IWL+\n",
       "cCd0ls1MolFdt9KQDVEoo4BVa7GuIvEH1sXx90JWVTXXZaz6O6YC7aBYpsPnLYtzrzNRPm9VSNJw\n",
       "p7F4fVaT2y+EC4zi+dZyWaXW+THWhiiUUcCq9dn+isQfXBc3QlYV0nVYxqqvYyowq+8D7VgTZ6Jo\n",
       "tkZM0jR/Ggu/XwgX2DFssyqq1Do/xmqYhFXrvK+KxB9cF4+VQlYV0+EJGau+jqlAOoAx5CG/8kwU\n",
       "I1FsIUV886exuPYL4dG66rAq1XOrYG6IwhkFrFrnfVUk/uC6+JlayKpi9eeUhFV/x1SguZV2Ejrr\n",
       "j6lYxYnQ5iV7ctH8aSyu/UL4CVFDlkjerOI0eEOUbG5VKbJs8v7gurivGLLqLbFxCau+jqkgI+4m\n",
       "+K9iVXgmCnUQIU50P/X5bNFpLM4OIXbjkGu/EHIVYVe/8PwYp1KcBm+IwhkFrK4ts2zy/uC6uONw\n",
       "yKpC5ktY9XlMBSJ0d89NqwviM1GcgwhJIsdEUXwai71fyDlRRbhfCMnBl/Li82Oo0w9RGrwhCmcU\n",
       "sGrdjorEH1wXR4+FrCpkWb+QVd/HVKynqVUJ2rzkmt3Qp7E0vV8I6EzegjdE4YxuVlPjLJu8P8Au\n",
       "jk2FrKrUpKqQVd/HVNi2K02cM4E3L/Fif5EO6wfueO/9Qk2cyYE3RElsVyInWTZ5f5BdPCdkVaUm\n",
       "dYtY9X9MhbUroplzJvDmJZeYH6DDJ1y0ul+omTM58IYoiU1grptlk/cH2cXmtyhCVqUSOSpi1f8x\n",
       "Ff5trS3ZQw+y7uim9gspJSm2td5eZdnk/UF2cVcxZFUh4yJW2zimYrr2sHjuF1IKzuhm1TpE22KT\n",
       "9wfZxZnJkFWFPKML1wFsCfKYinZEvV9Irf+4Lt3+4VaE/kC7WJsKWVXIaNWbVTw31wM/pmJGdHWe\n",
       "1cgEyybvD7aLF+shqwqFdVLJ6nQcUzErWO3oZdnk/cF2cUc1ZFUhF6jHVWZOE8wxFbOCVefw64rQ\n",
       "H2wXpydDVhVS0ZtilZPTfUzFbGBVc75EVxH5g+7iz4asKqRz2A+rvwrCs9pZZ9nk/UF3caIcsqqQ\n",
       "O0JWifSVWDZ5f1td3GiMq9LEzz8TWG3iQoKTFWyXzcSRKjMyqRzZwrFqnfaTaDQaIn87srOn5/3K\n",
       "RB87A25bUxcSmMS4UX0GjlSZCUmt5L6qrFmP4GxPT4/L//+10NMMuFoZuAAAAABJRU5ErkJggg==\n",
       "\" style=\"display:inline;vertical-align:middle;\" /></a><br>"
      ],
      "text/plain": [
       "distributeThroughSummation: forall_{i in Naturals, j in Naturals, k in Naturals} [forall_{P, S} ([forall_{b_{1}, ..b_{_a}.., b_{j} in S} (P(b_{1}, ..b_{_a}.., b_{j}) in Complexes)] => [forall_{a_{1} in Complexes, ..a_{_a} in Complexes.., a_{i} in Complexes, c_{1} in Complexes, ..c_{_a} in Complexes.., c_{k} in Complexes} ((a_{1} * ..a_{_a}.. * a_{i} * [Sum_{b_{1}, ..b_{_a}.., b_{j} in S} P(b_{1}, ..b_{_a}.., b_{j})] * c_{1} * ..c_{_a}.. * c_{k}) =  \\\\ [Sum_{b_{1}, ..b_{_a}.., b_{j} in S} (a_{1} * ..a_{_a}.. * a_{i} * P(b_{1}, ..b_{_a}.., b_{j}) * c_{1} * ..c_{_a}.. * c_{k})])])]"
      ]
     },
     "execution_count": 34,
     "metadata": {},
     "output_type": "execute_result"
    }
   ],
   "source": [
    "distributeThroughSummation = \\\n",
    "    Forall((i,j,k), \n",
    "           Forall((P, S),\n",
    "                  Implies(Forall(b_1_to_j, \n",
    "                                 InSet(Function(P, b_1_to_j), Complexes), \n",
    "                                 domain=S),\n",
    "                          Forall((a_1_to_i, c_1_to_k),\n",
    "                                 Equals(Mult(a_1_to_i, \n",
    "                                             Sum(b_1_to_j, \n",
    "                                                 Function(P, b_1_to_j), \n",
    "                                                 domain=S), \n",
    "                                             c_1_to_k),\n",
    "                                        Sum(b_1_to_j, \n",
    "                                            Mult(a_1_to_i,\n",
    "                                                 Function(P, b_1_to_j), \n",
    "                                                 c_1_to_k), \n",
    "                                            domain=S))\\\n",
    "                                 .withWrappingAt(2),\n",
    "                                 domain=Complexes))), \n",
    "           domain=Naturals)"
   ]
  },
  {
   "cell_type": "code",
   "execution_count": 35,
   "metadata": {},
   "outputs": [
    {
     "data": {
      "text/html": [
       "<strong id=\"commutation\"><a class=\"ProveItLink\" href=\"_proofs_/commutation.ipynb\">commutation</a>:</strong> <a class=\"ProveItLink\" href=\"__pv_it/21599c54bc0138e7a200bec66646cf405aa7e8190/expr.ipynb\"><img src=\"data:image/png;base64,iVBORw0KGgoAAAANSUhEUgAAAOcAAAAVBAMAAABPgOQBAAAAMFBMVEX///8QEBCIiIhmZma6urrM\n",
       "zMxUVFQiIiJERETc3Nzu7u6qqqp2dnaYmJgyMjIAAAAcRTyBAAAAAXRSTlMAQObYZgAAAvtJREFU\n",
       "SMe1lk1IVFEUx/86M87Mm3njxlUSDNrXcjBoUUlGhKtyNlkQpEgStAg3iWQLcxFPLXgQZFSLMYlC\n",
       "ixkKIUNoUEzoi1k2QjGboiLEZcwiuuee+57zntd6Ljrwn493fueeN+eee94A27J4ieW3eT2qw0gV\n",
       "+vIpaNLHSjVmXBsAGmwNKj0eI4z0lr78CJr0u1KtpTIic0WHksd7gxXWHarESMCcZoblscaCeFnU\n",
       "odLjsUVWKgckCwGTRm2Wx7rECpjSodLjsSmW+WZmZjJodSeVPLYia9yhQVc2LUAY6ZdlXQ2atFUp\n",
       "frhth3vxa8shUayMBpUep5llCGGkfmBMs/7JiubiTaWjdmrdbY7fubwNk/DkmrSMQtmjjEMIIx3z\n",
       "tV7ixoU+1N76i9eDafVxmGXsRIh6z5B8FY1pJPynY9jxALSzKoQwUhT1zjE2FvaXjDO5yE+qPjXX\n",
       "7FI7Ho7jXFEBTaxQFVFaLU93G6ogX0Rk3Ze0yfGIHww3hDBSshR1wI/zMzDvAwt0EERhzIm7OZSL\n",
       "SPiS1o0gn6UO7eVj2lXQJmUPMAg3xEkar3SLi9N7viBMFT0+Jy6J956Wi6LyQPisYG1vecX9v9o4\n",
       "piUcySE8sLGnvQplD5sKIUyiY+dFCS5HqkiRd7XM1N5cqxyR5lN7UyPlC7iUcC43doj94kby9Rx7\n",
       "VFIOcRoJz0XmUCYygGnyvlSzexSfDfrlidmapEusWNocTLrztBQTXKjoS7rkeNhUCGESpQ6rK9T3\n",
       "4rRlWel7p5w9ORAZsqzR+Fx2Y6VOltG3+/Yu98i0vaedzfqSdjoeRXEIYRI1Rd3zdmw110De0AM+\n",
       "ClU0Q27OwTQ3/ZZjUNoj3RjUYy5aZ/ecQDIrJ0cWi/FxXDFHsEyuW8tIpv828N1Jvmng6zEXDfc9\n",
       "awcm6OOTtevZSDO634mNoIY3Pnzrd4PGoJ9fmkfbVpgfrRd7qsYSv+2zRv/5EOc+sbXPex0Ws7ea\n",
       "7PPb/LtSDvZ3paxHlZXwP+0PVKbsrp82OmsAAAAASUVORK5CYII=\n",
       "\" style=\"display:inline;vertical-align:middle;\" /></a><br>"
      ],
      "text/plain": [
       "commutation: forall_{a in Complexes, b in Complexes} ((a * b) = (b * a))"
      ]
     },
     "execution_count": 35,
     "metadata": {},
     "output_type": "execute_result"
    }
   ],
   "source": [
    "commutation = Forall((a, b), Equals(Mult(a, b), Mult(b, a)), domain=Complexes)"
   ]
  },
  {
   "cell_type": "code",
   "execution_count": 36,
   "metadata": {},
   "outputs": [
    {
     "data": {
      "text/html": [
       "<strong id=\"rightwardCommutation\"><a class=\"ProveItLink\" href=\"_proofs_/rightwardCommutation.ipynb\">rightwardCommutation</a>:</strong> <a class=\"ProveItLink\" href=\"__pv_it/7dabd7c563b7a04c126522f027b2d35eae5ed5740/expr.ipynb\"><img src=\"data:image/png;base64,iVBORw0KGgoAAAANSUhEUgAAA50AAAAyBAMAAAAtoKLfAAAAMFBMVEX///8QEBCIiIhmZma6urrM\n",
       "zMxUVFQiIiJERETc3Nzu7u6qqqp2dnaYmJgyMjIAAAAcRTyBAAAAAXRSTlMAQObYZgAACxBJREFU\n",
       "eNrtXA+MHFUZ/253Z//M/rkGDdA2mO2dPRsUu2kVCC3tqsFGEsoeRNoG411OiBGRnFJPKg0uZyJX\n",
       "oLp4kf4BZNoGClfgNsAFzqBd76DGFsimapRa4CKt0UbrpVwbbiue79/MvHnz5k93r0f2bl+au9n3\n",
       "fe/3Zuc373vffPPrAdTSmqamSlDX7VWo/6Z20t+Jqal5tSE1De/Q6vpSJEqzgE9Yy3jd8UitfObq\n",
       "/Eq0zQY6ITnGDpQ5zmfc/P6P1ckpD8s6H2zwSdqurLEH5auEeOqims9CuTfj3ylccPkec53PHxtH\n",
       "qUK1GO/VfhrNRf9O6phLnJnjfMYrxuEfqgY5W/t5XK+dg9OIzLi5wSdqETPObaoWI1Sp/Tx+dy5O\n",
       "u2TG/YUGnwDvGkE21l31E0937efx3rk4pbLOd+Yc5/Mu4yiAr0f/6CLvwBdbuWwB/znV1WrufiMt\n",
       "3hck0bJYAFx81seshlNCljwlKw0+QZkwDqNlFDnnw39Qp0ei+4VCahyg1fg8eEKd1I+3FaNjsN6D\n",
       "mbvhp+guyHGAUUTGeq9ZkVPgAvNh882TuBkLWz3V4BOC5rePoDW2qwxXgrKcxk/JQlXJj0sgiBjf\n",
       "YPjs1+CUfrwZwsUbrzCdZQCREnwbZWIWwDFgo2ThQTOcYCNJ4qQB/mSDT2jqNA/RprRag++hVUou\n",
       "l/o/u/sgXhjBCkTSjB7iswrU/7LjIAl6a0xnGcBqzQ5YYqNks+rIyEkl+Mq47LssLTT47Chb+LwY\n",
       "1NM6n9AjyTkw/U15GNS/dA9NU0Jn2XFT3uQz0ukAcLEEMKuPksyqIyMnempyPh8vN/hcWuDjLVpm\n",
       "8XGDT6c2WIL9AF802fqQLUtqM/h0angxA+xeIQB6jKJOicwNnfoJ0v3z70Ksmdt83gt8PqSehfDY\n",
       "sCefRbgjXiiZD50TeN9lFRx0UPRgBvGPNs/MWgHQi0/ilPrrtRWu+G5p0e4Gn1zoww8BvfDnzhLP\n",
       "J9m6yA9zN4ymkz2J2D7T6Ttm0TDYCXtyPDPGWG5jvBzUz6uFA2ABtKxPY4AwKzTfSmYpSZ+Cxhmf\n",
       "ZMzb1fOZIjl0uQ7pVN/nqjyIoCdbNnRlLeuzR/9h7oZq1+KHP4mur+Gz5zPmd3/97bQ1chpjzY0x\n",
       "8cZh9HMrWAH5UcYAcdb2JfhJNyVdQ8nTjM9D+PeJ6vlMkDm0OuRTOcV92MQz69kGn3C2rfEz92Q1\n",
       "o5Yo89COv9flyyA+t+Nn3Hz1fJKx2+sx3Mb5soxRj4/74fM3CWfbS35upXnVjOpVutMO9XgWbBAu\n",
       "XlqJYvV8krV9qB75pCFK36FYrhu74kzae+iTv3c09f+oy3t8IF/NqH9CV07+vgy1M4zP5MGBgW21\n",
       "5ENHBwae7q5HPgN80Kv6fXZVLZqufqjDi9oP9HX/QV/f5lr4bO7ru69Uj3wmLG+6ZlJvcstD1ecb\n",
       "bzn0f0LnEyXBW9gLBr4JaRStBcv4DOcc7xmPtnZsWq5O8HR19mDlo7qTbv/W9GNepPP5JRKSFfZC\n",
       "9M5XYRFJk+PUbd3KbOBCfLBRH2j0MD5DGXjOhv7ygR6XkBJ/8JtdwL/5YR1SLw8QFCrH3Sd2sofH\n",
       "YRa17+p8RiDAnqD2jV4NLye0oB4M1FeWl+P5g3AVPq6IPUY9oRsu44ExyhP3w9flMRgjqOs15V84\n",
       "BBSZu94h9fIAQcSOuU/sZJ+lfCbKEZbvPbBTg1+nM0Yu/pfhAYgfDkLJeCzjeww+3wA+HSIob5Ug\n",
       "LucTIyQfBXgF18cKzF3vkHp5gBjL3HFiJ/tHF2/PR/uBzmds7CZEVxsOvKgNDf2c8Ll7BQ6k6Oa+\n",
       "eUO6BKwWbOkx+PylggK0uuwOuuFilNDN6Ni6p+5pO06e1jHCNUNoVvS7o+U2OqneASMtYPPimWlJ\n",
       "28zqss8W3SZ2ticmZxOfRj4EW25B361Zo5W/ocSzX8O/M2tpJS+eO/gnzB6pBVt6DD6jD2cB9uY6\n",
       "NAijSI1Rks+KCZL6faWCbQThCMvRPqW10kn1jki2nWBYvLi2EZ1vuGA1e0xM7atAYg/Y86RYndQt\n",
       "4/YE9EKDzxdQuNz5EqgkLA1BaRRf/8IB2EPZS5B4RWrBlh6Dzzh+t74c1oHyW42ixPeJ8wUzSjd+\n",
       "1U4QfsU03r3wDp1U77gSFIxh9eJA8kBigMW8HNrdJiZ2eAEk9uSE7aI8NZOkCErs9R/zMUZ3sifI\n",
       "7xt8NqfJtVXu6uvrRXw+RrfTrbCur68vHc/Fynh7JLVgS4/BJ9FbLMT/FSSiUZTYkFgzbioGSNZM\n",
       "EB75Ku38OFxOJ9U7FgLBsHrxICzD5s0eE1P7CpDY4xOSCsxMNkHW50vIy5xsTxT0vSrhM6nh9DUH\n",
       "nXR9hm4gDpMQpqsRrsF8k1qwpcfk8wgaPwlbBwgXBOWqtKCFGSxEj2jPpylCcDfVzlTQxe7kOyYZ\n",
       "nxYvs5H86ajV7DUxtW+6LmO3Kx/aKoCZGeXTSqAvIa/ulBAfyox6vJ7Tl+A1fPBHgKOwXcOWBCYr\n",
       "mYVkKXY/rQWbPRY+cZuvTJTJZSUo/a+hGbdraBz70VTouA5ezFCE2MocjKDuHybz1F3vOAZBgmHx\n",
       "YgjoXyoLmV/sFczzldPOE+v2S3aWObslRPEtUphJOgUCfQl5dSdVLOjTlwsGn+rtBYiicBa6J4tu\n",
       "//YiqRg/gAxrjqE7X1lIa8Fmj43PL3+6lV5WjALqm/+4FaEo86G9gH8UQ13PX40rSQQBnjn5kxzC\n",
       "vOl15q539F92KcGweFGEAgKJLTuskTSVN7tOzOyhv2V4u97uEa/WthldngKBKT/BwXA6JoJNWvgk\n",
       "bQnaymgrkopxAG1TjH09JTR6RD7p/a0JKGA52huSYJrucRPDPrMBckhmdpyY2gPpE0Xeztpq8Wq1\n",
       "gl0vLW+i9FoUSUuboLa2KLH7Rzq8X3JxTqOCKTxu55NLh4WK8bBLPZ6L4UtXyJNqdhS+1BVzWILB\n",
       "eTGQExKz48TMHiwczUrO/l2xKo5VA1Qv7SFvptJrs+ZNRNJeSmyitobjZk7BKbER4M80LwTqtIjc\n",
       "yu+ITORd+EyKFeOyLz5tKPYjN8yyuxcBie0Y8x6T9D5x0mwr4m5dL+0iiib3AJFe05q3IZJ2UWKb\n",
       "amsWO8hnXomNAFfpWm5HKTZxQg/p+Fh8//142oVP323G9WDJ0WlMWTg9tf4ApeulHUXRVNlFpdem\n",
       "DxFJOyuxObU1B8IpsTHAZh3BTYqNnAbJDdAhODT01OgKj9v5ZHppZ1E0UXZR6bXpQ5SCzkpsTm3N\n",
       "gXBKbAw4oSO4SLGxEz01kc/7oMFnaMIeb33Jm6n0OtRmfZj3VmIjTy4F4pTYvrTczGlUaZOcYOP/\n",
       "I6F2pz0f8iVvptJrXPM2qEGZtAefRG0dDJnBlFNi+9JyM6d/v4gjrpAPBRr/X1CS4I46yZtFUTSR\n",
       "Xu80cxIskrawIdFEB7Ha+umEGUw5JbaDlls2K5wh13ylNBWY43w2layf1zjKmwVRNJVem4+zRCTN\n",
       "8ynRRFO1ddTMuHkltlzLLZtVuYBUU45bz7zx/+3Jg2rFqd7nR96Ma96W7dhPwa7ZLT/3gxDIt8fQ\n",
       "3IInK+3P9b9XI7zhMOvxfuTNuOZt+eyHz3ZXRB8I0fS6gK0eH1/Q4BO3h4Tz36IX1vzIm3HNm2v+\n",
       "lNhLXGy+EFKF8GLb+7LG35OSL4jz/z67d3pgtlg/fgMafLLE1LpCzrPeJPyVBdOCk7Tuwsn8dPFZ\n",
       "738vNZye2ekOnJc3rNP391Lr/u8Zfw7qv6m3saemqal5/wesFdlM7Tn/2wAAAABJRU5ErkJggg==\n",
       "\" style=\"display:inline;vertical-align:middle;\" /></a><br>"
      ],
      "text/plain": [
       "rightwardCommutation: forall_{i in Naturals, j in Naturals, k in Naturals} [forall_{a_{1} in Complexes, ..a_{_a} in Complexes.., a_{i} in Complexes, b in Complexes, c_{1} in Complexes, ..c_{_a} in Complexes.., c_{j} in Complexes, d_{1} in Complexes, ..d_{_a} in Complexes.., d_{k} in Complexes} ((a_{1} * ..a_{_a}.. * a_{i} * b * c_{1} * ..c_{_a}.. * c_{j} * d_{1} * ..d_{_a}.. * d_{k}) =  \\\\ (a_{1} * ..a_{_a}.. * a_{i} * c_{1} * ..c_{_a}.. * c_{j} * b * d_{1} * ..d_{_a}.. * d_{k}))]"
      ]
     },
     "execution_count": 36,
     "metadata": {},
     "output_type": "execute_result"
    }
   ],
   "source": [
    "rightwardCommutation = \\\n",
    "    Forall((i,j,k),\n",
    "           Forall((a_1_to_i,b,c_1_to_j,d_1_to_k), \n",
    "                  Equals(Mult(a_1_to_i, b, c_1_to_j, d_1_to_k), \n",
    "                         Mult(a_1_to_i, c_1_to_j, b, d_1_to_k)) \\\n",
    "                  .withWrappingAt(2), \n",
    "                  domain=Complexes),\n",
    "           domain=Naturals)"
   ]
  },
  {
   "cell_type": "code",
   "execution_count": 37,
   "metadata": {},
   "outputs": [
    {
     "data": {
      "text/html": [
       "<strong id=\"leftwardCommutation\"><a class=\"ProveItLink\" href=\"_proofs_/leftwardCommutation.ipynb\">leftwardCommutation</a>:</strong> <a class=\"ProveItLink\" href=\"__pv_it/323d5786329d6297901eee08f4e4155f0537ac8e0/expr.ipynb\"><img src=\"data:image/png;base64,iVBORw0KGgoAAAANSUhEUgAAA5wAAAAyBAMAAADCYsnhAAAAMFBMVEX///8QEBCIiIhmZma6urrM\n",
       "zMxUVFQiIiJERETc3Nzu7u6qqqp2dnaYmJgyMjIAAAAcRTyBAAAAAXRSTlMAQObYZgAACyJJREFU\n",
       "eNrtXA+MHFUZ/253Z//M7N41aKDXBrO9s2eDYjetAqGlXTV40YT2DiJtg/EuJ8SolayCJ4UGr0ci\n",
       "V6A62AhtFRjaQNureCtwgTNo1x60sbW4QY1QK2ykJVq1nnBtuK1Y35+Zt++9mZ0Z9/Zq9nZfLrdv\n",
       "3vfe9+2+37zvfe+b3y7AdErT+fM5qOnyItR+UXvp62/O/2t6iprGths1PRPx3CyAE1bRl73bfzpN\n",
       "OLtqfCI6ZgOakCiYle76hlObw6qP1MhbHnNqfKABJy6Pp9n+M1DhvrUp491pzyWu4rXv82FI2ZQi\n",
       "r2Hd5XPUOZz3sFqzXqGK5pSPTm+6i8/5MdSSpfdPwcXL1DecWpFVf1upDnOWp4NXqOjH0Goz6Dzg\n",
       "JNzYgBMgUlpZGyrVsdpHaO+BVzzjx9Ahy7E6CffrDTjhDeZhY5lKdRzycxzKTN9fM4fdnC5/Y9Y3\n",
       "nHewWgBPx9bxBd5LLbZ8yTz++q22Zd77a1+76JLjbQtZfeuBnqwPqwsthx13Aj9RbMCpTLJqNI9c\n",
       "Yiv8EzV6hLif0JsnANpZZPsfY0SHte5jRk6pUwhUNlmxu+C7zBG3wvcMH1ajRQhcVDpkvnwaFxZi\n",
       "qW834AyWTp0RtEAez8NVoCyljtFhmark36UQRFO/zuqDoqmW5A1XljpIhejZbwCabo31ieTgq1Yd\n",
       "WV3hyypC8XYSvzl67tMNOJt6S1W0Ia004BtotWToonNYY3hZBIsQSVoLE18XYCQHnaUOEhhEzwpQ\n",
       "/80rWWkI9Y2+rOZAJR5VmXD6LIv1uoezJy/AORfUM9bEQr9DuIHRbxqAEetD99MwZnXWhDPSax/U\n",
       "T6OY0DleyVyhrk76spo2OznD+Vi+7uFcrPPOFi0gbYJNbNltMAf7AT7JgGvJ4/XV6W7oPby8drKQ\n",
       "iS1VWvdtNZ66vtfqSvfOtyRPU9dwbgI+FFLPQbgw5jmxWbhV03PsINmSRvuaF5yTeIdMreLgpRsp\n",
       "hvN/sNr8x88WuXy7UKKZuodzLndyQNH/IPyhN8dPLNnKyL/SrhhNJvrjsX2sUzgfTQlwsv7cRvg1\n",
       "uAdU/SC7vgLUj1t1m9XSYMkqtNxCAric49F2gsJJhvypcjibSfCcr0E01Xe4vA2azifb1vWlhYnt\n",
       "t/6VdkW1b+FDH0TTy66XHAVxdbL+pY1w10fw/Gwpzf3RV1jdbpUNlq12L8IH1GbHJZQ4Q+E8gl9O\n",
       "VQ5nnJgwahBO5W3uYgMPrGcZeUK87vRjb8pF5svqImUO2u13u3yYbtiGj7UDlcNJxm6rRV+r8Ylx\n",
       "loLX/EzsL+Li9XN+7p45bu/Fj9VBJZMsk4I3XU03WVjxbOVwkpV9pBbhpP7J2p3MKDd25dmk99An\n",
       "fyVcbv12n/eYgMua8Wf1r9DX5fyADJWzFM7E4eHhh6cTCh0fHt6bqUU4A7z3q/Txtf8STVZHTZkH\n",
       "s++ake27Q0MbpwNny9DQvblahDMuPLaaaXLJzQ9WJ754rUz7B0w4UfS72XykwBcpgKLpXyc4w11l\n",
       "7xiPsqrgKg6d9qcmeKYyebB4IW+e9V+eWf2XmHB+irhjhSKi3PYiLCDxsXnOXbM8HbgYV263xrEW\n",
       "E85QCn5iU/78wX4X36I98KU+kB/1mI1cGXcVMxPqhLvhcvLwBMyi8nUTzggEzFPjvvFr4Pm4EbS8\n",
       "gvrC0rw2cBiuxvWi3MLSCBm4nNeLtTxxH3zB2QFjDepaQ/k7dgBZh0au/K2cWDShFdwNl5PPTjjj\n",
       "+YgZ6d2/w4CfJ1MsCH91bBi0V4KQYwcjvoXBeRT4SIhoeS0HmjOcWEPiRwAv4ASZ7tDocFCTxZIJ\n",
       "c5GXNVxOfmGd7UyXb5lwxgo3IrQ6sNdFZXT0+wTOncuwF0W39k3rkjkw079CC4PzUaUXZ0dupZst\n",
       "1hK6CdXF/XRXx0myH2IN144iq+i1p+0rYGvkT8Ydhl18oE00oS75aNbNcHl5fGo2wWmFQrD5ZvTR\n",
       "Wgya7huNP/V5/JpaRdN3Wtfh32PwSPpXaGFwRh9KA+zu6jEgjKYfa0k8JcdG6jeVIpYRDcfM6OxD\n",
       "RjsZIjRy0dedKD4L66I4ku4WTXgYpvIV4CAP2EOkWI0kKzV77HmxBeczyFfueA5U4pNGIYcjEJww\n",
       "3kXBixNnRdK/QguDU8PP4pfCGlB+aVAt2j7ZXDClZPDDdqLhZyaTexBex0PERv6gRh8eCOKrQBFN\n",
       "LEWfwcUwkcMz4CBPTNrmZE8VptqDI03vbjvZ2qJFuxeLYW0Pk9+x4GxJkqlV7hgaGkRwPkK30i2w\n",
       "ZmhoKKl1xfLYNEn/Ci0MTkycgPn46x4Rg2qJjcpp4qZsgMTLRMMPP0cb3w9X4CFiIzcmHbSPmQ+S\n",
       "CQ/DVL4MHOTapEPepQrlTR99HMh7vgi7FmPXdpagz1AxnAkDB65d0EtXZ+h6Mw4J07UI12K4SfpX\n",
       "aCnBeQyNn4ItwwQbouXqpMR7GdGjx4ynk1RDcCelwBTRXOMhQiP3+YymbOK4JMb7HW/CyzCVb7gu\n",
       "ZZcr79nSfqlqwOmH0+6AnR/CLmPsxuXTmJWCt4L5HLyEK78DOA7bDJwwjmOsEmlI5GL30fRvqUWA\n",
       "E5dWZTJPZpVo2foSMrjNQOPMf016z3XwbIpqiC3vggOo+c7EABkiNJoD0F/EeBV+sFsSn4AgZwI1\n",
       "tCpnyhu25JfuyHNywT/xJaJXAU1fnHYH7PwQdhljV5Xz+fR5ggWnul6HKLpjQnen0WrozpKE8f1I\n",
       "0HkC3ffKfJr+LbXY4Pz0h9vprGItoL78l1uQFqUVunX8Lxvqe/oanD8iGuDHp7/ThXTe+GviJsVG\n",
       "OkDHo9fnaDzKi7defhlnAjW4GjbloT+neLlV7pYn6+FqLE5fnPZDlfnokpM+IVud4uEkZRHaO2nJ\n",
       "koRxAO1ZJvZWMMhaZDjp3W1IWkCo7Q7ZdZIhdkNszBEnccmE5mGYygPJU1lebpaV8mS1g50W7Vhs\n",
       "nTgetI0j7VRksjVHi3YpHMN6XBKFJ2xwcnGwlDAec0nBc/578TLnaNqshS+z6ZSGcIbMMafA9X2M\n",
       "uRs25UH9eNrh3b8hezzMF6C0aA8etMSdFnjQhCPtQYOmZGs4ySmMFj2tUob1AnJrvy4jMVAezoSc\n",
       "MM77gtOmxV7z0pkXx8S2F9zH5N0Ng+s50vZlgrssWrQHD5rnTtt40Jgj7UWDJmRr04tYCgteVinD\n",
       "Gp28cV1+YP5YsjycvstMU78S4/oMaudo09bJyaJFu/OgOe60nQdNONJeNGhCthYV5rysmgzrEWKr\n",
       "R+rRoE1DcMIOp0mLdudB89xpGw+acKQ9aNCUbC0qTHtZNRnWtJMM571Q93CGJu3OlhKUPbhcMnea\n",
       "50FTjrQHlYuQrdVSyOTLqsmwHlc6HLo2vnIEcJs9FKIEZS84Je40z4OmHGkvODHZOhgqiAq94KQM\n",
       "6388i92tFAoFGl8ItIe24xZBmZ9YspWJPGiZOy3woDFH2osGTcjWe+O9gkIvqybD+iyZ8+WOYUB9\n",
       "w9mUE687LYIyP7FkKxN50DJ3WuBBE460Fw2akK2jeVGhh1XKsFYuIlmVk+I7b3yZHoSfupCSfH54\n",
       "0DJ3WtiW/aSGWuSw3Y/VwEB3DOGfcUwp1fkP0UiJtVIK3g8PWuZOCzeKHzhtk+/HajS5JmBLwWvz\n",
       "GnCi8qD0/jdb2TQ/PGiJOy3k7HzRoBfJOTw/Vpv18ELbA7LGz0Q5LqI9F9T6YOVDN4uXX4QGnDQk\n",
       "FVfVBSSXhD8zr+KxCXHXTQxUCc5a/wHUcPL/Z/pg1RKYVfsB1Jr/eeKPQe0XlRIi8c8T/xdmlvVU\n",
       "t8mZNwAAAABJRU5ErkJggg==\n",
       "\" style=\"display:inline;vertical-align:middle;\" /></a><br>"
      ],
      "text/plain": [
       "leftwardCommutation: forall_{i in Naturals, j in Naturals, k in Naturals} [forall_{a_{1} in Complexes, ..a_{_a} in Complexes.., a_{i} in Complexes, b_{1} in Complexes, ..b_{_a} in Complexes.., b_{j} in Complexes, c in Complexes, d_{1} in Complexes, ..d_{_a} in Complexes.., d_{k} in Complexes} ((a_{1} * ..a_{_a}.. * a_{i} * b_{1} * ..b_{_a}.. * b_{j} * c * d_{1} * ..d_{_a}.. * d_{k}) =  \\\\ (a_{1} * ..a_{_a}.. * a_{i} * c * b_{1} * ..b_{_a}.. * b_{j} * d_{1} * ..d_{_a}.. * d_{k}))]"
      ]
     },
     "execution_count": 37,
     "metadata": {},
     "output_type": "execute_result"
    }
   ],
   "source": [
    "leftwardCommutation = \\\n",
    "    Forall((i,j,k),\n",
    "           Forall((a_1_to_i,b_1_to_j,c,d_1_to_k), \n",
    "                  Equals(Mult(a_1_to_i, b_1_to_j, c, d_1_to_k), \n",
    "                         Mult(a_1_to_i, c, b_1_to_j, d_1_to_k)) \\\n",
    "                  .withWrappingAt(2), \n",
    "                  domain=Complexes), \n",
    "           domain=Naturals)"
   ]
  },
  {
   "cell_type": "code",
   "execution_count": 38,
   "metadata": {},
   "outputs": [
    {
     "data": {
      "text/html": [
       "<strong id=\"association\"><a class=\"ProveItLink\" href=\"_proofs_/association.ipynb\">association</a>:</strong> <a class=\"ProveItLink\" href=\"__pv_it/c8aeb43b336d28a8890367fe76a6a2c0ef36260d0/expr.ipynb\"><img src=\"data:image/png;base64,iVBORw0KGgoAAAANSUhEUgAAA1wAAAAyBAMAAAC63cdAAAAAMFBMVEX///8QEBCIiIhmZma6urrM\n",
       "zMxUVFQiIiJERETc3Nzu7u6qqqp2dnaYmJgyMjIAAAAcRTyBAAAAAXRSTlMAQObYZgAACrNJREFU\n",
       "eNrlXA+MXEUZ/2533/55u3t7IQYoDWZ7Z0uDkl6oAqGlrBJsJKHsYaA0GO9y0hi1klP0pNjgcSay\n",
       "BWoWG6GtIq9toPYq3gpcyhm06x3U2FLcoEZaC2xsJVq1nuXacHvWOt/M2/dm3v97t21ufZPL7ew3\n",
       "3/fN7PzezPfNN98uwGxKy7lzZWii8go0Y5F72Otvz/17dopaRrcqTfS5U+WmhAtWsZfdW382S7jy\n",
       "TfWxFzUnWpCuqpWuIMGVbNOqT83ZQY5aER8LIlzbc5o1GPBpRR7qawiPQ4kWHUYeKLi+rdVaiz5V\n",
       "tHY2hscB7arDvhAkuJI1rfo7vzoypcbwOJQxK+KG4MEV05/69X513KY0hsdpy7Yi7isGDq53tB0w\n",
       "4du6/LpBPE57ac7+UQsSXPdrtRB++M3jC9yXgZHp3fZlrjImnlT7QvcjocaTsjJ96VrQ4JImtWq8\n",
       "AhCZB/8iRGcXkTGFtAmU/6sMF+EuZ1+B8sBfNELim/Bdt44oz4Ksfsh6/SSWY5rSU0GDK6yfumLE\n",
       "GdhegetAWkq3Rdlq1qkdQSaQ6C6qMG8lk/30tWAnpPEAlDSeWBm+pHYEik1HyAMxug0mLXfqk0GD\n",
       "q6VHr5J5uVGBr5LlQ+dm2MJ5pjTGpC4ahLwKw2VYCTZCHI+opN4RZbDpiNQomNKE1eiXFAMGV3dF\n",
       "gOtSkE/XZzHWY2HckcaYWOlnR6rbSipcVkI6j6BEg4syWHdECtNrDdfTlYDBtaTIb4byfyA5oc2i\n",
       "nRmiTBE91Jip4DpY6XzsQh65o8QpAQ8dkTIuLdI4me1617A3BAiuh4B3NeRpiFZH3WaRMqUymsXJ\n",
       "5OTLwQ0u5AlH9K3yLLFHLh0xnn++iNth2iqsAfG+gMF1Kec1E1dvEP7YU+ZnkdoVNCScgaFM2/Zq\n",
       "76OVeKcAl8avC1Ge3Sl9q7wG5I+ZOtJ643jO0NkMly0d/QkGF5V4yz9crdT5rMx5tOT3OP+czN2z\n",
       "7Wt6c8JD3183JLqBYUyDupKrD4EAl87fL/LE9RlJHXoDTB3pvWk80kWP0mOy5RJIn2ZwHcSXE/7h\n",
       "SuEm3arMebikU9yb9TxwrkDXDBO40kN3GUMQ2UNHoYGuBHnZ5TD8LtiCh7QB/3BR2S1zfy9MTnNv\n",
       "tBBv0gNcyaphe9rroTujlfHQUTy7OgQ2IV51c+iiCyNV8g8XXZkH5z5c6dP8zKjPfuLaM1n31bVO\n",
       "XCmbv9Xr3t1iQ9TCQ0etxehCmwsUUs4wuNIHhoaenI2rcXRoaHff3IcrNMUjMHC+uxv0Kxi3uYp7\n",
       "X12z7xcKG2YDV6ZQeLg89+FK1fh35/nyP/qpy/yKHrahf1CFay3ARj6MWV+aon0NXWQHVzRv+0S4\n",
       "lFVVx+bIyUbOYLh2AZ+N6P5io1VeosJ1E90uWRgTpPtegQXUvUwyrtXLc6GLsfK1upxGUeGKdMJP\n",
       "Tcpf2t/vsFcnH/t8LxivClQiV8adm+2I1sOITkBTl6+ocMUgpJ4R9ozfAC+llHDdK5dfXlpJDhyA\n",
       "66k3a6Rox+Q+uIrXi1qeeQQ+a71Bogb5LkX6By7gkgWRK393araRsR3G/wtcqUpM9Z0e3abAL7Kd\n",
       "qTrHm6NDkHwjDGXt3MBTNLgOAe9pUC2Hy5C0hgs1pH8I8DJ/NuGJXJlyaraRsR3GBd0Mz0P5hgpX\n",
       "onon0DDmTUgYGfkehWvHMtzlyHZz95psmW5ct/eIFA2uH0k9eJa/lxk71BK5m9TF3XvnInpfRzXc\n",
       "PEJ6Ja/d7V8EE5E/GS5SzM1j7U4y9WbzMFJTzQ1X3dWAjfeQD5NRWDhqJPXcZ/C1cxULLyXzB/6A\n",
       "4LT+6ZaaSNHgij+RI2fxfLcCUTK9qCX9nNHSyl+XathGNRxRvZ8rlA4qIhA57+YB4v9Ei2JzLNfl\n",
       "JIPNK7BiGkboNDTGNZyh5Kjvc704hxfX4XqB7GXb9oJMDf8IlNHCy8X9sJOBk6IeQWYtLhGeosGV\n",
       "xNvVpbAapF8pTEtyjxGucKfUh3epVMPPR+tnk7dRRCTyp3wWnBaarwPJSYY0wws4ftMw0pPQkIMX\n",
       "kfzxJe5sGk/Ut4/4BeHde3W48KqaTJ10f6EwSOB6ipmyTbC6UChkk/lEBU1T12LiFwgUDS7AcNZ8\n",
       "TECPKUxLYsQYpmwphai/STX84A5G/ABcgyIikZPJhc0y8wGcZLAZE1vMw0hOihEEv5OIksc88NV5\n",
       "5KrfngR/m92IIVxphYUxe9jqityu2vkoW0twM8K5WGorihQdriNEfgo2DdF5pFquzxrSEoaL8SPK\n",
       "81mmIbyDZSjUyOyiiEDkoqRKSyl91NA8pcJlI4PN62/ttBiGdBasgoYzLig57YFP4xnzfbDPCoac\n",
       "j0RiGPNVrPwe4ChsIaukDVKIRToH6XLiERiU+rIcRYALyzxpskLnkWrZ/CrpbItC5NR/LcXuW+HF\n",
       "TqYhsTwPY4T8QHqAighEVYD8xZQ34fu7DM3HIWwrozZfvq3CD0PYTerFd14oSkY8OJk6z3bf224b\n",
       "b8mmebgwjBkn213kwRx5cLtKECKbO16/rDxOnlRpPvwNevMcxQTXJz/cweBCLSC//te1RIs0D7qK\n",
       "+K8U6X3+Box/UA3wk5PfyROdd77GVopAZAJFlF5XZh4e37z5qittZVhz5M9ot/Rh1MuDfMTVd5AT\n",
       "JVMepHUeyzRPT+U4r2+Kh4tFkQv1wGSJ2HniTBHzoGJbd680ihEu5pcpBi0g1HZFzDqpiLkjTeYg\n",
       "zECG1kLZEyVhGGq5kXc6PeeFJpZfLYT/ULK1t8P1CkPn4WM3Y+3u1+96gigf1YlOmODifMh7Hle8\n",
       "eKMiXNKSZdaeqFqLXmnSaRDhOlJlTsAMZGgtXDxq+Ty/w30iz3mh8PFiK5moDkFy+AQx1S6ClIcG\n",
       "XrnciydL8apLUimfIPo2P9MD9nClYZ3oRVY8wWXSYq656ayIMomt1ZnIOKYgdHMrwpgXapWuSWmY\n",
       "JUMmao3Gg5L7FDjllueJPGy5s4tJyrcBoiWXpFI+QZS/Bn06aw+X53K+U2vS442LbHNpoaa8UKt0\n",
       "TZbjWYNYlntPJVegW+2S57lCdb3VvMG6MgCXpFI+QbSbawxcWmh4QoSLzwu1StekNLIHDee591Ty\n",
       "GESm3fI8KY8OV12ZBpddUimfIMrD9TAEDK7IpLAZesoLxfTpfQCf6BG20bO4TlwTBwnPjmXA98By\n",
       "sZ0Tc/gEUZ4zcF9pgPsEV8NTXigMl+DeZLFcE1yNSbR7LoKUpxN/YUF3NTIV9Hdd8qi4BFHO1QgF\n",
       "7gtDvGtomReq53jqhiWeTfenEnv6BMkv47ecrRJKOUHkwcArn+YZ7oGdeWNSqTETlUsQXW4yvEGC\n",
       "q6Wsb4yWeaFajqduWOTehU98iB5COcmdH6mAdUKpLkh5YBMIWRSvvZU1J5UaMlG5BFH9K2JB/LIr\n",
       "91XymeWFwvAzZklPghiKMKZ5ekgqZQmicp8pYByoH2o4ZhHi9ZIXCr9MmSW9CEptFiFeD0mlLEGU\n",
       "C/EmLwsgXI/ro51RXig8+xswSnoSxMCr8QLFS1IpSxDlLlAC+TMo3IKY1fWk54I2L+77oL9Rr34O\n",
       "AggX8bq0ciEu/2ng9bDviI6Oc3qgQXA11w/kRbMXtDtD4NV/adgP5DXZz09+FJqxyCxhDH9+8n+H\n",
       "zKfPfDk30gAAAABJRU5ErkJggg==\n",
       "\" style=\"display:inline;vertical-align:middle;\" /></a><br>"
      ],
      "text/plain": [
       "association: forall_{i in Naturals, j in Naturals, k in Naturals} [forall_{a_{1} in Complexes, ..a_{_a} in Complexes.., a_{i} in Complexes, b_{1} in Complexes, ..b_{_a} in Complexes.., b_{j} in Complexes, c_{1} in Complexes, ..c_{_a} in Complexes.., c_{k} in Complexes} ((a_{1} * ..a_{_a}.. * a_{i} * b_{1} * ..b_{_a}.. * b_{j} * c_{1} * ..c_{_a}.. * c_{k}) =  \\\\ (a_{1} * ..a_{_a}.. * a_{i} * (b_{1} * ..b_{_a}.. * b_{j}) * c_{1} * ..c_{_a}.. * c_{k}))]"
      ]
     },
     "execution_count": 38,
     "metadata": {},
     "output_type": "execute_result"
    }
   ],
   "source": [
    "association = \\\n",
    "    Forall((i,j,k), \n",
    "           Forall((a_1_to_i,b_1_to_j,c_1_to_k), \n",
    "                  Equals(Mult(a_1_to_i, b_1_to_j, c_1_to_k), \n",
    "                         Mult(a_1_to_i, Mult(b_1_to_j), c_1_to_k)) \\\n",
    "                  .withWrappingAt(2),\n",
    "                  domain=Complexes),\n",
    "           domain=Naturals)"
   ]
  },
  {
   "cell_type": "code",
   "execution_count": 39,
   "metadata": {},
   "outputs": [
    {
     "data": {
      "text/html": [
       "<strong id=\"disassociation\"><a class=\"ProveItLink\" href=\"_proofs_/disassociation.ipynb\">disassociation</a>:</strong> <a class=\"ProveItLink\" href=\"__pv_it/5e8f6e5f88037c06ed53c96262449941e33a29120/expr.ipynb\"><img src=\"data:image/png;base64,iVBORw0KGgoAAAANSUhEUgAAA2wAAAAyBAMAAADSLkV4AAAAMFBMVEX///8QEBCIiIhmZma6urrM\n",
       "zMxUVFQiIiJERETc3Nzu7u6qqqp2dnaYmJgyMjIAAAAcRTyBAAAAAXRSTlMAQObYZgAACwhJREFU\n",
       "eNrlXA+MHFUZ/253Z//Mzt42pAHapmZ7Z2uDkm6oAqGlrBJsJKHsYaA0GO9y0hi0klPwpJTgUhNZ\n",
       "/tQsNtI/igxtoO0VvBW4lDNo1x7U2FLcoEaopWxsIVK1nuXacFtrff9m5s3Mm5m9ub3LXefl7vbd\n",
       "974/s+8373vf++bbBRhPazl/vgLTqL0G07nJXfT1D+f/Mz5FLYNb1Gn0vpXKtIYNVtCXXVt+OU7Y\n",
       "8tPqbS+Y3qhBqsY6HUGCLTlD7z7lV0eiOjaTJb+GBkXEx4MI2zM5fZco+NWxE+SHerx3IZ3nLr+G\n",
       "oiWXdxAo2H6g91p9L4IPkXDWm03n+YXv+KPm4i+CBFuyrnf/6Ht3QXCky958Oo+S8Wtqn4j4QPBg\n",
       "ixmrZK1vHWiZ3txA8KzzyDN8u3QRcW8pcLC9p3vGRI9fHZvQ7+8a4DN4jvs11ZpzvvWCBNt9ei+E\n",
       "3/zGoXney8bK1I5+P2hb4iln8Axxx8a2+Q34xjY2p4poC03VgwabNKJ34yiKj8yCfyOie0hJmULG\n",
       "BG5Abu9/an8JbnePJwgPvI+6R42zwzr4kZdB2FSO10IXGYe0N0/idkxXfCposIWNXSaGAoZnqnA1\n",
       "SIuJu5RFM0/2F8wEEvGuZNWtI5FNOvPlq8BJUAXGA4Djkj06X6wC32QGQXUwiGKOaBnuJRGU0JOf\n",
       "DBpsLV1GF20b16nwHbScyNz0C4JtQqNMbAHhvzMR/DXor8BycBAkfJSHtE5emWaQKhMYDGMnKBNP\n",
       "KA2L3sWiUsBg66yaYLsU5NPaLMa6BJs/plEm2noZbOhIdnOZwSYS7AWNx4CNKdNho8oEBlsKOo8Y\n",
       "tqerAYNtUYl3kvJ/ITmsz6LTFkWYIlwqEznJdBWvm+XuxzbMI7dj5JZzysDLIF2jSvaWLo2T7m0f\n",
       "WHxGgGB7CPiQRD4L0dqgF2yESUmrfEiSzslzwQs2zBOO1EwhyTm0X3nBhvCGcutfb6xzeWNTi/cE\n",
       "DLZLuUgchYbr4S9dFX4WyX6DNxhu4yFMW/cYkiicj1bjWRNsuowhSHh2KXhlLNX5rgT5czaDulUW\n",
       "N3XB9nx6NelWRO9CGaawEYl3/cPWSoLV6pRHTf6Ii+vR3D3Xtqo7Z7r5e7UNxth4KNN6gwehJV9x\n",
       "CEywGTK6IOXB5wxyCGAzfugtsBk0rNL2xrsZ6FiIvWurcEmkTlPYDuKXE/5hU4gJdcrDJp3i/lnL\n",
       "A+gJeD1vSm5p+Hm2NGKWLQYaMbhQmoEkd7i8jQ7YjA+CBf+wEdnNU99HJs9y/+ip5GQDs5isGe4q\n",
       "pZ289zRgEu9A1lRyIwbXSz0Zh1QycxodZKEoZf+wkZV6cOrDljrNb+xs0SSuOpPxXm1ruMc8j7Ck\n",
       "1/e7G1g1YHtw05DBD6E7L35wg9oZClvqQF/fpvGEJEf6+nb1TH3YQqM8En7dC+wcA+96A+axt7jD\n",
       "I8GP2Tr+uFh8YDywpYvFhytTHzalzv83CUUJ0S/NRmvc9/PYdxzon2CwrSa3RMiab7YEMjS9KYIt\n",
       "mne8MzzaiprrcORkM2EL1yf5PonuL02E2ksYbNcTN0rTpSDd8xrMI+FoknKtXJoLXYw792pyOoXB\n",
       "FskKnry/sr/XxYcnH/96N1gfTTAimA5JbsNORPFlRIfhgmjfZrDFIMQW/u6ha+EVRQ1r0bz86uJq\n",
       "snAArgEtvclT9ON2D1zO68Vann0Uvip2nFiDfLsq/RMv6LKAyLV/uA07yDhexoUGm1KNsVjrsa0q\n",
       "/DqTVTSOtwf7IPlWGCr6eYOn6LAdAj4iIVreqUBSDBvWkPoZwKvsXGMjcm3UbdhBxvEyJt1JTlD7\n",
       "HoMtUbsNSLr0ekwYGPgxgW3bEuz9kBu6Y1WmAiy9aaLosP1c6sJ5gbvpZoi1RO5AfbNn376ApAuI\n",
       "hhsGkFX02tn2DbAR+ZPlAtU+vK/NTUYbtl+GMnphwKaFJPDInehNpVWa5hpQXvgKfs2uoGmrZP7A\n",
       "nzFIJL1pouiwxZ/MoTN9vlOFKJpmrCX1gnU3lr8r1fEY0XCYRUmfUtuJiInIRUH3ozgpWjIPx3Id\n",
       "bjJ4eBnu2C4jdHqckeGk5wfEEc3FGmwvIR+3dQ/IJEAYgAqOBOTSfthOQVJI5EDSmyaKDlsSP+ld\n",
       "DCtB+q1KtSR3W02Gs1IPfqZLNPxqUDvXHMUiZiJ3csnQJLhp+GqQ3GTQMLyEr992GamRcZ/DTHKX\n",
       "NIfHpYkrYz/SYMOPz9EUSvcVi+sRbE/RrW4DrCwWi5lkPlHFWxdJb5ooOmyA02RzcIF9TKVaEgPW\n",
       "NGhLOUTiU6Lhp7dS4ky4EouYiZxMLmyXmQPgJoOHcfGN/TKSIw4ZCZ/tWJN4nJuwMpY+tcOwpVSa\n",
       "Lu2iqy1yC4sHonRtwQ0ZLb1pohiwHUbyo7Chj8wn0XJNxlIu0V+KH1ZfzFAN4W20cqKOZhmLmIhG\n",
       "S6st5dQRy/Aog81BBg+vvSkruAzpnDByyfqd1LNN4nFJEIiOUFoq2UiXvo47fwI4ApvRqpkBCsYk\n",
       "lYNUJfEoTW8aFBNsuM2SRqpkPomWja8jo5tVJMf+tJQ6b4KXs1RDYmke9iHy/akCETERmQD6ialv\n",
       "w092WIaPQ9hRhg3P3VrlL8PkXWx7od8jcaTeHB63XKioMpZmxDu4dGkcucHIgzl0I3eUIVQAeAwN\n",
       "LD+O7lxpDk1vGhQbbF/8dDuFDWsB+c2/r0ZapFnQUcJ/ypHuF6/F+RSiAZ4/+cM80nnbG3TlmIhU\n",
       "oISl11RoRMgPb7z8MkcZOhz5G15BxmVo7UHR1PjOxio9zeFxa6LKWBoQm55uLyxqDwTLKB5AwRfa\n",
       "PhjGWjimU6yw0XtXtWgBU29HxK6TiNgN6TIHYQwypBfKnCibLoO160Qz007W7BWzvXORFqbW7nbP\n",
       "xyZ2Hr121Q1svQh2SJQyG7bBxsWedz5h2poGXVLJnN9dtEQcwbJe9DKbTosIZ4jJnIAxyJBeuHQk\n",
       "J7rW91QBcQP6/XypFc2Fe70qY2o3NusTaDv3qFUlPHxyF9euehkiRbDzyB15VDTjBWfYUrDGHH1W\n",
       "G4LNpsXe89JZNcskttTGIuN6BusUrY51yJPOhXABPOpVKROs0nn2qnDKq1YV82jOgPDg2lUPQ6QI\n",
       "Fh0/cVf0KPbpjDNsDbeJLgFKDTUvi86VtxptJsl6xTLgVa9KmQyeZTgU96hVXcbCdU4JeBmiRbD9\n",
       "BMFOwQUHrrw1PCyGDbmd/jx41KsyJoPnGETOetWqEh6zEvAyRAvMKI8ItochYLBFRsROsr8Ce8Gr\n",
       "pocyfcGY63N47XjU8xCebUt4JZ6G6PockhY4cAbuoxtwjzgk6S/D3Sj+8YCNMFWMg9gI/liHB2yE\n",
       "J7vCyB/g2lWvmi9SBPuvl7GbFIQkocB9UEoYSg6R1GevIq5XNTYgwpTYbcD0LfxJcFFxLCeEeXBy\n",
       "V3fTuHbVashaUUuKYM+QeV3quEEHCbaWip2Gy1W75z/5SXG9qrEBUaa4cWjd/pkqiItjDSHCQ84Y\n",
       "rOHaVZshS0UtLoKVLiLJhPft1xvADwEn627JrUbqVfuftWyXjaRBRu13ilcLFToS9spYAD05Hagv\n",
       "uBAk5I1UciP1qr9RLDdCA7BJ1sxiA4bimZUhYSo5OTuAsD0huFqtjrGhetXnfm9OaDRSqxqyZFIa\n",
       "MdRais4XPrgJ5NfJiBbHzok2Gs/4lRRUxn4NAggbitJsbaKLEizJ3bFkiOwJolShSbBNry8mjGYm\n",
       "3eSau5qorGlfTDjNvgb0szCdm0wL3fDXgP4f6qOiL7BxXhIAAAAASUVORK5CYII=\n",
       "\" style=\"display:inline;vertical-align:middle;\" /></a><br>"
      ],
      "text/plain": [
       "disassociation: forall_{i in Naturals, j in Naturals, k in Naturals} [forall_{a_{1} in Complexes, ..a_{_a} in Complexes.., a_{i} in Complexes, b_{1} in Complexes, ..b_{_a} in Complexes.., b_{j} in Complexes, c_{1} in Complexes, ..c_{_a} in Complexes.., c_{k} in Complexes} ((a_{1} * ..a_{_a}.. * a_{i} * (b_{1} * ..b_{_a}.. * b_{j}) * c_{1} * ..c_{_a}.. * c_{k}) =  \\\\ (a_{1} * ..a_{_a}.. * a_{i} * b_{1} * ..b_{_a}.. * b_{j} * c_{1} * ..c_{_a}.. * c_{k}))]"
      ]
     },
     "execution_count": 39,
     "metadata": {},
     "output_type": "execute_result"
    }
   ],
   "source": [
    "disassociation = \\\n",
    "    Forall((i,j,k), \n",
    "           Forall((a_1_to_i,b_1_to_j,c_1_to_k), \n",
    "                  Equals(Mult(a_1_to_i, Mult(b_1_to_j), c_1_to_k),\n",
    "                         Mult(a_1_to_i, b_1_to_j, c_1_to_k)) \\\n",
    "                  .withWrappingAt(2),\n",
    "                  domain=Complexes),\n",
    "           domain=Naturals)"
   ]
  },
  {
   "cell_type": "code",
   "execution_count": 40,
   "metadata": {},
   "outputs": [
    {
     "name": "stdout",
     "output_type": "stream",
     "text": [
      "Theorems may be imported from autogenerated _theorems_.py\n"
     ]
    }
   ],
   "source": [
    "%end theorems"
   ]
  }
 ],
 "metadata": {
  "kernelspec": {
   "display_name": "Python 3",
   "language": "python",
   "name": "python3"
  }
 },
 "nbformat": 4,
 "nbformat_minor": 0
}
