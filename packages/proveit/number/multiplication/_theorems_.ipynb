{
 "cells": [
  {
   "cell_type": "markdown",
   "metadata": {},
   "source": [
    "Theorems (or conjectures) for the theory of <a class=\"ProveItLink\" href=\"_theory_.ipynb\">proveit.number.multiplication</a>\n",
    "========"
   ]
  },
  {
   "cell_type": "code",
   "execution_count": null,
   "metadata": {},
   "outputs": [],
   "source": [
    "import proveit\n",
    "## 72 spaces ===========================================================\n",
    "\n",
    "# Prepare this notebook for defining the theorems of a theory:\n",
    "%theorems_notebook # Keep this at the top following 'import proveit'.\n",
    "theory = proveit.Theory('.') # adds theory root to sys.path if necessary\n",
    "from proveit import ExprRange, IndexedVar\n",
    "\n",
    "from proveit._common_ import a, b, c, d, i, j, k, n, x, y, P, S\n",
    "from proveit.core_expr_types._common_ import (\n",
    "    a_1_to_i, a_1_to_n, b_1_to_j, c_1_to_j, c_1_to_k, d_1_to_k)\n",
    "\n",
    "from proveit.logic import Forall, Set, InSet, Equals, NotEquals, Implies, Booleans\n",
    "from proveit.number import (Natural, NaturalPos, Integer, Reals, \n",
    "                            RealsNonNeg, RealsPos, Complexes)\n",
    "from proveit.number import (Mult, Neg, Add, subtract, Sum, num, zero, one, two, Exp,\n",
    "                            Less, LessEq, Greater, GreaterEq)\n",
    "from proveit.number._common_ import ComplexesSansZero\n",
    "from proveit._core_.expression.operation import Function"
   ]
  },
  {
   "cell_type": "code",
   "execution_count": null,
   "metadata": {},
   "outputs": [],
   "source": [
    "%begin theorems"
   ]
  },
  {
   "cell_type": "code",
   "execution_count": null,
   "metadata": {},
   "outputs": [],
   "source": [
    "multDefRev = \\\n",
    "    Forall((n, x), Forall(a_1_to_n, \n",
    "                          Equals(Add(a_1_to_n), Mult(n, x)),\n",
    "                          domain=Set(x)),\n",
    "           domains=(Natural, Complexes))"
   ]
  },
  {
   "cell_type": "code",
   "execution_count": null,
   "metadata": {},
   "outputs": [],
   "source": [
    "repeated_addition_to_mult = Forall((n, x), Equals(Add(ExprRange(k, x, one, n)), \n",
    "                                                  Mult(n, x)),\n",
    "                                   domains=(Natural, Complexes))"
   ]
  },
  {
   "cell_type": "code",
   "execution_count": null,
   "metadata": {},
   "outputs": [],
   "source": [
    "multNatClosureBin = Forall((a, b), InSet(Mult(a, b), Natural), domain=Natural)"
   ]
  },
  {
   "cell_type": "code",
   "execution_count": null,
   "metadata": {},
   "outputs": [],
   "source": [
    "multNatClosure = \\\n",
    "    Forall(n, Forall(a_1_to_n, InSet(Mult(a_1_to_n), Natural), \n",
    "                     domain=Natural), \n",
    "           domain=Natural)"
   ]
  },
  {
   "cell_type": "code",
   "execution_count": null,
   "metadata": {},
   "outputs": [],
   "source": [
    "multNatPosClosureBin = Forall((a, b), InSet(Mult(a, b), NaturalPos), domain=NaturalPos)"
   ]
  },
  {
   "cell_type": "code",
   "execution_count": null,
   "metadata": {},
   "outputs": [],
   "source": [
    "multNatPosClosure = \\\n",
    "    Forall(n, Forall(a_1_to_n, \n",
    "                     InSet(Mult(a_1_to_n), NaturalPos), \n",
    "                     domain=NaturalPos), \n",
    "           domain=Natural)"
   ]
  },
  {
   "cell_type": "code",
   "execution_count": null,
   "metadata": {},
   "outputs": [],
   "source": [
    "multIntClosureBin = Forall((a, b), InSet(Mult(a, b), Integer), domain=Integer)"
   ]
  },
  {
   "cell_type": "code",
   "execution_count": null,
   "metadata": {},
   "outputs": [],
   "source": [
    "multIntClosure = \\\n",
    "    Forall(n, Forall(a_1_to_n, InSet(Mult(a_1_to_n), Integer), \n",
    "                     domain=Integer), \n",
    "           domain=Natural)"
   ]
  },
  {
   "cell_type": "code",
   "execution_count": null,
   "metadata": {},
   "outputs": [],
   "source": [
    "multRealClosureBin = Forall((a, b), InSet(Mult(a, b), Reals), domain=Reals)"
   ]
  },
  {
   "cell_type": "code",
   "execution_count": null,
   "metadata": {},
   "outputs": [],
   "source": [
    "multRealClosure = \\\n",
    "    Forall(n, Forall(a_1_to_n, \n",
    "                     InSet(Mult(a_1_to_n), Reals), \n",
    "                     domain=Reals), \n",
    "           domain=Natural)"
   ]
  },
  {
   "cell_type": "code",
   "execution_count": null,
   "metadata": {},
   "outputs": [],
   "source": [
    "multRealPosClosureBin = Forall((a, b), InSet(Mult(a, b), RealsPos), domain=RealsPos)"
   ]
  },
  {
   "cell_type": "code",
   "execution_count": null,
   "metadata": {},
   "outputs": [],
   "source": [
    "multRealPosClosure = \\\n",
    "    Forall(n, Forall(a_1_to_n, InSet(Mult(a_1_to_n), RealsPos), \n",
    "                     domain=RealsPos), \n",
    "           domain=Natural)"
   ]
  },
  {
   "cell_type": "code",
   "execution_count": null,
   "metadata": {},
   "outputs": [],
   "source": [
    "multRealNonNegClosureBin = Forall((a, b), InSet(Mult(a, b), RealsNonNeg), domain=RealsNonNeg)"
   ]
  },
  {
   "cell_type": "code",
   "execution_count": null,
   "metadata": {},
   "outputs": [],
   "source": [
    "multRealNonNegClosure = Forall(n, Forall(a_1_to_n, InSet(Mult(a_1_to_n), RealsNonNeg), \n",
    "                                         domain=RealsNonNeg), \n",
    "                               domain=Natural)"
   ]
  },
  {
   "cell_type": "code",
   "execution_count": null,
   "metadata": {},
   "outputs": [],
   "source": [
    "natSqrdInNatPosImpliesNatInNatPos = Forall(\n",
    "        a,\n",
    "        Implies(InSet(Exp(a,two), NaturalPos), InSet(a, NaturalPos)),\n",
    "        domain=Natural)"
   ]
  },
  {
   "cell_type": "code",
   "execution_count": null,
   "metadata": {},
   "outputs": [],
   "source": [
    "multComplexClosureBin = Forall((a, b), InSet(Mult(a, b), Complexes), domain=Complexes)"
   ]
  },
  {
   "cell_type": "code",
   "execution_count": null,
   "metadata": {},
   "outputs": [],
   "source": [
    "multComplexClosure = \\\n",
    "    Forall(n, Forall(a_1_to_n, InSet(Mult(a_1_to_n),Complexes), \n",
    "                     domain=Complexes), \n",
    "           domain=Natural)"
   ]
  },
  {
   "cell_type": "code",
   "execution_count": null,
   "metadata": {},
   "outputs": [],
   "source": [
    "multNotEqZero = \\\n",
    "    Forall(n, Forall(a_1_to_n, \n",
    "                     NotEquals(Mult(a_1_to_n), zero), \n",
    "                     domain=ComplexesSansZero), \n",
    "           domain=Natural)"
   ]
  },
  {
   "cell_type": "code",
   "execution_count": null,
   "metadata": {},
   "outputs": [],
   "source": [
    "elimOneLeft = Forall(x, Equals(Mult(one, x), x), domain=Complexes)"
   ]
  },
  {
   "cell_type": "code",
   "execution_count": null,
   "metadata": {},
   "outputs": [],
   "source": [
    "elimOneRight = Forall(x, Equals(Mult(x, one), x), domain=Complexes)"
   ]
  },
  {
   "cell_type": "code",
   "execution_count": null,
   "metadata": {},
   "outputs": [],
   "source": [
    "elimOneAny = \\\n",
    "    Forall((i, j), \n",
    "           Forall((a_1_to_i, b_1_to_j), \n",
    "                  Equals(Mult(a_1_to_i, one, b_1_to_j), \n",
    "                         Mult(a_1_to_i, b_1_to_j)), \n",
    "                  domain=Complexes),\n",
    "           domain=Natural)"
   ]
  },
  {
   "cell_type": "code",
   "execution_count": null,
   "metadata": {},
   "outputs": [],
   "source": [
    "multZeroLeft = Forall(x, Equals(Mult(zero, x), zero), domain=Complexes)"
   ]
  },
  {
   "cell_type": "code",
   "execution_count": null,
   "metadata": {},
   "outputs": [],
   "source": [
    "multZeroRight = Forall(x, Equals(Mult(x, zero), zero), domain=Complexes)"
   ]
  },
  {
   "cell_type": "code",
   "execution_count": null,
   "metadata": {},
   "outputs": [],
   "source": [
    "multZeroAny = \\\n",
    "    Forall((i, j), \n",
    "           Forall((a_1_to_i, b_1_to_j), \n",
    "                  Equals(Mult(a_1_to_i, zero, b_1_to_j), zero), \n",
    "                  domain=Complexes),\n",
    "           domain=Natural)"
   ]
  },
  {
   "cell_type": "code",
   "execution_count": null,
   "metadata": {},
   "outputs": [],
   "source": [
    "multNegLeft = Forall((x, y), Equals(Mult(Neg(x), y), Neg(Mult(x, y))), domain=Complexes)"
   ]
  },
  {
   "cell_type": "code",
   "execution_count": null,
   "metadata": {},
   "outputs": [],
   "source": [
    "multNegRight = Forall((x, y), Equals(Mult(x, Neg(y)), Neg(Mult(x, y))), domain=Complexes)"
   ]
  },
  {
   "cell_type": "code",
   "execution_count": null,
   "metadata": {},
   "outputs": [],
   "source": [
    "multNegLeftDouble = Forall((x, y), Equals(Neg(Mult(Neg(x), y)), Mult(x, y)), domain=Complexes)"
   ]
  },
  {
   "cell_type": "code",
   "execution_count": null,
   "metadata": {},
   "outputs": [],
   "source": [
    "multNegRightDouble = Forall((x, y), Equals(Neg(Mult(x, Neg(y))), Mult(x, y)), domain=Complexes)"
   ]
  },
  {
   "cell_type": "markdown",
   "metadata": {},
   "source": [
    "### Theorems for the NumberRelation class"
   ]
  },
  {
   "cell_type": "code",
   "execution_count": null,
   "metadata": {},
   "outputs": [],
   "source": [
    "left_mult_eq = Forall((a, x, y), Equals(Mult(a, x), Mult(a, y)), condition=Equals(x, y), domain=Complexes)"
   ]
  },
  {
   "cell_type": "code",
   "execution_count": null,
   "metadata": {},
   "outputs": [],
   "source": [
    "right_mult_eq = Forall((a, x, y), Equals(Mult(x, a), Mult(y, a)), condition=Equals(x, y), domain=Complexes)"
   ]
  },
  {
   "cell_type": "markdown",
   "metadata": {},
   "source": [
    "Note: proving left_mult_neq and right_mult_neq for the complex domain is a bit more challenging than just real numbers, but should still be applicable.  Using a polar coordinate representations, such as $r \\textrm{exp}(i \\theta)$, makes it more clear.  Suppose $x = x_r \\textrm{exp}(x_{\\theta})$ and $y = y_r \\textrm{exp}(y_{\\theta})$; if $x \\neq y$, either $x_r \\neq y_r$ or $x_{\\theta} \\neq y_{\\theta}$ (or both), so either the length or angle (or both) will differ on either side. "
   ]
  },
  {
   "cell_type": "code",
   "execution_count": null,
   "metadata": {},
   "outputs": [],
   "source": [
    "left_mult_neq = Forall((a, x, y), NotEquals(Mult(a, x), Mult(a, y)),\n",
    "                       conditions=[NotEquals(x, y), NotEquals(a, zero)], domain=Complexes)"
   ]
  },
  {
   "cell_type": "code",
   "execution_count": null,
   "metadata": {},
   "outputs": [],
   "source": [
    "right_mult_neq = Forall((a, x, y), NotEquals(Mult(x, a), Mult(y, a)), \n",
    "                        conditions=[NotEquals(x, y), NotEquals(a, zero)], domain=Complexes)"
   ]
  },
  {
   "cell_type": "code",
   "execution_count": null,
   "metadata": {},
   "outputs": [],
   "source": [
    "left_mult_pos_less = Forall((a, x, y), Less(Mult(a, x), Mult(a, y)), conditions=[Less(x, y), Greater(a, zero)], \n",
    "                        domain=Reals)"
   ]
  },
  {
   "cell_type": "code",
   "execution_count": null,
   "metadata": {},
   "outputs": [],
   "source": [
    "left_mult_nonneg_less = Forall((a, x, y), LessEq(Mult(a, x), Mult(a, y)), \n",
    "                               conditions=[Less(x, y), GreaterEq(a, zero)], domain=Reals)"
   ]
  },
  {
   "cell_type": "code",
   "execution_count": null,
   "metadata": {},
   "outputs": [],
   "source": [
    "right_mult_pos_less = Forall((a, x, y), Less(Mult(x, a), Mult(y, a)), \n",
    "                             conditions=[Less(x, y), Greater(a, zero)], domain=Reals)"
   ]
  },
  {
   "cell_type": "code",
   "execution_count": null,
   "metadata": {},
   "outputs": [],
   "source": [
    "right_mult_nonneg_less = Forall((a, x, y), LessEq(Mult(x, a), Mult(y, a)), \n",
    "                                conditions=[Less(x, y), GreaterEq(a, zero)], domain=Reals)"
   ]
  },
  {
   "cell_type": "code",
   "execution_count": null,
   "metadata": {},
   "outputs": [],
   "source": [
    "left_mult_pos_lesseq = Forall((a, x, y), LessEq(Mult(a, x), Mult(a, y)), \n",
    "                              conditions=[LessEq(x, y), GreaterEq(a, zero)], domain=Reals)"
   ]
  },
  {
   "cell_type": "code",
   "execution_count": null,
   "metadata": {},
   "outputs": [],
   "source": [
    "right_mult_pos_lesseq = Forall((a, x, y), LessEq(Mult(x, a), Mult(y, a)), conditions=[LessEq(x, y), GreaterEq(a, zero)], \n",
    "                               domain=Reals)"
   ]
  },
  {
   "cell_type": "code",
   "execution_count": null,
   "metadata": {},
   "outputs": [],
   "source": [
    "left_mult_neg_less = Forall((a, x, y), Greater(Mult(a, x), Mult(a, y)), \n",
    "                            conditions=[Less(x, y), Less(a, zero)], domain=Reals)"
   ]
  },
  {
   "cell_type": "code",
   "execution_count": null,
   "metadata": {},
   "outputs": [],
   "source": [
    "left_mult_nonpos_less = Forall((a, x, y), GreaterEq(Mult(a, x), Mult(a, y)), \n",
    "                               conditions=[Less(x, y), LessEq(a, zero)], domain=Reals)"
   ]
  },
  {
   "cell_type": "code",
   "execution_count": null,
   "metadata": {},
   "outputs": [],
   "source": [
    "right_mult_neg_less = Forall((a, x, y), Greater(Mult(x, a), Mult(y, a)), \n",
    "                             conditions=[Less(x, y), Less(a, zero)], domain=Reals)"
   ]
  },
  {
   "cell_type": "code",
   "execution_count": null,
   "metadata": {},
   "outputs": [],
   "source": [
    "right_mult_nonpos_less = Forall((a, x, y), GreaterEq(Mult(x, a), Mult(y, a)), \n",
    "                                conditions=[Less(x, y), LessEq(a, zero)], domain=Reals)"
   ]
  },
  {
   "cell_type": "code",
   "execution_count": null,
   "metadata": {},
   "outputs": [],
   "source": [
    "left_mult_neg_lesseq = Forall((a, x, y), GreaterEq(Mult(a, x), Mult(a, y)), \n",
    "                              conditions=[LessEq(x, y), LessEq(a, zero)], domain=Reals)"
   ]
  },
  {
   "cell_type": "code",
   "execution_count": null,
   "metadata": {},
   "outputs": [],
   "source": [
    "right_mult_neg_lesseq = Forall((a, x, y), GreaterEq(Mult(x, a), Mult(y, a)), \n",
    "                               conditions=[LessEq(x, y), LessEq(a, zero)], domain=Reals)"
   ]
  },
  {
   "cell_type": "code",
   "execution_count": null,
   "metadata": {},
   "outputs": [],
   "source": [
    "multNegAny = \\\n",
    "    Forall((i, j), \n",
    "           Forall((a_1_to_i, b, c_1_to_j), \n",
    "                  Equals(Mult(a_1_to_i, Neg(b), c_1_to_j), \n",
    "                         Neg(Mult(a_1_to_i, b, c_1_to_j))), \n",
    "                  domain=Complexes),\n",
    "           domain=Natural)"
   ]
  },
  {
   "cell_type": "code",
   "execution_count": null,
   "metadata": {},
   "outputs": [],
   "source": [
    "multNegAnyDouble = \\\n",
    "    Forall((i, j), \n",
    "           Forall((a_1_to_i, b, c_1_to_j), \n",
    "                  Equals(Neg(Mult(a_1_to_i, Neg(b), c_1_to_j)), \n",
    "                         Mult(a_1_to_i, b, c_1_to_j)), \n",
    "                  domain=Complexes),\n",
    "           domain=Natural)"
   ]
  },
  {
   "cell_type": "code",
   "execution_count": null,
   "metadata": {},
   "outputs": [],
   "source": [
    "distributeThroughSum =  \\\n",
    "    Forall((i,j,k),\n",
    "           Forall((a_1_to_i, b_1_to_j, c_1_to_k),\n",
    "                  Equals(\n",
    "                        Mult(a_1_to_i, Add(b_1_to_j), c_1_to_k),\n",
    "                        Add(ExprRange(n,Mult(a_1_to_i, \n",
    "                                             IndexedVar(b, n), \n",
    "                                             c_1_to_k), \n",
    "                                 one, j))).withWrappingAt(2),\n",
    "                  domain=Complexes),\n",
    "           domain=Natural)"
   ]
  },
  {
   "cell_type": "code",
   "execution_count": null,
   "metadata": {},
   "outputs": [],
   "source": [
    "distributeThroughSubtract =  \\\n",
    "    Forall((i,j),\n",
    "           Forall((a_1_to_i, x, y, b_1_to_j),\n",
    "                  Equals(\n",
    "                        Mult(a_1_to_i, subtract(x, y), b_1_to_j),\n",
    "                        subtract(Mult(a_1_to_i, x, b_1_to_j),\n",
    "                                 Mult(a_1_to_i, y, b_1_to_j)))\\\n",
    "                  .withWrappingAt(2), \n",
    "                  domain=Complexes),\n",
    "           domain=Natural)"
   ]
  },
  {
   "cell_type": "code",
   "execution_count": null,
   "metadata": {},
   "outputs": [],
   "source": [
    "distributeThroughSummation = \\\n",
    "    Forall((i,j,k), \n",
    "           Forall((P, S),\n",
    "                  Implies(Forall(b_1_to_j, \n",
    "                                 InSet(Function(P, b_1_to_j), Complexes), \n",
    "                                 domain=S),\n",
    "                          Forall((a_1_to_i, c_1_to_k),\n",
    "                                 Equals(Mult(a_1_to_i, \n",
    "                                             Sum(b_1_to_j, \n",
    "                                                 Function(P, b_1_to_j), \n",
    "                                                 domain=S), \n",
    "                                             c_1_to_k),\n",
    "                                        Sum(b_1_to_j, \n",
    "                                            Mult(a_1_to_i,\n",
    "                                                 Function(P, b_1_to_j), \n",
    "                                                 c_1_to_k), \n",
    "                                            domain=S))\\\n",
    "                                 .withWrappingAt(2),\n",
    "                                 domain=Complexes))), \n",
    "           domain=Natural)"
   ]
  },
  {
   "cell_type": "code",
   "execution_count": null,
   "metadata": {},
   "outputs": [],
   "source": [
    "commutation = Forall((a, b), Equals(Mult(a, b), Mult(b, a)), domain=Complexes)"
   ]
  },
  {
   "cell_type": "code",
   "execution_count": null,
   "metadata": {},
   "outputs": [],
   "source": [
    "rightwardCommutation = \\\n",
    "    Forall((i,j,k),\n",
    "           Forall((a_1_to_i,b,c_1_to_j,d_1_to_k), \n",
    "                  Equals(Mult(a_1_to_i, b, c_1_to_j, d_1_to_k), \n",
    "                         Mult(a_1_to_i, c_1_to_j, b, d_1_to_k)) \\\n",
    "                  .withWrappingAt(2), \n",
    "                  domain=Complexes),\n",
    "           domain=Natural)"
   ]
  },
  {
   "cell_type": "code",
   "execution_count": null,
   "metadata": {},
   "outputs": [],
   "source": [
    "leftwardCommutation = \\\n",
    "    Forall((i,j,k),\n",
    "           Forall((a_1_to_i,b_1_to_j,c,d_1_to_k), \n",
    "                  Equals(Mult(a_1_to_i, b_1_to_j, c, d_1_to_k), \n",
    "                         Mult(a_1_to_i, c, b_1_to_j, d_1_to_k)) \\\n",
    "                  .withWrappingAt(2), \n",
    "                  domain=Complexes), \n",
    "           domain=Natural)"
   ]
  },
  {
   "cell_type": "code",
   "execution_count": null,
   "metadata": {},
   "outputs": [],
   "source": [
    "association = \\\n",
    "    Forall((i,j,k), \n",
    "           Forall((a_1_to_i,b_1_to_j,c_1_to_k), \n",
    "                  Equals(Mult(a_1_to_i, b_1_to_j, c_1_to_k), \n",
    "                         Mult(a_1_to_i, Mult(b_1_to_j), c_1_to_k)) \\\n",
    "                  .withWrappingAt(2),\n",
    "                  domain=Complexes),\n",
    "           domain=Natural)"
   ]
  },
  {
   "cell_type": "code",
   "execution_count": null,
   "metadata": {},
   "outputs": [],
   "source": [
    "disassociation = \\\n",
    "    Forall((i,j,k), \n",
    "           Forall((a_1_to_i,b_1_to_j,c_1_to_k), \n",
    "                  Equals(Mult(a_1_to_i, Mult(b_1_to_j), c_1_to_k),\n",
    "                         Mult(a_1_to_i, b_1_to_j, c_1_to_k)) \\\n",
    "                  .withWrappingAt(2),\n",
    "                  domain=Complexes),\n",
    "           domain=Natural)"
   ]
  },
  {
   "cell_type": "code",
   "execution_count": null,
   "metadata": {},
   "outputs": [],
   "source": [
    "%end theorems"
   ]
  }
 ],
 "metadata": {
  "kernelspec": {
   "display_name": "Python 3",
   "language": "python",
   "name": "python3"
  }
 },
 "nbformat": 4,
 "nbformat_minor": 0
}
