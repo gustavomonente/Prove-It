{
 "cells": [
  {
   "cell_type": "markdown",
   "metadata": {},
   "source": [
    "Theorems for context <a href=\"_context_.ipynb\" class=\"ProveItLink\">proveit.number.multiplication</a>\n",
    "========"
   ]
  },
  {
   "cell_type": "code",
   "execution_count": null,
   "metadata": {},
   "outputs": [],
   "source": [
    "import proveit\n",
    "## 72 spaces ===========================================================\n",
    "\n",
    "# Automation is not needed when building theorem expressions:\n",
    "proveit.defaults.automation = False # This will speed things up.\n",
    "\n",
    "from proveit import Iter, varIter, Indexed\n",
    "\n",
    "# let's convert these to lower-case at some point\n",
    "# (more traditional for numbers, ALL-CAPS for logic)\n",
    "from proveit._common_ import AA, B, BB, CC, D, EE, P\n",
    "from proveit.logic._common_ import iterA1m, iterC1n\n",
    "\n",
    "from proveit._common_ import (a, b, c, d, e, f, g, h, i, j, k, l, m, n,\n",
    "                              x, y, S, aa, bb, cc, dd)\n",
    "from proveit.number._common_ import (iter_a1l, iter_b1m, iter_c1m,\n",
    "                                     iter_c1n, iter_d1n)\n",
    "from proveit.logic import Forall, InSet, Equals, NotEquals, Implies, Booleans\n",
    "from proveit.logic._common_ import iterA1m, iterC1n, iterB1n, iterC1m\n",
    "from proveit.number import (zero, one, two, Complexes, Integers, Naturals,\n",
    "                            NaturalsPos, Reals, RealsNonNeg, RealsPos)\n",
    "from proveit.number import Add, Exp, Mult, Neg, num, subtract, Sum\n",
    "from proveit.number._common_ import ComplexesSansZero\n",
    "from proveit._core_.expression.operation import Function\n",
    "# the context is in the current directory:\n",
    "context = proveit.Context('.') # adds context root to sys.path if necessary"
   ]
  },
  {
   "cell_type": "code",
   "execution_count": null,
   "metadata": {},
   "outputs": [],
   "source": [
    "%begin theorems"
   ]
  },
  {
   "cell_type": "code",
   "execution_count": null,
   "metadata": {},
   "outputs": [],
   "source": [
    "multDefRev = Forall(m, Forall((AA,x), Equals(Add(varIter(AA, one,m)), Mult(m, x)), conditions=[Iter(i, Equals(Indexed(AA,i), x), one, m)], domains = [Exp(Complexes,m),Complexes]), domain = Naturals)"
   ]
  },
  {
   "cell_type": "code",
   "execution_count": null,
   "metadata": {},
   "outputs": [],
   "source": [
    "multNatClosureBin = Forall((a, b), InSet(Mult(a, b), Naturals), domain=Naturals)"
   ]
  },
  {
   "cell_type": "code",
   "execution_count": null,
   "metadata": {},
   "outputs": [],
   "source": [
    "multNatClosure = Forall(m, Forall(AA, InSet(Mult(iterA1m), Naturals), domain = Exp(Naturals, m)), domain = Naturals)"
   ]
  },
  {
   "cell_type": "code",
   "execution_count": null,
   "metadata": {},
   "outputs": [],
   "source": [
    "multNatPosClosureBin = Forall((a, b), InSet(Mult(a, b), NaturalsPos), domain=NaturalsPos)"
   ]
  },
  {
   "cell_type": "code",
   "execution_count": null,
   "metadata": {},
   "outputs": [],
   "source": [
    "multNatPosClosure = Forall(m, Forall(AA, InSet(Mult(iterA1m), NaturalsPos), domain = Exp((NaturalsPos), m)), domain = Naturals)"
   ]
  },
  {
   "cell_type": "code",
   "execution_count": null,
   "metadata": {},
   "outputs": [],
   "source": [
    "multIntClosureBin = Forall((a, b), InSet(Mult(a, b), Integers), domain=Integers)"
   ]
  },
  {
   "cell_type": "code",
   "execution_count": null,
   "metadata": {},
   "outputs": [],
   "source": [
    "multIntClosure = Forall(m,Forall(AA, InSet(Mult(iterA1m), Integers), domain=Exp(Integers,m)), domain = Naturals)"
   ]
  },
  {
   "cell_type": "code",
   "execution_count": null,
   "metadata": {},
   "outputs": [],
   "source": [
    "multRealClosureBin = Forall((a, b), InSet(Mult(a, b), Reals), domain=Reals)"
   ]
  },
  {
   "cell_type": "code",
   "execution_count": null,
   "metadata": {},
   "outputs": [],
   "source": [
    "multRealClosure = Forall(m, Forall(AA, InSet(Mult(iterA1m), Reals), domain=Exp(Reals,m)), domain=Naturals)"
   ]
  },
  {
   "cell_type": "code",
   "execution_count": null,
   "metadata": {},
   "outputs": [],
   "source": [
    "multRealPosClosureBin = Forall((a, b), InSet(Mult(a, b), RealsPos), domain=RealsPos)"
   ]
  },
  {
   "cell_type": "code",
   "execution_count": null,
   "metadata": {},
   "outputs": [],
   "source": [
    "multRealPosClosure = Forall(m ,Forall(AA, InSet(Mult(iterA1m), RealsPos), domain=Exp((RealsPos),m)), domain=Naturals)"
   ]
  },
  {
   "cell_type": "code",
   "execution_count": null,
   "metadata": {},
   "outputs": [],
   "source": [
    "multRealNonNegClosureBin = Forall((a, b), InSet(Mult(a, b), RealsNonNeg), domain=RealsNonNeg)"
   ]
  },
  {
   "cell_type": "code",
   "execution_count": null,
   "metadata": {},
   "outputs": [],
   "source": [
    "multRealNonNegClosure = Forall(m ,Forall(AA, InSet(Mult(iterA1m), RealsNonNeg), domain=Exp((RealsNonNeg),m)), domain=Naturals)"
   ]
  },
  {
   "cell_type": "code",
   "execution_count": null,
   "metadata": {},
   "outputs": [],
   "source": [
    "natSqrdInNatPosImpliesNatInNatPos = Forall(\n",
    "        a,\n",
    "        Implies(InSet(Exp(a,two), NaturalsPos), InSet(a, NaturalsPos)),\n",
    "        domain=Naturals)"
   ]
  },
  {
   "cell_type": "code",
   "execution_count": null,
   "metadata": {},
   "outputs": [],
   "source": [
    "multComplexClosureBin = Forall((a, b), InSet(Mult(a, b), Complexes), domain=Complexes)"
   ]
  },
  {
   "cell_type": "code",
   "execution_count": null,
   "metadata": {},
   "outputs": [],
   "source": [
    "multComplexClosure = Forall(m, Forall(AA, InSet(Mult(iterA1m),Complexes), domain=Exp(Complexes,m)), domain=Naturals)"
   ]
  },
  {
   "cell_type": "code",
   "execution_count": null,
   "metadata": {},
   "outputs": [],
   "source": [
    "multNotEqZero = Forall(m, Forall(AA, NotEquals(Mult(iterA1m), zero), domain=Exp(ComplexesSansZero,m)), domain=Naturals)"
   ]
  },
  {
   "cell_type": "code",
   "execution_count": null,
   "metadata": {},
   "outputs": [],
   "source": [
    "elimOneLeft = Forall(x, Equals(Mult(one, x), x), domain=Complexes)"
   ]
  },
  {
   "cell_type": "code",
   "execution_count": null,
   "metadata": {},
   "outputs": [],
   "source": [
    "elimOneRight = Forall(x, Equals(Mult(x, one), x), domain=Complexes)"
   ]
  },
  {
   "cell_type": "code",
   "execution_count": null,
   "metadata": {},
   "outputs": [],
   "source": [
    "elimOneAny = Forall((m, n), Forall((AA, BB), Equals(Mult(iterA1m, one, iterB1n), Mult(iterA1m, iterB1n)), domain=Complexes),\n",
    "                    domain=Naturals)"
   ]
  },
  {
   "cell_type": "code",
   "execution_count": null,
   "metadata": {},
   "outputs": [],
   "source": [
    "multZeroLeft = Forall(x, Equals(Mult(zero, x), zero), domain=Complexes)"
   ]
  },
  {
   "cell_type": "code",
   "execution_count": null,
   "metadata": {},
   "outputs": [],
   "source": [
    "multZeroRight = Forall(x, Equals(Mult(x, zero), zero), domain=Complexes)"
   ]
  },
  {
   "cell_type": "code",
   "execution_count": null,
   "metadata": {},
   "outputs": [],
   "source": [
    "multZeroAny = Forall((m, n), Forall((AA, BB), Equals(Mult(iterA1m, zero, iterB1n), zero), domain=Complexes),\n",
    "                     domain=Naturals)"
   ]
  },
  {
   "cell_type": "code",
   "execution_count": null,
   "metadata": {},
   "outputs": [],
   "source": [
    "multNegLeft = Forall((x, y), Equals(Mult(Neg(x), y), Neg(Mult(x, y))), domain=Complexes)"
   ]
  },
  {
   "cell_type": "code",
   "execution_count": null,
   "metadata": {},
   "outputs": [],
   "source": [
    "multNegRight = Forall((x, y), Equals(Mult(x, Neg(y)), Neg(Mult(x, y))), domain=Complexes)"
   ]
  },
  {
   "cell_type": "code",
   "execution_count": null,
   "metadata": {},
   "outputs": [],
   "source": [
    "multNegLeftDouble = Forall((x, y), Equals(Neg(Mult(Neg(x), y)), Mult(x, y)), domain=Complexes)"
   ]
  },
  {
   "cell_type": "code",
   "execution_count": null,
   "metadata": {},
   "outputs": [],
   "source": [
    "multNegRightDouble = Forall((x, y), Equals(Neg(Mult(x, Neg(y))), Mult(x, y)), domain=Complexes)"
   ]
  },
  {
   "cell_type": "code",
   "execution_count": null,
   "metadata": {},
   "outputs": [],
   "source": [
    "multNegAny = Forall((m, n), Forall((AA, B, CC), Equals(Mult(iterA1m, Neg(B), iterC1n), \n",
    "                                                       Neg(Mult(iterA1m, B, iterC1n))), domain=Complexes),\n",
    "                     domain=Naturals)"
   ]
  },
  {
   "cell_type": "code",
   "execution_count": null,
   "metadata": {},
   "outputs": [],
   "source": [
    "multNegAnyDouble = Forall((m, n), Forall((AA, B, CC), Equals(Neg(Mult(iterA1m, Neg(B), iterC1n)), \n",
    "                                                       Mult(iterA1m, B, iterC1n)), domain=Complexes),\n",
    "                     domain=Naturals)"
   ]
  },
  {
   "cell_type": "code",
   "execution_count": null,
   "metadata": {},
   "outputs": [],
   "source": [
    "distributeThroughSum =  Forall((l,m,n),Forall((AA, BB, CC),\n",
    "                  Equals(\n",
    "                        Mult(varIter(AA, one,l), Add(varIter(BB, one, m)), iterC1n),\n",
    "                        Add(Iter(i,Mult(varIter(AA, one,l), Indexed(BB, i), iterC1n), one, m))\n",
    "                        ),\n",
    "                  domains = [Exp(Complexes,l), Exp(Complexes,m), Exp(Complexes,n)]\n",
    "                  ), domain = Naturals)"
   ]
  },
  {
   "cell_type": "code",
   "execution_count": null,
   "metadata": {},
   "outputs": [],
   "source": [
    "distributeThroughSubtract =  Forall((m,n), Forall((AA, x, y, BB),\n",
    "                  Equals(\n",
    "                        Mult(iterA1m, subtract(x, y), iterB1n),\n",
    "                        subtract(Mult(iterA1m, x, iterB1n), Mult(iterA1m, y, iterB1n))\n",
    "                        ),\n",
    "                  domains = [Exp(Complexes,m), Complexes, Complexes, Exp(Complexes,n)]\n",
    "                  ), domain = Naturals)"
   ]
  },
  {
   "cell_type": "code",
   "execution_count": null,
   "metadata": {},
   "outputs": [],
   "source": [
    "distributeThroughSummation = Forall((l,m,n), Forall((P, S),\n",
    "                                    Implies(Forall(BB, InSet(Function(P, varIter(BB, one,m)), Complexes), domain=Exp(S,m)),\n",
    "                                            Forall((AA, CC),\n",
    "                                                   Equals(Mult(varIter(AA, one, l), Sum(varIter(BB, one, m), Function(P, varIter(BB, one,m)), domain=S), iterC1n),\n",
    "                                                          Sum(varIter(BB, one, m), Mult(varIter(AA, one, l),Function(P, varIter(BB, one,m)) , iterC1n), domain=S)),\n",
    "                                                  domains=[Exp(Complexes,l),Exp(Complexes,n)]))), domain=Naturals)\n"
   ]
  },
  {
   "cell_type": "code",
   "execution_count": null,
   "metadata": {},
   "outputs": [],
   "source": [
    "commutation = Forall((a, b), Equals(Mult(a, b), Mult(b, a)), domain=Complexes)"
   ]
  },
  {
   "cell_type": "code",
   "execution_count": null,
   "metadata": {},
   "outputs": [],
   "source": [
    "rightwardCommutation = Forall((l, m, n),Forall((aa,b,cc,dd), Equals(Mult(iter_a1l, b, iter_c1m, iter_d1n), Mult(iter_a1l, iter_c1m, b, iter_d1n)), \n",
    "                                               domains = [Exp(Complexes, l), Complexes, Exp(Complexes,m), Exp(Complexes, n)]), \n",
    "                              domain = Naturals)"
   ]
  },
  {
   "cell_type": "code",
   "execution_count": null,
   "metadata": {},
   "outputs": [],
   "source": [
    "leftwardCommutation = Forall((l, m, n),Forall((aa,bb,c,dd), Equals(Mult(iter_a1l, iter_b1m, c, iter_d1n), Mult(iter_a1l, c, iter_b1m, iter_d1n)), \n",
    "                                               domains = [Exp(Complexes, l), Exp(Complexes,m), Complexes, Exp(Complexes, n)]), \n",
    "                              domain = Naturals)"
   ]
  },
  {
   "cell_type": "code",
   "execution_count": null,
   "metadata": {},
   "outputs": [],
   "source": [
    "association = Forall((l,m,n), Forall((aa,bb,cc), Equals(Mult(iter_a1l, iter_b1m, iter_c1n), \n",
    "                                                        Mult(iter_a1l, Mult(iter_b1m), iter_c1n)),\n",
    "                                     domains = [Exp(Complexes,l), Exp(Complexes,m), Exp(Complexes,n)]),\n",
    "                     domain=Naturals)"
   ]
  },
  {
   "cell_type": "code",
   "execution_count": null,
   "metadata": {},
   "outputs": [],
   "source": [
    "disassociation = Forall((l,m,n), Forall((aa,bb,cc), Equals(Mult(iter_a1l, Mult(iter_b1m), iter_c1n),\n",
    "                                                           Mult(iter_a1l, iter_b1m, iter_c1n)),\n",
    "                                        domains = [Exp(Complexes,l), Exp(Complexes,m), Exp(Complexes,n)]),\n",
    "                        domain=Naturals)"
   ]
  },
  {
   "cell_type": "code",
   "execution_count": null,
   "metadata": {},
   "outputs": [],
   "source": [
    "%end theorems"
   ]
  }
 ],
 "metadata": {
  "kernelspec": {
   "display_name": "Python 3",
   "language": "python",
   "name": "python3"
  }
 },
 "nbformat": 4,
 "nbformat_minor": 0
}
