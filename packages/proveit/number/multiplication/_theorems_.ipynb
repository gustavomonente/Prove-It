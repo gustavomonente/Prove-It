{
 "cells": [
  {
   "cell_type": "markdown",
   "metadata": {},
   "source": [
    "Theorems for context <a href=\"_context_.ipynb\" class=\"ProveItLink\">proveit.number.multiplication</a>\n",
    "========"
   ]
  },
  {
   "cell_type": "code",
   "execution_count": null,
   "metadata": {},
   "outputs": [],
   "source": [
    "# the context is in the current directory:\n",
    "import proveit\n",
    "# Automation is not needed when building theorem expressions:\n",
    "proveit.defaults.automation = False # This will speed things up.\n",
    "context = proveit.Context('.') # adds context root to sys.path if necessary\n",
    "from proveit import Iter, varIter, IndexedVar\n",
    "\n",
    "# let's convert these to lower-case at some point (more traditional for numbers, ALL-CAPS for logic)\n",
    "from proveit._common_ import AA, B, BB, CC, D, EE, P\n",
    "from proveit.logic._common_ import iterA1l, iterA1m, iterB1m, iterC1n\n",
    "\n",
    "from proveit._common_ import a, b, c, d, e, f, g, h, i,j,k, l, m, n, x, y, S, aa, bb, cc, dd\n",
    "from proveit.number._common_ import iter_a1l, iter_b1m, iter_c1m, iter_c1n, iter_d1n\n",
    "from proveit.logic import Forall, Set, InSet, Equals, NotEquals, Implies, Booleans\n",
    "from proveit.logic._common_ import iterA1m, iterC1n, iterB1n, iterC1m\n",
    "from proveit.number import Naturals, NaturalsPos, Integers, Reals, RealsPos, Complexes\n",
    "from proveit.number import Mult, Neg, Add, subtract, Sum, num, zero, one, Exp\n",
    "from proveit.number._common_ import ComplexesSansZero\n",
    "from proveit._core_.expression.operation import Function"
   ]
  },
  {
   "cell_type": "code",
   "execution_count": null,
   "metadata": {},
   "outputs": [],
   "source": [
    "%begin theorems"
   ]
  },
  {
   "cell_type": "code",
   "execution_count": null,
   "metadata": {},
   "outputs": [],
   "source": [
    "multDefRev = \\\n",
    "    Forall((m, x), Forall(iterA1m, \n",
    "                          Equals(Add(iterA1m), Mult(m, x)),\n",
    "                          domain=Set(x)),\n",
    "           domains=(Naturals, Complexes))"
   ]
  },
  {
   "cell_type": "code",
   "execution_count": null,
   "metadata": {},
   "outputs": [],
   "source": [
    "multNatClosureBin = Forall((a, b), InSet(Mult(a, b), Naturals), domain=Naturals)"
   ]
  },
  {
   "cell_type": "code",
   "execution_count": null,
   "metadata": {},
   "outputs": [],
   "source": [
    "multNatClosure = \\\n",
    "    Forall(m, Forall(iterA1m, InSet(Mult(iterA1m), Naturals), \n",
    "                     domain=Naturals), \n",
    "           domain=Naturals)"
   ]
  },
  {
   "cell_type": "code",
   "execution_count": null,
   "metadata": {},
   "outputs": [],
   "source": [
    "multNatPosClosureBin = Forall((a, b), InSet(Mult(a, b), NaturalsPos), domain=NaturalsPos)"
   ]
  },
  {
   "cell_type": "code",
   "execution_count": null,
   "metadata": {},
   "outputs": [],
   "source": [
    "multNatPosClosure = \\\n",
    "    Forall(m, Forall(iterA1m, \n",
    "                     InSet(Mult(iterA1m), NaturalsPos), \n",
    "                     domain=NaturalsPos), \n",
    "           domain=Naturals)"
   ]
  },
  {
   "cell_type": "code",
   "execution_count": null,
   "metadata": {},
   "outputs": [],
   "source": [
    "multIntClosureBin = Forall((a, b), InSet(Mult(a, b), Integers), domain=Integers)"
   ]
  },
  {
   "cell_type": "code",
   "execution_count": null,
   "metadata": {},
   "outputs": [],
   "source": [
    "multIntClosure = \\\n",
    "    Forall(m, Forall(iterA1m, InSet(Mult(iterA1m), Integers), \n",
    "                     domain=Integers), \n",
    "           domain=Naturals)"
   ]
  },
  {
   "cell_type": "code",
   "execution_count": null,
   "metadata": {},
   "outputs": [],
   "source": [
    "multRealClosureBin = Forall((a, b), InSet(Mult(a, b), Reals), domain=Reals)"
   ]
  },
  {
   "cell_type": "code",
   "execution_count": null,
   "metadata": {},
   "outputs": [],
   "source": [
    "multRealClosure = \\\n",
    "    Forall(m, Forall(iterA1m, \n",
    "                     InSet(Mult(iterA1m), Reals), \n",
    "                     domain=Reals), \n",
    "           domain=Naturals)"
   ]
  },
  {
   "cell_type": "code",
   "execution_count": null,
   "metadata": {},
   "outputs": [],
   "source": [
    "multRealPosClosureBin = Forall((a, b), InSet(Mult(a, b), RealsPos), domain=RealsPos)"
   ]
  },
  {
   "cell_type": "code",
   "execution_count": null,
   "metadata": {},
   "outputs": [],
   "source": [
    "multRealPosClosure = \\\n",
    "    Forall(m ,Forall(iterA1m, InSet(Mult(iterA1m), RealsPos), \n",
    "                     domain=RealsPos), \n",
    "           domain=Naturals)"
   ]
  },
  {
   "cell_type": "code",
   "execution_count": null,
   "metadata": {},
   "outputs": [],
   "source": [
    "multComplexClosureBin = Forall((a, b), InSet(Mult(a, b), Complexes), domain=Complexes)"
   ]
  },
  {
   "cell_type": "code",
   "execution_count": null,
   "metadata": {},
   "outputs": [],
   "source": [
    "multComplexClosure = \\\n",
    "    Forall(m, Forall(iterA1m, InSet(Mult(iterA1m),Complexes), \n",
    "                     domain=Complexes), \n",
    "           domain=Naturals)"
   ]
  },
  {
   "cell_type": "code",
   "execution_count": null,
   "metadata": {},
   "outputs": [],
   "source": [
    "multNotEqZero = \\\n",
    "    Forall(m, Forall(iterA1m, \n",
    "                     NotEquals(Mult(iterA1m), zero), \n",
    "                     domain=ComplexesSansZero), \n",
    "           domain=Naturals)"
   ]
  },
  {
   "cell_type": "code",
   "execution_count": null,
   "metadata": {},
   "outputs": [],
   "source": [
    "elimOneLeft = Forall(x, Equals(Mult(one, x), x), domain=Complexes)"
   ]
  },
  {
   "cell_type": "code",
   "execution_count": null,
   "metadata": {},
   "outputs": [],
   "source": [
    "elimOneRight = Forall(x, Equals(Mult(x, one), x), domain=Complexes)"
   ]
  },
  {
   "cell_type": "code",
   "execution_count": null,
   "metadata": {},
   "outputs": [],
   "source": [
    "elimOneAny = \\\n",
    "    Forall((m, n), \n",
    "           Forall((iterA1m, iterB1n), \n",
    "                  Equals(Mult(iterA1m, one, iterB1n), \n",
    "                         Mult(iterA1m, iterB1n)), \n",
    "                  domain=Complexes),\n",
    "           domain=Naturals)"
   ]
  },
  {
   "cell_type": "code",
   "execution_count": null,
   "metadata": {},
   "outputs": [],
   "source": [
    "multZeroLeft = Forall(x, Equals(Mult(zero, x), zero), domain=Complexes)"
   ]
  },
  {
   "cell_type": "code",
   "execution_count": null,
   "metadata": {},
   "outputs": [],
   "source": [
    "multZeroRight = Forall(x, Equals(Mult(x, zero), zero), domain=Complexes)"
   ]
  },
  {
   "cell_type": "code",
   "execution_count": null,
   "metadata": {},
   "outputs": [],
   "source": [
    "multZeroAny = \\\n",
    "    Forall((m, n), \n",
    "           Forall((iterA1m, iterB1n), \n",
    "                  Equals(Mult(iterA1m, zero, iterB1n), zero), \n",
    "                  domain=Complexes),\n",
    "           domain=Naturals)"
   ]
  },
  {
   "cell_type": "code",
   "execution_count": null,
   "metadata": {},
   "outputs": [],
   "source": [
    "multNegLeft = Forall((x, y), Equals(Mult(Neg(x), y), Neg(Mult(x, y))), domain=Complexes)"
   ]
  },
  {
   "cell_type": "code",
   "execution_count": null,
   "metadata": {},
   "outputs": [],
   "source": [
    "multNegRight = Forall((x, y), Equals(Mult(x, Neg(y)), Neg(Mult(x, y))), domain=Complexes)"
   ]
  },
  {
   "cell_type": "code",
   "execution_count": null,
   "metadata": {},
   "outputs": [],
   "source": [
    "multNegLeftDouble = Forall((x, y), Equals(Neg(Mult(Neg(x), y)), Mult(x, y)), domain=Complexes)"
   ]
  },
  {
   "cell_type": "code",
   "execution_count": null,
   "metadata": {},
   "outputs": [],
   "source": [
    "multNegRightDouble = Forall((x, y), Equals(Neg(Mult(x, Neg(y))), Mult(x, y)), domain=Complexes)"
   ]
  },
  {
   "cell_type": "code",
   "execution_count": null,
   "metadata": {},
   "outputs": [],
   "source": [
    "multNegAny = \\\n",
    "    Forall((m, n), \n",
    "           Forall((iterA1m, B, iterC1n), \n",
    "                  Equals(Mult(iterA1m, Neg(B), iterC1n), \n",
    "                         Neg(Mult(iterA1m, B, iterC1n))), \n",
    "                  domain=Complexes),\n",
    "           domain=Naturals)"
   ]
  },
  {
   "cell_type": "code",
   "execution_count": null,
   "metadata": {},
   "outputs": [],
   "source": [
    "multNegAnyDouble = \\\n",
    "    Forall((m, n), \n",
    "           Forall((iterA1m, B, iterC1n), \n",
    "                  Equals(Neg(Mult(iterA1m, Neg(B), iterC1n)), \n",
    "                         Mult(iterA1m, B, iterC1n)), \n",
    "                  domain=Complexes),\n",
    "           domain=Naturals)"
   ]
  },
  {
   "cell_type": "code",
   "execution_count": null,
   "metadata": {},
   "outputs": [],
   "source": [
    "distributeThroughSum =  \\\n",
    "    Forall((l,m,n),\n",
    "           Forall((iterA1l, iterB1m, iterC1n),\n",
    "                  Equals(\n",
    "                        Mult(iterA1l, Add(iterB1m), iterC1n),\n",
    "                        Add(Iter(i,Mult(iterA1l, \n",
    "                                        IndexedVar(BB, i), \n",
    "                                        iterC1n), \n",
    "                                 one, m))).withWrappingAt(2),\n",
    "                  domain=Complexes),\n",
    "           domain=Naturals)"
   ]
  },
  {
   "cell_type": "code",
   "execution_count": null,
   "metadata": {},
   "outputs": [],
   "source": [
    "distributeThroughSubtract =  \\\n",
    "    Forall((l,m,n),\n",
    "           Forall((iterA1m, x, y, iterB1n),\n",
    "                  Equals(\n",
    "                        Mult(iterA1l, subtract(x, y), iterB1n),\n",
    "                        subtract(Mult(iterA1l, x, iterB1n),\n",
    "                                 Mult(iterA1l, y, iterB1n)))\\\n",
    "                  .withWrappingAt(2), \n",
    "                  domain=Complexes),\n",
    "           domain=Naturals)"
   ]
  },
  {
   "cell_type": "code",
   "execution_count": null,
   "metadata": {},
   "outputs": [],
   "source": [
    "distributeThroughSummation = \\\n",
    "    Forall((l,m,n), \n",
    "           Forall((P, S),\n",
    "                  Implies(Forall(iterB1m, \n",
    "                                 InSet(Function(P, iterB1m), Complexes), \n",
    "                                 domain=S),\n",
    "                          Forall((iterA1l, iterC1n),\n",
    "                                 Equals(Mult(iterA1l, \n",
    "                                             Sum(iterB1m, \n",
    "                                                 Function(P, iterB1m), \n",
    "                                                 domain=S), \n",
    "                                             iterC1n),\n",
    "                                        Sum(iterB1m, \n",
    "                                            Mult(iterA1l,\n",
    "                                                 Function(P, iterB1m), \n",
    "                                                 iterC1n), \n",
    "                                            domain=S))\\\n",
    "                                 .withWrappingAt(2),\n",
    "                                 domain=Complexes))), \n",
    "           domain=Naturals)"
   ]
  },
  {
   "cell_type": "code",
   "execution_count": null,
   "metadata": {},
   "outputs": [],
   "source": [
    "commutation = Forall((a, b), Equals(Mult(a, b), Mult(b, a)), domain=Complexes)"
   ]
  },
  {
   "cell_type": "code",
   "execution_count": null,
   "metadata": {},
   "outputs": [],
   "source": [
    "rightwardCommutation = \\\n",
    "    Forall((l, m, n),\n",
    "           Forall((iter_a1l,b,iter_c1m,iter_d1n), \n",
    "                  Equals(Mult(iter_a1l, b, iter_c1m, iter_d1n), \n",
    "                         Mult(iter_a1l, iter_c1m, b, iter_d1n)) \\\n",
    "                  .withWrappingAt(2), \n",
    "                  domain=Complexes),\n",
    "           domain=Naturals)"
   ]
  },
  {
   "cell_type": "code",
   "execution_count": null,
   "metadata": {},
   "outputs": [],
   "source": [
    "leftwardCommutation = \\\n",
    "    Forall((l, m, n),\n",
    "           Forall((iter_a1l,iter_b1m,c,iter_d1n), \n",
    "                  Equals(Mult(iter_a1l, iter_b1m, c, iter_d1n), \n",
    "                         Mult(iter_a1l, c, iter_b1m, iter_d1n)) \\\n",
    "                  .withWrappingAt(2), \n",
    "                  domain=Complexes), \n",
    "           domain=Naturals)"
   ]
  },
  {
   "cell_type": "code",
   "execution_count": null,
   "metadata": {},
   "outputs": [],
   "source": [
    "association = \\\n",
    "    Forall((l,m,n), \n",
    "           Forall((iter_a1l,iter_b1m,iter_c1n), \n",
    "                  Equals(Mult(iter_a1l, iter_b1m, iter_c1n), \n",
    "                         Mult(iter_a1l, Mult(iter_b1m), iter_c1n)) \\\n",
    "                  .withWrappingAt(2),\n",
    "                  domain=Complexes),\n",
    "           domain=Naturals)"
   ]
  },
  {
   "cell_type": "code",
   "execution_count": null,
   "metadata": {},
   "outputs": [],
   "source": [
    "disassociation = \\\n",
    "    Forall((l,m,n), \n",
    "           Forall((iter_a1l,iter_b1m,iter_c1n), \n",
    "                  Equals(Mult(iter_a1l, Mult(iter_b1m), iter_c1n),\n",
    "                         Mult(iter_a1l, iter_b1m, iter_c1n)) \\\n",
    "                  .withWrappingAt(2),\n",
    "                  domain=Complexes),\n",
    "           domain=Naturals)"
   ]
  },
  {
   "cell_type": "code",
   "execution_count": null,
   "metadata": {},
   "outputs": [],
   "source": [
    "%end theorems"
   ]
  }
 ],
 "metadata": {
  "kernelspec": {
   "display_name": "Python 3",
   "language": "python",
   "name": "python3"
  }
 },
 "nbformat": 4,
 "nbformat_minor": 0
}
