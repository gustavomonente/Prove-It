{
 "cells": [
  {
   "cell_type": "markdown",
   "metadata": {},
   "source": [
    "Theorems for context <a class=\"ProveItLink\" href=\"_context_.ipynb\">proveit.number.absolute_value</a>\n",
    "========"
   ]
  },
  {
   "cell_type": "code",
   "execution_count": 1,
   "metadata": {},
   "outputs": [],
   "source": [
    "import proveit\n",
    "# Automation is not needed when building theorem expressions:\n",
    "proveit.defaults.automation = False # This will speed things up.\n",
    "from proveit import IndexedVar, ExprRange\n",
    "from proveit._common_ import a, b, i, n, x, y\n",
    "from proveit.logic import And, Equals, Forall, Iff, InSet, NotEquals\n",
    "from proveit.number import Abs, Add, frac, GreaterEq, LessEq, Mult, Neg\n",
    "from proveit.number import (zero, one, Complexes, NaturalsPos, Reals, RealsNeg,\n",
    "                            RealsNonNeg, RealsPos)\n",
    "from proveit.core_expr_types._common_ import x_1_to_n\n",
    "\n",
    "# the context is in the current directory:\n",
    "context = proveit.Context('.') # adds context root to sys.path if necessary"
   ]
  },
  {
   "cell_type": "code",
   "execution_count": 2,
   "metadata": {},
   "outputs": [
    {
     "name": "stdout",
     "output_type": "stream",
     "text": [
      "Defining theorems for context 'proveit.number.absolute_value'\n",
      "Subsequent end-of-cell assignments will define theorems\n",
      "'%end theorems' will finalize the definitions\n"
     ]
    }
   ],
   "source": [
    "%begin theorems"
   ]
  },
  {
   "cell_type": "markdown",
   "metadata": {},
   "source": [
    "<p style=\"font-size:12pt;font-weight:bold\">Basic closure theorems</p>"
   ]
  },
  {
   "cell_type": "code",
   "execution_count": 3,
   "metadata": {},
   "outputs": [
    {
     "data": {
      "text/html": [
       "<strong id=\"absComplexClosure\"><a class=\"ProveItLink\" href=\"_proofs_/absComplexClosure.ipynb\">absComplexClosure</a>:</strong> <a class=\"ProveItLink\" href=\"__pv_it/4634e779805fda675e98f2e829608233d35c5dc10/expr.ipynb\"><img src=\"data:image/png;base64,iVBORw0KGgoAAAANSUhEUgAAAIMAAAAVBAMAAACXjEALAAAAMFBMVEX///8QEBCIiIhmZma6urrM\n",
       "zMxUVFQiIiJERETc3Nzu7u6qqqp2dnaYmJgyMjIAAAAcRTyBAAAAAXRSTlMAQObYZgAAAiZJREFU\n",
       "OMudlE9o1EAUxr/dJLtJNokePBRBWdB6LvVaRSlFEIRcrMWLZVHUi/SiPSgleNCsf3C8qOAeogWV\n",
       "RdygiKwULOpB9BK8WAvCXnpQZO1RevLNZsZkdYcVH4S8vBl+vO+bNwGGxFHxNiL8V1gJ3orU2Tdw\n",
       "R5ueDk++KBCPoEJ8GrnRHUmAEgM+8MI3BeKrEoHOA8ysRLCphTu832AwwR1TI4IGTGsWeA14ZJMT\n",
       "D0aU2V8I9/L8gkRojFq4R7X3zeZthQ5e70cYF6OsC41R9x7Vf4bhBQViR4qwJsa3CsSTKCekpJMQ\n",
       "h8SeAOoKxPUUsZ956wJxOu/Fi70EdEnMZM/VLCrXTtZEer6HsLdBCwQi8z24Ob/ALazMkWcoJqJs\n",
       "L+1O7JnI+C6+t/QQ2gbK1RRhbO9SiC4mTa7KWCcxSVmSV9pNuA1gqQ9RCNDyU0Tu9IOGNhUIhNWZ\n",
       "pmxx1xp0cgZTz6nUJ6S1jFfyRDbnvbjykd46CUH9OEk4a2zA40urn/+0sxXjTIWliPE8YlrzUzvx\n",
       "jDjamDGHRb70sp0h3vQQZtU954guynFuwJ2YTlNbpo9NVaAQF2dxJAzD6t3DGeJAeiK10Vs7BcI+\n",
       "dfD3NVtD+COG5/OZJWNbzFyNSnxNu08b1QOuvxMDLuOhTArs2CE4HGhN+PzqDL1mMuRe6LWne4Cr\n",
       "PH3cveTLcn0oon8sgSJ58Y+/HBkmG/7jG5V4f+AOGoFf5DienGjorQIAAAAASUVORK5CYII=\n",
       "\" style=\"display:inline;vertical-align:middle;\" /></a><br>"
      ],
      "text/plain": [
       "absComplexClosure: forall_{a in Complexes} (|a| in Reals)"
      ]
     },
     "execution_count": 3,
     "metadata": {},
     "output_type": "execute_result"
    }
   ],
   "source": [
    "absComplexClosure = Forall(\n",
    "    a,\n",
    "    InSet(Abs(a), Reals),\n",
    "    domain=Complexes)"
   ]
  },
  {
   "cell_type": "code",
   "execution_count": 4,
   "metadata": {},
   "outputs": [
    {
     "data": {
      "text/html": [
       "<strong id=\"absComplexClosureNonNegReals\"><a class=\"ProveItLink\" href=\"_proofs_/absComplexClosureNonNegReals.ipynb\">absComplexClosureNonNegReals</a>:</strong> <a class=\"ProveItLink\" href=\"__pv_it/6b5e832f101b8c3fbdcd33ae21a87453a3d9a2fa0/expr.ipynb\"><img src=\"data:image/png;base64,iVBORw0KGgoAAAANSUhEUgAAAJsAAAAcBAMAAACE+tDfAAAAMFBMVEX///8QEBCIiIhmZma6urrM\n",
       "zMxUVFQiIiJERETc3Nzu7u6qqqp2dnaYmJgyMjIAAAAcRTyBAAAAAXRSTlMAQObYZgAAArZJREFU\n",
       "SMetlUtoE1EUhv88Jo/Jy526SxRFXEjwASn4CIiuFCP4iG4agqLiploli7ooUmsarQQCWlBwtNBF\n",
       "qDb4gkgXoXYhViGubEuFUdFFlNqNoKmI587cSSePYRrohST3nvvz3XPOPecGWJFhnSitCMd+TvmZ\n",
       "w4vlqI+YKnKn2fclBCSrqVZImJ+YuwaIv2Ap2E3FfgmCxOcnjUSjfRD+wFnGOzPcVsAb5fNJQ9Vo\n",
       "RajCGYSTTpaZ4WNrnbtqiPNdSP/7NKjOt5TJO0sQ1jAwxQyV1jhv2Ng7v5gQBjM0ETcVWO4CUbgX\n",
       "gCHmRW9rnKVgjHO5S+i9TbTXUX6zQI+SbXgLrXH3pWbcdCola7gOP8SIsr9eqbsIJeFNPn/HIMfv\n",
       "0YSLb9Z51+GCEFO74i3lBSH6/E6nrxjgdnNc7lVIUnFiRR9sYn+9/hBFQ1U9YIBLqzj7Wvzk3jmy\n",
       "Opynu+EKO8nVvRBlvc1z80yST7+puAdllhUF59JdxerUd1KnaWS0XFMkTljLfCmObyuLcUn4wdfd\n",
       "Km6PhIscd3ieBr+KyXCmIZoxwnnLTm05XczDdw8Y5+svKm4NqysVN6QvlO3xxkognFs+RrPhjV9h\n",
       "Z7ez7zmZ+Ha/ghP/wrPAcRY9zvUo2JA7ltmBUxTmZWo7PzPNzixtn1Vxi3DIRRVnC+pwQmJH883i\n",
       "aRfJwkIXhpnpZXFpO6QGexUfEiVedz26JsOUI9ZUpwgEWTtZEzhOlxS8e7T+NMKNrDuRjHLcSJ9U\n",
       "ewJirluLdbiIskOCsaxrVnIo4Tyk0LWejTY32YHrKdnopfpca/Zs50F4mevunTFMcKuttKz3Thti\n",
       "tfYPknyyC7ihPIbz/VpGhFVt4XwNr7uVcldnON8WzhkzETymIzTNBlPcnJnAE27jL9foEdaNZ23g\n",
       "bBJWevwHcEe6tuaeXf8AAAAASUVORK5CYII=\n",
       "\" style=\"display:inline;vertical-align:middle;\" /></a><br>"
      ],
      "text/plain": [
       "absComplexClosureNonNegReals: forall_{a in Complexes} (|a| in RealsNonNeg)"
      ]
     },
     "execution_count": 4,
     "metadata": {},
     "output_type": "execute_result"
    }
   ],
   "source": [
    "absComplexClosureNonNegReals = Forall(\n",
    "    a,\n",
    "    InSet(Abs(a), RealsNonNeg),\n",
    "    domain=Complexes)"
   ]
  },
  {
   "cell_type": "code",
   "execution_count": 5,
   "metadata": {},
   "outputs": [
    {
     "data": {
      "text/html": [
       "<strong id=\"absNonzeroClosure\"><a class=\"ProveItLink\" href=\"_proofs_/absNonzeroClosure.ipynb\">absNonzeroClosure</a>:</strong> <a class=\"ProveItLink\" href=\"__pv_it/d7596754b7aec94796b5cf918c59ae73ef32365d0/expr.ipynb\"><img src=\"data:image/png;base64,iVBORw0KGgoAAAANSUhEUgAAAMMAAAAbCAMAAAD2zMvaAAAAOVBMVEX///8oKCgUFBQNDQ0QEBCI\n",
       "iIhmZma6urrMzMxUVFQiIiJERETc3Nzu7u6qqqp2dnaYmJgyMjIAAAArQGDrAAAAAXRSTlMAQObY\n",
       "ZgAAAu5JREFUWMPtl+uWmyAQgGnLDJfh6vs/bBk0iohJ1o3bP+WczRrDAN/cEeL/+NrQ6iPLmMcD\n",
       "/AME85l16PGgzI8zZF9JfEfmLzOImH4YAWfTx86horrOICwrIK9f081MbvJfZ0hWEk05S0pDBkBe\n",
       "Iewtfd+IKK7YIQtfvF5TIj6fyWVI/kiLYvjjAeXoZleS4RIDCRfnf2ZgB2FDo/7NIPe60iuGRLaM\n",
       "3DOg29y+ZUD+kqLn4ezNZkhSvMGgCfzQDoWBRgxQl52Ih413Z6W8O7PDiCB9x+CPQbkwmKYYtAyq\n",
       "mtfo+t69fZqn/lvPABEOKiFqGZQs++Wpt4NxJ/EQLG54LYOe+PgKqwLOjxUoGmtglNqO2tbVPYtQ\n",
       "X0KzaRi8TA9f3jHQMKYlB0gTrm4XZlWcIwEOxcGHiFjees1JTef4DsOcOywvO3VeYbFhwPqrhY5B\n",
       "16xZx84ORc10kvn9zMAF+xDRiYLzLJeqO4rwFkPdyVfzyi7P5ZZB0jqvZXB0kltRaTpLd3N45bUb\n",
       "8wgmrw5WnV8H3RmwXW0VmCfH2UV5ru0sS40v+YknhumQl+RZfSCfxk3qvBnHs5nX8VaXl7sWJPnk\n",
       "ztuVVcDU5Pan/KVlBdvtaahlCLXmiuD2DAgnDEXJqIcJZvHZgIsrYdG+tlW9a0D78IRhFZhzdWhU\n",
       "I7vjQFsfCLgVMiL29cGGca/BJdjoZ2Vngq0dAJbQtuq1bOWC1ucMq0A1Cj3CjCUmNVbYnJcMgHYG\n",
       "VM/gDSl/7Pk05+Y8DVoJpNVhls2LAilxKG+ZET1sib9j2AS4F/v9a+nFhnlJSPVWr6Ei7XqNV3eS\n",
       "3vtK4dGT4mCMq/JLQeXnOKwPm4BoejJuiA/1QWC81PM9H/6gKmUgANYj0Wo3H3Om1hdpKNBmcIgR\n",
       "jxlE3sCQnt5GYY6H59eotpq/bLhM+DyD1d+8knf546Xd5ynQbQv6G2a42qkOGdIb14+An76TXL63\n",
       "XT9JUJ9lwJuvzz83/gKr7iGTgLb0jQAAAABJRU5ErkJggg==\n",
       "\" style=\"display:inline;vertical-align:middle;\" /></a><br>"
      ],
      "text/plain": [
       "absNonzeroClosure: forall_{a in Complexes | a != 0} (|a| in RealsPos)"
      ]
     },
     "execution_count": 5,
     "metadata": {},
     "output_type": "execute_result"
    }
   ],
   "source": [
    "absNonzeroClosure = Forall(\n",
    "    a,\n",
    "    InSet(Abs(a), RealsPos),\n",
    "    domain=Complexes,\n",
    "    conditions=[NotEquals(a, zero)])"
   ]
  },
  {
   "cell_type": "markdown",
   "metadata": {},
   "source": [
    "<p style=\"font-size:12pt;font-weight:bold\">Non-Negativity, Non-Zero, & Positive Definiteness Theorems</p>"
   ]
  },
  {
   "cell_type": "code",
   "execution_count": 6,
   "metadata": {},
   "outputs": [
    {
     "data": {
      "text/html": [
       "<strong id=\"absIsNonNeg\"><a class=\"ProveItLink\" href=\"_proofs_/absIsNonNeg.ipynb\">absIsNonNeg</a>:</strong> <a class=\"ProveItLink\" href=\"__pv_it/532ec41068ddbef2c8c9c21251b456ad2c320fef0/expr.ipynb\"><img src=\"data:image/png;base64,iVBORw0KGgoAAAANSUhEUgAAAH8AAAAVBAMAAACd/CwcAAAAMFBMVEX///8QEBCIiIhmZma6urrM\n",
       "zMxUVFQiIiJERETc3Nzu7u6qqqp2dnaYmJgyMjIAAAAcRTyBAAAAAXRSTlMAQObYZgAAAiVJREFU\n",
       "OMudlE9IFFEcx7+OM7vO25ntFNRtC/IseLBD4UJ4jObS38vKUngLUUQEAwmRETsMCBlU8EwoWIKG\n",
       "osOG4GKdCmSiQyWFe1FBpYQowjz0e/Nv15mnhQ8Gfr/5vfd5v9/3/d4DDh4aD41rOMx4CKMYmm9k\n",
       "8Sp9dWF8la9nYwcAFr9YyDjAO+FsyAF5JwFggzyOuWwEjLa/R44+Jgd8QDKD3JoT+u+BJUqDSMQ0\n",
       "XDlgJAWAumYFxgSwwDELmG8rlRn5er0/DYBmB39+ARdc5Mn5bdujcoDSEQCmX5/gDRH1myJf9oMA\n",
       "BRg05QYwKQe0eT5APY7vzaegd5EO+i5QKsAkFc/5WjZG7k5fObCyrg+Y9XC6GWAOCgplUKohR1Vm\n",
       "oXjRuc93euwK17YCt6XoA7o5BpoAyihvlKBt0xQvG8U+VSswHwDzewDHwH42AE8HEIm44PoAvX6J\n",
       "/Ln2VaikCHpe0q/mEtguctsxYPpWCLKBFQ6VSsDkdcpoSNtBXgSWPydEZH+QqVdDwN1N7GkkISJe\n",
       "EKW1Q+vHnAi8qsYAIzjG2/jYWwtbeTwOZl12lNbVyDxSoHJdpReXbdsu3L8Yz1GDRnp88mq5mLpM\n",
       "bLGdejIv+tIkVZ85bcs8IwKtjyi4fysnxpPIaHFK52EInH7GEldkn8uUutNxtuXnZ4Ep/5y+TViR\n",
       "iqnrvD4shhXXUU80P2nw3w9KuMO/njQl2u2ULE5H/he3a5q7nbfEUQAAAABJRU5ErkJggg==\n",
       "\" style=\"display:inline;vertical-align:middle;\" /></a><br>"
      ],
      "text/plain": [
       "absIsNonNeg: forall_{a in Complexes} (|a| >= 0)"
      ]
     },
     "execution_count": 6,
     "metadata": {},
     "output_type": "execute_result"
    }
   ],
   "source": [
    "absIsNonNeg = Forall(\n",
    "    a,\n",
    "    GreaterEq(Abs(a), zero),\n",
    "    domain=Complexes)"
   ]
  },
  {
   "cell_type": "code",
   "execution_count": 7,
   "metadata": {},
   "outputs": [
    {
     "data": {
      "text/html": [
       "<strong id=\"absNotEqZero\"><a class=\"ProveItLink\" href=\"_proofs_/absNotEqZero.ipynb\">absNotEqZero</a>:</strong> <a class=\"ProveItLink\" href=\"__pv_it/96822ecb73de447d44c67698484b99aa391363440/expr.ipynb\"><img src=\"data:image/png;base64,iVBORw0KGgoAAAANSUhEUgAAALEAAAAXCAMAAABzsl4EAAAAPFBMVEX///8kJCQoKCgUFBQNDQ0Q\n",
       "EBCIiIhmZma6urrMzMxUVFQiIiJERETc3Nzu7u6qqqp2dnaYmJgyMjIAAAChkoCbAAAAAXRSTlMA\n",
       "QObYZgAAAqVJREFUSMfNl4uSniAMhW27cifc3v9dC+EiIvrTdmzLzDqrK/Jxckiy2/a3B4fn+/9q\n",
       "aBcvlp0fjvfl6WwfRqerb/fOvQwMalsl1v70CnGWp19EQramPvdvh8frZWLRP/QREWSaDGkjWtVt\n",
       "qZeBHd1WiU8sbsfXfFa7k/YQ+6WBKq0RC97dKIEeDokTEr2zkIaWbx87ua0Sn8MdkJgFVNSnt4NK\n",
       "Q9qXiQntCTW1lOwwJ1a9xBBoJiY4m7YQKL28NntMCEhnyUUA5TpitsflfBg0th7H9690pVXwgJ/i\n",
       "mdglOzNaT+HNMMoKKcix9gMw5Wi0OEmMNjYHMewJn6q5K04SR2KaiRHcoLfShVySMRhLaXwKXEXd\n",
       "uLcrxBo5JZptSJY7O4gp/lGSKTE/7/XsCp7j4jL1ORcpoyF91+m8uSVihQc6JJF2c0+8q/balXj0\n",
       "Zyi5whzEscDUfQElwvNqFdwbNzlIekrcJuSXi+XSu9LdugIwwiZsMx9/27Obm9IK13M5ZkyWXZUa\n",
       "A5LH9aAv3g7ceCY74jZBYML5ij+ufEGS25MHqJfw2CiMGvtxub6C5JMXd0uLKWhUlkuUrh07MA/E\n",
       "bUJOYFnGrPE+ENsuu6n4NyfFZq+uaME9Rwf2HEhazBnK15P3SAoHl6hZ/LI2nN8TtwlHp1MNGgbt\n",
       "WFdBQBDCtSDsSjzpbsASUqtgdaCDspRO0UsH7jivFMiRaAfiY4KIzvvxPfnP3eSKtSpt6HP7N2aI\n",
       "mNd5YNjFNmFjdeK1B7lq3CbUzFbL2yUfr3VCHxpIS8ZqJoghFAGUOYLivep7EzWdkDNbQbZ2opX6\n",
       "3G2a517hqc7FVbOPZ0l3Xhk/NiYLHf0HiX+hlVgg9ov/NZHhIJ/u2XOH/ZvAc2L3dnv9J4P+09V/\n",
       "AgkLIbCsBuk+AAAAAElFTkSuQmCC\n",
       "\" style=\"display:inline;vertical-align:middle;\" /></a><br>"
      ],
      "text/plain": [
       "absNotEqZero: forall_{a in Complexes | a != 0} (|a| != 0)"
      ]
     },
     "execution_count": 7,
     "metadata": {},
     "output_type": "execute_result"
    }
   ],
   "source": [
    "absNotEqZero = Forall(\n",
    "    a,\n",
    "    NotEquals(Abs(a), zero),\n",
    "    domain=Complexes,\n",
    "    conditions=[NotEquals(a, zero)])"
   ]
  },
  {
   "cell_type": "code",
   "execution_count": 8,
   "metadata": {},
   "outputs": [
    {
     "data": {
      "text/html": [
       "<strong id=\"absPosDef\"><a class=\"ProveItLink\" href=\"_proofs_/absPosDef.ipynb\">absPosDef</a>:</strong> <a class=\"ProveItLink\" href=\"__pv_it/b5f20d1cc0807a0d50043ca3d369090a59e64e4e0/expr.ipynb\"><img src=\"data:image/png;base64,iVBORw0KGgoAAAANSUhEUgAAAPIAAAAVBAMAAACOB66tAAAAMFBMVEX///8QEBCIiIhmZma6urrM\n",
       "zMxUVFQiIiJERETc3Nzu7u6qqqp2dnaYmJgyMjIAAAAcRTyBAAAAAXRSTlMAQObYZgAAA0pJREFU\n",
       "SMe9Vk1oE0EU/tL8b7JpBQUVhFhtb0LQi2DFiognMRe1ekkIiggiVahaKhIES4oKAUEFlW4ttKVI\n",
       "ExSRSKGhrReFEvGgLf4EtII/1KIokvbgezuTpk1mS3px4O2+N/vefPN+5s0CVYyjZe//MO4JGpfi\n",
       "uErHl1TNenOWi2akUZ6Fd2odLS7IEtm/5RlwUmU6oF5x9G0YLt4qGb3gia9qvUBSkCXyN/QnMaQy\n",
       "/aJeMK21Q2Nnyeg2hyauRn4lyQpZr4M/D3+w0lIPKRd8CUyQ4xytIAIGvdJq5HZJVsieKHwFaHVS\n",
       "JF+cUcG6lclHJzBioIcTWQf9+eDgLTWwt1WQJXJtFI454JOQariorgjeYsU/wIE0As0wjf4mEhfV\n",
       "ejUhQYx4Y2yjUYGcCsHxExgTUgs/hgyT38Qbb9q6vqxifxFyEH5ek4yOA11qZE9OECE61uGH9Nk/\n",
       "Yw627s7CScjvTW3nqvM0zohivU60OxmYZX7C1P/Ie5kHIkHoXGJktEcUW+l8XjsRk8lKCyLEnhy2\n",
       "V0a7OwQnLfbEFBqFty1mzXSQgxtgL6tcL/kcycLHGSQjt0iQGY3hbTmtxXB+F6KtWRAh7jJwFlbR\n",
       "jjDfL2sLF/ixGrAX4A4qo+3kUJCRP+cufnmTGYR+FxiuQF4L7beywnxzEtl7Ssz1ZSWyLY5UuLLC\n",
       "RtILyN78IWJ6G6fh4NztfUxT5dHW5uGbXZpndtETh14A9okjfMmcb4OMdiqLEZTy/JnZBPDBgIOj\n",
       "zUZdxygObc4CAvxxalJRYdocXPmMRSeRFWb2HAwlixWWSuN0eU8XnaRYYXhEW7CHnK3o5Y9PM6Wu\n",
       "HBJEiJfxOpqt7J4d6KGANgnBxYnZIXg6M56gfs5fpu9Oa2sIjBPCRrVUB7Z0TRSHE4lE8M7BBT2O\n",
       "ikN0kr76I7HmSuQH9XQmMS3rJ1/qwxRLLdZwc3P5FTTaSDsNhKWRTschlfRMGS7+aL9PClV2T7lc\n",
       "q2QotJqxbPcUo3+xkS0Z2Q9/2Ow8YbOlV3NjyKRUf2PIq3KxkSP2cCdw1YzgTGfxMHiSgpZHVt6S\n",
       "XdbAxVtySaOmPK/oz8AaZMAamX1ZbmeL/4YapNig0tFX+jc0KYz+ARpzD6VtXfOMAAAAAElFTkSu\n",
       "QmCC\n",
       "\" style=\"display:inline;vertical-align:middle;\" /></a><br>"
      ],
      "text/plain": [
       "absPosDef: forall_{a in Complexes} ((|a| = 0) <=> (a = 0))"
      ]
     },
     "execution_count": 8,
     "metadata": {},
     "output_type": "execute_result"
    }
   ],
   "source": [
    "absPosDef = Forall(\n",
    "    a,\n",
    "    Iff(Equals(Abs(a), zero), Equals(a, zero)),\n",
    "    domain=Complexes)"
   ]
  },
  {
   "cell_type": "markdown",
   "metadata": {},
   "source": [
    "<p style=\"font-size:12pt;font-weight:bold\">Evenness</p>"
   ]
  },
  {
   "cell_type": "code",
   "execution_count": 9,
   "metadata": {},
   "outputs": [
    {
     "data": {
      "text/html": [
       "<strong id=\"absEven\"><a class=\"ProveItLink\" href=\"_proofs_/absEven.ipynb\">absEven</a>:</strong> <a class=\"ProveItLink\" href=\"__pv_it/adcab6e63444f5c27012dad23537a5d5e7f582c20/expr.ipynb\"><img src=\"data:image/png;base64,iVBORw0KGgoAAAANSUhEUgAAAJ8AAAAVBAMAAACqHiFtAAAAMFBMVEX///8QEBCIiIhmZma6urrM\n",
       "zMxUVFQiIiJERETc3Nzu7u6qqqp2dnaYmJgyMjIAAAAcRTyBAAAAAXRSTlMAQObYZgAAAfFJREFU\n",
       "OMtjYCAAoogWYF3AQBBwXmA4gi6GU4DHgWEnkHoAYt/FYeAKBtIMZJvAwHAaxH6Fw8CXJBrIBXTe\n",
       "DJDPGrCbx2tAooEMhxgY+IBBybMBu4HsE0g1cCHQFadWrZqOw8fTGUg1kA+If3R01OAwUBlV/yK1\n",
       "KToK2AzkUsp0OgQ2kAcYSKkMDJ04DOxFMZDrAG8R+wOIAM87MDCAGLiG4bpCHdhAXmCsOIPjBgG4\n",
       "e9KToMxqFAN5FvD8YpmAzYWnGM4v8AQbyF0ADHkGpgswN+wxvsAVsYD1DZQvAvEQxDUBXAwcDdjD\n",
       "cAFDBzQMWT8A6QvsMKkbO1cx8M5hYNiDYiAC8CvgipRPSAZyPggD8g6ZqgWwgILEdStQCKuXGRji\n",
       "A2AC0DBMgBrI+hVqIAvQywydKQwMTAvy2B34QNK3buKKFO4F+kB12Fy4i+kDgxY8Uhg2A01lZXjL\n",
       "wLAYJL1rJ0LpYRQD/Tf0M8zF5mWW3xwfgMUIyEDmA7CQYfjJwBDe0dGhMDsUodQdxcBlSotsL2Az\n",
       "kCtJS/kuNGGDAoUXVI6xfmBlYANJMy8CxjbZWW85THA+zwMeBh6Q8Zw2AaAsTn7hAPXOlUOnGBi6\n",
       "Qcw179oCYMKdZBRfyIAJGIYUFbAcEwhXAaroYjgFmAIYgEkOALK0r3L1Ro9fAAAAAElFTkSuQmCC\n",
       "\" style=\"display:inline;vertical-align:middle;\" /></a><br>"
      ],
      "text/plain": [
       "absEven: forall_{x in Complexes} (|-x| = |x|)"
      ]
     },
     "execution_count": 9,
     "metadata": {},
     "output_type": "execute_result"
    }
   ],
   "source": [
    "absEven = Forall(\n",
    "    x,\n",
    "    Equals(Abs(Neg(x)), Abs(x)),\n",
    "    domain = Complexes)"
   ]
  },
  {
   "cell_type": "code",
   "execution_count": 10,
   "metadata": {},
   "outputs": [
    {
     "data": {
      "text/html": [
       "<strong id=\"absElim\"><a class=\"ProveItLink\" href=\"_proofs_/absElim.ipynb\">absElim</a>:</strong> <a class=\"ProveItLink\" href=\"__pv_it/263915f80e14f43346c41659365c01670285f3e80/expr.ipynb\"><img src=\"data:image/png;base64,iVBORw0KGgoAAAANSUhEUgAAAJcAAAAVBAMAAAC5yWGZAAAAMFBMVEX///8QEBCIiIhmZma6urrM\n",
       "zMxUVFQiIiJERETc3Nzu7u6qqqp2dnaYmJgyMjIAAAAcRTyBAAAAAXRSTlMAQObYZgAAAhhJREFU\n",
       "OMudlE9IFFEcx7+MO+7u7NvNgydPg6LEEiSIx0QUlE4uBAYSBP2DiCKiTkp4nFXERQS9SE8Fi6WD\n",
       "4CGUDoPtaVpsDtI/CpaCoEAZgqDy0u+9t7O4zsaT/Q0z7/dm3nzm9/v+3vyAU9tExGnWkj5KoV9q\n",
       "uGKbzopwPmthz6CDtRaA18L5oYV918IsCmtZ5DCtY6V7tTDsAhkOsE0dLF7Qw1bpm16xuKTNcgl6\n",
       "WGYQ+O04U1pYl2Ks9SyesyMwq/P2EOXISIqbQD7yck5cnn/i4XxOwiw3/SBeUbC9Q2Ff5Tq8sx9T\n",
       "jlSBYVmHE/ZWqDhj1QozKWGMs7+xQiQyD2/4RSB1n7SF4R978uLs9S80jNC9Njqq1q4iQ2K6gWYc\n",
       "jhjMgFL147XkX/b5BoNnk38pm2zDo3oYcMZuWICfISxZGQ/vvd8ugmAfRaTm7HHYZJVxNRfClGbf\n",
       "5FPzl7jGKE3kb4gd19+Ti1E5JMwlAe4CATrqC5Di52HwSGQ7RoCsKgC2iGjwe/HBDBSsrxfpO/UF\n",
       "eCVhY5vzWImkGTtKBNQH0OJWdTBxAKxLWMuth0D/ia0xKmEbnWsX/AjMupbtEp0iIyRIy1f+AJcd\n",
       "x7ENtrDf3O/0tOaZgYlWlWbqCrfK5XKpiR9d2RNWYWA5pZnnRlfmT9WClG3s73rArNi0e+76QDPN\n",
       "MVGonxuk2f/bdnfodzdc8QH4B8I/ppkxuYHeAAAAAElFTkSuQmCC\n",
       "\" style=\"display:inline;vertical-align:middle;\" /></a><br>"
      ],
      "text/plain": [
       "absElim: forall_{x in RealsNonNeg} (|x| = x)"
      ]
     },
     "execution_count": 10,
     "metadata": {},
     "output_type": "execute_result"
    }
   ],
   "source": [
    "absElim = Forall(\n",
    "    x,\n",
    "    Equals(Abs(x), x),\n",
    "    domain = RealsNonNeg)"
   ]
  },
  {
   "cell_type": "code",
   "execution_count": 11,
   "metadata": {},
   "outputs": [
    {
     "data": {
      "text/html": [
       "<strong id=\"absNonNegElim\"><a class=\"ProveItLink\" href=\"_proofs_/absNonNegElim.ipynb\">absNonNegElim</a>:</strong> <a class=\"ProveItLink\" href=\"__pv_it/263915f80e14f43346c41659365c01670285f3e80/expr.ipynb\"><img src=\"data:image/png;base64,iVBORw0KGgoAAAANSUhEUgAAAJcAAAAVBAMAAAC5yWGZAAAAMFBMVEX///8QEBCIiIhmZma6urrM\n",
       "zMxUVFQiIiJERETc3Nzu7u6qqqp2dnaYmJgyMjIAAAAcRTyBAAAAAXRSTlMAQObYZgAAAhhJREFU\n",
       "OMudlE9IFFEcx7+MO+7u7NvNgydPg6LEEiSIx0QUlE4uBAYSBP2DiCKiTkp4nFXERQS9SE8Fi6WD\n",
       "4CGUDoPtaVpsDtI/CpaCoEAZgqDy0u+9t7O4zsaT/Q0z7/dm3nzm9/v+3vyAU9tExGnWkj5KoV9q\n",
       "uGKbzopwPmthz6CDtRaA18L5oYV918IsCmtZ5DCtY6V7tTDsAhkOsE0dLF7Qw1bpm16xuKTNcgl6\n",
       "WGYQ+O04U1pYl2Ks9SyesyMwq/P2EOXISIqbQD7yck5cnn/i4XxOwiw3/SBeUbC9Q2Ff5Tq8sx9T\n",
       "jlSBYVmHE/ZWqDhj1QozKWGMs7+xQiQyD2/4RSB1n7SF4R978uLs9S80jNC9Njqq1q4iQ2K6gWYc\n",
       "jhjMgFL147XkX/b5BoNnk38pm2zDo3oYcMZuWICfISxZGQ/vvd8ugmAfRaTm7HHYZJVxNRfClGbf\n",
       "5FPzl7jGKE3kb4gd19+Ti1E5JMwlAe4CATrqC5Di52HwSGQ7RoCsKgC2iGjwe/HBDBSsrxfpO/UF\n",
       "eCVhY5vzWImkGTtKBNQH0OJWdTBxAKxLWMuth0D/ia0xKmEbnWsX/AjMupbtEp0iIyRIy1f+AJcd\n",
       "x7ENtrDf3O/0tOaZgYlWlWbqCrfK5XKpiR9d2RNWYWA5pZnnRlfmT9WClG3s73rArNi0e+76QDPN\n",
       "MVGonxuk2f/bdnfodzdc8QH4B8I/ppkxuYHeAAAAAElFTkSuQmCC\n",
       "\" style=\"display:inline;vertical-align:middle;\" /></a><br>(alternate proof for <a class=\"ProveItLink\" href=\"#absElim\">absElim</a>)<br>"
      ],
      "text/plain": [
       "absNonNegElim: forall_{x in RealsNonNeg} (|x| = x)"
      ]
     },
     "execution_count": 11,
     "metadata": {},
     "output_type": "execute_result"
    }
   ],
   "source": [
    "absNonNegElim = Forall(\n",
    "    x,\n",
    "    Equals(Abs(x), x),\n",
    "    domain = RealsNonNeg)"
   ]
  },
  {
   "cell_type": "code",
   "execution_count": 12,
   "metadata": {},
   "outputs": [
    {
     "data": {
      "text/html": [
       "<strong id=\"absNegElim\"><a class=\"ProveItLink\" href=\"_proofs_/absNegElim.ipynb\">absNegElim</a>:</strong> <a class=\"ProveItLink\" href=\"__pv_it/da6e8ba27f7a0fb96001fb3d0308b557278f42750/expr.ipynb\"><img src=\"data:image/png;base64,iVBORw0KGgoAAAANSUhEUgAAAK8AAAAVBAMAAADC7aNVAAAAMFBMVEX///8QEBCIiIhmZma6urrM\n",
       "zMxUVFQiIiJERETc3Nzu7u6qqqp2dnaYmJgyMjIAAAAcRTyBAAAAAXRSTlMAQObYZgAAAiZJREFU\n",
       "OMutlc1rE0EYxp9uN918TNaLf8DS0lJKoYHFU1GKHsSTOSlIoaBW8CKheBGl5LhFpEGEehHHFqoE\n",
       "kYIHqXgItacV6kILfoCwtFRQUIIgWL10Z9/E/ZhkFNoXnjAzmfnN7PPuvAv8V1yQGocROQ/r7fa6\n",
       "9O+DVH+1JV90PinBT6AA56upgb4a6Y3ofFWCv6jAZi29k0+6L561quIWSyrwpjR/jWRygK2owEZN\n",
       "Bb4hzX9EKrr1+oLSiQUowLmKNN+cIP1ynFtK8ADxFofujVoSWCvF3O2/ejLwgJVI08CcEnwnBOcb\n",
       "xRnDJ/DGdxE7opn1oolP8c6aDTzwSafCHCriZghmnP3Wa9KJjVh6XLzlZ4BChWRAi+2KF8OXtpNr\n",
       "j9KJka128LgnMPNZ+AC74HDEUKZJYp7x16RXtqcxuFYHMHDE6gKO4kccnPPPtcffr9YRgD96edu2\n",
       "x5NWAFPlNpg8/py2Apmf4levkDB3WbzRx4bKusiwADc6JK/Ax6Bx6cTx5L3UmhiJkofnAV3j14wJ\n",
       "EwS2S4m1r0Pw2ZV5UW/SYBbN1f9km0G9Qm+DFHqXwTdgKQT3XrmeXHs6BC/3Lx73ZLAeXZD8xZEB\n",
       "Uc3MMglFLob3gPOO41gau7t1sCv9uKWW780M+siKwiQ/jCJE8ZD5DKxMHrvJ5ImL2R2c7VY2KZa3\n",
       "1lzgtrggG42lEwcp9GKn9G5a4HHnT9Nguz34z0/TB9I+9E+1d87MX7YAAAAASUVORK5CYII=\n",
       "\" style=\"display:inline;vertical-align:middle;\" /></a><br>"
      ],
      "text/plain": [
       "absNegElim: forall_{x in RealsNeg} (|x| = (-x))"
      ]
     },
     "execution_count": 12,
     "metadata": {},
     "output_type": "execute_result"
    }
   ],
   "source": [
    "absNegElim = Forall(\n",
    "    x,\n",
    "    Equals(Abs(x), Neg(x)),\n",
    "    domain = RealsNeg)"
   ]
  },
  {
   "cell_type": "code",
   "execution_count": 13,
   "metadata": {},
   "outputs": [
    {
     "data": {
      "text/html": [
       "<strong id=\"absIneq\"><a class=\"ProveItLink\" href=\"_proofs_/absIneq.ipynb\">absIneq</a>:</strong> <a class=\"ProveItLink\" href=\"__pv_it/3802cb4bc73252dd80caac9de94ab7c9a71c0bcf0/expr.ipynb\"><img src=\"data:image/png;base64,iVBORw0KGgoAAAANSUhEUgAAAdQAAAAXBAMAAABAAqPxAAAAMFBMVEX///8QEBCIiIhmZma6urrM\n",
       "zMxUVFQiIiJERETc3Nzu7u6qqqp2dnaYmJgyMjIAAAAcRTyBAAAAAXRSTlMAQObYZgAABa1JREFU\n",
       "WMPdWG9oHEUUf7m7zd5t9pIoftIva0LTUNQGQ6uijWf8UPyguU8aRGiIRimUcIaGVk1LCG3ctFhP\n",
       "I60o1TWVVGNND4qVisiRnKjXogctVMXKYVOl9Q+hWLARwZl5b3dmL7tJyvnFDvzudt+892Z+s2/e\n",
       "vlmA/7Q9vuji+muJkkDBvS8EKdVlA20PKlheO0B+MHxeJwjcqMwF56qm+h5iaaqwOUhoDEssrx0g\n",
       "X2SotNosghud5IJLVVO9iAiiujrtXU4HmdZnJXxN1VacePKs4sDXIoNyGcoIbvQ6j77hapkm2xCL\n",
       "qRpfWFLNtAJsTyvwNantc+LJzysO1HZkQLmZITCjeof95aqlqmcRi6gm7iqpodZIF2ydtR66fk6B\n",
       "PzAbA524cu1FRzpQ2vgO9e4dAjNKFqemDlQdvwcIlVQT/f5VnKMI41PfTSoZiYo2F+yE5LWdludA\n",
       "aft/9W+PFIIb/WXbQ1VTbSYwhhMtr91mEVVtX8p9Es0WvOLALN51iy2HDyXSJuG2iTshcTOQtnRC\n",
       "vkk+DRnPgdG0uXMGXc/5RzRZLwc36gMYWxmfWKUgMpOnq5cIBTDyyQG9TFRtL5mYsUZYC/AjTv6G\n",
       "baw9i8kwXpJwW/4BiMy72tIJ+Sb5SUypwvAInLV2ipvdFSMmywhu9CBmKLd93PrkT/7X2MBoB0ZK\n",
       "XJLGfP8DHCfBC4QCmI65EMsS1dVrXIs3o2WwmXdx04LPs1vEpZ6TcPdmrgPiw662dEK+SZ6Bt8B1\n",
       "UIRvnIfE6g84/hHrMghupOPOEav2aXspYkJRprsPZjeAlTcnKqjCeB//3QoN5PgmAnuqYpLuXj1b\n",
       "JAOnxoLLAJv49WE3IW3nPzUpiek/eLtgwI3QYJG24oR8ozxpQW3adeBwVvguGHJ8I2rzCG5klnSX\n",
       "wLcnpoBR/d4LpeTeNxxGNflhJVUYZ4FiXIGaXCVVEJP08tNn99BFl6NdoUkmtqBoMl9J1YuaBdiU\n",
       "9qhKJ+gb5bpDSRwNL3tReD6rjqhSTZQf5a+edS3pGN+9nCqfQmcPPM+CmzVG9YhCVXSw3bELtKug\n",
       "lyoDGMQkZSp+pA//OyDC3hEbcQV3iqc3CCEBDCz2bgVXW3GCvlF+jAoXNOSs3HX6Oa2MGMsghNHY\n",
       "U4yg06+n6gGptnPK+QWtEatGKx9tV6iKDs71krYAulWZluqctcybUi117xJ/oxDvcRMKvvSns6Fp\n",
       "iamOgqftOSHfKL9IdIXhJyyLeVtas1NyRDUtwTHGWYPfAQ4JqtGnt/IgezcTGTZE/rfWP5OSVEUH\n",
       "v7ijxJ5qDVGdJRSgK/cyL7+VwnC/WOT10MWmdB9VptzhvZRr2iS8p9oT+wc8bc8J+RZybRiDWBjG\n",
       "/o7PJ+RSJfrkiNE8Qhhh/F8FeMy2bStivnpGjJavtbTttj0C1le3K1RFB9unrTm+Vxtog20kFGCy\n",
       "aWJDKaDcn2y6nz3FC7IydatRN8JiSiVg9Daz+bjaig/hW8jFakUsdGD0rmk+FzxifRohjJJ8abR5\n",
       "DWoxgOue4AI9VZOGHgzgj4oKVdFhfJnyZeDQwlBpHYxCRlbqhrNUYRgtK9qVBWPGe8mnIaiiVEaE\n",
       "wwTP2dtm2QQzjXu1mE/sAT3dBfA5UjXVtMQ7jLtTWCMdX7bcdw9TZePPlZf7/XA0FaIdcGg4HXx8\n",
       "EyOq5T497DMz7Mnt5W/ar/OHOrRbINa7j5Fjya1u6DejvSyp8g4Nc1zklLe/xhB+qsYvvCraxpX1\n",
       "UtwKOcTFsxLUdsCId1hTnIQcBRVDmBbKg96I6iHOV+ixvUovJ3hfZNRWe0RxKX6x41qP5rGmdRBS\n",
       "gQYczTub0xBer46t6GiOI3prOBb+nWJLrLxo+cVvQIf84LLKvV8VeKq9pg8uIdoB8iU+uHxHCHMG\n",
       "UIKHT0EwVd5Rx3K1vef6/VIG0f/39P8F9qzXmq7KpegAAAAASUVORK5CYII=\n",
       "\" style=\"display:inline;vertical-align:middle;\" /></a><br>"
      ],
      "text/plain": [
       "absIneq: forall_{x in Reals, y in Reals | y >= 0} ((|x| <= y) <=> (((-y) <= x) and (x <= y)))"
      ]
     },
     "execution_count": 13,
     "metadata": {},
     "output_type": "execute_result"
    }
   ],
   "source": [
    "absIneq = Forall(\n",
    "    (x, y),\n",
    "    Iff(LessEq(Abs(x), y),\n",
    "        And(LessEq(Neg(y), x), LessEq(x, y))),\n",
    "    domain = Reals,\n",
    "    conditions = [GreaterEq(y, zero)])"
   ]
  },
  {
   "cell_type": "markdown",
   "metadata": {},
   "source": [
    "<p style=\"font-size:12pt;font-weight:bold\">Triangle Inequality</p>"
   ]
  },
  {
   "cell_type": "code",
   "execution_count": 14,
   "metadata": {},
   "outputs": [
    {
     "data": {
      "text/html": [
       "<strong id=\"triangleInequality\"><a class=\"ProveItLink\" href=\"_proofs_/triangleInequality.ipynb\">triangleInequality</a>:</strong> <a class=\"ProveItLink\" href=\"__pv_it/d645f69569ba5c9cb2b3733e973ff2f36fd1300d0/expr.ipynb\"><img src=\"data:image/png;base64,iVBORw0KGgoAAAANSUhEUgAAAQ8AAAAWBAMAAAAsrwTqAAAAMFBMVEX///8QEBCIiIhmZma6urrM\n",
       "zMxUVFQiIiJERETc3Nzu7u6qqqp2dnaYmJgyMjIAAAAcRTyBAAAAAXRSTlMAQObYZgAAA3RJREFU\n",
       "SMe9lk1oE0EUx1+TbPO1m148WZTQWvUYKnjQFiMiPWn3Yi0VbCkWwYPEQqvYCrGgbFuFBaEV9bBa\n",
       "xJKqCZWCkYKhHwp+sUdbUAJq/WTpUXIQ52Nns5vsbtaLA49t3/zfzC8zb94MwL+2HqcOTnFxVnb2\n",
       "uMR4aWEVVpz6+KSNmjkrO1cMdx59sBXx/x+8gsyCLUjkcsoOZBZcQFhMvQzEXmP3D68g3+1BIJaw\n",
       "zOUbYmqXFdFjImgpsN3ES5j2yCEkKkDm9W9DzjzXw0FDXQkSjRsgLGYJiMVQuvA5jyBB2QGkUzGB\n",
       "3LhUVruAsJi7QEx4lclMe92ZaXAAeWmaa+qnSe0CwmJiuv2WpFGvIM10iHBb61YryEbTfjZX92ez\n",
       "GjmJ2gaExfAJagMA4zZzHi3aOK/TIQ7KsU0LSOSPkpXpXKErFjVyEnU1iBEjFKkdIjlbbtFrp/uB\n",
       "MtL29MWwHg0jdIht4E9bQKIlaIjTuXyDRo0aISBUXQ1ixERT1ILgU1k5WNyjRroV7hc+kDiB55bb\n",
       "4f4EnCzogi1kCH8Jgni8d5p2TtM20F/+ImQL+lzCqGJS80mqJp28pn3drml9dBQWw21S49Ug+wnv\n",
       "8xkQ7gAs4gOJUl6YvKXAWgGiVpC6NGRFy4qgktCZM370J9kMQtXVK2LEMJBwsQt1zOz8AgG8G4cX\n",
       "kAt9e5vOoF0DCJxAc8qWrckW4Ln11DSocEAxjm9gQzRtDVVXgxgxgRQ1GD+FNmWIK0EMK9bXqHKX\n",
       "0kzKv/BIrkzWbA7ORmULCM6EckHjpGQ5WanaBoTFsGSFJ4jGn+BSMIMVz/JUOQYfI3iFonMmkGUy\n",
       "RCguDPOWFalXQwlzFQ8PMDWfpOpqECPGX6CGchegLufrg+OSJMVvH2MbvJe7IElj4QWxDNJBT01/\n",
       "y9QO6/FtfWtz6XXQU0PUNseXxcREaiCgLM/KoXWlHiv899C46FuCRsDpDftQqFKrxNs+A2qUeOZ+\n",
       "ANRIq5N7jwCPscJtIiyFJ+CikIZVcnOsAh93uvQybiB2l15EqQLRLz090fvn2wEmydWpXRW5Ruh6\n",
       "g6okriWRd98GjLHHodbD6PF53IaYuvbDiD0DzM2HckRfQfrZLY15ehg5vNBmvYCE0AaGZKdB885P\n",
       "xRanGJ9oo2bOys4Ww43LxZrjNavC/25/AXHfI8bQxrLiAAAAAElFTkSuQmCC\n",
       "\" style=\"display:inline;vertical-align:middle;\" /></a><br>"
      ],
      "text/plain": [
       "triangleInequality: forall_{a in Complexes, b in Complexes} (|a + b| <= (|a| + |b|))"
      ]
     },
     "execution_count": 14,
     "metadata": {},
     "output_type": "execute_result"
    }
   ],
   "source": [
    "triangleInequality = Forall(\n",
    "    (a, b),\n",
    "    LessEq(Abs(Add(a,b)), Add(Abs(a), Abs(b))),\n",
    "    domain=Complexes)"
   ]
  },
  {
   "cell_type": "markdown",
   "metadata": {},
   "source": [
    "<p style=\"font-size:12pt;font-weight:bold\">Multiplicativity (and Preservation of Division)</p>"
   ]
  },
  {
   "cell_type": "code",
   "execution_count": 15,
   "metadata": {},
   "outputs": [
    {
     "data": {
      "text/html": [
       "<strong id=\"absProd\"><a class=\"ProveItLink\" href=\"_proofs_/absProd.ipynb\">absProd</a>:</strong> <a class=\"ProveItLink\" href=\"__pv_it/e6f248748742dffc3f5ba2c1f28c67e0130af4d40/expr.ipynb\"><img src=\"data:image/png;base64,iVBORw0KGgoAAAANSUhEUgAAAdoAAAAWBAMAAACVl0DnAAAAMFBMVEX///8QEBCIiIhmZma6urrM\n",
       "zMxUVFQiIiJERETc3Nzu7u6qqqp2dnaYmJgyMjIAAAAcRTyBAAAAAXRSTlMAQObYZgAABDhJREFU\n",
       "WMPVWFloE0EY/k2zptnsWh/0QUGILR6IR6GILy1ERUV8cC14IIKhKKIPUrQUUZHig6QeGERQPHCp\n",
       "UKReQQkeVCjN+lIRF1rxQCUP+qCoFEXxAHGObTK7M7uTxAj6wz/5M/P9/8y3M//szAL8VdlYgY9i\n",
       "ygIJEX6tZQ5h/psKqUZtsCpw0xKyQDwioNWCWBqIvuqAPK55GeRtlYARyiWoEltvoDLZwnagasED\n",
       "XPMumK0cI5S31WL79g/ZXgOqFpzGK6UrmK0cIxK9sUpsuUDlstXiVC2YgHJaywSzlWNEEklXiS0X\n",
       "qFy26kSqFuhDfX2nIJitHCOSU1AltlygctnCa6rI/JZK7Rf4DLBwH0ywNFDfnpkn58alYAbFceEC\n",
       "Sdmq9duXDDJsc1SRuRWgW+DTyLL1wQTLMeKrDui7InlQgtPeQRW5aB+JNAoDSdlegSfxAwzbV1SR\n",
       "uRTUvIytD0YgsaPb2hxzH/HVTO1HOK00tZM6wbFAJSMkKJ+55QJRhG+sBAzBI3Mlw/YWVWRGIGSz\n",
       "J5HdFkxPeth6MD7z099kqxtM5b3zfxKdEqjF0xombNVfvNv1PBlmbZdvVnKBCMI3Fmo1IeXK281U\n",
       "8fZsRwotl3MtcFsza8xc0+6mDLOFMxhfeXqnD/RzAP2uQQLUxQtsoVOwdSfJT11cwpYJRBF+sUjr\n",
       "Jx+20fy6wovtyBkT7sUbNe9KppjBhTMNroNCZRh7LMsisGsBom6MIlt/wSi9pbXBnbdJYSD5nqx8\n",
       "Qcbw43rnTb2CKja7t4z1sxSDs9kTHFuCCZk7IwnY4Q5NK7FMwMXzZ95dKmYuQCAZW4rSF9vj0jwX\n",
       "LpCU7d3QKMyBkWkwxbtLwU3kT/shO1FWu7qJY4sxCnwA2DTVc+HAlUQu4uLunWJTjviuzhyH8665\n",
       "JQlHiuuFrY+izsyCOpPnwgUqIgphmCzWEuGftaNRO9rTDj/o8JupjqUD6UclDLMwkOPY0qz6jnSv\n",
       "91F+d37Xp1Kp+Nm1xYYVxLe3vqfFdq/kzrHCSVkkDqoNFgtmjgvEIAphOhm2atucBnSJGR8PT6TD\n",
       "f0MVmzreynE/yp5U6iBiex5vSYaLLcEoowrPFlcO33uBYuN/NT3Oa8B74JPmLZHJ0KxITo6l5S2R\n",
       "cUbNgEFOju1ULVc/STq34Vbu6IXlgpbXCNvTZvTwWEEqb3Sh56Ph5xNtNmBQdJiPlcI2OgodWcmt\n",
       "IFY62wsQWWW4bwVsP/exOQLwQsi2d2RwiLBdk1GmwJo0LjKkcryxAbUfwaArHw8VVkU3E3/RV/np\n",
       "EcJJmGsLuHgDlch2OYQeem58bD+16BUbPpCgi5JjSwWv5OJ1iFoRmId6CKG8/Tdv8930iXlHMxvl\n",
       "LSez2C81rZ8z5KuHs6yo1Qv9tvhLzYwK2IYMWSAeEdA6A3Q0SqzzOyr53qQLrP9DfgPEtY50Pqya\n",
       "owAAAABJRU5ErkJggg==\n",
       "\" style=\"display:inline;vertical-align:middle;\" /></a><br>"
      ],
      "text/plain": [
       "absProd: forall_{n in NaturalsPos} [forall_{x_{1}, ..x_{_a}.., x_{n} in Complexes} (|x_{1} * ..x_{_a}.. * x_{n}| = (|x_{1}| * ..|x_{i}|.. * |x_{n}|))]"
      ]
     },
     "execution_count": 15,
     "metadata": {},
     "output_type": "execute_result"
    }
   ],
   "source": [
    "absProd = Forall(\n",
    "    n,\n",
    "    Forall(x_1_to_n,\n",
    "           Equals(Abs(Mult(x_1_to_n)), \n",
    "                  Mult(ExprRange(i, Abs(IndexedVar(x, i)), one, n))),\n",
    "           domain = Complexes),\n",
    "    domain = NaturalsPos)"
   ]
  },
  {
   "cell_type": "code",
   "execution_count": 16,
   "metadata": {},
   "outputs": [
    {
     "data": {
      "text/html": [
       "<strong id=\"absFrac\"><a class=\"ProveItLink\" href=\"_proofs_/absFrac.ipynb\">absFrac</a>:</strong> <a class=\"ProveItLink\" href=\"__pv_it/8858b7995b84c932288bfa46755de03a56d6477b0/expr.ipynb\"><img src=\"data:image/png;base64,iVBORw0KGgoAAAANSUhEUgAAAPUAAAAyCAMAAACzgm1bAAAAQlBMVEX///8GBgYMDAxRUVEoKCgU\n",
       "FBQNDQ0QEBCIiIhmZma6urrMzMxUVFQiIiJERETc3Nzu7u6qqqp2dnaYmJgyMjIAAAA2Mj06AAAA\n",
       "AXRSTlMAQObYZgAABHlJREFUaN7NmouWmyAQhmm3LSB3kPd/1QIKckuUTdzAOZuzMTMJnwP/DCAA\n",
       "8zW9vOZPZPeCpGDipvW779p+YVnnhUYU3EQNzLTYCoLbqAHXc0JLuNxI/Y5vv6NxnCSor1QvUb9j\n",
       "JN0xvm3S337/4GvUgM04xhlu+QTWGEE5TH34ZdTKiumgTdanyLdAd221w7HO/PLgZ/d1mlDzZixL\n",
       "aNwr5qPUuV9ObaycDJrYpaHGoZcMjVLnfjm1tGgyagxb3YI8dJWMUud+hbyts5UqkDbU0uqgQaMa\n",
       "XvgV1GgyPSPWdKiVe6UrUGKQOvMrqEXxKxNU4EUUdj7upqFhFOjBEZ77lQkczrX24rBTj0iKEBEU\n",
       "LaManvmV1Jy5yX1o+qcjD/l5FfZqbebfucmuVRK3DycyafGPUBsn7CLeYME/LmZFJv3qGn29Th1+\n",
       "J4b4CPrHVh7qR2IdxpTR0jfBPl+Ek/dQI/L8gvUibrlvn1+CVeXD96nPmvVzmYY7wT9esehyXXBK\n",
       "rdesjaykoM9bi/eQV6vT5Uoduzy2D2RIo3Zo4UHq72fIMJn9C3qSrBXXlNEosBqfGPiBk4ewsMd+\n",
       "YBmHrJoKidoOnz3aRWrbb/l6NnyJNht5lT6Vxth9Igl3MSBrDM6qTgwq6jVXZhFYmR8LzTq3S31H\n",
       "rDdqsQLS3HnDlZC+Y0YEHBWhouY8NKioC43y92df/0H14ggv5vVIbc22EHNB95koMaIriZM9zEui\n",
       "Nt0XKccjKp8YVNTRfrPV2yVvykyjZj+k4XBTGoX3AS4ZcX3yfUwSZKQpOoOYBAg/Maiod3sa0uM/\n",
       "92f2X2CoyVzkXdTlSVd97hUXXbEWxA6HsBDzpFRSFVBhBbc+Maiod/uNS4Ej1hA1VcryLupquVHV\n",
       "arHeN3HfVe3nTISF2LguC0XKELivwPSJQUW924eRxGNJ6B3s0lSkxZXfUTQ5ZO3VC/sKya+i3rZZ\n",
       "8vcuCNx4jTrUAUt0JNpNev3NeWhQUe/21CnO3z9ed8wjDS+3UsCvIwvg3tXzWEe/iprU+4VQ+H1K\n",
       "/+M6xU/g8L92UfUK7Kap4Q8MetTRPmatMNJxL1+DRyvNfFUyMsKjX0VdrXKcxlKkEA63nKePpEsR\n",
       "3JetxMeY0P18uWPQ1fBov2WtHVt3ah3A1i71ko+KAerkV1HrZ9uFaJu25W06M+jk6+R7urzBtkut\n",
       "2ffULPlV1FU1dL4CvrpC6VGfl+/lsUTiWylCWI1TJ7+KGg5un1zeWOt8rznftCDFhINJYle56ewY\n",
       "9eFXUovbDj++eYLWOQWIh7uxq9epD7+SerZTgHJiRz685jn2OvXh124MT9WWzunelnWXOPivUx9+\n",
       "JfV0p3vF4XLkC7VLWo9dpz78qmOu2U5yCxVP1Es8jB6kTn4FNZzwWTuoG2pq8md0rlMffjn1jE9o\n",
       "5E/jRFC35NdmMDuEzJX8cup1vgc03tarhytNBeWM1AKSG6lnfcoOKHYjNcVg0obpbdSGg2kbfb2M\n",
       "KA+24ruZn5R20b5n8sm0VQv+A9olRdxbmemyAAAAAElFTkSuQmCC\n",
       "\" style=\"display:inline;vertical-align:middle;\" /></a><br>"
      ],
      "text/plain": [
       "absFrac: forall_{a in Complexes, b in Complexes | b != 0} (|a / b| = (|a| / |b|))"
      ]
     },
     "execution_count": 16,
     "metadata": {},
     "output_type": "execute_result"
    }
   ],
   "source": [
    "absFrac = Forall(\n",
    "    (a, b),\n",
    "    Equals(Abs(frac(a, b)), frac(Abs(a), Abs(b))),\n",
    "    domain = Complexes,\n",
    "    conditions=[NotEquals(b, zero)])"
   ]
  },
  {
   "cell_type": "code",
   "execution_count": 17,
   "metadata": {},
   "outputs": [
    {
     "name": "stdout",
     "output_type": "stream",
     "text": [
      "Theorems may be imported from autogenerated _theorems_.py\n"
     ]
    }
   ],
   "source": [
    "%end theorems"
   ]
  },
  {
   "cell_type": "code",
   "execution_count": null,
   "metadata": {},
   "outputs": [],
   "source": []
  }
 ],
 "metadata": {
  "kernelspec": {
   "display_name": "Python 3",
   "language": "python",
   "name": "python3"
  }
 },
 "nbformat": 4,
 "nbformat_minor": 0
}
