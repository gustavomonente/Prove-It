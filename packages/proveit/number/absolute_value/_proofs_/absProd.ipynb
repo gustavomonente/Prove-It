{
 "cells": [
  {
   "cell_type": "markdown",
   "metadata": {},
   "source": [
    "Proof of <a class=\"ProveItLink\" href=\"../../../_context_.ipynb\">proveit</a>.<a class=\"ProveItLink\" href=\"../../_context_.ipynb\">number</a>.<a class=\"ProveItLink\" href=\"../_context_.ipynb\">absolute_value</a>.<a class=\"ProveItLink\" href=\"../_theorems_.ipynb#absProd\">absProd</a> theorem\n",
    "========"
   ]
  },
  {
   "cell_type": "code",
   "execution_count": 1,
   "metadata": {},
   "outputs": [],
   "source": [
    "import proveit\n",
    "context = proveit.Context('..') # the theorem's context is in the parent directory"
   ]
  },
  {
   "cell_type": "code",
   "execution_count": 2,
   "metadata": {},
   "outputs": [
    {
     "name": "stdout",
     "output_type": "stream",
     "text": [
      "Beginning proof of absProd\n",
      "Recorded 'presuming' information\n",
      "Presuming previous theorems (applied transitively).\n"
     ]
    },
    {
     "data": {
      "text/html": [
       "<strong id=\"absProd\">absProd:</strong> <a class=\"ProveItLink\" href=\"../__pv_it/85ca62dc9aa8011507308239f321c04c24f52d120/expr.ipynb\"><img src=\"data:image/png;base64,iVBORw0KGgoAAAANSUhEUgAAAdoAAAAWBAMAAACVl0DnAAAAMFBMVEX///8QEBCIiIhmZma6urrM\n",
       "zMxUVFQiIiJERETc3Nzu7u6qqqp2dnaYmJgyMjIAAAAcRTyBAAAAAXRSTlMAQObYZgAABDhJREFU\n",
       "WMPVWFloE0EY/k2zptnsWh/0QUGILR6IR6GILy1ERUV8cC14IIKhKKIPUrQUUZHig6QeGERQPHCp\n",
       "UKReQQkeVCjN+lIRF1rxQCUP+qCoFEXxAHGObTK7M7uTxAj6wz/5M/P9/8y3M//szAL8VdlYgY9i\n",
       "ygIJEX6tZQ5h/psKqUZtsCpw0xKyQDwioNWCWBqIvuqAPK55GeRtlYARyiWoEltvoDLZwnagasED\n",
       "XPMumK0cI5S31WL79g/ZXgOqFpzGK6UrmK0cIxK9sUpsuUDlstXiVC2YgHJaywSzlWNEEklXiS0X\n",
       "qFy26kSqFuhDfX2nIJitHCOSU1AltlygctnCa6rI/JZK7Rf4DLBwH0ywNFDfnpkn58alYAbFceEC\n",
       "Sdmq9duXDDJsc1SRuRWgW+DTyLL1wQTLMeKrDui7InlQgtPeQRW5aB+JNAoDSdlegSfxAwzbV1SR\n",
       "uRTUvIytD0YgsaPb2hxzH/HVTO1HOK00tZM6wbFAJSMkKJ+55QJRhG+sBAzBI3Mlw/YWVWRGIGSz\n",
       "J5HdFkxPeth6MD7z099kqxtM5b3zfxKdEqjF0xombNVfvNv1PBlmbZdvVnKBCMI3Fmo1IeXK281U\n",
       "8fZsRwotl3MtcFsza8xc0+6mDLOFMxhfeXqnD/RzAP2uQQLUxQtsoVOwdSfJT11cwpYJRBF+sUjr\n",
       "Jx+20fy6wovtyBkT7sUbNe9KppjBhTMNroNCZRh7LMsisGsBom6MIlt/wSi9pbXBnbdJYSD5nqx8\n",
       "Qcbw43rnTb2CKja7t4z1sxSDs9kTHFuCCZk7IwnY4Q5NK7FMwMXzZ95dKmYuQCAZW4rSF9vj0jwX\n",
       "LpCU7d3QKMyBkWkwxbtLwU3kT/shO1FWu7qJY4sxCnwA2DTVc+HAlUQu4uLunWJTjviuzhyH8665\n",
       "JQlHiuuFrY+izsyCOpPnwgUqIgphmCzWEuGftaNRO9rTDj/o8JupjqUD6UclDLMwkOPY0qz6jnSv\n",
       "91F+d37Xp1Kp+Nm1xYYVxLe3vqfFdq/kzrHCSVkkDqoNFgtmjgvEIAphOhm2atucBnSJGR8PT6TD\n",
       "f0MVmzreynE/yp5U6iBiex5vSYaLLcEoowrPFlcO33uBYuN/NT3Oa8B74JPmLZHJ0KxITo6l5S2R\n",
       "cUbNgEFOju1ULVc/STq34Vbu6IXlgpbXCNvTZvTwWEEqb3Sh56Ph5xNtNmBQdJiPlcI2OgodWcmt\n",
       "IFY62wsQWWW4bwVsP/exOQLwQsi2d2RwiLBdk1GmwJo0LjKkcryxAbUfwaArHw8VVkU3E3/RV/np\n",
       "EcJJmGsLuHgDlch2OYQeem58bD+16BUbPpCgi5JjSwWv5OJ1iFoRmId6CKG8/Tdv8930iXlHMxvl\n",
       "LSez2C81rZ8z5KuHs6yo1Qv9tvhLzYwK2IYMWSAeEdA6A3Q0SqzzOyr53qQLrP9DfgPEtY50Pqya\n",
       "owAAAABJRU5ErkJggg==\n",
       "\" style=\"display:inline;vertical-align:middle;\" /></a><br>(see <a class=\"ProveItLink\" href=\"../__pv_it/85ca62dc9aa8011507308239f321c04c24f52d120/dependencies.ipynb\">dependencies</a>)<br>"
      ],
      "text/plain": [
       "absProd: forall_{n in NaturalsPos} [forall_{x_{1}, ..x_{_a}.., x_{n} in Complexes} (|x_{1} * ..x_{_a}.. * x_{n}| = (|x_{1}| * ..|x_{i}|.. * |x_{n}|))]"
      ]
     },
     "execution_count": 2,
     "metadata": {},
     "output_type": "execute_result"
    }
   ],
   "source": [
    "%proving absProd presuming []"
   ]
  },
  {
   "cell_type": "code",
   "execution_count": null,
   "metadata": {},
   "outputs": [],
   "source": []
  }
 ],
 "metadata": {
  "kernelspec": {
   "display_name": "Python 3",
   "language": "python",
   "name": "python3"
  }
 },
 "nbformat": 4,
 "nbformat_minor": 0
}
