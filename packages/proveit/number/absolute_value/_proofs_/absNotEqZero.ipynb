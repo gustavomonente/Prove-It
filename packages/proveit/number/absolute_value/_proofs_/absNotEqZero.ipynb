{
 "cells": [
  {
   "cell_type": "markdown",
   "metadata": {},
   "source": [
    "Proof of <a class=\"ProveItLink\" href=\"../../../_context_.ipynb\">proveit</a>.<a class=\"ProveItLink\" href=\"../../_context_.ipynb\">number</a>.<a class=\"ProveItLink\" href=\"../_context_.ipynb\">absolute_value</a>.<a class=\"ProveItLink\" href=\"../_theorems_.ipynb#absNotEqZero\">absNotEqZero</a> theorem\n",
    "========"
   ]
  },
  {
   "cell_type": "code",
   "execution_count": 1,
   "metadata": {},
   "outputs": [],
   "source": [
    "import proveit\n",
    "context = proveit.Context('..') # the theorem's context is in the parent directory"
   ]
  },
  {
   "cell_type": "code",
   "execution_count": 2,
   "metadata": {},
   "outputs": [
    {
     "name": "stdout",
     "output_type": "stream",
     "text": [
      "Beginning proof of absNotEqZero\n",
      "Recorded 'presuming' information\n",
      "Presuming previous theorems (applied transitively).\n"
     ]
    },
    {
     "data": {
      "text/html": [
       "<strong id=\"absNotEqZero\">absNotEqZero:</strong> <a class=\"ProveItLink\" href=\"../__pv_it/96822ecb73de447d44c67698484b99aa391363440/expr.ipynb\"><img src=\"data:image/png;base64,iVBORw0KGgoAAAANSUhEUgAAALEAAAAXCAMAAABzsl4EAAAAPFBMVEX///8kJCQoKCgUFBQNDQ0Q\n",
       "EBCIiIhmZma6urrMzMxUVFQiIiJERETc3Nzu7u6qqqp2dnaYmJgyMjIAAAChkoCbAAAAAXRSTlMA\n",
       "QObYZgAAAqVJREFUSMfNl4uSniAMhW27cifc3v9dC+EiIvrTdmzLzDqrK/Jxckiy2/a3B4fn+/9q\n",
       "aBcvlp0fjvfl6WwfRqerb/fOvQwMalsl1v70CnGWp19EQramPvdvh8frZWLRP/QREWSaDGkjWtVt\n",
       "qZeBHd1WiU8sbsfXfFa7k/YQ+6WBKq0RC97dKIEeDokTEr2zkIaWbx87ua0Sn8MdkJgFVNSnt4NK\n",
       "Q9qXiQntCTW1lOwwJ1a9xBBoJiY4m7YQKL28NntMCEhnyUUA5TpitsflfBg0th7H9690pVXwgJ/i\n",
       "mdglOzNaT+HNMMoKKcix9gMw5Wi0OEmMNjYHMewJn6q5K04SR2KaiRHcoLfShVySMRhLaXwKXEXd\n",
       "uLcrxBo5JZptSJY7O4gp/lGSKTE/7/XsCp7j4jL1ORcpoyF91+m8uSVihQc6JJF2c0+8q/balXj0\n",
       "Zyi5whzEscDUfQElwvNqFdwbNzlIekrcJuSXi+XSu9LdugIwwiZsMx9/27Obm9IK13M5ZkyWXZUa\n",
       "A5LH9aAv3g7ceCY74jZBYML5ij+ufEGS25MHqJfw2CiMGvtxub6C5JMXd0uLKWhUlkuUrh07MA/E\n",
       "bUJOYFnGrPE+ENsuu6n4NyfFZq+uaME9Rwf2HEhazBnK15P3SAoHl6hZ/LI2nN8TtwlHp1MNGgbt\n",
       "WFdBQBDCtSDsSjzpbsASUqtgdaCDspRO0UsH7jivFMiRaAfiY4KIzvvxPfnP3eSKtSpt6HP7N2aI\n",
       "mNd5YNjFNmFjdeK1B7lq3CbUzFbL2yUfr3VCHxpIS8ZqJoghFAGUOYLivep7EzWdkDNbQbZ2opX6\n",
       "3G2a517hqc7FVbOPZ0l3Xhk/NiYLHf0HiX+hlVgg9ov/NZHhIJ/u2XOH/ZvAc2L3dnv9J4P+09V/\n",
       "AgkLIbCsBuk+AAAAAElFTkSuQmCC\n",
       "\" style=\"display:inline;vertical-align:middle;\" /></a><br>(see <a class=\"ProveItLink\" href=\"../__pv_it/96822ecb73de447d44c67698484b99aa391363440/dependencies.ipynb\">dependencies</a>)<br>"
      ],
      "text/plain": [
       "absNotEqZero: forall_{a in Complexes | a != 0} (|a| != 0)"
      ]
     },
     "execution_count": 2,
     "metadata": {},
     "output_type": "execute_result"
    }
   ],
   "source": [
    "%proving absNotEqZero presuming []"
   ]
  },
  {
   "cell_type": "code",
   "execution_count": null,
   "metadata": {},
   "outputs": [],
   "source": []
  }
 ],
 "metadata": {
  "kernelspec": {
   "display_name": "Python 3",
   "language": "python",
   "name": "python3"
  }
 },
 "nbformat": 4,
 "nbformat_minor": 0
}
