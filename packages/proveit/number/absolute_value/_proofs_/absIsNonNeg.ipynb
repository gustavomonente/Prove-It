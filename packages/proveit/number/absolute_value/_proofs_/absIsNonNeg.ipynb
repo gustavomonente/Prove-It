{
 "cells": [
  {
   "cell_type": "markdown",
   "metadata": {},
   "source": [
    "Proof of <a class=\"ProveItLink\" href=\"../../../_context_.ipynb\">proveit</a>.<a class=\"ProveItLink\" href=\"../../_context_.ipynb\">number</a>.<a class=\"ProveItLink\" href=\"../_context_.ipynb\">absolute_value</a>.<a class=\"ProveItLink\" href=\"../_theorems_.ipynb#absIsNonNeg\">absIsNonNeg</a> theorem\n",
    "========"
   ]
  },
  {
   "cell_type": "code",
   "execution_count": 1,
   "metadata": {},
   "outputs": [],
   "source": [
    "import proveit\n",
    "context = proveit.Context('..') # the theorem's context is in the parent directory"
   ]
  },
  {
   "cell_type": "code",
   "execution_count": 2,
   "metadata": {},
   "outputs": [
    {
     "name": "stdout",
     "output_type": "stream",
     "text": [
      "Beginning proof of absIsNonNeg\n",
      "Recorded 'presuming' information\n",
      "Presuming previous theorems (applied transitively).\n"
     ]
    },
    {
     "data": {
      "text/html": [
       "<strong id=\"absIsNonNeg\">absIsNonNeg:</strong> <a class=\"ProveItLink\" href=\"../__pv_it/532ec41068ddbef2c8c9c21251b456ad2c320fef0/expr.ipynb\"><img src=\"data:image/png;base64,iVBORw0KGgoAAAANSUhEUgAAAH8AAAAVBAMAAACd/CwcAAAAMFBMVEX///8QEBCIiIhmZma6urrM\n",
       "zMxUVFQiIiJERETc3Nzu7u6qqqp2dnaYmJgyMjIAAAAcRTyBAAAAAXRSTlMAQObYZgAAAiVJREFU\n",
       "OMudlE9IFFEcx7+OM7vO25ntFNRtC/IseLBD4UJ4jObS38vKUngLUUQEAwmRETsMCBlU8EwoWIKG\n",
       "osOG4GKdCmSiQyWFe1FBpYQowjz0e/Nv15mnhQ8Gfr/5vfd5v9/3/d4DDh4aD41rOMx4CKMYmm9k\n",
       "8Sp9dWF8la9nYwcAFr9YyDjAO+FsyAF5JwFggzyOuWwEjLa/R44+Jgd8QDKD3JoT+u+BJUqDSMQ0\n",
       "XDlgJAWAumYFxgSwwDELmG8rlRn5er0/DYBmB39+ARdc5Mn5bdujcoDSEQCmX5/gDRH1myJf9oMA\n",
       "BRg05QYwKQe0eT5APY7vzaegd5EO+i5QKsAkFc/5WjZG7k5fObCyrg+Y9XC6GWAOCgplUKohR1Vm\n",
       "oXjRuc93euwK17YCt6XoA7o5BpoAyihvlKBt0xQvG8U+VSswHwDzewDHwH42AE8HEIm44PoAvX6J\n",
       "/Ln2VaikCHpe0q/mEtguctsxYPpWCLKBFQ6VSsDkdcpoSNtBXgSWPydEZH+QqVdDwN1N7GkkISJe\n",
       "EKW1Q+vHnAi8qsYAIzjG2/jYWwtbeTwOZl12lNbVyDxSoHJdpReXbdsu3L8Yz1GDRnp88mq5mLpM\n",
       "bLGdejIv+tIkVZ85bcs8IwKtjyi4fysnxpPIaHFK52EInH7GEldkn8uUutNxtuXnZ4Ep/5y+TViR\n",
       "iqnrvD4shhXXUU80P2nw3w9KuMO/njQl2u2ULE5H/he3a5q7nbfEUQAAAABJRU5ErkJggg==\n",
       "\" style=\"display:inline;vertical-align:middle;\" /></a><br>(see <a class=\"ProveItLink\" href=\"../__pv_it/532ec41068ddbef2c8c9c21251b456ad2c320fef0/dependencies.ipynb\">dependencies</a>)<br>"
      ],
      "text/plain": [
       "absIsNonNeg: forall_{a in Complexes} (|a| >= 0)"
      ]
     },
     "execution_count": 2,
     "metadata": {},
     "output_type": "execute_result"
    }
   ],
   "source": [
    "%proving absIsNonNeg presuming []"
   ]
  },
  {
   "cell_type": "code",
   "execution_count": null,
   "metadata": {},
   "outputs": [],
   "source": []
  }
 ],
 "metadata": {
  "kernelspec": {
   "display_name": "Python 3",
   "language": "python",
   "name": "python3"
  }
 },
 "nbformat": 4,
 "nbformat_minor": 0
}
