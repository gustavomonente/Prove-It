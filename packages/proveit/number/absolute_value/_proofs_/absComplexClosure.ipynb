{
 "cells": [
  {
   "cell_type": "markdown",
   "metadata": {},
   "source": [
    "Proof of <a class=\"ProveItLink\" href=\"../../../_context_.ipynb\">proveit</a>.<a class=\"ProveItLink\" href=\"../../_context_.ipynb\">number</a>.<a class=\"ProveItLink\" href=\"../_context_.ipynb\">absolute_value</a>.<a class=\"ProveItLink\" href=\"../_theorems_.ipynb#absComplexClosure\">absComplexClosure</a> theorem\n",
    "========"
   ]
  },
  {
   "cell_type": "code",
   "execution_count": 1,
   "metadata": {},
   "outputs": [],
   "source": [
    "import proveit\n",
    "context = proveit.Context('..') # the theorem's context is in the parent directory"
   ]
  },
  {
   "cell_type": "code",
   "execution_count": 2,
   "metadata": {},
   "outputs": [
    {
     "name": "stdout",
     "output_type": "stream",
     "text": [
      "Beginning proof of absComplexClosure\n",
      "Recorded 'presuming' information\n"
     ]
    },
    {
     "data": {
      "text/html": [
       "<strong id=\"absComplexClosure\">absComplexClosure:</strong> <a class=\"ProveItLink\" href=\"../__pv_it/4634e779805fda675e98f2e829608233d35c5dc10/expr.ipynb\"><img src=\"data:image/png;base64,iVBORw0KGgoAAAANSUhEUgAAAIMAAAAVBAMAAACXjEALAAAAMFBMVEX///8QEBCIiIhmZma6urrM\n",
       "zMxUVFQiIiJERETc3Nzu7u6qqqp2dnaYmJgyMjIAAAAcRTyBAAAAAXRSTlMAQObYZgAAAiZJREFU\n",
       "OMudlE9o1EAUxr/dJLtJNokePBRBWdB6LvVaRSlFEIRcrMWLZVHUi/SiPSgleNCsf3C8qOAeogWV\n",
       "RdygiKwULOpB9BK8WAvCXnpQZO1RevLNZsZkdYcVH4S8vBl+vO+bNwGGxFHxNiL8V1gJ3orU2Tdw\n",
       "R5ueDk++KBCPoEJ8GrnRHUmAEgM+8MI3BeKrEoHOA8ysRLCphTu832AwwR1TI4IGTGsWeA14ZJMT\n",
       "D0aU2V8I9/L8gkRojFq4R7X3zeZthQ5e70cYF6OsC41R9x7Vf4bhBQViR4qwJsa3CsSTKCekpJMQ\n",
       "h8SeAOoKxPUUsZ956wJxOu/Fi70EdEnMZM/VLCrXTtZEer6HsLdBCwQi8z24Ob/ALazMkWcoJqJs\n",
       "L+1O7JnI+C6+t/QQ2gbK1RRhbO9SiC4mTa7KWCcxSVmSV9pNuA1gqQ9RCNDyU0Tu9IOGNhUIhNWZ\n",
       "pmxx1xp0cgZTz6nUJ6S1jFfyRDbnvbjykd46CUH9OEk4a2zA40urn/+0sxXjTIWliPE8YlrzUzvx\n",
       "jDjamDGHRb70sp0h3vQQZtU954guynFuwJ2YTlNbpo9NVaAQF2dxJAzD6t3DGeJAeiK10Vs7BcI+\n",
       "dfD3NVtD+COG5/OZJWNbzFyNSnxNu08b1QOuvxMDLuOhTArs2CE4HGhN+PzqDL1mMuRe6LWne4Cr\n",
       "PH3cveTLcn0oon8sgSJ58Y+/HBkmG/7jG5V4f+AOGoFf5DienGjorQIAAAAASUVORK5CYII=\n",
       "\" style=\"display:inline;vertical-align:middle;\" /></a><br>(see <a class=\"ProveItLink\" href=\"../__pv_it/4634e779805fda675e98f2e829608233d35c5dc10/dependencies.ipynb\">dependencies</a>)<br>"
      ],
      "text/plain": [
       "absComplexClosure: forall_{a in Complexes} (|a| in Reals)"
      ]
     },
     "execution_count": 2,
     "metadata": {},
     "output_type": "execute_result"
    }
   ],
   "source": [
    "%proving absComplexClosure presuming []"
   ]
  },
  {
   "cell_type": "code",
   "execution_count": null,
   "metadata": {},
   "outputs": [],
   "source": []
  }
 ],
 "metadata": {
  "kernelspec": {
   "display_name": "Python 3",
   "language": "python",
   "name": "python3"
  }
 },
 "nbformat": 4,
 "nbformat_minor": 0
}
