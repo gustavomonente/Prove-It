{
 "cells": [
  {
   "cell_type": "markdown",
   "metadata": {},
   "source": [
    "Proof of <a class=\"ProveItLink\" href=\"../../../_context_.ipynb\">proveit</a>.<a class=\"ProveItLink\" href=\"../../_context_.ipynb\">number</a>.<a class=\"ProveItLink\" href=\"../_context_.ipynb\">absolute_value</a>.<a class=\"ProveItLink\" href=\"../_theorems_.ipynb#absIneq\">absIneq</a> theorem\n",
    "========"
   ]
  },
  {
   "cell_type": "code",
   "execution_count": 1,
   "metadata": {},
   "outputs": [],
   "source": [
    "import proveit\n",
    "context = proveit.Context('..') # the theorem's context is in the parent directory"
   ]
  },
  {
   "cell_type": "code",
   "execution_count": 2,
   "metadata": {},
   "outputs": [
    {
     "name": "stdout",
     "output_type": "stream",
     "text": [
      "Beginning proof of absIneq\n",
      "Recorded 'presuming' information\n",
      "Presuming previous theorems (applied transitively).\n"
     ]
    },
    {
     "data": {
      "text/html": [
       "<strong id=\"absIneq\">absIneq:</strong> <a class=\"ProveItLink\" href=\"../__pv_it/3802cb4bc73252dd80caac9de94ab7c9a71c0bcf0/expr.ipynb\"><img src=\"data:image/png;base64,iVBORw0KGgoAAAANSUhEUgAAAdQAAAAXBAMAAABAAqPxAAAAMFBMVEX///8QEBCIiIhmZma6urrM\n",
       "zMxUVFQiIiJERETc3Nzu7u6qqqp2dnaYmJgyMjIAAAAcRTyBAAAAAXRSTlMAQObYZgAABa1JREFU\n",
       "WMPdWG9oHEUUf7m7zd5t9pIoftIva0LTUNQGQ6uijWf8UPyguU8aRGiIRimUcIaGVk1LCG3ctFhP\n",
       "I60o1TWVVGNND4qVisiRnKjXogctVMXKYVOl9Q+hWLARwZl5b3dmL7tJyvnFDvzudt+892Z+s2/e\n",
       "vlmA/7Q9vuji+muJkkDBvS8EKdVlA20PKlheO0B+MHxeJwjcqMwF56qm+h5iaaqwOUhoDEssrx0g\n",
       "X2SotNosghud5IJLVVO9iAiiujrtXU4HmdZnJXxN1VacePKs4sDXIoNyGcoIbvQ6j77hapkm2xCL\n",
       "qRpfWFLNtAJsTyvwNantc+LJzysO1HZkQLmZITCjeof95aqlqmcRi6gm7iqpodZIF2ydtR66fk6B\n",
       "PzAbA524cu1FRzpQ2vgO9e4dAjNKFqemDlQdvwcIlVQT/f5VnKMI41PfTSoZiYo2F+yE5LWdludA\n",
       "aft/9W+PFIIb/WXbQ1VTbSYwhhMtr91mEVVtX8p9Es0WvOLALN51iy2HDyXSJuG2iTshcTOQtnRC\n",
       "vkk+DRnPgdG0uXMGXc/5RzRZLwc36gMYWxmfWKUgMpOnq5cIBTDyyQG9TFRtL5mYsUZYC/AjTv6G\n",
       "baw9i8kwXpJwW/4BiMy72tIJ+Sb5SUypwvAInLV2ipvdFSMmywhu9CBmKLd93PrkT/7X2MBoB0ZK\n",
       "XJLGfP8DHCfBC4QCmI65EMsS1dVrXIs3o2WwmXdx04LPs1vEpZ6TcPdmrgPiw662dEK+SZ6Bt8B1\n",
       "UIRvnIfE6g84/hHrMghupOPOEav2aXspYkJRprsPZjeAlTcnKqjCeB//3QoN5PgmAnuqYpLuXj1b\n",
       "JAOnxoLLAJv49WE3IW3nPzUpiek/eLtgwI3QYJG24oR8ozxpQW3adeBwVvguGHJ8I2rzCG5klnSX\n",
       "wLcnpoBR/d4LpeTeNxxGNflhJVUYZ4FiXIGaXCVVEJP08tNn99BFl6NdoUkmtqBoMl9J1YuaBdiU\n",
       "9qhKJ+gb5bpDSRwNL3tReD6rjqhSTZQf5a+edS3pGN+9nCqfQmcPPM+CmzVG9YhCVXSw3bELtKug\n",
       "lyoDGMQkZSp+pA//OyDC3hEbcQV3iqc3CCEBDCz2bgVXW3GCvlF+jAoXNOSs3HX6Oa2MGMsghNHY\n",
       "U4yg06+n6gGptnPK+QWtEatGKx9tV6iKDs71krYAulWZluqctcybUi117xJ/oxDvcRMKvvSns6Fp\n",
       "iamOgqftOSHfKL9IdIXhJyyLeVtas1NyRDUtwTHGWYPfAQ4JqtGnt/IgezcTGTZE/rfWP5OSVEUH\n",
       "v7ijxJ5qDVGdJRSgK/cyL7+VwnC/WOT10MWmdB9VptzhvZRr2iS8p9oT+wc8bc8J+RZybRiDWBjG\n",
       "/o7PJ+RSJfrkiNE8Qhhh/F8FeMy2bStivnpGjJavtbTttj0C1le3K1RFB9unrTm+Vxtog20kFGCy\n",
       "aWJDKaDcn2y6nz3FC7IydatRN8JiSiVg9Daz+bjaig/hW8jFakUsdGD0rmk+FzxifRohjJJ8abR5\n",
       "DWoxgOue4AI9VZOGHgzgj4oKVdFhfJnyZeDQwlBpHYxCRlbqhrNUYRgtK9qVBWPGe8mnIaiiVEaE\n",
       "wwTP2dtm2QQzjXu1mE/sAT3dBfA5UjXVtMQ7jLtTWCMdX7bcdw9TZePPlZf7/XA0FaIdcGg4HXx8\n",
       "EyOq5T497DMz7Mnt5W/ar/OHOrRbINa7j5Fjya1u6DejvSyp8g4Nc1zklLe/xhB+qsYvvCraxpX1\n",
       "UtwKOcTFsxLUdsCId1hTnIQcBRVDmBbKg96I6iHOV+ixvUovJ3hfZNRWe0RxKX6x41qP5rGmdRBS\n",
       "gQYczTub0xBer46t6GiOI3prOBb+nWJLrLxo+cVvQIf84LLKvV8VeKq9pg8uIdoB8iU+uHxHCHMG\n",
       "UIKHT0EwVd5Rx3K1vef6/VIG0f/39P8F9qzXmq7KpegAAAAASUVORK5CYII=\n",
       "\" style=\"display:inline;vertical-align:middle;\" /></a><br>(see <a class=\"ProveItLink\" href=\"../__pv_it/3802cb4bc73252dd80caac9de94ab7c9a71c0bcf0/dependencies.ipynb\">dependencies</a>)<br>"
      ],
      "text/plain": [
       "absIneq: forall_{x in Reals, y in Reals | y >= 0} ((|x| <= y) <=> (((-y) <= x) and (x <= y)))"
      ]
     },
     "execution_count": 2,
     "metadata": {},
     "output_type": "execute_result"
    }
   ],
   "source": [
    "%proving absIneq presuming []"
   ]
  },
  {
   "cell_type": "code",
   "execution_count": null,
   "metadata": {},
   "outputs": [],
   "source": []
  }
 ],
 "metadata": {
  "kernelspec": {
   "display_name": "Python 3",
   "language": "python",
   "name": "python3"
  }
 },
 "nbformat": 4,
 "nbformat_minor": 0
}
