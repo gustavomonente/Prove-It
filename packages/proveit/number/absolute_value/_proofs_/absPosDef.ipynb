{
 "cells": [
  {
   "cell_type": "markdown",
   "metadata": {},
   "source": [
    "Proof of <a class=\"ProveItLink\" href=\"../../../_context_.ipynb\">proveit</a>.<a class=\"ProveItLink\" href=\"../../_context_.ipynb\">number</a>.<a class=\"ProveItLink\" href=\"../_context_.ipynb\">absolute_value</a>.<a class=\"ProveItLink\" href=\"../_theorems_.ipynb#absPosDef\">absPosDef</a> theorem\n",
    "========"
   ]
  },
  {
   "cell_type": "code",
   "execution_count": 1,
   "metadata": {},
   "outputs": [],
   "source": [
    "import proveit\n",
    "context = proveit.Context('..') # the theorem's context is in the parent directory"
   ]
  },
  {
   "cell_type": "code",
   "execution_count": 2,
   "metadata": {},
   "outputs": [
    {
     "name": "stdout",
     "output_type": "stream",
     "text": [
      "Beginning proof of absPosDef\n",
      "Recorded 'presuming' information\n",
      "Presuming previous theorems (applied transitively).\n"
     ]
    },
    {
     "data": {
      "text/html": [
       "<strong id=\"absPosDef\">absPosDef:</strong> <a class=\"ProveItLink\" href=\"../__pv_it/b5f20d1cc0807a0d50043ca3d369090a59e64e4e0/expr.ipynb\"><img src=\"data:image/png;base64,iVBORw0KGgoAAAANSUhEUgAAAPIAAAAVBAMAAACOB66tAAAAMFBMVEX///8QEBCIiIhmZma6urrM\n",
       "zMxUVFQiIiJERETc3Nzu7u6qqqp2dnaYmJgyMjIAAAAcRTyBAAAAAXRSTlMAQObYZgAAA0pJREFU\n",
       "SMe9Vk1oE0EU/tL8b7JpBQUVhFhtb0LQi2DFiognMRe1ekkIiggiVahaKhIES4oKAUEFlW4ttKVI\n",
       "ExSRSKGhrReFEvGgLf4EtII/1KIokvbgezuTpk1mS3px4O2+N/vefPN+5s0CVYyjZe//MO4JGpfi\n",
       "uErHl1TNenOWi2akUZ6Fd2odLS7IEtm/5RlwUmU6oF5x9G0YLt4qGb3gia9qvUBSkCXyN/QnMaQy\n",
       "/aJeMK21Q2Nnyeg2hyauRn4lyQpZr4M/D3+w0lIPKRd8CUyQ4xytIAIGvdJq5HZJVsieKHwFaHVS\n",
       "JF+cUcG6lclHJzBioIcTWQf9+eDgLTWwt1WQJXJtFI454JOQariorgjeYsU/wIE0As0wjf4mEhfV\n",
       "ejUhQYx4Y2yjUYGcCsHxExgTUgs/hgyT38Qbb9q6vqxifxFyEH5ek4yOA11qZE9OECE61uGH9Nk/\n",
       "Yw627s7CScjvTW3nqvM0zohivU60OxmYZX7C1P/Ie5kHIkHoXGJktEcUW+l8XjsRk8lKCyLEnhy2\n",
       "V0a7OwQnLfbEFBqFty1mzXSQgxtgL6tcL/kcycLHGSQjt0iQGY3hbTmtxXB+F6KtWRAh7jJwFlbR\n",
       "jjDfL2sLF/ixGrAX4A4qo+3kUJCRP+cufnmTGYR+FxiuQF4L7beywnxzEtl7Ssz1ZSWyLY5UuLLC\n",
       "RtILyN78IWJ6G6fh4NztfUxT5dHW5uGbXZpndtETh14A9okjfMmcb4OMdiqLEZTy/JnZBPDBgIOj\n",
       "zUZdxygObc4CAvxxalJRYdocXPmMRSeRFWb2HAwlixWWSuN0eU8XnaRYYXhEW7CHnK3o5Y9PM6Wu\n",
       "HBJEiJfxOpqt7J4d6KGANgnBxYnZIXg6M56gfs5fpu9Oa2sIjBPCRrVUB7Z0TRSHE4lE8M7BBT2O\n",
       "ikN0kr76I7HmSuQH9XQmMS3rJ1/qwxRLLdZwc3P5FTTaSDsNhKWRTschlfRMGS7+aL9PClV2T7lc\n",
       "q2QotJqxbPcUo3+xkS0Z2Q9/2Ow8YbOlV3NjyKRUf2PIq3KxkSP2cCdw1YzgTGfxMHiSgpZHVt6S\n",
       "XdbAxVtySaOmPK/oz8AaZMAamX1ZbmeL/4YapNig0tFX+jc0KYz+ARpzD6VtXfOMAAAAAElFTkSu\n",
       "QmCC\n",
       "\" style=\"display:inline;vertical-align:middle;\" /></a><br>(see <a class=\"ProveItLink\" href=\"../__pv_it/b5f20d1cc0807a0d50043ca3d369090a59e64e4e0/dependencies.ipynb\">dependencies</a>)<br>"
      ],
      "text/plain": [
       "absPosDef: forall_{a in Complexes} ((|a| = 0) <=> (a = 0))"
      ]
     },
     "execution_count": 2,
     "metadata": {},
     "output_type": "execute_result"
    }
   ],
   "source": [
    "%proving absPosDef presuming []"
   ]
  },
  {
   "cell_type": "code",
   "execution_count": null,
   "metadata": {},
   "outputs": [],
   "source": []
  }
 ],
 "metadata": {
  "kernelspec": {
   "display_name": "Python 3",
   "language": "python",
   "name": "python3"
  }
 },
 "nbformat": 4,
 "nbformat_minor": 0
}
