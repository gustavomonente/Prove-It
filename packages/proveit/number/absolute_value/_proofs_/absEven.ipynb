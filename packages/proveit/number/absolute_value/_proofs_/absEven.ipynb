{
 "cells": [
  {
   "cell_type": "markdown",
   "metadata": {},
   "source": [
    "Proof of <a class=\"ProveItLink\" href=\"../../../_context_.ipynb\">proveit</a>.<a class=\"ProveItLink\" href=\"../../_context_.ipynb\">number</a>.<a class=\"ProveItLink\" href=\"../_context_.ipynb\">absolute_value</a>.<a class=\"ProveItLink\" href=\"../_theorems_.ipynb#absEven\">absEven</a> theorem\n",
    "========"
   ]
  },
  {
   "cell_type": "code",
   "execution_count": 1,
   "metadata": {},
   "outputs": [],
   "source": [
    "import proveit\n",
    "context = proveit.Context('..') # the theorem's context is in the parent directory"
   ]
  },
  {
   "cell_type": "code",
   "execution_count": 2,
   "metadata": {},
   "outputs": [
    {
     "name": "stdout",
     "output_type": "stream",
     "text": [
      "Beginning proof of absEven\n",
      "Recorded 'presuming' information\n",
      "Presuming previous theorems (applied transitively).\n"
     ]
    },
    {
     "data": {
      "text/html": [
       "<strong id=\"absEven\">absEven:</strong> <a class=\"ProveItLink\" href=\"../__pv_it/adcab6e63444f5c27012dad23537a5d5e7f582c20/expr.ipynb\"><img src=\"data:image/png;base64,iVBORw0KGgoAAAANSUhEUgAAAJ8AAAAVBAMAAACqHiFtAAAAMFBMVEX///8QEBCIiIhmZma6urrM\n",
       "zMxUVFQiIiJERETc3Nzu7u6qqqp2dnaYmJgyMjIAAAAcRTyBAAAAAXRSTlMAQObYZgAAAfFJREFU\n",
       "OMtjYCAAoogWYF3AQBBwXmA4gi6GU4DHgWEnkHoAYt/FYeAKBtIMZJvAwHAaxH6Fw8CXJBrIBXTe\n",
       "DJDPGrCbx2tAooEMhxgY+IBBybMBu4HsE0g1cCHQFadWrZqOw8fTGUg1kA+If3R01OAwUBlV/yK1\n",
       "KToK2AzkUsp0OgQ2kAcYSKkMDJ04DOxFMZDrAG8R+wOIAM87MDCAGLiG4bpCHdhAXmCsOIPjBgG4\n",
       "e9KToMxqFAN5FvD8YpmAzYWnGM4v8AQbyF0ADHkGpgswN+wxvsAVsYD1DZQvAvEQxDUBXAwcDdjD\n",
       "cAFDBzQMWT8A6QvsMKkbO1cx8M5hYNiDYiAC8CvgipRPSAZyPggD8g6ZqgWwgILEdStQCKuXGRji\n",
       "A2AC0DBMgBrI+hVqIAvQywydKQwMTAvy2B34QNK3buKKFO4F+kB12Fy4i+kDgxY8Uhg2A01lZXjL\n",
       "wLAYJL1rJ0LpYRQD/Tf0M8zF5mWW3xwfgMUIyEDmA7CQYfjJwBDe0dGhMDsUodQdxcBlSotsL2Az\n",
       "kCtJS/kuNGGDAoUXVI6xfmBlYANJMy8CxjbZWW85THA+zwMeBh6Q8Zw2AaAsTn7hAPXOlUOnGBi6\n",
       "Qcw179oCYMKdZBRfyIAJGIYUFbAcEwhXAaroYjgFmAIYgEkOALK0r3L1Ro9fAAAAAElFTkSuQmCC\n",
       "\" style=\"display:inline;vertical-align:middle;\" /></a><br>(see <a class=\"ProveItLink\" href=\"../__pv_it/adcab6e63444f5c27012dad23537a5d5e7f582c20/dependencies.ipynb\">dependencies</a>)<br>"
      ],
      "text/plain": [
       "absEven: forall_{x in Complexes} (|-x| = |x|)"
      ]
     },
     "execution_count": 2,
     "metadata": {},
     "output_type": "execute_result"
    }
   ],
   "source": [
    "%proving absEven presuming []"
   ]
  },
  {
   "cell_type": "code",
   "execution_count": null,
   "metadata": {},
   "outputs": [],
   "source": []
  }
 ],
 "metadata": {
  "kernelspec": {
   "display_name": "Python 3",
   "language": "python",
   "name": "python3"
  }
 },
 "nbformat": 4,
 "nbformat_minor": 0
}
