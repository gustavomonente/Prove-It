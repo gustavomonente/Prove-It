{
 "cells": [
  {
   "cell_type": "markdown",
   "metadata": {},
   "source": [
    "Proof of <a class=\"ProveItLink\" href=\"../../../_context_.ipynb\">proveit</a>.<a class=\"ProveItLink\" href=\"../../_context_.ipynb\">number</a>.<a class=\"ProveItLink\" href=\"../_context_.ipynb\">absolute_value</a>.<a class=\"ProveItLink\" href=\"../_theorems_.ipynb#absNonzeroClosure\">absNonzeroClosure</a> theorem\n",
    "========"
   ]
  },
  {
   "cell_type": "code",
   "execution_count": 1,
   "metadata": {},
   "outputs": [],
   "source": [
    "import proveit\n",
    "context = proveit.Context('..') # the theorem's context is in the parent directory"
   ]
  },
  {
   "cell_type": "code",
   "execution_count": 2,
   "metadata": {},
   "outputs": [
    {
     "name": "stdout",
     "output_type": "stream",
     "text": [
      "Beginning proof of absNonzeroClosure\n",
      "Recorded 'presuming' information\n",
      "Presuming previous theorems (applied transitively).\n"
     ]
    },
    {
     "data": {
      "text/html": [
       "<strong id=\"absNonzeroClosure\">absNonzeroClosure:</strong> <a class=\"ProveItLink\" href=\"../__pv_it/d7596754b7aec94796b5cf918c59ae73ef32365d0/expr.ipynb\"><img src=\"data:image/png;base64,iVBORw0KGgoAAAANSUhEUgAAAMMAAAAbCAMAAAD2zMvaAAAAOVBMVEX///8oKCgUFBQNDQ0QEBCI\n",
       "iIhmZma6urrMzMxUVFQiIiJERETc3Nzu7u6qqqp2dnaYmJgyMjIAAAArQGDrAAAAAXRSTlMAQObY\n",
       "ZgAAAu5JREFUWMPtl+uWmyAQgGnLDJfh6vs/bBk0iohJ1o3bP+WczRrDAN/cEeL/+NrQ6iPLmMcD\n",
       "/AME85l16PGgzI8zZF9JfEfmLzOImH4YAWfTx86horrOICwrIK9f081MbvJfZ0hWEk05S0pDBkBe\n",
       "Iewtfd+IKK7YIQtfvF5TIj6fyWVI/kiLYvjjAeXoZleS4RIDCRfnf2ZgB2FDo/7NIPe60iuGRLaM\n",
       "3DOg29y+ZUD+kqLn4ezNZkhSvMGgCfzQDoWBRgxQl52Ih413Z6W8O7PDiCB9x+CPQbkwmKYYtAyq\n",
       "mtfo+t69fZqn/lvPABEOKiFqGZQs++Wpt4NxJ/EQLG54LYOe+PgKqwLOjxUoGmtglNqO2tbVPYtQ\n",
       "X0KzaRi8TA9f3jHQMKYlB0gTrm4XZlWcIwEOxcGHiFjees1JTef4DsOcOywvO3VeYbFhwPqrhY5B\n",
       "16xZx84ORc10kvn9zMAF+xDRiYLzLJeqO4rwFkPdyVfzyi7P5ZZB0jqvZXB0kltRaTpLd3N45bUb\n",
       "8wgmrw5WnV8H3RmwXW0VmCfH2UV5ru0sS40v+YknhumQl+RZfSCfxk3qvBnHs5nX8VaXl7sWJPnk\n",
       "ztuVVcDU5Pan/KVlBdvtaahlCLXmiuD2DAgnDEXJqIcJZvHZgIsrYdG+tlW9a0D78IRhFZhzdWhU\n",
       "I7vjQFsfCLgVMiL29cGGca/BJdjoZ2Vngq0dAJbQtuq1bOWC1ucMq0A1Cj3CjCUmNVbYnJcMgHYG\n",
       "VM/gDSl/7Pk05+Y8DVoJpNVhls2LAilxKG+ZET1sib9j2AS4F/v9a+nFhnlJSPVWr6Ei7XqNV3eS\n",
       "3vtK4dGT4mCMq/JLQeXnOKwPm4BoejJuiA/1QWC81PM9H/6gKmUgANYj0Wo3H3Om1hdpKNBmcIgR\n",
       "jxlE3sCQnt5GYY6H59eotpq/bLhM+DyD1d+8knf546Xd5ynQbQv6G2a42qkOGdIb14+An76TXL63\n",
       "XT9JUJ9lwJuvzz83/gKr7iGTgLb0jQAAAABJRU5ErkJggg==\n",
       "\" style=\"display:inline;vertical-align:middle;\" /></a><br>(see <a class=\"ProveItLink\" href=\"../__pv_it/d7596754b7aec94796b5cf918c59ae73ef32365d0/dependencies.ipynb\">dependencies</a>)<br>"
      ],
      "text/plain": [
       "absNonzeroClosure: forall_{a in Complexes | a != 0} (|a| in RealsPos)"
      ]
     },
     "execution_count": 2,
     "metadata": {},
     "output_type": "execute_result"
    }
   ],
   "source": [
    "%proving absNonzeroClosure presuming []"
   ]
  },
  {
   "cell_type": "code",
   "execution_count": null,
   "metadata": {},
   "outputs": [],
   "source": []
  }
 ],
 "metadata": {
  "kernelspec": {
   "display_name": "Python 3",
   "language": "python",
   "name": "python3"
  }
 },
 "nbformat": 4,
 "nbformat_minor": 0
}
