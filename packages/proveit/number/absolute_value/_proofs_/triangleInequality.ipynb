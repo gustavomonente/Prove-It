{
 "cells": [
  {
   "cell_type": "markdown",
   "metadata": {},
   "source": [
    "Proof of <a class=\"ProveItLink\" href=\"../../../_context_.ipynb\">proveit</a>.<a class=\"ProveItLink\" href=\"../../_context_.ipynb\">number</a>.<a class=\"ProveItLink\" href=\"../_context_.ipynb\">absolute_value</a>.<a class=\"ProveItLink\" href=\"../_theorems_.ipynb#triangleInequality\">triangleInequality</a> theorem\n",
    "========"
   ]
  },
  {
   "cell_type": "code",
   "execution_count": 1,
   "metadata": {},
   "outputs": [],
   "source": [
    "import proveit\n",
    "context = proveit.Context('..') # the theorem's context is in the parent directory"
   ]
  },
  {
   "cell_type": "code",
   "execution_count": 2,
   "metadata": {},
   "outputs": [
    {
     "name": "stdout",
     "output_type": "stream",
     "text": [
      "Beginning proof of triangleInequality\n",
      "Recorded 'presuming' information\n",
      "Presuming previous theorems (applied transitively).\n"
     ]
    },
    {
     "data": {
      "text/html": [
       "<strong id=\"triangleInequality\">triangleInequality:</strong> <a class=\"ProveItLink\" href=\"../__pv_it/d645f69569ba5c9cb2b3733e973ff2f36fd1300d0/expr.ipynb\"><img src=\"data:image/png;base64,iVBORw0KGgoAAAANSUhEUgAAAQ8AAAAWBAMAAAAsrwTqAAAAMFBMVEX///8QEBCIiIhmZma6urrM\n",
       "zMxUVFQiIiJERETc3Nzu7u6qqqp2dnaYmJgyMjIAAAAcRTyBAAAAAXRSTlMAQObYZgAAA3RJREFU\n",
       "SMe9lk1oE0EUx1+TbPO1m148WZTQWvUYKnjQFiMiPWn3Yi0VbCkWwYPEQqvYCrGgbFuFBaEV9bBa\n",
       "xJKqCZWCkYKhHwp+sUdbUAJq/WTpUXIQ52Nns5vsbtaLA49t3/zfzC8zb94MwL+2HqcOTnFxVnb2\n",
       "uMR4aWEVVpz6+KSNmjkrO1cMdx59sBXx/x+8gsyCLUjkcsoOZBZcQFhMvQzEXmP3D68g3+1BIJaw\n",
       "zOUbYmqXFdFjImgpsN3ES5j2yCEkKkDm9W9DzjzXw0FDXQkSjRsgLGYJiMVQuvA5jyBB2QGkUzGB\n",
       "3LhUVruAsJi7QEx4lclMe92ZaXAAeWmaa+qnSe0CwmJiuv2WpFGvIM10iHBb61YryEbTfjZX92ez\n",
       "GjmJ2gaExfAJagMA4zZzHi3aOK/TIQ7KsU0LSOSPkpXpXKErFjVyEnU1iBEjFKkdIjlbbtFrp/uB\n",
       "MtL29MWwHg0jdIht4E9bQKIlaIjTuXyDRo0aISBUXQ1ixERT1ILgU1k5WNyjRroV7hc+kDiB55bb\n",
       "4f4EnCzogi1kCH8Jgni8d5p2TtM20F/+ImQL+lzCqGJS80mqJp28pn3drml9dBQWw21S49Ug+wnv\n",
       "8xkQ7gAs4gOJUl6YvKXAWgGiVpC6NGRFy4qgktCZM370J9kMQtXVK2LEMJBwsQt1zOz8AgG8G4cX\n",
       "kAt9e5vOoF0DCJxAc8qWrckW4Ln11DSocEAxjm9gQzRtDVVXgxgxgRQ1GD+FNmWIK0EMK9bXqHKX\n",
       "0kzKv/BIrkzWbA7ORmULCM6EckHjpGQ5WanaBoTFsGSFJ4jGn+BSMIMVz/JUOQYfI3iFonMmkGUy\n",
       "RCguDPOWFalXQwlzFQ8PMDWfpOpqECPGX6CGchegLufrg+OSJMVvH2MbvJe7IElj4QWxDNJBT01/\n",
       "y9QO6/FtfWtz6XXQU0PUNseXxcREaiCgLM/KoXWlHiv899C46FuCRsDpDftQqFKrxNs+A2qUeOZ+\n",
       "ANRIq5N7jwCPscJtIiyFJ+CikIZVcnOsAh93uvQybiB2l15EqQLRLz090fvn2wEmydWpXRW5Ruh6\n",
       "g6okriWRd98GjLHHodbD6PF53IaYuvbDiD0DzM2HckRfQfrZLY15ehg5vNBmvYCE0AaGZKdB885P\n",
       "xRanGJ9oo2bOys4Ww43LxZrjNavC/25/AXHfI8bQxrLiAAAAAElFTkSuQmCC\n",
       "\" style=\"display:inline;vertical-align:middle;\" /></a><br>(see <a class=\"ProveItLink\" href=\"../__pv_it/d645f69569ba5c9cb2b3733e973ff2f36fd1300d0/dependencies.ipynb\">dependencies</a>)<br>"
      ],
      "text/plain": [
       "triangleInequality: forall_{a in Complexes, b in Complexes} (|a + b| <= (|a| + |b|))"
      ]
     },
     "execution_count": 2,
     "metadata": {},
     "output_type": "execute_result"
    }
   ],
   "source": [
    "%proving triangleInequality presuming []"
   ]
  },
  {
   "cell_type": "code",
   "execution_count": null,
   "metadata": {},
   "outputs": [],
   "source": []
  }
 ],
 "metadata": {
  "kernelspec": {
   "display_name": "Python 3",
   "language": "python",
   "name": "python3"
  }
 },
 "nbformat": 4,
 "nbformat_minor": 0
}
