{
 "cells": [
  {
   "cell_type": "markdown",
   "metadata": {},
   "source": [
    "Proof of <a class=\"ProveItLink\" href=\"../../../_context_.ipynb\">proveit</a>.<a class=\"ProveItLink\" href=\"../../_context_.ipynb\">number</a>.<a class=\"ProveItLink\" href=\"../_context_.ipynb\">absolute_value</a>.<a class=\"ProveItLink\" href=\"../_theorems_.ipynb#absFrac\">absFrac</a> theorem\n",
    "========"
   ]
  },
  {
   "cell_type": "code",
   "execution_count": 1,
   "metadata": {},
   "outputs": [],
   "source": [
    "import proveit\n",
    "context = proveit.Context('..') # the theorem's context is in the parent directory"
   ]
  },
  {
   "cell_type": "code",
   "execution_count": 2,
   "metadata": {},
   "outputs": [
    {
     "name": "stdout",
     "output_type": "stream",
     "text": [
      "Beginning proof of absFrac\n",
      "Recorded 'presuming' information\n",
      "Presuming previous theorems (applied transitively).\n"
     ]
    },
    {
     "data": {
      "text/html": [
       "<strong id=\"absFrac\">absFrac:</strong> <a class=\"ProveItLink\" href=\"../__pv_it/8858b7995b84c932288bfa46755de03a56d6477b0/expr.ipynb\"><img src=\"data:image/png;base64,iVBORw0KGgoAAAANSUhEUgAAAPUAAAAyCAMAAACzgm1bAAAAQlBMVEX///8GBgYMDAxRUVEoKCgU\n",
       "FBQNDQ0QEBCIiIhmZma6urrMzMxUVFQiIiJERETc3Nzu7u6qqqp2dnaYmJgyMjIAAAA2Mj06AAAA\n",
       "AXRSTlMAQObYZgAABHlJREFUaN7NmouWmyAQhmm3LSB3kPd/1QIKckuUTdzAOZuzMTMJnwP/DCAA\n",
       "8zW9vOZPZPeCpGDipvW779p+YVnnhUYU3EQNzLTYCoLbqAHXc0JLuNxI/Y5vv6NxnCSor1QvUb9j\n",
       "JN0xvm3S337/4GvUgM04xhlu+QTWGEE5TH34ZdTKiumgTdanyLdAd221w7HO/PLgZ/d1mlDzZixL\n",
       "aNwr5qPUuV9ObaycDJrYpaHGoZcMjVLnfjm1tGgyagxb3YI8dJWMUud+hbyts5UqkDbU0uqgQaMa\n",
       "XvgV1GgyPSPWdKiVe6UrUGKQOvMrqEXxKxNU4EUUdj7upqFhFOjBEZ77lQkczrX24rBTj0iKEBEU\n",
       "LaManvmV1Jy5yX1o+qcjD/l5FfZqbebfucmuVRK3DycyafGPUBsn7CLeYME/LmZFJv3qGn29Th1+\n",
       "J4b4CPrHVh7qR2IdxpTR0jfBPl+Ek/dQI/L8gvUibrlvn1+CVeXD96nPmvVzmYY7wT9esehyXXBK\n",
       "rdesjaykoM9bi/eQV6vT5Uoduzy2D2RIo3Zo4UHq72fIMJn9C3qSrBXXlNEosBqfGPiBk4ewsMd+\n",
       "YBmHrJoKidoOnz3aRWrbb/l6NnyJNht5lT6Vxth9Igl3MSBrDM6qTgwq6jVXZhFYmR8LzTq3S31H\n",
       "rDdqsQLS3HnDlZC+Y0YEHBWhouY8NKioC43y92df/0H14ggv5vVIbc22EHNB95koMaIriZM9zEui\n",
       "Nt0XKccjKp8YVNTRfrPV2yVvykyjZj+k4XBTGoX3AS4ZcX3yfUwSZKQpOoOYBAg/Maiod3sa0uM/\n",
       "92f2X2CoyVzkXdTlSVd97hUXXbEWxA6HsBDzpFRSFVBhBbc+Maiod/uNS4Ej1hA1VcryLupquVHV\n",
       "arHeN3HfVe3nTISF2LguC0XKELivwPSJQUW924eRxGNJ6B3s0lSkxZXfUTQ5ZO3VC/sKya+i3rZZ\n",
       "8vcuCNx4jTrUAUt0JNpNev3NeWhQUe/21CnO3z9ed8wjDS+3UsCvIwvg3tXzWEe/iprU+4VQ+H1K\n",
       "/+M6xU/g8L92UfUK7Kap4Q8MetTRPmatMNJxL1+DRyvNfFUyMsKjX0VdrXKcxlKkEA63nKePpEsR\n",
       "3JetxMeY0P18uWPQ1fBov2WtHVt3ah3A1i71ko+KAerkV1HrZ9uFaJu25W06M+jk6+R7urzBtkut\n",
       "2ffULPlV1FU1dL4CvrpC6VGfl+/lsUTiWylCWI1TJ7+KGg5un1zeWOt8rznftCDFhINJYle56ewY\n",
       "9eFXUovbDj++eYLWOQWIh7uxq9epD7+SerZTgHJiRz685jn2OvXh124MT9WWzunelnWXOPivUx9+\n",
       "JfV0p3vF4XLkC7VLWo9dpz78qmOu2U5yCxVP1Es8jB6kTn4FNZzwWTuoG2pq8md0rlMffjn1jE9o\n",
       "5E/jRFC35NdmMDuEzJX8cup1vgc03tarhytNBeWM1AKSG6lnfcoOKHYjNcVg0obpbdSGg2kbfb2M\n",
       "KA+24ruZn5R20b5n8sm0VQv+A9olRdxbmemyAAAAAElFTkSuQmCC\n",
       "\" style=\"display:inline;vertical-align:middle;\" /></a><br>(see <a class=\"ProveItLink\" href=\"../__pv_it/8858b7995b84c932288bfa46755de03a56d6477b0/dependencies.ipynb\">dependencies</a>)<br>"
      ],
      "text/plain": [
       "absFrac: forall_{a in Complexes, b in Complexes | b != 0} (|a / b| = (|a| / |b|))"
      ]
     },
     "execution_count": 2,
     "metadata": {},
     "output_type": "execute_result"
    }
   ],
   "source": [
    "%proving absFrac presuming []"
   ]
  },
  {
   "cell_type": "code",
   "execution_count": null,
   "metadata": {},
   "outputs": [],
   "source": []
  }
 ],
 "metadata": {
  "kernelspec": {
   "display_name": "Python 3",
   "language": "python",
   "name": "python3"
  }
 },
 "nbformat": 4,
 "nbformat_minor": 0
}
