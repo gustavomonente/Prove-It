{
 "cells": [
  {
   "cell_type": "markdown",
   "metadata": {},
   "source": [
    "Show the Proof\n",
    "========"
   ]
  },
  {
   "cell_type": "code",
   "execution_count": 1,
   "metadata": {},
   "outputs": [
    {
     "data": {
      "text/html": [
       "<table><tr><th>&nbsp;</th><th>step type</th><th>requirements</th><th>statement</th></tr>\n",
       "<tr><td><a name=\"proveit.number.absolute_value.743ab625d7a5e77a432e4d787a9bf532ebf294500_step0\">0</a></td><td>instantiation</td><td><a href=\"#proveit.number.absolute_value.743ab625d7a5e77a432e4d787a9bf532ebf294500_step1\">1</a>, <a href=\"#proveit.number.absolute_value.743ab625d7a5e77a432e4d787a9bf532ebf294500_step2\">2</a></td><td><span style=\"font-size:20px;\"><a class=\"ProveItLink\" href=\"../ee04630bebaed81e1c08bad7cf6cca4451f31d770/expr.ipynb\"><img src=\"../ee04630bebaed81e1c08bad7cf6cca4451f31d770/expr.png\" style=\"display:inline;vertical-align:middle;\" /></a> <a class=\"ProveItLink\" href=\"proof.ipynb\" style=\"text-decoration: none\">&#x22A2;&nbsp;</a><a class=\"ProveItLink\" href=\"../1d9370e848ca23b268f3a1497a54cd524279b4200/expr.ipynb\"><img src=\"../1d9370e848ca23b268f3a1497a54cd524279b4200/expr.png\" style=\"display:inline;vertical-align:middle;\" /></a></span></td></tr>\n",
       "<tr><td>&nbsp;</td><td colspan=4 style=\"text-align:left\"><span style=\"font-size:20px;\"><a class=\"ProveItLink\" href=\"../../../../__pv_it/a8d4b3a34d2189508f9082853fbac36935714f280/expr.ipynb\"><img src=\"../../../../__pv_it/a8d4b3a34d2189508f9082853fbac36935714f280/expr.png\" style=\"display:inline;vertical-align:middle;\" /></a> : <a class=\"ProveItLink\" href=\"../27d57aa10030b1325b1af01ce49175301ddd5f1c0/expr.ipynb\"><img src=\"../27d57aa10030b1325b1af01ce49175301ddd5f1c0/expr.png\" style=\"display:inline;vertical-align:middle;\" /></a></span></td></tr><tr><td><a name=\"proveit.number.absolute_value.743ab625d7a5e77a432e4d787a9bf532ebf294500_step1\">1</a></td><td>theorem</td><td></td><td><span style=\"font-size:20px;\"> <a class=\"ProveItLink\" href=\"../../_proofs_/absIsNonNeg.ipynb\" style=\"text-decoration: none\">&#x22A2;&nbsp;</a><a class=\"ProveItLink\" href=\"../532ec41068ddbef2c8c9c21251b456ad2c320fef0/expr.ipynb\"><img src=\"../532ec41068ddbef2c8c9c21251b456ad2c320fef0/expr.png\" style=\"display:inline;vertical-align:middle;\" /></a></span></td></tr>\n",
       "<tr><td>&nbsp;</td><td colspan=4 style-\"text-align:left\"><a class=\"ProveItLink\" href=\"../../_proofs_/absIsNonNeg.ipynb\">proveit.number.absolute_value.absIsNonNeg</a></td></tr><tr><td><a name=\"proveit.number.absolute_value.743ab625d7a5e77a432e4d787a9bf532ebf294500_step2\">2</a></td><td>assumption</td><td></td><td><span style=\"font-size:20px;\"><a class=\"ProveItLink\" href=\"../ee04630bebaed81e1c08bad7cf6cca4451f31d770/expr.ipynb\"><img src=\"../ee04630bebaed81e1c08bad7cf6cca4451f31d770/expr.png\" style=\"display:inline;vertical-align:middle;\" /></a> <a class=\"ProveItLink\" href=\"../a1e2db9eb11d876b18727f8949ffad4637388c450/proof.ipynb\" style=\"text-decoration: none\">&#x22A2;&nbsp;</a><a class=\"ProveItLink\" href=\"../5deb91446b889740baef6a2eac71d1736a16bc7e0/expr.ipynb\"><img src=\"../5deb91446b889740baef6a2eac71d1736a16bc7e0/expr.png\" style=\"display:inline;vertical-align:middle;\" /></a></span></td></tr>\n",
       "</table>"
      ],
      "text/plain": [
       "<proveit._core_.proof._ShowProof at 0x7f5bb0700278>"
      ]
     },
     "execution_count": 1,
     "metadata": {},
     "output_type": "execute_result"
    }
   ],
   "source": [
    "import proveit\n",
    "# Automation is not needed when only showing a stored proof:\n",
    "proveit.defaults.automation = False # This will speed things up.\n",
    "proveit.defaults.inline_pngs = False # Makes files smaller.\n",
    "%show_proof"
   ]
  },
  {
   "cell_type": "code",
   "execution_count": null,
   "metadata": {},
   "outputs": [],
   "source": []
  }
 ],
 "metadata": {
  "kernelspec": {
   "display_name": "Python 3",
   "language": "python",
   "name": "python3"
  },
  "language_info": {
   "codemirror_mode": {
    "name": "ipython",
    "version": 3
   },
   "file_extension": ".py",
   "mimetype": "text/x-python",
   "name": "python",
   "nbconvert_exporter": "python",
   "pygments_lexer": "ipython3",
   "version": "3.7.3"
  }
 },
 "nbformat": 4,
 "nbformat_minor": 1
}
