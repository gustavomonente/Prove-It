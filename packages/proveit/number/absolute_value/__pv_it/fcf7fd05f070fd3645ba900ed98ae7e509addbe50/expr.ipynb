{
 "cells": [
  {
   "cell_type": "markdown",
   "metadata": {},
   "source": [
    "Expression of type <a class=\"ProveItLink\" href=\"../../../../../../doc/html/api/proveit.ExprTuple.html\">ExprTuple</a>\n",
    "=======================\n",
    "# from context <a class=\"ProveItLink\" href=\"../../_context_.ipynb\">proveit.number.absolute_value</a>"
   ]
  },
  {
   "cell_type": "code",
   "execution_count": 1,
   "metadata": {},
   "outputs": [],
   "source": [
    "import proveit\n",
    "# Automation is not needed when building an expression:\n",
    "proveit.defaults.automation = False # This will speed things up.\n",
    "proveit.defaults.inline_pngs = False # Makes files smaller.\n",
    "# import Expression classes needed to build the expression\n",
    "from proveit import ExprTuple\n",
    "from proveit._common_ import a, b\n",
    "from proveit.logic import InSet\n",
    "from proveit.number import Complexes"
   ]
  },
  {
   "cell_type": "code",
   "execution_count": 2,
   "metadata": {},
   "outputs": [
    {
     "data": {
      "text/html": [
       "<strong id=\"expr\">expr:</strong> <a class=\"ProveItLink\" href=\"expr.ipynb\"><img src=\"expr.png\" style=\"display:inline;vertical-align:middle;\" /></a><br>"
      ],
      "text/plain": [
       "expr: (a in Complexes, b in Complexes)"
      ]
     },
     "execution_count": 2,
     "metadata": {},
     "output_type": "execute_result"
    }
   ],
   "source": [
    "# build up the expression from sub-expressions\n",
    "expr = ExprTuple(InSet(a, Complexes), InSet(b, Complexes))"
   ]
  },
  {
   "cell_type": "code",
   "execution_count": 3,
   "metadata": {},
   "outputs": [
    {
     "name": "stdout",
     "output_type": "stream",
     "text": [
      "Passed sanity check: built 'expr' is the same as the stored Expression.\n"
     ]
    }
   ],
   "source": [
    "# check that the built expression is the same as the stored expression\n",
    "%check_expr"
   ]
  },
  {
   "cell_type": "code",
   "execution_count": 4,
   "metadata": {},
   "outputs": [
    {
     "name": "stdout",
     "output_type": "stream",
     "text": [
      "\\left(a \\in \\mathbb{C}, b \\in \\mathbb{C}\\right)\n"
     ]
    }
   ],
   "source": [
    "# Show the LaTeX representation of the expression for convenience if you need it.\n",
    "print(expr.latex())"
   ]
  },
  {
   "cell_type": "code",
   "execution_count": 5,
   "metadata": {},
   "outputs": [
    {
     "data": {
      "text/html": [
       "<table><tr><th>&nbsp;</th><th>core type</th><th>sub-expressions</th><th>expression</th></tr>\n",
       "<tr><td>0</td><td>ExprTuple</td><td>1, 2</td><td><a class=\"ProveItLink\" href=\"expr.ipynb\"><img src=\"expr.png\" style=\"display:inline;vertical-align:middle;\" /></a></td></tr>\n",
       "<tr><td>1</td><td>Operation</td><td>operator:&nbsp;4<br>operands:&nbsp;3<br></td><td><a class=\"ProveItLink\" href=\"../3a349d05e8f4326cbee9b8eaae329b60958952cc0/expr.ipynb\"><img src=\"../3a349d05e8f4326cbee9b8eaae329b60958952cc0/expr.png\" style=\"display:inline;vertical-align:middle;\" /></a></td></tr>\n",
       "<tr><td>2</td><td>Operation</td><td>operator:&nbsp;4<br>operands:&nbsp;5<br></td><td><a class=\"ProveItLink\" href=\"../95df97c34da7b3464cf6fd37240351be737674bc0/expr.ipynb\"><img src=\"../95df97c34da7b3464cf6fd37240351be737674bc0/expr.png\" style=\"display:inline;vertical-align:middle;\" /></a></td></tr>\n",
       "<tr><td>3</td><td>ExprTuple</td><td>6, 8</td><td><a class=\"ProveItLink\" href=\"../bf449f70c45ffb0bbf3e6b8cd307070dfe3938e40/expr.ipynb\"><img src=\"../bf449f70c45ffb0bbf3e6b8cd307070dfe3938e40/expr.png\" style=\"display:inline;vertical-align:middle;\" /></a></td></tr>\n",
       "<tr><td>4</td><td>Literal</td><td></td><td><a class=\"ProveItLink\" href=\"../../../../logic/set_theory/membership/__pv_it/7776fc89cb67d0b5b1ec2c0c8e08da5587921ccf0/expr.ipynb\"><img src=\"../../../../logic/set_theory/membership/__pv_it/7776fc89cb67d0b5b1ec2c0c8e08da5587921ccf0/expr.png\" style=\"display:inline;vertical-align:middle;\" /></a></td></tr>\n",
       "<tr><td>5</td><td>ExprTuple</td><td>7, 8</td><td><a class=\"ProveItLink\" href=\"../bec87c9afa10830d67721c57d7589809406677a10/expr.ipynb\"><img src=\"../bec87c9afa10830d67721c57d7589809406677a10/expr.png\" style=\"display:inline;vertical-align:middle;\" /></a></td></tr>\n",
       "<tr><td>6</td><td>Variable</td><td></td><td><a class=\"ProveItLink\" href=\"../../../../__pv_it/a8d4b3a34d2189508f9082853fbac36935714f280/expr.ipynb\"><img src=\"../../../../__pv_it/a8d4b3a34d2189508f9082853fbac36935714f280/expr.png\" style=\"display:inline;vertical-align:middle;\" /></a></td></tr>\n",
       "<tr><td>7</td><td>Variable</td><td></td><td><a class=\"ProveItLink\" href=\"../../../../__pv_it/53e304ff98ebc000dbe3ef224f4637dbafd46ba70/expr.ipynb\"><img src=\"../../../../__pv_it/53e304ff98ebc000dbe3ef224f4637dbafd46ba70/expr.png\" style=\"display:inline;vertical-align:middle;\" /></a></td></tr>\n",
       "<tr><td>8</td><td>Literal</td><td></td><td><a class=\"ProveItLink\" href=\"../../../sets/complex/__pv_it/8a5866946d766bfd951bcdff07a1a39af0935c430/expr.ipynb\"><img src=\"../../../sets/complex/__pv_it/8a5866946d766bfd951bcdff07a1a39af0935c430/expr.png\" style=\"display:inline;vertical-align:middle;\" /></a></td></tr>\n",
       "</table>\n"
      ],
      "text/plain": [
       "0. (a in Complexes, b in Complexes)\n",
       "   core type: ExprTuple\n",
       "   sub-expressions: 1, 2\n",
       "1. a in Complexes\n",
       "   core type: Operation\n",
       "   operator: 4\n",
       "   operands: 3\n",
       "2. b in Complexes\n",
       "   core type: Operation\n",
       "   operator: 4\n",
       "   operands: 5\n",
       "3. (a, Complexes)\n",
       "   core type: ExprTuple\n",
       "   sub-expressions: 6, 8\n",
       "4. in\n",
       "   core type: Literal\n",
       "   sub-expressions: \n",
       "5. (b, Complexes)\n",
       "   core type: ExprTuple\n",
       "   sub-expressions: 7, 8\n",
       "6. a\n",
       "   core type: Variable\n",
       "   sub-expressions: \n",
       "7. b\n",
       "   core type: Variable\n",
       "   sub-expressions: \n",
       "8. Complexes\n",
       "   core type: Literal\n",
       "   sub-expressions: "
      ]
     },
     "execution_count": 5,
     "metadata": {},
     "output_type": "execute_result"
    }
   ],
   "source": [
    "# display the expression information\n",
    "expr.exprInfo()"
   ]
  },
  {
   "cell_type": "code",
   "execution_count": null,
   "metadata": {},
   "outputs": [],
   "source": []
  }
 ],
 "metadata": {
  "kernelspec": {
   "display_name": "Python 3",
   "language": "python",
   "name": "python3"
  },
  "language_info": {
   "codemirror_mode": {
    "name": "ipython",
    "version": 3
   },
   "file_extension": ".py",
   "mimetype": "text/x-python",
   "name": "python",
   "nbconvert_exporter": "python",
   "pygments_lexer": "ipython3",
   "version": "3.7.3"
  }
 },
 "nbformat": 4,
 "nbformat_minor": 1
}
