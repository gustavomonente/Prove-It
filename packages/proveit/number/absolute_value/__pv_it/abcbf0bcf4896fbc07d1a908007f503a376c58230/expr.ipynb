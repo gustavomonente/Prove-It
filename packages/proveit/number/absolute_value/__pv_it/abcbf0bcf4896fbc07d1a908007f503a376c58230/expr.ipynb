{
 "cells": [
  {
   "cell_type": "markdown",
   "metadata": {},
   "source": [
    "Expression of type <a class=\"ProveItLink\" href=\"../../../../../../doc/html/api/proveit.Conditional.html\">Conditional</a>\n",
    "=======================\n",
    "# from context <a class=\"ProveItLink\" href=\"../../_context_.ipynb\">proveit.number.absolute_value</a>"
   ]
  },
  {
   "cell_type": "code",
   "execution_count": 1,
   "metadata": {},
   "outputs": [],
   "source": [
    "import proveit\n",
    "# Automation is not needed when building an expression:\n",
    "proveit.defaults.automation = False # This will speed things up.\n",
    "proveit.defaults.inline_pngs = False # Makes files smaller.\n",
    "# import Expression classes needed to build the expression\n",
    "from proveit import Conditional, ExprRange, IndexedVar\n",
    "from proveit._common_ import i, n, x\n",
    "from proveit.core_expr_types._common_ import x_1_to_n\n",
    "from proveit.logic import Equals, Forall, InSet\n",
    "from proveit.number import Abs, Complexes, Mult, NaturalsPos, one"
   ]
  },
  {
   "cell_type": "code",
   "execution_count": 2,
   "metadata": {},
   "outputs": [
    {
     "data": {
      "text/html": [
       "<strong id=\"expr\">expr:</strong> <a class=\"ProveItLink\" href=\"expr.ipynb\"><img src=\"expr.png\" style=\"display:inline;vertical-align:middle;\" /></a><br>"
      ],
      "text/plain": [
       "expr: {forall_{x_{1}, ..x_{_a}.., x_{n} in Complexes} (|x_{1} * ..x_{_a}.. * x_{n}| = (|x_{1}| * ..|x_{i}|.. * |x_{n}|)) if n in NaturalsPos."
      ]
     },
     "execution_count": 2,
     "metadata": {},
     "output_type": "execute_result"
    }
   ],
   "source": [
    "# build up the expression from sub-expressions\n",
    "expr = Conditional(Forall([x_1_to_n], Equals(Abs(Mult(x_1_to_n)), Mult(ExprRange(i, Abs(IndexedVar(x, i)), one, n))), domain = Complexes), InSet(n, NaturalsPos))"
   ]
  },
  {
   "cell_type": "code",
   "execution_count": 3,
   "metadata": {},
   "outputs": [
    {
     "name": "stdout",
     "output_type": "stream",
     "text": [
      "Passed sanity check: built 'expr' is the same as the stored Expression.\n"
     ]
    }
   ],
   "source": [
    "# check that the built expression is the same as the stored expression\n",
    "%check_expr"
   ]
  },
  {
   "cell_type": "code",
   "execution_count": 4,
   "metadata": {},
   "outputs": [
    {
     "name": "stdout",
     "output_type": "stream",
     "text": [
      "\\left\\{\\forall_{x_{1}, \\ldots, x_{n} \\in \\mathbb{C}}~\\left(\\left|x_{1} \\cdot \\ldots \\cdot x_{n}\\right| = \\left(\\left|x_{1}\\right| \\cdot \\ldots \\cdot \\left|x_{n}\\right|\\right)\\right) \\textrm{ if } n \\in \\mathbb{N}^+\\right..\n"
     ]
    }
   ],
   "source": [
    "# Show the LaTeX representation of the expression for convenience if you need it.\n",
    "print(expr.latex())"
   ]
  },
  {
   "cell_type": "code",
   "execution_count": 5,
   "metadata": {},
   "outputs": [
    {
     "data": {
      "text/html": [
       "<table><tr><th>&nbsp;</th><th>core type</th><th>sub-expressions</th><th>expression</th></tr>\n",
       "<tr><td>0</td><td>Conditional</td><td>value:&nbsp;1<br>condition:&nbsp;2<br></td><td><a class=\"ProveItLink\" href=\"expr.ipynb\"><img src=\"expr.png\" style=\"display:inline;vertical-align:middle;\" /></a></td></tr>\n",
       "<tr><td>1</td><td>Operation</td><td>operator:&nbsp;3<br>operand:&nbsp;4<br></td><td><a class=\"ProveItLink\" href=\"../e864d833d82552abeb4a33bc17bb2c6ffbca693f0/expr.ipynb\"><img src=\"../e864d833d82552abeb4a33bc17bb2c6ffbca693f0/expr.png\" style=\"display:inline;vertical-align:middle;\" /></a></td></tr>\n",
       "<tr><td>2</td><td>Operation</td><td>operator:&nbsp;26<br>operands:&nbsp;5<br></td><td><a class=\"ProveItLink\" href=\"../a720bba6cdd6f51499c0bd8820ee89528186f3d30/expr.ipynb\"><img src=\"../a720bba6cdd6f51499c0bd8820ee89528186f3d30/expr.png\" style=\"display:inline;vertical-align:middle;\" /></a></td></tr>\n",
       "<tr><td>3</td><td>Literal</td><td></td><td><a class=\"ProveItLink\" href=\"../../../../logic/boolean/quantification/universal/__pv_it/fd9c772d6675566ed52a6897806f45eb08a4ea910/expr.ipynb\"><img src=\"../../../../logic/boolean/quantification/universal/__pv_it/fd9c772d6675566ed52a6897806f45eb08a4ea910/expr.png\" style=\"display:inline;vertical-align:middle;\" /></a></td></tr>\n",
       "<tr><td>4</td><td>Lambda</td><td>parameter:&nbsp;24<br>body:&nbsp;6<br></td><td><a class=\"ProveItLink\" href=\"../4fd12c85636358dcdb5b25666288e95bc731149b0/expr.ipynb\"><img src=\"../4fd12c85636358dcdb5b25666288e95bc731149b0/expr.png\" style=\"display:inline;vertical-align:middle;\" /></a></td></tr>\n",
       "<tr><td>5</td><td>ExprTuple</td><td>30, 7</td><td><a class=\"ProveItLink\" href=\"../e498da148cb0e1035a34d74f79377ecf4d06d21d0/expr.ipynb\"><img src=\"../e498da148cb0e1035a34d74f79377ecf4d06d21d0/expr.png\" style=\"display:inline;vertical-align:middle;\" /></a></td></tr>\n",
       "<tr><td>6</td><td>Conditional</td><td>value:&nbsp;8<br>condition:&nbsp;9<br></td><td><a class=\"ProveItLink\" href=\"../e5fce8dbbd32a68525cf0d11efad953ecb51ec670/expr.ipynb\"><img src=\"../e5fce8dbbd32a68525cf0d11efad953ecb51ec670/expr.png\" style=\"display:inline;vertical-align:middle;\" /></a></td></tr>\n",
       "<tr><td>7</td><td>Literal</td><td></td><td><a class=\"ProveItLink\" href=\"../../../sets/integer/__pv_it/f6a9f4b6dec6ab4d2dcb6ba1b0ba3cceefc643530/expr.ipynb\"><img src=\"../../../sets/integer/__pv_it/f6a9f4b6dec6ab4d2dcb6ba1b0ba3cceefc643530/expr.png\" style=\"display:inline;vertical-align:middle;\" /></a></td></tr>\n",
       "<tr><td>8</td><td>Operation</td><td>operator:&nbsp;10<br>operands:&nbsp;11<br></td><td><a class=\"ProveItLink\" href=\"../b47ead4a3a95f109236682cfbe6bca8d09cc0a110/expr.ipynb\"><img src=\"../b47ead4a3a95f109236682cfbe6bca8d09cc0a110/expr.png\" style=\"display:inline;vertical-align:middle;\" /></a></td></tr>\n",
       "<tr><td>9</td><td>Operation</td><td>operator:&nbsp;12<br>operands:&nbsp;13<br></td><td><a class=\"ProveItLink\" href=\"../fdcf5621f3149cc649d2d6ec917663db81b3d56d0/expr.ipynb\"><img src=\"../fdcf5621f3149cc649d2d6ec917663db81b3d56d0/expr.png\" style=\"display:inline;vertical-align:middle;\" /></a></td></tr>\n",
       "<tr><td>10</td><td>Literal</td><td></td><td><a class=\"ProveItLink\" href=\"../../../../logic/equality/__pv_it/e16d2caa26a16688b658bdb9c422caf4b84579e10/expr.ipynb\"><img src=\"../../../../logic/equality/__pv_it/e16d2caa26a16688b658bdb9c422caf4b84579e10/expr.png\" style=\"display:inline;vertical-align:middle;\" /></a></td></tr>\n",
       "<tr><td>11</td><td>ExprTuple</td><td>14, 15</td><td><a class=\"ProveItLink\" href=\"../214b575a2752b122e4c7ceeec53c0ee70ba33e980/expr.ipynb\"><img src=\"../214b575a2752b122e4c7ceeec53c0ee70ba33e980/expr.png\" style=\"display:inline;vertical-align:middle;\" /></a></td></tr>\n",
       "<tr><td>12</td><td>Literal</td><td></td><td><a class=\"ProveItLink\" href=\"../../../../logic/boolean/conjunction/__pv_it/f41cc6b553210927c09f19a8a39cdf860a5585930/expr.ipynb\"><img src=\"../../../../logic/boolean/conjunction/__pv_it/f41cc6b553210927c09f19a8a39cdf860a5585930/expr.png\" style=\"display:inline;vertical-align:middle;\" /></a></td></tr>\n",
       "<tr><td>13</td><td>ExprTuple</td><td>16</td><td><a class=\"ProveItLink\" href=\"../7fe869caa5a6ae388840ee5700a0e44669e618590/expr.ipynb\"><img src=\"../7fe869caa5a6ae388840ee5700a0e44669e618590/expr.png\" style=\"display:inline;vertical-align:middle;\" /></a></td></tr>\n",
       "<tr><td>14</td><td>Operation</td><td>operator:&nbsp;34<br>operand:&nbsp;17<br></td><td><a class=\"ProveItLink\" href=\"../3fc899fcd0f2419cda6cbf1d42c6be0d1c6d5a910/expr.ipynb\"><img src=\"../3fc899fcd0f2419cda6cbf1d42c6be0d1c6d5a910/expr.png\" style=\"display:inline;vertical-align:middle;\" /></a></td></tr>\n",
       "<tr><td>15</td><td>Operation</td><td>operator:&nbsp;20<br>operands:&nbsp;18<br></td><td><a class=\"ProveItLink\" href=\"../66423e15c7dc7a95f46c842ae064815e427071380/expr.ipynb\"><img src=\"../66423e15c7dc7a95f46c842ae064815e427071380/expr.png\" style=\"display:inline;vertical-align:middle;\" /></a></td></tr>\n",
       "<tr><td>16</td><td>ExprRange</td><td>lambda_map:&nbsp;19<br>start_index:&nbsp;29<br>end_index:&nbsp;30<br></td><td><a class=\"ProveItLink\" href=\"../80e0943f24d44e93d5dd1d47687f8af06e39ba430/expr.ipynb\"><img src=\"../80e0943f24d44e93d5dd1d47687f8af06e39ba430/expr.png\" style=\"display:inline;vertical-align:middle;\" /></a></td></tr>\n",
       "<tr><td>17</td><td>Operation</td><td>operator:&nbsp;20<br>operands:&nbsp;21<br></td><td><a class=\"ProveItLink\" href=\"../40693fa5697b375615842f097258055802ec57ce0/expr.ipynb\"><img src=\"../40693fa5697b375615842f097258055802ec57ce0/expr.png\" style=\"display:inline;vertical-align:middle;\" /></a></td></tr>\n",
       "<tr><td>18</td><td>ExprTuple</td><td>22</td><td><a class=\"ProveItLink\" href=\"../b5c1ae645bc4261b56ee50801908814f3ecfd67b0/expr.ipynb\"><img src=\"../b5c1ae645bc4261b56ee50801908814f3ecfd67b0/expr.png\" style=\"display:inline;vertical-align:middle;\" /></a></td></tr>\n",
       "<tr><td>19</td><td>Lambda</td><td>parameter:&nbsp;36<br>body:&nbsp;23<br></td><td><a class=\"ProveItLink\" href=\"../64305182f0ba86262ba85430fa4c2d54506497fd0/expr.ipynb\"><img src=\"../64305182f0ba86262ba85430fa4c2d54506497fd0/expr.png\" style=\"display:inline;vertical-align:middle;\" /></a></td></tr>\n",
       "<tr><td>20</td><td>Literal</td><td></td><td><a class=\"ProveItLink\" href=\"../../../multiplication/__pv_it/f7a1ed7c35c8c884cf4c236d27cb79bf85638cad0/expr.ipynb\"><img src=\"../../../multiplication/__pv_it/f7a1ed7c35c8c884cf4c236d27cb79bf85638cad0/expr.png\" style=\"display:inline;vertical-align:middle;\" /></a></td></tr>\n",
       "<tr><td>21</td><td>ExprTuple</td><td>24</td><td><a class=\"ProveItLink\" href=\"../44e9035298bc92b31f553197c806ff2c422ace550/expr.ipynb\"><img src=\"../44e9035298bc92b31f553197c806ff2c422ace550/expr.png\" style=\"display:inline;vertical-align:middle;\" /></a></td></tr>\n",
       "<tr><td>22</td><td>ExprRange</td><td>lambda_map:&nbsp;25<br>start_index:&nbsp;29<br>end_index:&nbsp;30<br></td><td><a class=\"ProveItLink\" href=\"../e0d62006c3aa09233cc399a3db85c968e690e38a0/expr.ipynb\"><img src=\"../e0d62006c3aa09233cc399a3db85c968e690e38a0/expr.png\" style=\"display:inline;vertical-align:middle;\" /></a></td></tr>\n",
       "<tr><td>23</td><td>Operation</td><td>operator:&nbsp;26<br>operands:&nbsp;27<br></td><td><a class=\"ProveItLink\" href=\"../91e2e882704b92dd98a9a69bea6aa0a685e24d0e0/expr.ipynb\"><img src=\"../91e2e882704b92dd98a9a69bea6aa0a685e24d0e0/expr.png\" style=\"display:inline;vertical-align:middle;\" /></a></td></tr>\n",
       "<tr><td>24</td><td>ExprRange</td><td>lambda_map:&nbsp;28<br>start_index:&nbsp;29<br>end_index:&nbsp;30<br></td><td><a class=\"ProveItLink\" href=\"../../../../core_expr_types/__pv_it/36b186afc91ba7c57b358c8d856ab3c828e9e2c50/expr.ipynb\"><img src=\"../../../../core_expr_types/__pv_it/36b186afc91ba7c57b358c8d856ab3c828e9e2c50/expr.png\" style=\"display:inline;vertical-align:middle;\" /></a></td></tr>\n",
       "<tr><td>25</td><td>Lambda</td><td>parameter:&nbsp;38<br>body:&nbsp;31<br></td><td><a class=\"ProveItLink\" href=\"../b5776f5be02d0e055df16c69ca351e1ec223a57f0/expr.ipynb\"><img src=\"../b5776f5be02d0e055df16c69ca351e1ec223a57f0/expr.png\" style=\"display:inline;vertical-align:middle;\" /></a></td></tr>\n",
       "<tr><td>26</td><td>Literal</td><td></td><td><a class=\"ProveItLink\" href=\"../../../../logic/set_theory/membership/__pv_it/7776fc89cb67d0b5b1ec2c0c8e08da5587921ccf0/expr.ipynb\"><img src=\"../../../../logic/set_theory/membership/__pv_it/7776fc89cb67d0b5b1ec2c0c8e08da5587921ccf0/expr.png\" style=\"display:inline;vertical-align:middle;\" /></a></td></tr>\n",
       "<tr><td>27</td><td>ExprTuple</td><td>33, 32</td><td><a class=\"ProveItLink\" href=\"../59861983d14b08a1d26c82d192cf58ffa4c7be0e0/expr.ipynb\"><img src=\"../59861983d14b08a1d26c82d192cf58ffa4c7be0e0/expr.png\" style=\"display:inline;vertical-align:middle;\" /></a></td></tr>\n",
       "<tr><td>28</td><td>Lambda</td><td>parameter:&nbsp;36<br>body:&nbsp;33<br></td><td><a class=\"ProveItLink\" href=\"../../../../core_expr_types/__pv_it/15cc35ac7085d75649b82db6beead515f3030ef00/expr.ipynb\"><img src=\"../../../../core_expr_types/__pv_it/15cc35ac7085d75649b82db6beead515f3030ef00/expr.png\" style=\"display:inline;vertical-align:middle;\" /></a></td></tr>\n",
       "<tr><td>29</td><td>Literal</td><td></td><td><a class=\"ProveItLink\" href=\"../../../numeral/__pv_it/f086f8c372bd40a2458306ddfdbb29f3dc6f63030/expr.ipynb\"><img src=\"../../../numeral/__pv_it/f086f8c372bd40a2458306ddfdbb29f3dc6f63030/expr.png\" style=\"display:inline;vertical-align:middle;\" /></a></td></tr>\n",
       "<tr><td>30</td><td>Variable</td><td></td><td><a class=\"ProveItLink\" href=\"../../../../__pv_it/0c1c4cb515e0f4344b1ac06650f349123e526deb0/expr.ipynb\"><img src=\"../../../../__pv_it/0c1c4cb515e0f4344b1ac06650f349123e526deb0/expr.png\" style=\"display:inline;vertical-align:middle;\" /></a></td></tr>\n",
       "<tr><td>31</td><td>Operation</td><td>operator:&nbsp;34<br>operand:&nbsp;35<br></td><td><a class=\"ProveItLink\" href=\"../bf2fbfd4ba318e8b5b8ba35136a2a43c076198d40/expr.ipynb\"><img src=\"../bf2fbfd4ba318e8b5b8ba35136a2a43c076198d40/expr.png\" style=\"display:inline;vertical-align:middle;\" /></a></td></tr>\n",
       "<tr><td>32</td><td>Literal</td><td></td><td><a class=\"ProveItLink\" href=\"../../../sets/complex/__pv_it/8a5866946d766bfd951bcdff07a1a39af0935c430/expr.ipynb\"><img src=\"../../../sets/complex/__pv_it/8a5866946d766bfd951bcdff07a1a39af0935c430/expr.png\" style=\"display:inline;vertical-align:middle;\" /></a></td></tr>\n",
       "<tr><td>33</td><td>IndexedVar</td><td>variable:&nbsp;37<br>index:&nbsp;36<br></td><td><a class=\"ProveItLink\" href=\"../../../../core_expr_types/__pv_it/12d6cd514f4a6eb41d13ff30f08a9d01f2c4f4ba0/expr.ipynb\"><img src=\"../../../../core_expr_types/__pv_it/12d6cd514f4a6eb41d13ff30f08a9d01f2c4f4ba0/expr.png\" style=\"display:inline;vertical-align:middle;\" /></a></td></tr>\n",
       "<tr><td>34</td><td>Literal</td><td></td><td><a class=\"ProveItLink\" href=\"../7544068c562adda5a47015617159d2bf52fb23810/expr.ipynb\"><img src=\"../7544068c562adda5a47015617159d2bf52fb23810/expr.png\" style=\"display:inline;vertical-align:middle;\" /></a></td></tr>\n",
       "<tr><td>35</td><td>IndexedVar</td><td>variable:&nbsp;37<br>index:&nbsp;38<br></td><td><a class=\"ProveItLink\" href=\"../5806935187de2ebea4a8552dee6b2164eb38f3ad0/expr.ipynb\"><img src=\"../5806935187de2ebea4a8552dee6b2164eb38f3ad0/expr.png\" style=\"display:inline;vertical-align:middle;\" /></a></td></tr>\n",
       "<tr><td>36</td><td>Variable</td><td></td><td><a class=\"ProveItLink\" href=\"../../../../core_expr_types/__pv_it/1e653f789234b245ee7fea7caad998c139d617410/expr.ipynb\"><img src=\"../../../../core_expr_types/__pv_it/1e653f789234b245ee7fea7caad998c139d617410/expr.png\" style=\"display:inline;vertical-align:middle;\" /></a></td></tr>\n",
       "<tr><td>37</td><td>Variable</td><td></td><td><a class=\"ProveItLink\" href=\"../../../../__pv_it/72df168d2bfb4e0140af90912ebf83b13772060b0/expr.ipynb\"><img src=\"../../../../__pv_it/72df168d2bfb4e0140af90912ebf83b13772060b0/expr.png\" style=\"display:inline;vertical-align:middle;\" /></a></td></tr>\n",
       "<tr><td>38</td><td>Variable</td><td></td><td><a class=\"ProveItLink\" href=\"../../../../__pv_it/557ab5defdcd46aa58168b08767502985122cd490/expr.ipynb\"><img src=\"../../../../__pv_it/557ab5defdcd46aa58168b08767502985122cd490/expr.png\" style=\"display:inline;vertical-align:middle;\" /></a></td></tr>\n",
       "</table>\n"
      ],
      "text/plain": [
       "0. {forall_{x_{1}, ..x_{_a}.., x_{n} in Complexes} (|x_{1} * ..x_{_a}.. * x_{n}| = (|x_{1}| * ..|x_{i}|.. * |x_{n}|)) if n in NaturalsPos.\n",
       "   core type: Conditional\n",
       "   value: 1\n",
       "   condition: 2\n",
       "1. forall_{x_{1}, ..x_{_a}.., x_{n} in Complexes} (|x_{1} * ..x_{_a}.. * x_{n}| = (|x_{1}| * ..|x_{i}|.. * |x_{n}|))\n",
       "   core type: Operation\n",
       "   operator: 3\n",
       "   operand: 4\n",
       "2. n in NaturalsPos\n",
       "   core type: Operation\n",
       "   operator: 26\n",
       "   operands: 5\n",
       "3. forall\n",
       "   core type: Literal\n",
       "   sub-expressions: \n",
       "4. (x_{1}, ..x_{_a}.., x_{n}) -> {|x_{1} * ..x_{_a}.. * x_{n}| = (|x_{1}| * ..|x_{i}|.. * |x_{n}|) if (x_{1} in Complexes) and ..(x_{_a} in Complexes).. and (x_{n} in Complexes).\n",
       "   core type: Lambda\n",
       "   parameter: 24\n",
       "   body: 6\n",
       "5. (n, NaturalsPos)\n",
       "   core type: ExprTuple\n",
       "   sub-expressions: 30, 7\n",
       "6. {|x_{1} * ..x_{_a}.. * x_{n}| = (|x_{1}| * ..|x_{i}|.. * |x_{n}|) if (x_{1} in Complexes) and ..(x_{_a} in Complexes).. and (x_{n} in Complexes).\n",
       "   core type: Conditional\n",
       "   value: 8\n",
       "   condition: 9\n",
       "7. NaturalsPos\n",
       "   core type: Literal\n",
       "   sub-expressions: \n",
       "8. |x_{1} * ..x_{_a}.. * x_{n}| = (|x_{1}| * ..|x_{i}|.. * |x_{n}|)\n",
       "   core type: Operation\n",
       "   operator: 10\n",
       "   operands: 11\n",
       "9. (x_{1} in Complexes) and ..(x_{_a} in Complexes).. and (x_{n} in Complexes)\n",
       "   core type: Operation\n",
       "   operator: 12\n",
       "   operands: 13\n",
       "10. =\n",
       "    core type: Literal\n",
       "    sub-expressions: \n",
       "11. (|x_{1} * ..x_{_a}.. * x_{n}|, |x_{1}| * ..|x_{i}|.. * |x_{n}|)\n",
       "    core type: ExprTuple\n",
       "    sub-expressions: 14, 15\n",
       "12. and\n",
       "    core type: Literal\n",
       "    sub-expressions: \n",
       "13. (x_{1} in Complexes, ..x_{_a} in Complexes.., x_{n} in Complexes)\n",
       "    core type: ExprTuple\n",
       "    sub-expressions: 16\n",
       "14. |x_{1} * ..x_{_a}.. * x_{n}|\n",
       "    core type: Operation\n",
       "    operator: 34\n",
       "    operand: 17\n",
       "15. |x_{1}| * ..|x_{i}|.. * |x_{n}|\n",
       "    core type: Operation\n",
       "    operator: 20\n",
       "    operands: 18\n",
       "16. (x_{1} in Complexes), ..(x_{_a} in Complexes).., (x_{n} in Complexes)\n",
       "    core type: ExprRange\n",
       "    lambda_map: 19\n",
       "    start_index: 29\n",
       "    end_index: 30\n",
       "17. x_{1} * ..x_{_a}.. * x_{n}\n",
       "    core type: Operation\n",
       "    operator: 20\n",
       "    operands: 21\n",
       "18. (|x_{1}|, ..|x_{i}|.., |x_{n}|)\n",
       "    core type: ExprTuple\n",
       "    sub-expressions: 22\n",
       "19. _a -> (x_{_a} in Complexes)\n",
       "    core type: Lambda\n",
       "    parameter: 36\n",
       "    body: 23\n",
       "20. *\n",
       "    core type: Literal\n",
       "    sub-expressions: \n",
       "21. (x_{1}, ..x_{_a}.., x_{n})\n",
       "    core type: ExprTuple\n",
       "    sub-expressions: 24\n",
       "22. |x_{1}|, ..|x_{i}|.., |x_{n}|\n",
       "    core type: ExprRange\n",
       "    lambda_map: 25\n",
       "    start_index: 29\n",
       "    end_index: 30\n",
       "23. x_{_a} in Complexes\n",
       "    core type: Operation\n",
       "    operator: 26\n",
       "    operands: 27\n",
       "24. x_{1}, ..x_{_a}.., x_{n}\n",
       "    core type: ExprRange\n",
       "    lambda_map: 28\n",
       "    start_index: 29\n",
       "    end_index: 30\n",
       "25. i -> |x_{i}|\n",
       "    core type: Lambda\n",
       "    parameter: 38\n",
       "    body: 31\n",
       "26. in\n",
       "    core type: Literal\n",
       "    sub-expressions: \n",
       "27. (x_{_a}, Complexes)\n",
       "    core type: ExprTuple\n",
       "    sub-expressions: 33, 32\n",
       "28. _a -> x_{_a}\n",
       "    core type: Lambda\n",
       "    parameter: 36\n",
       "    body: 33\n",
       "29. 1\n",
       "    core type: Literal\n",
       "    sub-expressions: \n",
       "30. n\n",
       "    core type: Variable\n",
       "    sub-expressions: \n",
       "31. |x_{i}|\n",
       "    core type: Operation\n",
       "    operator: 34\n",
       "    operand: 35\n",
       "32. Complexes\n",
       "    core type: Literal\n",
       "    sub-expressions: \n",
       "33. x_{_a}\n",
       "    core type: IndexedVar\n",
       "variable: 37\n",
       "index: 36\n",
       "34. Abs\n",
       "    core type: Literal\n",
       "    sub-expressions: \n",
       "35. x_{i}\n",
       "    core type: IndexedVar\n",
       "variable: 37\n",
       "index: 38\n",
       "36. _a\n",
       "    core type: Variable\n",
       "    sub-expressions: \n",
       "37. x\n",
       "    core type: Variable\n",
       "    sub-expressions: \n",
       "38. i\n",
       "    core type: Variable\n",
       "    sub-expressions: "
      ]
     },
     "execution_count": 5,
     "metadata": {},
     "output_type": "execute_result"
    }
   ],
   "source": [
    "# display the expression information\n",
    "expr.exprInfo()"
   ]
  },
  {
   "cell_type": "code",
   "execution_count": null,
   "metadata": {},
   "outputs": [],
   "source": []
  }
 ],
 "metadata": {
  "kernelspec": {
   "display_name": "Python 3",
   "language": "python",
   "name": "python3"
  },
  "language_info": {
   "codemirror_mode": {
    "name": "ipython",
    "version": 3
   },
   "file_extension": ".py",
   "mimetype": "text/x-python",
   "name": "python",
   "nbconvert_exporter": "python",
   "pygments_lexer": "ipython3",
   "version": "3.7.3"
  }
 },
 "nbformat": 4,
 "nbformat_minor": 1
}
