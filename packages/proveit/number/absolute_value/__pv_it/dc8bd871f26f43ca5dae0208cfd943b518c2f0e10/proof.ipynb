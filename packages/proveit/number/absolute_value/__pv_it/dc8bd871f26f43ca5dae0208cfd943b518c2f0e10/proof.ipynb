{
 "cells": [
  {
   "cell_type": "markdown",
   "metadata": {},
   "source": [
    "Show the Proof\n",
    "========"
   ]
  },
  {
   "cell_type": "code",
   "execution_count": 1,
   "metadata": {},
   "outputs": [
    {
     "data": {
      "text/html": [
       "<table><tr><th>&nbsp;</th><th>step type</th><th>requirements</th><th>statement</th></tr>\n",
       "<tr><td><a name=\"proveit.number.absolute_value.dc8bd871f26f43ca5dae0208cfd943b518c2f0e10_step0\">0</a></td><td>instantiation</td><td><a href=\"#proveit.number.absolute_value.dc8bd871f26f43ca5dae0208cfd943b518c2f0e10_step1\">1</a>, <a href=\"#proveit.number.absolute_value.dc8bd871f26f43ca5dae0208cfd943b518c2f0e10_step2\">2</a>, <a href=\"#proveit.number.absolute_value.dc8bd871f26f43ca5dae0208cfd943b518c2f0e10_step3\">3</a></td><td><span style=\"font-size:20px;\"><a class=\"ProveItLink\" href=\"../73fb0879000c2b9ea3d05bf7f399c7fc4bf2ba380/expr.ipynb\"><img src=\"../73fb0879000c2b9ea3d05bf7f399c7fc4bf2ba380/expr.png\" style=\"display:inline;vertical-align:middle;\" /></a> <a class=\"ProveItLink\" href=\"proof.ipynb\" style=\"text-decoration: none\">&#x22A2;&nbsp;</a><a class=\"ProveItLink\" href=\"../95df97c34da7b3464cf6fd37240351be737674bc0/expr.ipynb\"><img src=\"../95df97c34da7b3464cf6fd37240351be737674bc0/expr.png\" style=\"display:inline;vertical-align:middle;\" /></a></span></td></tr>\n",
       "<tr><td>&nbsp;</td><td colspan=4 style=\"text-align:left\"><span style=\"font-size:20px;\"><a class=\"ProveItLink\" href=\"../../../../__pv_it/d3792d0d8642fdf1cd2a3a9b32c673ee13653de00/expr.ipynb\"><img src=\"../../../../__pv_it/d3792d0d8642fdf1cd2a3a9b32c673ee13653de00/expr.png\" style=\"display:inline;vertical-align:middle;\" /></a> : <a class=\"ProveItLink\" href=\"../../../sets/real/__pv_it/83c2d223a7b04200651811c8b29e747fd8f853510/expr.ipynb\"><img src=\"../../../sets/real/__pv_it/83c2d223a7b04200651811c8b29e747fd8f853510/expr.png\" style=\"display:inline;vertical-align:middle;\" /></a>, <a class=\"ProveItLink\" href=\"../../../../__pv_it/4d98b438710c5ada9ffa4646bb123a7d0e69ec000/expr.ipynb\"><img src=\"../../../../__pv_it/4d98b438710c5ada9ffa4646bb123a7d0e69ec000/expr.png\" style=\"display:inline;vertical-align:middle;\" /></a> : <a class=\"ProveItLink\" href=\"../../../sets/complex/__pv_it/8a5866946d766bfd951bcdff07a1a39af0935c430/expr.ipynb\"><img src=\"../../../sets/complex/__pv_it/8a5866946d766bfd951bcdff07a1a39af0935c430/expr.png\" style=\"display:inline;vertical-align:middle;\" /></a>, <a class=\"ProveItLink\" href=\"../../../../__pv_it/72df168d2bfb4e0140af90912ebf83b13772060b0/expr.ipynb\"><img src=\"../../../../__pv_it/72df168d2bfb4e0140af90912ebf83b13772060b0/expr.png\" style=\"display:inline;vertical-align:middle;\" /></a> : <a class=\"ProveItLink\" href=\"../../../../__pv_it/53e304ff98ebc000dbe3ef224f4637dbafd46ba70/expr.ipynb\"><img src=\"../../../../__pv_it/53e304ff98ebc000dbe3ef224f4637dbafd46ba70/expr.png\" style=\"display:inline;vertical-align:middle;\" /></a></span></td></tr><tr><td><a name=\"proveit.number.absolute_value.dc8bd871f26f43ca5dae0208cfd943b518c2f0e10_step1\">1</a></td><td>theorem</td><td></td><td><span style=\"font-size:20px;\"> <a class=\"ProveItLink\" href=\"../../../../logic/set_theory/containment/_proofs_/unfoldSubsetEq.ipynb\" style=\"text-decoration: none\">&#x22A2;&nbsp;</a><a class=\"ProveItLink\" href=\"../213ae6077c60aaf0fff94fc6b94bbccff0f578a20/expr.ipynb\"><img src=\"../213ae6077c60aaf0fff94fc6b94bbccff0f578a20/expr.png\" style=\"display:inline;vertical-align:middle;\" /></a></span></td></tr>\n",
       "<tr><td>&nbsp;</td><td colspan=4 style-\"text-align:left\"><a class=\"ProveItLink\" href=\"../../../../logic/set_theory/containment/_proofs_/unfoldSubsetEq.ipynb\">proveit.logic.set_theory.containment.unfoldSubsetEq</a></td></tr><tr><td><a name=\"proveit.number.absolute_value.dc8bd871f26f43ca5dae0208cfd943b518c2f0e10_step2\">2</a></td><td>instantiation</td><td><a href=\"#proveit.number.absolute_value.dc8bd871f26f43ca5dae0208cfd943b518c2f0e10_step4\">4</a>, <a href=\"#proveit.number.absolute_value.dc8bd871f26f43ca5dae0208cfd943b518c2f0e10_step5\">5</a></td><td><span style=\"font-size:20px;\"> <a class=\"ProveItLink\" href=\"../1f1d0f6f5c283ac23504e3a5a421c3b6481ee7f90/proof.ipynb\" style=\"text-decoration: none\">&#x22A2;&nbsp;</a><a class=\"ProveItLink\" href=\"../d286587b47875f276d0d8200d1d987823a9c70910/expr.ipynb\"><img src=\"../d286587b47875f276d0d8200d1d987823a9c70910/expr.png\" style=\"display:inline;vertical-align:middle;\" /></a></span></td></tr>\n",
       "<tr><td>&nbsp;</td><td colspan=4 style=\"text-align:left\"><span style=\"font-size:20px;\"><a class=\"ProveItLink\" href=\"../../../../__pv_it/d3792d0d8642fdf1cd2a3a9b32c673ee13653de00/expr.ipynb\"><img src=\"../../../../__pv_it/d3792d0d8642fdf1cd2a3a9b32c673ee13653de00/expr.png\" style=\"display:inline;vertical-align:middle;\" /></a> : <a class=\"ProveItLink\" href=\"../../../sets/real/__pv_it/83c2d223a7b04200651811c8b29e747fd8f853510/expr.ipynb\"><img src=\"../../../sets/real/__pv_it/83c2d223a7b04200651811c8b29e747fd8f853510/expr.png\" style=\"display:inline;vertical-align:middle;\" /></a>, <a class=\"ProveItLink\" href=\"../../../../__pv_it/4d98b438710c5ada9ffa4646bb123a7d0e69ec000/expr.ipynb\"><img src=\"../../../../__pv_it/4d98b438710c5ada9ffa4646bb123a7d0e69ec000/expr.png\" style=\"display:inline;vertical-align:middle;\" /></a> : <a class=\"ProveItLink\" href=\"../../../sets/complex/__pv_it/8a5866946d766bfd951bcdff07a1a39af0935c430/expr.ipynb\"><img src=\"../../../sets/complex/__pv_it/8a5866946d766bfd951bcdff07a1a39af0935c430/expr.png\" style=\"display:inline;vertical-align:middle;\" /></a></span></td></tr><tr><td><a name=\"proveit.number.absolute_value.dc8bd871f26f43ca5dae0208cfd943b518c2f0e10_step3\">3</a></td><td>instantiation</td><td><a href=\"#proveit.number.absolute_value.dc8bd871f26f43ca5dae0208cfd943b518c2f0e10_step6\">6</a>, <a href=\"#proveit.number.absolute_value.dc8bd871f26f43ca5dae0208cfd943b518c2f0e10_step7\">7</a>, <a href=\"#proveit.number.absolute_value.dc8bd871f26f43ca5dae0208cfd943b518c2f0e10_step8\">8</a></td><td><span style=\"font-size:20px;\"><a class=\"ProveItLink\" href=\"../73fb0879000c2b9ea3d05bf7f399c7fc4bf2ba380/expr.ipynb\"><img src=\"../73fb0879000c2b9ea3d05bf7f399c7fc4bf2ba380/expr.png\" style=\"display:inline;vertical-align:middle;\" /></a> <a class=\"ProveItLink\" href=\"../dca5832e3e4a321cb9700934b7030a0f8a7be0fe0/proof.ipynb\" style=\"text-decoration: none\">&#x22A2;&nbsp;</a><a class=\"ProveItLink\" href=\"../002870e764fad69e198f19071a0b3ebfa72a6acb0/expr.ipynb\"><img src=\"../002870e764fad69e198f19071a0b3ebfa72a6acb0/expr.png\" style=\"display:inline;vertical-align:middle;\" /></a></span></td></tr>\n",
       "<tr><td>&nbsp;</td><td colspan=4 style=\"text-align:left\"><span style=\"font-size:20px;\"><a class=\"ProveItLink\" href=\"../../../../__pv_it/d3792d0d8642fdf1cd2a3a9b32c673ee13653de00/expr.ipynb\"><img src=\"../../../../__pv_it/d3792d0d8642fdf1cd2a3a9b32c673ee13653de00/expr.png\" style=\"display:inline;vertical-align:middle;\" /></a> : <a class=\"ProveItLink\" href=\"../../../sets/real/__pv_it/72b616667ef68a72fe27a9e4d11052f53a16c06e0/expr.ipynb\"><img src=\"../../../sets/real/__pv_it/72b616667ef68a72fe27a9e4d11052f53a16c06e0/expr.png\" style=\"display:inline;vertical-align:middle;\" /></a>, <a class=\"ProveItLink\" href=\"../../../../__pv_it/4d98b438710c5ada9ffa4646bb123a7d0e69ec000/expr.ipynb\"><img src=\"../../../../__pv_it/4d98b438710c5ada9ffa4646bb123a7d0e69ec000/expr.png\" style=\"display:inline;vertical-align:middle;\" /></a> : <a class=\"ProveItLink\" href=\"../../../sets/real/__pv_it/83c2d223a7b04200651811c8b29e747fd8f853510/expr.ipynb\"><img src=\"../../../sets/real/__pv_it/83c2d223a7b04200651811c8b29e747fd8f853510/expr.png\" style=\"display:inline;vertical-align:middle;\" /></a>, <a class=\"ProveItLink\" href=\"../../../../__pv_it/72df168d2bfb4e0140af90912ebf83b13772060b0/expr.ipynb\"><img src=\"../../../../__pv_it/72df168d2bfb4e0140af90912ebf83b13772060b0/expr.png\" style=\"display:inline;vertical-align:middle;\" /></a> : <a class=\"ProveItLink\" href=\"../../../../__pv_it/53e304ff98ebc000dbe3ef224f4637dbafd46ba70/expr.ipynb\"><img src=\"../../../../__pv_it/53e304ff98ebc000dbe3ef224f4637dbafd46ba70/expr.png\" style=\"display:inline;vertical-align:middle;\" /></a></span></td></tr><tr><td><a name=\"proveit.number.absolute_value.dc8bd871f26f43ca5dae0208cfd943b518c2f0e10_step4\">4</a></td><td>theorem</td><td></td><td><span style=\"font-size:20px;\"> <a class=\"ProveItLink\" href=\"../../../../logic/set_theory/containment/_proofs_/relaxSubset.ipynb\" style=\"text-decoration: none\">&#x22A2;&nbsp;</a><a class=\"ProveItLink\" href=\"../3229f3ba5e3078695fa34b08f798280235d47df40/expr.ipynb\"><img src=\"../3229f3ba5e3078695fa34b08f798280235d47df40/expr.png\" style=\"display:inline;vertical-align:middle;\" /></a></span></td></tr>\n",
       "<tr><td>&nbsp;</td><td colspan=4 style-\"text-align:left\"><a class=\"ProveItLink\" href=\"../../../../logic/set_theory/containment/_proofs_/relaxSubset.ipynb\">proveit.logic.set_theory.containment.relaxSubset</a></td></tr><tr><td><a name=\"proveit.number.absolute_value.dc8bd871f26f43ca5dae0208cfd943b518c2f0e10_step5\">5</a></td><td>theorem</td><td></td><td><span style=\"font-size:20px;\"> <a class=\"ProveItLink\" href=\"../../../sets/complex/_proofs_/realsInComplexes.ipynb\" style=\"text-decoration: none\">&#x22A2;&nbsp;</a><a class=\"ProveItLink\" href=\"../9ab09d1c46e980a082327ae643235c405012c3320/expr.ipynb\"><img src=\"../9ab09d1c46e980a082327ae643235c405012c3320/expr.png\" style=\"display:inline;vertical-align:middle;\" /></a></span></td></tr>\n",
       "<tr><td>&nbsp;</td><td colspan=4 style-\"text-align:left\"><a class=\"ProveItLink\" href=\"../../../sets/complex/_proofs_/realsInComplexes.ipynb\">proveit.number.sets.complex.realsInComplexes</a></td></tr><tr><td><a name=\"proveit.number.absolute_value.dc8bd871f26f43ca5dae0208cfd943b518c2f0e10_step6\">6</a></td><td>theorem</td><td></td><td><span style=\"font-size:20px;\"> <a class=\"ProveItLink\" href=\"../../../../logic/set_theory/containment/_proofs_/supersetMembershipFromSubset.ipynb\" style=\"text-decoration: none\">&#x22A2;&nbsp;</a><a class=\"ProveItLink\" href=\"../03e1fcccf007f59c5c1c5c1cbf1307039bd764420/expr.ipynb\"><img src=\"../03e1fcccf007f59c5c1c5c1cbf1307039bd764420/expr.png\" style=\"display:inline;vertical-align:middle;\" /></a></span></td></tr>\n",
       "<tr><td>&nbsp;</td><td colspan=4 style-\"text-align:left\"><a class=\"ProveItLink\" href=\"../../../../logic/set_theory/containment/_proofs_/supersetMembershipFromSubset.ipynb\">proveit.logic.set_theory.containment.supersetMembershipFromSubset</a></td></tr><tr><td><a name=\"proveit.number.absolute_value.dc8bd871f26f43ca5dae0208cfd943b518c2f0e10_step7\">7</a></td><td>theorem</td><td></td><td><span style=\"font-size:20px;\"> <a class=\"ProveItLink\" href=\"../../../sets/real/_proofs_/realsNegInReals.ipynb\" style=\"text-decoration: none\">&#x22A2;&nbsp;</a><a class=\"ProveItLink\" href=\"../c0baf18f71293873118368df466ee0f6d7273d330/expr.ipynb\"><img src=\"../c0baf18f71293873118368df466ee0f6d7273d330/expr.png\" style=\"display:inline;vertical-align:middle;\" /></a></span></td></tr>\n",
       "<tr><td>&nbsp;</td><td colspan=4 style-\"text-align:left\"><a class=\"ProveItLink\" href=\"../../../sets/real/_proofs_/realsNegInReals.ipynb\">proveit.number.sets.real.realsNegInReals</a></td></tr><tr><td><a name=\"proveit.number.absolute_value.dc8bd871f26f43ca5dae0208cfd943b518c2f0e10_step8\">8</a></td><td>assumption</td><td></td><td><span style=\"font-size:20px;\"><a class=\"ProveItLink\" href=\"../73fb0879000c2b9ea3d05bf7f399c7fc4bf2ba380/expr.ipynb\"><img src=\"../73fb0879000c2b9ea3d05bf7f399c7fc4bf2ba380/expr.png\" style=\"display:inline;vertical-align:middle;\" /></a> <a class=\"ProveItLink\" href=\"../8f7f087a1288fd5826b41aaf7ff2502bd157ad9d0/proof.ipynb\" style=\"text-decoration: none\">&#x22A2;&nbsp;</a><a class=\"ProveItLink\" href=\"../ebeb3a8796a110e30846cb2c907acb3520c46a940/expr.ipynb\"><img src=\"../ebeb3a8796a110e30846cb2c907acb3520c46a940/expr.png\" style=\"display:inline;vertical-align:middle;\" /></a></span></td></tr>\n",
       "</table>"
      ],
      "text/plain": [
       "<proveit._core_.proof._ShowProof at 0x7f5b98286f98>"
      ]
     },
     "execution_count": 1,
     "metadata": {},
     "output_type": "execute_result"
    }
   ],
   "source": [
    "import proveit\n",
    "# Automation is not needed when only showing a stored proof:\n",
    "proveit.defaults.automation = False # This will speed things up.\n",
    "proveit.defaults.inline_pngs = False # Makes files smaller.\n",
    "%show_proof"
   ]
  },
  {
   "cell_type": "code",
   "execution_count": null,
   "metadata": {},
   "outputs": [],
   "source": []
  }
 ],
 "metadata": {
  "kernelspec": {
   "display_name": "Python 3",
   "language": "python",
   "name": "python3"
  },
  "language_info": {
   "codemirror_mode": {
    "name": "ipython",
    "version": 3
   },
   "file_extension": ".py",
   "mimetype": "text/x-python",
   "name": "python",
   "nbconvert_exporter": "python",
   "pygments_lexer": "ipython3",
   "version": "3.7.3"
  }
 },
 "nbformat": 4,
 "nbformat_minor": 1
}
