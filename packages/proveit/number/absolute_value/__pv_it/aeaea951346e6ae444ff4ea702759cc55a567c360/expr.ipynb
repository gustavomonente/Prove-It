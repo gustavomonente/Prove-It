{
 "cells": [
  {
   "cell_type": "markdown",
   "metadata": {},
   "source": [
    "Expression of type <a class=\"ProveItLink\" href=\"../../../../../../doc/html/api/proveit.logic.Forall.html\">Forall</a>\n",
    "=======================\n",
    "# from context <a class=\"ProveItLink\" href=\"../../_context_.ipynb\">proveit.number.absolute_value</a>"
   ]
  },
  {
   "cell_type": "code",
   "execution_count": 1,
   "metadata": {},
   "outputs": [],
   "source": [
    "import proveit\n",
    "# Automation is not needed when building an expression:\n",
    "proveit.defaults.automation = False # This will speed things up.\n",
    "proveit.defaults.inline_pngs = False # Makes files smaller.\n",
    "# import Expression classes needed to build the expression\n",
    "from proveit._common_ import i\n",
    "from proveit.core_expr_types._common_ import a_1_to_i\n",
    "from proveit.logic import Forall, InSet\n",
    "from proveit.number import Add, Naturals, RealsNonNeg"
   ]
  },
  {
   "cell_type": "code",
   "execution_count": 2,
   "metadata": {},
   "outputs": [
    {
     "data": {
      "text/html": [
       "<strong id=\"expr\">expr:</strong> <a class=\"ProveItLink\" href=\"../04f526d6966aa65c6b9c9ef30d427c7a9a8fd8030/expr.ipynb\"><img src=\"../04f526d6966aa65c6b9c9ef30d427c7a9a8fd8030/expr.png\" style=\"display:inline;vertical-align:middle;\" /></a><br>"
      ],
      "text/plain": [
       "expr: forall_{i in Naturals} [forall_{a_{1}, ..a_{_a}.., a_{i} in RealsNonNeg} ((a_{1} + ..a_{_a}.. + a_{i}) in RealsNonNeg)]"
      ]
     },
     "execution_count": 2,
     "metadata": {},
     "output_type": "execute_result"
    }
   ],
   "source": [
    "# build up the expression from sub-expressions\n",
    "expr = Forall([i], Forall([a_1_to_i], InSet(Add(a_1_to_i), RealsNonNeg), domain = RealsNonNeg), domain = Naturals)"
   ]
  },
  {
   "cell_type": "code",
   "execution_count": 3,
   "metadata": {},
   "outputs": [
    {
     "name": "stdout",
     "output_type": "stream",
     "text": [
      "Passed sanity check: built 'expr' is the same as the stored Expression.\n"
     ]
    }
   ],
   "source": [
    "# check that the built expression is the same as the stored expression\n",
    "%check_expr"
   ]
  },
  {
   "cell_type": "code",
   "execution_count": 4,
   "metadata": {},
   "outputs": [
    {
     "name": "stdout",
     "output_type": "stream",
     "text": [
      "\\forall_{i \\in \\mathbb{N}}~\\left[\\forall_{a_{1}, \\ldots, a_{i} \\in \\mathbb{R}^{\\ge 0}}~\\left(\\left(a_{1} + \\ldots + a_{i}\\right) \\in \\mathbb{R}^{\\ge 0}\\right)\\right]\n"
     ]
    }
   ],
   "source": [
    "# Show the LaTeX representation of the expression for convenience if you need it.\n",
    "print(expr.latex())"
   ]
  },
  {
   "cell_type": "code",
   "execution_count": 5,
   "metadata": {},
   "outputs": [
    {
     "data": {
      "text/html": [
       "<table><tr><th>&nbsp;</th><th>core type</th><th>sub-expressions</th><th>expression</th></tr>\n",
       "<tr><td>0</td><td>Operation</td><td>operator:&nbsp;5<br>operand:&nbsp;1<br></td><td><a class=\"ProveItLink\" href=\"../04f526d6966aa65c6b9c9ef30d427c7a9a8fd8030/expr.ipynb\"><img src=\"../04f526d6966aa65c6b9c9ef30d427c7a9a8fd8030/expr.png\" style=\"display:inline;vertical-align:middle;\" /></a></td></tr>\n",
       "<tr><td>1</td><td>Lambda</td><td>parameter:&nbsp;24<br>body:&nbsp;2<br></td><td><a class=\"ProveItLink\" href=\"../9d5865299c2f3677500e0c1582b96323038da1900/expr.ipynb\"><img src=\"../9d5865299c2f3677500e0c1582b96323038da1900/expr.png\" style=\"display:inline;vertical-align:middle;\" /></a></td></tr>\n",
       "<tr><td>2</td><td>Conditional</td><td>value:&nbsp;3<br>condition:&nbsp;4<br></td><td><a class=\"ProveItLink\" href=\"../6ec7466f12d979775d738ecbb39563d6835f83550/expr.ipynb\"><img src=\"../6ec7466f12d979775d738ecbb39563d6835f83550/expr.png\" style=\"display:inline;vertical-align:middle;\" /></a></td></tr>\n",
       "<tr><td>3</td><td>Operation</td><td>operator:&nbsp;5<br>operand:&nbsp;6<br></td><td><a class=\"ProveItLink\" href=\"../11f87e659ebe4a31ce53637b2f70f23e08dc66080/expr.ipynb\"><img src=\"../11f87e659ebe4a31ce53637b2f70f23e08dc66080/expr.png\" style=\"display:inline;vertical-align:middle;\" /></a></td></tr>\n",
       "<tr><td>4</td><td>Operation</td><td>operator:&nbsp;25<br>operands:&nbsp;7<br></td><td><a class=\"ProveItLink\" href=\"../1574b47177a5c3d1f67d6b05ac3a78b63f89a71d0/expr.ipynb\"><img src=\"../1574b47177a5c3d1f67d6b05ac3a78b63f89a71d0/expr.png\" style=\"display:inline;vertical-align:middle;\" /></a></td></tr>\n",
       "<tr><td>5</td><td>Literal</td><td></td><td><a class=\"ProveItLink\" href=\"../../../../logic/boolean/quantification/universal/__pv_it/fd9c772d6675566ed52a6897806f45eb08a4ea910/expr.ipynb\"><img src=\"../../../../logic/boolean/quantification/universal/__pv_it/fd9c772d6675566ed52a6897806f45eb08a4ea910/expr.png\" style=\"display:inline;vertical-align:middle;\" /></a></td></tr>\n",
       "<tr><td>6</td><td>Lambda</td><td>parameter:&nbsp;20<br>body:&nbsp;8<br></td><td><a class=\"ProveItLink\" href=\"../e521bbe620316bcf1fcd665bee90894ed989791a0/expr.ipynb\"><img src=\"../e521bbe620316bcf1fcd665bee90894ed989791a0/expr.png\" style=\"display:inline;vertical-align:middle;\" /></a></td></tr>\n",
       "<tr><td>7</td><td>ExprTuple</td><td>24, 9</td><td><a class=\"ProveItLink\" href=\"../6db1c2cd42d8864aeef6770d5b1924842513ba650/expr.ipynb\"><img src=\"../6db1c2cd42d8864aeef6770d5b1924842513ba650/expr.png\" style=\"display:inline;vertical-align:middle;\" /></a></td></tr>\n",
       "<tr><td>8</td><td>Conditional</td><td>value:&nbsp;10<br>condition:&nbsp;11<br></td><td><a class=\"ProveItLink\" href=\"../f292de5d80ca6380a6acf4edaa202a2d684eb1c00/expr.ipynb\"><img src=\"../f292de5d80ca6380a6acf4edaa202a2d684eb1c00/expr.png\" style=\"display:inline;vertical-align:middle;\" /></a></td></tr>\n",
       "<tr><td>9</td><td>Literal</td><td></td><td><a class=\"ProveItLink\" href=\"../../../sets/integer/__pv_it/b49c37b99b7e8d73a8d7971bcf454d693b90a2c60/expr.ipynb\"><img src=\"../../../sets/integer/__pv_it/b49c37b99b7e8d73a8d7971bcf454d693b90a2c60/expr.png\" style=\"display:inline;vertical-align:middle;\" /></a></td></tr>\n",
       "<tr><td>10</td><td>Operation</td><td>operator:&nbsp;25<br>operands:&nbsp;12<br></td><td><a class=\"ProveItLink\" href=\"../5beac4c9daaed9c51ad855ff14d6f8910adc24fe0/expr.ipynb\"><img src=\"../5beac4c9daaed9c51ad855ff14d6f8910adc24fe0/expr.png\" style=\"display:inline;vertical-align:middle;\" /></a></td></tr>\n",
       "<tr><td>11</td><td>Operation</td><td>operator:&nbsp;13<br>operands:&nbsp;14<br></td><td><a class=\"ProveItLink\" href=\"../eecdf753b398823d137439dbe273a39079f6ebdf0/expr.ipynb\"><img src=\"../eecdf753b398823d137439dbe273a39079f6ebdf0/expr.png\" style=\"display:inline;vertical-align:middle;\" /></a></td></tr>\n",
       "<tr><td>12</td><td>ExprTuple</td><td>15, 28</td><td><a class=\"ProveItLink\" href=\"../c79bd46225320cd45e898452f2ae9c2e79ad1bcf0/expr.ipynb\"><img src=\"../c79bd46225320cd45e898452f2ae9c2e79ad1bcf0/expr.png\" style=\"display:inline;vertical-align:middle;\" /></a></td></tr>\n",
       "<tr><td>13</td><td>Literal</td><td></td><td><a class=\"ProveItLink\" href=\"../../../../logic/boolean/conjunction/__pv_it/f41cc6b553210927c09f19a8a39cdf860a5585930/expr.ipynb\"><img src=\"../../../../logic/boolean/conjunction/__pv_it/f41cc6b553210927c09f19a8a39cdf860a5585930/expr.png\" style=\"display:inline;vertical-align:middle;\" /></a></td></tr>\n",
       "<tr><td>14</td><td>ExprTuple</td><td>16</td><td><a class=\"ProveItLink\" href=\"../05830bd94d22f453ea524b3b3296ce3dd913b6d80/expr.ipynb\"><img src=\"../05830bd94d22f453ea524b3b3296ce3dd913b6d80/expr.png\" style=\"display:inline;vertical-align:middle;\" /></a></td></tr>\n",
       "<tr><td>15</td><td>Operation</td><td>operator:&nbsp;17<br>operands:&nbsp;18<br></td><td><a class=\"ProveItLink\" href=\"../233c78be0e79f5fbfd5634ec09d2e4528dec56780/expr.ipynb\"><img src=\"../233c78be0e79f5fbfd5634ec09d2e4528dec56780/expr.png\" style=\"display:inline;vertical-align:middle;\" /></a></td></tr>\n",
       "<tr><td>16</td><td>ExprRange</td><td>lambda_map:&nbsp;19<br>start_index:&nbsp;23<br>end_index:&nbsp;24<br></td><td><a class=\"ProveItLink\" href=\"../6ffe15bb80ab1ff214588b8d2e87028d7d4262a40/expr.ipynb\"><img src=\"../6ffe15bb80ab1ff214588b8d2e87028d7d4262a40/expr.png\" style=\"display:inline;vertical-align:middle;\" /></a></td></tr>\n",
       "<tr><td>17</td><td>Literal</td><td></td><td><a class=\"ProveItLink\" href=\"../../../addition/__pv_it/65ad7e8aee19b10110d590375ba95a879c4fb7ea0/expr.ipynb\"><img src=\"../../../addition/__pv_it/65ad7e8aee19b10110d590375ba95a879c4fb7ea0/expr.png\" style=\"display:inline;vertical-align:middle;\" /></a></td></tr>\n",
       "<tr><td>18</td><td>ExprTuple</td><td>20</td><td><a class=\"ProveItLink\" href=\"../684f355b83b14ec889c4359c559a0086da6e8dee0/expr.ipynb\"><img src=\"../684f355b83b14ec889c4359c559a0086da6e8dee0/expr.png\" style=\"display:inline;vertical-align:middle;\" /></a></td></tr>\n",
       "<tr><td>19</td><td>Lambda</td><td>parameter:&nbsp;30<br>body:&nbsp;21<br></td><td><a class=\"ProveItLink\" href=\"../c42d24fab515dca46124406bc3383020c48700b20/expr.ipynb\"><img src=\"../c42d24fab515dca46124406bc3383020c48700b20/expr.png\" style=\"display:inline;vertical-align:middle;\" /></a></td></tr>\n",
       "<tr><td>20</td><td>ExprRange</td><td>lambda_map:&nbsp;22<br>start_index:&nbsp;23<br>end_index:&nbsp;24<br></td><td><a class=\"ProveItLink\" href=\"../../../../core_expr_types/__pv_it/196a4822a947788226dd6f6295906f44615646a20/expr.ipynb\"><img src=\"../../../../core_expr_types/__pv_it/196a4822a947788226dd6f6295906f44615646a20/expr.png\" style=\"display:inline;vertical-align:middle;\" /></a></td></tr>\n",
       "<tr><td>21</td><td>Operation</td><td>operator:&nbsp;25<br>operands:&nbsp;26<br></td><td><a class=\"ProveItLink\" href=\"../38d986b00f422a37187f87ef829fa308f12c1ea50/expr.ipynb\"><img src=\"../38d986b00f422a37187f87ef829fa308f12c1ea50/expr.png\" style=\"display:inline;vertical-align:middle;\" /></a></td></tr>\n",
       "<tr><td>22</td><td>Lambda</td><td>parameter:&nbsp;30<br>body:&nbsp;27<br></td><td><a class=\"ProveItLink\" href=\"../../../../core_expr_types/__pv_it/c512bca05a0e191e5f76f2677a0e9e227e81e9f10/expr.ipynb\"><img src=\"../../../../core_expr_types/__pv_it/c512bca05a0e191e5f76f2677a0e9e227e81e9f10/expr.png\" style=\"display:inline;vertical-align:middle;\" /></a></td></tr>\n",
       "<tr><td>23</td><td>Literal</td><td></td><td><a class=\"ProveItLink\" href=\"../../../numeral/__pv_it/f086f8c372bd40a2458306ddfdbb29f3dc6f63030/expr.ipynb\"><img src=\"../../../numeral/__pv_it/f086f8c372bd40a2458306ddfdbb29f3dc6f63030/expr.png\" style=\"display:inline;vertical-align:middle;\" /></a></td></tr>\n",
       "<tr><td>24</td><td>Variable</td><td></td><td><a class=\"ProveItLink\" href=\"../../../../__pv_it/557ab5defdcd46aa58168b08767502985122cd490/expr.ipynb\"><img src=\"../../../../__pv_it/557ab5defdcd46aa58168b08767502985122cd490/expr.png\" style=\"display:inline;vertical-align:middle;\" /></a></td></tr>\n",
       "<tr><td>25</td><td>Literal</td><td></td><td><a class=\"ProveItLink\" href=\"../../../../logic/set_theory/membership/__pv_it/7776fc89cb67d0b5b1ec2c0c8e08da5587921ccf0/expr.ipynb\"><img src=\"../../../../logic/set_theory/membership/__pv_it/7776fc89cb67d0b5b1ec2c0c8e08da5587921ccf0/expr.png\" style=\"display:inline;vertical-align:middle;\" /></a></td></tr>\n",
       "<tr><td>26</td><td>ExprTuple</td><td>27, 28</td><td><a class=\"ProveItLink\" href=\"../09baec2ba52d1eb463ade2f90a76bcc6b416f1ae0/expr.ipynb\"><img src=\"../09baec2ba52d1eb463ade2f90a76bcc6b416f1ae0/expr.png\" style=\"display:inline;vertical-align:middle;\" /></a></td></tr>\n",
       "<tr><td>27</td><td>IndexedVar</td><td>variable:&nbsp;29<br>index:&nbsp;30<br></td><td><a class=\"ProveItLink\" href=\"../../../../core_expr_types/__pv_it/976fe6b95e8535cc9e0861bdc030337becead6960/expr.ipynb\"><img src=\"../../../../core_expr_types/__pv_it/976fe6b95e8535cc9e0861bdc030337becead6960/expr.png\" style=\"display:inline;vertical-align:middle;\" /></a></td></tr>\n",
       "<tr><td>28</td><td>Literal</td><td></td><td><a class=\"ProveItLink\" href=\"../../../sets/real/__pv_it/b1c74057583794fdc22d810345382814697a165a0/expr.ipynb\"><img src=\"../../../sets/real/__pv_it/b1c74057583794fdc22d810345382814697a165a0/expr.png\" style=\"display:inline;vertical-align:middle;\" /></a></td></tr>\n",
       "<tr><td>29</td><td>Variable</td><td></td><td><a class=\"ProveItLink\" href=\"../../../../__pv_it/a8d4b3a34d2189508f9082853fbac36935714f280/expr.ipynb\"><img src=\"../../../../__pv_it/a8d4b3a34d2189508f9082853fbac36935714f280/expr.png\" style=\"display:inline;vertical-align:middle;\" /></a></td></tr>\n",
       "<tr><td>30</td><td>Variable</td><td></td><td><a class=\"ProveItLink\" href=\"../../../../core_expr_types/__pv_it/1e653f789234b245ee7fea7caad998c139d617410/expr.ipynb\"><img src=\"../../../../core_expr_types/__pv_it/1e653f789234b245ee7fea7caad998c139d617410/expr.png\" style=\"display:inline;vertical-align:middle;\" /></a></td></tr>\n",
       "</table>\n"
      ],
      "text/plain": [
       "0. forall_{i in Naturals} [forall_{a_{1}, ..a_{_a}.., a_{i} in RealsNonNeg} ((a_{1} + ..a_{_a}.. + a_{i}) in RealsNonNeg)]\n",
       "   core type: Operation\n",
       "   operator: 5\n",
       "   operand: 1\n",
       "1. i -> {forall_{a_{1}, ..a_{_a}.., a_{i} in RealsNonNeg} ((a_{1} + ..a_{_a}.. + a_{i}) in RealsNonNeg) if i in Naturals.\n",
       "   core type: Lambda\n",
       "   parameter: 24\n",
       "   body: 2\n",
       "2. {forall_{a_{1}, ..a_{_a}.., a_{i} in RealsNonNeg} ((a_{1} + ..a_{_a}.. + a_{i}) in RealsNonNeg) if i in Naturals.\n",
       "   core type: Conditional\n",
       "   value: 3\n",
       "   condition: 4\n",
       "3. forall_{a_{1}, ..a_{_a}.., a_{i} in RealsNonNeg} ((a_{1} + ..a_{_a}.. + a_{i}) in RealsNonNeg)\n",
       "   core type: Operation\n",
       "   operator: 5\n",
       "   operand: 6\n",
       "4. i in Naturals\n",
       "   core type: Operation\n",
       "   operator: 25\n",
       "   operands: 7\n",
       "5. forall\n",
       "   core type: Literal\n",
       "   sub-expressions: \n",
       "6. (a_{1}, ..a_{_a}.., a_{i}) -> {(a_{1} + ..a_{_a}.. + a_{i}) in RealsNonNeg if (a_{1} in RealsNonNeg) and ..(a_{_a} in RealsNonNeg).. and (a_{i} in RealsNonNeg).\n",
       "   core type: Lambda\n",
       "   parameter: 20\n",
       "   body: 8\n",
       "7. (i, Naturals)\n",
       "   core type: ExprTuple\n",
       "   sub-expressions: 24, 9\n",
       "8. {(a_{1} + ..a_{_a}.. + a_{i}) in RealsNonNeg if (a_{1} in RealsNonNeg) and ..(a_{_a} in RealsNonNeg).. and (a_{i} in RealsNonNeg).\n",
       "   core type: Conditional\n",
       "   value: 10\n",
       "   condition: 11\n",
       "9. Naturals\n",
       "   core type: Literal\n",
       "   sub-expressions: \n",
       "10. (a_{1} + ..a_{_a}.. + a_{i}) in RealsNonNeg\n",
       "    core type: Operation\n",
       "    operator: 25\n",
       "    operands: 12\n",
       "11. (a_{1} in RealsNonNeg) and ..(a_{_a} in RealsNonNeg).. and (a_{i} in RealsNonNeg)\n",
       "    core type: Operation\n",
       "    operator: 13\n",
       "    operands: 14\n",
       "12. (a_{1} + ..a_{_a}.. + a_{i}, RealsNonNeg)\n",
       "    core type: ExprTuple\n",
       "    sub-expressions: 15, 28\n",
       "13. and\n",
       "    core type: Literal\n",
       "    sub-expressions: \n",
       "14. (a_{1} in RealsNonNeg, ..a_{_a} in RealsNonNeg.., a_{i} in RealsNonNeg)\n",
       "    core type: ExprTuple\n",
       "    sub-expressions: 16\n",
       "15. a_{1} + ..a_{_a}.. + a_{i}\n",
       "    core type: Operation\n",
       "    operator: 17\n",
       "    operands: 18\n",
       "16. (a_{1} in RealsNonNeg), ..(a_{_a} in RealsNonNeg).., (a_{i} in RealsNonNeg)\n",
       "    core type: ExprRange\n",
       "    lambda_map: 19\n",
       "    start_index: 23\n",
       "    end_index: 24\n",
       "17. +\n",
       "    core type: Literal\n",
       "    sub-expressions: \n",
       "18. (a_{1}, ..a_{_a}.., a_{i})\n",
       "    core type: ExprTuple\n",
       "    sub-expressions: 20\n",
       "19. _a -> (a_{_a} in RealsNonNeg)\n",
       "    core type: Lambda\n",
       "    parameter: 30\n",
       "    body: 21\n",
       "20. a_{1}, ..a_{_a}.., a_{i}\n",
       "    core type: ExprRange\n",
       "    lambda_map: 22\n",
       "    start_index: 23\n",
       "    end_index: 24\n",
       "21. a_{_a} in RealsNonNeg\n",
       "    core type: Operation\n",
       "    operator: 25\n",
       "    operands: 26\n",
       "22. _a -> a_{_a}\n",
       "    core type: Lambda\n",
       "    parameter: 30\n",
       "    body: 27\n",
       "23. 1\n",
       "    core type: Literal\n",
       "    sub-expressions: \n",
       "24. i\n",
       "    core type: Variable\n",
       "    sub-expressions: \n",
       "25. in\n",
       "    core type: Literal\n",
       "    sub-expressions: \n",
       "26. (a_{_a}, RealsNonNeg)\n",
       "    core type: ExprTuple\n",
       "    sub-expressions: 27, 28\n",
       "27. a_{_a}\n",
       "    core type: IndexedVar\n",
       "variable: 29\n",
       "index: 30\n",
       "28. RealsNonNeg\n",
       "    core type: Literal\n",
       "    sub-expressions: \n",
       "29. a\n",
       "    core type: Variable\n",
       "    sub-expressions: \n",
       "30. _a\n",
       "    core type: Variable\n",
       "    sub-expressions: "
      ]
     },
     "execution_count": 5,
     "metadata": {},
     "output_type": "execute_result"
    }
   ],
   "source": [
    "# display the expression information\n",
    "expr.exprInfo()"
   ]
  },
  {
   "cell_type": "code",
   "execution_count": null,
   "metadata": {},
   "outputs": [],
   "source": []
  }
 ],
 "metadata": {
  "kernelspec": {
   "display_name": "Python 3",
   "language": "python",
   "name": "python3"
  },
  "language_info": {
   "codemirror_mode": {
    "name": "ipython",
    "version": 3
   },
   "file_extension": ".py",
   "mimetype": "text/x-python",
   "name": "python",
   "nbconvert_exporter": "python",
   "pygments_lexer": "ipython3",
   "version": "3.7.3"
  }
 },
 "nbformat": 4,
 "nbformat_minor": 1
}
