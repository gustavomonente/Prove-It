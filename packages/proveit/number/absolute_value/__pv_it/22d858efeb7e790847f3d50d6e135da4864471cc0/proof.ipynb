{
 "cells": [
  {
   "cell_type": "markdown",
   "metadata": {},
   "source": [
    "Show the Proof\n",
    "========"
   ]
  },
  {
   "cell_type": "code",
   "execution_count": 1,
   "metadata": {},
   "outputs": [
    {
     "data": {
      "text/html": [
       "<table><tr><th>&nbsp;</th><th>step type</th><th>requirements</th><th>statement</th></tr>\n",
       "<tr><td><a name=\"proveit.number.absolute_value.22d858efeb7e790847f3d50d6e135da4864471cc0_step0\">0</a></td><td>instantiation</td><td><a href=\"#proveit.number.absolute_value.22d858efeb7e790847f3d50d6e135da4864471cc0_step1\">1</a>, <a href=\"#proveit.number.absolute_value.22d858efeb7e790847f3d50d6e135da4864471cc0_step2\">2</a>, <a href=\"#proveit.number.absolute_value.22d858efeb7e790847f3d50d6e135da4864471cc0_step3\">3</a></td><td><span style=\"font-size:20px;\"><a class=\"ProveItLink\" href=\"../7e62c732973700caf47687fbfdfe9e96f8cd3a820/expr.ipynb\"><img src=\"../7e62c732973700caf47687fbfdfe9e96f8cd3a820/expr.png\" style=\"display:inline;vertical-align:middle;\" /></a> <a class=\"ProveItLink\" href=\"proof.ipynb\" style=\"text-decoration: none\">&#x22A2;&nbsp;</a><a class=\"ProveItLink\" href=\"../a0418a1266abb93d0fb38f2e1361cdca13745c6b0/expr.ipynb\"><img src=\"../a0418a1266abb93d0fb38f2e1361cdca13745c6b0/expr.png\" style=\"display:inline;vertical-align:middle;\" /></a></span></td></tr>\n",
       "<tr><td>&nbsp;</td><td colspan=4 style=\"text-align:left\"><span style=\"font-size:20px;\"><a class=\"ProveItLink\" href=\"../../../../__pv_it/d3792d0d8642fdf1cd2a3a9b32c673ee13653de00/expr.ipynb\"><img src=\"../../../../__pv_it/d3792d0d8642fdf1cd2a3a9b32c673ee13653de00/expr.png\" style=\"display:inline;vertical-align:middle;\" /></a> : <a class=\"ProveItLink\" href=\"../../../sets/real/__pv_it/201c4d7b652a9bf45500ae0d1f35f73fe37164750/expr.ipynb\"><img src=\"../../../sets/real/__pv_it/201c4d7b652a9bf45500ae0d1f35f73fe37164750/expr.png\" style=\"display:inline;vertical-align:middle;\" /></a>, <a class=\"ProveItLink\" href=\"../../../../__pv_it/4d98b438710c5ada9ffa4646bb123a7d0e69ec000/expr.ipynb\"><img src=\"../../../../__pv_it/4d98b438710c5ada9ffa4646bb123a7d0e69ec000/expr.png\" style=\"display:inline;vertical-align:middle;\" /></a> : <a class=\"ProveItLink\" href=\"../../../sets/real/__pv_it/b1c74057583794fdc22d810345382814697a165a0/expr.ipynb\"><img src=\"../../../sets/real/__pv_it/b1c74057583794fdc22d810345382814697a165a0/expr.png\" style=\"display:inline;vertical-align:middle;\" /></a>, <a class=\"ProveItLink\" href=\"../../../../__pv_it/72df168d2bfb4e0140af90912ebf83b13772060b0/expr.ipynb\"><img src=\"../../../../__pv_it/72df168d2bfb4e0140af90912ebf83b13772060b0/expr.png\" style=\"display:inline;vertical-align:middle;\" /></a> : <a class=\"ProveItLink\" href=\"../../../../__pv_it/72df168d2bfb4e0140af90912ebf83b13772060b0/expr.ipynb\"><img src=\"../../../../__pv_it/72df168d2bfb4e0140af90912ebf83b13772060b0/expr.png\" style=\"display:inline;vertical-align:middle;\" /></a></span></td></tr><tr><td><a name=\"proveit.number.absolute_value.22d858efeb7e790847f3d50d6e135da4864471cc0_step1\">1</a></td><td>theorem</td><td></td><td><span style=\"font-size:20px;\"> <a class=\"ProveItLink\" href=\"../../../../logic/set_theory/containment/_proofs_/unfoldSubsetEq.ipynb\" style=\"text-decoration: none\">&#x22A2;&nbsp;</a><a class=\"ProveItLink\" href=\"../213ae6077c60aaf0fff94fc6b94bbccff0f578a20/expr.ipynb\"><img src=\"../213ae6077c60aaf0fff94fc6b94bbccff0f578a20/expr.png\" style=\"display:inline;vertical-align:middle;\" /></a></span></td></tr>\n",
       "<tr><td>&nbsp;</td><td colspan=4 style-\"text-align:left\"><a class=\"ProveItLink\" href=\"../../../../logic/set_theory/containment/_proofs_/unfoldSubsetEq.ipynb\">proveit.logic.set_theory.containment.unfoldSubsetEq</a></td></tr><tr><td><a name=\"proveit.number.absolute_value.22d858efeb7e790847f3d50d6e135da4864471cc0_step2\">2</a></td><td>instantiation</td><td><a href=\"#proveit.number.absolute_value.22d858efeb7e790847f3d50d6e135da4864471cc0_step4\">4</a>, <a href=\"#proveit.number.absolute_value.22d858efeb7e790847f3d50d6e135da4864471cc0_step5\">5</a></td><td><span style=\"font-size:20px;\"> <a class=\"ProveItLink\" href=\"../1d49c40d0d74dede1bcd6a71eb5ceaa0906962d60/proof.ipynb\" style=\"text-decoration: none\">&#x22A2;&nbsp;</a><a class=\"ProveItLink\" href=\"../0fe47a71f57747dac304f93b5fd1cdeebb89ba660/expr.ipynb\"><img src=\"../0fe47a71f57747dac304f93b5fd1cdeebb89ba660/expr.png\" style=\"display:inline;vertical-align:middle;\" /></a></span></td></tr>\n",
       "<tr><td>&nbsp;</td><td colspan=4 style=\"text-align:left\"><span style=\"font-size:20px;\"><a class=\"ProveItLink\" href=\"../../../../__pv_it/d3792d0d8642fdf1cd2a3a9b32c673ee13653de00/expr.ipynb\"><img src=\"../../../../__pv_it/d3792d0d8642fdf1cd2a3a9b32c673ee13653de00/expr.png\" style=\"display:inline;vertical-align:middle;\" /></a> : <a class=\"ProveItLink\" href=\"../../../sets/real/__pv_it/201c4d7b652a9bf45500ae0d1f35f73fe37164750/expr.ipynb\"><img src=\"../../../sets/real/__pv_it/201c4d7b652a9bf45500ae0d1f35f73fe37164750/expr.png\" style=\"display:inline;vertical-align:middle;\" /></a>, <a class=\"ProveItLink\" href=\"../../../../__pv_it/4d98b438710c5ada9ffa4646bb123a7d0e69ec000/expr.ipynb\"><img src=\"../../../../__pv_it/4d98b438710c5ada9ffa4646bb123a7d0e69ec000/expr.png\" style=\"display:inline;vertical-align:middle;\" /></a> : <a class=\"ProveItLink\" href=\"../../../sets/real/__pv_it/b1c74057583794fdc22d810345382814697a165a0/expr.ipynb\"><img src=\"../../../sets/real/__pv_it/b1c74057583794fdc22d810345382814697a165a0/expr.png\" style=\"display:inline;vertical-align:middle;\" /></a></span></td></tr><tr><td><a name=\"proveit.number.absolute_value.22d858efeb7e790847f3d50d6e135da4864471cc0_step3\">3</a></td><td>assumption</td><td></td><td><span style=\"font-size:20px;\"><a class=\"ProveItLink\" href=\"../7e62c732973700caf47687fbfdfe9e96f8cd3a820/expr.ipynb\"><img src=\"../7e62c732973700caf47687fbfdfe9e96f8cd3a820/expr.png\" style=\"display:inline;vertical-align:middle;\" /></a> <a class=\"ProveItLink\" href=\"../8cbe9a2a19720955472d2c2fe5b84882cf3222030/proof.ipynb\" style=\"text-decoration: none\">&#x22A2;&nbsp;</a><a class=\"ProveItLink\" href=\"../0b8d275a8a2acc2f4637ced14f7315c857cd335e0/expr.ipynb\"><img src=\"../0b8d275a8a2acc2f4637ced14f7315c857cd335e0/expr.png\" style=\"display:inline;vertical-align:middle;\" /></a></span></td></tr>\n",
       "<tr><td><a name=\"proveit.number.absolute_value.22d858efeb7e790847f3d50d6e135da4864471cc0_step4\">4</a></td><td>theorem</td><td></td><td><span style=\"font-size:20px;\"> <a class=\"ProveItLink\" href=\"../../../../logic/set_theory/containment/_proofs_/relaxSubset.ipynb\" style=\"text-decoration: none\">&#x22A2;&nbsp;</a><a class=\"ProveItLink\" href=\"../3229f3ba5e3078695fa34b08f798280235d47df40/expr.ipynb\"><img src=\"../3229f3ba5e3078695fa34b08f798280235d47df40/expr.png\" style=\"display:inline;vertical-align:middle;\" /></a></span></td></tr>\n",
       "<tr><td>&nbsp;</td><td colspan=4 style-\"text-align:left\"><a class=\"ProveItLink\" href=\"../../../../logic/set_theory/containment/_proofs_/relaxSubset.ipynb\">proveit.logic.set_theory.containment.relaxSubset</a></td></tr><tr><td><a name=\"proveit.number.absolute_value.22d858efeb7e790847f3d50d6e135da4864471cc0_step5\">5</a></td><td>theorem</td><td></td><td><span style=\"font-size:20px;\"> <a class=\"ProveItLink\" href=\"../../../sets/real/_proofs_/realsPosInRealsNonNeg.ipynb\" style=\"text-decoration: none\">&#x22A2;&nbsp;</a><a class=\"ProveItLink\" href=\"../55c3308ea6907eebc552fbb4ad98b6266b4967bc0/expr.ipynb\"><img src=\"../55c3308ea6907eebc552fbb4ad98b6266b4967bc0/expr.png\" style=\"display:inline;vertical-align:middle;\" /></a></span></td></tr>\n",
       "<tr><td>&nbsp;</td><td colspan=4 style-\"text-align:left\"><a class=\"ProveItLink\" href=\"../../../sets/real/_proofs_/realsPosInRealsNonNeg.ipynb\">proveit.number.sets.real.realsPosInRealsNonNeg</a></td></tr></table>"
      ],
      "text/plain": [
       "<proveit._core_.proof._ShowProof at 0x7f5bb0102710>"
      ]
     },
     "execution_count": 1,
     "metadata": {},
     "output_type": "execute_result"
    }
   ],
   "source": [
    "import proveit\n",
    "# Automation is not needed when only showing a stored proof:\n",
    "proveit.defaults.automation = False # This will speed things up.\n",
    "proveit.defaults.inline_pngs = False # Makes files smaller.\n",
    "%show_proof"
   ]
  },
  {
   "cell_type": "code",
   "execution_count": null,
   "metadata": {},
   "outputs": [],
   "source": []
  }
 ],
 "metadata": {
  "kernelspec": {
   "display_name": "Python 3",
   "language": "python",
   "name": "python3"
  },
  "language_info": {
   "codemirror_mode": {
    "name": "ipython",
    "version": 3
   },
   "file_extension": ".py",
   "mimetype": "text/x-python",
   "name": "python",
   "nbconvert_exporter": "python",
   "pygments_lexer": "ipython3",
   "version": "3.7.3"
  }
 },
 "nbformat": 4,
 "nbformat_minor": 1
}
