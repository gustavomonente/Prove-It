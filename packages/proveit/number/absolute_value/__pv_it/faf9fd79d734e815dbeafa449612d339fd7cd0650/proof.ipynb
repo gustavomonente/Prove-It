{
 "cells": [
  {
   "cell_type": "markdown",
   "metadata": {},
   "source": [
    "Show the Proof\n",
    "========"
   ]
  },
  {
   "cell_type": "code",
   "execution_count": 1,
   "metadata": {},
   "outputs": [
    {
     "data": {
      "text/html": [
       "<table><tr><th>&nbsp;</th><th>step type</th><th>requirements</th><th>statement</th></tr>\n",
       "<tr><td><a name=\"proveit.number.absolute_value.faf9fd79d734e815dbeafa449612d339fd7cd0650_step0\">0</a></td><td>instantiation</td><td><a href=\"#proveit.number.absolute_value.faf9fd79d734e815dbeafa449612d339fd7cd0650_step1\">1</a>, <a href=\"#proveit.number.absolute_value.faf9fd79d734e815dbeafa449612d339fd7cd0650_step2\">2</a></td><td><span style=\"font-size:20px;\"><a class=\"ProveItLink\" href=\"../f577ebc9074cbea778af0e0b5f00e6c2c568bfc70/expr.ipynb\"><img src=\"../f577ebc9074cbea778af0e0b5f00e6c2c568bfc70/expr.png\" style=\"display:inline;vertical-align:middle;\" /></a> <a class=\"ProveItLink\" href=\"proof.ipynb\" style=\"text-decoration: none\">&#x22A2;&nbsp;</a><a class=\"ProveItLink\" href=\"../befe8586c20be25ae71533710ee3af5c1b83a70f0/expr.ipynb\"><img src=\"../befe8586c20be25ae71533710ee3af5c1b83a70f0/expr.png\" style=\"display:inline;vertical-align:middle;\" /></a></span></td></tr>\n",
       "<tr><td>&nbsp;</td><td colspan=4 style=\"text-align:left\"><span style=\"font-size:20px;\"><a class=\"ProveItLink\" href=\"../b03ca9c7bc8f532bf55517e632039b2ccc74c3bd0/expr.ipynb\"><img src=\"../b03ca9c7bc8f532bf55517e632039b2ccc74c3bd0/expr.png\" style=\"display:inline;vertical-align:middle;\" /></a> : <a class=\"ProveItLink\" href=\"../efc877116652160405d11b83bd22f08dfbd9d5730/expr.ipynb\"><img src=\"../efc877116652160405d11b83bd22f08dfbd9d5730/expr.png\" style=\"display:inline;vertical-align:middle;\" /></a>, <a class=\"ProveItLink\" href=\"../../../../__pv_it/72df168d2bfb4e0140af90912ebf83b13772060b0/expr.ipynb\"><img src=\"../../../../__pv_it/72df168d2bfb4e0140af90912ebf83b13772060b0/expr.png\" style=\"display:inline;vertical-align:middle;\" /></a> : <a class=\"ProveItLink\" href=\"../6a39c5a3cab54e99dda4689d5ad5f3ce888065350/expr.ipynb\"><img src=\"../6a39c5a3cab54e99dda4689d5ad5f3ce888065350/expr.png\" style=\"display:inline;vertical-align:middle;\" /></a>, <a class=\"ProveItLink\" href=\"../../../../__pv_it/c6e291955561f22a0e6708fd793ea93f1c7dbb5d0/expr.ipynb\"><img src=\"../../../../__pv_it/c6e291955561f22a0e6708fd793ea93f1c7dbb5d0/expr.png\" style=\"display:inline;vertical-align:middle;\" /></a> : <a class=\"ProveItLink\" href=\"../../../../__pv_it/a8d4b3a34d2189508f9082853fbac36935714f280/expr.ipynb\"><img src=\"../../../../__pv_it/a8d4b3a34d2189508f9082853fbac36935714f280/expr.png\" style=\"display:inline;vertical-align:middle;\" /></a></span></td></tr><tr><td><a name=\"proveit.number.absolute_value.faf9fd79d734e815dbeafa449612d339fd7cd0650_step1\">1</a></td><td>axiom</td><td></td><td><span style=\"font-size:20px;\"> <a class=\"ProveItLink\" href=\"../../../../logic/equality/_axioms_.ipynb#substitution\" style=\"text-decoration: none\">&#x22A2;&nbsp;</a><a class=\"ProveItLink\" href=\"../652ef4c049b7b5f63bb04e17a4ce623677bddbe00/expr.ipynb\"><img src=\"../652ef4c049b7b5f63bb04e17a4ce623677bddbe00/expr.png\" style=\"display:inline;vertical-align:middle;\" /></a></span></td></tr>\n",
       "<tr><td>&nbsp;</td><td colspan=4 style-\"text-align:left\"><a class=\"ProveItLink\" href=\"../../../../logic/equality/_axioms_.ipynb#substitution\">proveit.logic.equality.substitution</a></td></tr><tr><td><a name=\"proveit.number.absolute_value.faf9fd79d734e815dbeafa449612d339fd7cd0650_step2\">2</a></td><td>instantiation</td><td><a href=\"#proveit.number.absolute_value.faf9fd79d734e815dbeafa449612d339fd7cd0650_step3\">3</a>, <a href=\"#proveit.number.absolute_value.faf9fd79d734e815dbeafa449612d339fd7cd0650_step4\">4</a></td><td><span style=\"font-size:20px;\"><a class=\"ProveItLink\" href=\"../f577ebc9074cbea778af0e0b5f00e6c2c568bfc70/expr.ipynb\"><img src=\"../f577ebc9074cbea778af0e0b5f00e6c2c568bfc70/expr.png\" style=\"display:inline;vertical-align:middle;\" /></a> <a class=\"ProveItLink\" href=\"../756cf9b399deab3a2bbd661d116b29a753089a8b0/proof.ipynb\" style=\"text-decoration: none\">&#x22A2;&nbsp;</a><a class=\"ProveItLink\" href=\"../8501ca6ba7d3fd1ee642cf0ebfbb3bf87c260d4f0/expr.ipynb\"><img src=\"../8501ca6ba7d3fd1ee642cf0ebfbb3bf87c260d4f0/expr.png\" style=\"display:inline;vertical-align:middle;\" /></a></span></td></tr>\n",
       "<tr><td>&nbsp;</td><td colspan=4 style=\"text-align:left\"><span style=\"font-size:20px;\"><a class=\"ProveItLink\" href=\"../../../../__pv_it/72df168d2bfb4e0140af90912ebf83b13772060b0/expr.ipynb\"><img src=\"../../../../__pv_it/72df168d2bfb4e0140af90912ebf83b13772060b0/expr.png\" style=\"display:inline;vertical-align:middle;\" /></a> : <a class=\"ProveItLink\" href=\"../../../../__pv_it/a8d4b3a34d2189508f9082853fbac36935714f280/expr.ipynb\"><img src=\"../../../../__pv_it/a8d4b3a34d2189508f9082853fbac36935714f280/expr.png\" style=\"display:inline;vertical-align:middle;\" /></a></span></td></tr><tr><td><a name=\"proveit.number.absolute_value.faf9fd79d734e815dbeafa449612d339fd7cd0650_step3\">3</a></td><td>theorem</td><td></td><td><span style=\"font-size:20px;\"> <a class=\"ProveItLink\" href=\"../../_proofs_/absElim.ipynb\" style=\"text-decoration: none\">&#x22A2;&nbsp;</a><a class=\"ProveItLink\" href=\"../0051d4d0f7fde22f5cd76c244c3e00b5896987600/expr.ipynb\"><img src=\"../0051d4d0f7fde22f5cd76c244c3e00b5896987600/expr.png\" style=\"display:inline;vertical-align:middle;\" /></a></span></td></tr>\n",
       "<tr><td>&nbsp;</td><td colspan=4 style-\"text-align:left\"><a class=\"ProveItLink\" href=\"../../_proofs_/absElim.ipynb\">proveit.number.absolute_value.absElim</a></td></tr><tr><td><a name=\"proveit.number.absolute_value.faf9fd79d734e815dbeafa449612d339fd7cd0650_step4\">4</a></td><td>assumption</td><td></td><td><span style=\"font-size:20px;\"><a class=\"ProveItLink\" href=\"../f577ebc9074cbea778af0e0b5f00e6c2c568bfc70/expr.ipynb\"><img src=\"../f577ebc9074cbea778af0e0b5f00e6c2c568bfc70/expr.png\" style=\"display:inline;vertical-align:middle;\" /></a> <a class=\"ProveItLink\" href=\"../e878a22e1d13454ff40322f18bb3e8966aca3cb70/proof.ipynb\" style=\"text-decoration: none\">&#x22A2;&nbsp;</a><a class=\"ProveItLink\" href=\"../2c96aa969a4aa435726b1677407cd8f25e4d3d4d0/expr.ipynb\"><img src=\"../2c96aa969a4aa435726b1677407cd8f25e4d3d4d0/expr.png\" style=\"display:inline;vertical-align:middle;\" /></a></span></td></tr>\n",
       "</table>"
      ],
      "text/plain": [
       "<proveit._core_.proof._ShowProof at 0x7f5b9a466390>"
      ]
     },
     "execution_count": 1,
     "metadata": {},
     "output_type": "execute_result"
    }
   ],
   "source": [
    "import proveit\n",
    "# Automation is not needed when only showing a stored proof:\n",
    "proveit.defaults.automation = False # This will speed things up.\n",
    "proveit.defaults.inline_pngs = False # Makes files smaller.\n",
    "%show_proof"
   ]
  },
  {
   "cell_type": "code",
   "execution_count": null,
   "metadata": {},
   "outputs": [],
   "source": []
  }
 ],
 "metadata": {
  "kernelspec": {
   "display_name": "Python 3",
   "language": "python",
   "name": "python3"
  },
  "language_info": {
   "codemirror_mode": {
    "name": "ipython",
    "version": 3
   },
   "file_extension": ".py",
   "mimetype": "text/x-python",
   "name": "python",
   "nbconvert_exporter": "python",
   "pygments_lexer": "ipython3",
   "version": "3.7.3"
  }
 },
 "nbformat": 4,
 "nbformat_minor": 1
}
