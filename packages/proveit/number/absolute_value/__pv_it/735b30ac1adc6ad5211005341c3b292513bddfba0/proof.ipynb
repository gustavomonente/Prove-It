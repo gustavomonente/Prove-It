{
 "cells": [
  {
   "cell_type": "markdown",
   "metadata": {},
   "source": [
    "Show the Proof\n",
    "========"
   ]
  },
  {
   "cell_type": "code",
   "execution_count": 1,
   "metadata": {},
   "outputs": [
    {
     "data": {
      "text/html": [
       "<table><tr><th>&nbsp;</th><th>step type</th><th>requirements</th><th>statement</th></tr>\n",
       "<tr><td><a name=\"proveit.number.absolute_value.735b30ac1adc6ad5211005341c3b292513bddfba0_step0\">0</a></td><td>instantiation</td><td><a href=\"#proveit.number.absolute_value.735b30ac1adc6ad5211005341c3b292513bddfba0_step1\">1</a>, <a href=\"#proveit.number.absolute_value.735b30ac1adc6ad5211005341c3b292513bddfba0_step2\">2</a></td><td><span style=\"font-size:20px;\"><a class=\"ProveItLink\" href=\"../5459bf37e0c4f8dc7ef56cb482e7e21c521e30080/expr.ipynb\"><img src=\"../5459bf37e0c4f8dc7ef56cb482e7e21c521e30080/expr.png\" style=\"display:inline;vertical-align:middle;\" /></a> <a class=\"ProveItLink\" href=\"proof.ipynb\" style=\"text-decoration: none\">&#x22A2;&nbsp;</a><a class=\"ProveItLink\" href=\"../acfd0746b9a97fb1c4744dceb27cdffb73303f550/expr.ipynb\"><img src=\"../acfd0746b9a97fb1c4744dceb27cdffb73303f550/expr.png\" style=\"display:inline;vertical-align:middle;\" /></a></span></td></tr>\n",
       "<tr><td>&nbsp;</td><td colspan=4 style=\"text-align:left\"><span style=\"font-size:20px;\"><a class=\"ProveItLink\" href=\"../../../../__pv_it/72df168d2bfb4e0140af90912ebf83b13772060b0/expr.ipynb\"><img src=\"../../../../__pv_it/72df168d2bfb4e0140af90912ebf83b13772060b0/expr.png\" style=\"display:inline;vertical-align:middle;\" /></a> : <a class=\"ProveItLink\" href=\"../27d57aa10030b1325b1af01ce49175301ddd5f1c0/expr.ipynb\"><img src=\"../27d57aa10030b1325b1af01ce49175301ddd5f1c0/expr.png\" style=\"display:inline;vertical-align:middle;\" /></a></span></td></tr><tr><td><a name=\"proveit.number.absolute_value.735b30ac1adc6ad5211005341c3b292513bddfba0_step1\">1</a></td><td>theorem</td><td></td><td><span style=\"font-size:20px;\"> <a class=\"ProveItLink\" href=\"../../_proofs_/absElim.ipynb\" style=\"text-decoration: none\">&#x22A2;&nbsp;</a><a class=\"ProveItLink\" href=\"../0051d4d0f7fde22f5cd76c244c3e00b5896987600/expr.ipynb\"><img src=\"../0051d4d0f7fde22f5cd76c244c3e00b5896987600/expr.png\" style=\"display:inline;vertical-align:middle;\" /></a></span></td></tr>\n",
       "<tr><td>&nbsp;</td><td colspan=4 style-\"text-align:left\"><a class=\"ProveItLink\" href=\"../../_proofs_/absElim.ipynb\">proveit.number.absolute_value.absElim</a></td></tr><tr><td><a name=\"proveit.number.absolute_value.735b30ac1adc6ad5211005341c3b292513bddfba0_step2\">2</a></td><td>instantiation</td><td><a href=\"#proveit.number.absolute_value.735b30ac1adc6ad5211005341c3b292513bddfba0_step3\">3</a>, <a href=\"#proveit.number.absolute_value.735b30ac1adc6ad5211005341c3b292513bddfba0_step4\">4</a>, <a href=\"#proveit.number.absolute_value.735b30ac1adc6ad5211005341c3b292513bddfba0_step5\">5</a></td><td><span style=\"font-size:20px;\"><a class=\"ProveItLink\" href=\"../5459bf37e0c4f8dc7ef56cb482e7e21c521e30080/expr.ipynb\"><img src=\"../5459bf37e0c4f8dc7ef56cb482e7e21c521e30080/expr.png\" style=\"display:inline;vertical-align:middle;\" /></a> <a class=\"ProveItLink\" href=\"../bb1152bcf41358aac22dd306c5e744637ca2418f0/proof.ipynb\" style=\"text-decoration: none\">&#x22A2;&nbsp;</a><a class=\"ProveItLink\" href=\"../9aa803ae19b0ede7441e7ab5ba6677f4af887ced0/expr.ipynb\"><img src=\"../9aa803ae19b0ede7441e7ab5ba6677f4af887ced0/expr.png\" style=\"display:inline;vertical-align:middle;\" /></a></span></td></tr>\n",
       "<tr><td>&nbsp;</td><td colspan=4 style=\"text-align:left\"><span style=\"font-size:20px;\"><a class=\"ProveItLink\" href=\"../../../../__pv_it/a8d4b3a34d2189508f9082853fbac36935714f280/expr.ipynb\"><img src=\"../../../../__pv_it/a8d4b3a34d2189508f9082853fbac36935714f280/expr.png\" style=\"display:inline;vertical-align:middle;\" /></a> : <a class=\"ProveItLink\" href=\"../27d57aa10030b1325b1af01ce49175301ddd5f1c0/expr.ipynb\"><img src=\"../27d57aa10030b1325b1af01ce49175301ddd5f1c0/expr.png\" style=\"display:inline;vertical-align:middle;\" /></a></span></td></tr><tr><td><a name=\"proveit.number.absolute_value.735b30ac1adc6ad5211005341c3b292513bddfba0_step3\">3</a></td><td>theorem</td><td></td><td><span style=\"font-size:20px;\"> <a class=\"ProveItLink\" href=\"../../../sets/real/_proofs_/inRealsNonNegIfGreaterEqZero.ipynb\" style=\"text-decoration: none\">&#x22A2;&nbsp;</a><a class=\"ProveItLink\" href=\"../bbe0732ab7a257ba262e8a4c1b43295dddad40630/expr.ipynb\"><img src=\"../bbe0732ab7a257ba262e8a4c1b43295dddad40630/expr.png\" style=\"display:inline;vertical-align:middle;\" /></a></span></td></tr>\n",
       "<tr><td>&nbsp;</td><td colspan=4 style-\"text-align:left\"><a class=\"ProveItLink\" href=\"../../../sets/real/_proofs_/inRealsNonNegIfGreaterEqZero.ipynb\">proveit.number.sets.real.inRealsNonNegIfGreaterEqZero</a></td></tr><tr><td><a name=\"proveit.number.absolute_value.735b30ac1adc6ad5211005341c3b292513bddfba0_step4\">4</a></td><td>assumption</td><td></td><td><span style=\"font-size:20px;\"><a class=\"ProveItLink\" href=\"../5c1f61c095bcad6a0f19c3e1dda1e93894f175ea0/expr.ipynb\"><img src=\"../5c1f61c095bcad6a0f19c3e1dda1e93894f175ea0/expr.png\" style=\"display:inline;vertical-align:middle;\" /></a> <a class=\"ProveItLink\" href=\"../1d86ab3143b5196bb190b6f3c96522d41a13743c0/proof.ipynb\" style=\"text-decoration: none\">&#x22A2;&nbsp;</a><a class=\"ProveItLink\" href=\"../47159bc8a1b645d845be7e0a7348c4313db37d8f0/expr.ipynb\"><img src=\"../47159bc8a1b645d845be7e0a7348c4313db37d8f0/expr.png\" style=\"display:inline;vertical-align:middle;\" /></a></span></td></tr>\n",
       "<tr><td><a name=\"proveit.number.absolute_value.735b30ac1adc6ad5211005341c3b292513bddfba0_step5\">5</a></td><td>instantiation</td><td><a href=\"#proveit.number.absolute_value.735b30ac1adc6ad5211005341c3b292513bddfba0_step6\">6</a>, <a href=\"#proveit.number.absolute_value.735b30ac1adc6ad5211005341c3b292513bddfba0_step7\">7</a></td><td><span style=\"font-size:20px;\"><a class=\"ProveItLink\" href=\"../51537e31c1d44d4aef3d6d0fe2b4f5ea6ee2a3ec0/expr.ipynb\"><img src=\"../51537e31c1d44d4aef3d6d0fe2b4f5ea6ee2a3ec0/expr.png\" style=\"display:inline;vertical-align:middle;\" /></a> <a class=\"ProveItLink\" href=\"../fdc9ec4991c5c7e175fd57bd6e2425f7bfeab84a0/proof.ipynb\" style=\"text-decoration: none\">&#x22A2;&nbsp;</a><a class=\"ProveItLink\" href=\"../57054d31ca785e75f5c2e6ab795581401cb4abf40/expr.ipynb\"><img src=\"../57054d31ca785e75f5c2e6ab795581401cb4abf40/expr.png\" style=\"display:inline;vertical-align:middle;\" /></a></span></td></tr>\n",
       "<tr><td>&nbsp;</td><td colspan=4 style=\"text-align:left\"><span style=\"font-size:20px;\"><a class=\"ProveItLink\" href=\"../../../../__pv_it/72df168d2bfb4e0140af90912ebf83b13772060b0/expr.ipynb\"><img src=\"../../../../__pv_it/72df168d2bfb4e0140af90912ebf83b13772060b0/expr.png\" style=\"display:inline;vertical-align:middle;\" /></a> : <a class=\"ProveItLink\" href=\"../27d57aa10030b1325b1af01ce49175301ddd5f1c0/expr.ipynb\"><img src=\"../27d57aa10030b1325b1af01ce49175301ddd5f1c0/expr.png\" style=\"display:inline;vertical-align:middle;\" /></a>, <a class=\"ProveItLink\" href=\"../../../../__pv_it/c6e291955561f22a0e6708fd793ea93f1c7dbb5d0/expr.ipynb\"><img src=\"../../../../__pv_it/c6e291955561f22a0e6708fd793ea93f1c7dbb5d0/expr.png\" style=\"display:inline;vertical-align:middle;\" /></a> : <a class=\"ProveItLink\" href=\"../../../numeral/__pv_it/bcb6bc33e5975ec2290a3272bf7802d26ab8421d0/expr.ipynb\"><img src=\"../../../numeral/__pv_it/bcb6bc33e5975ec2290a3272bf7802d26ab8421d0/expr.png\" style=\"display:inline;vertical-align:middle;\" /></a></span></td></tr><tr><td><a name=\"proveit.number.absolute_value.735b30ac1adc6ad5211005341c3b292513bddfba0_step6\">6</a></td><td>theorem</td><td></td><td><span style=\"font-size:20px;\"> <a class=\"ProveItLink\" href=\"../../../ordering/_proofs_/relaxGreater.ipynb\" style=\"text-decoration: none\">&#x22A2;&nbsp;</a><a class=\"ProveItLink\" href=\"../97a503530c41e6b0fde0bfade39a08590c766afb0/expr.ipynb\"><img src=\"../97a503530c41e6b0fde0bfade39a08590c766afb0/expr.png\" style=\"display:inline;vertical-align:middle;\" /></a></span></td></tr>\n",
       "<tr><td>&nbsp;</td><td colspan=4 style-\"text-align:left\"><a class=\"ProveItLink\" href=\"../../../ordering/_proofs_/relaxGreater.ipynb\">proveit.number.ordering.relaxGreater</a></td></tr><tr><td><a name=\"proveit.number.absolute_value.735b30ac1adc6ad5211005341c3b292513bddfba0_step7\">7</a></td><td>assumption</td><td></td><td><span style=\"font-size:20px;\"><a class=\"ProveItLink\" href=\"../51537e31c1d44d4aef3d6d0fe2b4f5ea6ee2a3ec0/expr.ipynb\"><img src=\"../51537e31c1d44d4aef3d6d0fe2b4f5ea6ee2a3ec0/expr.png\" style=\"display:inline;vertical-align:middle;\" /></a> <a class=\"ProveItLink\" href=\"../2bd538546f1e1dfb0853a81a7b4f7abe967abc3b0/proof.ipynb\" style=\"text-decoration: none\">&#x22A2;&nbsp;</a><a class=\"ProveItLink\" href=\"../717bcd19684435b440d1a32d701f26caf401d7f60/expr.ipynb\"><img src=\"../717bcd19684435b440d1a32d701f26caf401d7f60/expr.png\" style=\"display:inline;vertical-align:middle;\" /></a></span></td></tr>\n",
       "</table>"
      ],
      "text/plain": [
       "<proveit._core_.proof._ShowProof at 0x7f5b8ba9c128>"
      ]
     },
     "execution_count": 1,
     "metadata": {},
     "output_type": "execute_result"
    }
   ],
   "source": [
    "import proveit\n",
    "# Automation is not needed when only showing a stored proof:\n",
    "proveit.defaults.automation = False # This will speed things up.\n",
    "proveit.defaults.inline_pngs = False # Makes files smaller.\n",
    "%show_proof"
   ]
  },
  {
   "cell_type": "code",
   "execution_count": null,
   "metadata": {},
   "outputs": [],
   "source": []
  }
 ],
 "metadata": {
  "kernelspec": {
   "display_name": "Python 3",
   "language": "python",
   "name": "python3"
  },
  "language_info": {
   "codemirror_mode": {
    "name": "ipython",
    "version": 3
   },
   "file_extension": ".py",
   "mimetype": "text/x-python",
   "name": "python",
   "nbconvert_exporter": "python",
   "pygments_lexer": "ipython3",
   "version": "3.7.3"
  }
 },
 "nbformat": 4,
 "nbformat_minor": 1
}
