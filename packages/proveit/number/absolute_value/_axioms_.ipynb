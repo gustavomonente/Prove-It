{
 "cells": [
  {
   "cell_type": "markdown",
   "metadata": {},
   "source": [
    "Axioms for the theory of <a class=\"ProveItLink\" href=\"_theory_.ipynb\">proveit.number.absolute_value</a>\n",
    "========"
   ]
  },
  {
   "cell_type": "code",
   "execution_count": null,
   "metadata": {},
   "outputs": [],
   "source": [
    "import proveit\n",
    "# Automation is not needed when building axiom expressions:\n",
    "proveit.defaults.automation = False # This will speed things up.\n",
    "from proveit._common_ import x\n",
    "from proveit.logic import Equals, Forall\n",
    "from proveit.number import two, Abs, Exp, Reals, sqrt\n",
    "# the theory is in the current directory:\n",
    "theory = proveit.Theory('.') # adds theory root to sys.path if necessary"
   ]
  },
  {
   "cell_type": "code",
   "execution_count": null,
   "metadata": {},
   "outputs": [],
   "source": [
    "%begin axioms"
   ]
  },
  {
   "cell_type": "code",
   "execution_count": null,
   "metadata": {},
   "outputs": [],
   "source": [
    "# this axiom might be shifted to theorems once we have\n",
    "# the Conditional class to use for a piece-wise definition\n",
    "abs_val_def_sqrt = Forall(\n",
    "    x,\n",
    "    Equals(Abs(x), sqrt(Exp(x, two))),\n",
    "    domain = Reals)"
   ]
  },
  {
   "cell_type": "code",
   "execution_count": null,
   "metadata": {},
   "outputs": [],
   "source": [
    "%end axioms"
   ]
  }
 ],
 "metadata": {
  "kernelspec": {
   "display_name": "Python 3",
   "language": "python",
   "name": "python3"
  }
 },
 "nbformat": 4,
 "nbformat_minor": 0
}
