{
 "cells": [
  {
   "cell_type": "markdown",
   "metadata": {},
   "source": [
    "Proof of <a class=\"ProveItLink\" href=\"../../../../_context_.ipynb\">proveit</a>.<a class=\"ProveItLink\" href=\"../../../_context_.ipynb\">number</a>.<a class=\"ProveItLink\" href=\"../../_context_.ipynb\">sets</a>.<a class=\"ProveItLink\" href=\"../_context_.ipynb\">natural</a>.<a class=\"ProveItLink\" href=\"../_theorems_.ipynb#xInNatsInBool\">xInNatsInBool</a> theorem\n",
    "========"
   ]
  },
  {
   "cell_type": "code",
   "execution_count": null,
   "metadata": {},
   "outputs": [],
   "source": [
    "import proveit\n",
    "from proveit._common_ import k, l, n, x\n",
    "from proveit.number import Naturals, NaturalsPos\n",
    "from proveit.number import zero, one\n",
    "from proveit.logic import InSet\n",
    "#from proveit.number.sets.integer._axioms_ import naturalsDef\n",
    "#from proveit.number.numeral.deci._theorems_ import posnat1\n",
    "from proveit.logic.boolean.quantification.universal._axioms_ import forall_in_bool\n",
    "context = proveit.Context('..') # the theorem's context is in the parent directory"
   ]
  },
  {
   "cell_type": "markdown",
   "metadata": {},
   "source": [
    "### Must be updated to use Peano's axioms"
   ]
  },
  {
   "cell_type": "code",
   "execution_count": null,
   "metadata": {},
   "outputs": [],
   "source": [
    "%proving xInNatsInBool presuming [proveit.logic, proveit.number.numeral.deci, proveit.core_expr_types.tuples.singular_range_reduction]"
   ]
  },
  {
   "cell_type": "code",
   "execution_count": null,
   "metadata": {},
   "outputs": [],
   "source": [
    "# naturalsDef\n",
    "\n",
    "# naturalsDefInst = naturalsDef.instantiate({n:x, x:k})\n",
    "\n",
    "# naturalsDefInst_rhs = naturalsDefInst.rhs\n",
    "\n",
    "# naturalsDefInst_rhs__inbool = naturalsDefInst_rhs.deduceInBool()\n",
    "\n",
    "# naturalsDefInst.subLeftSideInto(naturalsDefInst_rhs__inbool)\n",
    "\n",
    "# %qed"
   ]
  }
 ],
 "metadata": {
  "kernelspec": {
   "display_name": "Python 3",
   "language": "python",
   "name": "python3"
  }
 },
 "nbformat": 4,
 "nbformat_minor": 0
}
