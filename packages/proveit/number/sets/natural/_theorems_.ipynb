{
 "cells": [
  {
   "cell_type": "markdown",
   "metadata": {},
   "source": [
    "Theorems for context <a class=\"ProveItLink\" href=\"_context_.ipynb\">proveit.number.sets.natural</a>\n",
    "========"
   ]
  },
  {
   "cell_type": "code",
   "execution_count": null,
   "metadata": {},
   "outputs": [],
   "source": [
    "import proveit\n",
    "# Automation is not needed when building theorem expressions:\n",
    "proveit.defaults.automation = False # This will speed things up.\n",
    "# the context is in the current directory:\n",
    "context = proveit.Context('.') # adds context root to sys.path if necessary\n",
    "from proveit import Operation\n",
    "from proveit._common_ import m, n, P\n",
    "from proveit.logic import And, Equals, Forall, Implies, inBool, InSet\n",
    "from proveit.number import zero, one, num, frac\n",
    "from proveit.number import Naturals, NaturalsPos, Integers, Interval, Rationals, Reals, RealsPos, Complexes\n",
    "from proveit.number import Add, subtract, Greater, GreaterEq, Less, LessEq, LessEqOnlySeq\n",
    "from proveit.number._common_ import Pzero, Pone, Pm, P_mAddOne, Pn"
   ]
  },
  {
   "cell_type": "code",
   "execution_count": null,
   "metadata": {},
   "outputs": [],
   "source": [
    "%begin theorems"
   ]
  },
  {
   "cell_type": "code",
   "execution_count": null,
   "metadata": {},
   "outputs": [],
   "source": [
    "fold_forall_naturals = Forall(P, Implies(And(Pzero, \n",
    "                                             Forall(m, P_mAddOne, \n",
    "                                                 domain=Naturals, condition=Pm)), \n",
    "                                         Forall(n, Pn, domain=Naturals)))"
   ]
  },
  {
   "cell_type": "code",
   "execution_count": null,
   "metadata": {},
   "outputs": [],
   "source": [
    "fold_forall_naturals_pos = Forall(P, Implies(And(Pone, \n",
    "                                                 Forall(m, P_mAddOne, domain=NaturalsPos, \n",
    "                                                        condition=Pm)), \n",
    "                                             Forall(n, Pn, domain=NaturalsPos)))"
   ]
  },
  {
   "cell_type": "code",
   "execution_count": null,
   "metadata": {},
   "outputs": [],
   "source": [
    "%end theorems"
   ]
  }
 ],
 "metadata": {
  "kernelspec": {
   "display_name": "Python 3",
   "language": "python",
   "name": "python3"
  }
 },
 "nbformat": 4,
 "nbformat_minor": 0
}
