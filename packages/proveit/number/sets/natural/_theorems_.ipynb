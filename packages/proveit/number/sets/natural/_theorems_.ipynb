{
 "cells": [
  {
   "cell_type": "markdown",
   "metadata": {},
   "source": [
    "Theorems (or conjectures) for the theory of <a class=\"ProveItLink\" href=\"_theory_.ipynb\">proveit.number.sets.natural</a>\n",
    "========"
   ]
  },
  {
   "cell_type": "code",
   "execution_count": null,
   "metadata": {},
   "outputs": [],
   "source": [
    "import proveit\n",
    "# Prepare this notebook for defining the theorems of a theory:\n",
    "%theorems_notebook # Keep this at the top following 'import proveit'.\n",
    "from proveit import Operation\n",
    "from proveit._common_ import a, b, m, n, x, P\n",
    "from proveit.logic import And, Equals, NotEquals, Forall, Implies, inBool, InSet, ProperSubset\n",
    "from proveit.number import zero, one, num, frac\n",
    "from proveit.number import Naturals, NaturalsPos, Integers, Interval, Rationals, Reals, RealsPos, Complexes\n",
    "from proveit.number import Add, subtract, Greater, GreaterEq, Less, LessEq, LessEqOnlySeq\n",
    "from proveit.number._common_ import Pzero, Pone, Pm, P_mAddOne, Pn"
   ]
  },
  {
   "cell_type": "code",
   "execution_count": null,
   "metadata": {},
   "outputs": [],
   "source": [
    "%begin theorems"
   ]
  },
  {
   "cell_type": "code",
   "execution_count": null,
   "metadata": {},
   "outputs": [],
   "source": [
    "intervalInNats = Forall((a, b), Forall(n, InSet(n, Naturals), \n",
    "                                       domain=Interval(a, b)), domain=Naturals)"
   ]
  },
  {
   "cell_type": "code",
   "execution_count": null,
   "metadata": {},
   "outputs": [],
   "source": [
    "naturalsLowerBound = Forall(n, GreaterEq(n, zero), domain=Naturals)"
   ]
  },
  {
   "cell_type": "code",
   "execution_count": null,
   "metadata": {},
   "outputs": [],
   "source": [
    "naturalsPosLowerBound = Forall(n, GreaterEq(n, one), domain=NaturalsPos)"
   ]
  },
  {
   "cell_type": "code",
   "execution_count": null,
   "metadata": {},
   "outputs": [],
   "source": [
    "# proven\n",
    "nonZeroIfInNaturalsPos = Forall(\n",
    "        n,\n",
    "        NotEquals(n, zero),\n",
    "        domain=NaturalsPos)"
   ]
  },
  {
   "cell_type": "code",
   "execution_count": null,
   "metadata": {},
   "outputs": [],
   "source": [
    "natsPosInNats = ProperSubset(NaturalsPos, Naturals)"
   ]
  },
  {
   "cell_type": "code",
   "execution_count": null,
   "metadata": {},
   "outputs": [],
   "source": [
    "# In progress\n",
    "# For Naturals\n",
    "xInNatsInBool = Forall(x, inBool(InSet(x, Naturals)))"
   ]
  },
  {
   "cell_type": "code",
   "execution_count": null,
   "metadata": {},
   "outputs": [],
   "source": [
    "# For Positive Naturals (NaturalsPos)\n",
    "xInNatsPosInBool = Forall(x, inBool(InSet(x, NaturalsPos)))"
   ]
  },
  {
   "cell_type": "code",
   "execution_count": null,
   "metadata": {},
   "outputs": [],
   "source": [
    "fold_forall_naturals = Forall(P, Implies(And(Pzero, \n",
    "                                             Forall(m, P_mAddOne, \n",
    "                                                 domain=Naturals, condition=Pm)), \n",
    "                                         Forall(n, Pn, domain=Naturals)))"
   ]
  },
  {
   "cell_type": "code",
   "execution_count": null,
   "metadata": {},
   "outputs": [],
   "source": [
    "fold_forall_naturals_pos = Forall(P, Implies(And(Pone, \n",
    "                                                 Forall(m, P_mAddOne, domain=NaturalsPos, \n",
    "                                                        condition=Pm)), \n",
    "                                             Forall(n, Pn, domain=NaturalsPos)))"
   ]
  },
  {
   "cell_type": "code",
   "execution_count": null,
   "metadata": {},
   "outputs": [],
   "source": [
    "%end theorems"
   ]
  }
 ],
 "metadata": {
  "kernelspec": {
   "display_name": "Python 3",
   "language": "python",
   "name": "python3"
  }
 },
 "nbformat": 4,
 "nbformat_minor": 0
}
