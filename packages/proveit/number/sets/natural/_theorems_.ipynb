{
 "cells": [
  {
   "cell_type": "markdown",
   "metadata": {},
   "source": [
    "Theorems (or conjectures) for the theory of <a class=\"ProveItLink\" href=\"_theory_.ipynb\">proveit.number.sets.natural</a>\n",
    "========"
   ]
  },
  {
   "cell_type": "code",
   "execution_count": null,
   "metadata": {},
   "outputs": [],
   "source": [
    "import proveit\n",
    "# Prepare this notebook for defining the theorems of a theory:\n",
    "%theorems_notebook # Keep this at the top following 'import proveit'.\n",
    "from proveit import Operation\n",
    "from proveit._common_ import a, b, m, n, x, P\n",
    "from proveit.logic import And, Equals, NotEquals, Forall, Implies, inBool, InSet, ProperSubset\n",
    "from proveit.number import zero, one, num, frac\n",
    "from proveit.number import Natural, NaturalPos, Integer, Interval, Rational, Real, RealPos, Complex\n",
    "from proveit.number import Add, subtract, Greater, GreaterEq, Less, LessEq, LessEqOnlySeq\n",
    "from proveit.number._common_ import Pzero, Pone, Pm, P_mAddOne, Pn"
   ]
  },
  {
   "cell_type": "code",
   "execution_count": null,
   "metadata": {},
   "outputs": [],
   "source": [
    "%begin theorems"
   ]
  },
  {
   "cell_type": "code",
   "execution_count": null,
   "metadata": {},
   "outputs": [],
   "source": [
    "intervalInNat = Forall((a, b), Forall(n, InSet(n, Natural), \n",
    "                                       domain=Interval(a, b)), domain=Natural)"
   ]
  },
  {
   "cell_type": "code",
   "execution_count": null,
   "metadata": {},
   "outputs": [],
   "source": [
    "naturalLowerBound = Forall(n, GreaterEq(n, zero), domain=Natural)"
   ]
  },
  {
   "cell_type": "code",
   "execution_count": null,
   "metadata": {},
   "outputs": [],
   "source": [
    "naturalPosLowerBound = Forall(n, GreaterEq(n, one), domain=NaturalPos)"
   ]
  },
  {
   "cell_type": "code",
   "execution_count": null,
   "metadata": {},
   "outputs": [],
   "source": [
    "# proven\n",
    "nonZeroIfInNaturalPos = Forall(\n",
    "        n,\n",
    "        NotEquals(n, zero),\n",
    "        domain=NaturalPos)"
   ]
  },
  {
   "cell_type": "code",
   "execution_count": null,
   "metadata": {},
   "outputs": [],
   "source": [
    "natPosInNat = ProperSubset(NaturalPos, Natural)"
   ]
  },
  {
   "cell_type": "code",
   "execution_count": null,
   "metadata": {},
   "outputs": [],
   "source": [
    "# In progress\n",
    "# For Natural numbers\n",
    "xInNatInBool = Forall(x, inBool(InSet(x, Natural)))"
   ]
  },
  {
   "cell_type": "code",
   "execution_count": null,
   "metadata": {},
   "outputs": [],
   "source": [
    "# For Positive Natural numbers (NaturalPos)\n",
    "xInNatPosInBool = Forall(x, inBool(InSet(x, NaturalPos)))"
   ]
  },
  {
   "cell_type": "code",
   "execution_count": null,
   "metadata": {},
   "outputs": [],
   "source": [
    "fold_forall_natural = Forall(P, Implies(And(Pzero, \n",
    "                                             Forall(m, P_mAddOne, \n",
    "                                                 domain=Natural, condition=Pm)), \n",
    "                                         Forall(n, Pn, domain=Natural)))"
   ]
  },
  {
   "cell_type": "code",
   "execution_count": null,
   "metadata": {},
   "outputs": [],
   "source": [
    "fold_forall_natural_pos = Forall(P, Implies(And(Pone, \n",
    "                                                 Forall(m, P_mAddOne, domain=NaturalPos, \n",
    "                                                        condition=Pm)), \n",
    "                                             Forall(n, Pn, domain=NaturalPos)))"
   ]
  },
  {
   "cell_type": "code",
   "execution_count": null,
   "metadata": {},
   "outputs": [],
   "source": [
    "%end theorems"
   ]
  }
 ],
 "metadata": {
  "kernelspec": {
   "display_name": "Python 3",
   "language": "python",
   "name": "python3"
  }
 },
 "nbformat": 4,
 "nbformat_minor": 0
}
