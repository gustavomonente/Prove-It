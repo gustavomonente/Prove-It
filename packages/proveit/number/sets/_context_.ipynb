{
 "cells": [
  {
   "cell_type": "markdown",
   "metadata": {},
   "source": [
    "Context: <a href=\"../../_context_.ipynb\" class=\"ProveItLink\">proveit</a>.<a href=\"../_context_.ipynb\" class=\"ProveItLink\">number</a>.sets\n",
    "========\n",
    "\n",
    "There are three main sets of numbers: integers, reals, and complexes."
   ]
  },
  {
   "cell_type": "code",
   "execution_count": 1,
   "metadata": {},
   "outputs": [
    {
     "data": {
      "text/html": [
       "<table><tr>\n",
       "<th><a class=\"ProveItLink\" href=\"_common_.ipynb\">common expressions</a></th>\n",
       "<th><a class=\"ProveItLink\" href=\"_axioms_.ipynb\">axioms</a></th>\n",
       "<th><a class=\"ProveItLink\" href=\"_theorems_.ipynb\">theorems</a></th>\n",
       "<th><a class=\"ProveItLink\" href=\"_demonstrations_.ipynb\">demonstrations</a></th>\n",
       "</tr></table>\n",
       "<table>\n",
       "<tr><th><a class=\"ProveItLink\" href=\"integer/_context_.ipynb\">integer</a></th><td>positive and negative whole numbers</td></tr>\n",
       "<tr><th><a class=\"ProveItLink\" href=\"rational/_context_.ipynb\">rational</a></th><td>fractions of whole numbers</td></tr>\n",
       "<tr><th><a class=\"ProveItLink\" href=\"real/_context_.ipynb\">real</a></th><td>includes irrational numbers (e.g., the square root of 2 is not rational)</td></tr>\n",
       "<tr><th><a class=\"ProveItLink\" href=\"complex/_context_.ipynb\">complex</a></th><td>extends real numbers via the imaginary number (square root of -1)</td></tr>\n",
       "</table>\n"
      ],
      "text/plain": [
       "<IPython.core.display.HTML object>"
      ]
     },
     "metadata": {},
     "output_type": "display_data"
    }
   ],
   "source": [
    "import proveit\n",
    "%context # toggles between interactive and static modes"
   ]
  },
  {
   "cell_type": "code",
   "execution_count": null,
   "metadata": {},
   "outputs": [],
   "source": []
  }
 ],
 "metadata": {
  "kernelspec": {
   "display_name": "Python 3",
   "language": "python",
   "name": "python3"
  }
 },
 "nbformat": 4,
 "nbformat_minor": 0
}
