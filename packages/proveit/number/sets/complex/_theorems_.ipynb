{
 "cells": [
  {
   "cell_type": "markdown",
   "metadata": {},
   "source": [
    "Theorems for context <a href=\"_context_.ipynb\" class=\"ProveItLink\">proveit.number.sets.complex</a>\n",
    "========"
   ]
  },
  {
   "cell_type": "code",
   "execution_count": 1,
   "metadata": {},
   "outputs": [],
   "source": [
    "import proveit\n",
    "# Automation is not needed when building theorem expressions:\n",
    "proveit.defaults.automation = False # This will speed things up.\n",
    "# the context is in the current directory:\n",
    "context = proveit.Context('.') # adds context root to sys.path if necessary\n",
    "from proveit._common_ import x\n",
    "from proveit.logic import Forall, inBool, InSet, Subset\n",
    "from proveit.number import Complexes, Reals, RealsPos, RealsNeg, Integers, Naturals, NaturalsPos"
   ]
  },
  {
   "cell_type": "code",
   "execution_count": 2,
   "metadata": {},
   "outputs": [
    {
     "name": "stdout",
     "output_type": "stream",
     "text": [
      "Defining theorems for context 'proveit.number.sets.complex'\n",
      "Subsequent end-of-cell assignments will define theorems\n",
      "'%end theorems' will finalize the definitions\n"
     ]
    }
   ],
   "source": [
    "%begin theorems"
   ]
  },
  {
   "cell_type": "code",
   "execution_count": 3,
   "metadata": {},
   "outputs": [
    {
     "data": {
      "text/html": [
       "<strong id=\"realsInComplexes\"><a class=\"ProveItLink\" href=\"_proofs_/realsInComplexes.ipynb\">realsInComplexes</a>:</strong> <a class=\"ProveItLink\" href=\"__pv_it/e1b57adf14135d62330c9de2802320e0fb07defb0/expr.ipynb\"><img src=\"data:image/png;base64,iVBORw0KGgoAAAANSUhEUgAAADoAAAAPBAMAAABHIsEFAAAAMFBMVEX///+IiIiqqqq6urpmZmZ2\n",
       "dnbc3NzMzMxUVFTu7u4yMjJEREQQEBAiIiKYmJgAAACIyPRpAAAAAXRSTlMAQObYZgAAAONJREFU\n",
       "GNNjeHt6/6rTDxgwgNStP7cdGBgWzGCofj0BXbL8E8OUf0DZDakM3GwNaJJ8HAIMDO8hsiwJCyCC\n",
       "r+/evXsdxHjOAzSNAya7ASyZFQbT65ANJDgFwLIczBCTr8EkORtKoCygrK4X2FUsCjBZtgBDmGzO\n",
       "3VsQYV64o9gc4LKpJtwQD2XAZTk3lMJlWcwhjpqN8NFKDoS9Ox+imczwBCw7ASxbwVIA4rAKwGW5\n",
       "hYFs5gXgkGRVaAeLLUJo9to6YdLuCQzAWFjOsHs92NUzmuHhze51/koBWvCW7oWGJBQAAGgURyiB\n",
       "GqKtAAAAAElFTkSuQmCC\n",
       "\" style=\"display:inline;vertical-align:middle;\" /></a><br>"
      ],
      "text/plain": [
       "realsInComplexes: Reals subset Complexes"
      ]
     },
     "execution_count": 3,
     "metadata": {},
     "output_type": "execute_result"
    }
   ],
   "source": [
    "realsInComplexes = Subset(Reals, Complexes)"
   ]
  },
  {
   "cell_type": "code",
   "execution_count": 4,
   "metadata": {},
   "outputs": [
    {
     "data": {
      "text/html": [
       "<strong id=\"realsPosInComplexes\"><a class=\"ProveItLink\" href=\"_proofs_/realsPosInComplexes.ipynb\">realsPosInComplexes</a>:</strong> <a class=\"ProveItLink\" href=\"__pv_it/b68db8b27c144abde3f12158691bbe6dde810d160/expr.ipynb\"><img src=\"data:image/png;base64,iVBORw0KGgoAAAANSUhEUgAAAEcAAAAUBAMAAAAthD11AAAAMFBMVEX///+IiIiqqqq6urpmZmZ2\n",
       "dnbc3NzMzMxUVFTu7u4yMjJEREQQEBAiIiKYmJgAAACIyPRpAAAAAXRSTlMAQObYZgAAAPtJREFU\n",
       "KM9jYCANcBCjiJseit6e3r/q9ANcihjXrj+7BUgvmMFQ/XoCQ9eqNatWPUBTw16vwOn/BMjYkMrA\n",
       "zdaA3aQHjQwMfF8gilgSFqAoen337t3rQJqv4CSQbIEp2oCsKCsMymBhA4lPhCjiYEax7hqMMYPd\n",
       "AcoCKtL1moCkiEUBpiiVWQCmKOfuLbAwG1SAF+62FISiVBPuCcheyoCzZrMHwBWxmG9AVjQbzuKa\n",
       "0IBw086HyIoQ1vE5gBRxQhRVsBQgKWIVgDM3GgIJK0i0sCq0Ixu1CM5iWR3Jqb0THMHLGXavV0BS\n",
       "NKMZ7pGSNX/dcaSM0r2QaIEBAGRtSetrpWkEAAAAAElFTkSuQmCC\n",
       "\" style=\"display:inline;vertical-align:middle;\" /></a><br>"
      ],
      "text/plain": [
       "realsPosInComplexes: RealsPos subset Complexes"
      ]
     },
     "execution_count": 4,
     "metadata": {},
     "output_type": "execute_result"
    }
   ],
   "source": [
    "realsPosInComplexes = Subset(RealsPos, Complexes)"
   ]
  },
  {
   "cell_type": "code",
   "execution_count": 5,
   "metadata": {},
   "outputs": [
    {
     "data": {
      "text/html": [
       "<strong id=\"realsNegInComplexes\"><a class=\"ProveItLink\" href=\"_proofs_/realsNegInComplexes.ipynb\">realsNegInComplexes</a>:</strong> <a class=\"ProveItLink\" href=\"__pv_it/d6e2e925bd7113e38254bf5d985c11916476ce280/expr.ipynb\"><img src=\"data:image/png;base64,iVBORw0KGgoAAAANSUhEUgAAAEgAAAAPBAMAAAC1npSgAAAAMFBMVEX///+IiIiqqqq6urpmZmZ2\n",
       "dnbc3NzMzMxUVFTu7u4yMjJEREQQEBAiIiKYmJgAAACIyPRpAAAAAXRSTlMAQObYZgAAAOtJREFU\n",
       "KM9jeHt6/6rTDxhwAalbf247MDAsmMFQ/XoCg/VuIJiArqb8E8OUf0BFG1IZuNkasJvDxyHAwPAe\n",
       "ooglYQGK3Ou7d+9eBzGe8wDN5oAp2oCsJisMxnLIBhKcAmBFHMwo1l2DMTgbSqAsoCJdL2QXsyjA\n",
       "WGwBhjBFOXdvKSAbxAtnsTnAFaWacKN4PQPO4txQClfEYo7i7tkI5koOhJt2PsRuHcMTsKIJYEUV\n",
       "LAVIilgF4ExuYSCbeQE4WlgV2pGNWoRgem2dMAkYWcAIXs6wez2y/2Y0wz3C7nX+SgH2KCvdC40W\n",
       "KAAA4VNK37TZLg4AAAAASUVORK5CYII=\n",
       "\" style=\"display:inline;vertical-align:middle;\" /></a><br>"
      ],
      "text/plain": [
       "realsNegInComplexes: RealsNeg subset Complexes"
      ]
     },
     "execution_count": 5,
     "metadata": {},
     "output_type": "execute_result"
    }
   ],
   "source": [
    "realsNegInComplexes = Subset(RealsNeg, Complexes)"
   ]
  },
  {
   "cell_type": "code",
   "execution_count": 6,
   "metadata": {},
   "outputs": [
    {
     "data": {
      "text/html": [
       "<strong id=\"intsInComplexes\"><a class=\"ProveItLink\" href=\"_proofs_/intsInComplexes.ipynb\">intsInComplexes</a>:</strong> <a class=\"ProveItLink\" href=\"__pv_it/5441a05e1e9fdd4244a7208947bb008ff487cf770/expr.ipynb\"><img src=\"data:image/png;base64,iVBORw0KGgoAAAANSUhEUgAAADkAAAAPBAMAAACsFXoGAAAAMFBMVEX///9UVFTc3Nzu7u6qqqp2\n",
       "dnbMzMxmZmZERESIiIiYmJgyMjIQEBAiIiK6uroAAABqpg13AAAAAXRSTlMAQObYZgAAAOxJREFU\n",
       "GNNj4LvzZ/fZPQsY0ADn3v1n24FUewLDBg50SbZ8B+b65QwM7AEMrA5x6LILJBkYuL4DZQ0YFNkK\n",
       "IGJcvXfv3k0AMRIOA0lxsGAzhwGYZtqqANXKztQAJC3BOiasgojxwiQZDGGmMTBYMDdAGCVwa1X5\n",
       "JsCYYoxQPRfgsupwWb6CpxAGkwBc1oItAMriZgAaHAxkwCwAiRnAVIawPmBgOIBqMlcBSJYZZJ4i\n",
       "0Adg2UhEaHS+BBKvGRg4DJoZmKXAhnI7wGXZdwQzezQzMLzpPtFx/gTYe8yCj+HS6Xv+lqGHfQQ0\n",
       "JGEAAJvONZBYk+5SAAAAAElFTkSuQmCC\n",
       "\" style=\"display:inline;vertical-align:middle;\" /></a><br>"
      ],
      "text/plain": [
       "intsInComplexes: Integers subset Complexes"
      ]
     },
     "execution_count": 6,
     "metadata": {},
     "output_type": "execute_result"
    }
   ],
   "source": [
    "intsInComplexes = Subset(Integers, Complexes)"
   ]
  },
  {
   "cell_type": "code",
   "execution_count": 7,
   "metadata": {},
   "outputs": [
    {
     "data": {
      "text/html": [
       "<strong id=\"natsInComplexes\"><a class=\"ProveItLink\" href=\"_proofs_/natsInComplexes.ipynb\">natsInComplexes</a>:</strong> <a class=\"ProveItLink\" href=\"__pv_it/6f0eee484941948da5bf1cf073438d55efdf1ace0/expr.ipynb\"><img src=\"data:image/png;base64,iVBORw0KGgoAAAANSUhEUgAAADoAAAAPBAMAAABHIsEFAAAAMFBMVEX///9mZmaqqqrc3NyIiIgi\n",
       "IiJUVFTMzMyYmJi6uroQEBB2dnZEREQyMjLu7u4AAAA1o4RqAAAAAXRSTlMAQObYZgAAAO1JREFU\n",
       "GNNjePvn7AOGXb8mMKAB39hfMQIMDCfYExj4PqBLln9iePgDKJta4MLAsABNkoPNgYGhHyibeY6t\n",
       "gCEAItgTGhoaDmK0cz1gYGADyiaX8d2DytpuhukVsAESfED9yUwOZVDZYJgkX0IhlJXMsJPDASzL\n",
       "qACTZd4wBS7L9iAdLMsKdxSzAEKWL4EX7GYzuCzfgWq4LEM1O1j2DcJH99gQshwKB1BNZmgEywJ9\n",
       "lQ6kNoNluR3gsjyeQDbnBQaGSyDXXgCLXUJolj394NGZBwylv4D6+CCyzzIfwGTZZdcHFqAFb/VR\n",
       "aEhCAQAV6z3ys43ydQAAAABJRU5ErkJggg==\n",
       "\" style=\"display:inline;vertical-align:middle;\" /></a><br>"
      ],
      "text/plain": [
       "natsInComplexes: Naturals subset Complexes"
      ]
     },
     "execution_count": 7,
     "metadata": {},
     "output_type": "execute_result"
    }
   ],
   "source": [
    "natsInComplexes = Subset(Naturals, Complexes)"
   ]
  },
  {
   "cell_type": "code",
   "execution_count": 8,
   "metadata": {},
   "outputs": [
    {
     "data": {
      "text/html": [
       "<strong id=\"natsPosInComplexes\"><a class=\"ProveItLink\" href=\"_proofs_/natsPosInComplexes.ipynb\">natsPosInComplexes</a>:</strong> <a class=\"ProveItLink\" href=\"__pv_it/0d1586e95ee5c449eb1268d3fbf714ad53012c650/expr.ipynb\"><img src=\"data:image/png;base64,iVBORw0KGgoAAAANSUhEUgAAAEcAAAAUBAMAAAAthD11AAAAMFBMVEX///9mZmaqqqrc3NyIiIgi\n",
       "IiJUVFTMzMyYmJi6uroQEBB2dnZEREQyMjLu7u4AAAA1o4RqAAAAAXRSTlMAQObYZgAAAQVJREFU\n",
       "KM9jYCANsBGjiIceit7+OfuAYdevCdgVsVy9v/QgkD7BnsDA94Eh9+6tu3cb0NSw1yvwyTcCGakF\n",
       "LgwMC7Bb15DCwMDxEcjIPMdWwBCAoqgnNDQ0HEhzFKwDkolAnFzGdw9Vke1mKIOR+QCQfAJSxORQ\n",
       "hqooGMZ4xi4AZSUz7ORwQFbEqABTZM3pAFfE9iAdpIgZKsAKd5shkiK+BN4FSF4yg7PesG+AK2Ko\n",
       "ZkdW9AbO4n2QgFDEoXAASRHCOg4BkCI+IE4H4s3Iirgd4MwjU4DEXCC+BPLQBeRwvgRnMd7Zx6dz\n",
       "joGh9BfQFD4URc8yH8CYhbe+iuNIGdVHIdECAwB26kJ6lhEUHgAAAABJRU5ErkJggg==\n",
       "\" style=\"display:inline;vertical-align:middle;\" /></a><br>"
      ],
      "text/plain": [
       "natsPosInComplexes: NaturalsPos subset Complexes"
      ]
     },
     "execution_count": 8,
     "metadata": {},
     "output_type": "execute_result"
    }
   ],
   "source": [
    "natsPosInComplexes = Subset(NaturalsPos, Complexes)"
   ]
  },
  {
   "cell_type": "markdown",
   "metadata": {},
   "source": [
    "***An inBool theorem, which is accessed by the respective ComplexSet NumberSet to implement its deduceMembershipInBool() method:***"
   ]
  },
  {
   "cell_type": "code",
   "execution_count": 9,
   "metadata": {},
   "outputs": [
    {
     "data": {
      "text/html": [
       "<strong id=\"xInComplexesInBool\"><a class=\"ProveItLink\" href=\"_proofs_/xInComplexesInBool.ipynb\">xInComplexesInBool</a>:</strong> <a class=\"ProveItLink\" href=\"__pv_it/b85d104d041134264b6509ba60762f20085206330/expr.ipynb\"><img src=\"data:image/png;base64,iVBORw0KGgoAAAANSUhEUgAAAJoAAAAUBAMAAACHazmMAAAAMFBMVEX///8QEBCIiIhmZma6urrM\n",
       "zMxUVFQiIiJERETc3Nzu7u6qqqp2dnaYmJgyMjIAAAAcRTyBAAAAAXRSTlMAQObYZgAAAihJREFU\n",
       "OMtjYMAAnBcgGBfgnoBb/AGIcRdZdAUUYwF6dR8rDBgy0UTVJfofljkwgMRPg/ivkCVfQjEmCP3N\n",
       "sPivAcM6dPEHQVxdtgwg8RkgvzUgSfEaQDAm4GVTYGC4b8DAo4Am0eDLoMrBABLnWwCkNiBJsU+A\n",
       "YCRT2svrQPRVRqBaNgMGLgFUcZBpu4GmAcV5T61aNR1Z73QohgPWpgUQhgHIH1xAhz1BFQeZdgQU\n",
       "0kDxHx0dNcialaF4kdoUHbCX1kE1cSUEQ5UcZkAWB5nGUpoKEQdSncim9UIw1wHeInZwhMOikPOA\n",
       "E5R1jwFZHGiaY/1HB4i4MwPXA2TTqiGYZwHPLxZw8MGiiNMAZtp2BmRxsE/P3oGIszMwoSRVEQjm\n",
       "YuCAKGeVewcEIJ82xECVxKOIg03jYLkAFue5wM6AxTQGBn5IQkAkn1dsyKZxoriNgyEBLM75IAwo\n",
       "cMhULQDFp0A5qIAATNNlsGnAsHdHFQeZxgbKVCDxzhQGBqYFeewOKLHAvUAfKAoSMIJp4lABupbl\n",
       "ASwWjFDcxnsAIr65ABgIDG8ZkKIfiP039DPMhSRneNq261mwugNogw2a+IMYhjNmDBBxSPj8hEm5\n",
       "Q/AypUW2kNjhyvCCpWM7+WKQ95+iisNyPVicF+Qf1g+sOHMWywloDoICrgL84gzzeR7wEMz1MICR\n",
       "69HFl105dAom2MmAljvQwTpSxPGUlgjriBYnVJLzTsApDgBQr51K3/T46wAAAABJRU5ErkJggg==\n",
       "\" style=\"display:inline;vertical-align:middle;\" /></a><br>"
      ],
      "text/plain": [
       "xInComplexesInBool: forall_{x} ((x in Complexes) in BOOLEANS)"
      ]
     },
     "execution_count": 9,
     "metadata": {},
     "output_type": "execute_result"
    }
   ],
   "source": [
    "xInComplexesInBool = Forall(x, inBool(InSet(x, Complexes)))"
   ]
  },
  {
   "cell_type": "code",
   "execution_count": 10,
   "metadata": {},
   "outputs": [
    {
     "name": "stdout",
     "output_type": "stream",
     "text": [
      "Theorems may be imported from autogenerated _theorems_.py\n"
     ]
    }
   ],
   "source": [
    "%end theorems"
   ]
  },
  {
   "cell_type": "code",
   "execution_count": null,
   "metadata": {},
   "outputs": [],
   "source": []
  }
 ],
 "metadata": {
  "kernelspec": {
   "display_name": "Python 3",
   "language": "python",
   "name": "python3"
  }
 },
 "nbformat": 4,
 "nbformat_minor": 0
}
