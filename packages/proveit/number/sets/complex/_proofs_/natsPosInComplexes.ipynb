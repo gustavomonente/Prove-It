{
 "cells": [
  {
   "cell_type": "markdown",
   "metadata": {},
   "source": [
    "Proof of <a class=\"ProveItLink\" href=\"../../../../_context_.ipynb\">proveit</a>.<a class=\"ProveItLink\" href=\"../../../_context_.ipynb\">number</a>.<a class=\"ProveItLink\" href=\"../../_context_.ipynb\">sets</a>.<a class=\"ProveItLink\" href=\"../_context_.ipynb\">complex</a>.<a class=\"ProveItLink\" href=\"../_theorems_.ipynb#natsPosInComplexes\">natsPosInComplexes</a> theorem\n",
    "========"
   ]
  },
  {
   "cell_type": "code",
   "execution_count": 1,
   "metadata": {},
   "outputs": [],
   "source": [
    "import proveit\n",
    "context = proveit.Context('..') # the theorem's context is in the parent directory"
   ]
  },
  {
   "cell_type": "code",
   "execution_count": 2,
   "metadata": {},
   "outputs": [
    {
     "name": "stdout",
     "output_type": "stream",
     "text": [
      "Beginning proof of natsPosInComplexes\n",
      "Recorded 'presuming' information\n",
      "Presuming previous theorems (applied transitively).\n"
     ]
    },
    {
     "data": {
      "text/html": [
       "<strong id=\"natsPosInComplexes\">natsPosInComplexes:</strong> <a class=\"ProveItLink\" href=\"../__pv_it/0d1586e95ee5c449eb1268d3fbf714ad53012c650/expr.ipynb\"><img src=\"data:image/png;base64,iVBORw0KGgoAAAANSUhEUgAAAEcAAAAUBAMAAAAthD11AAAAMFBMVEX///9mZmaqqqrc3NyIiIgi\n",
       "IiJUVFTMzMyYmJi6uroQEBB2dnZEREQyMjLu7u4AAAA1o4RqAAAAAXRSTlMAQObYZgAAAQVJREFU\n",
       "KM9jYCANsBGjiIceit7+OfuAYdevCdgVsVy9v/QgkD7BnsDA94Eh9+6tu3cb0NSw1yvwyTcCGakF\n",
       "LgwMC7Bb15DCwMDxEcjIPMdWwBCAoqgnNDQ0HEhzFKwDkolAnFzGdw9Vke1mKIOR+QCQfAJSxORQ\n",
       "hqooGMZ4xi4AZSUz7ORwQFbEqABTZM3pAFfE9iAdpIgZKsAKd5shkiK+BN4FSF4yg7PesG+AK2Ko\n",
       "ZkdW9AbO4n2QgFDEoXAASRHCOg4BkCI+IE4H4s3Iirgd4MwjU4DEXCC+BPLQBeRwvgRnMd7Zx6dz\n",
       "joGh9BfQFD4URc8yH8CYhbe+iuNIGdVHIdECAwB26kJ6lhEUHgAAAABJRU5ErkJggg==\n",
       "\" style=\"display:inline;vertical-align:middle;\" /></a><br>(see <a class=\"ProveItLink\" href=\"../__pv_it/0d1586e95ee5c449eb1268d3fbf714ad53012c650/dependencies.ipynb\">dependencies</a>)<br>"
      ],
      "text/plain": [
       "natsPosInComplexes: NaturalsPos subset Complexes"
      ]
     },
     "execution_count": 2,
     "metadata": {},
     "output_type": "execute_result"
    }
   ],
   "source": [
    "%proving natsPosInComplexes presuming []"
   ]
  },
  {
   "cell_type": "code",
   "execution_count": null,
   "metadata": {},
   "outputs": [],
   "source": []
  }
 ],
 "metadata": {
  "kernelspec": {
   "display_name": "Python 3",
   "language": "python",
   "name": "python3"
  }
 },
 "nbformat": 4,
 "nbformat_minor": 0
}
