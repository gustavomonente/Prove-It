{
 "cells": [
  {
   "cell_type": "markdown",
   "metadata": {},
   "source": [
    "Proof of <a class=\"ProveItLink\" href=\"../../../../_context_.ipynb\">proveit</a>.<a class=\"ProveItLink\" href=\"../../../_context_.ipynb\">number</a>.<a class=\"ProveItLink\" href=\"../../_context_.ipynb\">sets</a>.<a class=\"ProveItLink\" href=\"../_context_.ipynb\">complex</a>.<a class=\"ProveItLink\" href=\"../_theorems_.ipynb#realsPosInComplexes\">realsPosInComplexes</a> theorem\n",
    "========"
   ]
  },
  {
   "cell_type": "code",
   "execution_count": 1,
   "metadata": {},
   "outputs": [],
   "source": [
    "import proveit\n",
    "context = proveit.Context('..') # the theorem's context is in the parent directory"
   ]
  },
  {
   "cell_type": "code",
   "execution_count": 2,
   "metadata": {},
   "outputs": [
    {
     "name": "stdout",
     "output_type": "stream",
     "text": [
      "Beginning proof of realsPosInComplexes\n",
      "Recorded 'presuming' information\n",
      "Presuming previous theorem (applied transitively).\n"
     ]
    },
    {
     "data": {
      "text/html": [
       "<strong id=\"realsPosInComplexes\">realsPosInComplexes:</strong> <a class=\"ProveItLink\" href=\"../__pv_it/b68db8b27c144abde3f12158691bbe6dde810d160/expr.ipynb\"><img src=\"data:image/png;base64,iVBORw0KGgoAAAANSUhEUgAAAEcAAAAUBAMAAAAthD11AAAAMFBMVEX///+IiIiqqqq6urpmZmZ2\n",
       "dnbc3NzMzMxUVFTu7u4yMjJEREQQEBAiIiKYmJgAAACIyPRpAAAAAXRSTlMAQObYZgAAAPtJREFU\n",
       "KM9jYCANcBCjiJseit6e3r/q9ANcihjXrj+7BUgvmMFQ/XoCQ9eqNatWPUBTw16vwOn/BMjYkMrA\n",
       "zdaA3aQHjQwMfF8gilgSFqAoen337t3rQJqv4CSQbIEp2oCsKCsMymBhA4lPhCjiYEax7hqMMYPd\n",
       "AcoCKtL1moCkiEUBpiiVWQCmKOfuLbAwG1SAF+62FISiVBPuCcheyoCzZrMHwBWxmG9AVjQbzuKa\n",
       "0IBw086HyIoQ1vE5gBRxQhRVsBQgKWIVgDM3GgIJK0i0sCq0Ixu1CM5iWR3Jqb0THMHLGXavV0BS\n",
       "NKMZ7pGSNX/dcaSM0r2QaIEBAGRtSetrpWkEAAAAAElFTkSuQmCC\n",
       "\" style=\"display:inline;vertical-align:middle;\" /></a><br>(see <a class=\"ProveItLink\" href=\"../__pv_it/b68db8b27c144abde3f12158691bbe6dde810d160/dependencies.ipynb\">dependencies</a>)<br>"
      ],
      "text/plain": [
       "realsPosInComplexes: RealsPos subset Complexes"
      ]
     },
     "execution_count": 2,
     "metadata": {},
     "output_type": "execute_result"
    }
   ],
   "source": [
    "%proving realsPosInComplexes presuming []"
   ]
  },
  {
   "cell_type": "code",
   "execution_count": null,
   "metadata": {},
   "outputs": [],
   "source": []
  }
 ],
 "metadata": {
  "kernelspec": {
   "display_name": "Python 3",
   "language": "python",
   "name": "python3"
  }
 },
 "nbformat": 4,
 "nbformat_minor": 0
}
