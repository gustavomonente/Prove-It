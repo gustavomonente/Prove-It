{
 "cells": [
  {
   "cell_type": "markdown",
   "metadata": {},
   "source": [
    "Demonstrations for context <a class=\"ProveItLink\" href=\"_context_.ipynb\">proveit.number.sets.complex</a>\n",
    "========"
   ]
  },
  {
   "cell_type": "code",
   "execution_count": 1,
   "metadata": {},
   "outputs": [],
   "source": [
    "import proveit\n",
    "from proveit._common_ import a, b, c, x\n",
    "from proveit.logic import InSet\n",
    "from proveit.number import Complexes\n",
    "%begin demonstrations"
   ]
  },
  {
   "cell_type": "markdown",
   "metadata": {},
   "source": [
    "# Complex Numbers $\\mathbb{C}$\n",
    "\n",
    "### UNDER CONSTRUCTION"
   ]
  },
  {
   "cell_type": "markdown",
   "metadata": {},
   "source": [
    "<div style=\"line-height:1.4; font-size:14pt\">\n",
    "\n",
    "<a href='#introduction'>Introduction</a><br>\n",
    "<a href='#simple_expressions'>Simple Expressions involving Complex number $\\mathbb{C}$</a><br>\n",
    "<a href='#common_attributes'>Common Attributes of NumberSet classes</a><br>\n",
    "<a href='#axioms'>Axioms</a><br>\n",
    "<a href='#further_demonstrations'>Further Demonstrations</a><br>\n",
    "    <ol>\n",
    "        <li><a href='#demo01'>Demo 1</a></li>\n",
    "        <li><a href='#demo02'>Demo 2</a></li>\n",
    "        <li><a href='#demo03'>Demo 3</a></li>\n",
    "    </ol>\n",
    "\n",
    "</div>\n"
   ]
  },
  {
   "cell_type": "markdown",
   "metadata": {},
   "source": [
    "## Introduction <a id='introduction'></a>"
   ]
  },
  {
   "cell_type": "markdown",
   "metadata": {},
   "source": [
    "<font size=4>UNDER CONSTRUCTION. Something here about the importance of having and using specifically pre-defined number sets such as the Complex numbers ($\\mathbb{C}$), the axiomatic definition, and perhaps the distinctiveness from other predefined NumberSet classes.</font>"
   ]
  },
  {
   "cell_type": "code",
   "execution_count": 2,
   "metadata": {},
   "outputs": [
    {
     "data": {
      "text/html": [
       "<span style=\"font-size:20px;\"> <a class=\"ProveItLink\" href=\"__pv_it/ebdcb8c1aaf4043089dafe99861727053fb0ddef0/proof.ipynb\" style=\"text-decoration: none\">&#x22A2;&nbsp;</a><a class=\"ProveItLink\" href=\"__pv_it/0d9f7dde6c8d34ac7a45dbc3fac5851dfaf8de1c0/expr.ipynb\"><img src=\"data:image/png;base64,iVBORw0KGgoAAAANSUhEUgAAAGkAAAAUBAMAAAB8EA4WAAAAMFBMVEX////MzMxUVFR2dna6uroQ\n",
       "EBCqqqqIiIgiIiJmZmYyMjJERETu7u6YmJjc3NwAAACgK8IjAAAAAXRSTlMAQObYZgAAAZlJREFU\n",
       "OMtjYOC7wIATsD3AJXMau3BV19fuCQx6aKIV0fuXNjkAGeuwahL8xnDy7wSGU+jiC8R59sxlYOCd\n",
       "gE0TL1MBA8P9CQzMBWgSG3wZCrkZGDhQnM67o6MLRF9kPcDAwDSBgScAVRykKw2o6wWyJsbtByCM\n",
       "Ca+BBA/QoiWo4iBdJsCQqAQyjxc9KQY75RRUkkdBEqrKkgFZHKSLpVGRgWEvUI0BbzvHApAYLMj4\n",
       "DNyhrFsMyOJAXa79X4Fh2MbAwHyA+Q8L2HsbYLomwHRlMCCLg11oe5mBIQRoFwM3RJgxahUQgFy4\n",
       "QRiqSh5FHKyLm+UCSBcDAz8kgPngZq5hQtbFh2IXN4MCyIVAOQGIWABM8iZYFzAMPFDFQbqYGBaA\n",
       "QoPtQD0DOziUpsMkuUuAtrMsgIXGdBS7eA1AQeufsJ/hLViMIwEmO2vzgWO7gSZNRhNfIMxgPAns\n",
       "hEPlx+dCEj6Ptg8svmfFd4KcvRBVHJZ6UVMUizU05UABTwN2ceypFwYwUi8M7MOn6xSJuZKAkfhK\n",
       "AF4cJQAAYhF0vUa6GKoAAAAASUVORK5CYII=\n",
       "\" style=\"display:inline;vertical-align:middle;\" /></a></span>"
      ],
      "text/plain": [
       "|- (x in Complexes) in BOOLEANS"
      ]
     },
     "execution_count": 2,
     "metadata": {},
     "output_type": "execute_result"
    }
   ],
   "source": [
    "InSet(x, Complexes).deduceInBool()"
   ]
  },
  {
   "cell_type": "code",
   "execution_count": 3,
   "metadata": {},
   "outputs": [],
   "source": [
    "%end demonstrations"
   ]
  },
  {
   "cell_type": "code",
   "execution_count": null,
   "metadata": {},
   "outputs": [],
   "source": []
  }
 ],
 "metadata": {
  "kernelspec": {
   "display_name": "Python 3",
   "language": "python",
   "name": "python3"
  }
 },
 "nbformat": 4,
 "nbformat_minor": 0
}
