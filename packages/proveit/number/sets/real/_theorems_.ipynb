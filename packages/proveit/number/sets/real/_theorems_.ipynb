{
 "cells": [
  {
   "cell_type": "markdown",
   "metadata": {},
   "source": [
    "Theorems (or conjectures) for the theory of <a class=\"ProveItLink\" href=\"_theory_.ipynb\">proveit.number.sets.real</a>\n",
    "========"
   ]
  },
  {
   "cell_type": "code",
   "execution_count": null,
   "metadata": {},
   "outputs": [],
   "source": [
    "import proveit\n",
    "# Prepare this notebook for defining the theorems of a theory:\n",
    "%theorems_notebook # Keep this at the top following 'import proveit'.\n",
    "from proveit._common_ import a, b, c, n, x\n",
    "from proveit.logic import Forall, Iff, inBool, InSet, NotEquals, NotInSet, ProperSubset\n",
    "from proveit.number import (Add, Greater, GreaterEq, IntervalCC,\n",
    "                            IntervalCO, IntervalOC, IntervalOO,\n",
    "                            Less, LessEq, Mult, Neg, sqrt)\n",
    "from proveit.number import (zero, one, two, e, pi, Integer, Natural,\n",
    "                            NaturalPos, Rationals, Reals, RealsPos,\n",
    "                            RealsNeg, RealsNonNeg)"
   ]
  },
  {
   "cell_type": "code",
   "execution_count": null,
   "metadata": {},
   "outputs": [],
   "source": [
    "%begin theorems"
   ]
  },
  {
   "cell_type": "code",
   "execution_count": null,
   "metadata": {},
   "outputs": [],
   "source": [
    "realsPosInReals = ProperSubset(RealsPos, Reals)"
   ]
  },
  {
   "cell_type": "code",
   "execution_count": null,
   "metadata": {},
   "outputs": [],
   "source": [
    "realsNegInReals = ProperSubset(RealsNeg, Reals)"
   ]
  },
  {
   "cell_type": "code",
   "execution_count": null,
   "metadata": {},
   "outputs": [],
   "source": [
    "realsNonNegInReals = ProperSubset(RealsNonNeg, Reals)"
   ]
  },
  {
   "cell_type": "code",
   "execution_count": null,
   "metadata": {},
   "outputs": [],
   "source": [
    "intInReals = ProperSubset(Integer, Reals)"
   ]
  },
  {
   "cell_type": "code",
   "execution_count": null,
   "metadata": {},
   "outputs": [],
   "source": [
    "rationalsInReals = ProperSubset(Rationals, Reals)"
   ]
  },
  {
   "cell_type": "code",
   "execution_count": null,
   "metadata": {},
   "outputs": [],
   "source": [
    "natInReals = ProperSubset(Natural, Reals)"
   ]
  },
  {
   "cell_type": "code",
   "execution_count": null,
   "metadata": {},
   "outputs": [],
   "source": [
    "natPosInReals = ProperSubset(NaturalPos, Reals)"
   ]
  },
  {
   "cell_type": "code",
   "execution_count": null,
   "metadata": {},
   "outputs": [],
   "source": [
    "natPosInRealsPos = ProperSubset(NaturalPos, RealsPos)"
   ]
  },
  {
   "cell_type": "code",
   "execution_count": null,
   "metadata": {},
   "outputs": [],
   "source": [
    "natInRealsNonNeg = ProperSubset(Natural, RealsNonNeg)"
   ]
  },
  {
   "cell_type": "code",
   "execution_count": null,
   "metadata": {},
   "outputs": [],
   "source": [
    "natPosInRealsNonNeg = ProperSubset(NaturalPos, RealsNonNeg)"
   ]
  },
  {
   "cell_type": "code",
   "execution_count": null,
   "metadata": {},
   "outputs": [],
   "source": [
    "realsPosInRealsNonNeg = ProperSubset(RealsPos, RealsNonNeg)"
   ]
  },
  {
   "cell_type": "code",
   "execution_count": null,
   "metadata": {},
   "outputs": [],
   "source": [
    "inRealsPos_iff_positive = Forall(a, Iff(InSet(a, RealsPos), Greater(a, zero)), domain=Reals)"
   ]
  },
  {
   "cell_type": "code",
   "execution_count": null,
   "metadata": {},
   "outputs": [],
   "source": [
    "inRealsNeg_iff_negative = Forall(a, Iff(InSet(a, RealsNeg), Less(a, zero)), domain=Reals)"
   ]
  },
  {
   "cell_type": "code",
   "execution_count": null,
   "metadata": {},
   "outputs": [],
   "source": [
    "negInRealsNegIfPosInRealsPos = Forall(\n",
    "    a,\n",
    "    InSet(Neg(a), RealsNeg),\n",
    "    domain=RealsPos)"
   ]
  },
  {
   "cell_type": "code",
   "execution_count": null,
   "metadata": {},
   "outputs": [],
   "source": [
    "inRealsNonNeg_iff_non_negative = Forall(\n",
    "    a,\n",
    "    Iff(InSet(a, RealsNonNeg), GreaterEq(a, zero)),\n",
    "    domain=Reals)"
   ]
  },
  {
   "cell_type": "code",
   "execution_count": null,
   "metadata": {},
   "outputs": [],
   "source": [
    "inRealsNonNegIfGreaterEqZero = Forall(\n",
    "    a,\n",
    "    InSet(a, RealsNonNeg),\n",
    "    domain=Reals,\n",
    "    conditions=[GreaterEq(a, zero)])"
   ]
  },
  {
   "cell_type": "markdown",
   "metadata": {},
   "source": [
    "***Non-Zero Theorems***"
   ]
  },
  {
   "cell_type": "code",
   "execution_count": null,
   "metadata": {},
   "outputs": [],
   "source": [
    "positive_implies_not_zero = Forall(\n",
    "    a,\n",
    "    NotEquals(a, zero),\n",
    "    domain=Reals,\n",
    "    conditions=[Greater(a, zero)])"
   ]
  },
  {
   "cell_type": "code",
   "execution_count": null,
   "metadata": {},
   "outputs": [],
   "source": [
    "negative_implies_not_zero = Forall(\n",
    "    a, NotEquals(a, zero),\n",
    "    domain=Reals,\n",
    "    conditions=[Less(a, zero)])"
   ]
  },
  {
   "cell_type": "markdown",
   "metadata": {},
   "source": [
    "***Elements of Real Intervals are Real Numbers***"
   ]
  },
  {
   "cell_type": "code",
   "execution_count": null,
   "metadata": {},
   "outputs": [],
   "source": [
    "all_in_IntervalOO_in_Reals = Forall(\n",
    "    (a, b),\n",
    "    Forall(x,\n",
    "           InSet(x, Reals),\n",
    "           domain=IntervalOO(a, b)),\n",
    "    domain=Reals)"
   ]
  },
  {
   "cell_type": "code",
   "execution_count": null,
   "metadata": {},
   "outputs": [],
   "source": [
    "all_in_IntervalCO_in_Reals = Forall(\n",
    "    (a, b),\n",
    "    Forall(x,\n",
    "           InSet(x, Reals),\n",
    "           domain=IntervalCO(a, b)),\n",
    "    domain=Reals)"
   ]
  },
  {
   "cell_type": "code",
   "execution_count": null,
   "metadata": {},
   "outputs": [],
   "source": [
    "all_in_IntervalOC_in_Reals = Forall(\n",
    "    (a, b),\n",
    "    Forall(x,\n",
    "           InSet(x, Reals),\n",
    "           domain=IntervalOC(a, b)),\n",
    "    domain=Reals)"
   ]
  },
  {
   "cell_type": "code",
   "execution_count": null,
   "metadata": {},
   "outputs": [],
   "source": [
    "all_in_IntervalCC_in_Reals = Forall(\n",
    "    (a, b),\n",
    "    Forall(x,\n",
    "           InSet(x, Reals),\n",
    "           domain=IntervalCC(a, b)),\n",
    "    domain=Reals)"
   ]
  },
  {
   "cell_type": "code",
   "execution_count": null,
   "metadata": {},
   "outputs": [],
   "source": [
    "xInRealsNonNegInBool = Forall(x, inBool(InSet(x, RealsNonNeg)))"
   ]
  },
  {
   "cell_type": "markdown",
   "metadata": {},
   "source": [
    "***Real Intervals are Subsets of Reals***"
   ]
  },
  {
   "cell_type": "code",
   "execution_count": null,
   "metadata": {},
   "outputs": [],
   "source": [
    "intervalOO_is_subset_of_Reals = Forall(\n",
    "    (a, b),\n",
    "    ProperSubset(IntervalOO(a, b), Reals),\n",
    "    domain=Reals)"
   ]
  },
  {
   "cell_type": "code",
   "execution_count": null,
   "metadata": {},
   "outputs": [],
   "source": [
    "intervalOC_is_subset_of_Reals = Forall(\n",
    "    (a, b),\n",
    "    ProperSubset(IntervalOC(a, b), Reals),\n",
    "    domain=Reals)"
   ]
  },
  {
   "cell_type": "code",
   "execution_count": null,
   "metadata": {},
   "outputs": [],
   "source": [
    "intervalCO_is_subset_of_Reals = Forall(\n",
    "    (a, b),\n",
    "    ProperSubset(IntervalCO(a, b), Reals),\n",
    "    domain=Reals)"
   ]
  },
  {
   "cell_type": "code",
   "execution_count": null,
   "metadata": {},
   "outputs": [],
   "source": [
    "intervalCC_is_subset_of_Reals = Forall(\n",
    "    (a, b),\n",
    "    ProperSubset(IntervalCC(a, b), Reals),\n",
    "    domain=Reals)"
   ]
  },
  {
   "cell_type": "markdown",
   "metadata": {},
   "source": [
    "***Positive Real Intervals are Subsets of the Positive Reals***"
   ]
  },
  {
   "cell_type": "code",
   "execution_count": null,
   "metadata": {},
   "outputs": [],
   "source": [
    "realsPos_intervalOO_is_subset_of_RealsPos = Forall(\n",
    "    (a, b),\n",
    "    ProperSubset(IntervalOO(a, b), RealsPos),\n",
    "    domain=RealsPos)"
   ]
  },
  {
   "cell_type": "code",
   "execution_count": null,
   "metadata": {},
   "outputs": [],
   "source": [
    "realsPos_intervalOC_is_subset_of_RealsPos = Forall(\n",
    "    (a, b),\n",
    "    ProperSubset(IntervalOC(a, b), RealsPos),\n",
    "    domain=RealsPos)"
   ]
  },
  {
   "cell_type": "code",
   "execution_count": null,
   "metadata": {},
   "outputs": [],
   "source": [
    "realsPos_intervalCO_is_subset_of_RealsPos = Forall(\n",
    "    (a, b),\n",
    "    ProperSubset(IntervalCO(a, b), RealsPos),\n",
    "    domain=RealsPos)"
   ]
  },
  {
   "cell_type": "code",
   "execution_count": null,
   "metadata": {},
   "outputs": [],
   "source": [
    "realsPos_intervalCC_is_subset_of_RealsPos = Forall(\n",
    "    (a, b),\n",
    "    ProperSubset(IntervalCC(a, b), RealsPos),\n",
    "    domain=RealsPos)"
   ]
  },
  {
   "cell_type": "markdown",
   "metadata": {},
   "source": [
    "***Non-Negative Real Intervals are Subsets of the Non-Negative Reals***"
   ]
  },
  {
   "cell_type": "code",
   "execution_count": null,
   "metadata": {},
   "outputs": [],
   "source": [
    "realsNonNeg_intervalOO_is_subset_of_realsNonNeg = Forall(\n",
    "    (a, b),\n",
    "    ProperSubset(IntervalOO(a, b), RealsNonNeg),\n",
    "    domain=RealsNonNeg)"
   ]
  },
  {
   "cell_type": "code",
   "execution_count": null,
   "metadata": {},
   "outputs": [],
   "source": [
    "realsNonNeg_intervalOC_is_subset_of_realsNonNeg = Forall(\n",
    "    (a, b),\n",
    "    ProperSubset(IntervalOC(a, b), RealsNonNeg),\n",
    "    domain=RealsNonNeg)"
   ]
  },
  {
   "cell_type": "code",
   "execution_count": null,
   "metadata": {},
   "outputs": [],
   "source": [
    "realsNonNeg_intervalCO_is_subset_of_realsNonNeg = Forall(\n",
    "    (a, b),\n",
    "    ProperSubset(IntervalCO(a, b), RealsNonNeg),\n",
    "    domain=RealsNonNeg)"
   ]
  },
  {
   "cell_type": "code",
   "execution_count": null,
   "metadata": {},
   "outputs": [],
   "source": [
    "realsNonNeg_intervalCC_is_subset_of_realsNonNeg = Forall(\n",
    "    (a, b),\n",
    "    ProperSubset(IntervalCC(a, b), RealsNonNeg),\n",
    "    domain=RealsNonNeg)"
   ]
  },
  {
   "cell_type": "markdown",
   "metadata": {},
   "source": [
    "***Upper and Lower Bounds on Real Intervals***"
   ]
  },
  {
   "cell_type": "code",
   "execution_count": null,
   "metadata": {},
   "outputs": [],
   "source": [
    "intervalOO_lower_bound = Forall(\n",
    "    (a, b),\n",
    "    Forall(x,\n",
    "           Less(a, x),\n",
    "           domain=IntervalOO(a, b)),\n",
    "    domain=Reals)"
   ]
  },
  {
   "cell_type": "code",
   "execution_count": null,
   "metadata": {},
   "outputs": [],
   "source": [
    "intervalOO_upper_bound = Forall(\n",
    "    (a, b),\n",
    "    Forall(x,\n",
    "           Less(x, b),\n",
    "           domain=IntervalOO(a, b)),\n",
    "    domain=Reals)"
   ]
  },
  {
   "cell_type": "code",
   "execution_count": null,
   "metadata": {},
   "outputs": [],
   "source": [
    "intervalCO_lower_bound = Forall(\n",
    "    (a, b),\n",
    "    Forall(x,\n",
    "           LessEq(a, x),\n",
    "           domain=IntervalCO(a, b)),\n",
    "    domain=Reals)"
   ]
  },
  {
   "cell_type": "code",
   "execution_count": null,
   "metadata": {},
   "outputs": [],
   "source": [
    "intervalCO_upper_bound = Forall(\n",
    "    (a, b),\n",
    "    Forall(x,\n",
    "           Less(x, b),\n",
    "           domain=IntervalCO(a, b)),\n",
    "    domain=Reals)"
   ]
  },
  {
   "cell_type": "code",
   "execution_count": null,
   "metadata": {},
   "outputs": [],
   "source": [
    "intervalOC_lower_bound = Forall(\n",
    "    (a, b),\n",
    "    Forall(x,\n",
    "           Less(a, x),\n",
    "           domain=IntervalOC(a, b)),\n",
    "    domain=Reals)"
   ]
  },
  {
   "cell_type": "code",
   "execution_count": null,
   "metadata": {},
   "outputs": [],
   "source": [
    "intervalOC_upper_bound = Forall(\n",
    "    (a, b),\n",
    "    Forall(x,\n",
    "           LessEq(x, b),\n",
    "           domain=IntervalOC(a, b)),\n",
    "    domain=Reals)"
   ]
  },
  {
   "cell_type": "code",
   "execution_count": null,
   "metadata": {},
   "outputs": [],
   "source": [
    "intervalCC_lower_bound = Forall(\n",
    "    (a, b),\n",
    "    Forall(x,\n",
    "           LessEq(a, x),\n",
    "           domain=IntervalCC(a, b)),\n",
    "    domain=Reals)"
   ]
  },
  {
   "cell_type": "code",
   "execution_count": null,
   "metadata": {},
   "outputs": [],
   "source": [
    "intervalCC_upper_bound = Forall(\n",
    "    (a, b),\n",
    "    Forall(x,\n",
    "           LessEq(x, b),\n",
    "           domain=IntervalCC(a, b)),\n",
    "    domain=Reals)"
   ]
  },
  {
   "cell_type": "markdown",
   "metadata": {},
   "source": [
    "***Translating Boundedness to Interval Membership***"
   ]
  },
  {
   "cell_type": "code",
   "execution_count": null,
   "metadata": {},
   "outputs": [],
   "source": [
    "in_IntervalOO = Forall(\n",
    "    (a, b, x),\n",
    "    InSet(x, IntervalOO(a, b)),\n",
    "    domain=Reals,\n",
    "    conditions=[Less(a, x), Less(x, b)])"
   ]
  },
  {
   "cell_type": "code",
   "execution_count": null,
   "metadata": {},
   "outputs": [],
   "source": [
    "in_IntervalCO = Forall(\n",
    "    (a, b, x),\n",
    "    InSet(x, IntervalCO(a, b)),\n",
    "    domain=Reals,\n",
    "    conditions=[LessEq(a, x), Less(x, b)])"
   ]
  },
  {
   "cell_type": "code",
   "execution_count": null,
   "metadata": {},
   "outputs": [],
   "source": [
    "in_IntervalOC = Forall(\n",
    "    (a, b, x),\n",
    "    InSet(x, IntervalOC(a, b)),\n",
    "    domain=Reals,\n",
    "    conditions=[Less(a, x), LessEq(x, b)])"
   ]
  },
  {
   "cell_type": "code",
   "execution_count": null,
   "metadata": {},
   "outputs": [],
   "source": [
    "in_IntervalCC = Forall(\n",
    "    (a, b, x),\n",
    "    InSet(x, IntervalCC(a, b)),\n",
    "    domain=Reals,\n",
    "    conditions=[LessEq(a, x), LessEq(x, b)])"
   ]
  },
  {
   "cell_type": "markdown",
   "metadata": {},
   "source": [
    "***Scaling Elements of Intervals To Scaled Intervals***"
   ]
  },
  {
   "cell_type": "code",
   "execution_count": null,
   "metadata": {},
   "outputs": [],
   "source": [
    "rescale_in_IntervalOO = Forall(\n",
    "    (a, b, c),\n",
    "    Forall(x,\n",
    "           InSet(Mult(c, x), IntervalOO(Mult(c, a), Mult(c, b))),\n",
    "           domain=IntervalOO(a, b)),\n",
    "    domain=Reals)"
   ]
  },
  {
   "cell_type": "code",
   "execution_count": null,
   "metadata": {},
   "outputs": [],
   "source": [
    "rescale_in_IntervalOC = Forall(\n",
    "    (a, b, c),\n",
    "    Forall(x,\n",
    "           InSet(Mult(c, x),\n",
    "                 IntervalOC(Mult(c, a), Mult(c, b))),\n",
    "           domain=IntervalOC(a, b)),\n",
    "    domain=Reals)"
   ]
  },
  {
   "cell_type": "code",
   "execution_count": null,
   "metadata": {},
   "outputs": [],
   "source": [
    "rescale_in_IntervalCO = Forall(\n",
    "    (a, b, c),\n",
    "    Forall(x,\n",
    "           InSet(Mult(c, x), IntervalCO(Mult(c, a), Mult(c, b))),\n",
    "           domain=IntervalCO(a, b)),\n",
    "    domain=Reals)"
   ]
  },
  {
   "cell_type": "code",
   "execution_count": null,
   "metadata": {},
   "outputs": [],
   "source": [
    "rescale_in_IntervalCC = Forall(\n",
    "    (a, b, c),\n",
    "    Forall(x,\n",
    "           InSet(Mult(c, x), IntervalCC(Mult(c, a), Mult(c, b))),\n",
    "           domain=IntervalCC(a, b)),\n",
    "    domain=Reals)"
   ]
  },
  {
   "cell_type": "markdown",
   "metadata": {},
   "source": [
    "***Interval Relaxation Theorems***"
   ]
  },
  {
   "cell_type": "code",
   "execution_count": null,
   "metadata": {},
   "outputs": [],
   "source": [
    "relax_IntervalCO = Forall(\n",
    "    (a, b),\n",
    "    Forall(x,\n",
    "           InSet(x, IntervalCC(a, b)),\n",
    "           domain=IntervalCO(a, b)),\n",
    "    domain=Reals)"
   ]
  },
  {
   "cell_type": "code",
   "execution_count": null,
   "metadata": {},
   "outputs": [],
   "source": [
    "relax_IntervalOC = Forall(\n",
    "    (a, b),\n",
    "    Forall(x,\n",
    "           InSet(x, IntervalCC(a, b)),\n",
    "           domain=IntervalOC(a, b)),\n",
    "    domain=Reals)"
   ]
  },
  {
   "cell_type": "code",
   "execution_count": null,
   "metadata": {},
   "outputs": [],
   "source": [
    "relax_IntervalOO_left = Forall(\n",
    "    (a, b),\n",
    "    Forall(x,\n",
    "           InSet(x, IntervalCO(a, b)),\n",
    "           domain=IntervalOO(a, b)),\n",
    "    domain=Reals)"
   ]
  },
  {
   "cell_type": "code",
   "execution_count": null,
   "metadata": {},
   "outputs": [],
   "source": [
    "relax_IntervalOO_right = Forall(\n",
    "    (a, b),\n",
    "    Forall(x,\n",
    "           InSet(x, IntervalOC(a, b)),\n",
    "           domain=IntervalOO(a, b)),\n",
    "    domain=Reals)"
   ]
  },
  {
   "cell_type": "code",
   "execution_count": null,
   "metadata": {},
   "outputs": [],
   "source": [
    "relax_IntervalOO_left_right = Forall(\n",
    "    (a, b),\n",
    "    Forall(x,\n",
    "           InSet(x, IntervalCC(a, b)),\n",
    "           domain=IntervalOO(a, b)),\n",
    "    domain=Reals)"
   ]
  },
  {
   "cell_type": "markdown",
   "metadata": {},
   "source": [
    "***Misc Theorems About Reals***"
   ]
  },
  {
   "cell_type": "code",
   "execution_count": null,
   "metadata": {},
   "outputs": [],
   "source": [
    "not_int_if_between_successive_int = Forall(\n",
    "    n,\n",
    "    Forall(x,\n",
    "           NotInSet(x, Integer),\n",
    "           domain=IntervalOO(n, Add(n, one))),\n",
    "    domain=Integer)\n"
   ]
  },
  {
   "cell_type": "code",
   "execution_count": null,
   "metadata": {},
   "outputs": [],
   "source": [
    "e_in_RealsPos = InSet(e, RealsPos)"
   ]
  },
  {
   "cell_type": "code",
   "execution_count": null,
   "metadata": {},
   "outputs": [],
   "source": [
    "e_not_zero = NotEquals(e, zero)"
   ]
  },
  {
   "cell_type": "code",
   "execution_count": null,
   "metadata": {},
   "outputs": [],
   "source": [
    "pi_in_RealsPos = InSet(pi, RealsPos)"
   ]
  },
  {
   "cell_type": "code",
   "execution_count": null,
   "metadata": {},
   "outputs": [],
   "source": [
    "pi_not_zero = NotEquals(pi, zero)"
   ]
  },
  {
   "cell_type": "markdown",
   "metadata": {},
   "source": [
    "***A set of inBool theorems, which are accessed by the respective NumberSets to implement their ``deduceMembershipInBool()`` methods, covering the ``RealsSet``, ``RealsPosSet``, and ``RealsNegSet`` NumberSet classes (defined in proveit/number/sets/real/reals.py):***"
   ]
  },
  {
   "cell_type": "code",
   "execution_count": null,
   "metadata": {},
   "outputs": [],
   "source": [
    "xInRealsInBool = Forall(x, inBool(InSet(x, Reals)))"
   ]
  },
  {
   "cell_type": "code",
   "execution_count": null,
   "metadata": {},
   "outputs": [],
   "source": [
    "xInRealsPosInBool = Forall(x, inBool(InSet(x, RealsPos)))"
   ]
  },
  {
   "cell_type": "code",
   "execution_count": null,
   "metadata": {},
   "outputs": [],
   "source": [
    "xInRealsNegInBool = Forall(x, inBool(InSet(x, RealsNeg)))"
   ]
  },
  {
   "cell_type": "code",
   "execution_count": null,
   "metadata": {},
   "outputs": [],
   "source": [
    "%end theorems"
   ]
  },
  {
   "cell_type": "code",
   "execution_count": null,
   "metadata": {},
   "outputs": [],
   "source": []
  }
 ],
 "metadata": {
  "kernelspec": {
   "display_name": "Python 3",
   "language": "python",
   "name": "python3"
  }
 },
 "nbformat": 4,
 "nbformat_minor": 0
}
