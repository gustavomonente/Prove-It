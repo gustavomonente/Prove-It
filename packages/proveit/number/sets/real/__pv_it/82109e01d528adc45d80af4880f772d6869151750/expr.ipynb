{
 "cells": [
  {
   "cell_type": "markdown",
   "metadata": {},
   "source": [
    "Expression of type <a class=\"ProveItLink\" href=\"../../../../../../../doc/html/api/proveit.Conditional.html\">Conditional</a>\n",
    "=======================\n",
    "# from context <a class=\"ProveItLink\" href=\"../../_context_.ipynb\">proveit.number.sets.real</a>"
   ]
  },
  {
   "cell_type": "code",
   "execution_count": 1,
   "metadata": {},
   "outputs": [],
   "source": [
    "import proveit\n",
    "# Automation is not needed when building an expression:\n",
    "proveit.defaults.automation = False # This will speed things up.\n",
    "proveit.defaults.inline_pngs = False # Makes files smaller.\n",
    "# import Expression classes needed to build the expression\n",
    "from proveit import Conditional\n",
    "from proveit._common_ import a, b, x\n",
    "from proveit.logic import And, InSet\n",
    "from proveit.number import IntervalOO, Less, Reals"
   ]
  },
  {
   "cell_type": "code",
   "execution_count": 2,
   "metadata": {},
   "outputs": [
    {
     "data": {
      "text/html": [
       "<strong id=\"expr\">expr:</strong> <a class=\"ProveItLink\" href=\"expr.ipynb\"><img src=\"expr.png\" style=\"display:inline;vertical-align:middle;\" /></a><br>"
      ],
      "text/plain": [
       "expr: {x in (a,b) if a in Reals ,  b in Reals ,  x in Reals ,  a < x ,  x < b."
      ]
     },
     "execution_count": 2,
     "metadata": {},
     "output_type": "execute_result"
    }
   ],
   "source": [
    "# build up the expression from sub-expressions\n",
    "expr = Conditional(InSet(x, IntervalOO(a, b)), And(InSet(a, Reals), InSet(b, Reals), InSet(x, Reals), Less(a, x), Less(x, b)))"
   ]
  },
  {
   "cell_type": "code",
   "execution_count": 3,
   "metadata": {},
   "outputs": [
    {
     "name": "stdout",
     "output_type": "stream",
     "text": [
      "Passed sanity check: built 'expr' is the same as the stored Expression.\n"
     ]
    }
   ],
   "source": [
    "# check that the built expression is the same as the stored expression\n",
    "%check_expr"
   ]
  },
  {
   "cell_type": "code",
   "execution_count": 4,
   "metadata": {},
   "outputs": [
    {
     "name": "stdout",
     "output_type": "stream",
     "text": [
      "\\left\\{x \\in \\left(a,b\\right) \\textrm{ if } a \\in \\mathbb{R} ,  b \\in \\mathbb{R} ,  x \\in \\mathbb{R} ,  a < x ,  x < b\\right..\n"
     ]
    }
   ],
   "source": [
    "# Show the LaTeX representation of the expression for convenience if you need it.\n",
    "print(expr.latex())"
   ]
  },
  {
   "cell_type": "code",
   "execution_count": 5,
   "metadata": {},
   "outputs": [
    {
     "data": {
      "text/html": [
       "<table><tr><th>&nbsp;</th><th>core type</th><th>sub-expressions</th><th>expression</th></tr>\n",
       "<tr><td>0</td><td>Conditional</td><td>value:&nbsp;1<br>condition:&nbsp;2<br></td><td><a class=\"ProveItLink\" href=\"expr.ipynb\"><img src=\"expr.png\" style=\"display:inline;vertical-align:middle;\" /></a></td></tr>\n",
       "<tr><td>1</td><td>Operation</td><td>operator:&nbsp;16<br>operands:&nbsp;3<br></td><td><a class=\"ProveItLink\" href=\"../9a656d4c9d2040bf5d5e65643f95696f8d7ec6fd0/expr.ipynb\"><img src=\"../9a656d4c9d2040bf5d5e65643f95696f8d7ec6fd0/expr.png\" style=\"display:inline;vertical-align:middle;\" /></a></td></tr>\n",
       "<tr><td>2</td><td>Operation</td><td>operator:&nbsp;4<br>operands:&nbsp;5<br></td><td><a class=\"ProveItLink\" href=\"../d0a9b371b3ae1ae17be187faa77bb1810e4a51fe0/expr.ipynb\"><img src=\"../d0a9b371b3ae1ae17be187faa77bb1810e4a51fe0/expr.png\" style=\"display:inline;vertical-align:middle;\" /></a></td></tr>\n",
       "<tr><td>3</td><td>ExprTuple</td><td>23, 6</td><td><a class=\"ProveItLink\" href=\"../9f6b83ebb0e9f0951e44f9fb98f6e770f8832d190/expr.ipynb\"><img src=\"../9f6b83ebb0e9f0951e44f9fb98f6e770f8832d190/expr.png\" style=\"display:inline;vertical-align:middle;\" /></a></td></tr>\n",
       "<tr><td>4</td><td>Literal</td><td></td><td><a class=\"ProveItLink\" href=\"../../../../../logic/boolean/conjunction/__pv_it/f41cc6b553210927c09f19a8a39cdf860a5585930/expr.ipynb\"><img src=\"../../../../../logic/boolean/conjunction/__pv_it/f41cc6b553210927c09f19a8a39cdf860a5585930/expr.png\" style=\"display:inline;vertical-align:middle;\" /></a></td></tr>\n",
       "<tr><td>5</td><td>ExprTuple</td><td>7, 8, 9, 10, 11</td><td><a class=\"ProveItLink\" href=\"../6c131cdf64b904c00d55b67ce03d4f02160bd1d00/expr.ipynb\"><img src=\"../6c131cdf64b904c00d55b67ce03d4f02160bd1d00/expr.png\" style=\"display:inline;vertical-align:middle;\" /></a></td></tr>\n",
       "<tr><td>6</td><td>Operation</td><td>operator:&nbsp;12<br>operands:&nbsp;13<br></td><td><a class=\"ProveItLink\" href=\"../0006c611d182e27e45d1a93aab421e56937c63fb0/expr.ipynb\"><img src=\"../0006c611d182e27e45d1a93aab421e56937c63fb0/expr.png\" style=\"display:inline;vertical-align:middle;\" /></a></td></tr>\n",
       "<tr><td>7</td><td>Operation</td><td>operator:&nbsp;16<br>operands:&nbsp;14<br></td><td><a class=\"ProveItLink\" href=\"../66aa304755e3cc506fdb3371c4565783dc40ae8c0/expr.ipynb\"><img src=\"../66aa304755e3cc506fdb3371c4565783dc40ae8c0/expr.png\" style=\"display:inline;vertical-align:middle;\" /></a></td></tr>\n",
       "<tr><td>8</td><td>Operation</td><td>operator:&nbsp;16<br>operands:&nbsp;15<br></td><td><a class=\"ProveItLink\" href=\"../5e7e05d58c6c7a8aa9aa4d2d3eca951a7cf7fae90/expr.ipynb\"><img src=\"../5e7e05d58c6c7a8aa9aa4d2d3eca951a7cf7fae90/expr.png\" style=\"display:inline;vertical-align:middle;\" /></a></td></tr>\n",
       "<tr><td>9</td><td>Operation</td><td>operator:&nbsp;16<br>operands:&nbsp;17<br></td><td><a class=\"ProveItLink\" href=\"../d2d6190f5fc1ca766a9021602cb97c358006f7dc0/expr.ipynb\"><img src=\"../d2d6190f5fc1ca766a9021602cb97c358006f7dc0/expr.png\" style=\"display:inline;vertical-align:middle;\" /></a></td></tr>\n",
       "<tr><td>10</td><td>Operation</td><td>operator:&nbsp;19<br>operands:&nbsp;18<br></td><td><a class=\"ProveItLink\" href=\"../2b5f764e5b8c227034e434aa89725e5436c912b90/expr.ipynb\"><img src=\"../2b5f764e5b8c227034e434aa89725e5436c912b90/expr.png\" style=\"display:inline;vertical-align:middle;\" /></a></td></tr>\n",
       "<tr><td>11</td><td>Operation</td><td>operator:&nbsp;19<br>operands:&nbsp;20<br></td><td><a class=\"ProveItLink\" href=\"../597285899a0baad72b951cbf4ae6136996bfcf480/expr.ipynb\"><img src=\"../597285899a0baad72b951cbf4ae6136996bfcf480/expr.png\" style=\"display:inline;vertical-align:middle;\" /></a></td></tr>\n",
       "<tr><td>12</td><td>Literal</td><td></td><td><a class=\"ProveItLink\" href=\"../b8417fd128e530dea0d4a588b98ccb73cb260fb60/expr.ipynb\"><img src=\"../b8417fd128e530dea0d4a588b98ccb73cb260fb60/expr.png\" style=\"display:inline;vertical-align:middle;\" /></a></td></tr>\n",
       "<tr><td>13</td><td>ExprTuple</td><td>22, 24</td><td><a class=\"ProveItLink\" href=\"../bbc1b69eb12288f0ad04da0d0cc6b9b8079b8b3f0/expr.ipynb\"><img src=\"../bbc1b69eb12288f0ad04da0d0cc6b9b8079b8b3f0/expr.png\" style=\"display:inline;vertical-align:middle;\" /></a></td></tr>\n",
       "<tr><td>14</td><td>ExprTuple</td><td>22, 21</td><td><a class=\"ProveItLink\" href=\"../b0286a2ddab88cf27b112dab6e49d2448999deb10/expr.ipynb\"><img src=\"../b0286a2ddab88cf27b112dab6e49d2448999deb10/expr.png\" style=\"display:inline;vertical-align:middle;\" /></a></td></tr>\n",
       "<tr><td>15</td><td>ExprTuple</td><td>24, 21</td><td><a class=\"ProveItLink\" href=\"../0786ebc9c193f33996a37f7934bb21d5df89093b0/expr.ipynb\"><img src=\"../0786ebc9c193f33996a37f7934bb21d5df89093b0/expr.png\" style=\"display:inline;vertical-align:middle;\" /></a></td></tr>\n",
       "<tr><td>16</td><td>Literal</td><td></td><td><a class=\"ProveItLink\" href=\"../../../../../logic/set_theory/membership/__pv_it/7776fc89cb67d0b5b1ec2c0c8e08da5587921ccf0/expr.ipynb\"><img src=\"../../../../../logic/set_theory/membership/__pv_it/7776fc89cb67d0b5b1ec2c0c8e08da5587921ccf0/expr.png\" style=\"display:inline;vertical-align:middle;\" /></a></td></tr>\n",
       "<tr><td>17</td><td>ExprTuple</td><td>23, 21</td><td><a class=\"ProveItLink\" href=\"../f5cf86225c0b3ff30b50ceeee088c71fc9d18c760/expr.ipynb\"><img src=\"../f5cf86225c0b3ff30b50ceeee088c71fc9d18c760/expr.png\" style=\"display:inline;vertical-align:middle;\" /></a></td></tr>\n",
       "<tr><td>18</td><td>ExprTuple</td><td>22, 23</td><td><a class=\"ProveItLink\" href=\"../50c2466ebd19b94a47d6240cc5eb13ccc47b53160/expr.ipynb\"><img src=\"../50c2466ebd19b94a47d6240cc5eb13ccc47b53160/expr.png\" style=\"display:inline;vertical-align:middle;\" /></a></td></tr>\n",
       "<tr><td>19</td><td>Literal</td><td></td><td><a class=\"ProveItLink\" href=\"../../../../ordering/__pv_it/f3d9fbb51fcb1b5a2184b502c51efff1714101450/expr.ipynb\"><img src=\"../../../../ordering/__pv_it/f3d9fbb51fcb1b5a2184b502c51efff1714101450/expr.png\" style=\"display:inline;vertical-align:middle;\" /></a></td></tr>\n",
       "<tr><td>20</td><td>ExprTuple</td><td>23, 24</td><td><a class=\"ProveItLink\" href=\"../de48b574c06b2864e5cbc6ea6dd57461648107150/expr.ipynb\"><img src=\"../de48b574c06b2864e5cbc6ea6dd57461648107150/expr.png\" style=\"display:inline;vertical-align:middle;\" /></a></td></tr>\n",
       "<tr><td>21</td><td>Literal</td><td></td><td><a class=\"ProveItLink\" href=\"../83c2d223a7b04200651811c8b29e747fd8f853510/expr.ipynb\"><img src=\"../83c2d223a7b04200651811c8b29e747fd8f853510/expr.png\" style=\"display:inline;vertical-align:middle;\" /></a></td></tr>\n",
       "<tr><td>22</td><td>Variable</td><td></td><td><a class=\"ProveItLink\" href=\"../../../../../__pv_it/a8d4b3a34d2189508f9082853fbac36935714f280/expr.ipynb\"><img src=\"../../../../../__pv_it/a8d4b3a34d2189508f9082853fbac36935714f280/expr.png\" style=\"display:inline;vertical-align:middle;\" /></a></td></tr>\n",
       "<tr><td>23</td><td>Variable</td><td></td><td><a class=\"ProveItLink\" href=\"../../../../../__pv_it/72df168d2bfb4e0140af90912ebf83b13772060b0/expr.ipynb\"><img src=\"../../../../../__pv_it/72df168d2bfb4e0140af90912ebf83b13772060b0/expr.png\" style=\"display:inline;vertical-align:middle;\" /></a></td></tr>\n",
       "<tr><td>24</td><td>Variable</td><td></td><td><a class=\"ProveItLink\" href=\"../../../../../__pv_it/53e304ff98ebc000dbe3ef224f4637dbafd46ba70/expr.ipynb\"><img src=\"../../../../../__pv_it/53e304ff98ebc000dbe3ef224f4637dbafd46ba70/expr.png\" style=\"display:inline;vertical-align:middle;\" /></a></td></tr>\n",
       "</table>\n"
      ],
      "text/plain": [
       "0. {x in (a,b) if a in Reals ,  b in Reals ,  x in Reals ,  a < x ,  x < b.\n",
       "   core type: Conditional\n",
       "   value: 1\n",
       "   condition: 2\n",
       "1. x in (a,b)\n",
       "   core type: Operation\n",
       "   operator: 16\n",
       "   operands: 3\n",
       "2. (a in Reals) and (b in Reals) and (x in Reals) and (a < x) and (x < b)\n",
       "   core type: Operation\n",
       "   operator: 4\n",
       "   operands: 5\n",
       "3. (x, (a,b))\n",
       "   core type: ExprTuple\n",
       "   sub-expressions: 23, 6\n",
       "4. and\n",
       "   core type: Literal\n",
       "   sub-expressions: \n",
       "5. (a in Reals, b in Reals, x in Reals, a < x, x < b)\n",
       "   core type: ExprTuple\n",
       "   sub-expressions: 7, 8, 9, 10, 11\n",
       "6. (a,b)\n",
       "   core type: Operation\n",
       "   operator: 12\n",
       "   operands: 13\n",
       "7. a in Reals\n",
       "   core type: Operation\n",
       "   operator: 16\n",
       "   operands: 14\n",
       "8. b in Reals\n",
       "   core type: Operation\n",
       "   operator: 16\n",
       "   operands: 15\n",
       "9. x in Reals\n",
       "   core type: Operation\n",
       "   operator: 16\n",
       "   operands: 17\n",
       "10. a < x\n",
       "    core type: Operation\n",
       "    operator: 19\n",
       "    operands: 18\n",
       "11. x < b\n",
       "    core type: Operation\n",
       "    operator: 19\n",
       "    operands: 20\n",
       "12. IntervalOO\n",
       "    core type: Literal\n",
       "    sub-expressions: \n",
       "13. (a, b)\n",
       "    core type: ExprTuple\n",
       "    sub-expressions: 22, 24\n",
       "14. (a, Reals)\n",
       "    core type: ExprTuple\n",
       "    sub-expressions: 22, 21\n",
       "15. (b, Reals)\n",
       "    core type: ExprTuple\n",
       "    sub-expressions: 24, 21\n",
       "16. in\n",
       "    core type: Literal\n",
       "    sub-expressions: \n",
       "17. (x, Reals)\n",
       "    core type: ExprTuple\n",
       "    sub-expressions: 23, 21\n",
       "18. (a, x)\n",
       "    core type: ExprTuple\n",
       "    sub-expressions: 22, 23\n",
       "19. <\n",
       "    core type: Literal\n",
       "    sub-expressions: \n",
       "20. (x, b)\n",
       "    core type: ExprTuple\n",
       "    sub-expressions: 23, 24\n",
       "21. Reals\n",
       "    core type: Literal\n",
       "    sub-expressions: \n",
       "22. a\n",
       "    core type: Variable\n",
       "    sub-expressions: \n",
       "23. x\n",
       "    core type: Variable\n",
       "    sub-expressions: \n",
       "24. b\n",
       "    core type: Variable\n",
       "    sub-expressions: "
      ]
     },
     "execution_count": 5,
     "metadata": {},
     "output_type": "execute_result"
    }
   ],
   "source": [
    "# display the expression information\n",
    "expr.exprInfo()"
   ]
  },
  {
   "cell_type": "code",
   "execution_count": null,
   "metadata": {},
   "outputs": [],
   "source": []
  }
 ],
 "metadata": {
  "kernelspec": {
   "display_name": "Python 3",
   "language": "python",
   "name": "python3"
  },
  "language_info": {
   "codemirror_mode": {
    "name": "ipython",
    "version": 3
   },
   "file_extension": ".py",
   "mimetype": "text/x-python",
   "name": "python",
   "nbconvert_exporter": "python",
   "pygments_lexer": "ipython3",
   "version": "3.7.3"
  }
 },
 "nbformat": 4,
 "nbformat_minor": 1
}
