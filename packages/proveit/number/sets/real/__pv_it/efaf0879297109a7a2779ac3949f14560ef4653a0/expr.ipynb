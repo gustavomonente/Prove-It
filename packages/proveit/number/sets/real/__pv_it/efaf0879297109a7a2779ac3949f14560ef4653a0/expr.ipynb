{
 "cells": [
  {
   "cell_type": "markdown",
   "metadata": {},
   "source": [
    "Theorem <a class=\"ProveItLink\" href=\"../../_theorems_.ipynb#rescale_in_IntervalOC\">rescale_in_IntervalOC</a> of type <a class=\"ProveItLink\" href=\"../../../../../../../doc/html/api/proveit.logic.Forall.html\">Forall</a>\n",
    "=======================\n",
    "# from context <a class=\"ProveItLink\" href=\"../../_context_.ipynb\">proveit.number.sets.real</a>\n",
    "*** see <a class=\"ProveItLink\" href=\"dependencies.ipynb\">dependencies</a> ***"
   ]
  },
  {
   "cell_type": "code",
   "execution_count": 1,
   "metadata": {},
   "outputs": [],
   "source": [
    "import proveit\n",
    "# Automation is not needed when only building an expression:\n",
    "proveit.defaults.automation = False # This will speed things up.\n",
    "proveit.defaults.inline_pngs = False # Makes files smaller.\n",
    "# import the special expression\n",
    "from proveit.number.sets.real._theorems_ import rescale_in_IntervalOC"
   ]
  },
  {
   "cell_type": "code",
   "execution_count": 2,
   "metadata": {},
   "outputs": [
    {
     "name": "stdout",
     "output_type": "stream",
     "text": [
      "Passed sanity check: built 'rescale_in_IntervalOC' is the same as the stored Expression.\n"
     ]
    }
   ],
   "source": [
    "# check that the built expression is the same as the stored expression\n",
    "%check_expr rescale_in_IntervalOC"
   ]
  },
  {
   "cell_type": "code",
   "execution_count": 3,
   "metadata": {},
   "outputs": [
    {
     "name": "stdout",
     "output_type": "stream",
     "text": [
      "\\vdash \\forall_{a \\in \\mathbb{R}, b \\in \\mathbb{R}, c \\in \\mathbb{R}}~\\left[\\forall_{x \\in \\left(a,b\\right]}~\\left(\\left(c \\cdot x\\right) \\in \\left(c \\cdot a,c \\cdot b\\right]\\right)\\right]\n"
     ]
    }
   ],
   "source": [
    "# Show the LaTeX representation of the expression for convenience if you need it.\n",
    "print(rescale_in_IntervalOC.latex())"
   ]
  },
  {
   "cell_type": "code",
   "execution_count": 4,
   "metadata": {},
   "outputs": [
    {
     "data": {
      "text/html": [
       "<table><tr><th>&nbsp;</th><th>core type</th><th>sub-expressions</th><th>expression</th></tr>\n",
       "<tr><td>0</td><td>Operation</td><td>operator:&nbsp;6<br>operand:&nbsp;1<br></td><td><a class=\"ProveItLink\" href=\"expr.ipynb\"><img src=\"expr.png\" style=\"display:inline;vertical-align:middle;\" /></a></td></tr>\n",
       "<tr><td>1</td><td>Lambda</td><td>parameters:&nbsp;2<br>body:&nbsp;3<br></td><td><a class=\"ProveItLink\" href=\"../b1a33803d8fa23c824e57b4354631bc03e06d8220/expr.ipynb\"><img src=\"../b1a33803d8fa23c824e57b4354631bc03e06d8220/expr.png\" style=\"display:inline;vertical-align:middle;\" /></a></td></tr>\n",
       "<tr><td>2</td><td>ExprTuple</td><td>36, 38, 37</td><td><a class=\"ProveItLink\" href=\"../d90118782a263653f0cbfdd8712fa5e8640d117d0/expr.ipynb\"><img src=\"../d90118782a263653f0cbfdd8712fa5e8640d117d0/expr.png\" style=\"display:inline;vertical-align:middle;\" /></a></td></tr>\n",
       "<tr><td>3</td><td>Conditional</td><td>value:&nbsp;4<br>condition:&nbsp;5<br></td><td><a class=\"ProveItLink\" href=\"../27b0b0d230b9030147c5ec825aefa9789c3063a50/expr.ipynb\"><img src=\"../27b0b0d230b9030147c5ec825aefa9789c3063a50/expr.png\" style=\"display:inline;vertical-align:middle;\" /></a></td></tr>\n",
       "<tr><td>4</td><td>Operation</td><td>operator:&nbsp;6<br>operand:&nbsp;7<br></td><td><a class=\"ProveItLink\" href=\"../b9c7825e873faa48e30bdf308f45f769c30ea2b80/expr.ipynb\"><img src=\"../b9c7825e873faa48e30bdf308f45f769c30ea2b80/expr.png\" style=\"display:inline;vertical-align:middle;\" /></a></td></tr>\n",
       "<tr><td>5</td><td>Operation</td><td>operator:&nbsp;8<br>operands:&nbsp;9<br></td><td><a class=\"ProveItLink\" href=\"../64b8180f768ff878cde6a0333da6882bfa48591a0/expr.ipynb\"><img src=\"../64b8180f768ff878cde6a0333da6882bfa48591a0/expr.png\" style=\"display:inline;vertical-align:middle;\" /></a></td></tr>\n",
       "<tr><td>6</td><td>Literal</td><td></td><td><a class=\"ProveItLink\" href=\"../../../../../logic/boolean/quantification/universal/__pv_it/fd9c772d6675566ed52a6897806f45eb08a4ea910/expr.ipynb\"><img src=\"../../../../../logic/boolean/quantification/universal/__pv_it/fd9c772d6675566ed52a6897806f45eb08a4ea910/expr.png\" style=\"display:inline;vertical-align:middle;\" /></a></td></tr>\n",
       "<tr><td>7</td><td>Lambda</td><td>parameter:&nbsp;30<br>body:&nbsp;10<br></td><td><a class=\"ProveItLink\" href=\"../4a8e67f79fdf3e578f9f219b09b69baaab2b8dea0/expr.ipynb\"><img src=\"../4a8e67f79fdf3e578f9f219b09b69baaab2b8dea0/expr.png\" style=\"display:inline;vertical-align:middle;\" /></a></td></tr>\n",
       "<tr><td>8</td><td>Literal</td><td></td><td><a class=\"ProveItLink\" href=\"../../../../../logic/boolean/conjunction/__pv_it/f41cc6b553210927c09f19a8a39cdf860a5585930/expr.ipynb\"><img src=\"../../../../../logic/boolean/conjunction/__pv_it/f41cc6b553210927c09f19a8a39cdf860a5585930/expr.png\" style=\"display:inline;vertical-align:middle;\" /></a></td></tr>\n",
       "<tr><td>9</td><td>ExprTuple</td><td>11, 12, 13</td><td><a class=\"ProveItLink\" href=\"../af2ba540ea46cb9d82a8df52512a0ade131a96750/expr.ipynb\"><img src=\"../af2ba540ea46cb9d82a8df52512a0ade131a96750/expr.png\" style=\"display:inline;vertical-align:middle;\" /></a></td></tr>\n",
       "<tr><td>10</td><td>Conditional</td><td>value:&nbsp;14<br>condition:&nbsp;15<br></td><td><a class=\"ProveItLink\" href=\"../cefe82e3623eee73bb42c76e769f15d44cce18b00/expr.ipynb\"><img src=\"../cefe82e3623eee73bb42c76e769f15d44cce18b00/expr.png\" style=\"display:inline;vertical-align:middle;\" /></a></td></tr>\n",
       "<tr><td>11</td><td>Operation</td><td>operator:&nbsp;20<br>operands:&nbsp;16<br></td><td><a class=\"ProveItLink\" href=\"../66aa304755e3cc506fdb3371c4565783dc40ae8c0/expr.ipynb\"><img src=\"../66aa304755e3cc506fdb3371c4565783dc40ae8c0/expr.png\" style=\"display:inline;vertical-align:middle;\" /></a></td></tr>\n",
       "<tr><td>12</td><td>Operation</td><td>operator:&nbsp;20<br>operands:&nbsp;17<br></td><td><a class=\"ProveItLink\" href=\"../5e7e05d58c6c7a8aa9aa4d2d3eca951a7cf7fae90/expr.ipynb\"><img src=\"../5e7e05d58c6c7a8aa9aa4d2d3eca951a7cf7fae90/expr.png\" style=\"display:inline;vertical-align:middle;\" /></a></td></tr>\n",
       "<tr><td>13</td><td>Operation</td><td>operator:&nbsp;20<br>operands:&nbsp;18<br></td><td><a class=\"ProveItLink\" href=\"../9bd70eedb6061c4a72bd040e3905faa0e7d54a0b0/expr.ipynb\"><img src=\"../9bd70eedb6061c4a72bd040e3905faa0e7d54a0b0/expr.png\" style=\"display:inline;vertical-align:middle;\" /></a></td></tr>\n",
       "<tr><td>14</td><td>Operation</td><td>operator:&nbsp;20<br>operands:&nbsp;19<br></td><td><a class=\"ProveItLink\" href=\"../a0cf6930e95afd20213d5bb42685c1d45904cb680/expr.ipynb\"><img src=\"../a0cf6930e95afd20213d5bb42685c1d45904cb680/expr.png\" style=\"display:inline;vertical-align:middle;\" /></a></td></tr>\n",
       "<tr><td>15</td><td>Operation</td><td>operator:&nbsp;20<br>operands:&nbsp;21<br></td><td><a class=\"ProveItLink\" href=\"../8e2467e6f9f3f5a5ad4c5a7204173c592a67ef7b0/expr.ipynb\"><img src=\"../8e2467e6f9f3f5a5ad4c5a7204173c592a67ef7b0/expr.png\" style=\"display:inline;vertical-align:middle;\" /></a></td></tr>\n",
       "<tr><td>16</td><td>ExprTuple</td><td>36, 22</td><td><a class=\"ProveItLink\" href=\"../b0286a2ddab88cf27b112dab6e49d2448999deb10/expr.ipynb\"><img src=\"../b0286a2ddab88cf27b112dab6e49d2448999deb10/expr.png\" style=\"display:inline;vertical-align:middle;\" /></a></td></tr>\n",
       "<tr><td>17</td><td>ExprTuple</td><td>38, 22</td><td><a class=\"ProveItLink\" href=\"../0786ebc9c193f33996a37f7934bb21d5df89093b0/expr.ipynb\"><img src=\"../0786ebc9c193f33996a37f7934bb21d5df89093b0/expr.png\" style=\"display:inline;vertical-align:middle;\" /></a></td></tr>\n",
       "<tr><td>18</td><td>ExprTuple</td><td>37, 22</td><td><a class=\"ProveItLink\" href=\"../3ec199252a99e0e28138ea7d99ba5a7cf190ab4e0/expr.ipynb\"><img src=\"../3ec199252a99e0e28138ea7d99ba5a7cf190ab4e0/expr.png\" style=\"display:inline;vertical-align:middle;\" /></a></td></tr>\n",
       "<tr><td>19</td><td>ExprTuple</td><td>23, 24</td><td><a class=\"ProveItLink\" href=\"../64b6872d7d245b57476361a398e2548d005e9b6a0/expr.ipynb\"><img src=\"../64b6872d7d245b57476361a398e2548d005e9b6a0/expr.png\" style=\"display:inline;vertical-align:middle;\" /></a></td></tr>\n",
       "<tr><td>20</td><td>Literal</td><td></td><td><a class=\"ProveItLink\" href=\"../../../../../logic/set_theory/membership/__pv_it/7776fc89cb67d0b5b1ec2c0c8e08da5587921ccf0/expr.ipynb\"><img src=\"../../../../../logic/set_theory/membership/__pv_it/7776fc89cb67d0b5b1ec2c0c8e08da5587921ccf0/expr.png\" style=\"display:inline;vertical-align:middle;\" /></a></td></tr>\n",
       "<tr><td>21</td><td>ExprTuple</td><td>30, 25</td><td><a class=\"ProveItLink\" href=\"../a378c65f724a4082b6918e3361d781cc275e2f730/expr.ipynb\"><img src=\"../a378c65f724a4082b6918e3361d781cc275e2f730/expr.png\" style=\"display:inline;vertical-align:middle;\" /></a></td></tr>\n",
       "<tr><td>22</td><td>Literal</td><td></td><td><a class=\"ProveItLink\" href=\"../83c2d223a7b04200651811c8b29e747fd8f853510/expr.ipynb\"><img src=\"../83c2d223a7b04200651811c8b29e747fd8f853510/expr.png\" style=\"display:inline;vertical-align:middle;\" /></a></td></tr>\n",
       "<tr><td>23</td><td>Operation</td><td>operator:&nbsp;34<br>operands:&nbsp;26<br></td><td><a class=\"ProveItLink\" href=\"../40b2a8d84163becede0c769307a9e5736cfcd3350/expr.ipynb\"><img src=\"../40b2a8d84163becede0c769307a9e5736cfcd3350/expr.png\" style=\"display:inline;vertical-align:middle;\" /></a></td></tr>\n",
       "<tr><td>24</td><td>Operation</td><td>operator:&nbsp;28<br>operands:&nbsp;27<br></td><td><a class=\"ProveItLink\" href=\"../d918490b6b2562db9ea76751576ca6b8b595ca3d0/expr.ipynb\"><img src=\"../d918490b6b2562db9ea76751576ca6b8b595ca3d0/expr.png\" style=\"display:inline;vertical-align:middle;\" /></a></td></tr>\n",
       "<tr><td>25</td><td>Operation</td><td>operator:&nbsp;28<br>operands:&nbsp;29<br></td><td><a class=\"ProveItLink\" href=\"../6c0f88d8e0fe48bf197b1925be30617f6c7933e60/expr.ipynb\"><img src=\"../6c0f88d8e0fe48bf197b1925be30617f6c7933e60/expr.png\" style=\"display:inline;vertical-align:middle;\" /></a></td></tr>\n",
       "<tr><td>26</td><td>ExprTuple</td><td>37, 30</td><td><a class=\"ProveItLink\" href=\"../f82bd2da05f9f3081fce1bd086c5fa66c73bc39f0/expr.ipynb\"><img src=\"../f82bd2da05f9f3081fce1bd086c5fa66c73bc39f0/expr.png\" style=\"display:inline;vertical-align:middle;\" /></a></td></tr>\n",
       "<tr><td>27</td><td>ExprTuple</td><td>31, 32</td><td><a class=\"ProveItLink\" href=\"../279790ad4ce8ffc1bb58abd821f87522f4be38380/expr.ipynb\"><img src=\"../279790ad4ce8ffc1bb58abd821f87522f4be38380/expr.png\" style=\"display:inline;vertical-align:middle;\" /></a></td></tr>\n",
       "<tr><td>28</td><td>Literal</td><td></td><td><a class=\"ProveItLink\" href=\"../61d88e8f4773fffaf588e350f1a1a624fa8430e80/expr.ipynb\"><img src=\"../61d88e8f4773fffaf588e350f1a1a624fa8430e80/expr.png\" style=\"display:inline;vertical-align:middle;\" /></a></td></tr>\n",
       "<tr><td>29</td><td>ExprTuple</td><td>36, 38</td><td><a class=\"ProveItLink\" href=\"../bbc1b69eb12288f0ad04da0d0cc6b9b8079b8b3f0/expr.ipynb\"><img src=\"../bbc1b69eb12288f0ad04da0d0cc6b9b8079b8b3f0/expr.png\" style=\"display:inline;vertical-align:middle;\" /></a></td></tr>\n",
       "<tr><td>30</td><td>Variable</td><td></td><td><a class=\"ProveItLink\" href=\"../../../../../__pv_it/72df168d2bfb4e0140af90912ebf83b13772060b0/expr.ipynb\"><img src=\"../../../../../__pv_it/72df168d2bfb4e0140af90912ebf83b13772060b0/expr.png\" style=\"display:inline;vertical-align:middle;\" /></a></td></tr>\n",
       "<tr><td>31</td><td>Operation</td><td>operator:&nbsp;34<br>operands:&nbsp;33<br></td><td><a class=\"ProveItLink\" href=\"../adfb0fbc6ad0df51a3439f374c69dee4b5aa32a90/expr.ipynb\"><img src=\"../adfb0fbc6ad0df51a3439f374c69dee4b5aa32a90/expr.png\" style=\"display:inline;vertical-align:middle;\" /></a></td></tr>\n",
       "<tr><td>32</td><td>Operation</td><td>operator:&nbsp;34<br>operands:&nbsp;35<br></td><td><a class=\"ProveItLink\" href=\"../4bae372222afbf585dedbab30442356a65e92cf30/expr.ipynb\"><img src=\"../4bae372222afbf585dedbab30442356a65e92cf30/expr.png\" style=\"display:inline;vertical-align:middle;\" /></a></td></tr>\n",
       "<tr><td>33</td><td>ExprTuple</td><td>37, 36</td><td><a class=\"ProveItLink\" href=\"../486264a884f50e24e1464b215bbf40eb6702c1d80/expr.ipynb\"><img src=\"../486264a884f50e24e1464b215bbf40eb6702c1d80/expr.png\" style=\"display:inline;vertical-align:middle;\" /></a></td></tr>\n",
       "<tr><td>34</td><td>Literal</td><td></td><td><a class=\"ProveItLink\" href=\"../../../../multiplication/__pv_it/f7a1ed7c35c8c884cf4c236d27cb79bf85638cad0/expr.ipynb\"><img src=\"../../../../multiplication/__pv_it/f7a1ed7c35c8c884cf4c236d27cb79bf85638cad0/expr.png\" style=\"display:inline;vertical-align:middle;\" /></a></td></tr>\n",
       "<tr><td>35</td><td>ExprTuple</td><td>37, 38</td><td><a class=\"ProveItLink\" href=\"../8a9ea107ab40aa8a9a994209f8d7724206c6023b0/expr.ipynb\"><img src=\"../8a9ea107ab40aa8a9a994209f8d7724206c6023b0/expr.png\" style=\"display:inline;vertical-align:middle;\" /></a></td></tr>\n",
       "<tr><td>36</td><td>Variable</td><td></td><td><a class=\"ProveItLink\" href=\"../../../../../__pv_it/a8d4b3a34d2189508f9082853fbac36935714f280/expr.ipynb\"><img src=\"../../../../../__pv_it/a8d4b3a34d2189508f9082853fbac36935714f280/expr.png\" style=\"display:inline;vertical-align:middle;\" /></a></td></tr>\n",
       "<tr><td>37</td><td>Variable</td><td></td><td><a class=\"ProveItLink\" href=\"../../../../../__pv_it/b2b446b221a34ee579eb9a1fbdd4ac4e2891d8c70/expr.ipynb\"><img src=\"../../../../../__pv_it/b2b446b221a34ee579eb9a1fbdd4ac4e2891d8c70/expr.png\" style=\"display:inline;vertical-align:middle;\" /></a></td></tr>\n",
       "<tr><td>38</td><td>Variable</td><td></td><td><a class=\"ProveItLink\" href=\"../../../../../__pv_it/53e304ff98ebc000dbe3ef224f4637dbafd46ba70/expr.ipynb\"><img src=\"../../../../../__pv_it/53e304ff98ebc000dbe3ef224f4637dbafd46ba70/expr.png\" style=\"display:inline;vertical-align:middle;\" /></a></td></tr>\n",
       "</table>\n"
      ],
      "text/plain": [
       "0. forall_{a in Reals, b in Reals, c in Reals} [forall_{x in (a,b]} ((c * x) in (c * a,c * b])]\n",
       "   core type: Operation\n",
       "   operator: 6\n",
       "   operand: 1\n",
       "1. (a, b, c) -> {forall_{x in (a,b]} ((c * x) in (c * a,c * b]) if a in Reals ,  b in Reals ,  c in Reals.\n",
       "   core type: Lambda\n",
       "   parameters: 2\\n   body: 3\n",
       "2. (a, b, c)\n",
       "   core type: ExprTuple\n",
       "   sub-expressions: 36, 38, 37\n",
       "3. {forall_{x in (a,b]} ((c * x) in (c * a,c * b]) if a in Reals ,  b in Reals ,  c in Reals.\n",
       "   core type: Conditional\n",
       "   value: 4\n",
       "   condition: 5\n",
       "4. forall_{x in (a,b]} ((c * x) in (c * a,c * b])\n",
       "   core type: Operation\n",
       "   operator: 6\n",
       "   operand: 7\n",
       "5. (a in Reals) and (b in Reals) and (c in Reals)\n",
       "   core type: Operation\n",
       "   operator: 8\n",
       "   operands: 9\n",
       "6. forall\n",
       "   core type: Literal\n",
       "   sub-expressions: \n",
       "7. x -> {(c * x) in (c * a,c * b] if x in (a,b].\n",
       "   core type: Lambda\n",
       "   parameter: 30\n",
       "   body: 10\n",
       "8. and\n",
       "   core type: Literal\n",
       "   sub-expressions: \n",
       "9. (a in Reals, b in Reals, c in Reals)\n",
       "   core type: ExprTuple\n",
       "   sub-expressions: 11, 12, 13\n",
       "10. {(c * x) in (c * a,c * b] if x in (a,b].\n",
       "    core type: Conditional\n",
       "    value: 14\n",
       "    condition: 15\n",
       "11. a in Reals\n",
       "    core type: Operation\n",
       "    operator: 20\n",
       "    operands: 16\n",
       "12. b in Reals\n",
       "    core type: Operation\n",
       "    operator: 20\n",
       "    operands: 17\n",
       "13. c in Reals\n",
       "    core type: Operation\n",
       "    operator: 20\n",
       "    operands: 18\n",
       "14. (c * x) in (c * a,c * b]\n",
       "    core type: Operation\n",
       "    operator: 20\n",
       "    operands: 19\n",
       "15. x in (a,b]\n",
       "    core type: Operation\n",
       "    operator: 20\n",
       "    operands: 21\n",
       "16. (a, Reals)\n",
       "    core type: ExprTuple\n",
       "    sub-expressions: 36, 22\n",
       "17. (b, Reals)\n",
       "    core type: ExprTuple\n",
       "    sub-expressions: 38, 22\n",
       "18. (c, Reals)\n",
       "    core type: ExprTuple\n",
       "    sub-expressions: 37, 22\n",
       "19. (c * x, (c * a,c * b])\n",
       "    core type: ExprTuple\n",
       "    sub-expressions: 23, 24\n",
       "20. in\n",
       "    core type: Literal\n",
       "    sub-expressions: \n",
       "21. (x, (a,b])\n",
       "    core type: ExprTuple\n",
       "    sub-expressions: 30, 25\n",
       "22. Reals\n",
       "    core type: Literal\n",
       "    sub-expressions: \n",
       "23. c * x\n",
       "    core type: Operation\n",
       "    operator: 34\n",
       "    operands: 26\n",
       "24. (c * a,c * b]\n",
       "    core type: Operation\n",
       "    operator: 28\n",
       "    operands: 27\n",
       "25. (a,b]\n",
       "    core type: Operation\n",
       "    operator: 28\n",
       "    operands: 29\n",
       "26. (c, x)\n",
       "    core type: ExprTuple\n",
       "    sub-expressions: 37, 30\n",
       "27. (c * a, c * b)\n",
       "    core type: ExprTuple\n",
       "    sub-expressions: 31, 32\n",
       "28. IntervalOC\n",
       "    core type: Literal\n",
       "    sub-expressions: \n",
       "29. (a, b)\n",
       "    core type: ExprTuple\n",
       "    sub-expressions: 36, 38\n",
       "30. x\n",
       "    core type: Variable\n",
       "    sub-expressions: \n",
       "31. c * a\n",
       "    core type: Operation\n",
       "    operator: 34\n",
       "    operands: 33\n",
       "32. c * b\n",
       "    core type: Operation\n",
       "    operator: 34\n",
       "    operands: 35\n",
       "33. (c, a)\n",
       "    core type: ExprTuple\n",
       "    sub-expressions: 37, 36\n",
       "34. *\n",
       "    core type: Literal\n",
       "    sub-expressions: \n",
       "35. (c, b)\n",
       "    core type: ExprTuple\n",
       "    sub-expressions: 37, 38\n",
       "36. a\n",
       "    core type: Variable\n",
       "    sub-expressions: \n",
       "37. c\n",
       "    core type: Variable\n",
       "    sub-expressions: \n",
       "38. b\n",
       "    core type: Variable\n",
       "    sub-expressions: "
      ]
     },
     "execution_count": 4,
     "metadata": {},
     "output_type": "execute_result"
    }
   ],
   "source": [
    "# display the expression information\n",
    "rescale_in_IntervalOC.exprInfo()"
   ]
  },
  {
   "cell_type": "code",
   "execution_count": null,
   "metadata": {},
   "outputs": [],
   "source": []
  }
 ],
 "metadata": {
  "kernelspec": {
   "display_name": "Python 3",
   "language": "python",
   "name": "python3"
  },
  "language_info": {
   "codemirror_mode": {
    "name": "ipython",
    "version": 3
   },
   "file_extension": ".py",
   "mimetype": "text/x-python",
   "name": "python",
   "nbconvert_exporter": "python",
   "pygments_lexer": "ipython3",
   "version": "3.7.3"
  }
 },
 "nbformat": 4,
 "nbformat_minor": 1
}
