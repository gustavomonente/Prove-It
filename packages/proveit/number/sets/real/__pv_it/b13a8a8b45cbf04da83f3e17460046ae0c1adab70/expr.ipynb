{
 "cells": [
  {
   "cell_type": "markdown",
   "metadata": {},
   "source": [
    "Expression of type <a class=\"ProveItLink\" href=\"../../../../../../../doc/html/api/proveit.Conditional.html\">Conditional</a>\n",
    "=======================\n",
    "# from context <a class=\"ProveItLink\" href=\"../../_context_.ipynb\">proveit.number.sets.real</a>"
   ]
  },
  {
   "cell_type": "code",
   "execution_count": 1,
   "metadata": {},
   "outputs": [],
   "source": [
    "import proveit\n",
    "# Automation is not needed when building an expression:\n",
    "proveit.defaults.automation = False # This will speed things up.\n",
    "proveit.defaults.inline_pngs = False # Makes files smaller.\n",
    "# import Expression classes needed to build the expression\n",
    "from proveit import Conditional\n",
    "from proveit._common_ import a, b, c, x\n",
    "from proveit.logic import And, Forall, InSet\n",
    "from proveit.number import IntervalOO, Mult, Reals"
   ]
  },
  {
   "cell_type": "code",
   "execution_count": 2,
   "metadata": {},
   "outputs": [
    {
     "data": {
      "text/html": [
       "<strong id=\"expr\">expr:</strong> <a class=\"ProveItLink\" href=\"expr.ipynb\"><img src=\"expr.png\" style=\"display:inline;vertical-align:middle;\" /></a><br>"
      ],
      "text/plain": [
       "expr: {forall_{x in (a,b)} ((c * x) in (c * a,c * b)) if a in Reals ,  b in Reals ,  c in Reals."
      ]
     },
     "execution_count": 2,
     "metadata": {},
     "output_type": "execute_result"
    }
   ],
   "source": [
    "# build up the expression from sub-expressions\n",
    "expr = Conditional(Forall([x], InSet(Mult(c, x), IntervalOO(Mult(c, a), Mult(c, b))), domain = IntervalOO(a, b)), And(InSet(a, Reals), InSet(b, Reals), InSet(c, Reals)))"
   ]
  },
  {
   "cell_type": "code",
   "execution_count": 3,
   "metadata": {},
   "outputs": [
    {
     "name": "stdout",
     "output_type": "stream",
     "text": [
      "Passed sanity check: built 'expr' is the same as the stored Expression.\n"
     ]
    }
   ],
   "source": [
    "# check that the built expression is the same as the stored expression\n",
    "%check_expr"
   ]
  },
  {
   "cell_type": "code",
   "execution_count": 4,
   "metadata": {},
   "outputs": [
    {
     "name": "stdout",
     "output_type": "stream",
     "text": [
      "\\left\\{\\forall_{x \\in \\left(a,b\\right)}~\\left(\\left(c \\cdot x\\right) \\in \\left(c \\cdot a,c \\cdot b\\right)\\right) \\textrm{ if } a \\in \\mathbb{R} ,  b \\in \\mathbb{R} ,  c \\in \\mathbb{R}\\right..\n"
     ]
    }
   ],
   "source": [
    "# Show the LaTeX representation of the expression for convenience if you need it.\n",
    "print(expr.latex())"
   ]
  },
  {
   "cell_type": "code",
   "execution_count": 5,
   "metadata": {},
   "outputs": [
    {
     "data": {
      "text/html": [
       "<table><tr><th>&nbsp;</th><th>core type</th><th>sub-expressions</th><th>expression</th></tr>\n",
       "<tr><td>0</td><td>Conditional</td><td>value:&nbsp;1<br>condition:&nbsp;2<br></td><td><a class=\"ProveItLink\" href=\"expr.ipynb\"><img src=\"expr.png\" style=\"display:inline;vertical-align:middle;\" /></a></td></tr>\n",
       "<tr><td>1</td><td>Operation</td><td>operator:&nbsp;3<br>operand:&nbsp;4<br></td><td><a class=\"ProveItLink\" href=\"../d986f33f2a544d56de147ac1efc941a358b01c690/expr.ipynb\"><img src=\"../d986f33f2a544d56de147ac1efc941a358b01c690/expr.png\" style=\"display:inline;vertical-align:middle;\" /></a></td></tr>\n",
       "<tr><td>2</td><td>Operation</td><td>operator:&nbsp;5<br>operands:&nbsp;6<br></td><td><a class=\"ProveItLink\" href=\"../64b8180f768ff878cde6a0333da6882bfa48591a0/expr.ipynb\"><img src=\"../64b8180f768ff878cde6a0333da6882bfa48591a0/expr.png\" style=\"display:inline;vertical-align:middle;\" /></a></td></tr>\n",
       "<tr><td>3</td><td>Literal</td><td></td><td><a class=\"ProveItLink\" href=\"../../../../../logic/boolean/quantification/universal/__pv_it/fd9c772d6675566ed52a6897806f45eb08a4ea910/expr.ipynb\"><img src=\"../../../../../logic/boolean/quantification/universal/__pv_it/fd9c772d6675566ed52a6897806f45eb08a4ea910/expr.png\" style=\"display:inline;vertical-align:middle;\" /></a></td></tr>\n",
       "<tr><td>4</td><td>Lambda</td><td>parameter:&nbsp;27<br>body:&nbsp;7<br></td><td><a class=\"ProveItLink\" href=\"../61134a1014071a42981fb092de28ce3ce2cf668d0/expr.ipynb\"><img src=\"../61134a1014071a42981fb092de28ce3ce2cf668d0/expr.png\" style=\"display:inline;vertical-align:middle;\" /></a></td></tr>\n",
       "<tr><td>5</td><td>Literal</td><td></td><td><a class=\"ProveItLink\" href=\"../../../../../logic/boolean/conjunction/__pv_it/f41cc6b553210927c09f19a8a39cdf860a5585930/expr.ipynb\"><img src=\"../../../../../logic/boolean/conjunction/__pv_it/f41cc6b553210927c09f19a8a39cdf860a5585930/expr.png\" style=\"display:inline;vertical-align:middle;\" /></a></td></tr>\n",
       "<tr><td>6</td><td>ExprTuple</td><td>8, 9, 10</td><td><a class=\"ProveItLink\" href=\"../af2ba540ea46cb9d82a8df52512a0ade131a96750/expr.ipynb\"><img src=\"../af2ba540ea46cb9d82a8df52512a0ade131a96750/expr.png\" style=\"display:inline;vertical-align:middle;\" /></a></td></tr>\n",
       "<tr><td>7</td><td>Conditional</td><td>value:&nbsp;11<br>condition:&nbsp;12<br></td><td><a class=\"ProveItLink\" href=\"../ba34d165b491475eb7ecb2dc98f3c8605ed062e70/expr.ipynb\"><img src=\"../ba34d165b491475eb7ecb2dc98f3c8605ed062e70/expr.png\" style=\"display:inline;vertical-align:middle;\" /></a></td></tr>\n",
       "<tr><td>8</td><td>Operation</td><td>operator:&nbsp;17<br>operands:&nbsp;13<br></td><td><a class=\"ProveItLink\" href=\"../66aa304755e3cc506fdb3371c4565783dc40ae8c0/expr.ipynb\"><img src=\"../66aa304755e3cc506fdb3371c4565783dc40ae8c0/expr.png\" style=\"display:inline;vertical-align:middle;\" /></a></td></tr>\n",
       "<tr><td>9</td><td>Operation</td><td>operator:&nbsp;17<br>operands:&nbsp;14<br></td><td><a class=\"ProveItLink\" href=\"../5e7e05d58c6c7a8aa9aa4d2d3eca951a7cf7fae90/expr.ipynb\"><img src=\"../5e7e05d58c6c7a8aa9aa4d2d3eca951a7cf7fae90/expr.png\" style=\"display:inline;vertical-align:middle;\" /></a></td></tr>\n",
       "<tr><td>10</td><td>Operation</td><td>operator:&nbsp;17<br>operands:&nbsp;15<br></td><td><a class=\"ProveItLink\" href=\"../9bd70eedb6061c4a72bd040e3905faa0e7d54a0b0/expr.ipynb\"><img src=\"../9bd70eedb6061c4a72bd040e3905faa0e7d54a0b0/expr.png\" style=\"display:inline;vertical-align:middle;\" /></a></td></tr>\n",
       "<tr><td>11</td><td>Operation</td><td>operator:&nbsp;17<br>operands:&nbsp;16<br></td><td><a class=\"ProveItLink\" href=\"../eee4755277aaa3b05da9fbadee53eab3b1d2b24b0/expr.ipynb\"><img src=\"../eee4755277aaa3b05da9fbadee53eab3b1d2b24b0/expr.png\" style=\"display:inline;vertical-align:middle;\" /></a></td></tr>\n",
       "<tr><td>12</td><td>Operation</td><td>operator:&nbsp;17<br>operands:&nbsp;18<br></td><td><a class=\"ProveItLink\" href=\"../9a656d4c9d2040bf5d5e65643f95696f8d7ec6fd0/expr.ipynb\"><img src=\"../9a656d4c9d2040bf5d5e65643f95696f8d7ec6fd0/expr.png\" style=\"display:inline;vertical-align:middle;\" /></a></td></tr>\n",
       "<tr><td>13</td><td>ExprTuple</td><td>33, 19</td><td><a class=\"ProveItLink\" href=\"../b0286a2ddab88cf27b112dab6e49d2448999deb10/expr.ipynb\"><img src=\"../b0286a2ddab88cf27b112dab6e49d2448999deb10/expr.png\" style=\"display:inline;vertical-align:middle;\" /></a></td></tr>\n",
       "<tr><td>14</td><td>ExprTuple</td><td>35, 19</td><td><a class=\"ProveItLink\" href=\"../0786ebc9c193f33996a37f7934bb21d5df89093b0/expr.ipynb\"><img src=\"../0786ebc9c193f33996a37f7934bb21d5df89093b0/expr.png\" style=\"display:inline;vertical-align:middle;\" /></a></td></tr>\n",
       "<tr><td>15</td><td>ExprTuple</td><td>34, 19</td><td><a class=\"ProveItLink\" href=\"../3ec199252a99e0e28138ea7d99ba5a7cf190ab4e0/expr.ipynb\"><img src=\"../3ec199252a99e0e28138ea7d99ba5a7cf190ab4e0/expr.png\" style=\"display:inline;vertical-align:middle;\" /></a></td></tr>\n",
       "<tr><td>16</td><td>ExprTuple</td><td>20, 21</td><td><a class=\"ProveItLink\" href=\"../933cd35cd0a495efd1fb6b3242c97ca9dcef95140/expr.ipynb\"><img src=\"../933cd35cd0a495efd1fb6b3242c97ca9dcef95140/expr.png\" style=\"display:inline;vertical-align:middle;\" /></a></td></tr>\n",
       "<tr><td>17</td><td>Literal</td><td></td><td><a class=\"ProveItLink\" href=\"../../../../../logic/set_theory/membership/__pv_it/7776fc89cb67d0b5b1ec2c0c8e08da5587921ccf0/expr.ipynb\"><img src=\"../../../../../logic/set_theory/membership/__pv_it/7776fc89cb67d0b5b1ec2c0c8e08da5587921ccf0/expr.png\" style=\"display:inline;vertical-align:middle;\" /></a></td></tr>\n",
       "<tr><td>18</td><td>ExprTuple</td><td>27, 22</td><td><a class=\"ProveItLink\" href=\"../9f6b83ebb0e9f0951e44f9fb98f6e770f8832d190/expr.ipynb\"><img src=\"../9f6b83ebb0e9f0951e44f9fb98f6e770f8832d190/expr.png\" style=\"display:inline;vertical-align:middle;\" /></a></td></tr>\n",
       "<tr><td>19</td><td>Literal</td><td></td><td><a class=\"ProveItLink\" href=\"../83c2d223a7b04200651811c8b29e747fd8f853510/expr.ipynb\"><img src=\"../83c2d223a7b04200651811c8b29e747fd8f853510/expr.png\" style=\"display:inline;vertical-align:middle;\" /></a></td></tr>\n",
       "<tr><td>20</td><td>Operation</td><td>operator:&nbsp;31<br>operands:&nbsp;23<br></td><td><a class=\"ProveItLink\" href=\"../40b2a8d84163becede0c769307a9e5736cfcd3350/expr.ipynb\"><img src=\"../40b2a8d84163becede0c769307a9e5736cfcd3350/expr.png\" style=\"display:inline;vertical-align:middle;\" /></a></td></tr>\n",
       "<tr><td>21</td><td>Operation</td><td>operator:&nbsp;25<br>operands:&nbsp;24<br></td><td><a class=\"ProveItLink\" href=\"../38c13980586722cd91d7fbc7130e09ebcfdda0650/expr.ipynb\"><img src=\"../38c13980586722cd91d7fbc7130e09ebcfdda0650/expr.png\" style=\"display:inline;vertical-align:middle;\" /></a></td></tr>\n",
       "<tr><td>22</td><td>Operation</td><td>operator:&nbsp;25<br>operands:&nbsp;26<br></td><td><a class=\"ProveItLink\" href=\"../0006c611d182e27e45d1a93aab421e56937c63fb0/expr.ipynb\"><img src=\"../0006c611d182e27e45d1a93aab421e56937c63fb0/expr.png\" style=\"display:inline;vertical-align:middle;\" /></a></td></tr>\n",
       "<tr><td>23</td><td>ExprTuple</td><td>34, 27</td><td><a class=\"ProveItLink\" href=\"../f82bd2da05f9f3081fce1bd086c5fa66c73bc39f0/expr.ipynb\"><img src=\"../f82bd2da05f9f3081fce1bd086c5fa66c73bc39f0/expr.png\" style=\"display:inline;vertical-align:middle;\" /></a></td></tr>\n",
       "<tr><td>24</td><td>ExprTuple</td><td>28, 29</td><td><a class=\"ProveItLink\" href=\"../279790ad4ce8ffc1bb58abd821f87522f4be38380/expr.ipynb\"><img src=\"../279790ad4ce8ffc1bb58abd821f87522f4be38380/expr.png\" style=\"display:inline;vertical-align:middle;\" /></a></td></tr>\n",
       "<tr><td>25</td><td>Literal</td><td></td><td><a class=\"ProveItLink\" href=\"../b8417fd128e530dea0d4a588b98ccb73cb260fb60/expr.ipynb\"><img src=\"../b8417fd128e530dea0d4a588b98ccb73cb260fb60/expr.png\" style=\"display:inline;vertical-align:middle;\" /></a></td></tr>\n",
       "<tr><td>26</td><td>ExprTuple</td><td>33, 35</td><td><a class=\"ProveItLink\" href=\"../bbc1b69eb12288f0ad04da0d0cc6b9b8079b8b3f0/expr.ipynb\"><img src=\"../bbc1b69eb12288f0ad04da0d0cc6b9b8079b8b3f0/expr.png\" style=\"display:inline;vertical-align:middle;\" /></a></td></tr>\n",
       "<tr><td>27</td><td>Variable</td><td></td><td><a class=\"ProveItLink\" href=\"../../../../../__pv_it/72df168d2bfb4e0140af90912ebf83b13772060b0/expr.ipynb\"><img src=\"../../../../../__pv_it/72df168d2bfb4e0140af90912ebf83b13772060b0/expr.png\" style=\"display:inline;vertical-align:middle;\" /></a></td></tr>\n",
       "<tr><td>28</td><td>Operation</td><td>operator:&nbsp;31<br>operands:&nbsp;30<br></td><td><a class=\"ProveItLink\" href=\"../adfb0fbc6ad0df51a3439f374c69dee4b5aa32a90/expr.ipynb\"><img src=\"../adfb0fbc6ad0df51a3439f374c69dee4b5aa32a90/expr.png\" style=\"display:inline;vertical-align:middle;\" /></a></td></tr>\n",
       "<tr><td>29</td><td>Operation</td><td>operator:&nbsp;31<br>operands:&nbsp;32<br></td><td><a class=\"ProveItLink\" href=\"../4bae372222afbf585dedbab30442356a65e92cf30/expr.ipynb\"><img src=\"../4bae372222afbf585dedbab30442356a65e92cf30/expr.png\" style=\"display:inline;vertical-align:middle;\" /></a></td></tr>\n",
       "<tr><td>30</td><td>ExprTuple</td><td>34, 33</td><td><a class=\"ProveItLink\" href=\"../486264a884f50e24e1464b215bbf40eb6702c1d80/expr.ipynb\"><img src=\"../486264a884f50e24e1464b215bbf40eb6702c1d80/expr.png\" style=\"display:inline;vertical-align:middle;\" /></a></td></tr>\n",
       "<tr><td>31</td><td>Literal</td><td></td><td><a class=\"ProveItLink\" href=\"../../../../multiplication/__pv_it/f7a1ed7c35c8c884cf4c236d27cb79bf85638cad0/expr.ipynb\"><img src=\"../../../../multiplication/__pv_it/f7a1ed7c35c8c884cf4c236d27cb79bf85638cad0/expr.png\" style=\"display:inline;vertical-align:middle;\" /></a></td></tr>\n",
       "<tr><td>32</td><td>ExprTuple</td><td>34, 35</td><td><a class=\"ProveItLink\" href=\"../8a9ea107ab40aa8a9a994209f8d7724206c6023b0/expr.ipynb\"><img src=\"../8a9ea107ab40aa8a9a994209f8d7724206c6023b0/expr.png\" style=\"display:inline;vertical-align:middle;\" /></a></td></tr>\n",
       "<tr><td>33</td><td>Variable</td><td></td><td><a class=\"ProveItLink\" href=\"../../../../../__pv_it/a8d4b3a34d2189508f9082853fbac36935714f280/expr.ipynb\"><img src=\"../../../../../__pv_it/a8d4b3a34d2189508f9082853fbac36935714f280/expr.png\" style=\"display:inline;vertical-align:middle;\" /></a></td></tr>\n",
       "<tr><td>34</td><td>Variable</td><td></td><td><a class=\"ProveItLink\" href=\"../../../../../__pv_it/b2b446b221a34ee579eb9a1fbdd4ac4e2891d8c70/expr.ipynb\"><img src=\"../../../../../__pv_it/b2b446b221a34ee579eb9a1fbdd4ac4e2891d8c70/expr.png\" style=\"display:inline;vertical-align:middle;\" /></a></td></tr>\n",
       "<tr><td>35</td><td>Variable</td><td></td><td><a class=\"ProveItLink\" href=\"../../../../../__pv_it/53e304ff98ebc000dbe3ef224f4637dbafd46ba70/expr.ipynb\"><img src=\"../../../../../__pv_it/53e304ff98ebc000dbe3ef224f4637dbafd46ba70/expr.png\" style=\"display:inline;vertical-align:middle;\" /></a></td></tr>\n",
       "</table>\n"
      ],
      "text/plain": [
       "0. {forall_{x in (a,b)} ((c * x) in (c * a,c * b)) if a in Reals ,  b in Reals ,  c in Reals.\n",
       "   core type: Conditional\n",
       "   value: 1\n",
       "   condition: 2\n",
       "1. forall_{x in (a,b)} ((c * x) in (c * a,c * b))\n",
       "   core type: Operation\n",
       "   operator: 3\n",
       "   operand: 4\n",
       "2. (a in Reals) and (b in Reals) and (c in Reals)\n",
       "   core type: Operation\n",
       "   operator: 5\n",
       "   operands: 6\n",
       "3. forall\n",
       "   core type: Literal\n",
       "   sub-expressions: \n",
       "4. x -> {(c * x) in (c * a,c * b) if x in (a,b).\n",
       "   core type: Lambda\n",
       "   parameter: 27\n",
       "   body: 7\n",
       "5. and\n",
       "   core type: Literal\n",
       "   sub-expressions: \n",
       "6. (a in Reals, b in Reals, c in Reals)\n",
       "   core type: ExprTuple\n",
       "   sub-expressions: 8, 9, 10\n",
       "7. {(c * x) in (c * a,c * b) if x in (a,b).\n",
       "   core type: Conditional\n",
       "   value: 11\n",
       "   condition: 12\n",
       "8. a in Reals\n",
       "   core type: Operation\n",
       "   operator: 17\n",
       "   operands: 13\n",
       "9. b in Reals\n",
       "   core type: Operation\n",
       "   operator: 17\n",
       "   operands: 14\n",
       "10. c in Reals\n",
       "    core type: Operation\n",
       "    operator: 17\n",
       "    operands: 15\n",
       "11. (c * x) in (c * a,c * b)\n",
       "    core type: Operation\n",
       "    operator: 17\n",
       "    operands: 16\n",
       "12. x in (a,b)\n",
       "    core type: Operation\n",
       "    operator: 17\n",
       "    operands: 18\n",
       "13. (a, Reals)\n",
       "    core type: ExprTuple\n",
       "    sub-expressions: 33, 19\n",
       "14. (b, Reals)\n",
       "    core type: ExprTuple\n",
       "    sub-expressions: 35, 19\n",
       "15. (c, Reals)\n",
       "    core type: ExprTuple\n",
       "    sub-expressions: 34, 19\n",
       "16. (c * x, (c * a,c * b))\n",
       "    core type: ExprTuple\n",
       "    sub-expressions: 20, 21\n",
       "17. in\n",
       "    core type: Literal\n",
       "    sub-expressions: \n",
       "18. (x, (a,b))\n",
       "    core type: ExprTuple\n",
       "    sub-expressions: 27, 22\n",
       "19. Reals\n",
       "    core type: Literal\n",
       "    sub-expressions: \n",
       "20. c * x\n",
       "    core type: Operation\n",
       "    operator: 31\n",
       "    operands: 23\n",
       "21. (c * a,c * b)\n",
       "    core type: Operation\n",
       "    operator: 25\n",
       "    operands: 24\n",
       "22. (a,b)\n",
       "    core type: Operation\n",
       "    operator: 25\n",
       "    operands: 26\n",
       "23. (c, x)\n",
       "    core type: ExprTuple\n",
       "    sub-expressions: 34, 27\n",
       "24. (c * a, c * b)\n",
       "    core type: ExprTuple\n",
       "    sub-expressions: 28, 29\n",
       "25. IntervalOO\n",
       "    core type: Literal\n",
       "    sub-expressions: \n",
       "26. (a, b)\n",
       "    core type: ExprTuple\n",
       "    sub-expressions: 33, 35\n",
       "27. x\n",
       "    core type: Variable\n",
       "    sub-expressions: \n",
       "28. c * a\n",
       "    core type: Operation\n",
       "    operator: 31\n",
       "    operands: 30\n",
       "29. c * b\n",
       "    core type: Operation\n",
       "    operator: 31\n",
       "    operands: 32\n",
       "30. (c, a)\n",
       "    core type: ExprTuple\n",
       "    sub-expressions: 34, 33\n",
       "31. *\n",
       "    core type: Literal\n",
       "    sub-expressions: \n",
       "32. (c, b)\n",
       "    core type: ExprTuple\n",
       "    sub-expressions: 34, 35\n",
       "33. a\n",
       "    core type: Variable\n",
       "    sub-expressions: \n",
       "34. c\n",
       "    core type: Variable\n",
       "    sub-expressions: \n",
       "35. b\n",
       "    core type: Variable\n",
       "    sub-expressions: "
      ]
     },
     "execution_count": 5,
     "metadata": {},
     "output_type": "execute_result"
    }
   ],
   "source": [
    "# display the expression information\n",
    "expr.exprInfo()"
   ]
  },
  {
   "cell_type": "code",
   "execution_count": null,
   "metadata": {},
   "outputs": [],
   "source": []
  }
 ],
 "metadata": {
  "kernelspec": {
   "display_name": "Python 3",
   "language": "python",
   "name": "python3"
  },
  "language_info": {
   "codemirror_mode": {
    "name": "ipython",
    "version": 3
   },
   "file_extension": ".py",
   "mimetype": "text/x-python",
   "name": "python",
   "nbconvert_exporter": "python",
   "pygments_lexer": "ipython3",
   "version": "3.7.3"
  }
 },
 "nbformat": 4,
 "nbformat_minor": 1
}
