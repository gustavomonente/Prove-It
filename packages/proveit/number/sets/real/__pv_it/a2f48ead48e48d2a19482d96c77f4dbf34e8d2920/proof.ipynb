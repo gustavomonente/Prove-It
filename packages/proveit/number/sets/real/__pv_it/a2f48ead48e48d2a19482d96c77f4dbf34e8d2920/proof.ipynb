{
 "cells": [
  {
   "cell_type": "markdown",
   "metadata": {},
   "source": [
    "Show the Proof\n",
    "========"
   ]
  },
  {
   "cell_type": "code",
   "execution_count": 1,
   "metadata": {},
   "outputs": [
    {
     "data": {
      "text/html": [
       "<table><tr><th>&nbsp;</th><th>step type</th><th>requirements</th><th>statement</th></tr>\n",
       "<tr><td><a name=\"proveit.number.sets.real.a2f48ead48e48d2a19482d96c77f4dbf34e8d2920_step0\">0</a></td><td>instantiation</td><td><a href=\"#proveit.number.sets.real.a2f48ead48e48d2a19482d96c77f4dbf34e8d2920_step1\">1</a>, <a href=\"#proveit.number.sets.real.a2f48ead48e48d2a19482d96c77f4dbf34e8d2920_step2\">2</a></td><td><span style=\"font-size:20px;\"> <a class=\"ProveItLink\" href=\"proof.ipynb\" style=\"text-decoration: none\">&#x22A2;&nbsp;</a><a class=\"ProveItLink\" href=\"../1a8c91555c2ac3e11c17a407d28ff13a0102a1ba0/expr.ipynb\"><img src=\"../1a8c91555c2ac3e11c17a407d28ff13a0102a1ba0/expr.png\" style=\"display:inline;vertical-align:middle;\" /></a></span></td></tr>\n",
       "<tr><td>&nbsp;</td><td colspan=4 style=\"text-align:left\"><span style=\"font-size:20px;\"><a class=\"ProveItLink\" href=\"../../../../../__pv_it/d3792d0d8642fdf1cd2a3a9b32c673ee13653de00/expr.ipynb\"><img src=\"../../../../../__pv_it/d3792d0d8642fdf1cd2a3a9b32c673ee13653de00/expr.png\" style=\"display:inline;vertical-align:middle;\" /></a> : <a class=\"ProveItLink\" href=\"../473eaa9ebbf39952659013b8a6bc10e40939bddf0/expr.ipynb\"><img src=\"../473eaa9ebbf39952659013b8a6bc10e40939bddf0/expr.png\" style=\"display:inline;vertical-align:middle;\" /></a>, <a class=\"ProveItLink\" href=\"../../../../../__pv_it/4d98b438710c5ada9ffa4646bb123a7d0e69ec000/expr.ipynb\"><img src=\"../../../../../__pv_it/4d98b438710c5ada9ffa4646bb123a7d0e69ec000/expr.png\" style=\"display:inline;vertical-align:middle;\" /></a> : <a class=\"ProveItLink\" href=\"../3900aed34121c3747eb0c830c273820623339ce00/expr.ipynb\"><img src=\"../3900aed34121c3747eb0c830c273820623339ce00/expr.png\" style=\"display:inline;vertical-align:middle;\" /></a></span></td></tr><tr><td><a name=\"proveit.number.sets.real.a2f48ead48e48d2a19482d96c77f4dbf34e8d2920_step1\">1</a></td><td>theorem</td><td></td><td><span style=\"font-size:20px;\"> <a class=\"ProveItLink\" href=\"../../../../../logic/boolean/implication/_proofs_/iffImpliesRight.ipynb\" style=\"text-decoration: none\">&#x22A2;&nbsp;</a><a class=\"ProveItLink\" href=\"../7cd48ec3a49e74f594381c4cf934923281ad84b90/expr.ipynb\"><img src=\"../7cd48ec3a49e74f594381c4cf934923281ad84b90/expr.png\" style=\"display:inline;vertical-align:middle;\" /></a></span></td></tr>\n",
       "<tr><td>&nbsp;</td><td colspan=4 style-\"text-align:left\"><a class=\"ProveItLink\" href=\"../../../../../logic/boolean/implication/_proofs_/iffImpliesRight.ipynb\">proveit.logic.boolean.implication.iffImpliesRight</a></td></tr><tr><td><a name=\"proveit.number.sets.real.a2f48ead48e48d2a19482d96c77f4dbf34e8d2920_step2\">2</a></td><td>instantiation</td><td><a href=\"#proveit.number.sets.real.a2f48ead48e48d2a19482d96c77f4dbf34e8d2920_step3\">3</a>, <a href=\"#proveit.number.sets.real.a2f48ead48e48d2a19482d96c77f4dbf34e8d2920_step4\">4</a></td><td><span style=\"font-size:20px;\"> <a class=\"ProveItLink\" href=\"../27f8eacf7133a05a81b1e45bdd276f96d86c29000/proof.ipynb\" style=\"text-decoration: none\">&#x22A2;&nbsp;</a><a class=\"ProveItLink\" href=\"../bd09fedc502681dd2d2317ffd365d5aa069ce5c70/expr.ipynb\"><img src=\"../bd09fedc502681dd2d2317ffd365d5aa069ce5c70/expr.png\" style=\"display:inline;vertical-align:middle;\" /></a></span></td></tr>\n",
       "<tr><td>&nbsp;</td><td colspan=4 style=\"text-align:left\"><span style=\"font-size:20px;\"><a class=\"ProveItLink\" href=\"../../../../../__pv_it/a8d4b3a34d2189508f9082853fbac36935714f280/expr.ipynb\"><img src=\"../../../../../__pv_it/a8d4b3a34d2189508f9082853fbac36935714f280/expr.png\" style=\"display:inline;vertical-align:middle;\" /></a> : <a class=\"ProveItLink\" href=\"../../../../numeral/__pv_it/fb4ccffdbfd0f653ebaacb95e7ff4802fd48a6f20/expr.ipynb\"><img src=\"../../../../numeral/__pv_it/fb4ccffdbfd0f653ebaacb95e7ff4802fd48a6f20/expr.png\" style=\"display:inline;vertical-align:middle;\" /></a></span></td></tr><tr><td><a name=\"proveit.number.sets.real.a2f48ead48e48d2a19482d96c77f4dbf34e8d2920_step3\">3</a></td><td>theorem</td><td></td><td><span style=\"font-size:20px;\"> <a class=\"ProveItLink\" href=\"../../_proofs_/inRealsNonNeg_iff_non_negative.ipynb\" style=\"text-decoration: none\">&#x22A2;&nbsp;</a><a class=\"ProveItLink\" href=\"../07d895de325b7d385687ebbd318fb4331a17d70d0/expr.ipynb\"><img src=\"../07d895de325b7d385687ebbd318fb4331a17d70d0/expr.png\" style=\"display:inline;vertical-align:middle;\" /></a></span></td></tr>\n",
       "<tr><td>&nbsp;</td><td colspan=4 style-\"text-align:left\"><a class=\"ProveItLink\" href=\"../../_proofs_/inRealsNonNeg_iff_non_negative.ipynb\">proveit.number.sets.real.inRealsNonNeg_iff_non_negative</a></td></tr><tr><td><a name=\"proveit.number.sets.real.a2f48ead48e48d2a19482d96c77f4dbf34e8d2920_step4\">4</a></td><td>instantiation</td><td><a href=\"#proveit.number.sets.real.a2f48ead48e48d2a19482d96c77f4dbf34e8d2920_step5\">5</a>, <a href=\"#proveit.number.sets.real.a2f48ead48e48d2a19482d96c77f4dbf34e8d2920_step6\">6</a>, <a href=\"#proveit.number.sets.real.a2f48ead48e48d2a19482d96c77f4dbf34e8d2920_step7\">7</a></td><td><span style=\"font-size:20px;\"> <a class=\"ProveItLink\" href=\"../18e0c2e375d50fc6bede76261509f4fcbe2f04400/proof.ipynb\" style=\"text-decoration: none\">&#x22A2;&nbsp;</a><a class=\"ProveItLink\" href=\"../22bf67533c5cf1a371314dac3d2b20c16d8c560d0/expr.ipynb\"><img src=\"../22bf67533c5cf1a371314dac3d2b20c16d8c560d0/expr.png\" style=\"display:inline;vertical-align:middle;\" /></a></span></td></tr>\n",
       "<tr><td>&nbsp;</td><td colspan=4 style=\"text-align:left\"><span style=\"font-size:20px;\"><a class=\"ProveItLink\" href=\"../../../../../__pv_it/d3792d0d8642fdf1cd2a3a9b32c673ee13653de00/expr.ipynb\"><img src=\"../../../../../__pv_it/d3792d0d8642fdf1cd2a3a9b32c673ee13653de00/expr.png\" style=\"display:inline;vertical-align:middle;\" /></a> : <a class=\"ProveItLink\" href=\"../../../integer/__pv_it/b49c37b99b7e8d73a8d7971bcf454d693b90a2c60/expr.ipynb\"><img src=\"../../../integer/__pv_it/b49c37b99b7e8d73a8d7971bcf454d693b90a2c60/expr.png\" style=\"display:inline;vertical-align:middle;\" /></a>, <a class=\"ProveItLink\" href=\"../../../../../__pv_it/4d98b438710c5ada9ffa4646bb123a7d0e69ec000/expr.ipynb\"><img src=\"../../../../../__pv_it/4d98b438710c5ada9ffa4646bb123a7d0e69ec000/expr.png\" style=\"display:inline;vertical-align:middle;\" /></a> : <a class=\"ProveItLink\" href=\"../83c2d223a7b04200651811c8b29e747fd8f853510/expr.ipynb\"><img src=\"../83c2d223a7b04200651811c8b29e747fd8f853510/expr.png\" style=\"display:inline;vertical-align:middle;\" /></a>, <a class=\"ProveItLink\" href=\"../../../../../__pv_it/72df168d2bfb4e0140af90912ebf83b13772060b0/expr.ipynb\"><img src=\"../../../../../__pv_it/72df168d2bfb4e0140af90912ebf83b13772060b0/expr.png\" style=\"display:inline;vertical-align:middle;\" /></a> : <a class=\"ProveItLink\" href=\"../../../../numeral/__pv_it/fb4ccffdbfd0f653ebaacb95e7ff4802fd48a6f20/expr.ipynb\"><img src=\"../../../../numeral/__pv_it/fb4ccffdbfd0f653ebaacb95e7ff4802fd48a6f20/expr.png\" style=\"display:inline;vertical-align:middle;\" /></a></span></td></tr><tr><td><a name=\"proveit.number.sets.real.a2f48ead48e48d2a19482d96c77f4dbf34e8d2920_step5\">5</a></td><td>theorem</td><td></td><td><span style=\"font-size:20px;\"> <a class=\"ProveItLink\" href=\"../../../../../logic/set_theory/containment/_proofs_/unfoldSubsetEq.ipynb\" style=\"text-decoration: none\">&#x22A2;&nbsp;</a><a class=\"ProveItLink\" href=\"../213ae6077c60aaf0fff94fc6b94bbccff0f578a20/expr.ipynb\"><img src=\"../213ae6077c60aaf0fff94fc6b94bbccff0f578a20/expr.png\" style=\"display:inline;vertical-align:middle;\" /></a></span></td></tr>\n",
       "<tr><td>&nbsp;</td><td colspan=4 style-\"text-align:left\"><a class=\"ProveItLink\" href=\"../../../../../logic/set_theory/containment/_proofs_/unfoldSubsetEq.ipynb\">proveit.logic.set_theory.containment.unfoldSubsetEq</a></td></tr><tr><td><a name=\"proveit.number.sets.real.a2f48ead48e48d2a19482d96c77f4dbf34e8d2920_step6\">6</a></td><td>instantiation</td><td><a href=\"#proveit.number.sets.real.a2f48ead48e48d2a19482d96c77f4dbf34e8d2920_step8\">8</a>, <a href=\"#proveit.number.sets.real.a2f48ead48e48d2a19482d96c77f4dbf34e8d2920_step9\">9</a></td><td><span style=\"font-size:20px;\"> <a class=\"ProveItLink\" href=\"../dba40e047bd00548ef613fc93d775e98a14ff9c50/proof.ipynb\" style=\"text-decoration: none\">&#x22A2;&nbsp;</a><a class=\"ProveItLink\" href=\"../927af6f3a7b2a663b5d99838d58fa35c955572dd0/expr.ipynb\"><img src=\"../927af6f3a7b2a663b5d99838d58fa35c955572dd0/expr.png\" style=\"display:inline;vertical-align:middle;\" /></a></span></td></tr>\n",
       "<tr><td>&nbsp;</td><td colspan=4 style=\"text-align:left\"><span style=\"font-size:20px;\"><a class=\"ProveItLink\" href=\"../../../../../__pv_it/d3792d0d8642fdf1cd2a3a9b32c673ee13653de00/expr.ipynb\"><img src=\"../../../../../__pv_it/d3792d0d8642fdf1cd2a3a9b32c673ee13653de00/expr.png\" style=\"display:inline;vertical-align:middle;\" /></a> : <a class=\"ProveItLink\" href=\"../../../integer/__pv_it/b49c37b99b7e8d73a8d7971bcf454d693b90a2c60/expr.ipynb\"><img src=\"../../../integer/__pv_it/b49c37b99b7e8d73a8d7971bcf454d693b90a2c60/expr.png\" style=\"display:inline;vertical-align:middle;\" /></a>, <a class=\"ProveItLink\" href=\"../../../../../__pv_it/4d98b438710c5ada9ffa4646bb123a7d0e69ec000/expr.ipynb\"><img src=\"../../../../../__pv_it/4d98b438710c5ada9ffa4646bb123a7d0e69ec000/expr.png\" style=\"display:inline;vertical-align:middle;\" /></a> : <a class=\"ProveItLink\" href=\"../83c2d223a7b04200651811c8b29e747fd8f853510/expr.ipynb\"><img src=\"../83c2d223a7b04200651811c8b29e747fd8f853510/expr.png\" style=\"display:inline;vertical-align:middle;\" /></a></span></td></tr><tr><td><a name=\"proveit.number.sets.real.a2f48ead48e48d2a19482d96c77f4dbf34e8d2920_step7\">7</a></td><td>theorem</td><td></td><td><span style=\"font-size:20px;\"> <a class=\"ProveItLink\" href=\"../../../../numeral/deci/_proofs_/nat2.ipynb\" style=\"text-decoration: none\">&#x22A2;&nbsp;</a><a class=\"ProveItLink\" href=\"../e1be5cc0ffa039746758df99e3fd79595c567a170/expr.ipynb\"><img src=\"../e1be5cc0ffa039746758df99e3fd79595c567a170/expr.png\" style=\"display:inline;vertical-align:middle;\" /></a></span></td></tr>\n",
       "<tr><td>&nbsp;</td><td colspan=4 style-\"text-align:left\"><a class=\"ProveItLink\" href=\"../../../../numeral/deci/_proofs_/nat2.ipynb\">proveit.number.numeral.deci.nat2</a></td></tr><tr><td><a name=\"proveit.number.sets.real.a2f48ead48e48d2a19482d96c77f4dbf34e8d2920_step8\">8</a></td><td>theorem</td><td></td><td><span style=\"font-size:20px;\"> <a class=\"ProveItLink\" href=\"../../../../../logic/set_theory/containment/_proofs_/relaxSubset.ipynb\" style=\"text-decoration: none\">&#x22A2;&nbsp;</a><a class=\"ProveItLink\" href=\"../3229f3ba5e3078695fa34b08f798280235d47df40/expr.ipynb\"><img src=\"../3229f3ba5e3078695fa34b08f798280235d47df40/expr.png\" style=\"display:inline;vertical-align:middle;\" /></a></span></td></tr>\n",
       "<tr><td>&nbsp;</td><td colspan=4 style-\"text-align:left\"><a class=\"ProveItLink\" href=\"../../../../../logic/set_theory/containment/_proofs_/relaxSubset.ipynb\">proveit.logic.set_theory.containment.relaxSubset</a></td></tr><tr><td><a name=\"proveit.number.sets.real.a2f48ead48e48d2a19482d96c77f4dbf34e8d2920_step9\">9</a></td><td>theorem</td><td></td><td><span style=\"font-size:20px;\"> <a class=\"ProveItLink\" href=\"../../_proofs_/natsInReals.ipynb\" style=\"text-decoration: none\">&#x22A2;&nbsp;</a><a class=\"ProveItLink\" href=\"../6098108b1d877967cea5274a6774d2bf310a01e40/expr.ipynb\"><img src=\"../6098108b1d877967cea5274a6774d2bf310a01e40/expr.png\" style=\"display:inline;vertical-align:middle;\" /></a></span></td></tr>\n",
       "<tr><td>&nbsp;</td><td colspan=4 style-\"text-align:left\"><a class=\"ProveItLink\" href=\"../../_proofs_/natsInReals.ipynb\">proveit.number.sets.real.natsInReals</a></td></tr></table>"
      ],
      "text/plain": [
       "<proveit._core_.proof._ShowProof at 0x7f5bb07ebb70>"
      ]
     },
     "execution_count": 1,
     "metadata": {},
     "output_type": "execute_result"
    }
   ],
   "source": [
    "import proveit\n",
    "# Automation is not needed when only showing a stored proof:\n",
    "proveit.defaults.automation = False # This will speed things up.\n",
    "proveit.defaults.inline_pngs = False # Makes files smaller.\n",
    "%show_proof"
   ]
  },
  {
   "cell_type": "code",
   "execution_count": null,
   "metadata": {},
   "outputs": [],
   "source": []
  }
 ],
 "metadata": {
  "kernelspec": {
   "display_name": "Python 3",
   "language": "python",
   "name": "python3"
  },
  "language_info": {
   "codemirror_mode": {
    "name": "ipython",
    "version": 3
   },
   "file_extension": ".py",
   "mimetype": "text/x-python",
   "name": "python",
   "nbconvert_exporter": "python",
   "pygments_lexer": "ipython3",
   "version": "3.7.3"
  }
 },
 "nbformat": 4,
 "nbformat_minor": 1
}
