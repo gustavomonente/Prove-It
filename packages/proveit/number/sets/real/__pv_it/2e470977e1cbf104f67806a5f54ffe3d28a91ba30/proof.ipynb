{
 "cells": [
  {
   "cell_type": "markdown",
   "metadata": {},
   "source": [
    "Show the Proof\n",
    "========"
   ]
  },
  {
   "cell_type": "code",
   "execution_count": 1,
   "metadata": {},
   "outputs": [
    {
     "data": {
      "text/html": [
       "<table><tr><th>&nbsp;</th><th>step type</th><th>requirements</th><th>statement</th></tr>\n",
       "<tr><td><a name=\"proveit.number.sets.real.2e470977e1cbf104f67806a5f54ffe3d28a91ba30_step0\">0</a></td><td>instantiation</td><td><a href=\"#proveit.number.sets.real.2e470977e1cbf104f67806a5f54ffe3d28a91ba30_step1\">1</a>, <a href=\"#proveit.number.sets.real.2e470977e1cbf104f67806a5f54ffe3d28a91ba30_step2\">2</a></td><td><span style=\"font-size:20px;\"> <a class=\"ProveItLink\" href=\"proof.ipynb\" style=\"text-decoration: none\">&#x22A2;&nbsp;</a><a class=\"ProveItLink\" href=\"../474e1f9ca36f31f355bb59b50565770e830143aa0/expr.ipynb\"><img src=\"../474e1f9ca36f31f355bb59b50565770e830143aa0/expr.png\" style=\"display:inline;vertical-align:middle;\" /></a></span></td></tr>\n",
       "<tr><td>&nbsp;</td><td colspan=4 style=\"text-align:left\"><span style=\"font-size:20px;\"><a class=\"ProveItLink\" href=\"../../../../../__pv_it/a8d4b3a34d2189508f9082853fbac36935714f280/expr.ipynb\"><img src=\"../../../../../__pv_it/a8d4b3a34d2189508f9082853fbac36935714f280/expr.png\" style=\"display:inline;vertical-align:middle;\" /></a> : <a class=\"ProveItLink\" href=\"../../../../numeral/__pv_it/f086f8c372bd40a2458306ddfdbb29f3dc6f63030/expr.ipynb\"><img src=\"../../../../numeral/__pv_it/f086f8c372bd40a2458306ddfdbb29f3dc6f63030/expr.png\" style=\"display:inline;vertical-align:middle;\" /></a></span></td></tr><tr><td><a name=\"proveit.number.sets.real.2e470977e1cbf104f67806a5f54ffe3d28a91ba30_step1\">1</a></td><td>theorem</td><td></td><td><span style=\"font-size:20px;\"> <a class=\"ProveItLink\" href=\"../../_proofs_/inRealsPos_iff_positive.ipynb\" style=\"text-decoration: none\">&#x22A2;&nbsp;</a><a class=\"ProveItLink\" href=\"../eecbe6aa695188f8244c786e7f5c92695beefd950/expr.ipynb\"><img src=\"../eecbe6aa695188f8244c786e7f5c92695beefd950/expr.png\" style=\"display:inline;vertical-align:middle;\" /></a></span></td></tr>\n",
       "<tr><td>&nbsp;</td><td colspan=4 style-\"text-align:left\"><a class=\"ProveItLink\" href=\"../../_proofs_/inRealsPos_iff_positive.ipynb\">proveit.number.sets.real.inRealsPos_iff_positive</a></td></tr><tr><td><a name=\"proveit.number.sets.real.2e470977e1cbf104f67806a5f54ffe3d28a91ba30_step2\">2</a></td><td>instantiation</td><td><a href=\"#proveit.number.sets.real.2e470977e1cbf104f67806a5f54ffe3d28a91ba30_step3\">3</a>, <a href=\"#proveit.number.sets.real.2e470977e1cbf104f67806a5f54ffe3d28a91ba30_step4\">4</a>, <a href=\"#proveit.number.sets.real.2e470977e1cbf104f67806a5f54ffe3d28a91ba30_step5\">5</a></td><td><span style=\"font-size:20px;\"> <a class=\"ProveItLink\" href=\"../b4db8bf0dc0a088d47e1d9bab592601768720a080/proof.ipynb\" style=\"text-decoration: none\">&#x22A2;&nbsp;</a><a class=\"ProveItLink\" href=\"../39d0cdc8e9ba655e66466f57fc0496f184fad4c80/expr.ipynb\"><img src=\"../39d0cdc8e9ba655e66466f57fc0496f184fad4c80/expr.png\" style=\"display:inline;vertical-align:middle;\" /></a></span></td></tr>\n",
       "<tr><td>&nbsp;</td><td colspan=4 style=\"text-align:left\"><span style=\"font-size:20px;\"><a class=\"ProveItLink\" href=\"../../../../../__pv_it/d3792d0d8642fdf1cd2a3a9b32c673ee13653de00/expr.ipynb\"><img src=\"../../../../../__pv_it/d3792d0d8642fdf1cd2a3a9b32c673ee13653de00/expr.png\" style=\"display:inline;vertical-align:middle;\" /></a> : <a class=\"ProveItLink\" href=\"../../../integer/__pv_it/f6a9f4b6dec6ab4d2dcb6ba1b0ba3cceefc643530/expr.ipynb\"><img src=\"../../../integer/__pv_it/f6a9f4b6dec6ab4d2dcb6ba1b0ba3cceefc643530/expr.png\" style=\"display:inline;vertical-align:middle;\" /></a>, <a class=\"ProveItLink\" href=\"../../../../../__pv_it/4d98b438710c5ada9ffa4646bb123a7d0e69ec000/expr.ipynb\"><img src=\"../../../../../__pv_it/4d98b438710c5ada9ffa4646bb123a7d0e69ec000/expr.png\" style=\"display:inline;vertical-align:middle;\" /></a> : <a class=\"ProveItLink\" href=\"../83c2d223a7b04200651811c8b29e747fd8f853510/expr.ipynb\"><img src=\"../83c2d223a7b04200651811c8b29e747fd8f853510/expr.png\" style=\"display:inline;vertical-align:middle;\" /></a>, <a class=\"ProveItLink\" href=\"../../../../../__pv_it/72df168d2bfb4e0140af90912ebf83b13772060b0/expr.ipynb\"><img src=\"../../../../../__pv_it/72df168d2bfb4e0140af90912ebf83b13772060b0/expr.png\" style=\"display:inline;vertical-align:middle;\" /></a> : <a class=\"ProveItLink\" href=\"../../../../numeral/__pv_it/f086f8c372bd40a2458306ddfdbb29f3dc6f63030/expr.ipynb\"><img src=\"../../../../numeral/__pv_it/f086f8c372bd40a2458306ddfdbb29f3dc6f63030/expr.png\" style=\"display:inline;vertical-align:middle;\" /></a></span></td></tr><tr><td><a name=\"proveit.number.sets.real.2e470977e1cbf104f67806a5f54ffe3d28a91ba30_step3\">3</a></td><td>theorem</td><td></td><td><span style=\"font-size:20px;\"> <a class=\"ProveItLink\" href=\"../../../../../logic/set_theory/containment/_proofs_/unfoldSubsetEq.ipynb\" style=\"text-decoration: none\">&#x22A2;&nbsp;</a><a class=\"ProveItLink\" href=\"../25f6ff90954e4da9aac5d46df1f022848155c9230/expr.ipynb\"><img src=\"../25f6ff90954e4da9aac5d46df1f022848155c9230/expr.png\" style=\"display:inline;vertical-align:middle;\" /></a></span></td></tr>\n",
       "<tr><td>&nbsp;</td><td colspan=4 style-\"text-align:left\"><a class=\"ProveItLink\" href=\"../../../../../logic/set_theory/containment/_proofs_/unfoldSubsetEq.ipynb\">proveit.logic.set_theory.containment.unfoldSubsetEq</a></td></tr><tr><td><a name=\"proveit.number.sets.real.2e470977e1cbf104f67806a5f54ffe3d28a91ba30_step4\">4</a></td><td>instantiation</td><td><a href=\"#proveit.number.sets.real.2e470977e1cbf104f67806a5f54ffe3d28a91ba30_step6\">6</a>, <a href=\"#proveit.number.sets.real.2e470977e1cbf104f67806a5f54ffe3d28a91ba30_step7\">7</a></td><td><span style=\"font-size:20px;\"> <a class=\"ProveItLink\" href=\"../cd2daf7183efae81153c04543123228843561ae20/proof.ipynb\" style=\"text-decoration: none\">&#x22A2;&nbsp;</a><a class=\"ProveItLink\" href=\"../ae5bdd2338032c98aae53987c7781dae56acbbaa0/expr.ipynb\"><img src=\"../ae5bdd2338032c98aae53987c7781dae56acbbaa0/expr.png\" style=\"display:inline;vertical-align:middle;\" /></a></span></td></tr>\n",
       "<tr><td>&nbsp;</td><td colspan=4 style=\"text-align:left\"><span style=\"font-size:20px;\"><a class=\"ProveItLink\" href=\"../../../../../__pv_it/d3792d0d8642fdf1cd2a3a9b32c673ee13653de00/expr.ipynb\"><img src=\"../../../../../__pv_it/d3792d0d8642fdf1cd2a3a9b32c673ee13653de00/expr.png\" style=\"display:inline;vertical-align:middle;\" /></a> : <a class=\"ProveItLink\" href=\"../../../integer/__pv_it/f6a9f4b6dec6ab4d2dcb6ba1b0ba3cceefc643530/expr.ipynb\"><img src=\"../../../integer/__pv_it/f6a9f4b6dec6ab4d2dcb6ba1b0ba3cceefc643530/expr.png\" style=\"display:inline;vertical-align:middle;\" /></a>, <a class=\"ProveItLink\" href=\"../../../../../__pv_it/4d98b438710c5ada9ffa4646bb123a7d0e69ec000/expr.ipynb\"><img src=\"../../../../../__pv_it/4d98b438710c5ada9ffa4646bb123a7d0e69ec000/expr.png\" style=\"display:inline;vertical-align:middle;\" /></a> : <a class=\"ProveItLink\" href=\"../83c2d223a7b04200651811c8b29e747fd8f853510/expr.ipynb\"><img src=\"../83c2d223a7b04200651811c8b29e747fd8f853510/expr.png\" style=\"display:inline;vertical-align:middle;\" /></a></span></td></tr><tr><td><a name=\"proveit.number.sets.real.2e470977e1cbf104f67806a5f54ffe3d28a91ba30_step5\">5</a></td><td>theorem</td><td></td><td><span style=\"font-size:20px;\"> <a class=\"ProveItLink\" href=\"../../../../numeral/deci/_proofs_/posnat1.ipynb\" style=\"text-decoration: none\">&#x22A2;&nbsp;</a><a class=\"ProveItLink\" href=\"../de9ceaf769f36cdba00e5fe81f80934e583ca7d90/expr.ipynb\"><img src=\"../de9ceaf769f36cdba00e5fe81f80934e583ca7d90/expr.png\" style=\"display:inline;vertical-align:middle;\" /></a></span></td></tr>\n",
       "<tr><td>&nbsp;</td><td colspan=4 style-\"text-align:left\"><a class=\"ProveItLink\" href=\"../../../../numeral/deci/_proofs_/posnat1.ipynb\">proveit.number.numeral.deci.posnat1</a></td></tr><tr><td><a name=\"proveit.number.sets.real.2e470977e1cbf104f67806a5f54ffe3d28a91ba30_step6\">6</a></td><td>theorem</td><td></td><td><span style=\"font-size:20px;\"> <a class=\"ProveItLink\" href=\"../../../../../logic/set_theory/containment/_proofs_/relaxSubset.ipynb\" style=\"text-decoration: none\">&#x22A2;&nbsp;</a><a class=\"ProveItLink\" href=\"../c174f2cd81309678b056c1cd7a824be97e94d6910/expr.ipynb\"><img src=\"../c174f2cd81309678b056c1cd7a824be97e94d6910/expr.png\" style=\"display:inline;vertical-align:middle;\" /></a></span></td></tr>\n",
       "<tr><td>&nbsp;</td><td colspan=4 style-\"text-align:left\"><a class=\"ProveItLink\" href=\"../../../../../logic/set_theory/containment/_proofs_/relaxSubset.ipynb\">proveit.logic.set_theory.containment.relaxSubset</a></td></tr><tr><td><a name=\"proveit.number.sets.real.2e470977e1cbf104f67806a5f54ffe3d28a91ba30_step7\">7</a></td><td>theorem</td><td></td><td><span style=\"font-size:20px;\"> <a class=\"ProveItLink\" href=\"../../_proofs_/natsPosInReals.ipynb\" style=\"text-decoration: none\">&#x22A2;&nbsp;</a><a class=\"ProveItLink\" href=\"../22525e5844616024288cea857a15e326832450440/expr.ipynb\"><img src=\"../22525e5844616024288cea857a15e326832450440/expr.png\" style=\"display:inline;vertical-align:middle;\" /></a></span></td></tr>\n",
       "<tr><td>&nbsp;</td><td colspan=4 style-\"text-align:left\"><a class=\"ProveItLink\" href=\"../../_proofs_/natsPosInReals.ipynb\">proveit.number.sets.real.natsPosInReals</a></td></tr></table>"
      ],
      "text/plain": [
       "<proveit._core_.proof._ShowProof at 0x7f5b8de7fd30>"
      ]
     },
     "execution_count": 1,
     "metadata": {},
     "output_type": "execute_result"
    }
   ],
   "source": [
    "import proveit\n",
    "# Automation is not needed when only showing a stored proof:\n",
    "proveit.defaults.automation = False # This will speed things up.\n",
    "proveit.defaults.inline_pngs = False # Makes files smaller.\n",
    "%show_proof"
   ]
  },
  {
   "cell_type": "code",
   "execution_count": null,
   "metadata": {},
   "outputs": [],
   "source": []
  }
 ],
 "metadata": {
  "kernelspec": {
   "display_name": "Python 3",
   "language": "python",
   "name": "python3"
  },
  "language_info": {
   "codemirror_mode": {
    "name": "ipython",
    "version": 3
   },
   "file_extension": ".py",
   "mimetype": "text/x-python",
   "name": "python",
   "nbconvert_exporter": "python",
   "pygments_lexer": "ipython3",
   "version": "3.7.3"
  }
 },
 "nbformat": 4,
 "nbformat_minor": 1
}
