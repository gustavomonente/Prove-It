{
 "cells": [
  {
   "cell_type": "markdown",
   "metadata": {},
   "source": [
    "Show the Proof\n",
    "========"
   ]
  },
  {
   "cell_type": "code",
   "execution_count": 1,
   "metadata": {},
   "outputs": [
    {
     "data": {
      "text/html": [
       "<table><tr><th>&nbsp;</th><th>step type</th><th>requirements</th><th>statement</th></tr>\n",
       "<tr><td><a name=\"proveit.number.sets.real.fab897952fb384fc1e8c458e013f432a7a8d15cf0_step0\">0</a></td><td>instantiation</td><td><a href=\"#proveit.number.sets.real.fab897952fb384fc1e8c458e013f432a7a8d15cf0_step1\">1</a>, <a href=\"#proveit.number.sets.real.fab897952fb384fc1e8c458e013f432a7a8d15cf0_step2\">2</a>, <a href=\"#proveit.number.sets.real.fab897952fb384fc1e8c458e013f432a7a8d15cf0_step3\">3</a></td><td><span style=\"font-size:20px;\"> <a class=\"ProveItLink\" href=\"proof.ipynb\" style=\"text-decoration: none\">&#x22A2;&nbsp;</a><a class=\"ProveItLink\" href=\"../6a299d471a69ac5b7f4b13b28cedece903033e410/expr.ipynb\"><img src=\"../6a299d471a69ac5b7f4b13b28cedece903033e410/expr.png\" style=\"display:inline;vertical-align:middle;\" /></a></span></td></tr>\n",
       "<tr><td>&nbsp;</td><td colspan=4 style=\"text-align:left\"><span style=\"font-size:20px;\"><a class=\"ProveItLink\" href=\"../../../../../__pv_it/72df168d2bfb4e0140af90912ebf83b13772060b0/expr.ipynb\"><img src=\"../../../../../__pv_it/72df168d2bfb4e0140af90912ebf83b13772060b0/expr.png\" style=\"display:inline;vertical-align:middle;\" /></a> : <a class=\"ProveItLink\" href=\"../../../../numeral/__pv_it/f086f8c372bd40a2458306ddfdbb29f3dc6f63030/expr.ipynb\"><img src=\"../../../../numeral/__pv_it/f086f8c372bd40a2458306ddfdbb29f3dc6f63030/expr.png\" style=\"display:inline;vertical-align:middle;\" /></a>, <a class=\"ProveItLink\" href=\"../../../../../__pv_it/c6e291955561f22a0e6708fd793ea93f1c7dbb5d0/expr.ipynb\"><img src=\"../../../../../__pv_it/c6e291955561f22a0e6708fd793ea93f1c7dbb5d0/expr.png\" style=\"display:inline;vertical-align:middle;\" /></a> : <a class=\"ProveItLink\" href=\"../../../../numeral/__pv_it/fb4ccffdbfd0f653ebaacb95e7ff4802fd48a6f20/expr.ipynb\"><img src=\"../../../../numeral/__pv_it/fb4ccffdbfd0f653ebaacb95e7ff4802fd48a6f20/expr.png\" style=\"display:inline;vertical-align:middle;\" /></a>, <a class=\"ProveItLink\" href=\"../../../../../__pv_it/0d889e00aed425c3081fbda3ac9194ae911895960/expr.ipynb\"><img src=\"../../../../../__pv_it/0d889e00aed425c3081fbda3ac9194ae911895960/expr.png\" style=\"display:inline;vertical-align:middle;\" /></a> : <a class=\"ProveItLink\" href=\"../../../../numeral/__pv_it/eafea0aba3ef5dc2db24e5b7b93d46ff53acbff50/expr.ipynb\"><img src=\"../../../../numeral/__pv_it/eafea0aba3ef5dc2db24e5b7b93d46ff53acbff50/expr.png\" style=\"display:inline;vertical-align:middle;\" /></a></span></td></tr><tr><td><a name=\"proveit.number.sets.real.fab897952fb384fc1e8c458e013f432a7a8d15cf0_step1\">1</a></td><td>axiom</td><td></td><td><span style=\"font-size:20px;\"> <a class=\"ProveItLink\" href=\"../../../../ordering/_axioms_.ipynb#transitivityLessLess\" style=\"text-decoration: none\">&#x22A2;&nbsp;</a><a class=\"ProveItLink\" href=\"../76edc6a83fce533717e3095b166af58c137333bb0/expr.ipynb\"><img src=\"../76edc6a83fce533717e3095b166af58c137333bb0/expr.png\" style=\"display:inline;vertical-align:middle;\" /></a></span></td></tr>\n",
       "<tr><td>&nbsp;</td><td colspan=4 style-\"text-align:left\"><a class=\"ProveItLink\" href=\"../../../../ordering/_axioms_.ipynb#transitivityLessLess\">proveit.number.ordering.transitivityLessLess</a></td></tr><tr><td><a name=\"proveit.number.sets.real.fab897952fb384fc1e8c458e013f432a7a8d15cf0_step2\">2</a></td><td>theorem</td><td></td><td><span style=\"font-size:20px;\"> <a class=\"ProveItLink\" href=\"../../../../numeral/deci/_proofs_/less_1_2.ipynb\" style=\"text-decoration: none\">&#x22A2;&nbsp;</a><a class=\"ProveItLink\" href=\"../e448213290777cdec65fe1e8f61100e2e14beb980/expr.ipynb\"><img src=\"../e448213290777cdec65fe1e8f61100e2e14beb980/expr.png\" style=\"display:inline;vertical-align:middle;\" /></a></span></td></tr>\n",
       "<tr><td>&nbsp;</td><td colspan=4 style-\"text-align:left\"><a class=\"ProveItLink\" href=\"../../../../numeral/deci/_proofs_/less_1_2.ipynb\">proveit.number.numeral.deci.less_1_2</a></td></tr><tr><td><a name=\"proveit.number.sets.real.fab897952fb384fc1e8c458e013f432a7a8d15cf0_step3\">3</a></td><td>theorem</td><td></td><td><span style=\"font-size:20px;\"> <a class=\"ProveItLink\" href=\"../../../../numeral/deci/_proofs_/less_2_3.ipynb\" style=\"text-decoration: none\">&#x22A2;&nbsp;</a><a class=\"ProveItLink\" href=\"../09562e4610fc123f904c6f39335f040aa9bfa81c0/expr.ipynb\"><img src=\"../09562e4610fc123f904c6f39335f040aa9bfa81c0/expr.png\" style=\"display:inline;vertical-align:middle;\" /></a></span></td></tr>\n",
       "<tr><td>&nbsp;</td><td colspan=4 style-\"text-align:left\"><a class=\"ProveItLink\" href=\"../../../../numeral/deci/_proofs_/less_2_3.ipynb\">proveit.number.numeral.deci.less_2_3</a></td></tr></table>"
      ],
      "text/plain": [
       "<proveit._core_.proof._ShowProof at 0x7f5b9bd48828>"
      ]
     },
     "execution_count": 1,
     "metadata": {},
     "output_type": "execute_result"
    }
   ],
   "source": [
    "import proveit\n",
    "# Automation is not needed when only showing a stored proof:\n",
    "proveit.defaults.automation = False # This will speed things up.\n",
    "proveit.defaults.inline_pngs = False # Makes files smaller.\n",
    "%show_proof"
   ]
  },
  {
   "cell_type": "code",
   "execution_count": null,
   "metadata": {},
   "outputs": [],
   "source": []
  }
 ],
 "metadata": {
  "kernelspec": {
   "display_name": "Python 3",
   "language": "python",
   "name": "python3"
  },
  "language_info": {
   "codemirror_mode": {
    "name": "ipython",
    "version": 3
   },
   "file_extension": ".py",
   "mimetype": "text/x-python",
   "name": "python",
   "nbconvert_exporter": "python",
   "pygments_lexer": "ipython3",
   "version": "3.7.3"
  }
 },
 "nbformat": 4,
 "nbformat_minor": 1
}
