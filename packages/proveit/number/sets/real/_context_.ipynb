{
 "cells": [
  {
   "cell_type": "markdown",
   "metadata": {},
   "source": [
    "Context: <a href=\"../../../_context_.ipynb\" class=\"ProveItLink\">proveit</a>.<a href=\"../../_context_.ipynb\" class=\"ProveItLink\">number</a>.<a href=\"../_context_.ipynb\" class=\"ProveItLink\">sets</a>.real\n",
    "========\n",
    "\n",
    "Provide description here."
   ]
  },
  {
   "cell_type": "code",
   "execution_count": 1,
   "metadata": {},
   "outputs": [
    {
     "data": {
      "text/html": [
       "<table><tr>\n",
       "<th><a class=\"ProveItLink\" href=\"_common_.ipynb\">common expressions</a></th>\n",
       "<th><a class=\"ProveItLink\" href=\"_axioms_.ipynb\">axioms</a></th>\n",
       "<th><a class=\"ProveItLink\" href=\"_theorems_.ipynb\">theorems</a></th>\n",
       "<th><a class=\"ProveItLink\" href=\"_demonstrations_.ipynb\">demonstrations</a></th>\n",
       "</tr></table>\n",
       "<table>\n",
       "<tr><th><a class=\"ProveItLink\" href=\"root2_proof_temporary_context/_context_.ipynb\">root2_proof_temporary_context</a></th><td>A temporary context for our first pass at a proof that the sqrt of 2 is irrational</td></tr>\n",
       "</table>\n"
      ],
      "text/plain": [
       "<IPython.core.display.HTML object>"
      ]
     },
     "metadata": {},
     "output_type": "display_data"
    }
   ],
   "source": [
    "import proveit\n",
    "%context"
   ]
  },
  {
   "cell_type": "code",
   "execution_count": null,
   "metadata": {},
   "outputs": [],
   "source": []
  }
 ],
 "metadata": {
  "kernelspec": {
   "display_name": "Python 3",
   "language": "python",
   "name": "python3"
  }
 },
 "nbformat": 4,
 "nbformat_minor": 0
}
