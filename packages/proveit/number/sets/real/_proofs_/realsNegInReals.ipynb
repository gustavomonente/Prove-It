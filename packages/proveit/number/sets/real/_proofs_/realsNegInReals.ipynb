{
 "cells": [
  {
   "cell_type": "markdown",
   "metadata": {},
   "source": [
    "Proof of <a class=\"ProveItLink\" href=\"../../../../_context_.ipynb\">proveit</a>.<a class=\"ProveItLink\" href=\"../../../_context_.ipynb\">number</a>.<a class=\"ProveItLink\" href=\"../../_context_.ipynb\">sets</a>.<a class=\"ProveItLink\" href=\"../_context_.ipynb\">real</a>.<a class=\"ProveItLink\" href=\"../_theorems_.ipynb#realsNegInReals\">realsNegInReals</a> theorem\n",
    "========"
   ]
  },
  {
   "cell_type": "code",
   "execution_count": 1,
   "metadata": {},
   "outputs": [],
   "source": [
    "import proveit\n",
    "context = proveit.Context('..') # the theorem's context is in the parent directory"
   ]
  },
  {
   "cell_type": "code",
   "execution_count": 2,
   "metadata": {},
   "outputs": [
    {
     "name": "stdout",
     "output_type": "stream",
     "text": [
      "Beginning proof of realsNegInReals\n",
      "Recorded 'presuming' information\n",
      "Presuming previous theorem (applied transitively).\n"
     ]
    },
    {
     "data": {
      "text/html": [
       "<strong id=\"realsNegInReals\">realsNegInReals:</strong> <a class=\"ProveItLink\" href=\"../__pv_it/745fc3df550e0040f5cc2bf52f96cb7c51f1f90a0/expr.ipynb\"><img src=\"data:image/png;base64,iVBORw0KGgoAAAANSUhEUgAAAEgAAAAPBAMAAAC1npSgAAAAMFBMVEX///+IiIiqqqq6urpmZmZ2\n",
       "dnbc3NzMzMxUVFTu7u4yMjJEREQQEBAiIiKYmJgAAACIyPRpAAAAAXRSTlMAQObYZgAAAORJREFU\n",
       "KM9jeHt6/6rTDxiwAr47u3+t2QdiLZjBUP16AoP1biCYgKaKi7OBfd9OIGNDKgM3WwN2o7jZAhg2\n",
       "ZEAUsSQsQJF7fffu3eswRW5cMEUbkNVkhSGb5MYNUcTBjGLdNRTrGiwginS9kF3MooCsiOnKSpCi\n",
       "nLu3FJAN4kV2+Nm7ixjAJplwo3g9A1lRsMNOiCIWcxR3z0YJAudqiCKGnQ9xWhfAPU8AoqiCpQBJ\n",
       "EasAsiL2BndItLAqtCMbtQg5WhiCOAoYgBG8nGH3emT/zWiegIjgAu5dn7BGWeleaLRAAQDnmE3y\n",
       "vYHSAQAAAABJRU5ErkJggg==\n",
       "\" style=\"display:inline;vertical-align:middle;\" /></a><br>(see <a class=\"ProveItLink\" href=\"../__pv_it/745fc3df550e0040f5cc2bf52f96cb7c51f1f90a0/dependencies.ipynb\">dependencies</a>)<br>"
      ],
      "text/plain": [
       "realsNegInReals: RealsNeg subset Reals"
      ]
     },
     "execution_count": 2,
     "metadata": {},
     "output_type": "execute_result"
    }
   ],
   "source": [
    "%proving realsNegInReals presuming []"
   ]
  },
  {
   "cell_type": "code",
   "execution_count": null,
   "metadata": {},
   "outputs": [],
   "source": []
  }
 ],
 "metadata": {
  "kernelspec": {
   "display_name": "Python 3",
   "language": "python",
   "name": "python3"
  }
 },
 "nbformat": 4,
 "nbformat_minor": 0
}
