{
 "cells": [
  {
   "cell_type": "markdown",
   "metadata": {},
   "source": [
    "Proof of <a class=\"ProveItLink\" href=\"../../../../_context_.ipynb\">proveit</a>.<a class=\"ProveItLink\" href=\"../../../_context_.ipynb\">number</a>.<a class=\"ProveItLink\" href=\"../../_context_.ipynb\">sets</a>.<a class=\"ProveItLink\" href=\"../_context_.ipynb\">real</a>.<a class=\"ProveItLink\" href=\"../_theorems_.ipynb#in_IntervalOC\">in_IntervalOC</a> theorem\n",
    "========"
   ]
  },
  {
   "cell_type": "code",
   "execution_count": 1,
   "metadata": {},
   "outputs": [],
   "source": [
    "import proveit\n",
    "context = proveit.Context('..') # the theorem's context is in the parent directory"
   ]
  },
  {
   "cell_type": "code",
   "execution_count": 2,
   "metadata": {},
   "outputs": [
    {
     "name": "stdout",
     "output_type": "stream",
     "text": [
      "Beginning proof of in_IntervalOC\n",
      "Recorded 'presuming' information\n",
      "Presuming previous theorems (applied transitively).\n"
     ]
    },
    {
     "data": {
      "text/html": [
       "<strong id=\"in_IntervalOC\">in_IntervalOC:</strong> <a class=\"ProveItLink\" href=\"../__pv_it/37f29da96bb36bdbb738c47bdc73a2aded32a1a00/expr.ipynb\"><img src=\"data:image/png;base64,iVBORw0KGgoAAAANSUhEUgAAAS8AAAAWBAMAAABj8gc6AAAAMFBMVEX///8QEBCIiIhmZma6urrM\n",
       "zMxUVFQiIiJERETc3Nzu7u6qqqp2dnaYmJgyMjIAAAAcRTyBAAAAAXRSTlMAQObYZgAAA/5JREFU\n",
       "SMfFll1oFFcUx/+Z3cnuzs7s9sEXGyxD1qrEtoQsSKHVphUqiq1LH9SHQkKq1ghKEFutStkGaicR\n",
       "YfHBiiCM5sES0+5SEYkIDpFiXGu6YKFtQFnEDxSVUBRqhNJz7507H+vG2IduL4Q795+z5/7mno87\n",
       "QOPG0bpqohJeG3c6MUpzlS2uNYJLy9eVvwuafNUH6J1oLgCXmXCvEWCpQl35bsimnYNpdFyH2Wnm\n",
       "GwF2ta5qtAdX6RIHwxgx2vRYagTYFyGeb3Z+yR9ioXNcYwuwY2RRHh7+thFcib7AQu233afw3hch\n",
       "wFL095dl7W0EmEIx01p73xtjix8kFzKM+e2Ol8XqdutbHEwn443AQB0/H1Zn3ys6u4nvJk5tYQS/\n",
       "mTyCvZ7BAfp7t5CaElX5t10sMDCDfrac14A3ziz65AabdTcpk9v3LTNDe/lKPAyxqpYqmffcUDJR\n",
       "Ipfxi72SLfxq20M48xARQnIaaZOBJSnuMSiyxWnnshVFR5ltm2IFcfLCUpiOftzfK6SEwdZ313Ld\n",
       "cN3w0UT72bBEir3ykAZ/nANEphETbxqpougwMJVOUK/E5G9/Hx0GgU0y0DRVi7H/iE0Yxvd+MYWU\n",
       "ENih2oQwHrhufDDgT1EI/okRWFMexZxsY2tKEixRXUvS0IJbiLJjZ2AOzV2tWyjKNAhjhMc289HG\n",
       "sOKCaR3byO3Q19LGnRTGxd34oYT6WCxeCoay6OC828YqeMdmYFFWwgMbyPln6jRSEGBZBrjQzojr\n",
       "ynQiWTa3NVd3hBUX7ESuy8bITc9GTNE9/J/MjZ/8Z5UptLFFRzD5iyVsS/KTTXdSvsnkxymii7Sr\n",
       "fRjiYJFNzDf6cV3jiWsu+ZQHIZeqIKy4YFmsgzoP0kaajne6blwCKoPo0/iUuLNjXupdIDem8bmO\n",
       "IrE0V+LtHCzCgpamxGsqKd1YZ1mWqegHfxWxX6Lusqx+mJdeFxiULjWKAGvBAmDCs5GTNl4SbmRv\n",
       "6YPW05YR3wvaZlnCK2jR8+qh+YjtZllxxW2wLOcManbFQnzSbhahTH7Mut80bdgtAne6zF10IVej\n",
       "cDDtCQ4MQ3szJ2286Y2ScFPvSoqOP3MlnZVHS2AnvJIpdH0APSdyrOwkBrHbyOMngaGPIDGYmJqA\n",
       "E1D8E5urPqLwJDYXwG2kKY3rFe7mBS9xJwA25r1Az49Lgf2swU44Q8vUFqz9mTamV07uva9lq2qL\n",
       "tnX1a3ZA8cHeX5xheZPYV+A20lQcAnMjs7/+Z4/sMprpg2k1145COeb2RjEtoowKCQHlmQarDoRN\n",
       "/+WHogEfbIZ3oDE6q1DnSnqe6Yt/Wiv0af3HjHdvZVZhZjBhmqQStwbx/4zIf+j7HyqDJdykB+Ws\n",
       "AAAAAElFTkSuQmCC\n",
       "\" style=\"display:inline;vertical-align:middle;\" /></a><br>(see <a class=\"ProveItLink\" href=\"../__pv_it/37f29da96bb36bdbb738c47bdc73a2aded32a1a00/dependencies.ipynb\">dependencies</a>)<br>"
      ],
      "text/plain": [
       "in_IntervalOC: forall_{a in Reals, b in Reals, x in Reals | a < x, x <= b} (x in (a,b])"
      ]
     },
     "execution_count": 2,
     "metadata": {},
     "output_type": "execute_result"
    }
   ],
   "source": [
    "%proving in_IntervalOC presuming []"
   ]
  },
  {
   "cell_type": "code",
   "execution_count": null,
   "metadata": {},
   "outputs": [],
   "source": []
  }
 ],
 "metadata": {
  "kernelspec": {
   "display_name": "Python 3",
   "language": "python",
   "name": "python3"
  }
 },
 "nbformat": 4,
 "nbformat_minor": 0
}
