{
 "cells": [
  {
   "cell_type": "markdown",
   "metadata": {},
   "source": [
    "Proof of <a class=\"ProveItLink\" href=\"../../../../_context_.ipynb\">proveit</a>.<a class=\"ProveItLink\" href=\"../../../_context_.ipynb\">number</a>.<a class=\"ProveItLink\" href=\"../../_context_.ipynb\">sets</a>.<a class=\"ProveItLink\" href=\"../_context_.ipynb\">real</a>.<a class=\"ProveItLink\" href=\"../_theorems_.ipynb#intervalCO_upper_bound\">intervalCO_upper_bound</a> theorem\n",
    "========"
   ]
  },
  {
   "cell_type": "code",
   "execution_count": 1,
   "metadata": {},
   "outputs": [],
   "source": [
    "import proveit\n",
    "context = proveit.Context('..') # the theorem's context is in the parent directory"
   ]
  },
  {
   "cell_type": "code",
   "execution_count": 2,
   "metadata": {},
   "outputs": [
    {
     "name": "stdout",
     "output_type": "stream",
     "text": [
      "Beginning proof of intervalCO_upper_bound\n",
      "Recorded 'presuming' information\n",
      "Presuming previous theorems (applied transitively).\n"
     ]
    },
    {
     "data": {
      "text/html": [
       "<strong id=\"intervalCO_upper_bound\">intervalCO_upper_bound:</strong> <a class=\"ProveItLink\" href=\"../__pv_it/739d74302b17584725ef1d72b4b74bc466f4808a0/expr.ipynb\"><img src=\"data:image/png;base64,iVBORw0KGgoAAAANSUhEUgAAAPIAAAAZBAMAAAD5xW7WAAAAMFBMVEX///8QEBCIiIhmZma6urrM\n",
       "zMxUVFQiIiJERETc3Nzu7u6qqqp2dnaYmJgyMjIAAAAcRTyBAAAAAXRSTlMAQObYZgAAA21JREFU\n",
       "SMfdlk1oE0EUx1+T3STdj+TiRYqwtJAWVAwNVoq0BgQ9aXNqL0KCXwUPpRQ1xRapPUhqKQYRFUFc\n",
       "W2glVhoUkYLKkiLF+MEeCmpBWQQFRcGDB5uD+GZmN9lsm3YD9eJAdrKz/ze/3ffevBmAmlpvKgOb\n",
       "0bjUcI0W/bBZ7dp/SK7Xqz6aZ2SDdB/ck93q7645KlzAd/dlKPklGfjmnuxW/3Xt4WAE8QYl3yCe\n",
       "GXFPdqmXI86RZ3FyDeXwkqfkoAog5dyTXer9ztX3tp12XWgOdyhZLmSz12vIMJd6p6S5wPpF6vIY\n",
       "ze3f6fRwLbnt1A/avo4v/WvC32T46g6FJdaiYo5/adyLPotQ8gmAsTUYh40qZKc+abMQY9bNBOI0\n",
       "ecBPZxH2WEtM+KPOZUA2KHk/yzWrPW459on0kpki4sDFTsVOdujLZGLRbt0M4b0qFTnqkL5SXohF\n",
       "CCkg9lOyHzylN3oS1T0SFAgpSNT3FjpA0aRJO9mhL5OJxbR1swWfQoCtAaFM9howpwH/k5Il3W+N\n",
       "v5vPApKXycwhfFt5/KaKZPm+nezQl8nEIpgpk4F8HqtnJW/jcu7KWeR6oxuHpsKfgSMOJmQN+0Tj\n",
       "KXQsNiTP2slMn98djlM9koXWvrhpUXLHELkk4pZzrAwL6bBPBY55G8aO46MzfBGCwMhRMmOz2sQq\n",
       "paJ5oxV1m+g9ap8/FjTjPBNPqKaFmCxnmKjuQl3lqgrFhG1gZRg8xOm8Eb4fpijZe/I06Ufho0C/\n",
       "SWnrjVWQiZ6HH8D0SI5Cj2kBnFXdFrBo5C7DLUcl8ekBnNSrMTKJRl3Ok4SedDqteKQrSyxQbfxg\n",
       "Oj0KyoudlWQWvRVgeiQ3QNi0AN5K+4OYbY2THbqjegqtr0m044wso0fmMoFl1ce8LR4hLirihEnm\n",
       "7UeFCjLRY5Lw4GPfLKzARNa04JLVqqe9zdj257pM4hBIcRbnglZ/Cc7JI/CckaXZVfvzbcmQmB5f\n",
       "byv/SzctZK3qjmFreRuZO/qgA2CcVJI32lQn3wDdrwACuA7F4e9C1HCSp5fyBaZH8oHtTbpp4S0F\n",
       "Zqw62Nwl7c1D4sZqDetaMM7rnEk8LM42i+AGJwPaApl1TkPz7k9DSbvFUzenoffrncP0msnUQoj8\n",
       "sxNgavV5+7xtpFQ4Nj5vn/0LYd0FR4BlhXgAAAAASUVORK5CYII=\n",
       "\" style=\"display:inline;vertical-align:middle;\" /></a><br>(see <a class=\"ProveItLink\" href=\"../__pv_it/739d74302b17584725ef1d72b4b74bc466f4808a0/dependencies.ipynb\">dependencies</a>)<br>"
      ],
      "text/plain": [
       "intervalCO_upper_bound: forall_{a in Reals, b in Reals} [forall_{x in [a,b)} (x < b)]"
      ]
     },
     "execution_count": 2,
     "metadata": {},
     "output_type": "execute_result"
    }
   ],
   "source": [
    "%proving intervalCO_upper_bound presuming []"
   ]
  },
  {
   "cell_type": "code",
   "execution_count": null,
   "metadata": {},
   "outputs": [],
   "source": []
  }
 ],
 "metadata": {
  "kernelspec": {
   "display_name": "Python 3",
   "language": "python",
   "name": "python3"
  }
 },
 "nbformat": 4,
 "nbformat_minor": 0
}
