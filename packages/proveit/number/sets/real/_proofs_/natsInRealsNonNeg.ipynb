{
 "cells": [
  {
   "cell_type": "markdown",
   "metadata": {},
   "source": [
    "Proof of <a class=\"ProveItLink\" href=\"../../../../_context_.ipynb\">proveit</a>.<a class=\"ProveItLink\" href=\"../../../_context_.ipynb\">number</a>.<a class=\"ProveItLink\" href=\"../../_context_.ipynb\">sets</a>.<a class=\"ProveItLink\" href=\"../_context_.ipynb\">real</a>.<a class=\"ProveItLink\" href=\"../_theorems_.ipynb#natsInRealsNonNeg\">natsInRealsNonNeg</a> theorem\n",
    "========"
   ]
  },
  {
   "cell_type": "code",
   "execution_count": 1,
   "metadata": {},
   "outputs": [],
   "source": [
    "import proveit\n",
    "context = proveit.Context('..') # the theorem's context is in the parent directory"
   ]
  },
  {
   "cell_type": "code",
   "execution_count": 2,
   "metadata": {},
   "outputs": [
    {
     "name": "stdout",
     "output_type": "stream",
     "text": [
      "Beginning proof of natsInRealsNonNeg\n",
      "Recorded 'presuming' information\n",
      "Presuming previous theorems (applied transitively).\n"
     ]
    },
    {
     "data": {
      "text/html": [
       "<strong id=\"natsInRealsNonNeg\">natsInRealsNonNeg:</strong> <a class=\"ProveItLink\" href=\"../__pv_it/0e7da902407e5d8d72a3804f12bf9894366c13c00/expr.ipynb\"><img src=\"data:image/png;base64,iVBORw0KGgoAAAANSUhEUgAAAE4AAAAVBAMAAAAazcUaAAAAMFBMVEX///9mZmaqqqrc3NyIiIgi\n",
       "IiJUVFTMzMyYmJi6uroQEBB2dnZEREQyMjLu7u4AAAA1o4RqAAAAAXRSTlMAQObYZgAAAVNJREFU\n",
       "KM9jYCACeHsTUDDNAERybGBKwK+OWawASLJOYPhHwEBmGaDC9wUMiwg5jW/PBIZ6A4YIgn7g2/ug\n",
       "/gFDCMPbP2cfMOz6NQFFsnXN+btrGsBMlhsg85YwMJxgT2Dg+4BmyoVnDDU9D4CMJ4fA7vvJwJBa\n",
       "4MLAsABN3QFrBh5mYGC8Pgn3b+Y5tgKGALAsx9HQ0NACqDpGgwsMD0+CrRYAhV9yGd89iDrm2wZI\n",
       "5jEaHGAoh8bHRiCRzORQBlHHaoBsLxsnaiQkM+zkcACrE0Jxn6rsAzR1bA/SweoCkNRZhcYqMDDo\n",
       "nAGCBzB1fAm8IP8yJyCbN5EH1TigOoZqdpA6vgPI6hinH8BQx6FwAN1ea4ZzLajq0oF4M1jdFhR1\n",
       "ZYwFKOouATHjBRCLVwE53rgV0pGVlf4CmsUHVseXNg+RDq4znLmvgCMNse+BxRsGAAClvGelUqpA\n",
       "WwAAAABJRU5ErkJggg==\n",
       "\" style=\"display:inline;vertical-align:middle;\" /></a><br>(see <a class=\"ProveItLink\" href=\"../__pv_it/0e7da902407e5d8d72a3804f12bf9894366c13c00/dependencies.ipynb\">dependencies</a>)<br>"
      ],
      "text/plain": [
       "natsInRealsNonNeg: Naturals subset RealsNonNeg"
      ]
     },
     "execution_count": 2,
     "metadata": {},
     "output_type": "execute_result"
    }
   ],
   "source": [
    "%proving natsInRealsNonNeg presuming []"
   ]
  },
  {
   "cell_type": "code",
   "execution_count": null,
   "metadata": {},
   "outputs": [],
   "source": []
  }
 ],
 "metadata": {
  "kernelspec": {
   "display_name": "Python 3",
   "language": "python",
   "name": "python3"
  }
 },
 "nbformat": 4,
 "nbformat_minor": 0
}
