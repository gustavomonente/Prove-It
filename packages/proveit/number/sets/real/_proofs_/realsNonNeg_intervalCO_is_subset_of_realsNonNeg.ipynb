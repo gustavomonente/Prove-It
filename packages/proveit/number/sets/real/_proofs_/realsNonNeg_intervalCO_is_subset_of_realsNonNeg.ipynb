{
 "cells": [
  {
   "cell_type": "markdown",
   "metadata": {},
   "source": [
    "Proof of <a class=\"ProveItLink\" href=\"../../../../_context_.ipynb\">proveit</a>.<a class=\"ProveItLink\" href=\"../../../_context_.ipynb\">number</a>.<a class=\"ProveItLink\" href=\"../../_context_.ipynb\">sets</a>.<a class=\"ProveItLink\" href=\"../_context_.ipynb\">real</a>.<a class=\"ProveItLink\" href=\"../_theorems_.ipynb#realsNonNeg_intervalCO_is_subset_of_realsNonNeg\">realsNonNeg_intervalCO_is_subset_of_realsNonNeg</a> theorem\n",
    "========"
   ]
  },
  {
   "cell_type": "code",
   "execution_count": 1,
   "metadata": {},
   "outputs": [],
   "source": [
    "import proveit\n",
    "context = proveit.Context('..') # the theorem's context is in the parent directory"
   ]
  },
  {
   "cell_type": "code",
   "execution_count": 2,
   "metadata": {},
   "outputs": [
    {
     "name": "stdout",
     "output_type": "stream",
     "text": [
      "Beginning proof of realsNonNeg_intervalCO_is_subset_of_realsNonNeg\n",
      "Recorded 'presuming' information\n",
      "Presuming previous theorems (applied transitively).\n"
     ]
    },
    {
     "data": {
      "text/html": [
       "<strong id=\"realsNonNeg_intervalCO_is_subset_of_realsNonNeg\">realsNonNeg_intervalCO_is_subset_of_realsNonNeg:</strong> <a class=\"ProveItLink\" href=\"../__pv_it/28d79296b0b8fe288fc378be4e8dd1568e284a900/expr.ipynb\"><img src=\"data:image/png;base64,iVBORw0KGgoAAAANSUhEUgAAAPsAAAAcBAMAAABVHdSvAAAAMFBMVEX///8QEBCIiIhmZma6urrM\n",
       "zMxUVFQiIiJERETc3Nzu7u6qqqp2dnaYmJgyMjIAAAAcRTyBAAAAAXRSTlMAQObYZgAABB9JREFU\n",
       "SMfFVl2IG1UU/pLJ7/wki/ShdBHG+tMiVcIuLgtt10jRt7YRce1DIUttFZTKUqyr/ZFYiqa7D059\n",
       "qCKlnXahljWSwaJ1RXBoFW3clihS11IlFNYHbXUf+lDyUHruvTPxZhJt9gf2hszc3Dk537nf+c65\n",
       "AyzJWLNmaXCfstjVcLWhxfIYzc7BONmXo2s8izrCiwM/OCfrZD/hl3PoRmRxCPhzbubq91nkLewH\n",
       "Li4GumICj84EFif/D/+Snbexi1JgAzW28tsC4I+Tk29k728NAzErYPXL8nf/Xl7l0/ANtvt7aJIB\n",
       "fpgHf03jPJrhkSKvai1oVjuFLdMUKU6O8dzfJBnMAh8wORQWAN8dhE87dDkXNCscRSJJYisd9JUP\n",
       "7KVYKSLdmT96sh6E38z2eML7MT0yMrLbg1esGsYPcv4zvO77qQNUJibeX8Dmja4g/Hc8A6IZHLsg\n",
       "7V6xCnjW63osZbiPvreKxX0LEX5NwCfX9awQK3+sXEuEZvj8DZn8WLDSGU87gEMtTllrQumq3abH\n",
       "cXVfrPi/EwUB/4SVmhXKv22XLRhce4ojw58dCPjLE8yGNjLFZfa/UZVLclPTY+Nlhmmfbuh8iMOr\n",
       "90IRAtbqSJvQhtk8Lknv8Mib5PSLIg0/iuNZZhKuSu7Prn7+GjsaaK0LLK8+j9B2vT1ALSayEwjR\n",
       "xxvxDIdX6oibfjbKLqKciiOy8jckgmSWCV6vNmJUv+qthnVUmJ9nHk52gWs2xZj4+Px6mK5+ktHf\n",
       "Yx9GPCdVOcGHCqyYvYXNjgd/WoZXngzWN9t9stY4M6YnJ0DwVxgb0TEfPk0dzBj70CZ44xO2sMWR\n",
       "4BOCfNrw117ZV/G4jUgL+Ucx+lMAPs9646HtdBl/aAYRthEG7xLTRPEsuJbzK18igdAg+BLdPq8i\n",
       "jZBPZExIr+zgFY132nSWdOBJTzdl+EEl16p8nKFA1d3ROlIQ8L0ZITBPeqvs+8XJYLpKr1ClJL2w\n",
       "qPuEabymo0x2sWqCtqG4/OlfctPVnR3N8D/ycClEJRMdxjh3p7zwKvCYVHgH8LvK1Wf2vZgF34FU\n",
       "eBHR9dRtDx55APE99KyHHaQpsdFT2+3GkTOD4j/N7bWflxJZhJzwEJ6jmjDD+ns/N8e4DH3R14vF\n",
       "AzAvPNLmxWaZ3PW+9Ccfefet73hNt9241igBK3HFjgnyta22OjU11XBZp1NlSJD/WQUletQUxDoZ\n",
       "3vUn5zp58aj7s5CV3wg9J3JfcaUTZRR7jAK+FfB6qdXJ0xK86kutTSdrc1w0enBk26frgTHWdi65\n",
       "4wNSj+3G4BRpjZKm7buu9ra6jTn/whuNVmx1AB8PFEKYch+00cRtNeX+PyikiFYFX7Z+7eS0utqB\n",
       "zeRdLc7M902hk5ec6l0ttOz84BUbSz3uAJVqIVcOYeaQAAAAAElFTkSuQmCC\n",
       "\" style=\"display:inline;vertical-align:middle;\" /></a><br>(see <a class=\"ProveItLink\" href=\"../__pv_it/28d79296b0b8fe288fc378be4e8dd1568e284a900/dependencies.ipynb\">dependencies</a>)<br>"
      ],
      "text/plain": [
       "realsNonNeg_intervalCO_is_subset_of_realsNonNeg: forall_{a in RealsNonNeg, b in RealsNonNeg} ([a,b) subset RealsNonNeg)"
      ]
     },
     "execution_count": 2,
     "metadata": {},
     "output_type": "execute_result"
    }
   ],
   "source": [
    "%proving realsNonNeg_intervalCO_is_subset_of_realsNonNeg presuming []"
   ]
  },
  {
   "cell_type": "code",
   "execution_count": null,
   "metadata": {},
   "outputs": [],
   "source": []
  }
 ],
 "metadata": {
  "kernelspec": {
   "display_name": "Python 3",
   "language": "python",
   "name": "python3"
  }
 },
 "nbformat": 4,
 "nbformat_minor": 0
}
