{
 "cells": [
  {
   "cell_type": "markdown",
   "metadata": {},
   "source": [
    "Proof of <a class=\"ProveItLink\" href=\"../../../../_context_.ipynb\">proveit</a>.<a class=\"ProveItLink\" href=\"../../../_context_.ipynb\">number</a>.<a class=\"ProveItLink\" href=\"../../_context_.ipynb\">sets</a>.<a class=\"ProveItLink\" href=\"../_context_.ipynb\">real</a>.<a class=\"ProveItLink\" href=\"../_theorems_.ipynb#all_in_IntervalCC_in_Reals\">all_in_IntervalCC_in_Reals</a> theorem\n",
    "========"
   ]
  },
  {
   "cell_type": "code",
   "execution_count": 1,
   "metadata": {},
   "outputs": [],
   "source": [
    "import proveit\n",
    "context = proveit.Context('..') # the theorem's context is in the parent directory"
   ]
  },
  {
   "cell_type": "code",
   "execution_count": 2,
   "metadata": {},
   "outputs": [
    {
     "name": "stdout",
     "output_type": "stream",
     "text": [
      "Beginning proof of all_in_IntervalCC_in_Reals\n",
      "Recorded 'presuming' information\n",
      "Presuming previous theorems (applied transitively).\n"
     ]
    },
    {
     "data": {
      "text/html": [
       "<strong id=\"all_in_IntervalCC_in_Reals\">all_in_IntervalCC_in_Reals:</strong> <a class=\"ProveItLink\" href=\"../__pv_it/1611ce56848ed9c71929ac91dc00159eaf2ffe9d0/expr.ipynb\"><img src=\"data:image/png;base64,iVBORw0KGgoAAAANSUhEUgAAAPQAAAAZBAMAAAD02x6RAAAAMFBMVEX///8QEBCIiIhmZma6urrM\n",
       "zMxUVFQiIiJERETc3Nzu7u6qqqp2dnaYmJgyMjIAAAAcRTyBAAAAAXRSTlMAQObYZgAAA3JJREFU\n",
       "SMfdlk9IFFEcx3/u7Oyf2ZmtQwdDiEFhEyoSl7wpglQQVHvSDoFL/6wOIlKtlMjgoUZF3CIqwmhS\n",
       "0NisliJE6DCsBLVFLCFkQjIEHoqyDh3SU783b2b3zbots+CpHyyP9/b7e595v9/v/QGoyLoSSdgU\n",
       "8yb6K/TogU2zW/8hOpgr8+ccRRuk+ewe7VL/sNTgx+qx1Wr8Jl/SRL8lY9/co13qv5YcNabg2KIG\n",
       "gmGi75DoKO7R7vRSQ8lhZRwCwThAxkSHNQAx7R7tTu937EHpWmLARnNJXPIDEy1lU6nbFZSZO71D\n",
       "wQ9qhVVzSQxZuNWs8D+q2l9JhRfr+5gFLttxrsPfROTmbpl0nmhMwH1eDLjYYKJPAwyVgBwx/oEu\n",
       "1sdZD7sIRgEEXer1m5OcY3M924IfIhkmuo0WnG2z9Se/kFa0FhDqvdois+gifQFNPGz0Fexq4rrX\n",
       "jEihKJXriQFSJ6EeE+0Hj739hZfRnEeELEGFieTRfDPIujjBoov0BTTxsCnb8E8I0B6/YxXNWnVb\n",
       "gESf/2WixZzfdl6cSwGil8jUW/CDpZG7GqKlxyy6SF9AEw8GjQM0WsxWVMa5/UoBHTTasTMZWQEv\n",
       "iTFB69h21p7H2KIheoZFU31mXyRm6hEtNHbHLA8m4DgQo52tbK6HP5B7iwYchk5hdC7y6xAGio6S\n",
       "KXdqdfTQlHUu6jjDid6jdftbw1aup2OdmuXBlFlI24sy0mlk0e1cLF9m8Bzn4xr4Hpg00dyZC6Qd\n",
       "hGXBXJXc1NXqQBM9Dz+A6hEdhQ7LI4+eBziaHoN79HxJMwepmMYtwukUTVJSlfbEoUNVVdkj3lig\n",
       "2Wri+1R1EOQ3e5xomsI1oHpE10DE8sijDwJM1U4003oUzh7KXx8roP5MQzhG0RJG5WkysKT5aMBD\n",
       "x0mY1nHGOA34i6wDLdEa5cFHVy2swWjK8lBKHqTe19ZBats0c19XJTsPgxijuc7qwWG4LCnwiqLF\n",
       "mQ339X3REKkev287/ztneSjlrw/bMgzae+JZM8AIOVLe65MtfA20vwMIYJJC/d+FqFGMnlrIZKke\n",
       "0Qd21eUsj/w+GipHti5N1jwkd/QMo0095rrMK8VDc814KGWfCrYFkmUeSHPuH0hx1kNx9UD6VO5t\n",
       "lqsYnXOiN/9ZmNj4Dh8odWm6eIdf+gtqPBmEiOCmwAAAAABJRU5ErkJggg==\n",
       "\" style=\"display:inline;vertical-align:middle;\" /></a><br>(see <a class=\"ProveItLink\" href=\"../__pv_it/1611ce56848ed9c71929ac91dc00159eaf2ffe9d0/dependencies.ipynb\">dependencies</a>)<br>"
      ],
      "text/plain": [
       "all_in_IntervalCC_in_Reals: forall_{a in Reals, b in Reals} [forall_{x in [a,b]} (x in Reals)]"
      ]
     },
     "execution_count": 2,
     "metadata": {},
     "output_type": "execute_result"
    }
   ],
   "source": [
    "%proving all_in_IntervalCC_in_Reals presuming []"
   ]
  },
  {
   "cell_type": "code",
   "execution_count": null,
   "metadata": {},
   "outputs": [],
   "source": []
  }
 ],
 "metadata": {
  "kernelspec": {
   "display_name": "Python 3",
   "language": "python",
   "name": "python3"
  }
 },
 "nbformat": 4,
 "nbformat_minor": 0
}
