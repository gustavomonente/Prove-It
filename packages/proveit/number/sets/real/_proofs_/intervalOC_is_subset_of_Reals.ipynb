{
 "cells": [
  {
   "cell_type": "markdown",
   "metadata": {},
   "source": [
    "Proof of <a class=\"ProveItLink\" href=\"../../../../_context_.ipynb\">proveit</a>.<a class=\"ProveItLink\" href=\"../../../_context_.ipynb\">number</a>.<a class=\"ProveItLink\" href=\"../../_context_.ipynb\">sets</a>.<a class=\"ProveItLink\" href=\"../_context_.ipynb\">real</a>.<a class=\"ProveItLink\" href=\"../_theorems_.ipynb#intervalOC_is_subset_of_Reals\">intervalOC_is_subset_of_Reals</a> theorem\n",
    "========"
   ]
  },
  {
   "cell_type": "code",
   "execution_count": 1,
   "metadata": {},
   "outputs": [],
   "source": [
    "import proveit\n",
    "context = proveit.Context('..') # the theorem's context is in the parent directory"
   ]
  },
  {
   "cell_type": "code",
   "execution_count": 2,
   "metadata": {},
   "outputs": [
    {
     "name": "stdout",
     "output_type": "stream",
     "text": [
      "Beginning proof of intervalOC_is_subset_of_Reals\n",
      "Recorded 'presuming' information\n",
      "Presuming previous theorems (applied transitively).\n"
     ]
    },
    {
     "data": {
      "text/html": [
       "<strong id=\"intervalOC_is_subset_of_Reals\">intervalOC_is_subset_of_Reals:</strong> <a class=\"ProveItLink\" href=\"../__pv_it/fecb76cabe72a8466562e1309290515a638c6ae40/expr.ipynb\"><img src=\"data:image/png;base64,iVBORw0KGgoAAAANSUhEUgAAALsAAAAVBAMAAADsqILHAAAAMFBMVEX///8QEBCIiIhmZma6urrM\n",
       "zMxUVFQiIiJERETc3Nzu7u6qqqp2dnaYmJgyMjIAAAAcRTyBAAAAAXRSTlMAQObYZgAAAvdJREFU\n",
       "OMutlV1IFFEUx//u7OfszO5LD5IEg/bhS7C44ItphkQQlPtkPQSKlUEPIVFtmMTmQ41KNPWQET5M\n",
       "CRVmzFCEGEGDEtX2wSJBJhRLYFFI9Rj7EJ27d2Z2XXdxhQ4c7uXcmd+98z/3nAHWZaEM92KTv7WX\n",
       "f3iGPMsmn6rF37PdMfFCPyCV4D/UXvlZS2fwa8BrFvhRLf677a5FYqvxyN7BwQUdIh39BvvkVJV0\n",
       "Oca9YFGzDD41jmCoB5il7XVaN6vEBzTuBevUXbx8KZlMJmy8oNHRb1EwPTk5Vq02Y7YX7AUcfGhZ\n",
       "Kzq9oJEiEVr4o6qD1eIbbA/taNrII1/rW2x80VcR3u8lcSTS8SgwXIa0P1smeNn2XVrkN785f3VD\n",
       "4/iWFdpPt5FqMjE68hl2bbrx8Bc2SnYGwycvtinO4jnu4iYI/DaEc4gqHN9fhL+aPM/SGaZYAB6n\n",
       "TsSn8YxHQprhImz9/lwrFEu67by3gbuQQ4BvKWRhWHk8uymF03cE6fDw0SdKmYATXpiZBOEX2XZR\n",
       "klIevakTXn5Qgq9JwUg4177TzOPFVDFe2J2y8aFsF80mti7By/RgeIvG7vrjpBsZ4adKxDEsPLOv\n",
       "fQY79dXijGNknkYviw0fob1P+3KIgOPjbJttegNvGIolxEtSa5g4Ec5flGg75YHjZ1fgu4QETy0e\n",
       "0R5CzNePiTxe6DvFxiF8FvPZVZqPuVU5xz2oyGckGPSyPxOM2fiIWdwUJJNupMBkiFKWakxPDw6o\n",
       "qqp4pGvvuczNvrOqOgTl1XYXv4e72Lvl+mYEBmjW9NYpK7Fvb6GlLUH9ZSLCEiRTkg0tuKj7uTjh\n",
       "QyzrOdShh4vzOF2+KTyxR7sp+F46TcGxu86kRuveBynBtU9boREMyCk853hpqnxLs1biV5ubDm/v\n",
       "w1ZglJXVO2uizVeHrjekMckZHlwW427dDaNQ46KyBl4sKXwPaW/XKh8aSfuKvxMZa+CDWqXeNbOO\n",
       "n6Gn0s/wY8XWmMH/sX9KytR5KnsfmgAAAABJRU5ErkJggg==\n",
       "\" style=\"display:inline;vertical-align:middle;\" /></a><br>(see <a class=\"ProveItLink\" href=\"../__pv_it/fecb76cabe72a8466562e1309290515a638c6ae40/dependencies.ipynb\">dependencies</a>)<br>"
      ],
      "text/plain": [
       "intervalOC_is_subset_of_Reals: forall_{a in Reals, b in Reals} ((a,b] subset Reals)"
      ]
     },
     "execution_count": 2,
     "metadata": {},
     "output_type": "execute_result"
    }
   ],
   "source": [
    "%proving intervalOC_is_subset_of_Reals presuming []"
   ]
  },
  {
   "cell_type": "code",
   "execution_count": null,
   "metadata": {},
   "outputs": [],
   "source": []
  }
 ],
 "metadata": {
  "kernelspec": {
   "display_name": "Python 3",
   "language": "python",
   "name": "python3"
  }
 },
 "nbformat": 4,
 "nbformat_minor": 0
}
