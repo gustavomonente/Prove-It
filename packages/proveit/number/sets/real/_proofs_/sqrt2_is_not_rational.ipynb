{
 "cells": [
  {
   "cell_type": "markdown",
   "metadata": {},
   "source": [
    "Proof of <a class=\"ProveItLink\" href=\"../../../../_context_.ipynb\">proveit</a>.<a class=\"ProveItLink\" href=\"../../../_context_.ipynb\">number</a>.<a class=\"ProveItLink\" href=\"../../_context_.ipynb\">sets</a>.<a class=\"ProveItLink\" href=\"../_context_.ipynb\">real</a>.<a class=\"ProveItLink\" href=\"../_theorems_.ipynb#sqrt2_is_not_rational\">sqrt2_is_not_rational</a> theorem\n",
    "========"
   ]
  },
  {
   "cell_type": "code",
   "execution_count": null,
   "metadata": {},
   "outputs": [],
   "source": [
    "import proveit\n",
    "from proveit import Context, defaults, Function, Variable\n",
    "# from proveit._core_.proof import Theorem\n",
    "from proveit.logic import And, Booleans, Equals, Exists, Forall, Implies, InSet, Not, NotEquals\n",
    "from proveit._common_ import n, q, a, b, c, p, x, y, aPrime, bPrime, G, P, Py, alpha\n",
    "from proveit.number import zero, one, two, four, sqrt, Complexes, Integers, Naturals, NaturalsPos, Reals\n",
    "from proveit.number import frac, Mult, Exp, Greater, GCD, Divides\n",
    "from proveit.number.sets.rational._common_ import Rationals, RationalsPos\n",
    "from proveit.logic.boolean.quantification.existential._theorems_ import skolemElim\n",
    "from proveit.number.numeral.deci._theorems_ import less_1_2, mult_2_2, posnat2\n",
    "context = proveit.Context('..') # the theorem's context is in the parent directory"
   ]
  },
  {
   "cell_type": "code",
   "execution_count": null,
   "metadata": {},
   "outputs": [],
   "source": [
    "%proving sqrt2_is_not_rational presuming [proveit.logic, proveit.number, proveit.number.numeral.deci, proveit.number.ordering, proveit.number.sets.real.root2_proof_temporary_context, proveit.core_expr_types.tuples.range_from1_len, proveit.core_expr_types.conditionals.condition_append_reduction, proveit.number.sets.rational.xInRationalsInBool, proveit.number.divisibility.dividesInBool, proveit.number.exponentiation.expRealPosClosure, proveit.number.division.divRealClosure, proveit.number.sets.integer.zeroInNats, proveit.number.exponentiation.sqrtRealClosure]"
   ]
  },
  {
   "cell_type": "markdown",
   "metadata": {},
   "source": [
    "### Setting up a contradiction proof by first assuming $\\sqrt{2} \\in \\mathbb{Q}$"
   ]
  },
  {
   "cell_type": "code",
   "execution_count": null,
   "metadata": {},
   "outputs": [],
   "source": [
    "sqrt_2_in_rationals = InSet(sqrt(two), Rationals)"
   ]
  },
  {
   "cell_type": "code",
   "execution_count": null,
   "metadata": {},
   "outputs": [],
   "source": [
    "defaults.assumptions = [sqrt_2_in_rationals]"
   ]
  },
  {
   "cell_type": "markdown",
   "metadata": {},
   "source": [
    "### If $\\sqrt{2}$ is in $\\mathbb{Q}$, then it must be in $\\mathbb{Q^+}$"
   ]
  },
  {
   "cell_type": "code",
   "execution_count": null,
   "metadata": {},
   "outputs": [],
   "source": [
    "Greater(sqrt(two), zero).prove()"
   ]
  },
  {
   "cell_type": "code",
   "execution_count": null,
   "metadata": {},
   "outputs": [],
   "source": [
    "sqrt_2_in_rationals_pos = InSet(sqrt(two), RationalsPos).prove()"
   ]
  },
  {
   "cell_type": "markdown",
   "metadata": {},
   "source": [
    "### Choose relatively prime $a^*$ and $b^*$ such $\\sqrt{2} = a^* / b^*$ assuming $\\sqrt{2} \\in \\mathbb{Q}$\n",
    "#### (Relatively prime means there are no nontrivial common divisors; that is, $gcd(a^*, b^*) = 1$ where $gcd$ is the \"greatest common divisor\")"
   ]
  },
  {
   "cell_type": "code",
   "execution_count": null,
   "metadata": {},
   "outputs": [],
   "source": [
    "# Define some variables for Skolemization\n",
    "aStar, bStar = (\n",
    "    Variable('aStar', \"(a ^ *)\"),\n",
    "    Variable('bStar', \"(b ^ *)\"))"
   ]
  },
  {
   "cell_type": "code",
   "execution_count": null,
   "metadata": {},
   "outputs": [],
   "source": [
    "sqrt_2_in_rationals_pos.choose_reduced_rational_fraction(aStar, bStar)"
   ]
  },
  {
   "cell_type": "markdown",
   "metadata": {},
   "source": [
    "### From $\\sqrt{2} = a^* / b^*$, derive $2 \\cdot (b^*)^2 = (a^*)^2$"
   ]
  },
  {
   "cell_type": "code",
   "execution_count": null,
   "metadata": {},
   "outputs": [],
   "source": [
    "sqrt_2_equation = Equals(sqrt(two), frac(aStar, bStar)).prove()"
   ]
  },
  {
   "cell_type": "code",
   "execution_count": null,
   "metadata": {},
   "outputs": [],
   "source": [
    "sqrt_2_equation = sqrt_2_equation.right_mult_both_sides(bStar, simplify=True)"
   ]
  },
  {
   "cell_type": "code",
   "execution_count": null,
   "metadata": {},
   "outputs": [],
   "source": [
    "sqrt_2_equation = sqrt_2_equation.square_both_sides()"
   ]
  },
  {
   "cell_type": "code",
   "execution_count": null,
   "metadata": {},
   "outputs": [],
   "source": [
    "sqrt_2_equation = sqrt_2_equation.innerExpr().lhs.distribute()"
   ]
  },
  {
   "cell_type": "code",
   "execution_count": null,
   "metadata": {},
   "outputs": [],
   "source": [
    "two_bStar_sqrd__eq__aStar_sqrd = sqrt_2_equation.innerExpr().lhs.simplify()"
   ]
  },
  {
   "cell_type": "markdown",
   "metadata": {},
   "source": [
    "### Now prove that $2~|~a^*$ via $2 \\cdot (b^*)^2 = (a^*)^2$"
   ]
  },
  {
   "cell_type": "code",
   "execution_count": null,
   "metadata": {},
   "outputs": [],
   "source": [
    "InSet(Exp(bStar, two), NaturalsPos).prove()"
   ]
  },
  {
   "cell_type": "markdown",
   "metadata": {},
   "source": [
    "#### Proving $2~|~(2 \\cdot (b^*)^2)$ is trivial knowing $(b^*)^2 \\in \\mathbb{N^+}$"
   ]
  },
  {
   "cell_type": "code",
   "execution_count": null,
   "metadata": {},
   "outputs": [],
   "source": [
    "two_divides_two_bStar_sqrd = Divides(two, Mult(two, Exp(bStar, two))).prove()"
   ]
  },
  {
   "cell_type": "code",
   "execution_count": null,
   "metadata": {},
   "outputs": [],
   "source": [
    "two_bStar_sqrd__eq__aStar_sqrd.subRightSideInto(two_divides_two_bStar_sqrd)"
   ]
  },
  {
   "cell_type": "markdown",
   "metadata": {},
   "source": [
    "#### $2~|~(a^*)$ was already proven as a side-effect of proving  $2~|~(a^*)^2$"
   ]
  },
  {
   "cell_type": "code",
   "execution_count": null,
   "metadata": {},
   "outputs": [],
   "source": [
    "two_divides_aStar = Divides(two, aStar).prove()"
   ]
  },
  {
   "cell_type": "markdown",
   "metadata": {},
   "source": [
    "### Next derive $2~|~b^*$ from $2 \\cdot (b^*)^2 = (a^*)^2$ and $2~|~(a^*)$ in a few steps\n",
    "#### Derive $2^{2}~|~(a^{*})^{2}$ from $2~|~(a^{*})$"
   ]
  },
  {
   "cell_type": "code",
   "execution_count": null,
   "metadata": {},
   "outputs": [],
   "source": [
    "two_sqrd__divides__aStar_sqrd = two_divides_aStar.introduce_common_exponent(two)"
   ]
  },
  {
   "cell_type": "markdown",
   "metadata": {},
   "source": [
    "#### Derive $2^{2}~|~2 \\cdot (b^{*})^2$ from $2^{2}~|~(a^{*})^2$"
   ]
  },
  {
   "cell_type": "code",
   "execution_count": null,
   "metadata": {},
   "outputs": [],
   "source": [
    "two_sqrd__divides__two_bStar_sqrd = two_bStar_sqrd__eq__aStar_sqrd.subLeftSideInto(two_sqrd__divides__aStar_sqrd)"
   ]
  },
  {
   "cell_type": "markdown",
   "metadata": {},
   "source": [
    "#### Derive $2~|~(b^*)^2$ from $2^{2}~|~2 \\cdot (b^{*})^2$"
   ]
  },
  {
   "cell_type": "code",
   "execution_count": null,
   "metadata": {},
   "outputs": [],
   "source": [
    "two_sqrd__eq__two_times_two = Exp(two, two).expansion()"
   ]
  },
  {
   "cell_type": "code",
   "execution_count": null,
   "metadata": {},
   "outputs": [],
   "source": [
    "two_sqrd__eq__two_times_two.subRightSideInto(two_sqrd__divides__two_bStar_sqrd)"
   ]
  },
  {
   "cell_type": "code",
   "execution_count": null,
   "metadata": {},
   "outputs": [],
   "source": [
    "Divides(two, Exp(bStar, two)).prove()"
   ]
  },
  {
   "cell_type": "markdown",
   "metadata": {},
   "source": [
    "#### Finally, derive $2~|~(b^*)$ from $2~|~(b^*)^2$"
   ]
  },
  {
   "cell_type": "code",
   "execution_count": null,
   "metadata": {},
   "outputs": [],
   "source": [
    "two_divides_bStar = Divides(two, bStar).prove()"
   ]
  },
  {
   "cell_type": "markdown",
   "metadata": {},
   "source": [
    "### Prove a contradiction given that $2~|~(a^*)$, $2~|~(b^*)$, and $a^*$ and $b^*$ were chosen to be relatively prime"
   ]
  },
  {
   "cell_type": "code",
   "execution_count": null,
   "metadata": {},
   "outputs": [],
   "source": [
    "aStar_bStar_relatively_prime = GCD(aStar, bStar).deduce_relatively_prime()"
   ]
  },
  {
   "cell_type": "code",
   "execution_count": null,
   "metadata": {},
   "outputs": [],
   "source": [
    "two_does_not_divide_both = aStar_bStar_relatively_prime.specialize({p:two})"
   ]
  },
  {
   "cell_type": "code",
   "execution_count": null,
   "metadata": {},
   "outputs": [],
   "source": [
    "contradiction_assuming_choices = two_does_not_divide_both.deriveContradiction()"
   ]
  },
  {
   "cell_type": "markdown",
   "metadata": {},
   "source": [
    "### Use the existence of $a^*$ and $b^*$, assuming $\\sqrt{2} \\in \\mathbb{Q}$, to eliminate extra assumptions (effective Skolemization)"
   ]
  },
  {
   "cell_type": "code",
   "execution_count": null,
   "metadata": {},
   "outputs": [],
   "source": [
    "contradiction = contradiction_assuming_choices.eliminate(aStar, bStar)"
   ]
  },
  {
   "cell_type": "markdown",
   "metadata": {},
   "source": [
    "### Prove $\\sqrt{2} \\notin \\mathbb{Q}$ via contradiction"
   ]
  },
  {
   "cell_type": "code",
   "execution_count": null,
   "metadata": {},
   "outputs": [],
   "source": [
    "contradiction_impl = contradiction.asImplication(hypothesis=sqrt_2_in_rationals)"
   ]
  },
  {
   "cell_type": "code",
   "execution_count": null,
   "metadata": {},
   "outputs": [],
   "source": [
    "contradiction_impl.denyAntecedent(assumptions=[])"
   ]
  },
  {
   "cell_type": "code",
   "execution_count": null,
   "metadata": {},
   "outputs": [],
   "source": [
    "%qed"
   ]
  },
  {
   "cell_type": "code",
   "execution_count": null,
   "metadata": {},
   "outputs": [],
   "source": []
  }
 ],
 "metadata": {
  "kernelspec": {
   "display_name": "Python 3",
   "language": "python",
   "name": "python3"
  }
 },
 "nbformat": 4,
 "nbformat_minor": 0
}
