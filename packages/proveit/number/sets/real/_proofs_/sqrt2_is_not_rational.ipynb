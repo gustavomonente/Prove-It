{
 "cells": [
  {
   "cell_type": "markdown",
   "metadata": {},
   "source": [
    "Proof of <a class=\"ProveItLink\" href=\"../../../../_context_.ipynb\">proveit</a>.<a class=\"ProveItLink\" href=\"../../../_context_.ipynb\">number</a>.<a class=\"ProveItLink\" href=\"../../_context_.ipynb\">sets</a>.<a class=\"ProveItLink\" href=\"../_context_.ipynb\">real</a>.<a class=\"ProveItLink\" href=\"../_theorems_.ipynb#sqrt2_is_not_rational\">sqrt2_is_not_rational</a> theorem\n",
    "========"
   ]
  },
  {
   "cell_type": "code",
   "execution_count": null,
   "metadata": {},
   "outputs": [],
   "source": [
    "import proveit\n",
    "from proveit import Context, defaults, Function, Variable\n",
    "# from proveit._core_.proof import Theorem\n",
    "from proveit.logic import And, Booleans, Equals, Exists, Forall, Implies, InSet, Not, NotEquals\n",
    "from proveit._common_ import n, q, a, b, c, p, x, y, aPrime, bPrime, G, P, Py, alpha\n",
    "from proveit.number import zero, one, two, four, sqrt, Complexes, Integers, Naturals, NaturalsPos, Reals\n",
    "from proveit.number import frac, Mult, Exp, Greater, GCD, Divides\n",
    "from proveit.number.sets.rational._common_ import Rationals, RationalsPos\n",
    "from proveit.logic.boolean.quantification.existential._theorems_ import skolemElim\n",
    "from proveit.number.numeral.deci._theorems_ import less_1_2, mult_2_2, posnat2\n",
    "context = proveit.Context('..') # the theorem's context is in the parent directory"
   ]
  },
  {
   "cell_type": "code",
   "execution_count": null,
   "metadata": {},
   "outputs": [],
   "source": [
    "%proving sqrt2_is_not_rational presuming [proveit.logic, proveit.number, proveit.number.numeral.deci, proveit.number.ordering, proveit.number.sets.real.root2_proof_temporary_context, proveit.core_expr_types.tuples.range_from1_len, proveit.core_expr_types.conditionals.condition_append_reduction, proveit.number.sets.rational.xInRationalsInBool, proveit.number.divisibility.dividesInBool, proveit.number.exponentiation.expRealPosClosure, proveit.number.division.divRealClosure, proveit.number.sets.integer.zeroInNats, proveit.number.exponentiation.sqrtRealClosure]"
   ]
  },
  {
   "cell_type": "markdown",
   "metadata": {},
   "source": [
    "#### Check on the initial defaults.assumptions"
   ]
  },
  {
   "cell_type": "code",
   "execution_count": null,
   "metadata": {},
   "outputs": [],
   "source": [
    "defaults.assumptions"
   ]
  },
  {
   "cell_type": "markdown",
   "metadata": {},
   "source": [
    "#### Proof Steps"
   ]
  },
  {
   "cell_type": "code",
   "execution_count": null,
   "metadata": {},
   "outputs": [],
   "source": [
    "sqrt_2_in_rationals = InSet(sqrt(two), Rationals)"
   ]
  },
  {
   "cell_type": "code",
   "execution_count": null,
   "metadata": {},
   "outputs": [],
   "source": [
    "defaults.assumptions = [sqrt_2_in_rationals]"
   ]
  },
  {
   "cell_type": "markdown",
   "metadata": {},
   "source": [
    "\n",
    "\n",
    "#### STEP 2 (show that $\\{\\sqrt{2}\\in\\mathbb{Q}\\} \\vdash \\sqrt{2}\\in\\mathbb{Q}^{+}$)"
   ]
  },
  {
   "cell_type": "code",
   "execution_count": null,
   "metadata": {},
   "outputs": [],
   "source": [
    "# consider an alternative theorem here going from a>0 directly to a^b > 0\n",
    "from proveit.number.exponentiation._theorems_ import expRealPosClosure\n",
    "expRealPosClosure"
   ]
  },
  {
   "cell_type": "code",
   "execution_count": null,
   "metadata": {},
   "outputs": [],
   "source": [
    "expRealPosClosure.instantiate({a:two, b:frac(one, two)})"
   ]
  },
  {
   "cell_type": "code",
   "execution_count": null,
   "metadata": {},
   "outputs": [],
   "source": [
    "from proveit.number.sets.real._theorems_ import inRealsPos_iff_positive\n",
    "inRealsPos_iff_positive"
   ]
  },
  {
   "cell_type": "code",
   "execution_count": null,
   "metadata": {},
   "outputs": [],
   "source": [
    "sqrt2_in_realsPos_iff_greater_than_0 = inRealsPos_iff_positive.instantiate({a:sqrt(two)})"
   ]
  },
  {
   "cell_type": "code",
   "execution_count": null,
   "metadata": {},
   "outputs": [],
   "source": [
    "sqrt2_in_realsPos_iff_greater_than_0.deriveRight()"
   ]
  },
  {
   "cell_type": "code",
   "execution_count": null,
   "metadata": {},
   "outputs": [],
   "source": [
    "from proveit.number.sets.rational._theorems_ import positiveRationalInRationalsPos\n",
    "positiveRationalInRationalsPos"
   ]
  },
  {
   "cell_type": "code",
   "execution_count": null,
   "metadata": {},
   "outputs": [],
   "source": [
    "# positiveRationalInRationalsPos.instantiate({q:sqrt(two)})\n",
    "sqrt_2_in_rationals_pos = positiveRationalInRationalsPos.instantiate({q:sqrt(two)})"
   ]
  },
  {
   "cell_type": "markdown",
   "metadata": {},
   "source": [
    "#### STEP 3 – 6 achieves the choose part of the skolemization of the the supposedly rational $\\sqrt(2)$"
   ]
  },
  {
   "cell_type": "code",
   "execution_count": null,
   "metadata": {},
   "outputs": [],
   "source": [
    "# Define some variables for Skolemization\n",
    "aStar, bStar = (\n",
    "    Variable('aStar', \"(a ^ *)\"),\n",
    "    Variable('bStar', \"(b ^ *)\"))"
   ]
  },
  {
   "cell_type": "code",
   "execution_count": null,
   "metadata": {},
   "outputs": [],
   "source": [
    "sqrt_2_in_rationals_pos.choose_reduced_rational_fraction(aStar, bStar)"
   ]
  },
  {
   "cell_type": "markdown",
   "metadata": {},
   "source": [
    "#### For automation in later steps (will be able to delete once pulling in the num_sets branch):"
   ]
  },
  {
   "cell_type": "code",
   "execution_count": null,
   "metadata": {},
   "outputs": [],
   "source": [
    "InSet(two, Integers).prove()"
   ]
  },
  {
   "cell_type": "code",
   "execution_count": null,
   "metadata": {},
   "outputs": [],
   "source": [
    "InSet(aStar, Integers).prove()"
   ]
  },
  {
   "cell_type": "code",
   "execution_count": null,
   "metadata": {},
   "outputs": [],
   "source": [
    "InSet(bStar, Integers).prove()"
   ]
  },
  {
   "cell_type": "markdown",
   "metadata": {},
   "source": [
    "#### STEP 7 (NumberRelation Operations ??)"
   ]
  },
  {
   "cell_type": "code",
   "execution_count": null,
   "metadata": {},
   "outputs": [],
   "source": [
    "sqrt_2_rational_fraction = Equals(sqrt(two), frac(aStar, bStar)).prove()"
   ]
  },
  {
   "cell_type": "code",
   "execution_count": null,
   "metadata": {},
   "outputs": [],
   "source": [
    "num_rel = NumberRelation(sqrt_2_rational_fraction)"
   ]
  },
  {
   "cell_type": "code",
   "execution_count": null,
   "metadata": {},
   "outputs": [],
   "source": [
    "num_rel.mult_right(bStar)"
   ]
  },
  {
   "cell_type": "code",
   "execution_count": null,
   "metadata": {},
   "outputs": [],
   "source": [
    "from proveit.number.division._theorems_ import multFracLeftCancel\n",
    "multFracLeftCancel"
   ]
  },
  {
   "cell_type": "code",
   "execution_count": null,
   "metadata": {},
   "outputs": [],
   "source": [
    "temp_equiv = multFracLeftCancel.instantiate({x:aStar, y:bStar})"
   ]
  },
  {
   "cell_type": "code",
   "execution_count": null,
   "metadata": {},
   "outputs": [],
   "source": [
    "num_rel.relation"
   ]
  },
  {
   "cell_type": "code",
   "execution_count": null,
   "metadata": {},
   "outputs": [],
   "source": [
    "temp_equiv.subRightSideInto(num_rel.relation)"
   ]
  },
  {
   "cell_type": "code",
   "execution_count": null,
   "metadata": {},
   "outputs": [],
   "source": [
    "num_rel.square()"
   ]
  },
  {
   "cell_type": "code",
   "execution_count": null,
   "metadata": {},
   "outputs": [],
   "source": [
    "new_rel = temp_equiv.subRightSideInto(num_rel.relation)"
   ]
  },
  {
   "cell_type": "code",
   "execution_count": null,
   "metadata": {},
   "outputs": [],
   "source": [
    "num_rel = NumberRelation(new_rel)"
   ]
  },
  {
   "cell_type": "code",
   "execution_count": null,
   "metadata": {},
   "outputs": [],
   "source": [
    "from proveit.number.exponentiation._theorems_ import expOfPositivesProd\n",
    "expOfPositivesProd"
   ]
  },
  {
   "cell_type": "code",
   "execution_count": null,
   "metadata": {},
   "outputs": [],
   "source": [
    "temp_equiv = expOfPositivesProd.instantiate({c:two, a:sqrt(two), b:bStar})"
   ]
  },
  {
   "cell_type": "code",
   "execution_count": null,
   "metadata": {},
   "outputs": [],
   "source": [
    "new_rel = temp_equiv.subRightSideInto(num_rel.relation)"
   ]
  },
  {
   "cell_type": "code",
   "execution_count": null,
   "metadata": {},
   "outputs": [],
   "source": [
    "num_rel = NumberRelation(new_rel)"
   ]
  },
  {
   "cell_type": "code",
   "execution_count": null,
   "metadata": {},
   "outputs": [],
   "source": [
    "from proveit.number.exponentiation._theorems_ import nth_power_of_nth_root\n",
    "nth_power_of_nth_root"
   ]
  },
  {
   "cell_type": "code",
   "execution_count": null,
   "metadata": {},
   "outputs": [],
   "source": [
    "# this will be automatic when pulling in from Wayne's num_rel branch\n",
    "Exp(sqrt(two), two).simplification()"
   ]
  },
  {
   "cell_type": "code",
   "execution_count": null,
   "metadata": {},
   "outputs": [],
   "source": [
    "two_bStarSquared_eq_aStarSquared = sqrt2_squared_is_2.subRightSideInto(num_rel.relation)"
   ]
  },
  {
   "cell_type": "code",
   "execution_count": null,
   "metadata": {},
   "outputs": [],
   "source": [
    "# 2 possible ways, but need bStar^2 in Integers:\n",
    "# we can do this by way of proving bStar^2 in NaturalsPos\n",
    "InSet(Exp(bStar, two), NaturalsPos).prove()"
   ]
  },
  {
   "cell_type": "code",
   "execution_count": null,
   "metadata": {},
   "outputs": [],
   "source": [
    "# Helpful for later automation efforts\n",
    "InSet(Exp(bStar,two), Integers).prove()"
   ]
  },
  {
   "cell_type": "code",
   "execution_count": null,
   "metadata": {},
   "outputs": [],
   "source": [
    "two_divides_two_bStar_squared = Divides(two, Mult(two, Exp(bStar, two))).prove()"
   ]
  },
  {
   "cell_type": "code",
   "execution_count": null,
   "metadata": {},
   "outputs": [],
   "source": [
    "two_divides_aStarSquared = two_bStarSquared_eq_aStarSquared.subRightSideInto(two_divides_two_bStar_squared)"
   ]
  },
  {
   "cell_type": "code",
   "execution_count": null,
   "metadata": {},
   "outputs": [],
   "source": [
    "# already obtained via side-effects?\n",
    "two_divides_aStar = Divides(two, aStar).prove()"
   ]
  },
  {
   "cell_type": "markdown",
   "metadata": {},
   "source": [
    "#### STEP 11 (from $2|(a^{*})$ derive $2^{2}|(a^{*})^{2}$)"
   ]
  },
  {
   "cell_type": "code",
   "execution_count": null,
   "metadata": {},
   "outputs": [],
   "source": [
    "# or better: have an implementation method that uses the common_exponent_introduction theorem\n",
    "# and in fact, add the method to the conclude() method to allow prove() to do this\n",
    "twoSquared_divides_aStarSquared = two_divides_aStar.introduce_common_exponent(two)"
   ]
  },
  {
   "cell_type": "markdown",
   "metadata": {},
   "source": [
    "#### STEP 12 (from $2^{2}|(a^{*})^2$ derive $2^{2} | 2(b^{*})^2$)"
   ]
  },
  {
   "cell_type": "code",
   "execution_count": null,
   "metadata": {},
   "outputs": [],
   "source": [
    "c12 = two_bStarSquared_eq_aStarSquared.subLeftSideInto(twoSquared_divides_aStarSquared)"
   ]
  },
  {
   "cell_type": "markdown",
   "metadata": {},
   "source": [
    "#### STEP 13 (from $2^2 | 2(b^{*})^2$ derive $2|(b^{*})^2$)\n",
    "But $4\\rvert 2b^{*2}$ and $2\\times 2 = 4$ and $\\forall_{n,p\\in N^{+}}[\\text{if } 2n\\rvert 2p \\text{ then } n\\rvert p]$ and $\\forall_{b\\in N^{+}} b^2\\in N^{+}$ and $2 \\in N^{+}$ and $b^{*} \\in N^{+}$. Thus $2\\rvert b^{*2}$"
   ]
  },
  {
   "cell_type": "code",
   "execution_count": null,
   "metadata": {},
   "outputs": [],
   "source": [
    "twoSquared_eq_twoTimesTwo = Exp(two, two).expansion()"
   ]
  },
  {
   "cell_type": "code",
   "execution_count": null,
   "metadata": {},
   "outputs": [],
   "source": [
    "twoTimesTwo_divides_two_bStarSquared = twoSquared_eq_twoTimesTwo.subRightSideInto(c12)"
   ]
  },
  {
   "cell_type": "code",
   "execution_count": null,
   "metadata": {},
   "outputs": [],
   "source": [
    "two_divides_bStarSquared = Divides(two, Exp(bStar, two)).prove()"
   ]
  },
  {
   "cell_type": "code",
   "execution_count": null,
   "metadata": {},
   "outputs": [],
   "source": [
    "two_divides_bStar = Divides(two, bStar).prove()"
   ]
  },
  {
   "cell_type": "code",
   "execution_count": null,
   "metadata": {},
   "outputs": [],
   "source": [
    "aStar_bStar_relatively_prime = GCD(aStar, bStar).deduce_relatively_prime()"
   ]
  },
  {
   "cell_type": "code",
   "execution_count": null,
   "metadata": {},
   "outputs": [],
   "source": [
    "two_does_not_divide_both = aStar_bStar_relatively_prime.specialize({p:two})"
   ]
  },
  {
   "cell_type": "code",
   "execution_count": null,
   "metadata": {},
   "outputs": [],
   "source": [
    "contradiction_1 = two_does_not_divide_both.deriveContradiction()"
   ]
  },
  {
   "cell_type": "code",
   "execution_count": null,
   "metadata": {},
   "outputs": [],
   "source": [
    "contradiction_2 = contradiction_1.eliminate(aStar, bStar)"
   ]
  },
  {
   "cell_type": "code",
   "execution_count": null,
   "metadata": {},
   "outputs": [],
   "source": [
    "contradiction_impl = contradiction_2.asImplication(hypothesis=sqrt_2_in_rationals)"
   ]
  },
  {
   "cell_type": "code",
   "execution_count": null,
   "metadata": {},
   "outputs": [],
   "source": [
    "contradiction_impl.denyAntecedent(assumptions=[])"
   ]
  },
  {
   "cell_type": "code",
   "execution_count": null,
   "metadata": {},
   "outputs": [],
   "source": [
    "%qed"
   ]
  },
  {
   "cell_type": "code",
   "execution_count": null,
   "metadata": {},
   "outputs": [],
   "source": []
  }
 ],
 "metadata": {
  "kernelspec": {
   "display_name": "Python 3",
   "language": "python",
   "name": "python3"
  }
 },
 "nbformat": 4,
 "nbformat_minor": 0
}
