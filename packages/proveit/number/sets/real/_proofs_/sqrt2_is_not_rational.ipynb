{
 "cells": [
  {
   "cell_type": "markdown",
   "metadata": {},
   "source": [
    "Proof of <a class=\"ProveItLink\" href=\"../../../../_context_.ipynb\">proveit</a>.<a class=\"ProveItLink\" href=\"../../../_context_.ipynb\">number</a>.<a class=\"ProveItLink\" href=\"../../_context_.ipynb\">sets</a>.<a class=\"ProveItLink\" href=\"../_context_.ipynb\">real</a>.<a class=\"ProveItLink\" href=\"../_theorems_.ipynb#sqrt2_is_not_rational\">sqrt2_is_not_rational</a> theorem\n",
    "========"
   ]
  },
  {
   "cell_type": "code",
   "execution_count": null,
   "metadata": {},
   "outputs": [],
   "source": [
    "import proveit\n",
    "from proveit import Context, defaults, Function, Literal, Operation, Variable\n",
    "from proveit._core_.proof import Theorem\n",
    "from proveit.logic import And, Booleans, Equals, Exists, Forall, Implies, InSet, Not, NotEquals\n",
    "from proveit._common_ import n, q, a, b, c, p, x, y, aPrime, bPrime, G, P, Py, alpha\n",
    "from proveit.number import zero, one, two, four, sqrt, Complexes, Naturals, NaturalsPos, Reals\n",
    "from proveit.number import frac, Mult, Exp, Greater, GCD, Divides, NumberRelation\n",
    "from proveit.number.sets.rational._common_ import Rationals, RationalsPos\n",
    "from proveit.number.sets.real.root2_proof_temporary_context._theorems_ import \\\n",
    "    t4, t4_alt_03, t5, t6, t7, t8, t9a, t9b, t10, t11, t12, skolemElim02\n",
    "from proveit.logic.boolean.quantification.existential._theorems_ import skolemElim\n",
    "from proveit.number.numeral.deci._theorems_ import less_1_2, mult_2_2, posnat2\n",
    "context = proveit.Context('..') # the theorem's context is in the parent directory"
   ]
  },
  {
   "cell_type": "code",
   "execution_count": null,
   "metadata": {},
   "outputs": [],
   "source": [
    "%proving sqrt2_is_not_rational presuming [proveit.logic, proveit.number, proveit.number.numeral.deci, proveit.number.ordering, proveit.number.sets.real.root2_proof_temporary_context, proveit.core_expr_types.tuples.range_from1_len, proveit.core_expr_types.conditionals.condition_append_reduction, proveit.number.sets.rational.xInRationalsInBool, proveit.number.divisibility.dividesInBool, proveit.number.exponentiation.expRealPosClosure, proveit.number.division.divRealClosure, proveit.number.sets.integer.zeroInNats, proveit.number.exponentiation.sqrtRealClosure]"
   ]
  },
  {
   "cell_type": "markdown",
   "metadata": {},
   "source": [
    "## Some Useful Functions & Operations:\n",
    "GCD Function and Divides Operation are defined in separate .py files in prove"
   ]
  },
  {
   "cell_type": "code",
   "execution_count": null,
   "metadata": {},
   "outputs": [],
   "source": [
    "testGCDExpr = GCD(a, b)"
   ]
  },
  {
   "cell_type": "code",
   "execution_count": null,
   "metadata": {},
   "outputs": [],
   "source": [
    "testDivides = Divides(a, b)"
   ]
  },
  {
   "cell_type": "markdown",
   "metadata": {},
   "source": [
    "## Some Useful Theorems"
   ]
  },
  {
   "cell_type": "code",
   "execution_count": null,
   "metadata": {},
   "outputs": [],
   "source": [
    "t1 = posnat2"
   ]
  },
  {
   "cell_type": "code",
   "execution_count": null,
   "metadata": {},
   "outputs": [],
   "source": [
    "t2 = mult_2_2"
   ]
  },
  {
   "cell_type": "code",
   "execution_count": null,
   "metadata": {},
   "outputs": [],
   "source": [
    "t3 = less_1_2.deriveReversed()"
   ]
  },
  {
   "cell_type": "code",
   "execution_count": null,
   "metadata": {},
   "outputs": [],
   "source": [
    "t4"
   ]
  },
  {
   "cell_type": "code",
   "execution_count": null,
   "metadata": {},
   "outputs": [],
   "source": [
    "t5"
   ]
  },
  {
   "cell_type": "code",
   "execution_count": null,
   "metadata": {},
   "outputs": [],
   "source": [
    "t6"
   ]
  },
  {
   "cell_type": "code",
   "execution_count": null,
   "metadata": {},
   "outputs": [],
   "source": [
    "t7"
   ]
  },
  {
   "cell_type": "code",
   "execution_count": null,
   "metadata": {},
   "outputs": [],
   "source": [
    "t8"
   ]
  },
  {
   "cell_type": "code",
   "execution_count": null,
   "metadata": {},
   "outputs": [],
   "source": [
    "t9a"
   ]
  },
  {
   "cell_type": "code",
   "execution_count": null,
   "metadata": {},
   "outputs": [],
   "source": [
    "t9b"
   ]
  },
  {
   "cell_type": "code",
   "execution_count": null,
   "metadata": {},
   "outputs": [],
   "source": [
    "# Euclid's lemma generalized as a|b^n\n",
    "t10"
   ]
  },
  {
   "cell_type": "code",
   "execution_count": null,
   "metadata": {},
   "outputs": [],
   "source": [
    "t11"
   ]
  },
  {
   "cell_type": "code",
   "execution_count": null,
   "metadata": {},
   "outputs": [],
   "source": [
    "t12"
   ]
  },
  {
   "cell_type": "markdown",
   "metadata": {},
   "source": [
    "### Check on the initial defaults.assumptions"
   ]
  },
  {
   "cell_type": "code",
   "execution_count": null,
   "metadata": {},
   "outputs": [],
   "source": [
    "defaults.assumptions"
   ]
  },
  {
   "cell_type": "markdown",
   "metadata": {},
   "source": [
    "## Proof Steps"
   ]
  },
  {
   "cell_type": "markdown",
   "metadata": {},
   "source": [
    "#### STEP 1 (assume that $\\sqrt{2} \\in \\mathbb{Q}$)"
   ]
  },
  {
   "cell_type": "code",
   "execution_count": null,
   "metadata": {},
   "outputs": [],
   "source": [
    "sqrt_2_in_rationals = InSet(sqrt(two), Rationals)"
   ]
  },
  {
   "cell_type": "code",
   "execution_count": null,
   "metadata": {},
   "outputs": [],
   "source": [
    "defaults.assumptions = [sqrt_2_in_rationals]"
   ]
  },
  {
   "cell_type": "markdown",
   "metadata": {},
   "source": [
    "\n",
    "\n",
    "#### STEP 2 (show that $\\{\\sqrt{2}\\in\\mathbb{Q}\\} \\vdash \\sqrt{2}\\in\\mathbb{Q}^{+}$)"
   ]
  },
  {
   "cell_type": "code",
   "execution_count": null,
   "metadata": {},
   "outputs": [],
   "source": [
    "# Recall what Theorem t4_alt_03 looks like:\n",
    "# t4_alt_03"
   ]
  },
  {
   "cell_type": "code",
   "execution_count": null,
   "metadata": {},
   "outputs": [],
   "source": [
    "# c2 = t4_alt_03.instantiate({n:two})"
   ]
  },
  {
   "cell_type": "code",
   "execution_count": null,
   "metadata": {},
   "outputs": [],
   "source": [
    "# consider an alternative theorem here going from a>0 directly to a^b > 0\n",
    "from proveit.number.exponentiation._theorems_ import expRealPosClosure\n",
    "expRealPosClosure"
   ]
  },
  {
   "cell_type": "code",
   "execution_count": null,
   "metadata": {},
   "outputs": [],
   "source": [
    "expRealPosClosure.instantiate({a:two, b:frac(one, two)})"
   ]
  },
  {
   "cell_type": "code",
   "execution_count": null,
   "metadata": {},
   "outputs": [],
   "source": [
    "from proveit.number.sets.real._theorems_ import inRealsPos_iff_positive\n",
    "inRealsPos_iff_positive"
   ]
  },
  {
   "cell_type": "code",
   "execution_count": null,
   "metadata": {},
   "outputs": [],
   "source": [
    "sqrt2_in_realsPos_iff_greater_than_0 = inRealsPos_iff_positive.instantiate({a:sqrt(two)})"
   ]
  },
  {
   "cell_type": "code",
   "execution_count": null,
   "metadata": {},
   "outputs": [],
   "source": [
    "sqrt2_in_realsPos_iff_greater_than_0.deriveRight()"
   ]
  },
  {
   "cell_type": "code",
   "execution_count": null,
   "metadata": {},
   "outputs": [],
   "source": [
    "from proveit.number.sets.rational._theorems_ import positiveRationalInRationalsPos\n",
    "positiveRationalInRationalsPos"
   ]
  },
  {
   "cell_type": "code",
   "execution_count": null,
   "metadata": {},
   "outputs": [],
   "source": [
    "# positiveRationalInRationalsPos.instantiate({q:sqrt(two)})\n",
    "sqrt_2_in_rationals_pos = positiveRationalInRationalsPos.instantiate({q:sqrt(two)})"
   ]
  },
  {
   "cell_type": "markdown",
   "metadata": {},
   "source": [
    "#### STEP 3 – 6 achieves the choose part of the skolemization of the the supposedly rational $\\sqrt(2)$"
   ]
  },
  {
   "cell_type": "code",
   "execution_count": null,
   "metadata": {},
   "outputs": [],
   "source": [
    "# Recall what Theorem t5 looks like\n",
    "# t5"
   ]
  },
  {
   "cell_type": "code",
   "execution_count": null,
   "metadata": {},
   "outputs": [],
   "source": [
    "# c3 = t5.specialize({q:sqrt(two)})"
   ]
  },
  {
   "cell_type": "code",
   "execution_count": null,
   "metadata": {},
   "outputs": [],
   "source": [
    "# Define some variables for Skolemization\n",
    "aStar, bStar = (\n",
    "    Variable('aStar', \"(a ^ *)\"),\n",
    "    Variable('bStar', \"(b ^ *)\"))"
   ]
  },
  {
   "cell_type": "code",
   "execution_count": null,
   "metadata": {},
   "outputs": [],
   "source": [
    "sqrt_2_in_rationals_pos.choose_reduced_rational_fraction(aStar, bStar)"
   ]
  },
  {
   "cell_type": "markdown",
   "metadata": {},
   "source": [
    "#### STEP 4"
   ]
  },
  {
   "cell_type": "code",
   "execution_count": null,
   "metadata": {},
   "outputs": [],
   "source": [
    "# Check the default assumptions before Skolemization\n",
    "# defaults.assumptions"
   ]
  },
  {
   "cell_type": "code",
   "execution_count": null,
   "metadata": {},
   "outputs": [],
   "source": [
    "# Define some variables to use for Skolemization\n",
    "# aHat, bHat = Variable('aHat', \"\\hat{a}\"), Variable('bHat', \"\\hat{b}\")"
   ]
  },
  {
   "cell_type": "code",
   "execution_count": null,
   "metadata": {},
   "outputs": [],
   "source": [
    "# skolemize\n",
    "# c3.choose(aHat, bHat)"
   ]
  },
  {
   "cell_type": "code",
   "execution_count": null,
   "metadata": {},
   "outputs": [],
   "source": [
    "# check the new default assumptions\n",
    "# defaults.assumptions"
   ]
  },
  {
   "cell_type": "markdown",
   "metadata": {},
   "source": [
    "#### STEP 5"
   ]
  },
  {
   "cell_type": "code",
   "execution_count": null,
   "metadata": {},
   "outputs": [],
   "source": [
    "# Recall what Theorem t6 looks like\n",
    "# t6"
   ]
  },
  {
   "cell_type": "code",
   "execution_count": null,
   "metadata": {},
   "outputs": [],
   "source": [
    "# c5 = t6.specialize({a:aHat, b:bHat})"
   ]
  },
  {
   "cell_type": "markdown",
   "metadata": {},
   "source": [
    "#### STEP 6"
   ]
  },
  {
   "cell_type": "code",
   "execution_count": null,
   "metadata": {},
   "outputs": [],
   "source": [
    "# Define some variables for Skolemization\n",
    "# aStar, bStar = (\n",
    "#     Variable('aStar', \"(a ^ *)\"),\n",
    "#     Variable('bStar', \"(b ^ *)\"))"
   ]
  },
  {
   "cell_type": "code",
   "execution_count": null,
   "metadata": {},
   "outputs": [],
   "source": [
    "# Skolemize the a', b' in the existential expression from c5\n",
    "# c5.choose(aStar, bStar)"
   ]
  },
  {
   "cell_type": "markdown",
   "metadata": {},
   "source": [
    "#### STEP 7 (NumberRelation Operations ??)"
   ]
  },
  {
   "cell_type": "code",
   "execution_count": null,
   "metadata": {},
   "outputs": [],
   "source": [
    "# Recall what Theorem t8 looks like\n",
    "t8"
   ]
  },
  {
   "cell_type": "code",
   "execution_count": null,
   "metadata": {},
   "outputs": [],
   "source": [
    "sqrt_2_rational_fraction = Equals(sqrt(two), frac(aStar, bStar)).prove()"
   ]
  },
  {
   "cell_type": "code",
   "execution_count": null,
   "metadata": {},
   "outputs": [],
   "source": [
    "num_rel = NumberRelation(sqrt_2_rational_fraction)"
   ]
  },
  {
   "cell_type": "code",
   "execution_count": null,
   "metadata": {},
   "outputs": [],
   "source": [
    "num_rel.mult_right(bStar)"
   ]
  },
  {
   "cell_type": "code",
   "execution_count": null,
   "metadata": {},
   "outputs": [],
   "source": [
    "from proveit.number.division._theorems_ import multFracLeftCancel\n",
    "multFracLeftCancel"
   ]
  },
  {
   "cell_type": "code",
   "execution_count": null,
   "metadata": {},
   "outputs": [],
   "source": [
    "temp_equiv = multFracLeftCancel.instantiate({x:aStar, y:bStar})"
   ]
  },
  {
   "cell_type": "code",
   "execution_count": null,
   "metadata": {},
   "outputs": [],
   "source": [
    "num_rel.relation"
   ]
  },
  {
   "cell_type": "code",
   "execution_count": null,
   "metadata": {},
   "outputs": [],
   "source": [
    "temp_equiv.subRightSideInto(num_rel.relation)"
   ]
  },
  {
   "cell_type": "code",
   "execution_count": null,
   "metadata": {},
   "outputs": [],
   "source": [
    "num_rel.square()"
   ]
  },
  {
   "cell_type": "code",
   "execution_count": null,
   "metadata": {},
   "outputs": [],
   "source": [
    "new_rel = temp_equiv.subRightSideInto(num_rel.relation)"
   ]
  },
  {
   "cell_type": "code",
   "execution_count": null,
   "metadata": {},
   "outputs": [],
   "source": [
    "num_rel = NumberRelation(new_rel)"
   ]
  },
  {
   "cell_type": "code",
   "execution_count": null,
   "metadata": {},
   "outputs": [],
   "source": [
    "from proveit.number.exponentiation._theorems_ import expOfPositivesProd\n",
    "expOfPositivesProd"
   ]
  },
  {
   "cell_type": "code",
   "execution_count": null,
   "metadata": {},
   "outputs": [],
   "source": [
    "temp_equiv = expOfPositivesProd.instantiate({c:two, a:sqrt(two), b:bStar})"
   ]
  },
  {
   "cell_type": "code",
   "execution_count": null,
   "metadata": {},
   "outputs": [],
   "source": [
    "new_rel = temp_equiv.subRightSideInto(num_rel.relation)"
   ]
  },
  {
   "cell_type": "code",
   "execution_count": null,
   "metadata": {},
   "outputs": [],
   "source": [
    "num_rel = NumberRelation(new_rel)"
   ]
  },
  {
   "cell_type": "code",
   "execution_count": null,
   "metadata": {},
   "outputs": [],
   "source": [
    "from proveit.number.exponentiation._theorems_ import nth_power_of_nth_root\n",
    "nth_power_of_nth_root"
   ]
  },
  {
   "cell_type": "code",
   "execution_count": null,
   "metadata": {},
   "outputs": [],
   "source": [
    "sqrt2_squared_is_2 = nth_power_of_nth_root.instantiate({n:two, x:two})"
   ]
  },
  {
   "cell_type": "code",
   "execution_count": null,
   "metadata": {},
   "outputs": [],
   "source": [
    "c7 = sqrt2_squared_is_2.subRightSideInto(num_rel.relation)"
   ]
  },
  {
   "cell_type": "code",
   "execution_count": null,
   "metadata": {},
   "outputs": [],
   "source": [
    "# old\n",
    "# c7b = t8.specialize({a:aStar, b:bStar})"
   ]
  },
  {
   "cell_type": "code",
   "execution_count": null,
   "metadata": {},
   "outputs": [],
   "source": [
    "# old\n",
    "# c7 = c7b.deriveConsequent()"
   ]
  },
  {
   "cell_type": "markdown",
   "metadata": {},
   "source": [
    "#### STEP 8"
   ]
  },
  {
   "cell_type": "code",
   "execution_count": null,
   "metadata": {},
   "outputs": [],
   "source": [
    "# Recall what Theorem t9a looks like\n",
    "t9a"
   ]
  },
  {
   "cell_type": "code",
   "execution_count": null,
   "metadata": {},
   "outputs": [],
   "source": [
    "# Recall what Theorem t9b looks like\n",
    "t9b"
   ]
  },
  {
   "cell_type": "code",
   "execution_count": null,
   "metadata": {},
   "outputs": [],
   "source": [
    "t9b.specialize({b:bStar})"
   ]
  },
  {
   "cell_type": "code",
   "execution_count": null,
   "metadata": {},
   "outputs": [],
   "source": [
    "c8 = t9a.specialize({n:Exp(bStar, two)})"
   ]
  },
  {
   "cell_type": "markdown",
   "metadata": {},
   "source": [
    "#### STEP 9"
   ]
  },
  {
   "cell_type": "code",
   "execution_count": null,
   "metadata": {},
   "outputs": [],
   "source": [
    "c9 = c7.subRightSideInto(c8)"
   ]
  },
  {
   "cell_type": "markdown",
   "metadata": {},
   "source": [
    "#### STEP 10"
   ]
  },
  {
   "cell_type": "code",
   "execution_count": null,
   "metadata": {},
   "outputs": [],
   "source": [
    "# Recall what Theorem t10 looks like\n",
    "t10"
   ]
  },
  {
   "cell_type": "code",
   "execution_count": null,
   "metadata": {},
   "outputs": [],
   "source": [
    "c10a = t10.specialize({a:aStar})"
   ]
  },
  {
   "cell_type": "code",
   "execution_count": null,
   "metadata": {},
   "outputs": [],
   "source": [
    "c10 = c10a.denyAntecedent()"
   ]
  },
  {
   "cell_type": "markdown",
   "metadata": {},
   "source": [
    "#### STEP 11"
   ]
  },
  {
   "cell_type": "code",
   "execution_count": null,
   "metadata": {},
   "outputs": [],
   "source": [
    "# Recall what Theorem t11 looks like\n",
    "t11"
   ]
  },
  {
   "cell_type": "code",
   "execution_count": null,
   "metadata": {},
   "outputs": [],
   "source": [
    "c11a = t11.specialize({a:aStar})"
   ]
  },
  {
   "cell_type": "code",
   "execution_count": null,
   "metadata": {},
   "outputs": [],
   "source": [
    "c11 = c11a.deriveConsequent()"
   ]
  },
  {
   "cell_type": "markdown",
   "metadata": {},
   "source": [
    "#### STEP 12"
   ]
  },
  {
   "cell_type": "code",
   "execution_count": null,
   "metadata": {},
   "outputs": [],
   "source": [
    "c12 = c7.subLeftSideInto(c11)"
   ]
  },
  {
   "cell_type": "markdown",
   "metadata": {},
   "source": [
    "#### STEP 13\n",
    "But $4\\rvert 2b^{*2}$ and $2\\times 2 = 4$ and $\\forall_{n,p\\in N^{+}}[\\text{if } 2n\\rvert 2p \\text{ then } n\\rvert p]$ and $\\forall_{b\\in N^{+}} b^2\\in N^{+}$ and $2 \\in N^{+}$ and $b^{*} \\in N^{+}$. Thus $2\\rvert b^{*2}$"
   ]
  },
  {
   "cell_type": "code",
   "execution_count": null,
   "metadata": {},
   "outputs": [],
   "source": [
    "# first convert c12 so it acknowledges our need for 2 x 2 = 4\n",
    "c13a = t2.subLeftSideInto(c12)"
   ]
  },
  {
   "cell_type": "code",
   "execution_count": null,
   "metadata": {},
   "outputs": [],
   "source": [
    "# Recall what Theorem t12 looks like\n",
    "t12"
   ]
  },
  {
   "cell_type": "code",
   "execution_count": null,
   "metadata": {},
   "outputs": [],
   "source": [
    "c13b = t12.specialize({n:two, p:Exp(bStar, two)})"
   ]
  },
  {
   "cell_type": "code",
   "execution_count": null,
   "metadata": {},
   "outputs": [],
   "source": [
    "c13 = c13b.deriveConsequent()"
   ]
  },
  {
   "cell_type": "markdown",
   "metadata": {},
   "source": [
    "#### Step 14 (Similar to Step 10)\n",
    "But $2\\rvert b^{*2}$ and $\\forall_{b\\in N^{+}}[\\text{if } 2\\not\\rvert b \\text{ then } 2\\not\\rvert b^2]$ and $b^{*} \\in N^{+}$. Thus $2\\rvert b^{*}$"
   ]
  },
  {
   "cell_type": "code",
   "execution_count": null,
   "metadata": {},
   "outputs": [],
   "source": [
    "# Recall what Theorem t10 looks like\n",
    "t10"
   ]
  },
  {
   "cell_type": "code",
   "execution_count": null,
   "metadata": {},
   "outputs": [],
   "source": [
    "# Specialize Theorem t10 from a to b*\n",
    "c14a = t10.specialize({a:bStar})"
   ]
  },
  {
   "cell_type": "code",
   "execution_count": null,
   "metadata": {},
   "outputs": [],
   "source": [
    "c14 = c14a.denyAntecedent()"
   ]
  },
  {
   "cell_type": "markdown",
   "metadata": {},
   "source": [
    "#### Step 15\n",
    "But $a^{*},b^{*} \\in \\mathbb{N}^{+}$ and $\\forall_{a^{\\prime},b^{\\prime}\\in \\mathbb{N}^{+}}\\left[\\text{if } \\gcd(a^{\\prime}, b^{\\prime}) = 1 \\text{ then } \\forall_{p\\in \\mathbb{N}^{+}} \\left(\\text{if } p > 1 \\text{ then } \\neg(p\\rvert a^{\\prime} \\land p\\rvert b^{\\prime})\\right)\\right]$ and $\\gcd(a^{*}, b^{*}) = 1$. Thus $\\forall_{p\\in \\mathbb{N}^{+}} \\left(\\text{if } p > 1 \\text{ then } \\neg(p\\rvert a^{*} \\land p\\rvert b^{*})\\right)$"
   ]
  },
  {
   "cell_type": "code",
   "execution_count": null,
   "metadata": {},
   "outputs": [],
   "source": [
    "# Recall what Theorem t7 looks like\n",
    "t7"
   ]
  },
  {
   "cell_type": "code",
   "execution_count": null,
   "metadata": {},
   "outputs": [],
   "source": [
    "c15a = t7.specialize({a:aStar, b:bStar})"
   ]
  },
  {
   "cell_type": "code",
   "execution_count": null,
   "metadata": {},
   "outputs": [],
   "source": [
    "c15 = c15a.deriveConsequent()"
   ]
  },
  {
   "cell_type": "markdown",
   "metadata": {},
   "source": [
    "#### Step 16"
   ]
  },
  {
   "cell_type": "code",
   "execution_count": null,
   "metadata": {},
   "outputs": [],
   "source": [
    "c16a = c15.specialize({p:two})"
   ]
  },
  {
   "cell_type": "code",
   "execution_count": null,
   "metadata": {},
   "outputs": [],
   "source": [
    "c16 = c16a.deriveConsequent()"
   ]
  },
  {
   "cell_type": "markdown",
   "metadata": {},
   "source": [
    "#### STEP 17"
   ]
  },
  {
   "cell_type": "code",
   "execution_count": null,
   "metadata": {},
   "outputs": [],
   "source": [
    "# The following for intuitive completeness,\n",
    "# but Prove-It doesn't need it\n",
    "c17 = And(c10, c14).prove()"
   ]
  },
  {
   "cell_type": "markdown",
   "metadata": {},
   "source": [
    "#### STEP 18"
   ]
  },
  {
   "cell_type": "code",
   "execution_count": null,
   "metadata": {},
   "outputs": [],
   "source": [
    "c16"
   ]
  },
  {
   "cell_type": "code",
   "execution_count": null,
   "metadata": {},
   "outputs": [],
   "source": [
    "c17"
   ]
  },
  {
   "cell_type": "code",
   "execution_count": null,
   "metadata": {},
   "outputs": [],
   "source": [
    "c18 = c16.deriveContradiction()"
   ]
  },
  {
   "cell_type": "markdown",
   "metadata": {},
   "source": [
    "#### STEP 19"
   ]
  },
  {
   "cell_type": "code",
   "execution_count": null,
   "metadata": {},
   "outputs": [],
   "source": [
    "c19 = c18.eliminate(aStar, bStar)"
   ]
  },
  {
   "cell_type": "markdown",
   "metadata": {},
   "source": [
    "#### STEP 20"
   ]
  },
  {
   "cell_type": "code",
   "execution_count": null,
   "metadata": {},
   "outputs": [],
   "source": [
    "c20 = c19.eliminate(aHat, bHat, assumptions=[*c3.assumptions])"
   ]
  },
  {
   "cell_type": "code",
   "execution_count": null,
   "metadata": {},
   "outputs": [],
   "source": [
    "c21 = c20.asImplication(hypothesis=c20.assumptions[0])"
   ]
  },
  {
   "cell_type": "code",
   "execution_count": null,
   "metadata": {},
   "outputs": [],
   "source": [
    "# remove the sqrt(2) in Q assumption from the default assumptions\n",
    "if c1.expr in defaults.assumptions:\n",
    "    # convert to a list, remove the assumption, convert back to tuple\n",
    "    tempList = list(defaults.assumptions)\n",
    "    tempList.remove(c1.expr)\n",
    "    defaults.assumptions = tuple(tempList)\n",
    "# verify content of default assumptions\n",
    "defaults.assumptions"
   ]
  },
  {
   "cell_type": "code",
   "execution_count": null,
   "metadata": {},
   "outputs": [],
   "source": [
    "c21.denyAntecedent()"
   ]
  },
  {
   "cell_type": "code",
   "execution_count": null,
   "metadata": {},
   "outputs": [],
   "source": [
    "%qed"
   ]
  },
  {
   "cell_type": "code",
   "execution_count": null,
   "metadata": {},
   "outputs": [],
   "source": []
  }
 ],
 "metadata": {
  "kernelspec": {
   "display_name": "Python 3",
   "language": "python",
   "name": "python3"
  }
 },
 "nbformat": 4,
 "nbformat_minor": 0
}
