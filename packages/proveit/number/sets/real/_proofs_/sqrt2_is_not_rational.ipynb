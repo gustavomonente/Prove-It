{
 "cells": [
  {
   "cell_type": "markdown",
   "metadata": {},
   "source": [
    "Proof of <a class=\"ProveItLink\" href=\"../../../../_context_.ipynb\">proveit</a>.<a class=\"ProveItLink\" href=\"../../../_context_.ipynb\">number</a>.<a class=\"ProveItLink\" href=\"../../_context_.ipynb\">sets</a>.<a class=\"ProveItLink\" href=\"../_context_.ipynb\">real</a>.<a class=\"ProveItLink\" href=\"../_theorems_.ipynb#sqrt2_is_not_rational\">sqrt2_is_not_rational</a> theorem\n",
    "========"
   ]
  },
  {
   "cell_type": "code",
   "execution_count": null,
   "metadata": {},
   "outputs": [],
   "source": [
    "import proveit\n",
    "from proveit import Context, defaults, Function, Literal, Operation, Variable\n",
    "from proveit._core_.proof import Theorem\n",
    "from proveit.logic import InSet, Forall, Implies, Exists, Equals, And, Not, Booleans\n",
    "from proveit._common_ import n, q, a, b, p, x, y, aPrime, bPrime, G, P, Py, alpha\n",
    "from proveit.number import one, two, four, sqrt, Reals, NaturalsPos\n",
    "from proveit.number import frac, Mult, Exp, Greater, GCD, Divides\n",
    "from proveit.number.sets.rational._common_ import Rationals, RationalsPos\n",
    "from proveit.number.sets.real.root2_proof_temporary_context._theorems_ import \\\n",
    "    t4, t5, t6, t7, t8, t9a, t9b, t10, t11, t12, skolemElim02\n",
    "from proveit.number.numeral.deci._theorems_ import less_1_2, mult_2_2, posnat2\n",
    "context = proveit.Context('..') # the theorem's context is in the parent directory"
   ]
  },
  {
   "cell_type": "code",
   "execution_count": null,
   "metadata": {},
   "outputs": [],
   "source": [
    "%proving sqrt2_is_not_rational presuming [proveit.logic, proveit.number.numeral.deci, proveit.number.ordering, proveit.number.sets.real.root2_proof_temporary_context]"
   ]
  },
  {
   "cell_type": "markdown",
   "metadata": {},
   "source": [
    "## Some Useful Functions & Operations:\n",
    "GCD Function and Divides Operation are defined in separate .py files in prove"
   ]
  },
  {
   "cell_type": "code",
   "execution_count": null,
   "metadata": {},
   "outputs": [],
   "source": [
    "testGCDExpr = GCD(a, b)"
   ]
  },
  {
   "cell_type": "code",
   "execution_count": null,
   "metadata": {},
   "outputs": [],
   "source": [
    "testDivides = Divides(a, b)"
   ]
  },
  {
   "cell_type": "markdown",
   "metadata": {},
   "source": [
    "## Some Useful Theorems"
   ]
  },
  {
   "cell_type": "code",
   "execution_count": null,
   "metadata": {},
   "outputs": [],
   "source": [
    "t1 = posnat2"
   ]
  },
  {
   "cell_type": "code",
   "execution_count": null,
   "metadata": {},
   "outputs": [],
   "source": [
    "t2 = mult_2_2"
   ]
  },
  {
   "cell_type": "code",
   "execution_count": null,
   "metadata": {},
   "outputs": [],
   "source": [
    "t3 = less_1_2.deriveReversed()"
   ]
  },
  {
   "cell_type": "code",
   "execution_count": null,
   "metadata": {},
   "outputs": [],
   "source": [
    "t4"
   ]
  },
  {
   "cell_type": "code",
   "execution_count": null,
   "metadata": {},
   "outputs": [],
   "source": [
    "t5"
   ]
  },
  {
   "cell_type": "code",
   "execution_count": null,
   "metadata": {},
   "outputs": [],
   "source": [
    "t6"
   ]
  },
  {
   "cell_type": "code",
   "execution_count": null,
   "metadata": {},
   "outputs": [],
   "source": [
    "t7"
   ]
  },
  {
   "cell_type": "code",
   "execution_count": null,
   "metadata": {},
   "outputs": [],
   "source": [
    "t8"
   ]
  },
  {
   "cell_type": "code",
   "execution_count": null,
   "metadata": {},
   "outputs": [],
   "source": [
    "t9a"
   ]
  },
  {
   "cell_type": "code",
   "execution_count": null,
   "metadata": {},
   "outputs": [],
   "source": [
    "t9b"
   ]
  },
  {
   "cell_type": "code",
   "execution_count": null,
   "metadata": {},
   "outputs": [],
   "source": [
    "t10"
   ]
  },
  {
   "cell_type": "code",
   "execution_count": null,
   "metadata": {},
   "outputs": [],
   "source": [
    "t11"
   ]
  },
  {
   "cell_type": "code",
   "execution_count": null,
   "metadata": {},
   "outputs": [],
   "source": [
    "t12"
   ]
  },
  {
   "cell_type": "markdown",
   "metadata": {},
   "source": [
    "## A Check on the defaults.assumptions"
   ]
  },
  {
   "cell_type": "code",
   "execution_count": null,
   "metadata": {},
   "outputs": [],
   "source": [
    "defaults.assumptions"
   ]
  },
  {
   "cell_type": "markdown",
   "metadata": {},
   "source": [
    "## Defining an Assumption to Allow Skolemization"
   ]
  },
  {
   "cell_type": "code",
   "execution_count": null,
   "metadata": {},
   "outputs": [],
   "source": [
    "aHat = Variable('aHat', \"\\hat{a}\")"
   ]
  },
  {
   "cell_type": "code",
   "execution_count": null,
   "metadata": {},
   "outputs": [],
   "source": [
    "bHat = Variable('bHat', \"\\hat{b}\")"
   ]
  },
  {
   "cell_type": "code",
   "execution_count": null,
   "metadata": {},
   "outputs": [],
   "source": [
    "a13 = (InSet(aHat, NaturalsPos), InSet(bHat, NaturalsPos),\n",
    "       Equals(sqrt(two),frac(aHat,bHat)))"
   ]
  },
  {
   "cell_type": "markdown",
   "metadata": {},
   "source": [
    "## Begin a Sequence of Conclusions"
   ]
  },
  {
   "cell_type": "code",
   "execution_count": null,
   "metadata": {},
   "outputs": [],
   "source": [
    "c1 = InSet(sqrt(two), Rationals).prove([InSet(sqrt(two), Rationals)])"
   ]
  },
  {
   "cell_type": "code",
   "execution_count": null,
   "metadata": {},
   "outputs": [],
   "source": [
    "defaults.assumptions = [*c1.assumptions, t2.expr]"
   ]
  },
  {
   "cell_type": "code",
   "execution_count": null,
   "metadata": {},
   "outputs": [],
   "source": [
    "c2a = t4.specialize({n:two})"
   ]
  },
  {
   "cell_type": "code",
   "execution_count": null,
   "metadata": {},
   "outputs": [],
   "source": [
    "c2 = InSet(sqrt(two), RationalsPos).prove()"
   ]
  },
  {
   "cell_type": "code",
   "execution_count": null,
   "metadata": {},
   "outputs": [],
   "source": [
    "# A reminder what Theorem t5 looks like\n",
    "t5"
   ]
  },
  {
   "cell_type": "code",
   "execution_count": null,
   "metadata": {},
   "outputs": [],
   "source": [
    "c3 = t5.specialize({q:sqrt(two)})"
   ]
  },
  {
   "cell_type": "code",
   "execution_count": null,
   "metadata": {},
   "outputs": [],
   "source": [
    "# A reminder what Assumption a13 looks like\n",
    "a13"
   ]
  },
  {
   "cell_type": "code",
   "execution_count": null,
   "metadata": {},
   "outputs": [],
   "source": [
    "# We will use a13 as a way to achieve the \"choice\"\n",
    "# of Skolem constants aHat and bHat\n",
    "# so we add a13 to the defaults.assumptions and establish\n",
    "# a13 as a conclusion to represent the Skolemization process\n",
    "defaults.assumptions = [*defaults.assumptions, *a13]\n",
    "# c4 = a13.prove()"
   ]
  },
  {
   "cell_type": "code",
   "execution_count": null,
   "metadata": {},
   "outputs": [],
   "source": [
    "# A reminder what Theorem t6 looks like\n",
    "t6"
   ]
  },
  {
   "cell_type": "code",
   "execution_count": null,
   "metadata": {},
   "outputs": [],
   "source": [
    "c5 = t6.specialize({a:aHat, b:bHat})"
   ]
  },
  {
   "cell_type": "code",
   "execution_count": null,
   "metadata": {},
   "outputs": [],
   "source": [
    "aStar = Variable('aStar', \"(a ^ *)\")\n",
    "bStar = Variable('bStar', \"(b ^ *)\")\n",
    "a14 = (InSet(aStar, NaturalsPos), InSet(bStar, NaturalsPos), \n",
    "       And(Equals(frac(aHat,bHat), frac(aStar,bStar)), \n",
    "           Equals(GCD(aStar, bStar), one) ))\n",
    "\n",
    "# And(\n",
    "#     And(\n",
    "#     And(\n",
    "#         InSet(aStar, NaturalsPos),\n",
    "#         InSet(bStar, NaturalsPos)\n",
    "#     ), Equals(frac(aHat,bHat), frac(aStar,bStar))\n",
    "#     ), Equals(GCD(aStar, bStar), one)\n",
    "# )"
   ]
  },
  {
   "cell_type": "code",
   "execution_count": null,
   "metadata": {},
   "outputs": [],
   "source": [
    "defaults.assumptions = [*defaults.assumptions, *a14]"
   ]
  },
  {
   "cell_type": "code",
   "execution_count": null,
   "metadata": {},
   "outputs": [],
   "source": [
    "# c6 = a14.prove()"
   ]
  },
  {
   "cell_type": "code",
   "execution_count": null,
   "metadata": {},
   "outputs": [],
   "source": [
    "t8"
   ]
  },
  {
   "cell_type": "code",
   "execution_count": null,
   "metadata": {},
   "outputs": [],
   "source": [
    "c7a = Equals(sqrt(two), frac(aStar, bStar)).concludeViaTransitivity()"
   ]
  },
  {
   "cell_type": "code",
   "execution_count": null,
   "metadata": {},
   "outputs": [],
   "source": [
    "c7b = t8.specialize({a:aStar, b:bStar})"
   ]
  },
  {
   "cell_type": "code",
   "execution_count": null,
   "metadata": {},
   "outputs": [],
   "source": [
    "c7 = c7b.deriveConsequent()"
   ]
  },
  {
   "cell_type": "code",
   "execution_count": null,
   "metadata": {},
   "outputs": [],
   "source": [
    "t9a"
   ]
  },
  {
   "cell_type": "code",
   "execution_count": null,
   "metadata": {},
   "outputs": [],
   "source": [
    "t9b"
   ]
  },
  {
   "cell_type": "code",
   "execution_count": null,
   "metadata": {},
   "outputs": [],
   "source": [
    "t9b.specialize({b:bStar})"
   ]
  },
  {
   "cell_type": "code",
   "execution_count": null,
   "metadata": {},
   "outputs": [],
   "source": [
    "c8 = t9a.specialize({n:Exp(bStar, two)})"
   ]
  },
  {
   "cell_type": "code",
   "execution_count": null,
   "metadata": {},
   "outputs": [],
   "source": [
    "c9 = c7.subRightSideInto(c8)"
   ]
  },
  {
   "cell_type": "code",
   "execution_count": null,
   "metadata": {},
   "outputs": [],
   "source": [
    "# A reminder what Theorem t10 looks like\n",
    "t10"
   ]
  },
  {
   "cell_type": "code",
   "execution_count": null,
   "metadata": {},
   "outputs": [],
   "source": [
    "c10a = t10.specialize({a:aStar})"
   ]
  },
  {
   "cell_type": "code",
   "execution_count": null,
   "metadata": {},
   "outputs": [],
   "source": [
    "c10 = c10a.denyAntecedent()"
   ]
  },
  {
   "cell_type": "code",
   "execution_count": null,
   "metadata": {},
   "outputs": [],
   "source": [
    "# A reminder what Theorem t11 looks like\n",
    "t11"
   ]
  },
  {
   "cell_type": "code",
   "execution_count": null,
   "metadata": {},
   "outputs": [],
   "source": [
    "c11a = t11.specialize({a:aStar})"
   ]
  },
  {
   "cell_type": "code",
   "execution_count": null,
   "metadata": {},
   "outputs": [],
   "source": [
    "c11 = c11a.deriveConsequent()"
   ]
  },
  {
   "cell_type": "code",
   "execution_count": null,
   "metadata": {},
   "outputs": [],
   "source": [
    "c12 = c7.subLeftSideInto(c11)"
   ]
  },
  {
   "cell_type": "markdown",
   "metadata": {},
   "source": [
    "#### STEP 13\n",
    "But $4\\rvert 2b^{*2}$ and $2\\times 2 = 4$ and $\\forall_{n,p\\in N^{+}}[\\text{if } 2n\\rvert 2p \\text{ then } n\\rvert p]$ and $\\forall_{b\\in N^{+}} b^2\\in N^{+}$ and $2 \\in N^{+}$ and $b^{*} \\in N^{+}$. Thus $2\\rvert b^{*2}$"
   ]
  },
  {
   "cell_type": "code",
   "execution_count": null,
   "metadata": {},
   "outputs": [],
   "source": [
    "# first convert c12 so it acknowledges our need for 2 x 2 = 4\n",
    "c13a = t2.subLeftSideInto(c12)"
   ]
  },
  {
   "cell_type": "code",
   "execution_count": null,
   "metadata": {},
   "outputs": [],
   "source": [
    "# A reminder what Theorem t12 looks like\n",
    "t12"
   ]
  },
  {
   "cell_type": "code",
   "execution_count": null,
   "metadata": {},
   "outputs": [],
   "source": [
    "c13b = t12.specialize({n:two, p:Exp(bStar, two)})"
   ]
  },
  {
   "cell_type": "code",
   "execution_count": null,
   "metadata": {},
   "outputs": [],
   "source": [
    "c13 = c13b.deriveConsequent()"
   ]
  },
  {
   "cell_type": "markdown",
   "metadata": {},
   "source": [
    "#### Step 14 (Similar to Step 10)\n",
    "But $2\\rvert b^{*2}$ and $\\forall_{b\\in N^{+}}[\\text{if } 2\\not\\rvert b \\text{ then } 2\\not\\rvert b^2]$ and $b^{*} \\in N^{+}$. Thus $2\\rvert b^{*}$"
   ]
  },
  {
   "cell_type": "code",
   "execution_count": null,
   "metadata": {},
   "outputs": [],
   "source": [
    "# A reminder what Theorem t10 looks like\n",
    "t10"
   ]
  },
  {
   "cell_type": "code",
   "execution_count": null,
   "metadata": {},
   "outputs": [],
   "source": [
    "# Specialize Theorem t10 from a to b*\n",
    "c14a = t10.specialize({a:bStar})"
   ]
  },
  {
   "cell_type": "code",
   "execution_count": null,
   "metadata": {},
   "outputs": [],
   "source": [
    "c14 = c14a.denyAntecedent()"
   ]
  },
  {
   "cell_type": "markdown",
   "metadata": {},
   "source": [
    "#### Step 15\n",
    "But $a^{*},b^{*} \\in \\mathbb{N}^{+}$ and $\\forall_{a^{\\prime},b^{\\prime}\\in \\mathbb{N}^{+}}\\left[\\text{if } \\gcd(a^{\\prime}, b^{\\prime}) = 1 \\text{ then } \\forall_{p\\in \\mathbb{N}^{+}} \\left(\\text{if } p > 1 \\text{ then } \\neg(p\\rvert a^{\\prime} \\land p\\rvert b^{\\prime})\\right)\\right]$ and $\\gcd(a^{*}, b^{*}) = 1$. Thus $\\forall_{p\\in \\mathbb{N}^{+}} \\left(\\text{if } p > 1 \\text{ then } \\neg(p\\rvert a^{*} \\land p\\rvert b^{*})\\right)$"
   ]
  },
  {
   "cell_type": "code",
   "execution_count": null,
   "metadata": {},
   "outputs": [],
   "source": [
    "# A reminder what Theorem t7 looks like\n",
    "t7"
   ]
  },
  {
   "cell_type": "code",
   "execution_count": null,
   "metadata": {},
   "outputs": [],
   "source": [
    "c15a = t7.specialize({a:aStar, b:bStar})"
   ]
  },
  {
   "cell_type": "code",
   "execution_count": null,
   "metadata": {},
   "outputs": [],
   "source": [
    "c15 = c15a.deriveConsequent()"
   ]
  },
  {
   "cell_type": "markdown",
   "metadata": {},
   "source": [
    "#### Step 16"
   ]
  },
  {
   "cell_type": "code",
   "execution_count": null,
   "metadata": {},
   "outputs": [],
   "source": [
    "c16a = c15.specialize({p:two})"
   ]
  },
  {
   "cell_type": "code",
   "execution_count": null,
   "metadata": {},
   "outputs": [],
   "source": [
    "c16 = c16a.deriveConsequent()"
   ]
  },
  {
   "cell_type": "markdown",
   "metadata": {},
   "source": [
    "#### STEP 17"
   ]
  },
  {
   "cell_type": "code",
   "execution_count": null,
   "metadata": {},
   "outputs": [],
   "source": [
    "# The following for intuitive completeness,\n",
    "# but Prove-It doesn't need it\n",
    "c17 = And(c10, c14).prove()"
   ]
  },
  {
   "cell_type": "markdown",
   "metadata": {},
   "source": [
    "#### STEP 18"
   ]
  },
  {
   "cell_type": "code",
   "execution_count": null,
   "metadata": {},
   "outputs": [],
   "source": [
    "# remove the sqrt(2) in Q assumption from the default assumptions\n",
    "if c1.expr in defaults.assumptions:\n",
    "    # convert to a list, remove the assumption, convert back to tuple\n",
    "    tempList = list(defaults.assumptions)\n",
    "    tempList.remove(c1.expr)\n",
    "    defaults.assumptions = tuple(tempList)\n",
    "# verify content of default assumptions\n",
    "defaults.assumptions"
   ]
  },
  {
   "cell_type": "code",
   "execution_count": null,
   "metadata": {},
   "outputs": [],
   "source": [
    "c16"
   ]
  },
  {
   "cell_type": "code",
   "execution_count": null,
   "metadata": {},
   "outputs": [],
   "source": [
    "c17"
   ]
  },
  {
   "cell_type": "code",
   "execution_count": null,
   "metadata": {},
   "outputs": [],
   "source": [
    "c1.expr"
   ]
  },
  {
   "cell_type": "code",
   "execution_count": null,
   "metadata": {},
   "outputs": [],
   "source": [
    "c18 = c16.denyViaContradiction(c17.assumptions[0])"
   ]
  },
  {
   "cell_type": "code",
   "execution_count": null,
   "metadata": {},
   "outputs": [],
   "source": [
    "c18.assumptions"
   ]
  },
  {
   "cell_type": "code",
   "execution_count": null,
   "metadata": {},
   "outputs": [],
   "source": [
    "c18.generalize((aStar, bStar), conditions=c18.assumptions)"
   ]
  },
  {
   "cell_type": "code",
   "execution_count": null,
   "metadata": {},
   "outputs": [],
   "source": [
    "skolemElim02"
   ]
  },
  {
   "cell_type": "code",
   "execution_count": null,
   "metadata": {},
   "outputs": [],
   "source": [
    "# define PaStarbStar for use in the specialization, (etc)\n",
    "Q1 = Variable('Q1')\n",
    "Q2 = Variable('Q2')\n",
    "y1 = Variable('y1')\n",
    "Pstar = Function(P, (aStar, bStar))\n",
    "Q1Star = Function(Q1, aStar)\n",
    "Q2Star = Function(Q2, bStar)\n",
    "skolemElim02.specialize({Q1Star:InSet(aStar, NaturalsPos), Q2Star:InSet(bStar, NaturalsPos), alpha:alpha})"
   ]
  },
  {
   "cell_type": "code",
   "execution_count": null,
   "metadata": {},
   "outputs": [],
   "source": [
    "c18.proof()"
   ]
  },
  {
   "cell_type": "code",
   "execution_count": null,
   "metadata": {},
   "outputs": [],
   "source": []
  }
 ],
 "metadata": {
  "kernelspec": {
   "display_name": "Python 3",
   "language": "python",
   "name": "python3"
  }
 },
 "nbformat": 4,
 "nbformat_minor": 0
}
