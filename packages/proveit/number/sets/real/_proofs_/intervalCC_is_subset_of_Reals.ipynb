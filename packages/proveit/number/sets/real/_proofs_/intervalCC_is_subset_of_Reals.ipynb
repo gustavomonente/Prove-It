{
 "cells": [
  {
   "cell_type": "markdown",
   "metadata": {},
   "source": [
    "Proof of <a class=\"ProveItLink\" href=\"../../../../_context_.ipynb\">proveit</a>.<a class=\"ProveItLink\" href=\"../../../_context_.ipynb\">number</a>.<a class=\"ProveItLink\" href=\"../../_context_.ipynb\">sets</a>.<a class=\"ProveItLink\" href=\"../_context_.ipynb\">real</a>.<a class=\"ProveItLink\" href=\"../_theorems_.ipynb#intervalCC_is_subset_of_Reals\">intervalCC_is_subset_of_Reals</a> theorem\n",
    "========"
   ]
  },
  {
   "cell_type": "code",
   "execution_count": 1,
   "metadata": {},
   "outputs": [],
   "source": [
    "import proveit\n",
    "context = proveit.Context('..') # the theorem's context is in the parent directory"
   ]
  },
  {
   "cell_type": "code",
   "execution_count": 2,
   "metadata": {},
   "outputs": [
    {
     "name": "stdout",
     "output_type": "stream",
     "text": [
      "Beginning proof of intervalCC_is_subset_of_Reals\n",
      "Recorded 'presuming' information\n",
      "Presuming previous theorems (applied transitively).\n"
     ]
    },
    {
     "data": {
      "text/html": [
       "<strong id=\"intervalCC_is_subset_of_Reals\">intervalCC_is_subset_of_Reals:</strong> <a class=\"ProveItLink\" href=\"../__pv_it/51b6f593c372828e33c0ec7fdbde8c482ade30080/expr.ipynb\"><img src=\"data:image/png;base64,iVBORw0KGgoAAAANSUhEUgAAALkAAAAVBAMAAADoXVL6AAAAMFBMVEX///8QEBCIiIhmZma6urrM\n",
       "zMxUVFQiIiJERETc3Nzu7u6qqqp2dnaYmJgyMjIAAAAcRTyBAAAAAXRSTlMAQObYZgAAAv1JREFU\n",
       "OMutlU1oE0EUx//N5nOzm1w8FIuwtGp7UUIDvdTWShFB0OZUPQgtVSt4kCJqpBaJPWjaIq4eVKSH\n",
       "1YJKrWRRpFQEl1ZR4weLCNaCEoQqSlGPkoP4Zmc3zaYJjeCDMJM3u783+39v3gD/ZCETmxfdLvlr\n",
       "R/lnZ+iXY5OP1dJvA0+K/opnBgCphP6+9sKPWhPwq8BL5vheLf2bm45IbCUduZvYO69BpI1fZd+b\n",
       "qhIux0roUb0MPTWOYKgXmKXoGq3rVdIDagm9SyvQ5XPJZDJh0wWVNn6dnNnJySvVCsMedNGfwaGH\n",
       "ltSivQsqyRGhhd/p9FC19AZOD21pXssdX+pbbXpALVbG7yVlJNLxIDBSBrQ7V8Z5ntO3qZFfvGb+\n",
       "aBmV01tduk+3k2QyITqt5BZsumn/ZzaywMzCR8+2K87iKYsuroPA6yCcR1Th9IEi+sXkaZbJMPkC\n",
       "8JhO+T6Kmx4JWUaLsPU7c21QDOmG894aiy7kEeABhRwyhkVnNbK8984gbR0++kDJDDju+ZlJEH2B\n",
       "RYuSjvLYNY3o8l03vSaFTMIp9y7dooupYrqwPWXTQ7lumk1sXISXicHoBo099YdJNDKiT7mVyRh4\n",
       "bJe7ia3aSmXGMfqWRi/zjRyg0Md9eUTA6XEWpVFr4F1CMYS4O6sZHUfCVolEOygHnD7roncLCZ5V\n",
       "3KcQQsw3gAmLLvQfY+MwPolWYpWWQ4XDOGfRg4p8QkKG3vWbwZhNj+jFnUDSqRQFpkGUMlSje3qx\n",
       "J51OKx7p0jsucYvvZDo9DOXFpgJ9B6+Zvg2X1yMwSJ/c/No5TWL/zuUutoj0Tx0RlhyZ8ptRgwua\n",
       "nysT3scSnkcderkyD7JlO8FDe7Q7ge+50wkcu+VMatSeXZASXPesERrFoJzCU06Xpsp2McNNX2mF\n",
       "VHj77rUBY+w0vTEm2n116H4FBEnL8NCSGC8ct5FluqisQhdLTruHdLdPKB+aSPdKt4eMVehBtVK7\n",
       "mql88zWW3HyeSjffh4rN0MR/sb95p9pIA8cOowAAAABJRU5ErkJggg==\n",
       "\" style=\"display:inline;vertical-align:middle;\" /></a><br>(see <a class=\"ProveItLink\" href=\"../__pv_it/51b6f593c372828e33c0ec7fdbde8c482ade30080/dependencies.ipynb\">dependencies</a>)<br>"
      ],
      "text/plain": [
       "intervalCC_is_subset_of_Reals: forall_{a in Reals, b in Reals} ([a,b] subset Reals)"
      ]
     },
     "execution_count": 2,
     "metadata": {},
     "output_type": "execute_result"
    }
   ],
   "source": [
    "%proving intervalCC_is_subset_of_Reals presuming []"
   ]
  },
  {
   "cell_type": "code",
   "execution_count": null,
   "metadata": {},
   "outputs": [],
   "source": []
  }
 ],
 "metadata": {
  "kernelspec": {
   "display_name": "Python 3",
   "language": "python",
   "name": "python3"
  }
 },
 "nbformat": 4,
 "nbformat_minor": 0
}
