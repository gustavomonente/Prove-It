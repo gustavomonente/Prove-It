{
 "cells": [
  {
   "cell_type": "markdown",
   "metadata": {},
   "source": [
    "Proof of <a class=\"ProveItLink\" href=\"../../../../_context_.ipynb\">proveit</a>.<a class=\"ProveItLink\" href=\"../../../_context_.ipynb\">number</a>.<a class=\"ProveItLink\" href=\"../../_context_.ipynb\">sets</a>.<a class=\"ProveItLink\" href=\"../_context_.ipynb\">real</a>.<a class=\"ProveItLink\" href=\"../_theorems_.ipynb#relax_IntervalCO\">relax_IntervalCO</a> theorem\n",
    "========"
   ]
  },
  {
   "cell_type": "code",
   "execution_count": 1,
   "metadata": {},
   "outputs": [],
   "source": [
    "import proveit\n",
    "context = proveit.Context('..') # the theorem's context is in the parent directory"
   ]
  },
  {
   "cell_type": "code",
   "execution_count": 2,
   "metadata": {},
   "outputs": [
    {
     "name": "stdout",
     "output_type": "stream",
     "text": [
      "Beginning proof of relax_IntervalCO\n",
      "Recorded 'presuming' information\n",
      "Presuming previous theorems (applied transitively).\n"
     ]
    },
    {
     "data": {
      "text/html": [
       "<strong id=\"relax_IntervalCO\">relax_IntervalCO:</strong> <a class=\"ProveItLink\" href=\"../__pv_it/2e7ec6ae2703cdd0be238f7c023ef3920af07f4b0/expr.ipynb\"><img src=\"data:image/png;base64,iVBORw0KGgoAAAANSUhEUgAAAQ8AAAAZBAMAAADd+bY/AAAAMFBMVEX///8QEBCIiIhmZma6urrM\n",
       "zMxUVFQiIiJERETc3Nzu7u6qqqp2dnaYmJgyMjIAAAAcRTyBAAAAAXRSTlMAQObYZgAAA+BJREFU\n",
       "SMfdl19IU1Ecx3/e7brt7t7Nh15KiouWilEMR0KktgqSgnJP+hI47I/Zg0hUioqYDzUTYfRQ0UuX\n",
       "BAszN4oQpeiiRbX+7UEohGREJkWFREEaROfc373ubC69C+yhA5e73+H7u+dzzu93fucMIKNW3xyC\n",
       "FWiVzWqGHk2wMs0R+P9BHLF0vZunk21pxucMIUic2m/Mg5jVX0/b+4D5LZwm0xJ90IAgT2nfR/Mg\n",
       "ZvUflgUBl0cDGUKQS/TVaR7EpF7yLA/ijmggoqyBuBRiRcyDmNTbkra5dLa5YzFIlaKBCDkaiBQd\n",
       "GLiYQbKa1CdJ+C4l3Yo8Ag0E3uGu+REMtmeya1L1Lczc+YVf+TQb8xp2jlFjSGFC4ygrWYPG+7xt\n",
       "Gsg4ghwG6E4z5P74H0BS9QHGw+kzjF7yDMIrWYtIA5sjO0KuWdw1v5RwiIJMIcguENgxh4sOvqVv\n",
       "Uc825/EzFTILkqJPgFCPrYbRRp4ovFT2UKOTARHWggVt5zy4ZQoyjCA24IzaI9z1xjgRonRgF03I\n",
       "G+PlIKviVRYkRZ8AoR79hrGKPAoEMWDrvpCmg1jmwYYTs8QhrFKQWgQRYzbD+/XIABCQSTqQm4Re\n",
       "6rmsEBDpJguSok+AUA9XiAEB+IpFll2RrE4I+40yUhVhQBzxatLbVzANVhoNCkKPwtq8YyQKpBGQ\n",
       "QRYE9WNbCvyanoAIJY1+3WNhsdq0pfiORg4DElbhvg4eg+0KBanUz5ruQ2SRT/Lz4AIE8dIBCpV8\n",
       "LOeyavEmnTVUzymNNp9Lz5Fr/lpF93AGmGQd5WahmBolLEgEGrXjBdw+ki9MssJt8nWLh2+CPg3E\n",
       "cuQEfXfBlKDNWC6t9yWBUD0PnwH1BMQLNboHWI0okC1p/WmfxaPPFkmA2GXplAhhMsfsmN2jgZTp\n",
       "IG6SO1kRLgA1wWBQ5sTzExjkUr4lGOwC+cmmZBC3lmtzgHoCkgsFugfwxoYiyy3UFefj6Sgc3ZvY\n",
       "NXUbLqwHWyvpLXmOBW1aB5HIuoZD9kklG0PjPEAXep58P4ChuRNNAqF64Gd5yMYVEeagd0D3sAbS\n",
       "lnjr49QSP2rseVLim5j7SFaodh+IfsyRqOo4B61SJzxEEHFw0X3kihgXUU9oV/PfYrqHpJo89NQE\n",
       "iH7o6ch1t8oBemhBe6H2VfC5UP0MwE5i62z/JHjjqSD9E2NR1BOQ3RvzY7qHZSGK3UuCCHICZGjx\n",
       "DY2jMceqh68ikiNL3NA4zBHGw2XyYiRBAqR7qaviiPmrYoD1uLfMVbEw5arIzfik0FIgsYxBNA/B\n",
       "868uz82L/9d0MD2c8rf/awK/ATrtKMFpnwToAAAAAElFTkSuQmCC\n",
       "\" style=\"display:inline;vertical-align:middle;\" /></a><br>(see <a class=\"ProveItLink\" href=\"../__pv_it/2e7ec6ae2703cdd0be238f7c023ef3920af07f4b0/dependencies.ipynb\">dependencies</a>)<br>"
      ],
      "text/plain": [
       "relax_IntervalCO: forall_{a in Reals, b in Reals} [forall_{x in [a,b)} (x in [a,b])]"
      ]
     },
     "execution_count": 2,
     "metadata": {},
     "output_type": "execute_result"
    }
   ],
   "source": [
    "%proving relax_IntervalCO presuming []"
   ]
  },
  {
   "cell_type": "code",
   "execution_count": null,
   "metadata": {},
   "outputs": [],
   "source": []
  }
 ],
 "metadata": {
  "kernelspec": {
   "display_name": "Python 3",
   "language": "python",
   "name": "python3"
  }
 },
 "nbformat": 4,
 "nbformat_minor": 0
}
