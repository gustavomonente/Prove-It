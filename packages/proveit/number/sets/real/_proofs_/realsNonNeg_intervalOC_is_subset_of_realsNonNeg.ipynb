{
 "cells": [
  {
   "cell_type": "markdown",
   "metadata": {},
   "source": [
    "Proof of <a class=\"ProveItLink\" href=\"../../../../_context_.ipynb\">proveit</a>.<a class=\"ProveItLink\" href=\"../../../_context_.ipynb\">number</a>.<a class=\"ProveItLink\" href=\"../../_context_.ipynb\">sets</a>.<a class=\"ProveItLink\" href=\"../_context_.ipynb\">real</a>.<a class=\"ProveItLink\" href=\"../_theorems_.ipynb#realsNonNeg_intervalOC_is_subset_of_realsNonNeg\">realsNonNeg_intervalOC_is_subset_of_realsNonNeg</a> theorem\n",
    "========"
   ]
  },
  {
   "cell_type": "code",
   "execution_count": 1,
   "metadata": {},
   "outputs": [],
   "source": [
    "import proveit\n",
    "context = proveit.Context('..') # the theorem's context is in the parent directory"
   ]
  },
  {
   "cell_type": "code",
   "execution_count": 2,
   "metadata": {},
   "outputs": [
    {
     "name": "stdout",
     "output_type": "stream",
     "text": [
      "Beginning proof of realsNonNeg_intervalOC_is_subset_of_realsNonNeg\n",
      "Recorded 'presuming' information\n",
      "Presuming previous theorems (applied transitively).\n"
     ]
    },
    {
     "data": {
      "text/html": [
       "<strong id=\"realsNonNeg_intervalOC_is_subset_of_realsNonNeg\">realsNonNeg_intervalOC_is_subset_of_realsNonNeg:</strong> <a class=\"ProveItLink\" href=\"../__pv_it/ed84ab6d6b69f64a7219b425570b1b952f57a1f20/expr.ipynb\"><img src=\"data:image/png;base64,iVBORw0KGgoAAAANSUhEUgAAAPsAAAAcBAMAAABVHdSvAAAAMFBMVEX///8QEBCIiIhmZma6urrM\n",
       "zMxUVFQiIiJERETc3Nzu7u6qqqp2dnaYmJgyMjIAAAAcRTyBAAAAAXRSTlMAQObYZgAABBVJREFU\n",
       "SMfFVl2IG1UU/jKT38lMssg+FBdhbP0ppULYxWXBdo0U9UkbEdc+FLLUVkFRSrGu1iqxFE13Eac+\n",
       "VJFihy6UskYyWLRWBAeq1MbdEkV0KVVCoRb/98EHyYN4ztyZeCdJ7WZ3YW/IncmZm/Od+53vnDvA\n",
       "qoyNG1cH9z6LZ8NNj6+Ux1i+h8Wp4QLNiTyaUFYGfqyn1akRwq8WMIDoyhDwS2/LtS/zKFp4CZhb\n",
       "CXTV5D3Vw0bj6rUzol2wizb2UApsoMGWH5YBf4yc4KTs/pXdgN4G//2aN/5YI2JUfufd30A3OeCr\n",
       "JfAXGmd5+lm2ZHKd8GicwLZ5jvT4lJf7v4iyBeBtpq60DPgB5jonW7JOF/jSUSRTJLbKwUD5wIsU\n",
       "KkWkO0tHT7GfhCWbttr/wc9PTEzs9eFVq4Hpgx7/Oa/uRyjw2szMW8vYvNFHU9jBObTg3z0v7V61\n",
       "SnjE73peym6m79/l8v7lCJ+1u45p2DR4ozD9tPauAP4Fmfx4e6UzTbuAQx1OuTWhcsnu0uM8cc/V\n",
       "gt9J1s3r9L3HyiwI5f9jVy0Brzoy/OnRNn9FgtkCrdEB8h3/b1LzJPlg6LHxFGParUrLjAsNaTdB\n",
       "FQpON5E1BXxCkt7hiZfJ6cdlGkEUx/K8RJF7xun1j13mo4FsfeC8Qvdlnd7z6ii1mOjTQIQ+/kjw\n",
       "037aaBMJM0hH1RXwR2Tlb0m2k1mlRXq9FaP26VBd0VFjNw9vSPXB02yGmXjv7GaYrn6c6R+0DyNR\n",
       "kIqc4SMlrmbfstUR8CdlePXe9vrm3acarTNj/swMCP4isxGbCuCzVFXG1Ds2wRvvs2GbI8EnffKr\n",
       "Lj7zy76Ou+1O8o9i8ps2+CLX66GdNE3fdgVR3gjDu8Q0UbwAT8rFtU+SQGgQfIUuH9WRRSQgMu5L\n",
       "r+rgmbRX/tk86UDA66YMP6YWOpWPU9Sitb2xJjIQ8EM5ITBferfb68TJYLrqkFClJD2lTzTepGk8\n",
       "p6NKC+P1ZC4ovF/lpqs7u8LwX3vRUohqLrYb05479fFngTulwjuAHzVPfebwE3l4O5AKL8pd734y\n",
       "7bj1yC1I7KO7wblW2zmx024dOVdQ/jPcXke8UqIVEUcZx6NUE6aiv/ltOMZ+DMeeL5cPwDx/R5dj\n",
       "tD/UdD/xr0HT3f6a33S7jcutErCSF+24ID+93dZmZ2c/D5416VQZF+R/WEOFHoWC2BQ6ctw2+P99\n",
       "8WgGdxGr+AD0gsh9zZVOlEnsM0r4QsDrlU4nD/EU9E3N7AHeaPXg6I4PNgNT3HYuuNOjUo8dwNgs\n",
       "CYuSlt7/mzbU2SDjjlTgBnqAT7QVgkK5b1+TFpf1lPtrUNjo8rKlXF0E/KVFnGhnrrvi1FLfFBbz\n",
       "klO/7op0fmnwqo3VHv8CjrcVf1CQPhoAAAAASUVORK5CYII=\n",
       "\" style=\"display:inline;vertical-align:middle;\" /></a><br>(see <a class=\"ProveItLink\" href=\"../__pv_it/ed84ab6d6b69f64a7219b425570b1b952f57a1f20/dependencies.ipynb\">dependencies</a>)<br>"
      ],
      "text/plain": [
       "realsNonNeg_intervalOC_is_subset_of_realsNonNeg: forall_{a in RealsNonNeg, b in RealsNonNeg} ((a,b] subset RealsNonNeg)"
      ]
     },
     "execution_count": 2,
     "metadata": {},
     "output_type": "execute_result"
    }
   ],
   "source": [
    "%proving realsNonNeg_intervalOC_is_subset_of_realsNonNeg presuming []"
   ]
  },
  {
   "cell_type": "code",
   "execution_count": null,
   "metadata": {},
   "outputs": [],
   "source": []
  }
 ],
 "metadata": {
  "kernelspec": {
   "display_name": "Python 3",
   "language": "python",
   "name": "python3"
  }
 },
 "nbformat": 4,
 "nbformat_minor": 0
}
