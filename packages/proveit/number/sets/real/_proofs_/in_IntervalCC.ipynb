{
 "cells": [
  {
   "cell_type": "markdown",
   "metadata": {},
   "source": [
    "Proof of <a class=\"ProveItLink\" href=\"../../../../_context_.ipynb\">proveit</a>.<a class=\"ProveItLink\" href=\"../../../_context_.ipynb\">number</a>.<a class=\"ProveItLink\" href=\"../../_context_.ipynb\">sets</a>.<a class=\"ProveItLink\" href=\"../_context_.ipynb\">real</a>.<a class=\"ProveItLink\" href=\"../_theorems_.ipynb#in_IntervalCC\">in_IntervalCC</a> theorem\n",
    "========"
   ]
  },
  {
   "cell_type": "code",
   "execution_count": 1,
   "metadata": {},
   "outputs": [],
   "source": [
    "import proveit\n",
    "context = proveit.Context('..') # the theorem's context is in the parent directory"
   ]
  },
  {
   "cell_type": "code",
   "execution_count": 2,
   "metadata": {},
   "outputs": [
    {
     "name": "stdout",
     "output_type": "stream",
     "text": [
      "Beginning proof of in_IntervalCC\n",
      "Recorded 'presuming' information\n",
      "Presuming previous theorems (applied transitively).\n"
     ]
    },
    {
     "data": {
      "text/html": [
       "<strong id=\"in_IntervalCC\">in_IntervalCC:</strong> <a class=\"ProveItLink\" href=\"../__pv_it/c64d616aad90bf51d29dfae63b2a42da597dc0fc0/expr.ipynb\"><img src=\"data:image/png;base64,iVBORw0KGgoAAAANSUhEUgAAASwAAAAWBAMAAACIxbw5AAAAMFBMVEX///8QEBCIiIhmZma6urrM\n",
       "zMxUVFQiIiJERETc3Nzu7u6qqqp2dnaYmJgyMjIAAAAcRTyBAAAAAXRSTlMAQObYZgAAA8dJREFU\n",
       "SMe9ll1IFFEUx//u7rg6O2M9BBVCTArWQ5kkSQ9pQg9CUNlLEQSKfRoVIkZhIWJRaxItFRRBNClI\n",
       "mOlShApRixbUFrEPQREkSx8PfZlIQa0VnfsxuzPrmPXQXti9c87877m/uffMuQNkrOXGXJyesWqn\n",
       "Y7QJgRAQZ9cvM4F11c2pVdoVc+nvHlAPPGL2+0xgvZsRC68FVh9wgS1vawao9JKZsSYFlmYgz6Qu\n",
       "nAEsf8gBeeJgyxQsX0JgqbOhR3t6zmdiDx2TKG2my2ppDQILb4BvweCRTGAV0q+z6NwSgxl9pm0T\n",
       "z44sFGZeXWGYY40AO4B2lyjr4zPP5JtZMZa8PEWbE9Eb/TxuvS23fPPxWRj979XvHGsUWAPVTjCw\n",
       "eNsrrpcZGmg8XmE4prIUQI7DPzgFapA/t2yHKaapJXw8xVptWFdiWCmMuyYmONYApSI8Vp1Tb5fG\n",
       "PBqiDCOPvQbXRsphRLTOZGy7Ig3rjpFOxTwfktYcGo0cwaMsGKMmsVabaBSSCqg/OFYN3Yj5rZHP\n",
       "h3pAk75gmLPoqfSOiyZh6dfhpnBijU6p4dzz3Y5FUQV7rn215kH9apUt36SFlRvfRBddRW/hY/vG\n",
       "Jo2wOwV7aH+pEVYv64dXFFU7FBYWG4rimKWxOu5RJorM1CZSVHnUzE5h0QIFxoXxE94Ex6qiX/t2\n",
       "Wt4DSgJ5EJOWsskXmYXiYDIi3lLmN/f7Kx0KicWHVvHKxzWyk55mT0kq5QPmMrrJjOU2rElkx4e4\n",
       "8YXlmUx53KRq4S1RGtDFA3l3NrG+DaMqj2iU7WK1RcEnOBUSiw/tPQZLIzvhyTF0632i5N8QPo1L\n",
       "oraGU5vYhme1EfUXGftwVNStVXK/s8KeWmwOBoOGRzvzVKRCmXIoGGyD8XCpKHmUJg6FxOJD0dth\n",
       "aayOe7IqvbUSgDamu6CzXKSgunttEqu7YEtdJQ7SKnYtiQmst+wcIEd/KOeFmS22KLCVrXMC+agV\n",
       "m3grytdgXIFDIbH4UPJ+kJpkxzyzzKyw6+Hje5B2+ASsHGSHT4O8zgrVrINWLTInGsk9iWa9FfcF\n",
       "ltaLC+ZlLa7ZFLbVYkPZ030C10ip8PjN5395VGtIYWlWrfHV3SgH2LIPPIl0VSj52PSYpqUnDRz5\n",
       "qJbGN4a7nw5HbYoUlhjKn5drLCn3KHsjSYL2P2J12rD60j4VKXPkkopuMeWWaOF0xdQqD6f0Hz8D\n",
       "Yzas9unOsqE0OxByU7liuUun/WhuSftoLm6CPl0EpEfQ8WesQXpFg6ZdavNkunn/W+TfRzI6iVLQ\n",
       "B/wAAAAASUVORK5CYII=\n",
       "\" style=\"display:inline;vertical-align:middle;\" /></a><br>(see <a class=\"ProveItLink\" href=\"../__pv_it/c64d616aad90bf51d29dfae63b2a42da597dc0fc0/dependencies.ipynb\">dependencies</a>)<br>"
      ],
      "text/plain": [
       "in_IntervalCC: forall_{a in Reals, b in Reals, x in Reals | a <= x, x <= b} (x in [a,b])"
      ]
     },
     "execution_count": 2,
     "metadata": {},
     "output_type": "execute_result"
    }
   ],
   "source": [
    "%proving in_IntervalCC presuming []"
   ]
  },
  {
   "cell_type": "code",
   "execution_count": null,
   "metadata": {},
   "outputs": [],
   "source": []
  }
 ],
 "metadata": {
  "kernelspec": {
   "display_name": "Python 3",
   "language": "python",
   "name": "python3"
  }
 },
 "nbformat": 4,
 "nbformat_minor": 0
}
