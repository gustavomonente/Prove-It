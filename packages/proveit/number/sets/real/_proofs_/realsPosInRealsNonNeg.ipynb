{
 "cells": [
  {
   "cell_type": "markdown",
   "metadata": {},
   "source": [
    "Proof of <a class=\"ProveItLink\" href=\"../../../../_context_.ipynb\">proveit</a>.<a class=\"ProveItLink\" href=\"../../../_context_.ipynb\">number</a>.<a class=\"ProveItLink\" href=\"../../_context_.ipynb\">sets</a>.<a class=\"ProveItLink\" href=\"../_context_.ipynb\">real</a>.<a class=\"ProveItLink\" href=\"../_theorems_.ipynb#realsPosInRealsNonNeg\">realsPosInRealsNonNeg</a> theorem\n",
    "========"
   ]
  },
  {
   "cell_type": "code",
   "execution_count": 1,
   "metadata": {},
   "outputs": [],
   "source": [
    "import proveit\n",
    "context = proveit.Context('..') # the theorem's context is in the parent directory"
   ]
  },
  {
   "cell_type": "code",
   "execution_count": 2,
   "metadata": {},
   "outputs": [
    {
     "name": "stdout",
     "output_type": "stream",
     "text": [
      "Beginning proof of realsPosInRealsNonNeg\n",
      "Recorded 'presuming' information\n",
      "Presuming previous theorems (applied transitively).\n"
     ]
    },
    {
     "data": {
      "text/html": [
       "<strong id=\"realsPosInRealsNonNeg\">realsPosInRealsNonNeg:</strong> <a class=\"ProveItLink\" href=\"../__pv_it/4ec5eaa9e10668a53918a6216325843d4e3dfd610/expr.ipynb\"><img src=\"data:image/png;base64,iVBORw0KGgoAAAANSUhEUgAAAFwAAAAVBAMAAAA5lpTPAAAAMFBMVEX///+IiIiqqqq6urpmZmZ2\n",
       "dnbc3NzMzMxUVFTu7u4yMjJEREQQEBAiIiKYmJgAAACIyPRpAAAAAXRSTlMAQObYZgAAASlJREFU\n",
       "KM9jYCAeiIoSp84iAUTyBTA1IAly4FTO5lEAJHkNGH4iCXLjNp7NG6h+fgHDIeKUM3BGGzDUJzDc\n",
       "I1I5A2fUhPoJDBcZ3p7ev+r0A+zKEXIMjOtAph9kYFgwg6H69QSGrlVrVq16gKYeKsfAMHET2O2f\n",
       "GRg2pDJwszVgdwxMbupmeMgAhVgSFiAr59t79+7dAqhykNyUzWD3OIDCHSy0AUk529IEJNNBcuXQ\n",
       "WA2BCHEwIzuGNwHZMRA5FPfpek1AUu6ERQ5JKOfuLQWwI6ACFzDktHcDwQSYCSbcyAawNSCbjioH\n",
       "FmIx34Acfxtwy0Hct/MhssAFPHJgoQqWAiSBQDxy4IhmVWhHEuBSwC0HSkbLGXavV0ByfIclTjls\n",
       "gD0alggwAAB0J3LwXfUUogAAAABJRU5ErkJggg==\n",
       "\" style=\"display:inline;vertical-align:middle;\" /></a><br>(see <a class=\"ProveItLink\" href=\"../__pv_it/4ec5eaa9e10668a53918a6216325843d4e3dfd610/dependencies.ipynb\">dependencies</a>)<br>"
      ],
      "text/plain": [
       "realsPosInRealsNonNeg: RealsPos subset RealsNonNeg"
      ]
     },
     "execution_count": 2,
     "metadata": {},
     "output_type": "execute_result"
    }
   ],
   "source": [
    "%proving realsPosInRealsNonNeg presuming []"
   ]
  },
  {
   "cell_type": "code",
   "execution_count": null,
   "metadata": {},
   "outputs": [],
   "source": []
  }
 ],
 "metadata": {
  "kernelspec": {
   "display_name": "Python 3",
   "language": "python",
   "name": "python3"
  }
 },
 "nbformat": 4,
 "nbformat_minor": 0
}
