{
 "cells": [
  {
   "cell_type": "markdown",
   "metadata": {},
   "source": [
    "Proof of <a class=\"ProveItLink\" href=\"../../../../_context_.ipynb\">proveit</a>.<a class=\"ProveItLink\" href=\"../../../_context_.ipynb\">number</a>.<a class=\"ProveItLink\" href=\"../../_context_.ipynb\">sets</a>.<a class=\"ProveItLink\" href=\"../_context_.ipynb\">real</a>.<a class=\"ProveItLink\" href=\"../_theorems_.ipynb#pi_not_zero\">pi_not_zero</a> theorem\n",
    "========"
   ]
  },
  {
   "cell_type": "code",
   "execution_count": 1,
   "metadata": {},
   "outputs": [],
   "source": [
    "import proveit\n",
    "context = proveit.Context('..') # the theorem's context is in the parent directory"
   ]
  },
  {
   "cell_type": "code",
   "execution_count": 2,
   "metadata": {},
   "outputs": [
    {
     "name": "stdout",
     "output_type": "stream",
     "text": [
      "Beginning proof of pi_not_zero\n",
      "Recorded 'presuming' information\n",
      "Presuming previous theorems (applied transitively).\n"
     ]
    },
    {
     "data": {
      "text/html": [
       "<strong id=\"pi_not_zero\">pi_not_zero:</strong> <a class=\"ProveItLink\" href=\"../__pv_it/e610eba4f91000ebff2a2d9037cf9a05cc69afb70/expr.ipynb\"><img src=\"data:image/png;base64,iVBORw0KGgoAAAANSUhEUgAAADMAAAAUCAMAAAAX1vWWAAAAOVBMVEX///8kJCQNDQ0oKCgyMjK6\n",
       "uroiIiLu7u5UVFRERESYmJjc3NyqqqrMzMx2dnZmZmYQEBCIiIgAAAAy0RBxAAAAAXRSTlMAQObY\n",
       "ZgAAANZJREFUOMu9k1sSwyAIRWmr8U2E/S+2on0Yk4nNT/kwY/B64KoA54EGrkZQmw3IY5pqrO4m\n",
       "KgKYJcwwrpv4XFlqhukrcVbGyOZ3DHDVaC4VAmVusY4a12NMy2umUiCmSMFT+DaHqsbjLuN7p8Ao\n",
       "n1Q0qaAwAB14uMEUzdo02JKl231nyW6mfW0tuRxghpPgl2/iAay+/Og5tZ9bbl19aK666OtKIyPr\n",
       "EaPGA+/PlKSujMMKvXMeFrk7uRrjpEA7atTeFINE9uSOxvXyGzjCzCLiXzCgz5JPvHYH3dL4nSAA\n",
       "AAAASUVORK5CYII=\n",
       "\" style=\"display:inline;vertical-align:middle;\" /></a><br>(see <a class=\"ProveItLink\" href=\"../__pv_it/e610eba4f91000ebff2a2d9037cf9a05cc69afb70/dependencies.ipynb\">dependencies</a>)<br>"
      ],
      "text/plain": [
       "pi_not_zero: pi != 0"
      ]
     },
     "execution_count": 2,
     "metadata": {},
     "output_type": "execute_result"
    }
   ],
   "source": [
    "%proving pi_not_zero presuming []"
   ]
  },
  {
   "cell_type": "code",
   "execution_count": null,
   "metadata": {},
   "outputs": [],
   "source": []
  }
 ],
 "metadata": {
  "kernelspec": {
   "display_name": "Python 3",
   "language": "python",
   "name": "python3"
  }
 },
 "nbformat": 4,
 "nbformat_minor": 0
}
