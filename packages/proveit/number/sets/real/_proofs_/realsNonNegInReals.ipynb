{
 "cells": [
  {
   "cell_type": "markdown",
   "metadata": {},
   "source": [
    "Proof of <a class=\"ProveItLink\" href=\"../../../../_context_.ipynb\">proveit</a>.<a class=\"ProveItLink\" href=\"../../../_context_.ipynb\">number</a>.<a class=\"ProveItLink\" href=\"../../_context_.ipynb\">sets</a>.<a class=\"ProveItLink\" href=\"../_context_.ipynb\">real</a>.<a class=\"ProveItLink\" href=\"../_theorems_.ipynb#realsNonNegInReals\">realsNonNegInReals</a> theorem\n",
    "========"
   ]
  },
  {
   "cell_type": "code",
   "execution_count": 1,
   "metadata": {},
   "outputs": [],
   "source": [
    "import proveit\n",
    "context = proveit.Context('..') # the theorem's context is in the parent directory"
   ]
  },
  {
   "cell_type": "code",
   "execution_count": 2,
   "metadata": {},
   "outputs": [
    {
     "name": "stdout",
     "output_type": "stream",
     "text": [
      "Beginning proof of realsNonNegInReals\n",
      "Recorded 'presuming' information\n",
      "Presuming previous theorems (applied transitively).\n"
     ]
    },
    {
     "data": {
      "text/html": [
       "<strong id=\"realsNonNegInReals\">realsNonNegInReals:</strong> <a class=\"ProveItLink\" href=\"../__pv_it/e51dd718bc0312f80ad870dcfa71cae778a525b00/expr.ipynb\"><img src=\"data:image/png;base64,iVBORw0KGgoAAAANSUhEUgAAAFAAAAAVBAMAAAAjqnRBAAAAMFBMVEX///+IiIiqqqq6urpmZmZ2\n",
       "dnbc3NzMzMxUVFTu7u4yMjJEREQQEBAiIiKYmJgAAACIyPRpAAAAAXRSTlMAQObYZgAAAUFJREFU\n",
       "KM9jYEAFoqIMBIBFAojkC2BqIKCQzaMASPIaMPwkZCSbN1Dl/AKGQ4QUMnBGGzDUJzDcYyCsMmpC\n",
       "/QSGizhk357ev+r0AzCTcR3IxIOo8nx3dv9asw/EWjCDofr1BCBj4iawGz+jmcTF2cC+byeQsSGV\n",
       "gZsNGCZTN2P3NTdbAMOGDIhCloQFDFM2g213gIXj67t3716HKXTjgincwFAOjZkQCJ0VhmyiGzdE\n",
       "IQczRnRcQ7G6wQKiUNdrApo6FgVkhUxXVoIU5ty9BRTW3g0EcPW8yJ45e3cRA9hEE250AxkykBUG\n",
       "O+yEKGQx34CucDZK8DhXQxQy7HyIrhDF6gDueQIQhRUsBWgKWQWQFbI3uEOikFWhHd3IRchRyBDE\n",
       "UQBKFMsZdq9XQFM4o3kCIlEUcO/6hDPNle6FRiEUAABZD2QqD9oQnwAAAABJRU5ErkJggg==\n",
       "\" style=\"display:inline;vertical-align:middle;\" /></a><br>(see <a class=\"ProveItLink\" href=\"../__pv_it/e51dd718bc0312f80ad870dcfa71cae778a525b00/dependencies.ipynb\">dependencies</a>)<br>"
      ],
      "text/plain": [
       "realsNonNegInReals: RealsNonNeg subset Reals"
      ]
     },
     "execution_count": 2,
     "metadata": {},
     "output_type": "execute_result"
    }
   ],
   "source": [
    "%proving realsNonNegInReals presuming []"
   ]
  },
  {
   "cell_type": "code",
   "execution_count": null,
   "metadata": {},
   "outputs": [],
   "source": []
  }
 ],
 "metadata": {
  "kernelspec": {
   "display_name": "Python 3",
   "language": "python",
   "name": "python3"
  }
 },
 "nbformat": 4,
 "nbformat_minor": 0
}
