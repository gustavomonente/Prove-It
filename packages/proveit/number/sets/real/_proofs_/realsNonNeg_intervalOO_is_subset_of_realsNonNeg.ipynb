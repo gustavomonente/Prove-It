{
 "cells": [
  {
   "cell_type": "markdown",
   "metadata": {},
   "source": [
    "Proof of <a class=\"ProveItLink\" href=\"../../../../_context_.ipynb\">proveit</a>.<a class=\"ProveItLink\" href=\"../../../_context_.ipynb\">number</a>.<a class=\"ProveItLink\" href=\"../../_context_.ipynb\">sets</a>.<a class=\"ProveItLink\" href=\"../_context_.ipynb\">real</a>.<a class=\"ProveItLink\" href=\"../_theorems_.ipynb#realsNonNeg_intervalOO_is_subset_of_realsNonNeg\">realsNonNeg_intervalOO_is_subset_of_realsNonNeg</a> theorem\n",
    "========"
   ]
  },
  {
   "cell_type": "code",
   "execution_count": 1,
   "metadata": {},
   "outputs": [],
   "source": [
    "import proveit\n",
    "context = proveit.Context('..') # the theorem's context is in the parent directory"
   ]
  },
  {
   "cell_type": "code",
   "execution_count": 2,
   "metadata": {},
   "outputs": [
    {
     "name": "stdout",
     "output_type": "stream",
     "text": [
      "Beginning proof of realsNonNeg_intervalOO_is_subset_of_realsNonNeg\n",
      "Recorded 'presuming' information\n",
      "Presuming previous theorems (applied transitively).\n"
     ]
    },
    {
     "data": {
      "text/html": [
       "<strong id=\"realsNonNeg_intervalOO_is_subset_of_realsNonNeg\">realsNonNeg_intervalOO_is_subset_of_realsNonNeg:</strong> <a class=\"ProveItLink\" href=\"../__pv_it/d2dc5e4970dbd19975461279781c965753d9eced0/expr.ipynb\"><img src=\"data:image/png;base64,iVBORw0KGgoAAAANSUhEUgAAAP0AAAAcBAMAAABYA6ToAAAAMFBMVEX///8QEBCIiIhmZma6urrM\n",
       "zMxUVFQiIiJERETc3Nzu7u6qqqp2dnaYmJgyMjIAAAAcRTyBAAAAAXRSTlMAQObYZgAABDNJREFU\n",
       "SMfFVl2IG1UU/pLJZJKZTLIPC4JFGFt/FsESdm3ZYlsjQn3SRoTah8KG2ioqyqqtq7UPa/EnzVKJ\n",
       "FlbxQUcXtKwpGSy2rAiGbYttmsoIIrWsEgsKtj7si9BGKJ5770y8M4k2+wN7w957994z5zv33O+c\n",
       "e4CVadHZ2soAx57iwxyOL5dGNbcg8cO7Wb8HGTu6PPjbFih/+A1A/wsRJ1ZYFvzLC/2g8jrUa9Bc\n",
       "nF8OeMWiLumGVmf+14DLaguaBc0Gmmzh5yXgf0RKcERa0F8bBeLlkJj5fPH6r4fEfK1L549YiGaB\n",
       "c4tyodROsu4PeSVNavVmWC6tF9RDJWbfgMPuP5NDch54n3lvfAn4q9jhsvJKxqFuNiyXSNYwPknw\n",
       "Z3Ie/4FXySwaUs7i4ZMt6rSAt7eyG/nY++fC2NjYXh9/Qxr6MA/XNTz+h8n0+vT0e0s4vtlHXVDB\n",
       "t9zdIit8eFY+/4YE1LzIfw3mslvp72qxuH8p9G/y05AjNg7eLJZ+X30v+VRcySsB/xe2BD9mnqJ0\n",
       "dLBDKzeyMmd3yXac4ufrbbWMO4zX95fT84L/1+1qGSYnoOLI+MaLIaKPEM4DXbiKH9l3JZ3z8uHA\n",
       "tvkM02W3Ay7NkhjxSL8FiqCx0ULGgjHK5prMv5vGrtBukVrJj90cE4nKyePEwOOXaNhCa31gd+t7\n",
       "EsYLb26mXBN7FojQz2sa2+2nk/KM4t1ItQaVO2NSxj+VLYWOWSX8lNs2Uv96yI2mUGd6Hr0r2QdO\n",
       "3DTzxecnN8GqpT5hNzBovwMtLwU7w4+Mo5r3V7Y6Hv6RQPzdsz2cuwg/2Ww/IBdmpkH4F5k/1Akf\n",
       "P0PBZU58YBO+eZQtbHck/ITnfzryN174u7jPRqzT/7XEUSt0/yxuD+6ibuqO3xBjR2H4VBoY5OV5\n",
       "cEKPrH6aSEKN8Cs0HHeRQcSnZtzjX9XBcwZPA5kcccHjX8qS8dXCuk7+4xhZqu+lFyENgT+UFSzz\n",
       "+HenvUa8ElZNGRLUlPgX7RM5OGGZL6VQJcG4m6CDKKK+uSLnX5yL5wP433N7yUYlq45iiutTntgD\n",
       "rJPi7wB+0TkFrfVP5qDkg/EXY/nvQVraefvkbdD20WyQvatpgfTpLvvf9yefePvvAP4w3yGJiBMt\n",
       "4DGKDCuaeveHoJP6sV59uVg8AOvs3V1Knf5A/v3Kn3zmjTve8vJvt3apHQjlxEU7Lvxv7LD1RqNx\n",
       "yt9r0RNTEP7/so4KbQWs2Bh4f9pV5WwPuVNv+bNIeeQhpPLi/utSaZosYZ85jtMCP1XpVPII6/wM\n",
       "qvt865LTurwd7QIstvOLTcAEyz/f1aY2S+l2FbY1iF1EOmP/n/pQp9q4I8W52WZ7uQd8LR8qyun+\n",
       "wzKGGAbo/v/Dic1u9ddPvbxdcz3IzNxQ4tiiS4deyh73hhJGbpH4io0Vb/8AnSYS3LRS858AAAAA\n",
       "SUVORK5CYII=\n",
       "\" style=\"display:inline;vertical-align:middle;\" /></a><br>(see <a class=\"ProveItLink\" href=\"../__pv_it/d2dc5e4970dbd19975461279781c965753d9eced0/dependencies.ipynb\">dependencies</a>)<br>"
      ],
      "text/plain": [
       "realsNonNeg_intervalOO_is_subset_of_realsNonNeg: forall_{a in RealsNonNeg, b in RealsNonNeg} ((a,b) subset RealsNonNeg)"
      ]
     },
     "execution_count": 2,
     "metadata": {},
     "output_type": "execute_result"
    }
   ],
   "source": [
    "%proving realsNonNeg_intervalOO_is_subset_of_realsNonNeg presuming []"
   ]
  },
  {
   "cell_type": "code",
   "execution_count": null,
   "metadata": {},
   "outputs": [],
   "source": []
  }
 ],
 "metadata": {
  "kernelspec": {
   "display_name": "Python 3",
   "language": "python",
   "name": "python3"
  }
 },
 "nbformat": 4,
 "nbformat_minor": 0
}
