{
 "cells": [
  {
   "cell_type": "markdown",
   "metadata": {},
   "source": [
    "Proof of <a class=\"ProveItLink\" href=\"../../../../_context_.ipynb\">proveit</a>.<a class=\"ProveItLink\" href=\"../../../_context_.ipynb\">number</a>.<a class=\"ProveItLink\" href=\"../../_context_.ipynb\">sets</a>.<a class=\"ProveItLink\" href=\"../_context_.ipynb\">real</a>.<a class=\"ProveItLink\" href=\"../_theorems_.ipynb#intervalCO_lower_bound\">intervalCO_lower_bound</a> theorem\n",
    "========"
   ]
  },
  {
   "cell_type": "code",
   "execution_count": 1,
   "metadata": {},
   "outputs": [],
   "source": [
    "import proveit\n",
    "context = proveit.Context('..') # the theorem's context is in the parent directory"
   ]
  },
  {
   "cell_type": "code",
   "execution_count": 2,
   "metadata": {},
   "outputs": [
    {
     "name": "stdout",
     "output_type": "stream",
     "text": [
      "Beginning proof of intervalCO_lower_bound\n",
      "Recorded 'presuming' information\n",
      "Presuming previous theorems (applied transitively).\n"
     ]
    },
    {
     "data": {
      "text/html": [
       "<strong id=\"intervalCO_lower_bound\">intervalCO_lower_bound:</strong> <a class=\"ProveItLink\" href=\"../__pv_it/6a29b413df840518cc4c4886deec52b0af4656bc0/expr.ipynb\"><img src=\"data:image/png;base64,iVBORw0KGgoAAAANSUhEUgAAAPQAAAAZBAMAAAD02x6RAAAAMFBMVEX///8QEBCIiIhmZma6urrM\n",
       "zMxUVFQiIiJERETc3Nzu7u6qqqp2dnaYmJgyMjIAAAAcRTyBAAAAAXRSTlMAQObYZgAAA3FJREFU\n",
       "SMfdll1IFFEUx4+zO+46OzO+9FISDG6ZGMHikhCkbAVFD8U+aQ+Bi2VSDyKSrtQmIhRjIgwFFr00\n",
       "JWhs1koRYRQNKz20Re2DUAnF0hf0BUsUpL10P+ZbXWahXrqw3Dk7/3N/c8859wOgrNaVVOCvNH8y\n",
       "VaZHD/y1Nv4/oqvyq7+bpegC7l57R3vVXyvxrlIh6Cf4+bN3tFf9J5fN9FnPXIGgL+LgDHlHe9QL\n",
       "Eac93Wu3sgQtqgD8jHe0R33AuQjPn3KYVwhayKXTF8ooM496p2T8i/OtGCMV/kuWU+VUuFs/YJsf\n",
       "az6FcV62N64jxoH3ZpZrj+5E0eYjBN0JMLICZH9hFbRbn7B5hGKGMYZ+OxSxiJ+Dp62UwwtpEFVC\n",
       "gaB30YIz2t36Q29xz+t1Euo90yLZ0S69hcYe2wzjJJrhevCRemR6VePvHDxX96JBewg6AIyx+rn7\n",
       "0TzDQw6jRFxK1+eaQdL4q3a0S2+hscekYawB8C1BgH60kDLYKsgkMUWC5vMBQ/9yNg0IvYCHrkYp\n",
       "FEYvqQgt3LCjXXoLjT1ExUJXDEEmrofunVkQ323oqkIrMibqPoAfxxijNdS31x5DsUUNoaftaKrP\n",
       "bq2LEz1Cc43dcd3DDAgKeEaDh+ZB9VH/CPYnMWnAYeQwCl0fuwQiUHQUD7lJDdNNU9J8UccejvWM\n",
       "2h2IiXqup+Ltqu4RSlhllpmB7pAxW1YmFXiPKUKDWWZwG43ni7A9MEHQviPHcT8MbzgyK6mpK+ZA\n",
       "Yz0L34DqEToKbboH+I19bg4VtiT089Zx0oln+ztYxOeKT6PoalQLFTNMAtpkWZYY/tw8TVYTOyDL\n",
       "wyA93uJEV5PaWQSqR+gaqNM9gDWKfw+KZMfG8Q3Otcl1NITx0SPGKVpA0coowQW1kgY8dBCHbwmN\n",
       "mKABv5NzoLEeFQoLlXTW3CKMpXUPf2LljdTVpmzndYXSvg/4OM11Tqs6CyeEIXhE0fz0svP6Ml/g\n",
       "qR5931r2R173ELRVjg9ny9rQ/o5bzQCjeEt5pk20sDXQ+hRlC63UUOorFy240ZPz2RzVI/TuzeG8\n",
       "7uEzc2Pb8W4mcVt+aDrOVJw7uhBpV49yXeKWwtBc2zxET1eFoFLigjTr/YKUsHs88HRBelXqbpYv\n",
       "G008uMi/uxYml9/DB23/MKr3e3j/H7nOBbVo7BWwAAAAAElFTkSuQmCC\n",
       "\" style=\"display:inline;vertical-align:middle;\" /></a><br>(see <a class=\"ProveItLink\" href=\"../__pv_it/6a29b413df840518cc4c4886deec52b0af4656bc0/dependencies.ipynb\">dependencies</a>)<br>"
      ],
      "text/plain": [
       "intervalCO_lower_bound: forall_{a in Reals, b in Reals} [forall_{x in [a,b)} (a <= x)]"
      ]
     },
     "execution_count": 2,
     "metadata": {},
     "output_type": "execute_result"
    }
   ],
   "source": [
    "%proving intervalCO_lower_bound presuming []"
   ]
  },
  {
   "cell_type": "code",
   "execution_count": null,
   "metadata": {},
   "outputs": [],
   "source": []
  }
 ],
 "metadata": {
  "kernelspec": {
   "display_name": "Python 3",
   "language": "python",
   "name": "python3"
  }
 },
 "nbformat": 4,
 "nbformat_minor": 0
}
