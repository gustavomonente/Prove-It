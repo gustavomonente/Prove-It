{
 "cells": [
  {
   "cell_type": "markdown",
   "metadata": {},
   "source": [
    "Proof of <a class=\"ProveItLink\" href=\"../../../../_context_.ipynb\">proveit</a>.<a class=\"ProveItLink\" href=\"../../../_context_.ipynb\">number</a>.<a class=\"ProveItLink\" href=\"../../_context_.ipynb\">sets</a>.<a class=\"ProveItLink\" href=\"../_context_.ipynb\">real</a>.<a class=\"ProveItLink\" href=\"../_theorems_.ipynb#intervalCC_lower_bound\">intervalCC_lower_bound</a> theorem\n",
    "========"
   ]
  },
  {
   "cell_type": "code",
   "execution_count": 1,
   "metadata": {},
   "outputs": [],
   "source": [
    "import proveit\n",
    "context = proveit.Context('..') # the theorem's context is in the parent directory"
   ]
  },
  {
   "cell_type": "code",
   "execution_count": 2,
   "metadata": {},
   "outputs": [
    {
     "name": "stdout",
     "output_type": "stream",
     "text": [
      "Beginning proof of intervalCC_lower_bound\n",
      "Recorded 'presuming' information\n",
      "Presuming previous theorems (applied transitively).\n"
     ]
    },
    {
     "data": {
      "text/html": [
       "<strong id=\"intervalCC_lower_bound\">intervalCC_lower_bound:</strong> <a class=\"ProveItLink\" href=\"../__pv_it/3e6d98efae34935d8fcb996383fc7a4a086fe1920/expr.ipynb\"><img src=\"data:image/png;base64,iVBORw0KGgoAAAANSUhEUgAAAPIAAAAZBAMAAAD5xW7WAAAAMFBMVEX///8QEBCIiIhmZma6urrM\n",
       "zMxUVFQiIiJERETc3Nzu7u6qqqp2dnaYmJgyMjIAAAAcRTyBAAAAAXRSTlMAQObYZgAAA2FJREFU\n",
       "SMfdlk1oE0EUx1833SZNdtOLFy3C0mgtilAa7MmWqKB4UHJqPQgN1Sp6KKXYDzWWUFC2lkJQqOLF\n",
       "1YKVWE1RRCqCIcWDUTSHglqwBL/ALwiiYOvFNzO7m9ltGjfQkwNh9pH/29/Me2/nDUA5o2rgJKzK\n",
       "qByIlufghlUb4/8fuTq78n8zjJwj01vnZIf6m6WqJU7Jz8jzF+dkh/rPNlvoKzx7c5R8mYQm5pzs\n",
       "TC83Wu2pXt5KU7JfA5CmnZOd6d1xi3nxjMW8RslyJpG4VEaFOdNbFeNfrf/6Q7S2f6tqtJzatusH\n",
       "ue0tGEEOkJxsb1pHjQMfzAzXHduJoZYaKbkLYKQIZH9uBbJdH+E9jAIYw9+OuD9Pnj1nC+mGV8oQ\n",
       "xi1HybtYrRnjQcOhd2SW9OX7es+1KjzZpi+QiYdBPo37Ww8uagq9miHJwEttL76zh5LdIBhfvfdR\n",
       "MCtIkCEkP6miW7MtoKSk6zzZpi+QiYdBXgPgWgI3W7IcNdAaqGQS85QsZc2T6fVMApA8T95cg+mT\n",
       "R69oSJZv82SbvkAmHhy5IgbJsB6392Yt/ODI1bk2NCbqP0IlCTAhp3DuqDuOgcWB5CmezPTpbfVh\n",
       "qkeyt6k7rHtw0U6m4LHZmj7paxB/UZNFG0YOY9z6xCXwAyMHyRs3aQF2UiopV9BybhO9oHW7Q349\n",
       "z5PhDk334CosOQ3dPmOvohoi00MhD5vNCoN7uAJXo9gDE5TsOnKCzMOw4KV7UpqPhixkohfhOzA9\n",
       "koPQrnuY5FksaUXulwodpIvs9Y8nT1qJK8XINVgHFdNCBNpVVVUE6cIcy1SzOKiqw6A83Wol19C6\n",
       "WQSmR3It1OseJnkPhrFz4/gG60fp7dwcIM3GH2ZkGUOVjHvmtSoWbd9BErslfGGERft+xkImeiwS\n",
       "EarYnr2LMJbQPWLFT0/bmOT6c0W8Yx9IYZbnTKr6PJySY/CEkaWpZf35qpSTmB6Xt1b8mdU9Yit0\n",
       "DOtIc+TKzrstAKPkJHmRmmgVa6HtOaYKv1Bf9Js3mLOTb8ylM0yP5N1bAlndw2xi3DF3Z4CM5V3S\n",
       "0kRJ3tgXyKYGzHOJO4nA8sx5xJzcDDzxErehGee3oQjvEXNyG3pT6h6WLZuctZJX/QZY5L49VKxL\n",
       "/vu+3f8Xz/j8xi9FFfoAAAAASUVORK5CYII=\n",
       "\" style=\"display:inline;vertical-align:middle;\" /></a><br>(see <a class=\"ProveItLink\" href=\"../__pv_it/3e6d98efae34935d8fcb996383fc7a4a086fe1920/dependencies.ipynb\">dependencies</a>)<br>"
      ],
      "text/plain": [
       "intervalCC_lower_bound: forall_{a in Reals, b in Reals} [forall_{x in [a,b]} (a <= x)]"
      ]
     },
     "execution_count": 2,
     "metadata": {},
     "output_type": "execute_result"
    }
   ],
   "source": [
    "%proving intervalCC_lower_bound presuming []"
   ]
  },
  {
   "cell_type": "code",
   "execution_count": null,
   "metadata": {},
   "outputs": [],
   "source": []
  }
 ],
 "metadata": {
  "kernelspec": {
   "display_name": "Python 3",
   "language": "python",
   "name": "python3"
  }
 },
 "nbformat": 4,
 "nbformat_minor": 0
}
