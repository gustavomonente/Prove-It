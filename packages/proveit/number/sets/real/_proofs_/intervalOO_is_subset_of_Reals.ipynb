{
 "cells": [
  {
   "cell_type": "markdown",
   "metadata": {},
   "source": [
    "Proof of <a class=\"ProveItLink\" href=\"../../../../_context_.ipynb\">proveit</a>.<a class=\"ProveItLink\" href=\"../../../_context_.ipynb\">number</a>.<a class=\"ProveItLink\" href=\"../../_context_.ipynb\">sets</a>.<a class=\"ProveItLink\" href=\"../_context_.ipynb\">real</a>.<a class=\"ProveItLink\" href=\"../_theorems_.ipynb#intervalOO_is_subset_of_Reals\">intervalOO_is_subset_of_Reals</a> theorem\n",
    "========"
   ]
  },
  {
   "cell_type": "code",
   "execution_count": 1,
   "metadata": {},
   "outputs": [],
   "source": [
    "import proveit\n",
    "context = proveit.Context('..') # the theorem's context is in the parent directory"
   ]
  },
  {
   "cell_type": "code",
   "execution_count": 2,
   "metadata": {},
   "outputs": [
    {
     "name": "stdout",
     "output_type": "stream",
     "text": [
      "Beginning proof of intervalOO_is_subset_of_Reals\n",
      "Recorded 'presuming' information\n",
      "Presuming previous theorems (applied transitively).\n"
     ]
    },
    {
     "data": {
      "text/html": [
       "<strong id=\"intervalOO_is_subset_of_Reals\">intervalOO_is_subset_of_Reals:</strong> <a class=\"ProveItLink\" href=\"../__pv_it/7bb59690bfee7d0acc8c9067354f104115587ba10/expr.ipynb\"><img src=\"data:image/png;base64,iVBORw0KGgoAAAANSUhEUgAAAL0AAAAVBAMAAADhtvKAAAAAMFBMVEX///8QEBCIiIhmZma6urrM\n",
       "zMxUVFQiIiJERETc3Nzu7u6qqqp2dnaYmJgyMjIAAAAcRTyBAAAAAXRSTlMAQObYZgAAAwpJREFU\n",
       "OMutVU1oE0EUfsnmP7vJxUOxCEvrTy9CaKAXba0U8aTtqXooNNRWwYMUsUZrkbUH3baIq4cqUmW1\n",
       "UEutZFGkVASXFpHGH4IKxoKyCBX8QT1KDuKbnw2bbRYiODCZyfvefm/me29mAP6p3cAeLbiMi17e\n",
       "BLDI5EON9DEFf2adhnODACHN5fau7tKPugIDnhPD1xr5E4TpS4UlhUEst581AweLOgWukR0rNfK/\n",
       "wS6lnJakgT9Lbj9lCiLRDAUSOoBo1Mh/Gnu4Qo1O/Bxu8T/FbDY7xPkFzaKAlJ+bu1ojfRTFhkrn\n",
       "Z1Skdjq/ueJYv6ApDPitqiM18vuJNI0k0M7mjcz0uWEH7j9V3l2ZPxTIMGAAYKwK135rvS1CKvMi\n",
       "9t1a4hernz96TgOJ+gqGk3+hDZUjQEdl/heaDn0iI18TxI+fb5M5FiYMZ5B1EwisJOIlSMoQH6So\n",
       "I7+Xs2eJLwHC4LcPTOxxuuAXIU/4EgS/u9wKsine5riP6LwBV1qCMIspWJAzIUg3M+msn44ISTwB\n",
       "xEI5cHFxDpB/lcRLYplIE9d15Jfuufh9CuS67PLvNDj/rJNf2KNw/qjVjbPprWsQIJIQfhPH3oaj\n",
       "KB025J936YNLfsLLvwC7dAis02cKxl/jSIGxflRmKFiCBDD+NImzTW9kd4dsCmlXfnMGHIvTY5Bs\n",
       "x1zw/Iqyk79b6OLAAwwipIKDME35hcMnyDgKH2M0xXLLkXb+Gc35MsaRpZMi5PDjUCGCNsGk8Dfn\n",
       "/SAaAxzAAgCf4c/AAVVVZb945S1QmVuCp1R1FOSV7TY/3e5e3G3flsnNEB7GWfNLkgWWjJl+vXy/\n",
       "rYH602CAhNacFlnVQ0yfeA9xK0E9ZJg+D/PV74dH9uQOH3su8PvBDYBP690HYhfTP29Gx2FYUuAp\n",
       "4xfnq99vpj1Z8jrwZSDQd78VYIKcr1fmdFuwHrpfoM5YL/GR77G0fQAjZO32aY/Z+YxZXs+FC/Cj\n",
       "/vzUsqEJ9fd8XyRwRq3WPAHPJ6/q+/jei8UTgAL8p/YXLTrb6kJoKZkAAAAASUVORK5CYII=\n",
       "\" style=\"display:inline;vertical-align:middle;\" /></a><br>(see <a class=\"ProveItLink\" href=\"../__pv_it/7bb59690bfee7d0acc8c9067354f104115587ba10/dependencies.ipynb\">dependencies</a>)<br>"
      ],
      "text/plain": [
       "intervalOO_is_subset_of_Reals: forall_{a in Reals, b in Reals} ((a,b) subset Reals)"
      ]
     },
     "execution_count": 2,
     "metadata": {},
     "output_type": "execute_result"
    }
   ],
   "source": [
    "%proving intervalOO_is_subset_of_Reals presuming []"
   ]
  },
  {
   "cell_type": "code",
   "execution_count": null,
   "metadata": {},
   "outputs": [],
   "source": []
  }
 ],
 "metadata": {
  "kernelspec": {
   "display_name": "Python 3",
   "language": "python",
   "name": "python3"
  }
 },
 "nbformat": 4,
 "nbformat_minor": 0
}
