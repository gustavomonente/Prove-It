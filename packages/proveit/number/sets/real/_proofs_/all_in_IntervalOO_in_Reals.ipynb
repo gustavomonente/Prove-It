{
 "cells": [
  {
   "cell_type": "markdown",
   "metadata": {},
   "source": [
    "Proof of <a class=\"ProveItLink\" href=\"../../../../_context_.ipynb\">proveit</a>.<a class=\"ProveItLink\" href=\"../../../_context_.ipynb\">number</a>.<a class=\"ProveItLink\" href=\"../../_context_.ipynb\">sets</a>.<a class=\"ProveItLink\" href=\"../_context_.ipynb\">real</a>.<a class=\"ProveItLink\" href=\"../_theorems_.ipynb#all_in_IntervalOO_in_Reals\">all_in_IntervalOO_in_Reals</a> theorem\n",
    "========"
   ]
  },
  {
   "cell_type": "code",
   "execution_count": 1,
   "metadata": {},
   "outputs": [],
   "source": [
    "import proveit\n",
    "context = proveit.Context('..') # the theorem's context is in the parent directory"
   ]
  },
  {
   "cell_type": "code",
   "execution_count": 2,
   "metadata": {},
   "outputs": [
    {
     "name": "stdout",
     "output_type": "stream",
     "text": [
      "Beginning proof of all_in_IntervalOO_in_Reals\n",
      "Recorded 'presuming' information\n",
      "Presuming previous theorems (applied transitively).\n"
     ]
    },
    {
     "data": {
      "text/html": [
       "<strong id=\"all_in_IntervalOO_in_Reals\">all_in_IntervalOO_in_Reals:</strong> <a class=\"ProveItLink\" href=\"../__pv_it/569b547ec2f6a07053cd6c40b2bb425c3017a32e0/expr.ipynb\"><img src=\"data:image/png;base64,iVBORw0KGgoAAAANSUhEUgAAAPgAAAAZBAMAAADu5/4fAAAAMFBMVEX///8QEBCIiIhmZma6urrM\n",
       "zMxUVFQiIiJERETc3Nzu7u6qqqp2dnaYmJgyMjIAAAAcRTyBAAAAAXRSTlMAQObYZgAAA4dJREFU\n",
       "SMfdll1IFFEUx4+7M+7ufGw+BBFCDAqbYJG4KQgpQmAQVPukPQi79G0PYvaxoRKLDzUq1hJREUSD\n",
       "gsWmthQRQsGgBbVG7IMPISRb5EOf9NBDGkTnzp3ZvfvhMgv20oXlfuz/3N/MOeeeuQAltePhKKxT\n",
       "48IDJVr0wDq26/8p3JNc+z8xSuEp0r2zD7etv1dgTT6l/nk/ioMuCp8n3Wf7cNv6T4UWvUKIHx0G\n",
       "mKbwm8RDEftwu3q5rtCq26NDBGMtKQbcq+Ewbh9uV+/KOpPypfAFC97kBRAqDLiciMVulJBwdvVZ\n",
       "Gn5Qy7x5kxsHH2m2/1LVgVKyPU/vYSnpUTX+xnzXthH/wrTGuD3UhoM5Cj8KMFQAsz+1BjxPrzMm\n",
       "Yqs1wZwWdLnXZWzTxcRcPE3SdYnCd4PAcp7UHP5AeslMGLH3YovCwnP0UJ4OLjFpsib9ONekVc74\n",
       "N5KBbwp/MTAU7gKHVQ6Ep/6kQ4IEgXlJUt2fawZFl8ZYeI4eOjPnCE0mrMlG/BvclMpv+Y6Nwp/X\n",
       "DZNBkMKlpMsyeDsTA4Qvks034CPLI7c0hMtTLDxHT8JgNmLijWbguEJ95mHeXN95kIF7Uu04GPct\n",
       "A0c8TeAkisGqk+hhbAifZOFUP9vgCxh6siTUdwdMk7RX+g1EgE4qGLh7ijzRHrO2Dx1B87P8KniB\n",
       "wv1k061aNS2liu70Z9V2ondo3a5WQ+/BpbuBoGaaiKFMwonaDhSSST0D50MNmYSDR2jurON7YNyA\n",
       "O4+dIf0gLAnGmymNx1uz4ETPwzegeg5d6ocO08SYGg3P0oH4FbhNK048U15hvhz9scuEk8CUxR0h\n",
       "6FBVVXFIVxdozBr586o6CMqr7dlwGsgVoHoOX7USfKYJ8NZJQL9OVI010ygIJ/amPywB9+XfAMsm\n",
       "XEbPPIi6F7Vy6naxk7hqFbcMUbc/TmTBiR74HzwYej4CwgqMxkwTLlSwvHIvaXm1mtDDfM/LosF9\n",
       "IAVozBO6Zxj65Ai8oHBpMu97fkdKSVRPttnM/0yaJrJe9MOSLgkKA+cOPWwGGCGn/40+3sJXQvtr\n",
       "TA8MlTjwVfCncuETC7MJqoc+gLba6qRp4kyHaKgYfDr/JuPAGJp1jXY1GPMiNxlDXwusibfoZQKy\n",
       "nmyta9SM/WuUO8vkma1rlBwtBk/ah3NJxkSo+4cXyHCBezvrJYdWwr393F+xtQtPvYYBqgAAAABJ\n",
       "RU5ErkJggg==\n",
       "\" style=\"display:inline;vertical-align:middle;\" /></a><br>(see <a class=\"ProveItLink\" href=\"../__pv_it/569b547ec2f6a07053cd6c40b2bb425c3017a32e0/dependencies.ipynb\">dependencies</a>)<br>"
      ],
      "text/plain": [
       "all_in_IntervalOO_in_Reals: forall_{a in Reals, b in Reals} [forall_{x in (a,b)} (x in Reals)]"
      ]
     },
     "execution_count": 2,
     "metadata": {},
     "output_type": "execute_result"
    }
   ],
   "source": [
    "%proving all_in_IntervalOO_in_Reals presuming []"
   ]
  },
  {
   "cell_type": "code",
   "execution_count": null,
   "metadata": {},
   "outputs": [],
   "source": []
  }
 ],
 "metadata": {
  "kernelspec": {
   "display_name": "Python 3",
   "language": "python",
   "name": "python3"
  }
 },
 "nbformat": 4,
 "nbformat_minor": 0
}
