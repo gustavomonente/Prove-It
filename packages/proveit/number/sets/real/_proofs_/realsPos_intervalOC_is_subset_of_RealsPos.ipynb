{
 "cells": [
  {
   "cell_type": "markdown",
   "metadata": {},
   "source": [
    "Proof of <a class=\"ProveItLink\" href=\"../../../../_context_.ipynb\">proveit</a>.<a class=\"ProveItLink\" href=\"../../../_context_.ipynb\">number</a>.<a class=\"ProveItLink\" href=\"../../_context_.ipynb\">sets</a>.<a class=\"ProveItLink\" href=\"../_context_.ipynb\">real</a>.<a class=\"ProveItLink\" href=\"../_theorems_.ipynb#realsPos_intervalOC_is_subset_of_RealsPos\">realsPos_intervalOC_is_subset_of_RealsPos</a> theorem\n",
    "========"
   ]
  },
  {
   "cell_type": "code",
   "execution_count": 1,
   "metadata": {},
   "outputs": [],
   "source": [
    "import proveit\n",
    "context = proveit.Context('..') # the theorem's context is in the parent directory"
   ]
  },
  {
   "cell_type": "code",
   "execution_count": 2,
   "metadata": {},
   "outputs": [
    {
     "name": "stdout",
     "output_type": "stream",
     "text": [
      "Beginning proof of realsPos_intervalOC_is_subset_of_RealsPos\n",
      "Recorded 'presuming' information\n",
      "Presuming previous theorems (applied transitively).\n"
     ]
    },
    {
     "data": {
      "text/html": [
       "<strong id=\"realsPos_intervalOC_is_subset_of_RealsPos\">realsPos_intervalOC_is_subset_of_RealsPos:</strong> <a class=\"ProveItLink\" href=\"../__pv_it/aed140176e7d05f181b81021f67532ad0cc96b6a0/expr.ipynb\"><img src=\"data:image/png;base64,iVBORw0KGgoAAAANSUhEUgAAAOMAAAAbBAMAAAB8YSULAAAAMFBMVEX///8QEBCIiIhmZma6urrM\n",
       "zMxUVFQiIiJERETc3Nzu7u6qqqp2dnaYmJgyMjIAAAAcRTyBAAAAAXRSTlMAQObYZgAAA4ZJREFU\n",
       "SMfVll1IFEEcwP/d9+3taQ+ChRCrQvlQcXRlSWhCUE/VPYQVCHeYfVAE5gfXhw9iYKtiSIFFD7kp\n",
       "iJjm0QchBC1oD54VFwSJlFxGQVomUVBnSf/ZududPc9Tz4do4L8789+Z/c3M/2MG4L8qB5fX3Ydi\n",
       "WBnR7Fte/zoUk29FyDRp+Uh4viLkFhR7KE45Xp0cacV5hknlbQpEewQf3aymOxMfQ/pezrPi3LsW\n",
       "DWlwAYyQymQKSB4Hwyed6v18JKRxPnNLE1imp9dNf8GJzgDcIBOuSwG5KoBrcOlUswmQNrsMdW3q\n",
       "KuEidQI+kAKyHQdaW1mNKaIhR/1+f00MWZCmIXfgRIM9PddT8Z6XKPqBfIWKvDXMrrLApiGzUX6K\n",
       "Ym0CSyXmyFq1CCWXVK4NZtNwSSvLDUSR53Ub69ujIQ9g32MAjfP/bUyMZGwnohBXNK2Fr1TTP8n9\n",
       "okhjgEU6qiY1pNcDsBu48ILI/eEFkR+pL8DtELEPKU8k+EaRVtZ9Mv1TSo3avb2YfDaw8fwo7+iE\n",
       "huSjDEdlQ5GgR1ahZKDskqAyttXcb4psY5FDribm//2I5EPqnLjH7pCBh6DAu7e7dyrmITt0Z7AQ\n",
       "BJnvgEF3lTvABiFBrgHuR0xjmqXIbl2QbD3MOjoi7eGSWHN0oAcQORZSV5mOu+Fsvikh0tmnX2UD\n",
       "3VhcmGOGav6AMZJgY2Vbn6C1vWR/G8vx0bn+A5jIDwlSVpHenFNobCyI7NUjT1L34WbBEh5QNN+J\n",
       "XRUkL7BIs2+bNox4LNzHcOJqzBFQAhaRbpeK3CDl0iwsyEa3HkkCbBClHl77ZG4Oa2fgUiwup9iE\n",
       "ByMWjy6cIR2nZHSZK6BTQRqPV2vuUw/jnIIR8k8U65Fkunvx3ZVzpKwY/Njq3BiKIbvKJS2te2xX\n",
       "ZtVhinc7JZIwDT44JIqiYOCvviLnL+2QAfnmc6JYD8LwJoL0MDm2mE14jtjhGU14pZejCS++TKiu\n",
       "22obkyx0Yx2l2tkbgSzlAoEb+zAYF7kym9bVbDWUPE1yEXXKrd59wHuoLYPRtGZvggvOOnhKkXxv\n",
       "3D1kNTB5q2OJSKd6EzGV3SsEaCap4IXcWRT9aRaUPEOfw1B01H7m3HGZ6DQbgKElIq0efduAtmTb\n",
       "DvrKQ1smKHcTXUQ2VydHvlnkfBpI+tXhSuH2sthlIJT884PlI40S/IvyF8Oo7+fjorN8AAAAAElF\n",
       "TkSuQmCC\n",
       "\" style=\"display:inline;vertical-align:middle;\" /></a><br>(see <a class=\"ProveItLink\" href=\"../__pv_it/aed140176e7d05f181b81021f67532ad0cc96b6a0/dependencies.ipynb\">dependencies</a>)<br>"
      ],
      "text/plain": [
       "realsPos_intervalOC_is_subset_of_RealsPos: forall_{a in RealsPos, b in RealsPos} ((a,b] subset RealsPos)"
      ]
     },
     "execution_count": 2,
     "metadata": {},
     "output_type": "execute_result"
    }
   ],
   "source": [
    "%proving realsPos_intervalOC_is_subset_of_RealsPos presuming []"
   ]
  },
  {
   "cell_type": "code",
   "execution_count": null,
   "metadata": {},
   "outputs": [],
   "source": []
  }
 ],
 "metadata": {
  "kernelspec": {
   "display_name": "Python 3",
   "language": "python",
   "name": "python3"
  }
 },
 "nbformat": 4,
 "nbformat_minor": 0
}
