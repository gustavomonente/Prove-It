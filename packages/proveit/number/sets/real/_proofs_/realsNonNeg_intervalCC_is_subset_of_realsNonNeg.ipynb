{
 "cells": [
  {
   "cell_type": "markdown",
   "metadata": {},
   "source": [
    "Proof of <a class=\"ProveItLink\" href=\"../../../../_context_.ipynb\">proveit</a>.<a class=\"ProveItLink\" href=\"../../../_context_.ipynb\">number</a>.<a class=\"ProveItLink\" href=\"../../_context_.ipynb\">sets</a>.<a class=\"ProveItLink\" href=\"../_context_.ipynb\">real</a>.<a class=\"ProveItLink\" href=\"../_theorems_.ipynb#realsNonNeg_intervalCC_is_subset_of_realsNonNeg\">realsNonNeg_intervalCC_is_subset_of_realsNonNeg</a> theorem\n",
    "========"
   ]
  },
  {
   "cell_type": "code",
   "execution_count": 1,
   "metadata": {},
   "outputs": [],
   "source": [
    "import proveit\n",
    "context = proveit.Context('..') # the theorem's context is in the parent directory"
   ]
  },
  {
   "cell_type": "code",
   "execution_count": 2,
   "metadata": {},
   "outputs": [
    {
     "name": "stdout",
     "output_type": "stream",
     "text": [
      "Beginning proof of realsNonNeg_intervalCC_is_subset_of_realsNonNeg\n",
      "Recorded 'presuming' information\n",
      "Presuming previous theorems (applied transitively).\n"
     ]
    },
    {
     "data": {
      "text/html": [
       "<strong id=\"realsNonNeg_intervalCC_is_subset_of_realsNonNeg\">realsNonNeg_intervalCC_is_subset_of_realsNonNeg:</strong> <a class=\"ProveItLink\" href=\"../__pv_it/37d24eaeec242822283d2ea3a5df6de0f0ef4e7b0/expr.ipynb\"><img src=\"data:image/png;base64,iVBORw0KGgoAAAANSUhEUgAAAPkAAAAcBAMAAABR6ASSAAAAMFBMVEX///8QEBCIiIhmZma6urrM\n",
       "zMxUVFQiIiJERETc3Nzu7u6qqqp2dnaYmJgyMjIAAAAcRTyBAAAAAXRSTlMAQObYZgAABAVJREFU\n",
       "SMfFll9oU1ccx7/NbZrcm3uTMnwoE+G2+ydDJbRYCmrNkO1hsDWwrfNBSHHqxkQpbtrROYmldLF9\n",
       "2HUP2xiCFwtjdNkS9s8/CF7mRI2txDE2ETeCUgVxsw8+SB7Gfuec3Nt7b6JtTaEn5CQ595ff55zf\n",
       "+f5+5wBL0VatWhLsSwbrNSvSt2guX5+/qdyZpD6UQBmBxYEHF7IOuYvwuSSWo3Fxlh81F2KtXEgg\n",
       "ZeAjYGpR6O3AmmnvkHY78XD8ZTNlYg/Fn2ZdYiN/1QGXy8Cvbu8H+wHVR/+z5ZN/W4r8a+AftvYn\n",
       "6EscuMRG7tRBV+NeOqLxajpKX2HzVbZFx8b4vt+nac8AX7Dpp+ugN+R99Fi+Bj19BGGZdJYdtjUP\n",
       "fCg0o+broB81ffQe06FrHw8MDCQrdMkoYXyYBz/O872LDAoTE5/XI7or8NHPw6bLdw3X2iUjjTcq\n",
       "te4s61vp/SCT2V8PvVvQ5fXtT4qBW23rKvSQ4Y58kz/DWZC2A4eqXPJoZa/XyOQg1/VUwRnICPoL\n",
       "RnRGaP4/M2cI+jrPvh/v9rlLEWUTlFIV4w+mhFGFq/FVz2NtJ3Vh82tn4BanKysgCe1Gyojpgt7v\n",
       "oh8eOEA+T2So2ZM4SkYhBIou78dXvnWDHQc01kyvSkpxt3tGunWgcRfpnF52e4/TpTJCOv8tlZCz\n",
       "OF3uc699U9gfyRwZqcWQUyhOdxQDKgrMzWvPy83Yy/OXxeGbsxugW+oxFvt28zBCSftPNzm9Ic2y\n",
       "uJLuPXlOV9JuuvSiP6/Z2uVSr/3z6skJEP0ai0VwzKbHSDva2Jcm0bVv2cDmvJs+wuk5C2cq6V7E\n",
       "RrM68kcw+puPnmKiPLSNuvFnp9HIQszoFoWZ4jsDruJU27skDmpEz9LHz0XE0OCE8R1Bz2N3hEs8\n",
       "liANCPovHnqvlKzWPH6gKSp7g2VEIegdcaGtiuqeM58Sp4FuSR1CkG7VtXJ6WNf2qciRXVMxHK/Q\n",
       "o3l3pVXz26srBSmUpBIP9mOc06Ud7wNrXRk3hL8VLjy98+0E+ALcGdfDa52y9ZnPnkZokJ61T9nV\n",
       "Rtnx8uwpM43MPW9N7eI5ZLJiHejDm5QNekD99HfvFJehM/hBJjME/eLqGgdnQ8JV607ZR48wDF6w\n",
       "K22tdsMRvxG+ZjaJyEe2mMrk5KTjsUwXkT4R+Z8KyNIjzxwky0W3vPRH3zPKzgKM1CtQk2LfC5br\n",
       "9B7FoJbGOUFXszWKX/MsXdEXQNecctC49fsNwBirNpet8W6X7+XonSSZ0Y5F9t9VOqrLInbO0jUs\n",
       "gB7ybUmA9t1vExEfK2nfH9K+o7Tw3awCt+dBvz6PI+zknBaR+OPdyOZzpSnObfLjY9ElE0vc/geY\n",
       "HxwvpdQgygAAAABJRU5ErkJggg==\n",
       "\" style=\"display:inline;vertical-align:middle;\" /></a><br>(see <a class=\"ProveItLink\" href=\"../__pv_it/37d24eaeec242822283d2ea3a5df6de0f0ef4e7b0/dependencies.ipynb\">dependencies</a>)<br>"
      ],
      "text/plain": [
       "realsNonNeg_intervalCC_is_subset_of_realsNonNeg: forall_{a in RealsNonNeg, b in RealsNonNeg} ([a,b] subset RealsNonNeg)"
      ]
     },
     "execution_count": 2,
     "metadata": {},
     "output_type": "execute_result"
    }
   ],
   "source": [
    "%proving realsNonNeg_intervalCC_is_subset_of_realsNonNeg presuming []"
   ]
  },
  {
   "cell_type": "code",
   "execution_count": null,
   "metadata": {},
   "outputs": [],
   "source": []
  }
 ],
 "metadata": {
  "kernelspec": {
   "display_name": "Python 3",
   "language": "python",
   "name": "python3"
  }
 },
 "nbformat": 4,
 "nbformat_minor": 0
}
