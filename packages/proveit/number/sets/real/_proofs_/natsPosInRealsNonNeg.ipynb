{
 "cells": [
  {
   "cell_type": "markdown",
   "metadata": {},
   "source": [
    "Proof of <a class=\"ProveItLink\" href=\"../../../../_context_.ipynb\">proveit</a>.<a class=\"ProveItLink\" href=\"../../../_context_.ipynb\">number</a>.<a class=\"ProveItLink\" href=\"../../_context_.ipynb\">sets</a>.<a class=\"ProveItLink\" href=\"../_context_.ipynb\">real</a>.<a class=\"ProveItLink\" href=\"../_theorems_.ipynb#natsPosInRealsNonNeg\">natsPosInRealsNonNeg</a> theorem\n",
    "========"
   ]
  },
  {
   "cell_type": "code",
   "execution_count": 1,
   "metadata": {},
   "outputs": [],
   "source": [
    "import proveit\n",
    "context = proveit.Context('..') # the theorem's context is in the parent directory"
   ]
  },
  {
   "cell_type": "code",
   "execution_count": 2,
   "metadata": {},
   "outputs": [
    {
     "name": "stdout",
     "output_type": "stream",
     "text": [
      "Beginning proof of natsPosInRealsNonNeg\n",
      "Recorded 'presuming' information\n",
      "Presuming previous theorems (applied transitively).\n"
     ]
    },
    {
     "data": {
      "text/html": [
       "<strong id=\"natsPosInRealsNonNeg\">natsPosInRealsNonNeg:</strong> <a class=\"ProveItLink\" href=\"../__pv_it/9305fb5abf9f3d58f8dc66f70dbf92c6a6d7d4480/expr.ipynb\"><img src=\"data:image/png;base64,iVBORw0KGgoAAAANSUhEUgAAAFwAAAAVBAMAAAA5lpTPAAAAMFBMVEX///9mZmaqqqrc3NyIiIgi\n",
       "IiJUVFTMzMyYmJi6uroQEBB2dnZEREQyMjLu7u4AAAA1o4RqAAAAAXRSTlMAQObYZgAAAWlJREFU\n",
       "KM9jYCAeeHsTp26aAYjk2MCUgCTIhlM5s1gBkGSdwPAPSZAHt/HMMkD17wsYFhGnnIFvzwSGegOG\n",
       "CCKVM/DtfVD/gCGE4e2fsw8Ydv2agE1565rzd9c0gJksN0CmL2FgOMGewMD3gSH37q27dxvQ1F94\n",
       "xlDT8wDIeHII7PafDAypBS4MDAuwO+aANQMPMzD0Xp+Eh0zmObYChgBk5RxHQ0NDC6DKGQ0uMDw8\n",
       "CXaPACjck8v47qEoZ75tgGQ6o8EBhnJorG4EEslMDmUoylkNkB3DxpmA4r5khp0cDsjKhVDcrir7\n",
       "AE0524N0kHJmqEAAknKr0FgFBgadM0DwAKacL4F3AVKEJyCbPpEH1XCgcoZqdiTlfAeQlTNOP4Ch\n",
       "nEMBWSwAxe3nWlCVpwPxZmTlW1CUlzEWoCi/BMSMF5AEeBWQEwG3Qjqy6tJfQJP5kJXzpc1DJLHr\n",
       "DGfuK+DPa+x7YIkAAwAA2u9seLzz50kAAAAASUVORK5CYII=\n",
       "\" style=\"display:inline;vertical-align:middle;\" /></a><br>(see <a class=\"ProveItLink\" href=\"../__pv_it/9305fb5abf9f3d58f8dc66f70dbf92c6a6d7d4480/dependencies.ipynb\">dependencies</a>)<br>"
      ],
      "text/plain": [
       "natsPosInRealsNonNeg: NaturalsPos subset RealsNonNeg"
      ]
     },
     "execution_count": 2,
     "metadata": {},
     "output_type": "execute_result"
    }
   ],
   "source": [
    "%proving natsPosInRealsNonNeg presuming []"
   ]
  },
  {
   "cell_type": "code",
   "execution_count": null,
   "metadata": {},
   "outputs": [],
   "source": []
  }
 ],
 "metadata": {
  "kernelspec": {
   "display_name": "Python 3",
   "language": "python",
   "name": "python3"
  }
 },
 "nbformat": 4,
 "nbformat_minor": 0
}
