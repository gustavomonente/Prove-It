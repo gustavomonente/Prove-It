{
 "cells": [
  {
   "cell_type": "markdown",
   "metadata": {},
   "source": [
    "Proof of <a class=\"ProveItLink\" href=\"../../../../_context_.ipynb\">proveit</a>.<a class=\"ProveItLink\" href=\"../../../_context_.ipynb\">number</a>.<a class=\"ProveItLink\" href=\"../../_context_.ipynb\">sets</a>.<a class=\"ProveItLink\" href=\"../_context_.ipynb\">real</a>.<a class=\"ProveItLink\" href=\"../_theorems_.ipynb#in_IntervalOO\">in_IntervalOO</a> theorem\n",
    "========"
   ]
  },
  {
   "cell_type": "code",
   "execution_count": 1,
   "metadata": {},
   "outputs": [],
   "source": [
    "import proveit\n",
    "context = proveit.Context('..') # the theorem's context is in the parent directory"
   ]
  },
  {
   "cell_type": "code",
   "execution_count": 2,
   "metadata": {},
   "outputs": [
    {
     "name": "stdout",
     "output_type": "stream",
     "text": [
      "Beginning proof of in_IntervalOO\n",
      "Recorded 'presuming' information\n",
      "Presuming previous theorems (applied transitively).\n"
     ]
    },
    {
     "data": {
      "text/html": [
       "<strong id=\"in_IntervalOO\">in_IntervalOO:</strong> <a class=\"ProveItLink\" href=\"../__pv_it/b0d461447bb2bac3ea2047c5e4b8e0e1481fdc3d0/expr.ipynb\"><img src=\"data:image/png;base64,iVBORw0KGgoAAAANSUhEUgAAATEAAAAWBAMAAABalbZhAAAAMFBMVEX///8QEBCIiIhmZma6urrM\n",
       "zMxUVFQiIiJERETc3Nzu7u6qqqp2dnaYmJgyMjIAAAAcRTyBAAAAAXRSTlMAQObYZgAAA/1JREFU\n",
       "SMfFVl1oHFUU/rK7k92dndn1wRcNlSGrsUQLIYtF0NaooFjUrj60PggJ0WorGIL4W4vEgHVjKQw+\n",
       "1CKIowErMbqLItIiuKRI62rjggW1oCyihYrKIgo2gnjOnLkzc5ORxgfXC2fOvR/3nvvNPT/3Ar1r\n",
       "rySi+fYq4GggHR580wti5kwi/GZ8yrPTQL8r8ikjP/aCWdFNhM9pc0aIXkfkMB/oTC+YfZGI2iPx\n",
       "UalBnyWRogdYjV4we0oj9PwTz/idrHaS24kNXhOxWwsLL/WCWH46NjBmvaCn733Cd+mYyB+12r5e\n",
       "MEtxCA3uuYl9hXcUMZSZ9PWjl8ro7OB15MIRkV3AXIKhOzsX3ixz4SmRmRxVh0V86fhO3BNOOEhy\n",
       "o1vsSm7+5dVd2LSG5WY/EcL2wcb7vmNtBZFZeGT/VkfbLEJyOotta3htC81QQFEwt/C5dxsPopR7\n",
       "mvhsQFqAwgpKDgrkd5YsUqrWmR9W2ikLLd63yFnx1vEtcJrW69FeGqIzu2diNTFCimFy9VHkeKhJ\n",
       "mF32CzW/ezGQXkFWfjXdQb0Jgw6QxWpn1eKvji6AmJ1hpiXKGfvAyx7xsN+OUkpDNGaH1sQEIyU3\n",
       "zgz4VbIhOjNi1jeDelWVs+2NkFm+s4Ow+aEfkOGTZ2ZN0uODD5GjqRGPRdZL1wxVdSRgZo5Okd35\n",
       "5zgEynfvCpWPsJnImzB+l8FFcW/SMX0UlLM2bvCQIU+yYO5+sv6YsYIihFmFGV7pleXmcprpCuPe\n",
       "VHZMQxSzI9VxD4vfc3e4v/OoUoKwmSgDjqW6GObBaDwD6g1MFfyzLY1RzIUZgPeIXnrEmMa8zyz9\n",
       "ABvHLL41/eh1Nj/IfjDwM/1AHFHMKtgJY4PfrRbbSgUImQkoUC5k/sx15QLPhuF3nMw49uMW6sSl\n",
       "v52jHdJNEc4G9DVSE9hZq9WclPXiafH/ZuPJWm0WziebhMd5oqcjwmwAQ8CyIEFYsRKEzKgSMw1z\n",
       "crgsjwdzt0rkW2kwecWhy5Hdy4FxiqOtKgKbql7dzZ3x+sWbhXu5DK7QjhPiu/dbfj51DeiIMDPP\n",
       "4+ACzGv9GB5HqARhM0m3U+bkmtvpmOocCUQSxx2/A1ZV4qzVzL+AvfYMPhYe1iIOe69aHQsxJDqz\n",
       "S4zfyEP53S7y3WXQWl8J4ptZ543eVJ3gRg9+YfLdLcABrrTLzfmtxgB2fEY7UzQU9v1kVjp3Nd44\n",
       "vdSKIxGzW64qc+zk97vmw7df7RkDvhLEN6NSIPkVpIqNqeq5egVpVxvFWVDnRW2kqJKmIjZC1lRa\n",
       "Y05bG0PW9XK043/wD38RvHa1GylxZm5da//ta/vrQJLb6tk21s+sjf+/pf9L438DOhorUxxo79EA\n",
       "AAAASUVORK5CYII=\n",
       "\" style=\"display:inline;vertical-align:middle;\" /></a><br>(see <a class=\"ProveItLink\" href=\"../__pv_it/b0d461447bb2bac3ea2047c5e4b8e0e1481fdc3d0/dependencies.ipynb\">dependencies</a>)<br>"
      ],
      "text/plain": [
       "in_IntervalOO: forall_{a in Reals, b in Reals, x in Reals | a < x, x < b} (x in (a,b))"
      ]
     },
     "execution_count": 2,
     "metadata": {},
     "output_type": "execute_result"
    }
   ],
   "source": [
    "%proving in_IntervalOO presuming []"
   ]
  },
  {
   "cell_type": "code",
   "execution_count": null,
   "metadata": {},
   "outputs": [],
   "source": []
  }
 ],
 "metadata": {
  "kernelspec": {
   "display_name": "Python 3",
   "language": "python",
   "name": "python3"
  }
 },
 "nbformat": 4,
 "nbformat_minor": 0
}
