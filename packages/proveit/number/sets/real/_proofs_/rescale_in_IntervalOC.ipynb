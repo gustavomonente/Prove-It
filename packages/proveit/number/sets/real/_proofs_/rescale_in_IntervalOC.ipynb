{
 "cells": [
  {
   "cell_type": "markdown",
   "metadata": {},
   "source": [
    "Proof of <a class=\"ProveItLink\" href=\"../../../../_context_.ipynb\">proveit</a>.<a class=\"ProveItLink\" href=\"../../../_context_.ipynb\">number</a>.<a class=\"ProveItLink\" href=\"../../_context_.ipynb\">sets</a>.<a class=\"ProveItLink\" href=\"../_context_.ipynb\">real</a>.<a class=\"ProveItLink\" href=\"../_theorems_.ipynb#rescale_in_IntervalOC\">rescale_in_IntervalOC</a> theorem\n",
    "========"
   ]
  },
  {
   "cell_type": "code",
   "execution_count": 1,
   "metadata": {},
   "outputs": [],
   "source": [
    "import proveit\n",
    "context = proveit.Context('..') # the theorem's context is in the parent directory"
   ]
  },
  {
   "cell_type": "code",
   "execution_count": 2,
   "metadata": {},
   "outputs": [
    {
     "name": "stdout",
     "output_type": "stream",
     "text": [
      "Beginning proof of rescale_in_IntervalOC\n",
      "Recorded 'presuming' information\n",
      "Presuming previous theorems (applied transitively).\n"
     ]
    },
    {
     "data": {
      "text/html": [
       "<strong id=\"rescale_in_IntervalOC\">rescale_in_IntervalOC:</strong> <a class=\"ProveItLink\" href=\"../__pv_it/efaf0879297109a7a2779ac3949f14560ef4653a0/expr.ipynb\"><img src=\"data:image/png;base64,iVBORw0KGgoAAAANSUhEUgAAAYwAAAAZBAMAAADQywQ9AAAAMFBMVEX///8QEBCIiIhmZma6urrM\n",
       "zMxUVFQiIiJERETc3Nzu7u6qqqp2dnaYmJgyMjIAAAAcRTyBAAAAAXRSTlMAQObYZgAABMFJREFU\n",
       "WMPtWE+IG2UUf5vMbJLJTHYPXrQoQ9auhSqGBHuxWyOCBUE3XtpLIUurrXpYQqm7UheJe9CspTiI\n",
       "dIsgjrvQylqbQZGyInTIUtTYyiA9aKFLEKsoKj14sDmI7/szM19mZjdj47+DD77Ml5c3v3m/b957\n",
       "3/cCMJgcmjXg3xZpdm5QiBr8F+TE/zT+JI2Mw0ZQskakaRzRvi/DKqPRIZerA9CIC/AOHyF5OtK0\n",
       "nygv4gqqZRg2KI3Pie7HAWjEBfiBj5CcjTTtK7kCpaF0KI2T5CXWB6ARE0ArsBEWVY8w7S8jFqUB\n",
       "LUojZ+I3awAaMQFSBhsR4THKvX959gXPtL9MmozG25SG1l5ZWRwkxWMCLPIRId/ST3neFEz7yyfA\n",
       "aOTKtFL91mjMDVSpQgAZYb7uBsgYH9DKV9wfl8Zfvxsjao2liMsiZJbZWbyNTwXtd/n7KQ21QGk8\n",
       "CbAQ4d9jnbg0QgC2iOFmzXE+Fq20i6zY2uEUflkPFKyAGTxo5K7z9yTc/LvZNAgNrUNpPMSS3ZVz\n",
       "2w58QxOPL2P28Eu7enKwV1ELAbASCC6GS+N5PuZgmCQSWXrVVLsSGp+jBn6V8M0U6vDtkOQ/Cjdn\n",
       "uzCiExrZGqWRgoS72ygfl5yECm3iZY7Yv7s2AbqtLnlPCClqIQDY59dEy/fuFjaSXb6W5APS9Ncq\n",
       "TY07fkFxTblZk6wPzlNs3cSbkx1o2oSGfJ3SUJ2U+9ivVlcAaVwhXo3gMmnH3jDRa+09rxQGFYRG\n",
       "AIAEmVsTjRCNIf59hhnoHg2hZvtmqSmg8ybLCPFm3DYmLYFGprMHtcvj10AicURokOCu5p/BcEFB\n",
       "r8/QCMnrvQqXBgNo3TdeoQBEpRSnKxwjEFRNW4y/KnVvN52PikElmuH8vDfzl8iBB0xCQ2JBBQtP\n",
       "4HOflbuQA0ajRLy5yxxj5wzdTpbI9Yg82qvwzlQEIGFOp8oUIIOq05WqyTECKY5PB3eTyZr34n1u\n",
       "ihfFFBfNmhZMs4OXqB0pY84IKQ4f4HOTBbkGy5RG8uARcp2HdYUurr7jUJnEYh0qPQqfBgGQ4Wdg\n",
       "ABI6XoK9HMOjscZGcgqW3Zo5ab0Kb+J1JwsgbwsNmKV1bUalaSJqh510gdJI2owGCdAhKzEFexuN\n",
       "hp5QX7vMAnSH/FyjMQ/6Z/cQr4fwKT0KnwaL8BvAACSM5y0wzjE8Grv5uHjVK3On8ksTJA2vscR9\n",
       "6hHBVDBT9m89cSekjga0xUt8+6swGhq+16aRvmIOs6DK7iMB0UVfplgMfdjm6dqj8GkQAMw0GSiA\n",
       "XAflBhxf4Rj1/ocRftiXPt30MPJR1HEMaZwW+o0ho/ooqBWWG2078woc1epwgXmtnoGTJu75BUER\n",
       "7DfeUjsqAyBe3Sr/6nCM+l91NLQ3oNESaEj7358AOEa2vy/s5V3yFthzEaMSAyk795NS6jxuZYpf\n",
       "moIiSOPU5VabAQC+/Ye3jzkcw6ujCxB9XIg4qEeZKXo0DX5QFyWBoc2LCLtsw1RgYgUVkd0fBdgO\n",
       "Ika9b9u0EKtt0iCaRtrYpIld7d9pbtjEpnsw6v2aWO3mm9gENrFfb9aLO3HWYgMakiNi3HxH9k/+\n",
       "pTAb8T/VatRB/W/9n2rmDy1Giy0L4hB5AAAAAElFTkSuQmCC\n",
       "\" style=\"display:inline;vertical-align:middle;\" /></a><br>(see <a class=\"ProveItLink\" href=\"../__pv_it/efaf0879297109a7a2779ac3949f14560ef4653a0/dependencies.ipynb\">dependencies</a>)<br>"
      ],
      "text/plain": [
       "rescale_in_IntervalOC: forall_{a in Reals, b in Reals, c in Reals} [forall_{x in (a,b]} ((c * x) in (c * a,c * b])]"
      ]
     },
     "execution_count": 2,
     "metadata": {},
     "output_type": "execute_result"
    }
   ],
   "source": [
    "%proving rescale_in_IntervalOC presuming []"
   ]
  },
  {
   "cell_type": "code",
   "execution_count": null,
   "metadata": {},
   "outputs": [],
   "source": []
  }
 ],
 "metadata": {
  "kernelspec": {
   "display_name": "Python 3",
   "language": "python",
   "name": "python3"
  }
 },
 "nbformat": 4,
 "nbformat_minor": 0
}
