{
 "cells": [
  {
   "cell_type": "markdown",
   "metadata": {},
   "source": [
    "Proof of <a class=\"ProveItLink\" href=\"../../../../_context_.ipynb\">proveit</a>.<a class=\"ProveItLink\" href=\"../../../_context_.ipynb\">number</a>.<a class=\"ProveItLink\" href=\"../../_context_.ipynb\">sets</a>.<a class=\"ProveItLink\" href=\"../_context_.ipynb\">real</a>.<a class=\"ProveItLink\" href=\"../_theorems_.ipynb#relax_IntervalOO_left_right\">relax_IntervalOO_left_right</a> theorem\n",
    "========"
   ]
  },
  {
   "cell_type": "code",
   "execution_count": 1,
   "metadata": {},
   "outputs": [],
   "source": [
    "import proveit\n",
    "context = proveit.Context('..') # the theorem's context is in the parent directory"
   ]
  },
  {
   "cell_type": "code",
   "execution_count": 2,
   "metadata": {},
   "outputs": [
    {
     "name": "stdout",
     "output_type": "stream",
     "text": [
      "Beginning proof of relax_IntervalOO_left_right\n",
      "Recorded 'presuming' information\n",
      "Presuming previous theorems (applied transitively).\n"
     ]
    },
    {
     "data": {
      "text/html": [
       "<strong id=\"relax_IntervalOO_left_right\">relax_IntervalOO_left_right:</strong> <a class=\"ProveItLink\" href=\"../__pv_it/306454a6a1f656b3b06763784e7d7bf0294804440/expr.ipynb\"><img src=\"data:image/png;base64,iVBORw0KGgoAAAANSUhEUgAAAREAAAAZBAMAAADkngdkAAAAMFBMVEX///8QEBCIiIhmZma6urrM\n",
       "zMxUVFQiIiJERETc3Nzu7u6qqqp2dnaYmJgyMjIAAAAcRTyBAAAAAXRSTlMAQObYZgAABBZJREFU\n",
       "SMfll2toFFcUgI+zO/uYx8Yf/lCkMk0gis/FBWux0QXBlFKbpT98gLCL9VEFJQRlRaXE/KgTRbrU\n",
       "olJomSYQ261NFkVCQGEgim1swvwQlGBlEaMooiIKNop47mNm7yTb7G5B/3hhZ+bec8+d755z7pmz\n",
       "ADW17dkcvI3WnLVr1GiFt9SimfeBJOqUG1085u/r95JqjpEUSf+f6kliVN+pPPXXsqOXhGflEG5M\n",
       "S8IORnKVjD2onkQr4C1mVZ56vyIJxOKUpJeRnCK39upJ6NxTlWfq8cokdQVKohmUhGyP7rPaOCH2\n",
       "u1p5Zth33PXD2W8mk7RYlESZTkn0oXz+ZC0RezOf/62KwPWtKXdY5WxyBSgJ3GFn54VpHqyFpM40\n",
       "D/vTkLB72XtqwF9X4w8LDdLptQTvHB/8kHfv1q+gJIOMZCtAZ5l3flH8D5JQCiI+y2uCipp0O8fw\n",
       "bNh6W5gus0OIk+AseMzPzmurL0dIbjGS1aCIL+2f99Vtuj6POLXt25WGSBKM02AvNe81ROVjt3MA\n",
       "+5Y2HqTQ7QLJLw4s50uPQ51BSPoZSRgkNzsoFxKOpMEQeXOMRPHvg01g2FqXL7O1wiK3S+Sy5yqi\n",
       "0uN2ZuByEGEI8pxH2DjJKgva2JRAEfpsQpJmJJoTdrVvDOQBSUYJWR1uRj/6o4Uk+h8+kmEv01I5\n",
       "ess9lKgSy5VIcIRZMyraZCYoz7100lIQSKLFdTja3ThG7A6UhOwyXb8THYcNSc74SH6WCX/Dl1uZ\n",
       "HPehLN2d4iqefQ+QS5pTTi+RKK9AfcLJHTQQIWnm353OLbjWXnmcJXIkSRCiuVYD+xIYdiDhI4mc\n",
       "QOX5oeIeJsfjejqVtriKmilFrGotAYkek6UCyUsIFQcYSVL5AISIhXO4fCAut0I3JQls20PuHXBL\n",
       "oUFrLNue9JGoH+ElFXOAyT8FSMB6rgJB1xF4MlsK38FPLM0VSt7pgOsZW3mNzyEnEqckn3AS4sxp\n",
       "BSkD603TNCTt+2vMz8vkfabZAcZfi/wk8JQHBZOvAZgNjVwFZPccosV76ruamLOUrz/zSHrqN25O\n",
       "QtYiTh1mmW2Mk+g42JeLjFoh5h11E7HoOK6fYd45P+QnGaUhACkm3wDKv3Asz1WCmbLZPvjnhGyv\n",
       "urmOZPtWoT6ZlkuvBS3F4mTIjh6B/Xo7XGYk2plJ9Un0yQjYTH4aYJb8zOEqul3dF9BLh6UvIGfe\n",
       "fLYJ4CjJbCN290p5Nqz7G2MT3asefKgkihNJlF2fL7SoHMIWrFnQ4HCVgOfJzilJugSS3sk1m4Rx\n",
       "wo3HbvMwDqaq2YhcKogqsSorJUcg6ZyqehyooXpsF1UuVqge506oHqV7ST03FYlTA8laQUWJv6uK\n",
       "Olvm/44qDEnW/wNpzmbeAOzOKbKc77akAAAAAElFTkSuQmCC\n",
       "\" style=\"display:inline;vertical-align:middle;\" /></a><br>(see <a class=\"ProveItLink\" href=\"../__pv_it/306454a6a1f656b3b06763784e7d7bf0294804440/dependencies.ipynb\">dependencies</a>)<br>"
      ],
      "text/plain": [
       "relax_IntervalOO_left_right: forall_{a in Reals, b in Reals} [forall_{x in (a,b)} (x in [a,b])]"
      ]
     },
     "execution_count": 2,
     "metadata": {},
     "output_type": "execute_result"
    }
   ],
   "source": [
    "%proving relax_IntervalOO_left_right presuming []"
   ]
  },
  {
   "cell_type": "code",
   "execution_count": null,
   "metadata": {},
   "outputs": [],
   "source": []
  }
 ],
 "metadata": {
  "kernelspec": {
   "display_name": "Python 3",
   "language": "python",
   "name": "python3"
  }
 },
 "nbformat": 4,
 "nbformat_minor": 0
}
