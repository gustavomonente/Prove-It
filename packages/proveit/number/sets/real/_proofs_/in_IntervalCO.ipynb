{
 "cells": [
  {
   "cell_type": "markdown",
   "metadata": {},
   "source": [
    "Proof of <a class=\"ProveItLink\" href=\"../../../../_context_.ipynb\">proveit</a>.<a class=\"ProveItLink\" href=\"../../../_context_.ipynb\">number</a>.<a class=\"ProveItLink\" href=\"../../_context_.ipynb\">sets</a>.<a class=\"ProveItLink\" href=\"../_context_.ipynb\">real</a>.<a class=\"ProveItLink\" href=\"../_theorems_.ipynb#in_IntervalCO\">in_IntervalCO</a> theorem\n",
    "========"
   ]
  },
  {
   "cell_type": "code",
   "execution_count": 1,
   "metadata": {},
   "outputs": [],
   "source": [
    "import proveit\n",
    "context = proveit.Context('..') # the theorem's context is in the parent directory"
   ]
  },
  {
   "cell_type": "code",
   "execution_count": 2,
   "metadata": {},
   "outputs": [
    {
     "name": "stdout",
     "output_type": "stream",
     "text": [
      "Beginning proof of in_IntervalCO\n",
      "Recorded 'presuming' information\n",
      "Presuming previous theorems (applied transitively).\n"
     ]
    },
    {
     "data": {
      "text/html": [
       "<strong id=\"in_IntervalCO\">in_IntervalCO:</strong> <a class=\"ProveItLink\" href=\"../__pv_it/9381304a8eeab91fefda421488f05886b8a2c27e0/expr.ipynb\"><img src=\"data:image/png;base64,iVBORw0KGgoAAAANSUhEUgAAAS8AAAAWBAMAAABj8gc6AAAAMFBMVEX///8QEBCIiIhmZma6urrM\n",
       "zMxUVFQiIiJERETc3Nzu7u6qqqp2dnaYmJgyMjIAAAAcRTyBAAAAAXRSTlMAQObYZgAAA+ZJREFU\n",
       "SMe9ll1oFFcUx//Z3cnuzO5s+uCLDSlDYhOJVkIWpGCTphaEBj8WH5I+CAnRtFEwBLEfxlC2AdNJ\n",
       "pLD4YKUgjOYhENPuUikloeBgWxpXTQdaaCsYlmB8EJUgLbQpFM+de2dnZneb1YfuhbN37+HMub+5\n",
       "52MuUL1xsZxyx2qRYl5Ini3uVoNLSZXTfu+1+HgEqE1zuck0D6oBFk9XAkO8jejyXC7QWk5VA+xn\n",
       "VASry9LPdS5xA4hlqwF2yrtQP/ngo1KwAwSDS1zU3OzsZ9Xgkkc8C2ncKHdiP9rx7OLyl66PVQMs\n",
       "wPKn8ehuFil8aXhCKb/W/iJf3G/cRfFr4zIITJbxsz9fea9QZRPXTcQC5vCrZkfwqDfH3kjH13hV\n",
       "/mtk0lDpESZv2jVQGN9sPbzCZsbMRvTERKfm28vVRPz60hLqLrgBwpTIOfxkvMUWKQ+Y0oAgX0fX\n",
       "UachSjFnEkbAcvrItwkrEEOObRtnBXHluw5oZuyyu5VP4wOLrpRwvd3P3dijhtLGgM5T7KXHNARY\n",
       "cB1h/qLBPDImJDo+JjEr7Dz72/wsCOwOA62jrqOe/dwgDPULt5h8Gi+Y+qiE6/wkd+OCAU94IXhP\n",
       "rCaFTNJpYweyBTA530O66eZVhNixMzCT5r7GYxRlGoQxZ8e26eCgXyPAlPbhJAKPCjbONH1GuHFD\n",
       "CelPvnjBA0aHdE20MQuvGwhRGJlg8gg5f09aRxwcLMEAW4wm/rnSzGCCza21+ZN+jQCbSfYZodMo\n",
       "2Ihp7h6EGzf5FwJraGWLdi9YFsNR+2DruijfCsmPq0QXbJNGMG2DBd9hvjGOZcVOXG3nu3YQknEL\n",
       "fo0AS6AXymLBRkxSA4QbQUBlEPonsiZbheMTYBFNfT+GDKHUWhHaIGhyYYWAmmygH726rmuB2Llf\n",
       "2AObsFP6UNfHod14hWNQuhRpOFg9munIF7PCxpmWuoQbp7eMQBlobeL3BWWo263KgZfPb0F4lCXF\n",
       "bZZpSS5Qqdll0pE7Ri0PZfQQ637rtGE/D9zXOdtFH5JFGhtM+RufzrL7S1bYiEl5NSnclPskhRaL\n",
       "P0kLzp8ZIbxk0n37EEvyHMuZ8hRG1RR+4BixOchT8toSTI/GPbHN0h92eJYt28YxhTxE58bcPNtH\n",
       "3HT+iI+4eIGBrzqAs6zBLpnTnVI9em7RxnQI0bGHSiIv1SvH9243PBoXbM+2Jt4IF2wbx5TIJtK2\n",
       "Gyf7N7z2KE4Xd649vs8Z5ZjolnzaShnlU3g0JZ0fRabUHCaf/aKoevnLv4Nzv91Y8d9g8891tW4p\n",
       "vlr/LqT8sCoq/GBRKmh9agPT6o7g/+j7KUWoMbTfy45/AAAAAElFTkSuQmCC\n",
       "\" style=\"display:inline;vertical-align:middle;\" /></a><br>(see <a class=\"ProveItLink\" href=\"../__pv_it/9381304a8eeab91fefda421488f05886b8a2c27e0/dependencies.ipynb\">dependencies</a>)<br>"
      ],
      "text/plain": [
       "in_IntervalCO: forall_{a in Reals, b in Reals, x in Reals | a <= x, x < b} (x in [a,b))"
      ]
     },
     "execution_count": 2,
     "metadata": {},
     "output_type": "execute_result"
    }
   ],
   "source": [
    "%proving in_IntervalCO presuming []"
   ]
  },
  {
   "cell_type": "code",
   "execution_count": null,
   "metadata": {},
   "outputs": [],
   "source": []
  }
 ],
 "metadata": {
  "kernelspec": {
   "display_name": "Python 3",
   "language": "python",
   "name": "python3"
  }
 },
 "nbformat": 4,
 "nbformat_minor": 0
}
