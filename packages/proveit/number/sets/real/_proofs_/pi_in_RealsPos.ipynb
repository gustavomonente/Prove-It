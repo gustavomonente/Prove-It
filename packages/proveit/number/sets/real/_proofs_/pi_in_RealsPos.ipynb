{
 "cells": [
  {
   "cell_type": "markdown",
   "metadata": {},
   "source": [
    "Proof of <a class=\"ProveItLink\" href=\"../../../../_context_.ipynb\">proveit</a>.<a class=\"ProveItLink\" href=\"../../../_context_.ipynb\">number</a>.<a class=\"ProveItLink\" href=\"../../_context_.ipynb\">sets</a>.<a class=\"ProveItLink\" href=\"../_context_.ipynb\">real</a>.<a class=\"ProveItLink\" href=\"../_theorems_.ipynb#pi_in_RealsPos\">pi_in_RealsPos</a> theorem\n",
    "========"
   ]
  },
  {
   "cell_type": "code",
   "execution_count": 1,
   "metadata": {},
   "outputs": [],
   "source": [
    "import proveit\n",
    "context = proveit.Context('..') # the theorem's context is in the parent directory"
   ]
  },
  {
   "cell_type": "code",
   "execution_count": 2,
   "metadata": {},
   "outputs": [
    {
     "name": "stdout",
     "output_type": "stream",
     "text": [
      "Beginning proof of pi_in_RealsPos\n",
      "Recorded 'presuming' information\n",
      "Presuming previous theorems (applied transitively).\n"
     ]
    },
    {
     "data": {
      "text/html": [
       "<strong id=\"pi_in_RealsPos\">pi_in_RealsPos:</strong> <a class=\"ProveItLink\" href=\"../__pv_it/03396264e85545eebbfa82aca45a46ed634abffa0/expr.ipynb\"><img src=\"data:image/png;base64,iVBORw0KGgoAAAANSUhEUgAAAEEAAAAUBAMAAAAgmk0yAAAAMFBMVEX///8yMjK6uroiIiLu7u5U\n",
       "VFRERESYmJjc3NyqqqrMzMx2dnZmZmYQEBCIiIgAAADT23BBAAAAAXRSTlMAQObYZgAAANdJREFU\n",
       "KM9jYKAMsBJUwUZDFcXX8gWvFeA1Q8CVYVmZA0OgoKygYAFWFQndDGwcAdjMKDM2FoCq4GkQwKJi\n",
       "2ROEGTwNCXAVb/////8HxGARQbKFlQluC/euee0vGsAB2ICkYvJBB5iKlQw7+BageT6h19hwAojB\n",
       "AeWzOoDptYJAAHWpDpsDwn1cAcwQRhuSb3m0EhAqeAr4Iep5kcMjpQ6hwt+BXwGi9AGSiqU8C+Aq\n",
       "HjPwboCwLJFCnXtCFFxFJgMrVIVrkgMs5qQY0uQnYIkP7WRIqKMAAOynMpDCmoSdAAAAAElFTkSu\n",
       "QmCC\n",
       "\" style=\"display:inline;vertical-align:middle;\" /></a><br>(see <a class=\"ProveItLink\" href=\"../__pv_it/03396264e85545eebbfa82aca45a46ed634abffa0/dependencies.ipynb\">dependencies</a>)<br>"
      ],
      "text/plain": [
       "pi_in_RealsPos: pi in RealsPos"
      ]
     },
     "execution_count": 2,
     "metadata": {},
     "output_type": "execute_result"
    }
   ],
   "source": [
    "%proving pi_in_RealsPos presuming []"
   ]
  },
  {
   "cell_type": "code",
   "execution_count": null,
   "metadata": {},
   "outputs": [],
   "source": []
  }
 ],
 "metadata": {
  "kernelspec": {
   "display_name": "Python 3",
   "language": "python",
   "name": "python3"
  }
 },
 "nbformat": 4,
 "nbformat_minor": 0
}
