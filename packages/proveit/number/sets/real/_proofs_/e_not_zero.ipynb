{
 "cells": [
  {
   "cell_type": "markdown",
   "metadata": {},
   "source": [
    "Proof of <a class=\"ProveItLink\" href=\"../../../../_context_.ipynb\">proveit</a>.<a class=\"ProveItLink\" href=\"../../../_context_.ipynb\">number</a>.<a class=\"ProveItLink\" href=\"../../_context_.ipynb\">sets</a>.<a class=\"ProveItLink\" href=\"../_context_.ipynb\">real</a>.<a class=\"ProveItLink\" href=\"../_theorems_.ipynb#e_not_zero\">e_not_zero</a> theorem\n",
    "========"
   ]
  },
  {
   "cell_type": "code",
   "execution_count": 1,
   "metadata": {},
   "outputs": [],
   "source": [
    "import proveit\n",
    "context = proveit.Context('..') # the theorem's context is in the parent directory"
   ]
  },
  {
   "cell_type": "code",
   "execution_count": 2,
   "metadata": {},
   "outputs": [
    {
     "name": "stdout",
     "output_type": "stream",
     "text": [
      "Beginning proof of e_not_zero\n",
      "Recorded 'presuming' information\n",
      "Presuming previous theorems (applied transitively).\n"
     ]
    },
    {
     "data": {
      "text/html": [
       "<strong id=\"e_not_zero\">e_not_zero:</strong> <a class=\"ProveItLink\" href=\"../__pv_it/2d5208257be82351ac19503b22021d2eb151c4210/expr.ipynb\"><img src=\"data:image/png;base64,iVBORw0KGgoAAAANSUhEUgAAAC8AAAAUCAMAAAAqRJTwAAAAOVBMVEX///8kJCQNDQ0oKChEREQy\n",
       "MjKYmJhUVFTMzMyqqqoQEBAiIiK6urrc3NxmZmaIiIh2dnbu7u4AAAA6OOQsAAAAAXRSTlMAQObY\n",
       "ZgAAAMxJREFUKM+1UssSwyAItK3iIwaU///YBm06ahKnOZQDDsO6wIJS15ayumOr6T4TJDfF29gE\n",
       "xiuVl3VGr5sAQqlhZvRtdW3Fe86/0Ssu+MhenpyIcGxNt/SZseJJvIyxpl0HU+z1FI97MS5pJ/gc\n",
       "ZHR0E/oNjxW/fbMBiGAYxNkubPthezKtHsbhjz5bK5z6I5C+H6FO8aXSRS0QPZeKp/aTGdVq9kXi\n",
       "cqdnxEODi4gSigiEANAlzXGNsiN7cW8eb93xGf3MfPorvYqz5Bt8vgecWSPJXQAAAABJRU5ErkJg\n",
       "gg==\n",
       "\" style=\"display:inline;vertical-align:middle;\" /></a><br>(see <a class=\"ProveItLink\" href=\"../__pv_it/2d5208257be82351ac19503b22021d2eb151c4210/dependencies.ipynb\">dependencies</a>)<br>"
      ],
      "text/plain": [
       "e_not_zero: e != 0"
      ]
     },
     "execution_count": 2,
     "metadata": {},
     "output_type": "execute_result"
    }
   ],
   "source": [
    "%proving e_not_zero presuming []"
   ]
  },
  {
   "cell_type": "code",
   "execution_count": null,
   "metadata": {},
   "outputs": [],
   "source": []
  }
 ],
 "metadata": {
  "kernelspec": {
   "display_name": "Python 3",
   "language": "python",
   "name": "python3"
  }
 },
 "nbformat": 4,
 "nbformat_minor": 0
}
