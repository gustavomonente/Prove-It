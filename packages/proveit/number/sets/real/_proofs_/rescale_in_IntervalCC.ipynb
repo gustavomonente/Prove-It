{
 "cells": [
  {
   "cell_type": "markdown",
   "metadata": {},
   "source": [
    "Proof of <a class=\"ProveItLink\" href=\"../../../../_context_.ipynb\">proveit</a>.<a class=\"ProveItLink\" href=\"../../../_context_.ipynb\">number</a>.<a class=\"ProveItLink\" href=\"../../_context_.ipynb\">sets</a>.<a class=\"ProveItLink\" href=\"../_context_.ipynb\">real</a>.<a class=\"ProveItLink\" href=\"../_theorems_.ipynb#rescale_in_IntervalCC\">rescale_in_IntervalCC</a> theorem\n",
    "========"
   ]
  },
  {
   "cell_type": "code",
   "execution_count": 1,
   "metadata": {},
   "outputs": [],
   "source": [
    "import proveit\n",
    "context = proveit.Context('..') # the theorem's context is in the parent directory"
   ]
  },
  {
   "cell_type": "code",
   "execution_count": 2,
   "metadata": {},
   "outputs": [
    {
     "name": "stdout",
     "output_type": "stream",
     "text": [
      "Beginning proof of rescale_in_IntervalCC\n",
      "Recorded 'presuming' information\n",
      "Presuming previous theorems (applied transitively).\n"
     ]
    },
    {
     "data": {
      "text/html": [
       "<strong id=\"rescale_in_IntervalCC\">rescale_in_IntervalCC:</strong> <a class=\"ProveItLink\" href=\"../__pv_it/275dc6ef00e236842f961cb2a3504bd52b5f2c930/expr.ipynb\"><img src=\"data:image/png;base64,iVBORw0KGgoAAAANSUhEUgAAAYgAAAAZBAMAAADZIKRHAAAAMFBMVEX///8QEBCIiIhmZma6urrM\n",
       "zMxUVFQiIiJERETc3Nzu7u6qqqp2dnaYmJgyMjIAAAAcRTyBAAAAAXRSTlMAQObYZgAABNFJREFU\n",
       "WMPtmF2IG1UUx08mO/mYTJI++KAWZcjabakoIaH7oq1RQVDQxpf2RdhQP2oVliB1t9alxH3Q1KIM\n",
       "PqRFEKcuuLCuJigiLYJDVNTY6lAL2kJLEKogKoso2PUDz7n3zszNJO5ON0p98MLNzJzM/c/53XvO\n",
       "3HsHYLiye9qEy1tGpmeGlajC5S+N/yEuCeIlUYPlWNBw44VwgulvS7xxA7p0ODcEREgBrcZrX4kF\n",
       "k+qDEI/VnsLe00u8cQM+Jdt3Q0CEFMiYvPb7010DBGTyDII1bsAR/E3WhoAIKfCFqP2lvRaIbItB\n",
       "sMYNyFh41RoCIqTAE6L2l6MixJ+ZPhAeYrvFIY4yiHRnYeHwMIkdTiBZ5XVQZJToV521LmUkPgIO\n",
       "QY3x7fRrvT4z1NspKLBPivzzeXGi5HkFPbfBy4bcntswHHR2zxuWHE7tXNnDv7lwtRt4vvWb3E0M\n",
       "ghojxIMABwd4d083LERQoCJLuMmScHhNPgnPu/8vwpcGRlCaPWmPnBOHWwnv8beamSV+Jlm1P62m\n",
       "SRDUGCFu730/vLPp/q/pqIs+TD329DZD9rHXUO0T8CFIwoWIt0S14VG8ZN3egc+tO1GQRVlNhpiB\n",
       "GN6rMXevgaj4T7KmliFrEAQ1Rog4KI7L927RUXTokI8ZytXX3t8Khq2/4j2gz1DtE/AhSML1LVLi\n",
       "9RaLdyQwkjrLBupo9dofsQiI6DI7aVLf4Hmc91mPtQtNmyCoMULoTtx96lfHFgAhzpJPWYzs9KEX\n",
       "LfQ5/bo3SQYNBBEQ8CFIIghxJb+c4oefPIikPBIRfhEnJTxv8kyQrThNbG9JEMnuDrTOjV2AEYog\n",
       "grDxOJF7BAMFC/q8yIIjZ/QaXAgu0N4yVmYCCKEVJstCIhBO2u9y4Km/sGUoC6d1EkTT9u/B8/e8\n",
       "M3+acHBMCWKEhxMcfADH93F1GTLAIYrky0ZrlK8oDDtapONedV2vwVs7kYBiTcZLGZET8+UJS0gE\n",
       "E/sPDGO37XFlCTa7iV2QINBFcGeeZgsmU6Zw3LNmS5grUmLDW+hINK9WYY5BRB/aS8dZOK+xjjXG\n",
       "d9OLHLOr3GPwIUhAhR+ACyBEEXYKCQ+CkpzqOGhb3I3Ab4mlJDoWtd2hciGiFZhzX6YJIz2ls0SQ\n",
       "rTEnkWcQ1Jggspg3kZZSgZ31et1Q9BdO021XwLi6r16fBeOTG8jnCD6kx+BDZFniXQQugBDrYUxI\n",
       "eBA07FT1k6e8aWLX5lFaOGaYZ9rDd/lvpxPnDP+uDY3rIL4feq2Fk2KyK3OINA5900yctWI8nFL3\n",
       "USwsoysVHj1vd0SW9hh8CBLADFMhxkdCuwjPLQiJ2urLjnmB+fFKy47jA2wEMS/tJyLmxN2gl3lO\n",
       "dOzks7A/XYMPuc/6IhyxcH7PS4bgfuJlvatzASS9Sv3ZERK1f2gBaP8NRFuCGNn15laAQzTZfWbP\n",
       "bVPXw44TGI8YQqmZ77Vi995WsnDKkgxBiFdPtztcACHuuH7UERIeRMLkdW1Lcc0YDCGW4nJRKKT5\n",
       "tMwPmzAFeGkFDQN3dgrPCUmituqmKBFmU5SGwRAJc4XtaXDPmDLDb08rskRt1e3pmaBhY8jtqYLb\n",
       "0zMr7bGdMD2xMoQTgPgPfyiY7v/udGDQUvzf/O409ReiRpOAf7RJxwAAAABJRU5ErkJggg==\n",
       "\" style=\"display:inline;vertical-align:middle;\" /></a><br>(see <a class=\"ProveItLink\" href=\"../__pv_it/275dc6ef00e236842f961cb2a3504bd52b5f2c930/dependencies.ipynb\">dependencies</a>)<br>"
      ],
      "text/plain": [
       "rescale_in_IntervalCC: forall_{a in Reals, b in Reals, c in Reals} [forall_{x in [a,b]} ((c * x) in [c * a,c * b])]"
      ]
     },
     "execution_count": 2,
     "metadata": {},
     "output_type": "execute_result"
    }
   ],
   "source": [
    "%proving rescale_in_IntervalCC presuming []"
   ]
  },
  {
   "cell_type": "code",
   "execution_count": null,
   "metadata": {},
   "outputs": [],
   "source": []
  }
 ],
 "metadata": {
  "kernelspec": {
   "display_name": "Python 3",
   "language": "python",
   "name": "python3"
  }
 },
 "nbformat": 4,
 "nbformat_minor": 0
}
