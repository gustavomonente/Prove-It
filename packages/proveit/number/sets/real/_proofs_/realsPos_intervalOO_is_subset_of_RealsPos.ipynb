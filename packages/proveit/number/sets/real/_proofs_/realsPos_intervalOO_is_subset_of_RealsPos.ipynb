{
 "cells": [
  {
   "cell_type": "markdown",
   "metadata": {},
   "source": [
    "Proof of <a class=\"ProveItLink\" href=\"../../../../_context_.ipynb\">proveit</a>.<a class=\"ProveItLink\" href=\"../../../_context_.ipynb\">number</a>.<a class=\"ProveItLink\" href=\"../../_context_.ipynb\">sets</a>.<a class=\"ProveItLink\" href=\"../_context_.ipynb\">real</a>.<a class=\"ProveItLink\" href=\"../_theorems_.ipynb#realsPos_intervalOO_is_subset_of_RealsPos\">realsPos_intervalOO_is_subset_of_RealsPos</a> theorem\n",
    "========"
   ]
  },
  {
   "cell_type": "code",
   "execution_count": 1,
   "metadata": {},
   "outputs": [],
   "source": [
    "import proveit\n",
    "context = proveit.Context('..') # the theorem's context is in the parent directory"
   ]
  },
  {
   "cell_type": "code",
   "execution_count": 2,
   "metadata": {},
   "outputs": [
    {
     "name": "stdout",
     "output_type": "stream",
     "text": [
      "Beginning proof of realsPos_intervalOO_is_subset_of_RealsPos\n",
      "Recorded 'presuming' information\n",
      "Presuming previous theorems (applied transitively).\n"
     ]
    },
    {
     "data": {
      "text/html": [
       "<strong id=\"realsPos_intervalOO_is_subset_of_RealsPos\">realsPos_intervalOO_is_subset_of_RealsPos:</strong> <a class=\"ProveItLink\" href=\"../__pv_it/4981e8532c9d5a768307c37dd44f60f5da162c540/expr.ipynb\"><img src=\"data:image/png;base64,iVBORw0KGgoAAAANSUhEUgAAAOUAAAAbBAMAAABxf1VMAAAAMFBMVEX///8QEBCIiIhmZma6urrM\n",
       "zMxUVFQiIiJERETc3Nzu7u6qqqp2dnaYmJgyMjIAAAAcRTyBAAAAAXRSTlMAQObYZgAAA6FJREFU\n",
       "SMfVlk1IFFEcwP/uh7s7O6sdBCEppuzDQ8HilCmpGEGdqj2EdRBczL4pLLMt87AY2KgYSweLDrkl\n",
       "hJi6Sx9IEThgHVwrNuggUrJZBmmJRIdaK/q/mdmZN7uri+shevB/8+Z9zO+9/9c8gP+r7F/ifDeK\n",
       "YXlIs3uJC7woJveymFn+NJjwclnMQhRbOK7T7kvBtOBOI6TxLg2kLYpVD93Tk4vV8bhpjjPCn/cd\n",
       "GtPgBBgljek0mCwuhs+6rg8oAwkmYNzmjjbInJ1dPfsVtzoHcINs2ZsGMyOIh3DquubJVri4eVab\n",
       "CN5O9ZxwSfYENpgGswsXWnTWMxFtMyvklzGPx9MQY5Zkacxi3Gqot/d6Oi70GkW/kK0j9UepfWuE\n",
       "PmeJVWOuQfkhCE1JrJUcJGrNcpR8YpjSwpWK5WryUWHDUvuiTrfuXRpzH+rnMEBr4seNyZmU/QQU\n",
       "4o87fFlzck9gmvkJMCEtD9JMe/20xqx2AewEJrIgc29kQeYn2R+YVWBUXHDID98ABqUopH0o1zMj\n",
       "tWTjd1WQYQMd2IMFhyY1JqtA7Gdbyjk9sx4lBydGwcLFtM38wnOQZifNfOZsowABZLJhdVPMUz5s\n",
       "YCHEsfw2frtkIqKje8NlwInsHRjm6/kgHYzIzPBCwBXrMc0rzB5drGw5SPs7Mm2Rytjr2ONeQOZ4\n",
       "WD1nNurD0X7Tj0xHv/6cLbJuAyIMKT2/yaFhd4JuRWs/FbTVRMWttVh1b5gCE/kiYYoqs3rtCTQ4\n",
       "FmT26ZnHZB8KBOG0kmS/w+2w4kNUZkCm2b1VW0f8Fh5gWDEN5ihIgYtM3qkyN/rz5YzMiUZezyRx\n",
       "hnFh5RznWQiQSafgMtal0ugMnftgNNOli2vIxj0ZneY66JaYxiPnNB9qhglG4nBFRyv0TLJf1CNT\n",
       "s75zHVgaia42EWeckkbv1vq1HO+yXp1X1xVLvX6SPA1uOCAIAmdgr70hP2R5Qg4UmS8IQjNwI5sJ\n",
       "00Xl2wo69z1R/bBOflZdUXJffJlUHdhnHfdnyrq1V2k/4yjkSVcK1O2jUFwEi3SOVxNUQo6PK0xU\n",
       "3bSveg+wLtmeIeUDtjZodHjhucxk++KuJiSZxzIYo5IGUqRph3o5MdXcLwNoJznhldhdrnw1Dypf\n",
       "oJdgSNqbvjB8XE46ScWhQ+1tTcG0uPTvBrSn7qIhPwrQnknKQLK7icOXgvk2xfjjRUftznRuNKmu\n",
       "B+HFhx+mwTT64Z+Uv9NX5odaSUMmAAAAAElFTkSuQmCC\n",
       "\" style=\"display:inline;vertical-align:middle;\" /></a><br>(see <a class=\"ProveItLink\" href=\"../__pv_it/4981e8532c9d5a768307c37dd44f60f5da162c540/dependencies.ipynb\">dependencies</a>)<br>"
      ],
      "text/plain": [
       "realsPos_intervalOO_is_subset_of_RealsPos: forall_{a in RealsPos, b in RealsPos} ((a,b) subset RealsPos)"
      ]
     },
     "execution_count": 2,
     "metadata": {},
     "output_type": "execute_result"
    }
   ],
   "source": [
    "%proving realsPos_intervalOO_is_subset_of_RealsPos presuming []"
   ]
  },
  {
   "cell_type": "code",
   "execution_count": null,
   "metadata": {},
   "outputs": [],
   "source": []
  }
 ],
 "metadata": {
  "kernelspec": {
   "display_name": "Python 3",
   "language": "python",
   "name": "python3"
  }
 },
 "nbformat": 4,
 "nbformat_minor": 0
}
