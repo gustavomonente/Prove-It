{
 "cells": [
  {
   "cell_type": "markdown",
   "metadata": {},
   "source": [
    "Proof of <a class=\"ProveItLink\" href=\"../../../../_context_.ipynb\">proveit</a>.<a class=\"ProveItLink\" href=\"../../../_context_.ipynb\">number</a>.<a class=\"ProveItLink\" href=\"../../_context_.ipynb\">sets</a>.<a class=\"ProveItLink\" href=\"../_context_.ipynb\">real</a>.<a class=\"ProveItLink\" href=\"../_theorems_.ipynb#all_in_IntervalOC_in_Reals\">all_in_IntervalOC_in_Reals</a> theorem\n",
    "========"
   ]
  },
  {
   "cell_type": "code",
   "execution_count": 1,
   "metadata": {},
   "outputs": [],
   "source": [
    "import proveit\n",
    "context = proveit.Context('..') # the theorem's context is in the parent directory"
   ]
  },
  {
   "cell_type": "code",
   "execution_count": 2,
   "metadata": {},
   "outputs": [
    {
     "name": "stdout",
     "output_type": "stream",
     "text": [
      "Beginning proof of all_in_IntervalOC_in_Reals\n",
      "Recorded 'presuming' information\n",
      "Presuming previous theorems (applied transitively).\n"
     ]
    },
    {
     "data": {
      "text/html": [
       "<strong id=\"all_in_IntervalOC_in_Reals\">all_in_IntervalOC_in_Reals:</strong> <a class=\"ProveItLink\" href=\"../__pv_it/b76d410654a60df7d95b0a73bc58b8ffd9c112170/expr.ipynb\"><img src=\"data:image/png;base64,iVBORw0KGgoAAAANSUhEUgAAAPYAAAAZBAMAAADwLs6sAAAAMFBMVEX///8QEBCIiIhmZma6urrM\n",
       "zMxUVFQiIiJERETc3Nzu7u6qqqp2dnaYmJgyMjIAAAAcRTyBAAAAAXRSTlMAQObYZgAAA39JREFU\n",
       "SMfdlk9IFFEcx3/uzLi7szNbhw6GEIvCJlgkLnlTBKkgqPakHQSlf1YHEak2TGTwUKMibhEVYTS5\n",
       "oLFZLUXIQodlJagtYgkhE5Ih8FCUdeiQnvq992bWt+u2zIKnfrDMvjff33xmfr/fe+8HUJb1RKKw\n",
       "NSZGBsv06IOts1v/JdubLXEzydgmuXx2znaqf1hs8mPVxGoVvlRllLLfkrlvztlO9V+LzprTcHzR\n",
       "ANmk7DskPppztkO92lB0WpsEj7cbIE3ZfgNASThnO9S789aiei0yZLOFKH70A8pWM/H47TJqzaE+\n",
       "TyINGxvfLUQxav5WWud/dH2wnDrfpPdy/5ftUNfibyp4c0+ADJ4YXMwrRYy50kDZpwFGilCOmv9g\n",
       "b9KneBe7EsYB5JTa76ZPOcfne64F30Q1KbuNVZ1tc3Unv5CrYn2Br/9qS4BnF+jZegHbxWZfwaGh\n",
       "rIv05kZpatcjQ6RYfH2U7QaXvQ3IL0NZlwIZwvITyaP5ZgiklCmeXaCHztxN4mJjduBd8LCRtGsV\n",
       "zfruNg9JgPSLspWs23ZeTMYB2Uvk2dvwjdWxuway1cc8u0BPcmAZceHYOMECxi1JbVI4oG2wvWY7\n",
       "DmLBFRBJmAmbZLCr5jyGFw3Zszyb6dP7g2GqJ1NyY2/YcuFijhNhNtjO53v0AznFWMxh5BR6X5TW\n",
       "wQ+MHSLP3G3Usv0zkBJCefs50buMXncr1XtxaibcZVguXK35jH2oI4NGnt0uhHO1Bs/RW2iQ+iBG\n",
       "2cKZC+Q6DMsy/a5AU09rHpvoJfgBTC8iLQQdlkuOPQ9wLDEB99hGk+D2VCWBWRJSjE2yUpFwdUOH\n",
       "rusBl3JjgSWsSbqs68MQeLM3n82yuAZMT1ZrNQQtlxz7EMB0zVQzq0r57OHcWbIC+s8E+MOMrWJc\n",
       "nkY9S0Yli7mvkwRqHZ/YzWL+IpPHVlmhSkD1kgbyGozHLRet6J4qvrb2VNtmuPO7Itp1BJQwy3cm\n",
       "5R2FAVWDV4ytzG46v+8rpsL0Mk7tlH5nLRet9FliW5pjiyeeNQOMkb3lfSrWIlVD+zsAD+bJN/hd\n",
       "DpmF7OmFdIbpYQDgYH1t1nLJLaeRUmjrDOXNhfmzdjN2qcN8l+hbqL4eeBetZO9gmydaomdKOu+Z\n",
       "PHkumqOe6VOpfi3rnC1meRfHXUj5vWKkSH+eLHaGOujPL/0FyTwZWAKYZzgAAAAASUVORK5CYII=\n",
       "\" style=\"display:inline;vertical-align:middle;\" /></a><br>(see <a class=\"ProveItLink\" href=\"../__pv_it/b76d410654a60df7d95b0a73bc58b8ffd9c112170/dependencies.ipynb\">dependencies</a>)<br>"
      ],
      "text/plain": [
       "all_in_IntervalOC_in_Reals: forall_{a in Reals, b in Reals} [forall_{x in (a,b]} (x in Reals)]"
      ]
     },
     "execution_count": 2,
     "metadata": {},
     "output_type": "execute_result"
    }
   ],
   "source": [
    "%proving all_in_IntervalOC_in_Reals presuming []"
   ]
  },
  {
   "cell_type": "code",
   "execution_count": null,
   "metadata": {},
   "outputs": [],
   "source": []
  }
 ],
 "metadata": {
  "kernelspec": {
   "display_name": "Python 3",
   "language": "python",
   "name": "python3"
  }
 },
 "nbformat": 4,
 "nbformat_minor": 0
}
