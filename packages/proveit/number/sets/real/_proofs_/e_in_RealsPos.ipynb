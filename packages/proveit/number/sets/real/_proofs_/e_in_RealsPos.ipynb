{
 "cells": [
  {
   "cell_type": "markdown",
   "metadata": {},
   "source": [
    "Proof of <a class=\"ProveItLink\" href=\"../../../../_context_.ipynb\">proveit</a>.<a class=\"ProveItLink\" href=\"../../../_context_.ipynb\">number</a>.<a class=\"ProveItLink\" href=\"../../_context_.ipynb\">sets</a>.<a class=\"ProveItLink\" href=\"../_context_.ipynb\">real</a>.<a class=\"ProveItLink\" href=\"../_theorems_.ipynb#e_in_RealsPos\">e_in_RealsPos</a> theorem\n",
    "========"
   ]
  },
  {
   "cell_type": "code",
   "execution_count": 1,
   "metadata": {},
   "outputs": [],
   "source": [
    "import proveit\n",
    "context = proveit.Context('..') # the theorem's context is in the parent directory"
   ]
  },
  {
   "cell_type": "code",
   "execution_count": 2,
   "metadata": {},
   "outputs": [
    {
     "name": "stdout",
     "output_type": "stream",
     "text": [
      "Beginning proof of e_in_RealsPos\n",
      "Recorded 'presuming' information\n",
      "Presuming previous theorems (applied transitively).\n"
     ]
    },
    {
     "data": {
      "text/html": [
       "<strong id=\"e_in_RealsPos\">e_in_RealsPos:</strong> <a class=\"ProveItLink\" href=\"../__pv_it/b72c4156d88a2f1215b6f1ad1fd4e189c5add4540/expr.ipynb\"><img src=\"data:image/png;base64,iVBORw0KGgoAAAANSUhEUgAAAD4AAAAUBAMAAAAn2JMnAAAAMFBMVEX///9EREQyMjKYmJhUVFTM\n",
       "zMyqqqoQEBAiIiK6urrc3NxmZmaIiIh2dnbu7u4AAADbMoQcAAAAAXRSTlMAQObYZgAAAMxJREFU\n",
       "KM9jYKAAOBCQF6CFPHO74Cd1YTz6mfgcWIXlGFiUlIqUlLHIM3JdYBBYgqnfsKNDASa/iwlDPvAc\n",
       "kv5djHB5vjunF4AoPWTzHabA5WcsAPIZGFgWIMmzdevB5PnKGF4HgESR3FfRoQZmgbSwFJ+xA7HD\n",
       "lYAA6r6bG+TgqvmhkbAQ2X87AxHyFyA0O7I84+MDMB4HUB7E4T6AJM/qsBXG41FgeA12ehtS+DJc\n",
       "YwmAcU8bG4DpJ5IP4PETwCj0DSPc50pAwhcFAAAopTEjrRAxZQAAAABJRU5ErkJggg==\n",
       "\" style=\"display:inline;vertical-align:middle;\" /></a><br>(see <a class=\"ProveItLink\" href=\"../__pv_it/b72c4156d88a2f1215b6f1ad1fd4e189c5add4540/dependencies.ipynb\">dependencies</a>)<br>"
      ],
      "text/plain": [
       "e_in_RealsPos: e in RealsPos"
      ]
     },
     "execution_count": 2,
     "metadata": {},
     "output_type": "execute_result"
    }
   ],
   "source": [
    "%proving e_in_RealsPos presuming []"
   ]
  },
  {
   "cell_type": "code",
   "execution_count": null,
   "metadata": {},
   "outputs": [],
   "source": []
  }
 ],
 "metadata": {
  "kernelspec": {
   "display_name": "Python 3",
   "language": "python",
   "name": "python3"
  }
 },
 "nbformat": 4,
 "nbformat_minor": 0
}
