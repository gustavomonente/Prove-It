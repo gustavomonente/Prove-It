{
 "cells": [
  {
   "cell_type": "markdown",
   "metadata": {},
   "source": [
    "Proof of <a class=\"ProveItLink\" href=\"../../../../_context_.ipynb\">proveit</a>.<a class=\"ProveItLink\" href=\"../../../_context_.ipynb\">number</a>.<a class=\"ProveItLink\" href=\"../../_context_.ipynb\">sets</a>.<a class=\"ProveItLink\" href=\"../_context_.ipynb\">real</a>.<a class=\"ProveItLink\" href=\"../_theorems_.ipynb#xInRealsNegInBool\">xInRealsNegInBool</a> theorem\n",
    "========"
   ]
  },
  {
   "cell_type": "code",
   "execution_count": 1,
   "metadata": {},
   "outputs": [],
   "source": [
    "import proveit\n",
    "context = proveit.Context('..') # the theorem's context is in the parent directory"
   ]
  },
  {
   "cell_type": "code",
   "execution_count": 2,
   "metadata": {},
   "outputs": [
    {
     "name": "stdout",
     "output_type": "stream",
     "text": [
      "Beginning proof of xInRealsNegInBool\n",
      "Recorded 'presuming' information\n",
      "Presuming previous theorems (applied transitively).\n"
     ]
    },
    {
     "data": {
      "text/html": [
       "<strong id=\"xInRealsNegInBool\">xInRealsNegInBool:</strong> <a class=\"ProveItLink\" href=\"../__pv_it/4e71c2f2ac40b3454439a048b62944863703dafa0/expr.ipynb\"><img src=\"data:image/png;base64,iVBORw0KGgoAAAANSUhEUgAAAK0AAAAaBAMAAAA3TsG9AAAAMFBMVEX///8QEBCIiIhmZma6urrM\n",
       "zMxUVFQiIiJERETc3Nzu7u6qqqp2dnaYmJgyMjIAAAAcRTyBAAAAAXRSTlMAQObYZgAAAptJREFU\n",
       "SMe1VT9oE1EY/8wluT8msYNDwCVaVMiURRGpEi2KgoepQ+kgNIgdXMSlBqzUGwqmXRonMwi9KUgR\n",
       "Gugg6CLRKVr8g9gOFU7BpWCNUsHq0u/13nv37t1dbvIH+b273y9879/3fQcQRKrMqD8KEXoiQh/l\n",
       "1B/nI/RkNVzf4NQfmXcRxkqoqhQYxeFOhK7aAA55+CyqCzYjGav5+c28sMhByT+an/9yG+8lUQJ4\n",
       "Hdj0S04BOC0YW7PhQh2BEy8E/CvG3CkAvQfQxFfdEs0DnAKwHoGme7eitmXfhMMajlMAOZw3I/r6\n",
       "X0Ye1mo1h8ZVGo53E5bsm/CcxD0BkO0uLj4UY2QHGHGMFb31Kg1vc4kB2Tfh1WMcD+LvT71+15cO\n",
       "DiXj0I2zHaIYG8I5pIXsTLq7EnwzOTmB42U8BBxnxbiaRekJrBamiZJuCHGfnvYyJfUbJP/MvZ+k\n",
       "TscrAMNgOGLcXJVSF97aF3dn8u7lQW1auAt9CyTfhJV1kqUYXIWEr27UEiUb6q4ysomg9zasCYlt\n",
       "bMm+CVoSoy2VSTWqvrvPlRjBL1dpCnmmnLMC622K69Wg6q5Xd0iL6Rw7UqHnW2VEjw/2iPk790Fo\n",
       "fNuyb0KaVPA4OfHZ65gx9k2VNsa0RelZogdF8PUKjDuqVOR8EHxcb/aFmw+wfAtnhu++pERK/tN6\n",
       "unvyU0IdZ9oT/lT3+VfhzXEc35OXfbvTbfsWgWRcKw7SftSasVnf+Qb1H2253pjP+g6pN5yViKle\n",
       "iv17PyeOS/drTki7yBUi/K+8N2acDHse4hSHJTtcN3h3aX3sdNnzCKc4fIrQs6EfonSbURwmo74X\n",
       "ldBdOIxiQDIqFOvh8jKn/mhG6P7PhIe9ZUb9cTJCV2z4b9gBqSrD5Em2g6oAAAAASUVORK5CYII=\n",
       "\" style=\"display:inline;vertical-align:middle;\" /></a><br>(see <a class=\"ProveItLink\" href=\"../__pv_it/4e71c2f2ac40b3454439a048b62944863703dafa0/dependencies.ipynb\">dependencies</a>)<br>"
      ],
      "text/plain": [
       "xInRealsNegInBool: forall_{x} ((x in RealsNeg) in BOOLEANS)"
      ]
     },
     "execution_count": 2,
     "metadata": {},
     "output_type": "execute_result"
    }
   ],
   "source": [
    "%proving xInRealsNegInBool presuming []"
   ]
  },
  {
   "cell_type": "code",
   "execution_count": null,
   "metadata": {},
   "outputs": [],
   "source": []
  }
 ],
 "metadata": {
  "kernelspec": {
   "display_name": "Python 3",
   "language": "python",
   "name": "python3"
  }
 },
 "nbformat": 4,
 "nbformat_minor": 0
}
