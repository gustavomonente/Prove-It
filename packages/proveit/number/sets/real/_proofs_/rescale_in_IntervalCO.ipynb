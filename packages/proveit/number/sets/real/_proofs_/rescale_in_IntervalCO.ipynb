{
 "cells": [
  {
   "cell_type": "markdown",
   "metadata": {},
   "source": [
    "Proof of <a class=\"ProveItLink\" href=\"../../../../_context_.ipynb\">proveit</a>.<a class=\"ProveItLink\" href=\"../../../_context_.ipynb\">number</a>.<a class=\"ProveItLink\" href=\"../../_context_.ipynb\">sets</a>.<a class=\"ProveItLink\" href=\"../_context_.ipynb\">real</a>.<a class=\"ProveItLink\" href=\"../_theorems_.ipynb#rescale_in_IntervalCO\">rescale_in_IntervalCO</a> theorem\n",
    "========"
   ]
  },
  {
   "cell_type": "code",
   "execution_count": 1,
   "metadata": {},
   "outputs": [],
   "source": [
    "import proveit\n",
    "context = proveit.Context('..') # the theorem's context is in the parent directory"
   ]
  },
  {
   "cell_type": "code",
   "execution_count": 2,
   "metadata": {},
   "outputs": [
    {
     "name": "stdout",
     "output_type": "stream",
     "text": [
      "Beginning proof of rescale_in_IntervalCO\n",
      "Recorded 'presuming' information\n",
      "Presuming previous theorems (applied transitively).\n"
     ]
    },
    {
     "data": {
      "text/html": [
       "<strong id=\"rescale_in_IntervalCO\">rescale_in_IntervalCO:</strong> <a class=\"ProveItLink\" href=\"../__pv_it/3b7c36da56c628548dfb8eeb0eb71bd6399a28a50/expr.ipynb\"><img src=\"data:image/png;base64,iVBORw0KGgoAAAANSUhEUgAAAYwAAAAZBAMAAADQywQ9AAAAMFBMVEX///8QEBCIiIhmZma6urrM\n",
       "zMxUVFQiIiJERETc3Nzu7u6qqqp2dnaYmJgyMjIAAAAcRTyBAAAAAXRSTlMAQObYZgAABORJREFU\n",
       "WMPtWH1oW1UUP03y8vE+kv7hHxtDiSl2A6eGhhVFOwOCA0Eb/9kQhIY5nR8wSpnLcGXU/qGpYxpU\n",
       "2iGIby10UqcJioyCwqOdqHGTMAbqYCOIExQ/9oeCi1M8951737vvJbWvi/gBXjh57553z++e373n\n",
       "3I8AdFd2lyrwT5dIabxbiFH4N5Tp/2mskUaiQeIvWltU3nwxIOQiF6TRZI/zXdAICvA6l7bymF9x\n",
       "MkC/6tM4gNEKCdL4hCm/7YJGUIBvuLSVt66GBiSzyKVJgjSOsPme6IJGQAAjS9Je9PTV0EjV8GeJ\n",
       "yzQkTQSqdUEjIECsQtIhPno50WdLB4PTGMZu4SiXaTDqCwsz3aR4QIAZLh3KV/avMmmuZTY+tCMr\n",
       "T4Ir1S/l8nhXK5UfYL805orz1scFljIFoZvtf3kzRtQypYgpBZWeucGxfGn5evFJsv06czs2y5Ig\n",
       "jYcBpjr4d18zKA0/QFGC0PKicpjLTC0ukFXLGIth5YJvwToJiQPwvLNHr4cfxYxKtr+b1QoYWGWC\n",
       "NO6iZBflxKaHvrQTj6ejNvbMVk8OehWjbQAuDQZxm6gc4DIOUZZIbHx1U29FcOpO2A0mJBoxC55g\n",
       "vrLa0Qbcyj+Qra3VWpBKg4bdM0EaMQiJTUl9L9cI6VBnXiZZZ28sD0Ha0medHtoUo20ALg0GMS8q\n",
       "15CEW3wwbS/jtu8jdvhd9wMWTuNOiqIqGx58HyMIbmtrw02oWqBcAluQht6Iia4+X1wApHGOeZXC\n",
       "YTIOvWKi18abzqrpVzAaPgCXBoNIVrw0evig76MWaYdGQp6NdXx1Y1DrQP2ZqtzW1uK2MVyTaSSa\n",
       "21E9138RIiyOGA2LYWcex3DBgl4ft0Mkk/YqBA0CWNrSX7ABkIY6sKfAIZyJ4kFVteT4G7Ezdpv9\n",
       "3uvSUK9Iy/EV0C7Rq2ybarBpimD3EQoqmNqFjZ9UWpAEopFj3mw0++ickbbCOfbcq/R6Fc6ZigGE\n",
       "zD2xfJLnxrHCiMkhtKI3xbF7EJuMZt6CdiLFB6TZ+A0/Chq/QrS5KFx3bFN59VqQUxzeQVfCWWUU\n",
       "5mwa4Uf2suckXFDtwU0P7mbLTXgCCh6FS4MBKPA9EADSyMEODgERESvLJOEizIlFc7j2AryKzzso\n",
       "VmoujUFQt4jaJHxWtOxckm2jjTg6E7ZIpnmA9tRCRdhRLpfTIf3FsxTLg8r+cnkS0h/fxLzuwV48\n",
       "CpcGRfhlIACksQH6OQQoYhHbxuXUeWeZm8/MDrGYowOt+ug9Dg399BlwWz2wMw8l02urDpxmGVIg\n",
       "YTQMbFGtxM+ZUQoq7UFm0kJnihRD79Z5vnoULg0GgJmmQJRmQ70Mhxc4RKS4+mGEH/YjH/3JYUQz\n",
       "O5ke4yLuGz2VkXtBL1Bu1K3Ec/CUMQEfkNf6cThi4p6flRT++8ZrelMnAOS6XvmpwSEM6685Guod\n",
       "N1/3aMhHYufbQwCH2Pb3qTW3VdkA208BxDGQtPHv1Fzz/lpi4IwpKfw05s8u1QkAadx9Y1+DQ4Sd\n",
       "+JuCzseFYAf12Y7z6B7U5RJioU1zSI9NmApUan5Fx9tfiHJDgkiufm2aCkKj0ckyXiFZ8RK7uOpN\n",
       "c+VLbFGGeH/VS6zRBr0x6CX2Cy4r0vB3Z8CaadgQava/8ZdCqf1/qoOSJmT+Lf9T7fsDyCOVZ64q\n",
       "o5QAAAAASUVORK5CYII=\n",
       "\" style=\"display:inline;vertical-align:middle;\" /></a><br>(see <a class=\"ProveItLink\" href=\"../__pv_it/3b7c36da56c628548dfb8eeb0eb71bd6399a28a50/dependencies.ipynb\">dependencies</a>)<br>"
      ],
      "text/plain": [
       "rescale_in_IntervalCO: forall_{a in Reals, b in Reals, c in Reals} [forall_{x in [a,b)} ((c * x) in [c * a,c * b))]"
      ]
     },
     "execution_count": 2,
     "metadata": {},
     "output_type": "execute_result"
    }
   ],
   "source": [
    "%proving rescale_in_IntervalCO presuming []"
   ]
  },
  {
   "cell_type": "code",
   "execution_count": null,
   "metadata": {},
   "outputs": [],
   "source": []
  }
 ],
 "metadata": {
  "kernelspec": {
   "display_name": "Python 3",
   "language": "python",
   "name": "python3"
  }
 },
 "nbformat": 4,
 "nbformat_minor": 0
}
