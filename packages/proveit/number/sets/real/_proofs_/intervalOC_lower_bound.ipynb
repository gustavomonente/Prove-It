{
 "cells": [
  {
   "cell_type": "markdown",
   "metadata": {},
   "source": [
    "Proof of <a class=\"ProveItLink\" href=\"../../../../_context_.ipynb\">proveit</a>.<a class=\"ProveItLink\" href=\"../../../_context_.ipynb\">number</a>.<a class=\"ProveItLink\" href=\"../../_context_.ipynb\">sets</a>.<a class=\"ProveItLink\" href=\"../_context_.ipynb\">real</a>.<a class=\"ProveItLink\" href=\"../_theorems_.ipynb#intervalOC_lower_bound\">intervalOC_lower_bound</a> theorem\n",
    "========"
   ]
  },
  {
   "cell_type": "code",
   "execution_count": 1,
   "metadata": {},
   "outputs": [],
   "source": [
    "import proveit\n",
    "context = proveit.Context('..') # the theorem's context is in the parent directory"
   ]
  },
  {
   "cell_type": "code",
   "execution_count": 2,
   "metadata": {},
   "outputs": [
    {
     "name": "stdout",
     "output_type": "stream",
     "text": [
      "Beginning proof of intervalOC_lower_bound\n",
      "Recorded 'presuming' information\n",
      "Presuming previous theorems (applied transitively).\n"
     ]
    },
    {
     "data": {
      "text/html": [
       "<strong id=\"intervalOC_lower_bound\">intervalOC_lower_bound:</strong> <a class=\"ProveItLink\" href=\"../__pv_it/36c7e6c448fccfee1a5cd5846ee2dbc751f231f20/expr.ipynb\"><img src=\"data:image/png;base64,iVBORw0KGgoAAAANSUhEUgAAAPQAAAAZBAMAAAD02x6RAAAAMFBMVEX///8QEBCIiIhmZma6urrM\n",
       "zMxUVFQiIiJERETc3Nzu7u6qqqp2dnaYmJgyMjIAAAAcRTyBAAAAAXRSTlMAQObYZgAAA19JREFU\n",
       "SMfdlk1oE0EUx1+T3SbZ7KYXL1qEpdFaKkJpsCdbqoLiQcmpvRRa6kfRQylVW6mpLD3I1lJYFKp4\n",
       "cbXQSowkKCIRwZDiwSiaQ0EtWBahB78giIKtF+djN5ndNukGenIgzM7M/+0v+96bmQdQVRsY1WBL\n",
       "Gjcaq9JiCLaszfyP6EC+/Fqaog3cfXKPdqu/X2GtViPo1/j5q3u0W/2XCmuCQdC3sHMU92iXeqnF\n",
       "MRFcYQZZgg7pAGLKPdql3ufYhNJ5duIuQUu5ePxmFWnmUu+QeGI6Owx1kgz/o6qxajJ8nT7APC9b\n",
       "fg7jhQOtO+goMWxFueHsIeRtsYWgTwNMbgA5YZRBr9NnWBMrC6bR76AWKpDB7LglScB7+Qpyv0HQ\n",
       "h2nCWe1p08nPuBfN/x8cvtohs2iHnu4UsEws9GX0hTvBS4a134riHLzTj6GXDhG0DzzW7heeR/Ie\n",
       "EXIYFcKp9GChHeSMeI9FO/TQU4pgqoTeBuBdAx/503MltA4q7vgCQYt5n7XwIR0HhF7Cr65DHyNN\n",
       "3dYRWnrIoh16HACzYRMGXaNAMkoGN8ZLTvrJoANGFw5H4wpw2McYjaPX23AO+RY1hE6waKrP7m+M\n",
       "Ej2eEloHo6YJ4/BkBl6AI82A/03uLepwmDyFjC/yaxACio7gV+7Rw/TQlDPeiO0Mx3qPPujrJPoA\n",
       "mpqP9uqmCZNmyRQMBjX75nrmKUBzMc3gMTL2tvBDMEtE3jMXcD8BywL5KrltoNOGxnoefgDVcwgW\n",
       "gW7TpIheAPDL0ohoP1K4v/4Cvle8GYquQ7lQk/L0QbeqqrJHvL5Ig9XGX1LVCZBf7bOj60jurALV\n",
       "c30A9dBomhTRR5En+3fP7LIfpEJ/cxhfPaEoRUvIF0nNv6TXUocHe7Bz1tAL+6jDn+RsaKxHicID\n",
       "0fMKCKswHTdNlDIHqb3NM/d1jdZ7HMQojXUuE7gGY5ICLylaTKy7r++Ihkj1Aprazv/KmyZKuevD\n",
       "1rIMmut/1A4whY+Ut5nZDr4eut6gaKGNGox9FyKGEz23mM1RPYwBHNkbzpsmxTttcvNL03bIo9iZ\n",
       "kaFdE4p1hSqF6PcCa6K4KRX8WoUCKe2+QPLbTBQ3BdLHSrVZ3j2ay7MmrouOqsvC0Q3q8PRGl+bm\n",
       "dfjIP3hdBKxRzRQMAAAAAElFTkSuQmCC\n",
       "\" style=\"display:inline;vertical-align:middle;\" /></a><br>(see <a class=\"ProveItLink\" href=\"../__pv_it/36c7e6c448fccfee1a5cd5846ee2dbc751f231f20/dependencies.ipynb\">dependencies</a>)<br>"
      ],
      "text/plain": [
       "intervalOC_lower_bound: forall_{a in Reals, b in Reals} [forall_{x in (a,b]} (a < x)]"
      ]
     },
     "execution_count": 2,
     "metadata": {},
     "output_type": "execute_result"
    }
   ],
   "source": [
    "%proving intervalOC_lower_bound presuming []"
   ]
  },
  {
   "cell_type": "code",
   "execution_count": null,
   "metadata": {},
   "outputs": [],
   "source": []
  }
 ],
 "metadata": {
  "kernelspec": {
   "display_name": "Python 3",
   "language": "python",
   "name": "python3"
  }
 },
 "nbformat": 4,
 "nbformat_minor": 0
}
