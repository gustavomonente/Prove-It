{
 "cells": [
  {
   "cell_type": "markdown",
   "metadata": {},
   "source": [
    "Proof of <a class=\"ProveItLink\" href=\"../../../../_context_.ipynb\">proveit</a>.<a class=\"ProveItLink\" href=\"../../../_context_.ipynb\">number</a>.<a class=\"ProveItLink\" href=\"../../_context_.ipynb\">sets</a>.<a class=\"ProveItLink\" href=\"../_context_.ipynb\">real</a>.<a class=\"ProveItLink\" href=\"../_theorems_.ipynb#realsPos_intervalCC_is_subset_of_RealsPos\">realsPos_intervalCC_is_subset_of_RealsPos</a> theorem\n",
    "========"
   ]
  },
  {
   "cell_type": "code",
   "execution_count": 1,
   "metadata": {},
   "outputs": [],
   "source": [
    "import proveit\n",
    "context = proveit.Context('..') # the theorem's context is in the parent directory"
   ]
  },
  {
   "cell_type": "code",
   "execution_count": 2,
   "metadata": {},
   "outputs": [
    {
     "name": "stdout",
     "output_type": "stream",
     "text": [
      "Beginning proof of realsPos_intervalCC_is_subset_of_RealsPos\n",
      "Recorded 'presuming' information\n",
      "Presuming previous theorems (applied transitively).\n"
     ]
    },
    {
     "data": {
      "text/html": [
       "<strong id=\"realsPos_intervalCC_is_subset_of_RealsPos\">realsPos_intervalCC_is_subset_of_RealsPos:</strong> <a class=\"ProveItLink\" href=\"../__pv_it/e9d9abfaf6b3a9e51776e601f61af05a06e76a240/expr.ipynb\"><img src=\"data:image/png;base64,iVBORw0KGgoAAAANSUhEUgAAAOEAAAAbBAMAAAB4lPU2AAAAMFBMVEX///8QEBCIiIhmZma6urrM\n",
       "zMxUVFQiIiJERETc3Nzu7u6qqqp2dnaYmJgyMjIAAAAcRTyBAAAAAXRSTlMAQObYZgAAA3hJREFU\n",
       "SMfV1l9IE3EcAPCvu81tt5v2EAhJcWZ/fKgYXplSyiLordxDWA/ChtkfisJSW5nEMLBTMUYPFj3U\n",
       "lRBi2kZ/iCLwQHtwVizoQaRkGfWgNSR6qFnR7+53u9/dOaebD9EPbvvd7+5+n999f3/uB/A/pf0Z\n",
       "3e1Dh2l5oMWX0e0BdJh9yxLzhIxFeLUssRRFKe7Rl002pRetqJUxKfM+C9CeAGDcmoK+AvQzor/J\n",
       "eZr/86GbiCYXwJiUmc5CZFwGET7OFyGP9lm6OyE3Hl8T/4qaOQtwXWpuIAsxJ2wU51KINrsIgR71\n",
       "HeEC7n8mnIV4SzCI5gQRx/1+f3NSrMgjYjmKdKS//1o2A+cNGESmQRVvjmrfscJGxCJ0/OD51hS9\n",
       "lJoRSbYKi/adpauULqsrDivieV1UfXuIWI0icxigY37VVGrRRbI8FncF82ZxQWia/olFKqwVHY3T\n",
       "RPSi6bQb6NiC4r7YguJnWaRXA6WMuyEBvmHRqh05Bf4ZORfEve+WLpuimjqflByaIiKjEI4z7VWs\n",
       "XmyURSoBVjYZZvoXFnu04oirU1N9CIlMVG0S/ZyLmhiIsAy3ndsh940Un3vDlcCKzB0Y5hq5sHb2\n",
       "Me6cAIQ8yQLzHBb7dLNj60HtCEeiPVaTPB1/2g9InIiq75iPYuHsuiEg0Tmof8d2WQyJMKQU/Ab0\n",
       "wvOjKtoGWXLulYLbUY9+ejd8ArNUnySKquhdexx1NEpIHNCLx7AYhlMO3EXf4XYUiwyrFS2+beQp\n",
       "aazCQzSP6GZLAuSJikTOpYobhWK88rIixenFIlm0sc6zDISke07CpeR8nNGucjCW69HNYshHLaJc\n",
       "lgbolUXqSBMZOW0wScsKW3bUrRer5TWHrlvfsw6sLVKYNkWT4t16gazkHtuVOfWpcrlUkBZJkw8O\n",
       "8DzPmpirb6XPLb5hJZRZzvF8G7CjmyVR83HKcWvWnGfJUmWVq72srHLGNKUO2qBtQsjFUXXUkk9t\n",
       "Agrl7QKK6uOIYcaKGlE0iAslOqE2OOjdC4wH92NEed7eCS3OALzAIjNg2HSsICLNLlF0qtsOc92D\n",
       "SoAuaQV4LfZWKXUWQs1LNNzQFHS0fqE5w/pzgohOWKJoNewZTKgftecO/FeC+jFFuo8euGioYUtT\n",
       "evHdIh+kp2mvOlyZ71QW+/RH019+lLFICfAP0l/q0ujhJv1LNwAAAABJRU5ErkJggg==\n",
       "\" style=\"display:inline;vertical-align:middle;\" /></a><br>(see <a class=\"ProveItLink\" href=\"../__pv_it/e9d9abfaf6b3a9e51776e601f61af05a06e76a240/dependencies.ipynb\">dependencies</a>)<br>"
      ],
      "text/plain": [
       "realsPos_intervalCC_is_subset_of_RealsPos: forall_{a in RealsPos, b in RealsPos} ([a,b] subset RealsPos)"
      ]
     },
     "execution_count": 2,
     "metadata": {},
     "output_type": "execute_result"
    }
   ],
   "source": [
    "%proving realsPos_intervalCC_is_subset_of_RealsPos presuming []"
   ]
  },
  {
   "cell_type": "code",
   "execution_count": null,
   "metadata": {},
   "outputs": [],
   "source": []
  }
 ],
 "metadata": {
  "kernelspec": {
   "display_name": "Python 3",
   "language": "python",
   "name": "python3"
  }
 },
 "nbformat": 4,
 "nbformat_minor": 0
}
