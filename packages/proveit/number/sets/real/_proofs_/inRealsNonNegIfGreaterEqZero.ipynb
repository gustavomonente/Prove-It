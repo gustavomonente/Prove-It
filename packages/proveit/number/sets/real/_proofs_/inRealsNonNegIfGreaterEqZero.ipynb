{
 "cells": [
  {
   "cell_type": "markdown",
   "metadata": {},
   "source": [
    "Proof of <a class=\"ProveItLink\" href=\"../../../../_context_.ipynb\">proveit</a>.<a class=\"ProveItLink\" href=\"../../../_context_.ipynb\">number</a>.<a class=\"ProveItLink\" href=\"../../_context_.ipynb\">sets</a>.<a class=\"ProveItLink\" href=\"../_context_.ipynb\">real</a>.<a class=\"ProveItLink\" href=\"../_theorems_.ipynb#inRealsNonNegIfGreaterEqZero\">inRealsNonNegIfGreaterEqZero</a> theorem\n",
    "========"
   ]
  },
  {
   "cell_type": "code",
   "execution_count": 1,
   "metadata": {},
   "outputs": [],
   "source": [
    "import proveit\n",
    "context = proveit.Context('..') # the theorem's context is in the parent directory"
   ]
  },
  {
   "cell_type": "code",
   "execution_count": 2,
   "metadata": {},
   "outputs": [
    {
     "name": "stdout",
     "output_type": "stream",
     "text": [
      "Beginning proof of inRealsNonNegIfGreaterEqZero\n",
      "Recorded 'presuming' information\n",
      "Presuming previous theorems (applied transitively).\n"
     ]
    },
    {
     "data": {
      "text/html": [
       "<strong id=\"inRealsNonNegIfGreaterEqZero\">inRealsNonNegIfGreaterEqZero:</strong> <a class=\"ProveItLink\" href=\"../__pv_it/019fed41aa938770b0427ed8ffd0614617ed73ea0/expr.ipynb\"><img src=\"data:image/png;base64,iVBORw0KGgoAAAANSUhEUgAAAMEAAAAcBAMAAAAqzMZeAAAAMFBMVEX///8QEBCIiIhmZma6urrM\n",
       "zMxUVFQiIiJERETc3Nzu7u6qqqp2dnaYmJgyMjIAAAAcRTyBAAAAAXRSTlMAQObYZgAAAutJREFU\n",
       "SMe9lU1oE0EUx//dzTabzTbxJirCSrUUBQmNQgpaKkJPiiuI7UFoqB8oQqm0mkM95FA1rVSChdqb\n",
       "CwWFUG1QUQTBIB6kVVnBg5QKsaKHCtKDgq0gvtlNk9k0rptKfbDJfP9m5r33H2CtTHiWW6ulfWes\n",
       "v1k8/Kdljrj0jZxkv30IG8LqAVLcrXfkEqB8R03WF181IWS4dk8MQFqE38SrVROa/tI/MS8twa/B\n",
       "TzvJs4b3VQICSxUa686lfn0Ytss7TTpDjQYhAkyzhvkqCWqk4tUpcWl4iApKY5b5IdyKwAIwxraU\n",
       "rJJQk63UKgdySI4S4EVrIZaAfttnarZKwk2Ho98lEvllQnMISowBUG/lQ4xubyqTuVGto9/wlY7t\n",
       "3BmaZUi6ndMv2VVuoe9HKnWxWkILu9o9TRtZWZnnbyne5hx5iE5LCThYMfldhCZF3750aIGVa9Mc\n",
       "IdhbFjSddKD9UPJc06PG43P2eBeh+Uxb3wwx6RwnB9YnvgDBFNnQssfIJ34IZqGqPImagoopzTmT\n",
       "E5pCQy8gWhlFdvgrWcHTzyNDZQefJIJq+otB8TgDIsyYZYSS0BTqHylgk5i0XDrGR+uujvKoI0Ig\n",
       "f5RK4w2f4GPOZ4RciaA0deu80Nh2mTaXw1M7N3iCfEcr8wPz0uAJWug86UgINiEaKRFu650GLzS2\n",
       "nSZCFt1BNl3UOIIU370ylnC/h4ZFpB6MWwTxVB/n6SjaHUJjG0W5rNVdUK1KP6camK7VV2ZOWGMy\n",
       "IMTRTjGgCer1txxhExocQlPcmdK1bXSrVbk1YBSVT5ev/XQQYlYPDZhMyzNGrX1LwWNGkaAsYjjj\n",
       "EBr77lv5VQ5cSeT/lJtzRSlLdx6Eqtt+mOI8vUH6ZjqExjLR6yOvFGXe13VvL3CVZdzr3HhLidC2\n",
       "o950CI39iK7zSKgre0YF8kMp9txmnvVI8Osuna6Eux4Js/BEcAhNoSni7bV1fdpE17kPPBFEA//B\n",
       "fgPas8XDza+mNgAAAABJRU5ErkJggg==\n",
       "\" style=\"display:inline;vertical-align:middle;\" /></a><br>(see <a class=\"ProveItLink\" href=\"../__pv_it/019fed41aa938770b0427ed8ffd0614617ed73ea0/dependencies.ipynb\">dependencies</a>)<br>"
      ],
      "text/plain": [
       "inRealsNonNegIfGreaterEqZero: forall_{a in Reals | a >= 0} (a in RealsNonNeg)"
      ]
     },
     "execution_count": 2,
     "metadata": {},
     "output_type": "execute_result"
    }
   ],
   "source": [
    "%proving inRealsNonNegIfGreaterEqZero presuming []"
   ]
  },
  {
   "cell_type": "code",
   "execution_count": null,
   "metadata": {},
   "outputs": [],
   "source": []
  }
 ],
 "metadata": {
  "kernelspec": {
   "display_name": "Python 3",
   "language": "python",
   "name": "python3"
  }
 },
 "nbformat": 4,
 "nbformat_minor": 0
}
