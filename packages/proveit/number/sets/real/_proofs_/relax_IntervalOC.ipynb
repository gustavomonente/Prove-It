{
 "cells": [
  {
   "cell_type": "markdown",
   "metadata": {},
   "source": [
    "Proof of <a class=\"ProveItLink\" href=\"../../../../_context_.ipynb\">proveit</a>.<a class=\"ProveItLink\" href=\"../../../_context_.ipynb\">number</a>.<a class=\"ProveItLink\" href=\"../../_context_.ipynb\">sets</a>.<a class=\"ProveItLink\" href=\"../_context_.ipynb\">real</a>.<a class=\"ProveItLink\" href=\"../_theorems_.ipynb#relax_IntervalOC\">relax_IntervalOC</a> theorem\n",
    "========"
   ]
  },
  {
   "cell_type": "code",
   "execution_count": 1,
   "metadata": {},
   "outputs": [],
   "source": [
    "import proveit\n",
    "context = proveit.Context('..') # the theorem's context is in the parent directory"
   ]
  },
  {
   "cell_type": "code",
   "execution_count": 2,
   "metadata": {},
   "outputs": [
    {
     "name": "stdout",
     "output_type": "stream",
     "text": [
      "Beginning proof of relax_IntervalOC\n",
      "Recorded 'presuming' information\n",
      "Presuming previous theorems (applied transitively).\n"
     ]
    },
    {
     "data": {
      "text/html": [
       "<strong id=\"relax_IntervalOC\">relax_IntervalOC:</strong> <a class=\"ProveItLink\" href=\"../__pv_it/4ce1c9b79664cf30e0fd20ab46bd6c9aabb43b7c0/expr.ipynb\"><img src=\"data:image/png;base64,iVBORw0KGgoAAAANSUhEUgAAAQ8AAAAZBAMAAADd+bY/AAAAMFBMVEX///8QEBCIiIhmZma6urrM\n",
       "zMxUVFQiIiJERETc3Nzu7u6qqqp2dnaYmJgyMjIAAAAcRTyBAAAAAXRSTlMAQObYZgAAA9xJREFU\n",
       "SMfdl19IU1Ecx39uu267u3fzoZeS4uJKQynEkS+prYKkoNyTvggb9sfsQSQqwyRuPtRMhNFDRS9d\n",
       "EiqWuVGEKEEXLar17z4IhZCMyKSokChIg+j8uXPnbmveEb504XJ3Dt/fOZ9zfr/fOb8BFPS0d0dg\n",
       "BZ7GbrVAiy5YmccZ+v9BnFqu3s2zxrY453dFKEgSt9+aBzGrv5mz9yHzmz+DliX4oYOCPMN9n8yD\n",
       "mNV/XBYE3NUEZISCXMYf2TyISb1YvTyIJ05ABImAuBXUipsHMam3G9JcPNd9OhukSSEgfAkBERPR\n",
       "6KUCgtWk3iDh+pRcO/IYCAi8p1nzMxzuLSRrsvRO5vdMyiNeHI1lHTsmcGNEYVzjrKtZQxsfyrYS\n",
       "kEkKchCgP8eU+5J/AcnSq6xJKnoG0TsMryXikQ42RrZH3PM0a34rsQgGmaEgO4Fn5xzduP8d/gr6\n",
       "2lxHzzZILEiGHoqXogGbpEBOoTcBr5TduCEzIPxasNK2axE8EgYZpSB2sKTOHv6+T7MIkMATu3FA\n",
       "3pqsB0kVrrEgGXpoTadjPD3nKvQqEKYhsu4renQQ6yLY6cKsSYipGCRIQQTNnhrpzVgUEMg0nsiD\n",
       "FioOXFEQiHibBcnQY1el0jFiBAH4RoOI3ZEiGWKB1DHSFGdAnMlm1DtUPgs27A0Mgr0eLDuCvIAe\n",
       "BDLMglD9xJbyANHjLr6mM6CbsK4B7gdtlDAgMRUe6NwabFMwSKN+1/QfQEMd5xbBDRTEhyeoULz0\n",
       "OJdUq89w12C9Rem0+4neibpuBIKKbsIG67hlHipxo4YFiUMnuV7A40fxwgQr3EVDWau5LhgiINZD\n",
       "x/C3D2Z4smKptt1vAMF6Dr4A1dvQ1D5o0U2WQFBK2n455unVZ4+nQRySeEKAGFpjseaoJiB1OogH\n",
       "xU5R3BKClnA4LFmEC1PUybXcyXC4D6Snm4wgHhJrC0D1NjREKZTrJksgaLv5tkovvR35w3vSWdO2\n",
       "4eJ6sPdgh76gB9qsDiKibY1FHNNKMXWNqxXv8yIaPkRdcy9hAMF64OY5IHpOBn4BBqO6iZzziLc9\n",
       "yTzix1Mpj474LqYeKYoE94IQoDGSUJ3noUeU4REFEYaz6pGrQlKgejzMau67ppvIJi89NQ2iX3o6\n",
       "ctudeoABfKC9VIcauFJofg7gQL519X7mfclMkOtTEwmqB7TJu6q8mm6ylKn9eUF4KQ0ykl2hWZDP\n",
       "9fOUfjaiGMlToRF9FbAmsrnCSIQ0SH++UnHMfKnoMJjI+UvFioxS0TLnFyP5QDTzIDaNNTFdYv1j\n",
       "8dyd43/NWK4yoND/NaE/o2oqI2e39V0AAAAASUVORK5CYII=\n",
       "\" style=\"display:inline;vertical-align:middle;\" /></a><br>(see <a class=\"ProveItLink\" href=\"../__pv_it/4ce1c9b79664cf30e0fd20ab46bd6c9aabb43b7c0/dependencies.ipynb\">dependencies</a>)<br>"
      ],
      "text/plain": [
       "relax_IntervalOC: forall_{a in Reals, b in Reals} [forall_{x in (a,b]} (x in [a,b])]"
      ]
     },
     "execution_count": 2,
     "metadata": {},
     "output_type": "execute_result"
    }
   ],
   "source": [
    "%proving relax_IntervalOC presuming []"
   ]
  },
  {
   "cell_type": "code",
   "execution_count": null,
   "metadata": {},
   "outputs": [],
   "source": []
  }
 ],
 "metadata": {
  "kernelspec": {
   "display_name": "Python 3",
   "language": "python",
   "name": "python3"
  }
 },
 "nbformat": 4,
 "nbformat_minor": 0
}
