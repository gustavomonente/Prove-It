{
 "cells": [
  {
   "cell_type": "markdown",
   "metadata": {},
   "source": [
    "Proof of <a class=\"ProveItLink\" href=\"../../../../_context_.ipynb\">proveit</a>.<a class=\"ProveItLink\" href=\"../../../_context_.ipynb\">number</a>.<a class=\"ProveItLink\" href=\"../../_context_.ipynb\">sets</a>.<a class=\"ProveItLink\" href=\"../_context_.ipynb\">real</a>.<a class=\"ProveItLink\" href=\"../_theorems_.ipynb#intervalCC_upper_bound\">intervalCC_upper_bound</a> theorem\n",
    "========"
   ]
  },
  {
   "cell_type": "code",
   "execution_count": 1,
   "metadata": {},
   "outputs": [],
   "source": [
    "import proveit\n",
    "context = proveit.Context('..') # the theorem's context is in the parent directory"
   ]
  },
  {
   "cell_type": "code",
   "execution_count": 2,
   "metadata": {},
   "outputs": [
    {
     "name": "stdout",
     "output_type": "stream",
     "text": [
      "Beginning proof of intervalCC_upper_bound\n",
      "Recorded 'presuming' information\n",
      "Presuming previous theorems (applied transitively).\n"
     ]
    },
    {
     "data": {
      "text/html": [
       "<strong id=\"intervalCC_upper_bound\">intervalCC_upper_bound:</strong> <a class=\"ProveItLink\" href=\"../__pv_it/560c738bc95197c7fe5501d6bf2bc2cdf7fd6cd60/expr.ipynb\"><img src=\"data:image/png;base64,iVBORw0KGgoAAAANSUhEUgAAAPAAAAAZBAMAAAD9ML7rAAAAMFBMVEX///8QEBCIiIhmZma6urrM\n",
       "zMxUVFQiIiJERETc3Nzu7u6qqqp2dnaYmJgyMjIAAAAcRTyBAAAAAXRSTlMAQObYZgAAA2xJREFU\n",
       "SMfdlk1oE0EUx1+TbJNsdtOLFynC0kJa/MDQYEWkNSDoSbun1oPQoFbBQylFbdUisYhsLdUgoiKI\n",
       "awutxEqDIlIQCSlSjB/soaAWLIugoih48GBzEN/M7Ca72zRuoCcfZCc7+b/5zbw3mXkA1VjtwGlY\n",
       "C/MNDFXn4Ie1suv/HTiorfrTLAPrpPngHuxSf69sL3++DzdKioJfko5v7sEu9V+dHU0yeYajSNcp\n",
       "+CaJS9I92J1ejDqWOi/Rti6DjxwFh1UAIeMe7E7vT9kzvt1IeQd6w10KFvPp9I0qNpc7vV0R7DVn\n",
       "Ok/jHae7+reiDFWzq536QcvilswIN+JnPHJtMw0wdzluCj437MSARSm4B2CkDGO/vgrYqU9YPczk\n",
       "j2Fas2K/nw6iyMVU/1FnUiDqFLybbTPTnjQf/khawZh8qP9iu2QFO/QlMPEwwWfxVRUKPhqNpo2m\n",
       "JFSAOglCfRTsB4/5Z+efxjSPAHkCCpO03J9rAykrjFvBDn0JTDxM8Dr8EQLm29u88cWrw0wWuJ8U\n",
       "LGjF8+jdbBoQvEgGrsPJiqO3VASLD6xgh74EJh4WMJDFGfZshzG3KHRkTHBQ78Suicgn8JHoEnAW\n",
       "2+6G4xhVNARPW8FMn9sWkakewXxLr2x4WEKNHXJpx/SwuWmwSwUfCzWMHMG4nOQKEAYGjpEBm9RG\n",
       "djxKWW/MdlYTvUft9cfDRo6n5G7V8LBsrpC6FWWm54ELFBznN4C5ueARTsAb5fpggoK9R0+QdhiW\n",
       "eLoiqfVY3AYmeg5+ANMjOAZdhkcRPIdnReYK3LZcR2T5tVoAx/RmGZikoibjSUCXoiiSR7i6wLLU\n",
       "yg0qyjBIL7bYwSx1y8D0CK6HiOFRBO8FmGwYb3NeUXzLa5JpmYFFjMdMKrCo1rJQhw6SABVwvAQL\n",
       "9eO8DUz0uEE4qGUr5pdhLG14JMsfmXabstzHNanufSDILMf5bPASnBGT8JyBhekV9/EdQReYHme3\n",
       "nvulGR7JVS4Jm+UsYN+hh20Ao+QAeZOdaOfqofMVQAD/maGh73xMd4InF3J5pkfwnk2NmuFRvLYs\n",
       "hxv/ZYBY6fjSV1QgHpIzdsSwphlzXKEC8bAcWzySlQsBaoFUhdJn1n3pk7B6JF2UPu8r1Vxa1WDN\n",
       "Dl7rYq9MXX2u3LX4z7r61F/Qb/4t7NPHJQAAAABJRU5ErkJggg==\n",
       "\" style=\"display:inline;vertical-align:middle;\" /></a><br>(see <a class=\"ProveItLink\" href=\"../__pv_it/560c738bc95197c7fe5501d6bf2bc2cdf7fd6cd60/dependencies.ipynb\">dependencies</a>)<br>"
      ],
      "text/plain": [
       "intervalCC_upper_bound: forall_{a in Reals, b in Reals} [forall_{x in [a,b]} (x <= b)]"
      ]
     },
     "execution_count": 2,
     "metadata": {},
     "output_type": "execute_result"
    }
   ],
   "source": [
    "%proving intervalCC_upper_bound presuming []"
   ]
  },
  {
   "cell_type": "code",
   "execution_count": null,
   "metadata": {},
   "outputs": [],
   "source": []
  }
 ],
 "metadata": {
  "kernelspec": {
   "display_name": "Python 3",
   "language": "python",
   "name": "python3"
  }
 },
 "nbformat": 4,
 "nbformat_minor": 0
}
