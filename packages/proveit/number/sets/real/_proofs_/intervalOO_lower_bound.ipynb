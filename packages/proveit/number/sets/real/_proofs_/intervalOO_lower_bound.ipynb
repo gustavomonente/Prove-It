{
 "cells": [
  {
   "cell_type": "markdown",
   "metadata": {},
   "source": [
    "Proof of <a class=\"ProveItLink\" href=\"../../../../_context_.ipynb\">proveit</a>.<a class=\"ProveItLink\" href=\"../../../_context_.ipynb\">number</a>.<a class=\"ProveItLink\" href=\"../../_context_.ipynb\">sets</a>.<a class=\"ProveItLink\" href=\"../_context_.ipynb\">real</a>.<a class=\"ProveItLink\" href=\"../_theorems_.ipynb#intervalOO_lower_bound\">intervalOO_lower_bound</a> theorem\n",
    "========"
   ]
  },
  {
   "cell_type": "code",
   "execution_count": 1,
   "metadata": {},
   "outputs": [],
   "source": [
    "import proveit\n",
    "context = proveit.Context('..') # the theorem's context is in the parent directory"
   ]
  },
  {
   "cell_type": "code",
   "execution_count": 2,
   "metadata": {},
   "outputs": [
    {
     "name": "stdout",
     "output_type": "stream",
     "text": [
      "Beginning proof of intervalOO_lower_bound\n",
      "Recorded 'presuming' information\n",
      "Presuming previous theorems (applied transitively).\n"
     ]
    },
    {
     "data": {
      "text/html": [
       "<strong id=\"intervalOO_lower_bound\">intervalOO_lower_bound:</strong> <a class=\"ProveItLink\" href=\"../__pv_it/4050f0f82fca3561c9fcefd02fbb4f36e9ae7d8a0/expr.ipynb\"><img src=\"data:image/png;base64,iVBORw0KGgoAAAANSUhEUgAAAPYAAAAZBAMAAADwLs6sAAAAMFBMVEX///8QEBCIiIhmZma6urrM\n",
       "zMxUVFQiIiJERETc3Nzu7u6qqqp2dnaYmJgyMjIAAAAcRTyBAAAAAXRSTlMAQObYZgAAA29JREFU\n",
       "SMfdlk9o01Acx39Lk7VNk+ziRYcQVp1jQygrDgQ3qoLiQelpuwxW5p+hhzGmbjI7KTtI5hgEhSle\n",
       "jA42qZUORWSiGDo8WEV7GKgDpQg7+A+KKLh58f1J2iRbawrz4oOSvPe+v/dpfr/fe+8HUFXrG1Zh\n",
       "Yxo7HK/SYgA2rk39n2x/rvzcPGXn8eO9e7Zr/e0Kc7UqYb/A75/ds13rP1WY4/OEfQ27J+Ge7VYv\n",
       "hhwDgWVLJ0PYkgYgzLlnu9V7HZtRPG0duEnYYjaZvFpFrrnVOzRMXLN2pQjJ81+KEq8mz9fo/ZZ3\n",
       "rvgWxDN7WrfQXmrQjHTDyX3I4UKIsI8DjK9DOZIvw16j1y0mgYjZmUS/vapUIJ3pUXM4BW/kCygC\n",
       "ecLeT7PObA+bjn7ET8HIlcDgxQ7Zynbo6X4B02S32TmPvnEreEhW1n4pqrPwWjuEVh0gbC8w5inA\n",
       "Pw7nGAGymCXhfLqz0A6yLtyysh166C4FEZnMmJ1NAJ5V8JK/PVNia6CQ2BQIW8h5zYm380lA7CW8\n",
       "dh36HHHiuobY4l0r26HHMTAaNpHUErsmAeko6VwZLfnpu4Xtz3fiiDQuA4vdjNk4gj0Np5B7UUPs\n",
       "lJVN9ZldjVGix0N8a3/UMCn6BPk8rcNTcOQacD/JLUZ9DuPHkPVZbhUkoOwwXnOHFqTnp6x7wrbz\n",
       "HOsZrd8bIXo/GpqN9miGSSBWyrX0HPQHVPsee8QUoLmYa3AfWXtC3ABME5HnxBn8HIMPPPkuua0v\n",
       "YmNjPQffgOpZlE1h6DJMSJe0BQCfLA4J9rOF/e0r4EvGo1N2HcqHmjkmBl2KosiMcHmRxquNO6co\n",
       "YyA/32ln15H8WQGqZ9GH1kOjYQKcuQcOImf2bp/aZj9T+d7mIL6IpChli8gbadW3pNVSnwe6sXtW\n",
       "0Yox6vMHWRsb61GycED0XAL4FZhMGiZsrMyZam+zlvu7Ru05DEKUxjur+y/BiJiAZ5QtpNbc3zeE\n",
       "vED1PBrazP3IGSaiXu4usbWMhc323msHmMBnyyt9uoOrh86XKGBowwbiX/lw3smeWcxkqR5GAA60\n",
       "BHOGiacYn/G/36G2Ax/FzwgOfTSheFeoW4i+BawmkqvawadWqJnm3ddMPpvJE1c107tK9VrOPZvN\n",
       "WUz40L+rFYfXqc+tPmI09/X50B/jkgMeJF6rDAAAAABJRU5ErkJggg==\n",
       "\" style=\"display:inline;vertical-align:middle;\" /></a><br>(see <a class=\"ProveItLink\" href=\"../__pv_it/4050f0f82fca3561c9fcefd02fbb4f36e9ae7d8a0/dependencies.ipynb\">dependencies</a>)<br>"
      ],
      "text/plain": [
       "intervalOO_lower_bound: forall_{a in Reals, b in Reals} [forall_{x in (a,b)} (a < x)]"
      ]
     },
     "execution_count": 2,
     "metadata": {},
     "output_type": "execute_result"
    }
   ],
   "source": [
    "%proving intervalOO_lower_bound presuming []"
   ]
  },
  {
   "cell_type": "code",
   "execution_count": null,
   "metadata": {},
   "outputs": [],
   "source": []
  }
 ],
 "metadata": {
  "kernelspec": {
   "display_name": "Python 3",
   "language": "python",
   "name": "python3"
  }
 },
 "nbformat": 4,
 "nbformat_minor": 0
}
