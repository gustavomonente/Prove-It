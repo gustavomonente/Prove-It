{
 "cells": [
  {
   "cell_type": "markdown",
   "metadata": {},
   "source": [
    "Proof of <a class=\"ProveItLink\" href=\"../../../../_context_.ipynb\">proveit</a>.<a class=\"ProveItLink\" href=\"../../../_context_.ipynb\">number</a>.<a class=\"ProveItLink\" href=\"../../_context_.ipynb\">sets</a>.<a class=\"ProveItLink\" href=\"../_context_.ipynb\">real</a>.<a class=\"ProveItLink\" href=\"../_theorems_.ipynb#xInRealsPosInBool\">xInRealsPosInBool</a> theorem\n",
    "========"
   ]
  },
  {
   "cell_type": "code",
   "execution_count": 1,
   "metadata": {},
   "outputs": [],
   "source": [
    "import proveit\n",
    "context = proveit.Context('..') # the theorem's context is in the parent directory"
   ]
  },
  {
   "cell_type": "code",
   "execution_count": 2,
   "metadata": {},
   "outputs": [
    {
     "name": "stdout",
     "output_type": "stream",
     "text": [
      "Beginning proof of xInRealsPosInBool\n",
      "Recorded 'presuming' information\n",
      "Presuming previous theorems (applied transitively).\n"
     ]
    },
    {
     "data": {
      "text/html": [
       "<strong id=\"xInRealsPosInBool\">xInRealsPosInBool:</strong> <a class=\"ProveItLink\" href=\"../__pv_it/c9f84ab7798446c913c840f5e0af4f716628d1160/expr.ipynb\"><img src=\"data:image/png;base64,iVBORw0KGgoAAAANSUhEUgAAAK0AAAAbBAMAAAD8EhIYAAAAMFBMVEX///8QEBCIiIhmZma6urrM\n",
       "zMxUVFQiIiJERETc3Nzu7u6qqqp2dnaYmJgyMjIAAAAcRTyBAAAAAXRSTlMAQObYZgAAAq5JREFU\n",
       "SMe9Vk1oE0EUfibZ3yY1B0FBkGhRIaccrFhRiAoFwWLqQXoQuogevIhSasCK7kEwDVQ9aW7uqUhR\n",
       "WuhNLyX2lFpUEPVQYesx0hAlgm1BfJPdmZ3Z7CQn/WC/2X3f5tvZN2/eBuD/QclTksPCIyPRYpL4\n",
       "RUZy2HgMS7SEFR2vM+rum3wvEVcjo/EMpR6+cFsiag6AS06+8tFnDqUwUjdLf9ZnAt+BkH54z6P1\n",
       "W7gusRzASsdLv2HUgX7TUmbKoDYa+xob+PCw7l4wyycBjCZABS8Nmxf3MuqAbiyB/YTNV1sIZ2cE\n",
       "Duo4TuEU8IWTvG5sUQrwpVh0qe9QP/ON2yEdfV8T32OYs9rc3FMhiWlKDGNZbr5DOvONpUM6+i4/\n",
       "x3E/Hr9LpTtCObg+mQeuna6SiFnn82ANM9+E91aBbo8kJq/ieB6TgOO0kEPbpxfwOXOXRNTHnG/f\n",
       "RJ35Kr9A1O1T936QfTpeADgDpiusueVTDd45Z9tu3LrtLn5vn7WtjBaIOuZhdY1UKZprEBP2jZbz\n",
       "yYGSFxltIPx1W86Vg1vNVkhHXz2BbvN5shs1sUZzlOCnF6nwdXZkjCudVkgnvqQlkfkaLmkx1cFD\n",
       "Bf+3FiU/fbCD99VfBjtc2Qzp6KuSHTxO0jR9BSvGua75jVG1fXoVa0IWhF6Bvoo1GDSuLRB1Mt/U\n",
       "klcPsHgDnwwbrHumPUps603Dy/wUt49hRS0Ipc7r7iV4exTHD+RiZ/txm8IkkMzL2QG/H83ed1jf\n",
       "KegPt1mp26JO+w7Zb3g3CSpNhd69ixHDuQdFN6oNZST6N9Ybk26Snp9g1AvzTnTcZN1l9mO1Rs9H\n",
       "GfXCJ0k8FfkhUhco9cKk7HtRiHwLl1IPkIqKxFp0eJFRd1QkcfEzEaAvT6k7jkviceff/bf5Cw/O\n",
       "wLim5VPZAAAAAElFTkSuQmCC\n",
       "\" style=\"display:inline;vertical-align:middle;\" /></a><br>(see <a class=\"ProveItLink\" href=\"../__pv_it/c9f84ab7798446c913c840f5e0af4f716628d1160/dependencies.ipynb\">dependencies</a>)<br>"
      ],
      "text/plain": [
       "xInRealsPosInBool: forall_{x} ((x in RealsPos) in BOOLEANS)"
      ]
     },
     "execution_count": 2,
     "metadata": {},
     "output_type": "execute_result"
    }
   ],
   "source": [
    "%proving xInRealsPosInBool presuming []"
   ]
  },
  {
   "cell_type": "code",
   "execution_count": null,
   "metadata": {},
   "outputs": [],
   "source": []
  }
 ],
 "metadata": {
  "kernelspec": {
   "display_name": "Python 3",
   "language": "python",
   "name": "python3"
  }
 },
 "nbformat": 4,
 "nbformat_minor": 0
}
