{
 "cells": [
  {
   "cell_type": "markdown",
   "metadata": {},
   "source": [
    "Proof of <a class=\"ProveItLink\" href=\"../../../../_context_.ipynb\">proveit</a>.<a class=\"ProveItLink\" href=\"../../../_context_.ipynb\">number</a>.<a class=\"ProveItLink\" href=\"../../_context_.ipynb\">sets</a>.<a class=\"ProveItLink\" href=\"../_context_.ipynb\">real</a>.<a class=\"ProveItLink\" href=\"../_theorems_.ipynb#intervalCO_is_subset_of_Reals\">intervalCO_is_subset_of_Reals</a> theorem\n",
    "========"
   ]
  },
  {
   "cell_type": "code",
   "execution_count": 1,
   "metadata": {},
   "outputs": [],
   "source": [
    "import proveit\n",
    "context = proveit.Context('..') # the theorem's context is in the parent directory"
   ]
  },
  {
   "cell_type": "code",
   "execution_count": 2,
   "metadata": {},
   "outputs": [
    {
     "name": "stdout",
     "output_type": "stream",
     "text": [
      "Beginning proof of intervalCO_is_subset_of_Reals\n",
      "Recorded 'presuming' information\n",
      "Presuming previous theorems (applied transitively).\n"
     ]
    },
    {
     "data": {
      "text/html": [
       "<strong id=\"intervalCO_is_subset_of_Reals\">intervalCO_is_subset_of_Reals:</strong> <a class=\"ProveItLink\" href=\"../__pv_it/59a270000dff047b75344438217056cd43866bbe0/expr.ipynb\"><img src=\"data:image/png;base64,iVBORw0KGgoAAAANSUhEUgAAALsAAAAVBAMAAADsqILHAAAAMFBMVEX///8QEBCIiIhmZma6urrM\n",
       "zMxUVFQiIiJERETc3Nzu7u6qqqp2dnaYmJgyMjIAAAAcRTyBAAAAAXRSTlMAQObYZgAAAvxJREFU\n",
       "OMullU9o01Acx782bdemaXvxMBlC3cDtohQLQxibhSGCoNtpKggr003wVIZS0SF1B802xKgHRXbI\n",
       "HEyZkxVFxsBD2BS1/iGIsD+gBGGCMtwugkwZvj9J2sQGKuaQ9/K+v3zee9/f+wP80xPWsXvF1Tbr\n",
       "FUwFg1Y+Vou/Dzwr+xQvZYGg4gpaqL32vVbnwmva8K1a/FcnHrEk6cNwRxkTOLqoMuE2nXK+Sno0\n",
       "6cLHC+Q15w7LjyIUzjAhpgJSoUp8jeLCd5C/MWb2fSWXy3WaeEExmBAtTk7eqtYbGujAv2AOpVnW\n",
       "V5Wy0QtKngs/ZXmgWnwDx9+c36Hyhi/1LWTySWtmJXzQn+FCLzBUgXTYqNB4leH927BmrpxNdVpB\n",
       "lIW2OLyfaSMDoEK7M/UzTSc+05IPCYj0X25LWOIFhh/TsdcUNxBPIJKl9WwZ/nruIk0nFWrg061l\n",
       "/DSl+yQUKS5G9QfzrUho0l3rv60Mv09FP/8WDExrCKxT6zPlo28PUfeoIOk1VvPi7CQIfpl2FydW\n",
       "RkfuqAQffejE10L8YS/7jgLHi/lyvLA/b+LDRhepje9cgZ/6QfEaKbvrTxPfyEPwUw5zxN+IrJvL\n",
       "XqdT8f9lziiG35OSCUMnSd9nAxuIgeNTtJtGtYEfGAlNSDlSK/5C0OAHTTwtboeZ2jkHvkvoNIXH\n",
       "pA8hGchinOGFvjO0HMQnkWU30Xwqbf03z8wZxEJGEzdJPaiHSIygwUqWfShIhV5TILnHloIvgyOy\n",
       "LCd80o0P3ObmwDlZHkTi1S4bf4DhJ+qP9aSRI8kT97ylYLZVxb6DpSNtBfJagQtREjethJbVIDcn\n",
       "cpxmfQN1yHBznhQrHQoR1Wq9x4vAS+tQcAlk9Er3IUid3PuiFh7G+Wgezzlemqp0pEk2Zc5rk9uC\n",
       "v+dRKzBCt9U7bbwtUIeuN0CI2BkZWBVT9r4bKuHtzSAaHnS34CPemzPnRRPx3us6sfYiQooH3lPw\n",
       "vODIZdjovgyXvCCeQmlo//n8AVXH5KeBK2iRAAAAAElFTkSuQmCC\n",
       "\" style=\"display:inline;vertical-align:middle;\" /></a><br>(see <a class=\"ProveItLink\" href=\"../__pv_it/59a270000dff047b75344438217056cd43866bbe0/dependencies.ipynb\">dependencies</a>)<br>"
      ],
      "text/plain": [
       "intervalCO_is_subset_of_Reals: forall_{a in Reals, b in Reals} ([a,b) subset Reals)"
      ]
     },
     "execution_count": 2,
     "metadata": {},
     "output_type": "execute_result"
    }
   ],
   "source": [
    "%proving intervalCO_is_subset_of_Reals presuming []"
   ]
  },
  {
   "cell_type": "code",
   "execution_count": null,
   "metadata": {},
   "outputs": [],
   "source": []
  }
 ],
 "metadata": {
  "kernelspec": {
   "display_name": "Python 3",
   "language": "python",
   "name": "python3"
  }
 },
 "nbformat": 4,
 "nbformat_minor": 0
}
