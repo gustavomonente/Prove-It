{
 "cells": [
  {
   "cell_type": "markdown",
   "metadata": {},
   "source": [
    "Proof of <a class=\"ProveItLink\" href=\"../../../../_context_.ipynb\">proveit</a>.<a class=\"ProveItLink\" href=\"../../../_context_.ipynb\">number</a>.<a class=\"ProveItLink\" href=\"../../_context_.ipynb\">sets</a>.<a class=\"ProveItLink\" href=\"../_context_.ipynb\">real</a>.<a class=\"ProveItLink\" href=\"../_theorems_.ipynb#relax_IntervalOO_left\">relax_IntervalOO_left</a> theorem\n",
    "========"
   ]
  },
  {
   "cell_type": "code",
   "execution_count": 1,
   "metadata": {},
   "outputs": [],
   "source": [
    "import proveit\n",
    "context = proveit.Context('..') # the theorem's context is in the parent directory"
   ]
  },
  {
   "cell_type": "code",
   "execution_count": 2,
   "metadata": {},
   "outputs": [
    {
     "name": "stdout",
     "output_type": "stream",
     "text": [
      "Beginning proof of relax_IntervalOO_left\n",
      "Recorded 'presuming' information\n",
      "Presuming previous theorems (applied transitively).\n"
     ]
    },
    {
     "data": {
      "text/html": [
       "<strong id=\"relax_IntervalOO_left\">relax_IntervalOO_left:</strong> <a class=\"ProveItLink\" href=\"../__pv_it/b48a75b586443815aa50ad9f2aae0ea0c7cc5e100/expr.ipynb\"><img src=\"data:image/png;base64,iVBORw0KGgoAAAANSUhEUgAAARMAAAAZBAMAAADga9dZAAAAMFBMVEX///8QEBCIiIhmZma6urrM\n",
       "zMxUVFQiIiJERETc3Nzu7u6qqqp2dnaYmJgyMjIAAAAcRTyBAAAAAXRSTlMAQObYZgAAA+NJREFU\n",
       "SMfll11oE0EQx8fkrknuI/ZBUBEktlAFKxaDomBrQVAQ1Dy1CIWE+llBKUWJqEipoKkiBhUUQTxb\n",
       "qFJrWxSRguJhETSK3IOgFJSg9kHxC1HQVsWZ3ctlL43tVdAXF+aS2fvP7S8zu3sbgEm1rck0/JW2\n",
       "OmlOMqIZ/lYLJf4LlJBVpNP3PubuUNPcCCVLHc+8o3jWXyrWqdWKiul4abINUR5Q5xvvKJ71rydE\n",
       "gZdovbYhyhn6aPWO4lWvV02MMko9EW6IEjbwa793FK/6gGvV64eTB8agSCN4UUq5IYqe6e4+PYlp\n",
       "61Xv0shtRpGsaGwRvOJGK+hrKrV/MitojD4kjul8K0frqDhVGSGn1xAKdHJwDnfDjeWY3kFgRiib\n",
       "AdqLDLou+xuUMXpTCFGdX30M827qLQH2mCZhrkgz4QN3+t4o3wCeAzNCWQmKOOqNeRtfsCB72qkt\n",
       "h2oiIkqBHkqcSUEhy3LOPvQNbURid1sFlAsWLOXObQM+4YDAjFAC4MttRsrNqOXTIENDh2lqXh6s\n",
       "hoipdYgoBXpocG5SSFfOmYa3IcgZ5NnvsdkoKwxo4ZIaUL4DxIEZoWhWIBf+dKAbEGWIhpqKP0c/\n",
       "etZAFP2KiFKgp4LZjULC6TwK9vB8hsSszADlS25bkUZdKKFsHTqdFcMgUU0IhaofL9uOtcCGKD0i\n",
       "CtffWVwRY3rqUhbtjNkhTsb20SVub/OleRRMhPqROz/Aj8t5NTBj76D2Tfiw3fIIhIGjRGmIuUY5\n",
       "3+Qjpj/qegeR3mfsDNQyfQi7Lsbihh2iJvLTVjUWopCcRQLKKJRkB5jzmeaNOG3hGj7MXyU3QydD\n",
       "8W/ZRZ9t8FxhvzqyZGutC4X0MrwDrpcw+VGot0OYyxquz/X9x+Ec3+/68wVqgycJU/mJzg44iNfl\n",
       "3BgKFXRKvy8B9alUKuLTTjzmtV4i70ml2iByf4EbhU8AXIZML+EjZkGFHQJybnVhzrvKOqp5vZRt\n",
       "axyUrrINjbWQxGx1VtLdYW4MRcfevnRwyCjhBVIbKKkjOECCF+h6xoVCepA/ysD0civg7nCs2w6R\n",
       "EkU3fulewcav5jY9pZmbc16Zko6vBS3G50rGDB2BvXor3OUoWs+Y88p5LatxPT1mpvzZskN009vr\n",
       "UHN68q9Dm7rxajXAUdptHpmdNfIsqHsIEMQSq/vfKtFsIUrX4zsZroe9AKvml1t2iN8pZvu4KM5W\n",
       "JRwSXGcsrL2dP/4xD+fKOKc4pp8PYkjY49HJEonbxztQDng/UAZdIbcmOFAeKDhQ6mluv0exvKNI\n",
       "lhCiVP2zY3ayyP8gMYM+44//ByV+AQ1mKP5BKjImAAAAAElFTkSuQmCC\n",
       "\" style=\"display:inline;vertical-align:middle;\" /></a><br>(see <a class=\"ProveItLink\" href=\"../__pv_it/b48a75b586443815aa50ad9f2aae0ea0c7cc5e100/dependencies.ipynb\">dependencies</a>)<br>"
      ],
      "text/plain": [
       "relax_IntervalOO_left: forall_{a in Reals, b in Reals} [forall_{x in (a,b)} (x in [a,b))]"
      ]
     },
     "execution_count": 2,
     "metadata": {},
     "output_type": "execute_result"
    }
   ],
   "source": [
    "%proving relax_IntervalOO_left presuming []"
   ]
  },
  {
   "cell_type": "code",
   "execution_count": null,
   "metadata": {},
   "outputs": [],
   "source": []
  }
 ],
 "metadata": {
  "kernelspec": {
   "display_name": "Python 3",
   "language": "python",
   "name": "python3"
  }
 },
 "nbformat": 4,
 "nbformat_minor": 0
}
