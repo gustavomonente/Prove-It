{
 "cells": [
  {
   "cell_type": "markdown",
   "metadata": {},
   "source": [
    "Proof of <a class=\"ProveItLink\" href=\"../../../../_context_.ipynb\">proveit</a>.<a class=\"ProveItLink\" href=\"../../../_context_.ipynb\">number</a>.<a class=\"ProveItLink\" href=\"../../_context_.ipynb\">sets</a>.<a class=\"ProveItLink\" href=\"../_context_.ipynb\">real</a>.<a class=\"ProveItLink\" href=\"../_theorems_.ipynb#realsPos_intervalCO_is_subset_of_RealsPos\">realsPos_intervalCO_is_subset_of_RealsPos</a> theorem\n",
    "========"
   ]
  },
  {
   "cell_type": "code",
   "execution_count": 1,
   "metadata": {},
   "outputs": [],
   "source": [
    "import proveit\n",
    "context = proveit.Context('..') # the theorem's context is in the parent directory"
   ]
  },
  {
   "cell_type": "code",
   "execution_count": 2,
   "metadata": {},
   "outputs": [
    {
     "name": "stdout",
     "output_type": "stream",
     "text": [
      "Beginning proof of realsPos_intervalCO_is_subset_of_RealsPos\n",
      "Recorded 'presuming' information\n",
      "Presuming previous theorems (applied transitively).\n"
     ]
    },
    {
     "data": {
      "text/html": [
       "<strong id=\"realsPos_intervalCO_is_subset_of_RealsPos\">realsPos_intervalCO_is_subset_of_RealsPos:</strong> <a class=\"ProveItLink\" href=\"../__pv_it/3ab2f8c730d49b416d4be3b822fefe80b156830b0/expr.ipynb\"><img src=\"data:image/png;base64,iVBORw0KGgoAAAANSUhEUgAAAOMAAAAbBAMAAAB8YSULAAAAMFBMVEX///8QEBCIiIhmZma6urrM\n",
       "zMxUVFQiIiJERETc3Nzu7u6qqqp2dnaYmJgyMjIAAAAcRTyBAAAAAXRSTlMAQObYZgAAA45JREFU\n",
       "SMfVlktIVFEYxz/nPffemWkRBElxtZebYnDKFNMmgnblLMJaCA5mDwrCMpsyF5OLuirG0MKiRd4S\n",
       "KkyboQdhBF3UCMeKCVqYVEyGLrTEZUwgnced+3JymHERHbhzzzn3zPc75zv/7zsH4L8qB3MbHkSP\n",
       "aWVEazC38WH0WIIrQrrF3JHwbkXIUoBt04a+oWxIO5pnEle+5EF0pgBGNW3mchOALWIY5TojLH7r\n",
       "VpEmL8A4rszmgeS8eiS4UQeTXOJ+Jmjt7gTb/Pz6+Z9oogsAN/GEw3kgC2IGpAd1wLBxmMMpQbhH\n",
       "WSVcoiLgYnkge0UDsgbL6Y7cmAiFQi1pZIVbRZYjZ8f7+2/ko54PYEC+IX70k/rtMe0qKxwqsgg9\n",
       "vwShLcNOZeZIarWaIp27StfSjpniSrrDqFzUOTa4T0ViXxwF6Fhq25wZ6VWrAkXuibgXqGIXxWgE\n",
       "XEQ/5pgWyTbPqsj6AMDeDDJTkAeSf0XOECSzDszUFpsCDw9sE4k+rXzWhOZIjcZPrx9/NiU0Rp+X\n",
       "HJlSkbKfgD17pZrXI5sJ0pwCO08nmYSoBFay5B4tctTbqbEfRUguocyJeelLmDiI85xvp6+SqAF7\n",
       "6OFIFfASdxdGfM0+xWXfCbIgDNFAOixrYjLygS5Ith/WCh0hncnadHNiqB8QcjKhrNKDvOHquiUi\n",
       "pGtQv8orBIkW9koemoDdIliWOlZyDPJqux77t6MR/fRtngYLNoiRkoKsLz6JNhsVhBzQI09QZAxO\n",
       "s2SXPH60r7J8OF6LtAZ3GKL3CZoY02JNAQlYhPR5FeQWcQPNwrxk9umRRQTp4F3nOYiiMbaEA/+P\n",
       "htGcNuHBuC2gC2esMzB7rU3QR5DmY+dU+bTDV4Zg+LLjfj2yhmQfpmFTz0awt6JZl+KDyU2N32sU\n",
       "1bQecFz7rfytnPSKOGGagnBIEATexF3/iM9fOmA1lFkvCEI78GNbMTKgybF+TfZ5ka7cl991V+WE\n",
       "ZyxTinQjjknRRh3L1qlnbwoKyQUCOfZZ3BC5kgapZKXhLGmSSSlTjtTvBy5A9zIuG3B2QqsrDK8p\n",
       "khsw3ENWqUgmLZdMWUV/fio3EUvD4yqALpwK3kt91bLRQqh9izSHQpFt+8H4DOZOqUiXos9IFqQ9\n",
       "oG+b0F5q2yx9laC9zFAeIUEbLyKfsp0/n7N8H1r2K+vN4/aS7TKQWP7z09yRZhH+RfkD+hLr7Zno\n",
       "MiQAAAAASUVORK5CYII=\n",
       "\" style=\"display:inline;vertical-align:middle;\" /></a><br>(see <a class=\"ProveItLink\" href=\"../__pv_it/3ab2f8c730d49b416d4be3b822fefe80b156830b0/dependencies.ipynb\">dependencies</a>)<br>"
      ],
      "text/plain": [
       "realsPos_intervalCO_is_subset_of_RealsPos: forall_{a in RealsPos, b in RealsPos} ([a,b) subset RealsPos)"
      ]
     },
     "execution_count": 2,
     "metadata": {},
     "output_type": "execute_result"
    }
   ],
   "source": [
    "%proving realsPos_intervalCO_is_subset_of_RealsPos presuming []"
   ]
  },
  {
   "cell_type": "code",
   "execution_count": null,
   "metadata": {},
   "outputs": [],
   "source": []
  }
 ],
 "metadata": {
  "kernelspec": {
   "display_name": "Python 3",
   "language": "python",
   "name": "python3"
  }
 },
 "nbformat": 4,
 "nbformat_minor": 0
}
