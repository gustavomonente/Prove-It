{
 "cells": [
  {
   "cell_type": "markdown",
   "metadata": {},
   "source": [
    "Proof of <a class=\"ProveItLink\" href=\"../../../../_context_.ipynb\">proveit</a>.<a class=\"ProveItLink\" href=\"../../../_context_.ipynb\">number</a>.<a class=\"ProveItLink\" href=\"../../_context_.ipynb\">sets</a>.<a class=\"ProveItLink\" href=\"../_context_.ipynb\">real</a>.<a class=\"ProveItLink\" href=\"../_theorems_.ipynb#xInRealsInBool\">xInRealsInBool</a> theorem\n",
    "========"
   ]
  },
  {
   "cell_type": "code",
   "execution_count": 1,
   "metadata": {},
   "outputs": [],
   "source": [
    "import proveit\n",
    "context = proveit.Context('..') # the theorem's context is in the parent directory"
   ]
  },
  {
   "cell_type": "code",
   "execution_count": 2,
   "metadata": {},
   "outputs": [
    {
     "name": "stdout",
     "output_type": "stream",
     "text": [
      "Beginning proof of xInRealsInBool\n",
      "Recorded 'presuming' information\n",
      "Presuming previous theorems (applied transitively).\n"
     ]
    },
    {
     "data": {
      "text/html": [
       "<strong id=\"xInRealsInBool\">xInRealsInBool:</strong> <a class=\"ProveItLink\" href=\"../__pv_it/48b37ad16dd226bfef7ffeca2adea17b3643950b0/expr.ipynb\"><img src=\"data:image/png;base64,iVBORw0KGgoAAAANSUhEUgAAAJoAAAAUBAMAAACHazmMAAAAMFBMVEX///8QEBCIiIhmZma6urrM\n",
       "zMxUVFQiIiJERETc3Nzu7u6qqqp2dnaYmJgyMjIAAAAcRTyBAAAAAXRSTlMAQObYZgAAAiJJREFU\n",
       "OMtjYMAAnBcgGBfgnoBb/AGIcRdZdAUUowPewo5/D3uBjEw0CXWJ/odlDmDx0yD+K2TJl1CMAfi4\n",
       "Elh7uxgY1qFLPAji6rIFi88A+a0B2QkGEIwJODgPMDRMY2DgUUCTaPBlUOUAi/MtAFIbkKTYJ0Aw\n",
       "kvnt5XUw0yz5GBi4BFDFQabt5gCL855atWo6st7pUAwHrE0LEG6zBOpieIIqDjLtyAqI+I+Ojhpk\n",
       "zcpQvEhtig7YS+sWIPk0wQ3IOMyAIg40jaU0FSIOpDqRTeuFYK4DvEXs4AjPRAo37mJQhN1jQBFn\n",
       "aHCs/+gAEXdm4HqAbFo1BPMs4PnFAg6+BoRp4uWvQYztDCjiIJ+evQMRZ2dgQkmqIhDMxcABUc4q\n",
       "9w4IIKYdMegCMeJRxUGmcbBcAIvzXGBnwGIaAwM/JCFwIrntgEkE3DROFLdxMCSAxTkfhAEFDpmq\n",
       "BaD4FCgHFRBAMo1jLcgKd1RxkGlsoEwFEu9MYWBgWpDH7oASC9wL9IGiIAEjJNNYE0zhsWCE4jbe\n",
       "AxDxzQXAQGB4C5M6DMH+G/oZ5kKS8wZEzmI4zQZ0sQ2qOMODGIYzZgwQcUj4/IRJuUPwMqVFtpDY\n",
       "4crwguf6AI6+3wwMT1HE4bkeLM4L8g/rB1acOYvlBDQHQQFXAX5xhvk8D3gI5noYwMj16OLLrhw6\n",
       "BRPsZEDLHehgHSniuEpLBmTriBYnVJLzTsApDgBzaqKtYmf6WQAAAABJRU5ErkJggg==\n",
       "\" style=\"display:inline;vertical-align:middle;\" /></a><br>(see <a class=\"ProveItLink\" href=\"../__pv_it/48b37ad16dd226bfef7ffeca2adea17b3643950b0/dependencies.ipynb\">dependencies</a>)<br>"
      ],
      "text/plain": [
       "xInRealsInBool: forall_{x} ((x in Reals) in BOOLEANS)"
      ]
     },
     "execution_count": 2,
     "metadata": {},
     "output_type": "execute_result"
    }
   ],
   "source": [
    "%proving xInRealsInBool presuming []"
   ]
  },
  {
   "cell_type": "code",
   "execution_count": null,
   "metadata": {},
   "outputs": [],
   "source": []
  }
 ],
 "metadata": {
  "kernelspec": {
   "display_name": "Python 3",
   "language": "python",
   "name": "python3"
  }
 },
 "nbformat": 4,
 "nbformat_minor": 0
}
