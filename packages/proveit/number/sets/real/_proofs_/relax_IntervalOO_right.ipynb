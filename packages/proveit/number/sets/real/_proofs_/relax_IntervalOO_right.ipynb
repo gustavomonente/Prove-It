{
 "cells": [
  {
   "cell_type": "markdown",
   "metadata": {},
   "source": [
    "Proof of <a class=\"ProveItLink\" href=\"../../../../_context_.ipynb\">proveit</a>.<a class=\"ProveItLink\" href=\"../../../_context_.ipynb\">number</a>.<a class=\"ProveItLink\" href=\"../../_context_.ipynb\">sets</a>.<a class=\"ProveItLink\" href=\"../_context_.ipynb\">real</a>.<a class=\"ProveItLink\" href=\"../_theorems_.ipynb#relax_IntervalOO_right\">relax_IntervalOO_right</a> theorem\n",
    "========"
   ]
  },
  {
   "cell_type": "code",
   "execution_count": 1,
   "metadata": {},
   "outputs": [],
   "source": [
    "import proveit\n",
    "context = proveit.Context('..') # the theorem's context is in the parent directory"
   ]
  },
  {
   "cell_type": "code",
   "execution_count": 2,
   "metadata": {},
   "outputs": [
    {
     "name": "stdout",
     "output_type": "stream",
     "text": [
      "Beginning proof of relax_IntervalOO_right\n",
      "Recorded 'presuming' information\n",
      "Presuming previous theorems (applied transitively).\n"
     ]
    },
    {
     "data": {
      "text/html": [
       "<strong id=\"relax_IntervalOO_right\">relax_IntervalOO_right:</strong> <a class=\"ProveItLink\" href=\"../__pv_it/21a395adcc8f5ee9fcd3e0baf1f320376cffbed00/expr.ipynb\"><img src=\"data:image/png;base64,iVBORw0KGgoAAAANSUhEUgAAARMAAAAZBAMAAADga9dZAAAAMFBMVEX///8QEBCIiIhmZma6urrM\n",
       "zMxUVFQiIiJERETc3Nzu7u6qqqp2dnaYmJgyMjIAAAAcRTyBAAAAAXRSTlMAQObYZgAABANJREFU\n",
       "SMfll12IE1cUx89OMjvJZCbrgy9WlGFXV0HFsEGh6GpEUBB086QvQoL9sPZhWUTd+kGJ+2CzihhE\n",
       "tBTEYRdWWXUTWkQUpYOLtE1rGdCHIihB/MBSxQcfah6k59x7J7mTxGVS0Bcv7E7Ozf/M/d17zrn3\n",
       "BqCttnO4AO+lbRx22vQYgvfVotmPAiXqtuw+22Cbz1KxAkepkP0gOEpg/YWWvXpONg7j1IwU7OIo\n",
       "v1Pf38FRAuuft+yN+9I+nmAoUxzle3rkgqME1ZuJlt13fVZXiaEYFkOJ22iVgqME1Wu+6ZvfDX/L\n",
       "Puz3iQZshqLPYihmeXLyTBtpG1Tv06gjtshlf97/AgwFHvMK+jefP9ROBTXpo/KYtU89+DfWe2qp\n",
       "RcaUIAGFwhZd3fcJN592r2Io0xzlC4DRFoNuqbwDpUnvSC6xlGccxwJxzN0ae80urzdCFb6uEH/F\n",
       "K+itXSwQykOOsh50edSriz97RE9DpF1s95E1lozSoIfOWlKQy6eecRBt26iG2be1NNcwy/R5EOId\n",
       "sSp0WYRylaNooHibkX4j6SoGlGnoOKXmxel+sBxjTEZp0MP2emmiy4RnzMavIcKHVOe/xEafOnDc\n",
       "UBU0PrlQBYoOoWQ4iuFqnvtf1yYBUe7TUF04HfPYDzaimJdllAY9BcwrzYK0b8xmPXzIevETSkcO\n",
       "imlvWxkoSSjRylbsHe99AmGKCaFQ9DPdX2MssCHKJRmF62+t6E0zPXXpfYNp4VJbsYP0L8OHhFly\n",
       "gIoO/CzYXVhrE8pGcQaNfo4v26tWIQ4cJUlDLLJ7+CZvOaGk7wwivWIPaqm4V57n0xlbuMSy9bSN\n",
       "2ctRSEafnLbFEgyyYwe6Upg3UtrCT/iyUEIdgnGGEvpyDz1H4KHOZm2t3JnyoZBehRfA9WFc/CRs\n",
       "Ey7MZA3rc6B0Qpx+WknK7Ihl7jOgiPPsdCMJhrJaoFBAO0pKFrbl83lLMU7e47FeqX6Tz4+A9dsy\n",
       "PwpPgDfA9WF8xVzoFS6getWFaz7RPdbP46V/tYn3himcOxaeXgDaAQrsHb7FPREoJq5hsRC5b3fy\n",
       "AMW206JWcYAsD9CVsg+F9KC+UoHp1Rzob+D4pHAJZ1tu/OFfmzb+695C4cY/JN1XOgqZzWCkea6U\n",
       "nehROGDm4DZHMS413VfOGRWD6+k1c9TXrnAxnaDHoVNHEcehoN7xYz/AMdri/nTG16hzYesfGFUM\n",
       "cezQP3qy0ogyce9WmesBF3rDkh5XuIRqwRxtiRLxFku36ihTzbc4BWMv9lj+WIy5MsMtjumXgOwS\n",
       "D3p1MqGOMjrThfJa8AtlxOdys90LpfIsZRZmQnGDo4RdyUVPfLBr9nCL30HyCir2//4dlP0Pzr8h\n",
       "5VxtDfoAAAAASUVORK5CYII=\n",
       "\" style=\"display:inline;vertical-align:middle;\" /></a><br>(see <a class=\"ProveItLink\" href=\"../__pv_it/21a395adcc8f5ee9fcd3e0baf1f320376cffbed00/dependencies.ipynb\">dependencies</a>)<br>"
      ],
      "text/plain": [
       "relax_IntervalOO_right: forall_{a in Reals, b in Reals} [forall_{x in (a,b)} (x in (a,b])]"
      ]
     },
     "execution_count": 2,
     "metadata": {},
     "output_type": "execute_result"
    }
   ],
   "source": [
    "%proving relax_IntervalOO_right presuming []"
   ]
  },
  {
   "cell_type": "code",
   "execution_count": null,
   "metadata": {},
   "outputs": [],
   "source": []
  }
 ],
 "metadata": {
  "kernelspec": {
   "display_name": "Python 3",
   "language": "python",
   "name": "python3"
  }
 },
 "nbformat": 4,
 "nbformat_minor": 0
}
