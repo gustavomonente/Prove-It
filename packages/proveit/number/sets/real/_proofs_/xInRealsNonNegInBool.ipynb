{
 "cells": [
  {
   "cell_type": "markdown",
   "metadata": {},
   "source": [
    "Proof of <a class=\"ProveItLink\" href=\"../../../../_context_.ipynb\">proveit</a>.<a class=\"ProveItLink\" href=\"../../../_context_.ipynb\">number</a>.<a class=\"ProveItLink\" href=\"../../_context_.ipynb\">sets</a>.<a class=\"ProveItLink\" href=\"../_context_.ipynb\">real</a>.<a class=\"ProveItLink\" href=\"../_theorems_.ipynb#xInRealsNonNegInBool\">xInRealsNonNegInBool</a> theorem\n",
    "========"
   ]
  },
  {
   "cell_type": "code",
   "execution_count": 1,
   "metadata": {},
   "outputs": [],
   "source": [
    "import proveit\n",
    "context = proveit.Context('..') # the theorem's context is in the parent directory"
   ]
  },
  {
   "cell_type": "code",
   "execution_count": 2,
   "metadata": {},
   "outputs": [
    {
     "name": "stdout",
     "output_type": "stream",
     "text": [
      "Beginning proof of xInRealsNonNegInBool\n",
      "Recorded 'presuming' information\n",
      "Presuming previous theorems (applied transitively).\n"
     ]
    },
    {
     "data": {
      "text/html": [
       "<strong id=\"xInRealsNonNegInBool\">xInRealsNonNegInBool:</strong> <a class=\"ProveItLink\" href=\"../__pv_it/b47f6aeaad3d25fe2fc070f9f1c8ae3a7fc7a0280/expr.ipynb\"><img src=\"data:image/png;base64,iVBORw0KGgoAAAANSUhEUgAAALUAAAAcBAMAAADVbuO8AAAAMFBMVEX///8QEBCIiIhmZma6urrM\n",
       "zMxUVFQiIiJERETc3Nzu7u6qqqp2dnaYmJgyMjIAAAAcRTyBAAAAAXRSTlMAQObYZgAAArxJREFU\n",
       "SMetlD9oE2EYxl/z93JNahGHQJeqqBA6ZLFkUDktCoKHqWDpICSIHVxEhJqhWm8ImNah52QGoYdC\n",
       "kFJooIOiS4kOEq1GEdqhwllwKbRGUdC4+N19f/Ldl5zJSZ/h6fHrk/c+3u+9F+D/NTgIO6/TuuWx\n",
       "5Z6s558GFWouigylkYcVaIDPJeLGR5m5Fk+h4otp6IeAy9Hd+CYzV8mvFMjocAtgxSXRnvsHqP2r\n",
       "+FsjY8B11BmjfcDipvXwiadzBjVRq/HZ7XgN93PLOvce9JB0Zg7HZz/fUDB/3dKAF8xaZJZgbM16\n",
       "68O7dr9/oNbXxcx5eeYY5kXrajT+n/3MWqQ9ACmCbmkhT+cEYFLMqHBQwrwXHSNa5megQa2ptVzO\n",
       "JLX9ugmP8nZbkvZ8p8SMCs8lzGPV+fn7fJ1YHzWmsUTz3H5dgwvku7Qbt0/MqPDyMeG/CoWbjjEx\n",
       "icn7r5ys2DOxyfUkJE7uOUPIqIGJccLR32k+K2nEFmB1YMoiIZ2r/eS4MEGZtJA5cfubQvgwyCaf\n",
       "7c0Sq8I744z9tuY93ctNobt5WkCir5hThIwKK+uEh8FXcwx9kpgBBUxGtpHIXQ5L4uAvKkJGBSlQ\n",
       "wzxaCzuyvUlq8B2TIjeD/lOaUBufu8ifW4Is5hHTWkuVI4fSpN9ZasGfmOzi53vmg1A7owsZFULW\n",
       "127z6ctoVo2rYbJUQxqxZ746JMCxW1DtUX+63ZxwGXTu2DLhS9fQEWGLbd4+bIE/Uj2Cb2KS++aj\n",
       "5XFn7fcgZC7CmyHKd9uv/M02bwObfClxgOywUt6gu+oLFL6WHbVTzgzdVZjHLBisB2l4LzOms3dy\n",
       "ptu23XDJbLDLjppR+nyUWTeSG5146WOlSp9HmHWjWNYLD5WpdaNw2gu3V4Bsdll73RtfYtZZEc0b\n",
       "71GodZbf8MZ3Sn8BS3TaJfQ5/QIAAAAASUVORK5CYII=\n",
       "\" style=\"display:inline;vertical-align:middle;\" /></a><br>(see <a class=\"ProveItLink\" href=\"../__pv_it/b47f6aeaad3d25fe2fc070f9f1c8ae3a7fc7a0280/dependencies.ipynb\">dependencies</a>)<br>"
      ],
      "text/plain": [
       "xInRealsNonNegInBool: forall_{x} ((x in RealsNonNeg) in BOOLEANS)"
      ]
     },
     "execution_count": 2,
     "metadata": {},
     "output_type": "execute_result"
    }
   ],
   "source": [
    "%proving xInRealsNonNegInBool presuming []"
   ]
  },
  {
   "cell_type": "code",
   "execution_count": null,
   "metadata": {},
   "outputs": [],
   "source": []
  }
 ],
 "metadata": {
  "kernelspec": {
   "display_name": "Python 3",
   "language": "python",
   "name": "python3"
  }
 },
 "nbformat": 4,
 "nbformat_minor": 0
}
