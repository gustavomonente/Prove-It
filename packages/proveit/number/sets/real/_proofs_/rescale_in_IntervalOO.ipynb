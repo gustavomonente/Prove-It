{
 "cells": [
  {
   "cell_type": "markdown",
   "metadata": {},
   "source": [
    "Proof of <a class=\"ProveItLink\" href=\"../../../../_context_.ipynb\">proveit</a>.<a class=\"ProveItLink\" href=\"../../../_context_.ipynb\">number</a>.<a class=\"ProveItLink\" href=\"../../_context_.ipynb\">sets</a>.<a class=\"ProveItLink\" href=\"../_context_.ipynb\">real</a>.<a class=\"ProveItLink\" href=\"../_theorems_.ipynb#rescale_in_IntervalOO\">rescale_in_IntervalOO</a> theorem\n",
    "========"
   ]
  },
  {
   "cell_type": "code",
   "execution_count": 1,
   "metadata": {},
   "outputs": [],
   "source": [
    "import proveit\n",
    "context = proveit.Context('..') # the theorem's context is in the parent directory"
   ]
  },
  {
   "cell_type": "code",
   "execution_count": 2,
   "metadata": {},
   "outputs": [
    {
     "name": "stdout",
     "output_type": "stream",
     "text": [
      "Beginning proof of rescale_in_IntervalOO\n",
      "Recorded 'presuming' information\n",
      "Presuming previous theorems (applied transitively).\n"
     ]
    },
    {
     "data": {
      "text/html": [
       "<strong id=\"rescale_in_IntervalOO\">rescale_in_IntervalOO:</strong> <a class=\"ProveItLink\" href=\"../__pv_it/46c64895962a0e9054b6d94edd13aa7b9588e6c40/expr.ipynb\"><img src=\"data:image/png;base64,iVBORw0KGgoAAAANSUhEUgAAAZAAAAAZBAMAAADtWWVbAAAAMFBMVEX///8QEBCIiIhmZma6urrM\n",
       "zMxUVFQiIiJERETc3Nzu7u6qqqp2dnaYmJgyMjIAAAAcRTyBAAAAAXRSTlMAQObYZgAABOJJREFU\n",
       "WMPtWGuIG1UUPklmNsk8kv3hD0tRYhbWQhXDBouiWwOCBUE3/mkRCgn1UfVHCUtttC4S94dmLcWg\n",
       "slsEcboLW1mrCYqUBYVhF1FjlUELaqEliBUUH/2hYKOI574mdx7tTon4AA+ceZyc+e797j3n3HsD\n",
       "MJzsrbfgnxelPjMsRA3+HTL/P5HLJ5J2mPpFDwbny1ExV7kikR65nRmCSGSAV7kG5GG/QWtEgNOe\n",
       "wkEcaTFFIh8R43dDEIkM8C3XgLzhN2QiFZBMAdn0mCKRI2TSG0MQiQpgFpgGxcj5DJ9Fajrbwcsa\n",
       "13nIWIjUGYJIVIBki2lIkIxyqs/Un6QPj0dqegobhqNc58HsrqwsDJPsUQEWuIbI1/Sqzlq8KkSr\n",
       "IO/T+Coxxar1a7M5M1TVCgCkpWfVfRrjCmv5srAtjr94HcbVOksVzgPiBZ/bC+vXiN8k6zf5WzAW\n",
       "CkyRyAMAcyE9vLsXlUgAwJYw9JJ4Ocx1oZMS0JptTifx5ay3eKUcr5uyCX4S0yp9/IfVboGJr0SR\n",
       "yO0s7YWc2HLfVzQDeV7q009v9ySj11ALALByCALjZvHyBNcZGCEZRYbYsIy+gt4nqINbMJId100j\n",
       "70cduIn/JFn1PmRzoGMHiCKRJMTFKqW9U3TiBnRJPzME7bX1ScjZxqLbyYChFgCA3YMCiRjL4uUK\n",
       "pok+H09ygRTtfYUG4dU/opCnWMl1a5Mhus2CaYYhWxM9aNugngeqSMRwkqKtL1ZXAImcJv3K4kiZ\n",
       "h16ysN/m624J9RsIER8ACTVRIFvSmsCJxPjAH2AeOZfIoIQTItwtWcXLlaD9wn+RrLiMTHVkIune\n",
       "TjQvjZ8DhUQTIUKCvJJ/BIMGBft9nMZJPuc1CCIMYO3G8TIFICZtYl+ZY7izxUOrbcthWKGpu4M+\n",
       "j8qhJblpv4N+nj3KH2cdMlUKtqaw0IK5+9H5UbUPGWBEiqQ/11pjbPeRsxNFct+vjnoN7l6LAMSt\n",
       "fclSRhTPY+WKxTH0qjfZsX0Qq45u3YAfimSfkJNdctN+g5Hequi8+3G2pF0FcrLDW9hyoqDWYIkS\n",
       "STy4n9xn4axGBzi3bS+pPIkGlD2GARECoMIPwAAUnP4i7OIY9JXKOtNEFZZEBZ3qPEf3h7cOclzU\n",
       "CNltFj6v2jSpZOuIkyJ+NtN5HqexTrwKu5rNZi5uPH+KhfQ29bFmcxZyH15P+h3DZjyGAREW6BeA\n",
       "ASg4BZthnGOAKiraDq4nz7g1bzm/OEki7xwb+Yfu5OW25ne7d08J6pbXqk18TDKlzJQQMdGj3Uqd\n",
       "tkZYaOm7ySd97E2VRdLbXZ64HsOACAHAjFOBAqgN0C7A4RWOoVQ33qLwlVz54FJbFN0Ksx7jKs4j\n",
       "sVblLjDKLEe6dvpZOGg24D3Wb+M4HLFwH1CQDP7zyCtGz2AApFub1J8djmHaf9Gm0QhdkAebRj4Y\n",
       "e96cBDhEFsRP7KXt6mbYeRKzDsNJn/leK/bu6aQnPrUkg5/I8qm1LgOAgwB3bB1zOEbCDcM5CN9D\n",
       "BLfxqbCJWwydzME2XpY4hjifR3bbginBpOM3hJ4QKcBWkDEyGx+s5iIdrJywTwnlVOsSR93VjY+j\n",
       "Fz3qpjwY72541DWHOOp+yfWiRPztmZdxZlccCUMr/Ef+fKiH/K8lT2fc+nv+1zrwJ7PHlN8AJCSs\n",
       "AAAAAElFTkSuQmCC\n",
       "\" style=\"display:inline;vertical-align:middle;\" /></a><br>(see <a class=\"ProveItLink\" href=\"../__pv_it/46c64895962a0e9054b6d94edd13aa7b9588e6c40/dependencies.ipynb\">dependencies</a>)<br>"
      ],
      "text/plain": [
       "rescale_in_IntervalOO: forall_{a in Reals, b in Reals, c in Reals} [forall_{x in (a,b)} ((c * x) in (c * a,c * b))]"
      ]
     },
     "execution_count": 2,
     "metadata": {},
     "output_type": "execute_result"
    }
   ],
   "source": [
    "%proving rescale_in_IntervalOO presuming []"
   ]
  },
  {
   "cell_type": "code",
   "execution_count": null,
   "metadata": {},
   "outputs": [],
   "source": []
  }
 ],
 "metadata": {
  "kernelspec": {
   "display_name": "Python 3",
   "language": "python",
   "name": "python3"
  }
 },
 "nbformat": 4,
 "nbformat_minor": 0
}
