{
 "cells": [
  {
   "cell_type": "markdown",
   "metadata": {},
   "source": [
    "Proof of <a class=\"ProveItLink\" href=\"../../../../_context_.ipynb\">proveit</a>.<a class=\"ProveItLink\" href=\"../../../_context_.ipynb\">number</a>.<a class=\"ProveItLink\" href=\"../../_context_.ipynb\">sets</a>.<a class=\"ProveItLink\" href=\"../_context_.ipynb\">real</a>.<a class=\"ProveItLink\" href=\"../_theorems_.ipynb#intervalOC_upper_bound\">intervalOC_upper_bound</a> theorem\n",
    "========"
   ]
  },
  {
   "cell_type": "code",
   "execution_count": 1,
   "metadata": {},
   "outputs": [],
   "source": [
    "import proveit\n",
    "context = proveit.Context('..') # the theorem's context is in the parent directory"
   ]
  },
  {
   "cell_type": "code",
   "execution_count": 2,
   "metadata": {},
   "outputs": [
    {
     "name": "stdout",
     "output_type": "stream",
     "text": [
      "Beginning proof of intervalOC_upper_bound\n",
      "Recorded 'presuming' information\n",
      "Presuming previous theorems (applied transitively).\n"
     ]
    },
    {
     "data": {
      "text/html": [
       "<strong id=\"intervalOC_upper_bound\">intervalOC_upper_bound:</strong> <a class=\"ProveItLink\" href=\"../__pv_it/4834b9cde9aac359d974e80d43abee73553bf0740/expr.ipynb\"><img src=\"data:image/png;base64,iVBORw0KGgoAAAANSUhEUgAAAPIAAAAZBAMAAAD5xW7WAAAAMFBMVEX///8QEBCIiIhmZma6urrM\n",
       "zMxUVFQiIiJERETc3Nzu7u6qqqp2dnaYmJgyMjIAAAAcRTyBAAAAAXRSTlMAQObYZgAAA3lJREFU\n",
       "SMfdlk9o01Acx39rk7VNk/biRYYQNuiGUywrTkQ2C4KedDltHgYb/ht4GGOolblDHSKZY1pEVAQx\n",
       "brBJnawoIgWR0CHD+occBurAEQQVRcGDB9eD+P4k3Uvb1RR28gftS16+v/d5+f1e3vsB1GQDiRRs\n",
       "hHGJ0Ro9hmCj7Pp/SA4Y6z7KUrKJmw/uyW719yr2CufR3OtThPwSd3xzT3ar/1ra0azg/1AU4U1C\n",
       "vokjk3RPdqmXoiUvuyiTNpxBfzlCDmkAYsY92aXe5/z6ArustHchd7hLyFI+nb5RwwpzqXdKAoP2\n",
       "XBdJyONkbf9W1dFa1naZPsBcr9hBbkK/qci1bSTG/OW4LfjcuAfFLErIxwHGKzAOmeuQy/Q662Kv\n",
       "gEmUWl0a9pFRVKWY7j/afAokk5D30bVm25OWox9xK1qzDw5f7JRZcomefiNgu9jkc+hWEwscedi8\n",
       "1ZYECxCWIThEyD7w2B+98DRmeETIY1IIZ+b+QgfIujjFkkv00Ft8iF1s8ib0FPz23du8deE1YV4H\n",
       "/ichi4bPdn2XTQMiL+ORw2i20sQtDZGlByy5RI+jbxl2YciAX8+yZ7utyUWhK2OTA2Y36pqOfAIO\n",
       "BxiTceb6Gk+iwCJD5DmWTPW5nRGF6HGX0DaoWC5MtFGHsrZs6ATDBuzVgKPRhvFjyPc0X4AQUHIM\n",
       "j9isNdGdUta9Mce+jfUebdAXJ/oA6ppV+jTLhVlhQW0H0tmehy8QclzYAvYKg0fI1xvlh2CakL0n\n",
       "TuF2DFYE8k5y+0DcQcZ6Hn4A1XOIFYMey6VIXkCbRuYK3GYOJxyAesOPBvXqlIyzUZfx9EOPqqqy\n",
       "R7y6RBPVzp9V1TGQX2x3kmn2VoHquX6ABohYLkXyAYCZxqmO0gNLaHuNs61QsoQiMp/yL2v1NNrB\n",
       "XhyiAhqvn0b7cd5Bxnq0SHggej4JwipMpi2XZOXd02mzzPlcl+o7CKJC85zXA5dgRErCc0oW58rO\n",
       "5zuiKVK9gLo2878MyyW5zonhsBxD5o487ACYwDvJG326k2+A7lcAfvSBBke/CzGzlDyzlMtTPYwA\n",
       "7G9tMiyX4inG7HPClwS2tY3MLKtJPChv1l5DmxaU5yo1CdG3AuuSrF4ZEPOnqlRDWffVkN/hknRR\n",
       "Db2vVocZ7smcwbq4rjFqrQATFertbKVT8p/19pm/F2UIfvYdIBcAAAAASUVORK5CYII=\n",
       "\" style=\"display:inline;vertical-align:middle;\" /></a><br>(see <a class=\"ProveItLink\" href=\"../__pv_it/4834b9cde9aac359d974e80d43abee73553bf0740/dependencies.ipynb\">dependencies</a>)<br>"
      ],
      "text/plain": [
       "intervalOC_upper_bound: forall_{a in Reals, b in Reals} [forall_{x in (a,b]} (x <= b)]"
      ]
     },
     "execution_count": 2,
     "metadata": {},
     "output_type": "execute_result"
    }
   ],
   "source": [
    "%proving intervalOC_upper_bound presuming []"
   ]
  },
  {
   "cell_type": "code",
   "execution_count": null,
   "metadata": {},
   "outputs": [],
   "source": []
  }
 ],
 "metadata": {
  "kernelspec": {
   "display_name": "Python 3",
   "language": "python",
   "name": "python3"
  }
 },
 "nbformat": 4,
 "nbformat_minor": 0
}
