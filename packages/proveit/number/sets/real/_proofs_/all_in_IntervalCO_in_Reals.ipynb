{
 "cells": [
  {
   "cell_type": "markdown",
   "metadata": {},
   "source": [
    "Proof of <a class=\"ProveItLink\" href=\"../../../../_context_.ipynb\">proveit</a>.<a class=\"ProveItLink\" href=\"../../../_context_.ipynb\">number</a>.<a class=\"ProveItLink\" href=\"../../_context_.ipynb\">sets</a>.<a class=\"ProveItLink\" href=\"../_context_.ipynb\">real</a>.<a class=\"ProveItLink\" href=\"../_theorems_.ipynb#all_in_IntervalCO_in_Reals\">all_in_IntervalCO_in_Reals</a> theorem\n",
    "========"
   ]
  },
  {
   "cell_type": "code",
   "execution_count": 1,
   "metadata": {},
   "outputs": [],
   "source": [
    "import proveit\n",
    "context = proveit.Context('..') # the theorem's context is in the parent directory"
   ]
  },
  {
   "cell_type": "code",
   "execution_count": 2,
   "metadata": {},
   "outputs": [
    {
     "name": "stdout",
     "output_type": "stream",
     "text": [
      "Beginning proof of all_in_IntervalCO_in_Reals\n",
      "Recorded 'presuming' information\n",
      "Presuming previous theorems (applied transitively).\n"
     ]
    },
    {
     "data": {
      "text/html": [
       "<strong id=\"all_in_IntervalCO_in_Reals\">all_in_IntervalCO_in_Reals:</strong> <a class=\"ProveItLink\" href=\"../__pv_it/6e6490ba2ab4c85db0bc79779c4f001588d3bd890/expr.ipynb\"><img src=\"data:image/png;base64,iVBORw0KGgoAAAANSUhEUgAAAPYAAAAZBAMAAADwLs6sAAAAMFBMVEX///8QEBCIiIhmZma6urrM\n",
       "zMxUVFQiIiJERETc3Nzu7u6qqqp2dnaYmJgyMjIAAAAcRTyBAAAAAXRSTlMAQObYZgAAA4RJREFU\n",
       "SMfdlk1oE0EUx1/3Ix+b3dWDh0pBQguxoGJosOChJVBUENScWg9Cgt96KKWoKbaU0INuW0pXERWp\n",
       "uLbQSqwaFCkFhSVF0CgSpGAtKIvQg6LVgwfbkzM7u9lJGsMG6sUHyWQm/ze/nffezgxAVXYqqcL6\n",
       "GJfsq9KjC9bPrv+XbH++wp+zhG3g5qN7tlv9vXKD72tHl2vRQ3lUk/0aj311z3ar/1J21JiEwwsa\n",
       "CIbJvonjk3LPdqmXwmWHU2Pg8ycAsiZb1gDEjHu2S7236F2ULif7bTarokXfNdlSLp2+UUWtudQX\n",
       "SfgBzVk3q6KoyVGzzn8rSl81dV6q76FWyBd+NaDPeOja9iDuPNSomHs4FHMxbLJPAAyWoRw0/sIu\n",
       "1Scoj0DU7owACLrU7TVnOUPne6YVPYlkmOw2UnW2zTQe+4xb0SqWQPel1iDNLtE7bOyx2+70or4m\n",
       "rnJmUJzSTF1J9uNiCXSZbC8w9jYgPIvkGRFymCVjyf25Fgjq4jjNLtE7bOwxaXc2oX/BR6D8lmVk\n",
       "1rrbfDgB/E+TLea9tsPCbBoQexHPvQE9sTR8S0Ns6QHNLtE7bOwhqw4bjZCAUa9kaozdk3LYfqMd\n",
       "dSZCS8DhMGO2jtp4/VkUXmSIPU2ziT67KxQz9YgtNHXGLI9CSHrxVzxGOhvpfA+9w6cYiTkMHkfx\n",
       "Oc+vggyEHcFzbtUayP4Z1NlI0X6O9YzW6Y3KVr6nYnHN8ggknFoLaDuRDneaaHY7GyvUGjxBE7Jh\n",
       "vgsmTDZ78hxuB+CTYK4r2HwqWsTGeh6+A9EjdgQ6LA/g7PDOARzKjMJtstFkqD1VzKA3hdUJG2el\n",
       "JsMkoENRlCAjXp0nCWvmexRlAIKvdhSzSRZXgOgRuw5Clgfw9iuwD9Vd/XgLSYFwen/hLFkC5UcG\n",
       "5BhhSyguj1TfouYhMQ8cwYFaRVMmSMyf5orYEilUHjxk3cIKjKQtDy5Rdk/lXlp7qm1T1Pldo8YP\n",
       "gBgj+c7p/iG4KKXgBWGL02vO7zuiIRI9esDN/K+85SHplc8S27IUmzv6uAVgGO8tb/WJVr4O2t8A\n",
       "+FCeAn3fhIhRyp6cz+aIHrH3bmvIWx5sIT2DldDWGUobg/NHdjPSNKJ8V7i3MCTflIdc+e5gm0+t\n",
       "cGeadX9nStAez93dmT5Uuq/lq2abHkL4H94Vk2vv5/3UCKNVcT+/8AcJcxf246FyrAAAAABJRU5E\n",
       "rkJggg==\n",
       "\" style=\"display:inline;vertical-align:middle;\" /></a><br>(see <a class=\"ProveItLink\" href=\"../__pv_it/6e6490ba2ab4c85db0bc79779c4f001588d3bd890/dependencies.ipynb\">dependencies</a>)<br>"
      ],
      "text/plain": [
       "all_in_IntervalCO_in_Reals: forall_{a in Reals, b in Reals} [forall_{x in [a,b)} (x in Reals)]"
      ]
     },
     "execution_count": 2,
     "metadata": {},
     "output_type": "execute_result"
    }
   ],
   "source": [
    "%proving all_in_IntervalCO_in_Reals presuming []"
   ]
  },
  {
   "cell_type": "code",
   "execution_count": null,
   "metadata": {},
   "outputs": [],
   "source": []
  }
 ],
 "metadata": {
  "kernelspec": {
   "display_name": "Python 3",
   "language": "python",
   "name": "python3"
  }
 },
 "nbformat": 4,
 "nbformat_minor": 0
}
