{
 "cells": [
  {
   "cell_type": "markdown",
   "metadata": {},
   "source": [
    "Proof of <a class=\"ProveItLink\" href=\"../../../../_context_.ipynb\">proveit</a>.<a class=\"ProveItLink\" href=\"../../../_context_.ipynb\">number</a>.<a class=\"ProveItLink\" href=\"../../_context_.ipynb\">sets</a>.<a class=\"ProveItLink\" href=\"../_context_.ipynb\">real</a>.<a class=\"ProveItLink\" href=\"../_theorems_.ipynb#intervalOO_upper_bound\">intervalOO_upper_bound</a> theorem\n",
    "========"
   ]
  },
  {
   "cell_type": "code",
   "execution_count": 1,
   "metadata": {},
   "outputs": [],
   "source": [
    "import proveit\n",
    "context = proveit.Context('..') # the theorem's context is in the parent directory"
   ]
  },
  {
   "cell_type": "code",
   "execution_count": 2,
   "metadata": {},
   "outputs": [
    {
     "name": "stdout",
     "output_type": "stream",
     "text": [
      "Beginning proof of intervalOO_upper_bound\n",
      "Recorded 'presuming' information\n",
      "Presuming previous theorems (applied transitively).\n"
     ]
    },
    {
     "data": {
      "text/html": [
       "<strong id=\"intervalOO_upper_bound\">intervalOO_upper_bound:</strong> <a class=\"ProveItLink\" href=\"../__pv_it/4f12ef7a421f85769e1bfab552869a79822ee2c80/expr.ipynb\"><img src=\"data:image/png;base64,iVBORw0KGgoAAAANSUhEUgAAAPQAAAAZBAMAAAD02x6RAAAAMFBMVEX///8QEBCIiIhmZma6urrM\n",
       "zMxUVFQiIiJERETc3Nzu7u6qqqp2dnaYmJgyMjIAAAAcRTyBAAAAAXRSTlMAQObYZgAAA3dJREFU\n",
       "SMfdlk1oE0EUx1+T3SbZj+TiRYqwtJAWqhgarBRpDQh60ubUXgoJfhU8lFLUSttD7UFSSzGIqAji\n",
       "2kIrsdKgiBRUlhQpxg/2IKgFZREUFAUPHmwO4puZ3WSzTdoN1IsPspOZ/b/57b73ZnYAarL+4TRs\n",
       "iXHDYzV6DMKW2dX/Eh3Qq95aYmiDNB/co13r71QcFc7j09enKfoFGfjmHu1a/7XycDCCfIOir5PY\n",
       "jLtHu9XLEefI0zi5hrJ4yVF0UAWQsu7RbvU+5yp820GbbvSH2xQt5zOZazWUmVu9U9OcZ+0KjXqM\n",
       "VvjvVGqslgpfpw/Y/vPFf034mwlf2amw6lpRzPEvjfswbBGKPgEwWQFyxKiCXqfXbC5izOpMI0+T\n",
       "h3x0GmGvtdKEP+piGmSDog+wgrPsUcuxT6SVzDIRhy50KXa0Q89WClguHVZnFPuqVODo3YFicYgF\n",
       "CCkgDlK0DzzFR3oc1T0S5AkqSNR3lztB0aQZO9qhh77SukGXOauzDW+Dny0FoYT2GrCoAf+ToiXd\n",
       "Z42/W8oAolfJ1CF8XHnqhopo+Z4d7dCTBJhGXILpEhrIC7JyKAYcl3V31kIHjB4cmg1/Bo7EmKBJ\n",
       "9hKNpzC2aIhesKOZPrcnHKd6MiS0DcRNl2JERsklEbfiY5VZSIf9KnAs4DB5HG+d4QsQBIaOkimb\n",
       "1Sa2aSqaN1q2hxO9Rx3wxag+gEPz8YRquojJUpmJ6m4Uli+uUEzYAVaZwQN09kb4QZilaO/J06Sd\n",
       "gI8CfSulvT9WhiZ6Hn4A03OYzij0mi60S20Zd4/sJbjp2FLqdT/O6tUYmiSkLutJQm8qlVI80uU3\n",
       "LFft/LlUagKU57vK0SyBa8D0HL5mA4RNF+Ct6j+EJdc406k7NlKh7RXJeJyhZYzJYtq/qtazgIt9\n",
       "JEgFnDDJAv4wX4YmeiwUHqieHwdhDaYzpguXrLaR2m3e9r2uSycOgxRnuc5rgYswIo/DM4aWFtZ9\n",
       "r29JhsT0Ag5t53/ppousVf182CxnQ3NH73cCTJEt5bU228U3QM9LAD8uR3HsuxA1nOi5N7k808MI\n",
       "wMHWJt108RaTM1mdbH407ebB3JmbDmtaMNcbnFKovhXsLsFNjgrU/OkNDkhL7g9I/jKXJ24OSO83\n",
       "Opvp7tGcbnMRIv/sWDhc4Rxuj1BxB9n8HH72L701BRvmzSPGAAAAAElFTkSuQmCC\n",
       "\" style=\"display:inline;vertical-align:middle;\" /></a><br>(see <a class=\"ProveItLink\" href=\"../__pv_it/4f12ef7a421f85769e1bfab552869a79822ee2c80/dependencies.ipynb\">dependencies</a>)<br>"
      ],
      "text/plain": [
       "intervalOO_upper_bound: forall_{a in Reals, b in Reals} [forall_{x in (a,b)} (x < b)]"
      ]
     },
     "execution_count": 2,
     "metadata": {},
     "output_type": "execute_result"
    }
   ],
   "source": [
    "%proving intervalOO_upper_bound presuming []"
   ]
  },
  {
   "cell_type": "code",
   "execution_count": null,
   "metadata": {},
   "outputs": [],
   "source": []
  }
 ],
 "metadata": {
  "kernelspec": {
   "display_name": "Python 3",
   "language": "python",
   "name": "python3"
  }
 },
 "nbformat": 4,
 "nbformat_minor": 0
}
