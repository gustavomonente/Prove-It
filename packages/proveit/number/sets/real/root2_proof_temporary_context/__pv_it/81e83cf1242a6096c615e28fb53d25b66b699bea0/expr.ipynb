{
 "cells": [
  {
   "cell_type": "markdown",
   "metadata": {},
   "source": [
    "Theorem <a class=\"ProveItLink\" href=\"../../_theorems_.ipynb#skolemElim\">skolemElim</a> of type <a class=\"ProveItLink\" href=\"../../../../../../../../doc/html/api/proveit.logic.Forall.html\">Forall</a>\n",
    "=======================\n",
    "# from context <a class=\"ProveItLink\" href=\"../../_context_.ipynb\">proveit.number.sets.real.root2_proof_temporary_context</a>\n",
    "*** see <a class=\"ProveItLink\" href=\"dependencies.ipynb\">dependencies</a> ***"
   ]
  },
  {
   "cell_type": "code",
   "execution_count": 1,
   "metadata": {},
   "outputs": [],
   "source": [
    "import proveit\n",
    "# Automation is not needed when only building an expression:\n",
    "proveit.defaults.automation = False # This will speed things up.\n",
    "proveit.defaults.inline_pngs = False # Makes files smaller.\n",
    "# import the special expression\n",
    "from proveit.number.sets.real.root2_proof_temporary_context._theorems_ import skolemElim"
   ]
  },
  {
   "cell_type": "code",
   "execution_count": 2,
   "metadata": {},
   "outputs": [
    {
     "name": "stdout",
     "output_type": "stream",
     "text": [
      "Passed sanity check: built 'skolemElim' is the same as the stored Expression.\n"
     ]
    }
   ],
   "source": [
    "# check that the built expression is the same as the stored expression\n",
    "%check_expr skolemElim"
   ]
  },
  {
   "cell_type": "code",
   "execution_count": 3,
   "metadata": {},
   "outputs": [
    {
     "name": "stdout",
     "output_type": "stream",
     "text": [
      "\\vdash \\forall_{P, Q, \\alpha}~\\left(\\left(\\left[\\exists_{y~|~Q(y)}~P(y)\\right] \\land \\left[\\forall_{x~|~P(x), Q(x)}~\\alpha\\right]\\right) \\Rightarrow \\alpha\\right)\n"
     ]
    }
   ],
   "source": [
    "# Show the LaTeX representation of the expression for convenience if you need it.\n",
    "print(skolemElim.latex())"
   ]
  },
  {
   "cell_type": "code",
   "execution_count": 4,
   "metadata": {},
   "outputs": [
    {
     "data": {
      "text/html": [
       "<table><tr><th>&nbsp;</th><th>core type</th><th>sub-expressions</th><th>expression</th></tr>\n",
       "<tr><td>0</td><td>Operation</td><td>operator:&nbsp;12<br>operand:&nbsp;1<br></td><td><a class=\"ProveItLink\" href=\"expr.ipynb\"><img src=\"expr.png\" style=\"display:inline;vertical-align:middle;\" /></a></td></tr>\n",
       "<tr><td>1</td><td>Lambda</td><td>parameters:&nbsp;2<br>body:&nbsp;3<br></td><td><a class=\"ProveItLink\" href=\"../098c557bb37ccca306187e52e7f7aeaeb19f94c80/expr.ipynb\"><img src=\"../098c557bb37ccca306187e52e7f7aeaeb19f94c80/expr.png\" style=\"display:inline;vertical-align:middle;\" /></a></td></tr>\n",
       "<tr><td>2</td><td>ExprTuple</td><td>25, 26, 18</td><td><a class=\"ProveItLink\" href=\"../4f255e94948c6b264d86b654f8b70e32dd47c20e0/expr.ipynb\"><img src=\"../4f255e94948c6b264d86b654f8b70e32dd47c20e0/expr.png\" style=\"display:inline;vertical-align:middle;\" /></a></td></tr>\n",
       "<tr><td>3</td><td>Operation</td><td>operator:&nbsp;4<br>operands:&nbsp;5<br></td><td><a class=\"ProveItLink\" href=\"../96a8037ece0a0a38a5f4b20d91b61ba9c3578be20/expr.ipynb\"><img src=\"../96a8037ece0a0a38a5f4b20d91b61ba9c3578be20/expr.png\" style=\"display:inline;vertical-align:middle;\" /></a></td></tr>\n",
       "<tr><td>4</td><td>Literal</td><td></td><td><a class=\"ProveItLink\" href=\"../../../../../../logic/boolean/implication/__pv_it/1e62b0c0a90306fc48b17f0dc8d4dc4df8bb234f0/expr.ipynb\"><img src=\"../../../../../../logic/boolean/implication/__pv_it/1e62b0c0a90306fc48b17f0dc8d4dc4df8bb234f0/expr.png\" style=\"display:inline;vertical-align:middle;\" /></a></td></tr>\n",
       "<tr><td>5</td><td>ExprTuple</td><td>6, 18</td><td><a class=\"ProveItLink\" href=\"../381889decb76437561bff4d475c1947267f1ccaf0/expr.ipynb\"><img src=\"../381889decb76437561bff4d475c1947267f1ccaf0/expr.png\" style=\"display:inline;vertical-align:middle;\" /></a></td></tr>\n",
       "<tr><td>6</td><td>Operation</td><td>operator:&nbsp;21<br>operands:&nbsp;7<br></td><td><a class=\"ProveItLink\" href=\"../788a5f012675ee940f340b42064ebc8329fc3c810/expr.ipynb\"><img src=\"../788a5f012675ee940f340b42064ebc8329fc3c810/expr.png\" style=\"display:inline;vertical-align:middle;\" /></a></td></tr>\n",
       "<tr><td>7</td><td>ExprTuple</td><td>8, 9</td><td><a class=\"ProveItLink\" href=\"../0f49b9ab142dd3d818cdef767ba56f0244cb00380/expr.ipynb\"><img src=\"../0f49b9ab142dd3d818cdef767ba56f0244cb00380/expr.png\" style=\"display:inline;vertical-align:middle;\" /></a></td></tr>\n",
       "<tr><td>8</td><td>Operation</td><td>operator:&nbsp;10<br>operand:&nbsp;11<br></td><td><a class=\"ProveItLink\" href=\"../dc5e3e4bf852a75de64fd4e3b108d517848234cf0/expr.ipynb\"><img src=\"../dc5e3e4bf852a75de64fd4e3b108d517848234cf0/expr.png\" style=\"display:inline;vertical-align:middle;\" /></a></td></tr>\n",
       "<tr><td>9</td><td>Operation</td><td>operator:&nbsp;12<br>operand:&nbsp;13<br></td><td><a class=\"ProveItLink\" href=\"../67c14f8ddb0565a0a688448b5eed94e6a23de4490/expr.ipynb\"><img src=\"../67c14f8ddb0565a0a688448b5eed94e6a23de4490/expr.png\" style=\"display:inline;vertical-align:middle;\" /></a></td></tr>\n",
       "<tr><td>10</td><td>Literal</td><td></td><td><a class=\"ProveItLink\" href=\"../../../../../../logic/boolean/quantification/existential/__pv_it/a8168c029d342fc3061f84d6d950c32772790ad90/expr.ipynb\"><img src=\"../../../../../../logic/boolean/quantification/existential/__pv_it/a8168c029d342fc3061f84d6d950c32772790ad90/expr.png\" style=\"display:inline;vertical-align:middle;\" /></a></td></tr>\n",
       "<tr><td>11</td><td>Lambda</td><td>parameter:&nbsp;20<br>body:&nbsp;14<br></td><td><a class=\"ProveItLink\" href=\"../8c4cb73424675cec184655bd2aad4f6df5f1f1db0/expr.ipynb\"><img src=\"../8c4cb73424675cec184655bd2aad4f6df5f1f1db0/expr.png\" style=\"display:inline;vertical-align:middle;\" /></a></td></tr>\n",
       "<tr><td>12</td><td>Literal</td><td></td><td><a class=\"ProveItLink\" href=\"../../../../../../logic/boolean/quantification/universal/__pv_it/fd9c772d6675566ed52a6897806f45eb08a4ea910/expr.ipynb\"><img src=\"../../../../../../logic/boolean/quantification/universal/__pv_it/fd9c772d6675566ed52a6897806f45eb08a4ea910/expr.png\" style=\"display:inline;vertical-align:middle;\" /></a></td></tr>\n",
       "<tr><td>13</td><td>Lambda</td><td>parameter:&nbsp;27<br>body:&nbsp;15<br></td><td><a class=\"ProveItLink\" href=\"../afafc903c7754042f810cdef3411787d24fb45dd0/expr.ipynb\"><img src=\"../afafc903c7754042f810cdef3411787d24fb45dd0/expr.png\" style=\"display:inline;vertical-align:middle;\" /></a></td></tr>\n",
       "<tr><td>14</td><td>Conditional</td><td>value:&nbsp;16<br>condition:&nbsp;17<br></td><td><a class=\"ProveItLink\" href=\"../8ad8229fa6e368fd00fbc708a5a26574716190510/expr.ipynb\"><img src=\"../8ad8229fa6e368fd00fbc708a5a26574716190510/expr.png\" style=\"display:inline;vertical-align:middle;\" /></a></td></tr>\n",
       "<tr><td>15</td><td>Conditional</td><td>value:&nbsp;18<br>condition:&nbsp;19<br></td><td><a class=\"ProveItLink\" href=\"../3e99878ea9321090e3945acf4fc2961ada3d88320/expr.ipynb\"><img src=\"../3e99878ea9321090e3945acf4fc2961ada3d88320/expr.png\" style=\"display:inline;vertical-align:middle;\" /></a></td></tr>\n",
       "<tr><td>16</td><td>Operation</td><td>operator:&nbsp;25<br>operand:&nbsp;20<br></td><td><a class=\"ProveItLink\" href=\"../../../../../../__pv_it/48906551f53658ac26c160560a233587087698750/expr.ipynb\"><img src=\"../../../../../../__pv_it/48906551f53658ac26c160560a233587087698750/expr.png\" style=\"display:inline;vertical-align:middle;\" /></a></td></tr>\n",
       "<tr><td>17</td><td>Operation</td><td>operator:&nbsp;26<br>operand:&nbsp;20<br></td><td><a class=\"ProveItLink\" href=\"../../../../../../__pv_it/b12459e03311082eca9a1d24d3c933c0eba785f90/expr.ipynb\"><img src=\"../../../../../../__pv_it/b12459e03311082eca9a1d24d3c933c0eba785f90/expr.png\" style=\"display:inline;vertical-align:middle;\" /></a></td></tr>\n",
       "<tr><td>18</td><td>Variable</td><td></td><td><a class=\"ProveItLink\" href=\"../../../../../../__pv_it/186b4b5c9925c86cfc381a01181526b85fd087620/expr.ipynb\"><img src=\"../../../../../../__pv_it/186b4b5c9925c86cfc381a01181526b85fd087620/expr.png\" style=\"display:inline;vertical-align:middle;\" /></a></td></tr>\n",
       "<tr><td>19</td><td>Operation</td><td>operator:&nbsp;21<br>operands:&nbsp;22<br></td><td><a class=\"ProveItLink\" href=\"../05f6770c6e111f893f02b9962fd56d2d1ddf01e20/expr.ipynb\"><img src=\"../05f6770c6e111f893f02b9962fd56d2d1ddf01e20/expr.png\" style=\"display:inline;vertical-align:middle;\" /></a></td></tr>\n",
       "<tr><td>20</td><td>Variable</td><td></td><td><a class=\"ProveItLink\" href=\"../../../../../../__pv_it/c6e291955561f22a0e6708fd793ea93f1c7dbb5d0/expr.ipynb\"><img src=\"../../../../../../__pv_it/c6e291955561f22a0e6708fd793ea93f1c7dbb5d0/expr.png\" style=\"display:inline;vertical-align:middle;\" /></a></td></tr>\n",
       "<tr><td>21</td><td>Literal</td><td></td><td><a class=\"ProveItLink\" href=\"../../../../../../logic/boolean/conjunction/__pv_it/f41cc6b553210927c09f19a8a39cdf860a5585930/expr.ipynb\"><img src=\"../../../../../../logic/boolean/conjunction/__pv_it/f41cc6b553210927c09f19a8a39cdf860a5585930/expr.png\" style=\"display:inline;vertical-align:middle;\" /></a></td></tr>\n",
       "<tr><td>22</td><td>ExprTuple</td><td>23, 24</td><td><a class=\"ProveItLink\" href=\"../bb6173e0bbb3b3570cc60e352d8a952a2aa94d240/expr.ipynb\"><img src=\"../bb6173e0bbb3b3570cc60e352d8a952a2aa94d240/expr.png\" style=\"display:inline;vertical-align:middle;\" /></a></td></tr>\n",
       "<tr><td>23</td><td>Operation</td><td>operator:&nbsp;25<br>operand:&nbsp;27<br></td><td><a class=\"ProveItLink\" href=\"../../../../../../__pv_it/2548a99d921e002e203801a4828f7377ced085bf0/expr.ipynb\"><img src=\"../../../../../../__pv_it/2548a99d921e002e203801a4828f7377ced085bf0/expr.png\" style=\"display:inline;vertical-align:middle;\" /></a></td></tr>\n",
       "<tr><td>24</td><td>Operation</td><td>operator:&nbsp;26<br>operand:&nbsp;27<br></td><td><a class=\"ProveItLink\" href=\"../../../../../../__pv_it/a24cf46eabc9f0f99096d4e0a28e00277ee25c6c0/expr.ipynb\"><img src=\"../../../../../../__pv_it/a24cf46eabc9f0f99096d4e0a28e00277ee25c6c0/expr.png\" style=\"display:inline;vertical-align:middle;\" /></a></td></tr>\n",
       "<tr><td>25</td><td>Variable</td><td></td><td><a class=\"ProveItLink\" href=\"../../../../../../__pv_it/390c91a44e60b16c95d2255652741252e8ec8d980/expr.ipynb\"><img src=\"../../../../../../__pv_it/390c91a44e60b16c95d2255652741252e8ec8d980/expr.png\" style=\"display:inline;vertical-align:middle;\" /></a></td></tr>\n",
       "<tr><td>26</td><td>Variable</td><td></td><td><a class=\"ProveItLink\" href=\"../../../../../../__pv_it/dbe7145e53d9411a5ba89652cbfea9d54e4b581a0/expr.ipynb\"><img src=\"../../../../../../__pv_it/dbe7145e53d9411a5ba89652cbfea9d54e4b581a0/expr.png\" style=\"display:inline;vertical-align:middle;\" /></a></td></tr>\n",
       "<tr><td>27</td><td>Variable</td><td></td><td><a class=\"ProveItLink\" href=\"../../../../../../__pv_it/72df168d2bfb4e0140af90912ebf83b13772060b0/expr.ipynb\"><img src=\"../../../../../../__pv_it/72df168d2bfb4e0140af90912ebf83b13772060b0/expr.png\" style=\"display:inline;vertical-align:middle;\" /></a></td></tr>\n",
       "</table>\n"
      ],
      "text/plain": [
       "0. forall_{P, Q, alpha} (([exists_{y | Q(y)} P(y)] and [forall_{x | P(x), Q(x)} alpha]) => alpha)\n",
       "   core type: Operation\n",
       "   operator: 12\n",
       "   operand: 1\n",
       "1. (P, Q, alpha) -> (([exists_{y | Q(y)} P(y)] and [forall_{x | P(x), Q(x)} alpha]) => alpha)\n",
       "   core type: Lambda\n",
       "   parameters: 2\\n   body: 3\n",
       "2. (P, Q, alpha)\n",
       "   core type: ExprTuple\n",
       "   sub-expressions: 25, 26, 18\n",
       "3. ([exists_{y | Q(y)} P(y)] and [forall_{x | P(x), Q(x)} alpha]) => alpha\n",
       "   core type: Operation\n",
       "   operator: 4\n",
       "   operands: 5\n",
       "4. =>\n",
       "   core type: Literal\n",
       "   sub-expressions: \n",
       "5. ([exists_{y | Q(y)} P(y)] and [forall_{x | P(x), Q(x)} alpha], alpha)\n",
       "   core type: ExprTuple\n",
       "   sub-expressions: 6, 18\n",
       "6. [exists_{y | Q(y)} P(y)] and [forall_{x | P(x), Q(x)} alpha]\n",
       "   core type: Operation\n",
       "   operator: 21\n",
       "   operands: 7\n",
       "7. (exists_{y | Q(y)} P(y), forall_{x | P(x), Q(x)} alpha)\n",
       "   core type: ExprTuple\n",
       "   sub-expressions: 8, 9\n",
       "8. exists_{y | Q(y)} P(y)\n",
       "   core type: Operation\n",
       "   operator: 10\n",
       "   operand: 11\n",
       "9. forall_{x | P(x), Q(x)} alpha\n",
       "   core type: Operation\n",
       "   operator: 12\n",
       "   operand: 13\n",
       "10. exists\n",
       "    core type: Literal\n",
       "    sub-expressions: \n",
       "11. y -> {P(y) if Q(y).\n",
       "    core type: Lambda\n",
       "    parameter: 20\n",
       "    body: 14\n",
       "12. forall\n",
       "    core type: Literal\n",
       "    sub-expressions: \n",
       "13. x -> {alpha if P(x) ,  Q(x).\n",
       "    core type: Lambda\n",
       "    parameter: 27\n",
       "    body: 15\n",
       "14. {P(y) if Q(y).\n",
       "    core type: Conditional\n",
       "    value: 16\n",
       "    condition: 17\n",
       "15. {alpha if P(x) ,  Q(x).\n",
       "    core type: Conditional\n",
       "    value: 18\n",
       "    condition: 19\n",
       "16. P(y)\n",
       "    core type: Operation\n",
       "    operator: 25\n",
       "    operand: 20\n",
       "17. Q(y)\n",
       "    core type: Operation\n",
       "    operator: 26\n",
       "    operand: 20\n",
       "18. alpha\n",
       "    core type: Variable\n",
       "    sub-expressions: \n",
       "19. P(x) and Q(x)\n",
       "    core type: Operation\n",
       "    operator: 21\n",
       "    operands: 22\n",
       "20. y\n",
       "    core type: Variable\n",
       "    sub-expressions: \n",
       "21. and\n",
       "    core type: Literal\n",
       "    sub-expressions: \n",
       "22. (P(x), Q(x))\n",
       "    core type: ExprTuple\n",
       "    sub-expressions: 23, 24\n",
       "23. P(x)\n",
       "    core type: Operation\n",
       "    operator: 25\n",
       "    operand: 27\n",
       "24. Q(x)\n",
       "    core type: Operation\n",
       "    operator: 26\n",
       "    operand: 27\n",
       "25. P\n",
       "    core type: Variable\n",
       "    sub-expressions: \n",
       "26. Q\n",
       "    core type: Variable\n",
       "    sub-expressions: \n",
       "27. x\n",
       "    core type: Variable\n",
       "    sub-expressions: "
      ]
     },
     "execution_count": 4,
     "metadata": {},
     "output_type": "execute_result"
    }
   ],
   "source": [
    "# display the expression information\n",
    "skolemElim.exprInfo()"
   ]
  },
  {
   "cell_type": "code",
   "execution_count": null,
   "metadata": {},
   "outputs": [],
   "source": []
  }
 ],
 "metadata": {
  "kernelspec": {
   "display_name": "Python 3",
   "language": "python",
   "name": "python3"
  },
  "language_info": {
   "codemirror_mode": {
    "name": "ipython",
    "version": 3
   },
   "file_extension": ".py",
   "mimetype": "text/x-python",
   "name": "python",
   "nbconvert_exporter": "python",
   "pygments_lexer": "ipython3",
   "version": "3.7.3"
  }
 },
 "nbformat": 4,
 "nbformat_minor": 1
}
