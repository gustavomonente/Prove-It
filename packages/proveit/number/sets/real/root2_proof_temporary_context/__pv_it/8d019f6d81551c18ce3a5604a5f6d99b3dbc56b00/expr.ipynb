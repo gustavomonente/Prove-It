{
 "cells": [
  {
   "cell_type": "markdown",
   "metadata": {},
   "source": [
    "Expression of type <a class=\"ProveItLink\" href=\"../../../../../../../../doc/html/api/proveit.Lambda.html\">Lambda</a>\n",
    "=======================\n",
    "# from context <a class=\"ProveItLink\" href=\"../../_context_.ipynb\">proveit.number.sets.real.root2_proof_temporary_context</a>"
   ]
  },
  {
   "cell_type": "code",
   "execution_count": 1,
   "metadata": {},
   "outputs": [],
   "source": [
    "import proveit\n",
    "# Automation is not needed when building an expression:\n",
    "proveit.defaults.automation = False # This will speed things up.\n",
    "proveit.defaults.inline_pngs = False # Makes files smaller.\n",
    "# import Expression classes needed to build the expression\n",
    "from proveit import Function, Lambda\n",
    "from proveit._common_ import P, Px, Py, R, x, y, z\n",
    "from proveit.logic import And, Exists, Forall, Implies"
   ]
  },
  {
   "cell_type": "code",
   "execution_count": 2,
   "metadata": {},
   "outputs": [
    {
     "data": {
      "text/html": [
       "<strong id=\"expr\">expr:</strong> <a class=\"ProveItLink\" href=\"expr.ipynb\"><img src=\"expr.png\" style=\"display:inline;vertical-align:middle;\" /></a><br>"
      ],
      "text/plain": [
       "expr: (P, R) -> (([exists_{x} P(x)] and [forall_{y | P(y)} [exists_{z} R(y, z)]]) => [exists_{x, z} R(x, z)])"
      ]
     },
     "execution_count": 2,
     "metadata": {},
     "output_type": "execute_result"
    }
   ],
   "source": [
    "# build up the expression from sub-expressions\n",
    "subExpr1 = [x, z]\n",
    "expr = Lambda([P, R], Implies(And(Exists([x], Px), Forall([y], Exists([z], Function(R, [y, z])), condition = Py)), Exists(subExpr1, Function(R, subExpr1))))"
   ]
  },
  {
   "cell_type": "code",
   "execution_count": 3,
   "metadata": {},
   "outputs": [
    {
     "name": "stdout",
     "output_type": "stream",
     "text": [
      "Passed sanity check: built 'expr' is the same as the stored Expression.\n"
     ]
    }
   ],
   "source": [
    "# check that the built expression is the same as the stored expression\n",
    "%check_expr"
   ]
  },
  {
   "cell_type": "code",
   "execution_count": 4,
   "metadata": {},
   "outputs": [
    {
     "name": "stdout",
     "output_type": "stream",
     "text": [
      "\\left(P, R\\right) \\mapsto \\left(\\left(\\left[\\exists_{x}~P(x)\\right] \\land \\left[\\forall_{y~|~P(y)}~\\left[\\exists_{z}~R(y, z)\\right]\\right]\\right) \\Rightarrow \\left[\\exists_{x, z}~R(x, z)\\right]\\right)\n"
     ]
    }
   ],
   "source": [
    "# Show the LaTeX representation of the expression for convenience if you need it.\n",
    "print(expr.latex())"
   ]
  },
  {
   "cell_type": "code",
   "execution_count": 5,
   "metadata": {},
   "outputs": [
    {
     "data": {
      "text/html": [
       "<table><tr><th>&nbsp;</th><th>core type</th><th>sub-expressions</th><th>expression</th></tr>\n",
       "<tr><td>0</td><td>Lambda</td><td>parameters:&nbsp;1<br>body:&nbsp;2<br></td><td><a class=\"ProveItLink\" href=\"expr.ipynb\"><img src=\"expr.png\" style=\"display:inline;vertical-align:middle;\" /></a></td></tr>\n",
       "<tr><td>1</td><td>ExprTuple</td><td>24, 26</td><td><a class=\"ProveItLink\" href=\"../eba0fd91a60c12574b79ac983b99a9be9954e2340/expr.ipynb\"><img src=\"../eba0fd91a60c12574b79ac983b99a9be9954e2340/expr.png\" style=\"display:inline;vertical-align:middle;\" /></a></td></tr>\n",
       "<tr><td>2</td><td>Operation</td><td>operator:&nbsp;3<br>operands:&nbsp;4<br></td><td><a class=\"ProveItLink\" href=\"../1f988e4d0eaa40dde2c4533ec382533c8c56bff70/expr.ipynb\"><img src=\"../1f988e4d0eaa40dde2c4533ec382533c8c56bff70/expr.png\" style=\"display:inline;vertical-align:middle;\" /></a></td></tr>\n",
       "<tr><td>3</td><td>Literal</td><td></td><td><a class=\"ProveItLink\" href=\"../../../../../../logic/boolean/implication/__pv_it/1e62b0c0a90306fc48b17f0dc8d4dc4df8bb234f0/expr.ipynb\"><img src=\"../../../../../../logic/boolean/implication/__pv_it/1e62b0c0a90306fc48b17f0dc8d4dc4df8bb234f0/expr.png\" style=\"display:inline;vertical-align:middle;\" /></a></td></tr>\n",
       "<tr><td>4</td><td>ExprTuple</td><td>5, 6</td><td><a class=\"ProveItLink\" href=\"../148206ab59f153d6d97218a689876896f2f2a8790/expr.ipynb\"><img src=\"../148206ab59f153d6d97218a689876896f2f2a8790/expr.png\" style=\"display:inline;vertical-align:middle;\" /></a></td></tr>\n",
       "<tr><td>5</td><td>Operation</td><td>operator:&nbsp;7<br>operands:&nbsp;8<br></td><td><a class=\"ProveItLink\" href=\"../1ab9797c37f65c7c175bcbe29420f21e81920efe0/expr.ipynb\"><img src=\"../1ab9797c37f65c7c175bcbe29420f21e81920efe0/expr.png\" style=\"display:inline;vertical-align:middle;\" /></a></td></tr>\n",
       "<tr><td>6</td><td>Operation</td><td>operator:&nbsp;22<br>operand:&nbsp;9<br></td><td><a class=\"ProveItLink\" href=\"../5547bcc6da71ee41c0b97f3124e6ac7a3d870ed10/expr.ipynb\"><img src=\"../5547bcc6da71ee41c0b97f3124e6ac7a3d870ed10/expr.png\" style=\"display:inline;vertical-align:middle;\" /></a></td></tr>\n",
       "<tr><td>7</td><td>Literal</td><td></td><td><a class=\"ProveItLink\" href=\"../../../../../../logic/boolean/conjunction/__pv_it/f41cc6b553210927c09f19a8a39cdf860a5585930/expr.ipynb\"><img src=\"../../../../../../logic/boolean/conjunction/__pv_it/f41cc6b553210927c09f19a8a39cdf860a5585930/expr.png\" style=\"display:inline;vertical-align:middle;\" /></a></td></tr>\n",
       "<tr><td>8</td><td>ExprTuple</td><td>10, 11</td><td><a class=\"ProveItLink\" href=\"../207fb27831e54467505af8254c398e087ba33e300/expr.ipynb\"><img src=\"../207fb27831e54467505af8254c398e087ba33e300/expr.png\" style=\"display:inline;vertical-align:middle;\" /></a></td></tr>\n",
       "<tr><td>9</td><td>Lambda</td><td>parameters:&nbsp;16<br>body:&nbsp;12<br></td><td><a class=\"ProveItLink\" href=\"../b964c668b8983c196b9ee9be98a3dd4125e84fc30/expr.ipynb\"><img src=\"../b964c668b8983c196b9ee9be98a3dd4125e84fc30/expr.png\" style=\"display:inline;vertical-align:middle;\" /></a></td></tr>\n",
       "<tr><td>10</td><td>Operation</td><td>operator:&nbsp;22<br>operand:&nbsp;13<br></td><td><a class=\"ProveItLink\" href=\"../8db81cf6084a0cd17afa5af70a0f69e8a9cbe9050/expr.ipynb\"><img src=\"../8db81cf6084a0cd17afa5af70a0f69e8a9cbe9050/expr.png\" style=\"display:inline;vertical-align:middle;\" /></a></td></tr>\n",
       "<tr><td>11</td><td>Operation</td><td>operator:&nbsp;14<br>operand:&nbsp;15<br></td><td><a class=\"ProveItLink\" href=\"../cf6f089fe4b04743c94c59e8a9521eb39d28b67a0/expr.ipynb\"><img src=\"../cf6f089fe4b04743c94c59e8a9521eb39d28b67a0/expr.png\" style=\"display:inline;vertical-align:middle;\" /></a></td></tr>\n",
       "<tr><td>12</td><td>Operation</td><td>operator:&nbsp;26<br>operands:&nbsp;16<br></td><td><a class=\"ProveItLink\" href=\"../441f546beb1d2ccf46ea3de5958f35c9c81030960/expr.ipynb\"><img src=\"../441f546beb1d2ccf46ea3de5958f35c9c81030960/expr.png\" style=\"display:inline;vertical-align:middle;\" /></a></td></tr>\n",
       "<tr><td>13</td><td>Lambda</td><td>parameter:&nbsp;19<br>body:&nbsp;17<br></td><td><a class=\"ProveItLink\" href=\"../6b3559ebed9c7722c20184a77450c907a9ea13690/expr.ipynb\"><img src=\"../6b3559ebed9c7722c20184a77450c907a9ea13690/expr.png\" style=\"display:inline;vertical-align:middle;\" /></a></td></tr>\n",
       "<tr><td>14</td><td>Literal</td><td></td><td><a class=\"ProveItLink\" href=\"../../../../../../logic/boolean/quantification/universal/__pv_it/fd9c772d6675566ed52a6897806f45eb08a4ea910/expr.ipynb\"><img src=\"../../../../../../logic/boolean/quantification/universal/__pv_it/fd9c772d6675566ed52a6897806f45eb08a4ea910/expr.png\" style=\"display:inline;vertical-align:middle;\" /></a></td></tr>\n",
       "<tr><td>15</td><td>Lambda</td><td>parameter:&nbsp;28<br>body:&nbsp;18<br></td><td><a class=\"ProveItLink\" href=\"../32616802d085c1dd144f680de03a5da64490eb370/expr.ipynb\"><img src=\"../32616802d085c1dd144f680de03a5da64490eb370/expr.png\" style=\"display:inline;vertical-align:middle;\" /></a></td></tr>\n",
       "<tr><td>16</td><td>ExprTuple</td><td>19, 29</td><td><a class=\"ProveItLink\" href=\"../bed26b1439a100c7729cc5cbcdba29eb5a20da4c0/expr.ipynb\"><img src=\"../bed26b1439a100c7729cc5cbcdba29eb5a20da4c0/expr.png\" style=\"display:inline;vertical-align:middle;\" /></a></td></tr>\n",
       "<tr><td>17</td><td>Operation</td><td>operator:&nbsp;24<br>operand:&nbsp;19<br></td><td><a class=\"ProveItLink\" href=\"../../../../../../__pv_it/2548a99d921e002e203801a4828f7377ced085bf0/expr.ipynb\"><img src=\"../../../../../../__pv_it/2548a99d921e002e203801a4828f7377ced085bf0/expr.png\" style=\"display:inline;vertical-align:middle;\" /></a></td></tr>\n",
       "<tr><td>18</td><td>Conditional</td><td>value:&nbsp;20<br>condition:&nbsp;21<br></td><td><a class=\"ProveItLink\" href=\"../565dae0e5a5094c92d0f281667008b132764a7de0/expr.ipynb\"><img src=\"../565dae0e5a5094c92d0f281667008b132764a7de0/expr.png\" style=\"display:inline;vertical-align:middle;\" /></a></td></tr>\n",
       "<tr><td>19</td><td>Variable</td><td></td><td><a class=\"ProveItLink\" href=\"../../../../../../__pv_it/72df168d2bfb4e0140af90912ebf83b13772060b0/expr.ipynb\"><img src=\"../../../../../../__pv_it/72df168d2bfb4e0140af90912ebf83b13772060b0/expr.png\" style=\"display:inline;vertical-align:middle;\" /></a></td></tr>\n",
       "<tr><td>20</td><td>Operation</td><td>operator:&nbsp;22<br>operand:&nbsp;23<br></td><td><a class=\"ProveItLink\" href=\"../35f33586280284c90cb2664de359f0d5c5dc09660/expr.ipynb\"><img src=\"../35f33586280284c90cb2664de359f0d5c5dc09660/expr.png\" style=\"display:inline;vertical-align:middle;\" /></a></td></tr>\n",
       "<tr><td>21</td><td>Operation</td><td>operator:&nbsp;24<br>operand:&nbsp;28<br></td><td><a class=\"ProveItLink\" href=\"../../../../../../__pv_it/48906551f53658ac26c160560a233587087698750/expr.ipynb\"><img src=\"../../../../../../__pv_it/48906551f53658ac26c160560a233587087698750/expr.png\" style=\"display:inline;vertical-align:middle;\" /></a></td></tr>\n",
       "<tr><td>22</td><td>Literal</td><td></td><td><a class=\"ProveItLink\" href=\"../../../../../../logic/boolean/quantification/existential/__pv_it/a8168c029d342fc3061f84d6d950c32772790ad90/expr.ipynb\"><img src=\"../../../../../../logic/boolean/quantification/existential/__pv_it/a8168c029d342fc3061f84d6d950c32772790ad90/expr.png\" style=\"display:inline;vertical-align:middle;\" /></a></td></tr>\n",
       "<tr><td>23</td><td>Lambda</td><td>parameter:&nbsp;29<br>body:&nbsp;25<br></td><td><a class=\"ProveItLink\" href=\"../4397d040934b3b66f1d9c2fca71d3d25c718d9b50/expr.ipynb\"><img src=\"../4397d040934b3b66f1d9c2fca71d3d25c718d9b50/expr.png\" style=\"display:inline;vertical-align:middle;\" /></a></td></tr>\n",
       "<tr><td>24</td><td>Variable</td><td></td><td><a class=\"ProveItLink\" href=\"../../../../../../__pv_it/390c91a44e60b16c95d2255652741252e8ec8d980/expr.ipynb\"><img src=\"../../../../../../__pv_it/390c91a44e60b16c95d2255652741252e8ec8d980/expr.png\" style=\"display:inline;vertical-align:middle;\" /></a></td></tr>\n",
       "<tr><td>25</td><td>Operation</td><td>operator:&nbsp;26<br>operands:&nbsp;27<br></td><td><a class=\"ProveItLink\" href=\"../068ec3077d2d0834ef902b36fb2b906719ee74f00/expr.ipynb\"><img src=\"../068ec3077d2d0834ef902b36fb2b906719ee74f00/expr.png\" style=\"display:inline;vertical-align:middle;\" /></a></td></tr>\n",
       "<tr><td>26</td><td>Variable</td><td></td><td><a class=\"ProveItLink\" href=\"../../../../../../__pv_it/0a2bba13f1df910578e611e3c0100cd5999bfe270/expr.ipynb\"><img src=\"../../../../../../__pv_it/0a2bba13f1df910578e611e3c0100cd5999bfe270/expr.png\" style=\"display:inline;vertical-align:middle;\" /></a></td></tr>\n",
       "<tr><td>27</td><td>ExprTuple</td><td>28, 29</td><td><a class=\"ProveItLink\" href=\"../dc1952306f2b2bc0afcbb3ade7c3065a042b989a0/expr.ipynb\"><img src=\"../dc1952306f2b2bc0afcbb3ade7c3065a042b989a0/expr.png\" style=\"display:inline;vertical-align:middle;\" /></a></td></tr>\n",
       "<tr><td>28</td><td>Variable</td><td></td><td><a class=\"ProveItLink\" href=\"../../../../../../__pv_it/c6e291955561f22a0e6708fd793ea93f1c7dbb5d0/expr.ipynb\"><img src=\"../../../../../../__pv_it/c6e291955561f22a0e6708fd793ea93f1c7dbb5d0/expr.png\" style=\"display:inline;vertical-align:middle;\" /></a></td></tr>\n",
       "<tr><td>29</td><td>Variable</td><td></td><td><a class=\"ProveItLink\" href=\"../../../../../../__pv_it/0d889e00aed425c3081fbda3ac9194ae911895960/expr.ipynb\"><img src=\"../../../../../../__pv_it/0d889e00aed425c3081fbda3ac9194ae911895960/expr.png\" style=\"display:inline;vertical-align:middle;\" /></a></td></tr>\n",
       "</table>\n"
      ],
      "text/plain": [
       "0. (P, R) -> (([exists_{x} P(x)] and [forall_{y | P(y)} [exists_{z} R(y, z)]]) => [exists_{x, z} R(x, z)])\n",
       "   core type: Lambda\n",
       "   parameters: 1\\n   body: 2\n",
       "1. (P, R)\n",
       "   core type: ExprTuple\n",
       "   sub-expressions: 24, 26\n",
       "2. ([exists_{x} P(x)] and [forall_{y | P(y)} [exists_{z} R(y, z)]]) => [exists_{x, z} R(x, z)]\n",
       "   core type: Operation\n",
       "   operator: 3\n",
       "   operands: 4\n",
       "3. =>\n",
       "   core type: Literal\n",
       "   sub-expressions: \n",
       "4. ([exists_{x} P(x)] and [forall_{y | P(y)} [exists_{z} R(y, z)]], exists_{x, z} R(x, z))\n",
       "   core type: ExprTuple\n",
       "   sub-expressions: 5, 6\n",
       "5. [exists_{x} P(x)] and [forall_{y | P(y)} [exists_{z} R(y, z)]]\n",
       "   core type: Operation\n",
       "   operator: 7\n",
       "   operands: 8\n",
       "6. exists_{x, z} R(x, z)\n",
       "   core type: Operation\n",
       "   operator: 22\n",
       "   operand: 9\n",
       "7. and\n",
       "   core type: Literal\n",
       "   sub-expressions: \n",
       "8. (exists_{x} P(x), forall_{y | P(y)} [exists_{z} R(y, z)])\n",
       "   core type: ExprTuple\n",
       "   sub-expressions: 10, 11\n",
       "9. (x, z) -> R(x, z)\n",
       "   core type: Lambda\n",
       "   parameters: 16\\n   body: 12\n",
       "10. exists_{x} P(x)\n",
       "    core type: Operation\n",
       "    operator: 22\n",
       "    operand: 13\n",
       "11. forall_{y | P(y)} [exists_{z} R(y, z)]\n",
       "    core type: Operation\n",
       "    operator: 14\n",
       "    operand: 15\n",
       "12. R(x, z)\n",
       "    core type: Operation\n",
       "    operator: 26\n",
       "    operands: 16\n",
       "13. x -> P(x)\n",
       "    core type: Lambda\n",
       "    parameter: 19\n",
       "    body: 17\n",
       "14. forall\n",
       "    core type: Literal\n",
       "    sub-expressions: \n",
       "15. y -> {exists_{z} R(y, z) if P(y).\n",
       "    core type: Lambda\n",
       "    parameter: 28\n",
       "    body: 18\n",
       "16. (x, z)\n",
       "    core type: ExprTuple\n",
       "    sub-expressions: 19, 29\n",
       "17. P(x)\n",
       "    core type: Operation\n",
       "    operator: 24\n",
       "    operand: 19\n",
       "18. {exists_{z} R(y, z) if P(y).\n",
       "    core type: Conditional\n",
       "    value: 20\n",
       "    condition: 21\n",
       "19. x\n",
       "    core type: Variable\n",
       "    sub-expressions: \n",
       "20. exists_{z} R(y, z)\n",
       "    core type: Operation\n",
       "    operator: 22\n",
       "    operand: 23\n",
       "21. P(y)\n",
       "    core type: Operation\n",
       "    operator: 24\n",
       "    operand: 28\n",
       "22. exists\n",
       "    core type: Literal\n",
       "    sub-expressions: \n",
       "23. z -> R(y, z)\n",
       "    core type: Lambda\n",
       "    parameter: 29\n",
       "    body: 25\n",
       "24. P\n",
       "    core type: Variable\n",
       "    sub-expressions: \n",
       "25. R(y, z)\n",
       "    core type: Operation\n",
       "    operator: 26\n",
       "    operands: 27\n",
       "26. R\n",
       "    core type: Variable\n",
       "    sub-expressions: \n",
       "27. (y, z)\n",
       "    core type: ExprTuple\n",
       "    sub-expressions: 28, 29\n",
       "28. y\n",
       "    core type: Variable\n",
       "    sub-expressions: \n",
       "29. z\n",
       "    core type: Variable\n",
       "    sub-expressions: "
      ]
     },
     "execution_count": 5,
     "metadata": {},
     "output_type": "execute_result"
    }
   ],
   "source": [
    "# display the expression information\n",
    "expr.exprInfo()"
   ]
  },
  {
   "cell_type": "code",
   "execution_count": null,
   "metadata": {},
   "outputs": [],
   "source": []
  }
 ],
 "metadata": {
  "kernelspec": {
   "display_name": "Python 3",
   "language": "python",
   "name": "python3"
  },
  "language_info": {
   "codemirror_mode": {
    "name": "ipython",
    "version": 3
   },
   "file_extension": ".py",
   "mimetype": "text/x-python",
   "name": "python",
   "nbconvert_exporter": "python",
   "pygments_lexer": "ipython3",
   "version": "3.7.3"
  }
 },
 "nbformat": 4,
 "nbformat_minor": 1
}
