{
 "cells": [
  {
   "cell_type": "markdown",
   "metadata": {},
   "source": [
    "Expression of type <a class=\"ProveItLink\" href=\"../../../../../../../../doc/html/api/proveit.logic.And.html\">And</a>\n",
    "=======================\n",
    "# from context <a class=\"ProveItLink\" href=\"../../_context_.ipynb\">proveit.number.sets.real.root2_proof_temporary_context</a>"
   ]
  },
  {
   "cell_type": "code",
   "execution_count": 1,
   "metadata": {},
   "outputs": [],
   "source": [
    "import proveit\n",
    "# Automation is not needed when building an expression:\n",
    "proveit.defaults.automation = False # This will speed things up.\n",
    "proveit.defaults.inline_pngs = False # Makes files smaller.\n",
    "# import Expression classes needed to build the expression\n",
    "from proveit import Function, Variable\n",
    "from proveit._common_ import P, alpha\n",
    "from proveit.logic import And, Exists, Forall"
   ]
  },
  {
   "cell_type": "code",
   "execution_count": 2,
   "metadata": {},
   "outputs": [
    {
     "data": {
      "text/html": [
       "<strong id=\"expr\">expr:</strong> <a class=\"ProveItLink\" href=\"expr.ipynb\"><img src=\"expr.png\" style=\"display:inline;vertical-align:middle;\" /></a><br>"
      ],
      "text/plain": [
       "expr: [exists_{y1, y2 | Q1(y1), Q2(y2)} P(y1, y2)] and [forall_{x1, x2 | P(x1, x2), Q1(x1), Q2(x2)} alpha]"
      ]
     },
     "execution_count": 2,
     "metadata": {},
     "output_type": "execute_result"
    }
   ],
   "source": [
    "# build up the expression from sub-expressions\n",
    "subExpr1 = Variable(\"y1\")\n",
    "subExpr2 = Variable(\"y2\")\n",
    "subExpr3 = Variable(\"Q1\")\n",
    "subExpr4 = Variable(\"Q2\")\n",
    "subExpr5 = Variable(\"x1\")\n",
    "subExpr6 = Variable(\"x2\")\n",
    "subExpr7 = [subExpr1, subExpr2]\n",
    "subExpr8 = [subExpr5, subExpr6]\n",
    "expr = And(Exists(subExpr7, Function(P, subExpr7), conditions = [Function(subExpr3, subExpr1), Function(subExpr4, subExpr2)]), Forall(subExpr8, alpha, conditions = [Function(P, subExpr8), Function(subExpr3, subExpr5), Function(subExpr4, subExpr6)]))"
   ]
  },
  {
   "cell_type": "code",
   "execution_count": 3,
   "metadata": {},
   "outputs": [
    {
     "name": "stdout",
     "output_type": "stream",
     "text": [
      "Passed sanity check: built 'expr' is the same as the stored Expression.\n"
     ]
    }
   ],
   "source": [
    "# check that the built expression is the same as the stored expression\n",
    "%check_expr"
   ]
  },
  {
   "cell_type": "code",
   "execution_count": 4,
   "metadata": {},
   "outputs": [
    {
     "name": "stdout",
     "output_type": "stream",
     "text": [
      "\\left[\\exists_{y1, y2~|~Q1(y1), Q2(y2)}~P(y1, y2)\\right] \\land \\left[\\forall_{x1, x2~|~P(x1, x2), Q1(x1), Q2(x2)}~\\alpha\\right]\n"
     ]
    }
   ],
   "source": [
    "# Show the LaTeX representation of the expression for convenience if you need it.\n",
    "print(expr.latex())"
   ]
  },
  {
   "cell_type": "code",
   "execution_count": 5,
   "metadata": {},
   "outputs": [
    {
     "data": {
      "text/html": [
       "<table><tr><th>&nbsp;</th><th>core type</th><th>sub-expressions</th><th>expression</th></tr>\n",
       "<tr><td>0</td><td>Operation</td><td>operator:&nbsp;16<br>operands:&nbsp;1<br></td><td><a class=\"ProveItLink\" href=\"expr.ipynb\"><img src=\"expr.png\" style=\"display:inline;vertical-align:middle;\" /></a></td></tr>\n",
       "<tr><td>1</td><td>ExprTuple</td><td>2, 3</td><td><a class=\"ProveItLink\" href=\"../0b9cff36c9b1f805b1a69b5fed6df464bdf21f9a0/expr.ipynb\"><img src=\"../0b9cff36c9b1f805b1a69b5fed6df464bdf21f9a0/expr.png\" style=\"display:inline;vertical-align:middle;\" /></a></td></tr>\n",
       "<tr><td>2</td><td>Operation</td><td>operator:&nbsp;4<br>operand:&nbsp;5<br></td><td><a class=\"ProveItLink\" href=\"../462a45456407e9593aef4afaf7d627c81397ac7f0/expr.ipynb\"><img src=\"../462a45456407e9593aef4afaf7d627c81397ac7f0/expr.png\" style=\"display:inline;vertical-align:middle;\" /></a></td></tr>\n",
       "<tr><td>3</td><td>Operation</td><td>operator:&nbsp;6<br>operand:&nbsp;7<br></td><td><a class=\"ProveItLink\" href=\"../5ec639b720093f446c0eb0adc994147e08c204470/expr.ipynb\"><img src=\"../5ec639b720093f446c0eb0adc994147e08c204470/expr.png\" style=\"display:inline;vertical-align:middle;\" /></a></td></tr>\n",
       "<tr><td>4</td><td>Literal</td><td></td><td><a class=\"ProveItLink\" href=\"../../../../../../logic/boolean/quantification/existential/__pv_it/a8168c029d342fc3061f84d6d950c32772790ad90/expr.ipynb\"><img src=\"../../../../../../logic/boolean/quantification/existential/__pv_it/a8168c029d342fc3061f84d6d950c32772790ad90/expr.png\" style=\"display:inline;vertical-align:middle;\" /></a></td></tr>\n",
       "<tr><td>5</td><td>Lambda</td><td>parameters:&nbsp;14<br>body:&nbsp;8<br></td><td><a class=\"ProveItLink\" href=\"../d774790fdcf329d7873254ebe3154f51a1e7dfa50/expr.ipynb\"><img src=\"../d774790fdcf329d7873254ebe3154f51a1e7dfa50/expr.png\" style=\"display:inline;vertical-align:middle;\" /></a></td></tr>\n",
       "<tr><td>6</td><td>Literal</td><td></td><td><a class=\"ProveItLink\" href=\"../../../../../../logic/boolean/quantification/universal/__pv_it/fd9c772d6675566ed52a6897806f45eb08a4ea910/expr.ipynb\"><img src=\"../../../../../../logic/boolean/quantification/universal/__pv_it/fd9c772d6675566ed52a6897806f45eb08a4ea910/expr.png\" style=\"display:inline;vertical-align:middle;\" /></a></td></tr>\n",
       "<tr><td>7</td><td>Lambda</td><td>parameters:&nbsp;26<br>body:&nbsp;9<br></td><td><a class=\"ProveItLink\" href=\"../7047ab6211f1ad29d209f030d5d448e6847cdbc30/expr.ipynb\"><img src=\"../7047ab6211f1ad29d209f030d5d448e6847cdbc30/expr.png\" style=\"display:inline;vertical-align:middle;\" /></a></td></tr>\n",
       "<tr><td>8</td><td>Conditional</td><td>value:&nbsp;10<br>condition:&nbsp;11<br></td><td><a class=\"ProveItLink\" href=\"../567dc95ceafa23e3aee17c8e30ce9b8a940ba4ef0/expr.ipynb\"><img src=\"../567dc95ceafa23e3aee17c8e30ce9b8a940ba4ef0/expr.png\" style=\"display:inline;vertical-align:middle;\" /></a></td></tr>\n",
       "<tr><td>9</td><td>Conditional</td><td>value:&nbsp;12<br>condition:&nbsp;13<br></td><td><a class=\"ProveItLink\" href=\"../ce568febd69ae321e7c24c49b250236792e60a930/expr.ipynb\"><img src=\"../ce568febd69ae321e7c24c49b250236792e60a930/expr.png\" style=\"display:inline;vertical-align:middle;\" /></a></td></tr>\n",
       "<tr><td>10</td><td>Operation</td><td>operator:&nbsp;25<br>operands:&nbsp;14<br></td><td><a class=\"ProveItLink\" href=\"../9f41e1f375941f9332fb97ca0ce186fb6a3c899a0/expr.ipynb\"><img src=\"../9f41e1f375941f9332fb97ca0ce186fb6a3c899a0/expr.png\" style=\"display:inline;vertical-align:middle;\" /></a></td></tr>\n",
       "<tr><td>11</td><td>Operation</td><td>operator:&nbsp;16<br>operands:&nbsp;15<br></td><td><a class=\"ProveItLink\" href=\"../418422a6b3ef13c97bb9ef8a3e1b28037822a3580/expr.ipynb\"><img src=\"../418422a6b3ef13c97bb9ef8a3e1b28037822a3580/expr.png\" style=\"display:inline;vertical-align:middle;\" /></a></td></tr>\n",
       "<tr><td>12</td><td>Variable</td><td></td><td><a class=\"ProveItLink\" href=\"../../../../../../__pv_it/186b4b5c9925c86cfc381a01181526b85fd087620/expr.ipynb\"><img src=\"../../../../../../__pv_it/186b4b5c9925c86cfc381a01181526b85fd087620/expr.png\" style=\"display:inline;vertical-align:middle;\" /></a></td></tr>\n",
       "<tr><td>13</td><td>Operation</td><td>operator:&nbsp;16<br>operands:&nbsp;17<br></td><td><a class=\"ProveItLink\" href=\"../4be3dff82c5da79d94f94c668d3f7a13e265b7360/expr.ipynb\"><img src=\"../4be3dff82c5da79d94f94c668d3f7a13e265b7360/expr.png\" style=\"display:inline;vertical-align:middle;\" /></a></td></tr>\n",
       "<tr><td>14</td><td>ExprTuple</td><td>23, 24</td><td><a class=\"ProveItLink\" href=\"../ecaada79754ffb79ae668e6ee9350dc7a9903bca0/expr.ipynb\"><img src=\"../ecaada79754ffb79ae668e6ee9350dc7a9903bca0/expr.png\" style=\"display:inline;vertical-align:middle;\" /></a></td></tr>\n",
       "<tr><td>15</td><td>ExprTuple</td><td>18, 19</td><td><a class=\"ProveItLink\" href=\"../8364ca81c48478c2dcd3cf1818c0ff5c4ce89eda0/expr.ipynb\"><img src=\"../8364ca81c48478c2dcd3cf1818c0ff5c4ce89eda0/expr.png\" style=\"display:inline;vertical-align:middle;\" /></a></td></tr>\n",
       "<tr><td>16</td><td>Literal</td><td></td><td><a class=\"ProveItLink\" href=\"../../../../../../logic/boolean/conjunction/__pv_it/f41cc6b553210927c09f19a8a39cdf860a5585930/expr.ipynb\"><img src=\"../../../../../../logic/boolean/conjunction/__pv_it/f41cc6b553210927c09f19a8a39cdf860a5585930/expr.png\" style=\"display:inline;vertical-align:middle;\" /></a></td></tr>\n",
       "<tr><td>17</td><td>ExprTuple</td><td>20, 21, 22</td><td><a class=\"ProveItLink\" href=\"../034faba8f95b443635480c3b046257600ff94a0a0/expr.ipynb\"><img src=\"../034faba8f95b443635480c3b046257600ff94a0a0/expr.png\" style=\"display:inline;vertical-align:middle;\" /></a></td></tr>\n",
       "<tr><td>18</td><td>Operation</td><td>operator:&nbsp;27<br>operand:&nbsp;23<br></td><td><a class=\"ProveItLink\" href=\"../d23f7cd1051c937474f2db7a7cc960711a85b3b10/expr.ipynb\"><img src=\"../d23f7cd1051c937474f2db7a7cc960711a85b3b10/expr.png\" style=\"display:inline;vertical-align:middle;\" /></a></td></tr>\n",
       "<tr><td>19</td><td>Operation</td><td>operator:&nbsp;28<br>operand:&nbsp;24<br></td><td><a class=\"ProveItLink\" href=\"../b55056b761e3b33b4e6e668133b8ace2c53e69cf0/expr.ipynb\"><img src=\"../b55056b761e3b33b4e6e668133b8ace2c53e69cf0/expr.png\" style=\"display:inline;vertical-align:middle;\" /></a></td></tr>\n",
       "<tr><td>20</td><td>Operation</td><td>operator:&nbsp;25<br>operands:&nbsp;26<br></td><td><a class=\"ProveItLink\" href=\"../3abd2b89a9bf7622cc9186a1bde5446c947e8c980/expr.ipynb\"><img src=\"../3abd2b89a9bf7622cc9186a1bde5446c947e8c980/expr.png\" style=\"display:inline;vertical-align:middle;\" /></a></td></tr>\n",
       "<tr><td>21</td><td>Operation</td><td>operator:&nbsp;27<br>operand:&nbsp;29<br></td><td><a class=\"ProveItLink\" href=\"../eefaab341f6b270bdd244d7628cd2be6b238012d0/expr.ipynb\"><img src=\"../eefaab341f6b270bdd244d7628cd2be6b238012d0/expr.png\" style=\"display:inline;vertical-align:middle;\" /></a></td></tr>\n",
       "<tr><td>22</td><td>Operation</td><td>operator:&nbsp;28<br>operand:&nbsp;30<br></td><td><a class=\"ProveItLink\" href=\"../0d064234623c33c894d54db688585e910ae898ff0/expr.ipynb\"><img src=\"../0d064234623c33c894d54db688585e910ae898ff0/expr.png\" style=\"display:inline;vertical-align:middle;\" /></a></td></tr>\n",
       "<tr><td>23</td><td>Variable</td><td></td><td><a class=\"ProveItLink\" href=\"../3d6f4830697c9d9b704e1349d03cff8a9a6bd0f80/expr.ipynb\"><img src=\"../3d6f4830697c9d9b704e1349d03cff8a9a6bd0f80/expr.png\" style=\"display:inline;vertical-align:middle;\" /></a></td></tr>\n",
       "<tr><td>24</td><td>Variable</td><td></td><td><a class=\"ProveItLink\" href=\"../bd3a19ba97b4a089def82ac5e3b9ed5c979eb4e10/expr.ipynb\"><img src=\"../bd3a19ba97b4a089def82ac5e3b9ed5c979eb4e10/expr.png\" style=\"display:inline;vertical-align:middle;\" /></a></td></tr>\n",
       "<tr><td>25</td><td>Variable</td><td></td><td><a class=\"ProveItLink\" href=\"../../../../../../__pv_it/390c91a44e60b16c95d2255652741252e8ec8d980/expr.ipynb\"><img src=\"../../../../../../__pv_it/390c91a44e60b16c95d2255652741252e8ec8d980/expr.png\" style=\"display:inline;vertical-align:middle;\" /></a></td></tr>\n",
       "<tr><td>26</td><td>ExprTuple</td><td>29, 30</td><td><a class=\"ProveItLink\" href=\"../34b8607de00715c8e80517071198ec762fee822a0/expr.ipynb\"><img src=\"../34b8607de00715c8e80517071198ec762fee822a0/expr.png\" style=\"display:inline;vertical-align:middle;\" /></a></td></tr>\n",
       "<tr><td>27</td><td>Variable</td><td></td><td><a class=\"ProveItLink\" href=\"../70f22e01b90304729537bde8f02d33e6c4f71bd30/expr.ipynb\"><img src=\"../70f22e01b90304729537bde8f02d33e6c4f71bd30/expr.png\" style=\"display:inline;vertical-align:middle;\" /></a></td></tr>\n",
       "<tr><td>28</td><td>Variable</td><td></td><td><a class=\"ProveItLink\" href=\"../0bdc142b8741f393168a8046d61b98d19c2d2b970/expr.ipynb\"><img src=\"../0bdc142b8741f393168a8046d61b98d19c2d2b970/expr.png\" style=\"display:inline;vertical-align:middle;\" /></a></td></tr>\n",
       "<tr><td>29</td><td>Variable</td><td></td><td><a class=\"ProveItLink\" href=\"../343049f8a4085cd8ef7697a1f3e8d2872746e9f00/expr.ipynb\"><img src=\"../343049f8a4085cd8ef7697a1f3e8d2872746e9f00/expr.png\" style=\"display:inline;vertical-align:middle;\" /></a></td></tr>\n",
       "<tr><td>30</td><td>Variable</td><td></td><td><a class=\"ProveItLink\" href=\"../11efb35832016e977b7dde71c86d8cf2014943bf0/expr.ipynb\"><img src=\"../11efb35832016e977b7dde71c86d8cf2014943bf0/expr.png\" style=\"display:inline;vertical-align:middle;\" /></a></td></tr>\n",
       "</table>\n"
      ],
      "text/plain": [
       "0. [exists_{y1, y2 | Q1(y1), Q2(y2)} P(y1, y2)] and [forall_{x1, x2 | P(x1, x2), Q1(x1), Q2(x2)} alpha]\n",
       "   core type: Operation\n",
       "   operator: 16\n",
       "   operands: 1\n",
       "1. (exists_{y1, y2 | Q1(y1), Q2(y2)} P(y1, y2), forall_{x1, x2 | P(x1, x2), Q1(x1), Q2(x2)} alpha)\n",
       "   core type: ExprTuple\n",
       "   sub-expressions: 2, 3\n",
       "2. exists_{y1, y2 | Q1(y1), Q2(y2)} P(y1, y2)\n",
       "   core type: Operation\n",
       "   operator: 4\n",
       "   operand: 5\n",
       "3. forall_{x1, x2 | P(x1, x2), Q1(x1), Q2(x2)} alpha\n",
       "   core type: Operation\n",
       "   operator: 6\n",
       "   operand: 7\n",
       "4. exists\n",
       "   core type: Literal\n",
       "   sub-expressions: \n",
       "5. (y1, y2) -> {P(y1, y2) if Q1(y1) ,  Q2(y2).\n",
       "   core type: Lambda\n",
       "   parameters: 14\\n   body: 8\n",
       "6. forall\n",
       "   core type: Literal\n",
       "   sub-expressions: \n",
       "7. (x1, x2) -> {alpha if P(x1, x2) ,  Q1(x1) ,  Q2(x2).\n",
       "   core type: Lambda\n",
       "   parameters: 26\\n   body: 9\n",
       "8. {P(y1, y2) if Q1(y1) ,  Q2(y2).\n",
       "   core type: Conditional\n",
       "   value: 10\n",
       "   condition: 11\n",
       "9. {alpha if P(x1, x2) ,  Q1(x1) ,  Q2(x2).\n",
       "   core type: Conditional\n",
       "   value: 12\n",
       "   condition: 13\n",
       "10. P(y1, y2)\n",
       "    core type: Operation\n",
       "    operator: 25\n",
       "    operands: 14\n",
       "11. Q1(y1) and Q2(y2)\n",
       "    core type: Operation\n",
       "    operator: 16\n",
       "    operands: 15\n",
       "12. alpha\n",
       "    core type: Variable\n",
       "    sub-expressions: \n",
       "13. P(x1, x2) and Q1(x1) and Q2(x2)\n",
       "    core type: Operation\n",
       "    operator: 16\n",
       "    operands: 17\n",
       "14. (y1, y2)\n",
       "    core type: ExprTuple\n",
       "    sub-expressions: 23, 24\n",
       "15. (Q1(y1), Q2(y2))\n",
       "    core type: ExprTuple\n",
       "    sub-expressions: 18, 19\n",
       "16. and\n",
       "    core type: Literal\n",
       "    sub-expressions: \n",
       "17. (P(x1, x2), Q1(x1), Q2(x2))\n",
       "    core type: ExprTuple\n",
       "    sub-expressions: 20, 21, 22\n",
       "18. Q1(y1)\n",
       "    core type: Operation\n",
       "    operator: 27\n",
       "    operand: 23\n",
       "19. Q2(y2)\n",
       "    core type: Operation\n",
       "    operator: 28\n",
       "    operand: 24\n",
       "20. P(x1, x2)\n",
       "    core type: Operation\n",
       "    operator: 25\n",
       "    operands: 26\n",
       "21. Q1(x1)\n",
       "    core type: Operation\n",
       "    operator: 27\n",
       "    operand: 29\n",
       "22. Q2(x2)\n",
       "    core type: Operation\n",
       "    operator: 28\n",
       "    operand: 30\n",
       "23. y1\n",
       "    core type: Variable\n",
       "    sub-expressions: \n",
       "24. y2\n",
       "    core type: Variable\n",
       "    sub-expressions: \n",
       "25. P\n",
       "    core type: Variable\n",
       "    sub-expressions: \n",
       "26. (x1, x2)\n",
       "    core type: ExprTuple\n",
       "    sub-expressions: 29, 30\n",
       "27. Q1\n",
       "    core type: Variable\n",
       "    sub-expressions: \n",
       "28. Q2\n",
       "    core type: Variable\n",
       "    sub-expressions: \n",
       "29. x1\n",
       "    core type: Variable\n",
       "    sub-expressions: \n",
       "30. x2\n",
       "    core type: Variable\n",
       "    sub-expressions: "
      ]
     },
     "execution_count": 5,
     "metadata": {},
     "output_type": "execute_result"
    }
   ],
   "source": [
    "# display the expression information\n",
    "expr.exprInfo()"
   ]
  },
  {
   "cell_type": "code",
   "execution_count": null,
   "metadata": {},
   "outputs": [],
   "source": []
  }
 ],
 "metadata": {
  "kernelspec": {
   "display_name": "Python 3",
   "language": "python",
   "name": "python3"
  },
  "language_info": {
   "codemirror_mode": {
    "name": "ipython",
    "version": 3
   },
   "file_extension": ".py",
   "mimetype": "text/x-python",
   "name": "python",
   "nbconvert_exporter": "python",
   "pygments_lexer": "ipython3",
   "version": "3.7.3"
  }
 },
 "nbformat": 4,
 "nbformat_minor": 1
}
