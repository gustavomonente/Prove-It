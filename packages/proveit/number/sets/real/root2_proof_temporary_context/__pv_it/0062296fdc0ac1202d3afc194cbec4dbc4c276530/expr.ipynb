{
 "cells": [
  {
   "cell_type": "markdown",
   "metadata": {},
   "source": [
    "Expression of type <a class=\"ProveItLink\" href=\"../../../../../../../../doc/html/api/proveit.Conditional.html\">Conditional</a>\n",
    "=======================\n",
    "# from context <a class=\"ProveItLink\" href=\"../../_context_.ipynb\">proveit.number.sets.real.root2_proof_temporary_context</a>"
   ]
  },
  {
   "cell_type": "code",
   "execution_count": 1,
   "metadata": {},
   "outputs": [],
   "source": [
    "import proveit\n",
    "# Automation is not needed when building an expression:\n",
    "proveit.defaults.automation = False # This will speed things up.\n",
    "proveit.defaults.inline_pngs = False # Makes files smaller.\n",
    "# import Expression classes needed to build the expression\n",
    "from proveit import Conditional\n",
    "from proveit._common_ import a, b, p\n",
    "from proveit.logic import And, Implies, InSet, Not\n",
    "from proveit.number import Divides, Greater, NaturalsPos, one"
   ]
  },
  {
   "cell_type": "code",
   "execution_count": 2,
   "metadata": {},
   "outputs": [
    {
     "data": {
      "text/html": [
       "<strong id=\"expr\">expr:</strong> <a class=\"ProveItLink\" href=\"expr.ipynb\"><img src=\"expr.png\" style=\"display:inline;vertical-align:middle;\" /></a><br>"
      ],
      "text/plain": [
       "expr: {(p > 1) => [not]((p | a) and (p | b)) if p in NaturalsPos."
      ]
     },
     "execution_count": 2,
     "metadata": {},
     "output_type": "execute_result"
    }
   ],
   "source": [
    "# build up the expression from sub-expressions\n",
    "expr = Conditional(Implies(Greater(p, one), Not(And(Divides(p, a), Divides(p, b)))), InSet(p, NaturalsPos))"
   ]
  },
  {
   "cell_type": "code",
   "execution_count": 3,
   "metadata": {},
   "outputs": [
    {
     "name": "stdout",
     "output_type": "stream",
     "text": [
      "Passed sanity check: built 'expr' is the same as the stored Expression.\n"
     ]
    }
   ],
   "source": [
    "# check that the built expression is the same as the stored expression\n",
    "%check_expr"
   ]
  },
  {
   "cell_type": "code",
   "execution_count": 4,
   "metadata": {},
   "outputs": [
    {
     "name": "stdout",
     "output_type": "stream",
     "text": [
      "\\left\\{\\left(p > 1\\right) \\Rightarrow (\\lnot \\left(\\left(p \\rvert a\\right) \\land \\left(p \\rvert b\\right)\\right)) \\textrm{ if } p \\in \\mathbb{N}^+\\right..\n"
     ]
    }
   ],
   "source": [
    "# Show the LaTeX representation of the expression for convenience if you need it.\n",
    "print(expr.latex())"
   ]
  },
  {
   "cell_type": "code",
   "execution_count": 5,
   "metadata": {},
   "outputs": [
    {
     "data": {
      "text/html": [
       "<table><tr><th>&nbsp;</th><th>core type</th><th>sub-expressions</th><th>expression</th></tr>\n",
       "<tr><td>0</td><td>Conditional</td><td>value:&nbsp;1<br>condition:&nbsp;2<br></td><td><a class=\"ProveItLink\" href=\"expr.ipynb\"><img src=\"expr.png\" style=\"display:inline;vertical-align:middle;\" /></a></td></tr>\n",
       "<tr><td>1</td><td>Operation</td><td>operator:&nbsp;3<br>operands:&nbsp;4<br></td><td><a class=\"ProveItLink\" href=\"../c23153f0fbfc01a66b9bae47dc0c3a430d25d66a0/expr.ipynb\"><img src=\"../c23153f0fbfc01a66b9bae47dc0c3a430d25d66a0/expr.png\" style=\"display:inline;vertical-align:middle;\" /></a></td></tr>\n",
       "<tr><td>2</td><td>Operation</td><td>operator:&nbsp;5<br>operands:&nbsp;6<br></td><td><a class=\"ProveItLink\" href=\"../e3f830ea78cb4bcef3eba48b48b8af4ccae5f2f70/expr.ipynb\"><img src=\"../e3f830ea78cb4bcef3eba48b48b8af4ccae5f2f70/expr.png\" style=\"display:inline;vertical-align:middle;\" /></a></td></tr>\n",
       "<tr><td>3</td><td>Literal</td><td></td><td><a class=\"ProveItLink\" href=\"../../../../../../logic/boolean/implication/__pv_it/1e62b0c0a90306fc48b17f0dc8d4dc4df8bb234f0/expr.ipynb\"><img src=\"../../../../../../logic/boolean/implication/__pv_it/1e62b0c0a90306fc48b17f0dc8d4dc4df8bb234f0/expr.png\" style=\"display:inline;vertical-align:middle;\" /></a></td></tr>\n",
       "<tr><td>4</td><td>ExprTuple</td><td>7, 8</td><td><a class=\"ProveItLink\" href=\"../9ee6af435c285da936ee5f9fb1ed6909eef3c4870/expr.ipynb\"><img src=\"../9ee6af435c285da936ee5f9fb1ed6909eef3c4870/expr.png\" style=\"display:inline;vertical-align:middle;\" /></a></td></tr>\n",
       "<tr><td>5</td><td>Literal</td><td></td><td><a class=\"ProveItLink\" href=\"../../../../../../logic/set_theory/membership/__pv_it/7776fc89cb67d0b5b1ec2c0c8e08da5587921ccf0/expr.ipynb\"><img src=\"../../../../../../logic/set_theory/membership/__pv_it/7776fc89cb67d0b5b1ec2c0c8e08da5587921ccf0/expr.png\" style=\"display:inline;vertical-align:middle;\" /></a></td></tr>\n",
       "<tr><td>6</td><td>ExprTuple</td><td>23, 9</td><td><a class=\"ProveItLink\" href=\"../74790a0fc350021e8c9150616e6bfa01758c3ce40/expr.ipynb\"><img src=\"../74790a0fc350021e8c9150616e6bfa01758c3ce40/expr.png\" style=\"display:inline;vertical-align:middle;\" /></a></td></tr>\n",
       "<tr><td>7</td><td>Operation</td><td>operator:&nbsp;10<br>operands:&nbsp;11<br></td><td><a class=\"ProveItLink\" href=\"../cb958f97aaef380fabd4317ef7b30977b57a42820/expr.ipynb\"><img src=\"../cb958f97aaef380fabd4317ef7b30977b57a42820/expr.png\" style=\"display:inline;vertical-align:middle;\" /></a></td></tr>\n",
       "<tr><td>8</td><td>Operation</td><td>operator:&nbsp;12<br>operand:&nbsp;13<br></td><td><a class=\"ProveItLink\" href=\"../ef395bfb742b04e34aba727669795d8740a769140/expr.ipynb\"><img src=\"../ef395bfb742b04e34aba727669795d8740a769140/expr.png\" style=\"display:inline;vertical-align:middle;\" /></a></td></tr>\n",
       "<tr><td>9</td><td>Literal</td><td></td><td><a class=\"ProveItLink\" href=\"../../../../integer/__pv_it/f6a9f4b6dec6ab4d2dcb6ba1b0ba3cceefc643530/expr.ipynb\"><img src=\"../../../../integer/__pv_it/f6a9f4b6dec6ab4d2dcb6ba1b0ba3cceefc643530/expr.png\" style=\"display:inline;vertical-align:middle;\" /></a></td></tr>\n",
       "<tr><td>10</td><td>Literal</td><td></td><td><a class=\"ProveItLink\" href=\"../../../../../ordering/__pv_it/cdf7dfe539ddbf6d6869dd2e6907f2ffbcf9aab80/expr.ipynb\"><img src=\"../../../../../ordering/__pv_it/cdf7dfe539ddbf6d6869dd2e6907f2ffbcf9aab80/expr.png\" style=\"display:inline;vertical-align:middle;\" /></a></td></tr>\n",
       "<tr><td>11</td><td>ExprTuple</td><td>23, 14</td><td><a class=\"ProveItLink\" href=\"../ff2ba52e32304376e618341571452ca6e0905ab80/expr.ipynb\"><img src=\"../ff2ba52e32304376e618341571452ca6e0905ab80/expr.png\" style=\"display:inline;vertical-align:middle;\" /></a></td></tr>\n",
       "<tr><td>12</td><td>Literal</td><td></td><td><a class=\"ProveItLink\" href=\"../../../../../../logic/boolean/negation/__pv_it/d347242e9ffe8b0d3a039ea6a149983fef6cbe6c0/expr.ipynb\"><img src=\"../../../../../../logic/boolean/negation/__pv_it/d347242e9ffe8b0d3a039ea6a149983fef6cbe6c0/expr.png\" style=\"display:inline;vertical-align:middle;\" /></a></td></tr>\n",
       "<tr><td>13</td><td>Operation</td><td>operator:&nbsp;15<br>operands:&nbsp;16<br></td><td><a class=\"ProveItLink\" href=\"../537d66195b7133c4c1e8dfacef8bd9a173f64e760/expr.ipynb\"><img src=\"../537d66195b7133c4c1e8dfacef8bd9a173f64e760/expr.png\" style=\"display:inline;vertical-align:middle;\" /></a></td></tr>\n",
       "<tr><td>14</td><td>Literal</td><td></td><td><a class=\"ProveItLink\" href=\"../../../../../numeral/__pv_it/f086f8c372bd40a2458306ddfdbb29f3dc6f63030/expr.ipynb\"><img src=\"../../../../../numeral/__pv_it/f086f8c372bd40a2458306ddfdbb29f3dc6f63030/expr.png\" style=\"display:inline;vertical-align:middle;\" /></a></td></tr>\n",
       "<tr><td>15</td><td>Literal</td><td></td><td><a class=\"ProveItLink\" href=\"../../../../../../logic/boolean/conjunction/__pv_it/f41cc6b553210927c09f19a8a39cdf860a5585930/expr.ipynb\"><img src=\"../../../../../../logic/boolean/conjunction/__pv_it/f41cc6b553210927c09f19a8a39cdf860a5585930/expr.png\" style=\"display:inline;vertical-align:middle;\" /></a></td></tr>\n",
       "<tr><td>16</td><td>ExprTuple</td><td>17, 18</td><td><a class=\"ProveItLink\" href=\"../bf32afa3d81b6f5c41666d9fa19c57bd1053e67d0/expr.ipynb\"><img src=\"../bf32afa3d81b6f5c41666d9fa19c57bd1053e67d0/expr.png\" style=\"display:inline;vertical-align:middle;\" /></a></td></tr>\n",
       "<tr><td>17</td><td>Operation</td><td>operator:&nbsp;20<br>operands:&nbsp;19<br></td><td><a class=\"ProveItLink\" href=\"../311356c63126f172e104ecc308b36402704a08f80/expr.ipynb\"><img src=\"../311356c63126f172e104ecc308b36402704a08f80/expr.png\" style=\"display:inline;vertical-align:middle;\" /></a></td></tr>\n",
       "<tr><td>18</td><td>Operation</td><td>operator:&nbsp;20<br>operands:&nbsp;21<br></td><td><a class=\"ProveItLink\" href=\"../22c47b570cccf3907f59165736b5274975cfc99d0/expr.ipynb\"><img src=\"../22c47b570cccf3907f59165736b5274975cfc99d0/expr.png\" style=\"display:inline;vertical-align:middle;\" /></a></td></tr>\n",
       "<tr><td>19</td><td>ExprTuple</td><td>23, 22</td><td><a class=\"ProveItLink\" href=\"../415c1d4f4e7e96eaa203aa184378d031d6cebe6c0/expr.ipynb\"><img src=\"../415c1d4f4e7e96eaa203aa184378d031d6cebe6c0/expr.png\" style=\"display:inline;vertical-align:middle;\" /></a></td></tr>\n",
       "<tr><td>20</td><td>Literal</td><td></td><td><a class=\"ProveItLink\" href=\"../../../../../divisibility/__pv_it/244fa8a5fc9a08eabe338755a0796f3dd684c90c0/expr.ipynb\"><img src=\"../../../../../divisibility/__pv_it/244fa8a5fc9a08eabe338755a0796f3dd684c90c0/expr.png\" style=\"display:inline;vertical-align:middle;\" /></a></td></tr>\n",
       "<tr><td>21</td><td>ExprTuple</td><td>23, 24</td><td><a class=\"ProveItLink\" href=\"../095f8bb7ffc2247e05550f33723cfa8a6cefe7a00/expr.ipynb\"><img src=\"../095f8bb7ffc2247e05550f33723cfa8a6cefe7a00/expr.png\" style=\"display:inline;vertical-align:middle;\" /></a></td></tr>\n",
       "<tr><td>22</td><td>Variable</td><td></td><td><a class=\"ProveItLink\" href=\"../../../../../../__pv_it/a8d4b3a34d2189508f9082853fbac36935714f280/expr.ipynb\"><img src=\"../../../../../../__pv_it/a8d4b3a34d2189508f9082853fbac36935714f280/expr.png\" style=\"display:inline;vertical-align:middle;\" /></a></td></tr>\n",
       "<tr><td>23</td><td>Variable</td><td></td><td><a class=\"ProveItLink\" href=\"../../../../../../__pv_it/29987c5db64d821b8785a065141d34627672b1060/expr.ipynb\"><img src=\"../../../../../../__pv_it/29987c5db64d821b8785a065141d34627672b1060/expr.png\" style=\"display:inline;vertical-align:middle;\" /></a></td></tr>\n",
       "<tr><td>24</td><td>Variable</td><td></td><td><a class=\"ProveItLink\" href=\"../../../../../../__pv_it/53e304ff98ebc000dbe3ef224f4637dbafd46ba70/expr.ipynb\"><img src=\"../../../../../../__pv_it/53e304ff98ebc000dbe3ef224f4637dbafd46ba70/expr.png\" style=\"display:inline;vertical-align:middle;\" /></a></td></tr>\n",
       "</table>\n"
      ],
      "text/plain": [
       "0. {(p > 1) => [not]((p | a) and (p | b)) if p in NaturalsPos.\n",
       "   core type: Conditional\n",
       "   value: 1\n",
       "   condition: 2\n",
       "1. (p > 1) => [not]((p | a) and (p | b))\n",
       "   core type: Operation\n",
       "   operator: 3\n",
       "   operands: 4\n",
       "2. p in NaturalsPos\n",
       "   core type: Operation\n",
       "   operator: 5\n",
       "   operands: 6\n",
       "3. =>\n",
       "   core type: Literal\n",
       "   sub-expressions: \n",
       "4. (p > 1, [not]((p | a) and (p | b)))\n",
       "   core type: ExprTuple\n",
       "   sub-expressions: 7, 8\n",
       "5. in\n",
       "   core type: Literal\n",
       "   sub-expressions: \n",
       "6. (p, NaturalsPos)\n",
       "   core type: ExprTuple\n",
       "   sub-expressions: 23, 9\n",
       "7. p > 1\n",
       "   core type: Operation\n",
       "   operator: 10\n",
       "   operands: 11\n",
       "8. [not]((p | a) and (p | b))\n",
       "   core type: Operation\n",
       "   operator: 12\n",
       "   operand: 13\n",
       "9. NaturalsPos\n",
       "   core type: Literal\n",
       "   sub-expressions: \n",
       "10. >\n",
       "    core type: Literal\n",
       "    sub-expressions: \n",
       "11. (p, 1)\n",
       "    core type: ExprTuple\n",
       "    sub-expressions: 23, 14\n",
       "12. not\n",
       "    core type: Literal\n",
       "    sub-expressions: \n",
       "13. (p | a) and (p | b)\n",
       "    core type: Operation\n",
       "    operator: 15\n",
       "    operands: 16\n",
       "14. 1\n",
       "    core type: Literal\n",
       "    sub-expressions: \n",
       "15. and\n",
       "    core type: Literal\n",
       "    sub-expressions: \n",
       "16. (p | a, p | b)\n",
       "    core type: ExprTuple\n",
       "    sub-expressions: 17, 18\n",
       "17. p | a\n",
       "    core type: Operation\n",
       "    operator: 20\n",
       "    operands: 19\n",
       "18. p | b\n",
       "    core type: Operation\n",
       "    operator: 20\n",
       "    operands: 21\n",
       "19. (p, a)\n",
       "    core type: ExprTuple\n",
       "    sub-expressions: 23, 22\n",
       "20. |\n",
       "    core type: Literal\n",
       "    sub-expressions: \n",
       "21. (p, b)\n",
       "    core type: ExprTuple\n",
       "    sub-expressions: 23, 24\n",
       "22. a\n",
       "    core type: Variable\n",
       "    sub-expressions: \n",
       "23. p\n",
       "    core type: Variable\n",
       "    sub-expressions: \n",
       "24. b\n",
       "    core type: Variable\n",
       "    sub-expressions: "
      ]
     },
     "execution_count": 5,
     "metadata": {},
     "output_type": "execute_result"
    }
   ],
   "source": [
    "# display the expression information\n",
    "expr.exprInfo()"
   ]
  },
  {
   "cell_type": "code",
   "execution_count": null,
   "metadata": {},
   "outputs": [],
   "source": []
  }
 ],
 "metadata": {
  "kernelspec": {
   "display_name": "Python 3",
   "language": "python",
   "name": "python3"
  },
  "language_info": {
   "codemirror_mode": {
    "name": "ipython",
    "version": 3
   },
   "file_extension": ".py",
   "mimetype": "text/x-python",
   "name": "python",
   "nbconvert_exporter": "python",
   "pygments_lexer": "ipython3",
   "version": "3.7.3"
  }
 },
 "nbformat": 4,
 "nbformat_minor": 1
}
