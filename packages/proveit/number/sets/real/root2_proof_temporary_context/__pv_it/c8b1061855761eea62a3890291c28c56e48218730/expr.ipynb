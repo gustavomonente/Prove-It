{
 "cells": [
  {
   "cell_type": "markdown",
   "metadata": {},
   "source": [
    "Expression of type <a class=\"ProveItLink\" href=\"../../../../../../../../doc/html/api/proveit.Conditional.html\">Conditional</a>\n",
    "=======================\n",
    "# from context <a class=\"ProveItLink\" href=\"../../_context_.ipynb\">proveit.number.sets.real.root2_proof_temporary_context</a>"
   ]
  },
  {
   "cell_type": "code",
   "execution_count": 1,
   "metadata": {},
   "outputs": [],
   "source": [
    "import proveit\n",
    "# Automation is not needed when building an expression:\n",
    "proveit.defaults.automation = False # This will speed things up.\n",
    "proveit.defaults.inline_pngs = False # Makes files smaller.\n",
    "# import Expression classes needed to build the expression\n",
    "from proveit import Conditional\n",
    "from proveit._common_ import a, aPrime, b, bPrime\n",
    "from proveit.logic import And, Equals, Exists, InSet\n",
    "from proveit.number import GCD, NaturalsPos, frac, one"
   ]
  },
  {
   "cell_type": "code",
   "execution_count": 2,
   "metadata": {},
   "outputs": [
    {
     "data": {
      "text/html": [
       "<strong id=\"expr\">expr:</strong> <a class=\"ProveItLink\" href=\"expr.ipynb\"><img src=\"expr.png\" style=\"display:inline;vertical-align:middle;\" /></a><br>"
      ],
      "text/plain": [
       "expr: {exists_{a' in NaturalsPos, b' in NaturalsPos} (((a / b) = (a' / b')) and (gcd(a', b') = 1)) if a in NaturalsPos ,  b in NaturalsPos."
      ]
     },
     "execution_count": 2,
     "metadata": {},
     "output_type": "execute_result"
    }
   ],
   "source": [
    "# build up the expression from sub-expressions\n",
    "expr = Conditional(Exists([aPrime, bPrime], And(Equals(frac(a, b), frac(aPrime, bPrime)), Equals(GCD(aPrime, bPrime), one)), domains = [NaturalsPos, NaturalsPos]), And(InSet(a, NaturalsPos), InSet(b, NaturalsPos)))"
   ]
  },
  {
   "cell_type": "code",
   "execution_count": 3,
   "metadata": {},
   "outputs": [
    {
     "name": "stdout",
     "output_type": "stream",
     "text": [
      "Passed sanity check: built 'expr' is the same as the stored Expression.\n"
     ]
    }
   ],
   "source": [
    "# check that the built expression is the same as the stored expression\n",
    "%check_expr"
   ]
  },
  {
   "cell_type": "code",
   "execution_count": 4,
   "metadata": {},
   "outputs": [
    {
     "name": "stdout",
     "output_type": "stream",
     "text": [
      "\\left\\{\\exists_{a' \\in \\mathbb{N}^+, b' \\in \\mathbb{N}^+}~\\left(\\left(\\frac{a}{b} = \\frac{a'}{b'}\\right) \\land \\left(gcd(a', b') = 1\\right)\\right) \\textrm{ if } a \\in \\mathbb{N}^+ ,  b \\in \\mathbb{N}^+\\right..\n"
     ]
    }
   ],
   "source": [
    "# Show the LaTeX representation of the expression for convenience if you need it.\n",
    "print(expr.latex())"
   ]
  },
  {
   "cell_type": "code",
   "execution_count": 5,
   "metadata": {},
   "outputs": [
    {
     "data": {
      "text/html": [
       "<table><tr><th>&nbsp;</th><th>core type</th><th>sub-expressions</th><th>expression</th></tr>\n",
       "<tr><td>0</td><td>Conditional</td><td>value:&nbsp;1<br>condition:&nbsp;2<br></td><td><a class=\"ProveItLink\" href=\"expr.ipynb\"><img src=\"expr.png\" style=\"display:inline;vertical-align:middle;\" /></a></td></tr>\n",
       "<tr><td>1</td><td>Operation</td><td>operator:&nbsp;3<br>operand:&nbsp;4<br></td><td><a class=\"ProveItLink\" href=\"../faaff649a683c174b0bc795d18823c3479d8e3b30/expr.ipynb\"><img src=\"../faaff649a683c174b0bc795d18823c3479d8e3b30/expr.png\" style=\"display:inline;vertical-align:middle;\" /></a></td></tr>\n",
       "<tr><td>2</td><td>Operation</td><td>operator:&nbsp;14<br>operands:&nbsp;5<br></td><td><a class=\"ProveItLink\" href=\"../a41425bf28654da5c8dc94d446e4f5a8b06cdc130/expr.ipynb\"><img src=\"../a41425bf28654da5c8dc94d446e4f5a8b06cdc130/expr.png\" style=\"display:inline;vertical-align:middle;\" /></a></td></tr>\n",
       "<tr><td>3</td><td>Literal</td><td></td><td><a class=\"ProveItLink\" href=\"../../../../../../logic/boolean/quantification/existential/__pv_it/a8168c029d342fc3061f84d6d950c32772790ad90/expr.ipynb\"><img src=\"../../../../../../logic/boolean/quantification/existential/__pv_it/a8168c029d342fc3061f84d6d950c32772790ad90/expr.png\" style=\"display:inline;vertical-align:middle;\" /></a></td></tr>\n",
       "<tr><td>4</td><td>Lambda</td><td>parameters:&nbsp;34<br>body:&nbsp;6<br></td><td><a class=\"ProveItLink\" href=\"../f2e7e7b31b7e3257dc0b8662b3d1f647fa59e2f60/expr.ipynb\"><img src=\"../f2e7e7b31b7e3257dc0b8662b3d1f647fa59e2f60/expr.png\" style=\"display:inline;vertical-align:middle;\" /></a></td></tr>\n",
       "<tr><td>5</td><td>ExprTuple</td><td>7, 8</td><td><a class=\"ProveItLink\" href=\"../92fad68b8b1dc2031cd71abd3385647e7f5650010/expr.ipynb\"><img src=\"../92fad68b8b1dc2031cd71abd3385647e7f5650010/expr.png\" style=\"display:inline;vertical-align:middle;\" /></a></td></tr>\n",
       "<tr><td>6</td><td>Conditional</td><td>value:&nbsp;9<br>condition:&nbsp;10<br></td><td><a class=\"ProveItLink\" href=\"../f3078a961c884922c81fb514da6b4a9f37f9cfbf0/expr.ipynb\"><img src=\"../f3078a961c884922c81fb514da6b4a9f37f9cfbf0/expr.png\" style=\"display:inline;vertical-align:middle;\" /></a></td></tr>\n",
       "<tr><td>7</td><td>Operation</td><td>operator:&nbsp;24<br>operands:&nbsp;11<br></td><td><a class=\"ProveItLink\" href=\"../6fadc257600be59dba6ac3a4e4b0a2de3c10d4540/expr.ipynb\"><img src=\"../6fadc257600be59dba6ac3a4e4b0a2de3c10d4540/expr.png\" style=\"display:inline;vertical-align:middle;\" /></a></td></tr>\n",
       "<tr><td>8</td><td>Operation</td><td>operator:&nbsp;24<br>operands:&nbsp;12<br></td><td><a class=\"ProveItLink\" href=\"../b0f1bd6ef5e10f4bdab1dcc91d953f43296089fd0/expr.ipynb\"><img src=\"../b0f1bd6ef5e10f4bdab1dcc91d953f43296089fd0/expr.png\" style=\"display:inline;vertical-align:middle;\" /></a></td></tr>\n",
       "<tr><td>9</td><td>Operation</td><td>operator:&nbsp;14<br>operands:&nbsp;13<br></td><td><a class=\"ProveItLink\" href=\"../ea534e2ffa065f9b0d2369331e341e81ccb836770/expr.ipynb\"><img src=\"../ea534e2ffa065f9b0d2369331e341e81ccb836770/expr.png\" style=\"display:inline;vertical-align:middle;\" /></a></td></tr>\n",
       "<tr><td>10</td><td>Operation</td><td>operator:&nbsp;14<br>operands:&nbsp;15<br></td><td><a class=\"ProveItLink\" href=\"../6d85d821eb8e00f6c4762a5a42eac550db4a35d20/expr.ipynb\"><img src=\"../6d85d821eb8e00f6c4762a5a42eac550db4a35d20/expr.png\" style=\"display:inline;vertical-align:middle;\" /></a></td></tr>\n",
       "<tr><td>11</td><td>ExprTuple</td><td>35, 30</td><td><a class=\"ProveItLink\" href=\"../75844def4636a9fdd6ed37edebb2fd659a89e5540/expr.ipynb\"><img src=\"../75844def4636a9fdd6ed37edebb2fd659a89e5540/expr.png\" style=\"display:inline;vertical-align:middle;\" /></a></td></tr>\n",
       "<tr><td>12</td><td>ExprTuple</td><td>36, 30</td><td><a class=\"ProveItLink\" href=\"../019c51e16351a819e980a4c66f7a02e8b32ba32e0/expr.ipynb\"><img src=\"../019c51e16351a819e980a4c66f7a02e8b32ba32e0/expr.png\" style=\"display:inline;vertical-align:middle;\" /></a></td></tr>\n",
       "<tr><td>13</td><td>ExprTuple</td><td>16, 17</td><td><a class=\"ProveItLink\" href=\"../a3675e836e86b18811ee0e31be3a1b9c2262a2290/expr.ipynb\"><img src=\"../a3675e836e86b18811ee0e31be3a1b9c2262a2290/expr.png\" style=\"display:inline;vertical-align:middle;\" /></a></td></tr>\n",
       "<tr><td>14</td><td>Literal</td><td></td><td><a class=\"ProveItLink\" href=\"../../../../../../logic/boolean/conjunction/__pv_it/f41cc6b553210927c09f19a8a39cdf860a5585930/expr.ipynb\"><img src=\"../../../../../../logic/boolean/conjunction/__pv_it/f41cc6b553210927c09f19a8a39cdf860a5585930/expr.png\" style=\"display:inline;vertical-align:middle;\" /></a></td></tr>\n",
       "<tr><td>15</td><td>ExprTuple</td><td>18, 19</td><td><a class=\"ProveItLink\" href=\"../9cfee01f10f66d3e69820a34566f7dc80344c4530/expr.ipynb\"><img src=\"../9cfee01f10f66d3e69820a34566f7dc80344c4530/expr.png\" style=\"display:inline;vertical-align:middle;\" /></a></td></tr>\n",
       "<tr><td>16</td><td>Operation</td><td>operator:&nbsp;21<br>operands:&nbsp;20<br></td><td><a class=\"ProveItLink\" href=\"../a80496d3a43e105df8e68a6d285bad6c41a287a20/expr.ipynb\"><img src=\"../a80496d3a43e105df8e68a6d285bad6c41a287a20/expr.png\" style=\"display:inline;vertical-align:middle;\" /></a></td></tr>\n",
       "<tr><td>17</td><td>Operation</td><td>operator:&nbsp;21<br>operands:&nbsp;22<br></td><td><a class=\"ProveItLink\" href=\"../62ef2e7d8e8e974f18770f6ce85342db968233640/expr.ipynb\"><img src=\"../62ef2e7d8e8e974f18770f6ce85342db968233640/expr.png\" style=\"display:inline;vertical-align:middle;\" /></a></td></tr>\n",
       "<tr><td>18</td><td>Operation</td><td>operator:&nbsp;24<br>operands:&nbsp;23<br></td><td><a class=\"ProveItLink\" href=\"../f198fc674ecaa8f2162bb46b1e70e1e3b2608e890/expr.ipynb\"><img src=\"../f198fc674ecaa8f2162bb46b1e70e1e3b2608e890/expr.png\" style=\"display:inline;vertical-align:middle;\" /></a></td></tr>\n",
       "<tr><td>19</td><td>Operation</td><td>operator:&nbsp;24<br>operands:&nbsp;25<br></td><td><a class=\"ProveItLink\" href=\"../53a12379f212de0bff579156611b7403a32f4a270/expr.ipynb\"><img src=\"../53a12379f212de0bff579156611b7403a32f4a270/expr.png\" style=\"display:inline;vertical-align:middle;\" /></a></td></tr>\n",
       "<tr><td>20</td><td>ExprTuple</td><td>26, 27</td><td><a class=\"ProveItLink\" href=\"../21b8af2174cfc968d12ea04d13c4c55d4f04da500/expr.ipynb\"><img src=\"../21b8af2174cfc968d12ea04d13c4c55d4f04da500/expr.png\" style=\"display:inline;vertical-align:middle;\" /></a></td></tr>\n",
       "<tr><td>21</td><td>Literal</td><td></td><td><a class=\"ProveItLink\" href=\"../../../../../../logic/equality/__pv_it/e16d2caa26a16688b658bdb9c422caf4b84579e10/expr.ipynb\"><img src=\"../../../../../../logic/equality/__pv_it/e16d2caa26a16688b658bdb9c422caf4b84579e10/expr.png\" style=\"display:inline;vertical-align:middle;\" /></a></td></tr>\n",
       "<tr><td>22</td><td>ExprTuple</td><td>28, 29</td><td><a class=\"ProveItLink\" href=\"../4a0105a1ccd50511103900e56eb0a49f844de0210/expr.ipynb\"><img src=\"../4a0105a1ccd50511103900e56eb0a49f844de0210/expr.png\" style=\"display:inline;vertical-align:middle;\" /></a></td></tr>\n",
       "<tr><td>23</td><td>ExprTuple</td><td>37, 30</td><td><a class=\"ProveItLink\" href=\"../55986ea2519a03faab411ed6fb0f8a73d2838a920/expr.ipynb\"><img src=\"../55986ea2519a03faab411ed6fb0f8a73d2838a920/expr.png\" style=\"display:inline;vertical-align:middle;\" /></a></td></tr>\n",
       "<tr><td>24</td><td>Literal</td><td></td><td><a class=\"ProveItLink\" href=\"../../../../../../logic/set_theory/membership/__pv_it/7776fc89cb67d0b5b1ec2c0c8e08da5587921ccf0/expr.ipynb\"><img src=\"../../../../../../logic/set_theory/membership/__pv_it/7776fc89cb67d0b5b1ec2c0c8e08da5587921ccf0/expr.png\" style=\"display:inline;vertical-align:middle;\" /></a></td></tr>\n",
       "<tr><td>25</td><td>ExprTuple</td><td>38, 30</td><td><a class=\"ProveItLink\" href=\"../a678e8d12afe68330aa72c382546f629eb0bb7ea0/expr.ipynb\"><img src=\"../a678e8d12afe68330aa72c382546f629eb0bb7ea0/expr.png\" style=\"display:inline;vertical-align:middle;\" /></a></td></tr>\n",
       "<tr><td>26</td><td>Operation</td><td>operator:&nbsp;32<br>operands:&nbsp;31<br></td><td><a class=\"ProveItLink\" href=\"../ba9bc94510d99c9578a0dc65fe82e4c7e56d9afa0/expr.ipynb\"><img src=\"../ba9bc94510d99c9578a0dc65fe82e4c7e56d9afa0/expr.png\" style=\"display:inline;vertical-align:middle;\" /></a></td></tr>\n",
       "<tr><td>27</td><td>Operation</td><td>operator:&nbsp;32<br>operands:&nbsp;34<br></td><td><a class=\"ProveItLink\" href=\"../b29f9b3ef7ead479c5a5c850a8e54ed89477aa9e0/expr.ipynb\"><img src=\"../b29f9b3ef7ead479c5a5c850a8e54ed89477aa9e0/expr.png\" style=\"display:inline;vertical-align:middle;\" /></a></td></tr>\n",
       "<tr><td>28</td><td>Operation</td><td>operator:&nbsp;33<br>operands:&nbsp;34<br></td><td><a class=\"ProveItLink\" href=\"../3dc57c3166b3091114896f14a7a59a4a5527abed0/expr.ipynb\"><img src=\"../3dc57c3166b3091114896f14a7a59a4a5527abed0/expr.png\" style=\"display:inline;vertical-align:middle;\" /></a></td></tr>\n",
       "<tr><td>29</td><td>Literal</td><td></td><td><a class=\"ProveItLink\" href=\"../../../../../numeral/__pv_it/f086f8c372bd40a2458306ddfdbb29f3dc6f63030/expr.ipynb\"><img src=\"../../../../../numeral/__pv_it/f086f8c372bd40a2458306ddfdbb29f3dc6f63030/expr.png\" style=\"display:inline;vertical-align:middle;\" /></a></td></tr>\n",
       "<tr><td>30</td><td>Literal</td><td></td><td><a class=\"ProveItLink\" href=\"../../../../integer/__pv_it/f6a9f4b6dec6ab4d2dcb6ba1b0ba3cceefc643530/expr.ipynb\"><img src=\"../../../../integer/__pv_it/f6a9f4b6dec6ab4d2dcb6ba1b0ba3cceefc643530/expr.png\" style=\"display:inline;vertical-align:middle;\" /></a></td></tr>\n",
       "<tr><td>31</td><td>ExprTuple</td><td>35, 36</td><td><a class=\"ProveItLink\" href=\"../bbc1b69eb12288f0ad04da0d0cc6b9b8079b8b3f0/expr.ipynb\"><img src=\"../bbc1b69eb12288f0ad04da0d0cc6b9b8079b8b3f0/expr.png\" style=\"display:inline;vertical-align:middle;\" /></a></td></tr>\n",
       "<tr><td>32</td><td>Literal</td><td></td><td><a class=\"ProveItLink\" href=\"../../../../../division/__pv_it/7a11ad25d6e61156459ac6819a1cec8fded2dde30/expr.ipynb\"><img src=\"../../../../../division/__pv_it/7a11ad25d6e61156459ac6819a1cec8fded2dde30/expr.png\" style=\"display:inline;vertical-align:middle;\" /></a></td></tr>\n",
       "<tr><td>33</td><td>Literal</td><td></td><td><a class=\"ProveItLink\" href=\"../../../../../divisibility/__pv_it/be6236a7b81f0cb57f7c0bb720a75d8412e2ac310/expr.ipynb\"><img src=\"../../../../../divisibility/__pv_it/be6236a7b81f0cb57f7c0bb720a75d8412e2ac310/expr.png\" style=\"display:inline;vertical-align:middle;\" /></a></td></tr>\n",
       "<tr><td>34</td><td>ExprTuple</td><td>37, 38</td><td><a class=\"ProveItLink\" href=\"../7a0efa1be4f8cc5eb07440787b264579aeeaedfc0/expr.ipynb\"><img src=\"../7a0efa1be4f8cc5eb07440787b264579aeeaedfc0/expr.png\" style=\"display:inline;vertical-align:middle;\" /></a></td></tr>\n",
       "<tr><td>35</td><td>Variable</td><td></td><td><a class=\"ProveItLink\" href=\"../../../../../../__pv_it/a8d4b3a34d2189508f9082853fbac36935714f280/expr.ipynb\"><img src=\"../../../../../../__pv_it/a8d4b3a34d2189508f9082853fbac36935714f280/expr.png\" style=\"display:inline;vertical-align:middle;\" /></a></td></tr>\n",
       "<tr><td>36</td><td>Variable</td><td></td><td><a class=\"ProveItLink\" href=\"../../../../../../__pv_it/53e304ff98ebc000dbe3ef224f4637dbafd46ba70/expr.ipynb\"><img src=\"../../../../../../__pv_it/53e304ff98ebc000dbe3ef224f4637dbafd46ba70/expr.png\" style=\"display:inline;vertical-align:middle;\" /></a></td></tr>\n",
       "<tr><td>37</td><td>Variable</td><td></td><td><a class=\"ProveItLink\" href=\"../../../../../../__pv_it/724300f221dbf8d6b0f81979a09e5553c7c440120/expr.ipynb\"><img src=\"../../../../../../__pv_it/724300f221dbf8d6b0f81979a09e5553c7c440120/expr.png\" style=\"display:inline;vertical-align:middle;\" /></a></td></tr>\n",
       "<tr><td>38</td><td>Variable</td><td></td><td><a class=\"ProveItLink\" href=\"../../../../../../__pv_it/7958e36219d215089feeaaaeb965eb84769264750/expr.ipynb\"><img src=\"../../../../../../__pv_it/7958e36219d215089feeaaaeb965eb84769264750/expr.png\" style=\"display:inline;vertical-align:middle;\" /></a></td></tr>\n",
       "</table>\n"
      ],
      "text/plain": [
       "0. {exists_{a' in NaturalsPos, b' in NaturalsPos} (((a / b) = (a' / b')) and (gcd(a', b') = 1)) if a in NaturalsPos ,  b in NaturalsPos.\n",
       "   core type: Conditional\n",
       "   value: 1\n",
       "   condition: 2\n",
       "1. exists_{a' in NaturalsPos, b' in NaturalsPos} (((a / b) = (a' / b')) and (gcd(a', b') = 1))\n",
       "   core type: Operation\n",
       "   operator: 3\n",
       "   operand: 4\n",
       "2. (a in NaturalsPos) and (b in NaturalsPos)\n",
       "   core type: Operation\n",
       "   operator: 14\n",
       "   operands: 5\n",
       "3. exists\n",
       "   core type: Literal\n",
       "   sub-expressions: \n",
       "4. (a', b') -> {((a / b) = (a' / b')) and (gcd(a', b') = 1) if a' in NaturalsPos ,  b' in NaturalsPos.\n",
       "   core type: Lambda\n",
       "   parameters: 34\\n   body: 6\n",
       "5. (a in NaturalsPos, b in NaturalsPos)\n",
       "   core type: ExprTuple\n",
       "   sub-expressions: 7, 8\n",
       "6. {((a / b) = (a' / b')) and (gcd(a', b') = 1) if a' in NaturalsPos ,  b' in NaturalsPos.\n",
       "   core type: Conditional\n",
       "   value: 9\n",
       "   condition: 10\n",
       "7. a in NaturalsPos\n",
       "   core type: Operation\n",
       "   operator: 24\n",
       "   operands: 11\n",
       "8. b in NaturalsPos\n",
       "   core type: Operation\n",
       "   operator: 24\n",
       "   operands: 12\n",
       "9. ((a / b) = (a' / b')) and (gcd(a', b') = 1)\n",
       "   core type: Operation\n",
       "   operator: 14\n",
       "   operands: 13\n",
       "10. (a' in NaturalsPos) and (b' in NaturalsPos)\n",
       "    core type: Operation\n",
       "    operator: 14\n",
       "    operands: 15\n",
       "11. (a, NaturalsPos)\n",
       "    core type: ExprTuple\n",
       "    sub-expressions: 35, 30\n",
       "12. (b, NaturalsPos)\n",
       "    core type: ExprTuple\n",
       "    sub-expressions: 36, 30\n",
       "13. ((a / b) = (a' / b'), gcd(a', b') = 1)\n",
       "    core type: ExprTuple\n",
       "    sub-expressions: 16, 17\n",
       "14. and\n",
       "    core type: Literal\n",
       "    sub-expressions: \n",
       "15. (a' in NaturalsPos, b' in NaturalsPos)\n",
       "    core type: ExprTuple\n",
       "    sub-expressions: 18, 19\n",
       "16. (a / b) = (a' / b')\n",
       "    core type: Operation\n",
       "    operator: 21\n",
       "    operands: 20\n",
       "17. gcd(a', b') = 1\n",
       "    core type: Operation\n",
       "    operator: 21\n",
       "    operands: 22\n",
       "18. a' in NaturalsPos\n",
       "    core type: Operation\n",
       "    operator: 24\n",
       "    operands: 23\n",
       "19. b' in NaturalsPos\n",
       "    core type: Operation\n",
       "    operator: 24\n",
       "    operands: 25\n",
       "20. (a / b, a' / b')\n",
       "    core type: ExprTuple\n",
       "    sub-expressions: 26, 27\n",
       "21. =\n",
       "    core type: Literal\n",
       "    sub-expressions: \n",
       "22. (gcd(a', b'), 1)\n",
       "    core type: ExprTuple\n",
       "    sub-expressions: 28, 29\n",
       "23. (a', NaturalsPos)\n",
       "    core type: ExprTuple\n",
       "    sub-expressions: 37, 30\n",
       "24. in\n",
       "    core type: Literal\n",
       "    sub-expressions: \n",
       "25. (b', NaturalsPos)\n",
       "    core type: ExprTuple\n",
       "    sub-expressions: 38, 30\n",
       "26. a / b\n",
       "    core type: Operation\n",
       "    operator: 32\n",
       "    operands: 31\n",
       "27. a' / b'\n",
       "    core type: Operation\n",
       "    operator: 32\n",
       "    operands: 34\n",
       "28. gcd(a', b')\n",
       "    core type: Operation\n",
       "    operator: 33\n",
       "    operands: 34\n",
       "29. 1\n",
       "    core type: Literal\n",
       "    sub-expressions: \n",
       "30. NaturalsPos\n",
       "    core type: Literal\n",
       "    sub-expressions: \n",
       "31. (a, b)\n",
       "    core type: ExprTuple\n",
       "    sub-expressions: 35, 36\n",
       "32. /\n",
       "    core type: Literal\n",
       "    sub-expressions: \n",
       "33. gcd\n",
       "    core type: Literal\n",
       "    sub-expressions: \n",
       "34. (a', b')\n",
       "    core type: ExprTuple\n",
       "    sub-expressions: 37, 38\n",
       "35. a\n",
       "    core type: Variable\n",
       "    sub-expressions: \n",
       "36. b\n",
       "    core type: Variable\n",
       "    sub-expressions: \n",
       "37. a'\n",
       "    core type: Variable\n",
       "    sub-expressions: \n",
       "38. b'\n",
       "    core type: Variable\n",
       "    sub-expressions: "
      ]
     },
     "execution_count": 5,
     "metadata": {},
     "output_type": "execute_result"
    }
   ],
   "source": [
    "# display the expression information\n",
    "expr.exprInfo()"
   ]
  },
  {
   "cell_type": "code",
   "execution_count": null,
   "metadata": {},
   "outputs": [],
   "source": []
  }
 ],
 "metadata": {
  "kernelspec": {
   "display_name": "Python 3",
   "language": "python",
   "name": "python3"
  },
  "language_info": {
   "codemirror_mode": {
    "name": "ipython",
    "version": 3
   },
   "file_extension": ".py",
   "mimetype": "text/x-python",
   "name": "python",
   "nbconvert_exporter": "python",
   "pygments_lexer": "ipython3",
   "version": "3.7.3"
  }
 },
 "nbformat": 4,
 "nbformat_minor": 1
}
