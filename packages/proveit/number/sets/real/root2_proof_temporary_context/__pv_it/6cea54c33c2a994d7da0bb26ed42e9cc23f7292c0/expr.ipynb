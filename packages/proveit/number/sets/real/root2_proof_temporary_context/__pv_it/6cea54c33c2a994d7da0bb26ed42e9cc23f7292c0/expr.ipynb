{
 "cells": [
  {
   "cell_type": "markdown",
   "metadata": {},
   "source": [
    "Theorem <a class=\"ProveItLink\" href=\"../../_theorems_.ipynb#rationalsPosDefExtension\">rationalsPosDefExtension</a> of type <a class=\"ProveItLink\" href=\"../../../../../../../../doc/html/api/proveit.logic.Forall.html\">Forall</a>\n",
    "=======================\n",
    "# from context <a class=\"ProveItLink\" href=\"../../_context_.ipynb\">proveit.number.sets.real.root2_proof_temporary_context</a>\n",
    "*** see <a class=\"ProveItLink\" href=\"dependencies.ipynb\">dependencies</a> ***"
   ]
  },
  {
   "cell_type": "code",
   "execution_count": 1,
   "metadata": {},
   "outputs": [],
   "source": [
    "import proveit\n",
    "# Automation is not needed when only building an expression:\n",
    "proveit.defaults.automation = False # This will speed things up.\n",
    "proveit.defaults.inline_pngs = False # Makes files smaller.\n",
    "# import the special expression\n",
    "from proveit.number.sets.real.root2_proof_temporary_context._theorems_ import rationalsPosDefExtension"
   ]
  },
  {
   "cell_type": "code",
   "execution_count": 2,
   "metadata": {},
   "outputs": [
    {
     "name": "stdout",
     "output_type": "stream",
     "text": [
      "Passed sanity check: built 'rationalsPosDefExtension' is the same as the stored Expression.\n"
     ]
    }
   ],
   "source": [
    "# check that the built expression is the same as the stored expression\n",
    "%check_expr rationalsPosDefExtension"
   ]
  },
  {
   "cell_type": "code",
   "execution_count": 3,
   "metadata": {},
   "outputs": [
    {
     "name": "stdout",
     "output_type": "stream",
     "text": [
      "\\vdash \\forall_{x \\in \\mathbb{Q}^+}~\\left[\\exists_{u \\in \\mathbb{N}^+, v \\in \\mathbb{N}^+}~\\left(\\left(x \\cdot u\\right) = v\\right)\\right]\n"
     ]
    }
   ],
   "source": [
    "# Show the LaTeX representation of the expression for convenience if you need it.\n",
    "print(rationalsPosDefExtension.latex())"
   ]
  },
  {
   "cell_type": "code",
   "execution_count": 4,
   "metadata": {},
   "outputs": [
    {
     "data": {
      "text/html": [
       "<table><tr><th>&nbsp;</th><th>core type</th><th>sub-expressions</th><th>expression</th></tr>\n",
       "<tr><td>0</td><td>Operation</td><td>operator:&nbsp;1<br>operand:&nbsp;2<br></td><td><a class=\"ProveItLink\" href=\"expr.ipynb\"><img src=\"expr.png\" style=\"display:inline;vertical-align:middle;\" /></a></td></tr>\n",
       "<tr><td>1</td><td>Literal</td><td></td><td><a class=\"ProveItLink\" href=\"../../../../../../logic/boolean/quantification/universal/__pv_it/fd9c772d6675566ed52a6897806f45eb08a4ea910/expr.ipynb\"><img src=\"../../../../../../logic/boolean/quantification/universal/__pv_it/fd9c772d6675566ed52a6897806f45eb08a4ea910/expr.png\" style=\"display:inline;vertical-align:middle;\" /></a></td></tr>\n",
       "<tr><td>2</td><td>Lambda</td><td>parameter:&nbsp;26<br>body:&nbsp;3<br></td><td><a class=\"ProveItLink\" href=\"../c45f3a4341fa0ff12bd7e96348d49c62fea6bb110/expr.ipynb\"><img src=\"../c45f3a4341fa0ff12bd7e96348d49c62fea6bb110/expr.png\" style=\"display:inline;vertical-align:middle;\" /></a></td></tr>\n",
       "<tr><td>3</td><td>Conditional</td><td>value:&nbsp;4<br>condition:&nbsp;5<br></td><td><a class=\"ProveItLink\" href=\"../2a55121749c683ca50d04e2edff862c8474158ec0/expr.ipynb\"><img src=\"../2a55121749c683ca50d04e2edff862c8474158ec0/expr.png\" style=\"display:inline;vertical-align:middle;\" /></a></td></tr>\n",
       "<tr><td>4</td><td>Operation</td><td>operator:&nbsp;6<br>operand:&nbsp;7<br></td><td><a class=\"ProveItLink\" href=\"../73749ffa4a121f768ef7056c802192b29dd59a320/expr.ipynb\"><img src=\"../73749ffa4a121f768ef7056c802192b29dd59a320/expr.png\" style=\"display:inline;vertical-align:middle;\" /></a></td></tr>\n",
       "<tr><td>5</td><td>Operation</td><td>operator:&nbsp;24<br>operands:&nbsp;8<br></td><td><a class=\"ProveItLink\" href=\"../2bd220edb0194a4101d0153f5aa9a7c7c1a38e2b0/expr.ipynb\"><img src=\"../2bd220edb0194a4101d0153f5aa9a7c7c1a38e2b0/expr.png\" style=\"display:inline;vertical-align:middle;\" /></a></td></tr>\n",
       "<tr><td>6</td><td>Literal</td><td></td><td><a class=\"ProveItLink\" href=\"../../../../../../logic/boolean/quantification/existential/__pv_it/a8168c029d342fc3061f84d6d950c32772790ad90/expr.ipynb\"><img src=\"../../../../../../logic/boolean/quantification/existential/__pv_it/a8168c029d342fc3061f84d6d950c32772790ad90/expr.png\" style=\"display:inline;vertical-align:middle;\" /></a></td></tr>\n",
       "<tr><td>7</td><td>Lambda</td><td>parameters:&nbsp;9<br>body:&nbsp;10<br></td><td><a class=\"ProveItLink\" href=\"../774e5359e414883a688bc4fe92c49fc0cc702baf0/expr.ipynb\"><img src=\"../774e5359e414883a688bc4fe92c49fc0cc702baf0/expr.png\" style=\"display:inline;vertical-align:middle;\" /></a></td></tr>\n",
       "<tr><td>8</td><td>ExprTuple</td><td>26, 11</td><td><a class=\"ProveItLink\" href=\"../adca752684dbf44dcece2f3ba9f8d66de1f26b4f0/expr.ipynb\"><img src=\"../adca752684dbf44dcece2f3ba9f8d66de1f26b4f0/expr.png\" style=\"display:inline;vertical-align:middle;\" /></a></td></tr>\n",
       "<tr><td>9</td><td>ExprTuple</td><td>27, 28</td><td><a class=\"ProveItLink\" href=\"../8515fe60b572b7618ad0a24df3e6def0fa39efa60/expr.ipynb\"><img src=\"../8515fe60b572b7618ad0a24df3e6def0fa39efa60/expr.png\" style=\"display:inline;vertical-align:middle;\" /></a></td></tr>\n",
       "<tr><td>10</td><td>Conditional</td><td>value:&nbsp;12<br>condition:&nbsp;13<br></td><td><a class=\"ProveItLink\" href=\"../0ef2778fdbf20c09c48cc48cdeb11fecc13f67ad0/expr.ipynb\"><img src=\"../0ef2778fdbf20c09c48cc48cdeb11fecc13f67ad0/expr.png\" style=\"display:inline;vertical-align:middle;\" /></a></td></tr>\n",
       "<tr><td>11</td><td>Literal</td><td></td><td><a class=\"ProveItLink\" href=\"../../../../rational/__pv_it/9433a88ad328d3e39f72621cf9c4a43cec1f26270/expr.ipynb\"><img src=\"../../../../rational/__pv_it/9433a88ad328d3e39f72621cf9c4a43cec1f26270/expr.png\" style=\"display:inline;vertical-align:middle;\" /></a></td></tr>\n",
       "<tr><td>12</td><td>Operation</td><td>operator:&nbsp;14<br>operands:&nbsp;15<br></td><td><a class=\"ProveItLink\" href=\"../2e7efd8d07f3050aad764afe8357271d41130d760/expr.ipynb\"><img src=\"../2e7efd8d07f3050aad764afe8357271d41130d760/expr.png\" style=\"display:inline;vertical-align:middle;\" /></a></td></tr>\n",
       "<tr><td>13</td><td>Operation</td><td>operator:&nbsp;16<br>operands:&nbsp;17<br></td><td><a class=\"ProveItLink\" href=\"../9f4674f0bf0e49cc69b635264da8ef6f518c0d360/expr.ipynb\"><img src=\"../9f4674f0bf0e49cc69b635264da8ef6f518c0d360/expr.png\" style=\"display:inline;vertical-align:middle;\" /></a></td></tr>\n",
       "<tr><td>14</td><td>Literal</td><td></td><td><a class=\"ProveItLink\" href=\"../../../../../../logic/equality/__pv_it/e16d2caa26a16688b658bdb9c422caf4b84579e10/expr.ipynb\"><img src=\"../../../../../../logic/equality/__pv_it/e16d2caa26a16688b658bdb9c422caf4b84579e10/expr.png\" style=\"display:inline;vertical-align:middle;\" /></a></td></tr>\n",
       "<tr><td>15</td><td>ExprTuple</td><td>18, 28</td><td><a class=\"ProveItLink\" href=\"../82d906ab747bdb05e4066b8b214b6ae76f1052020/expr.ipynb\"><img src=\"../82d906ab747bdb05e4066b8b214b6ae76f1052020/expr.png\" style=\"display:inline;vertical-align:middle;\" /></a></td></tr>\n",
       "<tr><td>16</td><td>Literal</td><td></td><td><a class=\"ProveItLink\" href=\"../../../../../../logic/boolean/conjunction/__pv_it/f41cc6b553210927c09f19a8a39cdf860a5585930/expr.ipynb\"><img src=\"../../../../../../logic/boolean/conjunction/__pv_it/f41cc6b553210927c09f19a8a39cdf860a5585930/expr.png\" style=\"display:inline;vertical-align:middle;\" /></a></td></tr>\n",
       "<tr><td>17</td><td>ExprTuple</td><td>19, 20</td><td><a class=\"ProveItLink\" href=\"../1e0d4a2b612570c31c0dcaf3bdb8134e188b2c540/expr.ipynb\"><img src=\"../1e0d4a2b612570c31c0dcaf3bdb8134e188b2c540/expr.png\" style=\"display:inline;vertical-align:middle;\" /></a></td></tr>\n",
       "<tr><td>18</td><td>Operation</td><td>operator:&nbsp;21<br>operands:&nbsp;22<br></td><td><a class=\"ProveItLink\" href=\"../a08d724d8d74b630966ee787a8afcc720d2de31c0/expr.ipynb\"><img src=\"../a08d724d8d74b630966ee787a8afcc720d2de31c0/expr.png\" style=\"display:inline;vertical-align:middle;\" /></a></td></tr>\n",
       "<tr><td>19</td><td>Operation</td><td>operator:&nbsp;24<br>operands:&nbsp;23<br></td><td><a class=\"ProveItLink\" href=\"../9257a0d65a7efff2233cd186d6f4cf318a5b9f630/expr.ipynb\"><img src=\"../9257a0d65a7efff2233cd186d6f4cf318a5b9f630/expr.png\" style=\"display:inline;vertical-align:middle;\" /></a></td></tr>\n",
       "<tr><td>20</td><td>Operation</td><td>operator:&nbsp;24<br>operands:&nbsp;25<br></td><td><a class=\"ProveItLink\" href=\"../b91ae26dd8b097a6134ec8c86a78efc7bb5185ec0/expr.ipynb\"><img src=\"../b91ae26dd8b097a6134ec8c86a78efc7bb5185ec0/expr.png\" style=\"display:inline;vertical-align:middle;\" /></a></td></tr>\n",
       "<tr><td>21</td><td>Literal</td><td></td><td><a class=\"ProveItLink\" href=\"../../../../../multiplication/__pv_it/f7a1ed7c35c8c884cf4c236d27cb79bf85638cad0/expr.ipynb\"><img src=\"../../../../../multiplication/__pv_it/f7a1ed7c35c8c884cf4c236d27cb79bf85638cad0/expr.png\" style=\"display:inline;vertical-align:middle;\" /></a></td></tr>\n",
       "<tr><td>22</td><td>ExprTuple</td><td>26, 27</td><td><a class=\"ProveItLink\" href=\"../24abcdec3ae6e5aac5cc6935ef485f1ac7288c030/expr.ipynb\"><img src=\"../24abcdec3ae6e5aac5cc6935ef485f1ac7288c030/expr.png\" style=\"display:inline;vertical-align:middle;\" /></a></td></tr>\n",
       "<tr><td>23</td><td>ExprTuple</td><td>27, 29</td><td><a class=\"ProveItLink\" href=\"../c1b524614fe48ab1305f0af466feb1c3623e0da70/expr.ipynb\"><img src=\"../c1b524614fe48ab1305f0af466feb1c3623e0da70/expr.png\" style=\"display:inline;vertical-align:middle;\" /></a></td></tr>\n",
       "<tr><td>24</td><td>Literal</td><td></td><td><a class=\"ProveItLink\" href=\"../../../../../../logic/set_theory/membership/__pv_it/7776fc89cb67d0b5b1ec2c0c8e08da5587921ccf0/expr.ipynb\"><img src=\"../../../../../../logic/set_theory/membership/__pv_it/7776fc89cb67d0b5b1ec2c0c8e08da5587921ccf0/expr.png\" style=\"display:inline;vertical-align:middle;\" /></a></td></tr>\n",
       "<tr><td>25</td><td>ExprTuple</td><td>28, 29</td><td><a class=\"ProveItLink\" href=\"../422b449885dee717bd6c494f14874f436ca31acc0/expr.ipynb\"><img src=\"../422b449885dee717bd6c494f14874f436ca31acc0/expr.png\" style=\"display:inline;vertical-align:middle;\" /></a></td></tr>\n",
       "<tr><td>26</td><td>Variable</td><td></td><td><a class=\"ProveItLink\" href=\"../../../../../../__pv_it/72df168d2bfb4e0140af90912ebf83b13772060b0/expr.ipynb\"><img src=\"../../../../../../__pv_it/72df168d2bfb4e0140af90912ebf83b13772060b0/expr.png\" style=\"display:inline;vertical-align:middle;\" /></a></td></tr>\n",
       "<tr><td>27</td><td>Variable</td><td></td><td><a class=\"ProveItLink\" href=\"../../../../../../__pv_it/04261bc123fecf54993152ffbcfbd1c4b61769bc0/expr.ipynb\"><img src=\"../../../../../../__pv_it/04261bc123fecf54993152ffbcfbd1c4b61769bc0/expr.png\" style=\"display:inline;vertical-align:middle;\" /></a></td></tr>\n",
       "<tr><td>28</td><td>Variable</td><td></td><td><a class=\"ProveItLink\" href=\"../../../../../../__pv_it/7def9b98d1c18bf85f7e07a591a31a95e4a6f4df0/expr.ipynb\"><img src=\"../../../../../../__pv_it/7def9b98d1c18bf85f7e07a591a31a95e4a6f4df0/expr.png\" style=\"display:inline;vertical-align:middle;\" /></a></td></tr>\n",
       "<tr><td>29</td><td>Literal</td><td></td><td><a class=\"ProveItLink\" href=\"../../../../integer/__pv_it/f6a9f4b6dec6ab4d2dcb6ba1b0ba3cceefc643530/expr.ipynb\"><img src=\"../../../../integer/__pv_it/f6a9f4b6dec6ab4d2dcb6ba1b0ba3cceefc643530/expr.png\" style=\"display:inline;vertical-align:middle;\" /></a></td></tr>\n",
       "</table>\n"
      ],
      "text/plain": [
       "0. forall_{x in RationalsPos} [exists_{u in NaturalsPos, v in NaturalsPos} ((x * u) = v)]\n",
       "   core type: Operation\n",
       "   operator: 1\n",
       "   operand: 2\n",
       "1. forall\n",
       "   core type: Literal\n",
       "   sub-expressions: \n",
       "2. x -> {exists_{u in NaturalsPos, v in NaturalsPos} ((x * u) = v) if x in RationalsPos.\n",
       "   core type: Lambda\n",
       "   parameter: 26\n",
       "   body: 3\n",
       "3. {exists_{u in NaturalsPos, v in NaturalsPos} ((x * u) = v) if x in RationalsPos.\n",
       "   core type: Conditional\n",
       "   value: 4\n",
       "   condition: 5\n",
       "4. exists_{u in NaturalsPos, v in NaturalsPos} ((x * u) = v)\n",
       "   core type: Operation\n",
       "   operator: 6\n",
       "   operand: 7\n",
       "5. x in RationalsPos\n",
       "   core type: Operation\n",
       "   operator: 24\n",
       "   operands: 8\n",
       "6. exists\n",
       "   core type: Literal\n",
       "   sub-expressions: \n",
       "7. (u, v) -> {(x * u) = v if u in NaturalsPos ,  v in NaturalsPos.\n",
       "   core type: Lambda\n",
       "   parameters: 9\\n   body: 10\n",
       "8. (x, RationalsPos)\n",
       "   core type: ExprTuple\n",
       "   sub-expressions: 26, 11\n",
       "9. (u, v)\n",
       "   core type: ExprTuple\n",
       "   sub-expressions: 27, 28\n",
       "10. {(x * u) = v if u in NaturalsPos ,  v in NaturalsPos.\n",
       "    core type: Conditional\n",
       "    value: 12\n",
       "    condition: 13\n",
       "11. RationalsPos\n",
       "    core type: Literal\n",
       "    sub-expressions: \n",
       "12. (x * u) = v\n",
       "    core type: Operation\n",
       "    operator: 14\n",
       "    operands: 15\n",
       "13. (u in NaturalsPos) and (v in NaturalsPos)\n",
       "    core type: Operation\n",
       "    operator: 16\n",
       "    operands: 17\n",
       "14. =\n",
       "    core type: Literal\n",
       "    sub-expressions: \n",
       "15. (x * u, v)\n",
       "    core type: ExprTuple\n",
       "    sub-expressions: 18, 28\n",
       "16. and\n",
       "    core type: Literal\n",
       "    sub-expressions: \n",
       "17. (u in NaturalsPos, v in NaturalsPos)\n",
       "    core type: ExprTuple\n",
       "    sub-expressions: 19, 20\n",
       "18. x * u\n",
       "    core type: Operation\n",
       "    operator: 21\n",
       "    operands: 22\n",
       "19. u in NaturalsPos\n",
       "    core type: Operation\n",
       "    operator: 24\n",
       "    operands: 23\n",
       "20. v in NaturalsPos\n",
       "    core type: Operation\n",
       "    operator: 24\n",
       "    operands: 25\n",
       "21. *\n",
       "    core type: Literal\n",
       "    sub-expressions: \n",
       "22. (x, u)\n",
       "    core type: ExprTuple\n",
       "    sub-expressions: 26, 27\n",
       "23. (u, NaturalsPos)\n",
       "    core type: ExprTuple\n",
       "    sub-expressions: 27, 29\n",
       "24. in\n",
       "    core type: Literal\n",
       "    sub-expressions: \n",
       "25. (v, NaturalsPos)\n",
       "    core type: ExprTuple\n",
       "    sub-expressions: 28, 29\n",
       "26. x\n",
       "    core type: Variable\n",
       "    sub-expressions: \n",
       "27. u\n",
       "    core type: Variable\n",
       "    sub-expressions: \n",
       "28. v\n",
       "    core type: Variable\n",
       "    sub-expressions: \n",
       "29. NaturalsPos\n",
       "    core type: Literal\n",
       "    sub-expressions: "
      ]
     },
     "execution_count": 4,
     "metadata": {},
     "output_type": "execute_result"
    }
   ],
   "source": [
    "# display the expression information\n",
    "rationalsPosDefExtension.exprInfo()"
   ]
  },
  {
   "cell_type": "code",
   "execution_count": null,
   "metadata": {},
   "outputs": [],
   "source": []
  }
 ],
 "metadata": {
  "kernelspec": {
   "display_name": "Python 3",
   "language": "python",
   "name": "python3"
  },
  "language_info": {
   "codemirror_mode": {
    "name": "ipython",
    "version": 3
   },
   "file_extension": ".py",
   "mimetype": "text/x-python",
   "name": "python",
   "nbconvert_exporter": "python",
   "pygments_lexer": "ipython3",
   "version": "3.7.3"
  }
 },
 "nbformat": 4,
 "nbformat_minor": 1
}
