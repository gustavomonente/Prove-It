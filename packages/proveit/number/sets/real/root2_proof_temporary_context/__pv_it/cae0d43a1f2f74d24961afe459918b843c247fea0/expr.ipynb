{
 "cells": [
  {
   "cell_type": "markdown",
   "metadata": {},
   "source": [
    "Expression of type <a class=\"ProveItLink\" href=\"../../../../../../../../doc/html/api/proveit.Conditional.html\">Conditional</a>\n",
    "=======================\n",
    "# from context <a class=\"ProveItLink\" href=\"../../_context_.ipynb\">proveit.number.sets.real.root2_proof_temporary_context</a>"
   ]
  },
  {
   "cell_type": "code",
   "execution_count": 1,
   "metadata": {},
   "outputs": [],
   "source": [
    "import proveit\n",
    "# Automation is not needed when building an expression:\n",
    "proveit.defaults.automation = False # This will speed things up.\n",
    "proveit.defaults.inline_pngs = False # Makes files smaller.\n",
    "# import Expression classes needed to build the expression\n",
    "from proveit import Conditional\n",
    "from proveit._common_ import u, v, x, y\n",
    "from proveit.logic import And, Equals, Exists, InSet\n",
    "from proveit.number import GCD, Mult, NaturalsPos, RationalsPos, one"
   ]
  },
  {
   "cell_type": "code",
   "execution_count": 2,
   "metadata": {},
   "outputs": [
    {
     "data": {
      "text/html": [
       "<strong id=\"expr\">expr:</strong> <a class=\"ProveItLink\" href=\"expr.ipynb\"><img src=\"expr.png\" style=\"display:inline;vertical-align:middle;\" /></a><br>"
      ],
      "text/plain": [
       "expr: {exists_{u in NaturalsPos, v in NaturalsPos} (((gcd(x, y) * u) = x) and ((gcd(x, y) * v) = y) and (gcd(u, v) = 1)) if x in RationalsPos ,  y in RationalsPos."
      ]
     },
     "execution_count": 2,
     "metadata": {},
     "output_type": "execute_result"
    }
   ],
   "source": [
    "# build up the expression from sub-expressions\n",
    "subExpr1 = GCD(x, y)\n",
    "expr = Conditional(Exists([u, v], And(Equals(Mult(subExpr1, u), x), Equals(Mult(subExpr1, v), y), Equals(GCD(u, v), one)), domains = [NaturalsPos, NaturalsPos]), And(InSet(x, RationalsPos), InSet(y, RationalsPos)))"
   ]
  },
  {
   "cell_type": "code",
   "execution_count": 3,
   "metadata": {},
   "outputs": [
    {
     "name": "stdout",
     "output_type": "stream",
     "text": [
      "Passed sanity check: built 'expr' is the same as the stored Expression.\n"
     ]
    }
   ],
   "source": [
    "# check that the built expression is the same as the stored expression\n",
    "%check_expr"
   ]
  },
  {
   "cell_type": "code",
   "execution_count": 4,
   "metadata": {},
   "outputs": [
    {
     "name": "stdout",
     "output_type": "stream",
     "text": [
      "\\left\\{\\exists_{u \\in \\mathbb{N}^+, v \\in \\mathbb{N}^+}~\\left(\\left(\\left(gcd(x, y) \\cdot u\\right) = x\\right) \\land \\left(\\left(gcd(x, y) \\cdot v\\right) = y\\right) \\land \\left(gcd(u, v) = 1\\right)\\right) \\textrm{ if } x \\in \\mathbb{Q}^+ ,  y \\in \\mathbb{Q}^+\\right..\n"
     ]
    }
   ],
   "source": [
    "# Show the LaTeX representation of the expression for convenience if you need it.\n",
    "print(expr.latex())"
   ]
  },
  {
   "cell_type": "code",
   "execution_count": 5,
   "metadata": {},
   "outputs": [
    {
     "data": {
      "text/html": [
       "<table><tr><th>&nbsp;</th><th>core type</th><th>sub-expressions</th><th>expression</th></tr>\n",
       "<tr><td>0</td><td>Conditional</td><td>value:&nbsp;1<br>condition:&nbsp;2<br></td><td><a class=\"ProveItLink\" href=\"expr.ipynb\"><img src=\"expr.png\" style=\"display:inline;vertical-align:middle;\" /></a></td></tr>\n",
       "<tr><td>1</td><td>Operation</td><td>operator:&nbsp;3<br>operand:&nbsp;4<br></td><td><a class=\"ProveItLink\" href=\"../28a1051f9cb0a798345f075ef72b04e4e97c12970/expr.ipynb\"><img src=\"../28a1051f9cb0a798345f075ef72b04e4e97c12970/expr.png\" style=\"display:inline;vertical-align:middle;\" /></a></td></tr>\n",
       "<tr><td>2</td><td>Operation</td><td>operator:&nbsp;14<br>operands:&nbsp;5<br></td><td><a class=\"ProveItLink\" href=\"../9fe4b167d61d745da84bb41ca412c3ce739c44f40/expr.ipynb\"><img src=\"../9fe4b167d61d745da84bb41ca412c3ce739c44f40/expr.png\" style=\"display:inline;vertical-align:middle;\" /></a></td></tr>\n",
       "<tr><td>3</td><td>Literal</td><td></td><td><a class=\"ProveItLink\" href=\"../../../../../../logic/boolean/quantification/existential/__pv_it/a8168c029d342fc3061f84d6d950c32772790ad90/expr.ipynb\"><img src=\"../../../../../../logic/boolean/quantification/existential/__pv_it/a8168c029d342fc3061f84d6d950c32772790ad90/expr.png\" style=\"display:inline;vertical-align:middle;\" /></a></td></tr>\n",
       "<tr><td>4</td><td>Lambda</td><td>parameters:&nbsp;37<br>body:&nbsp;6<br></td><td><a class=\"ProveItLink\" href=\"../e0fc195dc2ccf053a789a15253b0e71222340cc00/expr.ipynb\"><img src=\"../e0fc195dc2ccf053a789a15253b0e71222340cc00/expr.png\" style=\"display:inline;vertical-align:middle;\" /></a></td></tr>\n",
       "<tr><td>5</td><td>ExprTuple</td><td>7, 8</td><td><a class=\"ProveItLink\" href=\"../c7d5f5797f7c0151775fd68c9f63f7788be57a2a0/expr.ipynb\"><img src=\"../c7d5f5797f7c0151775fd68c9f63f7788be57a2a0/expr.png\" style=\"display:inline;vertical-align:middle;\" /></a></td></tr>\n",
       "<tr><td>6</td><td>Conditional</td><td>value:&nbsp;9<br>condition:&nbsp;10<br></td><td><a class=\"ProveItLink\" href=\"../29ccbf61c1945560c10af93c93f98fe5fa0ebf310/expr.ipynb\"><img src=\"../29ccbf61c1945560c10af93c93f98fe5fa0ebf310/expr.png\" style=\"display:inline;vertical-align:middle;\" /></a></td></tr>\n",
       "<tr><td>7</td><td>Operation</td><td>operator:&nbsp;27<br>operands:&nbsp;11<br></td><td><a class=\"ProveItLink\" href=\"../2bd220edb0194a4101d0153f5aa9a7c7c1a38e2b0/expr.ipynb\"><img src=\"../2bd220edb0194a4101d0153f5aa9a7c7c1a38e2b0/expr.png\" style=\"display:inline;vertical-align:middle;\" /></a></td></tr>\n",
       "<tr><td>8</td><td>Operation</td><td>operator:&nbsp;27<br>operands:&nbsp;12<br></td><td><a class=\"ProveItLink\" href=\"../0b7ca021e4b64797aee58da8bd77c97a87ec82950/expr.ipynb\"><img src=\"../0b7ca021e4b64797aee58da8bd77c97a87ec82950/expr.png\" style=\"display:inline;vertical-align:middle;\" /></a></td></tr>\n",
       "<tr><td>9</td><td>Operation</td><td>operator:&nbsp;14<br>operands:&nbsp;13<br></td><td><a class=\"ProveItLink\" href=\"../6cb3c677876afb86e08e79780169b9f767c97a570/expr.ipynb\"><img src=\"../6cb3c677876afb86e08e79780169b9f767c97a570/expr.png\" style=\"display:inline;vertical-align:middle;\" /></a></td></tr>\n",
       "<tr><td>10</td><td>Operation</td><td>operator:&nbsp;14<br>operands:&nbsp;15<br></td><td><a class=\"ProveItLink\" href=\"../9f4674f0bf0e49cc69b635264da8ef6f518c0d360/expr.ipynb\"><img src=\"../9f4674f0bf0e49cc69b635264da8ef6f518c0d360/expr.png\" style=\"display:inline;vertical-align:middle;\" /></a></td></tr>\n",
       "<tr><td>11</td><td>ExprTuple</td><td>43, 16</td><td><a class=\"ProveItLink\" href=\"../adca752684dbf44dcece2f3ba9f8d66de1f26b4f0/expr.ipynb\"><img src=\"../adca752684dbf44dcece2f3ba9f8d66de1f26b4f0/expr.png\" style=\"display:inline;vertical-align:middle;\" /></a></td></tr>\n",
       "<tr><td>12</td><td>ExprTuple</td><td>44, 16</td><td><a class=\"ProveItLink\" href=\"../15cef30d9271e3ba5e384c32e31e91bdd3cf15c00/expr.ipynb\"><img src=\"../15cef30d9271e3ba5e384c32e31e91bdd3cf15c00/expr.png\" style=\"display:inline;vertical-align:middle;\" /></a></td></tr>\n",
       "<tr><td>13</td><td>ExprTuple</td><td>17, 18, 19</td><td><a class=\"ProveItLink\" href=\"../e3e74147b94d9932bc4e7d77f65a8f04d43b80d80/expr.ipynb\"><img src=\"../e3e74147b94d9932bc4e7d77f65a8f04d43b80d80/expr.png\" style=\"display:inline;vertical-align:middle;\" /></a></td></tr>\n",
       "<tr><td>14</td><td>Literal</td><td></td><td><a class=\"ProveItLink\" href=\"../../../../../../logic/boolean/conjunction/__pv_it/f41cc6b553210927c09f19a8a39cdf860a5585930/expr.ipynb\"><img src=\"../../../../../../logic/boolean/conjunction/__pv_it/f41cc6b553210927c09f19a8a39cdf860a5585930/expr.png\" style=\"display:inline;vertical-align:middle;\" /></a></td></tr>\n",
       "<tr><td>15</td><td>ExprTuple</td><td>20, 21</td><td><a class=\"ProveItLink\" href=\"../1e0d4a2b612570c31c0dcaf3bdb8134e188b2c540/expr.ipynb\"><img src=\"../1e0d4a2b612570c31c0dcaf3bdb8134e188b2c540/expr.png\" style=\"display:inline;vertical-align:middle;\" /></a></td></tr>\n",
       "<tr><td>16</td><td>Literal</td><td></td><td><a class=\"ProveItLink\" href=\"../../../../rational/__pv_it/9433a88ad328d3e39f72621cf9c4a43cec1f26270/expr.ipynb\"><img src=\"../../../../rational/__pv_it/9433a88ad328d3e39f72621cf9c4a43cec1f26270/expr.png\" style=\"display:inline;vertical-align:middle;\" /></a></td></tr>\n",
       "<tr><td>17</td><td>Operation</td><td>operator:&nbsp;24<br>operands:&nbsp;22<br></td><td><a class=\"ProveItLink\" href=\"../aabdf49c4957433ab1bc01d9e1f91477abde373d0/expr.ipynb\"><img src=\"../aabdf49c4957433ab1bc01d9e1f91477abde373d0/expr.png\" style=\"display:inline;vertical-align:middle;\" /></a></td></tr>\n",
       "<tr><td>18</td><td>Operation</td><td>operator:&nbsp;24<br>operands:&nbsp;23<br></td><td><a class=\"ProveItLink\" href=\"../5e397a384491780280d5ad12ef33d6d2ae809ed80/expr.ipynb\"><img src=\"../5e397a384491780280d5ad12ef33d6d2ae809ed80/expr.png\" style=\"display:inline;vertical-align:middle;\" /></a></td></tr>\n",
       "<tr><td>19</td><td>Operation</td><td>operator:&nbsp;24<br>operands:&nbsp;25<br></td><td><a class=\"ProveItLink\" href=\"../71f720fbac4c909893b4d28c7ebf85c328f0da150/expr.ipynb\"><img src=\"../71f720fbac4c909893b4d28c7ebf85c328f0da150/expr.png\" style=\"display:inline;vertical-align:middle;\" /></a></td></tr>\n",
       "<tr><td>20</td><td>Operation</td><td>operator:&nbsp;27<br>operands:&nbsp;26<br></td><td><a class=\"ProveItLink\" href=\"../9257a0d65a7efff2233cd186d6f4cf318a5b9f630/expr.ipynb\"><img src=\"../9257a0d65a7efff2233cd186d6f4cf318a5b9f630/expr.png\" style=\"display:inline;vertical-align:middle;\" /></a></td></tr>\n",
       "<tr><td>21</td><td>Operation</td><td>operator:&nbsp;27<br>operands:&nbsp;28<br></td><td><a class=\"ProveItLink\" href=\"../b91ae26dd8b097a6134ec8c86a78efc7bb5185ec0/expr.ipynb\"><img src=\"../b91ae26dd8b097a6134ec8c86a78efc7bb5185ec0/expr.png\" style=\"display:inline;vertical-align:middle;\" /></a></td></tr>\n",
       "<tr><td>22</td><td>ExprTuple</td><td>29, 43</td><td><a class=\"ProveItLink\" href=\"../17a17bef8405a7fe0e64327976fc69583d210e5b0/expr.ipynb\"><img src=\"../17a17bef8405a7fe0e64327976fc69583d210e5b0/expr.png\" style=\"display:inline;vertical-align:middle;\" /></a></td></tr>\n",
       "<tr><td>23</td><td>ExprTuple</td><td>30, 44</td><td><a class=\"ProveItLink\" href=\"../7c89553a1e9009e7121d9d99d7a70068303a517c0/expr.ipynb\"><img src=\"../7c89553a1e9009e7121d9d99d7a70068303a517c0/expr.png\" style=\"display:inline;vertical-align:middle;\" /></a></td></tr>\n",
       "<tr><td>24</td><td>Literal</td><td></td><td><a class=\"ProveItLink\" href=\"../../../../../../logic/equality/__pv_it/e16d2caa26a16688b658bdb9c422caf4b84579e10/expr.ipynb\"><img src=\"../../../../../../logic/equality/__pv_it/e16d2caa26a16688b658bdb9c422caf4b84579e10/expr.png\" style=\"display:inline;vertical-align:middle;\" /></a></td></tr>\n",
       "<tr><td>25</td><td>ExprTuple</td><td>31, 32</td><td><a class=\"ProveItLink\" href=\"../c43ef9398d30dc6484a248ebd5c0aa94b11c96b80/expr.ipynb\"><img src=\"../c43ef9398d30dc6484a248ebd5c0aa94b11c96b80/expr.png\" style=\"display:inline;vertical-align:middle;\" /></a></td></tr>\n",
       "<tr><td>26</td><td>ExprTuple</td><td>39, 33</td><td><a class=\"ProveItLink\" href=\"../c1b524614fe48ab1305f0af466feb1c3623e0da70/expr.ipynb\"><img src=\"../c1b524614fe48ab1305f0af466feb1c3623e0da70/expr.png\" style=\"display:inline;vertical-align:middle;\" /></a></td></tr>\n",
       "<tr><td>27</td><td>Literal</td><td></td><td><a class=\"ProveItLink\" href=\"../../../../../../logic/set_theory/membership/__pv_it/7776fc89cb67d0b5b1ec2c0c8e08da5587921ccf0/expr.ipynb\"><img src=\"../../../../../../logic/set_theory/membership/__pv_it/7776fc89cb67d0b5b1ec2c0c8e08da5587921ccf0/expr.png\" style=\"display:inline;vertical-align:middle;\" /></a></td></tr>\n",
       "<tr><td>28</td><td>ExprTuple</td><td>40, 33</td><td><a class=\"ProveItLink\" href=\"../422b449885dee717bd6c494f14874f436ca31acc0/expr.ipynb\"><img src=\"../422b449885dee717bd6c494f14874f436ca31acc0/expr.png\" style=\"display:inline;vertical-align:middle;\" /></a></td></tr>\n",
       "<tr><td>29</td><td>Operation</td><td>operator:&nbsp;35<br>operands:&nbsp;34<br></td><td><a class=\"ProveItLink\" href=\"../5e52d97ec2012f21ebd35c9a7f03edb6cb5555090/expr.ipynb\"><img src=\"../5e52d97ec2012f21ebd35c9a7f03edb6cb5555090/expr.png\" style=\"display:inline;vertical-align:middle;\" /></a></td></tr>\n",
       "<tr><td>30</td><td>Operation</td><td>operator:&nbsp;35<br>operands:&nbsp;36<br></td><td><a class=\"ProveItLink\" href=\"../aa0c26312bc91178d15394f4127f9aec8508722a0/expr.ipynb\"><img src=\"../aa0c26312bc91178d15394f4127f9aec8508722a0/expr.png\" style=\"display:inline;vertical-align:middle;\" /></a></td></tr>\n",
       "<tr><td>31</td><td>Operation</td><td>operator:&nbsp;41<br>operands:&nbsp;37<br></td><td><a class=\"ProveItLink\" href=\"../f657606c70de6df6f9c5857298ed24f94e4f15950/expr.ipynb\"><img src=\"../f657606c70de6df6f9c5857298ed24f94e4f15950/expr.png\" style=\"display:inline;vertical-align:middle;\" /></a></td></tr>\n",
       "<tr><td>32</td><td>Literal</td><td></td><td><a class=\"ProveItLink\" href=\"../../../../../numeral/__pv_it/f086f8c372bd40a2458306ddfdbb29f3dc6f63030/expr.ipynb\"><img src=\"../../../../../numeral/__pv_it/f086f8c372bd40a2458306ddfdbb29f3dc6f63030/expr.png\" style=\"display:inline;vertical-align:middle;\" /></a></td></tr>\n",
       "<tr><td>33</td><td>Literal</td><td></td><td><a class=\"ProveItLink\" href=\"../../../../integer/__pv_it/f6a9f4b6dec6ab4d2dcb6ba1b0ba3cceefc643530/expr.ipynb\"><img src=\"../../../../integer/__pv_it/f6a9f4b6dec6ab4d2dcb6ba1b0ba3cceefc643530/expr.png\" style=\"display:inline;vertical-align:middle;\" /></a></td></tr>\n",
       "<tr><td>34</td><td>ExprTuple</td><td>38, 39</td><td><a class=\"ProveItLink\" href=\"../122b60c917cf41fcbcf02ff7bfa0068975c46dc60/expr.ipynb\"><img src=\"../122b60c917cf41fcbcf02ff7bfa0068975c46dc60/expr.png\" style=\"display:inline;vertical-align:middle;\" /></a></td></tr>\n",
       "<tr><td>35</td><td>Literal</td><td></td><td><a class=\"ProveItLink\" href=\"../../../../../multiplication/__pv_it/f7a1ed7c35c8c884cf4c236d27cb79bf85638cad0/expr.ipynb\"><img src=\"../../../../../multiplication/__pv_it/f7a1ed7c35c8c884cf4c236d27cb79bf85638cad0/expr.png\" style=\"display:inline;vertical-align:middle;\" /></a></td></tr>\n",
       "<tr><td>36</td><td>ExprTuple</td><td>38, 40</td><td><a class=\"ProveItLink\" href=\"../4962f11d52b43ca1698d249854a6ceb95d369a7a0/expr.ipynb\"><img src=\"../4962f11d52b43ca1698d249854a6ceb95d369a7a0/expr.png\" style=\"display:inline;vertical-align:middle;\" /></a></td></tr>\n",
       "<tr><td>37</td><td>ExprTuple</td><td>39, 40</td><td><a class=\"ProveItLink\" href=\"../8515fe60b572b7618ad0a24df3e6def0fa39efa60/expr.ipynb\"><img src=\"../8515fe60b572b7618ad0a24df3e6def0fa39efa60/expr.png\" style=\"display:inline;vertical-align:middle;\" /></a></td></tr>\n",
       "<tr><td>38</td><td>Operation</td><td>operator:&nbsp;41<br>operands:&nbsp;42<br></td><td><a class=\"ProveItLink\" href=\"../d91d3778ab02fcc7720904f1446d8f5c63f57c2d0/expr.ipynb\"><img src=\"../d91d3778ab02fcc7720904f1446d8f5c63f57c2d0/expr.png\" style=\"display:inline;vertical-align:middle;\" /></a></td></tr>\n",
       "<tr><td>39</td><td>Variable</td><td></td><td><a class=\"ProveItLink\" href=\"../../../../../../__pv_it/04261bc123fecf54993152ffbcfbd1c4b61769bc0/expr.ipynb\"><img src=\"../../../../../../__pv_it/04261bc123fecf54993152ffbcfbd1c4b61769bc0/expr.png\" style=\"display:inline;vertical-align:middle;\" /></a></td></tr>\n",
       "<tr><td>40</td><td>Variable</td><td></td><td><a class=\"ProveItLink\" href=\"../../../../../../__pv_it/7def9b98d1c18bf85f7e07a591a31a95e4a6f4df0/expr.ipynb\"><img src=\"../../../../../../__pv_it/7def9b98d1c18bf85f7e07a591a31a95e4a6f4df0/expr.png\" style=\"display:inline;vertical-align:middle;\" /></a></td></tr>\n",
       "<tr><td>41</td><td>Literal</td><td></td><td><a class=\"ProveItLink\" href=\"../../../../../divisibility/__pv_it/be6236a7b81f0cb57f7c0bb720a75d8412e2ac310/expr.ipynb\"><img src=\"../../../../../divisibility/__pv_it/be6236a7b81f0cb57f7c0bb720a75d8412e2ac310/expr.png\" style=\"display:inline;vertical-align:middle;\" /></a></td></tr>\n",
       "<tr><td>42</td><td>ExprTuple</td><td>43, 44</td><td><a class=\"ProveItLink\" href=\"../381a8da4a9fdeac3d03f772fe63417dc7a6055a40/expr.ipynb\"><img src=\"../381a8da4a9fdeac3d03f772fe63417dc7a6055a40/expr.png\" style=\"display:inline;vertical-align:middle;\" /></a></td></tr>\n",
       "<tr><td>43</td><td>Variable</td><td></td><td><a class=\"ProveItLink\" href=\"../../../../../../__pv_it/72df168d2bfb4e0140af90912ebf83b13772060b0/expr.ipynb\"><img src=\"../../../../../../__pv_it/72df168d2bfb4e0140af90912ebf83b13772060b0/expr.png\" style=\"display:inline;vertical-align:middle;\" /></a></td></tr>\n",
       "<tr><td>44</td><td>Variable</td><td></td><td><a class=\"ProveItLink\" href=\"../../../../../../__pv_it/c6e291955561f22a0e6708fd793ea93f1c7dbb5d0/expr.ipynb\"><img src=\"../../../../../../__pv_it/c6e291955561f22a0e6708fd793ea93f1c7dbb5d0/expr.png\" style=\"display:inline;vertical-align:middle;\" /></a></td></tr>\n",
       "</table>\n"
      ],
      "text/plain": [
       "0. {exists_{u in NaturalsPos, v in NaturalsPos} (((gcd(x, y) * u) = x) and ((gcd(x, y) * v) = y) and (gcd(u, v) = 1)) if x in RationalsPos ,  y in RationalsPos.\n",
       "   core type: Conditional\n",
       "   value: 1\n",
       "   condition: 2\n",
       "1. exists_{u in NaturalsPos, v in NaturalsPos} (((gcd(x, y) * u) = x) and ((gcd(x, y) * v) = y) and (gcd(u, v) = 1))\n",
       "   core type: Operation\n",
       "   operator: 3\n",
       "   operand: 4\n",
       "2. (x in RationalsPos) and (y in RationalsPos)\n",
       "   core type: Operation\n",
       "   operator: 14\n",
       "   operands: 5\n",
       "3. exists\n",
       "   core type: Literal\n",
       "   sub-expressions: \n",
       "4. (u, v) -> {((gcd(x, y) * u) = x) and ((gcd(x, y) * v) = y) and (gcd(u, v) = 1) if u in NaturalsPos ,  v in NaturalsPos.\n",
       "   core type: Lambda\n",
       "   parameters: 37\\n   body: 6\n",
       "5. (x in RationalsPos, y in RationalsPos)\n",
       "   core type: ExprTuple\n",
       "   sub-expressions: 7, 8\n",
       "6. {((gcd(x, y) * u) = x) and ((gcd(x, y) * v) = y) and (gcd(u, v) = 1) if u in NaturalsPos ,  v in NaturalsPos.\n",
       "   core type: Conditional\n",
       "   value: 9\n",
       "   condition: 10\n",
       "7. x in RationalsPos\n",
       "   core type: Operation\n",
       "   operator: 27\n",
       "   operands: 11\n",
       "8. y in RationalsPos\n",
       "   core type: Operation\n",
       "   operator: 27\n",
       "   operands: 12\n",
       "9. ((gcd(x, y) * u) = x) and ((gcd(x, y) * v) = y) and (gcd(u, v) = 1)\n",
       "   core type: Operation\n",
       "   operator: 14\n",
       "   operands: 13\n",
       "10. (u in NaturalsPos) and (v in NaturalsPos)\n",
       "    core type: Operation\n",
       "    operator: 14\n",
       "    operands: 15\n",
       "11. (x, RationalsPos)\n",
       "    core type: ExprTuple\n",
       "    sub-expressions: 43, 16\n",
       "12. (y, RationalsPos)\n",
       "    core type: ExprTuple\n",
       "    sub-expressions: 44, 16\n",
       "13. ((gcd(x, y) * u) = x, (gcd(x, y) * v) = y, gcd(u, v) = 1)\n",
       "    core type: ExprTuple\n",
       "    sub-expressions: 17, 18, 19\n",
       "14. and\n",
       "    core type: Literal\n",
       "    sub-expressions: \n",
       "15. (u in NaturalsPos, v in NaturalsPos)\n",
       "    core type: ExprTuple\n",
       "    sub-expressions: 20, 21\n",
       "16. RationalsPos\n",
       "    core type: Literal\n",
       "    sub-expressions: \n",
       "17. (gcd(x, y) * u) = x\n",
       "    core type: Operation\n",
       "    operator: 24\n",
       "    operands: 22\n",
       "18. (gcd(x, y) * v) = y\n",
       "    core type: Operation\n",
       "    operator: 24\n",
       "    operands: 23\n",
       "19. gcd(u, v) = 1\n",
       "    core type: Operation\n",
       "    operator: 24\n",
       "    operands: 25\n",
       "20. u in NaturalsPos\n",
       "    core type: Operation\n",
       "    operator: 27\n",
       "    operands: 26\n",
       "21. v in NaturalsPos\n",
       "    core type: Operation\n",
       "    operator: 27\n",
       "    operands: 28\n",
       "22. (gcd(x, y) * u, x)\n",
       "    core type: ExprTuple\n",
       "    sub-expressions: 29, 43\n",
       "23. (gcd(x, y) * v, y)\n",
       "    core type: ExprTuple\n",
       "    sub-expressions: 30, 44\n",
       "24. =\n",
       "    core type: Literal\n",
       "    sub-expressions: \n",
       "25. (gcd(u, v), 1)\n",
       "    core type: ExprTuple\n",
       "    sub-expressions: 31, 32\n",
       "26. (u, NaturalsPos)\n",
       "    core type: ExprTuple\n",
       "    sub-expressions: 39, 33\n",
       "27. in\n",
       "    core type: Literal\n",
       "    sub-expressions: \n",
       "28. (v, NaturalsPos)\n",
       "    core type: ExprTuple\n",
       "    sub-expressions: 40, 33\n",
       "29. gcd(x, y) * u\n",
       "    core type: Operation\n",
       "    operator: 35\n",
       "    operands: 34\n",
       "30. gcd(x, y) * v\n",
       "    core type: Operation\n",
       "    operator: 35\n",
       "    operands: 36\n",
       "31. gcd(u, v)\n",
       "    core type: Operation\n",
       "    operator: 41\n",
       "    operands: 37\n",
       "32. 1\n",
       "    core type: Literal\n",
       "    sub-expressions: \n",
       "33. NaturalsPos\n",
       "    core type: Literal\n",
       "    sub-expressions: \n",
       "34. (gcd(x, y), u)\n",
       "    core type: ExprTuple\n",
       "    sub-expressions: 38, 39\n",
       "35. *\n",
       "    core type: Literal\n",
       "    sub-expressions: \n",
       "36. (gcd(x, y), v)\n",
       "    core type: ExprTuple\n",
       "    sub-expressions: 38, 40\n",
       "37. (u, v)\n",
       "    core type: ExprTuple\n",
       "    sub-expressions: 39, 40\n",
       "38. gcd(x, y)\n",
       "    core type: Operation\n",
       "    operator: 41\n",
       "    operands: 42\n",
       "39. u\n",
       "    core type: Variable\n",
       "    sub-expressions: \n",
       "40. v\n",
       "    core type: Variable\n",
       "    sub-expressions: \n",
       "41. gcd\n",
       "    core type: Literal\n",
       "    sub-expressions: \n",
       "42. (x, y)\n",
       "    core type: ExprTuple\n",
       "    sub-expressions: 43, 44\n",
       "43. x\n",
       "    core type: Variable\n",
       "    sub-expressions: \n",
       "44. y\n",
       "    core type: Variable\n",
       "    sub-expressions: "
      ]
     },
     "execution_count": 5,
     "metadata": {},
     "output_type": "execute_result"
    }
   ],
   "source": [
    "# display the expression information\n",
    "expr.exprInfo()"
   ]
  },
  {
   "cell_type": "code",
   "execution_count": null,
   "metadata": {},
   "outputs": [],
   "source": []
  }
 ],
 "metadata": {
  "kernelspec": {
   "display_name": "Python 3",
   "language": "python",
   "name": "python3"
  },
  "language_info": {
   "codemirror_mode": {
    "name": "ipython",
    "version": 3
   },
   "file_extension": ".py",
   "mimetype": "text/x-python",
   "name": "python",
   "nbconvert_exporter": "python",
   "pygments_lexer": "ipython3",
   "version": "3.7.3"
  }
 },
 "nbformat": 4,
 "nbformat_minor": 1
}
