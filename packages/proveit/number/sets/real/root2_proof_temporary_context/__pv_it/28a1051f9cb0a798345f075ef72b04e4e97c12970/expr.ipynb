{
 "cells": [
  {
   "cell_type": "markdown",
   "metadata": {},
   "source": [
    "Expression of type <a class=\"ProveItLink\" href=\"../../../../../../../../doc/html/api/proveit.logic.Exists.html\">Exists</a>\n",
    "=======================\n",
    "# from context <a class=\"ProveItLink\" href=\"../../_context_.ipynb\">proveit.number.sets.real.root2_proof_temporary_context</a>"
   ]
  },
  {
   "cell_type": "code",
   "execution_count": 1,
   "metadata": {},
   "outputs": [],
   "source": [
    "import proveit\n",
    "# Automation is not needed when building an expression:\n",
    "proveit.defaults.automation = False # This will speed things up.\n",
    "proveit.defaults.inline_pngs = False # Makes files smaller.\n",
    "# import Expression classes needed to build the expression\n",
    "from proveit._common_ import u, v, x, y\n",
    "from proveit.logic import And, Equals, Exists\n",
    "from proveit.number import GCD, Mult, NaturalsPos, one"
   ]
  },
  {
   "cell_type": "code",
   "execution_count": 2,
   "metadata": {},
   "outputs": [
    {
     "data": {
      "text/html": [
       "<strong id=\"expr\">expr:</strong> <a class=\"ProveItLink\" href=\"expr.ipynb\"><img src=\"expr.png\" style=\"display:inline;vertical-align:middle;\" /></a><br>"
      ],
      "text/plain": [
       "expr: exists_{u in NaturalsPos, v in NaturalsPos} (((gcd(x, y) * u) = x) and ((gcd(x, y) * v) = y) and (gcd(u, v) = 1))"
      ]
     },
     "execution_count": 2,
     "metadata": {},
     "output_type": "execute_result"
    }
   ],
   "source": [
    "# build up the expression from sub-expressions\n",
    "subExpr1 = GCD(x, y)\n",
    "expr = Exists([u, v], And(Equals(Mult(subExpr1, u), x), Equals(Mult(subExpr1, v), y), Equals(GCD(u, v), one)), domains = [NaturalsPos, NaturalsPos])"
   ]
  },
  {
   "cell_type": "code",
   "execution_count": 3,
   "metadata": {},
   "outputs": [
    {
     "name": "stdout",
     "output_type": "stream",
     "text": [
      "Passed sanity check: built 'expr' is the same as the stored Expression.\n"
     ]
    }
   ],
   "source": [
    "# check that the built expression is the same as the stored expression\n",
    "%check_expr"
   ]
  },
  {
   "cell_type": "code",
   "execution_count": 4,
   "metadata": {},
   "outputs": [
    {
     "name": "stdout",
     "output_type": "stream",
     "text": [
      "\\exists_{u \\in \\mathbb{N}^+, v \\in \\mathbb{N}^+}~\\left(\\left(\\left(gcd(x, y) \\cdot u\\right) = x\\right) \\land \\left(\\left(gcd(x, y) \\cdot v\\right) = y\\right) \\land \\left(gcd(u, v) = 1\\right)\\right)\n"
     ]
    }
   ],
   "source": [
    "# Show the LaTeX representation of the expression for convenience if you need it.\n",
    "print(expr.latex())"
   ]
  },
  {
   "cell_type": "code",
   "execution_count": 5,
   "metadata": {},
   "outputs": [
    {
     "data": {
      "text/html": [
       "<table><tr><th>&nbsp;</th><th>core type</th><th>sub-expressions</th><th>expression</th></tr>\n",
       "<tr><td>0</td><td>Operation</td><td>operator:&nbsp;1<br>operand:&nbsp;2<br></td><td><a class=\"ProveItLink\" href=\"expr.ipynb\"><img src=\"expr.png\" style=\"display:inline;vertical-align:middle;\" /></a></td></tr>\n",
       "<tr><td>1</td><td>Literal</td><td></td><td><a class=\"ProveItLink\" href=\"../../../../../../logic/boolean/quantification/existential/__pv_it/a8168c029d342fc3061f84d6d950c32772790ad90/expr.ipynb\"><img src=\"../../../../../../logic/boolean/quantification/existential/__pv_it/a8168c029d342fc3061f84d6d950c32772790ad90/expr.png\" style=\"display:inline;vertical-align:middle;\" /></a></td></tr>\n",
       "<tr><td>2</td><td>Lambda</td><td>parameters:&nbsp;29<br>body:&nbsp;3<br></td><td><a class=\"ProveItLink\" href=\"../e0fc195dc2ccf053a789a15253b0e71222340cc00/expr.ipynb\"><img src=\"../e0fc195dc2ccf053a789a15253b0e71222340cc00/expr.png\" style=\"display:inline;vertical-align:middle;\" /></a></td></tr>\n",
       "<tr><td>3</td><td>Conditional</td><td>value:&nbsp;4<br>condition:&nbsp;5<br></td><td><a class=\"ProveItLink\" href=\"../29ccbf61c1945560c10af93c93f98fe5fa0ebf310/expr.ipynb\"><img src=\"../29ccbf61c1945560c10af93c93f98fe5fa0ebf310/expr.png\" style=\"display:inline;vertical-align:middle;\" /></a></td></tr>\n",
       "<tr><td>4</td><td>Operation</td><td>operator:&nbsp;7<br>operands:&nbsp;6<br></td><td><a class=\"ProveItLink\" href=\"../6cb3c677876afb86e08e79780169b9f767c97a570/expr.ipynb\"><img src=\"../6cb3c677876afb86e08e79780169b9f767c97a570/expr.png\" style=\"display:inline;vertical-align:middle;\" /></a></td></tr>\n",
       "<tr><td>5</td><td>Operation</td><td>operator:&nbsp;7<br>operands:&nbsp;8<br></td><td><a class=\"ProveItLink\" href=\"../9f4674f0bf0e49cc69b635264da8ef6f518c0d360/expr.ipynb\"><img src=\"../9f4674f0bf0e49cc69b635264da8ef6f518c0d360/expr.png\" style=\"display:inline;vertical-align:middle;\" /></a></td></tr>\n",
       "<tr><td>6</td><td>ExprTuple</td><td>9, 10, 11</td><td><a class=\"ProveItLink\" href=\"../e3e74147b94d9932bc4e7d77f65a8f04d43b80d80/expr.ipynb\"><img src=\"../e3e74147b94d9932bc4e7d77f65a8f04d43b80d80/expr.png\" style=\"display:inline;vertical-align:middle;\" /></a></td></tr>\n",
       "<tr><td>7</td><td>Literal</td><td></td><td><a class=\"ProveItLink\" href=\"../../../../../../logic/boolean/conjunction/__pv_it/f41cc6b553210927c09f19a8a39cdf860a5585930/expr.ipynb\"><img src=\"../../../../../../logic/boolean/conjunction/__pv_it/f41cc6b553210927c09f19a8a39cdf860a5585930/expr.png\" style=\"display:inline;vertical-align:middle;\" /></a></td></tr>\n",
       "<tr><td>8</td><td>ExprTuple</td><td>12, 13</td><td><a class=\"ProveItLink\" href=\"../1e0d4a2b612570c31c0dcaf3bdb8134e188b2c540/expr.ipynb\"><img src=\"../1e0d4a2b612570c31c0dcaf3bdb8134e188b2c540/expr.png\" style=\"display:inline;vertical-align:middle;\" /></a></td></tr>\n",
       "<tr><td>9</td><td>Operation</td><td>operator:&nbsp;16<br>operands:&nbsp;14<br></td><td><a class=\"ProveItLink\" href=\"../aabdf49c4957433ab1bc01d9e1f91477abde373d0/expr.ipynb\"><img src=\"../aabdf49c4957433ab1bc01d9e1f91477abde373d0/expr.png\" style=\"display:inline;vertical-align:middle;\" /></a></td></tr>\n",
       "<tr><td>10</td><td>Operation</td><td>operator:&nbsp;16<br>operands:&nbsp;15<br></td><td><a class=\"ProveItLink\" href=\"../5e397a384491780280d5ad12ef33d6d2ae809ed80/expr.ipynb\"><img src=\"../5e397a384491780280d5ad12ef33d6d2ae809ed80/expr.png\" style=\"display:inline;vertical-align:middle;\" /></a></td></tr>\n",
       "<tr><td>11</td><td>Operation</td><td>operator:&nbsp;16<br>operands:&nbsp;17<br></td><td><a class=\"ProveItLink\" href=\"../71f720fbac4c909893b4d28c7ebf85c328f0da150/expr.ipynb\"><img src=\"../71f720fbac4c909893b4d28c7ebf85c328f0da150/expr.png\" style=\"display:inline;vertical-align:middle;\" /></a></td></tr>\n",
       "<tr><td>12</td><td>Operation</td><td>operator:&nbsp;19<br>operands:&nbsp;18<br></td><td><a class=\"ProveItLink\" href=\"../9257a0d65a7efff2233cd186d6f4cf318a5b9f630/expr.ipynb\"><img src=\"../9257a0d65a7efff2233cd186d6f4cf318a5b9f630/expr.png\" style=\"display:inline;vertical-align:middle;\" /></a></td></tr>\n",
       "<tr><td>13</td><td>Operation</td><td>operator:&nbsp;19<br>operands:&nbsp;20<br></td><td><a class=\"ProveItLink\" href=\"../b91ae26dd8b097a6134ec8c86a78efc7bb5185ec0/expr.ipynb\"><img src=\"../b91ae26dd8b097a6134ec8c86a78efc7bb5185ec0/expr.png\" style=\"display:inline;vertical-align:middle;\" /></a></td></tr>\n",
       "<tr><td>14</td><td>ExprTuple</td><td>21, 35</td><td><a class=\"ProveItLink\" href=\"../17a17bef8405a7fe0e64327976fc69583d210e5b0/expr.ipynb\"><img src=\"../17a17bef8405a7fe0e64327976fc69583d210e5b0/expr.png\" style=\"display:inline;vertical-align:middle;\" /></a></td></tr>\n",
       "<tr><td>15</td><td>ExprTuple</td><td>22, 36</td><td><a class=\"ProveItLink\" href=\"../7c89553a1e9009e7121d9d99d7a70068303a517c0/expr.ipynb\"><img src=\"../7c89553a1e9009e7121d9d99d7a70068303a517c0/expr.png\" style=\"display:inline;vertical-align:middle;\" /></a></td></tr>\n",
       "<tr><td>16</td><td>Literal</td><td></td><td><a class=\"ProveItLink\" href=\"../../../../../../logic/equality/__pv_it/e16d2caa26a16688b658bdb9c422caf4b84579e10/expr.ipynb\"><img src=\"../../../../../../logic/equality/__pv_it/e16d2caa26a16688b658bdb9c422caf4b84579e10/expr.png\" style=\"display:inline;vertical-align:middle;\" /></a></td></tr>\n",
       "<tr><td>17</td><td>ExprTuple</td><td>23, 24</td><td><a class=\"ProveItLink\" href=\"../c43ef9398d30dc6484a248ebd5c0aa94b11c96b80/expr.ipynb\"><img src=\"../c43ef9398d30dc6484a248ebd5c0aa94b11c96b80/expr.png\" style=\"display:inline;vertical-align:middle;\" /></a></td></tr>\n",
       "<tr><td>18</td><td>ExprTuple</td><td>31, 25</td><td><a class=\"ProveItLink\" href=\"../c1b524614fe48ab1305f0af466feb1c3623e0da70/expr.ipynb\"><img src=\"../c1b524614fe48ab1305f0af466feb1c3623e0da70/expr.png\" style=\"display:inline;vertical-align:middle;\" /></a></td></tr>\n",
       "<tr><td>19</td><td>Literal</td><td></td><td><a class=\"ProveItLink\" href=\"../../../../../../logic/set_theory/membership/__pv_it/7776fc89cb67d0b5b1ec2c0c8e08da5587921ccf0/expr.ipynb\"><img src=\"../../../../../../logic/set_theory/membership/__pv_it/7776fc89cb67d0b5b1ec2c0c8e08da5587921ccf0/expr.png\" style=\"display:inline;vertical-align:middle;\" /></a></td></tr>\n",
       "<tr><td>20</td><td>ExprTuple</td><td>32, 25</td><td><a class=\"ProveItLink\" href=\"../422b449885dee717bd6c494f14874f436ca31acc0/expr.ipynb\"><img src=\"../422b449885dee717bd6c494f14874f436ca31acc0/expr.png\" style=\"display:inline;vertical-align:middle;\" /></a></td></tr>\n",
       "<tr><td>21</td><td>Operation</td><td>operator:&nbsp;27<br>operands:&nbsp;26<br></td><td><a class=\"ProveItLink\" href=\"../5e52d97ec2012f21ebd35c9a7f03edb6cb5555090/expr.ipynb\"><img src=\"../5e52d97ec2012f21ebd35c9a7f03edb6cb5555090/expr.png\" style=\"display:inline;vertical-align:middle;\" /></a></td></tr>\n",
       "<tr><td>22</td><td>Operation</td><td>operator:&nbsp;27<br>operands:&nbsp;28<br></td><td><a class=\"ProveItLink\" href=\"../aa0c26312bc91178d15394f4127f9aec8508722a0/expr.ipynb\"><img src=\"../aa0c26312bc91178d15394f4127f9aec8508722a0/expr.png\" style=\"display:inline;vertical-align:middle;\" /></a></td></tr>\n",
       "<tr><td>23</td><td>Operation</td><td>operator:&nbsp;33<br>operands:&nbsp;29<br></td><td><a class=\"ProveItLink\" href=\"../f657606c70de6df6f9c5857298ed24f94e4f15950/expr.ipynb\"><img src=\"../f657606c70de6df6f9c5857298ed24f94e4f15950/expr.png\" style=\"display:inline;vertical-align:middle;\" /></a></td></tr>\n",
       "<tr><td>24</td><td>Literal</td><td></td><td><a class=\"ProveItLink\" href=\"../../../../../numeral/__pv_it/f086f8c372bd40a2458306ddfdbb29f3dc6f63030/expr.ipynb\"><img src=\"../../../../../numeral/__pv_it/f086f8c372bd40a2458306ddfdbb29f3dc6f63030/expr.png\" style=\"display:inline;vertical-align:middle;\" /></a></td></tr>\n",
       "<tr><td>25</td><td>Literal</td><td></td><td><a class=\"ProveItLink\" href=\"../../../../integer/__pv_it/f6a9f4b6dec6ab4d2dcb6ba1b0ba3cceefc643530/expr.ipynb\"><img src=\"../../../../integer/__pv_it/f6a9f4b6dec6ab4d2dcb6ba1b0ba3cceefc643530/expr.png\" style=\"display:inline;vertical-align:middle;\" /></a></td></tr>\n",
       "<tr><td>26</td><td>ExprTuple</td><td>30, 31</td><td><a class=\"ProveItLink\" href=\"../122b60c917cf41fcbcf02ff7bfa0068975c46dc60/expr.ipynb\"><img src=\"../122b60c917cf41fcbcf02ff7bfa0068975c46dc60/expr.png\" style=\"display:inline;vertical-align:middle;\" /></a></td></tr>\n",
       "<tr><td>27</td><td>Literal</td><td></td><td><a class=\"ProveItLink\" href=\"../../../../../multiplication/__pv_it/f7a1ed7c35c8c884cf4c236d27cb79bf85638cad0/expr.ipynb\"><img src=\"../../../../../multiplication/__pv_it/f7a1ed7c35c8c884cf4c236d27cb79bf85638cad0/expr.png\" style=\"display:inline;vertical-align:middle;\" /></a></td></tr>\n",
       "<tr><td>28</td><td>ExprTuple</td><td>30, 32</td><td><a class=\"ProveItLink\" href=\"../4962f11d52b43ca1698d249854a6ceb95d369a7a0/expr.ipynb\"><img src=\"../4962f11d52b43ca1698d249854a6ceb95d369a7a0/expr.png\" style=\"display:inline;vertical-align:middle;\" /></a></td></tr>\n",
       "<tr><td>29</td><td>ExprTuple</td><td>31, 32</td><td><a class=\"ProveItLink\" href=\"../8515fe60b572b7618ad0a24df3e6def0fa39efa60/expr.ipynb\"><img src=\"../8515fe60b572b7618ad0a24df3e6def0fa39efa60/expr.png\" style=\"display:inline;vertical-align:middle;\" /></a></td></tr>\n",
       "<tr><td>30</td><td>Operation</td><td>operator:&nbsp;33<br>operands:&nbsp;34<br></td><td><a class=\"ProveItLink\" href=\"../d91d3778ab02fcc7720904f1446d8f5c63f57c2d0/expr.ipynb\"><img src=\"../d91d3778ab02fcc7720904f1446d8f5c63f57c2d0/expr.png\" style=\"display:inline;vertical-align:middle;\" /></a></td></tr>\n",
       "<tr><td>31</td><td>Variable</td><td></td><td><a class=\"ProveItLink\" href=\"../../../../../../__pv_it/04261bc123fecf54993152ffbcfbd1c4b61769bc0/expr.ipynb\"><img src=\"../../../../../../__pv_it/04261bc123fecf54993152ffbcfbd1c4b61769bc0/expr.png\" style=\"display:inline;vertical-align:middle;\" /></a></td></tr>\n",
       "<tr><td>32</td><td>Variable</td><td></td><td><a class=\"ProveItLink\" href=\"../../../../../../__pv_it/7def9b98d1c18bf85f7e07a591a31a95e4a6f4df0/expr.ipynb\"><img src=\"../../../../../../__pv_it/7def9b98d1c18bf85f7e07a591a31a95e4a6f4df0/expr.png\" style=\"display:inline;vertical-align:middle;\" /></a></td></tr>\n",
       "<tr><td>33</td><td>Literal</td><td></td><td><a class=\"ProveItLink\" href=\"../../../../../divisibility/__pv_it/be6236a7b81f0cb57f7c0bb720a75d8412e2ac310/expr.ipynb\"><img src=\"../../../../../divisibility/__pv_it/be6236a7b81f0cb57f7c0bb720a75d8412e2ac310/expr.png\" style=\"display:inline;vertical-align:middle;\" /></a></td></tr>\n",
       "<tr><td>34</td><td>ExprTuple</td><td>35, 36</td><td><a class=\"ProveItLink\" href=\"../381a8da4a9fdeac3d03f772fe63417dc7a6055a40/expr.ipynb\"><img src=\"../381a8da4a9fdeac3d03f772fe63417dc7a6055a40/expr.png\" style=\"display:inline;vertical-align:middle;\" /></a></td></tr>\n",
       "<tr><td>35</td><td>Variable</td><td></td><td><a class=\"ProveItLink\" href=\"../../../../../../__pv_it/72df168d2bfb4e0140af90912ebf83b13772060b0/expr.ipynb\"><img src=\"../../../../../../__pv_it/72df168d2bfb4e0140af90912ebf83b13772060b0/expr.png\" style=\"display:inline;vertical-align:middle;\" /></a></td></tr>\n",
       "<tr><td>36</td><td>Variable</td><td></td><td><a class=\"ProveItLink\" href=\"../../../../../../__pv_it/c6e291955561f22a0e6708fd793ea93f1c7dbb5d0/expr.ipynb\"><img src=\"../../../../../../__pv_it/c6e291955561f22a0e6708fd793ea93f1c7dbb5d0/expr.png\" style=\"display:inline;vertical-align:middle;\" /></a></td></tr>\n",
       "</table>\n"
      ],
      "text/plain": [
       "0. exists_{u in NaturalsPos, v in NaturalsPos} (((gcd(x, y) * u) = x) and ((gcd(x, y) * v) = y) and (gcd(u, v) = 1))\n",
       "   core type: Operation\n",
       "   operator: 1\n",
       "   operand: 2\n",
       "1. exists\n",
       "   core type: Literal\n",
       "   sub-expressions: \n",
       "2. (u, v) -> {((gcd(x, y) * u) = x) and ((gcd(x, y) * v) = y) and (gcd(u, v) = 1) if u in NaturalsPos ,  v in NaturalsPos.\n",
       "   core type: Lambda\n",
       "   parameters: 29\\n   body: 3\n",
       "3. {((gcd(x, y) * u) = x) and ((gcd(x, y) * v) = y) and (gcd(u, v) = 1) if u in NaturalsPos ,  v in NaturalsPos.\n",
       "   core type: Conditional\n",
       "   value: 4\n",
       "   condition: 5\n",
       "4. ((gcd(x, y) * u) = x) and ((gcd(x, y) * v) = y) and (gcd(u, v) = 1)\n",
       "   core type: Operation\n",
       "   operator: 7\n",
       "   operands: 6\n",
       "5. (u in NaturalsPos) and (v in NaturalsPos)\n",
       "   core type: Operation\n",
       "   operator: 7\n",
       "   operands: 8\n",
       "6. ((gcd(x, y) * u) = x, (gcd(x, y) * v) = y, gcd(u, v) = 1)\n",
       "   core type: ExprTuple\n",
       "   sub-expressions: 9, 10, 11\n",
       "7. and\n",
       "   core type: Literal\n",
       "   sub-expressions: \n",
       "8. (u in NaturalsPos, v in NaturalsPos)\n",
       "   core type: ExprTuple\n",
       "   sub-expressions: 12, 13\n",
       "9. (gcd(x, y) * u) = x\n",
       "   core type: Operation\n",
       "   operator: 16\n",
       "   operands: 14\n",
       "10. (gcd(x, y) * v) = y\n",
       "    core type: Operation\n",
       "    operator: 16\n",
       "    operands: 15\n",
       "11. gcd(u, v) = 1\n",
       "    core type: Operation\n",
       "    operator: 16\n",
       "    operands: 17\n",
       "12. u in NaturalsPos\n",
       "    core type: Operation\n",
       "    operator: 19\n",
       "    operands: 18\n",
       "13. v in NaturalsPos\n",
       "    core type: Operation\n",
       "    operator: 19\n",
       "    operands: 20\n",
       "14. (gcd(x, y) * u, x)\n",
       "    core type: ExprTuple\n",
       "    sub-expressions: 21, 35\n",
       "15. (gcd(x, y) * v, y)\n",
       "    core type: ExprTuple\n",
       "    sub-expressions: 22, 36\n",
       "16. =\n",
       "    core type: Literal\n",
       "    sub-expressions: \n",
       "17. (gcd(u, v), 1)\n",
       "    core type: ExprTuple\n",
       "    sub-expressions: 23, 24\n",
       "18. (u, NaturalsPos)\n",
       "    core type: ExprTuple\n",
       "    sub-expressions: 31, 25\n",
       "19. in\n",
       "    core type: Literal\n",
       "    sub-expressions: \n",
       "20. (v, NaturalsPos)\n",
       "    core type: ExprTuple\n",
       "    sub-expressions: 32, 25\n",
       "21. gcd(x, y) * u\n",
       "    core type: Operation\n",
       "    operator: 27\n",
       "    operands: 26\n",
       "22. gcd(x, y) * v\n",
       "    core type: Operation\n",
       "    operator: 27\n",
       "    operands: 28\n",
       "23. gcd(u, v)\n",
       "    core type: Operation\n",
       "    operator: 33\n",
       "    operands: 29\n",
       "24. 1\n",
       "    core type: Literal\n",
       "    sub-expressions: \n",
       "25. NaturalsPos\n",
       "    core type: Literal\n",
       "    sub-expressions: \n",
       "26. (gcd(x, y), u)\n",
       "    core type: ExprTuple\n",
       "    sub-expressions: 30, 31\n",
       "27. *\n",
       "    core type: Literal\n",
       "    sub-expressions: \n",
       "28. (gcd(x, y), v)\n",
       "    core type: ExprTuple\n",
       "    sub-expressions: 30, 32\n",
       "29. (u, v)\n",
       "    core type: ExprTuple\n",
       "    sub-expressions: 31, 32\n",
       "30. gcd(x, y)\n",
       "    core type: Operation\n",
       "    operator: 33\n",
       "    operands: 34\n",
       "31. u\n",
       "    core type: Variable\n",
       "    sub-expressions: \n",
       "32. v\n",
       "    core type: Variable\n",
       "    sub-expressions: \n",
       "33. gcd\n",
       "    core type: Literal\n",
       "    sub-expressions: \n",
       "34. (x, y)\n",
       "    core type: ExprTuple\n",
       "    sub-expressions: 35, 36\n",
       "35. x\n",
       "    core type: Variable\n",
       "    sub-expressions: \n",
       "36. y\n",
       "    core type: Variable\n",
       "    sub-expressions: "
      ]
     },
     "execution_count": 5,
     "metadata": {},
     "output_type": "execute_result"
    }
   ],
   "source": [
    "# display the expression information\n",
    "expr.exprInfo()"
   ]
  },
  {
   "cell_type": "code",
   "execution_count": null,
   "metadata": {},
   "outputs": [],
   "source": []
  }
 ],
 "metadata": {
  "kernelspec": {
   "display_name": "Python 3",
   "language": "python",
   "name": "python3"
  },
  "language_info": {
   "codemirror_mode": {
    "name": "ipython",
    "version": 3
   },
   "file_extension": ".py",
   "mimetype": "text/x-python",
   "name": "python",
   "nbconvert_exporter": "python",
   "pygments_lexer": "ipython3",
   "version": "3.7.3"
  }
 },
 "nbformat": 4,
 "nbformat_minor": 1
}
