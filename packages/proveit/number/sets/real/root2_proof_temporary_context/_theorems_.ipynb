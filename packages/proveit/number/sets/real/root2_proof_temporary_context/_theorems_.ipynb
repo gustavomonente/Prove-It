{
 "cells": [
  {
   "cell_type": "markdown",
   "metadata": {},
   "source": [
    "Theorems for context <a class=\"ProveItLink\" href=\"_context_.ipynb\">proveit.number.sets.real.root2_proof_temporary_context</a>\n",
    "========"
   ]
  },
  {
   "cell_type": "code",
   "execution_count": null,
   "metadata": {},
   "outputs": [],
   "source": [
    "import proveit\n",
    "# Automation is not needed when building theorem expressions:\n",
    "proveit.defaults.automation = False # This will speed things up.\n",
    "# the context is in the current directory:\n",
    "context = proveit.Context('.') # adds context root to sys.path if necessary\n",
    "from proveit import Function, Indexed, Variable\n",
    "from proveit.logic import InSet\n",
    "from proveit._common_ import a, b, n, p, q, r, u, v, x, y, z, G\n",
    "from proveit._common_ import P, Q, R, aPrime, bPrime, Px, Py, Qx, Qy, alpha\n",
    "from proveit.logic import And, Exists, Equals, Forall, Implies, InSet, Not\n",
    "from proveit.number import zero, one, two, four, sqrt, num\n",
    "from proveit.number import frac, Mult, Exp, Greater, GreaterEq, GCD, Divides\n",
    "from proveit.number import Naturals, NaturalsPos, Reals, RealsNonNeg\n",
    "from proveit.number.sets.rational._common_ import Rationals, RationalsNonNeg, RationalsPos"
   ]
  },
  {
   "cell_type": "code",
   "execution_count": null,
   "metadata": {},
   "outputs": [],
   "source": [
    "%begin theorems"
   ]
  },
  {
   "cell_type": "code",
   "execution_count": null,
   "metadata": {},
   "outputs": [],
   "source": [
    "# the simple version of an elimination theorem\n",
    "elim_theorem = Forall(\n",
    "    (P, alpha),\n",
    "    Implies(And(Exists(x, Px, domain=Naturals),\n",
    "            Forall(y,\n",
    "                   alpha,\n",
    "                   domain=Naturals,\n",
    "                   conditions=[Py])),\n",
    "           alpha))"
   ]
  },
  {
   "cell_type": "code",
   "execution_count": null,
   "metadata": {},
   "outputs": [],
   "source": [
    "# The following is already available in proveit.number.numeral.deci._theorems\n",
    "# as posnat2, so get it from there instead when needed\n",
    "# t1 = InSet(two,NaturalsPos)"
   ]
  },
  {
   "cell_type": "code",
   "execution_count": null,
   "metadata": {},
   "outputs": [],
   "source": [
    "# The following is already available in proveit.number.numeral.deci._theorems\n",
    "# as Mult_2_2, so get it from there instead when needed\n",
    "# t2 = Equals(Mult(two, two), four)"
   ]
  },
  {
   "cell_type": "code",
   "execution_count": null,
   "metadata": {},
   "outputs": [],
   "source": [
    "# The following is already available in proveit.number.numeral.deci._theorems\n",
    "# as as a version of 1 < 2 called less_1_2, so get it from there instead when needed\n",
    "# t3 = Greater(two, one)"
   ]
  },
  {
   "cell_type": "code",
   "execution_count": null,
   "metadata": {},
   "outputs": [],
   "source": []
  },
  {
   "cell_type": "code",
   "execution_count": null,
   "metadata": {},
   "outputs": [],
   "source": [
    "t4_1 = Forall(\n",
    "    n,\n",
    "    InSet(sqrt(n), RealsNonNeg),\n",
    "    domain = Naturals)"
   ]
  },
  {
   "cell_type": "code",
   "execution_count": null,
   "metadata": {},
   "outputs": [],
   "source": [
    "t4_2 = Forall(\n",
    "    r,\n",
    "    GreaterEq(r, zero),\n",
    "    domain = RealsNonNeg)"
   ]
  },
  {
   "cell_type": "code",
   "execution_count": null,
   "metadata": {},
   "outputs": [],
   "source": [
    "t4_3 = Forall(\n",
    "    n,\n",
    "    InSet(n, Naturals),\n",
    "    domain = NaturalsPos)"
   ]
  },
  {
   "cell_type": "code",
   "execution_count": null,
   "metadata": {},
   "outputs": [],
   "source": [
    "t4_4 = Forall(\n",
    "    a,\n",
    "    InSet(Exp(a, two), Naturals),\n",
    "    domain = Naturals)"
   ]
  },
  {
   "cell_type": "code",
   "execution_count": null,
   "metadata": {},
   "outputs": [],
   "source": [
    "t4_5 = Forall(\n",
    "    b,\n",
    "    InSet(Exp(b, two), NaturalsPos),\n",
    "    domain = NaturalsPos)"
   ]
  },
  {
   "cell_type": "code",
   "execution_count": null,
   "metadata": {},
   "outputs": [],
   "source": [
    "t4_6 = Forall(\n",
    "    q,\n",
    "    Implies(GreaterEq(q, zero), InSet(q, RationalsNonNeg)),\n",
    "    domain = Rationals)"
   ]
  },
  {
   "cell_type": "code",
   "execution_count": null,
   "metadata": {},
   "outputs": [],
   "source": [
    "# t4_7 = inRationalsPos_iff_positive\n",
    "# aready defined in proveit.number.sets.rational._theorems_"
   ]
  },
  {
   "cell_type": "code",
   "execution_count": null,
   "metadata": {},
   "outputs": [],
   "source": [
    "t4_8 = Forall(\n",
    "    q,\n",
    "    Exists((a,b),\n",
    "           Equals(q, frac(a,b)),\n",
    "           domains = [Naturals, NaturalsPos]),\n",
    "    domain = RationalsNonNeg)"
   ]
  },
  {
   "cell_type": "code",
   "execution_count": null,
   "metadata": {},
   "outputs": [],
   "source": [
    "from proveit import Literal\n",
    "bPrimePrime = Literal(\"b''\", r'{b^{\\prime\\prime}}')\n",
    "t4_8_alt = Forall(\n",
    "    q,\n",
    "    Exists(a,\n",
    "           Equals(q, frac(a,bPrimePrime)),\n",
    "           domain = Naturals),\n",
    "    domain = RationalsNonNeg)"
   ]
  },
  {
   "cell_type": "code",
   "execution_count": null,
   "metadata": {},
   "outputs": [],
   "source": [
    "t4_9 = Forall(\n",
    "    (n, a, b),\n",
    "    Implies(Equals(sqrt(n), frac(a,b)),\n",
    "            Equals(Mult(n, Exp(b, two)), Exp(a, two))),\n",
    "    domains = [Naturals, Naturals, NaturalsPos])"
   ]
  },
  {
   "cell_type": "code",
   "execution_count": null,
   "metadata": {},
   "outputs": [],
   "source": [
    "t4_10 = Forall(\n",
    "    (a, b),\n",
    "    InSet(frac(a, b), RationalsPos),\n",
    "    domain = NaturalsPos)"
   ]
  },
  {
   "cell_type": "code",
   "execution_count": null,
   "metadata": {},
   "outputs": [],
   "source": [
    "t4_11 = Forall(\n",
    "    a,\n",
    "    Implies(InSet(Exp(a, two), NaturalsPos),\n",
    "            InSet(a, NaturalsPos)),\n",
    "    domain = Naturals)"
   ]
  },
  {
   "cell_type": "code",
   "execution_count": null,
   "metadata": {},
   "outputs": [],
   "source": [
    "# Automated via rationalsPosInRationals\n",
    "t4 = Forall(n, Implies(InSet(sqrt(n),Rationals), InSet(sqrt(n), RationalsPos)), domain = NaturalsPos)"
   ]
  },
  {
   "cell_type": "code",
   "execution_count": null,
   "metadata": {},
   "outputs": [],
   "source": [
    "# Automated via rationalsPosInRationals\n",
    "t4_alt = Forall(n, Implies(InSet(sqrt(n),Rationals), InSet(sqrt(n), RationalsPos)), domain = NaturalsPos)"
   ]
  },
  {
   "cell_type": "code",
   "execution_count": null,
   "metadata": {},
   "outputs": [],
   "source": [
    "# Automated via rationalsPosInRationals\n",
    "t4_alt_02 = Forall(n, Implies(InSet(sqrt(n),Rationals), InSet(sqrt(n), RationalsPos)), domain = NaturalsPos)"
   ]
  },
  {
   "cell_type": "code",
   "execution_count": null,
   "metadata": {},
   "outputs": [],
   "source": [
    "t5 = Forall(q, Exists((a,b), Equals(q, frac(a, b)), domain = NaturalsPos), domain = RationalsPos)"
   ]
  },
  {
   "cell_type": "code",
   "execution_count": null,
   "metadata": {},
   "outputs": [],
   "source": [
    "t6 = Forall(\n",
    "        (a,b),\n",
    "        Exists((aPrime,bPrime),\n",
    "               And(Equals(frac(a,b),frac(aPrime,bPrime)),\n",
    "                   Equals(GCD(aPrime,bPrime), one)),\n",
    "               domain = NaturalsPos),\n",
    "        domain = NaturalsPos)"
   ]
  },
  {
   "cell_type": "code",
   "execution_count": null,
   "metadata": {},
   "outputs": [],
   "source": [
    "t7 = Forall((a, b), Implies(Equals(GCD(a, b), one), Forall(p, Implies(Greater(p, one), Not(And(Divides(p, a), Divides(p, b)))), domain=NaturalsPos)), domain=NaturalsPos)"
   ]
  },
  {
   "cell_type": "code",
   "execution_count": null,
   "metadata": {},
   "outputs": [],
   "source": [
    "t8 = Forall((a, b), Implies(Equals(sqrt(two), frac(a, b)), Equals(Mult(two, Exp(b, two)), Exp(a, two))), domain=NaturalsPos)"
   ]
  },
  {
   "cell_type": "code",
   "execution_count": null,
   "metadata": {},
   "outputs": [],
   "source": [
    "t9a = Forall(n,Divides(two, Mult(two, n)),domain=NaturalsPos)"
   ]
  },
  {
   "cell_type": "code",
   "execution_count": null,
   "metadata": {},
   "outputs": [],
   "source": [
    "t9b = Forall(b, InSet(Exp(b, two), NaturalsPos), domain=NaturalsPos)"
   ]
  },
  {
   "cell_type": "code",
   "execution_count": null,
   "metadata": {},
   "outputs": [],
   "source": [
    "t10 = Forall(a, Implies(Not(Divides(two, a)), Not(Divides(two, Exp(a, two)))), domain=NaturalsPos)"
   ]
  },
  {
   "cell_type": "code",
   "execution_count": null,
   "metadata": {},
   "outputs": [],
   "source": [
    "t11 = Forall(a, Implies(Divides(num(2), a), Divides(num(4), Exp(a, num(2)) )), domain=NaturalsPos)"
   ]
  },
  {
   "cell_type": "code",
   "execution_count": null,
   "metadata": {},
   "outputs": [],
   "source": [
    "t12 = Forall([n,p], Implies(Divides(Mult(num(2), n), Mult(num(2), p)), Divides(n, p)), domain=NaturalsPos)"
   ]
  },
  {
   "cell_type": "code",
   "execution_count": null,
   "metadata": {},
   "outputs": [],
   "source": [
    "Rxz = Function(R, (x, z))\n",
    "Ryz = Function(R, (y, z))\n",
    "KapurTheorem = Forall([P, R], Implies(And(Exists(x, Px), Forall(y,Exists(z, Ryz),conditions=[Py])), Exists([x, z], Rxz)))"
   ]
  },
  {
   "cell_type": "code",
   "execution_count": null,
   "metadata": {},
   "outputs": [],
   "source": [
    "skolemElim = Forall((P, Q, alpha), Implies(And(Exists(y, Py, conditions=[Qy]), Forall(x, alpha, conditions=[Px, Qx])), alpha))"
   ]
  },
  {
   "cell_type": "code",
   "execution_count": null,
   "metadata": {},
   "outputs": [],
   "source": [
    "Q1 = Variable('Q1')\n",
    "Q2 = Variable('Q2')\n",
    "x1 = Variable('x1')\n",
    "x2 = Variable('x2')\n",
    "y1 = Variable('y1')\n",
    "y2 = Variable('y2')\n",
    "Px1x2 = Function(P, (x1, x2))\n",
    "Py1y2 = Function(P, (y1, y2))\n",
    "Q1x1 = Function(Q1, x1)\n",
    "Q2x2 = Function(Q2, x2)\n",
    "Q1y1 = Function(Q1, y1)\n",
    "Q2y2 = Function(Q2, y2)\n",
    "skolemElim02 = Forall((P, Q1, Q2, alpha), Implies(And(Exists((y1, y2), Py1y2, conditions=[Q1y1, Q2y2]), \n",
    "                                                      Forall((x1, x2), alpha, conditions=[Px1x2, Q1x1, Q2x2])), alpha))"
   ]
  },
  {
   "cell_type": "code",
   "execution_count": null,
   "metadata": {},
   "outputs": [],
   "source": [
    "existsByExample = Forall([P,y], Implies(Py, Exists(x, Px)))"
   ]
  },
  {
   "cell_type": "markdown",
   "metadata": {},
   "source": [
    "<p style=\"font-size:14pt\">The following theorems added starting Mon 11/25/2019 by wdc in preparation for another alternative attempt at proving the irrationality of $\\sqrt{2}$.</p>"
   ]
  },
  {
   "cell_type": "code",
   "execution_count": null,
   "metadata": {},
   "outputs": [],
   "source": [
    "rationalsPosDefExtension = Forall(x, Exists([u, v], Equals(Mult(x, u), v), domain=NaturalsPos), domain=RationalsPos)"
   ]
  },
  {
   "cell_type": "code",
   "execution_count": null,
   "metadata": {},
   "outputs": [],
   "source": [
    "rationalsPosDefExtensionReduced = Forall(\n",
    "           [x, y],\n",
    "           Exists([u, v],\n",
    "                  And(Equals(Mult(GCD(x, y), u), x),\n",
    "                      Equals(Mult(GCD(x, y), v), y),\n",
    "                      Equals(GCD(u, v), one)), domain=NaturalsPos),\n",
    "           domain=RationalsPos)"
   ]
  },
  {
   "cell_type": "code",
   "execution_count": null,
   "metadata": {},
   "outputs": [],
   "source": [
    "rationalsPosDefReduced = Forall(\n",
    "           x,\n",
    "           Exists([u, v],\n",
    "                  And(Equals(Mult(x, u), v),\n",
    "                      Equals(GCD(u, v), one)), domain=NaturalsPos),\n",
    "           domain=RationalsPos)"
   ]
  },
  {
   "cell_type": "code",
   "execution_count": null,
   "metadata": {},
   "outputs": [],
   "source": [
    "squaresEqual = Forall(\n",
    "        [u, v],\n",
    "        Implies(Equals(u, v), Equals(Mult(u, u), Mult(v, v))),\n",
    "        domain = RationalsPos)"
   ]
  },
  {
   "cell_type": "code",
   "execution_count": null,
   "metadata": {},
   "outputs": [],
   "source": []
  },
  {
   "cell_type": "code",
   "execution_count": null,
   "metadata": {},
   "outputs": [],
   "source": [
    "%end theorems"
   ]
  }
 ],
 "metadata": {
  "kernelspec": {
   "display_name": "Python 3",
   "language": "python",
   "name": "python3"
  }
 },
 "nbformat": 4,
 "nbformat_minor": 0
}
