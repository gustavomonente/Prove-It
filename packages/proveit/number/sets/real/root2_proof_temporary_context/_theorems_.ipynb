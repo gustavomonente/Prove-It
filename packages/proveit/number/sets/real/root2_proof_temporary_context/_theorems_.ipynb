{
 "cells": [
  {
   "cell_type": "markdown",
   "metadata": {},
   "source": [
    "Theorems for context <a class=\"ProveItLink\" href=\"_context_.ipynb\">proveit.number.sets.real.root2_proof_temporary_context</a>\n",
    "========"
   ]
  },
  {
   "cell_type": "code",
   "execution_count": 1,
   "metadata": {},
   "outputs": [],
   "source": [
    "import proveit\n",
    "# Automation is not needed when building theorem expressions:\n",
    "proveit.defaults.automation = False # This will speed things up.\n",
    "# the context is in the current directory:\n",
    "context = proveit.Context('.') # adds context root to sys.path if necessary\n",
    "from proveit import Function, Variable\n",
    "from proveit.logic import InSet\n",
    "from proveit._common_ import a, b, n, p, q, u, v, x, y, z, G\n",
    "from proveit._common_ import P, Q, R, aPrime, bPrime, Px, Py, Qx, Qy, alpha\n",
    "from proveit.number import one, two, four, sqrt, Reals, NaturalsPos, num\n",
    "from proveit.logic import And, Exists, Equals, Forall, Implies, InSet, Not\n",
    "from proveit.number import frac, Mult, Exp, Greater, GCD, Divides\n",
    "from proveit.number.sets.rational._common_ import Rationals, RationalsPos"
   ]
  },
  {
   "cell_type": "code",
   "execution_count": 2,
   "metadata": {},
   "outputs": [
    {
     "name": "stdout",
     "output_type": "stream",
     "text": [
      "Defining theorems for context 'proveit.number.sets.real.root2_proof_temporary_context'\n",
      "Subsequent end-of-cell assignments will define theorems\n",
      "'%end theorems' will finalize the definitions\n"
     ]
    }
   ],
   "source": [
    "%begin theorems"
   ]
  },
  {
   "cell_type": "code",
   "execution_count": 3,
   "metadata": {},
   "outputs": [],
   "source": [
    "# The following is already available in proveit.number.numeral.deci._theorems\n",
    "# as posnat2, so get it from there instead when needed\n",
    "# t1 = InSet(two,NaturalsPos)"
   ]
  },
  {
   "cell_type": "code",
   "execution_count": 4,
   "metadata": {},
   "outputs": [],
   "source": [
    "# The following is already available in proveit.number.numeral.deci._theorems\n",
    "# as Mult_2_2, so get it from there instead when needed\n",
    "# t2 = Equals(Mult(two, two), four)"
   ]
  },
  {
   "cell_type": "code",
   "execution_count": 5,
   "metadata": {},
   "outputs": [],
   "source": [
    "# The following is already available in proveit.number.numeral.deci._theorems\n",
    "# as as a version of 1 < 2 called less_1_2, so get it from there instead when needed\n",
    "# t3 = Greater(two, one)"
   ]
  },
  {
   "cell_type": "code",
   "execution_count": 6,
   "metadata": {},
   "outputs": [
    {
     "data": {
      "text/html": [
       "<strong id=\"t4\"><a class=\"ProveItLink\" href=\"_proofs_/t4.ipynb\">t4</a>:</strong> <a class=\"ProveItLink\" href=\"__pv_it/14e2c5773b32706140a94cfdcb05274942c4241a0/expr.ipynb\"><img src=\"data:image/png;base64,iVBORw0KGgoAAAANSUhEUgAAATUAAAAbBAMAAADv4AXFAAAAMFBMVEX///8QEBCIiIhmZma6urrM\n",
       "zMxUVFQiIiJERETc3Nzu7u6qqqp2dnaYmJgyMjIAAAAcRTyBAAAAAXRSTlMAQObYZgAABLRJREFU\n",
       "WMPVV21oHEUYfnO397F7uxd/1F9K2TSCIi09WsVgG91aqT9s8JqCCLbmEOMHaA1UiV+UoxS8RihL\n",
       "C1ojeotIhYq9QDgRSs1BYqFGZf1EsNKtgf6ocAaSQpv6NfPuzezMZXfv/KfPj+dud+Z95p133ndm\n",
       "FuB/jpTFqBMScQpdIE3JjBFahYc5Uah/IxbDeiqlGAVE1beOGClLaUeM0Cpc5oRzi4vBVzEKiCdi\n",
       "R0LfdDdaqB1JkxHivbi+GSdSwQ+619k3eKUlhH1/iTWoOowQW0I77a4coSFJFCIVfC+nQtNxoHLJ\n",
       "CnzrbwnNyyEPwywnCm0srM+Jp2zt0gSJy2KkAuLDsGbtyZfh1NMO7GtebDbJglbBFzpOf8uxvt3E\n",
       "CbMhdOaH7iT+PUbC82qkAmI+dCW3F0EbvczjlqFDEKG8EzUcT5EVRiEz/2l8nGZFwiWc/YAU14DQ\n",
       "eFhUCAl6yxg25AlN7OC+JWmsiJDxxcmTb8WGzbiB0epKfOR2/zevkvRIWGRR+8RWUQF4CbYbg3eM\n",
       "0C1Zh/mWoP2p0NVK5bUQjxpBkXmMWjNXzr69bpP/wBL1zRQZVHHnAB4SCtUoCAos6DufOdpvSsZq\n",
       "aS/hId1ivik0zlRoNIi9iKDesmVGOCcX9OxBqNm41dmtt/flSFqkzDMAI0X0ZhyxJCggNpBJV0zt\n",
       "mmSsmKcJD+dc5lvqCvhC20HzYn3LlxjdT/MU4NGMB9ViUPIojL6RMarizpz7LVBQaMMYpKYOgHpF\n",
       "Mk61fCMSqh/IZfCFMjQUwlazfw76SqJvmUKLEmvJn3UATs2CC9i0q0lAZ5bGNZ06B1CTTo1Ta7hC\n",
       "H+mXMEHTlsFYlIwB1/RB3eYVQ32jQrqb4VIfzQ7Cp7qTdGY379/MijdfaNHkRovOHGAGYB82Hefr\n",
       "7tdCqS1u6rM2U1DfX8agQ24R0p5kDGWshXRgxuKmevwgNt6YdOCMWdDlfCsxqpXBoGl8D8CfGm3q\n",
       "4We8W6Z7CAneCHqTbPqwAwXtKsC3fmH0uo5oDEN0eSeGgrWj+YhCh8lZYwwO99PUI6jXj8q+pcuM\n",
       "ktf88/JmyK3o8jk5R/fe3SDXqeIJCnCvjQdlTwNmnIZkrOPeG4zI6xSmyTIZ29we2z9b6/rHeyTf\n",
       "cLdBUpfgvB9y3fsB2/gpYNxlaws0b78Rs80RFKBaMBr+Wn1tFCVj+I6cWYNtOyoK9RL/J2+FXkdD\n",
       "f+rQmJV8w1kgwfMOnbkyBupzfjaeOMTCZPz1O74Sz4VRUQHSKxj0B8hu+HObMVxoXhevLWUmZNAe\n",
       "j8M2SL1UqRwkvr1LU7YYdF3DaWS+/Zqx8/Xx1sLN5fA6+KvQaEsKqT+mI4116xPhfd6UhG6ErSko\n",
       "+XFThmWJrZzya53Io00/99mmBmgrYW1oDBdjrjtfvrOwnj/UyCiBELmRvFCHz+nf7wGTSsAuTrml\n",
       "mHP3WGXBAiP0Lo3GMFOIuVAMHLmDP/xIV7Mk3PPXu5AlGaMcsCDd9oExxSj0dJPvvcXQTxQ0ztpd\n",
       "fgO8GCZ0G8m3kKufx6gzzoe+7dKYlVUjUmg1pjl1QtQtdfrf+NbFdVc4si1GHT97nBiFbnF3jNB/\n",
       "Bf8A/qlcpFeS/a4AAAAASUVORK5CYII=\n",
       "\" style=\"display:inline;vertical-align:middle;\" /></a><br>"
      ],
      "text/plain": [
       "t4: forall_{n in NaturalsPos} ((sqrt(n) in Rationals) => (sqrt(n) in RationalsPos))"
      ]
     },
     "execution_count": 6,
     "metadata": {},
     "output_type": "execute_result"
    }
   ],
   "source": [
    "# Automated via rationalsPosInRationals\n",
    "t4 = Forall(n, Implies(InSet(sqrt(n),Rationals), InSet(sqrt(n), RationalsPos)), domain = NaturalsPos)"
   ]
  },
  {
   "cell_type": "code",
   "execution_count": 7,
   "metadata": {},
   "outputs": [
    {
     "data": {
      "text/html": [
       "<strong id=\"t5\"><a class=\"ProveItLink\" href=\"_proofs_/t5.ipynb\">t5</a>:</strong> <a class=\"ProveItLink\" href=\"__pv_it/234b605b2b5c4ff9539b611011bbe0cebb3a621e0/expr.ipynb\"><img src=\"data:image/png;base64,iVBORw0KGgoAAAANSUhEUgAAAQ4AAAAmBAMAAADHF2h5AAAAMFBMVEX///8QEBCIiIhmZma6urrM\n",
       "zMxUVFQiIiJERETc3Nzu7u6qqqp2dnaYmJgyMjIAAAAcRTyBAAAAAXRSTlMAQObYZgAABFZJREFU\n",
       "WMO9mH9oG2UYx59LcmlzucvaP5xYLdzWrox1amygBa2Sodv+2B+eg64MhYUyC8Isg6KtWqTUfzLH\n",
       "5imonVB60rGNquRAAitsNFKHUBEPURjOH4HJBhO2UvvH0q7q++OSXJL3zaUNvfeP3PHc8773yfO+\n",
       "7/N83wNwbVJzcwbqaL9XeXaB/D7V3FLDOFJTPRTgyzLNod4u9PKA/bAmjpN1cewz2GY9soQuHV5x\n",
       "SA+xza3gH0fXiOURRzDBNPtXoUHF09PiEccxnWkWxiGl4ZtBjzhusc2pDMxTTsMTjlCOw2HCUBiH\n",
       "KqJ6wuFn71poVJU3ZXyjNG2E4xxq+mY4BJUz6MCuT9pJwFYoR9Yt5RGO7sHBwZbNcExrbh6PUY7v\n",
       "8eVOLfPy2mY4/nT1GKIckzg241vG0ePq8STliKB9I5tbxjHq6jGvEw5lcXb2U9gyjn/cE51J98v9\n",
       "ZHKs8mmmJg62HpAd98tkT/ywp53LkbIox6sApyqfRks5vhsZGclV9XLmDEffdVpbg7i2yndJK+u0\n",
       "TaUcz4OUdeXgxIN6Be5yOULrtLYGs9x4bMtQjgbwWQ7zlye6dVcOcfhb2JEoeC3Y5v7euG97CYe4\n",
       "hrmWQCifwf9wWyIcUcohWw35F16JWaEOkG/AQmw4ZvI4vlh4Fi7Lht8oeP1tdw6PL8LTcqwn9kwJ\n",
       "B6qt03F+PGyOUPaIbbk+Nwu+KZA69WrxUE5/ZsBVNSoXo5azO4d/8uOlWz4vKZWmM3t9JCoqL60v\n",
       "p46jn5mdhwJ41L45ANXicEhdQxpaT6il0x8VOcTlDoN0Dr98VC3lkJZpbT1bJfPb+wW+Ru+R3hBz\n",
       "EWz9FVlVlcNxUUNqgay4tPzVKwUO39u+KOkc1hZ/KeWAB6S0Kw/c8wfZOP6o2DSDrXswR6aC4zba\n",
       "ty0Qg36QyJM0ZBYKHKiGZ2cohyxHSzm2k9raucLneDFucygoswumL9GfTCbV9Bzl0Fj641Ekr8XR\n",
       "ZHICcUzh1U29hLifdg5rIQs5i4630AlRlipef+nhfCU0HPojpTeqQXKwQev0cZOtg6QcnJmFBI1H\n",
       "4HBxxRuCGaTxgP1leuMbKpYZ6eOm0yPPIejHNBn/O183yLt5euwRccWCa/juZ4DfbOOk0WBcB9JZ\n",
       "iYNSlijmifwUGAVgzSlg8xyBgR8BTpMyPPZBgsdxoLPNgkYUrcC7cQjaxpdM8USGdj74F0CCUT3k\n",
       "e8MVGIFVZ+Yvaqw/UCzQFAO8/4KLPt2N1oez0VmknSt1aIKzPGV71HCulKM3fzM5NadvRCeHq+pW\n",
       "hXc4jgy0mUUhXeDw/5vfIdLeLmMjHEp18bLGK/d3JBIJwfTmHPUET4YZVJvs8Og8J3AE+3MgkSTb\n",
       "6hGHwlEeNyGwVvw64sH3jwm2eR0f+QE+1L3iuMiemBX4HKUW6Z0NfIe5n1TrOWm/xTS/Du/h9GLR\n",
       "jLRay0h9fXo9AfmYaZ3ZixHOU48+7X9eSDPjBUVDowAAAABJRU5ErkJggg==\n",
       "\" style=\"display:inline;vertical-align:middle;\" /></a><br>"
      ],
      "text/plain": [
       "t5: forall_{q in RationalsPos} [exists_{a in NaturalsPos, b in NaturalsPos} (q = (a / b))]"
      ]
     },
     "execution_count": 7,
     "metadata": {},
     "output_type": "execute_result"
    }
   ],
   "source": [
    "t5 = Forall(q, Exists((a,b), Equals(q, frac(a, b)), domain = NaturalsPos), domain = RationalsPos)"
   ]
  },
  {
   "cell_type": "code",
   "execution_count": 8,
   "metadata": {},
   "outputs": [
    {
     "data": {
      "text/html": [
       "<strong id=\"t6\"><a class=\"ProveItLink\" href=\"_proofs_/t6.ipynb\">t6</a>:</strong> <a class=\"ProveItLink\" href=\"__pv_it/4a508bb8e162a52824af522b329d0d793a4ea0190/expr.ipynb\"><img src=\"data:image/png;base64,iVBORw0KGgoAAAANSUhEUgAAAh0AAAAzBAMAAADBd6e7AAAAMFBMVEX///8QEBCIiIhmZma6urrM\n",
       "zMxUVFQiIiJERETc3Nzu7u6qqqp2dnaYmJgyMjIAAAAcRTyBAAAAAXRSTlMAQObYZgAACFVJREFU\n",
       "aN7tW2+ME0UUf9d2r+1225qAiCCxHoJ+IKFyikZAqkb8pJx+gBBN7rgoH1S86gX5Z/DADxwQTdVE\n",
       "AYNZQgIEoy2Si5zRXMMhJvyRBjSiUbjklARMkPAnkR7HOTNvZrvdnfb2uNvsRZ2kne3s29/O/ObN\n",
       "m/febgH+LyNU7hy4PgIoWgrrg1WlAlcBdro2Eo6sDQzcMgyUiVu2jkBfjvK+5KtK+YuEkx63+ODI\n",
       "6paPh8PHrSPRFV8T1lOri9Ukyddp1xREICue87EXq8ggHWnMkK9Q3i0+BLLnfKhjsd6eqi53yCw8\n",
       "8kUge85HKIn124PILTMrkwtl7yjho0vH5VKsLhZGgxd0bcFwZM/5aOXdQTX5oPsu3c7F7BkTIIO0\n",
       "XXOLD47sNR9RPsAzbLyB2+Evu8yjmdhFC30ulNZRwUewDesVaFQL8JDd1E0Cf5v4cUZ3iw9E9pqP\n",
       "RtxWlCusmqvD6zJPLJgQP7IJt/hAZK/5uI+PGbsxHtSrdk+sDbIN4kfMNRcVkb3mYxwfM3NS1esQ\n",
       "uWifuDx0lbxZ1wwqInvMh9LPl02B8dEHtT2dNj5y8GokI/aa/qHAz2+QH0t39P5RwIeY7uk43nXw\n",
       "U5PNwwglom9oVoVyVubq8uPKqjpcPsJbSBmGd8pvv5aH3XWLmm1+u9o85cO7jV/rbfNasMNu4/UY\n",
       "U9sY6JT3odOMTPhgduS3m+TDv2TJksU3vwfW8I10vOMrjlsbdltW4NokqBxV4dq3+zZ2XJuRIorm\n",
       "45yPI7Q+P4z1UuE+jjY5dEvVy87dBGEGxE3PWQTiOYjxcxpPJUAvO1bte1NkAhjNDJnwsZkqXZs3\n",
       "fDSiO6FcGuoVbIzMwU1abagOJ4WzJ7jrw+MDVrCdh2jYdMCETPiIEXXXct7w0YX3jfQNVaNAWY+r\n",
       "NGi9+XcAK/nhJ7wOFPF4uz1cKJaaGTLhI3p4z56PwBs+uPZHrzq+Is7XQO1jqCi2nvdCOC1MLa+1\n",
       "NB7HUlI+eDNDpvvL3+3tb3rEB99nh+BlxfnK/hxw1JPp1766/WTUdVNIKDylD3xJS6Qca57M9FBL\n",
       "SvngzQyZ8vEiwAb7jTV5f/LlfGjLly9/KzOYYEXg49hnzZr90C6wkpTsSNz6HcF9AN6h0m3hyxBe\n",
       "De+SUDhUhFDBEilnz6uM8Ci79nsG3VviA5sRmfLxuMzygh+rpy2nkk71AwUDFyoBm50kf9H5Ds0X\n",
       "Q5pbh9WYU+qjCZ2XaSjcA8GcJVIm55nBjqSl+sGbGTLlIwg+s0+zcHbKN87ottAxpfUg3NVUjY9A\n",
       "XibYbZywALPSwhEwaokP0GLt8wAvKBNEDy6agFpme8Yy70UpMmppKJyHmpQlUn6ERka0axelfCgm\n",
       "ZMqHVggavuDX9YVI22F42Oh2jK68T7vnwH5N9+vV+KCZULvgn3jCDizhw1HCBPkI6qA0cT5IEORL\n",
       "M5eOhsIpxkdZpNwLgb4h8BHuWSDOn+rcA5ETfshr9Q/Wz2JzRgYb3bRVh28SSQ2661vrcxX4yOoy\n",
       "wWvshAS46nrh9qNJwgcq9z7hia1mObZQkmkAhsJkvZRHyv38BoF0yX6cLfGBzYjM4pcNL5CvHVP/\n",
       "gACd1MhzixJ5Yxob614iBoaUjo73tYr2g178K0gElUtTdXJCAoz2FKnUnO8v3J6e45xQe0pGTpxS\n",
       "Ep5GMBQm9rQ8Ur5CzUnJcFr1w2pPYR9hRl1G1mCMWZ2Gwz+Wun2PPhkjnA7ts+cr8cEu3ggSQd8q\n",
       "X5KckADjfov+h8+5/4GZEqUN1wyzT2TzaNFhJqgPYChMTZ6IlLO0S0v50wy/bc/zFUvNNcL/gDhx\n",
       "bfxJJQ07sNsaReTdXgenVTa0Dsh32/mIkf32NZ1dTLTULkh62EPWjQQY/TF0haJXnPsfDLeWXuej\n",
       "HtmT5DNvGnFKtWMneChM9V9EysFVVPWn4X4Rs6ZA/ItvzDGa40nBR5QQXZPzNcHC9vb2RKQhXEgb\n",
       "3R4LM5UV7e3ryDC3BeX6wS8mYHbBmpSfnpEA406IfEQ4H+ratIQCGp4a6Zwsm8wAO24w/PXyp1kr\n",
       "TcdfmY53ySneZUI28h/ZTOgXvRanEZ4gzCvYXoSJ0ITTHniW98HGB7uY1HbBuF5DzaoE2JQXM9Jk\n",
       "EEvKOtxrSuc0WhLKJJ5TQC3Xr5MV3MIDcj4s8Ryf4kzjU6DRQURTEOUo4Y2wKtoG39LjH4BaTHl+\n",
       "jF1MilVwsx7UTzGDaQEu136Ay6VgXVL6TKmdLqvEBuLkhsppDJUcRNVEnyrPRYtmhmzwEWj+giyl\n",
       "TXRF/s4nmpydCAuOEnwiGViTwlmW8YEX2wWfySmvIAMWYGP35H1ZUwrW7YWGpyK1I3Ykcz5o3olZ\n",
       "lhGWshdROU0y9hiyJV/oI8u8LF+C1b3ELDjKn1oFc5WAhUHjTsLcUrAuCXjSptROy1DyheXlZ6ja\n",
       "3OIgf9o5vHxyZLDIN8odMfHY7WzdLLsQDU+N1I7zzOJQy3gHfBSGx0d00OcNPBHUiIqk3tCzdgpp\n",
       "eCpSO+FLbtGByKPqeRR96yFuX1Y0PA1bHlCMfBkVz6OE4eB2hATrWXveRISnzPil3eIDkb3mYz46\n",
       "ZIErwv2Yn5O4HwEjvxpPuMUHInv+vgP3HPDti3hB9hit3xT/Ttfd4gORPX8fpmyDiafUSXYZEZ6a\n",
       "7I0LBZE9f1/qDm5QmdmoLYQkDvvSUnjyr39fqvx9OnXGMYmICE8rxjcjUTiy53yIEfY6kt7rmvng\n",
       "yJ7zEeYg7zU4EP4PvI8LX/L168SxqHVtuQhk7/nw80htpgPZU67tLgJZ8f7/Hs18hgb3tEb7/z1G\n",
       "5v9AfnRR4f5BJXe6Zk05Mv0/0D8tpoX567t00AAAAABJRU5ErkJggg==\n",
       "\" style=\"display:inline;vertical-align:middle;\" /></a><br>"
      ],
      "text/plain": [
       "t6: forall_{a in NaturalsPos, b in NaturalsPos} [exists_{a' in NaturalsPos, b' in NaturalsPos} (((a / b) = (a' / b')) and (gcd(a', b') = 1))]"
      ]
     },
     "execution_count": 8,
     "metadata": {},
     "output_type": "execute_result"
    }
   ],
   "source": [
    "t6 = Forall((a,b), Exists((aPrime,bPrime),And(Equals(frac(a,b),frac(aPrime,bPrime)),Equals(GCD(aPrime,bPrime), one)), domain = NaturalsPos), domain = NaturalsPos)"
   ]
  },
  {
   "cell_type": "code",
   "execution_count": 9,
   "metadata": {},
   "outputs": [
    {
     "data": {
      "text/html": [
       "<strong id=\"t7\"><a class=\"ProveItLink\" href=\"_proofs_/t7.ipynb\">t7</a>:</strong> <a class=\"ProveItLink\" href=\"__pv_it/50955043be5846e82c16dbb7c6c15fef2ba067ce0/expr.ipynb\"><img src=\"data:image/png;base64,iVBORw0KGgoAAAANSUhEUgAAAoIAAAAaBAMAAADRdCAhAAAAMFBMVEX///8QEBCIiIhmZma6urrM\n",
       "zMxUVFQiIiJERETc3Nzu7u6qqqp2dnaYmJgyMjIAAAAcRTyBAAAAAXRSTlMAQObYZgAAB7tJREFU\n",
       "aN7tWX2IVFUUP+7M7My8eW8UWiuVaNwtDQoadkHDz6ko/ykdJPygYKdNKU1rSNRcpTaFmFWkIWEV\n",
       "QXyyoGK0M1aLrZQOu9XWZjBqZUbq1KaQgS2lkLMl3fPuu+/d++a+2W22jYQu3Jk37553zu/97j3n\n",
       "3nMGoPL2BPzzrXr9Brg5mnf9JoDIiFT4EqOAy/+vM+HTKxVoA3h0RKbDqHlP6f1g3nGjS/p4KF05\n",
       "g3vklsvaE2BxCtSYGx5RwBjv4joyqBKlBbw+VwmD9aQrLeK9JbcAHOR+K68liWdKuYIVLgwOjQit\n",
       "Oi3zkUBq76CLAsZgCR5O4OBt5jiqZh0ZhGaAz1HocgUEBou4Dp1gBwF+EhZqlEAplDx8mKzfDhcG\n",
       "h0aEVsPyaQlNlNoDERavwGKQ4QlyQkyg3xxH1awbDNYB7MJnWipgUCXcwGlneC2CFuVvjM2Sj27n\n",
       "7K56kTCoRuQMDo3otGi5w/bP/Z8UJfawCbB4BRaDDE84agsxgUE23s11ZHAvjWZqtgIGx+BDzo1T\n",
       "TYJfWBwLMFjuK3n4ArmtjLN/t3IMDo1og2hZ6bXnQiuK9gIMjQCLV2AxyPAsabaFTAFvkY3v4zoy\n",
       "6M+C1nfo0M5KwuBe8qLBpNO/oiAq6zXuxmQMwo9c/OQYHBIRWhUtT+0TGOTs+dhi3ummwGKQ4VlW\n",
       "awkxATXJxlE168igh+j/PZXaVAmDJ0mvwgUfqr+XqOmujcOO7sYsRgYIzqqfSKUu1c40Hb6UwR6J\n",
       "j+FePBQitIr9sdaFU8yTxpkZPIO8PeaLdW4KkMEdPZN1hkcp+C0hJhBuqsvScVTNOjJYRRbmcs6H\n",
       "OHeUg8/Zl3PQRzACfQp7ycrLBgreCfCGDtvJrQfT4QEK54aeSYOGcVe9YrSozeB5vPKsN9pvHIND\n",
       "IUKr2HPPZlW2xI6t4Bg07MF0Q/GrJpvbOVWCAnTSCfALw0MCCA0hvEDmsnKdjqNq1tto4IeHpXuX\n",
       "h37Ndwxxk5uiUQBCRdwuNkF1dl8ead1IeLvDWN1AByMQSkrX4BF+D/3ZZrAsItMq6cHsJdAG2M35\n",
       "K20GBXvHaEjdyCYr51BACCLAH7Dw+CFYMK1YAsd1+JWOo2rWkUHfNXyiij9rLp4Vq7rVwsv8wbfm\n",
       "I5icEBi8hLsJ8YAxLdCoexD4XJ0QCTXk4SL4aXD3FCCTA9+AlMFG/k5HjcVgWUTMagwUskOqRYvB\n",
       "rTaDgj3leyPQ1bAYmHAoIAQR4C9ZeE4ZTiAKzAHlDzqOqllHBoNX8Vht5QHKBw35UEsfzLDwhnEC\n",
       "3+qZDe+rukcXGFxjvktjHqYijQC3g3LVgEp+ZeJsZ1mQHQ6DwVVpi8GyiGwG0YMC42ReLNhr+wxc\n",
       "GKQKCEEE+DULD9mJFzErTKAfvINyBvGNg4VFzNg3XYcgdMoDObVhesNM4zhH3kvbtluHDyNRFXoa\n",
       "1jRYx4x+058upGELLjScptCA4S7k13HzOJjHCfYm7TiYsBmcZ6xSevtK2vbisohsL8YdMhOV7SSG\n",
       "PZhDFZsn6Y0cg4ICNWYCp3hCUfMszQnAn+hWxjiqZp2tQWhdRj7ap1wEr7GzPrk0krNmvLF2JQlL\n",
       "pHV2vqmKcfB1M9oex/MmYQqODkJ1oQtDdiYLL9A0c2yMxEQzspeswfPcSbzA58WISJt9arkMEbcR\n",
       "kAV+UpedZnh780HcSZBBQQFhkAKneJA9ZJEXgKsYKqU7iY/sMPAuoVNZ6ytC2JiDeN9XNt6peh3N\n",
       "UzvVt58SGXzODJOZdHURPAloj2+GM4kc7vmBiLZOhQx5sDofICKenJPB+/HNZ3FRUOcZRETagvhi\n",
       "GSLuRDG2xTfeeaKuQgY5ewpLD62jU9yhgBBEgVM8S0xPFgRWEzej46iadbYX42YJnqgvCe0Ur4rP\n",
       "mng3w3nFYK0Tcj0ig5PZmm46QT5PnIvA/tqlTTFc60rT3W13gZ/gUOq/wHmNOwicdmc/mdOL9o3l\n",
       "Qm0GEe2eQjImCSLOkxY8VJd2ZHWep2/MFuxVs8t5fO7JKyAEUeAUDzok1IIo0H4fmrhovgrryKCG\n",
       "gVjTMUWrSsDiVCoVCcWD+aSFtwam+V5OpTYTBvf4RQaNfM3IfALCgdlOn46yiwPyCgt35kgLDCIi\n",
       "aILDMkRcUtbrduTm7AWhTFbXK2Z1Bh7jlw8kAsb4Aa6znMRomXTgW72azjg8EjF1ABRhEiToGvQu\n",
       "pC7A74h44o9DJiZP4S1f6paXJiJl64Pj4RmQIOIKA/1uDA63stAvrSxwQoKAtLIQZg+NSTc+Diry\n",
       "o8VAM189uBWatRb4GK+/BPjOccLNGYk7OZFtEQdYPqEw5fJqk2t1yzR+3ddcgogrFwTSyqBb+VBq\n",
       "r9VFQUl1yxYSBaTVrQwL4N6md0j82IbxguTPZvneNwkWnSCayLbufSVGFwRX/B5nVCG9q+uy8lKm\n",
       "VlIfcX+lUgZDP9TpJYiEAumRGy7/UgSGWWGlCiwGW0sqrKJAq0W9aQIZ/NqRspOoI5Qr6dc9JA5K\n",
       "2vMwzCr/Wel7auWr/HQ/dSIaVpX/7N+q8lfF3fCIAsb4Wa4bDK4tX37pKjvaMRr/+/j55Pc/3giD\n",
       "Wq68SL7saCg6mgzOXXkzMLhrZBreGw0Gb6L/i9cBzID/24jbXyzhrh0UfMMtAAAAAElFTkSuQmCC\n",
       "\" style=\"display:inline;vertical-align:middle;\" /></a><br>"
      ],
      "text/plain": [
       "t7: forall_{a in NaturalsPos, b in NaturalsPos} ((gcd(a, b) = 1) => [forall_{p in NaturalsPos} ((p > 1) => [not]((p | a) and (p | b)))])"
      ]
     },
     "execution_count": 9,
     "metadata": {},
     "output_type": "execute_result"
    }
   ],
   "source": [
    "t7 = Forall((a, b), Implies(Equals(GCD(a, b), one), Forall(p, Implies(Greater(p, one), Not(And(Divides(p, a), Divides(p, b)))), domain=NaturalsPos)), domain=NaturalsPos)"
   ]
  },
  {
   "cell_type": "code",
   "execution_count": 10,
   "metadata": {},
   "outputs": [
    {
     "data": {
      "text/html": [
       "<strong id=\"t8\"><a class=\"ProveItLink\" href=\"_proofs_/t8.ipynb\">t8</a>:</strong> <a class=\"ProveItLink\" href=\"__pv_it/db9002290757941374f068bfac62fa76d3a05c650/expr.ipynb\"><img src=\"data:image/png;base64,iVBORw0KGgoAAAANSUhEUgAAAYYAAAAmBAMAAAAyxSGMAAAAMFBMVEX///8QEBCIiIhmZma6urrM\n",
       "zMxUVFQiIiJERETc3Nzu7u6qqqp2dnaYmJgyMjIAAAAcRTyBAAAAAXRSTlMAQObYZgAABgtJREFU\n",
       "WMO1WH1oHEUUf7mPvbu921yU+lGDeImg/mM5emBDbdMFKf6jbRRJKYo5il8o2GCsH1VsWqFcW4RT\n",
       "wYggWS20ENE7jIGG+nFwSmla5dIqisRyTTWgYhNMizVNG+djZ2f2bmZNstyDvN3c2/fbeTPvzfvN\n",
       "AvgQo8L1/4iehUaIf9hVglbL2+U2C2BTQ2LwDRu6iWuPp1bCNLoEGrMQfmE/6OLa46kKdODrX41Z\n",
       "CJ+wTwiayOAClpqnNljwHL6+aS0NPdGxVm0sv87QlgrrlvC/XFN5TPbYjaBfxFdtiat+HJ5Vx5fX\n",
       "qvat5iuZmrNcE4lVZTvHPMRnSLBziqkwkXqo/veXoScfULw6kkdTR40q2MXJYJ5rIsGiLIbLoFVH\n",
       "8d2kHKYbD0Qymc/DoBlSTHLEjF0A2zjpJ4ZOQRM5LH1sD/yYLeGbcTnMH3gxpUn9lQXfql4eR9NP\n",
       "jeN+YrhW0EROSB871L51m0lWzJSZgymkVks90VYQUVVsJMWMCJbk8C/LCCF2kWuaNb2gZ3Lqnbap\n",
       "JM1INJAYmlTRVd/diws3jbb/tGpjAmZEsCfYei6ZaMxwTTeLChyCxAWlg1ZVDQaP1uXajEd3Gk/R\n",
       "jOLlaceIYN/F//QvI4ZgL9esHNCOfo26pUrH04qnsljjmkQ/hEohtDCvyLHug41gGxEsLqdEcRkx\n",
       "RPq5JnInwA0A2/PKMhQ6SZQ9hdOI5JPLdTP64dGjR5DukO/Hfx7dD7YRwRpjQ0MDyynpZJrrEC5X\n",
       "tCLTFmxXFkT4snDPQjda7K3F5XoM/d1COn6bvLQWFmaYEcNeyuVelXRC+TiEskymuG5DqR4gd7BL\n",
       "2fv1K8I/p1lGVvn+zF2n2u8WVkRGg7kRwz4OsE+S7fJxCNtEoeLo2IeoHCOUpc5j/d15LOdqnP8m\n",
       "es2LWHbZSFG8IDnBlUR71SrYedXTVYNn02DBiGDvAb2qjGFTVRnDYIVr/RLAKVolHvRlXvznyyIn\n",
       "LFOCq0UbGF1fSVNhNJgb5/H8BcSD2JZ1ZuB6J4aEPehw39fQlnXF0FPkGjbkYSe5ydSVDeeys67M\n",
       "OksGEMGIfdxVv0oTrGBnbcFU0GBunMXbesTB/TxTifePwdpEZk2GZGQzHuJH5fVwJGEFrXKmL1OU\n",
       "xjCYNshLlT2pLoZ3jvNOcE5wfYH+uLmoWAdGg7lxFrPNbvbbT6NDED8VxJVrr0MSpaVx4D0Lvkil\n",
       "E+pcAm2ONv5hiOWd/J2qY7CEYBHb+d/tesAJtFdwJW+t4OmmM5UHF55Dgx0jgd2Haf/B236DEB5h\n",
       "/OGtKR5DT/vTqGCQjIy8VRNDIcU1hOeHyaUEAWV/iF2RnIM1XNNP1bgmTf1mxb7EaTAzEthhtLHr\n",
       "OxAPbyYto2vsBx7D7datlFGNJD5+xB1DssQ1wFlCVwZOlp+ExfQHnbGbQIu9z4uuWiXKXjSupMHM\n",
       "SGDxFhBMh3vhII0hgQs5yDzO6ARuBEpldwxNWa4RTyaW6YWFf9QfBwQqpbF2Fpqz51N01Vc7nLtD\n",
       "SYOZkcAaFmYsgSxsyeVyqXhXrIIWJkyfWgF3hV/K5fagGN7HpS804WiVa4E81Le23TalMoQTV8y5\n",
       "W4EnwlQG7nnCmXTBFvLRny2NrgNsTDlPzSFOlqXrEHqwppO3cO19Zk2LDrWyDu+lJeUEeJ00qdGB\n",
       "bcr33A8JPMuGCYYNGdsPO41++Abffw8wUX+SYtqbWBXF83etPIBTWjkRhteJ33Af6EPbPl0PcADd\n",
       "3fsrgP1ruBW6T6I0wUT4NRM0Gf1xkSC5sK2lIP2mqeEIn1GSY6+PV9RYAxtA9eCaanq5A9WDRPYK\n",
       "2kuOseOxtGQI0flE5TvhBTzhAevIqKd1fJFHckZCO+Vm3FjiivbueTizjZ3eb/f+oF0ocu1VeYyE\n",
       "tiqORnhT+kxxVvT6iGcbW319rq1y7SGMhAZaoBHiE/Y6QXtMl01CmyoNicEn7BlBe7YHQkJXNSQE\n",
       "v7DRFNce7YGS0NjKhoTgF1bfwbVHDJSEHi42JAbfsAN5rtWfxigJfaMxqeQbNtbFtXq1CAnVzYaE\n",
       "QGD/A8t+10GdP3tMAAAAAElFTkSuQmCC\n",
       "\" style=\"display:inline;vertical-align:middle;\" /></a><br>"
      ],
      "text/plain": [
       "t8: forall_{a in NaturalsPos, b in NaturalsPos} ((sqrt(2) = (a / b)) => ((2 * b^{2}) = a^{2}))"
      ]
     },
     "execution_count": 10,
     "metadata": {},
     "output_type": "execute_result"
    }
   ],
   "source": [
    "t8 = Forall((a, b), Implies(Equals(sqrt(two), frac(a, b)), Equals(Mult(two, Exp(b, two)), Exp(a, two))), domain=NaturalsPos)"
   ]
  },
  {
   "cell_type": "code",
   "execution_count": 11,
   "metadata": {},
   "outputs": [
    {
     "data": {
      "text/html": [
       "<strong id=\"t9a\"><a class=\"ProveItLink\" href=\"_proofs_/t9a.ipynb\">t9a</a>:</strong> <a class=\"ProveItLink\" href=\"__pv_it/17c71c7cb54c68484a9efc933c4b75c3e38e288b0/expr.ipynb\"><img src=\"data:image/png;base64,iVBORw0KGgoAAAANSUhEUgAAAJoAAAAVBAMAAABMN+opAAAAMFBMVEX///8QEBCIiIhmZma6urrM\n",
       "zMxUVFQiIiJERETc3Nzu7u6qqqp2dnaYmJgyMjIAAAAcRTyBAAAAAXRSTlMAQObYZgAAAldJREFU\n",
       "OMutlD+I01Acx781be6aJu0NuleKqOAQOBCHO+jh4CJYbnCQA4PocFvhRASPQwQhRYRwg38OxIiD\n",
       "x4lakKAOYrDnoqIZXMQ/dNBBpw4Kekv9vbzX1zybBge/8JL3bZpPfr/3e78H/LuO4X+oGPH7puIU\n",
       "PaFR8oAuM58yaevA7QMXB7SBU6QTCYvAK2a+Z9K+wXDwti5oA6fIYEHdB66x4M9nwSwbmo/cFKdJ\n",
       "p+o5DbOKsk+3dhZtwkOuCf03p0mn6hYLcArWy42Nq5mJ0tPyFvSfnCadqjJL/Qvwy3WXUxihnNV4\n",
       "hFucJp3Q4cXVWpXSs2neAU4BrRSaLWeX4+uRkNOkG3zVrRqUtsXK8Bk4yAsynnYuvp4RO0Q6Wica\n",
       "hfYKipR2qUnmEQWNbcn9WFjaxE4nSdvOLpotaNIBDygKw/gBq0ev0cBxyjiakC/e7cziselrfmd6\n",
       "abqdpNWQpInFc1gH9KB3h7Ri96jcWZfWfDyt2uZIpiUb14eZxk5I66IS+cizTA/RaJ0kzux8jS0h\n",
       "KQhWzZEqLAB7h1WInVAuxDM/lFXAQ8Jac1HO4z0bmPcWFBrVvbj8en+T06QTulnHG6sBjRV5hkaF\n",
       "tsvablR8IyYECDsKjeIv9/t9QZNu+PTKB/qtQfOvbLWot3ACcyicdd0LRLvBytJIdlbiRJJO1R22\n",
       "Y+QndmCmAIfHlp//u+sTNMtOpYmuFwdiD6cDvGDTd8BH9Z+tJC21ceSJxJV3sC/CJG2x/Eod+shp\n",
       "maCtp9EmvZTv7KF1G3+S7xp/kr9na+DhD4cgrA8S1votAAAAAElFTkSuQmCC\n",
       "\" style=\"display:inline;vertical-align:middle;\" /></a><br>"
      ],
      "text/plain": [
       "t9a: forall_{n in NaturalsPos} (2 | (2 * n))"
      ]
     },
     "execution_count": 11,
     "metadata": {},
     "output_type": "execute_result"
    }
   ],
   "source": [
    "t9a = Forall(n,Divides(two, Mult(two, n)),domain=NaturalsPos)"
   ]
  },
  {
   "cell_type": "code",
   "execution_count": 12,
   "metadata": {},
   "outputs": [
    {
     "data": {
      "text/html": [
       "<strong id=\"t9b\"><a class=\"ProveItLink\" href=\"_proofs_/t9b.ipynb\">t9b</a>:</strong> <a class=\"ProveItLink\" href=\"__pv_it/2964a6f9e301fa9a7eb50f9912cd6f8badb3b2030/expr.ipynb\"><img src=\"data:image/png;base64,iVBORw0KGgoAAAANSUhEUgAAAJkAAAAcBAMAAACADwDiAAAAMFBMVEX///8QEBCIiIhmZma6urrM\n",
       "zMxUVFQiIiJERETc3Nzu7u6qqqp2dnaYmJgyMjIAAAAcRTyBAAAAAXRSTlMAQObYZgAAAq5JREFU\n",
       "SMetlk1oE0EUx1822d3uR1IPRQVBVwQP4iGQg0VLWZCih4LJxSgeGsReRMGLBKxgoIJbveQi9taV\n",
       "QpEcmmBPomDAW0RYC0JAhfhxSjGW0oO1SvtmN9mZzccyhwy8yezM8Nv33vznbQC427t5G4bW9KLU\n",
       "GAZHNEkvF8WdQTtyaAIn7bLby6ayPWhHAS2W46M127/a3zAafOCCRY32QDZCaTIekpvZr2G0JRte\n",
       "HHIPNTiv/raaoB8b69CEJMB7Npb+ykD7gRZPdi2MOJjRMkit1tHWLwBlE2ARp5VCGO0I2i7aNEwF\n",
       "F6S7ggERP1KYA0hgtHolBKZg7mNo4sbrx95MPZ938yNdtGdBprRx9L9WKj0Lcy1+AF93ByCyt7fp\n",
       "Tlw51fHtaW7VZmjH0f5Y1v1e4TNHin4krp/w3Vf9JEvFl2KOoV3CMGcBFnpVweQat5ab6g5l0JFu\n",
       "rjO0mTTAeVAbEGsNpCVQ429t2PLpwHBvSlky8l6whDdQBsGhWspOmMLBAE1GYUyC+q/znGlha7Rp\n",
       "K/CN7iwjTXeIsxskI29SjlaowVk9dSZ1zvctSeQW2+08L7K+idUMI3OkKQ1yq0la6q9KoK1HoRrM\n",
       "G0b6H6L+HY2wNPhMA4cZEvDCDRTT1kk7RrSuXbtqBGkSpngbnjs91xYkzLpOXXXPFNZQTMI9IZlw\n",
       "60S69ilIE1Bvt2GeTsz5OSCqmaQLH0k3ii8bMeKNZY+m68kAjdyD5dMOnVh56FV08cFh7Ffpwrgr\n",
       "dlyMmNFc1rIsQ0srDvoqMmoZ6xbj9KN835r+vTMYtSMVyfMNprrK2ARniVb9g5LtOuhp4qgJ8Wpw\n",
       "V4aTFvdLuXgLEU9wcOGn981gC0+FjyanA48C5q1fBJwfvi9829a4doWXXNo0k+tjNMR/Al7bB6sm\n",
       "pDMW13pWAAAAAElFTkSuQmCC\n",
       "\" style=\"display:inline;vertical-align:middle;\" /></a><br>"
      ],
      "text/plain": [
       "t9b: forall_{b in NaturalsPos} (b^{2} in NaturalsPos)"
      ]
     },
     "execution_count": 12,
     "metadata": {},
     "output_type": "execute_result"
    }
   ],
   "source": [
    "t9b = Forall(b, InSet(Exp(b, two), NaturalsPos), domain=NaturalsPos)"
   ]
  },
  {
   "cell_type": "code",
   "execution_count": 13,
   "metadata": {},
   "outputs": [
    {
     "data": {
      "text/html": [
       "<strong id=\"t10\"><a class=\"ProveItLink\" href=\"_proofs_/t10.ipynb\">t10</a>:</strong> <a class=\"ProveItLink\" href=\"__pv_it/bf46bae40cbce3c1e468549b2112895b70433cc50/expr.ipynb\"><img src=\"data:image/png;base64,iVBORw0KGgoAAAANSUhEUgAAARcAAAAcBAMAAAC5TeaQAAAAMFBMVEX///8QEBCIiIhmZma6urrM\n",
       "zMxUVFQiIiJERETc3Nzu7u6qqqp2dnaYmJgyMjIAAAAcRTyBAAAAAXRSTlMAQObYZgAABCBJREFU\n",
       "SMfNV01oE0EUfsmmTbK7iT2IB0FM0QreggUtWiUi2pM2B1H8wRRRUIQS/EUtmIuSIsKeaj1IIz0o\n",
       "PTRFBS2KBvViVYyKoqKl/lSoB/GgoLnE93Zmdnd2tzFKQR+8zb7Zfd9+M+9nJgD/TvS25fDfyH3o\n",
       "/guvjTP0dRfOUcgYkOBGsE6Mhq6Z4eLGOQgDKVjHjVCdH4kXpnmw9c/ICBzb7XYB9DK/f1QfyBLU\n",
       "aNkxIIx73B7l6pXzbhynG8B+1GMAmoG/YaQ6QYNva3GJVvByyTmCxmDbSRu10WDqETXnwpHcQE/i\n",
       "ZQHqXkoaNB7Q6OeaFUguU86RKVC74HHKQlUnmHoDY8g4shs8o8sA6jBx/QrQT7+5WmQCIwCxpGMA\n",
       "DaUAgSYb9Q5Xtzxz4chuoVIojeFBeJ1q6jjLKn2kFpkBfCPsnCIagSw0/rTJXODKJWJYxSvjyG47\n",
       "blxHaAVXQm1Csw2nOTY0dLZm/j5Bld5AI16Bxu82mXiKqahhvtLRrAtHdptfrVKuEJGPqM2oP/L5\n",
       "Hp9EsW9X8SyzhBnhCqFG25fMZWmlJz3hCTqDa+LIbixYVB93UTtxmXYD9HrJKPZtHvWM8xkzOkuE\n",
       "utqIY+LFJpgCLDtCcoKxiDj7gYkju7Fl/I6XcdQMJtAa30JwkPnEkksxP1NiBsphqlF1nhlzLcvU\n",
       "kltmFlJumux6BI7sxmL5DS/XKKcwzmEIOiewuT0VnCOROYA6W3h2CUNJEqpSgTBWQsNXpnaDeUcZ\n",
       "FBBp1CdwZDf2KpHJoBbxbb0ctiButpa13Bgs11uXta4Qox98ySwwW2kgB8W0D5m+++Ah88HjZq9M\n",
       "hq9MdGKTgHg5OgTaUwVK0sqcsiLDyZChJeEcohZLcJuSMMsUs/SLKaxHhkecZE553FjO/MRLBxGi\n",
       "htC7Cy+DiyYhRGmnbduSkMnscSSwSYaM7QCLCXUEunFnsROYyQaQE7hP4MhudjWN82qCKzgl9VBD\n",
       "BeL0TEuPPZfJNPPSMyXNjGjPw6VZRI0kYoexCyglpiLcnx0biTl7juNyY/2c+kw772cwK0F51ZCF\n",
       "QUZGJwwHGWLc4aw0NOLVapVQ1Z0tfQvRTDMVGye/DUlND3FcbqxuqawmWQdGagXaN4JdsDmfzye0\n",
       "dLSc5XPhe0rKux24zgIXuYpggt92YKXzPXkzxbVQifV7MVI0Iq8LjWxlYG1Cbjkl70bpQq1ro7Ti\n",
       "KJMpFthGqVYs1kZmPei0urEUxEryaZGCKjXpXhfqtEeIiOHG8ZJ5wY8QMevcGdp5eSXAaUoI3LNc\n",
       "x9F9PocrCZW+Gfnt4crE8ZI5xGcXTsu+QcwZH8jh6Y6dLdx+xfU3x85hkN1YzCkJaCJv6jsDa8mZ\n",
       "+Xfgi9MvJpirE+XqDP1v8sMRfyqVAvxf8gu8WTaL7DLx+wAAAABJRU5ErkJggg==\n",
       "\" style=\"display:inline;vertical-align:middle;\" /></a><br>"
      ],
      "text/plain": [
       "t10: forall_{a in NaturalsPos} ([not](2 | a) => [not](2 | a^{2}))"
      ]
     },
     "execution_count": 13,
     "metadata": {},
     "output_type": "execute_result"
    }
   ],
   "source": [
    "t10 = Forall(a, Implies(Not(Divides(two, a)), Not(Divides(two, Exp(a, two)))), domain=NaturalsPos)"
   ]
  },
  {
   "cell_type": "code",
   "execution_count": 14,
   "metadata": {},
   "outputs": [
    {
     "data": {
      "text/html": [
       "<strong id=\"t11\"><a class=\"ProveItLink\" href=\"_proofs_/t11.ipynb\">t11</a>:</strong> <a class=\"ProveItLink\" href=\"__pv_it/4e984eb8ad7913269c5e349e9c9f187edb0e66f20/expr.ipynb\"><img src=\"data:image/png;base64,iVBORw0KGgoAAAANSUhEUgAAANUAAAAcBAMAAAAEiefMAAAAMFBMVEX///8QEBCIiIhmZma6urrM\n",
       "zMxUVFQiIiJERETc3Nzu7u6qqqp2dnaYmJgyMjIAAAAcRTyBAAAAAXRSTlMAQObYZgAAA69JREFU\n",
       "SMe9ll1IVEEUgI/74+7en61Ayopojex5cR8S22ojoqfoRpFZ0C6SVFQq/Rhi0NJDrPRyIchexFuC\n",
       "DxKuZFRS4II9lCVsRRRRIZU+FKRRUZiwzZmZe+/sdlm3hxzw3NnxzHwz528G4L82pbYOFqo9guZ/\n",
       "nLGnZE1vLP93O8R1F3ZcpS6QKJm1t+D3aeiJeXC6p8Q1gobANYqqfuLf/dbIiAHj+B0vjVWDops7\n",
       "mxtJ1p003SHeeWANnQTw4f5QTODA22KowCwRUhKkSEqzWHDUSbWHnnq3wFLCxFdhYOKxeHTnuEXV\n",
       "oA59oHy3WQNOqqNUtgms57jZGS6u4jdZjFU2yOaQTFlis5SQg+pKGnJLbZYn49EAOrDbwRyvDBZj\n",
       "UcO0AywDaNEtlrTY1ugUrQ3dUzbr4L27ZHYtdolQx/r7u4qGxlNcpRVg2oAWzWLBR1tjH/+qlJ8R\n",
       "WKtzOSKrgItfqdQ5ByfZ3U3cs6SdN5B1ebTKMH3DGGEehhhoqs5YgWjNCv7/nQYXTbYNxOi1uyny\n",
       "589S68+hvzzLYZr8eEfVztL2jWn60e/XgbG26MEZvkJc42IrSBNFWVOYHdSjvgSyrmWpA+4I2vJn\n",
       "lvRYHDKMJa0CtxlyPTEufODKCtPqozEMJIF1CmORuilCc3mzgQkKcXFrAxV0L8SWssZY7lnwmaGa\n",
       "jnGhZH3mDOl+JCsnx6BOiayPbDBHP5gsdBphVYL0o4AVOE7LSJAo3ADGKktCWis8V2DCKpivhvtB\n",
       "fuYmZhDPddG04RAESMxLcyCjI7ZTU39hjVUsP7Hh7Ujkaw1hpTMwYq4Q103ReYiI3nWT4MFwkg80\n",
       "hPJZR3hseDPgQtZvKJ8Y5rHBM5Y7vJw5iOZyehCazaJpxSEMkdyRznhnIUjdrI29yGdV8TrV9WT0\n",
       "MNrwArxMEI2o4C1e/F0svyuR5Q+pbYqQoUwsIi50h72t0MtYCi4ssHBDHszlXO4nsvrWNDQS20/a\n",
       "Gk3m+WjdeJg7gXHYWH1lLR+vtYRqYM1zJaA+lUqFZC2QJQt7hXoYYzUq704BqdXWsO6XCvjrTsH2\n",
       "3hI0KnX/a6OcnQu25ZdVd4bX6zyWY+2NOrKkWVOwvevxHaBgjKoxUDP5TwD0gl8vYDneKbscWWrC\n",
       "FMzSjTc3AlzCUCY1teBtcIzdlfmsTidW+aATy6eZQmgu4i+HFQaEN4CLT1Ed3wBWtasWR99YYv4m\n",
       "h0t+Rw05vSGS817HQrtVMkuOOZRxwxQL2P4AIsv4kzdkA+UAAAAASUVORK5CYII=\n",
       "\" style=\"display:inline;vertical-align:middle;\" /></a><br>"
      ],
      "text/plain": [
       "t11: forall_{a in NaturalsPos} ((2 | a) => (4 | a^{2}))"
      ]
     },
     "execution_count": 14,
     "metadata": {},
     "output_type": "execute_result"
    }
   ],
   "source": [
    "t11 = Forall(a, Implies(Divides(num(2), a), Divides(num(4), Exp(a, num(2)) )), domain=NaturalsPos)"
   ]
  },
  {
   "cell_type": "code",
   "execution_count": 15,
   "metadata": {},
   "outputs": [
    {
     "data": {
      "text/html": [
       "<strong id=\"t12\"><a class=\"ProveItLink\" href=\"_proofs_/t12.ipynb\">t12</a>:</strong> <a class=\"ProveItLink\" href=\"__pv_it/11b5bb86ffa5b0b8b78d5135ab111bc9a0ff19140/expr.ipynb\"><img src=\"data:image/png;base64,iVBORw0KGgoAAAANSUhEUgAAAVAAAAAXBAMAAACv7AqKAAAAMFBMVEX///8QEBCIiIhmZma6urrM\n",
       "zMxUVFQiIiJERETc3Nzu7u6qqqp2dnaYmJgyMjIAAAAcRTyBAAAAAXRSTlMAQObYZgAABElJREFU\n",
       "SMfNV12IG1UU/jbJ7GYmM0kFV8Gn2IXqgw+BPIh1F6eK+FLYdB9cRaGhupSWQhcq/tNGn2bpy1DQ\n",
       "lpXSKYLCinakhFpQDEZpWUVjtdCitqFVHxTsgiv2R1rvnTNz753ZmWoD/hz4ksmec7/77b3nnnsG\n",
       "+AdN8/6rwXHbr2CFHWUwbRGXsJJLyGCFHBwQ8dA+//HdIDqNloBRdxoJ77AbzZXq3xIilTUmlBPx\n",
       "0E/5j58GEVp2Bd6AuZycsB/Nlep/J0Qqa0woJ+Kh+9iX3hpE6FcSa4Gbku6PorlS/WaVkMoaE8qJ\n",
       "eGiZ5azpDyL0OYlbge3JjDsYzZXqN1YRIptTWeNCD1K4tbiwsHcQnfqsxAUP25NJWrZprgz/9yFC\n",
       "e0RhTQgt2xR60XFeTNHRSZdniqdcTYLZLlFN1m/ZM8Y3tkZzJf2F46+s3gp0QQjNqklWImCD189N\n",
       "rfE4URA6o6y7YrV0oXnxVOxJsOn/kP+iUzUusan7JDTpN4dfwHHgDAjIPxPYr5KVCNjgzmbfbHGi\n",
       "IPQBOlc3LHTEl2CfTf7JV03zd0L/jdW+WRKa9L9WbuIscAQEUVl/jlhDAtPW/R9hLXGiIHQEuZ56\n",
       "Iez4GLc3VwqdHrdzt6hCh2wJoB6ckKv8w1jm9NCWSGjS71V8fOFhI3vcGCtYN4esIYFpG7gC8zIn\n",
       "CkLN3ogIfqs7gfdML+916zvqshQY79d7pdYi1pr1u+v3pgkNE/HpYG2WMNxPCFX9kx5ewgqh+jY3\n",
       "YiUCNrhwGcVVQqjef1hk9O55Dx9Ua2Zi608dXUDpRJ4fsIytPwxdlJ98H5Weh4K69ar/GAyWkA+B\n",
       "gPwvZK5gJQI22JzFoRonotC5J5nEiakxnq7M2u09Uqg1cWIGBf5ceuzRaifrMGkd5ISQoQ4+9Dqx\n",
       "wxTzn4d1m3KYwlrQl6xEwAaXa/jSE4cJh5lia11vyKV7v22+/bgUOtmYRjnY0MbiyZhQXjUi7P2s\n",
       "u1k4Dtj43Gog3yGhK/wXsYHV1HEQogz1JCsRsMGVljYKTkShFVb05u9AxTMCcW10ukLo/BocwOsk\n",
       "1OQkUijfkQgXrl37XTjYLr36DavTDRKa9BeWV9/Dvn4IEdqMwkoEbPDk/WNuQEShFv9nNmEdtGcd\n",
       "52UmdD8/XeFFsgnvYtpxnGqpofcYiZZ6habZm8oVGrsygrvHmCVE5qZdocciIiV0FOMamrSihSlJ\n",
       "MIonMEwrigerWU1JmqlNSexqrf3tpuS82pSExWEJT7XxCX/8Gvg2/Os+T7+kPQ+Tr65lw4pfq0VX\n",
       "IqWvFG1ewn/Iv26bV5RtnnFFbfPC1Gjirh6KjKOw06YlZLbBL50bY4mxm2ceawuaWY1zxoSicVZv\n",
       "oF3nom5p7i8a5yNXq5HyZOidLEdV84MThxzL0Rt9FTnNxzWyXkUsl3CdV5FwcECUEaq82YwM1Kn+\n",
       "62bhvq3/Fy1/Av/kaBfRons3AAAAAElFTkSuQmCC\n",
       "\" style=\"display:inline;vertical-align:middle;\" /></a><br>"
      ],
      "text/plain": [
       "t12: forall_{n in NaturalsPos, p in NaturalsPos} (((2 * n) | (2 * p)) => (n | p))"
      ]
     },
     "execution_count": 15,
     "metadata": {},
     "output_type": "execute_result"
    }
   ],
   "source": [
    "t12 = Forall([n,p], Implies(Divides(Mult(num(2), n), Mult(num(2), p)), Divides(n, p)), domain=NaturalsPos)"
   ]
  },
  {
   "cell_type": "code",
   "execution_count": 16,
   "metadata": {},
   "outputs": [
    {
     "data": {
      "text/html": [
       "<strong id=\"KapurTheorem\"><a class=\"ProveItLink\" href=\"_proofs_/KapurTheorem.ipynb\">KapurTheorem</a>:</strong> <a class=\"ProveItLink\" href=\"__pv_it/d8c614556cf18b903a78e8b68dce745bfad4eec80/expr.ipynb\"><img src=\"data:image/png;base64,iVBORw0KGgoAAAANSUhEUgAAAiUAAAAaBAMAAACa8DGJAAAAMFBMVEX///8QEBCIiIhmZma6urrM\n",
       "zMxUVFQiIiJERETc3Nzu7u6qqqp2dnaYmJgyMjIAAAAcRTyBAAAAAXRSTlMAQObYZgAABzFJREFU\n",
       "WMPtWW2IlFUUPjsz78737P4QCfozrmAg5U6GZhY1GKj9kJ0gYg1iJtFNa3VHKoYsdfRHjVI5/jAN\n",
       "qZ0gTNdwJwxEQRzWBcOPXC2MwmSoLDLSZVcHd7Xs3O/3ve87Mzqu0I8ueHbn7J3nPve595x77hWg\n",
       "VntOmkbay5k83Mu2IFMCiE4spqteByMlTEMtDfe4+ZHa/ImF9NSbbaQgzH9Xk9DQxGKeqvP3mdzM\n",
       "uOj/CJtTl4/5z4MA4d/jd6NJ9UH8+rSDGJMXXmeawBqnCLi8uBphjbcN04tboEwcPzkvwzg3g+Du\n",
       "6up6ybRhwj3Xu1bNBQhkuaMZIUM2TSK07+2tpH2Qc7e6cu/jz922vitof6bJVAesUFzHkrwry3ND\n",
       "Jt42TFcM4AT5fMmRZSjGzaCctmwtqOWGAkSEL1CWmviVJqHi7QefwyDXAbbitP+w9d1n0qTXURMb\n",
       "luCdBf9kULztmMMAO8gsso4sm4rcONBNYso/EoVvpWNAahKJSU0o8A5oUBNjBD9fg3DMPueo0sRb\n",
       "vBNNkvjNnoSJt44Jb7FVDBUdWfYWuHHQpB1HbS/Bm9LxqdSkc43KJ2QDnmhUE9cYzngMvPapBVqV\n",
       "Jm7Tgm6qq0k7+tbnTbx1TJiDEXa8r2+7M8szwjhosgX/9cT9Ko1G4kKTpW1Kk/N9fXvSjWriQ5ZH\n",
       "suDE7leliatVuTvrarIBs+l18KerYsIUErS53NvOLJ8UxkGTf5DRKE1IgbYV8wZo3mFMAmWv0qQl\n",
       "l3u3VEUECmfU0KQlBcHJNIkGpkZhK0tLntXxFwGOKk0846YUGqunSQXgy5SZt44JHTjOMrrlPFu6\n",
       "57yCnoWV2RvF93PCDEIok8msN4f6TYADJfBhCv8Cvo+uQzplziRUFKGImjQnwKe+xvYRHyrEjsC4\n",
       "0kQfJLly2mgCAI+ekKcV2plz99lHMFguKE2Ma8TtztA2KjTRsQTvytmeWWDmrWNCEod8mp4ZJEaO\n",
       "EaVbwSsW9jdhHEK9cvLodJbfjsPpwjM4uTTXxAv+stTEE6P5nLesjMlj7OzD9lj1fdJegAsFmvR2\n",
       "ustshQAKNGcfUJr4r5qrjD9r7xPXOIQvWXjrmNAbJ3NwkQKiC+hKuFPQLILtNWEcQp1t2KY4AaRs\n",
       "jWHO5CzdeqJmS8NDNk3oUAZXfld1TTD2W7DXJByjKQojYqk3k8VUmgSuWk7USTU1ISnqpoW3jgn9\n",
       "cVIc0/hfy8LEG4Umca36RRiHUE9LTYCxlZrgqfO80uSUuZrlmtChMKpYbs5X1QRjvzdFNcEgZyEC\n",
       "/IKTrLJP/N35mppgivJXLLx1TLpP/GUyhcAYuMgZ2p8IzBQ93xFG0h2YNY1NJcmSGa0NGFsPj51g\n",
       "TM6TqPEJuULOS7EKnGnChvJyt2tI12T7pW1s8f7GYydGYwczvThegvSStsCUT8ZoPrnMWt4aO5yw\n",
       "gITkEARHLbx1TEgSiE1LyZRuPkjriI62h6W6y4URdF2FVd64LE+A5apDrmGYrnIs0SMYk5r4PkRn\n",
       "adxoVZqwobZzdzCla/L4ebZRXcj5dDRAciyujI/32w+QsuRY87njKVvPHUFYQEJ7AkIjUDDx1jHp\n",
       "uQP7CfcQR/sG3HKzTxFG0DXgL/6nKwVR/Xtu+IbJJc1dYkw6Qd7LCFDwUaT+WdqVVZqwoRZytydr\n",
       "i529PKqGSam8k5yRMBs6hqAfv2isPTUDh3lCaRI21Sf7ClZNJOG9gjcyGvEXFW8bJqvKWoiGPn6y\n",
       "vwfhYTECVayD1rERPNpW429jvHK5tQR4wASWTJ9KrpCRBGNCNh20qXsxCVp3qTmqNGFDzeduoyw1\n",
       "4YME2B50X6kMQWhjlOxp2NX2VB68KLUbzmBtBRed69hlsmazEuaQyHslwNdtJt42TFLHotBk6i28\n",
       "prgBbqk7zUTEDMr8PGxYc5aqkT/nqxNXlRjV5EeSduJNCaUJG6qTuz3W2MG2DV6wjMFqe1I7HpJ1\n",
       "eFppEolqZSCYbuicsA5p4q1jws+qPkI4/2YwxvEoXsx97hI3gm5vqByyYjvdAe3vJ95Eh+ncoUmM\n",
       "aEjd4ZKmib/7sPVKisVpc5meuCWnO2B/ododkBPeUbBBmnjrmAGZnlxXsHYy7odjlbyxUQhPE6PR\n",
       "quju+m7guHbeO7wV2DXxLPlAaUKHom831O2Oa5qEjfu0WW4C75APSQWiTm8F56C6JpTws0U7pOKt\n",
       "Y4a1x8egBv0qN4NVL27ybcaXr6HJHnp2yPqErUKRuSOgx46t7QZP2yyiluX+KzR5o4YmrBVr8LZh\n",
       "ehPWngcdnlmIeeBi3Te8H3CWVd8eu/kZadnAWeY+LD5XH8T29hjGBZjB3x7DTldM17qE9VWx/tuj\n",
       "wDyv+W3vnjGQxcbdvFEvOgl2TRZRd6BhdP5GXf/FKnxHkNl6Pb6SppGW0f9/J6Y/CuOKFhqXZEEG\n",
       "NZk7sc/27gL83xzavwAEbP/qU4B8AAAAAElFTkSuQmCC\n",
       "\" style=\"display:inline;vertical-align:middle;\" /></a><br>"
      ],
      "text/plain": [
       "KapurTheorem: forall_{P, R} (([exists_{x} P(x)] and [forall_{y | P(y)} [exists_{z} R(y, z)]]) => [exists_{x, z} R(x, z)])"
      ]
     },
     "execution_count": 16,
     "metadata": {},
     "output_type": "execute_result"
    }
   ],
   "source": [
    "Rxz = Function(R, (x, z))\n",
    "Ryz = Function(R, (y, z))\n",
    "KapurTheorem = Forall([P, R], Implies(And(Exists(x, Px), Forall(y,Exists(z, Ryz),conditions=[Py])), Exists([x, z], Rxz)))"
   ]
  },
  {
   "cell_type": "code",
   "execution_count": 17,
   "metadata": {},
   "outputs": [
    {
     "data": {
      "text/html": [
       "<strong id=\"skolemElim\"><a class=\"ProveItLink\" href=\"_proofs_/skolemElim.ipynb\">skolemElim</a>:</strong> <a class=\"ProveItLink\" href=\"__pv_it/81e83cf1242a6096c615e28fb53d25b66b699bea0/expr.ipynb\"><img src=\"data:image/png;base64,iVBORw0KGgoAAAANSUhEUgAAAdUAAAAaBAMAAAATXtsRAAAAMFBMVEX///8QEBCIiIhmZma6urrM\n",
       "zMxUVFQiIiJERETc3Nzu7u6qqqp2dnaYmJgyMjIAAAAcRTyBAAAAAXRSTlMAQObYZgAABq1JREFU\n",
       "WMPVWG2IVGUUPjtz78zcO3dml1BI88fkgslqOYiayabTB+qPanclpB/hbpJDHxYTrS2Z0oKgKySO\n",
       "f9SK3CuC2UbugBH0J8YRCtxVpwihXGNKESzKRc1y3axz3q/7sTvXWXaDeuF+nXvv857nPec957wv\n",
       "QC1Nz+DpaYBI15swqaZ1bfFJJg3J26quIkCq+vtQzUhriW8HQHTySu31PUdhapqB6q0MGOSOWoF+\n",
       "xiNp/+e5WuXq70/ViBMm51jIFTPexTZBNYQKn//bXGFz9fdRNFWFbs4H4/Tid8YIVyyczWafs2vq\n",
       "/uzf27MX8NMjcmrmx+WapEuiPBVcGwMmbBpgQPpoQDuBh5V2jMCUrqHdBojNBLgsHs2Ki2tecbUK\n",
       "YoZMnmtvwPthgP107Q7GuQePusKEueqjAPGrkEhLQcnF9YLiynrfPyU+HC1U/+AtPqBWIRhmRPjx\n",
       "BLmGruMxClH19UGHq77DVvOVvGpgSriGXUbb6ftgKU6Uk319+4JhEg14+homzDWGbhO5Dg56MqO4\n",
       "Rh5NKa5DfX0f5aaEa6jBETzj++BePP7s6dlyhzBM82x5DVwNdm6Vj/X4X2+aAobZmII9NpvzgutR\n",
       "yCmu9T09O4pQE6RrqiuZNXuR5KqNuCwkp06pkSohaEFH2sDMre3euPQl5njNJ/xhIkae0SMUs7q6\n",
       "ut5WXDVxbRxchmeu8KfyZXsR4jiMu/AnrQEWYPcVxXVAei1CRloh5oyegFx948R22wfJdbPA043R\n",
       "CQfzH3Ou+u/MNl2sXePv92XMGSZO0nYcnMd4fEQf/Yr+vAj6TB/XJMFcGteuMX45kIE2W4rD8u2C\n",
       "jYMLbRYU3kfXwMGK5xTXHBxQXLU0mhl8kDhxrJwXUuj2Ini6iRYhlm7iXI3rLrXjv7ALjva2EKrR\n",
       "m6HOQpTbskAjD3sQYYk/BZI3vB7A1ZiBXXfAsyK1yHJsN3eQaQB2XQqu4rAPS66JFFlTQubg/jFc\n",
       "Ix0QGvZCct30orebFTZOsiLnarq5wtFpNCTo1svJFfozVFgxBlu5m26VYcht17TMEVW4RsvMDhuE\n",
       "UObTP0ByxclC7uVwxSpG71BcT0FuDFfExLnjgeS6RVq93dyNFGbZ49jV2Ehq1uEEPH4SuF2NClX2\n",
       "5k0IbRaBbAGb8fNVuIgRzHYPV20OK7qEYhTi0Ag54GJhJP2aSmwY2QhZUz58TOlKkAeIt9W4ZoOL\n",
       "a38e7rNpDEqL57QySKEb/aBkqDgmceuWiE36Tebdv/HGLNKPNM5QTm2nx53PU0QYnT8gpyYLuZ2w\n",
       "3pK1HcWmFzxcrXq7zVHsEgvWRg64+DMnvVLbxUaKBsyJTZcFXw4Z24tj3hSpdLq4tpQGC4CQIfvV\n",
       "aIZBCt0whTkybH8h14Zx4rBW4ckAfe64jMNwjBzIEm/ImLN4Vv7hcVkTNAjbOVzfWwVzHcVGyVeK\n",
       "Wjdw8Wrh+iNOhbkEWrDPcFFw1btFNc4h4w9SDkmW3T58munbDTr8ChxS6Ia3joxBw9BwK+eacOXX\n",
       "ozxaYBxJnNHlzKynrB7j2QhjCP8BS8JHZIJio9Ui6qYkRvPXbGiG9Y5idzEoWiIy8TreyZUbvFxY\n",
       "hcfh2SvQhZKtgmuEMl4opYbvKtMj7+a6Ta06yS/XObqxRaqUkZVOnYfm1Ni6SU71wfPlcInXTfg/\n",
       "sagviOj3SWFPhnfcrvIsRZe6jGcB1gnTHcWy5jljGjMWE/uWzLxGpInxoawRNacaYJDfs3TMBYLr\n",
       "LWl/fVjnkEI3qoeUzFc3JVP+isNpP6k7NnP32+b01LmLdJPMmGdM+bIZuP+5uG7Shh3FDq5JfJEB\n",
       "MyfEQ74SMw2RCssGpYD1qzF8mhcOHJJHGYTstSoWQSrdcMCkbAzX/uqrJVNN5dCVh/DcVoBD72Rx\n",
       "RNoKxsPfhFU9TmFIb/BwXTm34ihmLv2yw2ArZSZe5OtmJyaQWMq3pvNzNV95Yr7tQD5wjdllMxz+\n",
       "tnSSIJVuOM2lbAzXswFFvX8Thhx5LW0jeBc+EXp82c3VzMfKLofDZPkBwDwhrvhQj4A2ezF9nK9l\n",
       "XyLmfpgnrhVHt1DBkfm5bgrYl/DW1BAnZXp/tPmNy/4VVq27FIsUn/IoZtyeSQ9MHC9X2YP5DibM\n",
       "VTwgpNINupXMzzVRrM51yG9nBt8pblyNUmE87VJMGyp6FduBoUsrM/Ghye2tebhqnNAhl27wJEiZ\n",
       "n2vAgv9O2xEug2f4wiLq38wNe57Y5hk0Be4Pv+HnOmFI4XRNvv1h5LosYF062T2e/1n7B3WR1mAe\n",
       "EBSXAAAAAElFTkSuQmCC\n",
       "\" style=\"display:inline;vertical-align:middle;\" /></a><br>"
      ],
      "text/plain": [
       "skolemElim: forall_{P, Q, alpha} (([exists_{y | Q(y)} P(y)] and [forall_{x | P(x), Q(x)} alpha]) => alpha)"
      ]
     },
     "execution_count": 17,
     "metadata": {},
     "output_type": "execute_result"
    }
   ],
   "source": [
    "skolemElim = Forall((P, Q, alpha), Implies(And(Exists(y, Py, conditions=[Qy]), Forall(x, alpha, conditions=[Px, Qx])), alpha))"
   ]
  },
  {
   "cell_type": "code",
   "execution_count": 18,
   "metadata": {},
   "outputs": [
    {
     "data": {
      "text/html": [
       "<strong id=\"skolemElim02\"><a class=\"ProveItLink\" href=\"_proofs_/skolemElim02.ipynb\">skolemElim02</a>:</strong> <a class=\"ProveItLink\" href=\"__pv_it/b8dbb148266de6d380b6cc483b1f4ab1572986270/expr.ipynb\"><img src=\"data:image/png;base64,iVBORw0KGgoAAAANSUhEUgAAAwwAAAAaBAMAAADoNsZTAAAAMFBMVEX///8QEBCIiIhmZma6urrM\n",
       "zMxUVFQiIiJERETc3Nzu7u6qqqp2dnaYmJgyMjIAAAAcRTyBAAAAAXRSTlMAQObYZgAACQZJREFU\n",
       "aN7tWn2IXNUVPzvz3sy8NzO71iriWujEBZFUyWBqEkPYPlOazR/aTGyR/CHdYWm2X2l2oNFFq2Rb\n",
       "IVml1QlCEi0mzw9WDNpMiVSk1I67UGmy1hFLoTWhYw0tUTSLtWoWm+09536+9+ZNdhaTjtAHs3Pv\n",
       "nHvu/Z37u+fcc+9bgKU8tsf+fBMgNX4ndMVjjd8d+qVroHFsiTYNCkvt+VakogyQhq559obqXQQN\n",
       "sVnlePGGpfb7Nvv0+mTrw+ypnn9LHm0je+EzQAO8Ei/ONQCaWDjRWbdJdKPruK2rRkdH+8+bAfmx\n",
       "j0e3rwVwJ1rL3ZWTJUhVW9LQSx00uoSGtB8vvwvgmFzdHTwHWZfOvF5y3zt/FvSxZfITH3qVw/0q\n",
       "YM4U5D4At2nQUFU05GrCZ7uChkQxXj4AsJ99OROddTuDnlS8IDQM1wF+V4DX5erfNhaYV+YonwOY\n",
       "Nmh4S9FAVu3vlqDkzLVZ1ny50Lrp4LmCfXpqF4SGFSwnW1EHnfX8LUDDZQBjVXhM02Dv9tXegD5+\n",
       "rGvShx/reia0maZrkD966NC+znqleISB6QLQ8CD7jHlOJYaG0z6MlaDXUzSk1hcUDccPHXq60jU0\n",
       "rDHy/VD0SbL6x5OTd3e4b17E/rwGF4SGs4z1f1Fgffw6cPo1De5AAfZgeadPAVLQ8EuoKBr6Jid3\n",
       "1/+3BEwPeJKGZcbPrwflCTahWwHu6zBRwi1xUNj68vj4+JkOPEkvicXI7E8Anq9DhuU79RshMadp\n",
       "yFkXwQo8HLEW+aai4ZgMQwxaqhRx/9inZbtSm2aLgr/Pcy93axzbJgK+ehyfncWA3GLh5auUaVgP\n",
       "blvzfdq1Z9dqr6HKzL2hbCOD0smoNxi+JnQsMPohcV01zXrhMepKV8og8eHszHIKnk5tkAaWNPyC\n",
       "LQbEkGbnomxF0VCBA4oGq8icIw4a8CGE3bmWzZ4TINbNMJUtoJpheVHwWZi5N+FzbMMmqS/WTLn9\n",
       "b8SbaPAg8zL7OuDBZt9eyT2bKrlqqhmkoRdPhP+I0CC1EK7QyYDuh8Spqm56Q2gMIaPyDZLxefrq\n",
       "8cCFi6GvoGnwewrwPvteid3NSRryBfQBCa0C10IcNBAzzu1ubUGSEDknwe6Hb6zW643Ki4CfZOgH\n",
       "cwLbQc8877zpGXLnAzzD0WSOAvq4czkTlsEiOLySrtqhoJNGl/pR1BssZYTU4TQYnd4GuulUaIzb\n",
       "DN0peWyoSBrQc3FBqS16k4+LiNJxTQM7JNllRcMrcqNoAU3SQHbb9ZbNXOpqD5vfVQBDoJpheTHw\n",
       "e9gYLx0V2A6bNOz9gyl3GQ1OE2+I4B6KM+kG7cAcDq+kPSQr4A1FmZ/H0iB0OA1Gp1uNaaEjmTHG\n",
       "VkNXHteGizKjwx1pmZkpDdLOdgScKvXGaTjCPqcUDQfsMsRBkzSQ3cKDIs1OiRboM0OgmhENi4B/\n",
       "mNH2ai3gDYPv0XMqICdE930bveQMJO7i2znbCDkcUYEsRYbpWbU3oHG7AjSsL7MTOdeiotDhNBid\n",
       "VsC6CpcslikWGmNIGZYTDX1swH4aNOouk4Zd+Atbn4mqsUWfElRwaJm9TD03cMtWAY2KApqggdud\n",
       "jml2rUhjMFAM8T6nr7+qRDRE4WtFAb+Pfb0kM6VhIwv4OgTk5J9HKpRwXHNMRHy27DgcUYF0gVhO\n",
       "FYRPptCC7wZoqM/b0oeoyHUEDbpTlv/n+vzNfNlly4ExlAx1s2V1LgBxZE+Wrf/ghPjgnsXfVsGm\n",
       "BuybnfkOE9WFqbTF8tsbhJbFGL481dwhoFFRQBM0cLv3xTT7tdwJB4kG1izhb097REMUvlYU8Fkk\n",
       "zr9qg5kpce7F5ZGUY6ZEGx/k+L71CUasuoAjKnR3wU4f+ZMiutH6WCZs/SfLv/qdJyuJCa7Fi1xH\n",
       "0KA7tSbgkSG4mtNgTQTGUDLUtfgkDS6MqGDhjgywRbPqi281YBwtmrryK1U4vbDwEZupkjA1RVl4\n",
       "Qa0Q3MNLvQ0ZbagooAkauN0bY5ptxOnBxfcFomEj5qLviqAUha8VBXyYPdFITgtsrxnvQmRwE3I6\n",
       "iOXRqAwPwhfz9hyOqOSL/ALD+rwMtPOSXHWbnKynCkKLilxH0KA7xVv3dTDCB7CbgTGUDHXtUHJ2\n",
       "pzqv4JP1xe4gnqek41s63SdofyXXr6qgj0UBTdDA7d4Q0+xbOMsFPk9D4sXAGUFDC/hKMQQ/fIp2\n",
       "IHqKFmGKJ7Kj7hvOJRKOqNwEX6PR7XnZ+BKRvGga0l5PSW7sWOQ6ggbdKQaNHXCp8IZyYAwlQ93w\n",
       "WxJ27Nyucw1M31NNV2UO023fNwyDhEZFAU3QwO3eEtMM5z1Vfra2x6Op30JZmS28IQpfKYbgE7a/\n",
       "x58de9X7N9xAnPvhsVvyL3p0HlIV+53f3M8qJ+GZORnd1gGPxwYNpU1SC4uoo2nQnbrMzNutOX7g\n",
       "ytcDY0gZ6eZDlxDsNHwP/FTWHqccJSPBBy66wzQ4c39kByuCRkUJTdDAN86nYpodh/2+e2nhjZOs\n",
       "zfPkdQdzzRyVW8DXiiH4iM2dj6fhsJzYxGl24rCvAHfN78sOOKs/LKhKz8LCHKs8dKKwTl7E4j6K\n",
       "+7CmwRp5QGphEXU0DbpTzKE2XN3k5aQXGEPKqJz0Qq93JmD9gDqGYgS2rrw+cGEZR4P7w5uu8Tk0\n",
       "KkponAayG3f11s2+DJtr8MTPRqEKD+0cwc1/6k/TR6ncAr5WDMFHbPk2b0H/HKxmcXrLj8ZUjC0G\n",
       "+fiBScPT8HPZUBX1KVr38yVwqxmRjPaGxgjJFv8S9C+LewkatAHMW85ErXUz5mYoudVpRJq1gB+Q\n",
       "Rd6+leINuD36Utc52x9TMdZmk+4yDVu3WU3ZUBUNGlQ/GUjVRdIMvw2NEZIt5TK5LQ0vxNNgVoxm\n",
       "2QZk0dMOvulHdaLwA7IwtuNtbqxDEZg43+3FVfSDJ6Rs0bD15lnVhSqa0GQ/VsM6LgZ1i6ExQrJP\n",
       "nYZGGxpubtnsCTZFZMaOaLMW8AOyELZ2LziX/IaQrhCfY7ae45+Bkm2WZMLvRHaOxxq/I0zDuf5P\n",
       "KTBV2ZYX3csjdleXAJ+wJdtYtBb+/3TH81/2HEMsmkg0FQAAAABJRU5ErkJggg==\n",
       "\" style=\"display:inline;vertical-align:middle;\" /></a><br>"
      ],
      "text/plain": [
       "skolemElim02: forall_{P, Q1, Q2, alpha} (([exists_{y1, y2 | Q1(y1), Q2(y2)} P(y1, y2)] and [forall_{x1, x2 | P(x1, x2), Q1(x1), Q2(x2)} alpha]) => alpha)"
      ]
     },
     "execution_count": 18,
     "metadata": {},
     "output_type": "execute_result"
    }
   ],
   "source": [
    "Q1 = Variable('Q1')\n",
    "Q2 = Variable('Q2')\n",
    "x1 = Variable('x1')\n",
    "x2 = Variable('x2')\n",
    "y1 = Variable('y1')\n",
    "y2 = Variable('y2')\n",
    "Px1x2 = Function(P, (x1, x2))\n",
    "Py1y2 = Function(P, (y1, y2))\n",
    "Q1x1 = Function(Q1, x1)\n",
    "Q2x2 = Function(Q2, x2)\n",
    "Q1y1 = Function(Q1, y1)\n",
    "Q2y2 = Function(Q2, y2)\n",
    "skolemElim02 = Forall((P, Q1, Q2, alpha), Implies(And(Exists((y1, y2), Py1y2, conditions=[Q1y1, Q2y2]), \n",
    "                                                      Forall((x1, x2), alpha, conditions=[Px1x2, Q1x1, Q2x2])), alpha))"
   ]
  },
  {
   "cell_type": "code",
   "execution_count": 19,
   "metadata": {},
   "outputs": [
    {
     "data": {
      "text/html": [
       "<strong id=\"existsByExample\"><a class=\"ProveItLink\" href=\"_proofs_/existsByExample.ipynb\">existsByExample</a>:</strong> <a class=\"ProveItLink\" href=\"__pv_it/88cb04807c9ea9fa58005411975b4b3ea7d61f2c0/expr.ipynb\"><img src=\"data:image/png;base64,iVBORw0KGgoAAAANSUhEUgAAAN4AAAAVBAMAAADbZk3zAAAAMFBMVEX///8QEBCIiIhmZma6urrM\n",
       "zMxUVFQiIiJERETc3Nzu7u6qqqp2dnaYmJgyMjIAAAAcRTyBAAAAAXRSTlMAQObYZgAAA0BJREFU\n",
       "SMe1Vk1oE0EU/ppssptkk/TgSS+hBQ9SbBCsCrUGPXhRs3jwmiI2oFQIUijWv55KI2griD+IuBap\n",
       "tQcpeBAvErRQ1CIRQfBgiahIe2hLrT8tRX0zk81ONpPixQe7L7M7b743733zbYC6dlv6HSoK/0Qx\n",
       "zzdv3SQbVrxywiL0cqaHuxIbf1DMDffT7d2fgewnGxgrPwwqVjVTaMtmsxulR94wHKdrkrtXbDin\n",
       "wIvxpX8DBq006yRRUuI5S1bME4aHAo/cDbbtfgXeW3YLrFExlhBNOk+f/RNeTZiZ4HjkYrRtc0KB\n",
       "d5r3ZpmuNeiVMt51JxjDdfFqwsKNHI9c9OX4+HVVq3N8zUXq2TLcCbGUu4n+ung1YfjM8Zj7NTh4\n",
       "VsU6Xos49etOEs2UWnMCV2yYSU/FlXhuGEY2X22hYj4XeOS6gDygDXXvPCHjGZzKmQIilM0lWlVr\n",
       "RCsQ5YTZ0cvsQtLBm6LRihTshoUL0VM6xcwIPHL7BOneAFMyns572to9vY0afAa45S9hkFiQk+Y8\n",
       "naizPzfMtM1Vjdr4WOCR0+FjW8mCpe9aA19lyOaDDYDdkMASNW1RPqIfU2o8NywMg7c5I/DImUWd\n",
       "PTgHlr4X7yecQKTtwHcP3rUXdfYnhSGeqMYLlY6wVFfg6wP2dqJPqmfgmxhQYdABH5Fa4/XsmOc2\n",
       "W80Xs/lwl2CuFIaMxe77BR455I/RTVtrYUpTWA00Snxh54gZNR4DMDodvgg75OHnlmCpp3L8ymER\n",
       "uxU+W+YLHrGUTb5O6F7O55wqRr7YqhgQjdGGNKXgL7jdm/PgWbGyPEth6YkhLvztAq/dKbAhuO0v\n",
       "BBNiLiucf+GHGLEyjDbtIZ7FrApe0KrgfaXzQHIZF3oih402jexmWXwReOQQZWSKC0nTUw2WrGfO\n",
       "4eALddB1X1Kgav3kbLCqNEPSs5zQs8ppytCr0EXoVtqjHtxIeIOl8PK6eo3Q4msUqt6o9LqsXgu7\n",
       "iFaboB297JVjbnnoRSOx7vcI4ZMHWuzqV/na75FsETzgVHS/t46NQWva7k2ipp41NiYDT0r4zr+F\n",
       "bq207v+J9yplP2/Vw3PCopTm1h7uZCvi4DT+r/0Fsrz8czdmo/cAAAAASUVORK5CYII=\n",
       "\" style=\"display:inline;vertical-align:middle;\" /></a><br>"
      ],
      "text/plain": [
       "existsByExample: forall_{P, y} (P(y) => [exists_{x} P(x)])"
      ]
     },
     "execution_count": 19,
     "metadata": {},
     "output_type": "execute_result"
    }
   ],
   "source": [
    "existsByExample = Forall([P,y], Implies(Py, Exists(x, Px)))"
   ]
  },
  {
   "cell_type": "markdown",
   "metadata": {},
   "source": [
    "<p style=\"font-size:14pt\">The following theorems added starting Mon 11/25/2019 by wdc in preparation for another alternative attempt at proving the irrationality of $\\sqrt{2}$.</p>"
   ]
  },
  {
   "cell_type": "code",
   "execution_count": 20,
   "metadata": {},
   "outputs": [
    {
     "data": {
      "text/html": [
       "<strong id=\"rationalsPosDefExtension\"><a class=\"ProveItLink\" href=\"_proofs_/rationalsPosDefExtension.ipynb\">rationalsPosDefExtension</a>:</strong> <a class=\"ProveItLink\" href=\"__pv_it/6cea54c33c2a994d7da0bb26ed42e9cc23f7292c0/expr.ipynb\"><img src=\"data:image/png;base64,iVBORw0KGgoAAAANSUhEUgAAAS8AAAAZBAMAAACSpLXvAAAAMFBMVEX///8QEBCIiIhmZma6urrM\n",
       "zMxUVFQiIiJERETc3Nzu7u6qqqp2dnaYmJgyMjIAAAAcRTyBAAAAAXRSTlMAQObYZgAAA3xJREFU\n",
       "SMfVl09IFFEcx7+Os+7u+FYl6tRlUhCxwkXJLgarBtIpC6pL0CYlCBIbEpsgJh1i1UNDl8xYmv7Q\n",
       "wawWYquNgkH7A3ZooaDQij3kJSgkCMouvT/7f9+4aqzQD347M9/3ZvYzv/d77/0GKG4VwUFsrHUF\n",
       "rdV0c2LDze3/38HcV6it7z/CSS+wSgO2MgVLsItPxcDKe3t7j5vr4dJGhEusD7YyBXvNzr+uZigr\n",
       "jPWAVRnCJXYPtjIFm2CHkdKBvU26xIhuK1OwKjpAJFI6sMGky0a5xlamYJ65qanLKBmYOyBcal9s\n",
       "ZTYrf4VCQ5JWa1VgNutgRla8wrXavo6ZdEzqdFynIzWbd9uNZjjjXGZgJ4FRybO9OWAkGAyeM1bs\n",
       "JZddceHTeK8Pp8RytQZN9PiZp9R3buwWqx1OP5cZWCe0RFEwu4gVBXNGhM/hjbmPBYsvbeUJhOjx\n",
       "Ud6wR3aj0uIyA3NCiWc3T/e3GkXBHAPPsc1fAFYol/mEm5wEuM+CYJbp2ESPx/KynopqhMsMjMTT\n",
       "W472tCXurgdZwGzLQEvEDuzO7B48Jma5mdNLLqfAgB/iWXyv2W86fhaCQV2GgjSYO3E41fAhNgUl\n",
       "DG27sVLEPOOTJp7pXpIbV7mcGkpwkpS9gsKWiq6sHGPAJAAiZL5Xjp6gPzO76rtV9rxDMUCPy8HU\n",
       "l+y8k11Eo5cyBB1+Yknk7OR/oiyhMa1egGtkPpn82fWVH1Gkkx8P6DKjmKecvirWOE+foutyMFJt\n",
       "HoDYXaPk7tE0gbVcOSKReTy83NU/riV3JpVb0e6lWd6Wv+YnNLbQtCXBqimGA9+Am6yxkYFZ+WBV\n",
       "dLk4bU52oR4ab4nCmk0RuG8FYBXKIm0C3LWexrqsSuF2baynG1jMn839vM9iEszDq4bfwJFQKKRH\n",
       "YwKsW1aP9aMHjrOh0HlKEGay6EUs1SeRi25JAVs5U485lhyo4C9Dk39nxKZQ3IwtBvwiNOrBTAcf\n",
       "nUyF8r9t4sKukQQBYS+qtII02FWwZyqXdbxgZ++Aj8llcQzO7qvIl9PZbwhfc9mTHPR3M3PAODtt\n",
       "GrrotwN7uNDmg4vGUx32iQDTWG+F2sPmXq68ikJxFLZyXmmt0BwDxvYWqfkbaDJl18JyuWhp7ZHH\n",
       "0WPY1fwT4Zixlo+R2EZ9jGg7mnOre+fK35XxUnxX+v8CfEEQVaWrjXAAAAAASUVORK5CYII=\n",
       "\" style=\"display:inline;vertical-align:middle;\" /></a><br>"
      ],
      "text/plain": [
       "rationalsPosDefExtension: forall_{x in RationalsPos} [exists_{u in NaturalsPos, v in NaturalsPos} ((x * u) = v)]"
      ]
     },
     "execution_count": 20,
     "metadata": {},
     "output_type": "execute_result"
    }
   ],
   "source": [
    "rationalsPosDefExtension = Forall(x, Exists([u, v], Equals(Mult(x, u), v), domain=NaturalsPos), domain=RationalsPos)"
   ]
  },
  {
   "cell_type": "code",
   "execution_count": 21,
   "metadata": {},
   "outputs": [
    {
     "data": {
      "text/html": [
       "<strong id=\"rationalsPosDefExtensionReduced\"><a class=\"ProveItLink\" href=\"_proofs_/rationalsPosDefExtensionReduced.ipynb\">rationalsPosDefExtensionReduced</a>:</strong> <a class=\"ProveItLink\" href=\"__pv_it/d49d9896adf8a6adb8c8418452b59b5712a6c4df0/expr.ipynb\"><img src=\"data:image/png;base64,iVBORw0KGgoAAAANSUhEUgAAAxIAAAAZBAMAAABXxQWmAAAAMFBMVEX///8QEBCIiIhmZma6urrM\n",
       "zMxUVFQiIiJERETc3Nzu7u6qqqp2dnaYmJgyMjIAAAAcRTyBAAAAAXRSTlMAQObYZgAABzlJREFU\n",
       "aN7tWm1oHEUYfnO5z929pPiFBIQ1MbX0gx4NjWBje621QRR7/aGl+CNn0EjR1gO1QdvKaaFeFfX8\n",
       "k1YldlPFSCnNQRB7pdAjFSvp19Eqmmr1oFWpoAQ/wFxscd6d2dudnbn0uin5lReG3D33zvPsvu/O\n",
       "zLszAfBsT/dmYdZujPl7t02jd2o2gDfQ+qaXifeIeRsYkaLd3NYvIHk3oFZRzVfT8aCRr1FCwlUL\n",
       "vQ3naSZK+OeCx0y09/T0NHnKxKeO5rDAqzFQ0oJ3UAj8Rjmt4DgNjWC2NgkXV823UIHNn/rgBH7/\n",
       "bRqz00ZPmbjsaE5rzEGDeM1KyY0clNNWHLMuHQ8aoqhcws1V6y2A2kRh86c+2INDOD3TmYjG7MbZ\n",
       "WgPOSfxH3ICmy4ktx4u8jieNkZokBK5a6T/5sszgETMTDQa5rdxMZyKUtRtnxwFekvgPCI/YHDkx\n",
       "cwy8bnA6njQGapIQuGqlh2iZwQNmJqKj+/fvhpnOxG5H4+wiRGQ1WUPcjVySEzPH4Cqd0/GkIYrK\n",
       "JASumm/BzATC2Ejt9G8ms23GM9HiaDDcfIiMy+ZWiHS0ToKPTCZK88ZVdDQrLTq8a4BWmWEQGCBP\n",
       "4zH3IKFdmONBdnXeNbaDA2C2bwlEmtwSyAXqkgVpnp74Kk1TstFMIIyNZOIpgF2SWBWqxLDgzMTx\n",
       "3t7eCdFHk3d1wG85mpaO/AWRrfA2rMyGyxAmNecB+FZ/hfbxz4HF5KIr6109BeBH/HL6DzRzwmZd\n",
       "mOMJWol41EBgiwU4NAorwTfulkAu+Ar2xnj6mOk7FRvNBMLYSCbulxcJsSqZiNUwJurlXR3wVkc7\n",
       "asAkhArwjHIH1JcgRBatUThjPGg6fkCQDHnmUEwxK3UKwOcuctZFTbFr+5DTqVkDDBNIwZEKl/1u\n",
       "klsO4bRbArnUMqmYOPpI0fSF6mwsEwhjI5kIgY978znwbHtWlgkBl2RifUfcd5uYCRG+xdFuh0AZ\n",
       "VpAI1JcxWHVxDEeGORp1OvxJlkd8vIZKDLiJ/O1yabAupiNEdQgmwIuGcpUBD1lcjgmQCDfqbgnk\n",
       "qktDl8HRo2+dXqGXsLFMIIyNZEIrhipSR9qKkbmgfe/KhBx3ZQKd1PQo3MtnQg47MhG4Ar4UCZV5\n",
       "P0Nx884AI2PVhIF/2G2EkjYgZIJ1ofcbMiCQBC8aOI+YhaguiZ2/DF0JtwRydRXhbhc99YUp2IRM\n",
       "REqPWT99l98Pvn5QFmSPtT3fZpe2ctyVCXRSz9ZDQWu7p20Z11eEHbNTdALCMeU/fOYLcJSOdjCD\n",
       "bdpy8JGC1Z9yFIkIQKc96/5Cq0qzC3Uctt7nPGvgekgBhwaZeO4UJJDrpyzscNFrKfSdio1mAmE/\n",
       "nZ1g15P4crF0bsKPz/ujeQC9aD37/rkk+RKcy8TDSfLZdFIf36AXrIef9D0pgd0rtjqOb6VXyIeh\n",
       "HGxWs7jcHSaL3XzquRPCSedqikD6PFuxHca6UMfLLFReNXpATXAANeK1U5BALhL9SRc98c1EjanY\n",
       "hBUbhklIfcbmULwBfz5PWHTdirjWaKwDCc5lolAOzKFOamL0m0rISd9DEti0Y3ZTJuA5A9pBWRrW\n",
       "o1s0LOn8k+HxSJGuC+2wlijX2yVbO6yMkW8dromDdqGOgTSdPjxrnCaVFQewkiPpvyJIYAk6lA2W\n",
       "eXr0vVmj9FXYwFdmMDbMRCNOYvA7wEf483yMeMGK+PudME+Gs0z8SqrYpsjHKV+SOqkJzbwKq68m\n",
       "gU3rdLQ1C8nw1U6dBaW7te8uHKpK9/yWC+RGX8Y9geYVpFBoSNibBM35bvLtZ9dqSrtQxyAuAz7d\n",
       "u0bwVBE4wBJpmRAkzOml+2SKpyefFvS1UvoqbPVPXL2PwtgwE3QMEYn1mUxG/yzPRbwDuqW483wi\n",
       "WAjq1ElNRIqpSshPwmoZLO527OCu0N4qOMxmcYBBYbejyumI6eg3PyZgmhqDkkK8JEhQrnBsKvoq\n",
       "bBY86DyfCIwHIGg+cmRlXpRjIgAvwK1S3JmJunjdBupE5sMHzBHG+uoy2LUDGADlb+7azjnfIoMl\n",
       "89fr3gHkdbxpCMBmLIwE+BwGZShelf7a+4kjjkzs1UpkesMo+9pBm8fQPQa86B8XcVcmQomj+6hT\n",
       "NA7Rgt03khNgy3ZV2hmDf54gbO3YKSTaoWJY97Irzut40hBFt8NrEjic1cquIcfRX3OPne2Ks8n3\n",
       "65FRgDfx4+Jt7yQZui4Ha+aVRNyVCXXT8BfUqfMSQNLuuwgEWDwpWnN2WZWTlyjOAs1LnXfGRVhi\n",
       "YflJkScNUXRVS0ICK2n/ppZcdfpqbBU4nBVOT31kTgd4Y3UFyClmRSbgfCacnW3LyWFPp6djQgFY\n",
       "5fR0zPvp6dg1gWpwvyd6Gx4DkJ9j7+nPs/tUs8HCIxJcmgn3gdTsP35cl8kyoSxcYlhjy/9DQYLX\n",
       "konobHCnnYlarXf2/51umPl7t/wPoSolIVcNIsUAAAAASUVORK5CYII=\n",
       "\" style=\"display:inline;vertical-align:middle;\" /></a><br>"
      ],
      "text/plain": [
       "rationalsPosDefExtensionReduced: forall_{x in RationalsPos, y in RationalsPos} [exists_{u in NaturalsPos, v in NaturalsPos} (((gcd(x, y) * u) = x) and ((gcd(x, y) * v) = y) and (gcd(u, v) = 1))]"
      ]
     },
     "execution_count": 21,
     "metadata": {},
     "output_type": "execute_result"
    }
   ],
   "source": [
    "rationalsPosDefExtensionReduced = Forall(\n",
    "           [x, y],\n",
    "           Exists([u, v],\n",
    "                  And(Equals(Mult(GCD(x, y), u), x),\n",
    "                      Equals(Mult(GCD(x, y), v), y),\n",
    "                      Equals(GCD(u, v), one)), domain=NaturalsPos),\n",
    "           domain=RationalsPos)"
   ]
  },
  {
   "cell_type": "code",
   "execution_count": 22,
   "metadata": {},
   "outputs": [
    {
     "data": {
      "text/html": [
       "<strong id=\"rationalsPosDefReduced\"><a class=\"ProveItLink\" href=\"_proofs_/rationalsPosDefReduced.ipynb\">rationalsPosDefReduced</a>:</strong> <a class=\"ProveItLink\" href=\"__pv_it/330697af788ec96240b19a6bb2c879d229da7dbd0/expr.ipynb\"><img src=\"data:image/png;base64,iVBORw0KGgoAAAANSUhEUgAAAdsAAAAZBAMAAACLA5kMAAAAMFBMVEX///8QEBCIiIhmZma6urrM\n",
       "zMxUVFQiIiJERETc3Nzu7u6qqqp2dnaYmJgyMjIAAAAcRTyBAAAAAXRSTlMAQObYZgAABU1JREFU\n",
       "WMPtWG1oW1UYfpqPJrm5aYdOUPzhtYUy6mSXFesPq2abrIg/jIKzgtBYZqFQXGS4OK0zTJB0Qxb0\n",
       "R+dG8W6TMeqckZFtkYmh9QPqV5iDyeZmwO2HglL8ANuq+J5z7s1Nck+Su2J/bPjCm3vvc859cp57\n",
       "3vOeD6C5tSa343qw/mTBTbUArhMLxf+XK5MbepNsaf8xWeEOC2fgDg4V0RxqwMaLSG6JARebyfUO\n",
       "Dw8/ZSxFrZKyXWIjcAcfqX4cuNEBNWEbEXI/Z88/uQnm1sxS5LZlbJfYMTSEQxbwY02FRSckZ3vf\n",
       "EPAxIXcvu6SWT+43FS4xVWsIt+niGtGry30LDkjKpoxuMQTMnOS2scfs8sndXuGyWF/REB54wWxC\n",
       "zX+rCQdUh+17Q8DMSW5kdmpqAssmN5SwXWqXG8KbO8S1toXU6xPu2JhcDl8WmfnPdHpM8mLBldw6\n",
       "87YNe3TblY6R9dPljujUcICaMlPbQYS/ZMFKyfzvTvZzvOMUMN0RwxvTg1kGWRxkB9ciUHSymXJn\n",
       "hDO5TwPjkhbrVXLVZDL5cqZhLTkcLNp+FOe0HVaB17cCa+h6icfmL9zYayrh20yYRpk5zl5jD6nQ\n",
       "b5jIBku+W7DHYJDFwT7wOgTiTjZT7iXhTO4G+oZN5dbr3aZyA1nbZ/G18SADWQsmvSWk6Xqy5tX9\n",
       "3gROW3AAIdG2F8k/Migfj6E1e6CI+zhkcZCQ7N0IF5xsptyTwpncADxV8/XR0d5MU7n+rR/j9rhD\n",
       "rhNuidpumG1T/mGSWzTcQNfBmuYx/CELPsODj2wl+c3wL3gX6OZ+g1QzyOIgSrr6sk42U+6gcCZX\n",
       "LZYXicrpnmKoC+oFzPRs7cnWk/vOzL04pRpeo6qWHK6UC/wqwG3s52HD/4dELuHQLJjy8iZLrv9v\n",
       "eBItKa5b+V18AZNDzEweuJEbKm2yir7NT8EzCeWOTKPejezeZ+BDTVerY0AOVwYzrLZx+wweNm30\n",
       "V4y2uMBZpuNwWLeWJxS5kXkE9feoSPkL4TkR3yaHmJlUGZuQ2y+cr5nHN9PP9F1dMR9r5WN5QCvK\n",
       "5fo+Zfcb2EMu97qta31cLUjg2lT1gWcO3eWSVxFMnbdyUoUNIxwzYSY1rJupiiS2Z9sZzSJaS3me\n",
       "vUwO1rg4cpCwOVIVjtOU6DGeCUTbWPF5ItQ0uVy13XgEYpWdU999sqyrsBBOSWD+pfWy+xaDcxXL\n",
       "+l6s06mv+mrb9xVlcBMeMAOazyLKPLYY3jgOxXbiXLzAJxfOwVOBWlIKkLBhjWHCfabcdhLnx8/A\n",
       "IVbczeQWauW20UT0rLGvH11QeEkOhRlLV+jtBApOWIypRNmVoe7Oir3I4Y78EHXjFcdhwpfsk3CY\n",
       "hR34QoNF48bVFOdfXNTozSeGohwSHEmmaJRTO9h6b/uhKOArptwIn6jngcfT6bSWywu5Mdl+dxRD\n",
       "8D+fTu8kXZMMFrXUgi8qgV0tIhMNYJ7e/PYi8pWqtV55oggbLtiY2/td/5wfrfyjU6q6M1tne78S\n",
       "N2UQF93oe9SuEKWs6IT/gy1COQ/qJJvl4yrIquyGzdwiCHtLLalQWad4eqGuqnea8Vx4QcMn7O4s\n",
       "8J25Kt6FQGw/auFyrsrYfvUbwLKN0xIlqNdAph10w3as8jTj8NnpWWA3H9tje+L15J640BdFkPre\n",
       "tyMqgoHi4lb4hljurYZdbu/H4Q4+go1n7qmz4y+6YRt3Ht54aOwCux5ocla1igZp5dmIHHZ1eBOR\n",
       "93lkaYc3DdgimXpnVXsn85mrOZrLX9tHc8rqtdWnUoHG58zFa+ecOf4v8bvHs7d94sMAAAAASUVO\n",
       "RK5CYII=\n",
       "\" style=\"display:inline;vertical-align:middle;\" /></a><br>"
      ],
      "text/plain": [
       "rationalsPosDefReduced: forall_{x in RationalsPos} [exists_{u in NaturalsPos, v in NaturalsPos} (((x * u) = v) and (gcd(u, v) = 1))]"
      ]
     },
     "execution_count": 22,
     "metadata": {},
     "output_type": "execute_result"
    }
   ],
   "source": [
    "rationalsPosDefReduced = Forall(\n",
    "           x,\n",
    "           Exists([u, v],\n",
    "                  And(Equals(Mult(x, u), v),\n",
    "                      Equals(GCD(u, v), one)), domain=NaturalsPos),\n",
    "           domain=RationalsPos)"
   ]
  },
  {
   "cell_type": "code",
   "execution_count": 23,
   "metadata": {},
   "outputs": [
    {
     "data": {
      "text/html": [
       "<strong id=\"squaresEqual\"><a class=\"ProveItLink\" href=\"_proofs_/squaresEqual.ipynb\">squaresEqual</a>:</strong> <a class=\"ProveItLink\" href=\"__pv_it/a596f8dc42ca9cc9c35026d8563382a532e75d320/expr.ipynb\"><img src=\"data:image/png;base64,iVBORw0KGgoAAAANSUhEUgAAAXsAAAAWBAMAAADTDSEIAAAAMFBMVEX///8QEBCIiIhmZma6urrM\n",
       "zMxUVFQiIiJERETc3Nzu7u6qqqp2dnaYmJgyMjIAAAAcRTyBAAAAAXRSTlMAQObYZgAABA9JREFU\n",
       "WMPVV0toE0EY/rpJmmSzieLjopdoUXxiaKA9+CBVoQdB60E9eDAUFYQeAuKLViweZKMUgwfrg8Ja\n",
       "xUpVCIhCQCQ0+May4MVahIgg1EPpxQc9iDM7M/ty1ybxoj98MPnzzb/fzv7/zD/AX9gQh4+VPL1R\n",
       "naEmviexZEOVOj40pF7uZ/Cz5oKX9w5HTfw7fjyB19TxpSH5iQKD7+tVvbxTHDXxp/x4AlfoJ+pv\n",
       "SP5bDl8b8/DFUww18X2IYxYSGqAUG5J/isPXbljDiPhK4QLDHHyL7MPjiL8aHR1sSH00x/CH7MqY\n",
       "w5D4wIMcc/Atsg9P4Ieq9nlQFJ9HlM2RlGIYboW8xMUivrAOJeXMNGotDHJLEjc0G52GUNy50mKG\n",
       "4llPZp1mPIFDQN5DZsBHvvWEiM6Q6oA0Qx3j09Q+GS/ZgXAWcaMW209QO8MnDjAEgvOxwQrKQjC+\n",
       "LcyAGYqvKZl1nPEEtnnvEHPLDxcNRPUtiLhqP1psR6yMmD21nrAC62UYClSh0t+asbuzEDF3Kvaa\n",
       "oRjxeiCHx4wnEIbkOBvkZ5UjXvLv9bQVHPKbMgZkLEBT0rW1EV+wiNCM3ffRyOxFDBqZsoB6f3I6\n",
       "DeHgczIPxYh01g7GE1D0sEm/W9mMS1m8KSrp9vRG68mP03p0JZRJVNJH00WnfARncaDL9Vzik1xy\n",
       "Lr+ETT52aaGv9PdxTqchvOTzUJy4S0PSKT9a3WtusxeuaVitY7jkXP13pVFIQ5DXFjySB0oOy2Al\n",
       "7WcjSXO09oNGMmwx3NNTsCcPnkOab+0TLATj28L0mqG4PTf2DsoTQP4gGTwjSUTKgLzR/gKkuCl/\n",
       "a1YpB6nkPeSVkrpX6UayUOOa61zP4qEoRWY74ShdnCPZ/t4MxULE3UU4YIbidhixLmfp4gF5B2We\n",
       "tpv1P/H7ZDuUTPnl2Vh/gg7eE6HJpF2+2LoC2eBC9zarVGWySgFrl5VFX1LhaENHyvybh7DxLTIL\n",
       "xW0c98B4AphHRF3rxErIVJpE5StCfvRWDuWbdLSGyi/b5YvPJ3evvbzCXeg9tAtMWCXRLIadHLeX\n",
       "l7rNv3mIhLuEOs1QIswbnccVgPHhe9CN0ElVPRujyUPkh/gyloOZfaqqJh+WmPyuOpqGEdtWihqa\n",
       "hpEam4YRG0SNLy6Ang7yEVK6k1aAjIRmOrhNSnd98Z9r2bgdi80m8dQ4qLMY46dQ9DzCXdeh0BWX\n",
       "2qCsckahbVik7oY5D+9j3pOfn6th5vZoclMGEbq60vcX30SftRTBbpJsF+iPDX0Xs/VdVyJ1Xlci\n",
       "NV5XxLL9xl+lniXeW2bjF+PNGcl94Pz2Oi+LE3VeFidqvCxO2OAxJT951ev2eWWoVMB/YMOVNXzk\n",
       "bIbWtWr/mtRfbSRUul3LCgkAAAAASUVORK5CYII=\n",
       "\" style=\"display:inline;vertical-align:middle;\" /></a><br>"
      ],
      "text/plain": [
       "squaresEqual: forall_{u in RationalsPos, v in RationalsPos} ((u = v) => ((u * u) = (v * v)))"
      ]
     },
     "execution_count": 23,
     "metadata": {},
     "output_type": "execute_result"
    }
   ],
   "source": [
    "squaresEqual = Forall(\n",
    "        [u, v],\n",
    "        Implies(Equals(u, v), Equals(Mult(u, u), Mult(v, v))),\n",
    "        domain = RationalsPos)"
   ]
  },
  {
   "cell_type": "code",
   "execution_count": null,
   "metadata": {},
   "outputs": [],
   "source": []
  },
  {
   "cell_type": "code",
   "execution_count": null,
   "metadata": {},
   "outputs": [],
   "source": []
  },
  {
   "cell_type": "code",
   "execution_count": 24,
   "metadata": {},
   "outputs": [
    {
     "name": "stdout",
     "output_type": "stream",
     "text": [
      "Theorems may be imported from autogenerated _theorems_.py\n"
     ]
    }
   ],
   "source": [
    "%end theorems"
   ]
  }
 ],
 "metadata": {
  "kernelspec": {
   "display_name": "Python 3",
   "language": "python",
   "name": "python3"
  }
 },
 "nbformat": 4,
 "nbformat_minor": 0
}
