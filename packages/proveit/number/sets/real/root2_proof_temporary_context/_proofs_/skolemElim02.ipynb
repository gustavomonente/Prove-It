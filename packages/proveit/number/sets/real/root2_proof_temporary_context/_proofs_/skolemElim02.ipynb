{
 "cells": [
  {
   "cell_type": "markdown",
   "metadata": {},
   "source": [
    "Proof of <a class=\"ProveItLink\" href=\"../../../../../_context_.ipynb\">proveit</a>.<a class=\"ProveItLink\" href=\"../../../../_context_.ipynb\">number</a>.<a class=\"ProveItLink\" href=\"../../../_context_.ipynb\">sets</a>.<a class=\"ProveItLink\" href=\"../../_context_.ipynb\">real</a>.<a class=\"ProveItLink\" href=\"../_context_.ipynb\">root2_proof_temporary_context</a>.<a class=\"ProveItLink\" href=\"../_theorems_.ipynb#skolemElim02\">skolemElim02</a> theorem\n",
    "========"
   ]
  },
  {
   "cell_type": "code",
   "execution_count": 1,
   "metadata": {},
   "outputs": [],
   "source": [
    "import proveit\n",
    "context = proveit.Context('..') # the theorem's context is in the parent directory"
   ]
  },
  {
   "cell_type": "code",
   "execution_count": 2,
   "metadata": {},
   "outputs": [
    {
     "name": "stdout",
     "output_type": "stream",
     "text": [
      "Beginning proof of skolemElim02\n",
      "Recorded 'presuming' information\n",
      "Presuming previous theorems (applied transitively).\n"
     ]
    },
    {
     "data": {
      "text/html": [
       "<strong id=\"skolemElim02\">skolemElim02:</strong> <a class=\"ProveItLink\" href=\"../__pv_it/b8dbb148266de6d380b6cc483b1f4ab1572986270/expr.ipynb\"><img src=\"data:image/png;base64,iVBORw0KGgoAAAANSUhEUgAAAwwAAAAaBAMAAADoNsZTAAAAMFBMVEX///8QEBCIiIhmZma6urrM\n",
       "zMxUVFQiIiJERETc3Nzu7u6qqqp2dnaYmJgyMjIAAAAcRTyBAAAAAXRSTlMAQObYZgAACQZJREFU\n",
       "aN7tWn2IXNUVPzvz3sy8NzO71iriWujEBZFUyWBqEkPYPlOazR/aTGyR/CHdYWm2X2l2oNFFq2Rb\n",
       "IVml1QlCEi0mzw9WDNpMiVSk1I67UGmy1hFLoTWhYw0tUTSLtWoWm+09536+9+ZNdhaTjtAHs3Pv\n",
       "nHvu/Z37u+fcc+9bgKU8tsf+fBMgNX4ndMVjjd8d+qVroHFsiTYNCkvt+VakogyQhq559obqXQQN\n",
       "sVnlePGGpfb7Nvv0+mTrw+ypnn9LHm0je+EzQAO8Ei/ONQCaWDjRWbdJdKPruK2rRkdH+8+bAfmx\n",
       "j0e3rwVwJ1rL3ZWTJUhVW9LQSx00uoSGtB8vvwvgmFzdHTwHWZfOvF5y3zt/FvSxZfITH3qVw/0q\n",
       "YM4U5D4At2nQUFU05GrCZ7uChkQxXj4AsJ99OROddTuDnlS8IDQM1wF+V4DX5erfNhaYV+YonwOY\n",
       "Nmh4S9FAVu3vlqDkzLVZ1ny50Lrp4LmCfXpqF4SGFSwnW1EHnfX8LUDDZQBjVXhM02Dv9tXegD5+\n",
       "rGvShx/reia0maZrkD966NC+znqleISB6QLQ8CD7jHlOJYaG0z6MlaDXUzSk1hcUDccPHXq60jU0\n",
       "rDHy/VD0SbL6x5OTd3e4b17E/rwGF4SGs4z1f1Fgffw6cPo1De5AAfZgeadPAVLQ8EuoKBr6Jid3\n",
       "1/+3BEwPeJKGZcbPrwflCTahWwHu6zBRwi1xUNj68vj4+JkOPEkvicXI7E8Anq9DhuU79RshMadp\n",
       "yFkXwQo8HLEW+aai4ZgMQwxaqhRx/9inZbtSm2aLgr/Pcy93axzbJgK+ehyfncWA3GLh5auUaVgP\n",
       "blvzfdq1Z9dqr6HKzL2hbCOD0smoNxi+JnQsMPohcV01zXrhMepKV8og8eHszHIKnk5tkAaWNPyC\n",
       "LQbEkGbnomxF0VCBA4oGq8icIw4a8CGE3bmWzZ4TINbNMJUtoJpheVHwWZi5N+FzbMMmqS/WTLn9\n",
       "b8SbaPAg8zL7OuDBZt9eyT2bKrlqqhmkoRdPhP+I0CC1EK7QyYDuh8Spqm56Q2gMIaPyDZLxefrq\n",
       "8cCFi6GvoGnwewrwPvteid3NSRryBfQBCa0C10IcNBAzzu1ubUGSEDknwe6Hb6zW643Ki4CfZOgH\n",
       "cwLbQc8877zpGXLnAzzD0WSOAvq4czkTlsEiOLySrtqhoJNGl/pR1BssZYTU4TQYnd4GuulUaIzb\n",
       "DN0peWyoSBrQc3FBqS16k4+LiNJxTQM7JNllRcMrcqNoAU3SQHbb9ZbNXOpqD5vfVQBDoJpheTHw\n",
       "e9gYLx0V2A6bNOz9gyl3GQ1OE2+I4B6KM+kG7cAcDq+kPSQr4A1FmZ/H0iB0OA1Gp1uNaaEjmTHG\n",
       "VkNXHteGizKjwx1pmZkpDdLOdgScKvXGaTjCPqcUDQfsMsRBkzSQ3cKDIs1OiRboM0OgmhENi4B/\n",
       "mNH2ai3gDYPv0XMqICdE930bveQMJO7i2znbCDkcUYEsRYbpWbU3oHG7AjSsL7MTOdeiotDhNBid\n",
       "VsC6CpcslikWGmNIGZYTDX1swH4aNOouk4Zd+Atbn4mqsUWfElRwaJm9TD03cMtWAY2KApqggdud\n",
       "jml2rUhjMFAM8T6nr7+qRDRE4WtFAb+Pfb0kM6VhIwv4OgTk5J9HKpRwXHNMRHy27DgcUYF0gVhO\n",
       "FYRPptCC7wZoqM/b0oeoyHUEDbpTlv/n+vzNfNlly4ExlAx1s2V1LgBxZE+Wrf/ghPjgnsXfVsGm\n",
       "BuybnfkOE9WFqbTF8tsbhJbFGL481dwhoFFRQBM0cLv3xTT7tdwJB4kG1izhb097REMUvlYU8Fkk\n",
       "zr9qg5kpce7F5ZGUY6ZEGx/k+L71CUasuoAjKnR3wU4f+ZMiutH6WCZs/SfLv/qdJyuJCa7Fi1xH\n",
       "0KA7tSbgkSG4mtNgTQTGUDLUtfgkDS6MqGDhjgywRbPqi281YBwtmrryK1U4vbDwEZupkjA1RVl4\n",
       "Qa0Q3MNLvQ0ZbagooAkauN0bY5ptxOnBxfcFomEj5qLviqAUha8VBXyYPdFITgtsrxnvQmRwE3I6\n",
       "iOXRqAwPwhfz9hyOqOSL/ALD+rwMtPOSXHWbnKynCkKLilxH0KA7xVv3dTDCB7CbgTGUDHXtUHJ2\n",
       "pzqv4JP1xe4gnqek41s63SdofyXXr6qgj0UBTdDA7d4Q0+xbOMsFPk9D4sXAGUFDC/hKMQQ/fIp2\n",
       "IHqKFmGKJ7Kj7hvOJRKOqNwEX6PR7XnZ+BKRvGga0l5PSW7sWOQ6ggbdKQaNHXCp8IZyYAwlQ93w\n",
       "WxJ27Nyucw1M31NNV2UO023fNwyDhEZFAU3QwO3eEtMM5z1Vfra2x6Op30JZmS28IQpfKYbgE7a/\n",
       "x58de9X7N9xAnPvhsVvyL3p0HlIV+53f3M8qJ+GZORnd1gGPxwYNpU1SC4uoo2nQnbrMzNutOX7g\n",
       "ytcDY0gZ6eZDlxDsNHwP/FTWHqccJSPBBy66wzQ4c39kByuCRkUJTdDAN86nYpodh/2+e2nhjZOs\n",
       "zfPkdQdzzRyVW8DXiiH4iM2dj6fhsJzYxGl24rCvAHfN78sOOKs/LKhKz8LCHKs8dKKwTl7E4j6K\n",
       "+7CmwRp5QGphEXU0DbpTzKE2XN3k5aQXGEPKqJz0Qq93JmD9gDqGYgS2rrw+cGEZR4P7w5uu8Tk0\n",
       "KkponAayG3f11s2+DJtr8MTPRqEKD+0cwc1/6k/TR6ncAr5WDMFHbPk2b0H/HKxmcXrLj8ZUjC0G\n",
       "+fiBScPT8HPZUBX1KVr38yVwqxmRjPaGxgjJFv8S9C+LewkatAHMW85ErXUz5mYoudVpRJq1gB+Q\n",
       "Rd6+leINuD36Utc52x9TMdZmk+4yDVu3WU3ZUBUNGlQ/GUjVRdIMvw2NEZIt5TK5LQ0vxNNgVoxm\n",
       "2QZk0dMOvulHdaLwA7IwtuNtbqxDEZg43+3FVfSDJ6Rs0bD15lnVhSqa0GQ/VsM6LgZ1i6ExQrJP\n",
       "nYZGGxpubtnsCTZFZMaOaLMW8AOyELZ2LziX/IaQrhCfY7ae45+Bkm2WZMLvRHaOxxq/I0zDuf5P\n",
       "KTBV2ZYX3csjdleXAJ+wJdtYtBb+/3TH81/2HEMsmkg0FQAAAABJRU5ErkJggg==\n",
       "\" style=\"display:inline;vertical-align:middle;\" /></a><br>(see <a class=\"ProveItLink\" href=\"../__pv_it/b8dbb148266de6d380b6cc483b1f4ab1572986270/dependencies.ipynb\">dependencies</a>)<br>"
      ],
      "text/plain": [
       "skolemElim02: forall_{P, Q1, Q2, alpha} (([exists_{y1, y2 | Q1(y1), Q2(y2)} P(y1, y2)] and [forall_{x1, x2 | P(x1, x2), Q1(x1), Q2(x2)} alpha]) => alpha)"
      ]
     },
     "execution_count": 2,
     "metadata": {},
     "output_type": "execute_result"
    }
   ],
   "source": [
    "%proving skolemElim02 presuming []"
   ]
  },
  {
   "cell_type": "code",
   "execution_count": null,
   "metadata": {},
   "outputs": [],
   "source": []
  }
 ],
 "metadata": {
  "kernelspec": {
   "display_name": "Python 3",
   "language": "python",
   "name": "python3"
  }
 },
 "nbformat": 4,
 "nbformat_minor": 0
}
