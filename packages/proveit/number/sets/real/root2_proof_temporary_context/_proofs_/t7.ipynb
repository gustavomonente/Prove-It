{
 "cells": [
  {
   "cell_type": "markdown",
   "metadata": {},
   "source": [
    "Proof of <a class=\"ProveItLink\" href=\"../../../../../_context_.ipynb\">proveit</a>.<a class=\"ProveItLink\" href=\"../../../../_context_.ipynb\">number</a>.<a class=\"ProveItLink\" href=\"../../../_context_.ipynb\">sets</a>.<a class=\"ProveItLink\" href=\"../../_context_.ipynb\">real</a>.<a class=\"ProveItLink\" href=\"../_context_.ipynb\">root2_proof_temporary_context</a>.<a class=\"ProveItLink\" href=\"../_theorems_.ipynb#t7\">t7</a> theorem\n",
    "========"
   ]
  },
  {
   "cell_type": "code",
   "execution_count": 1,
   "metadata": {},
   "outputs": [],
   "source": [
    "import proveit\n",
    "context = proveit.Context('..') # the theorem's context is in the parent directory"
   ]
  },
  {
   "cell_type": "code",
   "execution_count": 2,
   "metadata": {},
   "outputs": [
    {
     "name": "stdout",
     "output_type": "stream",
     "text": [
      "Beginning proof of t7\n",
      "Recorded 'presuming' information\n",
      "Presuming previous theorems (applied transitively).\n"
     ]
    },
    {
     "data": {
      "text/html": [
       "<strong id=\"t7\">t7:</strong> <a class=\"ProveItLink\" href=\"../__pv_it/50955043be5846e82c16dbb7c6c15fef2ba067ce0/expr.ipynb\"><img src=\"data:image/png;base64,iVBORw0KGgoAAAANSUhEUgAAAoIAAAAaBAMAAADRdCAhAAAAMFBMVEX///8QEBCIiIhmZma6urrM\n",
       "zMxUVFQiIiJERETc3Nzu7u6qqqp2dnaYmJgyMjIAAAAcRTyBAAAAAXRSTlMAQObYZgAAB7tJREFU\n",
       "aN7tWX2IVFUUP+7M7My8eW8UWiuVaNwtDQoadkHDz6ko/ykdJPygYKdNKU1rSNRcpTaFmFWkIWEV\n",
       "QXyyoGK0M1aLrZQOu9XWZjBqZUbq1KaQgS2lkLMl3fPuu+/d++a+2W22jYQu3Jk37553zu/97j3n\n",
       "3nMGoPL2BPzzrXr9Brg5mnf9JoDIiFT4EqOAy/+vM+HTKxVoA3h0RKbDqHlP6f1g3nGjS/p4KF05\n",
       "g3vklsvaE2BxCtSYGx5RwBjv4joyqBKlBbw+VwmD9aQrLeK9JbcAHOR+K68liWdKuYIVLgwOjQit\n",
       "Oi3zkUBq76CLAsZgCR5O4OBt5jiqZh0ZhGaAz1HocgUEBou4Dp1gBwF+EhZqlEAplDx8mKzfDhcG\n",
       "h0aEVsPyaQlNlNoDERavwGKQ4QlyQkyg3xxH1awbDNYB7MJnWipgUCXcwGlneC2CFuVvjM2Sj27n\n",
       "7K56kTCoRuQMDo3otGi5w/bP/Z8UJfawCbB4BRaDDE84agsxgUE23s11ZHAvjWZqtgIGx+BDzo1T\n",
       "TYJfWBwLMFjuK3n4ArmtjLN/t3IMDo1og2hZ6bXnQiuK9gIMjQCLV2AxyPAsabaFTAFvkY3v4zoy\n",
       "6M+C1nfo0M5KwuBe8qLBpNO/oiAq6zXuxmQMwo9c/OQYHBIRWhUtT+0TGOTs+dhi3ummwGKQ4VlW\n",
       "awkxATXJxlE168igh+j/PZXaVAmDJ0mvwgUfqr+XqOmujcOO7sYsRgYIzqqfSKUu1c40Hb6UwR6J\n",
       "j+FePBQitIr9sdaFU8yTxpkZPIO8PeaLdW4KkMEdPZN1hkcp+C0hJhBuqsvScVTNOjJYRRbmcs6H\n",
       "OHeUg8/Zl3PQRzACfQp7ycrLBgreCfCGDtvJrQfT4QEK54aeSYOGcVe9YrSozeB5vPKsN9pvHIND\n",
       "IUKr2HPPZlW2xI6t4Bg07MF0Q/GrJpvbOVWCAnTSCfALw0MCCA0hvEDmsnKdjqNq1tto4IeHpXuX\n",
       "h37Ndwxxk5uiUQBCRdwuNkF1dl8ead1IeLvDWN1AByMQSkrX4BF+D/3ZZrAsItMq6cHsJdAG2M35\n",
       "K20GBXvHaEjdyCYr51BACCLAH7Dw+CFYMK1YAsd1+JWOo2rWkUHfNXyiij9rLp4Vq7rVwsv8wbfm\n",
       "I5icEBi8hLsJ8YAxLdCoexD4XJ0QCTXk4SL4aXD3FCCTA9+AlMFG/k5HjcVgWUTMagwUskOqRYvB\n",
       "rTaDgj3leyPQ1bAYmHAoIAQR4C9ZeE4ZTiAKzAHlDzqOqllHBoNX8Vht5QHKBw35UEsfzLDwhnEC\n",
       "3+qZDe+rukcXGFxjvktjHqYijQC3g3LVgEp+ZeJsZ1mQHQ6DwVVpi8GyiGwG0YMC42ReLNhr+wxc\n",
       "GKQKCEEE+DULD9mJFzErTKAfvINyBvGNg4VFzNg3XYcgdMoDObVhesNM4zhH3kvbtluHDyNRFXoa\n",
       "1jRYx4x+058upGELLjScptCA4S7k13HzOJjHCfYm7TiYsBmcZ6xSevtK2vbisohsL8YdMhOV7SSG\n",
       "PZhDFZsn6Y0cg4ICNWYCp3hCUfMszQnAn+hWxjiqZp2tQWhdRj7ap1wEr7GzPrk0krNmvLF2JQlL\n",
       "pHV2vqmKcfB1M9oex/MmYQqODkJ1oQtDdiYLL9A0c2yMxEQzspeswfPcSbzA58WISJt9arkMEbcR\n",
       "kAV+UpedZnh780HcSZBBQQFhkAKneJA9ZJEXgKsYKqU7iY/sMPAuoVNZ6ytC2JiDeN9XNt6peh3N\n",
       "UzvVt58SGXzODJOZdHURPAloj2+GM4kc7vmBiLZOhQx5sDofICKenJPB+/HNZ3FRUOcZRETagvhi\n",
       "GSLuRDG2xTfeeaKuQgY5ewpLD62jU9yhgBBEgVM8S0xPFgRWEzej46iadbYX42YJnqgvCe0Ur4rP\n",
       "mng3w3nFYK0Tcj0ig5PZmm46QT5PnIvA/tqlTTFc60rT3W13gZ/gUOq/wHmNOwicdmc/mdOL9o3l\n",
       "Qm0GEe2eQjImCSLOkxY8VJd2ZHWep2/MFuxVs8t5fO7JKyAEUeAUDzok1IIo0H4fmrhovgrryKCG\n",
       "gVjTMUWrSsDiVCoVCcWD+aSFtwam+V5OpTYTBvf4RQaNfM3IfALCgdlOn46yiwPyCgt35kgLDCIi\n",
       "aILDMkRcUtbrduTm7AWhTFbXK2Z1Bh7jlw8kAsb4Aa6znMRomXTgW72azjg8EjF1ABRhEiToGvQu\n",
       "pC7A74h44o9DJiZP4S1f6paXJiJl64Pj4RmQIOIKA/1uDA63stAvrSxwQoKAtLIQZg+NSTc+Diry\n",
       "o8VAM189uBWatRb4GK+/BPjOccLNGYk7OZFtEQdYPqEw5fJqk2t1yzR+3ddcgogrFwTSyqBb+VBq\n",
       "r9VFQUl1yxYSBaTVrQwL4N6md0j82IbxguTPZvneNwkWnSCayLbufSVGFwRX/B5nVCG9q+uy8lKm\n",
       "VlIfcX+lUgZDP9TpJYiEAumRGy7/UgSGWWGlCiwGW0sqrKJAq0W9aQIZ/NqRspOoI5Qr6dc9JA5K\n",
       "2vMwzCr/Wel7auWr/HQ/dSIaVpX/7N+q8lfF3fCIAsb4Wa4bDK4tX37pKjvaMRr/+/j55Pc/3giD\n",
       "Wq68SL7saCg6mgzOXXkzMLhrZBreGw0Gb6L/i9cBzID/24jbXyzhrh0UfMMtAAAAAElFTkSuQmCC\n",
       "\" style=\"display:inline;vertical-align:middle;\" /></a><br>(see <a class=\"ProveItLink\" href=\"../__pv_it/50955043be5846e82c16dbb7c6c15fef2ba067ce0/dependencies.ipynb\">dependencies</a>)<br>"
      ],
      "text/plain": [
       "t7: forall_{a in NaturalsPos, b in NaturalsPos} ((gcd(a, b) = 1) => [forall_{p in NaturalsPos} ((p > 1) => [not]((p | a) and (p | b)))])"
      ]
     },
     "execution_count": 2,
     "metadata": {},
     "output_type": "execute_result"
    }
   ],
   "source": [
    "%proving t7 presuming []"
   ]
  },
  {
   "cell_type": "code",
   "execution_count": null,
   "metadata": {},
   "outputs": [],
   "source": []
  }
 ],
 "metadata": {
  "kernelspec": {
   "display_name": "Python 3",
   "language": "python",
   "name": "python3"
  }
 },
 "nbformat": 4,
 "nbformat_minor": 0
}
