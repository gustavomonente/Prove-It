{
 "cells": [
  {
   "cell_type": "markdown",
   "metadata": {},
   "source": [
    "Proof of <a class=\"ProveItLink\" href=\"../../../../../_context_.ipynb\">proveit</a>.<a class=\"ProveItLink\" href=\"../../../../_context_.ipynb\">number</a>.<a class=\"ProveItLink\" href=\"../../../_context_.ipynb\">sets</a>.<a class=\"ProveItLink\" href=\"../../_context_.ipynb\">real</a>.<a class=\"ProveItLink\" href=\"../_context_.ipynb\">root2_proof_temporary_context</a>.<a class=\"ProveItLink\" href=\"../_theorems_.ipynb#existsByExample\">existsByExample</a> theorem\n",
    "========"
   ]
  },
  {
   "cell_type": "code",
   "execution_count": 1,
   "metadata": {},
   "outputs": [],
   "source": [
    "import proveit\n",
    "context = proveit.Context('..') # the theorem's context is in the parent directory"
   ]
  },
  {
   "cell_type": "code",
   "execution_count": 2,
   "metadata": {},
   "outputs": [
    {
     "name": "stdout",
     "output_type": "stream",
     "text": [
      "Beginning proof of existsByExample\n",
      "Recorded 'presuming' information\n",
      "Presuming previous theorems (applied transitively).\n"
     ]
    },
    {
     "data": {
      "text/html": [
       "<strong id=\"existsByExample\">existsByExample:</strong> <a class=\"ProveItLink\" href=\"../__pv_it/88cb04807c9ea9fa58005411975b4b3ea7d61f2c0/expr.ipynb\"><img src=\"data:image/png;base64,iVBORw0KGgoAAAANSUhEUgAAAN4AAAAVBAMAAADbZk3zAAAAMFBMVEX///8QEBCIiIhmZma6urrM\n",
       "zMxUVFQiIiJERETc3Nzu7u6qqqp2dnaYmJgyMjIAAAAcRTyBAAAAAXRSTlMAQObYZgAAA0BJREFU\n",
       "SMe1Vk1oE0EU/ppssptkk/TgSS+hBQ9SbBCsCrUGPXhRs3jwmiI2oFQIUijWv55KI2griD+IuBap\n",
       "tQcpeBAvErRQ1CIRQfBgiahIe2hLrT8tRX0zk81ONpPixQe7L7M7b743733zbYC6dlv6HSoK/0Qx\n",
       "zzdv3SQbVrxywiL0cqaHuxIbf1DMDffT7d2fgewnGxgrPwwqVjVTaMtmsxulR94wHKdrkrtXbDin\n",
       "wIvxpX8DBq006yRRUuI5S1bME4aHAo/cDbbtfgXeW3YLrFExlhBNOk+f/RNeTZiZ4HjkYrRtc0KB\n",
       "d5r3ZpmuNeiVMt51JxjDdfFqwsKNHI9c9OX4+HVVq3N8zUXq2TLcCbGUu4n+ung1YfjM8Zj7NTh4\n",
       "VsU6Xos49etOEs2UWnMCV2yYSU/FlXhuGEY2X22hYj4XeOS6gDygDXXvPCHjGZzKmQIilM0lWlVr\n",
       "RCsQ5YTZ0cvsQtLBm6LRihTshoUL0VM6xcwIPHL7BOneAFMyns572to9vY0afAa45S9hkFiQk+Y8\n",
       "naizPzfMtM1Vjdr4WOCR0+FjW8mCpe9aA19lyOaDDYDdkMASNW1RPqIfU2o8NywMg7c5I/DImUWd\n",
       "PTgHlr4X7yecQKTtwHcP3rUXdfYnhSGeqMYLlY6wVFfg6wP2dqJPqmfgmxhQYdABH5Fa4/XsmOc2\n",
       "W80Xs/lwl2CuFIaMxe77BR455I/RTVtrYUpTWA00Snxh54gZNR4DMDodvgg75OHnlmCpp3L8ymER\n",
       "uxU+W+YLHrGUTb5O6F7O55wqRr7YqhgQjdGGNKXgL7jdm/PgWbGyPEth6YkhLvztAq/dKbAhuO0v\n",
       "BBNiLiucf+GHGLEyjDbtIZ7FrApe0KrgfaXzQHIZF3oih402jexmWXwReOQQZWSKC0nTUw2WrGfO\n",
       "4eALddB1X1Kgav3kbLCqNEPSs5zQs8ppytCr0EXoVtqjHtxIeIOl8PK6eo3Q4msUqt6o9LqsXgu7\n",
       "iFaboB297JVjbnnoRSOx7vcI4ZMHWuzqV/na75FsETzgVHS/t46NQWva7k2ipp41NiYDT0r4zr+F\n",
       "bq207v+J9yplP2/Vw3PCopTm1h7uZCvi4DT+r/0Fsrz8czdmo/cAAAAASUVORK5CYII=\n",
       "\" style=\"display:inline;vertical-align:middle;\" /></a><br>(see <a class=\"ProveItLink\" href=\"../__pv_it/88cb04807c9ea9fa58005411975b4b3ea7d61f2c0/dependencies.ipynb\">dependencies</a>)<br>"
      ],
      "text/plain": [
       "existsByExample: forall_{P, y} (P(y) => [exists_{x} P(x)])"
      ]
     },
     "execution_count": 2,
     "metadata": {},
     "output_type": "execute_result"
    }
   ],
   "source": [
    "%proving existsByExample presuming []"
   ]
  },
  {
   "cell_type": "code",
   "execution_count": null,
   "metadata": {},
   "outputs": [],
   "source": []
  }
 ],
 "metadata": {
  "kernelspec": {
   "display_name": "Python 3",
   "language": "python",
   "name": "python3"
  }
 },
 "nbformat": 4,
 "nbformat_minor": 0
}
