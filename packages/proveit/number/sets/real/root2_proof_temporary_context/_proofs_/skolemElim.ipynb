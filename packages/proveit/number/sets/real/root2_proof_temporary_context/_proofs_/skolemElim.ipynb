{
 "cells": [
  {
   "cell_type": "markdown",
   "metadata": {},
   "source": [
    "Proof of <a class=\"ProveItLink\" href=\"../../../../../_context_.ipynb\">proveit</a>.<a class=\"ProveItLink\" href=\"../../../../_context_.ipynb\">number</a>.<a class=\"ProveItLink\" href=\"../../../_context_.ipynb\">sets</a>.<a class=\"ProveItLink\" href=\"../../_context_.ipynb\">real</a>.<a class=\"ProveItLink\" href=\"../_context_.ipynb\">root2_proof_temporary_context</a>.<a class=\"ProveItLink\" href=\"../_theorems_.ipynb#skolemElim\">skolemElim</a> theorem\n",
    "========"
   ]
  },
  {
   "cell_type": "code",
   "execution_count": 1,
   "metadata": {},
   "outputs": [],
   "source": [
    "import proveit\n",
    "context = proveit.Context('..') # the theorem's context is in the parent directory"
   ]
  },
  {
   "cell_type": "code",
   "execution_count": 2,
   "metadata": {},
   "outputs": [
    {
     "name": "stdout",
     "output_type": "stream",
     "text": [
      "Beginning proof of skolemElim\n",
      "Recorded 'presuming' information\n",
      "Presuming previous theorems (applied transitively).\n"
     ]
    },
    {
     "data": {
      "text/html": [
       "<strong id=\"skolemElim\">skolemElim:</strong> <a class=\"ProveItLink\" href=\"../__pv_it/81e83cf1242a6096c615e28fb53d25b66b699bea0/expr.ipynb\"><img src=\"data:image/png;base64,iVBORw0KGgoAAAANSUhEUgAAAdUAAAAaBAMAAAATXtsRAAAAMFBMVEX///8QEBCIiIhmZma6urrM\n",
       "zMxUVFQiIiJERETc3Nzu7u6qqqp2dnaYmJgyMjIAAAAcRTyBAAAAAXRSTlMAQObYZgAABq1JREFU\n",
       "WMPVWG2IVGUUPjtz78zcO3dml1BI88fkgslqOYiayabTB+qPanclpB/hbpJDHxYTrS2Z0oKgKySO\n",
       "f9SK3CuC2UbugBH0J8YRCtxVpwihXGNKESzKRc1y3axz3q/7sTvXWXaDeuF+nXvv857nPec957wv\n",
       "QC1Nz+DpaYBI15swqaZ1bfFJJg3J26quIkCq+vtQzUhriW8HQHTySu31PUdhapqB6q0MGOSOWoF+\n",
       "xiNp/+e5WuXq70/ViBMm51jIFTPexTZBNYQKn//bXGFz9fdRNFWFbs4H4/Tid8YIVyyczWafs2vq\n",
       "/uzf27MX8NMjcmrmx+WapEuiPBVcGwMmbBpgQPpoQDuBh5V2jMCUrqHdBojNBLgsHs2Ki2tecbUK\n",
       "YoZMnmtvwPthgP107Q7GuQePusKEueqjAPGrkEhLQcnF9YLiynrfPyU+HC1U/+AtPqBWIRhmRPjx\n",
       "BLmGruMxClH19UGHq77DVvOVvGpgSriGXUbb6ftgKU6Uk319+4JhEg14+homzDWGbhO5Dg56MqO4\n",
       "Rh5NKa5DfX0f5aaEa6jBETzj++BePP7s6dlyhzBM82x5DVwNdm6Vj/X4X2+aAobZmII9NpvzgutR\n",
       "yCmu9T09O4pQE6RrqiuZNXuR5KqNuCwkp06pkSohaEFH2sDMre3euPQl5njNJ/xhIkae0SMUs7q6\n",
       "ut5WXDVxbRxchmeu8KfyZXsR4jiMu/AnrQEWYPcVxXVAei1CRloh5oyegFx948R22wfJdbPA043R\n",
       "CQfzH3Ou+u/MNl2sXePv92XMGSZO0nYcnMd4fEQf/Yr+vAj6TB/XJMFcGteuMX45kIE2W4rD8u2C\n",
       "jYMLbRYU3kfXwMGK5xTXHBxQXLU0mhl8kDhxrJwXUuj2Ini6iRYhlm7iXI3rLrXjv7ALjva2EKrR\n",
       "m6HOQpTbskAjD3sQYYk/BZI3vB7A1ZiBXXfAsyK1yHJsN3eQaQB2XQqu4rAPS66JFFlTQubg/jFc\n",
       "Ix0QGvZCct30orebFTZOsiLnarq5wtFpNCTo1svJFfozVFgxBlu5m26VYcht17TMEVW4RsvMDhuE\n",
       "UObTP0ByxclC7uVwxSpG71BcT0FuDFfExLnjgeS6RVq93dyNFGbZ49jV2Ehq1uEEPH4SuF2NClX2\n",
       "5k0IbRaBbAGb8fNVuIgRzHYPV20OK7qEYhTi0Ag54GJhJP2aSmwY2QhZUz58TOlKkAeIt9W4ZoOL\n",
       "a38e7rNpDEqL57QySKEb/aBkqDgmceuWiE36Tebdv/HGLNKPNM5QTm2nx53PU0QYnT8gpyYLuZ2w\n",
       "3pK1HcWmFzxcrXq7zVHsEgvWRg64+DMnvVLbxUaKBsyJTZcFXw4Z24tj3hSpdLq4tpQGC4CQIfvV\n",
       "aIZBCt0whTkybH8h14Zx4rBW4ckAfe64jMNwjBzIEm/ImLN4Vv7hcVkTNAjbOVzfWwVzHcVGyVeK\n",
       "Wjdw8Wrh+iNOhbkEWrDPcFFw1btFNc4h4w9SDkmW3T58munbDTr8ChxS6Ia3joxBw9BwK+eacOXX\n",
       "ozxaYBxJnNHlzKynrB7j2QhjCP8BS8JHZIJio9Ui6qYkRvPXbGiG9Y5idzEoWiIy8TreyZUbvFxY\n",
       "hcfh2SvQhZKtgmuEMl4opYbvKtMj7+a6Ta06yS/XObqxRaqUkZVOnYfm1Ni6SU71wfPlcInXTfg/\n",
       "sagviOj3SWFPhnfcrvIsRZe6jGcB1gnTHcWy5jljGjMWE/uWzLxGpInxoawRNacaYJDfs3TMBYLr\n",
       "LWl/fVjnkEI3qoeUzFc3JVP+isNpP6k7NnP32+b01LmLdJPMmGdM+bIZuP+5uG7Shh3FDq5JfJEB\n",
       "MyfEQ74SMw2RCssGpYD1qzF8mhcOHJJHGYTstSoWQSrdcMCkbAzX/uqrJVNN5dCVh/DcVoBD72Rx\n",
       "RNoKxsPfhFU9TmFIb/BwXTm34ihmLv2yw2ArZSZe5OtmJyaQWMq3pvNzNV95Yr7tQD5wjdllMxz+\n",
       "tnSSIJVuOM2lbAzXswFFvX8Thhx5LW0jeBc+EXp82c3VzMfKLofDZPkBwDwhrvhQj4A2ezF9nK9l\n",
       "XyLmfpgnrhVHt1DBkfm5bgrYl/DW1BAnZXp/tPmNy/4VVq27FIsUn/IoZtyeSQ9MHC9X2YP5DibM\n",
       "VTwgpNINupXMzzVRrM51yG9nBt8pblyNUmE87VJMGyp6FduBoUsrM/Ghye2tebhqnNAhl27wJEiZ\n",
       "n2vAgv9O2xEug2f4wiLq38wNe57Y5hk0Be4Pv+HnOmFI4XRNvv1h5LosYF062T2e/1n7B3WR1mAe\n",
       "EBSXAAAAAElFTkSuQmCC\n",
       "\" style=\"display:inline;vertical-align:middle;\" /></a><br>(see <a class=\"ProveItLink\" href=\"../__pv_it/81e83cf1242a6096c615e28fb53d25b66b699bea0/dependencies.ipynb\">dependencies</a>)<br>"
      ],
      "text/plain": [
       "skolemElim: forall_{P, Q, alpha} (([exists_{y | Q(y)} P(y)] and [forall_{x | P(x), Q(x)} alpha]) => alpha)"
      ]
     },
     "execution_count": 2,
     "metadata": {},
     "output_type": "execute_result"
    }
   ],
   "source": [
    "%proving skolemElim presuming []"
   ]
  },
  {
   "cell_type": "code",
   "execution_count": null,
   "metadata": {},
   "outputs": [],
   "source": []
  }
 ],
 "metadata": {
  "kernelspec": {
   "display_name": "Python 3",
   "language": "python",
   "name": "python3"
  }
 },
 "nbformat": 4,
 "nbformat_minor": 0
}
