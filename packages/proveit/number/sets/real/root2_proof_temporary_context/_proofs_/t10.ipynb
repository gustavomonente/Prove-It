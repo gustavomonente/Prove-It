{
 "cells": [
  {
   "cell_type": "markdown",
   "metadata": {},
   "source": [
    "Proof of <a class=\"ProveItLink\" href=\"../../../../../_context_.ipynb\">proveit</a>.<a class=\"ProveItLink\" href=\"../../../../_context_.ipynb\">number</a>.<a class=\"ProveItLink\" href=\"../../../_context_.ipynb\">sets</a>.<a class=\"ProveItLink\" href=\"../../_context_.ipynb\">real</a>.<a class=\"ProveItLink\" href=\"../_context_.ipynb\">root2_proof_temporary_context</a>.<a class=\"ProveItLink\" href=\"../_theorems_.ipynb#t10\">t10</a> theorem\n",
    "========"
   ]
  },
  {
   "cell_type": "code",
   "execution_count": 1,
   "metadata": {},
   "outputs": [],
   "source": [
    "import proveit\n",
    "context = proveit.Context('..') # the theorem's context is in the parent directory"
   ]
  },
  {
   "cell_type": "code",
   "execution_count": 2,
   "metadata": {},
   "outputs": [
    {
     "name": "stdout",
     "output_type": "stream",
     "text": [
      "Beginning proof of t10\n",
      "Recorded 'presuming' information\n",
      "Presuming previous theorems (applied transitively).\n"
     ]
    },
    {
     "data": {
      "text/html": [
       "<strong id=\"t10\">t10:</strong> <a class=\"ProveItLink\" href=\"../__pv_it/bf46bae40cbce3c1e468549b2112895b70433cc50/expr.ipynb\"><img src=\"data:image/png;base64,iVBORw0KGgoAAAANSUhEUgAAARcAAAAcBAMAAAC5TeaQAAAAMFBMVEX///8QEBCIiIhmZma6urrM\n",
       "zMxUVFQiIiJERETc3Nzu7u6qqqp2dnaYmJgyMjIAAAAcRTyBAAAAAXRSTlMAQObYZgAABCBJREFU\n",
       "SMfNV01oE0EUfsmmTbK7iT2IB0FM0QreggUtWiUi2pM2B1H8wRRRUIQS/EUtmIuSIsKeaj1IIz0o\n",
       "PTRFBS2KBvViVYyKoqKl/lSoB/GgoLnE93Zmdnd2tzFKQR+8zb7Zfd9+M+9nJgD/TvS25fDfyH3o\n",
       "/guvjTP0dRfOUcgYkOBGsE6Mhq6Z4eLGOQgDKVjHjVCdH4kXpnmw9c/ICBzb7XYB9DK/f1QfyBLU\n",
       "aNkxIIx73B7l6pXzbhynG8B+1GMAmoG/YaQ6QYNva3GJVvByyTmCxmDbSRu10WDqETXnwpHcQE/i\n",
       "ZQHqXkoaNB7Q6OeaFUguU86RKVC74HHKQlUnmHoDY8g4shs8o8sA6jBx/QrQT7+5WmQCIwCxpGMA\n",
       "DaUAgSYb9Q5Xtzxz4chuoVIojeFBeJ1q6jjLKn2kFpkBfCPsnCIagSw0/rTJXODKJWJYxSvjyG47\n",
       "blxHaAVXQm1Csw2nOTY0dLZm/j5Bld5AI16Bxu82mXiKqahhvtLRrAtHdptfrVKuEJGPqM2oP/L5\n",
       "Hp9EsW9X8SyzhBnhCqFG25fMZWmlJz3hCTqDa+LIbixYVB93UTtxmXYD9HrJKPZtHvWM8xkzOkuE\n",
       "utqIY+LFJpgCLDtCcoKxiDj7gYkju7Fl/I6XcdQMJtAa30JwkPnEkksxP1NiBsphqlF1nhlzLcvU\n",
       "kltmFlJumux6BI7sxmL5DS/XKKcwzmEIOiewuT0VnCOROYA6W3h2CUNJEqpSgTBWQsNXpnaDeUcZ\n",
       "FBBp1CdwZDf2KpHJoBbxbb0ctiButpa13Bgs11uXta4Qox98ySwwW2kgB8W0D5m+++Ah88HjZq9M\n",
       "hq9MdGKTgHg5OgTaUwVK0sqcsiLDyZChJeEcohZLcJuSMMsUs/SLKaxHhkecZE553FjO/MRLBxGi\n",
       "htC7Cy+DiyYhRGmnbduSkMnscSSwSYaM7QCLCXUEunFnsROYyQaQE7hP4MhudjWN82qCKzgl9VBD\n",
       "BeL0TEuPPZfJNPPSMyXNjGjPw6VZRI0kYoexCyglpiLcnx0biTl7juNyY/2c+kw772cwK0F51ZCF\n",
       "QUZGJwwHGWLc4aw0NOLVapVQ1Z0tfQvRTDMVGye/DUlND3FcbqxuqawmWQdGagXaN4JdsDmfzye0\n",
       "dLSc5XPhe0rKux24zgIXuYpggt92YKXzPXkzxbVQifV7MVI0Iq8LjWxlYG1Cbjkl70bpQq1ro7Ti\n",
       "KJMpFthGqVYs1kZmPei0urEUxEryaZGCKjXpXhfqtEeIiOHG8ZJ5wY8QMevcGdp5eSXAaUoI3LNc\n",
       "x9F9PocrCZW+Gfnt4crE8ZI5xGcXTsu+QcwZH8jh6Y6dLdx+xfU3x85hkN1YzCkJaCJv6jsDa8mZ\n",
       "+Xfgi9MvJpirE+XqDP1v8sMRfyqVAvxf8gu8WTaL7DLx+wAAAABJRU5ErkJggg==\n",
       "\" style=\"display:inline;vertical-align:middle;\" /></a><br>(see <a class=\"ProveItLink\" href=\"../__pv_it/bf46bae40cbce3c1e468549b2112895b70433cc50/dependencies.ipynb\">dependencies</a>)<br>"
      ],
      "text/plain": [
       "t10: forall_{a in NaturalsPos} ([not](2 | a) => [not](2 | a^{2}))"
      ]
     },
     "execution_count": 2,
     "metadata": {},
     "output_type": "execute_result"
    }
   ],
   "source": [
    "%proving t10 presuming []"
   ]
  },
  {
   "cell_type": "code",
   "execution_count": null,
   "metadata": {},
   "outputs": [],
   "source": []
  }
 ],
 "metadata": {
  "kernelspec": {
   "display_name": "Python 3",
   "language": "python",
   "name": "python3"
  }
 },
 "nbformat": 4,
 "nbformat_minor": 0
}
