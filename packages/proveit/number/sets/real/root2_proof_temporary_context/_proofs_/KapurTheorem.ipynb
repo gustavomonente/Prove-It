{
 "cells": [
  {
   "cell_type": "markdown",
   "metadata": {},
   "source": [
    "Proof of <a class=\"ProveItLink\" href=\"../../../../../_context_.ipynb\">proveit</a>.<a class=\"ProveItLink\" href=\"../../../../_context_.ipynb\">number</a>.<a class=\"ProveItLink\" href=\"../../../_context_.ipynb\">sets</a>.<a class=\"ProveItLink\" href=\"../../_context_.ipynb\">real</a>.<a class=\"ProveItLink\" href=\"../_context_.ipynb\">root2_proof_temporary_context</a>.<a class=\"ProveItLink\" href=\"../_theorems_.ipynb#KapurTheorem\">KapurTheorem</a> theorem\n",
    "========"
   ]
  },
  {
   "cell_type": "code",
   "execution_count": 1,
   "metadata": {},
   "outputs": [],
   "source": [
    "import proveit\n",
    "context = proveit.Context('..') # the theorem's context is in the parent directory"
   ]
  },
  {
   "cell_type": "code",
   "execution_count": 2,
   "metadata": {},
   "outputs": [
    {
     "name": "stdout",
     "output_type": "stream",
     "text": [
      "Beginning proof of KapurTheorem\n",
      "Recorded 'presuming' information\n",
      "Presuming previous theorems (applied transitively).\n"
     ]
    },
    {
     "data": {
      "text/html": [
       "<strong id=\"KapurTheorem\">KapurTheorem:</strong> <a class=\"ProveItLink\" href=\"../__pv_it/d8c614556cf18b903a78e8b68dce745bfad4eec80/expr.ipynb\"><img src=\"data:image/png;base64,iVBORw0KGgoAAAANSUhEUgAAAiUAAAAaBAMAAACa8DGJAAAAMFBMVEX///8QEBCIiIhmZma6urrM\n",
       "zMxUVFQiIiJERETc3Nzu7u6qqqp2dnaYmJgyMjIAAAAcRTyBAAAAAXRSTlMAQObYZgAABzFJREFU\n",
       "WMPtWW2IlFUUPjsz78737P4QCfozrmAg5U6GZhY1GKj9kJ0gYg1iJtFNa3VHKoYsdfRHjVI5/jAN\n",
       "qZ0gTNdwJwxEQRzWBcOPXC2MwmSoLDLSZVcHd7Xs3O/3ve87Mzqu0I8ueHbn7J3nPve595x77hWg\n",
       "VntOmkbay5k83Mu2IFMCiE4spqteByMlTEMtDfe4+ZHa/ImF9NSbbaQgzH9Xk9DQxGKeqvP3mdzM\n",
       "uOj/CJtTl4/5z4MA4d/jd6NJ9UH8+rSDGJMXXmeawBqnCLi8uBphjbcN04tboEwcPzkvwzg3g+Du\n",
       "6up6ybRhwj3Xu1bNBQhkuaMZIUM2TSK07+2tpH2Qc7e6cu/jz922vitof6bJVAesUFzHkrwry3ND\n",
       "Jt42TFcM4AT5fMmRZSjGzaCctmwtqOWGAkSEL1CWmviVJqHi7QefwyDXAbbitP+w9d1n0qTXURMb\n",
       "luCdBf9kULztmMMAO8gsso4sm4rcONBNYso/EoVvpWNAahKJSU0o8A5oUBNjBD9fg3DMPueo0sRb\n",
       "vBNNkvjNnoSJt44Jb7FVDBUdWfYWuHHQpB1HbS/Bm9LxqdSkc43KJ2QDnmhUE9cYzngMvPapBVqV\n",
       "Jm7Tgm6qq0k7+tbnTbx1TJiDEXa8r2+7M8szwjhosgX/9cT9Ko1G4kKTpW1Kk/N9fXvSjWriQ5ZH\n",
       "suDE7leliatVuTvrarIBs+l18KerYsIUErS53NvOLJ8UxkGTf5DRKE1IgbYV8wZo3mFMAmWv0qQl\n",
       "l3u3VEUECmfU0KQlBcHJNIkGpkZhK0tLntXxFwGOKk0846YUGqunSQXgy5SZt44JHTjOMrrlPFu6\n",
       "57yCnoWV2RvF93PCDEIok8msN4f6TYADJfBhCv8Cvo+uQzplziRUFKGImjQnwKe+xvYRHyrEjsC4\n",
       "0kQfJLly2mgCAI+ekKcV2plz99lHMFguKE2Ma8TtztA2KjTRsQTvytmeWWDmrWNCEod8mp4ZJEaO\n",
       "EaVbwSsW9jdhHEK9cvLodJbfjsPpwjM4uTTXxAv+stTEE6P5nLesjMlj7OzD9lj1fdJegAsFmvR2\n",
       "ustshQAKNGcfUJr4r5qrjD9r7xPXOIQvWXjrmNAbJ3NwkQKiC+hKuFPQLILtNWEcQp1t2KY4AaRs\n",
       "jWHO5CzdeqJmS8NDNk3oUAZXfld1TTD2W7DXJByjKQojYqk3k8VUmgSuWk7USTU1ISnqpoW3jgn9\n",
       "cVIc0/hfy8LEG4Umca36RRiHUE9LTYCxlZrgqfO80uSUuZrlmtChMKpYbs5X1QRjvzdFNcEgZyEC\n",
       "/IKTrLJP/N35mppgivJXLLx1TLpP/GUyhcAYuMgZ2p8IzBQ93xFG0h2YNY1NJcmSGa0NGFsPj51g\n",
       "TM6TqPEJuULOS7EKnGnChvJyt2tI12T7pW1s8f7GYydGYwczvThegvSStsCUT8ZoPrnMWt4aO5yw\n",
       "gITkEARHLbx1TEgSiE1LyZRuPkjriI62h6W6y4URdF2FVd64LE+A5apDrmGYrnIs0SMYk5r4PkRn\n",
       "adxoVZqwobZzdzCla/L4ebZRXcj5dDRAciyujI/32w+QsuRY87njKVvPHUFYQEJ7AkIjUDDx1jHp\n",
       "uQP7CfcQR/sG3HKzTxFG0DXgL/6nKwVR/Xtu+IbJJc1dYkw6Qd7LCFDwUaT+WdqVVZqwoRZytydr\n",
       "i529PKqGSam8k5yRMBs6hqAfv2isPTUDh3lCaRI21Sf7ClZNJOG9gjcyGvEXFW8bJqvKWoiGPn6y\n",
       "vwfhYTECVayD1rERPNpW429jvHK5tQR4wASWTJ9KrpCRBGNCNh20qXsxCVp3qTmqNGFDzeduoyw1\n",
       "4YME2B50X6kMQWhjlOxp2NX2VB68KLUbzmBtBRed69hlsmazEuaQyHslwNdtJt42TFLHotBk6i28\n",
       "prgBbqk7zUTEDMr8PGxYc5aqkT/nqxNXlRjV5EeSduJNCaUJG6qTuz3W2MG2DV6wjMFqe1I7HpJ1\n",
       "eFppEolqZSCYbuicsA5p4q1jws+qPkI4/2YwxvEoXsx97hI3gm5vqByyYjvdAe3vJ95Eh+ncoUmM\n",
       "aEjd4ZKmib/7sPVKisVpc5meuCWnO2B/ododkBPeUbBBmnjrmAGZnlxXsHYy7odjlbyxUQhPE6PR\n",
       "quju+m7guHbeO7wV2DXxLPlAaUKHom831O2Oa5qEjfu0WW4C75APSQWiTm8F56C6JpTws0U7pOKt\n",
       "Y4a1x8egBv0qN4NVL27ybcaXr6HJHnp2yPqErUKRuSOgx46t7QZP2yyiluX+KzR5o4YmrBVr8LZh\n",
       "ehPWngcdnlmIeeBi3Te8H3CWVd8eu/kZadnAWeY+LD5XH8T29hjGBZjB3x7DTldM17qE9VWx/tuj\n",
       "wDyv+W3vnjGQxcbdvFEvOgl2TRZRd6BhdP5GXf/FKnxHkNl6Pb6SppGW0f9/J6Y/CuOKFhqXZEEG\n",
       "NZk7sc/27gL83xzavwAEbP/qU4B8AAAAAElFTkSuQmCC\n",
       "\" style=\"display:inline;vertical-align:middle;\" /></a><br>(see <a class=\"ProveItLink\" href=\"../__pv_it/d8c614556cf18b903a78e8b68dce745bfad4eec80/dependencies.ipynb\">dependencies</a>)<br>"
      ],
      "text/plain": [
       "KapurTheorem: forall_{P, R} (([exists_{x} P(x)] and [forall_{y | P(y)} [exists_{z} R(y, z)]]) => [exists_{x, z} R(x, z)])"
      ]
     },
     "execution_count": 2,
     "metadata": {},
     "output_type": "execute_result"
    }
   ],
   "source": [
    "%proving KapurTheorem presuming []"
   ]
  },
  {
   "cell_type": "code",
   "execution_count": null,
   "metadata": {},
   "outputs": [],
   "source": []
  }
 ],
 "metadata": {
  "kernelspec": {
   "display_name": "Python 3",
   "language": "python",
   "name": "python3"
  }
 },
 "nbformat": 4,
 "nbformat_minor": 0
}
