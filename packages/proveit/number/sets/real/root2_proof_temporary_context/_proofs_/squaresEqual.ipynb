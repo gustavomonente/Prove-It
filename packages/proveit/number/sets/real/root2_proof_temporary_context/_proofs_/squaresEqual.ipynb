{
 "cells": [
  {
   "cell_type": "markdown",
   "metadata": {},
   "source": [
    "Proof of <a class=\"ProveItLink\" href=\"../../../../../_context_.ipynb\">proveit</a>.<a class=\"ProveItLink\" href=\"../../../../_context_.ipynb\">number</a>.<a class=\"ProveItLink\" href=\"../../../_context_.ipynb\">sets</a>.<a class=\"ProveItLink\" href=\"../../_context_.ipynb\">real</a>.<a class=\"ProveItLink\" href=\"../_context_.ipynb\">root2_proof_temporary_context</a>.<a class=\"ProveItLink\" href=\"../_theorems_.ipynb#squaresEqual\">squaresEqual</a> theorem\n",
    "========"
   ]
  },
  {
   "cell_type": "code",
   "execution_count": 1,
   "metadata": {},
   "outputs": [],
   "source": [
    "import proveit\n",
    "context = proveit.Context('..') # the theorem's context is in the parent directory"
   ]
  },
  {
   "cell_type": "code",
   "execution_count": 2,
   "metadata": {},
   "outputs": [
    {
     "name": "stdout",
     "output_type": "stream",
     "text": [
      "Beginning proof of squaresEqual\n",
      "Recorded 'presuming' information\n",
      "Presuming previous theorems (applied transitively).\n"
     ]
    },
    {
     "data": {
      "text/html": [
       "<strong id=\"squaresEqual\">squaresEqual:</strong> <a class=\"ProveItLink\" href=\"../__pv_it/a596f8dc42ca9cc9c35026d8563382a532e75d320/expr.ipynb\"><img src=\"data:image/png;base64,iVBORw0KGgoAAAANSUhEUgAAAXsAAAAWBAMAAADTDSEIAAAAMFBMVEX///8QEBCIiIhmZma6urrM\n",
       "zMxUVFQiIiJERETc3Nzu7u6qqqp2dnaYmJgyMjIAAAAcRTyBAAAAAXRSTlMAQObYZgAABA9JREFU\n",
       "WMPVV0toE0EY/rpJmmSzieLjopdoUXxiaKA9+CBVoQdB60E9eDAUFYQeAuKLViweZKMUgwfrg8Ja\n",
       "xUpVCIhCQCQ0+May4MVahIgg1EPpxQc9iDM7M/ty1ybxoj98MPnzzb/fzv7/zD/AX9gQh4+VPL1R\n",
       "naEmviexZEOVOj40pF7uZ/Cz5oKX9w5HTfw7fjyB19TxpSH5iQKD7+tVvbxTHDXxp/x4AlfoJ+pv\n",
       "SP5bDl8b8/DFUww18X2IYxYSGqAUG5J/isPXbljDiPhK4QLDHHyL7MPjiL8aHR1sSH00x/CH7MqY\n",
       "w5D4wIMcc/Atsg9P4Ieq9nlQFJ9HlM2RlGIYboW8xMUivrAOJeXMNGotDHJLEjc0G52GUNy50mKG\n",
       "4llPZp1mPIFDQN5DZsBHvvWEiM6Q6oA0Qx3j09Q+GS/ZgXAWcaMW209QO8MnDjAEgvOxwQrKQjC+\n",
       "LcyAGYqvKZl1nPEEtnnvEHPLDxcNRPUtiLhqP1psR6yMmD21nrAC62UYClSh0t+asbuzEDF3Kvaa\n",
       "oRjxeiCHx4wnEIbkOBvkZ5UjXvLv9bQVHPKbMgZkLEBT0rW1EV+wiNCM3ffRyOxFDBqZsoB6f3I6\n",
       "DeHgczIPxYh01g7GE1D0sEm/W9mMS1m8KSrp9vRG68mP03p0JZRJVNJH00WnfARncaDL9Vzik1xy\n",
       "Lr+ETT52aaGv9PdxTqchvOTzUJy4S0PSKT9a3WtusxeuaVitY7jkXP13pVFIQ5DXFjySB0oOy2Al\n",
       "7WcjSXO09oNGMmwx3NNTsCcPnkOab+0TLATj28L0mqG4PTf2DsoTQP4gGTwjSUTKgLzR/gKkuCl/\n",
       "a1YpB6nkPeSVkrpX6UayUOOa61zP4qEoRWY74ShdnCPZ/t4MxULE3UU4YIbidhixLmfp4gF5B2We\n",
       "tpv1P/H7ZDuUTPnl2Vh/gg7eE6HJpF2+2LoC2eBC9zarVGWySgFrl5VFX1LhaENHyvybh7DxLTIL\n",
       "xW0c98B4AphHRF3rxErIVJpE5StCfvRWDuWbdLSGyi/b5YvPJ3evvbzCXeg9tAtMWCXRLIadHLeX\n",
       "l7rNv3mIhLuEOs1QIswbnccVgPHhe9CN0ElVPRujyUPkh/gyloOZfaqqJh+WmPyuOpqGEdtWihqa\n",
       "hpEam4YRG0SNLy6Ang7yEVK6k1aAjIRmOrhNSnd98Z9r2bgdi80m8dQ4qLMY46dQ9DzCXdeh0BWX\n",
       "2qCsckahbVik7oY5D+9j3pOfn6th5vZoclMGEbq60vcX30SftRTBbpJsF+iPDX0Xs/VdVyJ1Xlci\n",
       "NV5XxLL9xl+lniXeW2bjF+PNGcl94Pz2Oi+LE3VeFidqvCxO2OAxJT951ev2eWWoVMB/YMOVNXzk\n",
       "bIbWtWr/mtRfbSRUul3LCgkAAAAASUVORK5CYII=\n",
       "\" style=\"display:inline;vertical-align:middle;\" /></a><br>(see <a class=\"ProveItLink\" href=\"../__pv_it/a596f8dc42ca9cc9c35026d8563382a532e75d320/dependencies.ipynb\">dependencies</a>)<br>"
      ],
      "text/plain": [
       "squaresEqual: forall_{u in RationalsPos, v in RationalsPos} ((u = v) => ((u * u) = (v * v)))"
      ]
     },
     "execution_count": 2,
     "metadata": {},
     "output_type": "execute_result"
    }
   ],
   "source": [
    "%proving squaresEqual presuming []"
   ]
  },
  {
   "cell_type": "code",
   "execution_count": null,
   "metadata": {},
   "outputs": [],
   "source": []
  }
 ],
 "metadata": {
  "kernelspec": {
   "display_name": "Python 3",
   "language": "python",
   "name": "python3"
  }
 },
 "nbformat": 4,
 "nbformat_minor": 0
}
