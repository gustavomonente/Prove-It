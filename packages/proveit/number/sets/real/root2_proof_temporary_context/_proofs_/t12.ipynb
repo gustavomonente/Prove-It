{
 "cells": [
  {
   "cell_type": "markdown",
   "metadata": {},
   "source": [
    "Proof of <a class=\"ProveItLink\" href=\"../../../../../_context_.ipynb\">proveit</a>.<a class=\"ProveItLink\" href=\"../../../../_context_.ipynb\">number</a>.<a class=\"ProveItLink\" href=\"../../../_context_.ipynb\">sets</a>.<a class=\"ProveItLink\" href=\"../../_context_.ipynb\">real</a>.<a class=\"ProveItLink\" href=\"../_context_.ipynb\">root2_proof_temporary_context</a>.<a class=\"ProveItLink\" href=\"../_theorems_.ipynb#t12\">t12</a> theorem\n",
    "========"
   ]
  },
  {
   "cell_type": "code",
   "execution_count": 1,
   "metadata": {},
   "outputs": [],
   "source": [
    "import proveit\n",
    "context = proveit.Context('..') # the theorem's context is in the parent directory"
   ]
  },
  {
   "cell_type": "code",
   "execution_count": 2,
   "metadata": {},
   "outputs": [
    {
     "name": "stdout",
     "output_type": "stream",
     "text": [
      "Beginning proof of t12\n",
      "Recorded 'presuming' information\n",
      "Presuming previous theorems (applied transitively).\n"
     ]
    },
    {
     "data": {
      "text/html": [
       "<strong id=\"t12\">t12:</strong> <a class=\"ProveItLink\" href=\"../__pv_it/11b5bb86ffa5b0b8b78d5135ab111bc9a0ff19140/expr.ipynb\"><img src=\"data:image/png;base64,iVBORw0KGgoAAAANSUhEUgAAAVAAAAAXBAMAAACv7AqKAAAAMFBMVEX///8QEBCIiIhmZma6urrM\n",
       "zMxUVFQiIiJERETc3Nzu7u6qqqp2dnaYmJgyMjIAAAAcRTyBAAAAAXRSTlMAQObYZgAABElJREFU\n",
       "SMfNV12IG1UU/jbJ7GYmM0kFV8Gn2IXqgw+BPIh1F6eK+FLYdB9cRaGhupSWQhcq/tNGn2bpy1DQ\n",
       "lpXSKYLCinakhFpQDEZpWUVjtdCitqFVHxTsgiv2R1rvnTNz753ZmWoD/hz4ksmec7/77b3nnnsG\n",
       "+AdN8/6rwXHbr2CFHWUwbRGXsJJLyGCFHBwQ8dA+//HdIDqNloBRdxoJ77AbzZXq3xIilTUmlBPx\n",
       "0E/5j58GEVp2Bd6AuZycsB/Nlep/J0Qqa0woJ+Kh+9iX3hpE6FcSa4Gbku6PorlS/WaVkMoaE8qJ\n",
       "eGiZ5azpDyL0OYlbge3JjDsYzZXqN1YRIptTWeNCD1K4tbiwsHcQnfqsxAUP25NJWrZprgz/9yFC\n",
       "e0RhTQgt2xR60XFeTNHRSZdniqdcTYLZLlFN1m/ZM8Y3tkZzJf2F46+s3gp0QQjNqklWImCD189N\n",
       "rfE4URA6o6y7YrV0oXnxVOxJsOn/kP+iUzUusan7JDTpN4dfwHHgDAjIPxPYr5KVCNjgzmbfbHGi\n",
       "IPQBOlc3LHTEl2CfTf7JV03zd0L/jdW+WRKa9L9WbuIscAQEUVl/jlhDAtPW/R9hLXGiIHQEuZ56\n",
       "Iez4GLc3VwqdHrdzt6hCh2wJoB6ckKv8w1jm9NCWSGjS71V8fOFhI3vcGCtYN4esIYFpG7gC8zIn\n",
       "CkLN3ogIfqs7gfdML+916zvqshQY79d7pdYi1pr1u+v3pgkNE/HpYG2WMNxPCFX9kx5ewgqh+jY3\n",
       "YiUCNrhwGcVVQqjef1hk9O55Dx9Ua2Zi608dXUDpRJ4fsIytPwxdlJ98H5Weh4K69ar/GAyWkA+B\n",
       "gPwvZK5gJQI22JzFoRonotC5J5nEiakxnq7M2u09Uqg1cWIGBf5ceuzRaifrMGkd5ISQoQ4+9Dqx\n",
       "wxTzn4d1m3KYwlrQl6xEwAaXa/jSE4cJh5lia11vyKV7v22+/bgUOtmYRjnY0MbiyZhQXjUi7P2s\n",
       "u1k4Dtj43Gog3yGhK/wXsYHV1HEQogz1JCsRsMGVljYKTkShFVb05u9AxTMCcW10ukLo/BocwOsk\n",
       "1OQkUijfkQgXrl37XTjYLr36DavTDRKa9BeWV9/Dvn4IEdqMwkoEbPDk/WNuQEShFv9nNmEdtGcd\n",
       "52UmdD8/XeFFsgnvYtpxnGqpofcYiZZ6habZm8oVGrsygrvHmCVE5qZdocciIiV0FOMamrSihSlJ\n",
       "MIonMEwrigerWU1JmqlNSexqrf3tpuS82pSExWEJT7XxCX/8Gvg2/Os+T7+kPQ+Tr65lw4pfq0VX\n",
       "IqWvFG1ewn/Iv26bV5RtnnFFbfPC1Gjirh6KjKOw06YlZLbBL50bY4mxm2ceawuaWY1zxoSicVZv\n",
       "oF3nom5p7i8a5yNXq5HyZOidLEdV84MThxzL0Rt9FTnNxzWyXkUsl3CdV5FwcECUEaq82YwM1Kn+\n",
       "62bhvq3/Fy1/Av/kaBfRons3AAAAAElFTkSuQmCC\n",
       "\" style=\"display:inline;vertical-align:middle;\" /></a><br>(see <a class=\"ProveItLink\" href=\"../__pv_it/11b5bb86ffa5b0b8b78d5135ab111bc9a0ff19140/dependencies.ipynb\">dependencies</a>)<br>"
      ],
      "text/plain": [
       "t12: forall_{n in NaturalsPos, p in NaturalsPos} (((2 * n) | (2 * p)) => (n | p))"
      ]
     },
     "execution_count": 2,
     "metadata": {},
     "output_type": "execute_result"
    }
   ],
   "source": [
    "%proving t12 presuming []"
   ]
  },
  {
   "cell_type": "code",
   "execution_count": null,
   "metadata": {},
   "outputs": [],
   "source": []
  }
 ],
 "metadata": {
  "kernelspec": {
   "display_name": "Python 3",
   "language": "python",
   "name": "python3"
  }
 },
 "nbformat": 4,
 "nbformat_minor": 0
}
