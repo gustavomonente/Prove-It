{
 "cells": [
  {
   "cell_type": "markdown",
   "metadata": {},
   "source": [
    "Proof of <a class=\"ProveItLink\" href=\"../../../../../_context_.ipynb\">proveit</a>.<a class=\"ProveItLink\" href=\"../../../../_context_.ipynb\">number</a>.<a class=\"ProveItLink\" href=\"../../../_context_.ipynb\">sets</a>.<a class=\"ProveItLink\" href=\"../../_context_.ipynb\">real</a>.<a class=\"ProveItLink\" href=\"../_context_.ipynb\">root2_proof_temporary_context</a>.<a class=\"ProveItLink\" href=\"../_theorems_.ipynb#t6\">t6</a> theorem\n",
    "========"
   ]
  },
  {
   "cell_type": "code",
   "execution_count": 1,
   "metadata": {},
   "outputs": [],
   "source": [
    "import proveit\n",
    "context = proveit.Context('..') # the theorem's context is in the parent directory"
   ]
  },
  {
   "cell_type": "code",
   "execution_count": 2,
   "metadata": {},
   "outputs": [
    {
     "name": "stdout",
     "output_type": "stream",
     "text": [
      "Beginning proof of t6\n",
      "Recorded 'presuming' information\n",
      "Presuming previous theorems (applied transitively).\n"
     ]
    },
    {
     "data": {
      "text/html": [
       "<strong id=\"t6\">t6:</strong> <a class=\"ProveItLink\" href=\"../__pv_it/4a508bb8e162a52824af522b329d0d793a4ea0190/expr.ipynb\"><img src=\"data:image/png;base64,iVBORw0KGgoAAAANSUhEUgAAAh0AAAAzBAMAAADBd6e7AAAAMFBMVEX///8QEBCIiIhmZma6urrM\n",
       "zMxUVFQiIiJERETc3Nzu7u6qqqp2dnaYmJgyMjIAAAAcRTyBAAAAAXRSTlMAQObYZgAACFVJREFU\n",
       "aN7tW2+ME0UUf9d2r+1225qAiCCxHoJ+IKFyikZAqkb8pJx+gBBN7rgoH1S86gX5Z/DADxwQTdVE\n",
       "AYNZQgIEoy2Si5zRXMMhJvyRBjSiUbjklARMkPAnkR7HOTNvZrvdnfb2uNvsRZ2kne3s29/O/ObN\n",
       "m/febgH+LyNU7hy4PgIoWgrrg1WlAlcBdro2Eo6sDQzcMgyUiVu2jkBfjvK+5KtK+YuEkx63+ODI\n",
       "6paPh8PHrSPRFV8T1lOri9Ukyddp1xREICue87EXq8ggHWnMkK9Q3i0+BLLnfKhjsd6eqi53yCw8\n",
       "8kUge85HKIn124PILTMrkwtl7yjho0vH5VKsLhZGgxd0bcFwZM/5aOXdQTX5oPsu3c7F7BkTIIO0\n",
       "XXOLD47sNR9RPsAzbLyB2+Evu8yjmdhFC30ulNZRwUewDesVaFQL8JDd1E0Cf5v4cUZ3iw9E9pqP\n",
       "RtxWlCusmqvD6zJPLJgQP7IJt/hAZK/5uI+PGbsxHtSrdk+sDbIN4kfMNRcVkb3mYxwfM3NS1esQ\n",
       "uWifuDx0lbxZ1wwqInvMh9LPl02B8dEHtT2dNj5y8GokI/aa/qHAz2+QH0t39P5RwIeY7uk43nXw\n",
       "U5PNwwglom9oVoVyVubq8uPKqjpcPsJbSBmGd8pvv5aH3XWLmm1+u9o85cO7jV/rbfNasMNu4/UY\n",
       "U9sY6JT3odOMTPhgduS3m+TDv2TJksU3vwfW8I10vOMrjlsbdltW4NokqBxV4dq3+zZ2XJuRIorm\n",
       "45yPI7Q+P4z1UuE+jjY5dEvVy87dBGEGxE3PWQTiOYjxcxpPJUAvO1bte1NkAhjNDJnwsZkqXZs3\n",
       "fDSiO6FcGuoVbIzMwU1abagOJ4WzJ7jrw+MDVrCdh2jYdMCETPiIEXXXct7w0YX3jfQNVaNAWY+r\n",
       "NGi9+XcAK/nhJ7wOFPF4uz1cKJaaGTLhI3p4z56PwBs+uPZHrzq+Is7XQO1jqCi2nvdCOC1MLa+1\n",
       "NB7HUlI+eDNDpvvL3+3tb3rEB99nh+BlxfnK/hxw1JPp1766/WTUdVNIKDylD3xJS6Qca57M9FBL\n",
       "SvngzQyZ8vEiwAb7jTV5f/LlfGjLly9/KzOYYEXg49hnzZr90C6wkpTsSNz6HcF9AN6h0m3hyxBe\n",
       "De+SUDhUhFDBEilnz6uM8Ci79nsG3VviA5sRmfLxuMzygh+rpy2nkk71AwUDFyoBm50kf9H5Ds0X\n",
       "Q5pbh9WYU+qjCZ2XaSjcA8GcJVIm55nBjqSl+sGbGTLlIwg+s0+zcHbKN87ottAxpfUg3NVUjY9A\n",
       "XibYbZywALPSwhEwaokP0GLt8wAvKBNEDy6agFpme8Yy70UpMmppKJyHmpQlUn6ERka0axelfCgm\n",
       "ZMqHVggavuDX9YVI22F42Oh2jK68T7vnwH5N9+vV+KCZULvgn3jCDizhw1HCBPkI6qA0cT5IEORL\n",
       "M5eOhsIpxkdZpNwLgb4h8BHuWSDOn+rcA5ETfshr9Q/Wz2JzRgYb3bRVh28SSQ2661vrcxX4yOoy\n",
       "wWvshAS46nrh9qNJwgcq9z7hia1mObZQkmkAhsJkvZRHyv38BoF0yX6cLfGBzYjM4pcNL5CvHVP/\n",
       "gACd1MhzixJ5Yxob614iBoaUjo73tYr2g178K0gElUtTdXJCAoz2FKnUnO8v3J6e45xQe0pGTpxS\n",
       "Ep5GMBQm9rQ8Ur5CzUnJcFr1w2pPYR9hRl1G1mCMWZ2Gwz+Wun2PPhkjnA7ts+cr8cEu3ggSQd8q\n",
       "X5KckADjfov+h8+5/4GZEqUN1wyzT2TzaNFhJqgPYChMTZ6IlLO0S0v50wy/bc/zFUvNNcL/gDhx\n",
       "bfxJJQ07sNsaReTdXgenVTa0Dsh32/mIkf32NZ1dTLTULkh62EPWjQQY/TF0haJXnPsfDLeWXuej\n",
       "HtmT5DNvGnFKtWMneChM9V9EysFVVPWn4X4Rs6ZA/ItvzDGa40nBR5QQXZPzNcHC9vb2RKQhXEgb\n",
       "3R4LM5UV7e3ryDC3BeX6wS8mYHbBmpSfnpEA406IfEQ4H+ratIQCGp4a6Zwsm8wAO24w/PXyp1kr\n",
       "TcdfmY53ySneZUI28h/ZTOgXvRanEZ4gzCvYXoSJ0ITTHniW98HGB7uY1HbBuF5DzaoE2JQXM9Jk\n",
       "EEvKOtxrSuc0WhLKJJ5TQC3Xr5MV3MIDcj4s8Ryf4kzjU6DRQURTEOUo4Y2wKtoG39LjH4BaTHl+\n",
       "jF1MilVwsx7UTzGDaQEu136Ay6VgXVL6TKmdLqvEBuLkhsppDJUcRNVEnyrPRYtmhmzwEWj+giyl\n",
       "TXRF/s4nmpydCAuOEnwiGViTwlmW8YEX2wWfySmvIAMWYGP35H1ZUwrW7YWGpyK1I3Ykcz5o3olZ\n",
       "lhGWshdROU0y9hiyJV/oI8u8LF+C1b3ELDjKn1oFc5WAhUHjTsLcUrAuCXjSptROy1DyheXlZ6ja\n",
       "3OIgf9o5vHxyZLDIN8odMfHY7WzdLLsQDU+N1I7zzOJQy3gHfBSGx0d00OcNPBHUiIqk3tCzdgpp\n",
       "eCpSO+FLbtGByKPqeRR96yFuX1Y0PA1bHlCMfBkVz6OE4eB2hATrWXveRISnzPil3eIDkb3mYz46\n",
       "ZIErwv2Yn5O4HwEjvxpPuMUHInv+vgP3HPDti3hB9hit3xT/Ttfd4gORPX8fpmyDiafUSXYZEZ6a\n",
       "7I0LBZE9f1/qDm5QmdmoLYQkDvvSUnjyr39fqvx9OnXGMYmICE8rxjcjUTiy53yIEfY6kt7rmvng\n",
       "yJ7zEeYg7zU4EP4PvI8LX/L168SxqHVtuQhk7/nw80htpgPZU67tLgJZ8f7/Hs18hgb3tEb7/z1G\n",
       "5v9AfnRR4f5BJXe6Zk05Mv0/0D8tpoX567t00AAAAABJRU5ErkJggg==\n",
       "\" style=\"display:inline;vertical-align:middle;\" /></a><br>(see <a class=\"ProveItLink\" href=\"../__pv_it/4a508bb8e162a52824af522b329d0d793a4ea0190/dependencies.ipynb\">dependencies</a>)<br>"
      ],
      "text/plain": [
       "t6: forall_{a in NaturalsPos, b in NaturalsPos} [exists_{a' in NaturalsPos, b' in NaturalsPos} (((a / b) = (a' / b')) and (gcd(a', b') = 1))]"
      ]
     },
     "execution_count": 2,
     "metadata": {},
     "output_type": "execute_result"
    }
   ],
   "source": [
    "%proving t6 presuming []"
   ]
  },
  {
   "cell_type": "code",
   "execution_count": null,
   "metadata": {},
   "outputs": [],
   "source": []
  }
 ],
 "metadata": {
  "kernelspec": {
   "display_name": "Python 3",
   "language": "python",
   "name": "python3"
  }
 },
 "nbformat": 4,
 "nbformat_minor": 0
}
