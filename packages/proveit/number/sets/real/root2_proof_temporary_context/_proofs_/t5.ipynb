{
 "cells": [
  {
   "cell_type": "markdown",
   "metadata": {},
   "source": [
    "Proof of <a class=\"ProveItLink\" href=\"../../../../../_context_.ipynb\">proveit</a>.<a class=\"ProveItLink\" href=\"../../../../_context_.ipynb\">number</a>.<a class=\"ProveItLink\" href=\"../../../_context_.ipynb\">sets</a>.<a class=\"ProveItLink\" href=\"../../_context_.ipynb\">real</a>.<a class=\"ProveItLink\" href=\"../_context_.ipynb\">root2_proof_temporary_context</a>.<a class=\"ProveItLink\" href=\"../_theorems_.ipynb#t5\">t5</a> theorem\n",
    "========"
   ]
  },
  {
   "cell_type": "code",
   "execution_count": 1,
   "metadata": {},
   "outputs": [],
   "source": [
    "import proveit\n",
    "context = proveit.Context('..') # the theorem's context is in the parent directory"
   ]
  },
  {
   "cell_type": "code",
   "execution_count": 2,
   "metadata": {},
   "outputs": [
    {
     "name": "stdout",
     "output_type": "stream",
     "text": [
      "Beginning proof of t5\n",
      "Recorded 'presuming' information\n",
      "Presuming previous theorem (applied transitively).\n"
     ]
    },
    {
     "data": {
      "text/html": [
       "<strong id=\"t5\">t5:</strong> <a class=\"ProveItLink\" href=\"../__pv_it/234b605b2b5c4ff9539b611011bbe0cebb3a621e0/expr.ipynb\"><img src=\"data:image/png;base64,iVBORw0KGgoAAAANSUhEUgAAAQ4AAAAmBAMAAADHF2h5AAAAMFBMVEX///8QEBCIiIhmZma6urrM\n",
       "zMxUVFQiIiJERETc3Nzu7u6qqqp2dnaYmJgyMjIAAAAcRTyBAAAAAXRSTlMAQObYZgAABFZJREFU\n",
       "WMO9mH9oG2UYx59LcmlzucvaP5xYLdzWrox1amygBa2Sodv+2B+eg64MhYUyC8Isg6KtWqTUfzLH\n",
       "5imonVB60rGNquRAAitsNFKHUBEPURjOH4HJBhO2UvvH0q7q++OSXJL3zaUNvfeP3PHc8773yfO+\n",
       "7/N83wNwbVJzcwbqaL9XeXaB/D7V3FLDOFJTPRTgyzLNod4u9PKA/bAmjpN1cewz2GY9soQuHV5x\n",
       "SA+xza3gH0fXiOURRzDBNPtXoUHF09PiEccxnWkWxiGl4ZtBjzhusc2pDMxTTsMTjlCOw2HCUBiH\n",
       "KqJ6wuFn71poVJU3ZXyjNG2E4xxq+mY4BJUz6MCuT9pJwFYoR9Yt5RGO7sHBwZbNcExrbh6PUY7v\n",
       "8eVOLfPy2mY4/nT1GKIckzg241vG0ePq8STliKB9I5tbxjHq6jGvEw5lcXb2U9gyjn/cE51J98v9\n",
       "ZHKs8mmmJg62HpAd98tkT/ywp53LkbIox6sApyqfRks5vhsZGclV9XLmDEffdVpbg7i2yndJK+u0\n",
       "TaUcz4OUdeXgxIN6Be5yOULrtLYGs9x4bMtQjgbwWQ7zlye6dVcOcfhb2JEoeC3Y5v7euG97CYe4\n",
       "hrmWQCifwf9wWyIcUcohWw35F16JWaEOkG/AQmw4ZvI4vlh4Fi7Lht8oeP1tdw6PL8LTcqwn9kwJ\n",
       "B6qt03F+PGyOUPaIbbk+Nwu+KZA69WrxUE5/ZsBVNSoXo5azO4d/8uOlWz4vKZWmM3t9JCoqL60v\n",
       "p46jn5mdhwJ41L45ANXicEhdQxpaT6il0x8VOcTlDoN0Dr98VC3lkJZpbT1bJfPb+wW+Ru+R3hBz\n",
       "EWz9FVlVlcNxUUNqgay4tPzVKwUO39u+KOkc1hZ/KeWAB6S0Kw/c8wfZOP6o2DSDrXswR6aC4zba\n",
       "ty0Qg36QyJM0ZBYKHKiGZ2cohyxHSzm2k9raucLneDFucygoswumL9GfTCbV9Bzl0Fj641Ekr8XR\n",
       "ZHICcUzh1U29hLifdg5rIQs5i4630AlRlipef+nhfCU0HPojpTeqQXKwQev0cZOtg6QcnJmFBI1H\n",
       "4HBxxRuCGaTxgP1leuMbKpYZ6eOm0yPPIejHNBn/O183yLt5euwRccWCa/juZ4DfbOOk0WBcB9JZ\n",
       "iYNSlijmifwUGAVgzSlg8xyBgR8BTpMyPPZBgsdxoLPNgkYUrcC7cQjaxpdM8USGdj74F0CCUT3k\n",
       "e8MVGIFVZ+Yvaqw/UCzQFAO8/4KLPt2N1oez0VmknSt1aIKzPGV71HCulKM3fzM5NadvRCeHq+pW\n",
       "hXc4jgy0mUUhXeDw/5vfIdLeLmMjHEp18bLGK/d3JBIJwfTmHPUET4YZVJvs8Og8J3AE+3MgkSTb\n",
       "6hGHwlEeNyGwVvw64sH3jwm2eR0f+QE+1L3iuMiemBX4HKUW6Z0NfIe5n1TrOWm/xTS/Du/h9GLR\n",
       "jLRay0h9fXo9AfmYaZ3ZixHOU48+7X9eSDPjBUVDowAAAABJRU5ErkJggg==\n",
       "\" style=\"display:inline;vertical-align:middle;\" /></a><br>(see <a class=\"ProveItLink\" href=\"../__pv_it/234b605b2b5c4ff9539b611011bbe0cebb3a621e0/dependencies.ipynb\">dependencies</a>)<br>"
      ],
      "text/plain": [
       "t5: forall_{q in RationalsPos} [exists_{a in NaturalsPos, b in NaturalsPos} (q = (a / b))]"
      ]
     },
     "execution_count": 2,
     "metadata": {},
     "output_type": "execute_result"
    }
   ],
   "source": [
    "%proving t5 presuming []"
   ]
  },
  {
   "cell_type": "code",
   "execution_count": null,
   "metadata": {},
   "outputs": [],
   "source": []
  }
 ],
 "metadata": {
  "kernelspec": {
   "display_name": "Python 3",
   "language": "python",
   "name": "python3"
  }
 },
 "nbformat": 4,
 "nbformat_minor": 0
}
