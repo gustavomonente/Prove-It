{
 "cells": [
  {
   "cell_type": "markdown",
   "metadata": {},
   "source": [
    "Proof of <a class=\"ProveItLink\" href=\"../../../../../_context_.ipynb\">proveit</a>.<a class=\"ProveItLink\" href=\"../../../../_context_.ipynb\">number</a>.<a class=\"ProveItLink\" href=\"../../../_context_.ipynb\">sets</a>.<a class=\"ProveItLink\" href=\"../../_context_.ipynb\">real</a>.<a class=\"ProveItLink\" href=\"../_context_.ipynb\">root2_proof_temporary_context</a>.<a class=\"ProveItLink\" href=\"../_theorems_.ipynb#t9b\">t9b</a> theorem\n",
    "========"
   ]
  },
  {
   "cell_type": "code",
   "execution_count": 1,
   "metadata": {},
   "outputs": [],
   "source": [
    "import proveit\n",
    "context = proveit.Context('..') # the theorem's context is in the parent directory"
   ]
  },
  {
   "cell_type": "code",
   "execution_count": 2,
   "metadata": {},
   "outputs": [
    {
     "name": "stdout",
     "output_type": "stream",
     "text": [
      "Beginning proof of t9b\n",
      "Recorded 'presuming' information\n",
      "Presuming previous theorems (applied transitively).\n"
     ]
    },
    {
     "data": {
      "text/html": [
       "<strong id=\"t9b\">t9b:</strong> <a class=\"ProveItLink\" href=\"../__pv_it/2964a6f9e301fa9a7eb50f9912cd6f8badb3b2030/expr.ipynb\"><img src=\"data:image/png;base64,iVBORw0KGgoAAAANSUhEUgAAAJkAAAAcBAMAAACADwDiAAAAMFBMVEX///8QEBCIiIhmZma6urrM\n",
       "zMxUVFQiIiJERETc3Nzu7u6qqqp2dnaYmJgyMjIAAAAcRTyBAAAAAXRSTlMAQObYZgAAAq5JREFU\n",
       "SMetlk1oE0EUx1822d3uR1IPRQVBVwQP4iGQg0VLWZCih4LJxSgeGsReRMGLBKxgoIJbveQi9taV\n",
       "QpEcmmBPomDAW0RYC0JAhfhxSjGW0oO1SvtmN9mZzccyhwy8yezM8Nv33vznbQC427t5G4bW9KLU\n",
       "GAZHNEkvF8WdQTtyaAIn7bLby6ayPWhHAS2W46M127/a3zAafOCCRY32QDZCaTIekpvZr2G0JRte\n",
       "HHIPNTiv/raaoB8b69CEJMB7Npb+ykD7gRZPdi2MOJjRMkit1tHWLwBlE2ARp5VCGO0I2i7aNEwF\n",
       "F6S7ggERP1KYA0hgtHolBKZg7mNo4sbrx95MPZ938yNdtGdBprRx9L9WKj0Lcy1+AF93ByCyt7fp\n",
       "Tlw51fHtaW7VZmjH0f5Y1v1e4TNHin4krp/w3Vf9JEvFl2KOoV3CMGcBFnpVweQat5ab6g5l0JFu\n",
       "rjO0mTTAeVAbEGsNpCVQ429t2PLpwHBvSlky8l6whDdQBsGhWspOmMLBAE1GYUyC+q/znGlha7Rp\n",
       "K/CN7iwjTXeIsxskI29SjlaowVk9dSZ1zvctSeQW2+08L7K+idUMI3OkKQ1yq0la6q9KoK1HoRrM\n",
       "G0b6H6L+HY2wNPhMA4cZEvDCDRTT1kk7RrSuXbtqBGkSpngbnjs91xYkzLpOXXXPFNZQTMI9IZlw\n",
       "60S69ilIE1Bvt2GeTsz5OSCqmaQLH0k3ii8bMeKNZY+m68kAjdyD5dMOnVh56FV08cFh7Ffpwrgr\n",
       "dlyMmNFc1rIsQ0srDvoqMmoZ6xbj9KN835r+vTMYtSMVyfMNprrK2ARniVb9g5LtOuhp4qgJ8Wpw\n",
       "V4aTFvdLuXgLEU9wcOGn981gC0+FjyanA48C5q1fBJwfvi9829a4doWXXNo0k+tjNMR/Al7bB6sm\n",
       "pDMW13pWAAAAAElFTkSuQmCC\n",
       "\" style=\"display:inline;vertical-align:middle;\" /></a><br>(see <a class=\"ProveItLink\" href=\"../__pv_it/2964a6f9e301fa9a7eb50f9912cd6f8badb3b2030/dependencies.ipynb\">dependencies</a>)<br>"
      ],
      "text/plain": [
       "t9b: forall_{b in NaturalsPos} (b^{2} in NaturalsPos)"
      ]
     },
     "execution_count": 2,
     "metadata": {},
     "output_type": "execute_result"
    }
   ],
   "source": [
    "%proving t9b presuming []"
   ]
  },
  {
   "cell_type": "code",
   "execution_count": null,
   "metadata": {},
   "outputs": [],
   "source": []
  }
 ],
 "metadata": {
  "kernelspec": {
   "display_name": "Python 3",
   "language": "python",
   "name": "python3"
  }
 },
 "nbformat": 4,
 "nbformat_minor": 0
}
