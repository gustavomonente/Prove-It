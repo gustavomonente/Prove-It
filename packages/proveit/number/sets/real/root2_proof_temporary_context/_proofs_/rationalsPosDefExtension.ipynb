{
 "cells": [
  {
   "cell_type": "markdown",
   "metadata": {},
   "source": [
    "Proof of <a class=\"ProveItLink\" href=\"../../../../../_context_.ipynb\">proveit</a>.<a class=\"ProveItLink\" href=\"../../../../_context_.ipynb\">number</a>.<a class=\"ProveItLink\" href=\"../../../_context_.ipynb\">sets</a>.<a class=\"ProveItLink\" href=\"../../_context_.ipynb\">real</a>.<a class=\"ProveItLink\" href=\"../_context_.ipynb\">root2_proof_temporary_context</a>.<a class=\"ProveItLink\" href=\"../_theorems_.ipynb#rationalsPosDefExtension\">rationalsPosDefExtension</a> theorem\n",
    "========"
   ]
  },
  {
   "cell_type": "code",
   "execution_count": 1,
   "metadata": {},
   "outputs": [],
   "source": [
    "import proveit\n",
    "context = proveit.Context('..') # the theorem's context is in the parent directory"
   ]
  },
  {
   "cell_type": "code",
   "execution_count": 2,
   "metadata": {},
   "outputs": [
    {
     "name": "stdout",
     "output_type": "stream",
     "text": [
      "Beginning proof of rationalsPosDefExtension\n",
      "Recorded 'presuming' information\n",
      "Presuming previous theorems (applied transitively).\n"
     ]
    },
    {
     "data": {
      "text/html": [
       "<strong id=\"rationalsPosDefExtension\">rationalsPosDefExtension:</strong> <a class=\"ProveItLink\" href=\"../__pv_it/6cea54c33c2a994d7da0bb26ed42e9cc23f7292c0/expr.ipynb\"><img src=\"data:image/png;base64,iVBORw0KGgoAAAANSUhEUgAAAS8AAAAZBAMAAACSpLXvAAAAMFBMVEX///8QEBCIiIhmZma6urrM\n",
       "zMxUVFQiIiJERETc3Nzu7u6qqqp2dnaYmJgyMjIAAAAcRTyBAAAAAXRSTlMAQObYZgAAA3xJREFU\n",
       "SMfVl09IFFEcx7+Os+7u+FYl6tRlUhCxwkXJLgarBtIpC6pL0CYlCBIbEpsgJh1i1UNDl8xYmv7Q\n",
       "wawWYquNgkH7A3ZooaDQij3kJSgkCMouvT/7f9+4aqzQD347M9/3ZvYzv/d77/0GKG4VwUFsrHUF\n",
       "rdV0c2LDze3/38HcV6it7z/CSS+wSgO2MgVLsItPxcDKe3t7j5vr4dJGhEusD7YyBXvNzr+uZigr\n",
       "jPWAVRnCJXYPtjIFm2CHkdKBvU26xIhuK1OwKjpAJFI6sMGky0a5xlamYJ65qanLKBmYOyBcal9s\n",
       "ZTYrf4VCQ5JWa1VgNutgRla8wrXavo6ZdEzqdFynIzWbd9uNZjjjXGZgJ4FRybO9OWAkGAyeM1bs\n",
       "JZddceHTeK8Pp8RytQZN9PiZp9R3buwWqx1OP5cZWCe0RFEwu4gVBXNGhM/hjbmPBYsvbeUJhOjx\n",
       "Ud6wR3aj0uIyA3NCiWc3T/e3GkXBHAPPsc1fAFYol/mEm5wEuM+CYJbp2ESPx/KynopqhMsMjMTT\n",
       "W472tCXurgdZwGzLQEvEDuzO7B48Jma5mdNLLqfAgB/iWXyv2W86fhaCQV2GgjSYO3E41fAhNgUl\n",
       "DG27sVLEPOOTJp7pXpIbV7mcGkpwkpS9gsKWiq6sHGPAJAAiZL5Xjp6gPzO76rtV9rxDMUCPy8HU\n",
       "l+y8k11Eo5cyBB1+Yknk7OR/oiyhMa1egGtkPpn82fWVH1Gkkx8P6DKjmKecvirWOE+foutyMFJt\n",
       "HoDYXaPk7tE0gbVcOSKReTy83NU/riV3JpVb0e6lWd6Wv+YnNLbQtCXBqimGA9+Am6yxkYFZ+WBV\n",
       "dLk4bU52oR4ab4nCmk0RuG8FYBXKIm0C3LWexrqsSuF2baynG1jMn839vM9iEszDq4bfwJFQKKRH\n",
       "YwKsW1aP9aMHjrOh0HlKEGay6EUs1SeRi25JAVs5U485lhyo4C9Dk39nxKZQ3IwtBvwiNOrBTAcf\n",
       "nUyF8r9t4sKukQQBYS+qtII02FWwZyqXdbxgZ++Aj8llcQzO7qvIl9PZbwhfc9mTHPR3M3PAODtt\n",
       "GrrotwN7uNDmg4vGUx32iQDTWG+F2sPmXq68ikJxFLZyXmmt0BwDxvYWqfkbaDJl18JyuWhp7ZHH\n",
       "0WPY1fwT4Zixlo+R2EZ9jGg7mnOre+fK35XxUnxX+v8CfEEQVaWrjXAAAAAASUVORK5CYII=\n",
       "\" style=\"display:inline;vertical-align:middle;\" /></a><br>(see <a class=\"ProveItLink\" href=\"../__pv_it/6cea54c33c2a994d7da0bb26ed42e9cc23f7292c0/dependencies.ipynb\">dependencies</a>)<br>"
      ],
      "text/plain": [
       "rationalsPosDefExtension: forall_{x in RationalsPos} [exists_{u in NaturalsPos, v in NaturalsPos} ((x * u) = v)]"
      ]
     },
     "execution_count": 2,
     "metadata": {},
     "output_type": "execute_result"
    }
   ],
   "source": [
    "%proving rationalsPosDefExtension presuming []"
   ]
  },
  {
   "cell_type": "code",
   "execution_count": null,
   "metadata": {},
   "outputs": [],
   "source": []
  }
 ],
 "metadata": {
  "kernelspec": {
   "display_name": "Python 3",
   "language": "python",
   "name": "python3"
  }
 },
 "nbformat": 4,
 "nbformat_minor": 0
}
