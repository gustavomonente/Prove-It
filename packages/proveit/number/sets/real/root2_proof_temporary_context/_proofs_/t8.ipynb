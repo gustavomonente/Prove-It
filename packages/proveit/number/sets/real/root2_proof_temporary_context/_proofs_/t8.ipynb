{
 "cells": [
  {
   "cell_type": "markdown",
   "metadata": {},
   "source": [
    "Proof of <a class=\"ProveItLink\" href=\"../../../../../_context_.ipynb\">proveit</a>.<a class=\"ProveItLink\" href=\"../../../../_context_.ipynb\">number</a>.<a class=\"ProveItLink\" href=\"../../../_context_.ipynb\">sets</a>.<a class=\"ProveItLink\" href=\"../../_context_.ipynb\">real</a>.<a class=\"ProveItLink\" href=\"../_context_.ipynb\">root2_proof_temporary_context</a>.<a class=\"ProveItLink\" href=\"../_theorems_.ipynb#t8\">t8</a> theorem\n",
    "========"
   ]
  },
  {
   "cell_type": "code",
   "execution_count": 1,
   "metadata": {},
   "outputs": [],
   "source": [
    "import proveit\n",
    "context = proveit.Context('..') # the theorem's context is in the parent directory"
   ]
  },
  {
   "cell_type": "code",
   "execution_count": 2,
   "metadata": {},
   "outputs": [
    {
     "name": "stdout",
     "output_type": "stream",
     "text": [
      "Beginning proof of t8\n",
      "Recorded 'presuming' information\n",
      "Presuming previous theorems (applied transitively).\n"
     ]
    },
    {
     "data": {
      "text/html": [
       "<strong id=\"t8\">t8:</strong> <a class=\"ProveItLink\" href=\"../__pv_it/db9002290757941374f068bfac62fa76d3a05c650/expr.ipynb\"><img src=\"data:image/png;base64,iVBORw0KGgoAAAANSUhEUgAAAYYAAAAmBAMAAAAyxSGMAAAAMFBMVEX///8QEBCIiIhmZma6urrM\n",
       "zMxUVFQiIiJERETc3Nzu7u6qqqp2dnaYmJgyMjIAAAAcRTyBAAAAAXRSTlMAQObYZgAABgtJREFU\n",
       "WMO1WH1oHEUUf7mPvbu921yU+lGDeImg/mM5emBDbdMFKf6jbRRJKYo5il8o2GCsH1VsWqFcW4RT\n",
       "wYggWS20ENE7jIGG+nFwSmla5dIqisRyTTWgYhNMizVNG+djZ2f2bmZNstyDvN3c2/fbeTPvzfvN\n",
       "AvgQo8L1/4iehUaIf9hVglbL2+U2C2BTQ2LwDRu6iWuPp1bCNLoEGrMQfmE/6OLa46kKdODrX41Z\n",
       "CJ+wTwiayOAClpqnNljwHL6+aS0NPdGxVm0sv87QlgrrlvC/XFN5TPbYjaBfxFdtiat+HJ5Vx5fX\n",
       "qvat5iuZmrNcE4lVZTvHPMRnSLBziqkwkXqo/veXoScfULw6kkdTR40q2MXJYJ5rIsGiLIbLoFVH\n",
       "8d2kHKYbD0Qymc/DoBlSTHLEjF0A2zjpJ4ZOQRM5LH1sD/yYLeGbcTnMH3gxpUn9lQXfql4eR9NP\n",
       "jeN+YrhW0EROSB871L51m0lWzJSZgymkVks90VYQUVVsJMWMCJbk8C/LCCF2kWuaNb2gZ3Lqnbap\n",
       "JM1INJAYmlTRVd/diws3jbb/tGpjAmZEsCfYei6ZaMxwTTeLChyCxAWlg1ZVDQaP1uXajEd3Gk/R\n",
       "jOLlaceIYN/F//QvI4ZgL9esHNCOfo26pUrH04qnsljjmkQ/hEohtDCvyLHug41gGxEsLqdEcRkx\n",
       "RPq5JnInwA0A2/PKMhQ6SZQ9hdOI5JPLdTP64dGjR5DukO/Hfx7dD7YRwRpjQ0MDyynpZJrrEC5X\n",
       "tCLTFmxXFkT4snDPQjda7K3F5XoM/d1COn6bvLQWFmaYEcNeyuVelXRC+TiEskymuG5DqR4gd7BL\n",
       "2fv1K8I/p1lGVvn+zF2n2u8WVkRGg7kRwz4OsE+S7fJxCNtEoeLo2IeoHCOUpc5j/d15LOdqnP8m\n",
       "es2LWHbZSFG8IDnBlUR71SrYedXTVYNn02DBiGDvAb2qjGFTVRnDYIVr/RLAKVolHvRlXvznyyIn\n",
       "LFOCq0UbGF1fSVNhNJgb5/H8BcSD2JZ1ZuB6J4aEPehw39fQlnXF0FPkGjbkYSe5ydSVDeeys67M\n",
       "OksGEMGIfdxVv0oTrGBnbcFU0GBunMXbesTB/TxTifePwdpEZk2GZGQzHuJH5fVwJGEFrXKmL1OU\n",
       "xjCYNshLlT2pLoZ3jvNOcE5wfYH+uLmoWAdGg7lxFrPNbvbbT6NDED8VxJVrr0MSpaVx4D0Lvkil\n",
       "E+pcAm2ONv5hiOWd/J2qY7CEYBHb+d/tesAJtFdwJW+t4OmmM5UHF55Dgx0jgd2Haf/B236DEB5h\n",
       "/OGtKR5DT/vTqGCQjIy8VRNDIcU1hOeHyaUEAWV/iF2RnIM1XNNP1bgmTf1mxb7EaTAzEthhtLHr\n",
       "OxAPbyYto2vsBx7D7datlFGNJD5+xB1DssQ1wFlCVwZOlp+ExfQHnbGbQIu9z4uuWiXKXjSupMHM\n",
       "SGDxFhBMh3vhII0hgQs5yDzO6ARuBEpldwxNWa4RTyaW6YWFf9QfBwQqpbF2Fpqz51N01Vc7nLtD\n",
       "SYOZkcAaFmYsgSxsyeVyqXhXrIIWJkyfWgF3hV/K5fagGN7HpS804WiVa4E81Le23TalMoQTV8y5\n",
       "W4EnwlQG7nnCmXTBFvLRny2NrgNsTDlPzSFOlqXrEHqwppO3cO19Zk2LDrWyDu+lJeUEeJ00qdGB\n",
       "bcr33A8JPMuGCYYNGdsPO41++Abffw8wUX+SYtqbWBXF83etPIBTWjkRhteJ33Af6EPbPl0PcADd\n",
       "3fsrgP1ruBW6T6I0wUT4NRM0Gf1xkSC5sK2lIP2mqeEIn1GSY6+PV9RYAxtA9eCaanq5A9WDRPYK\n",
       "2kuOseOxtGQI0flE5TvhBTzhAevIqKd1fJFHckZCO+Vm3FjiivbueTizjZ3eb/f+oF0ocu1VeYyE\n",
       "tiqORnhT+kxxVvT6iGcbW319rq1y7SGMhAZaoBHiE/Y6QXtMl01CmyoNicEn7BlBe7YHQkJXNSQE\n",
       "v7DRFNce7YGS0NjKhoTgF1bfwbVHDJSEHi42JAbfsAN5rtWfxigJfaMxqeQbNtbFtXq1CAnVzYaE\n",
       "QGD/A8t+10GdP3tMAAAAAElFTkSuQmCC\n",
       "\" style=\"display:inline;vertical-align:middle;\" /></a><br>(see <a class=\"ProveItLink\" href=\"../__pv_it/db9002290757941374f068bfac62fa76d3a05c650/dependencies.ipynb\">dependencies</a>)<br>"
      ],
      "text/plain": [
       "t8: forall_{a in NaturalsPos, b in NaturalsPos} ((sqrt(2) = (a / b)) => ((2 * b^{2}) = a^{2}))"
      ]
     },
     "execution_count": 2,
     "metadata": {},
     "output_type": "execute_result"
    }
   ],
   "source": [
    "%proving t8 presuming []"
   ]
  },
  {
   "cell_type": "code",
   "execution_count": null,
   "metadata": {},
   "outputs": [],
   "source": []
  }
 ],
 "metadata": {
  "kernelspec": {
   "display_name": "Python 3",
   "language": "python",
   "name": "python3"
  }
 },
 "nbformat": 4,
 "nbformat_minor": 0
}
