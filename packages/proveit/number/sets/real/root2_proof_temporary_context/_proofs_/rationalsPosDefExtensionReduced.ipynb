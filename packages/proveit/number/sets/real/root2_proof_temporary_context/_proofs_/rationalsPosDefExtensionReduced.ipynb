{
 "cells": [
  {
   "cell_type": "markdown",
   "metadata": {},
   "source": [
    "Proof of <a class=\"ProveItLink\" href=\"../../../../../_context_.ipynb\">proveit</a>.<a class=\"ProveItLink\" href=\"../../../../_context_.ipynb\">number</a>.<a class=\"ProveItLink\" href=\"../../../_context_.ipynb\">sets</a>.<a class=\"ProveItLink\" href=\"../../_context_.ipynb\">real</a>.<a class=\"ProveItLink\" href=\"../_context_.ipynb\">root2_proof_temporary_context</a>.<a class=\"ProveItLink\" href=\"../_theorems_.ipynb#rationalsPosDefExtensionReduced\">rationalsPosDefExtensionReduced</a> theorem\n",
    "========"
   ]
  },
  {
   "cell_type": "code",
   "execution_count": 1,
   "metadata": {},
   "outputs": [],
   "source": [
    "import proveit\n",
    "context = proveit.Context('..') # the theorem's context is in the parent directory"
   ]
  },
  {
   "cell_type": "code",
   "execution_count": 2,
   "metadata": {},
   "outputs": [
    {
     "name": "stdout",
     "output_type": "stream",
     "text": [
      "Beginning proof of rationalsPosDefExtensionReduced\n",
      "Recorded 'presuming' information\n",
      "Presuming previous theorems (applied transitively).\n"
     ]
    },
    {
     "data": {
      "text/html": [
       "<strong id=\"rationalsPosDefExtensionReduced\">rationalsPosDefExtensionReduced:</strong> <a class=\"ProveItLink\" href=\"../__pv_it/d49d9896adf8a6adb8c8418452b59b5712a6c4df0/expr.ipynb\"><img src=\"data:image/png;base64,iVBORw0KGgoAAAANSUhEUgAAAxIAAAAZBAMAAABXxQWmAAAAMFBMVEX///8QEBCIiIhmZma6urrM\n",
       "zMxUVFQiIiJERETc3Nzu7u6qqqp2dnaYmJgyMjIAAAAcRTyBAAAAAXRSTlMAQObYZgAABzlJREFU\n",
       "aN7tWm1oHEUYfnO5z929pPiFBIQ1MbX0gx4NjWBje621QRR7/aGl+CNn0EjR1gO1QdvKaaFeFfX8\n",
       "k1YldlPFSCnNQRB7pdAjFSvp19Eqmmr1oFWpoAQ/wFxscd6d2dudnbn0uin5lReG3D33zvPsvu/O\n",
       "zLszAfBsT/dmYdZujPl7t02jd2o2gDfQ+qaXifeIeRsYkaLd3NYvIHk3oFZRzVfT8aCRr1FCwlUL\n",
       "vQ3naSZK+OeCx0y09/T0NHnKxKeO5rDAqzFQ0oJ3UAj8Rjmt4DgNjWC2NgkXV823UIHNn/rgBH7/\n",
       "bRqz00ZPmbjsaE5rzEGDeM1KyY0clNNWHLMuHQ8aoqhcws1V6y2A2kRh86c+2INDOD3TmYjG7MbZ\n",
       "WgPOSfxH3ICmy4ktx4u8jieNkZokBK5a6T/5sszgETMTDQa5rdxMZyKUtRtnxwFekvgPCI/YHDkx\n",
       "cwy8bnA6njQGapIQuGqlh2iZwQNmJqKj+/fvhpnOxG5H4+wiRGQ1WUPcjVySEzPH4Cqd0/GkIYrK\n",
       "JASumm/BzATC2Ejt9G8ms23GM9HiaDDcfIiMy+ZWiHS0ToKPTCZK88ZVdDQrLTq8a4BWmWEQGCBP\n",
       "4zH3IKFdmONBdnXeNbaDA2C2bwlEmtwSyAXqkgVpnp74Kk1TstFMIIyNZOIpgF2SWBWqxLDgzMTx\n",
       "3t7eCdFHk3d1wG85mpaO/AWRrfA2rMyGyxAmNecB+FZ/hfbxz4HF5KIr6109BeBH/HL6DzRzwmZd\n",
       "mOMJWol41EBgiwU4NAorwTfulkAu+Ar2xnj6mOk7FRvNBMLYSCbulxcJsSqZiNUwJurlXR3wVkc7\n",
       "asAkhArwjHIH1JcgRBatUThjPGg6fkCQDHnmUEwxK3UKwOcuctZFTbFr+5DTqVkDDBNIwZEKl/1u\n",
       "klsO4bRbArnUMqmYOPpI0fSF6mwsEwhjI5kIgY978znwbHtWlgkBl2RifUfcd5uYCRG+xdFuh0AZ\n",
       "VpAI1JcxWHVxDEeGORp1OvxJlkd8vIZKDLiJ/O1yabAupiNEdQgmwIuGcpUBD1lcjgmQCDfqbgnk\n",
       "qktDl8HRo2+dXqGXsLFMIIyNZEIrhipSR9qKkbmgfe/KhBx3ZQKd1PQo3MtnQg47MhG4Ar4UCZV5\n",
       "P0Nx884AI2PVhIF/2G2EkjYgZIJ1ofcbMiCQBC8aOI+YhaguiZ2/DF0JtwRydRXhbhc99YUp2IRM\n",
       "REqPWT99l98Pvn5QFmSPtT3fZpe2ctyVCXRSz9ZDQWu7p20Z11eEHbNTdALCMeU/fOYLcJSOdjCD\n",
       "bdpy8JGC1Z9yFIkIQKc96/5Cq0qzC3Uctt7nPGvgekgBhwaZeO4UJJDrpyzscNFrKfSdio1mAmE/\n",
       "nZ1g15P4crF0bsKPz/ujeQC9aD37/rkk+RKcy8TDSfLZdFIf36AXrIef9D0pgd0rtjqOb6VXyIeh\n",
       "HGxWs7jcHSaL3XzquRPCSedqikD6PFuxHca6UMfLLFReNXpATXAANeK1U5BALhL9SRc98c1EjanY\n",
       "hBUbhklIfcbmULwBfz5PWHTdirjWaKwDCc5lolAOzKFOamL0m0rISd9DEti0Y3ZTJuA5A9pBWRrW\n",
       "o1s0LOn8k+HxSJGuC+2wlijX2yVbO6yMkW8dromDdqGOgTSdPjxrnCaVFQewkiPpvyJIYAk6lA2W\n",
       "eXr0vVmj9FXYwFdmMDbMRCNOYvA7wEf483yMeMGK+PudME+Gs0z8SqrYpsjHKV+SOqkJzbwKq68m\n",
       "gU3rdLQ1C8nw1U6dBaW7te8uHKpK9/yWC+RGX8Y9geYVpFBoSNibBM35bvLtZ9dqSrtQxyAuAz7d\n",
       "u0bwVBE4wBJpmRAkzOml+2SKpyefFvS1UvoqbPVPXL2PwtgwE3QMEYn1mUxG/yzPRbwDuqW483wi\n",
       "WAjq1ElNRIqpSshPwmoZLO527OCu0N4qOMxmcYBBYbejyumI6eg3PyZgmhqDkkK8JEhQrnBsKvoq\n",
       "bBY86DyfCIwHIGg+cmRlXpRjIgAvwK1S3JmJunjdBupE5sMHzBHG+uoy2LUDGADlb+7azjnfIoMl\n",
       "89fr3gHkdbxpCMBmLIwE+BwGZShelf7a+4kjjkzs1UpkesMo+9pBm8fQPQa86B8XcVcmQomj+6hT\n",
       "NA7Rgt03khNgy3ZV2hmDf54gbO3YKSTaoWJY97Irzut40hBFt8NrEjic1cquIcfRX3OPne2Ks8n3\n",
       "65FRgDfx4+Jt7yQZui4Ha+aVRNyVCXXT8BfUqfMSQNLuuwgEWDwpWnN2WZWTlyjOAs1LnXfGRVhi\n",
       "YflJkScNUXRVS0ICK2n/ppZcdfpqbBU4nBVOT31kTgd4Y3UFyClmRSbgfCacnW3LyWFPp6djQgFY\n",
       "5fR0zPvp6dg1gWpwvyd6Gx4DkJ9j7+nPs/tUs8HCIxJcmgn3gdTsP35cl8kyoSxcYlhjy/9DQYLX\n",
       "konobHCnnYlarXf2/51umPl7t/wPoSolIVcNIsUAAAAASUVORK5CYII=\n",
       "\" style=\"display:inline;vertical-align:middle;\" /></a><br>(see <a class=\"ProveItLink\" href=\"../__pv_it/d49d9896adf8a6adb8c8418452b59b5712a6c4df0/dependencies.ipynb\">dependencies</a>)<br>"
      ],
      "text/plain": [
       "rationalsPosDefExtensionReduced: forall_{x in RationalsPos, y in RationalsPos} [exists_{u in NaturalsPos, v in NaturalsPos} (((gcd(x, y) * u) = x) and ((gcd(x, y) * v) = y) and (gcd(u, v) = 1))]"
      ]
     },
     "execution_count": 2,
     "metadata": {},
     "output_type": "execute_result"
    }
   ],
   "source": [
    "%proving rationalsPosDefExtensionReduced presuming []"
   ]
  },
  {
   "cell_type": "code",
   "execution_count": null,
   "metadata": {},
   "outputs": [],
   "source": []
  }
 ],
 "metadata": {
  "kernelspec": {
   "display_name": "Python 3",
   "language": "python",
   "name": "python3"
  }
 },
 "nbformat": 4,
 "nbformat_minor": 0
}
