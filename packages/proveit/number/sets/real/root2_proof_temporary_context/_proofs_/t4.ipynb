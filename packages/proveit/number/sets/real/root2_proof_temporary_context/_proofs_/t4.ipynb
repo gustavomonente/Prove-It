{
 "cells": [
  {
   "cell_type": "markdown",
   "metadata": {},
   "source": [
    "Proof of <a class=\"ProveItLink\" href=\"../../../../../_context_.ipynb\">proveit</a>.<a class=\"ProveItLink\" href=\"../../../../_context_.ipynb\">number</a>.<a class=\"ProveItLink\" href=\"../../../_context_.ipynb\">sets</a>.<a class=\"ProveItLink\" href=\"../../_context_.ipynb\">real</a>.<a class=\"ProveItLink\" href=\"../_context_.ipynb\">root2_proof_temporary_context</a>.<a class=\"ProveItLink\" href=\"../_theorems_.ipynb#t4\">t4</a> theorem\n",
    "========"
   ]
  },
  {
   "cell_type": "code",
   "execution_count": null,
   "metadata": {},
   "outputs": [],
   "source": [
    "import proveit\n",
    "from proveit import defaults, Variable\n",
    "from proveit._common_ import a, b, n, q, r, alpha\n",
    "from proveit.logic import Equals, Exists, Forall, Implies, InSet\n",
    "from proveit.number import zero, two\n",
    "from proveit.number import Exp, frac, GreaterEq, Mult, sqrt\n",
    "from proveit.number import (Naturals, NaturalsPos, Rationals, RationalsNonNeg,\n",
    "                            RationalsPos, RealsNonNeg)\n",
    "from proveit.number.multiplication._theorems_ import multNatPosClosureBin\n",
    "from proveit.number.sets.rational._theorems_ import inRationalsPos_iff_positive\n",
    "from proveit.number.sets.real.root2_proof_temporary_context._theorems_ import (\n",
    "    t4_1, t4_2, t4_3, t4_4, t4_5, t4_6, t4_8, t4_8_alt, t4_9, t4_10, t4_11,\n",
    "    elim_theorem)\n",
    "context = proveit.Context('..') # the theorem's context is in the parent directory"
   ]
  },
  {
   "cell_type": "code",
   "execution_count": null,
   "metadata": {},
   "outputs": [],
   "source": [
    "%proving t4 presuming [inRationalsPos_iff_positive,multNatPosClosureBin,proveit.logic.equality.subRightSideInto]"
   ]
  },
  {
   "cell_type": "code",
   "execution_count": null,
   "metadata": {},
   "outputs": [],
   "source": [
    "t4_1"
   ]
  },
  {
   "cell_type": "code",
   "execution_count": null,
   "metadata": {},
   "outputs": [],
   "source": [
    "t4_2"
   ]
  },
  {
   "cell_type": "code",
   "execution_count": null,
   "metadata": {},
   "outputs": [],
   "source": [
    "t4_3"
   ]
  },
  {
   "cell_type": "code",
   "execution_count": null,
   "metadata": {},
   "outputs": [],
   "source": [
    "t4_4"
   ]
  },
  {
   "cell_type": "code",
   "execution_count": null,
   "metadata": {},
   "outputs": [],
   "source": [
    "t4_5"
   ]
  },
  {
   "cell_type": "code",
   "execution_count": null,
   "metadata": {},
   "outputs": [],
   "source": [
    "t4_6"
   ]
  },
  {
   "cell_type": "code",
   "execution_count": null,
   "metadata": {},
   "outputs": [],
   "source": [
    "t4_7 = inRationalsPos_iff_positive"
   ]
  },
  {
   "cell_type": "code",
   "execution_count": null,
   "metadata": {},
   "outputs": [],
   "source": [
    "t4_8"
   ]
  },
  {
   "cell_type": "code",
   "execution_count": null,
   "metadata": {},
   "outputs": [],
   "source": [
    "t4_9"
   ]
  },
  {
   "cell_type": "code",
   "execution_count": null,
   "metadata": {},
   "outputs": [],
   "source": [
    "t4_10"
   ]
  },
  {
   "cell_type": "code",
   "execution_count": null,
   "metadata": {},
   "outputs": [],
   "source": [
    "t4_11"
   ]
  },
  {
   "cell_type": "code",
   "execution_count": null,
   "metadata": {},
   "outputs": [],
   "source": [
    "t4_12 = multNatPosClosureBin"
   ]
  },
  {
   "cell_type": "markdown",
   "metadata": {},
   "source": [
    "#### Proof Step 01"
   ]
  },
  {
   "cell_type": "code",
   "execution_count": null,
   "metadata": {},
   "outputs": [],
   "source": [
    "# Proof Step 01\n",
    "defaults.assumptions = t4.conditions"
   ]
  },
  {
   "cell_type": "markdown",
   "metadata": {},
   "source": [
    "#### Proof Step 02"
   ]
  },
  {
   "cell_type": "code",
   "execution_count": null,
   "metadata": {},
   "outputs": [],
   "source": [
    "# recall t4_3\n",
    "t4_3"
   ]
  },
  {
   "cell_type": "code",
   "execution_count": null,
   "metadata": {},
   "outputs": [],
   "source": [
    "# Proof Step 02\n",
    "t4_3_spec = t4_3.specialize()"
   ]
  },
  {
   "cell_type": "markdown",
   "metadata": {},
   "source": [
    "#### Proof Step 03"
   ]
  },
  {
   "cell_type": "code",
   "execution_count": null,
   "metadata": {},
   "outputs": [],
   "source": [
    "# recall t4_1\n",
    "t4_1"
   ]
  },
  {
   "cell_type": "code",
   "execution_count": null,
   "metadata": {},
   "outputs": [],
   "source": [
    "# Proof Step 03\n",
    "t4_1_spec = t4_1.specialize()"
   ]
  },
  {
   "cell_type": "markdown",
   "metadata": {},
   "source": [
    "#### Proof Step 04"
   ]
  },
  {
   "cell_type": "code",
   "execution_count": null,
   "metadata": {},
   "outputs": [],
   "source": [
    "# recall t4_2\n",
    "t4_2"
   ]
  },
  {
   "cell_type": "code",
   "execution_count": null,
   "metadata": {},
   "outputs": [],
   "source": [
    "# Proof Step 04\n",
    "t4_2_spec = t4_2.specialize({r:sqrt(n)})"
   ]
  },
  {
   "cell_type": "markdown",
   "metadata": {},
   "source": [
    "#### Proof Step 05"
   ]
  },
  {
   "cell_type": "code",
   "execution_count": null,
   "metadata": {},
   "outputs": [],
   "source": [
    "# Proof Step 05\n",
    "temp_assumptions_list = list(defaults.assumptions)\n",
    "temp_assumptions_list.append(InSet(sqrt(n), Rationals))\n",
    "defaults.assumptions = tuple(temp_assumptions_list)"
   ]
  },
  {
   "cell_type": "markdown",
   "metadata": {},
   "source": [
    "#### Proof Step 06"
   ]
  },
  {
   "cell_type": "code",
   "execution_count": null,
   "metadata": {},
   "outputs": [],
   "source": [
    "# recall t4_6\n",
    "t4_6"
   ]
  },
  {
   "cell_type": "code",
   "execution_count": null,
   "metadata": {},
   "outputs": [],
   "source": [
    "# Proof Step 06\n",
    "t4_6_spec = t4_6.specialize({q:sqrt(n)})"
   ]
  },
  {
   "cell_type": "markdown",
   "metadata": {},
   "source": [
    "#### Proof Step 07"
   ]
  },
  {
   "cell_type": "code",
   "execution_count": null,
   "metadata": {},
   "outputs": [],
   "source": [
    "# Proof Step 07\n",
    "t4_6_spec.deriveConsequent()"
   ]
  },
  {
   "cell_type": "markdown",
   "metadata": {},
   "source": [
    "#### Proof Step 08"
   ]
  },
  {
   "cell_type": "code",
   "execution_count": null,
   "metadata": {},
   "outputs": [],
   "source": [
    "# recall t4_8\n",
    "t4_8"
   ]
  },
  {
   "cell_type": "code",
   "execution_count": null,
   "metadata": {},
   "outputs": [],
   "source": [
    "# Proof Step 08\n",
    "# t4_8_spec = t4_8.specialize({q:sqrt(n)})"
   ]
  },
  {
   "cell_type": "code",
   "execution_count": null,
   "metadata": {},
   "outputs": [],
   "source": [
    "# recall t4_8_alt\n",
    "t4_8_alt"
   ]
  },
  {
   "cell_type": "code",
   "execution_count": null,
   "metadata": {},
   "outputs": [],
   "source": [
    "# Proof Step 08_alt\n",
    "t4_8_spec_alt = t4_8_alt.specialize({q:sqrt(n)})"
   ]
  },
  {
   "cell_type": "markdown",
   "metadata": {},
   "source": [
    "#### Defining an Assumption to Allow Skolemization (used in Proof Step 09 below)"
   ]
  },
  {
   "cell_type": "code",
   "execution_count": null,
   "metadata": {},
   "outputs": [],
   "source": [
    "aPrime = Variable(\"a'\", r'{a^{\\prime}}')"
   ]
  },
  {
   "cell_type": "code",
   "execution_count": null,
   "metadata": {},
   "outputs": [],
   "source": [
    "# bPrime = Variable(\"b'\", r'{b^{\\prime}}')"
   ]
  },
  {
   "cell_type": "code",
   "execution_count": null,
   "metadata": {},
   "outputs": [],
   "source": [
    "# aPrime_bPrime_assumptions = (InSet(aPrime, Naturals), InSet(bPrime, NaturalsPos),\n",
    "#        Equals(sqrt(n),frac(aPrime,bPrime)))"
   ]
  },
  {
   "cell_type": "code",
   "execution_count": null,
   "metadata": {},
   "outputs": [],
   "source": [
    "# ALTERNATE\n",
    "from proveit import Literal\n",
    "bPrime = Literal(\"b'\", r'{b^{\\prime}}')\n",
    "aPrime_bPrime_assumptions_alt = (InSet(aPrime, Naturals), InSet(bPrime, NaturalsPos),\n",
    "       Equals(sqrt(n),frac(aPrime,bPrime)))"
   ]
  },
  {
   "cell_type": "markdown",
   "metadata": {},
   "source": [
    "#### Proof Step 09"
   ]
  },
  {
   "cell_type": "code",
   "execution_count": null,
   "metadata": {},
   "outputs": [],
   "source": [
    "# Proof Step 09\n",
    "# We will use aPrime_bPrime_assumptions as a way to achieve\n",
    "# the \"choice\" of Skolem constants aPrime and bPrime\n",
    "# so we add aPrime_bPrime_assumptions to the defaults.assumptions\n",
    "# and establish to represent the Skolemization process\n",
    "# defaults.assumptions = [*defaults.assumptions, *aPrime_bPrime_assumptions]"
   ]
  },
  {
   "cell_type": "code",
   "execution_count": null,
   "metadata": {},
   "outputs": [],
   "source": [
    "# Proof Step 09 ALTERNATE\n",
    "# We will use aPrime_bPrime_assumptions as a way to achieve\n",
    "# the \"choice\" of Skolem constants aPrime and bPrime\n",
    "# so we add aPrime_bPrime_assumptions to the defaults.assumptions\n",
    "# and establish to represent the Skolemization process\n",
    "defaults.assumptions = [*defaults.assumptions, *aPrime_bPrime_assumptions_alt]"
   ]
  },
  {
   "cell_type": "markdown",
   "metadata": {},
   "source": [
    "#### Proof Step 10"
   ]
  },
  {
   "cell_type": "code",
   "execution_count": null,
   "metadata": {},
   "outputs": [],
   "source": [
    "# recall t4_9\n",
    "t4_9"
   ]
  },
  {
   "cell_type": "code",
   "execution_count": null,
   "metadata": {},
   "outputs": [],
   "source": [
    "# Proof Step 10\n",
    "t4_9_spec = t4_9.specialize({a:aPrime, b:bPrime}).deriveConsequent()"
   ]
  },
  {
   "cell_type": "markdown",
   "metadata": {},
   "source": [
    "#### Proof Step 11"
   ]
  },
  {
   "cell_type": "code",
   "execution_count": null,
   "metadata": {},
   "outputs": [],
   "source": [
    "# recall t4_4\n",
    "t4_4"
   ]
  },
  {
   "cell_type": "code",
   "execution_count": null,
   "metadata": {},
   "outputs": [],
   "source": [
    "# recall t4_5\n",
    "t4_5"
   ]
  },
  {
   "cell_type": "code",
   "execution_count": null,
   "metadata": {},
   "outputs": [],
   "source": [
    "t4_4_spec = t4_4.specialize({a:aPrime})"
   ]
  },
  {
   "cell_type": "code",
   "execution_count": null,
   "metadata": {},
   "outputs": [],
   "source": [
    "t4_5_spec = t4_5.specialize({b:bPrime})"
   ]
  },
  {
   "cell_type": "markdown",
   "metadata": {},
   "source": [
    "#### Proof Step 12"
   ]
  },
  {
   "cell_type": "code",
   "execution_count": null,
   "metadata": {},
   "outputs": [],
   "source": [
    "# recall t4_12, our binary Mult closure theorem\n",
    "# from the number/multiplication context\n",
    "t4_12"
   ]
  },
  {
   "cell_type": "code",
   "execution_count": null,
   "metadata": {},
   "outputs": [],
   "source": [
    "t4_12_spec = t4_12.specialize({a:n, b:Exp(bPrime, two)})"
   ]
  },
  {
   "cell_type": "code",
   "execution_count": null,
   "metadata": {},
   "outputs": [],
   "source": [
    "# recall our equivalence from Proof Step 10\n",
    "t4_9_spec"
   ]
  },
  {
   "cell_type": "code",
   "execution_count": null,
   "metadata": {},
   "outputs": [],
   "source": [
    "# use equivalence to substitute into:\n",
    "t4_9_spec.subRightSideInto(t4_12_spec)"
   ]
  },
  {
   "cell_type": "markdown",
   "metadata": {},
   "source": [
    "#### Proof Step 13"
   ]
  },
  {
   "cell_type": "code",
   "execution_count": null,
   "metadata": {},
   "outputs": [],
   "source": [
    "# recall t4_11:\n",
    "t4_11"
   ]
  },
  {
   "cell_type": "code",
   "execution_count": null,
   "metadata": {},
   "outputs": [],
   "source": [
    "t4_11_spec = t4_11.specialize({a:aPrime})"
   ]
  },
  {
   "cell_type": "code",
   "execution_count": null,
   "metadata": {},
   "outputs": [],
   "source": [
    "t4_11_spec.deriveConsequent()"
   ]
  },
  {
   "cell_type": "markdown",
   "metadata": {},
   "source": [
    "#### Proof Step 14"
   ]
  },
  {
   "cell_type": "code",
   "execution_count": null,
   "metadata": {},
   "outputs": [],
   "source": [
    "# recall t4_10\n",
    "t4_10"
   ]
  },
  {
   "cell_type": "code",
   "execution_count": null,
   "metadata": {},
   "outputs": [],
   "source": [
    "t4_10_spec = t4_10.specialize({a:aPrime, b:bPrime})"
   ]
  },
  {
   "cell_type": "code",
   "execution_count": null,
   "metadata": {},
   "outputs": [],
   "source": [
    "InSet(sqrt(n), RationalsPos).prove()"
   ]
  },
  {
   "cell_type": "markdown",
   "metadata": {},
   "source": [
    "#### Proof Step 15"
   ]
  },
  {
   "cell_type": "code",
   "execution_count": null,
   "metadata": {},
   "outputs": [],
   "source": [
    "nInQ_implies_nInQPos = Implies(InSet(sqrt(n), Rationals), InSet(sqrt(n), RationalsPos)).prove()"
   ]
  },
  {
   "cell_type": "markdown",
   "metadata": {},
   "source": [
    "#### Proof Step 16"
   ]
  },
  {
   "cell_type": "code",
   "execution_count": null,
   "metadata": {},
   "outputs": [],
   "source": [
    "c16 = nInQ_implies_nInQPos.generalize([[aPrime],[n]], domainLists=[[Naturals], [NaturalsPos]],\n",
    "        conditions=[Equals(sqrt(n), frac(aPrime, bPrime))])"
   ]
  },
  {
   "cell_type": "code",
   "execution_count": null,
   "metadata": {},
   "outputs": [],
   "source": [
    "Forall(n, Implies(InSet(sqrt(n), Rationals), InSet(sqrt(n), RationalsPos)), NaturalsPos)"
   ]
  },
  {
   "cell_type": "code",
   "execution_count": null,
   "metadata": {},
   "outputs": [],
   "source": [
    "elim_theorem"
   ]
  },
  {
   "cell_type": "code",
   "execution_count": null,
   "metadata": {},
   "outputs": [],
   "source": [
    "elim_theorem.specialize(\n",
    "    {alpha:Forall(n, Implies(InSet(sqrt(n), Rationals), InSet(sqrt(n), RationalsPos)), NaturalsPos), y:aPrime})"
   ]
  },
  {
   "cell_type": "code",
   "execution_count": null,
   "metadata": {},
   "outputs": [],
   "source": []
  }
 ],
 "metadata": {
  "kernelspec": {
   "display_name": "Python 3",
   "language": "python",
   "name": "python3"
  }
 },
 "nbformat": 4,
 "nbformat_minor": 0
}
