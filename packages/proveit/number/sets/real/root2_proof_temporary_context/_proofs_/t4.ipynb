{
 "cells": [
  {
   "cell_type": "markdown",
   "metadata": {},
   "source": [
    "Proof of <a class=\"ProveItLink\" href=\"../../../../../_context_.ipynb\">proveit</a>.<a class=\"ProveItLink\" href=\"../../../../_context_.ipynb\">number</a>.<a class=\"ProveItLink\" href=\"../../../_context_.ipynb\">sets</a>.<a class=\"ProveItLink\" href=\"../../_context_.ipynb\">real</a>.<a class=\"ProveItLink\" href=\"../_context_.ipynb\">root2_proof_temporary_context</a>.<a class=\"ProveItLink\" href=\"../_theorems_.ipynb#t4\">t4</a> theorem\n",
    "========"
   ]
  },
  {
   "cell_type": "code",
   "execution_count": 1,
   "metadata": {},
   "outputs": [],
   "source": [
    "import proveit\n",
    "context = proveit.Context('..') # the theorem's context is in the parent directory"
   ]
  },
  {
   "cell_type": "code",
   "execution_count": 2,
   "metadata": {},
   "outputs": [
    {
     "name": "stdout",
     "output_type": "stream",
     "text": [
      "Beginning proof of t4\n",
      "Recorded 'presuming' information\n"
     ]
    },
    {
     "data": {
      "text/html": [
       "<strong id=\"t4\">t4:</strong> <a class=\"ProveItLink\" href=\"../__pv_it/14e2c5773b32706140a94cfdcb05274942c4241a0/expr.ipynb\"><img src=\"data:image/png;base64,iVBORw0KGgoAAAANSUhEUgAAATUAAAAbBAMAAADv4AXFAAAAMFBMVEX///8QEBCIiIhmZma6urrM\n",
       "zMxUVFQiIiJERETc3Nzu7u6qqqp2dnaYmJgyMjIAAAAcRTyBAAAAAXRSTlMAQObYZgAABLRJREFU\n",
       "WMPVV21oHEUYfnO397F7uxd/1F9K2TSCIi09WsVgG91aqT9s8JqCCLbmEOMHaA1UiV+UoxS8RihL\n",
       "C1ojeotIhYq9QDgRSs1BYqFGZf1EsNKtgf6ocAaSQpv6NfPuzezMZXfv/KfPj+dud+Z95p133ndm\n",
       "FuB/jpTFqBMScQpdIE3JjBFahYc5Uah/IxbDeiqlGAVE1beOGClLaUeM0Cpc5oRzi4vBVzEKiCdi\n",
       "R0LfdDdaqB1JkxHivbi+GSdSwQ+619k3eKUlhH1/iTWoOowQW0I77a4coSFJFCIVfC+nQtNxoHLJ\n",
       "CnzrbwnNyyEPwywnCm0srM+Jp2zt0gSJy2KkAuLDsGbtyZfh1NMO7GtebDbJglbBFzpOf8uxvt3E\n",
       "CbMhdOaH7iT+PUbC82qkAmI+dCW3F0EbvczjlqFDEKG8EzUcT5EVRiEz/2l8nGZFwiWc/YAU14DQ\n",
       "eFhUCAl6yxg25AlN7OC+JWmsiJDxxcmTb8WGzbiB0epKfOR2/zevkvRIWGRR+8RWUQF4CbYbg3eM\n",
       "0C1Zh/mWoP2p0NVK5bUQjxpBkXmMWjNXzr69bpP/wBL1zRQZVHHnAB4SCtUoCAos6DufOdpvSsZq\n",
       "aS/hId1ivik0zlRoNIi9iKDesmVGOCcX9OxBqNm41dmtt/flSFqkzDMAI0X0ZhyxJCggNpBJV0zt\n",
       "mmSsmKcJD+dc5lvqCvhC20HzYn3LlxjdT/MU4NGMB9ViUPIojL6RMarizpz7LVBQaMMYpKYOgHpF\n",
       "Mk61fCMSqh/IZfCFMjQUwlazfw76SqJvmUKLEmvJn3UATs2CC9i0q0lAZ5bGNZ06B1CTTo1Ta7hC\n",
       "H+mXMEHTlsFYlIwB1/RB3eYVQ32jQrqb4VIfzQ7Cp7qTdGY379/MijdfaNHkRovOHGAGYB82Hefr\n",
       "7tdCqS1u6rM2U1DfX8agQ24R0p5kDGWshXRgxuKmevwgNt6YdOCMWdDlfCsxqpXBoGl8D8CfGm3q\n",
       "4We8W6Z7CAneCHqTbPqwAwXtKsC3fmH0uo5oDEN0eSeGgrWj+YhCh8lZYwwO99PUI6jXj8q+pcuM\n",
       "ktf88/JmyK3o8jk5R/fe3SDXqeIJCnCvjQdlTwNmnIZkrOPeG4zI6xSmyTIZ29we2z9b6/rHeyTf\n",
       "cLdBUpfgvB9y3fsB2/gpYNxlaws0b78Rs80RFKBaMBr+Wn1tFCVj+I6cWYNtOyoK9RL/J2+FXkdD\n",
       "f+rQmJV8w1kgwfMOnbkyBupzfjaeOMTCZPz1O74Sz4VRUQHSKxj0B8hu+HObMVxoXhevLWUmZNAe\n",
       "j8M2SL1UqRwkvr1LU7YYdF3DaWS+/Zqx8/Xx1sLN5fA6+KvQaEsKqT+mI4116xPhfd6UhG6ErSko\n",
       "+XFThmWJrZzya53Io00/99mmBmgrYW1oDBdjrjtfvrOwnj/UyCiBELmRvFCHz+nf7wGTSsAuTrml\n",
       "mHP3WGXBAiP0Lo3GMFOIuVAMHLmDP/xIV7Mk3PPXu5AlGaMcsCDd9oExxSj0dJPvvcXQTxQ0ztpd\n",
       "fgO8GCZ0G8m3kKufx6gzzoe+7dKYlVUjUmg1pjl1QtQtdfrf+NbFdVc4si1GHT97nBiFbnF3jNB/\n",
       "Bf8A/qlcpFeS/a4AAAAASUVORK5CYII=\n",
       "\" style=\"display:inline;vertical-align:middle;\" /></a><br>(see <a class=\"ProveItLink\" href=\"../__pv_it/14e2c5773b32706140a94cfdcb05274942c4241a0/dependencies.ipynb\">dependencies</a>)<br>"
      ],
      "text/plain": [
       "t4: forall_{n in NaturalsPos} ((sqrt(n) in Rationals) => (sqrt(n) in RationalsPos))"
      ]
     },
     "execution_count": 2,
     "metadata": {},
     "output_type": "execute_result"
    }
   ],
   "source": [
    "%proving t4 presuming []"
   ]
  },
  {
   "cell_type": "code",
   "execution_count": null,
   "metadata": {},
   "outputs": [],
   "source": []
  }
 ],
 "metadata": {
  "kernelspec": {
   "display_name": "Python 3",
   "language": "python",
   "name": "python3"
  }
 },
 "nbformat": 4,
 "nbformat_minor": 0
}
