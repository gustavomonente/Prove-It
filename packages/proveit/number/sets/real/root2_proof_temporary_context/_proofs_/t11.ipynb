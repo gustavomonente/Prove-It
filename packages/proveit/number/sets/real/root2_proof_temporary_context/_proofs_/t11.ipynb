{
 "cells": [
  {
   "cell_type": "markdown",
   "metadata": {},
   "source": [
    "Proof of <a class=\"ProveItLink\" href=\"../../../../../_context_.ipynb\">proveit</a>.<a class=\"ProveItLink\" href=\"../../../../_context_.ipynb\">number</a>.<a class=\"ProveItLink\" href=\"../../../_context_.ipynb\">sets</a>.<a class=\"ProveItLink\" href=\"../../_context_.ipynb\">real</a>.<a class=\"ProveItLink\" href=\"../_context_.ipynb\">root2_proof_temporary_context</a>.<a class=\"ProveItLink\" href=\"../_theorems_.ipynb#t11\">t11</a> theorem\n",
    "========"
   ]
  },
  {
   "cell_type": "code",
   "execution_count": 1,
   "metadata": {},
   "outputs": [],
   "source": [
    "import proveit\n",
    "context = proveit.Context('..') # the theorem's context is in the parent directory"
   ]
  },
  {
   "cell_type": "code",
   "execution_count": 2,
   "metadata": {},
   "outputs": [
    {
     "name": "stdout",
     "output_type": "stream",
     "text": [
      "Beginning proof of t11\n",
      "Recorded 'presuming' information\n",
      "Presuming previous theorems (applied transitively).\n"
     ]
    },
    {
     "data": {
      "text/html": [
       "<strong id=\"t11\">t11:</strong> <a class=\"ProveItLink\" href=\"../__pv_it/4e984eb8ad7913269c5e349e9c9f187edb0e66f20/expr.ipynb\"><img src=\"data:image/png;base64,iVBORw0KGgoAAAANSUhEUgAAANUAAAAcBAMAAAAEiefMAAAAMFBMVEX///8QEBCIiIhmZma6urrM\n",
       "zMxUVFQiIiJERETc3Nzu7u6qqqp2dnaYmJgyMjIAAAAcRTyBAAAAAXRSTlMAQObYZgAAA69JREFU\n",
       "SMe9ll1IVEEUgI/74+7en61Ayopojex5cR8S22ojoqfoRpFZ0C6SVFQq/Rhi0NJDrPRyIchexFuC\n",
       "DxKuZFRS4II9lCVsRRRRIZU+FKRRUZiwzZmZe+/sdlm3hxzw3NnxzHwz528G4L82pbYOFqo9guZ/\n",
       "nLGnZE1vLP93O8R1F3ZcpS6QKJm1t+D3aeiJeXC6p8Q1gobANYqqfuLf/dbIiAHj+B0vjVWDops7\n",
       "mxtJ1p003SHeeWANnQTw4f5QTODA22KowCwRUhKkSEqzWHDUSbWHnnq3wFLCxFdhYOKxeHTnuEXV\n",
       "oA59oHy3WQNOqqNUtgms57jZGS6u4jdZjFU2yOaQTFlis5SQg+pKGnJLbZYn49EAOrDbwRyvDBZj\n",
       "UcO0AywDaNEtlrTY1ugUrQ3dUzbr4L27ZHYtdolQx/r7u4qGxlNcpRVg2oAWzWLBR1tjH/+qlJ8R\n",
       "WKtzOSKrgItfqdQ5ByfZ3U3cs6SdN5B1ebTKMH3DGGEehhhoqs5YgWjNCv7/nQYXTbYNxOi1uyny\n",
       "589S68+hvzzLYZr8eEfVztL2jWn60e/XgbG26MEZvkJc42IrSBNFWVOYHdSjvgSyrmWpA+4I2vJn\n",
       "lvRYHDKMJa0CtxlyPTEufODKCtPqozEMJIF1CmORuilCc3mzgQkKcXFrAxV0L8SWssZY7lnwmaGa\n",
       "jnGhZH3mDOl+JCsnx6BOiayPbDBHP5gsdBphVYL0o4AVOE7LSJAo3ADGKktCWis8V2DCKpivhvtB\n",
       "fuYmZhDPddG04RAESMxLcyCjI7ZTU39hjVUsP7Hh7Ujkaw1hpTMwYq4Q103ReYiI3nWT4MFwkg80\n",
       "hPJZR3hseDPgQtZvKJ8Y5rHBM5Y7vJw5iOZyehCazaJpxSEMkdyRznhnIUjdrI29yGdV8TrV9WT0\n",
       "MNrwArxMEI2o4C1e/F0svyuR5Q+pbYqQoUwsIi50h72t0MtYCi4ssHBDHszlXO4nsvrWNDQS20/a\n",
       "Gk3m+WjdeJg7gXHYWH1lLR+vtYRqYM1zJaA+lUqFZC2QJQt7hXoYYzUq704BqdXWsO6XCvjrTsH2\n",
       "3hI0KnX/a6OcnQu25ZdVd4bX6zyWY+2NOrKkWVOwvevxHaBgjKoxUDP5TwD0gl8vYDneKbscWWrC\n",
       "FMzSjTc3AlzCUCY1teBtcIzdlfmsTidW+aATy6eZQmgu4i+HFQaEN4CLT1Ed3wBWtasWR99YYv4m\n",
       "h0t+Rw05vSGS817HQrtVMkuOOZRxwxQL2P4AIsv4kzdkA+UAAAAASUVORK5CYII=\n",
       "\" style=\"display:inline;vertical-align:middle;\" /></a><br>(see <a class=\"ProveItLink\" href=\"../__pv_it/4e984eb8ad7913269c5e349e9c9f187edb0e66f20/dependencies.ipynb\">dependencies</a>)<br>"
      ],
      "text/plain": [
       "t11: forall_{a in NaturalsPos} ((2 | a) => (4 | a^{2}))"
      ]
     },
     "execution_count": 2,
     "metadata": {},
     "output_type": "execute_result"
    }
   ],
   "source": [
    "%proving t11 presuming []"
   ]
  },
  {
   "cell_type": "code",
   "execution_count": null,
   "metadata": {},
   "outputs": [],
   "source": []
  }
 ],
 "metadata": {
  "kernelspec": {
   "display_name": "Python 3",
   "language": "python",
   "name": "python3"
  }
 },
 "nbformat": 4,
 "nbformat_minor": 0
}
