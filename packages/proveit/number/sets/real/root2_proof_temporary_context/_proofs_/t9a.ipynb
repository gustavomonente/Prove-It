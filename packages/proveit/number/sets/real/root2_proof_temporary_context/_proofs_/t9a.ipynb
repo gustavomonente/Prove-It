{
 "cells": [
  {
   "cell_type": "markdown",
   "metadata": {},
   "source": [
    "Proof of <a class=\"ProveItLink\" href=\"../../../../../_context_.ipynb\">proveit</a>.<a class=\"ProveItLink\" href=\"../../../../_context_.ipynb\">number</a>.<a class=\"ProveItLink\" href=\"../../../_context_.ipynb\">sets</a>.<a class=\"ProveItLink\" href=\"../../_context_.ipynb\">real</a>.<a class=\"ProveItLink\" href=\"../_context_.ipynb\">root2_proof_temporary_context</a>.<a class=\"ProveItLink\" href=\"../_theorems_.ipynb#t9a\">t9a</a> theorem\n",
    "========"
   ]
  },
  {
   "cell_type": "code",
   "execution_count": 1,
   "metadata": {},
   "outputs": [],
   "source": [
    "import proveit\n",
    "context = proveit.Context('..') # the theorem's context is in the parent directory"
   ]
  },
  {
   "cell_type": "code",
   "execution_count": 2,
   "metadata": {},
   "outputs": [
    {
     "name": "stdout",
     "output_type": "stream",
     "text": [
      "Beginning proof of t9a\n",
      "Recorded 'presuming' information\n",
      "Presuming previous theorems (applied transitively).\n"
     ]
    },
    {
     "data": {
      "text/html": [
       "<strong id=\"t9a\">t9a:</strong> <a class=\"ProveItLink\" href=\"../__pv_it/17c71c7cb54c68484a9efc933c4b75c3e38e288b0/expr.ipynb\"><img src=\"data:image/png;base64,iVBORw0KGgoAAAANSUhEUgAAAJoAAAAVBAMAAABMN+opAAAAMFBMVEX///8QEBCIiIhmZma6urrM\n",
       "zMxUVFQiIiJERETc3Nzu7u6qqqp2dnaYmJgyMjIAAAAcRTyBAAAAAXRSTlMAQObYZgAAAldJREFU\n",
       "OMutlD+I01Acx781be6aJu0NuleKqOAQOBCHO+jh4CJYbnCQA4PocFvhRASPQwQhRYRwg38OxIiD\n",
       "x4lakKAOYrDnoqIZXMQ/dNBBpw4Kekv9vbzX1zybBge/8JL3bZpPfr/3e78H/LuO4X+oGPH7puIU\n",
       "PaFR8oAuM58yaevA7QMXB7SBU6QTCYvAK2a+Z9K+wXDwti5oA6fIYEHdB66x4M9nwSwbmo/cFKdJ\n",
       "p+o5DbOKsk+3dhZtwkOuCf03p0mn6hYLcArWy42Nq5mJ0tPyFvSfnCadqjJL/Qvwy3WXUxihnNV4\n",
       "hFucJp3Q4cXVWpXSs2neAU4BrRSaLWeX4+uRkNOkG3zVrRqUtsXK8Bk4yAsynnYuvp4RO0Q6Wica\n",
       "hfYKipR2qUnmEQWNbcn9WFjaxE4nSdvOLpotaNIBDygKw/gBq0ev0cBxyjiakC/e7cziselrfmd6\n",
       "abqdpNWQpInFc1gH9KB3h7Ri96jcWZfWfDyt2uZIpiUb14eZxk5I66IS+cizTA/RaJ0kzux8jS0h\n",
       "KQhWzZEqLAB7h1WInVAuxDM/lFXAQ8Jac1HO4z0bmPcWFBrVvbj8en+T06QTulnHG6sBjRV5hkaF\n",
       "tsvablR8IyYECDsKjeIv9/t9QZNu+PTKB/qtQfOvbLWot3ACcyicdd0LRLvBytJIdlbiRJJO1R22\n",
       "Y+QndmCmAIfHlp//u+sTNMtOpYmuFwdiD6cDvGDTd8BH9Z+tJC21ceSJxJV3sC/CJG2x/Eod+shp\n",
       "maCtp9EmvZTv7KF1G3+S7xp/kr9na+DhD4cgrA8S1votAAAAAElFTkSuQmCC\n",
       "\" style=\"display:inline;vertical-align:middle;\" /></a><br>(see <a class=\"ProveItLink\" href=\"../__pv_it/17c71c7cb54c68484a9efc933c4b75c3e38e288b0/dependencies.ipynb\">dependencies</a>)<br>"
      ],
      "text/plain": [
       "t9a: forall_{n in NaturalsPos} (2 | (2 * n))"
      ]
     },
     "execution_count": 2,
     "metadata": {},
     "output_type": "execute_result"
    }
   ],
   "source": [
    "%proving t9a presuming []"
   ]
  },
  {
   "cell_type": "code",
   "execution_count": null,
   "metadata": {},
   "outputs": [],
   "source": []
  }
 ],
 "metadata": {
  "kernelspec": {
   "display_name": "Python 3",
   "language": "python",
   "name": "python3"
  }
 },
 "nbformat": 4,
 "nbformat_minor": 0
}
