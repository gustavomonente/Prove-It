{
 "cells": [
  {
   "cell_type": "markdown",
   "metadata": {},
   "source": [
    "Proof of <a class=\"ProveItLink\" href=\"../../../../../_context_.ipynb\">proveit</a>.<a class=\"ProveItLink\" href=\"../../../../_context_.ipynb\">number</a>.<a class=\"ProveItLink\" href=\"../../../_context_.ipynb\">sets</a>.<a class=\"ProveItLink\" href=\"../../_context_.ipynb\">real</a>.<a class=\"ProveItLink\" href=\"../_context_.ipynb\">root2_proof_temporary_context</a>.<a class=\"ProveItLink\" href=\"../_theorems_.ipynb#rationalsPosDefReduced\">rationalsPosDefReduced</a> theorem\n",
    "========"
   ]
  },
  {
   "cell_type": "code",
   "execution_count": 1,
   "metadata": {},
   "outputs": [],
   "source": [
    "import proveit\n",
    "context = proveit.Context('..') # the theorem's context is in the parent directory"
   ]
  },
  {
   "cell_type": "code",
   "execution_count": 2,
   "metadata": {},
   "outputs": [
    {
     "name": "stdout",
     "output_type": "stream",
     "text": [
      "Beginning proof of rationalsPosDefReduced\n",
      "Recorded 'presuming' information\n",
      "Presuming previous theorems (applied transitively).\n"
     ]
    },
    {
     "data": {
      "text/html": [
       "<strong id=\"rationalsPosDefReduced\">rationalsPosDefReduced:</strong> <a class=\"ProveItLink\" href=\"../__pv_it/330697af788ec96240b19a6bb2c879d229da7dbd0/expr.ipynb\"><img src=\"data:image/png;base64,iVBORw0KGgoAAAANSUhEUgAAAdsAAAAZBAMAAACLA5kMAAAAMFBMVEX///8QEBCIiIhmZma6urrM\n",
       "zMxUVFQiIiJERETc3Nzu7u6qqqp2dnaYmJgyMjIAAAAcRTyBAAAAAXRSTlMAQObYZgAABU1JREFU\n",
       "WMPtWG1oW1UYfpqPJrm5aYdOUPzhtYUy6mSXFesPq2abrIg/jIKzgtBYZqFQXGS4OK0zTJB0Qxb0\n",
       "R+dG8W6TMeqckZFtkYmh9QPqV5iDyeZmwO2HglL8ANuq+J5z7s1Nck+Su2J/bPjCm3vvc859cp57\n",
       "3vOeD6C5tSa343qw/mTBTbUArhMLxf+XK5MbepNsaf8xWeEOC2fgDg4V0RxqwMaLSG6JARebyfUO\n",
       "Dw8/ZSxFrZKyXWIjcAcfqX4cuNEBNWEbEXI/Z88/uQnm1sxS5LZlbJfYMTSEQxbwY02FRSckZ3vf\n",
       "EPAxIXcvu6SWT+43FS4xVWsIt+niGtGry30LDkjKpoxuMQTMnOS2scfs8sndXuGyWF/REB54wWxC\n",
       "zX+rCQdUh+17Q8DMSW5kdmpqAssmN5SwXWqXG8KbO8S1toXU6xPu2JhcDl8WmfnPdHpM8mLBldw6\n",
       "87YNe3TblY6R9dPljujUcICaMlPbQYS/ZMFKyfzvTvZzvOMUMN0RwxvTg1kGWRxkB9ciUHSymXJn\n",
       "hDO5TwPjkhbrVXLVZDL5cqZhLTkcLNp+FOe0HVaB17cCa+h6icfmL9zYayrh20yYRpk5zl5jD6nQ\n",
       "b5jIBku+W7DHYJDFwT7wOgTiTjZT7iXhTO4G+oZN5dbr3aZyA1nbZ/G18SADWQsmvSWk6Xqy5tX9\n",
       "3gROW3AAIdG2F8k/Migfj6E1e6CI+zhkcZCQ7N0IF5xsptyTwpncADxV8/XR0d5MU7n+rR/j9rhD\n",
       "rhNuidpumG1T/mGSWzTcQNfBmuYx/CELPsODj2wl+c3wL3gX6OZ+g1QzyOIgSrr6sk42U+6gcCZX\n",
       "LZYXicrpnmKoC+oFzPRs7cnWk/vOzL04pRpeo6qWHK6UC/wqwG3s52HD/4dELuHQLJjy8iZLrv9v\n",
       "eBItKa5b+V18AZNDzEweuJEbKm2yir7NT8EzCeWOTKPejezeZ+BDTVerY0AOVwYzrLZx+wweNm30\n",
       "V4y2uMBZpuNwWLeWJxS5kXkE9feoSPkL4TkR3yaHmJlUGZuQ2y+cr5nHN9PP9F1dMR9r5WN5QCvK\n",
       "5fo+Zfcb2EMu97qta31cLUjg2lT1gWcO3eWSVxFMnbdyUoUNIxwzYSY1rJupiiS2Z9sZzSJaS3me\n",
       "vUwO1rg4cpCwOVIVjtOU6DGeCUTbWPF5ItQ0uVy13XgEYpWdU999sqyrsBBOSWD+pfWy+xaDcxXL\n",
       "+l6s06mv+mrb9xVlcBMeMAOazyLKPLYY3jgOxXbiXLzAJxfOwVOBWlIKkLBhjWHCfabcdhLnx8/A\n",
       "IVbczeQWauW20UT0rLGvH11QeEkOhRlLV+jtBApOWIypRNmVoe7Oir3I4Y78EHXjFcdhwpfsk3CY\n",
       "hR34QoNF48bVFOdfXNTozSeGohwSHEmmaJRTO9h6b/uhKOArptwIn6jngcfT6bSWywu5Mdl+dxRD\n",
       "8D+fTu8kXZMMFrXUgi8qgV0tIhMNYJ7e/PYi8pWqtV55oggbLtiY2/td/5wfrfyjU6q6M1tne78S\n",
       "N2UQF93oe9SuEKWs6IT/gy1COQ/qJJvl4yrIquyGzdwiCHtLLalQWad4eqGuqnea8Vx4QcMn7O4s\n",
       "8J25Kt6FQGw/auFyrsrYfvUbwLKN0xIlqNdAph10w3as8jTj8NnpWWA3H9tje+L15J640BdFkPre\n",
       "tyMqgoHi4lb4hljurYZdbu/H4Q4+go1n7qmz4y+6YRt3Ht54aOwCux5ocla1igZp5dmIHHZ1eBOR\n",
       "93lkaYc3DdgimXpnVXsn85mrOZrLX9tHc8rqtdWnUoHG58zFa+ecOf4v8bvHs7d94sMAAAAASUVO\n",
       "RK5CYII=\n",
       "\" style=\"display:inline;vertical-align:middle;\" /></a><br>(see <a class=\"ProveItLink\" href=\"../__pv_it/330697af788ec96240b19a6bb2c879d229da7dbd0/dependencies.ipynb\">dependencies</a>)<br>"
      ],
      "text/plain": [
       "rationalsPosDefReduced: forall_{x in RationalsPos} [exists_{u in NaturalsPos, v in NaturalsPos} (((x * u) = v) and (gcd(u, v) = 1))]"
      ]
     },
     "execution_count": 2,
     "metadata": {},
     "output_type": "execute_result"
    }
   ],
   "source": [
    "%proving rationalsPosDefReduced presuming []"
   ]
  },
  {
   "cell_type": "code",
   "execution_count": null,
   "metadata": {},
   "outputs": [],
   "source": []
  }
 ],
 "metadata": {
  "kernelspec": {
   "display_name": "Python 3",
   "language": "python",
   "name": "python3"
  }
 },
 "nbformat": 4,
 "nbformat_minor": 0
}
