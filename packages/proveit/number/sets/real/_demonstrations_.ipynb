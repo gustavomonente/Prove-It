{
 "cells": [
  {
   "cell_type": "markdown",
   "metadata": {},
   "source": [
    "Demonstrations for context <a class=\"ProveItLink\" href=\"_context_.ipynb\">proveit.number.sets.real</a>\n",
    "========"
   ]
  },
  {
   "cell_type": "code",
   "execution_count": null,
   "metadata": {},
   "outputs": [],
   "source": [
    "import proveit\n",
    "from proveit import ProofFailure\n",
    "from proveit._common_ import a, b, c, n, x, y\n",
    "from proveit.logic import InSet\n",
    "from proveit.number import two\n",
    "from proveit.number import Reals, RealsPos, RealsNeg, RealsNonNeg\n",
    "%begin demonstrations"
   ]
  },
  {
   "cell_type": "markdown",
   "metadata": {},
   "source": [
    "# Real Numbers $\\mathbf{R}$, $\\mathbf{R}^+$, $\\mathbf{R}^-$\n",
    "\n",
    "### UNDER CONSTRUCTION"
   ]
  },
  {
   "cell_type": "markdown",
   "metadata": {},
   "source": [
    "<div style=\"line-height:1.4; font-size:14pt\">\n",
    "\n",
    "<a href='#introduction'>Introduction</a><br>\n",
    "<a href='#simple_expressions'>Simple Expressions involving the Real number sets and real number intervals $\\mathbf{R}$, $[a, b]$, etc</a><br>\n",
    "<a href='#common_attributes'>Common Attributes of the Real number NumberSets and real number intervals</a><br>\n",
    "<a href='#axioms'>Axioms</a><br>\n",
    "<a href='#theorems'>Theorems</a><br>\n",
    "<a href='#further_demonstrations'>Further Demonstrations</a><br>\n",
    "    <ol>\n",
    "        <li><a href='#demo01'>$2\\in(1, 3]$ and $2\\in[1, 3]$</a></li>\n",
    "        <li><a href='#demo02'>Proving $[1,2]\\subseteq \\mathbb{R}^{+}$</a></li>\n",
    "        <li><a href='#demo03'>Proving $[1,4]\\subset \\mathbb{R}^{+}$</a></li>\n",
    "    </ol>\n",
    "<a href='#misc_testing'>Misc Testing (temporary)</a><br>\n",
    "</div>\n"
   ]
  },
  {
   "cell_type": "markdown",
   "metadata": {},
   "source": [
    "## Introduction <a id='introduction'></a>"
   ]
  },
  {
   "cell_type": "markdown",
   "metadata": {},
   "source": [
    "<font size=3><br>The real numbers (or more simply, the “reals”), symbolized by $\\mathbb{R}$, consist of the set of all rational numbers, $\\mathbb{Q}$, such as $-10$ or $\\frac{4}{3}$, and the set of all irrational numbers, such as $\\pi$ and $\\sqrt{2}$.<br>\n",
    "The reals, various common subsets of the reals, and various open, closed, and half-open real intervals are ubiquitous in proofs and are easily represented and accessed in Prove-It.</font>"
   ]
  },
  {
   "cell_type": "markdown",
   "metadata": {},
   "source": [
    "## Simple Expressions Involving Real NumberSets and Real Intervals<a id='simple_expressions'></a>"
   ]
  },
  {
   "cell_type": "markdown",
   "metadata": {},
   "source": [
    "<font size=3>The real numbers $\\mathbb{R}$ and some standard real-valued subsets of the reals have standard names in Prove-It and can be imported and called upon as desired.</font>"
   ]
  },
  {
   "cell_type": "code",
   "execution_count": null,
   "metadata": {},
   "outputs": [],
   "source": [
    "# The real numbers\n",
    "Reals"
   ]
  },
  {
   "cell_type": "code",
   "execution_count": null,
   "metadata": {},
   "outputs": [],
   "source": [
    "# The positive real numbers\n",
    "RealsPos"
   ]
  },
  {
   "cell_type": "code",
   "execution_count": null,
   "metadata": {},
   "outputs": [],
   "source": [
    "# The negative real numbers\n",
    "RealsNeg"
   ]
  },
  {
   "cell_type": "code",
   "execution_count": null,
   "metadata": {},
   "outputs": [],
   "source": [
    "# The non-negative real numbers [0, Inf]\n",
    "RealsNonNeg"
   ]
  },
  {
   "cell_type": "code",
   "execution_count": null,
   "metadata": {},
   "outputs": [],
   "source": [
    "# An example claim that x is a non-negative real number\n",
    "InSet(x, RealsNonNeg)"
   ]
  },
  {
   "cell_type": "markdown",
   "metadata": {},
   "source": [
    "<font size=3>Open, closed, and half-open real intervals are also easy to express and easy to utilize in larger expressions, with the following constructions:\n",
    "<table>\n",
    "    <thead><td>real interval</td><td>Prove-It construction</td></thead>\n",
    "    <tr><td style=\"font-family:courier;text-align:center\">(a, b)</td>\n",
    "        <td style=\"font-family:courier;text-align:left\">IntervalOO(a, b)</td></tr>\n",
    "    <tr><td style=\"font-family:courier;text-align:center\">(a, b]</td>\n",
    "        <td style=\"font-family:courier;text-align:left\">IntervalOC(a, b)</td></tr>\n",
    "    <tr><td style=\"font-family:courier;text-align:center\">[a, b)</td>\n",
    "        <td style=\"font-family:courier;text-align:left\">IntervalCO(a, b)</td></tr>\n",
    "    <tr><td style=\"font-family:courier;text-align:center\">[a, b]</td>\n",
    "        <td style=\"font-family:courier;text-align:left\">IntervalCC(a, b)</td></tr>\n",
    "</table>\n",
    "</font>\n",
    "For example:"
   ]
  },
  {
   "cell_type": "code",
   "execution_count": null,
   "metadata": {},
   "outputs": [],
   "source": [
    "# Claim that x is a real number in the open interval (a, b)\n",
    "# Notice the IntervalOO uses two 'ohs', not zeros, standing\n",
    "# for 'open' at each end\n",
    "InSet(x, IntervalOO(a, b))"
   ]
  },
  {
   "cell_type": "code",
   "execution_count": null,
   "metadata": {},
   "outputs": [],
   "source": [
    "# Claim that y is a real number in the half-open interval (a, b]\n",
    "# Notice the IntervalOC uses an 'ohs', not a zero, standing for\n",
    "# 'open' on the left side\n",
    "InSet(y, IntervalOC(a, b))"
   ]
  },
  {
   "cell_type": "code",
   "execution_count": null,
   "metadata": {},
   "outputs": [],
   "source": [
    "# Or simply define some intervals of interest\n",
    "interval_C1bO, interval_C23C = (\n",
    "    IntervalCO(one, b), IntervalCC(two, three))"
   ]
  },
  {
   "cell_type": "markdown",
   "metadata": {},
   "source": [
    "## Common Attributes of NumberSet and Interval expressions <a id='common_attributes'></a>"
   ]
  },
  {
   "cell_type": "markdown",
   "metadata": {},
   "source": [
    "<font size=3>Let's look at some simple examples of real NumberSets and real Intervals, along with some of their attributesibutes.</font>"
   ]
  },
  {
   "cell_type": "code",
   "execution_count": null,
   "metadata": {},
   "outputs": [],
   "source": [
    "example_set, interval_C1bO = RealsPos, IntervalCO(one, b)"
   ]
  },
  {
   "cell_type": "code",
   "execution_count": null,
   "metadata": {},
   "outputs": [],
   "source": [
    "# The expression for our set of real positive numbers is simply a Literal\n",
    "example_set.exprInfo()"
   ]
  },
  {
   "cell_type": "code",
   "execution_count": null,
   "metadata": {},
   "outputs": [],
   "source": [
    "# The interval expression has more structure and each\n",
    "# of the boundaries can be either a Literal or a Variable\n",
    "interval_C1bO.exprInfo()"
   ]
  },
  {
   "cell_type": "markdown",
   "metadata": {},
   "source": [
    "<font size=4>We can access the left-hand and right-hand bounds of the interval combined as a simple tuple, or access each bound separately:</font>"
   ]
  },
  {
   "cell_type": "code",
   "execution_count": null,
   "metadata": {},
   "outputs": [],
   "source": [
    "# the bounds extracted as a tuple\n",
    "interval_C1bO.operands"
   ]
  },
  {
   "cell_type": "code",
   "execution_count": null,
   "metadata": {},
   "outputs": [],
   "source": [
    "# lower bound\n",
    "interval_C1bO.lowerBound"
   ]
  },
  {
   "cell_type": "code",
   "execution_count": null,
   "metadata": {},
   "outputs": [],
   "source": [
    "# upper bound\n",
    "interval_C1bO.upperBound"
   ]
  },
  {
   "cell_type": "markdown",
   "metadata": {},
   "source": [
    "<font size=3>Many simple interval membership claims can be deduced relatively easily via `IntervalXX` methods relying on related theorems:</font>"
   ]
  },
  {
   "cell_type": "code",
   "execution_count": null,
   "metadata": {},
   "outputs": [],
   "source": [
    "# here is an unproven claim\n",
    "two_in_O13C = InSet(two, IntervalOC(one, three))"
   ]
  },
  {
   "cell_type": "markdown",
   "metadata": {},
   "source": [
    "<font size=3>Prove-It will not automatically prove our assertion that $2\\in (1, 3]$:</font>"
   ]
  },
  {
   "cell_type": "code",
   "execution_count": null,
   "metadata": {},
   "outputs": [],
   "source": [
    "try:\n",
    "    two_in_O13C.prove()\n",
    "except ProofFailure as e:\n",
    "    print(\"ProofFailure. {}\".format(e))"
   ]
  },
  {
   "cell_type": "markdown",
   "metadata": {},
   "source": [
    "<font size=3>But we can manually prompt Prove-It to prove that $2\\in (1, 3]$ utilizing an explicit `Interval` method:</font>"
   ]
  },
  {
   "cell_type": "code",
   "execution_count": null,
   "metadata": {},
   "outputs": [],
   "source": [
    "# deduce the claim as a known truth\n",
    "IntervalOC(one, three).deduceElemInSet(two)"
   ]
  },
  {
   "cell_type": "markdown",
   "metadata": {},
   "source": [
    "## Axioms <a id='axioms'></a>"
   ]
  },
  {
   "cell_type": "markdown",
   "metadata": {},
   "source": [
    "<font size=3>The current axioms for the `number/sets/real` context consist of definitions of what it means for something to be an element of a real interval. For example, when we write $x\\in (a, b)$ for $a \\le b$ and $a,b\\in \\mathbb{R}$, that is equivalent to saying $x\\in\\mathbb{R}$ and $a < x < b$.<br/>\n",
    "The axiom for open intervals is shown below (and the related axioms can be found in the [axioms notebook](./\\_axioms\\_.ipynb)):</font>"
   ]
  },
  {
   "cell_type": "code",
   "execution_count": null,
   "metadata": {},
   "outputs": [],
   "source": [
    "from proveit.number.sets.real._axioms_ import in_IntervalOO_def\n",
    "in_IntervalOO_def"
   ]
  },
  {
   "cell_type": "markdown",
   "metadata": {},
   "source": [
    "## Theorems<a id='theorems'></a>"
   ]
  },
  {
   "cell_type": "markdown",
   "metadata": {},
   "source": [
    "<font size=3>There are already a good number of basic theorems established in the `number/sets/real` context. Some examples are shown explicitly below, and the remainder can be found in the [theorems Jupyter Python notebook](./\\_theorems\\_.ipynb). Most such theorems are typically not acccessed directly but are instead used behind-the-scenes when calling various related class methods.</font>"
   ]
  },
  {
   "cell_type": "code",
   "execution_count": null,
   "metadata": {},
   "outputs": [],
   "source": [
    "from proveit.number.sets.real._theorems_ import (\n",
    "        all_in_IntervalOC_in_Reals, in_IntervalOO,\n",
    "        inRealsNeg_iff_negative, intervalCC_lower_bound,\n",
    "        natsInRealsNonNeg, not_int_if_between_successive_ints)"
   ]
  },
  {
   "cell_type": "code",
   "execution_count": null,
   "metadata": {},
   "outputs": [],
   "source": [
    "# The natural numbers are a proper subset of the non-negative reals\n",
    "natsInRealsNonNeg"
   ]
  },
  {
   "cell_type": "code",
   "execution_count": null,
   "metadata": {},
   "outputs": [],
   "source": [
    "# a is a negative real number iff a < 0\n",
    "inRealsNeg_iff_negative"
   ]
  },
  {
   "cell_type": "code",
   "execution_count": null,
   "metadata": {},
   "outputs": [],
   "source": [
    "# all elems of a real interval are real numbers\n",
    "all_in_IntervalOC_in_Reals"
   ]
  },
  {
   "cell_type": "code",
   "execution_count": null,
   "metadata": {},
   "outputs": [],
   "source": [
    "# all elements in [a, b] are ≥ a\n",
    "intervalCC_lower_bound"
   ]
  },
  {
   "cell_type": "code",
   "execution_count": null,
   "metadata": {},
   "outputs": [],
   "source": [
    "# reals greater than a but less than b are in the interval (a, b)\n",
    "in_IntervalOO"
   ]
  },
  {
   "cell_type": "code",
   "execution_count": null,
   "metadata": {},
   "outputs": [],
   "source": [
    "# a real value between successive integers is not itself an integer\n",
    "not_int_if_between_successive_ints"
   ]
  },
  {
   "cell_type": "markdown",
   "metadata": {},
   "source": [
    "## Demonstrations <a id='further_demonstrations'></a>"
   ]
  },
  {
   "cell_type": "markdown",
   "metadata": {},
   "source": [
    "<a id='demo01'></a><font size=4><b>1.</b> $2\\in(1,3]$ and $2\\in[1,3]$</font><br><br>\n",
    "<font size=3>We begin with a simple demonstration deriving the known truth $\\vdash 2\\in(1, 3]$, and then also deriving as a known truth the fact that $2\\in[1, 3]$ using an `IntervalOC` method based on a relaxation theorem.</font>"
   ]
  },
  {
   "cell_type": "markdown",
   "metadata": {},
   "source": [
    "<font size=3>First we define a real number interval of interest:</font>"
   ]
  },
  {
   "cell_type": "code",
   "execution_count": null,
   "metadata": {},
   "outputs": [],
   "source": [
    "interval_O1_3C = IntervalOC(one, three)"
   ]
  },
  {
   "cell_type": "markdown",
   "metadata": {},
   "source": [
    "<font size=3>We can automatically deduce that $2\\in(1,3]$.</font>"
   ]
  },
  {
   "cell_type": "code",
   "execution_count": null,
   "metadata": {},
   "outputs": [],
   "source": [
    "interval_O1_3C.deduceElemInSet(two)"
   ]
  },
  {
   "cell_type": "markdown",
   "metadata": {},
   "source": [
    "<font size=3>Then we consider the closed real interval $[1,3]$:</font>"
   ]
  },
  {
   "cell_type": "code",
   "execution_count": null,
   "metadata": {},
   "outputs": [],
   "source": [
    "interval_C1_3C = IntervalCC(one, three)"
   ]
  },
  {
   "cell_type": "markdown",
   "metadata": {},
   "source": [
    "<font size=3>The underlying machinery will not automatically prove that $2$ is also in this closed interval $[1, 3]$, despite the fact that we have the known truth $2\\in(1,3]$:</font>"
   ]
  },
  {
   "cell_type": "code",
   "execution_count": null,
   "metadata": {},
   "outputs": [],
   "source": [
    "from proveit import ProofFailure\n",
    "try:\n",
    "    InSet(two, IntervalCC(one, three)).prove()\n",
    "    assert False, \"Expecting a ProofFailure error; should not make it to this point\"\n",
    "except ProofFailure as e:\n",
    "    print(\"EXPECTED ERROR:\", e)"
   ]
  },
  {
   "cell_type": "markdown",
   "metadata": {},
   "source": [
    "<font size=3>We could instead use the `deduceElemInSet()` Interval class method, or we can use the `deduceRelaxedMembership()` method variation, and because we have previously shown that $2\\in(1,3]$ we don't need to provide that fact as an assumption for the deduction:</font>"
   ]
  },
  {
   "cell_type": "code",
   "execution_count": null,
   "metadata": {},
   "outputs": [],
   "source": [
    "two_in_O1_3C = interval_O1_3C.deduceRelaxedMembership(two)"
   ]
  },
  {
   "cell_type": "markdown",
   "metadata": {},
   "source": [
    "<font size=3>The proof that Prove-It produces involves a number of steps dealing with the elements 1, 2, and 3 being positive naturals (important in this case as a subset of the reals), and the definition of $2\\in(1,3]$, all of which eventually lead to the specialization of a relaxation theorem (see rows 0–4):</font>"
   ]
  },
  {
   "cell_type": "code",
   "execution_count": null,
   "metadata": {},
   "outputs": [],
   "source": [
    "two_in_O1_3C.proof()"
   ]
  },
  {
   "cell_type": "markdown",
   "metadata": {},
   "source": [
    "<a id='demo02'></a><font size=4><b>2.</b> Proving $[1,2]\\subseteq \\mathbb{R}^{+}$</font><br><br>\n",
    "<font size=3>The set of real numbers in the closed interval $[1, 2]$ is clearly a subset (and thus also an improper subset) of the positive real numbers $\\mathbb{R}^{+}$. Prove-It will not automatically prove this, however:</font>"
   ]
  },
  {
   "cell_type": "code",
   "execution_count": null,
   "metadata": {},
   "outputs": [],
   "source": [
    "from proveit.logic import SubsetEq\n",
    "try:\n",
    "    SubsetEq(IntervalCC(one, two), RealsPos).prove()\n",
    "except ProofFailure as e:\n",
    "    print(\"Proof failure. {}\".format(e))"
   ]
  },
  {
   "cell_type": "markdown",
   "metadata": {},
   "source": [
    "<font size=3>So we do a little work first to lead Prove-It to a proof. (See Demonstration \\#3 below for an alternative approach.)\n",
    "\n",
    "First we define our interval of interest and use some basic `IntervalCC` methods to derive that an element of $[1,2]$ is real, greater than or equal to 1, and greater than 0:</font>"
   ]
  },
  {
   "cell_type": "code",
   "execution_count": null,
   "metadata": {},
   "outputs": [],
   "source": [
    "# define our interval of interest\n",
    "interval_12 = IntervalCC(one, two)"
   ]
  },
  {
   "cell_type": "code",
   "execution_count": null,
   "metadata": {},
   "outputs": [],
   "source": [
    "# if x is in [1, 2] x must be real\n",
    "interval_12.deduceMemberInReals(x, assumptions=[InSet(x, interval_12)])"
   ]
  },
  {
   "cell_type": "code",
   "execution_count": null,
   "metadata": {},
   "outputs": [],
   "source": [
    "# and of course if x is in [1, 2] then 1 ≤ x\n",
    "interval_12.deduceMemberLowerBound(x, assumptions=[InSet(x, interval_12)])"
   ]
  },
  {
   "cell_type": "code",
   "execution_count": null,
   "metadata": {},
   "outputs": [],
   "source": [
    "# x being real and x ≥ 1 also means x > 0\n",
    "from proveit.number import Greater\n",
    "Greater(x, zero).prove(assumptions=[InSet(x, interval_12)])"
   ]
  },
  {
   "cell_type": "markdown",
   "metadata": {},
   "source": [
    "<font size=3>Then we can pull in a version of the definition of positive real numbers and specialize this for our element $x$ in the interval $[1, 2]$:</font>"
   ]
  },
  {
   "cell_type": "code",
   "execution_count": null,
   "metadata": {},
   "outputs": [],
   "source": [
    "# pull in a definition of positive reals\n",
    "from proveit.number.sets.real._theorems_ import inRealsPos_iff_positive\n",
    "inRealsPos_iff_positive"
   ]
  },
  {
   "cell_type": "code",
   "execution_count": null,
   "metadata": {},
   "outputs": [],
   "source": [
    "# specialize for our element x in [1, 2]\n",
    "xRealPos_iff_xPos = inRealsPos_iff_positive.specialize(\n",
    "    {a:x}, assumptions=[InSet(x, interval_12)])"
   ]
  },
  {
   "cell_type": "markdown",
   "metadata": {},
   "source": [
    "<font size=3>Since we have already established that $x > 0$ when $x\\in [1,2]$, we can derive the left-hand side of that logical equivalence under our assumption for $x$:</font>"
   ]
  },
  {
   "cell_type": "code",
   "execution_count": null,
   "metadata": {},
   "outputs": [],
   "source": [
    "# since we already know x > 0, we can derive the LHS of the logical equiv\n",
    "xInInterval_then_xPos = xRealPos_iff_xPos.deriveLeft(\n",
    "    assumptions=[InSet(x, interval_12)])"
   ]
  },
  {
   "cell_type": "markdown",
   "metadata": {},
   "source": [
    "<font size=3>If we jump the gun a bit here and ask Prove-It to now complete the proof, we still get an error message:</font>"
   ]
  },
  {
   "cell_type": "code",
   "execution_count": null,
   "metadata": {},
   "outputs": [],
   "source": [
    "from proveit.logic import SubsetEq\n",
    "try:\n",
    "    SubsetEq(IntervalCC(one, two), RealsPos).prove()\n",
    "except ProofFailure as e:\n",
    "    print(\"Proof failure. {}\".format(e))"
   ]
  },
  {
   "cell_type": "markdown",
   "metadata": {},
   "source": [
    "<font size=3>But the error message is instructive:  apparently Prove-It is trying to apply modus ponens to a known implication, and we just need to modify our earlier result to make it more obviously applicable. So we generalize the previous known truth that $\\{x\\in [1, 2]\\}\\vdash x \\in \\mathbb{R}^{+}$ as follows:</font>"
   ]
  },
  {
   "cell_type": "code",
   "execution_count": null,
   "metadata": {},
   "outputs": [],
   "source": [
    "# generalize\n",
    "xInInterval_then_xPos.generalize(x, conditions=[InSet(x, interval_12)])"
   ]
  },
  {
   "cell_type": "markdown",
   "metadata": {},
   "source": [
    "<font size=3>And now Prove-It has the pieces it needs to establish the desired known truth:</font>"
   ]
  },
  {
   "cell_type": "code",
   "execution_count": null,
   "metadata": {},
   "outputs": [],
   "source": [
    "# The previous generalization result allows the specialization of\n",
    "# a conditional theorem definition of improper subset\n",
    "SubsetEq(interval_12, RealsPos).prove()"
   ]
  },
  {
   "cell_type": "markdown",
   "metadata": {},
   "source": [
    "<font size=3>It turns out it takes quite a bit more work to take the further step and conclude that $[1, 2] \\subset \\mathbb{R}^{+}$ (<i>i.e.</i>, using a strict subset instead of an improper subset). Such proper subset relationships have been formulated as theorems, as demonstrated below in the next example.</font>"
   ]
  },
  {
   "cell_type": "markdown",
   "metadata": {},
   "source": [
    "<a id='demo03'></a><font size=4><b>3.</b> Proving $[1,4]\\subset \\mathbb{R}^{+}$</font><br><br>\n",
    "<font size=3>The set of real numbers in the closed interval $[1, 4]$ is clearly a subset of the positive real numbers $\\mathbb{R}^{+}$. We prove this subset relationship by specialization of a general theorem:</font>"
   ]
  },
  {
   "cell_type": "code",
   "execution_count": null,
   "metadata": {},
   "outputs": [],
   "source": [
    "from proveit.number.sets.real._theorems_ import realsPos_intervalCC_is_subset_of_RealsPos\n",
    "realsPos_intervalCC_is_subset_of_RealsPos"
   ]
  },
  {
   "cell_type": "markdown",
   "metadata": {},
   "source": [
    "<font size=3>For convenience and clarity, we explicitly define our interval of interest:</font>"
   ]
  },
  {
   "cell_type": "code",
   "execution_count": null,
   "metadata": {},
   "outputs": [],
   "source": [
    "interval_14 = IntervalCC(one, four)"
   ]
  },
  {
   "cell_type": "markdown",
   "metadata": {},
   "source": [
    "<font size=3>Then specialize the general theorem for this case:</font>"
   ]
  },
  {
   "cell_type": "code",
   "execution_count": null,
   "metadata": {},
   "outputs": [],
   "source": [
    "realsPos_intervalCC_is_subset_of_RealsPos.specialize(\n",
    "    {a:one, b:four})"
   ]
  },
  {
   "cell_type": "markdown",
   "metadata": {},
   "source": [
    "<font size=3>As a bit of an encore, we could then easily derive that $[1,4]\\subseteq\\mathbb{R}^{+}$ using a relaxation theorem from the set theory context:</font>"
   ]
  },
  {
   "cell_type": "code",
   "execution_count": null,
   "metadata": {},
   "outputs": [],
   "source": [
    "from proveit._common_ import A, B\n",
    "from proveit.logic.set_theory.containment._theorems_ import relaxSubset\n",
    "relaxSubset"
   ]
  },
  {
   "cell_type": "code",
   "execution_count": null,
   "metadata": {},
   "outputs": [],
   "source": [
    "relaxSubset.specialize({A:interval_14, B:RealsPos})"
   ]
  },
  {
   "cell_type": "markdown",
   "metadata": {},
   "source": [
    "<font size=3>Of course, in so doing we've ended up with a result similar to that in the Demonstration \\#2 above, but we've let that subset theorem we loaded at the beginning of this demonstration do all of the heavy lifting. At some point, that general theorem itself requires its own proof to be established.</font>"
   ]
  },
  {
   "cell_type": "markdown",
   "metadata": {},
   "source": [
    "## Misc Testing <a id='further_demonstrations'></a>"
   ]
  },
  {
   "cell_type": "markdown",
   "metadata": {},
   "source": [
    "<font size=3>The material below was developed to test the various methods related to the real number NumberSet classes and the Interval classes. Some or all of this material could eventually be integrated into the `demonstrations` page and/or deleted as development continues.</font>"
   ]
  },
  {
   "cell_type": "markdown",
   "metadata": {},
   "source": [
    "### Testing the `NumberSet.deduceMemberLowerBound()` and `NumberSet.deduceMemberUpperBound()` methods"
   ]
  },
  {
   "cell_type": "code",
   "execution_count": null,
   "metadata": {},
   "outputs": [],
   "source": [
    "one_in_RealsPos_implies_one_greater_zero = RealsPos.deduceMemberLowerBound(one)"
   ]
  },
  {
   "cell_type": "code",
   "execution_count": null,
   "metadata": {},
   "outputs": [],
   "source": [
    "RealsNeg.deduceMemberUpperBound(Neg(two))"
   ]
  },
  {
   "cell_type": "code",
   "execution_count": null,
   "metadata": {},
   "outputs": [],
   "source": [
    "RealsNonNeg.deduceMemberLowerBound(two)"
   ]
  },
  {
   "cell_type": "markdown",
   "metadata": {},
   "source": [
    "### Testing the `Interval.deduceMemberLowerBound()` and `Interval.deduceMemberUpperBound()` methods"
   ]
  },
  {
   "cell_type": "code",
   "execution_count": null,
   "metadata": {},
   "outputs": [],
   "source": [
    "# Element in an Open Interval (1,3)\n",
    "IntervalOO(one, three).deduceMemberLowerBound(\n",
    "        two, assumptions=[InSet(two, IntervalOO(one, three))])"
   ]
  },
  {
   "cell_type": "code",
   "execution_count": null,
   "metadata": {},
   "outputs": [],
   "source": [
    "# Element in an Open Interval (1,3)\n",
    "IntervalOO(one, three).deduceMemberUpperBound(\n",
    "        two, assumptions=[InSet(two, IntervalOO(one, three))])"
   ]
  },
  {
   "cell_type": "code",
   "execution_count": null,
   "metadata": {},
   "outputs": [],
   "source": [
    "# Variable Element in an Open Interval (1,3)\n",
    "IntervalOO(one, three).deduceMemberUpperBound(\n",
    "        c, assumptions=[InSet(c, IntervalOO(one, three))])"
   ]
  },
  {
   "cell_type": "code",
   "execution_count": null,
   "metadata": {},
   "outputs": [],
   "source": [
    "# Element in a Half-Open Interval (1,3]\n",
    "IntervalOC(one, three).deduceMemberLowerBound(\n",
    "        two, assumptions=[InSet(two, IntervalOC(one, three))])"
   ]
  },
  {
   "cell_type": "code",
   "execution_count": null,
   "metadata": {},
   "outputs": [],
   "source": [
    "# Element in a Half-Open Interval (1,3]\n",
    "IntervalOC(one, three).deduceMemberUpperBound(\n",
    "        two, assumptions=[InSet(two, IntervalOC(one, three))])"
   ]
  },
  {
   "cell_type": "code",
   "execution_count": null,
   "metadata": {},
   "outputs": [],
   "source": [
    "# Element in a Half-Open Interval [1,3)\n",
    "IntervalCO(one, three).deduceMemberLowerBound(\n",
    "        two, assumptions=[InSet(two, IntervalCO(one, three))])"
   ]
  },
  {
   "cell_type": "code",
   "execution_count": null,
   "metadata": {},
   "outputs": [],
   "source": [
    "# Element in a Half-Open Interval [1,3)\n",
    "IntervalCO(one, three).deduceMemberUpperBound(\n",
    "        two, assumptions=[InSet(two, IntervalCO(one, three))])"
   ]
  },
  {
   "cell_type": "code",
   "execution_count": null,
   "metadata": {},
   "outputs": [],
   "source": [
    "# Element in a Closed Interval [1,3]\n",
    "IntervalCC(one, three).deduceMemberLowerBound(\n",
    "        two, assumptions=[InSet(two, IntervalCC(one, three))])"
   ]
  },
  {
   "cell_type": "code",
   "execution_count": null,
   "metadata": {},
   "outputs": [],
   "source": [
    "# Element in a Closed Interval [1,3]\n",
    "IntervalCC(one, three).deduceMemberUpperBound(\n",
    "        two, assumptions=[InSet(two, IntervalCC(one, three))])"
   ]
  },
  {
   "cell_type": "markdown",
   "metadata": {},
   "source": [
    "### Testing the `Interval.deduceMemberInReals()` methods"
   ]
  },
  {
   "cell_type": "code",
   "execution_count": null,
   "metadata": {},
   "outputs": [],
   "source": [
    "# Element in an Open Interval (1,3)\n",
    "IntervalOO(one, three).deduceMemberInReals(\n",
    "        two, assumptions=[InSet(two, IntervalOO(one, three))])"
   ]
  },
  {
   "cell_type": "code",
   "execution_count": null,
   "metadata": {},
   "outputs": [],
   "source": [
    "# Variable Element in an Open Interval (1,3)\n",
    "IntervalOO(one, three).deduceMemberInReals(\n",
    "        c, assumptions=[InSet(c, IntervalOO(one, three))])"
   ]
  },
  {
   "cell_type": "code",
   "execution_count": null,
   "metadata": {},
   "outputs": [],
   "source": [
    "# Element in an Half-Open Interval (1,3]\n",
    "IntervalOC(one, three).deduceMemberInReals(\n",
    "        two, assumptions=[InSet(two, IntervalOC(one, three))])"
   ]
  },
  {
   "cell_type": "code",
   "execution_count": null,
   "metadata": {},
   "outputs": [],
   "source": [
    "# Variable Element in an Half-Open Interval (1,3]\n",
    "IntervalOC(one, three).deduceMemberInReals(\n",
    "        c, assumptions=[InSet(c, IntervalOC(one, three))])"
   ]
  },
  {
   "cell_type": "code",
   "execution_count": null,
   "metadata": {},
   "outputs": [],
   "source": [
    "# Element in an Half-Open Interval [1,3)\n",
    "IntervalCO(one, three).deduceMemberInReals(\n",
    "        two, assumptions=[InSet(two, IntervalCO(one, three))])"
   ]
  },
  {
   "cell_type": "code",
   "execution_count": null,
   "metadata": {},
   "outputs": [],
   "source": [
    "# Variable Element in an Half-Open Interval [1,3)\n",
    "IntervalCO(one, three).deduceMemberInReals(\n",
    "        c, assumptions=[InSet(c, IntervalCO(one, three))])"
   ]
  },
  {
   "cell_type": "code",
   "execution_count": null,
   "metadata": {},
   "outputs": [],
   "source": [
    "# Element in an Closed Interval [1,3)\n",
    "IntervalCC(one, three).deduceMemberInReals(\n",
    "        two, assumptions=[InSet(two, IntervalCC(one, three))])"
   ]
  },
  {
   "cell_type": "code",
   "execution_count": null,
   "metadata": {},
   "outputs": [],
   "source": [
    "# Variable Element in an Closed Interval [1,3)\n",
    "IntervalCC(one, three).deduceMemberInReals(\n",
    "        c, assumptions=[InSet(c, IntervalCC(one, three))])"
   ]
  },
  {
   "cell_type": "markdown",
   "metadata": {},
   "source": [
    "### Testing the `Interval.deduceElemInSet()` methods"
   ]
  },
  {
   "cell_type": "code",
   "execution_count": null,
   "metadata": {},
   "outputs": [],
   "source": [
    "# Element in an Open Interval (1,3)\n",
    "IntervalOO(one, three).deduceElemInSet(two)"
   ]
  },
  {
   "cell_type": "code",
   "execution_count": null,
   "metadata": {},
   "outputs": [],
   "source": [
    "# but this should NOT work for a discluded endpoint\n",
    "try:\n",
    "    IntervalOO(one, three).deduceElemInSet(one)\n",
    "except ProofFailure as e:\n",
    "    print(\"Proof failure: {}\".format(e))"
   ]
  },
  {
   "cell_type": "code",
   "execution_count": null,
   "metadata": {},
   "outputs": [],
   "source": [
    "# Element in Half-Open Interval (1,4]\n",
    "IntervalOC(one, four).deduceElemInSet(three)"
   ]
  },
  {
   "cell_type": "code",
   "execution_count": null,
   "metadata": {},
   "outputs": [],
   "source": [
    "# this should also work for the included (right) endpoint as well\n",
    "IntervalOC(one, four).deduceElemInSet(four)"
   ]
  },
  {
   "cell_type": "code",
   "execution_count": null,
   "metadata": {},
   "outputs": [],
   "source": [
    "# but this should NOT work for the discluded (left) endpoint\n",
    "try:\n",
    "    IntervalOC(one, four).deduceElemInSet(one)\n",
    "except ProofFailure as e:\n",
    "    print(\"Proof failure: {}\".format(e))"
   ]
  },
  {
   "cell_type": "code",
   "execution_count": null,
   "metadata": {},
   "outputs": [],
   "source": [
    "# Element in Half-Open Interval [2,4)\n",
    "IntervalCO(two, four).deduceElemInSet(three)"
   ]
  },
  {
   "cell_type": "code",
   "execution_count": null,
   "metadata": {},
   "outputs": [],
   "source": [
    "# this should also work for the included (left) endpoint as well\n",
    "IntervalCO(two, four).deduceElemInSet(two)"
   ]
  },
  {
   "cell_type": "code",
   "execution_count": null,
   "metadata": {},
   "outputs": [],
   "source": [
    "# but this should NOT work for the discluded (right) endpoint\n",
    "try:\n",
    "    IntervalCO(two, four).deduceElemInSet(four)\n",
    "except ProofFailure as e:\n",
    "    print(\"Proof failure: {}\".format(e))"
   ]
  },
  {
   "cell_type": "code",
   "execution_count": null,
   "metadata": {},
   "outputs": [],
   "source": [
    "# Element in a Closed Interval [1,3]\n",
    "IntervalCC(one, three).deduceElemInSet(two)"
   ]
  },
  {
   "cell_type": "code",
   "execution_count": null,
   "metadata": {},
   "outputs": [],
   "source": [
    "# this should also work for the included left endpoint\n",
    "IntervalCC(one, three).deduceElemInSet(one)"
   ]
  },
  {
   "cell_type": "code",
   "execution_count": null,
   "metadata": {},
   "outputs": [],
   "source": [
    "# this should also work for the included right endpoint\n",
    "IntervalCC(one, three).deduceElemInSet(three)"
   ]
  },
  {
   "cell_type": "code",
   "execution_count": null,
   "metadata": {},
   "outputs": [],
   "source": [
    "# but this should NOT work for a value outside the interval\n",
    "try:\n",
    "    IntervalCC(one, three).deduceElemInSet(four)\n",
    "except ProofFailure as e:\n",
    "    print(\"Proof failure: {}\".format(e))"
   ]
  },
  {
   "cell_type": "markdown",
   "metadata": {},
   "source": [
    "### Testing the `Interval.deduceRescaledMembership()` methods (testing the Scaling of Elements of Intervals To Scaled Intervals)"
   ]
  },
  {
   "cell_type": "code",
   "execution_count": null,
   "metadata": {},
   "outputs": [],
   "source": [
    "# Element in an Open Interval (1,3)\n",
    "IntervalOO(one, four).deduceRescaledMembership(two, two,\n",
    "        assumptions=[InSet(two, IntervalOO(one, four))])"
   ]
  },
  {
   "cell_type": "code",
   "execution_count": null,
   "metadata": {},
   "outputs": [],
   "source": [
    "# Element in an Half-Open Interval (1,3]\n",
    "IntervalOC(one, three).deduceRescaledMembership(two, three)"
   ]
  },
  {
   "cell_type": "code",
   "execution_count": null,
   "metadata": {},
   "outputs": [],
   "source": [
    "# Element in an Half-Open Interval [1,3)\n",
    "IntervalCO(one, three).deduceElemInSet(two)\n",
    "IntervalCO(one, three).deduceRescaledMembership(two, three)"
   ]
  },
  {
   "cell_type": "code",
   "execution_count": null,
   "metadata": {},
   "outputs": [],
   "source": [
    "# Element in an Closed Interval [1,3]\n",
    "IntervalCC(zero, four).deduceRescaledMembership(three, two,\n",
    "        assumptions=[InSet(three, IntervalCC(zero, four))])"
   ]
  },
  {
   "cell_type": "markdown",
   "metadata": {},
   "source": [
    "### Testing the `Interval.deduceLeft/RightRelaxedMembership()` methods"
   ]
  },
  {
   "cell_type": "code",
   "execution_count": null,
   "metadata": {},
   "outputs": [],
   "source": [
    "# Element in open interval (1,4) means element in half-open interval [1,4)\n",
    "IntervalOO(one, four).deduceLeftRelaxedMembership(two,\n",
    "        assumptions=[InSet(two, IntervalOO(one, four))])"
   ]
  },
  {
   "cell_type": "code",
   "execution_count": null,
   "metadata": {},
   "outputs": [],
   "source": [
    "# Element in open interval (1,4) means element in half-open interval (1,4]\n",
    "IntervalOO(one, four).deduceRightRelaxedMembership(two,\n",
    "        assumptions=[InSet(two, IntervalOO(one, four))])"
   ]
  },
  {
   "cell_type": "code",
   "execution_count": null,
   "metadata": {},
   "outputs": [],
   "source": [
    "# Element in open interval (1,4) means element in half-open interval (1,4]\n",
    "IntervalOO(one, four).deduceLeftRightRelaxedMembership(two,\n",
    "        assumptions=[InSet(two, IntervalOO(one, four))])"
   ]
  },
  {
   "cell_type": "code",
   "execution_count": null,
   "metadata": {},
   "outputs": [],
   "source": [
    "# Element in half-open interval (0,3] means element in closed interval [0,3]\n",
    "IntervalOC(zero, three).deduceRelaxedMembership(two,\n",
    "        assumptions=[InSet(two, IntervalOC(zero, three))])"
   ]
  },
  {
   "cell_type": "code",
   "execution_count": null,
   "metadata": {},
   "outputs": [],
   "source": [
    "# Element in half-open interval [0,3) means element in closed interval [0,3]\n",
    "IntervalCO(zero, three).deduceRelaxedMembership(two,\n",
    "        assumptions=[InSet(two, IntervalCO(zero, three))])"
   ]
  },
  {
   "cell_type": "markdown",
   "metadata": {},
   "source": [
    "### Testing the `InSet.deduceInBool()` methods<br>(indirectly testing the NumberSet.deduceMembershipInBool() methods)"
   ]
  },
  {
   "cell_type": "code",
   "execution_count": null,
   "metadata": {},
   "outputs": [],
   "source": [
    "InSet(x, Reals).deduceInBool()"
   ]
  },
  {
   "cell_type": "code",
   "execution_count": null,
   "metadata": {},
   "outputs": [],
   "source": [
    "InSet(y, RealsPos).deduceInBool()"
   ]
  },
  {
   "cell_type": "code",
   "execution_count": null,
   "metadata": {},
   "outputs": [],
   "source": [
    "InSet(a, RealsNeg).deduceInBool()"
   ]
  },
  {
   "cell_type": "code",
   "execution_count": null,
   "metadata": {},
   "outputs": [],
   "source": [
    "InSet(b, RealsNonNeg).deduceInBool()"
   ]
  },
  {
   "cell_type": "markdown",
   "metadata": {},
   "source": [
    "## Misc Testing <a id='misc_testing'></a>"
   ]
  },
  {
   "cell_type": "markdown",
   "metadata": {},
   "source": [
    "## Testing the `RealsNonNeg.deduceMemberLowerBound()` method"
   ]
  },
  {
   "cell_type": "code",
   "execution_count": null,
   "metadata": {},
   "outputs": [],
   "source": [
    "RealsNonNeg.deduceMemberLowerBound(two)"
   ]
  },
  {
   "cell_type": "code",
   "execution_count": null,
   "metadata": {},
   "outputs": [],
   "source": [
    "%end demonstrations"
   ]
  }
 ],
 "metadata": {
  "kernelspec": {
   "display_name": "Python 3",
   "language": "python",
   "name": "python3"
  }
 },
 "nbformat": 4,
 "nbformat_minor": 0
}
