{
 "cells": [
  {
   "cell_type": "markdown",
   "metadata": {},
   "source": [
    "Demonstrations for context <a class=\"ProveItLink\" href=\"_context_.ipynb\">proveit.number.sets.real</a>\n",
    "========"
   ]
  },
  {
   "cell_type": "code",
   "execution_count": null,
   "metadata": {},
   "outputs": [],
   "source": [
    "import proveit\n",
    "from proveit import ProofFailure\n",
    "from proveit._common_ import a, b, c, n, x, y\n",
    "from proveit.logic import InSet\n",
    "from proveit.number import Neg\n",
    "from proveit.number import (IntervalCC, IntervalCO, IntervalOC, IntervalOO,\n",
    "                            Reals, RealsPos, RealsNeg, RealsNonNeg)\n",
    "from proveit.number import zero, one, two, three, four\n",
    "%begin demonstrations"
   ]
  },
  {
   "cell_type": "markdown",
   "metadata": {},
   "source": [
    "# Real Numbers and Real Intervals<br>$\\mathbf{R}$, $\\mathbf{R}^+$, $\\mathbf{R}^-$, $\\mathbf{R}^{\\ge 0}$, $[a, b]$, $[a, b)$, $(a, b]$, $(a, b)$\n",
    "\n",
    "### UNDER CONSTRUCTION"
   ]
  },
  {
   "cell_type": "markdown",
   "metadata": {},
   "source": [
    "<div style=\"line-height:1.4; font-size:14pt\">\n",
    "\n",
    "<a href='#introduction'>Introduction</a><br>\n",
    "<a href='#simple_expressions'>Simple Expressions involving the Real number sets and real number intervals $\\mathbf{R}$, $[a, b]$, etc</a><br>\n",
    "<a href='#common_attributes'>Common Attributes of the Real number NumberSets and real number intervals</a><br>\n",
    "<a href='#axioms'>Axioms</a><br>\n",
    "<a href='#theorems'>Theorems</a><br>\n",
    "<a href='#further_demonstrations'>Further Demonstrations</a><br>\n",
    "    <ol>\n",
    "        <li><a href='#demo01'>$2\\in(1, 3]$ and $2\\in[1, 3]$</a></li>\n",
    "        <li><a href='#demo02'>Demo 2</a></li>\n",
    "        <li><a href='#demo03'>Demo 3</a></li>\n",
    "    </ol>\n",
    "\n",
    "</div>\n"
   ]
  },
  {
   "cell_type": "markdown",
   "metadata": {},
   "source": [
    "## Introduction <a id='introduction'></a>"
   ]
  },
  {
   "cell_type": "markdown",
   "metadata": {},
   "source": [
    "<font size=3><br>The real numbers (or more simply, the “reals”), symbolized by $\\mathbb{R}$, consist of the set of all rational numbers, $\\mathbb{Q}$, such as $-10$ or $\\frac{4}{3}$, and the set of all irrational numbers, such as $\\pi$ and $\\sqrt{2}$.<br>\n",
    "<i>Something more here about the importance of the Reals, the (possible) axiomatic definition, and perhaps the distinctiveness from the Naturals and Integers. Could also consider comments here about the extent to which actual evaluation of real operations is or is not implemented. UNDER CONSTRUCTION.</i></font>"
   ]
  },
  {
   "cell_type": "markdown",
   "metadata": {},
   "source": [
    "## Simple Expressions Involving Real NumberSets and Real Intervals<a id='simple_expressions'></a>"
   ]
  },
  {
   "cell_type": "markdown",
   "metadata": {},
   "source": [
    "<font size=3>The real numbers and some standard subsets of the reals have standard names in Prove-It and can be imported and called upon as desired.</font>"
   ]
  },
  {
   "cell_type": "code",
   "execution_count": null,
   "metadata": {},
   "outputs": [],
   "source": [
    "# The real numbers\n",
    "Reals"
   ]
  },
  {
   "cell_type": "code",
   "execution_count": null,
   "metadata": {},
   "outputs": [],
   "source": [
    "# The positive real numbers\n",
    "RealsPos"
   ]
  },
  {
   "cell_type": "code",
   "execution_count": null,
   "metadata": {},
   "outputs": [],
   "source": [
    "# The negative real numbers\n",
    "RealsNeg"
   ]
  },
  {
   "cell_type": "code",
   "execution_count": null,
   "metadata": {},
   "outputs": [],
   "source": [
    "# The non-negative real numbers [0, Inf]\n",
    "RealsNonNeg"
   ]
  },
  {
   "cell_type": "code",
   "execution_count": null,
   "metadata": {},
   "outputs": [],
   "source": [
    "# Claim that x is a non-negative real number\n",
    "InSet(x, RealsNonNeg)"
   ]
  },
  {
   "cell_type": "code",
   "execution_count": null,
   "metadata": {},
   "outputs": [],
   "source": [
    "# Claim that x is a real number in the open interval (a, b)\n",
    "# Notice the IntervalOO uses two 'ohs', not zeros, standing for 'open' at each end\n",
    "InSet(x, IntervalOO(a, b))"
   ]
  },
  {
   "cell_type": "code",
   "execution_count": null,
   "metadata": {},
   "outputs": [],
   "source": [
    "# or simply define an interval of interest\n",
    "example_interval_C1bO = IntervalCO(one, b)"
   ]
  },
  {
   "cell_type": "markdown",
   "metadata": {},
   "source": [
    "## Common Attributes of NumberSet and Interval expressions <a id='common_attributes'></a>"
   ]
  },
  {
   "cell_type": "markdown",
   "metadata": {},
   "source": [
    "<font size=3>Let's look at some simple examples of real NumberSets and real Intervals, along with some of their attributesibutes.</font>"
   ]
  },
  {
   "cell_type": "code",
   "execution_count": null,
   "metadata": {},
   "outputs": [],
   "source": [
    "example_set, example_interval_1b = RealsPos, IntervalCO(one, b)"
   ]
  },
  {
   "cell_type": "code",
   "execution_count": null,
   "metadata": {},
   "outputs": [],
   "source": [
    "# The expression for our set of real positive numbers is simply a Literal\n",
    "example_set.exprInfo()"
   ]
  },
  {
   "cell_type": "code",
   "execution_count": null,
   "metadata": {},
   "outputs": [],
   "source": [
    "# The interval expression has more structure and each\n",
    "# of the boundaries can be either a Literal or a Variable\n",
    "example_interval_1b.exprInfo()"
   ]
  },
  {
   "cell_type": "markdown",
   "metadata": {},
   "source": [
    "<font size=4>We can access the left-hand and right-hand bounds of the interval combined as a simple tuple, or access each bound separately:</font>"
   ]
  },
  {
   "cell_type": "code",
   "execution_count": null,
   "metadata": {},
   "outputs": [],
   "source": [
    "# the bounds extracted as a tuple\n",
    "example_interval_1b.operands"
   ]
  },
  {
   "cell_type": "code",
   "execution_count": null,
   "metadata": {},
   "outputs": [],
   "source": [
    "# lower bound\n",
    "example_interval_1b.lowerBound"
   ]
  },
  {
   "cell_type": "code",
   "execution_count": null,
   "metadata": {},
   "outputs": [],
   "source": [
    "# upper bound\n",
    "example_interval_1b.upperBound"
   ]
  },
  {
   "cell_type": "markdown",
   "metadata": {},
   "source": [
    "<font size=3>Many simple interval membership claims can be deduced relatively easily via Interval methods relying on related theorems:</font>"
   ]
  },
  {
   "cell_type": "code",
   "execution_count": null,
   "metadata": {},
   "outputs": [],
   "source": [
    "# an unproven claim\n",
    "example_interval_element = InSet(two, IntervalOC(one, three))"
   ]
  },
  {
   "cell_type": "code",
   "execution_count": null,
   "metadata": {},
   "outputs": [],
   "source": [
    "# a proven known truth\n",
    "IntervalOC(one, three).deduceElemInSet(two)"
   ]
  },
  {
   "cell_type": "markdown",
   "metadata": {},
   "source": [
    "## Axioms <a id='axioms'></a>"
   ]
  },
  {
   "cell_type": "markdown",
   "metadata": {},
   "source": [
    "<font size=3>No underlying `axioms` established at this time. Would eventually contain some fundamental definitions.</font>"
   ]
  },
  {
   "cell_type": "markdown",
   "metadata": {},
   "source": [
    "## Theorems<a id='theorems'></a>"
   ]
  },
  {
   "cell_type": "markdown",
   "metadata": {},
   "source": [
    "<font size=3>Here we sample a few of the multitude of theorems contained in the number/sets/real context. TBA.</font>"
   ]
  },
  {
   "cell_type": "markdown",
   "metadata": {},
   "source": [
    "## Demonstrations <a id='further_demonstrations'></a>"
   ]
  },
  {
   "cell_type": "markdown",
   "metadata": {},
   "source": [
    "<a id='demo01'></a><font size=4><b>1.</b> $2\\in(1,3]$ and $2\\in[1,3]$</font><br><br>\n",
    "<font size=3>We begin with a simple demonstration deriving as a known truth the fact that $2\\in(1, 3]$, and then also deriving as a known truth the fact that $2\\in[1, 3]$ using an IntervalOC method based on a relaxation theorem.</font>"
   ]
  },
  {
   "cell_type": "markdown",
   "metadata": {},
   "source": [
    "<font size=3>First we define a real number interval of interest:</font>"
   ]
  },
  {
   "cell_type": "code",
   "execution_count": null,
   "metadata": {},
   "outputs": [],
   "source": [
    "interval_O1_3C = IntervalOC(one, three)"
   ]
  },
  {
   "cell_type": "markdown",
   "metadata": {},
   "source": [
    "<font size=3>We can deduce that $2\\in(1,3]$.</font>"
   ]
  },
  {
   "cell_type": "code",
   "execution_count": null,
   "metadata": {},
   "outputs": [],
   "source": [
    "interval_O1_3C.deduceElemInSet(two)"
   ]
  },
  {
   "cell_type": "markdown",
   "metadata": {},
   "source": [
    "<font size=3>Then we consider the closed real interval $[1,3]$:</font>"
   ]
  },
  {
   "cell_type": "code",
   "execution_count": null,
   "metadata": {},
   "outputs": [],
   "source": [
    "interval_C1_3C = IntervalCC(one, three)"
   ]
  },
  {
   "cell_type": "markdown",
   "metadata": {},
   "source": [
    "<font size=3>The underlying machinery cannot (yet) automatically conclude that $2$ is also in this closed interval $[1, 3]$, despite the fact that we have the known truth $2\\in(1,3]$:</font>"
   ]
  },
  {
   "cell_type": "code",
   "execution_count": null,
   "metadata": {},
   "outputs": [],
   "source": [
    "from proveit import ProofFailure\n",
    "try:\n",
    "    InSet(two, IntervalCC(one, three)).prove()\n",
    "    assert False, \"Expecting a ProofFailure error; should not make it to this point\"\n",
    "except ProofFailure as e:\n",
    "    print(\"EXPECTED ERROR:\", e)"
   ]
  },
  {
   "cell_type": "markdown",
   "metadata": {},
   "source": [
    "<font size=3>We can nudge this forward, though, by calling on the deduceRelaxedMembership() method on the relevant interval, and because we have just shown that $2\\in(1,3]$ we don't need to provide that fact as an assumption for the deduction:</font>"
   ]
  },
  {
   "cell_type": "code",
   "execution_count": null,
   "metadata": {},
   "outputs": [],
   "source": [
    "two_in_O1_3C = interval_O1_3C.deduceRelaxedMembership(two)"
   ]
  },
  {
   "cell_type": "markdown",
   "metadata": {},
   "source": [
    "<font size=3>The proof that Prove-It produces involves a number of concerns about the elements 1, 2, and 3 being positive naturals, which is a subset of the reals, and the definition of $2\\in(1,3]$, all of which lead to the specialization of a relaxation theorem:</font>"
   ]
  },
  {
   "cell_type": "code",
   "execution_count": null,
   "metadata": {},
   "outputs": [],
   "source": [
    "two_in_O1_3C.proof()"
   ]
  },
  {
   "cell_type": "markdown",
   "metadata": {},
   "source": [
    "<a id='demo02'></a><font size=4><br>2. TBA<br><br>\n",
    "TBA</font>"
   ]
  },
  {
   "cell_type": "markdown",
   "metadata": {},
   "source": [
    "<a id='demo03'></a><font size=4><br>3. TBA<br><br>\n",
    "TBA</font>"
   ]
  },
  {
   "cell_type": "markdown",
   "metadata": {},
   "source": [
    "## Misc Testing <a id='further_demonstrations'></a>"
   ]
  },
  {
   "cell_type": "markdown",
   "metadata": {},
   "source": [
    "<font size=3>The material below was developed to test the various methods related to the real number NumberSet classes and the Interval classes. Some or all of this material could eventually be integrated into the `demonstrations` page and/or deleted as development continues.</font>"
   ]
  },
  {
   "cell_type": "markdown",
   "metadata": {},
   "source": [
    "### Testing the `NumberSet.deduceMemberLowerBound()` and `NumberSet.deduceMemberUpperBound()` methods"
   ]
  },
  {
   "cell_type": "code",
   "execution_count": null,
   "metadata": {},
   "outputs": [],
   "source": [
    "one_in_RealsPos_implies_one_greater_zero = RealsPos.deduceMemberLowerBound(one)"
   ]
  },
  {
   "cell_type": "code",
   "execution_count": null,
   "metadata": {},
   "outputs": [],
   "source": [
    "RealsNeg.deduceMemberUpperBound(Neg(two))"
   ]
  },
  {
   "cell_type": "code",
   "execution_count": null,
   "metadata": {},
   "outputs": [],
   "source": [
    "RealsNonNeg.deduceMemberLowerBound(two)"
   ]
  },
  {
   "cell_type": "markdown",
   "metadata": {},
   "source": [
    "### Testing the `Interval.deduceMemberLowerBound()` and `Interval.deduceMemberUpperBound()` methods"
   ]
  },
  {
   "cell_type": "code",
   "execution_count": null,
   "metadata": {},
   "outputs": [],
   "source": [
    "# Element in an Open Interval (1,3)\n",
    "IntervalOO(one, three).deduceMemberLowerBound(\n",
    "        two, assumptions=[InSet(two, IntervalOO(one, three))])"
   ]
  },
  {
   "cell_type": "code",
   "execution_count": null,
   "metadata": {},
   "outputs": [],
   "source": [
    "# Element in an Open Interval (1,3)\n",
    "IntervalOO(one, three).deduceMemberUpperBound(\n",
    "        two, assumptions=[InSet(two, IntervalOO(one, three))])"
   ]
  },
  {
   "cell_type": "code",
   "execution_count": null,
   "metadata": {},
   "outputs": [],
   "source": [
    "# Variable Element in an Open Interval (1,3)\n",
    "IntervalOO(one, three).deduceMemberUpperBound(\n",
    "        c, assumptions=[InSet(c, IntervalOO(one, three))])"
   ]
  },
  {
   "cell_type": "code",
   "execution_count": null,
   "metadata": {},
   "outputs": [],
   "source": [
    "# Element in a Half-Open Interval (1,3]\n",
    "IntervalOC(one, three).deduceMemberLowerBound(\n",
    "        two, assumptions=[InSet(two, IntervalOC(one, three))])"
   ]
  },
  {
   "cell_type": "code",
   "execution_count": null,
   "metadata": {},
   "outputs": [],
   "source": [
    "# Element in a Half-Open Interval (1,3]\n",
    "IntervalOC(one, three).deduceMemberUpperBound(\n",
    "        two, assumptions=[InSet(two, IntervalOC(one, three))])"
   ]
  },
  {
   "cell_type": "code",
   "execution_count": null,
   "metadata": {},
   "outputs": [],
   "source": [
    "# Element in a Half-Open Interval [1,3)\n",
    "IntervalCO(one, three).deduceMemberLowerBound(\n",
    "        two, assumptions=[InSet(two, IntervalCO(one, three))])"
   ]
  },
  {
   "cell_type": "code",
   "execution_count": null,
   "metadata": {},
   "outputs": [],
   "source": [
    "# Element in a Half-Open Interval [1,3)\n",
    "IntervalCO(one, three).deduceMemberUpperBound(\n",
    "        two, assumptions=[InSet(two, IntervalCO(one, three))])"
   ]
  },
  {
   "cell_type": "code",
   "execution_count": null,
   "metadata": {},
   "outputs": [],
   "source": [
    "# Element in a Closed Interval [1,3]\n",
    "IntervalCC(one, three).deduceMemberLowerBound(\n",
    "        two, assumptions=[InSet(two, IntervalCC(one, three))])"
   ]
  },
  {
   "cell_type": "code",
   "execution_count": null,
   "metadata": {},
   "outputs": [],
   "source": [
    "# Element in a Closed Interval [1,3]\n",
    "IntervalCC(one, three).deduceMemberUpperBound(\n",
    "        two, assumptions=[InSet(two, IntervalCC(one, three))])"
   ]
  },
  {
   "cell_type": "markdown",
   "metadata": {},
   "source": [
    "### Testing the `Interval.deduceMemberInReals()` methods"
   ]
  },
  {
   "cell_type": "code",
   "execution_count": null,
   "metadata": {},
   "outputs": [],
   "source": [
    "# Element in an Open Interval (1,3)\n",
    "IntervalOO(one, three).deduceMemberInReals(\n",
    "        two, assumptions=[InSet(two, IntervalOO(one, three))])"
   ]
  },
  {
   "cell_type": "code",
   "execution_count": null,
   "metadata": {},
   "outputs": [],
   "source": [
    "# Variable Element in an Open Interval (1,3)\n",
    "IntervalOO(one, three).deduceMemberInReals(\n",
    "        c, assumptions=[InSet(c, IntervalOO(one, three))])"
   ]
  },
  {
   "cell_type": "code",
   "execution_count": null,
   "metadata": {},
   "outputs": [],
   "source": [
    "# Element in an Half-Open Interval (1,3]\n",
    "IntervalOC(one, three).deduceMemberInReals(\n",
    "        two, assumptions=[InSet(two, IntervalOC(one, three))])"
   ]
  },
  {
   "cell_type": "code",
   "execution_count": null,
   "metadata": {},
   "outputs": [],
   "source": [
    "# Variable Element in an Half-Open Interval (1,3]\n",
    "IntervalOC(one, three).deduceMemberInReals(\n",
    "        c, assumptions=[InSet(c, IntervalOC(one, three))])"
   ]
  },
  {
   "cell_type": "code",
   "execution_count": null,
   "metadata": {},
   "outputs": [],
   "source": [
    "# Element in an Half-Open Interval [1,3)\n",
    "IntervalCO(one, three).deduceMemberInReals(\n",
    "        two, assumptions=[InSet(two, IntervalCO(one, three))])"
   ]
  },
  {
   "cell_type": "code",
   "execution_count": null,
   "metadata": {},
   "outputs": [],
   "source": [
    "# Variable Element in an Half-Open Interval [1,3)\n",
    "IntervalCO(one, three).deduceMemberInReals(\n",
    "        c, assumptions=[InSet(c, IntervalCO(one, three))])"
   ]
  },
  {
   "cell_type": "code",
   "execution_count": null,
   "metadata": {},
   "outputs": [],
   "source": [
    "# Element in an Closed Interval [1,3)\n",
    "IntervalCC(one, three).deduceMemberInReals(\n",
    "        two, assumptions=[InSet(two, IntervalCC(one, three))])"
   ]
  },
  {
   "cell_type": "code",
   "execution_count": null,
   "metadata": {},
   "outputs": [],
   "source": [
    "# Variable Element in an Closed Interval [1,3)\n",
    "IntervalCC(one, three).deduceMemberInReals(\n",
    "        c, assumptions=[InSet(c, IntervalCC(one, three))])"
   ]
  },
  {
   "cell_type": "markdown",
   "metadata": {},
   "source": [
    "### Testing the `InSet.deduceInBool()` methods<br>(indirectly testing the NumberSet.deduceMembershipInBool() methods)"
   ]
  },
  {
   "cell_type": "code",
   "execution_count": null,
   "metadata": {},
   "outputs": [],
   "source": [
    "InSet(x, Reals).deduceInBool()"
   ]
  },
  {
   "cell_type": "code",
   "execution_count": null,
   "metadata": {},
   "outputs": [],
   "source": [
    "InSet(y, RealsPos).deduceInBool()"
   ]
  },
  {
   "cell_type": "code",
   "execution_count": null,
   "metadata": {},
   "outputs": [],
   "source": [
    "InSet(a, RealsNeg).deduceInBool()"
   ]
  },
  {
   "cell_type": "code",
   "execution_count": null,
   "metadata": {},
   "outputs": [],
   "source": [
    "InSet(b, RealsNonNeg).deduceInBool()"
   ]
  },
  {
   "cell_type": "markdown",
   "metadata": {},
   "source": [
    "### Testing the `Interval.deduceElemInSet()` methods"
   ]
  },
  {
   "cell_type": "code",
   "execution_count": null,
   "metadata": {},
   "outputs": [],
   "source": [
    "# Element in an Open Interval (1,3)\n",
    "IntervalOO(one, three).deduceElemInSet(two)"
   ]
  },
  {
   "cell_type": "code",
   "execution_count": null,
   "metadata": {},
   "outputs": [],
   "source": [
    "# but this should NOT work for a discluded endpoint\n",
    "try:\n",
    "    IntervalOO(one, three).deduceElemInSet(one)\n",
    "except ProofFailure as e:\n",
    "    print(\"Proof failure: {}\".format(e))"
   ]
  },
  {
   "cell_type": "code",
   "execution_count": null,
   "metadata": {},
   "outputs": [],
   "source": [
    "# Element in Half-Open Interval (1,4]\n",
    "IntervalOC(one, four).deduceElemInSet(three)"
   ]
  },
  {
   "cell_type": "code",
   "execution_count": null,
   "metadata": {},
   "outputs": [],
   "source": [
    "# this should also work for the included (right) endpoint as well\n",
    "IntervalOC(one, four).deduceElemInSet(four)"
   ]
  },
  {
   "cell_type": "code",
   "execution_count": null,
   "metadata": {},
   "outputs": [],
   "source": [
    "# but this should NOT work for the discluded (left) endpoint\n",
    "try:\n",
    "    IntervalOC(one, four).deduceElemInSet(one)\n",
    "except ProofFailure as e:\n",
    "    print(\"Proof failure: {}\".format(e))"
   ]
  },
  {
   "cell_type": "code",
   "execution_count": null,
   "metadata": {},
   "outputs": [],
   "source": [
    "# Element in Half-Open Interval [2,4)\n",
    "IntervalCO(two, four).deduceElemInSet(three)"
   ]
  },
  {
   "cell_type": "code",
   "execution_count": null,
   "metadata": {},
   "outputs": [],
   "source": [
    "# this should also work for the included (left) endpoint as well\n",
    "IntervalCO(two, four).deduceElemInSet(two)"
   ]
  },
  {
   "cell_type": "code",
   "execution_count": null,
   "metadata": {},
   "outputs": [],
   "source": [
    "# but this should NOT work for the discluded (right) endpoint\n",
    "try:\n",
    "    IntervalCO(two, four).deduceElemInSet(four)\n",
    "except ProofFailure as e:\n",
    "    print(\"Proof failure: {}\".format(e))"
   ]
  },
  {
   "cell_type": "code",
   "execution_count": null,
   "metadata": {},
   "outputs": [],
   "source": [
    "# Element in a Closed Interval [1,3]\n",
    "IntervalCC(one, three).deduceElemInSet(two)"
   ]
  },
  {
   "cell_type": "code",
   "execution_count": null,
   "metadata": {},
   "outputs": [],
   "source": [
    "# this should also work for the included left endpoint\n",
    "IntervalCC(one, three).deduceElemInSet(one)"
   ]
  },
  {
   "cell_type": "code",
   "execution_count": null,
   "metadata": {},
   "outputs": [],
   "source": [
    "# this should also work for the included right endpoint\n",
    "IntervalCC(one, three).deduceElemInSet(three)"
   ]
  },
  {
   "cell_type": "code",
   "execution_count": null,
   "metadata": {},
   "outputs": [],
   "source": [
    "# but this should NOT work for a value outside the interval\n",
    "try:\n",
    "    IntervalCC(one, three).deduceElemInSet(four)\n",
    "except ProofFailure as e:\n",
    "    print(\"Proof failure: {}\".format(e))"
   ]
  },
  {
   "cell_type": "code",
   "execution_count": null,
   "metadata": {},
   "outputs": [],
   "source": [
    "%end demonstrations"
   ]
  }
 ],
 "metadata": {
  "kernelspec": {
   "display_name": "Python 3",
   "language": "python",
   "name": "python3"
  }
 },
 "nbformat": 4,
 "nbformat_minor": 0
}
