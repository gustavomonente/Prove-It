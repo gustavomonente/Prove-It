{
 "cells": [
  {
   "cell_type": "markdown",
   "metadata": {},
   "source": [
    "Demonstrations for context <a class=\"ProveItLink\" href=\"_context_.ipynb\">proveit.number.sets.real</a>\n",
    "========"
   ]
  },
  {
   "cell_type": "code",
   "execution_count": 1,
   "metadata": {},
   "outputs": [],
   "source": [
    "import proveit\n",
    "from proveit import ProofFailure\n",
    "from proveit._common_ import a, b, c, n, x, y\n",
    "from proveit.logic import InSet\n",
    "from proveit.number import Neg\n",
    "from proveit.number import (IntervalCC, IntervalCO, IntervalOC, IntervalOO,\n",
    "                            Reals, RealsPos, RealsNeg, RealsNonNeg)\n",
    "from proveit.number import zero, one, two, three, four\n",
    "%begin demonstrations"
   ]
  },
  {
   "cell_type": "markdown",
   "metadata": {},
   "source": [
    "# Real Numbers and Real Intervals<br>$\\mathbf{R}$, $\\mathbf{R}^+$, $\\mathbf{R}^-$, $\\mathbf{R}^{\\ge 0}$, $[a, b]$, $[a, b)$, $(a, b]$, $(a, b)$"
   ]
  },
  {
   "cell_type": "markdown",
   "metadata": {},
   "source": [
    "<div style=\"line-height:1.4; font-size:14pt\">\n",
    "\n",
    "<a href='#introduction'>Introduction</a><br>\n",
    "<a href='#simple_expressions'>Simple Expressions involving the Real number sets and real number intervals $\\mathbf{R}$, $[a, b]$, etc</a><br>\n",
    "<a href='#common_attributes'>Common Attributes of the Real number NumberSets and real number intervals</a><br>\n",
    "<a href='#axioms'>Axioms</a><br>\n",
    "<a href='#theorems'>Theorems</a><br>\n",
    "<a href='#further_demonstrations'>Further Demonstrations</a><br>\n",
    "    <ol>\n",
    "        <li><a href='#demo01'>$2\\in(1, 3]$ and $2\\in[1, 3]$</a></li>\n",
    "        <li><a href='#demo02'>Proving $[1,2]\\subseteq \\mathbb{R}^{+}$</a></li>\n",
    "        <li><a href='#demo03'>Proving $[1,4]\\subset \\mathbb{R}^{+}$</a></li>\n",
    "    </ol>\n",
    "<a href='#misc_testing'>Misc Testing (temporary)</a><br>\n",
    "</div>\n"
   ]
  },
  {
   "cell_type": "markdown",
   "metadata": {},
   "source": [
    "## Introduction <a id='introduction'></a>"
   ]
  },
  {
   "cell_type": "markdown",
   "metadata": {},
   "source": [
    "<font size=3><br>The real numbers (or more simply, the “reals”), symbolized by $\\mathbb{R}$, consist of the set of all rational numbers, $\\mathbb{Q}$, such as $-10$ or $\\frac{4}{3}$, and the set of all irrational numbers, such as $\\pi$ and $\\sqrt{2}$.<br>\n",
    "The reals, various common subsets of the reals, and various open, closed, and half-open real intervals are ubiquitous in proofs and are easily represented and accessed in Prove-It.</font>"
   ]
  },
  {
   "cell_type": "markdown",
   "metadata": {},
   "source": [
    "## Simple Expressions Involving Real NumberSets and Real Intervals<a id='simple_expressions'></a>"
   ]
  },
  {
   "cell_type": "markdown",
   "metadata": {},
   "source": [
    "<font size=3>The real numbers $\\mathbb{R}$ and some standard real-valued subsets of the reals have standard names in Prove-It and can be imported and called upon as desired.</font>"
   ]
  },
  {
   "cell_type": "code",
   "execution_count": 2,
   "metadata": {},
   "outputs": [
    {
     "data": {
      "text/html": [
       "<a class=\"ProveItLink\" href=\"__pv_it/83c2d223a7b04200651811c8b29e747fd8f853510/expr.ipynb\"><img src=\"data:image/png;base64,iVBORw0KGgoAAAANSUhEUgAAAA8AAAAOBAMAAAACpFvcAAAAMFBMVEX///+IiIiqqqq6urpmZmZ2\n",
       "dnbc3NzMzMxUVFTu7u4yMjJEREQQEBAiIiKYmJgAAACIyPRpAAAAAXRSTlMAQObYZgAAAFlJREFU\n",
       "CNdjeHt6/6rTDxiAYMEMhurXE4CMDakM3GwNEAZLwgIYYwOEwcEMldL1AivOuXtLgQEsYsI9AcJg\n",
       "Md8AYTDsfAhlVLAUQKxgVWhnYABaupxh93oFAP7MI7KHKGXxAAAAAElFTkSuQmCC\n",
       "\" style=\"display:inline;vertical-align:middle;\" /></a>"
      ],
      "text/plain": [
       "Reals"
      ]
     },
     "execution_count": 2,
     "metadata": {},
     "output_type": "execute_result"
    }
   ],
   "source": [
    "# The real numbers\n",
    "Reals"
   ]
  },
  {
   "cell_type": "code",
   "execution_count": 3,
   "metadata": {},
   "outputs": [
    {
     "data": {
      "text/html": [
       "<a class=\"ProveItLink\" href=\"__pv_it/201c4d7b652a9bf45500ae0d1f35f73fe37164750/expr.ipynb\"><img src=\"data:image/png;base64,iVBORw0KGgoAAAANSUhEUgAAABsAAAATBAMAAACTqWsLAAAAMFBMVEX///+IiIiqqqq6urpmZmZ2\n",
       "dnbc3NzMzMxUVFTu7u4yMjJEREQQEBAiIiKYmJgAAACIyPRpAAAAAXRSTlMAQObYZgAAAHNJREFU\n",
       "GNNjYMAFOFC53IS5b0/vX3X6AUJ2wQyG6tcTGLpWrVm1Cii8IZWBm60BLgvksiQsQOVuQOZyMKMo\n",
       "1vWagODm3L2lAGKwQWVNuCcgHLMhlcV8AzKXYedDFG4FSwGcC3Qkq0I7jAf0wnKG3esVIDwAl3Yo\n",
       "N6tRnxsAAAAASUVORK5CYII=\n",
       "\" style=\"display:inline;vertical-align:middle;\" /></a>"
      ],
      "text/plain": [
       "RealsPos"
      ]
     },
     "execution_count": 3,
     "metadata": {},
     "output_type": "execute_result"
    }
   ],
   "source": [
    "# The positive real numbers\n",
    "RealsPos"
   ]
  },
  {
   "cell_type": "code",
   "execution_count": 4,
   "metadata": {},
   "outputs": [
    {
     "data": {
      "text/html": [
       "<a class=\"ProveItLink\" href=\"__pv_it/72b616667ef68a72fe27a9e4d11052f53a16c06e0/expr.ipynb\"><img src=\"data:image/png;base64,iVBORw0KGgoAAAANSUhEUgAAABsAAAAOBAMAAAAs4XpOAAAAMFBMVEX///+IiIiqqqq6urpmZmZ2\n",
       "dnbc3NzMzMxUVFTu7u4yMjJEREQQEBAiIiKYmJgAAACIyPRpAAAAAXRSTlMAQObYZgAAAGRJREFU\n",
       "CNdjeHt6/6rTDxjgYMEMhurXExisdwPBBAaGDakM3GwNcFkglyVhASp3AzKXgxlFsa7XBAQ35+4t\n",
       "BQYkWRPuCchcFvMNyFyGnQ9RuBUsBciOZFVoh/GAXljOsHs91GwABkgnaQ/nc4UAAAAASUVORK5C\n",
       "YII=\n",
       "\" style=\"display:inline;vertical-align:middle;\" /></a>"
      ],
      "text/plain": [
       "RealsNeg"
      ]
     },
     "execution_count": 4,
     "metadata": {},
     "output_type": "execute_result"
    }
   ],
   "source": [
    "# The negative real numbers\n",
    "RealsNeg"
   ]
  },
  {
   "cell_type": "code",
   "execution_count": 5,
   "metadata": {},
   "outputs": [
    {
     "data": {
      "text/html": [
       "<a class=\"ProveItLink\" href=\"__pv_it/b1c74057583794fdc22d810345382814697a165a0/expr.ipynb\"><img src=\"data:image/png;base64,iVBORw0KGgoAAAANSUhEUgAAACQAAAAUBAMAAAAXVIIGAAAAMFBMVEX///+IiIiqqqq6urpmZmZ2\n",
       "dnbc3NzMzMxUVFTu7u4yMjJEREQQEBAiIiKYmJgAAACIyPRpAAAAAXRSTlMAQObYZgAAAMRJREFU\n",
       "GNNjYEAFoqIItkUCiOQLYGqAC7F5FABJXgOGnwhlbN5AsfkFDIeQjOGMNmCoT2C4h2w0Z9SE+gkM\n",
       "Fxnent6/6vQDsBDjOpCqgwwMC2YwVL+eABSZuAls1mcGhg2pDNxsQJunbobbCBRiSVjAMGUzWK8D\n",
       "yF1goQ0M5VDXhzCAhTiYG1B8BRTS9ZqAKpRz95YCA4P2biCYAFNlwo2qCCjEYr4BXYhh50MMoQqW\n",
       "AhQhoIdYFdqRRYDeXs6we70CQgQAOJo9oRG1cZ4AAAAASUVORK5CYII=\n",
       "\" style=\"display:inline;vertical-align:middle;\" /></a>"
      ],
      "text/plain": [
       "RealsNonNeg"
      ]
     },
     "execution_count": 5,
     "metadata": {},
     "output_type": "execute_result"
    }
   ],
   "source": [
    "# The non-negative real numbers [0, Inf]\n",
    "RealsNonNeg"
   ]
  },
  {
   "cell_type": "code",
   "execution_count": 6,
   "metadata": {},
   "outputs": [
    {
     "data": {
      "text/html": [
       "<a class=\"ProveItLink\" href=\"__pv_it/fb790960d4e0c61b2abfe04786c90351b60455b90/expr.ipynb\"><img src=\"data:image/png;base64,iVBORw0KGgoAAAANSUhEUgAAAEoAAAAVBAMAAAATJmVgAAAAMFBMVEX///8QEBBmZmaqqqrMzMxE\n",
       "REQyMjIiIiKYmJh2dna6urrc3NxUVFSIiIju7u4AAAA6P00QAAAAAXRSTlMAQObYZgAAAStJREFU\n",
       "KM9jYCAIbt7EK71mA4jkmMB8AJ8qbh0HIMm+gOEfXsO4VYHK3jswCON3Et/UBQz+GxgqCLicb9oD\n",
       "/wcMtdik2kXj00QbwEzeDJBZslhNSHjD4Nr6AMh4Gwx21y+sqgJ2MrByA73/MgqLHznCy8tgqpg2\n",
       "JDA8igJbqoASXiyxDxBmMW0IYHCBhv0kkN13dt28AOI9e4BkIw8XSoDzTeCoZU8AsU4ju8tc7QGy\n",
       "Ks4HnP+4wBEWgFC1sbzMgIHBNBQIIIr5GFgh0ixiaUAANWsR6wM0f/NfgEQaklk7mZYEoKnyd4DQ\n",
       "AsjuiutFUcP84D4DL9h4XWRVPkwOyKrWG8Qz7ACz2A2QYojT4Aiyqjd332pAYpbv6Dp4bKcwhOYb\n",
       "YE8mXFOhMYQBALcpV1wIq+GRAAAAAElFTkSuQmCC\n",
       "\" style=\"display:inline;vertical-align:middle;\" /></a>"
      ],
      "text/plain": [
       "x in RealsNonNeg"
      ]
     },
     "execution_count": 6,
     "metadata": {},
     "output_type": "execute_result"
    }
   ],
   "source": [
    "# An example claim that x is a non-negative real number\n",
    "InSet(x, RealsNonNeg)"
   ]
  },
  {
   "cell_type": "markdown",
   "metadata": {},
   "source": [
    "<font size=3>Open, closed, and half-open real intervals are also easy to express and easy to utilize in larger expressions, with the following constructions:\n",
    "<table>\n",
    "    <thead><td>real interval</td><td>Prove-It construction</td></thead>\n",
    "    <tr><td style=\"font-family:courier;text-align:center\">(a, b)</td>\n",
    "        <td style=\"font-family:courier;text-align:left\">IntervalOO(a, b)</td></tr>\n",
    "    <tr><td style=\"font-family:courier;text-align:center\">(a, b]</td>\n",
    "        <td style=\"font-family:courier;text-align:left\">IntervalOC(a, b)</td></tr>\n",
    "    <tr><td style=\"font-family:courier;text-align:center\">[a, b)</td>\n",
    "        <td style=\"font-family:courier;text-align:left\">IntervalCO(a, b)</td></tr>\n",
    "    <tr><td style=\"font-family:courier;text-align:center\">[a, b]</td>\n",
    "        <td style=\"font-family:courier;text-align:left\">IntervalCC(a, b)</td></tr>\n",
    "</table>\n",
    "</font>\n",
    "For example:"
   ]
  },
  {
   "cell_type": "code",
   "execution_count": 7,
   "metadata": {},
   "outputs": [
    {
     "data": {
      "text/html": [
       "<a class=\"ProveItLink\" href=\"__pv_it/9a656d4c9d2040bf5d5e65643f95696f8d7ec6fd0/expr.ipynb\"><img src=\"data:image/png;base64,iVBORw0KGgoAAAANSUhEUgAAAFEAAAAUBAMAAAAHNMzaAAAAMFBMVEX///8QEBBmZmaqqqrMzMxE\n",
       "REQyMjIiIiKYmJh2dna6urrc3NxUVFSIiIju7u4AAAA6P00QAAAAAXRSTlMAQObYZgAAAW5JREFU\n",
       "KM9jYMAGuBvQBKwZcICnSGy+wAIGBp4NOFRmI3PYFIDKE7Ar5FBA5vEbAIm5qArCy8vADHYUu9Y/\n",
       "ABIPkUVYYh9AWdtRDJgOdsICBoa3d3bdvADiPIMpZLgE8r6mrhyEl3NXmYGBU4GBbwJHLTvYvafh\n",
       "pkQA8cINbB8gfv/24P0GBo4EBs4HnP+4wO4KgKssBspLMDBBBJj/MfBfYGAuYOBjYIWIsIilAQGY\n",
       "KcXAwPSPgR3sJgamBIb3ExhYQBbwQ0S4EWYCVTIGMLx3gAXnegOISn+ICIMAsu1AY+yhwdnAoP+A\n",
       "gauAgfnBfQZesK91kX303oDhGDPY+fwLgG4G+Wi9QTzDDkh4G8BUTmJgYL3AUcPJ8B4YKDwNrMAo\n",
       "Y5rA8ObuWw1IyuE7ug6qcjmQc/bKnlsM7HVAlu4MkGsdkCODaypGbNrBGM8JpZAJMMZcHKkuGpY2\n",
       "L8AYCQRSMgdMgBVXSsbIHd0MDAAFvlaiO9oIEQAAAABJRU5ErkJggg==\n",
       "\" style=\"display:inline;vertical-align:middle;\" /></a>"
      ],
      "text/plain": [
       "x in (a,b)"
      ]
     },
     "execution_count": 7,
     "metadata": {},
     "output_type": "execute_result"
    }
   ],
   "source": [
    "# Claim that x is a real number in the open interval (a, b)\n",
    "# Notice the IntervalOO uses two 'ohs', not zeros, standing\n",
    "# for 'open' at each end\n",
    "InSet(x, IntervalOO(a, b))"
   ]
  },
  {
   "cell_type": "code",
   "execution_count": 8,
   "metadata": {},
   "outputs": [
    {
     "data": {
      "text/html": [
       "<a class=\"ProveItLink\" href=\"__pv_it/72215720324066bc29500ebf30780d21a710b84d0/expr.ipynb\"><img src=\"data:image/png;base64,iVBORw0KGgoAAAANSUhEUgAAAE4AAAAUBAMAAADRkRa/AAAAMFBMVEX///8iIiKYmJhUVFTMzMxE\n",
       "REQyMjKqqqq6urp2dnYQEBDc3NxmZmaIiIju7u4AAACH5sGpAAAAAXRSTlMAQObYZgAAAVpJREFU\n",
       "KM9jYMACuBXQBNQksCljeIrCWQgkZmBVl43Cy8GljukACvc7ujpVQcEEEM24AVmU4x+aOtd7UMZG\n",
       "FOM4BcDq+O5cYNj1AMjky4PJ3AF5+eTZdRAem+2dAqA6To4FDPdBfGa4bUFA3LWB7QOE9z6P7zdQ\n",
       "3XaeBIZQEJ8VbpM40PBFDDwBEF79A4a/QHUPuC4AaSDwSgMCsD9WMDDw/GNgvABRd4yB7yfIH/0P\n",
       "WL6A+Fvh5gHVcQUwvHeABR/Hd5C6Ywy8C0B8LmR7309gqIfyPoEMB6oLZmA1APF5LiD5430Bgxk7\n",
       "xGM/GF4pgNQdZuhXgBkDAXOAnrrAJMzJ8B7kXCOGGHA4P757HqLxccQDiLpGoH9tr2y+wcAoB+S9\n",
       "uakAjY9jUHM6A9HjrQ7GmMHAnMD3A2c6mIBQx6jAegE9wURDab4LCHUcd4/gTKdMDAh1RKX7axIA\n",
       "ENtf9bAZtK8AAAAASUVORK5CYII=\n",
       "\" style=\"display:inline;vertical-align:middle;\" /></a>"
      ],
      "text/plain": [
       "y in (a,b]"
      ]
     },
     "execution_count": 8,
     "metadata": {},
     "output_type": "execute_result"
    }
   ],
   "source": [
    "# Claim that y is a real number in the half-open interval (a, b]\n",
    "# Notice the IntervalOC uses an 'ohs', not a zero, standing for\n",
    "# 'open' on the left side\n",
    "InSet(y, IntervalOC(a, b))"
   ]
  },
  {
   "cell_type": "code",
   "execution_count": 9,
   "metadata": {},
   "outputs": [
    {
     "data": {
      "text/html": [
       "<strong id=\"interval_C1bO\">interval_C1bO:</strong> <a class=\"ProveItLink\" href=\"__pv_it/e5b2ee050f273126871cd55512d3d3ab122819350/expr.ipynb\"><img src=\"data:image/png;base64,iVBORw0KGgoAAAANSUhEUgAAACYAAAAUBAMAAAAToVI7AAAAMFBMVEX////c3NxERERmZmaYmJhU\n",
       "VFTu7u4QEBCqqqoiIiK6urp2dnbMzMwyMjKIiIgAAAB1lk67AAAAAXRSTlMAQObYZgAAALxJREFU\n",
       "GNNjeHuHAQVwCDAw7ELiJ1UCiUCwGEcZTPAyEOeCxFK3foOJ/QBi7gcgdSwwMS4Qg60ARYx7Aoi8\n",
       "hSLGG/e4gYFhM4pY/jW2jwwMvihi/QkM/xgYOlHEbBnYfjMwnEcRu8zA9QNd7AsDM5C5EkXsF0O6\n",
       "A9QOPqBY/gWgWAiDMpC0Booxh/81YeCcBuQlvwYqY7gDD5c2mJ/ZJsDFNsDEIGEAln0AE8uFhykL\n",
       "PGAVGRheooU9iwADADu8P87VcpbQAAAAAElFTkSuQmCC\n",
       "\" style=\"display:inline;vertical-align:middle;\" /></a><br>\n",
       "<strong id=\"interval_C23C\">interval_C23C:</strong> <a class=\"ProveItLink\" href=\"__pv_it/2887cc5c5f0fef3bdb3c944ad29354f295678cd60/expr.ipynb\"><img src=\"data:image/png;base64,iVBORw0KGgoAAAANSUhEUgAAACUAAAAUBAMAAAD4luk4AAAAMFBMVEX///+YmJiqqqrc3NwQEBBU\n",
       "VFRERERmZmbu7u4iIiK6urp2dnbMzMwyMjKIiIgAAACJFrqlAAAAAXRSTlMAQObYZgAAAMpJREFU\n",
       "GNNjeHuHAQUw3lzAsIuBob0sB8Jn3r1NgYEbJMYRwLB/AVjMnIHpI0SMvYGBxQEs9l6B4SdEjGUC\n",
       "A+tnsNiSBQx/IWK8PxhY/0BtgOkFAs4fULHODXCx9RsgQtbTG+BiU2Gu4/OCibEXwJ3s0gAVew4V\n",
       "MGZgyFeAiDEVgHhA8L8BLnaageExWMyNgWE+RC/z7N2lEzj+AsUE4e7j/f///wSGmQ0MDFzlZQvg\n",
       "bgH5oAHKQBLjZsAU68MiJoAk9hIt7PluLgAAh0ZJf48cPkMAAAAASUVORK5CYII=\n",
       "\" style=\"display:inline;vertical-align:middle;\" /></a><br>"
      ],
      "text/plain": [
       "interval_C1bO: [1,b)\n",
       "interval_C23C: [2,3]"
      ]
     },
     "execution_count": 9,
     "metadata": {},
     "output_type": "execute_result"
    }
   ],
   "source": [
    "# Or simply define some intervals of interest\n",
    "interval_C1bO, interval_C23C = (\n",
    "    IntervalCO(one, b), IntervalCC(two, three))"
   ]
  },
  {
   "cell_type": "markdown",
   "metadata": {},
   "source": [
    "## Common Attributes of NumberSet and Interval expressions <a id='common_attributes'></a>"
   ]
  },
  {
   "cell_type": "markdown",
   "metadata": {},
   "source": [
    "<font size=3>Let's look at some simple examples of real NumberSets and real Intervals, along with some of their attributesibutes.</font>"
   ]
  },
  {
   "cell_type": "code",
   "execution_count": 10,
   "metadata": {},
   "outputs": [
    {
     "data": {
      "text/html": [
       "<strong id=\"example_set\">example_set:</strong> <a class=\"ProveItLink\" href=\"__pv_it/201c4d7b652a9bf45500ae0d1f35f73fe37164750/expr.ipynb\"><img src=\"data:image/png;base64,iVBORw0KGgoAAAANSUhEUgAAABsAAAATBAMAAACTqWsLAAAAMFBMVEX///+IiIiqqqq6urpmZmZ2\n",
       "dnbc3NzMzMxUVFTu7u4yMjJEREQQEBAiIiKYmJgAAACIyPRpAAAAAXRSTlMAQObYZgAAAHNJREFU\n",
       "GNNjYMAFOFC53IS5b0/vX3X6AUJ2wQyG6tcTGLpWrVm1Cii8IZWBm60BLgvksiQsQOVuQOZyMKMo\n",
       "1vWagODm3L2lAGKwQWVNuCcgHLMhlcV8AzKXYedDFG4FSwGcC3Qkq0I7jAf0wnKG3esVIDwAl3Yo\n",
       "N6tRnxsAAAAASUVORK5CYII=\n",
       "\" style=\"display:inline;vertical-align:middle;\" /></a><br>\n",
       "<strong id=\"interval_C1bO\">interval_C1bO:</strong> <a class=\"ProveItLink\" href=\"__pv_it/e5b2ee050f273126871cd55512d3d3ab122819350/expr.ipynb\"><img src=\"data:image/png;base64,iVBORw0KGgoAAAANSUhEUgAAACYAAAAUBAMAAAAToVI7AAAAMFBMVEX////c3NxERERmZmaYmJhU\n",
       "VFTu7u4QEBCqqqoiIiK6urp2dnbMzMwyMjKIiIgAAAB1lk67AAAAAXRSTlMAQObYZgAAALxJREFU\n",
       "GNNjeHuHAQVwCDAw7ELiJ1UCiUCwGEcZTPAyEOeCxFK3foOJ/QBi7gcgdSwwMS4Qg60ARYx7Aoi8\n",
       "hSLGG/e4gYFhM4pY/jW2jwwMvihi/QkM/xgYOlHEbBnYfjMwnEcRu8zA9QNd7AsDM5C5EkXsF0O6\n",
       "A9QOPqBY/gWgWAiDMpC0Booxh/81YeCcBuQlvwYqY7gDD5c2mJ/ZJsDFNsDEIGEAln0AE8uFhykL\n",
       "PGAVGRheooU9iwADADu8P87VcpbQAAAAAElFTkSuQmCC\n",
       "\" style=\"display:inline;vertical-align:middle;\" /></a><br>"
      ],
      "text/plain": [
       "example_set: RealsPos\n",
       "interval_C1bO: [1,b)"
      ]
     },
     "execution_count": 10,
     "metadata": {},
     "output_type": "execute_result"
    }
   ],
   "source": [
    "example_set, interval_C1bO = RealsPos, IntervalCO(one, b)"
   ]
  },
  {
   "cell_type": "code",
   "execution_count": 11,
   "metadata": {},
   "outputs": [
    {
     "data": {
      "text/html": [
       "<table><tr><th>&nbsp;</th><th>core type</th><th>sub-expressions</th><th>expression</th></tr>\n",
       "<tr><td>0</td><td>Literal</td><td></td><td><a class=\"ProveItLink\" href=\"__pv_it/201c4d7b652a9bf45500ae0d1f35f73fe37164750/expr.ipynb\"><img src=\"data:image/png;base64,iVBORw0KGgoAAAANSUhEUgAAABsAAAATBAMAAACTqWsLAAAAMFBMVEX///+IiIiqqqq6urpmZmZ2\n",
       "dnbc3NzMzMxUVFTu7u4yMjJEREQQEBAiIiKYmJgAAACIyPRpAAAAAXRSTlMAQObYZgAAAHNJREFU\n",
       "GNNjYMAFOFC53IS5b0/vX3X6AUJ2wQyG6tcTGLpWrVm1Cii8IZWBm60BLgvksiQsQOVuQOZyMKMo\n",
       "1vWagODm3L2lAGKwQWVNuCcgHLMhlcV8AzKXYedDFG4FSwGcC3Qkq0I7jAf0wnKG3esVIDwAl3Yo\n",
       "N6tRnxsAAAAASUVORK5CYII=\n",
       "\" style=\"display:inline;vertical-align:middle;\" /></a></td></tr>\n",
       "</table>\n"
      ],
      "text/plain": [
       "0. RealsPos\n",
       "   core type: Literal\n",
       "   sub-expressions: "
      ]
     },
     "execution_count": 11,
     "metadata": {},
     "output_type": "execute_result"
    }
   ],
   "source": [
    "# The expression for our set of real positive numbers is simply a Literal\n",
    "example_set.exprInfo()"
   ]
  },
  {
   "cell_type": "code",
   "execution_count": 12,
   "metadata": {},
   "outputs": [
    {
     "data": {
      "text/html": [
       "<table><tr><th>&nbsp;</th><th>core type</th><th>sub-expressions</th><th>expression</th></tr>\n",
       "<tr><td>0</td><td>Operation</td><td>operator:&nbsp;1<br>operands:&nbsp;2<br></td><td><a class=\"ProveItLink\" href=\"__pv_it/e5b2ee050f273126871cd55512d3d3ab122819350/expr.ipynb\"><img src=\"data:image/png;base64,iVBORw0KGgoAAAANSUhEUgAAACYAAAAUBAMAAAAToVI7AAAAMFBMVEX////c3NxERERmZmaYmJhU\n",
       "VFTu7u4QEBCqqqoiIiK6urp2dnbMzMwyMjKIiIgAAAB1lk67AAAAAXRSTlMAQObYZgAAALxJREFU\n",
       "GNNjeHuHAQVwCDAw7ELiJ1UCiUCwGEcZTPAyEOeCxFK3foOJ/QBi7gcgdSwwMS4Qg60ARYx7Aoi8\n",
       "hSLGG/e4gYFhM4pY/jW2jwwMvihi/QkM/xgYOlHEbBnYfjMwnEcRu8zA9QNd7AsDM5C5EkXsF0O6\n",
       "A9QOPqBY/gWgWAiDMpC0Booxh/81YeCcBuQlvwYqY7gDD5c2mJ/ZJsDFNsDEIGEAln0AE8uFhykL\n",
       "PGAVGRheooU9iwADADu8P87VcpbQAAAAAElFTkSuQmCC\n",
       "\" style=\"display:inline;vertical-align:middle;\" /></a></td></tr>\n",
       "<tr><td>1</td><td>Literal</td><td></td><td><a class=\"ProveItLink\" href=\"__pv_it/bf5c454b9d2ed3c7e1666a5a68ccb73f0ebf90690/expr.ipynb\"><img src=\"data:image/png;base64,iVBORw0KGgoAAAANSUhEUgAAAG8AAAAOBAMAAADTQ1+sAAAAMFBMVEX///8QEBCYmJiqqqru7u4i\n",
       "IiLMzMxERER2dna6urrc3NxmZmYyMjJUVFSIiIgAAAALIunGAAAAAXRSTlMAQObYZgAAAfpJREFU\n",
       "KM99kktoE2EQx39NvjTZxGSDgoqCLlXPehLRQ7cnH7FYxIMHHwveFNFbLyqLKAgGG9GCtyx48CAa\n",
       "9NKCj0TEk4cEL4JFuz2Ih9BQLaQP1Dqz0b3FhZ2ZHWbmN9/3X2B+7X3A/5+vXTHm28yHrC++fet5\n",
       "L/0zLkj1mZBYEDPnkHzmQNkj39CstRwXDPch5i7DwRMS1AOOSsxWzWZW4oKXfRoHQnjjSnAX3mli\n",
       "Vs26hbjgZJ/GmkduUYMLfzETnhhb2A8+PW2H1tTSa8yddmDNH+6Eph1yHB7fnnPZLb1j2nCEWnS8\n",
       "ekVMVfbwx0OzSlLYk0HWz6TfposZq8hprC004aMwwh58wlHbDHrYwT2nyHbJNTAbKHnnUi3Le5gb\n",
       "Yx8jDlOwDc56vcbIm+9RtwRmRa885ZNf39mJe0w2ceVG7lF3OcPgKmzXu8FlTX0hEmJJXllStJF6\n",
       "uxXLUnUJ2YTpUigKSVNJr+dHiirjbxWqge24VYztx7LclKObZZ2ZbrmqoCgnQihxVvfN6O804DPs\n",
       "+mX2yrbC2ayNnwVgFmWT/bbjU9PLuQGXnH/Kp1TGWoVywntlwkKDUpDVWZQ5BNfY1fLt+yHJH3BA\n",
       "aIWNmCtKH23+EsgkPNnBoyFoDzlYkWb56zJ8tHP+SyUxLZ+lqzMqHhenX6j/A6sgmZUzc8fAAAAA\n",
       "AElFTkSuQmCC\n",
       "\" style=\"display:inline;vertical-align:middle;\" /></a></td></tr>\n",
       "<tr><td>2</td><td>ExprTuple</td><td>3, 4</td><td><a class=\"ProveItLink\" href=\"__pv_it/5498cb8c8ad4642a91e7b53c960703255d616be80/expr.ipynb\"><img src=\"data:image/png;base64,iVBORw0KGgoAAAANSUhEUgAAACkAAAAUBAMAAADiqgm2AAAAMFBMVEX////MzMxUVFR2dna6uroQ\n",
       "EBCqqqqIiIgiIiJmZmYyMjJERETu7u6YmJjc3NwAAACgK8IjAAAAAXRSTlMAQObYZgAAAOVJREFU\n",
       "GNNjYOC7wIAK8kDEaSQBnq0NDAxMD4CsdUCcegAqzDUBKLWAgYF3AgOPsj5MlD8BSJgzMHCA1N+H\n",
       "ifqDGEcZGF4wIItagI1xYKhEEV1UPo2BgXkCw15kUZ5fB84/YOBdwNCGLMr2h4G/gIGtgSEEWZRz\n",
       "AcN5AwbGD6iiQOf6J4BEUUzgv8Aw/wADSwOqbfwOPLEMINssQbz6A0DrgTTTBW6glzkNGDyAnEnx\n",
       "Ky8wdADV80y3BZkuAPEx2FUwnzCcAIcOBDDDwxMYOgz7oOzj8EBegBTq8CjhBpmJEUP3GBgA5UlE\n",
       "VtuYBi4AAAAASUVORK5CYII=\n",
       "\" style=\"display:inline;vertical-align:middle;\" /></a></td></tr>\n",
       "<tr><td>3</td><td>Literal</td><td></td><td><a class=\"ProveItLink\" href=\"../../numeral/__pv_it/f086f8c372bd40a2458306ddfdbb29f3dc6f63030/expr.ipynb\"><img src=\"data:image/png;base64,iVBORw0KGgoAAAANSUhEUgAAAAgAAAAPBAMAAAArJJMAAAAAIVBMVEX///8yMjJmZmaIiIiYmJh2\n",
       "dnZUVFTu7u4QEBCqqqoAAAADAhFxAAAAAXRSTlMAQObYZgAAACBJREFUCNdjYAADznYGhrKw5UAW\n",
       "CykEM5BgylioAjYDAHBOCeDSSky9AAAAAElFTkSuQmCC\n",
       "\" style=\"display:inline;vertical-align:middle;\" /></a></td></tr>\n",
       "<tr><td>4</td><td>Variable</td><td></td><td><a class=\"ProveItLink\" href=\"../../../__pv_it/53e304ff98ebc000dbe3ef224f4637dbafd46ba70/expr.ipynb\"><img src=\"data:image/png;base64,iVBORw0KGgoAAAANSUhEUgAAAAkAAAAOBAMAAAAPuiubAAAALVBMVEX///+YmJjc3NyIiIhUVFR2\n",
       "dna6urqqqqpmZmYyMjIiIiIQEBBERETu7u4AAAALjtrwAAAAAXRSTlMAQObYZgAAAE9JREFUCNdj\n",
       "4D29gAEIOBtAJF8BiMy7ACKjQATDFON2BgbelxfuKTCwv2XgM2DgmMBwLwCkPK+AgU+Aoe8CA18C\n",
       "70YGBhYBHqARvM2BDAwAqXgQspq5HJAAAAAASUVORK5CYII=\n",
       "\" style=\"display:inline;vertical-align:middle;\" /></a></td></tr>\n",
       "</table>\n"
      ],
      "text/plain": [
       "0. [1,b)\n",
       "   core type: Operation\n",
       "   operator: 1\n",
       "   operands: 2\n",
       "1. IntervalCO\n",
       "   core type: Literal\n",
       "   sub-expressions: \n",
       "2. (1, b)\n",
       "   core type: ExprTuple\n",
       "   sub-expressions: 3, 4\n",
       "3. 1\n",
       "   core type: Literal\n",
       "   sub-expressions: \n",
       "4. b\n",
       "   core type: Variable\n",
       "   sub-expressions: "
      ]
     },
     "execution_count": 12,
     "metadata": {},
     "output_type": "execute_result"
    }
   ],
   "source": [
    "# The interval expression has more structure and each\n",
    "# of the boundaries can be either a Literal or a Variable\n",
    "interval_C1bO.exprInfo()"
   ]
  },
  {
   "cell_type": "markdown",
   "metadata": {},
   "source": [
    "<font size=4>We can access the left-hand and right-hand bounds of the interval combined as a simple tuple, or access each bound separately:</font>"
   ]
  },
  {
   "cell_type": "code",
   "execution_count": 13,
   "metadata": {},
   "outputs": [
    {
     "data": {
      "text/html": [
       "<a class=\"ProveItLink\" href=\"__pv_it/5498cb8c8ad4642a91e7b53c960703255d616be80/expr.ipynb\"><img src=\"data:image/png;base64,iVBORw0KGgoAAAANSUhEUgAAACkAAAAUBAMAAADiqgm2AAAAMFBMVEX////MzMxUVFR2dna6uroQ\n",
       "EBCqqqqIiIgiIiJmZmYyMjJERETu7u6YmJjc3NwAAACgK8IjAAAAAXRSTlMAQObYZgAAAOVJREFU\n",
       "GNNjYOC7wIAK8kDEaSQBnq0NDAxMD4CsdUCcegAqzDUBKLWAgYF3AgOPsj5MlD8BSJgzMHCA1N+H\n",
       "ifqDGEcZGF4wIItagI1xYKhEEV1UPo2BgXkCw15kUZ5fB84/YOBdwNCGLMr2h4G/gIGtgSEEWZRz\n",
       "AcN5AwbGD6iiQOf6J4BEUUzgv8Aw/wADSwOqbfwOPLEMINssQbz6A0DrgTTTBW6glzkNGDyAnEnx\n",
       "Ky8wdADV80y3BZkuAPEx2FUwnzCcAIcOBDDDwxMYOgz7oOzj8EBegBTq8CjhBpmJEUP3GBgA5UlE\n",
       "VtuYBi4AAAAASUVORK5CYII=\n",
       "\" style=\"display:inline;vertical-align:middle;\" /></a>"
      ],
      "text/plain": [
       "(1, b)"
      ]
     },
     "execution_count": 13,
     "metadata": {},
     "output_type": "execute_result"
    }
   ],
   "source": [
    "# the bounds extracted as a tuple\n",
    "interval_C1bO.operands"
   ]
  },
  {
   "cell_type": "code",
   "execution_count": 14,
   "metadata": {},
   "outputs": [
    {
     "data": {
      "text/html": [
       "<a class=\"ProveItLink\" href=\"../../numeral/__pv_it/f086f8c372bd40a2458306ddfdbb29f3dc6f63030/expr.ipynb\"><img src=\"data:image/png;base64,iVBORw0KGgoAAAANSUhEUgAAAAgAAAAPBAMAAAArJJMAAAAAIVBMVEX///8yMjJmZmaIiIiYmJh2\n",
       "dnZUVFTu7u4QEBCqqqoAAAADAhFxAAAAAXRSTlMAQObYZgAAACBJREFUCNdjYAADznYGhrKw5UAW\n",
       "CykEM5BgylioAjYDAHBOCeDSSky9AAAAAElFTkSuQmCC\n",
       "\" style=\"display:inline;vertical-align:middle;\" /></a>"
      ],
      "text/plain": [
       "1"
      ]
     },
     "execution_count": 14,
     "metadata": {},
     "output_type": "execute_result"
    }
   ],
   "source": [
    "# lower bound\n",
    "interval_C1bO.lowerBound"
   ]
  },
  {
   "cell_type": "code",
   "execution_count": 15,
   "metadata": {},
   "outputs": [
    {
     "data": {
      "text/html": [
       "<a class=\"ProveItLink\" href=\"../../../__pv_it/53e304ff98ebc000dbe3ef224f4637dbafd46ba70/expr.ipynb\"><img src=\"data:image/png;base64,iVBORw0KGgoAAAANSUhEUgAAAAkAAAAOBAMAAAAPuiubAAAALVBMVEX///+YmJjc3NyIiIhUVFR2\n",
       "dna6urqqqqpmZmYyMjIiIiIQEBBERETu7u4AAAALjtrwAAAAAXRSTlMAQObYZgAAAE9JREFUCNdj\n",
       "4D29gAEIOBtAJF8BiMy7ACKjQATDFON2BgbelxfuKTCwv2XgM2DgmMBwLwCkPK+AgU+Aoe8CA18C\n",
       "70YGBhYBHqARvM2BDAwAqXgQspq5HJAAAAAASUVORK5CYII=\n",
       "\" style=\"display:inline;vertical-align:middle;\" /></a>"
      ],
      "text/plain": [
       "b"
      ]
     },
     "execution_count": 15,
     "metadata": {},
     "output_type": "execute_result"
    }
   ],
   "source": [
    "# upper bound\n",
    "interval_C1bO.upperBound"
   ]
  },
  {
   "cell_type": "markdown",
   "metadata": {},
   "source": [
    "<font size=3>Many simple interval membership claims can be deduced relatively easily via `IntervalXX` methods relying on related theorems:</font>"
   ]
  },
  {
   "cell_type": "code",
   "execution_count": 16,
   "metadata": {},
   "outputs": [
    {
     "data": {
      "text/html": [
       "<strong id=\"two_in_O13C\">two_in_O13C:</strong> <a class=\"ProveItLink\" href=\"__pv_it/53014b7bdca1dde023f3febde6616eb1330bdfd20/expr.ipynb\"><img src=\"data:image/png;base64,iVBORw0KGgoAAAANSUhEUgAAAEwAAAAUBAMAAADVZMaCAAAAMFBMVEX///+YmJiqqqqIiIgyMjLc\n",
       "3NwiIiIQEBC6urp2dnZUVFTMzMxERERmZmbu7u4AAADrYmUNAAAAAXRSTlMAQObYZgAAAUVJREFU\n",
       "KM9jYMACAtH4IhkMfHfPbEAT5TuAxImceYiBYQbDKwbOH2jKWAIYGJjqIGzWCwz6AkBl9xgYytGU\n",
       "yTIwvJr1D8Jm/sTAnwBUVsbAsD4ALCKTluYAZqQCMSNUGUcFA78DUJn/A4b1YMftsYMaxpqApAwI\n",
       "wJYCQf4DkLv9YMLMF1CU8WUygJVx/ATxuAJg4jwCyMpYp92DKGNbAJaEW8KmgGqpeQNY2V0wZ7sL\n",
       "EIC9wN6Aqoy9DqQM7BQGhhiEMLIy1gAGnk8gZbogJlASu6X8/yDKuCcwMIOU8Rpg9QL7AQa2f0Bl\n",
       "YTPnLgMLJMGUcYJcwQxU9h7oVEYBSLj5////DSz76sQDaMADg5d3+ZeLDGx5QF7v3ROQAIGBzmNI\n",
       "kQUGejDGDGzJTRbGmIBXGQ80QvgM8CqDJUtGBrzKMBK5SQYArdBVk3NTsqgAAAAASUVORK5CYII=\n",
       "\" style=\"display:inline;vertical-align:middle;\" /></a><br>"
      ],
      "text/plain": [
       "two_in_O13C: 2 in (1,3]"
      ]
     },
     "execution_count": 16,
     "metadata": {},
     "output_type": "execute_result"
    }
   ],
   "source": [
    "# here is an unproven claim\n",
    "two_in_O13C = InSet(two, IntervalOC(one, three))"
   ]
  },
  {
   "cell_type": "markdown",
   "metadata": {},
   "source": [
    "<font size=3>Prove-It will not automatically prove our assertion that $2\\in (1, 3]$:</font>"
   ]
  },
  {
   "cell_type": "code",
   "execution_count": 17,
   "metadata": {},
   "outputs": [
    {
     "name": "stdout",
     "output_type": "stream",
     "text": [
      "ProofFailure. Unable to prove 2 in (1,3]:\n",
      "Unable to conclude automatically; the domain, (1,3], has no 'membershipObject' method with a strategy for proving membership.\n"
     ]
    }
   ],
   "source": [
    "try:\n",
    "    two_in_O13C.prove()\n",
    "except ProofFailure as e:\n",
    "    print(\"ProofFailure. {}\".format(e))"
   ]
  },
  {
   "cell_type": "markdown",
   "metadata": {},
   "source": [
    "<font size=3>But we can manually prompt Prove-It to prove that $2\\in (1, 3]$ utilizing an explicit `Interval` method:</font>"
   ]
  },
  {
   "cell_type": "code",
   "execution_count": 18,
   "metadata": {},
   "outputs": [
    {
     "data": {
      "text/html": [
       "<span style=\"font-size:20px;\"> <a class=\"ProveItLink\" href=\"__pv_it/959bdd4fe240b9a9aff357e39f9be27426c68ba30/proof.ipynb\" style=\"text-decoration: none\">&#x22A2;&nbsp;</a><a class=\"ProveItLink\" href=\"__pv_it/53014b7bdca1dde023f3febde6616eb1330bdfd20/expr.ipynb\"><img src=\"data:image/png;base64,iVBORw0KGgoAAAANSUhEUgAAAEwAAAAUBAMAAADVZMaCAAAAMFBMVEX///+YmJiqqqqIiIgyMjLc\n",
       "3NwiIiIQEBC6urp2dnZUVFTMzMxERERmZmbu7u4AAADrYmUNAAAAAXRSTlMAQObYZgAAAUVJREFU\n",
       "KM9jYMACAtH4IhkMfHfPbEAT5TuAxImceYiBYQbDKwbOH2jKWAIYGJjqIGzWCwz6AkBl9xgYytGU\n",
       "yTIwvJr1D8Jm/sTAnwBUVsbAsD4ALCKTluYAZqQCMSNUGUcFA78DUJn/A4b1YMftsYMaxpqApAwI\n",
       "wJYCQf4DkLv9YMLMF1CU8WUygJVx/ATxuAJg4jwCyMpYp92DKGNbAJaEW8KmgGqpeQNY2V0wZ7sL\n",
       "EIC9wN6Aqoy9DqQM7BQGhhiEMLIy1gAGnk8gZbogJlASu6X8/yDKuCcwMIOU8Rpg9QL7AQa2f0Bl\n",
       "YTPnLgMLJMGUcYJcwQxU9h7oVEYBSLj5////DSz76sQDaMADg5d3+ZeLDGx5QF7v3ROQAIGBzmNI\n",
       "kQUGejDGDGzJTRbGmIBXGQ80QvgM8CqDJUtGBrzKMBK5SQYArdBVk3NTsqgAAAAASUVORK5CYII=\n",
       "\" style=\"display:inline;vertical-align:middle;\" /></a></span>"
      ],
      "text/plain": [
       "|- 2 in (1,3]"
      ]
     },
     "execution_count": 18,
     "metadata": {},
     "output_type": "execute_result"
    }
   ],
   "source": [
    "# deduce the claim as a known truth\n",
    "IntervalOC(one, three).deduceElemInSet(two)"
   ]
  },
  {
   "cell_type": "markdown",
   "metadata": {},
   "source": [
    "## Axioms <a id='axioms'></a>"
   ]
  },
  {
   "cell_type": "markdown",
   "metadata": {},
   "source": [
    "<font size=3>The current axioms for the `number/sets/real` context consist of definitions of what it means for something to be an element of a real interval. For example, when we write $x\\in (a, b)$ for $a \\le b$ and $a,b\\in \\mathbb{R}$, that is equivalent to saying $x\\in\\mathbb{R}$ and $a < x < b$.<br/>\n",
    "The axiom for open intervals is shown below (and the related axioms can be found in the [axioms notebook](./\\_axioms\\_.ipynb)):</font>"
   ]
  },
  {
   "cell_type": "code",
   "execution_count": 19,
   "metadata": {},
   "outputs": [
    {
     "data": {
      "text/html": [
       "<span style=\"font-size:20px;\"> <a class=\"ProveItLink\" href=\"_axioms_.ipynb#in_IntervalOO_def\" style=\"text-decoration: none\">&#x22A2;&nbsp;</a><a class=\"ProveItLink\" href=\"__pv_it/b8b5135be2bc3c5845e41e12b59fc7f7b8ba18480/expr.ipynb\"><img src=\"data:image/png;base64,iVBORw0KGgoAAAANSUhEUgAAAeMAAAAVBAMAAACH5Zu7AAAAMFBMVEX///8QEBCIiIhmZma6urrM\n",
       "zMxUVFQiIiJERETc3Nzu7u6qqqp2dnaYmJgyMjIAAAAcRTyBAAAAAXRSTlMAQObYZgAABY9JREFU\n",
       "WMPdWF1oHFUUPtndye7OzG588CFalHWjaSn+LAlWRRNXi4iCJk8xBSFLTNX6EEL8idY0rHnQTYt0\n",
       "tWJFFCcJpCVGsyhSUkSXRKmuf4sW0hQqgxCLf20oFDSV4jlz7/zcmdl0lr554Mtm7pzz3fvNPffM\n",
       "vQNQj9286m2LVxl87F13wwJHcAo7zhMR3BZsJE5nQae2UwFjv/BxP8zhNTnvvHhpCKCxyOCymhTL\n",
       "zfvPNFd9Yg4HVSt0S1Cz8A3d+D2wZK/7bxxeSwoDTWZwADqDy2pT6DPQe0KzYuLOiGDm7JaAkt8i\n",
       "pnxgyR73RIbBx34SrppK+GeRQ7ANKPLvQCyes2KSGTtCMMVnxX3W7el20ZCc1PCnFFiyxz1aZHAo\n",
       "eGVkzPjnBSG2CyNhkkOwDShQcrioWzG9u+0Iwf9p72pZvsPb7aQhOVGZnT0IgSV73A9yWCaNazwL\n",
       "h4TYY8Y0ZRkgGAWTnLdiBtJ2hMNCo5pnqJsrPt0iUDL8XSiMBpfscW/hmGp948YUNXxodh+i7Duw\n",
       "dB2//jV9Jz7jDAP4UcjpXfcuChQkuTGSM2NkPWpHxO9qu5pdzQ2btcokAPlYCny6RZDknQATPuoe\n",
       "1v0lu91fZZDLieGoEbLLvBPDUhu5Cs7y4VzU5ouQQBcCqGcMyzgoYA6WU2MCBUk+0qnxGFxRfE2R\n",
       "9z3F5JpxMb3H9LYI5NvMl5jYLYIkbxdr6JEtj/1i0PO5UIZf7kw5JLvc4UUGVVPXI8aCsmpbFIc3\n",
       "WYXbOc86NKVAwWRXhlwPklNABX7QHhAoIP/ayBipZDFRiOtmhHwNhA2/xj8sb4tg0Ko2YrcIkhyF\n",
       "kPVIPm2vhlSokMQkRb2/1AGpsjrlkOxwN+xKBhlibKDStTR79F8Dkt+tAc+6sA7zZZBwYqQ1l2RO\n",
       "ARoUXBQ4y9tjlOUs5kcjyZh3eB2ixlTM2JJNAtmWLHaLIMlqNWreP7EwCyj5JGlqwilL7HtbQ8mJ\n",
       "DxySHe7CeOlhgvAGI8nNIJ+33i9dpY0lA5xzUaDk8H15SzLW6x4zoiEP88ZbCA7ssanO8cppJbbY\n",
       "LZcc14lmunUVIpTLJLmMv33ppzCJ0VDynEMyc1+8tbVbzEro4w1XOBJb/hcULrCpSlMewewimGs5\n",
       "J1BI510UtJb34tyyGCVjbm/QG+fuc3CVL4vALl9itxGW2DAxgC7PSuuQBCa5naRv1lrY7jJVDrc7\n",
       "JBvuIW0wmhXKl6Ldgq3U0OYoX/IFaNTZBrkpi6vPLl8+FRCOhtZgq0BBknvC3TyG5CpmwZsvwaBS\n",
       "FF9SFoH9khK75eULPkb54Yw0BNNGePjxZ+h3HH6WDfrUtieyTsnkLsFfZtMSQ1dpPz9FRM11RAVw\n",
       "HJZzZfkiVZlqDK/DZQbBOEXkQmyNHRcsCtpwqqWdPKaXJ7fhHUslnlPFrYhNYG9FxG4RhmRahA2l\n",
       "UA4eKRQKqZD6+nG2XLZJzxcK45D6+iZBMluz/5hN9zPMpKc6WG/ykw+yO5RJM+kd/VkYwUmQ276j\n",
       "iepmEIxTyP1bW06JFHisWIXC2RKLGaCmNJjeN7x5vbjhtAnsDafYLcKQnMABzRdjJ7VGltjKo5Qm\n",
       "67AJciyxP6k4JSdYBZVq7hYjX7k3nIq1tTjEcYkNp0XhjAPjyUt+G85L2SEbqjl/DcW+h0DtZmu5\n",
       "Uo7vhd2JPHzJJKvO8mXYe6qu1nGssBKw7mOFM84VUY+Jxwr+WPs/6gDYR1uR78vTndIm6PkW1wuu\n",
       "KWX0T7ldd0meOb5ozfwE+G/fMNycC+u9XuPwWJvCEeeJCG6uw6OwPce1zFOR/WzBtezacAY/39uf\n",
       "CKrOhxCr4xOB5+HV/YlA6DZW9Eje4MsLr/yX+SFohaPeD0Erl/chaMVG6HQtyVX4/9p/Yh/8V74F\n",
       "zHcAAAAASUVORK5CYII=\n",
       "\" style=\"display:inline;vertical-align:middle;\" /></a></span>"
      ],
      "text/plain": [
       "|- forall_{a in Reals, b in Reals} [forall_{x} ((x in (a,b)) = ((x in Reals) and (a < x < b)))]"
      ]
     },
     "execution_count": 19,
     "metadata": {},
     "output_type": "execute_result"
    }
   ],
   "source": [
    "from proveit.number.sets.real._axioms_ import in_IntervalOO_def\n",
    "in_IntervalOO_def"
   ]
  },
  {
   "cell_type": "markdown",
   "metadata": {},
   "source": [
    "## Theorems<a id='theorems'></a>"
   ]
  },
  {
   "cell_type": "markdown",
   "metadata": {},
   "source": [
    "<font size=3>There are already a good number of basic theorems established in the `number/sets/real` context. Some examples are shown explicitly below, and the remainder can be found in the [theorems Jupyter Python notebook](./\\_theorems\\_.ipynb). Most such theorems are typically not acccessed directly but are instead used behind-the-scenes when calling various related class methods.</font>"
   ]
  },
  {
   "cell_type": "code",
   "execution_count": 20,
   "metadata": {},
   "outputs": [],
   "source": [
    "from proveit.number.sets.real._theorems_ import (\n",
    "        all_in_IntervalOC_in_Reals, in_IntervalOO,\n",
    "        inRealsNeg_iff_negative, intervalCC_lower_bound,\n",
    "        natsInRealsNonNeg, not_int_if_between_successive_ints)"
   ]
  },
  {
   "cell_type": "code",
   "execution_count": 21,
   "metadata": {},
   "outputs": [
    {
     "data": {
      "text/html": [
       "<span style=\"font-size:20px;\"> <a class=\"ProveItLink\" href=\"_proofs_/natsInRealsNonNeg.ipynb\" style=\"text-decoration: none\">&#x22A2;&nbsp;</a><a class=\"ProveItLink\" href=\"__pv_it/0e7da902407e5d8d72a3804f12bf9894366c13c00/expr.ipynb\"><img src=\"data:image/png;base64,iVBORw0KGgoAAAANSUhEUgAAAE4AAAAVBAMAAAAazcUaAAAAMFBMVEX///9mZmaqqqrc3NyIiIgi\n",
       "IiJUVFTMzMyYmJi6uroQEBB2dnZEREQyMjLu7u4AAAA1o4RqAAAAAXRSTlMAQObYZgAAAVNJREFU\n",
       "KM9jYCACeHsTUDDNAERybGBKwK+OWawASLJOYPhHwEBmGaDC9wUMiwg5jW/PBIZ6A4YIgn7g2/ug\n",
       "/gFDCMPbP2cfMOz6NQFFsnXN+btrGsBMlhsg85YwMJxgT2Dg+4BmyoVnDDU9D4CMJ4fA7vvJwJBa\n",
       "4MLAsABN3QFrBh5mYGC8Pgn3b+Y5tgKGALAsx9HQ0NACqDpGgwsMD0+CrRYAhV9yGd89iDrm2wZI\n",
       "5jEaHGAoh8bHRiCRzORQBlHHaoBsLxsnaiQkM+zkcACrE0Jxn6rsAzR1bA/SweoCkNRZhcYqMDDo\n",
       "nAGCBzB1fAm8IP8yJyCbN5EH1TigOoZqdpA6vgPI6hinH8BQx6FwAN1ea4ZzLajq0oF4M1jdFhR1\n",
       "ZYwFKOouATHjBRCLVwE53rgV0pGVlf4CmsUHVseXNg+RDq4znLmvgCMNse+BxRsGAAClvGelUqpA\n",
       "WwAAAABJRU5ErkJggg==\n",
       "\" style=\"display:inline;vertical-align:middle;\" /></a></span>"
      ],
      "text/plain": [
       "|- Naturals subset RealsNonNeg"
      ]
     },
     "execution_count": 21,
     "metadata": {},
     "output_type": "execute_result"
    }
   ],
   "source": [
    "# The natural numbers are a proper subset of the non-negative reals\n",
    "natsInRealsNonNeg"
   ]
  },
  {
   "cell_type": "code",
   "execution_count": 22,
   "metadata": {},
   "outputs": [
    {
     "data": {
      "text/html": [
       "<span style=\"font-size:20px;\"> <a class=\"ProveItLink\" href=\"_proofs_/inRealsNeg_iff_negative.ipynb\" style=\"text-decoration: none\">&#x22A2;&nbsp;</a><a class=\"ProveItLink\" href=\"__pv_it/4207b9d24137c63241b6aed6ff48ac4332746dfc0/expr.ipynb\"><img src=\"data:image/png;base64,iVBORw0KGgoAAAANSUhEUgAAAPwAAAAaBAMAAABhmCzLAAAAMFBMVEX///8QEBCIiIhmZma6urrM\n",
       "zMxUVFQiIiJERETc3Nzu7u6qqqp2dnaYmJgyMjIAAAAcRTyBAAAAAXRSTlMAQObYZgAAA9lJREFU\n",
       "SMfFVlloE1EUvU0zWSaZWKHihpK6FD+DC7gvCAqCNP5oBSGhLiiIWLXWnSCoaUUJFmr/OiXQSlEz\n",
       "2A8pCB1aP6SitCgupWIU+qFCFVzQVMT75s17mUwnMzY/3o+TWW7eeffc5Q2ArQkbGdiaC0qxsKPH\n",
       "Tg625o6XQr/F0eMjB3t7Ugp9cMjBoTzMwMG8stVTf/H1ewmcAciS3zdFnNplBiaT6pN/3l0zJD9i\n",
       "9fdb1qv2j0bBk8KLhQCP7eQd4GC2kBgXrjWDO4nWjHF+sXL6YLloSBFPg0jCbgdoIyIlitDP5WA2\n",
       "n1+FRGv+/qyFj2SWJDBGcBjgKUpAUqZACKUNKtbs/hyD/JJXGi8w+lWh/POV7AKjEvQ+8KZM2zmu\n",
       "PbgM0CdDB6mqBEiD3d03iwQvVTDgc+CinI9+lS//oooVAam2S/TatKzrHP3vD4AaDBuHiQuX/plM\n",
       "nitW+FkGLQNV2n/vygbx44bGrdFf1Bq8FhLt1i6dQ9/cPkZ/xa/oHYYgZsaNwu4HaCpC70vo4J4N\n",
       "n7Unhwy5Dxw3VGwsStWZ3ohWT1+QztiUCtGqTJ9nGf2N3mGQSJa+A2ymVcjs/pK973mNxnXoGNKT\n",
       "m8jTz2z8ZGxROpirady1il6O4jySYDQPd/Zj9DEVAkfx8hsWCM2XpsuDZUOuIAyyOeON6LBBBk06\n",
       "Yf44GqV/GGk20Gc0+i42fE8RqMTM5cCrrdbJ6XXxBRRF/EZGn5e9edXbDUg/wrYTiugwC8TvUNCh\n",
       "KP7y2knR+w/Tu05Vpy9LQIampYWJT0qvT9HoSfT+LDlS0tVj4CZshF5lHHEK4m8I0AxWGOh9dwzT\n",
       "OEabTLpA5BlvYLMgo0IfFJYeJAHeyuBG8YVfeNu0D2VoEHKgtTHSL2PjwpOgIE6AJ6tN6aUGeiG+\n",
       "YnLlP9MqP8VKL6PAkUCqsPHo2CGlRyofenAf5RHhKKQ1p/IDJ3inVuhwEV7GNUm8Sn7owmNPlNMP\n",
       "sx2TJKzhI9sXlk4GTWPHq4gzkFHVR8o01LBMccVhF87vsCt44zk/xnM6dC7YXaclVzy4jR85Ud/1\n",
       "iUlTj3QRq5CteFu3uHWRaeiK/dW47VAUaFNIqEkm5RuRPVT8wB5+xFVy4Dt6RIeu2XizYoCibD10\n",
       "C6yLSMiKpywV2w7BKM39ICs9WMvBwcTcvxw5Bacu6VYWp7vu3jqAq2TsPFXT65nPDg4OJll+bTXZ\n",
       "7JeMuhemQwFzX/DAozBw+tqJTuFzQ+sckpgGJ02zDBxsFKb4sfWaSKY6LdvDwdaKfq/YWpujR2Aj\n",
       "A/tPUrkU+tXwv+0vRaMHh9aeR5sAAAAASUVORK5CYII=\n",
       "\" style=\"display:inline;vertical-align:middle;\" /></a></span>"
      ],
      "text/plain": [
       "|- forall_{a in Reals} ((a in RealsNeg) <=> (a < 0))"
      ]
     },
     "execution_count": 22,
     "metadata": {},
     "output_type": "execute_result"
    }
   ],
   "source": [
    "# a is a negative real number iff a < 0\n",
    "inRealsNeg_iff_negative"
   ]
  },
  {
   "cell_type": "code",
   "execution_count": 23,
   "metadata": {},
   "outputs": [
    {
     "data": {
      "text/html": [
       "<span style=\"font-size:20px;\"> <a class=\"ProveItLink\" href=\"_proofs_/all_in_IntervalOC_in_Reals.ipynb\" style=\"text-decoration: none\">&#x22A2;&nbsp;</a><a class=\"ProveItLink\" href=\"__pv_it/b76d410654a60df7d95b0a73bc58b8ffd9c112170/expr.ipynb\"><img src=\"data:image/png;base64,iVBORw0KGgoAAAANSUhEUgAAAPYAAAAZBAMAAADwLs6sAAAAMFBMVEX///8QEBCIiIhmZma6urrM\n",
       "zMxUVFQiIiJERETc3Nzu7u6qqqp2dnaYmJgyMjIAAAAcRTyBAAAAAXRSTlMAQObYZgAAA39JREFU\n",
       "SMfdlk9IFFEcx3/uzLi7szNbhw6GEIvCJlgkLnlTBKkgqPakHQSlf1YHEak2TGTwUKMibhEVYTS5\n",
       "oLFZLUXIQodlJagtYgkhE5Ih8FCUdeiQnvq992bWt+u2zIKnfrDMvjff33xmfr/fe+8HUJb1RKKw\n",
       "NSZGBsv06IOts1v/JdubLXEzydgmuXx2znaqf1hs8mPVxGoVvlRllLLfkrlvztlO9V+LzprTcHzR\n",
       "ANmk7DskPppztkO92lB0WpsEj7cbIE3ZfgNASThnO9S789aiei0yZLOFKH70A8pWM/H47TJqzaE+\n",
       "TyINGxvfLUQxav5WWud/dH2wnDrfpPdy/5ftUNfibyp4c0+ADJ4YXMwrRYy50kDZpwFGilCOmv9g\n",
       "b9KneBe7EsYB5JTa76ZPOcfne64F30Q1KbuNVZ1tc3Unv5CrYn2Br/9qS4BnF+jZegHbxWZfwaGh\n",
       "rIv05kZpatcjQ6RYfH2U7QaXvQ3IL0NZlwIZwvITyaP5ZgiklCmeXaCHztxN4mJjduBd8LCRtGsV\n",
       "zfruNg9JgPSLspWs23ZeTMYB2Uvk2dvwjdWxuway1cc8u0BPcmAZceHYOMECxi1JbVI4oG2wvWY7\n",
       "DmLBFRBJmAmbZLCr5jyGFw3Zszyb6dP7g2GqJ1NyY2/YcuFijhNhNtjO53v0AznFWMxh5BR6X5TW\n",
       "wQ+MHSLP3G3Usv0zkBJCefs50buMXncr1XtxaibcZVguXK35jH2oI4NGnt0uhHO1Bs/RW2iQ+iBG\n",
       "2cKZC+Q6DMsy/a5AU09rHpvoJfgBTC8iLQQdlkuOPQ9wLDEB99hGk+D2VCWBWRJSjE2yUpFwdUOH\n",
       "rusBl3JjgSWsSbqs68MQeLM3n82yuAZMT1ZrNQQtlxz7EMB0zVQzq0r57OHcWbIC+s8E+MOMrWJc\n",
       "nkY9S0Yli7mvkwRqHZ/YzWL+IpPHVlmhSkD1kgbyGozHLRet6J4qvrb2VNtmuPO7Itp1BJQwy3cm\n",
       "5R2FAVWDV4ytzG46v+8rpsL0Mk7tlH5nLRet9FliW5pjiyeeNQOMkb3lfSrWIlVD+zsAD+bJN/hd\n",
       "DpmF7OmFdIbpYQDgYH1t1nLJLaeRUmjrDOXNhfmzdjN2qcN8l+hbqL4eeBetZO9gmydaomdKOu+Z\n",
       "PHkumqOe6VOpfi3rnC1meRfHXUj5vWKkSH+eLHaGOujPL/0FyTwZWAKYZzgAAAAASUVORK5CYII=\n",
       "\" style=\"display:inline;vertical-align:middle;\" /></a></span>"
      ],
      "text/plain": [
       "|- forall_{a in Reals, b in Reals} [forall_{x in (a,b]} (x in Reals)]"
      ]
     },
     "execution_count": 23,
     "metadata": {},
     "output_type": "execute_result"
    }
   ],
   "source": [
    "# all elems of a real interval are real numbers\n",
    "all_in_IntervalOC_in_Reals"
   ]
  },
  {
   "cell_type": "code",
   "execution_count": 24,
   "metadata": {},
   "outputs": [
    {
     "data": {
      "text/html": [
       "<span style=\"font-size:20px;\"> <a class=\"ProveItLink\" href=\"_proofs_/intervalCC_lower_bound.ipynb\" style=\"text-decoration: none\">&#x22A2;&nbsp;</a><a class=\"ProveItLink\" href=\"__pv_it/3e6d98efae34935d8fcb996383fc7a4a086fe1920/expr.ipynb\"><img src=\"data:image/png;base64,iVBORw0KGgoAAAANSUhEUgAAAPIAAAAZBAMAAAD5xW7WAAAAMFBMVEX///8QEBCIiIhmZma6urrM\n",
       "zMxUVFQiIiJERETc3Nzu7u6qqqp2dnaYmJgyMjIAAAAcRTyBAAAAAXRSTlMAQObYZgAAA2FJREFU\n",
       "SMfdlk1oE0EUx1833SZNdtOLFy3C0mgtilAa7MmWqKB4UHJqPQgN1Sp6KKXYDzWWUFC2lkJQqOLF\n",
       "1YKVWE1RRCqCIcWDUTSHglqwBL/ALwiiYOvFNzO7m9ltGjfQkwNh9pH/29/Me2/nDUA5o2rgJKzK\n",
       "qByIlufghlUb4/8fuTq78n8zjJwj01vnZIf6m6WqJU7Jz8jzF+dkh/rPNlvoKzx7c5R8mYQm5pzs\n",
       "TC83Wu2pXt5KU7JfA5CmnZOd6d1xi3nxjMW8RslyJpG4VEaFOdNbFeNfrf/6Q7S2f6tqtJzatusH\n",
       "ue0tGEEOkJxsb1pHjQMfzAzXHduJoZYaKbkLYKQIZH9uBbJdH+E9jAIYw9+OuD9Pnj1nC+mGV8oQ\n",
       "xi1HybtYrRnjQcOhd2SW9OX7es+1KjzZpi+QiYdBPo37Ww8uagq9miHJwEttL76zh5LdIBhfvfdR\n",
       "MCtIkCEkP6miW7MtoKSk6zzZpi+QiYdBXgPgWgI3W7IcNdAaqGQS85QsZc2T6fVMApA8T95cg+mT\n",
       "R69oSJZv82SbvkAmHhy5IgbJsB6392Yt/ODI1bk2NCbqP0IlCTAhp3DuqDuOgcWB5CmezPTpbfVh\n",
       "qkeyt6k7rHtw0U6m4LHZmj7paxB/UZNFG0YOY9z6xCXwAyMHyRs3aQF2UiopV9BybhO9oHW7Q349\n",
       "z5PhDk334CosOQ3dPmOvohoi00MhD5vNCoN7uAJXo9gDE5TsOnKCzMOw4KV7UpqPhixkohfhOzA9\n",
       "koPQrnuY5FksaUXulwodpIvs9Y8nT1qJK8XINVgHFdNCBNpVVVUE6cIcy1SzOKiqw6A83Wol19C6\n",
       "WQSmR3It1OseJnkPhrFz4/gG60fp7dwcIM3GH2ZkGUOVjHvmtSoWbd9BErslfGGERft+xkImeiwS\n",
       "EarYnr2LMJbQPWLFT0/bmOT6c0W8Yx9IYZbnTKr6PJySY/CEkaWpZf35qpSTmB6Xt1b8mdU9Yit0\n",
       "DOtIc+TKzrstAKPkJHmRmmgVa6HtOaYKv1Bf9Js3mLOTb8ylM0yP5N1bAlndw2xi3DF3Z4CM5V3S\n",
       "0kRJ3tgXyKYGzHOJO4nA8sx5xJzcDDzxErehGee3oQjvEXNyG3pT6h6WLZuctZJX/QZY5L49VKxL\n",
       "/vu+3f8Xz/j8xi9FFfoAAAAASUVORK5CYII=\n",
       "\" style=\"display:inline;vertical-align:middle;\" /></a></span>"
      ],
      "text/plain": [
       "|- forall_{a in Reals, b in Reals} [forall_{x in [a,b]} (a <= x)]"
      ]
     },
     "execution_count": 24,
     "metadata": {},
     "output_type": "execute_result"
    }
   ],
   "source": [
    "# all elements in [a, b] are ≥ a\n",
    "intervalCC_lower_bound"
   ]
  },
  {
   "cell_type": "code",
   "execution_count": 25,
   "metadata": {},
   "outputs": [
    {
     "data": {
      "text/html": [
       "<span style=\"font-size:20px;\"> <a class=\"ProveItLink\" href=\"_proofs_/in_IntervalOO.ipynb\" style=\"text-decoration: none\">&#x22A2;&nbsp;</a><a class=\"ProveItLink\" href=\"__pv_it/b0d461447bb2bac3ea2047c5e4b8e0e1481fdc3d0/expr.ipynb\"><img src=\"data:image/png;base64,iVBORw0KGgoAAAANSUhEUgAAATEAAAAWBAMAAABalbZhAAAAMFBMVEX///8QEBCIiIhmZma6urrM\n",
       "zMxUVFQiIiJERETc3Nzu7u6qqqp2dnaYmJgyMjIAAAAcRTyBAAAAAXRSTlMAQObYZgAAA/1JREFU\n",
       "SMfFVl1oHFUU/rK7k92dndn1wRcNlSGrsUQLIYtF0NaooFjUrj60PggJ0WorGIL4W4vEgHVjKQw+\n",
       "1CKIowErMbqLItIiuKRI62rjggW1oCyihYrKIgo2gnjOnLkzc5ORxgfXC2fOvR/3nvvNPT/3Ar1r\n",
       "rySi+fYq4GggHR580wti5kwi/GZ8yrPTQL8r8ikjP/aCWdFNhM9pc0aIXkfkMB/oTC+YfZGI2iPx\n",
       "UalBnyWRogdYjV4we0oj9PwTz/idrHaS24kNXhOxWwsLL/WCWH46NjBmvaCn733Cd+mYyB+12r5e\n",
       "MEtxCA3uuYl9hXcUMZSZ9PWjl8ro7OB15MIRkV3AXIKhOzsX3ixz4SmRmRxVh0V86fhO3BNOOEhy\n",
       "o1vsSm7+5dVd2LSG5WY/EcL2wcb7vmNtBZFZeGT/VkfbLEJyOotta3htC81QQFEwt/C5dxsPopR7\n",
       "mvhsQFqAwgpKDgrkd5YsUqrWmR9W2ikLLd63yFnx1vEtcJrW69FeGqIzu2diNTFCimFy9VHkeKhJ\n",
       "mF32CzW/ezGQXkFWfjXdQb0Jgw6QxWpn1eKvji6AmJ1hpiXKGfvAyx7xsN+OUkpDNGaH1sQEIyU3\n",
       "zgz4VbIhOjNi1jeDelWVs+2NkFm+s4Ow+aEfkOGTZ2ZN0uODD5GjqRGPRdZL1wxVdSRgZo5Okd35\n",
       "5zgEynfvCpWPsJnImzB+l8FFcW/SMX0UlLM2bvCQIU+yYO5+sv6YsYIihFmFGV7pleXmcprpCuPe\n",
       "VHZMQxSzI9VxD4vfc3e4v/OoUoKwmSgDjqW6GObBaDwD6g1MFfyzLY1RzIUZgPeIXnrEmMa8zyz9\n",
       "ABvHLL41/eh1Nj/IfjDwM/1AHFHMKtgJY4PfrRbbSgUImQkoUC5k/sx15QLPhuF3nMw49uMW6sSl\n",
       "v52jHdJNEc4G9DVSE9hZq9WclPXiafH/ZuPJWm0WziebhMd5oqcjwmwAQ8CyIEFYsRKEzKgSMw1z\n",
       "crgsjwdzt0rkW2kwecWhy5Hdy4FxiqOtKgKbql7dzZ3x+sWbhXu5DK7QjhPiu/dbfj51DeiIMDPP\n",
       "4+ACzGv9GB5HqARhM0m3U+bkmtvpmOocCUQSxx2/A1ZV4qzVzL+AvfYMPhYe1iIOe69aHQsxJDqz\n",
       "S4zfyEP53S7y3WXQWl8J4ptZ543eVJ3gRg9+YfLdLcABrrTLzfmtxgB2fEY7UzQU9v1kVjp3Nd44\n",
       "vdSKIxGzW64qc+zk97vmw7df7RkDvhLEN6NSIPkVpIqNqeq5egVpVxvFWVDnRW2kqJKmIjZC1lRa\n",
       "Y05bG0PW9XK043/wD38RvHa1GylxZm5da//ta/vrQJLb6tk21s+sjf+/pf9L438DOhorUxxo79EA\n",
       "AAAASUVORK5CYII=\n",
       "\" style=\"display:inline;vertical-align:middle;\" /></a></span>"
      ],
      "text/plain": [
       "|- forall_{a in Reals, b in Reals, x in Reals | a < x, x < b} (x in (a,b))"
      ]
     },
     "execution_count": 25,
     "metadata": {},
     "output_type": "execute_result"
    }
   ],
   "source": [
    "# reals greater than a but less than b are in the interval (a, b)\n",
    "in_IntervalOO"
   ]
  },
  {
   "cell_type": "code",
   "execution_count": 26,
   "metadata": {},
   "outputs": [
    {
     "data": {
      "text/html": [
       "<span style=\"font-size:20px;\"> <a class=\"ProveItLink\" href=\"_proofs_/not_int_if_between_successive_ints.ipynb\" style=\"text-decoration: none\">&#x22A2;&nbsp;</a><a class=\"ProveItLink\" href=\"__pv_it/d6e4efc63d343b8be8c62cc9a10bbcd2a3e537760/expr.ipynb\"><img src=\"data:image/png;base64,iVBORw0KGgoAAAANSUhEUgAAAO4AAAAZCAMAAAABp+KxAAAARVBMVEX///8/Pz9vb28YGBgNDQ0r\n",
       "KysPDw8WFhYQEBCIiIhmZma6urrMzMxUVFQiIiJERETc3Nzu7u6qqqp2dnaYmJgyMjIAAACoIi7K\n",
       "AAAAAXRSTlMAQObYZgAAA2dJREFUWMPdWImSpCAMdW/CFU7//1MXRCQotq1bO7Wz1NRU2+0LPEJe\n",
       "Eqbp8VBaazN9miHScv0f4PX02YZR/xFd+Z/RNeHRepwhdOP2dQgP6D6H3x4WXztXkTBlM4uR6cjy\n",
       "opRpdL2rL0X7gO5z+O0RX+siF9tHQC6LK5YdsrHRNXXPDD45zM/hd0fgb8cW96snfNkCDy12q1ea\n",
       "n27F7mP4bak4d25ArX/9bHHFbeEm1x2yrNEN3uZh9DOpegy/q1OnE0iERA/3u4E2/61xIJoyz5jH\n",
       "/RS8zv8G/G4xMkopUD0FoIyAej5zZFoan5vHgYin542uWqyjeUj3Gn5jI+WiAE4cf8GydpuMBQ2T\n",
       "3ugV3QU4yDhR8hAbXcFHu0OKRYaeI+cndK/gLQ9ck+W8GOVHiC7a4JMr/Wwnsb2Bw7yQnEDmdZqU\n",
       "GfkzHLOmdZ7zUDTCW7BnUjiGV/Qkr51LM2YBH8sfVjyeV4E0CciUYGP88T39owUynwSZV86Erg+j\n",
       "kiSgMzZbT9sqw6CiqZAhfEOvh/3lwD3dQY5l7YDP9OCWBLjPCzXlLqdhR9fEWpIEHiQUURD08PJR\n",
       "/FWKDZ4SHJeQ+RG03hkePB7pHk+Lds1V3QayQQHZUi6jZteaGY0qPwaRqy5muuowfW2cfJHXN3g6\n",
       "8CpOWlB0SSDE8ODxSNepE6lydoK5TFVdATvflOqpGODsIFXJxqoQxkL+kJRgssSAhaG4bnQrPCeQ\n",
       "uKyKoAX2hqfj44CuONRoJZeI2U04991C8vsuYGrKtSogKbO2jmiLBpW3Ku+I1Es6RVgSSY4AY0+r\n",
       "NhJM8+IxghaqN7ybR2WhWdQmULoyHrvzomEAFnjXjliF37q1CYaRpdlTn4Bl36Ps6Ib6OpPLVshO\n",
       "LZ3M1r05pbvBF02QndaWTEoMDx4H3lV3isivX1IVqc9zodXjftfksNAiR6qXTac4WciL/jKhfSxV\n",
       "RUOXqZphk48ZmaenuybIVJreaRGuSiTaInTHID+DX44KrlIYlFLeR60u6aZQER6K9OMmpNp2hiVz\n",
       "/TyEruF6VrDr5q5JXTTCXQN4PqDG7qPbjA0N+1bJvci7JG++zwouLhbQfOTlDZ7dpZzTdeHO5c2F\n",
       "c4P50Lsq0a8yXHdMlv+LN5Hv3jO7u80W/I17oHzPrH4DAm40b6pAgnkAAAAASUVORK5CYII=\n",
       "\" style=\"display:inline;vertical-align:middle;\" /></a></span>"
      ],
      "text/plain": [
       "|- forall_{n in Integers} [forall_{x in (n,n + 1)} (x not-in Integers)]"
      ]
     },
     "execution_count": 26,
     "metadata": {},
     "output_type": "execute_result"
    }
   ],
   "source": [
    "# a real value between successive integers is not itself an integer\n",
    "not_int_if_between_successive_ints"
   ]
  },
  {
   "cell_type": "markdown",
   "metadata": {},
   "source": [
    "## Demonstrations <a id='further_demonstrations'></a>"
   ]
  },
  {
   "cell_type": "markdown",
   "metadata": {},
   "source": [
    "<a id='demo01'></a><font size=4><b>1.</b> $2\\in(1,3]$ and $2\\in[1,3]$</font><br><br>\n",
    "<font size=3>We begin with a simple demonstration deriving the known truth $\\vdash 2\\in(1, 3]$, and then also deriving as a known truth the fact that $2\\in[1, 3]$ using an `IntervalOC` method based on a relaxation theorem.</font>"
   ]
  },
  {
   "cell_type": "markdown",
   "metadata": {},
   "source": [
    "<font size=3>First we define a real number interval of interest:</font>"
   ]
  },
  {
   "cell_type": "code",
   "execution_count": 27,
   "metadata": {},
   "outputs": [
    {
     "data": {
      "text/html": [
       "<strong id=\"interval_O1_3C\">interval_O1_3C:</strong> <a class=\"ProveItLink\" href=\"__pv_it/5805a4bac2070888f8d29546729969f7a62a56770/expr.ipynb\"><img src=\"data:image/png;base64,iVBORw0KGgoAAAANSUhEUgAAACcAAAAUBAMAAAD8YzkFAAAALVBMVEX///9UVFR2dna6uroQEBCq\n",
       "qqqIiIgiIiJmZmYyMjJERETu7u6YmJjc3NwAAAAjnpn1AAAAAXRSTlMAQObYZgAAALtJREFUGNNj\n",
       "YOA9wIACeKYbMDDsQhLgVdIKYGACCs4FckI2QARvMLC+AQnyNDBwC8lBBfMCGJ6DBNkvADnnoIIm\n",
       "BgwvQYLXGZAEGaDaM1AFtyuABNegCF6q2AASLEVVyeYMEnRGFWRw2YAueJeBYV0AuvZ3GyCCKBZ5\n",
       "MTDUgbRrgH2ygYH7JZA+A3WnOZDd6DfjAEM5UDVzR5cB3Jtgv8BcAAkQKJsBIciwFsrehiwIC+QD\n",
       "yILo0cE23QAAyuI659B3i2wAAAAASUVORK5CYII=\n",
       "\" style=\"display:inline;vertical-align:middle;\" /></a><br>"
      ],
      "text/plain": [
       "interval_O1_3C: (1,3]"
      ]
     },
     "execution_count": 27,
     "metadata": {},
     "output_type": "execute_result"
    }
   ],
   "source": [
    "interval_O1_3C = IntervalOC(one, three)"
   ]
  },
  {
   "cell_type": "markdown",
   "metadata": {},
   "source": [
    "<font size=3>We can automatically deduce that $2\\in(1,3]$.</font>"
   ]
  },
  {
   "cell_type": "code",
   "execution_count": 28,
   "metadata": {},
   "outputs": [
    {
     "data": {
      "text/html": [
       "<span style=\"font-size:20px;\"> <a class=\"ProveItLink\" href=\"__pv_it/959bdd4fe240b9a9aff357e39f9be27426c68ba30/proof.ipynb\" style=\"text-decoration: none\">&#x22A2;&nbsp;</a><a class=\"ProveItLink\" href=\"__pv_it/53014b7bdca1dde023f3febde6616eb1330bdfd20/expr.ipynb\"><img src=\"data:image/png;base64,iVBORw0KGgoAAAANSUhEUgAAAEwAAAAUBAMAAADVZMaCAAAAMFBMVEX///+YmJiqqqqIiIgyMjLc\n",
       "3NwiIiIQEBC6urp2dnZUVFTMzMxERERmZmbu7u4AAADrYmUNAAAAAXRSTlMAQObYZgAAAUVJREFU\n",
       "KM9jYMACAtH4IhkMfHfPbEAT5TuAxImceYiBYQbDKwbOH2jKWAIYGJjqIGzWCwz6AkBl9xgYytGU\n",
       "yTIwvJr1D8Jm/sTAnwBUVsbAsD4ALCKTluYAZqQCMSNUGUcFA78DUJn/A4b1YMftsYMaxpqApAwI\n",
       "wJYCQf4DkLv9YMLMF1CU8WUygJVx/ATxuAJg4jwCyMpYp92DKGNbAJaEW8KmgGqpeQNY2V0wZ7sL\n",
       "EIC9wN6Aqoy9DqQM7BQGhhiEMLIy1gAGnk8gZbogJlASu6X8/yDKuCcwMIOU8Rpg9QL7AQa2f0Bl\n",
       "YTPnLgMLJMGUcYJcwQxU9h7oVEYBSLj5////DSz76sQDaMADg5d3+ZeLDGx5QF7v3ROQAIGBzmNI\n",
       "kQUGejDGDGzJTRbGmIBXGQ80QvgM8CqDJUtGBrzKMBK5SQYArdBVk3NTsqgAAAAASUVORK5CYII=\n",
       "\" style=\"display:inline;vertical-align:middle;\" /></a></span>"
      ],
      "text/plain": [
       "|- 2 in (1,3]"
      ]
     },
     "execution_count": 28,
     "metadata": {},
     "output_type": "execute_result"
    }
   ],
   "source": [
    "interval_O1_3C.deduceElemInSet(two)"
   ]
  },
  {
   "cell_type": "markdown",
   "metadata": {},
   "source": [
    "<font size=3>Then we consider the closed real interval $[1,3]$:</font>"
   ]
  },
  {
   "cell_type": "code",
   "execution_count": 29,
   "metadata": {},
   "outputs": [
    {
     "data": {
      "text/html": [
       "<strong id=\"interval_C1_3C\">interval_C1_3C:</strong> <a class=\"ProveItLink\" href=\"__pv_it/29e109f307f015d2630b63aa14632ad53d2ea8ee0/expr.ipynb\"><img src=\"data:image/png;base64,iVBORw0KGgoAAAANSUhEUgAAACUAAAAUBAMAAAD4luk4AAAAMFBMVEX///9ERETc3NxmZmaYmJhU\n",
       "VFTu7u4QEBCqqqoiIiK6urp2dnbMzMwyMjKIiIgAAABr1WidAAAAAXRSTlMAQObYZgAAAJRJREFU\n",
       "GNNjeHuHAQWw3FzAsAuJz7R7YwMDN0SsPQEipszA8QUixhYdDxV738DwE6bOHyq2fAHDX3QxBrhe\n",
       "ZLHMDRhi2pMTMNXxVWGKMZQnoIkpMTDIN6CJ/U/AFCtkYJgP0/s+gYHtL5B2QbjPtP6yA8NMoFou\n",
       "Y8MFMHvBPoDZjSTGzYAplodFzAFJ7CVa2PPdXAAA/DxA1ptCYYQAAAAASUVORK5CYII=\n",
       "\" style=\"display:inline;vertical-align:middle;\" /></a><br>"
      ],
      "text/plain": [
       "interval_C1_3C: [1,3]"
      ]
     },
     "execution_count": 29,
     "metadata": {},
     "output_type": "execute_result"
    }
   ],
   "source": [
    "interval_C1_3C = IntervalCC(one, three)"
   ]
  },
  {
   "cell_type": "markdown",
   "metadata": {},
   "source": [
    "<font size=3>The underlying machinery will not automatically prove that $2$ is also in this closed interval $[1, 3]$, despite the fact that we have the known truth $2\\in(1,3]$:</font>"
   ]
  },
  {
   "cell_type": "code",
   "execution_count": 30,
   "metadata": {},
   "outputs": [
    {
     "name": "stdout",
     "output_type": "stream",
     "text": [
      "EXPECTED ERROR: Unable to prove 2 in [1,3]:\n",
      "Unable to conclude automatically; the domain, [1,3], has no 'membershipObject' method with a strategy for proving membership.\n"
     ]
    }
   ],
   "source": [
    "from proveit import ProofFailure\n",
    "try:\n",
    "    InSet(two, IntervalCC(one, three)).prove()\n",
    "    assert False, \"Expecting a ProofFailure error; should not make it to this point\"\n",
    "except ProofFailure as e:\n",
    "    print(\"EXPECTED ERROR:\", e)"
   ]
  },
  {
   "cell_type": "markdown",
   "metadata": {},
   "source": [
    "<font size=3>We could instead use the `deduceElemInSet()` Interval class method, or we can use the `deduceRelaxedMembership()` method variation, and because we have previously shown that $2\\in(1,3]$ we don't need to provide that fact as an assumption for the deduction:</font>"
   ]
  },
  {
   "cell_type": "code",
   "execution_count": 31,
   "metadata": {},
   "outputs": [
    {
     "data": {
      "text/html": [
       "<strong id=\"two_in_O1_3C\">two_in_O1_3C:</strong> <span style=\"font-size:20px;\"> <a class=\"ProveItLink\" href=\"__pv_it/f0b22e9c5d723180e41d6107e026058b6e7432530/proof.ipynb\" style=\"text-decoration: none\">&#x22A2;&nbsp;</a><a class=\"ProveItLink\" href=\"__pv_it/5170efaa4135e527f4d95c311f78cb8f36ddd1a80/expr.ipynb\"><img src=\"data:image/png;base64,iVBORw0KGgoAAAANSUhEUgAAAEoAAAAUBAMAAADYerbFAAAAMFBMVEX///+YmJiqqqqIiIgyMjLc\n",
       "3NwiIiIQEBC6urp2dnZUVFTMzMxERERmZmbu7u4AAADrYmUNAAAAAXRSTlMAQObYZgAAASNJREFU\n",
       "KM9jYMAAzC4bUAVEMhj47p5BE+RsQOJEzjzEwDCD4RUD5w9MVUx1EDbrBQZ9AaCqewwM5RiqXs36\n",
       "B7X9EwN/AlBVGQPD+gCwiExamgPMLEaoKo4KBn4HoCr/BwzrwQ7bY4dkI0wVEIBtBIL8B0CCz48B\n",
       "qyq+TAawKo6fIB5XAFZVrNPuQVSxLQBxeRiwm8Vg3gBWdRfM2e4CBA5YVLHXgVQxXwBzYrCaxRrA\n",
       "wPMJpEoXxARqwaqK/x9EFfcEBmaQKl4DbKrYDzCw/QOqCps5dxlYIAlZFTNQ1XugKxkFIOHl////\n",
       "N7DkqxMP4Kp4l3+5yMCWB+T03j0BCQkY6DyGiCEw0IPJzMBMXghVE4hRxWdAjCpGBnyqmFPQEq9J\n",
       "BgB1mllGomsgdAAAAABJRU5ErkJggg==\n",
       "\" style=\"display:inline;vertical-align:middle;\" /></a></span><br>"
      ],
      "text/plain": [
       "two_in_O1_3C: |- 2 in [1,3]"
      ]
     },
     "execution_count": 31,
     "metadata": {},
     "output_type": "execute_result"
    }
   ],
   "source": [
    "two_in_O1_3C = interval_O1_3C.deduceRelaxedMembership(two)"
   ]
  },
  {
   "cell_type": "markdown",
   "metadata": {},
   "source": [
    "<font size=3>The proof that Prove-It produces involves a number of steps dealing with the elements 1, 2, and 3 being positive naturals (important in this case as a subset of the reals), and the definition of $2\\in(1,3]$, all of which eventually lead to the specialization of a relaxation theorem (see rows 0–4):</font>"
   ]
  },
  {
   "cell_type": "code",
   "execution_count": 32,
   "metadata": {},
   "outputs": [
    {
     "data": {
      "text/html": [
       "<table><tr><th>&nbsp;</th><th>step type</th><th>requirements</th><th>statement</th></tr>\n",
       "<tr><td><a name=\"-0x7f5675b992dc71e5_step0\">0</a></td><td>instantiation</td><td><a href=\"#-0x7f5675b992dc71e5_step1\">1</a>, <a href=\"#-0x7f5675b992dc71e5_step2\">2</a>, <a href=\"#-0x7f5675b992dc71e5_step3\">3</a>, <a href=\"#-0x7f5675b992dc71e5_step4\">4</a></td><td><span style=\"font-size:20px;\"> <a class=\"ProveItLink\" href=\"__pv_it/f0b22e9c5d723180e41d6107e026058b6e7432530/proof.ipynb\" style=\"text-decoration: none\">&#x22A2;&nbsp;</a><a class=\"ProveItLink\" href=\"__pv_it/5170efaa4135e527f4d95c311f78cb8f36ddd1a80/expr.ipynb\"><img src=\"data:image/png;base64,iVBORw0KGgoAAAANSUhEUgAAAEoAAAAUBAMAAADYerbFAAAAMFBMVEX///+YmJiqqqqIiIgyMjLc\n",
       "3NwiIiIQEBC6urp2dnZUVFTMzMxERERmZmbu7u4AAADrYmUNAAAAAXRSTlMAQObYZgAAASNJREFU\n",
       "KM9jYMAAzC4bUAVEMhj47p5BE+RsQOJEzjzEwDCD4RUD5w9MVUx1EDbrBQZ9AaCqewwM5RiqXs36\n",
       "B7X9EwN/AlBVGQPD+gCwiExamgPMLEaoKo4KBn4HoCr/BwzrwQ7bY4dkI0wVEIBtBIL8B0CCz48B\n",
       "qyq+TAawKo6fIB5XAFZVrNPuQVSxLQBxeRiwm8Vg3gBWdRfM2e4CBA5YVLHXgVQxXwBzYrCaxRrA\n",
       "wPMJpEoXxARqwaqK/x9EFfcEBmaQKl4DbKrYDzCw/QOqCps5dxlYIAlZFTNQ1XugKxkFIOHl////\n",
       "N7DkqxMP4Kp4l3+5yMCWB+T03j0BCQkY6DyGiCEw0IPJzMBMXghVE4hRxWdAjCpGBnyqmFPQEq9J\n",
       "BgB1mllGomsgdAAAAABJRU5ErkJggg==\n",
       "\" style=\"display:inline;vertical-align:middle;\" /></a></span></td></tr>\n",
       "<tr><td>&nbsp;</td><td colspan=4 style=\"text-align:left\"><span style=\"font-size:20px;\"><a class=\"ProveItLink\" href=\"../../../__pv_it/a8d4b3a34d2189508f9082853fbac36935714f280/expr.ipynb\"><img src=\"data:image/png;base64,iVBORw0KGgoAAAANSUhEUgAAAAsAAAAJBAMAAAAWSsseAAAAMFBMVEX///9UVFSqqqrMzMwiIiJE\n",
       "RESYmJgyMjK6urru7u4QEBCIiIh2dnZmZmbc3NwAAABRgo0vAAAAAXRSTlMAQObYZgAAAEdJREFU\n",
       "CNdjYOC7c3slAwND1wP2DwwMnMsYeAMYGHh/MrBsYGDgCmCYb8DAMP8Agz5QxXwFBnGmBwysG9gc\n",
       "eYAqpTc/3MEAAP4BD32xAXDqAAAAAElFTkSuQmCC\n",
       "\" style=\"display:inline;vertical-align:middle;\" /></a> : <a class=\"ProveItLink\" href=\"../../numeral/__pv_it/f086f8c372bd40a2458306ddfdbb29f3dc6f63030/expr.ipynb\"><img src=\"data:image/png;base64,iVBORw0KGgoAAAANSUhEUgAAAAgAAAAPBAMAAAArJJMAAAAAIVBMVEX///8yMjJmZmaIiIiYmJh2\n",
       "dnZUVFTu7u4QEBCqqqoAAAADAhFxAAAAAXRSTlMAQObYZgAAACBJREFUCNdjYAADznYGhrKw5UAW\n",
       "CykEM5BgylioAjYDAHBOCeDSSky9AAAAAElFTkSuQmCC\n",
       "\" style=\"display:inline;vertical-align:middle;\" /></a>, <a class=\"ProveItLink\" href=\"../../../__pv_it/53e304ff98ebc000dbe3ef224f4637dbafd46ba70/expr.ipynb\"><img src=\"data:image/png;base64,iVBORw0KGgoAAAANSUhEUgAAAAkAAAAOBAMAAAAPuiubAAAALVBMVEX///+YmJjc3NyIiIhUVFR2\n",
       "dna6urqqqqpmZmYyMjIiIiIQEBBERETu7u4AAAALjtrwAAAAAXRSTlMAQObYZgAAAE9JREFUCNdj\n",
       "4D29gAEIOBtAJF8BiMy7ACKjQATDFON2BgbelxfuKTCwv2XgM2DgmMBwLwCkPK+AgU+Aoe8CA18C\n",
       "70YGBhYBHqARvM2BDAwAqXgQspq5HJAAAAAASUVORK5CYII=\n",
       "\" style=\"display:inline;vertical-align:middle;\" /></a> : <a class=\"ProveItLink\" href=\"../../numeral/__pv_it/eafea0aba3ef5dc2db24e5b7b93d46ff53acbff50/expr.ipynb\"><img src=\"data:image/png;base64,iVBORw0KGgoAAAANSUhEUgAAAAoAAAAOBAMAAADkjZCYAAAAKlBMVEX////u7u4yMjIQEBC6uroi\n",
       "IiKIiIiYmJhmZmaqqqpERER2dnbc3NwAAAAz17lDAAAAAXRSTlMAQObYZgAAAE5JREFUCNdjYDi9\n",
       "eyUDA08Dw9wCBrabDLwBDCwmDLwKDEAAFGFgYIwGEjxbG0ECDMkOIJLZkIHnAAMXUPFFEMm8gIH1\n",
       "IgN7AVi9R8cSBgCvphDNutx7AgAAAABJRU5ErkJggg==\n",
       "\" style=\"display:inline;vertical-align:middle;\" /></a>, <a class=\"ProveItLink\" href=\"../../../__pv_it/72df168d2bfb4e0140af90912ebf83b13772060b0/expr.ipynb\"><img src=\"data:image/png;base64,iVBORw0KGgoAAAANSUhEUgAAAAsAAAAJBAMAAAAWSsseAAAALVBMVEX///9mZmaqqqrMzMxEREQy\n",
       "MjIiIiKYmJh2dna6urrc3NxUVFSIiIju7u4AAACJHQtQAAAAAXRSTlMAQObYZgAAAEJJREFUCNdj\n",
       "YLhzeuWJAwy8Dew5bAEMHBc43nIuYOBlYHFgAAG+A2DKzgBIMF04x8BzgWGegh/DcgaG22fuiBcw\n",
       "AAATyhBrnyPYZQAAAABJRU5ErkJggg==\n",
       "\" style=\"display:inline;vertical-align:middle;\" /></a> : <a class=\"ProveItLink\" href=\"../../numeral/__pv_it/fb4ccffdbfd0f653ebaacb95e7ff4802fd48a6f20/expr.ipynb\"><img src=\"data:image/png;base64,iVBORw0KGgoAAAANSUhEUgAAAAkAAAAOBAMAAAAPuiubAAAALVBMVEX///+qqqqIiIgyMjLc3Nwi\n",
       "IiIQEBC6urp2dnZUVFTMzMxERERmZmbu7u4AAAAQI6y7AAAAAXRSTlMAQObYZgAAAFJJREFUCNdj\n",
       "4D2zewEDw00GjucMDGcZGNIYGFIZGOY5MNhdYJgHlGBgiLsAJNhfgJisE0DkGRDBdABEyjCwODBw\n",
       "NTAwOTC4dvRMZWCwe/fuKQMANh0TGKpG4roAAAAASUVORK5CYII=\n",
       "\" style=\"display:inline;vertical-align:middle;\" /></a></span></td></tr><tr><td><a name=\"-0x7f5675b992dc71e5_step1\">1</a></td><td>theorem</td><td></td><td><span style=\"font-size:20px;\"> <a class=\"ProveItLink\" href=\"_proofs_/relax_IntervalOC.ipynb\" style=\"text-decoration: none\">&#x22A2;&nbsp;</a><a class=\"ProveItLink\" href=\"__pv_it/4ce1c9b79664cf30e0fd20ab46bd6c9aabb43b7c0/expr.ipynb\"><img src=\"data:image/png;base64,iVBORw0KGgoAAAANSUhEUgAAAQ8AAAAZBAMAAADd+bY/AAAAMFBMVEX///8QEBCIiIhmZma6urrM\n",
       "zMxUVFQiIiJERETc3Nzu7u6qqqp2dnaYmJgyMjIAAAAcRTyBAAAAAXRSTlMAQObYZgAAA9xJREFU\n",
       "SMfdl19IU1Ecx39uu267u3fzoZeS4uJKQynEkS+prYKkoNyTvggb9sfsQSQqwyRuPtRMhNFDRS9d\n",
       "EiqWuVGEKEEXLar17z4IhZCMyKSokChIg+j8uXPnbmveEb504XJ3Dt/fOZ9zfr/fOb8BFPS0d0dg\n",
       "BZ7GbrVAiy5YmccZ+v9BnFqu3s2zxrY453dFKEgSt9+aBzGrv5mz9yHzmz+DliX4oYOCPMN9n8yD\n",
       "mNV/XBYE3NUEZISCXMYf2TyISb1YvTyIJ05ABImAuBXUipsHMam3G9JcPNd9OhukSSEgfAkBERPR\n",
       "6KUCgtWk3iDh+pRcO/IYCAi8p1nzMxzuLSRrsvRO5vdMyiNeHI1lHTsmcGNEYVzjrKtZQxsfyrYS\n",
       "kEkKchCgP8eU+5J/AcnSq6xJKnoG0TsMryXikQ42RrZH3PM0a34rsQgGmaEgO4Fn5xzduP8d/gr6\n",
       "2lxHzzZILEiGHoqXogGbpEBOoTcBr5TduCEzIPxasNK2axE8EgYZpSB2sKTOHv6+T7MIkMATu3FA\n",
       "3pqsB0kVrrEgGXpoTadjPD3nKvQqEKYhsu4renQQ6yLY6cKsSYipGCRIQQTNnhrpzVgUEMg0nsiD\n",
       "FioOXFEQiHibBcnQY1el0jFiBAH4RoOI3ZEiGWKB1DHSFGdAnMlm1DtUPgs27A0Mgr0eLDuCvIAe\n",
       "BDLMglD9xJbyANHjLr6mM6CbsK4B7gdtlDAgMRUe6NwabFMwSKN+1/QfQEMd5xbBDRTEhyeoULz0\n",
       "OJdUq89w12C9Rem0+4neibpuBIKKbsIG67hlHipxo4YFiUMnuV7A40fxwgQr3EVDWau5LhgiINZD\n",
       "x/C3D2Z4smKptt1vAMF6Dr4A1dvQ1D5o0U2WQFBK2n455unVZ4+nQRySeEKAGFpjseaoJiB1OogH\n",
       "xU5R3BKClnA4LFmEC1PUybXcyXC4D6Snm4wgHhJrC0D1NjREKZTrJksgaLv5tkovvR35w3vSWdO2\n",
       "4eJ6sPdgh76gB9qsDiKibY1FHNNKMXWNqxXv8yIaPkRdcy9hAMF64OY5IHpOBn4BBqO6iZzziLc9\n",
       "yTzix1Mpj474LqYeKYoE94IQoDGSUJ3noUeU4REFEYaz6pGrQlKgejzMau67ppvIJi89NQ2iX3o6\n",
       "ctudeoABfKC9VIcauFJofg7gQL519X7mfclMkOtTEwmqB7TJu6q8mm6ylKn9eUF4KQ0ykl2hWZDP\n",
       "9fOUfjaiGMlToRF9FbAmsrnCSIQ0SH++UnHMfKnoMJjI+UvFioxS0TLnFyP5QDTzIDaNNTFdYv1j\n",
       "8dyd43/NWK4yoND/NaE/o2oqI2e39V0AAAAASUVORK5CYII=\n",
       "\" style=\"display:inline;vertical-align:middle;\" /></a></span></td></tr>\n",
       "<tr><td>&nbsp;</td><td colspan=4 style-\"text-align:left\"><a class=\"ProveItLink\" href=\"_proofs_/relax_IntervalOC.ipynb\">proveit.number.sets.real.relax_IntervalOC</a></td></tr><tr><td><a name=\"-0x7f5675b992dc71e5_step2\">2</a></td><td><i>reference</i></td><td><a href=\"#-0x7f5675b992dc71e5_step6\">6</a></td><td><span style=\"font-size:20px;\"> <a class=\"ProveItLink\" href=\"__pv_it/b4db8bf0dc0a088d47e1d9bab592601768720a080/proof.ipynb\" style=\"text-decoration: none\">&#x22A2;&nbsp;</a><a class=\"ProveItLink\" href=\"__pv_it/39d0cdc8e9ba655e66466f57fc0496f184fad4c80/expr.ipynb\"><img src=\"data:image/png;base64,iVBORw0KGgoAAAANSUhEUgAAADIAAAAPBAMAAABU9YHxAAAAMFBMVEX///+6urrc3NzMzMwiIiJE\n",
       "REQyMjJmZmaIiIiYmJh2dnZUVFTu7u4QEBCqqqoAAABhZHJKAAAAAXRSTlMAQObYZgAAAKNJREFU\n",
       "GNNjYEAHnL6h33IjQSy+O2hSbDwbmCNjGBhOr/6DJsPKtIAhQBukGyYz1cUlASZTxIYkY9qDpKeI\n",
       "FSHDk4Ns2gZphAy3ApIMn3sOQoYVyQVXXPIYEDK2aUAAdcHCghgkGVVkVxeaIsnwIsuwnmxAyLA3\n",
       "IMkwbygGMjig/vFDCh2GddwGDOx7v1WCBU4HHoCHqAFr2D+k8JIKgYQOFAAAkJkv0ItwCngAAAAA\n",
       "SUVORK5CYII=\n",
       "\" style=\"display:inline;vertical-align:middle;\" /></a></span></td></tr>\n",
       "<tr><td><a name=\"-0x7f5675b992dc71e5_step3\">3</a></td><td><i>reference</i></td><td><a href=\"#-0x7f5675b992dc71e5_step7\">7</a></td><td><span style=\"font-size:20px;\"> <a class=\"ProveItLink\" href=\"__pv_it/4d5817a578a0a7c3c04fc9f10138f9a0764818cc0/proof.ipynb\" style=\"text-decoration: none\">&#x22A2;&nbsp;</a><a class=\"ProveItLink\" href=\"__pv_it/45ab88b5093f229902480e597324cf67684220d80/expr.ipynb\"><img src=\"data:image/png;base64,iVBORw0KGgoAAAANSUhEUgAAADMAAAAPBAMAAAC7N+rPAAAAMFBMVEX///9UVFTMzMzu7u4yMjIQ\n",
       "EBC6uroiIiKIiIiYmJhmZmaqqqpERER2dnbc3NwAAACDMjhQAAAAAXRSTlMAQObYZgAAANRJREFU\n",
       "GNNjYHh79zQDCpgec94lZgKQwbeAYf8EVDkHQwadOQYMDBy/GfgLUKUOvGXg4RNgYGALY+B3AItw\n",
       "Hi8vgUlxPYCIQQxkOmGA0MX14ACIxVwLFjAxQDKQkU0A5I7ri8ECcsh2bV8CUdiaABZASD0tL9kA\n",
       "YbIGg6wKcQECqK4sHpAmvgcMPL9BNJKut1xJIB7/Z4gUQwCyXYdngEw7wMD+GSSwAllKkUsB6NEJ\n",
       "UH+xb0AKKN4NQkBG1qpjYAFmmWR48DoxnPHfgBR0bHegAQUFADmlQtNh0ST9AAAAAElFTkSuQmCC\n",
       "\" style=\"display:inline;vertical-align:middle;\" /></a></span></td></tr>\n",
       "<tr><td><a name=\"-0x7f5675b992dc71e5_step4\">4</a></td><td>instantiation</td><td><a href=\"#-0x7f5675b992dc71e5_step5\">5</a>, <a href=\"#-0x7f5675b992dc71e5_step6\">6</a>, <a href=\"#-0x7f5675b992dc71e5_step7\">7</a>, <a href=\"#-0x7f5675b992dc71e5_step8\">8</a>, <a href=\"#-0x7f5675b992dc71e5_step9\">9</a>, <a href=\"#-0x7f5675b992dc71e5_step10\">10</a></td><td><span style=\"font-size:20px;\"> <a class=\"ProveItLink\" href=\"__pv_it/959bdd4fe240b9a9aff357e39f9be27426c68ba30/proof.ipynb\" style=\"text-decoration: none\">&#x22A2;&nbsp;</a><a class=\"ProveItLink\" href=\"__pv_it/53014b7bdca1dde023f3febde6616eb1330bdfd20/expr.ipynb\"><img src=\"data:image/png;base64,iVBORw0KGgoAAAANSUhEUgAAAEwAAAAUBAMAAADVZMaCAAAAMFBMVEX///+YmJiqqqqIiIgyMjLc\n",
       "3NwiIiIQEBC6urp2dnZUVFTMzMxERERmZmbu7u4AAADrYmUNAAAAAXRSTlMAQObYZgAAAUVJREFU\n",
       "KM9jYMACAtH4IhkMfHfPbEAT5TuAxImceYiBYQbDKwbOH2jKWAIYGJjqIGzWCwz6AkBl9xgYytGU\n",
       "yTIwvJr1D8Jm/sTAnwBUVsbAsD4ALCKTluYAZqQCMSNUGUcFA78DUJn/A4b1YMftsYMaxpqApAwI\n",
       "wJYCQf4DkLv9YMLMF1CU8WUygJVx/ATxuAJg4jwCyMpYp92DKGNbAJaEW8KmgGqpeQNY2V0wZ7sL\n",
       "EIC9wN6Aqoy9DqQM7BQGhhiEMLIy1gAGnk8gZbogJlASu6X8/yDKuCcwMIOU8Rpg9QL7AQa2f0Bl\n",
       "YTPnLgMLJMGUcYJcwQxU9h7oVEYBSLj5////DSz76sQDaMADg5d3+ZeLDGx5QF7v3ROQAIGBzmNI\n",
       "kQUGejDGDGzJTRbGmIBXGQ80QvgM8CqDJUtGBrzKMBK5SQYArdBVk3NTsqgAAAAASUVORK5CYII=\n",
       "\" style=\"display:inline;vertical-align:middle;\" /></a></span></td></tr>\n",
       "<tr><td>&nbsp;</td><td colspan=4 style=\"text-align:left\"><span style=\"font-size:20px;\"><a class=\"ProveItLink\" href=\"../../../__pv_it/a8d4b3a34d2189508f9082853fbac36935714f280/expr.ipynb\"><img src=\"data:image/png;base64,iVBORw0KGgoAAAANSUhEUgAAAAsAAAAJBAMAAAAWSsseAAAAMFBMVEX///9UVFSqqqrMzMwiIiJE\n",
       "RESYmJgyMjK6urru7u4QEBCIiIh2dnZmZmbc3NwAAABRgo0vAAAAAXRSTlMAQObYZgAAAEdJREFU\n",
       "CNdjYOC7c3slAwND1wP2DwwMnMsYeAMYGHh/MrBsYGDgCmCYb8DAMP8Agz5QxXwFBnGmBwysG9gc\n",
       "eYAqpTc/3MEAAP4BD32xAXDqAAAAAElFTkSuQmCC\n",
       "\" style=\"display:inline;vertical-align:middle;\" /></a> : <a class=\"ProveItLink\" href=\"../../numeral/__pv_it/f086f8c372bd40a2458306ddfdbb29f3dc6f63030/expr.ipynb\"><img src=\"data:image/png;base64,iVBORw0KGgoAAAANSUhEUgAAAAgAAAAPBAMAAAArJJMAAAAAIVBMVEX///8yMjJmZmaIiIiYmJh2\n",
       "dnZUVFTu7u4QEBCqqqoAAAADAhFxAAAAAXRSTlMAQObYZgAAACBJREFUCNdjYAADznYGhrKw5UAW\n",
       "CykEM5BgylioAjYDAHBOCeDSSky9AAAAAElFTkSuQmCC\n",
       "\" style=\"display:inline;vertical-align:middle;\" /></a>, <a class=\"ProveItLink\" href=\"../../../__pv_it/53e304ff98ebc000dbe3ef224f4637dbafd46ba70/expr.ipynb\"><img src=\"data:image/png;base64,iVBORw0KGgoAAAANSUhEUgAAAAkAAAAOBAMAAAAPuiubAAAALVBMVEX///+YmJjc3NyIiIhUVFR2\n",
       "dna6urqqqqpmZmYyMjIiIiIQEBBERETu7u4AAAALjtrwAAAAAXRSTlMAQObYZgAAAE9JREFUCNdj\n",
       "4D29gAEIOBtAJF8BiMy7ACKjQATDFON2BgbelxfuKTCwv2XgM2DgmMBwLwCkPK+AgU+Aoe8CA18C\n",
       "70YGBhYBHqARvM2BDAwAqXgQspq5HJAAAAAASUVORK5CYII=\n",
       "\" style=\"display:inline;vertical-align:middle;\" /></a> : <a class=\"ProveItLink\" href=\"../../numeral/__pv_it/eafea0aba3ef5dc2db24e5b7b93d46ff53acbff50/expr.ipynb\"><img src=\"data:image/png;base64,iVBORw0KGgoAAAANSUhEUgAAAAoAAAAOBAMAAADkjZCYAAAAKlBMVEX////u7u4yMjIQEBC6uroi\n",
       "IiKIiIiYmJhmZmaqqqpERER2dnbc3NwAAAAz17lDAAAAAXRSTlMAQObYZgAAAE5JREFUCNdjYDi9\n",
       "eyUDA08Dw9wCBrabDLwBDCwmDLwKDEAAFGFgYIwGEjxbG0ECDMkOIJLZkIHnAAMXUPFFEMm8gIH1\n",
       "IgN7AVi9R8cSBgCvphDNutx7AgAAAABJRU5ErkJggg==\n",
       "\" style=\"display:inline;vertical-align:middle;\" /></a>, <a class=\"ProveItLink\" href=\"../../../__pv_it/72df168d2bfb4e0140af90912ebf83b13772060b0/expr.ipynb\"><img src=\"data:image/png;base64,iVBORw0KGgoAAAANSUhEUgAAAAsAAAAJBAMAAAAWSsseAAAALVBMVEX///9mZmaqqqrMzMxEREQy\n",
       "MjIiIiKYmJh2dna6urrc3NxUVFSIiIju7u4AAACJHQtQAAAAAXRSTlMAQObYZgAAAEJJREFUCNdj\n",
       "YLhzeuWJAwy8Dew5bAEMHBc43nIuYOBlYHFgAAG+A2DKzgBIMF04x8BzgWGegh/DcgaG22fuiBcw\n",
       "AAATyhBrnyPYZQAAAABJRU5ErkJggg==\n",
       "\" style=\"display:inline;vertical-align:middle;\" /></a> : <a class=\"ProveItLink\" href=\"../../numeral/__pv_it/fb4ccffdbfd0f653ebaacb95e7ff4802fd48a6f20/expr.ipynb\"><img src=\"data:image/png;base64,iVBORw0KGgoAAAANSUhEUgAAAAkAAAAOBAMAAAAPuiubAAAALVBMVEX///+qqqqIiIgyMjLc3Nwi\n",
       "IiIQEBC6urp2dnZUVFTMzMxERERmZmbu7u4AAAAQI6y7AAAAAXRSTlMAQObYZgAAAFJJREFUCNdj\n",
       "4D2zewEDw00GjucMDGcZGNIYGFIZGOY5MNhdYJgHlGBgiLsAJNhfgJisE0DkGRDBdABEyjCwODBw\n",
       "NTAwOTC4dvRMZWCwe/fuKQMANh0TGKpG4roAAAAASUVORK5CYII=\n",
       "\" style=\"display:inline;vertical-align:middle;\" /></a></span></td></tr><tr><td><a name=\"-0x7f5675b992dc71e5_step5\">5</a></td><td>theorem</td><td></td><td><span style=\"font-size:20px;\"> <a class=\"ProveItLink\" href=\"_proofs_/in_IntervalOC.ipynb\" style=\"text-decoration: none\">&#x22A2;&nbsp;</a><a class=\"ProveItLink\" href=\"__pv_it/37f29da96bb36bdbb738c47bdc73a2aded32a1a00/expr.ipynb\"><img src=\"data:image/png;base64,iVBORw0KGgoAAAANSUhEUgAAAS8AAAAWBAMAAABj8gc6AAAAMFBMVEX///8QEBCIiIhmZma6urrM\n",
       "zMxUVFQiIiJERETc3Nzu7u6qqqp2dnaYmJgyMjIAAAAcRTyBAAAAAXRSTlMAQObYZgAAA/5JREFU\n",
       "SMfFll1oFFcUx/+Z3cnuzs7s9sEXGyxD1qrEtoQsSKHVphUqiq1LH9SHQkKq1ghKEFutStkGaicR\n",
       "YfHBiiCM5sES0+5SEYkIDpFiXGu6YKFtQFnEDxSVUBRqhNJz7507H+vG2IduL4Q795+z5/7mno87\n",
       "QOPG0bpqohJeG3c6MUpzlS2uNYJLy9eVvwuafNUH6J1oLgCXmXCvEWCpQl35bsimnYNpdFyH2Wnm\n",
       "GwF2ta5qtAdX6RIHwxgx2vRYagTYFyGeb3Z+yR9ioXNcYwuwY2RRHh7+thFcib7AQu233afw3hch\n",
       "wFL095dl7W0EmEIx01p73xtjix8kFzKM+e2Ol8XqdutbHEwn443AQB0/H1Zn3ys6u4nvJk5tYQS/\n",
       "mTyCvZ7BAfp7t5CaElX5t10sMDCDfrac14A3ziz65AabdTcpk9v3LTNDe/lKPAyxqpYqmffcUDJR\n",
       "Ipfxi72SLfxq20M48xARQnIaaZOBJSnuMSiyxWnnshVFR5ltm2IFcfLCUpiOftzfK6SEwdZ313Ld\n",
       "cN3w0UT72bBEir3ykAZ/nANEphETbxqpougwMJVOUK/E5G9/Hx0GgU0y0DRVi7H/iE0Yxvd+MYWU\n",
       "ENih2oQwHrhufDDgT1EI/okRWFMexZxsY2tKEixRXUvS0IJbiLJjZ2AOzV2tWyjKNAhjhMc289HG\n",
       "sOKCaR3byO3Q19LGnRTGxd34oYT6WCxeCoay6OC828YqeMdmYFFWwgMbyPln6jRSEGBZBrjQzojr\n",
       "ynQiWTa3NVd3hBUX7ESuy8bITc9GTNE9/J/MjZ/8Z5UptLFFRzD5iyVsS/KTTXdSvsnkxymii7Sr\n",
       "fRjiYJFNzDf6cV3jiWsu+ZQHIZeqIKy4YFmsgzoP0kaajne6blwCKoPo0/iUuLNjXupdIDem8bmO\n",
       "IrE0V+LtHCzCgpamxGsqKd1YZ1mWqegHfxWxX6Lusqx+mJdeFxiULjWKAGvBAmDCs5GTNl4SbmRv\n",
       "6YPW05YR3wvaZlnCK2jR8+qh+YjtZllxxW2wLOcManbFQnzSbhahTH7Mut80bdgtAne6zF10IVej\n",
       "cDDtCQ4MQ3szJ2286Y2ScFPvSoqOP3MlnZVHS2AnvJIpdH0APSdyrOwkBrHbyOMngaGPIDGYmJqA\n",
       "E1D8E5urPqLwJDYXwG2kKY3rFe7mBS9xJwA25r1Az49Lgf2swU44Q8vUFqz9mTamV07uva9lq2qL\n",
       "tnX1a3ZA8cHeX5xheZPYV+A20lQcAnMjs7/+Z4/sMprpg2k1145COeb2RjEtoowKCQHlmQarDoRN\n",
       "/+WHogEfbIZ3oDE6q1DnSnqe6Yt/Wiv0af3HjHdvZVZhZjBhmqQStwbx/4zIf+j7HyqDJdykB+Ws\n",
       "AAAAAElFTkSuQmCC\n",
       "\" style=\"display:inline;vertical-align:middle;\" /></a></span></td></tr>\n",
       "<tr><td>&nbsp;</td><td colspan=4 style-\"text-align:left\"><a class=\"ProveItLink\" href=\"_proofs_/in_IntervalOC.ipynb\">proveit.number.sets.real.in_IntervalOC</a></td></tr><tr><td><a name=\"-0x7f5675b992dc71e5_step6\">6</a></td><td>instantiation</td><td><a href=\"#-0x7f5675b992dc71e5_step14\">14</a>, <a href=\"#-0x7f5675b992dc71e5_step12\">12</a>, <a href=\"#-0x7f5675b992dc71e5_step11\">11</a></td><td><span style=\"font-size:20px;\"> <a class=\"ProveItLink\" href=\"__pv_it/b4db8bf0dc0a088d47e1d9bab592601768720a080/proof.ipynb\" style=\"text-decoration: none\">&#x22A2;&nbsp;</a><a class=\"ProveItLink\" href=\"__pv_it/39d0cdc8e9ba655e66466f57fc0496f184fad4c80/expr.ipynb\"><img src=\"data:image/png;base64,iVBORw0KGgoAAAANSUhEUgAAADIAAAAPBAMAAABU9YHxAAAAMFBMVEX///+6urrc3NzMzMwiIiJE\n",
       "REQyMjJmZmaIiIiYmJh2dnZUVFTu7u4QEBCqqqoAAABhZHJKAAAAAXRSTlMAQObYZgAAAKNJREFU\n",
       "GNNjYEAHnL6h33IjQSy+O2hSbDwbmCNjGBhOr/6DJsPKtIAhQBukGyYz1cUlASZTxIYkY9qDpKeI\n",
       "FSHDk4Ns2gZphAy3ApIMn3sOQoYVyQVXXPIYEDK2aUAAdcHCghgkGVVkVxeaIsnwIsuwnmxAyLA3\n",
       "IMkwbygGMjig/vFDCh2GddwGDOx7v1WCBU4HHoCHqAFr2D+k8JIKgYQOFAAAkJkv0ItwCngAAAAA\n",
       "SUVORK5CYII=\n",
       "\" style=\"display:inline;vertical-align:middle;\" /></a></span></td></tr>\n",
       "<tr><td>&nbsp;</td><td colspan=4 style=\"text-align:left\"><span style=\"font-size:20px;\"><a class=\"ProveItLink\" href=\"../../../__pv_it/d3792d0d8642fdf1cd2a3a9b32c673ee13653de00/expr.ipynb\"><img src=\"data:image/png;base64,iVBORw0KGgoAAAANSUhEUgAAAA8AAAAOBAMAAAACpFvcAAAALVBMVEX///8iIiIQEBBERERUVFS6\n",
       "urqIiIjc3NxmZmaqqqru7u6YmJgyMjLMzMwAAACK9jtgAAAAAXRSTlMAQObYZgAAAFtJREFUCNdj\n",
       "YACBOwxQcA5Kc59bAGGs7CuAMDbkBYBp1gXzNoAZSxnuJYAZAQx1DSCa16PDzwCshIGB6QCIMYGB\n",
       "gVEBSLMDGTwPgIxCIGZ+zsCw+N0pBk67hw0AfpEVEQi8t+wAAAAASUVORK5CYII=\n",
       "\" style=\"display:inline;vertical-align:middle;\" /></a> : <a class=\"ProveItLink\" href=\"../integer/__pv_it/f6a9f4b6dec6ab4d2dcb6ba1b0ba3cceefc643530/expr.ipynb\"><img src=\"data:image/png;base64,iVBORw0KGgoAAAANSUhEUgAAABsAAAATBAMAAACTqWsLAAAAMFBMVEX///9mZmaqqqrc3NyIiIgi\n",
       "IiJUVFTMzMyYmJi6uroQEBB2dnZEREQyMjLu7u4AAAA1o4RqAAAAAXRSTlMAQObYZgAAAHlJREFU\n",
       "GNNjYMAF2FC5PIS5b/+cfcCw69cEmOwJ9gQGvg8MuXdv3b3bwMCQWuDCwLAArjfzHFsBQwCcm1zG\n",
       "dw+Zy+RQhsxl2MnhgMxle5AO4jJDuXwJvAvgjklmYKhmR+FyKByAc9OBeDOCewmIGS/AeKW/gDJ8\n",
       "MC4AcS4inf/pcBQAAAAASUVORK5CYII=\n",
       "\" style=\"display:inline;vertical-align:middle;\" /></a>, <a class=\"ProveItLink\" href=\"../../../__pv_it/4d98b438710c5ada9ffa4646bb123a7d0e69ec000/expr.ipynb\"><img src=\"data:image/png;base64,iVBORw0KGgoAAAANSUhEUgAAABAAAAAOBAMAAADUAYG5AAAALVBMVEX///8yMjKqqqoiIiLu7u7c\n",
       "3NyIiIjMzMwQEBC6urpERERmZmZUVFSYmJgAAACsPVCVAAAAAXRSTlMAQObYZgAAAGxJREFUCNdj\n",
       "YGC48+70nlUTGICgi4GB+zmQZn/LwMD5Gshge8rAwPsMyOBqYGDwMAEy+A4wsNs4ABl1Z68tVgBp\n",
       "ygtgYOkBMVaAOCChNyBGAsQYhnMTIMawvwJyGIHGzFjCwMAj92b3qUUMDAAXABxvZ4rl5AAAAABJ\n",
       "RU5ErkJggg==\n",
       "\" style=\"display:inline;vertical-align:middle;\" /></a> : <a class=\"ProveItLink\" href=\"__pv_it/83c2d223a7b04200651811c8b29e747fd8f853510/expr.ipynb\"><img src=\"data:image/png;base64,iVBORw0KGgoAAAANSUhEUgAAAA8AAAAOBAMAAAACpFvcAAAAMFBMVEX///+IiIiqqqq6urpmZmZ2\n",
       "dnbc3NzMzMxUVFTu7u4yMjJEREQQEBAiIiKYmJgAAACIyPRpAAAAAXRSTlMAQObYZgAAAFlJREFU\n",
       "CNdjeHt6/6rTDxiAYMEMhurXE4CMDakM3GwNEAZLwgIYYwOEwcEMldL1AivOuXtLgQEsYsI9AcJg\n",
       "Md8AYTDsfAhlVLAUQKxgVWhnYABaupxh93oFAP7MI7KHKGXxAAAAAElFTkSuQmCC\n",
       "\" style=\"display:inline;vertical-align:middle;\" /></a>, <a class=\"ProveItLink\" href=\"../../../__pv_it/72df168d2bfb4e0140af90912ebf83b13772060b0/expr.ipynb\"><img src=\"data:image/png;base64,iVBORw0KGgoAAAANSUhEUgAAAAsAAAAJBAMAAAAWSsseAAAALVBMVEX///9mZmaqqqrMzMxEREQy\n",
       "MjIiIiKYmJh2dna6urrc3NxUVFSIiIju7u4AAACJHQtQAAAAAXRSTlMAQObYZgAAAEJJREFUCNdj\n",
       "YLhzeuWJAwy8Dew5bAEMHBc43nIuYOBlYHFgAAG+A2DKzgBIMF04x8BzgWGegh/DcgaG22fuiBcw\n",
       "AAATyhBrnyPYZQAAAABJRU5ErkJggg==\n",
       "\" style=\"display:inline;vertical-align:middle;\" /></a> : <a class=\"ProveItLink\" href=\"../../numeral/__pv_it/f086f8c372bd40a2458306ddfdbb29f3dc6f63030/expr.ipynb\"><img src=\"data:image/png;base64,iVBORw0KGgoAAAANSUhEUgAAAAgAAAAPBAMAAAArJJMAAAAAIVBMVEX///8yMjJmZmaIiIiYmJh2\n",
       "dnZUVFTu7u4QEBCqqqoAAAADAhFxAAAAAXRSTlMAQObYZgAAACBJREFUCNdjYAADznYGhrKw5UAW\n",
       "CykEM5BgylioAjYDAHBOCeDSSky9AAAAAElFTkSuQmCC\n",
       "\" style=\"display:inline;vertical-align:middle;\" /></a></span></td></tr><tr><td><a name=\"-0x7f5675b992dc71e5_step7\">7</a></td><td>instantiation</td><td><a href=\"#-0x7f5675b992dc71e5_step14\">14</a>, <a href=\"#-0x7f5675b992dc71e5_step12\">12</a>, <a href=\"#-0x7f5675b992dc71e5_step13\">13</a></td><td><span style=\"font-size:20px;\"> <a class=\"ProveItLink\" href=\"__pv_it/4d5817a578a0a7c3c04fc9f10138f9a0764818cc0/proof.ipynb\" style=\"text-decoration: none\">&#x22A2;&nbsp;</a><a class=\"ProveItLink\" href=\"__pv_it/45ab88b5093f229902480e597324cf67684220d80/expr.ipynb\"><img src=\"data:image/png;base64,iVBORw0KGgoAAAANSUhEUgAAADMAAAAPBAMAAAC7N+rPAAAAMFBMVEX///9UVFTMzMzu7u4yMjIQ\n",
       "EBC6uroiIiKIiIiYmJhmZmaqqqpERER2dnbc3NwAAACDMjhQAAAAAXRSTlMAQObYZgAAANRJREFU\n",
       "GNNjYHh79zQDCpgec94lZgKQwbeAYf8EVDkHQwadOQYMDBy/GfgLUKUOvGXg4RNgYGALY+B3AItw\n",
       "Hi8vgUlxPYCIQQxkOmGA0MX14ACIxVwLFjAxQDKQkU0A5I7ri8ECcsh2bV8CUdiaABZASD0tL9kA\n",
       "YbIGg6wKcQECqK4sHpAmvgcMPL9BNJKut1xJIB7/Z4gUQwCyXYdngEw7wMD+GSSwAllKkUsB6NEJ\n",
       "UH+xb0AKKN4NQkBG1qpjYAFmmWR48DoxnPHfgBR0bHegAQUFADmlQtNh0ST9AAAAAElFTkSuQmCC\n",
       "\" style=\"display:inline;vertical-align:middle;\" /></a></span></td></tr>\n",
       "<tr><td>&nbsp;</td><td colspan=4 style=\"text-align:left\"><span style=\"font-size:20px;\"><a class=\"ProveItLink\" href=\"../../../__pv_it/d3792d0d8642fdf1cd2a3a9b32c673ee13653de00/expr.ipynb\"><img src=\"data:image/png;base64,iVBORw0KGgoAAAANSUhEUgAAAA8AAAAOBAMAAAACpFvcAAAALVBMVEX///8iIiIQEBBERERUVFS6\n",
       "urqIiIjc3NxmZmaqqqru7u6YmJgyMjLMzMwAAACK9jtgAAAAAXRSTlMAQObYZgAAAFtJREFUCNdj\n",
       "YACBOwxQcA5Kc59bAGGs7CuAMDbkBYBp1gXzNoAZSxnuJYAZAQx1DSCa16PDzwCshIGB6QCIMYGB\n",
       "gVEBSLMDGTwPgIxCIGZ+zsCw+N0pBk67hw0AfpEVEQi8t+wAAAAASUVORK5CYII=\n",
       "\" style=\"display:inline;vertical-align:middle;\" /></a> : <a class=\"ProveItLink\" href=\"../integer/__pv_it/f6a9f4b6dec6ab4d2dcb6ba1b0ba3cceefc643530/expr.ipynb\"><img src=\"data:image/png;base64,iVBORw0KGgoAAAANSUhEUgAAABsAAAATBAMAAACTqWsLAAAAMFBMVEX///9mZmaqqqrc3NyIiIgi\n",
       "IiJUVFTMzMyYmJi6uroQEBB2dnZEREQyMjLu7u4AAAA1o4RqAAAAAXRSTlMAQObYZgAAAHlJREFU\n",
       "GNNjYMAF2FC5PIS5b/+cfcCw69cEmOwJ9gQGvg8MuXdv3b3bwMCQWuDCwLAArjfzHFsBQwCcm1zG\n",
       "dw+Zy+RQhsxl2MnhgMxle5AO4jJDuXwJvAvgjklmYKhmR+FyKByAc9OBeDOCewmIGS/AeKW/gDJ8\n",
       "MC4AcS4inf/pcBQAAAAASUVORK5CYII=\n",
       "\" style=\"display:inline;vertical-align:middle;\" /></a>, <a class=\"ProveItLink\" href=\"../../../__pv_it/4d98b438710c5ada9ffa4646bb123a7d0e69ec000/expr.ipynb\"><img src=\"data:image/png;base64,iVBORw0KGgoAAAANSUhEUgAAABAAAAAOBAMAAADUAYG5AAAALVBMVEX///8yMjKqqqoiIiLu7u7c\n",
       "3NyIiIjMzMwQEBC6urpERERmZmZUVFSYmJgAAACsPVCVAAAAAXRSTlMAQObYZgAAAGxJREFUCNdj\n",
       "YGC48+70nlUTGICgi4GB+zmQZn/LwMD5Gshge8rAwPsMyOBqYGDwMAEy+A4wsNs4ABl1Z68tVgBp\n",
       "ygtgYOkBMVaAOCChNyBGAsQYhnMTIMawvwJyGIHGzFjCwMAj92b3qUUMDAAXABxvZ4rl5AAAAABJ\n",
       "RU5ErkJggg==\n",
       "\" style=\"display:inline;vertical-align:middle;\" /></a> : <a class=\"ProveItLink\" href=\"__pv_it/83c2d223a7b04200651811c8b29e747fd8f853510/expr.ipynb\"><img src=\"data:image/png;base64,iVBORw0KGgoAAAANSUhEUgAAAA8AAAAOBAMAAAACpFvcAAAAMFBMVEX///+IiIiqqqq6urpmZmZ2\n",
       "dnbc3NzMzMxUVFTu7u4yMjJEREQQEBAiIiKYmJgAAACIyPRpAAAAAXRSTlMAQObYZgAAAFlJREFU\n",
       "CNdjeHt6/6rTDxiAYMEMhurXE4CMDakM3GwNEAZLwgIYYwOEwcEMldL1AivOuXtLgQEsYsI9AcJg\n",
       "Md8AYTDsfAhlVLAUQKxgVWhnYABaupxh93oFAP7MI7KHKGXxAAAAAElFTkSuQmCC\n",
       "\" style=\"display:inline;vertical-align:middle;\" /></a>, <a class=\"ProveItLink\" href=\"../../../__pv_it/72df168d2bfb4e0140af90912ebf83b13772060b0/expr.ipynb\"><img src=\"data:image/png;base64,iVBORw0KGgoAAAANSUhEUgAAAAsAAAAJBAMAAAAWSsseAAAALVBMVEX///9mZmaqqqrMzMxEREQy\n",
       "MjIiIiKYmJh2dna6urrc3NxUVFSIiIju7u4AAACJHQtQAAAAAXRSTlMAQObYZgAAAEJJREFUCNdj\n",
       "YLhzeuWJAwy8Dew5bAEMHBc43nIuYOBlYHFgAAG+A2DKzgBIMF04x8BzgWGegh/DcgaG22fuiBcw\n",
       "AAATyhBrnyPYZQAAAABJRU5ErkJggg==\n",
       "\" style=\"display:inline;vertical-align:middle;\" /></a> : <a class=\"ProveItLink\" href=\"../../numeral/__pv_it/eafea0aba3ef5dc2db24e5b7b93d46ff53acbff50/expr.ipynb\"><img src=\"data:image/png;base64,iVBORw0KGgoAAAANSUhEUgAAAAoAAAAOBAMAAADkjZCYAAAAKlBMVEX////u7u4yMjIQEBC6uroi\n",
       "IiKIiIiYmJhmZmaqqqpERER2dnbc3NwAAAAz17lDAAAAAXRSTlMAQObYZgAAAE5JREFUCNdjYDi9\n",
       "eyUDA08Dw9wCBrabDLwBDCwmDLwKDEAAFGFgYIwGEjxbG0ECDMkOIJLZkIHnAAMXUPFFEMm8gIH1\n",
       "IgN7AVi9R8cSBgCvphDNutx7AgAAAABJRU5ErkJggg==\n",
       "\" style=\"display:inline;vertical-align:middle;\" /></a></span></td></tr><tr><td><a name=\"-0x7f5675b992dc71e5_step8\">8</a></td><td>instantiation</td><td><a href=\"#-0x7f5675b992dc71e5_step14\">14</a>, <a href=\"#-0x7f5675b992dc71e5_step15\">15</a>, <a href=\"#-0x7f5675b992dc71e5_step16\">16</a></td><td><span style=\"font-size:20px;\"> <a class=\"ProveItLink\" href=\"__pv_it/18e0c2e375d50fc6bede76261509f4fcbe2f04400/proof.ipynb\" style=\"text-decoration: none\">&#x22A2;&nbsp;</a><a class=\"ProveItLink\" href=\"__pv_it/22bf67533c5cf1a371314dac3d2b20c16d8c560d0/expr.ipynb\"><img src=\"data:image/png;base64,iVBORw0KGgoAAAANSUhEUgAAADIAAAAPBAMAAABU9YHxAAAAMFBMVEX///+YmJiqqqqIiIgyMjLc\n",
       "3NwiIiIQEBC6urp2dnZUVFTMzMxERERmZmbu7u4AAADrYmUNAAAAAXRSTlMAQObYZgAAANVJREFU\n",
       "GNNj4Lt7ZgMDMmBMP/PF/SCQ8YqB8weKDAML3wLug+cYGO4xMJSjyvCwTmA4EMXAUMbAsD4ALCKT\n",
       "luYAk7nKwsDg/4BhPdiiPXZIeq7ygJn5D4AEnx+yaQu6QCyOnyCSKwBJhikXrI5tAZiP5IKyNCcw\n",
       "6y6Y3O4CBFAXzLhwDsRgvgCWiUF29Y09IIYuAyvICnZkGZ6HBgwM3BMYmEEyvAZIMtwLbjMwhM2c\n",
       "uwwskIQUOgyTuDYw+P///w0s8OrEA3iIbuA58gkpvDqPQUIHCgBnrj0uOO3EnwAAAABJRU5ErkJg\n",
       "gg==\n",
       "\" style=\"display:inline;vertical-align:middle;\" /></a></span></td></tr>\n",
       "<tr><td>&nbsp;</td><td colspan=4 style=\"text-align:left\"><span style=\"font-size:20px;\"><a class=\"ProveItLink\" href=\"../../../__pv_it/d3792d0d8642fdf1cd2a3a9b32c673ee13653de00/expr.ipynb\"><img src=\"data:image/png;base64,iVBORw0KGgoAAAANSUhEUgAAAA8AAAAOBAMAAAACpFvcAAAALVBMVEX///8iIiIQEBBERERUVFS6\n",
       "urqIiIjc3NxmZmaqqqru7u6YmJgyMjLMzMwAAACK9jtgAAAAAXRSTlMAQObYZgAAAFtJREFUCNdj\n",
       "YACBOwxQcA5Kc59bAGGs7CuAMDbkBYBp1gXzNoAZSxnuJYAZAQx1DSCa16PDzwCshIGB6QCIMYGB\n",
       "gVEBSLMDGTwPgIxCIGZ+zsCw+N0pBk67hw0AfpEVEQi8t+wAAAAASUVORK5CYII=\n",
       "\" style=\"display:inline;vertical-align:middle;\" /></a> : <a class=\"ProveItLink\" href=\"../integer/__pv_it/b49c37b99b7e8d73a8d7971bcf454d693b90a2c60/expr.ipynb\"><img src=\"data:image/png;base64,iVBORw0KGgoAAAANSUhEUgAAAA8AAAAOBAMAAAACpFvcAAAAMFBMVEX///9mZmaqqqrc3NyIiIgi\n",
       "IiJUVFTMzMyYmJi6uroQEBB2dnZEREQyMjLu7u4AAAA1o4RqAAAAAXRSTlMAQObYZgAAAGVJREFU\n",
       "CNdjePvn7AOGXb8mMDCcYE9g4PvAwMCQWuDCwLAAyMg8x1bAEABkJJfx3YMwmBzKIAyGnRwOEAbb\n",
       "g3QIgy+BdwGYwVDNDmVwKBwAMtKBeDOIcQmIGS8wMJT+AvL4LjAAADA2HcoIlkTkAAAAAElFTkSu\n",
       "QmCC\n",
       "\" style=\"display:inline;vertical-align:middle;\" /></a>, <a class=\"ProveItLink\" href=\"../../../__pv_it/4d98b438710c5ada9ffa4646bb123a7d0e69ec000/expr.ipynb\"><img src=\"data:image/png;base64,iVBORw0KGgoAAAANSUhEUgAAABAAAAAOBAMAAADUAYG5AAAALVBMVEX///8yMjKqqqoiIiLu7u7c\n",
       "3NyIiIjMzMwQEBC6urpERERmZmZUVFSYmJgAAACsPVCVAAAAAXRSTlMAQObYZgAAAGxJREFUCNdj\n",
       "YGC48+70nlUTGICgi4GB+zmQZn/LwMD5Gshge8rAwPsMyOBqYGDwMAEy+A4wsNs4ABl1Z68tVgBp\n",
       "ygtgYOkBMVaAOCChNyBGAsQYhnMTIMawvwJyGIHGzFjCwMAj92b3qUUMDAAXABxvZ4rl5AAAAABJ\n",
       "RU5ErkJggg==\n",
       "\" style=\"display:inline;vertical-align:middle;\" /></a> : <a class=\"ProveItLink\" href=\"__pv_it/83c2d223a7b04200651811c8b29e747fd8f853510/expr.ipynb\"><img src=\"data:image/png;base64,iVBORw0KGgoAAAANSUhEUgAAAA8AAAAOBAMAAAACpFvcAAAAMFBMVEX///+IiIiqqqq6urpmZmZ2\n",
       "dnbc3NzMzMxUVFTu7u4yMjJEREQQEBAiIiKYmJgAAACIyPRpAAAAAXRSTlMAQObYZgAAAFlJREFU\n",
       "CNdjeHt6/6rTDxiAYMEMhurXE4CMDakM3GwNEAZLwgIYYwOEwcEMldL1AivOuXtLgQEsYsI9AcJg\n",
       "Md8AYTDsfAhlVLAUQKxgVWhnYABaupxh93oFAP7MI7KHKGXxAAAAAElFTkSuQmCC\n",
       "\" style=\"display:inline;vertical-align:middle;\" /></a>, <a class=\"ProveItLink\" href=\"../../../__pv_it/72df168d2bfb4e0140af90912ebf83b13772060b0/expr.ipynb\"><img src=\"data:image/png;base64,iVBORw0KGgoAAAANSUhEUgAAAAsAAAAJBAMAAAAWSsseAAAALVBMVEX///9mZmaqqqrMzMxEREQy\n",
       "MjIiIiKYmJh2dna6urrc3NxUVFSIiIju7u4AAACJHQtQAAAAAXRSTlMAQObYZgAAAEJJREFUCNdj\n",
       "YLhzeuWJAwy8Dew5bAEMHBc43nIuYOBlYHFgAAG+A2DKzgBIMF04x8BzgWGegh/DcgaG22fuiBcw\n",
       "AAATyhBrnyPYZQAAAABJRU5ErkJggg==\n",
       "\" style=\"display:inline;vertical-align:middle;\" /></a> : <a class=\"ProveItLink\" href=\"../../numeral/__pv_it/fb4ccffdbfd0f653ebaacb95e7ff4802fd48a6f20/expr.ipynb\"><img src=\"data:image/png;base64,iVBORw0KGgoAAAANSUhEUgAAAAkAAAAOBAMAAAAPuiubAAAALVBMVEX///+qqqqIiIgyMjLc3Nwi\n",
       "IiIQEBC6urp2dnZUVFTMzMxERERmZmbu7u4AAAAQI6y7AAAAAXRSTlMAQObYZgAAAFJJREFUCNdj\n",
       "4D2zewEDw00GjucMDGcZGNIYGFIZGOY5MNhdYJgHlGBgiLsAJNhfgJisE0DkGRDBdABEyjCwODBw\n",
       "NTAwOTC4dvRMZWCwe/fuKQMANh0TGKpG4roAAAAASUVORK5CYII=\n",
       "\" style=\"display:inline;vertical-align:middle;\" /></a></span></td></tr><tr><td><a name=\"-0x7f5675b992dc71e5_step9\">9</a></td><td>theorem</td><td></td><td><span style=\"font-size:20px;\"> <a class=\"ProveItLink\" href=\"../../numeral/deci/_proofs_/less_1_2.ipynb\" style=\"text-decoration: none\">&#x22A2;&nbsp;</a><a class=\"ProveItLink\" href=\"../../numeral/deci/__pv_it/e448213290777cdec65fe1e8f61100e2e14beb980/expr.ipynb\"><img src=\"data:image/png;base64,iVBORw0KGgoAAAANSUhEUgAAADAAAAAPBAMAAABQAFHMAAAAMFBMVEX///+6urpERETc3NwiIiLM\n",
       "zMwyMjJmZmaIiIiYmJh2dnZUVFTu7u4QEBCqqqoAAAD7YXnbAAAAAXRSTlMAQObYZgAAAJVJREFU\n",
       "GNNjYMACjhepAkm+O+jiPBsY1gswnF79B0nsWQCQYD/AwHuBgYETSWJKMYjkdWDg/owi0bIGTLH9\n",
       "YeD+iiTBs6QBroTlD0KCp2QCwkz5BQiJbQ+QHOHNAJfgQZZgL0BIMDAjGdXOwIDVcr4CBmNszmWI\n",
       "YmBoZmDgwPAgs9eqagcG9r3fKtGChO3///8ODLgAAJC0L58BnxxZAAAAAElFTkSuQmCC\n",
       "\" style=\"display:inline;vertical-align:middle;\" /></a></span></td></tr>\n",
       "<tr><td>&nbsp;</td><td colspan=4 style-\"text-align:left\"><a class=\"ProveItLink\" href=\"../../numeral/deci/_proofs_/less_1_2.ipynb\">proveit.number.numeral.deci.less_1_2</a></td></tr><tr><td><a name=\"-0x7f5675b992dc71e5_step10\">10</a></td><td>instantiation</td><td><a href=\"#-0x7f5675b992dc71e5_step17\">17</a>, <a href=\"#-0x7f5675b992dc71e5_step18\">18</a></td><td><span style=\"font-size:20px;\"> <a class=\"ProveItLink\" href=\"__pv_it/693cb7a2e721de0e96eff0797094ccd585a0f24d0/proof.ipynb\" style=\"text-decoration: none\">&#x22A2;&nbsp;</a><a class=\"ProveItLink\" href=\"__pv_it/869311e422c061b78afe79e6381fe416537ad4a20/expr.ipynb\"><img src=\"data:image/png;base64,iVBORw0KGgoAAAANSUhEUgAAADAAAAARBAMAAABp3DInAAAAMFBMVEX///+YmJiqqqqIiIgyMjLc\n",
       "3NwiIiIQEBC6urp2dnZUVFTMzMxERERmZmbu7u4AAADrYmUNAAAAAXRSTlMAQObYZgAAAM5JREFU\n",
       "GNNj4Lt7ZgMDGoiceYiB4RUD5w+EkBlIEesFBn0BhnsMDOUwYb5pBiCK+RMDfwJDGQPD+gCIOOs1\n",
       "ATDNUcHA78Dg/4BhPcQS1iUKcCP1wUryH4BI7iMNcHG+TLDOn2AOkuNYp90DUWwLIA6yQ3KwOUj3\n",
       "XShHbB5Cgr0O6LgLMJ7KVahJAQw8nxgYdEEMCGhZDab4/4EkuCcwMMMkGPacAJtzgIHtH0PYzLnL\n",
       "EGZHgZzGKADyh////9/QA7H37gkGCgCfWxoIwL0PALFGNGA5ADnVAAAAAElFTkSuQmCC\n",
       "\" style=\"display:inline;vertical-align:middle;\" /></a></span></td></tr>\n",
       "<tr><td>&nbsp;</td><td colspan=4 style=\"text-align:left\"><span style=\"font-size:20px;\"><a class=\"ProveItLink\" href=\"../../../__pv_it/72df168d2bfb4e0140af90912ebf83b13772060b0/expr.ipynb\"><img src=\"data:image/png;base64,iVBORw0KGgoAAAANSUhEUgAAAAsAAAAJBAMAAAAWSsseAAAALVBMVEX///9mZmaqqqrMzMxEREQy\n",
       "MjIiIiKYmJh2dna6urrc3NxUVFSIiIju7u4AAACJHQtQAAAAAXRSTlMAQObYZgAAAEJJREFUCNdj\n",
       "YLhzeuWJAwy8Dew5bAEMHBc43nIuYOBlYHFgAAG+A2DKzgBIMF04x8BzgWGegh/DcgaG22fuiBcw\n",
       "AAATyhBrnyPYZQAAAABJRU5ErkJggg==\n",
       "\" style=\"display:inline;vertical-align:middle;\" /></a> : <a class=\"ProveItLink\" href=\"../../numeral/__pv_it/fb4ccffdbfd0f653ebaacb95e7ff4802fd48a6f20/expr.ipynb\"><img src=\"data:image/png;base64,iVBORw0KGgoAAAANSUhEUgAAAAkAAAAOBAMAAAAPuiubAAAALVBMVEX///+qqqqIiIgyMjLc3Nwi\n",
       "IiIQEBC6urp2dnZUVFTMzMxERERmZmbu7u4AAAAQI6y7AAAAAXRSTlMAQObYZgAAAFJJREFUCNdj\n",
       "4D2zewEDw00GjucMDGcZGNIYGFIZGOY5MNhdYJgHlGBgiLsAJNhfgJisE0DkGRDBdABEyjCwODBw\n",
       "NTAwOTC4dvRMZWCwe/fuKQMANh0TGKpG4roAAAAASUVORK5CYII=\n",
       "\" style=\"display:inline;vertical-align:middle;\" /></a>, <a class=\"ProveItLink\" href=\"../../../__pv_it/c6e291955561f22a0e6708fd793ea93f1c7dbb5d0/expr.ipynb\"><img src=\"data:image/png;base64,iVBORw0KGgoAAAANSUhEUgAAAAsAAAANBAMAAACN24kIAAAAMFBMVEX///8iIiKYmJhUVFTMzMxE\n",
       "REQyMjKqqqq6urp2dnYQEBDc3NxmZmaIiIju7u4AAACH5sGpAAAAAXRSTlMAQObYZgAAAFlJREFU\n",
       "CNdj4LtzgWHXAwZOjgUM9xkYtvMkMIQyMDzgusDwl4GBof8ByxcgdYyBdwGQCmZgNQBShxn6FYDU\n",
       "47vnNzAwgGUZGJgT+H4AKUYF1gtAiuPuESAJAJGkFvXVdzA+AAAAAElFTkSuQmCC\n",
       "\" style=\"display:inline;vertical-align:middle;\" /></a> : <a class=\"ProveItLink\" href=\"../../numeral/__pv_it/eafea0aba3ef5dc2db24e5b7b93d46ff53acbff50/expr.ipynb\"><img src=\"data:image/png;base64,iVBORw0KGgoAAAANSUhEUgAAAAoAAAAOBAMAAADkjZCYAAAAKlBMVEX////u7u4yMjIQEBC6uroi\n",
       "IiKIiIiYmJhmZmaqqqpERER2dnbc3NwAAAAz17lDAAAAAXRSTlMAQObYZgAAAE5JREFUCNdjYDi9\n",
       "eyUDA08Dw9wCBrabDLwBDCwmDLwKDEAAFGFgYIwGEjxbG0ECDMkOIJLZkIHnAAMXUPFFEMm8gIH1\n",
       "IgN7AVi9R8cSBgCvphDNutx7AgAAAABJRU5ErkJggg==\n",
       "\" style=\"display:inline;vertical-align:middle;\" /></a></span></td></tr><tr><td><a name=\"-0x7f5675b992dc71e5_step11\">11</a></td><td>theorem</td><td></td><td><span style=\"font-size:20px;\"> <a class=\"ProveItLink\" href=\"../../numeral/deci/_proofs_/posnat1.ipynb\" style=\"text-decoration: none\">&#x22A2;&nbsp;</a><a class=\"ProveItLink\" href=\"../../numeral/deci/__pv_it/de9ceaf769f36cdba00e5fe81f80934e583ca7d90/expr.ipynb\"><img src=\"data:image/png;base64,iVBORw0KGgoAAAANSUhEUgAAAD4AAAAUBAMAAAAn2JMnAAAAMFBMVEX///+6urrc3NzMzMwiIiJE\n",
       "REQyMjJmZmaIiIiYmJh2dnZUVFTu7u4QEBCqqqoAAABhZHJKAAAAAXRSTlMAQObYZgAAAMVJREFU\n",
       "KM9jYKAAbCAgH0ALeZ780BwGrvsXYfJ8d9AUsE6wZmA4z8CdlnYtLZPh9Oo/aPLczhwNDLxw8zlh\n",
       "8pwhLm5gedEDmxlYMOSZIw5A9StvOHYAU/7YAZj5Ci+YN2DKb4Lbr8AlMANTPgAhz7CH2wTEUkCS\n",
       "Z76WBgRQ+dMMuXDvQOWZkPUzL7BFl2e4gCTPMI8VQ74CLm/AwMClCpfngMqzPIAKsIEYZTBp9r3f\n",
       "KiHxslUG4lD/q6DQwIw4xqWQ8EUBALbBNZpfZmuBAAAAAElFTkSuQmCC\n",
       "\" style=\"display:inline;vertical-align:middle;\" /></a></span></td></tr>\n",
       "<tr><td>&nbsp;</td><td colspan=4 style-\"text-align:left\"><a class=\"ProveItLink\" href=\"../../numeral/deci/_proofs_/posnat1.ipynb\">proveit.number.numeral.deci.posnat1</a></td></tr><tr><td><a name=\"-0x7f5675b992dc71e5_step12\">12</a></td><td>instantiation</td><td><a href=\"#-0x7f5675b992dc71e5_step20\">20</a>, <a href=\"#-0x7f5675b992dc71e5_step19\">19</a></td><td><span style=\"font-size:20px;\"> <a class=\"ProveItLink\" href=\"__pv_it/cd2daf7183efae81153c04543123228843561ae20/proof.ipynb\" style=\"text-decoration: none\">&#x22A2;&nbsp;</a><a class=\"ProveItLink\" href=\"__pv_it/ae5bdd2338032c98aae53987c7781dae56acbbaa0/expr.ipynb\"><img src=\"data:image/png;base64,iVBORw0KGgoAAAANSUhEUgAAAEcAAAAWBAMAAABgTJx+AAAAMFBMVEX///9mZmaqqqrc3NyIiIgi\n",
       "IiJUVFTMzMyYmJi6uroQEBB2dnZEREQyMjLu7u4AAAA1o4RqAAAAAXRSTlMAQObYZgAAAQhJREFU\n",
       "KM9jYCANsBGjiIceit7+OfuAYdevCdgUta45f3dNA4h1gj2Bge8DQ+7dW3fvNkAk20JDQ8NBjAvP\n",
       "GGp6HgAZqQUuDAwLkK2z3QxjHbBm4GFOADIyz7EVMAQgK7rMgKSI0eACkJFcxncPRRGjAqqiAyBF\n",
       "TA5lKIpYGZAVsXGCrEtm2MnhgKzIDEWRquwDsCK2B+kgRcxQmTdIiqxCY8GWJzPwJfAuQAodFOsm\n",
       "8jyAKGKoZkdWxO2ApIhx+gGoIg6FA8gBfQnZTedaQIx0IN6MouhZ5gOEojLGAqg+xgsocVZ9FBEt\n",
       "3ApAU0p/AU3hu4A18oERfJ3hzH0FBloC7tBQWFKBAgBTB1FRyPPOAQAAAABJRU5ErkJggg==\n",
       "\" style=\"display:inline;vertical-align:middle;\" /></a></span></td></tr>\n",
       "<tr><td>&nbsp;</td><td colspan=4 style=\"text-align:left\"><span style=\"font-size:20px;\"><a class=\"ProveItLink\" href=\"../../../__pv_it/d3792d0d8642fdf1cd2a3a9b32c673ee13653de00/expr.ipynb\"><img src=\"data:image/png;base64,iVBORw0KGgoAAAANSUhEUgAAAA8AAAAOBAMAAAACpFvcAAAALVBMVEX///8iIiIQEBBERERUVFS6\n",
       "urqIiIjc3NxmZmaqqqru7u6YmJgyMjLMzMwAAACK9jtgAAAAAXRSTlMAQObYZgAAAFtJREFUCNdj\n",
       "YACBOwxQcA5Kc59bAGGs7CuAMDbkBYBp1gXzNoAZSxnuJYAZAQx1DSCa16PDzwCshIGB6QCIMYGB\n",
       "gVEBSLMDGTwPgIxCIGZ+zsCw+N0pBk67hw0AfpEVEQi8t+wAAAAASUVORK5CYII=\n",
       "\" style=\"display:inline;vertical-align:middle;\" /></a> : <a class=\"ProveItLink\" href=\"../integer/__pv_it/f6a9f4b6dec6ab4d2dcb6ba1b0ba3cceefc643530/expr.ipynb\"><img src=\"data:image/png;base64,iVBORw0KGgoAAAANSUhEUgAAABsAAAATBAMAAACTqWsLAAAAMFBMVEX///9mZmaqqqrc3NyIiIgi\n",
       "IiJUVFTMzMyYmJi6uroQEBB2dnZEREQyMjLu7u4AAAA1o4RqAAAAAXRSTlMAQObYZgAAAHlJREFU\n",
       "GNNjYMAF2FC5PIS5b/+cfcCw69cEmOwJ9gQGvg8MuXdv3b3bwMCQWuDCwLAArjfzHFsBQwCcm1zG\n",
       "dw+Zy+RQhsxl2MnhgMxle5AO4jJDuXwJvAvgjklmYKhmR+FyKByAc9OBeDOCewmIGS/AeKW/gDJ8\n",
       "MC4AcS4inf/pcBQAAAAASUVORK5CYII=\n",
       "\" style=\"display:inline;vertical-align:middle;\" /></a>, <a class=\"ProveItLink\" href=\"../../../__pv_it/4d98b438710c5ada9ffa4646bb123a7d0e69ec000/expr.ipynb\"><img src=\"data:image/png;base64,iVBORw0KGgoAAAANSUhEUgAAABAAAAAOBAMAAADUAYG5AAAALVBMVEX///8yMjKqqqoiIiLu7u7c\n",
       "3NyIiIjMzMwQEBC6urpERERmZmZUVFSYmJgAAACsPVCVAAAAAXRSTlMAQObYZgAAAGxJREFUCNdj\n",
       "YGC48+70nlUTGICgi4GB+zmQZn/LwMD5Gshge8rAwPsMyOBqYGDwMAEy+A4wsNs4ABl1Z68tVgBp\n",
       "ygtgYOkBMVaAOCChNyBGAsQYhnMTIMawvwJyGIHGzFjCwMAj92b3qUUMDAAXABxvZ4rl5AAAAABJ\n",
       "RU5ErkJggg==\n",
       "\" style=\"display:inline;vertical-align:middle;\" /></a> : <a class=\"ProveItLink\" href=\"__pv_it/83c2d223a7b04200651811c8b29e747fd8f853510/expr.ipynb\"><img src=\"data:image/png;base64,iVBORw0KGgoAAAANSUhEUgAAAA8AAAAOBAMAAAACpFvcAAAAMFBMVEX///+IiIiqqqq6urpmZmZ2\n",
       "dnbc3NzMzMxUVFTu7u4yMjJEREQQEBAiIiKYmJgAAACIyPRpAAAAAXRSTlMAQObYZgAAAFlJREFU\n",
       "CNdjeHt6/6rTDxiAYMEMhurXE4CMDakM3GwNEAZLwgIYYwOEwcEMldL1AivOuXtLgQEsYsI9AcJg\n",
       "Md8AYTDsfAhlVLAUQKxgVWhnYABaupxh93oFAP7MI7KHKGXxAAAAAElFTkSuQmCC\n",
       "\" style=\"display:inline;vertical-align:middle;\" /></a></span></td></tr><tr><td><a name=\"-0x7f5675b992dc71e5_step13\">13</a></td><td>theorem</td><td></td><td><span style=\"font-size:20px;\"> <a class=\"ProveItLink\" href=\"../../numeral/deci/_proofs_/posnat3.ipynb\" style=\"text-decoration: none\">&#x22A2;&nbsp;</a><a class=\"ProveItLink\" href=\"../../numeral/deci/__pv_it/222818609e293c9009ce4ffc3af84e9d3aa7dc0a0/expr.ipynb\"><img src=\"data:image/png;base64,iVBORw0KGgoAAAANSUhEUgAAAD8AAAAUBAMAAADIGvgZAAAAMFBMVEX///9UVFTMzMzu7u4yMjIQ\n",
       "EBC6uroiIiKIiIiYmJhmZmaqqqpERER2dnbc3NwAAACDMjhQAAAAAXRSTlMAQObYZgAAAPNJREFU\n",
       "KM9jYKAEMBJSwEMlBW/vnkYVNvlzxIDh6tcEqAK+BQz7J6CqOMkkwMD8gUHExdXFZQIDx28G/gJU\n",
       "BeIKHQwMATAr2MIY+B0gEnPKy8EsscOMCgwFSI6EWqHTDOXLKTI7IytgroVQzjAr5LgbFJEU8F1f\n",
       "DAm2B3AFDNc4G5CtaE1ADRU5BkYDIZACPqgAazCIVHUBAgeIAmYBlgCYcr4HDDy/QYw3SCYw6DLB\n",
       "FfB/hipgRVbAueEAjMd6gIH9M4jB1QATEgLie3AFnBNg4VANE/IGKXeAG5i16hiEYXjMAEyrfwXq\n",
       "ZnbAEru5x8sxhQH/kzXL0WiwxAAAAABJRU5ErkJggg==\n",
       "\" style=\"display:inline;vertical-align:middle;\" /></a></span></td></tr>\n",
       "<tr><td>&nbsp;</td><td colspan=4 style-\"text-align:left\"><a class=\"ProveItLink\" href=\"../../numeral/deci/_proofs_/posnat3.ipynb\">proveit.number.numeral.deci.posnat3</a></td></tr><tr><td><a name=\"-0x7f5675b992dc71e5_step14\">14</a></td><td>theorem</td><td></td><td><span style=\"font-size:20px;\"> <a class=\"ProveItLink\" href=\"../../../logic/set_theory/containment/_proofs_/unfoldSubsetEq.ipynb\" style=\"text-decoration: none\">&#x22A2;&nbsp;</a><a class=\"ProveItLink\" href=\"../../../logic/set_theory/containment/__pv_it/50809a187bf396541dec7084ad3e3605c6a1b8c80/expr.ipynb\"><img src=\"data:image/png;base64,iVBORw0KGgoAAAANSUhEUgAAAPcAAAAWBAMAAADuuhdHAAAAMFBMVEX///8QEBCIiIhmZma6urrM\n",
       "zMxUVFQiIiJERETc3Nzu7u6qqqp2dnaYmJgyMjIAAAAcRTyBAAAAAXRSTlMAQObYZgAAA4FJREFU\n",
       "SMe9lk1oE0EUx/8m2TS7SZqeRNBDsAdLsRooVJSqsV4UKo09iDeDWqgHMahYv42idtsqiRctgnZF\n",
       "sFhLDXhSD8YWsbZ+xAp+iwseCj3U0BqtlaLzsclOQ1JtRN9hd2bem/d7M/Pe7AIFimU0MLPBpZmU\n",
       "twH3sB86bX+YPdzlL6YvdyKPXgnnHH75c1uV6oc9Sj1gkA6NFAJ3xcirWMujL47mHp8HWFNQdAZv\n",
       "JwNyuBA4m9WeT/8i97A0BdjGgV4Gp6GzNcwazvZrMJ/+wLTe66YmnafKd3JUY8AV5sE90NV1AQXB\n",
       "33d1XQ/lUcvTFJvL0y1HCQEfJKfipx4woaqHC4N7VLU5nq8YfCTnFu6o6WXJZ+aUJwhpH91sH4M3\n",
       "AC1snD/Xjfc1slyxZYLNpI4tUl3VYsLtAUGXZesgVdCNV96jtGM3rbbsHGqmh+zWGXwtSz3S/cK0\n",
       "7hK4Stj0tP1HYtStqqdJ8zlw34TbfOjJWjC1ZVJECAN4pq2f5gpYGoUyl7ydIQYvgoXV6tUpprUG\n",
       "4ZwUZyirE5BO8XYVcE/LwBFCRdrpjb6Vhi2XOUStQeWdjaNEeMIdpwGQwKQk8+BKFLHhgT08ZC+s\n",
       "ugh3dfoy7d3AKnPleIJ0WrnbLmqGrQkHxnhHqMevFO7NwGV9EytALw/zZgBLNBFe7wjjrrEJKVhG\n",
       "BPhlKUgapfUN5Owytua2Q0oZkUwrc+wiU21829GynSUFljF1XUVZECI8aA1huZFwY0OnhWyH4zx5\n",
       "lNv1vfyS5rZmwt2xJMFqzOrNFAEpc2nCTDjcYhPeYSlTPwUWiXB3jLh4ZAB1WEIC3EnjDRQnoPhM\n",
       "W0Ptg+2HIynzHDiUuXRJLq9ppfHEOdxD41I+PY6w3T4DdMQEeE91/yRqjOXEIf8Q4PxMPVFI+1X1\n",
       "hGFrbFIIytbyUuOLde0kT1P756+VjW0sigD34KYKq4YO9o0kzuuiAnwF5FS6fD0x2L6L8LesdBFA\n",
       "0LTNeb3WNhvXa1o6DQ9MNhDXCbkV8iTkBcK228i+TUE5y+gdGs7FRTi9R5NPEccD03bmD0taegW4\n",
       "YwJy5Ig0Hw/HKxv9AjwSRvu3BJz95JJxHausOoksuLKzdrEGR8y0zb4Xc37tdXHlXJziTfnbu12U\n",
       "Mnrmf/AzIYSWDb/953DL0b/5jXpDHAxnwRN54O0qEfxHsf57xC8BVPer1lKnkwAAAABJRU5ErkJg\n",
       "gg==\n",
       "\" style=\"display:inline;vertical-align:middle;\" /></a></span></td></tr>\n",
       "<tr><td>&nbsp;</td><td colspan=4 style-\"text-align:left\"><a class=\"ProveItLink\" href=\"../../../logic/set_theory/containment/_proofs_/unfoldSubsetEq.ipynb\">proveit.logic.set_theory.containment.unfoldSubsetEq</a></td></tr><tr><td><a name=\"-0x7f5675b992dc71e5_step15\">15</a></td><td>instantiation</td><td><a href=\"#-0x7f5675b992dc71e5_step20\">20</a>, <a href=\"#-0x7f5675b992dc71e5_step21\">21</a></td><td><span style=\"font-size:20px;\"> <a class=\"ProveItLink\" href=\"__pv_it/dba40e047bd00548ef613fc93d775e98a14ff9c50/proof.ipynb\" style=\"text-decoration: none\">&#x22A2;&nbsp;</a><a class=\"ProveItLink\" href=\"__pv_it/927af6f3a7b2a663b5d99838d58fa35c955572dd0/expr.ipynb\"><img src=\"data:image/png;base64,iVBORw0KGgoAAAANSUhEUgAAADoAAAARBAMAAAB+/qLuAAAAMFBMVEX///9mZmaqqqrc3NyIiIgi\n",
       "IiJUVFTMzMyYmJi6uroQEBB2dnZEREQyMjLu7u4AAAA1o4RqAAAAAXRSTlMAQObYZgAAAOdJREFU\n",
       "GNNjePvn7AOGXb8mMCADjqgzf2+dALFOsCcw8H2AiLaFhoaGgxi8fAnsJ84BGakFLgwMC8CStpth\n",
       "mnmYNzAcMAMyMs+xFTAEgMUuMyDLCvMCGcllfPcgsowKqLI8IFkmhzKILCsDimzCNJAsw04OB7Cs\n",
       "GYosU+A9sCzbg3Sw7Btk2aWhlxjAsnwJvAswTN4pcA4iy1DNDpbldkA2WbIGKsuhcAAsdglZlucF\n",
       "SHE6EG+GyD7LfICQZU8Qh2pgvAARrD6KCEmGTcBQKv0F1Md3gQEjFgp4zn5ioBLgDg2FxSAUAABz\n",
       "/UVYYN8RJAAAAABJRU5ErkJggg==\n",
       "\" style=\"display:inline;vertical-align:middle;\" /></a></span></td></tr>\n",
       "<tr><td>&nbsp;</td><td colspan=4 style=\"text-align:left\"><span style=\"font-size:20px;\"><a class=\"ProveItLink\" href=\"../../../__pv_it/d3792d0d8642fdf1cd2a3a9b32c673ee13653de00/expr.ipynb\"><img src=\"data:image/png;base64,iVBORw0KGgoAAAANSUhEUgAAAA8AAAAOBAMAAAACpFvcAAAALVBMVEX///8iIiIQEBBERERUVFS6\n",
       "urqIiIjc3NxmZmaqqqru7u6YmJgyMjLMzMwAAACK9jtgAAAAAXRSTlMAQObYZgAAAFtJREFUCNdj\n",
       "YACBOwxQcA5Kc59bAGGs7CuAMDbkBYBp1gXzNoAZSxnuJYAZAQx1DSCa16PDzwCshIGB6QCIMYGB\n",
       "gVEBSLMDGTwPgIxCIGZ+zsCw+N0pBk67hw0AfpEVEQi8t+wAAAAASUVORK5CYII=\n",
       "\" style=\"display:inline;vertical-align:middle;\" /></a> : <a class=\"ProveItLink\" href=\"../integer/__pv_it/b49c37b99b7e8d73a8d7971bcf454d693b90a2c60/expr.ipynb\"><img src=\"data:image/png;base64,iVBORw0KGgoAAAANSUhEUgAAAA8AAAAOBAMAAAACpFvcAAAAMFBMVEX///9mZmaqqqrc3NyIiIgi\n",
       "IiJUVFTMzMyYmJi6uroQEBB2dnZEREQyMjLu7u4AAAA1o4RqAAAAAXRSTlMAQObYZgAAAGVJREFU\n",
       "CNdjePvn7AOGXb8mMDCcYE9g4PvAwMCQWuDCwLAAyMg8x1bAEABkJJfx3YMwmBzKIAyGnRwOEAbb\n",
       "g3QIgy+BdwGYwVDNDmVwKBwAMtKBeDOIcQmIGS8wMJT+AvL4LjAAADA2HcoIlkTkAAAAAElFTkSu\n",
       "QmCC\n",
       "\" style=\"display:inline;vertical-align:middle;\" /></a>, <a class=\"ProveItLink\" href=\"../../../__pv_it/4d98b438710c5ada9ffa4646bb123a7d0e69ec000/expr.ipynb\"><img src=\"data:image/png;base64,iVBORw0KGgoAAAANSUhEUgAAABAAAAAOBAMAAADUAYG5AAAALVBMVEX///8yMjKqqqoiIiLu7u7c\n",
       "3NyIiIjMzMwQEBC6urpERERmZmZUVFSYmJgAAACsPVCVAAAAAXRSTlMAQObYZgAAAGxJREFUCNdj\n",
       "YGC48+70nlUTGICgi4GB+zmQZn/LwMD5Gshge8rAwPsMyOBqYGDwMAEy+A4wsNs4ABl1Z68tVgBp\n",
       "ygtgYOkBMVaAOCChNyBGAsQYhnMTIMawvwJyGIHGzFjCwMAj92b3qUUMDAAXABxvZ4rl5AAAAABJ\n",
       "RU5ErkJggg==\n",
       "\" style=\"display:inline;vertical-align:middle;\" /></a> : <a class=\"ProveItLink\" href=\"__pv_it/83c2d223a7b04200651811c8b29e747fd8f853510/expr.ipynb\"><img src=\"data:image/png;base64,iVBORw0KGgoAAAANSUhEUgAAAA8AAAAOBAMAAAACpFvcAAAAMFBMVEX///+IiIiqqqq6urpmZmZ2\n",
       "dnbc3NzMzMxUVFTu7u4yMjJEREQQEBAiIiKYmJgAAACIyPRpAAAAAXRSTlMAQObYZgAAAFlJREFU\n",
       "CNdjeHt6/6rTDxiAYMEMhurXE4CMDakM3GwNEAZLwgIYYwOEwcEMldL1AivOuXtLgQEsYsI9AcJg\n",
       "Md8AYTDsfAhlVLAUQKxgVWhnYABaupxh93oFAP7MI7KHKGXxAAAAAElFTkSuQmCC\n",
       "\" style=\"display:inline;vertical-align:middle;\" /></a></span></td></tr><tr><td><a name=\"-0x7f5675b992dc71e5_step16\">16</a></td><td>theorem</td><td></td><td><span style=\"font-size:20px;\"> <a class=\"ProveItLink\" href=\"../../numeral/deci/_proofs_/nat2.ipynb\" style=\"text-decoration: none\">&#x22A2;&nbsp;</a><a class=\"ProveItLink\" href=\"../../numeral/deci/__pv_it/e1be5cc0ffa039746758df99e3fd79595c567a170/expr.ipynb\"><img src=\"data:image/png;base64,iVBORw0KGgoAAAANSUhEUgAAADIAAAAPBAMAAABU9YHxAAAAMFBMVEX///+YmJiqqqqIiIgyMjLc\n",
       "3NwiIiIQEBC6urp2dnZUVFTMzMxERERmZmbu7u4AAADrYmUNAAAAAXRSTlMAQObYZgAAAOBJREFU\n",
       "GNNj4Lt7ZgMDMuDzP+PHwFlfwfCKgfMHigwDj8AuBob3DAz3GBjKUWW4spkNGNgZGMoYGNYHgEVk\n",
       "0tIcwDI9D1YzsDEw+D9gWA+2aI8dTE/0gicP2MDM/Acgi/3gpgUocy8Ay3D8hPARMpwNwmAZtgVg\n",
       "FyFcEMCwjmsbiHUXzN/uAgQOUJlXDO5ABvMFsEwMsh7uCduBDF0GVpAV7MgyDEJAw7knMDCDZHgN\n",
       "4DJAT3ACjQibOXcZWCAJJsOiACSuAH36//83sMCrEw/ANHd+DZB8ghxenccgoQMFAOa6NR2IZoaj\n",
       "AAAAAElFTkSuQmCC\n",
       "\" style=\"display:inline;vertical-align:middle;\" /></a></span></td></tr>\n",
       "<tr><td>&nbsp;</td><td colspan=4 style-\"text-align:left\"><a class=\"ProveItLink\" href=\"../../numeral/deci/_proofs_/nat2.ipynb\">proveit.number.numeral.deci.nat2</a></td></tr><tr><td><a name=\"-0x7f5675b992dc71e5_step17\">17</a></td><td>theorem</td><td></td><td><span style=\"font-size:20px;\"> <a class=\"ProveItLink\" href=\"../../ordering/_proofs_/relaxLess.ipynb\" style=\"text-decoration: none\">&#x22A2;&nbsp;</a><a class=\"ProveItLink\" href=\"../../ordering/__pv_it/f68abf5d7a517d1387cd54de9a68e9603a0244550/expr.ipynb\"><img src=\"data:image/png;base64,iVBORw0KGgoAAAANSUhEUgAAAKEAAAAWBAMAAABasOFIAAAAMFBMVEX///8QEBCIiIhmZma6urrM\n",
       "zMxUVFQiIiJERETc3Nzu7u6qqqp2dnaYmJgyMjIAAAAcRTyBAAAAAXRSTlMAQObYZgAAAkZJREFU\n",
       "OMudVU1o1EAU/rpNmp9mt714D1uopRd7qT8gdVFQvLTuRXqUYsFeigdFBJEetGwvEi+6KOKIoFA8\n",
       "LHjSgyx7EVbQgEIRFHIQBEEIoqB48b3JJplsdivpg5B535f55v3MTIDi9mA49YKegAefiwjaG8O5\n",
       "MQ94w4NvRRQrXh+w/0y6GgXYpLe1UUTxfV/Ir13F69CKAnBaRRSvZjzrkK+6j4Byd3v7bhFB62LG\n",
       "W89GU6kBvxuNa0UUS3OUaXXteIcd/VYtTn7KxW0Bh9hVYCs3rTZc0aQsn2HHvc5OI2mKo03iAKVM\n",
       "rTkhG9Rn2VZpQnEMSrOLd+K0bPNsDN8fDdAAxqkmBkr+7or6puqNUPyCJ0vb6fYGYsTFD/o2pHB9\n",
       "A7sqWhe8fkXw5MheHekNloT+K1K0grO8j+anqSTaNAyRKkrQPqwSUdbgyT1bXI3eCyhN0oe8E7bO\n",
       "UwPFukFrOxOinsYoQfstx5QQUWdelkIkFVy+IV+bMM9FncFzktXxndF7pzCTKkqw7mcI8P7Q/pqh\n",
       "lRb/jmz4QSwRNNqm4YQ8RX8keRQrah0JdL5kCJmXvTI7lbtcnlSPUb0rrF7mAumhzvAl7FMUJfj4\n",
       "pkrkTqFiC/Q8jZ2HTuCgKXBZC1NFCVJSfABiIn9TxPdYYP+MbopeyB86XdRbODkTpIoSJGuuISG4\n",
       "Nelmsr9eYeNMDd90kTssLdsz/QFnZtlLiKE3rladz67GNu6NtRcHnULKKSb+81f4mHXL0D61Bysm\n",
       "xJ5tbu9T/wHjpZf0RDE5VQAAAABJRU5ErkJggg==\n",
       "\" style=\"display:inline;vertical-align:middle;\" /></a></span></td></tr>\n",
       "<tr><td>&nbsp;</td><td colspan=4 style-\"text-align:left\"><a class=\"ProveItLink\" href=\"../../ordering/_proofs_/relaxLess.ipynb\">proveit.number.ordering.relaxLess</a></td></tr><tr><td><a name=\"-0x7f5675b992dc71e5_step18\">18</a></td><td>theorem</td><td></td><td><span style=\"font-size:20px;\"> <a class=\"ProveItLink\" href=\"../../numeral/deci/_proofs_/less_2_3.ipynb\" style=\"text-decoration: none\">&#x22A2;&nbsp;</a><a class=\"ProveItLink\" href=\"../../numeral/deci/__pv_it/09562e4610fc123f904c6f39335f040aa9bfa81c0/expr.ipynb\"><img src=\"data:image/png;base64,iVBORw0KGgoAAAANSUhEUgAAADAAAAAOBAMAAACbXIJpAAAAMFBMVEX///+YmJiqqqqIiIgyMjLc\n",
       "3NwiIiIQEBC6urp2dnZUVFTMzMxERERmZmbu7u4AAADrYmUNAAAAAXRSTlMAQObYZgAAALhJREFU\n",
       "GNNj4Lt7ZgMDGoiceYiB4RUD5w80cdYLDPoCDPcYGMoRYiog3cyfGPgTGMoYGNYHwMTFroJIjgoG\n",
       "fgcG/wcM62GWmM2DqQAaBQT5D8AcvmkGMHG+TLDOnxDONQG47dPugSi2BWDeEgUkh5k3AIm7EA0o\n",
       "Eux1QMddgOqHG8UawMDziYFBF8RAsZz/H0iCewIDcwCqc9kPMLD9YwibOXcZA6oHGQVA/vD///8b\n",
       "WpAw9N49wQAAOKUvinSXmHsAAAAASUVORK5CYII=\n",
       "\" style=\"display:inline;vertical-align:middle;\" /></a></span></td></tr>\n",
       "<tr><td>&nbsp;</td><td colspan=4 style-\"text-align:left\"><a class=\"ProveItLink\" href=\"../../numeral/deci/_proofs_/less_2_3.ipynb\">proveit.number.numeral.deci.less_2_3</a></td></tr><tr><td><a name=\"-0x7f5675b992dc71e5_step19\">19</a></td><td>theorem</td><td></td><td><span style=\"font-size:20px;\"> <a class=\"ProveItLink\" href=\"_proofs_/natsPosInReals.ipynb\" style=\"text-decoration: none\">&#x22A2;&nbsp;</a><a class=\"ProveItLink\" href=\"__pv_it/22525e5844616024288cea857a15e326832450440/expr.ipynb\"><img src=\"data:image/png;base64,iVBORw0KGgoAAAANSUhEUgAAAEcAAAAUBAMAAAAthD11AAAAMFBMVEX///9mZmaqqqrc3NyIiIgi\n",
       "IiJUVFTMzMyYmJi6uroQEBB2dnZEREQyMjLu7u4AAAA1o4RqAAAAAXRSTlMAQObYZgAAAQNJREFU\n",
       "KM9jYCANsBGjiIceit7+OfuAYdevCdgUta45f3dNA4h1gj2Bge8DQ+7dW3fvNqCpuvCMoabnAZCR\n",
       "WuDCwLAAu3UHrBl4mBOAjMxzbAUMASiKekJDQ8OhihgNLgAZyWV891AV2W5GMonR4ABIEZNDGaqi\n",
       "YGTr2DhB1iUz7ORwQFbEqICsSFX2AVgR24N0kCJmqAwrksOtQmPBWpIZ+BJ4FyB5yQzZdxN5HkAU\n",
       "MVSzIyt6g6yIcfoBqCIOhQNIilhRwulcC4iRDsSbkRVxOyArKmMsADIugTx0ATmcLyFHC7cC0JTS\n",
       "X0BT+FAUPct8AI/g6wxn7itgTRnVR6HRAgUAnWVOzL1sOfAAAAAASUVORK5CYII=\n",
       "\" style=\"display:inline;vertical-align:middle;\" /></a></span></td></tr>\n",
       "<tr><td>&nbsp;</td><td colspan=4 style-\"text-align:left\"><a class=\"ProveItLink\" href=\"_proofs_/natsPosInReals.ipynb\">proveit.number.sets.real.natsPosInReals</a></td></tr><tr><td><a name=\"-0x7f5675b992dc71e5_step20\">20</a></td><td>theorem</td><td></td><td><span style=\"font-size:20px;\"> <a class=\"ProveItLink\" href=\"../../../logic/set_theory/containment/_proofs_/relaxSubset.ipynb\" style=\"text-decoration: none\">&#x22A2;&nbsp;</a><a class=\"ProveItLink\" href=\"../../../logic/set_theory/containment/__pv_it/67d69fc4067f328a5c2eb0f4e944b9678d50896a0/expr.ipynb\"><img src=\"data:image/png;base64,iVBORw0KGgoAAAANSUhEUgAAALkAAAAWBAMAAABuySBUAAAAMFBMVEX///8QEBCIiIhmZma6urrM\n",
       "zMxUVFQiIiJERETc3Nzu7u6qqqp2dnaYmJgyMjIAAAAcRTyBAAAAAXRSTlMAQObYZgAAAs1JREFU\n",
       "SMetVU1oE0EU/tyfNLtJak8iKBLwoBdtIBBRika8SFFaPPQkGLBCD4rRokFRjCB2W4XEixZEuyK0\n",
       "koMGetGTtSJqFYkVBBE14Ml6aGlsTSO1vpnZTSdtrbg6sPvemzfzvd+ZATyPG3/QP6CvyJgPHsDN\n",
       "NCd6cZHm7dzBmBWHLwu8YPKYB/T6rCATLmYqlToh2NWAOgWT7PaSZKQ9oL8R5GNF0JvPqxp9FtBK\n",
       "wDDZtoFg3gP6KZGfwRkhfpnXKDQVmgRuERnJ5a55ADeSnISUb5yqkoP+BkI+TY7HgbJlnfGArkQ4\n",
       "aQ7MclonqVYmoJ9kKaElh4BuPin+u0uPO3i9tKorWZfTMk2xbne2wBMT1ye5eFVCP3BktIuFEqKy\n",
       "7uLFJV6EGGpAsIFvdxd/ilf3vQYeOWxdXrhglLh4R0JvzMJcRTSQZDEp3I3bIkQ1gUBFRjd3kFpf\n",
       "H40SHwMe2mJ6BbfZFo2VF2XmPLNAxnVq1mBBaEY6xbIw1KKMHhyIwDzcnMsRfxzYDhmdfuvEqvA8\n",
       "+jRDDwt0o9jGmzRscdW9Vmy2ZfR9/jR8rSKMKShjcmYC9B0T8teadsdRsquxtupuZ3M+bOG6lk0b\n",
       "E5DRE2oSe5yqTo5ehFzV6/SNC7m/3ZbaXS87VcUg79z3aOS6V8AGGT2UVybwxElSEUrSTVjE6fmM\n",
       "01L7u5yboJ6aYmcPK+EQa0+WMvPzyww3fhnoy0vod5ueVbDV8XcIxg+3O5MwMz9t3J/rrD0IvvHp\n",
       "aMclboblM8RQVRt9PLm0uyUroW+DMUWBiWOShzZTexMsNwaq3F7aWzB6YFRgrJUyo1F6Z91u7rNx\n",
       "ZWjBLbbMGK7WqAwjc1Zfg6elaEdcQs+k0fu9oPETGjwXjV3A4iPMdanU/A3sHJSFN39A4v2yot+y\n",
       "rKVfj9+PWvPOY7UkupeX793CicLfoP/TUP8Dxi9bSbT1CXT83gAAAABJRU5ErkJggg==\n",
       "\" style=\"display:inline;vertical-align:middle;\" /></a></span></td></tr>\n",
       "<tr><td>&nbsp;</td><td colspan=4 style-\"text-align:left\"><a class=\"ProveItLink\" href=\"../../../logic/set_theory/containment/_proofs_/relaxSubset.ipynb\">proveit.logic.set_theory.containment.relaxSubset</a></td></tr><tr><td><a name=\"-0x7f5675b992dc71e5_step21\">21</a></td><td>theorem</td><td></td><td><span style=\"font-size:20px;\"> <a class=\"ProveItLink\" href=\"_proofs_/natsInReals.ipynb\" style=\"text-decoration: none\">&#x22A2;&nbsp;</a><a class=\"ProveItLink\" href=\"__pv_it/6098108b1d877967cea5274a6774d2bf310a01e40/expr.ipynb\"><img src=\"data:image/png;base64,iVBORw0KGgoAAAANSUhEUgAAADoAAAAPBAMAAABHIsEFAAAAMFBMVEX///9mZmaqqqrc3NyIiIgi\n",
       "IiJUVFTMzMyYmJi6uroQEBB2dnZEREQyMjLu7u4AAAA1o4RqAAAAAXRSTlMAQObYZgAAAONJREFU\n",
       "GNNjePvn7AOGXb8mMCADjqgzf2+dALFOsCcw8H1gQAW8fAnsJ84BGakFLgwMC9BkeZg3MBwwAzIy\n",
       "z7EVMARABHtCQ0PDYbLCvEBGchnfPais7WZkvcI8IFkmhzKobDCKyQnTQLIMOzkcwLKMCsiyTIH3\n",
       "wLJsD9LBsqzIrloaeokBLMuXwAt2sxmy7E6BcxBZhmp2sOwbFB9J1kBlORQOYJi8geeFA5CRDsSb\n",
       "wbLcDsiy7AniQAbIcsYLYLFLyCHJsAkYSqW/gPr4ILLPMh8gYqGA5+wn1OCtPgoNSSgAAJNTQtM7\n",
       "D94dAAAAAElFTkSuQmCC\n",
       "\" style=\"display:inline;vertical-align:middle;\" /></a></span></td></tr>\n",
       "<tr><td>&nbsp;</td><td colspan=4 style-\"text-align:left\"><a class=\"ProveItLink\" href=\"_proofs_/natsInReals.ipynb\">proveit.number.sets.real.natsInReals</a></td></tr></table>"
      ],
      "text/plain": [
       "\tstep type\trequirements\tstatement\n",
       "0\tinstantiation\t1, 4, 5, 2\t|- 2 in [1,3]\n",
       "\ta : 1, b : 3, x : 2\n",
       "1\ttheorem\t\t|- forall_{a in Reals, b in Reals} [forall_{x in (a,b]} (x in [a,b])]\n",
       "\tproveit.number.sets.real.relax_IntervalOC\n",
       "2\tinstantiation\t3, 4, 5, 6, 7, 8\t|- 2 in (1,3]\n",
       "\ta : 1, b : 3, x : 2\n",
       "3\ttheorem\t\t|- forall_{a in Reals, b in Reals, x in Reals | a < x, x <= b} (x in (a,b])\n",
       "\tproveit.number.sets.real.in_IntervalOC\n",
       "4\tinstantiation\t12, 10, 9\t|- 1 in Reals\n",
       "\tA : NaturalsPos, B : Reals, x : 1\n",
       "5\tinstantiation\t12, 10, 11\t|- 3 in Reals\n",
       "\tA : NaturalsPos, B : Reals, x : 3\n",
       "6\tinstantiation\t12, 13, 14\t|- 2 in Reals\n",
       "\tA : Naturals, B : Reals, x : 2\n",
       "7\ttheorem\t\t|- 1 < 2\n",
       "\tproveit.number.numeral.deci.less_1_2\n",
       "8\tinstantiation\t15, 16\t|- 2 <= 3\n",
       "\tx : 2, y : 3\n",
       "9\ttheorem\t\t|- 1 in NaturalsPos\n",
       "\tproveit.number.numeral.deci.posnat1\n",
       "10\tinstantiation\t18, 17\t|- NaturalsPos subseteq Reals\n",
       "\tA : NaturalsPos, B : Reals\n",
       "11\ttheorem\t\t|- 3 in NaturalsPos\n",
       "\tproveit.number.numeral.deci.posnat3\n",
       "12\ttheorem\t\t|- forall_{A, B | A subseteq B} [forall_{x in A} (x in B)]\n",
       "\tproveit.logic.set_theory.containment.unfoldSubsetEq\n",
       "13\tinstantiation\t18, 19\t|- Naturals subseteq Reals\n",
       "\tA : Naturals, B : Reals\n",
       "14\ttheorem\t\t|- 2 in Naturals\n",
       "\tproveit.number.numeral.deci.nat2\n",
       "15\ttheorem\t\t|- forall_{x, y | x < y} (x <= y)\n",
       "\tproveit.number.ordering.relaxLess\n",
       "16\ttheorem\t\t|- 2 < 3\n",
       "\tproveit.number.numeral.deci.less_2_3\n",
       "17\ttheorem\t\t|- NaturalsPos subset Reals\n",
       "\tproveit.number.sets.real.natsPosInReals\n",
       "18\ttheorem\t\t|- forall_{A, B | A subset B} (A subseteq B)\n",
       "\tproveit.logic.set_theory.containment.relaxSubset\n",
       "19\ttheorem\t\t|- Naturals subset Reals\n",
       "\tproveit.number.sets.real.natsInReals"
      ]
     },
     "execution_count": 32,
     "metadata": {},
     "output_type": "execute_result"
    }
   ],
   "source": [
    "two_in_O1_3C.proof()"
   ]
  },
  {
   "cell_type": "markdown",
   "metadata": {},
   "source": [
    "<a id='demo02'></a><font size=4><b>2.</b> Proving $[1,2]\\subseteq \\mathbb{R}^{+}$</font><br><br>\n",
    "<font size=3>The set of real numbers in the closed interval $[1, 2]$ is clearly a subset (and thus also an improper subset) of the positive real numbers $\\mathbb{R}^{+}$. Prove-It will not automatically prove this, however:</font>"
   ]
  },
  {
   "cell_type": "code",
   "execution_count": 33,
   "metadata": {},
   "outputs": [
    {
     "name": "stdout",
     "output_type": "stream",
     "text": [
      "Proof failure. Unable to prove [1,2] subseteq RealsPos:\n",
      "Antecedent of [forall_{_a in [1,2]} (_a in RealsPos)] => ([1,2] subseteq RealsPos) is not proven\n"
     ]
    }
   ],
   "source": [
    "from proveit.logic import SubsetEq\n",
    "try:\n",
    "    SubsetEq(IntervalCC(one, two), RealsPos).prove()\n",
    "except ProofFailure as e:\n",
    "    print(\"Proof failure. {}\".format(e))"
   ]
  },
  {
   "cell_type": "markdown",
   "metadata": {},
   "source": [
    "<font size=3>So we do a little work first to lead Prove-It to a proof. (See Demonstration \\#3 below for an alternative approach.)\n",
    "\n",
    "First we define our interval of interest and use some basic `IntervalCC` methods to derive that an element of $[1,2]$ is real, greater than or equal to 1, and greater than 0:</font>"
   ]
  },
  {
   "cell_type": "code",
   "execution_count": 34,
   "metadata": {},
   "outputs": [
    {
     "data": {
      "text/html": [
       "<strong id=\"interval_12\">interval_12:</strong> <a class=\"ProveItLink\" href=\"__pv_it/68158b4a182745ff77d1afa581138f7dbd2dd41c0/expr.ipynb\"><img src=\"data:image/png;base64,iVBORw0KGgoAAAANSUhEUgAAACUAAAAUBAMAAAD4luk4AAAAMFBMVEX////c3NxERERmZmaYmJhU\n",
       "VFTu7u4QEBCqqqoiIiK6urp2dnbMzMwyMjKIiIgAAAB1lk67AAAAAXRSTlMAQObYZgAAAJhJREFU\n",
       "GNNjeHuHAQWw3FzAsAuJz2asdICBGyLWngARS2Xg/gURY4uOh4qZMTCUw9T5Q8UqGRjiBdDE7icw\n",
       "xB9AEwOC+QkYYly/GTDEOAMwxYwZMMT4DDDFmhkY0d3Cs4GBDyb2PoGB7S+Qlty9ORKq17T+sgPD\n",
       "TKDa+////4SZBwIcMDORxLgZMMXysIg5IIm9RAt7vpsLAOY9PnimwCFWAAAAAElFTkSuQmCC\n",
       "\" style=\"display:inline;vertical-align:middle;\" /></a><br>"
      ],
      "text/plain": [
       "interval_12: [1,2]"
      ]
     },
     "execution_count": 34,
     "metadata": {},
     "output_type": "execute_result"
    }
   ],
   "source": [
    "# define our interval of interest\n",
    "interval_12 = IntervalCC(one, two)"
   ]
  },
  {
   "cell_type": "code",
   "execution_count": 35,
   "metadata": {},
   "outputs": [
    {
     "data": {
      "text/html": [
       "<span style=\"font-size:20px;\"><a class=\"ProveItLink\" href=\"__pv_it/54171d8f5de1906411ec41ac985d5901d438dd6e0/expr.ipynb\"><img src=\"data:image/png;base64,iVBORw0KGgoAAAANSUhEUgAAAGEAAAAVBAMAAACkm51HAAAAMFBMVEX///+IiIi6urrc3NxERETM\n",
       "zMwQEBCqqqpUVFQiIiJ2dnYyMjLu7u5mZmaYmJgAAABN0h6tAAAAAXRSTlMAQObYZgAAAW9JREFU\n",
       "OMtjYGDgu8dAJGC9eABE8ezCKsu4OwBV4PUkBgamVBCL7wNWHVwKSJyzV1wZGBYBGbfBUhNw6ig7\n",
       "AGHzNDCsVwDrWIlXB09XP1QH7wEGtgScOp7MnLkBZsd7qA62CQwcn3HpCJFBchVMB/cfBo6vqDp4\n",
       "BJsVF4JdvIcBiw4g4PwD1rEMxOYAOuIUw0uB2WCOAQ4d+gvAOt6D2GXAcF/DsP6AMojDwoBDxwxI\n",
       "6HJfADp8MpBxgMEFIhG2Gwg2YOrgvQDRwdApwMCgBo7bjxAZExx2yDJA7WgAOd0BlGK+QsMRuw72\n",
       "CwzGCH+AwqqG8QMDOFh5BbDqiGJgEEaEFVAH03eWD8wPwHLTkXXIH2Dg+Q1kM89adWMCSnzwNMrI\n",
       "voMoPOF0AK7jRv7eBwwzgXzu////T8CZSrQ8EakE7AW47xE6EvCmdi4GDB0E8sdBFB3g/MGwC6+O\n",
       "B8g6mJIgLsWazxlno+Va6UmQfA4AM1V6ex0up/MAAAAASUVORK5CYII=\n",
       "\" style=\"display:inline;vertical-align:middle;\" /></a> <a class=\"ProveItLink\" href=\"__pv_it/30fcbaca804dce316c11d9ae06fef3c155a704490/proof.ipynb\" style=\"text-decoration: none\">&#x22A2;&nbsp;</a><a class=\"ProveItLink\" href=\"__pv_it/d2d6190f5fc1ca766a9021602cb97c358006f7dc0/expr.ipynb\"><img src=\"data:image/png;base64,iVBORw0KGgoAAAANSUhEUgAAADQAAAAPBAMAAABZ6/G2AAAAMFBMVEX///8QEBBmZmaqqqrMzMxE\n",
       "REQyMjIiIiKYmJh2dna6urrc3NxUVFSIiIju7u4AAAA6P00QAAAAAXRSTlMAQObYZgAAAMRJREFU\n",
       "GNNjYMAAHIWh3xIjGLACNr4DLBFxWKVYuScwBOxBEWotL0+ASWmzIcu43kPSpc0KZLy9s+vmBSDN\n",
       "l4ds4IE1QJEJHLXsIHN4NiBJMRcBFXI+4PzHBRJlRXKGeHkyyBwG1gCwgGMaEECdMUsB4nb+C2Bq\n",
       "K7LjtVzBLH8HMMWILMX6Aqie+cF9Bt4HQAGmC0hSLAdUGBjWG8Qz7ACLFCMFFMNkHgeGN3ffajSA\n",
       "Rd5EPYAHrwNr2Gfk4FgZDgkoKAAAelg1omM6Y4wAAAAASUVORK5CYII=\n",
       "\" style=\"display:inline;vertical-align:middle;\" /></a></span>"
      ],
      "text/plain": [
       "{x in [1,2]} |- x in Reals"
      ]
     },
     "execution_count": 35,
     "metadata": {},
     "output_type": "execute_result"
    }
   ],
   "source": [
    "# if x is in [1, 2] x must be real\n",
    "interval_12.deduceMemberInReals(x, assumptions=[InSet(x, interval_12)])"
   ]
  },
  {
   "cell_type": "code",
   "execution_count": 36,
   "metadata": {},
   "outputs": [
    {
     "data": {
      "text/html": [
       "<span style=\"font-size:20px;\"><a class=\"ProveItLink\" href=\"__pv_it/54171d8f5de1906411ec41ac985d5901d438dd6e0/expr.ipynb\"><img src=\"data:image/png;base64,iVBORw0KGgoAAAANSUhEUgAAAGEAAAAVBAMAAACkm51HAAAAMFBMVEX///+IiIi6urrc3NxERETM\n",
       "zMwQEBCqqqpUVFQiIiJ2dnYyMjLu7u5mZmaYmJgAAABN0h6tAAAAAXRSTlMAQObYZgAAAW9JREFU\n",
       "OMtjYGDgu8dAJGC9eABE8ezCKsu4OwBV4PUkBgamVBCL7wNWHVwKSJyzV1wZGBYBGbfBUhNw6ig7\n",
       "AGHzNDCsVwDrWIlXB09XP1QH7wEGtgScOp7MnLkBZsd7qA62CQwcn3HpCJFBchVMB/cfBo6vqDp4\n",
       "BJsVF4JdvIcBiw4g4PwD1rEMxOYAOuIUw0uB2WCOAQ4d+gvAOt6D2GXAcF/DsP6AMojDwoBDxwxI\n",
       "6HJfADp8MpBxgMEFIhG2Gwg2YOrgvQDRwdApwMCgBo7bjxAZExx2yDJA7WgAOd0BlGK+QsMRuw72\n",
       "CwzGCH+AwqqG8QMDOFh5BbDqiGJgEEaEFVAH03eWD8wPwHLTkXXIH2Dg+Q1kM89adWMCSnzwNMrI\n",
       "voMoPOF0AK7jRv7eBwwzgXzu////T8CZSrQ8EakE7AW47xE6EvCmdi4GDB0E8sdBFB3g/MGwC6+O\n",
       "B8g6mJIgLsWazxlno+Va6UmQfA4AM1V6ex0up/MAAAAASUVORK5CYII=\n",
       "\" style=\"display:inline;vertical-align:middle;\" /></a> <a class=\"ProveItLink\" href=\"__pv_it/084c1d41e6fc7474964156d000f6dd6eaf8b79ec0/proof.ipynb\" style=\"text-decoration: none\">&#x22A2;&nbsp;</a><a class=\"ProveItLink\" href=\"__pv_it/f6dff2ab289d8438fdc8d50f0693e9a4583429720/expr.ipynb\"><img src=\"data:image/png;base64,iVBORw0KGgoAAAANSUhEUgAAADAAAAARBAMAAABp3DInAAAAMFBMVEX///+6urpERETc3NzMzMwi\n",
       "IiIyMjJmZmaIiIiYmJh2dnZUVFTu7u4QEBCqqqoAAAA8/FlzAAAAAXRSTlMAQObYZgAAAJVJREFU\n",
       "GNNjYMAJ+O4g2BwhCPbp1X/g7FMRyDo44RLmkQxYJazzGLBKOCXCRHg6NkusgEswqSCsYpjaEAaX\n",
       "4Ig4AJNYw7D+gDDCKM4omMwBBiUUy/nSDWB6fqA6lzHbAcJg+YIqwcCiJACi3nB8YOgB2oqQYGDe\n",
       "AtL4j+kD8wQG9r3fKlE9xrOjp30mAwXgWCgIIIIdAHX9KyVSNAaOAAAAAElFTkSuQmCC\n",
       "\" style=\"display:inline;vertical-align:middle;\" /></a></span>"
      ],
      "text/plain": [
       "{x in [1,2]} |- 1 <= x"
      ]
     },
     "execution_count": 36,
     "metadata": {},
     "output_type": "execute_result"
    }
   ],
   "source": [
    "# and of course if x is in [1, 2] then 1 ≤ x\n",
    "interval_12.deduceMemberLowerBound(x, assumptions=[InSet(x, interval_12)])"
   ]
  },
  {
   "cell_type": "code",
   "execution_count": 37,
   "metadata": {},
   "outputs": [
    {
     "data": {
      "text/html": [
       "<span style=\"font-size:20px;\"><a class=\"ProveItLink\" href=\"__pv_it/54171d8f5de1906411ec41ac985d5901d438dd6e0/expr.ipynb\"><img src=\"data:image/png;base64,iVBORw0KGgoAAAANSUhEUgAAAGEAAAAVBAMAAACkm51HAAAAMFBMVEX///+IiIi6urrc3NxERETM\n",
       "zMwQEBCqqqpUVFQiIiJ2dnYyMjLu7u5mZmaYmJgAAABN0h6tAAAAAXRSTlMAQObYZgAAAW9JREFU\n",
       "OMtjYGDgu8dAJGC9eABE8ezCKsu4OwBV4PUkBgamVBCL7wNWHVwKSJyzV1wZGBYBGbfBUhNw6ig7\n",
       "AGHzNDCsVwDrWIlXB09XP1QH7wEGtgScOp7MnLkBZsd7qA62CQwcn3HpCJFBchVMB/cfBo6vqDp4\n",
       "BJsVF4JdvIcBiw4g4PwD1rEMxOYAOuIUw0uB2WCOAQ4d+gvAOt6D2GXAcF/DsP6AMojDwoBDxwxI\n",
       "6HJfADp8MpBxgMEFIhG2Gwg2YOrgvQDRwdApwMCgBo7bjxAZExx2yDJA7WgAOd0BlGK+QsMRuw72\n",
       "CwzGCH+AwqqG8QMDOFh5BbDqiGJgEEaEFVAH03eWD8wPwHLTkXXIH2Dg+Q1kM89adWMCSnzwNMrI\n",
       "voMoPOF0AK7jRv7eBwwzgXzu////T8CZSrQ8EakE7AW47xE6EvCmdi4GDB0E8sdBFB3g/MGwC6+O\n",
       "B8g6mJIgLsWazxlno+Va6UmQfA4AM1V6ex0up/MAAAAASUVORK5CYII=\n",
       "\" style=\"display:inline;vertical-align:middle;\" /></a> <a class=\"ProveItLink\" href=\"__pv_it/a9dc83e1f80eda0d2e72fba279efaffc432daf7b0/proof.ipynb\" style=\"text-decoration: none\">&#x22A2;&nbsp;</a><a class=\"ProveItLink\" href=\"__pv_it/1eea5dfa21004fe0df8e8466582a4a5d259ea67a0/expr.ipynb\"><img src=\"data:image/png;base64,iVBORw0KGgoAAAANSUhEUgAAADEAAAAOBAMAAAB0nulXAAAAMFBMVEX///8QEBBmZmaqqqrMzMxE\n",
       "REQyMjIiIiKYmJh2dna6urrc3NxUVFSIiIju7u4AAAA6P00QAAAAAXRSTlMAQObYZgAAALhJREFU\n",
       "GNNjYMAG5nY6YBVnYDPgq0biPmuAMxsZGKYhyfBNvwBjxjAw2D9ANuT6PCjjDwPDegMGhrd3dt2E\n",
       "qm7Xg+j+BJS5wMA3gaOWPQGq2Ow0iOT+ycDgf4GB8wHnP64NMAOXnQPJAPX4T2DgY2ANQFi1LA5h\n",
       "GgMDP9xNUNNALrAHuoDBH+5fqAsYQhkY+h8wMD+4z8D7ANXVEJ+uN4hn2IHmU3YDPhEGhjd332o0\n",
       "oIUO39w7DgwA0hc2rjz1UYUAAAAASUVORK5CYII=\n",
       "\" style=\"display:inline;vertical-align:middle;\" /></a></span>"
      ],
      "text/plain": [
       "{x in [1,2]} |- x > 0"
      ]
     },
     "execution_count": 37,
     "metadata": {},
     "output_type": "execute_result"
    }
   ],
   "source": [
    "# x being real and x ≥ 1 also means x > 0\n",
    "from proveit.number import Greater\n",
    "Greater(x, zero).prove(assumptions=[InSet(x, interval_12)])"
   ]
  },
  {
   "cell_type": "markdown",
   "metadata": {},
   "source": [
    "<font size=3>Then we can pull in a version of the definition of positive real numbers and specialize this for our element $x$ in the interval $[1, 2]$:</font>"
   ]
  },
  {
   "cell_type": "code",
   "execution_count": 38,
   "metadata": {},
   "outputs": [
    {
     "data": {
      "text/html": [
       "<span style=\"font-size:20px;\"> <a class=\"ProveItLink\" href=\"_proofs_/inRealsPos_iff_positive.ipynb\" style=\"text-decoration: none\">&#x22A2;&nbsp;</a><a class=\"ProveItLink\" href=\"__pv_it/eecbe6aa695188f8244c786e7f5c92695beefd950/expr.ipynb\"><img src=\"data:image/png;base64,iVBORw0KGgoAAAANSUhEUgAAAPsAAAAbBAMAAABIGOQXAAAAMFBMVEX///8QEBCIiIhmZma6urrM\n",
       "zMxUVFQiIiJERETc3Nzu7u6qqqp2dnaYmJgyMjIAAAAcRTyBAAAAAXRSTlMAQObYZgAAA/xJREFU\n",
       "SMfNV19oW1UY/5rkJjc3N23fNgVLOp2IMAitg03qrAj1xbEMxE0QeqlVNjdkrluDdg9BRNOOSlCo\n",
       "fRnNKGwQZlPcYAwEL0xfOiaVDSdlk+jWqh3Lythga8vw+86/e9Pc5NK8uA/uLycn55zfOd/5nd+5\n",
       "AXiS4y0FNcPCJ9HI2AHfFpoloXZk8OlphD5k+bVozkuoT2/ONsJ/2a9Bh4L69PCp508nanaK5RAi\n",
       "uK4Sfbvh3Si6LGFtxD/OPv5z1KF/1qu7kfEc1dzyM8B+2vwkwCWqWfSmN5MSqrfFsLTREQiXy23l\n",
       "OwATnm1ynqPehtM5mKKFLQGM06f3NKFpWkJV6FEbMmNq9RGvRldcibjjJK4VzBKYdFiGuLDMaW/6\n",
       "ibwEFb+n0yVJv71Z0QflAqjqbVH+xNXvzGE1cQtiy2C0YnEbTmamUPi2hkB+VSBj74uu1W/XFX2g\n",
       "VdRvod9SXDmHKk75MbGMFgtCKwC3sNiOz8Ns9lgN+h0Sol0dT7McLrqTb/Uo+pDQp5ZxWpGy4JuL\n",
       "7YI2PsALxSSE7gFcxOIurHkfYLgGfVbCa7nmJSqHcy762MCiotce8OrdG9IYbYxIRzMIPQV31WFb\n",
       "YL0nbNCQ/g8s9mKaXgej5KI8/8J7f8nyggDjGbG5ukt6G9K3WYmNGb3PF/whz8FxKceTs7TB0uYW\n",
       "mJaSoK0iDxW7sRUEpGcZP3TOBkyYkRY+ICC4DBFWt7uMIaT3U3LEpWxGbwyKrxGabBMO/moeDjv0\n",
       "/+Sd5PdSsZsMM6JkfaEASD8np3NTQFMGikxO4+6D99Jel0Hx1Y/ZfDIHQdBvBOPBmuSj9GIrnJ5W\n",
       "Hy3RQZl8fh5CpBWit0WHLwQUbfiRG4GbXv/Ouei0R/zzGqWn/HdKJN9YhdgSVEpPz0AchfoG7T3N\n",
       "Z7gf53tUW2Znlug7pc/tE1Ccho+YSwcTLnrN2urkVSg/Tl2Nf0FIz1iBcOlC5cHjtsOkR8qHs3g+\n",
       "g0ntEEyyZsEPjshB2wXoifigyWqGXKYLl8Ipl5Xx6KdJTivL/gyuWXal7eAYJ7Ffl7SUlgQ5a8CC\n",
       "PdlsNhEwv74qG7LZIRh9m8eeYzWnPs+rKyelf7UiWyrXm3IUEsJlndr0Tl93penCmU141mGeux4O\n",
       "hSMWc/pcPsyTH3tX2iyJh4OKN79Ml7xuF7krUXwKHqZbdRuSJaoT3pTr3Qlmiu/9jJRe0JbgF8V8\n",
       "/Sun+jLF+RrqKg/1ff8KALnF+V/syR1Sz60S/OI3z1sxV7sDbVJ8zdtWAPe+ouKAAp84uo7XDRbk\n",
       "85GUz6hTCupH3F7ny1acEnPdb9hYUkL9GG/kTTOa8W1yTkHdeLkR+mD+f/8b8x/8GA0VrBlwlgAA\n",
       "AABJRU5ErkJggg==\n",
       "\" style=\"display:inline;vertical-align:middle;\" /></a></span>"
      ],
      "text/plain": [
       "|- forall_{a in Reals} ((a in RealsPos) <=> (a > 0))"
      ]
     },
     "execution_count": 38,
     "metadata": {},
     "output_type": "execute_result"
    }
   ],
   "source": [
    "# pull in a definition of positive reals\n",
    "from proveit.number.sets.real._theorems_ import inRealsPos_iff_positive\n",
    "inRealsPos_iff_positive"
   ]
  },
  {
   "cell_type": "code",
   "execution_count": 39,
   "metadata": {},
   "outputs": [
    {
     "data": {
      "text/html": [
       "<strong id=\"xRealPos_iff_xPos\">xRealPos_iff_xPos:</strong> <span style=\"font-size:20px;\"><a class=\"ProveItLink\" href=\"__pv_it/54171d8f5de1906411ec41ac985d5901d438dd6e0/expr.ipynb\"><img src=\"data:image/png;base64,iVBORw0KGgoAAAANSUhEUgAAAGEAAAAVBAMAAACkm51HAAAAMFBMVEX///+IiIi6urrc3NxERETM\n",
       "zMwQEBCqqqpUVFQiIiJ2dnYyMjLu7u5mZmaYmJgAAABN0h6tAAAAAXRSTlMAQObYZgAAAW9JREFU\n",
       "OMtjYGDgu8dAJGC9eABE8ezCKsu4OwBV4PUkBgamVBCL7wNWHVwKSJyzV1wZGBYBGbfBUhNw6ig7\n",
       "AGHzNDCsVwDrWIlXB09XP1QH7wEGtgScOp7MnLkBZsd7qA62CQwcn3HpCJFBchVMB/cfBo6vqDp4\n",
       "BJsVF4JdvIcBiw4g4PwD1rEMxOYAOuIUw0uB2WCOAQ4d+gvAOt6D2GXAcF/DsP6AMojDwoBDxwxI\n",
       "6HJfADp8MpBxgMEFIhG2Gwg2YOrgvQDRwdApwMCgBo7bjxAZExx2yDJA7WgAOd0BlGK+QsMRuw72\n",
       "CwzGCH+AwqqG8QMDOFh5BbDqiGJgEEaEFVAH03eWD8wPwHLTkXXIH2Dg+Q1kM89adWMCSnzwNMrI\n",
       "voMoPOF0AK7jRv7eBwwzgXzu////T8CZSrQ8EakE7AW47xE6EvCmdi4GDB0E8sdBFB3g/MGwC6+O\n",
       "B8g6mJIgLsWazxlno+Va6UmQfA4AM1V6ex0up/MAAAAASUVORK5CYII=\n",
       "\" style=\"display:inline;vertical-align:middle;\" /></a> <a class=\"ProveItLink\" href=\"__pv_it/328a2f1acbcfa94d405dd81dcb8b3d4e597e77440/proof.ipynb\" style=\"text-decoration: none\">&#x22A2;&nbsp;</a><a class=\"ProveItLink\" href=\"__pv_it/6c7d06fd4844dc88c85b852ab047814ee183c4cc0/expr.ipynb\"><img src=\"data:image/png;base64,iVBORw0KGgoAAAANSUhEUgAAALIAAAAbBAMAAAAqt8h9AAAAMFBMVEX///8iIiJERESYmJiqqqoQ\n",
       "EBB2dnbc3NyIiIhmZmbu7u4yMjJUVFS6urrMzMwAAADZVrDbAAAAAXRSTlMAQObYZgAAAsxJREFU\n",
       "SMfNVk1oU0EQ/pKX5ufZF42otAZKrAdFxKaKoOghvQpCKHgSIXiyHjQq9iYJiJKWggFFxF62gqWQ\n",
       "QoM/iCbWUMQIgrQnfxBbclbsIWgJKM6+fT+b+EzSgOAedt/O7H47M9/MJMA/HF+barv5lO4IOFhq\n",
       "qnbz6VNHyBtYa2RvtBPkO2iNjO1OKt/f3/MkSV1z0gwODxSGozbymNOhe86o3qvngDKtWUd1fhaV\n",
       "/QxvCo8LBXoh5XTmiTPyI0wlkQO6Yo7qyCjcvpJls8vhlCLZpD60xXF48/CmkaojUNkRCpvIgWTe\n",
       "Qg5ETF/sZHIlpYvTPRYxJXhqUOM4WJeBu5ltcyAZsZD9cSH289jvE98X6jzwbzOubixBqwLPMcl9\n",
       "yZTfn+HSHJOi0a3Z0dAMnivSKc7qzMSV60YZKb1CPJeFtgaMoJ+7gsG0HoSyHOehSWYhB3+J5USI\n",
       "xtZn+mYnmZRQelx5M9OKenhSCQQJ+QiKtDmL8+ydjmcjXw6FddZ8InV/6suEMKuia7ZQYjFvTbPC\n",
       "rRW5OpVF8DswhF7aMN1yMulkgYZh8we3xK2qI0+ZjWAzn06RGG7bGGgPmB2Nb3iqC9eEZZLNo4HP\n",
       "0iVhs++V2M0mDGTiy25WRjSIQU+VI++Vwoi4HOc9h6Sk+SFYCnOnCn0wokEAK1bCGgySFwrxvYQF\n",
       "2hzzr2K8vocQ8pfAiu2okRuH9dxImgx62A34WX3WiUohBq/Rtap7VXQXu9Sour2xt3JhiW69SNMt\n",
       "8T0CLMcGcKmhUsiX+2TSbSwzqK/Hxw4IohY+Wh1pHv0vrIfMGlTzNhtLFPDMzM1oQ3VjOsMtmkfX\n",
       "olxJ2mmjuhubuEkUBUJlDtXdONRNCCTaaeJzrHlH+rOVphGMt4N81Em4q8kF6qJ42Q5y3zo6v/Vq\n",
       "rg1gJbHOXyuFc+DJtka+2Nn/jeOtj9zF/zR+A76hrPCz5T+tAAAAAElFTkSuQmCC\n",
       "\" style=\"display:inline;vertical-align:middle;\" /></a></span><br>"
      ],
      "text/plain": [
       "xRealPos_iff_xPos: {x in [1,2]} |- (x in RealsPos) <=> (x > 0)"
      ]
     },
     "execution_count": 39,
     "metadata": {},
     "output_type": "execute_result"
    }
   ],
   "source": [
    "# specialize for our element x in [1, 2]\n",
    "xRealPos_iff_xPos = inRealsPos_iff_positive.specialize(\n",
    "    {a:x}, assumptions=[InSet(x, interval_12)])"
   ]
  },
  {
   "cell_type": "markdown",
   "metadata": {},
   "source": [
    "<font size=3>Since we have already established that $x > 0$ when $x\\in [1,2]$, we can derive the left-hand side of that logical equivalence under our assumption for $x$:</font>"
   ]
  },
  {
   "cell_type": "code",
   "execution_count": 40,
   "metadata": {},
   "outputs": [
    {
     "data": {
      "text/html": [
       "<strong id=\"xInInterval_then_xPos\">xInInterval_then_xPos:</strong> <span style=\"font-size:20px;\"><a class=\"ProveItLink\" href=\"__pv_it/54171d8f5de1906411ec41ac985d5901d438dd6e0/expr.ipynb\"><img src=\"data:image/png;base64,iVBORw0KGgoAAAANSUhEUgAAAGEAAAAVBAMAAACkm51HAAAAMFBMVEX///+IiIi6urrc3NxERETM\n",
       "zMwQEBCqqqpUVFQiIiJ2dnYyMjLu7u5mZmaYmJgAAABN0h6tAAAAAXRSTlMAQObYZgAAAW9JREFU\n",
       "OMtjYGDgu8dAJGC9eABE8ezCKsu4OwBV4PUkBgamVBCL7wNWHVwKSJyzV1wZGBYBGbfBUhNw6ig7\n",
       "AGHzNDCsVwDrWIlXB09XP1QH7wEGtgScOp7MnLkBZsd7qA62CQwcn3HpCJFBchVMB/cfBo6vqDp4\n",
       "BJsVF4JdvIcBiw4g4PwD1rEMxOYAOuIUw0uB2WCOAQ4d+gvAOt6D2GXAcF/DsP6AMojDwoBDxwxI\n",
       "6HJfADp8MpBxgMEFIhG2Gwg2YOrgvQDRwdApwMCgBo7bjxAZExx2yDJA7WgAOd0BlGK+QsMRuw72\n",
       "CwzGCH+AwqqG8QMDOFh5BbDqiGJgEEaEFVAH03eWD8wPwHLTkXXIH2Dg+Q1kM89adWMCSnzwNMrI\n",
       "voMoPOF0AK7jRv7eBwwzgXzu////T8CZSrQ8EakE7AW47xE6EvCmdi4GDB0E8sdBFB3g/MGwC6+O\n",
       "B8g6mJIgLsWazxlno+Va6UmQfA4AM1V6ex0up/MAAAAASUVORK5CYII=\n",
       "\" style=\"display:inline;vertical-align:middle;\" /></a> <a class=\"ProveItLink\" href=\"__pv_it/2bcc67ec1192e8a9f12eaa34761189dfc6f5a9a90/proof.ipynb\" style=\"text-decoration: none\">&#x22A2;&nbsp;</a><a class=\"ProveItLink\" href=\"__pv_it/d96d3c0a2953ae9671839391b18b66c9822e634f0/expr.ipynb\"><img src=\"data:image/png;base64,iVBORw0KGgoAAAANSUhEUgAAAEAAAAAUBAMAAADPWCYMAAAAMFBMVEX///8QEBBmZmaqqqrMzMxE\n",
       "REQyMjIiIiKYmJh2dna6urrc3NxUVFSIiIju7u4AAAA6P00QAAAAAXRSTlMAQObYZgAAANhJREFU\n",
       "KM9jYKAIHCCkIIBGCjgKQ78lRuAzgY3vAEtEHANPWppYWgY2BazcExgC9mAxobW8PAGmQJsNU4Hr\n",
       "PSQTtFnhCt7e2XXzApDmy0O24sAamAK+CRy17CCTeTYgKWAuyoMp4HzA+Y8LJMeK5Ejx8mQwCyTO\n",
       "x8AKcYpjGhBAHTlLIQ7JcfwXwNRWZG9quSIp8HcAU4zIClhfXIDxmB/cZ+B9AGQwXUBSwHJABcZb\n",
       "bxDPsAPMKkYKaobJPA5Q3pu7bzUaIKyoB/DIcmAN+4wZByvDIUGNAgAV7jueYKkKYgAAAABJRU5E\n",
       "rkJggg==\n",
       "\" style=\"display:inline;vertical-align:middle;\" /></a></span><br>"
      ],
      "text/plain": [
       "xInInterval_then_xPos: {x in [1,2]} |- x in RealsPos"
      ]
     },
     "execution_count": 40,
     "metadata": {},
     "output_type": "execute_result"
    }
   ],
   "source": [
    "# since we already know x > 0, we can derive the LHS of the logical equiv\n",
    "xInInterval_then_xPos = xRealPos_iff_xPos.deriveLeft(\n",
    "    assumptions=[InSet(x, interval_12)])"
   ]
  },
  {
   "cell_type": "markdown",
   "metadata": {},
   "source": [
    "<font size=3>If we jump the gun a bit here and ask Prove-It to now complete the proof, we still get an error message:</font>"
   ]
  },
  {
   "cell_type": "code",
   "execution_count": 41,
   "metadata": {},
   "outputs": [
    {
     "name": "stdout",
     "output_type": "stream",
     "text": [
      "Proof failure. Unable to prove [1,2] subseteq RealsPos:\n",
      "Antecedent of [forall_{_a in [1,2]} (_a in RealsPos)] => ([1,2] subseteq RealsPos) is not proven\n"
     ]
    }
   ],
   "source": [
    "from proveit.logic import SubsetEq\n",
    "try:\n",
    "    SubsetEq(IntervalCC(one, two), RealsPos).prove()\n",
    "except ProofFailure as e:\n",
    "    print(\"Proof failure. {}\".format(e))"
   ]
  },
  {
   "cell_type": "markdown",
   "metadata": {},
   "source": [
    "<font size=3>But the error message is instructive:  apparently Prove-It is trying to apply modus ponens to a known implication, and we just need to modify our earlier result to make it more obviously applicable. So we generalize the previous known truth that $\\{x\\in [1, 2]\\}\\vdash x \\in \\mathbb{R}^{+}$ as follows:</font>"
   ]
  },
  {
   "cell_type": "code",
   "execution_count": 42,
   "metadata": {},
   "outputs": [
    {
     "data": {
      "text/html": [
       "<span style=\"font-size:20px;\"> <a class=\"ProveItLink\" href=\"__pv_it/2aeb44c833a0256456dc4593f15abe1efba8eac90/proof.ipynb\" style=\"text-decoration: none\">&#x22A2;&nbsp;</a><a class=\"ProveItLink\" href=\"__pv_it/9d16163daaecb05d4619b7bbd568e97304a2433c0/expr.ipynb\"><img src=\"data:image/png;base64,iVBORw0KGgoAAAANSUhEUgAAAJ0AAAAbBAMAAACU4ZAgAAAAMFBMVEX///8QEBCIiIhmZma6urrM\n",
       "zMxUVFQiIiJERETc3Nzu7u6qqqp2dnaYmJgyMjIAAAAcRTyBAAAAAXRSTlMAQObYZgAAAo5JREFU\n",
       "SMfFlT9o1FAcx3+e+X/J2UFwEMrp0EkwqMUWFA5ECyI0RdBuDaKgi/hnqKDUQwfTk2pAURfpo0KH\n",
       "AzXQQUSHo3WQFuEEBweV6NjicYODPaH195JLXnLkmhQEfxDy8l7yye/f9z2A/2R8acNlE6/cZnin\n",
       "Nl4u48WZm+Atp/PgQ3bc1mIGnkgAXDr4msqbJgmT2mVr7fsU4+V0gKUMwaAtJM4WFJOfqoDQaPQ2\n",
       "fgLITYAnOC2XU3k7E2cluQblR6F/cB1/gYGoThpObsUDvTM+EfAGC4w3gEuL1erjVPe0nlgv3iLM\n",
       "v0GJ8Xbh9duybkRfvmaz8Tc9KC8t20zfwz1emV+QSLzmMcYbxoVzAJMdnT7ql+A2gSCxEg6UmnZF\n",
       "9NrhQiR/+avLjDdmABwBxY3zTh6kd9UW3JBXwL+oRG1xNvvY4+0YX/FGflDTKEoRcvX2svJ2f536\n",
       "N+Q1p82vhl+KGLjieUnT19tA83nv9ErEl5fIU+ti8Pj5dRUYryT/Yv55idzmi0SO+Fc7MBrteuTJ\n",
       "LpX6fH+fwent/A35q/kWy58ZpIdaT4QnPY8ocYyGPXkWlUIuiqUCxHliMeQJOMiTvfgefdoX4fFm\n",
       "P+PR+sLcJUwJoFyedfAWWOZz6NKwcx+e+j9ymN5gSTBC3keWlVWA05ZlFRlP0xmPQ33M7p457FdO\n",
       "OX883A8M6d6fkDfgzVIn+SYPQty/E3CUdcb2mFy4977eOu1HWBjVVUE12rxXuE0QfuVNhfEOZdkk\n",
       "lVDls5/mFwHu+rwHN8/AiLNlfb3JeCNZeFrHhp9r54+aAzElCE4Gnmh0OamwOew4L67JLvYFuvI0\n",
       "iPNgLh2XvC1PJO1X6HAp/cwi//7Y/wtiQqd3BKUpTwAAAABJRU5ErkJggg==\n",
       "\" style=\"display:inline;vertical-align:middle;\" /></a></span>"
      ],
      "text/plain": [
       "|- forall_{x in [1,2]} (x in RealsPos)"
      ]
     },
     "execution_count": 42,
     "metadata": {},
     "output_type": "execute_result"
    }
   ],
   "source": [
    "# generalize\n",
    "xInInterval_then_xPos.generalize(x, conditions=[InSet(x, interval_12)])"
   ]
  },
  {
   "cell_type": "markdown",
   "metadata": {},
   "source": [
    "<font size=3>And now Prove-It has the pieces it needs to establish the desired known truth:</font>"
   ]
  },
  {
   "cell_type": "code",
   "execution_count": 43,
   "metadata": {},
   "outputs": [
    {
     "data": {
      "text/html": [
       "<span style=\"font-size:20px;\"> <a class=\"ProveItLink\" href=\"__pv_it/831c99d206db28fd3d16bcab1e08e8aadae64f080/proof.ipynb\" style=\"text-decoration: none\">&#x22A2;&nbsp;</a><a class=\"ProveItLink\" href=\"__pv_it/1a67083e4607d62c61d30355bafdb34d0a565f060/expr.ipynb\"><img src=\"data:image/png;base64,iVBORw0KGgoAAAANSUhEUgAAAF4AAAAYBAMAAACB/VcsAAAAMFBMVEX////c3NxERERmZmaYmJhU\n",
       "VFTu7u4QEBCqqqoiIiK6urp2dnbMzMwyMjKIiIgAAAB1lk67AAAAAXRSTlMAQObYZgAAAUJJREFU\n",
       "OMtjYKAhCCBRvQIZ6t/eQRVjubkAr/pdSHw2Y6UDDNxo6lmmK/29roKsnqMMKpXKwP0Lrt515syZ\n",
       "c0AMXrYAHhU1Bta7d2vvXgGqT936DarejIGhHKZediPMAibGDQwKokjms8DUVzIwxAtA1V9kQFZv\n",
       "yItN/f0EhvgDEPXMDajqmbCpB4L5CRD1nAwo6gOWYlfP9RvqflEU9RyTr2FXzxkAVZ+ErL5y5g0w\n",
       "SwBDvTEDAxb37DJQg/NQ1PMZwNRzP0B2j9Uh7OqbGRhh4XkDWT1TygNs6nk2MPDB1KdGJSDU8wTY\n",
       "IKnnA6rPvwBkS+7eHAlPD6c1EemBYQfrAbh65vC/Jgyc00Dx9f//T6zp7QCT7g+E+WDQBpPnXoA3\n",
       "D8DUbyBNPdsDVPXcM2fC0jNW9SwMRJr/Ei0/8t3Eqx4A1NhtdU6M+AgAAAAASUVORK5CYII=\n",
       "\" style=\"display:inline;vertical-align:middle;\" /></a></span>"
      ],
      "text/plain": [
       "|- [1,2] subseteq RealsPos"
      ]
     },
     "execution_count": 43,
     "metadata": {},
     "output_type": "execute_result"
    }
   ],
   "source": [
    "# The previous generalization result allows the specialization of\n",
    "# a conditional theorem definition of improper subset\n",
    "SubsetEq(interval_12, RealsPos).prove()"
   ]
  },
  {
   "cell_type": "markdown",
   "metadata": {},
   "source": [
    "<font size=3>It turns out it takes quite a bit more work to take the further step and conclude that $[1, 2] \\subset \\mathbb{R}^{+}$ (<i>i.e.</i>, using a strict subset instead of an improper subset). Such proper subset relationships have been formulated as theorems, as demonstrated below in the next example.</font>"
   ]
  },
  {
   "cell_type": "markdown",
   "metadata": {},
   "source": [
    "<a id='demo03'></a><font size=4><b>3.</b> Proving $[1,4]\\subset \\mathbb{R}^{+}$</font><br><br>\n",
    "<font size=3>The set of real numbers in the closed interval $[1, 4]$ is clearly a subset of the positive real numbers $\\mathbb{R}^{+}$. We prove this subset relationship by specialization of a general theorem:</font>"
   ]
  },
  {
   "cell_type": "code",
   "execution_count": 44,
   "metadata": {},
   "outputs": [
    {
     "data": {
      "text/html": [
       "<span style=\"font-size:20px;\"> <a class=\"ProveItLink\" href=\"_proofs_/realsPos_intervalCC_is_subset_of_RealsPos.ipynb\" style=\"text-decoration: none\">&#x22A2;&nbsp;</a><a class=\"ProveItLink\" href=\"__pv_it/e9d9abfaf6b3a9e51776e601f61af05a06e76a240/expr.ipynb\"><img src=\"data:image/png;base64,iVBORw0KGgoAAAANSUhEUgAAAOEAAAAbBAMAAAB4lPU2AAAAMFBMVEX///8QEBCIiIhmZma6urrM\n",
       "zMxUVFQiIiJERETc3Nzu7u6qqqp2dnaYmJgyMjIAAAAcRTyBAAAAAXRSTlMAQObYZgAAA3hJREFU\n",
       "SMfV1l9IE3EcAPCvu81tt5v2EAhJcWZ/fKgYXplSyiLordxDWA/ChtkfisJSW5nEMLBTMUYPFj3U\n",
       "lRBi2kZ/iCLwQHtwVizoQaRkGfWgNSR6qFnR7+53u9/dOaebD9EPbvvd7+5+n999f3/uB/A/pf0Z\n",
       "3e1Dh2l5oMWX0e0BdJh9yxLzhIxFeLUssRRFKe7Rl002pRetqJUxKfM+C9CeAGDcmoK+AvQzor/J\n",
       "eZr/86GbiCYXwJiUmc5CZFwGET7OFyGP9lm6OyE3Hl8T/4qaOQtwXWpuIAsxJ2wU51KINrsIgR71\n",
       "HeEC7n8mnIV4SzCI5gQRx/1+f3NSrMgjYjmKdKS//1o2A+cNGESmQRVvjmrfscJGxCJ0/OD51hS9\n",
       "lJoRSbYKi/adpauULqsrDivieV1UfXuIWI0icxigY37VVGrRRbI8FncF82ZxQWia/olFKqwVHY3T\n",
       "RPSi6bQb6NiC4r7YguJnWaRXA6WMuyEBvmHRqh05Bf4ZORfEve+WLpuimjqflByaIiKjEI4z7VWs\n",
       "XmyURSoBVjYZZvoXFnu04oirU1N9CIlMVG0S/ZyLmhiIsAy3ndsh940Un3vDlcCKzB0Y5hq5sHb2\n",
       "Me6cAIQ8yQLzHBb7dLNj60HtCEeiPVaTPB1/2g9InIiq75iPYuHsuiEg0Tmof8d2WQyJMKQU/Ab0\n",
       "wvOjKtoGWXLulYLbUY9+ejd8ArNUnySKquhdexx1NEpIHNCLx7AYhlMO3EXf4XYUiwyrFS2+beQp\n",
       "aazCQzSP6GZLAuSJikTOpYobhWK88rIixenFIlm0sc6zDISke07CpeR8nNGucjCW69HNYshHLaJc\n",
       "lgbolUXqSBMZOW0wScsKW3bUrRer5TWHrlvfsw6sLVKYNkWT4t16gazkHtuVOfWpcrlUkBZJkw8O\n",
       "8DzPmpirb6XPLb5hJZRZzvF8G7CjmyVR83HKcWvWnGfJUmWVq72srHLGNKUO2qBtQsjFUXXUkk9t\n",
       "Agrl7QKK6uOIYcaKGlE0iAslOqE2OOjdC4wH92NEed7eCS3OALzAIjNg2HSsICLNLlF0qtsOc92D\n",
       "SoAuaQV4LfZWKXUWQs1LNNzQFHS0fqE5w/pzgohOWKJoNewZTKgftecO/FeC+jFFuo8euGioYUtT\n",
       "evHdIh+kp2mvOlyZ71QW+/RH019+lLFICfAP0l/q0ujhJv1LNwAAAABJRU5ErkJggg==\n",
       "\" style=\"display:inline;vertical-align:middle;\" /></a></span>"
      ],
      "text/plain": [
       "|- forall_{a in RealsPos, b in RealsPos} ([a,b] subset RealsPos)"
      ]
     },
     "execution_count": 44,
     "metadata": {},
     "output_type": "execute_result"
    }
   ],
   "source": [
    "from proveit.number.sets.real._theorems_ import realsPos_intervalCC_is_subset_of_RealsPos\n",
    "realsPos_intervalCC_is_subset_of_RealsPos"
   ]
  },
  {
   "cell_type": "markdown",
   "metadata": {},
   "source": [
    "<font size=3>For convenience and clarity, we explicitly define our interval of interest:</font>"
   ]
  },
  {
   "cell_type": "code",
   "execution_count": 45,
   "metadata": {},
   "outputs": [
    {
     "data": {
      "text/html": [
       "<strong id=\"interval_14\">interval_14:</strong> <a class=\"ProveItLink\" href=\"__pv_it/4c8faa49ff0dcf85e65068c4217b8fb54eeab8030/expr.ipynb\"><img src=\"data:image/png;base64,iVBORw0KGgoAAAANSUhEUgAAACUAAAAUBAMAAAD4luk4AAAAMFBMVEX///9ERETc3NxmZmaYmJhU\n",
       "VFTu7u4QEBCqqqoiIiK6urp2dnbMzMwyMjKIiIgAAABr1WidAAAAAXRSTlMAQObYZgAAAIVJREFU\n",
       "GNNjeHuHAQWw3FzAsAtFhMeAgRsi1p4AE+MMgIixRcfDxZ4HwNT5w8SYfDHFuHkxxZwwxdgeYIpx\n",
       "M2CK9WCKsW3AFOMINrYvfoBuLwM7XN37BAa2vxAxAaiYaf1lB4aZILXc8l8duBHhwgH3C0KMmwFT\n",
       "LA+LmAOS2Eu0sOe7uQAAQoY5FOcniaYAAAAASUVORK5CYII=\n",
       "\" style=\"display:inline;vertical-align:middle;\" /></a><br>"
      ],
      "text/plain": [
       "interval_14: [1,4]"
      ]
     },
     "execution_count": 45,
     "metadata": {},
     "output_type": "execute_result"
    }
   ],
   "source": [
    "interval_14 = IntervalCC(one, four)"
   ]
  },
  {
   "cell_type": "markdown",
   "metadata": {},
   "source": [
    "<font size=3>Then specialize the general theorem for this case:</font>"
   ]
  },
  {
   "cell_type": "code",
   "execution_count": 46,
   "metadata": {},
   "outputs": [
    {
     "data": {
      "text/html": [
       "<span style=\"font-size:20px;\"> <a class=\"ProveItLink\" href=\"__pv_it/e0657a669f371ac7c26079ce4e959c9c28f978a10/proof.ipynb\" style=\"text-decoration: none\">&#x22A2;&nbsp;</a><a class=\"ProveItLink\" href=\"__pv_it/34824b008232134ce3ecfb55662d5c5fe658e6510/expr.ipynb\"><img src=\"data:image/png;base64,iVBORw0KGgoAAAANSUhEUgAAAF4AAAAYBAMAAACB/VcsAAAAMFBMVEX///9ERETc3NxmZmaYmJhU\n",
       "VFTu7u4QEBCqqqoiIiK6urp2dnbMzMwyMjKIiIgAAABr1WidAAAAAXRSTlMAQObYZgAAAStJREFU\n",
       "OMtjYKAhCCBRvQAZ6t/eQRVjubkAr/pdKCI8BgzcaOpZpgv+vS6CrJ6jDC7JGYChnoGXLYBHRIyB\n",
       "9e7d2rtXgOpTt36Dyz3Hop6RaQODgCqS+Sxw9Uy+CPWOM2fOnANTb8SLVT03L1y97iZk840Ysap3\n",
       "QqifhOKegKXY1LM9gKtnbkBWzzH5Gjb13Axw9ZzI/q2ceQPMUkBT34NQr4qsfpeBGJyHpJ5tA0J9\n",
       "Ikp4Wh3Epp4j2Ni++AEW92xgTHmART0QsMPM536ArJ4nwAZJPR9Qff4FiHoBWHjeQE4PDDtYD8DV\n",
       "M4f/NWHgnAY2Vf6rA1R9alQCIr0dYJT9gTAfDNrgcQxND6cloekBFcDUb0BXjwPsgkUtaepZGIhU\n",
       "/xItP/LdxKseAF1RY0ZcCfJsAAAAAElFTkSuQmCC\n",
       "\" style=\"display:inline;vertical-align:middle;\" /></a></span>"
      ],
      "text/plain": [
       "|- [1,4] subset RealsPos"
      ]
     },
     "execution_count": 46,
     "metadata": {},
     "output_type": "execute_result"
    }
   ],
   "source": [
    "realsPos_intervalCC_is_subset_of_RealsPos.specialize(\n",
    "    {a:one, b:four})"
   ]
  },
  {
   "cell_type": "markdown",
   "metadata": {},
   "source": [
    "<font size=3>As a bit of an encore, we could then easily derive that $[1,4]\\subseteq\\mathbb{R}^{+}$ using a relaxation theorem from the set theory context:</font>"
   ]
  },
  {
   "cell_type": "code",
   "execution_count": 47,
   "metadata": {},
   "outputs": [
    {
     "data": {
      "text/html": [
       "<span style=\"font-size:20px;\"> <a class=\"ProveItLink\" href=\"../../../logic/set_theory/containment/_proofs_/relaxSubset.ipynb\" style=\"text-decoration: none\">&#x22A2;&nbsp;</a><a class=\"ProveItLink\" href=\"../../../logic/set_theory/containment/__pv_it/67d69fc4067f328a5c2eb0f4e944b9678d50896a0/expr.ipynb\"><img src=\"data:image/png;base64,iVBORw0KGgoAAAANSUhEUgAAALkAAAAWBAMAAABuySBUAAAAMFBMVEX///8QEBCIiIhmZma6urrM\n",
       "zMxUVFQiIiJERETc3Nzu7u6qqqp2dnaYmJgyMjIAAAAcRTyBAAAAAXRSTlMAQObYZgAAAs1JREFU\n",
       "SMetVU1oE0EU/tyfNLtJak8iKBLwoBdtIBBRika8SFFaPPQkGLBCD4rRokFRjCB2W4XEixZEuyK0\n",
       "koMGetGTtSJqFYkVBBE14Ml6aGlsTSO1vpnZTSdtrbg6sPvemzfzvd+ZATyPG3/QP6CvyJgPHsDN\n",
       "NCd6cZHm7dzBmBWHLwu8YPKYB/T6rCATLmYqlToh2NWAOgWT7PaSZKQ9oL8R5GNF0JvPqxp9FtBK\n",
       "wDDZtoFg3gP6KZGfwRkhfpnXKDQVmgRuERnJ5a55ADeSnISUb5yqkoP+BkI+TY7HgbJlnfGArkQ4\n",
       "aQ7MclonqVYmoJ9kKaElh4BuPin+u0uPO3i9tKorWZfTMk2xbne2wBMT1ye5eFVCP3BktIuFEqKy\n",
       "7uLFJV6EGGpAsIFvdxd/ilf3vQYeOWxdXrhglLh4R0JvzMJcRTSQZDEp3I3bIkQ1gUBFRjd3kFpf\n",
       "H40SHwMe2mJ6BbfZFo2VF2XmPLNAxnVq1mBBaEY6xbIw1KKMHhyIwDzcnMsRfxzYDhmdfuvEqvA8\n",
       "+jRDDwt0o9jGmzRscdW9Vmy2ZfR9/jR8rSKMKShjcmYC9B0T8teadsdRsquxtupuZ3M+bOG6lk0b\n",
       "E5DRE2oSe5yqTo5ehFzV6/SNC7m/3ZbaXS87VcUg79z3aOS6V8AGGT2UVybwxElSEUrSTVjE6fmM\n",
       "01L7u5yboJ6aYmcPK+EQa0+WMvPzyww3fhnoy0vod5ueVbDV8XcIxg+3O5MwMz9t3J/rrD0IvvHp\n",
       "aMclboblM8RQVRt9PLm0uyUroW+DMUWBiWOShzZTexMsNwaq3F7aWzB6YFRgrJUyo1F6Z91u7rNx\n",
       "ZWjBLbbMGK7WqAwjc1Zfg6elaEdcQs+k0fu9oPETGjwXjV3A4iPMdanU/A3sHJSFN39A4v2yot+y\n",
       "rKVfj9+PWvPOY7UkupeX793CicLfoP/TUP8Dxi9bSbT1CXT83gAAAABJRU5ErkJggg==\n",
       "\" style=\"display:inline;vertical-align:middle;\" /></a></span>"
      ],
      "text/plain": [
       "|- forall_{A, B | A subset B} (A subseteq B)"
      ]
     },
     "execution_count": 47,
     "metadata": {},
     "output_type": "execute_result"
    }
   ],
   "source": [
    "from proveit._common_ import A, B\n",
    "from proveit.logic.set_theory.containment._theorems_ import relaxSubset\n",
    "relaxSubset"
   ]
  },
  {
   "cell_type": "code",
   "execution_count": 48,
   "metadata": {},
   "outputs": [
    {
     "data": {
      "text/html": [
       "<span style=\"font-size:20px;\"> <a class=\"ProveItLink\" href=\"__pv_it/146860a5fb106dbc3a123b77b4ea2da48ba62d870/proof.ipynb\" style=\"text-decoration: none\">&#x22A2;&nbsp;</a><a class=\"ProveItLink\" href=\"__pv_it/6793f925fffe42d1e3c596a55536b2a656ff02ad0/expr.ipynb\"><img src=\"data:image/png;base64,iVBORw0KGgoAAAANSUhEUgAAAF4AAAAYBAMAAACB/VcsAAAAMFBMVEX///9ERETc3NxmZmaYmJhU\n",
       "VFTu7u4QEBCqqqoiIiK6urp2dnbMzMwyMjKIiIgAAABr1WidAAAAAXRSTlMAQObYZgAAAS9JREFU\n",
       "OMtjYKAhCCBRvQAZ6t/eQRVjubkAr/pdKCI8BgzcaOpZpgv+vS6CrJ6jDC7JGQBX7zpz5sw5IAYv\n",
       "WwCPiBgD6927tXevANWnbv0GV/8crl53E0yMkWkDg4AqkvkscPVMvnD1lxiQ1RvxYlXPzQtTz9yA\n",
       "qp4Rq3onuHpOBhT1AUuxqWd7AFeviqKeY/I1bOq5GeDqE5HVV868AWYpoKnvYcDunl0GYnAeknq2\n",
       "DQj13A+Q3WN1EJt6jmBj++IH0PC8gayeMeUBFvVAwA4P/9SoBIR6ngAbJPV8QPX5FyDqBeDp4bQk\n",
       "Ij0w7GA9AFfPHP7XhIFzGtjV8l8dsKW3A4yyPxDmg0EbPI4X4M0DMPUbSFPP9gBVPffMmbD0jFU9\n",
       "CwOR5r9Ey498N/GqBwDXxGcuh4aTNQAAAABJRU5ErkJggg==\n",
       "\" style=\"display:inline;vertical-align:middle;\" /></a></span>"
      ],
      "text/plain": [
       "|- [1,4] subseteq RealsPos"
      ]
     },
     "execution_count": 48,
     "metadata": {},
     "output_type": "execute_result"
    }
   ],
   "source": [
    "relaxSubset.specialize({A:interval_14, B:RealsPos})"
   ]
  },
  {
   "cell_type": "markdown",
   "metadata": {},
   "source": [
    "<font size=3>Of course, in so doing we've ended up with a result similar to that in the Demonstration \\#2 above, but we've let that subset theorem we loaded at the beginning of this demonstration do all of the heavy lifting. At some point, that general theorem itself requires its own proof to be established.</font>"
   ]
  },
  {
   "cell_type": "markdown",
   "metadata": {},
   "source": [
    "## Misc Testing <a id='further_demonstrations'></a>"
   ]
  },
  {
   "cell_type": "markdown",
   "metadata": {},
   "source": [
    "<font size=3>The material below was developed to test the various methods related to the real number NumberSet classes and the Interval classes. Some or all of this material could eventually be integrated into the `demonstrations` page and/or deleted as development continues.</font>"
   ]
  },
  {
   "cell_type": "markdown",
   "metadata": {},
   "source": [
    "### Testing the `NumberSet.deduceMemberLowerBound()` and `NumberSet.deduceMemberUpperBound()` methods"
   ]
  },
  {
   "cell_type": "code",
   "execution_count": 49,
   "metadata": {},
   "outputs": [
    {
     "data": {
      "text/html": [
       "<strong id=\"one_in_RealsPos_implies_one_greater_zero\">one_in_RealsPos_implies_one_greater_zero:</strong> <span style=\"font-size:20px;\"> <a class=\"ProveItLink\" href=\"__pv_it/68712fa43c35ce2d858e5104743a28bfd492f2da0/proof.ipynb\" style=\"text-decoration: none\">&#x22A2;&nbsp;</a><a class=\"ProveItLink\" href=\"__pv_it/b34b53c799acd774bed6849ca11993eeb1cb2ab70/expr.ipynb\"><img src=\"data:image/png;base64,iVBORw0KGgoAAAANSUhEUgAAAK4AAAAbBAMAAAAXJakbAAAAMFBMVEX///8iIiJERESYmJiqqqoQ\n",
       "EBB2dnbc3NyIiIhmZmbu7u4yMjJUVFS6urrMzMwAAADZVrDbAAAAAXRSTlMAQObYZgAAAm1JREFU\n",
       "SMfNlk1o1EAUx/9NthsTm+iCFy1IrIdKEWwFQVBwe/AkQuhViqu3epAo2Ou2iKAnc5LSeoiCXiJ0\n",
       "DxUp0boUaUFB7dEPVHpWvBQ/FhQnHzvzNp1t1gXBd8gw+5/3m8l7814W+Gf2ZSuxL3pMdYO16lup\n",
       "SvR43w13u5/LLQ53wZ1BLhd7ZJLWdreCy9SGRBgZOxSODQvuDZn3XSmzePUisMpGj01OZmNRe4D1\n",
       "wz5ehA/DkPGrMsIjmSMWcMdFAPSWYay8ysr2JBStzs/bU96MVT3hGPCQqA6KNRSnUI2UEylX3Vfq\n",
       "b3J1t8a5ui14g+nY4wpH41zzKip1FBowHByBkK0Dvjiv7tqcu80R3PV0vEQcgekLybijDnMDeII5\n",
       "Igc+iUOfKeJgNlreX+SSczEyGw/zHswfwAQGiLxK4zs653Ou9TuORim2n8mS/a1cnIq9qxVYjHsM\n",
       "j4ksomhfKfXHudKSq/qL3s6FeNiV4eLd84jrwfoGjGK3kK0zIbP0vG8U4mJQLoLx6Dm+iTsk4vAV\n",
       "i0LWyHkn9Q/kDrScV1txZdwkDixvhY2Ie5DIDo3v0FHSm77H8Q0Tc2VxSPOm2FBZktewTOQZyv2s\n",
       "f+JTeh/MmixvzXuW1AXL27VodtPPlBWr42L5JUgVieimqAniKOqCvcY9dp5b+MiU22cX40I0lt/y\n",
       "vrOEgad8G1pvzd3WIBxFHeP+9WjBEnpfk5SY59M6zvZo8sVwaR23MWMn9EoHPXrel/adtsb6juV0\n",
       "wD0u+3Gw/XrWJ/GsA+7ezvs63zLIx6qVv/sOqVHoC14u93JX/x9O566YxX9jfwB2V6bWtyXupwAA\n",
       "AABJRU5ErkJggg==\n",
       "\" style=\"display:inline;vertical-align:middle;\" /></a></span><br>"
      ],
      "text/plain": [
       "one_in_RealsPos_implies_one_greater_zero: |- (1 in RealsPos) => (1 > 0)"
      ]
     },
     "execution_count": 49,
     "metadata": {},
     "output_type": "execute_result"
    }
   ],
   "source": [
    "one_in_RealsPos_implies_one_greater_zero = RealsPos.deduceMemberLowerBound(one)"
   ]
  },
  {
   "cell_type": "code",
   "execution_count": 50,
   "metadata": {},
   "outputs": [
    {
     "data": {
      "text/html": [
       "<span style=\"font-size:20px;\"> <a class=\"ProveItLink\" href=\"__pv_it/e6d8dc514beae2b83c57cd449de867a78d173c530/proof.ipynb\" style=\"text-decoration: none\">&#x22A2;&nbsp;</a><a class=\"ProveItLink\" href=\"__pv_it/305b7274a43867d8f0c138ada1247b68a72a0e070/expr.ipynb\"><img src=\"data:image/png;base64,iVBORw0KGgoAAAANSUhEUgAAAPAAAAAaBAMAAAB7pMxFAAAAMFBMVEX///8iIiJERESYmJiqqqoQ\n",
       "EBB2dnbc3NyIiIhmZmbu7u4yMjJUVFS6urrMzMwAAADZVrDbAAAAAXRSTlMAQObYZgAAA2dJREFU\n",
       "SMfVVktoU0EUPc23eWliA2opCI3polA/qFCluKkrkSK0C5dCRKmtoKa6cFNIRcTPKu3CWquSKhWk\n",
       "hWbRorZaowguBJtu3Cg0FHQnUSi1RDTOnfdeZt7L9BPIxoE2mZM7596598ydAfAd5Y5qVGIE02Uv\n",
       "CaQr4difLH/N6Uo4vkv/LluxoxusqVIGSyTefRbIFVOuJ9ibZ1+0cBHThiNZ1Njsndsiv6cbpSIn\n",
       "FGyc5JGYPx3cC7wvMfNcu8BhD3H4haMJeP5AS9nroaWDjc0IRNhoZtH+UNWMSJ6JONK4mMF4idkU\n",
       "RmMEu9vYpFXg94ATQLfN2uGNItwn5lsVjonEKVLhS8LdAU+/MGjPkgXDUgTHqVx14tdOYD6GMWN2\n",
       "IBRKmY6H/MJqUIrJzBaRVInUuWtR8wtaRxHYP8TN03DlCW4hRdQKntdJzGfhz/DJ0m1px0MOYXVd\n",
       "Oo6GPjhJr5T5PGr+Aq/M+dVz/GNLGoFlgkdKtdKQ1CsPbUZOdfqLMFlMWlNsktyyip8Jt8eo+Ckj\n",
       "55MJBFYJjhCt5QwEVlgleIKFuJljV/2MsMlRuTAQotGgh81JGi2OF6PAYd3vgOkiHkVwleCXFFmb\n",
       "JU7Wl1w8+Q5JXJ2hKckmnpEm7Xw5J7GKbgf7O8K/fSh6iCcQXCG4nnTAaMZnacyx2TAVjp+XrwQZ\n",
       "4jqfaJYoJ2XH2nTGIMFJNuNEsywlPkpFjlsIx0aqc3hhrrE0B93xJfk4PVhaa8d9ZyE5FoMXPKcr\n",
       "r5hqJi7XMsG77ak+Bm8MAZ5qt+zY8Vg6kjle/RF9c3rTKEm1K4ErwIJNXI4wnHmC39rEFYyiOmaI\n",
       "y9cvOQ6mH6pV/RlqcX0DbpjiEsdJbyAMphPpkY5Tb1fPG+Yyam1QrGXiTE22aNUiVdgQOyfpEbh3\n",
       "e9d9lrc7tgbCOMeyBFPsAbmBFAo/mSPdx8SeZPGSyDp2Las6lxkOJ1mQGkihUGDQnK1l4snNjyCY\n",
       "a6LO3ndHjc9PO0Mp1b32XNoZ1C3TyEet8l5kME9qq/2H7vXvYy2/8SVhFKBfScDgYIfc6E3i1PqO\n",
       "naq3DydpsoHjagKC31kfAtYbZ60XSHYTDwE+mtQETWZMtqfPoQ2ePgexyaePU70DDrsSZT/TvOGK\n",
       "vG+Pl73Cl8T/O/4BR0jdTnFG0sEAAAAASUVORK5CYII=\n",
       "\" style=\"display:inline;vertical-align:middle;\" /></a></span>"
      ],
      "text/plain": [
       "|- ((-2) in RealsNeg) => ((-2) < 0)"
      ]
     },
     "execution_count": 50,
     "metadata": {},
     "output_type": "execute_result"
    }
   ],
   "source": [
    "RealsNeg.deduceMemberUpperBound(Neg(two))"
   ]
  },
  {
   "cell_type": "code",
   "execution_count": 51,
   "metadata": {},
   "outputs": [
    {
     "data": {
      "text/html": [
       "<span style=\"font-size:20px;\"> <a class=\"ProveItLink\" href=\"__pv_it/a2f48ead48e48d2a19482d96c77f4dbf34e8d2920/proof.ipynb\" style=\"text-decoration: none\">&#x22A2;&nbsp;</a><a class=\"ProveItLink\" href=\"__pv_it/1a8c91555c2ac3e11c17a407d28ff13a0102a1ba0/expr.ipynb\"><img src=\"data:image/png;base64,iVBORw0KGgoAAAANSUhEUgAAALgAAAAcBAMAAAAgkGgMAAAAMFBMVEX///8iIiJERESYmJiqqqoQ\n",
       "EBB2dnbc3NyIiIhmZmbu7u4yMjJUVFS6urrMzMwAAADZVrDbAAAAAXRSTlMAQObYZgAAAxJJREFU\n",
       "SMfNVk1IVFEU/uZ/5jnznCGThMJpXAiWIoFCtLFlVDAuWgZDxZSLamwTguBQRFmb0UVmVryKhEjQ\n",
       "QLHU8hVBiyDHTZsERahdWCAZEzndn/dz3/DGXkOLzuK+e8+557vnnr/7AAcUPJPCv6fIW/Zpx5FK\n",
       "Eb5sIet5T8ddqFaCFWHL6lbSnhZA2oSvI6JWAl6lbCkebYa8AVcrTlYCfusP8tEZuQBXFi5bIwKt\n",
       "5fS8GSItkHsPJ1YsAs/2xM+pBj6/0Uos92URzNlBPAAeD7aUcv2XzwEkGfxEZwz+XyW+klS5oYlM\n",
       "pEsd1OfVeQS+2oFPQ1JxPk931plXm8T9DJ6AhAq4DRyz6rgDKcR7icaJvJYtQI0NtieHkAJfkvlh\n",
       "LqNzk/BPwJ9FH1HrBBa4YF8sNqGDD1VBGqTY6Gd5PiicrcO4MvBFEd7gVTGnOdetwluAlEQbWcwr\n",
       "WGD81euC5UNuyHx3ME39fUVI37g26SYeLCC8qbETzBZUq4isAy8wwvn11GHSjOgWdcnqgmUhXfZr\n",
       "335uf0HPnXcd9DOeQ+QH0IUEv9F3OoYzAri3bsYKvsauMRCjVK+lDs+oZaP1BAYoRF8KMgE/gDl+\n",
       "Nqs/txDQztgkiVGCUJPG68sLJx1mJmpB3mkGuI7tzEEm1h4EW2GYjZ9mCWkBPZtrKsmMcRFcmmKr\n",
       "43QIGRUQrFUEt6zhOWNy8QUxFe+uloBbLO89DQO83yjmHdAD6l2n4Hvp6hAC1Fc+Edz9MFvicxaR\n",
       "kVlG0zDc4s3hIm9y23TtODwkxot4TVMohSDVDGUFcFm9Vz5bPsIM6GfgKrvMJCxFRAJKs7c73fVK\n",
       "iA8vf5wKWxtOm+BxPZG6SILUpu9EKa/ZlNfgEdG9yeyZLxa/MeZYs2I0rhX3nnULuFChxrGLxI5i\n",
       "sRgt7aTX6CPzEj4xTPiwm5e/HT0TGi3M8i9LUhQhp2+vVLBvXGWJNC456RDcY/vONZqHP2W1a8aJ\n",
       "tFy8cQjuWinzWJSjRu0AJ9SOv3vmPBleA04oEK/o3+Koo10hBf8X/Qa1ksbWaRXTewAAAABJRU5E\n",
       "rkJggg==\n",
       "\" style=\"display:inline;vertical-align:middle;\" /></a></span>"
      ],
      "text/plain": [
       "|- (2 in RealsNonNeg) => (2 >= 0)"
      ]
     },
     "execution_count": 51,
     "metadata": {},
     "output_type": "execute_result"
    }
   ],
   "source": [
    "RealsNonNeg.deduceMemberLowerBound(two)"
   ]
  },
  {
   "cell_type": "markdown",
   "metadata": {},
   "source": [
    "### Testing the `Interval.deduceMemberLowerBound()` and `Interval.deduceMemberUpperBound()` methods"
   ]
  },
  {
   "cell_type": "code",
   "execution_count": 52,
   "metadata": {},
   "outputs": [
    {
     "data": {
      "text/html": [
       "<span style=\"font-size:20px;\"><a class=\"ProveItLink\" href=\"__pv_it/3d5f1ec0815d372f838e95cf6e09473cbe9ea42f0/expr.ipynb\"><img src=\"data:image/png;base64,iVBORw0KGgoAAAANSUhEUgAAAGUAAAAVBAMAAACtcD09AAAAMFBMVEX///+IiIi6urrc3NxERETM\n",
       "zMwQEBCqqqpUVFQiIiJ2dnYyMjLu7u5mZmaYmJgAAABN0h6tAAAAAXRSTlMAQObYZgAAAcBJREFU\n",
       "OMuNlD1Iw1AQx/+m1qZNGgRnsZMgCApOCoIiDi7awcmpFHVxMCB0LuiiiwUHrSJWKAULouCmCBFE\n",
       "EBFS6FAQS8HdCuIgFuO7l4/2lQh9kMu9y/169+7eFYBWRccrWDLopV77fw7U2gwbJKQVktoHE8/l\n",
       "2XbmvpUv5nXIo6S+kIhkWKw0LmJtzBV7UoatTyL0C/WS1DOXiRroSYiIZkLd2XWYAR3fwKnA9GQg\n",
       "f9quc9kjroQpk7rDDMbwAzwIjNKA/MXrMu14YRwtDCg3KLFWhn63QfLJc+oXmccc8zSZUqCdzI+G\n",
       "kRzJTe888wIzccw0jTzrtE3FufWAyymP2RfjdCVZfpSRwoIt7nFb1OTHWbthixuSIoNVA0HqJLZ7\n",
       "WU3iXvoINOMIzBiwoNuMkqbzkF/IJDuQ8M/NMoiRMu55eN2WgD7alPxrsAycGHYNCi4TOCxWeMnD\n",
       "usuc8/4bUFkz8c77E80JPbUsizPq1rDDDLGnsn5bQ5bFkl7LrJ9KvK2nzpLyrXeH34BmX5t3J+E7\n",
       "PprpKBHP1LyjfH581ozzvnMN9izw+cE/c+rOnDeu3ZStlLQTrnY222/u/8EfzACESwO1U+cAAAAA\n",
       "SUVORK5CYII=\n",
       "\" style=\"display:inline;vertical-align:middle;\" /></a> <a class=\"ProveItLink\" href=\"__pv_it/83a9e35fe08575e640c3855e6866ccfb42f3d6920/proof.ipynb\" style=\"text-decoration: none\">&#x22A2;&nbsp;</a><a class=\"ProveItLink\" href=\"../../numeral/deci/__pv_it/e448213290777cdec65fe1e8f61100e2e14beb980/expr.ipynb\"><img src=\"data:image/png;base64,iVBORw0KGgoAAAANSUhEUgAAADAAAAAPBAMAAABQAFHMAAAAMFBMVEX///+6urpERETc3NwiIiLM\n",
       "zMwyMjJmZmaIiIiYmJh2dnZUVFTu7u4QEBCqqqoAAAD7YXnbAAAAAXRSTlMAQObYZgAAAJVJREFU\n",
       "GNNjYMACjhepAkm+O+jiPBsY1gswnF79B0nsWQCQYD/AwHuBgYETSWJKMYjkdWDg/owi0bIGTLH9\n",
       "YeD+iiTBs6QBroTlD0KCp2QCwkz5BQiJbQ+QHOHNAJfgQZZgL0BIMDAjGdXOwIDVcr4CBmNszmWI\n",
       "YmBoZmDgwPAgs9eqagcG9r3fKtGChO3///8ODLgAAJC0L58BnxxZAAAAAElFTkSuQmCC\n",
       "\" style=\"display:inline;vertical-align:middle;\" /></a></span>"
      ],
      "text/plain": [
       "{2 in (1,3)} |- 1 < 2"
      ]
     },
     "execution_count": 52,
     "metadata": {},
     "output_type": "execute_result"
    }
   ],
   "source": [
    "# Element in an Open Interval (1,3)\n",
    "IntervalOO(one, three).deduceMemberLowerBound(\n",
    "        two, assumptions=[InSet(two, IntervalOO(one, three))])"
   ]
  },
  {
   "cell_type": "code",
   "execution_count": 53,
   "metadata": {},
   "outputs": [
    {
     "data": {
      "text/html": [
       "<span style=\"font-size:20px;\"><a class=\"ProveItLink\" href=\"__pv_it/3d5f1ec0815d372f838e95cf6e09473cbe9ea42f0/expr.ipynb\"><img src=\"data:image/png;base64,iVBORw0KGgoAAAANSUhEUgAAAGUAAAAVBAMAAACtcD09AAAAMFBMVEX///+IiIi6urrc3NxERETM\n",
       "zMwQEBCqqqpUVFQiIiJ2dnYyMjLu7u5mZmaYmJgAAABN0h6tAAAAAXRSTlMAQObYZgAAAcBJREFU\n",
       "OMuNlD1Iw1AQx/+m1qZNGgRnsZMgCApOCoIiDi7awcmpFHVxMCB0LuiiiwUHrSJWKAULouCmCBFE\n",
       "EBFS6FAQS8HdCuIgFuO7l4/2lQh9kMu9y/169+7eFYBWRccrWDLopV77fw7U2gwbJKQVktoHE8/l\n",
       "2XbmvpUv5nXIo6S+kIhkWKw0LmJtzBV7UoatTyL0C/WS1DOXiRroSYiIZkLd2XWYAR3fwKnA9GQg\n",
       "f9quc9kjroQpk7rDDMbwAzwIjNKA/MXrMu14YRwtDCg3KLFWhn63QfLJc+oXmccc8zSZUqCdzI+G\n",
       "kRzJTe888wIzccw0jTzrtE3FufWAyymP2RfjdCVZfpSRwoIt7nFb1OTHWbthixuSIoNVA0HqJLZ7\n",
       "WU3iXvoINOMIzBiwoNuMkqbzkF/IJDuQ8M/NMoiRMu55eN2WgD7alPxrsAycGHYNCi4TOCxWeMnD\n",
       "usuc8/4bUFkz8c77E80JPbUsizPq1rDDDLGnsn5bQ5bFkl7LrJ9KvK2nzpLyrXeH34BmX5t3J+E7\n",
       "PprpKBHP1LyjfH581ozzvnMN9izw+cE/c+rOnDeu3ZStlLQTrnY222/u/8EfzACESwO1U+cAAAAA\n",
       "SUVORK5CYII=\n",
       "\" style=\"display:inline;vertical-align:middle;\" /></a> <a class=\"ProveItLink\" href=\"__pv_it/02f0fe277815747dff5bc827746e6a060ab46e6c0/proof.ipynb\" style=\"text-decoration: none\">&#x22A2;&nbsp;</a><a class=\"ProveItLink\" href=\"../../numeral/deci/__pv_it/09562e4610fc123f904c6f39335f040aa9bfa81c0/expr.ipynb\"><img src=\"data:image/png;base64,iVBORw0KGgoAAAANSUhEUgAAADAAAAAOBAMAAACbXIJpAAAAMFBMVEX///+YmJiqqqqIiIgyMjLc\n",
       "3NwiIiIQEBC6urp2dnZUVFTMzMxERERmZmbu7u4AAADrYmUNAAAAAXRSTlMAQObYZgAAALhJREFU\n",
       "GNNj4Lt7ZgMDGoiceYiB4RUD5w80cdYLDPoCDPcYGMoRYiog3cyfGPgTGMoYGNYHwMTFroJIjgoG\n",
       "fgcG/wcM62GWmM2DqQAaBQT5D8AcvmkGMHG+TLDOnxDONQG47dPugSi2BWDeEgUkh5k3AIm7EA0o\n",
       "Eux1QMddgOqHG8UawMDziYFBF8RAsZz/H0iCewIDcwCqc9kPMLD9YwibOXcZA6oHGQVA/vD///8b\n",
       "WpAw9N49wQAAOKUvinSXmHsAAAAASUVORK5CYII=\n",
       "\" style=\"display:inline;vertical-align:middle;\" /></a></span>"
      ],
      "text/plain": [
       "{2 in (1,3)} |- 2 < 3"
      ]
     },
     "execution_count": 53,
     "metadata": {},
     "output_type": "execute_result"
    }
   ],
   "source": [
    "# Element in an Open Interval (1,3)\n",
    "IntervalOO(one, three).deduceMemberUpperBound(\n",
    "        two, assumptions=[InSet(two, IntervalOO(one, three))])"
   ]
  },
  {
   "cell_type": "code",
   "execution_count": 54,
   "metadata": {},
   "outputs": [
    {
     "data": {
      "text/html": [
       "<span style=\"font-size:20px;\"><a class=\"ProveItLink\" href=\"__pv_it/73237271352275912e0e57fb251970b473beaf820/expr.ipynb\"><img src=\"data:image/png;base64,iVBORw0KGgoAAAANSUhEUgAAAGMAAAAVBAMAAACgbk16AAAAMFBMVEX///+IiIi6urrc3NxERETM\n",
       "zMwQEBCqqqpUVFQiIiJ2dnYyMjLu7u5mZmaYmJgAAABN0h6tAAAAAXRSTlMAQObYZgAAAZxJREFU\n",
       "OMtjYGDgu8dALGC9eABE8ezCKsv8AE2gGEQwpYJIvg9YtRxB1r5qSQEDhwGIeRtEcE3AqmUzEJcd\n",
       "gLBtGdj/MfBsADFX4tbCd4GBp6sfqkW+gOEnA8NC7Fr4PGfOBjM4Qc54D9WipsDwm4HhGFYtrI5Q\n",
       "RQyWDEhaGEAOY+BWQNHCJSgKYp+Gq5FF1XJyAVDNBSBjGYjHAfQW83QGbxC7GW6fH4oWq7lAFh/I\n",
       "/+9B3LIAoMsXMLSD2A5wLdNRbWFMAjoO5BxuoFUhk4GM+xA51uzdQABmJqFqYUg7wMAKjsBOAWBw\n",
       "AG1JgUYZwhYULcYMDP4FEC3cDSC/ODDw/IIqTMDusP8HQFqYJsD8AgoxYBCyg9gXsXsf6Ij5ByDe\n",
       "XwbTcoOB5yo4AgtgWtaCY/0AAw8wDhnegeOFdwFyvHCtewhWyNOiA9WiCcQ38vc+YJgJtInp7hVg\n",
       "NHIHYE0wTEuQEww43hHRiUgwCTiSJQRwwYUQyRJHfnGG0gdhApDED84vDLvwZjF45mQBOZUpCeLa\n",
       "e0Rl5MewvA8AZZB6w0bxyjYAAAAASUVORK5CYII=\n",
       "\" style=\"display:inline;vertical-align:middle;\" /></a> <a class=\"ProveItLink\" href=\"__pv_it/4e338cf7b2ec45bacca856c131f73e0ca00a8ed20/proof.ipynb\" style=\"text-decoration: none\">&#x22A2;&nbsp;</a><a class=\"ProveItLink\" href=\"__pv_it/e2023767e4bcdb6d9fc9109a8f3c8dd8b72b6a420/expr.ipynb\"><img src=\"data:image/png;base64,iVBORw0KGgoAAAANSUhEUgAAAC8AAAAOBAMAAABN+VgMAAAAMFBMVEX///+6urqYmJgQEBDu7u5m\n",
       "ZmZUVFQyMjJERESqqqoiIiLc3NzMzMyIiIh2dnYAAABqS+z4AAAAAXRSTlMAQObYZgAAAKFJREFU\n",
       "GNNjYMAE3O9eTGDABrYycH5CE+KsAZH3JzD8QhVnWroBRAkLMHxHEedd5wDTCTbq7d0DYJ7fWrgS\n",
       "rwdAYtcEjgIQx3URXHzfUpDWdQxsIMexVSIbasjAwPoFwnZDlmAwdmBgboC5Hm7UbgaG/gkM/g9g\n",
       "fLjl/x1AEvwKDAwTUJ1rwcCw3oGBNYHB9QCqB5Ug/nindAEtSBhDIwQYALIsKryCEJu2AAAAAElF\n",
       "TkSuQmCC\n",
       "\" style=\"display:inline;vertical-align:middle;\" /></a></span>"
      ],
      "text/plain": [
       "{c in (1,3)} |- c < 3"
      ]
     },
     "execution_count": 54,
     "metadata": {},
     "output_type": "execute_result"
    }
   ],
   "source": [
    "# Variable Element in an Open Interval (1,3)\n",
    "IntervalOO(one, three).deduceMemberUpperBound(\n",
    "        c, assumptions=[InSet(c, IntervalOO(one, three))])"
   ]
  },
  {
   "cell_type": "code",
   "execution_count": 55,
   "metadata": {},
   "outputs": [
    {
     "data": {
      "text/html": [
       "<span style=\"font-size:20px;\"><a class=\"ProveItLink\" href=\"__pv_it/281c2ebeed67b4648e629344e9f93a8a0cdc76030/expr.ipynb\"><img src=\"data:image/png;base64,iVBORw0KGgoAAAANSUhEUgAAAGEAAAAVBAMAAACkm51HAAAAMFBMVEX///+IiIi6urrc3NxERETM\n",
       "zMwQEBCqqqpUVFQiIiJ2dnYyMjLu7u5mZmaYmJgAAABN0h6tAAAAAXRSTlMAQObYZgAAAaBJREFU\n",
       "OMuNkz9IAnEUx7/n+e/0PJ1aanBqCIIbWmoIkSDaHKQ5goLAoampqClwUnQII0gaQoXAuQId3bI5\n",
       "FYe2EKNFKsF+v3f3y7vzBt9w997v9z73vr/fuwdA62FO8702+Ut9dN/edMQfBcBzwD3tk1HdrZQj\n",
       "QU1Ygo3aNnDHnDcehfJAC6EvBxHWgUDG8OU2zvtEVAXRAQ4dxIB9pzI2fGmEaN5OHAE5nTbfS6U6\n",
       "OUUu2CQ8+4jW7USjiRwdJL1klpDzFoKZUxWzW35x6rPIkNo2Qr02Tn7PgyCp8PyQr4sUb99KyNWO\n",
       "QQx5dEJylAvK+1ehHNtVLcSJCLPS6SKtdOm5+8SMavrjdsKfIQLZGLCcErKBtWmGlZB1eEdGDS4l\n",
       "yJt7xldZnruq6FgQQ3FXvjIkTkRirif3J6CMp3fFifXaQ5b2rgQR4jIlRrywY2n9mX40JpNvSmwl\n",
       "m2ab2Wrk8rcH5YZFq90kZjpo2sqO5S8hOxXOlNhzHY+BcMozBJ8PF/Oa7VdjVoLmA+4zKCZKg4Vg\n",
       "PzG3QG+uqV0sGHP+B0UUfEoC3adfAAAAAElFTkSuQmCC\n",
       "\" style=\"display:inline;vertical-align:middle;\" /></a> <a class=\"ProveItLink\" href=\"__pv_it/dec950b87439bc4ba9a74d4198539a978b15cc0e0/proof.ipynb\" style=\"text-decoration: none\">&#x22A2;&nbsp;</a><a class=\"ProveItLink\" href=\"../../numeral/deci/__pv_it/e448213290777cdec65fe1e8f61100e2e14beb980/expr.ipynb\"><img src=\"data:image/png;base64,iVBORw0KGgoAAAANSUhEUgAAADAAAAAPBAMAAABQAFHMAAAAMFBMVEX///+6urpERETc3NwiIiLM\n",
       "zMwyMjJmZmaIiIiYmJh2dnZUVFTu7u4QEBCqqqoAAAD7YXnbAAAAAXRSTlMAQObYZgAAAJVJREFU\n",
       "GNNjYMACjhepAkm+O+jiPBsY1gswnF79B0nsWQCQYD/AwHuBgYETSWJKMYjkdWDg/owi0bIGTLH9\n",
       "YeD+iiTBs6QBroTlD0KCp2QCwkz5BQiJbQ+QHOHNAJfgQZZgL0BIMDAjGdXOwIDVcr4CBmNszmWI\n",
       "YmBoZmDgwPAgs9eqagcG9r3fKtGChO3///8ODLgAAJC0L58BnxxZAAAAAElFTkSuQmCC\n",
       "\" style=\"display:inline;vertical-align:middle;\" /></a></span>"
      ],
      "text/plain": [
       "{2 in (1,3]} |- 1 < 2"
      ]
     },
     "execution_count": 55,
     "metadata": {},
     "output_type": "execute_result"
    }
   ],
   "source": [
    "# Element in a Half-Open Interval (1,3]\n",
    "IntervalOC(one, three).deduceMemberLowerBound(\n",
    "        two, assumptions=[InSet(two, IntervalOC(one, three))])"
   ]
  },
  {
   "cell_type": "code",
   "execution_count": 56,
   "metadata": {},
   "outputs": [
    {
     "data": {
      "text/html": [
       "<span style=\"font-size:20px;\"><a class=\"ProveItLink\" href=\"__pv_it/281c2ebeed67b4648e629344e9f93a8a0cdc76030/expr.ipynb\"><img src=\"data:image/png;base64,iVBORw0KGgoAAAANSUhEUgAAAGEAAAAVBAMAAACkm51HAAAAMFBMVEX///+IiIi6urrc3NxERETM\n",
       "zMwQEBCqqqpUVFQiIiJ2dnYyMjLu7u5mZmaYmJgAAABN0h6tAAAAAXRSTlMAQObYZgAAAaBJREFU\n",
       "OMuNkz9IAnEUx7/n+e/0PJ1aanBqCIIbWmoIkSDaHKQ5goLAoampqClwUnQII0gaQoXAuQId3bI5\n",
       "FYe2EKNFKsF+v3f3y7vzBt9w997v9z73vr/fuwdA62FO8702+Ut9dN/edMQfBcBzwD3tk1HdrZQj\n",
       "QU1Ygo3aNnDHnDcehfJAC6EvBxHWgUDG8OU2zvtEVAXRAQ4dxIB9pzI2fGmEaN5OHAE5nTbfS6U6\n",
       "OUUu2CQ8+4jW7USjiRwdJL1klpDzFoKZUxWzW35x6rPIkNo2Qr02Tn7PgyCp8PyQr4sUb99KyNWO\n",
       "QQx5dEJylAvK+1ehHNtVLcSJCLPS6SKtdOm5+8SMavrjdsKfIQLZGLCcErKBtWmGlZB1eEdGDS4l\n",
       "yJt7xldZnruq6FgQQ3FXvjIkTkRirif3J6CMp3fFifXaQ5b2rgQR4jIlRrywY2n9mX40JpNvSmwl\n",
       "m2ab2Wrk8rcH5YZFq90kZjpo2sqO5S8hOxXOlNhzHY+BcMozBJ8PF/Oa7VdjVoLmA+4zKCZKg4Vg\n",
       "PzG3QG+uqV0sGHP+B0UUfEoC3adfAAAAAElFTkSuQmCC\n",
       "\" style=\"display:inline;vertical-align:middle;\" /></a> <a class=\"ProveItLink\" href=\"__pv_it/e1c2ba6af57dfe73e1817a970a3d21fd5c98035b0/proof.ipynb\" style=\"text-decoration: none\">&#x22A2;&nbsp;</a><a class=\"ProveItLink\" href=\"__pv_it/869311e422c061b78afe79e6381fe416537ad4a20/expr.ipynb\"><img src=\"data:image/png;base64,iVBORw0KGgoAAAANSUhEUgAAADAAAAARBAMAAABp3DInAAAAMFBMVEX///+YmJiqqqqIiIgyMjLc\n",
       "3NwiIiIQEBC6urp2dnZUVFTMzMxERERmZmbu7u4AAADrYmUNAAAAAXRSTlMAQObYZgAAAM5JREFU\n",
       "GNNj4Lt7ZgMDGoiceYiB4RUD5w+EkBlIEesFBn0BhnsMDOUwYb5pBiCK+RMDfwJDGQPD+gCIOOs1\n",
       "ATDNUcHA78Dg/4BhPcQS1iUKcCP1wUryH4BI7iMNcHG+TLDOn2AOkuNYp90DUWwLIA6yQ3KwOUj3\n",
       "XShHbB5Cgr0O6LgLMJ7KVahJAQw8nxgYdEEMCGhZDab4/4EkuCcwMMMkGPacAJtzgIHtH0PYzLnL\n",
       "EGZHgZzGKADyh////9/QA7H37gkGCgCfWxoIwL0PALFGNGA5ADnVAAAAAElFTkSuQmCC\n",
       "\" style=\"display:inline;vertical-align:middle;\" /></a></span>"
      ],
      "text/plain": [
       "{2 in (1,3]} |- 2 <= 3"
      ]
     },
     "execution_count": 56,
     "metadata": {},
     "output_type": "execute_result"
    }
   ],
   "source": [
    "# Element in a Half-Open Interval (1,3]\n",
    "IntervalOC(one, three).deduceMemberUpperBound(\n",
    "        two, assumptions=[InSet(two, IntervalOC(one, three))])"
   ]
  },
  {
   "cell_type": "code",
   "execution_count": 57,
   "metadata": {},
   "outputs": [
    {
     "data": {
      "text/html": [
       "<span style=\"font-size:20px;\"><a class=\"ProveItLink\" href=\"__pv_it/7fdd628163eac037854e0bc9e2dd37e7c08be16f0/expr.ipynb\"><img src=\"data:image/png;base64,iVBORw0KGgoAAAANSUhEUgAAAGEAAAAVBAMAAACkm51HAAAAMFBMVEX///+IiIi6urrc3NxERETM\n",
       "zMwQEBCqqqpUVFQiIiJ2dnYyMjLu7u5mZmaYmJgAAABN0h6tAAAAAXRSTlMAQObYZgAAAaBJREFU\n",
       "OMtjYGDgu8dAJGC9eABE8ezCJsm4OwBVgN0ASDClgph8H4C67rqgKeBSQOJYrXJnYGgGsW6D5SYw\n",
       "MJxg4PqEqaPsAITNfIGh/gHDaRBzJUzHHQaGNHQdPF39UB2M3xn4JzBwCSDryGRg6DcAyz6ZOXMD\n",
       "zI73UB1MSQz8Gxh4EpB17D/A0A/2SIgMkqtgOoAA6CqGTcg6gGA+SJpnDwNWHTyzgMRaIF4G4nGA\n",
       "XcH0C8w2wKqDeSXQowyvgfg9iFsGdg5nA4hkYcBuB4MYkFsJpLkvAF0+GSx0F0yG7QaCDVh0sOUw\n",
       "MMSDGJ3AEFMD2cF4ASxhgtUOZgMGlu8QHdwgp3A4AIlakDDQKKw6+P+AdWjC/AEKK9YFDIwgHbwC\n",
       "2HSwOTBw/oH4fBlMh+WqtZ1gyenIOuQPMPD8BqW8B+D4uIUSg////wQrPOF0AK7jRv7eBwwzQXzd\n",
       "u05AcitaDEKBlicilYATOSIWJ8B1JGDLHzAdXAgReEoE5Q/cOg7CRU7D8wfDLnw6HsBFnCGpGOxU\n",
       "bPmccTZapuQzgOZzABcoe0uozmMqAAAAAElFTkSuQmCC\n",
       "\" style=\"display:inline;vertical-align:middle;\" /></a> <a class=\"ProveItLink\" href=\"__pv_it/ca1a637d59023a123ee79480489eec92159f6a5d0/proof.ipynb\" style=\"text-decoration: none\">&#x22A2;&nbsp;</a><a class=\"ProveItLink\" href=\"__pv_it/6b95ff099edd023197cdb07cdf37fdeaa84c75000/expr.ipynb\"><img src=\"data:image/png;base64,iVBORw0KGgoAAAANSUhEUgAAADAAAAARBAMAAABp3DInAAAAMFBMVEX///+6urpERETc3NzMzMwi\n",
       "IiIyMjJmZmaIiIiYmJh2dnZUVFTu7u4QEBCqqqoAAAA8/FlzAAAAAXRSTlMAQObYZgAAAK5JREFU\n",
       "GNNjYMACjhepAEm+O0hCrQ5AgmcDw3oBhtOr/8CFeZY2gCj2Awy8FxgYOOESzKUTwDRvAAP3ZyQJ\n",
       "5m0PIAy2PwzcXxASLGoCCLtY/yAklByQHCG/ACHR2oMkEc2AZMfUNXBx9gJkCYZnxTBWOwOKBIPY\n",
       "FgjNV8BgjCLB4KQIprwYGJoZGDiQJBisQU5jjlpVHcDAvvdbJVoYsv3//z+AgXzAkxoKAnDvAwAd\n",
       "oy41jc509gAAAABJRU5ErkJggg==\n",
       "\" style=\"display:inline;vertical-align:middle;\" /></a></span>"
      ],
      "text/plain": [
       "{2 in [1,3)} |- 1 <= 2"
      ]
     },
     "execution_count": 57,
     "metadata": {},
     "output_type": "execute_result"
    }
   ],
   "source": [
    "# Element in a Half-Open Interval [1,3)\n",
    "IntervalCO(one, three).deduceMemberLowerBound(\n",
    "        two, assumptions=[InSet(two, IntervalCO(one, three))])"
   ]
  },
  {
   "cell_type": "code",
   "execution_count": 58,
   "metadata": {},
   "outputs": [
    {
     "data": {
      "text/html": [
       "<span style=\"font-size:20px;\"><a class=\"ProveItLink\" href=\"__pv_it/7fdd628163eac037854e0bc9e2dd37e7c08be16f0/expr.ipynb\"><img src=\"data:image/png;base64,iVBORw0KGgoAAAANSUhEUgAAAGEAAAAVBAMAAACkm51HAAAAMFBMVEX///+IiIi6urrc3NxERETM\n",
       "zMwQEBCqqqpUVFQiIiJ2dnYyMjLu7u5mZmaYmJgAAABN0h6tAAAAAXRSTlMAQObYZgAAAaBJREFU\n",
       "OMtjYGDgu8dAJGC9eABE8ezCJsm4OwBVgN0ASDClgph8H4C67rqgKeBSQOJYrXJnYGgGsW6D5SYw\n",
       "MJxg4PqEqaPsAITNfIGh/gHDaRBzJUzHHQaGNHQdPF39UB2M3xn4JzBwCSDryGRg6DcAyz6ZOXMD\n",
       "zI73UB1MSQz8Gxh4EpB17D/A0A/2SIgMkqtgOoAA6CqGTcg6gGA+SJpnDwNWHTyzgMRaIF4G4nGA\n",
       "XcH0C8w2wKqDeSXQowyvgfg9iFsGdg5nA4hkYcBuB4MYkFsJpLkvAF0+GSx0F0yG7QaCDVh0sOUw\n",
       "MMSDGJ3AEFMD2cF4ASxhgtUOZgMGlu8QHdwgp3A4AIlakDDQKKw6+P+AdWjC/AEKK9YFDIwgHbwC\n",
       "2HSwOTBw/oH4fBlMh+WqtZ1gyenIOuQPMPD8BqW8B+D4uIUSg////wQrPOF0AK7jRv7eBwwzQXzd\n",
       "u05AcitaDEKBlicilYATOSIWJ8B1JGDLHzAdXAgReEoE5Q/cOg7CRU7D8wfDLnw6HsBFnCGpGOxU\n",
       "bPmccTZapuQzgOZzABcoe0uozmMqAAAAAElFTkSuQmCC\n",
       "\" style=\"display:inline;vertical-align:middle;\" /></a> <a class=\"ProveItLink\" href=\"__pv_it/e56f22f371830dc5aa14a3bcf11a029203b511cf0/proof.ipynb\" style=\"text-decoration: none\">&#x22A2;&nbsp;</a><a class=\"ProveItLink\" href=\"../../numeral/deci/__pv_it/09562e4610fc123f904c6f39335f040aa9bfa81c0/expr.ipynb\"><img src=\"data:image/png;base64,iVBORw0KGgoAAAANSUhEUgAAADAAAAAOBAMAAACbXIJpAAAAMFBMVEX///+YmJiqqqqIiIgyMjLc\n",
       "3NwiIiIQEBC6urp2dnZUVFTMzMxERERmZmbu7u4AAADrYmUNAAAAAXRSTlMAQObYZgAAALhJREFU\n",
       "GNNj4Lt7ZgMDGoiceYiB4RUD5w80cdYLDPoCDPcYGMoRYiog3cyfGPgTGMoYGNYHwMTFroJIjgoG\n",
       "fgcG/wcM62GWmM2DqQAaBQT5D8AcvmkGMHG+TLDOnxDONQG47dPugSi2BWDeEgUkh5k3AIm7EA0o\n",
       "Eux1QMddgOqHG8UawMDziYFBF8RAsZz/H0iCewIDcwCqc9kPMLD9YwibOXcZA6oHGQVA/vD///8b\n",
       "WpAw9N49wQAAOKUvinSXmHsAAAAASUVORK5CYII=\n",
       "\" style=\"display:inline;vertical-align:middle;\" /></a></span>"
      ],
      "text/plain": [
       "{2 in [1,3)} |- 2 < 3"
      ]
     },
     "execution_count": 58,
     "metadata": {},
     "output_type": "execute_result"
    }
   ],
   "source": [
    "# Element in a Half-Open Interval [1,3)\n",
    "IntervalCO(one, three).deduceMemberUpperBound(\n",
    "        two, assumptions=[InSet(two, IntervalCO(one, three))])"
   ]
  },
  {
   "cell_type": "code",
   "execution_count": 59,
   "metadata": {},
   "outputs": [
    {
     "data": {
      "text/html": [
       "<span style=\"font-size:20px;\"><a class=\"ProveItLink\" href=\"__pv_it/d941ad9100dc29237d6909c3cd523e289561e7450/expr.ipynb\"><img src=\"data:image/png;base64,iVBORw0KGgoAAAANSUhEUgAAAF8AAAAVBAMAAADSoS/MAAAAMFBMVEX///+IiIi6urrc3NxERETM\n",
       "zMwQEBCqqqpUVFQiIiJ2dnYyMjLu7u5mZmaYmJgAAABN0h6tAAAAAXRSTlMAQObYZgAAAYJJREFU\n",
       "OMuNkz9IAnEUx7/n/7PzdGqpwakhCBxaahIJoq0hmiMoCJybipoCJ8WGsIKkIVIIbtZAR7euORWH\n",
       "tgajRSrBfu+dp6f3K3rD796f+9z7/n73ewD0Nv5n/uc6PbSKrKhUNycTb3nAs0ee/i6g1tpUPRx3\n",
       "BKvldeBWOC9cygENhD/cQDBt+V4TJx0GSjbQBPZdQOO+P5TXQzQ3CRwA2QQXXwsFw+6gDwHPLqLG\n",
       "JFCrI8ub2Jp3SLIBYdOShN3QkWmPkALapbXpOwpCLMHzxX5CCnhLTQvoUnTIWtRTWn2Qd8BsnIEZ\n",
       "U6g+50yL1+2qMEMCBNIMIBMDFqiDYnJ+WdrBm4CvZ3UgHaGkWI4pKz4kBaJ9G+jap+QvQiEgEpMB\n",
       "gSTU/viUCFgpP2S4duEEFAE8iR3pHdd/qA0Gn/xeI1UfAZGz7zbUaxEstVJw/bihLW6MrwbbkV0Z\n",
       "AzuyeRgBRRdA8/A7oMWcAM8DKn8BOhyAuLZkQdlMK1dTIziXt2b6B+ISdt1tEnRAAAAAAElFTkSu\n",
       "QmCC\n",
       "\" style=\"display:inline;vertical-align:middle;\" /></a> <a class=\"ProveItLink\" href=\"__pv_it/ba981c5ffd75c6e16650b15c788b585bce58e7e80/proof.ipynb\" style=\"text-decoration: none\">&#x22A2;&nbsp;</a><a class=\"ProveItLink\" href=\"__pv_it/6b95ff099edd023197cdb07cdf37fdeaa84c75000/expr.ipynb\"><img src=\"data:image/png;base64,iVBORw0KGgoAAAANSUhEUgAAADAAAAARBAMAAABp3DInAAAAMFBMVEX///+6urpERETc3NzMzMwi\n",
       "IiIyMjJmZmaIiIiYmJh2dnZUVFTu7u4QEBCqqqoAAAA8/FlzAAAAAXRSTlMAQObYZgAAAK5JREFU\n",
       "GNNjYMACjhepAEm+O0hCrQ5AgmcDw3oBhtOr/8CFeZY2gCj2Awy8FxgYOOESzKUTwDRvAAP3ZyQJ\n",
       "5m0PIAy2PwzcXxASLGoCCLtY/yAklByQHCG/ACHR2oMkEc2AZMfUNXBx9gJkCYZnxTBWOwOKBIPY\n",
       "FgjNV8BgjCLB4KQIprwYGJoZGDiQJBisQU5jjlpVHcDAvvdbJVoYsv3//z+AgXzAkxoKAnDvAwAd\n",
       "oy41jc509gAAAABJRU5ErkJggg==\n",
       "\" style=\"display:inline;vertical-align:middle;\" /></a></span>"
      ],
      "text/plain": [
       "{2 in [1,3]} |- 1 <= 2"
      ]
     },
     "execution_count": 59,
     "metadata": {},
     "output_type": "execute_result"
    }
   ],
   "source": [
    "# Element in a Closed Interval [1,3]\n",
    "IntervalCC(one, three).deduceMemberLowerBound(\n",
    "        two, assumptions=[InSet(two, IntervalCC(one, three))])"
   ]
  },
  {
   "cell_type": "code",
   "execution_count": 60,
   "metadata": {},
   "outputs": [
    {
     "data": {
      "text/html": [
       "<span style=\"font-size:20px;\"><a class=\"ProveItLink\" href=\"__pv_it/d941ad9100dc29237d6909c3cd523e289561e7450/expr.ipynb\"><img src=\"data:image/png;base64,iVBORw0KGgoAAAANSUhEUgAAAF8AAAAVBAMAAADSoS/MAAAAMFBMVEX///+IiIi6urrc3NxERETM\n",
       "zMwQEBCqqqpUVFQiIiJ2dnYyMjLu7u5mZmaYmJgAAABN0h6tAAAAAXRSTlMAQObYZgAAAYJJREFU\n",
       "OMuNkz9IAnEUx7/n/7PzdGqpwakhCBxaahIJoq0hmiMoCJybipoCJ8WGsIKkIVIIbtZAR7euORWH\n",
       "tgajRSrBfu+dp6f3K3rD796f+9z7/n73ewD0Nv5n/uc6PbSKrKhUNycTb3nAs0ee/i6g1tpUPRx3\n",
       "BKvldeBWOC9cygENhD/cQDBt+V4TJx0GSjbQBPZdQOO+P5TXQzQ3CRwA2QQXXwsFw+6gDwHPLqLG\n",
       "JFCrI8ub2Jp3SLIBYdOShN3QkWmPkALapbXpOwpCLMHzxX5CCnhLTQvoUnTIWtRTWn2Qd8BsnIEZ\n",
       "U6g+50yL1+2qMEMCBNIMIBMDFqiDYnJ+WdrBm4CvZ3UgHaGkWI4pKz4kBaJ9G+jap+QvQiEgEpMB\n",
       "gSTU/viUCFgpP2S4duEEFAE8iR3pHdd/qA0Gn/xeI1UfAZGz7zbUaxEstVJw/bihLW6MrwbbkV0Z\n",
       "AzuyeRgBRRdA8/A7oMWcAM8DKn8BOhyAuLZkQdlMK1dTIziXt2b6B+ISdt1tEnRAAAAAAElFTkSu\n",
       "QmCC\n",
       "\" style=\"display:inline;vertical-align:middle;\" /></a> <a class=\"ProveItLink\" href=\"__pv_it/ab51379c20c82913b147585142e4c7c07b5458180/proof.ipynb\" style=\"text-decoration: none\">&#x22A2;&nbsp;</a><a class=\"ProveItLink\" href=\"__pv_it/869311e422c061b78afe79e6381fe416537ad4a20/expr.ipynb\"><img src=\"data:image/png;base64,iVBORw0KGgoAAAANSUhEUgAAADAAAAARBAMAAABp3DInAAAAMFBMVEX///+YmJiqqqqIiIgyMjLc\n",
       "3NwiIiIQEBC6urp2dnZUVFTMzMxERERmZmbu7u4AAADrYmUNAAAAAXRSTlMAQObYZgAAAM5JREFU\n",
       "GNNj4Lt7ZgMDGoiceYiB4RUD5w+EkBlIEesFBn0BhnsMDOUwYb5pBiCK+RMDfwJDGQPD+gCIOOs1\n",
       "ATDNUcHA78Dg/4BhPcQS1iUKcCP1wUryH4BI7iMNcHG+TLDOn2AOkuNYp90DUWwLIA6yQ3KwOUj3\n",
       "XShHbB5Cgr0O6LgLMJ7KVahJAQw8nxgYdEEMCGhZDab4/4EkuCcwMMMkGPacAJtzgIHtH0PYzLnL\n",
       "EGZHgZzGKADyh////9/QA7H37gkGCgCfWxoIwL0PALFGNGA5ADnVAAAAAElFTkSuQmCC\n",
       "\" style=\"display:inline;vertical-align:middle;\" /></a></span>"
      ],
      "text/plain": [
       "{2 in [1,3]} |- 2 <= 3"
      ]
     },
     "execution_count": 60,
     "metadata": {},
     "output_type": "execute_result"
    }
   ],
   "source": [
    "# Element in a Closed Interval [1,3]\n",
    "IntervalCC(one, three).deduceMemberUpperBound(\n",
    "        two, assumptions=[InSet(two, IntervalCC(one, three))])"
   ]
  },
  {
   "cell_type": "markdown",
   "metadata": {},
   "source": [
    "### Testing the `Interval.deduceMemberInReals()` methods"
   ]
  },
  {
   "cell_type": "code",
   "execution_count": 61,
   "metadata": {},
   "outputs": [
    {
     "data": {
      "text/html": [
       "<span style=\"font-size:20px;\"><a class=\"ProveItLink\" href=\"__pv_it/3d5f1ec0815d372f838e95cf6e09473cbe9ea42f0/expr.ipynb\"><img src=\"data:image/png;base64,iVBORw0KGgoAAAANSUhEUgAAAGUAAAAVBAMAAACtcD09AAAAMFBMVEX///+IiIi6urrc3NxERETM\n",
       "zMwQEBCqqqpUVFQiIiJ2dnYyMjLu7u5mZmaYmJgAAABN0h6tAAAAAXRSTlMAQObYZgAAAcBJREFU\n",
       "OMuNlD1Iw1AQx/+m1qZNGgRnsZMgCApOCoIiDi7awcmpFHVxMCB0LuiiiwUHrSJWKAULouCmCBFE\n",
       "EBFS6FAQS8HdCuIgFuO7l4/2lQh9kMu9y/169+7eFYBWRccrWDLopV77fw7U2gwbJKQVktoHE8/l\n",
       "2XbmvpUv5nXIo6S+kIhkWKw0LmJtzBV7UoatTyL0C/WS1DOXiRroSYiIZkLd2XWYAR3fwKnA9GQg\n",
       "f9quc9kjroQpk7rDDMbwAzwIjNKA/MXrMu14YRwtDCg3KLFWhn63QfLJc+oXmccc8zSZUqCdzI+G\n",
       "kRzJTe888wIzccw0jTzrtE3FufWAyymP2RfjdCVZfpSRwoIt7nFb1OTHWbthixuSIoNVA0HqJLZ7\n",
       "WU3iXvoINOMIzBiwoNuMkqbzkF/IJDuQ8M/NMoiRMu55eN2WgD7alPxrsAycGHYNCi4TOCxWeMnD\n",
       "usuc8/4bUFkz8c77E80JPbUsizPq1rDDDLGnsn5bQ5bFkl7LrJ9KvK2nzpLyrXeH34BmX5t3J+E7\n",
       "PprpKBHP1LyjfH581ozzvnMN9izw+cE/c+rOnDeu3ZStlLQTrnY222/u/8EfzACESwO1U+cAAAAA\n",
       "SUVORK5CYII=\n",
       "\" style=\"display:inline;vertical-align:middle;\" /></a> <a class=\"ProveItLink\" href=\"__pv_it/c6b505c96067c77c25e9c1c7aa11323b269383aa0/proof.ipynb\" style=\"text-decoration: none\">&#x22A2;&nbsp;</a><a class=\"ProveItLink\" href=\"__pv_it/22bf67533c5cf1a371314dac3d2b20c16d8c560d0/expr.ipynb\"><img src=\"data:image/png;base64,iVBORw0KGgoAAAANSUhEUgAAADIAAAAPBAMAAABU9YHxAAAAMFBMVEX///+YmJiqqqqIiIgyMjLc\n",
       "3NwiIiIQEBC6urp2dnZUVFTMzMxERERmZmbu7u4AAADrYmUNAAAAAXRSTlMAQObYZgAAANVJREFU\n",
       "GNNj4Lt7ZgMDMmBMP/PF/SCQ8YqB8weKDAML3wLug+cYGO4xMJSjyvCwTmA4EMXAUMbAsD4ALCKT\n",
       "luYAk7nKwsDg/4BhPdiiPXZIeq7ygJn5D4AEnx+yaQu6QCyOnyCSKwBJhikXrI5tAZiP5IKyNCcw\n",
       "6y6Y3O4CBFAXzLhwDsRgvgCWiUF29Y09IIYuAyvICnZkGZ6HBgwM3BMYmEEyvAZIMtwLbjMwhM2c\n",
       "uwwskIQUOgyTuDYw+P///w0s8OrEA3iIbuA58gkpvDqPQUIHCgBnrj0uOO3EnwAAAABJRU5ErkJg\n",
       "gg==\n",
       "\" style=\"display:inline;vertical-align:middle;\" /></a></span>"
      ],
      "text/plain": [
       "{2 in (1,3)} |- 2 in Reals"
      ]
     },
     "execution_count": 61,
     "metadata": {},
     "output_type": "execute_result"
    }
   ],
   "source": [
    "# Element in an Open Interval (1,3)\n",
    "IntervalOO(one, three).deduceMemberInReals(\n",
    "        two, assumptions=[InSet(two, IntervalOO(one, three))])"
   ]
  },
  {
   "cell_type": "code",
   "execution_count": 62,
   "metadata": {},
   "outputs": [
    {
     "data": {
      "text/html": [
       "<span style=\"font-size:20px;\"><a class=\"ProveItLink\" href=\"__pv_it/73237271352275912e0e57fb251970b473beaf820/expr.ipynb\"><img src=\"data:image/png;base64,iVBORw0KGgoAAAANSUhEUgAAAGMAAAAVBAMAAACgbk16AAAAMFBMVEX///+IiIi6urrc3NxERETM\n",
       "zMwQEBCqqqpUVFQiIiJ2dnYyMjLu7u5mZmaYmJgAAABN0h6tAAAAAXRSTlMAQObYZgAAAZxJREFU\n",
       "OMtjYGDgu8dALGC9eABE8ezCKsv8AE2gGEQwpYJIvg9YtRxB1r5qSQEDhwGIeRtEcE3AqmUzEJcd\n",
       "gLBtGdj/MfBsADFX4tbCd4GBp6sfqkW+gOEnA8NC7Fr4PGfOBjM4Qc54D9WipsDwm4HhGFYtrI5Q\n",
       "RQyWDEhaGEAOY+BWQNHCJSgKYp+Gq5FF1XJyAVDNBSBjGYjHAfQW83QGbxC7GW6fH4oWq7lAFh/I\n",
       "/+9B3LIAoMsXMLSD2A5wLdNRbWFMAjoO5BxuoFUhk4GM+xA51uzdQABmJqFqYUg7wMAKjsBOAWBw\n",
       "AG1JgUYZwhYULcYMDP4FEC3cDSC/ODDw/IIqTMDusP8HQFqYJsD8AgoxYBCyg9gXsXsf6Ij5ByDe\n",
       "XwbTcoOB5yo4AgtgWtaCY/0AAw8wDhnegeOFdwFyvHCtewhWyNOiA9WiCcQ38vc+YJgJtInp7hVg\n",
       "NHIHYE0wTEuQEww43hHRiUgwCTiSJQRwwYUQyRJHfnGG0gdhApDED84vDLvwZjF45mQBOZUpCeLa\n",
       "e0Rl5MewvA8AZZB6w0bxyjYAAAAASUVORK5CYII=\n",
       "\" style=\"display:inline;vertical-align:middle;\" /></a> <a class=\"ProveItLink\" href=\"__pv_it/5e1f3e74e876706f8d30aebe71f12ae7a0c8075a0/proof.ipynb\" style=\"text-decoration: none\">&#x22A2;&nbsp;</a><a class=\"ProveItLink\" href=\"__pv_it/9bd70eedb6061c4a72bd040e3905faa0e7d54a0b0/expr.ipynb\"><img src=\"data:image/png;base64,iVBORw0KGgoAAAANSUhEUgAAADEAAAAPBAMAAAC/wjryAAAAMFBMVEX///+6urqYmJgQEBDu7u5m\n",
       "ZmZUVFQyMjJERESqqqoiIiLc3NzMzMyIiIh2dnYAAABqS+z4AAAAAXRSTlMAQObYZgAAALpJREFU\n",
       "GNNjYEAHWhb95RYKDNhAgRvDCQ0HbDIN+xg4uBOQRTRWrSqAyrBuKECSOHEFoYd1QwOI9fbuASDJ\n",
       "UoJkGhsjyLRdEzhAWtk2IMnMCge5YB0D2wQgxYFwweZVy0EirF8g/MPlQAB1gSgHSAtzA0RmB5Kr\n",
       "WWVAgv4PIHxmZP+06AJpfmBAgE29gCRzjBXoXNYEBleQqxlWIoUO34QcIOOdEkS1W6MDLERrGDrq\n",
       "JyAFglzXKuQwAQDAXjdf5nEJUwAAAABJRU5ErkJggg==\n",
       "\" style=\"display:inline;vertical-align:middle;\" /></a></span>"
      ],
      "text/plain": [
       "{c in (1,3)} |- c in Reals"
      ]
     },
     "execution_count": 62,
     "metadata": {},
     "output_type": "execute_result"
    }
   ],
   "source": [
    "# Variable Element in an Open Interval (1,3)\n",
    "IntervalOO(one, three).deduceMemberInReals(\n",
    "        c, assumptions=[InSet(c, IntervalOO(one, three))])"
   ]
  },
  {
   "cell_type": "code",
   "execution_count": 63,
   "metadata": {},
   "outputs": [
    {
     "data": {
      "text/html": [
       "<span style=\"font-size:20px;\"><a class=\"ProveItLink\" href=\"__pv_it/281c2ebeed67b4648e629344e9f93a8a0cdc76030/expr.ipynb\"><img src=\"data:image/png;base64,iVBORw0KGgoAAAANSUhEUgAAAGEAAAAVBAMAAACkm51HAAAAMFBMVEX///+IiIi6urrc3NxERETM\n",
       "zMwQEBCqqqpUVFQiIiJ2dnYyMjLu7u5mZmaYmJgAAABN0h6tAAAAAXRSTlMAQObYZgAAAaBJREFU\n",
       "OMuNkz9IAnEUx7/n+e/0PJ1aanBqCIIbWmoIkSDaHKQ5goLAoampqClwUnQII0gaQoXAuQId3bI5\n",
       "FYe2EKNFKsF+v3f3y7vzBt9w997v9z73vr/fuwdA62FO8702+Ut9dN/edMQfBcBzwD3tk1HdrZQj\n",
       "QU1Ygo3aNnDHnDcehfJAC6EvBxHWgUDG8OU2zvtEVAXRAQ4dxIB9pzI2fGmEaN5OHAE5nTbfS6U6\n",
       "OUUu2CQ8+4jW7USjiRwdJL1klpDzFoKZUxWzW35x6rPIkNo2Qr02Tn7PgyCp8PyQr4sUb99KyNWO\n",
       "QQx5dEJylAvK+1ehHNtVLcSJCLPS6SKtdOm5+8SMavrjdsKfIQLZGLCcErKBtWmGlZB1eEdGDS4l\n",
       "yJt7xldZnruq6FgQQ3FXvjIkTkRirif3J6CMp3fFifXaQ5b2rgQR4jIlRrywY2n9mX40JpNvSmwl\n",
       "m2ab2Wrk8rcH5YZFq90kZjpo2sqO5S8hOxXOlNhzHY+BcMozBJ8PF/Oa7VdjVoLmA+4zKCZKg4Vg\n",
       "PzG3QG+uqV0sGHP+B0UUfEoC3adfAAAAAElFTkSuQmCC\n",
       "\" style=\"display:inline;vertical-align:middle;\" /></a> <a class=\"ProveItLink\" href=\"__pv_it/6447c3161207570d4627547d10b9929c705a8a400/proof.ipynb\" style=\"text-decoration: none\">&#x22A2;&nbsp;</a><a class=\"ProveItLink\" href=\"__pv_it/22bf67533c5cf1a371314dac3d2b20c16d8c560d0/expr.ipynb\"><img src=\"data:image/png;base64,iVBORw0KGgoAAAANSUhEUgAAADIAAAAPBAMAAABU9YHxAAAAMFBMVEX///+YmJiqqqqIiIgyMjLc\n",
       "3NwiIiIQEBC6urp2dnZUVFTMzMxERERmZmbu7u4AAADrYmUNAAAAAXRSTlMAQObYZgAAANVJREFU\n",
       "GNNj4Lt7ZgMDMmBMP/PF/SCQ8YqB8weKDAML3wLug+cYGO4xMJSjyvCwTmA4EMXAUMbAsD4ALCKT\n",
       "luYAk7nKwsDg/4BhPdiiPXZIeq7ygJn5D4AEnx+yaQu6QCyOnyCSKwBJhikXrI5tAZiP5IKyNCcw\n",
       "6y6Y3O4CBFAXzLhwDsRgvgCWiUF29Y09IIYuAyvICnZkGZ6HBgwM3BMYmEEyvAZIMtwLbjMwhM2c\n",
       "uwwskIQUOgyTuDYw+P///w0s8OrEA3iIbuA58gkpvDqPQUIHCgBnrj0uOO3EnwAAAABJRU5ErkJg\n",
       "gg==\n",
       "\" style=\"display:inline;vertical-align:middle;\" /></a></span>"
      ],
      "text/plain": [
       "{2 in (1,3]} |- 2 in Reals"
      ]
     },
     "execution_count": 63,
     "metadata": {},
     "output_type": "execute_result"
    }
   ],
   "source": [
    "# Element in an Half-Open Interval (1,3]\n",
    "IntervalOC(one, three).deduceMemberInReals(\n",
    "        two, assumptions=[InSet(two, IntervalOC(one, three))])"
   ]
  },
  {
   "cell_type": "code",
   "execution_count": 64,
   "metadata": {},
   "outputs": [
    {
     "data": {
      "text/html": [
       "<span style=\"font-size:20px;\"><a class=\"ProveItLink\" href=\"__pv_it/5b123f0e49deed1f462d0b7a299a63d69203ce290/expr.ipynb\"><img src=\"data:image/png;base64,iVBORw0KGgoAAAANSUhEUgAAAGEAAAAVBAMAAACkm51HAAAAMFBMVEX///+IiIi6urrc3NxERETM\n",
       "zMwQEBCqqqpUVFQiIiJ2dnYyMjLu7u5mZmaYmJgAAABN0h6tAAAAAXRSTlMAQObYZgAAAXlJREFU\n",
       "OMtjYGDgu8dAJGC9eABE8ezCKsv8AE3g9SQGBqZUEIvvA1YdR5A5VqvcGRgWARm3QTyuCVh1bAbi\n",
       "sgNQ+y4w1D8A61iJWwffBQaern6oDsbvDPwTcOjg85w5G8zgNAAS76E6mJIY+Ddg18HqCFXDYMmA\n",
       "pAMIMF21UDAASJ6GK5FF1cEzC+LzZSAOxwaQkQUsIKoZbqYfig7mlXcgOt6DeGUgw2cxcBQAKQe4\n",
       "julorhJTAOvgvsDAEDIZyOD9A/FG9m4gADOT0HSw5YB1MHQKMDCoAe1ggxjOjLADRQezAQPLd4gd\n",
       "DSB/AJWdXwCRSsDuKv4/MB3vYWHFD0xEIH9cxO5zoBM4/yDCCqSDt4HhLCgAOAtgOtaCCPkDDDy/\n",
       "QfH6ADM+Vr0TAAd7iw5UhyYQ38jf+4BhJsge3btODDhSCdMS5FQCAuzw8ELoSMCREiGAiwFDB478\n",
       "4QylD6LoAOcPhl14c9QDZB1MSRCX3iMq10pPguRzAApQevbujwj2AAAAAElFTkSuQmCC\n",
       "\" style=\"display:inline;vertical-align:middle;\" /></a> <a class=\"ProveItLink\" href=\"__pv_it/64fe6ea82444d0d81eb54ecc184b7d8ebd7cbbd80/proof.ipynb\" style=\"text-decoration: none\">&#x22A2;&nbsp;</a><a class=\"ProveItLink\" href=\"__pv_it/9bd70eedb6061c4a72bd040e3905faa0e7d54a0b0/expr.ipynb\"><img src=\"data:image/png;base64,iVBORw0KGgoAAAANSUhEUgAAADEAAAAPBAMAAAC/wjryAAAAMFBMVEX///+6urqYmJgQEBDu7u5m\n",
       "ZmZUVFQyMjJERESqqqoiIiLc3NzMzMyIiIh2dnYAAABqS+z4AAAAAXRSTlMAQObYZgAAALpJREFU\n",
       "GNNjYEAHWhb95RYKDNhAgRvDCQ0HbDIN+xg4uBOQRTRWrSqAyrBuKECSOHEFoYd1QwOI9fbuASDJ\n",
       "UoJkGhsjyLRdEzhAWtk2IMnMCge5YB0D2wQgxYFwweZVy0EirF8g/MPlQAB1gSgHSAtzA0RmB5Kr\n",
       "WWVAgv4PIHxmZP+06AJpfmBAgE29gCRzjBXoXNYEBleQqxlWIoUO34QcIOOdEkS1W6MDLERrGDrq\n",
       "JyAFglzXKuQwAQDAXjdf5nEJUwAAAABJRU5ErkJggg==\n",
       "\" style=\"display:inline;vertical-align:middle;\" /></a></span>"
      ],
      "text/plain": [
       "{c in (1,3]} |- c in Reals"
      ]
     },
     "execution_count": 64,
     "metadata": {},
     "output_type": "execute_result"
    }
   ],
   "source": [
    "# Variable Element in an Half-Open Interval (1,3]\n",
    "IntervalOC(one, three).deduceMemberInReals(\n",
    "        c, assumptions=[InSet(c, IntervalOC(one, three))])"
   ]
  },
  {
   "cell_type": "code",
   "execution_count": 65,
   "metadata": {},
   "outputs": [
    {
     "data": {
      "text/html": [
       "<span style=\"font-size:20px;\"><a class=\"ProveItLink\" href=\"__pv_it/7fdd628163eac037854e0bc9e2dd37e7c08be16f0/expr.ipynb\"><img src=\"data:image/png;base64,iVBORw0KGgoAAAANSUhEUgAAAGEAAAAVBAMAAACkm51HAAAAMFBMVEX///+IiIi6urrc3NxERETM\n",
       "zMwQEBCqqqpUVFQiIiJ2dnYyMjLu7u5mZmaYmJgAAABN0h6tAAAAAXRSTlMAQObYZgAAAaBJREFU\n",
       "OMtjYGDgu8dAJGC9eABE8ezCJsm4OwBVgN0ASDClgph8H4C67rqgKeBSQOJYrXJnYGgGsW6D5SYw\n",
       "MJxg4PqEqaPsAITNfIGh/gHDaRBzJUzHHQaGNHQdPF39UB2M3xn4JzBwCSDryGRg6DcAyz6ZOXMD\n",
       "zI73UB1MSQz8Gxh4EpB17D/A0A/2SIgMkqtgOoAA6CqGTcg6gGA+SJpnDwNWHTyzgMRaIF4G4nGA\n",
       "XcH0C8w2wKqDeSXQowyvgfg9iFsGdg5nA4hkYcBuB4MYkFsJpLkvAF0+GSx0F0yG7QaCDVh0sOUw\n",
       "MMSDGJ3AEFMD2cF4ASxhgtUOZgMGlu8QHdwgp3A4AIlakDDQKKw6+P+AdWjC/AEKK9YFDIwgHbwC\n",
       "2HSwOTBw/oH4fBlMh+WqtZ1gyenIOuQPMPD8BqW8B+D4uIUSg////wQrPOF0AK7jRv7eBwwzQXzd\n",
       "u05AcitaDEKBlicilYATOSIWJ8B1JGDLHzAdXAgReEoE5Q/cOg7CRU7D8wfDLnw6HsBFnCGpGOxU\n",
       "bPmccTZapuQzgOZzABcoe0uozmMqAAAAAElFTkSuQmCC\n",
       "\" style=\"display:inline;vertical-align:middle;\" /></a> <a class=\"ProveItLink\" href=\"__pv_it/de3be737ca104ef94a75a028e936acbfb7b898070/proof.ipynb\" style=\"text-decoration: none\">&#x22A2;&nbsp;</a><a class=\"ProveItLink\" href=\"__pv_it/22bf67533c5cf1a371314dac3d2b20c16d8c560d0/expr.ipynb\"><img src=\"data:image/png;base64,iVBORw0KGgoAAAANSUhEUgAAADIAAAAPBAMAAABU9YHxAAAAMFBMVEX///+YmJiqqqqIiIgyMjLc\n",
       "3NwiIiIQEBC6urp2dnZUVFTMzMxERERmZmbu7u4AAADrYmUNAAAAAXRSTlMAQObYZgAAANVJREFU\n",
       "GNNj4Lt7ZgMDMmBMP/PF/SCQ8YqB8weKDAML3wLug+cYGO4xMJSjyvCwTmA4EMXAUMbAsD4ALCKT\n",
       "luYAk7nKwsDg/4BhPdiiPXZIeq7ygJn5D4AEnx+yaQu6QCyOnyCSKwBJhikXrI5tAZiP5IKyNCcw\n",
       "6y6Y3O4CBFAXzLhwDsRgvgCWiUF29Y09IIYuAyvICnZkGZ6HBgwM3BMYmEEyvAZIMtwLbjMwhM2c\n",
       "uwwskIQUOgyTuDYw+P///w0s8OrEA3iIbuA58gkpvDqPQUIHCgBnrj0uOO3EnwAAAABJRU5ErkJg\n",
       "gg==\n",
       "\" style=\"display:inline;vertical-align:middle;\" /></a></span>"
      ],
      "text/plain": [
       "{2 in [1,3)} |- 2 in Reals"
      ]
     },
     "execution_count": 65,
     "metadata": {},
     "output_type": "execute_result"
    }
   ],
   "source": [
    "# Element in an Half-Open Interval [1,3)\n",
    "IntervalCO(one, three).deduceMemberInReals(\n",
    "        two, assumptions=[InSet(two, IntervalCO(one, three))])"
   ]
  },
  {
   "cell_type": "code",
   "execution_count": 66,
   "metadata": {},
   "outputs": [
    {
     "data": {
      "text/html": [
       "<span style=\"font-size:20px;\"><a class=\"ProveItLink\" href=\"__pv_it/31dac8c4d582427adab97a3e36b8ed377259fff20/expr.ipynb\"><img src=\"data:image/png;base64,iVBORw0KGgoAAAANSUhEUgAAAGEAAAAVBAMAAACkm51HAAAAMFBMVEX///+IiIi6urrc3NxERETM\n",
       "zMwQEBCqqqpUVFQiIiJ2dnYyMjLu7u5mZmaYmJgAAABN0h6tAAAAAXRSTlMAQObYZgAAAYRJREFU\n",
       "OMtjYGDgu8dAJGC9eABE8ezCJim9FU2gGEQwpYJIvg/YdCxCYjOvWlLAwGEAYt4GEVwTcOkoOwBh\n",
       "2zKw/2Pg2QBirsSng6erH6pDvoDhJwPDQuw6+Dxnzobb8R6qQ02B4TcDwzGsOlgdDyC5CqaDAeQq\n",
       "Bm4FVB0LBQOA5OkDDFh1nFwAVHcByFgG4nGAvGRZwAKimhmw6rCaC2TxgRS8B3HLQIbPYuAoAFIO\n",
       "2HUwMCYBXQZyCzfQopDJQAbvH4g3sncDARYdDGkHGFjB8dYpAAwJoB1sEMOZsdthzMDgXwDRwd0A\n",
       "8gdQ2fkFELkErDr+HwDpYJoA8wcorPgfMDCA/HERq44UBob5ByA+XwbTwdvAcBYUAJwFyDrkDzDw\n",
       "AKOO4R04PngXoMTHqncC4HTcooPQcSN/7wOGmUB7mO5eAcYedwDWVMK0BCmVgGMbEYuIVJKAL7Vz\n",
       "wUUQKRF//jgIE4CkdnD+YNiFT8cDmAALKEcxJUGcii2fS6Ln2sewfA4Aoyl+1FKXlMYAAAAASUVO\n",
       "RK5CYII=\n",
       "\" style=\"display:inline;vertical-align:middle;\" /></a> <a class=\"ProveItLink\" href=\"__pv_it/3fe222d3bf7ce2d0fda18281f33d15400131e4020/proof.ipynb\" style=\"text-decoration: none\">&#x22A2;&nbsp;</a><a class=\"ProveItLink\" href=\"__pv_it/9bd70eedb6061c4a72bd040e3905faa0e7d54a0b0/expr.ipynb\"><img src=\"data:image/png;base64,iVBORw0KGgoAAAANSUhEUgAAADEAAAAPBAMAAAC/wjryAAAAMFBMVEX///+6urqYmJgQEBDu7u5m\n",
       "ZmZUVFQyMjJERESqqqoiIiLc3NzMzMyIiIh2dnYAAABqS+z4AAAAAXRSTlMAQObYZgAAALpJREFU\n",
       "GNNjYEAHWhb95RYKDNhAgRvDCQ0HbDIN+xg4uBOQRTRWrSqAyrBuKECSOHEFoYd1QwOI9fbuASDJ\n",
       "UoJkGhsjyLRdEzhAWtk2IMnMCge5YB0D2wQgxYFwweZVy0EirF8g/MPlQAB1gSgHSAtzA0RmB5Kr\n",
       "WWVAgv4PIHxmZP+06AJpfmBAgE29gCRzjBXoXNYEBleQqxlWIoUO34QcIOOdEkS1W6MDLERrGDrq\n",
       "JyAFglzXKuQwAQDAXjdf5nEJUwAAAABJRU5ErkJggg==\n",
       "\" style=\"display:inline;vertical-align:middle;\" /></a></span>"
      ],
      "text/plain": [
       "{c in [1,3)} |- c in Reals"
      ]
     },
     "execution_count": 66,
     "metadata": {},
     "output_type": "execute_result"
    }
   ],
   "source": [
    "# Variable Element in an Half-Open Interval [1,3)\n",
    "IntervalCO(one, three).deduceMemberInReals(\n",
    "        c, assumptions=[InSet(c, IntervalCO(one, three))])"
   ]
  },
  {
   "cell_type": "code",
   "execution_count": 67,
   "metadata": {},
   "outputs": [
    {
     "data": {
      "text/html": [
       "<span style=\"font-size:20px;\"><a class=\"ProveItLink\" href=\"__pv_it/d941ad9100dc29237d6909c3cd523e289561e7450/expr.ipynb\"><img src=\"data:image/png;base64,iVBORw0KGgoAAAANSUhEUgAAAF8AAAAVBAMAAADSoS/MAAAAMFBMVEX///+IiIi6urrc3NxERETM\n",
       "zMwQEBCqqqpUVFQiIiJ2dnYyMjLu7u5mZmaYmJgAAABN0h6tAAAAAXRSTlMAQObYZgAAAYJJREFU\n",
       "OMuNkz9IAnEUx7/n/7PzdGqpwakhCBxaahIJoq0hmiMoCJybipoCJ8WGsIKkIVIIbtZAR7euORWH\n",
       "tgajRSrBfu+dp6f3K3rD796f+9z7/n73ewD0Nv5n/uc6PbSKrKhUNycTb3nAs0ee/i6g1tpUPRx3\n",
       "BKvldeBWOC9cygENhD/cQDBt+V4TJx0GSjbQBPZdQOO+P5TXQzQ3CRwA2QQXXwsFw+6gDwHPLqLG\n",
       "JFCrI8ub2Jp3SLIBYdOShN3QkWmPkALapbXpOwpCLMHzxX5CCnhLTQvoUnTIWtRTWn2Qd8BsnIEZ\n",
       "U6g+50yL1+2qMEMCBNIMIBMDFqiDYnJ+WdrBm4CvZ3UgHaGkWI4pKz4kBaJ9G+jap+QvQiEgEpMB\n",
       "gSTU/viUCFgpP2S4duEEFAE8iR3pHdd/qA0Gn/xeI1UfAZGz7zbUaxEstVJw/bihLW6MrwbbkV0Z\n",
       "AzuyeRgBRRdA8/A7oMWcAM8DKn8BOhyAuLZkQdlMK1dTIziXt2b6B+ISdt1tEnRAAAAAAElFTkSu\n",
       "QmCC\n",
       "\" style=\"display:inline;vertical-align:middle;\" /></a> <a class=\"ProveItLink\" href=\"__pv_it/d7365b4164cfdd9fc8d66836d2f91ffc0ee354720/proof.ipynb\" style=\"text-decoration: none\">&#x22A2;&nbsp;</a><a class=\"ProveItLink\" href=\"__pv_it/22bf67533c5cf1a371314dac3d2b20c16d8c560d0/expr.ipynb\"><img src=\"data:image/png;base64,iVBORw0KGgoAAAANSUhEUgAAADIAAAAPBAMAAABU9YHxAAAAMFBMVEX///+YmJiqqqqIiIgyMjLc\n",
       "3NwiIiIQEBC6urp2dnZUVFTMzMxERERmZmbu7u4AAADrYmUNAAAAAXRSTlMAQObYZgAAANVJREFU\n",
       "GNNj4Lt7ZgMDMmBMP/PF/SCQ8YqB8weKDAML3wLug+cYGO4xMJSjyvCwTmA4EMXAUMbAsD4ALCKT\n",
       "luYAk7nKwsDg/4BhPdiiPXZIeq7ygJn5D4AEnx+yaQu6QCyOnyCSKwBJhikXrI5tAZiP5IKyNCcw\n",
       "6y6Y3O4CBFAXzLhwDsRgvgCWiUF29Y09IIYuAyvICnZkGZ6HBgwM3BMYmEEyvAZIMtwLbjMwhM2c\n",
       "uwwskIQUOgyTuDYw+P///w0s8OrEA3iIbuA58gkpvDqPQUIHCgBnrj0uOO3EnwAAAABJRU5ErkJg\n",
       "gg==\n",
       "\" style=\"display:inline;vertical-align:middle;\" /></a></span>"
      ],
      "text/plain": [
       "{2 in [1,3]} |- 2 in Reals"
      ]
     },
     "execution_count": 67,
     "metadata": {},
     "output_type": "execute_result"
    }
   ],
   "source": [
    "# Element in an Closed Interval [1,3)\n",
    "IntervalCC(one, three).deduceMemberInReals(\n",
    "        two, assumptions=[InSet(two, IntervalCC(one, three))])"
   ]
  },
  {
   "cell_type": "code",
   "execution_count": 68,
   "metadata": {},
   "outputs": [
    {
     "data": {
      "text/html": [
       "<span style=\"font-size:20px;\"><a class=\"ProveItLink\" href=\"__pv_it/40174f9c412c7851c267cb888b338771fe6ed4340/expr.ipynb\"><img src=\"data:image/png;base64,iVBORw0KGgoAAAANSUhEUgAAAF8AAAAVBAMAAADSoS/MAAAAMFBMVEX///+IiIi6urrc3NxERETM\n",
       "zMwQEBCqqqpUVFQiIiJ2dnYyMjLu7u5mZmaYmJgAAABN0h6tAAAAAXRSTlMAQObYZgAAAV5JREFU\n",
       "OMtjYGDgu8dAHGC9eABE8ezCJim9FZXPt1OBgYEpFcz8gE3DIiQ286olBQxcQA0Mt0Fcrgm4NJQd\n",
       "gLBtGdj/QTSsxKeBp6sfqkG+gOEnTg1PZs7cALPhPVSDmgLDb1waQmSQnATTwIDNSQsFA0AhtocB\n",
       "q4aTCyAaloE4HCAnWBawgCgOA6warOYegGh4D+KVgYyexcBRAKRYGLDbwJgE0cB9AejqyUAG7x+I\n",
       "RNhuINiAqYEh7QBYA0OnADAMgDawOUDETbDaYMzA4F8AsaEB5G6g4vMLIFJsWDX8PwDT8B4WSvwP\n",
       "GBhAfuAVwKYhhYFh/gFEKIE08DYwnAX5nWE6sgb5Aww8v4H0OyzxsOodxOwTTgfgGm7k733AMBPI\n",
       "Z7p7RQFn0tDyRCQNcBzDQgpJQwK+5M3FgKEBf344iKIBnB8YduHT8ABZA1MSxJnY8rQkWhZlBGZR\n",
       "cJ4GAAq3dsT60a5iAAAAAElFTkSuQmCC\n",
       "\" style=\"display:inline;vertical-align:middle;\" /></a> <a class=\"ProveItLink\" href=\"__pv_it/57ee17734fa8a265b8f6e3284892d5c395242d790/proof.ipynb\" style=\"text-decoration: none\">&#x22A2;&nbsp;</a><a class=\"ProveItLink\" href=\"__pv_it/9bd70eedb6061c4a72bd040e3905faa0e7d54a0b0/expr.ipynb\"><img src=\"data:image/png;base64,iVBORw0KGgoAAAANSUhEUgAAADEAAAAPBAMAAAC/wjryAAAAMFBMVEX///+6urqYmJgQEBDu7u5m\n",
       "ZmZUVFQyMjJERESqqqoiIiLc3NzMzMyIiIh2dnYAAABqS+z4AAAAAXRSTlMAQObYZgAAALpJREFU\n",
       "GNNjYEAHWhb95RYKDNhAgRvDCQ0HbDIN+xg4uBOQRTRWrSqAyrBuKECSOHEFoYd1QwOI9fbuASDJ\n",
       "UoJkGhsjyLRdEzhAWtk2IMnMCge5YB0D2wQgxYFwweZVy0EirF8g/MPlQAB1gSgHSAtzA0RmB5Kr\n",
       "WWVAgv4PIHxmZP+06AJpfmBAgE29gCRzjBXoXNYEBleQqxlWIoUO34QcIOOdEkS1W6MDLERrGDrq\n",
       "JyAFglzXKuQwAQDAXjdf5nEJUwAAAABJRU5ErkJggg==\n",
       "\" style=\"display:inline;vertical-align:middle;\" /></a></span>"
      ],
      "text/plain": [
       "{c in [1,3]} |- c in Reals"
      ]
     },
     "execution_count": 68,
     "metadata": {},
     "output_type": "execute_result"
    }
   ],
   "source": [
    "# Variable Element in an Closed Interval [1,3)\n",
    "IntervalCC(one, three).deduceMemberInReals(\n",
    "        c, assumptions=[InSet(c, IntervalCC(one, three))])"
   ]
  },
  {
   "cell_type": "markdown",
   "metadata": {},
   "source": [
    "### Testing the `Interval.deduceElemInSet()` methods"
   ]
  },
  {
   "cell_type": "code",
   "execution_count": 69,
   "metadata": {},
   "outputs": [
    {
     "data": {
      "text/html": [
       "<span style=\"font-size:20px;\"> <a class=\"ProveItLink\" href=\"__pv_it/e9a305ab026a6d6b1391dd87e1a031d33fcc18880/proof.ipynb\" style=\"text-decoration: none\">&#x22A2;&nbsp;</a><a class=\"ProveItLink\" href=\"__pv_it/6993c76da336a13ca4212202659a544c5c6b55c30/expr.ipynb\"><img src=\"data:image/png;base64,iVBORw0KGgoAAAANSUhEUgAAAE4AAAAUBAMAAADRkRa/AAAAMFBMVEX///+YmJiqqqqIiIgyMjLc\n",
       "3NwiIiIQEBC6urp2dnZUVFTMzMxERERmZmbu7u4AAADrYmUNAAAAAXRSTlMAQObYZgAAAWJJREFU\n",
       "KM9jYMACAtH4TAEMDHx3z2xAE+Y7gMSJnHmIgWEpA8MrBs4faOpYgNqZ6iBs1gsM+gIMTxgY7jEw\n",
       "lKOpkwXqnvUPwmb+xMCfwMBpwFDGwLA+ACwkk5bmAGakAjEjVB1HBQO/AwNfAYP/A4b1YAfusYMa\n",
       "x5qApA4IgPYyeIAY+Q9AjveDiTNfQFHHlwkk5oKM/gnicgXAJHgEkNWxTgP6gEEEiNkWgGXh9rAp\n",
       "oNpr3sDAoAak74J5212AAOwP9gZUdezAINoPdQ4DQwxCHFkdawADzyewOl0QGyiL3V7+f2B1bQzc\n",
       "ExiYQep4DbD6g/0AA9s/kD/CZs5dBhZJgqnjBDmEGSj5HuhcRgFw+N1k8P///xtY+tWJB9AoAIYz\n",
       "7/IvFxnY8oC83rsngKQ3UrR2HkOKNzDQg4d1ArbkJwtjTIA7xQCbOh5o1PDBZZ9gUwZPp4xwkaNY\n",
       "1WGke8YABgDzK1NZD99f4gAAAABJRU5ErkJggg==\n",
       "\" style=\"display:inline;vertical-align:middle;\" /></a></span>"
      ],
      "text/plain": [
       "|- 2 in (1,3)"
      ]
     },
     "execution_count": 69,
     "metadata": {},
     "output_type": "execute_result"
    }
   ],
   "source": [
    "# Element in an Open Interval (1,3)\n",
    "IntervalOO(one, three).deduceElemInSet(two)"
   ]
  },
  {
   "cell_type": "code",
   "execution_count": 70,
   "metadata": {},
   "outputs": [
    {
     "name": "stdout",
     "output_type": "stream",
     "text": [
      "Proof failure: Proof step failed:\n",
      "Attempting to instantiate |- forall_{a in Reals, b in Reals, x in Reals | a < x, x < b} (x in (a,b)) with {a: 1, b: 3, x: 1}:\n",
      "Unsatisfied condition: 1 < 1\n"
     ]
    }
   ],
   "source": [
    "# but this should NOT work for a discluded endpoint\n",
    "try:\n",
    "    IntervalOO(one, three).deduceElemInSet(one)\n",
    "except ProofFailure as e:\n",
    "    print(\"Proof failure: {}\".format(e))"
   ]
  },
  {
   "cell_type": "code",
   "execution_count": 71,
   "metadata": {},
   "outputs": [
    {
     "data": {
      "text/html": [
       "<span style=\"font-size:20px;\"> <a class=\"ProveItLink\" href=\"__pv_it/e651f4262004f95cdba0d90d97b2d58081027e6f0/proof.ipynb\" style=\"text-decoration: none\">&#x22A2;&nbsp;</a><a class=\"ProveItLink\" href=\"__pv_it/cb13ce3c6dddfe8bd64aef044d2fe4345e7c17860/expr.ipynb\"><img src=\"data:image/png;base64,iVBORw0KGgoAAAANSUhEUgAAAE0AAAAUBAMAAAA6pq28AAAAMFBMVEX///9UVFTMzMzu7u4yMjIQ\n",
       "EBC6uroiIiKIiIiYmJhmZmaqqqpERER2dnbc3NwAAACDMjhQAAAAAXRSTlMAQObYZgAAAS9JREFU\n",
       "KM9jYMAC+Cag8jndExgY3t49ja7OBoXHtICBN4GBbwHDfjTtDH5AvNUAxmMXAKnj+M3AX4BmzQIG\n",
       "Zll5uLpWsDq2MAZ+B4j08fISiAEPgMR8mDq+KWB1QACxl+kETOY5A7I6XhaoOuZaMN8EblEXirp5\n",
       "UHV81xeD+XJw951EVsfcADOPoRVMHoCrq0ZWx8sAV8caDHJeiAsQgKXCkNVtgqrje8DA8xvkLYR5\n",
       "yOqYL0DV8X+GqGMIwGovt9Sq9VENQHWsBxjYP4NEVmD3B9BZYPM4J0DDj30DTOIWiOg3YGD+AlF3\n",
       "AOyPrFXHIC6RSYaqSwfihfFeExjKQWbynv84AeJfKGC7gxxvYMfB4yQBW/IDpgNY2OFVx3AOSlsQ\n",
       "UAdLpxMIqENP9xzuCQDslUyE+MEP2gAAAABJRU5ErkJggg==\n",
       "\" style=\"display:inline;vertical-align:middle;\" /></a></span>"
      ],
      "text/plain": [
       "|- 3 in (1,4]"
      ]
     },
     "execution_count": 71,
     "metadata": {},
     "output_type": "execute_result"
    }
   ],
   "source": [
    "# Element in Half-Open Interval (1,4]\n",
    "IntervalOC(one, four).deduceElemInSet(three)"
   ]
  },
  {
   "cell_type": "code",
   "execution_count": 72,
   "metadata": {},
   "outputs": [
    {
     "data": {
      "text/html": [
       "<span style=\"font-size:20px;\"> <a class=\"ProveItLink\" href=\"__pv_it/8b3c64315f537cc63f11c8cb8d38047365d371330/proof.ipynb\" style=\"text-decoration: none\">&#x22A2;&nbsp;</a><a class=\"ProveItLink\" href=\"__pv_it/6e554f5f95ba25a09a49b5422819d7101dfe64ae0/expr.ipynb\"><img src=\"data:image/png;base64,iVBORw0KGgoAAAANSUhEUgAAAE0AAAAUBAMAAAA6pq28AAAAMFBMVEX///+6urpERESqqqru7u52\n",
       "dnYyMjKYmJjc3NwQEBCIiIhUVFQiIiJmZmbMzMwAAABIfTqqAAAAAXRSTlMAQObYZgAAAR1JREFU\n",
       "KM9jYMACOApQ+ew5AiDqLbo6JxQe3wUGVrC60+jqMoDY0gHG49kAUcc1G00Z+wUGlq374epWQtW1\n",
       "Z0Oldc4cgxjQACTqYeo4yqDqAiDq+LRgMj0MyOpY2SDq2Bsg6tzgFq1FUVcBVefFAFG3A+4+dWR1\n",
       "LAug6gKg6hTg6g4jq2NlgKhjfgBRxzctDQjAUhOR1dlB1bkyQNRxIMxDVscSAFVnfffuz1sgkQlY\n",
       "7WXee/f+3AWQ+ICE8y3s/mBg4ISGH8MkSOgawCRiQcR6BwaWbxB1ChB1Qf+3g12ySQSqTgaIb8/P\n",
       "LWA4AzKTVf93AcQ8KGAMQo43sOPgcSKALfkB0wEs7PCqY9CA0l4E1MHSaQEBdejpnitHAAAHE0U+\n",
       "HDxqPAAAAABJRU5ErkJggg==\n",
       "\" style=\"display:inline;vertical-align:middle;\" /></a></span>"
      ],
      "text/plain": [
       "|- 4 in (1,4]"
      ]
     },
     "execution_count": 72,
     "metadata": {},
     "output_type": "execute_result"
    }
   ],
   "source": [
    "# this should also work for the included (right) endpoint as well\n",
    "IntervalOC(one, four).deduceElemInSet(four)"
   ]
  },
  {
   "cell_type": "code",
   "execution_count": 73,
   "metadata": {},
   "outputs": [
    {
     "name": "stdout",
     "output_type": "stream",
     "text": [
      "Proof failure: Proof step failed:\n",
      "Attempting to instantiate |- forall_{a in Reals, b in Reals, x in Reals | a < x, x <= b} (x in (a,b]) with {a: 1, b: 4, x: 1}:\n",
      "Unsatisfied condition: 1 < 1\n"
     ]
    }
   ],
   "source": [
    "# but this should NOT work for the discluded (left) endpoint\n",
    "try:\n",
    "    IntervalOC(one, four).deduceElemInSet(one)\n",
    "except ProofFailure as e:\n",
    "    print(\"Proof failure: {}\".format(e))"
   ]
  },
  {
   "cell_type": "code",
   "execution_count": 74,
   "metadata": {},
   "outputs": [
    {
     "data": {
      "text/html": [
       "<span style=\"font-size:20px;\"> <a class=\"ProveItLink\" href=\"__pv_it/f4aece74f466d06e03458f9c58cddaacce23dcc70/proof.ipynb\" style=\"text-decoration: none\">&#x22A2;&nbsp;</a><a class=\"ProveItLink\" href=\"__pv_it/b24d4ac43790c9f9a67f00fa0264856dfc5fef970/expr.ipynb\"><img src=\"data:image/png;base64,iVBORw0KGgoAAAANSUhEUgAAAE0AAAAUBAMAAAA6pq28AAAAMFBMVEX///9UVFTMzMzu7u4yMjIQ\n",
       "EBC6uroiIiKIiIiYmJhmZmaqqqpERER2dnbc3NwAAACDMjhQAAAAAXRSTlMAQObYZgAAAWJJREFU\n",
       "KM99krtLw1AUxj/zjm2aboKI7Z8QQXG0iLuCL3AS3JwKCk5iBotrB+cS6CJZFLs5aCcVFMykRSxk\n",
       "cxKUgg5F6n0lTWPpGS7nfPnd87oB/tvxYkq4psdH+yElP0P2H4tRJHkYC4Gch5tqmpuB9R1Feh5y\n",
       "CTC6sMtprg6sR1ElD7QAbQN2iQnm3cG+4DaBQsix3Cnh5pjL60r3Tpxv2UFBNGgphFO2iScfMmHW\n",
       "6dcldiTCGuUsjyR+qTNhGklO++W+7FLOZJ1VaFY0BzgyJS8LymXYpOoqbW9tiVjM+eLOJeOkT+RC\n",
       "ZLt0roF8hifKBhFndziHlSR3Re8Ty0z651sutDLUJvQOlc4SnBTAEPuDyucwq2J/+kWfe2+/TmCB\n",
       "r58kwngA7Pq3vJWpnf6ee70f6Hts4KevKpRi4lm1t/jduDXiT/MYZhEXxEprFCe7kSCXRnFmLGTD\n",
       "odxJ+r+vAX8r6lr2JUBwFgAAAABJRU5ErkJggg==\n",
       "\" style=\"display:inline;vertical-align:middle;\" /></a></span>"
      ],
      "text/plain": [
       "|- 3 in [2,4)"
      ]
     },
     "execution_count": 74,
     "metadata": {},
     "output_type": "execute_result"
    }
   ],
   "source": [
    "# Element in Half-Open Interval [2,4)\n",
    "IntervalCO(two, four).deduceElemInSet(three)"
   ]
  },
  {
   "cell_type": "code",
   "execution_count": 75,
   "metadata": {},
   "outputs": [
    {
     "data": {
      "text/html": [
       "<span style=\"font-size:20px;\"> <a class=\"ProveItLink\" href=\"__pv_it/e25cb33a536b7a054a51d1f5b0cfbd4ee8fd26d10/proof.ipynb\" style=\"text-decoration: none\">&#x22A2;&nbsp;</a><a class=\"ProveItLink\" href=\"__pv_it/9099198584f5e729579b786ec318b708049d5ea10/expr.ipynb\"><img src=\"data:image/png;base64,iVBORw0KGgoAAAANSUhEUgAAAEwAAAAUBAMAAADVZMaCAAAAMFBMVEX///+YmJiqqqqIiIgyMjLc\n",
       "3NwiIiIQEBC6urp2dnZUVFTMzMxERERmZmbu7u4AAADrYmUNAAAAAXRSTlMAQObYZgAAAWFJREFU\n",
       "KM99kj1Iw0AYht821phogoOjs4MgdHFUOnQQBRsHnRyCSMAudlIoDp0EJ7MWLNZB13YrguKkCDoU\n",
       "nBQjgXax4OYvQuPdJXdNUmngwj1vnly+73JA3yVl69EgaQC6cx9LlRLenu8EXgKnQAfKd1zTqzgu\n",
       "ccwDbeAF2I1rmgu5wEsokiSNHaBmsGDSsjK+JptQPwJtZZEUVkDORY0VdzEvVhvqQv0NyCYaFuhs\n",
       "2yU3fTnUAjDc9SFhUK1CxsgPZdWIaIe2Dy1QbYK+WKU8hoiW599k2hQZDuNGllwZrmnNYGfrTLsi\n",
       "HfvJemS1uWD+Cq7NIEXLksNasolVNp92nK8HYB+jNiSqaemQdg7MciyyFtbKlTOGGz0ttVV+MvV3\n",
       "H/fIeETO8z4Zdm5dsb2e55mwGB95J8BS6F8e3FiiU9aly5/oZv9xE5rSS9IDtJZI2higjYvk+j9N\n",
       "2owd54SBP5Y8XGjc81HTAAAAAElFTkSuQmCC\n",
       "\" style=\"display:inline;vertical-align:middle;\" /></a></span>"
      ],
      "text/plain": [
       "|- 2 in [2,4)"
      ]
     },
     "execution_count": 75,
     "metadata": {},
     "output_type": "execute_result"
    }
   ],
   "source": [
    "# this should also work for the included (left) endpoint as well\n",
    "IntervalCO(two, four).deduceElemInSet(two)"
   ]
  },
  {
   "cell_type": "code",
   "execution_count": 76,
   "metadata": {},
   "outputs": [
    {
     "name": "stdout",
     "output_type": "stream",
     "text": [
      "Proof failure: Proof step failed:\n",
      "Attempting to instantiate |- forall_{a in Reals, b in Reals, x in Reals | a <= x, x < b} (x in [a,b)) with {a: 2, b: 4, x: 4}:\n",
      "Unsatisfied condition: 4 < 4\n"
     ]
    }
   ],
   "source": [
    "# but this should NOT work for the discluded (right) endpoint\n",
    "try:\n",
    "    IntervalCO(two, four).deduceElemInSet(four)\n",
    "except ProofFailure as e:\n",
    "    print(\"Proof failure: {}\".format(e))"
   ]
  },
  {
   "cell_type": "code",
   "execution_count": 77,
   "metadata": {},
   "outputs": [
    {
     "data": {
      "text/html": [
       "<span style=\"font-size:20px;\"> <a class=\"ProveItLink\" href=\"__pv_it/884c56dde2e26cf8bd93e96176bb5fb106652bfe0/proof.ipynb\" style=\"text-decoration: none\">&#x22A2;&nbsp;</a><a class=\"ProveItLink\" href=\"__pv_it/5170efaa4135e527f4d95c311f78cb8f36ddd1a80/expr.ipynb\"><img src=\"data:image/png;base64,iVBORw0KGgoAAAANSUhEUgAAAEoAAAAUBAMAAADYerbFAAAAMFBMVEX///+YmJiqqqqIiIgyMjLc\n",
       "3NwiIiIQEBC6urp2dnZUVFTMzMxERERmZmbu7u4AAADrYmUNAAAAAXRSTlMAQObYZgAAASNJREFU\n",
       "KM9jYMAAzC4bUAVEMhj47p5BE+RsQOJEzjzEwDCD4RUD5w9MVUx1EDbrBQZ9AaCqewwM5RiqXs36\n",
       "B7X9EwN/AlBVGQPD+gCwiExamgPMLEaoKo4KBn4HoCr/BwzrwQ7bY4dkI0wVEIBtBIL8B0CCz48B\n",
       "qyq+TAawKo6fIB5XAFZVrNPuQVSxLQBxeRiwm8Vg3gBWdRfM2e4CBA5YVLHXgVQxXwBzYrCaxRrA\n",
       "wPMJpEoXxARqwaqK/x9EFfcEBmaQKl4DbKrYDzCw/QOqCps5dxlYIAlZFTNQ1XugKxkFIOHl////\n",
       "N7DkqxMP4Kp4l3+5yMCWB+T03j0BCQkY6DyGiCEw0IPJzMBMXghVE4hRxWdAjCpGBnyqmFPQEq9J\n",
       "BgB1mllGomsgdAAAAABJRU5ErkJggg==\n",
       "\" style=\"display:inline;vertical-align:middle;\" /></a></span>"
      ],
      "text/plain": [
       "|- 2 in [1,3]"
      ]
     },
     "execution_count": 77,
     "metadata": {},
     "output_type": "execute_result"
    }
   ],
   "source": [
    "# Element in a Closed Interval [1,3]\n",
    "IntervalCC(one, three).deduceElemInSet(two)"
   ]
  },
  {
   "cell_type": "code",
   "execution_count": 78,
   "metadata": {},
   "outputs": [
    {
     "data": {
      "text/html": [
       "<span style=\"font-size:20px;\"> <a class=\"ProveItLink\" href=\"__pv_it/c71793f04009056a05c0b978b004a89d34ead9f70/proof.ipynb\" style=\"text-decoration: none\">&#x22A2;&nbsp;</a><a class=\"ProveItLink\" href=\"__pv_it/203caaba7c2f250f89f57142e12a4e6a34585b490/expr.ipynb\"><img src=\"data:image/png;base64,iVBORw0KGgoAAAANSUhEUgAAAEoAAAAUBAMAAADYerbFAAAAMFBMVEX///+6urrc3NzMzMwiIiJE\n",
       "REQyMjJmZmaIiIiYmJh2dnZUVFTu7u4QEBCqqqoAAABhZHJKAAAAAXRSTlMAQObYZgAAAOlJREFU\n",
       "KM9jYMAAHGkGqALTHDEVMXAJIHG0VsUxMCxkYOC7g0UVTJCpgOH9BKCq06v/YKqCC3L8Y+B3AJnF\n",
       "CVM11cUlAWYWTJDxIgN/ArIq0x4kGzkRFoBthAnw5DBgVcXjxYCkilsBqyqmJTXIqlgZsJvF0CuA\n",
       "pMo2DQgSsKjivYOkShWrWUwKDKz/kFTxYlXF/wdVFXsDNlW8AQwsf0CqOKACfsiqQILnga7knAAJ\n",
       "L/a93yrBkqcDD8BVgQVZfIAc8fJAcEjAgVQIIobA4A1MZiG+lLOAGFU8DcSo4mTAp4rDDS1FtzkC\n",
       "AHnwTc5eZzhCAAAAAElFTkSuQmCC\n",
       "\" style=\"display:inline;vertical-align:middle;\" /></a></span>"
      ],
      "text/plain": [
       "|- 1 in [1,3]"
      ]
     },
     "execution_count": 78,
     "metadata": {},
     "output_type": "execute_result"
    }
   ],
   "source": [
    "# this should also work for the included left endpoint\n",
    "IntervalCC(one, three).deduceElemInSet(one)"
   ]
  },
  {
   "cell_type": "code",
   "execution_count": 79,
   "metadata": {},
   "outputs": [
    {
     "data": {
      "text/html": [
       "<span style=\"font-size:20px;\"> <a class=\"ProveItLink\" href=\"__pv_it/3f216c1df7df691edff9961fc7f75a312fd5d7410/proof.ipynb\" style=\"text-decoration: none\">&#x22A2;&nbsp;</a><a class=\"ProveItLink\" href=\"__pv_it/09200239c191142614f04c177e348408c5fdbbc50/expr.ipynb\"><img src=\"data:image/png;base64,iVBORw0KGgoAAAANSUhEUgAAAEsAAAAUBAMAAAA3uN37AAAAMFBMVEX///9UVFTMzMzu7u4yMjIQ\n",
       "EBC6uroiIiKIiIiYmJhmZmaqqqpERER2dnbc3NwAAACDMjhQAAAAAXRSTlMAQObYZgAAASBJREFU\n",
       "KM9jYMAELU6ofE73BAaGt3dPoym7hsTmu3tnAwNvAgPfAob9EzCVbTWAsF8xcP8EKeP4zcBfgK6M\n",
       "WVYeqqx/A8N3kDK2MAZ+B4gTjpeXwE2bD1WWmsDwBaQMCCCWMp0wQLIUpowBaikDA3MtmGtiwIBV\n",
       "mfkFsDK+64vBXDkGrMreVhlALW0FkwewK2PgCIMqYw0GOS3EBQiwKGMINQCF2wMGnt+gcMRu2jsG\n",
       "hvMbgMr4P0OUMQRgVfbfAKKM9QAD+2eQwAqsymIYGOpBlnJOgIYb+wZkZf0GDMxfgPRMWLhlrToG\n",
       "lmSWSUYoWxjvNYGhHGgi26o1CVCfQgHbHaTIAoc/zLcoyjASEi8DUcosiFM2Ab+ydrREzuGeAAD9\n",
       "O1zavDNXSAAAAABJRU5ErkJggg==\n",
       "\" style=\"display:inline;vertical-align:middle;\" /></a></span>"
      ],
      "text/plain": [
       "|- 3 in [1,3]"
      ]
     },
     "execution_count": 79,
     "metadata": {},
     "output_type": "execute_result"
    }
   ],
   "source": [
    "# this should also work for the included right endpoint\n",
    "IntervalCC(one, three).deduceElemInSet(three)"
   ]
  },
  {
   "cell_type": "code",
   "execution_count": 80,
   "metadata": {},
   "outputs": [
    {
     "name": "stdout",
     "output_type": "stream",
     "text": [
      "Proof failure: Proof step failed:\n",
      "Attempting to instantiate |- forall_{a in Reals, b in Reals, x in Reals | a <= x, x <= b} (x in [a,b]) with {a: 1, b: 3, x: 4}:\n",
      "Unsatisfied condition: 4 <= 3\n"
     ]
    }
   ],
   "source": [
    "# but this should NOT work for a value outside the interval\n",
    "try:\n",
    "    IntervalCC(one, three).deduceElemInSet(four)\n",
    "except ProofFailure as e:\n",
    "    print(\"Proof failure: {}\".format(e))"
   ]
  },
  {
   "cell_type": "markdown",
   "metadata": {},
   "source": [
    "### Testing the `Interval.deduceRescaledMembership()` methods (testing the Scaling of Elements of Intervals To Scaled Intervals)"
   ]
  },
  {
   "cell_type": "code",
   "execution_count": 81,
   "metadata": {},
   "outputs": [
    {
     "data": {
      "text/html": [
       "<span style=\"font-size:20px;\"><a class=\"ProveItLink\" href=\"__pv_it/39d9b9e422e154be01a834ae06af7362a3473c1b0/expr.ipynb\"><img src=\"data:image/png;base64,iVBORw0KGgoAAAANSUhEUgAAAGUAAAAVBAMAAACtcD09AAAAMFBMVEX///+IiIi6urrc3NxERETM\n",
       "zMwQEBCqqqpUVFQiIiJ2dnYyMjLu7u5mZmaYmJgAAABN0h6tAAAAAXRSTlMAQObYZgAAAbVJREFU\n",
       "OMtjYGDgu8dANGC9eABE8ezCLs38AE2gGEQwpYJIvg9A4uwVV3Q9R1AtuMDAYQBi3AYRXBOAdjUw\n",
       "rFdA07MZiMsOwHicDQw8G0CMlTA9vAcY2BJQtfBdYODp6ofrEWtgYFiIoodtAgPHZ4hSz5mzIQaD\n",
       "XPIepof5NVDPMRQ93H8YOL6Cne0IU2XJgKyHixuoh1sBWQ/I3D8g8jTcMbIoeh6D9HBdALKWgbgc\n",
       "YK8x6C8Akc1w//gh6+ERAOnhA6l8D+KXBYCFZ4BJB7ie6ch6uBhAethBLuIGWhYyGSzKewHsnezd\n",
       "QAAWSELWUwrWwwqKSYZOAQYGtQC48xmYEfYg6+FZgNADYjBwgNSxX2AwBskmYHUbe+/d+7kCDEwT\n",
       "YP4Bh1sUA4MwiHMRexgAYxAWBstgephnrboBDnLOApiitSBC/gADz2+IHqBreBegxOn////Benha\n",
       "dKB6NIH4Rv7eBwwzQXZx+f94wMAdgBanUMC0BDntgD0Dd99JRNpJwJp9+C7Akg1cCJFGwfkHC3CG\n",
       "0gdhApC8AM4/DDjyKSzPwbMrC8i1TEkQB98jLm8/hpUHAFklfpqaB/tgAAAAAElFTkSuQmCC\n",
       "\" style=\"display:inline;vertical-align:middle;\" /></a> <a class=\"ProveItLink\" href=\"__pv_it/63fc5d098235474ef9116a7b679f2e7c2dce58c10/proof.ipynb\" style=\"text-decoration: none\">&#x22A2;&nbsp;</a><a class=\"ProveItLink\" href=\"__pv_it/9869edae1b997f3ce21daff513d2386250c97c930/expr.ipynb\"><img src=\"data:image/png;base64,iVBORw0KGgoAAAANSUhEUgAAAKkAAAAUBAMAAAAErwC3AAAAMFBMVEX///9UVFTMzMx2dna6uroQ\n",
       "EBCqqqqIiIgiIiJmZmYyMjJERETu7u6YmJjc3NwAAAC+aOQFAAAAAXRSTlMAQObYZgAAAjBJREFU\n",
       "OMullT9oFEEUxr9zc5fL3eY4sNHqAmJlc5BCUhmwsdNCwVSKYGEj11gERC8I4SrdlIeCaRUxQSwE\n",
       "0WwKUUnhtirELQOiqEkhElzfvJm3f2ZGEHzN3b5vf9/Oe292FugkcOKqm/qCfw2Gt4C3d5/kuXD8\n",
       "fAa11L41XNeKG2UYOBBp+DHCLk7MS3oTwR7CVZttpVrJ43JsHleGgWaX4ekIUzHqZyR9DzgHHLdd\n",
       "34tivA72jGsFBq51GW6mqA9R+y3p80AvxStz9XE00su+LYrEJ+NagdH5QK4E71B1+6j9kPxajN4M\n",
       "WrqoY9fl7qEotmsFRtAiV4IXdTv2S9XeiRFEXOcjSU1GotiuVXhbuRL8gq9O9wvTiV3qNtddbIV2\n",
       "IorHtYDDgXIleJkvlziXjxGNIXsVy7koChDbrgUcoKXhszxILvCdHsxYbbtv6t/RhxScrM+LgvCX\n",
       "5VqCL7Erwey6iGIp3ELt+jlfDrua5i5ZrgUc9sVVdaAR4WtucAWdFBPcgXq1A6w4fS3BjcPj+wsD\n",
       "BatpHQFu5K9cH5OpmdbUoDwtrTiuZZgWoqc1R5vx1uzKUNI7s3OHyE+PdTnfh5EoEjdj3eEKTK7r\n",
       "DJ+iXZtlWS6sZdlPSuntvvnUrEh1RCsmVi48SDCKLRjBxvdEwc3Ud5q9Mb8nnxVvrBuNGH+BpyOf\n",
       "4Dtd3Aj8B6yCX3ry7knY9pX02mvK8JZHaPtObTcSryvDvi/M9v98YQj+A7wYsXUOB33gAAAAAElF\n",
       "TkSuQmCC\n",
       "\" style=\"display:inline;vertical-align:middle;\" /></a></span>"
      ],
      "text/plain": [
       "{2 in (1,4)} |- (2 * 2) in (2 * 1,2 * 4)"
      ]
     },
     "execution_count": 81,
     "metadata": {},
     "output_type": "execute_result"
    }
   ],
   "source": [
    "# Element in an Open Interval (1,3)\n",
    "IntervalOO(one, four).deduceRescaledMembership(two, two,\n",
    "        assumptions=[InSet(two, IntervalOO(one, four))])"
   ]
  },
  {
   "cell_type": "code",
   "execution_count": 82,
   "metadata": {},
   "outputs": [
    {
     "data": {
      "text/html": [
       "<span style=\"font-size:20px;\"> <a class=\"ProveItLink\" href=\"__pv_it/d8b38b8c2710480504bf0c77efd706bda803b9260/proof.ipynb\" style=\"text-decoration: none\">&#x22A2;&nbsp;</a><a class=\"ProveItLink\" href=\"__pv_it/00c6045b5c59af157b52c9eaf27567615628eabe0/expr.ipynb\"><img src=\"data:image/png;base64,iVBORw0KGgoAAAANSUhEUgAAAKcAAAAUBAMAAAAaZjAEAAAAMFBMVEX////MzMxUVFR2dna6uroQ\n",
       "EBCqqqqIiIgiIiJmZmYyMjJERETu7u6YmJjc3NwAAACgK8IjAAAAAXRSTlMAQObYZgAAAjpJREFU\n",
       "OMulVTFoFEEUffHusuft5u4aqzSBNHYXuMIEmwURtE9AMGAaizRqYxEQIgrh0sQj3ZEUKaOISRFE\n",
       "EHUQxECKXCsSXUgTEYOgBAmRy58/s7szu3MQyIfb3Xn73rv/Z/7MAtUucnEvD/3CGWNoPQR2gP3m\n",
       "6wQLOm/ruBBlqcEmqs2rMw4TU8yUApm+QrWN+0m6H1H4i2AtK61E+IHB/ylwV2gfU8wUMh1qwztC\n",
       "7XGMrwJTwJWs6Rdgfgb/ksRHG9rUEjOFTMsRipOoJandAhoRPunR11ZLvVkCroc4Tv/luza1xEwh\n",
       "0wMepRVsCDTqqIQ8GH4UTxYnY5Yfm1pi6PLnuJqnZqnPBApthl/GkMfj7TGXqSUmCpm+k3mMrxp4\n",
       "8Q/1BVeUNoEvk9lfFA5TSywpZLrAg4ey3EC9KI9QFVyun5DL3EzepLyKbPmmmChkyjyUpumyqya8\n",
       "Q7+B3/Lp0gsKBktqjqfIKTjOmppioijTagT/SKeop0+Z/kx1ZHoIfJAJP7FMLTFTVPm1E4WrmJW8\n",
       "IpdfssrvCWVqz6klZopaqNImyicxPjAGL9ILdfGBuVC3uS+yppaYKWQ6QUvdNVrtoDlxmexU8yzE\n",
       "qGyxPatP54WaXUu8p/v0Bj3f7Gwl5I1ejzZjpa4Ogq1439B0FDsrYUJbvvO8i5bIiJmitqkjtvX9\n",
       "2pt0m+ZjULhQdaA4wnWgOOToY4r3Djx/9Pmugj73Nd1x4L7rkM5Ht6+p63Py7RyfE289PAWU+L4y\n",
       "QuOJrgAAAABJRU5ErkJggg==\n",
       "\" style=\"display:inline;vertical-align:middle;\" /></a></span>"
      ],
      "text/plain": [
       "|- (3 * 2) in (3 * 1,3 * 3]"
      ]
     },
     "execution_count": 82,
     "metadata": {},
     "output_type": "execute_result"
    }
   ],
   "source": [
    "# Element in an Half-Open Interval (1,3]\n",
    "IntervalOC(one, three).deduceRescaledMembership(two, three)"
   ]
  },
  {
   "cell_type": "code",
   "execution_count": 83,
   "metadata": {},
   "outputs": [
    {
     "data": {
      "text/html": [
       "<span style=\"font-size:20px;\"> <a class=\"ProveItLink\" href=\"__pv_it/edd979e12e98b461b19684fafb01f73c2e0d1a1d0/proof.ipynb\" style=\"text-decoration: none\">&#x22A2;&nbsp;</a><a class=\"ProveItLink\" href=\"__pv_it/e9d48b3df4c86b8fbf0e18c598ca4e9292776c610/expr.ipynb\"><img src=\"data:image/png;base64,iVBORw0KGgoAAAANSUhEUgAAAKcAAAAUBAMAAAAaZjAEAAAAMFBMVEX////MzMxUVFR2dna6uroQ\n",
       "EBCqqqqIiIgiIiJmZmYyMjJERETu7u6YmJjc3NwAAACgK8IjAAAAAXRSTlMAQObYZgAAAi9JREFU\n",
       "OMuNlTFIW0EYx/82iUlNTLJ0chG6dIuQQaVLoBR0j1BoQReHLm2XDoVCioJEFx/dQh2yKkUdggii\n",
       "HoIoOJhdqg9cLIVSaAlFLPG7717u3b13hXyQ5N19/9//3Xd3uQPybcTiTbQjvVFEn8HsGXBd3tF9\n",
       "ucZeEQ/8iDJRQb78dM7hYbIsYXYTeQ9v9XCPkPiDXDNu+h2D/8KOeRH4mCxLJDvsId1B4VMvsQbM\n",
       "AONx09oc/upyHpcCU4tVEmIzPpJVFPTQXgAlH8dB66Jebwamzyu4Dd9yFZharJIQe8PNsIQtgVIR\n",
       "QxVujHwMRwqr/J6pxSoJsR+4nEWz1lWBhMfdX2Gano65TC1WSojdl7M9sWYkkr9pprmkcBNI0+tl\n",
       "4TC1WJYQu8St93IkOZXJjFIZPPlZWCNNV+WjiJZvslJCLAuRekVf52rGG/QZ+CWfHm1QNLUpZsgp\n",
       "dxs1NVkpIZZM8z6ynWCI9DJPm/4wR/oTOJS7f8EytVglIZbKL9yphIrXUpjk8lOmaVcoU3tOLVZJ\n",
       "iKWFSm0jc9dLDIwh7QcL9fCdYfqSt0XU1GKVhNhJWq62sdduypNPyE7tniXD9Ju1T2tCza7FKgmx\n",
       "U9SYbrS0eqvbpb/akDqUjlpCmyYbXypa9Xl2vY26iLBKQmzGd51fp8Hvs926sfqRGBT4DzvsuRKO\n",
       "AyUeCfeBKtkDR7/r6IvHidOT2TNHIuv3Y9p2mjLruk4uY9fJSt/XCbH3Q4i8UcI7mPIAAAAASUVO\n",
       "RK5CYII=\n",
       "\" style=\"display:inline;vertical-align:middle;\" /></a></span>"
      ],
      "text/plain": [
       "|- (3 * 2) in [3 * 1,3 * 3)"
      ]
     },
     "execution_count": 83,
     "metadata": {},
     "output_type": "execute_result"
    }
   ],
   "source": [
    "# Element in an Half-Open Interval [1,3)\n",
    "IntervalCO(one, three).deduceElemInSet(two)\n",
    "IntervalCO(one, three).deduceRescaledMembership(two, three)"
   ]
  },
  {
   "cell_type": "code",
   "execution_count": 84,
   "metadata": {},
   "outputs": [
    {
     "data": {
      "text/html": [
       "<span style=\"font-size:20px;\"><a class=\"ProveItLink\" href=\"__pv_it/944841dc1aaf99ee4f9af876a3ed9e45301a97640/expr.ipynb\"><img src=\"data:image/png;base64,iVBORw0KGgoAAAANSUhEUgAAAF8AAAAVBAMAAADSoS/MAAAAMFBMVEX///+IiIi6urrc3NxERETM\n",
       "zMwQEBCqqqpUVFQiIiJ2dnYyMjLu7u5mZmaYmJgAAABN0h6tAAAAAXRSTlMAQObYZgAAAZlJREFU\n",
       "OMtjYGDgu8dAHGC9eABE8ezCJsm4OwBV4PUkBgamVBCL7wMDA/OqJQWo8lwKDAwLX8E1xTIwLAJS\n",
       "t8FSExgYbBnY/2Fo4C7gmQzjzoBoWAnTIF/A8BNDwzMGhtUwB2agaVBTYPgNkXoyc+YGqAYPBob6\n",
       "AxBRux1oGhhgTgqRQdjwg4FBH+qzBZgaTi4Ah9gehJN4/gI1CIA5fAZQDctAPA6QE6zmgi3nMEBo\n",
       "YP7FwBAP0XCQAarhPYhXBg47xiQQyYLkaWagDfELIC6CaeC+AHQ1NOjSQFaE7QaCDehOYg+AaWDo\n",
       "BAqoAW0wZmDwB/nPBDlYgZ6uB3v6FAPchgaQux0YGP4fgGhgQ9bgAnQz2GcVd+9+u4jwAyiUUhgY\n",
       "5oPkeAWwRxxDBlIogTS8g8XDdCQNnAU8qQznwT4CmYgSD0x3ryiAJU44HYBr4FkoEcDAOQfEW/K/\n",
       "Dz3iYEDLE540IKAGJoPQkIAtP8A1LMDQAMoPuDXwCCBrAOcHhl34NPAxIGlgAicHBnZseZpxNloW\n",
       "lZ4EydMAEat7PTkstd8AAAAASUVORK5CYII=\n",
       "\" style=\"display:inline;vertical-align:middle;\" /></a> <a class=\"ProveItLink\" href=\"__pv_it/cc839d67eebf48809a3e07c8577394bed290d0910/proof.ipynb\" style=\"text-decoration: none\">&#x22A2;&nbsp;</a><a class=\"ProveItLink\" href=\"__pv_it/137852cf22e08f347d527c7f91905d10c66bc64c0/expr.ipynb\"><img src=\"data:image/png;base64,iVBORw0KGgoAAAANSUhEUgAAAKUAAAAUBAMAAAAek+A5AAAAMFBMVEX///9UVFTMzMx2dna6uroQ\n",
       "EBCqqqqIiIgiIiJmZmYyMjJERETu7u6YmJjc3NwAAAC+aOQFAAAAAXRSTlMAQObYZgAAAlZJREFU\n",
       "OMuNlb1rFEEYxp/b3exdLnubw0oRTMB/YPEKCSncJmAheEUCfjSHnY2kEUmhngghpnFTyZFArCSk\n",
       "0CNNBNGsSPA0Ra4WDAc2sTF+EUM4XWfnc/d2Du6tZt6d5zfzfuwM4LaRsVu9jvz6OAaz0poP7AAf\n",
       "ljekz61M1pDr9Kw0fTiNV4pr3j3HR0ktYATxUjyHU8YFX3i/wv4L52mW+Rbmbzl/hhbbNqUFCuV4\n",
       "aSnAcIihqvDer+EIOJ9lrgAzMsAqTLZtSgvcpsxCB0N15P4J75SPY2BbiF8uLHLmFWBMpGSkDLtL\n",
       "Rykt3E+UuQ8Uu8j9VHuR2FFk8RiboTznixBjIqGjZViHdJTWmkXKnGN56CpmyyMfAzr8GKrYiT0W\n",
       "090A1h+ZQ6XdY8zXdHLZk/4vj4iyxLJ1Bkmm9UtMDzwYkqm0zixjztPZA+rivThN4q/TYTPFJEUl\n",
       "Fp/1IIAhN1BaE4w5TatHQ93lHTQTwvhO03ltnZhkNqj4uCf2hPZGkjknmgv4BmzVONNNnTMfyGOR\n",
       "GtmH/JPSOh5U7HYQo5hFYcy0WOzVJPMmXNlLTZR4ZRJa+1Rj9eosr9FZ4J5QX6fl5TV6kmAaHvKd\n",
       "TM+ntKRd6TknSIgPK0t14f1M+3OY1bJQU8z9ysRJqZ3H9jjNbEpLmM146UXSt1EUSb/VWCZxFll3\n",
       "O6cvqZ6PoiOpfXfnBLAQ9mhhbv1os39TYy2xw6T8N7Nmhzopu0M0prlDNGr0YeKNxq+767L2vi9z\n",
       "R+Mf6QzCbPdl6t6OvczbsTjo25Ff8/8Dg7KoFYrLGCQAAAAASUVORK5CYII=\n",
       "\" style=\"display:inline;vertical-align:middle;\" /></a></span>"
      ],
      "text/plain": [
       "{3 in [0,4]} |- (2 * 3) in [2 * 0,2 * 4]"
      ]
     },
     "execution_count": 84,
     "metadata": {},
     "output_type": "execute_result"
    }
   ],
   "source": [
    "# Element in an Closed Interval [1,3]\n",
    "IntervalCC(zero, four).deduceRescaledMembership(three, two,\n",
    "        assumptions=[InSet(three, IntervalCC(zero, four))])"
   ]
  },
  {
   "cell_type": "markdown",
   "metadata": {},
   "source": [
    "### Testing the `Interval.deduceLeft/RightRelaxedMembership()` methods"
   ]
  },
  {
   "cell_type": "code",
   "execution_count": 85,
   "metadata": {},
   "outputs": [
    {
     "data": {
      "text/html": [
       "<span style=\"font-size:20px;\"><a class=\"ProveItLink\" href=\"__pv_it/39d9b9e422e154be01a834ae06af7362a3473c1b0/expr.ipynb\"><img src=\"data:image/png;base64,iVBORw0KGgoAAAANSUhEUgAAAGUAAAAVBAMAAACtcD09AAAAMFBMVEX///+IiIi6urrc3NxERETM\n",
       "zMwQEBCqqqpUVFQiIiJ2dnYyMjLu7u5mZmaYmJgAAABN0h6tAAAAAXRSTlMAQObYZgAAAbVJREFU\n",
       "OMtjYGDgu8dANGC9eABE8ezCLs38AE2gGEQwpYJIvg9A4uwVV3Q9R1AtuMDAYQBi3AYRXBOAdjUw\n",
       "rFdA07MZiMsOwHicDQw8G0CMlTA9vAcY2BJQtfBdYODp6ofrEWtgYFiIoodtAgPHZ4hSz5mzIQaD\n",
       "XPIepof5NVDPMRQ93H8YOL6Cne0IU2XJgKyHixuoh1sBWQ/I3D8g8jTcMbIoeh6D9HBdALKWgbgc\n",
       "YK8x6C8Akc1w//gh6+ERAOnhA6l8D+KXBYCFZ4BJB7ie6ch6uBhAethBLuIGWhYyGSzKewHsnezd\n",
       "QAAWSELWUwrWwwqKSYZOAQYGtQC48xmYEfYg6+FZgNADYjBwgNSxX2AwBskmYHUbe+/d+7kCDEwT\n",
       "YP4Bh1sUA4MwiHMRexgAYxAWBstgephnrboBDnLOApiitSBC/gADz2+IHqBreBegxOn////Benha\n",
       "dKB6NIH4Rv7eBwwzQXZx+f94wMAdgBanUMC0BDntgD0Dd99JRNpJwJp9+C7Akg1cCJFGwfkHC3CG\n",
       "0gdhApC8AM4/DDjyKSzPwbMrC8i1TEkQB98jLm8/hpUHAFklfpqaB/tgAAAAAElFTkSuQmCC\n",
       "\" style=\"display:inline;vertical-align:middle;\" /></a> <a class=\"ProveItLink\" href=\"__pv_it/00c9b03092ab2b15df3546ea838bb2546c5d589f0/proof.ipynb\" style=\"text-decoration: none\">&#x22A2;&nbsp;</a><a class=\"ProveItLink\" href=\"__pv_it/46f1692adc3b08765efcb1c6352f75aab8e7101a0/expr.ipynb\"><img src=\"data:image/png;base64,iVBORw0KGgoAAAANSUhEUgAAAEwAAAAUBAMAAADVZMaCAAAAMFBMVEX///+YmJiqqqqIiIgyMjLc\n",
       "3NwiIiIQEBC6urp2dnZUVFTMzMxERERmZmbu7u4AAADrYmUNAAAAAXRSTlMAQObYZgAAATRJREFU\n",
       "KM9jYMAAzC4bUAWYAhgY+O6eQRPlbEDh7mVgWMrA8IqB8wemMvUHcG4WA8MTBoZ7DAzl6Mr4Vq6H\n",
       "K2OuAooYMJQxMKwPAAvIpKU5wEyThysL9AI6rIDB/wHDerDj9tghWYpQNgGojMEDxMoHifH5MWBT\n",
       "xhgAUjYXiDl+gvhcAViVPWYAKRMBYrYFID4PA1ZlE8DK1ID4Lpi/3QUIMLzAtAGsbD/QxxfAAjFY\n",
       "TXvJAFOmy8AKchY7VmVad+9+v8zA0MbAPYGBGaSM1wCr2xgYqsBeCJs5dxmYm4SszP4BA98XCLcG\n",
       "iG8y+P///w3MfXXiAVzZrXpfAYY0MH/O/4UMDN5Icdl5DBFZYF/CLeZLwExucGWcCBEDPMoew0We\n",
       "MOBRJgAXOYpNGXMKWnJmDGAAALsZVvF6FiO4AAAAAElFTkSuQmCC\n",
       "\" style=\"display:inline;vertical-align:middle;\" /></a></span>"
      ],
      "text/plain": [
       "{2 in (1,4)} |- 2 in [1,4)"
      ]
     },
     "execution_count": 85,
     "metadata": {},
     "output_type": "execute_result"
    }
   ],
   "source": [
    "# Element in open interval (1,4) means element in half-open interval [1,4)\n",
    "IntervalOO(one, four).deduceLeftRelaxedMembership(two,\n",
    "        assumptions=[InSet(two, IntervalOO(one, four))])"
   ]
  },
  {
   "cell_type": "code",
   "execution_count": 86,
   "metadata": {},
   "outputs": [
    {
     "data": {
      "text/html": [
       "<span style=\"font-size:20px;\"><a class=\"ProveItLink\" href=\"__pv_it/39d9b9e422e154be01a834ae06af7362a3473c1b0/expr.ipynb\"><img src=\"data:image/png;base64,iVBORw0KGgoAAAANSUhEUgAAAGUAAAAVBAMAAACtcD09AAAAMFBMVEX///+IiIi6urrc3NxERETM\n",
       "zMwQEBCqqqpUVFQiIiJ2dnYyMjLu7u5mZmaYmJgAAABN0h6tAAAAAXRSTlMAQObYZgAAAbVJREFU\n",
       "OMtjYGDgu8dANGC9eABE8ezCLs38AE2gGEQwpYJIvg9A4uwVV3Q9R1AtuMDAYQBi3AYRXBOAdjUw\n",
       "rFdA07MZiMsOwHicDQw8G0CMlTA9vAcY2BJQtfBdYODp6ofrEWtgYFiIoodtAgPHZ4hSz5mzIQaD\n",
       "XPIepof5NVDPMRQ93H8YOL6Cne0IU2XJgKyHixuoh1sBWQ/I3D8g8jTcMbIoeh6D9HBdALKWgbgc\n",
       "YK8x6C8Akc1w//gh6+ERAOnhA6l8D+KXBYCFZ4BJB7ie6ch6uBhAethBLuIGWhYyGSzKewHsnezd\n",
       "QAAWSELWUwrWwwqKSYZOAQYGtQC48xmYEfYg6+FZgNADYjBwgNSxX2AwBskmYHUbe+/d+7kCDEwT\n",
       "YP4Bh1sUA4MwiHMRexgAYxAWBstgephnrboBDnLOApiitSBC/gADz2+IHqBreBegxOn////Benha\n",
       "dKB6NIH4Rv7eBwwzQXZx+f94wMAdgBanUMC0BDntgD0Dd99JRNpJwJp9+C7Akg1cCJFGwfkHC3CG\n",
       "0gdhApC8AM4/DDjyKSzPwbMrC8i1TEkQB98jLm8/hpUHAFklfpqaB/tgAAAAAElFTkSuQmCC\n",
       "\" style=\"display:inline;vertical-align:middle;\" /></a> <a class=\"ProveItLink\" href=\"__pv_it/72eac3ca847f8e25180840917e427668c7a2495b0/proof.ipynb\" style=\"text-decoration: none\">&#x22A2;&nbsp;</a><a class=\"ProveItLink\" href=\"__pv_it/3549b9e9be2abdea9002a0c427d0581a64655e360/expr.ipynb\"><img src=\"data:image/png;base64,iVBORw0KGgoAAAANSUhEUgAAAEwAAAAUBAMAAADVZMaCAAAAMFBMVEX///+YmJiqqqqIiIgyMjLc\n",
       "3NwiIiIQEBC6urp2dnZUVFTMzMxERERmZmbu7u4AAADrYmUNAAAAAXRSTlMAQObYZgAAATJJREFU\n",
       "KM9jYMACAtH4IhkMfHfPbEAT5TuAwt3LwDCD4RUD5w80ZSwBDAxMdXBuFkjZPQaGcjRlsgwMr2b9\n",
       "g/GYq0DKyhgY1geA+TJpaQ5gRioQM8KVBXqBlPk/YFgPdtweO6g4awKKsglgZUCQ/wDkbj+4LReQ\n",
       "lTEGQJVx/ARxuQJgyngEkJU9ZoAqY1sAloT7gE0BWdkEmLK7YO52FyAAe4G9AUkZ0waoMrBTGBhi\n",
       "4KahKHvJAFWmy8AKchY7dku17t79fhmojHsCAzNIGa8Bdi8wMICDN2zm3GVgXhJMmBPkCmagsveQ\n",
       "0K4BB+///9/AvFcnHkCUcQCDl3f5l4sMbHkg7pz/CyHBCwWdx5AiCwz0YIwZ2JKbLDye8CrjgUYI\n",
       "nwFeZbBkyciAVxlGIjfJAAA1IlRMHgPfOgAAAABJRU5ErkJggg==\n",
       "\" style=\"display:inline;vertical-align:middle;\" /></a></span>"
      ],
      "text/plain": [
       "{2 in (1,4)} |- 2 in (1,4]"
      ]
     },
     "execution_count": 86,
     "metadata": {},
     "output_type": "execute_result"
    }
   ],
   "source": [
    "# Element in open interval (1,4) means element in half-open interval (1,4]\n",
    "IntervalOO(one, four).deduceRightRelaxedMembership(two,\n",
    "        assumptions=[InSet(two, IntervalOO(one, four))])"
   ]
  },
  {
   "cell_type": "code",
   "execution_count": 87,
   "metadata": {},
   "outputs": [
    {
     "data": {
      "text/html": [
       "<span style=\"font-size:20px;\"><a class=\"ProveItLink\" href=\"__pv_it/39d9b9e422e154be01a834ae06af7362a3473c1b0/expr.ipynb\"><img src=\"data:image/png;base64,iVBORw0KGgoAAAANSUhEUgAAAGUAAAAVBAMAAACtcD09AAAAMFBMVEX///+IiIi6urrc3NxERETM\n",
       "zMwQEBCqqqpUVFQiIiJ2dnYyMjLu7u5mZmaYmJgAAABN0h6tAAAAAXRSTlMAQObYZgAAAbVJREFU\n",
       "OMtjYGDgu8dANGC9eABE8ezCLs38AE2gGEQwpYJIvg9A4uwVV3Q9R1AtuMDAYQBi3AYRXBOAdjUw\n",
       "rFdA07MZiMsOwHicDQw8G0CMlTA9vAcY2BJQtfBdYODp6ofrEWtgYFiIoodtAgPHZ4hSz5mzIQaD\n",
       "XPIepof5NVDPMRQ93H8YOL6Cne0IU2XJgKyHixuoh1sBWQ/I3D8g8jTcMbIoeh6D9HBdALKWgbgc\n",
       "YK8x6C8Akc1w//gh6+ERAOnhA6l8D+KXBYCFZ4BJB7ie6ch6uBhAethBLuIGWhYyGSzKewHsnezd\n",
       "QAAWSELWUwrWwwqKSYZOAQYGtQC48xmYEfYg6+FZgNADYjBwgNSxX2AwBskmYHUbe+/d+7kCDEwT\n",
       "YP4Bh1sUA4MwiHMRexgAYxAWBstgephnrboBDnLOApiitSBC/gADz2+IHqBreBegxOn////Benha\n",
       "dKB6NIH4Rv7eBwwzQXZx+f94wMAdgBanUMC0BDntgD0Dd99JRNpJwJp9+C7Akg1cCJFGwfkHC3CG\n",
       "0gdhApC8AM4/DDjyKSzPwbMrC8i1TEkQB98jLm8/hpUHAFklfpqaB/tgAAAAAElFTkSuQmCC\n",
       "\" style=\"display:inline;vertical-align:middle;\" /></a> <a class=\"ProveItLink\" href=\"__pv_it/115fa329df1a6d9f1e7e942ba607c12b7139421d0/proof.ipynb\" style=\"text-decoration: none\">&#x22A2;&nbsp;</a><a class=\"ProveItLink\" href=\"__pv_it/8d5ab7c64450c99f551d7f474d96b97f674d23ee0/expr.ipynb\"><img src=\"data:image/png;base64,iVBORw0KGgoAAAANSUhEUgAAAEoAAAAUBAMAAADYerbFAAAAMFBMVEX///+YmJiqqqqIiIgyMjLc\n",
       "3NwiIiIQEBC6urp2dnZUVFTMzMxERERmZmbu7u4AAADrYmUNAAAAAXRSTlMAQObYZgAAAQ9JREFU\n",
       "KM9jYMAAzC4bUAVEMhj47p5BE+RsQOHuZWCYwfCKgfMHpiqmOjg3C6TqHgNDOYaqV7P+we2vAqkq\n",
       "Y2BYHwDmy6SlOcDMYoSrCvQCqfJ/wLAe7LA9dkg2IlRNAKsCgvwHQILPjwGbKsYAqCqOnyAuVwBW\n",
       "VY8ZoKrYFoC4PAxYVU2AqboL5m53AQIM1zNtgKpivgDmx2A16yUDVJUuAyvISexYVWndvfv9MlAV\n",
       "9wQGZpAqXgOs7mJgAIdq2My5y8C8JGRVzEBV78GuZKgBh+r//9/AvFcnHsBV8S7/cpGBLQ/Em/N/\n",
       "ISRUoaDzGCKGwEAPJjMDM3khVE0gRhWfATGqGBnwqWJOQUu8JhkAGjBX/+A0354AAAAASUVORK5C\n",
       "YII=\n",
       "\" style=\"display:inline;vertical-align:middle;\" /></a></span>"
      ],
      "text/plain": [
       "{2 in (1,4)} |- 2 in [1,4]"
      ]
     },
     "execution_count": 87,
     "metadata": {},
     "output_type": "execute_result"
    }
   ],
   "source": [
    "# Element in open interval (1,4) means element in half-open interval (1,4]\n",
    "IntervalOO(one, four).deduceLeftRightRelaxedMembership(two,\n",
    "        assumptions=[InSet(two, IntervalOO(one, four))])"
   ]
  },
  {
   "cell_type": "code",
   "execution_count": 88,
   "metadata": {},
   "outputs": [
    {
     "data": {
      "text/html": [
       "<span style=\"font-size:20px;\"><a class=\"ProveItLink\" href=\"__pv_it/87ef4d30930eeac79c96cbc6196c9547c4f4d6e80/expr.ipynb\"><img src=\"data:image/png;base64,iVBORw0KGgoAAAANSUhEUgAAAGEAAAAVBAMAAACkm51HAAAAMFBMVEX///+IiIi6urrc3NxERETM\n",
       "zMwQEBCqqqpUVFQiIiJ2dnYyMjLu7u5mZmaYmJgAAABN0h6tAAAAAXRSTlMAQObYZgAAAcJJREFU\n",
       "OMuNkz1IQlEUx//61Px4qVMENTg1BJFDSw0hIlSbQ7QagUHQ4NRU2Oqk2BBFkDYEGoFzBTq6ZXMq\n",
       "DtFQiNFihWHnnvueH0+HzqDnnHt/9/zPve8AcNfxT7M+lcSfejd+edUQv6cBc1R47g+iaqGwYYMa\n",
       "ALJvWnYlvwZckfMsImcKKMP5aSBcfrhi6gn7SgXxBhM5nagCuwaiCbwCN+yb2vCkhok9IOnnxZez\n",
       "swI7dPo6EOdWzTvwFIaJYglJlrw5q5VQKPsFLMa02KiK7FKcpj7ookwVqL9EeLV7OJedX4vAzirM\n",
       "P+z7dcLSgEKpiCSUXFUSLREdsBzHMe/rNe6IQaEakYwWT/mYcFVIubzAGv9u3ZNxTZtvSBVs+0wg\n",
       "QYm5sJQtbKlXgwjReZw7V/ywtGUNIcVOj4sjkaV9g6oQIt18u56OTrT0u7JmYBLEpHeg8/4L2gJw\n",
       "dPp3JYjl/G2C1051wlkRddQoHqktd2PkPYrd7jdvLAdLkjBTVs1Oh+G4oGihFsTIC2o2v9H/SqQd\n",
       "6k6f2B47Hk3dyYwQYj7GmEV7ftU7SPB8YPwMioniAzFA0EcsbKL+r6mdScs5/wP4aYGx8h27BwAA\n",
       "AABJRU5ErkJggg==\n",
       "\" style=\"display:inline;vertical-align:middle;\" /></a> <a class=\"ProveItLink\" href=\"__pv_it/4df289a0734cc6bbdfb3e2b5ec550745d86ce5690/proof.ipynb\" style=\"text-decoration: none\">&#x22A2;&nbsp;</a><a class=\"ProveItLink\" href=\"__pv_it/00122e8de3ea18f0001b43782bcce3e19691068b0/expr.ipynb\"><img src=\"data:image/png;base64,iVBORw0KGgoAAAANSUhEUgAAAEoAAAAUBAMAAADYerbFAAAAMFBMVEX///+YmJiqqqqIiIgyMjLc\n",
       "3NwiIiIQEBC6urp2dnZUVFTMzMxERERmZmbu7u4AAADrYmUNAAAAAXRSTlMAQObYZgAAAVBJREFU\n",
       "KM9jYMAAzC4bUAVEMhj47p5BE+RsYGCYLAkVjJx5iIFhBsMrBs4fGKpYFPhSwWzWCwz6AkBV9xgY\n",
       "yjFUiTMwTIHY/omBPwGoqoyBYX0AWEQmLc0BquoUA4P+AxCbo4KB3wGoyv8Bw3qwG/bYIcz6xcDQ\n",
       "rwDlgm0EgnyQNj4/hI18f4GqDCA8vkwGsCqOnyAeVwBCFStQZD9EFeu0exBVbAtAXB4k17MCzdo/\n",
       "Aco1bwCrugvmbHcBAgdMGxnY60CqmC+AOTHIIQF0vT7Y9awBDDyfQKp0QUygFmRVZxgY5MEhwf8P\n",
       "oop7AgMzSBWvAbZQZT/AwPYPqCps5txlYIEkJFVsCnzVDO+BrmQUgISX////38CSr048gKvim2y1\n",
       "gYEtD8jpvXsCEhIw0HkMHkMQoAeTmYGZvBCqJhCjis+AGFWMDPhUMaegJV6TDAADTF2+0dXKQwAA\n",
       "AABJRU5ErkJggg==\n",
       "\" style=\"display:inline;vertical-align:middle;\" /></a></span>"
      ],
      "text/plain": [
       "{2 in (0,3]} |- 2 in [0,3]"
      ]
     },
     "execution_count": 88,
     "metadata": {},
     "output_type": "execute_result"
    }
   ],
   "source": [
    "# Element in half-open interval (0,3] means element in closed interval [0,3]\n",
    "IntervalOC(zero, three).deduceRelaxedMembership(two,\n",
    "        assumptions=[InSet(two, IntervalOC(zero, three))])"
   ]
  },
  {
   "cell_type": "code",
   "execution_count": 89,
   "metadata": {},
   "outputs": [
    {
     "data": {
      "text/html": [
       "<span style=\"font-size:20px;\"><a class=\"ProveItLink\" href=\"__pv_it/30030e2f38f7c96513a5dd33f20a0b86aab47b9f0/expr.ipynb\"><img src=\"data:image/png;base64,iVBORw0KGgoAAAANSUhEUgAAAGEAAAAVBAMAAACkm51HAAAAMFBMVEX///+IiIi6urrc3NxERETM\n",
       "zMwQEBCqqqpUVFQiIiJ2dnYyMjLu7u5mZmaYmJgAAABN0h6tAAAAAXRSTlMAQObYZgAAAcxJREFU\n",
       "OMuNkz1Iw1AQx/9JU2tjTOriJNJJUBAyuOhiUUHcHMTVIigIzoKDWBAHpxYcpDrYRUGhEAQRWsG4\n",
       "iB+DcVUrHdwc/FiKWtB3Lx9NYxUf5HIf+eXdvXcHQH3AP1f4xqSXUmgUFIrj9Y6IzoQ4Q6r6wqjS\n",
       "SOADOQ65c8cxBvZHgRXS7ngsA5xDfvtBHOFC53rIwnIZV6TuucQ9MBsk1CRkw86wAi0DOeYn5oC0\n",
       "/b/HbNawCSmFSJX7xGloBpSknzgxkeaFTHR4e2gpiBV3S5YVDvwEW9t0cMpxLatrC+KrYymbTOTZ\n",
       "s0tWM89C/OC6XiMGcwg7RGiPFYon9jyTucDTiaZISr7KBy2EP1yzPQ4ssneLxTJf564Sl5NFtoyf\n",
       "WaFpHpgiZY2dWBftIVg80Ofbg1UesSsP6ZAqNtFCqTQnmFgiN/uVj5ASUO3T1aqc6HbroLMK5yAQ\n",
       "0RprdINNCUSrduW7LtG/n1/jwQ1fl2zgbFz5pM4r8/u4rbvBr693/uH5kOkRl22rQJbs3tIQk4eB\n",
       "G3RWz5jbJU6Tm25EyXhEstF8uIRc83idSPPxO3Hqea68+UDhL6LseYbtLuapNppzYSswlKruzPk3\n",
       "a4x8ESbG4IcAAAAASUVORK5CYII=\n",
       "\" style=\"display:inline;vertical-align:middle;\" /></a> <a class=\"ProveItLink\" href=\"__pv_it/426645a91f4229265a4cdf65bc90875339d2f1c50/proof.ipynb\" style=\"text-decoration: none\">&#x22A2;&nbsp;</a><a class=\"ProveItLink\" href=\"__pv_it/00122e8de3ea18f0001b43782bcce3e19691068b0/expr.ipynb\"><img src=\"data:image/png;base64,iVBORw0KGgoAAAANSUhEUgAAAEoAAAAUBAMAAADYerbFAAAAMFBMVEX///+YmJiqqqqIiIgyMjLc\n",
       "3NwiIiIQEBC6urp2dnZUVFTMzMxERERmZmbu7u4AAADrYmUNAAAAAXRSTlMAQObYZgAAAVBJREFU\n",
       "KM9jYMAAzC4bUAVEMhj47p5BE+RsYGCYLAkVjJx5iIFhBsMrBs4fGKpYFPhSwWzWCwz6AkBV9xgY\n",
       "yjFUiTMwTIHY/omBPwGoqoyBYX0AWEQmLc0BquoUA4P+AxCbo4KB3wGoyv8Bw3qwG/bYIcz6xcDQ\n",
       "rwDlgm0EgnyQNj4/hI18f4GqDCA8vkwGsCqOnyAeVwBCFStQZD9EFeu0exBVbAtAXB4k17MCzdo/\n",
       "Aco1bwCrugvmbHcBAgdMGxnY60CqmC+AOTHIIQF0vT7Y9awBDDyfQKp0QUygFmRVZxgY5MEhwf8P\n",
       "oop7AgMzSBWvAbZQZT/AwPYPqCps5txlYIEkJFVsCnzVDO+BrmQUgISX////38CSr048gKvim2y1\n",
       "gYEtD8jpvXsCEhIw0HkMHkMQoAeTmYGZvBCqJhCjis+AGFWMDPhUMaegJV6TDAADTF2+0dXKQwAA\n",
       "AABJRU5ErkJggg==\n",
       "\" style=\"display:inline;vertical-align:middle;\" /></a></span>"
      ],
      "text/plain": [
       "{2 in [0,3)} |- 2 in [0,3]"
      ]
     },
     "execution_count": 89,
     "metadata": {},
     "output_type": "execute_result"
    }
   ],
   "source": [
    "# Element in half-open interval [0,3) means element in closed interval [0,3]\n",
    "IntervalCO(zero, three).deduceRelaxedMembership(two,\n",
    "        assumptions=[InSet(two, IntervalCO(zero, three))])"
   ]
  },
  {
   "cell_type": "markdown",
   "metadata": {},
   "source": [
    "### Testing the `InSet.deduceInBool()` methods<br>(indirectly testing the NumberSet.deduceMembershipInBool() methods)"
   ]
  },
  {
   "cell_type": "code",
   "execution_count": 90,
   "metadata": {},
   "outputs": [
    {
     "data": {
      "text/html": [
       "<span style=\"font-size:20px;\"> <a class=\"ProveItLink\" href=\"__pv_it/42dde96d3041fa8317dad055758528c7c073e5460/proof.ipynb\" style=\"text-decoration: none\">&#x22A2;&nbsp;</a><a class=\"ProveItLink\" href=\"__pv_it/46030396cb85add5f969819f1d9c3f29d6a1d9740/expr.ipynb\"><img src=\"data:image/png;base64,iVBORw0KGgoAAAANSUhEUgAAAGkAAAAUBAMAAAB8EA4WAAAAMFBMVEX////MzMxUVFR2dna6uroQ\n",
       "EBCqqqqIiIgiIiJmZmYyMjJERETu7u6YmJjc3NwAAACgK8IjAAAAAXRSTlMAQObYZgAAAZZJREFU\n",
       "OMtjYOC7wIATsD3AJXMaixhv6+5fS/cCGXpoEhXR+5c2OQAZ67AZxcWjwLh3DwPDKXSJBeI8e+YC\n",
       "jZ2ATRc3nwHDhkcMDMwFaBIbfBkKuRkYOFCczrujowumax4XAwNPAKo4SFcaUNcLZE2M2w8g7JoH\n",
       "lGVYgioO0mUCDIlKIPN40ZNisFNOHUByoYITkGHJgCIO1MXSqMjAAAwpHgPedo4FDMhBBtTF1rkG\n",
       "yLjFgCLOsMG1/yswDNuAXj7A/IcF7L0NCF0RHctAjAwGFHGQC20vMzCEAO1i4IYIM0atAgKILpMJ\n",
       "e0AMeVRxkC5ulgsgXQwM/JAA5kOyy2CKNFwXH4pd3AwKIBcC5QQgYgFIurjPgozyQBUH6WJiWAAK\n",
       "DbYD9Qzs4FCajqSLUWEiPDSmo9jFawAKWv+E/QxvwWIcCYgUxWDGBHTBZFRxhgXCDMaTwE44VH58\n",
       "LiTh82j7wFOvAPeubwwMC1HE4akXNUWxWENTDhTwNGAXx556YQAj9cLAPny6TpGSKwkbia8E4MVR\n",
       "AgAAmRRylgSPiSgAAAAASUVORK5CYII=\n",
       "\" style=\"display:inline;vertical-align:middle;\" /></a></span>"
      ],
      "text/plain": [
       "|- (x in Reals) in BOOLEANS"
      ]
     },
     "execution_count": 90,
     "metadata": {},
     "output_type": "execute_result"
    }
   ],
   "source": [
    "InSet(x, Reals).deduceInBool()"
   ]
  },
  {
   "cell_type": "code",
   "execution_count": 91,
   "metadata": {},
   "outputs": [
    {
     "data": {
      "text/html": [
       "<span style=\"font-size:20px;\"> <a class=\"ProveItLink\" href=\"__pv_it/6eba2082cf22e0e578ba5c9be05585997ccbc0e80/proof.ipynb\" style=\"text-decoration: none\">&#x22A2;&nbsp;</a><a class=\"ProveItLink\" href=\"__pv_it/16e65d59349bbb231f7b84c41a2bbc70df774cc80/expr.ipynb\"><img src=\"data:image/png;base64,iVBORw0KGgoAAAANSUhEUgAAAHgAAAAbBAMAAABFKlYVAAAAMFBMVEX///8iIiJERESYmJiqqqoQ\n",
       "EBB2dnbc3NyIiIhmZmbu7u4yMjJUVFS6urrMzMwAAADZVrDbAAAAAXRSTlMAQObYZgAAAepJREFU\n",
       "OMutlM8rBGEYx7/G/pjZ3RltOLgNLvKjJrLn/QeUvYnUFBcHJWdlLw6cNhdKtHEhyhYK6/AmByVF\n",
       "IkmZlBtRlFoH3pnZ3XlnmndX8dY0T+/n/czzzjPPvMDfxktFSuglcqlCKsoqvWTukmi2qowRHl1E\n",
       "dbmGkyBc8JmsbWz52mt1ZDHj5iLlqXMglPF9lwhRWtsRy+eH8js0w5uXK+nVDQ3BpJ8shHWoU+XM\n",
       "aPByWRMNFdOu1+mOx3MleSHqyPNeLmuBpIpe1n2cYzIvCI484+WyFrpTsUTD9UWEB+k9cshum9w7\n",
       "8oO1P4bL2uWzgRYa6tcQzZLEJhg50HToyK8G3FxOfQ8DR7SWySUI5iKBKVgqvmtF9vrpC7g53XaP\n",
       "jia6GwygLk2nnvJ0FAs2nmlnirFtyQyXNahXODB7t2Dva5L9VMuPjGxnnmQzQ42hk4ZSzi5nkJWF\n",
       "tbQjv054OJVJFMdmSKxnQEozskJWHNmuNsPNzAkrpUTkd3cj0fbEaMwoy8VucLiih8aI9czI6eyn\n",
       "NbfVlS3/GIbQ8VGWix1W4qUfI2iVQsrZ9KY5nvPr9X34ckkHzoqfgjsiBc4p1A/Uo63yiVDLO4dO\n",
       "gNtZo7Jcw+ObvzhgEzwQyFR1wyoX9VWVpSz+f/wAgTOBFfsn1ucAAAAASUVORK5CYII=\n",
       "\" style=\"display:inline;vertical-align:middle;\" /></a></span>"
      ],
      "text/plain": [
       "|- (y in RealsPos) in BOOLEANS"
      ]
     },
     "execution_count": 91,
     "metadata": {},
     "output_type": "execute_result"
    }
   ],
   "source": [
    "InSet(y, RealsPos).deduceInBool()"
   ]
  },
  {
   "cell_type": "code",
   "execution_count": 92,
   "metadata": {},
   "outputs": [
    {
     "data": {
      "text/html": [
       "<span style=\"font-size:20px;\"> <a class=\"ProveItLink\" href=\"__pv_it/df9b5c4e0450cae488464fbd5588948a157c95280/proof.ipynb\" style=\"text-decoration: none\">&#x22A2;&nbsp;</a><a class=\"ProveItLink\" href=\"__pv_it/2c21007c4740aacb50341cfa5daa714ef44acf440/expr.ipynb\"><img src=\"data:image/png;base64,iVBORw0KGgoAAAANSUhEUgAAAHgAAAAaBAMAAACOdoWwAAAAMFBMVEX///8iIiJERESYmJiqqqoQ\n",
       "EBB2dnbc3NyIiIhmZmbu7u4yMjJUVFS6urrMzMwAAADZVrDbAAAAAXRSTlMAQObYZgAAAcpJREFU\n",
       "OMuVlL9Lw0AUx7+mv0zTBAo6FBzOulWFoNS5/4BocROEgC4OQnEWzOIiKMXBCqIUnURBBwWtDkEc\n",
       "BBEqooMIBsFN0cGpDnqJ1lzPHok3Je+Tz727l3cH4AV+o1VINMtXVoWfKGVfGeMisOLvokWQIFZr\n",
       "Egy1pz8OuphNF7kiUJ6/BKLFpnuJW1pXBmqajgzN8MZzzdzY0hHJNZOlmAEy47238VzVW22C2Ybt\n",
       "9CWTe3W5pHjxJZ6rejhHkGXdx3kmc0nywBzPVT16R7DqFG15ZdQJxSvssq17T34oc1zVr55tpOnj\n",
       "TUFxK5IoMHI4VfHkV5vjav5zDDihE45AJm6IKVg+uc/sZ7bKcbrsfgMpQK6hxXRCT8d0/BRsqphh\n",
       "5N0qx1Ud5BpHQIRg113WNPur1h7/ZJ5mM4Mk0EOnNTDkhiKsLG2azJ4LHKeypeCUyjlchB0qm4ys\n",
       "Wet8tRnuZB5w/qBkhjqijY1E2xMTCftXznKNpmhGdNJy5oyfL84suLGd3vLvwbCl7ne+w+q8fjAi\n",
       "VbbFbju/248fh825bAQ4z/Ga4BYaDiCHRPfQWZCbxBaA7QDygAiEi75ujAjRoK8sB7hg/z2+AHLb\n",
       "dgPrQcVwAAAAAElFTkSuQmCC\n",
       "\" style=\"display:inline;vertical-align:middle;\" /></a></span>"
      ],
      "text/plain": [
       "|- (a in RealsNeg) in BOOLEANS"
      ]
     },
     "execution_count": 92,
     "metadata": {},
     "output_type": "execute_result"
    }
   ],
   "source": [
    "InSet(a, RealsNeg).deduceInBool()"
   ]
  },
  {
   "cell_type": "code",
   "execution_count": 93,
   "metadata": {},
   "outputs": [
    {
     "data": {
      "text/html": [
       "<span style=\"font-size:20px;\"> <a class=\"ProveItLink\" href=\"__pv_it/e4d1a630fa8ee6675b1962c3c72b982b3d89ffb70/proof.ipynb\" style=\"text-decoration: none\">&#x22A2;&nbsp;</a><a class=\"ProveItLink\" href=\"__pv_it/5e43033644239d6f532a85cc42f910604ac15d610/expr.ipynb\"><img src=\"data:image/png;base64,iVBORw0KGgoAAAANSUhEUgAAAH4AAAAcBAMAAABVMRbqAAAAMFBMVEX///8iIiJERESYmJiqqqoQ\n",
       "EBB2dnbc3NyIiIhmZmbu7u4yMjJUVFS6urrMzMwAAADZVrDbAAAAAXRSTlMAQObYZgAAAixJREFU\n",
       "OMu1VM9rE0EU/rLN5sckuzFQDz0Ia4qXaGVQmnP+gAoGz0L8gehBKL0VhC6C4I9LCEILoi4KBamQ\n",
       "HhQ0elhE8KREBA8idCl4U+yhIKSgvtndyOyQiYvgO+wO733fvPe+NzPA361wsY1/MutN+GtgYRLq\n",
       "mz60/E58D6DiFbQY25+w9/JRgP2E2bS0qJI3qbj1Odg/kOE4p0OsTdZgvW8PkXGR0aTJD8EO7Uv6\n",
       "pvbX9p7ORutbnPKbLgodZSiEab0FcuQvddSemG/P1mnBrjZF/5UB8jsqxnYfPOIkDVBpKjEj34Zz\n",
       "hehnB7H+wLSKsXghcLBCoa1Rb8eq1c0Rf7UE1hV03Ajn31UxFs82HczT8kwc2r4p5V81YAdRqxdE\n",
       "f9dUjMVznxzcoeXL67eFh/Xl+v3PyXqjIiWMxd9/DVAj357XWyRPeVHiZ2f6Sf73sBgJY7V+nabc\n",
       "QHaIiis8kn6t6hMK1MjqsW8l1MKQ9csdb2MGKG6iJ27YlxdksX6XO3VF717IlzAWh/MBz8Pxb4kJ\n",
       "Lsnzu7ut8KP8S3J+OGUcofFz3BfimDLfeOgq/Yedmwm+X8Ir4g/YKeEpuhLf9u+N01/CiPwNMdYy\n",
       "N6IDPC2dX5wvBwn+PBSM3c5d8sW2bC2+nI/nvD/3JzAO7yb43SRmdH/MgYT5eDA6m+Ps2XhMMeXb\n",
       "yIaa5+tkOv6U7gF7nY6fCTSBjXT8hi6Q7aSh5x1t6EQaftHDf7HfAOaPXrUJlAMAAAAASUVORK5C\n",
       "YII=\n",
       "\" style=\"display:inline;vertical-align:middle;\" /></a></span>"
      ],
      "text/plain": [
       "|- (b in RealsNonNeg) in BOOLEANS"
      ]
     },
     "execution_count": 93,
     "metadata": {},
     "output_type": "execute_result"
    }
   ],
   "source": [
    "InSet(b, RealsNonNeg).deduceInBool()"
   ]
  },
  {
   "cell_type": "code",
   "execution_count": 94,
   "metadata": {},
   "outputs": [
    {
     "data": {
      "text/html": [
       "<span style=\"font-size:20px;\"> <a class=\"ProveItLink\" href=\"__pv_it/e4d1a630fa8ee6675b1962c3c72b982b3d89ffb70/proof.ipynb\" style=\"text-decoration: none\">&#x22A2;&nbsp;</a><a class=\"ProveItLink\" href=\"__pv_it/5e43033644239d6f532a85cc42f910604ac15d610/expr.ipynb\"><img src=\"data:image/png;base64,iVBORw0KGgoAAAANSUhEUgAAAH4AAAAcBAMAAABVMRbqAAAAMFBMVEX///8iIiJERESYmJiqqqoQ\n",
       "EBB2dnbc3NyIiIhmZmbu7u4yMjJUVFS6urrMzMwAAADZVrDbAAAAAXRSTlMAQObYZgAAAixJREFU\n",
       "OMu1VM9rE0EU/rLN5sckuzFQDz0Ia4qXaGVQmnP+gAoGz0L8gehBKL0VhC6C4I9LCEILoi4KBamQ\n",
       "HhQ0elhE8KREBA8idCl4U+yhIKSgvtndyOyQiYvgO+wO733fvPe+NzPA361wsY1/MutN+GtgYRLq\n",
       "mz60/E58D6DiFbQY25+w9/JRgP2E2bS0qJI3qbj1Odg/kOE4p0OsTdZgvW8PkXGR0aTJD8EO7Uv6\n",
       "pvbX9p7ORutbnPKbLgodZSiEab0FcuQvddSemG/P1mnBrjZF/5UB8jsqxnYfPOIkDVBpKjEj34Zz\n",
       "hehnB7H+wLSKsXghcLBCoa1Rb8eq1c0Rf7UE1hV03Ajn31UxFs82HczT8kwc2r4p5V81YAdRqxdE\n",
       "f9dUjMVznxzcoeXL67eFh/Xl+v3PyXqjIiWMxd9/DVAj357XWyRPeVHiZ2f6Sf73sBgJY7V+nabc\n",
       "QHaIiis8kn6t6hMK1MjqsW8l1MKQ9csdb2MGKG6iJ27YlxdksX6XO3VF717IlzAWh/MBz8Pxb4kJ\n",
       "Lsnzu7ut8KP8S3J+OGUcofFz3BfimDLfeOgq/Yedmwm+X8Ir4g/YKeEpuhLf9u+N01/CiPwNMdYy\n",
       "N6IDPC2dX5wvBwn+PBSM3c5d8sW2bC2+nI/nvD/3JzAO7yb43SRmdH/MgYT5eDA6m+Ps2XhMMeXb\n",
       "yIaa5+tkOv6U7gF7nY6fCTSBjXT8hi6Q7aSh5x1t6EQaftHDf7HfAOaPXrUJlAMAAAAASUVORK5C\n",
       "YII=\n",
       "\" style=\"display:inline;vertical-align:middle;\" /></a></span>"
      ],
      "text/plain": [
       "|- (b in RealsNonNeg) in BOOLEANS"
      ]
     },
     "execution_count": 94,
     "metadata": {},
     "output_type": "execute_result"
    }
   ],
   "source": [
    "InSet(b, RealsNonNeg).deduceInBool()"
   ]
  },
  {
   "cell_type": "markdown",
   "metadata": {},
   "source": [
    "## Misc Testing <a id='misc_testing'></a>"
   ]
  },
  {
   "cell_type": "markdown",
   "metadata": {},
   "source": [
    "## Testing the `RealsNonNeg.deduceMemberLowerBound()` method"
   ]
  },
  {
   "cell_type": "code",
   "execution_count": 95,
   "metadata": {},
   "outputs": [
    {
     "data": {
      "text/html": [
       "<span style=\"font-size:20px;\"> <a class=\"ProveItLink\" href=\"__pv_it/a2f48ead48e48d2a19482d96c77f4dbf34e8d2920/proof.ipynb\" style=\"text-decoration: none\">&#x22A2;&nbsp;</a><a class=\"ProveItLink\" href=\"__pv_it/1a8c91555c2ac3e11c17a407d28ff13a0102a1ba0/expr.ipynb\"><img src=\"data:image/png;base64,iVBORw0KGgoAAAANSUhEUgAAALgAAAAcBAMAAAAgkGgMAAAAMFBMVEX///8iIiJERESYmJiqqqoQ\n",
       "EBB2dnbc3NyIiIhmZmbu7u4yMjJUVFS6urrMzMwAAADZVrDbAAAAAXRSTlMAQObYZgAAAxJJREFU\n",
       "SMfNVk1IVFEU/uZ/5jnznCGThMJpXAiWIoFCtLFlVDAuWgZDxZSLamwTguBQRFmb0UVmVryKhEjQ\n",
       "QLHU8hVBiyDHTZsERahdWCAZEzndn/dz3/DGXkOLzuK+e8+557vnnr/7AAcUPJPCv6fIW/Zpx5FK\n",
       "Eb5sIet5T8ddqFaCFWHL6lbSnhZA2oSvI6JWAl6lbCkebYa8AVcrTlYCfusP8tEZuQBXFi5bIwKt\n",
       "5fS8GSItkHsPJ1YsAs/2xM+pBj6/0Uos92URzNlBPAAeD7aUcv2XzwEkGfxEZwz+XyW+klS5oYlM\n",
       "pEsd1OfVeQS+2oFPQ1JxPk931plXm8T9DJ6AhAq4DRyz6rgDKcR7icaJvJYtQI0NtieHkAJfkvlh\n",
       "LqNzk/BPwJ9FH1HrBBa4YF8sNqGDD1VBGqTY6Gd5PiicrcO4MvBFEd7gVTGnOdetwluAlEQbWcwr\n",
       "WGD81euC5UNuyHx3ME39fUVI37g26SYeLCC8qbETzBZUq4isAy8wwvn11GHSjOgWdcnqgmUhXfZr\n",
       "335uf0HPnXcd9DOeQ+QH0IUEv9F3OoYzAri3bsYKvsauMRCjVK+lDs+oZaP1BAYoRF8KMgE/gDl+\n",
       "Nqs/txDQztgkiVGCUJPG68sLJx1mJmpB3mkGuI7tzEEm1h4EW2GYjZ9mCWkBPZtrKsmMcRFcmmKr\n",
       "43QIGRUQrFUEt6zhOWNy8QUxFe+uloBbLO89DQO83yjmHdAD6l2n4Hvp6hAC1Fc+Edz9MFvicxaR\n",
       "kVlG0zDc4s3hIm9y23TtODwkxot4TVMohSDVDGUFcFm9Vz5bPsIM6GfgKrvMJCxFRAJKs7c73fVK\n",
       "iA8vf5wKWxtOm+BxPZG6SILUpu9EKa/ZlNfgEdG9yeyZLxa/MeZYs2I0rhX3nnULuFChxrGLxI5i\n",
       "sRgt7aTX6CPzEj4xTPiwm5e/HT0TGi3M8i9LUhQhp2+vVLBvXGWJNC456RDcY/vONZqHP2W1a8aJ\n",
       "tFy8cQjuWinzWJSjRu0AJ9SOv3vmPBleA04oEK/o3+Koo10hBf8X/Qa1ksbWaRXTewAAAABJRU5E\n",
       "rkJggg==\n",
       "\" style=\"display:inline;vertical-align:middle;\" /></a></span>"
      ],
      "text/plain": [
       "|- (2 in RealsNonNeg) => (2 >= 0)"
      ]
     },
     "execution_count": 95,
     "metadata": {},
     "output_type": "execute_result"
    }
   ],
   "source": [
    "RealsNonNeg.deduceMemberLowerBound(two)"
   ]
  },
  {
   "cell_type": "code",
   "execution_count": 96,
   "metadata": {},
   "outputs": [],
   "source": [
    "%end demonstrations"
   ]
  },
  {
   "cell_type": "code",
   "execution_count": null,
   "metadata": {},
   "outputs": [],
   "source": []
  }
 ],
 "metadata": {
  "kernelspec": {
   "display_name": "Python 3",
   "language": "python",
   "name": "python3"
  }
 },
 "nbformat": 4,
 "nbformat_minor": 0
}
