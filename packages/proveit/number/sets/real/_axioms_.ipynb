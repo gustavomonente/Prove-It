{
 "cells": [
  {
   "cell_type": "markdown",
   "metadata": {},
   "source": [
    "Axioms for context <a href=\"_context_.ipynb\" class=\"ProveItLink\">proveit.number.sets.real</a>\n",
    "========"
   ]
  },
  {
   "cell_type": "code",
   "execution_count": null,
   "metadata": {},
   "outputs": [],
   "source": [
    "import proveit\n",
    "# Automation is not needed when building axiom expressions:\n",
    "proveit.defaults.automation = False # This will speed things up.\n",
    "from proveit._common_ import a, b, x\n",
    "from proveit.logic import And, Equals, Forall, InSet\n",
    "from proveit.number import Less, LessEq, LesserSequence\n",
    "from proveit.number import (IntervalOO, IntervalCO, IntervalOC,\n",
    "                            IntervalCC, Reals)\n",
    "# the context is in the current directory:\n",
    "context = proveit.Context('.') # adds context root to sys.path if necessary"
   ]
  },
  {
   "cell_type": "code",
   "execution_count": null,
   "metadata": {},
   "outputs": [],
   "source": [
    "%begin axioms"
   ]
  },
  {
   "cell_type": "markdown",
   "metadata": {},
   "source": [
    "**Being in a real interval means being real and being bound appropriately between the lower and upper bounds of the interval, and we define this for each of the 4 possible types of (finite) real intervals:**"
   ]
  },
  {
   "cell_type": "code",
   "execution_count": null,
   "metadata": {},
   "outputs": [],
   "source": [
    "in_IntervalOO_def = Forall((a, b),\n",
    "       Forall(x,\n",
    "              Equals(InSet(x, IntervalOO(a, b)),\n",
    "                     And(InSet(x, Reals),\n",
    "                         LesserSequence(\n",
    "                             [Less._operator_, Less._operator_],\n",
    "                             [a, x, b])))),\n",
    "       Reals)"
   ]
  },
  {
   "cell_type": "code",
   "execution_count": null,
   "metadata": {},
   "outputs": [],
   "source": [
    "in_IntervalOC_def = Forall((a, b),\n",
    "       Forall(x,\n",
    "              Equals(InSet(x, IntervalOC(a, b)),\n",
    "                     And(InSet(x, Reals),\n",
    "                         LesserSequence(\n",
    "                             [Less._operator_, LessEq._operator_],\n",
    "                             [a, x, b])))),\n",
    "       Reals)"
   ]
  },
  {
   "cell_type": "code",
   "execution_count": null,
   "metadata": {},
   "outputs": [],
   "source": [
    "in_IntervalCO_def = Forall((a, b),\n",
    "       Forall(x,\n",
    "              Equals(InSet(x, IntervalCO(a, b)),\n",
    "                     And(InSet(x, Reals),\n",
    "                         LesserSequence(\n",
    "                             [LessEq._operator_, Less._operator_],\n",
    "                             [a, x, b])))),\n",
    "       Reals)"
   ]
  },
  {
   "cell_type": "code",
   "execution_count": null,
   "metadata": {},
   "outputs": [],
   "source": [
    "in_IntervalCC_def = Forall((a, b),\n",
    "       Forall(x,\n",
    "              Equals(InSet(x, IntervalCC(a, b)),\n",
    "                     And(InSet(x, Reals),\n",
    "                         LesserSequence(\n",
    "                             [LessEq._operator_, LessEq._operator_],\n",
    "                             [a, x, b])))),\n",
    "       Reals)"
   ]
  },
  {
   "cell_type": "code",
   "execution_count": null,
   "metadata": {},
   "outputs": [],
   "source": [
    "%end axioms"
   ]
  }
 ],
 "metadata": {
  "kernelspec": {
   "display_name": "Python 3",
   "language": "python",
   "name": "python3"
  }
 },
 "nbformat": 4,
 "nbformat_minor": 0
}
