{
 "cells": [
  {
   "cell_type": "markdown",
   "metadata": {},
   "source": [
    "Axioms for context <a href=\"_context_.ipynb\" class=\"ProveItLink\">proveit.number.sets.real</a>\n",
    "========"
   ]
  },
  {
   "cell_type": "code",
   "execution_count": 1,
   "metadata": {},
   "outputs": [],
   "source": [
    "import proveit\n",
    "# Automation is not needed when building axiom expressions:\n",
    "proveit.defaults.automation = False # This will speed things up.\n",
    "from proveit._common_ import a, b, x\n",
    "from proveit.logic import And, Equals, Forall, InSet\n",
    "from proveit.number import Less, LessEq, LesserSequence\n",
    "from proveit.number import (IntervalOO, IntervalCO, IntervalOC,\n",
    "                            IntervalCC, Reals)\n",
    "# the context is in the current directory:\n",
    "context = proveit.Context('.') # adds context root to sys.path if necessary"
   ]
  },
  {
   "cell_type": "code",
   "execution_count": 2,
   "metadata": {},
   "outputs": [
    {
     "name": "stdout",
     "output_type": "stream",
     "text": [
      "Defining axioms for context 'proveit.number.sets.real'\n",
      "Subsequent end-of-cell assignments will define axioms\n",
      "%end_axioms will finalize the definitions\n"
     ]
    }
   ],
   "source": [
    "%begin axioms"
   ]
  },
  {
   "cell_type": "markdown",
   "metadata": {},
   "source": [
    "**Being in a real interval means being real and being bound appropriately between the lower and upper bounds of the interval, and we define this for each of the 4 possible types of (finite) real intervals:**"
   ]
  },
  {
   "cell_type": "code",
   "execution_count": 3,
   "metadata": {},
   "outputs": [
    {
     "data": {
      "text/html": [
       "<strong id=\"in_IntervalOO_def\">in_IntervalOO_def:</strong> <a class=\"ProveItLink\" href=\"__pv_it/b8b5135be2bc3c5845e41e12b59fc7f7b8ba18480/expr.ipynb\"><img src=\"data:image/png;base64,iVBORw0KGgoAAAANSUhEUgAAAeMAAAAVBAMAAACH5Zu7AAAAMFBMVEX///8QEBCIiIhmZma6urrM\n",
       "zMxUVFQiIiJERETc3Nzu7u6qqqp2dnaYmJgyMjIAAAAcRTyBAAAAAXRSTlMAQObYZgAABY9JREFU\n",
       "WMPdWF1oHFUUPtndye7OzG588CFalHWjaSn+LAlWRRNXi4iCJk8xBSFLTNX6EEL8idY0rHnQTYt0\n",
       "tWJFFCcJpCVGsyhSUkSXRKmuf4sW0hQqgxCLf20oFDSV4jlz7/zcmdl0lr554Mtm7pzz3fvNPffM\n",
       "vQNQj9286m2LVxl87F13wwJHcAo7zhMR3BZsJE5nQae2UwFjv/BxP8zhNTnvvHhpCKCxyOCymhTL\n",
       "zfvPNFd9Yg4HVSt0S1Cz8A3d+D2wZK/7bxxeSwoDTWZwADqDy2pT6DPQe0KzYuLOiGDm7JaAkt8i\n",
       "pnxgyR73RIbBx34SrppK+GeRQ7ANKPLvQCyes2KSGTtCMMVnxX3W7el20ZCc1PCnFFiyxz1aZHAo\n",
       "eGVkzPjnBSG2CyNhkkOwDShQcrioWzG9u+0Iwf9p72pZvsPb7aQhOVGZnT0IgSV73A9yWCaNazwL\n",
       "h4TYY8Y0ZRkgGAWTnLdiBtJ2hMNCo5pnqJsrPt0iUDL8XSiMBpfscW/hmGp948YUNXxodh+i7Duw\n",
       "dB2//jV9Jz7jDAP4UcjpXfcuChQkuTGSM2NkPWpHxO9qu5pdzQ2btcokAPlYCny6RZDknQATPuoe\n",
       "1v0lu91fZZDLieGoEbLLvBPDUhu5Cs7y4VzU5ouQQBcCqGcMyzgoYA6WU2MCBUk+0qnxGFxRfE2R\n",
       "9z3F5JpxMb3H9LYI5NvMl5jYLYIkbxdr6JEtj/1i0PO5UIZf7kw5JLvc4UUGVVPXI8aCsmpbFIc3\n",
       "WYXbOc86NKVAwWRXhlwPklNABX7QHhAoIP/ayBipZDFRiOtmhHwNhA2/xj8sb4tg0Ko2YrcIkhyF\n",
       "kPVIPm2vhlSokMQkRb2/1AGpsjrlkOxwN+xKBhlibKDStTR79F8Dkt+tAc+6sA7zZZBwYqQ1l2RO\n",
       "ARoUXBQ4y9tjlOUs5kcjyZh3eB2ixlTM2JJNAtmWLHaLIMlqNWreP7EwCyj5JGlqwilL7HtbQ8mJ\n",
       "DxySHe7CeOlhgvAGI8nNIJ+33i9dpY0lA5xzUaDk8H15SzLW6x4zoiEP88ZbCA7ssanO8cppJbbY\n",
       "LZcc14lmunUVIpTLJLmMv33ppzCJ0VDynEMyc1+8tbVbzEro4w1XOBJb/hcULrCpSlMewewimGs5\n",
       "J1BI510UtJb34tyyGCVjbm/QG+fuc3CVL4vALl9itxGW2DAxgC7PSuuQBCa5naRv1lrY7jJVDrc7\n",
       "JBvuIW0wmhXKl6Ldgq3U0OYoX/IFaNTZBrkpi6vPLl8+FRCOhtZgq0BBknvC3TyG5CpmwZsvwaBS\n",
       "FF9SFoH9khK75eULPkb54Yw0BNNGePjxZ+h3HH6WDfrUtieyTsnkLsFfZtMSQ1dpPz9FRM11RAVw\n",
       "HJZzZfkiVZlqDK/DZQbBOEXkQmyNHRcsCtpwqqWdPKaXJ7fhHUslnlPFrYhNYG9FxG4RhmRahA2l\n",
       "UA4eKRQKqZD6+nG2XLZJzxcK45D6+iZBMluz/5hN9zPMpKc6WG/ykw+yO5RJM+kd/VkYwUmQ276j\n",
       "iepmEIxTyP1bW06JFHisWIXC2RKLGaCmNJjeN7x5vbjhtAnsDafYLcKQnMABzRdjJ7VGltjKo5Qm\n",
       "67AJciyxP6k4JSdYBZVq7hYjX7k3nIq1tTjEcYkNp0XhjAPjyUt+G85L2SEbqjl/DcW+h0DtZmu5\n",
       "Uo7vhd2JPHzJJKvO8mXYe6qu1nGssBKw7mOFM84VUY+Jxwr+WPs/6gDYR1uR78vTndIm6PkW1wuu\n",
       "KWX0T7ldd0meOb5ozfwE+G/fMNycC+u9XuPwWJvCEeeJCG6uw6OwPce1zFOR/WzBtezacAY/39uf\n",
       "CKrOhxCr4xOB5+HV/YlA6DZW9Eje4MsLr/yX+SFohaPeD0Erl/chaMVG6HQtyVX4/9p/Yh/8V74F\n",
       "zHcAAAAASUVORK5CYII=\n",
       "\" style=\"display:inline;vertical-align:middle;\" /></a><br>"
      ],
      "text/plain": [
       "in_IntervalOO_def: forall_{a in Reals, b in Reals} [forall_{x} ((x in (a,b)) = ((x in Reals) and (a < x < b)))]"
      ]
     },
     "execution_count": 3,
     "metadata": {},
     "output_type": "execute_result"
    }
   ],
   "source": [
    "in_IntervalOO_def = Forall((a, b),\n",
    "       Forall(x,\n",
    "              Equals(InSet(x, IntervalOO(a, b)),\n",
    "                     And(InSet(x, Reals),\n",
    "                         LesserSequence(\n",
    "                             [Less._operator_, Less._operator_],\n",
    "                             [a, x, b])))),\n",
    "       domain=Reals)"
   ]
  },
  {
   "cell_type": "code",
   "execution_count": 4,
   "metadata": {},
   "outputs": [
    {
     "data": {
      "text/html": [
       "<strong id=\"in_IntervalOC_def\">in_IntervalOC_def:</strong> <a class=\"ProveItLink\" href=\"__pv_it/f1ab9e3329bc1af533fab17e66b6645396d5f7c90/expr.ipynb\"><img src=\"data:image/png;base64,iVBORw0KGgoAAAANSUhEUgAAAeAAAAAVBAMAAABs0iC4AAAAMFBMVEX///8QEBCIiIhmZma6urrM\n",
       "zMxUVFQiIiJERETc3Nzu7u6qqqp2dnaYmJgyMjIAAAAcRTyBAAAAAXRSTlMAQObYZgAABYlJREFU\n",
       "WMPdWH1oHEUUf7mv7O19xD+EKv1nTcCW0JZAtLFg41FBEaqc/lEjCD2iVSJUzpgQP2IJ8SOblMph\n",
       "IRbBcm2gakzTYJESET3MiXjReKAQDRpO0xYapYaioIkW572ZnZ3d27tc2v988O5238z7vfntvnkz\n",
       "swAbEN/lZLnxbaHg3aTKYg9Mw4YQSCKZ9YCrCrpbykZQQttPtblGE3H8ixUVmz7A1UMc5nc3sZ88\n",
       "hDKe3TwRYs+YV38+wi66qgFXFYrapWgeZtG+XCvh6BT7i2cVWzzD1UOc5iUKp5c8u3kjxPVU8MgI\n",
       "wKS4z3gCV8jGXhl1UtE8HGO/4YFaCVPPY6rtW6Ee4jSvUTj4zLObN4IWzsHAKItr2M8MvHp/UjbV\n",
       "JrrtqOhuaZ5eF723mghTLsyqtueF2vJ9X19JNkkJrHLCJ8pQKyMg4V1sFuk3kDk4lIVyYCbzu9yY\n",
       "R19SoqK7pXmIFcbH34SaCf84Pv5eWjGF01xt6WhWmhTfNCccT7hAqyAQYY1dnKfb0B7DAxhgS8E9\n",
       "0NFf1ajkLpSN4C/T7K+dcINpDuXUqdLCVW/s2kPZqi+rTXB05hb+WuKdTVMYLtrinmyVEZBw6h52\n",
       "MUO3k5D2ANa/EAkvAaDjvKwCGJXchbIRHAAY9iD3QMmTcCgJmloytCLXCZg3DtFryKhNgZvhd353\n",
       "Zln/G8PFCHfuMsrSegjhXORZpL9It7NiMjmA9TZrzZAA2qtyeBSV3IWyEdztrJzntj72C5ETbyLS\n",
       "/Vq7YRMOtMiaSVI/xbUA32Tvo2iOphNFuIPffZqFKxgu4srHaghaeFMfJec5uk3D8XLgp2X9kQC+\n",
       "brmMUFRyF8pGUA8+6xnpH7cWfVEoIME4Ar0/sxuMXPSkTZhF3a4Oty7BNQsmNzyIr65kNd2VBVEu\n",
       "20H/B8MFV1yEqyBo4XzLCF7sp2XZwPxyAes2YQkAsX6LMUUld6E4qYr1sjpOjwMjvIAPoIElVuzw\n",
       "W1lGOHZaIfw1pL2GC/gkwbFmofkm0P+0lpTAWlXCHggspW/rkITrsxBMlQGH2+xt0BW5uVrKKFFd\n",
       "hMOlfex67NYLmK5AhLEq7W98imU7E0Z4QiF8HINGmx464ExICApidWqusscbEQT/Bf8qhguk7Tl8\n",
       "cR0ERlg7jel2L96dZXqpHFgWLQmAy9HFpB2V3IWyEcDw48yrN7gKtG9khFuR+JZsE992Gjl/q0JY\n",
       "G2U/zaFSj7NofeRbAVpN/IZStPQ1CJX49vkPnHayaHmUPS+EcC6Yut0qWpcEaRewXJYkAJE3EzKq\n",
       "q2jBWfbM/S3BNIwRYf8TxGUQFnWqW8bOJxMK4Ugbu0jGrTzC2sY0sKathLntRVCaBmE+ldOvsruD\n",
       "8DKF8+fcpb8yAttawizO2zuRwgBPawXYsfFQACjVKQUpKrkLRcIN7InWTflS8LBpmoYv+sZ32PVG\n",
       "2Bl8zjQHwfhyu0qYT5QGa+nADGWqdzY3iRPIqVeydtOpxkc6E9DHLGPbinzj4d4FVkbAw0NSe51N\n",
       "wgu4WmFwn+EAVreWCoAtFJXchSLhGIM/k9EWsiGe0pFHMd4qbIYUT+kPCyrhBV5FkhU3hnuH3FvL\n",
       "iFU0Wbh3athaSgRr9cB5H6DLpNfWch1Bd0vzVqnM7L8fokk+hwu58Ai8EBuAzznhqFq0KF1W5iC3\n",
       "gcNDFGzCGzk8SH+j2qlk/Q2i4/Ag8qrzg90Ah3FxnsuNtQc3w76vWHVgxTPS/5veWnIS1g/u3Wa9\n",
       "NNx3ad7HNWk+aRP2OB5WQRAyWQm4Qvc+lF6Hu308dGxr2RwWScj/trI57Nxa1n58V8xFm7CW2QiC\n",
       "kOFr/gAg3S3NV+gz7X2oPnR9n3h29MAP1/CJJ3Z9n3jQ3dIdPRU6FeH/Kv8BfaUCVfb2WmcAAAAA\n",
       "SUVORK5CYII=\n",
       "\" style=\"display:inline;vertical-align:middle;\" /></a><br>"
      ],
      "text/plain": [
       "in_IntervalOC_def: forall_{a in Reals, b in Reals} [forall_{x} ((x in (a,b]) = ((x in Reals) and (a < x <= b)))]"
      ]
     },
     "execution_count": 4,
     "metadata": {},
     "output_type": "execute_result"
    }
   ],
   "source": [
    "in_IntervalOC_def = \\\n",
    "    Forall((a, b),\n",
    "           Forall(x,\n",
    "                  Equals(InSet(x, IntervalOC(a, b)),\n",
    "                         And(InSet(x, Reals),\n",
    "                             LesserSequence(\n",
    "                                 [Less._operator_, LessEq._operator_],\n",
    "                                 [a, x, b])))),\n",
    "           domain=Reals)"
   ]
  },
  {
   "cell_type": "code",
   "execution_count": 5,
   "metadata": {},
   "outputs": [
    {
     "data": {
      "text/html": [
       "<strong id=\"in_IntervalCO_def\">in_IntervalCO_def:</strong> <a class=\"ProveItLink\" href=\"__pv_it/e248d956bc1fbeeff15a6173b8556c6163a4b70a0/expr.ipynb\"><img src=\"data:image/png;base64,iVBORw0KGgoAAAANSUhEUgAAAeAAAAAVBAMAAABs0iC4AAAAMFBMVEX///8QEBCIiIhmZma6urrM\n",
       "zMxUVFQiIiJERETc3Nzu7u6qqqp2dnaYmJgyMjIAAAAcRTyBAAAAAXRSTlMAQObYZgAABZ5JREFU\n",
       "WMPdWG9oHFUQn9zfvb29ix+EqkVYE7UltBKMthbSGCtYhFpOP9QIQo5olQotZxuN1rQcsZhNS8th\n",
       "IRbBsjUQNaZNsIikiD3MiXjReKAQDRpOa5WmUoMoaKLivL/77m43d6nfHJi928fMb95v38zsewuw\n",
       "AvFdSVQOvsa1unU0AzABK0BQ/Co9ahbiLnSuG4pk7NvaXI32OPmJFZQxPc3UzVq5eXMVXnYBhCom\n",
       "740Qe9r657ujzK/CozYRYaXmYIqMz9dK2BjHn7itjMUzTKsQhguoZ3CuxQo7b4S4ngwePUz9qGQU\n",
       "jxJZk/CaMg8rNQcn8BpJ10qYWp5Qx77gWo3wEhkxAT6ssPNG0CJZSA8yPzF7qLTWPzZdEvliSVih\n",
       "ObpcdN1qIkxzYUode56rI1/19BQrCAcWycyuAThVgeqNQAhvijM/lGC/7Xg4EtlYcCmHfZmSsEJz\n",
       "EMuPjLwCNRP+ZmTkrZQaLcXUkY4mtxU2qM0PmI7tZaDLIFDCGvNDCW0xpYfiv8dluXy9dmlYoTmA\n",
       "Pyyrt3bC9ZbVn1WRm5nqDbu20GzV5xXrSOvtN/Cy62rEeU3iaHP53LwRCOHkfUD9aA2mpAccn7yJ\n",
       "cgoeE09QAgCM7oWysEKR8E6AARdy24uuhEMJ0NSWoRWYjsKMeZAuQ0axvicTX2A3Y/P6n/hWwFyj\n",
       "uNNXiFyogoCEo/sI/Tl6O8WLiVgHrodf6I0l+5UEgKEDYkyGFYqE7y3tnO+tfex7Ol2+EtG9L7WZ\n",
       "DoVAs+yZVMLjTPPwuX0/nY3yePQbwc/74XkbfkVwxEuVPcVlELTIqp7LdFL0NgUnpcepAtzFGrTI\n",
       "fwcgdFkiyLBCkXAYfKLo9fdbCj4D8oRgnFTG25ObwcwarytVmYL16nTr2pnaYLGBB8nS8ablX4Qw\n",
       "f1htoP8F0IkpuFBGeBkELZJrPkz+dNI+ZJL84h5328DTdibPgSTAsENYhhWKhI1CWHbHiRFAwrPk\n",
       "AdRjYsWOvGoj4dhphfBnkHKbLpAnCSXvLKO9Lg1jCfFGCSwtT9gFAVP6jg5JOGxDMCk8rgP9d271\n",
       "wSZhzwHg+AHnNczDKoQjxR0k7W+9SNIVKGHSlTobnsJsR0HCowrhkySo0fjQztKEhCCPX6cQHsvC\n",
       "eX7zN+Byw1YsvpRTwz9WQUDC2mmSIlvJ3VnUS9wD1y0qn9x2PhcBoDQtGVYoEoaBxzGZnwkuAt03\n",
       "IuEWQnyN3ci2nWbW36IQ1gbx0hQqdpc2rXO+BaDV5DcVwuOwh2+EfyNV5zQtl7bngoCEg8k7RdO6\n",
       "xEkTa30JQkW5L+84RK4SQHktybBK04Kz+Mz9zcEUDFFT/xOUSx/M6bRvmRuebFcIRzfin0RclD3p\n",
       "baiBJW0hwsZecAhrZuxZA8YIxd3wIl5bMVK2vPV7I+DWEqZI3baS9UuztGYefTCTdJAG0UYBcDYe\n",
       "MqxQQrgen2jduC8JD1uWZfqMl78kptfChuBzltUH5ifrVcKsUOrFq4NkKKre1dTITyDDh2zZpbtu\n",
       "GbwZwvtJyawjc8HtXrx82+uNQA4PCe3YEvWDEAnuM7nHcMMjXaVbGAXA2VrKsEIJ4RjCj2W0WTvE\n",
       "Ujr6KIm3CKshyVL63bxKeJZ1kYTnxnBbf9nW8pycE870jRq2lgJB9YMA/Zuo3FpWFeIuNCdaZabz\n",
       "ATASrIbz2chh2B9Lw0eMsDFatlmMLExDtvbDg0y9lR4eVL9yjxVI6eGB51XXO5sBjpCX83R2qC24\n",
       "GnZ8it0Bm2e092e9pVhKQd+9bZ04IpJ9l7bs8VCX03U/HnojKH4VHmL1fuohkqjm7hwPS7a1WMO8\n",
       "AtjPWqxhzwNfrR8AYnJkwJWZN4Lid5UfAKS70JyHzYT7J56DK/rEU24dQ7JfX8Unnth/+8RD3IXe\n",
       "1u1hVID/q/wLVV30oXoZxjYAAAAASUVORK5CYII=\n",
       "\" style=\"display:inline;vertical-align:middle;\" /></a><br>"
      ],
      "text/plain": [
       "in_IntervalCO_def: forall_{a in Reals, b in Reals} [forall_{x} ((x in [a,b)) = ((x in Reals) and (a <= x < b)))]"
      ]
     },
     "execution_count": 5,
     "metadata": {},
     "output_type": "execute_result"
    }
   ],
   "source": [
    "in_IntervalCO_def = \\\n",
    "    Forall((a, b),\n",
    "           Forall(x,\n",
    "                  Equals(InSet(x, IntervalCO(a, b)),\n",
    "                         And(InSet(x, Reals),\n",
    "                             LesserSequence(\n",
    "                                 [LessEq._operator_, Less._operator_],\n",
    "                                 [a, x, b])))),\n",
    "           domain=Reals)"
   ]
  },
  {
   "cell_type": "code",
   "execution_count": 6,
   "metadata": {},
   "outputs": [
    {
     "data": {
      "text/html": [
       "<strong id=\"in_IntervalCC_def\">in_IntervalCC_def:</strong> <a class=\"ProveItLink\" href=\"__pv_it/34eacb0b0bf4dd8ecc72e8035565a566d8314c2e0/expr.ipynb\"><img src=\"data:image/png;base64,iVBORw0KGgoAAAANSUhEUgAAAd4AAAAVBAMAAAAa6JIzAAAAMFBMVEX///8QEBCIiIhmZma6urrM\n",
       "zMxUVFQiIiJERETc3Nzu7u6qqqp2dnaYmJgyMjIAAAAcRTyBAAAAAXRSTlMAQObYZgAABZNJREFU\n",
       "WMPdWGtoHFUUPtn3zs5s/CEYLcKY+CihLcFA9UcbY4uIUGX1R4wgZIlWqVBZQmK0xrDERybtD1cL\n",
       "sUgsUwNRY0yWFgkpQpdm/WGicVEhbdCwmKbQKGkoCpooeN9zdx7ZXf3ngbOPs/ec7373nnPm3gWo\n",
       "QnzrCafxA6blRy93wwxUEYDJjKtHxRLLWIpmUMS2nypzVVvj+E0rSDYlTdVttPTl41vQSx5CGccw\n",
       "zwCLdW+v1yEoh487nJsQ1COS5mEe29cq5atm0VvclGzxDNUyfGGFoClFxzDvAMUxaL9kWj4ZyaMk\n",
       "kXpckqtHoE5KmodT6DWarpQvGXlKtn3PtBzfLYIGFx3DvAOkRyASTVo+K5KHJBNdTlduw6iqbmme\n",
       "bBbZtYr4kkyYl22vMLXkUm9v0cE3sEn5nnEE9Q6A+PozReETHDQtD0tOvuacKLcRVOUmS/OgzY2P\n",
       "vwcV8/1xfPyTlGSKpqha0t7otr9qivKNt9pibhOA8E0Ln9ABXXhYMvyLc57CRlDhiqVoBn8YRl/l\n",
       "fGsNYzAn10kTVaX+yAGSd8qaNDq6797bWM11NmQxmtpkLzTvAIhvKJAUPpOQEh5wcvYOstvtV0QX\n",
       "4wEkG0GFWRCKZnAYYMiF22NFV76hBETkdhEpUJ2ARb2f7EJGGv1gJr5Bv0ytKX9iNI2EXVjHslIm\n",
       "AOI73WJyH1RG8wIycCtcJ5/ftEqWB5BsBBWWQSiawcHSpjm985mfyWzZRsS63mrRLQaBJtLnhISz\n",
       "VOfgW/MRgiatjnI7+FkrvGDCDYwWS9nWcJsA6Xd6+3FnYT4pOC08zhTgfrLXXeJZIQJINoIK0yAU\n",
       "zSAMPv48Vb5oLvhUmMP84hjp09n9oOfUD6WKTMFuebo1rVRNMKjhcbxzrF/5NyHM1qoFlL8wWnDD\n",
       "xnebAOmRgxE8deqj6Ti5mMcDJtAOrPVxciKAZCOo0AFCcUUVwqIxzowD4ruE+deitNJOvG8ivtpn\n",
       "Et9vIOU2XcALCSUPK7W1Jg1TCf4sCWxty9clQHrE/1Ba8A2bEExyjzpQfmf5tyLy/4Y4UnEbQbXx\n",
       "jRbb0OfRu1dxrgLhixtSR/0LKNWRIL4TEt/TGFRteOJwaTpCkOHXSHyncnCBffkb0GYjtEDKqt+r\n",
       "ZQKg+j3+HXCfc0ivMQ+0azG+cIGrbEl5AMlGUOFhEIpmAEPPokzuCW4COSwivs2Y9z1mAz1r6jl/\n",
       "s8Q3MoxeGkPF7tJ+dd63AeQ54tclvll4MUaX+jdccqJfuTQ8lwCIb5s/wX2uMc54tLIFoSI/VwcN\n",
       "kh4igGQjqLZ+BefQ8vmbgikYJXz9zxEqA7CskJal732+VeIbuw99SMR5yeO2hjSwFdmIUturFt+I\n",
       "rr2kwhSe7lF4naD5c/ae7x0AnSfV7GHmE0zTnKYeA7CYFJGiONekAMJGUWGfpZhvLVrQmqwvCU8a\n",
       "hqH71Hd/wENvhr3Blw1jAPSvdst8aZXU8qLBuYZU6WxsYJeOsTdM0Z877xq+E8LHcL3sKtDzhv2G\n",
       "5R0A3RdWwbiepT4hjO3TmcdY/VOdpScXKYAlBBVWLcV8NRR+KhNZMkM0n2NPY7xN2AFJms+fz8l8\n",
       "l4CUfsLzOHho0HaePM9/QWgfVXCe5AG4EJ8A+ZhwnifLipKyNM+7ZKbjUVATtH7nctHjcExLw5eU\n",
       "rzphOyFGNxYgV/l9ISfxrea+wOWii0cVUnpfYFnVeXY/wAn8UF7IjbYEd0Db16gzoL4Z6/tVaS6W\n",
       "MlCOHtrFH3H4tBXZ9j6o6BZfl/ugdwC+P0UXDyaTvVhK74N2W+l9sOQsi+qXPcHo205Uv543vErv\n",
       "+xpYfCNV3Pdd6FV73ycyJGm+4v9QyHr0V/V/jn30nm64/C/+z7n83/7P0TKW7un2GFSA/6n8A1vB\n",
       "Cfn03TrrAAAAAElFTkSuQmCC\n",
       "\" style=\"display:inline;vertical-align:middle;\" /></a><br>"
      ],
      "text/plain": [
       "in_IntervalCC_def: forall_{a in Reals, b in Reals} [forall_{x} ((x in [a,b]) = ((x in Reals) and (a <= x <= b)))]"
      ]
     },
     "execution_count": 6,
     "metadata": {},
     "output_type": "execute_result"
    }
   ],
   "source": [
    "in_IntervalCC_def = \\\n",
    "    Forall((a, b),\n",
    "           Forall(x,\n",
    "                  Equals(InSet(x, IntervalCC(a, b)),\n",
    "                         And(InSet(x, Reals),\n",
    "                             LesserSequence(\n",
    "                                 [LessEq._operator_, LessEq._operator_],\n",
    "                                 [a, x, b])))),\n",
    "           domain=Reals)"
   ]
  },
  {
   "cell_type": "code",
   "execution_count": 7,
   "metadata": {},
   "outputs": [
    {
     "name": "stdout",
     "output_type": "stream",
     "text": [
      "Axioms may be imported from autogenerated _axioms_.py\n"
     ]
    }
   ],
   "source": [
    "%end axioms"
   ]
  }
 ],
 "metadata": {
  "kernelspec": {
   "display_name": "Python 3",
   "language": "python",
   "name": "python3"
  }
 },
 "nbformat": 4,
 "nbformat_minor": 0
}
