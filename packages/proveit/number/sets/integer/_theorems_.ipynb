{
 "cells": [
  {
   "cell_type": "markdown",
   "metadata": {},
   "source": [
    "Theorems for context <a href=\"_context_.ipynb\" class=\"ProveItLink\">proveit.number.sets.integer</a>\n",
    "========"
   ]
  },
  {
   "cell_type": "code",
   "execution_count": 1,
   "metadata": {},
   "outputs": [],
   "source": [
    "import proveit\n",
    "# Automation is not needed when building theorem expressions:\n",
    "proveit.defaults.automation = False # This will speed things up.\n",
    "# the context is in the current directory:\n",
    "context = proveit.Context('.') # adds context root to sys.path if necessary\n",
    "from proveit import Operation\n",
    "from proveit._common_ import a, b, c, d, e, f, g, h, i, m, n, x, y, S, P\n",
    "from proveit.logic import And, Equals, Forall, Implies, inBool, InSet, Subset\n",
    "from proveit.number import zero, one, num, frac\n",
    "from proveit.number import Naturals, NaturalsPos, Integers, Interval, Rationals, Reals, RealsPos, Complexes\n",
    "from proveit.number import Add, subtract, Greater, GreaterEq, Less, LessEq, LessEqOnlySeq\n",
    "from proveit.number._common_ import Pzero, Pone, Pm, P_mAddOne, Pn"
   ]
  },
  {
   "cell_type": "code",
   "execution_count": 2,
   "metadata": {},
   "outputs": [
    {
     "name": "stdout",
     "output_type": "stream",
     "text": [
      "Defining theorems for context 'proveit.number.sets.integer'\n",
      "Subsequent end-of-cell assignments will define theorems\n",
      "'%end theorems' will finalize the definitions\n"
     ]
    }
   ],
   "source": [
    "%begin theorems"
   ]
  },
  {
   "cell_type": "code",
   "execution_count": 3,
   "metadata": {},
   "outputs": [
    {
     "data": {
      "text/html": [
       "<strong id=\"zeroInNats\"><a class=\"ProveItLink\" href=\"_proofs_/zeroInNats.ipynb\">zeroInNats</a>:</strong> <a class=\"ProveItLink\" href=\"__pv_it/5071f98c61b3ccd585aa2b44bab9dc29aa2d218e0/expr.ipynb\"><img src=\"data:image/png;base64,iVBORw0KGgoAAAANSUhEUgAAADMAAAAPBAMAAAC7N+rPAAAAMFBMVEX///9mZma6urpUVFREREQQ\n",
       "EBDc3NwiIiLu7u6qqqoyMjLMzMyYmJiIiIh2dnYAAADXmt2vAAAAAXRSTlMAQObYZgAAAONJREFU\n",
       "GNNjYOC785oBBXR98WpgePpVgYFhJUN7AqqcD7cBA8cHBgaeAAa+BahS5hvuMjAEMDCwGDBw/gCL\n",
       "8LiXV4EZRh7MGxgKGBj4DRiYfoIEuH0boLrMNnOsAEn1CzAw/QXbDpNhMOO8sBkklf+AgRssZQa3\n",
       "y4zhEc8FkJQAA/c/kIADkhRzgzWSgdxRq4AAKsVhwBUAdgYnyBlsyLoY9nGDHO/AwAN2fACyFM8E\n",
       "ByQvy8KlrIH4GciQSobWDSAB9gkwqZVAzAhS3nfXGizAYaIBkdn+FaiDAyXwmJ5AAwoKAGQvOOyD\n",
       "fUpGAAAAAElFTkSuQmCC\n",
       "\" style=\"display:inline;vertical-align:middle;\" /></a><br>"
      ],
      "text/plain": [
       "zeroInNats: 0 in Naturals"
      ]
     },
     "execution_count": 3,
     "metadata": {},
     "output_type": "execute_result"
    }
   ],
   "source": [
    "# Proven\n",
    "zeroInNats = InSet(zero, Naturals)"
   ]
  },
  {
   "cell_type": "code",
   "execution_count": 4,
   "metadata": {},
   "outputs": [
    {
     "data": {
      "text/html": [
       "<strong id=\"successiveNats\"><a class=\"ProveItLink\" href=\"_proofs_/successiveNats.ipynb\">successiveNats</a>:</strong> <a class=\"ProveItLink\" href=\"__pv_it/606a58baac2c7355cb6961f3ecb46698ffcfdf2a0/expr.ipynb\"><img src=\"data:image/png;base64,iVBORw0KGgoAAAANSUhEUgAAAK4AAAAUBAMAAADmcxvOAAAAMFBMVEX///8QEBCIiIhmZma6urrM\n",
       "zMxUVFQiIiJERETc3Nzu7u6qqqp2dnaYmJgyMjIAAAAcRTyBAAAAAXRSTlMAQObYZgAAAoRJREFU\n",
       "OMullc+L00AUx7/9kbRNk9aDgnjQyB4U8dA/YCtdPOhhD7t7UA+CUdzDehJUqrisIoIpXsKCWhYW\n",
       "46XCirUoRT2IZaseFCSoB2VVIihCD7UHBfUgvskktakZURz4NjMvk8+892beFPhjW/QV3e4K7FkL\n",
       "cFnnjWCCcppL0GRraPonswN1w2rMAE+YoSP4MGdxRfm0jjjukDHt7AJuAHWgSsOMyKXnvgZwOn/W\n",
       "Hn2n3+XhAI7FdcQAVUfOpkdDwD3h63cuNMa94g9elsue6/JOexopCmQVtMdLS5cE2MxhLiE3V/L6\n",
       "e7YE/l4w6jZx8R74apqzAm68wDU+Mz+iR3HVgrddnV8beVMyGLcNTAMVATftcLVMXfkWxdXc8LGQ\n",
       "LbX0jHHfAtvD2yodeYCNBu+nGp6kxhwyX6K4WS9J6cGDd0jeTZ3b9CHiTmC/1i7ijmonbD6MlTwp\n",
       "ymdoPRZ2t/txfbdr9LkSs2KySy3wvIZ31NlHk51UgNXOL9i4pxdUhLjI9iC7Uf5ybnXQX6k1ybkZ\n",
       "l86yVpwaYSmh1mzOB1w/D0i4yDt2BDfp5SEWKsAVlpYdpMpBmjXmxCxe0031+t6hfYu1cN9uCfct\n",
       "ofe5ExR/le8bbtGiC5uQtxXv1DTRavvT2DFiulzCU20izI0zboIvdrJf96zAtpFGSXk29QDGIB03\n",
       "zTPEXQwSzsJkoqguroTzm9j/o0gcvljtLE+SdGotvMsBH1gwzLgGoxIM7m9y6i/q2GtX/ef4uXLo\n",
       "ClKCIs30cLSJh6z7AngtvncUe3C0LCgoNVg9aWCrgzSlJzlXgtwvOItLdD27ghf1ofFmyu8/3OvC\n",
       "JSvA//wPvRLYNQs/AZLfsi9LVhx/AAAAAElFTkSuQmCC\n",
       "\" style=\"display:inline;vertical-align:middle;\" /></a><br>"
      ],
      "text/plain": [
       "successiveNats: forall_{n in Naturals} ((n + 1) in Naturals)"
      ]
     },
     "execution_count": 4,
     "metadata": {},
     "output_type": "execute_result"
    }
   ],
   "source": [
    "# In Progress\n",
    "successiveNats = Forall(n, InSet(Add(n, one), Naturals), domain=Naturals)"
   ]
  },
  {
   "cell_type": "code",
   "execution_count": 5,
   "metadata": {},
   "outputs": [
    {
     "data": {
      "text/html": [
       "<strong id=\"inductionLemma\"><a class=\"ProveItLink\" href=\"_proofs_/inductionLemma.ipynb\">inductionLemma</a>:</strong> <a class=\"ProveItLink\" href=\"__pv_it/37f5c5e1ca8471def3e9381a3be9a649dcb722600/expr.ipynb\"><img src=\"data:image/png;base64,iVBORw0KGgoAAAANSUhEUgAAAfkAAAAUBAMAAAB8NVk/AAAAMFBMVEX///8QEBCIiIhmZma6urrM\n",
       "zMxUVFQiIiJERETc3Nzu7u6qqqp2dnaYmJgyMjIAAAAcRTyBAAAAAXRSTlMAQObYZgAABcRJREFU\n",
       "WMOlWH1oHEUUf8nd5u5295L+0f5X7JlCKlLtWrFRSerVggURcxbUgIVEiaioNX5AbJUagpiLRXqo\n",
       "tLVQu62Y1itttkrQojXhEkWbWE5toZXYXvGjVPBIVURLpc73zu7OnEYfvGRubn/3e7+ZN29mFqCG\n",
       "1Vdzit6dkmvscOjztT/UooFUmbrarIKWJH0uG+Hyg6wVHQNX8Odv1Y/Z2Ub8Lx0IzOz3vTQTGR6r\n",
       "bTqdbQgFPFmTBvYx19gjoCWxs9CgGhwcnHIkOZCBp3DnTzr1tof+NbpyZ2NBeKNnbghjXgFzC5gV\n",
       "NqlCfS0aOM9cYYcQ90HQkiABnAvCQapMABl4Ow6yX6eefLM90Pm1718CHAtBYg7AaZQULAiHq69F\n",
       "k3aoS/Yum8LHnkDq7YyWBAngXJEgFSZFR8F4YskMK9WT6ZoKdG7w/SWAMZoXJ/v66BSMoKVwK8Bu\n",
       "+mznRq6+Fk2iQD2qHuAMwpnz2CgN9m0KkWD1u31YsiAFKQ1vFMjA6aPF4jbQqp8pFt/pDVSoXt9/\n",
       "B+ggijqv5l93oBpxN5r0LPnU08zV16LZxlynHr4nTWPAjZBg9YyLPNLvB+mbCsjBf+Tzz+vVN+Xz\n",
       "g+OBfcARbv6Kfg9npekv6JFLpA7aJJHNSoKrr0WzmPmelteXZlTqJ0jzoBslwQJsJ5LxOMD4p280\n",
       "L9cCOfhBgCG9+oYcSSdjeuoES66y8NQlgC4crlR26y9fxiU6TdaB7bFkn1TQrJs+kuOliLg5nn4q\n",
       "UVGpPx0q/T4JFkC5WvuwveCIIO3kAIwUdEAOXh2smsbTk3Blt1Afd0jJXQ3WLFuknvAUmvsunBhJ\n",
       "CX/g/gsoYIukXgJSFa4+RIN/eIw1n6Nuu/bFeEGl/n3S7FeQYAGWnOYfezzI+9BI7srpgBycgHqx\n",
       "n++faIcPbDfmCvXQC9eg1kbxG3VZ4SLz76oiE9puQdQGGauvyJRT9RKN+dH1ZUi4YtDmUzchSTmO\n",
       "VatPVqs/+uq7yLRcgVlCJDhCY1be6M9mWZDuSBbOaIEcbJcTojZu3uHCkYxj+5kPXwAe2j8BvIh6\n",
       "XPXGvMCWiJEjQj0as3u4eonm5OEiQFMBrKB61JdRVz2i3t8vJZKI+q2f8yBxaq3XAjk4VUERptvX\n",
       "LsbZiWx09FVZ/ZsGXgZnJ8X25Gc+5Fl0dYJ8GMeKuuJ4yCyHHzsmGQ2UbmjJxcnabFwoSjXLfITM\n",
       "qdWvIc15ChIcIeGClVVi50WQsBLgL1MH5GAY6kHqV5XrCvQ4OmofWCepT27Fz7y1aD5Eqp447cTE\n",
       "nB1C3sarHlZuOUw9oal31yfo6RnM6y5kIVD1LHcZekBf9ZYrSPyqR+1OP0hYCNZFWwfkYHgPjcSO\n",
       "JdDkmiTSURifkNRbrXQHfYj3Ob4nPHOBmD1irWgfwbkSw8Wwk2U/VY9pDPgZjSRPUl6tJqh3eFvE\n",
       "5USoX+ayiNmEhkhwhDF/R+ZbLw4u9RvYlRM6IAfT1fYArALj2Xx+AKnfmZDUwy/I30brhdfqXt/N\n",
       "UgvN1eEX2Zw5t614lOQ17u/BrWauni5qVEDuzefzGTMHJl+va6gPN+9pL4fUr1j0HeqiN0Tz4dsj\n",
       "JOS049+0GnKBIFOPezogB0MaR74A2gzopnMfXyur/wb5h7x8BU+6vt0x2BfYz/biPySzDa6e0Biz\n",
       "BjSQy5YHRve/OOmS6FmSxD9jB1afBEe4VzqIgvKkqwByMIXNwjOj8AluHgeYkdVjuxHMlxW3HL2V\n",
       "wjdcarvsig02nqBYP+xz9becYuDQldGSzPGWI0VXkuTFu2FpGZIoUeKbsnR2ZPU3tU248k2Cu87C\n",
       "t06ufvh46SjAZqz+tembxddDoD9vguqGK0h0N9xawck33IBdhdZ98KSrfnHAXWfJglo9O2+idT+X\n",
       "txtDehIUYXIubzcC86eUJ4W56T++2ToV+rzk/7zZShe0JPXnshGuf36zdUqA/wa6EhhVnbkSEQAA\n",
       "AABJRU5ErkJggg==\n",
       "\" style=\"display:inline;vertical-align:middle;\" /></a><br>"
      ],
      "text/plain": [
       "inductionLemma: forall_{n in Naturals} [forall_{S} (((0 in S) and [forall_{x in S} ((x + 1) in S)]) => (n in S))]"
      ]
     },
     "execution_count": 5,
     "metadata": {},
     "output_type": "execute_result"
    }
   ],
   "source": [
    "inductionLemma = Forall(n, Forall(S, Implies(And(InSet(zero, S), Forall(x, InSet(Add(x,one), S), domain=S)), InSet(n, S))), domain=Naturals)"
   ]
  },
  {
   "cell_type": "code",
   "execution_count": 6,
   "metadata": {},
   "outputs": [
    {
     "data": {
      "text/html": [
       "<strong id=\"induction\"><a class=\"ProveItLink\" href=\"_proofs_/induction.ipynb\">induction</a>:</strong> <a class=\"ProveItLink\" href=\"__pv_it/c23bf2cc02ad6df44cad408ab9af8f3624d03fb80/expr.ipynb\"><img src=\"data:image/png;base64,iVBORw0KGgoAAAANSUhEUgAAAe8AAAAaBAMAAABsj8ngAAAAMFBMVEX///8QEBCIiIhmZma6urrM\n",
       "zMxUVFQiIiJERETc3Nzu7u6qqqp2dnaYmJgyMjIAAAAcRTyBAAAAAXRSTlMAQObYZgAABnJJREFU\n",
       "WMPlmF1sFFUUxw+zs92v2bYx4IPRWMAAUT42xCgaMIsmwBuVGEMisU1jEbDqGjA1iGSDCWxjCBsf\n",
       "EDHSUR/Eqm0RKvpg2FDQBJDUCMQYhY0gCZKUBipKwY9z7tyvnb2z0LUSE2/S05mdO+c/vzvnnjn3\n",
       "ApjaY9Jcpz3dnoeb0Ba2FwAaxsydFXQh3CzM9VoGbk6L4cMsGDNvdhBarSvMfwncGRgzd18H/D5b\n",
       "GqHraSby/w54rBISEyVwWGuK2sHGUQiQr5NrACL4Uov0w4+l3UaEOfHXxuWnsdNOHO8ZBwFWloPX\n",
       "0r9kdS9Dc1+hrRTgkw0XnbQBIFiAfB3A4UoBHKbzX0qdpYSBPwGitwGcAzgP7+ehW3TJS3Cn90an\n",
       "haEp9wFtFzruFuCdRnADQLBAtwceGwLYRm6zJb3H9QoTvobhcRGSKUjWg1MER2TW0xKc3butOm7l\n",
       "3tc+8f7F255HcBJl4JFeE7gBIFiAfCE4vOy9LKfUY6crjDWMf9cgkodoMyRGIF7PHW5y5RynwT5c\n",
       "5WdFujeDA5xCHRJl4CENr0OCGwCCBcgXgc/B6Xmoq+uN0u7fSBPFkKgZBrxe1wz2VYAzXo+ahxsk\n",
       "+A9dXR9UmeOU+0rgJMrArXrVY6kENwBUEDjjgU/Ev99zuXWl3R+Spg4zR2eKskpPCuyLAP1iqmQk\n",
       "eF0ut6lwQ7lbHMg8rNzbX745qSW8/ykjeD8Ht0eUMxG9TtoAAGaB2Z4vAl+MfltZ3Nhb2uas4t1z\n",
       "0jQVIIFON+PtBQgj+Emvx2ER3Ahe0wjRoPItzeyiy/0bUUiOzh5xoNw70Q3QcxfsMoKf5ODhX+mn\n",
       "UDtrlyR4qwp8f/MJ5JkvAm/CwX8E4kUvtL/i3c9KM6vtyGyXpQIcN8oUewXvDglup1Sy5xlg9QGY\n",
       "yIojb1JSYsxAjRydkDhS7p+IFGlsTxnB93Lw2LD+eT8vwDlAuXqZQCPzReCd+EoiYNFXeDl247eu\n",
       "lmaLl8PGy1Bv8kga6D2LAiYDMzTdD/vnwWeOG3IVeE0zWEOwTHaJi4pRuXd70rDPhRV0enRw8IXB\n",
       "wbMKvImDx3Vw6B7PwTlAubpf4JTni8DxDCvBCF18hUe3+FYx8xuIGzG5Ja4KcCx8eCWfYfWfltuS\n",
       "r2134YuGlAMKPDIA0SxFpGjis6rcwz6A+wFuMb7xJtMbj7XlOTgHKFf3CzynwOmNx4qP02heAUuU\n",
       "hBuFCfOJhKGCT57E3LKQne+WD0/IO2gQvj0+KTWplSYOtr6+13VwnFtTXeyanLdksjUFQ4VHiOae\n",
       "cuk6sK/ETeALxRy/wibKoNfyItQZAPn2q/sF/ogzX2yO090dlEvta9Plx3iFMBYf4s3ACxie3M5x\n",
       "eA88uhWH79gdcKs7hVfAfc7HyzTwxfuP9EIMwecPjFtlIcKn6ivL3cPtFMih4luVkpue1e2iTG4M\n",
       "gHznfeo+gcSII5MbZXXYTU/vaPlhojC1XKmfjdo7+K7msoHMeuHOwRMYo7F3MzCMV+PsK9MHhX4N\n",
       "/Ch70ixsnwp16RAm90V8EajcYxQnhqC2UPCBzyKVuRw8qX3Hu10FTgDk2/Wp+wSc4nHm64CoUuqo\n",
       "GIlqZSMbDjShC5e9OoUC/CMKZPiZJSv6SlkNcnV2kX5rCNfj4IRfyuU2oPTbEQ38VbEGboFHWd35\n",
       "pJfcNfd2hhYOiXn5UvD77jw9wETLKrdWUOAMoAXm+9V9ArFne5kvXrnhQBJnnVb0jUsLw5ss+eIM\n",
       "1FZlCDv/nro3WtnYUCM0e2NuL9HAr4owmQDToDNctqVQoWQVogy8VtuDyWvgDGACzA371A0C5IvA\n",
       "f1Kfek2cotEzvjJJLVLK1uOd+M6T2QIcpJNjWMgqcC8noSSuiVrgO0dcLHcvW1fJOkQsUnpc0yKF\n",
       "J/khWNPnUzcI8EVKXGYL68IDWglQL4x/SdAduBGxAGrzsTYXohg59vo01CjwmZfYoK6laD8HWw8B\n",
       "3Ovz0lGx1JXL0hMQDI6+pw/41A0CfFmaDNh7ekYa3nYGPWH56mQazjLZ9NXiPeqw6Lun8kZEhwB/\n",
       "sQK4Sd0g0OGBRxqDx7jk7fKtm+Rot5508KiqNgdGs/WUFFtPSdNSyFo/mq0n8jVzTdlUUE+WEuYf\n",
       "bjbq4Lake6+6zcYqdztM3rJBV/aULKIqtPbK++olY/e5OLi7in11BH9wzMBDLvx/298OuDAvx8eK\n",
       "5wAAAABJRU5ErkJggg==\n",
       "\" style=\"display:inline;vertical-align:middle;\" /></a><br>"
      ],
      "text/plain": [
       "induction: forall_{P} ((P(0) and [forall_{m in Naturals | P(m)} P(m + 1)]) => [forall_{n in Naturals} P(n)])"
      ]
     },
     "execution_count": 6,
     "metadata": {},
     "output_type": "execute_result"
    }
   ],
   "source": [
    "induction = Forall(P, Implies(And(Pzero, \n",
    "                                  Forall(m, P_mAddOne, \n",
    "                                         domain=Naturals, condition=Pm)), \n",
    "                              Forall(n, Pn, domain=Naturals)))"
   ]
  },
  {
   "cell_type": "code",
   "execution_count": 7,
   "metadata": {},
   "outputs": [
    {
     "data": {
      "text/html": [
       "<strong id=\"natPosInduction\"><a class=\"ProveItLink\" href=\"_proofs_/natPosInduction.ipynb\">natPosInduction</a>:</strong> <a class=\"ProveItLink\" href=\"__pv_it/a620bd3ec5412526e7d9cde8348c5e1337c7e0c00/expr.ipynb\"><img src=\"data:image/png;base64,iVBORw0KGgoAAAANSUhEUgAAAgcAAAAaBAMAAADRWOJkAAAAMFBMVEX///8QEBCIiIhmZma6urrM\n",
       "zMxUVFQiIiJERETc3Nzu7u6qqqp2dnaYmJgyMjIAAAAcRTyBAAAAAXRSTlMAQObYZgAABuRJREFU\n",
       "WMPNmWtsVEUUgE/3/W5jwB8+4gIGCALdgFEklCySAP8oxBgTia2NRcQKa8BUHpIVE2hjDBt/AGJg\n",
       "r5qo1FiKWNEfhk0XMQEkNTyiRmEjSIImpYGKUBE8Zx73zt6du1tsJUyy3bt7Z8/ju+ecOTMF0A1v\n",
       "Ev88AZXH860ZuG1jfmsOID7CQl2Od54kEI1DEJGC2zmCaNK8EZbpcXTzd3zFjDsSQqR3hIV+5/C9\n",
       "m2JumvrNTv721f8JIVjOvXBGQIC1upjuq79lNSTx9GoAPz7sAn3xS/G8LH4fHMSL6MqrS1fMBAil\n",
       "+Q1fpgRCjN6iw3k8p25uWnoWNX5cdtYLEsI4zc1IUudGBTUk8SACTAAckeGvjDzJTdBVNQp/3YAY\n",
       "Oh++B2EUxIyMCSHSNdTUcRw3AAIo/ILjhL0ovlNCyGoh6NyooKaTQwj2A2wn4eni6ffiq4qcgwas\n",
       "xwficBzgw0MUGj1ixlkTAvvt9uEw8F5HwpcgmrDf+Iy/hVpWIoRIXEDwd+kg6NyooIYkIgRYxx9i\n",
       "pFguy4Qse7i1uFbW5mANhTx9+54QuNkwawLhPzKsRWoAX9fBn3GAAHAGtYVqBAS34mq7CUHjRiU1\n",
       "JJEgzEDfDnd0bCueHsW78D273IKvlclgSkKIJXlteDxuQvi5o2P3sOpjAOPRNwDboCwEOCcguGqs\n",
       "GU+ZEDRuVFRzjkMYg6+rbW3rbYsDZf5smUfBy6x2cAi8UmA6pUwI1W1tm3NatbmhQaC6k01QwfMc\n",
       "emdsk7fnOS2EvIDgGVQeV0JC0Lhhs6FYzTQukSAsROnNLKo8W1pmLJfMKODaZB7tz0GgV0KI8sp4\n",
       "RCYAQvDVQ0DfNia0K5S8MBc1rDthtP8t9CWwEfY8CHu1EE4LCN4/2YNqZeOyCaHZSg69DTY1GSaR\n",
       "IDSgJXN5zcfw/1ZMj5Gu8yyPrhzNTxK1iEEIp4Tvu0wIngSrs2UM4Cm04Ep+k6E8ms/lRW3L0WkG\n",
       "q09P+wuQzcEZLYT9AkJwQG0f/pAQ5lpLlx6CTU09k0gQsmifH1z0oJfiNDHdT79cxWKCh15VUkLw\n",
       "9rMojNPzl81SCqbY6vCqgzCm0TIgLStNJKV0Gm55tYUX2VEAxp4kHDBgGX081tf3cl/feQtCg4AQ\n",
       "UiFA5ygBQbjhZINdzRkukSDgJ+xD/XTzNZEBFAkJuQhWp7QQsMkSO4sU6zvVuvhJvg6+jBhuIz99\n",
       "1fQuBYKvEVz9sMScGJJN+18grYMDAI8C3KWNhAZdJARbMgKCcMPJBruaFRYEioRggbZLoWvgkg1p\n",
       "gHRtYnnEQVrp4GH+7gPZc9DHXepWK/rmDgO+jiciYI8Efy8Vm2ZrquhavCKv1/FqvB4810I6CPNl\n",
       "TbjG4qiPj4xMB+6Gow12Nf+EmERWE0hGO1Vjz/XJ5mLvI6uXyTaBqNgK4wUBgkMIbMVZx0+OTYxt\n",
       "pgqDo7v77VIIWIomGPiDaN3ica7xmE1TrPWbBlYsuI+C3V14t1xhVFcHT8EsjMwNkq23waYmPBgx\n",
       "CyOtDrCPPIkoVYWtxLR6wkWeR2xhdJFyN9U1b5qnhIAQxgiGE/fD3cZ4sRXpjny6pATCwp6jXYAd\n",
       "R3ROb9VyF7rzhUi+QbNXx0gP90Msl7NBqCVdswSEqNIndBoWBHKDZGe0NtjURAonmcSDsiOqpsYn\n",
       "oKxnjDXxmX2ziX+B8t3P3qhDUVQPfRQfrri5i7yEct9PwQBKDTEx3ZDLl0A4xiSlYccEqE4SzAW8\n",
       "Pl68whuv+UwPtiThukwxhEceOIuh+JumY2wGCwK5QbINrQ02NcGXuphE0TEiPsJZrbaco2QxlGON\n",
       "vPiIeWKt8wzCTwQm7q3BfPO+2ta2EQ3Y6Vc6AW71G/IIowkWsSrzTPGaUqZtZnU0JSDElLOljAKB\n",
       "udEEc/Q2aNSQRILwq9VKqCbMkoEvx3F50eN0nlBV70oH++uhkT8Fz2JlEofwN4hMGg0TIestOSMq\n",
       "3UB1FO2R5AZqj6HbQImL0TDLq7VBo0ZsoEJmjXFdfEyZuIjMrVH7boGopB8xIWQxFqLpHHxDH07g\n",
       "jsIOgRd1pI9b1yb4IVI8Rd0N6Ye5lT4FzhBQ9upurQ0aNWIrHXU4X/NRbryoxmK6GEYphHkQywRb\n",
       "DAjgTz0bkuCzQ5h6mf12LWXEBdh6GOBhm6zyhyrtEsIrZSCg7Mm9Whs0ato5BL/DoRR74J2a47Uf\n",
       "Kx+vTcR8tA11m/+QdVm4leO1qDxei+q2Za4N9RVsKFVDEqeudooX0QSEEyN10KpCCFht/60fyRGE\n",
       "YZ3f6GQ6nsSEk+oOp8xoHcr/HVQ1HtP1D/7D/x0QwswRhuA24LaMopAyD6wnwR0z/gV+OjMg1Ruu\n",
       "qgAAAABJRU5ErkJggg==\n",
       "\" style=\"display:inline;vertical-align:middle;\" /></a><br>"
      ],
      "text/plain": [
       "natPosInduction: forall_{P} ((P(1) and [forall_{m in NaturalsPos | P(m)} P(m + 1)]) => [forall_{n in NaturalsPos} P(n)])"
      ]
     },
     "execution_count": 7,
     "metadata": {},
     "output_type": "execute_result"
    }
   ],
   "source": [
    "natPosInduction = Forall(P, Implies(And(Pone, \n",
    "                                        Forall(m, P_mAddOne, domain=NaturalsPos, \n",
    "                                               condition=Pm)), \n",
    "                                    Forall(n, Pn, domain=NaturalsPos)))"
   ]
  },
  {
   "cell_type": "code",
   "execution_count": 8,
   "metadata": {},
   "outputs": [
    {
     "data": {
      "text/html": [
       "<strong id=\"inNaturalsIfNonNeg\"><a class=\"ProveItLink\" href=\"_proofs_/inNaturalsIfNonNeg.ipynb\">inNaturalsIfNonNeg</a>:</strong> <a class=\"ProveItLink\" href=\"__pv_it/ca8e87401a66930738c16700d7fb8cc41e7609a40/expr.ipynb\"><img src=\"data:image/png;base64,iVBORw0KGgoAAAANSUhEUgAAAKcAAAAWBAMAAABXrpEPAAAAMFBMVEX///8QEBCIiIhmZma6urrM\n",
       "zMxUVFQiIiJERETc3Nzu7u6qqqp2dnaYmJgyMjIAAAAcRTyBAAAAAXRSTlMAQObYZgAAAoxJREFU\n",
       "OMutVU1oE1EQ/pLN72Y3ingQRVj8O0gPQUE8KEQEvSjEg6kHJaG0Si5SCpqDCgEDJoqyJxVFWBtQ\n",
       "CWKCIlgQjI0HW0VyEhWEXESsKC14KDk58/YvK7G4wYEls997872Z+eZtgGEs3vn72gw9XXY++yR9\n",
       "MAB7tHzNwMuldEQH3jCw4JP02yDwajgPeREypXmTqyn541RTg9BTmU3AamAWSBqA0vRHGtX73z4U\n",
       "i6KH45cjGUwCd+nU+Xr9hs/qPfuPbbecQlZeYNJkGliuVM77JN3MLduzYz37sqNHIaFlmVSh5kwA\n",
       "1UGR6T+BkRFHEnr26clF9iNOKwp4pWpEqlIz9gu9HIusa18UOrjiHRBxaiuRt4BzlOBGSGJHDC5p\n",
       "xJgg0gQ9UQTtUZaf7+xEdWXa8JLGd2VYnTR6FrAWkHqIauwf+UnWNUnlfJLUD1MFSifq6DhTRwIn\n",
       "7sBLivhuYm1ksMElDZQYgDmSdqY4HrZI490sIbVtXxAyxy/V6iNlnEp4nUZOxwW3/EYLL4Qf6CdV\n",
       "mxQVovJRHaeoM+EekuZk3864pALn33dGzsCUK1SjidMJ7rWk2aSkOOZKplB4QsxSKjyJmlibVuCS\n",
       "Cpws+IMzXWOFt0kfTT2r2Gmb9p33E6HEla6iswLNYB6jlUpFQ2setxxSgdNBV0RPf1nhByn1sa3X\n",
       "t4iXe2WhK0aXKIIHKcmVqgQ29NgnI8JroacdzDmkAsfDsld97zU9dKnYP5O4bzsBPXcYCh8hSWan\n",
       "rUwZr5VFB1LOnA7+oNg2azuhscd7ASoS70++/Zp3SAV+1LpRbSeuugKn5ypxMtxT20o+P9K2xfQV\n",
       "FktD/p18xD+RPqOpqBj4H5YaPvQ3KfStYNRrsO8AAAAASUVORK5CYII=\n",
       "\" style=\"display:inline;vertical-align:middle;\" /></a><br>"
      ],
      "text/plain": [
       "inNaturalsIfNonNeg: forall_{a in Integers | a >= 0} (a in Naturals)"
      ]
     },
     "execution_count": 8,
     "metadata": {},
     "output_type": "execute_result"
    }
   ],
   "source": [
    "inNaturalsIfNonNeg = Forall(a, InSet(a,Naturals), \n",
    "                            domain=Integers, condition=GreaterEq(a, zero))"
   ]
  },
  {
   "cell_type": "code",
   "execution_count": 9,
   "metadata": {},
   "outputs": [
    {
     "data": {
      "text/html": [
       "<strong id=\"inNaturalsPosIfPos\"><a class=\"ProveItLink\" href=\"_proofs_/inNaturalsPosIfPos.ipynb\">inNaturalsPosIfPos</a>:</strong> <a class=\"ProveItLink\" href=\"__pv_it/e44b12a64a33df4fd723ffa32f4a51820d2f10eb0/expr.ipynb\"><img src=\"data:image/png;base64,iVBORw0KGgoAAAANSUhEUgAAALcAAAAbBAMAAADMngM5AAAAMFBMVEX///8QEBCIiIhmZma6urrM\n",
       "zMxUVFQiIiJERETc3Nzu7u6qqqp2dnaYmJgyMjIAAAAcRTyBAAAAAXRSTlMAQObYZgAAAtxJREFU\n",
       "SMfNlk1oE0EUx//ZbHabzTYW6SEi1NSDpx6CXkT8CHgRQU0vth4kS7FFPRWh9OBXaA+meFmQYlHE\n",
       "tYUccmhKi4eCh0AuWhVSDyp+QCyIUDTtQUGqB99MsruTpmabgOCDDTNvMr+8efN/bwP8fxaIN1o1\n",
       "6JFah59tuJqiRzZahq96wvGyVbY/6g1XLaDEBh+bhD+06n3aWnoV+p5OGy7FgOfep6y3wlbOtiLd\n",
       "RA5KudxV/gYE14EpcgdTTcJ3b+VURqQofE5acBUI0wn1uebYwQ1x1n5r9AaHn7AGobrwg7S0lM3e\n",
       "bTLw9g5R8mPVC1AmjVlLgHfT8zOdvtasWJgK7hS6OXXWvlzFnA8YAvwMLQwCE1sR6mqwp8e5Otot\n",
       "78Ian1xycm7q8VcCPJkAjkMridcSKYzH3G8wm6zkIh+yiy5Mg0dFllTxe4qJy0ofG5kVvVJ4KqSi\n",
       "LdUnB4qqqU9btfAMP5kah32PKv36MQtXeMq7ymRVeAaf3DBzBNeLqj19u5hFCOcf1EZEcmVHzyUc\n",
       "BYYJHoH2AzUyJngg3ytUGsGDJdaFZvZ9hszTgVhegDM/0H+IUmjiup1zA9pvhNb5pEOA432bC0+y\n",
       "7ExcoISMBDYQruT2fsKFcz/Z6SiS1TwwTAraLyilRTbZ78Bpnz7lwplasDBM4ooFhjHDfdO60H24\n",
       "n9mySYHsrG6TKNoxvDH4EVW7AsNscNSFL7OPHdTifHOSgb50Oh1Ffgn3HDj3k4VWWM6/V7fJdJrM\n",
       "3nMDXK3axZOVYroZYap34VxM7RR+zmx7Zyl84+Minjlw7ifnV0tUCzpF/ctPK+W/2Vbsgc9MnoLO\n",
       "ku33Qx52I2d+BMYt1kIdnePwNspYc0KRB+aPALdp9HroxRfDgXN/cIhXRY/baHu304A2vecklvOa\n",
       "1wm3/kRdd91GG1UTXu+qvx255A3/gBbhWPDu+Q33xxothuKebdn6x3+d/gCiBbZ60yLxBgAAAABJ\n",
       "RU5ErkJggg==\n",
       "\" style=\"display:inline;vertical-align:middle;\" /></a><br>"
      ],
      "text/plain": [
       "inNaturalsPosIfPos: forall_{a in Integers | a > 0} (a in NaturalsPos)"
      ]
     },
     "execution_count": 9,
     "metadata": {},
     "output_type": "execute_result"
    }
   ],
   "source": [
    "inNaturalsPosIfPos = Forall(a, InSet(a,NaturalsPos), \n",
    "                            domain=Integers, condition=Greater(a, zero))"
   ]
  },
  {
   "cell_type": "code",
   "execution_count": 10,
   "metadata": {},
   "outputs": [
    {
     "data": {
      "text/html": [
       "<strong id=\"intervalInNats\"><a class=\"ProveItLink\" href=\"_proofs_/intervalInNats.ipynb\">intervalInNats</a>:</strong> <a class=\"ProveItLink\" href=\"__pv_it/fdc7de64a65b71f63be897de728fdc414c59999a0/expr.ipynb\"><img src=\"data:image/png;base64,iVBORw0KGgoAAAANSUhEUgAAAQYAAAAZBAMAAAAh7J31AAAAMFBMVEX///8QEBCIiIhmZma6urrM\n",
       "zMxUVFQiIiJERETc3Nzu7u6qqqp2dnaYmJgyMjIAAAAcRTyBAAAAAXRSTlMAQObYZgAAA61JREFU\n",
       "SMfll12ITGEYx//zcebjfMy6QImLsVvIR02UC6GR5AYNF7u0WyaRVmjKx/hK06YMouGCoeRIoRW7\n",
       "0ZQtH4OlLGoShXzMBRcorXKhLeV53nc+zpkZ057iynMxc973ef5zfvO8z/Oe9wBOzJfcjb9s3uQ+\n",
       "ZwI//oGd/C8YgoUmzgHJUOSvd6NncBRPdrnR5LWfx0zc+x71ZQTDE577MnoGR/FknxvOHlXiUIeh\n",
       "FgVDlvOVGj2Do3jAiDSc3hhrBcYA9wVDyAT0/tEzOIonRcY2fJVMisVcf9gXQwI4LxiMod7eUw5q\n",
       "0lE8YA9dPb100d2ufmGGUFT0xc90ep+TvnASD7TRLvTodOtsMVArddSthduZQY8Ihg3AoQbiFcU/\n",
       "MNTFK89qhcqMavHRfQI96BNL4qssTDcGjTAxGEXBsFhWZ9k65kfd4yEJxR22DWJy3MJQEw8cN21D\n",
       "Fvry5dFeoNNfxLkYDwKoMvjMDcSgJQSDH+7yNqLemlPQUkOYR9chrrsrDxbgpm56TAuDJV74ccee\n",
       "KxZqFcqxgNkXxQcxWPmNrCgZ1HiI+kIZFgx6obL7vRrohfbcA/4XLZQ348gZE7fDEd26FpZ44a9l\n",
       "YKGNAXeBrWKQteQBXUqVIVhsp8kLUz7By+nXOteEmWFt6yZKO1kud8LGIOKNBavaIP2CgeUlY2GV\n",
       "gdYCC4FfKg9cVgajn3YZr1wLHFpPq7BDGUGIvVps6CUzTDXb5L6c06922Z4XHG8sKrgy0s8MQl4y\n",
       "FlYZqCYxCdqI+BuecHmaChuPU5WaxA1i8USUBC5IBl2UYw/eq6Isc8g/sDFw/JmpaDGlH5tL8pKR\n",
       "EOqE8oikwR/Qiy8rWRH2lYno/p68ZGghOle/O46OdDod1mLBQkIs5FxlVzrdQwxn/TYGjsc6LIL0\n",
       "r46U5JUKmEvdVW6MpSLfwS1yZ714QFZ3x3fKAbdXKCYZDJrvywTemD6ZByzhm4xgIuIyD95VNgaO\n",
       "xzjMV6Sf8yDkpRgWVvNQs1cvO5i0NfYly/nBlVm7HDo3sRGFkQ8exh4jhYfsegG8rTs/BIexPSf9\n",
       "XA9CnjVJljVZWK2HPzyzynbfwuBdd506/Qgn7yMQVyai/SntKZRB7/4ofHUM3jhmFoRfMAj5yowy\n",
       "gT5YWGVouAdXrPTstpqb6kFeafJrGq13s3OU8N+p/20Lw+VmDIFMk7PcgIOzXHOGpme5183OkwUH\n",
       "DOcz9e8A+X94pm30fhGcVTujPHHyfrHzNz4lEUy/K5VIAAAAAElFTkSuQmCC\n",
       "\" style=\"display:inline;vertical-align:middle;\" /></a><br>"
      ],
      "text/plain": [
       "intervalInNats: forall_{a in Naturals, b in Naturals} [forall_{n in {a...b}} (n in Naturals)]"
      ]
     },
     "execution_count": 10,
     "metadata": {},
     "output_type": "execute_result"
    }
   ],
   "source": [
    "intervalInNats = Forall((a, b), Forall(n, InSet(n, Naturals), \n",
    "                                       domain=Interval(a, b)), domain=Naturals)"
   ]
  },
  {
   "cell_type": "code",
   "execution_count": 11,
   "metadata": {},
   "outputs": [
    {
     "data": {
      "text/html": [
       "<strong id=\"intervalInNatsPos\"><a class=\"ProveItLink\" href=\"_proofs_/intervalInNatsPos.ipynb\">intervalInNatsPos</a>:</strong> <a class=\"ProveItLink\" href=\"__pv_it/9470dede9ac15ed117d26f4c0d24735f8e13bdd40/expr.ipynb\"><img src=\"data:image/png;base64,iVBORw0KGgoAAAANSUhEUgAAAUYAAAAbBAMAAADynjteAAAAMFBMVEX///8QEBCIiIhmZma6urrM\n",
       "zMxUVFQiIiJERETc3Nzu7u6qqqp2dnaYmJgyMjIAAAAcRTyBAAAAAXRSTlMAQObYZgAABLlJREFU\n",
       "WMPlmF2IG1UUx//5mJlkMrPZh31oXNTYhVUqQnBBF7ESEKrQqlkfun1oSRRbbVkkD7bRWnTpqp22\n",
       "CqHgulS04xYqRuiGlhYKUgeXPnS7W+In/VglFkSoGEtpwc2T595JMnc2ITtxF4o4MJmZO/ee+d1z\n",
       "z/+eewP8X46Xc/mO20jJtq8zdPrpDOb2rAxj9l+02dj+9SjjY6AYv3OM15dmxNydZQzEPTAqJmcs\n",
       "s/ufl83YxS56yXuTI2aLQvUv4zq0e3vqjP4EZ7zgwe8eGLUiXbpM702mW5aGShSmU5ArlXsqfwLh\n",
       "G5xxgn7Do8tm5CYmOmjS27JU3umPw9cYa7zJGVnfuROWGY9sKC54bxGuuh4v5XI86OSnza1QHMZB\n",
       "zqjPFAofrYBm5guFLzqQjt4tPm1aU/fjh5njpsB4n63rvw1jzwowRg1jn9WBrMltG7Yf6uPqVht6\n",
       "kPMnpIzA+JzJGbcC+1sYeba8qCC4uIb/G0tglFMIuZPNZpfKgxXgeSemQsRgGXF1wSZzGLXkdwJj\n",
       "OsUZn4Qq4sirpseY4rVEreCF9wcHuFUnllL8Mo/TAmMwgePuiLurWcgjjaeuDKTiWwjfdpsm2h3y\n",
       "MLuzsY8kOaMCf73D6lcDJSWvTbIppIv1+cvptXgDM2vchtRXuIHXEDWFOTyLhyDYQWTRQPxB59nG\n",
       "k5KAqt6CziYXDFXoKNcYj+FXp9GUzaiVlIa6zhQQwZZP2H2UOPSDh00UpcslNyPC79FL9TZ8RYFx\n",
       "zsk2zE4T44KLsYuGKXIDMq80IfpRsoaEmd5mDJdZdj/a/xsbLnYkeJilV++gMODhrcFhVB9+lUZa\n",
       "GjMhLUApCYyfSrQC+P7H1YmaHcZo17aXOTf7TYExlOG6iZbYUPhERlwVvJHO2/l6/0tkbKdUtfMZ\n",
       "9I+52fvNPjtP4vIpgfHzVJpZDV4DNVDiAmNonPr8w92I1ewwxlptrrDdlNgcRpk04bPwtWm5cjcp\n",
       "D5qQCmq6xkn6QiAhZXGUF0/abtuLX1TuDzVuCYwDGLZ7EiM/+kTGyKM0JpNZVGt2ZMupzZrH9TI+\n",
       "awjY380H8qKeqqcTOwRY9DzhMH5bW/dE6Uu+oj+DYcMw4rBmcJhKe/CI9Lph7IWmmWGzwdiLfn49\n",
       "G6d4jCbFdc9NBhYPdtt2pDGhNhvPZICk3JiJg5RnnqLvX+VPx96x3S29vYp+hflhsMao0/upfOiK\n",
       "KfPGp0o4T9cqfYAvMddvgZavM9J89kGBzZ4zTbrGFUaSClgpue7Hem2uQZMU5vgRPS5BbdiXK7ea\n",
       "6q8J60dfPv0MNOb3QADBbPgAduujOMcllGAdrvsxJt0ioWx6jG77XPNjTYdQ1qe4HR6PrDbZmjDD\n",
       "BxTzkqhrPO4lG6lVgTH44om1wEG6+2nb7O8ZqRcbZwmLokPfNnJxl8O47sG+Esa385CaTTQxroN/\n",
       "zrbDGVltKYahvBSTRiwX45CnrJ5pWof7WTzaorQvD1A8NoLe2S29u8Q6nNuJtBg8gVH2stZSUm32\n",
       "CmdaLD873CsswaiWPTDOt9vPlJbPqMaay0aE+5MeFpmjHe65Am3e5Vrtrw81dXSzOL6R5NKfNNn+\n",
       "etd/4R+GfwCls0htPOJgvAAAAABJRU5ErkJggg==\n",
       "\" style=\"display:inline;vertical-align:middle;\" /></a><br>"
      ],
      "text/plain": [
       "intervalInNatsPos: forall_{a in Integers, b in Integers | a > 0} [forall_{n in {a...b}} (n in NaturalsPos)]"
      ]
     },
     "execution_count": 11,
     "metadata": {},
     "output_type": "execute_result"
    }
   ],
   "source": [
    "intervalInNatsPos = Forall((a, b), Forall(n, InSet(n, NaturalsPos), \n",
    "                                          domain=Interval(a, b)), \n",
    "                           domain=Integers, condition=Greater(a, zero))"
   ]
  },
  {
   "cell_type": "code",
   "execution_count": 12,
   "metadata": {},
   "outputs": [
    {
     "data": {
      "text/html": [
       "<strong id=\"allInNegativeIntervalAreNegative\"><a class=\"ProveItLink\" href=\"_proofs_/allInNegativeIntervalAreNegative.ipynb\">allInNegativeIntervalAreNegative</a>:</strong> <a class=\"ProveItLink\" href=\"__pv_it/7b21a8cd0a20a842fb24877caefc734040a173a90/expr.ipynb\"><img src=\"data:image/png;base64,iVBORw0KGgoAAAANSUhEUgAAATIAAAAZBAMAAABA9L+3AAAAMFBMVEX///8QEBCIiIhmZma6urrM\n",
       "zMxUVFQiIiJERETc3Nzu7u6qqqp2dnaYmJgyMjIAAAAcRTyBAAAAAXRSTlMAQObYZgAABBFJREFU\n",
       "SMftl11oHFUUx/+72cnuzM5k+1ChoQpLAq2ogcVC6UMrKT4IiqI+tIVSshYtKrUEW/tlhBBRNlZh\n",
       "RNAYkUwbUImhWZRUCpIGQwXTGObF0pZ+7EODaF9KacGmFXrOvXc+d7Oy7D56H3J3Tub85zf3fNw7\n",
       "QAtG+6EjaO1IHRpoiU4arR+f/08WH7q74r+ytiSr8HSlabJGZb6rbTZ7zgJvSLJzPP3dNFmjMn/V\n",
       "Nt/AtzZOSrIRXtrBpskalLEKVTFcYvMqmBWYeUHW4dAalpsma1AmbcdR97MlU0R2GcYqQWbNT0x8\n",
       "0XwFNCgTvzU54PCUKyJ1D7gua/OfUmmgBbXZmEw3NdNfv+x6Ul1Ovi3nqQJSt4A5SfYaMFzD94VK\n",
       "vC3HzMlfZsNkVTLa73E97XH/6hOKfWYIUzKo4+8p89gsNCK7KsmehhGGaF8z9z6np+nl6Csfb9rA\n",
       "c0aWtTI/i8s4FSaLyQCfOtF+QI7t/ru8C+xMVzD2onjkDc88VoB2H/hJkqWR9Lqe8fMGN22bJ1iz\n",
       "g9P5+7ktOIL5xwKyDpnlO4o4gJwTIgvJCDfMRJecHbM++2rAmerFNXHxjU+motknyUzXb+EXTk8g\n",
       "i11fi2SkhbaOjTooaxfdgCwnG/QwjDtIlENkIRnhFidjxwgZzgD75NVnXjSpArL3fDK9so1DvW4J\n",
       "KRmpgljzvq43KUI82kwEZGzG+AeURneRdkNkQsba8nI3lNuMUlWDHQMyiiaeAv41ohWQGYS1DDyj\n",
       "9s3hVymO72jL6JBv/JUI/nqnW245uDgdImPzJFc13Z/Oh/dNlrG2uglbuc0oVTXYMSCjCsDD1LvM\n",
       "aNeQndarAPzYT+tS0PoxLm46Ie8ewlVDrKGRnw2RkVl7RJTeXSQiZCwzup6ST7phr1JVgxxhdHpX\n",
       "1Bf020TxR7TT0loep3XZrMhy9IBEOVnE9lKplMfsPEZFJmzUDpdKQzBNR3d8MjJjsZeB7yDXGyZj\n",
       "GezGVki3HQWl6mfWRmC7V5wUr1Q/9LfK0d0Jk13UfbCkyCx67pSdueS0i7Y17eI3mpexFkL2uV0w\n",
       "bZ+MzcYmjnesNoUMHsJmTbrxmglVdY9w7FxxdwoPoz90PkvYfc/D5Ae2tdHb6B/hqDWIs6IgCiIj\n",
       "FRmbob9ucxs/VXU+02/iwLR04zwTqiMOqY047BjkWfWOHm59+RBZavcP1IKO0a/zexb+LGprsW2B\n",
       "YGixrT17Fw8GZGwmgg9tJBcKVWSpIp5whZsgE6ov2Von/WHHgKzmtuONk9Vn2iTnmYy6nB6lhPFG\n",
       "JrL1DNc70wq3mRqn1cp/nRwD6pVO26erTZkGT9v1yeqcti27HpnbPNnx6iQP9s2WfqG01SGr9b2p\n",
       "98Qt2rkGvjcPPgAUjigUludGiAAAAABJRU5ErkJggg==\n",
       "\" style=\"display:inline;vertical-align:middle;\" /></a><br>"
      ],
      "text/plain": [
       "allInNegativeIntervalAreNegative: forall_{a in Integers, b in Integers | b < 0} [forall_{n in {a...b}} (n < 0)]"
      ]
     },
     "execution_count": 12,
     "metadata": {},
     "output_type": "execute_result"
    }
   ],
   "source": [
    "allInNegativeIntervalAreNegative = Forall((a, b), Forall(n, Less(n, zero), \n",
    "                                                         domain=Interval(a, b)), \n",
    "                                          domain=Integers, condition=Less(b, zero))"
   ]
  },
  {
   "cell_type": "code",
   "execution_count": 13,
   "metadata": {},
   "outputs": [
    {
     "data": {
      "text/html": [
       "<strong id=\"allInPositiveIntervalArePositive\"><a class=\"ProveItLink\" href=\"_proofs_/allInPositiveIntervalArePositive.ipynb\">allInPositiveIntervalArePositive</a>:</strong> <a class=\"ProveItLink\" href=\"__pv_it/470480cb3bffd9ada8200a87e816f8ea7fa8bccf0/expr.ipynb\"><img src=\"data:image/png;base64,iVBORw0KGgoAAAANSUhEUgAAATQAAAAZBAMAAABN6s/wAAAAMFBMVEX///8QEBCIiIhmZma6urrM\n",
       "zMxUVFQiIiJERETc3Nzu7u6qqqp2dnaYmJgyMjIAAAAcRTyBAAAAAXRSTlMAQObYZgAABBJJREFU\n",
       "SMftl0toE1EUhv+kmSYzmWldKFh0EVpQ8QGhBRFRUQRdiFJdWEGkUVRUVIrvRxelosQXjButFemo\n",
       "C6WKDUoVQWqxVLBWmY1ixUcQ3yKIKGhV8Nx755mJldAsvYvMI/f888055557BijGKN25G8UdkZ2N\n",
       "xRGKovjj+H+04JDNv/4V1wValh2eDR+tUJ0L+W+rU3qB9QLtHjt8GD5aoTrv89/+iPM6Lgu0Fubc\n",
       "puGjFaijJd1z5ZN7ewTULNQERyszyIuZ4aMVqBPVPReXtthnsRTig1BGcDStr739RBGWQYE6/qnh\n",
       "RkOclKcQ+Qm8Eiv0ezrdWIwVWphOFVXVOycrq+1AbhVsHUlEvgA9Am0NcDCP7aJsbn3OnRG+3e1F\n",
       "C+hI93MFpUnO1VEKf6wZHXZc42/4WVs3JEJ7LtDmQvFSlI7u2cdSVLXzdOWRaTU8DdySVMsPT3HN\n",
       "i5ajAxwz/GWBBEudl9kLLI9m0VbrvPkbNr0tCekXcF2gRRG2q59ys8aM6upZNqmMpfTFnpnYjb6J\n",
       "fjRlHX/DbSg3PGgeHW6HLr+TmWDcgR8JGB2z8cINyjvDDWi9QFNNp5Y/vtGOOFac5glJj9cOtxrI\n",
       "SAOmHw3yAfpT+YZQxoPm0eF2uWhM0IeGW8Bm+ANKyyD+00GTs0vp5Ny414iIGCa51+srN1CM2ChR\n",
       "4aIp1ZspBtI+A9IPRE0PGtfRZi6pgmXXZclagwm6aBRQzAJ+K/5lEGuCNgjMt/bQg6vpidulQZSJ\n",
       "Wad4/McbVWLzwUCnB+18bT0TibwEGUQT3j2U6WhzzJBu2XVZstZggi4aLQOMpRqm+ouHKLn2MsDV\n",
       "BvJMUmrAOf7vWTG7Gc8V7kUl0e1Bq0Gd0Kggr4V8aEyndTwloLDDRkvWGiQIpcK+ovIgfyWMh/6S\n",
       "S948Q56ZYaGV0wNCmXAKdel0OoHuPrTyZJgq7Uqnm6Gqhmw4aGMwTrgkQblWPtuLxnSwCnMg7JYl\n",
       "LVknu6YCdfYSpZBFGiBvyvg3KlyqpCKE1xaaRg/u0GNPjFK+UjpN3KXjIFFw2QUroOo2mvIDR9tZ\n",
       "keoLrFCug1GYIQk75jUua81hgq7XfBtV7lAaPP1aSK9fCJUlWUkJvY58CHu0JvTyVZHkWWl5rUL6\n",
       "Srm/bDov6NcC/Zr8Gds6hR3LNS7bYpBci8EE3Vzzbu/BzijhQYusukKV6DCdPVrb/zYljcHSfqIh\n",
       "d2trNz7Y4aLNm1Rl4jhvqML9yQBaJIXJJrfjaFx2sS5V0A8TdNHy7kD2uBzscsMs10SZEYcJlDNO\n",
       "U+DuQPv/1eVyu648/Wv2X62ki/23BvxG8Fas0AZ8aLQhGnBNHwrNLALamWCmu3toUT9bSoZCy/cd\n",
       "Kk/JvSPdK+A7dMcfMl0o1eo819cAAAAASUVORK5CYII=\n",
       "\" style=\"display:inline;vertical-align:middle;\" /></a><br>"
      ],
      "text/plain": [
       "allInPositiveIntervalArePositive: forall_{a in Integers, b in Integers | a > 0} [forall_{n in {a...b}} (n > 0)]"
      ]
     },
     "execution_count": 13,
     "metadata": {},
     "output_type": "execute_result"
    }
   ],
   "source": [
    "allInPositiveIntervalArePositive = Forall((a, b), Forall(n, Greater(n, zero), \n",
    "                                                         domain=Interval(a, b)), \n",
    "                                          domain=Integers, condition=Greater(a, zero))"
   ]
  },
  {
   "cell_type": "code",
   "execution_count": 14,
   "metadata": {},
   "outputs": [
    {
     "data": {
      "text/html": [
       "<strong id=\"intervalLowerBound\"><a class=\"ProveItLink\" href=\"_proofs_/intervalLowerBound.ipynb\">intervalLowerBound</a>:</strong> <a class=\"ProveItLink\" href=\"__pv_it/c40bb28050193c9db874d241950bda2c8b054eb10/expr.ipynb\"><img src=\"data:image/png;base64,iVBORw0KGgoAAAANSUhEUgAAAQQAAAAZBAMAAAAlGU3IAAAAMFBMVEX///8QEBCIiIhmZma6urrM\n",
       "zMxUVFQiIiJERETc3Nzu7u6qqqp2dnaYmJgyMjIAAAAcRTyBAAAAAXRSTlMAQObYZgAAA+NJREFU\n",
       "SMfll19oFEccx7+5u7273dtN8tAHTyucEaJECoeBqqA2ULAPopw++AeVXEVTlBiOQj0VH0IU3Ggr\n",
       "h4UYFXWNYOkJ5lBEApIehLY0MWWhxn9YvQeD0EIVUdDYgr+Z2b3b3UuPDdinDuRmZ+a3s5/fb77z\n",
       "mwkwk/JFNof3W0LZgzN7IYP3X/r+Dwhn/30olhMIJVb97huhnlWa6ZtA6a4xuEsgjLHqD98IaoGq\n",
       "esM3Qr1XvwtSlecrAqGffuVu3wjctN//OvzmCcrPCUdLTXAE5hF3zacWWMDG/CPsd7XkJa4lVBo5\n",
       "gjaaz5+cgRwf5vPf+1el7DKVuzy+PhE74rWuH5wBQoOuHyn6Rggk6efbkXlcPNLxNjsh/XSqaTHV\n",
       "IwJhJ9A7zctrS9MjhFOIuiW21RXc0F/A+rKzURoLxfGMN/SyEtVoDwZplkcC4VMozq+FZ40cYuhq\n",
       "0ur4/OulrQ6EUFIIuRLd2W5M5lmn3YgQzAUTS8VmaLG7t0RKOE9ANwRCBAHbDeVmqxnJqQMsbPXM\n",
       "k8sjK0hQoy3O1JTBR3DYI+YJ15/0N2w36ij0nxj4UrTujlrdxmAbHlPdLhBUM2K/cG8ojxi28YTW\n",
       "QHHSjp02UJDum06E8UqOZPZVCG+8CLOgvLKaw8ushx+ArgqCXNpADxebJ1mMWUlytbU37aY1YiWo\n",
       "uhL0OSlN232iKWnZMwRlcZe9ztKLZqOCQAuh/I3Y87LCdop6JfCPAnxmnRG9O2iOr6QpkXyhneGz\n",
       "LTDmi+SN+9ddCNE+8uz2XMQte4bwXardTpiBA7QLhh1yVN4iXBqyOzYd5tWHiE2pZTniGk0cTEoZ\n",
       "XOSjA8LpHjxSuJdKouhCiC2hyA1kMGXZh2m4FRvLH01oJVyw9wwTdQ/upitT9DEH5ZdQSxPAcguh\n",
       "gdJkXSGQxkZd1xMojuI09X6Aj6V9ut4DVTVkw3lSvmDfTYQahb10iJpz0FxZ/WAakp1pQvTGpabN\n",
       "29s8FxXK9HtI75MWgkYfGMxFHxhhPnrdxC9UT9G8adaxehvUnBPhAftQKlhMhe0oKG/wTd4yaTDq\n",
       "CpUoeBK09xjNOO4Ldbn2NVBZjIJBYpSP4oDWjR+5OpNcNe77wnlEVqe4PddCXHpp0jv9hnw0Ytxz\n",
       "7AjvMeUu1jFlRWb71RXAMXq603HraVqagw23aF0pVlpH5697qxBWITAu7DnCqkXzTSmOdTkpLnUW\n",
       "nQiOTKo8zbJSfVi7MjrTgpC5qBaSFmrcmrh9bJpMPuzvytJb6+I25P/iVhuh1sVNy9VCMP0jKPHq\n",
       "vs7/7vqane7/iBNVvFsLvmcMZfe+AzVcDoING6rmAAAAAElFTkSuQmCC\n",
       "\" style=\"display:inline;vertical-align:middle;\" /></a><br>"
      ],
      "text/plain": [
       "intervalLowerBound: forall_{a in Integers, b in Integers} [forall_{n in {a...b}} (a <= n)]"
      ]
     },
     "execution_count": 14,
     "metadata": {},
     "output_type": "execute_result"
    }
   ],
   "source": [
    "intervalLowerBound = Forall((a, b), Forall(n, LessEq(a, n), domain=Interval(a, b)), \n",
    "                            domain=Integers)"
   ]
  },
  {
   "cell_type": "code",
   "execution_count": 15,
   "metadata": {},
   "outputs": [
    {
     "data": {
      "text/html": [
       "<strong id=\"intervalUpperBound\"><a class=\"ProveItLink\" href=\"_proofs_/intervalUpperBound.ipynb\">intervalUpperBound</a>:</strong> <a class=\"ProveItLink\" href=\"__pv_it/02fb5ec305c3dc7846fd22eef0b432f3bae5a6220/expr.ipynb\"><img src=\"data:image/png;base64,iVBORw0KGgoAAAANSUhEUgAAAQEAAAAZBAMAAADDMIaMAAAAMFBMVEX///8QEBCIiIhmZma6urrM\n",
       "zMxUVFQiIiJERETc3Nzu7u6qqqp2dnaYmJgyMjIAAAAcRTyBAAAAAXRSTlMAQObYZgAAA+JJREFU\n",
       "SMfll11IFFEUx89+zH7M7rg99NAmwqKgYQSLQhYhLQT5YOnWg/aguEUahci+lCURpkGjViw+mBjl\n",
       "qA/SBrkUPghhgxLS+sGAfah9sC8lFISIQfoQnXtnZ3dmd7UR7KkLy8zcOXPnd8753zNnAbYzLjSH\n",
       "YEdHWbO4vQeCsNPDHvgPCB5ufmtMJoiR80+6CbLIgZN0A7CtmadvojOWECWYJhPfdBM4I3jIEnQT\n",
       "ZKVJt8BP572IEaMEvSQUrboJqGmv/iTMpzo/5aFHF/FkghIQf6hjOnVAwjWtn+BaivBK4gmsJGEc\n",
       "oARcNBy+vw0lfgyHH+sXpF1ram9SfJ2iqfDRvfCL569vg8DF87f1VxEjpvvExe48OfTMPZ9y42vu\n",
       "EYy9lxLUA3RkeLYilpnA4gebVl01mp1h/gFwOpFVG94TeQ+7Tq94f0IOv4WREHAxSnCMajIxLHsm\n",
       "2xGc8Mnj7J1DxSoCsxeeaiO7V0s5ib9G5cIaASZyA+w/5W1QqMw7NsDlAUeQEljBqDjBviiWrCHn\n",
       "IFFJFvHjyWQpailaqK5IQTgAKntwpATrO/7GlQuDD1h2DbgV+fJ9ND5visGICMwKJXBKVsV+YSwM\n",
       "DqilZcyFoea6+gSIMIuSmmA2WRmJfRrBegoBOFbAotiMH46XCS9URhQCe6wKp4byv5AAk+GlQqvL\n",
       "vYQJorxOTVV+xOBD829zvXF7QsAWNSkpZlbzhSQBZoH465KUGlZRL5cDCY4KYJazAB3ncYnLzIZc\n",
       "cYF7QBcrEPLkig2LoxoCWw/69SYH3HF7QjDsr1NeYWxB/Y+rlWgQ4aWQ2D5nblECH5sDihLhOa5r\n",
       "8jJBGKImg7LLbfCZpT6yHlFD4CjBuA0GYSNub8HbxVCdeKcH1x1QdgvRc78P5rjELoAecmqRbHjH\n",
       "JMoEKEowRIwBqOZ53gNiFPpwdjccZK7yfBs4nYJdUH8bV8kKHvMu2Z5px8tsyE9m3hQARqkwGGco\n",
       "w7d+SC3ORbNEDX6ZgMP1R0K2JcFCnxmV4DUeN3BZ+u0urwVnSE2wRN7jN4l+ixID3O53w3ETl2CI\n",
       "JGOQWpW1Y1jVHxhCdSfBSeJjMiG4vRNauFZ4RYXpJV6k9Af9YC33U3uqAzezJuEzvYK90yosqPZC\n",
       "2pdJMyZUBOZzz0oBuvDsXcPMcoDJhqoZzCkqmWtonLuSRnAcjLOyPSU4vj9PYtxwKsS4mUZRTaCu\n",
       "n+xyMxnJwhhL65GMRAeywOXDPtTBFj0StXdkKN/jf+tQEnSbdmlj+ru0rQm26tIWt+oTJf0ErDt9\n",
       "rvGfdarNmf4vdKfh1ujtePD/QuAPNDsR9lmh9M4AAAAASUVORK5CYII=\n",
       "\" style=\"display:inline;vertical-align:middle;\" /></a><br>"
      ],
      "text/plain": [
       "intervalUpperBound: forall_{a in Integers, b in Integers} [forall_{n in {a...b}} (n <= b)]"
      ]
     },
     "execution_count": 15,
     "metadata": {},
     "output_type": "execute_result"
    }
   ],
   "source": [
    "intervalUpperBound = Forall((a, b), Forall(n, LessEq(n, b), domain=Interval(a, b)), \n",
    "                            domain=Integers)"
   ]
  },
  {
   "cell_type": "code",
   "execution_count": 16,
   "metadata": {},
   "outputs": [
    {
     "data": {
      "text/html": [
       "<strong id=\"inInterval\"><a class=\"ProveItLink\" href=\"_proofs_/inInterval.ipynb\">inInterval</a>:</strong> <a class=\"ProveItLink\" href=\"__pv_it/d7bff3ab5c5f2747bc057eb3e0357d447ce25e9a0/expr.ipynb\"><img src=\"data:image/png;base64,iVBORw0KGgoAAAANSUhEUgAAAT0AAAAXBAMAAACL9YVKAAAAMFBMVEX///8QEBCIiIhmZma6urrM\n",
       "zMxUVFQiIiJERETc3Nzu7u6qqqp2dnaYmJgyMjIAAAAcRTyBAAAAAXRSTlMAQObYZgAAA/xJREFU\n",
       "SMfNV19oU1cY/7VJmubmpumDQqVzdBXmEJFQQQquW8oeChtbnQM3EWksrsyhUoZWN8fIMmHR7iHg\n",
       "g13H2LWFDaos2UbBirjSotaujgtjzgpqUFZhs9oHBek28fvOuX9yTJqsD9k8kHvP+b7vd8/vfH/O\n",
       "OQH+txZqKaJ8Y9V/R+TLglLtdlFQ6wZghN5ZHlwtJz0tXth9cwvZf9xNTw8Rq0oBP7Hoj3Lyq0kV\n",
       "FOvdCwIillojjn3UD8TLye8XLJJfOGOrx4isQf1MOfm9r4b1030fleDXbtjqY2Q/OTR0tJz0AgoP\n",
       "X8Io6b/zjromCjxIJj8sJ79Kyibvuc8bm8ToW0OJ75HxZ4w8xEzjelLXsg1h3wYOFfjsa9nSU0eL\n",
       "6Bx8tUnzVCeQFmWywzGoIgPvMtzNr9+HBtmK8g6RzUuiTFxY3fgnEYu6aNs+a16rfsCRqGV10u0G\n",
       "4y7eT8m9xZ/FVxtUyHc0PmaiOY9fcB7hBuAmd8nHflSaNvPTa01/Sh9gl9dwzRwfb6H0nszZyxWJ\n",
       "wu9MgzvDDQvPrYK8bKSjuC7S7+k71Lj3FpfNiwbey+NHO196lBxFGh85UTf9tubyyBCC2Cr2+zCF\n",
       "I9TbbyDjmzbd6lMkufyu5RjNWniHH34EdkPdyfiAqIN2v9D2106Lm4HkF8huot7gs7/DK0MSGeVn\n",
       "R+O7FHqxHl2elhtXQJHY/BiKNaZjUzlr45344gXgH41HtW4ixaH9jWD+KRI22a8i/7xcQ4e2U2T3\n",
       "+uZRI1f/hUiUlcYKefZheliIW82KlCKx+AloW8ax8R6AjXfqA09RVolFNeXuz9pfVCUjefyi2nKr\n",
       "frk+8AOR9ER83RgU6gHpnASuacKfWoPwZ/9KhA1FYvET0BMHXZuJqIW3eBAmcA969lfHm87+ksBv\n",
       "sVGuWBqns9ajyqyOWNuPhyfiYqnIVMbwZjKZbMDoJPpJugTrfPuTyQR03QhwwXSiFapE8hNQnOiF\n",
       "ZQNtIiPxkgfHiH6BXYKZ9s7LOfy+btzcyavpYeYx66E1XXT2Zw5liOZKp6qvGFXic8MmLtB7HvVg\n",
       "BF7ZCp1zfSme96kSyU9AKev+tG0oGTMSX+h8806UPN9c9Tf2qCLV8Sp0Zuvx0GoDh/FBKI6zolwi\n",
       "aEOfEZjDnuEcies/hsqqlTaymBlf/H5QW5rfmLOqzu/pNssxutQ1dSvmq8emKUpt8kOoa+fPPXg9\n",
       "441htZkjcfhJKO96hrThdkrgrQJJLe7+5+yC6sHBRyXnn5xLvp6jbJPNTmtXknd+LPJ+ihL35+iC\n",
       "K4O8WStnTkHLf3ltLHy/R7Dk/4/pBdXm48FAcX4nqfST8iYS5O5hPAktUv4pHgGlNy3njerN+AAA\n",
       "AABJRU5ErkJggg==\n",
       "\" style=\"display:inline;vertical-align:middle;\" /></a><br>"
      ],
      "text/plain": [
       "inInterval: forall_{a in Integers, b in Integers, n in Integers | a <= n <= b} (n in {a...b})"
      ]
     },
     "execution_count": 16,
     "metadata": {},
     "output_type": "execute_result"
    }
   ],
   "source": [
    "inInterval = Forall((a, b, n), InSet(n, Interval(a, b)), domain=Integers, \n",
    "                    conditions=[LessEqOnlySeq(a, n, b)])"
   ]
  },
  {
   "cell_type": "code",
   "execution_count": 17,
   "metadata": {},
   "outputs": [],
   "source": [
    "# natsInInts = Forall(a,InSet(a,Integers),domain = Naturals)"
   ]
  },
  {
   "cell_type": "code",
   "execution_count": 18,
   "metadata": {},
   "outputs": [],
   "source": [
    "# natsInReals = Forall(a,InSet(a,Reals),domain = Naturals)"
   ]
  },
  {
   "cell_type": "code",
   "execution_count": 19,
   "metadata": {},
   "outputs": [],
   "source": [
    "# natsInComplexes = Forall(a,InSet(a,Complexes),domain = Naturals)"
   ]
  },
  {
   "cell_type": "code",
   "execution_count": 20,
   "metadata": {},
   "outputs": [],
   "source": [
    "# natsPosInNaturals = Forall(a,InSet(a,Naturals),domain = NaturalsPos)"
   ]
  },
  {
   "cell_type": "code",
   "execution_count": 21,
   "metadata": {},
   "outputs": [],
   "source": [
    "# natsPosInIntegers = Forall(a,InSet(a,Integers),domain = NaturalsPos)"
   ]
  },
  {
   "cell_type": "code",
   "execution_count": 22,
   "metadata": {},
   "outputs": [],
   "source": [
    "# natsPosInRealsPos = Forall(a,InSet(a,RealsPos),domain = NaturalsPos)"
   ]
  },
  {
   "cell_type": "code",
   "execution_count": 23,
   "metadata": {},
   "outputs": [],
   "source": [
    "# natsPosInReals = Forall(a,InSet(a,Reals),domain = NaturalsPos)"
   ]
  },
  {
   "cell_type": "code",
   "execution_count": 24,
   "metadata": {},
   "outputs": [],
   "source": [
    "# natsPosInComplexes = Forall(a,InSet(a,Complexes),domain = NaturalsPos)"
   ]
  },
  {
   "cell_type": "code",
   "execution_count": 25,
   "metadata": {},
   "outputs": [
    {
     "data": {
      "text/html": [
       "<strong id=\"naturalsLowerBound\"><a class=\"ProveItLink\" href=\"_proofs_/naturalsLowerBound.ipynb\">naturalsLowerBound</a>:</strong> <a class=\"ProveItLink\" href=\"__pv_it/ebf2da1fade79b19c26ce5ad947909c2092e8e680/expr.ipynb\"><img src=\"data:image/png;base64,iVBORw0KGgoAAAANSUhEUgAAAHcAAAAUBAMAAABFd79NAAAAMFBMVEX///8QEBCIiIhmZma6urrM\n",
       "zMxUVFQiIiJERETc3Nzu7u6qqqp2dnaYmJgyMjIAAAAcRTyBAAAAAXRSTlMAQObYZgAAAghJREFU\n",
       "OMuVVE1I3FAQ/lY3u+aZ7J72HhHUQw97K5QKEQ9eiooH8SC4lHrwIoItrVBERCTiZVHQIojxpChK\n",
       "QBb0oAa1FBQkRUFKLd1ze1moFgUPzkv2ZX/ciA6EzE++mW/mzQvwqCwGh3boyXLlV8AHbKyy/+Cy\n",
       "E5E0cMKNPwHgWLqgr7wquC02AkZlv5AhBxTAWbGxNyC078AplacsJqBYAeCREqu9P69MAvsmlgH1\n",
       "eG1tPgArD5XaPRPe+z/QYSGmAzeG8TkAXJUE3gzM1GvCMffXHeM/AmtQKEpcpgLANQ5gGxq79T2z\n",
       "vBH5DujToNLEWt25+SINH6Eu5elRC5I1Cvnaj14kOZgq99mopaaiqHJEbP2wGduKWW16ZkgHY1dQ\n",
       "cyLeeFxEWyK34kRFTJ1eMLGrJRX4YNTmEMkzY980f2D7lguWs90Ea+6q5x2QZDIzAky0UZ1F3HGZ\n",
       "yC8FQwP4bSLMz2LqHYFbnFDaW9WMstFbNLCQTWdqc+ygVbokfGDYogwLjYibLOmCYR/mP+KHsaTj\n",
       "VO0kY1X3xxa1WII48ZRx3slbtED6ZBjjBF4UQ+DE2uh0f5bfl4MGShfjKVXeUQKvJaS8yuGuyutZ\n",
       "Jiv+IubwPoOvXD0HLitejAf3UijhFF44qKGRhEd1RPwVK7qSmx+5fChwz5Yla6Ken/IzKE/87N/Q\n",
       "D+AedmGII95pMHkAAAAASUVORK5CYII=\n",
       "\" style=\"display:inline;vertical-align:middle;\" /></a><br>"
      ],
      "text/plain": [
       "naturalsLowerBound: forall_{n in Naturals} (n >= 0)"
      ]
     },
     "execution_count": 25,
     "metadata": {},
     "output_type": "execute_result"
    }
   ],
   "source": [
    "naturalsLowerBound = Forall(n, GreaterEq(n, zero), domain=Naturals)"
   ]
  },
  {
   "cell_type": "code",
   "execution_count": 26,
   "metadata": {},
   "outputs": [
    {
     "data": {
      "text/html": [
       "<strong id=\"naturalsPosLowerBound\"><a class=\"ProveItLink\" href=\"_proofs_/naturalsPosLowerBound.ipynb\">naturalsPosLowerBound</a>:</strong> <a class=\"ProveItLink\" href=\"__pv_it/62570eefe6de452dbb68b03cde28b83bd09bba400/expr.ipynb\"><img src=\"data:image/png;base64,iVBORw0KGgoAAAANSUhEUgAAAIMAAAAUBAMAAABc0JOuAAAAMFBMVEX///8QEBCIiIhmZma6urrM\n",
       "zMxUVFQiIiJERETc3Nzu7u6qqqp2dnaYmJgyMjIAAAAcRTyBAAAAAXRSTlMAQObYZgAAAfpJREFU\n",
       "OMtjYCACzMUttROIH4AYd/GawNWAW45tAgPDaRDjFV4j+CYg2MutEGxuKaDxQCfMALI5G/AacRmZ\n",
       "sy8Txlp27BeQPAS0YgEDA88GvEZUovD8UmEsXpARC4H0qVWrpuM1gbMAlR/RgmwEnwMDw4+Ojhos\n",
       "Gg/AWUwGDAw+mZOUFWAC014jGcEDlAW6qxOLEQZwFscFoIEdClw/4SKTKxFG8ALD0xkcqniMYN/A\n",
       "wLqhjoHzK1zkugHCCG6gN9kZmC4gaWUtPsKgmIBsBKMDAxfXFwbeDzAB9VNIHmEFCvNcYIerXn3Y\n",
       "lmEHzwLmBYeNi403IIxg4P7AwAZ1K9dxBQY0IzgfhMFjqXvWAoa9CgY86B5hYH7AwH9hATh+zC+g\n",
       "RCoLKL46U4A82yBlULAAwdatk3gwgpPxAMP+BaBI4sxDpCF4cDJsBprD63iBcQIkv2zlWRuDYgQo\n",
       "2uY7MJzjDQByVjgggo0JZAQzyGB+oN9mqTPwL+ACa9vKcOAwihEgp7oDU8NttDhjTvxnC0xaIIN5\n",
       "QX5MYnBkYK3o6GgCGjEXFL4BuBI4GlgOZ4ky2LAyJEBcwRKEJ5uhg0PwfPCBoWQrw1EQ8woDwx1U\n",
       "VRxImX1dOQiUIsoSeLJkSWDQucDAAQxtljoHBjbiixxk48FAAxgWpBV8NxkYAPRqg/K9yx+QAAAA\n",
       "AElFTkSuQmCC\n",
       "\" style=\"display:inline;vertical-align:middle;\" /></a><br>"
      ],
      "text/plain": [
       "naturalsPosLowerBound: forall_{n in NaturalsPos} (n >= 1)"
      ]
     },
     "execution_count": 26,
     "metadata": {},
     "output_type": "execute_result"
    }
   ],
   "source": [
    "naturalsPosLowerBound = Forall(n, GreaterEq(n, one), domain=NaturalsPos)"
   ]
  },
  {
   "cell_type": "code",
   "execution_count": 27,
   "metadata": {},
   "outputs": [
    {
     "data": {
      "text/html": [
       "<strong id=\"intervalInInts\"><a class=\"ProveItLink\" href=\"_proofs_/intervalInInts.ipynb\">intervalInInts</a>:</strong> <a class=\"ProveItLink\" href=\"__pv_it/dd7ceefaa1c73e7215d1eaa0131ffba1c910112b0/expr.ipynb\"><img src=\"data:image/png;base64,iVBORw0KGgoAAAANSUhEUgAAAQQAAAAZBAMAAAAlGU3IAAAAMFBMVEX///8QEBCIiIhmZma6urrM\n",
       "zMxUVFQiIiJERETc3Nzu7u6qqqp2dnaYmJgyMjIAAAAcRTyBAAAAAXRSTlMAQObYZgAAA+xJREFU\n",
       "SMfll01oE0EUx1+S3SS72U08eGgUNVioogjR4gdioSC0h1aJCq2HlkbxA6VILhq/KLUKrlUh9FBL\n",
       "RbttoWoEDYoHQWpo9WCrsvhF6xfxIIKC1KKgPfnmbTbdbWPcQj05kExm5u3M7735z9sJwEzK3ngC\n",
       "Zrdw8eMzeyAGs1/a/weESwXG7uoIGVa9s43gZ5Ws2SYQm/P1Vi5a+KFpAbgThDDMuj7bRpBSWPlV\n",
       "2wj+vPpduhp9aQYxQwgd+C0020Yg0w77+/A8b+8GgGGpHGCAEJhH5JpNLbCADdtHOGJpjcTjtPHr\n",
       "QYhuw7qbEOShZPLCDOT4Npm8Zl+VgsV0+7LcT6/ayrapnE7ET0U5PgOEgKKcTttGcIYBqve1FYdI\n",
       "mibJPSNJS2FC2A1wJs/DmzP5EdwR8FolVmc5H9xXgK25jfXiWFoJib9Yw50wHZSrdLQyhLBRF6ZR\n",
       "3EWDJ8NZQCo7zq0rNSFwYbhhjfU8K+YgfhqNhicFfKoJhB/EY1olso9VvhgheMBpuCHeK9U8CamH\n",
       "nTk/8+T6YBkKamiZOTXFYAWY7ME3JVxf8NNvNBzlIIrfQR5jjS1fsejWGznaTH6MECTNkxPs3ST4\n",
       "oJ4SWgCjJp/tVCHFj2pmhCeTOZLZT0P4NQUBfGPgJhvTWc5gRCTVQBAyNdjXW/KRxZiVMAE2LN6P\n",
       "e8SKS7Ik6Mt8FI/7y8XhrD1DEFcdiGRN+PESdRIBNwJcGQhoLLCO3DxS6gE1OX0j4MwunOMgP6En\n",
       "X5Av0mxL1GI9ecPoHQuCtx09e7EAgll7hnAl0mAkTOdRPAX9Zjk60nBfZW65QrlXk4BurMzJEW7j\n",
       "xK4wH4NeGu7RnW6B9yJ5KYbSFgTfWoxcTwwmsvZuHC6F2tyiIZy329A+E3VXOTyVya1jhlGrV4W+\n",
       "EVw2rSMEEM6RckahVlGUEKSHoBN758Ia/rCitIAkqYJqflOOs3VD3Bzdnj+JzflQMrn7rijwRqZh\n",
       "ka7EZd5Qq++UPhFX9EE58Q0f9Ed0BBn7bya8r1U3Dd/R4BHWEzhvlHVU1YOUMCO8ZgtFXOmI24gC\n",
       "HvvzyaxJQHWkJqMwJUFXn45bxHvFdF9wJBo2gcSi5XIhutAKR+VmeEjqDDM/ptwXusBTFSF70kKQ\n",
       "/67hMx2q0OpRR0wn4g+vKaMMmBC4nbfKAM7ir1d7Hn+K8vOh5jHuK+pZ3tP49NA0hApwPtHtCaFi\n",
       "ebHGB2FLgg/yjWkzgrfQZTP7srZkdKYFXebZ9zpqocCtiex9eTJ5/1+uLGa+9kJXKnsXt8IIBS9u\n",
       "o4Xujpp9BDE4va/x311f4/n+R7RN461L2Z6Rix/6DdXMGnV2/lIuAAAAAElFTkSuQmCC\n",
       "\" style=\"display:inline;vertical-align:middle;\" /></a><br>"
      ],
      "text/plain": [
       "intervalInInts: forall_{a in Integers, b in Integers} [forall_{n in {a...b}} (n in Integers)]"
      ]
     },
     "execution_count": 27,
     "metadata": {},
     "output_type": "execute_result"
    }
   ],
   "source": [
    "# ACTUALLY, PROBABLY WANT TO DO THE SUBSET THING\n",
    "intervalInInts = Forall((a, b), Forall(n, InSet(n, Integers), \n",
    "                                       domain=Interval(a, b)), \n",
    "                        domain=Integers)"
   ]
  },
  {
   "cell_type": "code",
   "execution_count": 28,
   "metadata": {},
   "outputs": [
    {
     "data": {
      "text/html": [
       "<strong id=\"natsPosInNats\"><a class=\"ProveItLink\" href=\"_proofs_/natsPosInNats.ipynb\">natsPosInNats</a>:</strong> <a class=\"ProveItLink\" href=\"__pv_it/c0b7a97eea33ce9f41807cb7d0db1c4818e32ed80/expr.ipynb\"><img src=\"data:image/png;base64,iVBORw0KGgoAAAANSUhEUgAAAEcAAAAUBAMAAAAthD11AAAAMFBMVEX///9mZmaqqqrc3NyIiIgi\n",
       "IiJUVFTMzMyYmJi6uroQEBB2dnZEREQyMjLu7u4AAAA1o4RqAAAAAXRSTlMAQObYZgAAANRJREFU\n",
       "KM9jYCANsBGjiIceit7+OfuAYdevCdgUIeROsCcw8H1gyL176+7dBjRVUDkGhtQCFwaGBditg8tl\n",
       "nmMrYAhAUdQTGhoazoAsl1zGdw9Vke1mGAsul8zkUIaqKBhuJFwumWEnhwOyIkYFhCKYXDID24N0\n",
       "EIMZKsPKgKQIKpfMwJfAuwDJS2bIiqByyQwM1ezIit4gK4LKARkcCgeQFKFYB5VLB+LNyIq4HeBM\n",
       "uNwlkIcuIIfzJRQWSK70F1AlH4qiZ5kPIAwscghQfRQaLVAAAIRnSmUaYQ4LAAAAAElFTkSuQmCC\n",
       "\" style=\"display:inline;vertical-align:middle;\" /></a><br>"
      ],
      "text/plain": [
       "natsPosInNats: NaturalsPos subset Naturals"
      ]
     },
     "execution_count": 28,
     "metadata": {},
     "output_type": "execute_result"
    }
   ],
   "source": [
    "natsPosInNats = Subset(NaturalsPos, Naturals)"
   ]
  },
  {
   "cell_type": "code",
   "execution_count": 29,
   "metadata": {},
   "outputs": [
    {
     "data": {
      "text/html": [
       "<strong id=\"natsInInts\"><a class=\"ProveItLink\" href=\"_proofs_/natsInInts.ipynb\">natsInInts</a>:</strong> <a class=\"ProveItLink\" href=\"__pv_it/e01b08a5da7c1d8e00bed3835c0c9775fa1e64a70/expr.ipynb\"><img src=\"data:image/png;base64,iVBORw0KGgoAAAANSUhEUgAAADkAAAAPBAMAAACsFXoGAAAAMFBMVEX///9mZmaqqqrc3NyIiIgi\n",
       "IiJUVFTMzMyYmJi6uroQEBB2dnZEREQyMjLu7u4AAAA1o4RqAAAAAXRSTlMAQObYZgAAAPZJREFU\n",
       "GNNjePvn7AOGXb8mMKCAqevX3opdAWScYE9g4PuAKsngI87Ay3AAyEgtcGFgWIAmK83AsIkbZF7m\n",
       "ObYChgCIYE9oaGg4iCHHwJxQCGIkl/Hdg8rabkbo5nlwDizL5FAGlQ1GMruFowEsy7CTwwEsy6iA\n",
       "kOQ78IYBIsv2IB0sy4qkla0gGSrLl8ALdrMZkuxEzg1QWYZqdrDsGyTZCzwMDNwPwLIcCgfQTOZW\n",
       "2MnAwAVkpAPxZrAstwNc1ow5gYFBCsi4BHLtBbDYJbjsOZ4HDM96GBhKfwH18UFkn2U+gEhyrrl1\n",
       "5tSvg2jBW30UGpJQAADwfUE6b5/KAQAAAABJRU5ErkJggg==\n",
       "\" style=\"display:inline;vertical-align:middle;\" /></a><br>"
      ],
      "text/plain": [
       "natsInInts: Naturals subset Integers"
      ]
     },
     "execution_count": 29,
     "metadata": {},
     "output_type": "execute_result"
    }
   ],
   "source": [
    "natsInInts = Subset(Naturals, Integers)"
   ]
  },
  {
   "cell_type": "code",
   "execution_count": 30,
   "metadata": {},
   "outputs": [
    {
     "data": {
      "text/html": [
       "<strong id=\"natsPosInInts\"><a class=\"ProveItLink\" href=\"_proofs_/natsPosInInts.ipynb\">natsPosInInts</a>:</strong> <a class=\"ProveItLink\" href=\"__pv_it/05eeeee1799f76c2c676a55c15bd52969828ec2d0/expr.ipynb\"><img src=\"data:image/png;base64,iVBORw0KGgoAAAANSUhEUgAAAEYAAAAUBAMAAADCRlZLAAAAMFBMVEX///9mZmaqqqrc3NyIiIgi\n",
       "IiJUVFTMzMyYmJi6uroQEBB2dnZEREQyMjLu7u4AAAA1o4RqAAAAAXRSTlMAQObYZgAAAQ1JREFU\n",
       "KM9jYCAJsBGhhofmat7+OfuAYdevCdjUcEb9urv0VgMDwwn2BAa+Dwy5d2/dvduAqoblYAHDBZDW\n",
       "1AIXBoYFWO1i3MDArbATyMg8x1bAEICshuNoaGhoAUjNAwYzdgEgI7mM7x6KGubbBgijzvE8AKlh\n",
       "cihDUcOKpITDoQNEJTPs5HBAViOE5KI3fAcgatgepIPUMEPFA5DUpLMZQNTwJfAuQAgzJyAFkMBs\n",
       "Bogahmp2JDUQ0yGAlwHI2QdWw6GAJI5s1ybuCeCwSweyNyOr2YJkrRkwkIBqLoEC6wKSGl4FeCw/\n",
       "OMfAl3GAofQX0Aw+ZDV8afOgrFln15xZv0YAW1Jg3wONCygAACzQRrKr0tMGAAAAAElFTkSuQmCC\n",
       "\" style=\"display:inline;vertical-align:middle;\" /></a><br>"
      ],
      "text/plain": [
       "natsPosInInts: NaturalsPos subset Integers"
      ]
     },
     "execution_count": 30,
     "metadata": {},
     "output_type": "execute_result"
    }
   ],
   "source": [
    "natsPosInInts = Subset(NaturalsPos, Integers)"
   ]
  },
  {
   "cell_type": "markdown",
   "metadata": {},
   "source": [
    "***A set of inBool theorems, which are accessed by the respective NumberSets to implement their deduceMembershipInBool() methods:***"
   ]
  },
  {
   "cell_type": "code",
   "execution_count": 31,
   "metadata": {},
   "outputs": [
    {
     "data": {
      "text/html": [
       "<strong id=\"xInNatsInBool\"><a class=\"ProveItLink\" href=\"_proofs_/xInNatsInBool.ipynb\">xInNatsInBool</a>:</strong> <a class=\"ProveItLink\" href=\"__pv_it/72a401c8204fd8ada49d8630aaf9a4129c5f4b250/expr.ipynb\"><img src=\"data:image/png;base64,iVBORw0KGgoAAAANSUhEUgAAAJoAAAAUBAMAAACHazmMAAAAMFBMVEX///8QEBCIiIhmZma6urrM\n",
       "zMxUVFQiIiJERETc3Nzu7u6qqqp2dnaYmJgyMjIAAAAcRTyBAAAAAXRSTlMAQObYZgAAAixJREFU\n",
       "OMuVlD1oFEEUx/85bj9uMxtTpEgVg8HYCIaAVkZOUkQEUVPERvAKA4mFBCFaKOawyZ0g2UJJGnFJ\n",
       "cYQUZ9DCIs2RpJCocIidH2xACwN+dWrlzLzZdWYvm+iDPzv3ezv/m7czb4CWKDRJWdEeZPNIDN7r\n",
       "dEkpHd63yjbY/i5MphKHuue2rhch+Avxe1tPflZqCbc5BjwG6ulENOrdHZJ8QdRW1lL+AKk17Olc\n",
       "L9oA1ptKlM/goCt5R8gfK1rKCUia/+yN29LtVDgOh5fcaXLhtupK7m8uL8/rc+eVkrDuhGptD0r1\n",
       "kLvho8mF28YS8Z+Vyi19cp/SYv/9w7KkejzJDp5YJeG2DoNzt/z0OHH+qOpu90hew7/myA1PttAO\n",
       "WPG1cPsAg6N8cuZHkfgwvEh3u0liIfudl5+v/NcNV+wLfPAMBheVvnpH3EHOOKpdJA8uvW71fOWh\n",
       "3GrY4oNLJhdubr4pOWs62MEN2EcHoaCvzWqcj90KxtpclCQvRPxMYu1o/zmjUp5ToFNzw1t+EjBi\n",
       "cuFmi6YSvHoZyIVXnaKxC+3hEU4FGEzcuD1bSHZh0Fib3yD+dIp/BHyJU+uksytzeEjHOT7bHWJw\n",
       "guu4yRFdxMtjitP3+RWnRki1A4tDtDvexGnajpluUJN+MnjS9ZL7oh7ru5XZWfnnqoPiy2Rqd45H\n",
       "LGJ7dn0cLV2f5rU3a5sxrCLVHemo/w/Pui2h/90/871ucj/I5H8AFOie/mc16OgAAAAASUVORK5C\n",
       "YII=\n",
       "\" style=\"display:inline;vertical-align:middle;\" /></a><br>"
      ],
      "text/plain": [
       "xInNatsInBool: forall_{x} ((x in Naturals) in BOOLEANS)"
      ]
     },
     "execution_count": 31,
     "metadata": {},
     "output_type": "execute_result"
    }
   ],
   "source": [
    "# In progress\n",
    "# For Naturals\n",
    "xInNatsInBool = Forall(x, inBool(InSet(x, Naturals)))"
   ]
  },
  {
   "cell_type": "code",
   "execution_count": 32,
   "metadata": {},
   "outputs": [
    {
     "data": {
      "text/html": [
       "<strong id=\"xInNatsPosInBool\"><a class=\"ProveItLink\" href=\"_proofs_/xInNatsPosInBool.ipynb\">xInNatsPosInBool</a>:</strong> <a class=\"ProveItLink\" href=\"__pv_it/c049834b79ad813ea09e9cdc6ff03c586a7ad1470/expr.ipynb\"><img src=\"data:image/png;base64,iVBORw0KGgoAAAANSUhEUgAAAK0AAAAbBAMAAAD8EhIYAAAAMFBMVEX///8QEBCIiIhmZma6urrM\n",
       "zMxUVFQiIiJERETc3Nzu7u6qqqp2dnaYmJgyMjIAAAAcRTyBAAAAAXRSTlMAQObYZgAAArZJREFU\n",
       "SMe9VkFoE0EU/W6yu9l1E3PooSBotKiQUy5KEZWoIAoWEw/qQegi9qAH6SUGbLF7EEy92IuYm3sK\n",
       "UqQp9qaXEj1Fi1VEBStsPRYao0SwevFPdmdmd7OTnPTBvtn8V97M/PnztwD/D3KekhgmPhmBJgni\n",
       "FxiJYeFzSqDFzej4BqP+vsaqQFyJjMYylAb4wi2BqNoADnn54o8+simFoX+rbICxe4j6joT0A8P3\n",
       "12/iuUg5gFc9m37BqAeJVUx7HZRWa1drEycP6855/d5RAK0NUMWfmuUXdzLqgVKSMrCN5UFdDGdn\n",
       "DPYlcJwCSOGGDb+u/abE8alc7uZLOW1PgMp8Y1ZIR9/nxHcUINmcn3/o90imKTFcytL1PjAXbO4r\n",
       "pUM6+r58jOMefH5VKtOBcnA80vdeO9HoHhdLvzL3VDa5b9zdFdetsXhpAsdzmAQcZwNnY3n0BD5m\n",
       "brtu3NfIv+O+8k8I6tbxme/kno4XAE6C7vh9U6ZHTXhjn+nOxM9tDq4rF8lb10rrQFDHPKyskSpF\n",
       "cxWkwL1Rcx7ZUHEjxRbC8XxrsM7ruRPS0TcRR7d6ntxGNXD2qRwl+OFGqv71ystFXjqdkE58SUsi\n",
       "69Uc0mIaB/cXvPyalLz0uQXLMvmZb1veCunoq5AbPE7SNHsVK8a+oXqNUbE8eia1IQuBXqHg3AZf\n",
       "nlcPXCfrTS679QBLkzgzbLLumXYp/ifR1tzMT7EckQt0LFjqft25DK8P4fiW/NjRnW4rsAgk/Up2\n",
       "xOtHtTtuF5JnhpEXeKlbQZ32HXLfcFYSlNsy/eshRgxn75adiHaRygj0r6w3Go5B348wGoS6HR3X\n",
       "WXepvW806XuR0SB8EMSTkR8iZZHSIJRE34tC5C4cSgNAKioSa9HhJUb9URXEg58Jju15Sv1xWBCP\n",
       "2f/uf5u/wZq9CYTQE20AAAAASUVORK5CYII=\n",
       "\" style=\"display:inline;vertical-align:middle;\" /></a><br>"
      ],
      "text/plain": [
       "xInNatsPosInBool: forall_{x} ((x in NaturalsPos) in BOOLEANS)"
      ]
     },
     "execution_count": 32,
     "metadata": {},
     "output_type": "execute_result"
    }
   ],
   "source": [
    "# For Positive Naturals (NaturalsPos)\n",
    "xInNatsPosInBool = Forall(x, inBool(InSet(x, NaturalsPos)))"
   ]
  },
  {
   "cell_type": "code",
   "execution_count": 33,
   "metadata": {},
   "outputs": [
    {
     "data": {
      "text/html": [
       "<strong id=\"xInIntsInBool\"><a class=\"ProveItLink\" href=\"_proofs_/xInIntsInBool.ipynb\">xInIntsInBool</a>:</strong> <a class=\"ProveItLink\" href=\"__pv_it/7982b08017e4a027c95d9c8282b1e0fce385a5b20/expr.ipynb\"><img src=\"data:image/png;base64,iVBORw0KGgoAAAANSUhEUgAAAJkAAAAUBAMAAABsXIKPAAAAMFBMVEX///8QEBCIiIhmZma6urrM\n",
       "zMxUVFQiIiJERETc3Nzu7u6qqqp2dnaYmJgyMjIAAAAcRTyBAAAAAXRSTlMAQObYZgAAAkpJREFU\n",
       "OMuFlDGI02AUx//GpE1yaewg9CYNCg43lQM3h6rD4aHQ6VaLeOANSm8SQaToYHuDdDpdxIigxyGl\n",
       "4CA6lZyD9AYDCiJ4UkEXwaMKgiKo7/tek+azCX3wp19/H/nnfe99L8Bk3B0pI2ba6fwZaSAWO0lq\n",
       "N1gToa9+2y19DLGiYm21+ad0HsjRW7YF+JLcddusidBuVDEwgc5/3DW8jQchbErsDv21lExejzQR\n",
       "e3twui8Ax1O5qYdalSwCMvZpu5vcvDJSHIWbl69JNx/rRpnKUFQ5uc10ye0+of7m5u3ks1adFYdx\n",
       "3Y/Xa6ZYf1I5uTmL5OZWgJ/N5lWlOmWWfWjlRCBAZ2xW8GS/tqBwcltYqtIR6alloKVUIWQ9xltP\n",
       "HiTRwg3u9Qco3NRLf/eLd1EbTspmjCPfZfXxyj8lQKJFyznZ66dQuDjpTo8uItUnDy1Muu2psHw0\n",
       "uTwHdin4wpVPy9+zKic3NM4QGdJpwzzS3IDv3JVxbq7Ipz9ys5K5oZFjN2uwRCQ4eqSqnhTGDwbF\n",
       "2G3bqci/CyoXbjWXUhc3oUVTofmX8hW1C8+1IeYEmI/vTm2dLl0x6sK8ktt77gKekKWBr9Ge6DNJ\n",
       "/20OrTBKlp/y12BfpAMeg8Jdo+ds1eSsAPvkoPyKZ7suZZ+bO8wfA/vCIu8cvzXbPDhLL/us8Gjq\n",
       "4YpaFcQtNIZG5mTpL3mC4o9MPZ0/ihb3nIEzderjWnjpPIgWD98E/biobVZmdNKxOgRTv5ZRtNJx\n",
       "RgZTvuSFjLzfAf8AgRyl+yot++sAAAAASUVORK5CYII=\n",
       "\" style=\"display:inline;vertical-align:middle;\" /></a><br>"
      ],
      "text/plain": [
       "xInIntsInBool: forall_{x} ((x in Integers) in BOOLEANS)"
      ]
     },
     "execution_count": 33,
     "metadata": {},
     "output_type": "execute_result"
    }
   ],
   "source": [
    "# For Integers\n",
    "xInIntsInBool = Forall(x, inBool(InSet(x, Integers)))"
   ]
  },
  {
   "cell_type": "code",
   "execution_count": 34,
   "metadata": {},
   "outputs": [
    {
     "data": {
      "text/html": [
       "<strong id=\"differenceInNaturals\"><a class=\"ProveItLink\" href=\"_proofs_/differenceInNaturals.ipynb\">differenceInNaturals</a>:</strong> <a class=\"ProveItLink\" href=\"__pv_it/9bc64a817ce858be3290b34fe141ffeab320fd300/expr.ipynb\"><img src=\"data:image/png;base64,iVBORw0KGgoAAAANSUhEUgAAAPoAAAAWBAMAAAAbRJz3AAAAMFBMVEX///8QEBCIiIhmZma6urrM\n",
       "zMxUVFQiIiJERETc3Nzu7u6qqqp2dnaYmJgyMjIAAAAcRTyBAAAAAXRSTlMAQObYZgAAA4ZJREFU\n",
       "SMe9Vl1IFFEU/nZnZ39mZ9YefLAkWrIsCmJRiCArI8igP33RXsItUihCfEkrg+wHGjNhXiopgsnA\n",
       "wsBdCgkjaEmish+GHiKLZIt+SOjnoYfyITr33tldZ91NaKsDZ+bON8z57j33O2cu8DcsYAnPacN5\n",
       "8KABJNngVYHsV2zPNuVIK+A1ssAv+gTUecXYDTxkwESB7B9tn2ahCLEls0C/VQ/EgEGglyWuszBy\n",
       "LSJ8uhXF6XInC/Tuc4fhAtQwQibd4oWx+wzh020rRcdF++F5eztPg3eD2QQfJWUWtNGBgbMFJv6s\n",
       "7dPtHk9/NR9vW5Ja++nooEnseAt81/VDBbKX2R6oqpjjfPN+/kpKLd8UJS0ur3FNjjL2EaAJ6MoR\n",
       "cUu2Vjy5YWY9tq81Ql+d8v5pxgxoIt9Ghl2tfsrYx4F1TlF6S0aOsbmqKRXtOLWikiuVP9lw0KHT\n",
       "DuHKXEhO/QYnURRGsDXzvT2PPd4GGtwgucCd6hPKrUrLZ6h9TCohpsSrI6twAKNLMl9zGME3DpJi\n",
       "4dIkfGEaDn5m9o5GUhKxBGSekDoGprLQj9c0aKTVWL5UlOfDAwhi+wVeK5Qorfucibg8ZmXYGQzt\n",
       "E3KxuzoRq80u961xm7136trlRJ1gDySp9nGp/B08IquRBLs2zt9Dm8JMUpFhZ7CbkysVLbXOzNMy\n",
       "b2eVu4U1Jjw8866p7HjJwtWQd+2iUPvkSYRE6zjPgy4yy0QXxtjQFHaCPR18dLm20XSqLhZHS9BR\n",
       "9kXVpAVbdVI4zU4Eaq9QHa7T1KSI3IpL/F2fWOpRjCuiUsKJKewMvs/rtxINqXAjwv1hrU11djXL\n",
       "TzGkRDpDGe2sJq9iE6RJueLuKBp0XQ8jMYpzfB+Xy/t1/ShU1QyYaXaCodxnn5eiPBWuRriyc+GZ\n",
       "Bc6Kq3jM2MQO9R8XuZIPl4A3eTBhagTGDP8L08vLesjCA7pPUvgoAzZuh2qk2RkMLItD+YGegRk7\n",
       "rdgj+77pRLujWyit9sBlNG6GyuYoSaSSwEkc1Dpxl4swwtdmszOY7ZiF2fI3a8a/DLc7eXA1pQTP\n",
       "zmurgG4aPWt+9CEql6L+ERFShrXmvU/aMuwMZnYT65eWpc8TXcjdMMUSk3leDDof3WzfRZMSt8W0\n",
       "7+m/8h+cLsSH+fYk73xznIb8f3qyGst3KsirFOs37EEqDf0k/q9J/yDmL/ZN7VP2Kxu1AAAAAElF\n",
       "TkSuQmCC\n",
       "\" style=\"display:inline;vertical-align:middle;\" /></a><br>"
      ],
      "text/plain": [
       "differenceInNaturals: forall_{a in Integers, b in Integers | b <= a} ((a - b) in Naturals)"
      ]
     },
     "execution_count": 34,
     "metadata": {},
     "output_type": "execute_result"
    }
   ],
   "source": [
    "differenceInNaturals = Forall((a, b), InSet(subtract(a, b), Naturals),\n",
    "                              domain=Integers, \n",
    "                              conditions=[LessEq(b, a)])"
   ]
  },
  {
   "cell_type": "code",
   "execution_count": 35,
   "metadata": {},
   "outputs": [
    {
     "data": {
      "text/html": [
       "<strong id=\"differenceInNaturalsPos\"><a class=\"ProveItLink\" href=\"_proofs_/differenceInNaturalsPos.ipynb\">differenceInNaturalsPos</a>:</strong> <a class=\"ProveItLink\" href=\"__pv_it/b4539ca068b912fd79c1742ab5a428ad79c7edc20/expr.ipynb\"><img src=\"data:image/png;base64,iVBORw0KGgoAAAANSUhEUgAAAQoAAAAbBAMAAAB2GNxwAAAAMFBMVEX///8QEBCIiIhmZma6urrM\n",
       "zMxUVFQiIiJERETc3Nzu7u6qqqp2dnaYmJgyMjIAAAAcRTyBAAAAAXRSTlMAQObYZgAAA/9JREFU\n",
       "SMfdV11oFFcU/nZnZ/ZvZrcPPoiiXZLWFp8WhSL+rgi1UGuSlyQvwa1UsSKSlxiNglur7a5amBdt\n",
       "sJSOBlRSyA4JeQgUuhikNFVZfJDE0rIFtdTSrYiC7oN47r0zOzPL7kqyeRAPzJ2fu+fc75zznXPv\n",
       "Am+QyKmF6aXpSiwaiu4F6mXo+nDRUDxsAYVaXCQQEotquJG1qeYoMASU2P2PFlH8YNBwtc5E5It+\n",
       "QNFrPv6ffQj17SU2inbgt1YCass0G/6pNxNL0qqlmo+hIvEoD6VcXln+j3wAhlksMy2iWE6Xlqw3\n",
       "EzdpuFbzURnwJ+CrZiRoIkbBVM3WQIQrzJZeb6qD5eqi9TI7OMjDonxk7EGwikLKQJsZHf22xVBo\n",
       "b9FQ38gvPC2im/SutmNxLj1mOCj8pP4smz3WaomUBMcQ3rhmmXfqQdsGijVPVqTKPkUfl9MOigCF\n",
       "cg+Qq2N5Zy2lwB0KlOv8NsSMfUPXVj32yFsOL4y8Dk3kQXdQqKnbDgr5KbDNy2Fl6fSXDLpqk+3T\n",
       "s+vWOrUtyoHQGO5CYI34KK25guXYLdEK4glE+zlWZw0d+5Ue9sSBhZ8Qq+C3203kp7XFoK5eYivE\n",
       "GGN/nN6EI5hZ7ULxr9g3vnKvFWSIqfylCoKsf0XKXDp5rvIFyDxAXeybHZXL+MsJ2BPWQIP26+zU\n",
       "KKLo+56XGMHUzlwwYMpzRReK5xz9Pr22KTAUvgzynbXtosO0UAy7YyEXupwSIxThEtuKRlbdR0Ak\n",
       "IVlg4662/ZQszj3V1W3lx6sMRNZ1WioWL6yMkNs/17SLIrYYCPCM+Nwo8LuTIJl5lvuMgjIgVxAT\n",
       "Zfcdd+c9o110d8xNulD4h/zJyC1GVK5iWbXYmTdxMOqJUjxFXLHYKVW3cIVWUJ3QsBrBBCGVknI/\n",
       "Rvi3S8L1E/gzIgosUXChCCW0UhfPEFcRwgqe0ZYmD6neLlkMkRFJWDhazRPj3GZvuyESw2f60+jJ\n",
       "ZrMJFGZwgaf5A/lwNnsCqmqEjSoKX0pKq/f4E1NxObOdAO9+9/w73kpdc5OtKshy+aQoLPn4UhrH\n",
       "nHbDLGs0l9dDdw2FW5ws4le6V2hz4Kt83AdVr6KIGz4TI6dgqVh2ljTs4FyuWPcdXw+W6u14dqp8\n",
       "+q5PoDLIkkRkCp/GkJbBdU7WJHOzuvMYszSez1kqlmxsuJtxuda89eZtZwK7xzcBZ+jpzt4bf6fl\n",
       "5ei+QXmm/Gl7D9w65KqRAzzHw59bKkJ41eUarRIpNUdxx/vqZ7wQPU/c3ideeM9FtvR64q+YDU45\n",
       "opD15igGMI9DWpNDCPe24Ylv7hU7cqHRTHF+KDDRwo48PK9fJ5vMRVMLR7H+dflT9RKlegU6Rx2G\n",
       "4AAAAABJRU5ErkJggg==\n",
       "\" style=\"display:inline;vertical-align:middle;\" /></a><br>"
      ],
      "text/plain": [
       "differenceInNaturalsPos: forall_{a in Integers, b in Integers | b < a} ((a - b) in NaturalsPos)"
      ]
     },
     "execution_count": 35,
     "metadata": {},
     "output_type": "execute_result"
    }
   ],
   "source": [
    "differenceInNaturalsPos = \\\n",
    "    Forall((a, b), InSet(subtract(a, b), NaturalsPos),\n",
    "           domain=Integers, \n",
    "           conditions=[Less(b, a)])"
   ]
  },
  {
   "cell_type": "code",
   "execution_count": 36,
   "metadata": {},
   "outputs": [
    {
     "name": "stdout",
     "output_type": "stream",
     "text": [
      "Theorems may be imported from autogenerated _theorems_.py\n"
     ]
    }
   ],
   "source": [
    "%end theorems"
   ]
  },
  {
   "cell_type": "code",
   "execution_count": null,
   "metadata": {},
   "outputs": [],
   "source": []
  }
 ],
 "metadata": {
  "kernelspec": {
   "display_name": "Python 3",
   "language": "python",
   "name": "python3"
  }
 },
 "nbformat": 4,
 "nbformat_minor": 0
}
