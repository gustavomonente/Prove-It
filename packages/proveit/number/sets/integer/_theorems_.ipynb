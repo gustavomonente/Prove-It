{
 "cells": [
  {
   "cell_type": "markdown",
   "metadata": {},
   "source": [
    "Theorems (or conjectures) for the theory of <a class=\"ProveItLink\" href=\"_theory_.ipynb\">proveit.number.sets.integer</a>\n",
    "========"
   ]
  },
  {
   "cell_type": "code",
   "execution_count": null,
   "metadata": {},
   "outputs": [],
   "source": [
    "import proveit\n",
    "# Prepare this notebook for defining the theorems of a theory:\n",
    "%theorems_notebook # Keep this at the top following 'import proveit'.\n",
    "from proveit import Operation\n",
    "from proveit._common_ import a, b, c, d, e, f, g, h, i, m, n, x, y, S, P\n",
    "from proveit.logic import And, Equals, Forall, Implies, inBool, InSet, NotEquals, ProperSubset\n",
    "from proveit.number import zero, one, num, frac\n",
    "from proveit.number import Natural, NaturalPos, Integers, Interval, Rationals, Reals, RealsPos, Complexes\n",
    "from proveit.number import Add, subtract, Greater, GreaterEq, Less, LessEq, LessEqOnlySeq\n",
    "from proveit.number._common_ import Pzero, Pone, Pm, P_mAddOne, Pn"
   ]
  },
  {
   "cell_type": "code",
   "execution_count": null,
   "metadata": {},
   "outputs": [],
   "source": [
    "%begin theorems"
   ]
  },
  {
   "cell_type": "code",
   "execution_count": null,
   "metadata": {},
   "outputs": [],
   "source": [
    "# Proven\n",
    "#zeroInNats = InSet(zero, Natural)"
   ]
  },
  {
   "cell_type": "code",
   "execution_count": null,
   "metadata": {},
   "outputs": [],
   "source": [
    "# In Progress\n",
    "#successiveNats = Forall(n, InSet(Add(n, one), Natural), domain=Natural)"
   ]
  },
  {
   "cell_type": "code",
   "execution_count": null,
   "metadata": {},
   "outputs": [],
   "source": [
    "#inductionLemma = Forall(n, Forall(S, Implies(And(InSet(zero, S), Forall(x, InSet(Add(x,one), S), domain=S)), InSet(n, S))), domain=Natural)"
   ]
  },
  {
   "cell_type": "code",
   "execution_count": null,
   "metadata": {},
   "outputs": [],
   "source": [
    "'''\n",
    "induction = Forall(P, Implies(And(Pzero, \n",
    "                                  Forall(m, P_mAddOne, \n",
    "                                         domain=Natural, condition=Pm)), \n",
    "                              Forall(n, Pn, domain=Natural)))\n",
    "'''"
   ]
  },
  {
   "cell_type": "code",
   "execution_count": null,
   "metadata": {},
   "outputs": [],
   "source": [
    "'''\n",
    "natPosInduction = Forall(P, Implies(And(Pone, \n",
    "                                        Forall(m, P_mAddOne, domain=NaturalPos, \n",
    "                                               condition=Pm)), \n",
    "                                    Forall(n, Pn, domain=NaturalPos)))\n",
    "'''"
   ]
  },
  {
   "cell_type": "code",
   "execution_count": null,
   "metadata": {},
   "outputs": [],
   "source": [
    "inNaturalIfNonNeg = Forall(a, InSet(a,Natural), \n",
    "                            domain=Integers, condition=GreaterEq(a, zero))"
   ]
  },
  {
   "cell_type": "code",
   "execution_count": null,
   "metadata": {},
   "outputs": [],
   "source": [
    "inNaturalPosIfPos = Forall(a, InSet(a,NaturalPos), \n",
    "                            domain=Integers, condition=Greater(a, zero))"
   ]
  },
  {
   "cell_type": "code",
   "execution_count": null,
   "metadata": {},
   "outputs": [],
   "source": [
    "# moved to sets.natural._theorems_\n",
    "# intervalInNat = Forall((a, b), Forall(n, InSet(n, Natural), \n",
    "#                                        domain=Interval(a, b)), domain=Natural)"
   ]
  },
  {
   "cell_type": "code",
   "execution_count": null,
   "metadata": {},
   "outputs": [],
   "source": [
    "intervalInNatPos = Forall((a, b), Forall(n, InSet(n, NaturalPos), \n",
    "                                          domain=Interval(a, b)), \n",
    "                           domain=Integers, condition=Greater(a, zero))"
   ]
  },
  {
   "cell_type": "code",
   "execution_count": null,
   "metadata": {},
   "outputs": [],
   "source": [
    "allInNegativeIntervalAreNegative = Forall((a, b), Forall(n, Less(n, zero), \n",
    "                                                         domain=Interval(a, b)), \n",
    "                                          domain=Integers, condition=Less(b, zero))"
   ]
  },
  {
   "cell_type": "code",
   "execution_count": null,
   "metadata": {},
   "outputs": [],
   "source": [
    "allInPositiveIntervalArePositive = Forall((a, b), Forall(n, Greater(n, zero), \n",
    "                                                         domain=Interval(a, b)), \n",
    "                                          domain=Integers, condition=Greater(a, zero))"
   ]
  },
  {
   "cell_type": "code",
   "execution_count": null,
   "metadata": {},
   "outputs": [],
   "source": [
    "intervalLowerBound = Forall((a, b), Forall(n, LessEq(a, n), domain=Interval(a, b)), \n",
    "                            domain=Integers)"
   ]
  },
  {
   "cell_type": "code",
   "execution_count": null,
   "metadata": {},
   "outputs": [],
   "source": [
    "intervalUpperBound = Forall((a, b), Forall(n, LessEq(n, b), domain=Interval(a, b)), \n",
    "                            domain=Integers)"
   ]
  },
  {
   "cell_type": "code",
   "execution_count": null,
   "metadata": {},
   "outputs": [],
   "source": [
    "inInterval = Forall((a, b, n), InSet(n, Interval(a, b)), domain=Integers, \n",
    "                    conditions=[LessEqOnlySeq(a, n, b)])"
   ]
  },
  {
   "cell_type": "code",
   "execution_count": null,
   "metadata": {},
   "outputs": [],
   "source": [
    "# natInInts = Forall(a,InSet(a,Integers),domain = Natural)"
   ]
  },
  {
   "cell_type": "code",
   "execution_count": null,
   "metadata": {},
   "outputs": [],
   "source": [
    "# natInReals = Forall(a,InSet(a,Reals),domain = Natural)"
   ]
  },
  {
   "cell_type": "code",
   "execution_count": null,
   "metadata": {},
   "outputs": [],
   "source": [
    "# natInComplexes = Forall(a,InSet(a,Complexes),domain = Natural)"
   ]
  },
  {
   "cell_type": "code",
   "execution_count": null,
   "metadata": {},
   "outputs": [],
   "source": [
    "# natsPosInNatural = Forall(a,InSet(a,Natural),domain = NaturalPos)"
   ]
  },
  {
   "cell_type": "code",
   "execution_count": null,
   "metadata": {},
   "outputs": [],
   "source": [
    "# natsPosInIntegers = Forall(a,InSet(a,Integers),domain = NaturalPos)"
   ]
  },
  {
   "cell_type": "code",
   "execution_count": null,
   "metadata": {},
   "outputs": [],
   "source": [
    "# natPosInRealsPos = Forall(a,InSet(a,RealsPos),domain = NaturalPos)"
   ]
  },
  {
   "cell_type": "code",
   "execution_count": null,
   "metadata": {},
   "outputs": [],
   "source": [
    "# natPosInReals = Forall(a,InSet(a,Reals),domain = NaturalPos)"
   ]
  },
  {
   "cell_type": "code",
   "execution_count": null,
   "metadata": {},
   "outputs": [],
   "source": [
    "# natPosInComplexes = Forall(a,InSet(a,Complexes),domain = NaturalPos)"
   ]
  },
  {
   "cell_type": "code",
   "execution_count": null,
   "metadata": {},
   "outputs": [],
   "source": [
    "# moved to sets.natural._theorems_\n",
    "# naturalLowerBound = Forall(n, GreaterEq(n, zero), domain=Natural)"
   ]
  },
  {
   "cell_type": "code",
   "execution_count": null,
   "metadata": {},
   "outputs": [],
   "source": [
    "# moved to sets.natural._theorems_\n",
    "# naturalPosLowerBound = Forall(n, GreaterEq(n, one), domain=NaturalPos)"
   ]
  },
  {
   "cell_type": "code",
   "execution_count": null,
   "metadata": {},
   "outputs": [],
   "source": [
    "# moved to sets.natural._theorems_\n",
    "# proven\n",
    "# nonZeroIfInNaturalPos = Forall(\n",
    "#         n,\n",
    "#         NotEquals(n, zero),\n",
    "#         domain=NaturalPos)"
   ]
  },
  {
   "cell_type": "code",
   "execution_count": null,
   "metadata": {},
   "outputs": [],
   "source": [
    "# ACTUALLY, PROBABLY WANT TO DO THE SUBSET THING\n",
    "intervalInInts = Forall((a, b), Forall(n, InSet(n, Integers), \n",
    "                                       domain=Interval(a, b)), \n",
    "                        domain=Integers)"
   ]
  },
  {
   "cell_type": "code",
   "execution_count": null,
   "metadata": {},
   "outputs": [],
   "source": [
    "# moved to sets.natural._theorems_\n",
    "# natPosInNat = ProperSubset(NaturalPos, Natural)"
   ]
  },
  {
   "cell_type": "code",
   "execution_count": null,
   "metadata": {},
   "outputs": [],
   "source": [
    "natInInts = ProperSubset(Natural, Integers)"
   ]
  },
  {
   "cell_type": "code",
   "execution_count": null,
   "metadata": {},
   "outputs": [],
   "source": [
    "natPosInInts = ProperSubset(NaturalPos, Integers)"
   ]
  },
  {
   "cell_type": "code",
   "execution_count": null,
   "metadata": {},
   "outputs": [],
   "source": [
    "# Proven\n",
    "zeroInIntegers = InSet(zero, Integers)"
   ]
  },
  {
   "cell_type": "markdown",
   "metadata": {},
   "source": [
    "***A set of inBool theorems, which are accessed by the respective NumberSets to implement their deduceMembershipInBool() methods:***"
   ]
  },
  {
   "cell_type": "code",
   "execution_count": null,
   "metadata": {},
   "outputs": [],
   "source": [
    "# moved to sets.natural._theorems_\n",
    "# In progress\n",
    "# For Natural\n",
    "# xInNatInBool = Forall(x, inBool(InSet(x, Natural)))"
   ]
  },
  {
   "cell_type": "code",
   "execution_count": null,
   "metadata": {},
   "outputs": [],
   "source": [
    "# moved to sets.natural._theorems_\n",
    "# For Positive Natural (NaturalPos)\n",
    "# xInNatPosInBool = Forall(x, inBool(InSet(x, NaturalPos)))"
   ]
  },
  {
   "cell_type": "code",
   "execution_count": null,
   "metadata": {},
   "outputs": [],
   "source": [
    "# For Integers\n",
    "xInIntsInBool = Forall(x, inBool(InSet(x, Integers)))"
   ]
  },
  {
   "cell_type": "code",
   "execution_count": null,
   "metadata": {},
   "outputs": [],
   "source": [
    "differenceInNatural = Forall((a, b), InSet(subtract(a, b), Natural),\n",
    "                              domain=Integers, \n",
    "                              conditions=[LessEq(b, a)])"
   ]
  },
  {
   "cell_type": "code",
   "execution_count": null,
   "metadata": {},
   "outputs": [],
   "source": [
    "differenceInNaturalPos = \\\n",
    "    Forall((a, b), InSet(subtract(a, b), NaturalPos),\n",
    "           domain=Integers, \n",
    "           conditions=[Less(b, a)])"
   ]
  },
  {
   "cell_type": "code",
   "execution_count": null,
   "metadata": {},
   "outputs": [],
   "source": [
    "%end theorems"
   ]
  },
  {
   "cell_type": "code",
   "execution_count": null,
   "metadata": {},
   "outputs": [],
   "source": []
  }
 ],
 "metadata": {
  "kernelspec": {
   "display_name": "Python 3",
   "language": "python",
   "name": "python3"
  }
 },
 "nbformat": 4,
 "nbformat_minor": 0
}
