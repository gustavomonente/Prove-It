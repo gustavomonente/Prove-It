{
 "cells": [
  {
   "cell_type": "markdown",
   "metadata": {},
   "source": [
    "Theorems (or conjectures) for the theory of <a class=\"ProveItLink\" href=\"_theory_.ipynb\">proveit.number.sets.integer</a>\n",
    "========"
   ]
  },
  {
   "cell_type": "code",
   "execution_count": null,
   "metadata": {},
   "outputs": [],
   "source": [
    "import proveit\n",
    "# Prepare this notebook for defining the theorems of a theory:\n",
    "%theorems_notebook # Keep this at the top following 'import proveit'.\n",
    "from proveit import Operation\n",
    "from proveit._common_ import a, b, c, d, e, f, g, h, i, m, n, x, y, S, P\n",
    "from proveit.logic import And, Equals, Forall, Implies, inBool, InSet, NotEquals, ProperSubset\n",
    "from proveit.number import zero, one, num, frac\n",
    "from proveit.number import Natural, NaturalPos, Integer, Interval, Rational, Real, RealPos, Complex\n",
    "from proveit.number import Add, subtract, Greater, GreaterEq, Less, LessEq, LessEqOnlySeq\n",
    "from proveit.number._common_ import Pzero, Pone, Pm, P_mAddOne, Pn"
   ]
  },
  {
   "cell_type": "code",
   "execution_count": null,
   "metadata": {},
   "outputs": [],
   "source": [
    "%begin theorems"
   ]
  },
  {
   "cell_type": "code",
   "execution_count": null,
   "metadata": {},
   "outputs": [],
   "source": [
    "# Proven\n",
    "#zeroInNats = InSet(zero, Natural)"
   ]
  },
  {
   "cell_type": "code",
   "execution_count": null,
   "metadata": {},
   "outputs": [],
   "source": [
    "# In Progress\n",
    "#successiveNats = Forall(n, InSet(Add(n, one), Natural), domain=Natural)"
   ]
  },
  {
   "cell_type": "code",
   "execution_count": null,
   "metadata": {},
   "outputs": [],
   "source": [
    "#inductionLemma = Forall(n, Forall(S, Implies(And(InSet(zero, S), Forall(x, InSet(Add(x,one), S), domain=S)), InSet(n, S))), domain=Natural)"
   ]
  },
  {
   "cell_type": "code",
   "execution_count": null,
   "metadata": {},
   "outputs": [],
   "source": [
    "'''\n",
    "induction = Forall(P, Implies(And(Pzero, \n",
    "                                  Forall(m, P_mAddOne, \n",
    "                                         domain=Natural, condition=Pm)), \n",
    "                              Forall(n, Pn, domain=Natural)))\n",
    "'''"
   ]
  },
  {
   "cell_type": "code",
   "execution_count": null,
   "metadata": {},
   "outputs": [],
   "source": [
    "'''\n",
    "natPosInduction = Forall(P, Implies(And(Pone, \n",
    "                                        Forall(m, P_mAddOne, domain=NaturalPos, \n",
    "                                               condition=Pm)), \n",
    "                                    Forall(n, Pn, domain=NaturalPos)))\n",
    "'''"
   ]
  },
  {
   "cell_type": "code",
   "execution_count": null,
   "metadata": {},
   "outputs": [],
   "source": [
    "inNaturalIfNonNeg = Forall(a, InSet(a,Natural), \n",
    "                            domain=Integer, condition=GreaterEq(a, zero))"
   ]
  },
  {
   "cell_type": "code",
   "execution_count": null,
   "metadata": {},
   "outputs": [],
   "source": [
    "inNaturalPosIfPos = Forall(a, InSet(a,NaturalPos), \n",
    "                            domain=Integer, condition=Greater(a, zero))"
   ]
  },
  {
   "cell_type": "code",
   "execution_count": null,
   "metadata": {},
   "outputs": [],
   "source": [
    "# moved to sets.natural._theorems_\n",
    "# intervalInNat = Forall((a, b), Forall(n, InSet(n, Natural), \n",
    "#                                        domain=Interval(a, b)), domain=Natural)"
   ]
  },
  {
   "cell_type": "code",
   "execution_count": null,
   "metadata": {},
   "outputs": [],
   "source": [
    "intervalInNatPos = Forall((a, b), Forall(n, InSet(n, NaturalPos), \n",
    "                                          domain=Interval(a, b)), \n",
    "                           domain=Integer, condition=Greater(a, zero))"
   ]
  },
  {
   "cell_type": "code",
   "execution_count": null,
   "metadata": {},
   "outputs": [],
   "source": [
    "allInNegativeIntervalAreNegative = Forall((a, b), Forall(n, Less(n, zero), \n",
    "                                                         domain=Interval(a, b)), \n",
    "                                          domain=Integer, condition=Less(b, zero))"
   ]
  },
  {
   "cell_type": "code",
   "execution_count": null,
   "metadata": {},
   "outputs": [],
   "source": [
    "allInPositiveIntervalArePositive = Forall((a, b), Forall(n, Greater(n, zero), \n",
    "                                                         domain=Interval(a, b)), \n",
    "                                          domain=Integer, condition=Greater(a, zero))"
   ]
  },
  {
   "cell_type": "code",
   "execution_count": null,
   "metadata": {},
   "outputs": [],
   "source": [
    "intervalLowerBound = Forall((a, b), Forall(n, LessEq(a, n), domain=Interval(a, b)), \n",
    "                            domain=Integer)"
   ]
  },
  {
   "cell_type": "code",
   "execution_count": null,
   "metadata": {},
   "outputs": [],
   "source": [
    "intervalUpperBound = Forall((a, b), Forall(n, LessEq(n, b), domain=Interval(a, b)), \n",
    "                            domain=Integer)"
   ]
  },
  {
   "cell_type": "code",
   "execution_count": null,
   "metadata": {},
   "outputs": [],
   "source": [
    "inInterval = Forall((a, b, n), InSet(n, Interval(a, b)), domain=Integer, \n",
    "                    conditions=[LessEqOnlySeq(a, n, b)])"
   ]
  },
  {
   "cell_type": "code",
   "execution_count": null,
   "metadata": {},
   "outputs": [],
   "source": [
    "# natInInt = Forall(a,InSet(a,Integer),domain = Natural)"
   ]
  },
  {
   "cell_type": "code",
   "execution_count": null,
   "metadata": {},
   "outputs": [],
   "source": [
    "# natInReal = Forall(a,InSet(a,Real),domain = Natural)"
   ]
  },
  {
   "cell_type": "code",
   "execution_count": null,
   "metadata": {},
   "outputs": [],
   "source": [
    "# natInComplex = Forall(a,InSet(a,Complex),domain = Natural)"
   ]
  },
  {
   "cell_type": "code",
   "execution_count": null,
   "metadata": {},
   "outputs": [],
   "source": [
    "# natsPosInNatural = Forall(a,InSet(a,Natural),domain = NaturalPos)"
   ]
  },
  {
   "cell_type": "code",
   "execution_count": null,
   "metadata": {},
   "outputs": [],
   "source": [
    "# natsPosInInteger = Forall(a,InSet(a,Integer),domain = NaturalPos)"
   ]
  },
  {
   "cell_type": "code",
   "execution_count": null,
   "metadata": {},
   "outputs": [],
   "source": [
    "# natPosInRealPos = Forall(a,InSet(a,RealPos),domain = NaturalPos)"
   ]
  },
  {
   "cell_type": "code",
   "execution_count": null,
   "metadata": {},
   "outputs": [],
   "source": [
    "# natPosInReal = Forall(a,InSet(a,Real),domain = NaturalPos)"
   ]
  },
  {
   "cell_type": "code",
   "execution_count": null,
   "metadata": {},
   "outputs": [],
   "source": [
    "# natPosInComplex = Forall(a,InSet(a,Complex),domain = NaturalPos)"
   ]
  },
  {
   "cell_type": "code",
   "execution_count": null,
   "metadata": {},
   "outputs": [],
   "source": [
    "# moved to sets.natural._theorems_\n",
    "# naturalLowerBound = Forall(n, GreaterEq(n, zero), domain=Natural)"
   ]
  },
  {
   "cell_type": "code",
   "execution_count": null,
   "metadata": {},
   "outputs": [],
   "source": [
    "# moved to sets.natural._theorems_\n",
    "# naturalPosLowerBound = Forall(n, GreaterEq(n, one), domain=NaturalPos)"
   ]
  },
  {
   "cell_type": "code",
   "execution_count": null,
   "metadata": {},
   "outputs": [],
   "source": [
    "# moved to sets.natural._theorems_\n",
    "# proven\n",
    "# nonZeroIfInNaturalPos = Forall(\n",
    "#         n,\n",
    "#         NotEquals(n, zero),\n",
    "#         domain=NaturalPos)"
   ]
  },
  {
   "cell_type": "code",
   "execution_count": null,
   "metadata": {},
   "outputs": [],
   "source": [
    "# ACTUALLY, PROBABLY WANT TO DO THE SUBSET THING\n",
    "intervalInInt = Forall((a, b), Forall(n, InSet(n, Integer), \n",
    "                                       domain=Interval(a, b)), \n",
    "                        domain=Integer)"
   ]
  },
  {
   "cell_type": "code",
   "execution_count": null,
   "metadata": {},
   "outputs": [],
   "source": [
    "# moved to sets.natural._theorems_\n",
    "# natPosInNat = ProperSubset(NaturalPos, Natural)"
   ]
  },
  {
   "cell_type": "code",
   "execution_count": null,
   "metadata": {},
   "outputs": [],
   "source": [
    "natInInt = ProperSubset(Natural, Integer)"
   ]
  },
  {
   "cell_type": "code",
   "execution_count": null,
   "metadata": {},
   "outputs": [],
   "source": [
    "natPosInInt = ProperSubset(NaturalPos, Integer)"
   ]
  },
  {
   "cell_type": "code",
   "execution_count": null,
   "metadata": {},
   "outputs": [],
   "source": [
    "# Proven\n",
    "zeroInInteger = InSet(zero, Integer)"
   ]
  },
  {
   "cell_type": "markdown",
   "metadata": {},
   "source": [
    "***A set of inBool theorems, which are accessed by the respective NumberSets to implement their deduceMembershipInBool() methods:***"
   ]
  },
  {
   "cell_type": "code",
   "execution_count": null,
   "metadata": {},
   "outputs": [],
   "source": [
    "# moved to sets.natural._theorems_\n",
    "# In progress\n",
    "# For Natural\n",
    "# xInNatInBool = Forall(x, inBool(InSet(x, Natural)))"
   ]
  },
  {
   "cell_type": "code",
   "execution_count": null,
   "metadata": {},
   "outputs": [],
   "source": [
    "# moved to sets.natural._theorems_\n",
    "# For Positive Natural (NaturalPos)\n",
    "# xInNatPosInBool = Forall(x, inBool(InSet(x, NaturalPos)))"
   ]
  },
  {
   "cell_type": "code",
   "execution_count": null,
   "metadata": {},
   "outputs": [],
   "source": [
    "# For Integer numbers\n",
    "xInIntInBool = Forall(x, inBool(InSet(x, Integer)))"
   ]
  },
  {
   "cell_type": "code",
   "execution_count": null,
   "metadata": {},
   "outputs": [],
   "source": [
    "differenceInNatural = Forall((a, b), InSet(subtract(a, b), Natural),\n",
    "                              domain=Integer, \n",
    "                              conditions=[LessEq(b, a)])"
   ]
  },
  {
   "cell_type": "code",
   "execution_count": null,
   "metadata": {},
   "outputs": [],
   "source": [
    "differenceInNaturalPos = \\\n",
    "    Forall((a, b), InSet(subtract(a, b), NaturalPos),\n",
    "           domain=Integer, \n",
    "           conditions=[Less(b, a)])"
   ]
  },
  {
   "cell_type": "code",
   "execution_count": null,
   "metadata": {},
   "outputs": [],
   "source": [
    "%end theorems"
   ]
  },
  {
   "cell_type": "code",
   "execution_count": null,
   "metadata": {},
   "outputs": [],
   "source": []
  }
 ],
 "metadata": {
  "kernelspec": {
   "display_name": "Python 3",
   "language": "python",
   "name": "python3"
  }
 },
 "nbformat": 4,
 "nbformat_minor": 0
}
