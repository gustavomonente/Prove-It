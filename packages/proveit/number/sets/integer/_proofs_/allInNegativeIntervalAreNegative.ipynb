{
 "cells": [
  {
   "cell_type": "markdown",
   "metadata": {},
   "source": [
    "Proof of <a class=\"ProveItLink\" href=\"../../../../_context_.ipynb\">proveit</a>.<a class=\"ProveItLink\" href=\"../../../_context_.ipynb\">number</a>.<a class=\"ProveItLink\" href=\"../../_context_.ipynb\">sets</a>.<a class=\"ProveItLink\" href=\"../_context_.ipynb\">integer</a>.<a class=\"ProveItLink\" href=\"../_theorems_.ipynb#allInNegativeIntervalAreNegative\">allInNegativeIntervalAreNegative</a> theorem\n",
    "========"
   ]
  },
  {
   "cell_type": "code",
   "execution_count": 1,
   "metadata": {},
   "outputs": [],
   "source": [
    "import proveit\n",
    "context = proveit.Context('..') # the theorem's context is in the parent directory"
   ]
  },
  {
   "cell_type": "code",
   "execution_count": 2,
   "metadata": {},
   "outputs": [
    {
     "name": "stdout",
     "output_type": "stream",
     "text": [
      "Beginning proof of allInNegativeIntervalAreNegative\n",
      "Recorded 'presuming' information\n",
      "Presuming previous theorems (applied transitively).\n"
     ]
    },
    {
     "data": {
      "text/html": [
       "<strong id=\"allInNegativeIntervalAreNegative\">allInNegativeIntervalAreNegative:</strong> <a class=\"ProveItLink\" href=\"../__pv_it/7b21a8cd0a20a842fb24877caefc734040a173a90/expr.ipynb\"><img src=\"data:image/png;base64,iVBORw0KGgoAAAANSUhEUgAAATIAAAAZBAMAAABA9L+3AAAAMFBMVEX///8QEBCIiIhmZma6urrM\n",
       "zMxUVFQiIiJERETc3Nzu7u6qqqp2dnaYmJgyMjIAAAAcRTyBAAAAAXRSTlMAQObYZgAABBFJREFU\n",
       "SMftl11oHFUUx/+72cnuzM5k+1ChoQpLAq2ogcVC6UMrKT4IiqI+tIVSshYtKrUEW/tlhBBRNlZh\n",
       "RNAYkUwbUImhWZRUCpIGQwXTGObF0pZ+7EODaF9KacGmFXrOvXc+d7Oy7D56H3J3Tub85zf3fNw7\n",
       "QAtG+6EjaO1IHRpoiU4arR+f/08WH7q74r+ytiSr8HSlabJGZb6rbTZ7zgJvSLJzPP3dNFmjMn/V\n",
       "Nt/AtzZOSrIRXtrBpskalLEKVTFcYvMqmBWYeUHW4dAalpsma1AmbcdR97MlU0R2GcYqQWbNT0x8\n",
       "0XwFNCgTvzU54PCUKyJ1D7gua/OfUmmgBbXZmEw3NdNfv+x6Ul1Ovi3nqQJSt4A5SfYaMFzD94VK\n",
       "vC3HzMlfZsNkVTLa73E97XH/6hOKfWYIUzKo4+8p89gsNCK7KsmehhGGaF8z9z6np+nl6Csfb9rA\n",
       "c0aWtTI/i8s4FSaLyQCfOtF+QI7t/ru8C+xMVzD2onjkDc88VoB2H/hJkqWR9Lqe8fMGN22bJ1iz\n",
       "g9P5+7ktOIL5xwKyDpnlO4o4gJwTIgvJCDfMRJecHbM++2rAmerFNXHxjU+motknyUzXb+EXTk8g\n",
       "i11fi2SkhbaOjTooaxfdgCwnG/QwjDtIlENkIRnhFidjxwgZzgD75NVnXjSpArL3fDK9so1DvW4J\n",
       "KRmpgljzvq43KUI82kwEZGzG+AeURneRdkNkQsba8nI3lNuMUlWDHQMyiiaeAv41ohWQGYS1DDyj\n",
       "9s3hVymO72jL6JBv/JUI/nqnW245uDgdImPzJFc13Z/Oh/dNlrG2uglbuc0oVTXYMSCjCsDD1LvM\n",
       "aNeQndarAPzYT+tS0PoxLm46Ie8ewlVDrKGRnw2RkVl7RJTeXSQiZCwzup6ST7phr1JVgxxhdHpX\n",
       "1Bf020TxR7TT0loep3XZrMhy9IBEOVnE9lKplMfsPEZFJmzUDpdKQzBNR3d8MjJjsZeB7yDXGyZj\n",
       "GezGVki3HQWl6mfWRmC7V5wUr1Q/9LfK0d0Jk13UfbCkyCx67pSdueS0i7Y17eI3mpexFkL2uV0w\n",
       "bZ+MzcYmjnesNoUMHsJmTbrxmglVdY9w7FxxdwoPoz90PkvYfc/D5Ae2tdHb6B/hqDWIs6IgCiIj\n",
       "FRmbob9ucxs/VXU+02/iwLR04zwTqiMOqY047BjkWfWOHm59+RBZavcP1IKO0a/zexb+LGprsW2B\n",
       "YGixrT17Fw8GZGwmgg9tJBcKVWSpIp5whZsgE6ov2Von/WHHgKzmtuONk9Vn2iTnmYy6nB6lhPFG\n",
       "JrL1DNc70wq3mRqn1cp/nRwD6pVO26erTZkGT9v1yeqcti27HpnbPNnx6iQP9s2WfqG01SGr9b2p\n",
       "98Qt2rkGvjcPPgAUjigUludGiAAAAABJRU5ErkJggg==\n",
       "\" style=\"display:inline;vertical-align:middle;\" /></a><br>(see <a class=\"ProveItLink\" href=\"../__pv_it/7b21a8cd0a20a842fb24877caefc734040a173a90/dependencies.ipynb\">dependencies</a>)<br>"
      ],
      "text/plain": [
       "allInNegativeIntervalAreNegative: forall_{a in Integers, b in Integers | b < 0} [forall_{n in {a...b}} (n < 0)]"
      ]
     },
     "execution_count": 2,
     "metadata": {},
     "output_type": "execute_result"
    }
   ],
   "source": [
    "%proving allInNegativeIntervalAreNegative presuming []"
   ]
  },
  {
   "cell_type": "code",
   "execution_count": null,
   "metadata": {},
   "outputs": [],
   "source": []
  }
 ],
 "metadata": {
  "kernelspec": {
   "display_name": "Python 3",
   "language": "python",
   "name": "python3"
  }
 },
 "nbformat": 4,
 "nbformat_minor": 0
}
