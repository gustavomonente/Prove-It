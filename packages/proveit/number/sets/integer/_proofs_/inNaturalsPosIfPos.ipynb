{
 "cells": [
  {
   "cell_type": "markdown",
   "metadata": {},
   "source": [
    "Proof of <a class=\"ProveItLink\" href=\"../../../../_context_.ipynb\">proveit</a>.<a class=\"ProveItLink\" href=\"../../../_context_.ipynb\">number</a>.<a class=\"ProveItLink\" href=\"../../_context_.ipynb\">sets</a>.<a class=\"ProveItLink\" href=\"../_context_.ipynb\">integer</a>.<a class=\"ProveItLink\" href=\"../_theorems_.ipynb#inNaturalsPosIfPos\">inNaturalsPosIfPos</a> theorem\n",
    "========"
   ]
  },
  {
   "cell_type": "code",
   "execution_count": 1,
   "metadata": {},
   "outputs": [],
   "source": [
    "import proveit\n",
    "context = proveit.Context('..') # the theorem's context is in the parent directory"
   ]
  },
  {
   "cell_type": "code",
   "execution_count": 2,
   "metadata": {},
   "outputs": [
    {
     "name": "stdout",
     "output_type": "stream",
     "text": [
      "Beginning proof of inNaturalsPosIfPos\n",
      "Recorded 'presuming' information\n",
      "Presuming previous theorems (applied transitively).\n"
     ]
    },
    {
     "data": {
      "text/html": [
       "<strong id=\"inNaturalsPosIfPos\">inNaturalsPosIfPos:</strong> <a class=\"ProveItLink\" href=\"../__pv_it/e44b12a64a33df4fd723ffa32f4a51820d2f10eb0/expr.ipynb\"><img src=\"data:image/png;base64,iVBORw0KGgoAAAANSUhEUgAAALcAAAAbBAMAAADMngM5AAAAMFBMVEX///8QEBCIiIhmZma6urrM\n",
       "zMxUVFQiIiJERETc3Nzu7u6qqqp2dnaYmJgyMjIAAAAcRTyBAAAAAXRSTlMAQObYZgAAAtxJREFU\n",
       "SMfNlk1oE0EUx//ZbHabzTYW6SEi1NSDpx6CXkT8CHgRQU0vth4kS7FFPRWh9OBXaA+meFmQYlHE\n",
       "tYUccmhKi4eCh0AuWhVSDyp+QCyIUDTtQUGqB99MsruTpmabgOCDDTNvMr+8efN/bwP8fxaIN1o1\n",
       "6JFah59tuJqiRzZahq96wvGyVbY/6g1XLaDEBh+bhD+06n3aWnoV+p5OGy7FgOfep6y3wlbOtiLd\n",
       "RA5KudxV/gYE14EpcgdTTcJ3b+VURqQofE5acBUI0wn1uebYwQ1x1n5r9AaHn7AGobrwg7S0lM3e\n",
       "bTLw9g5R8mPVC1AmjVlLgHfT8zOdvtasWJgK7hS6OXXWvlzFnA8YAvwMLQwCE1sR6mqwp8e5Otot\n",
       "78Ian1xycm7q8VcCPJkAjkMridcSKYzH3G8wm6zkIh+yiy5Mg0dFllTxe4qJy0ofG5kVvVJ4KqSi\n",
       "LdUnB4qqqU9btfAMP5kah32PKv36MQtXeMq7ymRVeAaf3DBzBNeLqj19u5hFCOcf1EZEcmVHzyUc\n",
       "BYYJHoH2AzUyJngg3ytUGsGDJdaFZvZ9hszTgVhegDM/0H+IUmjiup1zA9pvhNb5pEOA432bC0+y\n",
       "7ExcoISMBDYQruT2fsKFcz/Z6SiS1TwwTAraLyilRTbZ78Bpnz7lwplasDBM4ooFhjHDfdO60H24\n",
       "n9mySYHsrG6TKNoxvDH4EVW7AsNscNSFL7OPHdTifHOSgb50Oh1Ffgn3HDj3k4VWWM6/V7fJdJrM\n",
       "3nMDXK3axZOVYroZYap34VxM7RR+zmx7Zyl84+Minjlw7ifnV0tUCzpF/ctPK+W/2Vbsgc9MnoLO\n",
       "ku33Qx52I2d+BMYt1kIdnePwNspYc0KRB+aPALdp9HroxRfDgXN/cIhXRY/baHu304A2vecklvOa\n",
       "1wm3/kRdd91GG1UTXu+qvx255A3/gBbhWPDu+Q33xxothuKebdn6x3+d/gCiBbZ60yLxBgAAAABJ\n",
       "RU5ErkJggg==\n",
       "\" style=\"display:inline;vertical-align:middle;\" /></a><br>(see <a class=\"ProveItLink\" href=\"../__pv_it/e44b12a64a33df4fd723ffa32f4a51820d2f10eb0/dependencies.ipynb\">dependencies</a>)<br>"
      ],
      "text/plain": [
       "inNaturalsPosIfPos: forall_{a in Integers | a > 0} (a in NaturalsPos)"
      ]
     },
     "execution_count": 2,
     "metadata": {},
     "output_type": "execute_result"
    }
   ],
   "source": [
    "%proving inNaturalsPosIfPos presuming []"
   ]
  },
  {
   "cell_type": "code",
   "execution_count": null,
   "metadata": {},
   "outputs": [],
   "source": []
  }
 ],
 "metadata": {
  "kernelspec": {
   "display_name": "Python 3",
   "language": "python",
   "name": "python3"
  }
 },
 "nbformat": 4,
 "nbformat_minor": 0
}
