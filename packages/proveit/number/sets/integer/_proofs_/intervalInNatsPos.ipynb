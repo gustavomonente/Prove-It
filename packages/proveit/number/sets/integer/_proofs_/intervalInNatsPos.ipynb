{
 "cells": [
  {
   "cell_type": "markdown",
   "metadata": {},
   "source": [
    "Proof of <a class=\"ProveItLink\" href=\"../../../../_context_.ipynb\">proveit</a>.<a class=\"ProveItLink\" href=\"../../../_context_.ipynb\">number</a>.<a class=\"ProveItLink\" href=\"../../_context_.ipynb\">sets</a>.<a class=\"ProveItLink\" href=\"../_context_.ipynb\">integer</a>.<a class=\"ProveItLink\" href=\"../_theorems_.ipynb#intervalInNatsPos\">intervalInNatsPos</a> theorem\n",
    "========"
   ]
  },
  {
   "cell_type": "code",
   "execution_count": 1,
   "metadata": {},
   "outputs": [],
   "source": [
    "import proveit\n",
    "context = proveit.Context('..') # the theorem's context is in the parent directory"
   ]
  },
  {
   "cell_type": "code",
   "execution_count": 2,
   "metadata": {},
   "outputs": [
    {
     "name": "stdout",
     "output_type": "stream",
     "text": [
      "Beginning proof of intervalInNatsPos\n",
      "Recorded 'presuming' information\n",
      "Presuming previous theorems (applied transitively).\n"
     ]
    },
    {
     "data": {
      "text/html": [
       "<strong id=\"intervalInNatsPos\">intervalInNatsPos:</strong> <a class=\"ProveItLink\" href=\"../__pv_it/9470dede9ac15ed117d26f4c0d24735f8e13bdd40/expr.ipynb\"><img src=\"data:image/png;base64,iVBORw0KGgoAAAANSUhEUgAAAUYAAAAbBAMAAADynjteAAAAMFBMVEX///8QEBCIiIhmZma6urrM\n",
       "zMxUVFQiIiJERETc3Nzu7u6qqqp2dnaYmJgyMjIAAAAcRTyBAAAAAXRSTlMAQObYZgAABLlJREFU\n",
       "WMPlmF2IG1UUx//5mJlkMrPZh31oXNTYhVUqQnBBF7ESEKrQqlkfun1oSRRbbVkkD7bRWnTpqp22\n",
       "CqHgulS04xYqRuiGlhYKUgeXPnS7W+In/VglFkSoGEtpwc2T595JMnc2ITtxF4o4MJmZO/ee+d1z\n",
       "z/+eewP8X46Xc/mO20jJtq8zdPrpDOb2rAxj9l+02dj+9SjjY6AYv3OM15dmxNydZQzEPTAqJmcs\n",
       "s/ufl83YxS56yXuTI2aLQvUv4zq0e3vqjP4EZ7zgwe8eGLUiXbpM702mW5aGShSmU5ArlXsqfwLh\n",
       "G5xxgn7Do8tm5CYmOmjS27JU3umPw9cYa7zJGVnfuROWGY9sKC54bxGuuh4v5XI86OSnza1QHMZB\n",
       "zqjPFAofrYBm5guFLzqQjt4tPm1aU/fjh5njpsB4n63rvw1jzwowRg1jn9WBrMltG7Yf6uPqVht6\n",
       "kPMnpIzA+JzJGbcC+1sYeba8qCC4uIb/G0tglFMIuZPNZpfKgxXgeSemQsRgGXF1wSZzGLXkdwJj\n",
       "OsUZn4Qq4sirpseY4rVEreCF9wcHuFUnllL8Mo/TAmMwgePuiLurWcgjjaeuDKTiWwjfdpsm2h3y\n",
       "MLuzsY8kOaMCf73D6lcDJSWvTbIppIv1+cvptXgDM2vchtRXuIHXEDWFOTyLhyDYQWTRQPxB59nG\n",
       "k5KAqt6CziYXDFXoKNcYj+FXp9GUzaiVlIa6zhQQwZZP2H2UOPSDh00UpcslNyPC79FL9TZ8RYFx\n",
       "zsk2zE4T44KLsYuGKXIDMq80IfpRsoaEmd5mDJdZdj/a/xsbLnYkeJilV++gMODhrcFhVB9+lUZa\n",
       "GjMhLUApCYyfSrQC+P7H1YmaHcZo17aXOTf7TYExlOG6iZbYUPhERlwVvJHO2/l6/0tkbKdUtfMZ\n",
       "9I+52fvNPjtP4vIpgfHzVJpZDV4DNVDiAmNonPr8w92I1ewwxlptrrDdlNgcRpk04bPwtWm5cjcp\n",
       "D5qQCmq6xkn6QiAhZXGUF0/abtuLX1TuDzVuCYwDGLZ7EiM/+kTGyKM0JpNZVGt2ZMupzZrH9TI+\n",
       "awjY380H8qKeqqcTOwRY9DzhMH5bW/dE6Uu+oj+DYcMw4rBmcJhKe/CI9Lph7IWmmWGzwdiLfn49\n",
       "G6d4jCbFdc9NBhYPdtt2pDGhNhvPZICk3JiJg5RnnqLvX+VPx96x3S29vYp+hflhsMao0/upfOiK\n",
       "KfPGp0o4T9cqfYAvMddvgZavM9J89kGBzZ4zTbrGFUaSClgpue7Hem2uQZMU5vgRPS5BbdiXK7ea\n",
       "6q8J60dfPv0MNOb3QADBbPgAduujOMcllGAdrvsxJt0ioWx6jG77XPNjTYdQ1qe4HR6PrDbZmjDD\n",
       "BxTzkqhrPO4lG6lVgTH44om1wEG6+2nb7O8ZqRcbZwmLokPfNnJxl8O47sG+Esa385CaTTQxroN/\n",
       "zrbDGVltKYahvBSTRiwX45CnrJ5pWof7WTzaorQvD1A8NoLe2S29u8Q6nNuJtBg8gVH2stZSUm32\n",
       "CmdaLD873CsswaiWPTDOt9vPlJbPqMaay0aE+5MeFpmjHe65Am3e5Vrtrw81dXSzOL6R5NKfNNn+\n",
       "etd/4R+GfwCls0htPOJgvAAAAABJRU5ErkJggg==\n",
       "\" style=\"display:inline;vertical-align:middle;\" /></a><br>(see <a class=\"ProveItLink\" href=\"../__pv_it/9470dede9ac15ed117d26f4c0d24735f8e13bdd40/dependencies.ipynb\">dependencies</a>)<br>"
      ],
      "text/plain": [
       "intervalInNatsPos: forall_{a in Integers, b in Integers | a > 0} [forall_{n in {a...b}} (n in NaturalsPos)]"
      ]
     },
     "execution_count": 2,
     "metadata": {},
     "output_type": "execute_result"
    }
   ],
   "source": [
    "%proving intervalInNatsPos presuming []"
   ]
  },
  {
   "cell_type": "code",
   "execution_count": null,
   "metadata": {},
   "outputs": [],
   "source": []
  }
 ],
 "metadata": {
  "kernelspec": {
   "display_name": "Python 3",
   "language": "python",
   "name": "python3"
  }
 },
 "nbformat": 4,
 "nbformat_minor": 0
}
