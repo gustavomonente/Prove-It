{
 "cells": [
  {
   "cell_type": "markdown",
   "metadata": {},
   "source": [
    "Proof of <a class=\"ProveItLink\" href=\"../../../../_context_.ipynb\">proveit</a>.<a class=\"ProveItLink\" href=\"../../../_context_.ipynb\">number</a>.<a class=\"ProveItLink\" href=\"../../_context_.ipynb\">sets</a>.<a class=\"ProveItLink\" href=\"../_context_.ipynb\">integer</a>.<a class=\"ProveItLink\" href=\"../_theorems_.ipynb#inInterval\">inInterval</a> theorem\n",
    "========"
   ]
  },
  {
   "cell_type": "code",
   "execution_count": 1,
   "metadata": {},
   "outputs": [],
   "source": [
    "import proveit\n",
    "context = proveit.Context('..') # the theorem's context is in the parent directory"
   ]
  },
  {
   "cell_type": "code",
   "execution_count": 2,
   "metadata": {},
   "outputs": [
    {
     "name": "stdout",
     "output_type": "stream",
     "text": [
      "Beginning proof of inInterval\n",
      "Recorded 'presuming' information\n",
      "Presuming previous theorems (applied transitively).\n"
     ]
    },
    {
     "data": {
      "text/html": [
       "<strong id=\"inInterval\">inInterval:</strong> <a class=\"ProveItLink\" href=\"../__pv_it/5ad962bd7b1db854f4c7981d63db2cc4212e764e0/expr.ipynb\"><img src=\"data:image/png;base64,iVBORw0KGgoAAAANSUhEUgAAAT0AAAAXBAMAAACL9YVKAAAAMFBMVEX///8QEBCIiIhmZma6urrM\n",
       "zMxUVFQiIiJERETc3Nzu7u6qqqp2dnaYmJgyMjIAAAAcRTyBAAAAAXRSTlMAQObYZgAAA/xJREFU\n",
       "SMfNV19oU1cY/7VJmubmpumDQqVzdBXmEJFQQQquW8oeChtbnQM3EWksrsyhUoZWN8fIMmHR7iHg\n",
       "g13H2LWFDaos2UbBirjSotaujgtjzgpqUFZhs9oHBek28fvOuX9yTJqsD9k8kHvP+b7vd8/vfH/O\n",
       "OQH+txZqKaJ8Y9V/R+TLglLtdlFQ6wZghN5ZHlwtJz0tXth9cwvZf9xNTw8Rq0oBP7Hoj3Lyq0kV\n",
       "FOvdCwIillojjn3UD8TLye8XLJJfOGOrx4isQf1MOfm9r4b1030fleDXbtjqY2Q/OTR0tJz0AgoP\n",
       "X8Io6b/zjromCjxIJj8sJ79Kyibvuc8bm8ToW0OJ75HxZ4w8xEzjelLXsg1h3wYOFfjsa9nSU0eL\n",
       "6Bx8tUnzVCeQFmWywzGoIgPvMtzNr9+HBtmK8g6RzUuiTFxY3fgnEYu6aNs+a16rfsCRqGV10u0G\n",
       "4y7eT8m9xZ/FVxtUyHc0PmaiOY9fcB7hBuAmd8nHflSaNvPTa01/Sh9gl9dwzRwfb6H0nszZyxWJ\n",
       "wu9MgzvDDQvPrYK8bKSjuC7S7+k71Lj3FpfNiwbey+NHO196lBxFGh85UTf9tubyyBCC2Cr2+zCF\n",
       "I9TbbyDjmzbd6lMkufyu5RjNWniHH34EdkPdyfiAqIN2v9D2106Lm4HkF8huot7gs7/DK0MSGeVn\n",
       "R+O7FHqxHl2elhtXQJHY/BiKNaZjUzlr45344gXgH41HtW4ixaH9jWD+KRI22a8i/7xcQ4e2U2T3\n",
       "+uZRI1f/hUiUlcYKefZheliIW82KlCKx+AloW8ax8R6AjXfqA09RVolFNeXuz9pfVCUjefyi2nKr\n",
       "frk+8AOR9ER83RgU6gHpnASuacKfWoPwZ/9KhA1FYvET0BMHXZuJqIW3eBAmcA969lfHm87+ksBv\n",
       "sVGuWBqns9ajyqyOWNuPhyfiYqnIVMbwZjKZbMDoJPpJugTrfPuTyQR03QhwwXSiFapE8hNQnOiF\n",
       "ZQNtIiPxkgfHiH6BXYKZ9s7LOfy+btzcyavpYeYx66E1XXT2Zw5liOZKp6qvGFXic8MmLtB7HvVg\n",
       "BF7ZCp1zfSme96kSyU9AKev+tG0oGTMSX+h8806UPN9c9Tf2qCLV8Sp0Zuvx0GoDh/FBKI6zolwi\n",
       "aEOfEZjDnuEcies/hsqqlTaymBlf/H5QW5rfmLOqzu/pNssxutQ1dSvmq8emKUpt8kOoa+fPPXg9\n",
       "441htZkjcfhJKO96hrThdkrgrQJJLe7+5+yC6sHBRyXnn5xLvp6jbJPNTmtXknd+LPJ+ihL35+iC\n",
       "K4O8WStnTkHLf3ltLHy/R7Dk/4/pBdXm48FAcX4nqfST8iYS5O5hPAktUv4pHgGlNy3njerN+AAA\n",
       "AABJRU5ErkJggg==\n",
       "\" style=\"display:inline;vertical-align:middle;\" /></a><br>(see <a class=\"ProveItLink\" href=\"../__pv_it/5ad962bd7b1db854f4c7981d63db2cc4212e764e0/dependencies.ipynb\">dependencies</a>)<br>"
      ],
      "text/plain": [
       "inInterval: forall_{a in Integers, b in Integers, n in Integers | a <= n <= b} (n in {a...b})"
      ]
     },
     "execution_count": 2,
     "metadata": {},
     "output_type": "execute_result"
    }
   ],
   "source": [
    "%proving inInterval presuming []"
   ]
  },
  {
   "cell_type": "code",
   "execution_count": null,
   "metadata": {},
   "outputs": [],
   "source": []
  }
 ],
 "metadata": {
  "kernelspec": {
   "display_name": "Python 3",
   "language": "python",
   "name": "python3"
  }
 },
 "nbformat": 4,
 "nbformat_minor": 0
}
