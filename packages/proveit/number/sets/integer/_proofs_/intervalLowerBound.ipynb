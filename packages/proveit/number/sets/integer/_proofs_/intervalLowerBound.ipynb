{
 "cells": [
  {
   "cell_type": "markdown",
   "metadata": {},
   "source": [
    "Proof of <a class=\"ProveItLink\" href=\"../../../../_context_.ipynb\">proveit</a>.<a class=\"ProveItLink\" href=\"../../../_context_.ipynb\">number</a>.<a class=\"ProveItLink\" href=\"../../_context_.ipynb\">sets</a>.<a class=\"ProveItLink\" href=\"../_context_.ipynb\">integer</a>.<a class=\"ProveItLink\" href=\"../_theorems_.ipynb#intervalLowerBound\">intervalLowerBound</a> theorem\n",
    "========"
   ]
  },
  {
   "cell_type": "code",
   "execution_count": 1,
   "metadata": {},
   "outputs": [],
   "source": [
    "import proveit\n",
    "context = proveit.Context('..') # the theorem's context is in the parent directory"
   ]
  },
  {
   "cell_type": "code",
   "execution_count": 2,
   "metadata": {},
   "outputs": [
    {
     "name": "stdout",
     "output_type": "stream",
     "text": [
      "Beginning proof of intervalLowerBound\n",
      "Recorded 'presuming' information\n",
      "Presuming previous theorems (applied transitively).\n"
     ]
    },
    {
     "data": {
      "text/html": [
       "<strong id=\"intervalLowerBound\">intervalLowerBound:</strong> <a class=\"ProveItLink\" href=\"../__pv_it/c40bb28050193c9db874d241950bda2c8b054eb10/expr.ipynb\"><img src=\"data:image/png;base64,iVBORw0KGgoAAAANSUhEUgAAAQQAAAAZBAMAAAAlGU3IAAAAMFBMVEX///8QEBCIiIhmZma6urrM\n",
       "zMxUVFQiIiJERETc3Nzu7u6qqqp2dnaYmJgyMjIAAAAcRTyBAAAAAXRSTlMAQObYZgAAA+NJREFU\n",
       "SMfll19oFEccx7+5u7273dtN8tAHTyucEaJECoeBqqA2ULAPopw++AeVXEVTlBiOQj0VH0IU3Ggr\n",
       "h4UYFXWNYOkJ5lBEApIehLY0MWWhxn9YvQeD0EIVUdDYgr+Z2b3b3UuPDdinDuRmZ+a3s5/fb77z\n",
       "mwkwk/JFNof3W0LZgzN7IYP3X/r+Dwhn/30olhMIJVb97huhnlWa6ZtA6a4xuEsgjLHqD98IaoGq\n",
       "esM3Qr1XvwtSlecrAqGffuVu3wjctN//OvzmCcrPCUdLTXAE5hF3zacWWMDG/CPsd7XkJa4lVBo5\n",
       "gjaaz5+cgRwf5vPf+1el7DKVuzy+PhE74rWuH5wBQoOuHyn6Rggk6efbkXlcPNLxNjsh/XSqaTHV\n",
       "IwJhJ9A7zctrS9MjhFOIuiW21RXc0F/A+rKzURoLxfGMN/SyEtVoDwZplkcC4VMozq+FZ40cYuhq\n",
       "0ur4/OulrQ6EUFIIuRLd2W5M5lmn3YgQzAUTS8VmaLG7t0RKOE9ANwRCBAHbDeVmqxnJqQMsbPXM\n",
       "k8sjK0hQoy3O1JTBR3DYI+YJ15/0N2w36ij0nxj4UrTujlrdxmAbHlPdLhBUM2K/cG8ojxi28YTW\n",
       "QHHSjp02UJDum06E8UqOZPZVCG+8CLOgvLKaw8ushx+ArgqCXNpADxebJ1mMWUlytbU37aY1YiWo\n",
       "uhL0OSlN232iKWnZMwRlcZe9ztKLZqOCQAuh/I3Y87LCdop6JfCPAnxmnRG9O2iOr6QpkXyhneGz\n",
       "LTDmi+SN+9ddCNE+8uz2XMQte4bwXardTpiBA7QLhh1yVN4iXBqyOzYd5tWHiE2pZTniGk0cTEoZ\n",
       "XOSjA8LpHjxSuJdKouhCiC2hyA1kMGXZh2m4FRvLH01oJVyw9wwTdQ/upitT9DEH5ZdQSxPAcguh\n",
       "gdJkXSGQxkZd1xMojuI09X6Aj6V9ut4DVTVkw3lSvmDfTYQahb10iJpz0FxZ/WAakp1pQvTGpabN\n",
       "29s8FxXK9HtI75MWgkYfGMxFHxhhPnrdxC9UT9G8adaxehvUnBPhAftQKlhMhe0oKG/wTd4yaTDq\n",
       "CpUoeBK09xjNOO4Ldbn2NVBZjIJBYpSP4oDWjR+5OpNcNe77wnlEVqe4PddCXHpp0jv9hnw0Ytxz\n",
       "7AjvMeUu1jFlRWb71RXAMXq603HraVqagw23aF0pVlpH5697qxBWITAu7DnCqkXzTSmOdTkpLnUW\n",
       "nQiOTKo8zbJSfVi7MjrTgpC5qBaSFmrcmrh9bJpMPuzvytJb6+I25P/iVhuh1sVNy9VCMP0jKPHq\n",
       "vs7/7vqane7/iBNVvFsLvmcMZfe+AzVcDoING6rmAAAAAElFTkSuQmCC\n",
       "\" style=\"display:inline;vertical-align:middle;\" /></a><br>(see <a class=\"ProveItLink\" href=\"../__pv_it/c40bb28050193c9db874d241950bda2c8b054eb10/dependencies.ipynb\">dependencies</a>)<br>"
      ],
      "text/plain": [
       "intervalLowerBound: forall_{a in Integers, b in Integers} [forall_{n in {a...b}} (a <= n)]"
      ]
     },
     "execution_count": 2,
     "metadata": {},
     "output_type": "execute_result"
    }
   ],
   "source": [
    "%proving intervalLowerBound presuming []"
   ]
  },
  {
   "cell_type": "code",
   "execution_count": null,
   "metadata": {},
   "outputs": [],
   "source": []
  }
 ],
 "metadata": {
  "kernelspec": {
   "display_name": "Python 3",
   "language": "python",
   "name": "python3"
  }
 },
 "nbformat": 4,
 "nbformat_minor": 0
}
