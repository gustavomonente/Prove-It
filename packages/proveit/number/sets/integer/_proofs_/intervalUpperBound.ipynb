{
 "cells": [
  {
   "cell_type": "markdown",
   "metadata": {},
   "source": [
    "Proof of <a class=\"ProveItLink\" href=\"../../../../_context_.ipynb\">proveit</a>.<a class=\"ProveItLink\" href=\"../../../_context_.ipynb\">number</a>.<a class=\"ProveItLink\" href=\"../../_context_.ipynb\">sets</a>.<a class=\"ProveItLink\" href=\"../_context_.ipynb\">integer</a>.<a class=\"ProveItLink\" href=\"../_theorems_.ipynb#intervalUpperBound\">intervalUpperBound</a> theorem\n",
    "========"
   ]
  },
  {
   "cell_type": "code",
   "execution_count": 1,
   "metadata": {},
   "outputs": [],
   "source": [
    "import proveit\n",
    "context = proveit.Context('..') # the theorem's context is in the parent directory"
   ]
  },
  {
   "cell_type": "code",
   "execution_count": 2,
   "metadata": {},
   "outputs": [
    {
     "name": "stdout",
     "output_type": "stream",
     "text": [
      "Beginning proof of intervalUpperBound\n",
      "Recorded 'presuming' information\n",
      "Presuming previous theorems (applied transitively).\n"
     ]
    },
    {
     "data": {
      "text/html": [
       "<strong id=\"intervalUpperBound\">intervalUpperBound:</strong> <a class=\"ProveItLink\" href=\"../__pv_it/02fb5ec305c3dc7846fd22eef0b432f3bae5a6220/expr.ipynb\"><img src=\"data:image/png;base64,iVBORw0KGgoAAAANSUhEUgAAAQEAAAAZBAMAAADDMIaMAAAAMFBMVEX///8QEBCIiIhmZma6urrM\n",
       "zMxUVFQiIiJERETc3Nzu7u6qqqp2dnaYmJgyMjIAAAAcRTyBAAAAAXRSTlMAQObYZgAAA+JJREFU\n",
       "SMfll11IFFEUx89+zH7M7rg99NAmwqKgYQSLQhYhLQT5YOnWg/aguEUahci+lCURpkGjViw+mBjl\n",
       "qA/SBrkUPghhgxLS+sGAfah9sC8lFISIQfoQnXtnZ3dmd7UR7KkLy8zcOXPnd8753zNnAbYzLjSH\n",
       "YEdHWbO4vQeCsNPDHvgPCB5ufmtMJoiR80+6CbLIgZN0A7CtmadvojOWECWYJhPfdBM4I3jIEnQT\n",
       "ZKVJt8BP572IEaMEvSQUrboJqGmv/iTMpzo/5aFHF/FkghIQf6hjOnVAwjWtn+BaivBK4gmsJGEc\n",
       "oARcNBy+vw0lfgyHH+sXpF1ram9SfJ2iqfDRvfCL569vg8DF87f1VxEjpvvExe48OfTMPZ9y42vu\n",
       "EYy9lxLUA3RkeLYilpnA4gebVl01mp1h/gFwOpFVG94TeQ+7Tq94f0IOv4WREHAxSnCMajIxLHsm\n",
       "2xGc8Mnj7J1DxSoCsxeeaiO7V0s5ib9G5cIaASZyA+w/5W1QqMw7NsDlAUeQEljBqDjBviiWrCHn\n",
       "IFFJFvHjyWQpailaqK5IQTgAKntwpATrO/7GlQuDD1h2DbgV+fJ9ND5visGICMwKJXBKVsV+YSwM\n",
       "DqilZcyFoea6+gSIMIuSmmA2WRmJfRrBegoBOFbAotiMH46XCS9URhQCe6wKp4byv5AAk+GlQqvL\n",
       "vYQJorxOTVV+xOBD829zvXF7QsAWNSkpZlbzhSQBZoH465KUGlZRL5cDCY4KYJazAB3ncYnLzIZc\n",
       "cYF7QBcrEPLkig2LoxoCWw/69SYH3HF7QjDsr1NeYWxB/Y+rlWgQ4aWQ2D5nblECH5sDihLhOa5r\n",
       "8jJBGKImg7LLbfCZpT6yHlFD4CjBuA0GYSNub8HbxVCdeKcH1x1QdgvRc78P5rjELoAecmqRbHjH\n",
       "JMoEKEowRIwBqOZ53gNiFPpwdjccZK7yfBs4nYJdUH8bV8kKHvMu2Z5px8tsyE9m3hQARqkwGGco\n",
       "w7d+SC3ORbNEDX6ZgMP1R0K2JcFCnxmV4DUeN3BZ+u0urwVnSE2wRN7jN4l+ixID3O53w3ETl2CI\n",
       "JGOQWpW1Y1jVHxhCdSfBSeJjMiG4vRNauFZ4RYXpJV6k9Af9YC33U3uqAzezJuEzvYK90yosqPZC\n",
       "2pdJMyZUBOZzz0oBuvDsXcPMcoDJhqoZzCkqmWtonLuSRnAcjLOyPSU4vj9PYtxwKsS4mUZRTaCu\n",
       "n+xyMxnJwhhL65GMRAeywOXDPtTBFj0StXdkKN/jf+tQEnSbdmlj+ru0rQm26tIWt+oTJf0ErDt9\n",
       "rvGfdarNmf4vdKfh1ujtePD/QuAPNDsR9lmh9M4AAAAASUVORK5CYII=\n",
       "\" style=\"display:inline;vertical-align:middle;\" /></a><br>(see <a class=\"ProveItLink\" href=\"../__pv_it/02fb5ec305c3dc7846fd22eef0b432f3bae5a6220/dependencies.ipynb\">dependencies</a>)<br>"
      ],
      "text/plain": [
       "intervalUpperBound: forall_{a in Integers, b in Integers} [forall_{n in {a...b}} (n <= b)]"
      ]
     },
     "execution_count": 2,
     "metadata": {},
     "output_type": "execute_result"
    }
   ],
   "source": [
    "%proving intervalUpperBound presuming []"
   ]
  },
  {
   "cell_type": "code",
   "execution_count": null,
   "metadata": {},
   "outputs": [],
   "source": []
  }
 ],
 "metadata": {
  "kernelspec": {
   "display_name": "Python 3",
   "language": "python",
   "name": "python3"
  }
 },
 "nbformat": 4,
 "nbformat_minor": 0
}
