{
 "cells": [
  {
   "cell_type": "markdown",
   "metadata": {},
   "source": [
    "Proof of <a class=\"ProveItLink\" href=\"../../../../_context_.ipynb\">proveit</a>.<a class=\"ProveItLink\" href=\"../../../_context_.ipynb\">number</a>.<a class=\"ProveItLink\" href=\"../../_context_.ipynb\">sets</a>.<a class=\"ProveItLink\" href=\"../_context_.ipynb\">integer</a>.<a class=\"ProveItLink\" href=\"../_theorems_.ipynb#allInPositiveIntervalArePositive\">allInPositiveIntervalArePositive</a> theorem\n",
    "========"
   ]
  },
  {
   "cell_type": "code",
   "execution_count": 1,
   "metadata": {},
   "outputs": [],
   "source": [
    "import proveit\n",
    "context = proveit.Context('..') # the theorem's context is in the parent directory"
   ]
  },
  {
   "cell_type": "code",
   "execution_count": 2,
   "metadata": {},
   "outputs": [
    {
     "name": "stdout",
     "output_type": "stream",
     "text": [
      "Beginning proof of allInPositiveIntervalArePositive\n",
      "Recorded 'presuming' information\n",
      "Presuming previous theorems (applied transitively).\n"
     ]
    },
    {
     "data": {
      "text/html": [
       "<strong id=\"allInPositiveIntervalArePositive\">allInPositiveIntervalArePositive:</strong> <a class=\"ProveItLink\" href=\"../__pv_it/470480cb3bffd9ada8200a87e816f8ea7fa8bccf0/expr.ipynb\"><img src=\"data:image/png;base64,iVBORw0KGgoAAAANSUhEUgAAATQAAAAZBAMAAABN6s/wAAAAMFBMVEX///8QEBCIiIhmZma6urrM\n",
       "zMxUVFQiIiJERETc3Nzu7u6qqqp2dnaYmJgyMjIAAAAcRTyBAAAAAXRSTlMAQObYZgAABBJJREFU\n",
       "SMftl0toE1EUhv+kmSYzmWldKFh0EVpQ8QGhBRFRUQRdiFJdWEGkUVRUVIrvRxelosQXjButFemo\n",
       "C6WKDUoVQWqxVLBWmY1ixUcQ3yKIKGhV8Nx755mJldAsvYvMI/f888055557BijGKN25G8UdkZ2N\n",
       "xRGKovjj+H+04JDNv/4V1wValh2eDR+tUJ0L+W+rU3qB9QLtHjt8GD5aoTrv89/+iPM6Lgu0Fubc\n",
       "puGjFaijJd1z5ZN7ewTULNQERyszyIuZ4aMVqBPVPReXtthnsRTig1BGcDStr739RBGWQYE6/qnh\n",
       "RkOclKcQ+Qm8Eiv0ezrdWIwVWphOFVXVOycrq+1AbhVsHUlEvgA9Am0NcDCP7aJsbn3OnRG+3e1F\n",
       "C+hI93MFpUnO1VEKf6wZHXZc42/4WVs3JEJ7LtDmQvFSlI7u2cdSVLXzdOWRaTU8DdySVMsPT3HN\n",
       "i5ajAxwz/GWBBEudl9kLLI9m0VbrvPkbNr0tCekXcF2gRRG2q59ys8aM6upZNqmMpfTFnpnYjb6J\n",
       "fjRlHX/DbSg3PGgeHW6HLr+TmWDcgR8JGB2z8cINyjvDDWi9QFNNp5Y/vtGOOFac5glJj9cOtxrI\n",
       "SAOmHw3yAfpT+YZQxoPm0eF2uWhM0IeGW8Bm+ANKyyD+00GTs0vp5Ny414iIGCa51+srN1CM2ChR\n",
       "4aIp1ZspBtI+A9IPRE0PGtfRZi6pgmXXZclagwm6aBRQzAJ+K/5lEGuCNgjMt/bQg6vpidulQZSJ\n",
       "Wad4/McbVWLzwUCnB+18bT0TibwEGUQT3j2U6WhzzJBu2XVZstZggi4aLQOMpRqm+ouHKLn2MsDV\n",
       "BvJMUmrAOf7vWTG7Gc8V7kUl0e1Bq0Gd0Kggr4V8aEyndTwloLDDRkvWGiQIpcK+ovIgfyWMh/6S\n",
       "S948Q56ZYaGV0wNCmXAKdel0OoHuPrTyZJgq7Uqnm6Gqhmw4aGMwTrgkQblWPtuLxnSwCnMg7JYl\n",
       "LVknu6YCdfYSpZBFGiBvyvg3KlyqpCKE1xaaRg/u0GNPjFK+UjpN3KXjIFFw2QUroOo2mvIDR9tZ\n",
       "keoLrFCug1GYIQk75jUua81hgq7XfBtV7lAaPP1aSK9fCJUlWUkJvY58CHu0JvTyVZHkWWl5rUL6\n",
       "Srm/bDov6NcC/Zr8Gds6hR3LNS7bYpBci8EE3Vzzbu/BzijhQYusukKV6DCdPVrb/zYljcHSfqIh\n",
       "d2trNz7Y4aLNm1Rl4jhvqML9yQBaJIXJJrfjaFx2sS5V0A8TdNHy7kD2uBzscsMs10SZEYcJlDNO\n",
       "U+DuQPv/1eVyu648/Wv2X62ki/23BvxG8Fas0AZ8aLQhGnBNHwrNLALamWCmu3toUT9bSoZCy/cd\n",
       "Kk/JvSPdK+A7dMcfMl0o1eo819cAAAAASUVORK5CYII=\n",
       "\" style=\"display:inline;vertical-align:middle;\" /></a><br>(see <a class=\"ProveItLink\" href=\"../__pv_it/470480cb3bffd9ada8200a87e816f8ea7fa8bccf0/dependencies.ipynb\">dependencies</a>)<br>"
      ],
      "text/plain": [
       "allInPositiveIntervalArePositive: forall_{a in Integers, b in Integers | a > 0} [forall_{n in {a...b}} (n > 0)]"
      ]
     },
     "execution_count": 2,
     "metadata": {},
     "output_type": "execute_result"
    }
   ],
   "source": [
    "%proving allInPositiveIntervalArePositive presuming []"
   ]
  },
  {
   "cell_type": "code",
   "execution_count": null,
   "metadata": {},
   "outputs": [],
   "source": []
  }
 ],
 "metadata": {
  "kernelspec": {
   "display_name": "Python 3",
   "language": "python",
   "name": "python3"
  }
 },
 "nbformat": 4,
 "nbformat_minor": 0
}
