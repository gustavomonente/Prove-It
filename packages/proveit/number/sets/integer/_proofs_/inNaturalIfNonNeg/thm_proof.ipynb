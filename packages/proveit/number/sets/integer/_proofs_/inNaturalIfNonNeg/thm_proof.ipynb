{
 "cells": [
  {
   "cell_type": "markdown",
   "metadata": {},
   "source": [
    "Proof of <a class=\"ProveItLink\" href=\"../../../../../_theory_.ipynb\">proveit</a>.<a class=\"ProveItLink\" href=\"../../../../_theory_.ipynb\">number</a>.<a class=\"ProveItLink\" href=\"../../../_theory_.ipynb\">sets</a>.<a class=\"ProveItLink\" href=\"../../_theory_.ipynb\">integer</a>.<a class=\"ProveItLink\" href=\"../../_theorems_.ipynb#inNaturalIfNonNeg\">inNaturalIfNonNeg</a> theorem\n",
    "========"
   ]
  },
  {
   "cell_type": "code",
   "execution_count": null,
   "metadata": {},
   "outputs": [],
   "source": [
    "import proveit\n",
    "from proveit import defaults\n",
    "from proveit._common_ import a, m, n, x, A, B\n",
    "from proveit.core_expr_types._common_ import A_1_to_m\n",
    "from proveit.number import zero, num, Neg, NaturalPos, Integer, Greater, Natural, GreaterEq\n",
    "from proveit.logic import NotInSet, SetOfAll, InSet, Implies, And\n",
    "from proveit.logic.set_theory.unification._theorems_ import membershipUnfolding\n",
    "from proveit.number.sets.natural._axioms_ import naturalsPosDef\n",
    "from proveit.number.sets.integer._axioms_ import integersDef\n",
    "theory = proveit.Theory() # the theorem's theory"
   ]
  },
  {
   "cell_type": "code",
   "execution_count": null,
   "metadata": {},
   "outputs": [],
   "source": [
    "%proving inNaturalIfNonNeg"
   ]
  },
  {
   "cell_type": "code",
   "execution_count": null,
   "metadata": {},
   "outputs": [],
   "source": [
    "defaults.assumptions = inNaturalIfNonNeg.conditions"
   ]
  },
  {
   "cell_type": "code",
   "execution_count": null,
   "metadata": {},
   "outputs": [],
   "source": [
    "integersDef"
   ]
  },
  {
   "cell_type": "code",
   "execution_count": null,
   "metadata": {},
   "outputs": [],
   "source": [
    "intUnion = integersDef.expr.rhs"
   ]
  },
  {
   "cell_type": "code",
   "execution_count": null,
   "metadata": {},
   "outputs": [],
   "source": [
    "intUnion.operands"
   ]
  },
  {
   "cell_type": "code",
   "execution_count": null,
   "metadata": {},
   "outputs": [],
   "source": [
    "membershipUnfolding"
   ]
  },
  {
   "cell_type": "code",
   "execution_count": null,
   "metadata": {},
   "outputs": [],
   "source": [
    "spec1 = membershipUnfolding.instantiate({x:a, m:num(2), A:intUnion.operands}, assumptions = [InSet(m, NaturalPos), *defaults.assumptions])"
   ]
  },
  {
   "cell_type": "code",
   "execution_count": null,
   "metadata": {},
   "outputs": [],
   "source": [
    "aInInt = defaults.assumptions[0]"
   ]
  },
  {
   "cell_type": "code",
   "execution_count": null,
   "metadata": {},
   "outputs": [],
   "source": [
    "aElemUnion = Implies(And(aInInt, integersDef.expr),InSet(a,intUnion))"
   ]
  },
  {
   "cell_type": "code",
   "execution_count": null,
   "metadata": {},
   "outputs": [],
   "source": [
    "newAssumpt = [defaults.assumptions]+ [integersDef.expr]"
   ]
  },
  {
   "cell_type": "code",
   "execution_count": null,
   "metadata": {},
   "outputs": [],
   "source": []
  },
  {
   "cell_type": "code",
   "execution_count": null,
   "metadata": {},
   "outputs": [],
   "source": []
  }
 ],
 "metadata": {
  "kernelspec": {
   "display_name": "Python 3",
   "language": "python",
   "name": "python3"
  }
 },
 "nbformat": 4,
 "nbformat_minor": 0
}
