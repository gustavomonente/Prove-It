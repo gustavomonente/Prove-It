{
 "cells": [
  {
   "cell_type": "markdown",
   "metadata": {},
   "source": [
    "Proof of <a class=\"ProveItLink\" href=\"../../../../_context_.ipynb\">proveit</a>.<a class=\"ProveItLink\" href=\"../../../_context_.ipynb\">number</a>.<a class=\"ProveItLink\" href=\"../../_context_.ipynb\">sets</a>.<a class=\"ProveItLink\" href=\"../_context_.ipynb\">integer</a>.<a class=\"ProveItLink\" href=\"../_theorems_.ipynb#inNaturalsIfNonNeg\">inNaturalsIfNonNeg</a> theorem\n",
    "========"
   ]
  },
  {
   "cell_type": "code",
   "execution_count": 1,
   "metadata": {},
   "outputs": [],
   "source": [
    "import proveit\n",
    "from proveit import defaults\n",
    "from proveit._common_ import a, m, n, x, A, B\n",
    "from proveit.core_expr_types._common_ import A_1_to_m\n",
    "from proveit.number import zero, num, Neg, NaturalsPos, Integers, Greater, Naturals, GreaterEq\n",
    "from proveit.logic import NotInSet, SetOfAll, InSet, Implies, And\n",
    "from proveit.logic.set_theory.unification._theorems_ import membershipUnfolding\n",
    "from proveit.number.sets.integer._axioms_ import naturalsPosDef, integersDef\n",
    "from proveit.number.sets.integer._theorems_ import zeroInNats, successiveNats\n",
    "context = proveit.Context('..') # the theorem's context is in the parent directory"
   ]
  },
  {
   "cell_type": "code",
   "execution_count": 2,
   "metadata": {},
   "outputs": [
    {
     "name": "stdout",
     "output_type": "stream",
     "text": [
      "Beginning proof of inNaturalsIfNonNeg\n",
      "Recorded 'presuming' information\n"
     ]
    },
    {
     "name": "stdout",
     "output_type": "stream",
     "text": [
      "Presuming theorems in proveit.logic, proveit.number.numeral.deci (except any that presume this theorem).\n",
      "Presuming previous theorems (applied transitively).\n"
     ]
    },
    {
     "data": {
      "text/html": [
       "<strong id=\"inNaturalsIfNonNeg\">inNaturalsIfNonNeg:</strong> <a class=\"ProveItLink\" href=\"../__pv_it/f3d8b2590bc871176dc7bc3ad34be597c49677190/expr.ipynb\"><img src=\"data:image/png;base64,iVBORw0KGgoAAAANSUhEUgAAAKcAAAAWBAMAAABXrpEPAAAAMFBMVEX///8QEBCIiIhmZma6urrM\n",
       "zMxUVFQiIiJERETc3Nzu7u6qqqp2dnaYmJgyMjIAAAAcRTyBAAAAAXRSTlMAQObYZgAAAoxJREFU\n",
       "OMutVU1oE1EQ/pLN72Y3ingQRVj8O0gPQUE8KEQEvSjEg6kHJaG0Si5SCpqDCgEDJoqyJxVFWBtQ\n",
       "CWKCIlgQjI0HW0VyEhWEXESsKC14KDk58/YvK7G4wYEls997872Z+eZtgGEs3vn72gw9XXY++yR9\n",
       "MAB7tHzNwMuldEQH3jCw4JP02yDwajgPeREypXmTqyn541RTg9BTmU3AamAWSBqA0vRHGtX73z4U\n",
       "i6KH45cjGUwCd+nU+Xr9hs/qPfuPbbecQlZeYNJkGliuVM77JN3MLduzYz37sqNHIaFlmVSh5kwA\n",
       "1UGR6T+BkRFHEnr26clF9iNOKwp4pWpEqlIz9gu9HIusa18UOrjiHRBxaiuRt4BzlOBGSGJHDC5p\n",
       "xJgg0gQ9UQTtUZaf7+xEdWXa8JLGd2VYnTR6FrAWkHqIauwf+UnWNUnlfJLUD1MFSifq6DhTRwIn\n",
       "7sBLivhuYm1ksMElDZQYgDmSdqY4HrZI490sIbVtXxAyxy/V6iNlnEp4nUZOxwW3/EYLL4Qf6CdV\n",
       "mxQVovJRHaeoM+EekuZk3864pALn33dGzsCUK1SjidMJ7rWk2aSkOOZKplB4QsxSKjyJmlibVuCS\n",
       "Cpws+IMzXWOFt0kfTT2r2Gmb9p33E6HEla6iswLNYB6jlUpFQ2setxxSgdNBV0RPf1nhByn1sa3X\n",
       "t4iXe2WhK0aXKIIHKcmVqgQ29NgnI8JroacdzDmkAsfDsld97zU9dKnYP5O4bzsBPXcYCh8hSWan\n",
       "rUwZr5VFB1LOnA7+oNg2azuhscd7ASoS70++/Zp3SAV+1LpRbSeuugKn5ypxMtxT20o+P9K2xfQV\n",
       "FktD/p18xD+RPqOpqBj4H5YaPvQ3KfStYNRrsO8AAAAASUVORK5CYII=\n",
       "\" style=\"display:inline;vertical-align:middle;\" /></a><br>(see <a class=\"ProveItLink\" href=\"../__pv_it/f3d8b2590bc871176dc7bc3ad34be597c49677190/dependencies.ipynb\">dependencies</a>)<br>"
      ],
      "text/plain": [
       "inNaturalsIfNonNeg: forall_{a in Integers | a >= 0} (a in Naturals)"
      ]
     },
     "execution_count": 2,
     "metadata": {},
     "output_type": "execute_result"
    }
   ],
   "source": [
    "%proving inNaturalsIfNonNeg presuming [proveit.logic, proveit.number.numeral.deci]"
   ]
  },
  {
   "cell_type": "code",
   "execution_count": 3,
   "metadata": {},
   "outputs": [
    {
     "data": {
      "text/html": [
       "<strong id=\"defaults.assumptions\">defaults.assumptions:</strong> <a class=\"ProveItLink\" href=\"../__pv_it/45dafe0349c668c83423502e2c9797e1587c137d0/expr.ipynb\"><img src=\"data:image/png;base64,iVBORw0KGgoAAAANSUhEUgAAAHkAAAAUBAMAAABbvo/+AAAAMFBMVEX///9UVFTMzMx2dna6uroQ\n",
       "EBCqqqqIiIgiIiJmZmYyMjJERETu7u6YmJjc3NwAAAC+aOQFAAAAAXRSTlMAQObYZgAAAfBJREFU\n",
       "OMtjYOC7wEAeyAMRp7HJeMRHLe2Kxa3T/LICA+MDIGMdNtnqSQxcDBtQxU7MgTO5Enj6GHgWMDDw\n",
       "TsCmezIDgxmzA5pglhyMdZWBwQroAAYGjgfICm53dCwA0XMY+AQ0Mcz0EoIyNjIw5B9gOMrA8AJZ\n",
       "WrsGzuQ+sAfTSdpbIPRHBgb/BAYuB4ZKIIdv8vQYkCDPGoTC67ywuIDJgsDDZWB1P4G6CxiYJzDs\n",
       "BfJcH3B9AIkyInzBswEeFzBZMHjZBzLvMwODfgED7wKGNqDKWAZOcPhyI6xmVIAFEVwWDG6AApkP\n",
       "aLe+AQNbA0MIAwPnHwaOApCU6iogAIcagyeLAVQ9XBYEKmyQXM70AaSbdQPDeQWQ6GuE3QuA7mA+\n",
       "AGLBZYG6LArgoZafANINdPl5A4Z8sCArXDNzggmMC5dl4JsBC8jdDAz3DzCwNIBC7XwCgxQbKMA4\n",
       "4S58yCfAwDAVohsmyyeVgJpagKFmCQysAt5GZrBoG0x6D/cBhoO3Gc4vQJI9jUh7HAk8QUDLDBg8\n",
       "gN4RL3pYAhY9uAXsVQaW6KW7t37dycDRgyyLADzmhcCg4FJAS6nOOyApFQZy8GXRE7hyCQwY4JME\n",
       "5hKGfXjkeQqQOKc6QKAJIbkAV+kABbz4rOYGRwS5JdM9BgYAK4qCNG+iuW0AAAAASUVORK5CYII=\n",
       "\" style=\"display:inline;vertical-align:middle;\" /></a><br>"
      ],
      "text/plain": [
       "defaults.assumptions: (a in Integers, a >= 0)"
      ]
     },
     "execution_count": 3,
     "metadata": {},
     "output_type": "execute_result"
    }
   ],
   "source": [
    "defaults.assumptions = inNaturalsIfNonNeg.conditions"
   ]
  },
  {
   "cell_type": "code",
   "execution_count": 4,
   "metadata": {},
   "outputs": [
    {
     "data": {
      "text/html": [
       "<span style=\"font-size:20px;\"> <a class=\"ProveItLink\" href=\"../_axioms_.ipynb#integersDef\" style=\"text-decoration: none\">&#x22A2;&nbsp;</a><a class=\"ProveItLink\" href=\"../__pv_it/afe2cdfcb1396b16f3e15cd3563977d2174c2ab80/expr.ipynb\"><img src=\"data:image/png;base64,iVBORw0KGgoAAAANSUhEUgAAAL8AAAAaBAMAAAAUFZBoAAAAMFBMVEX///9UVFTc3Nzu7u6qqqp2\n",
       "dnbMzMxmZmZERESIiIiYmJgyMjIQEBAiIiK6uroAAABqpg13AAAAAXRSTlMAQObYZgAAAtBJREFU\n",
       "SMe1lk2I00AUgF9+Jk3bbSgIi6wIXQ/irREPKj20CLoIgpUKgqhE6cHDlg3o0q2iBFaw4iU3WfDQ\n",
       "g1ZXRANFUHbRKipF0C0ingQrqHhQFHoTEd8k9ic/E7DFgUwy85L3zfubCQCjSR0Yu0XDhMfH1w9K\n",
       "MkTYCJ6OnfFaWlHZSg6zRREzcFq451/mc7aWBMKVd79WXq7WvKK0KjyqNoCsvXIb8MOv5WxIEHS8\n",
       "LmpgyT7RIQC5hnHI0oHtBIF2pO3XcpQN4HE9kTyQ3DGf6CkA9zZqwgQdWLSLjwCANwhQYVrSfegu\n",
       "Ar6ok5CgI1trYhTAgt0vyr5EiDURsDmZUccEXLWVmbf8SYRe4VJ7pWQIQDmwaamC9yMhgO906TsE\n",
       "wx6QFbvZ7pINCiCdZQ+AswYfE/kSZFMAd0MAcxp2k1zKJ4gnKQDWcSU3YJ82eKeYsCCN47jOBqRx\n",
       "w1H0TwEVotuArbDqApx8TfPVsVRTsx1n9RsDipI4N3wF0w/dUfBa4ACk/Kzbgq9DFsB+gA1/rfUH\n",
       "cWDBQYJdcxAD+3XZcRFck/t1kLFjYLhL+KfgjUFpvhN93AfMpYBPTuOw6VkAVcThaskWOjpPuxlf\n",
       "mj4DsUuGs0jYXa6JRgFO9QGYRbK6CMKU4d1EkBjP9TaaDKKUhhfA/wZi1Yfr4OaubSAuRyBPyufK\n",
       "p+nMbfTq5VZ1reVNBKUL0vtWzzH8/T3F9aqvDtrAT+UcwI36ko7pgk9i8YSZ71uwwMwv9yYqXak4\n",
       "qcyq5Dsv4ImzW4laoT4APGAC5oOnSTMQwO9sQxe2OwBC9B5A6DIBs4wDjXEecKbShFK1WjVFja+1\n",
       "e4AY+8zkcsHzASca9eaEFslrnGMBfMbCk5x61ZgAwQqeF4PP5DQkPmqEqot1IJbvCa+HbFMz//T/\n",
       "8AGieMBfwKdvDwF6juGNkE/EEf6LohgD136hwv9vfwAWGK90UNmFmAAAAABJRU5ErkJggg==\n",
       "\" style=\"display:inline;vertical-align:middle;\" /></a></span>"
      ],
      "text/plain": [
       "|- Integers = (Naturals union {-n}_{n in NaturalsPos})"
      ]
     },
     "execution_count": 4,
     "metadata": {},
     "output_type": "execute_result"
    }
   ],
   "source": [
    "integersDef"
   ]
  },
  {
   "cell_type": "code",
   "execution_count": 5,
   "metadata": {},
   "outputs": [
    {
     "data": {
      "text/html": [
       "<strong id=\"intUnion\">intUnion:</strong> <a class=\"ProveItLink\" href=\"../__pv_it/d367d1d12f7cb517c6b53b9d7bd6e933412e66040/expr.ipynb\"><img src=\"data:image/png;base64,iVBORw0KGgoAAAANSUhEUgAAAIAAAAAXBAMAAAAxc1oDAAAAMFBMVEX///9mZmaqqqrc3NyIiIgi\n",
       "IiJUVFTMzMyYmJi6uroQEBB2dnZEREQyMjLu7u4AAAA1o4RqAAAAAXRSTlMAQObYZgAAAdFJREFU\n",
       "OMtjYMAKGhtQ+ewiDxhIAW83oItwLsep9s/ZBwy7fk1AEezHVCeL07YT7AkMfB+ADLAj+cBiWzGV\n",
       "bcVpQGqBCwPDAiDjAojHS7oBmefYChgCgAwQZmAl3YDkMr57lBnA5FCGxwDObcYuIkB6F24DGHZy\n",
       "OKAZkIuQ5uY5wvDeAGvEwA1ge5COagATUqQXsV5gsC8Ahq4AbgP4EngXIBvAfhRoI99dMCh48H4C\n",
       "xPZUB0y93BADGKrZUQxATXb6EB/xJmCxnBFqAIfCAVg6eAuWyEFNgj/40MOgVHoCyzKoAelAvBlk\n",
       "gCSIp4gRZ6sZmP5xI8cCn7ZgA9OBfQxyUAMugZwCsv0tMKg476EbwPyTgftCO7JQj/I7BqYWRoYN\n",
       "3IKigkIMpb+AtvOBDGC+o16U8wAjHQQwMGcoQIQa210EGDhB0cFUVOywAeoCpEzvKGLAgC8ldq5g\n",
       "WAzJLUwF+9oxDUCAXVgNYH4SwPCP4SHEAG5uATwG4CgP2Bw4FzCUnjlzxoGpgLkhAI8BvJgl0kog\n",
       "wVXAuKGADeIChunAhMWOM30rYi0T7RlYJxVwAyOLgWMCA8cGBpLBNAaWHQwMh4CsqTcZGBIYyAQs\n",
       "wDBA8ABJ4X4TZXVETwAAAABJRU5ErkJggg==\n",
       "\" style=\"display:inline;vertical-align:middle;\" /></a><br>"
      ],
      "text/plain": [
       "intUnion: Naturals union {-n}_{n in NaturalsPos}"
      ]
     },
     "execution_count": 5,
     "metadata": {},
     "output_type": "execute_result"
    }
   ],
   "source": [
    "intUnion = integersDef.expr.rhs"
   ]
  },
  {
   "cell_type": "code",
   "execution_count": 6,
   "metadata": {},
   "outputs": [
    {
     "data": {
      "text/html": [
       "<a class=\"ProveItLink\" href=\"../__pv_it/dd7480a5b6b8bb3a3531bd81a50e562f0e1c2a9a0/expr.ipynb\"><img src=\"data:image/png;base64,iVBORw0KGgoAAAANSUhEUgAAAIQAAAAaBAMAAACEBumnAAAAMFBMVEX///8iIiJERESYmJiqqqoQ\n",
       "EBB2dnbc3NyIiIhmZmbu7u4yMjJUVFS6urrMzMwAAADZVrDbAAAAAXRSTlMAQObYZgAAAj5JREFU\n",
       "OMutlEFo02AUx/9tmnTN0m/Ti9bhHMGDBw85TPGgUBTBi7F4V3Mtogy9jCFrFCbMU6EgTi8f6EGY\n",
       "MC8K6tAgguJBqlBBEJyCMkGht8Gkw/flW7IsTWTrfNCX9PG93/e+9/75APzGFswVjnlbQXwWrp/H\n",
       "okojFvh5Ix2hWeRuxYL64651rYV0xi4gvwz9hfkU2rkzq0W0u5YVHqYjpqmSOpC1fgFzQWmD3dUO\n",
       "piNqgFoGjOE+F2pviEwZNeqm8YG/Q6Y3RGEEB+hhTHqzvEdEXwV3BGLsBPOSEB9fj0+TeLRKOqK4\n",
       "DNNHaM1DAcKItN8xXX0pcUihsRXM+wi8Nb6uxo6viYCVh5BfoZcn6Yh8ByWJeIBHMvRtB7nZZ8Ke\n",
       "63pHVmDsTEh2pBI7/gaEYM73BCnm2vJc80n714Mq9ksERrNBL0bWyXLA4rFesNIFTHkBgi3hpcii\n",
       "jbVLCRNRHZziTnQi96oNHNV4gQcImsiU+FhJoTRd/U8cUWvivLIQCSl7JziOuXUN1ZnSjEhTKvjC\n",
       "wfacFi0EtvEY4j1wZVSGlMYifVGfRNS2x7WwF6ROtRnpHk9Xp9Ky1DH4mrG1uz9CRL+LghNZ6rtK\n",
       "ImLiKga47qfZcKohYo5OEcm4/6/74g1aYNtNcx8hLmdCxGH6vVpbavk+4dYShz2LmwyerKK4SA+p\n",
       "n2HZxvWWS7w7823stnFR/D8CHAxHJPqQq2/oqi56uG4hS3MsDjVhBGGpppObufSvUS+idhv/w/4C\n",
       "y/SL3SMouGwAAAAASUVORK5CYII=\n",
       "\" style=\"display:inline;vertical-align:middle;\" /></a>"
      ],
      "text/plain": [
       "(Naturals, {-n}_{n in NaturalsPos})"
      ]
     },
     "execution_count": 6,
     "metadata": {},
     "output_type": "execute_result"
    }
   ],
   "source": [
    "intUnion.operands"
   ]
  },
  {
   "cell_type": "code",
   "execution_count": 7,
   "metadata": {},
   "outputs": [
    {
     "data": {
      "text/html": [
       "<span style=\"font-size:20px;\"> <a class=\"ProveItLink\" href=\"../../../../logic/set_theory/unification/_proofs_/membershipUnfolding.ipynb\" style=\"text-decoration: none\">&#x22A2;&nbsp;</a><a class=\"ProveItLink\" href=\"../../../../logic/set_theory/unification/__pv_it/84e5a3c5310e922cbc504d77b1b9b1d41a6b499f0/expr.ipynb\"><img src=\"data:image/png;base64,iVBORw0KGgoAAAANSUhEUgAAAkQAAAAZBAMAAAAiQSxpAAAAMFBMVEX///8QEBCIiIhmZma6urrM\n",
       "zMxUVFQiIiJERETc3Nzu7u6qqqp2dnaYmJgyMjIAAAAcRTyBAAAAAXRSTlMAQObYZgAABkFJREFU\n",
       "WMPlWWtoHFUUPpmdSXZndrb9UQtalCGVKFXJQqqFPuiq+ERx0x9ppbVdqkVaRFcLDU2q7A8fG0V2\n",
       "f0gaKpqxlaTUUhcjaqXiGhFkFRyaFis+ulD90YJ2sa19SFvvc/fOzJ3sJBho6YEzeydz7jd3vnvO\n",
       "uefeAISR1t6tcG2K2rstnGEbXLsyeHVQ9A7TSWV/WLSY09zGKFLFFFXxz6/NKQplN0Oi56jKZS3P\n",
       "BsWQcLuDHmjVRnsjU0TRd/jnRHOKQtnNkCSKVOVykhNJPlAj7bTPKt14eDzwPbVGex9TRNEQ9rxc\n",
       "c4pC2c2QTDCVinnSZq1x4kuYC9PymW3Al4OkQzII6rcLjXbcooooSqAXxEvNKQplN0OylWlDjvT2\n",
       "8qD4YDn3r/eIo2TweG0fRg++9JGPKQYg6WPnheCeTRVRZFb27NkeIl2HspsZiWWpNmTVgkbb6Uzx\n",
       "OEnxMLpXHqwq8Z/tQUimclp48jtTtKKdy+e3haAolN3MiJKkqrdvvIcEky7kRNX+ki9QccLAGNIB\n",
       "yRKFHkaJ/8xHurPjrdstDxI8bFwU7r5mOkiCdEA6sribokC7KTnEFGzrKTfqUN0LP1ovedeu92Ed\n",
       "TzxmlY1Vk+VM5IarSONNxEzZfKGt6kHSU9rfYmJiOoidUq9KhxhxU+S1k/MVdQV6yvu47LcJBPi4\n",
       "/vYS1Qr8YD9EbFyvGE4yUgwSjIoFrSkJcDvAU6TRj2bfjl9Qix4kFWKnhNtPmQ7iz1c8pdTKpSll\n",
       "ro8ij515WvqFR12j884mnbSjqUkoajyMcLJaUlRtyNM/dP+FhM6X9mTXcznQujA7Glmz9SxdrL0y\n",
       "yqd4DrKBaM6LBD1dd50T7NcxRRTFHbF21g90OUauAot9FLntYNdFaZG33AmgCAPDGtEmInoqvxEA\n",
       "9IyHIgAWCEPi1EML+kS1QREsoTWcLyhKbEGegy+zLC8Sdvmb5BTFqj3iGrh/DxgHI1COdy3qWiJS\n",
       "5LaDymZp/hpNBlCEgWlxwm2ioqPzGxHguCfQQDvDOGvA4kezGUUqXfXehaw0DVbZFPcTAtJeJAPp\n",
       "84L9A0zxHm0Ahai5bMV8pSNNl0Vj9eNW2edFxA7G7+ygdaqVl41jRTTnpwj3oettVrSRUiQC3OFJ\n",
       "158rNSBrdKReGcZKtCYm7NB0DdEnLGkIv3IQeLo27E5QbBcSvE0L9YnD7cn2De50DWMI3rzbadmk\n",
       "ZCBB+ExXDksownaK/WwbcflWWIQuvgotE8n6KCJ9ErzAYTabAigSAT4RFnOk6r/RGtuB9nMTXONE\n",
       "zzOKImWanp4mw9Iv8cuHlLqevvpq/lipwLbF/WLxBYUiHLoR5todqL2U6SALyx23wKwUesUuSlEc\n",
       "j8pLEbbT4E/6l5+hE7SvvBSZJaXmo4j0IcBqjtusuUFOkQvgQZ5vskT19Qvms330yMv0zbsvnwCj\n",
       "cDZJKUqwMuEY/dnCL200qSWS9Qgaad+5zHEh6YVLNnx2eXNsZxZOE2r+YIopMrHReujG8b4yn89b\n",
       "RjrmZP0UETugNbp+7PuC7a/z9y399oIkF6E+BFjN1G365BS5ANYGb0Aeea3XVYEQikbZzY6AmoyN\n",
       "1r0B8SK1Wtps7FtoYSTaOC+6Dm6FYQ3FD/EiuM/i22LPeZFWI3+O2DCc9lO0GGJnYOKLidXfiBTh\n",
       "PgSYVC/EBlPUClTpyKi6AO4PtY1tUDQeriQN3saSBJ5WcrFaWtzGMoZryI+OxCFO9skpMMvyI7Xh\n",
       "eDUOQzY8iuLOwRTFXke3/KIi570IH1VbSgcEikgfAoxnhdpgilSUj5bx3vTGDfCLWE5OWm+SqjGg\n",
       "AvbLpJuEYeRHZq4sHoawWcigJXawAvAGDla0e8vIKRo5NF6B7lL0HMQKL2KKtHnQXdSux5d5UMjB\n",
       "0FmnNT0KCwWKSB8CjImhNmTP3fNqPsV70xs3wMJwR2p4hhf9YzUhMcyRGhDXTRRjz9iExwHpwayC\n",
       "UkbTg1l+JoIDzXAVFtR4DLIlb11EgG+r3/ZNummmANWpHcz+9H8ezJpFqtM8uzbYdGmdS8QTY94a\n",
       "gZthfVG6Aaln5xWnJjl6YgCGA1eCTIsiU7xxJK3APZo6la/eBVcVRdP8P1py2v+lQLLgSiBI7d3y\n",
       "H92z4BxGI7FCAAAAAElFTkSuQmCC\n",
       "\" style=\"display:inline;vertical-align:middle;\" /></a></span>"
      ],
      "text/plain": [
       "|- forall_{m in NaturalsPos} [forall_{x, A_{1}, ..A_{_a}.., A_{m} | x in (A_{1} union ..A_{_a}.. union A_{m})} ((x in A_{1}) or ..(x in A_{i}).. or (x in A_{m}))]"
      ]
     },
     "execution_count": 7,
     "metadata": {},
     "output_type": "execute_result"
    }
   ],
   "source": [
    "membershipUnfolding"
   ]
  },
  {
   "cell_type": "code",
   "execution_count": 8,
   "metadata": {},
   "outputs": [
    {
     "data": {
      "text/html": [
       "<strong id=\"spec1\">spec1:</strong> <span style=\"font-size:20px;\"><a class=\"ProveItLink\" href=\"../__pv_it/333fba80986c235850c6ca1c22b443c26c93457c0/expr.ipynb\"><img src=\"data:image/png;base64,iVBORw0KGgoAAAANSUhEUgAAAEUAAAAVBAMAAADiLT7tAAAAMFBMVEX///+IiIi6urrc3NxERETM\n",
       "zMwQEBCqqqpUVFQiIiJ2dnYyMjLu7u5mZmaYmJgAAABN0h6tAAAAAXRSTlMAQObYZgAAATNJREFU\n",
       "KM9jYGDgu8eAE7BePACieHYx4AFMqSCS7wNWuWnfdmdue8DAcBvE45qATQ2jbwDDBhYgYyVuNbwL\n",
       "GLgKFmFXw+c5czZYzQEGC9YLWNWwOh6As31YDqCoYb51MQfEOY1QwifwDkQtAxEcG4CEmgE32HvN\n",
       "CCOP8DiAqPcgoiwAGEZ5DLxgEQeEmlYOAxDFDXRUyGSQC/8wcAqAnJO9GwggAXRBC6K2EyihBjSH\n",
       "zYHhfADIWQhzuEFmrgHSDSD3ANnnFzDUg2US4GqWcymAue9h/jpfwNDNDrL+IkwJc4MF0AkJUH+B\n",
       "1LAI8M3gAnE4C6BqWA74MPD0OSCFD0+jqIUQOBG06EDUqHmnuOSnXMAaF0xLIHEBBxA1CfjSD0QN\n",
       "9vQDB+D0w4A/HSaBKXZC6RkAeZ9NkUSFRBgAAAAASUVORK5CYII=\n",
       "\" style=\"display:inline;vertical-align:middle;\" /></a> <a class=\"ProveItLink\" href=\"../__pv_it/006cf1c058aff118b28a02301ab9f646a8ada8fd0/proof.ipynb\" style=\"text-decoration: none\">&#x22A2;&nbsp;</a><a class=\"ProveItLink\" href=\"../__pv_it/63b503b8c6c70e9eea16256621aefde4b4ff77530/expr.ipynb\"><img src=\"data:image/png;base64,iVBORw0KGgoAAAANSUhEUgAAAOsAAAAaBAMAAACk6rZaAAAAMFBMVEX///9UVFTMzMx2dna6uroQ\n",
       "EBCqqqqIiIgiIiJmZmYyMjJERETu7u6YmJjc3NwAAAC+aOQFAAAAAXRSTlMAQObYZgAAA09JREFU\n",
       "SMfFVk9o01Ac/tJ0aZsmpQzBMXFkyMZAdBWcU5hSFWWerDo8OSl42mUGUYbgoV5kx8Jgc85DD6I4\n",
       "hvQgOpyTehB1Ci1TkTHQehMVu4M7WcH3J8na7GUzTvAHyUt+78v78vv7HuBPAklsVEJ/8U3rhlkR\n",
       "jPv/ZkqsXii5nDJW8F5jP73FSt6AQbciYgpxc4lVJp30XjVMf+mVaJmfjwroWk5KZddERWzEx9Wq\n",
       "G2sEN0tu90Qzs4E4tCVoOeYxpjLobZ94ob1/pLIltgToWdFMkzEEpIBu+iJRRp259/S/oMU14ug6\n",
       "Py4ODzMDNz0mXBngGbM2bgckVoUI7Zd2Avhc+779ivXQ0qpNUVqVlSmNwzH6oKeEaL+0l4DL1IiR\n",
       "sTP0VXPKo0UxWymtzEIwQK4nLJFzQnQtR3DX96ExMnatQXu8gFkyHCmrSyyIjsNbsFs3Ca3OnBgm\n",
       "js7Th2heiEbzypJy9CGKZWFyO9Jp0PBq/YjwVbFCKxUaCa2SYRlvQmLeVuNCtFJTpO3hHCokB9Ws\n",
       "N20liT7iuirCLE/bJonkOK0WV0kgA8wuLYM5XuhZETowTazTJpkYhWKSW9ok6CwyH4qMtiGPIqvK\n",
       "rzXWYlvAocUo9rCRmiBA17Wk89znqqjzRhxriZOLCYol0lBLq6eJK4PMyfgCPkbjQjS21LenX5o7\n",
       "th0jydAJh7azTFOqmEazUq7ruI3kOpC3UwrRHXxGygvRddVyCkpVrs1k7dx4Scn34KZDSzKZtLuo\n",
       "qV+V7fbB5bZVLRHe4wNNvBeHUkJ0LW3sB+TcfK1qcfA1lPcRJOTx6+OjVPMO6CW/s/nCp4sM8fQ+\n",
       "X75jmZhFG7Jq8E/vWkGsitD1dZtBbGuaqxbmh7II0pRW2neaCcfaCXdzPDxttTtLXljjN2vsgxDt\n",
       "0aXe9uMsVFZiRs/8Cu0dr63Alm7X+4gY1iWkjT3PoIqXnFamDY/TalW763mIlnMp2uBnv5XMYAod\n",
       "MzMzpmLEShmbVo97bPO2RN3bvJQW4tTVpwsajgYjkjAkbi0OmfbOHTbWOdR8WNd8SwaEZ6kKwkcN\n",
       "me3WSejOr73xf4Qb8AM+iBA5rj0gT723ALttxfL+aRX/5+QQiW1dhyzgf8lv9A/cwKyXG5wAAAAA\n",
       "SUVORK5CYII=\n",
       "\" style=\"display:inline;vertical-align:middle;\" /></a></span><br>"
      ],
      "text/plain": [
       "spec1: {a in Integers} |- (a in Naturals) or (a in {-n}_{n in NaturalsPos})"
      ]
     },
     "execution_count": 8,
     "metadata": {},
     "output_type": "execute_result"
    }
   ],
   "source": [
    "spec1 = membershipUnfolding.specialize({x:a, m:num(2), A:intUnion.operands}, assumptions = [InSet(m, NaturalsPos), *defaults.assumptions])"
   ]
  },
  {
   "cell_type": "code",
   "execution_count": 9,
   "metadata": {},
   "outputs": [
    {
     "data": {
      "text/html": [
       "<strong id=\"aInInt\">aInInt:</strong> <a class=\"ProveItLink\" href=\"../__pv_it/bbca8f210466950ff215355af5f0bb4f6938d66a0/expr.ipynb\"><img src=\"data:image/png;base64,iVBORw0KGgoAAAANSUhEUgAAADIAAAAPBAMAAABU9YHxAAAAMFBMVEX///9UVFSqqqrMzMwiIiJE\n",
       "RESYmJgyMjK6urru7u4QEBCIiIh2dnZmZmbc3NwAAABRgo0vAAAAAXRSTlMAQObYZgAAANNJREFU\n",
       "GNNjYMAAHF6/ypdUJWBKMHDHGjAUsGKRYOA9wMCjcAJZhC3ExR0sM4HhIfMFJAnm6AlwdiQriM13\n",
       "5/ZKEG86QoJtQxqI6nrA/gFEyyG0T+UMAJKcyxh4QTRDAEJGmPEByL6fDCwbQNYsLwcCiIcu9IAo\n",
       "rgCG+QYg6xB62EH6TzLMP8CgD+YvgMsc4mkAcecrMIgzgYy9DZPgE3gItGQBA+sGNkcekACLAlSG\n",
       "dUIkA6dYAAOn9OaHO0ACnKKdEJmu8KWh65ciBwLHUUjoQAEAnkQxLZ74G3AAAAAASUVORK5CYII=\n",
       "\" style=\"display:inline;vertical-align:middle;\" /></a><br>"
      ],
      "text/plain": [
       "aInInt: a in Integers"
      ]
     },
     "execution_count": 9,
     "metadata": {},
     "output_type": "execute_result"
    }
   ],
   "source": [
    "aInInt = defaults.assumptions[0]"
   ]
  },
  {
   "cell_type": "code",
   "execution_count": 10,
   "metadata": {},
   "outputs": [
    {
     "data": {
      "text/html": [
       "<strong id=\"aElemUnion\">aElemUnion:</strong> <a class=\"ProveItLink\" href=\"../__pv_it/1543230d7e31caf677ca8d4aee61e0d4483ae0d70/expr.ipynb\"><img src=\"data:image/png;base64,iVBORw0KGgoAAAANSUhEUgAAAioAAAAaBAMAAABr+2oEAAAAMFBMVEX///8iIiJERESYmJiqqqoQ\n",
       "EBB2dnbc3NyIiIhmZmbu7u4yMjJUVFS6urrMzMwAAADZVrDbAAAAAXRSTlMAQObYZgAABhJJREFU\n",
       "WMPtWV1sFFUUPt1tZ8vs7FCMRmojlA0mUHlYFRASTTYag0SttZL4QLAbJZFKMBt4QWjsalIVn1aJ\n",
       "hJ+oI8rTkkBMCtI2MKkkEB9IMSkRNXE1opD40weRhITGc+7P7PzcC7vj8uYl+233zp37fXPuOeee\n",
       "uQDAH9Bgs6d0VxqeStFK+GkHCfXTN4ubg+02eu/vWnO5TVD2A34yroS66ZvGzSHtNHrvmO6Cbqrk\n",
       "7lDHlff0sxs5hJdBQr30zeNmsJd+btOPXBPumFPSDd2r7jaPRbqmq3rCe/DT4kiAOumbx02Quk73\n",
       "ditGnB9YP9r1PFjFUP+wA5m7ro4/N5oLXcCpzFPZMTAGNgSXayb6aEf1ynZRTilLiLRhpa2ayE1g\n",
       "EHW6qBjx1seQhm4w5SRyzCDqXVqFo4mI/+FUiRyG/REyNOtiT2B0RF21Q69smB5yRkKkDap938/N\n",
       "ac2Y3ARtefxerRqxB2Cjgfl+k/h9QnyvQ3MXwMhvCd9AU1kL2kvQRoZmXUdjKGshRXeChHBbp7wp\n",
       "wM1p03G5EZhD3h1wukXzuuh7P6TcK/h9SCT5RY70VZjjwJBdVvm29Y1zDlpoatbVEUPZHArnD0AC\n",
       "b4liLVQUWoPcnLYlLjfCCmLyj7OXeIGbcHrI5rw+sL7laS7Zx756EpH4pqmsN9yK89+s0k4EIyBB\n",
       "qJKZT9CHtQa441uFcSMckGnt9cERRlGpPe2qZE6ELPVzLpGskqWHIlPSVFbxSdu9iVUunNm+C61r\n",
       "9OmVZcgbfnQkiLbanyujWgPcGqvUy42QJZ/Ah8+8AKfYhTO1Xa37IDMAT7cb8R9zILZqB8W2tXmc\n",
       "Gk85WabMmFoVsorlS/qFbMm8ptwaag4wi/BXVQK8P4/aQhGwRK/QGuD2WSUON8KEyDGHciKMa5u0\n",
       "VWWsrR3iAXfycokVkees6LY1wZTB19ZPQas8USsQ7HwXpGZ9qVu1yd6gPDElQban8h69QmuA22eV\n",
       "ONwInZTAkf0TB+aze9fT4rMhFzMF1jPDQwatxMho0TLlC9EpO7mywzAasMrPlMsrzKdOmuYNvlbW\n",
       "fIWmAndRUnZkSoLnuaNTkl6hNcBds0osboQTwir9YM4ya9XsTxWJ4QirYKHJXzXSrMChZXo1NPEJ\n",
       "rswuXAr6ir+YbJ3hTj2hWqnyzXxl6BWQ9AqtAW6fr8ThRljGI8j8h26i5uUiVpHg9p9hHGvxc5wF\n",
       "NtmGFTJ9Xl7hPMu4MliekNUCrwCt7kBhOTfnhGLb7twCI65UZl+jlFKUAAcYxfhxkVdcldYgN69X\n",
       "KnG5ESZ5tjX/RjuuCbxQDKVw8Icy2x4XlmE8KXcIScK5fJLlIjTnVpJA69xaDu8DbQV41in494HP\n",
       "B3fDY4aDJZBQpt6DvpfJrlulNcgNH8l1jMWNMCL23iXwgFvwyjtZkRx+kBWyol5gr2u0pVMhY34V\n",
       "fnmiqdJ5sU2aJ+lRIhU/BsXmZNXXlVy8w4HHS2UDBvd17svLimSFLEJkVhnzVRRRrUFuqKB9MmNx\n",
       "uRFoPShGDr/721kWxubkd9xs/aPZ+64uRTIKTYuutZeEOafv788O9IeLW5zKXtgvfXfn4j+f7omU\n",
       "TefRB5fzruTuy/gedpF6e3u3G15sK2tbq+qrKCJaw9ypL3p/mXTiciNQpg1W/JmXRBUt2qesk/3J\n",
       "pG3QbWttwUOyy/ve0RaTTNl0rq3IU0Cv8dmvnrI02f5LkCC2TO+vDUqtIW57195ibG4EFh+rb3bI\n",
       "tCn61qh5iShoznL6lMp2vAlzHZOp6YXCoKfsCC6yyc43rmteWm8vN4Hd53/3Up3bhI8jLmkLQ00p\n",
       "rTvjOAvTYN+RzS5BZdtaPGWP0C2uhEi7dLu5GZzWnTqF31a9EM/rhp7W9CvOw8jhX4Q9Nrh8vTKX\n",
       "ZYDCAkqjVQmRpqFvHjeDyi1OKB++pfN4raLpb1WenaZm4N5eeI1+Pwqw0ltdigX2a2V9vttsbgat\n",
       "5UZPs9fqLjQ2VcaFt3OQwKXPdE2BJbu3yqI11d0IfdO4OcAzjVqlVfv/QQ1PRQehGNv+th/YqZaA\n",
       "+umbxc3h/xZt/wL1xSHrEI+neAAAAABJRU5ErkJggg==\n",
       "\" style=\"display:inline;vertical-align:middle;\" /></a><br>"
      ],
      "text/plain": [
       "aElemUnion: ((a in Integers) and (Integers = (Naturals union {-n}_{n in NaturalsPos}))) => (a in (Naturals union {-n}_{n in NaturalsPos}))"
      ]
     },
     "execution_count": 10,
     "metadata": {},
     "output_type": "execute_result"
    }
   ],
   "source": [
    "aElemUnion = Implies(And(aInInt, integersDef.expr),InSet(a,intUnion))"
   ]
  },
  {
   "cell_type": "code",
   "execution_count": 11,
   "metadata": {},
   "outputs": [
    {
     "data": {
      "text/html": [
       "<strong id=\"newAssumpt\">newAssumpt:</strong> <a class=\"ProveItLink\" href=\"../__pv_it/713c2653a6bf72ebd5ea97408194614b9f964a180/expr.ipynb\"><img src=\"data:image/png;base64,iVBORw0KGgoAAAANSUhEUgAAAVgAAAAaBAMAAAAApVmgAAAAMFBMVEX///8iIiJERESYmJiqqqoQ\n",
       "EBB2dnbc3NyIiIhmZmbu7u4yMjJUVFS6urrMzMwAAADZVrDbAAAAAXRSTlMAQObYZgAABO1JREFU\n",
       "WMPVWF1oHFUUPvs3k96dmbaCtDEa18VCWitsta0tKA6KaBU361YQLDaj+JBtqSztS1uCmRYiRlRW\n",
       "gyFNUafVPm1gQzFC09IuUUiwELZCClWha7HagtI82BaDKd6fmTv/G0zcB+/Dmb13ztz57jnf+e6d\n",
       "BYA/oJlNqS19Dp0bpdpUsL//B3P8xE3SaCrY8eDh2IBn4Pp74XMIGcsMke6+RUJ5diGHZXrgMPra\n",
       "NzRTD5/lHtOIc+TZVIDHha4dY23bw2fo3lwHqWj15Ltvnn5pLON16jXQufQ4CF2vuQM761/WaPir\n",
       "+k0jlAgVigEehz+DJHhWcWyY/0yqaBUg/oaWtXUYjfomKQBEM5i3FdKhhEM0sSv8uV4RDrbXNAkV\n",
       "X7cGeQwCvCl4a/mFSevXJoDdOLw8MBoI6h7fJC8DSO0tOiRIh64suQiwEZWZXrLcVa4UPbCyjVyH\n",
       "Qaxe9z3347T5Yz1ApwEnOFgDepSS15uQTPremIYI6VE4kUWAXZZiZhOZ0umndHB5iBrr/A9eeZhd\n",
       "/wa4rELSEfp1UZ+wxHIY7NvVsrE0sC05Zo6SC4nIgUIffVfZfuOWmFUw4uDQq9Zoz1eUen9hsDqj\n",
       "vAlMfzSwaqTic0q1AdiLk/v7sWYIuXCw8hwzaRJBjEl+Bc7RG5O2vqSOc10pJu36PUBYI94CuKFD\n",
       "zK7h46amCKdpo6uIpghYobbFA1ZylL6W1tHtQIGws32HmTMmf09k4GN6w65/qW4BR9sZbVjbQHCI\n",
       "OLI3NIjbIZqW/JqSrBKw8J30sxvsM7aoKmobiATMqXCw4jwzrfiSwMT73IDV9NkdJCzU5ZKsWdmc\n",
       "gwhX90O7HDRQeDzk0sWAMi5RsCMw5gJ7heSmTBNwFqF5FlVpdQBMhgDNM3PKBJsHdIcuwo4gkU2B\n",
       "MjiRgooZC/S6zgusU3WApZq8yxtZBlbRrroj69yu4rOMFWeCYlpyRXY9owG6RR4ijfOcyibVR6ho\n",
       "0Gkm5COr5jDZnzRA5jSgmpyzOUvPR1FGA9gY5TpbpgxLuYpwecbwcFZp3QN9VQuscpuZCVZg6E+8\n",
       "PLrTD/GqF7HzJwysCufjhJHiedW9KfACE6s9+L3eiiagJBxFYS/pfUrMNq8aJHAkDM2pBl8WBuAp\n",
       "wcDSbYK11KAP2JbbARuqGt8tLNkceQQqGE5Uj90r0IqvOXYVtJNuXMBcsCajb1IBApkkEx6lQcWw\n",
       "5XEv2N4a7I7VHUOxBw8a8LReEqBwpPWIaso1MZcxfJLLkXd/m6JI0MQPbDX5sfSam2shgk87aOrD\n",
       "ng+8B6fu9/G7k4R8xGXmoXy6K1/yC6Ryf95Kvngy+8uE4QV7ASdxIxuKDVzDx5VLZDSb3S9wzlo7\n",
       "GCku93Yrv8G2W6s93+gIeGwBF/dhS+kfKkKDHSw2k0kUGbWzwhe/crBJnRmax62N8GiNbnYv4DIY\n",
       "cpzOBYI9eAiWG4gCzIJW4GArBjMKeSxaDIeDnMfn8krS2u2boz4Xd7sa8qEQcp6dghlQ7kqnOzDY\n",
       "fREO9nHLfBt2+LbmbRRYtsoGLpIaPB7wpUD4uBMGFaiyyMrX8IXpcbtlykv5rHlsIQcUcv6PB36D\n",
       "ibNwXxbeIv0nADbzeGmWiZea+sG47d84y1V4JwNRnA25rQaSNbyXG3ixqWDji/jf4DDmrLMNc/M/\n",
       "av8A7LpJLJ9eSzAAAAAASUVORK5CYII=\n",
       "\" style=\"display:inline;vertical-align:middle;\" /></a><br>"
      ],
      "text/plain": [
       "newAssumpt: ((a in Integers, a >= 0), Integers = (Naturals union {-n}_{n in NaturalsPos}))"
      ]
     },
     "execution_count": 11,
     "metadata": {},
     "output_type": "execute_result"
    }
   ],
   "source": [
    "newAssumpt = [defaults.assumptions]+ [integersDef.expr]"
   ]
  },
  {
   "cell_type": "code",
   "execution_count": null,
   "metadata": {},
   "outputs": [],
   "source": []
  },
  {
   "cell_type": "code",
   "execution_count": null,
   "metadata": {},
   "outputs": [],
   "source": []
  }
 ],
 "metadata": {
  "kernelspec": {
   "display_name": "Python 3",
   "language": "python",
   "name": "python3"
  }
 },
 "nbformat": 4,
 "nbformat_minor": 0
}
