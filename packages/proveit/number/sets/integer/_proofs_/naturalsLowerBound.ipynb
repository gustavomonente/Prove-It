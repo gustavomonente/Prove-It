{
 "cells": [
  {
   "cell_type": "markdown",
   "metadata": {},
   "source": [
    "Proof of <a class=\"ProveItLink\" href=\"../../../../_context_.ipynb\">proveit</a>.<a class=\"ProveItLink\" href=\"../../../_context_.ipynb\">number</a>.<a class=\"ProveItLink\" href=\"../../_context_.ipynb\">sets</a>.<a class=\"ProveItLink\" href=\"../_context_.ipynb\">integer</a>.<a class=\"ProveItLink\" href=\"../_theorems_.ipynb#naturalsLowerBound\">naturalsLowerBound</a> theorem\n",
    "========"
   ]
  },
  {
   "cell_type": "code",
   "execution_count": 1,
   "metadata": {},
   "outputs": [],
   "source": [
    "import proveit\n",
    "context = proveit.Context('..') # the theorem's context is in the parent directory"
   ]
  },
  {
   "cell_type": "code",
   "execution_count": 2,
   "metadata": {},
   "outputs": [
    {
     "name": "stdout",
     "output_type": "stream",
     "text": [
      "Beginning proof of naturalsLowerBound\n",
      "Recorded 'presuming' information\n",
      "Presuming previous theorems (applied transitively).\n"
     ]
    },
    {
     "data": {
      "text/html": [
       "<strong id=\"naturalsLowerBound\">naturalsLowerBound:</strong> <a class=\"ProveItLink\" href=\"../__pv_it/ebf2da1fade79b19c26ce5ad947909c2092e8e680/expr.ipynb\"><img src=\"data:image/png;base64,iVBORw0KGgoAAAANSUhEUgAAAHcAAAAUBAMAAABFd79NAAAAMFBMVEX///8QEBCIiIhmZma6urrM\n",
       "zMxUVFQiIiJERETc3Nzu7u6qqqp2dnaYmJgyMjIAAAAcRTyBAAAAAXRSTlMAQObYZgAAAghJREFU\n",
       "OMuVVE1I3FAQ/lY3u+aZ7J72HhHUQw97K5QKEQ9eiooH8SC4lHrwIoItrVBERCTiZVHQIojxpChK\n",
       "QBb0oAa1FBQkRUFKLd1ze1moFgUPzkv2ZX/ciA6EzE++mW/mzQvwqCwGh3boyXLlV8AHbKyy/+Cy\n",
       "E5E0cMKNPwHgWLqgr7wquC02AkZlv5AhBxTAWbGxNyC078AplacsJqBYAeCREqu9P69MAvsmlgH1\n",
       "eG1tPgArD5XaPRPe+z/QYSGmAzeG8TkAXJUE3gzM1GvCMffXHeM/AmtQKEpcpgLANQ5gGxq79T2z\n",
       "vBH5DujToNLEWt25+SINH6Eu5elRC5I1Cvnaj14kOZgq99mopaaiqHJEbP2wGduKWW16ZkgHY1dQ\n",
       "cyLeeFxEWyK34kRFTJ1eMLGrJRX4YNTmEMkzY980f2D7lguWs90Ea+6q5x2QZDIzAky0UZ1F3HGZ\n",
       "yC8FQwP4bSLMz2LqHYFbnFDaW9WMstFbNLCQTWdqc+ygVbokfGDYogwLjYibLOmCYR/mP+KHsaTj\n",
       "VO0kY1X3xxa1WII48ZRx3slbtED6ZBjjBF4UQ+DE2uh0f5bfl4MGShfjKVXeUQKvJaS8yuGuyutZ\n",
       "Jiv+IubwPoOvXD0HLitejAf3UijhFF44qKGRhEd1RPwVK7qSmx+5fChwz5Yla6Ken/IzKE/87N/Q\n",
       "D+AedmGII95pMHkAAAAASUVORK5CYII=\n",
       "\" style=\"display:inline;vertical-align:middle;\" /></a><br>(see <a class=\"ProveItLink\" href=\"../__pv_it/ebf2da1fade79b19c26ce5ad947909c2092e8e680/dependencies.ipynb\">dependencies</a>)<br>"
      ],
      "text/plain": [
       "naturalsLowerBound: forall_{n in Naturals} (n >= 0)"
      ]
     },
     "execution_count": 2,
     "metadata": {},
     "output_type": "execute_result"
    }
   ],
   "source": [
    "%proving naturalsLowerBound presuming []"
   ]
  },
  {
   "cell_type": "code",
   "execution_count": null,
   "metadata": {},
   "outputs": [],
   "source": []
  }
 ],
 "metadata": {
  "kernelspec": {
   "display_name": "Python 3",
   "language": "python",
   "name": "python3"
  }
 },
 "nbformat": 4,
 "nbformat_minor": 0
}
