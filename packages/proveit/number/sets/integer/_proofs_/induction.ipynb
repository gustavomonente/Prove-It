{
 "cells": [
  {
   "cell_type": "markdown",
   "metadata": {},
   "source": [
    "Proof of <a class=\"ProveItLink\" href=\"../../../../_context_.ipynb\">proveit</a>.<a class=\"ProveItLink\" href=\"../../../_context_.ipynb\">number</a>.<a class=\"ProveItLink\" href=\"../../_context_.ipynb\">sets</a>.<a class=\"ProveItLink\" href=\"../_context_.ipynb\">integer</a>.<a class=\"ProveItLink\" href=\"../_theorems_.ipynb#induction\">induction</a> theorem\n",
    "========"
   ]
  },
  {
   "cell_type": "code",
   "execution_count": 1,
   "metadata": {},
   "outputs": [],
   "source": [
    "import proveit\n",
    "from proveit import defaults\n",
    "from proveit._common_ import n,x, S, y\n",
    "from proveit.number import zero, Naturals\n",
    "from proveit.logic import InSet\n",
    "from proveit.number._common_ import Pzero, Pone, Pm, P_mAddOne, Pn\n",
    "\n",
    "from proveit.number.sets.integer._theorems_ import inductionLemma\n",
    "context = proveit.Context('..') # the theorem's context is in the parent directory"
   ]
  },
  {
   "cell_type": "code",
   "execution_count": 2,
   "metadata": {},
   "outputs": [
    {
     "name": "stdout",
     "output_type": "stream",
     "text": [
      "Beginning proof of induction\n",
      "Recorded 'presuming' information\n"
     ]
    },
    {
     "name": "stdout",
     "output_type": "stream",
     "text": [
      "Presuming theorems in proveit.logic (except any that presume this theorem).\n",
      "Presuming previous theorems (applied transitively).\n"
     ]
    },
    {
     "data": {
      "text/html": [
       "<strong id=\"induction\">induction:</strong> <a class=\"ProveItLink\" href=\"../__pv_it/c23bf2cc02ad6df44cad408ab9af8f3624d03fb80/expr.ipynb\"><img src=\"data:image/png;base64,iVBORw0KGgoAAAANSUhEUgAAAe8AAAAaBAMAAABsj8ngAAAAMFBMVEX///8QEBCIiIhmZma6urrM\n",
       "zMxUVFQiIiJERETc3Nzu7u6qqqp2dnaYmJgyMjIAAAAcRTyBAAAAAXRSTlMAQObYZgAABnJJREFU\n",
       "WMPlmF1sFFUUxw+zs92v2bYx4IPRWMAAUT42xCgaMIsmwBuVGEMisU1jEbDqGjA1iGSDCWxjCBsf\n",
       "EDHSUR/Eqm0RKvpg2FDQBJDUCMQYhY0gCZKUBipKwY9z7tyvnb2z0LUSE2/S05mdO+c/vzvnnjn3\n",
       "ApjaY9Jcpz3dnoeb0Ba2FwAaxsydFXQh3CzM9VoGbk6L4cMsGDNvdhBarSvMfwncGRgzd18H/D5b\n",
       "GqHraSby/w54rBISEyVwWGuK2sHGUQiQr5NrACL4Uov0w4+l3UaEOfHXxuWnsdNOHO8ZBwFWloPX\n",
       "0r9kdS9Dc1+hrRTgkw0XnbQBIFiAfB3A4UoBHKbzX0qdpYSBPwGitwGcAzgP7+ehW3TJS3Cn90an\n",
       "haEp9wFtFzruFuCdRnADQLBAtwceGwLYRm6zJb3H9QoTvobhcRGSKUjWg1MER2TW0xKc3butOm7l\n",
       "3tc+8f7F255HcBJl4JFeE7gBIFiAfCE4vOy9LKfUY6crjDWMf9cgkodoMyRGIF7PHW5y5RynwT5c\n",
       "5WdFujeDA5xCHRJl4CENr0OCGwCCBcgXgc/B6Xmoq+uN0u7fSBPFkKgZBrxe1wz2VYAzXo+ahxsk\n",
       "+A9dXR9UmeOU+0rgJMrArXrVY6kENwBUEDjjgU/Ev99zuXWl3R+Spg4zR2eKskpPCuyLAP1iqmQk\n",
       "eF0ut6lwQ7lbHMg8rNzbX745qSW8/ykjeD8Ht0eUMxG9TtoAAGaB2Z4vAl+MfltZ3Nhb2uas4t1z\n",
       "0jQVIIFON+PtBQgj+Emvx2ER3Ahe0wjRoPItzeyiy/0bUUiOzh5xoNw70Q3QcxfsMoKf5ODhX+mn\n",
       "UDtrlyR4qwp8f/MJ5JkvAm/CwX8E4kUvtL/i3c9KM6vtyGyXpQIcN8oUewXvDglup1Sy5xlg9QGY\n",
       "yIojb1JSYsxAjRydkDhS7p+IFGlsTxnB93Lw2LD+eT8vwDlAuXqZQCPzReCd+EoiYNFXeDl247eu\n",
       "lmaLl8PGy1Bv8kga6D2LAiYDMzTdD/vnwWeOG3IVeE0zWEOwTHaJi4pRuXd70rDPhRV0enRw8IXB\n",
       "wbMKvImDx3Vw6B7PwTlAubpf4JTni8DxDCvBCF18hUe3+FYx8xuIGzG5Ja4KcCx8eCWfYfWfltuS\n",
       "r2134YuGlAMKPDIA0SxFpGjis6rcwz6A+wFuMb7xJtMbj7XlOTgHKFf3CzynwOmNx4qP02heAUuU\n",
       "hBuFCfOJhKGCT57E3LKQne+WD0/IO2gQvj0+KTWplSYOtr6+13VwnFtTXeyanLdksjUFQ4VHiOae\n",
       "cuk6sK/ETeALxRy/wibKoNfyItQZAPn2q/sF/ogzX2yO090dlEvta9Plx3iFMBYf4s3ACxie3M5x\n",
       "eA88uhWH79gdcKs7hVfAfc7HyzTwxfuP9EIMwecPjFtlIcKn6ivL3cPtFMih4luVkpue1e2iTG4M\n",
       "gHznfeo+gcSII5MbZXXYTU/vaPlhojC1XKmfjdo7+K7msoHMeuHOwRMYo7F3MzCMV+PsK9MHhX4N\n",
       "/Ch70ixsnwp16RAm90V8EajcYxQnhqC2UPCBzyKVuRw8qX3Hu10FTgDk2/Wp+wSc4nHm64CoUuqo\n",
       "GIlqZSMbDjShC5e9OoUC/CMKZPiZJSv6SlkNcnV2kX5rCNfj4IRfyuU2oPTbEQ38VbEGboFHWd35\n",
       "pJfcNfd2hhYOiXn5UvD77jw9wETLKrdWUOAMoAXm+9V9ArFne5kvXrnhQBJnnVb0jUsLw5ss+eIM\n",
       "1FZlCDv/nro3WtnYUCM0e2NuL9HAr4owmQDToDNctqVQoWQVogy8VtuDyWvgDGACzA371A0C5IvA\n",
       "f1Kfek2cotEzvjJJLVLK1uOd+M6T2QIcpJNjWMgqcC8noSSuiVrgO0dcLHcvW1fJOkQsUnpc0yKF\n",
       "J/khWNPnUzcI8EVKXGYL68IDWglQL4x/SdAduBGxAGrzsTYXohg59vo01CjwmZfYoK6laD8HWw8B\n",
       "3Ovz0lGx1JXL0hMQDI6+pw/41A0CfFmaDNh7ekYa3nYGPWH56mQazjLZ9NXiPeqw6Lun8kZEhwB/\n",
       "sQK4Sd0g0OGBRxqDx7jk7fKtm+Rot5508KiqNgdGs/WUFFtPSdNSyFo/mq0n8jVzTdlUUE+WEuYf\n",
       "bjbq4Lake6+6zcYqdztM3rJBV/aULKIqtPbK++olY/e5OLi7in11BH9wzMBDLvx/298OuDAvx8eK\n",
       "5wAAAABJRU5ErkJggg==\n",
       "\" style=\"display:inline;vertical-align:middle;\" /></a><br>(see <a class=\"ProveItLink\" href=\"../__pv_it/c23bf2cc02ad6df44cad408ab9af8f3624d03fb80/dependencies.ipynb\">dependencies</a>)<br>"
      ],
      "text/plain": [
       "induction: forall_{P} ((P(0) and [forall_{m in Naturals | P(m)} P(m + 1)]) => [forall_{n in Naturals} P(n)])"
      ]
     },
     "execution_count": 2,
     "metadata": {},
     "output_type": "execute_result"
    }
   ],
   "source": [
    "%proving induction presuming [proveit.logic]"
   ]
  },
  {
   "cell_type": "code",
   "execution_count": 3,
   "metadata": {},
   "outputs": [
    {
     "data": {
      "text/html": [
       "<strong id=\"defaults.assumptions\">defaults.assumptions:</strong> <a class=\"ProveItLink\" href=\"../__pv_it/30d23d36f0994fc28429b458d9f08265f0433d5f0/expr.ipynb\"><img src=\"data:image/png;base64,iVBORw0KGgoAAAANSUhEUgAAAAwAAAAUBAMAAABL3sEiAAAAMFBMVEX////MzMxUVFR2dna6uroQ\n",
       "EBCqqqqIiIgiIiJmZmYyMjJERETu7u6YmJjc3NwAAACgK8IjAAAAAXRSTlMAQObYZgAAAGNJREFU\n",
       "CNdjYOC7wPaAgYHhNAODHpBax8BwioGBdwIDA3MBAwdQgieA4QVQnGEJQyWIsmTYC6JuMbSBqAyG\n",
       "EBAlD6PAgh4wJZYgajKQDwQLIYY1wIxm2Ae2CGQtkAV0BO8DBgBfVhetSSF8+gAAAABJRU5ErkJg\n",
       "gg==\n",
       "\" style=\"display:inline;vertical-align:middle;\" /></a><br>"
      ],
      "text/plain": [
       "defaults.assumptions: ()"
      ]
     },
     "execution_count": 3,
     "metadata": {},
     "output_type": "execute_result"
    }
   ],
   "source": [
    "defaults.assumptions = induction.allConditions()"
   ]
  },
  {
   "cell_type": "code",
   "execution_count": 4,
   "metadata": {},
   "outputs": [
    {
     "data": {
      "text/html": [
       "<span style=\"font-size:20px;\"> <a class=\"ProveItLink\" href=\"inductionLemma.ipynb\" style=\"text-decoration: none\">&#x22A2;&nbsp;</a><a class=\"ProveItLink\" href=\"../__pv_it/37f5c5e1ca8471def3e9381a3be9a649dcb722600/expr.ipynb\"><img src=\"data:image/png;base64,iVBORw0KGgoAAAANSUhEUgAAAfkAAAAUBAMAAAB8NVk/AAAAMFBMVEX///8QEBCIiIhmZma6urrM\n",
       "zMxUVFQiIiJERETc3Nzu7u6qqqp2dnaYmJgyMjIAAAAcRTyBAAAAAXRSTlMAQObYZgAABcRJREFU\n",
       "WMOlWH1oHEUUf8nd5u5295L+0f5X7JlCKlLtWrFRSerVggURcxbUgIVEiaioNX5AbJUagpiLRXqo\n",
       "tLVQu62Y1itttkrQojXhEkWbWE5toZXYXvGjVPBIVURLpc73zu7OnEYfvGRubn/3e7+ZN29mFqCG\n",
       "1Vdzit6dkmvscOjztT/UooFUmbrarIKWJH0uG+Hyg6wVHQNX8Odv1Y/Z2Ub8Lx0IzOz3vTQTGR6r\n",
       "bTqdbQgFPFmTBvYx19gjoCWxs9CgGhwcnHIkOZCBp3DnTzr1tof+NbpyZ2NBeKNnbghjXgFzC5gV\n",
       "NqlCfS0aOM9cYYcQ90HQkiABnAvCQapMABl4Ow6yX6eefLM90Pm1718CHAtBYg7AaZQULAiHq69F\n",
       "k3aoS/Yum8LHnkDq7YyWBAngXJEgFSZFR8F4YskMK9WT6ZoKdG7w/SWAMZoXJ/v66BSMoKVwK8Bu\n",
       "+mznRq6+Fk2iQD2qHuAMwpnz2CgN9m0KkWD1u31YsiAFKQ1vFMjA6aPF4jbQqp8pFt/pDVSoXt9/\n",
       "B+ggijqv5l93oBpxN5r0LPnU08zV16LZxlynHr4nTWPAjZBg9YyLPNLvB+mbCsjBf+Tzz+vVN+Xz\n",
       "g+OBfcARbv6Kfg9npekv6JFLpA7aJJHNSoKrr0WzmPmelteXZlTqJ0jzoBslwQJsJ5LxOMD4p280\n",
       "L9cCOfhBgCG9+oYcSSdjeuoES66y8NQlgC4crlR26y9fxiU6TdaB7bFkn1TQrJs+kuOliLg5nn4q\n",
       "UVGpPx0q/T4JFkC5WvuwveCIIO3kAIwUdEAOXh2smsbTk3Blt1Afd0jJXQ3WLFuknvAUmvsunBhJ\n",
       "CX/g/gsoYIukXgJSFa4+RIN/eIw1n6Nuu/bFeEGl/n3S7FeQYAGWnOYfezzI+9BI7srpgBycgHqx\n",
       "n++faIcPbDfmCvXQC9eg1kbxG3VZ4SLz76oiE9puQdQGGauvyJRT9RKN+dH1ZUi4YtDmUzchSTmO\n",
       "VatPVqs/+uq7yLRcgVlCJDhCY1be6M9mWZDuSBbOaIEcbJcTojZu3uHCkYxj+5kPXwAe2j8BvIh6\n",
       "XPXGvMCWiJEjQj0as3u4eonm5OEiQFMBrKB61JdRVz2i3t8vJZKI+q2f8yBxaq3XAjk4VUERptvX\n",
       "LsbZiWx09FVZ/ZsGXgZnJ8X25Gc+5Fl0dYJ8GMeKuuJ4yCyHHzsmGQ2UbmjJxcnabFwoSjXLfITM\n",
       "qdWvIc15ChIcIeGClVVi50WQsBLgL1MH5GAY6kHqV5XrCvQ4OmofWCepT27Fz7y1aD5Eqp447cTE\n",
       "nB1C3sarHlZuOUw9oal31yfo6RnM6y5kIVD1LHcZekBf9ZYrSPyqR+1OP0hYCNZFWwfkYHgPjcSO\n",
       "JdDkmiTSURifkNRbrXQHfYj3Ob4nPHOBmD1irWgfwbkSw8Wwk2U/VY9pDPgZjSRPUl6tJqh3eFvE\n",
       "5USoX+ayiNmEhkhwhDF/R+ZbLw4u9RvYlRM6IAfT1fYArALj2Xx+AKnfmZDUwy/I30brhdfqXt/N\n",
       "UgvN1eEX2Zw5t614lOQ17u/BrWauni5qVEDuzefzGTMHJl+va6gPN+9pL4fUr1j0HeqiN0Tz4dsj\n",
       "JOS049+0GnKBIFOPezogB0MaR74A2gzopnMfXyur/wb5h7x8BU+6vt0x2BfYz/biPySzDa6e0Biz\n",
       "BjSQy5YHRve/OOmS6FmSxD9jB1afBEe4VzqIgvKkqwByMIXNwjOj8AluHgeYkdVjuxHMlxW3HL2V\n",
       "wjdcarvsig02nqBYP+xz9becYuDQldGSzPGWI0VXkuTFu2FpGZIoUeKbsnR2ZPU3tU248k2Cu87C\n",
       "t06ufvh46SjAZqz+tembxddDoD9vguqGK0h0N9xawck33IBdhdZ98KSrfnHAXWfJglo9O2+idT+X\n",
       "txtDehIUYXIubzcC86eUJ4W56T++2ToV+rzk/7zZShe0JPXnshGuf36zdUqA/wa6EhhVnbkSEQAA\n",
       "AABJRU5ErkJggg==\n",
       "\" style=\"display:inline;vertical-align:middle;\" /></a></span>"
      ],
      "text/plain": [
       "|- forall_{n in Naturals} [forall_{S} (((0 in S) and [forall_{x in S} ((x + 1) in S)]) => (n in S))]"
      ]
     },
     "execution_count": 4,
     "metadata": {},
     "output_type": "execute_result"
    }
   ],
   "source": [
    "inductionLemma"
   ]
  },
  {
   "cell_type": "code",
   "execution_count": 5,
   "metadata": {},
   "outputs": [
    {
     "data": {
      "text/html": [
       "<span style=\"font-size:20px;\"> <a class=\"ProveItLink\" href=\"inductionLemma.ipynb\" style=\"text-decoration: none\">&#x22A2;&nbsp;</a><a class=\"ProveItLink\" href=\"../__pv_it/37f5c5e1ca8471def3e9381a3be9a649dcb722600/expr.ipynb\"><img src=\"data:image/png;base64,iVBORw0KGgoAAAANSUhEUgAAAfkAAAAUBAMAAAB8NVk/AAAAMFBMVEX///8QEBCIiIhmZma6urrM\n",
       "zMxUVFQiIiJERETc3Nzu7u6qqqp2dnaYmJgyMjIAAAAcRTyBAAAAAXRSTlMAQObYZgAABcRJREFU\n",
       "WMOlWH1oHEUUf8nd5u5295L+0f5X7JlCKlLtWrFRSerVggURcxbUgIVEiaioNX5AbJUagpiLRXqo\n",
       "tLVQu62Y1itttkrQojXhEkWbWE5toZXYXvGjVPBIVURLpc73zu7OnEYfvGRubn/3e7+ZN29mFqCG\n",
       "1Vdzit6dkmvscOjztT/UooFUmbrarIKWJH0uG+Hyg6wVHQNX8Odv1Y/Z2Ub8Lx0IzOz3vTQTGR6r\n",
       "bTqdbQgFPFmTBvYx19gjoCWxs9CgGhwcnHIkOZCBp3DnTzr1tof+NbpyZ2NBeKNnbghjXgFzC5gV\n",
       "NqlCfS0aOM9cYYcQ90HQkiABnAvCQapMABl4Ow6yX6eefLM90Pm1718CHAtBYg7AaZQULAiHq69F\n",
       "k3aoS/Yum8LHnkDq7YyWBAngXJEgFSZFR8F4YskMK9WT6ZoKdG7w/SWAMZoXJ/v66BSMoKVwK8Bu\n",
       "+mznRq6+Fk2iQD2qHuAMwpnz2CgN9m0KkWD1u31YsiAFKQ1vFMjA6aPF4jbQqp8pFt/pDVSoXt9/\n",
       "B+ggijqv5l93oBpxN5r0LPnU08zV16LZxlynHr4nTWPAjZBg9YyLPNLvB+mbCsjBf+Tzz+vVN+Xz\n",
       "g+OBfcARbv6Kfg9npekv6JFLpA7aJJHNSoKrr0WzmPmelteXZlTqJ0jzoBslwQJsJ5LxOMD4p280\n",
       "L9cCOfhBgCG9+oYcSSdjeuoES66y8NQlgC4crlR26y9fxiU6TdaB7bFkn1TQrJs+kuOliLg5nn4q\n",
       "UVGpPx0q/T4JFkC5WvuwveCIIO3kAIwUdEAOXh2smsbTk3Blt1Afd0jJXQ3WLFuknvAUmvsunBhJ\n",
       "CX/g/gsoYIukXgJSFa4+RIN/eIw1n6Nuu/bFeEGl/n3S7FeQYAGWnOYfezzI+9BI7srpgBycgHqx\n",
       "n++faIcPbDfmCvXQC9eg1kbxG3VZ4SLz76oiE9puQdQGGauvyJRT9RKN+dH1ZUi4YtDmUzchSTmO\n",
       "VatPVqs/+uq7yLRcgVlCJDhCY1be6M9mWZDuSBbOaIEcbJcTojZu3uHCkYxj+5kPXwAe2j8BvIh6\n",
       "XPXGvMCWiJEjQj0as3u4eonm5OEiQFMBrKB61JdRVz2i3t8vJZKI+q2f8yBxaq3XAjk4VUERptvX\n",
       "LsbZiWx09FVZ/ZsGXgZnJ8X25Gc+5Fl0dYJ8GMeKuuJ4yCyHHzsmGQ2UbmjJxcnabFwoSjXLfITM\n",
       "qdWvIc15ChIcIeGClVVi50WQsBLgL1MH5GAY6kHqV5XrCvQ4OmofWCepT27Fz7y1aD5Eqp447cTE\n",
       "nB1C3sarHlZuOUw9oal31yfo6RnM6y5kIVD1LHcZekBf9ZYrSPyqR+1OP0hYCNZFWwfkYHgPjcSO\n",
       "JdDkmiTSURifkNRbrXQHfYj3Ob4nPHOBmD1irWgfwbkSw8Wwk2U/VY9pDPgZjSRPUl6tJqh3eFvE\n",
       "5USoX+ayiNmEhkhwhDF/R+ZbLw4u9RvYlRM6IAfT1fYArALj2Xx+AKnfmZDUwy/I30brhdfqXt/N\n",
       "UgvN1eEX2Zw5t614lOQ17u/BrWauni5qVEDuzefzGTMHJl+va6gPN+9pL4fUr1j0HeqiN0Tz4dsj\n",
       "JOS049+0GnKBIFOPezogB0MaR74A2gzopnMfXyur/wb5h7x8BU+6vt0x2BfYz/biPySzDa6e0Biz\n",
       "BjSQy5YHRve/OOmS6FmSxD9jB1afBEe4VzqIgvKkqwByMIXNwjOj8AluHgeYkdVjuxHMlxW3HL2V\n",
       "wjdcarvsig02nqBYP+xz9becYuDQldGSzPGWI0VXkuTFu2FpGZIoUeKbsnR2ZPU3tU248k2Cu87C\n",
       "t06ufvh46SjAZqz+tembxddDoD9vguqGK0h0N9xawck33IBdhdZ98KSrfnHAXWfJglo9O2+idT+X\n",
       "txtDehIUYXIubzcC86eUJ4W56T++2ToV+rzk/7zZShe0JPXnshGuf36zdUqA/wa6EhhVnbkSEQAA\n",
       "AABJRU5ErkJggg==\n",
       "\" style=\"display:inline;vertical-align:middle;\" /></a></span>"
      ],
      "text/plain": [
       "|- forall_{n in Naturals} [forall_{S} (((0 in S) and [forall_{x in S} ((x + 1) in S)]) => (n in S))]"
      ]
     },
     "execution_count": 5,
     "metadata": {},
     "output_type": "execute_result"
    }
   ],
   "source": [
    "inductionLemma.specialize(assumptions =  [InSet(n, Naturals)])"
   ]
  },
  {
   "cell_type": "code",
   "execution_count": null,
   "metadata": {},
   "outputs": [],
   "source": []
  },
  {
   "cell_type": "code",
   "execution_count": null,
   "metadata": {},
   "outputs": [],
   "source": []
  }
 ],
 "metadata": {
  "kernelspec": {
   "display_name": "Python 3",
   "language": "python",
   "name": "python3"
  }
 },
 "nbformat": 4,
 "nbformat_minor": 0
}
