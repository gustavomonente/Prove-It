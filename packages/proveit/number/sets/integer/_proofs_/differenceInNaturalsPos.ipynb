{
 "cells": [
  {
   "cell_type": "markdown",
   "metadata": {},
   "source": [
    "Proof of <a class=\"ProveItLink\" href=\"../../../../_context_.ipynb\">proveit</a>.<a class=\"ProveItLink\" href=\"../../../_context_.ipynb\">number</a>.<a class=\"ProveItLink\" href=\"../../_context_.ipynb\">sets</a>.<a class=\"ProveItLink\" href=\"../_context_.ipynb\">integer</a>.<a class=\"ProveItLink\" href=\"../_theorems_.ipynb#differenceInNaturalsPos\">differenceInNaturalsPos</a> theorem\n",
    "========"
   ]
  },
  {
   "cell_type": "code",
   "execution_count": 1,
   "metadata": {},
   "outputs": [],
   "source": [
    "import proveit\n",
    "context = proveit.Context('..') # the theorem's context is in the parent directory"
   ]
  },
  {
   "cell_type": "code",
   "execution_count": 2,
   "metadata": {},
   "outputs": [
    {
     "name": "stdout",
     "output_type": "stream",
     "text": [
      "Beginning proof of differenceInNaturalsPos\n",
      "Recorded 'presuming' information\n",
      "Presuming previous theorems (applied transitively).\n"
     ]
    },
    {
     "data": {
      "text/html": [
       "<strong id=\"differenceInNaturalsPos\">differenceInNaturalsPos:</strong> <a class=\"ProveItLink\" href=\"../__pv_it/b4539ca068b912fd79c1742ab5a428ad79c7edc20/expr.ipynb\"><img src=\"data:image/png;base64,iVBORw0KGgoAAAANSUhEUgAAAQoAAAAbBAMAAAB2GNxwAAAAMFBMVEX///8QEBCIiIhmZma6urrM\n",
       "zMxUVFQiIiJERETc3Nzu7u6qqqp2dnaYmJgyMjIAAAAcRTyBAAAAAXRSTlMAQObYZgAAA/9JREFU\n",
       "SMfdV11oFFcU/nZnZ/ZvZrcPPoiiXZLWFp8WhSL+rgi1UGuSlyQvwa1UsSKSlxiNglur7a5amBdt\n",
       "sJSOBlRSyA4JeQgUuhikNFVZfJDE0rIFtdTSrYiC7oN47r0zOzPL7kqyeRAPzJ2fu+fc75zznXPv\n",
       "Am+QyKmF6aXpSiwaiu4F6mXo+nDRUDxsAYVaXCQQEotquJG1qeYoMASU2P2PFlH8YNBwtc5E5It+\n",
       "QNFrPv6ffQj17SU2inbgt1YCass0G/6pNxNL0qqlmo+hIvEoD6VcXln+j3wAhlksMy2iWE6Xlqw3\n",
       "EzdpuFbzURnwJ+CrZiRoIkbBVM3WQIQrzJZeb6qD5eqi9TI7OMjDonxk7EGwikLKQJsZHf22xVBo\n",
       "b9FQ38gvPC2im/SutmNxLj1mOCj8pP4smz3WaomUBMcQ3rhmmXfqQdsGijVPVqTKPkUfl9MOigCF\n",
       "cg+Qq2N5Zy2lwB0KlOv8NsSMfUPXVj32yFsOL4y8Dk3kQXdQqKnbDgr5KbDNy2Fl6fSXDLpqk+3T\n",
       "s+vWOrUtyoHQGO5CYI34KK25guXYLdEK4glE+zlWZw0d+5Ue9sSBhZ8Qq+C3203kp7XFoK5eYivE\n",
       "GGN/nN6EI5hZ7ULxr9g3vnKvFWSIqfylCoKsf0XKXDp5rvIFyDxAXeybHZXL+MsJ2BPWQIP26+zU\n",
       "KKLo+56XGMHUzlwwYMpzRReK5xz9Pr22KTAUvgzynbXtosO0UAy7YyEXupwSIxThEtuKRlbdR0Ak\n",
       "IVlg4662/ZQszj3V1W3lx6sMRNZ1WioWL6yMkNs/17SLIrYYCPCM+Nwo8LuTIJl5lvuMgjIgVxAT\n",
       "Zfcdd+c9o110d8xNulD4h/zJyC1GVK5iWbXYmTdxMOqJUjxFXLHYKVW3cIVWUJ3QsBrBBCGVknI/\n",
       "Rvi3S8L1E/gzIgosUXChCCW0UhfPEFcRwgqe0ZYmD6neLlkMkRFJWDhazRPj3GZvuyESw2f60+jJ\n",
       "ZrMJFGZwgaf5A/lwNnsCqmqEjSoKX0pKq/f4E1NxObOdAO9+9/w73kpdc5OtKshy+aQoLPn4UhrH\n",
       "nHbDLGs0l9dDdw2FW5ws4le6V2hz4Kt83AdVr6KIGz4TI6dgqVh2ljTs4FyuWPcdXw+W6u14dqp8\n",
       "+q5PoDLIkkRkCp/GkJbBdU7WJHOzuvMYszSez1kqlmxsuJtxuda89eZtZwK7xzcBZ+jpzt4bf6fl\n",
       "5ei+QXmm/Gl7D9w65KqRAzzHw59bKkJ41eUarRIpNUdxx/vqZ7wQPU/c3ideeM9FtvR64q+YDU45\n",
       "opD15igGMI9DWpNDCPe24Ylv7hU7cqHRTHF+KDDRwo48PK9fJ5vMRVMLR7H+dflT9RKlegU6Rx2G\n",
       "4AAAAABJRU5ErkJggg==\n",
       "\" style=\"display:inline;vertical-align:middle;\" /></a><br>(see <a class=\"ProveItLink\" href=\"../__pv_it/b4539ca068b912fd79c1742ab5a428ad79c7edc20/dependencies.ipynb\">dependencies</a>)<br>"
      ],
      "text/plain": [
       "differenceInNaturalsPos: forall_{a in Integers, b in Integers | b < a} ((a - b) in NaturalsPos)"
      ]
     },
     "execution_count": 2,
     "metadata": {},
     "output_type": "execute_result"
    }
   ],
   "source": [
    "%proving differenceInNaturalsPos presuming []"
   ]
  },
  {
   "cell_type": "code",
   "execution_count": null,
   "metadata": {},
   "outputs": [],
   "source": []
  }
 ],
 "metadata": {
  "kernelspec": {
   "display_name": "Python 3",
   "language": "python",
   "name": "python3"
  }
 },
 "nbformat": 4,
 "nbformat_minor": 0
}
