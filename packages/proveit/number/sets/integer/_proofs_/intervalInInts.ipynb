{
 "cells": [
  {
   "cell_type": "markdown",
   "metadata": {},
   "source": [
    "Proof of <a class=\"ProveItLink\" href=\"../../../../_context_.ipynb\">proveit</a>.<a class=\"ProveItLink\" href=\"../../../_context_.ipynb\">number</a>.<a class=\"ProveItLink\" href=\"../../_context_.ipynb\">sets</a>.<a class=\"ProveItLink\" href=\"../_context_.ipynb\">integer</a>.<a class=\"ProveItLink\" href=\"../_theorems_.ipynb#intervalInInts\">intervalInInts</a> theorem\n",
    "========"
   ]
  },
  {
   "cell_type": "code",
   "execution_count": 1,
   "metadata": {},
   "outputs": [],
   "source": [
    "import proveit\n",
    "context = proveit.Context('..') # the theorem's context is in the parent directory"
   ]
  },
  {
   "cell_type": "code",
   "execution_count": 2,
   "metadata": {},
   "outputs": [
    {
     "name": "stdout",
     "output_type": "stream",
     "text": [
      "Beginning proof of intervalInInts\n",
      "Recorded 'presuming' information\n",
      "Presuming previous theorems (applied transitively).\n"
     ]
    },
    {
     "data": {
      "text/html": [
       "<strong id=\"intervalInInts\">intervalInInts:</strong> <a class=\"ProveItLink\" href=\"../__pv_it/dd7ceefaa1c73e7215d1eaa0131ffba1c910112b0/expr.ipynb\"><img src=\"data:image/png;base64,iVBORw0KGgoAAAANSUhEUgAAAQQAAAAZBAMAAAAlGU3IAAAAMFBMVEX///8QEBCIiIhmZma6urrM\n",
       "zMxUVFQiIiJERETc3Nzu7u6qqqp2dnaYmJgyMjIAAAAcRTyBAAAAAXRSTlMAQObYZgAAA+xJREFU\n",
       "SMfll01oE0EUx1+S3SS72U08eGgUNVioogjR4gdioSC0h1aJCq2HlkbxA6VILhq/KLUKrlUh9FBL\n",
       "RbttoWoEDYoHQWpo9WCrsvhF6xfxIIKC1KKgPfnmbTbdbWPcQj05kExm5u3M7735z9sJwEzK3ngC\n",
       "Zrdw8eMzeyAGs1/a/weESwXG7uoIGVa9s43gZ5Ws2SYQm/P1Vi5a+KFpAbgThDDMuj7bRpBSWPlV\n",
       "2wj+vPpduhp9aQYxQwgd+C0020Yg0w77+/A8b+8GgGGpHGCAEJhH5JpNLbCADdtHOGJpjcTjtPHr\n",
       "QYhuw7qbEOShZPLCDOT4Npm8Zl+VgsV0+7LcT6/ayrapnE7ET0U5PgOEgKKcTttGcIYBqve1FYdI\n",
       "mibJPSNJS2FC2A1wJs/DmzP5EdwR8FolVmc5H9xXgK25jfXiWFoJib9Yw50wHZSrdLQyhLBRF6ZR\n",
       "3EWDJ8NZQCo7zq0rNSFwYbhhjfU8K+YgfhqNhicFfKoJhB/EY1olso9VvhgheMBpuCHeK9U8CamH\n",
       "nTk/8+T6YBkKamiZOTXFYAWY7ME3JVxf8NNvNBzlIIrfQR5jjS1fsejWGznaTH6MECTNkxPs3ST4\n",
       "oJ4SWgCjJp/tVCHFj2pmhCeTOZLZT0P4NQUBfGPgJhvTWc5gRCTVQBAyNdjXW/KRxZiVMAE2LN6P\n",
       "e8SKS7Ik6Mt8FI/7y8XhrD1DEFcdiGRN+PESdRIBNwJcGQhoLLCO3DxS6gE1OX0j4MwunOMgP6En\n",
       "X5Av0mxL1GI9ecPoHQuCtx09e7EAgll7hnAl0mAkTOdRPAX9Zjk60nBfZW65QrlXk4BurMzJEW7j\n",
       "xK4wH4NeGu7RnW6B9yJ5KYbSFgTfWoxcTwwmsvZuHC6F2tyiIZy329A+E3VXOTyVya1jhlGrV4W+\n",
       "EVw2rSMEEM6RckahVlGUEKSHoBN758Ia/rCitIAkqYJqflOOs3VD3Bzdnj+JzflQMrn7rijwRqZh\n",
       "ka7EZd5Qq++UPhFX9EE58Q0f9Ed0BBn7bya8r1U3Dd/R4BHWEzhvlHVU1YOUMCO8ZgtFXOmI24gC\n",
       "HvvzyaxJQHWkJqMwJUFXn45bxHvFdF9wJBo2gcSi5XIhutAKR+VmeEjqDDM/ptwXusBTFSF70kKQ\n",
       "/67hMx2q0OpRR0wn4g+vKaMMmBC4nbfKAM7ir1d7Hn+K8vOh5jHuK+pZ3tP49NA0hApwPtHtCaFi\n",
       "ebHGB2FLgg/yjWkzgrfQZTP7srZkdKYFXebZ9zpqocCtiex9eTJ5/1+uLGa+9kJXKnsXt8IIBS9u\n",
       "o4Xujpp9BDE4va/x311f4/n+R7RN461L2Z6Rix/6DdXMGnV2/lIuAAAAAElFTkSuQmCC\n",
       "\" style=\"display:inline;vertical-align:middle;\" /></a><br>(see <a class=\"ProveItLink\" href=\"../__pv_it/dd7ceefaa1c73e7215d1eaa0131ffba1c910112b0/dependencies.ipynb\">dependencies</a>)<br>"
      ],
      "text/plain": [
       "intervalInInts: forall_{a in Integers, b in Integers} [forall_{n in {a...b}} (n in Integers)]"
      ]
     },
     "execution_count": 2,
     "metadata": {},
     "output_type": "execute_result"
    }
   ],
   "source": [
    "%proving intervalInInts presuming []"
   ]
  },
  {
   "cell_type": "code",
   "execution_count": null,
   "metadata": {},
   "outputs": [],
   "source": []
  }
 ],
 "metadata": {
  "kernelspec": {
   "display_name": "Python 3",
   "language": "python",
   "name": "python3"
  }
 },
 "nbformat": 4,
 "nbformat_minor": 0
}
