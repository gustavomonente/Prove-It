{
 "cells": [
  {
   "cell_type": "markdown",
   "metadata": {},
   "source": [
    "Proof of <a class=\"ProveItLink\" href=\"../../../../_context_.ipynb\">proveit</a>.<a class=\"ProveItLink\" href=\"../../../_context_.ipynb\">number</a>.<a class=\"ProveItLink\" href=\"../../_context_.ipynb\">sets</a>.<a class=\"ProveItLink\" href=\"../_context_.ipynb\">integer</a>.<a class=\"ProveItLink\" href=\"../_theorems_.ipynb#intervalInNats\">intervalInNats</a> theorem\n",
    "========"
   ]
  },
  {
   "cell_type": "code",
   "execution_count": 1,
   "metadata": {},
   "outputs": [],
   "source": [
    "import proveit\n",
    "context = proveit.Context('..') # the theorem's context is in the parent directory"
   ]
  },
  {
   "cell_type": "code",
   "execution_count": 2,
   "metadata": {},
   "outputs": [
    {
     "name": "stdout",
     "output_type": "stream",
     "text": [
      "Beginning proof of intervalInNats\n",
      "Recorded 'presuming' information\n",
      "Presuming previous theorems (applied transitively).\n"
     ]
    },
    {
     "data": {
      "text/html": [
       "<strong id=\"intervalInNats\">intervalInNats:</strong> <a class=\"ProveItLink\" href=\"../__pv_it/fdc7de64a65b71f63be897de728fdc414c59999a0/expr.ipynb\"><img src=\"data:image/png;base64,iVBORw0KGgoAAAANSUhEUgAAAQYAAAAZBAMAAAAh7J31AAAAMFBMVEX///8QEBCIiIhmZma6urrM\n",
       "zMxUVFQiIiJERETc3Nzu7u6qqqp2dnaYmJgyMjIAAAAcRTyBAAAAAXRSTlMAQObYZgAAA61JREFU\n",
       "SMfll12ITGEYx//zcebjfMy6QImLsVvIR02UC6GR5AYNF7u0WyaRVmjKx/hK06YMouGCoeRIoRW7\n",
       "0ZQtH4OlLGoShXzMBRcorXKhLeV53nc+zpkZ057iynMxc973ef5zfvO8z/Oe9wBOzJfcjb9s3uQ+\n",
       "ZwI//oGd/C8YgoUmzgHJUOSvd6NncBRPdrnR5LWfx0zc+x71ZQTDE577MnoGR/FknxvOHlXiUIeh\n",
       "FgVDlvOVGj2Do3jAiDSc3hhrBcYA9wVDyAT0/tEzOIonRcY2fJVMisVcf9gXQwI4LxiMod7eUw5q\n",
       "0lE8YA9dPb100d2ufmGGUFT0xc90ep+TvnASD7TRLvTodOtsMVArddSthduZQY8Ihg3AoQbiFcU/\n",
       "MNTFK89qhcqMavHRfQI96BNL4qssTDcGjTAxGEXBsFhWZ9k65kfd4yEJxR22DWJy3MJQEw8cN21D\n",
       "Fvry5dFeoNNfxLkYDwKoMvjMDcSgJQSDH+7yNqLemlPQUkOYR9chrrsrDxbgpm56TAuDJV74ccee\n",
       "KxZqFcqxgNkXxQcxWPmNrCgZ1HiI+kIZFgx6obL7vRrohfbcA/4XLZQ348gZE7fDEd26FpZ44a9l\n",
       "YKGNAXeBrWKQteQBXUqVIVhsp8kLUz7By+nXOteEmWFt6yZKO1kud8LGIOKNBavaIP2CgeUlY2GV\n",
       "gdYCC4FfKg9cVgajn3YZr1wLHFpPq7BDGUGIvVps6CUzTDXb5L6c06922Z4XHG8sKrgy0s8MQl4y\n",
       "FlYZqCYxCdqI+BuecHmaChuPU5WaxA1i8USUBC5IBl2UYw/eq6Isc8g/sDFw/JmpaDGlH5tL8pKR\n",
       "EOqE8oikwR/Qiy8rWRH2lYno/p68ZGghOle/O46OdDod1mLBQkIs5FxlVzrdQwxn/TYGjsc6LIL0\n",
       "r46U5JUKmEvdVW6MpSLfwS1yZ714QFZ3x3fKAbdXKCYZDJrvywTemD6ZByzhm4xgIuIyD95VNgaO\n",
       "xzjMV6Sf8yDkpRgWVvNQs1cvO5i0NfYly/nBlVm7HDo3sRGFkQ8exh4jhYfsegG8rTs/BIexPSf9\n",
       "XA9CnjVJljVZWK2HPzyzynbfwuBdd506/Qgn7yMQVyai/SntKZRB7/4ofHUM3jhmFoRfMAj5yowy\n",
       "gT5YWGVouAdXrPTstpqb6kFeafJrGq13s3OU8N+p/20Lw+VmDIFMk7PcgIOzXHOGpme5183OkwUH\n",
       "DOcz9e8A+X94pm30fhGcVTujPHHyfrHzNz4lEUy/K5VIAAAAAElFTkSuQmCC\n",
       "\" style=\"display:inline;vertical-align:middle;\" /></a><br>(see <a class=\"ProveItLink\" href=\"../__pv_it/fdc7de64a65b71f63be897de728fdc414c59999a0/dependencies.ipynb\">dependencies</a>)<br>"
      ],
      "text/plain": [
       "intervalInNats: forall_{a in Naturals, b in Naturals} [forall_{n in {a...b}} (n in Naturals)]"
      ]
     },
     "execution_count": 2,
     "metadata": {},
     "output_type": "execute_result"
    }
   ],
   "source": [
    "%proving intervalInNats presuming []"
   ]
  },
  {
   "cell_type": "code",
   "execution_count": null,
   "metadata": {},
   "outputs": [],
   "source": []
  }
 ],
 "metadata": {
  "kernelspec": {
   "display_name": "Python 3",
   "language": "python",
   "name": "python3"
  }
 },
 "nbformat": 4,
 "nbformat_minor": 0
}
