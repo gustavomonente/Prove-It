{
 "cells": [
  {
   "cell_type": "markdown",
   "metadata": {},
   "source": [
    "Proof of <a class=\"ProveItLink\" href=\"../../../../_context_.ipynb\">proveit</a>.<a class=\"ProveItLink\" href=\"../../../_context_.ipynb\">number</a>.<a class=\"ProveItLink\" href=\"../../_context_.ipynb\">sets</a>.<a class=\"ProveItLink\" href=\"../_context_.ipynb\">integer</a>.<a class=\"ProveItLink\" href=\"../_theorems_.ipynb#differenceInNaturals\">differenceInNaturals</a> theorem\n",
    "========"
   ]
  },
  {
   "cell_type": "code",
   "execution_count": 1,
   "metadata": {},
   "outputs": [],
   "source": [
    "import proveit\n",
    "context = proveit.Context('..') # the theorem's context is in the parent directory"
   ]
  },
  {
   "cell_type": "code",
   "execution_count": 2,
   "metadata": {},
   "outputs": [
    {
     "name": "stdout",
     "output_type": "stream",
     "text": [
      "Beginning proof of differenceInNaturals\n",
      "Recorded 'presuming' information\n",
      "Presuming previous theorems (applied transitively).\n"
     ]
    },
    {
     "data": {
      "text/html": [
       "<strong id=\"differenceInNaturals\">differenceInNaturals:</strong> <a class=\"ProveItLink\" href=\"../__pv_it/9bc64a817ce858be3290b34fe141ffeab320fd300/expr.ipynb\"><img src=\"data:image/png;base64,iVBORw0KGgoAAAANSUhEUgAAAPoAAAAWBAMAAAAbRJz3AAAAMFBMVEX///8QEBCIiIhmZma6urrM\n",
       "zMxUVFQiIiJERETc3Nzu7u6qqqp2dnaYmJgyMjIAAAAcRTyBAAAAAXRSTlMAQObYZgAAA4ZJREFU\n",
       "SMe9Vl1IFFEU/nZnZ39mZ9YefLAkWrIsCmJRiCArI8igP33RXsItUihCfEkrg+wHGjNhXiopgsnA\n",
       "wsBdCgkjaEmish+GHiKLZIt+SOjnoYfyITr33tldZ91NaKsDZ+bON8z57j33O2cu8DcsYAnPacN5\n",
       "8KABJNngVYHsV2zPNuVIK+A1ssAv+gTUecXYDTxkwESB7B9tn2ahCLEls0C/VQ/EgEGglyWuszBy\n",
       "LSJ8uhXF6XInC/Tuc4fhAtQwQibd4oWx+wzh020rRcdF++F5eztPg3eD2QQfJWUWtNGBgbMFJv6s\n",
       "7dPtHk9/NR9vW5Ja++nooEnseAt81/VDBbKX2R6oqpjjfPN+/kpKLd8UJS0ur3FNjjL2EaAJ6MoR\n",
       "cUu2Vjy5YWY9tq81Ql+d8v5pxgxoIt9Ghl2tfsrYx4F1TlF6S0aOsbmqKRXtOLWikiuVP9lw0KHT\n",
       "DuHKXEhO/QYnURRGsDXzvT2PPd4GGtwgucCd6hPKrUrLZ6h9TCohpsSrI6twAKNLMl9zGME3DpJi\n",
       "4dIkfGEaDn5m9o5GUhKxBGSekDoGprLQj9c0aKTVWL5UlOfDAwhi+wVeK5Qorfucibg8ZmXYGQzt\n",
       "E3KxuzoRq80u961xm7136trlRJ1gDySp9nGp/B08IquRBLs2zt9Dm8JMUpFhZ7CbkysVLbXOzNMy\n",
       "b2eVu4U1Jjw8866p7HjJwtWQd+2iUPvkSYRE6zjPgy4yy0QXxtjQFHaCPR18dLm20XSqLhZHS9BR\n",
       "9kXVpAVbdVI4zU4Eaq9QHa7T1KSI3IpL/F2fWOpRjCuiUsKJKewMvs/rtxINqXAjwv1hrU11djXL\n",
       "TzGkRDpDGe2sJq9iE6RJueLuKBp0XQ8jMYpzfB+Xy/t1/ShU1QyYaXaCodxnn5eiPBWuRriyc+GZ\n",
       "Bc6Kq3jM2MQO9R8XuZIPl4A3eTBhagTGDP8L08vLesjCA7pPUvgoAzZuh2qk2RkMLItD+YGegRk7\n",
       "rdgj+77pRLujWyit9sBlNG6GyuYoSaSSwEkc1Dpxl4swwtdmszOY7ZiF2fI3a8a/DLc7eXA1pQTP\n",
       "zmurgG4aPWt+9CEql6L+ERFShrXmvU/aMuwMZnYT65eWpc8TXcjdMMUSk3leDDof3WzfRZMSt8W0\n",
       "7+m/8h+cLsSH+fYk73xznIb8f3qyGst3KsirFOs37EEqDf0k/q9J/yDmL/ZN7VP2Kxu1AAAAAElF\n",
       "TkSuQmCC\n",
       "\" style=\"display:inline;vertical-align:middle;\" /></a><br>(see <a class=\"ProveItLink\" href=\"../__pv_it/9bc64a817ce858be3290b34fe141ffeab320fd300/dependencies.ipynb\">dependencies</a>)<br>"
      ],
      "text/plain": [
       "differenceInNaturals: forall_{a in Integers, b in Integers | b <= a} ((a - b) in Naturals)"
      ]
     },
     "execution_count": 2,
     "metadata": {},
     "output_type": "execute_result"
    }
   ],
   "source": [
    "%proving differenceInNaturals presuming []"
   ]
  },
  {
   "cell_type": "code",
   "execution_count": null,
   "metadata": {},
   "outputs": [],
   "source": []
  }
 ],
 "metadata": {
  "kernelspec": {
   "display_name": "Python 3",
   "language": "python",
   "name": "python3"
  }
 },
 "nbformat": 4,
 "nbformat_minor": 0
}
