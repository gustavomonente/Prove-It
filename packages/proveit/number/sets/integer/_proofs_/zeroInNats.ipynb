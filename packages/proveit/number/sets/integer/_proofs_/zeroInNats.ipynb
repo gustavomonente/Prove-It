{
 "cells": [
  {
   "cell_type": "markdown",
   "metadata": {},
   "source": [
    "Proof of <a class=\"ProveItLink\" href=\"../../../../_context_.ipynb\">proveit</a>.<a class=\"ProveItLink\" href=\"../../../_context_.ipynb\">number</a>.<a class=\"ProveItLink\" href=\"../../_context_.ipynb\">sets</a>.<a class=\"ProveItLink\" href=\"../_context_.ipynb\">integer</a>.<a class=\"ProveItLink\" href=\"../_theorems_.ipynb#zeroInNats\">zeroInNats</a> theorem\n",
    "========"
   ]
  },
  {
   "cell_type": "code",
   "execution_count": 1,
   "metadata": {},
   "outputs": [],
   "source": [
    "import proveit\n",
    "from proveit.number import zero\n",
    "from proveit.logic import InSet\n",
    "from proveit.number import Naturals\n",
    "from proveit._common_ import x, n, S\n",
    "from proveit.number.sets.integer._axioms_ import naturalsDef\n",
    "\n",
    "context = proveit.Context('..') # the theorem's context is in the parent directory"
   ]
  },
  {
   "cell_type": "code",
   "execution_count": 2,
   "metadata": {},
   "outputs": [
    {
     "name": "stdout",
     "output_type": "stream",
     "text": [
      "Beginning proof of zeroInNats\n",
      "Recorded 'presuming' information\n"
     ]
    },
    {
     "name": "stdout",
     "output_type": "stream",
     "text": [
      "Presuming theorems in proveit.logic (except any that presume this theorem).\n"
     ]
    },
    {
     "data": {
      "text/html": [
       "<strong id=\"zeroInNats\">zeroInNats:</strong> <a class=\"ProveItLink\" href=\"../__pv_it/5071f98c61b3ccd585aa2b44bab9dc29aa2d218e0/expr.ipynb\"><img src=\"data:image/png;base64,iVBORw0KGgoAAAANSUhEUgAAADMAAAAPBAMAAAC7N+rPAAAAMFBMVEX///9mZma6urpUVFREREQQ\n",
       "EBDc3NwiIiLu7u6qqqoyMjLMzMyYmJiIiIh2dnYAAADXmt2vAAAAAXRSTlMAQObYZgAAAONJREFU\n",
       "GNNjYOC785oBBXR98WpgePpVgYFhJUN7AqqcD7cBA8cHBgaeAAa+BahS5hvuMjAEMDCwGDBw/gCL\n",
       "8LiXV4EZRh7MGxgKGBj4DRiYfoIEuH0boLrMNnOsAEn1CzAw/QXbDpNhMOO8sBkklf+AgRssZQa3\n",
       "y4zhEc8FkJQAA/c/kIADkhRzgzWSgdxRq4AAKsVhwBUAdgYnyBlsyLoY9nGDHO/AwAN2fACyFM8E\n",
       "ByQvy8KlrIH4GciQSobWDSAB9gkwqZVAzAhS3nfXGizAYaIBkdn+FaiDAyXwmJ5AAwoKAGQvOOyD\n",
       "fUpGAAAAAElFTkSuQmCC\n",
       "\" style=\"display:inline;vertical-align:middle;\" /></a><br>(see <a class=\"ProveItLink\" href=\"../__pv_it/5071f98c61b3ccd585aa2b44bab9dc29aa2d218e0/dependencies.ipynb\">dependencies</a>)<br>"
      ],
      "text/plain": [
       "zeroInNats: 0 in Naturals"
      ]
     },
     "execution_count": 2,
     "metadata": {},
     "output_type": "execute_result"
    }
   ],
   "source": [
    "%proving zeroInNats presuming [proveit.logic]"
   ]
  },
  {
   "cell_type": "code",
   "execution_count": 3,
   "metadata": {},
   "outputs": [
    {
     "data": {
      "text/html": [
       "<strong id=\"z\">z:</strong> <a class=\"ProveItLink\" href=\"../../../numeral/__pv_it/bcb6bc33e5975ec2290a3272bf7802d26ab8421d0/expr.ipynb\"><img src=\"data:image/png;base64,iVBORw0KGgoAAAANSUhEUgAAAAoAAAAOBAMAAADkjZCYAAAAMFBMVEX///9mZma6urpUVFREREQQ\n",
       "EBDc3NwiIiLu7u6qqqoyMjLMzMyYmJiIiIh2dnYAAADXmt2vAAAAAXRSTlMAQObYZgAAAFFJREFU\n",
       "CNdjYOC785qBgWElQ3sCA08AA98CBhYDBs4fDPwGDEw/GfoFGJj+MuQ/YOAGkgIM3P+gIkBZzp8M\n",
       "LA4MPD+guhgqGVo3MDD03bVmAABi3RThwIkdoQAAAABJRU5ErkJggg==\n",
       "\" style=\"display:inline;vertical-align:middle;\" /></a><br>\n",
       "<strong id=\"nat\">nat:</strong> <a class=\"ProveItLink\" href=\"../__pv_it/b49c37b99b7e8d73a8d7971bcf454d693b90a2c60/expr.ipynb\"><img src=\"data:image/png;base64,iVBORw0KGgoAAAANSUhEUgAAAA8AAAAOBAMAAAACpFvcAAAAMFBMVEX///9mZmaqqqrc3NyIiIgi\n",
       "IiJUVFTMzMyYmJi6uroQEBB2dnZEREQyMjLu7u4AAAA1o4RqAAAAAXRSTlMAQObYZgAAAGVJREFU\n",
       "CNdjePvn7AOGXb8mMDCcYE9g4PvAwMCQWuDCwLAAyMg8x1bAEABkJJfx3YMwmBzKIAyGnRwOEAbb\n",
       "g3QIgy+BdwGYwVDNDmVwKBwAMtKBeDOIcQmIGS8wMJT+AvL4LjAAADA2HcoIlkTkAAAAAElFTkSu\n",
       "QmCC\n",
       "\" style=\"display:inline;vertical-align:middle;\" /></a><br>"
      ],
      "text/plain": [
       "z: 0\n",
       "nat: Naturals"
      ]
     },
     "execution_count": 3,
     "metadata": {},
     "output_type": "execute_result"
    }
   ],
   "source": [
    "z, nat = zeroInNats.operands"
   ]
  },
  {
   "cell_type": "code",
   "execution_count": 4,
   "metadata": {},
   "outputs": [
    {
     "data": {
      "text/html": [
       "<span style=\"font-size:20px;\"> <a class=\"ProveItLink\" href=\"../_axioms_.ipynb#naturalsDef\" style=\"text-decoration: none\">&#x22A2;&nbsp;</a><a class=\"ProveItLink\" href=\"../__pv_it/2f8ebe7099bcc3d0e37c1a3a498f9bb28202ab910/expr.ipynb\"><img src=\"data:image/png;base64,iVBORw0KGgoAAAANSUhEUgAAAlQAAAAUBAMAAAC5cb5fAAAAMFBMVEX///8QEBCIiIhmZma6urrM\n",
       "zMxUVFQiIiJERETc3Nzu7u6qqqp2dnaYmJgyMjIAAAAcRTyBAAAAAXRSTlMAQObYZgAABpFJREFU\n",
       "WMOdWH1sFEUUf727vY+93ZY/amIMsReaSEIEToigpuqBiV8hepgIJppYUVT8wBoxjWKAEJNeNcaL\n",
       "Rqwm0iVGKA22J40x+MWlXYnSihcFRRE4gpiAsR4EjFJInTcz+zG7s9vDSV579+beb37z2zdvZhbA\n",
       "397jFtTSRZ9rzokQnBCsXfXg1EtNwsv2H1kT0J2qhE/UFVxF32H3D9QNzHxN/atwCrSWZljl6zIb\n",
       "8a9ekeGgabO/8vFoG9NzcQ99U8KnHmqs+XnB0Fh5P/Wb0m6AvgAsO9AJHkX/KfePGovM/C1ZWQYw\n",
       "CDDgl0orYaQhw0H7A7Z5EV8D9XVQq/xb0ZLKz6cuavCRIeOVrEBfjfpNWTdpJ+UjOYFOcA8mofCg\n",
       "fuDmb/HnIxloIDmS8UlFIXpAhkNMnwZaVYyIZkliAwzzr8ctqfx8Qqnt5On21DOGjNd8MnaV+k1Z\n",
       "N+nNykdyAp1gzASaEnZ7gZvTDnZ20onGbzdWQoIQm+aTiibCKMhwiCXbIX2eUevqXEc/DOYBFgNs\n",
       "Yb9VugyO4+cTSm2n9eGo4fCyB1HPAcQy1G8KtJNWaiaEHJUFOsH63v7+t4U618HMaffNsrLqrfYB\n",
       "g0gFv/ml+rW/f3uHDAetqR1iE1SSjdYavZvUtXvJcsox5MUZjuPjE0pNlIrzcgaJXSTf8tRvCrQV\n",
       "K2+FoaSBruB/CoWX3L+PZJktWfVGK+Wv2pUjXtyptKNUI36pmgqFrrIMB20wC7Ez6Bywq9nghTz+\n",
       "09gCGIAOjuPjI4FUZ6xaPCyTivFyBlEn2W4ywmY7Ii5lbK1Elj3vzJgXHOgKXgnQ7Slo1MqFjPov\n",
       "E8iRSst9j1IdobMcpy3LphjPO1kt4KD1lkE5I+5RkclJ/KKzEjbKF6/p5yOB3AE/ZdbJpDri3Qjn\n",
       "Tv5dZH7T6l7YiW191tpcQEtuhMFiYKAr+BZnG2Krt0RNKa2D1DlK0CnrRXgivpx8+MSfVbEs3SuU\n",
       "sdEDAg613iwoF9DpqtcfPnSazC7NsqkDNltSefnAA2Nf5EXIvfCdcYdMKsbLNYj6Y8sVzG96aH/J\n",
       "6uFagPsTVejNBwa6ghMQEY5DDTlqqnoW9Bo6lmLuVLlUW+EY+fCgXyoy29mAE03XBBxq1gJUrkQs\n",
       "K+hmwlahv9YzmJUMx8uHPIPdIjUwoEC/7xsff3Z8/HdHKspLHCQ6wfymh7Z6jFbJZoI2mIOjwYGu\n",
       "YK2SAIlUOOU4FajHnVVKeWmAVN/ScvOi/WzcUpGynp4QTgEalitbqoQBSjvHcfFRP59fwb6khxrA\n",
       "GXlZp7xcRw1SPNUAqTZ9A1wqfBKrgwNdwanqMpAsQIhWoamC4ze4pYJDyPs2V62ypriZTpZUt5J/\n",
       "ASY3gE4PC/Z2vRUHJ+gxugCHrLOgKfA5uKufyFyEtIcaKOfkUlFeziAqYaScZ37T6r6J0eZHz7Xo\n",
       "AbioBga6g7sfISvgxntaPbWzoQy7DdzTovbJDReJ1mOXTzGrkpvweR8zZWXdPoLOsw/XxNrssn6S\n",
       "y0U5IR8YvvaqfIyW3sbpOS/kp5EazAou6/YgaTL3aNlT1lm7y74zAEwnhz4tMNAdPEQerL6o0sD3\n",
       "L9y+0XpzsE/PW8qze0WJPQM6Sa9U6YX44f2WZhBx6HFgLWzJW3lB28IsaJiFlBA95SQMLhXyiRir\n",
       "E7lG9oSvOZ0TIWMTyZp1y7WlmmvYvOxBos8B7AHmNwXa9gGIHAFSZ8lzPBAY6A5uIlnz7kxo4ocK\n",
       "XBJoJOE2HWKL5WXWpay/nN+JTkik4vUj9RiIOHSJ7ZixklF8/E7Wm711wZNUfVQwjlpEMhwH+Sjw\n",
       "J5HdKisdIqS6YlbrYc8CXNByvGLxsgeJxh5+lM7+BEN2aMf5noqzJIipp0uBge5gHYVYAYuCbw9L\n",
       "ujqF/VvtkEn1C7EP6HXad7Fx7Wdf86sDb9uok37McxzKB4ve8kKBnO3yoNbquNi4eXkHQb8p0E6B\n",
       "9GIjC/QFXwZtypTXZXv7ysikwvYZwDLJdTm4DctxyM6oQJyWjRLfHOXU+sN5Of5LvC47gd7gVA3W\n",
       "fOy6SiaLYQiSlzD8/3WgvgIenDAsz2nTxunVqhpomGfRDdBnQH3UBkL8QS9huqeaqDc41g5XV+p7\n",
       "fyaFt6Z4fduIIXu1F9SSRTnO1v3DewFeRaneHLuh3ld73SF+M6C7b6qJhgVP+cJY9z/Xmf/zhfHP\n",
       "oTgRUqsugZpeDPbPWRPQHfbCGCOc4P8AHwaBPmZ6M+0AAAAASUVORK5CYII=\n",
       "\" style=\"display:inline;vertical-align:middle;\" /></a></span>"
      ],
      "text/plain": [
       "|- forall_{n} ((n in Naturals) = [forall_{S} (((0 in S) and [forall_{x in S} ((x + 1) in S)]) => (n in S))])"
      ]
     },
     "execution_count": 4,
     "metadata": {},
     "output_type": "execute_result"
    }
   ],
   "source": [
    "naturalsDef"
   ]
  },
  {
   "cell_type": "code",
   "execution_count": 5,
   "metadata": {},
   "outputs": [
    {
     "data": {
      "text/html": [
       "<strong id=\"spec_natDef\">spec_natDef:</strong> <span style=\"font-size:20px;\"> <a class=\"ProveItLink\" href=\"../__pv_it/408d3b93f1817baf1d258963e948012fe881096b0/proof.ipynb\" style=\"text-decoration: none\">&#x22A2;&nbsp;</a><a class=\"ProveItLink\" href=\"../__pv_it/0a99e0c5fb98d0e6a821f345676cfc27024148480/expr.ipynb\"><img src=\"data:image/png;base64,iVBORw0KGgoAAAANSUhEUgAAAh0AAAAUBAMAAADb3pI1AAAAMFBMVEX///9UVFTMzMx2dna6uroQ\n",
       "EBCqqqqIiIgiIiJmZmYyMjJERETu7u6YmJjc3NwAAAC+aOQFAAAAAXRSTlMAQObYZgAABYNJREFU\n",
       "WMOlWF1oHFUUPtlNN5vdmU0JqRTEsFFEoQ+JNjYkYlnpgz8IFcmTCM6LCj60KX2I0Yp58CfUUlfy\n",
       "YFCiW6FSQwgriA2mPxPBVtNog0WkWuoWfCj+QKQEUYP1njvn3jt375ndVA8cdvbOfN/95pt7z9y5\n",
       "AIUVSIw9TkvbTJG57rdYbpDq+fehUaCqZGV7ktv9Y6WE003EERbOieOBC/ZdLv39aQj3rJVaavXI\n",
       "dCmHP74l1auarKcSkZnc7jtU/QxPLM5R8uHqMp2kS9zp5uIIC3MAucA7bF91MrUZvFXwKq4f6UD8\n",
       "5MJ4Y66m06USZOCd1lQF5QfDE4s5SjcyTwCjy3Qi7ok53VwcYf0ywLcAQ/ZVW4ujAI8KQ10/CsJn\n",
       "+MVqvGjSpYJ20cP3mipXJj8YHhOoyi9bTc9EP4t3rQOjy3SCz3iAoWwqLsJmxXP9CGBv9KB+mJiQ\n",
       "3nadaCnCOMDnrh8wK352WI2HTbpUcF6M0Qc01bZD5AfDYwJVZWucH+CjH0qXPz9xsK4T9CMmO18z\n",
       "Io04BkfYq+Lod4DdgRR7gMDdPd4s+pEruX5cWF7+etyqfeMmXSrYLWrErZqqa1T54fDE4iplkh9E\n",
       "ljoeOp2gHzHZqaoRqcVxOMKOiZnzp2gfwZIzq1i6MyM96Ee67PrRsbAw32e9c8o6GSo4f00WsYjK\n",
       "q2SVHw5PLMYoz+77af8I4wfpWgrdTtCPuOyLWqQWx+IIe1JYdw2gd8Qq293Q748IP3w55IdmMD4k\n",
       "P8RMwkGY2r7jGxqSKzoZKmi7fr0bFFU6kHUU/SAeE4YRVWF6ff5r2QrjR0QG3Uwn6Ed0emoC442y\n",
       "EqnFsTjCvir8EL714pPKg/GjJewUfmTG3fHRWoYlcfQQZFZpsgc6GSqAr7ashYoqC4UK+UE8Jgwj\n",
       "qsJMh+n11hrjB+mqMp2gH5bsZwMSqcWxOMIOx+bL7TgMKpEf3uaceL+kVl0/xDx6URwd0rSbSjoZ\n",
       "Koz3AkX1HUAn+UE8Ms4MTscZUZVUBvmoRYzQV2Zmjmg/IrLU49hLXSeo0JLtHS2BLY7FEXY4qqd7\n",
       "A+vtJ8bQbakkP+7DygL/AASOHwxVGmep9kPcc4/yI+KR9/jJr2GcUfkB0DHC1tOIrFBlOnH8uLJT\n",
       "iVTiWBxhcWQuAPyIFWZT3A8/EKjWcVM/jig/fhaLNYCj/frlaOYLQ7Uosjckqkw5WrlJPyRPeuyO\n",
       "TjFTwGJU80Ugi6wfkS5cITmdoMLo9NtS9sycFqnEsTjCYuVS65R2/TBwTO+s6rplj4/8FRyAXz45\n",
       "DE49ZaieEjmpSiB6kSmTH5LnQEvlZYh6MYyqnmbCl6AtTK6nbzGdmHoaxcNGpF6PcTjCDkrvvMf0\n",
       "Y5HxAd6SuKa9j/EjMxW90beqtrJJl2pKvMZwPEmqbTRnpB+Sp5hbAY9ej5pRqhrE1cJp/Rmm/Ghb\n",
       "B60rG7idoMKYbPXit8RxOMI+iJiBfdGwXPw4ehh3rlWjBX2uyPgBf4j8TEw8aqPBJtOhgvL9b94k\n",
       "F+rY3oVHo+SH5IGOGqReX1g4HmeUqkQujp6dXrH9aN/y17TW5d38iNOJXI8Z2S1FI1KL43CEtVfF\n",
       "u+YnrBnyBXB+XBL5tCqM9nq9CZVcN6aUH5dkhYAi4COyGBus1y1drffSutu0o8KY7EJcpA4GR1i/\n",
       "3GgbYoD1A+Md8E4w33MbpqLaWVgdgj64u56R+Z5bbqjLtDf4nmssjrCnGlzGfe/TwbuTg2H8m0nl\n",
       "RqnID++WXftDyAd1jFLVqRvQZdqTvvebiSNsg10XjiNdSthqUblRqn7r3wuiftzAflDSveWjPZ18\n",
       "0n5QIz7CNtwvvOzuFx78j/uF9VTP/Z/9wsvJ7W3HSgmnm4iLsP8Ckk8tjgJXXKsAAAAASUVORK5C\n",
       "YII=\n",
       "\" style=\"display:inline;vertical-align:middle;\" /></a></span><br>"
      ],
      "text/plain": [
       "spec_natDef: |- (0 in Naturals) = [forall_{S} (((0 in S) and [forall_{x in S} ((x + 1) in S)]) => (0 in S))]"
      ]
     },
     "execution_count": 5,
     "metadata": {},
     "output_type": "execute_result"
    }
   ],
   "source": [
    "spec_natDef = naturalsDef.specialize({n:z})"
   ]
  },
  {
   "cell_type": "code",
   "execution_count": 6,
   "metadata": {},
   "outputs": [
    {
     "data": {
      "text/html": [
       "<span style=\"font-size:20px;\"> <a class=\"ProveItLink\" href=\"../__pv_it/800f668b734ee8ead57cc4cd67c566e2a658ce9b0/proof.ipynb\" style=\"text-decoration: none\">&#x22A2;&nbsp;</a><a class=\"ProveItLink\" href=\"../__pv_it/e4418973e1fce7e7a50303cd50eec81577fe05f20/expr.ipynb\"><img src=\"data:image/png;base64,iVBORw0KGgoAAAANSUhEUgAAAYAAAAAUBAMAAAB2afdtAAAAMFBMVEX///9UVFTMzMx2dna6uroQ\n",
       "EBCqqqqIiIgiIiJmZmYyMjJERETu7u6YmJjc3NwAAAC+aOQFAAAAAXRSTlMAQObYZgAABHFJREFU\n",
       "SMelV11oXEUU/vbedX+yd9OY+oMKddUXwQejuXSJBlyfUkG0YJ9EaEDEBrSuT7Wl0gVrqX2QrUW0\n",
       "ILgGKXTRkictLI23lELdpCRCH2yken2rimRtaYJYjTNnzv3dmS3igbOzc86ce75vZs7cucDwMkgN\n",
       "sjvV3zeLgfI7q1Zyvtm+ctDgHgCOAhaU2m8/3uc+Nl6uZVIPddGSzRXDI505pQbZ0m+aGR+7RHZX\n",
       "6zaBi+JOKT2BC2n+Z+B8A6fFPT8gsFU2XxgQDvlKNfKKB3T7rKVlLPTI7urcRnBhXLlJWt4Ou5Uc\n",
       "UhSeFaDK3ZMBgd/kspom+TJrJK/y0my+XxCw6+mA4yJ9i+yuzm0CF8UVBDWhpRHkbqqA04eP0J+l\n",
       "CjAFnFcB1mmPCQxJINMGAu+z9hEAfhJxznYkkzjXgGyd7G7kljLPrR5cFHdV9IRuGkF2jYB+7XHk\n",
       "86J4HhQboka9zFSdCZQnFxevGvAPN5SaCOBzJJNk/xa9Ctnd0E3yCLd6cFHcXtETutREdl16usEQ\n",
       "LF2vyMZuUq+LBhPAX53OOwYC+aZSZ8+WqaqOwASSSZwNVZ4TisBEYuuQ6MFFcWeoWrE6Bms9eU7k\n",
       "NzZkp6x231ZVvDLNaLS+Sh4af70SlhbpOXxfP6IjsJI+jA5s/OEruxu4i4dJ/gyOEh24KO6Q+BW6\n",
       "2oR1XTpi1XnxzhsiZ07NfAO/BgSeiY4mtZxNvBFs2Gmlk3jKe05HYBdSSZzvdr6k7G7o5lP8BDUG\n",
       "cGHcDvG7I1ol68W2kGDUpwKL1aMFrSNTYQIF5IN3i/Py8WUUPJS4f1tNqYcO9Z9ot99ttz+LCDyK\n",
       "viTFNWV3A3cgXYnNDI7jmICok9xa4ny0ZRmEBARIa4QJ2MuFYNAPuxdFrI9cigCwri9iQhg7hMfE\n",
       "JBgIDG/2YQIXi+MtVJpDmU6q8CA7K90iZ5a20Ay/8mSa4dYD4k/1gzcrWSq0oRdqSG0hWNf0BLYh\n",
       "kcQRk2LdVHY3cBfbSvxgC/WDi8VxEYfvio/CF6fQY2ERn2ISlGb+DlHi3r2F2pB62oc3akgW8Wv5\n",
       "HvabizhMkhOQimOpIubKaoVF3A8uFjfBh9chnK8Ec0jycRO23DQ0zppT20ilmRGLYuFL4Fse+3Nw\n",
       "9MszV2h2rdQL7mAhgQMeT0ksSfE94DEouxu6E0etFlwsbhsv3Lk9o2o673tWjWk+ffQu2iAyNCOn\n",
       "OF9nApvonfYP8HCn06k7FTi9YNoapM7d+/deSW2hoztPCkqzySTF7D23E6hZ9eTYVXeUWy24WBxf\n",
       "JWJL9yS/rVkukJH+VphAWU6O1bOQoeWc5vq+xVWCEDT0SaTdjdyxy+NgcCKAL3Nmqaav00pW7ZYN\n",
       "W1IqzmHBM1/mFuMd3W0tsJsvc2aRAfNIv1iTF/yWnsDZS9VJ4CtJ4JfxT6Jbrq/UIN0BdtN1egA4\n",
       "CuAPGpOUfD0Bvm6IGvgvHzTzA+yuwT0AHAXc4pPyx1T/rf/zSVn2zfZ9Bw3uAeBEwL9hrJAHZlHD\n",
       "yAAAAABJRU5ErkJggg==\n",
       "\" style=\"display:inline;vertical-align:middle;\" /></a></span>"
      ],
      "text/plain": [
       "|- ((0 in S) and [forall_{x in S} ((x + 1) in S)]) => (0 in S)"
      ]
     },
     "execution_count": 6,
     "metadata": {},
     "output_type": "execute_result"
    }
   ],
   "source": [
    "spec_natDef.rhs.instanceExpr.prove()"
   ]
  },
  {
   "cell_type": "code",
   "execution_count": 7,
   "metadata": {},
   "outputs": [
    {
     "data": {
      "text/html": [
       "<strong id=\"rhsProve\">rhsProve:</strong> <span style=\"font-size:20px;\"> <a class=\"ProveItLink\" href=\"../__pv_it/97fbcdd2cdbcb6404a53f62567768440c501c3360/proof.ipynb\" style=\"text-decoration: none\">&#x22A2;&nbsp;</a><a class=\"ProveItLink\" href=\"../__pv_it/41334fbf01278c71527a25967819a593e71e844b0/expr.ipynb\"><img src=\"data:image/png;base64,iVBORw0KGgoAAAANSUhEUgAAAbUAAAAUBAMAAAD4s74RAAAAMFBMVEX///8QEBCIiIhmZma6urrM\n",
       "zMxUVFQiIiJERETc3Nzu7u6qqqp2dnaYmJgyMjIAAAAcRTyBAAAAAXRSTlMAQObYZgAABSBJREFU\n",
       "WMOlWG9oXEUQ//X+5O7evXfxQ/0iYo8UipRKTwSjkuphwX4p5hSUfBCSYqsUEYIK8R8aROxFkR4o\n",
       "aRGUa8U0RkxP+kFEtCHRgiaW+BcrtV5BCfrhSBWL1mrcmd197+3d7qk4MO/uzbyZnd/s7LzdB3RS\n",
       "blkyXoaL8jXzPtGqoBuFLq30jlserJQdandwbEDcpJtvDdW0Ym8cmD/dEfSxpbkvsNeU+eUC/QSu\n",
       "8LVLO/XUOpM3sBSUSe6XbWpncKEd8SJJfjL0Pyou1FBoeI+0WWeXMb2KWT0hGpvfIIu6I3rt0lIB\n",
       "l4k4mx3i5+HtZ7nAZlG7govsiA9SgONxdVCSjM+BT4GTbdbXCG0TflENUVLY2MdBB7TQZQRJ2U+d\n",
       "uCCu8+0GSfHwGZYLbJ1qZ3CRHTGlmnMeUqYmGSIpzwDH5Vx8PTbG6fN+BVJFeJfIh4ceVdh47hcd\n",
       "2EKXHdgQELZD6kYPgqOi2G5mOWE7FKsa7cUaXMyOOPh4ZuaAEcgBxblR4DwwyMCHNitt6k8gLTx8\n",
       "L29392lsp2dmXh91YNMuXdgKZRiDYFAs3DtYTtiUmiitSsweXMyO+bdq9XFj2I2KEyV4v4jHKQov\n",
       "XJHe2of8uyDvmhmNrbda3TfnwKZdHt704paiBZvP9RoNgqMXuUsIOWHzS0YtwhlczI55DzAhbu9a\n",
       "eq+il6Nk0TRyF4HhotnJtq6dp5szElND1jN1s0pUMDLFS4tfwnDpzQUPZJoWbEGzrV0m1tb2Sjlh\n",
       "k+r+MaInS7qj2YKL7Ji3c0tJlXBc6R9TnGkgJ1IzTJORjTXfrzaI1oa35UJCrqmwCQ+zxmRtR37V\n",
       "dOnX/QupmgVbnos5Ngje3HWuznLClo/X+vucTEdwkR1zBglRpJl6+Mh6xevK0bTf1hKkW3HyD3EZ\n",
       "5r+f8bzLFT+Kq/QIbyxsA0SXGTddesiyxG+1Vq5otUZCbGlOgjEIbmqwnDynV+MvtrPlbsFpO2Z/\n",
       "mZZMbw35Tmy0XI83jOYuEuVF2ET8d2psn0CnN3juJZG834FGm0v0Fq29RAYfDeLT0nFgm/wIzuBi\n",
       "dsy5JkVXuDzsRbGaRBX4jtrsujBrItlpCmcHR1jil6jE9kpa6PyNt+8R1Uh09gO0u8RwxYotxVkJ\n",
       "B8EUPVpnOXmW6htbTHILYA0ubieNJnZTzFefK6Ojl4Svx2SYb/FeS87pXkK4CB9HkJ0Ul809zYfk\n",
       "Pg6vblgP02W+vhWJurOXhIPgLcED7b1E0q3h7qgzuLidNDomS2lSV9SCYmqimYZ3aZh59vMgcALK\n",
       "BYZUXcoV3y/+VArL8FTLzt0L0+VgY7/e4obYEoQtOWcMgn7R+0eknDwno3eL7vfW4OJ20ojWgFeB\n",
       "p4t6h2KaVG9+k6yiqadlvpOpu+/hVfQDv7np0qew4WfIhZt+uFp9Cq+J0ofpcqrv8LZlE1ty11+i\n",
       "7RTMQVC65dr7uC4q8t0dbYl71F9rcHE7aRRQ02wgPWLZc0W0c99YfMvq8SxzGac1tm94RaEC9vSu\n",
       "ajP/sOdiOmIfhOTk+UjssIRoz+UMjg1Co+Q4puuWvbKT/GLbGUcNvXpSdFLeuVwH71n3XtkzTgzz\n",
       "jlG675XdNB/3mXxh6YZQM6E4W3Nbz8KKzbt/5xbxpqSqvX5god7h0k7WQ4ySu8443YLTZ5wuB0lv\n",
       "3G0+Ycem6Eqx3v7D2dQVZ1aeTbOus2k3fw6f/+KbQtD+TeGJ//NN4ZRbnlgpO9Rdvimckvw32dvK\n",
       "tVWkJfEAAAAASUVORK5CYII=\n",
       "\" style=\"display:inline;vertical-align:middle;\" /></a></span><br>"
      ],
      "text/plain": [
       "rhsProve: |- forall_{S} (((0 in S) and [forall_{x in S} ((x + 1) in S)]) => (0 in S))"
      ]
     },
     "execution_count": 7,
     "metadata": {},
     "output_type": "execute_result"
    }
   ],
   "source": [
    "rhsProve = spec_natDef.rhs.prove()"
   ]
  },
  {
   "cell_type": "code",
   "execution_count": 8,
   "metadata": {},
   "outputs": [
    {
     "name": "stdout",
     "output_type": "stream",
     "text": [
      "zeroInNats has been proven.  Now simply execute \"%qed\".\n"
     ]
    },
    {
     "data": {
      "text/html": [
       "<span style=\"font-size:20px;\"> <a class=\"ProveItLink\" href=\"../__pv_it/2c2fccc919508b95a3429b01cca14b355292a23d0/proof.ipynb\" style=\"text-decoration: none\">&#x22A2;&nbsp;</a><a class=\"ProveItLink\" href=\"../__pv_it/5071f98c61b3ccd585aa2b44bab9dc29aa2d218e0/expr.ipynb\"><img src=\"data:image/png;base64,iVBORw0KGgoAAAANSUhEUgAAADMAAAAPBAMAAAC7N+rPAAAAMFBMVEX///9mZma6urpUVFREREQQ\n",
       "EBDc3NwiIiLu7u6qqqoyMjLMzMyYmJiIiIh2dnYAAADXmt2vAAAAAXRSTlMAQObYZgAAAONJREFU\n",
       "GNNjYOC785oBBXR98WpgePpVgYFhJUN7AqqcD7cBA8cHBgaeAAa+BahS5hvuMjAEMDCwGDBw/gCL\n",
       "8LiXV4EZRh7MGxgKGBj4DRiYfoIEuH0boLrMNnOsAEn1CzAw/QXbDpNhMOO8sBkklf+AgRssZQa3\n",
       "y4zhEc8FkJQAA/c/kIADkhRzgzWSgdxRq4AAKsVhwBUAdgYnyBlsyLoY9nGDHO/AwAN2fACyFM8E\n",
       "ByQvy8KlrIH4GciQSobWDSAB9gkwqZVAzAhS3nfXGizAYaIBkdn+FaiDAyXwmJ5AAwoKAGQvOOyD\n",
       "fUpGAAAAAElFTkSuQmCC\n",
       "\" style=\"display:inline;vertical-align:middle;\" /></a></span>"
      ],
      "text/plain": [
       "|- 0 in Naturals"
      ]
     },
     "execution_count": 8,
     "metadata": {},
     "output_type": "execute_result"
    }
   ],
   "source": [
    "spec_natDef.deriveLeftViaEquivalence()"
   ]
  },
  {
   "cell_type": "code",
   "execution_count": 9,
   "metadata": {},
   "outputs": [
    {
     "data": {
      "text/html": [
       "<table><tr><th>&nbsp;</th><th>step type</th><th>requirements</th><th>statement</th></tr>\n",
       "<tr><td><a name=\"0xbb0151ae036c5c5_step0\">0</a></td><td>instantiation</td><td><a href=\"#0xbb0151ae036c5c5_step1\">1</a>, <a href=\"#0xbb0151ae036c5c5_step2\">2</a>, <a href=\"#0xbb0151ae036c5c5_step3\">3</a></td><td><span style=\"font-size:20px;\"> <a class=\"ProveItLink\" href=\"../__pv_it/2c2fccc919508b95a3429b01cca14b355292a23d0/proof.ipynb\" style=\"text-decoration: none\">&#x22A2;&nbsp;</a><a class=\"ProveItLink\" href=\"../__pv_it/5071f98c61b3ccd585aa2b44bab9dc29aa2d218e0/expr.ipynb\"><img src=\"data:image/png;base64,iVBORw0KGgoAAAANSUhEUgAAADMAAAAPBAMAAAC7N+rPAAAAMFBMVEX///9mZma6urpUVFREREQQ\n",
       "EBDc3NwiIiLu7u6qqqoyMjLMzMyYmJiIiIh2dnYAAADXmt2vAAAAAXRSTlMAQObYZgAAAONJREFU\n",
       "GNNjYOC785oBBXR98WpgePpVgYFhJUN7AqqcD7cBA8cHBgaeAAa+BahS5hvuMjAEMDCwGDBw/gCL\n",
       "8LiXV4EZRh7MGxgKGBj4DRiYfoIEuH0boLrMNnOsAEn1CzAw/QXbDpNhMOO8sBkklf+AgRssZQa3\n",
       "y4zhEc8FkJQAA/c/kIADkhRzgzWSgdxRq4AAKsVhwBUAdgYnyBlsyLoY9nGDHO/AwAN2fACyFM8E\n",
       "ByQvy8KlrIH4GciQSobWDSAB9gkwqZVAzAhS3nfXGizAYaIBkdn+FaiDAyXwmJ5AAwoKAGQvOOyD\n",
       "fUpGAAAAAElFTkSuQmCC\n",
       "\" style=\"display:inline;vertical-align:middle;\" /></a></span></td></tr>\n",
       "<tr><td>&nbsp;</td><td colspan=4 style=\"text-align:left\"><span style=\"font-size:20px;\"><a class=\"ProveItLink\" href=\"../../../../__pv_it/390c91a44e60b16c95d2255652741252e8ec8d980/expr.ipynb\"><img src=\"data:image/png;base64,iVBORw0KGgoAAAANSUhEUgAAABAAAAAOBAMAAADUAYG5AAAAMFBMVEX///8iIiLc3Ny6urqIiIiq\n",
       "qqp2dnbMzMwQEBDu7u5mZmYyMjJERERUVFSYmJgAAAA4CJ/KAAAAAXRSTlMAQObYZgAAAF5JREFU\n",
       "CNdjYGB4+//s3V0TGIDgNwMDTyeQZv/GwMD6Bchg+QzEQA4DzwcGBl4gh4F/AwOD/gIgoz6BgVUM\n",
       "pMn/WtoSsO7zYBIIPkJp9l9QBsgYMOD+CaG59v91ANEANtEY7WfmSIAAAAAASUVORK5CYII=\n",
       "\" style=\"display:inline;vertical-align:middle;\" /></a> : <a class=\"ProveItLink\" href=\"../__pv_it/5071f98c61b3ccd585aa2b44bab9dc29aa2d218e0/expr.ipynb\"><img src=\"data:image/png;base64,iVBORw0KGgoAAAANSUhEUgAAADMAAAAPBAMAAAC7N+rPAAAAMFBMVEX///9mZma6urpUVFREREQQ\n",
       "EBDc3NwiIiLu7u6qqqoyMjLMzMyYmJiIiIh2dnYAAADXmt2vAAAAAXRSTlMAQObYZgAAAONJREFU\n",
       "GNNjYOC785oBBXR98WpgePpVgYFhJUN7AqqcD7cBA8cHBgaeAAa+BahS5hvuMjAEMDCwGDBw/gCL\n",
       "8LiXV4EZRh7MGxgKGBj4DRiYfoIEuH0boLrMNnOsAEn1CzAw/QXbDpNhMOO8sBkklf+AgRssZQa3\n",
       "y4zhEc8FkJQAA/c/kIADkhRzgzWSgdxRq4AAKsVhwBUAdgYnyBlsyLoY9nGDHO/AwAN2fACyFM8E\n",
       "ByQvy8KlrIH4GciQSobWDSAB9gkwqZVAzAhS3nfXGizAYaIBkdn+FaiDAyXwmJ5AAwoKAGQvOOyD\n",
       "fUpGAAAAAElFTkSuQmCC\n",
       "\" style=\"display:inline;vertical-align:middle;\" /></a>, <a class=\"ProveItLink\" href=\"../../../../__pv_it/dbe7145e53d9411a5ba89652cbfea9d54e4b581a0/expr.ipynb\"><img src=\"data:image/png;base64,iVBORw0KGgoAAAANSUhEUgAAAA8AAAASBAMAAAB2sJk8AAAAMFBMVEX///+qqqq6urrc3NwQEBAy\n",
       "MjJERERUVFTMzMwiIiKYmJh2dnZmZmaIiIju7u4AAABsX1SbAAAAAXRSTlMAQObYZgAAAINJREFU\n",
       "CNdjYGDgu7P7FAMI7GxgYE8A0k8DgILeQEbIAyBRz8DA/Qskvd+AwX4CiHFegWH/BRAjv4FhfgOI\n",
       "8R+IQGoZvzMwTAEJcP5jYCgBMe4DFfY/eHuD4w+Qw3thAff6DSDhvuqbyQxgrQzsDVwGYAbbATUw\n",
       "zcDz/weEwTFFgIEBAOxlJHQBUmidAAAAAElFTkSuQmCC\n",
       "\" style=\"display:inline;vertical-align:middle;\" /></a> : <a class=\"ProveItLink\" href=\"../__pv_it/41334fbf01278c71527a25967819a593e71e844b0/expr.ipynb\"><img src=\"data:image/png;base64,iVBORw0KGgoAAAANSUhEUgAAAbUAAAAUBAMAAAD4s74RAAAAMFBMVEX///8QEBCIiIhmZma6urrM\n",
       "zMxUVFQiIiJERETc3Nzu7u6qqqp2dnaYmJgyMjIAAAAcRTyBAAAAAXRSTlMAQObYZgAABSBJREFU\n",
       "WMOlWG9oXEUQ//X+5O7evXfxQ/0iYo8UipRKTwSjkuphwX4p5hSUfBCSYqsUEYIK8R8aROxFkR4o\n",
       "aRGUa8U0RkxP+kFEtCHRgiaW+BcrtV5BCfrhSBWL1mrcmd197+3d7qk4MO/uzbyZnd/s7LzdB3RS\n",
       "blkyXoaL8jXzPtGqoBuFLq30jlserJQdandwbEDcpJtvDdW0Ym8cmD/dEfSxpbkvsNeU+eUC/QSu\n",
       "8LVLO/XUOpM3sBSUSe6XbWpncKEd8SJJfjL0Pyou1FBoeI+0WWeXMb2KWT0hGpvfIIu6I3rt0lIB\n",
       "l4k4mx3i5+HtZ7nAZlG7govsiA9SgONxdVCSjM+BT4GTbdbXCG0TflENUVLY2MdBB7TQZQRJ2U+d\n",
       "uCCu8+0GSfHwGZYLbJ1qZ3CRHTGlmnMeUqYmGSIpzwDH5Vx8PTbG6fN+BVJFeJfIh4ceVdh47hcd\n",
       "2EKXHdgQELZD6kYPgqOi2G5mOWE7FKsa7cUaXMyOOPh4ZuaAEcgBxblR4DwwyMCHNitt6k8gLTx8\n",
       "L29392lsp2dmXh91YNMuXdgKZRiDYFAs3DtYTtiUmiitSsweXMyO+bdq9XFj2I2KEyV4v4jHKQov\n",
       "XJHe2of8uyDvmhmNrbda3TfnwKZdHt704paiBZvP9RoNgqMXuUsIOWHzS0YtwhlczI55DzAhbu9a\n",
       "eq+il6Nk0TRyF4HhotnJtq6dp5szElND1jN1s0pUMDLFS4tfwnDpzQUPZJoWbEGzrV0m1tb2Sjlh\n",
       "k+r+MaInS7qj2YKL7Ji3c0tJlXBc6R9TnGkgJ1IzTJORjTXfrzaI1oa35UJCrqmwCQ+zxmRtR37V\n",
       "dOnX/QupmgVbnos5Ngje3HWuznLClo/X+vucTEdwkR1zBglRpJl6+Mh6xevK0bTf1hKkW3HyD3EZ\n",
       "5r+f8bzLFT+Kq/QIbyxsA0SXGTddesiyxG+1Vq5otUZCbGlOgjEIbmqwnDynV+MvtrPlbsFpO2Z/\n",
       "mZZMbw35Tmy0XI83jOYuEuVF2ET8d2psn0CnN3juJZG834FGm0v0Fq29RAYfDeLT0nFgm/wIzuBi\n",
       "dsy5JkVXuDzsRbGaRBX4jtrsujBrItlpCmcHR1jil6jE9kpa6PyNt+8R1Uh09gO0u8RwxYotxVkJ\n",
       "B8EUPVpnOXmW6htbTHILYA0ubieNJnZTzFefK6Ojl4Svx2SYb/FeS87pXkK4CB9HkJ0Ul809zYfk\n",
       "Pg6vblgP02W+vhWJurOXhIPgLcED7b1E0q3h7qgzuLidNDomS2lSV9SCYmqimYZ3aZh59vMgcALK\n",
       "BYZUXcoV3y/+VArL8FTLzt0L0+VgY7/e4obYEoQtOWcMgn7R+0eknDwno3eL7vfW4OJ20ojWgFeB\n",
       "p4t6h2KaVG9+k6yiqadlvpOpu+/hVfQDv7np0qew4WfIhZt+uFp9Cq+J0ofpcqrv8LZlE1ty11+i\n",
       "7RTMQVC65dr7uC4q8t0dbYl71F9rcHE7aRRQ02wgPWLZc0W0c99YfMvq8SxzGac1tm94RaEC9vSu\n",
       "ajP/sOdiOmIfhOTk+UjssIRoz+UMjg1Co+Q4puuWvbKT/GLbGUcNvXpSdFLeuVwH71n3XtkzTgzz\n",
       "jlG675XdNB/3mXxh6YZQM6E4W3Nbz8KKzbt/5xbxpqSqvX5god7h0k7WQ4ySu8443YLTZ5wuB0lv\n",
       "3G0+Ycem6Eqx3v7D2dQVZ1aeTbOus2k3fw6f/+KbQtD+TeGJ//NN4ZRbnlgpO9Rdvimckvw32dvK\n",
       "tVWkJfEAAAAASUVORK5CYII=\n",
       "\" style=\"display:inline;vertical-align:middle;\" /></a></span></td></tr><tr><td><a name=\"0xbb0151ae036c5c5_step1\">1</a></td><td>theorem</td><td></td><td><span style=\"font-size:20px;\"> <a class=\"ProveItLink\" href=\"../../../../logic/equality/_proofs_/lhsViaEquivalence.ipynb\" style=\"text-decoration: none\">&#x22A2;&nbsp;</a><a class=\"ProveItLink\" href=\"../../../../logic/equality/__pv_it/3f73c1fc8149f4b222a4b5295f94ca10e2179f020/expr.ipynb\"><img src=\"data:image/png;base64,iVBORw0KGgoAAAANSUhEUgAAAIwAAAAWBAMAAADgE2koAAAAMFBMVEX///8QEBCIiIhmZma6urrM\n",
       "zMxUVFQiIiJERETc3Nzu7u6qqqp2dnaYmJgyMjIAAAAcRTyBAAAAAXRSTlMAQObYZgAAAeBJREFU\n",
       "OMutVD0sQ1EYPfr/qyIWLMRgEcRUpiYWmzBYvYEO0sEsJBIJJRHdWFBrF01MXURISGjkWSwiaSIx\n",
       "SGiD+G3w3ff3XdWB1pe8d79z7rnnvXu/ey/wP5ETr8vKx59/zkevkjgR+U0V//EBeJqwRpl3tnIX\n",
       "ZxHw36M2CQTSldvYHukpInicSq1WMSdPAXCR1Us8Pl2FTYhqtNkNjAOLgGMlFp4QdFu2T+t2GDIT\n",
       "DzwdzCetwSYLjO7BL36jHz5R9DPgiJqNCIY0tUdXWThYh8Ck6WKxQFcs2yNSN2wqNVFiqGaNgF1h\n",
       "G8YuBbaC4cIssGLYBVS3aGaAOHmq2nctG8aUecx9wSzwbFrnRujte4VtCmgVJSywDePtBNrNtWEW\n",
       "zgdzootjYkWLHWI/X9Njz7EN48H9bBquOMWyxGrbRo8dsXIBnaUtiZo9tmF8KhWZWdS+WZVvEaO6\n",
       "tbxer5llw3hOsmHWnn9qMcigmHJIPw9R34W3QbJh/K6V647iVmJLYzRBi72EreHgbkSy0TF1OF8l\n",
       "MatKD1i+l1a9Gb7woeKVbHRMHZ0PCVazqmz4RQWVdcnGwP4f14OhKhsZsY0+mr7ZaDhTqjRVZUMc\n",
       "CixEvtloWP0hXYj87gKw/+m6+AIRhIj+rToaNQAAAABJRU5ErkJggg==\n",
       "\" style=\"display:inline;vertical-align:middle;\" /></a></span></td></tr>\n",
       "<tr><td>&nbsp;</td><td colspan=4 style-\"text-align:left\"><a class=\"ProveItLink\" href=\"../../../../logic/equality/_proofs_/lhsViaEquivalence.ipynb\">proveit.logic.equality.lhsViaEquivalence</a></td></tr><tr><td><a name=\"0xbb0151ae036c5c5_step2\">2</a></td><td>generalizaton</td><td><a href=\"#0xbb0151ae036c5c5_step4\">4</a></td><td><span style=\"font-size:20px;\"> <a class=\"ProveItLink\" href=\"../__pv_it/97fbcdd2cdbcb6404a53f62567768440c501c3360/proof.ipynb\" style=\"text-decoration: none\">&#x22A2;&nbsp;</a><a class=\"ProveItLink\" href=\"../__pv_it/41334fbf01278c71527a25967819a593e71e844b0/expr.ipynb\"><img src=\"data:image/png;base64,iVBORw0KGgoAAAANSUhEUgAAAbUAAAAUBAMAAAD4s74RAAAAMFBMVEX///8QEBCIiIhmZma6urrM\n",
       "zMxUVFQiIiJERETc3Nzu7u6qqqp2dnaYmJgyMjIAAAAcRTyBAAAAAXRSTlMAQObYZgAABSBJREFU\n",
       "WMOlWG9oXEUQ//X+5O7evXfxQ/0iYo8UipRKTwSjkuphwX4p5hSUfBCSYqsUEYIK8R8aROxFkR4o\n",
       "aRGUa8U0RkxP+kFEtCHRgiaW+BcrtV5BCfrhSBWL1mrcmd197+3d7qk4MO/uzbyZnd/s7LzdB3RS\n",
       "blkyXoaL8jXzPtGqoBuFLq30jlserJQdandwbEDcpJtvDdW0Ym8cmD/dEfSxpbkvsNeU+eUC/QSu\n",
       "8LVLO/XUOpM3sBSUSe6XbWpncKEd8SJJfjL0Pyou1FBoeI+0WWeXMb2KWT0hGpvfIIu6I3rt0lIB\n",
       "l4k4mx3i5+HtZ7nAZlG7govsiA9SgONxdVCSjM+BT4GTbdbXCG0TflENUVLY2MdBB7TQZQRJ2U+d\n",
       "uCCu8+0GSfHwGZYLbJ1qZ3CRHTGlmnMeUqYmGSIpzwDH5Vx8PTbG6fN+BVJFeJfIh4ceVdh47hcd\n",
       "2EKXHdgQELZD6kYPgqOi2G5mOWE7FKsa7cUaXMyOOPh4ZuaAEcgBxblR4DwwyMCHNitt6k8gLTx8\n",
       "L29392lsp2dmXh91YNMuXdgKZRiDYFAs3DtYTtiUmiitSsweXMyO+bdq9XFj2I2KEyV4v4jHKQov\n",
       "XJHe2of8uyDvmhmNrbda3TfnwKZdHt704paiBZvP9RoNgqMXuUsIOWHzS0YtwhlczI55DzAhbu9a\n",
       "eq+il6Nk0TRyF4HhotnJtq6dp5szElND1jN1s0pUMDLFS4tfwnDpzQUPZJoWbEGzrV0m1tb2Sjlh\n",
       "k+r+MaInS7qj2YKL7Ji3c0tJlXBc6R9TnGkgJ1IzTJORjTXfrzaI1oa35UJCrqmwCQ+zxmRtR37V\n",
       "dOnX/QupmgVbnos5Ngje3HWuznLClo/X+vucTEdwkR1zBglRpJl6+Mh6xevK0bTf1hKkW3HyD3EZ\n",
       "5r+f8bzLFT+Kq/QIbyxsA0SXGTddesiyxG+1Vq5otUZCbGlOgjEIbmqwnDynV+MvtrPlbsFpO2Z/\n",
       "mZZMbw35Tmy0XI83jOYuEuVF2ET8d2psn0CnN3juJZG834FGm0v0Fq29RAYfDeLT0nFgm/wIzuBi\n",
       "dsy5JkVXuDzsRbGaRBX4jtrsujBrItlpCmcHR1jil6jE9kpa6PyNt+8R1Uh09gO0u8RwxYotxVkJ\n",
       "B8EUPVpnOXmW6htbTHILYA0ubieNJnZTzFefK6Ojl4Svx2SYb/FeS87pXkK4CB9HkJ0Ul809zYfk\n",
       "Pg6vblgP02W+vhWJurOXhIPgLcED7b1E0q3h7qgzuLidNDomS2lSV9SCYmqimYZ3aZh59vMgcALK\n",
       "BYZUXcoV3y/+VArL8FTLzt0L0+VgY7/e4obYEoQtOWcMgn7R+0eknDwno3eL7vfW4OJ20ojWgFeB\n",
       "p4t6h2KaVG9+k6yiqadlvpOpu+/hVfQDv7np0qew4WfIhZt+uFp9Cq+J0ofpcqrv8LZlE1ty11+i\n",
       "7RTMQVC65dr7uC4q8t0dbYl71F9rcHE7aRRQ02wgPWLZc0W0c99YfMvq8SxzGac1tm94RaEC9vSu\n",
       "ajP/sOdiOmIfhOTk+UjssIRoz+UMjg1Co+Q4puuWvbKT/GLbGUcNvXpSdFLeuVwH71n3XtkzTgzz\n",
       "jlG675XdNB/3mXxh6YZQM6E4W3Nbz8KKzbt/5xbxpqSqvX5god7h0k7WQ4ySu8443YLTZ5wuB0lv\n",
       "3G0+Ycem6Eqx3v7D2dQVZ1aeTbOus2k3fw6f/+KbQtD+TeGJ//NN4ZRbnlgpO9Rdvimckvw32dvK\n",
       "tVWkJfEAAAAASUVORK5CYII=\n",
       "\" style=\"display:inline;vertical-align:middle;\" /></a></span></td></tr>\n",
       "<tr><td><a name=\"0xbb0151ae036c5c5_step3\">3</a></td><td>instantiation</td><td><a href=\"#0xbb0151ae036c5c5_step5\">5</a></td><td><span style=\"font-size:20px;\"> <a class=\"ProveItLink\" href=\"../__pv_it/408d3b93f1817baf1d258963e948012fe881096b0/proof.ipynb\" style=\"text-decoration: none\">&#x22A2;&nbsp;</a><a class=\"ProveItLink\" href=\"../__pv_it/0a99e0c5fb98d0e6a821f345676cfc27024148480/expr.ipynb\"><img src=\"data:image/png;base64,iVBORw0KGgoAAAANSUhEUgAAAh0AAAAUBAMAAADb3pI1AAAAMFBMVEX///9UVFTMzMx2dna6uroQ\n",
       "EBCqqqqIiIgiIiJmZmYyMjJERETu7u6YmJjc3NwAAAC+aOQFAAAAAXRSTlMAQObYZgAABYNJREFU\n",
       "WMOlWF1oHFUUPtlNN5vdmU0JqRTEsFFEoQ+JNjYkYlnpgz8IFcmTCM6LCj60KX2I0Yp58CfUUlfy\n",
       "YFCiW6FSQwgriA2mPxPBVtNog0WkWuoWfCj+QKQEUYP1njvn3jt375ndVA8cdvbOfN/95pt7z9y5\n",
       "AIUVSIw9TkvbTJG57rdYbpDq+fehUaCqZGV7ktv9Y6WE003EERbOieOBC/ZdLv39aQj3rJVaavXI\n",
       "dCmHP74l1auarKcSkZnc7jtU/QxPLM5R8uHqMp2kS9zp5uIIC3MAucA7bF91MrUZvFXwKq4f6UD8\n",
       "5MJ4Y66m06USZOCd1lQF5QfDE4s5SjcyTwCjy3Qi7ok53VwcYf0ywLcAQ/ZVW4ujAI8KQ10/CsJn\n",
       "+MVqvGjSpYJ20cP3mipXJj8YHhOoyi9bTc9EP4t3rQOjy3SCz3iAoWwqLsJmxXP9CGBv9KB+mJiQ\n",
       "3nadaCnCOMDnrh8wK352WI2HTbpUcF6M0Qc01bZD5AfDYwJVZWucH+CjH0qXPz9xsK4T9CMmO18z\n",
       "Io04BkfYq+Lod4DdgRR7gMDdPd4s+pEruX5cWF7+etyqfeMmXSrYLWrErZqqa1T54fDE4iplkh9E\n",
       "ljoeOp2gHzHZqaoRqcVxOMKOiZnzp2gfwZIzq1i6MyM96Ee67PrRsbAw32e9c8o6GSo4f00WsYjK\n",
       "q2SVHw5PLMYoz+77af8I4wfpWgrdTtCPuOyLWqQWx+IIe1JYdw2gd8Qq293Q748IP3w55IdmMD4k\n",
       "P8RMwkGY2r7jGxqSKzoZKmi7fr0bFFU6kHUU/SAeE4YRVWF6ff5r2QrjR0QG3Uwn6Ed0emoC442y\n",
       "EqnFsTjCvir8EL714pPKg/GjJewUfmTG3fHRWoYlcfQQZFZpsgc6GSqAr7ashYoqC4UK+UE8Jgwj\n",
       "qsJMh+n11hrjB+mqMp2gH5bsZwMSqcWxOMIOx+bL7TgMKpEf3uaceL+kVl0/xDx6URwd0rSbSjoZ\n",
       "Koz3AkX1HUAn+UE8Ms4MTscZUZVUBvmoRYzQV2Zmjmg/IrLU49hLXSeo0JLtHS2BLY7FEXY4qqd7\n",
       "A+vtJ8bQbakkP+7DygL/AASOHwxVGmep9kPcc4/yI+KR9/jJr2GcUfkB0DHC1tOIrFBlOnH8uLJT\n",
       "iVTiWBxhcWQuAPyIFWZT3A8/EKjWcVM/jig/fhaLNYCj/frlaOYLQ7Uosjckqkw5WrlJPyRPeuyO\n",
       "TjFTwGJU80Ugi6wfkS5cITmdoMLo9NtS9sycFqnEsTjCYuVS65R2/TBwTO+s6rplj4/8FRyAXz45\n",
       "DE49ZaieEjmpSiB6kSmTH5LnQEvlZYh6MYyqnmbCl6AtTK6nbzGdmHoaxcNGpF6PcTjCDkrvvMf0\n",
       "Y5HxAd6SuKa9j/EjMxW90beqtrJJl2pKvMZwPEmqbTRnpB+Sp5hbAY9ej5pRqhrE1cJp/Rmm/Ghb\n",
       "B60rG7idoMKYbPXit8RxOMI+iJiBfdGwXPw4ehh3rlWjBX2uyPgBf4j8TEw8aqPBJtOhgvL9b94k\n",
       "F+rY3oVHo+SH5IGOGqReX1g4HmeUqkQujp6dXrH9aN/y17TW5d38iNOJXI8Z2S1FI1KL43CEtVfF\n",
       "u+YnrBnyBXB+XBL5tCqM9nq9CZVcN6aUH5dkhYAi4COyGBus1y1drffSutu0o8KY7EJcpA4GR1i/\n",
       "3GgbYoD1A+Md8E4w33MbpqLaWVgdgj64u56R+Z5bbqjLtDf4nmssjrCnGlzGfe/TwbuTg2H8m0nl\n",
       "RqnID++WXftDyAd1jFLVqRvQZdqTvvebiSNsg10XjiNdSthqUblRqn7r3wuiftzAflDSveWjPZ18\n",
       "0n5QIz7CNtwvvOzuFx78j/uF9VTP/Z/9wsvJ7W3HSgmnm4iLsP8Ckk8tjgJXXKsAAAAASUVORK5C\n",
       "YII=\n",
       "\" style=\"display:inline;vertical-align:middle;\" /></a></span></td></tr>\n",
       "<tr><td>&nbsp;</td><td colspan=4 style=\"text-align:left\"><span style=\"font-size:20px;\"><a class=\"ProveItLink\" href=\"../../../../__pv_it/0c1c4cb515e0f4344b1ac06650f349123e526deb0/expr.ipynb\"><img src=\"data:image/png;base64,iVBORw0KGgoAAAANSUhEUgAAAAwAAAAJBAMAAAD0ltBnAAAAMFBMVEX///8QEBCYmJgyMjIiIiKq\n",
       "qqrMzMzu7u5ERERmZmaIiIjc3NxUVFR2dna6uroAAABXsXCEAAAAAXRSTlMAQObYZgAAAEdJREFU\n",
       "CNdj4Luze9UsBgZeji6G+g0MqSwGDPsTGArqHzDoMzAwxDMwHAZSkxkYPrEzMMgysH7nZeD+x8Br\n",
       "oMbA58DAfSgAABUwDxmEwURaAAAAAElFTkSuQmCC\n",
       "\" style=\"display:inline;vertical-align:middle;\" /></a> : <a class=\"ProveItLink\" href=\"../../../numeral/__pv_it/bcb6bc33e5975ec2290a3272bf7802d26ab8421d0/expr.ipynb\"><img src=\"data:image/png;base64,iVBORw0KGgoAAAANSUhEUgAAAAoAAAAOBAMAAADkjZCYAAAAMFBMVEX///9mZma6urpUVFREREQQ\n",
       "EBDc3NwiIiLu7u6qqqoyMjLMzMyYmJiIiIh2dnYAAADXmt2vAAAAAXRSTlMAQObYZgAAAFFJREFU\n",
       "CNdjYOC785qBgWElQ3sCA08AA98CBhYDBs4fDPwGDEw/GfoFGJj+MuQ/YOAGkgIM3P+gIkBZzp8M\n",
       "LA4MPD+guhgqGVo3MDD03bVmAABi3RThwIkdoQAAAABJRU5ErkJggg==\n",
       "\" style=\"display:inline;vertical-align:middle;\" /></a></span></td></tr><tr><td><a name=\"0xbb0151ae036c5c5_step4\">4</a></td><td>hypothetical reasoning</td><td><a href=\"#0xbb0151ae036c5c5_step6\">6</a></td><td><span style=\"font-size:20px;\"> <a class=\"ProveItLink\" href=\"../__pv_it/800f668b734ee8ead57cc4cd67c566e2a658ce9b0/proof.ipynb\" style=\"text-decoration: none\">&#x22A2;&nbsp;</a><a class=\"ProveItLink\" href=\"../__pv_it/e4418973e1fce7e7a50303cd50eec81577fe05f20/expr.ipynb\"><img src=\"data:image/png;base64,iVBORw0KGgoAAAANSUhEUgAAAYAAAAAUBAMAAAB2afdtAAAAMFBMVEX///9UVFTMzMx2dna6uroQ\n",
       "EBCqqqqIiIgiIiJmZmYyMjJERETu7u6YmJjc3NwAAAC+aOQFAAAAAXRSTlMAQObYZgAABHFJREFU\n",
       "SMelV11oXEUU/vbedX+yd9OY+oMKddUXwQejuXSJBlyfUkG0YJ9EaEDEBrSuT7Wl0gVrqX2QrUW0\n",
       "ILgGKXTRkictLI23lELdpCRCH2yken2rimRtaYJYjTNnzv3dmS3igbOzc86ce75vZs7cucDwMkgN\n",
       "sjvV3zeLgfI7q1Zyvtm+ctDgHgCOAhaU2m8/3uc+Nl6uZVIPddGSzRXDI505pQbZ0m+aGR+7RHZX\n",
       "6zaBi+JOKT2BC2n+Z+B8A6fFPT8gsFU2XxgQDvlKNfKKB3T7rKVlLPTI7urcRnBhXLlJWt4Ou5Uc\n",
       "UhSeFaDK3ZMBgd/kspom+TJrJK/y0my+XxCw6+mA4yJ9i+yuzm0CF8UVBDWhpRHkbqqA04eP0J+l\n",
       "CjAFnFcB1mmPCQxJINMGAu+z9hEAfhJxznYkkzjXgGyd7G7kljLPrR5cFHdV9IRuGkF2jYB+7XHk\n",
       "86J4HhQboka9zFSdCZQnFxevGvAPN5SaCOBzJJNk/xa9Ctnd0E3yCLd6cFHcXtETutREdl16usEQ\n",
       "LF2vyMZuUq+LBhPAX53OOwYC+aZSZ8+WqaqOwASSSZwNVZ4TisBEYuuQ6MFFcWeoWrE6Bms9eU7k\n",
       "NzZkp6x231ZVvDLNaLS+Sh4af70SlhbpOXxfP6IjsJI+jA5s/OEruxu4i4dJ/gyOEh24KO6Q+BW6\n",
       "2oR1XTpi1XnxzhsiZ07NfAO/BgSeiY4mtZxNvBFs2Gmlk3jKe05HYBdSSZzvdr6k7G7o5lP8BDUG\n",
       "cGHcDvG7I1ol68W2kGDUpwKL1aMFrSNTYQIF5IN3i/Py8WUUPJS4f1tNqYcO9Z9ot99ttz+LCDyK\n",
       "viTFNWV3A3cgXYnNDI7jmICok9xa4ny0ZRmEBARIa4QJ2MuFYNAPuxdFrI9cigCwri9iQhg7hMfE\n",
       "JBgIDG/2YQIXi+MtVJpDmU6q8CA7K90iZ5a20Ay/8mSa4dYD4k/1gzcrWSq0oRdqSG0hWNf0BLYh\n",
       "kcQRk2LdVHY3cBfbSvxgC/WDi8VxEYfvio/CF6fQY2ERn2ISlGb+DlHi3r2F2pB62oc3akgW8Wv5\n",
       "HvabizhMkhOQimOpIubKaoVF3A8uFjfBh9chnK8Ec0jycRO23DQ0zppT20ilmRGLYuFL4Fse+3Nw\n",
       "9MszV2h2rdQL7mAhgQMeT0ksSfE94DEouxu6E0etFlwsbhsv3Lk9o2o673tWjWk+ffQu2iAyNCOn\n",
       "OF9nApvonfYP8HCn06k7FTi9YNoapM7d+/deSW2hoztPCkqzySTF7D23E6hZ9eTYVXeUWy24WBxf\n",
       "JWJL9yS/rVkukJH+VphAWU6O1bOQoeWc5vq+xVWCEDT0SaTdjdyxy+NgcCKAL3Nmqaav00pW7ZYN\n",
       "W1IqzmHBM1/mFuMd3W0tsJsvc2aRAfNIv1iTF/yWnsDZS9VJ4CtJ4JfxT6Jbrq/UIN0BdtN1egA4\n",
       "CuAPGpOUfD0Bvm6IGvgvHzTzA+yuwT0AHAXc4pPyx1T/rf/zSVn2zfZ9Bw3uAeBEwL9hrJAHZlHD\n",
       "yAAAAABJRU5ErkJggg==\n",
       "\" style=\"display:inline;vertical-align:middle;\" /></a></span></td></tr>\n",
       "<tr><td><a name=\"0xbb0151ae036c5c5_step5\">5</a></td><td>axiom</td><td></td><td><span style=\"font-size:20px;\"> <a class=\"ProveItLink\" href=\"../_axioms_.ipynb#naturalsDef\" style=\"text-decoration: none\">&#x22A2;&nbsp;</a><a class=\"ProveItLink\" href=\"../__pv_it/2f8ebe7099bcc3d0e37c1a3a498f9bb28202ab910/expr.ipynb\"><img src=\"data:image/png;base64,iVBORw0KGgoAAAANSUhEUgAAAlQAAAAUBAMAAAC5cb5fAAAAMFBMVEX///8QEBCIiIhmZma6urrM\n",
       "zMxUVFQiIiJERETc3Nzu7u6qqqp2dnaYmJgyMjIAAAAcRTyBAAAAAXRSTlMAQObYZgAABpFJREFU\n",
       "WMOdWH1sFEUUf727vY+93ZY/amIMsReaSEIEToigpuqBiV8hepgIJppYUVT8wBoxjWKAEJNeNcaL\n",
       "Rqwm0iVGKA22J40x+MWlXYnSihcFRRE4gpiAsR4EjFJInTcz+zG7s9vDSV579+beb37z2zdvZhbA\n",
       "397jFtTSRZ9rzokQnBCsXfXg1EtNwsv2H1kT0J2qhE/UFVxF32H3D9QNzHxN/atwCrSWZljl6zIb\n",
       "8a9ekeGgabO/8vFoG9NzcQ99U8KnHmqs+XnB0Fh5P/Wb0m6AvgAsO9AJHkX/KfePGovM/C1ZWQYw\n",
       "CDDgl0orYaQhw0H7A7Z5EV8D9XVQq/xb0ZLKz6cuavCRIeOVrEBfjfpNWTdpJ+UjOYFOcA8mofCg\n",
       "fuDmb/HnIxloIDmS8UlFIXpAhkNMnwZaVYyIZkliAwzzr8ctqfx8Qqnt5On21DOGjNd8MnaV+k1Z\n",
       "N+nNykdyAp1gzASaEnZ7gZvTDnZ20onGbzdWQoIQm+aTiibCKMhwiCXbIX2eUevqXEc/DOYBFgNs\n",
       "Yb9VugyO4+cTSm2n9eGo4fCyB1HPAcQy1G8KtJNWaiaEHJUFOsH63v7+t4U618HMaffNsrLqrfYB\n",
       "g0gFv/ml+rW/f3uHDAetqR1iE1SSjdYavZvUtXvJcsox5MUZjuPjE0pNlIrzcgaJXSTf8tRvCrQV\n",
       "K2+FoaSBruB/CoWX3L+PZJktWfVGK+Wv2pUjXtyptKNUI36pmgqFrrIMB20wC7Ez6Bywq9nghTz+\n",
       "09gCGIAOjuPjI4FUZ6xaPCyTivFyBlEn2W4ywmY7Ii5lbK1Elj3vzJgXHOgKXgnQ7Slo1MqFjPov\n",
       "E8iRSst9j1IdobMcpy3LphjPO1kt4KD1lkE5I+5RkclJ/KKzEjbKF6/p5yOB3AE/ZdbJpDri3Qjn\n",
       "Tv5dZH7T6l7YiW191tpcQEtuhMFiYKAr+BZnG2Krt0RNKa2D1DlK0CnrRXgivpx8+MSfVbEs3SuU\n",
       "sdEDAg613iwoF9DpqtcfPnSazC7NsqkDNltSefnAA2Nf5EXIvfCdcYdMKsbLNYj6Y8sVzG96aH/J\n",
       "6uFagPsTVejNBwa6ghMQEY5DDTlqqnoW9Bo6lmLuVLlUW+EY+fCgXyoy29mAE03XBBxq1gJUrkQs\n",
       "K+hmwlahv9YzmJUMx8uHPIPdIjUwoEC/7xsff3Z8/HdHKspLHCQ6wfymh7Z6jFbJZoI2mIOjwYGu\n",
       "YK2SAIlUOOU4FajHnVVKeWmAVN/ScvOi/WzcUpGynp4QTgEalitbqoQBSjvHcfFRP59fwb6khxrA\n",
       "GXlZp7xcRw1SPNUAqTZ9A1wqfBKrgwNdwanqMpAsQIhWoamC4ze4pYJDyPs2V62ypriZTpZUt5J/\n",
       "ASY3gE4PC/Z2vRUHJ+gxugCHrLOgKfA5uKufyFyEtIcaKOfkUlFeziAqYaScZ37T6r6J0eZHz7Xo\n",
       "AbioBga6g7sfISvgxntaPbWzoQy7DdzTovbJDReJ1mOXTzGrkpvweR8zZWXdPoLOsw/XxNrssn6S\n",
       "y0U5IR8YvvaqfIyW3sbpOS/kp5EazAou6/YgaTL3aNlT1lm7y74zAEwnhz4tMNAdPEQerL6o0sD3\n",
       "L9y+0XpzsE/PW8qze0WJPQM6Sa9U6YX44f2WZhBx6HFgLWzJW3lB28IsaJiFlBA95SQMLhXyiRir\n",
       "E7lG9oSvOZ0TIWMTyZp1y7WlmmvYvOxBos8B7AHmNwXa9gGIHAFSZ8lzPBAY6A5uIlnz7kxo4ocK\n",
       "XBJoJOE2HWKL5WXWpay/nN+JTkik4vUj9RiIOHSJ7ZixklF8/E7Wm711wZNUfVQwjlpEMhwH+Sjw\n",
       "J5HdKisdIqS6YlbrYc8CXNByvGLxsgeJxh5+lM7+BEN2aMf5noqzJIipp0uBge5gHYVYAYuCbw9L\n",
       "ujqF/VvtkEn1C7EP6HXad7Fx7Wdf86sDb9uok37McxzKB4ve8kKBnO3yoNbquNi4eXkHQb8p0E6B\n",
       "9GIjC/QFXwZtypTXZXv7ysikwvYZwDLJdTm4DctxyM6oQJyWjRLfHOXU+sN5Of5LvC47gd7gVA3W\n",
       "fOy6SiaLYQiSlzD8/3WgvgIenDAsz2nTxunVqhpomGfRDdBnQH3UBkL8QS9huqeaqDc41g5XV+p7\n",
       "fyaFt6Z4fduIIXu1F9SSRTnO1v3DewFeRaneHLuh3ld73SF+M6C7b6qJhgVP+cJY9z/Xmf/zhfHP\n",
       "oTgRUqsugZpeDPbPWRPQHfbCGCOc4P8AHwaBPmZ6M+0AAAAASUVORK5CYII=\n",
       "\" style=\"display:inline;vertical-align:middle;\" /></a></span></td></tr>\n",
       "<tr><td>&nbsp;</td><td colspan=4 style-\"text-align:left\"><a class=\"ProveItLink\" href=\"../_axioms_.ipynb#naturalsDef\">proveit.number.sets.integer.naturalsDef</a></td></tr><tr><td><a name=\"0xbb0151ae036c5c5_step6\">6</a></td><td>instantiation</td><td><a href=\"#0xbb0151ae036c5c5_step7\">7</a>, <a href=\"#0xbb0151ae036c5c5_step8\">8</a></td><td><span style=\"font-size:20px;\"><a class=\"ProveItLink\" href=\"../__pv_it/32ac4b107218aaa18b5ae0661a277de0871eb85e0/expr.ipynb\"><img src=\"data:image/png;base64,iVBORw0KGgoAAAANSUhEUgAAASUAAAAVBAMAAADyROVdAAAAMFBMVEX///+IiIi6urrc3NxERETM\n",
       "zMwQEBCqqqpUVFQiIiJ2dnYyMjLu7u5mZmaYmJgAAABN0h6tAAAAAXRSTlMAQObYZgAABBhJREFU\n",
       "SMfNll+IVFUcx79zd24zc+fOdXwL0pxFiILC+9BDEuXIDoQvdR8KtJcWoZcK3BAEo61Ns79Eg4JS\n",
       "S7AT5da2S4MihZNxHxZRd8vrg6KWtlgPhaizlG6IuP3O75x7Z+6de1ailw787r3nxznn97m/8/v9\n",
       "zgHgXMT/ppmnfPGyD4tn35x23NZEP9Pyllz3cSWpLefq9Zd3A8bzoue0xXMasO79vGfk+Qmnkk8s\n",
       "Y1Wa4nVVY9WuStG0nb2q4YmxS6z/lOQnNlEXz4PANzie/IknYT8Fu6l6bsg0Ll7faYwWXSkpbRtt\n",
       "zEyPNjuH6TbrBdOXEZMTwBmE1YyPLgXkUKChukdCpofFZutccUVJp72sHPjeh8RklZMTLpD5Juvj\n",
       "TAUX2RHkbvEgZ8NHo/xxkgKnHziq4m+Dr5iKYu0hDdMeJT1MwDWaZw8ibsS+TlFUZn2caS2wbATG\n",
       "Atte76s11lDgP0M7UeFevr+smJzJ2dm1GqS+uhQdEw4gbsS4TT2P9XGmleSUAMa8UMyEo3HyJmeY\n",
       "FXBvBnXFhL9qtY81TJlAir18Z38jjWkKcSP2okytKcm0n3+/ycGMdWMw5+OZkVlcFB1Hhtk4xkOm\n",
       "XcBAjOTZide8KGJZTuCP8mga0+Vk+q1a/NuVesF0jZNBLLaPmAKYN4WiK3h/fOsGLZOT/qnj0ZDp\n",
       "oU4ySv8HeF19FoakTOJrf3Ua03YkjNi/b3lJ6gVTkXz8NMfj5s7emS+2qIUTfqHlTa5gThl5TzEV\n",
       "kAlrrP3KhTkUfGRV/66KFB817n/Vau1ttb7tMD2HHiOlBakXTHiXovY+TzJRjOcWYkluiZCKmMiu\n",
       "OaKYrLlCOOi3rbM010UuwQTMp8c4M3VVkjH6ry6morCRr8q9y1bhcC0YDEcfEyNpGYP3blhWVmbq\n",
       "a26kj8bpuz2D47/4QgWJvYN5PZ3pAcSM2MRg3pL6KJ447yjGo5p5Kiq7JOejGD+ouAQTBnZQBvjv\n",
       "FypFufCZGxXEY/zVTBsr9DEeGckRXWmsE+P7I6Yp9tVRL/xTbucCWMKTPMWsyv2TTMM0ycT3wA9q\n",
       "7CNhSRKFg8RYyLbDcz1iWuWrv+wyUvoE+AJSH69PwqEnlu+SP/3mg3J4cP/Zt3lnBGpeOCJTVkzL\n",
       "uHz+CWyq1Wpl24PdDlOwzmK/sWLl1cTend1yhCgPxY2UjA/eYb5DKWdLV2Z/psq+asdZyZ+eYnLE\n",
       "H5ttE3n2/5AK/zucLQxTTzci9B2mQXkG61sjeVeR73VW04IlKEtVTPv6M3g2NrucbiR2Bsv704Ae\n",
       "yW6mMx271JgEnhBMj0383Ll6uFI0bWYJfXR/wmF1p9O1rJvOpM4fiqd/c6cbWEJPTMZmmY0Xl777\n",
       "/po8ZUf/w93XcfX6e3bL+/g/7iY9OBPWwM8AAAAASUVORK5CYII=\n",
       "\" style=\"display:inline;vertical-align:middle;\" /></a> <a class=\"ProveItLink\" href=\"../__pv_it/4ebb9ddf44dfe3759c850cb28b0f6dcc2b5cfd780/proof.ipynb\" style=\"text-decoration: none\">&#x22A2;&nbsp;</a><a class=\"ProveItLink\" href=\"../__pv_it/8024a703f96a5d815d4f8fe3965f234a87ef701d0/expr.ipynb\"><img src=\"data:image/png;base64,iVBORw0KGgoAAAANSUhEUgAAADIAAAAPBAMAAABU9YHxAAAAMFBMVEX///9mZma6urpUVFREREQQ\n",
       "EBDc3NwiIiLu7u6qqqoyMjLMzMyYmJiIiIh2dnYAAADXmt2vAAAAAXRSTlMAQObYZgAAANxJREFU\n",
       "GNNjYOC785oBHUx89+AQA8NKhvYENAmWAwwtHxh4Ahj4FqDJCDIw8CxgYDFg4PwB5vO4l1eBGRy/\n",
       "GRiYLjDwGzAw/QTxuX0boFqY/gB5Gxj6BRiY/oL4XTAJBo7/YDflP2DgBsuYIey5//8z0FH5Agzc\n",
       "/0BcB4QMx+H4CAa4adxRq4AAJscItBroAk6QC9gQeh4AdQGFWBwYeMCuDoCbZQA0ASgE96ksTIYT\n",
       "qIYRqI+hkqF1A0iAfQLMjkIGhscgRt9da4ghJhpQGSZD4wkoocX0BBo6EAAA3HY29A9d84EAAAAA\n",
       "SUVORK5CYII=\n",
       "\" style=\"display:inline;vertical-align:middle;\" /></a></span></td></tr>\n",
       "<tr><td>&nbsp;</td><td colspan=4 style=\"text-align:left\"><span style=\"font-size:20px;\"><a class=\"ProveItLink\" href=\"../../../../__pv_it/d3792d0d8642fdf1cd2a3a9b32c673ee13653de00/expr.ipynb\"><img src=\"data:image/png;base64,iVBORw0KGgoAAAANSUhEUgAAAA8AAAAOBAMAAAACpFvcAAAALVBMVEX///8iIiIQEBBERERUVFS6\n",
       "urqIiIjc3NxmZmaqqqru7u6YmJgyMjLMzMwAAACK9jtgAAAAAXRSTlMAQObYZgAAAFtJREFUCNdj\n",
       "YACBOwxQcA5Kc59bAGGs7CuAMDbkBYBp1gXzNoAZSxnuJYAZAQx1DSCa16PDzwCshIGB6QCIMYGB\n",
       "gVEBSLMDGTwPgIxCIGZ+zsCw+N0pBk67hw0AfpEVEQi8t+wAAAAASUVORK5CYII=\n",
       "\" style=\"display:inline;vertical-align:middle;\" /></a> : <a class=\"ProveItLink\" href=\"../__pv_it/8024a703f96a5d815d4f8fe3965f234a87ef701d0/expr.ipynb\"><img src=\"data:image/png;base64,iVBORw0KGgoAAAANSUhEUgAAADIAAAAPBAMAAABU9YHxAAAAMFBMVEX///9mZma6urpUVFREREQQ\n",
       "EBDc3NwiIiLu7u6qqqoyMjLMzMyYmJiIiIh2dnYAAADXmt2vAAAAAXRSTlMAQObYZgAAANxJREFU\n",
       "GNNjYOC785oBHUx89+AQA8NKhvYENAmWAwwtHxh4Ahj4FqDJCDIw8CxgYDFg4PwB5vO4l1eBGRy/\n",
       "GRiYLjDwGzAw/QTxuX0boFqY/gB5Gxj6BRiY/oL4XTAJBo7/YDflP2DgBsuYIey5//8z0FH5Agzc\n",
       "/0BcB4QMx+H4CAa4adxRq4AAJscItBroAk6QC9gQeh4AdQGFWBwYeMCuDoCbZQA0ASgE96ksTIYT\n",
       "qIYRqI+hkqF1A0iAfQLMjkIGhscgRt9da4ghJhpQGSZD4wkoocX0BBo6EAAA3HY29A9d84EAAAAA\n",
       "SUVORK5CYII=\n",
       "\" style=\"display:inline;vertical-align:middle;\" /></a>, <a class=\"ProveItLink\" href=\"../../../../__pv_it/4d98b438710c5ada9ffa4646bb123a7d0e69ec000/expr.ipynb\"><img src=\"data:image/png;base64,iVBORw0KGgoAAAANSUhEUgAAABAAAAAOBAMAAADUAYG5AAAALVBMVEX///8yMjKqqqoiIiLu7u7c\n",
       "3NyIiIjMzMwQEBC6urpERERmZmZUVFSYmJgAAACsPVCVAAAAAXRSTlMAQObYZgAAAGxJREFUCNdj\n",
       "YGC48+70nlUTGICgi4GB+zmQZn/LwMD5Gshge8rAwPsMyOBqYGDwMAEy+A4wsNs4ABl1Z68tVgBp\n",
       "ygtgYOkBMVaAOCChNyBGAsQYhnMTIMawvwJyGIHGzFjCwMAj92b3qUUMDAAXABxvZ4rl5AAAAABJ\n",
       "RU5ErkJggg==\n",
       "\" style=\"display:inline;vertical-align:middle;\" /></a> : <a class=\"ProveItLink\" href=\"../__pv_it/7c809a9eb3d206e5daa82f77a4aa715e4cefb8a90/expr.ipynb\"><img src=\"data:image/png;base64,iVBORw0KGgoAAAANSUhEUgAAAKsAAAAUBAMAAAAAWtCKAAAAMFBMVEX///8QEBCIiIhmZma6urrM\n",
       "zMxUVFQiIiJERETc3Nzu7u6qqqp2dnaYmJgyMjIAAAAcRTyBAAAAAXRSTlMAQObYZgAAAm1JREFU\n",
       "OMulVUtoE1EUPSQzTfo6mXbhSsQGCy66abXoQlwEXRRdZaUbweIPC6IVFy6UUtw4QYQBwbpzRNAQ\n",
       "JFS7kIpiSFEkBs2i+FlUA35AwTAKFbVIve8zMZm8EcULh7nvvrnnzrufN8CfpLsmoZceV2+fI9S5\n",
       "shjhmFeIkPFO02y1tNBF4R7zxccIvw8KGrnpAcUOa7KGvM/oUy/xs07pXVPDEi1ySz7YkWNEa6XD\n",
       "HiPkUEcZsPn2jJ424Up00gKvyY/1qfBnT07KaEuAkcYVMlUKhemIHEwrRNHirVDNM54yGj9plYWd\n",
       "Ab45zukI2gEFtm58W1lHOy/UYsAKtvKAPyxK3EEg10a2p3ovK7XzCjfwPD2po30Vboihla+uSC+2\n",
       "g9VbWY1h3FfqKYUKnno7dLS3hdpScPasfzU19ATVBLGg4dndkRoSHpJqvUrBgyPWTxqN443G+9+0\n",
       "e0Vq1zZIAuL4Mll8SkQtEZhezBWAXhc9IVrgi75kgralPUv0aYq2u76LDOVN67OGaFF7TQahJMBc\n",
       "0tOOCrWvmYIxevUH5ZGSgNwBIOYdTWRsubfhc8AblOxOzMdgdMk2Ni8JChAvyZJhlrhNfAKuqt2L\n",
       "E0qZlzCWk35w4TRphzjtVjk1wTTFTwAPIanRK0bwO7DbcZw0y4L56rVRCbZvcGAxlITN/W8o0Dt5\n",
       "vsM7Fa2x/xAPYfMGTfG4pm+iSxxkBubYXwyv4FPHMh6p4VVyPVAuW3ULFg8Sn0Lei75qCq2LzqtG\n",
       "SjlQri2UK8A5TnuhuqW5n0N4BNukqDe3jxf1A+X2X67xiIhJF/iPn04qwv0l8Asd2LVIqoXyMgAA\n",
       "AABJRU5ErkJggg==\n",
       "\" style=\"display:inline;vertical-align:middle;\" /></a></span></td></tr><tr><td><a name=\"0xbb0151ae036c5c5_step7\">7</a></td><td>theorem</td><td></td><td><span style=\"font-size:20px;\"> <a class=\"ProveItLink\" href=\"../../../../logic/boolean/conjunction/_proofs_/leftFromAnd.ipynb\" style=\"text-decoration: none\">&#x22A2;&nbsp;</a><a class=\"ProveItLink\" href=\"../../../../logic/boolean/conjunction/__pv_it/4fcc5c2c389fc0128d9d93cefbaa64c135d2dd6a0/expr.ipynb\"><img src=\"data:image/png;base64,iVBORw0KGgoAAAANSUhEUgAAAHMAAAAWBAMAAAABVL48AAAAMFBMVEX///8QEBCIiIhmZma6urrM\n",
       "zMxUVFQiIiJERETc3Nzu7u6qqqp2dnaYmJgyMjIAAAAcRTyBAAAAAXRSTlMAQObYZgAAAchJREFU\n",
       "OMudkz1IAzEUx//2qm3au+quQzdd/IBCBSm24OIiVQdHLajgpuiq6CDSinB1slsPFJQKeuDkpOKg\n",
       "qMjpKmLBzUXxA1tFNHnnQQa1nAfJS/7v/ZJc3gvw/68oumvX2CBvp2Jw5xq95y3HG5tzS2r3BhDi\n",
       "TTXdopvxLOdPCoUV1+e1WhO8L6XT025Jr7FncTMKZGhu991Ph2NZcjtxfnuqx6IZR1rDUJibLgQo\n",
       "QdqzfQF1UOuIcOJuEmQugANHSiDfxo0PHrE5Vj9IVVIIvsloIE5uRIE9w5aqhyPjIimq5aP5yRQZ\n",
       "XxhKUUbV9Tayk0Cn86tAlYhhxQFaKZwmebsXLYaM9vsp64EXeJzK4bn00U9lRkRfg3aSk81NKcho\n",
       "SpmgnR4vF74VxtHQgxjtkOsKraSfA40yqpkeilKL8EzYkigDf1mMasU9B27PdDrnEpA3JXQrdmzf\n",
       "2j7YOykbn3cI6q/iBjSBKAbyvcLB3cmshHaAvdAGJrzlH+ujhzsttgj2BtYgHdjLM/OBHF/YwPL+\n",
       "T6S/BKbPVNfj6CkylpBQfQ65V6vPVGcj0fm/ajMoryY7Kj+t3V/QYLbyW/oF1dw9LKVSwBeDsXAY\n",
       "KpZ6WQAAAABJRU5ErkJggg==\n",
       "\" style=\"display:inline;vertical-align:middle;\" /></a></span></td></tr>\n",
       "<tr><td>&nbsp;</td><td colspan=4 style-\"text-align:left\"><a class=\"ProveItLink\" href=\"../../../../logic/boolean/conjunction/_proofs_/leftFromAnd.ipynb\">proveit.logic.boolean.conjunction.leftFromAnd</a></td></tr><tr><td><a name=\"0xbb0151ae036c5c5_step8\">8</a></td><td>assumption</td><td></td><td><span style=\"font-size:20px;\"><a class=\"ProveItLink\" href=\"../__pv_it/32ac4b107218aaa18b5ae0661a277de0871eb85e0/expr.ipynb\"><img src=\"data:image/png;base64,iVBORw0KGgoAAAANSUhEUgAAASUAAAAVBAMAAADyROVdAAAAMFBMVEX///+IiIi6urrc3NxERETM\n",
       "zMwQEBCqqqpUVFQiIiJ2dnYyMjLu7u5mZmaYmJgAAABN0h6tAAAAAXRSTlMAQObYZgAABBhJREFU\n",
       "SMfNll+IVFUcx79zd24zc+fOdXwL0pxFiILC+9BDEuXIDoQvdR8KtJcWoZcK3BAEo61Ns79Eg4JS\n",
       "S7AT5da2S4MihZNxHxZRd8vrg6KWtlgPhaizlG6IuP3O75x7Z+6de1ailw787r3nxznn97m/8/v9\n",
       "zgHgXMT/ppmnfPGyD4tn35x23NZEP9Pyllz3cSWpLefq9Zd3A8bzoue0xXMasO79vGfk+Qmnkk8s\n",
       "Y1Wa4nVVY9WuStG0nb2q4YmxS6z/lOQnNlEXz4PANzie/IknYT8Fu6l6bsg0Ll7faYwWXSkpbRtt\n",
       "zEyPNjuH6TbrBdOXEZMTwBmE1YyPLgXkUKChukdCpofFZutccUVJp72sHPjeh8RklZMTLpD5Juvj\n",
       "TAUX2RHkbvEgZ8NHo/xxkgKnHziq4m+Dr5iKYu0hDdMeJT1MwDWaZw8ibsS+TlFUZn2caS2wbATG\n",
       "Atte76s11lDgP0M7UeFevr+smJzJ2dm1GqS+uhQdEw4gbsS4TT2P9XGmleSUAMa8UMyEo3HyJmeY\n",
       "FXBvBnXFhL9qtY81TJlAir18Z38jjWkKcSP2okytKcm0n3+/ycGMdWMw5+OZkVlcFB1Hhtk4xkOm\n",
       "XcBAjOTZide8KGJZTuCP8mga0+Vk+q1a/NuVesF0jZNBLLaPmAKYN4WiK3h/fOsGLZOT/qnj0ZDp\n",
       "oU4ySv8HeF19FoakTOJrf3Ua03YkjNi/b3lJ6gVTkXz8NMfj5s7emS+2qIUTfqHlTa5gThl5TzEV\n",
       "kAlrrP3KhTkUfGRV/66KFB817n/Vau1ttb7tMD2HHiOlBakXTHiXovY+TzJRjOcWYkluiZCKmMiu\n",
       "OaKYrLlCOOi3rbM010UuwQTMp8c4M3VVkjH6ry6morCRr8q9y1bhcC0YDEcfEyNpGYP3blhWVmbq\n",
       "a26kj8bpuz2D47/4QgWJvYN5PZ3pAcSM2MRg3pL6KJ447yjGo5p5Kiq7JOejGD+ouAQTBnZQBvjv\n",
       "FypFufCZGxXEY/zVTBsr9DEeGckRXWmsE+P7I6Yp9tVRL/xTbucCWMKTPMWsyv2TTMM0ycT3wA9q\n",
       "7CNhSRKFg8RYyLbDcz1iWuWrv+wyUvoE+AJSH69PwqEnlu+SP/3mg3J4cP/Zt3lnBGpeOCJTVkzL\n",
       "uHz+CWyq1Wpl24PdDlOwzmK/sWLl1cTend1yhCgPxY2UjA/eYb5DKWdLV2Z/psq+asdZyZ+eYnLE\n",
       "H5ttE3n2/5AK/zucLQxTTzci9B2mQXkG61sjeVeR73VW04IlKEtVTPv6M3g2NrucbiR2Bsv704Ae\n",
       "yW6mMx271JgEnhBMj0383Ll6uFI0bWYJfXR/wmF1p9O1rJvOpM4fiqd/c6cbWEJPTMZmmY0Xl777\n",
       "/po8ZUf/w93XcfX6e3bL+/g/7iY9OBPWwM8AAAAASUVORK5CYII=\n",
       "\" style=\"display:inline;vertical-align:middle;\" /></a> <a class=\"ProveItLink\" href=\"../__pv_it/3d8c60abe1a54bbd5dc772ff1c7ab6fbf22b5be00/proof.ipynb\" style=\"text-decoration: none\">&#x22A2;&nbsp;</a><a class=\"ProveItLink\" href=\"../__pv_it/c6e881be3e702d8711634d4e9f61bfb5836b284b0/expr.ipynb\"><img src=\"data:image/png;base64,iVBORw0KGgoAAAANSUhEUgAAAQ4AAAAUBAMAAACOpc7fAAAAMFBMVEX///9UVFTMzMx2dna6uroQ\n",
       "EBCqqqqIiIgiIiJmZmYyMjJERETu7u6YmJjc3NwAAAC+aOQFAAAAAXRSTlMAQObYZgAAA7RJREFU\n",
       "SMellk1oE0EUx//Zjflodtv6jQoa9eLNapcGtWA8VUG0oCcRLIhoQWs8FUUx4Afag6yKaEEwFhEM\n",
       "Kj2pEKwrImhbsUIPWqmut6pIo8X24EedeTObdDe7FfHBy+68ncn7zcx7bwaoHkCQtHna0XwS08kX\n",
       "qb4SsYPtQyeBPkA9trri68V6PR3yDFXTOf4YDvCkdQsNkMWVptb6ukGyG8Bd4CaeeWEfQnsELSdb\n",
       "tsPRwB+3AxxV2UJ9ZI8F9FZYEwPoK5LdgG5Cb4aac/eIm2yxgJRs3nI4PrPf6qApv5Falr1yoWYv\n",
       "YRxqxjugE9BzZDcQs5GoReQnfdAfnOmgl5csEJqAp6K/8sCSHFX8/1oCOM5JreAA3rNxWjPcTrRv\n",
       "QDhDdgMjQE0twuPk774lx21lwbuMrXKaWqGmjOTQG/v7RwIwqrNCgzhwA24n4V+slSS7gcNs8ibC\n",
       "E/xDr9MDL8coM1STWr3ISg78KBROBHBETaFa++KmlB/HGridaJMiPdZwjofAaB2UCXdERycneUMX\n",
       "YdOABodjFtDj8r68/kCyFHWkT/A60+HHMeRNm+OTX21hN3CacZhQxrh9SgC+mPudDY2Idcjik8Ox\n",
       "qZxEYm1NHJSvsRahjVhvbfHj2AePE+3Vrp3CbmB7eV+UHXkmTqdr7C+VIgVWBqGk5Igh6tQ9bXfn\n",
       "AGIWErI9Iy3UQoHaa/P5U/n89TLHSlQ4iY8LO3GwOI2MuxJS5SFS4mC+lFrJoQ7EnE5v2/rZWBsR\n",
       "Dwcw4R+nxDEl6+vYXEocbF8S3dApb5udHo/5VzY0TPvSCqp2xFGdW8peUhcOJcMUw1Xb0vDsC5Rv\n",
       "/hwb4XKisbkpP4Wd4rRUxy6Xyh/Ti6U4vStZOAd65rAothbG0lXizy59T8Mdp/ujRRwNjtOSkwgj\n",
       "itc5ccqT6TSeJp0ZkVwxofKdoG5Kt9gbwdHKlkjBHeC57PvBKRk8yZmGxxNF5+wscRy35MymOImf\n",
       "BVZB2A1arCfts8TkFm0WXcwN5+fRqnO8EJ9wNCM5aqik/QZWFAqFjJaEVnRSJ0uqzT96eNizL+d3\n",
       "3WJkXW4n8fCCmcTUJev6lCxcJ0uulGdkpNek5ND5zJSighCtbYsM4b/UdQLI+jvhdjrngiXlPffF\n",
       "c1TNqVA5WbwbfVbwOdfvGp3xdyLOOU95dF8ocv4cjwdTjcA9zvGx/mr5GLeFBkjvNHaD7kFBkrD9\n",
       "OWTtZ/HxL/egnmnsjGOae+E770nW8R/3Qt0Oth85+QdZWBnDOUfLAQAAAABJRU5ErkJggg==\n",
       "\" style=\"display:inline;vertical-align:middle;\" /></a></span></td></tr>\n",
       "</table>"
      ],
      "text/plain": [
       "\tstep type\trequirements\tstatement\n",
       "0\tinstantiation\t1, 2, 3\t|- 0 in Naturals\n",
       "\tP : 0 in Naturals, Q : forall_{S} (((0 in S) and [forall_{x in S} ((x + 1) in S)]) => (0 in S))\n",
       "1\ttheorem\t\t|- forall_{P, Q | Q, P = Q} P\n",
       "\tproveit.logic.equality.lhsViaEquivalence\n",
       "2\tgeneralizaton\t4\t|- forall_{S} (((0 in S) and [forall_{x in S} ((x + 1) in S)]) => (0 in S))\n",
       "3\tinstantiation\t5\t|- (0 in Naturals) = [forall_{S} (((0 in S) and [forall_{x in S} ((x + 1) in S)]) => (0 in S))]\n",
       "\tn : 0\n",
       "4\thypothetical reasoning\t6\t|- ((0 in S) and [forall_{x in S} ((x + 1) in S)]) => (0 in S)\n",
       "5\taxiom\t\t|- forall_{n} ((n in Naturals) = [forall_{S} (((0 in S) and [forall_{x in S} ((x + 1) in S)]) => (n in S))])\n",
       "\tproveit.number.sets.integer.naturalsDef\n",
       "6\tinstantiation\t7, 8\t{(0 in S) and [forall_{x in S} ((x + 1) in S)]} |- 0 in S\n",
       "\tA : 0 in S, B : forall_{x in S} ((x + 1) in S)\n",
       "7\ttheorem\t\t|- forall_{A, B | A, B} A\n",
       "\tproveit.logic.boolean.conjunction.leftFromAnd\n",
       "8\tassumption\t\t{(0 in S) and [forall_{x in S} ((x + 1) in S)]} |- (0 in S) and [forall_{x in S} ((x + 1) in S)]"
      ]
     },
     "execution_count": 9,
     "metadata": {},
     "output_type": "execute_result"
    }
   ],
   "source": [
    "%qed"
   ]
  },
  {
   "cell_type": "code",
   "execution_count": null,
   "metadata": {},
   "outputs": [],
   "source": []
  }
 ],
 "metadata": {
  "kernelspec": {
   "display_name": "Python 3",
   "language": "python",
   "name": "python3"
  }
 },
 "nbformat": 4,
 "nbformat_minor": 0
}
