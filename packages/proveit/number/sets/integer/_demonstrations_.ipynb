{
 "cells": [
  {
   "cell_type": "markdown",
   "metadata": {},
   "source": [
    "Demonstrations for context <a class=\"ProveItLink\" href=\"_context_.ipynb\">proveit.number.sets.integer</a>\n",
    "========"
   ]
  },
  {
   "cell_type": "code",
   "execution_count": 1,
   "metadata": {},
   "outputs": [],
   "source": [
    "import proveit\n",
    "from proveit._common_ import a, b, c, n\n",
    "from proveit.logic import InSet\n",
    "from proveit.number import two, nine, Integers, Naturals, NaturalsPos\n",
    "%begin demonstrations"
   ]
  },
  {
   "cell_type": "markdown",
   "metadata": {},
   "source": [
    "# Naturals $\\mathbb{N}$, Positive Naturals $\\mathbb{N}^{+}$, & Integers $\\mathbb{Z}$\n",
    "\n",
    "### UNDER CONSTRUCTION"
   ]
  },
  {
   "cell_type": "markdown",
   "metadata": {},
   "source": [
    "<div style=\"line-height:1.4; font-size:14pt\">\n",
    "\n",
    "<a href='#introduction'>Introduction</a><br>\n",
    "<a href='#simple_expressions'>Simple Expressions involving the Naturals $\\mathbb{N}$ and Integers $\\mathbb{Z}$</a><br>\n",
    "<a href='#common_attributes'>Common Attributes of NumberSet classes</a><br>\n",
    "<a href='#axioms'>Axioms</a><br>\n",
    "<a href='#further_demonstrations'>Further Demonstrations</a><br>\n",
    "    <ol>\n",
    "        <li><a href='#demo01'>Demo 1</a></li>\n",
    "        <li><a href='#demo02'>Demo 2</a></li>\n",
    "        <li><a href='#demo03'>Demo 3</a></li>\n",
    "    </ol>\n",
    "\n",
    "</div>\n"
   ]
  },
  {
   "cell_type": "markdown",
   "metadata": {},
   "source": [
    "## Introduction <a id='introduction'></a>"
   ]
  },
  {
   "cell_type": "markdown",
   "metadata": {},
   "source": [
    "<font size=4>UNDER CONSTRUCTION. Something here about the importance of having and using specifically pre-defined number sets such as the Naturals ($\\mathbb{N}$) and Integers ($\\mathbb{Z}$), the axiomatic definitions, and perhaps the distinctiveness from the Reals ($\\mathbb{R}$).</font>"
   ]
  },
  {
   "cell_type": "code",
   "execution_count": 2,
   "metadata": {},
   "outputs": [
    {
     "data": {
      "text/html": [
       "<span style=\"font-size:20px;\"> <a class=\"ProveItLink\" href=\"__pv_it/b001d9b5f972cd734666a20f745c8437c30da6490/proof.ipynb\" style=\"text-decoration: none\">&#x22A2;&nbsp;</a><a class=\"ProveItLink\" href=\"__pv_it/7c796d224f16474319e09fbcb14900c4ec820f750/expr.ipynb\"><img src=\"data:image/png;base64,iVBORw0KGgoAAAANSUhEUgAAAGkAAAAUBAMAAAB8EA4WAAAAMFBMVEX////MzMxUVFR2dna6uroQ\n",
       "EBCqqqqIiIgiIiJmZmYyMjJERETu7u6YmJjc3NwAAACgK8IjAAAAAXRSTlMAQObYZgAAAaBJREFU\n",
       "OMt9lD9IAnEUx7/qIer9QRSqUaEhig4pQyIKl6AhQaipFqfGssnarCGiJWkRguCWGiLiNiOsbgmi\n",
       "Bo32cmwqh5wq6P1OT+5ndz44+PF597n37vHuAKUO91h3Szw5wcfvawNTrbS3wfOt1bvT3TQdLh2f\n",
       "deOJQWpC0nq4NihVTwC55GiNhAtAFkj1cD2DTREIcD3IV/sH5mG46g2jCNz3cLLWyHq3S56K0Tmp\n",
       "EemCWaE0z8lK0iS2AWHio1BuD8FKQvXnI8zylXiuZ4SdOL02ZcQKamajareqiqScJ0vWeK7PH7ao\n",
       "/B4wENDwGTaZzfIacbL8RZ5Th7MvwDJg1NJ4M9tfOafoWFIsRDP0NHlOlijUmYUNYJQhxV4LUY9l\n",
       "KVwtETHWIY6BX4mxrN2Sc3SzUOQ5WV5obBpYgv/Hx1i5m6U5YU63plHmaskJTFMDX/Bpz4wFclb2\n",
       "jK4gGcEEz7UoJo+ABbMLZdzk0thiOznUojpsCUNhjlvby2+UMNPZHCsenLnL9lqRcuG3/aR/X0rf\n",
       "r9IKseGS6PsHeHXGfwEZcs+yysBaAAAAAElFTkSuQmCC\n",
       "\" style=\"display:inline;vertical-align:middle;\" /></a></span>"
      ],
      "text/plain": [
       "|- (n in Naturals) in BOOLEANS"
      ]
     },
     "execution_count": 2,
     "metadata": {},
     "output_type": "execute_result"
    }
   ],
   "source": [
    "InSet(n, Naturals).deduceInBool()"
   ]
  },
  {
   "cell_type": "code",
   "execution_count": 3,
   "metadata": {},
   "outputs": [
    {
     "data": {
      "text/html": [
       "<span style=\"font-size:20px;\"> <a class=\"ProveItLink\" href=\"__pv_it/b1ff14a2bcc45d175ceecff61e62c4733aa74caf0/proof.ipynb\" style=\"text-decoration: none\">&#x22A2;&nbsp;</a><a class=\"ProveItLink\" href=\"__pv_it/2ab31028f158cdab84107c318235e8fc28c6cd430/expr.ipynb\"><img src=\"data:image/png;base64,iVBORw0KGgoAAAANSUhEUgAAAHgAAAAbBAMAAABFKlYVAAAAMFBMVEX///8iIiJERESYmJiqqqoQ\n",
       "EBB2dnbc3NyIiIhmZmbu7u4yMjJUVFS6urrMzMwAAADZVrDbAAAAAXRSTlMAQObYZgAAAetJREFU\n",
       "OMtjYKAMvMUrewCIOXDK8h3Aq1kBiHlxKuFeQFAzQzIu2RkMhDUz4rCA/RcWQa79SrsY2OJjYZo5\n",
       "JqDKc4gq/Q48y8DANgGbkUwGbxgY1jPw7N4dvXsz0IYP6H7la1i00oCB1QGbZh45jgYGVrizGUTQ\n",
       "Dec14HigwFCP4h0jQcENYM2XFpxjYERonoQmD9TM4qDAYIqs91EXzOa6A6sXIGluRZMHama7pcAw\n",
       "G8SuzGwFOYBrF9zZBR58B5A03we7DyEP1HzxzQMGJVAiCGfYD9GC0Mx2wQJJ8/sHqPJMvIH/gXGx\n",
       "B8hcagDxFBMiwAoYTvE8BLEg6usvoMqDnG2cwCAJZM5fwCABEnq6Gwg2QDWvYdiKCIz1F1DlgZoZ\n",
       "FC4z7AQygxi4/oGEipBt5kt4itAMsbkI2WYGBR4GHWA4fGNgAacCVmTNDCYIVzK8L0CVB2k+wM1w\n",
       "CKj5CwPPBnegEGcDXDMwgNgQFkFDGyEPttkMHIMaDIYHElASEjco3c1GaIamBoQ8XwJb5gGwmWs6\n",
       "np8Ae2qNLiS98ckHAcnVCM3QFAaTh2UM1gvISeyaIiT5oYMd2OU5E4goqbh+4SiFAojQzIyrHDpC\n",
       "hGbGBzgkVhOh2QyXBMsEgnrZFXBK+RLUzLmAgfoAAE8ZfYG1xJlpAAAAAElFTkSuQmCC\n",
       "\" style=\"display:inline;vertical-align:middle;\" /></a></span>"
      ],
      "text/plain": [
       "|- (a in NaturalsPos) in BOOLEANS"
      ]
     },
     "execution_count": 3,
     "metadata": {},
     "output_type": "execute_result"
    }
   ],
   "source": [
    "InSet(a, NaturalsPos).deduceInBool()"
   ]
  },
  {
   "cell_type": "code",
   "execution_count": 4,
   "metadata": {},
   "outputs": [
    {
     "data": {
      "text/html": [
       "<table><tr><th>&nbsp;</th><th>step type</th><th>requirements</th><th>statement</th></tr>\n",
       "<tr><td><a name=\"0x4243c8ef9e765da0_step0\">0</a></td><td>theorem</td><td></td><td><span style=\"font-size:20px;\"> <a class=\"ProveItLink\" href=\"../../numeral/deci/_proofs_/posnat9.ipynb\" style=\"text-decoration: none\">&#x22A2;&nbsp;</a><a class=\"ProveItLink\" href=\"../../numeral/deci/__pv_it/5210a410822f0d8e4d7e2ea902d65054e2510f860/expr.ipynb\"><img src=\"data:image/png;base64,iVBORw0KGgoAAAANSUhEUgAAAD8AAAAUBAMAAADIGvgZAAAAMFBMVEX///8iIiLMzMyqqqq6urqI\n",
       "iIhEREQyMjKYmJgQEBDc3NxUVFR2dnZmZmbu7u4AAABTw4smAAAAAXRSTlMAQObYZgAAAP9JREFU\n",
       "KM9jYKAEcBNSwEYlBW/P7EIVfv4t/QHDyZ8OUAV8MxhWPkBVkcG0gYHvA8P28sry8gYG7gkM3BdQ\n",
       "FWxUCGVgmACzgr+AgecDRKJNULAARG/J41ZgEIApeJ/AwPoLLK8WBzVhlzZfHUIBJ9CEL2DH1MGs\n",
       "2MUcoI1QADSf/Qc42BbAFTAc4QiAK2BIZbD5jBoquxi4H2wCKeACc5lbdT6BaM1yICiAKODbwD4B\n",
       "OU7+gchlSCYw6DAhK2DfAHYtsgIOgwQYj2Megz7YebwBMKFNQHwKroC1jq8CwhKGCRWDlBfADTxz\n",
       "1wHCeJ0CiRPFn0DdfAVYYtcnURBTGADyLz7l7FOxMwAAAABJRU5ErkJggg==\n",
       "\" style=\"display:inline;vertical-align:middle;\" /></a></span></td></tr>\n",
       "<tr><td>&nbsp;</td><td colspan=4 style-\"text-align:left\"><a class=\"ProveItLink\" href=\"../../numeral/deci/_proofs_/posnat9.ipynb\">proveit.number.numeral.deci.posnat9</a></td></tr></table>"
      ],
      "text/plain": [
       "proveit.number.numeral.deci.posnat9"
      ]
     },
     "execution_count": 4,
     "metadata": {},
     "output_type": "execute_result"
    }
   ],
   "source": [
    "InSet(nine, NaturalsPos).prove().proof()"
   ]
  },
  {
   "cell_type": "code",
   "execution_count": 5,
   "metadata": {},
   "outputs": [
    {
     "data": {
      "text/html": [
       "<span style=\"font-size:20px;\"> <a class=\"ProveItLink\" href=\"__pv_it/89691711fa7c18229e466c0725b9277c303744fb0/proof.ipynb\" style=\"text-decoration: none\">&#x22A2;&nbsp;</a><a class=\"ProveItLink\" href=\"__pv_it/2853d4434df34a116ad0d6af63168f90332a1b330/expr.ipynb\"><img src=\"data:image/png;base64,iVBORw0KGgoAAAANSUhEUgAAAGUAAAAUBAMAAABmLO6YAAAAMFBMVEX////MzMxUVFR2dna6uroQ\n",
       "EBCqqqqIiIgiIiJmZmYyMjJERETu7u6YmJjc3NwAAACgK8IjAAAAAXRSTlMAQObYZgAAAcRJREFU\n",
       "OMtjYOC7wIADsD3AJXOagWdrA6oQS+vXVRFLLzDooSmtiN6/tMkByFjHwMA1AVWOfacAwwJuBoZT\n",
       "6OYvEOfZM5eBgReonj8BVYrTgIE5wYSBgbkATc8GX4ZCoFkcQEf7H4CK3e7oWADSc4DhESPQLJ4A\n",
       "iDDvjo4umJ40oJ4XQKYFVIt0DdzEPdwgc5aA2YzbDyDsMTnNwFAJZC4qnwYS4VkD18JbcBdEWYI5\n",
       "pw4g3MbSqMjAsBeo9teB86BgZUKE7WmeDSDqFpiDCL4Nrv1fgeHWBoyHPwz8IN9yIzyrCNGfAVGJ\n",
       "HAa2lxkYQoBeXsBw3gAoIroKCBaAI2iCM1iNPNg7USBxmB5ulgsgPcDo8QeF9mu4eVwgs22gevhQ\n",
       "7OFmUAC5jf8Cw3yQN1nhcmbMQFcDA9oDzAtA1sPEsAAUBvwOPLHgqIRFIZ/CIyAvABYG01Hs4TUA\n",
       "BSfTBW5I4mmDSnEf2MPAowt00mQwlwOeTBYIMxhPAlvPM90WInRoCyQmXHdF746PBpqzEMzl0fZB\n",
       "TaMcyAneeQc47cAADzS9s1hD0w4sxicw4AQYaRQG9uHWcwp3nsMJcBqHO2/z4sjbAJH2d41bPy/5\n",
       "AAAAAElFTkSuQmCC\n",
       "\" style=\"display:inline;vertical-align:middle;\" /></a></span>"
      ],
      "text/plain": [
       "|- (b in Integers) in BOOLEANS"
      ]
     },
     "execution_count": 5,
     "metadata": {},
     "output_type": "execute_result"
    }
   ],
   "source": [
    "InSet(b, Integers).deduceInBool()"
   ]
  },
  {
   "cell_type": "code",
   "execution_count": 6,
   "metadata": {},
   "outputs": [],
   "source": [
    "%end demonstrations"
   ]
  }
 ],
 "metadata": {
  "kernelspec": {
   "display_name": "Python 3",
   "language": "python",
   "name": "python3"
  }
 },
 "nbformat": 4,
 "nbformat_minor": 0
}
