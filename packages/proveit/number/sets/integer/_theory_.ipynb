{
 "cells": [
  {
   "cell_type": "markdown",
   "metadata": {},
   "source": [
    "Theory of <a class=\"ProveItLink\" href=\"../../../_theory_.ipynb\">proveit</a>.<a class=\"ProveItLink\" href=\"../../_theory_.ipynb\">number</a>.<a class=\"ProveItLink\" href=\"../_theory_.ipynb\">sets</a>.integer\n",
    "========\n",
    "\n",
    "Theory for the set of integer numbers, $\\mathbb{Z}$, and important subsets such as the natural numbers , $\\mathbb{N}$, and the positive natural numbers, $\\mathbb{N}^{+}$.  Natural numbers are first defined via counting, addition is defined as repetitive counting, subtraction is defined as the inverse of addition, then the integer numbers are the full set (closure) defined via addition and subtraction of natural numbers."
   ]
  },
  {
   "cell_type": "code",
   "execution_count": null,
   "metadata": {},
   "outputs": [],
   "source": [
    "import proveit\n",
    "%theory # toggles between interactive and static modes"
   ]
  },
  {
   "cell_type": "code",
   "execution_count": null,
   "metadata": {},
   "outputs": [],
   "source": []
  }
 ],
 "metadata": {
  "kernelspec": {
   "display_name": "Python 3",
   "language": "python",
   "name": "python3"
  },
  "language_info": {
   "codemirror_mode": {
    "name": "ipython",
    "version": 3
   },
   "file_extension": ".py",
   "mimetype": "text/x-python",
   "name": "python",
   "nbconvert_exporter": "python",
   "pygments_lexer": "ipython3",
   "version": "3.7.3"
  }
 },
 "nbformat": 4,
 "nbformat_minor": 1
}
