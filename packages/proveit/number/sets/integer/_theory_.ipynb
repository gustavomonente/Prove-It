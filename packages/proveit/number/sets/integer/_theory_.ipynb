{
 "cells": [
  {
   "cell_type": "markdown",
   "metadata": {},
   "source": [
    "Theory of <a class=\"ProveItLink\" href=\"../../../_theory_.ipynb\">proveit</a>.<a class=\"ProveItLink\" href=\"../../_theory_.ipynb\">number</a>.<a class=\"ProveItLink\" href=\"../_theory_.ipynb\">sets</a>.integer\n",
    "========\n",
    "\n",
    "Theory for the set of integers, $\\mathbb{Z}$, and important subsets such as naturals, $\\mathbb{N}$, and positive natruals, $\\mathbb{N}^{+}$.  Naturals are first defined via counting, addition is defined as repetitive counting, subtraction is defined as the inverse of addition, then the integers are the full set (closure) defined via addition and subtraction of natural numbers."
   ]
  },
  {
   "cell_type": "code",
   "execution_count": null,
   "metadata": {},
   "outputs": [],
   "source": [
    "import proveit\n",
    "%theory # toggles between interactive and static modes"
   ]
  },
  {
   "cell_type": "code",
   "execution_count": null,
   "metadata": {},
   "outputs": [],
   "source": []
  }
 ],
 "metadata": {
  "kernelspec": {
   "display_name": "Python 3",
   "language": "python",
   "name": "python3"
  }
 },
 "nbformat": 4,
 "nbformat_minor": 0
}
