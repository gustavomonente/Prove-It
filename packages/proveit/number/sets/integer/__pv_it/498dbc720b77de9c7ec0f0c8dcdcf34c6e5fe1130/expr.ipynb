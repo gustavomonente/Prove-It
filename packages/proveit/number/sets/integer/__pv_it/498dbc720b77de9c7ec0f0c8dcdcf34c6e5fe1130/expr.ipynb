{
 "cells": [
  {
   "cell_type": "markdown",
   "metadata": {},
   "source": [
    "Expression of type <a class=\"ProveItLink\" href=\"../../../../../../../doc/html/api/proveit.logic.And.html\">And</a>\n",
    "=======================\n",
    "# from context <a class=\"ProveItLink\" href=\"../../_context_.ipynb\">proveit.number.sets.integer</a>"
   ]
  },
  {
   "cell_type": "code",
   "execution_count": 1,
   "metadata": {},
   "outputs": [],
   "source": [
    "import proveit\n",
    "# Automation is not needed when building an expression:\n",
    "proveit.defaults.automation = False # This will speed things up.\n",
    "proveit.defaults.inline_pngs = False # Makes files smaller.\n",
    "# import Expression classes needed to build the expression\n",
    "from proveit._common_ import m\n",
    "from proveit.logic import And, Forall\n",
    "from proveit.number import Naturals\n",
    "from proveit.number._common_ import P_mAddOne, Pm, Pzero"
   ]
  },
  {
   "cell_type": "code",
   "execution_count": 2,
   "metadata": {},
   "outputs": [
    {
     "data": {
      "text/html": [
       "<strong id=\"expr\">expr:</strong> <a class=\"ProveItLink\" href=\"expr.ipynb\"><img src=\"expr.png\" style=\"display:inline;vertical-align:middle;\" /></a><br>"
      ],
      "text/plain": [
       "expr: P(0) and [forall_{m in Naturals | P(m)} P(m + 1)]"
      ]
     },
     "execution_count": 2,
     "metadata": {},
     "output_type": "execute_result"
    }
   ],
   "source": [
    "# build up the expression from sub-expressions\n",
    "expr = And(Pzero, Forall([m], P_mAddOne, domain = Naturals, condition = Pm))"
   ]
  },
  {
   "cell_type": "code",
   "execution_count": 3,
   "metadata": {},
   "outputs": [
    {
     "name": "stdout",
     "output_type": "stream",
     "text": [
      "Passed sanity check: built 'expr' is the same as the stored Expression.\n"
     ]
    }
   ],
   "source": [
    "# check that the built expression is the same as the stored expression\n",
    "%check_expr"
   ]
  },
  {
   "cell_type": "code",
   "execution_count": 4,
   "metadata": {},
   "outputs": [
    {
     "name": "stdout",
     "output_type": "stream",
     "text": [
      "P(0) \\land \\left[\\forall_{m \\in \\mathbb{N}~|~P(m)}~P(m + 1)\\right]\n"
     ]
    }
   ],
   "source": [
    "# Show the LaTeX representation of the expression for convenience if you need it.\n",
    "print(expr.latex())"
   ]
  },
  {
   "cell_type": "code",
   "execution_count": 5,
   "metadata": {},
   "outputs": [
    {
     "data": {
      "text/html": [
       "<table><tr><th>&nbsp;</th><th>core type</th><th>sub-expressions</th><th>expression</th></tr>\n",
       "<tr><td>0</td><td>Operation</td><td>operator:&nbsp;11<br>operands:&nbsp;1<br></td><td><a class=\"ProveItLink\" href=\"expr.ipynb\"><img src=\"expr.png\" style=\"display:inline;vertical-align:middle;\" /></a></td></tr>\n",
       "<tr><td>1</td><td>ExprTuple</td><td>2, 3</td><td><a class=\"ProveItLink\" href=\"../ea693ea29d409e7c5d47ba4253ba6d422e34b0260/expr.ipynb\"><img src=\"../ea693ea29d409e7c5d47ba4253ba6d422e34b0260/expr.png\" style=\"display:inline;vertical-align:middle;\" /></a></td></tr>\n",
       "<tr><td>2</td><td>Operation</td><td>operator:&nbsp;20<br>operand:&nbsp;4<br></td><td><a class=\"ProveItLink\" href=\"../../../../__pv_it/c491dba95ad85823965ef7c61600a16de3c7ea190/expr.ipynb\"><img src=\"../../../../__pv_it/c491dba95ad85823965ef7c61600a16de3c7ea190/expr.png\" style=\"display:inline;vertical-align:middle;\" /></a></td></tr>\n",
       "<tr><td>3</td><td>Operation</td><td>operator:&nbsp;5<br>operand:&nbsp;6<br></td><td><a class=\"ProveItLink\" href=\"../bda3f1b9231361036917eb787c6f8f87e4e5a4350/expr.ipynb\"><img src=\"../bda3f1b9231361036917eb787c6f8f87e4e5a4350/expr.png\" style=\"display:inline;vertical-align:middle;\" /></a></td></tr>\n",
       "<tr><td>4</td><td>Literal</td><td></td><td><a class=\"ProveItLink\" href=\"../../../../numeral/__pv_it/bcb6bc33e5975ec2290a3272bf7802d26ab8421d0/expr.ipynb\"><img src=\"../../../../numeral/__pv_it/bcb6bc33e5975ec2290a3272bf7802d26ab8421d0/expr.png\" style=\"display:inline;vertical-align:middle;\" /></a></td></tr>\n",
       "<tr><td>5</td><td>Literal</td><td></td><td><a class=\"ProveItLink\" href=\"../../../../../logic/boolean/quantification/universal/__pv_it/fd9c772d6675566ed52a6897806f45eb08a4ea910/expr.ipynb\"><img src=\"../../../../../logic/boolean/quantification/universal/__pv_it/fd9c772d6675566ed52a6897806f45eb08a4ea910/expr.png\" style=\"display:inline;vertical-align:middle;\" /></a></td></tr>\n",
       "<tr><td>6</td><td>Lambda</td><td>parameter:&nbsp;21<br>body:&nbsp;7<br></td><td><a class=\"ProveItLink\" href=\"../4052e96380a403a433cdcbf01983b49f7cf616b80/expr.ipynb\"><img src=\"../4052e96380a403a433cdcbf01983b49f7cf616b80/expr.png\" style=\"display:inline;vertical-align:middle;\" /></a></td></tr>\n",
       "<tr><td>7</td><td>Conditional</td><td>value:&nbsp;8<br>condition:&nbsp;9<br></td><td><a class=\"ProveItLink\" href=\"../43864bf0c682d2aef9306c43276c1e394728d1180/expr.ipynb\"><img src=\"../43864bf0c682d2aef9306c43276c1e394728d1180/expr.png\" style=\"display:inline;vertical-align:middle;\" /></a></td></tr>\n",
       "<tr><td>8</td><td>Operation</td><td>operator:&nbsp;20<br>operand:&nbsp;10<br></td><td><a class=\"ProveItLink\" href=\"../../../../__pv_it/62c523916ecaf4bf590a5d3d15e562f90f5f3f3a0/expr.ipynb\"><img src=\"../../../../__pv_it/62c523916ecaf4bf590a5d3d15e562f90f5f3f3a0/expr.png\" style=\"display:inline;vertical-align:middle;\" /></a></td></tr>\n",
       "<tr><td>9</td><td>Operation</td><td>operator:&nbsp;11<br>operands:&nbsp;12<br></td><td><a class=\"ProveItLink\" href=\"../c5421132edf2cd9f984a18f839d45c58d2c045af0/expr.ipynb\"><img src=\"../c5421132edf2cd9f984a18f839d45c58d2c045af0/expr.png\" style=\"display:inline;vertical-align:middle;\" /></a></td></tr>\n",
       "<tr><td>10</td><td>Operation</td><td>operator:&nbsp;13<br>operands:&nbsp;14<br></td><td><a class=\"ProveItLink\" href=\"../../../../__pv_it/2405c78a618b87810578a8f1ea9b7025f87fb8f80/expr.ipynb\"><img src=\"../../../../__pv_it/2405c78a618b87810578a8f1ea9b7025f87fb8f80/expr.png\" style=\"display:inline;vertical-align:middle;\" /></a></td></tr>\n",
       "<tr><td>11</td><td>Literal</td><td></td><td><a class=\"ProveItLink\" href=\"../../../../../logic/boolean/conjunction/__pv_it/f41cc6b553210927c09f19a8a39cdf860a5585930/expr.ipynb\"><img src=\"../../../../../logic/boolean/conjunction/__pv_it/f41cc6b553210927c09f19a8a39cdf860a5585930/expr.png\" style=\"display:inline;vertical-align:middle;\" /></a></td></tr>\n",
       "<tr><td>12</td><td>ExprTuple</td><td>15, 16</td><td><a class=\"ProveItLink\" href=\"../531b63d634b5e6232cc8d8a247c3e840856907c10/expr.ipynb\"><img src=\"../531b63d634b5e6232cc8d8a247c3e840856907c10/expr.png\" style=\"display:inline;vertical-align:middle;\" /></a></td></tr>\n",
       "<tr><td>13</td><td>Literal</td><td></td><td><a class=\"ProveItLink\" href=\"../../../../addition/__pv_it/65ad7e8aee19b10110d590375ba95a879c4fb7ea0/expr.ipynb\"><img src=\"../../../../addition/__pv_it/65ad7e8aee19b10110d590375ba95a879c4fb7ea0/expr.png\" style=\"display:inline;vertical-align:middle;\" /></a></td></tr>\n",
       "<tr><td>14</td><td>ExprTuple</td><td>21, 17</td><td><a class=\"ProveItLink\" href=\"../../../../__pv_it/2245a4534d7703e5e3dc7e3cfd7b6bb4ebb3f45b0/expr.ipynb\"><img src=\"../../../../__pv_it/2245a4534d7703e5e3dc7e3cfd7b6bb4ebb3f45b0/expr.png\" style=\"display:inline;vertical-align:middle;\" /></a></td></tr>\n",
       "<tr><td>15</td><td>Operation</td><td>operator:&nbsp;18<br>operands:&nbsp;19<br></td><td><a class=\"ProveItLink\" href=\"../31593bd7832f9e1d86acc22d24ae20f58973a4630/expr.ipynb\"><img src=\"../31593bd7832f9e1d86acc22d24ae20f58973a4630/expr.png\" style=\"display:inline;vertical-align:middle;\" /></a></td></tr>\n",
       "<tr><td>16</td><td>Operation</td><td>operator:&nbsp;20<br>operand:&nbsp;21<br></td><td><a class=\"ProveItLink\" href=\"../../../../__pv_it/a32eaed5ef9e1ff52b7fca66fdb03235ddc641cb0/expr.ipynb\"><img src=\"../../../../__pv_it/a32eaed5ef9e1ff52b7fca66fdb03235ddc641cb0/expr.png\" style=\"display:inline;vertical-align:middle;\" /></a></td></tr>\n",
       "<tr><td>17</td><td>Literal</td><td></td><td><a class=\"ProveItLink\" href=\"../../../../numeral/__pv_it/f086f8c372bd40a2458306ddfdbb29f3dc6f63030/expr.ipynb\"><img src=\"../../../../numeral/__pv_it/f086f8c372bd40a2458306ddfdbb29f3dc6f63030/expr.png\" style=\"display:inline;vertical-align:middle;\" /></a></td></tr>\n",
       "<tr><td>18</td><td>Literal</td><td></td><td><a class=\"ProveItLink\" href=\"../../../../../logic/set_theory/membership/__pv_it/7776fc89cb67d0b5b1ec2c0c8e08da5587921ccf0/expr.ipynb\"><img src=\"../../../../../logic/set_theory/membership/__pv_it/7776fc89cb67d0b5b1ec2c0c8e08da5587921ccf0/expr.png\" style=\"display:inline;vertical-align:middle;\" /></a></td></tr>\n",
       "<tr><td>19</td><td>ExprTuple</td><td>21, 22</td><td><a class=\"ProveItLink\" href=\"../e62c31b1eb3b18a7425c4a0e1024e5c3d11bd6fa0/expr.ipynb\"><img src=\"../e62c31b1eb3b18a7425c4a0e1024e5c3d11bd6fa0/expr.png\" style=\"display:inline;vertical-align:middle;\" /></a></td></tr>\n",
       "<tr><td>20</td><td>Variable</td><td></td><td><a class=\"ProveItLink\" href=\"../../../../../__pv_it/390c91a44e60b16c95d2255652741252e8ec8d980/expr.ipynb\"><img src=\"../../../../../__pv_it/390c91a44e60b16c95d2255652741252e8ec8d980/expr.png\" style=\"display:inline;vertical-align:middle;\" /></a></td></tr>\n",
       "<tr><td>21</td><td>Variable</td><td></td><td><a class=\"ProveItLink\" href=\"../../../../../__pv_it/6e8a38e9a7e2b6af352562cd77e0eb4751f142620/expr.ipynb\"><img src=\"../../../../../__pv_it/6e8a38e9a7e2b6af352562cd77e0eb4751f142620/expr.png\" style=\"display:inline;vertical-align:middle;\" /></a></td></tr>\n",
       "<tr><td>22</td><td>Literal</td><td></td><td><a class=\"ProveItLink\" href=\"../b49c37b99b7e8d73a8d7971bcf454d693b90a2c60/expr.ipynb\"><img src=\"../b49c37b99b7e8d73a8d7971bcf454d693b90a2c60/expr.png\" style=\"display:inline;vertical-align:middle;\" /></a></td></tr>\n",
       "</table>\n"
      ],
      "text/plain": [
       "0. P(0) and [forall_{m in Naturals | P(m)} P(m + 1)]\n",
       "   core type: Operation\n",
       "   operator: 11\n",
       "   operands: 1\n",
       "1. (P(0), forall_{m in Naturals | P(m)} P(m + 1))\n",
       "   core type: ExprTuple\n",
       "   sub-expressions: 2, 3\n",
       "2. P(0)\n",
       "   core type: Operation\n",
       "   operator: 20\n",
       "   operand: 4\n",
       "3. forall_{m in Naturals | P(m)} P(m + 1)\n",
       "   core type: Operation\n",
       "   operator: 5\n",
       "   operand: 6\n",
       "4. 0\n",
       "   core type: Literal\n",
       "   sub-expressions: \n",
       "5. forall\n",
       "   core type: Literal\n",
       "   sub-expressions: \n",
       "6. m -> {P(m + 1) if m in Naturals ,  P(m).\n",
       "   core type: Lambda\n",
       "   parameter: 21\n",
       "   body: 7\n",
       "7. {P(m + 1) if m in Naturals ,  P(m).\n",
       "   core type: Conditional\n",
       "   value: 8\n",
       "   condition: 9\n",
       "8. P(m + 1)\n",
       "   core type: Operation\n",
       "   operator: 20\n",
       "   operand: 10\n",
       "9. (m in Naturals) and P(m)\n",
       "   core type: Operation\n",
       "   operator: 11\n",
       "   operands: 12\n",
       "10. m + 1\n",
       "    core type: Operation\n",
       "    operator: 13\n",
       "    operands: 14\n",
       "11. and\n",
       "    core type: Literal\n",
       "    sub-expressions: \n",
       "12. (m in Naturals, P(m))\n",
       "    core type: ExprTuple\n",
       "    sub-expressions: 15, 16\n",
       "13. +\n",
       "    core type: Literal\n",
       "    sub-expressions: \n",
       "14. (m, 1)\n",
       "    core type: ExprTuple\n",
       "    sub-expressions: 21, 17\n",
       "15. m in Naturals\n",
       "    core type: Operation\n",
       "    operator: 18\n",
       "    operands: 19\n",
       "16. P(m)\n",
       "    core type: Operation\n",
       "    operator: 20\n",
       "    operand: 21\n",
       "17. 1\n",
       "    core type: Literal\n",
       "    sub-expressions: \n",
       "18. in\n",
       "    core type: Literal\n",
       "    sub-expressions: \n",
       "19. (m, Naturals)\n",
       "    core type: ExprTuple\n",
       "    sub-expressions: 21, 22\n",
       "20. P\n",
       "    core type: Variable\n",
       "    sub-expressions: \n",
       "21. m\n",
       "    core type: Variable\n",
       "    sub-expressions: \n",
       "22. Naturals\n",
       "    core type: Literal\n",
       "    sub-expressions: "
      ]
     },
     "execution_count": 5,
     "metadata": {},
     "output_type": "execute_result"
    }
   ],
   "source": [
    "# display the expression information\n",
    "expr.exprInfo()"
   ]
  },
  {
   "cell_type": "code",
   "execution_count": null,
   "metadata": {},
   "outputs": [],
   "source": []
  }
 ],
 "metadata": {
  "kernelspec": {
   "display_name": "Python 3",
   "language": "python",
   "name": "python3"
  },
  "language_info": {
   "codemirror_mode": {
    "name": "ipython",
    "version": 3
   },
   "file_extension": ".py",
   "mimetype": "text/x-python",
   "name": "python",
   "nbconvert_exporter": "python",
   "pygments_lexer": "ipython3",
   "version": "3.7.3"
  }
 },
 "nbformat": 4,
 "nbformat_minor": 1
}
