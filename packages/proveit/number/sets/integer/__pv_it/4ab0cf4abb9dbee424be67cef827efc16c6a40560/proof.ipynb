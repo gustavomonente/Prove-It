{
 "cells": [
  {
   "cell_type": "markdown",
   "metadata": {},
   "source": [
    "Show the Proof\n",
    "========"
   ]
  },
  {
   "cell_type": "code",
   "execution_count": 1,
   "metadata": {},
   "outputs": [
    {
     "data": {
      "text/html": [
       "<table><tr><th>&nbsp;</th><th>step type</th><th>requirements</th><th>statement</th></tr>\n",
       "<tr><td><a name=\"proveit.number.sets.integer.4ab0cf4abb9dbee424be67cef827efc16c6a40560_step0\">0</a></td><td>instantiation</td><td><a href=\"#proveit.number.sets.integer.4ab0cf4abb9dbee424be67cef827efc16c6a40560_step1\">1</a>, <a href=\"#proveit.number.sets.integer.4ab0cf4abb9dbee424be67cef827efc16c6a40560_step2\">2</a>, <a href=\"#proveit.number.sets.integer.4ab0cf4abb9dbee424be67cef827efc16c6a40560_step3\">3</a></td><td><span style=\"font-size:20px;\"> <a class=\"ProveItLink\" href=\"proof.ipynb\" style=\"text-decoration: none\">&#x22A2;&nbsp;</a><a class=\"ProveItLink\" href=\"../6d64d205df3055fd5f93c0a6e9db7552ca78f0960/expr.ipynb\"><img src=\"../6d64d205df3055fd5f93c0a6e9db7552ca78f0960/expr.png\" style=\"display:inline;vertical-align:middle;\" /></a></span></td></tr>\n",
       "<tr><td>&nbsp;</td><td colspan=4 style=\"text-align:left\"><span style=\"font-size:20px;\"><a class=\"ProveItLink\" href=\"../../../../../__pv_it/0c1c4cb515e0f4344b1ac06650f349123e526deb0/expr.ipynb\"><img src=\"../../../../../__pv_it/0c1c4cb515e0f4344b1ac06650f349123e526deb0/expr.png\" style=\"display:inline;vertical-align:middle;\" /></a> : <a class=\"ProveItLink\" href=\"../../../../numeral/__pv_it/f086f8c372bd40a2458306ddfdbb29f3dc6f63030/expr.ipynb\"><img src=\"../../../../numeral/__pv_it/f086f8c372bd40a2458306ddfdbb29f3dc6f63030/expr.png\" style=\"display:inline;vertical-align:middle;\" /></a>, <a class=\"ProveItLink\" href=\"../52fa1ebb9e22d5b8702e41b1c13fbd91d819ba4c0/expr.ipynb\"><img src=\"../52fa1ebb9e22d5b8702e41b1c13fbd91d819ba4c0/expr.png\" style=\"display:inline;vertical-align:middle;\" /></a> : <a class=\"ProveItLink\" href=\"../690980fe32addca219411457a9b405774cb637b80/expr.ipynb\"><img src=\"../690980fe32addca219411457a9b405774cb637b80/expr.png\" style=\"display:inline;vertical-align:middle;\" /></a>, <a class=\"ProveItLink\" href=\"../0d097e93aee948ea436d29683dea4bac00cf92030/expr.ipynb\"><img src=\"../0d097e93aee948ea436d29683dea4bac00cf92030/expr.png\" style=\"display:inline;vertical-align:middle;\" /></a> : <a class=\"ProveItLink\" href=\"../cb4b96136facefee644270ef3384eb679743d0470/expr.ipynb\"><img src=\"../cb4b96136facefee644270ef3384eb679743d0470/expr.png\" style=\"display:inline;vertical-align:middle;\" /></a></span></td></tr><tr><td><a name=\"proveit.number.sets.integer.4ab0cf4abb9dbee424be67cef827efc16c6a40560_step1\">1</a></td><td>axiom</td><td></td><td><span style=\"font-size:20px;\"> <a class=\"ProveItLink\" href=\"../../../../../logic/boolean/quantification/universal/_axioms_.ipynb#forall_in_bool\" style=\"text-decoration: none\">&#x22A2;&nbsp;</a><a class=\"ProveItLink\" href=\"../0203f38ec35249b51b7da0c2ee1a647076e961c70/expr.ipynb\"><img src=\"../0203f38ec35249b51b7da0c2ee1a647076e961c70/expr.png\" style=\"display:inline;vertical-align:middle;\" /></a></span></td></tr>\n",
       "<tr><td>&nbsp;</td><td colspan=4 style-\"text-align:left\"><a class=\"ProveItLink\" href=\"../../../../../logic/boolean/quantification/universal/_axioms_.ipynb#forall_in_bool\">proveit.logic.boolean.quantification.universal.forall_in_bool</a></td></tr><tr><td><a name=\"proveit.number.sets.integer.4ab0cf4abb9dbee424be67cef827efc16c6a40560_step2\">2</a></td><td>instantiation</td><td><a href=\"#proveit.number.sets.integer.4ab0cf4abb9dbee424be67cef827efc16c6a40560_step4\">4</a></td><td><span style=\"font-size:20px;\"> <a class=\"ProveItLink\" href=\"../a300af17172b504ca85b344879245c517e845ad90/proof.ipynb\" style=\"text-decoration: none\">&#x22A2;&nbsp;</a><a class=\"ProveItLink\" href=\"../28b967ddc0a7b795aa6f53ad4e2b23e8d8e472670/expr.ipynb\"><img src=\"../28b967ddc0a7b795aa6f53ad4e2b23e8d8e472670/expr.png\" style=\"display:inline;vertical-align:middle;\" /></a></span></td></tr>\n",
       "<tr><td>&nbsp;</td><td colspan=4 style=\"text-align:left\"><span style=\"font-size:20px;\"><a class=\"ProveItLink\" href=\"../../../../../__pv_it/a8d4b3a34d2189508f9082853fbac36935714f280/expr.ipynb\"><img src=\"../../../../../__pv_it/a8d4b3a34d2189508f9082853fbac36935714f280/expr.png\" style=\"display:inline;vertical-align:middle;\" /></a> : <a class=\"ProveItLink\" href=\"../../../../../__pv_it/f7e31792649ed3cb09061ae8e85d975fd4cc9fa60/expr.ipynb\"><img src=\"../../../../../__pv_it/f7e31792649ed3cb09061ae8e85d975fd4cc9fa60/expr.png\" style=\"display:inline;vertical-align:middle;\" /></a></span></td></tr><tr><td><a name=\"proveit.number.sets.integer.4ab0cf4abb9dbee424be67cef827efc16c6a40560_step3\">3</a></td><td>theorem</td><td></td><td><span style=\"font-size:20px;\"> <a class=\"ProveItLink\" href=\"../../../../numeral/deci/_proofs_/posnat1.ipynb\" style=\"text-decoration: none\">&#x22A2;&nbsp;</a><a class=\"ProveItLink\" href=\"../099422082fdbe3473fd917c29a7c5e7dcf27a5a60/expr.ipynb\"><img src=\"../099422082fdbe3473fd917c29a7c5e7dcf27a5a60/expr.png\" style=\"display:inline;vertical-align:middle;\" /></a></span></td></tr>\n",
       "<tr><td>&nbsp;</td><td colspan=4 style-\"text-align:left\"><a class=\"ProveItLink\" href=\"../../../../numeral/deci/_proofs_/posnat1.ipynb\">proveit.number.numeral.deci.posnat1</a></td></tr><tr><td><a name=\"proveit.number.sets.integer.4ab0cf4abb9dbee424be67cef827efc16c6a40560_step4\">4</a></td><td>theorem</td><td></td><td><span style=\"font-size:20px;\"> <a class=\"ProveItLink\" href=\"../../../../numeral/deci/_proofs_/tuple_len_1_typical_equiv.ipynb\" style=\"text-decoration: none\">&#x22A2;&nbsp;</a><a class=\"ProveItLink\" href=\"../c70a6e4cbe09567938be76e95e62e9759828831b0/expr.ipynb\"><img src=\"../c70a6e4cbe09567938be76e95e62e9759828831b0/expr.png\" style=\"display:inline;vertical-align:middle;\" /></a></span></td></tr>\n",
       "<tr><td>&nbsp;</td><td colspan=4 style-\"text-align:left\"><a class=\"ProveItLink\" href=\"../../../../numeral/deci/_proofs_/tuple_len_1_typical_equiv.ipynb\">proveit.number.numeral.deci.tuple_len_1_typical_equiv</a></td></tr></table>"
      ],
      "text/plain": [
       "<proveit._core_.proof._ShowProof at 0x7f5bb0b45ba8>"
      ]
     },
     "execution_count": 1,
     "metadata": {},
     "output_type": "execute_result"
    }
   ],
   "source": [
    "import proveit\n",
    "# Automation is not needed when only showing a stored proof:\n",
    "proveit.defaults.automation = False # This will speed things up.\n",
    "proveit.defaults.inline_pngs = False # Makes files smaller.\n",
    "%show_proof"
   ]
  },
  {
   "cell_type": "code",
   "execution_count": null,
   "metadata": {},
   "outputs": [],
   "source": []
  }
 ],
 "metadata": {
  "kernelspec": {
   "display_name": "Python 3",
   "language": "python",
   "name": "python3"
  },
  "language_info": {
   "codemirror_mode": {
    "name": "ipython",
    "version": 3
   },
   "file_extension": ".py",
   "mimetype": "text/x-python",
   "name": "python",
   "nbconvert_exporter": "python",
   "pygments_lexer": "ipython3",
   "version": "3.7.3"
  }
 },
 "nbformat": 4,
 "nbformat_minor": 1
}
