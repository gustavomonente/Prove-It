{
 "cells": [
  {
   "cell_type": "markdown",
   "metadata": {},
   "source": [
    "Expression of type <a class=\"ProveItLink\" href=\"../../../../../../../doc/html/api/proveit.ExprTuple.html\">ExprTuple</a>\n",
    "=======================\n",
    "# from context <a class=\"ProveItLink\" href=\"../../_context_.ipynb\">proveit.number.sets.integer</a>"
   ]
  },
  {
   "cell_type": "code",
   "execution_count": 1,
   "metadata": {},
   "outputs": [],
   "source": [
    "import proveit\n",
    "# Automation is not needed when building an expression:\n",
    "proveit.defaults.automation = False # This will speed things up.\n",
    "proveit.defaults.inline_pngs = False # Makes files smaller.\n",
    "# import Expression classes needed to build the expression\n",
    "from proveit import ExprTuple\n",
    "from proveit._common_ import S, k, x\n",
    "from proveit.logic import And, Forall, Implies, InSet\n",
    "from proveit.number import Add, Naturals, one, zero"
   ]
  },
  {
   "cell_type": "code",
   "execution_count": 2,
   "metadata": {},
   "outputs": [
    {
     "data": {
      "text/html": [
       "<strong id=\"expr\">expr:</strong> <a class=\"ProveItLink\" href=\"expr.ipynb\"><img src=\"expr.png\" style=\"display:inline;vertical-align:middle;\" /></a><br>"
      ],
      "text/plain": [
       "expr: (x in Naturals, forall_{S} (((0 in S) and [forall_{k in S} ((k + 1) in S)]) => (x in S)))"
      ]
     },
     "execution_count": 2,
     "metadata": {},
     "output_type": "execute_result"
    }
   ],
   "source": [
    "# build up the expression from sub-expressions\n",
    "expr = ExprTuple(InSet(x, Naturals), Forall([S], Implies(And(InSet(zero, S), Forall([k], InSet(Add(k, one), S), domain = S)), InSet(x, S))))"
   ]
  },
  {
   "cell_type": "code",
   "execution_count": 3,
   "metadata": {},
   "outputs": [
    {
     "name": "stdout",
     "output_type": "stream",
     "text": [
      "Passed sanity check: built 'expr' is the same as the stored Expression.\n"
     ]
    }
   ],
   "source": [
    "# check that the built expression is the same as the stored expression\n",
    "%check_expr"
   ]
  },
  {
   "cell_type": "code",
   "execution_count": 4,
   "metadata": {},
   "outputs": [
    {
     "name": "stdout",
     "output_type": "stream",
     "text": [
      "\\left(x \\in \\mathbb{N}, \\forall_{S}~\\left(\\left(\\left(0 \\in S\\right) \\land \\left[\\forall_{k \\in S}~\\left(\\left(k + 1\\right) \\in S\\right)\\right]\\right) \\Rightarrow \\left(x \\in S\\right)\\right)\\right)\n"
     ]
    }
   ],
   "source": [
    "# Show the LaTeX representation of the expression for convenience if you need it.\n",
    "print(expr.latex())"
   ]
  },
  {
   "cell_type": "code",
   "execution_count": 5,
   "metadata": {},
   "outputs": [
    {
     "data": {
      "text/html": [
       "<table><tr><th>&nbsp;</th><th>core type</th><th>sub-expressions</th><th>expression</th></tr>\n",
       "<tr><td>0</td><td>ExprTuple</td><td>1, 2</td><td><a class=\"ProveItLink\" href=\"expr.ipynb\"><img src=\"expr.png\" style=\"display:inline;vertical-align:middle;\" /></a></td></tr>\n",
       "<tr><td>1</td><td>Operation</td><td>operator:&nbsp;25<br>operands:&nbsp;3<br></td><td><a class=\"ProveItLink\" href=\"../04a4ac756ba5d803bb6ab2076f63a766e087d2040/expr.ipynb\"><img src=\"../04a4ac756ba5d803bb6ab2076f63a766e087d2040/expr.png\" style=\"display:inline;vertical-align:middle;\" /></a></td></tr>\n",
       "<tr><td>2</td><td>Operation</td><td>operator:&nbsp;18<br>operand:&nbsp;4<br></td><td><a class=\"ProveItLink\" href=\"../a996abb858bdc8a00080ec472b78b1f07e3f23f10/expr.ipynb\"><img src=\"../a996abb858bdc8a00080ec472b78b1f07e3f23f10/expr.png\" style=\"display:inline;vertical-align:middle;\" /></a></td></tr>\n",
       "<tr><td>3</td><td>ExprTuple</td><td>16, 5</td><td><a class=\"ProveItLink\" href=\"../df6186a8c0b481391395eceb95a638c7cbac89260/expr.ipynb\"><img src=\"../df6186a8c0b481391395eceb95a638c7cbac89260/expr.png\" style=\"display:inline;vertical-align:middle;\" /></a></td></tr>\n",
       "<tr><td>4</td><td>Lambda</td><td>parameter:&nbsp;28<br>body:&nbsp;6<br></td><td><a class=\"ProveItLink\" href=\"../b14170111487645537237b6411709162a889e7650/expr.ipynb\"><img src=\"../b14170111487645537237b6411709162a889e7650/expr.png\" style=\"display:inline;vertical-align:middle;\" /></a></td></tr>\n",
       "<tr><td>5</td><td>Literal</td><td></td><td><a class=\"ProveItLink\" href=\"../b49c37b99b7e8d73a8d7971bcf454d693b90a2c60/expr.ipynb\"><img src=\"../b49c37b99b7e8d73a8d7971bcf454d693b90a2c60/expr.png\" style=\"display:inline;vertical-align:middle;\" /></a></td></tr>\n",
       "<tr><td>6</td><td>Operation</td><td>operator:&nbsp;7<br>operands:&nbsp;8<br></td><td><a class=\"ProveItLink\" href=\"../1cb0835902b91473ace99d293285b2e9d4aaa8ff0/expr.ipynb\"><img src=\"../1cb0835902b91473ace99d293285b2e9d4aaa8ff0/expr.png\" style=\"display:inline;vertical-align:middle;\" /></a></td></tr>\n",
       "<tr><td>7</td><td>Literal</td><td></td><td><a class=\"ProveItLink\" href=\"../../../../../logic/boolean/implication/__pv_it/1e62b0c0a90306fc48b17f0dc8d4dc4df8bb234f0/expr.ipynb\"><img src=\"../../../../../logic/boolean/implication/__pv_it/1e62b0c0a90306fc48b17f0dc8d4dc4df8bb234f0/expr.png\" style=\"display:inline;vertical-align:middle;\" /></a></td></tr>\n",
       "<tr><td>8</td><td>ExprTuple</td><td>9, 10</td><td><a class=\"ProveItLink\" href=\"../7848aae3473ac629ac1bd55b31885a0e93a43e120/expr.ipynb\"><img src=\"../7848aae3473ac629ac1bd55b31885a0e93a43e120/expr.png\" style=\"display:inline;vertical-align:middle;\" /></a></td></tr>\n",
       "<tr><td>9</td><td>Operation</td><td>operator:&nbsp;11<br>operands:&nbsp;12<br></td><td><a class=\"ProveItLink\" href=\"../df1d83bef688dc714ea4cfd3505a415719a6f42d0/expr.ipynb\"><img src=\"../df1d83bef688dc714ea4cfd3505a415719a6f42d0/expr.png\" style=\"display:inline;vertical-align:middle;\" /></a></td></tr>\n",
       "<tr><td>10</td><td>Operation</td><td>operator:&nbsp;25<br>operands:&nbsp;13<br></td><td><a class=\"ProveItLink\" href=\"../ab2328feb7d8b1f6c2f57c4ab65a449d487666b30/expr.ipynb\"><img src=\"../ab2328feb7d8b1f6c2f57c4ab65a449d487666b30/expr.png\" style=\"display:inline;vertical-align:middle;\" /></a></td></tr>\n",
       "<tr><td>11</td><td>Literal</td><td></td><td><a class=\"ProveItLink\" href=\"../../../../../logic/boolean/conjunction/__pv_it/f41cc6b553210927c09f19a8a39cdf860a5585930/expr.ipynb\"><img src=\"../../../../../logic/boolean/conjunction/__pv_it/f41cc6b553210927c09f19a8a39cdf860a5585930/expr.png\" style=\"display:inline;vertical-align:middle;\" /></a></td></tr>\n",
       "<tr><td>12</td><td>ExprTuple</td><td>14, 15</td><td><a class=\"ProveItLink\" href=\"../f008772c365de10b1be825af8c55fdf83ed514e00/expr.ipynb\"><img src=\"../f008772c365de10b1be825af8c55fdf83ed514e00/expr.png\" style=\"display:inline;vertical-align:middle;\" /></a></td></tr>\n",
       "<tr><td>13</td><td>ExprTuple</td><td>16, 28</td><td><a class=\"ProveItLink\" href=\"../68dbe04b088e79145b7d397f13fac24df3146d7e0/expr.ipynb\"><img src=\"../68dbe04b088e79145b7d397f13fac24df3146d7e0/expr.png\" style=\"display:inline;vertical-align:middle;\" /></a></td></tr>\n",
       "<tr><td>14</td><td>Operation</td><td>operator:&nbsp;25<br>operands:&nbsp;17<br></td><td><a class=\"ProveItLink\" href=\"../8024a703f96a5d815d4f8fe3965f234a87ef701d0/expr.ipynb\"><img src=\"../8024a703f96a5d815d4f8fe3965f234a87ef701d0/expr.png\" style=\"display:inline;vertical-align:middle;\" /></a></td></tr>\n",
       "<tr><td>15</td><td>Operation</td><td>operator:&nbsp;18<br>operand:&nbsp;19<br></td><td><a class=\"ProveItLink\" href=\"../a0e56e6464a4cda38b4e4ed711e1a64625d4fba30/expr.ipynb\"><img src=\"../a0e56e6464a4cda38b4e4ed711e1a64625d4fba30/expr.png\" style=\"display:inline;vertical-align:middle;\" /></a></td></tr>\n",
       "<tr><td>16</td><td>Variable</td><td></td><td><a class=\"ProveItLink\" href=\"../../../../../__pv_it/72df168d2bfb4e0140af90912ebf83b13772060b0/expr.ipynb\"><img src=\"../../../../../__pv_it/72df168d2bfb4e0140af90912ebf83b13772060b0/expr.png\" style=\"display:inline;vertical-align:middle;\" /></a></td></tr>\n",
       "<tr><td>17</td><td>ExprTuple</td><td>20, 28</td><td><a class=\"ProveItLink\" href=\"../8a71a7ba7de1df420f6ff3a65a0d6e1424383a350/expr.ipynb\"><img src=\"../8a71a7ba7de1df420f6ff3a65a0d6e1424383a350/expr.png\" style=\"display:inline;vertical-align:middle;\" /></a></td></tr>\n",
       "<tr><td>18</td><td>Literal</td><td></td><td><a class=\"ProveItLink\" href=\"../../../../../logic/boolean/quantification/universal/__pv_it/fd9c772d6675566ed52a6897806f45eb08a4ea910/expr.ipynb\"><img src=\"../../../../../logic/boolean/quantification/universal/__pv_it/fd9c772d6675566ed52a6897806f45eb08a4ea910/expr.png\" style=\"display:inline;vertical-align:middle;\" /></a></td></tr>\n",
       "<tr><td>19</td><td>Lambda</td><td>parameter:&nbsp;31<br>body:&nbsp;21<br></td><td><a class=\"ProveItLink\" href=\"../3ad3e7834d92e28a49c9170019e3965c29698a100/expr.ipynb\"><img src=\"../3ad3e7834d92e28a49c9170019e3965c29698a100/expr.png\" style=\"display:inline;vertical-align:middle;\" /></a></td></tr>\n",
       "<tr><td>20</td><td>Literal</td><td></td><td><a class=\"ProveItLink\" href=\"../../../../numeral/__pv_it/bcb6bc33e5975ec2290a3272bf7802d26ab8421d0/expr.ipynb\"><img src=\"../../../../numeral/__pv_it/bcb6bc33e5975ec2290a3272bf7802d26ab8421d0/expr.png\" style=\"display:inline;vertical-align:middle;\" /></a></td></tr>\n",
       "<tr><td>21</td><td>Conditional</td><td>value:&nbsp;22<br>condition:&nbsp;23<br></td><td><a class=\"ProveItLink\" href=\"../28d69ebf9a4b55e6c1a99ada74b1415a05d659920/expr.ipynb\"><img src=\"../28d69ebf9a4b55e6c1a99ada74b1415a05d659920/expr.png\" style=\"display:inline;vertical-align:middle;\" /></a></td></tr>\n",
       "<tr><td>22</td><td>Operation</td><td>operator:&nbsp;25<br>operands:&nbsp;24<br></td><td><a class=\"ProveItLink\" href=\"../b785b813eb2aba6c9eb9065aa1a900e42ab81eeb0/expr.ipynb\"><img src=\"../b785b813eb2aba6c9eb9065aa1a900e42ab81eeb0/expr.png\" style=\"display:inline;vertical-align:middle;\" /></a></td></tr>\n",
       "<tr><td>23</td><td>Operation</td><td>operator:&nbsp;25<br>operands:&nbsp;26<br></td><td><a class=\"ProveItLink\" href=\"../bdc7c690af63591906a254d1183263f246eb32630/expr.ipynb\"><img src=\"../bdc7c690af63591906a254d1183263f246eb32630/expr.png\" style=\"display:inline;vertical-align:middle;\" /></a></td></tr>\n",
       "<tr><td>24</td><td>ExprTuple</td><td>27, 28</td><td><a class=\"ProveItLink\" href=\"../b62782c528e0349cfaef3b4be4d5e1742b99db9a0/expr.ipynb\"><img src=\"../b62782c528e0349cfaef3b4be4d5e1742b99db9a0/expr.png\" style=\"display:inline;vertical-align:middle;\" /></a></td></tr>\n",
       "<tr><td>25</td><td>Literal</td><td></td><td><a class=\"ProveItLink\" href=\"../../../../../logic/set_theory/membership/__pv_it/7776fc89cb67d0b5b1ec2c0c8e08da5587921ccf0/expr.ipynb\"><img src=\"../../../../../logic/set_theory/membership/__pv_it/7776fc89cb67d0b5b1ec2c0c8e08da5587921ccf0/expr.png\" style=\"display:inline;vertical-align:middle;\" /></a></td></tr>\n",
       "<tr><td>26</td><td>ExprTuple</td><td>31, 28</td><td><a class=\"ProveItLink\" href=\"../1eaed733b9d6e275f2380e11b633e2cb259e6e750/expr.ipynb\"><img src=\"../1eaed733b9d6e275f2380e11b633e2cb259e6e750/expr.png\" style=\"display:inline;vertical-align:middle;\" /></a></td></tr>\n",
       "<tr><td>27</td><td>Operation</td><td>operator:&nbsp;29<br>operands:&nbsp;30<br></td><td><a class=\"ProveItLink\" href=\"../0017f0f4a400c5736f10ff6de59633c08eb6d30a0/expr.ipynb\"><img src=\"../0017f0f4a400c5736f10ff6de59633c08eb6d30a0/expr.png\" style=\"display:inline;vertical-align:middle;\" /></a></td></tr>\n",
       "<tr><td>28</td><td>Variable</td><td></td><td><a class=\"ProveItLink\" href=\"../../../../../__pv_it/f7e31792649ed3cb09061ae8e85d975fd4cc9fa60/expr.ipynb\"><img src=\"../../../../../__pv_it/f7e31792649ed3cb09061ae8e85d975fd4cc9fa60/expr.png\" style=\"display:inline;vertical-align:middle;\" /></a></td></tr>\n",
       "<tr><td>29</td><td>Literal</td><td></td><td><a class=\"ProveItLink\" href=\"../../../../addition/__pv_it/65ad7e8aee19b10110d590375ba95a879c4fb7ea0/expr.ipynb\"><img src=\"../../../../addition/__pv_it/65ad7e8aee19b10110d590375ba95a879c4fb7ea0/expr.png\" style=\"display:inline;vertical-align:middle;\" /></a></td></tr>\n",
       "<tr><td>30</td><td>ExprTuple</td><td>31, 32</td><td><a class=\"ProveItLink\" href=\"../1554360654b27406b43eded4e75e61e401b3b4590/expr.ipynb\"><img src=\"../1554360654b27406b43eded4e75e61e401b3b4590/expr.png\" style=\"display:inline;vertical-align:middle;\" /></a></td></tr>\n",
       "<tr><td>31</td><td>Variable</td><td></td><td><a class=\"ProveItLink\" href=\"../../../../../__pv_it/273f49450ca25e1b56abbd98a7aef618f8f6c1360/expr.ipynb\"><img src=\"../../../../../__pv_it/273f49450ca25e1b56abbd98a7aef618f8f6c1360/expr.png\" style=\"display:inline;vertical-align:middle;\" /></a></td></tr>\n",
       "<tr><td>32</td><td>Literal</td><td></td><td><a class=\"ProveItLink\" href=\"../../../../numeral/__pv_it/f086f8c372bd40a2458306ddfdbb29f3dc6f63030/expr.ipynb\"><img src=\"../../../../numeral/__pv_it/f086f8c372bd40a2458306ddfdbb29f3dc6f63030/expr.png\" style=\"display:inline;vertical-align:middle;\" /></a></td></tr>\n",
       "</table>\n"
      ],
      "text/plain": [
       "0. (x in Naturals, forall_{S} (((0 in S) and [forall_{k in S} ((k + 1) in S)]) => (x in S)))\n",
       "   core type: ExprTuple\n",
       "   sub-expressions: 1, 2\n",
       "1. x in Naturals\n",
       "   core type: Operation\n",
       "   operator: 25\n",
       "   operands: 3\n",
       "2. forall_{S} (((0 in S) and [forall_{k in S} ((k + 1) in S)]) => (x in S))\n",
       "   core type: Operation\n",
       "   operator: 18\n",
       "   operand: 4\n",
       "3. (x, Naturals)\n",
       "   core type: ExprTuple\n",
       "   sub-expressions: 16, 5\n",
       "4. S -> (((0 in S) and [forall_{k in S} ((k + 1) in S)]) => (x in S))\n",
       "   core type: Lambda\n",
       "   parameter: 28\n",
       "   body: 6\n",
       "5. Naturals\n",
       "   core type: Literal\n",
       "   sub-expressions: \n",
       "6. ((0 in S) and [forall_{k in S} ((k + 1) in S)]) => (x in S)\n",
       "   core type: Operation\n",
       "   operator: 7\n",
       "   operands: 8\n",
       "7. =>\n",
       "   core type: Literal\n",
       "   sub-expressions: \n",
       "8. ((0 in S) and [forall_{k in S} ((k + 1) in S)], x in S)\n",
       "   core type: ExprTuple\n",
       "   sub-expressions: 9, 10\n",
       "9. (0 in S) and [forall_{k in S} ((k + 1) in S)]\n",
       "   core type: Operation\n",
       "   operator: 11\n",
       "   operands: 12\n",
       "10. x in S\n",
       "    core type: Operation\n",
       "    operator: 25\n",
       "    operands: 13\n",
       "11. and\n",
       "    core type: Literal\n",
       "    sub-expressions: \n",
       "12. (0 in S, forall_{k in S} ((k + 1) in S))\n",
       "    core type: ExprTuple\n",
       "    sub-expressions: 14, 15\n",
       "13. (x, S)\n",
       "    core type: ExprTuple\n",
       "    sub-expressions: 16, 28\n",
       "14. 0 in S\n",
       "    core type: Operation\n",
       "    operator: 25\n",
       "    operands: 17\n",
       "15. forall_{k in S} ((k + 1) in S)\n",
       "    core type: Operation\n",
       "    operator: 18\n",
       "    operand: 19\n",
       "16. x\n",
       "    core type: Variable\n",
       "    sub-expressions: \n",
       "17. (0, S)\n",
       "    core type: ExprTuple\n",
       "    sub-expressions: 20, 28\n",
       "18. forall\n",
       "    core type: Literal\n",
       "    sub-expressions: \n",
       "19. k -> {(k + 1) in S if k in S.\n",
       "    core type: Lambda\n",
       "    parameter: 31\n",
       "    body: 21\n",
       "20. 0\n",
       "    core type: Literal\n",
       "    sub-expressions: \n",
       "21. {(k + 1) in S if k in S.\n",
       "    core type: Conditional\n",
       "    value: 22\n",
       "    condition: 23\n",
       "22. (k + 1) in S\n",
       "    core type: Operation\n",
       "    operator: 25\n",
       "    operands: 24\n",
       "23. k in S\n",
       "    core type: Operation\n",
       "    operator: 25\n",
       "    operands: 26\n",
       "24. (k + 1, S)\n",
       "    core type: ExprTuple\n",
       "    sub-expressions: 27, 28\n",
       "25. in\n",
       "    core type: Literal\n",
       "    sub-expressions: \n",
       "26. (k, S)\n",
       "    core type: ExprTuple\n",
       "    sub-expressions: 31, 28\n",
       "27. k + 1\n",
       "    core type: Operation\n",
       "    operator: 29\n",
       "    operands: 30\n",
       "28. S\n",
       "    core type: Variable\n",
       "    sub-expressions: \n",
       "29. +\n",
       "    core type: Literal\n",
       "    sub-expressions: \n",
       "30. (k, 1)\n",
       "    core type: ExprTuple\n",
       "    sub-expressions: 31, 32\n",
       "31. k\n",
       "    core type: Variable\n",
       "    sub-expressions: \n",
       "32. 1\n",
       "    core type: Literal\n",
       "    sub-expressions: "
      ]
     },
     "execution_count": 5,
     "metadata": {},
     "output_type": "execute_result"
    }
   ],
   "source": [
    "# display the expression information\n",
    "expr.exprInfo()"
   ]
  },
  {
   "cell_type": "code",
   "execution_count": null,
   "metadata": {},
   "outputs": [],
   "source": []
  }
 ],
 "metadata": {
  "kernelspec": {
   "display_name": "Python 3",
   "language": "python",
   "name": "python3"
  },
  "language_info": {
   "codemirror_mode": {
    "name": "ipython",
    "version": 3
   },
   "file_extension": ".py",
   "mimetype": "text/x-python",
   "name": "python",
   "nbconvert_exporter": "python",
   "pygments_lexer": "ipython3",
   "version": "3.7.3"
  }
 },
 "nbformat": 4,
 "nbformat_minor": 1
}
