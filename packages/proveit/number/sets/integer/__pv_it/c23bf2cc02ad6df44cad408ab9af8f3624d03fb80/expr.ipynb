{
 "cells": [
  {
   "cell_type": "markdown",
   "metadata": {},
   "source": [
    "Theorem <a class=\"ProveItLink\" href=\"../../_theorems_.ipynb#induction\">induction</a> of type <a class=\"ProveItLink\" href=\"../../../../../../../doc/html/api/proveit.logic.Forall.html\">Forall</a>\n",
    "=======================\n",
    "# from context <a class=\"ProveItLink\" href=\"../../_context_.ipynb\">proveit.number.sets.integer</a>\n",
    "*** see <a class=\"ProveItLink\" href=\"dependencies.ipynb\">dependencies</a> ***"
   ]
  },
  {
   "cell_type": "code",
   "execution_count": 1,
   "metadata": {},
   "outputs": [],
   "source": [
    "import proveit\n",
    "# Automation is not needed when only building an expression:\n",
    "proveit.defaults.automation = False # This will speed things up.\n",
    "proveit.defaults.inline_pngs = False # Makes files smaller.\n",
    "# import the special expression\n",
    "from proveit.number.sets.integer._theorems_ import induction"
   ]
  },
  {
   "cell_type": "code",
   "execution_count": 2,
   "metadata": {},
   "outputs": [
    {
     "name": "stdout",
     "output_type": "stream",
     "text": [
      "Passed sanity check: built 'induction' is the same as the stored Expression.\n"
     ]
    }
   ],
   "source": [
    "# check that the built expression is the same as the stored expression\n",
    "%check_expr induction"
   ]
  },
  {
   "cell_type": "code",
   "execution_count": 3,
   "metadata": {},
   "outputs": [
    {
     "name": "stdout",
     "output_type": "stream",
     "text": [
      "\\vdash \\forall_{P}~\\left(\\left(P(0) \\land \\left[\\forall_{m \\in \\mathbb{N}~|~P(m)}~P(m + 1)\\right]\\right) \\Rightarrow \\left[\\forall_{n \\in \\mathbb{N}}~P(n)\\right]\\right)\n"
     ]
    }
   ],
   "source": [
    "# Show the LaTeX representation of the expression for convenience if you need it.\n",
    "print(induction.latex())"
   ]
  },
  {
   "cell_type": "code",
   "execution_count": 4,
   "metadata": {},
   "outputs": [
    {
     "data": {
      "text/html": [
       "<table><tr><th>&nbsp;</th><th>core type</th><th>sub-expressions</th><th>expression</th></tr>\n",
       "<tr><td>0</td><td>Operation</td><td>operator:&nbsp;13<br>operand:&nbsp;1<br></td><td><a class=\"ProveItLink\" href=\"expr.ipynb\"><img src=\"expr.png\" style=\"display:inline;vertical-align:middle;\" /></a></td></tr>\n",
       "<tr><td>1</td><td>Lambda</td><td>parameter:&nbsp;32<br>body:&nbsp;2<br></td><td><a class=\"ProveItLink\" href=\"../342bbae58c58d8dee5c2f4612da652de41a7f8550/expr.ipynb\"><img src=\"../342bbae58c58d8dee5c2f4612da652de41a7f8550/expr.png\" style=\"display:inline;vertical-align:middle;\" /></a></td></tr>\n",
       "<tr><td>2</td><td>Operation</td><td>operator:&nbsp;3<br>operands:&nbsp;4<br></td><td><a class=\"ProveItLink\" href=\"../1a0417a1677fc49212f117576f5eb2c4474f767d0/expr.ipynb\"><img src=\"../1a0417a1677fc49212f117576f5eb2c4474f767d0/expr.png\" style=\"display:inline;vertical-align:middle;\" /></a></td></tr>\n",
       "<tr><td>3</td><td>Literal</td><td></td><td><a class=\"ProveItLink\" href=\"../../../../../logic/boolean/implication/__pv_it/1e62b0c0a90306fc48b17f0dc8d4dc4df8bb234f0/expr.ipynb\"><img src=\"../../../../../logic/boolean/implication/__pv_it/1e62b0c0a90306fc48b17f0dc8d4dc4df8bb234f0/expr.png\" style=\"display:inline;vertical-align:middle;\" /></a></td></tr>\n",
       "<tr><td>4</td><td>ExprTuple</td><td>5, 6</td><td><a class=\"ProveItLink\" href=\"../e7ce73dc882c7e301f7bf90e3d2d1cd4b7fcdcb70/expr.ipynb\"><img src=\"../e7ce73dc882c7e301f7bf90e3d2d1cd4b7fcdcb70/expr.png\" style=\"display:inline;vertical-align:middle;\" /></a></td></tr>\n",
       "<tr><td>5</td><td>Operation</td><td>operator:&nbsp;23<br>operands:&nbsp;7<br></td><td><a class=\"ProveItLink\" href=\"../498dbc720b77de9c7ec0f0c8dcdcf34c6e5fe1130/expr.ipynb\"><img src=\"../498dbc720b77de9c7ec0f0c8dcdcf34c6e5fe1130/expr.png\" style=\"display:inline;vertical-align:middle;\" /></a></td></tr>\n",
       "<tr><td>6</td><td>Operation</td><td>operator:&nbsp;13<br>operand:&nbsp;8<br></td><td><a class=\"ProveItLink\" href=\"../dcb56374d6e81c85cdb49fca40f10c77a035d57c0/expr.ipynb\"><img src=\"../dcb56374d6e81c85cdb49fca40f10c77a035d57c0/expr.png\" style=\"display:inline;vertical-align:middle;\" /></a></td></tr>\n",
       "<tr><td>7</td><td>ExprTuple</td><td>9, 10</td><td><a class=\"ProveItLink\" href=\"../ea693ea29d409e7c5d47ba4253ba6d422e34b0260/expr.ipynb\"><img src=\"../ea693ea29d409e7c5d47ba4253ba6d422e34b0260/expr.png\" style=\"display:inline;vertical-align:middle;\" /></a></td></tr>\n",
       "<tr><td>8</td><td>Lambda</td><td>parameter:&nbsp;21<br>body:&nbsp;11<br></td><td><a class=\"ProveItLink\" href=\"../744950aa206d9eebfd7a3a216d17a76b1bf760470/expr.ipynb\"><img src=\"../744950aa206d9eebfd7a3a216d17a76b1bf760470/expr.png\" style=\"display:inline;vertical-align:middle;\" /></a></td></tr>\n",
       "<tr><td>9</td><td>Operation</td><td>operator:&nbsp;32<br>operand:&nbsp;12<br></td><td><a class=\"ProveItLink\" href=\"../../../../__pv_it/c491dba95ad85823965ef7c61600a16de3c7ea190/expr.ipynb\"><img src=\"../../../../__pv_it/c491dba95ad85823965ef7c61600a16de3c7ea190/expr.png\" style=\"display:inline;vertical-align:middle;\" /></a></td></tr>\n",
       "<tr><td>10</td><td>Operation</td><td>operator:&nbsp;13<br>operand:&nbsp;14<br></td><td><a class=\"ProveItLink\" href=\"../bda3f1b9231361036917eb787c6f8f87e4e5a4350/expr.ipynb\"><img src=\"../bda3f1b9231361036917eb787c6f8f87e4e5a4350/expr.png\" style=\"display:inline;vertical-align:middle;\" /></a></td></tr>\n",
       "<tr><td>11</td><td>Conditional</td><td>value:&nbsp;15<br>condition:&nbsp;16<br></td><td><a class=\"ProveItLink\" href=\"../b2a6209d7bb7cd33d70dd5148d32e36215bc1b360/expr.ipynb\"><img src=\"../b2a6209d7bb7cd33d70dd5148d32e36215bc1b360/expr.png\" style=\"display:inline;vertical-align:middle;\" /></a></td></tr>\n",
       "<tr><td>12</td><td>Literal</td><td></td><td><a class=\"ProveItLink\" href=\"../../../../numeral/__pv_it/bcb6bc33e5975ec2290a3272bf7802d26ab8421d0/expr.ipynb\"><img src=\"../../../../numeral/__pv_it/bcb6bc33e5975ec2290a3272bf7802d26ab8421d0/expr.png\" style=\"display:inline;vertical-align:middle;\" /></a></td></tr>\n",
       "<tr><td>13</td><td>Literal</td><td></td><td><a class=\"ProveItLink\" href=\"../../../../../logic/boolean/quantification/universal/__pv_it/fd9c772d6675566ed52a6897806f45eb08a4ea910/expr.ipynb\"><img src=\"../../../../../logic/boolean/quantification/universal/__pv_it/fd9c772d6675566ed52a6897806f45eb08a4ea910/expr.png\" style=\"display:inline;vertical-align:middle;\" /></a></td></tr>\n",
       "<tr><td>14</td><td>Lambda</td><td>parameter:&nbsp;33<br>body:&nbsp;17<br></td><td><a class=\"ProveItLink\" href=\"../4052e96380a403a433cdcbf01983b49f7cf616b80/expr.ipynb\"><img src=\"../4052e96380a403a433cdcbf01983b49f7cf616b80/expr.png\" style=\"display:inline;vertical-align:middle;\" /></a></td></tr>\n",
       "<tr><td>15</td><td>Operation</td><td>operator:&nbsp;32<br>operand:&nbsp;21<br></td><td><a class=\"ProveItLink\" href=\"../../../../__pv_it/69db07508e41fd251428c1f0cfc66e47a54e32910/expr.ipynb\"><img src=\"../../../../__pv_it/69db07508e41fd251428c1f0cfc66e47a54e32910/expr.png\" style=\"display:inline;vertical-align:middle;\" /></a></td></tr>\n",
       "<tr><td>16</td><td>Operation</td><td>operator:&nbsp;30<br>operands:&nbsp;18<br></td><td><a class=\"ProveItLink\" href=\"../5288f7b5a8d80b56b4313de2474e5e0cbde3e2020/expr.ipynb\"><img src=\"../5288f7b5a8d80b56b4313de2474e5e0cbde3e2020/expr.png\" style=\"display:inline;vertical-align:middle;\" /></a></td></tr>\n",
       "<tr><td>17</td><td>Conditional</td><td>value:&nbsp;19<br>condition:&nbsp;20<br></td><td><a class=\"ProveItLink\" href=\"../43864bf0c682d2aef9306c43276c1e394728d1180/expr.ipynb\"><img src=\"../43864bf0c682d2aef9306c43276c1e394728d1180/expr.png\" style=\"display:inline;vertical-align:middle;\" /></a></td></tr>\n",
       "<tr><td>18</td><td>ExprTuple</td><td>21, 34</td><td><a class=\"ProveItLink\" href=\"../e7e9ed39f8a19e2f993cb3908ba1ef99d37cf1500/expr.ipynb\"><img src=\"../e7e9ed39f8a19e2f993cb3908ba1ef99d37cf1500/expr.png\" style=\"display:inline;vertical-align:middle;\" /></a></td></tr>\n",
       "<tr><td>19</td><td>Operation</td><td>operator:&nbsp;32<br>operand:&nbsp;22<br></td><td><a class=\"ProveItLink\" href=\"../../../../__pv_it/62c523916ecaf4bf590a5d3d15e562f90f5f3f3a0/expr.ipynb\"><img src=\"../../../../__pv_it/62c523916ecaf4bf590a5d3d15e562f90f5f3f3a0/expr.png\" style=\"display:inline;vertical-align:middle;\" /></a></td></tr>\n",
       "<tr><td>20</td><td>Operation</td><td>operator:&nbsp;23<br>operands:&nbsp;24<br></td><td><a class=\"ProveItLink\" href=\"../c5421132edf2cd9f984a18f839d45c58d2c045af0/expr.ipynb\"><img src=\"../c5421132edf2cd9f984a18f839d45c58d2c045af0/expr.png\" style=\"display:inline;vertical-align:middle;\" /></a></td></tr>\n",
       "<tr><td>21</td><td>Variable</td><td></td><td><a class=\"ProveItLink\" href=\"../../../../../__pv_it/0c1c4cb515e0f4344b1ac06650f349123e526deb0/expr.ipynb\"><img src=\"../../../../../__pv_it/0c1c4cb515e0f4344b1ac06650f349123e526deb0/expr.png\" style=\"display:inline;vertical-align:middle;\" /></a></td></tr>\n",
       "<tr><td>22</td><td>Operation</td><td>operator:&nbsp;25<br>operands:&nbsp;26<br></td><td><a class=\"ProveItLink\" href=\"../../../../__pv_it/2405c78a618b87810578a8f1ea9b7025f87fb8f80/expr.ipynb\"><img src=\"../../../../__pv_it/2405c78a618b87810578a8f1ea9b7025f87fb8f80/expr.png\" style=\"display:inline;vertical-align:middle;\" /></a></td></tr>\n",
       "<tr><td>23</td><td>Literal</td><td></td><td><a class=\"ProveItLink\" href=\"../../../../../logic/boolean/conjunction/__pv_it/f41cc6b553210927c09f19a8a39cdf860a5585930/expr.ipynb\"><img src=\"../../../../../logic/boolean/conjunction/__pv_it/f41cc6b553210927c09f19a8a39cdf860a5585930/expr.png\" style=\"display:inline;vertical-align:middle;\" /></a></td></tr>\n",
       "<tr><td>24</td><td>ExprTuple</td><td>27, 28</td><td><a class=\"ProveItLink\" href=\"../531b63d634b5e6232cc8d8a247c3e840856907c10/expr.ipynb\"><img src=\"../531b63d634b5e6232cc8d8a247c3e840856907c10/expr.png\" style=\"display:inline;vertical-align:middle;\" /></a></td></tr>\n",
       "<tr><td>25</td><td>Literal</td><td></td><td><a class=\"ProveItLink\" href=\"../../../../addition/__pv_it/65ad7e8aee19b10110d590375ba95a879c4fb7ea0/expr.ipynb\"><img src=\"../../../../addition/__pv_it/65ad7e8aee19b10110d590375ba95a879c4fb7ea0/expr.png\" style=\"display:inline;vertical-align:middle;\" /></a></td></tr>\n",
       "<tr><td>26</td><td>ExprTuple</td><td>33, 29</td><td><a class=\"ProveItLink\" href=\"../../../../__pv_it/2245a4534d7703e5e3dc7e3cfd7b6bb4ebb3f45b0/expr.ipynb\"><img src=\"../../../../__pv_it/2245a4534d7703e5e3dc7e3cfd7b6bb4ebb3f45b0/expr.png\" style=\"display:inline;vertical-align:middle;\" /></a></td></tr>\n",
       "<tr><td>27</td><td>Operation</td><td>operator:&nbsp;30<br>operands:&nbsp;31<br></td><td><a class=\"ProveItLink\" href=\"../31593bd7832f9e1d86acc22d24ae20f58973a4630/expr.ipynb\"><img src=\"../31593bd7832f9e1d86acc22d24ae20f58973a4630/expr.png\" style=\"display:inline;vertical-align:middle;\" /></a></td></tr>\n",
       "<tr><td>28</td><td>Operation</td><td>operator:&nbsp;32<br>operand:&nbsp;33<br></td><td><a class=\"ProveItLink\" href=\"../../../../__pv_it/a32eaed5ef9e1ff52b7fca66fdb03235ddc641cb0/expr.ipynb\"><img src=\"../../../../__pv_it/a32eaed5ef9e1ff52b7fca66fdb03235ddc641cb0/expr.png\" style=\"display:inline;vertical-align:middle;\" /></a></td></tr>\n",
       "<tr><td>29</td><td>Literal</td><td></td><td><a class=\"ProveItLink\" href=\"../../../../numeral/__pv_it/f086f8c372bd40a2458306ddfdbb29f3dc6f63030/expr.ipynb\"><img src=\"../../../../numeral/__pv_it/f086f8c372bd40a2458306ddfdbb29f3dc6f63030/expr.png\" style=\"display:inline;vertical-align:middle;\" /></a></td></tr>\n",
       "<tr><td>30</td><td>Literal</td><td></td><td><a class=\"ProveItLink\" href=\"../../../../../logic/set_theory/membership/__pv_it/7776fc89cb67d0b5b1ec2c0c8e08da5587921ccf0/expr.ipynb\"><img src=\"../../../../../logic/set_theory/membership/__pv_it/7776fc89cb67d0b5b1ec2c0c8e08da5587921ccf0/expr.png\" style=\"display:inline;vertical-align:middle;\" /></a></td></tr>\n",
       "<tr><td>31</td><td>ExprTuple</td><td>33, 34</td><td><a class=\"ProveItLink\" href=\"../e62c31b1eb3b18a7425c4a0e1024e5c3d11bd6fa0/expr.ipynb\"><img src=\"../e62c31b1eb3b18a7425c4a0e1024e5c3d11bd6fa0/expr.png\" style=\"display:inline;vertical-align:middle;\" /></a></td></tr>\n",
       "<tr><td>32</td><td>Variable</td><td></td><td><a class=\"ProveItLink\" href=\"../../../../../__pv_it/390c91a44e60b16c95d2255652741252e8ec8d980/expr.ipynb\"><img src=\"../../../../../__pv_it/390c91a44e60b16c95d2255652741252e8ec8d980/expr.png\" style=\"display:inline;vertical-align:middle;\" /></a></td></tr>\n",
       "<tr><td>33</td><td>Variable</td><td></td><td><a class=\"ProveItLink\" href=\"../../../../../__pv_it/6e8a38e9a7e2b6af352562cd77e0eb4751f142620/expr.ipynb\"><img src=\"../../../../../__pv_it/6e8a38e9a7e2b6af352562cd77e0eb4751f142620/expr.png\" style=\"display:inline;vertical-align:middle;\" /></a></td></tr>\n",
       "<tr><td>34</td><td>Literal</td><td></td><td><a class=\"ProveItLink\" href=\"../b49c37b99b7e8d73a8d7971bcf454d693b90a2c60/expr.ipynb\"><img src=\"../b49c37b99b7e8d73a8d7971bcf454d693b90a2c60/expr.png\" style=\"display:inline;vertical-align:middle;\" /></a></td></tr>\n",
       "</table>\n"
      ],
      "text/plain": [
       "0. forall_{P} ((P(0) and [forall_{m in Naturals | P(m)} P(m + 1)]) => [forall_{n in Naturals} P(n)])\n",
       "   core type: Operation\n",
       "   operator: 13\n",
       "   operand: 1\n",
       "1. P -> ((P(0) and [forall_{m in Naturals | P(m)} P(m + 1)]) => [forall_{n in Naturals} P(n)])\n",
       "   core type: Lambda\n",
       "   parameter: 32\n",
       "   body: 2\n",
       "2. (P(0) and [forall_{m in Naturals | P(m)} P(m + 1)]) => [forall_{n in Naturals} P(n)]\n",
       "   core type: Operation\n",
       "   operator: 3\n",
       "   operands: 4\n",
       "3. =>\n",
       "   core type: Literal\n",
       "   sub-expressions: \n",
       "4. (P(0) and [forall_{m in Naturals | P(m)} P(m + 1)], forall_{n in Naturals} P(n))\n",
       "   core type: ExprTuple\n",
       "   sub-expressions: 5, 6\n",
       "5. P(0) and [forall_{m in Naturals | P(m)} P(m + 1)]\n",
       "   core type: Operation\n",
       "   operator: 23\n",
       "   operands: 7\n",
       "6. forall_{n in Naturals} P(n)\n",
       "   core type: Operation\n",
       "   operator: 13\n",
       "   operand: 8\n",
       "7. (P(0), forall_{m in Naturals | P(m)} P(m + 1))\n",
       "   core type: ExprTuple\n",
       "   sub-expressions: 9, 10\n",
       "8. n -> {P(n) if n in Naturals.\n",
       "   core type: Lambda\n",
       "   parameter: 21\n",
       "   body: 11\n",
       "9. P(0)\n",
       "   core type: Operation\n",
       "   operator: 32\n",
       "   operand: 12\n",
       "10. forall_{m in Naturals | P(m)} P(m + 1)\n",
       "    core type: Operation\n",
       "    operator: 13\n",
       "    operand: 14\n",
       "11. {P(n) if n in Naturals.\n",
       "    core type: Conditional\n",
       "    value: 15\n",
       "    condition: 16\n",
       "12. 0\n",
       "    core type: Literal\n",
       "    sub-expressions: \n",
       "13. forall\n",
       "    core type: Literal\n",
       "    sub-expressions: \n",
       "14. m -> {P(m + 1) if m in Naturals ,  P(m).\n",
       "    core type: Lambda\n",
       "    parameter: 33\n",
       "    body: 17\n",
       "15. P(n)\n",
       "    core type: Operation\n",
       "    operator: 32\n",
       "    operand: 21\n",
       "16. n in Naturals\n",
       "    core type: Operation\n",
       "    operator: 30\n",
       "    operands: 18\n",
       "17. {P(m + 1) if m in Naturals ,  P(m).\n",
       "    core type: Conditional\n",
       "    value: 19\n",
       "    condition: 20\n",
       "18. (n, Naturals)\n",
       "    core type: ExprTuple\n",
       "    sub-expressions: 21, 34\n",
       "19. P(m + 1)\n",
       "    core type: Operation\n",
       "    operator: 32\n",
       "    operand: 22\n",
       "20. (m in Naturals) and P(m)\n",
       "    core type: Operation\n",
       "    operator: 23\n",
       "    operands: 24\n",
       "21. n\n",
       "    core type: Variable\n",
       "    sub-expressions: \n",
       "22. m + 1\n",
       "    core type: Operation\n",
       "    operator: 25\n",
       "    operands: 26\n",
       "23. and\n",
       "    core type: Literal\n",
       "    sub-expressions: \n",
       "24. (m in Naturals, P(m))\n",
       "    core type: ExprTuple\n",
       "    sub-expressions: 27, 28\n",
       "25. +\n",
       "    core type: Literal\n",
       "    sub-expressions: \n",
       "26. (m, 1)\n",
       "    core type: ExprTuple\n",
       "    sub-expressions: 33, 29\n",
       "27. m in Naturals\n",
       "    core type: Operation\n",
       "    operator: 30\n",
       "    operands: 31\n",
       "28. P(m)\n",
       "    core type: Operation\n",
       "    operator: 32\n",
       "    operand: 33\n",
       "29. 1\n",
       "    core type: Literal\n",
       "    sub-expressions: \n",
       "30. in\n",
       "    core type: Literal\n",
       "    sub-expressions: \n",
       "31. (m, Naturals)\n",
       "    core type: ExprTuple\n",
       "    sub-expressions: 33, 34\n",
       "32. P\n",
       "    core type: Variable\n",
       "    sub-expressions: \n",
       "33. m\n",
       "    core type: Variable\n",
       "    sub-expressions: \n",
       "34. Naturals\n",
       "    core type: Literal\n",
       "    sub-expressions: "
      ]
     },
     "execution_count": 4,
     "metadata": {},
     "output_type": "execute_result"
    }
   ],
   "source": [
    "# display the expression information\n",
    "induction.exprInfo()"
   ]
  },
  {
   "cell_type": "code",
   "execution_count": null,
   "metadata": {},
   "outputs": [],
   "source": []
  }
 ],
 "metadata": {
  "kernelspec": {
   "display_name": "Python 3",
   "language": "python",
   "name": "python3"
  },
  "language_info": {
   "codemirror_mode": {
    "name": "ipython",
    "version": 3
   },
   "file_extension": ".py",
   "mimetype": "text/x-python",
   "name": "python",
   "nbconvert_exporter": "python",
   "pygments_lexer": "ipython3",
   "version": "3.7.3"
  }
 },
 "nbformat": 4,
 "nbformat_minor": 1
}
