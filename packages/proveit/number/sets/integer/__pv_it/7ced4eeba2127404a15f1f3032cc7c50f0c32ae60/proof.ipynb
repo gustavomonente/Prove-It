{
 "cells": [
  {
   "cell_type": "markdown",
   "metadata": {},
   "source": [
    "Show the Proof\n",
    "========"
   ]
  },
  {
   "cell_type": "code",
   "execution_count": 1,
   "metadata": {},
   "outputs": [
    {
     "data": {
      "text/html": [
       "<table><tr><th>&nbsp;</th><th>step type</th><th>requirements</th><th>statement</th></tr>\n",
       "<tr><td><a name=\"proveit.number.sets.integer.7ced4eeba2127404a15f1f3032cc7c50f0c32ae60_step0\">0</a></td><td>hypothetical reasoning</td><td><a href=\"#proveit.number.sets.integer.7ced4eeba2127404a15f1f3032cc7c50f0c32ae60_step1\">1</a></td><td><span style=\"font-size:20px;\"><a class=\"ProveItLink\" href=\"../59158fd92798ffa6d5c62955de59d67d13dfda5e0/expr.ipynb\"><img src=\"../59158fd92798ffa6d5c62955de59d67d13dfda5e0/expr.png\" style=\"display:inline;vertical-align:middle;\" /></a> <a class=\"ProveItLink\" href=\"proof.ipynb\" style=\"text-decoration: none\">&#x22A2;&nbsp;</a><a class=\"ProveItLink\" href=\"../f9f6454cbab2bfb0f863db0095d13e1558d4edbb0/expr.ipynb\"><img src=\"../f9f6454cbab2bfb0f863db0095d13e1558d4edbb0/expr.png\" style=\"display:inline;vertical-align:middle;\" /></a></span></td></tr>\n",
       "<tr><td><a name=\"proveit.number.sets.integer.7ced4eeba2127404a15f1f3032cc7c50f0c32ae60_step1\">1</a></td><td>instantiation</td><td><a href=\"#proveit.number.sets.integer.7ced4eeba2127404a15f1f3032cc7c50f0c32ae60_step2\">2</a>, <a href=\"#proveit.number.sets.integer.7ced4eeba2127404a15f1f3032cc7c50f0c32ae60_step3\">3</a></td><td><span style=\"font-size:20px;\"><a class=\"ProveItLink\" href=\"../8a7a4825c00798eb56cab7d197e658f1982d08b10/expr.ipynb\"><img src=\"../8a7a4825c00798eb56cab7d197e658f1982d08b10/expr.png\" style=\"display:inline;vertical-align:middle;\" /></a> <a class=\"ProveItLink\" href=\"../6812a307f0c635a364908b102373cb12ce9349b90/proof.ipynb\" style=\"text-decoration: none\">&#x22A2;&nbsp;</a><a class=\"ProveItLink\" href=\"../658984b1b6df8be3f9b7f2f4d1c15292a68b72d40/expr.ipynb\"><img src=\"../658984b1b6df8be3f9b7f2f4d1c15292a68b72d40/expr.png\" style=\"display:inline;vertical-align:middle;\" /></a></span></td></tr>\n",
       "<tr><td>&nbsp;</td><td colspan=4 style=\"text-align:left\"><span style=\"font-size:20px;\"><a class=\"ProveItLink\" href=\"../../../../../__pv_it/72df168d2bfb4e0140af90912ebf83b13772060b0/expr.ipynb\"><img src=\"../../../../../__pv_it/72df168d2bfb4e0140af90912ebf83b13772060b0/expr.png\" style=\"display:inline;vertical-align:middle;\" /></a> : <a class=\"ProveItLink\" href=\"../../../../../__pv_it/0c1c4cb515e0f4344b1ac06650f349123e526deb0/expr.ipynb\"><img src=\"../../../../../__pv_it/0c1c4cb515e0f4344b1ac06650f349123e526deb0/expr.png\" style=\"display:inline;vertical-align:middle;\" /></a></span></td></tr><tr><td><a name=\"proveit.number.sets.integer.7ced4eeba2127404a15f1f3032cc7c50f0c32ae60_step2\">2</a></td><td>instantiation</td><td><a href=\"#proveit.number.sets.integer.7ced4eeba2127404a15f1f3032cc7c50f0c32ae60_step4\">4</a>, <a href=\"#proveit.number.sets.integer.7ced4eeba2127404a15f1f3032cc7c50f0c32ae60_step6\">6</a></td><td><span style=\"font-size:20px;\"><a class=\"ProveItLink\" href=\"../8ad6c36ede6acdbc28ef9d00a5643ed7046903460/expr.ipynb\"><img src=\"../8ad6c36ede6acdbc28ef9d00a5643ed7046903460/expr.png\" style=\"display:inline;vertical-align:middle;\" /></a> <a class=\"ProveItLink\" href=\"../82afad4f81d802054c3710c7852c536849a0544c0/proof.ipynb\" style=\"text-decoration: none\">&#x22A2;&nbsp;</a><a class=\"ProveItLink\" href=\"../c746ac5307883d34fa9b4b481cdf14bf4c597f190/expr.ipynb\"><img src=\"../c746ac5307883d34fa9b4b481cdf14bf4c597f190/expr.png\" style=\"display:inline;vertical-align:middle;\" /></a></span></td></tr>\n",
       "<tr><td>&nbsp;</td><td colspan=4 style=\"text-align:left\"><span style=\"font-size:20px;\"><a class=\"ProveItLink\" href=\"../../../../../__pv_it/d3792d0d8642fdf1cd2a3a9b32c673ee13653de00/expr.ipynb\"><img src=\"../../../../../__pv_it/d3792d0d8642fdf1cd2a3a9b32c673ee13653de00/expr.png\" style=\"display:inline;vertical-align:middle;\" /></a> : <a class=\"ProveItLink\" href=\"../8024a703f96a5d815d4f8fe3965f234a87ef701d0/expr.ipynb\"><img src=\"../8024a703f96a5d815d4f8fe3965f234a87ef701d0/expr.png\" style=\"display:inline;vertical-align:middle;\" /></a>, <a class=\"ProveItLink\" href=\"../../../../../__pv_it/4d98b438710c5ada9ffa4646bb123a7d0e69ec000/expr.ipynb\"><img src=\"../../../../../__pv_it/4d98b438710c5ada9ffa4646bb123a7d0e69ec000/expr.png\" style=\"display:inline;vertical-align:middle;\" /></a> : <a class=\"ProveItLink\" href=\"../c746ac5307883d34fa9b4b481cdf14bf4c597f190/expr.ipynb\"><img src=\"../c746ac5307883d34fa9b4b481cdf14bf4c597f190/expr.png\" style=\"display:inline;vertical-align:middle;\" /></a></span></td></tr><tr><td><a name=\"proveit.number.sets.integer.7ced4eeba2127404a15f1f3032cc7c50f0c32ae60_step3\">3</a></td><td>modus ponens</td><td><a href=\"#proveit.number.sets.integer.7ced4eeba2127404a15f1f3032cc7c50f0c32ae60_step5\">5</a>, <a href=\"#proveit.number.sets.integer.7ced4eeba2127404a15f1f3032cc7c50f0c32ae60_step6\">6</a></td><td><span style=\"font-size:20px;\"><a class=\"ProveItLink\" href=\"../8a7a4825c00798eb56cab7d197e658f1982d08b10/expr.ipynb\"><img src=\"../8a7a4825c00798eb56cab7d197e658f1982d08b10/expr.png\" style=\"display:inline;vertical-align:middle;\" /></a> <a class=\"ProveItLink\" href=\"../f147983fdd47a5d410fb8de492e023f486995f900/proof.ipynb\" style=\"text-decoration: none\">&#x22A2;&nbsp;</a><a class=\"ProveItLink\" href=\"../b0fc397b8522ff884bd799f44355847a365fc7310/expr.ipynb\"><img src=\"../b0fc397b8522ff884bd799f44355847a365fc7310/expr.png\" style=\"display:inline;vertical-align:middle;\" /></a></span></td></tr>\n",
       "<tr><td><a name=\"proveit.number.sets.integer.7ced4eeba2127404a15f1f3032cc7c50f0c32ae60_step4\">4</a></td><td>theorem</td><td></td><td><span style=\"font-size:20px;\"> <a class=\"ProveItLink\" href=\"../../../../../logic/boolean/conjunction/_proofs_/rightFromAnd.ipynb\" style=\"text-decoration: none\">&#x22A2;&nbsp;</a><a class=\"ProveItLink\" href=\"../05cac5f43125fc42dc258fea682f3a6993f084340/expr.ipynb\"><img src=\"../05cac5f43125fc42dc258fea682f3a6993f084340/expr.png\" style=\"display:inline;vertical-align:middle;\" /></a></span></td></tr>\n",
       "<tr><td>&nbsp;</td><td colspan=4 style-\"text-align:left\"><a class=\"ProveItLink\" href=\"../../../../../logic/boolean/conjunction/_proofs_/rightFromAnd.ipynb\">proveit.logic.boolean.conjunction.rightFromAnd</a></td></tr><tr><td><a name=\"proveit.number.sets.integer.7ced4eeba2127404a15f1f3032cc7c50f0c32ae60_step5\">5</a></td><td>instantiation</td><td><a href=\"#proveit.number.sets.integer.7ced4eeba2127404a15f1f3032cc7c50f0c32ae60_step7\">7</a></td><td><span style=\"font-size:20px;\"><a class=\"ProveItLink\" href=\"../59158fd92798ffa6d5c62955de59d67d13dfda5e0/expr.ipynb\"><img src=\"../59158fd92798ffa6d5c62955de59d67d13dfda5e0/expr.png\" style=\"display:inline;vertical-align:middle;\" /></a> <a class=\"ProveItLink\" href=\"../b471081c7be708baab182a7bfbd2e7c599dfcad30/proof.ipynb\" style=\"text-decoration: none\">&#x22A2;&nbsp;</a><a class=\"ProveItLink\" href=\"../8a6cd0412fab301371d9aabb332dcb92b2ff283b0/expr.ipynb\"><img src=\"../8a6cd0412fab301371d9aabb332dcb92b2ff283b0/expr.png\" style=\"display:inline;vertical-align:middle;\" /></a></span></td></tr>\n",
       "<tr><td>&nbsp;</td><td colspan=4 style=\"text-align:left\"><span style=\"font-size:20px;\"><a class=\"ProveItLink\" href=\"../../../../../__pv_it/f7e31792649ed3cb09061ae8e85d975fd4cc9fa60/expr.ipynb\"><img src=\"../../../../../__pv_it/f7e31792649ed3cb09061ae8e85d975fd4cc9fa60/expr.png\" style=\"display:inline;vertical-align:middle;\" /></a> : <a class=\"ProveItLink\" href=\"../../../../../__pv_it/f7e31792649ed3cb09061ae8e85d975fd4cc9fa60/expr.ipynb\"><img src=\"../../../../../__pv_it/f7e31792649ed3cb09061ae8e85d975fd4cc9fa60/expr.png\" style=\"display:inline;vertical-align:middle;\" /></a></span></td></tr><tr><td><a name=\"proveit.number.sets.integer.7ced4eeba2127404a15f1f3032cc7c50f0c32ae60_step6\">6</a></td><td>assumption</td><td></td><td><span style=\"font-size:20px;\"><a class=\"ProveItLink\" href=\"../8ad6c36ede6acdbc28ef9d00a5643ed7046903460/expr.ipynb\"><img src=\"../8ad6c36ede6acdbc28ef9d00a5643ed7046903460/expr.png\" style=\"display:inline;vertical-align:middle;\" /></a> <a class=\"ProveItLink\" href=\"../3d8c60abe1a54bbd5dc772ff1c7ab6fbf22b5be00/proof.ipynb\" style=\"text-decoration: none\">&#x22A2;&nbsp;</a><a class=\"ProveItLink\" href=\"../a0a7194be11b3cd46a12abb23317cbba2b36c5f90/expr.ipynb\"><img src=\"../a0a7194be11b3cd46a12abb23317cbba2b36c5f90/expr.png\" style=\"display:inline;vertical-align:middle;\" /></a></span></td></tr>\n",
       "<tr><td><a name=\"proveit.number.sets.integer.7ced4eeba2127404a15f1f3032cc7c50f0c32ae60_step7\">7</a></td><td>instantiation</td><td><a href=\"#proveit.number.sets.integer.7ced4eeba2127404a15f1f3032cc7c50f0c32ae60_step8\">8</a>, <a href=\"#proveit.number.sets.integer.7ced4eeba2127404a15f1f3032cc7c50f0c32ae60_step9\">9</a>, <a href=\"#proveit.number.sets.integer.7ced4eeba2127404a15f1f3032cc7c50f0c32ae60_step10\">10</a></td><td><span style=\"font-size:20px;\"><a class=\"ProveItLink\" href=\"../59158fd92798ffa6d5c62955de59d67d13dfda5e0/expr.ipynb\"><img src=\"../59158fd92798ffa6d5c62955de59d67d13dfda5e0/expr.png\" style=\"display:inline;vertical-align:middle;\" /></a> <a class=\"ProveItLink\" href=\"../0537e3afcb2d18f3c7666cde9b8cfd95de8c4a530/proof.ipynb\" style=\"text-decoration: none\">&#x22A2;&nbsp;</a><a class=\"ProveItLink\" href=\"../81e152b978534dd127bf63466c98654ec23450cf0/expr.ipynb\"><img src=\"../81e152b978534dd127bf63466c98654ec23450cf0/expr.png\" style=\"display:inline;vertical-align:middle;\" /></a></span></td></tr>\n",
       "<tr><td>&nbsp;</td><td colspan=4 style=\"text-align:left\"><span style=\"font-size:20px;\"><a class=\"ProveItLink\" href=\"../../../../../__pv_it/390c91a44e60b16c95d2255652741252e8ec8d980/expr.ipynb\"><img src=\"../../../../../__pv_it/390c91a44e60b16c95d2255652741252e8ec8d980/expr.png\" style=\"display:inline;vertical-align:middle;\" /></a> : <a class=\"ProveItLink\" href=\"../5288f7b5a8d80b56b4313de2474e5e0cbde3e2020/expr.ipynb\"><img src=\"../5288f7b5a8d80b56b4313de2474e5e0cbde3e2020/expr.png\" style=\"display:inline;vertical-align:middle;\" /></a>, <a class=\"ProveItLink\" href=\"../../../../../__pv_it/dbe7145e53d9411a5ba89652cbfea9d54e4b581a0/expr.ipynb\"><img src=\"../../../../../__pv_it/dbe7145e53d9411a5ba89652cbfea9d54e4b581a0/expr.png\" style=\"display:inline;vertical-align:middle;\" /></a> : <a class=\"ProveItLink\" href=\"../81e152b978534dd127bf63466c98654ec23450cf0/expr.ipynb\"><img src=\"../81e152b978534dd127bf63466c98654ec23450cf0/expr.png\" style=\"display:inline;vertical-align:middle;\" /></a></span></td></tr><tr><td><a name=\"proveit.number.sets.integer.7ced4eeba2127404a15f1f3032cc7c50f0c32ae60_step8\">8</a></td><td>theorem</td><td></td><td><span style=\"font-size:20px;\"> <a class=\"ProveItLink\" href=\"../../../../../logic/equality/_proofs_/rhsViaEquivalence.ipynb\" style=\"text-decoration: none\">&#x22A2;&nbsp;</a><a class=\"ProveItLink\" href=\"../4c910d95dc39622bbd5913be3a7c41b00c15e16e0/expr.ipynb\"><img src=\"../4c910d95dc39622bbd5913be3a7c41b00c15e16e0/expr.png\" style=\"display:inline;vertical-align:middle;\" /></a></span></td></tr>\n",
       "<tr><td>&nbsp;</td><td colspan=4 style-\"text-align:left\"><a class=\"ProveItLink\" href=\"../../../../../logic/equality/_proofs_/rhsViaEquivalence.ipynb\">proveit.logic.equality.rhsViaEquivalence</a></td></tr><tr><td><a name=\"proveit.number.sets.integer.7ced4eeba2127404a15f1f3032cc7c50f0c32ae60_step9\">9</a></td><td>assumption</td><td></td><td><span style=\"font-size:20px;\"><a class=\"ProveItLink\" href=\"../59158fd92798ffa6d5c62955de59d67d13dfda5e0/expr.ipynb\"><img src=\"../59158fd92798ffa6d5c62955de59d67d13dfda5e0/expr.png\" style=\"display:inline;vertical-align:middle;\" /></a> <a class=\"ProveItLink\" href=\"../b6458e78daecf11f13c56fa5d00e23e2789a2ceb0/proof.ipynb\" style=\"text-decoration: none\">&#x22A2;&nbsp;</a><a class=\"ProveItLink\" href=\"../5288f7b5a8d80b56b4313de2474e5e0cbde3e2020/expr.ipynb\"><img src=\"../5288f7b5a8d80b56b4313de2474e5e0cbde3e2020/expr.png\" style=\"display:inline;vertical-align:middle;\" /></a></span></td></tr>\n",
       "<tr><td><a name=\"proveit.number.sets.integer.7ced4eeba2127404a15f1f3032cc7c50f0c32ae60_step10\">10</a></td><td>instantiation</td><td><a href=\"#proveit.number.sets.integer.7ced4eeba2127404a15f1f3032cc7c50f0c32ae60_step11\">11</a></td><td><span style=\"font-size:20px;\"> <a class=\"ProveItLink\" href=\"../0fe2c113bbae0d29d953c3015fdafbf04111193b0/proof.ipynb\" style=\"text-decoration: none\">&#x22A2;&nbsp;</a><a class=\"ProveItLink\" href=\"../7fed4897c8628af25b56eecda3374e1de8ffcdb70/expr.ipynb\"><img src=\"../7fed4897c8628af25b56eecda3374e1de8ffcdb70/expr.png\" style=\"display:inline;vertical-align:middle;\" /></a></span></td></tr>\n",
       "<tr><td>&nbsp;</td><td colspan=4 style=\"text-align:left\"><span style=\"font-size:20px;\"><a class=\"ProveItLink\" href=\"../../../../../__pv_it/0c1c4cb515e0f4344b1ac06650f349123e526deb0/expr.ipynb\"><img src=\"../../../../../__pv_it/0c1c4cb515e0f4344b1ac06650f349123e526deb0/expr.png\" style=\"display:inline;vertical-align:middle;\" /></a> : <a class=\"ProveItLink\" href=\"../../../../../__pv_it/0c1c4cb515e0f4344b1ac06650f349123e526deb0/expr.ipynb\"><img src=\"../../../../../__pv_it/0c1c4cb515e0f4344b1ac06650f349123e526deb0/expr.png\" style=\"display:inline;vertical-align:middle;\" /></a></span></td></tr><tr><td><a name=\"proveit.number.sets.integer.7ced4eeba2127404a15f1f3032cc7c50f0c32ae60_step11\">11</a></td><td>axiom</td><td></td><td><span style=\"font-size:20px;\"> <a class=\"ProveItLink\" href=\"../../_axioms_.ipynb#naturalsDef\" style=\"text-decoration: none\">&#x22A2;&nbsp;</a><a class=\"ProveItLink\" href=\"../42636248a2f280feb90ba11da7a1fbf9fd743f9c0/expr.ipynb\"><img src=\"../42636248a2f280feb90ba11da7a1fbf9fd743f9c0/expr.png\" style=\"display:inline;vertical-align:middle;\" /></a></span></td></tr>\n",
       "<tr><td>&nbsp;</td><td colspan=4 style-\"text-align:left\"><a class=\"ProveItLink\" href=\"../../_axioms_.ipynb#naturalsDef\">proveit.number.sets.integer.naturalsDef</a></td></tr></table>"
      ],
      "text/plain": [
       "<proveit._core_.proof._ShowProof at 0x7f5bb099deb8>"
      ]
     },
     "execution_count": 1,
     "metadata": {},
     "output_type": "execute_result"
    }
   ],
   "source": [
    "import proveit\n",
    "# Automation is not needed when only showing a stored proof:\n",
    "proveit.defaults.automation = False # This will speed things up.\n",
    "proveit.defaults.inline_pngs = False # Makes files smaller.\n",
    "%show_proof"
   ]
  },
  {
   "cell_type": "code",
   "execution_count": null,
   "metadata": {},
   "outputs": [],
   "source": []
  }
 ],
 "metadata": {
  "kernelspec": {
   "display_name": "Python 3",
   "language": "python",
   "name": "python3"
  },
  "language_info": {
   "codemirror_mode": {
    "name": "ipython",
    "version": 3
   },
   "file_extension": ".py",
   "mimetype": "text/x-python",
   "name": "python",
   "nbconvert_exporter": "python",
   "pygments_lexer": "ipython3",
   "version": "3.7.3"
  }
 },
 "nbformat": 4,
 "nbformat_minor": 1
}
