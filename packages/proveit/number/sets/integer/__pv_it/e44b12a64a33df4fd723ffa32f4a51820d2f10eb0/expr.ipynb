{
 "cells": [
  {
   "cell_type": "markdown",
   "metadata": {},
   "source": [
    "Theorem <a class=\"ProveItLink\" href=\"../../_theorems_.ipynb#inNaturalsPosIfPos\">inNaturalsPosIfPos</a> of type <a class=\"ProveItLink\" href=\"../../../../../../../doc/html/api/proveit.logic.Forall.html\">Forall</a>\n",
    "=======================\n",
    "# from context <a class=\"ProveItLink\" href=\"../../_context_.ipynb\">proveit.number.sets.integer</a>\n",
    "*** see <a class=\"ProveItLink\" href=\"dependencies.ipynb\">dependencies</a> ***"
   ]
  },
  {
   "cell_type": "code",
   "execution_count": 1,
   "metadata": {},
   "outputs": [],
   "source": [
    "import proveit\n",
    "# Automation is not needed when only building an expression:\n",
    "proveit.defaults.automation = False # This will speed things up.\n",
    "proveit.defaults.inline_pngs = False # Makes files smaller.\n",
    "# import the special expression\n",
    "from proveit.number.sets.integer._theorems_ import inNaturalsPosIfPos"
   ]
  },
  {
   "cell_type": "code",
   "execution_count": 2,
   "metadata": {},
   "outputs": [
    {
     "name": "stdout",
     "output_type": "stream",
     "text": [
      "Passed sanity check: built 'inNaturalsPosIfPos' is the same as the stored Expression.\n"
     ]
    }
   ],
   "source": [
    "# check that the built expression is the same as the stored expression\n",
    "%check_expr inNaturalsPosIfPos"
   ]
  },
  {
   "cell_type": "code",
   "execution_count": 3,
   "metadata": {},
   "outputs": [
    {
     "name": "stdout",
     "output_type": "stream",
     "text": [
      "\\vdash \\forall_{a \\in \\mathbb{Z}~|~a > 0}~\\left(a \\in \\mathbb{N}^+\\right)\n"
     ]
    }
   ],
   "source": [
    "# Show the LaTeX representation of the expression for convenience if you need it.\n",
    "print(inNaturalsPosIfPos.latex())"
   ]
  },
  {
   "cell_type": "code",
   "execution_count": 4,
   "metadata": {},
   "outputs": [
    {
     "data": {
      "text/html": [
       "<table><tr><th>&nbsp;</th><th>core type</th><th>sub-expressions</th><th>expression</th></tr>\n",
       "<tr><td>0</td><td>Operation</td><td>operator:&nbsp;1<br>operand:&nbsp;2<br></td><td><a class=\"ProveItLink\" href=\"expr.ipynb\"><img src=\"expr.png\" style=\"display:inline;vertical-align:middle;\" /></a></td></tr>\n",
       "<tr><td>1</td><td>Literal</td><td></td><td><a class=\"ProveItLink\" href=\"../../../../../logic/boolean/quantification/universal/__pv_it/fd9c772d6675566ed52a6897806f45eb08a4ea910/expr.ipynb\"><img src=\"../../../../../logic/boolean/quantification/universal/__pv_it/fd9c772d6675566ed52a6897806f45eb08a4ea910/expr.png\" style=\"display:inline;vertical-align:middle;\" /></a></td></tr>\n",
       "<tr><td>2</td><td>Lambda</td><td>parameter:&nbsp;17<br>body:&nbsp;3<br></td><td><a class=\"ProveItLink\" href=\"../c84ed4fc8655ce6ea9f5b6b075a8f005d718991c0/expr.ipynb\"><img src=\"../c84ed4fc8655ce6ea9f5b6b075a8f005d718991c0/expr.png\" style=\"display:inline;vertical-align:middle;\" /></a></td></tr>\n",
       "<tr><td>3</td><td>Conditional</td><td>value:&nbsp;4<br>condition:&nbsp;5<br></td><td><a class=\"ProveItLink\" href=\"../6fd398dfd3fe4742dcfaa030af48335a7b1714d50/expr.ipynb\"><img src=\"../6fd398dfd3fe4742dcfaa030af48335a7b1714d50/expr.png\" style=\"display:inline;vertical-align:middle;\" /></a></td></tr>\n",
       "<tr><td>4</td><td>Operation</td><td>operator:&nbsp;12<br>operands:&nbsp;6<br></td><td><a class=\"ProveItLink\" href=\"../ddebb662869b98847e02a953eb2fbc00eb63c64b0/expr.ipynb\"><img src=\"../ddebb662869b98847e02a953eb2fbc00eb63c64b0/expr.png\" style=\"display:inline;vertical-align:middle;\" /></a></td></tr>\n",
       "<tr><td>5</td><td>Operation</td><td>operator:&nbsp;7<br>operands:&nbsp;8<br></td><td><a class=\"ProveItLink\" href=\"../461527a232fa9a6a778df324da919e3ba53e4d750/expr.ipynb\"><img src=\"../461527a232fa9a6a778df324da919e3ba53e4d750/expr.png\" style=\"display:inline;vertical-align:middle;\" /></a></td></tr>\n",
       "<tr><td>6</td><td>ExprTuple</td><td>17, 9</td><td><a class=\"ProveItLink\" href=\"../621e48aa851498eaebaf85036c152e0df95425170/expr.ipynb\"><img src=\"../621e48aa851498eaebaf85036c152e0df95425170/expr.png\" style=\"display:inline;vertical-align:middle;\" /></a></td></tr>\n",
       "<tr><td>7</td><td>Literal</td><td></td><td><a class=\"ProveItLink\" href=\"../../../../../logic/boolean/conjunction/__pv_it/f41cc6b553210927c09f19a8a39cdf860a5585930/expr.ipynb\"><img src=\"../../../../../logic/boolean/conjunction/__pv_it/f41cc6b553210927c09f19a8a39cdf860a5585930/expr.png\" style=\"display:inline;vertical-align:middle;\" /></a></td></tr>\n",
       "<tr><td>8</td><td>ExprTuple</td><td>10, 11</td><td><a class=\"ProveItLink\" href=\"../4efc8348509d5fc67c09f6d6e29af3d82f2a7f3a0/expr.ipynb\"><img src=\"../4efc8348509d5fc67c09f6d6e29af3d82f2a7f3a0/expr.png\" style=\"display:inline;vertical-align:middle;\" /></a></td></tr>\n",
       "<tr><td>9</td><td>Literal</td><td></td><td><a class=\"ProveItLink\" href=\"../f6a9f4b6dec6ab4d2dcb6ba1b0ba3cceefc643530/expr.ipynb\"><img src=\"../f6a9f4b6dec6ab4d2dcb6ba1b0ba3cceefc643530/expr.png\" style=\"display:inline;vertical-align:middle;\" /></a></td></tr>\n",
       "<tr><td>10</td><td>Operation</td><td>operator:&nbsp;12<br>operands:&nbsp;13<br></td><td><a class=\"ProveItLink\" href=\"../bbca8f210466950ff215355af5f0bb4f6938d66a0/expr.ipynb\"><img src=\"../bbca8f210466950ff215355af5f0bb4f6938d66a0/expr.png\" style=\"display:inline;vertical-align:middle;\" /></a></td></tr>\n",
       "<tr><td>11</td><td>Operation</td><td>operator:&nbsp;14<br>operands:&nbsp;15<br></td><td><a class=\"ProveItLink\" href=\"../be52e101510e09e20dca43b9e37c4fc073d532560/expr.ipynb\"><img src=\"../be52e101510e09e20dca43b9e37c4fc073d532560/expr.png\" style=\"display:inline;vertical-align:middle;\" /></a></td></tr>\n",
       "<tr><td>12</td><td>Literal</td><td></td><td><a class=\"ProveItLink\" href=\"../../../../../logic/set_theory/membership/__pv_it/7776fc89cb67d0b5b1ec2c0c8e08da5587921ccf0/expr.ipynb\"><img src=\"../../../../../logic/set_theory/membership/__pv_it/7776fc89cb67d0b5b1ec2c0c8e08da5587921ccf0/expr.png\" style=\"display:inline;vertical-align:middle;\" /></a></td></tr>\n",
       "<tr><td>13</td><td>ExprTuple</td><td>17, 16</td><td><a class=\"ProveItLink\" href=\"../a6c4e1b021c1eb608636d36856da21c51b5501130/expr.ipynb\"><img src=\"../a6c4e1b021c1eb608636d36856da21c51b5501130/expr.png\" style=\"display:inline;vertical-align:middle;\" /></a></td></tr>\n",
       "<tr><td>14</td><td>Literal</td><td></td><td><a class=\"ProveItLink\" href=\"../../../../ordering/__pv_it/cdf7dfe539ddbf6d6869dd2e6907f2ffbcf9aab80/expr.ipynb\"><img src=\"../../../../ordering/__pv_it/cdf7dfe539ddbf6d6869dd2e6907f2ffbcf9aab80/expr.png\" style=\"display:inline;vertical-align:middle;\" /></a></td></tr>\n",
       "<tr><td>15</td><td>ExprTuple</td><td>17, 18</td><td><a class=\"ProveItLink\" href=\"../26fbcc07c305c1ee76b1222676cfe7ebde8ae0490/expr.ipynb\"><img src=\"../26fbcc07c305c1ee76b1222676cfe7ebde8ae0490/expr.png\" style=\"display:inline;vertical-align:middle;\" /></a></td></tr>\n",
       "<tr><td>16</td><td>Literal</td><td></td><td><a class=\"ProveItLink\" href=\"../4b6f17dbfe8c62b413ab248a9ec52df6403e103e0/expr.ipynb\"><img src=\"../4b6f17dbfe8c62b413ab248a9ec52df6403e103e0/expr.png\" style=\"display:inline;vertical-align:middle;\" /></a></td></tr>\n",
       "<tr><td>17</td><td>Variable</td><td></td><td><a class=\"ProveItLink\" href=\"../../../../../__pv_it/a8d4b3a34d2189508f9082853fbac36935714f280/expr.ipynb\"><img src=\"../../../../../__pv_it/a8d4b3a34d2189508f9082853fbac36935714f280/expr.png\" style=\"display:inline;vertical-align:middle;\" /></a></td></tr>\n",
       "<tr><td>18</td><td>Literal</td><td></td><td><a class=\"ProveItLink\" href=\"../../../../numeral/__pv_it/bcb6bc33e5975ec2290a3272bf7802d26ab8421d0/expr.ipynb\"><img src=\"../../../../numeral/__pv_it/bcb6bc33e5975ec2290a3272bf7802d26ab8421d0/expr.png\" style=\"display:inline;vertical-align:middle;\" /></a></td></tr>\n",
       "</table>\n"
      ],
      "text/plain": [
       "0. forall_{a in Integers | a > 0} (a in NaturalsPos)\n",
       "   core type: Operation\n",
       "   operator: 1\n",
       "   operand: 2\n",
       "1. forall\n",
       "   core type: Literal\n",
       "   sub-expressions: \n",
       "2. a -> {a in NaturalsPos if a in Integers ,  a > 0.\n",
       "   core type: Lambda\n",
       "   parameter: 17\n",
       "   body: 3\n",
       "3. {a in NaturalsPos if a in Integers ,  a > 0.\n",
       "   core type: Conditional\n",
       "   value: 4\n",
       "   condition: 5\n",
       "4. a in NaturalsPos\n",
       "   core type: Operation\n",
       "   operator: 12\n",
       "   operands: 6\n",
       "5. (a in Integers) and (a > 0)\n",
       "   core type: Operation\n",
       "   operator: 7\n",
       "   operands: 8\n",
       "6. (a, NaturalsPos)\n",
       "   core type: ExprTuple\n",
       "   sub-expressions: 17, 9\n",
       "7. and\n",
       "   core type: Literal\n",
       "   sub-expressions: \n",
       "8. (a in Integers, a > 0)\n",
       "   core type: ExprTuple\n",
       "   sub-expressions: 10, 11\n",
       "9. NaturalsPos\n",
       "   core type: Literal\n",
       "   sub-expressions: \n",
       "10. a in Integers\n",
       "    core type: Operation\n",
       "    operator: 12\n",
       "    operands: 13\n",
       "11. a > 0\n",
       "    core type: Operation\n",
       "    operator: 14\n",
       "    operands: 15\n",
       "12. in\n",
       "    core type: Literal\n",
       "    sub-expressions: \n",
       "13. (a, Integers)\n",
       "    core type: ExprTuple\n",
       "    sub-expressions: 17, 16\n",
       "14. >\n",
       "    core type: Literal\n",
       "    sub-expressions: \n",
       "15. (a, 0)\n",
       "    core type: ExprTuple\n",
       "    sub-expressions: 17, 18\n",
       "16. Integers\n",
       "    core type: Literal\n",
       "    sub-expressions: \n",
       "17. a\n",
       "    core type: Variable\n",
       "    sub-expressions: \n",
       "18. 0\n",
       "    core type: Literal\n",
       "    sub-expressions: "
      ]
     },
     "execution_count": 4,
     "metadata": {},
     "output_type": "execute_result"
    }
   ],
   "source": [
    "# display the expression information\n",
    "inNaturalsPosIfPos.exprInfo()"
   ]
  },
  {
   "cell_type": "code",
   "execution_count": null,
   "metadata": {},
   "outputs": [],
   "source": []
  }
 ],
 "metadata": {
  "kernelspec": {
   "display_name": "Python 3",
   "language": "python",
   "name": "python3"
  },
  "language_info": {
   "codemirror_mode": {
    "name": "ipython",
    "version": 3
   },
   "file_extension": ".py",
   "mimetype": "text/x-python",
   "name": "python",
   "nbconvert_exporter": "python",
   "pygments_lexer": "ipython3",
   "version": "3.7.3"
  }
 },
 "nbformat": 4,
 "nbformat_minor": 1
}
