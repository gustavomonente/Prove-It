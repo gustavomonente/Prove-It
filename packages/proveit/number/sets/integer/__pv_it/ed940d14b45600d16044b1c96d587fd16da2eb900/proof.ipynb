{
 "cells": [
  {
   "cell_type": "markdown",
   "metadata": {},
   "source": [
    "Show the Proof\n",
    "========"
   ]
  },
  {
   "cell_type": "code",
   "execution_count": 1,
   "metadata": {},
   "outputs": [
    {
     "data": {
      "text/html": [
       "<table><tr><th>&nbsp;</th><th>step type</th><th>requirements</th><th>statement</th></tr>\n",
       "<tr><td><a name=\"proveit.number.sets.integer.ed940d14b45600d16044b1c96d587fd16da2eb900_step0\">0</a></td><td>generalizaton</td><td><a href=\"#proveit.number.sets.integer.ed940d14b45600d16044b1c96d587fd16da2eb900_step1\">1</a></td><td><span style=\"font-size:20px;\"> <a class=\"ProveItLink\" href=\"proof.ipynb\" style=\"text-decoration: none\">&#x22A2;&nbsp;</a><a class=\"ProveItLink\" href=\"../37f5c5e1ca8471def3e9381a3be9a649dcb722600/expr.ipynb\"><img src=\"../37f5c5e1ca8471def3e9381a3be9a649dcb722600/expr.png\" style=\"display:inline;vertical-align:middle;\" /></a></span></td></tr>\n",
       "<tr><td><a name=\"proveit.number.sets.integer.ed940d14b45600d16044b1c96d587fd16da2eb900_step1\">1</a></td><td>instantiation</td><td><a href=\"#proveit.number.sets.integer.ed940d14b45600d16044b1c96d587fd16da2eb900_step2\">2</a>, <a href=\"#proveit.number.sets.integer.ed940d14b45600d16044b1c96d587fd16da2eb900_step3\">3</a>, <a href=\"#proveit.number.sets.integer.ed940d14b45600d16044b1c96d587fd16da2eb900_step4\">4</a></td><td><span style=\"font-size:20px;\"><a class=\"ProveItLink\" href=\"../59158fd92798ffa6d5c62955de59d67d13dfda5e0/expr.ipynb\"><img src=\"../59158fd92798ffa6d5c62955de59d67d13dfda5e0/expr.png\" style=\"display:inline;vertical-align:middle;\" /></a> <a class=\"ProveItLink\" href=\"../0537e3afcb2d18f3c7666cde9b8cfd95de8c4a530/proof.ipynb\" style=\"text-decoration: none\">&#x22A2;&nbsp;</a><a class=\"ProveItLink\" href=\"../c09194dfa8afc6ec75047b500993c5bd87c427990/expr.ipynb\"><img src=\"../c09194dfa8afc6ec75047b500993c5bd87c427990/expr.png\" style=\"display:inline;vertical-align:middle;\" /></a></span></td></tr>\n",
       "<tr><td>&nbsp;</td><td colspan=4 style=\"text-align:left\"><span style=\"font-size:20px;\"><a class=\"ProveItLink\" href=\"../../../../../__pv_it/390c91a44e60b16c95d2255652741252e8ec8d980/expr.ipynb\"><img src=\"../../../../../__pv_it/390c91a44e60b16c95d2255652741252e8ec8d980/expr.png\" style=\"display:inline;vertical-align:middle;\" /></a> : <a class=\"ProveItLink\" href=\"../5288f7b5a8d80b56b4313de2474e5e0cbde3e2020/expr.ipynb\"><img src=\"../5288f7b5a8d80b56b4313de2474e5e0cbde3e2020/expr.png\" style=\"display:inline;vertical-align:middle;\" /></a>, <a class=\"ProveItLink\" href=\"../../../../../__pv_it/dbe7145e53d9411a5ba89652cbfea9d54e4b581a0/expr.ipynb\"><img src=\"../../../../../__pv_it/dbe7145e53d9411a5ba89652cbfea9d54e4b581a0/expr.png\" style=\"display:inline;vertical-align:middle;\" /></a> : <a class=\"ProveItLink\" href=\"../c09194dfa8afc6ec75047b500993c5bd87c427990/expr.ipynb\"><img src=\"../c09194dfa8afc6ec75047b500993c5bd87c427990/expr.png\" style=\"display:inline;vertical-align:middle;\" /></a></span></td></tr><tr><td><a name=\"proveit.number.sets.integer.ed940d14b45600d16044b1c96d587fd16da2eb900_step2\">2</a></td><td>theorem</td><td></td><td><span style=\"font-size:20px;\"> <a class=\"ProveItLink\" href=\"../../../../../logic/equality/_proofs_/rhsViaEquivalence.ipynb\" style=\"text-decoration: none\">&#x22A2;&nbsp;</a><a class=\"ProveItLink\" href=\"../e499c2773d468d25bf1a32246a2561ee8d27a3fc0/expr.ipynb\"><img src=\"../e499c2773d468d25bf1a32246a2561ee8d27a3fc0/expr.png\" style=\"display:inline;vertical-align:middle;\" /></a></span></td></tr>\n",
       "<tr><td>&nbsp;</td><td colspan=4 style-\"text-align:left\"><a class=\"ProveItLink\" href=\"../../../../../logic/equality/_proofs_/rhsViaEquivalence.ipynb\">proveit.logic.equality.rhsViaEquivalence</a></td></tr><tr><td><a name=\"proveit.number.sets.integer.ed940d14b45600d16044b1c96d587fd16da2eb900_step3\">3</a></td><td>assumption</td><td></td><td><span style=\"font-size:20px;\"><a class=\"ProveItLink\" href=\"../59158fd92798ffa6d5c62955de59d67d13dfda5e0/expr.ipynb\"><img src=\"../59158fd92798ffa6d5c62955de59d67d13dfda5e0/expr.png\" style=\"display:inline;vertical-align:middle;\" /></a> <a class=\"ProveItLink\" href=\"../b6458e78daecf11f13c56fa5d00e23e2789a2ceb0/proof.ipynb\" style=\"text-decoration: none\">&#x22A2;&nbsp;</a><a class=\"ProveItLink\" href=\"../5288f7b5a8d80b56b4313de2474e5e0cbde3e2020/expr.ipynb\"><img src=\"../5288f7b5a8d80b56b4313de2474e5e0cbde3e2020/expr.png\" style=\"display:inline;vertical-align:middle;\" /></a></span></td></tr>\n",
       "<tr><td><a name=\"proveit.number.sets.integer.ed940d14b45600d16044b1c96d587fd16da2eb900_step4\">4</a></td><td>instantiation</td><td><a href=\"#proveit.number.sets.integer.ed940d14b45600d16044b1c96d587fd16da2eb900_step5\">5</a></td><td><span style=\"font-size:20px;\"> <a class=\"ProveItLink\" href=\"../0fe2c113bbae0d29d953c3015fdafbf04111193b0/proof.ipynb\" style=\"text-decoration: none\">&#x22A2;&nbsp;</a><a class=\"ProveItLink\" href=\"../6c118e9441745174b492bc329c5ec3657308bf3b0/expr.ipynb\"><img src=\"../6c118e9441745174b492bc329c5ec3657308bf3b0/expr.png\" style=\"display:inline;vertical-align:middle;\" /></a></span></td></tr>\n",
       "<tr><td>&nbsp;</td><td colspan=4 style=\"text-align:left\"><span style=\"font-size:20px;\"><a class=\"ProveItLink\" href=\"../../../../../__pv_it/0c1c4cb515e0f4344b1ac06650f349123e526deb0/expr.ipynb\"><img src=\"../../../../../__pv_it/0c1c4cb515e0f4344b1ac06650f349123e526deb0/expr.png\" style=\"display:inline;vertical-align:middle;\" /></a> : <a class=\"ProveItLink\" href=\"../../../../../__pv_it/0c1c4cb515e0f4344b1ac06650f349123e526deb0/expr.ipynb\"><img src=\"../../../../../__pv_it/0c1c4cb515e0f4344b1ac06650f349123e526deb0/expr.png\" style=\"display:inline;vertical-align:middle;\" /></a></span></td></tr><tr><td><a name=\"proveit.number.sets.integer.ed940d14b45600d16044b1c96d587fd16da2eb900_step5\">5</a></td><td>axiom</td><td></td><td><span style=\"font-size:20px;\"> <a class=\"ProveItLink\" href=\"../../_axioms_.ipynb#naturalsDef\" style=\"text-decoration: none\">&#x22A2;&nbsp;</a><a class=\"ProveItLink\" href=\"../2f8ebe7099bcc3d0e37c1a3a498f9bb28202ab910/expr.ipynb\"><img src=\"../2f8ebe7099bcc3d0e37c1a3a498f9bb28202ab910/expr.png\" style=\"display:inline;vertical-align:middle;\" /></a></span></td></tr>\n",
       "<tr><td>&nbsp;</td><td colspan=4 style-\"text-align:left\"><a class=\"ProveItLink\" href=\"../../_axioms_.ipynb#naturalsDef\">proveit.number.sets.integer.naturalsDef</a></td></tr></table>"
      ],
      "text/plain": [
       "<proveit._core_.proof._ShowProof at 0x7f5b9b997710>"
      ]
     },
     "execution_count": 1,
     "metadata": {},
     "output_type": "execute_result"
    }
   ],
   "source": [
    "import proveit\n",
    "# Automation is not needed when only showing a stored proof:\n",
    "proveit.defaults.automation = False # This will speed things up.\n",
    "proveit.defaults.inline_pngs = False # Makes files smaller.\n",
    "%show_proof"
   ]
  },
  {
   "cell_type": "code",
   "execution_count": null,
   "metadata": {},
   "outputs": [],
   "source": []
  }
 ],
 "metadata": {
  "kernelspec": {
   "display_name": "Python 3",
   "language": "python",
   "name": "python3"
  },
  "language_info": {
   "codemirror_mode": {
    "name": "ipython",
    "version": 3
   },
   "file_extension": ".py",
   "mimetype": "text/x-python",
   "name": "python",
   "nbconvert_exporter": "python",
   "pygments_lexer": "ipython3",
   "version": "3.7.3"
  }
 },
 "nbformat": 4,
 "nbformat_minor": 1
}
