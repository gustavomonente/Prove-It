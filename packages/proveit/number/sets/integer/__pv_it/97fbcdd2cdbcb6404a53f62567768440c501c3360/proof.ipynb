{
 "cells": [
  {
   "cell_type": "markdown",
   "metadata": {},
   "source": [
    "Show the Proof\n",
    "========"
   ]
  },
  {
   "cell_type": "code",
   "execution_count": 1,
   "metadata": {},
   "outputs": [
    {
     "data": {
      "text/html": [
       "<table><tr><th>&nbsp;</th><th>step type</th><th>requirements</th><th>statement</th></tr>\n",
       "<tr><td><a name=\"proveit.number.sets.integer.97fbcdd2cdbcb6404a53f62567768440c501c3360_step0\">0</a></td><td>generalizaton</td><td><a href=\"#proveit.number.sets.integer.97fbcdd2cdbcb6404a53f62567768440c501c3360_step1\">1</a></td><td><span style=\"font-size:20px;\"> <a class=\"ProveItLink\" href=\"proof.ipynb\" style=\"text-decoration: none\">&#x22A2;&nbsp;</a><a class=\"ProveItLink\" href=\"../b75a008573b0d97c4b815a228a47086478740ec60/expr.ipynb\"><img src=\"../b75a008573b0d97c4b815a228a47086478740ec60/expr.png\" style=\"display:inline;vertical-align:middle;\" /></a></span></td></tr>\n",
       "<tr><td><a name=\"proveit.number.sets.integer.97fbcdd2cdbcb6404a53f62567768440c501c3360_step1\">1</a></td><td>hypothetical reasoning</td><td><a href=\"#proveit.number.sets.integer.97fbcdd2cdbcb6404a53f62567768440c501c3360_step2\">2</a></td><td><span style=\"font-size:20px;\"> <a class=\"ProveItLink\" href=\"../800f668b734ee8ead57cc4cd67c566e2a658ce9b0/proof.ipynb\" style=\"text-decoration: none\">&#x22A2;&nbsp;</a><a class=\"ProveItLink\" href=\"../b6b8cb622cd067e06a9a9eac7d8574e88c2c6bd00/expr.ipynb\"><img src=\"../b6b8cb622cd067e06a9a9eac7d8574e88c2c6bd00/expr.png\" style=\"display:inline;vertical-align:middle;\" /></a></span></td></tr>\n",
       "<tr><td><a name=\"proveit.number.sets.integer.97fbcdd2cdbcb6404a53f62567768440c501c3360_step2\">2</a></td><td>instantiation</td><td><a href=\"#proveit.number.sets.integer.97fbcdd2cdbcb6404a53f62567768440c501c3360_step3\">3</a>, <a href=\"#proveit.number.sets.integer.97fbcdd2cdbcb6404a53f62567768440c501c3360_step4\">4</a></td><td><span style=\"font-size:20px;\"><a class=\"ProveItLink\" href=\"../8ad6c36ede6acdbc28ef9d00a5643ed7046903460/expr.ipynb\"><img src=\"../8ad6c36ede6acdbc28ef9d00a5643ed7046903460/expr.png\" style=\"display:inline;vertical-align:middle;\" /></a> <a class=\"ProveItLink\" href=\"../4ebb9ddf44dfe3759c850cb28b0f6dcc2b5cfd780/proof.ipynb\" style=\"text-decoration: none\">&#x22A2;&nbsp;</a><a class=\"ProveItLink\" href=\"../8024a703f96a5d815d4f8fe3965f234a87ef701d0/expr.ipynb\"><img src=\"../8024a703f96a5d815d4f8fe3965f234a87ef701d0/expr.png\" style=\"display:inline;vertical-align:middle;\" /></a></span></td></tr>\n",
       "<tr><td>&nbsp;</td><td colspan=4 style=\"text-align:left\"><span style=\"font-size:20px;\"><a class=\"ProveItLink\" href=\"../../../../../__pv_it/d3792d0d8642fdf1cd2a3a9b32c673ee13653de00/expr.ipynb\"><img src=\"../../../../../__pv_it/d3792d0d8642fdf1cd2a3a9b32c673ee13653de00/expr.png\" style=\"display:inline;vertical-align:middle;\" /></a> : <a class=\"ProveItLink\" href=\"../8024a703f96a5d815d4f8fe3965f234a87ef701d0/expr.ipynb\"><img src=\"../8024a703f96a5d815d4f8fe3965f234a87ef701d0/expr.png\" style=\"display:inline;vertical-align:middle;\" /></a>, <a class=\"ProveItLink\" href=\"../../../../../__pv_it/4d98b438710c5ada9ffa4646bb123a7d0e69ec000/expr.ipynb\"><img src=\"../../../../../__pv_it/4d98b438710c5ada9ffa4646bb123a7d0e69ec000/expr.png\" style=\"display:inline;vertical-align:middle;\" /></a> : <a class=\"ProveItLink\" href=\"../c746ac5307883d34fa9b4b481cdf14bf4c597f190/expr.ipynb\"><img src=\"../c746ac5307883d34fa9b4b481cdf14bf4c597f190/expr.png\" style=\"display:inline;vertical-align:middle;\" /></a></span></td></tr><tr><td><a name=\"proveit.number.sets.integer.97fbcdd2cdbcb6404a53f62567768440c501c3360_step3\">3</a></td><td>theorem</td><td></td><td><span style=\"font-size:20px;\"> <a class=\"ProveItLink\" href=\"../../../../../logic/boolean/conjunction/_proofs_/leftFromAnd.ipynb\" style=\"text-decoration: none\">&#x22A2;&nbsp;</a><a class=\"ProveItLink\" href=\"../db02f565e657319e03727fe3d078492bcbfe08430/expr.ipynb\"><img src=\"../db02f565e657319e03727fe3d078492bcbfe08430/expr.png\" style=\"display:inline;vertical-align:middle;\" /></a></span></td></tr>\n",
       "<tr><td>&nbsp;</td><td colspan=4 style-\"text-align:left\"><a class=\"ProveItLink\" href=\"../../../../../logic/boolean/conjunction/_proofs_/leftFromAnd.ipynb\">proveit.logic.boolean.conjunction.leftFromAnd</a></td></tr><tr><td><a name=\"proveit.number.sets.integer.97fbcdd2cdbcb6404a53f62567768440c501c3360_step4\">4</a></td><td>assumption</td><td></td><td><span style=\"font-size:20px;\"><a class=\"ProveItLink\" href=\"../8ad6c36ede6acdbc28ef9d00a5643ed7046903460/expr.ipynb\"><img src=\"../8ad6c36ede6acdbc28ef9d00a5643ed7046903460/expr.png\" style=\"display:inline;vertical-align:middle;\" /></a> <a class=\"ProveItLink\" href=\"../3d8c60abe1a54bbd5dc772ff1c7ab6fbf22b5be00/proof.ipynb\" style=\"text-decoration: none\">&#x22A2;&nbsp;</a><a class=\"ProveItLink\" href=\"../a0a7194be11b3cd46a12abb23317cbba2b36c5f90/expr.ipynb\"><img src=\"../a0a7194be11b3cd46a12abb23317cbba2b36c5f90/expr.png\" style=\"display:inline;vertical-align:middle;\" /></a></span></td></tr>\n",
       "</table>"
      ],
      "text/plain": [
       "<proveit._core_.proof._ShowProof at 0x7f5bb0b454e0>"
      ]
     },
     "execution_count": 1,
     "metadata": {},
     "output_type": "execute_result"
    }
   ],
   "source": [
    "import proveit\n",
    "# Automation is not needed when only showing a stored proof:\n",
    "proveit.defaults.automation = False # This will speed things up.\n",
    "proveit.defaults.inline_pngs = False # Makes files smaller.\n",
    "%show_proof"
   ]
  },
  {
   "cell_type": "code",
   "execution_count": null,
   "metadata": {},
   "outputs": [],
   "source": []
  }
 ],
 "metadata": {
  "kernelspec": {
   "display_name": "Python 3",
   "language": "python",
   "name": "python3"
  },
  "language_info": {
   "codemirror_mode": {
    "name": "ipython",
    "version": 3
   },
   "file_extension": ".py",
   "mimetype": "text/x-python",
   "name": "python",
   "nbconvert_exporter": "python",
   "pygments_lexer": "ipython3",
   "version": "3.7.3"
  }
 },
 "nbformat": 4,
 "nbformat_minor": 1
}
