{
 "cells": [
  {
   "cell_type": "markdown",
   "metadata": {},
   "source": [
    "Axioms for context <a href=\"_context_.ipynb\" class=\"ProveItLink\">proveit.number.sets.integer</a>\n",
    "========"
   ]
  },
  {
   "cell_type": "code",
   "execution_count": 1,
   "metadata": {},
   "outputs": [
    {
     "name": "stdout",
     "output_type": "stream",
     "text": [
      "Defining axioms for context 'proveit.number.sets.integer'\n",
      "Subsequent end-of-cell assignments will define axioms\n",
      "%end_axioms will finalize the definitions\n"
     ]
    }
   ],
   "source": [
    "import proveit\n",
    "# Automation is not needed when building axiom expressions:\n",
    "proveit.defaults.automation = False # This will speed things up.\n",
    "from proveit.logic import Forall, InSet, Iff, Equals, Implies, And, SetOfAll, Union\n",
    "from proveit.number import Naturals, NaturalsPos, Neg, Integers, Complexes\n",
    "from proveit.number import Add, Greater, Less\n",
    "from proveit.number import zero, one, num\n",
    "from proveit._common_ import n, m, x, y, S\n",
    "%begin axioms"
   ]
  },
  {
   "cell_type": "markdown",
   "metadata": {},
   "source": [
    "**Define the set of naturals, $\\mathbb{N}$, as, essentially, the minimal set that contains zero and all of its successors:**"
   ]
  },
  {
   "cell_type": "code",
   "execution_count": 2,
   "metadata": {},
   "outputs": [
    {
     "data": {
      "text/html": [
       "<strong id=\"naturalsDef\">naturalsDef:</strong> <a class=\"ProveItLink\" href=\"__pv_it/2f8ebe7099bcc3d0e37c1a3a498f9bb28202ab910/expr.ipynb\"><img src=\"data:image/png;base64,iVBORw0KGgoAAAANSUhEUgAAAlQAAAAUBAMAAAC5cb5fAAAAMFBMVEX///8QEBCIiIhmZma6urrM\n",
       "zMxUVFQiIiJERETc3Nzu7u6qqqp2dnaYmJgyMjIAAAAcRTyBAAAAAXRSTlMAQObYZgAABpFJREFU\n",
       "WMOdWH1sFEUUf727vY+93ZY/amIMsReaSEIEToigpuqBiV8hepgIJppYUVT8wBoxjWKAEJNeNcaL\n",
       "Rqwm0iVGKA22J40x+MWlXYnSihcFRRE4gpiAsR4EjFJInTcz+zG7s9vDSV579+beb37z2zdvZhbA\n",
       "397jFtTSRZ9rzokQnBCsXfXg1EtNwsv2H1kT0J2qhE/UFVxF32H3D9QNzHxN/atwCrSWZljl6zIb\n",
       "8a9ekeGgabO/8vFoG9NzcQ99U8KnHmqs+XnB0Fh5P/Wb0m6AvgAsO9AJHkX/KfePGovM/C1ZWQYw\n",
       "CDDgl0orYaQhw0H7A7Z5EV8D9XVQq/xb0ZLKz6cuavCRIeOVrEBfjfpNWTdpJ+UjOYFOcA8mofCg\n",
       "fuDmb/HnIxloIDmS8UlFIXpAhkNMnwZaVYyIZkliAwzzr8ctqfx8Qqnt5On21DOGjNd8MnaV+k1Z\n",
       "N+nNykdyAp1gzASaEnZ7gZvTDnZ20onGbzdWQoIQm+aTiibCKMhwiCXbIX2eUevqXEc/DOYBFgNs\n",
       "Yb9VugyO4+cTSm2n9eGo4fCyB1HPAcQy1G8KtJNWaiaEHJUFOsH63v7+t4U618HMaffNsrLqrfYB\n",
       "g0gFv/ml+rW/f3uHDAetqR1iE1SSjdYavZvUtXvJcsox5MUZjuPjE0pNlIrzcgaJXSTf8tRvCrQV\n",
       "K2+FoaSBruB/CoWX3L+PZJktWfVGK+Wv2pUjXtyptKNUI36pmgqFrrIMB20wC7Ez6Bywq9nghTz+\n",
       "09gCGIAOjuPjI4FUZ6xaPCyTivFyBlEn2W4ywmY7Ii5lbK1Elj3vzJgXHOgKXgnQ7Slo1MqFjPov\n",
       "E8iRSst9j1IdobMcpy3LphjPO1kt4KD1lkE5I+5RkclJ/KKzEjbKF6/p5yOB3AE/ZdbJpDri3Qjn\n",
       "Tv5dZH7T6l7YiW191tpcQEtuhMFiYKAr+BZnG2Krt0RNKa2D1DlK0CnrRXgivpx8+MSfVbEs3SuU\n",
       "sdEDAg613iwoF9DpqtcfPnSazC7NsqkDNltSefnAA2Nf5EXIvfCdcYdMKsbLNYj6Y8sVzG96aH/J\n",
       "6uFagPsTVejNBwa6ghMQEY5DDTlqqnoW9Bo6lmLuVLlUW+EY+fCgXyoy29mAE03XBBxq1gJUrkQs\n",
       "K+hmwlahv9YzmJUMx8uHPIPdIjUwoEC/7xsff3Z8/HdHKspLHCQ6wfymh7Z6jFbJZoI2mIOjwYGu\n",
       "YK2SAIlUOOU4FajHnVVKeWmAVN/ScvOi/WzcUpGynp4QTgEalitbqoQBSjvHcfFRP59fwb6khxrA\n",
       "GXlZp7xcRw1SPNUAqTZ9A1wqfBKrgwNdwanqMpAsQIhWoamC4ze4pYJDyPs2V62ypriZTpZUt5J/\n",
       "ASY3gE4PC/Z2vRUHJ+gxugCHrLOgKfA5uKufyFyEtIcaKOfkUlFeziAqYaScZ37T6r6J0eZHz7Xo\n",
       "AbioBga6g7sfISvgxntaPbWzoQy7DdzTovbJDReJ1mOXTzGrkpvweR8zZWXdPoLOsw/XxNrssn6S\n",
       "y0U5IR8YvvaqfIyW3sbpOS/kp5EazAou6/YgaTL3aNlT1lm7y74zAEwnhz4tMNAdPEQerL6o0sD3\n",
       "L9y+0XpzsE/PW8qze0WJPQM6Sa9U6YX44f2WZhBx6HFgLWzJW3lB28IsaJiFlBA95SQMLhXyiRir\n",
       "E7lG9oSvOZ0TIWMTyZp1y7WlmmvYvOxBos8B7AHmNwXa9gGIHAFSZ8lzPBAY6A5uIlnz7kxo4ocK\n",
       "XBJoJOE2HWKL5WXWpay/nN+JTkik4vUj9RiIOHSJ7ZixklF8/E7Wm711wZNUfVQwjlpEMhwH+Sjw\n",
       "J5HdKisdIqS6YlbrYc8CXNByvGLxsgeJxh5+lM7+BEN2aMf5noqzJIipp0uBge5gHYVYAYuCbw9L\n",
       "ujqF/VvtkEn1C7EP6HXad7Fx7Wdf86sDb9uok37McxzKB4ve8kKBnO3yoNbquNi4eXkHQb8p0E6B\n",
       "9GIjC/QFXwZtypTXZXv7ysikwvYZwDLJdTm4DctxyM6oQJyWjRLfHOXU+sN5Of5LvC47gd7gVA3W\n",
       "fOy6SiaLYQiSlzD8/3WgvgIenDAsz2nTxunVqhpomGfRDdBnQH3UBkL8QS9huqeaqDc41g5XV+p7\n",
       "fyaFt6Z4fduIIXu1F9SSRTnO1v3DewFeRaneHLuh3ld73SF+M6C7b6qJhgVP+cJY9z/Xmf/zhfHP\n",
       "oTgRUqsugZpeDPbPWRPQHfbCGCOc4P8AHwaBPmZ6M+0AAAAASUVORK5CYII=\n",
       "\" style=\"display:inline;vertical-align:middle;\" /></a><br>"
      ],
      "text/plain": [
       "naturalsDef: forall_{n} ((n in Naturals) = [forall_{S} (((0 in S) and [forall_{x in S} ((x + 1) in S)]) => (n in S))])"
      ]
     },
     "execution_count": 2,
     "metadata": {},
     "output_type": "execute_result"
    }
   ],
   "source": [
    "naturalsDef = Forall(n, Equals(InSet(n, Naturals), Forall(S, Implies(And(InSet(zero, S), Forall(x, InSet(Add(x,one), S), domain=S)), InSet(n, S)))))"
   ]
  },
  {
   "cell_type": "markdown",
   "metadata": {},
   "source": [
    "that is, $n \\in \\mathbb{N}$ iff n is in all sets that contain zero and all successors."
   ]
  },
  {
   "cell_type": "markdown",
   "metadata": {},
   "source": [
    "**Define the set of positive naturals, $\\mathbb{N}^{+}$, as the set of naturals that are greater than zero:**"
   ]
  },
  {
   "cell_type": "code",
   "execution_count": 3,
   "metadata": {},
   "outputs": [
    {
     "data": {
      "text/html": [
       "<strong id=\"naturalsPosDef\">naturalsPosDef:</strong> <a class=\"ProveItLink\" href=\"__pv_it/e86f5cbc5809008c9a73788805b0e8096a3ce54c0/expr.ipynb\"><img src=\"data:image/png;base64,iVBORw0KGgoAAAANSUhEUgAAAIYAAAAXBAMAAAA8bSpEAAAAMFBMVEX///+IiIi6urrc3NxERETM\n",
       "zMwQEBCqqqpUVFQiIiJ2dnYyMjLu7u5mZmaYmJgAAABN0h6tAAAAAXRSTlMAQObYZgAAAcxJREFU\n",
       "OMullD9IAlEcx79oml7P84aKjAQnoSLKrUH6A0INDQpNUdjifkO2BGm4NvRvk+AUGsKExgiC2xqC\n",
       "cI4QaShySYoggqB3d3rvIZec9hse7/vu3efe+/2+9wMgVsFiHR1jY8xymVzzqtiZgXDcalVs2GQU\n",
       "6vR936XVI+HAHmNAJsftu20x7mrm9Bko9cQg51Jrugxk1F4YQOCiOfkCpuUOjIlcJChxDKaB10fj\n",
       "RD+UIUHYtGJ4aKaVmEQ+OAbTNHZy2uj8BpJSWxVbsR2HS87D+ckYnNZicl9j0HMkFeDGArFKC0bI\n",
       "e+sDOoPTOmOF3QWewz+c19/Qr2TehWnzLlpOMzJwZZmPBd19/prKGEybOUUMeFPb8uE6LWI4a9TF\n",
       "rdDaK4zBNKtt02OsLrflKrYE1acajPkQSmKcMUzNecwrkxTvJnEpqmJXqghNf4wDsy9cPkzNeZ0U\n",
       "RuLGbrGaCAJT2mI6HRG6+OeYI8VwzT0DPedp4X4NaHOeHUY0AL9KKjoDSrmb/tGqGLCHMFwnsdgi\n",
       "Zcx5teXu+liIDik8uJA1zuFI6Ibi++mQjX7qbOAojTNNPwF19BKOLEZr6KOmdeRD8OAfMUjzoccv\n",
       "2DCKfuWW7J0AAAAASUVORK5CYII=\n",
       "\" style=\"display:inline;vertical-align:middle;\" /></a><br>"
      ],
      "text/plain": [
       "naturalsPosDef: {n s.t. n > 0}_{n in Naturals}"
      ]
     },
     "execution_count": 3,
     "metadata": {},
     "output_type": "execute_result"
    }
   ],
   "source": [
    "naturalsPosDef = SetOfAll(n, n, conditions=[Greater(n, zero)], domain=Naturals)"
   ]
  },
  {
   "cell_type": "markdown",
   "metadata": {},
   "source": [
    "**Define the integers, $\\mathbb{Z}$ as the union of the naturals and the negated positive naturals (i.e., the positive and negative forms of all natural numbers where zero is its own negative):**"
   ]
  },
  {
   "cell_type": "code",
   "execution_count": 4,
   "metadata": {},
   "outputs": [
    {
     "data": {
      "text/html": [
       "<strong id=\"integersDef\">integersDef:</strong> <a class=\"ProveItLink\" href=\"__pv_it/4846f66d36f748cb11a4173be2005dd1abdedb4f0/expr.ipynb\"><img src=\"data:image/png;base64,iVBORw0KGgoAAAANSUhEUgAAAL8AAAAaBAMAAAAUFZBoAAAAMFBMVEX///9UVFTc3Nzu7u6qqqp2\n",
       "dnbMzMxmZmZERESIiIiYmJgyMjIQEBAiIiK6uroAAABqpg13AAAAAXRSTlMAQObYZgAAAtBJREFU\n",
       "SMe1lk2I00AUgF9+Jk3bbSgIi6wIXQ/irREPKj20CLoIgpUKgqhE6cHDlg3o0q2iBFaw4iU3WfDQ\n",
       "g1ZXRANFUHbRKipF0C0ingQrqHhQFHoTEd8k9ic/E7DFgUwy85L3zfubCQCjSR0Yu0XDhMfH1w9K\n",
       "MkTYCJ6OnfFaWlHZSg6zRREzcFq451/mc7aWBMKVd79WXq7WvKK0KjyqNoCsvXIb8MOv5WxIEHS8\n",
       "LmpgyT7RIQC5hnHI0oHtBIF2pO3XcpQN4HE9kTyQ3DGf6CkA9zZqwgQdWLSLjwCANwhQYVrSfegu\n",
       "Ar6ok5CgI1trYhTAgt0vyr5EiDURsDmZUccEXLWVmbf8SYRe4VJ7pWQIQDmwaamC9yMhgO906TsE\n",
       "wx6QFbvZ7pINCiCdZQ+AswYfE/kSZFMAd0MAcxp2k1zKJ4gnKQDWcSU3YJ82eKeYsCCN47jOBqRx\n",
       "w1H0TwEVotuArbDqApx8TfPVsVRTsx1n9RsDipI4N3wF0w/dUfBa4ACk/Kzbgq9DFsB+gA1/rfUH\n",
       "cWDBQYJdcxAD+3XZcRFck/t1kLFjYLhL+KfgjUFpvhN93AfMpYBPTuOw6VkAVcThaskWOjpPuxlf\n",
       "mj4DsUuGs0jYXa6JRgFO9QGYRbK6CMKU4d1EkBjP9TaaDKKUhhfA/wZi1Yfr4OaubSAuRyBPyufK\n",
       "p+nMbfTq5VZ1reVNBKUL0vtWzzH8/T3F9aqvDtrAT+UcwI36ko7pgk9i8YSZ71uwwMwv9yYqXak4\n",
       "qcyq5Dsv4ImzW4laoT4APGAC5oOnSTMQwO9sQxe2OwBC9B5A6DIBs4wDjXEecKbShFK1WjVFja+1\n",
       "e4AY+8zkcsHzASca9eaEFslrnGMBfMbCk5x61ZgAwQqeF4PP5DQkPmqEqot1IJbvCa+HbFMz//T/\n",
       "8AGieMBfwKdvDwF6juGNkE/EEf6LohgD136hwv9vfwAWGK90UNmFmAAAAABJRU5ErkJggg==\n",
       "\" style=\"display:inline;vertical-align:middle;\" /></a><br>"
      ],
      "text/plain": [
       "integersDef: Integers = (Naturals union {-n}_{n in NaturalsPos})"
      ]
     },
     "execution_count": 4,
     "metadata": {},
     "output_type": "execute_result"
    }
   ],
   "source": [
    "integersDef = Equals(Integers, Union(Naturals, SetOfAll(n, Neg(n), domain=NaturalsPos)))"
   ]
  },
  {
   "cell_type": "markdown",
   "metadata": {},
   "source": [
    "**Defining properties of individual natural numbers:**"
   ]
  },
  {
   "cell_type": "code",
   "execution_count": 5,
   "metadata": {},
   "outputs": [
    {
     "data": {
      "text/html": [
       "<strong id=\"addByZero\">addByZero:</strong> <a class=\"ProveItLink\" href=\"__pv_it/f83e9cb828a20196b5ab8cd2eea8a2278c2fb4570/expr.ipynb\"><img src=\"data:image/png;base64,iVBORw0KGgoAAAANSUhEUgAAAKwAAAAUBAMAAADihsvzAAAAMFBMVEX///8QEBCIiIhmZma6urrM\n",
       "zMxUVFQiIiJERETc3Nzu7u6qqqp2dnaYmJgyMjIAAAAcRTyBAAAAAXRSTlMAQObYZgAAAjNJREFU\n",
       "OMulVU9IFFEY/7HuOO7bmalD3YeCPQUK4c1ACPHoXExvG1FEl9BuUodOMktGcxAUKppWKFkiBkXC\n",
       "EFzWm4Fs4EGjbA4aFDoIQpR06D3fm3X+PRP64Me8/b7f+70/3/u+BU6yQpMj2xYl/qID+GzwRUKY\n",
       "FUhb47OFdkcy7Q7wgX1/SOLfBVJmeGQMxJdMewtMs7M+zA7rXRwRm+Ofj8Aa3bJEVjNhuPTjZYdV\n",
       "hyMtOw4su3gpkSVnoa/WalOS8JRAWvYnMODB6JVM3AZ+2fYDSfSiQLU0ecmMypIDKmtC60rOEMwV\n",
       "4BZQkcg+5iB1/Z7qR2ULf4CyCf3IqQVHxpYImVvA1URGixO3b4jhfQ7N1Q7zTkyW7rZcR3EkmSvB\n",
       "fEdzglz44MnS5SYZdpVd8fscB0EHfyprQTAaBN9al6DsJ3MlmGW6QlMNvRuLNejPgKW4LHDGTKds\n",
       "2UvLhkwqW/CvsarpLll5dj19C9QVvwRKsxKyNvDVRX4kcrfXcczsp6jcBHLuXbXXYJ5Pm6mUFd1O\n",
       "SsgoBz1ZZiGTpgzzdE0Fe8AMi7yPNJAVjgHvCZ7Hd6t65DzQVk/Ihsye1nX8BoZs2zafDh6z+jle\n",
       "XaheacZlSaNET2tYCdmQucMqn51P2VfQziJtVZbQfxUvt9ey4g0f3gvN16CxxQs9VquFZLSaWqw7\n",
       "yluN2P16YxV4xIZvgvHW2SqQlyBObIxRy9G7PWUbZ9Yha+MV4D/+dDYlft3BX/2KrtPaVff0AAAA\n",
       "AElFTkSuQmCC\n",
       "\" style=\"display:inline;vertical-align:middle;\" /></a><br>"
      ],
      "text/plain": [
       "addByZero: forall_{x in Complexes} ((x + 0) = x)"
      ]
     },
     "execution_count": 5,
     "metadata": {},
     "output_type": "execute_result"
    }
   ],
   "source": [
    "addByZero = Forall(x, Equals(Add(x, zero), x), domain=Complexes)"
   ]
  },
  {
   "cell_type": "code",
   "execution_count": 6,
   "metadata": {},
   "outputs": [
    {
     "name": "stdout",
     "output_type": "stream",
     "text": [
      "Axioms may be imported from autogenerated _axioms_.py\n"
     ]
    }
   ],
   "source": [
    "%end axioms"
   ]
  },
  {
   "cell_type": "code",
   "execution_count": null,
   "metadata": {},
   "outputs": [],
   "source": []
  }
 ],
 "metadata": {
  "kernelspec": {
   "display_name": "Python 3",
   "language": "python",
   "name": "python3"
  }
 },
 "nbformat": 4,
 "nbformat_minor": 0
}
