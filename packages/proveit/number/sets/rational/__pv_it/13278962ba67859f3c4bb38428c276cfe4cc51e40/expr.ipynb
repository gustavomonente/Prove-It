{
 "cells": [
  {
   "cell_type": "markdown",
   "metadata": {},
   "source": [
    "Theorem <a class=\"ProveItLink\" href=\"../../_theorems_.ipynb#inRationalsNonNeg_iff_nonNeg\">inRationalsNonNeg_iff_nonNeg</a> of type <a class=\"ProveItLink\" href=\"../../../../../../../doc/html/api/proveit.logic.Forall.html\">Forall</a>\n",
    "=======================\n",
    "# from context <a class=\"ProveItLink\" href=\"../../_context_.ipynb\">proveit.number.sets.rational</a>\n",
    "*** see <a class=\"ProveItLink\" href=\"dependencies.ipynb\">dependencies</a> ***"
   ]
  },
  {
   "cell_type": "code",
   "execution_count": 1,
   "metadata": {},
   "outputs": [],
   "source": [
    "import proveit\n",
    "# Automation is not needed when only building an expression:\n",
    "proveit.defaults.automation = False # This will speed things up.\n",
    "proveit.defaults.inline_pngs = False # Makes files smaller.\n",
    "# import the special expression\n",
    "from proveit.number.sets.rational._theorems_ import inRationalsNonNeg_iff_nonNeg"
   ]
  },
  {
   "cell_type": "code",
   "execution_count": 2,
   "metadata": {},
   "outputs": [
    {
     "name": "stdout",
     "output_type": "stream",
     "text": [
      "Passed sanity check: built 'inRationalsNonNeg_iff_nonNeg' is the same as the stored Expression.\n"
     ]
    }
   ],
   "source": [
    "# check that the built expression is the same as the stored expression\n",
    "%check_expr inRationalsNonNeg_iff_nonNeg"
   ]
  },
  {
   "cell_type": "code",
   "execution_count": 3,
   "metadata": {},
   "outputs": [
    {
     "name": "stdout",
     "output_type": "stream",
     "text": [
      "\\vdash \\forall_{q \\in \\mathbb{Q}}~\\left(\\left(q \\in \\mathbb{Q}^{\\ge 0}\\right) \\Leftrightarrow \\left(q \\geq 0\\right)\\right)\n"
     ]
    }
   ],
   "source": [
    "# Show the LaTeX representation of the expression for convenience if you need it.\n",
    "print(inRationalsNonNeg_iff_nonNeg.latex())"
   ]
  },
  {
   "cell_type": "code",
   "execution_count": 4,
   "metadata": {},
   "outputs": [
    {
     "data": {
      "text/html": [
       "<table><tr><th>&nbsp;</th><th>core type</th><th>sub-expressions</th><th>expression</th></tr>\n",
       "<tr><td>0</td><td>Operation</td><td>operator:&nbsp;1<br>operand:&nbsp;2<br></td><td><a class=\"ProveItLink\" href=\"expr.ipynb\"><img src=\"expr.png\" style=\"display:inline;vertical-align:middle;\" /></a></td></tr>\n",
       "<tr><td>1</td><td>Literal</td><td></td><td><a class=\"ProveItLink\" href=\"../../../../../logic/boolean/quantification/universal/__pv_it/fd9c772d6675566ed52a6897806f45eb08a4ea910/expr.ipynb\"><img src=\"../../../../../logic/boolean/quantification/universal/__pv_it/fd9c772d6675566ed52a6897806f45eb08a4ea910/expr.png\" style=\"display:inline;vertical-align:middle;\" /></a></td></tr>\n",
       "<tr><td>2</td><td>Lambda</td><td>parameter:&nbsp;17<br>body:&nbsp;3<br></td><td><a class=\"ProveItLink\" href=\"../165a02a40b0c22eff11a7ccd33d517302ca593110/expr.ipynb\"><img src=\"../165a02a40b0c22eff11a7ccd33d517302ca593110/expr.png\" style=\"display:inline;vertical-align:middle;\" /></a></td></tr>\n",
       "<tr><td>3</td><td>Conditional</td><td>value:&nbsp;4<br>condition:&nbsp;5<br></td><td><a class=\"ProveItLink\" href=\"../a392e1918f655507afd2587a9d55c08c01e16da50/expr.ipynb\"><img src=\"../a392e1918f655507afd2587a9d55c08c01e16da50/expr.png\" style=\"display:inline;vertical-align:middle;\" /></a></td></tr>\n",
       "<tr><td>4</td><td>Operation</td><td>operator:&nbsp;6<br>operands:&nbsp;7<br></td><td><a class=\"ProveItLink\" href=\"../dc2187bb0104abc79314ec73cdab194f6790ad910/expr.ipynb\"><img src=\"../dc2187bb0104abc79314ec73cdab194f6790ad910/expr.png\" style=\"display:inline;vertical-align:middle;\" /></a></td></tr>\n",
       "<tr><td>5</td><td>Operation</td><td>operator:&nbsp;12<br>operands:&nbsp;8<br></td><td><a class=\"ProveItLink\" href=\"../eac4667d94a0055696966bdfd5d315ac2020a2540/expr.ipynb\"><img src=\"../eac4667d94a0055696966bdfd5d315ac2020a2540/expr.png\" style=\"display:inline;vertical-align:middle;\" /></a></td></tr>\n",
       "<tr><td>6</td><td>Literal</td><td></td><td><a class=\"ProveItLink\" href=\"../../../../../logic/boolean/implication/__pv_it/2e5f6cd685d0293c68c776fee2a5c8041d3dff0b0/expr.ipynb\"><img src=\"../../../../../logic/boolean/implication/__pv_it/2e5f6cd685d0293c68c776fee2a5c8041d3dff0b0/expr.png\" style=\"display:inline;vertical-align:middle;\" /></a></td></tr>\n",
       "<tr><td>7</td><td>ExprTuple</td><td>9, 10</td><td><a class=\"ProveItLink\" href=\"../cd9c501ac5e5dc51e5f9aac8f81f8c1a98b69ce80/expr.ipynb\"><img src=\"../cd9c501ac5e5dc51e5f9aac8f81f8c1a98b69ce80/expr.png\" style=\"display:inline;vertical-align:middle;\" /></a></td></tr>\n",
       "<tr><td>8</td><td>ExprTuple</td><td>17, 11</td><td><a class=\"ProveItLink\" href=\"../354dcb0bbcee670b9b67739f3e45f99597efb39b0/expr.ipynb\"><img src=\"../354dcb0bbcee670b9b67739f3e45f99597efb39b0/expr.png\" style=\"display:inline;vertical-align:middle;\" /></a></td></tr>\n",
       "<tr><td>9</td><td>Operation</td><td>operator:&nbsp;12<br>operands:&nbsp;13<br></td><td><a class=\"ProveItLink\" href=\"../ca4adb8c283e571590472bd5d7c45942e128f2d80/expr.ipynb\"><img src=\"../ca4adb8c283e571590472bd5d7c45942e128f2d80/expr.png\" style=\"display:inline;vertical-align:middle;\" /></a></td></tr>\n",
       "<tr><td>10</td><td>Operation</td><td>operator:&nbsp;14<br>operands:&nbsp;15<br></td><td><a class=\"ProveItLink\" href=\"../657f32971e5b5045c5f3668d0ecb5cff4591afee0/expr.ipynb\"><img src=\"../657f32971e5b5045c5f3668d0ecb5cff4591afee0/expr.png\" style=\"display:inline;vertical-align:middle;\" /></a></td></tr>\n",
       "<tr><td>11</td><td>Literal</td><td></td><td><a class=\"ProveItLink\" href=\"../8c036c7d92e3cdfe7b2c369e43c8196074f8f26b0/expr.ipynb\"><img src=\"../8c036c7d92e3cdfe7b2c369e43c8196074f8f26b0/expr.png\" style=\"display:inline;vertical-align:middle;\" /></a></td></tr>\n",
       "<tr><td>12</td><td>Literal</td><td></td><td><a class=\"ProveItLink\" href=\"../../../../../logic/set_theory/membership/__pv_it/7776fc89cb67d0b5b1ec2c0c8e08da5587921ccf0/expr.ipynb\"><img src=\"../../../../../logic/set_theory/membership/__pv_it/7776fc89cb67d0b5b1ec2c0c8e08da5587921ccf0/expr.png\" style=\"display:inline;vertical-align:middle;\" /></a></td></tr>\n",
       "<tr><td>13</td><td>ExprTuple</td><td>17, 16</td><td><a class=\"ProveItLink\" href=\"../500626fc1e055e208d4a4d7403bebfd2446aefcb0/expr.ipynb\"><img src=\"../500626fc1e055e208d4a4d7403bebfd2446aefcb0/expr.png\" style=\"display:inline;vertical-align:middle;\" /></a></td></tr>\n",
       "<tr><td>14</td><td>Literal</td><td></td><td><a class=\"ProveItLink\" href=\"../../../../ordering/__pv_it/cef35580c31dcaee082f4b9a008104845b0dfa860/expr.ipynb\"><img src=\"../../../../ordering/__pv_it/cef35580c31dcaee082f4b9a008104845b0dfa860/expr.png\" style=\"display:inline;vertical-align:middle;\" /></a></td></tr>\n",
       "<tr><td>15</td><td>ExprTuple</td><td>17, 18</td><td><a class=\"ProveItLink\" href=\"../d685c70889c954fa198219e33870885740292b570/expr.ipynb\"><img src=\"../d685c70889c954fa198219e33870885740292b570/expr.png\" style=\"display:inline;vertical-align:middle;\" /></a></td></tr>\n",
       "<tr><td>16</td><td>Literal</td><td></td><td><a class=\"ProveItLink\" href=\"../bed73af3fcd5512acd66ff1fb83741edaca44bd70/expr.ipynb\"><img src=\"../bed73af3fcd5512acd66ff1fb83741edaca44bd70/expr.png\" style=\"display:inline;vertical-align:middle;\" /></a></td></tr>\n",
       "<tr><td>17</td><td>Variable</td><td></td><td><a class=\"ProveItLink\" href=\"../../../../../__pv_it/c2160bd519fcd5ff53e5f8362518f6274fe61ada0/expr.ipynb\"><img src=\"../../../../../__pv_it/c2160bd519fcd5ff53e5f8362518f6274fe61ada0/expr.png\" style=\"display:inline;vertical-align:middle;\" /></a></td></tr>\n",
       "<tr><td>18</td><td>Literal</td><td></td><td><a class=\"ProveItLink\" href=\"../../../../numeral/__pv_it/bcb6bc33e5975ec2290a3272bf7802d26ab8421d0/expr.ipynb\"><img src=\"../../../../numeral/__pv_it/bcb6bc33e5975ec2290a3272bf7802d26ab8421d0/expr.png\" style=\"display:inline;vertical-align:middle;\" /></a></td></tr>\n",
       "</table>\n"
      ],
      "text/plain": [
       "0. forall_{q in Rationals} ((q in RationalsNonNeg) <=> (q >= 0))\n",
       "   core type: Operation\n",
       "   operator: 1\n",
       "   operand: 2\n",
       "1. forall\n",
       "   core type: Literal\n",
       "   sub-expressions: \n",
       "2. q -> {(q in RationalsNonNeg) <=> (q >= 0) if q in Rationals.\n",
       "   core type: Lambda\n",
       "   parameter: 17\n",
       "   body: 3\n",
       "3. {(q in RationalsNonNeg) <=> (q >= 0) if q in Rationals.\n",
       "   core type: Conditional\n",
       "   value: 4\n",
       "   condition: 5\n",
       "4. (q in RationalsNonNeg) <=> (q >= 0)\n",
       "   core type: Operation\n",
       "   operator: 6\n",
       "   operands: 7\n",
       "5. q in Rationals\n",
       "   core type: Operation\n",
       "   operator: 12\n",
       "   operands: 8\n",
       "6. <=>\n",
       "   core type: Literal\n",
       "   sub-expressions: \n",
       "7. (q in RationalsNonNeg, q >= 0)\n",
       "   core type: ExprTuple\n",
       "   sub-expressions: 9, 10\n",
       "8. (q, Rationals)\n",
       "   core type: ExprTuple\n",
       "   sub-expressions: 17, 11\n",
       "9. q in RationalsNonNeg\n",
       "   core type: Operation\n",
       "   operator: 12\n",
       "   operands: 13\n",
       "10. q >= 0\n",
       "    core type: Operation\n",
       "    operator: 14\n",
       "    operands: 15\n",
       "11. Rationals\n",
       "    core type: Literal\n",
       "    sub-expressions: \n",
       "12. in\n",
       "    core type: Literal\n",
       "    sub-expressions: \n",
       "13. (q, RationalsNonNeg)\n",
       "    core type: ExprTuple\n",
       "    sub-expressions: 17, 16\n",
       "14. >=\n",
       "    core type: Literal\n",
       "    sub-expressions: \n",
       "15. (q, 0)\n",
       "    core type: ExprTuple\n",
       "    sub-expressions: 17, 18\n",
       "16. RationalsNonNeg\n",
       "    core type: Literal\n",
       "    sub-expressions: \n",
       "17. q\n",
       "    core type: Variable\n",
       "    sub-expressions: \n",
       "18. 0\n",
       "    core type: Literal\n",
       "    sub-expressions: "
      ]
     },
     "execution_count": 4,
     "metadata": {},
     "output_type": "execute_result"
    }
   ],
   "source": [
    "# display the expression information\n",
    "inRationalsNonNeg_iff_nonNeg.exprInfo()"
   ]
  },
  {
   "cell_type": "code",
   "execution_count": null,
   "metadata": {},
   "outputs": [],
   "source": []
  }
 ],
 "metadata": {
  "kernelspec": {
   "display_name": "Python 3",
   "language": "python",
   "name": "python3"
  },
  "language_info": {
   "codemirror_mode": {
    "name": "ipython",
    "version": 3
   },
   "file_extension": ".py",
   "mimetype": "text/x-python",
   "name": "python",
   "nbconvert_exporter": "python",
   "pygments_lexer": "ipython3",
   "version": "3.7.3"
  }
 },
 "nbformat": 4,
 "nbformat_minor": 1
}
