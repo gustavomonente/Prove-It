{
 "cells": [
  {
   "cell_type": "markdown",
   "metadata": {},
   "source": [
    "Theorems for the theory of <a class=\"ProveItLink\" href=\"_theory_.ipynb\">proveit.number.sets.rational</a>\n",
    "========"
   ]
  },
  {
   "cell_type": "code",
   "execution_count": null,
   "metadata": {},
   "outputs": [],
   "source": [
    "import proveit\n",
    "# Automation is not needed when building theorem expressions:\n",
    "proveit.defaults.automation = False # This will speed things up.\n",
    "# the theory is in the current directory:\n",
    "theory = proveit.Theory('.') # adds theory root to sys.path if necessary\n",
    "from proveit._common_ import a, b, q, x\n",
    "from proveit.logic import And, Equals, Exists, Forall, Iff, inBool, InSet, ProperSubset\n",
    "from proveit.number import frac, GCD, Less, Greater, GreaterEq\n",
    "from proveit.number import one, zero\n",
    "from proveit.number import (Integers, Naturals, Rationals, RationalsNeg,\n",
    "                            RationalsNonNeg, RationalsPos, NaturalsPos)"
   ]
  },
  {
   "cell_type": "code",
   "execution_count": null,
   "metadata": {},
   "outputs": [],
   "source": [
    "%begin theorems"
   ]
  },
  {
   "cell_type": "code",
   "execution_count": null,
   "metadata": {},
   "outputs": [],
   "source": [
    "zeroInRationals = InSet(zero, Rationals)"
   ]
  },
  {
   "cell_type": "code",
   "execution_count": null,
   "metadata": {},
   "outputs": [],
   "source": [
    "natsInRationals = ProperSubset(Naturals, Rationals)"
   ]
  },
  {
   "cell_type": "code",
   "execution_count": null,
   "metadata": {},
   "outputs": [],
   "source": [
    "natsInRationalsNonNeg = ProperSubset(Naturals, RationalsNonNeg)"
   ]
  },
  {
   "cell_type": "code",
   "execution_count": null,
   "metadata": {},
   "outputs": [],
   "source": [
    "natsPosInRationals = ProperSubset(NaturalsPos, Rationals)"
   ]
  },
  {
   "cell_type": "code",
   "execution_count": null,
   "metadata": {},
   "outputs": [],
   "source": [
    "natsPosInRationalsNonNeg = ProperSubset(NaturalsPos, RationalsNonNeg)"
   ]
  },
  {
   "cell_type": "code",
   "execution_count": null,
   "metadata": {},
   "outputs": [],
   "source": [
    "intsInRationals = ProperSubset(Integers, Rationals)"
   ]
  },
  {
   "cell_type": "code",
   "execution_count": null,
   "metadata": {},
   "outputs": [],
   "source": [
    "rationalsPosInRationals = ProperSubset(RationalsPos, Rationals)"
   ]
  },
  {
   "cell_type": "code",
   "execution_count": null,
   "metadata": {},
   "outputs": [],
   "source": [
    "rationalsPosInRationalsNonNeg = ProperSubset(RationalsPos, RationalsNonNeg)"
   ]
  },
  {
   "cell_type": "code",
   "execution_count": null,
   "metadata": {},
   "outputs": [],
   "source": [
    "rationalsNegInRationals = ProperSubset(RationalsNeg, Rationals)"
   ]
  },
  {
   "cell_type": "code",
   "execution_count": null,
   "metadata": {},
   "outputs": [],
   "source": [
    "rationalsNonNegInRationals = ProperSubset(RationalsNonNeg, Rationals)"
   ]
  },
  {
   "cell_type": "code",
   "execution_count": null,
   "metadata": {},
   "outputs": [],
   "source": [
    "inRationalsPos_iff_positive = Forall(\n",
    "        q,\n",
    "        Iff(InSet(q, RationalsPos),\n",
    "            Greater(q, zero)),\n",
    "        domain=Rationals)"
   ]
  },
  {
   "cell_type": "code",
   "execution_count": null,
   "metadata": {},
   "outputs": [],
   "source": [
    "positiveRationalInRationalsPos = Forall(\n",
    "        q,\n",
    "        InSet(q, RationalsPos),\n",
    "        domain=Rationals,\n",
    "        conditions=[Greater(q, zero)])"
   ]
  },
  {
   "cell_type": "code",
   "execution_count": null,
   "metadata": {},
   "outputs": [],
   "source": [
    "negativeRationalInRationalsNeg = Forall(\n",
    "        q,\n",
    "        InSet(q, RationalsNeg),\n",
    "        domain=Rationals,\n",
    "        conditions=[Less(q, zero)])"
   ]
  },
  {
   "cell_type": "code",
   "execution_count": null,
   "metadata": {},
   "outputs": [],
   "source": [
    "nonNegRationalInRationalsNonNeg = Forall(\n",
    "        q,\n",
    "        InSet(q, RationalsNonNeg),\n",
    "        domain=Rationals,\n",
    "        conditions=[GreaterEq(q, zero)])"
   ]
  },
  {
   "cell_type": "code",
   "execution_count": null,
   "metadata": {},
   "outputs": [],
   "source": [
    "# inRationalsNonNeg_iff_nonNeg = Forall(\n",
    "#         q,\n",
    "#         Iff(InSet(q, RationalsNonNeg),\n",
    "#             GreaterEq(q, zero)),\n",
    "#         domain=Rationals)"
   ]
  },
  {
   "cell_type": "code",
   "execution_count": null,
   "metadata": {},
   "outputs": [],
   "source": [
    "natsRatio = Forall(\n",
    "        q,\n",
    "        Exists([a,b],\n",
    "               Equals(q, frac(a,b)),\n",
    "               domains=[Naturals, NaturalsPos]),\n",
    "        domain=RationalsNonNeg)"
   ]
  },
  {
   "cell_type": "code",
   "execution_count": null,
   "metadata": {},
   "outputs": [],
   "source": [
    "reducedNatsPosRatio = Forall(\n",
    "        q,\n",
    "        Exists([a,b],\n",
    "               And(Equals(q, frac(a,b)), Equals(GCD(a, b), one)),\n",
    "               domains=[NaturalsPos, NaturalsPos]),\n",
    "        domain=RationalsPos)"
   ]
  },
  {
   "cell_type": "code",
   "execution_count": null,
   "metadata": {},
   "outputs": [],
   "source": [
    "ratioOfPosIntsInRationalsPos = Forall(\n",
    "        [a,b],\n",
    "        InSet(frac(a,b), RationalsPos),\n",
    "        domain=NaturalsPos)"
   ]
  },
  {
   "cell_type": "markdown",
   "metadata": {},
   "source": [
    "***A set of inBool theorems, which are accessed by the respective NumberSets to implement their ``deduceMembershipInBool()`` methods, covering the ``RationalsSet`` and ``RationalsPosSet`` NumberSet classes (defined in proveit/number/sets/rational/rationals.py):***"
   ]
  },
  {
   "cell_type": "code",
   "execution_count": null,
   "metadata": {},
   "outputs": [],
   "source": [
    "xInRationalsInBool = Forall(x, inBool(InSet(x, Rationals)))"
   ]
  },
  {
   "cell_type": "code",
   "execution_count": null,
   "metadata": {},
   "outputs": [],
   "source": [
    "xInRationalsPosInBool = Forall(x, inBool(InSet(x, RationalsPos)))"
   ]
  },
  {
   "cell_type": "code",
   "execution_count": null,
   "metadata": {},
   "outputs": [],
   "source": [
    "xInRationalsNegInBool = Forall(x, inBool(InSet(x, RationalsNeg)))"
   ]
  },
  {
   "cell_type": "code",
   "execution_count": null,
   "metadata": {},
   "outputs": [],
   "source": [
    "xInRationalsNonNegInBool = Forall(x, inBool(InSet(x, RationalsNonNeg)))"
   ]
  },
  {
   "cell_type": "code",
   "execution_count": null,
   "metadata": {},
   "outputs": [],
   "source": [
    "%end theorems"
   ]
  },
  {
   "cell_type": "code",
   "execution_count": null,
   "metadata": {},
   "outputs": [],
   "source": []
  }
 ],
 "metadata": {
  "kernelspec": {
   "display_name": "Python 3",
   "language": "python",
   "name": "python3"
  }
 },
 "nbformat": 4,
 "nbformat_minor": 0
}
