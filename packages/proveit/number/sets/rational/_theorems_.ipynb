{
 "cells": [
  {
   "cell_type": "markdown",
   "metadata": {},
   "source": [
    "Theorems for context <a class=\"ProveItLink\" href=\"_context_.ipynb\">proveit.number.sets.rational</a>\n",
    "========"
   ]
  },
  {
   "cell_type": "code",
   "execution_count": 1,
   "metadata": {},
   "outputs": [],
   "source": [
    "import proveit\n",
    "# Automation is not needed when building theorem expressions:\n",
    "proveit.defaults.automation = False # This will speed things up.\n",
    "# the context is in the current directory:\n",
    "context = proveit.Context('.') # adds context root to sys.path if necessary\n",
    "from proveit._common_ import q, x\n",
    "from proveit.logic import Forall, Iff, inBool, InSet, Subset\n",
    "from proveit.number import Greater, GreaterEq\n",
    "from proveit.number import zero\n",
    "from proveit.number import (Rationals, RationalsNonNeg, RationalsPos,\n",
    "                            Integers, Naturals, NaturalsPos)"
   ]
  },
  {
   "cell_type": "code",
   "execution_count": 2,
   "metadata": {},
   "outputs": [
    {
     "name": "stdout",
     "output_type": "stream",
     "text": [
      "Defining theorems for context 'proveit.number.sets.rational'\n",
      "Subsequent end-of-cell assignments will define theorems\n",
      "'%end theorems' will finalize the definitions\n"
     ]
    }
   ],
   "source": [
    "%begin theorems"
   ]
  },
  {
   "cell_type": "code",
   "execution_count": 3,
   "metadata": {},
   "outputs": [
    {
     "data": {
      "text/html": [
       "<strong id=\"natsInRationals\"><a class=\"ProveItLink\" href=\"_proofs_/natsInRationals.ipynb\">natsInRationals</a>:</strong> <a class=\"ProveItLink\" href=\"__pv_it/fcf32bf8f02dda3b33fe10a24f9fded59db1a0c10/expr.ipynb\"><img src=\"data:image/png;base64,iVBORw0KGgoAAAANSUhEUgAAADsAAAARBAMAAACRPMnQAAAAMFBMVEX///9mZmaqqqrc3NyIiIgi\n",
       "IiJUVFTMzMyYmJi6uroQEBB2dnZEREQyMjLu7u4AAAA1o4RqAAAAAXRSTlMAQObYZgAAAQxJREFU\n",
       "KM9jePvn7AOGXb8mMKACdpkz18BiJ9gTGPg+oMnypQUzvM15AGSlFrgwMCxAk+aZWMDAl34PyMo8\n",
       "x1bAEAAR7QkNDQ0HMTx4gcS5aUAiuYzvHlTadjNM9wVDIOHJAzQ9mcmhDCodDJNlTqgAkjO4gY5L\n",
       "ZtjJ4QCWZlSASXM6KAHJEqYGkDTbg3SwNCvCW1BpBZA0XwIv2OVmCJeDDZ/EbQCSZqhmB0u/QUgf\n",
       "ADuNjQEszaFwANVwhhk8II/NABLpQLwZLM3tAJfmBgeLAJB1CeTmC2DBSwjtjcBAlQDSpb+AOvkg\n",
       "0s8yH8Dl++9+YkAH1UehgQo0foIaAz6w2+iiNx5pZpmzkgwAA2pGYS22kLMAAAAASUVORK5CYII=\n",
       "\" style=\"display:inline;vertical-align:middle;\" /></a><br>"
      ],
      "text/plain": [
       "natsInRationals: Naturals subset Rationals"
      ]
     },
     "execution_count": 3,
     "metadata": {},
     "output_type": "execute_result"
    }
   ],
   "source": [
    "natsInRationals = Subset(Naturals, Rationals)"
   ]
  },
  {
   "cell_type": "code",
   "execution_count": 4,
   "metadata": {},
   "outputs": [
    {
     "data": {
      "text/html": [
       "<strong id=\"natsInRationalsNonNeg\"><a class=\"ProveItLink\" href=\"_proofs_/natsInRationalsNonNeg.ipynb\">natsInRationalsNonNeg</a>:</strong> <a class=\"ProveItLink\" href=\"__pv_it/5e30f3ecb2a2cabaf730ae79db5f571a410931a00/expr.ipynb\"><img src=\"data:image/png;base64,iVBORw0KGgoAAAANSUhEUgAAAFAAAAAXBAMAAABuYtVKAAAAMFBMVEX///9mZmaqqqrc3NyIiIgi\n",
       "IiJUVFTMzMyYmJi6uroQEBB2dnZEREQyMjLu7u4AAAA1o4RqAAAAAXRSTlMAQObYZgAAAW1JREFU\n",
       "KM9jYCAGeHsTUjHNAERybGBKIKCQWawASLJOYPhHyEhmGaDK9wUMiwg6j2/PBIZ6A4YIwh7h2/ug\n",
       "/gFDCMPbP2cfMOz6NQFNml3mzDWIGMsNkIlLGBhOsCcw8H1ANyYtmOFtzgMg68khsBt/MjCkFrgw\n",
       "MCxAU8gzsYCBL/0eA8Prk3BfZ55jK2AIgMj3hIaGhoMYHrxA4tw0hocnwbYLgMIxuYzvHlSh7WaY\n",
       "iRcMgYQnz4NyaMxsBBLJTA5lUIXB8NBLqACSM7hRvJjMsJPDAayQUQEmxumgBCRLmBpQFbI9SAcr\n",
       "ZEUEDlShgs4ZIHgAU8iXwAv2tRlCN9jqSdwGqCYyVLODFb5BCB4Ae4aNAU0hh8IBVKsZZvCAgmcG\n",
       "isJ0IN4MVsjtABfkBge4AIrCSyD/XoAzoaARGIUSKOpKfwFN44MofJb5AC7ef/cTniRVfRQahUDL\n",
       "J6gxEAd2G130Jkohs8xZSSQuAEEPZIXQ+pNQAAAAAElFTkSuQmCC\n",
       "\" style=\"display:inline;vertical-align:middle;\" /></a><br>"
      ],
      "text/plain": [
       "natsInRationalsNonNeg: Naturals subset RationalsNonNeg"
      ]
     },
     "execution_count": 4,
     "metadata": {},
     "output_type": "execute_result"
    }
   ],
   "source": [
    "natsInRationalsNonNeg = Subset(Naturals, RationalsNonNeg)"
   ]
  },
  {
   "cell_type": "code",
   "execution_count": 5,
   "metadata": {},
   "outputs": [
    {
     "data": {
      "text/html": [
       "<strong id=\"natsPosInRationals\"><a class=\"ProveItLink\" href=\"_proofs_/natsPosInRationals.ipynb\">natsPosInRationals</a>:</strong> <a class=\"ProveItLink\" href=\"__pv_it/ebe46c60dc6560212d1c1a068885ae4a65d447db0/expr.ipynb\"><img src=\"data:image/png;base64,iVBORw0KGgoAAAANSUhEUgAAAEkAAAAWBAMAAAB+hazNAAAAMFBMVEX///9mZmaqqqrc3NyIiIgi\n",
       "IiJUVFTMzMyYmJi6uroQEBB2dnZEREQyMjLu7u4AAAA1o4RqAAAAAXRSTlMAQObYZgAAASdJREFU\n",
       "KM9jYCARsBGliodOqt7+OfuAYdevCdhVscucuTYBxDjBnsDA94Eh9+6tu3cb0BTxpQUzvM15AGSl\n",
       "FrgwMCzAbiPPxAIGvvR7QFbmObYChgAUVT2hoaHhIIYHL5A4Nw1IJJfx3UNVZbsZxrpgCCQ8eYBW\n",
       "JjM5lKGqCoYxmBMqgOQMbqD7kxl2cjggq2JUgKnidFACkiVMDSBVbA/SQaqYoXKsiHCAqlIAqeJL\n",
       "4F2A5DEzBBNs4yRuA5Aqhmp2ZFVvEMwDYNeDkgFQFYfCASRVCBsZZoDcem4GkEgH4s3IqrgdEExw\n",
       "qAoAWZdA3rqAHOKXEMxGYAxJAOnSX0Bz+FBUPct8AGf33/2EK51UH4XGENDOCWrEpLrdRhe9Cati\n",
       "ljkryQAAmftLNL2Eo6sAAAAASUVORK5CYII=\n",
       "\" style=\"display:inline;vertical-align:middle;\" /></a><br>"
      ],
      "text/plain": [
       "natsPosInRationals: NaturalsPos subset Rationals"
      ]
     },
     "execution_count": 5,
     "metadata": {},
     "output_type": "execute_result"
    }
   ],
   "source": [
    "natsPosInRationals = Subset(NaturalsPos, Rationals)"
   ]
  },
  {
   "cell_type": "code",
   "execution_count": 6,
   "metadata": {},
   "outputs": [
    {
     "data": {
      "text/html": [
       "<strong id=\"natsPosInRationalsNonNeg\"><a class=\"ProveItLink\" href=\"_proofs_/natsPosInRationalsNonNeg.ipynb\">natsPosInRationalsNonNeg</a>:</strong> <a class=\"ProveItLink\" href=\"__pv_it/4210640cac2d71004b3b3e44b3b79539b3e3da710/expr.ipynb\"><img src=\"data:image/png;base64,iVBORw0KGgoAAAANSUhEUgAAAF4AAAAXBAMAAABwq+X5AAAAMFBMVEX///9mZmaqqqrc3NyIiIgi\n",
       "IiJUVFTMzMyYmJi6uroQEBB2dnZEREQyMjLu7u4AAAA1o4RqAAAAAXRSTlMAQObYZgAAAYZJREFU\n",
       "OMtjYCABeHsTqXCaAYjk2MCUgCTIhls9s1gBkGSdwPAPSZAHjwXMMkAN7wsYFhGpnoFvzwSGegOG\n",
       "CGLVM/DtfVD/gCGE4e2fsw8Ydv2agF09u8yZaxPALJYbIPOXMDCcYE9g4PvAkHv31t27DeiGpgUz\n",
       "vM15AGQ9OQR2/08GhtQCFwaGBdjdwzOxgIEv/R4Dw+uT8PDJPMdWwBCAor4nNDQ0HMTw4AUS56Yx\n",
       "PDwJdpIAKPyTy/juoaq33QxjXTAEEp48D8qh8bsRSCQzOZShqg+Gh3pCBZCcwT0B2Y3JDDs5HJDV\n",
       "MyrApDgdlIBkCVMDqnq2B+kg9cxQAVZEaELVK+icAYIHMPV8CbwLkAwwQzDB7pnEbYBqPkM1O7L6\n",
       "NwjmAbB/URMiUD2HwgEkAYR7GGaA/HRuBor6dCDejKye2wHBBMeXAIr6S6AguYAuAgWNwPQggaK8\n",
       "9BfQbD4U9c8yH8DZ/Xc/Ec5+1Ueh6QHooglqDCSB3UYXvUlRzyxzVhKJCwCfNGlY6CvOpAAAAABJ\n",
       "RU5ErkJggg==\n",
       "\" style=\"display:inline;vertical-align:middle;\" /></a><br>"
      ],
      "text/plain": [
       "natsPosInRationalsNonNeg: NaturalsPos subset RationalsNonNeg"
      ]
     },
     "execution_count": 6,
     "metadata": {},
     "output_type": "execute_result"
    }
   ],
   "source": [
    "natsPosInRationalsNonNeg = Subset(NaturalsPos, RationalsNonNeg)"
   ]
  },
  {
   "cell_type": "code",
   "execution_count": 7,
   "metadata": {},
   "outputs": [
    {
     "data": {
      "text/html": [
       "<strong id=\"intsInRationals\"><a class=\"ProveItLink\" href=\"_proofs_/intsInRationals.ipynb\">intsInRationals</a>:</strong> <a class=\"ProveItLink\" href=\"__pv_it/ea45407a83d05147375d247a1473394fda2a5c8a0/expr.ipynb\"><img src=\"data:image/png;base64,iVBORw0KGgoAAAANSUhEUgAAADkAAAARBAMAAACVyRntAAAAMFBMVEX///9UVFTc3Nzu7u6qqqp2\n",
       "dnbMzMxmZmZERESIiIiYmJgyMjIQEBAiIiK6uroAAABqpg13AAAAAXRSTlMAQObYZgAAAQlJREFU\n",
       "GNNj4LvzZ/fZPQsYUAFbRcfGB0Casz2BYQMHmiSz4CUGawkDBgb2AAZWhzg0WY7nCQzMYpuBsgYM\n",
       "imwFEMEVd+/evQZizOIGEs0PwYLNHAZgWjsIpneDOpCYBxbmmrAKInYJJskkkAUkX7GC3GXB3AAW\n",
       "Y3eAyfJNcAGSmSwgn4gxKoDFeBH+gcoClfMVPIWIKSLcDDb5CStQFzcD0OBgkA0I2QawqxiBRAjI\n",
       "8gMoJjO8AgVP8yuQ+4AmsoNkWSfAZVnBoQEMBQ6DZgZmKbCrtyA0LweGZBWQftN9ouP8CXBgGcoZ\n",
       "wKXX7/6CFroMqb3QkASa/cCRAQ8IVdk+FbcsU0V3HQMAQThBdx6juCoAAAAASUVORK5CYII=\n",
       "\" style=\"display:inline;vertical-align:middle;\" /></a><br>"
      ],
      "text/plain": [
       "intsInRationals: Integers subset Rationals"
      ]
     },
     "execution_count": 7,
     "metadata": {},
     "output_type": "execute_result"
    }
   ],
   "source": [
    "intsInRationals = Subset(Integers, Rationals)"
   ]
  },
  {
   "cell_type": "code",
   "execution_count": 8,
   "metadata": {},
   "outputs": [
    {
     "data": {
      "text/html": [
       "<strong id=\"rationalsPosInRationals\"><a class=\"ProveItLink\" href=\"_proofs_/rationalsPosInRationals.ipynb\">rationalsPosInRationals</a>:</strong> <a class=\"ProveItLink\" href=\"__pv_it/ca5b0399a8d4522d1b3cea14be2833296e08410d0/expr.ipynb\"><img src=\"data:image/png;base64,iVBORw0KGgoAAAANSUhEUgAAAEkAAAAWBAMAAAB+hazNAAAAMFBMVEX///8QEBCqqqp2dnaYmJiI\n",
       "iIjc3NwiIiLu7u66urpUVFQyMjJERERmZmbMzMwAAAC8H5PlAAAAAXRSTlMAQObYZgAAAT9JREFU\n",
       "KM9jYCAVLCBK1QF6qXp75vRKXKr47pzZNQHE6FqewLHrBAPX7t3Su7egKeJYVcbQvaYByDp5D6jy\n",
       "dQNWs3jmPmDgWLeDgYHVYQOQ17kAWRXL8fLy8gdARgg3kDgxi4GBm+0CUOmEE0iq2DYnQFkbcoFE\n",
       "JE8DQxafAwMDp4Mlkip2mCK2BU+A5BTmCQxTmRSAXglQQVJ1CWYzZ4ASkHzK5ADEYFUgLsyIAng4\n",
       "QFUpMHCBbVQwQ3iMDRGfYBsnMScw8EBcjxTTHIgQOQB2PRfI4QdAIeGAFEpwGxmm8IBCYgqQsASF\n",
       "6lvksDSFs5jBoXoBFITXEzj2IhvFwK0AZ/oCY+gKJKR/71dAi70ZcLb/7k9QliUTWirls4HGENDO\n",
       "CVow2820rxrgSlfGSXuDIazcM3sn4FLFduf0TQYATw9doPM/tfUAAAAASUVORK5CYII=\n",
       "\" style=\"display:inline;vertical-align:middle;\" /></a><br>"
      ],
      "text/plain": [
       "rationalsPosInRationals: RationalsPos subset Rationals"
      ]
     },
     "execution_count": 8,
     "metadata": {},
     "output_type": "execute_result"
    }
   ],
   "source": [
    "rationalsPosInRationals = Subset(RationalsPos, Rationals)"
   ]
  },
  {
   "cell_type": "code",
   "execution_count": 9,
   "metadata": {},
   "outputs": [
    {
     "data": {
      "text/html": [
       "<strong id=\"rationalsPosInRationalsNonNeg\"><a class=\"ProveItLink\" href=\"_proofs_/rationalsPosInRationalsNonNeg.ipynb\">rationalsPosInRationalsNonNeg</a>:</strong> <a class=\"ProveItLink\" href=\"__pv_it/0e9b1241470e3c518c4a0b63c07b064a560f0dcd0/expr.ipynb\"><img src=\"data:image/png;base64,iVBORw0KGgoAAAANSUhEUgAAAF4AAAAXBAMAAABwq+X5AAAAMFBMVEX///8QEBCqqqp2dnaYmJiI\n",
       "iIjc3NwiIiLu7u66urpUVFQyMjJERERmZmbMzMwAAAC8H5PlAAAAAXRSTlMAQObYZgAAAaRJREFU\n",
       "OMtjYCABBAcTqXBWAohkMWBagCy6AKd6tlsPgCT7BIYfyKIHcFvAdgeoof8BgxCR6hk4bCYwvE9g\n",
       "KCFWPQOHdcP7BoZSIOvtmdMrcannu3Nm1wQwi3ULyHxRBoau5Qkcu04wcO3eLb17C7qhq8oYutc0\n",
       "AFmth8Du/8nAcPIeUM/rBqzm88x9wMCxbgcDQ/NJWPiwOmwAincuQFbvU15eXgdihHADiROzGHpP\n",
       "gp10ARj+3GwXgKwJJ5DUZ5vBNG7IBRKRPA3voPFry8CQxefAwMDpYImkvgwe6gueAMkpzBOQnDiV\n",
       "SQEYDAEqCPW8CjA5zgAlIPmUyQFJ/VOIepBEAkSEHRGaUPUKOmeAoAEsxgV2j4IZwoQspBQFcs8k\n",
       "5gTkIIP4Fymt9SDFONi/XMhBzOlwABSeSE5EuIdhCg8oPKegxIklKL7eIgkwByCY4Pi6gKKe5XoC\n",
       "x17kEGDYhGD6AtPDFbRIZ/m9XwFFoGtlA5ztv/sTRiqxZELLWY+PQ9MD0EUTtDDUM5tpXzXAle6N\n",
       "k/Zi5PLcM3sn4M6Jp28icQFMbXsQFWxgNAAAAABJRU5ErkJggg==\n",
       "\" style=\"display:inline;vertical-align:middle;\" /></a><br>"
      ],
      "text/plain": [
       "rationalsPosInRationalsNonNeg: RationalsPos subset RationalsNonNeg"
      ]
     },
     "execution_count": 9,
     "metadata": {},
     "output_type": "execute_result"
    }
   ],
   "source": [
    "rationalsPosInRationalsNonNeg = Subset(RationalsPos, RationalsNonNeg)"
   ]
  },
  {
   "cell_type": "code",
   "execution_count": 10,
   "metadata": {},
   "outputs": [
    {
     "data": {
      "text/html": [
       "<strong id=\"rationalsNonNegInRationals\"><a class=\"ProveItLink\" href=\"_proofs_/rationalsNonNegInRationals.ipynb\">rationalsNonNegInRationals</a>:</strong> <a class=\"ProveItLink\" href=\"__pv_it/817de8dff755d9b263c3121060f456d59b0374770/expr.ipynb\"><img src=\"data:image/png;base64,iVBORw0KGgoAAAANSUhEUgAAAFIAAAAXBAMAAABqlwV3AAAAMFBMVEX///8QEBCqqqp2dnaYmJiI\n",
       "iIjc3NwiIiLu7u66urpUVFQyMjJERERmZmbMzMwAAAC8H5PlAAAAAXRSTlMAQObYZgAAAUBJREFU\n",
       "KM9jYEAFrKYGDAQA5zIw5cygRUglQ+46EFnJwN9AWOk5BgaOfwyMCgRVMjSfZOD7xsDuwECE0h18\n",
       "PxjYA3DKvz1zeiWEFe0ANJMxAJeCruUJHLtOABkcMQogd/JPQFMIV3DyHpDzuoGBw2YCdr/DFLA6\n",
       "bGBg4OlcwHEHbFYsLDxZjpeXlz8AxQVUAQM32wUgb8IJvgeQODK+AKbZNidAjYQpYMjiA4YKp4Ml\n",
       "mpXsMIUIBVOZgCHNF6CCpvISnAVX8BTCUGI6AwQn4PIFcBZMAQMX2HAFM1Qj2RbAmXAFPBAHL0BV\n",
       "yXEAzoQr4HQ4AAoE9MhG2I5QYAkK2LfoMWiKYMIVsFxP4NiLkX64EWkPoYDl937MJMmxagZCKVyB\n",
       "JdMCzBTGZwONTWQFzGbaV/HmM4SC3DN7J+DPOEAFAI7padStxDtWAAAAAElFTkSuQmCC\n",
       "\" style=\"display:inline;vertical-align:middle;\" /></a><br>"
      ],
      "text/plain": [
       "rationalsNonNegInRationals: RationalsNonNeg subset Rationals"
      ]
     },
     "execution_count": 10,
     "metadata": {},
     "output_type": "execute_result"
    }
   ],
   "source": [
    "rationalsNonNegInRationals = Subset(RationalsNonNeg, Rationals)"
   ]
  },
  {
   "cell_type": "code",
   "execution_count": 11,
   "metadata": {},
   "outputs": [
    {
     "data": {
      "text/html": [
       "<strong id=\"inRationalsPos_iff_positive\"><a class=\"ProveItLink\" href=\"_proofs_/inRationalsPos_iff_positive.ipynb\">inRationalsPos_iff_positive</a>:</strong> <a class=\"ProveItLink\" href=\"__pv_it/d5edf682059948269aea5b3c64053a1dcda648e30/expr.ipynb\"><img src=\"data:image/png;base64,iVBORw0KGgoAAAANSUhEUgAAAPsAAAAbBAMAAABIGOQXAAAAMFBMVEX///8QEBCIiIhmZma6urrM\n",
       "zMxUVFQiIiJERETc3Nzu7u6qqqp2dnaYmJgyMjIAAAAcRTyBAAAAAXRSTlMAQObYZgAABD1JREFU\n",
       "SMfNVltoVEcY/rP3nd2z5kGpog3bKKIWIQSkPqjd6kOhfcimKX0RmiUoaltaMVQtSglBdKMYDgr2\n",
       "QiFrWtKStskB+yJFE5K0JC3RbV9EtE1IYNsK2QQrXlIR/39uZ3d7Tjbd+uDAbCZn/m/++zcD8DQP\n",
       "fwJ/Xl9QJIXTU8nZiwC9QSakFhRpw+lLVaB+EaBbOGOZsuphvBL3y4K8cfyph/Lqg44mhrNuoIsK\n",
       "NEmL31ykulAgPO+41ZTu3GWr99Q5yXzliBy6mYSAKUE/qxg7jWGcUceTe/aYLHcSAvl8TX4GbZxz\n",
       "EvrL6WPMYh8AI68J9DH9bXNRvxJnleW0c2wTmvBmRnkPRxxkDNtwNqOXvwBcwRBIEBVW1HLWzuPe\n",
       "VZhW48ShD3mws2h+6IuUVr9Z+SbbhefWtIHfHFCr4wADGTgvQcZPvb0fuThvVAtrbRpol7bEwuiZ\n",
       "J3FSq39OSmzEGUqKddGxnqMSehegwYJYQoLup9NH3QqfMrSNVp/92k3yfSoS5/xY1L7siFbfIHb8\n",
       "9B+TpbSaAji+YY30pZWLsL9ROC4qikC7ATpc1IfosDQxxAp4jz7sUzvbI5gvf/ySVt8sPG585hCO\n",
       "GmHLaZwvmQFVlZEcJSP8EIXjYExK0A5RhrpIfhzWSmKU2xzO81l4VzcZjdeE+u9xKRLcleARfkvE\n",
       "4JQqR/YsBPTpvhz1MXrfPAiR/RIUxDqS+18Pb4UzKRhXlRikCLXifBFgFR1bk8dBOwEefGtMW91P\n",
       "6tlBBeR2LsX0zUHVoFb/Z0YH3z8nQdFsUFXaqU8zsD4L3ReV96R+GudyCN8patCQKD2btYX354Qq\n",
       "9g5I9VVtckcHn0pvwBLqaSs8SY3yee2rmAZ0cKcJHkMpSYlGYbfB4Bms1o5k26jxbFJtFjm4RuHJ\n",
       "/5FUwe+PwwQUlR7V0kQGfPsVqAPJk73vf8D51/gWvVJXYYC83Yu7/0CIZ9Cm/xGinSa7ZGTlc6Zh\n",
       "ku2w9Pot6CxpPEE7vPQ46AIa4q3zVzOCekh9VPVqtWzOKZjgYQ1qfjJeMNl0wY2i2IHuAa+lKTsW\n",
       "Nx6W0E7QYstQZlCBlsSJWT0p/+F0uj1CwVfqffPSxJ7aAZ5BtvcVrf/RbCFXKtbrA8HjNF5GQMvz\n",
       "d0pIlw2txdzEkgpk4Pn9ZijO3y1sH5beDSW6lDifK5YZ9I0K0qXwRwqfC1OKp3H2FpKu4XgZwZeF\n",
       "IKgykQJ+4FSVgiFd4FtAhkm0fdGIjl2u1z3F5t2unMCk861bBPK1XMVKpmh67o3e1UKN1Au83Ff9\n",
       "+4Sz6emE1uT4cCI2tdu+cHCmKwT9jnNdup3aSR8KATLobZxX7tUt+OQJJl2eG9HZVkc6N0tAW/Qt\n",
       "23HjkyIj+xbxbLsJ/+2xdb0E5H2kTeke3qA/XyC2qiur3fW98j9BEUrEd2XFvJkK1FcEerLjMZAE\n",
       "J2DQ1tnYAAAAAElFTkSuQmCC\n",
       "\" style=\"display:inline;vertical-align:middle;\" /></a><br>"
      ],
      "text/plain": [
       "inRationalsPos_iff_positive: forall_{q in Rationals} ((q in RationalsPos) <=> (q > 0))"
      ]
     },
     "execution_count": 11,
     "metadata": {},
     "output_type": "execute_result"
    }
   ],
   "source": [
    "inRationalsPos_iff_positive = Forall(\n",
    "        q,\n",
    "        Iff(InSet(q, RationalsPos),\n",
    "            Greater(q, zero)),\n",
    "        domain=Rationals)"
   ]
  },
  {
   "cell_type": "code",
   "execution_count": 12,
   "metadata": {},
   "outputs": [
    {
     "data": {
      "text/html": [
       "<strong id=\"inRationalsNonNeg_iff_nonNeg\"><a class=\"ProveItLink\" href=\"_proofs_/inRationalsNonNeg_iff_nonNeg.ipynb\">inRationalsNonNeg_iff_nonNeg</a>:</strong> <a class=\"ProveItLink\" href=\"__pv_it/13278962ba67859f3c4bb38428c276cfe4cc51e40/expr.ipynb\"><img src=\"data:image/png;base64,iVBORw0KGgoAAAANSUhEUgAAAQMAAAAcBAMAAACXCMcCAAAAMFBMVEX///8QEBCIiIhmZma6urrM\n",
       "zMxUVFQiIiJERETc3Nzu7u6qqqp2dnaYmJgyMjIAAAAcRTyBAAAAAXRSTlMAQObYZgAABEdJREFU\n",
       "SMfFVm+IVFUUP/Nm3szOnfd254PQp+T5hxB1ddhI/SAyaRDUh6bM+uYOUqglIW21H3aNRdaaXdEe\n",
       "LGz7RRwxKpbYGciKJZVFDTQVn5+MshpaW0lBJQp0FfGee++5897ue42Ohgf2N3ffO7/7fvfcc869\n",
       "AI/CjGMT8LgssVX8XIRv/7dPvKohwobeRHwP2spGU+Fr6GEWCaI17AJg/0Ksmig2E8WGpNYyQbR9\n",
       "1Q/mLUh5cLaZMDQkdWj4Lw1XzGlIOZAKlZr2ongZlwOSavjfr+FO6WmC2ba+tPcNOVrm8SjEHDBy\n",
       "YX5fhrKt9h8AMJWRdBqfXAmXYOUIZtnnm102NcgHbFEVc6EtD+kbYY5/6RHrqofpKnzhwhgukJNG\n",
       "8LcvXEKsSjDL+p/hMjaWgZ3Mq4oA6Anxs30LyEy59DQLVg0sBwQJk82qhkvYXybQM37c/aEoJo9v\n",
       "YMtnRbYKFcAC0RdWURLzv9fUOOX683+qIActRchMA8tKkv3j6OinEQlzXgMV6U6lpzXNV2fkB005\n",
       "p3EGFztPebXjR9THglObJaEY2oqQuA1wSZFulkq9ERLWEKTPLl6I4zGKyLDJEz3hnQi4vyTfmrit\n",
       "TKXXAh8bh++IgFdykPgb4Lgi8fY2ECGhRPCsmxS5tpXerM3wqUznSMC9U6785Se6uc2Vevb42ELD\n",
       "StyZ/RNgcgm/KdI6YDV/lW9bobdvSgF7EpLCR6ftK1LC95kSt0FKHRFl4y0Zi93ip8fHFsnUJTxz\n",
       "YN4B+E6RUjy3VNUcftpLPwXWL+TfpSB+A2J4FJpzr3HDh0mxEdVTgShUUAL7gBJR6J1TZwt9vWXf\n",
       "RnQqkuWl1PufxkfB2AdsCYVhUkGsT66wXrwtMh2DHV5GYVh+jm0DJYHYGOJ3gdIxc1tKwFfpGhbQ\n",
       "wfkvJjCrN4wDONRTP1JQceB38SCry8vrw6IMNt9OKf0Chura5QJthGbD0A5aQR/YvOk+T6QB3mjZ\n",
       "++YtLGf4mc/qOMpzi4JKFfZC8Lg4ga1pPYRVhOhGTHXFPT728FUItCaRjoL09Xa+XzkzexBfLkYJ\n",
       "tHPzFLQ69h25v7qH2StdNumFtBFueHbElefxOpv111174ACP0moitTnYhY3i6zy5nW/GfRKEQg5s\n",
       "05J/5AZveUFruHt9Zk+l7oi9f0SNeaw121938/Gq8yeRbP6hitviJMXxw9OxneaO5QlsVdiJk7JB\n",
       "41ZkZl43/qDa53+j/gZthx5gwLb7SBBzOwsWJpCxAqxF9DQ+QZCszT5GTx3tCFxa2XTUMRXCFjM4\n",
       "flJi0zkA0UyW936iV2dmCWIhN+Sh0mQ+8LXQS9iAZrPL2DW7C/rV2AwSz06D5wLA4HP1h28rsK53\n",
       "Nb6DpQoRV5Yo9sAM0moajOwbd/06JdyHXYQHu7jZbpAUv0ty2NIOfUPI5AgaW9S952FJhzQ0tHi5\n",
       "CQlNkR693QN25TO/yK8NIAAAAABJRU5ErkJggg==\n",
       "\" style=\"display:inline;vertical-align:middle;\" /></a><br>"
      ],
      "text/plain": [
       "inRationalsNonNeg_iff_nonNeg: forall_{q in Rationals} ((q in RationalsNonNeg) <=> (q >= 0))"
      ]
     },
     "execution_count": 12,
     "metadata": {},
     "output_type": "execute_result"
    }
   ],
   "source": [
    "inRationalsNonNeg_iff_nonNeg = Forall(\n",
    "        q,\n",
    "        Iff(InSet(q, RationalsNonNeg),\n",
    "            GreaterEq(q, zero)),\n",
    "        domain=Rationals)"
   ]
  },
  {
   "cell_type": "markdown",
   "metadata": {},
   "source": [
    "***A set of inBool theorems, which are accessed by the respective NumberSets to implement their ``deduceMembershipInBool()`` methods, covering the ``RationalsSet`` and ``RationalsPosSet`` NumberSet classes (defined in proveit/number/sets/rational/rationals.py):***"
   ]
  },
  {
   "cell_type": "code",
   "execution_count": 13,
   "metadata": {},
   "outputs": [
    {
     "data": {
      "text/html": [
       "<strong id=\"xInRationalsInBool\"><a class=\"ProveItLink\" href=\"_proofs_/xInRationalsInBool.ipynb\">xInRationalsInBool</a>:</strong> <a class=\"ProveItLink\" href=\"__pv_it/71ee997481ca67a1b3b20806f8c963d98ba21a0b0/expr.ipynb\"><img src=\"data:image/png;base64,iVBORw0KGgoAAAANSUhEUgAAAJsAAAAUBAMAAABoqVKyAAAAMFBMVEX///8QEBCIiIhmZma6urrM\n",
       "zMxUVFQiIiJERETc3Nzu7u6qqqp2dnaYmJgyMjIAAAAcRTyBAAAAAXRSTlMAQObYZgAAAntJREFU\n",
       "OMuNVE1oE1EQ/oy7+dls1h6E3iRY8NCTBIoXD6EeigUhWOhRgyjai9STiCJBBLeCEhDUi7iiaClS\n",
       "Ah5ERQlpDzYeXFAQwUqgKiioQRAUofab3Wz6ntlQB3bz8s3O976ZeW+AHsv4fN1Af8tW4/FHfFqy\n",
       "WFbRWT5WJTZgwr18mD9TOpo44a4OEk9ymxcCfFG9n/k4sQLuHq1any4C8//gjpmfve3DorTrkp6q\n",
       "JbeTr1ex4s6PkPKABzuv42nDT5TI0SCzB9g1xZcSYafUr3MXTp4NkvK5ffpOGdaA7iBdtka6W4Sa\n",
       "c3PX1GD5k5lWAPOc18kpQ+GJIrP9oDtIZ4+TzikCv1z3jEo3JDoYZ22fGm0IMN8JwlWTPTf8RWAB\n",
       "moN0Y5MlZsmwI8CMSndJ/Iy7jzf5IJVuH0ezLIqZfwq8h+ZIG4N/t0ryLMaeoCPrdlrqx7gmXnp7\n",
       "Bej2aX9I9wR4CM0hyS7XeSBZoxRLrNLJNptYBA9uWKFt32iySgbJ1paAg7qDdKjsI9Jmwn4KcXTA\n",
       "j/CSrIsIW1Hu0GVUdagkQ7pMa5JIY2RHSU8W5s8QGIiiDL8iB4USx3SH0JUdfiAHYob3I+EdTxX1\n",
       "VjxOtDEsQKErfFGO8QSiVhQ0de/CVuABOU18jXxyCNhx40+6HQyDUGp4bHdVrRXBdkNzOGbdXmAN\n",
       "NrMd2BJcmd9RjCRC1dah4aFwMljHxrt8q98Dio+aIxoBcKReOTmNZtvse8mM5+FdknSzZeGZ7nEE\n",
       "di9a3LRb9sYjgFVYelao94yAyBrd0fO60YzWckfSfSYkrrgrxZ4B1TH9OvzH+FQ2jLF4DRsO91wf\n",
       "6W+BNUhEtAQLSZ7kAAAAAElFTkSuQmCC\n",
       "\" style=\"display:inline;vertical-align:middle;\" /></a><br>"
      ],
      "text/plain": [
       "xInRationalsInBool: forall_{x} ((x in Rationals) in BOOLEANS)"
      ]
     },
     "execution_count": 13,
     "metadata": {},
     "output_type": "execute_result"
    }
   ],
   "source": [
    "xInRationalsInBool = Forall(x, inBool(InSet(x, Rationals)))"
   ]
  },
  {
   "cell_type": "code",
   "execution_count": 14,
   "metadata": {},
   "outputs": [
    {
     "data": {
      "text/html": [
       "<strong id=\"xInRationalsPosInBool\"><a class=\"ProveItLink\" href=\"_proofs_/xInRationalsPosInBool.ipynb\">xInRationalsPosInBool</a>:</strong> <a class=\"ProveItLink\" href=\"__pv_it/713b6bc08f9bb1fdf4fa1df350e89db7a59c14000/expr.ipynb\"><img src=\"data:image/png;base64,iVBORw0KGgoAAAANSUhEUgAAAK8AAAAbBAMAAAD458IlAAAAMFBMVEX///8QEBCIiIhmZma6urrM\n",
       "zMxUVFQiIiJERETc3Nzu7u6qqqp2dnaYmJgyMjIAAAAcRTyBAAAAAXRSTlMAQObYZgAAAxZJREFU\n",
       "SMe9Vk1oE1EQnia7+dlsag8eBEFSfypIxSIqQYxECj2ooWkR8aAkBysRoYhSg1a0iNg0BxtQMCDS\n",
       "pYcgPaSBipdeSvUgtYWKIh4qbi30UDBUULDx4szb3be7Ybfmog92XjLz8r2Zb342AP9zncFHjG96\n",
       "xEci4mL0uOjFNIqzm98dINHlYhTSzvpmBcVaA8Dyoot1wVl9EB9vpAFguOVi9aNrKn34bNUGayjG\n",
       "FGeWornVuAm8q868d9vo8g20ezoA3kJ93DJq4ZUjrnTpJpQzCvRXl6tV5GGs/oDaK+Vj6Ns6QJF8\n",
       "HLIamyootjsT0JkEqW+Ne+yv1B0YSsAeMg1qmZJtdmKB0WGuT9kso2x/M4p8Fwf26h6Fh7N3DOBp\n",
       "MkVRNzcx8cSG8o5Otlg15/YZkT5CsTugGMAe7Zh4TzE9fv0c91Z8fuVyt23Ax8kVcnC87XE7FYdk\n",
       "pCCYvoAyIccNYEELrKyYVAgDfbh3owb3ERtwjiLFGKWZ8DU/XeArGIUfmUbZG1o0gMWfbLtscnzi\n",
       "7neqmlQSoBMk1Qa8Sj2CvSMrck0ocD4JRwfGlAS1EH5ocNbkLSxRnhDdDx57A12ndGPJScxvXD1V\n",
       "XOxyRsUpucDLjwGLO+iAARwQEG4yTn3pt5fMCnlMtQxbtPYrmg6x5PnMXmLAQZvHAUhrHgdVmjez\n",
       "h9uSuvEBRc/GSEpTNfHfJYiVfMJsxA22tViBfdTMKQpq5CLWjdLvN+ZkhvKFToSUA6i3zQ2ZNUiH\n",
       "OcZqfLiYHodntKqAqat4NXzjxla9QLsro/CMaQa57T22dMxkTS93swHV8zB/RO8FnckNfppuI1dK\n",
       "O8djWlpL93mhfqn+tqRD7zwpc9I+hKjz8Fr6lbgu8llBlq22fJ4ezuolKcdfWie3TpLwRm9pY33l\n",
       "80FWZe4GcgTH3Abx/NOVdv5l0nm4gsRHTenD7BxPNRHX4wYcjD48xL98dDkUdn43XaGyqDTy1h1w\n",
       "e4MkHdVlCkZtAJcKy3EtOatDVKhTDQAX3egacjG8IPT434GPuui9yj/80/MHU9C+Iwj3fvYAAAAA\n",
       "SUVORK5CYII=\n",
       "\" style=\"display:inline;vertical-align:middle;\" /></a><br>"
      ],
      "text/plain": [
       "xInRationalsPosInBool: forall_{x} ((x in RationalsPos) in BOOLEANS)"
      ]
     },
     "execution_count": 14,
     "metadata": {},
     "output_type": "execute_result"
    }
   ],
   "source": [
    "xInRationalsPosInBool = Forall(x, inBool(InSet(x, RationalsPos)))"
   ]
  },
  {
   "cell_type": "code",
   "execution_count": 15,
   "metadata": {},
   "outputs": [
    {
     "data": {
      "text/html": [
       "<strong id=\"xInRationalsNonNegInBool\"><a class=\"ProveItLink\" href=\"_proofs_/xInRationalsNonNegInBool.ipynb\">xInRationalsNonNegInBool</a>:</strong> <a class=\"ProveItLink\" href=\"__pv_it/9d4e6a947a5b657a4062a3519765a8f4702d21340/expr.ipynb\"><img src=\"data:image/png;base64,iVBORw0KGgoAAAANSUhEUgAAALcAAAAcBAMAAADRmzOBAAAAMFBMVEX///8QEBCIiIhmZma6urrM\n",
       "zMxUVFQiIiJERETc3Nzu7u6qqqp2dnaYmJgyMjIAAAAcRTyBAAAAAXRSTlMAQObYZgAAAyJJREFU\n",
       "SMe1VV1IVEEUPq37d693N4keAiG27AfEYIkSiYQtQehnaRWKHopdIkNfIgJbyn6WEFwNaqGHhB66\n",
       "FEiIqCBE5ItYD2JaRlI9GN0KegiULQxSXzozd2b2znonNsIP/OZ69txvzpw551yA/0BNDawBGnOE\n",
       "Q2PlqX9+1RfjpIJWm0AOxGAZIgoXj8J+QpBavQ7VhxJQCY0KD6/iUN8FqaFPxCCZg2tgzCg8pl2t\n",
       "ZRFOf1V/ZSZNuAhwReEQMAEs8vDRaX1gcnK5jrrsN/syPPMk8g0AVUUuOzfd+XwJfTxRgJercvBc\n",
       "0Opwz12GwVay78NbNOeLGEaxk9Ws99TjteQBesn1ZJw/VgpahWBDAvQWDGWgk1cLBIaLnDJx2B7E\n",
       "tQMgjHEYzt+1ZU4FfEinafp2hZF6GuFRJ81MlNR5GYss1JW+zsVHiXgd2ib7++85hUIVnAROVvMT\n",
       "30XaFjSPsw4lyfPYrr6bZiHyF49x3YJ/v7PZq1KxWIz0rW0Hx2mm+ZVoqdPIcUPqL699yEGzkBZv\n",
       "ewuux9CCa7eU1wyjAXgfoQf157hOZBS5uVwqbd8vurQVcn7gxg+yfRL7rAF0y+kcTjGahNfmIbqd\n",
       "0GHiw0+zCBaqtmhLOi90eo5UM+4QAI8USSDKyISsbWlaQNAAaFqOGDmpPKm4bzNx4uJBL0oOobgx\n",
       "E5AqIxzlBD9tS28hKHqhfnnMUHFNijwIKTtyzSIzanzvjgTLeYoTyyasE+/FSYZ64nLTLtGlwinu\n",
       "J42fJAfsPov1ZJ4PsBrwZxg98+ShGqQ5Y9AmioJLteyWIg+N2dUCIxdwe5gXg7jCJu9KMK/Zt9Eh\n",
       "XnyL7V8vNyRriUKjWqdgqhbXN+Sf9TSwJSkSJP1MdRUbaH2doog/LawUD1E723rrYXlwkQ7Frcmb\n",
       "vryPe28UJHC0K83K1Yg9KRIPs6R5J1j7c3wRY9awDP68X5Abpu5/lT/LQ6Zi4Ivx1Dc7PsmfmwS5\n",
       "f+Bu75EM7xSOIdfvnH+YU0loV32JEq7nsTiVAlJ0rphzN48IKgG9qvRl3O3lMU4lYJ/CXmbC2uIP\n",
       "JUXSwmhGFEIAAAAASUVORK5CYII=\n",
       "\" style=\"display:inline;vertical-align:middle;\" /></a><br>"
      ],
      "text/plain": [
       "xInRationalsNonNegInBool: forall_{x} ((x in RationalsNonNeg) in BOOLEANS)"
      ]
     },
     "execution_count": 15,
     "metadata": {},
     "output_type": "execute_result"
    }
   ],
   "source": [
    "xInRationalsNonNegInBool = Forall(x, inBool(InSet(x, RationalsNonNeg)))"
   ]
  },
  {
   "cell_type": "code",
   "execution_count": 16,
   "metadata": {},
   "outputs": [
    {
     "name": "stdout",
     "output_type": "stream",
     "text": [
      "Theorems may be imported from autogenerated _theorems_.py\n"
     ]
    }
   ],
   "source": [
    "%end theorems"
   ]
  },
  {
   "cell_type": "code",
   "execution_count": null,
   "metadata": {},
   "outputs": [],
   "source": []
  }
 ],
 "metadata": {
  "kernelspec": {
   "display_name": "Python 3",
   "language": "python",
   "name": "python3"
  }
 },
 "nbformat": 4,
 "nbformat_minor": 0
}
