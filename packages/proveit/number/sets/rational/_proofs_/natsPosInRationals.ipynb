{
 "cells": [
  {
   "cell_type": "markdown",
   "metadata": {},
   "source": [
    "Proof of <a class=\"ProveItLink\" href=\"../../../../_context_.ipynb\">proveit</a>.<a class=\"ProveItLink\" href=\"../../../_context_.ipynb\">number</a>.<a class=\"ProveItLink\" href=\"../../_context_.ipynb\">sets</a>.<a class=\"ProveItLink\" href=\"../_context_.ipynb\">rational</a>.<a class=\"ProveItLink\" href=\"../_theorems_.ipynb#natsPosInRationals\">natsPosInRationals</a> theorem\n",
    "========"
   ]
  },
  {
   "cell_type": "code",
   "execution_count": 1,
   "metadata": {},
   "outputs": [],
   "source": [
    "import proveit\n",
    "context = proveit.Context('..') # the theorem's context is in the parent directory"
   ]
  },
  {
   "cell_type": "code",
   "execution_count": 2,
   "metadata": {},
   "outputs": [
    {
     "name": "stdout",
     "output_type": "stream",
     "text": [
      "Beginning proof of natsPosInRationals\n",
      "Recorded 'presuming' information\n",
      "Presuming previous theorems (applied transitively).\n"
     ]
    },
    {
     "data": {
      "text/html": [
       "<strong id=\"natsPosInRationals\">natsPosInRationals:</strong> <a class=\"ProveItLink\" href=\"../__pv_it/ebe46c60dc6560212d1c1a068885ae4a65d447db0/expr.ipynb\"><img src=\"data:image/png;base64,iVBORw0KGgoAAAANSUhEUgAAAEkAAAAWBAMAAAB+hazNAAAAMFBMVEX///9mZmaqqqrc3NyIiIgi\n",
       "IiJUVFTMzMyYmJi6uroQEBB2dnZEREQyMjLu7u4AAAA1o4RqAAAAAXRSTlMAQObYZgAAASdJREFU\n",
       "KM9jYCARsBGliodOqt7+OfuAYdevCdhVscucuTYBxDjBnsDA94Eh9+6tu3cb0BTxpQUzvM15AGSl\n",
       "FrgwMCzAbiPPxAIGvvR7QFbmObYChgAUVT2hoaHhIIYHL5A4Nw1IJJfx3UNVZbsZxrpgCCQ8eYBW\n",
       "JjM5lKGqCoYxmBMqgOQMbqD7kxl2cjggq2JUgKnidFACkiVMDSBVbA/SQaqYoXKsiHCAqlIAqeJL\n",
       "4F2A5DEzBBNs4yRuA5Aqhmp2ZFVvEMwDYNeDkgFQFYfCASRVCBsZZoDcem4GkEgH4s3IqrgdEExw\n",
       "qAoAWZdA3rqAHOKXEMxGYAxJAOnSX0Bz+FBUPct8AGf33/2EK51UH4XGENDOCWrEpLrdRhe9Cati\n",
       "ljkryQAAmftLNL2Eo6sAAAAASUVORK5CYII=\n",
       "\" style=\"display:inline;vertical-align:middle;\" /></a><br>(see <a class=\"ProveItLink\" href=\"../__pv_it/ebe46c60dc6560212d1c1a068885ae4a65d447db0/dependencies.ipynb\">dependencies</a>)<br>"
      ],
      "text/plain": [
       "natsPosInRationals: NaturalsPos subset Rationals"
      ]
     },
     "execution_count": 2,
     "metadata": {},
     "output_type": "execute_result"
    }
   ],
   "source": [
    "%proving natsPosInRationals presuming []"
   ]
  },
  {
   "cell_type": "code",
   "execution_count": null,
   "metadata": {},
   "outputs": [],
   "source": []
  }
 ],
 "metadata": {
  "kernelspec": {
   "display_name": "Python 3",
   "language": "python",
   "name": "python3"
  }
 },
 "nbformat": 4,
 "nbformat_minor": 0
}
