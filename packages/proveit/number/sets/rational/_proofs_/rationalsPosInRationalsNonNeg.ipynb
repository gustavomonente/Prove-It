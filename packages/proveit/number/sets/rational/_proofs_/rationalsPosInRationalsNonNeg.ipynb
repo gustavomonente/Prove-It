{
 "cells": [
  {
   "cell_type": "markdown",
   "metadata": {},
   "source": [
    "Proof of <a class=\"ProveItLink\" href=\"../../../../_context_.ipynb\">proveit</a>.<a class=\"ProveItLink\" href=\"../../../_context_.ipynb\">number</a>.<a class=\"ProveItLink\" href=\"../../_context_.ipynb\">sets</a>.<a class=\"ProveItLink\" href=\"../_context_.ipynb\">rational</a>.<a class=\"ProveItLink\" href=\"../_theorems_.ipynb#rationalsPosInRationalsNonNeg\">rationalsPosInRationalsNonNeg</a> theorem\n",
    "========"
   ]
  },
  {
   "cell_type": "code",
   "execution_count": 1,
   "metadata": {},
   "outputs": [],
   "source": [
    "import proveit\n",
    "context = proveit.Context('..') # the theorem's context is in the parent directory"
   ]
  },
  {
   "cell_type": "code",
   "execution_count": 2,
   "metadata": {},
   "outputs": [
    {
     "name": "stdout",
     "output_type": "stream",
     "text": [
      "Beginning proof of rationalsPosInRationalsNonNeg\n",
      "Recorded 'presuming' information\n",
      "Presuming previous theorems (applied transitively).\n"
     ]
    },
    {
     "data": {
      "text/html": [
       "<strong id=\"rationalsPosInRationalsNonNeg\">rationalsPosInRationalsNonNeg:</strong> <a class=\"ProveItLink\" href=\"../__pv_it/0e9b1241470e3c518c4a0b63c07b064a560f0dcd0/expr.ipynb\"><img src=\"data:image/png;base64,iVBORw0KGgoAAAANSUhEUgAAAF4AAAAXBAMAAABwq+X5AAAAMFBMVEX///8QEBCqqqp2dnaYmJiI\n",
       "iIjc3NwiIiLu7u66urpUVFQyMjJERERmZmbMzMwAAAC8H5PlAAAAAXRSTlMAQObYZgAAAaRJREFU\n",
       "OMtjYCABBAcTqXBWAohkMWBagCy6AKd6tlsPgCT7BIYfyKIHcFvAdgeoof8BgxCR6hk4bCYwvE9g\n",
       "KCFWPQOHdcP7BoZSIOvtmdMrcannu3Nm1wQwi3ULyHxRBoau5Qkcu04wcO3eLb17C7qhq8oYutc0\n",
       "AFmth8Du/8nAcPIeUM/rBqzm88x9wMCxbgcDQ/NJWPiwOmwAincuQFbvU15eXgdihHADiROzGHpP\n",
       "gp10ARj+3GwXgKwJJ5DUZ5vBNG7IBRKRPA3voPFry8CQxefAwMDpYImkvgwe6gueAMkpzBOQnDiV\n",
       "SQEYDAEqCPW8CjA5zgAlIPmUyQFJ/VOIepBEAkSEHRGaUPUKOmeAoAEsxgV2j4IZwoQspBQFcs8k\n",
       "5gTkIIP4Fymt9SDFONi/XMhBzOlwABSeSE5EuIdhCg8oPKegxIklKL7eIgkwByCY4Pi6gKKe5XoC\n",
       "x17kEGDYhGD6AtPDFbRIZ/m9XwFFoGtlA5ztv/sTRiqxZELLWY+PQ9MD0EUTtDDUM5tpXzXAle6N\n",
       "k/Zi5PLcM3sn4M6Jp28icQFMbXsQFWxgNAAAAABJRU5ErkJggg==\n",
       "\" style=\"display:inline;vertical-align:middle;\" /></a><br>(see <a class=\"ProveItLink\" href=\"../__pv_it/0e9b1241470e3c518c4a0b63c07b064a560f0dcd0/dependencies.ipynb\">dependencies</a>)<br>"
      ],
      "text/plain": [
       "rationalsPosInRationalsNonNeg: RationalsPos subset RationalsNonNeg"
      ]
     },
     "execution_count": 2,
     "metadata": {},
     "output_type": "execute_result"
    }
   ],
   "source": [
    "%proving rationalsPosInRationalsNonNeg presuming []"
   ]
  },
  {
   "cell_type": "code",
   "execution_count": null,
   "metadata": {},
   "outputs": [],
   "source": []
  }
 ],
 "metadata": {
  "kernelspec": {
   "display_name": "Python 3",
   "language": "python",
   "name": "python3"
  }
 },
 "nbformat": 4,
 "nbformat_minor": 0
}
