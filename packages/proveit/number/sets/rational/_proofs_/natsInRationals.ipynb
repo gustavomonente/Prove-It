{
 "cells": [
  {
   "cell_type": "markdown",
   "metadata": {},
   "source": [
    "Proof of <a class=\"ProveItLink\" href=\"../../../../_context_.ipynb\">proveit</a>.<a class=\"ProveItLink\" href=\"../../../_context_.ipynb\">number</a>.<a class=\"ProveItLink\" href=\"../../_context_.ipynb\">sets</a>.<a class=\"ProveItLink\" href=\"../_context_.ipynb\">rational</a>.<a class=\"ProveItLink\" href=\"../_theorems_.ipynb#natsInRationals\">natsInRationals</a> theorem\n",
    "========"
   ]
  },
  {
   "cell_type": "code",
   "execution_count": 1,
   "metadata": {},
   "outputs": [],
   "source": [
    "import proveit\n",
    "context = proveit.Context('..') # the theorem's context is in the parent directory"
   ]
  },
  {
   "cell_type": "code",
   "execution_count": 2,
   "metadata": {},
   "outputs": [
    {
     "name": "stdout",
     "output_type": "stream",
     "text": [
      "Beginning proof of natsInRationals\n",
      "Recorded 'presuming' information\n"
     ]
    },
    {
     "data": {
      "text/html": [
       "<strong id=\"natsInRationals\">natsInRationals:</strong> <a class=\"ProveItLink\" href=\"../__pv_it/fcf32bf8f02dda3b33fe10a24f9fded59db1a0c10/expr.ipynb\"><img src=\"data:image/png;base64,iVBORw0KGgoAAAANSUhEUgAAADsAAAARBAMAAACRPMnQAAAAMFBMVEX///9mZmaqqqrc3NyIiIgi\n",
       "IiJUVFTMzMyYmJi6uroQEBB2dnZEREQyMjLu7u4AAAA1o4RqAAAAAXRSTlMAQObYZgAAAQxJREFU\n",
       "KM9jePvn7AOGXb8mMKACdpkz18BiJ9gTGPg+oMnypQUzvM15AGSlFrgwMCxAk+aZWMDAl34PyMo8\n",
       "x1bAEAAR7QkNDQ0HMTx4gcS5aUAiuYzvHlTadjNM9wVDIOHJAzQ9mcmhDCodDJNlTqgAkjO4gY5L\n",
       "ZtjJ4QCWZlSASXM6KAHJEqYGkDTbg3SwNCvCW1BpBZA0XwIv2OVmCJeDDZ/EbQCSZqhmB0u/QUgf\n",
       "ADuNjQEszaFwANVwhhk8II/NABLpQLwZLM3tAJfmBgeLAJB1CeTmC2DBSwjtjcBAlQDSpb+AOvkg\n",
       "0s8yH8Dl++9+YkAH1UehgQo0foIaAz6w2+iiNx5pZpmzkgwAA2pGYS22kLMAAAAASUVORK5CYII=\n",
       "\" style=\"display:inline;vertical-align:middle;\" /></a><br>(see <a class=\"ProveItLink\" href=\"../__pv_it/fcf32bf8f02dda3b33fe10a24f9fded59db1a0c10/dependencies.ipynb\">dependencies</a>)<br>"
      ],
      "text/plain": [
       "natsInRationals: Naturals subset Rationals"
      ]
     },
     "execution_count": 2,
     "metadata": {},
     "output_type": "execute_result"
    }
   ],
   "source": [
    "%proving natsInRationals presuming []"
   ]
  },
  {
   "cell_type": "code",
   "execution_count": null,
   "metadata": {},
   "outputs": [],
   "source": []
  }
 ],
 "metadata": {
  "kernelspec": {
   "display_name": "Python 3",
   "language": "python",
   "name": "python3"
  }
 },
 "nbformat": 4,
 "nbformat_minor": 0
}
