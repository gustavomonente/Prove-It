{
 "cells": [
  {
   "cell_type": "markdown",
   "metadata": {},
   "source": [
    "Proof of <a class=\"ProveItLink\" href=\"../../../../_context_.ipynb\">proveit</a>.<a class=\"ProveItLink\" href=\"../../../_context_.ipynb\">number</a>.<a class=\"ProveItLink\" href=\"../../_context_.ipynb\">sets</a>.<a class=\"ProveItLink\" href=\"../_context_.ipynb\">rational</a>.<a class=\"ProveItLink\" href=\"../_theorems_.ipynb#rationalsNonNegInRationals\">rationalsNonNegInRationals</a> theorem\n",
    "========"
   ]
  },
  {
   "cell_type": "code",
   "execution_count": 1,
   "metadata": {},
   "outputs": [],
   "source": [
    "import proveit\n",
    "context = proveit.Context('..') # the theorem's context is in the parent directory"
   ]
  },
  {
   "cell_type": "code",
   "execution_count": 2,
   "metadata": {},
   "outputs": [
    {
     "name": "stdout",
     "output_type": "stream",
     "text": [
      "Beginning proof of rationalsNonNegInRationals\n",
      "Recorded 'presuming' information\n",
      "Presuming previous theorems (applied transitively).\n"
     ]
    },
    {
     "data": {
      "text/html": [
       "<strong id=\"rationalsNonNegInRationals\">rationalsNonNegInRationals:</strong> <a class=\"ProveItLink\" href=\"../__pv_it/817de8dff755d9b263c3121060f456d59b0374770/expr.ipynb\"><img src=\"data:image/png;base64,iVBORw0KGgoAAAANSUhEUgAAAFIAAAAXBAMAAABqlwV3AAAAMFBMVEX///8QEBCqqqp2dnaYmJiI\n",
       "iIjc3NwiIiLu7u66urpUVFQyMjJERERmZmbMzMwAAAC8H5PlAAAAAXRSTlMAQObYZgAAAUBJREFU\n",
       "KM9jYEAFrKYGDAQA5zIw5cygRUglQ+46EFnJwN9AWOk5BgaOfwyMCgRVMjSfZOD7xsDuwECE0h18\n",
       "PxjYA3DKvz1zeiWEFe0ANJMxAJeCruUJHLtOABkcMQogd/JPQFMIV3DyHpDzuoGBw2YCdr/DFLA6\n",
       "bGBg4OlcwHEHbFYsLDxZjpeXlz8AxQVUAQM32wUgb8IJvgeQODK+AKbZNidAjYQpYMjiA4YKp4Ml\n",
       "mpXsMIUIBVOZgCHNF6CCpvISnAVX8BTCUGI6AwQn4PIFcBZMAQMX2HAFM1Qj2RbAmXAFPBAHL0BV\n",
       "yXEAzoQr4HQ4AAoE9MhG2I5QYAkK2LfoMWiKYMIVsFxP4NiLkX64EWkPoYDl937MJMmxagZCKVyB\n",
       "JdMCzBTGZwONTWQFzGbaV/HmM4SC3DN7J+DPOEAFAI7padStxDtWAAAAAElFTkSuQmCC\n",
       "\" style=\"display:inline;vertical-align:middle;\" /></a><br>(see <a class=\"ProveItLink\" href=\"../__pv_it/817de8dff755d9b263c3121060f456d59b0374770/dependencies.ipynb\">dependencies</a>)<br>"
      ],
      "text/plain": [
       "rationalsNonNegInRationals: RationalsNonNeg subset Rationals"
      ]
     },
     "execution_count": 2,
     "metadata": {},
     "output_type": "execute_result"
    }
   ],
   "source": [
    "%proving rationalsNonNegInRationals presuming []"
   ]
  },
  {
   "cell_type": "code",
   "execution_count": null,
   "metadata": {},
   "outputs": [],
   "source": []
  }
 ],
 "metadata": {
  "kernelspec": {
   "display_name": "Python 3",
   "language": "python",
   "name": "python3"
  }
 },
 "nbformat": 4,
 "nbformat_minor": 0
}
