{
 "cells": [
  {
   "cell_type": "markdown",
   "metadata": {},
   "source": [
    "Proof of <a class=\"ProveItLink\" href=\"../../../../_context_.ipynb\">proveit</a>.<a class=\"ProveItLink\" href=\"../../../_context_.ipynb\">number</a>.<a class=\"ProveItLink\" href=\"../../_context_.ipynb\">sets</a>.<a class=\"ProveItLink\" href=\"../_context_.ipynb\">rational</a>.<a class=\"ProveItLink\" href=\"../_theorems_.ipynb#natsInRationalsNonNeg\">natsInRationalsNonNeg</a> theorem\n",
    "========"
   ]
  },
  {
   "cell_type": "code",
   "execution_count": 1,
   "metadata": {},
   "outputs": [],
   "source": [
    "import proveit\n",
    "context = proveit.Context('..') # the theorem's context is in the parent directory"
   ]
  },
  {
   "cell_type": "code",
   "execution_count": 2,
   "metadata": {},
   "outputs": [
    {
     "name": "stdout",
     "output_type": "stream",
     "text": [
      "Beginning proof of natsInRationalsNonNeg\n",
      "Recorded 'presuming' information\n",
      "Presuming previous theorem (applied transitively).\n"
     ]
    },
    {
     "data": {
      "text/html": [
       "<strong id=\"natsInRationalsNonNeg\">natsInRationalsNonNeg:</strong> <a class=\"ProveItLink\" href=\"../__pv_it/5e30f3ecb2a2cabaf730ae79db5f571a410931a00/expr.ipynb\"><img src=\"data:image/png;base64,iVBORw0KGgoAAAANSUhEUgAAAFAAAAAXBAMAAABuYtVKAAAAMFBMVEX///9mZmaqqqrc3NyIiIgi\n",
       "IiJUVFTMzMyYmJi6uroQEBB2dnZEREQyMjLu7u4AAAA1o4RqAAAAAXRSTlMAQObYZgAAAW1JREFU\n",
       "KM9jYCAGeHsTUjHNAERybGBKIKCQWawASLJOYPhHyEhmGaDK9wUMiwg6j2/PBIZ6A4YIwh7h2/ug\n",
       "/gFDCMPbP2cfMOz6NQFNml3mzDWIGMsNkIlLGBhOsCcw8H1ANyYtmOFtzgMg68khsBt/MjCkFrgw\n",
       "MCxAU8gzsYCBL/0eA8Prk3BfZ55jK2AIgMj3hIaGhoMYHrxA4tw0hocnwbYLgMIxuYzvHlSh7WaY\n",
       "iRcMgYQnz4NyaMxsBBLJTA5lUIXB8NBLqACSM7hRvJjMsJPDAayQUQEmxumgBCRLmBpQFbI9SAcr\n",
       "ZEUEDlShgs4ZIHgAU8iXwAv2tRlCN9jqSdwGqCYyVLODFb5BCB4Ae4aNAU0hh8IBVKsZZvCAgmcG\n",
       "isJ0IN4MVsjtABfkBge4AIrCSyD/XoAzoaARGIUSKOpKfwFN44MofJb5AC7ef/cTniRVfRQahUDL\n",
       "J6gxEAd2G130Jkohs8xZSSQuAEEPZIXQ+pNQAAAAAElFTkSuQmCC\n",
       "\" style=\"display:inline;vertical-align:middle;\" /></a><br>(see <a class=\"ProveItLink\" href=\"../__pv_it/5e30f3ecb2a2cabaf730ae79db5f571a410931a00/dependencies.ipynb\">dependencies</a>)<br>"
      ],
      "text/plain": [
       "natsInRationalsNonNeg: Naturals subset RationalsNonNeg"
      ]
     },
     "execution_count": 2,
     "metadata": {},
     "output_type": "execute_result"
    }
   ],
   "source": [
    "%proving natsInRationalsNonNeg presuming []"
   ]
  },
  {
   "cell_type": "code",
   "execution_count": null,
   "metadata": {},
   "outputs": [],
   "source": []
  }
 ],
 "metadata": {
  "kernelspec": {
   "display_name": "Python 3",
   "language": "python",
   "name": "python3"
  }
 },
 "nbformat": 4,
 "nbformat_minor": 0
}
