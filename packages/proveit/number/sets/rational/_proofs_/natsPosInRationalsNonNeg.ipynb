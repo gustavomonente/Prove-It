{
 "cells": [
  {
   "cell_type": "markdown",
   "metadata": {},
   "source": [
    "Proof of <a class=\"ProveItLink\" href=\"../../../../_context_.ipynb\">proveit</a>.<a class=\"ProveItLink\" href=\"../../../_context_.ipynb\">number</a>.<a class=\"ProveItLink\" href=\"../../_context_.ipynb\">sets</a>.<a class=\"ProveItLink\" href=\"../_context_.ipynb\">rational</a>.<a class=\"ProveItLink\" href=\"../_theorems_.ipynb#natsPosInRationalsNonNeg\">natsPosInRationalsNonNeg</a> theorem\n",
    "========"
   ]
  },
  {
   "cell_type": "code",
   "execution_count": 1,
   "metadata": {},
   "outputs": [],
   "source": [
    "import proveit\n",
    "context = proveit.Context('..') # the theorem's context is in the parent directory"
   ]
  },
  {
   "cell_type": "code",
   "execution_count": 2,
   "metadata": {},
   "outputs": [
    {
     "name": "stdout",
     "output_type": "stream",
     "text": [
      "Beginning proof of natsPosInRationalsNonNeg\n",
      "Recorded 'presuming' information\n",
      "Presuming previous theorems (applied transitively).\n"
     ]
    },
    {
     "data": {
      "text/html": [
       "<strong id=\"natsPosInRationalsNonNeg\">natsPosInRationalsNonNeg:</strong> <a class=\"ProveItLink\" href=\"../__pv_it/4210640cac2d71004b3b3e44b3b79539b3e3da710/expr.ipynb\"><img src=\"data:image/png;base64,iVBORw0KGgoAAAANSUhEUgAAAF4AAAAXBAMAAABwq+X5AAAAMFBMVEX///9mZmaqqqrc3NyIiIgi\n",
       "IiJUVFTMzMyYmJi6uroQEBB2dnZEREQyMjLu7u4AAAA1o4RqAAAAAXRSTlMAQObYZgAAAYZJREFU\n",
       "OMtjYCABeHsTqXCaAYjk2MCUgCTIhls9s1gBkGSdwPAPSZAHjwXMMkAN7wsYFhGpnoFvzwSGegOG\n",
       "CGLVM/DtfVD/gCGE4e2fsw8Ydv2agF09u8yZaxPALJYbIPOXMDCcYE9g4PvAkHv31t27DeiGpgUz\n",
       "vM15AGQ9OQR2/08GhtQCFwaGBdjdwzOxgIEv/R4Dw+uT8PDJPMdWwBCAor4nNDQ0HMTw4AUS56Yx\n",
       "PDwJdpIAKPyTy/juoaq33QxjXTAEEp48D8qh8bsRSCQzOZShqg+Gh3pCBZCcwT0B2Y3JDDs5HJDV\n",
       "MyrApDgdlIBkCVMDqnq2B+kg9cxQAVZEaELVK+icAYIHMPV8CbwLkAwwQzDB7pnEbYBqPkM1O7L6\n",
       "NwjmAbB/URMiUD2HwgEkAYR7GGaA/HRuBor6dCDejKye2wHBBMeXAIr6S6AguYAuAgWNwPQggaK8\n",
       "9BfQbD4U9c8yH8DZ/Xc/Ec5+1Ueh6QHooglqDCSB3UYXvUlRzyxzVhKJCwCfNGlY6CvOpAAAAABJ\n",
       "RU5ErkJggg==\n",
       "\" style=\"display:inline;vertical-align:middle;\" /></a><br>(see <a class=\"ProveItLink\" href=\"../__pv_it/4210640cac2d71004b3b3e44b3b79539b3e3da710/dependencies.ipynb\">dependencies</a>)<br>"
      ],
      "text/plain": [
       "natsPosInRationalsNonNeg: NaturalsPos subset RationalsNonNeg"
      ]
     },
     "execution_count": 2,
     "metadata": {},
     "output_type": "execute_result"
    }
   ],
   "source": [
    "%proving natsPosInRationalsNonNeg presuming []"
   ]
  },
  {
   "cell_type": "code",
   "execution_count": null,
   "metadata": {},
   "outputs": [],
   "source": []
  }
 ],
 "metadata": {
  "kernelspec": {
   "display_name": "Python 3",
   "language": "python",
   "name": "python3"
  }
 },
 "nbformat": 4,
 "nbformat_minor": 0
}
