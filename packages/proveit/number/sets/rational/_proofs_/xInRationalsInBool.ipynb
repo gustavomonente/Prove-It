{
 "cells": [
  {
   "cell_type": "markdown",
   "metadata": {},
   "source": [
    "Proof of <a class=\"ProveItLink\" href=\"../../../../_context_.ipynb\">proveit</a>.<a class=\"ProveItLink\" href=\"../../../_context_.ipynb\">number</a>.<a class=\"ProveItLink\" href=\"../../_context_.ipynb\">sets</a>.<a class=\"ProveItLink\" href=\"../_context_.ipynb\">rational</a>.<a class=\"ProveItLink\" href=\"../_theorems_.ipynb#xInRationalsInBool\">xInRationalsInBool</a> theorem\n",
    "========"
   ]
  },
  {
   "cell_type": "code",
   "execution_count": 1,
   "metadata": {},
   "outputs": [],
   "source": [
    "import proveit\n",
    "context = proveit.Context('..') # the theorem's context is in the parent directory"
   ]
  },
  {
   "cell_type": "code",
   "execution_count": 2,
   "metadata": {},
   "outputs": [
    {
     "name": "stdout",
     "output_type": "stream",
     "text": [
      "Beginning proof of xInRationalsInBool\n",
      "Recorded 'presuming' information\n",
      "Presuming previous theorems (applied transitively).\n"
     ]
    },
    {
     "data": {
      "text/html": [
       "<strong id=\"xInRationalsInBool\">xInRationalsInBool:</strong> <a class=\"ProveItLink\" href=\"../__pv_it/71ee997481ca67a1b3b20806f8c963d98ba21a0b0/expr.ipynb\"><img src=\"data:image/png;base64,iVBORw0KGgoAAAANSUhEUgAAAJsAAAAUBAMAAABoqVKyAAAAMFBMVEX///8QEBCIiIhmZma6urrM\n",
       "zMxUVFQiIiJERETc3Nzu7u6qqqp2dnaYmJgyMjIAAAAcRTyBAAAAAXRSTlMAQObYZgAAAntJREFU\n",
       "OMuNVE1oE1EQ/oy7+dls1h6E3iRY8NCTBIoXD6EeigUhWOhRgyjai9STiCJBBLeCEhDUi7iiaClS\n",
       "Ah5ERQlpDzYeXFAQwUqgKiioQRAUofab3Wz6ntlQB3bz8s3O976ZeW+AHsv4fN1Af8tW4/FHfFqy\n",
       "WFbRWT5WJTZgwr18mD9TOpo44a4OEk9ymxcCfFG9n/k4sQLuHq1any4C8//gjpmfve3DorTrkp6q\n",
       "JbeTr1ex4s6PkPKABzuv42nDT5TI0SCzB9g1xZcSYafUr3MXTp4NkvK5ffpOGdaA7iBdtka6W4Sa\n",
       "c3PX1GD5k5lWAPOc18kpQ+GJIrP9oDtIZ4+TzikCv1z3jEo3JDoYZ22fGm0IMN8JwlWTPTf8RWAB\n",
       "moN0Y5MlZsmwI8CMSndJ/Iy7jzf5IJVuH0ezLIqZfwq8h+ZIG4N/t0ryLMaeoCPrdlrqx7gmXnp7\n",
       "Bej2aX9I9wR4CM0hyS7XeSBZoxRLrNLJNptYBA9uWKFt32iySgbJ1paAg7qDdKjsI9Jmwn4KcXTA\n",
       "j/CSrIsIW1Hu0GVUdagkQ7pMa5JIY2RHSU8W5s8QGIiiDL8iB4USx3SH0JUdfiAHYob3I+EdTxX1\n",
       "VjxOtDEsQKErfFGO8QSiVhQ0de/CVuABOU18jXxyCNhx40+6HQyDUGp4bHdVrRXBdkNzOGbdXmAN\n",
       "NrMd2BJcmd9RjCRC1dah4aFwMljHxrt8q98Dio+aIxoBcKReOTmNZtvse8mM5+FdknSzZeGZ7nEE\n",
       "di9a3LRb9sYjgFVYelao94yAyBrd0fO60YzWckfSfSYkrrgrxZ4B1TH9OvzH+FQ2jLF4DRsO91wf\n",
       "6W+BNUhEtAQLSZ7kAAAAAElFTkSuQmCC\n",
       "\" style=\"display:inline;vertical-align:middle;\" /></a><br>(see <a class=\"ProveItLink\" href=\"../__pv_it/71ee997481ca67a1b3b20806f8c963d98ba21a0b0/dependencies.ipynb\">dependencies</a>)<br>"
      ],
      "text/plain": [
       "xInRationalsInBool: forall_{x} ((x in Rationals) in BOOLEANS)"
      ]
     },
     "execution_count": 2,
     "metadata": {},
     "output_type": "execute_result"
    }
   ],
   "source": [
    "%proving xInRationalsInBool presuming []"
   ]
  },
  {
   "cell_type": "code",
   "execution_count": null,
   "metadata": {},
   "outputs": [],
   "source": []
  }
 ],
 "metadata": {
  "kernelspec": {
   "display_name": "Python 3",
   "language": "python",
   "name": "python3"
  }
 },
 "nbformat": 4,
 "nbformat_minor": 0
}
