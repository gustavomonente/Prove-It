{
 "cells": [
  {
   "cell_type": "markdown",
   "metadata": {},
   "source": [
    "Proof of <a class=\"ProveItLink\" href=\"../../../../_context_.ipynb\">proveit</a>.<a class=\"ProveItLink\" href=\"../../../_context_.ipynb\">number</a>.<a class=\"ProveItLink\" href=\"../../_context_.ipynb\">sets</a>.<a class=\"ProveItLink\" href=\"../_context_.ipynb\">rational</a>.<a class=\"ProveItLink\" href=\"../_theorems_.ipynb#rationalsPosInRationals\">rationalsPosInRationals</a> theorem\n",
    "========"
   ]
  },
  {
   "cell_type": "code",
   "execution_count": 1,
   "metadata": {},
   "outputs": [],
   "source": [
    "import proveit\n",
    "context = proveit.Context('..') # the theorem's context is in the parent directory"
   ]
  },
  {
   "cell_type": "code",
   "execution_count": 2,
   "metadata": {},
   "outputs": [
    {
     "name": "stdout",
     "output_type": "stream",
     "text": [
      "Beginning proof of rationalsPosInRationals\n",
      "Recorded 'presuming' information\n",
      "Presuming previous theorems (applied transitively).\n"
     ]
    },
    {
     "data": {
      "text/html": [
       "<strong id=\"rationalsPosInRationals\">rationalsPosInRationals:</strong> <a class=\"ProveItLink\" href=\"../__pv_it/ca5b0399a8d4522d1b3cea14be2833296e08410d0/expr.ipynb\"><img src=\"data:image/png;base64,iVBORw0KGgoAAAANSUhEUgAAAEkAAAAWBAMAAAB+hazNAAAAMFBMVEX///8QEBCqqqp2dnaYmJiI\n",
       "iIjc3NwiIiLu7u66urpUVFQyMjJERERmZmbMzMwAAAC8H5PlAAAAAXRSTlMAQObYZgAAAT9JREFU\n",
       "KM9jYCAVLCBK1QF6qXp75vRKXKr47pzZNQHE6FqewLHrBAPX7t3Su7egKeJYVcbQvaYByDp5D6jy\n",
       "dQNWs3jmPmDgWLeDgYHVYQOQ17kAWRXL8fLy8gdARgg3kDgxi4GBm+0CUOmEE0iq2DYnQFkbcoFE\n",
       "JE8DQxafAwMDp4Mlkip2mCK2BU+A5BTmCQxTmRSAXglQQVJ1CWYzZ4ASkHzK5ADEYFUgLsyIAng4\n",
       "QFUpMHCBbVQwQ3iMDRGfYBsnMScw8EBcjxTTHIgQOQB2PRfI4QdAIeGAFEpwGxmm8IBCYgqQsASF\n",
       "6lvksDSFs5jBoXoBFITXEzj2IhvFwK0AZ/oCY+gKJKR/71dAi70ZcLb/7k9QliUTWirls4HGENDO\n",
       "CVow2820rxrgSlfGSXuDIazcM3sn4FLFduf0TQYATw9doPM/tfUAAAAASUVORK5CYII=\n",
       "\" style=\"display:inline;vertical-align:middle;\" /></a><br>(see <a class=\"ProveItLink\" href=\"../__pv_it/ca5b0399a8d4522d1b3cea14be2833296e08410d0/dependencies.ipynb\">dependencies</a>)<br>"
      ],
      "text/plain": [
       "rationalsPosInRationals: RationalsPos subset Rationals"
      ]
     },
     "execution_count": 2,
     "metadata": {},
     "output_type": "execute_result"
    }
   ],
   "source": [
    "%proving rationalsPosInRationals presuming []"
   ]
  },
  {
   "cell_type": "code",
   "execution_count": null,
   "metadata": {},
   "outputs": [],
   "source": []
  }
 ],
 "metadata": {
  "kernelspec": {
   "display_name": "Python 3",
   "language": "python",
   "name": "python3"
  }
 },
 "nbformat": 4,
 "nbformat_minor": 0
}
