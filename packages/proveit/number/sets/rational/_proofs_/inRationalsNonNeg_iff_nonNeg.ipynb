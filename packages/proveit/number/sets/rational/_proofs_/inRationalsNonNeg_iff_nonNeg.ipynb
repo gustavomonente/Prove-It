{
 "cells": [
  {
   "cell_type": "markdown",
   "metadata": {},
   "source": [
    "Proof of <a class=\"ProveItLink\" href=\"../../../../_context_.ipynb\">proveit</a>.<a class=\"ProveItLink\" href=\"../../../_context_.ipynb\">number</a>.<a class=\"ProveItLink\" href=\"../../_context_.ipynb\">sets</a>.<a class=\"ProveItLink\" href=\"../_context_.ipynb\">rational</a>.<a class=\"ProveItLink\" href=\"../_theorems_.ipynb#inRationalsNonNeg_iff_nonNeg\">inRationalsNonNeg_iff_nonNeg</a> theorem\n",
    "========"
   ]
  },
  {
   "cell_type": "code",
   "execution_count": 1,
   "metadata": {},
   "outputs": [],
   "source": [
    "import proveit\n",
    "context = proveit.Context('..') # the theorem's context is in the parent directory"
   ]
  },
  {
   "cell_type": "code",
   "execution_count": 2,
   "metadata": {},
   "outputs": [
    {
     "name": "stdout",
     "output_type": "stream",
     "text": [
      "Beginning proof of inRationalsNonNeg_iff_nonNeg\n",
      "Recorded 'presuming' information\n",
      "Presuming previous theorems (applied transitively).\n"
     ]
    },
    {
     "data": {
      "text/html": [
       "<strong id=\"inRationalsNonNeg_iff_nonNeg\">inRationalsNonNeg_iff_nonNeg:</strong> <a class=\"ProveItLink\" href=\"../__pv_it/13278962ba67859f3c4bb38428c276cfe4cc51e40/expr.ipynb\"><img src=\"data:image/png;base64,iVBORw0KGgoAAAANSUhEUgAAAQMAAAAcBAMAAACXCMcCAAAAMFBMVEX///8QEBCIiIhmZma6urrM\n",
       "zMxUVFQiIiJERETc3Nzu7u6qqqp2dnaYmJgyMjIAAAAcRTyBAAAAAXRSTlMAQObYZgAABEdJREFU\n",
       "SMfFVm+IVFUUP/Nm3szOnfd254PQp+T5hxB1ddhI/SAyaRDUh6bM+uYOUqglIW21H3aNRdaaXdEe\n",
       "LGz7RRwxKpbYGciKJZVFDTQVn5+MshpaW0lBJQp0FfGee++5897ue42Ohgf2N3ffO7/7fvfcc869\n",
       "AI/CjGMT8LgssVX8XIRv/7dPvKohwobeRHwP2spGU+Fr6GEWCaI17AJg/0Ksmig2E8WGpNYyQbR9\n",
       "1Q/mLUh5cLaZMDQkdWj4Lw1XzGlIOZAKlZr2ongZlwOSavjfr+FO6WmC2ba+tPcNOVrm8SjEHDBy\n",
       "YX5fhrKt9h8AMJWRdBqfXAmXYOUIZtnnm102NcgHbFEVc6EtD+kbYY5/6RHrqofpKnzhwhgukJNG\n",
       "8LcvXEKsSjDL+p/hMjaWgZ3Mq4oA6Anxs30LyEy59DQLVg0sBwQJk82qhkvYXybQM37c/aEoJo9v\n",
       "YMtnRbYKFcAC0RdWURLzv9fUOOX683+qIActRchMA8tKkv3j6OinEQlzXgMV6U6lpzXNV2fkB005\n",
       "p3EGFztPebXjR9THglObJaEY2oqQuA1wSZFulkq9ERLWEKTPLl6I4zGKyLDJEz3hnQi4vyTfmrit\n",
       "TKXXAh8bh++IgFdykPgb4Lgi8fY2ECGhRPCsmxS5tpXerM3wqUznSMC9U6785Se6uc2Vevb42ELD\n",
       "StyZ/RNgcgm/KdI6YDV/lW9bobdvSgF7EpLCR6ftK1LC95kSt0FKHRFl4y0Zi93ip8fHFsnUJTxz\n",
       "YN4B+E6RUjy3VNUcftpLPwXWL+TfpSB+A2J4FJpzr3HDh0mxEdVTgShUUAL7gBJR6J1TZwt9vWXf\n",
       "RnQqkuWl1PufxkfB2AdsCYVhUkGsT66wXrwtMh2DHV5GYVh+jm0DJYHYGOJ3gdIxc1tKwFfpGhbQ\n",
       "wfkvJjCrN4wDONRTP1JQceB38SCry8vrw6IMNt9OKf0Chura5QJthGbD0A5aQR/YvOk+T6QB3mjZ\n",
       "++YtLGf4mc/qOMpzi4JKFfZC8Lg4ga1pPYRVhOhGTHXFPT728FUItCaRjoL09Xa+XzkzexBfLkYJ\n",
       "tHPzFLQ69h25v7qH2StdNumFtBFueHbElefxOpv111174ACP0moitTnYhY3i6zy5nW/GfRKEQg5s\n",
       "05J/5AZveUFruHt9Zk+l7oi9f0SNeaw121938/Gq8yeRbP6hitviJMXxw9OxneaO5QlsVdiJk7JB\n",
       "41ZkZl43/qDa53+j/gZthx5gwLb7SBBzOwsWJpCxAqxF9DQ+QZCszT5GTx3tCFxa2XTUMRXCFjM4\n",
       "flJi0zkA0UyW936iV2dmCWIhN+Sh0mQ+8LXQS9iAZrPL2DW7C/rV2AwSz06D5wLA4HP1h28rsK53\n",
       "Nb6DpQoRV5Yo9sAM0moajOwbd/06JdyHXYQHu7jZbpAUv0ty2NIOfUPI5AgaW9S952FJhzQ0tHi5\n",
       "CQlNkR693QN25TO/yK8NIAAAAABJRU5ErkJggg==\n",
       "\" style=\"display:inline;vertical-align:middle;\" /></a><br>(see <a class=\"ProveItLink\" href=\"../__pv_it/13278962ba67859f3c4bb38428c276cfe4cc51e40/dependencies.ipynb\">dependencies</a>)<br>"
      ],
      "text/plain": [
       "inRationalsNonNeg_iff_nonNeg: forall_{q in Rationals} ((q in RationalsNonNeg) <=> (q >= 0))"
      ]
     },
     "execution_count": 2,
     "metadata": {},
     "output_type": "execute_result"
    }
   ],
   "source": [
    "%proving inRationalsNonNeg_iff_nonNeg presuming []"
   ]
  },
  {
   "cell_type": "code",
   "execution_count": null,
   "metadata": {},
   "outputs": [],
   "source": []
  }
 ],
 "metadata": {
  "kernelspec": {
   "display_name": "Python 3",
   "language": "python",
   "name": "python3"
  }
 },
 "nbformat": 4,
 "nbformat_minor": 0
}
