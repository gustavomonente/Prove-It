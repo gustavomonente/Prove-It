{
 "cells": [
  {
   "cell_type": "markdown",
   "metadata": {},
   "source": [
    "Axioms for context <a class=\"ProveItLink\" href=\"_context_.ipynb\">proveit.number.sets.rational</a>\n",
    "========"
   ]
  },
  {
   "cell_type": "code",
   "execution_count": null,
   "metadata": {},
   "outputs": [],
   "source": [
    "import proveit\n",
    "from proveit._common_ import a, b, q, x, y, Px\n",
    "from proveit import ExprList\n",
    "from proveit.logic import Equals, Exists, Forall, InSet, Iff, NotEquals, SetOfAll\n",
    "from proveit.number import Integers, frac, zero, Naturals, NaturalsPos, Neg\n",
    "from proveit.number import Rationals, RationalsPos, RationalsNeg, RationalsNonNeg\n",
    "from proveit.number import Add, Greater, GreaterEq, Less\n",
    "# the context is in the current directory:\n",
    "context = proveit.Context('.') # adds context root to sys.path if necessary\n",
    "from proveit._common_ import x, a, b\n",
    "from proveit.logic import Forall, InSet, Exists, Equals, NotEquals, Iff\n",
    "from proveit.number import Integers, Reals, frac, zero, NaturalsPos\n",
    "from proveit.number.sets.rational._common_ import Rationals, RationalsPos"
   ]
  },
  {
   "cell_type": "code",
   "execution_count": null,
   "metadata": {},
   "outputs": [],
   "source": [
    "%begin axioms"
   ]
  },
  {
   "cell_type": "code",
   "execution_count": null,
   "metadata": {},
   "outputs": [],
   "source": [
    "rationalsDef = Equals(\n",
    "        Rationals,\n",
    "        SetOfAll([a, b],\n",
    "                 frac(a, b),\n",
    "                 conditions=[NotEquals(b, zero)],\n",
    "                 domain=Integers\n",
    "        ))"
   ]
  },
  {
   "cell_type": "code",
   "execution_count": null,
   "metadata": {},
   "outputs": [],
   "source": [
    "rationalsPosDef = Equals(RationalsPos,\n",
    "                         SetOfAll(q, q, conditions=[Greater(q, zero)],\n",
    "                                  domain=Rationals))"
   ]
  },
  {
   "cell_type": "code",
   "execution_count": null,
   "metadata": {},
   "outputs": [],
   "source": [
    "rationalsNegDef = Equals(RationalsNeg,\n",
    "                         SetOfAll(q, q, conditions=[Less(q, zero)],\n",
    "                                  domain=Rationals))"
   ]
  },
  {
   "cell_type": "code",
   "execution_count": null,
   "metadata": {},
   "outputs": [],
   "source": [
    "rationalsNonNegDef = Equals(RationalsNonNeg,\n",
    "                            SetOfAll(q, q, conditions=[GreaterEq(q, zero)],\n",
    "                                     domain=Rationals))"
   ]
  },
  {
   "cell_type": "code",
   "execution_count": null,
   "metadata": {},
   "outputs": [],
   "source": [
    "%end axioms"
   ]
  }
 ],
 "metadata": {
  "kernelspec": {
   "display_name": "Python 3",
   "language": "python",
   "name": "python3"
  }
 },
 "nbformat": 4,
 "nbformat_minor": 0
}
