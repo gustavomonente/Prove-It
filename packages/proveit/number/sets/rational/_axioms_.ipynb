{
 "cells": [
  {
   "cell_type": "markdown",
   "metadata": {},
   "source": [
    "Axioms for context <a class=\"ProveItLink\" href=\"_context_.ipynb\">proveit.number.sets.rational</a>\n",
    "========"
   ]
  },
  {
   "cell_type": "code",
   "execution_count": 1,
   "metadata": {},
   "outputs": [],
   "source": [
    "import proveit\n",
    "# Automation is not needed when building axiom expressions:\n",
    "proveit.defaults.automation = False # This will speed things up.\n",
    "# the context is in the current directory:\n",
    "context = proveit.Context('.') # adds context root to sys.path if necessary\n",
    "from proveit._common_ import x, a, b\n",
    "from proveit.logic import Forall, InSet, Exists, Equals, NotEquals, Iff\n",
    "from proveit.number import Integers, Reals, frac, zero, NaturalsPos\n",
    "from proveit.number.sets.rational._common_ import Rationals, RationalsPos"
   ]
  },
  {
   "cell_type": "code",
   "execution_count": 2,
   "metadata": {},
   "outputs": [
    {
     "name": "stdout",
     "output_type": "stream",
     "text": [
      "Defining axioms for context 'proveit.number.sets.rational'\n",
      "Subsequent end-of-cell assignments will define axioms\n",
      "%end_axioms will finalize the definitions\n"
     ]
    }
   ],
   "source": [
    "%begin axioms"
   ]
  },
  {
   "cell_type": "code",
   "execution_count": 3,
   "metadata": {},
   "outputs": [
    {
     "data": {
      "text/html": [
       "<strong id=\"rationalsDef\">rationalsDef:</strong> <a class=\"ProveItLink\" href=\"__pv_it/21612e11d61fb9739f4c7c1faa11516ba83503d90/expr.ipynb\"><img src=\"data:image/png;base64,iVBORw0KGgoAAAANSUhEUgAAAZoAAAAmCAMAAADKp63rAAAAOVBMVEX///8oKCgUFBQNDQ0QEBCI\n",
       "iIhmZma6urrMzMxUVFQiIiJERETc3Nzu7u6qqqp2dnaYmJgyMjIAAAArQGDrAAAAAXRSTlMAQObY\n",
       "ZgAABnhJREFUaN7lW4uSq7gO9O7i95v//9jrJ8hgAobcnOxGVVOV8XE8drcltQQHoYfmHPqY6SmY\n",
       "Rd9l9wHQfP1M4tH0dvSRYY8+SQ36OhsFQBFLcCYB0fa7/dG7RstyH6JGfB0zowDQSSHk58or71Cz\n",
       "Gb19jRn6aWpGAdBTDH9E1t+961DTjt40ztFvUzMKAJkj/AIv4Q063fJZPY9FbFa/Tc0wAFP0Fz2z\n",
       "LrcrIc+vvOfot6kZBUDPUV+aGZKrO9TA0VumPuw0X0fNMAB6NtEnPDLLFz3uUANHbxnx6LepGQdA\n",
       "Bsid4GgtztzUo8Y9LBMmQK26LSqMGqVGVfvT1EzDd1tzjJnimALPox1q0qi/XdYqkM20HMqeRErp\n",
       "edkTV4PUEJ7tozXVCQAP+LUdatKoNUt8GzypA9nMq5Gbw0WYrj2XuTPhB6lZdMwfdhsIwAP97XvU\n",
       "xFFV77uSg2uSFShHRuItJSxTxPJtsPjfSQ15S+rDc4+aNFqdZXWfiyZWLsULkJwUwVbPwK4GUakp\n",
       "zyXyVpOWuMe/mxoh37GKWWQepCaNOqujqeErMC+u8uK7TGK9xV2VL4ZkmEOap+09qklPsq+mZibv\n",
       "WIXNpkNNHp1lNDHcbJ+XOITLHjXGXFEMApTeJTDFESvQU4dsIsWSls2jb38bNcs59wcfqXVch5o8\n",
       "ytPdlOr2kkjmT9pG0Y4RiF579ChGplwTFj6mbzooBNg0iWpTy02hxpZ/vVjwUX+qM+jx7LSBALp9\n",
       "AcD+4NYDIxcZbhRnGqXklUwyAktOOtWpWqkRGWsblrazRnSFbB+NWUuNyX8DRDOuGw8y417DJ2mJ\n",
       "JAsilpxMaLbZzk6KxQXoDT8GoHPwEeezXWrSqIDxfcXBWELCKI6lq9X4OEaiiS4XTDZksGm5Oisu\n",
       "a0AzyKq81Ao+f5FrT6ipO46iJGx4Oag3JxMaarxpw2/cQzzfrq21ArA/+BELq3VSVktNGrUu07MR\n",
       "VkbpODdR47Q7p6aNv0eCXEIZwFFLTcDCtjWQvew1y47DvpgD7Yka+A4nNNQ0YTLJlNwpnswxALuD\n",
       "31ITHWqUX3SqxYThmHzo4taFGnse0NJ2W1HVaQWF5C8X8ZyXoBByJ0CYFuxMBmiCuWcI7jjGIdCl\n",
       "YjNOUfJwQkNNnZ03ZvNQ/EPCHQOwO3iTa/hJzrZdGZBHpSpNk+DjoQwVTf8mUUMI2S+JNzLA6Fwp\n",
       "gUhBOnfJriVnWbSRAaB+1ZsmQ4caHcjLLXS4hlNmRQoLnTTk4YSGmjKbJ9n6T/hxZX2BDwHoHHyk\n",
       "3dNTaHXU1LqW1YefmgBqCOeCvkhfJXPS4OBy3nQ6RaeQdSQ3akidSFqXrM01RMxpXROvDBPtjoOW\n",
       "hT6Rur3+xYSGmjI7H92g1Wv2vcwKQPfgb6lr2kCZQy0T6dbEfYZTKOw61EyLo+aAFLuqGpO2S6q5\n",
       "pLrTffIeRGrfRsGqFneZqlDjq7TWOQOk1xzAjgPsUTMpvWZCwl9MaKgps2HPNueamR4B0D34ZaPL\n",
       "wpCaZdSB52vJdxBvApphdo+v9JcaNdTKplFTghpQo7vHMGU1rV83ahJqKsbTOHPdMTVJA9qyzFwY\n",
       "PJzQUFNm85Aj/v4rZgp3pNAgANerQTmJ7TXVHWrc5s+pOeQvlHzdsibX2L0MQHa6197MX7bKeJIL\n",
       "ubvtzXQcFW5TUhPrjgkixZVVVFgheTh5MGFPTZ1dhXPtduzrGgjAgG0r0HUVSM12bc0dDXVvmlFr\n",
       "PSOstyFQ75/oGUDscC8hKGgpPaHowUOB5AAcG5yTVt2x45xb62OFxKK3sPAbOpjQUWh1dunvZW6s\n",
       "Jb3G5J20P28S6CrgIDUvZR2ugflCp2bwUdomLqgH1Jzt2Fw6Um/35rSpCAEYSC36aBFAza2l4YEA\n",
       "s/cfQLvhB9AjHfdri/eo8WMAXI7k4uiZAKTGPHwjxn36FeRxai5emA41zvx/APBBzsGiACQKQM3T\n",
       "N2L0bL6dmotGPgaAnr3OurLyYXrUTE+Rxf4/Qs3nAMjSATzqAo63UoOfx6PPvo3+he88DwOQItXa\n",
       "NkOT61EzPX8f3fkfp2YYgFTV0CUQNm63UPOWaCTxb1MzDEASxaQKaDWpDjXt6H2w2G9TMwpAbI3p\n",
       "Gq902/wt1GjxHnWlxAffndDzSRX8B2wQAB5YkVUQStdUw8WX5Lv+d6z6pNuwYOrL/GYMAE2wXd72\n",
       "oHCVYO3o/wCNpVAfafoD7AAAAABJRU5ErkJggg==\n",
       "\" style=\"display:inline;vertical-align:middle;\" /></a><br>"
      ],
      "text/plain": [
       "rationalsDef: forall_{x in Reals} ((x in Rationals) <=> [exists_{a in Integers, b in Integers | b != 0} (x = (a / b))])"
      ]
     },
     "execution_count": 3,
     "metadata": {},
     "output_type": "execute_result"
    }
   ],
   "source": [
    "rationalsDef = Forall(x, Iff(InSet(x,Rationals), Exists((a,b), Equals(x,frac(a,b)),\n",
    "                                conditions = [NotEquals(b,zero)],domain = Integers)),\n",
    "                      domain = Reals)"
   ]
  },
  {
   "cell_type": "code",
   "execution_count": 4,
   "metadata": {},
   "outputs": [
    {
     "data": {
      "text/html": [
       "<strong id=\"rationalsPosDef\">rationalsPosDef:</strong> <a class=\"ProveItLink\" href=\"__pv_it/0ada104f28c9e49b8375f2043871113a6053eb3b0/expr.ipynb\"><img src=\"data:image/png;base64,iVBORw0KGgoAAAANSUhEUgAAAZQAAAAmBAMAAAARnnBZAAAAMFBMVEX///8QEBCIiIhmZma6urrM\n",
       "zMxUVFQiIiJERETc3Nzu7u6qqqp2dnaYmJgyMjIAAAAcRTyBAAAAAXRSTlMAQObYZgAABn9JREFU\n",
       "WMPFWX1sFEUUn/u+3Z27WiMYl5icFCsxVatVIdCaM0T8Q4sHSQEjpmeVxhglKNYCGrzUr6NEPFAE\n",
       "NOQWmrQGI3eRVCVqelL9pxJyCBpDFE6r/aOJTYM1oVeJzsfu7O65s3vpNd77Y+7d7ey8+b2veW8O\n",
       "AAf6GVRCYm1troLXQ3m7tePk4/ZaWWPtyV2oDMpVFb1+K+d3ofkOGYBV6jcDa0f3KpVB2VzJ216Z\n",
       "t6tUeBKpOc6guJ3NIs4DVYRyOMZZ9XrgSaDPPxgUjbUhf7yaUDo5v3uKIBBBn3sUBmWPo/e0p6oI\n",
       "xTfNeeBKgExMV7Rcls7H6JpRe9PhITL3UMK87WVyYIjsq8igqCyfBKqXtfazgnhYOfdQ0jyXyGTB\n",
       "Jgk//JVBUVk+eWgqHi8DCszPOZR7uAIjoRcgZs7oUM44LOYibuOJlAEFbOdAEQ4imhWUq7kR2HHj\n",
       "u4uI3aIMCmILdkd6mmTDtHV28C1NjkV1KHUcKJ7Ozs7HZnM6CX85TnHlGBTEfmvnQRfJOGytms5t\n",
       "4NiTCtg08cvEBPKutI2D+WeTCEOTzmdFgUFB7AGMP8GZuoSMC6zdakUMiBvHmVUC2TmG4nGOM/ck\n",
       "g4LYMLI9zHKmbiWGNue5H7u7iS5uCaOhdyWD4tH0gZ764nMAJZBwnCJNMyiIDY0cPbqfN/VPYmhT\n",
       "Sbj+Zm3Hb6NhUVDRoLjVaW6cyl6bAyg1jc6H6AyDgtnLyeRLvKmXWEY+Uv9OA05kohZWQvxRNLbC\n",
       "qAbFqxpvPR6OKU5QoLVEQ0tQQxKnJtg6Xq8wKJjdCMBO25lBZGgxF3ouUDBuyhv5HI1rpLwGxUcT\n",
       "jq+2G9Gz4wwKRF9f/i8Uj7VIgyUy2LxM8OkJTKNWupY1dgUQjT3Jp4sfZwencEWrH6ACi94Uiwu8\n",
       "ZRUKCjOBTp4iH/XUHuuzDlZRoawqcKGkMRQm2Jr+1qEgNkC9mwj+oinvhmAkYnLFAFpeJLZBtBrr\n",
       "hognDvYAZGJEAmUgbswYVlDWNUfd8xkUqO7dt+VrcEPcBKUda4MJNtI/mCZZMMtaXMN8gCWnE0cB\n",
       "gnI+b4ISbtQ9l+RuSgkS9n79RCNQhKfpt/6cFRSsKykxApbBpiVNy8nieL8fDreAz6DiUYabtjRl\n",
       "TVCYYJu8xKAIBVwtnryrPubFe8ZQciYHCxJFt9M2yMVWacW+1ttaWpKHdhCn7rIMe6wr6TsPDm7V\n",
       "KjXoSWjXewr4MtIILRyMCaaxMlYSzLqDEXbnEwiAsikQDQMKpUlbTyRR5UcWlpTb0BxTPQbJEamL\n",
       "1jLYWZLBUqVQ+up/B0RX0iMPR3Qo7QufQtGKaHBwbwmUDBbFBFvXNnoGI+xxJM6HO8o+AsXT+bw5\n",
       "qvCB8VD2LXCI/PQie3gWFS4thjpDPVf8uC5bXnquiF2ooyC6kmIj3+tQblLqaBk4CD/aYIZSg51D\n",
       "F1zGuaI6I3KPdclkMuKGe8+xqfM1dfcvPNJC7d3/KtPRxYkZY0pSwxPnQ1YJIShhnJsVT6NvM9WV\n",
       "FIM41lUoPeCCSLY/CHLDZigu7Ni6YMt7jCkGhbAhvDffpI92g24obWCb3U3Ga0yvP/hGt5pAYfQT\n",
       "Y8+nuR7yLVEp7VdcWXec6kqKCXniB+rad/u2JpM9CMohnH4MFxNB/r3VB9eqnlBkUEJaeZWGBQhg\n",
       "jMbKCDtyvyJjM2/FU++PNuiurdi1XplU8Lzip1YB9+lJqYiK1Ti1indNST1gc4c2apwim2b3nzs5\n",
       "AsAufESezvWx9m2IbG81N+qW7r6TffnBtot0pdpbqa5CURBSdSX0gu2hBPgG88irfyqpFW3a9Rlj\n",
       "9y9bXAS4kf3NTTRxU3+2nOqvyxaKt+PjFqqr+38DQBXrWwDWnkKehNb37ogCv1XZZB0jReP+ZJ21\n",
       "aXXjWiA7N0q5Mnr7Ul1J9GMxihULep0rDKrLDqUYlCGH4ltNsMfLgHJgNjcuJ2yf8m8ewh11Wf0i\n",
       "Q7a909B2Qn1SijpDWTYbKPZOkeE6dmZcnNb7W5nf6pZxlf6/3E7y/0VA6eiS3u3JhsbP5kojVs07\n",
       "43n8GzJScrnyDIor7xjMhWpCucA/Vrwzus/I5blPTzWhBHn1/RV8mQ+E6xgUjbWjgVgVoYhdnAdT\n",
       "4DByqIEsgzJQxtEnbKsMyuVkpILX93MOi2fAK2h8Uz2UihrrQPsq87C2tkr+oRE4PtHXgIwi0iNi\n",
       "X1uMsv8CITfSj6qLCrEAAAAASUVORK5CYII=\n",
       "\" style=\"display:inline;vertical-align:middle;\" /></a><br>"
      ],
      "text/plain": [
       "rationalsPosDef: forall_{x in Reals} ((x in RationalsPos) <=> [exists_{a in NaturalsPos, b in NaturalsPos} (x = (a / b))])"
      ]
     },
     "execution_count": 4,
     "metadata": {},
     "output_type": "execute_result"
    }
   ],
   "source": [
    "rationalsPosDef = Forall(x, Iff(InSet(x,RationalsPos), Exists((a,b), Equals(x,frac(a,b)),\n",
    "                                domain = NaturalsPos)),\n",
    "                      domain = Reals)"
   ]
  },
  {
   "cell_type": "code",
   "execution_count": 5,
   "metadata": {},
   "outputs": [
    {
     "name": "stdout",
     "output_type": "stream",
     "text": [
      "Axioms may be imported from autogenerated _axioms_.py\n"
     ]
    }
   ],
   "source": [
    "%end axioms"
   ]
  }
 ],
 "metadata": {
  "kernelspec": {
   "display_name": "Python 3",
   "language": "python",
   "name": "python3"
  }
 },
 "nbformat": 4,
 "nbformat_minor": 0
}
