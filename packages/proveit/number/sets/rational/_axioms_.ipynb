{
 "cells": [
  {
   "cell_type": "markdown",
   "metadata": {},
   "source": [
    "Axioms for context <a class=\"ProveItLink\" href=\"_context_.ipynb\">proveit.number.sets.rational</a>\n",
    "========"
   ]
  },
  {
   "cell_type": "code",
   "execution_count": null,
   "metadata": {},
   "outputs": [],
   "source": [
    "import proveit\n",
    "# Automation is not needed when building axiom expressions:\n",
    "proveit.defaults.automation = False # This will speed things up.\n",
    "# the context is in the current directory:\n",
    "context = proveit.Context('.') # adds context root to sys.path if necessary\n",
    "from proveit._common_ import x, a, b\n",
    "from proveit.logic import Forall, InSet, Exists, Equals, NotEquals, Iff\n",
    "from proveit.number import Integers, Reals, frac, zero, NaturalsPos\n",
    "from proveit.number.sets.rational._common_ import Rationals, RationalsPos"
   ]
  },
  {
   "cell_type": "code",
   "execution_count": null,
   "metadata": {},
   "outputs": [],
   "source": [
    "%begin axioms"
   ]
  },
  {
   "cell_type": "code",
   "execution_count": null,
   "metadata": {},
   "outputs": [],
   "source": [
    "rationalsDef = Forall(x,\n",
    "                      Equals(InSet(x, Rationals),\n",
    "                          Exists((a, b),\n",
    "                                 Equals(x, frac(a, b)),\n",
    "                                 conditions = [NotEquals(b, zero)],\n",
    "                                 domain = Integers)))"
   ]
  },
  {
   "cell_type": "code",
   "execution_count": null,
   "metadata": {},
   "outputs": [],
   "source": [
    "rationalsPosDef = Forall(x,\n",
    "                      Equals(InSet(x, RationalsPos),\n",
    "                          Exists((a, b),\n",
    "                                 Equals(x, frac(a, b)),\n",
    "                                 domain = NaturalsPos)))"
   ]
  },
  {
   "cell_type": "code",
   "execution_count": null,
   "metadata": {},
   "outputs": [],
   "source": [
    "rationalsNegDef = Forall(x,\n",
    "                      Equals(InSet(x, RationalsNeg),\n",
    "                          Exists((a, b),\n",
    "                                 Equals(x, Neg(frac(a, b))),\n",
    "                                 domain = NaturalsPos)))"
   ]
  },
  {
   "cell_type": "code",
   "execution_count": null,
   "metadata": {},
   "outputs": [],
   "source": [
    "rationalsNonNegDef = Forall(x,\n",
    "                      Equals(InSet(x, RationalsNonNeg),\n",
    "                          Exists((a, b),\n",
    "                                 Equals(x, frac(a, b)),\n",
    "                                 conditions = [NotEquals(b, zero)],\n",
    "                                 domain = Naturals)))"
   ]
  },
  {
   "cell_type": "code",
   "execution_count": null,
   "metadata": {},
   "outputs": [],
   "source": [
    "%end axioms"
   ]
  }
 ],
 "metadata": {
  "kernelspec": {
   "display_name": "Python 3",
   "language": "python",
   "name": "python3"
  }
 },
 "nbformat": 4,
 "nbformat_minor": 0
}
