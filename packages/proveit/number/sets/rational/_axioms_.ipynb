{
 "cells": [
  {
   "cell_type": "markdown",
   "metadata": {},
   "source": [
    "Axioms for the theory of <a class=\"ProveItLink\" href=\"_theory_.ipynb\">proveit.number.sets.rational</a>\n",
    "========"
   ]
  },
  {
   "cell_type": "code",
   "execution_count": null,
   "metadata": {},
   "outputs": [],
   "source": [
    "import proveit\n",
    "# Prepare this notebook for defining the axioms of a theory:\n",
    "%axioms_notebook # Keep this at the top following 'import proveit'.\n",
    "from proveit._common_ import a, b, q\n",
    "from proveit.logic import Equals, InSet, NotEquals, SetOfAll\n",
    "from proveit.number import Integers, frac, zero, Naturals, NaturalsPos\n",
    "from proveit.number import Rationals, RationalsPos, RationalsNeg, RationalsNonNeg\n",
    "from proveit.number import Greater, GreaterEq, Less\n",
    "from proveit._common_ import x, a, b\n",
    "from proveit.logic import Forall, InSet, Exists, Equals, NotEquals, Iff\n",
    "from proveit.number import Integers, Reals, frac, zero, NaturalsPos\n",
    "from proveit.number.sets.rational._common_ import Rationals, RationalsPos"
   ]
  },
  {
   "cell_type": "code",
   "execution_count": null,
   "metadata": {},
   "outputs": [],
   "source": [
    "%begin axioms"
   ]
  },
  {
   "cell_type": "code",
   "execution_count": null,
   "metadata": {},
   "outputs": [],
   "source": [
    "rationalsDef = Equals(\n",
    "        Rationals,\n",
    "        SetOfAll([a, b],\n",
    "                 frac(a, b),\n",
    "                 conditions=[NotEquals(b, zero)],\n",
    "                 domain=Integers\n",
    "        ))"
   ]
  },
  {
   "cell_type": "code",
   "execution_count": null,
   "metadata": {},
   "outputs": [],
   "source": [
    "rationalsPosDef = Equals(RationalsPos,\n",
    "                         SetOfAll(q, q, conditions=[Greater(q, zero)],\n",
    "                                  domain=Rationals))"
   ]
  },
  {
   "cell_type": "code",
   "execution_count": null,
   "metadata": {},
   "outputs": [],
   "source": [
    "rationalsNegDef = Equals(RationalsNeg,\n",
    "                         SetOfAll(q, q, conditions=[Less(q, zero)],\n",
    "                                  domain=Rationals))"
   ]
  },
  {
   "cell_type": "code",
   "execution_count": null,
   "metadata": {},
   "outputs": [],
   "source": [
    "rationalsNonNegDef = Equals(RationalsNonNeg,\n",
    "                            SetOfAll(q, q, conditions=[GreaterEq(q, zero)],\n",
    "                                     domain=Rationals))"
   ]
  },
  {
   "cell_type": "code",
   "execution_count": null,
   "metadata": {},
   "outputs": [],
   "source": [
    "%end axioms"
   ]
  }
 ],
 "metadata": {
  "kernelspec": {
   "display_name": "Python 3",
   "language": "python",
   "name": "python3"
  }
 },
 "nbformat": 4,
 "nbformat_minor": 0
}
