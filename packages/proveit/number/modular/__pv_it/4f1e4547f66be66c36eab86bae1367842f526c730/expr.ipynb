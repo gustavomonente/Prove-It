{
 "cells": [
  {
   "cell_type": "markdown",
   "metadata": {},
   "source": [
    "Expression of type <a class=\"ProveItLink\" href=\"../../../../../../doc/html/api/proveit.ExprTuple.html\">ExprTuple</a>\n",
    "=======================\n",
    "# from context <a class=\"ProveItLink\" href=\"../../_context_.ipynb\">proveit.number.modular</a>"
   ]
  },
  {
   "cell_type": "code",
   "execution_count": 1,
   "metadata": {},
   "outputs": [],
   "source": [
    "import proveit\n",
    "# Automation is not needed when building an expression:\n",
    "proveit.defaults.automation = False # This will speed things up.\n",
    "proveit.defaults.inline_pngs = False # Makes files smaller.\n",
    "# import Expression classes needed to build the expression\n",
    "from proveit import ExprTuple\n",
    "from proveit._common_ import N, a, b\n",
    "from proveit.logic import Equals, InSet, NotEquals\n",
    "from proveit.number import Add, Integers, Neg, one, zero"
   ]
  },
  {
   "cell_type": "code",
   "execution_count": 2,
   "metadata": {},
   "outputs": [
    {
     "data": {
      "text/html": [
       "<strong id=\"expr\">expr:</strong> <a class=\"ProveItLink\" href=\"expr.ipynb\"><img src=\"expr.png\" style=\"display:inline;vertical-align:middle;\" /></a><br>"
      ],
      "text/plain": [
       "expr: (N in Integers, a in Integers, b in Integers, (b - a) = (N - 1), N != 0)"
      ]
     },
     "execution_count": 2,
     "metadata": {},
     "output_type": "execute_result"
    }
   ],
   "source": [
    "# build up the expression from sub-expressions\n",
    "expr = ExprTuple(InSet(N, Integers), InSet(a, Integers), InSet(b, Integers), Equals(Add(b, Neg(a)), Add(N, Neg(one))), NotEquals(N, zero))"
   ]
  },
  {
   "cell_type": "code",
   "execution_count": 3,
   "metadata": {},
   "outputs": [
    {
     "name": "stdout",
     "output_type": "stream",
     "text": [
      "Passed sanity check: built 'expr' is the same as the stored Expression.\n"
     ]
    }
   ],
   "source": [
    "# check that the built expression is the same as the stored expression\n",
    "%check_expr"
   ]
  },
  {
   "cell_type": "code",
   "execution_count": 4,
   "metadata": {},
   "outputs": [
    {
     "name": "stdout",
     "output_type": "stream",
     "text": [
      "\\left(N \\in \\mathbb{Z}, a \\in \\mathbb{Z}, b \\in \\mathbb{Z}, \\left(b - a\\right) = \\left(N - 1\\right), N \\neq 0\\right)\n"
     ]
    }
   ],
   "source": [
    "# Show the LaTeX representation of the expression for convenience if you need it.\n",
    "print(expr.latex())"
   ]
  },
  {
   "cell_type": "code",
   "execution_count": 5,
   "metadata": {},
   "outputs": [
    {
     "data": {
      "text/html": [
       "<table><tr><th>&nbsp;</th><th>core type</th><th>sub-expressions</th><th>expression</th></tr>\n",
       "<tr><td>0</td><td>ExprTuple</td><td>1, 2, 3, 4, 5</td><td><a class=\"ProveItLink\" href=\"expr.ipynb\"><img src=\"expr.png\" style=\"display:inline;vertical-align:middle;\" /></a></td></tr>\n",
       "<tr><td>1</td><td>Operation</td><td>operator:&nbsp;8<br>operands:&nbsp;6<br></td><td><a class=\"ProveItLink\" href=\"../2cc78bff4f2fe542ed02dfffabeaeaffebc5add60/expr.ipynb\"><img src=\"../2cc78bff4f2fe542ed02dfffabeaeaffebc5add60/expr.png\" style=\"display:inline;vertical-align:middle;\" /></a></td></tr>\n",
       "<tr><td>2</td><td>Operation</td><td>operator:&nbsp;8<br>operands:&nbsp;7<br></td><td><a class=\"ProveItLink\" href=\"../dd75ec9d0a44092f3c205da179be98f2c31c9e150/expr.ipynb\"><img src=\"../dd75ec9d0a44092f3c205da179be98f2c31c9e150/expr.png\" style=\"display:inline;vertical-align:middle;\" /></a></td></tr>\n",
       "<tr><td>3</td><td>Operation</td><td>operator:&nbsp;8<br>operands:&nbsp;9<br></td><td><a class=\"ProveItLink\" href=\"../aa67c4540d7c3c4302bfbc66d47c318af50e5b0b0/expr.ipynb\"><img src=\"../aa67c4540d7c3c4302bfbc66d47c318af50e5b0b0/expr.png\" style=\"display:inline;vertical-align:middle;\" /></a></td></tr>\n",
       "<tr><td>4</td><td>Operation</td><td>operator:&nbsp;10<br>operands:&nbsp;11<br></td><td><a class=\"ProveItLink\" href=\"../6ff1879c46a1fed976630cbbe3b7a59eefd74c560/expr.ipynb\"><img src=\"../6ff1879c46a1fed976630cbbe3b7a59eefd74c560/expr.png\" style=\"display:inline;vertical-align:middle;\" /></a></td></tr>\n",
       "<tr><td>5</td><td>Operation</td><td>operator:&nbsp;12<br>operands:&nbsp;13<br></td><td><a class=\"ProveItLink\" href=\"../1e8acecd664fe80e6a1602647ce6c2c6213977e60/expr.ipynb\"><img src=\"../1e8acecd664fe80e6a1602647ce6c2c6213977e60/expr.png\" style=\"display:inline;vertical-align:middle;\" /></a></td></tr>\n",
       "<tr><td>6</td><td>ExprTuple</td><td>23, 14</td><td><a class=\"ProveItLink\" href=\"../d6f7a18c1963641f5e2b04b66c190403dbe1aa330/expr.ipynb\"><img src=\"../d6f7a18c1963641f5e2b04b66c190403dbe1aa330/expr.png\" style=\"display:inline;vertical-align:middle;\" /></a></td></tr>\n",
       "<tr><td>7</td><td>ExprTuple</td><td>25, 14</td><td><a class=\"ProveItLink\" href=\"../cdfe44284a59a6b9ec0827925981470710af69610/expr.ipynb\"><img src=\"../cdfe44284a59a6b9ec0827925981470710af69610/expr.png\" style=\"display:inline;vertical-align:middle;\" /></a></td></tr>\n",
       "<tr><td>8</td><td>Literal</td><td></td><td><a class=\"ProveItLink\" href=\"../../../../logic/set_theory/membership/__pv_it/7776fc89cb67d0b5b1ec2c0c8e08da5587921ccf0/expr.ipynb\"><img src=\"../../../../logic/set_theory/membership/__pv_it/7776fc89cb67d0b5b1ec2c0c8e08da5587921ccf0/expr.png\" style=\"display:inline;vertical-align:middle;\" /></a></td></tr>\n",
       "<tr><td>9</td><td>ExprTuple</td><td>21, 14</td><td><a class=\"ProveItLink\" href=\"../b66d44f1808eba8873fd402ed4c2937ac6821a310/expr.ipynb\"><img src=\"../b66d44f1808eba8873fd402ed4c2937ac6821a310/expr.png\" style=\"display:inline;vertical-align:middle;\" /></a></td></tr>\n",
       "<tr><td>10</td><td>Literal</td><td></td><td><a class=\"ProveItLink\" href=\"../../../../logic/equality/__pv_it/e16d2caa26a16688b658bdb9c422caf4b84579e10/expr.ipynb\"><img src=\"../../../../logic/equality/__pv_it/e16d2caa26a16688b658bdb9c422caf4b84579e10/expr.png\" style=\"display:inline;vertical-align:middle;\" /></a></td></tr>\n",
       "<tr><td>11</td><td>ExprTuple</td><td>15, 16</td><td><a class=\"ProveItLink\" href=\"../3f57dd73f39c94f1f0124ddce3819a5982d4d5780/expr.ipynb\"><img src=\"../3f57dd73f39c94f1f0124ddce3819a5982d4d5780/expr.png\" style=\"display:inline;vertical-align:middle;\" /></a></td></tr>\n",
       "<tr><td>12</td><td>Literal</td><td></td><td><a class=\"ProveItLink\" href=\"../../../../logic/equality/__pv_it/b2721051be811fe338d0c72369ee2d83e8be58da0/expr.ipynb\"><img src=\"../../../../logic/equality/__pv_it/b2721051be811fe338d0c72369ee2d83e8be58da0/expr.png\" style=\"display:inline;vertical-align:middle;\" /></a></td></tr>\n",
       "<tr><td>13</td><td>ExprTuple</td><td>23, 17</td><td><a class=\"ProveItLink\" href=\"../13f4b3771572db98badb9a2b1943a8dc2906eda00/expr.ipynb\"><img src=\"../13f4b3771572db98badb9a2b1943a8dc2906eda00/expr.png\" style=\"display:inline;vertical-align:middle;\" /></a></td></tr>\n",
       "<tr><td>14</td><td>Literal</td><td></td><td><a class=\"ProveItLink\" href=\"../../../sets/integer/__pv_it/4b6f17dbfe8c62b413ab248a9ec52df6403e103e0/expr.ipynb\"><img src=\"../../../sets/integer/__pv_it/4b6f17dbfe8c62b413ab248a9ec52df6403e103e0/expr.png\" style=\"display:inline;vertical-align:middle;\" /></a></td></tr>\n",
       "<tr><td>15</td><td>Operation</td><td>operator:&nbsp;19<br>operands:&nbsp;18<br></td><td><a class=\"ProveItLink\" href=\"../8aec890ec62a6428f7e2d29b4913a12f55c518990/expr.ipynb\"><img src=\"../8aec890ec62a6428f7e2d29b4913a12f55c518990/expr.png\" style=\"display:inline;vertical-align:middle;\" /></a></td></tr>\n",
       "<tr><td>16</td><td>Operation</td><td>operator:&nbsp;19<br>operands:&nbsp;20<br></td><td><a class=\"ProveItLink\" href=\"../c432f2edd605820dca3c9c9a86ad3a595ad7f8410/expr.ipynb\"><img src=\"../c432f2edd605820dca3c9c9a86ad3a595ad7f8410/expr.png\" style=\"display:inline;vertical-align:middle;\" /></a></td></tr>\n",
       "<tr><td>17</td><td>Literal</td><td></td><td><a class=\"ProveItLink\" href=\"../../../numeral/__pv_it/bcb6bc33e5975ec2290a3272bf7802d26ab8421d0/expr.ipynb\"><img src=\"../../../numeral/__pv_it/bcb6bc33e5975ec2290a3272bf7802d26ab8421d0/expr.png\" style=\"display:inline;vertical-align:middle;\" /></a></td></tr>\n",
       "<tr><td>18</td><td>ExprTuple</td><td>21, 22</td><td><a class=\"ProveItLink\" href=\"../45318560edc9145f9479e05fcf874c6ffd80ad320/expr.ipynb\"><img src=\"../45318560edc9145f9479e05fcf874c6ffd80ad320/expr.png\" style=\"display:inline;vertical-align:middle;\" /></a></td></tr>\n",
       "<tr><td>19</td><td>Literal</td><td></td><td><a class=\"ProveItLink\" href=\"../../../addition/__pv_it/65ad7e8aee19b10110d590375ba95a879c4fb7ea0/expr.ipynb\"><img src=\"../../../addition/__pv_it/65ad7e8aee19b10110d590375ba95a879c4fb7ea0/expr.png\" style=\"display:inline;vertical-align:middle;\" /></a></td></tr>\n",
       "<tr><td>20</td><td>ExprTuple</td><td>23, 24</td><td><a class=\"ProveItLink\" href=\"../906402e97a173453122666079a02d88a24406b1a0/expr.ipynb\"><img src=\"../906402e97a173453122666079a02d88a24406b1a0/expr.png\" style=\"display:inline;vertical-align:middle;\" /></a></td></tr>\n",
       "<tr><td>21</td><td>Variable</td><td></td><td><a class=\"ProveItLink\" href=\"../../../../__pv_it/53e304ff98ebc000dbe3ef224f4637dbafd46ba70/expr.ipynb\"><img src=\"../../../../__pv_it/53e304ff98ebc000dbe3ef224f4637dbafd46ba70/expr.png\" style=\"display:inline;vertical-align:middle;\" /></a></td></tr>\n",
       "<tr><td>22</td><td>Operation</td><td>operator:&nbsp;26<br>operand:&nbsp;25<br></td><td><a class=\"ProveItLink\" href=\"../9e11b44d116bb7028e93a15170006f37a2d616070/expr.ipynb\"><img src=\"../9e11b44d116bb7028e93a15170006f37a2d616070/expr.png\" style=\"display:inline;vertical-align:middle;\" /></a></td></tr>\n",
       "<tr><td>23</td><td>Variable</td><td></td><td><a class=\"ProveItLink\" href=\"../../../../__pv_it/7367403b9d2c7afd9c31b300df82e3c2dac44e280/expr.ipynb\"><img src=\"../../../../__pv_it/7367403b9d2c7afd9c31b300df82e3c2dac44e280/expr.png\" style=\"display:inline;vertical-align:middle;\" /></a></td></tr>\n",
       "<tr><td>24</td><td>Operation</td><td>operator:&nbsp;26<br>operand:&nbsp;27<br></td><td><a class=\"ProveItLink\" href=\"../01559348096b98a1dd2ebcf5c288189c829b18930/expr.ipynb\"><img src=\"../01559348096b98a1dd2ebcf5c288189c829b18930/expr.png\" style=\"display:inline;vertical-align:middle;\" /></a></td></tr>\n",
       "<tr><td>25</td><td>Variable</td><td></td><td><a class=\"ProveItLink\" href=\"../../../../__pv_it/a8d4b3a34d2189508f9082853fbac36935714f280/expr.ipynb\"><img src=\"../../../../__pv_it/a8d4b3a34d2189508f9082853fbac36935714f280/expr.png\" style=\"display:inline;vertical-align:middle;\" /></a></td></tr>\n",
       "<tr><td>26</td><td>Literal</td><td></td><td><a class=\"ProveItLink\" href=\"../../../negation/__pv_it/2867787e35502987d81a45cac8e7f1c6996d6ff40/expr.ipynb\"><img src=\"../../../negation/__pv_it/2867787e35502987d81a45cac8e7f1c6996d6ff40/expr.png\" style=\"display:inline;vertical-align:middle;\" /></a></td></tr>\n",
       "<tr><td>27</td><td>Literal</td><td></td><td><a class=\"ProveItLink\" href=\"../../../numeral/__pv_it/f086f8c372bd40a2458306ddfdbb29f3dc6f63030/expr.ipynb\"><img src=\"../../../numeral/__pv_it/f086f8c372bd40a2458306ddfdbb29f3dc6f63030/expr.png\" style=\"display:inline;vertical-align:middle;\" /></a></td></tr>\n",
       "</table>\n"
      ],
      "text/plain": [
       "0. (N in Integers, a in Integers, b in Integers, (b - a) = (N - 1), N != 0)\n",
       "   core type: ExprTuple\n",
       "   sub-expressions: 1, 2, 3, 4, 5\n",
       "1. N in Integers\n",
       "   core type: Operation\n",
       "   operator: 8\n",
       "   operands: 6\n",
       "2. a in Integers\n",
       "   core type: Operation\n",
       "   operator: 8\n",
       "   operands: 7\n",
       "3. b in Integers\n",
       "   core type: Operation\n",
       "   operator: 8\n",
       "   operands: 9\n",
       "4. (b - a) = (N - 1)\n",
       "   core type: Operation\n",
       "   operator: 10\n",
       "   operands: 11\n",
       "5. N != 0\n",
       "   core type: Operation\n",
       "   operator: 12\n",
       "   operands: 13\n",
       "6. (N, Integers)\n",
       "   core type: ExprTuple\n",
       "   sub-expressions: 23, 14\n",
       "7. (a, Integers)\n",
       "   core type: ExprTuple\n",
       "   sub-expressions: 25, 14\n",
       "8. in\n",
       "   core type: Literal\n",
       "   sub-expressions: \n",
       "9. (b, Integers)\n",
       "   core type: ExprTuple\n",
       "   sub-expressions: 21, 14\n",
       "10. =\n",
       "    core type: Literal\n",
       "    sub-expressions: \n",
       "11. (b - a, N - 1)\n",
       "    core type: ExprTuple\n",
       "    sub-expressions: 15, 16\n",
       "12. !=\n",
       "    core type: Literal\n",
       "    sub-expressions: \n",
       "13. (N, 0)\n",
       "    core type: ExprTuple\n",
       "    sub-expressions: 23, 17\n",
       "14. Integers\n",
       "    core type: Literal\n",
       "    sub-expressions: \n",
       "15. b - a\n",
       "    core type: Operation\n",
       "    operator: 19\n",
       "    operands: 18\n",
       "16. N - 1\n",
       "    core type: Operation\n",
       "    operator: 19\n",
       "    operands: 20\n",
       "17. 0\n",
       "    core type: Literal\n",
       "    sub-expressions: \n",
       "18. (b, -a)\n",
       "    core type: ExprTuple\n",
       "    sub-expressions: 21, 22\n",
       "19. +\n",
       "    core type: Literal\n",
       "    sub-expressions: \n",
       "20. (N, -1)\n",
       "    core type: ExprTuple\n",
       "    sub-expressions: 23, 24\n",
       "21. b\n",
       "    core type: Variable\n",
       "    sub-expressions: \n",
       "22. -a\n",
       "    core type: Operation\n",
       "    operator: 26\n",
       "    operand: 25\n",
       "23. N\n",
       "    core type: Variable\n",
       "    sub-expressions: \n",
       "24. -1\n",
       "    core type: Operation\n",
       "    operator: 26\n",
       "    operand: 27\n",
       "25. a\n",
       "    core type: Variable\n",
       "    sub-expressions: \n",
       "26. -\n",
       "    core type: Literal\n",
       "    sub-expressions: \n",
       "27. 1\n",
       "    core type: Literal\n",
       "    sub-expressions: "
      ]
     },
     "execution_count": 5,
     "metadata": {},
     "output_type": "execute_result"
    }
   ],
   "source": [
    "# display the expression information\n",
    "expr.exprInfo()"
   ]
  },
  {
   "cell_type": "code",
   "execution_count": null,
   "metadata": {},
   "outputs": [],
   "source": []
  }
 ],
 "metadata": {
  "kernelspec": {
   "display_name": "Python 3",
   "language": "python",
   "name": "python3"
  },
  "language_info": {
   "codemirror_mode": {
    "name": "ipython",
    "version": 3
   },
   "file_extension": ".py",
   "mimetype": "text/x-python",
   "name": "python",
   "nbconvert_exporter": "python",
   "pygments_lexer": "ipython3",
   "version": "3.7.3"
  }
 },
 "nbformat": 4,
 "nbformat_minor": 1
}
