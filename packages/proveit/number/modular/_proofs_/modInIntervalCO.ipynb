{
 "cells": [
  {
   "cell_type": "markdown",
   "metadata": {},
   "source": [
    "Proof of <a class=\"ProveItLink\" href=\"../../../_context_.ipynb\">proveit</a>.<a class=\"ProveItLink\" href=\"../../_context_.ipynb\">number</a>.<a class=\"ProveItLink\" href=\"../_context_.ipynb\">modular</a>.<a class=\"ProveItLink\" href=\"../_theorems_.ipynb#modInIntervalCO\">modInIntervalCO</a> theorem\n",
    "========"
   ]
  },
  {
   "cell_type": "code",
   "execution_count": 1,
   "metadata": {},
   "outputs": [],
   "source": [
    "import proveit\n",
    "context = proveit.Context('..') # the theorem's context is in the parent directory"
   ]
  },
  {
   "cell_type": "code",
   "execution_count": 2,
   "metadata": {},
   "outputs": [
    {
     "name": "stdout",
     "output_type": "stream",
     "text": [
      "Beginning proof of modInIntervalCO\n",
      "Recorded 'presuming' information\n",
      "Presuming previous theorems (applied transitively).\n"
     ]
    },
    {
     "data": {
      "text/html": [
       "<strong id=\"modInIntervalCO\">modInIntervalCO:</strong> <a class=\"ProveItLink\" href=\"../__pv_it/24ceb0aa9e161cef8d0cad9a600df46650c3cf0d0/expr.ipynb\"><img src=\"data:image/png;base64,iVBORw0KGgoAAAANSUhEUgAAAT0AAAAXCAMAAABOBWhLAAAAOVBMVEX///8oKCgUFBQNDQ0QEBCI\n",
       "iIhmZma6urrMzMxUVFQiIiJERETc3Nzu7u6qqqp2dnaYmJgyMjIAAAArQGDrAAAAAXRSTlMAQObY\n",
       "ZgAABHhJREFUWMPtWImO3CAMTVsg3Nf/f2yNOQKEZDLalaZVi7QLSZw3+MUX3rb/43pwc3f5Zw3t\n",
       "58V7w/B9oZ7VL1+kIfDlA7efLitcnkN75v1nyTNqXrw5bIh7h0ZkXomX9GWSHPWOLx4cSHhZ4XB2\n",
       "toqGD9tl0PPibeONva0EVngMj9gLQISRemV7FSmTGTpYXT+0Vp8lz7N58f4Y2IvVLhx9wJ4nuAor\n",
       "9ipStdEOtprcYYSfGe2zS/0t7O2x+pIh03dSEkYYSVICnT+aM3sNKV9WOJy9M2lo+eGUIefFF9lz\n",
       "B07oTZIraha2F0Umyi4Copwcee9go0pDus+yR9m80MwxSpqmPBDGKRV02ylV2QocpUUj42DNe/aC\n",
       "oJRlLlwXC8wivAOGiSyzR8/sNaTyWxUOZ4GJRj30lz2EB0LX8rh36uj8sZSfFjuBHYXY+7aiKTPQ\n",
       "GqU4+ni6CV6E2vU5NwJNJqJWvtvCKgMDKzrihviCvQOpsFfhcN7ZXWKykirBwgHq2AuBpFG/g0Ge\n",
       "cQwW8JqYwp4dF4YkFlmPpDDgRIVagjKyKAyQKsw5N0ewTIaV660N7LEM5k7sHUiFvQqX5/SPnoo9\n",
       "Yx1jcJduAOhMYyfYFwLTFkMfSTRyJjFgjB5E9nHB8LkcUJEi1E8DZbzEKLhhstKmY48FvFEIPqIe\n",
       "CXU89dwDqbBX4fLsfGZwSkxWm6QAkuNNYzfqFwITe7F3FWVwJ8kAib1lj6gm2V5GWNQvsWcLV2CM\n",
       "xeF69rBGK0mgY09f2F7JGnaRNQ6kJXs6bLz4kWFU4Kllb/5WyKkWDRulwtwITOxV+RzLiikkQqW/\n",
       "89xsNTZu1+w122MgfWIv+mbA297ZBrlgL4P7RcVyIBX2KlyZlRYlc8m0KTMc4JAcxlpKlAbT4qXA\n",
       "xF6RF5jYf8GfL78g6V3WMEiNCP0xdWJvIyVUwd6DmuNeWubYOWYNRt+tlg+kVdaAT8wKm4kCLtEG\n",
       "O3KYELJtK6U4eO1aYGKvyGdJux22R0Y1WnIpC3xPis0tbQ9TBSfJSwLGQfR31kUtAeqqgsncysgn\n",
       "ktJ9kxAhxw4PDqTCXoWrc/3VFIuowGIAbSWpAKalqd/7+MTEjcDEXpHvT/85msWxf9G8qywMFFlc\n",
       "C9qkuIhRcKsiAUpDTAkXKkLHitcw56HeIy2TQwxy1ZyHDooRam7F5MIECsZcvElphgcNqVbLfIT1\n",
       "pqilk+ekXCAGx7TcVcDkdYnkS4GJvSIvIMn9/JFSnV/n3G85qV00b6aUuDt1PqkNRZi57lAdcDPs\n",
       "BgUqhBF0cT6ENZeSgk4ZE76LVxcCK/aqfK1W6nFirve+pUtw0QR40iUYrrc79oYuwfBVBLWUoZkq\n",
       "W0tCB5HFMKh6eLI5LlwGXwgsc26Vz9VKoc+5M0XttKO+1/gedqi6F+gde0OH6vrgWcLaYNKvBG4K\n",
       "evvqIP3l7ujFUPpN9vxdb7nBvf2N7dMXVuq/Ph5/tTN/0Td80JmXF515yk+XFc6/7SCPlVqw5z/c\n",
       "PvyLBvtH9PwNGBE7VMYdE0AAAAAASUVORK5CYII=\n",
       "\" style=\"display:inline;vertical-align:middle;\" /></a><br>(see <a class=\"ProveItLink\" href=\"../__pv_it/24ceb0aa9e161cef8d0cad9a600df46650c3cf0d0/dependencies.ipynb\">dependencies</a>)<br>"
      ],
      "text/plain": [
       "modInIntervalCO: forall_{a in Reals, b in Reals | b != 0} ((a mod  b) in [0,|b|))"
      ]
     },
     "execution_count": 2,
     "metadata": {},
     "output_type": "execute_result"
    }
   ],
   "source": [
    "%proving modInIntervalCO presuming []"
   ]
  },
  {
   "cell_type": "code",
   "execution_count": null,
   "metadata": {},
   "outputs": [],
   "source": []
  }
 ],
 "metadata": {
  "kernelspec": {
   "display_name": "Python 3",
   "language": "python",
   "name": "python3"
  }
 },
 "nbformat": 4,
 "nbformat_minor": 0
}
