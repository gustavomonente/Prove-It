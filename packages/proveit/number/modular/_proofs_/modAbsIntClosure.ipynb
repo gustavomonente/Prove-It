{
 "cells": [
  {
   "cell_type": "markdown",
   "metadata": {},
   "source": [
    "Proof of <a class=\"ProveItLink\" href=\"../../../_context_.ipynb\">proveit</a>.<a class=\"ProveItLink\" href=\"../../_context_.ipynb\">number</a>.<a class=\"ProveItLink\" href=\"../_context_.ipynb\">modular</a>.<a class=\"ProveItLink\" href=\"../_theorems_.ipynb#modAbsIntClosure\">modAbsIntClosure</a> theorem\n",
    "========"
   ]
  },
  {
   "cell_type": "code",
   "execution_count": 1,
   "metadata": {},
   "outputs": [],
   "source": [
    "import proveit\n",
    "context = proveit.Context('..') # the theorem's context is in the parent directory"
   ]
  },
  {
   "cell_type": "code",
   "execution_count": 2,
   "metadata": {},
   "outputs": [
    {
     "name": "stdout",
     "output_type": "stream",
     "text": [
      "Beginning proof of modAbsIntClosure\n",
      "Recorded 'presuming' information\n",
      "Presuming previous theorems (applied transitively).\n"
     ]
    },
    {
     "data": {
      "text/html": [
       "<strong id=\"modAbsIntClosure\">modAbsIntClosure:</strong> <a class=\"ProveItLink\" href=\"../__pv_it/df57b32e0cefce156af9817c8dc60f0bf0ae25040/expr.ipynb\"><img src=\"data:image/png;base64,iVBORw0KGgoAAAANSUhEUgAAAPwAAAAXCAMAAAAY9tIUAAAAOVBMVEX///8oKCgUFBQNDQ0QEBCI\n",
       "iIhmZma6urrMzMxUVFQiIiJERETc3Nzu7u6qqqp2dnaYmJgyMjIAAAArQGDrAAAAAXRSTlMAQObY\n",
       "ZgAAA4pJREFUWMPdWIly3CAMpS3C3Nf/f2wRxwI2PpIms22ZZGfWK2M9Se9JmJC/a3Fzd+H/XNqn\n",
       "D7ftrh4ufM2yGj/D67v3b8VuFPlW8JukkYZAZaAIVCB6Z9uv4b0FFvT3ggfFeEl2jrLBrGvVqk69\n",
       "Fbtn5HvBM0dKruuODoaE9xJ4y5L6i8F7JdPqrGaIUwvCWaUZRSNncGn5XrWT5EvBcwUrFiuDf5Vn\n",
       "uHNUuKR7K3hgE1bNHANqPg3erAXMwyDrDh8peI6JfiiaIdyanFtnl8DBIdLKj+A3mrwJ8fOZF/qk\n",
       "oZiubB5d21gTv/U+VDmmGJsCdmVARuWcrbPe+oTcij3l7QDe5GbE1OfBr8U7pXmIis1Mww84NHlj\n",
       "HWO+KJEznUHB3hhMTw6jjOoMWWau7cqSbgN4ln+V8AC80av65qmh1zVWJCPbUHK8VJYvAdiJpdUG\n",
       "N07ec697bKK+MZjARz3LTXI3YvqpvQBP1cvuDjxEu+DXum23Fp9S1cHrQHgtQ8NABN648KpW4oZ4\n",
       "AQhzYTCBb9bFQVcuYTykPy97E9HQxkdq30pr5hddWPYWT+vIV7zVolw1kifnzDT1phxry3uopcnS\n",
       "fGowga/WIjeUX+nf1/1LTa8Fz+RsipAH8Dvwyi74RRgcm6motCOMdsFLQWa16lG1uMwVMNAKxrwq\n",
       "yLedG0zgq3UJhCU983TnnRtbXb5LirzrU/BRLyvp2OKN8GoY+dKd1RVkImB4uMy5Qi+SC8iRJixI\n",
       "TiYuDCbw1bofXBqX47Y/doxqLwC4FrDVCzpQjvTxXuXbACDTFpyHYI/8yluobZLCjapAk8PpdKNK\n",
       "oEOtVm+qXxoLEGWst6LN8nzWrJHFosUYnRpM4Ku1SLL78weKrz9R++vxViMRgqrtCZNtZE1dVc7G\n",
       "xgGtU9N4e+gTe41PswWPW4bCu5ixmhmNZZMekstmZXAE36xbm2vD3KHPXx9sDMZKOOxhTaXT+FrE\n",
       "yR749Wy5vSxsAiwwP3LJCyGcC4mB6cnY1dI3cmKwUPtm3UdqrNbDoPQaMc/AowJCAe+zXgm2xUHo\n",
       "Bn49HYCvz7+V0uP7jzuD0/HK3h4drl5mTOBb5vWY+cbG5zOgJh9b9tkNaj1gPHqNBXyfA54538DH\n",
       "WnM6nXrwgqZ+x6+HB96PYicP33MtnPB/9LLAqChStUurVUTCuMSb/BYqqb0s+e78evNi/8or099/\n",
       "0ivkC1SoywAAAABJRU5ErkJggg==\n",
       "\" style=\"display:inline;vertical-align:middle;\" /></a><br>(see <a class=\"ProveItLink\" href=\"../__pv_it/df57b32e0cefce156af9817c8dc60f0bf0ae25040/dependencies.ipynb\">dependencies</a>)<br>"
      ],
      "text/plain": [
       "modAbsIntClosure: forall_{a in Integers, b in Integers | b != 0} (|a|_{mod b} in Integers)"
      ]
     },
     "execution_count": 2,
     "metadata": {},
     "output_type": "execute_result"
    }
   ],
   "source": [
    "%proving modAbsIntClosure presuming []"
   ]
  },
  {
   "cell_type": "code",
   "execution_count": null,
   "metadata": {},
   "outputs": [],
   "source": []
  }
 ],
 "metadata": {
  "kernelspec": {
   "display_name": "Python 3",
   "language": "python",
   "name": "python3"
  }
 },
 "nbformat": 4,
 "nbformat_minor": 0
}
