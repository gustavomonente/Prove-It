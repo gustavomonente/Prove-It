{
 "cells": [
  {
   "cell_type": "markdown",
   "metadata": {},
   "source": [
    "Proof of <a class=\"ProveItLink\" href=\"../../../_context_.ipynb\">proveit</a>.<a class=\"ProveItLink\" href=\"../../_context_.ipynb\">number</a>.<a class=\"ProveItLink\" href=\"../_context_.ipynb\">modular</a>.<a class=\"ProveItLink\" href=\"../_theorems_.ipynb#fullModularRangeEquivLeftShift\">fullModularRangeEquivLeftShift</a> theorem\n",
    "========"
   ]
  },
  {
   "cell_type": "code",
   "execution_count": 1,
   "metadata": {},
   "outputs": [],
   "source": [
    "import proveit\n",
    "context = proveit.Context('..') # the theorem's context is in the parent directory"
   ]
  },
  {
   "cell_type": "code",
   "execution_count": 2,
   "metadata": {},
   "outputs": [
    {
     "name": "stdout",
     "output_type": "stream",
     "text": [
      "Beginning proof of fullModularRangeEquivLeftShift\n",
      "Recorded 'presuming' information\n",
      "Presuming previous theorems (applied transitively).\n"
     ]
    },
    {
     "data": {
      "text/html": [
       "<strong id=\"fullModularRangeEquivLeftShift\">fullModularRangeEquivLeftShift:</strong> <a class=\"ProveItLink\" href=\"../__pv_it/49ecb73cfff47f394de8d945411ddbb0d4b7123f0/expr.ipynb\"><img src=\"data:image/png;base64,iVBORw0KGgoAAAANSUhEUgAAAsoAAAAmCAMAAADqUU2iAAAAOVBMVEX///8oKCgUFBQNDQ0QEBCI\n",
       "iIhmZma6urrMzMxUVFQiIiJERETc3Nzu7u6qqqp2dnaYmJgyMjIAAAArQGDrAAAAAXRSTlMAQObY\n",
       "ZgAACJZJREFUeNrtXOl6hKgWdGZkF0He/2Evu4CI2LG7k/vBj6TTOSBLUdQ5gNM00kNJytEHX0ic\n",
       "jD54OIFt9MFXEhod/3CHznx0wpdIZPDyo8vcjEcnfCttQ9o9mMhghu+lZayIzyWsltEJg0j+L5a4\n",
       "0ZffZZJBy0+tcIOUv0wlYPTBMwlm8SAJf5UbgiH4LGd9pP15q+Q8QPhMmhNS4JuIZH1/SNf79M4x\n",
       "uoAq+mR4JWn/e1PaqkUhTc07skdI42V9kUBFqjio7BUP5jaW182MY5IAU+6blaqZ8MOq8WZODu0X\n",
       "QIrOKXSs8d21cNbzR6xRbwzp/NPRsyNIY4e+IqD59sJMQsU3TLFsTPc6vT+FZ20aWJz2dkFZ48bM\n",
       "jZG3tFVEd9sSqGNhA5OvSmVag7KEp6PRclLEfQ+mhDJamfdDxfQtKDv1Kjon5qHGZxOdCKJqUAYq\n",
       "mQY7PY90M1FWg/I5IzWhzOcfQ1lwpKBDyNegzGx4cu2Mkh1q3FoCa1BezUyQgpu00AHJV5OCFSg3\n",
       "OrQJ5WlDP4Wyrg5VDiFfg7KyUEaqjyAPNb4LZWwfpJhJVAxIvgxlUIEygLtkAAC3oMwBIAsCXlqI\n",
       "TJjgbYZY/x9MCABmMct1gcKhlwv9GVegLJV0H1yR86ehzD3JKtAL5bzGXVBOWsVtbmK7mf2BIP9F\n",
       "FfFr2S5yd3hqKo39EC8PmQzsrPmCbQ0oc80ikoKJOiO5lfIFGNcOIC9AsVUu5kstRgwXiQLKdpFW\n",
       "NBGemV/6EGK3JMFD+xclHFl2QflY4x4oZ62yD0IwcZy1/DZDgOj8Q5ZG2wMBoHyIxEWpa31lFlft\n",
       "wuyYu2pv+1CTpygjCDJ1sP2coH5ptcsdWRtQNouq0AOE3JxbCzXALPlYD98e9aAeJDjMkDKCYRdp\n",
       "g28Uv9/gp+jGt39xrIxVF4wqNe6ActYq9yDTdSCMhmS2J/MVcSIzE5DBVoeUJgJeGFyWoIcq+/dS\n",
       "KzVbpmr86wO19XaZ3oY+AJHnrthD81nqLlvzExd4F4SYRWdvdqMCM8fHcRmd7S+SzBDGkuIKKG9x\n",
       "qEwAOzxNf8Hd+PECytBhiaUUR+hHtnZj++8JjFqNNbsmCdegnLbKPU9IB2fX2W6Oe8TwVUCzDWkq\n",
       "KHh1A/TMZFunzjLODVIoY5GVWg/VVDpX1NqVcz+t5D7aL/b/1Hyb++U49W3iHpSH8sy63L5kyA9Q\n",
       "ZtHAQHn1wNUD75fvEsquxUwte+U/d9wptF/5CEaX21epcRcrk9L1XrYJk71U23XQU9O6cJNTVwjL\n",
       "6j7sqUk4YXNZRsMghYGT9O1zO5VNCYIr7apCOc99tGfcwsaUN6+nAmMiLBUYvLbCHqGMk/1CRJtQ\n",
       "jqwMdeE1KPt4FlJQTH1aGQt5LRUxWE+1Mjm239VadgXjKjW+q5VDP7OFoOhM6xIX8yuo6H0RSFUj\n",
       "BMSS/qmJZgxgtiDPy7CefdMggzJNS83JOFRml0lFtqJdJ1BOcx/tkZeoBu9U5m5fLYLh3T4P85ZW\n",
       "XrmL8Pv1qHT7CihPs1eh5tQBq2jlEM+i+9ftCMbVyfUg6kif7r2/RVKp8d0IRqCTdd+uWnVfUeh9\n",
       "oLQecll34uAU+zOipyaAchuPOjUwSzWeWwYZlF2YNpSaISlWxolYwkKSe3Q3a9cJlFMJnNq7Av+z\n",
       "BboHFcIzY94AZQ8ASOxkawTjTOyVqf3wUUlNCZQteWO7hNtDO4tVMTAXpPRIWrW4cpB15hBHGzxB\n",
       "1K3bDSjbVSleE+Nqm4pP+1e1Gp8n0IgrZ0pNONw7dwJmLJX0sHHNMG2amGCR5pdGGdYlbxjkUEYs\n",
       "KTX3GUJlglGGE3Zs1xmU09wHe7+8OlaecyjPpDKUoVQhpAQtgcEJABzAeJpry2CPiVIEr0zph4hN\n",
       "mfDFAoWAPq4MhQRY7RXgbFZhzSAtKEdZdw3RIOruQdlEv0lsCiWHT/5DvcanDiKZ1eYPkaatQoHQ\n",
       "Jc98ydkRH6aO3IAdWrMKLN7OaEV7z7VhgiwjtctollBAmSSloki8PKmM2U84wJQc25Vn30GX5s7s\n",
       "p/2Um9PKxUKYRY1/vHH9hp25WCcBILYAS2VdgOgu1Aod70XdPSi/P6VPqohy4USIKCYJWrG0br0f\n",
       "z8VoQTOpz0ysk29Adm6wTM2HFFB2wd9QaqZUY2UccEn0RmTIVrTrjJVJvR9Mgf/+4wusRDByKRr/\n",
       "OD9OxFvaVID3DbpW42SzTUhR6SGaCLV8RQ+irhPK8zegfHwq8m63Q8t+3BRamjJjvlgiXIzbIVsm\n",
       "uv2StQw2H+uqGVSg7MgqlJot77EyNuhb5bi8XSVJ+ifa3LZuB/slotwMahFXzg/N7IKPfeiQZ0fc\n",
       "1heKw0V7nu3PiVKo5WtOEHV87mnQG3YWL1pVjTbC2ZJO3C1gfiglIUSIzagbbEgREbACp1jOTLD+\n",
       "q1nGAoG0PnvFoBrB4FNSaqYhYmXg0auz2cp2Zf47pIqAmNvW7WDPdqwCcdimyXeu4y2Kl47ev+MA\n",
       "AZpRIXwTWYcZLFRjSRXIO686V08M43O3SNDJCNTdxSBjUw66afKSwRHKoCPYXmE00H92dau2z351\n",
       "MTosQ8Aa7ra9cCFKPo/k7Bac2X/BhYNFRCnUcq8viLo+Vk7a/86U3+1bX7on3HH77NKk9wYbO/2j\n",
       "Xqy8KqMjd61uV4v+H7kluSgb6BWZ7osaOAo1q7H2H1HUrb/35Wyv3fiSD5j0ztoMhugqF6/6Wajz\n",
       "YSF3xVxeMTtXf+LeAicSCeA2JNhaQjkKNWzYN/kRRN0vhvL86/sf3uLykzvynUvAj27Y/8HXeO6y\n",
       "rheivxfKYLw74EFa+MNvP/z7UJ7HywKeS/IPv+S3150jv/Wi0Xi19aOJ/eFXPS2gg9Xwr73HvMzj\n",
       "NWePUhsdL1j+Vs+PdwU8zA10cMN31sMhlB/H8qDlr5By2PP7H6+Mb44KM88cAAAAAElFTkSuQmCC\n",
       "\" style=\"display:inline;vertical-align:middle;\" /></a><br>(see <a class=\"ProveItLink\" href=\"../__pv_it/49ecb73cfff47f394de8d945411ddbb0d4b7123f0/dependencies.ipynb\">dependencies</a>)<br>"
      ],
      "text/plain": [
       "fullModularRangeEquivLeftShift: forall_{N in Integers, a in Integers, b in Integers, c in Integers | (b - a) = (N - 1), N != 0} ({(c + x) mod  N}_{x in {a...b}} = {0...N - 1})"
      ]
     },
     "execution_count": 2,
     "metadata": {},
     "output_type": "execute_result"
    }
   ],
   "source": [
    "%proving fullModularRangeEquivLeftShift presuming []"
   ]
  },
  {
   "cell_type": "code",
   "execution_count": null,
   "metadata": {},
   "outputs": [],
   "source": []
  }
 ],
 "metadata": {
  "kernelspec": {
   "display_name": "Python 3",
   "language": "python",
   "name": "python3"
  }
 },
 "nbformat": 4,
 "nbformat_minor": 0
}
