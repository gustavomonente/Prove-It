{
 "cells": [
  {
   "cell_type": "markdown",
   "metadata": {},
   "source": [
    "Proof of <a class=\"ProveItLink\" href=\"../../../_context_.ipynb\">proveit</a>.<a class=\"ProveItLink\" href=\"../../_context_.ipynb\">number</a>.<a class=\"ProveItLink\" href=\"../_context_.ipynb\">modular</a>.<a class=\"ProveItLink\" href=\"../_theorems_.ipynb#modAbsSubtractCancel\">modAbsSubtractCancel</a> theorem\n",
    "========"
   ]
  },
  {
   "cell_type": "code",
   "execution_count": 1,
   "metadata": {},
   "outputs": [],
   "source": [
    "import proveit\n",
    "context = proveit.Context('..') # the theorem's context is in the parent directory"
   ]
  },
  {
   "cell_type": "code",
   "execution_count": 2,
   "metadata": {},
   "outputs": [
    {
     "name": "stdout",
     "output_type": "stream",
     "text": [
      "Beginning proof of modAbsSubtractCancel\n",
      "Recorded 'presuming' information\n",
      "Presuming previous theorems (applied transitively).\n"
     ]
    },
    {
     "data": {
      "text/html": [
       "<strong id=\"modAbsSubtractCancel\">modAbsSubtractCancel:</strong> <a class=\"ProveItLink\" href=\"../__pv_it/9951d79437dfcc1e33f006a5eceb84dbe304f4c10/expr.ipynb\"><img src=\"data:image/png;base64,iVBORw0KGgoAAAANSUhEUgAAAdEAAAAXCAMAAABj24W0AAAAOVBMVEX///8oKCgUFBQNDQ0QEBCI\n",
       "iIhmZma6urrMzMxUVFQiIiJERETc3Nzu7u6qqqp2dnaYmJgyMjIAAAArQGDrAAAAAXRSTlMAQObY\n",
       "ZgAABa9JREFUaN7tWgmu2yAQdVuD2bf7H7bMsBhjG9tJKuVLRWoRfJi84TEbyTT9vMb09CPbJ3Hv\n",
       "ZP3UQ1Eu/meXdtT0t5tRzz9as0W/J6ni/kDbyYKJBMbXOee+nlAtW23SKPdazuK+IP6cUuPD8oqk\n",
       "Fdg/ZzSBsabM+e+3W69abbza9J4+uBr+Bf9wyOgNSQXYu4wSwS4YRTBKFsDy6wl1tNUmj2ofTG9V\n",
       "ZHDHyfOPP2T0hqQC7C1GtRXk0kYTmGKa1nw9o0K12uRR6ZegHzCq508xeimpAnuDUUWFu+F1Exhn\n",
       "NTQlvp5QtYlHZVRndwqMGJ388iFGLyVVYC8zqrg3t+JoBhMkNGG/nlGyiUdlVHrPCaFmyKiilpI5\n",
       "WYzdRF3mZ8oI4WRaCJHpultCag5m44BtGY0zhO0lHTBegL3IKJMHdybLWjXKEwiGIy55M/tbvP8E\n",
       "OwPl8MSJJbsrJl2rTRnlXocYPnRQA0aXOf7Vhxx9OzWEJJD8kCjbgeti6MwlSb4MCWkZVSJOSX8k\n",
       "qVenAnuNUSnZaa7baFSSCwCz0FHKZgSRnPr1cPoruVtwLQJwnq6mDENB3Mb7MLrJMMoo9wajVSDn\n",
       "jOoZuKeygOoODsNhgL8yOP7ks1gANIm5Ta6Lf+bmSFKvfQX2GqNEEH3CaKtRFp7AwH9kV4xqYymN\n",
       "s2SK4K2up1Nd+tmCaxEjRhXyKDAcdJrMS8toGeWeerSHZNjWQxMzduViUJRXMkYWOkaRNdyvIo0s\n",
       "J6gwkaXqhlHaYFslad+0YlkrsAtGtTopH52w+pDRVqMsPIGxLrG6FSON0rAB6XC6Ml4c2+mCaxEj\n",
       "RqXGA4DzmM0DRrHoWzYVTGejs6ySjxhFRGjjwKjJ9IHRsmT5LaNzg7+XdFSNIrALRkkw568bVB0w\n",
       "2mq0YVT5ieWLrCnheLuW6lszHbbijwmEHixIOcM0XNExmjdgZMjODhToEvax1w2uM52e0WRpphz/\n",
       "IoaMVhulsLNntPiCQ0l9hlyBXXldb0bpC2c9oxuNsvAMRiqexlqALnrzOIh0UEqrW9eYXp4uAI/J\n",
       "5pGIntG0gWPK/Sf+cxmDIA8yIzjuFFdOGYUD4z6/fvb5TMfoNNN0teCzvOzjaEgfZG5kRiuwK0al\n",
       "Gae8cukZbTRqM6MIjOZrBofOBNpqQwflXFRhkP3FbecLMFCzkYiO0bIBV5pptdG5Y9Ruqpc6Sj2P\n",
       "ZybpqB5F5IJPybyoPWUU0yE2AySPq9ScotYqj3I8JHYkqX/4rcDeYxRSjO4VsNUoCy9gClaIXIRj\n",
       "7o4WA1uigSniljaYRX0GCzKu8xUdo024rG/vGBv6in7ZvDCUUe5jvLBu+MKgY13IFCc57m6cGOMh\n",
       "cGZkmOP5+ACZbCz1LC31KLUu1qPzmn1b61wW79k44anAIm7lZyh7tXPJ4GK4sblac6R63SYKDV/q\n",
       "W43sVi2n80Eq8GKQzfCNyzSsZlvgD4GD8wUlhp+u6BjNG3jMD3//gizRneS641fAg3xi9Ar4sSey\n",
       "+5IAtwJPCV4cywywStyPplWudglbl4wevAL2YGLBGiMH+ny2CYIW0hoFeWgMo06OFuADBz1ZccRo\n",
       "3ZArl/IQtKtHL17q92etP/tS/66kFPvAXOyEnKXENHoxnXIXs4tCTxndgVk4MYS61qkbYWMw0TSW\n",
       "VQwuEePWTqMFihKXauKDFUeMNhtWCog9elyTm2/TyjOXfP5lp/YfM9H7khKj4I5IYhQfpyZOY3HT\n",
       "5Lrbok17sbZb36adl0c5CG782KMFhysG9ai5fFoefOP98GlNfYrRB5J2jFYbVa2NBnVT1n7isVqX\n",
       "P8G4/xuNIxJu3Hb8/Qlh7Wh64Vcp7mOEPpEEuFVlNGQvpuChHWZUrr3WKHQhazfxXC339oIRo+77\n",
       "v6B930fLwKOzFUbJgLlGDC4q585EJH+7RqEf1ej0v/2b9hcfqkzf3hoxiwAAAABJRU5ErkJggg==\n",
       "\" style=\"display:inline;vertical-align:middle;\" /></a><br>(see <a class=\"ProveItLink\" href=\"../__pv_it/9951d79437dfcc1e33f006a5eceb84dbe304f4c10/dependencies.ipynb\">dependencies</a>)<br>"
      ],
      "text/plain": [
       "modAbsSubtractCancel: forall_{a in Reals, b in Reals, c in Reals | c != 0} (|((b + a) mod  c) - b|_{mod c} <= |a|)"
      ]
     },
     "execution_count": 2,
     "metadata": {},
     "output_type": "execute_result"
    }
   ],
   "source": [
    "%proving modAbsSubtractCancel presuming []"
   ]
  },
  {
   "cell_type": "code",
   "execution_count": null,
   "metadata": {},
   "outputs": [],
   "source": []
  }
 ],
 "metadata": {
  "kernelspec": {
   "display_name": "Python 3",
   "language": "python",
   "name": "python3"
  }
 },
 "nbformat": 4,
 "nbformat_minor": 0
}
