{
 "cells": [
  {
   "cell_type": "markdown",
   "metadata": {},
   "source": [
    "Proof of <a class=\"ProveItLink\" href=\"../../../_context_.ipynb\">proveit</a>.<a class=\"ProveItLink\" href=\"../../_context_.ipynb\">number</a>.<a class=\"ProveItLink\" href=\"../_context_.ipynb\">modular</a>.<a class=\"ProveItLink\" href=\"../_theorems_.ipynb#fullModularRangeEquivRightShift\">fullModularRangeEquivRightShift</a> theorem\n",
    "========"
   ]
  },
  {
   "cell_type": "code",
   "execution_count": 1,
   "metadata": {},
   "outputs": [],
   "source": [
    "import proveit\n",
    "context = proveit.Context('..') # the theorem's context is in the parent directory"
   ]
  },
  {
   "cell_type": "code",
   "execution_count": 2,
   "metadata": {},
   "outputs": [
    {
     "name": "stdout",
     "output_type": "stream",
     "text": [
      "Beginning proof of fullModularRangeEquivRightShift\n",
      "Recorded 'presuming' information\n",
      "Presuming previous theorems (applied transitively).\n"
     ]
    },
    {
     "data": {
      "text/html": [
       "<strong id=\"fullModularRangeEquivRightShift\">fullModularRangeEquivRightShift:</strong> <a class=\"ProveItLink\" href=\"../__pv_it/7fe8c3f3173e67faf42f67a93b5caca33c02414c0/expr.ipynb\"><img src=\"data:image/png;base64,iVBORw0KGgoAAAANSUhEUgAAAsoAAAAmCAMAAADqUU2iAAAAOVBMVEX///8oKCgUFBQNDQ0QEBCI\n",
       "iIhmZma6urrMzMxUVFQiIiJERETc3Nzu7u6qqqp2dnaYmJgyMjIAAAArQGDrAAAAAXRSTlMAQObY\n",
       "ZgAACJpJREFUeNrtXNnapKgSdGZkB0He/2EPu4CoVP3Wdj646K62EyQhDCITdJpGuakoNcbgA0WQ\n",
       "MQY3F7COMfhIQWPgbx7QWYxB+BCJDF6+dZmb8RiET5V1SLsbCxnM8LnCx4p4X8Gaj0EYRPJ/scSN\n",
       "sfwskwxavmuFG6T8YSoBYwzuKbDIByn4VWEIhuC9nPUW/0uv1DxAeE+ZM1IQq0xk/fCULk+wu8Do\n",
       "AqronemVzP/XltwrrpGh5g3ZI6XxtL7IoKJ0mlT2RADzOJaX1c5jVgDT/spC9UzEbtV4MSdH/yVQ\n",
       "svMR2vf40bVwNs+PXJLeGNL5r7PnZpCmAX2GYtdnniRUXWGaFXO69en1Jd5rNcAStHcI6h6fPLkp\n",
       "85Z7Rcy48UgdnA1MPiuVaQvKCp5NyFGcIp8IYGooo4WFOFROn4KyV6+y88nc9fjoSSeS6BaUgc4e\n",
       "g42eR3mwUNaC8ikjHUJZzH+HshRIQ4+Qj0GZufTk0pkl2/X4bAlsQXmxT4KSwhZOBySfLRo2oHw+\n",
       "oIdQnlb0Zyib7lDtEfIxKGsHZaT7CHLX40ehjN2NNLOFygHJp6EMGlAGAd8CAMIRqITDDsoSAOCC\n",
       "JFnqErzOEJsmwIQAYA6zwthKj14hzW/cgLLSyv/wjc/vhrIIJKtBL5TLHndBOfNKuNrEjSD7gST/\n",
       "RRfxc9UuaneEajrP/ZAgD5kKYDOjT8FE1zMoc2pIhTkTte7kC7ChHUBBgGKnXOxFo0YsF8kKym6R\n",
       "1jQTnkVcehNi16zAnf9cS0+WXVDe97gHyoVX7kYIZpGzkd92ChCd/8jSaL0hAVROkbxodWkvzfLK\n",
       "L8z2tZv2bgwNv8o6g6DyADs8E3SZ4oopzegjfgZltyaSxeej6uDekY+L8N1RDxpAgiP46wyGW6Qt\n",
       "vlG6vsJ30U3wn3tWxroLRo0ed0C58MrfyI4diLOhmBtKUJIUmZmEDJ4NSG0i4YXBZQtmqor/5q1W\n",
       "i2Wqxb8hU9v2y442DAmIsnbDHtrfygzZUp64wJsgxCwFezNK8GdsR2d0dn+FhmAWHeGaQT1e3VTZ\n",
       "BHa8m7kg/PyJCsrQY4nlFEfoW7Z2k/+PCYxWjw27ZgW3oJx75e8nlYezH2n/jEeht0hotyFtB6Vo\n",
       "boAemazL1NnGsUEOASyLVtupmsbgypZfJffTRu29PXf/T+3VMi7HeWyT9qBm1NbSLVae2XQCZZba\n",
       "sFBeAnDNxIflu4ay95hpvnX+fcedov86ZDC6wr5Gj7tYmdShN18nTLZW3dDBQE0LF7am6RBWzX3Y\n",
       "Q5N4wuayjRODHMpe0p+f22lsShDc8KsJ5bL23p4JBxvb3rwcCoyJsEJgRC1wBmWRL8OInkM5sTI0\n",
       "9VpQDvkspKGc+rQylupaKmKwHGplsvff91p1JeMaPX5UK8chZJzEwRAmUjZwEW6MECwWgVw1QkAc\n",
       "6R+aGMYAdgvyuA0XtJ8aFFCmeaslGcfObDKpqlb5dQDlvPbeHgWJavFOVRn2tTIYIexbhE/fV6tR\n",
       "ycrhWViaYV8F5WkOKtSeOmANrRzzWXS7fJ7BuDq5HkUd6dO9j2+RNHr8aAYj0smybVctZqwoDDFQ\n",
       "3g/Fl41bBMXhjOihCaDC5aMODexSjeczgwLKPk0bWy2QlDrjRSxhsagtu1v4dQDlXALn9r7B/1yD\n",
       "/kaV8CximwhlCWNilen9yaISypC4J9L5vmOmDMqO37Fbwt2hHe5UDCwFDN2TViuvHGWdPcRxDp4o\n",
       "6pb1ASi7VSm9Jib0OlW/tkutHh8XcJJXLsSc9Lj34QQsWCobYhuaYXpqYpNFhmBO2nAh+YlBCWXE\n",
       "slbLmCF2JhoVMGV7v46gnNfe2Yfl1bPyXEJ5Jo2p9K0KAoAAcHdUq8pgSKlUuLKWagQTrQlemDY3\n",
       "kau26QsOpYQhqIRSAay3Dgg267hmkDMoJ1l3DdEo6h6Dss1+k+QLJbtf4Ue7x4cBIpn1Gg6R5l6h\n",
       "SOhKFLHk7IkPU09uwE2tXQV4sLNa0b3nemKCHNmct3HaQgVlkrWKEvGKrDN2P2EHU7L3q6y+QTmv\n",
       "XdhP2yk3r5WrhZCtjal8duP6FRtzqU8SQOwAlsu6CNFNqFUJmiDqHoPy60t+p4Yol16EyOohQQtW\n",
       "LqwP88mtFrQP9ZGJC/ItyI4N+HR6kwrKPvkbWy2UauqMBy5J0YiK1Sq/jliZtMfBNvjvP6HBRgaj\n",
       "lKLpH6fHicSRPJXghZNuBDtZnQs5KgNEM6FWruhR1HVCef4ElPd39bGkCMJjO24KHU3ZOeeOCLkN\n",
       "O9SZifFfsTODNeS6WgYNKHu2iq0Wy3vqjEv6Nkmu9KtmyHBHV9v1bWfPE8rtpFZ55fLQzCb42JsO\n",
       "eXbkbUOrOL5oL4r9OVkLtXLNiaJOzD0OvWBn8cKrZrYRzo500m4BC1OpCCFSrlbdYEuKiIAFeMVy\n",
       "ZILNv07b4BAoF9Y3DJoZDDFlrRYaInUG7qM6V632q4jfIdUEpNqubzt7tmEVyN02Tblznd6ieObo\n",
       "/UvOD6A8x80rWYcZrFRjTRUoxKWmVk8O431vkaCDGWiHi1HG5hz0oMlTBnsog45ke4PSQP/Z1bXp\n",
       "n7t0MTusQMAS3217/IUo9QIkF2/B2Q0YXAVYRNZCrYz6oqjrY+XM/1eW8t2+5an3hDteP7s06X2F\n",
       "jR3+o92sumqjo3arb1er/o+8Jcm1S/TKQvclDZyEmtNY2x9J1C3f+3G25974UjeY9D61BQzRVS3R\n",
       "jLNQ581i7Ya5umJ2oX/ivQVBFJLAb0iwpYZyEmrYsm/2RxR1Xwzl+evHHz7E5QfvyHcuAX96w/4H\n",
       "P+O5ybpeiH4vlMH4dsCNtPDDXz/8fSjP42MB9xX1wx/57Q3nyLe+aDQ+bX1rYT/8qScOOlgNf+17\n",
       "zHwenzm7ldro+MDyp0Z+fCvgZm6ggxs+sx4OoXw7lgctf4SU457f/wDDZm+ODJJ2XQAAAABJRU5E\n",
       "rkJggg==\n",
       "\" style=\"display:inline;vertical-align:middle;\" /></a><br>(see <a class=\"ProveItLink\" href=\"../__pv_it/7fe8c3f3173e67faf42f67a93b5caca33c02414c0/dependencies.ipynb\">dependencies</a>)<br>"
      ],
      "text/plain": [
       "fullModularRangeEquivRightShift: forall_{N in Integers, a in Integers, b in Integers, c in Integers | (b - a) = (N - 1), N != 0} ({(x + c) mod  N}_{x in {a...b}} = {0...N - 1})"
      ]
     },
     "execution_count": 2,
     "metadata": {},
     "output_type": "execute_result"
    }
   ],
   "source": [
    "%proving fullModularRangeEquivRightShift presuming []"
   ]
  },
  {
   "cell_type": "code",
   "execution_count": null,
   "metadata": {},
   "outputs": [],
   "source": []
  }
 ],
 "metadata": {
  "kernelspec": {
   "display_name": "Python 3",
   "language": "python",
   "name": "python3"
  }
 },
 "nbformat": 4,
 "nbformat_minor": 0
}
