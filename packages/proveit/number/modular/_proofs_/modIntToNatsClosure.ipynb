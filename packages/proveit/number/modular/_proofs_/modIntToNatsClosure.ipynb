{
 "cells": [
  {
   "cell_type": "markdown",
   "metadata": {},
   "source": [
    "Proof of <a class=\"ProveItLink\" href=\"../../../_context_.ipynb\">proveit</a>.<a class=\"ProveItLink\" href=\"../../_context_.ipynb\">number</a>.<a class=\"ProveItLink\" href=\"../_context_.ipynb\">modular</a>.<a class=\"ProveItLink\" href=\"../_theorems_.ipynb#modIntToNatsClosure\">modIntToNatsClosure</a> theorem\n",
    "========"
   ]
  },
  {
   "cell_type": "code",
   "execution_count": 1,
   "metadata": {},
   "outputs": [],
   "source": [
    "import proveit\n",
    "context = proveit.Context('..') # the theorem's context is in the parent directory"
   ]
  },
  {
   "cell_type": "code",
   "execution_count": 2,
   "metadata": {},
   "outputs": [
    {
     "name": "stdout",
     "output_type": "stream",
     "text": [
      "Beginning proof of modIntToNatsClosure\n",
      "Recorded 'presuming' information\n",
      "Presuming previous theorem (applied transitively).\n"
     ]
    },
    {
     "data": {
      "text/html": [
       "<strong id=\"modIntToNatsClosure\">modIntToNatsClosure:</strong> <a class=\"ProveItLink\" href=\"../__pv_it/22d686d5efb2b79953bb578436921b9161b9c33a0/expr.ipynb\"><img src=\"data:image/png;base64,iVBORw0KGgoAAAANSUhEUgAAARUAAAAWCAMAAADZ0/jKAAAAOVBMVEX///8oKCgUFBQNDQ0QEBCI\n",
       "iIhmZma6urrMzMxUVFQiIiJERETc3Nzu7u6qqqp2dnaYmJgyMjIAAAArQGDrAAAAAXRSTlMAQObY\n",
       "ZgAAA/NJREFUWMPVWIuS2yAMpC1g3q///9gKATZKTHy55CYtM3ckzhrDsloJM/bPNJdo/2TzavMn\n",
       "l4N7bpiGz/v3lD5Kire0f7aFXLZ5NG7aJ/2YFp+LtbnyGXnhW8fHMH7P/qOsZEf757U2swLjyLHs\n",
       "i/tsYkojsux4N7bG2Y+SkiTtv9EoK2VsdxSPb9NGMYEYfuCHRA7RfKQZR/tXWdnKkL7nN/xbA+1Q\n",
       "kN6sZ1rVZx/4FH1tznzWag3tX2YlHgPl+bqy4sYptIMA8lUcZsKD20Az8aOsCEl75mSUgu8LUJlL\n",
       "JYQWbBPC4jJ9FCK2BfsInxVhJWshZJN/lLO53rkn2GsQaC2dFcSjeJj9onK3nK8xSzROSUQRTyyP\n",
       "9BuH+eQyh5gV1VEFDJ6qxhXGWr0Imq/LjyQHFVi+L7iolAkFJ6wwYDeJwQriN/nQqTW3UVq58x3l\n",
       "BQCmOgmZoKXCkIU0qm9tJZDe88qOnBOARXso9ZKqq23iVgWGtPkuBwW0lYImGszp1AhRulpLxzV8\n",
       "/SfuihUfopSp2V/0RzDmcAEgj86zhzvkwmDY3giZb6SX+LuZs0dbeom4fgV0tJHhgseL0E2syIxX\n",
       "OnOHq/A8GmXFw9Ryt+WGj2kPqdmpg/N1avBwlaZ6s7gLAGGlzIq1HqdaBcPDQ1a43ZH7zTgq7n5l\n",
       "JXQOQDyqSYKwgtXK1pibWHErrTAVgbKZFZd7GQMjS6GzGmG1E88OH4ApCJDbGkBYGejmFX3n6ixM\n",
       "ehRBbZNDYWtWdq1IQN+zUtKuOLZNW85XrLAUxrw73jrdvdzUx3lyEAC8C8emCeMxUSwBhJWO1pjm\n",
       "/sBf6uMb8chtPS5Z5/kUc8MK47JxDDPP9s5X6udmTtRt5X1Jp/vc4xBSxwfZ2ayWiZ7j52QmZiVU\n",
       "04fb1gDCSkc3hgI7tMJvZjdcufd4n9HkwQcraLGK19Vk9BmMO1mmMTUQYvuYMp6I8sT6ZKb4MV6N\n",
       "dqEx7eHuYt6L4KXwZH8EvtQPAISVjianP3QLWp0fKu+9h2pDOS12lNKlaBVs4UBVLjUBQUUTZde4\n",
       "jAnqFX5kNrCCOII0z0L22pKztTKFW3piGvjk+4Rd1XD10GP8LaiE+uoE+kbeEkBY6WgNnv/7V3X+\n",
       "tMhB76j4V6fim0yyRUsq/is8g9IJAhXXqA4nlX0PXc0hYBTJLgD3rAz0yMqjfL2rV95xOly0q9Ph\n",
       "JX7TIgiJyrM92pLWOsYMMQ6RXJMwfGMLwEkOGuiWlTstMZ4sfRTX9s1i8fmdeDFsY36zcwVYFpDh\n",
       "8pj16lun5esT97P4L7/tO1nXFzbsxTeUq/c27mfxcAf7Livpsy9v/okm//cF/AUSVDBtx5dgCwAA\n",
       "AABJRU5ErkJggg==\n",
       "\" style=\"display:inline;vertical-align:middle;\" /></a><br>(see <a class=\"ProveItLink\" href=\"../__pv_it/22d686d5efb2b79953bb578436921b9161b9c33a0/dependencies.ipynb\">dependencies</a>)<br>"
      ],
      "text/plain": [
       "modIntToNatsClosure: forall_{a in Integers, b in Integers | b != 0} ((a mod  b) in Naturals)"
      ]
     },
     "execution_count": 2,
     "metadata": {},
     "output_type": "execute_result"
    }
   ],
   "source": [
    "%proving modIntToNatsClosure presuming []"
   ]
  },
  {
   "cell_type": "code",
   "execution_count": null,
   "metadata": {},
   "outputs": [],
   "source": []
  }
 ],
 "metadata": {
  "kernelspec": {
   "display_name": "Python 3",
   "language": "python",
   "name": "python3"
  }
 },
 "nbformat": 4,
 "nbformat_minor": 0
}
