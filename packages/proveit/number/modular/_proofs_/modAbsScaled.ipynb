{
 "cells": [
  {
   "cell_type": "markdown",
   "metadata": {},
   "source": [
    "Proof of <a class=\"ProveItLink\" href=\"../../../_context_.ipynb\">proveit</a>.<a class=\"ProveItLink\" href=\"../../_context_.ipynb\">number</a>.<a class=\"ProveItLink\" href=\"../_context_.ipynb\">modular</a>.<a class=\"ProveItLink\" href=\"../_theorems_.ipynb#modAbsScaled\">modAbsScaled</a> theorem\n",
    "========"
   ]
  },
  {
   "cell_type": "code",
   "execution_count": 1,
   "metadata": {},
   "outputs": [],
   "source": [
    "import proveit\n",
    "context = proveit.Context('..') # the theorem's context is in the parent directory"
   ]
  },
  {
   "cell_type": "code",
   "execution_count": 2,
   "metadata": {},
   "outputs": [
    {
     "name": "stdout",
     "output_type": "stream",
     "text": [
      "Beginning proof of modAbsScaled\n",
      "Recorded 'presuming' information\n",
      "Presuming previous theorems (applied transitively).\n"
     ]
    },
    {
     "data": {
      "text/html": [
       "<strong id=\"modAbsScaled\">modAbsScaled:</strong> <a class=\"ProveItLink\" href=\"../__pv_it/5d81577d9e4e9b5c431ebe9b1f514bab31e9ae900/expr.ipynb\"><img src=\"data:image/png;base64,iVBORw0KGgoAAAANSUhEUgAAAXQAAAAXBAMAAADpWqkgAAAAMFBMVEX///8QEBCIiIhmZma6urrM\n",
       "zMxUVFQiIiJERETc3Nzu7u6qqqp2dnaYmJgyMjIAAAAcRTyBAAAAAXRSTlMAQObYZgAABNZJREFU\n",
       "WMPVl39oG2UYx79NemnucknzhzK7MjhT283ZaWhlTOxqRNC/tKl/bGwILZk/cOiIYw5/7I9YRVKL\n",
       "LHOgZaC9WXCzbsuhSCkMFlZFrO3IquAcbETrhmyiQae4VMX3ufeSXu6SXAj6hy88ee/yvvfe5573\n",
       "+zz3HPCvN0Hl/fa6r9heY5X/rr1tmKnJEd5/UuWSGds/lWYWV6nSfCkgRwcXGiWXEtwsNz26qga6\n",
       "J+WALr0Ud0THk8AX1F9pFD2Q4mb111INdCnn5PVA2Bn9BDDOOjHRKPqXhlnRl2ug47QTeqvmjC4r\n",
       "CLBwkLVG0Z83zILeXKiFftgJfUB1RpeC8M9NTb3VKLkY52ZFl+O10AMRB/TPnMMU+B74I5nc1yi6\n",
       "K8wNB2dvVk3ogViHVh1dDtvRxb6e1aXzy6G7ndFngceA0QojD+XqQPdmuTW34Wez19NXpOvV0f36\n",
       "0md+orZkoN+bCuRLWvhbTacc0S8C95WH/PS6Hd+ZXePb/Wq/ggoTqLVo3A5nsUm/qYF+SsUv1dF9\n",
       "cZvXpTVw67mC9s5XQKviiD7Nbg1Xtvi4J3uzLhlzhBqg0P1gdjOUjPwuKkyg1hThdo+K3XSeznH0\n",
       "fkh/2rL1odKLMm9DdxfQougOZz/uHNIZK/r71rfrELtTtqV4dm5mCozsPD1KK8vW/rFDKkP3H680\n",
       "wYx+E6Tf9F0Y5uhLaF62oruWa6A3JZCO0uFentYHNCv6HZodXcxtYQeTXZfQTBohsgyNhHYyLbHG\n",
       "0I/pOggpZRNMgmEu9uXNWv+L3GgVzNXiQXN8ReuXOXo6g1MraT3LttGKHrCiP8Bs9FG2Uc8KBQTA\n",
       "yXqJcK3awYsEJePupX6PECybYApTaRme3IwJ/Rqp34o+Vh6mZV5Pa9jlK76VWyNM+lZ0r2YPU3zE\n",
       "nOAOC3FM6mTux/dQP4KLkk6obHyCVmFRFC2bUIxlshF8PZwxoT+Nl1Ed3Z2xoXsV/165VORkvWFn\n",
       "9D56SBYfTZprGFuTyaTikt/4ikZuwEbhuWRyBMrnG2iVJnZp2YTi1pO9F9oWi5jQJ7uzBPTOjaGd\n",
       "F14BQt0quhevctWxvY/aM0ys881bSgHds0CriN8+3HX8XASu0BxcC7drNLBLv/R0iP1cov1jsZtO\n",
       "ec+rHq4H3yMUzAW0Y5gL5uM5I2zLJtQqBAwgcRk/sCTm1aQ483Q7Vx1wpM6id0ILJFgiHWMX9Omu\n",
       "OxIdoju3RAbZYxQzbFNq6EHIUS7luYz4Gl7wJ/ApR5ePYVxlb+/wygSn8svwZQFPYZBywUhapTAl\n",
       "1dVRfhVfbKonIwRZPvKuL+hh2outYCreBEEvv4ydj324matx+kxmsl9ox5Z5ri/fvh+l3tygJvYs\n",
       "qisTSgpMcauCnkeMoZ8FdgzoGYZcV0fRW0SHRxGC/iA8d+Z19HZ0QWjTt4+K3rLUy6RsvPB4t45p\n",
       "nTfNMqH2p0Y5Onl9Qvc6qc72qA7o5PVbda+z4uL1KTZ0ncZHUedHmC9V/weey4jCToiEPsQ2T1zt\n",
       "UcQ1es0Yxje2RTorVXZRTBB6nm31ATWGAyzw24RrWb1mdMNfDQhZa8XUUGF59Hf/qpn9YczPpjC/\n",
       "+IwGXXV1fzzuHz774vivkOfvgrywlsnk/ts6COzghvX4f7d/ABsDiBH+QSPUAAAAAElFTkSuQmCC\n",
       "\" style=\"display:inline;vertical-align:middle;\" /></a><br>(see <a class=\"ProveItLink\" href=\"../__pv_it/5d81577d9e4e9b5c431ebe9b1f514bab31e9ae900/dependencies.ipynb\">dependencies</a>)<br>"
      ],
      "text/plain": [
       "modAbsScaled: forall_{a in Reals, b in Reals, c in Reals} ((a * |b|_{mod c}) = |a * b|_{mod a * c})"
      ]
     },
     "execution_count": 2,
     "metadata": {},
     "output_type": "execute_result"
    }
   ],
   "source": [
    "%proving modAbsScaled presuming []"
   ]
  },
  {
   "cell_type": "code",
   "execution_count": null,
   "metadata": {},
   "outputs": [],
   "source": []
  }
 ],
 "metadata": {
  "kernelspec": {
   "display_name": "Python 3",
   "language": "python",
   "name": "python3"
  }
 },
 "nbformat": 4,
 "nbformat_minor": 0
}
