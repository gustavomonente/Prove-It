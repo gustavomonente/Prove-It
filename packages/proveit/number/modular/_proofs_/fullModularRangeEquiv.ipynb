{
 "cells": [
  {
   "cell_type": "markdown",
   "metadata": {},
   "source": [
    "Proof of <a class=\"ProveItLink\" href=\"../../../_context_.ipynb\">proveit</a>.<a class=\"ProveItLink\" href=\"../../_context_.ipynb\">number</a>.<a class=\"ProveItLink\" href=\"../_context_.ipynb\">modular</a>.<a class=\"ProveItLink\" href=\"../_theorems_.ipynb#fullModularRangeEquiv\">fullModularRangeEquiv</a> theorem\n",
    "========"
   ]
  },
  {
   "cell_type": "code",
   "execution_count": 1,
   "metadata": {},
   "outputs": [],
   "source": [
    "import proveit\n",
    "context = proveit.Context('..') # the theorem's context is in the parent directory"
   ]
  },
  {
   "cell_type": "code",
   "execution_count": 2,
   "metadata": {},
   "outputs": [
    {
     "name": "stdout",
     "output_type": "stream",
     "text": [
      "Beginning proof of fullModularRangeEquiv\n",
      "Recorded 'presuming' information\n",
      "Presuming previous theorems (applied transitively).\n"
     ]
    },
    {
     "data": {
      "text/html": [
       "<strong id=\"fullModularRangeEquiv\">fullModularRangeEquiv:</strong> <a class=\"ProveItLink\" href=\"../__pv_it/2de55f668e81cd66a2a4c5b4a4e8f385503efaa70/expr.ipynb\"><img src=\"data:image/png;base64,iVBORw0KGgoAAAANSUhEUgAAAnYAAAAmCAMAAAB+myYVAAAAOVBMVEX///8oKCgUFBQNDQ0QEBCI\n",
       "iIhmZma6urrMzMxUVFQiIiJERETc3Nzu7u6qqqp2dnaYmJgyMjIAAAArQGDrAAAAAXRSTlMAQObY\n",
       "ZgAAB69JREFUeNrtXNu2q6gStbvlLhf5/489XBUEFFcSk3EGPOydZSgoikkxq8BM0yi9Ralhg9cK\n",
       "J8MGdwtYhw1eLWjY8K7FZj6M8PraHf7u3v4w42GEN5R1MJU7hYxl+payjE3jRsF6GUYY6/fxvWEY\n",
       "620LeLi77q1hOLv3rWAwbNBZYBb4K/gpXowheNQXfG4k7VGpeeCps8zJCuWr/HM4jNEVqtCDEfML\n",
       "I7lZ0lEtGhmXt6NwhLbtPTbBgtJ/bkes1uRJAUz7J4LqmfDSsX7W18WRSKBkJ9orGt/dLmYDdim2\n",
       "PXdQvcv5cXNEX8EvOjxhmuXmf6X5myV2tRoMcNrLXguNT5bZli1JR0UMBBcWLcIGvJprlb4JdtMR\n",
       "dkiwEK3I6Vuw82RLdnrZUuPWFk4k0TXYAZ2uMjHg1SqUfQp2kiMN/Wx+DXbMJYdEZ2Kj1Phsl6jB\n",
       "TljYKsltWehAVxss8FOwMw1T7Wfza7DTDnZI9/mdUuO7sMOuJ81soXKgqw0WUIEdB4AsCMjtO7zO\n",
       "EJuHYEIAMIcvLgGQHmlcms+4Ajullf8Qmp8fhh0PzkuDXtgdNO6CXTIq7sSJi2HY1/OhVwrgP8qd\n",
       "S3clGnQa5JM1wMiYlYKJrulmDGzYAFAgTNjxdPtw4rNd4vIAO7dRaZoSpRcC5Ra61qTAYiSLlt4H\n",
       "dcGuonEP7LJRuZ4QdCmcsO8yZ2JE5xe9H1qvKWo2BfJKSKC6Ua/UxqyQrld3JjLeS5bxp0qjMzzF\n",
       "PUYas6IE9sytaRfpuUNcGibUSLC1Fsm6jcpiEe3PV/jQOg8jWby3w7prxmsad8AuG5XvyUIXRMMq\n",
       "5jwvyL0DmZmEDJ4Z5FhFwosKZirSb5eqUObea37NyzXUttaEIQzNpGvVof1DGYuI4/kr3mkPZjHR\n",
       "YA3KDtG/x5azqk31RTnzgHtT8wPsoJ93lrkOQp84PtpGcm+TrWrMU3+Kq7BLR+U7lMpDz6PFL8gw\n",
       "/VxIaM9PrIaSVw9uWlVWMV21kUwalrlQPSKvGE/W1M59Ki2lK9UX9z21j48xHU7ZdppwP86Uh6F7\n",
       "amEnAsjMJIUt7Ag7GTJhS6LJY7cO4kh0iGS7Qoqaxl3ejhwjtGWdMNmbdbaDwSmIhVtJoxFWS+0Y\n",
       "o1klHp6ftJHAjuBMqF7W8tsgl6tdhV0mXanOuIOFbW8WJ5vsRNgOR3wKu83bQdNwDXYhB4E0lFMf\n",
       "t8NSXTMbDEST25FyJF5r1ZVAqWl8l9sFz2/CCRKtwU0YZuaeOyMhmHnXpCMOAXHetFnFLG9gz07a\n",
       "bWSwo5lQ7uRiXzsTOMrlajdgl0hXqqNAwyw2qTqGFJVIVnCf98zcdw67aQ6syR5Csgq3izkImjw+\n",
       "jWSvLklGkkL6eNr9dHFN47uRbFzFYs/CC2MsCgMBTxVRi9iXNqc43JtqVgHUTAs8qZDBLmQNo1A2\n",
       "51tfnnQRFova5HK1G7BLKFtW3Tf4n2vQd1Rwq4xt+8myaS5mYJe77x12zhNit425A/dldrt6vi3T\n",
       "ii+o5O0iTbGHuufzHEmKWG/AbqIivbTP9dr6UNe4XcBJ3i7jKNJj1PPfBADGMSSmt3EBpqdVbNZA\n",
       "rScVMtghlgrlHDb2tdVKIcVKtVuwS6TL6mFb8t5uPsJuJmW2iwDAAUzvT2CiNcEmSjbV5aptGLtA\n",
       "KWHI20GpANZ7U5zNOvpVcga7jaZcwymSlHuws9lFsjsEShofGho3ow8y6zXcrEpHhaKnVDwLVGbv\n",
       "cTD1XgW4ibLudQn1LPlx7wCdVEG235MKOexIKoQ2h8aTvmw+toAUKdXOxXfYJdJZdW/QuK5x5Sgh\n",
       "RKjPHCPE5iWA2IEhpSkRTjvxOMQ+gaTcg91jmekyvk0DFRnSWSRhkli5ADBMjvmfKbsCW1VcNGgR\n",
       "06yQwc7n1jahjFdtfXmQkY0dq00uV7vl7UhjlKapf/8JDVYj2ZxvffgYIUyQoYxkdeqkCApwSohH\n",
       "vqlFktIJu/krsCu79YEKD5vvfgcLOgdhJ3BxHmixPFmdVTEGUKxRoYQd90+jULbBbX25pNqR+FXU\n",
       "PmZFQ49W2qlWVl82RNpJK/J2+TH5+48R8q1pjacq/t0+np0ryCPxyL1yJCl87jm7+fBIKqOqZ4jg\n",
       "7Fb7llplYWIUIUTK1W7x2HojRIAAftduVcHmr1YbtUiWe3YkZbmPbn3BMmJwcke1s9gPUk1AlHaq\n",
       "ldXZjiogKynr/HTso3dy0YxyopbQFMzggeQcl6gnKU6qR8kHbxejhjHroUjkZenSv1mlVqGAHejJ\n",
       "VVZ2DtB/XWutae+fXVqfZXMsHnmXAmt/kkwKb5cSjzyiiCSlz9t9ciStUYV7T7eLWN5R5Qi7qeOS\n",
       "qVAXbXRIV1W7JkKPv3ayaJdIkxlN2TjbRjwcadj/2UiK+OHfGvnbrX31lioFZNClEK8ex6DOzoJ0\n",
       "9aDl2mNy/fAlWE4UksAnZ5k4wm4jHth6teSfSFJ+GXbzt+8Tw1susvEqX6drffFFwK/+3NNOU3rh\n",
       "9MOwA+N9xTtr9Cd+eef/AHbzeEHxDrf4iYnsDRXIz94VH78SeK+wn/gNhQV0OAv8u69jLfP4VY97\n",
       "joaOH7h7gxHH+4l3FyodC/XlLWMQu/u4G+7uVWcXzyr+B48AY2UmU0dYAAAAAElFTkSuQmCC\n",
       "\" style=\"display:inline;vertical-align:middle;\" /></a><br>(see <a class=\"ProveItLink\" href=\"../__pv_it/2de55f668e81cd66a2a4c5b4a4e8f385503efaa70/dependencies.ipynb\">dependencies</a>)<br>"
      ],
      "text/plain": [
       "fullModularRangeEquiv: forall_{N in Integers, a in Integers, b in Integers | (b - a) = (N - 1), N != 0} ({x mod  N}_{x in {a...b}} = {0...N - 1})"
      ]
     },
     "execution_count": 2,
     "metadata": {},
     "output_type": "execute_result"
    }
   ],
   "source": [
    "%proving fullModularRangeEquiv presuming []"
   ]
  },
  {
   "cell_type": "code",
   "execution_count": null,
   "metadata": {},
   "outputs": [],
   "source": []
  }
 ],
 "metadata": {
  "kernelspec": {
   "display_name": "Python 3",
   "language": "python",
   "name": "python3"
  }
 },
 "nbformat": 4,
 "nbformat_minor": 0
}
