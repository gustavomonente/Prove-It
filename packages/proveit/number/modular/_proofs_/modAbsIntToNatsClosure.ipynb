{
 "cells": [
  {
   "cell_type": "markdown",
   "metadata": {},
   "source": [
    "Proof of <a class=\"ProveItLink\" href=\"../../../_context_.ipynb\">proveit</a>.<a class=\"ProveItLink\" href=\"../../_context_.ipynb\">number</a>.<a class=\"ProveItLink\" href=\"../_context_.ipynb\">modular</a>.<a class=\"ProveItLink\" href=\"../_theorems_.ipynb#modAbsIntToNatsClosure\">modAbsIntToNatsClosure</a> theorem\n",
    "========"
   ]
  },
  {
   "cell_type": "code",
   "execution_count": 1,
   "metadata": {},
   "outputs": [],
   "source": [
    "import proveit\n",
    "context = proveit.Context('..') # the theorem's context is in the parent directory"
   ]
  },
  {
   "cell_type": "code",
   "execution_count": 2,
   "metadata": {},
   "outputs": [
    {
     "name": "stdout",
     "output_type": "stream",
     "text": [
      "Beginning proof of modAbsIntToNatsClosure\n",
      "Recorded 'presuming' information\n",
      "Presuming previous theorems (applied transitively).\n"
     ]
    },
    {
     "data": {
      "text/html": [
       "<strong id=\"modAbsIntToNatsClosure\">modAbsIntToNatsClosure:</strong> <a class=\"ProveItLink\" href=\"../__pv_it/87eb49027820d1468e025b9769e7b5a634ba35570/expr.ipynb\"><img src=\"data:image/png;base64,iVBORw0KGgoAAAANSUhEUgAAAP0AAAAXCAMAAAD3NLkqAAAAOVBMVEX///8oKCgUFBQNDQ0QEBCI\n",
       "iIhmZma6urrMzMxUVFQiIiJERETc3Nzu7u6qqqp2dnaYmJgyMjIAAAArQGDrAAAAAXRSTlMAQObY\n",
       "ZgAAA5hJREFUWMPdWAly2zAMZFuC4n39/7EFeFikTFlKmozbciZOIkMkFsAuIDH2dy3pri78p8tG\n",
       "/Ajb4erThS9a3tJnevwf41vBO8O+E71L2ZhEhRR45ripIvjB9+/Te2ssWfa9uTeRSVUCkWs4qN5M\n",
       "LzzzVvBRsG9Gr7RkAPQXrzvDkPK9CN6ytP1i9NFoXGlAvxnHlKSzKhcoCDE4Wla/V/I0+1L00sCR\n",
       "yMpi4TtKdjsr0daoBrh0eCt6EBNYK4IA7j6N3i1EDGXOQ6F+jzSdWYqBGXtv3y2la5tz8+IUBAjP\n",
       "kjSg3zh6k/Lnc6/s+hruFqGjj+TaJroCrjfiJggjxKMUxYUBQhkrdzIXsnAN26060N4P6B2nWAjz\n",
       "efTmLCKKqN/Q+/KbPuCp2TsfhIhVjoLbWZT8hcF8dhrF1BbMuvBtLk2+DehF+VLDDfTOrvq05Kmv\n",
       "A3qHHiTerGpxxQcVRsn01tHO6L2Mdg9OthcGM/o81qBxpd1SAXB/jp6bh9kVesh+wTB7mnsmA8Zm\n",
       "RG9TGwPwSAEqyU6HR72ynaYyA2D5nBvM6Lt5dTHUS+SGjqeV7zLZ+XxL83ttzQzj51oQffdvqyk3\n",
       "VtUzHA4EspTdGMlovdyDrV0R6FODGX0zV6Wv/MKf2A6odb1UPVfyqVKZxa/QG79gGBOwQN98DL0y\n",
       "YsXgRSt8kq6iCW6IpIMxswbKbecGM/pmXiPh2Z57PvsXxo5XbtKq7HoXfbbLWlopkGj+iOZ1bq4Q\n",
       "GYFIIHVJFrmBPgRMVlcXIqhQLwxm9M18f4zphM4zqm2cdpwCkFbB1i7YxCURKEZT7gIAOhE7Z4Tk\n",
       "nxlWtjDbpIdSZ94daOhTK4boml+WapC0bG9Im5fl0bPFlsqWgnRqMKNv5grV9+cP0uC41vzXk64l\n",
       "LiTTmhSl2+mWu6aenZBDPIOZJ92ndnFUehwyZN4KFrkrmmi5sSTZeEo0JwYL9N28d7s+1x37/eun\n",
       "HEexUoEVua5SjZNsFSj/xLCbKxy1YVPgQcSRT1EpFUJCFuLR1NzwP3ZisNL8bl67XYMfnkamPmye\n",
       "oSfVgoo+FkFXYssDmweG3R6GX3bSTuvxhciVwfmk5a+eI1693ZjQ99zbMfedkB8YBy372PI3b1ih\n",
       "v67KMjCBPCZBFt539LlVncVHILpgeTww7O4D8EfBs7uvvhZuxD95e+BMVljw2luTiTIBmVPeS6Hm\n",
       "65rxnWFvX+JfeZH6G5kpLEDX0oQnAAAAAElFTkSuQmCC\n",
       "\" style=\"display:inline;vertical-align:middle;\" /></a><br>(see <a class=\"ProveItLink\" href=\"../__pv_it/87eb49027820d1468e025b9769e7b5a634ba35570/dependencies.ipynb\">dependencies</a>)<br>"
      ],
      "text/plain": [
       "modAbsIntToNatsClosure: forall_{a in Integers, b in Integers | b != 0} (|a|_{mod b} in Naturals)"
      ]
     },
     "execution_count": 2,
     "metadata": {},
     "output_type": "execute_result"
    }
   ],
   "source": [
    "%proving modAbsIntToNatsClosure presuming []"
   ]
  },
  {
   "cell_type": "code",
   "execution_count": null,
   "metadata": {},
   "outputs": [],
   "source": []
  }
 ],
 "metadata": {
  "kernelspec": {
   "display_name": "Python 3",
   "language": "python",
   "name": "python3"
  }
 },
 "nbformat": 4,
 "nbformat_minor": 0
}
