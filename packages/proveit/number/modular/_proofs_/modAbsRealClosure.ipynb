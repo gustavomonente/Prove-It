{
 "cells": [
  {
   "cell_type": "markdown",
   "metadata": {},
   "source": [
    "Proof of <a class=\"ProveItLink\" href=\"../../../_context_.ipynb\">proveit</a>.<a class=\"ProveItLink\" href=\"../../_context_.ipynb\">number</a>.<a class=\"ProveItLink\" href=\"../_context_.ipynb\">modular</a>.<a class=\"ProveItLink\" href=\"../_theorems_.ipynb#modAbsRealClosure\">modAbsRealClosure</a> theorem\n",
    "========"
   ]
  },
  {
   "cell_type": "code",
   "execution_count": 1,
   "metadata": {},
   "outputs": [],
   "source": [
    "import proveit\n",
    "context = proveit.Context('..') # the theorem's context is in the parent directory"
   ]
  },
  {
   "cell_type": "code",
   "execution_count": 2,
   "metadata": {},
   "outputs": [
    {
     "name": "stdout",
     "output_type": "stream",
     "text": [
      "Beginning proof of modAbsRealClosure\n",
      "Recorded 'presuming' information\n",
      "Presuming previous theorems (applied transitively).\n"
     ]
    },
    {
     "data": {
      "text/html": [
       "<strong id=\"modAbsRealClosure\">modAbsRealClosure:</strong> <a class=\"ProveItLink\" href=\"../__pv_it/a7350ce312ace73f53fe300fb8626fcefede8fd80/expr.ipynb\"><img src=\"data:image/png;base64,iVBORw0KGgoAAAANSUhEUgAAAP4AAAAXCAMAAAAcAwIpAAAAOVBMVEX///8oKCgUFBQNDQ0QEBCI\n",
       "iIhmZma6urrMzMxUVFQiIiJERETc3Nzu7u6qqqp2dnaYmJgyMjIAAAArQGDrAAAAAXRSTlMAQObY\n",
       "ZgAAA4pJREFUWMPdWImS2yAMpS3iEvf/f2wRh2Nsk3i3u5O2zGwyS8TxkN6TgLG/rCn3quN/bTaW\n",
       "jyAPvaeOL2re0mfa/o/xvegdsu+EHw1HzClx7Dg14Q9+/J7eHGXJsu/1fmJOFzJhxIrUkectjtDD\n",
       "96KPgn0zfGQ2tC/dZoad0x9h8J5m7BfDj2hKSyf4wnbGO05WwVGz5s26Z9iXwlcI7tr7BX4P9ERT\n",
       "Z6Rmwnvhg5jQWhEEcPdp+O5CyTp8zaTua9GaWtXf7L15ZUo3jJbmdVMQ4HTYQ48bWsnLdlL+vPe1\n",
       "XXHfGzGOJtLepBgyeJkeDaAWCR7BKF4Y1IUW5kJVupVR+kh9v4PvOB2GwM/Dx2vp46QG/rH1ujI5\n",
       "5JT0nQ9ClF5gZbfBbfC20SuDefG0V9QmuaZS7hCcXO7gi/qrgRvwnb3K14qn0WbvF1/jNkC18Irt\n",
       "CA666a0jw4ouuu14sn1hMMPP+yisK7tMIcD9E/gcN7tX8CH7C5ZZXCU+IRXO8G1iqseiE6CTGoxo\n",
       "8zd0YRsCoN0Tgxn+MG9bDK2LTsTEdfC7TIY+31L+EV4zy/gy76OLI1Blczpa3dZwRpXduakWruiE\n",
       "GJODcVWllwYz/G6ua3b5Vf5iX8DAWvpc9ahOtS5/BR/9BcuYgBX84umqQEP6yjmLHvuEQZkaBTt0\n",
       "Qmuz7QGhDlsbzPC7eTP07OF9fthf2Ce+OspoOtfb8LO9jKZT0Uv1XUt2TPSIzX0vREggE2Wqu2gb\n",
       "xbkWotxzVOgnBjP8bv640gxO5wMquS97nAZQVoPsHTZxRSSKEeswAAhVdkKE5M8sq1OgdBdXnrI2\n",
       "YmqCkUYUuL4xS1FIgqan2PYqjKkocumUlgYz/G6uiwT//EFCHBfK/7zotbTfhD1XkcOd6d7rGjpI\n",
       "uTvQgHPRe0oaR70vxYbKsl671UTtQMpmSbjLKhEXBhfwh/lIeqPAO+X951ceR6elibl8CHYpaptK\n",
       "+RPLbrZw1AepwYOIe0p5E1IoVBclPdBBKx0CWxhcKf8w36XbErPH2ulRd67gkxZCgx+rrGsh807y\n",
       "diy7XRc/Taid2lOF98pgXXP5l3eKZ88dE/zhfbv3/iDlBwpDyz7W/N0BePXWcO+xC9TRDapyf8DP\n",
       "PfBsuQ9Rh+XxwLK79+GPome3X8PO+4h/9JrgMOsS88ZbzESbUNhTn6qK8pvm8wfL3t/Ev/K6+huy\n",
       "si2tPDqR/gAAAABJRU5ErkJggg==\n",
       "\" style=\"display:inline;vertical-align:middle;\" /></a><br>(see <a class=\"ProveItLink\" href=\"../__pv_it/a7350ce312ace73f53fe300fb8626fcefede8fd80/dependencies.ipynb\">dependencies</a>)<br>"
      ],
      "text/plain": [
       "modAbsRealClosure: forall_{a in Reals, b in Reals | b != 0} (|a|_{mod b} in Reals)"
      ]
     },
     "execution_count": 2,
     "metadata": {},
     "output_type": "execute_result"
    }
   ],
   "source": [
    "%proving modAbsRealClosure presuming []"
   ]
  },
  {
   "cell_type": "code",
   "execution_count": null,
   "metadata": {},
   "outputs": [],
   "source": []
  }
 ],
 "metadata": {
  "kernelspec": {
   "display_name": "Python 3",
   "language": "python",
   "name": "python3"
  }
 },
 "nbformat": 4,
 "nbformat_minor": 0
}
