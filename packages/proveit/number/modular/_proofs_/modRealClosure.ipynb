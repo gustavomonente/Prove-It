{
 "cells": [
  {
   "cell_type": "markdown",
   "metadata": {},
   "source": [
    "Proof of <a class=\"ProveItLink\" href=\"../../../_context_.ipynb\">proveit</a>.<a class=\"ProveItLink\" href=\"../../_context_.ipynb\">number</a>.<a class=\"ProveItLink\" href=\"../_context_.ipynb\">modular</a>.<a class=\"ProveItLink\" href=\"../_theorems_.ipynb#modRealClosure\">modRealClosure</a> theorem\n",
    "========"
   ]
  },
  {
   "cell_type": "code",
   "execution_count": 1,
   "metadata": {},
   "outputs": [],
   "source": [
    "import proveit\n",
    "context = proveit.Context('..') # the theorem's context is in the parent directory"
   ]
  },
  {
   "cell_type": "code",
   "execution_count": 2,
   "metadata": {},
   "outputs": [
    {
     "name": "stdout",
     "output_type": "stream",
     "text": [
      "Beginning proof of modRealClosure\n",
      "Recorded 'presuming' information\n",
      "Presuming previous theorems (applied transitively).\n"
     ]
    },
    {
     "data": {
      "text/html": [
       "<strong id=\"modRealClosure\">modRealClosure:</strong> <a class=\"ProveItLink\" href=\"../__pv_it/2dfc3d561d4f11fa0e6825b0c6ba1f0323ac1c130/expr.ipynb\"><img src=\"data:image/png;base64,iVBORw0KGgoAAAANSUhEUgAAARcAAAAWCAMAAADdJij3AAAAOVBMVEX///8oKCgUFBQNDQ0QEBCI\n",
       "iIhmZma6urrMzMxUVFQiIiJERETc3Nzu7u6qqqp2dnaYmJgyMjIAAAArQGDrAAAAAXRSTlMAQObY\n",
       "ZgAAA/BJREFUWMPVWIly5CoMZHdB5r7+/2OfJMA2vibZJDX7qErheJpDjdQSFuIfaj7P/Sdb0Eu4\n",
       "eB3956Zp+LL+n/ObaQlu7j/bYqnLfjZp25N5JiZb6VwtRbq8w6c4fi/hzbwUP/ef97c9LzgPdIbK\n",
       "q4VFMEJol11Y8X4cjndvpiXD3P9Fm3mp48iTeh7mhE+tMxt+uMnmOG9q1s/9V3lZ6giAIOcDcBZb\n",
       "OfECvqsK43MK1Lx9t+jauf8yL2mbqOzea6fCtb8gL26Hr46aTW/mRcHcCw8JlFxt0EWCVsoosSjl\n",
       "2NCQlErN5JDwWU+8FKMUtCBIW2iGCxntvBixGLHhjebfPui9SykfAN3jeVcqqdMxjGww+kXijkrd\n",
       "B5pTpK0KZ8/k6Zojjl6i5xMBacpHFRkIlc3K2x6uklPjJVoYnDF+gSfNjlY5A2VTrgQvALyQuMGD\n",
       "5tDFYeYoL3HqgyR+YD+TY5mo9EqTvc3FdcUpXTnlo8jyUlXb4+XWdrxIUpy42cQ7oRM8FS8hJgB8\n",
       "qwQun8Jq9zr6DnBYvOz1vAm+5fA9+LNcph74dzvNysbXxAxoJKTNjC8Cv8RuxwsUftO5W6NRltFm\n",
       "f0HvcFvMMj7lxs1BtKMPBGSzc1h5q/4F4MBL3TsuLx3ohIWMj7xItyLXwTwtewDxEjsL6EC6ucXE\n",
       "C1cvS+Nu48W7uzwNi3YzL74I3b06gDJFj+BqOtjMTusQ1L7wADjwMvBNM/rpEVU2P8VRO+hYxT0v\n",
       "q78Aos+81Lx6nVi2Y5e39YsLeXhnxztvuqpbWi5M1wM2G2DQoGzglHELOPDS8YaT3h/8y30Fq550\n",
       "N7DRpuxvNwdehITGMu69uJO+0HMTqUl3Qd3xgr4BWuzxETqfZJy27Dc7s8EYuy5I8o/D7gEHXjq+\n",
       "IaPY/EUeNjj0ufc8zhqRLv2FxVZLMqOw3nD0Qd3NaZAS1+eEdPbL0z2AKtuWm1f8mI9iXhlOgXy+\n",
       "tDl0B6/yspcBMA+AAy8dP90LWTXmmn3z9d4HrD60N2pFaVOr0dFViWSVSskIK5wE3dMhZaxf5Jbl\n",
       "UBLSCNWyk6lg3Hzt7vdGymqutNgc+Bz6hj35MampmcIk6jSmohgg+m4BB1463mAC+P2L0kC+yUff\n",
       "cQ+4u6jPWWVJbr4HvMCjAZ7ClVhOepKPRLLqKZugXGR3A7jiZeBHjh4l7al++Y574017dW98iV+M\n",
       "igrY+1wcJU7CCA6A5YAmP9EmNQYuAJf5aOB35QHWu+nC+FFyu292mFC+E6+6fEy17SvAQ1EZX17A\n",
       "vvpd6vYzgv9Z/Me/CLrLjz8//R3z7ruO/1k8jhB/z0t+9+edf6HB/96C/wDxtjHa6ICY/wAAAABJ\n",
       "RU5ErkJggg==\n",
       "\" style=\"display:inline;vertical-align:middle;\" /></a><br>(see <a class=\"ProveItLink\" href=\"../__pv_it/2dfc3d561d4f11fa0e6825b0c6ba1f0323ac1c130/dependencies.ipynb\">dependencies</a>)<br>"
      ],
      "text/plain": [
       "modRealClosure: forall_{a in Reals, b in Reals | b != 0} ((a mod  b) in Reals)"
      ]
     },
     "execution_count": 2,
     "metadata": {},
     "output_type": "execute_result"
    }
   ],
   "source": [
    "%proving modRealClosure presuming []"
   ]
  },
  {
   "cell_type": "code",
   "execution_count": null,
   "metadata": {},
   "outputs": [],
   "source": []
  }
 ],
 "metadata": {
  "kernelspec": {
   "display_name": "Python 3",
   "language": "python",
   "name": "python3"
  }
 },
 "nbformat": 4,
 "nbformat_minor": 0
}
