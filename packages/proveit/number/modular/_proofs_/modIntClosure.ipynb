{
 "cells": [
  {
   "cell_type": "markdown",
   "metadata": {},
   "source": [
    "Proof of <a class=\"ProveItLink\" href=\"../../../_context_.ipynb\">proveit</a>.<a class=\"ProveItLink\" href=\"../../_context_.ipynb\">number</a>.<a class=\"ProveItLink\" href=\"../_context_.ipynb\">modular</a>.<a class=\"ProveItLink\" href=\"../_theorems_.ipynb#modIntClosure\">modIntClosure</a> theorem\n",
    "========"
   ]
  },
  {
   "cell_type": "code",
   "execution_count": 1,
   "metadata": {},
   "outputs": [],
   "source": [
    "import proveit\n",
    "context = proveit.Context('..') # the theorem's context is in the parent directory"
   ]
  },
  {
   "cell_type": "code",
   "execution_count": 2,
   "metadata": {},
   "outputs": [
    {
     "name": "stdout",
     "output_type": "stream",
     "text": [
      "Beginning proof of modIntClosure\n",
      "Recorded 'presuming' information\n"
     ]
    },
    {
     "data": {
      "text/html": [
       "<strong id=\"modIntClosure\">modIntClosure:</strong> <a class=\"ProveItLink\" href=\"../__pv_it/d0f4f1b8ce9d0770832fb99cb76a2141aa465e800/expr.ipynb\"><img src=\"data:image/png;base64,iVBORw0KGgoAAAANSUhEUgAAARQAAAAWCAMAAAA2EZP0AAAAOVBMVEX///8oKCgUFBQNDQ0QEBCI\n",
       "iIhmZma6urrMzMxUVFQiIiJERETc3Nzu7u6qqqp2dnaYmJgyMjIAAAArQGDrAAAAAXRSTlMAQObY\n",
       "ZgAAA+tJREFUWMPVWImW2yAMpC3IYG7+/2MrBNjCsePNHi8tb3fJOmMMw2gkLMQ/01ya+xeb14t/\n",
       "vBrca6M0fN7+T+mtnHg796+2kMvCBpNr+2TuWFlWWWTOcs0yDXwM49vs30pKdnP/utIYKTgMdHry\n",
       "zW3Kgm7isBvejY1x9q2cJJj7T7SJlDI2O6rnd0EUTRtx2fFDILtk3tJWN/dfJGUpQ/deHti3K7Zd\n",
       "P1CBzggNDJ+ir82t73XZde6/Skrcx8lcQNqqM5ewvv4wfLG1rfGtpCiYe+EggpLbAnSWoJUySixK\n",
       "WVqmj0p1yfuInzUnJRuloGk/soD058aZFEszhDeauPqgbJecbyHXaJqSiuphB2ya+0XifHLh8WVV\n",
       "NVOFo6eqcE2BVi+i4uvyI88+BVfvC60psSmc5yJMeCznEX6BpyZtpI1gASYinwEEd+wZTT6fkJFg\n",
       "jpYSpt5TegQ+kiVvKPWSrqtt0tYFh7T5mH0CWUohjw0sIs+TCcqCsdXw9Y96KFJ8iACpOV/0eyTm\n",
       "cAOYnpy5fTuiYqWYPchYLlMP9P3KE0dbeYm0fI1stJHxgqeL2O2kQKYLnbfdUbAg6Y0rG8TCpNvw\n",
       "MTViDiYdnK8zw2frxKrM4m4AEynFzXZWp1rlIsNTUqTdkNvNNCxtfiUldApQOropgpNCVcrSeGOk\n",
       "nJcdo0TBrd3xLgvd5exBmaxHTG28i8h4RLvzTwATKQPddqRvXOVpTc/Cp+1xKOKalE0pgOgHUkra\n",
       "5IYlK+P+hJO9RJGC4a0z3cXX+jQ/Vf+oCRf2LVOrpxRxCZhI6WhDCe4P/qY+/qqeGa2nFZvMjy4H\n",
       "UoSERjHOPNujp9SPzZdmo4XHSg5juoW1AMnxATqZ1S31Soph5qK4Dqrd423XgImUjm4EBbErRR5m\n",
       "Nwy593TfaqYH76SQu2pJ1Tl5DAUdlH1Mg3xY4CXrQZGPJYo3yU74MVyNdGUo39HeUsKLFGvO70EP\n",
       "5glgIqWjpwMfOcVUkjON995jmaGdURtKm1KMDrZIZCqXmnqwkonQFQ4xYZ0it5yGNhBHgGauYm/s\n",
       "fJhepM0SF4Knws7iwCff5+uqgKt97ilzCboOH7uQq/grd5eAiZSONmj3v39V008X2ec7yvyL0/ch\n",
       "hyzRTmX+HV5gxYRBSkvUu4lC30FXZYYmQTI7AzySMtAjHY+i9aFO+Y4D4Xm7OxDe4hejggLSne3B\n",
       "l4wxMWaMb4zimn3xP3EBOMk+A70fLWpFG09WPkpq+71SuX118BJeDcvgL3LuAJdlY7g9Wn31JdNF\n",
       "e5Xjl/fkg+/27HmB9MOvIy9e07ifxeMd4rOkpPe+rPkHGvzvC/gL3ZwwESDoFmMAAAAASUVORK5C\n",
       "YII=\n",
       "\" style=\"display:inline;vertical-align:middle;\" /></a><br>(see <a class=\"ProveItLink\" href=\"../__pv_it/d0f4f1b8ce9d0770832fb99cb76a2141aa465e800/dependencies.ipynb\">dependencies</a>)<br>"
      ],
      "text/plain": [
       "modIntClosure: forall_{a in Integers, b in Integers | b != 0} ((a mod  b) in Integers)"
      ]
     },
     "execution_count": 2,
     "metadata": {},
     "output_type": "execute_result"
    }
   ],
   "source": [
    "%proving modIntClosure presuming []"
   ]
  },
  {
   "cell_type": "code",
   "execution_count": null,
   "metadata": {},
   "outputs": [],
   "source": []
  }
 ],
 "metadata": {
  "kernelspec": {
   "display_name": "Python 3",
   "language": "python",
   "name": "python3"
  }
 },
 "nbformat": 4,
 "nbformat_minor": 0
}
