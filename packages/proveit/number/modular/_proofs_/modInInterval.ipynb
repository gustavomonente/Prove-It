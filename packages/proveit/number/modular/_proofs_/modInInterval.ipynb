{
 "cells": [
  {
   "cell_type": "markdown",
   "metadata": {},
   "source": [
    "Proof of <a class=\"ProveItLink\" href=\"../../../_context_.ipynb\">proveit</a>.<a class=\"ProveItLink\" href=\"../../_context_.ipynb\">number</a>.<a class=\"ProveItLink\" href=\"../_context_.ipynb\">modular</a>.<a class=\"ProveItLink\" href=\"../_theorems_.ipynb#modInInterval\">modInInterval</a> theorem\n",
    "========"
   ]
  },
  {
   "cell_type": "code",
   "execution_count": 1,
   "metadata": {},
   "outputs": [],
   "source": [
    "import proveit\n",
    "context = proveit.Context('..') # the theorem's context is in the parent directory"
   ]
  },
  {
   "cell_type": "code",
   "execution_count": 2,
   "metadata": {},
   "outputs": [
    {
     "name": "stdout",
     "output_type": "stream",
     "text": [
      "Beginning proof of modInInterval\n",
      "Recorded 'presuming' information\n",
      "Presuming previous theorems (applied transitively).\n"
     ]
    },
    {
     "data": {
      "text/html": [
       "<strong id=\"modInInterval\">modInInterval:</strong> <a class=\"ProveItLink\" href=\"../__pv_it/746df9aaee7ee9566b62b6a1e09a3db33bc69f800/expr.ipynb\"><img src=\"data:image/png;base64,iVBORw0KGgoAAAANSUhEUgAAAWMAAAAXCAMAAADp2N6wAAAAOVBMVEX///8oKCgUFBQNDQ0QEBCI\n",
       "iIhmZma6urrMzMxUVFQiIiJERETc3Nzu7u6qqqp2dnaYmJgyMjIAAAArQGDrAAAAAXRSTlMAQObY\n",
       "ZgAABHdJREFUWMPtWYuy4yYMpS1gMIjX/39skQAbP4OT3ZudaZm5ubEjjHSQjiTM2J81FNxffzaC\n",
       "DJ9oM6qMkgLYHzks2u+n7c399ScDon84Y7f6uDITV/TfWfyM6yaHr0IMhv1mjENqDxXBq2GMwfD5\n",
       "sTKy4qoRZO/a7fhd/472d2PsK1QxmwyzHffjKAeVcRx2awFibU0LVfNViINkP4Rx4HQRxzFObkQZ\n",
       "0F6nPcY5Zjr3XR36K6P61a/DOJg5j3jE2GhyuQSjGE9N9KUy4Ygx4I4GDzjs/N2Ed0F572KszDG1\n",
       "V7uTLsC5UYxXn3wDYxZxUjI4Zv9VjMWG8qz0UhC3vYkxnCWXYjckWTAWoxhHLYR0DzHmyzNwOU0p\n",
       "1tgx7af4ksima2lSQXhx2FATOqsmnpWJ6QM/1mfWaNLFJlpcDWMMKW8YJPsI46WGYQFXnWTLf+fq\n",
       "cuOlkXKzL3cCrE+eW2mpiJwyG+o9HXdpBTgCLs0HGJvTpK8KxrJg7AcxLsyNW/IA46UWYY6iBz/E\n",
       "oTgG5yW2RZiMPKzsFt0LgY2BsWc9S8jORFC7WObTapWkH2cxgjHYs9SleGxjJeiaVR9zBZW6gFuy\n",
       "KAOxG+oUY6aLAXkz6Umh4LxLy84CzsggqWDXLUj2hcAG49QHrQHSFpXi7hpjbhaxlxiLmrq2pHRa\n",
       "h7beK9W6YjTnkUdSinzkxy1SC8Y2MlXvgBSaNmbqY1yyNa4yjwkNNwIbjJt0MbISIcI+h0uuIJfJ\n",
       "GIyl8hYoW1Lip6xXFDNm73L3GCdiLhR/i4+nWjFaXWbDrDIGsGmxs7x1azyIGagIuBTYYFylNZUu\n",
       "/+S/UJ8/i8ucB+RhOUG5kTRj3AkpMSl+XQ+SlhTxVl0RykJOVqrAxKVm8ueO8kTvpUbQtGuBDcZV\n",
       "uuDt2OrHfAeC72o3mjRreugwxsmexsVZL42/QSUOrBrY7tt6i1bXGV4jh4JKnNTHsmLT+B9ZUiBt\n",
       "qJk8D63Npvo8s+UWJE6pbwQ2GFfp9cynEW3aqTt1PQjkelRZLaZ6bSNXSDkhGJolhPC1CAwiuiMp\n",
       "UWNrJrjAGHyWXQJv1odvy5dSu0nhwwhxSc1TrKenXQ9SVwpQzbcYtZjJ1tpqcoripPoJ7hRuxaXA\n",
       "BuMqrXP6/fsvTMLhoq647aUtskc0tQ4ydKTTPKQmz0Zh3a55c95L/8TZZtdL7xfNtb9KEyGm1nwm\n",
       "q59ZrAuyLcFcCBwxbtKtbmst3aE+vj0TAtwR7bEma3k6BxCUxOEOpHRpN/8Cxn6fGSYtnCje3ngu\n",
       "aK29jxg+Cn1G5St2IXBSVzTpUrdVkP2hj1kazQuMkRZFwbikLC1zOdXluo6UXp8f/wDG7fwYbvdd\n",
       "NLrtW6VXAtdN1suu6uaMfoPx4se29+NGYfd13g++B5l6z3kw3NiEM4wHKiVqY8Tu/QRd2wXjVAPI\n",
       "4oER3rE87Ejp1oCH7/N22gg1Nm19nxeeQswGFTyxNXxyOA0mt2aBz84a6oN95ppCLLmumIv3rqT0\n",
       "3xiS/T/68S9jKTrL3OLtqQAAAABJRU5ErkJggg==\n",
       "\" style=\"display:inline;vertical-align:middle;\" /></a><br>(see <a class=\"ProveItLink\" href=\"../__pv_it/746df9aaee7ee9566b62b6a1e09a3db33bc69f800/dependencies.ipynb\">dependencies</a>)<br>"
      ],
      "text/plain": [
       "modInInterval: forall_{a in Integers, b in Integers | b != 0} (|a|_{mod b} in {0...|b| - 1})"
      ]
     },
     "execution_count": 2,
     "metadata": {},
     "output_type": "execute_result"
    }
   ],
   "source": [
    "%proving modInInterval presuming []"
   ]
  },
  {
   "cell_type": "code",
   "execution_count": null,
   "metadata": {},
   "outputs": [],
   "source": []
  }
 ],
 "metadata": {
  "kernelspec": {
   "display_name": "Python 3",
   "language": "python",
   "name": "python3"
  }
 },
 "nbformat": 4,
 "nbformat_minor": 0
}
