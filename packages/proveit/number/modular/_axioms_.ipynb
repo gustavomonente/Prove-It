{
 "cells": [
  {
   "cell_type": "markdown",
   "metadata": {},
   "source": [
    "Axioms for the theory of <a class=\"ProveItLink\" href=\"_theory_.ipynb\">proveit.number.modular</a>\n",
    "========"
   ]
  },
  {
   "cell_type": "code",
   "execution_count": null,
   "metadata": {},
   "outputs": [],
   "source": [
    "import proveit\n",
    "# Prepare this notebook for defining the axioms of a theory:\n",
    "%axioms_notebook # Keep this at the top following 'import proveit'.\n",
    "from proveit._common_ import a, b, q\n",
    "from proveit.logic import Equals, Exists, Forall\n",
    "from proveit.number import Add, GreaterEq, Less, Min, Mod, ModAbs, Mult, Neg\n",
    "from proveit.number import zero, Integers, NaturalsPos, Reals, RealsPos"
   ]
  },
  {
   "cell_type": "code",
   "execution_count": null,
   "metadata": {},
   "outputs": [],
   "source": [
    "%begin axioms"
   ]
  },
  {
   "cell_type": "markdown",
   "metadata": {},
   "source": [
    "#### For positive real-valued modulus $b$, $\\text{mod}(a, b)$ is the non-negative remainder $r$ when $a$ is divided by $b$ in the usual way, giving $0 \\le r < b$. This means that there exists a unique integer $q$ such that $a = qb + r$."
   ]
  },
  {
   "cell_type": "code",
   "execution_count": null,
   "metadata": {},
   "outputs": [],
   "source": [
    "# a mod b ≥ 0\n",
    "modGreaterEqZero = Forall(\n",
    "    (a, b),\n",
    "    GreaterEq(Mod(a, b), zero),\n",
    "    domains=[Reals, RealsPos])"
   ]
  },
  {
   "cell_type": "code",
   "execution_count": null,
   "metadata": {},
   "outputs": [],
   "source": [
    "# a mod b < b\n",
    "modLessModulus = Forall(\n",
    "    (a, b),\n",
    "    Less(Mod(a, b), b),\n",
    "    domains=[Reals, RealsPos])"
   ]
  },
  {
   "cell_type": "code",
   "execution_count": null,
   "metadata": {},
   "outputs": [],
   "source": [
    "# a mod b is the remainder after taking out integer multiples of modulus b\n",
    "modIsRemainder = Forall(\n",
    "    (a, b),\n",
    "    Exists(q, Equals(a, Add(Mult(q,b),Mod(a,b))), domain=Integers),\n",
    "    domains=[Reals, RealsPos])"
   ]
  },
  {
   "cell_type": "code",
   "execution_count": null,
   "metadata": {},
   "outputs": [],
   "source": [
    "modAbsDef = Forall(\n",
    "    (a, b),\n",
    "    Equals(ModAbs(a, b), Min(Mod(a, b), Mod(Neg(a), b))),\n",
    "    domains=[Reals, NaturalsPos])"
   ]
  },
  {
   "cell_type": "code",
   "execution_count": null,
   "metadata": {},
   "outputs": [],
   "source": [
    "%end axioms"
   ]
  }
 ],
 "metadata": {
  "kernelspec": {
   "display_name": "Python 3",
   "language": "python",
   "name": "python3"
  }
 },
 "nbformat": 4,
 "nbformat_minor": 0
}
