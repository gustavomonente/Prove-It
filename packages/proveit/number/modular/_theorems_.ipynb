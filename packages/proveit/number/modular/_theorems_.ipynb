{
 "cells": [
  {
   "cell_type": "markdown",
   "metadata": {},
   "source": [
    "Theorems for context <a href=\"_context_.ipynb\" class=\"ProveItLink\">proveit.number.modular</a>\n",
    "========"
   ]
  },
  {
   "cell_type": "code",
   "execution_count": null,
   "metadata": {},
   "outputs": [],
   "source": [
    "import proveit\n",
    "# Automation is not needed when building theorem expressions:\n",
    "proveit.defaults.automation = False # This will speed things up.\n",
    "from proveit._common_ import a, b, c, x, y, N\n",
    "from proveit.logic import Equals, Forall, InSet, NotEquals, SetOfAll\n",
    "from proveit.number import (Abs, Add, LessEq, Interval, IntervalCO,\n",
    "                            Mod, ModAbs, Mult, Neg, subtract)\n",
    "from proveit.number import zero, one, Integers, Reals\n",
    "# the context is in the current directory:\n",
    "context = proveit.Context('.') # adds context root to sys.path if necessary"
   ]
  },
  {
   "cell_type": "code",
   "execution_count": null,
   "metadata": {},
   "outputs": [],
   "source": [
    "%begin theorems"
   ]
  },
  {
   "cell_type": "code",
   "execution_count": null,
   "metadata": {},
   "outputs": [],
   "source": [
    "modIntClosure = Forall(\n",
    "    (a, b),\n",
    "    InSet(Mod(a, b), Integers),\n",
    "    domain=Integers,\n",
    "    conditions=[NotEquals(b, zero)])"
   ]
  },
  {
   "cell_type": "code",
   "execution_count": null,
   "metadata": {},
   "outputs": [],
   "source": [
    "modInInterval = Forall(\n",
    "    (a, b),\n",
    "    InSet(Mod(a, b), Interval(zero, subtract(b, one))),\n",
    "    domain=Integers,\n",
    "    conditions=[NotEquals(b, zero)])"
   ]
  },
  {
   "cell_type": "code",
   "execution_count": null,
   "metadata": {},
   "outputs": [],
   "source": [
    "modRealClosure = Forall(\n",
    "    (a, b),\n",
    "    InSet(Mod(a, b), Reals),\n",
    "    domain=Reals,\n",
    "    conditions=[NotEquals(b, zero)])"
   ]
  },
  {
   "cell_type": "code",
   "execution_count": null,
   "metadata": {},
   "outputs": [],
   "source": [
    "modAbsRealClosure = Forall(\n",
    "    (a, b),\n",
    "    InSet(ModAbs(a, b), Reals),\n",
    "    domain=Reals,\n",
    "    conditions=[NotEquals(b, zero)])"
   ]
  },
  {
   "cell_type": "code",
   "execution_count": null,
   "metadata": {},
   "outputs": [],
   "source": [
    "modInIntervalCO = Forall(\n",
    "    (a, b),\n",
    "    InSet(Mod(a, b), IntervalCO(zero, b)),\n",
    "    domain=Reals,\n",
    "    conditions=[NotEquals(b, zero)])"
   ]
  },
  {
   "cell_type": "code",
   "execution_count": null,
   "metadata": {},
   "outputs": [],
   "source": [
    "modAbsScaled = Forall(\n",
    "    (a, b, c),\n",
    "    Equals(Mult(a, ModAbs(b, c)), ModAbs(Mult(a, b), Mult(a, c))),\n",
    "    domain=Reals)"
   ]
  },
  {
   "cell_type": "code",
   "execution_count": null,
   "metadata": {},
   "outputs": [],
   "source": [
    "modAbsSubtractCancel = Forall(\n",
    "    (a, b, c),\n",
    "    LessEq(ModAbs(subtract(Mod(Add(b, a), c), b), c), Abs(a)),\n",
    "    domain=Reals,\n",
    "    conditions=[NotEquals(c, zero)])"
   ]
  },
  {
   "cell_type": "code",
   "execution_count": null,
   "metadata": {},
   "outputs": [],
   "source": [
    "fullModularRangeEquiv = Forall(\n",
    "    (N, a, b),\n",
    "    Equals(SetOfAll(x, Mod(x, N), domain=Interval(a, b)),\n",
    "           Interval(zero, subtract(N, one))),\n",
    "    domain=Integers,\n",
    "    conditions=[Equals(subtract(b, a), subtract(N, one)), NotEquals(N, zero)])"
   ]
  },
  {
   "cell_type": "code",
   "execution_count": null,
   "metadata": {},
   "outputs": [],
   "source": [
    "fullModularRangeEquivLeftShift = Forall(\n",
    "    (N, a, b, c),\n",
    "    Equals(SetOfAll(x, Mod(Add(c, x), N), domain=Interval(a, b)),\n",
    "           Interval(zero, subtract(N, one))),\n",
    "    domain=Integers,\n",
    "    conditions=[Equals(subtract(b, a), subtract(N, one)), NotEquals(N, zero)])"
   ]
  },
  {
   "cell_type": "code",
   "execution_count": null,
   "metadata": {},
   "outputs": [],
   "source": [
    "fullModularRangeEquivRightShift = Forall(\n",
    "    (N, a, b, c),\n",
    "    Equals(SetOfAll(x, Mod(Add(x, c), N), domain=Interval(a, b)),\n",
    "           Interval(zero, subtract(N, one))),\n",
    "    domain=Integers,\n",
    "    conditions=[Equals(subtract(b, a), subtract(N, one)), NotEquals(N, zero)])"
   ]
  },
  {
   "cell_type": "code",
   "execution_count": null,
   "metadata": {},
   "outputs": [],
   "source": [
    "%end theorems"
   ]
  },
  {
   "cell_type": "code",
   "execution_count": null,
   "metadata": {},
   "outputs": [],
   "source": []
  }
 ],
 "metadata": {
  "kernelspec": {
   "display_name": "Python 3",
   "language": "python",
   "name": "python3"
  }
 },
 "nbformat": 4,
 "nbformat_minor": 0
}
