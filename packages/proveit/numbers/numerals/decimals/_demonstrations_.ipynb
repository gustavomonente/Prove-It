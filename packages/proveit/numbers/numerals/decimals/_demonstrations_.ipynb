{
 "cells": [
  {
   "cell_type": "markdown",
   "metadata": {},
   "source": [
    "Demonstrations for the theory of <a class=\"ProveItLink\" href=\"_theory_.ipynb\">proveit.numbers.numerals.decimals</a>\n",
    "========"
   ]
  },
  {
   "cell_type": "code",
   "execution_count": null,
   "metadata": {},
   "outputs": [],
   "source": [
    "import proveit\n",
    "from proveit import ExprRange, ExprTuple, varRange, IndexedVar, defaults\n",
    "from proveit.logic import Forall, Equals, InSet, Set\n",
    "from proveit.numbers import zero, one, two, three, four, five, six, seven, eight, nine\n",
    "from proveit.numbers import (one, num, Add, Mult, Less, LesserSequence, \n",
    "                            Natural, NaturalPos, subtract)\n",
    "from proveit.numbers.numerals.decimals import DecimalSequence\n",
    "from proveit.core_expr_types import Len\n",
    "from proveit._common_ import A, a, b, c, d, e, f, g, h, i, j, k, m, n, x\n",
    "#from proveit.core_expr_types.expr_arrays._common_ import Aij\n",
    "from proveit.numbers.numerals.decimals._theorems_ import count_to_1_range, md_only_nine_add_one, md_nine_add_one, add_1_1, tuple_len_2, count_to_1_range\n",
    "from proveit.numbers.numerals.decimals._common_ import Digits\n",
    "from proveit.core_expr_types.tuples._axioms_ import tuple_len_incr, tuple_len_0\n",
    "from proveit.core_expr_types.tuples. _theorems_ import n_repeats_reduction\n",
    "\n",
    "%begin demonstrations"
   ]
  },
  {
   "cell_type": "code",
   "execution_count": null,
   "metadata": {},
   "outputs": [],
   "source": [
    "InSet(one, Digits).prove()"
   ]
  },
  {
   "cell_type": "code",
   "execution_count": null,
   "metadata": {},
   "outputs": [],
   "source": [
    "InSet(num(10), Natural).prove()"
   ]
  },
  {
   "cell_type": "code",
   "execution_count": null,
   "metadata": {},
   "outputs": [],
   "source": [
    "from proveit.numbers.numerals.decimals._theorems_ import deci_sequence_in_natural\n",
    "deci_sequence_in_natural"
   ]
  },
  {
   "cell_type": "code",
   "execution_count": null,
   "metadata": {},
   "outputs": [],
   "source": [
    "deci_sequence_in_natural.instantiate({n: two, a:num(10).digits})"
   ]
  },
  {
   "cell_type": "code",
   "execution_count": null,
   "metadata": {},
   "outputs": [],
   "source": [
    "test = DecimalSequence(one, three).operands"
   ]
  },
  {
   "cell_type": "code",
   "execution_count": null,
   "metadata": {},
   "outputs": [],
   "source": [
    "md_nine_add_one.instantiate({m: two, k: zero, a: test, b:two})"
   ]
  },
  {
   "cell_type": "code",
   "execution_count": null,
   "metadata": {},
   "outputs": [],
   "source": [
    "md_nine_add_one.instantiate({m: one, k: zero, ExprTuple(ExprRange(i, IndexedVar(a, i), one, one)): ExprTuple(one), b:two})"
   ]
  },
  {
   "cell_type": "code",
   "execution_count": null,
   "metadata": {},
   "outputs": [],
   "source": [
    "# Fails due to some interesting python arithmetic that is not supported/proven by Prove-It\n",
    "#subtract(num(12), one).evaluation()"
   ]
  },
  {
   "cell_type": "code",
   "execution_count": null,
   "metadata": {},
   "outputs": [],
   "source": [
    "from proveit.numbers.numerals.decimals._theorems_ import deci_sequence_reduction_ER, reduce_4_repeats"
   ]
  },
  {
   "cell_type": "code",
   "execution_count": null,
   "metadata": {},
   "outputs": [],
   "source": [
    "deci_sequence_reduction_ER"
   ]
  },
  {
   "cell_type": "code",
   "execution_count": null,
   "metadata": {},
   "outputs": [],
   "source": [
    "reduction = reduce_4_repeats.instantiate({x:nine})"
   ]
  },
  {
   "cell_type": "code",
   "execution_count": null,
   "metadata": {},
   "outputs": [],
   "source": [
    "Add(num(11), one)._integerBinaryEval()"
   ]
  },
  {
   "cell_type": "code",
   "execution_count": null,
   "metadata": {},
   "outputs": [],
   "source": [
    "# uses subtraction that doesn't work correctly yet\n",
    "# DecimalSequence(ExprRange(i, nine, one, num(12))).reduce_exprRange(assumptions=[InSet(nine, Set(zero, one, two, three, \n",
    "#                                                                                                 four, five, six, \n",
    "#                                                                     seven, eight, nine)), InSet(num(12), NaturalPos),\n",
    "#                                                                                InSet(num(10), Natural), InSet(one, Set(zero, \n",
    "#                                                                                                                         one, two, three, \n",
    "#                                                                                                 four, five, six, \n",
    "#                                                                     seven, eight, nine))]).proof()"
   ]
  },
  {
   "cell_type": "code",
   "execution_count": null,
   "metadata": {},
   "outputs": [],
   "source": [
    "deci_sequence_reduction_ER.instantiate({m:zero, n:four, k:zero, a:ExprTuple(), b:nine, \n",
    "                                      c: reduction.rhs, d:ExprTuple()}).proof()"
   ]
  },
  {
   "cell_type": "code",
   "execution_count": null,
   "metadata": {},
   "outputs": [],
   "source": [
    "n_repeats_reduction.instantiate({n: four, x: nine}, assumptions=[])"
   ]
  },
  {
   "cell_type": "code",
   "execution_count": null,
   "metadata": {},
   "outputs": [],
   "source": [
    "# similar issue as cell 9 above - Judgment Equality with 'self on left side'\n",
    "# DecimalSequence(ExprRange(i, seven, one, num(11))).reduce_exprRange(assumptions=[InSet(seven, Set(zero, one, two, three,\n",
    "#                                                                                             four, five, six, seven,\n",
    "#                                                                                             eight, nine)),\n",
    "#                                                                                                  InSet(one, Set(zero, one, two, three,\n",
    "#                                                                                             four, five, six, seven,\n",
    "#                                                                                             eight, nine)), InSet(num(11), NaturalPos)])"
   ]
  },
  {
   "cell_type": "code",
   "execution_count": null,
   "metadata": {},
   "outputs": [],
   "source": [
    "test = Equals(Add(two, two), Add(three, one))"
   ]
  },
  {
   "cell_type": "code",
   "execution_count": null,
   "metadata": {},
   "outputs": [],
   "source": [
    "t2 = Equals(Add(three, one), four)"
   ]
  },
  {
   "cell_type": "code",
   "execution_count": null,
   "metadata": {},
   "outputs": [],
   "source": [
    "t2.subRightSideInto(test)"
   ]
  },
  {
   "cell_type": "code",
   "execution_count": null,
   "metadata": {},
   "outputs": [],
   "source": [
    "from proveit.numbers.numerals.decimals._theorems_ import reduce_4_repeats"
   ]
  },
  {
   "cell_type": "code",
   "execution_count": null,
   "metadata": {},
   "outputs": [],
   "source": [
    "DecimalSequence(one, two, ExprTuple(one, two, three), five, six)"
   ]
  },
  {
   "cell_type": "code",
   "execution_count": null,
   "metadata": {},
   "outputs": [],
   "source": [
    "DecimalSequence(ExprRange(i, nine, one, four)).digits[0]"
   ]
  },
  {
   "cell_type": "code",
   "execution_count": null,
   "metadata": {},
   "outputs": [],
   "source": [
    "DecimalSequence(ExprRange(i, nine, one, four)).reduce_exprRange(assumptions=[InSet(nine, \n",
    "                                                                                   Set(zero, one, two, three, four, five, six, \n",
    "                                                                                       seven, eight, nine))])"
   ]
  },
  {
   "cell_type": "code",
   "execution_count": null,
   "metadata": {},
   "outputs": [],
   "source": [
    "DecimalSequence(one, three, seven).innerExpr().operands"
   ]
  },
  {
   "cell_type": "code",
   "execution_count": null,
   "metadata": {},
   "outputs": [],
   "source": [
    "DecimalSequence(one, three, seven).innerExpr().digits"
   ]
  },
  {
   "cell_type": "code",
   "execution_count": null,
   "metadata": {},
   "outputs": [],
   "source": [
    "digits =Set(zero, one, two, three, four, five, six, seven, eight, nine)"
   ]
  },
  {
   "cell_type": "code",
   "execution_count": null,
   "metadata": {},
   "outputs": [],
   "source": [
    "DecimalSequence(one, Add(zero, one)).innerExpr().operands[:1]"
   ]
  },
  {
   "cell_type": "code",
   "execution_count": null,
   "metadata": {},
   "outputs": [],
   "source": [
    "DecimalSequence(one, Add(zero, one)).auto_reduction(assumptions=[InSet(one, digits), InSet(zero, digits)])"
   ]
  },
  {
   "cell_type": "code",
   "execution_count": null,
   "metadata": {},
   "outputs": [],
   "source": [
    "List2 = ExprTuple(a, b, c, d, e, f, g, h)"
   ]
  },
  {
   "cell_type": "code",
   "execution_count": null,
   "metadata": {},
   "outputs": [],
   "source": [
    "ExprTuple(List2.entries)"
   ]
  },
  {
   "cell_type": "code",
   "execution_count": null,
   "metadata": {},
   "outputs": [],
   "source": [
    "test = tuple_len_incr.instantiate({i: num(len(List2.entries) - 1), a: List2.entries[:-1], b: List2.entries[-1]})"
   ]
  },
  {
   "cell_type": "code",
   "execution_count": null,
   "metadata": {},
   "outputs": [],
   "source": [
    "from proveit import Lambda"
   ]
  },
  {
   "cell_type": "code",
   "execution_count": null,
   "metadata": {},
   "outputs": [],
   "source": [
    "Equals(Add(seven, one), eight).subRightSideInto(test)"
   ]
  },
  {
   "cell_type": "code",
   "execution_count": null,
   "metadata": {},
   "outputs": [],
   "source": [
    "Add(seven, one)._integerBinaryEval()"
   ]
  },
  {
   "cell_type": "code",
   "execution_count": null,
   "metadata": {},
   "outputs": [],
   "source": [
    "# Able to compute the length of 11\n",
    "Len(ExprTuple(a, b, c, d, e, f, g, h, i, k, m)).evaluation().prove()"
   ]
  },
  {
   "cell_type": "code",
   "execution_count": null,
   "metadata": {},
   "outputs": [],
   "source": []
  },
  {
   "cell_type": "code",
   "execution_count": null,
   "metadata": {},
   "outputs": [],
   "source": [
    "Add(num(10), one).evaluation()"
   ]
  },
  {
   "cell_type": "code",
   "execution_count": null,
   "metadata": {},
   "outputs": [],
   "source": [
    "md_nine_add_one.instantiate({m:one, k:zero, a:ExprTuple(one), b: zero})"
   ]
  },
  {
   "cell_type": "code",
   "execution_count": null,
   "metadata": {},
   "outputs": [],
   "source": [
    "#md_nine_add_one.instantiate({m:one, k:zero, a:ExprTuple(one), b: zero}, assumptions=[InSet(one, digits), InSet(zero, digits)]).innerExpr().rhs.operands[-1].evaluate()"
   ]
  },
  {
   "cell_type": "code",
   "execution_count": null,
   "metadata": {},
   "outputs": [],
   "source": [
    "Len(ExprTuple(a, b, c, d, e, f, g, h, i, k, m)).evaluation()"
   ]
  },
  {
   "cell_type": "code",
   "execution_count": null,
   "metadata": {},
   "outputs": [],
   "source": [
    "Equals(Len(ExprTuple(a, b , c, d, e, f, g, h, i, k, m)), \n",
    "       Len(varRange(a, one, num(11)))\n",
    "      ).prove()"
   ]
  },
  {
   "cell_type": "code",
   "execution_count": null,
   "metadata": {},
   "outputs": [],
   "source": [
    "Equals(Len(ExprTuple(a, b , c, d, e, f, g, h, i, k, m)), num(11)).prove()"
   ]
  },
  {
   "cell_type": "code",
   "execution_count": null,
   "metadata": {},
   "outputs": [],
   "source": []
  },
  {
   "cell_type": "code",
   "execution_count": null,
   "metadata": {},
   "outputs": [],
   "source": [
    "Equals(Len(ExprTuple(a, b, c, d, e, f, g, h, i, k, m, n)), num(12)).prove()"
   ]
  },
  {
   "cell_type": "code",
   "execution_count": null,
   "metadata": {},
   "outputs": [],
   "source": []
  },
  {
   "cell_type": "code",
   "execution_count": null,
   "metadata": {},
   "outputs": [],
   "source": [
    "tuple_len_incr"
   ]
  },
  {
   "cell_type": "code",
   "execution_count": null,
   "metadata": {},
   "outputs": [],
   "source": [
    "tuple_len_incr.instantiate({i: num(11), a: ExprTuple(a, b, c, d, e, f, g, h, i, k, m), b: ExprTuple(n)})"
   ]
  },
  {
   "cell_type": "code",
   "execution_count": null,
   "metadata": {},
   "outputs": [],
   "source": [
    "md_nine_add_one"
   ]
  },
  {
   "cell_type": "code",
   "execution_count": null,
   "metadata": {},
   "outputs": [],
   "source": [
    "md_nine_add_one.instantiate({m: one, k: zero, a: ExprTuple(one), b: one}).proof()"
   ]
  },
  {
   "cell_type": "code",
   "execution_count": null,
   "metadata": {},
   "outputs": [],
   "source": [
    "tuple_len_incr.instantiate({a:tuple_len_0.lhs.operands[0], b:a, i: tuple_len_0.rhs}, assumptions=[]).prove()"
   ]
  },
  {
   "cell_type": "code",
   "execution_count": null,
   "metadata": {},
   "outputs": [],
   "source": [
    "nines = num(9999999999)"
   ]
  },
  {
   "cell_type": "code",
   "execution_count": null,
   "metadata": {},
   "outputs": [],
   "source": [
    "#md_only_nine_add_one.instantiate({k: five}, assumptions=[])"
   ]
  },
  {
   "cell_type": "code",
   "execution_count": null,
   "metadata": {},
   "outputs": [],
   "source": [
    "number = num(9999993)"
   ]
  },
  {
   "cell_type": "code",
   "execution_count": null,
   "metadata": {},
   "outputs": [],
   "source": []
  },
  {
   "cell_type": "code",
   "execution_count": null,
   "metadata": {},
   "outputs": [],
   "source": [
    "Add(number, one)._integerBinaryEval()"
   ]
  },
  {
   "cell_type": "code",
   "execution_count": null,
   "metadata": {},
   "outputs": [],
   "source": [
    "number.numAddEval(one)"
   ]
  },
  {
   "cell_type": "code",
   "execution_count": null,
   "metadata": {},
   "outputs": [],
   "source": [
    "number.digits"
   ]
  },
  {
   "cell_type": "code",
   "execution_count": null,
   "metadata": {},
   "outputs": [],
   "source": [
    "md_nine_add_one"
   ]
  },
  {
   "cell_type": "code",
   "execution_count": null,
   "metadata": {},
   "outputs": [],
   "source": [
    "number = num(386749999)"
   ]
  },
  {
   "cell_type": "code",
   "execution_count": null,
   "metadata": {},
   "outputs": [],
   "source": [
    "Len(DecimalSequence(three, eight, six, seven, four, ExprRange(i, nine, one, four)).digits)"
   ]
  },
  {
   "cell_type": "code",
   "execution_count": null,
   "metadata": {},
   "outputs": [],
   "source": [
    "# md_nine_add_one.instantiate({m: four, k: four, a: number.digits[:-5], \n",
    "#                             b: number.digits[-5]}, \n",
    "#                            assumptions=[])"
   ]
  },
  {
   "cell_type": "code",
   "execution_count": null,
   "metadata": {},
   "outputs": [],
   "source": [
    "# need to redo .asInt() method to handle DecimalSequences because the .string() does not return the correct number\n",
    "# md_nine_add_one.instantiate({m: four, k: four, ExprTuple(varRange(a, one, four)): number.digits[:-5], \n",
    "#                             b: number.digits[-5]}, \n",
    "#                            assumptions=[InSet(three, Digit), InSet(eight, Digit), \n",
    "#                                         InSet(six, Digit), InSet(seven, Digit), InSet(four, Digit), InSet(one, Digit),\n",
    "#                                        InSet(five, Digit), InSet(zero, Digit)])"
   ]
  },
  {
   "cell_type": "code",
   "execution_count": null,
   "metadata": {},
   "outputs": [],
   "source": [
    "# same issue as cell above\n",
    "#Add(number, one).doReducedEvaluation()"
   ]
  },
  {
   "cell_type": "code",
   "execution_count": null,
   "metadata": {},
   "outputs": [],
   "source": []
  },
  {
   "cell_type": "code",
   "execution_count": null,
   "metadata": {},
   "outputs": [],
   "source": [
    "# Add(number, one).evaluation(assumptions=[InSet(zero, NaturalPos), InSet(three, Digit), InSet(eight, Digit), \n",
    "#                                         InSet(six, Digit), InSet(seven, Digit), InSet(four, Digit), InSet(one, Digit),\n",
    "#                                        InSet(five, Digit), InSet(zero, Digit)])"
   ]
  },
  {
   "cell_type": "code",
   "execution_count": null,
   "metadata": {},
   "outputs": [],
   "source": [
    "%end demonstrations"
   ]
  },
  {
   "cell_type": "code",
   "execution_count": null,
   "metadata": {},
   "outputs": [],
   "source": []
  }
 ],
 "metadata": {
  "kernelspec": {
   "display_name": "Python 3",
   "language": "python",
   "name": "python3"
  }
 },
 "nbformat": 4,
 "nbformat_minor": 0
}
