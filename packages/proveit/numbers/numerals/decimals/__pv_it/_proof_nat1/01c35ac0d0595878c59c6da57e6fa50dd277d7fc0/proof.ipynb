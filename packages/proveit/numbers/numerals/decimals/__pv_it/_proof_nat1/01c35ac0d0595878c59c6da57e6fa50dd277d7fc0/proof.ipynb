{
 "cells": [
  {
   "cell_type": "markdown",
   "metadata": {},
   "source": [
    "Show the Proof\n",
    "========"
   ]
  },
  {
   "cell_type": "code",
   "execution_count": 1,
   "metadata": {},
   "outputs": [
    {
     "data": {
      "text/html": [
       "<table><tr><th>&nbsp;</th><th>step type</th><th>requirements</th><th>statement</th></tr>\n",
       "<tr><td><a name=\"proveit.numbers.numerals.decimals._proof_nat1.01c35ac0d0595878c59c6da57e6fa50dd277d7fc0_step0\">0</a></td><td>instantiation</td><td><a href=\"#proveit.numbers.numerals.decimals._proof_nat1.01c35ac0d0595878c59c6da57e6fa50dd277d7fc0_step1\">1</a>, <a href=\"#proveit.numbers.numerals.decimals._proof_nat1.01c35ac0d0595878c59c6da57e6fa50dd277d7fc0_step2\">2</a>, <a href=\"#proveit.numbers.numerals.decimals._proof_nat1.01c35ac0d0595878c59c6da57e6fa50dd277d7fc0_step3\">3</a></td><td><span style=\"font-size:20px;\"> <a class=\"ProveItLink\" href=\"proof.ipynb\" style=\"text-decoration: none\">&nbsp;&#x22A2;&nbsp;&nbsp;</a><a class=\"ProveItLink\" href=\"../../theorems/7fb9a05424b991456a1d535347793e2786ff41910/expr.ipynb\"><img src=\"../../theorems/7fb9a05424b991456a1d535347793e2786ff41910/expr.png\" style=\"display:inline;vertical-align:middle;\" /></a></span></td></tr>\n",
       "<tr><td>&nbsp;</td><td colspan=4 style=\"text-align:left\"><span style=\"font-size:20px;\"><a class=\"ProveItLink\" href=\"../84fb6bfbf82ffd89b2e4fb128d4f37cc62a695fa0/expr.ipynb\"><img src=\"../84fb6bfbf82ffd89b2e4fb128d4f37cc62a695fa0/expr.png\" style=\"display:inline;vertical-align:middle;\" /></a> : <a class=\"ProveItLink\" href=\"../60415471b7528dbf2dd9627a4b3939fc595178b40/expr.ipynb\"><img src=\"../60415471b7528dbf2dd9627a4b3939fc595178b40/expr.png\" style=\"display:inline;vertical-align:middle;\" /></a>, <a class=\"ProveItLink\" href=\"../../../../../../__pv_it/common/a0d9d672aa5e272d907247690c152cc2c6daafb70/expr.ipynb\"><img src=\"../../../../../../__pv_it/common/a0d9d672aa5e272d907247690c152cc2c6daafb70/expr.png\" style=\"display:inline;vertical-align:middle;\" /></a> : <a class=\"ProveItLink\" href=\"../../../../__pv_it/common/2778428c7f555b2bdc06aa0530bc142c6e6335100/expr.ipynb\"><img src=\"../../../../__pv_it/common/2778428c7f555b2bdc06aa0530bc142c6e6335100/expr.png\" style=\"display:inline;vertical-align:middle;\" /></a>, <a class=\"ProveItLink\" href=\"../../../../../../__pv_it/common/ff7dba4ef0bbe791ab573bf2d9c220a304399ac80/expr.ipynb\"><img src=\"../../../../../../__pv_it/common/ff7dba4ef0bbe791ab573bf2d9c220a304399ac80/expr.png\" style=\"display:inline;vertical-align:middle;\" /></a> : <a class=\"ProveItLink\" href=\"../../axioms/ce50d5c1ac62f698980a68e78dd1e12939417fac0/expr.ipynb\"><img src=\"../../axioms/ce50d5c1ac62f698980a68e78dd1e12939417fac0/expr.png\" style=\"display:inline;vertical-align:middle;\" /></a></span></td></tr><tr><td><a name=\"proveit.numbers.numerals.decimals._proof_nat1.01c35ac0d0595878c59c6da57e6fa50dd277d7fc0_step1\">1</a></td><td>theorem</td><td></td><td><span style=\"font-size:20px;\"> <a class=\"ProveItLink\" href=\"../../../../../../logic/equality/_theory_nbs_/proofs/sub_left_side_into/thm_proof.ipynb\" style=\"text-decoration: none\">&nbsp;&#x22A2;&nbsp;&nbsp;</a><a class=\"ProveItLink\" href=\"../../../../../../logic/equality/__pv_it/theorems/8c444378a3a7afbc2953d40707cf277d9e5724670/expr.ipynb\"><img src=\"../../../../../../logic/equality/__pv_it/theorems/8c444378a3a7afbc2953d40707cf277d9e5724670/expr.png\" style=\"display:inline;vertical-align:middle;\" /></a></span></td></tr>\n",
       "<tr><td>&nbsp;</td><td colspan=4 style-\"text-align:left\"><a class=\"ProveItLink\" href=\"../../../../../../logic/equality/_theory_nbs_/proofs/sub_left_side_into/thm_proof.ipynb\">proveit.logic.equality.sub_left_side_into</a></td></tr><tr><td><a name=\"proveit.numbers.numerals.decimals._proof_nat1.01c35ac0d0595878c59c6da57e6fa50dd277d7fc0_step2\">2</a></td><td>instantiation</td><td><a href=\"#proveit.numbers.numerals.decimals._proof_nat1.01c35ac0d0595878c59c6da57e6fa50dd277d7fc0_step4\">4</a>, <a href=\"#proveit.numbers.numerals.decimals._proof_nat1.01c35ac0d0595878c59c6da57e6fa50dd277d7fc0_step5\">5</a></td><td><span style=\"font-size:20px;\"> <a class=\"ProveItLink\" href=\"../c76ca897faff3ef82271ec69bbda39cbb3d283b50/proof.ipynb\" style=\"text-decoration: none\">&nbsp;&#x22A2;&nbsp;&nbsp;</a><a class=\"ProveItLink\" href=\"../c5c99b07b6d5c8f43d8e1f17d63c21d24a37c51d0/expr.ipynb\"><img src=\"../c5c99b07b6d5c8f43d8e1f17d63c21d24a37c51d0/expr.png\" style=\"display:inline;vertical-align:middle;\" /></a></span></td></tr>\n",
       "<tr><td>&nbsp;</td><td colspan=4 style=\"text-align:left\"><span style=\"font-size:20px;\"><a class=\"ProveItLink\" href=\"../../../../../../__pv_it/common/8968bb04eb3f7dfa02353397ce929b025bbd79c20/expr.ipynb\"><img src=\"../../../../../../__pv_it/common/8968bb04eb3f7dfa02353397ce929b025bbd79c20/expr.png\" style=\"display:inline;vertical-align:middle;\" /></a> : <a class=\"ProveItLink\" href=\"../../../../__pv_it/common/7d0a36793ffe8d307a5c120ee5598162e8cd2db10/expr.ipynb\"><img src=\"../../../../__pv_it/common/7d0a36793ffe8d307a5c120ee5598162e8cd2db10/expr.png\" style=\"display:inline;vertical-align:middle;\" /></a></span></td></tr><tr><td><a name=\"proveit.numbers.numerals.decimals._proof_nat1.01c35ac0d0595878c59c6da57e6fa50dd277d7fc0_step3\">3</a></td><td>axiom</td><td></td><td><span style=\"font-size:20px;\"> <a class=\"ProveItLink\" href=\"../../../_theory_nbs_/axioms.ipynb#one_def\" style=\"text-decoration: none\">&nbsp;&#x22A2;&nbsp;&nbsp;</a><a class=\"ProveItLink\" href=\"../../axioms/58fe78e5dae28e9d8f11281c875767fa467140140/expr.ipynb\"><img src=\"../../axioms/58fe78e5dae28e9d8f11281c875767fa467140140/expr.png\" style=\"display:inline;vertical-align:middle;\" /></a></span></td></tr>\n",
       "<tr><td>&nbsp;</td><td colspan=4 style-\"text-align:left\"><a class=\"ProveItLink\" href=\"../../../_theory_nbs_/axioms.ipynb#one_def\">proveit.numbers.numerals.decimals.one_def</a></td></tr><tr><td><a name=\"proveit.numbers.numerals.decimals._proof_nat1.01c35ac0d0595878c59c6da57e6fa50dd277d7fc0_step4\">4</a></td><td>axiom</td><td></td><td><span style=\"font-size:20px;\"> <a class=\"ProveItLink\" href=\"../../../../../number_sets/natural_numbers/_theory_nbs_/axioms.ipynb#successor_in_nats\" style=\"text-decoration: none\">&nbsp;&#x22A2;&nbsp;&nbsp;</a><a class=\"ProveItLink\" href=\"../../../../../number_sets/natural_numbers/__pv_it/axioms/f3a49da770e4d222eaa27aba165c392838336ed70/expr.ipynb\"><img src=\"../../../../../number_sets/natural_numbers/__pv_it/axioms/f3a49da770e4d222eaa27aba165c392838336ed70/expr.png\" style=\"display:inline;vertical-align:middle;\" /></a></span></td></tr>\n",
       "<tr><td>&nbsp;</td><td colspan=4 style-\"text-align:left\"><a class=\"ProveItLink\" href=\"../../../../../number_sets/natural_numbers/_theory_nbs_/axioms.ipynb#successor_in_nats\">proveit.numbers.number_sets.natural_numbers.successor_in_nats</a></td></tr><tr><td><a name=\"proveit.numbers.numerals.decimals._proof_nat1.01c35ac0d0595878c59c6da57e6fa50dd277d7fc0_step5\">5</a></td><td>axiom</td><td></td><td><span style=\"font-size:20px;\"> <a class=\"ProveItLink\" href=\"../../../../../number_sets/natural_numbers/_theory_nbs_/axioms.ipynb#zero_in_nats\" style=\"text-decoration: none\">&nbsp;&#x22A2;&nbsp;&nbsp;</a><a class=\"ProveItLink\" href=\"../../../../../number_sets/natural_numbers/__pv_it/axioms/41585b68a7dd1d513f84c532999561d9671aca5e0/expr.ipynb\"><img src=\"../../../../../number_sets/natural_numbers/__pv_it/axioms/41585b68a7dd1d513f84c532999561d9671aca5e0/expr.png\" style=\"display:inline;vertical-align:middle;\" /></a></span></td></tr>\n",
       "<tr><td>&nbsp;</td><td colspan=4 style-\"text-align:left\"><a class=\"ProveItLink\" href=\"../../../../../number_sets/natural_numbers/_theory_nbs_/axioms.ipynb#zero_in_nats\">proveit.numbers.number_sets.natural_numbers.zero_in_nats</a></td></tr></table>"
      ],
      "text/plain": [
       "<proveit._core_.proof._ShowProof at 0x7fb7546bad68>"
      ]
     },
     "execution_count": 1,
     "metadata": {},
     "output_type": "execute_result"
    }
   ],
   "source": [
    "import proveit\n",
    "# Automation is not needed when only showing a stored proof:\n",
    "proveit.defaults.automation = False # This will speed things up.\n",
    "proveit.defaults.inline_pngs = False # Makes files smaller.\n",
    "%show_proof"
   ]
  },
  {
   "cell_type": "code",
   "execution_count": null,
   "metadata": {},
   "outputs": [],
   "source": []
  }
 ],
 "metadata": {
  "kernelspec": {
   "display_name": "Python 3",
   "language": "python",
   "name": "python3"
  }
 },
 "nbformat": 4,
 "nbformat_minor": 0
}