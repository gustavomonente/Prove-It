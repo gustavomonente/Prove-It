{
 "cells": [
  {
   "cell_type": "markdown",
   "metadata": {},
   "source": [
    "Expression of type <a class=\"ProveItLink\" href=\"../../../../../../../../doc/html/api/proveit.ExprTuple.html\">ExprTuple</a>\n",
    "=======================\n",
    "# from the theory of <a class=\"ProveItLink\" href=\"../../../_theory_nbs_/theory.ipynb\">proveit.numbers.numerals.decimals</a>"
   ]
  },
  {
   "cell_type": "code",
   "execution_count": 1,
   "metadata": {},
   "outputs": [],
   "source": [
    "import proveit\n",
    "# Automation is not needed when building an expression:\n",
    "proveit.defaults.automation = False # This will speed things up.\n",
    "proveit.defaults.inline_pngs = False # Makes files smaller.\n",
    "%load_expr # Load the stored expression as 'stored_expr'\n",
    "# import Expression classes needed to build the expression\n",
    "from proveit import ExprRange, ExprTuple, Lambda, Variable, i, k\n",
    "from proveit.core_expr_types import Len\n",
    "from proveit.numbers import eight, five, four, nine, one, seven, six, three, two"
   ]
  },
  {
   "cell_type": "code",
   "execution_count": 2,
   "metadata": {},
   "outputs": [
    {
     "data": {
      "text/html": [
       "<strong id=\"expr\">expr:</strong> <a class=\"ProveItLink\" href=\"expr.ipynb\"><img src=\"expr.png\" style=\"display:inline;vertical-align:middle;\" /></a><br>"
      ],
      "text/plain": [
       "expr: (|(_a -> 3, _a -> 8, _a -> 6, _a -> 7, _a -> 4, i -> 9, _a -> 5, _a -> 7, _a -> 2)|, |(1, ..k.., 9)|)"
      ]
     },
     "execution_count": 2,
     "metadata": {},
     "output_type": "execute_result"
    }
   ],
   "source": [
    "# build up the expression from sub-expressions\n",
    "sub_expr1 = Variable(\"_a\", latex_format = r\"{_{-}a}\")\n",
    "sub_expr2 = Lambda(sub_expr1, seven)\n",
    "expr = ExprTuple(Len([Lambda(sub_expr1, three), Lambda(sub_expr1, eight), Lambda(sub_expr1, six), sub_expr2, Lambda(sub_expr1, four), Lambda(i, nine), Lambda(sub_expr1, five), sub_expr2, Lambda(sub_expr1, two)]), Len([ExprRange(k, k, one, nine)]))"
   ]
  },
  {
   "cell_type": "code",
   "execution_count": 3,
   "metadata": {},
   "outputs": [
    {
     "name": "stdout",
     "output_type": "stream",
     "text": [
      "Passed sanity check: expr matches stored_expr\n"
     ]
    }
   ],
   "source": [
    "# check that the built expression is the same as the stored expression\n",
    "assert expr == stored_expr\n",
    "assert expr._style_id == stored_expr._style_id\n",
    "print(\"Passed sanity check: expr matches stored_expr\")"
   ]
  },
  {
   "cell_type": "code",
   "execution_count": 4,
   "metadata": {},
   "outputs": [
    {
     "name": "stdout",
     "output_type": "stream",
     "text": [
      "\\left(|\\left({_{-}a} \\mapsto 3, {_{-}a} \\mapsto 8, {_{-}a} \\mapsto 6, {_{-}a} \\mapsto 7, {_{-}a} \\mapsto 4, i \\mapsto 9, {_{-}a} \\mapsto 5, {_{-}a} \\mapsto 7, {_{-}a} \\mapsto 2\\right)|, |\\left(1, \\ldots, 9\\right)|\\right)\n"
     ]
    }
   ],
   "source": [
    "# Show the LaTeX representation of the expression for convenience if you need it.\n",
    "print(expr.latex())"
   ]
  },
  {
   "cell_type": "code",
   "execution_count": 5,
   "metadata": {},
   "outputs": [
    {
     "data": {
      "text/html": [
       "<table>\n",
       "<tr><th>name</th><th>description</th><th>default</th><th>current value</th><th>related methods</th></tr><tr><td>wrap_positions</td><td>position(s) at which wrapping is to occur; 'n' is after the nth comma.</td><td>()</td><td>()</td><td>('with_wrapping_at',)</td></tr>\n",
       "<tr><td>justification</td><td>if any wrap positions are set, justify to the 'left', 'center', or 'right'</td><td>left</td><td>left</td><td>('with_justification',)</td></tr>\n",
       "</table>\n"
      ],
      "text/plain": [
       "style name: wrap_positions\n",
       "description: position(s) at which wrapping is to occur; 'n' is after the nth comma.\n",
       "default: ()\n",
       "current value: ()\n",
       "related methods: ('with_wrapping_at',)\n",
       "style name: justification\n",
       "description: if any wrap positions are set, justify to the 'left', 'center', or 'right'\n",
       "default: left\n",
       "current value: left\n",
       "related methods: ('with_justification',)"
      ]
     },
     "execution_count": 5,
     "metadata": {},
     "output_type": "execute_result"
    }
   ],
   "source": [
    "expr.style_options()"
   ]
  },
  {
   "cell_type": "code",
   "execution_count": 6,
   "metadata": {},
   "outputs": [
    {
     "data": {
      "text/html": [
       "<table><tr><th>&nbsp;</th><th>core type</th><th>sub-expressions</th><th>expression</th></tr>\n",
       "<tr><td>0</td><td>ExprTuple</td><td>1, 2</td><td><a class=\"ProveItLink\" href=\"expr.ipynb\"><img src=\"expr.png\" style=\"display:inline;vertical-align:middle;\" /></a></td></tr>\n",
       "<tr><td>1</td><td>Operation</td><td>operator:&nbsp;4<br>operand:&nbsp;6<br></td><td><a class=\"ProveItLink\" href=\"../970204e4c64ac8bc88f11e87de18ab9d836272110/expr.ipynb\"><img src=\"../970204e4c64ac8bc88f11e87de18ab9d836272110/expr.png\" style=\"display:inline;vertical-align:middle;\" /></a></td></tr>\n",
       "<tr><td>2</td><td>Operation</td><td>operator:&nbsp;4<br>operand:&nbsp;7<br></td><td><a class=\"ProveItLink\" href=\"../../theorems/58bb082f80cf03b55267936910ad29dfa2d03faf0/expr.ipynb\"><img src=\"../../theorems/58bb082f80cf03b55267936910ad29dfa2d03faf0/expr.png\" style=\"display:inline;vertical-align:middle;\" /></a></td></tr>\n",
       "<tr><td>3</td><td>ExprTuple</td><td>6</td><td><a class=\"ProveItLink\" href=\"../433bf39781fa0c568535568040a0fa6ab74dff120/expr.ipynb\"><img src=\"../433bf39781fa0c568535568040a0fa6ab74dff120/expr.png\" style=\"display:inline;vertical-align:middle;\" /></a></td></tr>\n",
       "<tr><td>4</td><td>Literal</td><td></td><td><a class=\"ProveItLink\" href=\"../../../../../../core_expr_types/tuples/__pv_it/common/29138a46bfd9f58652485fe2e3b1ee46d90d773e0/expr.ipynb\"><img src=\"../../../../../../core_expr_types/tuples/__pv_it/common/29138a46bfd9f58652485fe2e3b1ee46d90d773e0/expr.png\" style=\"display:inline;vertical-align:middle;\" /></a></td></tr>\n",
       "<tr><td>5</td><td>ExprTuple</td><td>7</td><td><a class=\"ProveItLink\" href=\"../../theorems/040e255d55aebd81eafa118a3644b62611fa74150/expr.ipynb\"><img src=\"../../theorems/040e255d55aebd81eafa118a3644b62611fa74150/expr.png\" style=\"display:inline;vertical-align:middle;\" /></a></td></tr>\n",
       "<tr><td>6</td><td>ExprTuple</td><td>8, 9, 10, 14, 11, 12, 13, 14, 15</td><td><a class=\"ProveItLink\" href=\"../2532b3b09b6c11332872a10f9447d6f7bad685740/expr.ipynb\"><img src=\"../2532b3b09b6c11332872a10f9447d6f7bad685740/expr.png\" style=\"display:inline;vertical-align:middle;\" /></a></td></tr>\n",
       "<tr><td>7</td><td>ExprTuple</td><td>16</td><td><a class=\"ProveItLink\" href=\"../../theorems/10ab2fed79cf711acf4bd6f2027bf65aadc57adc0/expr.ipynb\"><img src=\"../../theorems/10ab2fed79cf711acf4bd6f2027bf65aadc57adc0/expr.png\" style=\"display:inline;vertical-align:middle;\" /></a></td></tr>\n",
       "<tr><td>8</td><td>Lambda</td><td>parameter:&nbsp;24<br>body:&nbsp;17<br></td><td><a class=\"ProveItLink\" href=\"../87956b1883055872610a915540df05e8a6a43a4a0/expr.ipynb\"><img src=\"../87956b1883055872610a915540df05e8a6a43a4a0/expr.png\" style=\"display:inline;vertical-align:middle;\" /></a></td></tr>\n",
       "<tr><td>9</td><td>Lambda</td><td>parameter:&nbsp;24<br>body:&nbsp;18<br></td><td><a class=\"ProveItLink\" href=\"../247ac0e7a5e0002e8ef0a15a4328000bd5decfed0/expr.ipynb\"><img src=\"../247ac0e7a5e0002e8ef0a15a4328000bd5decfed0/expr.png\" style=\"display:inline;vertical-align:middle;\" /></a></td></tr>\n",
       "<tr><td>10</td><td>Lambda</td><td>parameter:&nbsp;24<br>body:&nbsp;19<br></td><td><a class=\"ProveItLink\" href=\"../78260921cf5302550ac2928b41a1f9c2023763940/expr.ipynb\"><img src=\"../78260921cf5302550ac2928b41a1f9c2023763940/expr.png\" style=\"display:inline;vertical-align:middle;\" /></a></td></tr>\n",
       "<tr><td>11</td><td>Lambda</td><td>parameter:&nbsp;24<br>body:&nbsp;20<br></td><td><a class=\"ProveItLink\" href=\"../7d617309df3077c9afc03edebd7541ec352a78b80/expr.ipynb\"><img src=\"../7d617309df3077c9afc03edebd7541ec352a78b80/expr.png\" style=\"display:inline;vertical-align:middle;\" /></a></td></tr>\n",
       "<tr><td>12</td><td>Lambda</td><td>parameter:&nbsp;21<br>body:&nbsp;28<br></td><td><a class=\"ProveItLink\" href=\"../../theorems/bad6c5a6c5aa632dc1a93b3a41aa01d17e3570d70/expr.ipynb\"><img src=\"../../theorems/bad6c5a6c5aa632dc1a93b3a41aa01d17e3570d70/expr.png\" style=\"display:inline;vertical-align:middle;\" /></a></td></tr>\n",
       "<tr><td>13</td><td>Lambda</td><td>parameter:&nbsp;24<br>body:&nbsp;22<br></td><td><a class=\"ProveItLink\" href=\"../2e033fe243fdb2cc9bcbe48a0da8d58fefea89750/expr.ipynb\"><img src=\"../2e033fe243fdb2cc9bcbe48a0da8d58fefea89750/expr.png\" style=\"display:inline;vertical-align:middle;\" /></a></td></tr>\n",
       "<tr><td>14</td><td>Lambda</td><td>parameter:&nbsp;24<br>body:&nbsp;23<br></td><td><a class=\"ProveItLink\" href=\"../dd07348f0790ecd77ab60392b7b077c3d9a90a520/expr.ipynb\"><img src=\"../dd07348f0790ecd77ab60392b7b077c3d9a90a520/expr.png\" style=\"display:inline;vertical-align:middle;\" /></a></td></tr>\n",
       "<tr><td>15</td><td>Lambda</td><td>parameter:&nbsp;24<br>body:&nbsp;25<br></td><td><a class=\"ProveItLink\" href=\"../b8287df92348c1dca8091dbd2272325f449627420/expr.ipynb\"><img src=\"../b8287df92348c1dca8091dbd2272325f449627420/expr.png\" style=\"display:inline;vertical-align:middle;\" /></a></td></tr>\n",
       "<tr><td>16</td><td>ExprRange</td><td>lambda_map:&nbsp;26<br>start_index:&nbsp;27<br>end_index:&nbsp;28<br></td><td><a class=\"ProveItLink\" href=\"../../theorems/3ec50780bb6dd716cd4e75b172b249c368739f1a0/expr.ipynb\"><img src=\"../../theorems/3ec50780bb6dd716cd4e75b172b249c368739f1a0/expr.png\" style=\"display:inline;vertical-align:middle;\" /></a></td></tr>\n",
       "<tr><td>17</td><td>Literal</td><td></td><td><a class=\"ProveItLink\" href=\"../../../../__pv_it/common/1477ef887611bedb97dfb89bcacde217bb43e8ed0/expr.ipynb\"><img src=\"../../../../__pv_it/common/1477ef887611bedb97dfb89bcacde217bb43e8ed0/expr.png\" style=\"display:inline;vertical-align:middle;\" /></a></td></tr>\n",
       "<tr><td>18</td><td>Literal</td><td></td><td><a class=\"ProveItLink\" href=\"../../../../__pv_it/common/592dbe06402953549e66dbb2eddb8cb958784f770/expr.ipynb\"><img src=\"../../../../__pv_it/common/592dbe06402953549e66dbb2eddb8cb958784f770/expr.png\" style=\"display:inline;vertical-align:middle;\" /></a></td></tr>\n",
       "<tr><td>19</td><td>Literal</td><td></td><td><a class=\"ProveItLink\" href=\"../../../../__pv_it/common/e92f2eb8875f57bde12b9565488203e625f9ad050/expr.ipynb\"><img src=\"../../../../__pv_it/common/e92f2eb8875f57bde12b9565488203e625f9ad050/expr.png\" style=\"display:inline;vertical-align:middle;\" /></a></td></tr>\n",
       "<tr><td>20</td><td>Literal</td><td></td><td><a class=\"ProveItLink\" href=\"../../../../__pv_it/common/de8f3e06d530f467e73bdbc965d9d86fa0f1b0db0/expr.ipynb\"><img src=\"../../../../__pv_it/common/de8f3e06d530f467e73bdbc965d9d86fa0f1b0db0/expr.png\" style=\"display:inline;vertical-align:middle;\" /></a></td></tr>\n",
       "<tr><td>21</td><td>Variable</td><td></td><td><a class=\"ProveItLink\" href=\"../../../../../../__pv_it/common/575a6156bb1c87c5beeaf38c302b5905ad57f5780/expr.ipynb\"><img src=\"../../../../../../__pv_it/common/575a6156bb1c87c5beeaf38c302b5905ad57f5780/expr.png\" style=\"display:inline;vertical-align:middle;\" /></a></td></tr>\n",
       "<tr><td>22</td><td>Literal</td><td></td><td><a class=\"ProveItLink\" href=\"../../../../__pv_it/common/1468b81bd8f92360858c9ea17a01ea5385ede2690/expr.ipynb\"><img src=\"../../../../__pv_it/common/1468b81bd8f92360858c9ea17a01ea5385ede2690/expr.png\" style=\"display:inline;vertical-align:middle;\" /></a></td></tr>\n",
       "<tr><td>23</td><td>Literal</td><td></td><td><a class=\"ProveItLink\" href=\"../../../../__pv_it/common/b95fab7ea5ddf539bf59447b56d437127ddf4e5f0/expr.ipynb\"><img src=\"../../../../__pv_it/common/b95fab7ea5ddf539bf59447b56d437127ddf4e5f0/expr.png\" style=\"display:inline;vertical-align:middle;\" /></a></td></tr>\n",
       "<tr><td>24</td><td>Variable</td><td></td><td><a class=\"ProveItLink\" href=\"../../../../../../core_expr_types/__pv_it/common/9e6d9d5d7eeb0342cf5bca68def0eb165a1a9bb10/expr.ipynb\"><img src=\"../../../../../../core_expr_types/__pv_it/common/9e6d9d5d7eeb0342cf5bca68def0eb165a1a9bb10/expr.png\" style=\"display:inline;vertical-align:middle;\" /></a></td></tr>\n",
       "<tr><td>25</td><td>Literal</td><td></td><td><a class=\"ProveItLink\" href=\"../../../../__pv_it/common/3829356ce3fdf8f35810c63c00bc1a19e838663e0/expr.ipynb\"><img src=\"../../../../__pv_it/common/3829356ce3fdf8f35810c63c00bc1a19e838663e0/expr.png\" style=\"display:inline;vertical-align:middle;\" /></a></td></tr>\n",
       "<tr><td>26</td><td>Lambda</td><td>parameter:&nbsp;29<br>body:&nbsp;29<br></td><td><a class=\"ProveItLink\" href=\"../../theorems/b1d642f7aaf9195ba4b1745a45dad8ff33c89e460/expr.ipynb\"><img src=\"../../theorems/b1d642f7aaf9195ba4b1745a45dad8ff33c89e460/expr.png\" style=\"display:inline;vertical-align:middle;\" /></a></td></tr>\n",
       "<tr><td>27</td><td>Literal</td><td></td><td><a class=\"ProveItLink\" href=\"../../../../__pv_it/common/d278e359da0695d9652dd541d45264f93703e2e40/expr.ipynb\"><img src=\"../../../../__pv_it/common/d278e359da0695d9652dd541d45264f93703e2e40/expr.png\" style=\"display:inline;vertical-align:middle;\" /></a></td></tr>\n",
       "<tr><td>28</td><td>Literal</td><td></td><td><a class=\"ProveItLink\" href=\"../../../../__pv_it/common/403fe13b47e88338ea89df6ca9c0a25591d1508d0/expr.ipynb\"><img src=\"../../../../__pv_it/common/403fe13b47e88338ea89df6ca9c0a25591d1508d0/expr.png\" style=\"display:inline;vertical-align:middle;\" /></a></td></tr>\n",
       "<tr><td>29</td><td>Variable</td><td></td><td><a class=\"ProveItLink\" href=\"../../../../../../__pv_it/common/b9fd37fc619babc74a6203459f110251586df6970/expr.ipynb\"><img src=\"../../../../../../__pv_it/common/b9fd37fc619babc74a6203459f110251586df6970/expr.png\" style=\"display:inline;vertical-align:middle;\" /></a></td></tr>\n",
       "</table>\n"
      ],
      "text/plain": [
       "0. (|(_a -> 3, _a -> 8, _a -> 6, _a -> 7, _a -> 4, i -> 9, _a -> 5, _a -> 7, _a -> 2)|, |(1, ..k.., 9)|)\n",
       "   core type: ExprTuple\n",
       "   sub-expressions: 1, 2\n",
       "1. |(_a -> 3, _a -> 8, _a -> 6, _a -> 7, _a -> 4, i -> 9, _a -> 5, _a -> 7, _a -> 2)|\n",
       "   core type: Operation\n",
       "   operator: 4\n",
       "   operand: 6\n",
       "2. |(1, ..k.., 9)|\n",
       "   core type: Operation\n",
       "   operator: 4\n",
       "   operand: 7\n",
       "3. ((_a -> 3, _a -> 8, _a -> 6, _a -> 7, _a -> 4, i -> 9, _a -> 5, _a -> 7, _a -> 2))\n",
       "   core type: ExprTuple\n",
       "   sub-expressions: 6\n",
       "4. length\n",
       "   core type: Literal\n",
       "   sub-expressions: \n",
       "5. ((1, ..k.., 9))\n",
       "   core type: ExprTuple\n",
       "   sub-expressions: 7\n",
       "6. (_a -> 3, _a -> 8, _a -> 6, _a -> 7, _a -> 4, i -> 9, _a -> 5, _a -> 7, _a -> 2)\n",
       "   core type: ExprTuple\n",
       "   sub-expressions: 8, 9, 10, 14, 11, 12, 13, 14, 15\n",
       "7. (1, ..k.., 9)\n",
       "   core type: ExprTuple\n",
       "   sub-expressions: 16\n",
       "8. _a -> 3\n",
       "   core type: Lambda\n",
       "   parameter: 24\n",
       "   body: 17\n",
       "9. _a -> 8\n",
       "   core type: Lambda\n",
       "   parameter: 24\n",
       "   body: 18\n",
       "10. _a -> 6\n",
       "    core type: Lambda\n",
       "    parameter: 24\n",
       "    body: 19\n",
       "11. _a -> 4\n",
       "    core type: Lambda\n",
       "    parameter: 24\n",
       "    body: 20\n",
       "12. i -> 9\n",
       "    core type: Lambda\n",
       "    parameter: 21\n",
       "    body: 28\n",
       "13. _a -> 5\n",
       "    core type: Lambda\n",
       "    parameter: 24\n",
       "    body: 22\n",
       "14. _a -> 7\n",
       "    core type: Lambda\n",
       "    parameter: 24\n",
       "    body: 23\n",
       "15. _a -> 2\n",
       "    core type: Lambda\n",
       "    parameter: 24\n",
       "    body: 25\n",
       "16. 1, ..k.., 9\n",
       "    core type: ExprRange\n",
       "    lambda_map: 26\n",
       "    start_index: 27\n",
       "    end_index: 28\n",
       "17. 3\n",
       "    core type: Literal\n",
       "    sub-expressions: \n",
       "18. 8\n",
       "    core type: Literal\n",
       "    sub-expressions: \n",
       "19. 6\n",
       "    core type: Literal\n",
       "    sub-expressions: \n",
       "20. 4\n",
       "    core type: Literal\n",
       "    sub-expressions: \n",
       "21. i\n",
       "    core type: Variable\n",
       "    sub-expressions: \n",
       "22. 5\n",
       "    core type: Literal\n",
       "    sub-expressions: \n",
       "23. 7\n",
       "    core type: Literal\n",
       "    sub-expressions: \n",
       "24. _a\n",
       "    core type: Variable\n",
       "    sub-expressions: \n",
       "25. 2\n",
       "    core type: Literal\n",
       "    sub-expressions: \n",
       "26. k -> k\n",
       "    core type: Lambda\n",
       "    parameter: 29\n",
       "    body: 29\n",
       "27. 1\n",
       "    core type: Literal\n",
       "    sub-expressions: \n",
       "28. 9\n",
       "    core type: Literal\n",
       "    sub-expressions: \n",
       "29. k\n",
       "    core type: Variable\n",
       "    sub-expressions: "
      ]
     },
     "execution_count": 6,
     "metadata": {},
     "output_type": "execute_result"
    }
   ],
   "source": [
    "# display the expression information\n",
    "expr.expr_info()"
   ]
  },
  {
   "cell_type": "code",
   "execution_count": null,
   "metadata": {},
   "outputs": [],
   "source": []
  }
 ],
 "metadata": {
  "kernelspec": {
   "display_name": "Python 3",
   "language": "python",
   "name": "python3"
  }
 },
 "nbformat": 4,
 "nbformat_minor": 0
}