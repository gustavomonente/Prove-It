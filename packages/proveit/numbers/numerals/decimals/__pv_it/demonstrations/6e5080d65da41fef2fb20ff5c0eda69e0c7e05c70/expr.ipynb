{
 "cells": [
  {
   "cell_type": "markdown",
   "metadata": {},
   "source": [
    "Expression of type <a class=\"ProveItLink\" href=\"../../../../../../../../doc/html/api/proveit.ExprTuple.html\">ExprTuple</a>\n",
    "=======================\n",
    "# from the theory of <a class=\"ProveItLink\" href=\"../../../_theory_nbs_/theory.ipynb\">proveit.numbers.numerals.decimals</a>"
   ]
  },
  {
   "cell_type": "code",
   "execution_count": 1,
   "metadata": {},
   "outputs": [],
   "source": [
    "import proveit\n",
    "# Automation is not needed when building an expression:\n",
    "proveit.defaults.automation = False # This will speed things up.\n",
    "proveit.defaults.inline_pngs = False # Makes files smaller.\n",
    "%load_expr # Load the stored expression as 'stored_expr'\n",
    "# import Expression classes needed to build the expression\n",
    "from proveit import ExprTuple\n",
    "from proveit.numbers import Add, Neg, four, one"
   ]
  },
  {
   "cell_type": "code",
   "execution_count": 2,
   "metadata": {},
   "outputs": [
    {
     "data": {
      "text/html": [
       "<strong id=\"expr\">expr:</strong> <a class=\"ProveItLink\" href=\"expr.ipynb\"><img src=\"expr.png\" style=\"display:inline;vertical-align:middle;\" /></a><br>"
      ],
      "text/plain": [
       "expr: (1 + 1 + 1 + 1 + 1 + (4 - 1 + 1) + 1 + 1 + 1, 1 + 1 + 1 + 1 + 1 + 4 + 1 + 1 + 1)"
      ]
     },
     "execution_count": 2,
     "metadata": {},
     "output_type": "execute_result"
    }
   ],
   "source": [
    "# build up the expression from sub-expressions\n",
    "expr = ExprTuple(Add(one, one, one, one, one, Add(four, Neg(one), one), one, one, one), Add(one, one, one, one, one, four, one, one, one))"
   ]
  },
  {
   "cell_type": "code",
   "execution_count": 3,
   "metadata": {},
   "outputs": [
    {
     "name": "stdout",
     "output_type": "stream",
     "text": [
      "Passed sanity check: expr matches stored_expr\n"
     ]
    }
   ],
   "source": [
    "# check that the built expression is the same as the stored expression\n",
    "assert expr == stored_expr\n",
    "assert expr._style_id == stored_expr._style_id\n",
    "print(\"Passed sanity check: expr matches stored_expr\")"
   ]
  },
  {
   "cell_type": "code",
   "execution_count": 4,
   "metadata": {},
   "outputs": [
    {
     "name": "stdout",
     "output_type": "stream",
     "text": [
      "\\left(1 + 1 + 1 + 1 + 1 + \\left(4 - 1 + 1\\right) + 1 + 1 + 1, 1 + 1 + 1 + 1 + 1 + 4 + 1 + 1 + 1\\right)\n"
     ]
    }
   ],
   "source": [
    "# Show the LaTeX representation of the expression for convenience if you need it.\n",
    "print(expr.latex())"
   ]
  },
  {
   "cell_type": "code",
   "execution_count": 5,
   "metadata": {},
   "outputs": [
    {
     "data": {
      "text/html": [
       "<table>\n",
       "<tr><th>name</th><th>description</th><th>default</th><th>current value</th><th>related methods</th></tr><tr><td>wrap_positions</td><td>position(s) at which wrapping is to occur; 'n' is after the nth comma.</td><td>()</td><td>()</td><td>('with_wrapping_at',)</td></tr>\n",
       "<tr><td>justification</td><td>if any wrap positions are set, justify to the 'left', 'center', or 'right'</td><td>left</td><td>left</td><td>('with_justification',)</td></tr>\n",
       "</table>\n"
      ],
      "text/plain": [
       "style name: wrap_positions\n",
       "description: position(s) at which wrapping is to occur; 'n' is after the nth comma.\n",
       "default: ()\n",
       "current value: ()\n",
       "related methods: ('with_wrapping_at',)\n",
       "style name: justification\n",
       "description: if any wrap positions are set, justify to the 'left', 'center', or 'right'\n",
       "default: left\n",
       "current value: left\n",
       "related methods: ('with_justification',)"
      ]
     },
     "execution_count": 5,
     "metadata": {},
     "output_type": "execute_result"
    }
   ],
   "source": [
    "expr.style_options()"
   ]
  },
  {
   "cell_type": "code",
   "execution_count": 6,
   "metadata": {},
   "outputs": [
    {
     "data": {
      "text/html": [
       "<table><tr><th>&nbsp;</th><th>core type</th><th>sub-expressions</th><th>expression</th></tr>\n",
       "<tr><td>0</td><td>ExprTuple</td><td>1, 2</td><td><a class=\"ProveItLink\" href=\"expr.ipynb\"><img src=\"expr.png\" style=\"display:inline;vertical-align:middle;\" /></a></td></tr>\n",
       "<tr><td>1</td><td>Operation</td><td>operator:&nbsp;6<br>operands:&nbsp;3<br></td><td><a class=\"ProveItLink\" href=\"../f8427ee29172ffee69cd7a4689051054c3b994640/expr.ipynb\"><img src=\"../f8427ee29172ffee69cd7a4689051054c3b994640/expr.png\" style=\"display:inline;vertical-align:middle;\" /></a></td></tr>\n",
       "<tr><td>2</td><td>Operation</td><td>operator:&nbsp;6<br>operands:&nbsp;4<br></td><td><a class=\"ProveItLink\" href=\"../8da98fde768fb5a0ff67457a6de2cddd7f001a720/expr.ipynb\"><img src=\"../8da98fde768fb5a0ff67457a6de2cddd7f001a720/expr.png\" style=\"display:inline;vertical-align:middle;\" /></a></td></tr>\n",
       "<tr><td>3</td><td>ExprTuple</td><td>12, 12, 12, 12, 12, 5, 12, 12, 12</td><td><a class=\"ProveItLink\" href=\"../139d8412cc6a14794a8cd962afb6a651123be2fe0/expr.ipynb\"><img src=\"../139d8412cc6a14794a8cd962afb6a651123be2fe0/expr.png\" style=\"display:inline;vertical-align:middle;\" /></a></td></tr>\n",
       "<tr><td>4</td><td>ExprTuple</td><td>12, 12, 12, 12, 12, 8, 12, 12, 12</td><td><a class=\"ProveItLink\" href=\"../1340ecdd4a3d5062045063229cfb32a4c18b14a70/expr.ipynb\"><img src=\"../1340ecdd4a3d5062045063229cfb32a4c18b14a70/expr.png\" style=\"display:inline;vertical-align:middle;\" /></a></td></tr>\n",
       "<tr><td>5</td><td>Operation</td><td>operator:&nbsp;6<br>operands:&nbsp;7<br></td><td><a class=\"ProveItLink\" href=\"../d5230c6276a793a6c6235c714198106b5601dbfd0/expr.ipynb\"><img src=\"../d5230c6276a793a6c6235c714198106b5601dbfd0/expr.png\" style=\"display:inline;vertical-align:middle;\" /></a></td></tr>\n",
       "<tr><td>6</td><td>Literal</td><td></td><td><a class=\"ProveItLink\" href=\"../../../../../addition/__pv_it/common/1f38fe5cce441387feef296e2c0a2eac260bb4f30/expr.ipynb\"><img src=\"../../../../../addition/__pv_it/common/1f38fe5cce441387feef296e2c0a2eac260bb4f30/expr.png\" style=\"display:inline;vertical-align:middle;\" /></a></td></tr>\n",
       "<tr><td>7</td><td>ExprTuple</td><td>8, 9, 12</td><td><a class=\"ProveItLink\" href=\"../8e66adc3a6bd7ad669b8b431425bb88c3895b4fa0/expr.ipynb\"><img src=\"../8e66adc3a6bd7ad669b8b431425bb88c3895b4fa0/expr.png\" style=\"display:inline;vertical-align:middle;\" /></a></td></tr>\n",
       "<tr><td>8</td><td>Literal</td><td></td><td><a class=\"ProveItLink\" href=\"../../../../__pv_it/common/de8f3e06d530f467e73bdbc965d9d86fa0f1b0db0/expr.ipynb\"><img src=\"../../../../__pv_it/common/de8f3e06d530f467e73bdbc965d9d86fa0f1b0db0/expr.png\" style=\"display:inline;vertical-align:middle;\" /></a></td></tr>\n",
       "<tr><td>9</td><td>Operation</td><td>operator:&nbsp;10<br>operand:&nbsp;12<br></td><td><a class=\"ProveItLink\" href=\"../../../../../../core_expr_types/__pv_it/common/194689aa2092eb5e83b339e69e1c112868251dd50/expr.ipynb\"><img src=\"../../../../../../core_expr_types/__pv_it/common/194689aa2092eb5e83b339e69e1c112868251dd50/expr.png\" style=\"display:inline;vertical-align:middle;\" /></a></td></tr>\n",
       "<tr><td>10</td><td>Literal</td><td></td><td><a class=\"ProveItLink\" href=\"../../../../../negation/__pv_it/common/31a69a5c76809537045e3884859f178d8d9c845c0/expr.ipynb\"><img src=\"../../../../../negation/__pv_it/common/31a69a5c76809537045e3884859f178d8d9c845c0/expr.png\" style=\"display:inline;vertical-align:middle;\" /></a></td></tr>\n",
       "<tr><td>11</td><td>ExprTuple</td><td>12</td><td><a class=\"ProveItLink\" href=\"../../../../../../core_expr_types/__pv_it/common/983fb1abdb7789966ec8b7afe0d4f7ca8578c9e50/expr.ipynb\"><img src=\"../../../../../../core_expr_types/__pv_it/common/983fb1abdb7789966ec8b7afe0d4f7ca8578c9e50/expr.png\" style=\"display:inline;vertical-align:middle;\" /></a></td></tr>\n",
       "<tr><td>12</td><td>Literal</td><td></td><td><a class=\"ProveItLink\" href=\"../../../../__pv_it/common/d278e359da0695d9652dd541d45264f93703e2e40/expr.ipynb\"><img src=\"../../../../__pv_it/common/d278e359da0695d9652dd541d45264f93703e2e40/expr.png\" style=\"display:inline;vertical-align:middle;\" /></a></td></tr>\n",
       "</table>\n"
      ],
      "text/plain": [
       "0. (1 + 1 + 1 + 1 + 1 + (4 - 1 + 1) + 1 + 1 + 1, 1 + 1 + 1 + 1 + 1 + 4 + 1 + 1 + 1)\n",
       "   core type: ExprTuple\n",
       "   sub-expressions: 1, 2\n",
       "1. 1 + 1 + 1 + 1 + 1 + (4 - 1 + 1) + 1 + 1 + 1\n",
       "   core type: Operation\n",
       "   operator: 6\n",
       "   operands: 3\n",
       "2. 1 + 1 + 1 + 1 + 1 + 4 + 1 + 1 + 1\n",
       "   core type: Operation\n",
       "   operator: 6\n",
       "   operands: 4\n",
       "3. (1, 1, 1, 1, 1, 4 - 1 + 1, 1, 1, 1)\n",
       "   core type: ExprTuple\n",
       "   sub-expressions: 12, 12, 12, 12, 12, 5, 12, 12, 12\n",
       "4. (1, 1, 1, 1, 1, 4, 1, 1, 1)\n",
       "   core type: ExprTuple\n",
       "   sub-expressions: 12, 12, 12, 12, 12, 8, 12, 12, 12\n",
       "5. 4 - 1 + 1\n",
       "   core type: Operation\n",
       "   operator: 6\n",
       "   operands: 7\n",
       "6. +\n",
       "   core type: Literal\n",
       "   sub-expressions: \n",
       "7. (4, -1, 1)\n",
       "   core type: ExprTuple\n",
       "   sub-expressions: 8, 9, 12\n",
       "8. 4\n",
       "   core type: Literal\n",
       "   sub-expressions: \n",
       "9. -1\n",
       "   core type: Operation\n",
       "   operator: 10\n",
       "   operand: 12\n",
       "10. -\n",
       "    core type: Literal\n",
       "    sub-expressions: \n",
       "11. (1)\n",
       "    core type: ExprTuple\n",
       "    sub-expressions: 12\n",
       "12. 1\n",
       "    core type: Literal\n",
       "    sub-expressions: "
      ]
     },
     "execution_count": 6,
     "metadata": {},
     "output_type": "execute_result"
    }
   ],
   "source": [
    "# display the expression information\n",
    "expr.expr_info()"
   ]
  },
  {
   "cell_type": "code",
   "execution_count": null,
   "metadata": {},
   "outputs": [],
   "source": []
  }
 ],
 "metadata": {
  "kernelspec": {
   "display_name": "Python 3",
   "language": "python",
   "name": "python3"
  }
 },
 "nbformat": 4,
 "nbformat_minor": 0
}