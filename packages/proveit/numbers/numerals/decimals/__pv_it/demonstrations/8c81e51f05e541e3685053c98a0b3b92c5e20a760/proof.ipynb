{
 "cells": [
  {
   "cell_type": "markdown",
   "metadata": {},
   "source": [
    "Show the Proof\n",
    "========"
   ]
  },
  {
   "cell_type": "code",
   "execution_count": 1,
   "metadata": {},
   "outputs": [
    {
     "data": {
      "text/html": [
       "<table><tr><th>&nbsp;</th><th>step type</th><th>requirements</th><th>statement</th></tr>\n",
       "<tr><td><a name=\"proveit.numbers.numerals.decimals.demonstrations.8c81e51f05e541e3685053c98a0b3b92c5e20a760_step0\">0</a></td><td>instantiation</td><td><a href=\"#proveit.numbers.numerals.decimals.demonstrations.8c81e51f05e541e3685053c98a0b3b92c5e20a760_step1\">1</a>, <a href=\"#proveit.numbers.numerals.decimals.demonstrations.8c81e51f05e541e3685053c98a0b3b92c5e20a760_step2\">2</a></td><td><span style=\"font-size:20px;\"> <a class=\"ProveItLink\" href=\"proof.ipynb\" style=\"text-decoration: none\">&nbsp;&#x22A2;&nbsp;&nbsp;</a><a class=\"ProveItLink\" href=\"../0c5943815d03ee22bf5ecefb59e17f1aca36a84d0/expr.ipynb\"><img src=\"../0c5943815d03ee22bf5ecefb59e17f1aca36a84d0/expr.png\" style=\"display:inline;vertical-align:middle;\" /></a></span></td></tr>\n",
       "<tr><td>&nbsp;</td><td colspan=4 style=\"text-align:left\"><span style=\"font-size:20px;\"><a class=\"ProveItLink\" href=\"../../../../../../__pv_it/common/a2581dc5df71d9a30bad37de14965fa5fec97a240/expr.ipynb\"><img src=\"../../../../../../__pv_it/common/a2581dc5df71d9a30bad37de14965fa5fec97a240/expr.png\" style=\"display:inline;vertical-align:middle;\" /></a> : <a class=\"ProveItLink\" href=\"../197016d407defa0f402da5e7e6db674a48c4b47a0/expr.ipynb\"><img src=\"../197016d407defa0f402da5e7e6db674a48c4b47a0/expr.png\" style=\"display:inline;vertical-align:middle;\" /></a>, <a class=\"ProveItLink\" href=\"../../../../../../__pv_it/common/0f21cbfd5644a1cae6781c1d58354abc2ffbc9000/expr.ipynb\"><img src=\"../../../../../../__pv_it/common/0f21cbfd5644a1cae6781c1d58354abc2ffbc9000/expr.png\" style=\"display:inline;vertical-align:middle;\" /></a> : <a class=\"ProveItLink\" href=\"../5d6cc33a8f2d0562e03409f653cf4f9bb3d875c10/expr.ipynb\"><img src=\"../5d6cc33a8f2d0562e03409f653cf4f9bb3d875c10/expr.png\" style=\"display:inline;vertical-align:middle;\" /></a></span></td></tr><tr><td><a name=\"proveit.numbers.numerals.decimals.demonstrations.8c81e51f05e541e3685053c98a0b3b92c5e20a760_step1\">1</a></td><td>theorem</td><td></td><td><span style=\"font-size:20px;\"> <a class=\"ProveItLink\" href=\"../../../../../../logic/equality/_theory_nbs_/proofs/equals_reversal/thm_proof.ipynb\" style=\"text-decoration: none\">&nbsp;&#x22A2;&nbsp;&nbsp;</a><a class=\"ProveItLink\" href=\"../../../../../../logic/equality/__pv_it/theorems/dc152814dc196fecb1397c6db676c4086227b8ad0/expr.ipynb\"><img src=\"../../../../../../logic/equality/__pv_it/theorems/dc152814dc196fecb1397c6db676c4086227b8ad0/expr.png\" style=\"display:inline;vertical-align:middle;\" /></a></span></td></tr>\n",
       "<tr><td>&nbsp;</td><td colspan=4 style-\"text-align:left\"><a class=\"ProveItLink\" href=\"../../../../../../logic/equality/_theory_nbs_/proofs/equals_reversal/thm_proof.ipynb\">proveit.logic.equality.equals_reversal</a></td></tr><tr><td><a name=\"proveit.numbers.numerals.decimals.demonstrations.8c81e51f05e541e3685053c98a0b3b92c5e20a760_step2\">2</a></td><td>instantiation</td><td><a href=\"#proveit.numbers.numerals.decimals.demonstrations.8c81e51f05e541e3685053c98a0b3b92c5e20a760_step3\">3</a>, <a href=\"#proveit.numbers.numerals.decimals.demonstrations.8c81e51f05e541e3685053c98a0b3b92c5e20a760_step4\">4</a></td><td><span style=\"font-size:20px;\"> <a class=\"ProveItLink\" href=\"../e5472e8a39b78e44a2367bd1b2d51699dae8aea80/proof.ipynb\" style=\"text-decoration: none\">&nbsp;&#x22A2;&nbsp;&nbsp;</a><a class=\"ProveItLink\" href=\"../bc9931e0fc666a29741fc07b153406a12f97d2b00/expr.ipynb\"><img src=\"../bc9931e0fc666a29741fc07b153406a12f97d2b00/expr.png\" style=\"display:inline;vertical-align:middle;\" /></a></span></td></tr>\n",
       "<tr><td>&nbsp;</td><td colspan=4 style=\"text-align:left\"><span style=\"font-size:20px;\"><a class=\"ProveItLink\" href=\"../../../../../../__pv_it/common/575a6156bb1c87c5beeaf38c302b5905ad57f5780/expr.ipynb\"><img src=\"../../../../../../__pv_it/common/575a6156bb1c87c5beeaf38c302b5905ad57f5780/expr.png\" style=\"display:inline;vertical-align:middle;\" /></a> : <a class=\"ProveItLink\" href=\"../5d6cc33a8f2d0562e03409f653cf4f9bb3d875c10/expr.ipynb\"><img src=\"../5d6cc33a8f2d0562e03409f653cf4f9bb3d875c10/expr.png\" style=\"display:inline;vertical-align:middle;\" /></a>, <a class=\"ProveItLink\" href=\"../2ef79cde88d4b70522889d89dba53fb38d977e200/expr.ipynb\"><img src=\"../2ef79cde88d4b70522889d89dba53fb38d977e200/expr.png\" style=\"display:inline;vertical-align:middle;\" /></a> : <a class=\"ProveItLink\" href=\"../../../../../../core_expr_types/__pv_it/common/d8d3053e77ba1db68c0cd106952422881db586670/expr.ipynb\"><img src=\"../../../../../../core_expr_types/__pv_it/common/d8d3053e77ba1db68c0cd106952422881db586670/expr.png\" style=\"display:inline;vertical-align:middle;\" /></a></span></td></tr><tr><td><a name=\"proveit.numbers.numerals.decimals.demonstrations.8c81e51f05e541e3685053c98a0b3b92c5e20a760_step3\">3</a></td><td>theorem</td><td></td><td><span style=\"font-size:20px;\"> <a class=\"ProveItLink\" href=\"../../../../../../core_expr_types/tuples/_theory_nbs_/proofs/range_from1_len/thm_proof.ipynb\" style=\"text-decoration: none\">&nbsp;&#x22A2;&nbsp;&nbsp;</a><a class=\"ProveItLink\" href=\"../../../../../../core_expr_types/tuples/__pv_it/theorems/78cf2f20aa1d9dbe00be790ee4b22c927176b4f00/expr.ipynb\"><img src=\"../../../../../../core_expr_types/tuples/__pv_it/theorems/78cf2f20aa1d9dbe00be790ee4b22c927176b4f00/expr.png\" style=\"display:inline;vertical-align:middle;\" /></a></span></td></tr>\n",
       "<tr><td>&nbsp;</td><td colspan=4 style-\"text-align:left\"><a class=\"ProveItLink\" href=\"../../../../../../core_expr_types/tuples/_theory_nbs_/proofs/range_from1_len/thm_proof.ipynb\">proveit.core_expr_types.tuples.range_from1_len</a></td></tr><tr><td><a name=\"proveit.numbers.numerals.decimals.demonstrations.8c81e51f05e541e3685053c98a0b3b92c5e20a760_step4\">4</a></td><td>instantiation</td><td><a href=\"#proveit.numbers.numerals.decimals.demonstrations.8c81e51f05e541e3685053c98a0b3b92c5e20a760_step5\">5</a>, <a href=\"#proveit.numbers.numerals.decimals.demonstrations.8c81e51f05e541e3685053c98a0b3b92c5e20a760_step6\">6</a>, <a href=\"#proveit.numbers.numerals.decimals.demonstrations.8c81e51f05e541e3685053c98a0b3b92c5e20a760_step7\">7</a>, <a href=\"#proveit.numbers.numerals.decimals.demonstrations.8c81e51f05e541e3685053c98a0b3b92c5e20a760_step8\">8</a></td><td><span style=\"font-size:20px;\"> <a class=\"ProveItLink\" href=\"../e83d82e138b3fc2daafdfce68e9e849e05a7202a0/proof.ipynb\" style=\"text-decoration: none\">&nbsp;&#x22A2;&nbsp;&nbsp;</a><a class=\"ProveItLink\" href=\"../7c599c634487be22d56e9be7985f67e5b99d31e50/expr.ipynb\"><img src=\"../7c599c634487be22d56e9be7985f67e5b99d31e50/expr.png\" style=\"display:inline;vertical-align:middle;\" /></a></span></td></tr>\n",
       "<tr><td>&nbsp;</td><td colspan=4 style=\"text-align:left\"><span style=\"font-size:20px;\"><a class=\"ProveItLink\" href=\"../../../../../../__pv_it/common/6165c9bb82ce3c7097cdba4440a1aeeb6eaca8a40/expr.ipynb\"><img src=\"../../../../../../__pv_it/common/6165c9bb82ce3c7097cdba4440a1aeeb6eaca8a40/expr.png\" style=\"display:inline;vertical-align:middle;\" /></a> : <a class=\"ProveItLink\" href=\"../../../../__pv_it/common/3829356ce3fdf8f35810c63c00bc1a19e838663e0/expr.ipynb\"><img src=\"../../../../__pv_it/common/3829356ce3fdf8f35810c63c00bc1a19e838663e0/expr.png\" style=\"display:inline;vertical-align:middle;\" /></a>, <a class=\"ProveItLink\" href=\"../../../../../../__pv_it/common/66c90e66682f107a881f2d666959f64e2e72ad750/expr.ipynb\"><img src=\"../../../../../../__pv_it/common/66c90e66682f107a881f2d666959f64e2e72ad750/expr.png\" style=\"display:inline;vertical-align:middle;\" /></a> : <a class=\"ProveItLink\" href=\"../../theorems/5681a3d69c0c630393ff32a4bd9b1951430c12350/expr.ipynb\"><img src=\"../../theorems/5681a3d69c0c630393ff32a4bd9b1951430c12350/expr.png\" style=\"display:inline;vertical-align:middle;\" /></a></span></td></tr><tr><td><a name=\"proveit.numbers.numerals.decimals.demonstrations.8c81e51f05e541e3685053c98a0b3b92c5e20a760_step5\">5</a></td><td>theorem</td><td></td><td><span style=\"font-size:20px;\"> <a class=\"ProveItLink\" href=\"../../../_theory_nbs_/proofs/deci_sequence_is_nat/thm_proof.ipynb\" style=\"text-decoration: none\">&nbsp;&#x22A2;&nbsp;&nbsp;</a><a class=\"ProveItLink\" href=\"../../theorems/d7507953b14700cea17e459c7c292724b38175400/expr.ipynb\"><img src=\"../../theorems/d7507953b14700cea17e459c7c292724b38175400/expr.png\" style=\"display:inline;vertical-align:middle;\" /></a></span></td></tr>\n",
       "<tr><td>&nbsp;</td><td colspan=4 style-\"text-align:left\"><a class=\"ProveItLink\" href=\"../../../_theory_nbs_/proofs/deci_sequence_is_nat/thm_proof.ipynb\">proveit.numbers.numerals.decimals.deci_sequence_is_nat</a></td></tr><tr><td><a name=\"proveit.numbers.numerals.decimals.demonstrations.8c81e51f05e541e3685053c98a0b3b92c5e20a760_step6\">6</a></td><td>theorem</td><td></td><td><span style=\"font-size:20px;\"> <a class=\"ProveItLink\" href=\"../../../_theory_nbs_/proofs/posnat2/thm_proof.ipynb\" style=\"text-decoration: none\">&nbsp;&#x22A2;&nbsp;&nbsp;</a><a class=\"ProveItLink\" href=\"../../theorems/93960371d3014f11077b11b089e2a3a6f3652d8a0/expr.ipynb\"><img src=\"../../theorems/93960371d3014f11077b11b089e2a3a6f3652d8a0/expr.png\" style=\"display:inline;vertical-align:middle;\" /></a></span></td></tr>\n",
       "<tr><td>&nbsp;</td><td colspan=4 style-\"text-align:left\"><a class=\"ProveItLink\" href=\"../../../_theory_nbs_/proofs/posnat2/thm_proof.ipynb\">proveit.numbers.numerals.decimals.posnat2</a></td></tr><tr><td><a name=\"proveit.numbers.numerals.decimals.demonstrations.8c81e51f05e541e3685053c98a0b3b92c5e20a760_step7\">7</a></td><td>instantiation</td><td><a href=\"#proveit.numbers.numerals.decimals.demonstrations.8c81e51f05e541e3685053c98a0b3b92c5e20a760_step9\">9</a></td><td><span style=\"font-size:20px;\"> <a class=\"ProveItLink\" href=\"../2e2f5fd08f10db356ed1d0a8022ac8482fc08bb80/proof.ipynb\" style=\"text-decoration: none\">&nbsp;&#x22A2;&nbsp;&nbsp;</a><a class=\"ProveItLink\" href=\"../6da59480b159dec9973c7d0146f7fcf815e629660/expr.ipynb\"><img src=\"../6da59480b159dec9973c7d0146f7fcf815e629660/expr.png\" style=\"display:inline;vertical-align:middle;\" /></a></span></td></tr>\n",
       "<tr><td>&nbsp;</td><td colspan=4 style=\"text-align:left\"><span style=\"font-size:20px;\"><a class=\"ProveItLink\" href=\"../../../../../../__pv_it/common/66c90e66682f107a881f2d666959f64e2e72ad750/expr.ipynb\"><img src=\"../../../../../../__pv_it/common/66c90e66682f107a881f2d666959f64e2e72ad750/expr.png\" style=\"display:inline;vertical-align:middle;\" /></a> : <a class=\"ProveItLink\" href=\"../../../../__pv_it/common/d278e359da0695d9652dd541d45264f93703e2e40/expr.ipynb\"><img src=\"../../../../__pv_it/common/d278e359da0695d9652dd541d45264f93703e2e40/expr.png\" style=\"display:inline;vertical-align:middle;\" /></a>, <a class=\"ProveItLink\" href=\"../../../../../../__pv_it/common/4a5db8cc5c67969ec864bd3ea598be37cb6f5e550/expr.ipynb\"><img src=\"../../../../../../__pv_it/common/4a5db8cc5c67969ec864bd3ea598be37cb6f5e550/expr.png\" style=\"display:inline;vertical-align:middle;\" /></a> : <a class=\"ProveItLink\" href=\"../../../../__pv_it/common/d278e359da0695d9652dd541d45264f93703e2e40/expr.ipynb\"><img src=\"../../../../__pv_it/common/d278e359da0695d9652dd541d45264f93703e2e40/expr.png\" style=\"display:inline;vertical-align:middle;\" /></a></span></td></tr><tr><td><a name=\"proveit.numbers.numerals.decimals.demonstrations.8c81e51f05e541e3685053c98a0b3b92c5e20a760_step8\">8</a></td><td>theorem</td><td></td><td><span style=\"font-size:20px;\"> <a class=\"ProveItLink\" href=\"../../../_theory_nbs_/proofs/digit1/thm_proof.ipynb\" style=\"text-decoration: none\">&nbsp;&#x22A2;&nbsp;&nbsp;</a><a class=\"ProveItLink\" href=\"../../theorems/02185f462cd3802ac9bcb64ff4c74d1492b9232d0/expr.ipynb\"><img src=\"../../theorems/02185f462cd3802ac9bcb64ff4c74d1492b9232d0/expr.png\" style=\"display:inline;vertical-align:middle;\" /></a></span></td></tr>\n",
       "<tr><td>&nbsp;</td><td colspan=4 style-\"text-align:left\"><a class=\"ProveItLink\" href=\"../../../_theory_nbs_/proofs/digit1/thm_proof.ipynb\">proveit.numbers.numerals.decimals.digit1</a></td></tr><tr><td><a name=\"proveit.numbers.numerals.decimals.demonstrations.8c81e51f05e541e3685053c98a0b3b92c5e20a760_step9\">9</a></td><td>theorem</td><td></td><td><span style=\"font-size:20px;\"> <a class=\"ProveItLink\" href=\"../../../_theory_nbs_/proofs/tuple_len_2_typical_eq/thm_proof.ipynb\" style=\"text-decoration: none\">&nbsp;&#x22A2;&nbsp;&nbsp;</a><a class=\"ProveItLink\" href=\"../../theorems/b56994510623f1b534ae67f3cc44762f6d45f3ce0/expr.ipynb\"><img src=\"../../theorems/b56994510623f1b534ae67f3cc44762f6d45f3ce0/expr.png\" style=\"display:inline;vertical-align:middle;\" /></a></span></td></tr>\n",
       "<tr><td>&nbsp;</td><td colspan=4 style-\"text-align:left\"><a class=\"ProveItLink\" href=\"../../../_theory_nbs_/proofs/tuple_len_2_typical_eq/thm_proof.ipynb\">proveit.numbers.numerals.decimals.tuple_len_2_typical_eq</a></td></tr></table>"
      ],
      "text/plain": [
       "<proveit._core_.proof._ShowProof at 0x7f5c81f60518>"
      ]
     },
     "execution_count": 1,
     "metadata": {},
     "output_type": "execute_result"
    }
   ],
   "source": [
    "import proveit\n",
    "# Automation is not needed when only showing a stored proof:\n",
    "proveit.defaults.automation = False # This will speed things up.\n",
    "proveit.defaults.inline_pngs = False # Makes files smaller.\n",
    "%show_proof"
   ]
  },
  {
   "cell_type": "code",
   "execution_count": null,
   "metadata": {},
   "outputs": [],
   "source": []
  }
 ],
 "metadata": {
  "kernelspec": {
   "display_name": "Python 3",
   "language": "python",
   "name": "python3"
  },
  "language_info": {
   "codemirror_mode": {
    "name": "ipython",
    "version": 3
   },
   "file_extension": ".py",
   "mimetype": "text/x-python",
   "name": "python",
   "nbconvert_exporter": "python",
   "pygments_lexer": "ipython3",
   "version": "3.7.3"
  }
 },
 "nbformat": 4,
 "nbformat_minor": 1
}