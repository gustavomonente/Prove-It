{
 "cells": [
  {
   "cell_type": "markdown",
   "metadata": {},
   "source": [
    "Expression of type <a class=\"ProveItLink\" href=\"../../../../../../../../doc/html/api/proveit.Conditional.html\">Conditional</a>\n",
    "=======================\n",
    "# from the theory of <a class=\"ProveItLink\" href=\"../../../_theory_nbs_/theory.ipynb\">proveit.numbers.numerals.decimals</a>"
   ]
  },
  {
   "cell_type": "code",
   "execution_count": 1,
   "metadata": {},
   "outputs": [],
   "source": [
    "import proveit\n",
    "# Automation is not needed when building an expression:\n",
    "proveit.defaults.automation = False # This will speed things up.\n",
    "proveit.defaults.inline_pngs = False # Makes files smaller.\n",
    "%load_expr # Load the stored expression as 'stored_expr'\n",
    "# import Expression classes needed to build the expression\n",
    "from proveit import Conditional, ExprRange, IndexedVar, Variable, a, b, c, d, k, m, n\n",
    "from proveit.logic import And, Equals, InSet\n",
    "from proveit.numbers import Add, DecimalSequence, Digits, one"
   ]
  },
  {
   "cell_type": "code",
   "execution_count": 2,
   "metadata": {},
   "outputs": [
    {
     "data": {
      "text/html": [
       "<strong id=\"expr\">expr:</strong> <a class=\"ProveItLink\" href=\"expr.ipynb\"><img src=\"expr.png\" style=\"display:inline;vertical-align:middle;\" /></a><br>"
      ],
      "text/plain": [
       "expr: {\\# (a_{1} ~ ..a_{_a}.. ~ a_{m} ~ (b_{1} + ..b_{_a}.. + b_{n}) ~ d_{1} ~ ..d_{_a}.. ~ d_{k}) = \\# (a_{1} ~ ..a_{_a}.. ~ a_{m} ~ c ~ d_{1} ~ ..d_{_a}.. ~ d_{k}) if a_{1} in Digits ,  ..a_{_a} in Digits.. ,  a_{m} in Digits ,  b_{1} in Digits ,  ..b_{_a} in Digits.. ,  b_{n} in Digits ,  c in Digits ,  d_{1} in Digits ,  ..d_{_a} in Digits.. ,  d_{k} in Digits ,  (b_{1} + ..b_{_a}.. + b_{n}) = c."
      ]
     },
     "execution_count": 2,
     "metadata": {},
     "output_type": "execute_result"
    }
   ],
   "source": [
    "# build up the expression from sub-expressions\n",
    "sub_expr1 = Variable(\"_a\", latex_format = r\"{_{-}a}\")\n",
    "sub_expr2 = IndexedVar(a, sub_expr1)\n",
    "sub_expr3 = IndexedVar(b, sub_expr1)\n",
    "sub_expr4 = IndexedVar(d, sub_expr1)\n",
    "sub_expr5 = ExprRange(sub_expr1, sub_expr2, one, m)\n",
    "sub_expr6 = ExprRange(sub_expr1, sub_expr4, one, k)\n",
    "sub_expr7 = Add(ExprRange(sub_expr1, sub_expr3, one, n))\n",
    "expr = Conditional(Equals(DecimalSequence(sub_expr5, sub_expr7, sub_expr6), DecimalSequence(sub_expr5, c, sub_expr6)), And(ExprRange(sub_expr1, InSet(sub_expr2, Digits), one, m), ExprRange(sub_expr1, InSet(sub_expr3, Digits), one, n), InSet(c, Digits), ExprRange(sub_expr1, InSet(sub_expr4, Digits), one, k), Equals(sub_expr7, c)))"
   ]
  },
  {
   "cell_type": "code",
   "execution_count": 3,
   "metadata": {},
   "outputs": [
    {
     "name": "stdout",
     "output_type": "stream",
     "text": [
      "Passed sanity check: expr matches stored_expr\n"
     ]
    }
   ],
   "source": [
    "# check that the built expression is the same as the stored expression\n",
    "assert expr == stored_expr\n",
    "assert expr._style_id == stored_expr._style_id\n",
    "print(\"Passed sanity check: expr matches stored_expr\")"
   ]
  },
  {
   "cell_type": "code",
   "execution_count": 4,
   "metadata": {},
   "outputs": [
    {
     "name": "stdout",
     "output_type": "stream",
     "text": [
      "\\left\\{\\# (a_{1} ~ \\ldots ~ a_{m} ~ \\left(b_{1} + \\ldots + b_{n}\\right) ~ d_{1} ~ \\ldots ~ d_{k}) = \\# (a_{1} ~ \\ldots ~ a_{m} ~ c ~ d_{1} ~ \\ldots ~ d_{k}) \\textrm{ if } a_{1} \\in \\mathbb{N}^{\\leq 9} ,  \\ldots ,  a_{m} \\in \\mathbb{N}^{\\leq 9} ,  b_{1} \\in \\mathbb{N}^{\\leq 9} ,  \\ldots ,  b_{n} \\in \\mathbb{N}^{\\leq 9} ,  c \\in \\mathbb{N}^{\\leq 9} ,  d_{1} \\in \\mathbb{N}^{\\leq 9} ,  \\ldots ,  d_{k} \\in \\mathbb{N}^{\\leq 9} ,  \\left(b_{1} + \\ldots + b_{n}\\right) = c\\right..\n"
     ]
    }
   ],
   "source": [
    "# Show the LaTeX representation of the expression for convenience if you need it.\n",
    "print(expr.latex())"
   ]
  },
  {
   "cell_type": "code",
   "execution_count": 5,
   "metadata": {},
   "outputs": [
    {
     "data": {
      "text/html": [
       "<table>\n",
       "<tr><th>name</th><th>description</th><th>default</th><th>current value</th><th>related methods</th></tr><tr><td>condition_delimiter</td><td>'comma' or 'and'</td><td>comma</td><td>comma</td><td>('with_comma_delimiter', 'with_conjunction_delimiter')</td></tr>\n",
       "</table>\n"
      ],
      "text/plain": [
       "style name: condition_delimiter\n",
       "description: 'comma' or 'and'\n",
       "default: comma\n",
       "current value: comma\n",
       "related methods: ('with_comma_delimiter', 'with_conjunction_delimiter')"
      ]
     },
     "execution_count": 5,
     "metadata": {},
     "output_type": "execute_result"
    }
   ],
   "source": [
    "expr.style_options()"
   ]
  },
  {
   "cell_type": "code",
   "execution_count": 6,
   "metadata": {},
   "outputs": [
    {
     "data": {
      "text/html": [
       "<table><tr><th>&nbsp;</th><th>core type</th><th>sub-expressions</th><th>expression</th></tr>\n",
       "<tr><td>0</td><td>Conditional</td><td>value:&nbsp;1<br>condition:&nbsp;2<br></td><td><a class=\"ProveItLink\" href=\"expr.ipynb\"><img src=\"expr.png\" style=\"display:inline;vertical-align:middle;\" /></a></td></tr>\n",
       "<tr><td>1</td><td>Operation</td><td>operator:&nbsp;20<br>operands:&nbsp;3<br></td><td><a class=\"ProveItLink\" href=\"../c4b37e6f75e5a449368e0f024d578316705a61a70/expr.ipynb\"><img src=\"../c4b37e6f75e5a449368e0f024d578316705a61a70/expr.png\" style=\"display:inline;vertical-align:middle;\" /></a></td></tr>\n",
       "<tr><td>2</td><td>Operation</td><td>operator:&nbsp;4<br>operands:&nbsp;5<br></td><td><a class=\"ProveItLink\" href=\"../53196633befc73f5d8727a47ae78260f10b43e1b0/expr.ipynb\"><img src=\"../53196633befc73f5d8727a47ae78260f10b43e1b0/expr.png\" style=\"display:inline;vertical-align:middle;\" /></a></td></tr>\n",
       "<tr><td>3</td><td>ExprTuple</td><td>6, 7</td><td><a class=\"ProveItLink\" href=\"../b10e03b8ea084fdf1cf8ed0d899d0cfaef4cc5690/expr.ipynb\"><img src=\"../b10e03b8ea084fdf1cf8ed0d899d0cfaef4cc5690/expr.png\" style=\"display:inline;vertical-align:middle;\" /></a></td></tr>\n",
       "<tr><td>4</td><td>Literal</td><td></td><td><a class=\"ProveItLink\" href=\"../../../../../../logic/booleans/conjunction/__pv_it/common/26b94b53e70b1d77b70f0d9d4236347db37731060/expr.ipynb\"><img src=\"../../../../../../logic/booleans/conjunction/__pv_it/common/26b94b53e70b1d77b70f0d9d4236347db37731060/expr.png\" style=\"display:inline;vertical-align:middle;\" /></a></td></tr>\n",
       "<tr><td>5</td><td>ExprTuple</td><td>8, 9, 10, 11, 12</td><td><a class=\"ProveItLink\" href=\"../a4cde5a35d7c84103d8ef315cc6e723030070ad50/expr.ipynb\"><img src=\"../a4cde5a35d7c84103d8ef315cc6e723030070ad50/expr.png\" style=\"display:inline;vertical-align:middle;\" /></a></td></tr>\n",
       "<tr><td>6</td><td>Operation</td><td>operator:&nbsp;14<br>operands:&nbsp;13<br></td><td><a class=\"ProveItLink\" href=\"../ec257fbe692d18202bbf90f1a689252224ac4cad0/expr.ipynb\"><img src=\"../ec257fbe692d18202bbf90f1a689252224ac4cad0/expr.png\" style=\"display:inline;vertical-align:middle;\" /></a></td></tr>\n",
       "<tr><td>7</td><td>Operation</td><td>operator:&nbsp;14<br>operands:&nbsp;15<br></td><td><a class=\"ProveItLink\" href=\"../b32d9b16ede17d6f63cd05a1ebcbb467d5ed70cb0/expr.ipynb\"><img src=\"../b32d9b16ede17d6f63cd05a1ebcbb467d5ed70cb0/expr.png\" style=\"display:inline;vertical-align:middle;\" /></a></td></tr>\n",
       "<tr><td>8</td><td>ExprRange</td><td>lambda_map:&nbsp;16<br>start_index:&nbsp;46<br>end_index:&nbsp;30<br></td><td><a class=\"ProveItLink\" href=\"../c68cc4bbe1b007b50d8a779932decfa34ca431e70/expr.ipynb\"><img src=\"../c68cc4bbe1b007b50d8a779932decfa34ca431e70/expr.png\" style=\"display:inline;vertical-align:middle;\" /></a></td></tr>\n",
       "<tr><td>9</td><td>ExprRange</td><td>lambda_map:&nbsp;17<br>start_index:&nbsp;46<br>end_index:&nbsp;47<br></td><td><a class=\"ProveItLink\" href=\"../0f1725d5871cddedf09329267e5b84d5f3a3665a0/expr.ipynb\"><img src=\"../0f1725d5871cddedf09329267e5b84d5f3a3665a0/expr.png\" style=\"display:inline;vertical-align:middle;\" /></a></td></tr>\n",
       "<tr><td>10</td><td>Operation</td><td>operator:&nbsp;35<br>operands:&nbsp;18<br></td><td><a class=\"ProveItLink\" href=\"../ad85fd677d34213114ea83473c8bd807c97decbd0/expr.ipynb\"><img src=\"../ad85fd677d34213114ea83473c8bd807c97decbd0/expr.png\" style=\"display:inline;vertical-align:middle;\" /></a></td></tr>\n",
       "<tr><td>11</td><td>ExprRange</td><td>lambda_map:&nbsp;19<br>start_index:&nbsp;46<br>end_index:&nbsp;32<br></td><td><a class=\"ProveItLink\" href=\"../23abdd7c071dfc4fc17dac805fa8c478416b29210/expr.ipynb\"><img src=\"../23abdd7c071dfc4fc17dac805fa8c478416b29210/expr.png\" style=\"display:inline;vertical-align:middle;\" /></a></td></tr>\n",
       "<tr><td>12</td><td>Operation</td><td>operator:&nbsp;20<br>operands:&nbsp;21<br></td><td><a class=\"ProveItLink\" href=\"../df6f63c4fd4fa7542ef8c6ea9f9d6e707ea5ff160/expr.ipynb\"><img src=\"../df6f63c4fd4fa7542ef8c6ea9f9d6e707ea5ff160/expr.png\" style=\"display:inline;vertical-align:middle;\" /></a></td></tr>\n",
       "<tr><td>13</td><td>ExprTuple</td><td>22, 27, 23</td><td><a class=\"ProveItLink\" href=\"../edf7a7cd3e6c2ba9718e91843ac01a483c64b5670/expr.ipynb\"><img src=\"../edf7a7cd3e6c2ba9718e91843ac01a483c64b5670/expr.png\" style=\"display:inline;vertical-align:middle;\" /></a></td></tr>\n",
       "<tr><td>14</td><td>Literal</td><td></td><td><a class=\"ProveItLink\" href=\"../../common/5240e41c3d0dea6969958f3bb00472b80eafdb290/expr.ipynb\"><img src=\"../../common/5240e41c3d0dea6969958f3bb00472b80eafdb290/expr.png\" style=\"display:inline;vertical-align:middle;\" /></a></td></tr>\n",
       "<tr><td>15</td><td>ExprTuple</td><td>22, 28, 23</td><td><a class=\"ProveItLink\" href=\"../c38e5a17a5287432d78c112a4fb7c673cf9635430/expr.ipynb\"><img src=\"../c38e5a17a5287432d78c112a4fb7c673cf9635430/expr.png\" style=\"display:inline;vertical-align:middle;\" /></a></td></tr>\n",
       "<tr><td>16</td><td>Lambda</td><td>parameter:&nbsp;51<br>body:&nbsp;24<br></td><td><a class=\"ProveItLink\" href=\"../f42804e907ba957c8c13fb688e1d667663e3c8510/expr.ipynb\"><img src=\"../f42804e907ba957c8c13fb688e1d667663e3c8510/expr.png\" style=\"display:inline;vertical-align:middle;\" /></a></td></tr>\n",
       "<tr><td>17</td><td>Lambda</td><td>parameter:&nbsp;51<br>body:&nbsp;25<br></td><td><a class=\"ProveItLink\" href=\"../ea1f0f2f336045151150bb55bef7f03329266d7d0/expr.ipynb\"><img src=\"../ea1f0f2f336045151150bb55bef7f03329266d7d0/expr.png\" style=\"display:inline;vertical-align:middle;\" /></a></td></tr>\n",
       "<tr><td>18</td><td>ExprTuple</td><td>28, 41</td><td><a class=\"ProveItLink\" href=\"../930018687c919eed752d32e3e88c7dcada8fdbce0/expr.ipynb\"><img src=\"../930018687c919eed752d32e3e88c7dcada8fdbce0/expr.png\" style=\"display:inline;vertical-align:middle;\" /></a></td></tr>\n",
       "<tr><td>19</td><td>Lambda</td><td>parameter:&nbsp;51<br>body:&nbsp;26<br></td><td><a class=\"ProveItLink\" href=\"../0f1cc51917ad2313f143636855cce430081069530/expr.ipynb\"><img src=\"../0f1cc51917ad2313f143636855cce430081069530/expr.png\" style=\"display:inline;vertical-align:middle;\" /></a></td></tr>\n",
       "<tr><td>20</td><td>Literal</td><td></td><td><a class=\"ProveItLink\" href=\"../../../../../../logic/equality/__pv_it/common/731dd3955b346c1320ed5c0ba7a618bcda61457d0/expr.ipynb\"><img src=\"../../../../../../logic/equality/__pv_it/common/731dd3955b346c1320ed5c0ba7a618bcda61457d0/expr.png\" style=\"display:inline;vertical-align:middle;\" /></a></td></tr>\n",
       "<tr><td>21</td><td>ExprTuple</td><td>27, 28</td><td><a class=\"ProveItLink\" href=\"../249fd0e4013e9816c5c03937e3644e38e99f7c5a0/expr.ipynb\"><img src=\"../249fd0e4013e9816c5c03937e3644e38e99f7c5a0/expr.png\" style=\"display:inline;vertical-align:middle;\" /></a></td></tr>\n",
       "<tr><td>22</td><td>ExprRange</td><td>lambda_map:&nbsp;29<br>start_index:&nbsp;46<br>end_index:&nbsp;30<br></td><td><a class=\"ProveItLink\" href=\"../e99ac57c59c7f7613c8b4a245e8497111bd08a340/expr.ipynb\"><img src=\"../e99ac57c59c7f7613c8b4a245e8497111bd08a340/expr.png\" style=\"display:inline;vertical-align:middle;\" /></a></td></tr>\n",
       "<tr><td>23</td><td>ExprRange</td><td>lambda_map:&nbsp;31<br>start_index:&nbsp;46<br>end_index:&nbsp;32<br></td><td><a class=\"ProveItLink\" href=\"../ac0c2b1884cd812b651759c311d9f6e679167ead0/expr.ipynb\"><img src=\"../ac0c2b1884cd812b651759c311d9f6e679167ead0/expr.png\" style=\"display:inline;vertical-align:middle;\" /></a></td></tr>\n",
       "<tr><td>24</td><td>Operation</td><td>operator:&nbsp;35<br>operands:&nbsp;33<br></td><td><a class=\"ProveItLink\" href=\"../32284c3b5517319a379a2decb8430cc1ba2ec87e0/expr.ipynb\"><img src=\"../32284c3b5517319a379a2decb8430cc1ba2ec87e0/expr.png\" style=\"display:inline;vertical-align:middle;\" /></a></td></tr>\n",
       "<tr><td>25</td><td>Operation</td><td>operator:&nbsp;35<br>operands:&nbsp;34<br></td><td><a class=\"ProveItLink\" href=\"../560f887a545ec6cfaf1e941c1cd5625216a2a6410/expr.ipynb\"><img src=\"../560f887a545ec6cfaf1e941c1cd5625216a2a6410/expr.png\" style=\"display:inline;vertical-align:middle;\" /></a></td></tr>\n",
       "<tr><td>26</td><td>Operation</td><td>operator:&nbsp;35<br>operands:&nbsp;36<br></td><td><a class=\"ProveItLink\" href=\"../5432135b2d2ecded3b878bcba6a273191492f9180/expr.ipynb\"><img src=\"../5432135b2d2ecded3b878bcba6a273191492f9180/expr.png\" style=\"display:inline;vertical-align:middle;\" /></a></td></tr>\n",
       "<tr><td>27</td><td>Operation</td><td>operator:&nbsp;37<br>operands:&nbsp;38<br></td><td><a class=\"ProveItLink\" href=\"../24689b01d76b488096baf05afbb38e237b0c98960/expr.ipynb\"><img src=\"../24689b01d76b488096baf05afbb38e237b0c98960/expr.png\" style=\"display:inline;vertical-align:middle;\" /></a></td></tr>\n",
       "<tr><td>28</td><td>Variable</td><td></td><td><a class=\"ProveItLink\" href=\"../../../../../../__pv_it/common/9a9d28748f90dec84e90f2ace4610208194e524e0/expr.ipynb\"><img src=\"../../../../../../__pv_it/common/9a9d28748f90dec84e90f2ace4610208194e524e0/expr.png\" style=\"display:inline;vertical-align:middle;\" /></a></td></tr>\n",
       "<tr><td>29</td><td>Lambda</td><td>parameter:&nbsp;51<br>body:&nbsp;39<br></td><td><a class=\"ProveItLink\" href=\"../../../../../../core_expr_types/__pv_it/common/99ea59f1b92e70eddeee736182b1abeb9f49c91b0/expr.ipynb\"><img src=\"../../../../../../core_expr_types/__pv_it/common/99ea59f1b92e70eddeee736182b1abeb9f49c91b0/expr.png\" style=\"display:inline;vertical-align:middle;\" /></a></td></tr>\n",
       "<tr><td>30</td><td>Variable</td><td></td><td><a class=\"ProveItLink\" href=\"../../../../../../__pv_it/common/2dc4f15b3407a25e8d70754a86bf74f1871f92650/expr.ipynb\"><img src=\"../../../../../../__pv_it/common/2dc4f15b3407a25e8d70754a86bf74f1871f92650/expr.png\" style=\"display:inline;vertical-align:middle;\" /></a></td></tr>\n",
       "<tr><td>31</td><td>Lambda</td><td>parameter:&nbsp;51<br>body:&nbsp;40<br></td><td><a class=\"ProveItLink\" href=\"../1fbf8491a6f9bee23b4bd0fc7d610f6fb310cdac0/expr.ipynb\"><img src=\"../1fbf8491a6f9bee23b4bd0fc7d610f6fb310cdac0/expr.png\" style=\"display:inline;vertical-align:middle;\" /></a></td></tr>\n",
       "<tr><td>32</td><td>Variable</td><td></td><td><a class=\"ProveItLink\" href=\"../../../../../../__pv_it/common/b9fd37fc619babc74a6203459f110251586df6970/expr.ipynb\"><img src=\"../../../../../../__pv_it/common/b9fd37fc619babc74a6203459f110251586df6970/expr.png\" style=\"display:inline;vertical-align:middle;\" /></a></td></tr>\n",
       "<tr><td>33</td><td>ExprTuple</td><td>39, 41</td><td><a class=\"ProveItLink\" href=\"../75e5abcea13e163a9d23f7dceb5d100abb8fc5ba0/expr.ipynb\"><img src=\"../75e5abcea13e163a9d23f7dceb5d100abb8fc5ba0/expr.png\" style=\"display:inline;vertical-align:middle;\" /></a></td></tr>\n",
       "<tr><td>34</td><td>ExprTuple</td><td>48, 41</td><td><a class=\"ProveItLink\" href=\"../0e50eda07851b5c85a046679ccca62f1a3e827bf0/expr.ipynb\"><img src=\"../0e50eda07851b5c85a046679ccca62f1a3e827bf0/expr.png\" style=\"display:inline;vertical-align:middle;\" /></a></td></tr>\n",
       "<tr><td>35</td><td>Literal</td><td></td><td><a class=\"ProveItLink\" href=\"../../../../../../logic/sets/membership/__pv_it/common/7171deca84f71f47a6ec7696972d1632274a12880/expr.ipynb\"><img src=\"../../../../../../logic/sets/membership/__pv_it/common/7171deca84f71f47a6ec7696972d1632274a12880/expr.png\" style=\"display:inline;vertical-align:middle;\" /></a></td></tr>\n",
       "<tr><td>36</td><td>ExprTuple</td><td>40, 41</td><td><a class=\"ProveItLink\" href=\"../4833ba09f30904c0d24055a0705feb02addd22280/expr.ipynb\"><img src=\"../4833ba09f30904c0d24055a0705feb02addd22280/expr.png\" style=\"display:inline;vertical-align:middle;\" /></a></td></tr>\n",
       "<tr><td>37</td><td>Literal</td><td></td><td><a class=\"ProveItLink\" href=\"../../../../../addition/__pv_it/common/1f38fe5cce441387feef296e2c0a2eac260bb4f30/expr.ipynb\"><img src=\"../../../../../addition/__pv_it/common/1f38fe5cce441387feef296e2c0a2eac260bb4f30/expr.png\" style=\"display:inline;vertical-align:middle;\" /></a></td></tr>\n",
       "<tr><td>38</td><td>ExprTuple</td><td>42</td><td><a class=\"ProveItLink\" href=\"../5b1447fe38758ff8cedbb48912d4ad02a44a59330/expr.ipynb\"><img src=\"../5b1447fe38758ff8cedbb48912d4ad02a44a59330/expr.png\" style=\"display:inline;vertical-align:middle;\" /></a></td></tr>\n",
       "<tr><td>39</td><td>IndexedVar</td><td>variable:&nbsp;43<br>index:&nbsp;51<br></td><td><a class=\"ProveItLink\" href=\"../../../../../../core_expr_types/__pv_it/common/d8d3053e77ba1db68c0cd106952422881db586670/expr.ipynb\"><img src=\"../../../../../../core_expr_types/__pv_it/common/d8d3053e77ba1db68c0cd106952422881db586670/expr.png\" style=\"display:inline;vertical-align:middle;\" /></a></td></tr>\n",
       "<tr><td>40</td><td>IndexedVar</td><td>variable:&nbsp;44<br>index:&nbsp;51<br></td><td><a class=\"ProveItLink\" href=\"../440cb7b6f1a7fa6453329b719dcfb6b7695c13f20/expr.ipynb\"><img src=\"../440cb7b6f1a7fa6453329b719dcfb6b7695c13f20/expr.png\" style=\"display:inline;vertical-align:middle;\" /></a></td></tr>\n",
       "<tr><td>41</td><td>Literal</td><td></td><td><a class=\"ProveItLink\" href=\"../../common/573a58b6e25a8d1a34bb0a8e4fdded1188c3c5980/expr.ipynb\"><img src=\"../../common/573a58b6e25a8d1a34bb0a8e4fdded1188c3c5980/expr.png\" style=\"display:inline;vertical-align:middle;\" /></a></td></tr>\n",
       "<tr><td>42</td><td>ExprRange</td><td>lambda_map:&nbsp;45<br>start_index:&nbsp;46<br>end_index:&nbsp;47<br></td><td><a class=\"ProveItLink\" href=\"../66fa1d50aa486e26aae2f9c98637abb9734784e20/expr.ipynb\"><img src=\"../66fa1d50aa486e26aae2f9c98637abb9734784e20/expr.png\" style=\"display:inline;vertical-align:middle;\" /></a></td></tr>\n",
       "<tr><td>43</td><td>Variable</td><td></td><td><a class=\"ProveItLink\" href=\"../../../../../../__pv_it/common/66c90e66682f107a881f2d666959f64e2e72ad750/expr.ipynb\"><img src=\"../../../../../../__pv_it/common/66c90e66682f107a881f2d666959f64e2e72ad750/expr.png\" style=\"display:inline;vertical-align:middle;\" /></a></td></tr>\n",
       "<tr><td>44</td><td>Variable</td><td></td><td><a class=\"ProveItLink\" href=\"../../../../../../__pv_it/common/ba27da3f6d5512be14b05498f34744a70c9279220/expr.ipynb\"><img src=\"../../../../../../__pv_it/common/ba27da3f6d5512be14b05498f34744a70c9279220/expr.png\" style=\"display:inline;vertical-align:middle;\" /></a></td></tr>\n",
       "<tr><td>45</td><td>Lambda</td><td>parameter:&nbsp;51<br>body:&nbsp;48<br></td><td><a class=\"ProveItLink\" href=\"../9cec585e706b7f522e628495ce57ab2ba231a9570/expr.ipynb\"><img src=\"../9cec585e706b7f522e628495ce57ab2ba231a9570/expr.png\" style=\"display:inline;vertical-align:middle;\" /></a></td></tr>\n",
       "<tr><td>46</td><td>Literal</td><td></td><td><a class=\"ProveItLink\" href=\"../../../../__pv_it/common/d278e359da0695d9652dd541d45264f93703e2e40/expr.ipynb\"><img src=\"../../../../__pv_it/common/d278e359da0695d9652dd541d45264f93703e2e40/expr.png\" style=\"display:inline;vertical-align:middle;\" /></a></td></tr>\n",
       "<tr><td>47</td><td>Variable</td><td></td><td><a class=\"ProveItLink\" href=\"../../../../../../__pv_it/common/6165c9bb82ce3c7097cdba4440a1aeeb6eaca8a40/expr.ipynb\"><img src=\"../../../../../../__pv_it/common/6165c9bb82ce3c7097cdba4440a1aeeb6eaca8a40/expr.png\" style=\"display:inline;vertical-align:middle;\" /></a></td></tr>\n",
       "<tr><td>48</td><td>IndexedVar</td><td>variable:&nbsp;49<br>index:&nbsp;51<br></td><td><a class=\"ProveItLink\" href=\"../76f67c2d361e055e3b9dcbf54bd0db05cf77273d0/expr.ipynb\"><img src=\"../76f67c2d361e055e3b9dcbf54bd0db05cf77273d0/expr.png\" style=\"display:inline;vertical-align:middle;\" /></a></td></tr>\n",
       "<tr><td>49</td><td>Variable</td><td></td><td><a class=\"ProveItLink\" href=\"../../../../../../__pv_it/common/4a5db8cc5c67969ec864bd3ea598be37cb6f5e550/expr.ipynb\"><img src=\"../../../../../../__pv_it/common/4a5db8cc5c67969ec864bd3ea598be37cb6f5e550/expr.png\" style=\"display:inline;vertical-align:middle;\" /></a></td></tr>\n",
       "<tr><td>50</td><td>ExprTuple</td><td>51</td><td><a class=\"ProveItLink\" href=\"../../../../../../core_expr_types/__pv_it/common/ecf50ade416ab41c42c9f4e777b4c862cd9469670/expr.ipynb\"><img src=\"../../../../../../core_expr_types/__pv_it/common/ecf50ade416ab41c42c9f4e777b4c862cd9469670/expr.png\" style=\"display:inline;vertical-align:middle;\" /></a></td></tr>\n",
       "<tr><td>51</td><td>Variable</td><td></td><td><a class=\"ProveItLink\" href=\"../../../../../../core_expr_types/__pv_it/common/9e6d9d5d7eeb0342cf5bca68def0eb165a1a9bb10/expr.ipynb\"><img src=\"../../../../../../core_expr_types/__pv_it/common/9e6d9d5d7eeb0342cf5bca68def0eb165a1a9bb10/expr.png\" style=\"display:inline;vertical-align:middle;\" /></a></td></tr>\n",
       "</table>\n"
      ],
      "text/plain": [
       "0. {\\# (a_{1} ~ ..a_{_a}.. ~ a_{m} ~ (b_{1} + ..b_{_a}.. + b_{n}) ~ d_{1} ~ ..d_{_a}.. ~ d_{k}) = \\# (a_{1} ~ ..a_{_a}.. ~ a_{m} ~ c ~ d_{1} ~ ..d_{_a}.. ~ d_{k}) if a_{1} in Digits ,  ..a_{_a} in Digits.. ,  a_{m} in Digits ,  b_{1} in Digits ,  ..b_{_a} in Digits.. ,  b_{n} in Digits ,  c in Digits ,  d_{1} in Digits ,  ..d_{_a} in Digits.. ,  d_{k} in Digits ,  (b_{1} + ..b_{_a}.. + b_{n}) = c.\n",
       "   core type: Conditional\n",
       "   value: 1\n",
       "   condition: 2\n",
       "1. \\# (a_{1} ~ ..a_{_a}.. ~ a_{m} ~ (b_{1} + ..b_{_a}.. + b_{n}) ~ d_{1} ~ ..d_{_a}.. ~ d_{k}) = \\# (a_{1} ~ ..a_{_a}.. ~ a_{m} ~ c ~ d_{1} ~ ..d_{_a}.. ~ d_{k})\n",
       "   core type: Operation\n",
       "   operator: 20\n",
       "   operands: 3\n",
       "2. (a_{1} in Digits) and ..(a_{_a} in Digits).. and (a_{m} in Digits) and (b_{1} in Digits) and ..(b_{_a} in Digits).. and (b_{n} in Digits) and (c in Digits) and (d_{1} in Digits) and ..(d_{_a} in Digits).. and (d_{k} in Digits) and ((b_{1} + ..b_{_a}.. + b_{n}) = c)\n",
       "   core type: Operation\n",
       "   operator: 4\n",
       "   operands: 5\n",
       "3. (\\# (a_{1} ~ ..a_{_a}.. ~ a_{m} ~ (b_{1} + ..b_{_a}.. + b_{n}) ~ d_{1} ~ ..d_{_a}.. ~ d_{k}), \\# (a_{1} ~ ..a_{_a}.. ~ a_{m} ~ c ~ d_{1} ~ ..d_{_a}.. ~ d_{k}))\n",
       "   core type: ExprTuple\n",
       "   sub-expressions: 6, 7\n",
       "4. and\n",
       "   core type: Literal\n",
       "   sub-expressions: \n",
       "5. (a_{1} in Digits, ..a_{_a} in Digits.., a_{m} in Digits, b_{1} in Digits, ..b_{_a} in Digits.., b_{n} in Digits, c in Digits, d_{1} in Digits, ..d_{_a} in Digits.., d_{k} in Digits, (b_{1} + ..b_{_a}.. + b_{n}) = c)\n",
       "   core type: ExprTuple\n",
       "   sub-expressions: 8, 9, 10, 11, 12\n",
       "6. \\# (a_{1} ~ ..a_{_a}.. ~ a_{m} ~ (b_{1} + ..b_{_a}.. + b_{n}) ~ d_{1} ~ ..d_{_a}.. ~ d_{k})\n",
       "   core type: Operation\n",
       "   operator: 14\n",
       "   operands: 13\n",
       "7. \\# (a_{1} ~ ..a_{_a}.. ~ a_{m} ~ c ~ d_{1} ~ ..d_{_a}.. ~ d_{k})\n",
       "   core type: Operation\n",
       "   operator: 14\n",
       "   operands: 15\n",
       "8. (a_{1} in Digits), ..(a_{_a} in Digits).., (a_{m} in Digits)\n",
       "   core type: ExprRange\n",
       "   lambda_map: 16\n",
       "   start_index: 46\n",
       "   end_index: 30\n",
       "9. (b_{1} in Digits), ..(b_{_a} in Digits).., (b_{n} in Digits)\n",
       "   core type: ExprRange\n",
       "   lambda_map: 17\n",
       "   start_index: 46\n",
       "   end_index: 47\n",
       "10. c in Digits\n",
       "    core type: Operation\n",
       "    operator: 35\n",
       "    operands: 18\n",
       "11. (d_{1} in Digits), ..(d_{_a} in Digits).., (d_{k} in Digits)\n",
       "    core type: ExprRange\n",
       "    lambda_map: 19\n",
       "    start_index: 46\n",
       "    end_index: 32\n",
       "12. (b_{1} + ..b_{_a}.. + b_{n}) = c\n",
       "    core type: Operation\n",
       "    operator: 20\n",
       "    operands: 21\n",
       "13. (a_{1}, ..a_{_a}.., a_{m}, b_{1} + ..b_{_a}.. + b_{n}, d_{1}, ..d_{_a}.., d_{k})\n",
       "    core type: ExprTuple\n",
       "    sub-expressions: 22, 27, 23\n",
       "14. Decimal\n",
       "    core type: Literal\n",
       "    sub-expressions: \n",
       "15. (a_{1}, ..a_{_a}.., a_{m}, c, d_{1}, ..d_{_a}.., d_{k})\n",
       "    core type: ExprTuple\n",
       "    sub-expressions: 22, 28, 23\n",
       "16. _a -> (a_{_a} in Digits)\n",
       "    core type: Lambda\n",
       "    parameter: 51\n",
       "    body: 24\n",
       "17. _a -> (b_{_a} in Digits)\n",
       "    core type: Lambda\n",
       "    parameter: 51\n",
       "    body: 25\n",
       "18. (c, Digits)\n",
       "    core type: ExprTuple\n",
       "    sub-expressions: 28, 41\n",
       "19. _a -> (d_{_a} in Digits)\n",
       "    core type: Lambda\n",
       "    parameter: 51\n",
       "    body: 26\n",
       "20. =\n",
       "    core type: Literal\n",
       "    sub-expressions: \n",
       "21. (b_{1} + ..b_{_a}.. + b_{n}, c)\n",
       "    core type: ExprTuple\n",
       "    sub-expressions: 27, 28\n",
       "22. a_{1}, ..a_{_a}.., a_{m}\n",
       "    core type: ExprRange\n",
       "    lambda_map: 29\n",
       "    start_index: 46\n",
       "    end_index: 30\n",
       "23. d_{1}, ..d_{_a}.., d_{k}\n",
       "    core type: ExprRange\n",
       "    lambda_map: 31\n",
       "    start_index: 46\n",
       "    end_index: 32\n",
       "24. a_{_a} in Digits\n",
       "    core type: Operation\n",
       "    operator: 35\n",
       "    operands: 33\n",
       "25. b_{_a} in Digits\n",
       "    core type: Operation\n",
       "    operator: 35\n",
       "    operands: 34\n",
       "26. d_{_a} in Digits\n",
       "    core type: Operation\n",
       "    operator: 35\n",
       "    operands: 36\n",
       "27. b_{1} + ..b_{_a}.. + b_{n}\n",
       "    core type: Operation\n",
       "    operator: 37\n",
       "    operands: 38\n",
       "28. c\n",
       "    core type: Variable\n",
       "    sub-expressions: \n",
       "29. _a -> a_{_a}\n",
       "    core type: Lambda\n",
       "    parameter: 51\n",
       "    body: 39\n",
       "30. m\n",
       "    core type: Variable\n",
       "    sub-expressions: \n",
       "31. _a -> d_{_a}\n",
       "    core type: Lambda\n",
       "    parameter: 51\n",
       "    body: 40\n",
       "32. k\n",
       "    core type: Variable\n",
       "    sub-expressions: \n",
       "33. (a_{_a}, Digits)\n",
       "    core type: ExprTuple\n",
       "    sub-expressions: 39, 41\n",
       "34. (b_{_a}, Digits)\n",
       "    core type: ExprTuple\n",
       "    sub-expressions: 48, 41\n",
       "35. in\n",
       "    core type: Literal\n",
       "    sub-expressions: \n",
       "36. (d_{_a}, Digits)\n",
       "    core type: ExprTuple\n",
       "    sub-expressions: 40, 41\n",
       "37. +\n",
       "    core type: Literal\n",
       "    sub-expressions: \n",
       "38. (b_{1}, ..b_{_a}.., b_{n})\n",
       "    core type: ExprTuple\n",
       "    sub-expressions: 42\n",
       "39. a_{_a}\n",
       "    core type: IndexedVar\n",
       "variable: 43\n",
       "index: 51\n",
       "40. d_{_a}\n",
       "    core type: IndexedVar\n",
       "variable: 44\n",
       "index: 51\n",
       "41. Digits\n",
       "    core type: Literal\n",
       "    sub-expressions: \n",
       "42. b_{1}, ..b_{_a}.., b_{n}\n",
       "    core type: ExprRange\n",
       "    lambda_map: 45\n",
       "    start_index: 46\n",
       "    end_index: 47\n",
       "43. a\n",
       "    core type: Variable\n",
       "    sub-expressions: \n",
       "44. d\n",
       "    core type: Variable\n",
       "    sub-expressions: \n",
       "45. _a -> b_{_a}\n",
       "    core type: Lambda\n",
       "    parameter: 51\n",
       "    body: 48\n",
       "46. 1\n",
       "    core type: Literal\n",
       "    sub-expressions: \n",
       "47. n\n",
       "    core type: Variable\n",
       "    sub-expressions: \n",
       "48. b_{_a}\n",
       "    core type: IndexedVar\n",
       "variable: 49\n",
       "index: 51\n",
       "49. b\n",
       "    core type: Variable\n",
       "    sub-expressions: \n",
       "50. (_a)\n",
       "    core type: ExprTuple\n",
       "    sub-expressions: 51\n",
       "51. _a\n",
       "    core type: Variable\n",
       "    sub-expressions: "
      ]
     },
     "execution_count": 6,
     "metadata": {},
     "output_type": "execute_result"
    }
   ],
   "source": [
    "# display the expression information\n",
    "expr.expr_info()"
   ]
  },
  {
   "cell_type": "code",
   "execution_count": null,
   "metadata": {},
   "outputs": [],
   "source": []
  }
 ],
 "metadata": {
  "kernelspec": {
   "display_name": "Python 3",
   "language": "python",
   "name": "python3"
  }
 },
 "nbformat": 4,
 "nbformat_minor": 0
}