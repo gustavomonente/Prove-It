{
 "cells": [
  {
   "cell_type": "markdown",
   "metadata": {},
   "source": [
    "Expression of type <a class=\"ProveItLink\" href=\"../../../../../../../../doc/html/api/proveit.logic.Forall.html\">Forall</a>\n",
    "=======================\n",
    "# from the theory of <a class=\"ProveItLink\" href=\"../../../_theory_nbs_/theory.ipynb\">proveit.numbers.numerals.decimals</a>"
   ]
  },
  {
   "cell_type": "code",
   "execution_count": 1,
   "metadata": {},
   "outputs": [],
   "source": [
    "import proveit\n",
    "# Automation is not needed when building an expression:\n",
    "proveit.defaults.automation = False # This will speed things up.\n",
    "proveit.defaults.inline_pngs = False # Makes files smaller.\n",
    "%load_expr # Load the stored expression as 'stored_expr'\n",
    "# import Expression classes needed to build the expression\n",
    "from proveit import ExprRange, IndexedVar, Variable, a, b, i, k, m\n",
    "from proveit.logic import Equals, Forall\n",
    "from proveit.numbers import Add, DecimalSequence, Digits, Less, nine, one, zero"
   ]
  },
  {
   "cell_type": "code",
   "execution_count": 2,
   "metadata": {},
   "outputs": [
    {
     "data": {
      "text/html": [
       "<strong id=\"expr\">expr:</strong> <a class=\"ProveItLink\" href=\"expr.ipynb\"><img src=\"expr.png\" style=\"display:inline;vertical-align:middle;\" /></a><br>"
      ],
      "text/plain": [
       "expr: forall_{a_{1}, ..a_{_a}.., a_{m}, b in Digits | b < 9} ((\\# (a_{1} ~ ..a_{_a}.. ~ a_{m} ~ b ~ 9 ~ ..k repeats.. ~ 9) + 1) = \\# (a_{1} ~ ..a_{_a}.. ~ a_{m} ~ (b + 1) ~ 0 ~ ..k repeats.. ~ 0))"
      ]
     },
     "execution_count": 2,
     "metadata": {},
     "output_type": "execute_result"
    }
   ],
   "source": [
    "# build up the expression from sub-expressions\n",
    "sub_expr1 = Variable(\"_a\", latex_format = r\"{_{-}a}\")\n",
    "sub_expr2 = ExprRange(sub_expr1, IndexedVar(a, sub_expr1), one, m)\n",
    "expr = Forall([sub_expr2, b], Equals(Add(DecimalSequence(sub_expr2, b, ExprRange(i, nine, one, k)), one), DecimalSequence(sub_expr2, Add(b, one), ExprRange(i, zero, one, k))), domains = [Digits, Digits], condition = Less(b, nine))"
   ]
  },
  {
   "cell_type": "code",
   "execution_count": 3,
   "metadata": {},
   "outputs": [
    {
     "name": "stdout",
     "output_type": "stream",
     "text": [
      "Passed sanity check: expr matches stored_expr\n"
     ]
    }
   ],
   "source": [
    "# check that the built expression is the same as the stored expression\n",
    "assert expr == stored_expr\n",
    "assert expr._style_id == stored_expr._style_id\n",
    "print(\"Passed sanity check: expr matches stored_expr\")"
   ]
  },
  {
   "cell_type": "code",
   "execution_count": 4,
   "metadata": {},
   "outputs": [
    {
     "name": "stdout",
     "output_type": "stream",
     "text": [
      "\\forall_{a_{1}, \\ldots, a_{m}, b \\in \\mathbb{N}^{\\leq 9}~|~b < 9}~\\left(\\left(\\# (a_{1} ~ \\ldots ~ a_{m} ~ b ~ 9 ~ ..k \\textrm{ repeats}.. ~ 9) + 1\\right) = \\# (a_{1} ~ \\ldots ~ a_{m} ~ \\left(b + 1\\right) ~ 0 ~ ..k \\textrm{ repeats}.. ~ 0)\\right)\n"
     ]
    }
   ],
   "source": [
    "# Show the LaTeX representation of the expression for convenience if you need it.\n",
    "print(expr.latex())"
   ]
  },
  {
   "cell_type": "code",
   "execution_count": 5,
   "metadata": {},
   "outputs": [
    {
     "data": {
      "text/html": [
       "<table>\n",
       "<tr><th>name</th><th>description</th><th>default</th><th>current value</th><th>related methods</th></tr><tr><td>with_wrapping</td><td>If 'True', wrap the Expression after the parameters</td><td>None</td><td>None/False</td><td>('with_wrapping',)</td></tr>\n",
       "<tr><td>wrap_params</td><td>If 'True', wraps every two parameters AND wraps the Expression after the parameters</td><td>None</td><td>None/False</td><td>('with_params',)</td></tr>\n",
       "<tr><td>justification</td><td>justify to the 'left', 'center', or 'right' in the array cells</td><td>center</td><td>center</td><td>('with_justification',)</td></tr>\n",
       "</table>\n"
      ],
      "text/plain": [
       "style name: with_wrapping\n",
       "description: If 'True', wrap the Expression after the parameters\n",
       "default: None\n",
       "current value: None/False\n",
       "related methods: ('with_wrapping',)\n",
       "style name: wrap_params\n",
       "description: If 'True', wraps every two parameters AND wraps the Expression after the parameters\n",
       "default: None\n",
       "current value: None/False\n",
       "related methods: ('with_params',)\n",
       "style name: justification\n",
       "description: justify to the 'left', 'center', or 'right' in the array cells\n",
       "default: center\n",
       "current value: center\n",
       "related methods: ('with_justification',)"
      ]
     },
     "execution_count": 5,
     "metadata": {},
     "output_type": "execute_result"
    }
   ],
   "source": [
    "expr.style_options()"
   ]
  },
  {
   "cell_type": "code",
   "execution_count": 6,
   "metadata": {},
   "outputs": [
    {
     "data": {
      "text/html": [
       "<table><tr><th>&nbsp;</th><th>core type</th><th>sub-expressions</th><th>expression</th></tr>\n",
       "<tr><td>0</td><td>Operation</td><td>operator:&nbsp;1<br>operand:&nbsp;3<br></td><td><a class=\"ProveItLink\" href=\"expr.ipynb\"><img src=\"expr.png\" style=\"display:inline;vertical-align:middle;\" /></a></td></tr>\n",
       "<tr><td>1</td><td>Literal</td><td></td><td><a class=\"ProveItLink\" href=\"../../../../../../logic/booleans/quantification/universality/__pv_it/common/684d35ba98fcbf8ca5011f865e530a51e77730630/expr.ipynb\"><img src=\"../../../../../../logic/booleans/quantification/universality/__pv_it/common/684d35ba98fcbf8ca5011f865e530a51e77730630/expr.png\" style=\"display:inline;vertical-align:middle;\" /></a></td></tr>\n",
       "<tr><td>2</td><td>ExprTuple</td><td>3</td><td><a class=\"ProveItLink\" href=\"../58007b9e46d7f138960fce2daf157676e53286bd0/expr.ipynb\"><img src=\"../58007b9e46d7f138960fce2daf157676e53286bd0/expr.png\" style=\"display:inline;vertical-align:middle;\" /></a></td></tr>\n",
       "<tr><td>3</td><td>Lambda</td><td>parameters:&nbsp;4<br>body:&nbsp;5<br></td><td><a class=\"ProveItLink\" href=\"../b64ff28d4447f6b6fae210b264aacaff4025cfc30/expr.ipynb\"><img src=\"../b64ff28d4447f6b6fae210b264aacaff4025cfc30/expr.png\" style=\"display:inline;vertical-align:middle;\" /></a></td></tr>\n",
       "<tr><td>4</td><td>ExprTuple</td><td>34, 36</td><td><a class=\"ProveItLink\" href=\"../5b040a6d46d2f6c20297bfe1b74c205d1225c8f20/expr.ipynb\"><img src=\"../5b040a6d46d2f6c20297bfe1b74c205d1225c8f20/expr.png\" style=\"display:inline;vertical-align:middle;\" /></a></td></tr>\n",
       "<tr><td>5</td><td>Conditional</td><td>value:&nbsp;6<br>condition:&nbsp;7<br></td><td><a class=\"ProveItLink\" href=\"../fff0293eba4b64ad89e62f8810c2e40d9ae18ade0/expr.ipynb\"><img src=\"../fff0293eba4b64ad89e62f8810c2e40d9ae18ade0/expr.png\" style=\"display:inline;vertical-align:middle;\" /></a></td></tr>\n",
       "<tr><td>6</td><td>Operation</td><td>operator:&nbsp;8<br>operands:&nbsp;9<br></td><td><a class=\"ProveItLink\" href=\"../33d29f5a6a6310eb5a52bba1f2f5942050b59a8d0/expr.ipynb\"><img src=\"../33d29f5a6a6310eb5a52bba1f2f5942050b59a8d0/expr.png\" style=\"display:inline;vertical-align:middle;\" /></a></td></tr>\n",
       "<tr><td>7</td><td>Operation</td><td>operator:&nbsp;10<br>operands:&nbsp;11<br></td><td><a class=\"ProveItLink\" href=\"../248bd62db98ff09c4f570441e1f3cde26099a51e0/expr.ipynb\"><img src=\"../248bd62db98ff09c4f570441e1f3cde26099a51e0/expr.png\" style=\"display:inline;vertical-align:middle;\" /></a></td></tr>\n",
       "<tr><td>8</td><td>Literal</td><td></td><td><a class=\"ProveItLink\" href=\"../../../../../../logic/equality/__pv_it/common/731dd3955b346c1320ed5c0ba7a618bcda61457d0/expr.ipynb\"><img src=\"../../../../../../logic/equality/__pv_it/common/731dd3955b346c1320ed5c0ba7a618bcda61457d0/expr.png\" style=\"display:inline;vertical-align:middle;\" /></a></td></tr>\n",
       "<tr><td>9</td><td>ExprTuple</td><td>12, 13</td><td><a class=\"ProveItLink\" href=\"../ba2d2f28fdd69f7e5151181bc1df514bc67d33440/expr.ipynb\"><img src=\"../ba2d2f28fdd69f7e5151181bc1df514bc67d33440/expr.png\" style=\"display:inline;vertical-align:middle;\" /></a></td></tr>\n",
       "<tr><td>10</td><td>Literal</td><td></td><td><a class=\"ProveItLink\" href=\"../../../../../../logic/booleans/conjunction/__pv_it/common/26b94b53e70b1d77b70f0d9d4236347db37731060/expr.ipynb\"><img src=\"../../../../../../logic/booleans/conjunction/__pv_it/common/26b94b53e70b1d77b70f0d9d4236347db37731060/expr.png\" style=\"display:inline;vertical-align:middle;\" /></a></td></tr>\n",
       "<tr><td>11</td><td>ExprTuple</td><td>14, 15, 16</td><td><a class=\"ProveItLink\" href=\"../61a538459a09eb21197f201ebd6a23d37ca782fa0/expr.ipynb\"><img src=\"../61a538459a09eb21197f201ebd6a23d37ca782fa0/expr.png\" style=\"display:inline;vertical-align:middle;\" /></a></td></tr>\n",
       "<tr><td>12</td><td>Operation</td><td>operator:&nbsp;29<br>operands:&nbsp;17<br></td><td><a class=\"ProveItLink\" href=\"../b34d20b8d51ffc4d3fc38840d1a2cb16566119f80/expr.ipynb\"><img src=\"../b34d20b8d51ffc4d3fc38840d1a2cb16566119f80/expr.png\" style=\"display:inline;vertical-align:middle;\" /></a></td></tr>\n",
       "<tr><td>13</td><td>Operation</td><td>operator:&nbsp;27<br>operands:&nbsp;18<br></td><td><a class=\"ProveItLink\" href=\"../84dbe1c14079eb59315f58c2119841a2d3efe2430/expr.ipynb\"><img src=\"../84dbe1c14079eb59315f58c2119841a2d3efe2430/expr.png\" style=\"display:inline;vertical-align:middle;\" /></a></td></tr>\n",
       "<tr><td>14</td><td>ExprRange</td><td>lambda_map:&nbsp;19<br>start_index:&nbsp;42<br>end_index:&nbsp;40<br></td><td><a class=\"ProveItLink\" href=\"../c68cc4bbe1b007b50d8a779932decfa34ca431e70/expr.ipynb\"><img src=\"../c68cc4bbe1b007b50d8a779932decfa34ca431e70/expr.png\" style=\"display:inline;vertical-align:middle;\" /></a></td></tr>\n",
       "<tr><td>15</td><td>Operation</td><td>operator:&nbsp;32<br>operands:&nbsp;20<br></td><td><a class=\"ProveItLink\" href=\"../3230bd8643832be69e4eb5eed2916fea9152fd360/expr.ipynb\"><img src=\"../3230bd8643832be69e4eb5eed2916fea9152fd360/expr.png\" style=\"display:inline;vertical-align:middle;\" /></a></td></tr>\n",
       "<tr><td>16</td><td>Operation</td><td>operator:&nbsp;21<br>operands:&nbsp;22<br></td><td><a class=\"ProveItLink\" href=\"../06f901fdbc993ca131e56334d844d74d294bd97f0/expr.ipynb\"><img src=\"../06f901fdbc993ca131e56334d844d74d294bd97f0/expr.png\" style=\"display:inline;vertical-align:middle;\" /></a></td></tr>\n",
       "<tr><td>17</td><td>ExprTuple</td><td>23, 42</td><td><a class=\"ProveItLink\" href=\"../ffbe04e4fb0c36572211c772c0758359f1da53960/expr.ipynb\"><img src=\"../ffbe04e4fb0c36572211c772c0758359f1da53960/expr.png\" style=\"display:inline;vertical-align:middle;\" /></a></td></tr>\n",
       "<tr><td>18</td><td>ExprTuple</td><td>34, 24, 25</td><td><a class=\"ProveItLink\" href=\"../c7c584c355d68098de82a3e749c2876c5776deac0/expr.ipynb\"><img src=\"../c7c584c355d68098de82a3e749c2876c5776deac0/expr.png\" style=\"display:inline;vertical-align:middle;\" /></a></td></tr>\n",
       "<tr><td>19</td><td>Lambda</td><td>parameter:&nbsp;49<br>body:&nbsp;26<br></td><td><a class=\"ProveItLink\" href=\"../f42804e907ba957c8c13fb688e1d667663e3c8510/expr.ipynb\"><img src=\"../f42804e907ba957c8c13fb688e1d667663e3c8510/expr.png\" style=\"display:inline;vertical-align:middle;\" /></a></td></tr>\n",
       "<tr><td>20</td><td>ExprTuple</td><td>36, 38</td><td><a class=\"ProveItLink\" href=\"../d473592d2413127f4df8a3e44d9126f3e7b3dda10/expr.ipynb\"><img src=\"../d473592d2413127f4df8a3e44d9126f3e7b3dda10/expr.png\" style=\"display:inline;vertical-align:middle;\" /></a></td></tr>\n",
       "<tr><td>21</td><td>Literal</td><td></td><td><a class=\"ProveItLink\" href=\"../../../../../ordering/__pv_it/common/28edf56075f82c850836d8cd79dbcacf62e589820/expr.ipynb\"><img src=\"../../../../../ordering/__pv_it/common/28edf56075f82c850836d8cd79dbcacf62e589820/expr.png\" style=\"display:inline;vertical-align:middle;\" /></a></td></tr>\n",
       "<tr><td>22</td><td>ExprTuple</td><td>36, 46</td><td><a class=\"ProveItLink\" href=\"../07776606f8ef4b039cb6ed5ba14257dc1f7f04490/expr.ipynb\"><img src=\"../07776606f8ef4b039cb6ed5ba14257dc1f7f04490/expr.png\" style=\"display:inline;vertical-align:middle;\" /></a></td></tr>\n",
       "<tr><td>23</td><td>Operation</td><td>operator:&nbsp;27<br>operands:&nbsp;28<br></td><td><a class=\"ProveItLink\" href=\"../fb0fd98e2ebe34006be453f50140d99e9a990a6e0/expr.ipynb\"><img src=\"../fb0fd98e2ebe34006be453f50140d99e9a990a6e0/expr.png\" style=\"display:inline;vertical-align:middle;\" /></a></td></tr>\n",
       "<tr><td>24</td><td>Operation</td><td>operator:&nbsp;29<br>operands:&nbsp;30<br></td><td><a class=\"ProveItLink\" href=\"../7507c439c6060bbbea969f9d6104f03b3df314030/expr.ipynb\"><img src=\"../7507c439c6060bbbea969f9d6104f03b3df314030/expr.png\" style=\"display:inline;vertical-align:middle;\" /></a></td></tr>\n",
       "<tr><td>25</td><td>ExprRange</td><td>lambda_map:&nbsp;31<br>start_index:&nbsp;42<br>end_index:&nbsp;43<br></td><td><a class=\"ProveItLink\" href=\"../684d6b4475a22a202479a26f907d02a3280ca8cb0/expr.ipynb\"><img src=\"../684d6b4475a22a202479a26f907d02a3280ca8cb0/expr.png\" style=\"display:inline;vertical-align:middle;\" /></a></td></tr>\n",
       "<tr><td>26</td><td>Operation</td><td>operator:&nbsp;32<br>operands:&nbsp;33<br></td><td><a class=\"ProveItLink\" href=\"../32284c3b5517319a379a2decb8430cc1ba2ec87e0/expr.ipynb\"><img src=\"../32284c3b5517319a379a2decb8430cc1ba2ec87e0/expr.png\" style=\"display:inline;vertical-align:middle;\" /></a></td></tr>\n",
       "<tr><td>27</td><td>Literal</td><td></td><td><a class=\"ProveItLink\" href=\"../../common/5240e41c3d0dea6969958f3bb00472b80eafdb290/expr.ipynb\"><img src=\"../../common/5240e41c3d0dea6969958f3bb00472b80eafdb290/expr.png\" style=\"display:inline;vertical-align:middle;\" /></a></td></tr>\n",
       "<tr><td>28</td><td>ExprTuple</td><td>34, 36, 35</td><td><a class=\"ProveItLink\" href=\"../cf48f3ffc24c9ed4d409a3fcc428ac5e28e176ee0/expr.ipynb\"><img src=\"../cf48f3ffc24c9ed4d409a3fcc428ac5e28e176ee0/expr.png\" style=\"display:inline;vertical-align:middle;\" /></a></td></tr>\n",
       "<tr><td>29</td><td>Literal</td><td></td><td><a class=\"ProveItLink\" href=\"../../../../../addition/__pv_it/common/1f38fe5cce441387feef296e2c0a2eac260bb4f30/expr.ipynb\"><img src=\"../../../../../addition/__pv_it/common/1f38fe5cce441387feef296e2c0a2eac260bb4f30/expr.png\" style=\"display:inline;vertical-align:middle;\" /></a></td></tr>\n",
       "<tr><td>30</td><td>ExprTuple</td><td>36, 42</td><td><a class=\"ProveItLink\" href=\"../4b0be7954682c25e67527994c22f43bd2a2dfaf40/expr.ipynb\"><img src=\"../4b0be7954682c25e67527994c22f43bd2a2dfaf40/expr.png\" style=\"display:inline;vertical-align:middle;\" /></a></td></tr>\n",
       "<tr><td>31</td><td>Lambda</td><td>parameter:&nbsp;45<br>body:&nbsp;37<br></td><td><a class=\"ProveItLink\" href=\"../017b0a6bf0f12725efc5eea9d94b41ca5c92906b0/expr.ipynb\"><img src=\"../017b0a6bf0f12725efc5eea9d94b41ca5c92906b0/expr.png\" style=\"display:inline;vertical-align:middle;\" /></a></td></tr>\n",
       "<tr><td>32</td><td>Literal</td><td></td><td><a class=\"ProveItLink\" href=\"../../../../../../logic/sets/membership/__pv_it/common/7171deca84f71f47a6ec7696972d1632274a12880/expr.ipynb\"><img src=\"../../../../../../logic/sets/membership/__pv_it/common/7171deca84f71f47a6ec7696972d1632274a12880/expr.png\" style=\"display:inline;vertical-align:middle;\" /></a></td></tr>\n",
       "<tr><td>33</td><td>ExprTuple</td><td>44, 38</td><td><a class=\"ProveItLink\" href=\"../75e5abcea13e163a9d23f7dceb5d100abb8fc5ba0/expr.ipynb\"><img src=\"../75e5abcea13e163a9d23f7dceb5d100abb8fc5ba0/expr.png\" style=\"display:inline;vertical-align:middle;\" /></a></td></tr>\n",
       "<tr><td>34</td><td>ExprRange</td><td>lambda_map:&nbsp;39<br>start_index:&nbsp;42<br>end_index:&nbsp;40<br></td><td><a class=\"ProveItLink\" href=\"../e99ac57c59c7f7613c8b4a245e8497111bd08a340/expr.ipynb\"><img src=\"../e99ac57c59c7f7613c8b4a245e8497111bd08a340/expr.png\" style=\"display:inline;vertical-align:middle;\" /></a></td></tr>\n",
       "<tr><td>35</td><td>ExprRange</td><td>lambda_map:&nbsp;41<br>start_index:&nbsp;42<br>end_index:&nbsp;43<br></td><td><a class=\"ProveItLink\" href=\"../fa5f45b25c35909a56e74a133595eef3adacb2410/expr.ipynb\"><img src=\"../fa5f45b25c35909a56e74a133595eef3adacb2410/expr.png\" style=\"display:inline;vertical-align:middle;\" /></a></td></tr>\n",
       "<tr><td>36</td><td>Variable</td><td></td><td><a class=\"ProveItLink\" href=\"../../../../../../__pv_it/common/4a5db8cc5c67969ec864bd3ea598be37cb6f5e550/expr.ipynb\"><img src=\"../../../../../../__pv_it/common/4a5db8cc5c67969ec864bd3ea598be37cb6f5e550/expr.png\" style=\"display:inline;vertical-align:middle;\" /></a></td></tr>\n",
       "<tr><td>37</td><td>Literal</td><td></td><td><a class=\"ProveItLink\" href=\"../../../../__pv_it/common/c35fdf7268947ca3e24174d2909dc9d0a7f3aac60/expr.ipynb\"><img src=\"../../../../__pv_it/common/c35fdf7268947ca3e24174d2909dc9d0a7f3aac60/expr.png\" style=\"display:inline;vertical-align:middle;\" /></a></td></tr>\n",
       "<tr><td>38</td><td>Literal</td><td></td><td><a class=\"ProveItLink\" href=\"../../common/573a58b6e25a8d1a34bb0a8e4fdded1188c3c5980/expr.ipynb\"><img src=\"../../common/573a58b6e25a8d1a34bb0a8e4fdded1188c3c5980/expr.png\" style=\"display:inline;vertical-align:middle;\" /></a></td></tr>\n",
       "<tr><td>39</td><td>Lambda</td><td>parameter:&nbsp;49<br>body:&nbsp;44<br></td><td><a class=\"ProveItLink\" href=\"../../../../../../core_expr_types/__pv_it/common/99ea59f1b92e70eddeee736182b1abeb9f49c91b0/expr.ipynb\"><img src=\"../../../../../../core_expr_types/__pv_it/common/99ea59f1b92e70eddeee736182b1abeb9f49c91b0/expr.png\" style=\"display:inline;vertical-align:middle;\" /></a></td></tr>\n",
       "<tr><td>40</td><td>Variable</td><td></td><td><a class=\"ProveItLink\" href=\"../../../../../../__pv_it/common/2dc4f15b3407a25e8d70754a86bf74f1871f92650/expr.ipynb\"><img src=\"../../../../../../__pv_it/common/2dc4f15b3407a25e8d70754a86bf74f1871f92650/expr.png\" style=\"display:inline;vertical-align:middle;\" /></a></td></tr>\n",
       "<tr><td>41</td><td>Lambda</td><td>parameter:&nbsp;45<br>body:&nbsp;46<br></td><td><a class=\"ProveItLink\" href=\"../bad6c5a6c5aa632dc1a93b3a41aa01d17e3570d70/expr.ipynb\"><img src=\"../bad6c5a6c5aa632dc1a93b3a41aa01d17e3570d70/expr.png\" style=\"display:inline;vertical-align:middle;\" /></a></td></tr>\n",
       "<tr><td>42</td><td>Literal</td><td></td><td><a class=\"ProveItLink\" href=\"../../../../__pv_it/common/d278e359da0695d9652dd541d45264f93703e2e40/expr.ipynb\"><img src=\"../../../../__pv_it/common/d278e359da0695d9652dd541d45264f93703e2e40/expr.png\" style=\"display:inline;vertical-align:middle;\" /></a></td></tr>\n",
       "<tr><td>43</td><td>Variable</td><td></td><td><a class=\"ProveItLink\" href=\"../../../../../../__pv_it/common/b9fd37fc619babc74a6203459f110251586df6970/expr.ipynb\"><img src=\"../../../../../../__pv_it/common/b9fd37fc619babc74a6203459f110251586df6970/expr.png\" style=\"display:inline;vertical-align:middle;\" /></a></td></tr>\n",
       "<tr><td>44</td><td>IndexedVar</td><td>variable:&nbsp;47<br>index:&nbsp;49<br></td><td><a class=\"ProveItLink\" href=\"../../../../../../core_expr_types/__pv_it/common/d8d3053e77ba1db68c0cd106952422881db586670/expr.ipynb\"><img src=\"../../../../../../core_expr_types/__pv_it/common/d8d3053e77ba1db68c0cd106952422881db586670/expr.png\" style=\"display:inline;vertical-align:middle;\" /></a></td></tr>\n",
       "<tr><td>45</td><td>Variable</td><td></td><td><a class=\"ProveItLink\" href=\"../../../../../../__pv_it/common/575a6156bb1c87c5beeaf38c302b5905ad57f5780/expr.ipynb\"><img src=\"../../../../../../__pv_it/common/575a6156bb1c87c5beeaf38c302b5905ad57f5780/expr.png\" style=\"display:inline;vertical-align:middle;\" /></a></td></tr>\n",
       "<tr><td>46</td><td>Literal</td><td></td><td><a class=\"ProveItLink\" href=\"../../../../__pv_it/common/403fe13b47e88338ea89df6ca9c0a25591d1508d0/expr.ipynb\"><img src=\"../../../../__pv_it/common/403fe13b47e88338ea89df6ca9c0a25591d1508d0/expr.png\" style=\"display:inline;vertical-align:middle;\" /></a></td></tr>\n",
       "<tr><td>47</td><td>Variable</td><td></td><td><a class=\"ProveItLink\" href=\"../../../../../../__pv_it/common/66c90e66682f107a881f2d666959f64e2e72ad750/expr.ipynb\"><img src=\"../../../../../../__pv_it/common/66c90e66682f107a881f2d666959f64e2e72ad750/expr.png\" style=\"display:inline;vertical-align:middle;\" /></a></td></tr>\n",
       "<tr><td>48</td><td>ExprTuple</td><td>49</td><td><a class=\"ProveItLink\" href=\"../../../../../../core_expr_types/__pv_it/common/ecf50ade416ab41c42c9f4e777b4c862cd9469670/expr.ipynb\"><img src=\"../../../../../../core_expr_types/__pv_it/common/ecf50ade416ab41c42c9f4e777b4c862cd9469670/expr.png\" style=\"display:inline;vertical-align:middle;\" /></a></td></tr>\n",
       "<tr><td>49</td><td>Variable</td><td></td><td><a class=\"ProveItLink\" href=\"../../../../../../core_expr_types/__pv_it/common/9e6d9d5d7eeb0342cf5bca68def0eb165a1a9bb10/expr.ipynb\"><img src=\"../../../../../../core_expr_types/__pv_it/common/9e6d9d5d7eeb0342cf5bca68def0eb165a1a9bb10/expr.png\" style=\"display:inline;vertical-align:middle;\" /></a></td></tr>\n",
       "</table>\n"
      ],
      "text/plain": [
       "0. forall_{a_{1}, ..a_{_a}.., a_{m}, b in Digits | b < 9} ((\\# (a_{1} ~ ..a_{_a}.. ~ a_{m} ~ b ~ 9 ~ ..k repeats.. ~ 9) + 1) = \\# (a_{1} ~ ..a_{_a}.. ~ a_{m} ~ (b + 1) ~ 0 ~ ..k repeats.. ~ 0))\n",
       "   core type: Operation\n",
       "   operator: 1\n",
       "   operand: 3\n",
       "1. forall\n",
       "   core type: Literal\n",
       "   sub-expressions: \n",
       "2. ((a_{1}, ..a_{_a}.., a_{m}, b) -> {(\\# (a_{1} ~ ..a_{_a}.. ~ a_{m} ~ b ~ 9 ~ ..k repeats.. ~ 9) + 1) = \\# (a_{1} ~ ..a_{_a}.. ~ a_{m} ~ (b + 1) ~ 0 ~ ..k repeats.. ~ 0) if a_{1} in Digits ,  ..a_{_a} in Digits.. ,  a_{m} in Digits ,  b in Digits ,  b < 9.)\n",
       "   core type: ExprTuple\n",
       "   sub-expressions: 3\n",
       "3. (a_{1}, ..a_{_a}.., a_{m}, b) -> {(\\# (a_{1} ~ ..a_{_a}.. ~ a_{m} ~ b ~ 9 ~ ..k repeats.. ~ 9) + 1) = \\# (a_{1} ~ ..a_{_a}.. ~ a_{m} ~ (b + 1) ~ 0 ~ ..k repeats.. ~ 0) if a_{1} in Digits ,  ..a_{_a} in Digits.. ,  a_{m} in Digits ,  b in Digits ,  b < 9.\n",
       "   core type: Lambda\n",
       "   parameters: 4\\n   body: 5\n",
       "4. (a_{1}, ..a_{_a}.., a_{m}, b)\n",
       "   core type: ExprTuple\n",
       "   sub-expressions: 34, 36\n",
       "5. {(\\# (a_{1} ~ ..a_{_a}.. ~ a_{m} ~ b ~ 9 ~ ..k repeats.. ~ 9) + 1) = \\# (a_{1} ~ ..a_{_a}.. ~ a_{m} ~ (b + 1) ~ 0 ~ ..k repeats.. ~ 0) if a_{1} in Digits ,  ..a_{_a} in Digits.. ,  a_{m} in Digits ,  b in Digits ,  b < 9.\n",
       "   core type: Conditional\n",
       "   value: 6\n",
       "   condition: 7\n",
       "6. (\\# (a_{1} ~ ..a_{_a}.. ~ a_{m} ~ b ~ 9 ~ ..k repeats.. ~ 9) + 1) = \\# (a_{1} ~ ..a_{_a}.. ~ a_{m} ~ (b + 1) ~ 0 ~ ..k repeats.. ~ 0)\n",
       "   core type: Operation\n",
       "   operator: 8\n",
       "   operands: 9\n",
       "7. (a_{1} in Digits) and ..(a_{_a} in Digits).. and (a_{m} in Digits) and (b in Digits) and (b < 9)\n",
       "   core type: Operation\n",
       "   operator: 10\n",
       "   operands: 11\n",
       "8. =\n",
       "   core type: Literal\n",
       "   sub-expressions: \n",
       "9. (\\# (a_{1} ~ ..a_{_a}.. ~ a_{m} ~ b ~ 9 ~ ..k repeats.. ~ 9) + 1, \\# (a_{1} ~ ..a_{_a}.. ~ a_{m} ~ (b + 1) ~ 0 ~ ..k repeats.. ~ 0))\n",
       "   core type: ExprTuple\n",
       "   sub-expressions: 12, 13\n",
       "10. and\n",
       "    core type: Literal\n",
       "    sub-expressions: \n",
       "11. (a_{1} in Digits, ..a_{_a} in Digits.., a_{m} in Digits, b in Digits, b < 9)\n",
       "    core type: ExprTuple\n",
       "    sub-expressions: 14, 15, 16\n",
       "12. \\# (a_{1} ~ ..a_{_a}.. ~ a_{m} ~ b ~ 9 ~ ..k repeats.. ~ 9) + 1\n",
       "    core type: Operation\n",
       "    operator: 29\n",
       "    operands: 17\n",
       "13. \\# (a_{1} ~ ..a_{_a}.. ~ a_{m} ~ (b + 1) ~ 0 ~ ..k repeats.. ~ 0)\n",
       "    core type: Operation\n",
       "    operator: 27\n",
       "    operands: 18\n",
       "14. (a_{1} in Digits), ..(a_{_a} in Digits).., (a_{m} in Digits)\n",
       "    core type: ExprRange\n",
       "    lambda_map: 19\n",
       "    start_index: 42\n",
       "    end_index: 40\n",
       "15. b in Digits\n",
       "    core type: Operation\n",
       "    operator: 32\n",
       "    operands: 20\n",
       "16. b < 9\n",
       "    core type: Operation\n",
       "    operator: 21\n",
       "    operands: 22\n",
       "17. (\\# (a_{1} ~ ..a_{_a}.. ~ a_{m} ~ b ~ 9 ~ ..k repeats.. ~ 9), 1)\n",
       "    core type: ExprTuple\n",
       "    sub-expressions: 23, 42\n",
       "18. (a_{1}, ..a_{_a}.., a_{m}, b + 1, 0, ..k repeats.., 0)\n",
       "    core type: ExprTuple\n",
       "    sub-expressions: 34, 24, 25\n",
       "19. _a -> (a_{_a} in Digits)\n",
       "    core type: Lambda\n",
       "    parameter: 49\n",
       "    body: 26\n",
       "20. (b, Digits)\n",
       "    core type: ExprTuple\n",
       "    sub-expressions: 36, 38\n",
       "21. <\n",
       "    core type: Literal\n",
       "    sub-expressions: \n",
       "22. (b, 9)\n",
       "    core type: ExprTuple\n",
       "    sub-expressions: 36, 46\n",
       "23. \\# (a_{1} ~ ..a_{_a}.. ~ a_{m} ~ b ~ 9 ~ ..k repeats.. ~ 9)\n",
       "    core type: Operation\n",
       "    operator: 27\n",
       "    operands: 28\n",
       "24. b + 1\n",
       "    core type: Operation\n",
       "    operator: 29\n",
       "    operands: 30\n",
       "25. 0, ..k repeats.., 0\n",
       "    core type: ExprRange\n",
       "    lambda_map: 31\n",
       "    start_index: 42\n",
       "    end_index: 43\n",
       "26. a_{_a} in Digits\n",
       "    core type: Operation\n",
       "    operator: 32\n",
       "    operands: 33\n",
       "27. Decimal\n",
       "    core type: Literal\n",
       "    sub-expressions: \n",
       "28. (a_{1}, ..a_{_a}.., a_{m}, b, 9, ..k repeats.., 9)\n",
       "    core type: ExprTuple\n",
       "    sub-expressions: 34, 36, 35\n",
       "29. +\n",
       "    core type: Literal\n",
       "    sub-expressions: \n",
       "30. (b, 1)\n",
       "    core type: ExprTuple\n",
       "    sub-expressions: 36, 42\n",
       "31. i -> 0\n",
       "    core type: Lambda\n",
       "    parameter: 45\n",
       "    body: 37\n",
       "32. in\n",
       "    core type: Literal\n",
       "    sub-expressions: \n",
       "33. (a_{_a}, Digits)\n",
       "    core type: ExprTuple\n",
       "    sub-expressions: 44, 38\n",
       "34. a_{1}, ..a_{_a}.., a_{m}\n",
       "    core type: ExprRange\n",
       "    lambda_map: 39\n",
       "    start_index: 42\n",
       "    end_index: 40\n",
       "35. 9, ..k repeats.., 9\n",
       "    core type: ExprRange\n",
       "    lambda_map: 41\n",
       "    start_index: 42\n",
       "    end_index: 43\n",
       "36. b\n",
       "    core type: Variable\n",
       "    sub-expressions: \n",
       "37. 0\n",
       "    core type: Literal\n",
       "    sub-expressions: \n",
       "38. Digits\n",
       "    core type: Literal\n",
       "    sub-expressions: \n",
       "39. _a -> a_{_a}\n",
       "    core type: Lambda\n",
       "    parameter: 49\n",
       "    body: 44\n",
       "40. m\n",
       "    core type: Variable\n",
       "    sub-expressions: \n",
       "41. i -> 9\n",
       "    core type: Lambda\n",
       "    parameter: 45\n",
       "    body: 46\n",
       "42. 1\n",
       "    core type: Literal\n",
       "    sub-expressions: \n",
       "43. k\n",
       "    core type: Variable\n",
       "    sub-expressions: \n",
       "44. a_{_a}\n",
       "    core type: IndexedVar\n",
       "variable: 47\n",
       "index: 49\n",
       "45. i\n",
       "    core type: Variable\n",
       "    sub-expressions: \n",
       "46. 9\n",
       "    core type: Literal\n",
       "    sub-expressions: \n",
       "47. a\n",
       "    core type: Variable\n",
       "    sub-expressions: \n",
       "48. (_a)\n",
       "    core type: ExprTuple\n",
       "    sub-expressions: 49\n",
       "49. _a\n",
       "    core type: Variable\n",
       "    sub-expressions: "
      ]
     },
     "execution_count": 6,
     "metadata": {},
     "output_type": "execute_result"
    }
   ],
   "source": [
    "# display the expression information\n",
    "expr.expr_info()"
   ]
  },
  {
   "cell_type": "code",
   "execution_count": null,
   "metadata": {},
   "outputs": [],
   "source": []
  }
 ],
 "metadata": {
  "kernelspec": {
   "display_name": "Python 3",
   "language": "python",
   "name": "python3"
  }
 },
 "nbformat": 4,
 "nbformat_minor": 0
}