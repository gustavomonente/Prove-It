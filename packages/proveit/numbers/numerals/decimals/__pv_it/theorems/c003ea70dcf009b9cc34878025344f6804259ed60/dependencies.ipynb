{
 "cells": [
  {
   "cell_type": "markdown",
   "metadata": {},
   "source": [
    "Theorem Dependencies\n",
    "=======================\n",
    "\n",
    "## <a class=\"ProveItLink\" href=\"../../../_theory_nbs_/theory.ipynb\">proveit.numbers.numerals.decimals</a>.<a class=\"ProveItLink\" href=\"../../../_theorems_.ipynb#nat2\">nat2</a> \n",
    "***see <a class=\"ProveItLink\" href=\"../../../_theory_nbs_/proofs/nat2/thm_proof.ipynb\">proof</a>***"
   ]
  },
  {
   "cell_type": "code",
   "execution_count": 1,
   "metadata": {},
   "outputs": [],
   "source": [
    "import proveit\n",
    "# Automation is not needed when querying dependencies:\n",
    "proveit.defaults.automation = False # This will speed things up.\n",
    "proveit.defaults.inline_pngs = False # Makes files smaller.\n",
    "from proveit.numbers.numerals.decimals import nat2"
   ]
  },
  {
   "cell_type": "code",
   "execution_count": 2,
   "metadata": {},
   "outputs": [
    {
     "data": {
      "text/html": [
       "<h3>Axioms required (directly or indirectly) to prove nat2</h3>"
      ],
      "text/plain": [
       "<IPython.core.display.HTML object>"
      ]
     },
     "metadata": {},
     "output_type": "display_data"
    },
    {
     "data": {
      "text/html": [
       "<dl>"
      ],
      "text/plain": [
       "<IPython.core.display.HTML object>"
      ]
     },
     "metadata": {},
     "output_type": "display_data"
    },
    {
     "data": {
      "text/html": [
       "<dt><a class=\"ProveItLink\" href=\"../../../../../../logic/booleans/_theory_nbs_/axioms.ipynb#eq_true_elim\">proveit.logic.booleans.eq_true_elim</a></dt><dd><a class=\"ProveItLink\" href=\"../../../../../../logic/booleans/__pv_it/axioms/ed8b0a27c515b8c85261606f0835dadd8c8b34f70/expr.ipynb\"><img src=\"../../../../../../logic/booleans/__pv_it/axioms/ed8b0a27c515b8c85261606f0835dadd8c8b34f70/expr.png\" style=\"display:inline;vertical-align:middle;\" /></a></dd>"
      ],
      "text/plain": [
       "<IPython.core.display.HTML object>"
      ]
     },
     "metadata": {},
     "output_type": "display_data"
    },
    {
     "data": {
      "text/html": [
       "<dt><a class=\"ProveItLink\" href=\"../../../../../../logic/booleans/_theory_nbs_/axioms.ipynb#eq_true_intro\">proveit.logic.booleans.eq_true_intro</a></dt><dd><a class=\"ProveItLink\" href=\"../../../../../../logic/booleans/__pv_it/axioms/3a99d3cb7c410f4636cdc59f7b36cdf6997b37680/expr.ipynb\"><img src=\"../../../../../../logic/booleans/__pv_it/axioms/3a99d3cb7c410f4636cdc59f7b36cdf6997b37680/expr.png\" style=\"display:inline;vertical-align:middle;\" /></a></dd>"
      ],
      "text/plain": [
       "<IPython.core.display.HTML object>"
      ]
     },
     "metadata": {},
     "output_type": "display_data"
    },
    {
     "data": {
      "text/html": [
       "<dt><a class=\"ProveItLink\" href=\"../../../../../../logic/equality/_theory_nbs_/axioms.ipynb#equals_transitivity\">proveit.logic.equality.equals_transitivity</a></dt><dd><a class=\"ProveItLink\" href=\"../../../../../../logic/equality/__pv_it/axioms/fe5ecb4839370106d7aa598ff8e51b95c71757a70/expr.ipynb\"><img src=\"../../../../../../logic/equality/__pv_it/axioms/fe5ecb4839370106d7aa598ff8e51b95c71757a70/expr.png\" style=\"display:inline;vertical-align:middle;\" /></a></dd>"
      ],
      "text/plain": [
       "<IPython.core.display.HTML object>"
      ]
     },
     "metadata": {},
     "output_type": "display_data"
    },
    {
     "data": {
      "text/html": [
       "<dt><a class=\"ProveItLink\" href=\"../../../../../../logic/equality/_theory_nbs_/axioms.ipynb#substitution\">proveit.logic.equality.substitution</a></dt><dd><a class=\"ProveItLink\" href=\"../../../../../../logic/equality/__pv_it/axioms/fb5aa0007e656f471030da411c3555b23b265d8f0/expr.ipynb\"><img src=\"../../../../../../logic/equality/__pv_it/axioms/fb5aa0007e656f471030da411c3555b23b265d8f0/expr.png\" style=\"display:inline;vertical-align:middle;\" /></a></dd>"
      ],
      "text/plain": [
       "<IPython.core.display.HTML object>"
      ]
     },
     "metadata": {},
     "output_type": "display_data"
    },
    {
     "data": {
      "text/html": [
       "<dt><a class=\"ProveItLink\" href=\"../../../../../number_sets/natural_numbers/_theory_nbs_/axioms.ipynb#successor_in_nats\">proveit.numbers.number_sets.natural_numbers.successor_in_nats</a></dt><dd><a class=\"ProveItLink\" href=\"../../../../../number_sets/natural_numbers/__pv_it/axioms/2db81787f6a0f99da3aba01d94e3b9282244bf690/expr.ipynb\"><img src=\"../../../../../number_sets/natural_numbers/__pv_it/axioms/2db81787f6a0f99da3aba01d94e3b9282244bf690/expr.png\" style=\"display:inline;vertical-align:middle;\" /></a></dd>"
      ],
      "text/plain": [
       "<IPython.core.display.HTML object>"
      ]
     },
     "metadata": {},
     "output_type": "display_data"
    },
    {
     "data": {
      "text/html": [
       "<dt><a class=\"ProveItLink\" href=\"../../../../../number_sets/natural_numbers/_theory_nbs_/axioms.ipynb#zero_in_nats\">proveit.numbers.number_sets.natural_numbers.zero_in_nats</a></dt><dd><a class=\"ProveItLink\" href=\"../../../../../number_sets/natural_numbers/__pv_it/axioms/0b15b4387138326157a681ee81e504aafbe547fc0/expr.ipynb\"><img src=\"../../../../../number_sets/natural_numbers/__pv_it/axioms/0b15b4387138326157a681ee81e504aafbe547fc0/expr.png\" style=\"display:inline;vertical-align:middle;\" /></a></dd>"
      ],
      "text/plain": [
       "<IPython.core.display.HTML object>"
      ]
     },
     "metadata": {},
     "output_type": "display_data"
    },
    {
     "data": {
      "text/html": [
       "<dt><a class=\"ProveItLink\" href=\"../../../_theory_nbs_/axioms.ipynb#one_def\">proveit.numbers.numerals.decimals.one_def</a></dt><dd><a class=\"ProveItLink\" href=\"../../axioms/3b8a0fdd6ab23c4e3ffec5a1eaca45ba8800b76d0/expr.ipynb\"><img src=\"../../axioms/3b8a0fdd6ab23c4e3ffec5a1eaca45ba8800b76d0/expr.png\" style=\"display:inline;vertical-align:middle;\" /></a></dd>"
      ],
      "text/plain": [
       "<IPython.core.display.HTML object>"
      ]
     },
     "metadata": {},
     "output_type": "display_data"
    },
    {
     "data": {
      "text/html": [
       "<dt><a class=\"ProveItLink\" href=\"../../../_theory_nbs_/axioms.ipynb#two_def\">proveit.numbers.numerals.decimals.two_def</a></dt><dd><a class=\"ProveItLink\" href=\"../../axioms/e98b085de1ec8e054620f1fe3934bd43118538d00/expr.ipynb\"><img src=\"../../axioms/e98b085de1ec8e054620f1fe3934bd43118538d00/expr.png\" style=\"display:inline;vertical-align:middle;\" /></a></dd>"
      ],
      "text/plain": [
       "<IPython.core.display.HTML object>"
      ]
     },
     "metadata": {},
     "output_type": "display_data"
    },
    {
     "data": {
      "text/html": [
       "</dl>"
      ],
      "text/plain": [
       "<IPython.core.display.HTML object>"
      ]
     },
     "metadata": {},
     "output_type": "display_data"
    },
    {
     "data": {
      "text/html": [
       "<h3>Theorems/conjectures that depend directly on nat2</h3>"
      ],
      "text/plain": [
       "<IPython.core.display.HTML object>"
      ]
     },
     "metadata": {},
     "output_type": "display_data"
    },
    {
     "data": {
      "text/html": [
       "<dl>"
      ],
      "text/plain": [
       "<IPython.core.display.HTML object>"
      ]
     },
     "metadata": {},
     "output_type": "display_data"
    },
    {
     "data": {
      "text/html": [
       "<dt><a class=\"ProveItLink\" href=\"../../../../../../logic/booleans/_theory_nbs_/proofs/fold_is_bool/thm_proof.ipynb\">proveit.logic.booleans.fold_is_bool</a></dt><dd><a class=\"ProveItLink\" href=\"../../../../../../logic/booleans/__pv_it/theorems/38fe941db6e00e37ac4076a456a4e2ef973845650/expr.ipynb\"><img src=\"../../../../../../logic/booleans/__pv_it/theorems/38fe941db6e00e37ac4076a456a4e2ef973845650/expr.png\" style=\"display:inline;vertical-align:middle;\" /></a></dd>"
      ],
      "text/plain": [
       "<IPython.core.display.HTML object>"
      ]
     },
     "metadata": {},
     "output_type": "display_data"
    },
    {
     "data": {
      "text/html": [
       "<dt><a class=\"ProveItLink\" href=\"../../../../../../logic/booleans/implication/_theory_nbs_/proofs/eq_from_iff/thm_proof.ipynb\">proveit.logic.booleans.implication.eq_from_iff</a></dt><dd><a class=\"ProveItLink\" href=\"../../../../../../logic/booleans/implication/__pv_it/theorems/0f36347affce4dfe8dd59b51976d4641241912ed0/expr.ipynb\"><img src=\"../../../../../../logic/booleans/implication/__pv_it/theorems/0f36347affce4dfe8dd59b51976d4641241912ed0/expr.png\" style=\"display:inline;vertical-align:middle;\" /></a></dd>"
      ],
      "text/plain": [
       "<IPython.core.display.HTML object>"
      ]
     },
     "metadata": {},
     "output_type": "display_data"
    },
    {
     "data": {
      "text/html": [
       "<dt><a class=\"ProveItLink\" href=\"../../../../../../logic/booleans/_theory_nbs_/proofs/in_bool_def/thm_proof.ipynb\">proveit.logic.booleans.in_bool_def</a></dt><dd><a class=\"ProveItLink\" href=\"../../../../../../logic/booleans/__pv_it/theorems/b6fed77b9dde0473abdde458d67b557d1b09347a0/expr.ipynb\"><img src=\"../../../../../../logic/booleans/__pv_it/theorems/b6fed77b9dde0473abdde458d67b557d1b09347a0/expr.png\" style=\"display:inline;vertical-align:middle;\" /></a></dd>"
      ],
      "text/plain": [
       "<IPython.core.display.HTML object>"
      ]
     },
     "metadata": {},
     "output_type": "display_data"
    },
    {
     "data": {
      "text/html": [
       "<dt><a class=\"ProveItLink\" href=\"../../../../../../logic/booleans/_theory_nbs_/proofs/unfold_is_bool_explicit/thm_proof.ipynb\">proveit.logic.booleans.unfold_is_bool_explicit</a></dt><dd><a class=\"ProveItLink\" href=\"../../../../../../logic/booleans/__pv_it/theorems/9382897827adf7928ed0fbce0da4ae89cdc9f16e0/expr.ipynb\"><img src=\"../../../../../../logic/booleans/__pv_it/theorems/9382897827adf7928ed0fbce0da4ae89cdc9f16e0/expr.png\" style=\"display:inline;vertical-align:middle;\" /></a></dd>"
      ],
      "text/plain": [
       "<IPython.core.display.HTML object>"
      ]
     },
     "metadata": {},
     "output_type": "display_data"
    },
    {
     "data": {
      "text/html": [
       "<dt><a class=\"ProveItLink\" href=\"../../../../../exponentiation/_theory_nbs_/proofs/sqrt2_is_not_rational/thm_proof.ipynb\">proveit.numbers.exponentiation.sqrt2_is_not_rational</a></dt><dd><a class=\"ProveItLink\" href=\"../../../../../exponentiation/__pv_it/theorems/9372fddc16eaf34233f04d96d6016085e1bb227a0/expr.ipynb\"><img src=\"../../../../../exponentiation/__pv_it/theorems/9372fddc16eaf34233f04d96d6016085e1bb227a0/expr.png\" style=\"display:inline;vertical-align:middle;\" /></a></dd>"
      ],
      "text/plain": [
       "<IPython.core.display.HTML object>"
      ]
     },
     "metadata": {},
     "output_type": "display_data"
    },
    {
     "data": {
      "text/html": [
       "<dt><a class=\"ProveItLink\" href=\"../../../_theory_nbs_/proofs/tuple_len_3/thm_proof.ipynb\">proveit.numbers.numerals.decimals.tuple_len_3</a></dt><dd><a class=\"ProveItLink\" href=\"../256bfcb494dcdd73881d226903ce55927003538c0/expr.ipynb\"><img src=\"../256bfcb494dcdd73881d226903ce55927003538c0/expr.png\" style=\"display:inline;vertical-align:middle;\" /></a></dd>"
      ],
      "text/plain": [
       "<IPython.core.display.HTML object>"
      ]
     },
     "metadata": {},
     "output_type": "display_data"
    },
    {
     "data": {
      "text/html": [
       "<dt><a class=\"ProveItLink\" href=\"../../../../../../physics/quantum/QPE/_theory_nbs_/proofs/scaled_delta_in_interval/thm_proof.ipynb\">proveit.physics.quantum.QPE.scaled_delta_in_interval</a></dt><dd><a class=\"ProveItLink\" href=\"../../../../../../physics/quantum/QPE/__pv_it/theorems/c2d1bf1a1961ff085bafa1c9cf9a6b65c0d2030c0/expr.ipynb\"><img src=\"../../../../../../physics/quantum/QPE/__pv_it/theorems/c2d1bf1a1961ff085bafa1c9cf9a6b65c0d2030c0/expr.png\" style=\"display:inline;vertical-align:middle;\" /></a></dd>"
      ],
      "text/plain": [
       "<IPython.core.display.HTML object>"
      ]
     },
     "metadata": {},
     "output_type": "display_data"
    },
    {
     "data": {
      "text/html": [
       "<dt><a class=\"ProveItLink\" href=\"../../../../../../physics/quantum/QPE/_theory_nbs_/proofs/two_pow_t_not_zero/thm_proof.ipynb\">proveit.physics.quantum.QPE.two_pow_t_not_zero</a></dt><dd><a class=\"ProveItLink\" href=\"../../../../../../physics/quantum/QPE/__pv_it/theorems/076a0c485f2bd4d9d3bc331ff4d4baae3d13dba70/expr.ipynb\"><img src=\"../../../../../../physics/quantum/QPE/__pv_it/theorems/076a0c485f2bd4d9d3bc331ff4d4baae3d13dba70/expr.png\" style=\"display:inline;vertical-align:middle;\" /></a></dd>"
      ],
      "text/plain": [
       "<IPython.core.display.HTML object>"
      ]
     },
     "metadata": {},
     "output_type": "display_data"
    },
    {
     "data": {
      "text/html": [
       "</dl>"
      ],
      "text/plain": [
       "<IPython.core.display.HTML object>"
      ]
     },
     "metadata": {},
     "output_type": "display_data"
    }
   ],
   "source": [
    "%dependencies nat2"
   ]
  }
 ],
 "metadata": {
  "kernelspec": {
   "display_name": "Python 3",
   "language": "python",
   "name": "python3"
  }
 },
 "nbformat": 4,
 "nbformat_minor": 0
}