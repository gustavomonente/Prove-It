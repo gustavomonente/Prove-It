{
 "cells": [
  {
   "cell_type": "markdown",
   "metadata": {},
   "source": [
    "Expression of type <a class=\"ProveItLink\" href=\"../../../../../../../../doc/html/api/proveit.logic.And.html\">And</a>\n",
    "=======================\n",
    "# from the theory of <a class=\"ProveItLink\" href=\"../../../_theory_nbs_/theory.ipynb\">proveit.numbers.numerals.decimals</a>"
   ]
  },
  {
   "cell_type": "code",
   "execution_count": 1,
   "metadata": {},
   "outputs": [],
   "source": [
    "import proveit\n",
    "# Automation is not needed when building an expression:\n",
    "proveit.defaults.automation = False # This will speed things up.\n",
    "proveit.defaults.inline_pngs = False # Makes files smaller.\n",
    "%load_expr # Load the stored expression as 'stored_expr'\n",
    "# import Expression classes needed to build the expression\n",
    "from proveit import ExprRange, IndexedVar, Variable, a, b, c, d, i, k, m, n\n",
    "from proveit.logic import And, Equals, InSet\n",
    "from proveit.numbers import Digits, one"
   ]
  },
  {
   "cell_type": "code",
   "execution_count": 2,
   "metadata": {},
   "outputs": [
    {
     "data": {
      "text/html": [
       "<strong id=\"expr\">expr:</strong> <a class=\"ProveItLink\" href=\"expr.ipynb\"><img src=\"expr.png\" style=\"display:inline;vertical-align:middle;\" /></a><br>"
      ],
      "text/plain": [
       "expr: (a_{1} in Digits) and ..(a_{_a} in Digits).. and (a_{m} in Digits) and (b in Digits) and (c_{1} in Digits) and ..(c_{_a} in Digits).. and (c_{n} in Digits) and (d_{1} in Digits) and ..(d_{_a} in Digits).. and (d_{k} in Digits) and ((b, ..n repeats.., b) = (c_{1}, ..c_{_a}.., c_{n}))"
      ]
     },
     "execution_count": 2,
     "metadata": {},
     "output_type": "execute_result"
    }
   ],
   "source": [
    "# build up the expression from sub-expressions\n",
    "sub_expr1 = Variable(\"_a\", latex_format = r\"{_{-}a}\")\n",
    "sub_expr2 = IndexedVar(c, sub_expr1)\n",
    "expr = And(ExprRange(sub_expr1, InSet(IndexedVar(a, sub_expr1), Digits), one, m), InSet(b, Digits), ExprRange(sub_expr1, InSet(sub_expr2, Digits), one, n), ExprRange(sub_expr1, InSet(IndexedVar(d, sub_expr1), Digits), one, k), Equals([ExprRange(i, b, one, n)], [ExprRange(sub_expr1, sub_expr2, one, n)]))"
   ]
  },
  {
   "cell_type": "code",
   "execution_count": 3,
   "metadata": {},
   "outputs": [
    {
     "name": "stdout",
     "output_type": "stream",
     "text": [
      "Passed sanity check: expr matches stored_expr\n"
     ]
    }
   ],
   "source": [
    "# check that the built expression is the same as the stored expression\n",
    "assert expr == stored_expr\n",
    "assert expr._style_id == stored_expr._style_id\n",
    "print(\"Passed sanity check: expr matches stored_expr\")"
   ]
  },
  {
   "cell_type": "code",
   "execution_count": 4,
   "metadata": {},
   "outputs": [
    {
     "name": "stdout",
     "output_type": "stream",
     "text": [
      "\\left(a_{1} \\in \\mathbb{N}^{\\leq 9}\\right) \\land \\ldots \\land \\left(a_{m} \\in \\mathbb{N}^{\\leq 9}\\right) \\land \\left(b \\in \\mathbb{N}^{\\leq 9}\\right) \\land \\left(c_{1} \\in \\mathbb{N}^{\\leq 9}\\right) \\land \\ldots \\land \\left(c_{n} \\in \\mathbb{N}^{\\leq 9}\\right) \\land \\left(d_{1} \\in \\mathbb{N}^{\\leq 9}\\right) \\land \\ldots \\land \\left(d_{k} \\in \\mathbb{N}^{\\leq 9}\\right) \\land \\left(\\left(b, ..n \\textrm{ repeats}.., b\\right) = \\left(c_{1}, \\ldots, c_{n}\\right)\\right)\n"
     ]
    }
   ],
   "source": [
    "# Show the LaTeX representation of the expression for convenience if you need it.\n",
    "print(expr.latex())"
   ]
  },
  {
   "cell_type": "code",
   "execution_count": 5,
   "metadata": {},
   "outputs": [
    {
     "data": {
      "text/html": [
       "<table><tr><th>&nbsp;</th><th>core type</th><th>sub-expressions</th><th>expression</th></tr>\n",
       "<tr><td>0</td><td>Operation</td><td>operator:&nbsp;1<br>operands:&nbsp;2<br></td><td><a class=\"ProveItLink\" href=\"expr.ipynb\"><img src=\"expr.png\" style=\"display:inline;vertical-align:middle;\" /></a></td></tr>\n",
       "<tr><td>1</td><td>Literal</td><td></td><td><a class=\"ProveItLink\" href=\"../../../../../../logic/booleans/conjunction/__pv_it/common/42118ff318bd65d98b1393f64ce7c2269feef76e0/expr.ipynb\"><img src=\"../../../../../../logic/booleans/conjunction/__pv_it/common/42118ff318bd65d98b1393f64ce7c2269feef76e0/expr.png\" style=\"display:inline;vertical-align:middle;\" /></a></td></tr>\n",
       "<tr><td>2</td><td>ExprTuple</td><td>3, 4, 5, 6, 7</td><td><a class=\"ProveItLink\" href=\"../b8ebaa3eaaf5d21cb173d054670705a1af4d20250/expr.ipynb\"><img src=\"../b8ebaa3eaaf5d21cb173d054670705a1af4d20250/expr.png\" style=\"display:inline;vertical-align:middle;\" /></a></td></tr>\n",
       "<tr><td>3</td><td>ExprRange</td><td>lambda_map:&nbsp;8<br>start_index:&nbsp;32<br>end_index:&nbsp;9<br></td><td><a class=\"ProveItLink\" href=\"../02889c0b79308ba5c5ffbf7f3eca4f576d43d39b0/expr.ipynb\"><img src=\"../02889c0b79308ba5c5ffbf7f3eca4f576d43d39b0/expr.png\" style=\"display:inline;vertical-align:middle;\" /></a></td></tr>\n",
       "<tr><td>4</td><td>Operation</td><td>operator:&nbsp;23<br>operands:&nbsp;10<br></td><td><a class=\"ProveItLink\" href=\"../490c3e70cc226fe1270874dfa80878a9c8faf8770/expr.ipynb\"><img src=\"../490c3e70cc226fe1270874dfa80878a9c8faf8770/expr.png\" style=\"display:inline;vertical-align:middle;\" /></a></td></tr>\n",
       "<tr><td>5</td><td>ExprRange</td><td>lambda_map:&nbsp;11<br>start_index:&nbsp;32<br>end_index:&nbsp;33<br></td><td><a class=\"ProveItLink\" href=\"../181fe58a922e06d35f92006516f72f16d28287270/expr.ipynb\"><img src=\"../181fe58a922e06d35f92006516f72f16d28287270/expr.png\" style=\"display:inline;vertical-align:middle;\" /></a></td></tr>\n",
       "<tr><td>6</td><td>ExprRange</td><td>lambda_map:&nbsp;12<br>start_index:&nbsp;32<br>end_index:&nbsp;13<br></td><td><a class=\"ProveItLink\" href=\"../794f4b8eae72243733f5d96b829031441fdcb2b30/expr.ipynb\"><img src=\"../794f4b8eae72243733f5d96b829031441fdcb2b30/expr.png\" style=\"display:inline;vertical-align:middle;\" /></a></td></tr>\n",
       "<tr><td>7</td><td>Operation</td><td>operator:&nbsp;14<br>operands:&nbsp;15<br></td><td><a class=\"ProveItLink\" href=\"../84ac3ff9dd2372cfea4335d92ec5016e93cbe2330/expr.ipynb\"><img src=\"../84ac3ff9dd2372cfea4335d92ec5016e93cbe2330/expr.png\" style=\"display:inline;vertical-align:middle;\" /></a></td></tr>\n",
       "<tr><td>8</td><td>Lambda</td><td>parameter:&nbsp;40<br>body:&nbsp;16<br></td><td><a class=\"ProveItLink\" href=\"../2d60ef3ffd7fa85aa6690aabfbac179e43d2993b0/expr.ipynb\"><img src=\"../2d60ef3ffd7fa85aa6690aabfbac179e43d2993b0/expr.png\" style=\"display:inline;vertical-align:middle;\" /></a></td></tr>\n",
       "<tr><td>9</td><td>Variable</td><td></td><td><a class=\"ProveItLink\" href=\"../../../../../../__pv_it/common/674a03b9c3ca221b3aabd5636837b31528ff33830/expr.ipynb\"><img src=\"../../../../../../__pv_it/common/674a03b9c3ca221b3aabd5636837b31528ff33830/expr.png\" style=\"display:inline;vertical-align:middle;\" /></a></td></tr>\n",
       "<tr><td>10</td><td>ExprTuple</td><td>37, 29</td><td><a class=\"ProveItLink\" href=\"../14194db3b343698dd4d13203f0dcf193a58f11390/expr.ipynb\"><img src=\"../14194db3b343698dd4d13203f0dcf193a58f11390/expr.png\" style=\"display:inline;vertical-align:middle;\" /></a></td></tr>\n",
       "<tr><td>11</td><td>Lambda</td><td>parameter:&nbsp;40<br>body:&nbsp;17<br></td><td><a class=\"ProveItLink\" href=\"../52020565cf4572a02cf18d9a2b385bbb0fcaac280/expr.ipynb\"><img src=\"../52020565cf4572a02cf18d9a2b385bbb0fcaac280/expr.png\" style=\"display:inline;vertical-align:middle;\" /></a></td></tr>\n",
       "<tr><td>12</td><td>Lambda</td><td>parameter:&nbsp;40<br>body:&nbsp;18<br></td><td><a class=\"ProveItLink\" href=\"../6f8d49e9c297235494c8cad57758f35e898d74660/expr.ipynb\"><img src=\"../6f8d49e9c297235494c8cad57758f35e898d74660/expr.png\" style=\"display:inline;vertical-align:middle;\" /></a></td></tr>\n",
       "<tr><td>13</td><td>Variable</td><td></td><td><a class=\"ProveItLink\" href=\"../../../../../../__pv_it/common/63b7c64bf9ec7a04ecc396c7a1670f3f12fb59490/expr.ipynb\"><img src=\"../../../../../../__pv_it/common/63b7c64bf9ec7a04ecc396c7a1670f3f12fb59490/expr.png\" style=\"display:inline;vertical-align:middle;\" /></a></td></tr>\n",
       "<tr><td>14</td><td>Literal</td><td></td><td><a class=\"ProveItLink\" href=\"../../../../../../logic/equality/__pv_it/common/fb96dc12b2aa8801dda64d0132b396c63d1502bb0/expr.ipynb\"><img src=\"../../../../../../logic/equality/__pv_it/common/fb96dc12b2aa8801dda64d0132b396c63d1502bb0/expr.png\" style=\"display:inline;vertical-align:middle;\" /></a></td></tr>\n",
       "<tr><td>15</td><td>ExprTuple</td><td>19, 20</td><td><a class=\"ProveItLink\" href=\"../682846ac281697fe59bd0165b96053a490da124e0/expr.ipynb\"><img src=\"../682846ac281697fe59bd0165b96053a490da124e0/expr.png\" style=\"display:inline;vertical-align:middle;\" /></a></td></tr>\n",
       "<tr><td>16</td><td>Operation</td><td>operator:&nbsp;23<br>operands:&nbsp;21<br></td><td><a class=\"ProveItLink\" href=\"../71d9f49bcbe21eb68830ca253cf14bd3c0bd80100/expr.ipynb\"><img src=\"../71d9f49bcbe21eb68830ca253cf14bd3c0bd80100/expr.png\" style=\"display:inline;vertical-align:middle;\" /></a></td></tr>\n",
       "<tr><td>17</td><td>Operation</td><td>operator:&nbsp;23<br>operands:&nbsp;22<br></td><td><a class=\"ProveItLink\" href=\"../f12efa2202e8e7cff384a0e3919ddd4a08e8e0300/expr.ipynb\"><img src=\"../f12efa2202e8e7cff384a0e3919ddd4a08e8e0300/expr.png\" style=\"display:inline;vertical-align:middle;\" /></a></td></tr>\n",
       "<tr><td>18</td><td>Operation</td><td>operator:&nbsp;23<br>operands:&nbsp;24<br></td><td><a class=\"ProveItLink\" href=\"../cb77a9c38ddd5d90fbf35dc1d29bd5ed4f5dae470/expr.ipynb\"><img src=\"../cb77a9c38ddd5d90fbf35dc1d29bd5ed4f5dae470/expr.png\" style=\"display:inline;vertical-align:middle;\" /></a></td></tr>\n",
       "<tr><td>19</td><td>ExprTuple</td><td>25</td><td><a class=\"ProveItLink\" href=\"../560146082b2bb33bd1676d1056806e2d5dbd16ca0/expr.ipynb\"><img src=\"../560146082b2bb33bd1676d1056806e2d5dbd16ca0/expr.png\" style=\"display:inline;vertical-align:middle;\" /></a></td></tr>\n",
       "<tr><td>20</td><td>ExprTuple</td><td>26</td><td><a class=\"ProveItLink\" href=\"../47553b4b4f338fee93a562a66511850d47a9c99d0/expr.ipynb\"><img src=\"../47553b4b4f338fee93a562a66511850d47a9c99d0/expr.png\" style=\"display:inline;vertical-align:middle;\" /></a></td></tr>\n",
       "<tr><td>21</td><td>ExprTuple</td><td>27, 29</td><td><a class=\"ProveItLink\" href=\"../f22eb9cfcde37c88bf22f191e5ac48f3e621c4930/expr.ipynb\"><img src=\"../f22eb9cfcde37c88bf22f191e5ac48f3e621c4930/expr.png\" style=\"display:inline;vertical-align:middle;\" /></a></td></tr>\n",
       "<tr><td>22</td><td>ExprTuple</td><td>38, 29</td><td><a class=\"ProveItLink\" href=\"../42d2b7864d84cb1b9512e381243a3198454dd0ba0/expr.ipynb\"><img src=\"../42d2b7864d84cb1b9512e381243a3198454dd0ba0/expr.png\" style=\"display:inline;vertical-align:middle;\" /></a></td></tr>\n",
       "<tr><td>23</td><td>Literal</td><td></td><td><a class=\"ProveItLink\" href=\"../../../../../../logic/sets/membership/__pv_it/common/477487d8796864d23d5810f83761435f25167f690/expr.ipynb\"><img src=\"../../../../../../logic/sets/membership/__pv_it/common/477487d8796864d23d5810f83761435f25167f690/expr.png\" style=\"display:inline;vertical-align:middle;\" /></a></td></tr>\n",
       "<tr><td>24</td><td>ExprTuple</td><td>28, 29</td><td><a class=\"ProveItLink\" href=\"../851fd5e5671c27c3fe7218c4badb36d86a114f420/expr.ipynb\"><img src=\"../851fd5e5671c27c3fe7218c4badb36d86a114f420/expr.png\" style=\"display:inline;vertical-align:middle;\" /></a></td></tr>\n",
       "<tr><td>25</td><td>ExprRange</td><td>lambda_map:&nbsp;30<br>start_index:&nbsp;32<br>end_index:&nbsp;33<br></td><td><a class=\"ProveItLink\" href=\"../fd8034f4b6291ee58c34a89c80adce6947517dc40/expr.ipynb\"><img src=\"../fd8034f4b6291ee58c34a89c80adce6947517dc40/expr.png\" style=\"display:inline;vertical-align:middle;\" /></a></td></tr>\n",
       "<tr><td>26</td><td>ExprRange</td><td>lambda_map:&nbsp;31<br>start_index:&nbsp;32<br>end_index:&nbsp;33<br></td><td><a class=\"ProveItLink\" href=\"../267fd0bab8111e57155c8193bc3d872ffe127e520/expr.ipynb\"><img src=\"../267fd0bab8111e57155c8193bc3d872ffe127e520/expr.png\" style=\"display:inline;vertical-align:middle;\" /></a></td></tr>\n",
       "<tr><td>27</td><td>IndexedVar</td><td>variable:&nbsp;34<br>index:&nbsp;40<br></td><td><a class=\"ProveItLink\" href=\"../../../../../../core_expr_types/__pv_it/common/ea36c59b79decceeaf696ef762cc9648f9ddbf5c0/expr.ipynb\"><img src=\"../../../../../../core_expr_types/__pv_it/common/ea36c59b79decceeaf696ef762cc9648f9ddbf5c0/expr.png\" style=\"display:inline;vertical-align:middle;\" /></a></td></tr>\n",
       "<tr><td>28</td><td>IndexedVar</td><td>variable:&nbsp;35<br>index:&nbsp;40<br></td><td><a class=\"ProveItLink\" href=\"../3969a690fa3832a3c7123b99818889edf6bdb9e50/expr.ipynb\"><img src=\"../3969a690fa3832a3c7123b99818889edf6bdb9e50/expr.png\" style=\"display:inline;vertical-align:middle;\" /></a></td></tr>\n",
       "<tr><td>29</td><td>Literal</td><td></td><td><a class=\"ProveItLink\" href=\"../../common/dc613b38f2e2437121f05ba71d28bbec8e41bedd0/expr.ipynb\"><img src=\"../../common/dc613b38f2e2437121f05ba71d28bbec8e41bedd0/expr.png\" style=\"display:inline;vertical-align:middle;\" /></a></td></tr>\n",
       "<tr><td>30</td><td>Lambda</td><td>parameter:&nbsp;36<br>body:&nbsp;37<br></td><td><a class=\"ProveItLink\" href=\"../ecb6197fb0f1844b076bb34aeb753c5a67f0f7a00/expr.ipynb\"><img src=\"../ecb6197fb0f1844b076bb34aeb753c5a67f0f7a00/expr.png\" style=\"display:inline;vertical-align:middle;\" /></a></td></tr>\n",
       "<tr><td>31</td><td>Lambda</td><td>parameter:&nbsp;40<br>body:&nbsp;38<br></td><td><a class=\"ProveItLink\" href=\"../50b220ed56a20dac0c4667074998a6fc9d200d7e0/expr.ipynb\"><img src=\"../50b220ed56a20dac0c4667074998a6fc9d200d7e0/expr.png\" style=\"display:inline;vertical-align:middle;\" /></a></td></tr>\n",
       "<tr><td>32</td><td>Literal</td><td></td><td><a class=\"ProveItLink\" href=\"../../../../__pv_it/common/2778428c7f555b2bdc06aa0530bc142c6e6335100/expr.ipynb\"><img src=\"../../../../__pv_it/common/2778428c7f555b2bdc06aa0530bc142c6e6335100/expr.png\" style=\"display:inline;vertical-align:middle;\" /></a></td></tr>\n",
       "<tr><td>33</td><td>Variable</td><td></td><td><a class=\"ProveItLink\" href=\"../../../../../../__pv_it/common/8968bb04eb3f7dfa02353397ce929b025bbd79c20/expr.ipynb\"><img src=\"../../../../../../__pv_it/common/8968bb04eb3f7dfa02353397ce929b025bbd79c20/expr.png\" style=\"display:inline;vertical-align:middle;\" /></a></td></tr>\n",
       "<tr><td>34</td><td>Variable</td><td></td><td><a class=\"ProveItLink\" href=\"../../../../../../__pv_it/common/c06c606ec12678c58933ac85412ecadc2ae28be60/expr.ipynb\"><img src=\"../../../../../../__pv_it/common/c06c606ec12678c58933ac85412ecadc2ae28be60/expr.png\" style=\"display:inline;vertical-align:middle;\" /></a></td></tr>\n",
       "<tr><td>35</td><td>Variable</td><td></td><td><a class=\"ProveItLink\" href=\"../../../../../../__pv_it/common/4f5c524ffda87296de1c79b96880123fe2efedd50/expr.ipynb\"><img src=\"../../../../../../__pv_it/common/4f5c524ffda87296de1c79b96880123fe2efedd50/expr.png\" style=\"display:inline;vertical-align:middle;\" /></a></td></tr>\n",
       "<tr><td>36</td><td>Variable</td><td></td><td><a class=\"ProveItLink\" href=\"../../../../../../__pv_it/common/ae955345c83abf786c3aff8681cd5465beae262d0/expr.ipynb\"><img src=\"../../../../../../__pv_it/common/ae955345c83abf786c3aff8681cd5465beae262d0/expr.png\" style=\"display:inline;vertical-align:middle;\" /></a></td></tr>\n",
       "<tr><td>37</td><td>Variable</td><td></td><td><a class=\"ProveItLink\" href=\"../../../../../../__pv_it/common/195236b98c6c564a75b5dbada74b173bc52d5c3e0/expr.ipynb\"><img src=\"../../../../../../__pv_it/common/195236b98c6c564a75b5dbada74b173bc52d5c3e0/expr.png\" style=\"display:inline;vertical-align:middle;\" /></a></td></tr>\n",
       "<tr><td>38</td><td>IndexedVar</td><td>variable:&nbsp;39<br>index:&nbsp;40<br></td><td><a class=\"ProveItLink\" href=\"../fcb0156dfe676aeef68a96805ac9e22154d29a340/expr.ipynb\"><img src=\"../fcb0156dfe676aeef68a96805ac9e22154d29a340/expr.png\" style=\"display:inline;vertical-align:middle;\" /></a></td></tr>\n",
       "<tr><td>39</td><td>Variable</td><td></td><td><a class=\"ProveItLink\" href=\"../../../../../../__pv_it/common/ceef4280a2f1cc604b455b54e735507244cc62cd0/expr.ipynb\"><img src=\"../../../../../../__pv_it/common/ceef4280a2f1cc604b455b54e735507244cc62cd0/expr.png\" style=\"display:inline;vertical-align:middle;\" /></a></td></tr>\n",
       "<tr><td>40</td><td>Variable</td><td></td><td><a class=\"ProveItLink\" href=\"../../../../../../core_expr_types/__pv_it/common/006c465e50948aa2b52285e2de47974f741255cc0/expr.ipynb\"><img src=\"../../../../../../core_expr_types/__pv_it/common/006c465e50948aa2b52285e2de47974f741255cc0/expr.png\" style=\"display:inline;vertical-align:middle;\" /></a></td></tr>\n",
       "</table>\n"
      ],
      "text/plain": [
       "0. (a_{1} in Digits) and ..(a_{_a} in Digits).. and (a_{m} in Digits) and (b in Digits) and (c_{1} in Digits) and ..(c_{_a} in Digits).. and (c_{n} in Digits) and (d_{1} in Digits) and ..(d_{_a} in Digits).. and (d_{k} in Digits) and ((b, ..n repeats.., b) = (c_{1}, ..c_{_a}.., c_{n}))\n",
       "   core type: Operation\n",
       "   operator: 1\n",
       "   operands: 2\n",
       "1. and\n",
       "   core type: Literal\n",
       "   sub-expressions: \n",
       "2. (a_{1} in Digits, ..a_{_a} in Digits.., a_{m} in Digits, b in Digits, c_{1} in Digits, ..c_{_a} in Digits.., c_{n} in Digits, d_{1} in Digits, ..d_{_a} in Digits.., d_{k} in Digits, (b, ..n repeats.., b) = (c_{1}, ..c_{_a}.., c_{n}))\n",
       "   core type: ExprTuple\n",
       "   sub-expressions: 3, 4, 5, 6, 7\n",
       "3. (a_{1} in Digits), ..(a_{_a} in Digits).., (a_{m} in Digits)\n",
       "   core type: ExprRange\n",
       "   lambda_map: 8\n",
       "   start_index: 32\n",
       "   end_index: 9\n",
       "4. b in Digits\n",
       "   core type: Operation\n",
       "   operator: 23\n",
       "   operands: 10\n",
       "5. (c_{1} in Digits), ..(c_{_a} in Digits).., (c_{n} in Digits)\n",
       "   core type: ExprRange\n",
       "   lambda_map: 11\n",
       "   start_index: 32\n",
       "   end_index: 33\n",
       "6. (d_{1} in Digits), ..(d_{_a} in Digits).., (d_{k} in Digits)\n",
       "   core type: ExprRange\n",
       "   lambda_map: 12\n",
       "   start_index: 32\n",
       "   end_index: 13\n",
       "7. (b, ..n repeats.., b) = (c_{1}, ..c_{_a}.., c_{n})\n",
       "   core type: Operation\n",
       "   operator: 14\n",
       "   operands: 15\n",
       "8. _a -> (a_{_a} in Digits)\n",
       "   core type: Lambda\n",
       "   parameter: 40\n",
       "   body: 16\n",
       "9. m\n",
       "   core type: Variable\n",
       "   sub-expressions: \n",
       "10. (b, Digits)\n",
       "    core type: ExprTuple\n",
       "    sub-expressions: 37, 29\n",
       "11. _a -> (c_{_a} in Digits)\n",
       "    core type: Lambda\n",
       "    parameter: 40\n",
       "    body: 17\n",
       "12. _a -> (d_{_a} in Digits)\n",
       "    core type: Lambda\n",
       "    parameter: 40\n",
       "    body: 18\n",
       "13. k\n",
       "    core type: Variable\n",
       "    sub-expressions: \n",
       "14. =\n",
       "    core type: Literal\n",
       "    sub-expressions: \n",
       "15. ((b, ..n repeats.., b), (c_{1}, ..c_{_a}.., c_{n}))\n",
       "    core type: ExprTuple\n",
       "    sub-expressions: 19, 20\n",
       "16. a_{_a} in Digits\n",
       "    core type: Operation\n",
       "    operator: 23\n",
       "    operands: 21\n",
       "17. c_{_a} in Digits\n",
       "    core type: Operation\n",
       "    operator: 23\n",
       "    operands: 22\n",
       "18. d_{_a} in Digits\n",
       "    core type: Operation\n",
       "    operator: 23\n",
       "    operands: 24\n",
       "19. (b, ..n repeats.., b)\n",
       "    core type: ExprTuple\n",
       "    sub-expressions: 25\n",
       "20. (c_{1}, ..c_{_a}.., c_{n})\n",
       "    core type: ExprTuple\n",
       "    sub-expressions: 26\n",
       "21. (a_{_a}, Digits)\n",
       "    core type: ExprTuple\n",
       "    sub-expressions: 27, 29\n",
       "22. (c_{_a}, Digits)\n",
       "    core type: ExprTuple\n",
       "    sub-expressions: 38, 29\n",
       "23. in\n",
       "    core type: Literal\n",
       "    sub-expressions: \n",
       "24. (d_{_a}, Digits)\n",
       "    core type: ExprTuple\n",
       "    sub-expressions: 28, 29\n",
       "25. b, ..n repeats.., b\n",
       "    core type: ExprRange\n",
       "    lambda_map: 30\n",
       "    start_index: 32\n",
       "    end_index: 33\n",
       "26. c_{1}, ..c_{_a}.., c_{n}\n",
       "    core type: ExprRange\n",
       "    lambda_map: 31\n",
       "    start_index: 32\n",
       "    end_index: 33\n",
       "27. a_{_a}\n",
       "    core type: IndexedVar\n",
       "variable: 34\n",
       "index: 40\n",
       "28. d_{_a}\n",
       "    core type: IndexedVar\n",
       "variable: 35\n",
       "index: 40\n",
       "29. Digits\n",
       "    core type: Literal\n",
       "    sub-expressions: \n",
       "30. i -> b\n",
       "    core type: Lambda\n",
       "    parameter: 36\n",
       "    body: 37\n",
       "31. _a -> c_{_a}\n",
       "    core type: Lambda\n",
       "    parameter: 40\n",
       "    body: 38\n",
       "32. 1\n",
       "    core type: Literal\n",
       "    sub-expressions: \n",
       "33. n\n",
       "    core type: Variable\n",
       "    sub-expressions: \n",
       "34. a\n",
       "    core type: Variable\n",
       "    sub-expressions: \n",
       "35. d\n",
       "    core type: Variable\n",
       "    sub-expressions: \n",
       "36. i\n",
       "    core type: Variable\n",
       "    sub-expressions: \n",
       "37. b\n",
       "    core type: Variable\n",
       "    sub-expressions: \n",
       "38. c_{_a}\n",
       "    core type: IndexedVar\n",
       "variable: 39\n",
       "index: 40\n",
       "39. c\n",
       "    core type: Variable\n",
       "    sub-expressions: \n",
       "40. _a\n",
       "    core type: Variable\n",
       "    sub-expressions: "
      ]
     },
     "execution_count": 5,
     "metadata": {},
     "output_type": "execute_result"
    }
   ],
   "source": [
    "# display the expression information\n",
    "expr.expr_info()"
   ]
  },
  {
   "cell_type": "code",
   "execution_count": null,
   "metadata": {},
   "outputs": [],
   "source": []
  }
 ],
 "metadata": {
  "kernelspec": {
   "display_name": "Python 3",
   "language": "python",
   "name": "python3"
  }
 },
 "nbformat": 4,
 "nbformat_minor": 0
}