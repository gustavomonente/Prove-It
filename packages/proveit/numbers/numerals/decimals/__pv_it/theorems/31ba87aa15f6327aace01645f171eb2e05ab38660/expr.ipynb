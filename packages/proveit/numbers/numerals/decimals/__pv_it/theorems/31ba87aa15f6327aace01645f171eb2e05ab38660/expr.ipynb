{
 "cells": [
  {
   "cell_type": "markdown",
   "metadata": {},
   "source": [
    "Expression of type <a class=\"ProveItLink\" href=\"../../../../../../../../doc/html/api/proveit.core_expr_types.Len.html\">Len</a>\n",
    "=======================\n",
    "# from the theory of <a class=\"ProveItLink\" href=\"../../../_theory_nbs_/theory.ipynb\">proveit.numbers.numerals.decimals</a>"
   ]
  },
  {
   "cell_type": "code",
   "execution_count": 1,
   "metadata": {},
   "outputs": [],
   "source": [
    "import proveit\n",
    "# Automation is not needed when building an expression:\n",
    "proveit.defaults.automation = False # This will speed things up.\n",
    "proveit.defaults.inline_pngs = False # Makes files smaller.\n",
    "%load_expr # Load the stored expression as 'stored_expr'\n",
    "# import Expression classes needed to build the expression\n",
    "from proveit import ExprRange, k\n",
    "from proveit.core_expr_types import Len\n",
    "from proveit.numbers import nine, one"
   ]
  },
  {
   "cell_type": "code",
   "execution_count": 2,
   "metadata": {},
   "outputs": [
    {
     "data": {
      "text/html": [
       "<strong id=\"expr\">expr:</strong> <a class=\"ProveItLink\" href=\"expr.ipynb\"><img src=\"expr.png\" style=\"display:inline;vertical-align:middle;\" /></a><br>"
      ],
      "text/plain": [
       "expr: |(1, ..k.., 9)|"
      ]
     },
     "execution_count": 2,
     "metadata": {},
     "output_type": "execute_result"
    }
   ],
   "source": [
    "# build up the expression from sub-expressions\n",
    "expr = Len([ExprRange(k, k, one, nine)])"
   ]
  },
  {
   "cell_type": "code",
   "execution_count": 3,
   "metadata": {},
   "outputs": [
    {
     "name": "stdout",
     "output_type": "stream",
     "text": [
      "Passed sanity check: expr matches stored_expr\n"
     ]
    }
   ],
   "source": [
    "# check that the built expression is the same as the stored expression\n",
    "assert expr == stored_expr\n",
    "assert expr._style_id == stored_expr._style_id\n",
    "print(\"Passed sanity check: expr matches stored_expr\")"
   ]
  },
  {
   "cell_type": "code",
   "execution_count": 4,
   "metadata": {},
   "outputs": [
    {
     "name": "stdout",
     "output_type": "stream",
     "text": [
      "|\\left(1, \\ldots, 9\\right)|\n"
     ]
    }
   ],
   "source": [
    "# Show the LaTeX representation of the expression for convenience if you need it.\n",
    "print(expr.latex())"
   ]
  },
  {
   "cell_type": "code",
   "execution_count": 5,
   "metadata": {},
   "outputs": [
    {
     "data": {
      "text/html": [
       "<table><tr><th>&nbsp;</th><th>core type</th><th>sub-expressions</th><th>expression</th></tr>\n",
       "<tr><td>0</td><td>Operation</td><td>operator:&nbsp;1<br>operand:&nbsp;3<br></td><td><a class=\"ProveItLink\" href=\"expr.ipynb\"><img src=\"expr.png\" style=\"display:inline;vertical-align:middle;\" /></a></td></tr>\n",
       "<tr><td>1</td><td>Literal</td><td></td><td><a class=\"ProveItLink\" href=\"../../../../../../core_expr_types/tuples/__pv_it/common/43df765abf1294d8f1fd177863f57f08bf5ad0080/expr.ipynb\"><img src=\"../../../../../../core_expr_types/tuples/__pv_it/common/43df765abf1294d8f1fd177863f57f08bf5ad0080/expr.png\" style=\"display:inline;vertical-align:middle;\" /></a></td></tr>\n",
       "<tr><td>2</td><td>ExprTuple</td><td>3</td><td><a class=\"ProveItLink\" href=\"../76e14c508f1e4af665b8d722755c744a0316dc4e0/expr.ipynb\"><img src=\"../76e14c508f1e4af665b8d722755c744a0316dc4e0/expr.png\" style=\"display:inline;vertical-align:middle;\" /></a></td></tr>\n",
       "<tr><td>3</td><td>ExprTuple</td><td>4</td><td><a class=\"ProveItLink\" href=\"../992af9f795478c237b312287c46e106b8c7b78db0/expr.ipynb\"><img src=\"../992af9f795478c237b312287c46e106b8c7b78db0/expr.png\" style=\"display:inline;vertical-align:middle;\" /></a></td></tr>\n",
       "<tr><td>4</td><td>ExprRange</td><td>lambda_map:&nbsp;5<br>start_index:&nbsp;6<br>end_index:&nbsp;7<br></td><td><a class=\"ProveItLink\" href=\"../62a913b9fb19a46dfa02e156141c856d233b80de0/expr.ipynb\"><img src=\"../62a913b9fb19a46dfa02e156141c856d233b80de0/expr.png\" style=\"display:inline;vertical-align:middle;\" /></a></td></tr>\n",
       "<tr><td>5</td><td>Lambda</td><td>parameter:&nbsp;8<br>body:&nbsp;8<br></td><td><a class=\"ProveItLink\" href=\"../f3fe62f840bd4f6a2324bee5141c1f534c325cd30/expr.ipynb\"><img src=\"../f3fe62f840bd4f6a2324bee5141c1f534c325cd30/expr.png\" style=\"display:inline;vertical-align:middle;\" /></a></td></tr>\n",
       "<tr><td>6</td><td>Literal</td><td></td><td><a class=\"ProveItLink\" href=\"../../../../__pv_it/common/2778428c7f555b2bdc06aa0530bc142c6e6335100/expr.ipynb\"><img src=\"../../../../__pv_it/common/2778428c7f555b2bdc06aa0530bc142c6e6335100/expr.png\" style=\"display:inline;vertical-align:middle;\" /></a></td></tr>\n",
       "<tr><td>7</td><td>Literal</td><td></td><td><a class=\"ProveItLink\" href=\"../../../../__pv_it/common/b7ca2b03651013759f042f9b6ee93402bd97837b0/expr.ipynb\"><img src=\"../../../../__pv_it/common/b7ca2b03651013759f042f9b6ee93402bd97837b0/expr.png\" style=\"display:inline;vertical-align:middle;\" /></a></td></tr>\n",
       "<tr><td>8</td><td>Variable</td><td></td><td><a class=\"ProveItLink\" href=\"../../../../../../__pv_it/common/63b7c64bf9ec7a04ecc396c7a1670f3f12fb59490/expr.ipynb\"><img src=\"../../../../../../__pv_it/common/63b7c64bf9ec7a04ecc396c7a1670f3f12fb59490/expr.png\" style=\"display:inline;vertical-align:middle;\" /></a></td></tr>\n",
       "</table>\n"
      ],
      "text/plain": [
       "0. |(1, ..k.., 9)|\n",
       "   core type: Operation\n",
       "   operator: 1\n",
       "   operand: 3\n",
       "1. length\n",
       "   core type: Literal\n",
       "   sub-expressions: \n",
       "2. ((1, ..k.., 9))\n",
       "   core type: ExprTuple\n",
       "   sub-expressions: 3\n",
       "3. (1, ..k.., 9)\n",
       "   core type: ExprTuple\n",
       "   sub-expressions: 4\n",
       "4. 1, ..k.., 9\n",
       "   core type: ExprRange\n",
       "   lambda_map: 5\n",
       "   start_index: 6\n",
       "   end_index: 7\n",
       "5. k -> k\n",
       "   core type: Lambda\n",
       "   parameter: 8\n",
       "   body: 8\n",
       "6. 1\n",
       "   core type: Literal\n",
       "   sub-expressions: \n",
       "7. 9\n",
       "   core type: Literal\n",
       "   sub-expressions: \n",
       "8. k\n",
       "   core type: Variable\n",
       "   sub-expressions: "
      ]
     },
     "execution_count": 5,
     "metadata": {},
     "output_type": "execute_result"
    }
   ],
   "source": [
    "# display the expression information\n",
    "expr.expr_info()"
   ]
  },
  {
   "cell_type": "code",
   "execution_count": null,
   "metadata": {},
   "outputs": [],
   "source": []
  }
 ],
 "metadata": {
  "kernelspec": {
   "display_name": "Python 3",
   "language": "python",
   "name": "python3"
  }
 },
 "nbformat": 4,
 "nbformat_minor": 0
}