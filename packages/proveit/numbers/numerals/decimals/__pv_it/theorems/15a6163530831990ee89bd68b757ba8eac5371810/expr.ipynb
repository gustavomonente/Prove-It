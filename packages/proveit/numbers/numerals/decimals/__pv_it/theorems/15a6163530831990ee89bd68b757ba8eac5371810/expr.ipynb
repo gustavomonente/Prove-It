{
 "cells": [
  {
   "cell_type": "markdown",
   "metadata": {},
   "source": [
    "Expression of type <a class=\"ProveItLink\" href=\"../../../../../../../../doc/html/api/proveit.logic.Equals.html\">Equals</a>\n",
    "=======================\n",
    "# from the theory of <a class=\"ProveItLink\" href=\"../../../_theory_nbs_/theory.ipynb\">proveit.numbers.numerals.decimals</a>"
   ]
  },
  {
   "cell_type": "code",
   "execution_count": 1,
   "metadata": {},
   "outputs": [],
   "source": [
    "import proveit\n",
    "# Automation is not needed when building an expression:\n",
    "proveit.defaults.automation = False # This will speed things up.\n",
    "proveit.defaults.inline_pngs = False # Makes files smaller.\n",
    "%load_expr # Load the stored expression as 'stored_expr'\n",
    "# import Expression classes needed to build the expression\n",
    "from proveit import ExprRange, IndexedVar, Variable, a, b, c, d, k, m, n\n",
    "from proveit.logic import Equals\n",
    "from proveit.numbers import Add, DecimalSequence, one"
   ]
  },
  {
   "cell_type": "code",
   "execution_count": 2,
   "metadata": {},
   "outputs": [
    {
     "data": {
      "text/html": [
       "<strong id=\"expr\">expr:</strong> <a class=\"ProveItLink\" href=\"expr.ipynb\"><img src=\"expr.png\" style=\"display:inline;vertical-align:middle;\" /></a><br>"
      ],
      "text/plain": [
       "expr: \\# (a_{1} ~ ..a_{_a}.. ~ a_{m} ~ (b_{1} + ..b_{_a}.. + b_{n}) ~ d_{1} ~ ..d_{_a}.. ~ d_{k}) = \\# (a_{1} ~ ..a_{_a}.. ~ a_{m} ~ c ~ d_{1} ~ ..d_{_a}.. ~ d_{k})"
      ]
     },
     "execution_count": 2,
     "metadata": {},
     "output_type": "execute_result"
    }
   ],
   "source": [
    "# build up the expression from sub-expressions\n",
    "sub_expr1 = Variable(\"_a\", latex_format = r\"{_{-}a}\")\n",
    "sub_expr2 = ExprRange(sub_expr1, IndexedVar(a, sub_expr1), one, m)\n",
    "sub_expr3 = ExprRange(sub_expr1, IndexedVar(d, sub_expr1), one, k)\n",
    "expr = Equals(DecimalSequence(sub_expr2, Add(ExprRange(sub_expr1, IndexedVar(b, sub_expr1), one, n)), sub_expr3), DecimalSequence(sub_expr2, c, sub_expr3))"
   ]
  },
  {
   "cell_type": "code",
   "execution_count": 3,
   "metadata": {},
   "outputs": [
    {
     "name": "stdout",
     "output_type": "stream",
     "text": [
      "Passed sanity check: expr matches stored_expr\n"
     ]
    }
   ],
   "source": [
    "# check that the built expression is the same as the stored expression\n",
    "assert expr == stored_expr\n",
    "assert expr._style_id == stored_expr._style_id\n",
    "print(\"Passed sanity check: expr matches stored_expr\")"
   ]
  },
  {
   "cell_type": "code",
   "execution_count": 4,
   "metadata": {},
   "outputs": [
    {
     "name": "stdout",
     "output_type": "stream",
     "text": [
      "\\# (a_{1} ~ \\ldots ~ a_{m} ~ \\left(b_{1} + \\ldots + b_{n}\\right) ~ d_{1} ~ \\ldots ~ d_{k}) = \\# (a_{1} ~ \\ldots ~ a_{m} ~ c ~ d_{1} ~ \\ldots ~ d_{k})\n"
     ]
    }
   ],
   "source": [
    "# Show the LaTeX representation of the expression for convenience if you need it.\n",
    "print(expr.latex())"
   ]
  },
  {
   "cell_type": "code",
   "execution_count": 5,
   "metadata": {},
   "outputs": [
    {
     "data": {
      "text/html": [
       "<table><tr><th>&nbsp;</th><th>core type</th><th>sub-expressions</th><th>expression</th></tr>\n",
       "<tr><td>0</td><td>Operation</td><td>operator:&nbsp;1<br>operands:&nbsp;2<br></td><td><a class=\"ProveItLink\" href=\"expr.ipynb\"><img src=\"expr.png\" style=\"display:inline;vertical-align:middle;\" /></a></td></tr>\n",
       "<tr><td>1</td><td>Literal</td><td></td><td><a class=\"ProveItLink\" href=\"../../../../../../logic/equality/__pv_it/common/fb96dc12b2aa8801dda64d0132b396c63d1502bb0/expr.ipynb\"><img src=\"../../../../../../logic/equality/__pv_it/common/fb96dc12b2aa8801dda64d0132b396c63d1502bb0/expr.png\" style=\"display:inline;vertical-align:middle;\" /></a></td></tr>\n",
       "<tr><td>2</td><td>ExprTuple</td><td>3, 4</td><td><a class=\"ProveItLink\" href=\"../133cb736941fa6c8ee7eebd0f5f6a80ce30584a50/expr.ipynb\"><img src=\"../133cb736941fa6c8ee7eebd0f5f6a80ce30584a50/expr.png\" style=\"display:inline;vertical-align:middle;\" /></a></td></tr>\n",
       "<tr><td>3</td><td>Operation</td><td>operator:&nbsp;6<br>operands:&nbsp;5<br></td><td><a class=\"ProveItLink\" href=\"../4e9d2cb6d725643311e88b5ac342718e2616e89a0/expr.ipynb\"><img src=\"../4e9d2cb6d725643311e88b5ac342718e2616e89a0/expr.png\" style=\"display:inline;vertical-align:middle;\" /></a></td></tr>\n",
       "<tr><td>4</td><td>Operation</td><td>operator:&nbsp;6<br>operands:&nbsp;7<br></td><td><a class=\"ProveItLink\" href=\"../6b1a16062e186f166ef30d40e5eac6f50f5c0ee50/expr.ipynb\"><img src=\"../6b1a16062e186f166ef30d40e5eac6f50f5c0ee50/expr.png\" style=\"display:inline;vertical-align:middle;\" /></a></td></tr>\n",
       "<tr><td>5</td><td>ExprTuple</td><td>9, 8, 11</td><td><a class=\"ProveItLink\" href=\"../e968bd40e083c374106accc7fb4c52e7051bca1a0/expr.ipynb\"><img src=\"../e968bd40e083c374106accc7fb4c52e7051bca1a0/expr.png\" style=\"display:inline;vertical-align:middle;\" /></a></td></tr>\n",
       "<tr><td>6</td><td>Literal</td><td></td><td><a class=\"ProveItLink\" href=\"../../common/1e4ac31e17772d15a8c2f39677f3067889fee3d20/expr.ipynb\"><img src=\"../../common/1e4ac31e17772d15a8c2f39677f3067889fee3d20/expr.png\" style=\"display:inline;vertical-align:middle;\" /></a></td></tr>\n",
       "<tr><td>7</td><td>ExprTuple</td><td>9, 10, 11</td><td><a class=\"ProveItLink\" href=\"../ee46ab8445915f7f3d4468af5e0bc5d8179cbe8e0/expr.ipynb\"><img src=\"../ee46ab8445915f7f3d4468af5e0bc5d8179cbe8e0/expr.png\" style=\"display:inline;vertical-align:middle;\" /></a></td></tr>\n",
       "<tr><td>8</td><td>Operation</td><td>operator:&nbsp;12<br>operands:&nbsp;13<br></td><td><a class=\"ProveItLink\" href=\"../b27b8d9e56b7d4d77a557f0d62ba77b0b66df9ba0/expr.ipynb\"><img src=\"../b27b8d9e56b7d4d77a557f0d62ba77b0b66df9ba0/expr.png\" style=\"display:inline;vertical-align:middle;\" /></a></td></tr>\n",
       "<tr><td>9</td><td>ExprRange</td><td>lambda_map:&nbsp;14<br>start_index:&nbsp;22<br>end_index:&nbsp;15<br></td><td><a class=\"ProveItLink\" href=\"../14847804aec18b241fdd581869bf00cc8e24a0370/expr.ipynb\"><img src=\"../14847804aec18b241fdd581869bf00cc8e24a0370/expr.png\" style=\"display:inline;vertical-align:middle;\" /></a></td></tr>\n",
       "<tr><td>10</td><td>Variable</td><td></td><td><a class=\"ProveItLink\" href=\"../../../../../../__pv_it/common/ceef4280a2f1cc604b455b54e735507244cc62cd0/expr.ipynb\"><img src=\"../../../../../../__pv_it/common/ceef4280a2f1cc604b455b54e735507244cc62cd0/expr.png\" style=\"display:inline;vertical-align:middle;\" /></a></td></tr>\n",
       "<tr><td>11</td><td>ExprRange</td><td>lambda_map:&nbsp;16<br>start_index:&nbsp;22<br>end_index:&nbsp;17<br></td><td><a class=\"ProveItLink\" href=\"../81cb99b9748f0703d302c2801ca224b077cec2460/expr.ipynb\"><img src=\"../81cb99b9748f0703d302c2801ca224b077cec2460/expr.png\" style=\"display:inline;vertical-align:middle;\" /></a></td></tr>\n",
       "<tr><td>12</td><td>Literal</td><td></td><td><a class=\"ProveItLink\" href=\"../../../../../addition/__pv_it/common/4b7effaab3619a1c2c38fe2dee8601df8ec714590/expr.ipynb\"><img src=\"../../../../../addition/__pv_it/common/4b7effaab3619a1c2c38fe2dee8601df8ec714590/expr.png\" style=\"display:inline;vertical-align:middle;\" /></a></td></tr>\n",
       "<tr><td>13</td><td>ExprTuple</td><td>18</td><td><a class=\"ProveItLink\" href=\"../1cd4d2cdd064a591814f361250d58aa1cf78bf610/expr.ipynb\"><img src=\"../1cd4d2cdd064a591814f361250d58aa1cf78bf610/expr.png\" style=\"display:inline;vertical-align:middle;\" /></a></td></tr>\n",
       "<tr><td>14</td><td>Lambda</td><td>parameter:&nbsp;28<br>body:&nbsp;19<br></td><td><a class=\"ProveItLink\" href=\"../../../../../../core_expr_types/__pv_it/common/9f0c64ef8ae0c02b5dcba32e0fb15bd29f85872a0/expr.ipynb\"><img src=\"../../../../../../core_expr_types/__pv_it/common/9f0c64ef8ae0c02b5dcba32e0fb15bd29f85872a0/expr.png\" style=\"display:inline;vertical-align:middle;\" /></a></td></tr>\n",
       "<tr><td>15</td><td>Variable</td><td></td><td><a class=\"ProveItLink\" href=\"../../../../../../__pv_it/common/674a03b9c3ca221b3aabd5636837b31528ff33830/expr.ipynb\"><img src=\"../../../../../../__pv_it/common/674a03b9c3ca221b3aabd5636837b31528ff33830/expr.png\" style=\"display:inline;vertical-align:middle;\" /></a></td></tr>\n",
       "<tr><td>16</td><td>Lambda</td><td>parameter:&nbsp;28<br>body:&nbsp;20<br></td><td><a class=\"ProveItLink\" href=\"../3a7563b9b651f4f3b28464763b38b3c3a8fc1f680/expr.ipynb\"><img src=\"../3a7563b9b651f4f3b28464763b38b3c3a8fc1f680/expr.png\" style=\"display:inline;vertical-align:middle;\" /></a></td></tr>\n",
       "<tr><td>17</td><td>Variable</td><td></td><td><a class=\"ProveItLink\" href=\"../../../../../../__pv_it/common/63b7c64bf9ec7a04ecc396c7a1670f3f12fb59490/expr.ipynb\"><img src=\"../../../../../../__pv_it/common/63b7c64bf9ec7a04ecc396c7a1670f3f12fb59490/expr.png\" style=\"display:inline;vertical-align:middle;\" /></a></td></tr>\n",
       "<tr><td>18</td><td>ExprRange</td><td>lambda_map:&nbsp;21<br>start_index:&nbsp;22<br>end_index:&nbsp;23<br></td><td><a class=\"ProveItLink\" href=\"../7d11c312edb04fc4d06ec18708e6d2b019d2d5a80/expr.ipynb\"><img src=\"../7d11c312edb04fc4d06ec18708e6d2b019d2d5a80/expr.png\" style=\"display:inline;vertical-align:middle;\" /></a></td></tr>\n",
       "<tr><td>19</td><td>IndexedVar</td><td>variable:&nbsp;24<br>index:&nbsp;28<br></td><td><a class=\"ProveItLink\" href=\"../../../../../../core_expr_types/__pv_it/common/ea36c59b79decceeaf696ef762cc9648f9ddbf5c0/expr.ipynb\"><img src=\"../../../../../../core_expr_types/__pv_it/common/ea36c59b79decceeaf696ef762cc9648f9ddbf5c0/expr.png\" style=\"display:inline;vertical-align:middle;\" /></a></td></tr>\n",
       "<tr><td>20</td><td>IndexedVar</td><td>variable:&nbsp;25<br>index:&nbsp;28<br></td><td><a class=\"ProveItLink\" href=\"../3969a690fa3832a3c7123b99818889edf6bdb9e50/expr.ipynb\"><img src=\"../3969a690fa3832a3c7123b99818889edf6bdb9e50/expr.png\" style=\"display:inline;vertical-align:middle;\" /></a></td></tr>\n",
       "<tr><td>21</td><td>Lambda</td><td>parameter:&nbsp;28<br>body:&nbsp;26<br></td><td><a class=\"ProveItLink\" href=\"../52310876245c384be2a5c333a68b17fd64c3f7a80/expr.ipynb\"><img src=\"../52310876245c384be2a5c333a68b17fd64c3f7a80/expr.png\" style=\"display:inline;vertical-align:middle;\" /></a></td></tr>\n",
       "<tr><td>22</td><td>Literal</td><td></td><td><a class=\"ProveItLink\" href=\"../../../../__pv_it/common/2778428c7f555b2bdc06aa0530bc142c6e6335100/expr.ipynb\"><img src=\"../../../../__pv_it/common/2778428c7f555b2bdc06aa0530bc142c6e6335100/expr.png\" style=\"display:inline;vertical-align:middle;\" /></a></td></tr>\n",
       "<tr><td>23</td><td>Variable</td><td></td><td><a class=\"ProveItLink\" href=\"../../../../../../__pv_it/common/8968bb04eb3f7dfa02353397ce929b025bbd79c20/expr.ipynb\"><img src=\"../../../../../../__pv_it/common/8968bb04eb3f7dfa02353397ce929b025bbd79c20/expr.png\" style=\"display:inline;vertical-align:middle;\" /></a></td></tr>\n",
       "<tr><td>24</td><td>Variable</td><td></td><td><a class=\"ProveItLink\" href=\"../../../../../../__pv_it/common/c06c606ec12678c58933ac85412ecadc2ae28be60/expr.ipynb\"><img src=\"../../../../../../__pv_it/common/c06c606ec12678c58933ac85412ecadc2ae28be60/expr.png\" style=\"display:inline;vertical-align:middle;\" /></a></td></tr>\n",
       "<tr><td>25</td><td>Variable</td><td></td><td><a class=\"ProveItLink\" href=\"../../../../../../__pv_it/common/4f5c524ffda87296de1c79b96880123fe2efedd50/expr.ipynb\"><img src=\"../../../../../../__pv_it/common/4f5c524ffda87296de1c79b96880123fe2efedd50/expr.png\" style=\"display:inline;vertical-align:middle;\" /></a></td></tr>\n",
       "<tr><td>26</td><td>IndexedVar</td><td>variable:&nbsp;27<br>index:&nbsp;28<br></td><td><a class=\"ProveItLink\" href=\"../6baad7dce98ea230c18226e353b06763b40b32720/expr.ipynb\"><img src=\"../6baad7dce98ea230c18226e353b06763b40b32720/expr.png\" style=\"display:inline;vertical-align:middle;\" /></a></td></tr>\n",
       "<tr><td>27</td><td>Variable</td><td></td><td><a class=\"ProveItLink\" href=\"../../../../../../__pv_it/common/195236b98c6c564a75b5dbada74b173bc52d5c3e0/expr.ipynb\"><img src=\"../../../../../../__pv_it/common/195236b98c6c564a75b5dbada74b173bc52d5c3e0/expr.png\" style=\"display:inline;vertical-align:middle;\" /></a></td></tr>\n",
       "<tr><td>28</td><td>Variable</td><td></td><td><a class=\"ProveItLink\" href=\"../../../../../../core_expr_types/__pv_it/common/006c465e50948aa2b52285e2de47974f741255cc0/expr.ipynb\"><img src=\"../../../../../../core_expr_types/__pv_it/common/006c465e50948aa2b52285e2de47974f741255cc0/expr.png\" style=\"display:inline;vertical-align:middle;\" /></a></td></tr>\n",
       "</table>\n"
      ],
      "text/plain": [
       "0. \\# (a_{1} ~ ..a_{_a}.. ~ a_{m} ~ (b_{1} + ..b_{_a}.. + b_{n}) ~ d_{1} ~ ..d_{_a}.. ~ d_{k}) = \\# (a_{1} ~ ..a_{_a}.. ~ a_{m} ~ c ~ d_{1} ~ ..d_{_a}.. ~ d_{k})\n",
       "   core type: Operation\n",
       "   operator: 1\n",
       "   operands: 2\n",
       "1. =\n",
       "   core type: Literal\n",
       "   sub-expressions: \n",
       "2. (\\# (a_{1} ~ ..a_{_a}.. ~ a_{m} ~ (b_{1} + ..b_{_a}.. + b_{n}) ~ d_{1} ~ ..d_{_a}.. ~ d_{k}), \\# (a_{1} ~ ..a_{_a}.. ~ a_{m} ~ c ~ d_{1} ~ ..d_{_a}.. ~ d_{k}))\n",
       "   core type: ExprTuple\n",
       "   sub-expressions: 3, 4\n",
       "3. \\# (a_{1} ~ ..a_{_a}.. ~ a_{m} ~ (b_{1} + ..b_{_a}.. + b_{n}) ~ d_{1} ~ ..d_{_a}.. ~ d_{k})\n",
       "   core type: Operation\n",
       "   operator: 6\n",
       "   operands: 5\n",
       "4. \\# (a_{1} ~ ..a_{_a}.. ~ a_{m} ~ c ~ d_{1} ~ ..d_{_a}.. ~ d_{k})\n",
       "   core type: Operation\n",
       "   operator: 6\n",
       "   operands: 7\n",
       "5. (a_{1}, ..a_{_a}.., a_{m}, b_{1} + ..b_{_a}.. + b_{n}, d_{1}, ..d_{_a}.., d_{k})\n",
       "   core type: ExprTuple\n",
       "   sub-expressions: 9, 8, 11\n",
       "6. Decimal\n",
       "   core type: Literal\n",
       "   sub-expressions: \n",
       "7. (a_{1}, ..a_{_a}.., a_{m}, c, d_{1}, ..d_{_a}.., d_{k})\n",
       "   core type: ExprTuple\n",
       "   sub-expressions: 9, 10, 11\n",
       "8. b_{1} + ..b_{_a}.. + b_{n}\n",
       "   core type: Operation\n",
       "   operator: 12\n",
       "   operands: 13\n",
       "9. a_{1}, ..a_{_a}.., a_{m}\n",
       "   core type: ExprRange\n",
       "   lambda_map: 14\n",
       "   start_index: 22\n",
       "   end_index: 15\n",
       "10. c\n",
       "    core type: Variable\n",
       "    sub-expressions: \n",
       "11. d_{1}, ..d_{_a}.., d_{k}\n",
       "    core type: ExprRange\n",
       "    lambda_map: 16\n",
       "    start_index: 22\n",
       "    end_index: 17\n",
       "12. +\n",
       "    core type: Literal\n",
       "    sub-expressions: \n",
       "13. (b_{1}, ..b_{_a}.., b_{n})\n",
       "    core type: ExprTuple\n",
       "    sub-expressions: 18\n",
       "14. _a -> a_{_a}\n",
       "    core type: Lambda\n",
       "    parameter: 28\n",
       "    body: 19\n",
       "15. m\n",
       "    core type: Variable\n",
       "    sub-expressions: \n",
       "16. _a -> d_{_a}\n",
       "    core type: Lambda\n",
       "    parameter: 28\n",
       "    body: 20\n",
       "17. k\n",
       "    core type: Variable\n",
       "    sub-expressions: \n",
       "18. b_{1}, ..b_{_a}.., b_{n}\n",
       "    core type: ExprRange\n",
       "    lambda_map: 21\n",
       "    start_index: 22\n",
       "    end_index: 23\n",
       "19. a_{_a}\n",
       "    core type: IndexedVar\n",
       "variable: 24\n",
       "index: 28\n",
       "20. d_{_a}\n",
       "    core type: IndexedVar\n",
       "variable: 25\n",
       "index: 28\n",
       "21. _a -> b_{_a}\n",
       "    core type: Lambda\n",
       "    parameter: 28\n",
       "    body: 26\n",
       "22. 1\n",
       "    core type: Literal\n",
       "    sub-expressions: \n",
       "23. n\n",
       "    core type: Variable\n",
       "    sub-expressions: \n",
       "24. a\n",
       "    core type: Variable\n",
       "    sub-expressions: \n",
       "25. d\n",
       "    core type: Variable\n",
       "    sub-expressions: \n",
       "26. b_{_a}\n",
       "    core type: IndexedVar\n",
       "variable: 27\n",
       "index: 28\n",
       "27. b\n",
       "    core type: Variable\n",
       "    sub-expressions: \n",
       "28. _a\n",
       "    core type: Variable\n",
       "    sub-expressions: "
      ]
     },
     "execution_count": 5,
     "metadata": {},
     "output_type": "execute_result"
    }
   ],
   "source": [
    "# display the expression information\n",
    "expr.expr_info()"
   ]
  },
  {
   "cell_type": "code",
   "execution_count": null,
   "metadata": {},
   "outputs": [],
   "source": []
  }
 ],
 "metadata": {
  "kernelspec": {
   "display_name": "Python 3",
   "language": "python",
   "name": "python3"
  }
 },
 "nbformat": 4,
 "nbformat_minor": 0
}