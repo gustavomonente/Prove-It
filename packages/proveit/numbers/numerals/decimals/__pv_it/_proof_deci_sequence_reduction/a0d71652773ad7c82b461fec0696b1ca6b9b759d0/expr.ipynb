{
 "cells": [
  {
   "cell_type": "markdown",
   "metadata": {},
   "source": [
    "Expression of type <a class=\"ProveItLink\" href=\"../../../../../../../../doc/html/api/proveit.ExprTuple.html\">ExprTuple</a>\n",
    "=======================\n",
    "# from the theory of <a class=\"ProveItLink\" href=\"../../../_theory_nbs_/theory.ipynb\">proveit.numbers.numerals.decimals</a>"
   ]
  },
  {
   "cell_type": "code",
   "execution_count": 1,
   "metadata": {},
   "outputs": [],
   "source": [
    "import proveit\n",
    "# Automation is not needed when building an expression:\n",
    "proveit.defaults.automation = False # This will speed things up.\n",
    "proveit.defaults.inline_pngs = False # Makes files smaller.\n",
    "%load_expr # Load the stored expression as 'stored_expr'\n",
    "# import Expression classes needed to build the expression\n",
    "from proveit import ExprRange, ExprTuple, IndexedVar, Variable, a, b, c, d, k, m, n\n",
    "from proveit.logic import Equals, InSet\n",
    "from proveit.numbers import Add, Digits, Natural, one"
   ]
  },
  {
   "cell_type": "code",
   "execution_count": 2,
   "metadata": {},
   "outputs": [
    {
     "data": {
      "text/html": [
       "<strong id=\"expr\">expr:</strong> <a class=\"ProveItLink\" href=\"expr.ipynb\"><img src=\"expr.png\" style=\"display:inline;vertical-align:middle;\" /></a><br>"
      ],
      "text/plain": [
       "expr: (m in Natural, n in Natural, k in Natural, a_{1} in Digits, ..a_{_a} in Digits.., a_{m} in Digits, b_{1} in Digits, ..b_{_a} in Digits.., b_{n} in Digits, c in Digits, d_{1} in Digits, ..d_{_a} in Digits.., d_{k} in Digits, (b_{1} + ..b_{_a}.. + b_{n}) = c)"
      ]
     },
     "execution_count": 2,
     "metadata": {},
     "output_type": "execute_result"
    }
   ],
   "source": [
    "# build up the expression from sub-expressions\n",
    "sub_expr1 = Variable(\"_a\", latex_format = r\"{_{-}a}\")\n",
    "sub_expr2 = IndexedVar(b, sub_expr1)\n",
    "expr = ExprTuple(InSet(m, Natural), InSet(n, Natural), InSet(k, Natural), ExprRange(sub_expr1, InSet(IndexedVar(a, sub_expr1), Digits), one, m), ExprRange(sub_expr1, InSet(sub_expr2, Digits), one, n), InSet(c, Digits), ExprRange(sub_expr1, InSet(IndexedVar(d, sub_expr1), Digits), one, k), Equals(Add(ExprRange(sub_expr1, sub_expr2, one, n)), c))"
   ]
  },
  {
   "cell_type": "code",
   "execution_count": 3,
   "metadata": {},
   "outputs": [
    {
     "name": "stdout",
     "output_type": "stream",
     "text": [
      "Passed sanity check: expr matches stored_expr\n"
     ]
    }
   ],
   "source": [
    "# check that the built expression is the same as the stored expression\n",
    "assert expr == stored_expr\n",
    "assert expr._style_id == stored_expr._style_id\n",
    "print(\"Passed sanity check: expr matches stored_expr\")"
   ]
  },
  {
   "cell_type": "code",
   "execution_count": 4,
   "metadata": {},
   "outputs": [
    {
     "name": "stdout",
     "output_type": "stream",
     "text": [
      "\\left(m \\in \\mathbb{N}, n \\in \\mathbb{N}, k \\in \\mathbb{N}, a_{1} \\in \\mathbb{N}^{\\leq 9}, \\ldots, a_{m} \\in \\mathbb{N}^{\\leq 9}, b_{1} \\in \\mathbb{N}^{\\leq 9}, \\ldots, b_{n} \\in \\mathbb{N}^{\\leq 9}, c \\in \\mathbb{N}^{\\leq 9}, d_{1} \\in \\mathbb{N}^{\\leq 9}, \\ldots, d_{k} \\in \\mathbb{N}^{\\leq 9}, \\left(b_{1} + \\ldots + b_{n}\\right) = c\\right)\n"
     ]
    }
   ],
   "source": [
    "# Show the LaTeX representation of the expression for convenience if you need it.\n",
    "print(expr.latex())"
   ]
  },
  {
   "cell_type": "code",
   "execution_count": 5,
   "metadata": {},
   "outputs": [
    {
     "data": {
      "text/html": [
       "<table><tr><th>&nbsp;</th><th>core type</th><th>sub-expressions</th><th>expression</th></tr>\n",
       "<tr><td>0</td><td>ExprTuple</td><td>1, 2, 3, 4, 5, 6, 7, 8</td><td><a class=\"ProveItLink\" href=\"expr.ipynb\"><img src=\"expr.png\" style=\"display:inline;vertical-align:middle;\" /></a></td></tr>\n",
       "<tr><td>1</td><td>Operation</td><td>operator:&nbsp;28<br>operands:&nbsp;9<br></td><td><a class=\"ProveItLink\" href=\"../../theorems/98023afa4ea0d397f8a177bad4a359b36939fb170/expr.ipynb\"><img src=\"../../theorems/98023afa4ea0d397f8a177bad4a359b36939fb170/expr.png\" style=\"display:inline;vertical-align:middle;\" /></a></td></tr>\n",
       "<tr><td>2</td><td>Operation</td><td>operator:&nbsp;28<br>operands:&nbsp;10<br></td><td><a class=\"ProveItLink\" href=\"../../../../../number_sets/natural_numbers/__pv_it/theorems/12ab02a6aa52e45203d5ea4187476fa00e51b3b50/expr.ipynb\"><img src=\"../../../../../number_sets/natural_numbers/__pv_it/theorems/12ab02a6aa52e45203d5ea4187476fa00e51b3b50/expr.png\" style=\"display:inline;vertical-align:middle;\" /></a></td></tr>\n",
       "<tr><td>3</td><td>Operation</td><td>operator:&nbsp;28<br>operands:&nbsp;11<br></td><td><a class=\"ProveItLink\" href=\"../../theorems/2b0f206128cb96ca5b8a6be9b93ea8de271fb0ce0/expr.ipynb\"><img src=\"../../theorems/2b0f206128cb96ca5b8a6be9b93ea8de271fb0ce0/expr.png\" style=\"display:inline;vertical-align:middle;\" /></a></td></tr>\n",
       "<tr><td>4</td><td>ExprRange</td><td>lambda_map:&nbsp;12<br>start_index:&nbsp;39<br>end_index:&nbsp;18<br></td><td><a class=\"ProveItLink\" href=\"../../theorems/02889c0b79308ba5c5ffbf7f3eca4f576d43d39b0/expr.ipynb\"><img src=\"../../theorems/02889c0b79308ba5c5ffbf7f3eca4f576d43d39b0/expr.png\" style=\"display:inline;vertical-align:middle;\" /></a></td></tr>\n",
       "<tr><td>5</td><td>ExprRange</td><td>lambda_map:&nbsp;13<br>start_index:&nbsp;39<br>end_index:&nbsp;40<br></td><td><a class=\"ProveItLink\" href=\"../../theorems/e8cb6d3abb6929cf1641bddb3ca2d7d1002c392a0/expr.ipynb\"><img src=\"../../theorems/e8cb6d3abb6929cf1641bddb3ca2d7d1002c392a0/expr.png\" style=\"display:inline;vertical-align:middle;\" /></a></td></tr>\n",
       "<tr><td>6</td><td>Operation</td><td>operator:&nbsp;28<br>operands:&nbsp;14<br></td><td><a class=\"ProveItLink\" href=\"../../theorems/8502b7233dbff8c4ecc6c5246b33f3887f0b2b9a0/expr.ipynb\"><img src=\"../../theorems/8502b7233dbff8c4ecc6c5246b33f3887f0b2b9a0/expr.png\" style=\"display:inline;vertical-align:middle;\" /></a></td></tr>\n",
       "<tr><td>7</td><td>ExprRange</td><td>lambda_map:&nbsp;15<br>start_index:&nbsp;39<br>end_index:&nbsp;19<br></td><td><a class=\"ProveItLink\" href=\"../../theorems/794f4b8eae72243733f5d96b829031441fdcb2b30/expr.ipynb\"><img src=\"../../theorems/794f4b8eae72243733f5d96b829031441fdcb2b30/expr.png\" style=\"display:inline;vertical-align:middle;\" /></a></td></tr>\n",
       "<tr><td>8</td><td>Operation</td><td>operator:&nbsp;16<br>operands:&nbsp;17<br></td><td><a class=\"ProveItLink\" href=\"../../theorems/2791b7daa69d8ec6a0048f7d25057d7d1effa98a0/expr.ipynb\"><img src=\"../../theorems/2791b7daa69d8ec6a0048f7d25057d7d1effa98a0/expr.png\" style=\"display:inline;vertical-align:middle;\" /></a></td></tr>\n",
       "<tr><td>9</td><td>ExprTuple</td><td>18, 20</td><td><a class=\"ProveItLink\" href=\"../../theorems/cd7d4f1c848a714c5e3ee950f74fc6919eb17af50/expr.ipynb\"><img src=\"../../theorems/cd7d4f1c848a714c5e3ee950f74fc6919eb17af50/expr.png\" style=\"display:inline;vertical-align:middle;\" /></a></td></tr>\n",
       "<tr><td>10</td><td>ExprTuple</td><td>40, 20</td><td><a class=\"ProveItLink\" href=\"../../../../../number_sets/natural_numbers/__pv_it/theorems/085c3e3dd60775d5a3d2ee7cbdd012fa9fa1715b0/expr.ipynb\"><img src=\"../../../../../number_sets/natural_numbers/__pv_it/theorems/085c3e3dd60775d5a3d2ee7cbdd012fa9fa1715b0/expr.png\" style=\"display:inline;vertical-align:middle;\" /></a></td></tr>\n",
       "<tr><td>11</td><td>ExprTuple</td><td>19, 20</td><td><a class=\"ProveItLink\" href=\"../../theorems/618ab2d195f68694d48aa25cd63785b7f3bdb7a30/expr.ipynb\"><img src=\"../../theorems/618ab2d195f68694d48aa25cd63785b7f3bdb7a30/expr.png\" style=\"display:inline;vertical-align:middle;\" /></a></td></tr>\n",
       "<tr><td>12</td><td>Lambda</td><td>parameter:&nbsp;43<br>body:&nbsp;21<br></td><td><a class=\"ProveItLink\" href=\"../../theorems/2d60ef3ffd7fa85aa6690aabfbac179e43d2993b0/expr.ipynb\"><img src=\"../../theorems/2d60ef3ffd7fa85aa6690aabfbac179e43d2993b0/expr.png\" style=\"display:inline;vertical-align:middle;\" /></a></td></tr>\n",
       "<tr><td>13</td><td>Lambda</td><td>parameter:&nbsp;43<br>body:&nbsp;22<br></td><td><a class=\"ProveItLink\" href=\"../../theorems/ec17904dddadaf684d757c8e973dc649cf1a60290/expr.ipynb\"><img src=\"../../theorems/ec17904dddadaf684d757c8e973dc649cf1a60290/expr.png\" style=\"display:inline;vertical-align:middle;\" /></a></td></tr>\n",
       "<tr><td>14</td><td>ExprTuple</td><td>25, 34</td><td><a class=\"ProveItLink\" href=\"../../theorems/52018e6ec40df6e785c465a0a1416b0551712b780/expr.ipynb\"><img src=\"../../theorems/52018e6ec40df6e785c465a0a1416b0551712b780/expr.png\" style=\"display:inline;vertical-align:middle;\" /></a></td></tr>\n",
       "<tr><td>15</td><td>Lambda</td><td>parameter:&nbsp;43<br>body:&nbsp;23<br></td><td><a class=\"ProveItLink\" href=\"../../theorems/6f8d49e9c297235494c8cad57758f35e898d74660/expr.ipynb\"><img src=\"../../theorems/6f8d49e9c297235494c8cad57758f35e898d74660/expr.png\" style=\"display:inline;vertical-align:middle;\" /></a></td></tr>\n",
       "<tr><td>16</td><td>Literal</td><td></td><td><a class=\"ProveItLink\" href=\"../../../../../../logic/equality/__pv_it/common/fb96dc12b2aa8801dda64d0132b396c63d1502bb0/expr.ipynb\"><img src=\"../../../../../../logic/equality/__pv_it/common/fb96dc12b2aa8801dda64d0132b396c63d1502bb0/expr.png\" style=\"display:inline;vertical-align:middle;\" /></a></td></tr>\n",
       "<tr><td>17</td><td>ExprTuple</td><td>24, 25</td><td><a class=\"ProveItLink\" href=\"../../theorems/4551fb79f16302a102605c95561b55f3e57b47d60/expr.ipynb\"><img src=\"../../theorems/4551fb79f16302a102605c95561b55f3e57b47d60/expr.png\" style=\"display:inline;vertical-align:middle;\" /></a></td></tr>\n",
       "<tr><td>18</td><td>Variable</td><td></td><td><a class=\"ProveItLink\" href=\"../../../../../../__pv_it/common/674a03b9c3ca221b3aabd5636837b31528ff33830/expr.ipynb\"><img src=\"../../../../../../__pv_it/common/674a03b9c3ca221b3aabd5636837b31528ff33830/expr.png\" style=\"display:inline;vertical-align:middle;\" /></a></td></tr>\n",
       "<tr><td>19</td><td>Variable</td><td></td><td><a class=\"ProveItLink\" href=\"../../../../../../__pv_it/common/63b7c64bf9ec7a04ecc396c7a1670f3f12fb59490/expr.ipynb\"><img src=\"../../../../../../__pv_it/common/63b7c64bf9ec7a04ecc396c7a1670f3f12fb59490/expr.png\" style=\"display:inline;vertical-align:middle;\" /></a></td></tr>\n",
       "<tr><td>20</td><td>Literal</td><td></td><td><a class=\"ProveItLink\" href=\"../../../../../number_sets/natural_numbers/__pv_it/common/8b7c321957f52ed3b05b36af612eeae4fa4783bc0/expr.ipynb\"><img src=\"../../../../../number_sets/natural_numbers/__pv_it/common/8b7c321957f52ed3b05b36af612eeae4fa4783bc0/expr.png\" style=\"display:inline;vertical-align:middle;\" /></a></td></tr>\n",
       "<tr><td>21</td><td>Operation</td><td>operator:&nbsp;28<br>operands:&nbsp;26<br></td><td><a class=\"ProveItLink\" href=\"../../theorems/71d9f49bcbe21eb68830ca253cf14bd3c0bd80100/expr.ipynb\"><img src=\"../../theorems/71d9f49bcbe21eb68830ca253cf14bd3c0bd80100/expr.png\" style=\"display:inline;vertical-align:middle;\" /></a></td></tr>\n",
       "<tr><td>22</td><td>Operation</td><td>operator:&nbsp;28<br>operands:&nbsp;27<br></td><td><a class=\"ProveItLink\" href=\"../../theorems/590e864855d70c834c0fb949ddcf547063e61ff10/expr.ipynb\"><img src=\"../../theorems/590e864855d70c834c0fb949ddcf547063e61ff10/expr.png\" style=\"display:inline;vertical-align:middle;\" /></a></td></tr>\n",
       "<tr><td>23</td><td>Operation</td><td>operator:&nbsp;28<br>operands:&nbsp;29<br></td><td><a class=\"ProveItLink\" href=\"../../theorems/cb77a9c38ddd5d90fbf35dc1d29bd5ed4f5dae470/expr.ipynb\"><img src=\"../../theorems/cb77a9c38ddd5d90fbf35dc1d29bd5ed4f5dae470/expr.png\" style=\"display:inline;vertical-align:middle;\" /></a></td></tr>\n",
       "<tr><td>24</td><td>Operation</td><td>operator:&nbsp;30<br>operands:&nbsp;31<br></td><td><a class=\"ProveItLink\" href=\"../../theorems/b27b8d9e56b7d4d77a557f0d62ba77b0b66df9ba0/expr.ipynb\"><img src=\"../../theorems/b27b8d9e56b7d4d77a557f0d62ba77b0b66df9ba0/expr.png\" style=\"display:inline;vertical-align:middle;\" /></a></td></tr>\n",
       "<tr><td>25</td><td>Variable</td><td></td><td><a class=\"ProveItLink\" href=\"../../../../../../__pv_it/common/ceef4280a2f1cc604b455b54e735507244cc62cd0/expr.ipynb\"><img src=\"../../../../../../__pv_it/common/ceef4280a2f1cc604b455b54e735507244cc62cd0/expr.png\" style=\"display:inline;vertical-align:middle;\" /></a></td></tr>\n",
       "<tr><td>26</td><td>ExprTuple</td><td>32, 34</td><td><a class=\"ProveItLink\" href=\"../../theorems/f22eb9cfcde37c88bf22f191e5ac48f3e621c4930/expr.ipynb\"><img src=\"../../theorems/f22eb9cfcde37c88bf22f191e5ac48f3e621c4930/expr.png\" style=\"display:inline;vertical-align:middle;\" /></a></td></tr>\n",
       "<tr><td>27</td><td>ExprTuple</td><td>41, 34</td><td><a class=\"ProveItLink\" href=\"../../theorems/91eb0fa3a5b5113c21738b3ea4dae90e534130c40/expr.ipynb\"><img src=\"../../theorems/91eb0fa3a5b5113c21738b3ea4dae90e534130c40/expr.png\" style=\"display:inline;vertical-align:middle;\" /></a></td></tr>\n",
       "<tr><td>28</td><td>Literal</td><td></td><td><a class=\"ProveItLink\" href=\"../../../../../../logic/sets/membership/__pv_it/common/477487d8796864d23d5810f83761435f25167f690/expr.ipynb\"><img src=\"../../../../../../logic/sets/membership/__pv_it/common/477487d8796864d23d5810f83761435f25167f690/expr.png\" style=\"display:inline;vertical-align:middle;\" /></a></td></tr>\n",
       "<tr><td>29</td><td>ExprTuple</td><td>33, 34</td><td><a class=\"ProveItLink\" href=\"../../theorems/851fd5e5671c27c3fe7218c4badb36d86a114f420/expr.ipynb\"><img src=\"../../theorems/851fd5e5671c27c3fe7218c4badb36d86a114f420/expr.png\" style=\"display:inline;vertical-align:middle;\" /></a></td></tr>\n",
       "<tr><td>30</td><td>Literal</td><td></td><td><a class=\"ProveItLink\" href=\"../../../../../addition/__pv_it/common/4b7effaab3619a1c2c38fe2dee8601df8ec714590/expr.ipynb\"><img src=\"../../../../../addition/__pv_it/common/4b7effaab3619a1c2c38fe2dee8601df8ec714590/expr.png\" style=\"display:inline;vertical-align:middle;\" /></a></td></tr>\n",
       "<tr><td>31</td><td>ExprTuple</td><td>35</td><td><a class=\"ProveItLink\" href=\"../../theorems/1cd4d2cdd064a591814f361250d58aa1cf78bf610/expr.ipynb\"><img src=\"../../theorems/1cd4d2cdd064a591814f361250d58aa1cf78bf610/expr.png\" style=\"display:inline;vertical-align:middle;\" /></a></td></tr>\n",
       "<tr><td>32</td><td>IndexedVar</td><td>variable:&nbsp;36<br>index:&nbsp;43<br></td><td><a class=\"ProveItLink\" href=\"../../../../../../core_expr_types/__pv_it/common/ea36c59b79decceeaf696ef762cc9648f9ddbf5c0/expr.ipynb\"><img src=\"../../../../../../core_expr_types/__pv_it/common/ea36c59b79decceeaf696ef762cc9648f9ddbf5c0/expr.png\" style=\"display:inline;vertical-align:middle;\" /></a></td></tr>\n",
       "<tr><td>33</td><td>IndexedVar</td><td>variable:&nbsp;37<br>index:&nbsp;43<br></td><td><a class=\"ProveItLink\" href=\"../../theorems/3969a690fa3832a3c7123b99818889edf6bdb9e50/expr.ipynb\"><img src=\"../../theorems/3969a690fa3832a3c7123b99818889edf6bdb9e50/expr.png\" style=\"display:inline;vertical-align:middle;\" /></a></td></tr>\n",
       "<tr><td>34</td><td>Literal</td><td></td><td><a class=\"ProveItLink\" href=\"../../common/dc613b38f2e2437121f05ba71d28bbec8e41bedd0/expr.ipynb\"><img src=\"../../common/dc613b38f2e2437121f05ba71d28bbec8e41bedd0/expr.png\" style=\"display:inline;vertical-align:middle;\" /></a></td></tr>\n",
       "<tr><td>35</td><td>ExprRange</td><td>lambda_map:&nbsp;38<br>start_index:&nbsp;39<br>end_index:&nbsp;40<br></td><td><a class=\"ProveItLink\" href=\"../../theorems/7d11c312edb04fc4d06ec18708e6d2b019d2d5a80/expr.ipynb\"><img src=\"../../theorems/7d11c312edb04fc4d06ec18708e6d2b019d2d5a80/expr.png\" style=\"display:inline;vertical-align:middle;\" /></a></td></tr>\n",
       "<tr><td>36</td><td>Variable</td><td></td><td><a class=\"ProveItLink\" href=\"../../../../../../__pv_it/common/c06c606ec12678c58933ac85412ecadc2ae28be60/expr.ipynb\"><img src=\"../../../../../../__pv_it/common/c06c606ec12678c58933ac85412ecadc2ae28be60/expr.png\" style=\"display:inline;vertical-align:middle;\" /></a></td></tr>\n",
       "<tr><td>37</td><td>Variable</td><td></td><td><a class=\"ProveItLink\" href=\"../../../../../../__pv_it/common/4f5c524ffda87296de1c79b96880123fe2efedd50/expr.ipynb\"><img src=\"../../../../../../__pv_it/common/4f5c524ffda87296de1c79b96880123fe2efedd50/expr.png\" style=\"display:inline;vertical-align:middle;\" /></a></td></tr>\n",
       "<tr><td>38</td><td>Lambda</td><td>parameter:&nbsp;43<br>body:&nbsp;41<br></td><td><a class=\"ProveItLink\" href=\"../../theorems/52310876245c384be2a5c333a68b17fd64c3f7a80/expr.ipynb\"><img src=\"../../theorems/52310876245c384be2a5c333a68b17fd64c3f7a80/expr.png\" style=\"display:inline;vertical-align:middle;\" /></a></td></tr>\n",
       "<tr><td>39</td><td>Literal</td><td></td><td><a class=\"ProveItLink\" href=\"../../../../__pv_it/common/2778428c7f555b2bdc06aa0530bc142c6e6335100/expr.ipynb\"><img src=\"../../../../__pv_it/common/2778428c7f555b2bdc06aa0530bc142c6e6335100/expr.png\" style=\"display:inline;vertical-align:middle;\" /></a></td></tr>\n",
       "<tr><td>40</td><td>Variable</td><td></td><td><a class=\"ProveItLink\" href=\"../../../../../../__pv_it/common/8968bb04eb3f7dfa02353397ce929b025bbd79c20/expr.ipynb\"><img src=\"../../../../../../__pv_it/common/8968bb04eb3f7dfa02353397ce929b025bbd79c20/expr.png\" style=\"display:inline;vertical-align:middle;\" /></a></td></tr>\n",
       "<tr><td>41</td><td>IndexedVar</td><td>variable:&nbsp;42<br>index:&nbsp;43<br></td><td><a class=\"ProveItLink\" href=\"../../theorems/6baad7dce98ea230c18226e353b06763b40b32720/expr.ipynb\"><img src=\"../../theorems/6baad7dce98ea230c18226e353b06763b40b32720/expr.png\" style=\"display:inline;vertical-align:middle;\" /></a></td></tr>\n",
       "<tr><td>42</td><td>Variable</td><td></td><td><a class=\"ProveItLink\" href=\"../../../../../../__pv_it/common/195236b98c6c564a75b5dbada74b173bc52d5c3e0/expr.ipynb\"><img src=\"../../../../../../__pv_it/common/195236b98c6c564a75b5dbada74b173bc52d5c3e0/expr.png\" style=\"display:inline;vertical-align:middle;\" /></a></td></tr>\n",
       "<tr><td>43</td><td>Variable</td><td></td><td><a class=\"ProveItLink\" href=\"../../../../../../core_expr_types/__pv_it/common/006c465e50948aa2b52285e2de47974f741255cc0/expr.ipynb\"><img src=\"../../../../../../core_expr_types/__pv_it/common/006c465e50948aa2b52285e2de47974f741255cc0/expr.png\" style=\"display:inline;vertical-align:middle;\" /></a></td></tr>\n",
       "</table>\n"
      ],
      "text/plain": [
       "0. (m in Natural, n in Natural, k in Natural, a_{1} in Digits, ..a_{_a} in Digits.., a_{m} in Digits, b_{1} in Digits, ..b_{_a} in Digits.., b_{n} in Digits, c in Digits, d_{1} in Digits, ..d_{_a} in Digits.., d_{k} in Digits, (b_{1} + ..b_{_a}.. + b_{n}) = c)\n",
       "   core type: ExprTuple\n",
       "   sub-expressions: 1, 2, 3, 4, 5, 6, 7, 8\n",
       "1. m in Natural\n",
       "   core type: Operation\n",
       "   operator: 28\n",
       "   operands: 9\n",
       "2. n in Natural\n",
       "   core type: Operation\n",
       "   operator: 28\n",
       "   operands: 10\n",
       "3. k in Natural\n",
       "   core type: Operation\n",
       "   operator: 28\n",
       "   operands: 11\n",
       "4. (a_{1} in Digits), ..(a_{_a} in Digits).., (a_{m} in Digits)\n",
       "   core type: ExprRange\n",
       "   lambda_map: 12\n",
       "   start_index: 39\n",
       "   end_index: 18\n",
       "5. (b_{1} in Digits), ..(b_{_a} in Digits).., (b_{n} in Digits)\n",
       "   core type: ExprRange\n",
       "   lambda_map: 13\n",
       "   start_index: 39\n",
       "   end_index: 40\n",
       "6. c in Digits\n",
       "   core type: Operation\n",
       "   operator: 28\n",
       "   operands: 14\n",
       "7. (d_{1} in Digits), ..(d_{_a} in Digits).., (d_{k} in Digits)\n",
       "   core type: ExprRange\n",
       "   lambda_map: 15\n",
       "   start_index: 39\n",
       "   end_index: 19\n",
       "8. (b_{1} + ..b_{_a}.. + b_{n}) = c\n",
       "   core type: Operation\n",
       "   operator: 16\n",
       "   operands: 17\n",
       "9. (m, Natural)\n",
       "   core type: ExprTuple\n",
       "   sub-expressions: 18, 20\n",
       "10. (n, Natural)\n",
       "    core type: ExprTuple\n",
       "    sub-expressions: 40, 20\n",
       "11. (k, Natural)\n",
       "    core type: ExprTuple\n",
       "    sub-expressions: 19, 20\n",
       "12. _a -> (a_{_a} in Digits)\n",
       "    core type: Lambda\n",
       "    parameter: 43\n",
       "    body: 21\n",
       "13. _a -> (b_{_a} in Digits)\n",
       "    core type: Lambda\n",
       "    parameter: 43\n",
       "    body: 22\n",
       "14. (c, Digits)\n",
       "    core type: ExprTuple\n",
       "    sub-expressions: 25, 34\n",
       "15. _a -> (d_{_a} in Digits)\n",
       "    core type: Lambda\n",
       "    parameter: 43\n",
       "    body: 23\n",
       "16. =\n",
       "    core type: Literal\n",
       "    sub-expressions: \n",
       "17. (b_{1} + ..b_{_a}.. + b_{n}, c)\n",
       "    core type: ExprTuple\n",
       "    sub-expressions: 24, 25\n",
       "18. m\n",
       "    core type: Variable\n",
       "    sub-expressions: \n",
       "19. k\n",
       "    core type: Variable\n",
       "    sub-expressions: \n",
       "20. Natural\n",
       "    core type: Literal\n",
       "    sub-expressions: \n",
       "21. a_{_a} in Digits\n",
       "    core type: Operation\n",
       "    operator: 28\n",
       "    operands: 26\n",
       "22. b_{_a} in Digits\n",
       "    core type: Operation\n",
       "    operator: 28\n",
       "    operands: 27\n",
       "23. d_{_a} in Digits\n",
       "    core type: Operation\n",
       "    operator: 28\n",
       "    operands: 29\n",
       "24. b_{1} + ..b_{_a}.. + b_{n}\n",
       "    core type: Operation\n",
       "    operator: 30\n",
       "    operands: 31\n",
       "25. c\n",
       "    core type: Variable\n",
       "    sub-expressions: \n",
       "26. (a_{_a}, Digits)\n",
       "    core type: ExprTuple\n",
       "    sub-expressions: 32, 34\n",
       "27. (b_{_a}, Digits)\n",
       "    core type: ExprTuple\n",
       "    sub-expressions: 41, 34\n",
       "28. in\n",
       "    core type: Literal\n",
       "    sub-expressions: \n",
       "29. (d_{_a}, Digits)\n",
       "    core type: ExprTuple\n",
       "    sub-expressions: 33, 34\n",
       "30. +\n",
       "    core type: Literal\n",
       "    sub-expressions: \n",
       "31. (b_{1}, ..b_{_a}.., b_{n})\n",
       "    core type: ExprTuple\n",
       "    sub-expressions: 35\n",
       "32. a_{_a}\n",
       "    core type: IndexedVar\n",
       "variable: 36\n",
       "index: 43\n",
       "33. d_{_a}\n",
       "    core type: IndexedVar\n",
       "variable: 37\n",
       "index: 43\n",
       "34. Digits\n",
       "    core type: Literal\n",
       "    sub-expressions: \n",
       "35. b_{1}, ..b_{_a}.., b_{n}\n",
       "    core type: ExprRange\n",
       "    lambda_map: 38\n",
       "    start_index: 39\n",
       "    end_index: 40\n",
       "36. a\n",
       "    core type: Variable\n",
       "    sub-expressions: \n",
       "37. d\n",
       "    core type: Variable\n",
       "    sub-expressions: \n",
       "38. _a -> b_{_a}\n",
       "    core type: Lambda\n",
       "    parameter: 43\n",
       "    body: 41\n",
       "39. 1\n",
       "    core type: Literal\n",
       "    sub-expressions: \n",
       "40. n\n",
       "    core type: Variable\n",
       "    sub-expressions: \n",
       "41. b_{_a}\n",
       "    core type: IndexedVar\n",
       "variable: 42\n",
       "index: 43\n",
       "42. b\n",
       "    core type: Variable\n",
       "    sub-expressions: \n",
       "43. _a\n",
       "    core type: Variable\n",
       "    sub-expressions: "
      ]
     },
     "execution_count": 5,
     "metadata": {},
     "output_type": "execute_result"
    }
   ],
   "source": [
    "# display the expression information\n",
    "expr.expr_info()"
   ]
  },
  {
   "cell_type": "code",
   "execution_count": null,
   "metadata": {},
   "outputs": [],
   "source": []
  }
 ],
 "metadata": {
  "kernelspec": {
   "display_name": "Python 3",
   "language": "python",
   "name": "python3"
  }
 },
 "nbformat": 4,
 "nbformat_minor": 0
}