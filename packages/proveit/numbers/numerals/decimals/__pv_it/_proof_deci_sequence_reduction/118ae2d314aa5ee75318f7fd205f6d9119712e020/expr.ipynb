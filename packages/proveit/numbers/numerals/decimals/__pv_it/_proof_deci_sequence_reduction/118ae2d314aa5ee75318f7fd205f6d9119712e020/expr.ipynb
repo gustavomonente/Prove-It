{
 "cells": [
  {
   "cell_type": "markdown",
   "metadata": {},
   "source": [
    "Expression of type <a class=\"ProveItLink\" href=\"../../../../../../../../doc/html/api/proveit.ExprTuple.html\">ExprTuple</a>\n",
    "=======================\n",
    "# from the theory of <a class=\"ProveItLink\" href=\"../../../_theory_nbs_/theory.ipynb\">proveit.numbers.numerals.decimals</a>"
   ]
  },
  {
   "cell_type": "code",
   "execution_count": 1,
   "metadata": {},
   "outputs": [],
   "source": [
    "import proveit\n",
    "# Automation is not needed when building an expression:\n",
    "proveit.defaults.automation = False # This will speed things up.\n",
    "proveit.defaults.inline_pngs = False # Makes files smaller.\n",
    "%load_expr # Load the stored expression as 'stored_expr'\n",
    "# import Expression classes needed to build the expression\n",
    "from proveit import ExprRange, ExprTuple, IndexedVar, Variable, a, b, c, d, k, m, n\n",
    "from proveit.logic import Equals, InSet\n",
    "from proveit.numbers import Add, Digits, Natural, one"
   ]
  },
  {
   "cell_type": "code",
   "execution_count": 2,
   "metadata": {},
   "outputs": [
    {
     "data": {
      "text/html": [
       "<strong id=\"expr\">expr:</strong> <a class=\"ProveItLink\" href=\"expr.ipynb\"><img src=\"expr.png\" style=\"display:inline;vertical-align:middle;\" /></a><br>"
      ],
      "text/plain": [
       "expr: (m in Natural, n in Natural, k in Natural, a_{1} in Digits, ..a_{_a} in Digits.., a_{m} in Digits, b_{1} in Digits, ..b_{_a} in Digits.., b_{n} in Digits, c in Digits, d_{1} in Digits, ..d_{_a} in Digits.., d_{k} in Digits, (b_{1} + ..b_{_a}.. + b_{n}) = c)"
      ]
     },
     "execution_count": 2,
     "metadata": {},
     "output_type": "execute_result"
    }
   ],
   "source": [
    "# build up the expression from sub-expressions\n",
    "sub_expr1 = Variable(\"_a\", latex_format = r\"{_{-}a}\")\n",
    "sub_expr2 = IndexedVar(b, sub_expr1)\n",
    "expr = ExprTuple(InSet(m, Natural), InSet(n, Natural), InSet(k, Natural), ExprRange(sub_expr1, InSet(IndexedVar(a, sub_expr1), Digits), one, m), ExprRange(sub_expr1, InSet(sub_expr2, Digits), one, n), InSet(c, Digits), ExprRange(sub_expr1, InSet(IndexedVar(d, sub_expr1), Digits), one, k), Equals(Add(ExprRange(sub_expr1, sub_expr2, one, n)), c))"
   ]
  },
  {
   "cell_type": "code",
   "execution_count": 3,
   "metadata": {},
   "outputs": [
    {
     "name": "stdout",
     "output_type": "stream",
     "text": [
      "Passed sanity check: expr matches stored_expr\n"
     ]
    }
   ],
   "source": [
    "# check that the built expression is the same as the stored expression\n",
    "assert expr == stored_expr\n",
    "assert expr._style_id == stored_expr._style_id\n",
    "print(\"Passed sanity check: expr matches stored_expr\")"
   ]
  },
  {
   "cell_type": "code",
   "execution_count": 4,
   "metadata": {},
   "outputs": [
    {
     "name": "stdout",
     "output_type": "stream",
     "text": [
      "\\left(m \\in \\mathbb{N}, n \\in \\mathbb{N}, k \\in \\mathbb{N}, a_{1} \\in \\mathbb{N}^{\\leq 9}, \\ldots, a_{m} \\in \\mathbb{N}^{\\leq 9}, b_{1} \\in \\mathbb{N}^{\\leq 9}, \\ldots, b_{n} \\in \\mathbb{N}^{\\leq 9}, c \\in \\mathbb{N}^{\\leq 9}, d_{1} \\in \\mathbb{N}^{\\leq 9}, \\ldots, d_{k} \\in \\mathbb{N}^{\\leq 9}, \\left(b_{1} + \\ldots + b_{n}\\right) = c\\right)\n"
     ]
    }
   ],
   "source": [
    "# Show the LaTeX representation of the expression for convenience if you need it.\n",
    "print(expr.latex())"
   ]
  },
  {
   "cell_type": "code",
   "execution_count": 5,
   "metadata": {},
   "outputs": [
    {
     "data": {
      "text/html": [
       "<table>\n",
       "<tr><th>name</th><th>description</th><th>default</th><th>current value</th><th>related methods</th></tr><tr><td>wrap_positions</td><td>position(s) at which wrapping is to occur; 'n' is after the nth comma.</td><td>()</td><td>()</td><td>('with_wrapping_at',)</td></tr>\n",
       "<tr><td>justification</td><td>if any wrap positions are set, justify to the 'left', 'center', or 'right'</td><td>left</td><td>left</td><td>('with_justification',)</td></tr>\n",
       "</table>\n"
      ],
      "text/plain": [
       "style name: wrap_positions\n",
       "description: position(s) at which wrapping is to occur; 'n' is after the nth comma.\n",
       "default: ()\n",
       "current value: ()\n",
       "related methods: ('with_wrapping_at',)\n",
       "style name: justification\n",
       "description: if any wrap positions are set, justify to the 'left', 'center', or 'right'\n",
       "default: left\n",
       "current value: left\n",
       "related methods: ('with_justification',)"
      ]
     },
     "execution_count": 5,
     "metadata": {},
     "output_type": "execute_result"
    }
   ],
   "source": [
    "expr.style_options()"
   ]
  },
  {
   "cell_type": "code",
   "execution_count": 6,
   "metadata": {},
   "outputs": [
    {
     "data": {
      "text/html": [
       "<table><tr><th>&nbsp;</th><th>core type</th><th>sub-expressions</th><th>expression</th></tr>\n",
       "<tr><td>0</td><td>ExprTuple</td><td>1, 2, 3, 4, 5, 6, 7, 8</td><td><a class=\"ProveItLink\" href=\"expr.ipynb\"><img src=\"expr.png\" style=\"display:inline;vertical-align:middle;\" /></a></td></tr>\n",
       "<tr><td>1</td><td>Operation</td><td>operator:&nbsp;28<br>operands:&nbsp;9<br></td><td><a class=\"ProveItLink\" href=\"../../theorems/3287be28b2126783aeddb65edbf04637df184bd00/expr.ipynb\"><img src=\"../../theorems/3287be28b2126783aeddb65edbf04637df184bd00/expr.png\" style=\"display:inline;vertical-align:middle;\" /></a></td></tr>\n",
       "<tr><td>2</td><td>Operation</td><td>operator:&nbsp;28<br>operands:&nbsp;10<br></td><td><a class=\"ProveItLink\" href=\"../../../../../number_sets/natural_numbers/__pv_it/theorems/ba5849e6de22ec92714c647d41d92ef0cc8fb69d0/expr.ipynb\"><img src=\"../../../../../number_sets/natural_numbers/__pv_it/theorems/ba5849e6de22ec92714c647d41d92ef0cc8fb69d0/expr.png\" style=\"display:inline;vertical-align:middle;\" /></a></td></tr>\n",
       "<tr><td>3</td><td>Operation</td><td>operator:&nbsp;28<br>operands:&nbsp;11<br></td><td><a class=\"ProveItLink\" href=\"../../theorems/bfb51b20218eda15111bf9094481a2c5d106a87b0/expr.ipynb\"><img src=\"../../theorems/bfb51b20218eda15111bf9094481a2c5d106a87b0/expr.png\" style=\"display:inline;vertical-align:middle;\" /></a></td></tr>\n",
       "<tr><td>4</td><td>ExprRange</td><td>lambda_map:&nbsp;12<br>start_index:&nbsp;39<br>end_index:&nbsp;18<br></td><td><a class=\"ProveItLink\" href=\"../../theorems/c68cc4bbe1b007b50d8a779932decfa34ca431e70/expr.ipynb\"><img src=\"../../theorems/c68cc4bbe1b007b50d8a779932decfa34ca431e70/expr.png\" style=\"display:inline;vertical-align:middle;\" /></a></td></tr>\n",
       "<tr><td>5</td><td>ExprRange</td><td>lambda_map:&nbsp;13<br>start_index:&nbsp;39<br>end_index:&nbsp;40<br></td><td><a class=\"ProveItLink\" href=\"../../theorems/0f1725d5871cddedf09329267e5b84d5f3a3665a0/expr.ipynb\"><img src=\"../../theorems/0f1725d5871cddedf09329267e5b84d5f3a3665a0/expr.png\" style=\"display:inline;vertical-align:middle;\" /></a></td></tr>\n",
       "<tr><td>6</td><td>Operation</td><td>operator:&nbsp;28<br>operands:&nbsp;14<br></td><td><a class=\"ProveItLink\" href=\"../../theorems/ad85fd677d34213114ea83473c8bd807c97decbd0/expr.ipynb\"><img src=\"../../theorems/ad85fd677d34213114ea83473c8bd807c97decbd0/expr.png\" style=\"display:inline;vertical-align:middle;\" /></a></td></tr>\n",
       "<tr><td>7</td><td>ExprRange</td><td>lambda_map:&nbsp;15<br>start_index:&nbsp;39<br>end_index:&nbsp;19<br></td><td><a class=\"ProveItLink\" href=\"../../theorems/23abdd7c071dfc4fc17dac805fa8c478416b29210/expr.ipynb\"><img src=\"../../theorems/23abdd7c071dfc4fc17dac805fa8c478416b29210/expr.png\" style=\"display:inline;vertical-align:middle;\" /></a></td></tr>\n",
       "<tr><td>8</td><td>Operation</td><td>operator:&nbsp;16<br>operands:&nbsp;17<br></td><td><a class=\"ProveItLink\" href=\"../../theorems/df6f63c4fd4fa7542ef8c6ea9f9d6e707ea5ff160/expr.ipynb\"><img src=\"../../theorems/df6f63c4fd4fa7542ef8c6ea9f9d6e707ea5ff160/expr.png\" style=\"display:inline;vertical-align:middle;\" /></a></td></tr>\n",
       "<tr><td>9</td><td>ExprTuple</td><td>18, 20</td><td><a class=\"ProveItLink\" href=\"../../theorems/04159094d330187d96682e7798bfbb21b0aae5810/expr.ipynb\"><img src=\"../../theorems/04159094d330187d96682e7798bfbb21b0aae5810/expr.png\" style=\"display:inline;vertical-align:middle;\" /></a></td></tr>\n",
       "<tr><td>10</td><td>ExprTuple</td><td>40, 20</td><td><a class=\"ProveItLink\" href=\"../../../../../number_sets/natural_numbers/__pv_it/theorems/27104d43a221577800b6ea002807b735082306850/expr.ipynb\"><img src=\"../../../../../number_sets/natural_numbers/__pv_it/theorems/27104d43a221577800b6ea002807b735082306850/expr.png\" style=\"display:inline;vertical-align:middle;\" /></a></td></tr>\n",
       "<tr><td>11</td><td>ExprTuple</td><td>19, 20</td><td><a class=\"ProveItLink\" href=\"../../theorems/bc9a6db39205d2144977c53a440fb629f2bbebe70/expr.ipynb\"><img src=\"../../theorems/bc9a6db39205d2144977c53a440fb629f2bbebe70/expr.png\" style=\"display:inline;vertical-align:middle;\" /></a></td></tr>\n",
       "<tr><td>12</td><td>Lambda</td><td>parameter:&nbsp;44<br>body:&nbsp;21<br></td><td><a class=\"ProveItLink\" href=\"../../theorems/f42804e907ba957c8c13fb688e1d667663e3c8510/expr.ipynb\"><img src=\"../../theorems/f42804e907ba957c8c13fb688e1d667663e3c8510/expr.png\" style=\"display:inline;vertical-align:middle;\" /></a></td></tr>\n",
       "<tr><td>13</td><td>Lambda</td><td>parameter:&nbsp;44<br>body:&nbsp;22<br></td><td><a class=\"ProveItLink\" href=\"../../theorems/ea1f0f2f336045151150bb55bef7f03329266d7d0/expr.ipynb\"><img src=\"../../theorems/ea1f0f2f336045151150bb55bef7f03329266d7d0/expr.png\" style=\"display:inline;vertical-align:middle;\" /></a></td></tr>\n",
       "<tr><td>14</td><td>ExprTuple</td><td>25, 34</td><td><a class=\"ProveItLink\" href=\"../../theorems/930018687c919eed752d32e3e88c7dcada8fdbce0/expr.ipynb\"><img src=\"../../theorems/930018687c919eed752d32e3e88c7dcada8fdbce0/expr.png\" style=\"display:inline;vertical-align:middle;\" /></a></td></tr>\n",
       "<tr><td>15</td><td>Lambda</td><td>parameter:&nbsp;44<br>body:&nbsp;23<br></td><td><a class=\"ProveItLink\" href=\"../../theorems/0f1cc51917ad2313f143636855cce430081069530/expr.ipynb\"><img src=\"../../theorems/0f1cc51917ad2313f143636855cce430081069530/expr.png\" style=\"display:inline;vertical-align:middle;\" /></a></td></tr>\n",
       "<tr><td>16</td><td>Literal</td><td></td><td><a class=\"ProveItLink\" href=\"../../../../../../logic/equality/__pv_it/common/731dd3955b346c1320ed5c0ba7a618bcda61457d0/expr.ipynb\"><img src=\"../../../../../../logic/equality/__pv_it/common/731dd3955b346c1320ed5c0ba7a618bcda61457d0/expr.png\" style=\"display:inline;vertical-align:middle;\" /></a></td></tr>\n",
       "<tr><td>17</td><td>ExprTuple</td><td>24, 25</td><td><a class=\"ProveItLink\" href=\"../../theorems/249fd0e4013e9816c5c03937e3644e38e99f7c5a0/expr.ipynb\"><img src=\"../../theorems/249fd0e4013e9816c5c03937e3644e38e99f7c5a0/expr.png\" style=\"display:inline;vertical-align:middle;\" /></a></td></tr>\n",
       "<tr><td>18</td><td>Variable</td><td></td><td><a class=\"ProveItLink\" href=\"../../../../../../__pv_it/common/2dc4f15b3407a25e8d70754a86bf74f1871f92650/expr.ipynb\"><img src=\"../../../../../../__pv_it/common/2dc4f15b3407a25e8d70754a86bf74f1871f92650/expr.png\" style=\"display:inline;vertical-align:middle;\" /></a></td></tr>\n",
       "<tr><td>19</td><td>Variable</td><td></td><td><a class=\"ProveItLink\" href=\"../../../../../../__pv_it/common/b9fd37fc619babc74a6203459f110251586df6970/expr.ipynb\"><img src=\"../../../../../../__pv_it/common/b9fd37fc619babc74a6203459f110251586df6970/expr.png\" style=\"display:inline;vertical-align:middle;\" /></a></td></tr>\n",
       "<tr><td>20</td><td>Literal</td><td></td><td><a class=\"ProveItLink\" href=\"../../../../../number_sets/natural_numbers/__pv_it/common/85c8b43c90a7392ebb5459360d343dfa7c7408b50/expr.ipynb\"><img src=\"../../../../../number_sets/natural_numbers/__pv_it/common/85c8b43c90a7392ebb5459360d343dfa7c7408b50/expr.png\" style=\"display:inline;vertical-align:middle;\" /></a></td></tr>\n",
       "<tr><td>21</td><td>Operation</td><td>operator:&nbsp;28<br>operands:&nbsp;26<br></td><td><a class=\"ProveItLink\" href=\"../../theorems/32284c3b5517319a379a2decb8430cc1ba2ec87e0/expr.ipynb\"><img src=\"../../theorems/32284c3b5517319a379a2decb8430cc1ba2ec87e0/expr.png\" style=\"display:inline;vertical-align:middle;\" /></a></td></tr>\n",
       "<tr><td>22</td><td>Operation</td><td>operator:&nbsp;28<br>operands:&nbsp;27<br></td><td><a class=\"ProveItLink\" href=\"../../theorems/560f887a545ec6cfaf1e941c1cd5625216a2a6410/expr.ipynb\"><img src=\"../../theorems/560f887a545ec6cfaf1e941c1cd5625216a2a6410/expr.png\" style=\"display:inline;vertical-align:middle;\" /></a></td></tr>\n",
       "<tr><td>23</td><td>Operation</td><td>operator:&nbsp;28<br>operands:&nbsp;29<br></td><td><a class=\"ProveItLink\" href=\"../../theorems/5432135b2d2ecded3b878bcba6a273191492f9180/expr.ipynb\"><img src=\"../../theorems/5432135b2d2ecded3b878bcba6a273191492f9180/expr.png\" style=\"display:inline;vertical-align:middle;\" /></a></td></tr>\n",
       "<tr><td>24</td><td>Operation</td><td>operator:&nbsp;30<br>operands:&nbsp;31<br></td><td><a class=\"ProveItLink\" href=\"../../theorems/24689b01d76b488096baf05afbb38e237b0c98960/expr.ipynb\"><img src=\"../../theorems/24689b01d76b488096baf05afbb38e237b0c98960/expr.png\" style=\"display:inline;vertical-align:middle;\" /></a></td></tr>\n",
       "<tr><td>25</td><td>Variable</td><td></td><td><a class=\"ProveItLink\" href=\"../../../../../../__pv_it/common/9a9d28748f90dec84e90f2ace4610208194e524e0/expr.ipynb\"><img src=\"../../../../../../__pv_it/common/9a9d28748f90dec84e90f2ace4610208194e524e0/expr.png\" style=\"display:inline;vertical-align:middle;\" /></a></td></tr>\n",
       "<tr><td>26</td><td>ExprTuple</td><td>32, 34</td><td><a class=\"ProveItLink\" href=\"../../theorems/75e5abcea13e163a9d23f7dceb5d100abb8fc5ba0/expr.ipynb\"><img src=\"../../theorems/75e5abcea13e163a9d23f7dceb5d100abb8fc5ba0/expr.png\" style=\"display:inline;vertical-align:middle;\" /></a></td></tr>\n",
       "<tr><td>27</td><td>ExprTuple</td><td>41, 34</td><td><a class=\"ProveItLink\" href=\"../../theorems/0e50eda07851b5c85a046679ccca62f1a3e827bf0/expr.ipynb\"><img src=\"../../theorems/0e50eda07851b5c85a046679ccca62f1a3e827bf0/expr.png\" style=\"display:inline;vertical-align:middle;\" /></a></td></tr>\n",
       "<tr><td>28</td><td>Literal</td><td></td><td><a class=\"ProveItLink\" href=\"../../../../../../logic/sets/membership/__pv_it/common/7171deca84f71f47a6ec7696972d1632274a12880/expr.ipynb\"><img src=\"../../../../../../logic/sets/membership/__pv_it/common/7171deca84f71f47a6ec7696972d1632274a12880/expr.png\" style=\"display:inline;vertical-align:middle;\" /></a></td></tr>\n",
       "<tr><td>29</td><td>ExprTuple</td><td>33, 34</td><td><a class=\"ProveItLink\" href=\"../../theorems/4833ba09f30904c0d24055a0705feb02addd22280/expr.ipynb\"><img src=\"../../theorems/4833ba09f30904c0d24055a0705feb02addd22280/expr.png\" style=\"display:inline;vertical-align:middle;\" /></a></td></tr>\n",
       "<tr><td>30</td><td>Literal</td><td></td><td><a class=\"ProveItLink\" href=\"../../../../../addition/__pv_it/common/1f38fe5cce441387feef296e2c0a2eac260bb4f30/expr.ipynb\"><img src=\"../../../../../addition/__pv_it/common/1f38fe5cce441387feef296e2c0a2eac260bb4f30/expr.png\" style=\"display:inline;vertical-align:middle;\" /></a></td></tr>\n",
       "<tr><td>31</td><td>ExprTuple</td><td>35</td><td><a class=\"ProveItLink\" href=\"../../theorems/5b1447fe38758ff8cedbb48912d4ad02a44a59330/expr.ipynb\"><img src=\"../../theorems/5b1447fe38758ff8cedbb48912d4ad02a44a59330/expr.png\" style=\"display:inline;vertical-align:middle;\" /></a></td></tr>\n",
       "<tr><td>32</td><td>IndexedVar</td><td>variable:&nbsp;36<br>index:&nbsp;44<br></td><td><a class=\"ProveItLink\" href=\"../../../../../../core_expr_types/__pv_it/common/d8d3053e77ba1db68c0cd106952422881db586670/expr.ipynb\"><img src=\"../../../../../../core_expr_types/__pv_it/common/d8d3053e77ba1db68c0cd106952422881db586670/expr.png\" style=\"display:inline;vertical-align:middle;\" /></a></td></tr>\n",
       "<tr><td>33</td><td>IndexedVar</td><td>variable:&nbsp;37<br>index:&nbsp;44<br></td><td><a class=\"ProveItLink\" href=\"../../theorems/440cb7b6f1a7fa6453329b719dcfb6b7695c13f20/expr.ipynb\"><img src=\"../../theorems/440cb7b6f1a7fa6453329b719dcfb6b7695c13f20/expr.png\" style=\"display:inline;vertical-align:middle;\" /></a></td></tr>\n",
       "<tr><td>34</td><td>Literal</td><td></td><td><a class=\"ProveItLink\" href=\"../../common/573a58b6e25a8d1a34bb0a8e4fdded1188c3c5980/expr.ipynb\"><img src=\"../../common/573a58b6e25a8d1a34bb0a8e4fdded1188c3c5980/expr.png\" style=\"display:inline;vertical-align:middle;\" /></a></td></tr>\n",
       "<tr><td>35</td><td>ExprRange</td><td>lambda_map:&nbsp;38<br>start_index:&nbsp;39<br>end_index:&nbsp;40<br></td><td><a class=\"ProveItLink\" href=\"../../theorems/66fa1d50aa486e26aae2f9c98637abb9734784e20/expr.ipynb\"><img src=\"../../theorems/66fa1d50aa486e26aae2f9c98637abb9734784e20/expr.png\" style=\"display:inline;vertical-align:middle;\" /></a></td></tr>\n",
       "<tr><td>36</td><td>Variable</td><td></td><td><a class=\"ProveItLink\" href=\"../../../../../../__pv_it/common/66c90e66682f107a881f2d666959f64e2e72ad750/expr.ipynb\"><img src=\"../../../../../../__pv_it/common/66c90e66682f107a881f2d666959f64e2e72ad750/expr.png\" style=\"display:inline;vertical-align:middle;\" /></a></td></tr>\n",
       "<tr><td>37</td><td>Variable</td><td></td><td><a class=\"ProveItLink\" href=\"../../../../../../__pv_it/common/ba27da3f6d5512be14b05498f34744a70c9279220/expr.ipynb\"><img src=\"../../../../../../__pv_it/common/ba27da3f6d5512be14b05498f34744a70c9279220/expr.png\" style=\"display:inline;vertical-align:middle;\" /></a></td></tr>\n",
       "<tr><td>38</td><td>Lambda</td><td>parameter:&nbsp;44<br>body:&nbsp;41<br></td><td><a class=\"ProveItLink\" href=\"../../theorems/9cec585e706b7f522e628495ce57ab2ba231a9570/expr.ipynb\"><img src=\"../../theorems/9cec585e706b7f522e628495ce57ab2ba231a9570/expr.png\" style=\"display:inline;vertical-align:middle;\" /></a></td></tr>\n",
       "<tr><td>39</td><td>Literal</td><td></td><td><a class=\"ProveItLink\" href=\"../../../../__pv_it/common/d278e359da0695d9652dd541d45264f93703e2e40/expr.ipynb\"><img src=\"../../../../__pv_it/common/d278e359da0695d9652dd541d45264f93703e2e40/expr.png\" style=\"display:inline;vertical-align:middle;\" /></a></td></tr>\n",
       "<tr><td>40</td><td>Variable</td><td></td><td><a class=\"ProveItLink\" href=\"../../../../../../__pv_it/common/6165c9bb82ce3c7097cdba4440a1aeeb6eaca8a40/expr.ipynb\"><img src=\"../../../../../../__pv_it/common/6165c9bb82ce3c7097cdba4440a1aeeb6eaca8a40/expr.png\" style=\"display:inline;vertical-align:middle;\" /></a></td></tr>\n",
       "<tr><td>41</td><td>IndexedVar</td><td>variable:&nbsp;42<br>index:&nbsp;44<br></td><td><a class=\"ProveItLink\" href=\"../../theorems/76f67c2d361e055e3b9dcbf54bd0db05cf77273d0/expr.ipynb\"><img src=\"../../theorems/76f67c2d361e055e3b9dcbf54bd0db05cf77273d0/expr.png\" style=\"display:inline;vertical-align:middle;\" /></a></td></tr>\n",
       "<tr><td>42</td><td>Variable</td><td></td><td><a class=\"ProveItLink\" href=\"../../../../../../__pv_it/common/4a5db8cc5c67969ec864bd3ea598be37cb6f5e550/expr.ipynb\"><img src=\"../../../../../../__pv_it/common/4a5db8cc5c67969ec864bd3ea598be37cb6f5e550/expr.png\" style=\"display:inline;vertical-align:middle;\" /></a></td></tr>\n",
       "<tr><td>43</td><td>ExprTuple</td><td>44</td><td><a class=\"ProveItLink\" href=\"../../../../../../core_expr_types/__pv_it/common/ecf50ade416ab41c42c9f4e777b4c862cd9469670/expr.ipynb\"><img src=\"../../../../../../core_expr_types/__pv_it/common/ecf50ade416ab41c42c9f4e777b4c862cd9469670/expr.png\" style=\"display:inline;vertical-align:middle;\" /></a></td></tr>\n",
       "<tr><td>44</td><td>Variable</td><td></td><td><a class=\"ProveItLink\" href=\"../../../../../../core_expr_types/__pv_it/common/9e6d9d5d7eeb0342cf5bca68def0eb165a1a9bb10/expr.ipynb\"><img src=\"../../../../../../core_expr_types/__pv_it/common/9e6d9d5d7eeb0342cf5bca68def0eb165a1a9bb10/expr.png\" style=\"display:inline;vertical-align:middle;\" /></a></td></tr>\n",
       "</table>\n"
      ],
      "text/plain": [
       "0. (m in Natural, n in Natural, k in Natural, a_{1} in Digits, ..a_{_a} in Digits.., a_{m} in Digits, b_{1} in Digits, ..b_{_a} in Digits.., b_{n} in Digits, c in Digits, d_{1} in Digits, ..d_{_a} in Digits.., d_{k} in Digits, (b_{1} + ..b_{_a}.. + b_{n}) = c)\n",
       "   core type: ExprTuple\n",
       "   sub-expressions: 1, 2, 3, 4, 5, 6, 7, 8\n",
       "1. m in Natural\n",
       "   core type: Operation\n",
       "   operator: 28\n",
       "   operands: 9\n",
       "2. n in Natural\n",
       "   core type: Operation\n",
       "   operator: 28\n",
       "   operands: 10\n",
       "3. k in Natural\n",
       "   core type: Operation\n",
       "   operator: 28\n",
       "   operands: 11\n",
       "4. (a_{1} in Digits), ..(a_{_a} in Digits).., (a_{m} in Digits)\n",
       "   core type: ExprRange\n",
       "   lambda_map: 12\n",
       "   start_index: 39\n",
       "   end_index: 18\n",
       "5. (b_{1} in Digits), ..(b_{_a} in Digits).., (b_{n} in Digits)\n",
       "   core type: ExprRange\n",
       "   lambda_map: 13\n",
       "   start_index: 39\n",
       "   end_index: 40\n",
       "6. c in Digits\n",
       "   core type: Operation\n",
       "   operator: 28\n",
       "   operands: 14\n",
       "7. (d_{1} in Digits), ..(d_{_a} in Digits).., (d_{k} in Digits)\n",
       "   core type: ExprRange\n",
       "   lambda_map: 15\n",
       "   start_index: 39\n",
       "   end_index: 19\n",
       "8. (b_{1} + ..b_{_a}.. + b_{n}) = c\n",
       "   core type: Operation\n",
       "   operator: 16\n",
       "   operands: 17\n",
       "9. (m, Natural)\n",
       "   core type: ExprTuple\n",
       "   sub-expressions: 18, 20\n",
       "10. (n, Natural)\n",
       "    core type: ExprTuple\n",
       "    sub-expressions: 40, 20\n",
       "11. (k, Natural)\n",
       "    core type: ExprTuple\n",
       "    sub-expressions: 19, 20\n",
       "12. _a -> (a_{_a} in Digits)\n",
       "    core type: Lambda\n",
       "    parameter: 44\n",
       "    body: 21\n",
       "13. _a -> (b_{_a} in Digits)\n",
       "    core type: Lambda\n",
       "    parameter: 44\n",
       "    body: 22\n",
       "14. (c, Digits)\n",
       "    core type: ExprTuple\n",
       "    sub-expressions: 25, 34\n",
       "15. _a -> (d_{_a} in Digits)\n",
       "    core type: Lambda\n",
       "    parameter: 44\n",
       "    body: 23\n",
       "16. =\n",
       "    core type: Literal\n",
       "    sub-expressions: \n",
       "17. (b_{1} + ..b_{_a}.. + b_{n}, c)\n",
       "    core type: ExprTuple\n",
       "    sub-expressions: 24, 25\n",
       "18. m\n",
       "    core type: Variable\n",
       "    sub-expressions: \n",
       "19. k\n",
       "    core type: Variable\n",
       "    sub-expressions: \n",
       "20. Natural\n",
       "    core type: Literal\n",
       "    sub-expressions: \n",
       "21. a_{_a} in Digits\n",
       "    core type: Operation\n",
       "    operator: 28\n",
       "    operands: 26\n",
       "22. b_{_a} in Digits\n",
       "    core type: Operation\n",
       "    operator: 28\n",
       "    operands: 27\n",
       "23. d_{_a} in Digits\n",
       "    core type: Operation\n",
       "    operator: 28\n",
       "    operands: 29\n",
       "24. b_{1} + ..b_{_a}.. + b_{n}\n",
       "    core type: Operation\n",
       "    operator: 30\n",
       "    operands: 31\n",
       "25. c\n",
       "    core type: Variable\n",
       "    sub-expressions: \n",
       "26. (a_{_a}, Digits)\n",
       "    core type: ExprTuple\n",
       "    sub-expressions: 32, 34\n",
       "27. (b_{_a}, Digits)\n",
       "    core type: ExprTuple\n",
       "    sub-expressions: 41, 34\n",
       "28. in\n",
       "    core type: Literal\n",
       "    sub-expressions: \n",
       "29. (d_{_a}, Digits)\n",
       "    core type: ExprTuple\n",
       "    sub-expressions: 33, 34\n",
       "30. +\n",
       "    core type: Literal\n",
       "    sub-expressions: \n",
       "31. (b_{1}, ..b_{_a}.., b_{n})\n",
       "    core type: ExprTuple\n",
       "    sub-expressions: 35\n",
       "32. a_{_a}\n",
       "    core type: IndexedVar\n",
       "variable: 36\n",
       "index: 44\n",
       "33. d_{_a}\n",
       "    core type: IndexedVar\n",
       "variable: 37\n",
       "index: 44\n",
       "34. Digits\n",
       "    core type: Literal\n",
       "    sub-expressions: \n",
       "35. b_{1}, ..b_{_a}.., b_{n}\n",
       "    core type: ExprRange\n",
       "    lambda_map: 38\n",
       "    start_index: 39\n",
       "    end_index: 40\n",
       "36. a\n",
       "    core type: Variable\n",
       "    sub-expressions: \n",
       "37. d\n",
       "    core type: Variable\n",
       "    sub-expressions: \n",
       "38. _a -> b_{_a}\n",
       "    core type: Lambda\n",
       "    parameter: 44\n",
       "    body: 41\n",
       "39. 1\n",
       "    core type: Literal\n",
       "    sub-expressions: \n",
       "40. n\n",
       "    core type: Variable\n",
       "    sub-expressions: \n",
       "41. b_{_a}\n",
       "    core type: IndexedVar\n",
       "variable: 42\n",
       "index: 44\n",
       "42. b\n",
       "    core type: Variable\n",
       "    sub-expressions: \n",
       "43. (_a)\n",
       "    core type: ExprTuple\n",
       "    sub-expressions: 44\n",
       "44. _a\n",
       "    core type: Variable\n",
       "    sub-expressions: "
      ]
     },
     "execution_count": 6,
     "metadata": {},
     "output_type": "execute_result"
    }
   ],
   "source": [
    "# display the expression information\n",
    "expr.expr_info()"
   ]
  },
  {
   "cell_type": "code",
   "execution_count": null,
   "metadata": {},
   "outputs": [],
   "source": []
  }
 ],
 "metadata": {
  "kernelspec": {
   "display_name": "Python 3",
   "language": "python",
   "name": "python3"
  }
 },
 "nbformat": 4,
 "nbformat_minor": 0
}