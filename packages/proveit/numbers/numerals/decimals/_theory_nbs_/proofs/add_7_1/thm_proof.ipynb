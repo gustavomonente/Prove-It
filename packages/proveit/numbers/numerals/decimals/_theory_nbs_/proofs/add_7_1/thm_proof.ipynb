{
 "cells": [
  {
   "cell_type": "markdown",
   "metadata": {},
   "source": [
    "Proof of <a class=\"ProveItLink\" href=\"../../../../../../_theory_nbs_/theory.ipynb\">proveit</a>.<a class=\"ProveItLink\" href=\"../../../../../_theory_nbs_/theory.ipynb\">numbers</a>.<a class=\"ProveItLink\" href=\"../../../../_theory_nbs_/theory.ipynb\">numerals</a>.<a class=\"ProveItLink\" href=\"../../theory.ipynb\">decimals</a>.<a class=\"ProveItLink\" href=\"../../theorems.ipynb#add_7_1\">add_7_1</a> theorem\n",
    "========"
   ]
  },
  {
   "cell_type": "code",
   "execution_count": 1,
   "metadata": {},
   "outputs": [],
   "source": [
    "import proveit\n",
    "theory = proveit.Theory() # the theorem's theory"
   ]
  },
  {
   "cell_type": "code",
   "execution_count": 2,
   "metadata": {},
   "outputs": [
    {
     "data": {
      "text/html": [
       "Under these <a href=\"presumptions.txt\">presumptions</a>, we begin our proof of<br><strong id=\"add_7_1\">add_7_1:</strong> <a class=\"ProveItLink\" href=\"../../../__pv_it/theorems/50aee7e54f7296037830b29bddaa35ebc1732eaa0/expr.ipynb\"><img src=\"data:image/png;base64,iVBORw0KGgoAAAANSUhEUgAAAGEAAAAUBAMAAABvx07iAAAAMFBMVEX///9UVFTMzMx2dna6uroQ\n",
       "EBCqqqqIiIgiIiJmZmYyMjJERETu7u6YmJjc3NwAAAC+aOQFAAAAAXRSTlMAQObYZgAAAU9JREFU\n",
       "KM9jYOC7wIAd5OEQZzjNwNQ42dgYU4LxAboIT7mlA5Bax8D7////j6hybDFA+QXoOjgZGMQYGHgn\n",
       "MHACDROAiKVDqIOGf4CkObqOXAaGUwwMHA8YmBkYmBVQdDDwgnQcRddhzcBwgoHhBZjtzoBFB5cD\n",
       "mg7/PQy2DAyVYPYGbDqYJ6CHxf/LCQwMe0FM5gvYdPCCvc68CgzAuu1/HWBgaAOxzjNg08HWgGYH\n",
       "25T+EAaGEBCzCixgtWpV66pVC+E6mD6g6bjIwP71AERHN1Y7MHQAI0k/AeKqj1h1sDQg+QMYYTxA\n",
       "ExgvgH3O9JMBt8+RQBwDA/cDBkuQjz6j62AH6eA0QNPhdYDhOgODB5DFF4amg1P011xgDCqg6WCS\n",
       "BKVEDpQUmo7MOYE9sfOiROwZZI45jvyxD1fGwUzt8ByFA3A/wCGBM9fewy4MAAtzWjEsUkeYAAAA\n",
       "AElFTkSuQmCC\n",
       "\" style=\"display:inline;vertical-align:middle;\" /></a><br>(see <a class=\"ProveItLink\" href=\"../../../__pv_it/theorems/8d6ffc96b7179c565d6729fd380a09f7e68357a00/dependencies.ipynb\">dependencies</a>)<br>"
      ],
      "text/plain": [
       "add_7_1: (7 + 1) = 8"
      ]
     },
     "execution_count": 2,
     "metadata": {},
     "output_type": "execute_result"
    }
   ],
   "source": [
    "%proving add_7_1"
   ]
  },
  {
   "cell_type": "code",
   "execution_count": null,
   "metadata": {},
   "outputs": [],
   "source": []
  }
 ],
 "metadata": {
  "kernelspec": {
   "display_name": "Python 3",
   "language": "python",
   "name": "python3"
  }
 },
 "nbformat": 4,
 "nbformat_minor": 0
}