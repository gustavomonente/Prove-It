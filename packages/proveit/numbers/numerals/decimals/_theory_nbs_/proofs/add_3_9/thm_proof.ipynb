{
 "cells": [
  {
   "cell_type": "markdown",
   "metadata": {},
   "source": [
    "Proof of <a class=\"ProveItLink\" href=\"../../../../../../_theory_nbs_/theory.ipynb\">proveit</a>.<a class=\"ProveItLink\" href=\"../../../../../_theory_nbs_/theory.ipynb\">numbers</a>.<a class=\"ProveItLink\" href=\"../../../../_theory_nbs_/theory.ipynb\">numerals</a>.<a class=\"ProveItLink\" href=\"../../theory.ipynb\">decimals</a>.<a class=\"ProveItLink\" href=\"../../theorems.ipynb#add_3_9\">add_3_9</a> theorem\n",
    "========"
   ]
  },
  {
   "cell_type": "code",
   "execution_count": 1,
   "metadata": {},
   "outputs": [],
   "source": [
    "import proveit\n",
    "theory = proveit.Theory() # the theorem's theory"
   ]
  },
  {
   "cell_type": "code",
   "execution_count": 2,
   "metadata": {},
   "outputs": [
    {
     "data": {
      "text/html": [
       "Under these <a href=\"presumptions.txt\">presumptions</a>, we begin our proof of<br><strong id=\"add_3_9\">add_3_9:</strong> <a class=\"ProveItLink\" href=\"../../../__pv_it/theorems/80714af63d3be6d90c96a76238906e029dbd83920/expr.ipynb\"><img src=\"data:image/png;base64,iVBORw0KGgoAAAANSUhEUgAAAGwAAAAUBAMAAACaOcVSAAAAMFBMVEX////MzMxUVFR2dna6uroQ\n",
       "EBCqqqqIiIgiIiJmZmYyMjJERETu7u6YmJjc3NwAAACgK8IjAAAAAXRSTlMAQObYZgAAAYlJREFU\n",
       "OMuVlL9Lw0AUx79E+ysm6dA/oAX3KmRRFzvqZIeOFQeRuuni4KLBonOoU9FBxcWgUkF0UrK2CnYT\n",
       "XAyI4CQWpFNsvbtWucuPim+4l3fhk+/Le+8O0JoItqiDAXYHvOhXns26ngWywUB974Ks59BMrIiS\n",
       "yjxebTT8yJINJYPpHFQTsTaSRm+71HNSHpKJoVUPpIyO2UjYiOQRdzBcQPJAwEg49AEl71N7JowB\n",
       "qYM3Fv4k2cceaoh1gOMgTHYhtbDO1MsQsAhR+wQmgzBicRc3xGkT+yJGMpS/gCf2bDEzOWxuHDss\n",
       "XMsJGK6x2AaWQ9S2gEIvqyJZpixr27KOWKsfUy0gHYwlTIZpDkbaohrpgRuK0XKQJJNuACZngBnu\n",
       "3zK/WNTEOy1JpEZrw2NqEWmnXxKfWgrYoEVWm96+xU6VM+J2fdimDa2sVwyWyGz1UmwA9Cot7aGX\n",
       "qiycNOVut2vQ4eKsJIygEX5uVJOP7vnAN8q83Ya+afxxTP/9QTqQYZeCOuBS+AYhgnildBbNsAAA\n",
       "AABJRU5ErkJggg==\n",
       "\" style=\"display:inline;vertical-align:middle;\" /></a><br>(see <a class=\"ProveItLink\" href=\"../../../__pv_it/theorems/ffdbaa615aa540823e768e762dda316c902a0a060/dependencies.ipynb\">dependencies</a>)<br>"
      ],
      "text/plain": [
       "add_3_9: (3 + 9) = 12"
      ]
     },
     "execution_count": 2,
     "metadata": {},
     "output_type": "execute_result"
    }
   ],
   "source": [
    "%proving add_3_9"
   ]
  },
  {
   "cell_type": "code",
   "execution_count": null,
   "metadata": {},
   "outputs": [],
   "source": []
  }
 ],
 "metadata": {
  "kernelspec": {
   "display_name": "Python 3",
   "language": "python",
   "name": "python3"
  }
 },
 "nbformat": 4,
 "nbformat_minor": 0
}