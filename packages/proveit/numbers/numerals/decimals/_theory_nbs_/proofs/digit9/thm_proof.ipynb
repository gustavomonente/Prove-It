{
 "cells": [
  {
   "cell_type": "markdown",
   "metadata": {},
   "source": [
    "Proof of <a class=\"ProveItLink\" href=\"../../../../../../_theory_nbs_/theory.ipynb\">proveit</a>.<a class=\"ProveItLink\" href=\"../../../../../_theory_nbs_/theory.ipynb\">numbers</a>.<a class=\"ProveItLink\" href=\"../../../../_theory_nbs_/theory.ipynb\">numerals</a>.<a class=\"ProveItLink\" href=\"../../theory.ipynb\">decimals</a>.<a class=\"ProveItLink\" href=\"../../theorems.ipynb#digit9\">digit9</a> theorem\n",
    "========"
   ]
  },
  {
   "cell_type": "code",
   "execution_count": 1,
   "metadata": {},
   "outputs": [],
   "source": [
    "import proveit\n",
    "theory = proveit.Theory() # the theorem's theory"
   ]
  },
  {
   "cell_type": "code",
   "execution_count": 2,
   "metadata": {},
   "outputs": [
    {
     "data": {
      "text/html": [
       "Under these <a href=\"presumptions.txt\">presumptions</a>, we begin our proof of<br><strong id=\"digit9\">digit9:</strong> <a class=\"ProveItLink\" href=\"../../../__pv_it/theorems/0536e57bd4b2a48caa45e1d509c01cc6685801260/expr.ipynb\"><img src=\"data:image/png;base64,iVBORw0KGgoAAAANSUhEUgAAAEgAAAAVBAMAAAAX07VdAAAAMFBMVEX///8iIiLMzMyqqqq6urqI\n",
       "iIhEREQyMjKYmJgQEBDc3NxUVFR2dnZmZmbu7u4AAABTw4smAAAAAXRSTlMAQObYZgAAAVRJREFU\n",
       "KM9jYCAEbM8QUmHGwLGB9QJ+NeYBDJwOXP/wqmlvYGBYv4DhCz414UA1DO8VGD7jUeNoACI5HZh+\n",
       "MDC8PbMLVfL5t/QHDCd/OrxJAfGYEzi+MPDNYFj5AFVVBtMGBr4PDAxvkkE81aBfDNwTGLjR/LhR\n",
       "IZSBYQKQwVrMwMDHwJLAwF/AwPMBLMeRKCgOZmzJ41ZgEAALVTCwBbApMLxPYGD9BRJgSoXZukub\n",
       "rw6iiIH5AUvoKaDrgSaBA+I53GW7mAO0oYqgAGgX+w+wFFxoF8MRjgAURQypDDbg0EpAUsT9YJMA\n",
       "g1kaEECNZ27V+QRy0vRyIIAq4tvAPgEtaLlBMciFbBKDDhO6IvYNIHICsiIOgwRkFRzzGPQXgBhX\n",
       "4UKbgPgUiiLWOr4KMIPRACYEDGcG3gIUy87cdQDTfNv8IAKKP4Gm8BVgTxosx6DRggEA5gNVcXJi\n",
       "e54AAAAASUVORK5CYII=\n",
       "\" style=\"display:inline;vertical-align:middle;\" /></a><br>(see <a class=\"ProveItLink\" href=\"../../../__pv_it/theorems/bf4599d88beedfe01356e14e27a6149d44377ae90/dependencies.ipynb\">dependencies</a>)<br>"
      ],
      "text/plain": [
       "digit9: 9 in Digits"
      ]
     },
     "execution_count": 2,
     "metadata": {},
     "output_type": "execute_result"
    }
   ],
   "source": [
    "%proving digit9"
   ]
  },
  {
   "cell_type": "code",
   "execution_count": null,
   "metadata": {},
   "outputs": [],
   "source": []
  }
 ],
 "metadata": {
  "kernelspec": {
   "display_name": "Python 3",
   "language": "python",
   "name": "python3"
  }
 },
 "nbformat": 4,
 "nbformat_minor": 0
}