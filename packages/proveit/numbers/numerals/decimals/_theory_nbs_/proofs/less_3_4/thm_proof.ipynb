{
 "cells": [
  {
   "cell_type": "markdown",
   "metadata": {},
   "source": [
    "Proof of <a class=\"ProveItLink\" href=\"../../../../../../_theory_nbs_/theory.ipynb\">proveit</a>.<a class=\"ProveItLink\" href=\"../../../../../_theory_nbs_/theory.ipynb\">numbers</a>.<a class=\"ProveItLink\" href=\"../../../../_theory_nbs_/theory.ipynb\">numerals</a>.<a class=\"ProveItLink\" href=\"../../theory.ipynb\">decimals</a>.<a class=\"ProveItLink\" href=\"../../theorems.ipynb#less_3_4\">less_3_4</a> theorem\n",
    "========"
   ]
  },
  {
   "cell_type": "code",
   "execution_count": 1,
   "metadata": {},
   "outputs": [],
   "source": [
    "import proveit\n",
    "theory = proveit.Theory() # the theorem's theory"
   ]
  },
  {
   "cell_type": "code",
   "execution_count": 2,
   "metadata": {},
   "outputs": [
    {
     "data": {
      "text/html": [
       "Under these <a href=\"presumptions.txt\">presumptions</a>, we begin our proof of<br><strong id=\"less_3_4\">less_3_4:</strong> <a class=\"ProveItLink\" href=\"../../../__pv_it/theorems/c390bccfb7d654bb90dcd70031cb6a6eefc903e10/expr.ipynb\"><img src=\"data:image/png;base64,iVBORw0KGgoAAAANSUhEUgAAADEAAAAPBAMAAAC/wjryAAAAMFBMVEX///9UVFTMzMzu7u4yMjIQ\n",
       "EBC6uroiIiKIiIiYmJhmZmaqqqpERER2dnbc3NwAAACDMjhQAAAAAXRSTlMAQObYZgAAALZJREFU\n",
       "GNNjYHh79zQDBmBawMDAt4Bh/wQMGXYBBgaO3wz8BXARbicI3QqUYQtj4HeASXBWPQDTfFMEwDTc\n",
       "NI5aAwiDlwUsw1wLlbCtgOmdB5bhu74YwrWqhEkwN0D0MLQmgEhGb7g7eBmgMqzBINIQIbMJLMP3\n",
       "gIHnN5j/CmYa8wWwDP9nmAzcBdxSq9ZHNTCwHmBg/4zuagZWoB7OCUihA/MpSD0DQ9aqYwzoocN7\n",
       "/iNmWMIBABxeKKwGMDOtAAAAAElFTkSuQmCC\n",
       "\" style=\"display:inline;vertical-align:middle;\" /></a><br>(see <a class=\"ProveItLink\" href=\"../../../__pv_it/theorems/73aba2c3c0cac5f89ccf065f0eff9e906673e5c90/dependencies.ipynb\">dependencies</a>)<br>"
      ],
      "text/plain": [
       "less_3_4: 3 < 4"
      ]
     },
     "execution_count": 2,
     "metadata": {},
     "output_type": "execute_result"
    }
   ],
   "source": [
    "%proving less_3_4"
   ]
  },
  {
   "cell_type": "code",
   "execution_count": null,
   "metadata": {},
   "outputs": [],
   "source": []
  }
 ],
 "metadata": {
  "kernelspec": {
   "display_name": "Python 3",
   "language": "python",
   "name": "python3"
  }
 },
 "nbformat": 4,
 "nbformat_minor": 0
}