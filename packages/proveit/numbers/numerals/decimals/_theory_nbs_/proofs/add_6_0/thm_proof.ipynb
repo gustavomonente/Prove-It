{
 "cells": [
  {
   "cell_type": "markdown",
   "metadata": {},
   "source": [
    "Proof of <a class=\"ProveItLink\" href=\"../../../../../../_theory_nbs_/theory.ipynb\">proveit</a>.<a class=\"ProveItLink\" href=\"../../../../../_theory_nbs_/theory.ipynb\">numbers</a>.<a class=\"ProveItLink\" href=\"../../../../_theory_nbs_/theory.ipynb\">numerals</a>.<a class=\"ProveItLink\" href=\"../../theory.ipynb\">decimals</a>.<a class=\"ProveItLink\" href=\"../../theorems.ipynb#add_6_0\">add_6_0</a> theorem\n",
    "========"
   ]
  },
  {
   "cell_type": "code",
   "execution_count": 1,
   "metadata": {},
   "outputs": [],
   "source": [
    "import proveit\n",
    "theory = proveit.Theory() # the theorem's theory"
   ]
  },
  {
   "cell_type": "code",
   "execution_count": 2,
   "metadata": {},
   "outputs": [
    {
     "data": {
      "text/html": [
       "Under these <a href=\"presumptions.txt\">presumptions</a>, we begin our proof of<br><strong id=\"add_6_0\">add_6_0:</strong> <a class=\"ProveItLink\" href=\"../../../__pv_it/theorems/6f6f35393e83085a6a23628290952c07834cd9180/expr.ipynb\"><img src=\"data:image/png;base64,iVBORw0KGgoAAAANSUhEUgAAAGEAAAAUBAMAAABvx07iAAAAMFBMVEX///9UVFTMzMx2dna6uroQ\n",
       "EBCqqqqIiIgiIiJmZmYyMjJERETu7u6YmJjc3NwAAAC+aOQFAAAAAXRSTlMAQObYZgAAAXxJREFU\n",
       "KM91k79Lw0AUx79tijTtpYriHvAPaHQJ7ZTRzSLi5JCtm604SLcsOjhIQLs4VXEKKDo4iChZCqJC\n",
       "C+JqOzpWdNDir5er1Nw1eSSXy7t88n4DuTaiZTVGjzu6zXVdVJoPOhLdkW+VjTlaT4BbS20IJxmb\n",
       "7YA1ZIAdYR/QXOAC2dOBrjx4PAJFMiQTWReXQLqL1PdQ90ecARUfTZlY4H4+E1qSiRc6tZGxJOKc\n",
       "rzVg/NDcEwj2QUQViisR/Zka/eQKaB0jbYeJ3CuQr0LjoSseF6JZv40tBFerB3VFIMhG3sCYI6Xq\n",
       "B6j7WCKvHGhvpCl63qbnHQy9SvYkr96BjhUQ6Qa0Lznyij1KbBPBHUuUBjb+Ccp6x0fKCcUxQdtp\n",
       "boMiT35CLUVUUJOLnvdRBwq0m0JTyBWlji0CqiERCYMtA/OB4d1JsYLMXKPWzOhy0QuzOu+SkJTD\n",
       "LzfRza4Jhb0XWj5mPq7jBme020MTFSnZbsxB7NQ+Rat/AVMbZaTFe4t4AAAAAElFTkSuQmCC\n",
       "\" style=\"display:inline;vertical-align:middle;\" /></a><br>(see <a class=\"ProveItLink\" href=\"../../../__pv_it/theorems/7f920ecd6a81301f43e6a86131cae916b1d26d300/dependencies.ipynb\">dependencies</a>)<br>"
      ],
      "text/plain": [
       "add_6_0: (6 + 0) = 6"
      ]
     },
     "execution_count": 2,
     "metadata": {},
     "output_type": "execute_result"
    }
   ],
   "source": [
    "%proving add_6_0"
   ]
  },
  {
   "cell_type": "code",
   "execution_count": null,
   "metadata": {},
   "outputs": [],
   "source": []
  }
 ],
 "metadata": {
  "kernelspec": {
   "display_name": "Python 3",
   "language": "python",
   "name": "python3"
  }
 },
 "nbformat": 4,
 "nbformat_minor": 0
}