{
 "cells": [
  {
   "cell_type": "markdown",
   "metadata": {},
   "source": [
    "Proof of <a class=\"ProveItLink\" href=\"../../../../../../_theory_nbs_/theory.ipynb\">proveit</a>.<a class=\"ProveItLink\" href=\"../../../../../_theory_nbs_/theory.ipynb\">numbers</a>.<a class=\"ProveItLink\" href=\"../../../../_theory_nbs_/theory.ipynb\">numerals</a>.<a class=\"ProveItLink\" href=\"../../theory.ipynb\">decimals</a>.<a class=\"ProveItLink\" href=\"../../theorems.ipynb#digits_lower_bound\">digits_lower_bound</a> theorem\n",
    "========"
   ]
  },
  {
   "cell_type": "code",
   "execution_count": 1,
   "metadata": {},
   "outputs": [],
   "source": [
    "import proveit\n",
    "theory = proveit.Theory() # the theorem's theory"
   ]
  },
  {
   "cell_type": "code",
   "execution_count": 2,
   "metadata": {},
   "outputs": [
    {
     "data": {
      "text/html": [
       "Under these <a href=\"presumptions.txt\">presumptions</a>, we begin our proof of<br><strong id=\"digits_lower_bound\">digits_lower_bound:</strong> <a class=\"ProveItLink\" href=\"../../../__pv_it/theorems/9996d557ce299f9ab114589fc76185bcbc009aa10/expr.ipynb\"><img src=\"data:image/png;base64,iVBORw0KGgoAAAANSUhEUgAAAIsAAAAUBAMAAABPB9NaAAAAMFBMVEX///8QEBCIiIhmZma6urrM\n",
       "zMxUVFQiIiJERETc3Nzu7u6qqqp2dnaYmJgyMjIAAAAcRTyBAAAAAXRSTlMAQObYZgAAAkNJREFU\n",
       "OMuVVE1oE0EYfU12k+50N7nY+0qg9eChN1Fa2OLBi9hYQTwUGkQPPSiCihalFBHZIsJSoZaiOHpp\n",
       "qX8LsqCH2iVRhBrKCoJIK+aqXgJqqeDBb5LuZJsYtg582W++mX1539s3A+xsaEH7tZcUFZF8joVZ\n",
       "aFMvrueRcoB3YvItFuZrJJ8/INOMy8bBiMqsYDwZh2L0RWevxsLsPbBKlAiPA7obB5N2tk2PnN5K\n",
       "bgDLHA/of1YWF+/E9tS848T1+nMDGHKRsYBN274aC5OjODw2nTPDwsx38ct+EIwJnVomflP/epPl\n",
       "WVFqeYvCt032Wy7fHhei/gFGTRik8cGa0q1GKTkZZzacXQFUdwLaL7n+UYiuEZtRH13nSD0kotZS\n",
       "z7/G7gLUfo5nyIbVXcSO/YRRDQu9K5GmVCrrQVpiPCoN4IXOk1w5QzOCcRow6KoitcWbvTWlxMtu\n",
       "DUarHJfuuDnHsWT26VgQ25L5Id5oCskKskGtoO0L+dvAFw6FmsLUKQIYGM4JmWh43rQOHBOk145G\n",
       "Je7wySO+QDnrbrefkBjPCcsYDDqc+vny9Ccj9Li7Hwm+FG4vUdy3sGrkxfmyGrZ0WTfxFOBZamCu\n",
       "F1nOao734IuX8NBNFKX2h+oxs9bsimIPAWcEuCH6PYlBqJdt+xrB3EvHHYamMS+zbvSrKNTZKMN4\n",
       "XC6XrbZHs+W2kGar4oKHNyL9AKy37owa/eklMS42OpP2VQrYG6CTvoAyYSG182tLjM7mjveQNv9/\n",
       "iX4C/gKMyZsxPlG0AQAAAABJRU5ErkJggg==\n",
       "\" style=\"display:inline;vertical-align:middle;\" /></a><br>(see <a class=\"ProveItLink\" href=\"../../../__pv_it/theorems/c4a7a834c2e867413c57e3ba5036a9f3368a827a0/dependencies.ipynb\">dependencies</a>)<br>"
      ],
      "text/plain": [
       "digits_lower_bound: forall_{n in Digits} (n >= 0)"
      ]
     },
     "execution_count": 2,
     "metadata": {},
     "output_type": "execute_result"
    }
   ],
   "source": [
    "%proving digits_lower_bound"
   ]
  },
  {
   "cell_type": "code",
   "execution_count": null,
   "metadata": {},
   "outputs": [],
   "source": []
  }
 ],
 "metadata": {
  "kernelspec": {
   "display_name": "Python 3",
   "language": "python",
   "name": "python3"
  }
 },
 "nbformat": 4,
 "nbformat_minor": 0
}