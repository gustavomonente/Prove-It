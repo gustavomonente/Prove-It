{
 "cells": [
  {
   "cell_type": "markdown",
   "metadata": {},
   "source": [
    "Proof of <a class=\"ProveItLink\" href=\"../../../../../../_theory_nbs_/theory.ipynb\">proveit</a>.<a class=\"ProveItLink\" href=\"../../../../../_theory_nbs_/theory.ipynb\">numbers</a>.<a class=\"ProveItLink\" href=\"../../../../_theory_nbs_/theory.ipynb\">numerals</a>.<a class=\"ProveItLink\" href=\"../../theory.ipynb\">decimals</a>.<a class=\"ProveItLink\" href=\"../../theorems.ipynb#add_9_2\">add_9_2</a> theorem\n",
    "========"
   ]
  },
  {
   "cell_type": "code",
   "execution_count": 1,
   "metadata": {},
   "outputs": [],
   "source": [
    "import proveit\n",
    "theory = proveit.Theory() # the theorem's theory"
   ]
  },
  {
   "cell_type": "code",
   "execution_count": 2,
   "metadata": {},
   "outputs": [
    {
     "data": {
      "text/html": [
       "Under these <a href=\"presumptions.txt\">presumptions</a>, we begin our proof of<br><strong id=\"add_9_2\">add_9_2:</strong> <a class=\"ProveItLink\" href=\"../../../__pv_it/theorems/443a515c39e52908535dd7941b6f085339491fae0/expr.ipynb\"><img src=\"data:image/png;base64,iVBORw0KGgoAAAANSUhEUgAAAGsAAAAUBAMAAAB45d4rAAAAMFBMVEX////MzMxUVFR2dna6uroQ\n",
       "EBCqqqqIiIgiIiJmZmYyMjJERETu7u6YmJjc3NwAAACgK8IjAAAAAXRSTlMAQObYZgAAAVpJREFU\n",
       "OMuVlLFLw0AUxj8S2saQ1KF/QAPuVcikix3dzOCoOIjU0bWLBsXOoU7iouJiUNHJyXJrq2A3wcUs\n",
       "gpMoiFNsvPMy5C69iA/yLnfJ77277+4dUB1ivJUjFNgd0Hcb0mD/8BpoFGGXsFbwQoQxy8F8E4P8\n",
       "z+skdXYAzYMW8OEWbyYISh70TQmypqYJdzAiTB5Bfxewkg9tBMvLZXsmqXsFHq5QGQmYGUP7AE7V\n",
       "WJvGptk+BYyaEQOzauwWbIbmt4wtzgBP7EUPfy0QsQ5tb7D2JWM79NlQZ1tiG/tYoyvBXBjuheEJ\n",
       "15JFrxdjgBZL2dooxjpcOkfEygHegIXM2pycJPYy6pGI1YCtVJLx2ajIlXPrAgJW3XW7PrCfw7ZJ\n",
       "6thE3IOmiJlJklDsWKa6q2dD7gyhPFrCEfTVBWAH2d59tpM7ylnrKb8M/ijTfwdkqqkuBbvgUvgB\n",
       "D4N5wDWGnvYAAAAASUVORK5CYII=\n",
       "\" style=\"display:inline;vertical-align:middle;\" /></a><br>(see <a class=\"ProveItLink\" href=\"../../../__pv_it/theorems/35ad3ae0b6e7c302d22763264e33078469fc0d7e0/dependencies.ipynb\">dependencies</a>)<br>"
      ],
      "text/plain": [
       "add_9_2: (9 + 2) = 11"
      ]
     },
     "execution_count": 2,
     "metadata": {},
     "output_type": "execute_result"
    }
   ],
   "source": [
    "%proving add_9_2"
   ]
  },
  {
   "cell_type": "code",
   "execution_count": null,
   "metadata": {},
   "outputs": [],
   "source": []
  }
 ],
 "metadata": {
  "kernelspec": {
   "display_name": "Python 3",
   "language": "python",
   "name": "python3"
  }
 },
 "nbformat": 4,
 "nbformat_minor": 0
}