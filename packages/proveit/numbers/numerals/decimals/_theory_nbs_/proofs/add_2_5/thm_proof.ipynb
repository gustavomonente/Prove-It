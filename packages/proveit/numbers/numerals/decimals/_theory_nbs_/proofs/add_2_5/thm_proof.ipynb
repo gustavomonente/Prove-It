{
 "cells": [
  {
   "cell_type": "markdown",
   "metadata": {},
   "source": [
    "Proof of <a class=\"ProveItLink\" href=\"../../../../../../_theory_nbs_/theory.ipynb\">proveit</a>.<a class=\"ProveItLink\" href=\"../../../../../_theory_nbs_/theory.ipynb\">numbers</a>.<a class=\"ProveItLink\" href=\"../../../../_theory_nbs_/theory.ipynb\">numerals</a>.<a class=\"ProveItLink\" href=\"../../theory.ipynb\">decimals</a>.<a class=\"ProveItLink\" href=\"../../theorems.ipynb#add_2_5\">add_2_5</a> theorem\n",
    "========"
   ]
  },
  {
   "cell_type": "code",
   "execution_count": 1,
   "metadata": {},
   "outputs": [],
   "source": [
    "import proveit\n",
    "theory = proveit.Theory() # the theorem's theory"
   ]
  },
  {
   "cell_type": "code",
   "execution_count": 2,
   "metadata": {},
   "outputs": [
    {
     "data": {
      "text/html": [
       "Under these <a href=\"presumptions.txt\">presumptions</a>, we begin our proof of<br><strong id=\"add_2_5\">add_2_5:</strong> <a class=\"ProveItLink\" href=\"../../../__pv_it/theorems/da455d44016a3cb4e392678a1a78568ab2c3de420/expr.ipynb\"><img src=\"data:image/png;base64,iVBORw0KGgoAAAANSUhEUgAAAGIAAAAUBAMAAACE8PXhAAAAMFBMVEX///9UVFTMzMx2dna6uroQ\n",
       "EBCqqqqIiIgiIiJmZmYyMjJERETu7u6YmJjc3NwAAAC+aOQFAAAAAXRSTlMAQObYZgAAAWpJREFU\n",
       "KM91k79Lw1AQx79pm5o2P8xap4KLm9EMRUHs6KaDk4O4dVPXLCUiOjhVBBdB65pBipOLkkVQdPAP\n",
       "8EcWQRcp4liMl5cW816Sg/e4d+993t1xd4DxhGzZzLHjAbg/ueRt1efCMaRAfDpVs20LuIBmYrHJ\n",
       "XclhaEHrisRbGIYm9A4qPuSV2NYa+php094QiVNAApQAsgvplyMktt+KBEU0C3zQjwNI3xlEtZlK\n",
       "urQNOExTBjzx4tSBYidFqLSumbZscYTqGz+AzlIvekxieoHWPtN2wBEkV0DZFV1ofdpWI63Cfpj3\n",
       "vD3PO48vzwIU+iIx1h0RDngfE4gqlCaU3jCqcgdfHLFGPnyU3EQeZqSPm8PMJ4E2R1CQB6PMkzId\n",
       "RT8HGLv2ocsRn9DXKTtLJLYiyxJVitqFJ4yjmk/2uki8b4B1SUJaycNddrPrXGEfk4dGznzc5A1O\n",
       "utv/Jypb1CDnIndqX7PNf37YWLN1EuqpAAAAAElFTkSuQmCC\n",
       "\" style=\"display:inline;vertical-align:middle;\" /></a><br>(see <a class=\"ProveItLink\" href=\"../../../__pv_it/theorems/96a8dc4cbecbeb75122276e6805d4fc59649c7260/dependencies.ipynb\">dependencies</a>)<br>"
      ],
      "text/plain": [
       "add_2_5: (2 + 5) = 7"
      ]
     },
     "execution_count": 2,
     "metadata": {},
     "output_type": "execute_result"
    }
   ],
   "source": [
    "%proving add_2_5"
   ]
  },
  {
   "cell_type": "code",
   "execution_count": null,
   "metadata": {},
   "outputs": [],
   "source": []
  }
 ],
 "metadata": {
  "kernelspec": {
   "display_name": "Python 3",
   "language": "python",
   "name": "python3"
  }
 },
 "nbformat": 4,
 "nbformat_minor": 0
}