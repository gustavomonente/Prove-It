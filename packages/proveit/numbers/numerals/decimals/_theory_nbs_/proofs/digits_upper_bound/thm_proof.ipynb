{
 "cells": [
  {
   "cell_type": "markdown",
   "metadata": {},
   "source": [
    "Proof of <a class=\"ProveItLink\" href=\"../../../../../../_theory_nbs_/theory.ipynb\">proveit</a>.<a class=\"ProveItLink\" href=\"../../../../../_theory_nbs_/theory.ipynb\">numbers</a>.<a class=\"ProveItLink\" href=\"../../../../_theory_nbs_/theory.ipynb\">numerals</a>.<a class=\"ProveItLink\" href=\"../../theory.ipynb\">decimals</a>.<a class=\"ProveItLink\" href=\"../../theorems.ipynb#digits_upper_bound\">digits_upper_bound</a> theorem\n",
    "========"
   ]
  },
  {
   "cell_type": "code",
   "execution_count": 1,
   "metadata": {},
   "outputs": [],
   "source": [
    "import proveit\n",
    "theory = proveit.Theory() # the theorem's theory"
   ]
  },
  {
   "cell_type": "code",
   "execution_count": 2,
   "metadata": {},
   "outputs": [
    {
     "data": {
      "text/html": [
       "Under these <a href=\"presumptions.txt\">presumptions</a>, we begin our proof of<br><strong id=\"digits_upper_bound\">digits_upper_bound:</strong> <a class=\"ProveItLink\" href=\"../../../__pv_it/theorems/dc75143a223c3fef7fb9f1668cebc007e1d6d70b0/expr.ipynb\"><img src=\"data:image/png;base64,iVBORw0KGgoAAAANSUhEUgAAAIsAAAAUBAMAAABPB9NaAAAAMFBMVEX///8QEBCIiIhmZma6urrM\n",
       "zMxUVFQiIiJERETc3Nzu7u6qqqp2dnaYmJgyMjIAAAAcRTyBAAAAAXRSTlMAQObYZgAAAk9JREFU\n",
       "OMuVVE1oE0EU/prsJtnNbnLRiweJBNGDaA9elBS2ePAiGCuIBw/xpwcPorQWC9YigrBFhKVCLUVx\n",
       "9GKptQZkQQ/BkKiHGswKXqQKgUpBPZiDQr2Ib3azk2Rb3TrwZua9nf32fd97s8DGhuL8/dlzsgbf\n",
       "fAqFmV0/rOZeW4hZwBvufQ2F+RIMREb4fN9RtkClVKZ5xlfDUPTeQGB+yF1OAqeBCpBigFYMg4lb\n",
       "3f6tK976G6hTTvSdxbm526GcAiemvrWkWQX2WEgZwKppjoXCZMkOnZ3MZlzv+Gc/vpWyMaAR5UFg\n",
       "Yt0i5NXKft+5SVY2M+ov7iSui0PE6LsDnTQ+4Cq9tlGqVsqa9r3LgFwch/LTLdIQ8+OJTLJeRPIC\n",
       "qYdIZ2vJwy+xrQA5x/AEaT+6ibJTf0BvenUbEzil7fU8ZAprTlxgPKr24ZnGokw6Rx7BWG0YJJuI\n",
       "tfJOLrcrd565MErjmOiOGzMMpUyvhlmuZTR/mLVJIdpA2mkFpJW8/9IKeUQKE2cIoG8gy2WiYduT\n",
       "GnB0kbZLRzol7injBSv73E2DL++YTKpzifGUsPR+p8fy7petPT5By519iLCSD1Mlu2fgrS6SUAb5\n",
       "vJstkLBRDp4mAjM7kGaq2/E2yvwlPChGKkL7g55NLQXqqVX30pzi4Drnewr9kEdN8xrB3I2HXobu\n",
       "8VDsNiMno+BlIw1gvlarGf+6ml2jIpg2cdHGK759D3xce7Kz0Rcu8THS7nfRvlIBuxwk6KZL4wZi\n",
       "G/5tea0cZLyTtPn/n+gH4A+EdZqFj66KuAAAAABJRU5ErkJggg==\n",
       "\" style=\"display:inline;vertical-align:middle;\" /></a><br>(see <a class=\"ProveItLink\" href=\"../../../__pv_it/theorems/8b5877101248e8323dcb09c12f8e65d1a764fe040/dependencies.ipynb\">dependencies</a>)<br>"
      ],
      "text/plain": [
       "digits_upper_bound: forall_{n in Digits} (n <= 9)"
      ]
     },
     "execution_count": 2,
     "metadata": {},
     "output_type": "execute_result"
    }
   ],
   "source": [
    "%proving digits_upper_bound"
   ]
  },
  {
   "cell_type": "code",
   "execution_count": null,
   "metadata": {},
   "outputs": [],
   "source": []
  }
 ],
 "metadata": {
  "kernelspec": {
   "display_name": "Python 3",
   "language": "python",
   "name": "python3"
  }
 },
 "nbformat": 4,
 "nbformat_minor": 0
}