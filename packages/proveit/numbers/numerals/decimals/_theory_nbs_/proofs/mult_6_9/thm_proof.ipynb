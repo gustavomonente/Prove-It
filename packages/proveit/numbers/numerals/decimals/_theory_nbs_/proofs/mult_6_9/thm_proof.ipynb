{
 "cells": [
  {
   "cell_type": "markdown",
   "metadata": {},
   "source": [
    "Proof of <a class=\"ProveItLink\" href=\"../../../../../../_theory_nbs_/theory.ipynb\">proveit</a>.<a class=\"ProveItLink\" href=\"../../../../../_theory_nbs_/theory.ipynb\">numbers</a>.<a class=\"ProveItLink\" href=\"../../../../_theory_nbs_/theory.ipynb\">numerals</a>.<a class=\"ProveItLink\" href=\"../../theory.ipynb\">decimals</a>.<a class=\"ProveItLink\" href=\"../../theorems.ipynb#mult_6_9\">mult_6_9</a> theorem\n",
    "========"
   ]
  },
  {
   "cell_type": "code",
   "execution_count": 1,
   "metadata": {},
   "outputs": [],
   "source": [
    "import proveit\n",
    "theory = proveit.Theory() # the theorem's theory"
   ]
  },
  {
   "cell_type": "code",
   "execution_count": 2,
   "metadata": {},
   "outputs": [
    {
     "data": {
      "text/html": [
       "Under these <a href=\"presumptions.txt\">presumptions</a>, we begin our proof of<br><strong id=\"mult_6_9\">mult_6_9:</strong> <a class=\"ProveItLink\" href=\"../../../__pv_it/theorems/5d14a1cc617b14f127e58488fb1859bf500e6e780/expr.ipynb\"><img src=\"data:image/png;base64,iVBORw0KGgoAAAANSUhEUgAAAGEAAAAUBAMAAABvx07iAAAAMFBMVEX///9UVFTMzMx2dna6uroQ\n",
       "EBCqqqqIiIgiIiJmZmYyMjJERETu7u6YmJjc3NwAAAC+aOQFAAAAAXRSTlMAQObYZgAAAZlJREFU\n",
       "KM99k79PwkAUx7+0aPpbo3HARf4EmAguMDo4MLhoiCHuGqJxwEGZHJxIMCZOgJsm/hh1ULtgDA50\n",
       "cTFKOuqGCZO/8F2lxVybvqR37X3v0/fuvXeAYcFnawizB3pSG3H3U6smbURsfpfyLBzQJFRoOANa\n",
       "WbnuSk3LyEOr88RIv5+gSRoHdKKuoF640hQQI6c+H8ltNm0SIdmI/vyTPoAMeeKJiDMaT0S8Ampu\n",
       "qGifwI4NJRtIiAoRJWDsKLXvSUvkIwuxwhMvJUpOhxHXQPsUUsGVKKRzC7pz9NkTZsfsVTWNHrQi\n",
       "I3aJ6ELOs4gcqTiaKWC07C/DJUQwYoGiKkPv0VLb+fHqeiYOoesnavaKS0h16N+DZDObMf3ENMU7\n",
       "n8Agqkjuz4drDSBaHp6jMUhI7S52WFssspMLX5C9BD+aApVH54tOudtjpScfaZon0fRytWW2qDXl\n",
       "BEe8QV9mBPXGHCtMdcKTxDSrjRLnCKMaM0m8fbdYlwTYfUiz65Wg1VTY/bgJWPN3O3+jeFPtMCLo\n",
       "1nZC9v8CZo9j1yLFe9cAAAAASUVORK5CYII=\n",
       "\" style=\"display:inline;vertical-align:middle;\" /></a><br>(see <a class=\"ProveItLink\" href=\"../../../__pv_it/theorems/39d1b1890d4ced69fae28e173d0af02256f8de8a0/dependencies.ipynb\">dependencies</a>)<br>"
      ],
      "text/plain": [
       "mult_6_9: (6 * 9) = 54"
      ]
     },
     "execution_count": 2,
     "metadata": {},
     "output_type": "execute_result"
    }
   ],
   "source": [
    "%proving mult_6_9"
   ]
  },
  {
   "cell_type": "code",
   "execution_count": null,
   "metadata": {},
   "outputs": [],
   "source": []
  }
 ],
 "metadata": {
  "kernelspec": {
   "display_name": "Python 3",
   "language": "python",
   "name": "python3"
  }
 },
 "nbformat": 4,
 "nbformat_minor": 0
}