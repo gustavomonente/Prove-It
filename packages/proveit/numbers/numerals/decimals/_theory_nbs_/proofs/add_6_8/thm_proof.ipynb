{
 "cells": [
  {
   "cell_type": "markdown",
   "metadata": {},
   "source": [
    "Proof of <a class=\"ProveItLink\" href=\"../../../../../../_theory_nbs_/theory.ipynb\">proveit</a>.<a class=\"ProveItLink\" href=\"../../../../../_theory_nbs_/theory.ipynb\">numbers</a>.<a class=\"ProveItLink\" href=\"../../../../_theory_nbs_/theory.ipynb\">numerals</a>.<a class=\"ProveItLink\" href=\"../../theory.ipynb\">decimals</a>.<a class=\"ProveItLink\" href=\"../../theorems.ipynb#add_6_8\">add_6_8</a> theorem\n",
    "========"
   ]
  },
  {
   "cell_type": "code",
   "execution_count": 1,
   "metadata": {},
   "outputs": [],
   "source": [
    "import proveit\n",
    "theory = proveit.Theory() # the theorem's theory"
   ]
  },
  {
   "cell_type": "code",
   "execution_count": 2,
   "metadata": {},
   "outputs": [
    {
     "data": {
      "text/html": [
       "Under these <a href=\"presumptions.txt\">presumptions</a>, we begin our proof of<br><strong id=\"add_6_8\">add_6_8:</strong> <a class=\"ProveItLink\" href=\"../../../__pv_it/theorems/84260cd7f62e8fbb5acd48a8373e2a17083da31e0/expr.ipynb\"><img src=\"data:image/png;base64,iVBORw0KGgoAAAANSUhEUgAAAGwAAAAUBAMAAACaOcVSAAAAMFBMVEX///9UVFTMzMx2dna6uroQ\n",
       "EBCqqqqIiIgiIiJmZmYyMjJERETu7u6YmJjc3NwAAAC+aOQFAAAAAXRSTlMAQObYZgAAAYVJREFU\n",
       "OMuVlD1MwlAQx//QihD6lMiM4Ogkk0RdGBlL4qaJOBh0M2FyAgedayAxbEhcbNCwOkhIjCFBE5hd\n",
       "ZHQxcRAXRbzSin39wHjJXfru5ffuenfvATNdOIuvhwlyT5rIxXhnK1cC5t2QRdIroJ0MVPgNBZ4M\n",
       "2nZgp6nZQ4ApwDWCdd2dNfLrQqpA2LdAUjiqYdNpwN+D+DXeMDChDqkASbZFe9KwlzPgGQjKVkz8\n",
       "aApUqXNnLE7YATBbTZR4DNHBMtkVR4z1CLsBOpfwZ3hMGNbIPo4+1ZEoY6wFwo4Je0Vgk8f2Uv0k\n",
       "sOsYLa5h65RkAeyNfKuqeqSq5AMLIU8HLTlhvpiB+StgAy7aVBPedxfsFkaSHlmP9ot1SCNAyvRv\n",
       "oR9su1zun2ol8X4iIPPRaBwbRknsDUBaL3IYd3wlxRoYjUjRhuVH2IaeiFCcs/Rtoah1smqlTrYu\n",
       "aArWhhFtuEyS5Uaw4H5vmGJePZgXtlE2S8N1p/3XNf3vgSSujwKb8Ch8A/g/dCmwcEtWAAAAAElF\n",
       "TkSuQmCC\n",
       "\" style=\"display:inline;vertical-align:middle;\" /></a><br>(see <a class=\"ProveItLink\" href=\"../../../__pv_it/theorems/eb088f38914e916f6f6b8b05f26c26736fe889ad0/dependencies.ipynb\">dependencies</a>)<br>"
      ],
      "text/plain": [
       "add_6_8: (6 + 8) = 14"
      ]
     },
     "execution_count": 2,
     "metadata": {},
     "output_type": "execute_result"
    }
   ],
   "source": [
    "%proving add_6_8"
   ]
  },
  {
   "cell_type": "code",
   "execution_count": null,
   "metadata": {},
   "outputs": [],
   "source": []
  }
 ],
 "metadata": {
  "kernelspec": {
   "display_name": "Python 3",
   "language": "python",
   "name": "python3"
  }
 },
 "nbformat": 4,
 "nbformat_minor": 0
}