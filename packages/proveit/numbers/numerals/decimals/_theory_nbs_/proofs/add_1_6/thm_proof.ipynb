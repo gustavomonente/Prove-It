{
 "cells": [
  {
   "cell_type": "markdown",
   "metadata": {},
   "source": [
    "Proof of <a class=\"ProveItLink\" href=\"../../../../../../_theory_nbs_/theory.ipynb\">proveit</a>.<a class=\"ProveItLink\" href=\"../../../../../_theory_nbs_/theory.ipynb\">numbers</a>.<a class=\"ProveItLink\" href=\"../../../../_theory_nbs_/theory.ipynb\">numerals</a>.<a class=\"ProveItLink\" href=\"../../theory.ipynb\">decimals</a>.<a class=\"ProveItLink\" href=\"../../theorems.ipynb#add_1_6\">add_1_6</a> theorem\n",
    "========"
   ]
  },
  {
   "cell_type": "code",
   "execution_count": 1,
   "metadata": {},
   "outputs": [],
   "source": [
    "import proveit\n",
    "theory = proveit.Theory() # the theorem's theory"
   ]
  },
  {
   "cell_type": "code",
   "execution_count": 2,
   "metadata": {},
   "outputs": [
    {
     "data": {
      "text/html": [
       "Under these <a href=\"presumptions.txt\">presumptions</a>, we begin our proof of<br><strong id=\"add_1_6\">add_1_6:</strong> <a class=\"ProveItLink\" href=\"../../../__pv_it/theorems/b48c31ee0cee23881122b979937d95e694336e6d0/expr.ipynb\"><img src=\"data:image/png;base64,iVBORw0KGgoAAAANSUhEUgAAAGIAAAAUBAMAAACE8PXhAAAAMFBMVEX////MzMxUVFR2dna6uroQ\n",
       "EBCqqqqIiIgiIiJmZmYyMjJERETu7u6YmJjc3NwAAACgK8IjAAAAAXRSTlMAQObYZgAAAURJREFU\n",
       "KM9jYOC7wIAd5OEQZziNTZC53JCB6QG6qISmsbEBA8M6IDP1AKoUzxKGWQw8C9B13P///78CA+8E\n",
       "Bh5lfZiOdAjFPYFhNwODObqOeQwMTAwMHCC776Pp8Ac76Ci6DqCLDBkYXjBg0bEVTHI5YPiPpYCB\n",
       "oRKbjl/ClUDVzBMwdHAD8V4sOnh+XWBoY2DgBXudeRUYQHTbAnEbNh3/GRimHmBga0C3gucDkAhB\n",
       "6LBatap11apFQNYPoJADA+MHdB3sC1B1IPzRBRS6gEUHxwYcrmJQBdvB0oDkDwUQm18Bh88Z5A8w\n",
       "TIX5HBnIg/xvCWLVo+lgMuAJY2DgNEDXkQ8S8QDiSfErL6DoYLA0EgDGoAC6jqcJDNBUAgfpyJwT\n",
       "2BM7L0rEnkHmmOPIH/twZRzM1I4vR4HT0AMcEjhz7T3swgC1uF8KR28WjQAAAABJRU5ErkJggg==\n",
       "\" style=\"display:inline;vertical-align:middle;\" /></a><br>(see <a class=\"ProveItLink\" href=\"../../../__pv_it/theorems/7636a00e5e0e4e4071510e1248c1dbb3d65dce050/dependencies.ipynb\">dependencies</a>)<br>"
      ],
      "text/plain": [
       "add_1_6: (1 + 6) = 7"
      ]
     },
     "execution_count": 2,
     "metadata": {},
     "output_type": "execute_result"
    }
   ],
   "source": [
    "%proving add_1_6"
   ]
  },
  {
   "cell_type": "code",
   "execution_count": null,
   "metadata": {},
   "outputs": [],
   "source": []
  }
 ],
 "metadata": {
  "kernelspec": {
   "display_name": "Python 3",
   "language": "python",
   "name": "python3"
  }
 },
 "nbformat": 4,
 "nbformat_minor": 0
}