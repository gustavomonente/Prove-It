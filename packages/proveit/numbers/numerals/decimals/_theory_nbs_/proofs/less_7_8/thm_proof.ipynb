{
 "cells": [
  {
   "cell_type": "markdown",
   "metadata": {},
   "source": [
    "Proof of <a class=\"ProveItLink\" href=\"../../../../../../_theory_nbs_/theory.ipynb\">proveit</a>.<a class=\"ProveItLink\" href=\"../../../../../_theory_nbs_/theory.ipynb\">numbers</a>.<a class=\"ProveItLink\" href=\"../../../../_theory_nbs_/theory.ipynb\">numerals</a>.<a class=\"ProveItLink\" href=\"../../theory.ipynb\">decimals</a>.<a class=\"ProveItLink\" href=\"../../theorems.ipynb#less_7_8\">less_7_8</a> theorem\n",
    "========"
   ]
  },
  {
   "cell_type": "code",
   "execution_count": 1,
   "metadata": {},
   "outputs": [],
   "source": [
    "import proveit\n",
    "theory = proveit.Theory() # the theorem's theory"
   ]
  },
  {
   "cell_type": "code",
   "execution_count": 2,
   "metadata": {},
   "outputs": [
    {
     "data": {
      "text/html": [
       "Under these <a href=\"presumptions.txt\">presumptions</a>, we begin our proof of<br><strong id=\"less_7_8\">less_7_8:</strong> <a class=\"ProveItLink\" href=\"../../../__pv_it/theorems/03e355c98e36fd4ce5a6e28ab735fc843b85f1d20/expr.ipynb\"><img src=\"data:image/png;base64,iVBORw0KGgoAAAANSUhEUgAAADAAAAAOBAMAAACbXIJpAAAAMFBMVEX///8QEBCqqqoyMjLu7u5E\n",
       "RESIiIi6urrc3NyYmJh2dnZmZmZUVFQiIiLMzMwAAABzPQ5hAAAAAXRSTlMAQObYZgAAAL9JREFU\n",
       "GNNjeHt61aoFDKjALWs7A8P8////H0CT2MDAo8Cwg4GBByGk/ABIME1gYDFgABqzDi4+dweI5Apg\n",
       "YLkApNkTYOK5S8AU+1cHrglAmhUqzLIWpuL8z0UgaiVUfO8EmE6u/yYggQ8Q3mEFuFXatR8LGBjY\n",
       "DCAaEBKcBxjyRRgYeAMgXA64UYwODHyfGBj4D6Bb7g/EJxkY3m9gQHMuYwMDQwQDgz5SSEE8yG7C\n",
       "wAnU3KjAgBYkDG92bWcAAJL7MTVg8sw9AAAAAElFTkSuQmCC\n",
       "\" style=\"display:inline;vertical-align:middle;\" /></a><br>(see <a class=\"ProveItLink\" href=\"../../../__pv_it/theorems/2e0a2cec2acb1573a4a0d12a9cbb88ce70382bbe0/dependencies.ipynb\">dependencies</a>)<br>"
      ],
      "text/plain": [
       "less_7_8: 7 < 8"
      ]
     },
     "execution_count": 2,
     "metadata": {},
     "output_type": "execute_result"
    }
   ],
   "source": [
    "%proving less_7_8"
   ]
  },
  {
   "cell_type": "code",
   "execution_count": null,
   "metadata": {},
   "outputs": [],
   "source": []
  }
 ],
 "metadata": {
  "kernelspec": {
   "display_name": "Python 3",
   "language": "python",
   "name": "python3"
  }
 },
 "nbformat": 4,
 "nbformat_minor": 0
}