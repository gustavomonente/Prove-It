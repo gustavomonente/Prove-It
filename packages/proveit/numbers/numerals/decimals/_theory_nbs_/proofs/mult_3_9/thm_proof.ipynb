{
 "cells": [
  {
   "cell_type": "markdown",
   "metadata": {},
   "source": [
    "Proof of <a class=\"ProveItLink\" href=\"../../../../../../_theory_nbs_/theory.ipynb\">proveit</a>.<a class=\"ProveItLink\" href=\"../../../../../_theory_nbs_/theory.ipynb\">numbers</a>.<a class=\"ProveItLink\" href=\"../../../../_theory_nbs_/theory.ipynb\">numerals</a>.<a class=\"ProveItLink\" href=\"../../theory.ipynb\">decimals</a>.<a class=\"ProveItLink\" href=\"../../theorems.ipynb#mult_3_9\">mult_3_9</a> theorem\n",
    "========"
   ]
  },
  {
   "cell_type": "code",
   "execution_count": 1,
   "metadata": {},
   "outputs": [],
   "source": [
    "import proveit\n",
    "theory = proveit.Theory() # the theorem's theory"
   ]
  },
  {
   "cell_type": "code",
   "execution_count": 2,
   "metadata": {},
   "outputs": [
    {
     "data": {
      "text/html": [
       "Under these <a href=\"presumptions.txt\">presumptions</a>, we begin our proof of<br><strong id=\"mult_3_9\">mult_3_9:</strong> <a class=\"ProveItLink\" href=\"../../../__pv_it/theorems/2e6fafcfb0bc5065738134003d7a53f9f72e536b0/expr.ipynb\"><img src=\"data:image/png;base64,iVBORw0KGgoAAAANSUhEUgAAAGIAAAAUBAMAAACE8PXhAAAAMFBMVEX////MzMxUVFR2dna6uroQ\n",
       "EBCqqqqIiIgiIiJmZmYyMjJERETu7u6YmJjc3NwAAACgK8IjAAAAAXRSTlMAQObYZgAAAZpJREFU\n",
       "KM99Uz1Iw1AQ/vqb2KRJRje7CHZqNUOtIO2oewWRDl0d1Do46GJBcDWgS0GkdNPBdhAXUYIgiA5m\n",
       "cdWACB0LShEtxkvSxpKEfHAv793ddz959wBBgwfrCMIj8CZfOkf+cEZHWHd78fUrCeNpWc4C5xAU\n",
       "bDiJ7jShDL7hZtwi8olXwzBSSCpgehBrQ9MkkAZybsYxsIQTIAywOqIliE7Qb6BAmdyMZSCjU0XT\n",
       "QMdSOFXxP8CujkTRxWipyEhAtApsW357jmmFchQRUby/6EAFOPpekwizx46eSmppSFpVzp2ZOLUN\n",
       "0Q9a5kn2reOWWQVv7rhqvFBBvOZJwabIo0ubknWMlWl5sgKvbRYkhLoeRp2EadgMQQfXG0QxkVF9\n",
       "GIzZGdu2qxL7NmOIJhVd+++jaSlXzcBiyu481gbbH7o/q6FfDDofQSgLRseEmShPZm1kSnbUB9qP\n",
       "ZV2Mjpyfomsz1Qski/ULxxTJH9GakNw3aBhfwHsF1pT44D5g2JOKnzYX9D5ufHTeaXe9KA84PYjh\n",
       "92pfAvz/AGYJaH2hqUTTAAAAAElFTkSuQmCC\n",
       "\" style=\"display:inline;vertical-align:middle;\" /></a><br>(see <a class=\"ProveItLink\" href=\"../../../__pv_it/theorems/def9337e5d363dc7edd456062913a2ee94de441b0/dependencies.ipynb\">dependencies</a>)<br>"
      ],
      "text/plain": [
       "mult_3_9: (3 * 9) = 27"
      ]
     },
     "execution_count": 2,
     "metadata": {},
     "output_type": "execute_result"
    }
   ],
   "source": [
    "%proving mult_3_9"
   ]
  },
  {
   "cell_type": "code",
   "execution_count": null,
   "metadata": {},
   "outputs": [],
   "source": []
  }
 ],
 "metadata": {
  "kernelspec": {
   "display_name": "Python 3",
   "language": "python",
   "name": "python3"
  }
 },
 "nbformat": 4,
 "nbformat_minor": 0
}