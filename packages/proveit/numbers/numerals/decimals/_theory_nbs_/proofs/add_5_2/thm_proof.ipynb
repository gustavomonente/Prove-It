{
 "cells": [
  {
   "cell_type": "markdown",
   "metadata": {},
   "source": [
    "Proof of <a class=\"ProveItLink\" href=\"../../../../../../_theory_nbs_/theory.ipynb\">proveit</a>.<a class=\"ProveItLink\" href=\"../../../../../_theory_nbs_/theory.ipynb\">numbers</a>.<a class=\"ProveItLink\" href=\"../../../../_theory_nbs_/theory.ipynb\">numerals</a>.<a class=\"ProveItLink\" href=\"../../theory.ipynb\">decimals</a>.<a class=\"ProveItLink\" href=\"../../theorems.ipynb#add_5_2\">add_5_2</a> theorem\n",
    "========"
   ]
  },
  {
   "cell_type": "code",
   "execution_count": 1,
   "metadata": {},
   "outputs": [],
   "source": [
    "import proveit\n",
    "theory = proveit.Theory() # the theorem's theory"
   ]
  },
  {
   "cell_type": "code",
   "execution_count": 2,
   "metadata": {},
   "outputs": [
    {
     "data": {
      "text/html": [
       "Under these <a href=\"presumptions.txt\">presumptions</a>, we begin our proof of<br><strong id=\"add_5_2\">add_5_2:</strong> <a class=\"ProveItLink\" href=\"../../../__pv_it/theorems/87bd8483468c1858e51af1f5c93bf7c363a93ab00/expr.ipynb\"><img src=\"data:image/png;base64,iVBORw0KGgoAAAANSUhEUgAAAGIAAAAUBAMAAACE8PXhAAAAMFBMVEX///9UVFTMzMx2dna6uroQ\n",
       "EBCqqqqIiIgiIiJmZmYyMjJERETu7u6YmJjc3NwAAAC+aOQFAAAAAXRSTlMAQObYZgAAAWxJREFU\n",
       "KM91k79Lw0AUx79poknapmZTB2lGnaxmKBWEjv4BCm66FRd1deuiq8GtUCTiFvDH7g/iIAg6uIib\n",
       "3iLUyYIODmJ8SarmLsmDdz/e3efevbv3gMo9smU9x45b4MifWuVs5c6ZBYmJWyfHbbsGHAMrwTu/\n",
       "dAX5A2VXJJ6DIDBhOMDh6O9xrbjrAktAXST2AQnQaLP5ZxsQy0CV4Vok6EazQA8ZxImPqoViMxW0\n",
       "sglsUT/xuMcTJLs+ZCdFlEgvSM/x1hQIhd7CiEKXvUhiep50J2bbAqHRTYfbootyn5rFaKh/UzPn\n",
       "eduedxAZOqSFvkiobkxIbvj8nA/VySS00/hWQy70L55YQ4VBaSfiiN5zxIwj1wl2OaJQg8oGkSdl\n",
       "OnTdACoOHhhH9OzGGJ1UE4mN0LJA+jrTFX4wCD6BoiUSL2HCalyGtpKTm+xkN7iPvUtO6jn1cZlX\n",
       "OOls/6+obCmxnIXcqn3KNv8Alh1b7EMH8YsAAAAASUVORK5CYII=\n",
       "\" style=\"display:inline;vertical-align:middle;\" /></a><br>(see <a class=\"ProveItLink\" href=\"../../../__pv_it/theorems/6392379fe6c23fcfaaa64bfff25d92f56484ff980/dependencies.ipynb\">dependencies</a>)<br>"
      ],
      "text/plain": [
       "add_5_2: (5 + 2) = 7"
      ]
     },
     "execution_count": 2,
     "metadata": {},
     "output_type": "execute_result"
    }
   ],
   "source": [
    "%proving add_5_2"
   ]
  },
  {
   "cell_type": "code",
   "execution_count": null,
   "metadata": {},
   "outputs": [],
   "source": []
  }
 ],
 "metadata": {
  "kernelspec": {
   "display_name": "Python 3",
   "language": "python",
   "name": "python3"
  }
 },
 "nbformat": 4,
 "nbformat_minor": 0
}