{
 "cells": [
  {
   "cell_type": "markdown",
   "metadata": {},
   "source": [
    "Proof of <a class=\"ProveItLink\" href=\"../../../../../../_theory_nbs_/theory.ipynb\">proveit</a>.<a class=\"ProveItLink\" href=\"../../../../../_theory_nbs_/theory.ipynb\">numbers</a>.<a class=\"ProveItLink\" href=\"../../../../_theory_nbs_/theory.ipynb\">numerals</a>.<a class=\"ProveItLink\" href=\"../../theory.ipynb\">decimals</a>.<a class=\"ProveItLink\" href=\"../../theorems.ipynb#add_7_6\">add_7_6</a> theorem\n",
    "========"
   ]
  },
  {
   "cell_type": "code",
   "execution_count": 1,
   "metadata": {},
   "outputs": [],
   "source": [
    "import proveit\n",
    "theory = proveit.Theory() # the theorem's theory"
   ]
  },
  {
   "cell_type": "code",
   "execution_count": 2,
   "metadata": {},
   "outputs": [
    {
     "data": {
      "text/html": [
       "Under these <a href=\"presumptions.txt\">presumptions</a>, we begin our proof of<br><strong id=\"add_7_6\">add_7_6:</strong> <a class=\"ProveItLink\" href=\"../../../__pv_it/theorems/cd5538b2035dd91b90c07d103ec16728702ab1ce0/expr.ipynb\"><img src=\"data:image/png;base64,iVBORw0KGgoAAAANSUhEUgAAAGwAAAAUBAMAAACaOcVSAAAAMFBMVEX///9UVFTMzMx2dna6uroQ\n",
       "EBCqqqqIiIgiIiJmZmYyMjJERETu7u6YmJjc3NwAAAC+aOQFAAAAAXRSTlMAQObYZgAAAYBJREFU\n",
       "OMuVlLFLw0AUxj+btia0lxS7a/8Dhw5Vp27q1qE4FXSRuimIgy5WRBeXSF0Eh1pcGlAyiOCgZHGp\n",
       "gpldLLg4WpSCEK13lyrJJSn4hjvee/e79+Xl7gDVRrglOxhi94jt1PN5IVpYz2E8HHjJX9HxAqTf\n",
       "73f9qXZRaaAdRJYtqDpWbRAdClWTccPVQfoaKRPSmgClsxMWRnvQapA7kAAp58Pi33xVKVDt2UK8\n",
       "DK2BV+7OwoelXOAsDKNGRW5y1/RjWrNwRKfpcCy9C9wwT7L92OM55CXgiecMbvofpk6dAPt8GQTs\n",
       "DUoFWIkQuVFEmc1bPDZjGHuGccpE1kA+gMkILFFxsQOhmtwA+YrA1A5SPVdkV8BGSrzanOfbMr+Y\n",
       "5jCMtST2KWAxB0pp0BKxWsKE7PAmJ98FDFnc0U7WA9i2BWKz/8aEqAsiJtXH6NgUqcPFlo3540uw\n",
       "w+Wxqu8I1qLvDdG93oPXCRxlr91GZtrDr+n/N2T9iHoUyJBH4QflwHHobm19FAAAAABJRU5ErkJg\n",
       "gg==\n",
       "\" style=\"display:inline;vertical-align:middle;\" /></a><br>(see <a class=\"ProveItLink\" href=\"../../../__pv_it/theorems/979951e1dc23f3a0ff049e9af653626f312e227f0/dependencies.ipynb\">dependencies</a>)<br>"
      ],
      "text/plain": [
       "add_7_6: (7 + 6) = 13"
      ]
     },
     "execution_count": 2,
     "metadata": {},
     "output_type": "execute_result"
    }
   ],
   "source": [
    "%proving add_7_6"
   ]
  },
  {
   "cell_type": "code",
   "execution_count": null,
   "metadata": {},
   "outputs": [],
   "source": []
  }
 ],
 "metadata": {
  "kernelspec": {
   "display_name": "Python 3",
   "language": "python",
   "name": "python3"
  }
 },
 "nbformat": 4,
 "nbformat_minor": 0
}