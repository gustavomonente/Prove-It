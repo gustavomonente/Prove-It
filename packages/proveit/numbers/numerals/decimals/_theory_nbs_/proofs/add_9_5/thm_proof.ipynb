{
 "cells": [
  {
   "cell_type": "markdown",
   "metadata": {},
   "source": [
    "Proof of <a class=\"ProveItLink\" href=\"../../../../../../_theory_nbs_/theory.ipynb\">proveit</a>.<a class=\"ProveItLink\" href=\"../../../../../_theory_nbs_/theory.ipynb\">numbers</a>.<a class=\"ProveItLink\" href=\"../../../../_theory_nbs_/theory.ipynb\">numerals</a>.<a class=\"ProveItLink\" href=\"../../theory.ipynb\">decimals</a>.<a class=\"ProveItLink\" href=\"../../theorems.ipynb#add_9_5\">add_9_5</a> theorem\n",
    "========"
   ]
  },
  {
   "cell_type": "code",
   "execution_count": 1,
   "metadata": {},
   "outputs": [],
   "source": [
    "import proveit\n",
    "theory = proveit.Theory() # the theorem's theory"
   ]
  },
  {
   "cell_type": "code",
   "execution_count": 2,
   "metadata": {},
   "outputs": [
    {
     "data": {
      "text/html": [
       "Under these <a href=\"presumptions.txt\">presumptions</a>, we begin our proof of<br><strong id=\"add_9_5\">add_9_5:</strong> <a class=\"ProveItLink\" href=\"../../../__pv_it/theorems/1720c2d839a9d99822d0d18d96cc238d023cbf8a0/expr.ipynb\"><img src=\"data:image/png;base64,iVBORw0KGgoAAAANSUhEUgAAAGwAAAAUBAMAAACaOcVSAAAAMFBMVEX////MzMxUVFR2dna6uroQ\n",
       "EBCqqqqIiIgiIiJmZmYyMjJERETu7u6YmJjc3NwAAACgK8IjAAAAAXRSTlMAQObYZgAAAYNJREFU\n",
       "OMtjYOC7wIAdsD1gwANOMzCcNNZDE1x7QDKBQQ+XFkkgXsfAE8vw9ACqRPz/zwwMpzA1pILVNTEw\n",
       "8E5gYApgYJoAEU6HSi9WB7qQuQBNE4+yPkgbexADA8cDBv4FDMwfULUpgFUFYNh2H6Tt7SIGhhcM\n",
       "DOc3MLD/w6KNYQl2bQZAbZUMDKxA276gatO9PhFIWmLVxvsAqG0vA8iFXH9Rte1heO/AwHALxGRe\n",
       "BQYT4NqOMwC1tQE52xmSv6FqY2DgbmBgyMBqmwFIWwgoYq8LfwRSVqtWta5atQiigBPoW3ls2tgE\n",
       "YNoYGJj+oNjGBPEtVm2HGWCOZGDgUkDRBgwkTqBBHkh+U4BpS5o58+t0UJDwxjDIP0DRxgmMzwXQ\n",
       "IMGMAIYgcCCzr+FZy4CijW8Cw1WgQZMxtNWDtUVDHGI80wFVG8NLozlAciG6rknxK4H5xfq/Lihx\n",
       "IYF0lCTYgDvf8E5A5p1B5mAkZWSwD6fMKQLZlGQDQaGGq1DgxVMoAAAQHnT5NC/E+QAAAABJRU5E\n",
       "rkJggg==\n",
       "\" style=\"display:inline;vertical-align:middle;\" /></a><br>(see <a class=\"ProveItLink\" href=\"../../../__pv_it/theorems/17c0a68848d722538ca47f1e45f6ceef51acf97d0/dependencies.ipynb\">dependencies</a>)<br>"
      ],
      "text/plain": [
       "add_9_5: (9 + 5) = 14"
      ]
     },
     "execution_count": 2,
     "metadata": {},
     "output_type": "execute_result"
    }
   ],
   "source": [
    "%proving add_9_5"
   ]
  },
  {
   "cell_type": "code",
   "execution_count": null,
   "metadata": {},
   "outputs": [],
   "source": []
  }
 ],
 "metadata": {
  "kernelspec": {
   "display_name": "Python 3",
   "language": "python",
   "name": "python3"
  }
 },
 "nbformat": 4,
 "nbformat_minor": 0
}