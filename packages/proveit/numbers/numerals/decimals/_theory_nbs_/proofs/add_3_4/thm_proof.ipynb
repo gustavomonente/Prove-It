{
 "cells": [
  {
   "cell_type": "markdown",
   "metadata": {},
   "source": [
    "Proof of <a class=\"ProveItLink\" href=\"../../../../../../_theory_nbs_/theory.ipynb\">proveit</a>.<a class=\"ProveItLink\" href=\"../../../../../_theory_nbs_/theory.ipynb\">numbers</a>.<a class=\"ProveItLink\" href=\"../../../../_theory_nbs_/theory.ipynb\">numerals</a>.<a class=\"ProveItLink\" href=\"../../theory.ipynb\">decimals</a>.<a class=\"ProveItLink\" href=\"../../theorems.ipynb#add_3_4\">add_3_4</a> theorem\n",
    "========"
   ]
  },
  {
   "cell_type": "code",
   "execution_count": 1,
   "metadata": {},
   "outputs": [],
   "source": [
    "import proveit\n",
    "theory = proveit.Theory() # the theorem's theory"
   ]
  },
  {
   "cell_type": "code",
   "execution_count": 2,
   "metadata": {},
   "outputs": [
    {
     "data": {
      "text/html": [
       "Under these <a href=\"presumptions.txt\">presumptions</a>, we begin our proof of<br><strong id=\"add_3_4\">add_3_4:</strong> <a class=\"ProveItLink\" href=\"../../../__pv_it/theorems/5c2f193f37baa2ab1c3098dff2a9a2a5535741da0/expr.ipynb\"><img src=\"data:image/png;base64,iVBORw0KGgoAAAANSUhEUgAAAGIAAAAUBAMAAACE8PXhAAAAMFBMVEX////MzMxUVFR2dna6uroQ\n",
       "EBCqqqqIiIgiIiJmZmYyMjJERETu7u6YmJjc3NwAAACgK8IjAAAAAXRSTlMAQObYZgAAAVxJREFU\n",
       "KM91kz1Iw1AQx/9tkjbm09HNrN0iGaqC0FH3LoKDTt1sFge3gOictSAaHDNIB3FTJ0HQIbNDDYjg\n",
       "WBw6FeJ7CdHkkhzc4949fu/uuDvAiFAvxw1+vAKfzj31tny0Y+pc6zmODdzC8DGmgWQLWkCJjyRJ\n",
       "LOg+uguYXuYb5Y8nFtCnxBXQZp/FEIcwgzJhvDPimRIsow3gO7XzrHJCUBihDCpFiy5wyg3tDGVi\n",
       "xgnBrxAq0weew+ZlmdBcTuhpqkKYSkbvML3ICh2UCAGc6Hg0hDZnxzA1pQN2bIfheRjeMOsoJVpz\n",
       "SnSDjDBiqItiDM1uIORplpW5JESnN7nedyF6hTosbptWVrk0hbwkHZT+Ki/KOq9/i71ElX7wX7Bi\n",
       "U2LMPbtM9yZ3pB/C008EZZUSX4dIp6Qgo+LlpX7Y9VJj34qXfsN+PDYtTnXa/zeqXtS44aFxa2f1\n",
       "7l8pZlUE8iY9bgAAAABJRU5ErkJggg==\n",
       "\" style=\"display:inline;vertical-align:middle;\" /></a><br>(see <a class=\"ProveItLink\" href=\"../../../__pv_it/theorems/0f0731928ffac18b561575b7ac236c8a84e0b1070/dependencies.ipynb\">dependencies</a>)<br>"
      ],
      "text/plain": [
       "add_3_4: (3 + 4) = 7"
      ]
     },
     "execution_count": 2,
     "metadata": {},
     "output_type": "execute_result"
    }
   ],
   "source": [
    "%proving add_3_4"
   ]
  },
  {
   "cell_type": "code",
   "execution_count": null,
   "metadata": {},
   "outputs": [],
   "source": []
  }
 ],
 "metadata": {
  "kernelspec": {
   "display_name": "Python 3",
   "language": "python",
   "name": "python3"
  }
 },
 "nbformat": 4,
 "nbformat_minor": 0
}