{
 "cells": [
  {
   "cell_type": "markdown",
   "metadata": {},
   "source": [
    "Proof of <a class=\"ProveItLink\" href=\"../../../../../../_theory_nbs_/theory.ipynb\">proveit</a>.<a class=\"ProveItLink\" href=\"../../../../../_theory_nbs_/theory.ipynb\">numbers</a>.<a class=\"ProveItLink\" href=\"../../../../_theory_nbs_/theory.ipynb\">numerals</a>.<a class=\"ProveItLink\" href=\"../../theory.ipynb\">decimals</a>.<a class=\"ProveItLink\" href=\"../../theorems.ipynb#add_2_1\">add_2_1</a> theorem\n",
    "========"
   ]
  },
  {
   "cell_type": "code",
   "execution_count": 1,
   "metadata": {},
   "outputs": [],
   "source": [
    "import proveit\n",
    "theory = proveit.Theory() # the theorem's theory"
   ]
  },
  {
   "cell_type": "code",
   "execution_count": 2,
   "metadata": {},
   "outputs": [
    {
     "data": {
      "text/html": [
       "Under these <a href=\"presumptions.txt\">presumptions</a>, we begin our proof of<br><strong id=\"add_2_1\">add_2_1:</strong> <a class=\"ProveItLink\" href=\"../../../__pv_it/theorems/70261959f5743d00c67bca65287bc7c6989d222e0/expr.ipynb\"><img src=\"data:image/png;base64,iVBORw0KGgoAAAANSUhEUgAAAGEAAAAUBAMAAABvx07iAAAAMFBMVEX///9UVFTMzMx2dna6uroQ\n",
       "EBCqqqqIiIgiIiJmZmYyMjJERETu7u6YmJjc3NwAAAC+aOQFAAAAAXRSTlMAQObYZgAAAVBJREFU\n",
       "KM91k79Lw0AUx7+xbdrUpnRxF/wHIh2KOphFcNOhTjpk6+beRSOi4GQcpQi63uDgrqaDoLSD/4AS\n",
       "cNFFxElKNN5dQHO/3pB79959cvflvQc0H6G3bUMcI+BhcKVJWIkcabaXArpcotHCsi/m7C2gcS4T\n",
       "b7C/ATeCE6Oynsd6+TKcT+m3IxO7Ab6AWoJKCOtHIOAy4k4mVnxMgFegnsL61BB1X9HGXtXnXi3V\n",
       "EKVIIe494Jp7a56GcLn0EuHG6ZejGDjkJ/agIexQuaPaBbrMcfgfFgk5IOTij5j6UIu0EedEH7o7\n",
       "FOIduA34q+yIbRSiHBZ0tKibxYxgyueAHaPygm0CxzEWaLvst09CkagywvEk4onXY5VWKssykXBm\n",
       "Jmc0PisR5dOBz7ukYD2hXPpmd4XCjoubjmE+bkyDo3b7/0TpbToxJIxT+6wP/wIP4mDwbrdmoAAA\n",
       "AABJRU5ErkJggg==\n",
       "\" style=\"display:inline;vertical-align:middle;\" /></a><br>(see <a class=\"ProveItLink\" href=\"../../../__pv_it/theorems/3d36d27b254db6872b4ad5c5d94e24e31155ca3c0/dependencies.ipynb\">dependencies</a>)<br>"
      ],
      "text/plain": [
       "add_2_1: (2 + 1) = 3"
      ]
     },
     "execution_count": 2,
     "metadata": {},
     "output_type": "execute_result"
    }
   ],
   "source": [
    "%proving add_2_1"
   ]
  },
  {
   "cell_type": "code",
   "execution_count": null,
   "metadata": {},
   "outputs": [],
   "source": []
  }
 ],
 "metadata": {
  "kernelspec": {
   "display_name": "Python 3",
   "language": "python",
   "name": "python3"
  }
 },
 "nbformat": 4,
 "nbformat_minor": 0
}