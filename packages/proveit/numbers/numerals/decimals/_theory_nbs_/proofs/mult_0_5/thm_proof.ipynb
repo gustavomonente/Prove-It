{
 "cells": [
  {
   "cell_type": "markdown",
   "metadata": {},
   "source": [
    "Proof of <a class=\"ProveItLink\" href=\"../../../../../../_theory_nbs_/theory.ipynb\">proveit</a>.<a class=\"ProveItLink\" href=\"../../../../../_theory_nbs_/theory.ipynb\">numbers</a>.<a class=\"ProveItLink\" href=\"../../../../_theory_nbs_/theory.ipynb\">numerals</a>.<a class=\"ProveItLink\" href=\"../../theory.ipynb\">decimals</a>.<a class=\"ProveItLink\" href=\"../../theorems.ipynb#mult_0_5\">mult_0_5</a> theorem\n",
    "========"
   ]
  },
  {
   "cell_type": "code",
   "execution_count": 1,
   "metadata": {},
   "outputs": [],
   "source": [
    "import proveit\n",
    "theory = proveit.Theory() # the theorem's theory"
   ]
  },
  {
   "cell_type": "code",
   "execution_count": 2,
   "metadata": {},
   "outputs": [
    {
     "data": {
      "text/html": [
       "Under these <a href=\"presumptions.txt\">presumptions</a>, we begin our proof of<br><strong id=\"mult_0_5\">mult_0_5:</strong> <a class=\"ProveItLink\" href=\"../../../__pv_it/theorems/b4d6facf48ff0a32c7159b92b0050a8f6ab762780/expr.ipynb\"><img src=\"data:image/png;base64,iVBORw0KGgoAAAANSUhEUgAAAFcAAAAUBAMAAAAKKrydAAAAMFBMVEX///9UVFTMzMx2dna6uroQ\n",
       "EBCqqqqIiIgiIiJmZmYyMjJERETu7u6YmJjc3NwAAAC+aOQFAAAAAXRSTlMAQObYZgAAAWZJREFU\n",
       "KM91kztLw1AUx399WGpeFjed8g0aXYpd7OimSCcHySewdZIOSqcODhIQXNVF0EF0E0QJSKHgUEHc\n",
       "fGTUSaWiCEK9CW1CHj3D4eTc3z2c/z0noN0RszVG2C1kNmf9T+kxvUfKiWGle134Uzii45+O9fsG\n",
       "ykGUlUxlB1QLdYmMfyrNbLl1ovADlCHvIBfI/Q2zKc+3o/A51GxeYaJA9jsMS5UI/AmLJg3oWmR/\n",
       "fPipIZRkrDCr/Aq4zhW8G6R9WLa1L6HE01A+ce1YRFoPinVaArZI99zrA/4Ccs1wZU1ULhpUgza6\n",
       "gyfZd0h/JLZR9QTmXIH5gnDTMF+Jwa7Amum2IZ+h+k+3IirbZJtBz4dueAkvtiswNBTxDNtDgbGh\n",
       "zImoRVsfZt9QV2HciMB5U1mGBRHdbEwGunenbDEUPQIrpXXdG3eCdZI3VLWSsqUR+3ydkIuvaLD8\n",
       "MZOdEXDSb/WcjP4DIeVc/OcHcgYAAAAASUVORK5CYII=\n",
       "\" style=\"display:inline;vertical-align:middle;\" /></a><br>(see <a class=\"ProveItLink\" href=\"../../../__pv_it/theorems/ef20a642cb969ca82d6fa20cf08b27242eab49910/dependencies.ipynb\">dependencies</a>)<br>"
      ],
      "text/plain": [
       "mult_0_5: (0 * 5) = 0"
      ]
     },
     "execution_count": 2,
     "metadata": {},
     "output_type": "execute_result"
    }
   ],
   "source": [
    "%proving mult_0_5"
   ]
  },
  {
   "cell_type": "code",
   "execution_count": null,
   "metadata": {},
   "outputs": [],
   "source": []
  }
 ],
 "metadata": {
  "kernelspec": {
   "display_name": "Python 3",
   "language": "python",
   "name": "python3"
  }
 },
 "nbformat": 4,
 "nbformat_minor": 0
}