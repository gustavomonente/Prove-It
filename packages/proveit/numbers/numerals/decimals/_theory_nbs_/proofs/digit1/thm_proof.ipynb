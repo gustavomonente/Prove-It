{
 "cells": [
  {
   "cell_type": "markdown",
   "metadata": {},
   "source": [
    "Proof of <a class=\"ProveItLink\" href=\"../../../../../../_theory_nbs_/theory.ipynb\">proveit</a>.<a class=\"ProveItLink\" href=\"../../../../../_theory_nbs_/theory.ipynb\">numbers</a>.<a class=\"ProveItLink\" href=\"../../../../_theory_nbs_/theory.ipynb\">numerals</a>.<a class=\"ProveItLink\" href=\"../../theory.ipynb\">decimals</a>.<a class=\"ProveItLink\" href=\"../../theorems.ipynb#digit1\">digit1</a> theorem\n",
    "========"
   ]
  },
  {
   "cell_type": "code",
   "execution_count": 1,
   "metadata": {},
   "outputs": [],
   "source": [
    "import proveit\n",
    "theory = proveit.Theory() # the theorem's theory"
   ]
  },
  {
   "cell_type": "code",
   "execution_count": 2,
   "metadata": {},
   "outputs": [
    {
     "data": {
      "text/html": [
       "Under these <a href=\"presumptions.txt\">presumptions</a>, we begin our proof of<br><strong id=\"digit1\">digit1:</strong> <a class=\"ProveItLink\" href=\"../../../__pv_it/theorems/3df1cca99ad05f2a8aebb3ef0737f6373364d0ea0/expr.ipynb\"><img src=\"data:image/png;base64,iVBORw0KGgoAAAANSUhEUgAAAEcAAAAVBAMAAADm2O7QAAAAMFBMVEX///+6urrc3NzMzMwiIiJE\n",
       "REQyMjJmZmaIiIiYmJh2dnZUVFTu7u4QEBCqqqoAAABhZHJKAAAAAXRSTlMAQObYZgAAARxJREFU\n",
       "KM9jYCAA+KoWEFIRwDCboZ2AmgwGhosM+gfwqeHMZGBg+sTAL4BHDQdQDQPPZwb+B7jVMPqBqYsM\n",
       "9hMwJXnyQ3MYuO5f5FkKtuYpw3wgzXcHTRXrBGsGhvNA1UtB9jB32CswnF79B00RtzNHAwMviNUG\n",
       "VHWAQRTkB5iiqS4uCWBFogc2M7CAhaZNYIhgCEZSZNoDM0l5w7EDEEUMbxgkuhQQinhy4NYpvGDe\n",
       "wIIWZH+gUghFXAIzsCtiRThcgWEPtwkDXygQxKAqsk0DggSootMMuVhNUkU2iXmBLVZFvMiKGOax\n",
       "YlXE3gBXZMDAwKWKFtnQcPKDCbCBYqMMRQ373m+VYMbpQEjiYva/CiSP4UgbUiGQaMEEAL96RAF5\n",
       "xvhdAAAAAElFTkSuQmCC\n",
       "\" style=\"display:inline;vertical-align:middle;\" /></a><br>(see <a class=\"ProveItLink\" href=\"../../../__pv_it/theorems/73089ceb24745288c93e8541da538dd36d3cb38a0/dependencies.ipynb\">dependencies</a>)<br>"
      ],
      "text/plain": [
       "digit1: 1 in Digits"
      ]
     },
     "execution_count": 2,
     "metadata": {},
     "output_type": "execute_result"
    }
   ],
   "source": [
    "%proving digit1"
   ]
  },
  {
   "cell_type": "code",
   "execution_count": null,
   "metadata": {},
   "outputs": [],
   "source": []
  }
 ],
 "metadata": {
  "kernelspec": {
   "display_name": "Python 3",
   "language": "python",
   "name": "python3"
  }
 },
 "nbformat": 4,
 "nbformat_minor": 0
}