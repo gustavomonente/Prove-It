{
 "cells": [
  {
   "cell_type": "markdown",
   "metadata": {},
   "source": [
    "Proof of <a class=\"ProveItLink\" href=\"../../../../../../_theory_nbs_/theory.ipynb\">proveit</a>.<a class=\"ProveItLink\" href=\"../../../../../_theory_nbs_/theory.ipynb\">numbers</a>.<a class=\"ProveItLink\" href=\"../../../../_theory_nbs_/theory.ipynb\">numerals</a>.<a class=\"ProveItLink\" href=\"../../theory.ipynb\">decimals</a>.<a class=\"ProveItLink\" href=\"../../theorems.ipynb#mult_6_0\">mult_6_0</a> theorem\n",
    "========"
   ]
  },
  {
   "cell_type": "code",
   "execution_count": 1,
   "metadata": {},
   "outputs": [],
   "source": [
    "import proveit\n",
    "theory = proveit.Theory() # the theorem's theory"
   ]
  },
  {
   "cell_type": "code",
   "execution_count": 2,
   "metadata": {},
   "outputs": [
    {
     "data": {
      "text/html": [
       "Under these <a href=\"presumptions.txt\">presumptions</a>, we begin our proof of<br><strong id=\"mult_6_0\">mult_6_0:</strong> <a class=\"ProveItLink\" href=\"../../../__pv_it/theorems/1a2dbafe7bdc1ffb02c3985bfab86dc5583e0c230/expr.ipynb\"><img src=\"data:image/png;base64,iVBORw0KGgoAAAANSUhEUgAAAFcAAAAUBAMAAAAKKrydAAAAMFBMVEX///9UVFTMzMx2dna6uroQ\n",
       "EBCqqqqIiIgiIiJmZmYyMjJERETu7u6YmJjc3NwAAAC+aOQFAAAAAXRSTlMAQObYZgAAAUdJREFU\n",
       "KM91k71KxEAQx//3gWw+9hR9gbzBXRe86ko7g1ha5Am8Eyu7VJYS0AdY7RQULUWUaw5EixPEVlNa\n",
       "nmgjqDjJJpdksxkIbH78MpmZTIDOEyqxjZp4pMvddeb37rODRlTRYgxcAA8DQ2TQ9O0D2EJ1Ewwe\n",
       "AtewLjP6AvQpjypLzCK0/wr0ChiOMVFlid8ByyvQD2DdhzlQZIn3gMUT9yiD9jfREVph2U3xLTA9\n",
       "B/NT2vkEuiPwpMP+WRynOd4neQZjK348ppSi28NCUM6c4k0qIwD/IjIV8/c1Z9oySGYC/JcIW5Kd\n",
       "DP2KnGIqo+HJzEncAG9jtIO85uMcU4PNHxheefpcaD/KKp1WMMmmQXOxNwCjp8gSr9Gpdbict+Lu\n",
       "0MaYjiJLzCLdKt7rN5SHOurW7POdhlVXtLD8alhRjaz7rV716j8sGV16QVRhuAAAAABJRU5ErkJg\n",
       "gg==\n",
       "\" style=\"display:inline;vertical-align:middle;\" /></a><br>(see <a class=\"ProveItLink\" href=\"../../../__pv_it/theorems/6c3497e7d48e32d805f8f3315f8e58ac80810c4d0/dependencies.ipynb\">dependencies</a>)<br>"
      ],
      "text/plain": [
       "mult_6_0: (6 * 0) = 0"
      ]
     },
     "execution_count": 2,
     "metadata": {},
     "output_type": "execute_result"
    }
   ],
   "source": [
    "%proving mult_6_0"
   ]
  },
  {
   "cell_type": "code",
   "execution_count": null,
   "metadata": {},
   "outputs": [],
   "source": []
  }
 ],
 "metadata": {
  "kernelspec": {
   "display_name": "Python 3",
   "language": "python",
   "name": "python3"
  }
 },
 "nbformat": 4,
 "nbformat_minor": 0
}