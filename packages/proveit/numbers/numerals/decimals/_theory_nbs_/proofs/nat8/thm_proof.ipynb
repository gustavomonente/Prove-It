{
 "cells": [
  {
   "cell_type": "markdown",
   "metadata": {},
   "source": [
    "Proof of <a class=\"ProveItLink\" href=\"../../../../../../_theory_nbs_/theory.ipynb\">proveit</a>.<a class=\"ProveItLink\" href=\"../../../../../_theory_nbs_/theory.ipynb\">numbers</a>.<a class=\"ProveItLink\" href=\"../../../../_theory_nbs_/theory.ipynb\">numerals</a>.<a class=\"ProveItLink\" href=\"../../theory.ipynb\">decimals</a>.<a class=\"ProveItLink\" href=\"../../theorems.ipynb#nat8\">nat8</a> theorem\n",
    "========"
   ]
  },
  {
   "cell_type": "code",
   "execution_count": 1,
   "metadata": {},
   "outputs": [],
   "source": [
    "import proveit\n",
    "theory = proveit.Theory() # the theorem's theory"
   ]
  },
  {
   "cell_type": "code",
   "execution_count": 2,
   "metadata": {},
   "outputs": [
    {
     "data": {
      "text/html": [
       "Under these <a href=\"presumptions.txt\">presumptions</a>, we begin our proof of<br><strong id=\"nat8\">nat8:</strong> <a class=\"ProveItLink\" href=\"../../../__pv_it/theorems/16047234bc4d8cd294e7b3fbf35053898a61f1a20/expr.ipynb\"><img src=\"data:image/png;base64,iVBORw0KGgoAAAANSUhEUgAAADMAAAAPBAMAAAC7N+rPAAAAMFBMVEX////c3NzMzMwQEBAiIiJE\n",
       "REQyMjKYmJiqqqpUVFS6urpmZmZ2dnaIiIju7u4AAACLnIg+AAAAAXRSTlMAQObYZgAAAO5JREFU\n",
       "GNNjYHh7ZxcDCnj2NewBw+HPCxgYNjBwNqDKhTNNYOD7wMDAUcDAl4AqNUXhLgODAQMDTwADnwNY\n",
       "hD3ExQ3MmBXHqcAAFOP6+oCnACTAFPsAqmuiJl8eSIph/vcTENthMgwTOS5ogqV4/udBBOB2TWQ4\n",
       "xX4BJNW9BOROBoYAJCnOB5OAUuwTGO7bgawySwMCqBTfBDagC5kfMDD9APIZkXUx6DABpd4D2dNB\n",
       "AgbIUuwNQJXMAgwMgSCBvXCpSUB8ECjFlcfAfgEkwAIPrgwg5gaFkOYeSPDyTV0HkVH5DNSBGnhc\n",
       "R6EBBQUAw508LhqHmOAAAAAASUVORK5CYII=\n",
       "\" style=\"display:inline;vertical-align:middle;\" /></a><br>(see <a class=\"ProveItLink\" href=\"../../../__pv_it/theorems/2f4f73982fbdc396c32ad416c7c371eb7920a2220/dependencies.ipynb\">dependencies</a>)<br>"
      ],
      "text/plain": [
       "nat8: 8 in Natural"
      ]
     },
     "execution_count": 2,
     "metadata": {},
     "output_type": "execute_result"
    }
   ],
   "source": [
    "%proving nat8"
   ]
  },
  {
   "cell_type": "code",
   "execution_count": null,
   "metadata": {},
   "outputs": [],
   "source": []
  }
 ],
 "metadata": {
  "kernelspec": {
   "display_name": "Python 3",
   "language": "python",
   "name": "python3"
  }
 },
 "nbformat": 4,
 "nbformat_minor": 0
}