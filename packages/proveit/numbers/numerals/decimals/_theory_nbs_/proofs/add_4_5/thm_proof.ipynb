{
 "cells": [
  {
   "cell_type": "markdown",
   "metadata": {},
   "source": [
    "Proof of <a class=\"ProveItLink\" href=\"../../../../../../_theory_nbs_/theory.ipynb\">proveit</a>.<a class=\"ProveItLink\" href=\"../../../../../_theory_nbs_/theory.ipynb\">numbers</a>.<a class=\"ProveItLink\" href=\"../../../../_theory_nbs_/theory.ipynb\">numerals</a>.<a class=\"ProveItLink\" href=\"../../theory.ipynb\">decimals</a>.<a class=\"ProveItLink\" href=\"../../theorems.ipynb#add_4_5\">add_4_5</a> theorem\n",
    "========"
   ]
  },
  {
   "cell_type": "code",
   "execution_count": 1,
   "metadata": {},
   "outputs": [],
   "source": [
    "import proveit\n",
    "theory = proveit.Theory() # the theorem's theory"
   ]
  },
  {
   "cell_type": "code",
   "execution_count": 2,
   "metadata": {},
   "outputs": [
    {
     "data": {
      "text/html": [
       "Under these <a href=\"presumptions.txt\">presumptions</a>, we begin our proof of<br><strong id=\"add_4_5\">add_4_5:</strong> <a class=\"ProveItLink\" href=\"../../../__pv_it/theorems/bbaa7c01b01622d321aadad33b240fcc3b1fd88f0/expr.ipynb\"><img src=\"data:image/png;base64,iVBORw0KGgoAAAANSUhEUgAAAGEAAAAUBAMAAABvx07iAAAAMFBMVEX///9UVFTMzMx2dna6uroQ\n",
       "EBCqqqqIiIgiIiJmZmYyMjJERETu7u6YmJjc3NwAAAC+aOQFAAAAAXRSTlMAQObYZgAAAWdJREFU\n",
       "KM91kyFMw1AQhv+1MGBdGwxiJIRaXKeWgegklgQFhICaghDcEDAECNSSEcjUwFYMixlpQggEEDM4\n",
       "IJUgSBBgIKHcawvpu7Unmv/d9Xt3l3cHGD0k23qKH3fiMyX7co/KETIe/zXfLApfR+hdOTTo+xby\n",
       "J5y46hlLgN4gOTQX+apRjuI2fUucGAMKwLDI83YqE5nwSk58ATbwIqSVSOQqrI1vYMdDjaTuceKp\n",
       "ZgJqg+VYoBwVdEldgxGaa3zQRUHrqhOYoKmksx72RVGcIDsHsnWWQ9vI2iuYp4gZEtOOs+c4Edz2\n",
       "oLzz1tc2bVMQl+A5xoOC+wlg0hVVrbZan8cSQS22XQzUY32MhhG6uhsI9oLU5sFf5zF7cJUfoBzo\n",
       "RZl4hb4MjFiM2HJvaWxnhZzxJyTCaBZcekGTEWr5ENGU/Fs1frhJHnZdetj7+KGUsh8XaYvTP+3x\n",
       "jUoyzUsJpG7tc7L7F4TlXdI9CWbvAAAAAElFTkSuQmCC\n",
       "\" style=\"display:inline;vertical-align:middle;\" /></a><br>(see <a class=\"ProveItLink\" href=\"../../../__pv_it/theorems/1980f873642ca22f9e15e819ad081b94d4a46f7f0/dependencies.ipynb\">dependencies</a>)<br>"
      ],
      "text/plain": [
       "add_4_5: (4 + 5) = 9"
      ]
     },
     "execution_count": 2,
     "metadata": {},
     "output_type": "execute_result"
    }
   ],
   "source": [
    "%proving add_4_5"
   ]
  },
  {
   "cell_type": "code",
   "execution_count": null,
   "metadata": {},
   "outputs": [],
   "source": []
  }
 ],
 "metadata": {
  "kernelspec": {
   "display_name": "Python 3",
   "language": "python",
   "name": "python3"
  }
 },
 "nbformat": 4,
 "nbformat_minor": 0
}