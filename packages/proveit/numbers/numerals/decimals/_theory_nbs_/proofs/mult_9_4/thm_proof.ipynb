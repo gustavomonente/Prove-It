{
 "cells": [
  {
   "cell_type": "markdown",
   "metadata": {},
   "source": [
    "Proof of <a class=\"ProveItLink\" href=\"../../../../../../_theory_nbs_/theory.ipynb\">proveit</a>.<a class=\"ProveItLink\" href=\"../../../../../_theory_nbs_/theory.ipynb\">numbers</a>.<a class=\"ProveItLink\" href=\"../../../../_theory_nbs_/theory.ipynb\">numerals</a>.<a class=\"ProveItLink\" href=\"../../theory.ipynb\">decimals</a>.<a class=\"ProveItLink\" href=\"../../theorems.ipynb#mult_9_4\">mult_9_4</a> theorem\n",
    "========"
   ]
  },
  {
   "cell_type": "code",
   "execution_count": 1,
   "metadata": {},
   "outputs": [],
   "source": [
    "import proveit\n",
    "theory = proveit.Theory() # the theorem's theory"
   ]
  },
  {
   "cell_type": "code",
   "execution_count": 2,
   "metadata": {},
   "outputs": [
    {
     "data": {
      "text/html": [
       "Under these <a href=\"presumptions.txt\">presumptions</a>, we begin our proof of<br><strong id=\"mult_9_4\">mult_9_4:</strong> <a class=\"ProveItLink\" href=\"../../../__pv_it/theorems/03fd163f96d8aaab533c55afe790a96e33c4c9ca0/expr.ipynb\"><img src=\"data:image/png;base64,iVBORw0KGgoAAAANSUhEUgAAAGEAAAAUBAMAAABvx07iAAAAMFBMVEX////MzMxUVFR2dna6uroQ\n",
       "EBCqqqqIiIgiIiJmZmYyMjJERETu7u6YmJjc3NwAAACgK8IjAAAAAXRSTlMAQObYZgAAAZ1JREFU\n",
       "KM99k79LAmEYx796/qjzvRL8A3RpaAnLQazFJWirwYKowGgPlwinnIJausXBGpJoKSpcoiHKWwKj\n",
       "QbcgyIQIagmLCJHMnveV9Lg77uHg3nue5/P8uOd5gYEKTLIKO7kDbiMjOoVDhbNm9BqITCQBaX2U\n",
       "zmdgS3jResa+EFjeSLzB0wI7xC6gUMQZONWecS0ERI3ERhIN+FRcUsQaBvOQ6r38D0TcGInJOJqY\n",
       "FsW+AuUCvL9dmyQTIcdN/VJV5+KQBtyU46trqXJCUk1EKYxmIE2RrsBLklv/BpbihCJaHz/mciT0\n",
       "z1saa1awCf7gAivf3FkUBU54MqYc3gRrA1kNCV7ifeCDXmUeeFkQjrp5cLNaA3iKCwJw/nQGARa2\n",
       "Jt6BYnKbCFEYCffq/JHh3P58Cq5Mr48DfmxrRAyJHNS5soigbi3c3c51sgDsaEENWSBGPZ2wU53R\n",
       "XQD6wwbikc/DGWZzwBR9RnK6gUnFzwpkv4Fw5fbIJzbmF1tiISWbZVdUK23U7n5cW+jM2264USbx\n",
       "1ewIq1tbtfH/A95Za9kPThRGAAAAAElFTkSuQmCC\n",
       "\" style=\"display:inline;vertical-align:middle;\" /></a><br>(see <a class=\"ProveItLink\" href=\"../../../__pv_it/theorems/54e3c2db24af7190440701e30832062a218ff0a10/dependencies.ipynb\">dependencies</a>)<br>"
      ],
      "text/plain": [
       "mult_9_4: (9 * 4) = 36"
      ]
     },
     "execution_count": 2,
     "metadata": {},
     "output_type": "execute_result"
    }
   ],
   "source": [
    "%proving mult_9_4"
   ]
  },
  {
   "cell_type": "code",
   "execution_count": null,
   "metadata": {},
   "outputs": [],
   "source": []
  }
 ],
 "metadata": {
  "kernelspec": {
   "display_name": "Python 3",
   "language": "python",
   "name": "python3"
  }
 },
 "nbformat": 4,
 "nbformat_minor": 0
}