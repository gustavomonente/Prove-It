{
 "cells": [
  {
   "cell_type": "markdown",
   "metadata": {},
   "source": [
    "Proof of <a class=\"ProveItLink\" href=\"../../../../../../_theory_nbs_/theory.ipynb\">proveit</a>.<a class=\"ProveItLink\" href=\"../../../../../_theory_nbs_/theory.ipynb\">numbers</a>.<a class=\"ProveItLink\" href=\"../../../../_theory_nbs_/theory.ipynb\">numerals</a>.<a class=\"ProveItLink\" href=\"../../theory.ipynb\">decimals</a>.<a class=\"ProveItLink\" href=\"../../theorems.ipynb#count_to_5_range\">count_to_5_range</a> theorem\n",
    "========"
   ]
  },
  {
   "cell_type": "code",
   "execution_count": 1,
   "metadata": {},
   "outputs": [],
   "source": [
    "import proveit\n",
    "theory = proveit.Theory() # the theorem's theory"
   ]
  },
  {
   "cell_type": "code",
   "execution_count": 2,
   "metadata": {},
   "outputs": [
    {
     "data": {
      "text/html": [
       "Under these <a href=\"presumptions.txt\">presumptions</a>, we begin our proof of<br><strong id=\"count_to_5_range\">count_to_5_range:</strong> <a class=\"ProveItLink\" href=\"../../../__pv_it/theorems/6309892af025c56a3a01a12fb07d10c78cc95db20/expr.ipynb\"><img src=\"data:image/png;base64,iVBORw0KGgoAAAANSUhEUgAAANMAAAAUBAMAAADlxBXmAAAAMFBMVEX////MzMxUVFR2dna6uroQ\n",
       "EBCqqqqIiIgiIiJmZmYyMjJERETu7u6YmJjc3NwAAACgK8IjAAAAAXRSTlMAQObYZgAAAqBJREFU\n",
       "SMedlU1oE0EYht8kTdpNN6HgyZMFEamghvQg6sFcBG/2EA/+YONB8CDSi4dc2qVCURFcWxBKla4/\n",
       "lwqK3jzYdBHEag/mIkKxNeDFXPztQUrt+s23M9vtbGJiBzLzZnbmfebnmxkgW8V/pFQtWteOwyWR\n",
       "LYRr3kw9k937D5dUZcz2y8fu9hL2RW0W/k1Jf4zdRlwM8Qn9zrt+rdmLIwVWdaT+qLZdvX456P0C\n",
       "3ka9hEPqTFNU0vNyMB0gY8PcuV+iDBfJAVYjJfxWbS9L1IPdNLTEkG5FDniZX2s+q/ww5QdoyGJm\n",
       "nyQqaSG+zupoAatqKxYligtzQLdih0xzVJzzV8AXhFDpNcR/qABQC5hIh1F4qFuxQ0tUuoByGCXG\n",
       "qPrM56RYVqi9H25RflC3KrdCLZV7aMA2ZjXUcUn4fE2FypBCvcA3iplF1oceiTQj5GwLVLebXaEG\n",
       "DsY01KgSnUW5flAo6mUBF3SrsRYoSs9pPywUN6MMO/h+wq88F0IZFDM7dJ9ia9R0DbHvOqosy6/A\n",
       "HJ9hM6dQcQeJlS2g9kAcVkJtXsCULSCUPFeiUn2T0yf5LCUdGGR4LLRX99tZwFM0KxcdlhYW24Bh\n",
       "FqeBm6oy6c/KoPB0VFiEUquwoC25zmHBsTviwhQnNnulf9xitSTO1TvHRz1llbXxnk7rhG7FDp2E\n",
       "Eo24M/cL/tWROUsDzfF6jA/OVHGVJpH2PM9i1TE5VUDXDQ7BuZ9VVvX8Hcrv6SjhYOxaves3H1WX\n",
       "JmfCKjvRJ6x7/GuFNyUIjQ11ERFlWg0vJq151Grevyzl+UFE5aKq8XWrN49a0XWLitSvg9pAmUNR\n",
       "1eARqUQaNbByQg/bxlMaqAyiqtL8acxEPwVW3bU2n+vQam3xwV8G/gKZgs25sVZvSgAAAABJRU5E\n",
       "rkJggg==\n",
       "\" style=\"display:inline;vertical-align:middle;\" /></a><br>(see <a class=\"ProveItLink\" href=\"../../../__pv_it/theorems/c8a9215e2f69c53989a1ed9c25dc22b070b50e2f0/dependencies.ipynb\">dependencies</a>)<br>"
      ],
      "text/plain": [
       "count_to_5_range: (1, 2, 3, 4, 5) = (1, ..k.., 5)"
      ]
     },
     "execution_count": 2,
     "metadata": {},
     "output_type": "execute_result"
    }
   ],
   "source": [
    "%proving count_to_5_range"
   ]
  },
  {
   "cell_type": "code",
   "execution_count": null,
   "metadata": {},
   "outputs": [],
   "source": []
  }
 ],
 "metadata": {
  "kernelspec": {
   "display_name": "Python 3",
   "language": "python",
   "name": "python3"
  }
 },
 "nbformat": 4,
 "nbformat_minor": 0
}