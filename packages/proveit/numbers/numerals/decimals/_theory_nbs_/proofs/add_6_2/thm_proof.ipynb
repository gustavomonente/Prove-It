{
 "cells": [
  {
   "cell_type": "markdown",
   "metadata": {},
   "source": [
    "Proof of <a class=\"ProveItLink\" href=\"../../../../../../_theory_nbs_/theory.ipynb\">proveit</a>.<a class=\"ProveItLink\" href=\"../../../../../_theory_nbs_/theory.ipynb\">numbers</a>.<a class=\"ProveItLink\" href=\"../../../../_theory_nbs_/theory.ipynb\">numerals</a>.<a class=\"ProveItLink\" href=\"../../theory.ipynb\">decimals</a>.<a class=\"ProveItLink\" href=\"../../theorems.ipynb#add_6_2\">add_6_2</a> theorem\n",
    "========"
   ]
  },
  {
   "cell_type": "code",
   "execution_count": 1,
   "metadata": {},
   "outputs": [],
   "source": [
    "import proveit\n",
    "theory = proveit.Theory() # the theorem's theory"
   ]
  },
  {
   "cell_type": "code",
   "execution_count": 2,
   "metadata": {},
   "outputs": [
    {
     "data": {
      "text/html": [
       "Under these <a href=\"presumptions.txt\">presumptions</a>, we begin our proof of<br><strong id=\"add_6_2\">add_6_2:</strong> <a class=\"ProveItLink\" href=\"../../../__pv_it/theorems/558dabd9851562ef20039410a0c7a10a972078730/expr.ipynb\"><img src=\"data:image/png;base64,iVBORw0KGgoAAAANSUhEUgAAAGEAAAAUBAMAAABvx07iAAAAMFBMVEX///9UVFTMzMx2dna6uroQ\n",
       "EBCqqqqIiIgiIiJmZmYyMjJERETu7u6YmJjc3NwAAAC+aOQFAAAAAXRSTlMAQObYZgAAAYJJREFU\n",
       "KM91kztLA0EQgL8kktyZlyiIVuYfKFiEKGJKsTGFgoVIOrHQxkLs0mibgGkCFtHywEcrPjiLQFDB\n",
       "iIWdXGkZUEFEjXMXkbv1brhlb2f225nZnYFUC39ZD9BzIyO7kfHoErWzDCFL3ZrYzOVlOoLrvF73\n",
       "mK6IvJKoq4QOg5CswCnxk65upTvtwYJ4Vok1ORw0i57vP90vsQgjFg2VmIQmPEO8oBLHJiMZevMK\n",
       "MXfOFGxB+iBb9RIiZZNIRSFCnYciXMDdIVpRIXpeJEUn9YjhiENPf5iwI0QbfUkhtD6IlhQf0Wp5\n",
       "HuRLl0i+imLCMLYNY98x1mSE2wpxT+zNtAmtTvLL6yNW8SMkkNGiHVWo0PXhIlZJya2XXHlIlAk5\n",
       "IdSyMw9/ohc8RHiMmPWbuUuW5SUscvI3QMN7V8/juSEpijGFmDV5hBnb8W6/8oKdzjv0ZhQiPGxX\n",
       "ouap0BX3oulf7EnPw966F9mA/rgMapz/1e7qKF+JWwGGwK598lf/AMZtYzVfXNOgAAAAAElFTkSu\n",
       "QmCC\n",
       "\" style=\"display:inline;vertical-align:middle;\" /></a><br>(see <a class=\"ProveItLink\" href=\"../../../__pv_it/theorems/c775f8a0e4751020d36d9dcbb51988522e1fafbe0/dependencies.ipynb\">dependencies</a>)<br>"
      ],
      "text/plain": [
       "add_6_2: (6 + 2) = 8"
      ]
     },
     "execution_count": 2,
     "metadata": {},
     "output_type": "execute_result"
    }
   ],
   "source": [
    "%proving add_6_2"
   ]
  },
  {
   "cell_type": "code",
   "execution_count": null,
   "metadata": {},
   "outputs": [],
   "source": []
  }
 ],
 "metadata": {
  "kernelspec": {
   "display_name": "Python 3",
   "language": "python",
   "name": "python3"
  }
 },
 "nbformat": 4,
 "nbformat_minor": 0
}