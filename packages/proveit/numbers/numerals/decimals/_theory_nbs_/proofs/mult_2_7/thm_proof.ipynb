{
 "cells": [
  {
   "cell_type": "markdown",
   "metadata": {},
   "source": [
    "Proof of <a class=\"ProveItLink\" href=\"../../../../../../_theory_nbs_/theory.ipynb\">proveit</a>.<a class=\"ProveItLink\" href=\"../../../../../_theory_nbs_/theory.ipynb\">numbers</a>.<a class=\"ProveItLink\" href=\"../../../../_theory_nbs_/theory.ipynb\">numerals</a>.<a class=\"ProveItLink\" href=\"../../theory.ipynb\">decimals</a>.<a class=\"ProveItLink\" href=\"../../theorems.ipynb#mult_2_7\">mult_2_7</a> theorem\n",
    "========"
   ]
  },
  {
   "cell_type": "code",
   "execution_count": 1,
   "metadata": {},
   "outputs": [],
   "source": [
    "import proveit\n",
    "theory = proveit.Theory() # the theorem's theory"
   ]
  },
  {
   "cell_type": "code",
   "execution_count": 2,
   "metadata": {},
   "outputs": [
    {
     "data": {
      "text/html": [
       "Under these <a href=\"presumptions.txt\">presumptions</a>, we begin our proof of<br><strong id=\"mult_2_7\">mult_2_7:</strong> <a class=\"ProveItLink\" href=\"../../../__pv_it/theorems/0c425072834a0189485f8a37c76a10bda961c1470/expr.ipynb\"><img src=\"data:image/png;base64,iVBORw0KGgoAAAANSUhEUgAAAGEAAAAUBAMAAABvx07iAAAAMFBMVEX///9UVFTMzMx2dna6uroQ\n",
       "EBCqqqqIiIgiIiJmZmYyMjJERETu7u6YmJjc3NwAAAC+aOQFAAAAAXRSTlMAQObYZgAAAWdJREFU\n",
       "KM9jYOC7wIAB8hjwgdMMDCdnb4JzNSSNjQ0YH+BQzDQBSKxj4BFgsHeAid3///+/AM8CDLVsMSCS\n",
       "Q4CBgXcCA+cBBtYAmMw8BgZGBgZzdA0HDf+AqFKgDo4HDKwNDIz/YFIGDAxGDAxHMezgBenguwXU\n",
       "8YKBgesPA+MnhBxLAVDIAasOZi6gjkown+MPQo4bJDUBq457IB17wXx/A4ScLUge7HWrVSCwEq6D\n",
       "pwCkow3MbwQRPGAmzwdQyDRgs4OZAaQjBMTlBDviPNhgdhDJ9AGbjiSEDqhnBMDkBlw6eAwYYK5i\n",
       "m8DwDi7FD9LH0oDwx0KYDjbJmfMjC8A+V2ZgqIPr0J8A9zlGWDGwAo2zBMZLs/FEhE/zQcHGaYCu\n",
       "gx2iA+hkD2B0AZMSQsfTBCDBpYCmgVP011xgYO3/eAGUSrCAE3gSO+8EbKLm+PLHPixiWFI7ao7C\n",
       "ANwP8OnAlmvv4VEPAMVJWMhhNUu9AAAAAElFTkSuQmCC\n",
       "\" style=\"display:inline;vertical-align:middle;\" /></a><br>(see <a class=\"ProveItLink\" href=\"../../../__pv_it/theorems/d108d3cf9821587bc5f8e9310273a37d8dd188e60/dependencies.ipynb\">dependencies</a>)<br>"
      ],
      "text/plain": [
       "mult_2_7: (2 * 7) = 14"
      ]
     },
     "execution_count": 2,
     "metadata": {},
     "output_type": "execute_result"
    }
   ],
   "source": [
    "%proving mult_2_7"
   ]
  },
  {
   "cell_type": "code",
   "execution_count": null,
   "metadata": {},
   "outputs": [],
   "source": []
  }
 ],
 "metadata": {
  "kernelspec": {
   "display_name": "Python 3",
   "language": "python",
   "name": "python3"
  }
 },
 "nbformat": 4,
 "nbformat_minor": 0
}