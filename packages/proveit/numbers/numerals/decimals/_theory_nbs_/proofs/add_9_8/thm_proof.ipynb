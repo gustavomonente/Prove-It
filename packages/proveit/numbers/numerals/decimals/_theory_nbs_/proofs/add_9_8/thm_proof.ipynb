{
 "cells": [
  {
   "cell_type": "markdown",
   "metadata": {},
   "source": [
    "Proof of <a class=\"ProveItLink\" href=\"../../../../../../_theory_nbs_/theory.ipynb\">proveit</a>.<a class=\"ProveItLink\" href=\"../../../../../_theory_nbs_/theory.ipynb\">numbers</a>.<a class=\"ProveItLink\" href=\"../../../../_theory_nbs_/theory.ipynb\">numerals</a>.<a class=\"ProveItLink\" href=\"../../theory.ipynb\">decimals</a>.<a class=\"ProveItLink\" href=\"../../theorems.ipynb#add_9_8\">add_9_8</a> theorem\n",
    "========"
   ]
  },
  {
   "cell_type": "code",
   "execution_count": 1,
   "metadata": {},
   "outputs": [],
   "source": [
    "import proveit\n",
    "theory = proveit.Theory() # the theorem's theory"
   ]
  },
  {
   "cell_type": "code",
   "execution_count": 2,
   "metadata": {},
   "outputs": [
    {
     "data": {
      "text/html": [
       "Under these <a href=\"presumptions.txt\">presumptions</a>, we begin our proof of<br><strong id=\"add_9_8\">add_9_8:</strong> <a class=\"ProveItLink\" href=\"../../../__pv_it/theorems/3a6bc970e8e9bf0c39a5fccdf2ee1066360782780/expr.ipynb\"><img src=\"data:image/png;base64,iVBORw0KGgoAAAANSUhEUgAAAG0AAAAUBAMAAAB1+65sAAAAMFBMVEX////MzMxUVFR2dna6uroQ\n",
       "EBCqqqqIiIgiIiJmZmYyMjJERETu7u6YmJjc3NwAAACgK8IjAAAAAXRSTlMAQObYZgAAAY1JREFU\n",
       "OMuVlL9Lw1AQx79t7A9LUkX/gAacbYeAoFM3O3YQp4qCSHUTnHRpEXRxCdbFTcXF0Eo3J0s2sQrt\n",
       "JrjYRXDUqgXRGu+1lfaapOLBy7v345P75nLvAeEqnM1fwyC7Aa61aN/k1cYBEHXc79nOaRr155AX\n",
       "8GjyRR3eJZTt0IoJxbKsOqDQliS8ens+3ZFYhXwEab2PkidiJoZJvgoEaxihLc+Mk4qQs5CTtngP\n",
       "JiRaHgWegEoRgW/GDX2aEqXr1Ikjm6W2Cfgo3hvjEGtO0XPahStSu4QQGWpyTrLy9LxvuUbL9C4n\n",
       "pGCX2gWWG5xbS7zHgVXneBXhzYn03Y2/UDdjGDuGcUKeoiKTAiLO3NYvB3i/WDyfCU/DldtDRycQ\n",
       "UhknlEwCiZ7vU7tcHe28KClEajweDUudvNjieT7QznUgLxfA/18eChVLzsZliPO/Ck9o0Q7jnMNY\n",
       "juoax/3Y/uJZFeF54QbZaUmzcswOOEaK3ju67R3Y6ppZyXWl/Ne5/fcbhbneE8qge+IHPMd1qPvf\n",
       "AnwAAAAASUVORK5CYII=\n",
       "\" style=\"display:inline;vertical-align:middle;\" /></a><br>(see <a class=\"ProveItLink\" href=\"../../../__pv_it/theorems/b258af6475803990da2a773c3c9dc5ae6802805d0/dependencies.ipynb\">dependencies</a>)<br>"
      ],
      "text/plain": [
       "add_9_8: (9 + 8) = 17"
      ]
     },
     "execution_count": 2,
     "metadata": {},
     "output_type": "execute_result"
    }
   ],
   "source": [
    "%proving add_9_8"
   ]
  },
  {
   "cell_type": "code",
   "execution_count": null,
   "metadata": {},
   "outputs": [],
   "source": []
  }
 ],
 "metadata": {
  "kernelspec": {
   "display_name": "Python 3",
   "language": "python",
   "name": "python3"
  }
 },
 "nbformat": 4,
 "nbformat_minor": 0
}