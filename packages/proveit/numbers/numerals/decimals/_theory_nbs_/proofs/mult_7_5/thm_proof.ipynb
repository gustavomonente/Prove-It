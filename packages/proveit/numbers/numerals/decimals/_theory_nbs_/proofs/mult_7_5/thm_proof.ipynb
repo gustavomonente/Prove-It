{
 "cells": [
  {
   "cell_type": "markdown",
   "metadata": {},
   "source": [
    "Proof of <a class=\"ProveItLink\" href=\"../../../../../../_theory_nbs_/theory.ipynb\">proveit</a>.<a class=\"ProveItLink\" href=\"../../../../../_theory_nbs_/theory.ipynb\">numbers</a>.<a class=\"ProveItLink\" href=\"../../../../_theory_nbs_/theory.ipynb\">numerals</a>.<a class=\"ProveItLink\" href=\"../../theory.ipynb\">decimals</a>.<a class=\"ProveItLink\" href=\"../../theorems.ipynb#mult_7_5\">mult_7_5</a> theorem\n",
    "========"
   ]
  },
  {
   "cell_type": "code",
   "execution_count": 1,
   "metadata": {},
   "outputs": [],
   "source": [
    "import proveit\n",
    "theory = proveit.Theory() # the theorem's theory"
   ]
  },
  {
   "cell_type": "code",
   "execution_count": 2,
   "metadata": {},
   "outputs": [
    {
     "data": {
      "text/html": [
       "Under these <a href=\"presumptions.txt\">presumptions</a>, we begin our proof of<br><strong id=\"mult_7_5\">mult_7_5:</strong> <a class=\"ProveItLink\" href=\"../../../__pv_it/theorems/e40364960b0e06bd7620018e055bf6bfec7007b50/expr.ipynb\"><img src=\"data:image/png;base64,iVBORw0KGgoAAAANSUhEUgAAAGEAAAAUBAMAAABvx07iAAAAMFBMVEX///9UVFTMzMx2dna6uroQ\n",
       "EBCqqqqIiIgiIiJmZmYyMjJERETu7u6YmJjc3NwAAAC+aOQFAAAAAXRSTlMAQObYZgAAAWlJREFU\n",
       "KM9jYOC7wIAB8hjwgdMMTI2TjY1hXK47TNMYGB+gq+Iztk6AyDEwrGPg/f///0eYFOv//wYMPAvQ\n",
       "dbxkYPsLkWPgncDACTRRAG6HYR2QNEfXUZ/A8AMqx/GAgZmBgVkBJsUIJo+i63B1YPgFlXsBJt0Z\n",
       "UHVwOWD4F+gqiFwlmNyA0HG3Emgf8wQMHScMoHJ7QTxmRAhzH+D7AvQd2OtWq0BgJVj8cecBqFwb\n",
       "iHseLMgD1bQD6IQGDDvYQ6ByYLoKLHYeGqbzHzAwfcCMuNADEDmwjm6wEAcoiKUYGOwdMHW8Y2DY\n",
       "nwCRA7vqI0IqCmjOAQaWBoQ/FoKY/w8AdUDkQD5n+onQAQykLpjPkUA0A0P/AYicJSioPyMnB944\n",
       "BgZOAzQdd0HxAZHzACWzMKQkN1kS6EMuBTQdLDNnO0DlOB5gS9An8CR23gnYRM3x5Y99WMQwUztq\n",
       "jsIE3A/w6cCWa+/hUQ8AL/BmIpDZC8kAAAAASUVORK5CYII=\n",
       "\" style=\"display:inline;vertical-align:middle;\" /></a><br>(see <a class=\"ProveItLink\" href=\"../../../__pv_it/theorems/6d02c7c35ba6ff289099601a93b7e3bdb78a8e830/dependencies.ipynb\">dependencies</a>)<br>"
      ],
      "text/plain": [
       "mult_7_5: (7 * 5) = 35"
      ]
     },
     "execution_count": 2,
     "metadata": {},
     "output_type": "execute_result"
    }
   ],
   "source": [
    "%proving mult_7_5"
   ]
  },
  {
   "cell_type": "code",
   "execution_count": null,
   "metadata": {},
   "outputs": [],
   "source": []
  }
 ],
 "metadata": {
  "kernelspec": {
   "display_name": "Python 3",
   "language": "python",
   "name": "python3"
  }
 },
 "nbformat": 4,
 "nbformat_minor": 0
}