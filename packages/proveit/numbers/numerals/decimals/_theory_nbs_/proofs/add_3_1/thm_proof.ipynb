{
 "cells": [
  {
   "cell_type": "markdown",
   "metadata": {},
   "source": [
    "Proof of <a class=\"ProveItLink\" href=\"../../../../../../_theory_nbs_/theory.ipynb\">proveit</a>.<a class=\"ProveItLink\" href=\"../../../../../_theory_nbs_/theory.ipynb\">numbers</a>.<a class=\"ProveItLink\" href=\"../../../../_theory_nbs_/theory.ipynb\">numerals</a>.<a class=\"ProveItLink\" href=\"../../theory.ipynb\">decimals</a>.<a class=\"ProveItLink\" href=\"../../theorems.ipynb#add_3_1\">add_3_1</a> theorem\n",
    "========"
   ]
  },
  {
   "cell_type": "code",
   "execution_count": 1,
   "metadata": {},
   "outputs": [],
   "source": [
    "import proveit\n",
    "theory = proveit.Theory() # the theorem's theory"
   ]
  },
  {
   "cell_type": "code",
   "execution_count": 2,
   "metadata": {},
   "outputs": [
    {
     "data": {
      "text/html": [
       "Under these <a href=\"presumptions.txt\">presumptions</a>, we begin our proof of<br><strong id=\"add_3_1\">add_3_1:</strong> <a class=\"ProveItLink\" href=\"../../../__pv_it/theorems/c052886c93012bf6124254ac05454ef8064cb9810/expr.ipynb\"><img src=\"data:image/png;base64,iVBORw0KGgoAAAANSUhEUgAAAGEAAAAUBAMAAABvx07iAAAAMFBMVEX////MzMxUVFR2dna6uroQ\n",
       "EBCqqqqIiIgiIiJmZmYyMjJERETu7u6YmJjc3NwAAACgK8IjAAAAAXRSTlMAQObYZgAAAT5JREFU\n",
       "KM9jYOC7wIAd5OEQZzjNwPDYeBsWCaYHmGKME4DEOga+CQz5aBaxxTAw8CzA1MGhwMDAO4GB/RsD\n",
       "fwNEJB1CHTL6AyTNMXWUAnVwPGBgCWHgX4Cig4EXpOMohga+W0AdL8BMmKtQdHA5oOtg5gLqqASx\n",
       "eJoZsOhgnoCu4x5Ix16QZRZzsOngBTuVeRUYgHTzFIB0tEF85IBFB1sDuqMYQDpCwGxWYGgyWK1a\n",
       "1bpq1SK4DsYPaDoSYTr4HjBwf8NiB7oOHgMGqKv4/2DXwdKA5A+gUjbNmfMjC0A+Z93AwPEHp89R\n",
       "ACtQoyVQ5gJGfLCDdHAaYOrYwMDgAaQ9Z25BDV1O1V9zgTEogBGD+z9dAKUSJJCOzDmBPbHzokTs\n",
       "GWSOOY78sQ9XxsGW2mE5CjvgfoBDAmeuvYddGADEdVfClWutYAAAAABJRU5ErkJggg==\n",
       "\" style=\"display:inline;vertical-align:middle;\" /></a><br>(see <a class=\"ProveItLink\" href=\"../../../__pv_it/theorems/5e0d8f2d8945e9e94860b50da2bdfb43820f3d640/dependencies.ipynb\">dependencies</a>)<br>"
      ],
      "text/plain": [
       "add_3_1: (3 + 1) = 4"
      ]
     },
     "execution_count": 2,
     "metadata": {},
     "output_type": "execute_result"
    }
   ],
   "source": [
    "%proving add_3_1"
   ]
  },
  {
   "cell_type": "code",
   "execution_count": null,
   "metadata": {},
   "outputs": [],
   "source": []
  }
 ],
 "metadata": {
  "kernelspec": {
   "display_name": "Python 3",
   "language": "python",
   "name": "python3"
  }
 },
 "nbformat": 4,
 "nbformat_minor": 0
}