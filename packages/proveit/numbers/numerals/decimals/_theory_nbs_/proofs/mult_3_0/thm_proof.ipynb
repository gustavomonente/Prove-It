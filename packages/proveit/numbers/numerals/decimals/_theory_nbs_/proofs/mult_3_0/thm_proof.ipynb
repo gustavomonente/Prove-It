{
 "cells": [
  {
   "cell_type": "markdown",
   "metadata": {},
   "source": [
    "Proof of <a class=\"ProveItLink\" href=\"../../../../../../_theory_nbs_/theory.ipynb\">proveit</a>.<a class=\"ProveItLink\" href=\"../../../../../_theory_nbs_/theory.ipynb\">numbers</a>.<a class=\"ProveItLink\" href=\"../../../../_theory_nbs_/theory.ipynb\">numerals</a>.<a class=\"ProveItLink\" href=\"../../theory.ipynb\">decimals</a>.<a class=\"ProveItLink\" href=\"../../theorems.ipynb#mult_3_0\">mult_3_0</a> theorem\n",
    "========"
   ]
  },
  {
   "cell_type": "code",
   "execution_count": 1,
   "metadata": {},
   "outputs": [],
   "source": [
    "import proveit\n",
    "theory = proveit.Theory() # the theorem's theory"
   ]
  },
  {
   "cell_type": "code",
   "execution_count": 2,
   "metadata": {},
   "outputs": [
    {
     "data": {
      "text/html": [
       "Under these <a href=\"presumptions.txt\">presumptions</a>, we begin our proof of<br><strong id=\"mult_3_0\">mult_3_0:</strong> <a class=\"ProveItLink\" href=\"../../../__pv_it/theorems/495de72dedb2cfaaf49bf5fc600692f0142db2380/expr.ipynb\"><img src=\"data:image/png;base64,iVBORw0KGgoAAAANSUhEUgAAAFcAAAAUBAMAAAAKKrydAAAAMFBMVEX////MzMxUVFR2dna6uroQ\n",
       "EBCqqqqIiIgiIiJmZmYyMjJERETu7u6YmJjc3NwAAACgK8IjAAAAAXRSTlMAQObYZgAAAUVJREFU\n",
       "KM91kzFLw0AUx/9qqzG9XPoN6kcoOEQ7OeokQkeHfIKmCA5uAcFRsgoOwU0HEREXUboIgoMFcbUB\n",
       "F0dRKAgdfLlLcuZyeUN498uPd+8uLwAfoxID1MQz8LF6q9beaxvzSUVLMXAJHiEoyts+OwaLdVdg\n",
       "OBGWpnDDnL4BPaqjyxJbCRp9uEWpayAY4VGXJf4UuWrjG9j2YW9ossQHacoOc8h+iQ6xEJXdDN9T\n",
       "ytdOc8p/gM4Qjmird5HGucJHwtlPt2UppRKdLhbDcuUM98WiuUuPl7jYb+7L2AbJPEFrSsRakScJ\n",
       "/IqcYWrDnUlZxB0wGaERqp7PFKYDNq9gzcq378TGj7JOb8b/7tny2Q6w3NVkiTcp2zq5UUfx9mhi\n",
       "7LYmS2wlplF8Mk+oE5moVzPPDwZWHVE1/JVoJTWy6bd6N6t/Cq5dy2Xz1ZIAAAAASUVORK5CYII=\n",
       "\" style=\"display:inline;vertical-align:middle;\" /></a><br>(see <a class=\"ProveItLink\" href=\"../../../__pv_it/theorems/61e77476452835a8ef9530f71f4c8f44d038b0ca0/dependencies.ipynb\">dependencies</a>)<br>"
      ],
      "text/plain": [
       "mult_3_0: (3 * 0) = 0"
      ]
     },
     "execution_count": 2,
     "metadata": {},
     "output_type": "execute_result"
    }
   ],
   "source": [
    "%proving mult_3_0"
   ]
  },
  {
   "cell_type": "code",
   "execution_count": null,
   "metadata": {},
   "outputs": [],
   "source": []
  }
 ],
 "metadata": {
  "kernelspec": {
   "display_name": "Python 3",
   "language": "python",
   "name": "python3"
  }
 },
 "nbformat": 4,
 "nbformat_minor": 0
}