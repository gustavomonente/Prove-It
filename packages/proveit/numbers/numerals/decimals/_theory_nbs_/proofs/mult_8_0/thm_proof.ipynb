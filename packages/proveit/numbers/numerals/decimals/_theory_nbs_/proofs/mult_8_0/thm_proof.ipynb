{
 "cells": [
  {
   "cell_type": "markdown",
   "metadata": {},
   "source": [
    "Proof of <a class=\"ProveItLink\" href=\"../../../../../../_theory_nbs_/theory.ipynb\">proveit</a>.<a class=\"ProveItLink\" href=\"../../../../../_theory_nbs_/theory.ipynb\">numbers</a>.<a class=\"ProveItLink\" href=\"../../../../_theory_nbs_/theory.ipynb\">numerals</a>.<a class=\"ProveItLink\" href=\"../../theory.ipynb\">decimals</a>.<a class=\"ProveItLink\" href=\"../../theorems.ipynb#mult_8_0\">mult_8_0</a> theorem\n",
    "========"
   ]
  },
  {
   "cell_type": "code",
   "execution_count": 1,
   "metadata": {},
   "outputs": [],
   "source": [
    "import proveit\n",
    "theory = proveit.Theory() # the theorem's theory"
   ]
  },
  {
   "cell_type": "code",
   "execution_count": 2,
   "metadata": {},
   "outputs": [
    {
     "data": {
      "text/html": [
       "Under these <a href=\"presumptions.txt\">presumptions</a>, we begin our proof of<br><strong id=\"mult_8_0\">mult_8_0:</strong> <a class=\"ProveItLink\" href=\"../../../__pv_it/theorems/26567ea4f9e591171a705e41cd4a41a631a986840/expr.ipynb\"><img src=\"data:image/png;base64,iVBORw0KGgoAAAANSUhEUgAAAFcAAAAUBAMAAAAKKrydAAAAMFBMVEX////MzMxUVFR2dna6uroQ\n",
       "EBCqqqqIiIgiIiJmZmYyMjJERETu7u6YmJjc3NwAAACgK8IjAAAAAXRSTlMAQObYZgAAAUtJREFU\n",
       "KM91kzFLw0AUx/9t2hLjXSl+gfYLiJ0MdnLsJoKjQ1YXG3RyMpOjBPQDBDeliLiKJYsoOLQgrprR\n",
       "URQFEdGXXq5nLpc3vfvlz7v33v0DNCcoxDZK4h643T1WZ/ehhWpSkKUYOAdCVD0JHY8dgkW6dorB\n",
       "QzQm/74+Aj2qo4sFthNYF2CBpJfAIMaNLhb4Bah9x9ZsyjdgzYOzqokF3qNs6WdZQvZF1IcV5rUZ\n",
       "vqbU+h1K2nwH2j74dIbeWRqnCh9QutX/SK9lKaUS7S4aQb5yhjdoIR3sbxIZR7P7Kq/GNkhcj1H5\n",
       "JGJ3xCQDryDOMLUxpsOipFfAc4xaoHo+UZgGrNPjjvLb55HxUVZoz0NwX1LbY+vAXFcTC9ynbOFI\n",
       "GYm5O+QYp6WJBbYTkxXvzA7loYm6JX4eGVjRosr8hZhPSsSm3+rJLP0DFiBfNdbuuS4AAAAASUVO\n",
       "RK5CYII=\n",
       "\" style=\"display:inline;vertical-align:middle;\" /></a><br>(see <a class=\"ProveItLink\" href=\"../../../__pv_it/theorems/312fbe96a1c5c0b05667804c9500ddac478e65e00/dependencies.ipynb\">dependencies</a>)<br>"
      ],
      "text/plain": [
       "mult_8_0: (8 * 0) = 0"
      ]
     },
     "execution_count": 2,
     "metadata": {},
     "output_type": "execute_result"
    }
   ],
   "source": [
    "%proving mult_8_0"
   ]
  },
  {
   "cell_type": "code",
   "execution_count": null,
   "metadata": {},
   "outputs": [],
   "source": []
  }
 ],
 "metadata": {
  "kernelspec": {
   "display_name": "Python 3",
   "language": "python",
   "name": "python3"
  }
 },
 "nbformat": 4,
 "nbformat_minor": 0
}