{
 "cells": [
  {
   "cell_type": "markdown",
   "metadata": {},
   "source": [
    "Proof of <a class=\"ProveItLink\" href=\"../../../../../../_theory_nbs_/theory.ipynb\">proveit</a>.<a class=\"ProveItLink\" href=\"../../../../../_theory_nbs_/theory.ipynb\">numbers</a>.<a class=\"ProveItLink\" href=\"../../../../_theory_nbs_/theory.ipynb\">numerals</a>.<a class=\"ProveItLink\" href=\"../../theory.ipynb\">decimals</a>.<a class=\"ProveItLink\" href=\"../../theorems.ipynb#add_2_0\">add_2_0</a> theorem\n",
    "========"
   ]
  },
  {
   "cell_type": "code",
   "execution_count": 1,
   "metadata": {},
   "outputs": [],
   "source": [
    "import proveit\n",
    "theory = proveit.Theory() # the theorem's theory"
   ]
  },
  {
   "cell_type": "code",
   "execution_count": 2,
   "metadata": {},
   "outputs": [
    {
     "data": {
      "text/html": [
       "Under these <a href=\"presumptions.txt\">presumptions</a>, we begin our proof of<br><strong id=\"add_2_0\">add_2_0:</strong> <a class=\"ProveItLink\" href=\"../../../__pv_it/theorems/7c28dc4761d9e43abb8deb2359065e6a99d9ff900/expr.ipynb\"><img src=\"data:image/png;base64,iVBORw0KGgoAAAANSUhEUgAAAGEAAAAUBAMAAABvx07iAAAAMFBMVEX///9UVFTMzMx2dna6uroQ\n",
       "EBCqqqqIiIgiIiJmZmYyMjJERETu7u6YmJjc3NwAAAC+aOQFAAAAAXRSTlMAQObYZgAAAXBJREFU\n",
       "KM91k71Lw1AQwH+13zUtHd1a8A9ooENpFzu6VUTBMVtxsXXsIhXRUetYdNA1g6JrUeIgKDoI4qoZ\n",
       "O4lfg0Ixvqaiea/JLe/eXX7v7nJ3kLnDX1YC7NzA9d6pYizd5wnZ6qdat5cXxxFalpmq5EoZ2jba\n",
       "gUpcEP6AdIekRXRuZKuPjgeoiEAqsQ+LkLCJtgl9S8QJNCwuVWIJcjZ9kcOA0JtEvELNIFVViGOL\n",
       "XJ6WqycGXkL7EkSTcGf8P+1YnLlKTfcSmXcoNEm7pYdNV0Z0RHi2XG0diRAxCjqx9liIRBYWhkrS\n",
       "faFimpumefiX1cTLGNHll2iBWnnD8CHiw5eHWcU6PEtED54sIm1PHdmhvkzGdiufhjWfDqbVpk/o\n",
       "xG3KotCN4m5bIhKGNi+q0xWiXyxPwazooOM4MqGVVsXIpfJqBx3n050Sj9S9lyv/YU9Ljb2VRj5g\n",
       "P86DFmd82v83yl8m7QBH4NY++pt/AFsJY0BZfdETAAAAAElFTkSuQmCC\n",
       "\" style=\"display:inline;vertical-align:middle;\" /></a><br>(see <a class=\"ProveItLink\" href=\"../../../__pv_it/theorems/7603db0a32e51cbb1de8f2b283501aa75fa490e60/dependencies.ipynb\">dependencies</a>)<br>"
      ],
      "text/plain": [
       "add_2_0: (2 + 0) = 2"
      ]
     },
     "execution_count": 2,
     "metadata": {},
     "output_type": "execute_result"
    }
   ],
   "source": [
    "%proving add_2_0"
   ]
  },
  {
   "cell_type": "code",
   "execution_count": null,
   "metadata": {},
   "outputs": [],
   "source": []
  }
 ],
 "metadata": {
  "kernelspec": {
   "display_name": "Python 3",
   "language": "python",
   "name": "python3"
  }
 },
 "nbformat": 4,
 "nbformat_minor": 0
}