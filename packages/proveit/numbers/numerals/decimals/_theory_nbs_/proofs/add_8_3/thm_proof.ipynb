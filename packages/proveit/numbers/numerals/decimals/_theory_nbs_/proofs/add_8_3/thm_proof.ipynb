{
 "cells": [
  {
   "cell_type": "markdown",
   "metadata": {},
   "source": [
    "Proof of <a class=\"ProveItLink\" href=\"../../../../../../_theory_nbs_/theory.ipynb\">proveit</a>.<a class=\"ProveItLink\" href=\"../../../../../_theory_nbs_/theory.ipynb\">numbers</a>.<a class=\"ProveItLink\" href=\"../../../../_theory_nbs_/theory.ipynb\">numerals</a>.<a class=\"ProveItLink\" href=\"../../theory.ipynb\">decimals</a>.<a class=\"ProveItLink\" href=\"../../theorems.ipynb#add_8_3\">add_8_3</a> theorem\n",
    "========"
   ]
  },
  {
   "cell_type": "code",
   "execution_count": 1,
   "metadata": {},
   "outputs": [],
   "source": [
    "import proveit\n",
    "theory = proveit.Theory() # the theorem's theory"
   ]
  },
  {
   "cell_type": "code",
   "execution_count": 2,
   "metadata": {},
   "outputs": [
    {
     "data": {
      "text/html": [
       "Under these <a href=\"presumptions.txt\">presumptions</a>, we begin our proof of<br><strong id=\"add_8_3\">add_8_3:</strong> <a class=\"ProveItLink\" href=\"../../../__pv_it/theorems/672f9ed55887d9ad8464d335c08b9fe07cb3ecbc0/expr.ipynb\"><img src=\"data:image/png;base64,iVBORw0KGgoAAAANSUhEUgAAAGsAAAAUBAMAAAB45d4rAAAAMFBMVEX////MzMxUVFR2dna6uroQ\n",
       "EBCqqqqIiIgiIiJmZmYyMjJERETu7u6YmJjc3NwAAACgK8IjAAAAAXRSTlMAQObYZgAAAVlJREFU\n",
       "OMtjYOC7wIAdsD1gwANOMzAcL56CJvjYeBsDgx4+besYGCYwMCWgiPFNYMi/wHAKU3HqASjBO4GB\n",
       "7QIDzwKIcDqEYv/GwN/AwFyApolHWf8AhGDgeMDAvIGBpwFFG0sIA/8CBp4ADNvuH4ASL4CKfh9g\n",
       "voCiDQiAjmRYgltbJZDW/2vGgKaNpxlIWOLWthdIM/9fg6aNz2IOkLwFYjKvAoMJqNragHSmx1cH\n",
       "dEeWAkUycNsWAgxMBYb6GCDXatWq1lWrFkEUsAJF5PFqYz3AwPgNxTa+Bwzc3/BqAzryPJCpi6KN\n",
       "/w9YmweS3xQwgoQVmPj2oWhj3cDA8QcaJNhtAwYyyxoG3gIUbbwXwPE2GUNb/QEoAXKI0OQpaBHg\n",
       "OXMLkFyIrmtS/MoLEIIDJXukoyTBBtwZgHcCMu8MMgcjKSODfThlThHIpiQbCIpaXIUCL55CAQCg\n",
       "G3tE7gH/KAAAAABJRU5ErkJggg==\n",
       "\" style=\"display:inline;vertical-align:middle;\" /></a><br>(see <a class=\"ProveItLink\" href=\"../../../__pv_it/theorems/30dcb5d912b4d559f75bf60863ad05a1094863b40/dependencies.ipynb\">dependencies</a>)<br>"
      ],
      "text/plain": [
       "add_8_3: (8 + 3) = 11"
      ]
     },
     "execution_count": 2,
     "metadata": {},
     "output_type": "execute_result"
    }
   ],
   "source": [
    "%proving add_8_3"
   ]
  },
  {
   "cell_type": "code",
   "execution_count": null,
   "metadata": {},
   "outputs": [],
   "source": []
  }
 ],
 "metadata": {
  "kernelspec": {
   "display_name": "Python 3",
   "language": "python",
   "name": "python3"
  }
 },
 "nbformat": 4,
 "nbformat_minor": 0
}