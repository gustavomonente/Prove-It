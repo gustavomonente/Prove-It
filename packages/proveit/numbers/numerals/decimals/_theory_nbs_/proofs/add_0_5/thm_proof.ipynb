{
 "cells": [
  {
   "cell_type": "markdown",
   "metadata": {},
   "source": [
    "Proof of <a class=\"ProveItLink\" href=\"../../../../../../_theory_nbs_/theory.ipynb\">proveit</a>.<a class=\"ProveItLink\" href=\"../../../../../_theory_nbs_/theory.ipynb\">numbers</a>.<a class=\"ProveItLink\" href=\"../../../../_theory_nbs_/theory.ipynb\">numerals</a>.<a class=\"ProveItLink\" href=\"../../theory.ipynb\">decimals</a>.<a class=\"ProveItLink\" href=\"../../theorems.ipynb#add_0_5\">add_0_5</a> theorem\n",
    "========"
   ]
  },
  {
   "cell_type": "code",
   "execution_count": 1,
   "metadata": {},
   "outputs": [],
   "source": [
    "import proveit\n",
    "theory = proveit.Theory() # the theorem's theory"
   ]
  },
  {
   "cell_type": "code",
   "execution_count": 2,
   "metadata": {},
   "outputs": [
    {
     "data": {
      "text/html": [
       "Under these <a href=\"presumptions.txt\">presumptions</a>, we begin our proof of<br><strong id=\"add_0_5\">add_0_5:</strong> <a class=\"ProveItLink\" href=\"../../../__pv_it/theorems/ac9983827de5f010462232f03fab52ff90e4931e0/expr.ipynb\"><img src=\"data:image/png;base64,iVBORw0KGgoAAAANSUhEUgAAAGEAAAAUBAMAAABvx07iAAAAMFBMVEX///9UVFTMzMx2dna6uroQ\n",
       "EBCqqqqIiIgiIiJmZmYyMjJERETu7u6YmJjc3NwAAAC+aOQFAAAAAXRSTlMAQObYZgAAAUxJREFU\n",
       "KM91kzFLw0AYht8mMdTGi8FNp/yE6FJ0saOjQycH126u0kHpooNTQHBVF4cM4uiiBKRQUNAfoJJR\n",
       "JwVFF6F+3tU2393lG47cc3ku9+bugPAB9tqq4LgF3J0lzhqPzhFqhf6qxMA5cIYBH50aDhPMnOiG\n",
       "xBApxDrc0WhnNNniLrVN4xsS1wsEEfwfZtRk29cNhV+A2Qjel8VotKxGF7hP4X1z46kb0w9JdUPi\n",
       "K+AtgcONIA8/KaIM52ay0jHeJyOF88EMqkvA75l7Qbg9WdVKlu1l2akaOi7gvJsG4bZM7vPkC8Bq\n",
       "yzQUplUFFxD8727QZDm8XilHNMaU3NxBinnwn7xUCi/jL30/ZsYrxCYwnWiGwmv0dLM9B2aEh/M5\n",
       "7WCsGQrX2RnslDsD+2EXbGPvyp1mxf24rro45mmf3Ch7BUXFQOWtfbbjX+AzYWBYU3h1AAAAAElF\n",
       "TkSuQmCC\n",
       "\" style=\"display:inline;vertical-align:middle;\" /></a><br>(see <a class=\"ProveItLink\" href=\"../../../__pv_it/theorems/a6340ccf652a8f92428a0fb37e28740d5ffec2c60/dependencies.ipynb\">dependencies</a>)<br>"
      ],
      "text/plain": [
       "add_0_5: (0 + 5) = 5"
      ]
     },
     "execution_count": 2,
     "metadata": {},
     "output_type": "execute_result"
    }
   ],
   "source": [
    "%proving add_0_5"
   ]
  },
  {
   "cell_type": "code",
   "execution_count": null,
   "metadata": {},
   "outputs": [],
   "source": []
  }
 ],
 "metadata": {
  "kernelspec": {
   "display_name": "Python 3",
   "language": "python",
   "name": "python3"
  }
 },
 "nbformat": 4,
 "nbformat_minor": 0
}