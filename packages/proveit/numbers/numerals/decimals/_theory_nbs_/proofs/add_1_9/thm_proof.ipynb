{
 "cells": [
  {
   "cell_type": "markdown",
   "metadata": {},
   "source": [
    "Proof of <a class=\"ProveItLink\" href=\"../../../../../../_theory_nbs_/theory.ipynb\">proveit</a>.<a class=\"ProveItLink\" href=\"../../../../../_theory_nbs_/theory.ipynb\">numbers</a>.<a class=\"ProveItLink\" href=\"../../../../_theory_nbs_/theory.ipynb\">numerals</a>.<a class=\"ProveItLink\" href=\"../../theory.ipynb\">decimals</a>.<a class=\"ProveItLink\" href=\"../../theorems.ipynb#add_1_9\">add_1_9</a> theorem\n",
    "========"
   ]
  },
  {
   "cell_type": "code",
   "execution_count": 1,
   "metadata": {},
   "outputs": [],
   "source": [
    "import proveit\n",
    "theory = proveit.Theory() # the theorem's theory"
   ]
  },
  {
   "cell_type": "code",
   "execution_count": 2,
   "metadata": {},
   "outputs": [
    {
     "data": {
      "text/html": [
       "Under these <a href=\"presumptions.txt\">presumptions</a>, we begin our proof of<br><strong id=\"add_1_9\">add_1_9:</strong> <a class=\"ProveItLink\" href=\"../../../__pv_it/theorems/d39a53faa4ce1a21f52a40d790f79dd4387b641f0/expr.ipynb\"><img src=\"data:image/png;base64,iVBORw0KGgoAAAANSUhEUgAAAGwAAAAUBAMAAACaOcVSAAAAMFBMVEX////MzMxUVFR2dna6uroQ\n",
       "EBCqqqqIiIgiIiJmZmYyMjJERETu7u6YmJjc3NwAAACgK8IjAAAAAXRSTlMAQObYZgAAAWFJREFU\n",
       "OMtjYOC7wIAdsD1gwANOYxM8aazHwKCHXQNzrSGQXAfEqQdQZXhiGZ4eYDiFqQWkcBnDiQcMvBMY\n",
       "eJT1YdrSIRRTAAPTBAbmAjRNYIW8AQzMCxg4QD64j6aNfwED8wcGngAM24AKuRUY2P4wvGDAou38\n",
       "Bgb2fwwMS7Bp41dgYPnGUIlNGyvQti8MDJbYtJ2fwMDynWEvNm1AF3L9ZWC4BWavAoMJMG3vDRgY\n",
       "vzO0YdPGsJ0h+RsDQwY2295PYGD8zBCC0Ga1alXrqlWLwFF9XfgjA4M8bkeGYLUNGAd/cGgDBgnb\n",
       "NxyOZGDgUmBg8EDymwI8AjYw8P7BHiS8MQzyD6BBgm4bJLrBgVyPpo19Dc9aIDUZQxtIYRvDUQGw\n",
       "QybFr7yA6kjjmQ5AciG6LrDCw+WKDJDEBQfpKEmwAXe+4Z2AzDuDkkMK8OS3fThlTpGcTQkYCAQ4\n",
       "CwVePIUCALPsfhMIlAOBAAAAAElFTkSuQmCC\n",
       "\" style=\"display:inline;vertical-align:middle;\" /></a><br>(see <a class=\"ProveItLink\" href=\"../../../__pv_it/theorems/d0c66d0c8ddf4f8129c7a38cf7cef3eb720b20580/dependencies.ipynb\">dependencies</a>)<br>"
      ],
      "text/plain": [
       "add_1_9: (1 + 9) = 10"
      ]
     },
     "execution_count": 2,
     "metadata": {},
     "output_type": "execute_result"
    }
   ],
   "source": [
    "%proving add_1_9"
   ]
  },
  {
   "cell_type": "code",
   "execution_count": null,
   "metadata": {},
   "outputs": [],
   "source": []
  }
 ],
 "metadata": {
  "kernelspec": {
   "display_name": "Python 3",
   "language": "python",
   "name": "python3"
  }
 },
 "nbformat": 4,
 "nbformat_minor": 0
}