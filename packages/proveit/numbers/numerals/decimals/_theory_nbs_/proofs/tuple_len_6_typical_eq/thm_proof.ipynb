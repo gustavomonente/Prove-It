{
 "cells": [
  {
   "cell_type": "markdown",
   "metadata": {},
   "source": [
    "Proof of <a class=\"ProveItLink\" href=\"../../../../../../_theory_nbs_/theory.ipynb\">proveit</a>.<a class=\"ProveItLink\" href=\"../../../../../_theory_nbs_/theory.ipynb\">numbers</a>.<a class=\"ProveItLink\" href=\"../../../../_theory_nbs_/theory.ipynb\">numerals</a>.<a class=\"ProveItLink\" href=\"../../theory.ipynb\">decimals</a>.<a class=\"ProveItLink\" href=\"../../theorems.ipynb#tuple_len_6_typical_eq\">tuple_len_6_typical_eq</a> theorem\n",
    "========"
   ]
  },
  {
   "cell_type": "code",
   "execution_count": 1,
   "metadata": {},
   "outputs": [],
   "source": [
    "import proveit\n",
    "theory = proveit.Theory() # the theorem's theory"
   ]
  },
  {
   "cell_type": "code",
   "execution_count": 2,
   "metadata": {},
   "outputs": [
    {
     "data": {
      "text/html": [
       "Under these <a href=\"presumptions.txt\">presumptions</a>, we begin our proof of<br><strong id=\"tuple_len_6_typical_eq\">tuple_len_6_typical_eq:</strong> <a class=\"ProveItLink\" href=\"../../../__pv_it/theorems/eb65e5b90c7669870a5b9f9b707c6742629019b30/expr.ipynb\"><img src=\"data:image/png;base64,iVBORw0KGgoAAAANSUhEUgAAAYAAAAAWBAMAAAA7oVZmAAAAMFBMVEX///8QEBCIiIhmZma6urrM\n",
       "zMxUVFQiIiJERETc3Nzu7u6qqqp2dnaYmJgyMjIAAAAcRTyBAAAAAXRSTlMAQObYZgAABJVJREFU\n",
       "WMPNV02IHEUUfjO9M91T072zByHREBhnnZxyGNYfFDZmxMOCIJlcBAOScTEHMZEhaMTEw6iXbEBp\n",
       "EMxehF4HogTJDHqQeNBhd1ExBIbkYBKIDCR7cGWTJSbg7ibBV1WvZvuvxp3di3Wo/vr1e6/qq3rv\n",
       "VTXAptoB2Ho7sFWnm55EpgPzAnyxSQfnRT8fFm/YadYlfQ66HF4faPyvaSxW9wu3xWimPiyFRWzs\n",
       "OUi7egIBp3FtdncF3lT6CC5wuDgQgT9prGHXL70Rp5prhSXpC2vAunoC3Gn2Mf3g58pGF84pfQTT\n",
       "PCbqg8zfKdFYlwPitTjdfV5Y0nypjKuoJ4BOz/y8qh/9Y7DqYOdJH8EwDmG3BiFgujTW+37pUOyg\n",
       "v0QkP/FuRk+AO3X0BIZWRJyNkD4C57ezZ08PFEGnaaxMzS+1a3G6N+IpDZd1BITTPgQsMXW4qfQR\n",
       "/HPy5AcDERgl2yRP0M/mHpdRMjw5SvtoF4pUrcaLFFdsdpTy5fK2J7lKSUdAOO1DILcw+xQ+5pQ+\n",
       "gkMAU70NuhXQ3lvxvRgXCXxCtlYHDR6F2xTbi2xFTvsEfCpFL7gWzWTCzbTJ+o5Io64iYN8SrQQ+\n",
       "p/0INJfAxIX6Q+kjeJGKgmhzQe1g+SJwgmy5o5kOPEux7cm5gdmGt+Sy7wRDemY7oEFrkbknCnlN\n",
       "twPcaV8Cy2Bgjfpe6SMwIdnpff8roP2j/+WmAo+QbQIDea8HR6X0eWD35bapwmOscjKidO4sXFNn\n",
       "0LI4H5Z1BLjTviFUA+cuwEGlj8DumOvfVwLagf1YjSOwHdg9la5DMuC3K71EHZplOWo1lOubJ2B2\n",
       "wXkQJJDpvoKgsWuBO76zyxNpyOtsoyD24xvxAlf+7kRDCBddLinAA77iPFzu93a7LWsmEmivVxHB\n",
       "ZagWyoHqRkMoPSJ2YELpczD1Bg77boobJY+LKvBOaqQnYotMeHd6h50vidkapLvyZnOX54NkAllJ\n",
       "oAVvy1sLj6Q8bUs+mMThHfivJMY5GSPBJIbvcDmMUoovipXnro06VISI19z0EXlRMkr+wJqnWvgR\n",
       "/F5ts4f4dgTPSAGeAfa0AOjsmA1NdJjsQsMVMgoqo60jIApsEglwO9EJux6AwzCDmzSu9DnI4aIk\n",
       "WsmqiECjyl/EWikR7X0v0yfIlsfBmcKrk2V4D+OusRsVOLAvXpKATRY/fwLM4/zouE4fYZ88NCo6\n",
       "Atyp8frDPdLO5DM4poBwYI9j3YcFpc+Bg/Kma13DR87jk8+JfVciF0RZSVT0V4mspwUAPwS0fhXw\n",
       "q/5XiaAdRIYBVlNXCXX+J9yDL8O0Z3pXsMeDvjTtoeg1fLFarJo5hXw8/WXO1gOAtk+WrS7JM6Xv\n",
       "ZS5kB1Gn/sscHcGT3+6B/a3U4Tb2mbFL3v4WidhYAVI7KO9lm6KxLHWd/hK0AFjeJzNPiZOt33Va\n",
       "OV23g6hT/3Xa31qRnh7ZwN058kPTS48oAAd8MkdeiawN/NA40QrU8S+h1J+K+VPz9+pxHpYOBX4p\n",
       "i1v6pbwq+mJYvGGnjkv6jhuUR3r16MBsHv6f7V9jeYed36RWYgAAAABJRU5ErkJggg==\n",
       "\" style=\"display:inline;vertical-align:middle;\" /></a><br>(see <a class=\"ProveItLink\" href=\"../../../__pv_it/theorems/5a17c635db81b3f738db5ccb232e778552eb5ea20/dependencies.ipynb\">dependencies</a>)<br>"
      ],
      "text/plain": [
       "tuple_len_6_typical_eq: forall_{a, b, c, d, e, f} (|(a, b, c, d, e, f)| = |(1, ..k.., 6)|)"
      ]
     },
     "execution_count": 2,
     "metadata": {},
     "output_type": "execute_result"
    }
   ],
   "source": [
    "%proving tuple_len_6_typical_eq"
   ]
  },
  {
   "cell_type": "code",
   "execution_count": null,
   "metadata": {},
   "outputs": [],
   "source": []
  }
 ],
 "metadata": {
  "kernelspec": {
   "display_name": "Python 3",
   "language": "python",
   "name": "python3"
  }
 },
 "nbformat": 4,
 "nbformat_minor": 0
}