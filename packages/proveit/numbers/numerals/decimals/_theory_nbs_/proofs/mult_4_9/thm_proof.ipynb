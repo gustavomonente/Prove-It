{
 "cells": [
  {
   "cell_type": "markdown",
   "metadata": {},
   "source": [
    "Proof of <a class=\"ProveItLink\" href=\"../../../../../../_theory_nbs_/theory.ipynb\">proveit</a>.<a class=\"ProveItLink\" href=\"../../../../../_theory_nbs_/theory.ipynb\">numbers</a>.<a class=\"ProveItLink\" href=\"../../../../_theory_nbs_/theory.ipynb\">numerals</a>.<a class=\"ProveItLink\" href=\"../../theory.ipynb\">decimals</a>.<a class=\"ProveItLink\" href=\"../../theorems.ipynb#mult_4_9\">mult_4_9</a> theorem\n",
    "========"
   ]
  },
  {
   "cell_type": "code",
   "execution_count": 1,
   "metadata": {},
   "outputs": [],
   "source": [
    "import proveit\n",
    "theory = proveit.Theory() # the theorem's theory"
   ]
  },
  {
   "cell_type": "code",
   "execution_count": 2,
   "metadata": {},
   "outputs": [
    {
     "data": {
      "text/html": [
       "Under these <a href=\"presumptions.txt\">presumptions</a>, we begin our proof of<br><strong id=\"mult_4_9\">mult_4_9:</strong> <a class=\"ProveItLink\" href=\"../../../__pv_it/theorems/74f137bc1d950b406ed28c9321af2b8c393d25350/expr.ipynb\"><img src=\"data:image/png;base64,iVBORw0KGgoAAAANSUhEUgAAAGEAAAAUBAMAAABvx07iAAAAMFBMVEX///9UVFTMzMx2dna6uroQ\n",
       "EBCqqqqIiIgiIiJmZmYyMjJERETu7u6YmJjc3NwAAAC+aOQFAAAAAXRSTlMAQObYZgAAAZtJREFU\n",
       "KM99kz1LA0EQht98EGNyCTYpLMSAlZUXLUJMkWsEOxGihVrEH6CIjcTG2AjaeKBBoo2CjRZaWUl0\n",
       "QUTRwjSW6oGNFoqNECIaZ/eSu3Abbrhbdmb22ZlhZoFoBZLMw03u+dJvqcpWwoDHcJ6KDqVzgG9p\n",
       "kPYn3LBqua4r0Rko+07iHYFfKIfYBSI66R3jlisGdANJJ7GSQxVhHedAkCfwcWC5akCGIjmJEY08\n",
       "YyLZN76oFqH80H0GQppUL2V1JjZ5+iOGHWOKYmjw6RJxq6LWl6ebyqTcwCYopdMKIqL04WMuR8L+\n",
       "us6UWgVr4B9Uk1D4El4IZHIIFKQYHVmlDhQZspRh3CQexMVzi5k4vF9y4yZYFXjROHEFkwh2ma5e\n",
       "JhOfwGVugwiR2Gyp9L3T4iXcX7DrELfVGRExEaMsDtkdfGTePzQqb5FpYJMNMBSBVNPQkGV2R6PZ\n",
       "qTqIJ94Pj6pMAqNcT9d7mi5fapvWUNxB+Et71IpUIt6YErldLsMe0dtZk27v46KNTZ526UU5JGy4\n",
       "Ee1e7bPL+X/jS27pVQoeNwAAAABJRU5ErkJggg==\n",
       "\" style=\"display:inline;vertical-align:middle;\" /></a><br>(see <a class=\"ProveItLink\" href=\"../../../__pv_it/theorems/a497ba92e127b6d6fe3804864127addec987fd620/dependencies.ipynb\">dependencies</a>)<br>"
      ],
      "text/plain": [
       "mult_4_9: (4 * 9) = 36"
      ]
     },
     "execution_count": 2,
     "metadata": {},
     "output_type": "execute_result"
    }
   ],
   "source": [
    "%proving mult_4_9"
   ]
  },
  {
   "cell_type": "code",
   "execution_count": null,
   "metadata": {},
   "outputs": [],
   "source": []
  }
 ],
 "metadata": {
  "kernelspec": {
   "display_name": "Python 3",
   "language": "python",
   "name": "python3"
  }
 },
 "nbformat": 4,
 "nbformat_minor": 0
}