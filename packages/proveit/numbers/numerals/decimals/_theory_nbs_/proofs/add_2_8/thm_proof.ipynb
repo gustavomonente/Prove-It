{
 "cells": [
  {
   "cell_type": "markdown",
   "metadata": {},
   "source": [
    "Proof of <a class=\"ProveItLink\" href=\"../../../../../../_theory_nbs_/theory.ipynb\">proveit</a>.<a class=\"ProveItLink\" href=\"../../../../../_theory_nbs_/theory.ipynb\">numbers</a>.<a class=\"ProveItLink\" href=\"../../../../_theory_nbs_/theory.ipynb\">numerals</a>.<a class=\"ProveItLink\" href=\"../../theory.ipynb\">decimals</a>.<a class=\"ProveItLink\" href=\"../../theorems.ipynb#add_2_8\">add_2_8</a> theorem\n",
    "========"
   ]
  },
  {
   "cell_type": "code",
   "execution_count": 1,
   "metadata": {},
   "outputs": [],
   "source": [
    "import proveit\n",
    "theory = proveit.Theory() # the theorem's theory"
   ]
  },
  {
   "cell_type": "code",
   "execution_count": 2,
   "metadata": {},
   "outputs": [
    {
     "data": {
      "text/html": [
       "Under these <a href=\"presumptions.txt\">presumptions</a>, we begin our proof of<br><strong id=\"add_2_8\">add_2_8:</strong> <a class=\"ProveItLink\" href=\"../../../__pv_it/theorems/97521ff7bb60905b616960d8575b99fa9e1660180/expr.ipynb\"><img src=\"data:image/png;base64,iVBORw0KGgoAAAANSUhEUgAAAGwAAAAUBAMAAACaOcVSAAAAMFBMVEX///9UVFTMzMx2dna6uroQ\n",
       "EBCqqqqIiIgiIiJmZmYyMjJERETu7u6YmJjc3NwAAAC+aOQFAAAAAXRSTlMAQObYZgAAAZBJREFU\n",
       "OMuVlM9LAkEUx7+6uqjt2FLnsugPSAqCutTRWx46BnUJ6yZ0CA/lRuR5xG5dLCJokZDuyUJEZYGe\n",
       "u+SxU0KRHtraxtHCWXeNHuxj3gyfeW/fjwHCVTiLXEMfuQfuDi9smzebB8CoMyBtTzF9DkXF/IJ4\n",
       "ROFZRbkXWTOAU9zWQCiCBvzx9naiE18VSh5S0gYpwxEDJA4pj0ANfg2eLwGTilA0KPEeb08GBlTI\n",
       "Jp6BkAnPq4D5PgyJZerECRtU4Wsgxc2AKWCIfM4wPeuEVSh8TVxyczEqYpJVYPqRL3Uu9AerR+Ft\n",
       "IsPNXYjYRuyd5XbdyVudwvuGpZYV5HfN6fq+rh+xFVGRXgYm3YPkWAqiN78Bb8MFYymRGzxImeJF\n",
       "wCrsGwFiXf+m/hagCGLylEwAO6I31o6lTkrs3trlZkkO701nNbFuBRDWIrkeLM2aK4PrsVYgIcuy\n",
       "RAzjOdbKOLZT2ZWzKq62htBqri5JCC2ouc8Nod3WgzAhyT7zVnI9Kf8xpv++kInro0D6PArfOA17\n",
       "BmNwewsAAAAASUVORK5CYII=\n",
       "\" style=\"display:inline;vertical-align:middle;\" /></a><br>(see <a class=\"ProveItLink\" href=\"../../../__pv_it/theorems/f31e2e4c828d8455482ff59a5e4010f2b51aa79f0/dependencies.ipynb\">dependencies</a>)<br>"
      ],
      "text/plain": [
       "add_2_8: (2 + 8) = 10"
      ]
     },
     "execution_count": 2,
     "metadata": {},
     "output_type": "execute_result"
    }
   ],
   "source": [
    "%proving add_2_8"
   ]
  },
  {
   "cell_type": "code",
   "execution_count": null,
   "metadata": {},
   "outputs": [],
   "source": []
  }
 ],
 "metadata": {
  "kernelspec": {
   "display_name": "Python 3",
   "language": "python",
   "name": "python3"
  }
 },
 "nbformat": 4,
 "nbformat_minor": 0
}