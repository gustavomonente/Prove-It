{
 "cells": [
  {
   "cell_type": "markdown",
   "metadata": {},
   "source": [
    "Proof of <a class=\"ProveItLink\" href=\"../../../../../../_theory_nbs_/theory.ipynb\">proveit</a>.<a class=\"ProveItLink\" href=\"../../../../../_theory_nbs_/theory.ipynb\">numbers</a>.<a class=\"ProveItLink\" href=\"../../../../_theory_nbs_/theory.ipynb\">numerals</a>.<a class=\"ProveItLink\" href=\"../../theory.ipynb\">decimals</a>.<a class=\"ProveItLink\" href=\"../../theorems.ipynb#mult_3_6\">mult_3_6</a> theorem\n",
    "========"
   ]
  },
  {
   "cell_type": "code",
   "execution_count": 1,
   "metadata": {},
   "outputs": [],
   "source": [
    "import proveit\n",
    "theory = proveit.Theory() # the theorem's theory"
   ]
  },
  {
   "cell_type": "code",
   "execution_count": 2,
   "metadata": {},
   "outputs": [
    {
     "data": {
      "text/html": [
       "Under these <a href=\"presumptions.txt\">presumptions</a>, we begin our proof of<br><strong id=\"mult_3_6\">mult_3_6:</strong> <a class=\"ProveItLink\" href=\"../../../__pv_it/theorems/173c3630ac8052ef6e29c60b002e2dd907d0bc710/expr.ipynb\"><img src=\"data:image/png;base64,iVBORw0KGgoAAAANSUhEUgAAAGEAAAAUBAMAAABvx07iAAAAMFBMVEX////MzMxUVFR2dna6uroQ\n",
       "EBCqqqqIiIgiIiJmZmYyMjJERETu7u6YmJjc3NwAAACgK8IjAAAAAXRSTlMAQObYZgAAAYlJREFU\n",
       "KM+Fk79Lw1AQx79Nf6U2TQv+AXWp4FbrUKuIHdWlS3ES6T+gTlK6FQQHFzPYQVEo4qKDOKiLPwiC\n",
       "UHQw6OCmARdHF4uEQr33JIkkz3iQhHt3n/uRdweoBnyyjCC5B97Gzl09XB+FZApdlXqpTJ9jqBpW\n",
       "nETKAXagtH3esQUgAQwDKQ3xLtJN25LUcAEUvcBNoQcsAXeAbCJSRdoJWuEF3fpypIiYBDrAO9fd\n",
       "qs74e6AsIiqXmAIavPg1x2INNsg7rIkIqf9UA65IU8d3ncYtA+tk51VOHDE5dAhMWzqYmWSVVaGw\n",
       "pw+0dMSaohyxrc0qUOV6lP4dHljgL+C1jNCHiHhE/FNnhGoi2aVDeYheG0QYfxAUNltjVaV7PwSX\n",
       "HM8Rabp97NuEQmEkg3UePYHcs4msjpbduTfHIl2wiRIpxq/7kPLKPM1D3kvEiZjT8QzMkDa7feqa\n",
       "SoUM3WDGAyRy1h5CI2wSZeGYdgKGPaWJTotB+3EtWoT2Pxvlk6QZRIi29iXA/xtaK2u3MARhSwAA\n",
       "AABJRU5ErkJggg==\n",
       "\" style=\"display:inline;vertical-align:middle;\" /></a><br>(see <a class=\"ProveItLink\" href=\"../../../__pv_it/theorems/034aab5542b2ae9058d37bad10c8b286dd2836a10/dependencies.ipynb\">dependencies</a>)<br>"
      ],
      "text/plain": [
       "mult_3_6: (3 * 6) = 18"
      ]
     },
     "execution_count": 2,
     "metadata": {},
     "output_type": "execute_result"
    }
   ],
   "source": [
    "%proving mult_3_6"
   ]
  },
  {
   "cell_type": "code",
   "execution_count": null,
   "metadata": {},
   "outputs": [],
   "source": []
  }
 ],
 "metadata": {
  "kernelspec": {
   "display_name": "Python 3",
   "language": "python",
   "name": "python3"
  }
 },
 "nbformat": 4,
 "nbformat_minor": 0
}