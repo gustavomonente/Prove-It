{
 "cells": [
  {
   "cell_type": "markdown",
   "metadata": {},
   "source": [
    "Proof of <a class=\"ProveItLink\" href=\"../../../../../../_theory_nbs_/theory.ipynb\">proveit</a>.<a class=\"ProveItLink\" href=\"../../../../../_theory_nbs_/theory.ipynb\">numbers</a>.<a class=\"ProveItLink\" href=\"../../../../_theory_nbs_/theory.ipynb\">numerals</a>.<a class=\"ProveItLink\" href=\"../../theory.ipynb\">decimals</a>.<a class=\"ProveItLink\" href=\"../../theorems.ipynb#mult_7_1\">mult_7_1</a> theorem\n",
    "========"
   ]
  },
  {
   "cell_type": "code",
   "execution_count": 1,
   "metadata": {},
   "outputs": [],
   "source": [
    "import proveit\n",
    "theory = proveit.Theory() # the theorem's theory"
   ]
  },
  {
   "cell_type": "code",
   "execution_count": 2,
   "metadata": {},
   "outputs": [
    {
     "data": {
      "text/html": [
       "Under these <a href=\"presumptions.txt\">presumptions</a>, we begin our proof of<br><strong id=\"mult_7_1\">mult_7_1:</strong> <a class=\"ProveItLink\" href=\"../../../__pv_it/theorems/66154e48cc3f3f80fb1bf3c8d94f0757611b662e0/expr.ipynb\"><img src=\"data:image/png;base64,iVBORw0KGgoAAAANSUhEUgAAAFgAAAAUBAMAAAD7IecQAAAAMFBMVEX///9UVFTMzMx2dna6uroQ\n",
       "EBCqqqqIiIgiIiJmZmYyMjJERETu7u6YmJjc3NwAAAC+aOQFAAAAAXRSTlMAQObYZgAAASlJREFU\n",
       "KM9jYOC7wIAB8hhwgNMMTI2TjY1RxBgfoKvSkDQ2NmBgWMfA+////49wYbYYBgaeBeiK7wPVCDDw\n",
       "TmDgBJojABM9aPgHSJqjK54HtI6BgeMBAzMDA7MCXJgXpPgoumKgE4wYGF6A2e4MqIq5HDD8xlLA\n",
       "wFAJZm1AU8w8AUMxNxDvBTGYL6Ap5gX70GoVCKyEiNsCcRuIcR7M5UEoZmtAN5jnA5AIAbGqwPzz\n",
       "C+CKmT6gK2ZfAFPcDeZzCOBRzLEB5oyPDGhuZmlAuHkhWJhfAOpBpp8MWD2IDPRB4WMJ8s5nZMeB\n",
       "FHMaoCvOB4l4ADFfGEKQU/TXXGCkKKArfprAAI5uLOAE9hTKOwGbqDmO9LwPixhmEoUnfkzA/QCH\n",
       "YmzZ6h52pQBqcEo0WPTI1AAAAABJRU5ErkJggg==\n",
       "\" style=\"display:inline;vertical-align:middle;\" /></a><br>(see <a class=\"ProveItLink\" href=\"../../../__pv_it/theorems/3c7b6384d5a00458a1d83fd7bd1f1192ca9dcb1a0/dependencies.ipynb\">dependencies</a>)<br>"
      ],
      "text/plain": [
       "mult_7_1: (7 * 1) = 7"
      ]
     },
     "execution_count": 2,
     "metadata": {},
     "output_type": "execute_result"
    }
   ],
   "source": [
    "%proving mult_7_1"
   ]
  },
  {
   "cell_type": "code",
   "execution_count": null,
   "metadata": {},
   "outputs": [],
   "source": []
  }
 ],
 "metadata": {
  "kernelspec": {
   "display_name": "Python 3",
   "language": "python",
   "name": "python3"
  }
 },
 "nbformat": 4,
 "nbformat_minor": 0
}