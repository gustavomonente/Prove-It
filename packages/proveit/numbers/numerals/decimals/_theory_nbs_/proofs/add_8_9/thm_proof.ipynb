{
 "cells": [
  {
   "cell_type": "markdown",
   "metadata": {},
   "source": [
    "Proof of <a class=\"ProveItLink\" href=\"../../../../../../_theory_nbs_/theory.ipynb\">proveit</a>.<a class=\"ProveItLink\" href=\"../../../../../_theory_nbs_/theory.ipynb\">numbers</a>.<a class=\"ProveItLink\" href=\"../../../../_theory_nbs_/theory.ipynb\">numerals</a>.<a class=\"ProveItLink\" href=\"../../theory.ipynb\">decimals</a>.<a class=\"ProveItLink\" href=\"../../theorems.ipynb#add_8_9\">add_8_9</a> theorem\n",
    "========"
   ]
  },
  {
   "cell_type": "code",
   "execution_count": 1,
   "metadata": {},
   "outputs": [],
   "source": [
    "import proveit\n",
    "theory = proveit.Theory() # the theorem's theory"
   ]
  },
  {
   "cell_type": "code",
   "execution_count": 2,
   "metadata": {},
   "outputs": [
    {
     "data": {
      "text/html": [
       "Under these <a href=\"presumptions.txt\">presumptions</a>, we begin our proof of<br><strong id=\"add_8_9\">add_8_9:</strong> <a class=\"ProveItLink\" href=\"../../../__pv_it/theorems/e237b077e7d6a322f857b5c05eb5b6ea12df7eb80/expr.ipynb\"><img src=\"data:image/png;base64,iVBORw0KGgoAAAANSUhEUgAAAG0AAAAUBAMAAAB1+65sAAAAMFBMVEX////MzMxUVFR2dna6uroQ\n",
       "EBCqqqqIiIgiIiJmZmYyMjJERETu7u6YmJjc3NwAAACgK8IjAAAAAXRSTlMAQObYZgAAAY9JREFU\n",
       "OMuVlL9Lw1AQx79t+suSVNE/oAVn2yEg6ORmxw7iVFEQqW4FJ11aBF1cgu3iVsXF0Eo3J0s2sQrN\n",
       "JrjYRXDUqgXRGu8lhfblR8WD4+79+OQud+89IKbDXUJtjJJb4Hq7bJu8kZNA0nW/b68ky2QvAAX+\n",
       "NW5NXMGThqYT2tAgGYbRASQFIR1ixZrPWcafgV+BkLdR4nRKwxilnwAibQh1iEWOG69AeIGYccR7\n",
       "1CAAwgTwDAS+NEHnuFYd4R/gzI0jWSTdIU31ZsFxQYr3Dsx5cHXSK1LBqPIcJRntAQ+mr5qiDDgz\n",
       "uQPSrfTHAsfhEutdYNM9Xot5S1TSBApZcudVdV9VT82e30+9AnF3brfPBTX4unw8asW3J3cIK08W\n",
       "d8bORalH6aH/Swy4Dqy6BKmTDY6Tsoi3+3VxxPN9Mo9qHahCynNcuCrWyJQcXIG40BvzWC6TpTLf\n",
       "B8jHrMAnduxo9VxHbJm5Ee625LjjWBxxjSRleHQ3PHCca04anivNv+7tv7/IxPOdkEa9E7882XWo\n",
       "Jg3WTwAAAABJRU5ErkJggg==\n",
       "\" style=\"display:inline;vertical-align:middle;\" /></a><br>(see <a class=\"ProveItLink\" href=\"../../../__pv_it/theorems/1ef9448c08a06456384e85973765ef8b9226317a0/dependencies.ipynb\">dependencies</a>)<br>"
      ],
      "text/plain": [
       "add_8_9: (8 + 9) = 17"
      ]
     },
     "execution_count": 2,
     "metadata": {},
     "output_type": "execute_result"
    }
   ],
   "source": [
    "%proving add_8_9"
   ]
  },
  {
   "cell_type": "code",
   "execution_count": null,
   "metadata": {},
   "outputs": [],
   "source": []
  }
 ],
 "metadata": {
  "kernelspec": {
   "display_name": "Python 3",
   "language": "python",
   "name": "python3"
  }
 },
 "nbformat": 4,
 "nbformat_minor": 0
}