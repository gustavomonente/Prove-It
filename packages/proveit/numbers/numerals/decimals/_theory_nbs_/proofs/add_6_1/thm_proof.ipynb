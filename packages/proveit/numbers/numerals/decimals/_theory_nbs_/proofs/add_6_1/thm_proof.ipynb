{
 "cells": [
  {
   "cell_type": "markdown",
   "metadata": {},
   "source": [
    "Proof of <a class=\"ProveItLink\" href=\"../../../../../../_theory_nbs_/theory.ipynb\">proveit</a>.<a class=\"ProveItLink\" href=\"../../../../../_theory_nbs_/theory.ipynb\">numbers</a>.<a class=\"ProveItLink\" href=\"../../../../_theory_nbs_/theory.ipynb\">numerals</a>.<a class=\"ProveItLink\" href=\"../../theory.ipynb\">decimals</a>.<a class=\"ProveItLink\" href=\"../../theorems.ipynb#add_6_1\">add_6_1</a> theorem\n",
    "========"
   ]
  },
  {
   "cell_type": "code",
   "execution_count": 1,
   "metadata": {},
   "outputs": [],
   "source": [
    "import proveit\n",
    "theory = proveit.Theory() # the theorem's theory"
   ]
  },
  {
   "cell_type": "code",
   "execution_count": 2,
   "metadata": {},
   "outputs": [
    {
     "data": {
      "text/html": [
       "Under these <a href=\"presumptions.txt\">presumptions</a>, we begin our proof of<br><strong id=\"add_6_1\">add_6_1:</strong> <a class=\"ProveItLink\" href=\"../../../__pv_it/theorems/05cc17ca59fc651f1ed5f5935b8f4b755584dfbf0/expr.ipynb\"><img src=\"data:image/png;base64,iVBORw0KGgoAAAANSUhEUgAAAGIAAAAUBAMAAACE8PXhAAAAMFBMVEX///9UVFTMzMx2dna6uroQ\n",
       "EBCqqqqIiIgiIiJmZmYyMjJERETu7u6YmJjc3NwAAAC+aOQFAAAAAXRSTlMAQObYZgAAAUxJREFU\n",
       "KM9jYOC7wIAd5OEQZzgNxObFCpgSjA/QRTQkjY0NGBjWMTCccuBcgCrHFsPAwLMAXcf9////CzDw\n",
       "TmBg2MnAvQEilg6hDhr+AdmMrmMe0GIGBo4HDCz/4GJQHQy8IB1H0XUAXWTEwPCCgYE7ALsOLgcM\n",
       "v7EUMDBUMjDwLzKfgk0H8wQMHdxAvJeB4fxaBo4ELDp4wV5nXgUGEN22QNwG1PGBgTMGiw62BnQr\n",
       "eD4AiRCgqxoYeL8AmVarVrWuWrUQroPpA7oO9gUQHRwLGHj/YrEDUwfHBoirGAMgdqDrYGlA8ocA\n",
       "iM0vAPE50x8GzgCcPkcG+iD/WwKxMMNRtLBiB+ngNEDXkQ8S8QBZPFkINT44RX/NBcYgRvJ8CjKY\n",
       "AyWFpiNzTmBP7LwoEXsGmWOOI3/sw5VxMFM7Uo7CCrgf4JDAmWvvYRcGAIlLV6XEHIv0AAAAAElF\n",
       "TkSuQmCC\n",
       "\" style=\"display:inline;vertical-align:middle;\" /></a><br>(see <a class=\"ProveItLink\" href=\"../../../__pv_it/theorems/4e7cd5964c875b63c854a58f9a0468f7a128a8c20/dependencies.ipynb\">dependencies</a>)<br>"
      ],
      "text/plain": [
       "add_6_1: (6 + 1) = 7"
      ]
     },
     "execution_count": 2,
     "metadata": {},
     "output_type": "execute_result"
    }
   ],
   "source": [
    "%proving add_6_1"
   ]
  },
  {
   "cell_type": "code",
   "execution_count": null,
   "metadata": {},
   "outputs": [],
   "source": []
  }
 ],
 "metadata": {
  "kernelspec": {
   "display_name": "Python 3",
   "language": "python",
   "name": "python3"
  }
 },
 "nbformat": 4,
 "nbformat_minor": 0
}