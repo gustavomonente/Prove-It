{
 "cells": [
  {
   "cell_type": "markdown",
   "metadata": {},
   "source": [
    "Proof of <a class=\"ProveItLink\" href=\"../../../../../../_theory_nbs_/theory.ipynb\">proveit</a>.<a class=\"ProveItLink\" href=\"../../../../../_theory_nbs_/theory.ipynb\">numbers</a>.<a class=\"ProveItLink\" href=\"../../../../_theory_nbs_/theory.ipynb\">numerals</a>.<a class=\"ProveItLink\" href=\"../../theory.ipynb\">decimals</a>.<a class=\"ProveItLink\" href=\"../../theorems.ipynb#mult_3_2\">mult_3_2</a> theorem\n",
    "========"
   ]
  },
  {
   "cell_type": "code",
   "execution_count": 1,
   "metadata": {},
   "outputs": [],
   "source": [
    "import proveit\n",
    "theory = proveit.Theory() # the theorem's theory"
   ]
  },
  {
   "cell_type": "code",
   "execution_count": 2,
   "metadata": {},
   "outputs": [
    {
     "data": {
      "text/html": [
       "Under these <a href=\"presumptions.txt\">presumptions</a>, we begin our proof of<br><strong id=\"mult_3_2\">mult_3_2:</strong> <a class=\"ProveItLink\" href=\"../../../__pv_it/theorems/76c60d34bd2837d9e89f79c50df1e1c7dad684a00/expr.ipynb\"><img src=\"data:image/png;base64,iVBORw0KGgoAAAANSUhEUgAAAFcAAAAUBAMAAAAKKrydAAAAMFBMVEX////MzMxUVFR2dna6uroQ\n",
       "EBCqqqqIiIgiIiJmZmYyMjJERETu7u6YmJjc3NwAAACgK8IjAAAAAXRSTlMAQObYZgAAAWxJREFU\n",
       "KM91kzFLw0AUx3+1ra1t2gb8ALoIbq12qHXqqJNLFQe/gItOIt0KgoOLWTpUOoi46GAd1KUoQRAE\n",
       "B/sJNODSUVCKlEK9XNo0XNI/yfHu3e9e3rt7gXQbn/aYoDf4yj+4U63e0pmyfFj4cEmMN6QN9t3w\n",
       "z4R/0c5VVrvkDFIGsS6Z6sjbgE0oqHDSoAVxi0iZjBtqG7IWLyq8IRPrSHucRtMkq5MoKfC9HCsy\n",
       "oyPvwqlJ2FDg3mxF7H8UVnql4fFHfkQlMq3Va1tXdrRem2PsR+jA/qzmwPF5mK4qhzGAmklZTqI7\n",
       "Ynh3qqyLN/StpPEHnyUbTlsku8OQEDOC4BMBy0wyfQd2tGtvjlTHOV/Y5oKMLAqM3hLvj9hQjpg1\n",
       "LNCjOZMaFEXpbc85d/LFRZjJKfBUTtuCNWGt1+9cb3MwEMUkdPUKi8u6vO4AvQZ3aMoI8hYm9PNT\n",
       "gM/fouPm9ylpTYCDfquPYPQfobpcTsSF1CsAAAAASUVORK5CYII=\n",
       "\" style=\"display:inline;vertical-align:middle;\" /></a><br>(see <a class=\"ProveItLink\" href=\"../../../__pv_it/theorems/934cfcb153200f9a76962ace86a109a0c54ac75a0/dependencies.ipynb\">dependencies</a>)<br>"
      ],
      "text/plain": [
       "mult_3_2: (3 * 2) = 6"
      ]
     },
     "execution_count": 2,
     "metadata": {},
     "output_type": "execute_result"
    }
   ],
   "source": [
    "%proving mult_3_2"
   ]
  },
  {
   "cell_type": "code",
   "execution_count": null,
   "metadata": {},
   "outputs": [],
   "source": []
  }
 ],
 "metadata": {
  "kernelspec": {
   "display_name": "Python 3",
   "language": "python",
   "name": "python3"
  }
 },
 "nbformat": 4,
 "nbformat_minor": 0
}