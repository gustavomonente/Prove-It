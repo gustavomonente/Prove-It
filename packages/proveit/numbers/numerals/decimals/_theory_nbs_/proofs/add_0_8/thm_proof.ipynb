{
 "cells": [
  {
   "cell_type": "markdown",
   "metadata": {},
   "source": [
    "Proof of <a class=\"ProveItLink\" href=\"../../../../../../_theory_nbs_/theory.ipynb\">proveit</a>.<a class=\"ProveItLink\" href=\"../../../../../_theory_nbs_/theory.ipynb\">numbers</a>.<a class=\"ProveItLink\" href=\"../../../../_theory_nbs_/theory.ipynb\">numerals</a>.<a class=\"ProveItLink\" href=\"../../theory.ipynb\">decimals</a>.<a class=\"ProveItLink\" href=\"../../theorems.ipynb#add_0_8\">add_0_8</a> theorem\n",
    "========"
   ]
  },
  {
   "cell_type": "code",
   "execution_count": 1,
   "metadata": {},
   "outputs": [],
   "source": [
    "import proveit\n",
    "theory = proveit.Theory() # the theorem's theory"
   ]
  },
  {
   "cell_type": "code",
   "execution_count": 2,
   "metadata": {},
   "outputs": [
    {
     "data": {
      "text/html": [
       "Under these <a href=\"presumptions.txt\">presumptions</a>, we begin our proof of<br><strong id=\"add_0_8\">add_0_8:</strong> <a class=\"ProveItLink\" href=\"../../../__pv_it/theorems/c5939834012fbe5f19e60dabf512d7254182aaae0/expr.ipynb\"><img src=\"data:image/png;base64,iVBORw0KGgoAAAANSUhEUgAAAGEAAAAUBAMAAABvx07iAAAAMFBMVEX///9UVFTMzMx2dna6uroQ\n",
       "EBCqqqqIiIgiIiJmZmYyMjJERETu7u6YmJjc3NwAAAC+aOQFAAAAAXRSTlMAQObYZgAAAVhJREFU\n",
       "KM91kzFLw0AUgL+modam0eIguPUfWFxKFbGjuOjQUaRbJ12Lg9BFVzP4A3RxyCD+AJWCFEoVrDi4\n",
       "SUY3BVFBBL3mSpt3TW5I7r67L7l39x7M9IlvewmcO0gfLEmWb1aqpAJzaYjhAs7pytlpmCd/ahoh\n",
       "xvVwt0gPZxv6tQs9KJuGxtkAp0DmVxgr0IWOaWj8CrMF7C9hbF6xCrmqYWi8Dw8e9rcwUn9PdXUg\n",
       "nmFofA1vJSxpsPbTViGGwaX9sHkjfKQMD+tDGJmT45p6tox/aFwb72rZ9w99/0z1Hpn6bGO9G4bG\n",
       "tTDyjIx8Gxbrk4bGalfOJa443bxamupjtyJxFEZYRT55gzvqM8Ew8kjTuMIg+k5RGBttnlVSlAxD\n",
       "43XVu23OIQxrYZByuaJhaJwVOdiIDrrxye6Ki72PDsoJ9XGTVDiT2T6uqPjmBAkTiVX7Eo//ATYg\n",
       "Z7DCqCs2AAAAAElFTkSuQmCC\n",
       "\" style=\"display:inline;vertical-align:middle;\" /></a><br>(see <a class=\"ProveItLink\" href=\"../../../__pv_it/theorems/0ac34579b76ca2f00a885439acc6174babea7de90/dependencies.ipynb\">dependencies</a>)<br>"
      ],
      "text/plain": [
       "add_0_8: (0 + 8) = 8"
      ]
     },
     "execution_count": 2,
     "metadata": {},
     "output_type": "execute_result"
    }
   ],
   "source": [
    "%proving add_0_8"
   ]
  },
  {
   "cell_type": "code",
   "execution_count": null,
   "metadata": {},
   "outputs": [],
   "source": []
  }
 ],
 "metadata": {
  "kernelspec": {
   "display_name": "Python 3",
   "language": "python",
   "name": "python3"
  }
 },
 "nbformat": 4,
 "nbformat_minor": 0
}