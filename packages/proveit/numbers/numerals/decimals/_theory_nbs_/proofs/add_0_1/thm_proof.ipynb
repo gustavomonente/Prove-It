{
 "cells": [
  {
   "cell_type": "markdown",
   "metadata": {},
   "source": [
    "Proof of <a class=\"ProveItLink\" href=\"../../../../../../_theory_nbs_/theory.ipynb\">proveit</a>.<a class=\"ProveItLink\" href=\"../../../../../_theory_nbs_/theory.ipynb\">numbers</a>.<a class=\"ProveItLink\" href=\"../../../../_theory_nbs_/theory.ipynb\">numerals</a>.<a class=\"ProveItLink\" href=\"../../theory.ipynb\">decimals</a>.<a class=\"ProveItLink\" href=\"../../theorems.ipynb#add_0_1\">add_0_1</a> theorem\n",
    "========"
   ]
  },
  {
   "cell_type": "code",
   "execution_count": 1,
   "metadata": {},
   "outputs": [],
   "source": [
    "import proveit\n",
    "theory = proveit.Theory() # the theorem's theory"
   ]
  },
  {
   "cell_type": "code",
   "execution_count": 2,
   "metadata": {},
   "outputs": [
    {
     "data": {
      "text/html": [
       "Under these <a href=\"presumptions.txt\">presumptions</a>, we begin our proof of<br><strong id=\"add_0_1\">add_0_1:</strong> <a class=\"ProveItLink\" href=\"../../../__pv_it/theorems/09f1893ec55d90942da67d4dad3f6cb61b3dbabe0/expr.ipynb\"><img src=\"data:image/png;base64,iVBORw0KGgoAAAANSUhEUgAAAGAAAAAUBAMAAACABSXcAAAAMFBMVEX///9UVFTMzMx2dna6uroQ\n",
       "EBCqqqqIiIgiIiJmZmYyMjJERETu7u6YmJjc3NwAAAC+aOQFAAAAAXRSTlMAQObYZgAAARhJREFU\n",
       "KM9jYOC7wIAd5OEQP83AwFxrhEWC8QF2DesYGJYxnECTZIthYOBZgKEWJMw7gYE3gIEZKpkOoQ4a\n",
       "/gGS5ujqwcIcDxi4BRjY/qBoYOAF8Y9i2AASfsHAwC/AwPINiwYuB2waKhkYzk9gYPmORQPzBGwa\n",
       "9jIwvDdgYMKmgRfsMeZVYDABJtwG1DCBgekzFg1sDdhsCEE4yWrVqtZVqxbCNTB9wKEB6Gk2bJ7G\n",
       "rgHoJO4NEAXoGlgakPwggORpzIhD9jS6DZYMIFuOKqBqYAdp4DRA1wAS9gDSh8uFGFA0cIr+mguM\n",
       "OAU09WBhDpRkl47MOYE1sfKiROcZZI459uS9D0c+wZa8YRkIO+DGkYFwZtF7WEUB5Ixd0I3H7YIA\n",
       "AAAASUVORK5CYII=\n",
       "\" style=\"display:inline;vertical-align:middle;\" /></a><br>(see <a class=\"ProveItLink\" href=\"../../../__pv_it/theorems/dfe772bb604c1dbeabf1d6a91de2f6d39a3d542d0/dependencies.ipynb\">dependencies</a>)<br>"
      ],
      "text/plain": [
       "add_0_1: (0 + 1) = 1"
      ]
     },
     "execution_count": 2,
     "metadata": {},
     "output_type": "execute_result"
    }
   ],
   "source": [
    "%proving add_0_1"
   ]
  },
  {
   "cell_type": "code",
   "execution_count": null,
   "metadata": {},
   "outputs": [],
   "source": []
  }
 ],
 "metadata": {
  "kernelspec": {
   "display_name": "Python 3",
   "language": "python",
   "name": "python3"
  }
 },
 "nbformat": 4,
 "nbformat_minor": 0
}