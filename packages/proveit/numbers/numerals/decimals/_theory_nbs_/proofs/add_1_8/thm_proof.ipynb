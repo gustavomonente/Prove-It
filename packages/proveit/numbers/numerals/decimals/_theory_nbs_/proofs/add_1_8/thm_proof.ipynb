{
 "cells": [
  {
   "cell_type": "markdown",
   "metadata": {},
   "source": [
    "Proof of <a class=\"ProveItLink\" href=\"../../../../../../_theory_nbs_/theory.ipynb\">proveit</a>.<a class=\"ProveItLink\" href=\"../../../../../_theory_nbs_/theory.ipynb\">numbers</a>.<a class=\"ProveItLink\" href=\"../../../../_theory_nbs_/theory.ipynb\">numerals</a>.<a class=\"ProveItLink\" href=\"../../theory.ipynb\">decimals</a>.<a class=\"ProveItLink\" href=\"../../theorems.ipynb#add_1_8\">add_1_8</a> theorem\n",
    "========"
   ]
  },
  {
   "cell_type": "code",
   "execution_count": 1,
   "metadata": {},
   "outputs": [],
   "source": [
    "import proveit\n",
    "theory = proveit.Theory() # the theorem's theory"
   ]
  },
  {
   "cell_type": "code",
   "execution_count": 2,
   "metadata": {},
   "outputs": [
    {
     "data": {
      "text/html": [
       "Under these <a href=\"presumptions.txt\">presumptions</a>, we begin our proof of<br><strong id=\"add_1_8\">add_1_8:</strong> <a class=\"ProveItLink\" href=\"../../../__pv_it/theorems/c7567560bbec1521159adec1857b200d88ac72110/expr.ipynb\"><img src=\"data:image/png;base64,iVBORw0KGgoAAAANSUhEUgAAAGEAAAAUBAMAAABvx07iAAAAMFBMVEX////MzMxUVFR2dna6uroQ\n",
       "EBCqqqqIiIgiIiJmZmYyMjJERETu7u6YmJjc3NwAAACgK8IjAAAAAXRSTlMAQObYZgAAAVpJREFU\n",
       "KM99kzFLw1AQgL+0UrWmpf9AQRQ6KS6liqSjuLh0EtEu0qmik+jSLrpatD9A3Mygf0Ali1CqQ1DE\n",
       "TTM6urhUUC9ttcnriwfJu3fvfbm73B2kXfSyFWHnTmMzd/MFYt6A+WTOt13Is+mEj0ZhGvNUJW7d\n",
       "9Bqk6piTM79EubtUoAU5lZiCLIz4fl4VYgGa8kmVaIMFb2iIlSsWIVlQ0viEqseejoh9P5YgXld8\n",
       "rIqPAtc6AqstllQn9bjdEZ+WkC5dDnVEonFUlHdN8TG2nbBKFPvEvG0f2PaZaA8MfzgY72rqlR0r\n",
       "EyT6PuSvj5c0BEgddFGZcjXmMlQL5DHRvSARaDNfl5i9XuYBeXKML8j7alUhlh2epVdmFWLfaUnb\n",
       "Lol2vHHuhggjK51IMqMQ8XyDXpf8STm4aeqbPRUq7H1wk4uYj5uowRns9n8mqlthL+Igcmpf9OYf\n",
       "1DZnOp+J3ncAAAAASUVORK5CYII=\n",
       "\" style=\"display:inline;vertical-align:middle;\" /></a><br>(see <a class=\"ProveItLink\" href=\"../../../__pv_it/theorems/4c58f2a0632a53c8262a9168c9ff02a919db92160/dependencies.ipynb\">dependencies</a>)<br>"
      ],
      "text/plain": [
       "add_1_8: (1 + 8) = 9"
      ]
     },
     "execution_count": 2,
     "metadata": {},
     "output_type": "execute_result"
    }
   ],
   "source": [
    "%proving add_1_8"
   ]
  },
  {
   "cell_type": "code",
   "execution_count": null,
   "metadata": {},
   "outputs": [],
   "source": []
  }
 ],
 "metadata": {
  "kernelspec": {
   "display_name": "Python 3",
   "language": "python",
   "name": "python3"
  }
 },
 "nbformat": 4,
 "nbformat_minor": 0
}