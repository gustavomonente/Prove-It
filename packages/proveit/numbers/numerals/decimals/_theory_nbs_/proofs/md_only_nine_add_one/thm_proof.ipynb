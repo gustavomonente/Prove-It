{
 "cells": [
  {
   "cell_type": "markdown",
   "metadata": {},
   "source": [
    "Proof of <a class=\"ProveItLink\" href=\"../../../../../../_theory_nbs_/theory.ipynb\">proveit</a>.<a class=\"ProveItLink\" href=\"../../../../../_theory_nbs_/theory.ipynb\">numbers</a>.<a class=\"ProveItLink\" href=\"../../../../_theory_nbs_/theory.ipynb\">numerals</a>.<a class=\"ProveItLink\" href=\"../../theory.ipynb\">decimals</a>.<a class=\"ProveItLink\" href=\"../../theorems.ipynb#md_only_nine_add_one\">md_only_nine_add_one</a> theorem\n",
    "========"
   ]
  },
  {
   "cell_type": "code",
   "execution_count": 1,
   "metadata": {},
   "outputs": [],
   "source": [
    "import proveit\n",
    "theory = proveit.Theory() # the theorem's theory"
   ]
  },
  {
   "cell_type": "code",
   "execution_count": 2,
   "metadata": {},
   "outputs": [
    {
     "data": {
      "text/html": [
       "Under these <a href=\"presumptions.txt\">presumptions</a>, we begin our proof of<br><strong id=\"md_only_nine_add_one\">md_only_nine_add_one:</strong> <a class=\"ProveItLink\" href=\"../../../__pv_it/theorems/9d43f7083d32cbab90d01da614d9199ec89dbe630/expr.ipynb\"><img src=\"data:image/png;base64,iVBORw0KGgoAAAANSUhEUgAAAg0AAAAUBAMAAAD8cBPdAAAAMFBMVEX///8QEBCIiIhmZma6urrM\n",
       "zMxUVFQiIiJERETc3Nzu7u6qqqp2dnaYmJgyMjIAAAAcRTyBAAAAAXRSTlMAQObYZgAABghJREFU\n",
       "WMO9WF1sFFUU/rrd39mZbUUIkWCyQCQgJRmt+KBUF03EB0NXH/AFs2uQhxob15AQEVI3PJg2xLj+\n",
       "BAkJccCEEhS6QRvFYLqhygNiXVtjQmx1G7T8KAuBUpBC8dx7Z5bZncvsmhJu5uzMzp4537ffPffc\n",
       "eweo3naaZrVQHnemhTOyu4eqcbmj7ZBpBfZlxM1TSQsDglCSdNoLfHq8ze6yd/b/xucR2mS/+KXq\n",
       "pLEHFg/R1KXfT5PDkeE4R2P2A7tx1s07khEGHEA4R6czUO7H+4bd52QVRK9DXB7hgCND5tBPBVln\n",
       "FHDY5MJ8WPsb3ZlpcYhklY0cjdl2luhpt+eHTAMxqY8Bmg5/I/y63WeyWu87Op1HUKPm14PitOfo\n",
       "NdZNsiGUwyOCh/AhGo1QC9Pi8DMwINDIItSvatbt+Y2mgZgE6DOQQUMB6gW71NeqcBiqvCEiKI3l\n",
       "OkBjgXZJAlAHpEwemgALJhG+Ni0O7wB9Bkcj047t2/ex2+OhlDBqKZ7I5N2Thudfm4+aqlIQL1Xe\n",
       "MSP8KdMhEnNGCPDk5TxMHRqS8E5Oi8ME0JrlaMyudnZudj6VK115dGGlMboAqKPeHLePND08xMbq\n",
       "qhmHz+DD4Tbv6I/L24l2y9EMDjZFMXSlOetbMmhLYzNCv0wHVXfyEaWJ8zB16NHhvejk4B1dMpBh\n",
       "wKvmDh3Nu3FQSJjWKEdjtg7ocuLeohLMCyNFo1hGp3fBUjpyw9672cWt3OXeb25438IKo24munWs\n",
       "NLxzwhvxKLCezzK2HjMj/C7TQeNc1SJvuuVQHzd5mDp8koPvooRD3eM9eQaMe2IKwd6eQ+g6kIhy\n",
       "NGZP84ybF72dDoGssIHiaEdxqpjGJrq5BYftOdm329jPL04RjxzqohEavOOYC8wIz0KrwTisMGDH\n",
       "EBG+kukQrsxwkmR28XzxNOdR0kGH77qEQ4SeZsAYo3sxFw4hyodEjqMxC8BDMgbMMelb/x3mJe06\n",
       "1MWEMc8QWz7MZFQH11y2cXjIcifsRMvIr/mITmnnuzQy0g5f05MZxiFwdXHZcOUREuxyoFh8o1gc\n",
       "K+ngu+DMzxS2mVxuNy4sDtQFAvgk83HhYI4LhsZMzbNJoIctBz7rb8HXqlFv9Devb846dNgGLW/q\n",
       "QBOfvTxvWBQtzeF9WT5YqfCEWcoopzMJzkEZuFk+7lmEhCwfJDpQB4xU6EB1Mjwp4UDQ4j5xaUi7\n",
       "cZjgZC0dQoXVdG8lA9i6w8C3UV2VjgtgKYKsGG6yZL+l7HjIrJr/8CHHyVA+sO4KppDYQRyiO6CN\n",
       "ly9jkgLWoYM3ZasPAoZStsvkUpo309ZVOYeIVTdEPrhw6AT+MDgaR+x6hT76fQupUlDr7f1AldbJ\n",
       "geKV4tsdVB+oTmpzkLCt5bQLyqRq6RAoQDHrQwewuyGHvo/iY9CfAtptj4gILnWyrD6c7zh1heqD\n",
       "vU5WrKNKHEgHDmzWBxcOYh1l1Ul8wcQ492WPwaP2qvvXlOlgzStsK8KVornOc1Y5J3phih3+NC4L\n",
       "HSj3fJOoNyL3oTuHRBaP1aXx00vGE9CpRnWhp8AOlCIsr9DBw/5jfc65todXt2ZUj5kFm7ArLuEQ\n",
       "IB8GjNGMshluHAJZZZZA44gNLJEn4lD4n+1Frr9Mh1LemEtbnsvHm826uoEdwSwWPMi+PXtzKy18\n",
       "Hz6GSPt8yjJlbZMRWtu0+xz8r2WeGxyOIZBkB0oR/irXof7lqRb603GHDmJFz3kIH2qfz18n4eB9\n",
       "72qWA2NscGHMlYNyZGFcoHFEjUqkb8ZW+N7s7NxCOuxkdTPuXFfTBM4HbiBTfScX0Wva8Cmpinzg\n",
       "rdvpuIyv6K31fW3tZG1u3XZET/r5EJIiH7wvyPdZAXM/pul3TIfSPmtf2XZYNm1ul+8Rpq/DETti\n",
       "MPqiB3w7/wswXO7IJglmq/lCA9Llp2M7kKyJwwHIt9iVzZekycriUmvbUFtKFuyIkYz/ATbE4O2I\n",
       "wS9/D/Mb/OKdw96qwb2vT9REWKqo5L9qWbxa4lJje+ZmWy1uVi/b2yKqD3fzvZwmFevEXX0vd0LY\n",
       "fxbLSBZH9u79AAAAAElFTkSuQmCC\n",
       "\" style=\"display:inline;vertical-align:middle;\" /></a><br>(see <a class=\"ProveItLink\" href=\"../../../__pv_it/theorems/4580c8493282d97bf9766c41da0f3c2d38c5d51a0/dependencies.ipynb\">dependencies</a>)<br>"
      ],
      "text/plain": [
       "md_only_nine_add_one: forall_{k in NaturalPos} ((\\# (9 ~ ..k repeats.. ~ 9) + 1) = \\# (1 ~ 0 ~ ..k repeats.. ~ 0))"
      ]
     },
     "execution_count": 2,
     "metadata": {},
     "output_type": "execute_result"
    }
   ],
   "source": [
    "%proving md_only_nine_add_one"
   ]
  },
  {
   "cell_type": "code",
   "execution_count": null,
   "metadata": {},
   "outputs": [],
   "source": []
  }
 ],
 "metadata": {
  "kernelspec": {
   "display_name": "Python 3",
   "language": "python",
   "name": "python3"
  }
 },
 "nbformat": 4,
 "nbformat_minor": 0
}