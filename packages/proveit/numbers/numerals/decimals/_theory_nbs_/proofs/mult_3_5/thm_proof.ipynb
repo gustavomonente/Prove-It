{
 "cells": [
  {
   "cell_type": "markdown",
   "metadata": {},
   "source": [
    "Proof of <a class=\"ProveItLink\" href=\"../../../../../../_theory_nbs_/theory.ipynb\">proveit</a>.<a class=\"ProveItLink\" href=\"../../../../../_theory_nbs_/theory.ipynb\">numbers</a>.<a class=\"ProveItLink\" href=\"../../../../_theory_nbs_/theory.ipynb\">numerals</a>.<a class=\"ProveItLink\" href=\"../../theory.ipynb\">decimals</a>.<a class=\"ProveItLink\" href=\"../../theorems.ipynb#mult_3_5\">mult_3_5</a> theorem\n",
    "========"
   ]
  },
  {
   "cell_type": "code",
   "execution_count": 1,
   "metadata": {},
   "outputs": [],
   "source": [
    "import proveit\n",
    "theory = proveit.Theory() # the theorem's theory"
   ]
  },
  {
   "cell_type": "code",
   "execution_count": 2,
   "metadata": {},
   "outputs": [
    {
     "data": {
      "text/html": [
       "Under these <a href=\"presumptions.txt\">presumptions</a>, we begin our proof of<br><strong id=\"mult_3_5\">mult_3_5:</strong> <a class=\"ProveItLink\" href=\"../../../__pv_it/theorems/35d71e03513101b391a99dbbc8160cdd8cb84cbf0/expr.ipynb\"><img src=\"data:image/png;base64,iVBORw0KGgoAAAANSUhEUgAAAGEAAAAUBAMAAABvx07iAAAAMFBMVEX////MzMxUVFR2dna6uroQ\n",
       "EBCqqqqIiIgiIiJmZmYyMjJERETu7u6YmJjc3NwAAACgK8IjAAAAAXRSTlMAQObYZgAAAVRJREFU\n",
       "KM9jYOC7wIAB8hjwgdMMDI+Nt8G5XHcYpzEwPcCqFCzHwLCOgW8CQz7cItb//w0YeBZgqGaLgcox\n",
       "8E5gYP/GwN8AN8eoDkiao2s4ZPQHJsfxgIElhIEfbigTmDyKYQfvH5jcCzCJcBVElMsBt45KEMHT\n",
       "DJdhulspwMDAPAGrDrDcXiCPz2IOXIb7AN8XoDzYlVarQGAlXAdErg3MLwW5ggeqaQcwZBqw2QGR\n",
       "C4GEKTDsGM5DvT//AQPjBxw6gHJAHXwPGLi/gYJNAUhoMTDYO+DQAZEDuor/D0QHGEQBzTnAwNKA\n",
       "8MciuA6IHNDnrBsYOP7AdAADqQvmc3Q7IHKWQM4FpPh4ycAbx8DAaYCug/0PTM4DyPOcuQUuwzdZ\n",
       "8wAwBgXQNHCq/poLlePAmkxP4EnsvBOwiZrjyx/7sIhhSe2oOQoDcD/ApwNbrr2HRz0A0PNk/CGe\n",
       "jjgAAAAASUVORK5CYII=\n",
       "\" style=\"display:inline;vertical-align:middle;\" /></a><br>(see <a class=\"ProveItLink\" href=\"../../../__pv_it/theorems/68b460818a0aa6fd52720d8db4a723508a598ac10/dependencies.ipynb\">dependencies</a>)<br>"
      ],
      "text/plain": [
       "mult_3_5: (3 * 5) = 15"
      ]
     },
     "execution_count": 2,
     "metadata": {},
     "output_type": "execute_result"
    }
   ],
   "source": [
    "%proving mult_3_5"
   ]
  },
  {
   "cell_type": "code",
   "execution_count": null,
   "metadata": {},
   "outputs": [],
   "source": []
  }
 ],
 "metadata": {
  "kernelspec": {
   "display_name": "Python 3",
   "language": "python",
   "name": "python3"
  }
 },
 "nbformat": 4,
 "nbformat_minor": 0
}