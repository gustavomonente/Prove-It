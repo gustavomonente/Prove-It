{
 "cells": [
  {
   "cell_type": "markdown",
   "metadata": {},
   "source": [
    "Proof of <a class=\"ProveItLink\" href=\"../../../../../../_theory_nbs_/theory.ipynb\">proveit</a>.<a class=\"ProveItLink\" href=\"../../../../../_theory_nbs_/theory.ipynb\">numbers</a>.<a class=\"ProveItLink\" href=\"../../../../_theory_nbs_/theory.ipynb\">numerals</a>.<a class=\"ProveItLink\" href=\"../../theory.ipynb\">decimals</a>.<a class=\"ProveItLink\" href=\"../../theorems.ipynb#reduce_1_repeats\">reduce_1_repeats</a> theorem\n",
    "========"
   ]
  },
  {
   "cell_type": "code",
   "execution_count": 1,
   "metadata": {},
   "outputs": [],
   "source": [
    "import proveit\n",
    "theory = proveit.Theory() # the theorem's theory"
   ]
  },
  {
   "cell_type": "code",
   "execution_count": 2,
   "metadata": {},
   "outputs": [
    {
     "data": {
      "text/html": [
       "Under these <a href=\"presumptions.txt\">presumptions</a>, we begin our proof of<br><strong id=\"reduce_1_repeats\">reduce_1_repeats:</strong> <a class=\"ProveItLink\" href=\"../../../__pv_it/theorems/dc3ac68b0d137cfb0ce0d2a94baf450096d2286b0/expr.ipynb\"><img src=\"data:image/png;base64,iVBORw0KGgoAAAANSUhEUgAAAQoAAAAUBAMAAACHTm6lAAAAMFBMVEX///8QEBCIiIhmZma6urrM\n",
       "zMxUVFQiIiJERETc3Nzu7u6qqqp2dnaYmJgyMjIAAAAcRTyBAAAAAXRSTlMAQObYZgAAAxBJREFU\n",
       "SMetVkFIFFEY/lZ3G53ZWcPskHRYFIRooaWoQ7ilddgOkZ66xW5YByFrqUOkER5dQhpIMIRo2EDF\n",
       "Qy11CCRwUfBgVKLRyZWNyjIyIqVMSfvfzqy+NzszYfiYj5153//+9+3//vfeDxS18kkD29UUzX6O\n",
       "AseQYx9Z3mLQxLa11uKuQZ4jvGDvX3iLeRNF/6nafTKvE/GouGue5wj3WHw6OQM1bMDa+sdX3FU8\n",
       "dCL8QWvPpn/GEQI6/aQ5C0kzUNTUf6iYdiLkndaeTf+MI6gTQ0O9vEWvia2qUBYdqQ/Wjl6RIyx3\n",
       "dd3kLWpNpOp6QkEbFWcqn8/j7kyr993L+jZazci4hidkOf3rUNq3fyrHDzF9jFlV1Ioc4SKQ5C26\n",
       "DcgZ9aqUs4vFruE/3nY06p4qDIQR1b3Vyg0cAa7lUz/BL4XpYzafAd/yLQzRP+MIJyELk3UY8Ov+\n",
       "Fa9mp+IT4MnAEwzEoSxhL1Cp7EaTzlQ06uDDV/DxzBqLDpEjSCgRjqgqAzLKOu3zYg6IRbJvJwNh\n",
       "yIu+xWy2Db7QcY2pkJb3CWlp+ohZVVSJHME/KcFGBVARtFfxHhhhm4pUYFlZZbN91mJ5FfKrdXGP\n",
       "Gz7sVPAcoTx3ll5GD9c1CytCXLO9iq9EBQ0VFIsf9FaWQKyPVAT7oC4JYwwfUS4v4hD9R00kLwAl\n",
       "+mWpQchORT9AvQ4qKK1kMy9uUbZXZDDS0zyH8Amgjd+8po9Zayy6RY7hKaW1DwsFC3PrNKXv4D7k\n",
       "Nfp6nGMPSkwVFHnfKkr1wB4MZBBL46inE6/P6ccQpuxMmuZshOEDqLeqGBO5+o31+V2wMEPUX5OK\n",
       "UNZeJ7lSnD2l59cijD+1fpvYgxMItNVQFOWWkF7eEkotYMcl7fTUTINpLrVv+MBHq4qoyDGoLO6+\n",
       "7z7bE1zRHU/EQNj1LB3e3CoJlxM8wfEP/Dm/7W3mx/+qyGzlNjMvzDejEwUiCe40TTlPI8XdRMhB\n",
       "t5s9abnZ7SuQjSrEuebyXvmpuahQbaa0qXKS9vz2V3yqS8XHOMJffBEHoZKRABYAAAAASUVORK5C\n",
       "YII=\n",
       "\" style=\"display:inline;vertical-align:middle;\" /></a><br>(see <a class=\"ProveItLink\" href=\"../../../__pv_it/theorems/5e66ed325b91eaf3e58a278a542f9a8d746c3e260/dependencies.ipynb\">dependencies</a>)<br>"
      ],
      "text/plain": [
       "reduce_1_repeats: forall_{x} ((x, ..1 repeats.., x) = (x))"
      ]
     },
     "execution_count": 2,
     "metadata": {},
     "output_type": "execute_result"
    }
   ],
   "source": [
    "%proving reduce_1_repeats"
   ]
  },
  {
   "cell_type": "code",
   "execution_count": null,
   "metadata": {},
   "outputs": [],
   "source": []
  }
 ],
 "metadata": {
  "kernelspec": {
   "display_name": "Python 3",
   "language": "python",
   "name": "python3"
  }
 },
 "nbformat": 4,
 "nbformat_minor": 0
}