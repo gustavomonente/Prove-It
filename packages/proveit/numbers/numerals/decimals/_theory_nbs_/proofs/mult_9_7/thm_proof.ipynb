{
 "cells": [
  {
   "cell_type": "markdown",
   "metadata": {},
   "source": [
    "Proof of <a class=\"ProveItLink\" href=\"../../../../../../_theory_nbs_/theory.ipynb\">proveit</a>.<a class=\"ProveItLink\" href=\"../../../../../_theory_nbs_/theory.ipynb\">numbers</a>.<a class=\"ProveItLink\" href=\"../../../../_theory_nbs_/theory.ipynb\">numerals</a>.<a class=\"ProveItLink\" href=\"../../theory.ipynb\">decimals</a>.<a class=\"ProveItLink\" href=\"../../theorems.ipynb#mult_9_7\">mult_9_7</a> theorem\n",
    "========"
   ]
  },
  {
   "cell_type": "code",
   "execution_count": 1,
   "metadata": {},
   "outputs": [],
   "source": [
    "import proveit\n",
    "theory = proveit.Theory() # the theorem's theory"
   ]
  },
  {
   "cell_type": "code",
   "execution_count": 2,
   "metadata": {},
   "outputs": [
    {
     "data": {
      "text/html": [
       "Under these <a href=\"presumptions.txt\">presumptions</a>, we begin our proof of<br><strong id=\"mult_9_7\">mult_9_7:</strong> <a class=\"ProveItLink\" href=\"../../../__pv_it/theorems/027542cd13baffdf98913842bb22ba35ca74f37a0/expr.ipynb\"><img src=\"data:image/png;base64,iVBORw0KGgoAAAANSUhEUgAAAGEAAAAUBAMAAABvx07iAAAAMFBMVEX////MzMxUVFR2dna6uroQ\n",
       "EBCqqqqIiIgiIiJmZmYyMjJERETu7u6YmJjc3NwAAACgK8IjAAAAAXRSTlMAQObYZgAAAaFJREFU\n",
       "KM99UzFIQlEUPX1NTb8puLTp0tAS2h/EInAJ2mqwlgqE9moLp5yCWvqLgwUh0VJUuERDVH8JjAbd\n",
       "mkohhFrCICIk+937Rb88P//Ce+++d95579z77gOGK+izNdjZI/CgjHenI2OKEpVqfdscmzEMK1Np\n",
       "ci8gr6CudZCqrusRuSAS5GPs4x2uFuBXIc1DUjvQISABcZHhU3GNrTR+AE8NgQIcjQ4UBWLAvciY\n",
       "Y50zSTSBN6BchPvPBJ0bgDcpMC7bA6vKAIN0x1ePAI5TFRjNUIYPKZGEG7Akb8sEp6n5jdAnT9lO\n",
       "OPBmBdvA6w5liEZcYfWbl9tZ4ZBcWSFVOpCj3e4UkGL8KfRJQ9k42M39QENQRTmqsqwFzWBQQn+p\n",
       "80TY9RStGLvEqHwAd2lDFeUm0sUC7DqzZhxH7I7yHbrGDIrcv4ywWRZhtRt5j4U15LAE7GlIkPIz\n",
       "+dzE1imBGIoKDCkqL+LZeI9Zmir5ngerc7F5g+KjJyaCcOYPkkaVWFjJptj9qtVq3O5/3Fqs9Ve7\n",
       "8KP6zFezY1j92heb/f/xRWypXa8kHAAAAABJRU5ErkJggg==\n",
       "\" style=\"display:inline;vertical-align:middle;\" /></a><br>(see <a class=\"ProveItLink\" href=\"../../../__pv_it/theorems/2590a0d1403f955fe4ea4c3eec547b608d3f26e70/dependencies.ipynb\">dependencies</a>)<br>"
      ],
      "text/plain": [
       "mult_9_7: (9 * 7) = 63"
      ]
     },
     "execution_count": 2,
     "metadata": {},
     "output_type": "execute_result"
    }
   ],
   "source": [
    "%proving mult_9_7"
   ]
  },
  {
   "cell_type": "code",
   "execution_count": null,
   "metadata": {},
   "outputs": [],
   "source": []
  }
 ],
 "metadata": {
  "kernelspec": {
   "display_name": "Python 3",
   "language": "python",
   "name": "python3"
  }
 },
 "nbformat": 4,
 "nbformat_minor": 0
}