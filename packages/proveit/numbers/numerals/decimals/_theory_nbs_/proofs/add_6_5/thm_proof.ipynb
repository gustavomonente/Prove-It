{
 "cells": [
  {
   "cell_type": "markdown",
   "metadata": {},
   "source": [
    "Proof of <a class=\"ProveItLink\" href=\"../../../../../../_theory_nbs_/theory.ipynb\">proveit</a>.<a class=\"ProveItLink\" href=\"../../../../../_theory_nbs_/theory.ipynb\">numbers</a>.<a class=\"ProveItLink\" href=\"../../../../_theory_nbs_/theory.ipynb\">numerals</a>.<a class=\"ProveItLink\" href=\"../../theory.ipynb\">decimals</a>.<a class=\"ProveItLink\" href=\"../../theorems.ipynb#add_6_5\">add_6_5</a> theorem\n",
    "========"
   ]
  },
  {
   "cell_type": "code",
   "execution_count": 1,
   "metadata": {},
   "outputs": [],
   "source": [
    "import proveit\n",
    "theory = proveit.Theory() # the theorem's theory"
   ]
  },
  {
   "cell_type": "code",
   "execution_count": 2,
   "metadata": {},
   "outputs": [
    {
     "data": {
      "text/html": [
       "Under these <a href=\"presumptions.txt\">presumptions</a>, we begin our proof of<br><strong id=\"add_6_5\">add_6_5:</strong> <a class=\"ProveItLink\" href=\"../../../__pv_it/theorems/874d592b7a99571d9429db6f0e0d4f5a875c38720/expr.ipynb\"><img src=\"data:image/png;base64,iVBORw0KGgoAAAANSUhEUgAAAGsAAAAUBAMAAAB45d4rAAAAMFBMVEX///9UVFTMzMx2dna6uroQ\n",
       "EBCqqqqIiIgiIiJmZmYyMjJERETu7u6YmJjc3NwAAAC+aOQFAAAAAXRSTlMAQObYZgAAAVRJREFU\n",
       "OMtjYOC7wIAdsD1gwANOA7F5sQKq4NoDmgkMcvi0rWNgOOXAuQBVMP7/Z6AwpuLUA1CCdwIDw04G\n",
       "7g0Q4XSo9GJxoAuZC9A08QjLH4AQDBwPGFj+wSVg2gTAqgIwbLt/AEq8YGDgDsCujWEJbm2VDAz8\n",
       "i8ynoGmTvT4JSFri1raXgeH8WgaOBFRtexjeOzAw3AIxmVeBwQRUbW1AbR8YOGNQtQFd3sDAkIHb\n",
       "thCgIxsYeL8AuVarVrWuWrUQooATGE76eLVxLGDg/YtiG+MCBuYveLUBHckYALENoY11AQPnHwYG\n",
       "DyS/CWAECdMfBs4AFG2cYCdAggS7baBAFmY4ihqSfBMYrgKTyWQMbfUHoATIIcyThdDi7aXhHCC5\n",
       "CF3XxPiVFyAEB0r2SEdJgg24MwDvBGTeGWQORlJGBvtwypwilE1JNRAUargKBV48hQIAK/l4Zcw1\n",
       "2bUAAAAASUVORK5CYII=\n",
       "\" style=\"display:inline;vertical-align:middle;\" /></a><br>(see <a class=\"ProveItLink\" href=\"../../../__pv_it/theorems/19a7ce8d1c6ebfb92d459733a173f6d08ddea4ca0/dependencies.ipynb\">dependencies</a>)<br>"
      ],
      "text/plain": [
       "add_6_5: (6 + 5) = 11"
      ]
     },
     "execution_count": 2,
     "metadata": {},
     "output_type": "execute_result"
    }
   ],
   "source": [
    "%proving add_6_5"
   ]
  },
  {
   "cell_type": "code",
   "execution_count": null,
   "metadata": {},
   "outputs": [],
   "source": []
  }
 ],
 "metadata": {
  "kernelspec": {
   "display_name": "Python 3",
   "language": "python",
   "name": "python3"
  }
 },
 "nbformat": 4,
 "nbformat_minor": 0
}