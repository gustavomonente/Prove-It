{
 "cells": [
  {
   "cell_type": "markdown",
   "metadata": {},
   "source": [
    "Proof of <a class=\"ProveItLink\" href=\"../../../../../../_theory_nbs_/theory.ipynb\">proveit</a>.<a class=\"ProveItLink\" href=\"../../../../../_theory_nbs_/theory.ipynb\">numbers</a>.<a class=\"ProveItLink\" href=\"../../../../_theory_nbs_/theory.ipynb\">numerals</a>.<a class=\"ProveItLink\" href=\"../../theory.ipynb\">decimals</a>.<a class=\"ProveItLink\" href=\"../../theorems.ipynb#mult_1_3\">mult_1_3</a> theorem\n",
    "========"
   ]
  },
  {
   "cell_type": "code",
   "execution_count": 1,
   "metadata": {},
   "outputs": [],
   "source": [
    "import proveit\n",
    "theory = proveit.Theory() # the theorem's theory"
   ]
  },
  {
   "cell_type": "code",
   "execution_count": 2,
   "metadata": {},
   "outputs": [
    {
     "data": {
      "text/html": [
       "Under these <a href=\"presumptions.txt\">presumptions</a>, we begin our proof of<br><strong id=\"mult_1_3\">mult_1_3:</strong> <a class=\"ProveItLink\" href=\"../../../__pv_it/theorems/fd954a148d85e2915ef9e4598af1b82b6e05f9ce0/expr.ipynb\"><img src=\"data:image/png;base64,iVBORw0KGgoAAAANSUhEUgAAAFcAAAAUBAMAAAAKKrydAAAAMFBMVEX////MzMxUVFR2dna6uroQ\n",
       "EBCqqqqIiIgiIiJmZmYyMjJERETu7u6YmJjc3NwAAACgK8IjAAAAAXRSTlMAQObYZgAAARlJREFU\n",
       "KM9jYOC7wIAB8hhwgNOoXD5j6wQGpgfoqsDCDAzrgDj1AFz0JQPbXwaeBeiKwcIMvBMYeJT1EYrr\n",
       "Exh+MDCYoyuGCHOAbLyPUOzqwPCLgeEoumKI8AsGVMUMYPu4HDD8BhKuxFB8woCBgXkChmKQ8F50\n",
       "xY87gRxesA+tVoHASoRwG0IxD0Q1ewjQzgYMk0HCIQjF56EBFnqAgfEDZoQAhZEUcygAiXcMDPsT\n",
       "MBVDhNvQ3Pz/AEiUpQHh5kUIYXQPRjMw9B+AehAJQIQtwfGDUHwXHKCcBmiKIcIeQNak+JXwpMcy\n",
       "czYwQrgE0BRDhDkeYEuKJ7CnUN4J2ETNcaTnfVjEMJMo9sQPBtwPcCjGlq3uYVcKALtLYoiwRZBj\n",
       "AAAAAElFTkSuQmCC\n",
       "\" style=\"display:inline;vertical-align:middle;\" /></a><br>(see <a class=\"ProveItLink\" href=\"../../../__pv_it/theorems/bd50f63736a5e914d0a23e4098e7d08ecb4ce16f0/dependencies.ipynb\">dependencies</a>)<br>"
      ],
      "text/plain": [
       "mult_1_3: (1 * 3) = 3"
      ]
     },
     "execution_count": 2,
     "metadata": {},
     "output_type": "execute_result"
    }
   ],
   "source": [
    "%proving mult_1_3"
   ]
  },
  {
   "cell_type": "code",
   "execution_count": null,
   "metadata": {},
   "outputs": [],
   "source": []
  }
 ],
 "metadata": {
  "kernelspec": {
   "display_name": "Python 3",
   "language": "python",
   "name": "python3"
  }
 },
 "nbformat": 4,
 "nbformat_minor": 0
}