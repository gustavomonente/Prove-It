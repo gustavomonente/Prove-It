{
 "cells": [
  {
   "cell_type": "markdown",
   "metadata": {},
   "source": [
    "Proof of <a class=\"ProveItLink\" href=\"../../../../../../_theory_nbs_/theory.ipynb\">proveit</a>.<a class=\"ProveItLink\" href=\"../../../../../_theory_nbs_/theory.ipynb\">numbers</a>.<a class=\"ProveItLink\" href=\"../../../../_theory_nbs_/theory.ipynb\">numerals</a>.<a class=\"ProveItLink\" href=\"../../theory.ipynb\">decimals</a>.<a class=\"ProveItLink\" href=\"../../theorems.ipynb#mult_6_3\">mult_6_3</a> theorem\n",
    "========"
   ]
  },
  {
   "cell_type": "code",
   "execution_count": 1,
   "metadata": {},
   "outputs": [],
   "source": [
    "import proveit\n",
    "theory = proveit.Theory() # the theorem's theory"
   ]
  },
  {
   "cell_type": "code",
   "execution_count": 2,
   "metadata": {},
   "outputs": [
    {
     "data": {
      "text/html": [
       "Under these <a href=\"presumptions.txt\">presumptions</a>, we begin our proof of<br><strong id=\"mult_6_3\">mult_6_3:</strong> <a class=\"ProveItLink\" href=\"../../../__pv_it/theorems/a729962c08f6b15993bb9cfaeba77f4169ffc4bd0/expr.ipynb\"><img src=\"data:image/png;base64,iVBORw0KGgoAAAANSUhEUgAAAGEAAAAUBAMAAABvx07iAAAAMFBMVEX///9UVFTMzMx2dna6uroQ\n",
       "EBCqqqqIiIgiIiJmZmYyMjJERETu7u6YmJjc3NwAAAC+aOQFAAAAAXRSTlMAQObYZgAAAYtJREFU\n",
       "KM+Fk78vQ1EUxz+tpn1P+0oIic1/oGJoqhFdJGJhYCLy/gEWg5h0kpjaRBcRSdlIiFXixzM0aRgQ\n",
       "g4k0sbCIgUQa1HmlT71ez8n7kXu/93PPPeeeA9ELGmwWLzuTNz7XXRtG+5ImvpJyaWQ+kZLfLpym\n",
       "9Hxt9oHgO5F8w+rgFOjQCUYW9gnv1ZRFk1dx6gZOet9gRjYHrUTgo04aSlGGQoMPQ4gkFOEewmO/\n",
       "/b9Dc0pFjB4wAAvQshnP1WnFGDRlVYSvcmXCIZzvoJmOdLdsiV4NvX/bti2HYLAs2pIQT+hTdvK+\n",
       "kNC4nCyt8hHMZUSTpyWN8SyT5985nbDwP6mIS0Ivlk1oeQyJFq1VPo9wbP5ByEF6TPtUvrEvH1Wr\n",
       "WDYRSP/EsVEjIrKN78KO3P+G7iR4EjLWd+RuH9NyEyUSMmqn4OTqpnofesxNhIQYsbiGYRk1rbQ5\n",
       "SmB1TW6vudsF6B3ldfxddiVqyjItehS7kVXNxr3640jVCPn/Ospt4ZIXoeraW4/1n5xSbKKIiwFX\n",
       "AAAAAElFTkSuQmCC\n",
       "\" style=\"display:inline;vertical-align:middle;\" /></a><br>(see <a class=\"ProveItLink\" href=\"../../../__pv_it/theorems/8c78faefe61ad60cfdc1921f41805e8e239978700/dependencies.ipynb\">dependencies</a>)<br>"
      ],
      "text/plain": [
       "mult_6_3: (6 * 3) = 18"
      ]
     },
     "execution_count": 2,
     "metadata": {},
     "output_type": "execute_result"
    }
   ],
   "source": [
    "%proving mult_6_3"
   ]
  },
  {
   "cell_type": "code",
   "execution_count": null,
   "metadata": {},
   "outputs": [],
   "source": []
  }
 ],
 "metadata": {
  "kernelspec": {
   "display_name": "Python 3",
   "language": "python",
   "name": "python3"
  }
 },
 "nbformat": 4,
 "nbformat_minor": 0
}