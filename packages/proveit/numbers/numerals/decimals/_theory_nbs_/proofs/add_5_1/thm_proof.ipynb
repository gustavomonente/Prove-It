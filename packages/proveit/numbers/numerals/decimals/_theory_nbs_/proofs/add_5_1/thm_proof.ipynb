{
 "cells": [
  {
   "cell_type": "markdown",
   "metadata": {},
   "source": [
    "Proof of <a class=\"ProveItLink\" href=\"../../../../../../_theory_nbs_/theory.ipynb\">proveit</a>.<a class=\"ProveItLink\" href=\"../../../../../_theory_nbs_/theory.ipynb\">numbers</a>.<a class=\"ProveItLink\" href=\"../../../../_theory_nbs_/theory.ipynb\">numerals</a>.<a class=\"ProveItLink\" href=\"../../theory.ipynb\">decimals</a>.<a class=\"ProveItLink\" href=\"../../theorems.ipynb#add_5_1\">add_5_1</a> theorem\n",
    "========"
   ]
  },
  {
   "cell_type": "code",
   "execution_count": 1,
   "metadata": {},
   "outputs": [],
   "source": [
    "import proveit\n",
    "theory = proveit.Theory() # the theorem's theory"
   ]
  },
  {
   "cell_type": "code",
   "execution_count": 2,
   "metadata": {},
   "outputs": [
    {
     "data": {
      "text/html": [
       "Under these <a href=\"presumptions.txt\">presumptions</a>, we begin our proof of<br><strong id=\"add_5_1\">add_5_1:</strong> <a class=\"ProveItLink\" href=\"../../../__pv_it/theorems/736bea898442b7b72887dd9ac5e84d1990be1d8c0/expr.ipynb\"><img src=\"data:image/png;base64,iVBORw0KGgoAAAANSUhEUgAAAGEAAAAUBAMAAABvx07iAAAAMFBMVEX///9UVFTMzMx2dna6uroQ\n",
       "EBCqqqqIiIgiIiJmZmYyMjJERETu7u6YmJjc3NwAAAC+aOQFAAAAAXRSTlMAQObYZgAAAVNJREFU\n",
       "KM9jYOC7wIAd5OEQZzjNwLD2gGYCpgTjAwwh5nIjILmOgSH+/2c0KbYYBgaeBegaeJYwzGJg4J3A\n",
       "wLBYHGZcOoQ6aPgHSJqj6+CewLCbgYEDqFgALgbVwcAL0nEUXYc/2OAXDDh1cDmg6dgKJiuBWPb6\n",
       "JGw6mCeg6filXAk0ZC+QtYfhvQMWHbxgrzOvAgOgbp5fFxjaGEAI5KcGLDrYGtCC6j8Dw9QDDCFg\n",
       "Duc/IGG1alXrqlUL4TqYPqC56gcDw30HkA7GBQzMX7DYgaGjC6gD7DDWBQycf7DoYGlA8gcoPEXB\n",
       "dgB9zgmMlQU4fY4E9A8wTGVgsGRg4JvAcPUBqg52kA5OA/SUZsATxsDgAWS9NJyDGh+cor/mAmNQ\n",
       "AT3SLQ0VIKmEASPOweAE9sTOixKxZ5A55jjyxz5cGQcztSNyFHbA/QCHBM5cew+7MAAaHWBSeSob\n",
       "LQAAAABJRU5ErkJggg==\n",
       "\" style=\"display:inline;vertical-align:middle;\" /></a><br>(see <a class=\"ProveItLink\" href=\"../../../__pv_it/theorems/1f67541504c938b73e9976bd38d152d31e0f2fdc0/dependencies.ipynb\">dependencies</a>)<br>"
      ],
      "text/plain": [
       "add_5_1: (5 + 1) = 6"
      ]
     },
     "execution_count": 2,
     "metadata": {},
     "output_type": "execute_result"
    }
   ],
   "source": [
    "%proving add_5_1"
   ]
  },
  {
   "cell_type": "code",
   "execution_count": null,
   "metadata": {},
   "outputs": [],
   "source": []
  }
 ],
 "metadata": {
  "kernelspec": {
   "display_name": "Python 3",
   "language": "python",
   "name": "python3"
  }
 },
 "nbformat": 4,
 "nbformat_minor": 0
}