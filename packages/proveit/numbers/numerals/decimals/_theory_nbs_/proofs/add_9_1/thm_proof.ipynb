{
 "cells": [
  {
   "cell_type": "markdown",
   "metadata": {},
   "source": [
    "Proof of <a class=\"ProveItLink\" href=\"../../../../../../_theory_nbs_/theory.ipynb\">proveit</a>.<a class=\"ProveItLink\" href=\"../../../../../_theory_nbs_/theory.ipynb\">numbers</a>.<a class=\"ProveItLink\" href=\"../../../../_theory_nbs_/theory.ipynb\">numerals</a>.<a class=\"ProveItLink\" href=\"../../theory.ipynb\">decimals</a>.<a class=\"ProveItLink\" href=\"../../theorems.ipynb#add_9_1\">add_9_1</a> theorem\n",
    "========"
   ]
  },
  {
   "cell_type": "code",
   "execution_count": 1,
   "metadata": {},
   "outputs": [],
   "source": [
    "import proveit\n",
    "theory = proveit.Theory() # the theorem's theory"
   ]
  },
  {
   "cell_type": "code",
   "execution_count": 2,
   "metadata": {},
   "outputs": [
    {
     "data": {
      "text/html": [
       "Under these <a href=\"presumptions.txt\">presumptions</a>, we begin our proof of<br><strong id=\"add_9_1\">add_9_1:</strong> <a class=\"ProveItLink\" href=\"../../../__pv_it/theorems/32344d360dfa7d852843fe45b5c08521f9499d0d0/expr.ipynb\"><img src=\"data:image/png;base64,iVBORw0KGgoAAAANSUhEUgAAAGwAAAAUBAMAAACaOcVSAAAAMFBMVEX////MzMxUVFR2dna6uroQ\n",
       "EBCqqqqIiIgiIiJmZmYyMjJERETu7u6YmJjc3NwAAACgK8IjAAAAAXRSTlMAQObYZgAAAWFJREFU\n",
       "OMuVlLFLw0AUxr8mNZWas4J/QCLuVemkk6Njho6Kg0gdu4mD6GLnQye3KiIYVLo5KYIIWoW6CS5m\n",
       "EdyqKOkSxbsLanK5RHxDjvc9fvde3t07YPAOajM8ZNgNcF0pqyJlNaCvTrDvMcw5PJ1LsUUmtJMI\n",
       "l/dx5YFQaA40Gsq1cDFHx1hcr0uQkIkDvYl+D6Um9JcYBjwyzHQS2Zg8YMMI8Ax0Wih8KjDsqbCS\n",
       "jbyPFaCPZXtXYZMqrEOR7+EUvMLihwp7EI1zhdFvuTuOXA8N5pxgwVdhS6psXYrcG6r8YO+HX9ky\n",
       "5bobrrv7i1npRVaFqwWqbFZKSwxfFAkUbRU2E/k3++cAWiABbwmZheWltkTOFh43a3Lh0DyChK1x\n",
       "bCuBcbmByyFRSGV7WsI25w/YYOzIlJAvlkfAL1fEarEruJ4+N4RGvdvYhNQz5u0sNdL+Y0z/vSGz\n",
       "1EeBZDwKX7lofhMzBSVZAAAAAElFTkSuQmCC\n",
       "\" style=\"display:inline;vertical-align:middle;\" /></a><br>(see <a class=\"ProveItLink\" href=\"../../../__pv_it/theorems/b89df39727d6f933a0164c34fc0eaee1fb8e66140/dependencies.ipynb\">dependencies</a>)<br>"
      ],
      "text/plain": [
       "add_9_1: (9 + 1) = 10"
      ]
     },
     "execution_count": 2,
     "metadata": {},
     "output_type": "execute_result"
    }
   ],
   "source": [
    "%proving add_9_1"
   ]
  },
  {
   "cell_type": "code",
   "execution_count": null,
   "metadata": {},
   "outputs": [],
   "source": []
  }
 ],
 "metadata": {
  "kernelspec": {
   "display_name": "Python 3",
   "language": "python",
   "name": "python3"
  }
 },
 "nbformat": 4,
 "nbformat_minor": 0
}