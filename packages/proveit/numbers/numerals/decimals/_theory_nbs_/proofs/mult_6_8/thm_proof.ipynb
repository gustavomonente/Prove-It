{
 "cells": [
  {
   "cell_type": "markdown",
   "metadata": {},
   "source": [
    "Proof of <a class=\"ProveItLink\" href=\"../../../../../../_theory_nbs_/theory.ipynb\">proveit</a>.<a class=\"ProveItLink\" href=\"../../../../../_theory_nbs_/theory.ipynb\">numbers</a>.<a class=\"ProveItLink\" href=\"../../../../_theory_nbs_/theory.ipynb\">numerals</a>.<a class=\"ProveItLink\" href=\"../../theory.ipynb\">decimals</a>.<a class=\"ProveItLink\" href=\"../../theorems.ipynb#mult_6_8\">mult_6_8</a> theorem\n",
    "========"
   ]
  },
  {
   "cell_type": "code",
   "execution_count": 1,
   "metadata": {},
   "outputs": [],
   "source": [
    "import proveit\n",
    "theory = proveit.Theory() # the theorem's theory"
   ]
  },
  {
   "cell_type": "code",
   "execution_count": 2,
   "metadata": {},
   "outputs": [
    {
     "data": {
      "text/html": [
       "Under these <a href=\"presumptions.txt\">presumptions</a>, we begin our proof of<br><strong id=\"mult_6_8\">mult_6_8:</strong> <a class=\"ProveItLink\" href=\"../../../__pv_it/theorems/c712bcb13335ebcc402e54b08278a291cd7d189d0/expr.ipynb\"><img src=\"data:image/png;base64,iVBORw0KGgoAAAANSUhEUgAAAGEAAAAUBAMAAABvx07iAAAAMFBMVEX///9UVFTMzMx2dna6uroQ\n",
       "EBCqqqqIiIgiIiJmZmYyMjJERETu7u6YmJjc3NwAAAC+aOQFAAAAAXRSTlMAQObYZgAAAXxJREFU\n",
       "KM99k79Lw0AUx7+pVfOzDQpCt/4HdgtVxIziYgcXQSS4K4KICA6dXA3YxcnqpqB0FfyRpVB0aMVB\n",
       "cCgZHSvoIv5610vTNhfySAK5z31y917eAZkWhNhEUjzSbW3ne6/6btGG5IvzUi5nwBXwYCvVHlCA\n",
       "KehV0ZBNzmC4wDW0Wg9s0AdoUdHYMQMm+0j/DoBZoAHUBSHzagbsDdBKA2TpBnOAakeNEdUM2B6Q\n",
       "PbMqIZH+nh3ibtRok8HZLdC8hOyEaP7Lo+y6qc9csDjvlnCLDM4OyOhAWWWjDI1VDpfpWY5uCmRw\n",
       "Rle2DOODRpvsw08Y//SQ6kSMdWZwRoZchfHDKw7QYtOOYOgFZnBGu5JKfI0uoqlSC+lyP49Tttfc\n",
       "8cnKPmeUeeobSljgNaq2H2Q+FKNmwIr0Mol6WKtFDy/UKwXRqAVsgRXiaKLfcDnWbWpe+IP37y3O\n",
       "ZD+uoRsJzW64caNW0vm4ixmL6/bhExUNzU8y4k5tO2H+Pyu5Zh6WJfaxAAAAAElFTkSuQmCC\n",
       "\" style=\"display:inline;vertical-align:middle;\" /></a><br>(see <a class=\"ProveItLink\" href=\"../../../__pv_it/theorems/82dc00b898c7c54df75038a8c54cbf1e9b4091450/dependencies.ipynb\">dependencies</a>)<br>"
      ],
      "text/plain": [
       "mult_6_8: (6 * 8) = 48"
      ]
     },
     "execution_count": 2,
     "metadata": {},
     "output_type": "execute_result"
    }
   ],
   "source": [
    "%proving mult_6_8"
   ]
  },
  {
   "cell_type": "code",
   "execution_count": null,
   "metadata": {},
   "outputs": [],
   "source": []
  }
 ],
 "metadata": {
  "kernelspec": {
   "display_name": "Python 3",
   "language": "python",
   "name": "python3"
  }
 },
 "nbformat": 4,
 "nbformat_minor": 0
}