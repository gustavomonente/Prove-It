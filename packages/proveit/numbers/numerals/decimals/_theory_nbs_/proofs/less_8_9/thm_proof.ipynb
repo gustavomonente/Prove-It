{
 "cells": [
  {
   "cell_type": "markdown",
   "metadata": {},
   "source": [
    "Proof of <a class=\"ProveItLink\" href=\"../../../../../../_theory_nbs_/theory.ipynb\">proveit</a>.<a class=\"ProveItLink\" href=\"../../../../../_theory_nbs_/theory.ipynb\">numbers</a>.<a class=\"ProveItLink\" href=\"../../../../_theory_nbs_/theory.ipynb\">numerals</a>.<a class=\"ProveItLink\" href=\"../../theory.ipynb\">decimals</a>.<a class=\"ProveItLink\" href=\"../../theorems.ipynb#less_8_9\">less_8_9</a> theorem\n",
    "========"
   ]
  },
  {
   "cell_type": "code",
   "execution_count": 1,
   "metadata": {},
   "outputs": [],
   "source": [
    "import proveit\n",
    "theory = proveit.Theory() # the theorem's theory"
   ]
  },
  {
   "cell_type": "code",
   "execution_count": 2,
   "metadata": {},
   "outputs": [
    {
     "data": {
      "text/html": [
       "Under these <a href=\"presumptions.txt\">presumptions</a>, we begin our proof of<br><strong id=\"less_8_9\">less_8_9:</strong> <a class=\"ProveItLink\" href=\"../../../__pv_it/theorems/3271685f30f26d7b3dd91aa188fe7227077a6a8a0/expr.ipynb\"><img src=\"data:image/png;base64,iVBORw0KGgoAAAANSUhEUgAAADEAAAAOBAMAAAB0nulXAAAAMFBMVEX////c3NzMzMwQEBAiIiJE\n",
       "REQyMjKYmJiqqqpUVFS6urpmZmZ2dnaIiIju7u4AAACLnIg+AAAAAXRSTlMAQObYZgAAANRJREFU\n",
       "GNNjYHh7ZxcDGuDbc1IASG1g4GxAk3lcwGjHwMBRwMCXABfjSAKRkxkYZjMw8AQw8DnAJNi9QaYw\n",
       "fGNgOM/AwPX1AU8BVILX5wHYmq8MDPeBSuZ/PwGVeOMLZZgB9SwAGvc/D8J/7Q4zFGhUPtCc7iWf\n",
       "F4C4nBlwd7Be4DjfwMA+geG+HYj7EiHD0H7pvAID8wMGph9grrQ7kpfmP2B4D6Smo7kACDIZGJiB\n",
       "zgtEdTVD8QOmj0D/5DGwX0Dz6bUHz0Be1NyDFKKQ0OE5DRQCAHfTOSiFmBFRAAAAAElFTkSuQmCC\n",
       "\" style=\"display:inline;vertical-align:middle;\" /></a><br>(see <a class=\"ProveItLink\" href=\"../../../__pv_it/theorems/bb2b29f606e09055f0f0edd752086154acba07e70/dependencies.ipynb\">dependencies</a>)<br>"
      ],
      "text/plain": [
       "less_8_9: 8 < 9"
      ]
     },
     "execution_count": 2,
     "metadata": {},
     "output_type": "execute_result"
    }
   ],
   "source": [
    "%proving less_8_9"
   ]
  },
  {
   "cell_type": "code",
   "execution_count": null,
   "metadata": {},
   "outputs": [],
   "source": []
  }
 ],
 "metadata": {
  "kernelspec": {
   "display_name": "Python 3",
   "language": "python",
   "name": "python3"
  }
 },
 "nbformat": 4,
 "nbformat_minor": 0
}