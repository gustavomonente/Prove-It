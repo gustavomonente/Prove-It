{
 "cells": [
  {
   "cell_type": "markdown",
   "metadata": {},
   "source": [
    "Proof of <a class=\"ProveItLink\" href=\"../../../../../../_theory_nbs_/theory.ipynb\">proveit</a>.<a class=\"ProveItLink\" href=\"../../../../../_theory_nbs_/theory.ipynb\">numbers</a>.<a class=\"ProveItLink\" href=\"../../../../_theory_nbs_/theory.ipynb\">numerals</a>.<a class=\"ProveItLink\" href=\"../../theory.ipynb\">decimals</a>.<a class=\"ProveItLink\" href=\"../../theorems.ipynb#mult_3_8\">mult_3_8</a> theorem\n",
    "========"
   ]
  },
  {
   "cell_type": "code",
   "execution_count": 1,
   "metadata": {},
   "outputs": [],
   "source": [
    "import proveit\n",
    "theory = proveit.Theory() # the theorem's theory"
   ]
  },
  {
   "cell_type": "code",
   "execution_count": 2,
   "metadata": {},
   "outputs": [
    {
     "data": {
      "text/html": [
       "Under these <a href=\"presumptions.txt\">presumptions</a>, we begin our proof of<br><strong id=\"mult_3_8\">mult_3_8:</strong> <a class=\"ProveItLink\" href=\"../../../__pv_it/theorems/14ef41adf3f31c05d196a80eec36a5fb84a9f8f10/expr.ipynb\"><img src=\"data:image/png;base64,iVBORw0KGgoAAAANSUhEUgAAAGEAAAAUBAMAAABvx07iAAAAMFBMVEX////MzMxUVFR2dna6uroQ\n",
       "EBCqqqqIiIgiIiJmZmYyMjJERETu7u6YmJjc3NwAAACgK8IjAAAAAXRSTlMAQObYZgAAAaBJREFU\n",
       "KM99k79Lw1AQx79tWlPbNO1/oJPYqYUOtYrYUV1cKiiI1NFB7VLErSC4NoNLoKC46aAO4uKvIAhF\n",
       "B4MOgkMJCNJR/FFECvXea5uUJOSG9+Pufe7d3bsHyDocsg4veQDe0ufmVtrM5uA37Kck9SJOk0+h\n",
       "4Riygg3zokFgBNK+nbiF8E1TaBiIKhCbiJV7pjXgHsjYiSowT1OJiJCBQB4x0+kEUAPu7MQCkDQg\n",
       "vxLR4AorqrlLTALhnI040ZCMQwgTscXz2jZN/vZzARAUZ4kqGuqMuKK1PFa1DFN/GmXHoxw/YnLY\n",
       "0Qe+IBUZscO3JRaFxFYDu5U8jWXHFVQmAYzI821wiYZH5vgJ4o8G34eDUIGVHiEbiDS7xQahQwUX\n",
       "QlQgpdCNKtbqELwGdNSvI1C28jjghlXI7wl1b7HIMg+eItTq+VoGIkY38z7xpSBS6wTpjiwVRu97\n",
       "j1kNL9QrKRvRSGdHwZ1jmuYZ9cxylqBORDhuf8F2+5ee6eZTZ13iIjWPZo8qbtqM1/+4dtE5u932\n",
       "oxwSMbwIt19b9zj/DwYzZr7sCkw7AAAAAElFTkSuQmCC\n",
       "\" style=\"display:inline;vertical-align:middle;\" /></a><br>(see <a class=\"ProveItLink\" href=\"../../../__pv_it/theorems/a0405755103bd8ddf31bfb4188a9a64b4ed7263e0/dependencies.ipynb\">dependencies</a>)<br>"
      ],
      "text/plain": [
       "mult_3_8: (3 * 8) = 24"
      ]
     },
     "execution_count": 2,
     "metadata": {},
     "output_type": "execute_result"
    }
   ],
   "source": [
    "%proving mult_3_8"
   ]
  },
  {
   "cell_type": "code",
   "execution_count": null,
   "metadata": {},
   "outputs": [],
   "source": []
  }
 ],
 "metadata": {
  "kernelspec": {
   "display_name": "Python 3",
   "language": "python",
   "name": "python3"
  }
 },
 "nbformat": 4,
 "nbformat_minor": 0
}