{
 "cells": [
  {
   "cell_type": "markdown",
   "metadata": {},
   "source": [
    "Proof of <a class=\"ProveItLink\" href=\"../../../../../../_theory_nbs_/theory.ipynb\">proveit</a>.<a class=\"ProveItLink\" href=\"../../../../../_theory_nbs_/theory.ipynb\">numbers</a>.<a class=\"ProveItLink\" href=\"../../../../_theory_nbs_/theory.ipynb\">numerals</a>.<a class=\"ProveItLink\" href=\"../../theory.ipynb\">decimals</a>.<a class=\"ProveItLink\" href=\"../../theorems.ipynb#add_7_0\">add_7_0</a> theorem\n",
    "========"
   ]
  },
  {
   "cell_type": "code",
   "execution_count": 1,
   "metadata": {},
   "outputs": [],
   "source": [
    "import proveit\n",
    "theory = proveit.Theory() # the theorem's theory"
   ]
  },
  {
   "cell_type": "code",
   "execution_count": 2,
   "metadata": {},
   "outputs": [
    {
     "data": {
      "text/html": [
       "Under these <a href=\"presumptions.txt\">presumptions</a>, we begin our proof of<br><strong id=\"add_7_0\">add_7_0:</strong> <a class=\"ProveItLink\" href=\"../../../__pv_it/theorems/ae74111d63d3fa1f4dd4ca8076a8e5ea6e1317c20/expr.ipynb\"><img src=\"data:image/png;base64,iVBORw0KGgoAAAANSUhEUgAAAGIAAAAUBAMAAACE8PXhAAAAMFBMVEX///9UVFTMzMx2dna6uroQ\n",
       "EBCqqqqIiIgiIiJmZmYyMjJERETu7u6YmJjc3NwAAAC+aOQFAAAAAXRSTlMAQObYZgAAAV1JREFU\n",
       "KM91kzFIw1AQhv82pabpS83qltEtwQzFguCmmyDinK2biaNOddBFkIK71DWD1FmULoKgYEFcNYvg\n",
       "2NKpU7y82JL3kndwyb1778u7y90BrTHK5UjhxyuqZ9eeJzrbHzYqsXx0fc3zXOAOZpIkU2HL8NkV\n",
       "2EAmvumgBbOPBn3Mynzd7PUJdOgimbgBKoAeQwM0WyDugWCEZ5mgiDaAX27vQCAoxj0fxnYh6VoI\n",
       "nHBrKBBsTkQIrV8gmqSPqaGNBaI1A5wQJk9di7hk9BbpRWq8QyToDsdFvSdfwSb0OEitU77uRNF5\n",
       "FN0uo6pOZGJlsCAuUcg88EsIfbiIaioRD1StEWq9XB68YKvWf+bVuURkFTQLRXfS/DdJ6zOJ0H22\n",
       "DzRcmQhSz276bw4lgrWPqQkMWyZ+fPAuyUk3v3gpb3ZTKOyb0PKK+XhSDU6x25cTpZBmrNhQTu1X\n",
       "ufsPFCFYOiZQPmoAAAAASUVORK5CYII=\n",
       "\" style=\"display:inline;vertical-align:middle;\" /></a><br>(see <a class=\"ProveItLink\" href=\"../../../__pv_it/theorems/09ab981c70e768a8dc6887897eb36060a6c8eb010/dependencies.ipynb\">dependencies</a>)<br>"
      ],
      "text/plain": [
       "add_7_0: (7 + 0) = 7"
      ]
     },
     "execution_count": 2,
     "metadata": {},
     "output_type": "execute_result"
    }
   ],
   "source": [
    "%proving add_7_0"
   ]
  },
  {
   "cell_type": "code",
   "execution_count": null,
   "metadata": {},
   "outputs": [],
   "source": []
  }
 ],
 "metadata": {
  "kernelspec": {
   "display_name": "Python 3",
   "language": "python",
   "name": "python3"
  }
 },
 "nbformat": 4,
 "nbformat_minor": 0
}