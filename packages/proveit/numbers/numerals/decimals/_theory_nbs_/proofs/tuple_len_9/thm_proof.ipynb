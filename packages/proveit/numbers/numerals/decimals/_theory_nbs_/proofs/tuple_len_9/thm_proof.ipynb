{
 "cells": [
  {
   "cell_type": "markdown",
   "metadata": {},
   "source": [
    "Proof of <a class=\"ProveItLink\" href=\"../../../../../../_theory_nbs_/theory.ipynb\">proveit</a>.<a class=\"ProveItLink\" href=\"../../../../../_theory_nbs_/theory.ipynb\">numbers</a>.<a class=\"ProveItLink\" href=\"../../../../_theory_nbs_/theory.ipynb\">numerals</a>.<a class=\"ProveItLink\" href=\"../../theory.ipynb\">decimals</a>.<a class=\"ProveItLink\" href=\"../../theorems.ipynb#tuple_len_9\">tuple_len_9</a> theorem\n",
    "========"
   ]
  },
  {
   "cell_type": "code",
   "execution_count": 1,
   "metadata": {},
   "outputs": [],
   "source": [
    "import proveit\n",
    "theory = proveit.Theory() # the theorem's theory"
   ]
  },
  {
   "cell_type": "code",
   "execution_count": 2,
   "metadata": {},
   "outputs": [
    {
     "data": {
      "text/html": [
       "Under these <a href=\"presumptions.txt\">presumptions</a>, we begin our proof of<br><strong id=\"tuple_len_9\">tuple_len_9:</strong> <a class=\"ProveItLink\" href=\"../../../__pv_it/theorems/d0cb925f5a1c54edc88d95ac787e7d0d1113ac2c0/expr.ipynb\"><img src=\"data:image/png;base64,iVBORw0KGgoAAAANSUhEUgAAAYMAAAAWBAMAAADQlu1lAAAAMFBMVEX///8QEBCIiIhmZma6urrM\n",
       "zMxUVFQiIiJERETc3Nzu7u6qqqp2dnaYmJgyMjIAAAAcRTyBAAAAAXRSTlMAQObYZgAABRRJREFU\n",
       "WMPNV11oHFUUPvs/Mzu7G0RBrZXtbhMFi67BB8VIV33ok3TzIlSQrKkVH5K6+G/tw1ZBGkEYEGxA\n",
       "JNNGq1TpDgqFCG2WTYlaoxnrQ2sxdKEasJI0aAvtRoL3nHvnZ3dmsw9rwPsw99xzzr1zvvM3dwD+\n",
       "q/EUbOyI6Bt7vmzCaSI+2oDDp+ip5tvJ6kgsdPuWz4BDUMoupnKg5OPMAzkPbzKrNTPcO5+HqOYL\n",
       "QRmY1Uj2Pa4udwvhDwEh2WRLMuejmjI8rJHpVp5r5ygodV8Ih035dpKNYxqUu0SQyAkIP3eyFmCn\n",
       "J6eVqx+vj7PmC+EZgN0kS7ITVaNLCDFNQHijg7VsfOPhxFc64DzsC2ENYJ5kiTPHjh3qNo/wAIQg\n",
       "lzpYy8YlD0ctdcCZzPtAUK4D3KeR7PrBg/u7hZAVEIKYwu/PbBE+XMw8bKVCpsA710DvqrCgZtVw\n",
       "4v6XRObH++8RKX3p5N1cqmTTzPqcXxTuZFHIk2wPwJjFDS83KW0vuBahHxx6S9oxHcd7AoJksjNu\n",
       "gyvCyjW9wg05ZEhUkvCoJjW4cIcmV63EF6fBtzCREzu1aJFHKNzDQNZtCD8u46BIsiy6YpLscVHx\n",
       "NGaaIFSaamqbK/eFR3aJ9ZsCQszARgEPCqc2LOv2Q5TKTdkMIf4yZRNMWg6aKDj6vCrj1yDK4/Eh\n",
       "6sdLflGQ0vF5g2QxCJo2+88mpVPuxW9ubC11erOAEGCv2a7DiyJudaiQp0MNK5INiHHfRzdnLli7\n",
       "p8UcKMOQbu0McPA6OiGy4vtpO9k7XyCZasYc7o0mnaaYNFz0DmgP4VZQrtnNfachbLONrHBLUkVv\n",
       "7Q6ZcJeIctUOzbTeFgLACzrJ5PqT+IHs+x0/nX/1oRvUDLpgMkMx+YIWcP5vitWvGXz37MIeXDxW\n",
       "9CaS8o/dJFMmhgSDZmU9I4TLU1XHkHfEfFGDt4Ve3saFwnCppRYWhXBRyMaeZan5SgS9HNxHPeXl\n",
       "SI/NUi4rZGiCPBksSqiwrPfhqtrwlrOyCtE6v9Wk8iz3BRagcFQM2BvXhJ/BquKbnIQS7eoiwB0J\n",
       "Qq+sqk3l7Bo/6ZEbQvYVwxHKRUpUIcgJlaFArB5M2lF+gQpRr5jQJLTlKgxgh/y85Mo4hIAd7i04\n",
       "V6wqa7jVZHgreGCR1S4S7PxXVWIF6zCpkRb7OGMLQoBatMGpvewVXC+8wi6OoaofhHv146aQYcEE\n",
       "jGCRcpm9jS0oby2WqH/Ko3OQwtzsodRhFrlq47SI+NHMruE8vMbUlH7Wh2P7GH9uIU2EMtz7wVbO\n",
       "yi6wA1GLWQmcCg/PlTjFojrHd8AoU0sW/CCoMw+AkGHEKpp0gU0pHc1PUagtlgYU0QCV1ywMYjqV\n",
       "5RVcVj5pe8GI2z3raw/hUKSllm19zFJnp633afvLNpeRgdrQEzCux/Tz7Mm+2blxnbGeZgvJUIry\n",
       "u9RH2XQCnkNeOlGustUpte01T7XfUfUQDoVaJ5KmoArUrpydtl5tHQg1+7M8/OUjMGhERqrsKfef\n",
       "1QcNwVL6MxDZRLnCptC2JcZLavKIzlZHv7P2jwkIknXZPmJfZdKthItCrdePC0ptUEM6Aq16bS7b\n",
       "LpkzDM9TTHHuXzbBLbYovt4vj/21THgIF4VaZx8SVHg0a7h32nqS1h6C1PyzxNud+2lNU7CEH4Ip\n",
       "uRivWzzxP2j/ePZu2I/nL/QMFtrLWlC7n9ZkQg2DaspLWd12jgn/j/EvdbGbIyYOSY8AAAAASUVO\n",
       "RK5CYII=\n",
       "\" style=\"display:inline;vertical-align:middle;\" /></a><br>(see <a class=\"ProveItLink\" href=\"../../../__pv_it/theorems/7e33e68449b7e0355411fe3bd26d56d8350aa33f0/dependencies.ipynb\">dependencies</a>)<br>"
      ],
      "text/plain": [
       "tuple_len_9: forall_{a, b, c, d, e, f, g, h, i} (|(a, b, c, d, e, f, g, h, i)| = 9)"
      ]
     },
     "execution_count": 2,
     "metadata": {},
     "output_type": "execute_result"
    }
   ],
   "source": [
    "%proving tuple_len_9"
   ]
  },
  {
   "cell_type": "code",
   "execution_count": null,
   "metadata": {},
   "outputs": [],
   "source": []
  }
 ],
 "metadata": {
  "kernelspec": {
   "display_name": "Python 3",
   "language": "python",
   "name": "python3"
  }
 },
 "nbformat": 4,
 "nbformat_minor": 0
}