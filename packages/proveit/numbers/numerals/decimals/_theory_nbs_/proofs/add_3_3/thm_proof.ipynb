{
 "cells": [
  {
   "cell_type": "markdown",
   "metadata": {},
   "source": [
    "Proof of <a class=\"ProveItLink\" href=\"../../../../../../_theory_nbs_/theory.ipynb\">proveit</a>.<a class=\"ProveItLink\" href=\"../../../../../_theory_nbs_/theory.ipynb\">numbers</a>.<a class=\"ProveItLink\" href=\"../../../../_theory_nbs_/theory.ipynb\">numerals</a>.<a class=\"ProveItLink\" href=\"../../theory.ipynb\">decimals</a>.<a class=\"ProveItLink\" href=\"../../theorems.ipynb#add_3_3\">add_3_3</a> theorem\n",
    "========"
   ]
  },
  {
   "cell_type": "code",
   "execution_count": 1,
   "metadata": {},
   "outputs": [],
   "source": [
    "import proveit\n",
    "theory = proveit.Theory() # the theorem's theory"
   ]
  },
  {
   "cell_type": "code",
   "execution_count": 2,
   "metadata": {},
   "outputs": [
    {
     "data": {
      "text/html": [
       "Under these <a href=\"presumptions.txt\">presumptions</a>, we begin our proof of<br><strong id=\"add_3_3\">add_3_3:</strong> <a class=\"ProveItLink\" href=\"../../../__pv_it/theorems/a764590cede89cf97395cb07324903ae3d6f50720/expr.ipynb\"><img src=\"data:image/png;base64,iVBORw0KGgoAAAANSUhEUgAAAGEAAAAUBAMAAABvx07iAAAAMFBMVEX////MzMxUVFR2dna6uroQ\n",
       "EBCqqqqIiIgiIiJmZmYyMjJERETu7u6YmJjc3NwAAACgK8IjAAAAAXRSTlMAQObYZgAAAXxJREFU\n",
       "KM91k79Lw1AQx7/2h61Nmhb8A3Rxr3ao1SWLoJNLdNGhWzedRDpZEAVdzNKh6lDEKYM4qIuoWYSC\n",
       "Dv0H1EAXXcSpSKnUy4vFvGtyhJf3I5/c9+7eAVoLwbYRso8noJ2/kfe0/HwJEWfo2+j2NI0X0Exs\n",
       "yo4+MPoDtcEB9RzHQNpEooNM1dsre6+dEr6BAicUE7dA0kHMQKYhEQs6usAjJ5aFzncxH6gqDw5J\n",
       "FVI6I67FWBECd8GIZo7iNBnRHa/QT+7c1MyeMqJ9YFOIQmrUEka02m1hH+5DtqUzHwmDlFVZqvpA\n",
       "zYYhFvF1GuYsa8+yzrzjFRsjX0wV5e9NdwnNgdKRfHwCD6Vh4pAIISzT40TfdolY1RfHJE2nhA+K\n",
       "PH6JZE8i1oAj+y9yn03YqAFFykmL1+NF1GMsx4hITl0FFmm2VL+Ssxurn1DyUlle9OJMVtwSn5X9\n",
       "i2bwZU9LhX32Lwoh/XEf1jjDt/2/o4JNcUIOQrv2NXj7F4fXZ+TMSB4RAAAAAElFTkSuQmCC\n",
       "\" style=\"display:inline;vertical-align:middle;\" /></a><br>(see <a class=\"ProveItLink\" href=\"../../../__pv_it/theorems/cf81beb1b12f7cf8b9b9dbfd7a88175b06d99bf10/dependencies.ipynb\">dependencies</a>)<br>"
      ],
      "text/plain": [
       "add_3_3: (3 + 3) = 6"
      ]
     },
     "execution_count": 2,
     "metadata": {},
     "output_type": "execute_result"
    }
   ],
   "source": [
    "%proving add_3_3"
   ]
  },
  {
   "cell_type": "code",
   "execution_count": null,
   "metadata": {},
   "outputs": [],
   "source": []
  }
 ],
 "metadata": {
  "kernelspec": {
   "display_name": "Python 3",
   "language": "python",
   "name": "python3"
  }
 },
 "nbformat": 4,
 "nbformat_minor": 0
}