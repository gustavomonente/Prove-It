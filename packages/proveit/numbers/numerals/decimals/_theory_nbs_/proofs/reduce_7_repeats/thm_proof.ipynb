{
 "cells": [
  {
   "cell_type": "markdown",
   "metadata": {},
   "source": [
    "Proof of <a class=\"ProveItLink\" href=\"../../../../../../_theory_nbs_/theory.ipynb\">proveit</a>.<a class=\"ProveItLink\" href=\"../../../../../_theory_nbs_/theory.ipynb\">numbers</a>.<a class=\"ProveItLink\" href=\"../../../../_theory_nbs_/theory.ipynb\">numerals</a>.<a class=\"ProveItLink\" href=\"../../theory.ipynb\">decimals</a>.<a class=\"ProveItLink\" href=\"../../theorems.ipynb#reduce_7_repeats\">reduce_7_repeats</a> theorem\n",
    "========"
   ]
  },
  {
   "cell_type": "code",
   "execution_count": 1,
   "metadata": {},
   "outputs": [],
   "source": [
    "import proveit\n",
    "theory = proveit.Theory() # the theorem's theory"
   ]
  },
  {
   "cell_type": "code",
   "execution_count": 2,
   "metadata": {},
   "outputs": [
    {
     "data": {
      "text/html": [
       "Under these <a href=\"presumptions.txt\">presumptions</a>, we begin our proof of<br><strong id=\"reduce_7_repeats\">reduce_7_repeats:</strong> <a class=\"ProveItLink\" href=\"../../../__pv_it/theorems/5ebbfa01ed57117ad9be434e26bff981e53f66410/expr.ipynb\"><img src=\"data:image/png;base64,iVBORw0KGgoAAAANSUhEUgAAAYkAAAAUBAMAAACKfNynAAAAMFBMVEX///8QEBCIiIhmZma6urrM\n",
       "zMxUVFQiIiJERETc3Nzu7u6qqqp2dnaYmJgyMjIAAAAcRTyBAAAAAXRSTlMAQObYZgAAA7lJREFU\n",
       "SMe1V19IFEEY/+5u173b2z0peojy4VDwwcwOoZdMuoySXkp86FXpH/hQSIKVSUkv6YO4UGQv0XoP\n",
       "GiLdRQ+REB5nCF1mR0ZhJJ0IQkEliuE/umZ29s6ZubtlkXPYH+x+u99v5jfzfd/MAmS3xyYK1V5l\n",
       "mzyJwlFjJPHDLP1G7iLgmth+dHJyW10VaVmmpwWaIEyN8Q4//KTf+DQCrqmpVOqvJWUwj11OZpl+\n",
       "FEgFpsZ4hNeXmflpE1xzIWHNloyBfG9iWTMSKFS0xgh8OoASoV/cNME1BV0NVoT5hzbAGyStUCoG\n",
       "CNT48HA/k3itBDlanSXhWF4VPj7W+gtWOTA1xmp3dydtdwYI5NKWOi4UjMAT5g5MaZ7aCe1MyfQE\n",
       "KjX3v7WAtzQG6rG2Gmh8XcUEGeFQeH1lwPCHyh9U+mkH+0ZMjXEJoIfuwZ0gGIEv/ttsTJHy6KgJ\n",
       "J+p1YR/sCsptIHTAcf2l5moGKYBLm0R7mByqkd5Tv3Gbx7e9QPPLUfWalKQd7BsxNcYJroZIEYI4\n",
       "fNBPMyrC5iKicCsB2A0LKIqCjig4/M8bhHWsAklz0h4mh5cP0FtA8yu6si5otIN9I6bGkMDJbEGO\n",
       "IIEO3VzfZrD4mkFcnp29Amhaw4Gm2tnPCWgcX8Mq4M5dJm9NDnGRY9oDNL8M7i7Wwb4RU2MoCSYI\n",
       "MioAlri+b5gqAuDdwDdIRXHXGK5vz3pEomLkzzLrs5RXBc1f7Gcd7BvTKjzJc7jmHi5vYCMKxBWu\n",
       "b3PP80VBXDJVoLXAtPdAXNOlgNOjw3emHhEOoXUrLxbSEUXzNzWwDvaNmNqg77mIipJ+VQqy2T3q\n",
       "XIQKZkTLGRWA8ipE8gIlm+zfBO/aSV+zS/BDER2eJofKb969QPN79UNoALSDfWM6u+EFkiLCr0wl\n",
       "IrVL2HAvojNbGG/x//AF3k1zsdAHTRE4AnOa3AniBrj0vaCsfHUlXSi73Rr5HHuYHOCKcirGgeY/\n",
       "G+lDp0/Kwb7RoDboSaitpXsw10g+X1GGDolSBzK1G5dnP3nftxoB+UKlDgsfy9H6DVbH4WF1vCoB\n",
       "l98K7w++SX9+XU9zgI/f8+uB5h8sDdUmaAf7RoPaoFd1I0vE3CeQ0fz75rzlrurVM7dDFieQ0VwO\n",
       "9o1DNP0TJankPg1Gt6tCsXcajOZysG+M0fSDn2LxzOatEZAK7c8/znZLFSGrk3nmtEDxUw72jcmc\n",
       "9Pxfkpp/mKdSLVYqtmqV2+IvSc3lYN/IzPjO/rHO7Nwf6wzBfxbwh/7EjCJtAAAAAElFTkSuQmCC\n",
       "\" style=\"display:inline;vertical-align:middle;\" /></a><br>(see <a class=\"ProveItLink\" href=\"../../../__pv_it/theorems/2994643d0a32ac25e1f3d31834143679d4fbe1ee0/dependencies.ipynb\">dependencies</a>)<br>"
      ],
      "text/plain": [
       "reduce_7_repeats: forall_{x} ((x, ..7 repeats.., x) = (x, x, x, x, x, x, x))"
      ]
     },
     "execution_count": 2,
     "metadata": {},
     "output_type": "execute_result"
    }
   ],
   "source": [
    "%proving reduce_7_repeats"
   ]
  },
  {
   "cell_type": "code",
   "execution_count": null,
   "metadata": {},
   "outputs": [],
   "source": []
  }
 ],
 "metadata": {
  "kernelspec": {
   "display_name": "Python 3",
   "language": "python",
   "name": "python3"
  }
 },
 "nbformat": 4,
 "nbformat_minor": 0
}