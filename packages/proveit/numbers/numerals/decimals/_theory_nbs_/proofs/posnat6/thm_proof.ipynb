{
 "cells": [
  {
   "cell_type": "markdown",
   "metadata": {},
   "source": [
    "Proof of <a class=\"ProveItLink\" href=\"../../../../../../_theory_nbs_/theory.ipynb\">proveit</a>.<a class=\"ProveItLink\" href=\"../../../../../_theory_nbs_/theory.ipynb\">numbers</a>.<a class=\"ProveItLink\" href=\"../../../../_theory_nbs_/theory.ipynb\">numerals</a>.<a class=\"ProveItLink\" href=\"../../theory.ipynb\">decimals</a>.<a class=\"ProveItLink\" href=\"../../theorems.ipynb#posnat6\">posnat6</a> theorem\n",
    "========"
   ]
  },
  {
   "cell_type": "code",
   "execution_count": 1,
   "metadata": {},
   "outputs": [],
   "source": [
    "import proveit\n",
    "theory = proveit.Theory() # the theorem's theory"
   ]
  },
  {
   "cell_type": "code",
   "execution_count": 2,
   "metadata": {},
   "outputs": [
    {
     "data": {
      "text/html": [
       "Under these <a href=\"presumptions.txt\">presumptions</a>, we begin our proof of<br><strong id=\"posnat6\">posnat6:</strong> <a class=\"ProveItLink\" href=\"../../../__pv_it/theorems/5dbbb1c0baed0353080631988097adcbe08a960d0/expr.ipynb\"><img src=\"data:image/png;base64,iVBORw0KGgoAAAANSUhEUgAAAD8AAAAUBAMAAADIGvgZAAAAMFBMVEX///9UVFSqqqoiIiKYmJgQ\n",
       "EBDc3NxERERmZma6uroyMjLu7u7MzMyIiIh2dnYAAACR0mqaAAAAAXRSTlMAQObYZgAAAPtJREFU\n",
       "KM9jYKAEMBJSwE4tBW/vHUAR3vW9agPD068TYAp2TeBYgKqxhEeAgfsDg9SqpatWOTAwVDCwF6Aq\n",
       "ED5wl4EhAGYF5ze4hLuxMdgsyWrGAwwGMAXsATD547ehDLGD3KsRCvjXvO0ECwMFYQqYLhxEKNi/\n",
       "hIFZARxsCXAFDC9ZLiAUfGDgiEYNFTEGxg0yIAVsYCsMGFh+ghhHVwHBAogCbgEuuNOYFzCwfAEx\n",
       "0pFMYDjHA1fAGAA1gRVZAYsCPGx4fjNwgFVzXIAJyQDxM0TgyTFsBfuCwQgmsgikHBH8fH0yEMbG\n",
       "yg1g+vBXoG7uBVhid16xMaYwAFtZPVFl1XohAAAAAElFTkSuQmCC\n",
       "\" style=\"display:inline;vertical-align:middle;\" /></a><br>(see <a class=\"ProveItLink\" href=\"../../../__pv_it/theorems/bbb3110d401aeb199e342a1ba8e79d6264ead4030/dependencies.ipynb\">dependencies</a>)<br>"
      ],
      "text/plain": [
       "posnat6: 6 in NaturalPos"
      ]
     },
     "execution_count": 2,
     "metadata": {},
     "output_type": "execute_result"
    }
   ],
   "source": [
    "%proving posnat6"
   ]
  },
  {
   "cell_type": "code",
   "execution_count": null,
   "metadata": {},
   "outputs": [],
   "source": []
  }
 ],
 "metadata": {
  "kernelspec": {
   "display_name": "Python 3",
   "language": "python",
   "name": "python3"
  }
 },
 "nbformat": 4,
 "nbformat_minor": 0
}