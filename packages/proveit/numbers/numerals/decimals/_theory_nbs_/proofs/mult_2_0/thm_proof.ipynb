{
 "cells": [
  {
   "cell_type": "markdown",
   "metadata": {},
   "source": [
    "Proof of <a class=\"ProveItLink\" href=\"../../../../../../_theory_nbs_/theory.ipynb\">proveit</a>.<a class=\"ProveItLink\" href=\"../../../../../_theory_nbs_/theory.ipynb\">numbers</a>.<a class=\"ProveItLink\" href=\"../../../../_theory_nbs_/theory.ipynb\">numerals</a>.<a class=\"ProveItLink\" href=\"../../theory.ipynb\">decimals</a>.<a class=\"ProveItLink\" href=\"../../theorems.ipynb#mult_2_0\">mult_2_0</a> theorem\n",
    "========"
   ]
  },
  {
   "cell_type": "code",
   "execution_count": 1,
   "metadata": {},
   "outputs": [],
   "source": [
    "import proveit\n",
    "theory = proveit.Theory() # the theorem's theory"
   ]
  },
  {
   "cell_type": "code",
   "execution_count": 2,
   "metadata": {},
   "outputs": [
    {
     "data": {
      "text/html": [
       "Under these <a href=\"presumptions.txt\">presumptions</a>, we begin our proof of<br><strong id=\"mult_2_0\">mult_2_0:</strong> <a class=\"ProveItLink\" href=\"../../../__pv_it/theorems/89c3b1e2db7d99129efe3a974819614b225db6fb0/expr.ipynb\"><img src=\"data:image/png;base64,iVBORw0KGgoAAAANSUhEUgAAAFcAAAAUBAMAAAAKKrydAAAAMFBMVEX///9UVFTMzMx2dna6uroQ\n",
       "EBCqqqqIiIgiIiJmZmYyMjJERETu7u6YmJjc3NwAAAC+aOQFAAAAAXRSTlMAQObYZgAAAUFJREFU\n",
       "KM91k7tKxEAUhv+ou2TjZNlHWPABNmAR3MYt7VbEB8gTuGtpIxHBUmJtE0stBG1FSSMoFgpiqymt\n",
       "xEslLMa5ZshkcqqZjy9zzpk5AbpPqMUWGuIBuD++1PvwuQ8nr2kMA+cgPayOFPQicgiSmi7H8BN0\n",
       "MrTWFX0BhvQcUxbYzdGK4fwpegFMMtyassDvNMUMzreiX8A4gjcyZIF3+NqdSUh+KZ1iPqm6El/z\n",
       "zTiQtPsDDKbweYfDMxanGh9wZ49/zig9YhCgHVdPlniTrTs862Na5pv7tJbBZVl4T3QyiWqyxKyM\n",
       "doIPRa+AtwwLsa75RGPW4BKwW719P7U+ygqtfn/5qGzIjcgGbSIwZIHX6KMURVHKJNymE+P1DVlg\n",
       "N7eN4p19Qv3ERsOGeb6xsPqI6uGvxWLeINt+q1e7+g//t1zAzFy60gAAAABJRU5ErkJggg==\n",
       "\" style=\"display:inline;vertical-align:middle;\" /></a><br>(see <a class=\"ProveItLink\" href=\"../../../__pv_it/theorems/12cc66fbd1589127cfbe12ad8577f06860339b2f0/dependencies.ipynb\">dependencies</a>)<br>"
      ],
      "text/plain": [
       "mult_2_0: (2 * 0) = 0"
      ]
     },
     "execution_count": 2,
     "metadata": {},
     "output_type": "execute_result"
    }
   ],
   "source": [
    "%proving mult_2_0"
   ]
  },
  {
   "cell_type": "code",
   "execution_count": null,
   "metadata": {},
   "outputs": [],
   "source": []
  }
 ],
 "metadata": {
  "kernelspec": {
   "display_name": "Python 3",
   "language": "python",
   "name": "python3"
  }
 },
 "nbformat": 4,
 "nbformat_minor": 0
}