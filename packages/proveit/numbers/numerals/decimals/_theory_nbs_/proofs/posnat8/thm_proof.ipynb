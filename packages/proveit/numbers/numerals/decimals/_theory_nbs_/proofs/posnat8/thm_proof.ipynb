{
 "cells": [
  {
   "cell_type": "markdown",
   "metadata": {},
   "source": [
    "Proof of <a class=\"ProveItLink\" href=\"../../../../../../_theory_nbs_/theory.ipynb\">proveit</a>.<a class=\"ProveItLink\" href=\"../../../../../_theory_nbs_/theory.ipynb\">numbers</a>.<a class=\"ProveItLink\" href=\"../../../../_theory_nbs_/theory.ipynb\">numerals</a>.<a class=\"ProveItLink\" href=\"../../theory.ipynb\">decimals</a>.<a class=\"ProveItLink\" href=\"../../theorems.ipynb#posnat8\">posnat8</a> theorem\n",
    "========"
   ]
  },
  {
   "cell_type": "code",
   "execution_count": 1,
   "metadata": {},
   "outputs": [],
   "source": [
    "import proveit\n",
    "theory = proveit.Theory() # the theorem's theory"
   ]
  },
  {
   "cell_type": "code",
   "execution_count": 2,
   "metadata": {},
   "outputs": [
    {
     "data": {
      "text/html": [
       "Under these <a href=\"presumptions.txt\">presumptions</a>, we begin our proof of<br><strong id=\"posnat8\">posnat8:</strong> <a class=\"ProveItLink\" href=\"../../../__pv_it/theorems/71797b1e7ab94cfb3538c4c80e5d687bf1c365c80/expr.ipynb\"><img src=\"data:image/png;base64,iVBORw0KGgoAAAANSUhEUgAAAD8AAAAUBAMAAADIGvgZAAAAMFBMVEX////c3NzMzMwQEBAiIiJE\n",
       "REQyMjKYmJiqqqpUVFS6urpmZmZ2dnaIiIju7u4AAACLnIg+AAAAAXRSTlMAQObYZgAAAP5JREFU\n",
       "KM9jYKAEcBJSwEolBW/v7EIVfvY17AHD4c8LYAo2MHA2oKoIZ5rAwPeBYVpaclpaAQNHAQNfAqqC\n",
       "KQp3GRgMYFbwBDDwOUAkSl1cwEpnxXEqMDjAFHB9fcBTAJZXvQc1YaImXx5CAcP87yfANFAQpoDj\n",
       "giaSAp7/EBlOAbgChlPsFxAKupeAfIQcKhMZOB9MAilgBPHYJzDctwMxlNOAIAGigG8CmwFMOfMD\n",
       "BqYfIIYokgkMOkxwBe+BeDpYJbIC9oYAuAlAtwWCGNwXYEKTgPggXAFXHgM7RMoDJpQBUo4IXc09\n",
       "0Mh6GfUATKt8BupGD34wWBPigikMAAfJPhC1VvjgAAAAAElFTkSuQmCC\n",
       "\" style=\"display:inline;vertical-align:middle;\" /></a><br>(see <a class=\"ProveItLink\" href=\"../../../__pv_it/theorems/4baabdd551b4aa3fda2b032a653729ba0bd5d3bf0/dependencies.ipynb\">dependencies</a>)<br>"
      ],
      "text/plain": [
       "posnat8: 8 in NaturalPos"
      ]
     },
     "execution_count": 2,
     "metadata": {},
     "output_type": "execute_result"
    }
   ],
   "source": [
    "%proving posnat8"
   ]
  },
  {
   "cell_type": "code",
   "execution_count": null,
   "metadata": {},
   "outputs": [],
   "source": []
  }
 ],
 "metadata": {
  "kernelspec": {
   "display_name": "Python 3",
   "language": "python",
   "name": "python3"
  }
 },
 "nbformat": 4,
 "nbformat_minor": 0
}