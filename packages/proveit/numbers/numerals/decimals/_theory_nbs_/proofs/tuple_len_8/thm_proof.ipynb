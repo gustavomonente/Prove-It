{
 "cells": [
  {
   "cell_type": "markdown",
   "metadata": {},
   "source": [
    "Proof of <a class=\"ProveItLink\" href=\"../../../../../../_theory_nbs_/theory.ipynb\">proveit</a>.<a class=\"ProveItLink\" href=\"../../../../../_theory_nbs_/theory.ipynb\">numbers</a>.<a class=\"ProveItLink\" href=\"../../../../_theory_nbs_/theory.ipynb\">numerals</a>.<a class=\"ProveItLink\" href=\"../../theory.ipynb\">decimals</a>.<a class=\"ProveItLink\" href=\"../../theorems.ipynb#tuple_len_8\">tuple_len_8</a> theorem\n",
    "========"
   ]
  },
  {
   "cell_type": "code",
   "execution_count": 1,
   "metadata": {},
   "outputs": [],
   "source": [
    "import proveit\n",
    "theory = proveit.Theory() # the theorem's theory"
   ]
  },
  {
   "cell_type": "code",
   "execution_count": 2,
   "metadata": {},
   "outputs": [
    {
     "data": {
      "text/html": [
       "Under these <a href=\"presumptions.txt\">presumptions</a>, we begin our proof of<br><strong id=\"tuple_len_8\">tuple_len_8:</strong> <a class=\"ProveItLink\" href=\"../../../__pv_it/theorems/1da3588ba033a8e5455553285c102eccc93bbda30/expr.ipynb\"><img src=\"data:image/png;base64,iVBORw0KGgoAAAANSUhEUgAAAWcAAAAWBAMAAADun0BuAAAAMFBMVEX///8QEBCIiIhmZma6urrM\n",
       "zMxUVFQiIiJERETc3Nzu7u6qqqp2dnaYmJgyMjIAAAAcRTyBAAAAAXRSTlMAQObYZgAABONJREFU\n",
       "SMfFV29oW1UUP3lp/ryX95qhwpwixMzm05QSnTDbaUTYQNCmX0QFaaxWFKf2g3/YOjC6L2tFfSDM\n",
       "flB5daBjiHm4D9qBLqRixdEtZKBzWAm4DbaxUrcptuuq59w/yXt5N36IG17Ivb977p/3O+eec+4N\n",
       "wH8vEQeuTXkcrlX5EMwctXr16u2ZsFnzrWpsGn91AvOd728UBel9XuEbo4qpj14fXJ3d1CLZt5bq\n",
       "55SkjfRMDqKo0GHqne2cdLctSJ/xSXtVcy8HJNHDAdlvVH2uJB0GeB4MNPMknWyxc9LHgJO2fDST\n",
       "rmJq13JAVHowp9TMTKlIf820qaBNMIpMt3PS2wXpmO2VDqhi0wz6zKE2mhlrVKS/B/gUYAot9MP+\n",
       "/e93zlkfFaT9e8wqPSnoM7PtNDupIj0wAXO4DX7ur927d3ZOWusVpNeTBv3Zm7j4dLpPkkj3cPBe\n",
       "ZUgc6GdpGX3H1t4p0IH0V0Kzvto4NjMq0tG/f8EtTPzkCMB442wWfJPuy3ujYK6Jb01JFK8K0m/j\n",
       "7367e5GH+apT4u6ij8E7fOt18C73ma7t8IFcfkGqVtQvCi8/A89g82uD9JEFKiw84egqbmFhJD7A\n",
       "4lGUGX+YeDuVDU0ca4RPzBWkx5DqLRDmIZ1YhiTXK1bGgKcyVYV7+ZIp19gonesP6duOTC2H8vAs\n",
       "Nl+qLJ246/UbsEYHioHWvBbO+SZ94+2c9GrTiLNQTpDG3cLLEONUw3UolflhyZkIhBc+WbtdChOL\n",
       "AtwIEZFaULPrsBlSkf4RtN8diOAisxpripd8k3x29+arraAiHSpCKS9DbsAVbBq0jEsc/RnMJ5Er\n",
       "oAm4k5tfSRoDBuOCSOv1R7C/N3OKFl/IOCx4yGB70+d42DDrHb9I52FVMtT5bn5E4R5oXJHCklVh\n",
       "YmNFXmYrDbOuNFnEC7y1liDOUwtqxjTZ2uLTp2kMN4hWoYvGx5/G/ivseLQdlA3g5ciahsg4a7Cd\n",
       "LeatGdhFzYKTUQRiyYUX+ashmUP/ZuUK+gAjcxmi9WlhS9DkOaUabiKuI2sRQuUT3kD0lHX4PZsF\n",
       "IhxA5uHeCPGPp0iC0ZRnIsrw0Rf4wyRM2uhL8BZ1LkG/PGCZ8mbY6ldNKNXJHmg4AnA3GBuNVQRv\n",
       "wk+FMkN3gLGJD0IJVxIyluAlh6+so8YYDv0q0g87UEMmFC0U5yFXKzAPDReow6wgRU2TgjXKXBu1\n",
       "GZNJUl4ueJ7GcM+e2yC2g95BmB8JgDmHn3kNXeWT9GPDOYa0zfNiEAZAoC0bZjnCz5h4T8MpFenI\n",
       "U/hggm6KGws3KtnxE9gkHSKcZEcsRTYw7wzRVLPArK8V9cV822v8YAAknCA6KO5lOW2XdwEYo22f\n",
       "pnSTC+eyhx6CSSfmHMca78neSQdFT2An7hoFfYJluUknUYgWSJayiuW2D6ZyAJgQRDiYKJwXKMJT\n",
       "S7k5L9WedKVxFQ5/sRkG3ci2MtZ6tuYMukJkZNMQuZkd/6AL2SNVbLptfZs0WVw+TeW1aqRaAXwM\n",
       "AUSDsYm6QEcdSh7NBW2epnxl3d93A7VoEsyi1CEvcf/1T4AFrQCqQUSD1npboC21Pt8CYQEl6bit\n",
       "+JPjrWUzDedHqLOHLsmE3fJ3S8tf7b9bFv9Ej2rs55apgVo2VaikqPNR7R6fQf6n8g8/0XWsBxRb\n",
       "tAAAAABJRU5ErkJggg==\n",
       "\" style=\"display:inline;vertical-align:middle;\" /></a><br>(see <a class=\"ProveItLink\" href=\"../../../__pv_it/theorems/d72d5d5702db7b3a8586af9000b86a32610c48d90/dependencies.ipynb\">dependencies</a>)<br>"
      ],
      "text/plain": [
       "tuple_len_8: forall_{a, b, c, d, e, f, g, h} (|(a, b, c, d, e, f, g, h)| = 8)"
      ]
     },
     "execution_count": 2,
     "metadata": {},
     "output_type": "execute_result"
    }
   ],
   "source": [
    "%proving tuple_len_8"
   ]
  },
  {
   "cell_type": "code",
   "execution_count": null,
   "metadata": {},
   "outputs": [],
   "source": []
  }
 ],
 "metadata": {
  "kernelspec": {
   "display_name": "Python 3",
   "language": "python",
   "name": "python3"
  }
 },
 "nbformat": 4,
 "nbformat_minor": 0
}