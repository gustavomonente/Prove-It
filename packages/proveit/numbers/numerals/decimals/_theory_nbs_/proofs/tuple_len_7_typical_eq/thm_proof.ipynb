{
 "cells": [
  {
   "cell_type": "markdown",
   "metadata": {},
   "source": [
    "Proof of <a class=\"ProveItLink\" href=\"../../../../../../_theory_nbs_/theory.ipynb\">proveit</a>.<a class=\"ProveItLink\" href=\"../../../../../_theory_nbs_/theory.ipynb\">numbers</a>.<a class=\"ProveItLink\" href=\"../../../../_theory_nbs_/theory.ipynb\">numerals</a>.<a class=\"ProveItLink\" href=\"../../theory.ipynb\">decimals</a>.<a class=\"ProveItLink\" href=\"../../theorems.ipynb#tuple_len_7_typical_eq\">tuple_len_7_typical_eq</a> theorem\n",
    "========"
   ]
  },
  {
   "cell_type": "code",
   "execution_count": 1,
   "metadata": {},
   "outputs": [],
   "source": [
    "import proveit\n",
    "theory = proveit.Theory() # the theorem's theory"
   ]
  },
  {
   "cell_type": "code",
   "execution_count": 2,
   "metadata": {},
   "outputs": [
    {
     "data": {
      "text/html": [
       "Under these <a href=\"presumptions.txt\">presumptions</a>, we begin our proof of<br><strong id=\"tuple_len_7_typical_eq\">tuple_len_7_typical_eq:</strong> <a class=\"ProveItLink\" href=\"../../../__pv_it/theorems/148e1b0137dcbd75668b906f124a17224f762c9e0/expr.ipynb\"><img src=\"data:image/png;base64,iVBORw0KGgoAAAANSUhEUgAAAZ8AAAAWBAMAAADtBIwDAAAAMFBMVEX///8QEBCIiIhmZma6urrM\n",
       "zMxUVFQiIiJERETc3Nzu7u6qqqp2dnaYmJgyMjIAAAAcRTyBAAAAAXRSTlMAQObYZgAABOJJREFU\n",
       "WMO1WF2IG1UUPpkkm8kkkxRREEUIWbdPq4wLPizt0ohQn6TZFwVBmlbrU9WAWt3ahxRBWkEYX9x9\n",
       "UDp1xZUiZrBQrA9uaLWCrhi2D3ZLFwP+gC1bii3iRt31nPszk5npnV2S9ULu/ebcc+85373n/gVg\n",
       "gJR2YAvTUwP2PrA370O+QmW2PSiVsyz/KiTlvaOZTbZHfQIdwst9eGE0hMmPe4VH67cZuqNWRDY7\n",
       "bPsfQ7aaEJqJS08+s7DQ4u1Rn8B3hK/2QahgC5O/B6TWbVSLbkR0cL5HZnTUhNAM5O5RevHT+vp6\n",
       "jbdHfQIzFDSNPghdFCZNawPfAfZEotu49WHv5zk1ITTz0YWu0otxnF/RnvQRFNBY3u2D0JQwmbHj\n",
       "fcf0TUSSuxH4PKkmNEVjpibUAvhatCd9BOa3p05N98EnWxcmpzfwHdPPEUk+uNQKFRUhMhNHCCBV\n",
       "Eu1Jn8Bfx44d6YOQZgmTw2R255gI89/KO2QYlauc+c6Rv4Xok/I4B+ZDL8lAPV3+HDuyVITITDwh\n",
       "HUR70idwAOC4x/Z6QHdXtecj+X2wn7Yw+Tb+HrELPIaMNafJQ3Da1dlSxTpd+JOagvfkUitJrxvZ\n",
       "m+hxRxLKX2dJOsjMxBMit1h70ifwqNhkWDof0G0GFu5ooC7jCpOvI437IMn3lVxX+noEhtjKpDrR\n",
       "/0nXeFi0PiGHat4BnL9cXTVDZCaWkEEjydqTPoEMaP7JeC2g/GXvxy/BjhIVYfJOnLwuZDgN9L3Z\n",
       "YkD6QHUtDvctPiC3jHnZzd2QRs30DRWhRGUDQhqNFmtP+gTy7YxfvRpQDsxXV00o0YBmVR5De9jE\n",
       "JORJQHX8yIc/o3tH+l/Q6gMRyjTChLKdJ+jk3v4rVfyxncYwX6bxni1f4yuZDf6lm2wer5Rr0ZDD\n",
       "SRFDXmzDLjYLzZYMW68O/vHdeFOU5irouF5S9dAaqm065IqkmpIhx8DxZzESX6GZB+0w21VeTm/z\n",
       "RMZVg1Ew2ZBrNd2KbgpNF17Isb2gWME1I5gBmyq/DpcVaMKNO/zziI5if1MIz9CGm8JeK7wpwGlk\n",
       "lbTSxE0vkQQXeJWJttE963l+0UsyIidsXRzCebltn2fNDuWhiU2H2kiYQLIGs1UCfh08CMY4R8Yt\n",
       "oorIWIUXcUaTLRUhtiFrXaG9BiLzvmCemrL2pM8AbUsJV6uxiEVH8IMFvxT5MwLwIxTFuk7Jg/Ux\n",
       "7Hr/yLv3Q+YwojHcRQnAwnKJS7w60CaWRWWKYp6h3aO0nApVFSEyk9y3NsG1D4HIMuTaq+TKO65s\n",
       "zw5WAibKm7Z+GYuiQ2SKLEKkyAZGIcFW/QWYVF99vlCDEMo3fNkb+JuLv/qEevDuT941a07qz3l7\n",
       "lr33cZhxMs4lzPH+YM04KHoaP3TXqGXfQn4OYHEGnlNfTltqEERnCm2B0jz64i+n4R48heDlVlxO\n",
       "RQDt/2wCJt30wRbm2bFFZ9IVImOsDOl7WWRhkRxd8a4K8vkg7xlGSQlC6LVPJfrBoU0m7vmg2+Ee\n",
       "vPRB8Pkhng+9yY3kosjxkcIC7lI+8ExQghBaHJdo9+IOz+n4B54Z3eDaPWPL9XU7GJN2OJfFWVg5\n",
       "QEW2luv0PMG16tY8wZdYPhK+A1Q3+wRfkvpLQbkZyWXRhnM04+3syvCW/i/yP6T/AFdDj/dTyd3L\n",
       "AAAAAElFTkSuQmCC\n",
       "\" style=\"display:inline;vertical-align:middle;\" /></a><br>(see <a class=\"ProveItLink\" href=\"../../../__pv_it/theorems/1966d43a31fbe1d9dcbeee99d87dcc01cbaf975d0/dependencies.ipynb\">dependencies</a>)<br>"
      ],
      "text/plain": [
       "tuple_len_7_typical_eq: forall_{a, b, c, d, e, f, g} (|(a, b, c, d, e, f, g)| = |(1, ..k.., 7)|)"
      ]
     },
     "execution_count": 2,
     "metadata": {},
     "output_type": "execute_result"
    }
   ],
   "source": [
    "%proving tuple_len_7_typical_eq"
   ]
  },
  {
   "cell_type": "code",
   "execution_count": null,
   "metadata": {},
   "outputs": [],
   "source": []
  }
 ],
 "metadata": {
  "kernelspec": {
   "display_name": "Python 3",
   "language": "python",
   "name": "python3"
  }
 },
 "nbformat": 4,
 "nbformat_minor": 0
}