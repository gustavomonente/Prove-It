{
 "cells": [
  {
   "cell_type": "markdown",
   "metadata": {},
   "source": [
    "Proof of <a class=\"ProveItLink\" href=\"../../../../../../_theory_nbs_/theory.ipynb\">proveit</a>.<a class=\"ProveItLink\" href=\"../../../../../_theory_nbs_/theory.ipynb\">numbers</a>.<a class=\"ProveItLink\" href=\"../../../../_theory_nbs_/theory.ipynb\">numerals</a>.<a class=\"ProveItLink\" href=\"../../theory.ipynb\">decimals</a>.<a class=\"ProveItLink\" href=\"../../theorems.ipynb#reduce_2_repeats\">reduce_2_repeats</a> theorem\n",
    "========"
   ]
  },
  {
   "cell_type": "code",
   "execution_count": 1,
   "metadata": {},
   "outputs": [],
   "source": [
    "import proveit\n",
    "theory = proveit.Theory() # the theorem's theory"
   ]
  },
  {
   "cell_type": "code",
   "execution_count": 2,
   "metadata": {},
   "outputs": [
    {
     "data": {
      "text/html": [
       "Under these <a href=\"presumptions.txt\">presumptions</a>, we begin our proof of<br><strong id=\"reduce_2_repeats\">reduce_2_repeats:</strong> <a class=\"ProveItLink\" href=\"../../../__pv_it/theorems/63be42510d0a2a91d76eccc06c03cbd62a5409880/expr.ipynb\"><img src=\"data:image/png;base64,iVBORw0KGgoAAAANSUhEUgAAAR8AAAAUBAMAAABGySQJAAAAMFBMVEX///8QEBCIiIhmZma6urrM\n",
       "zMxUVFQiIiJERETc3Nzu7u6qqqp2dnaYmJgyMjIAAAAcRTyBAAAAAXRSTlMAQObYZgAAA3NJREFU\n",
       "SMetVl1IFFEUPrs76+zOzkxRPlRPywpCUjYIRVCSFVG95OJDT4FLVNCDJQlGJiVB5BLRQpH1EE0G\n",
       "KiJl9BBJ0aK9tCUuFIWRtBEURj+iGe5abefM7OrMnR9EvOy5nrnzzTmf555zzwWwjGAap5uwdOOR\n",
       "gw8riiRDD2PGNz0oQpvVyJ3N5xdHqCRhWeqxR5G8oIevxjfjKLLVhhCDkRpXx05vhYxladweRXKd\n",
       "AmiMh6Tg9Mr6gU8Fz3I3PoLi9GaQXZAUBxSKrAKI/YZ1noJzyor3NEJJ1o2Q5EjoNrvAJxxQKFKq\n",
       "t7fDuE4PwUYrXs5BybQboaeOhGR2MzucUCQz7e2txvUyFC/aFiJHdzCx5nM47VvxeByuvD/KfRze\n",
       "2oDPqEIoMgjStqYtUPek0rSLug2RpUo+OsuvrguzKJLDAHEj+BJKAKuyD96Gz5jt1CZpXjnwl2uB\n",
       "7aqnFLoV0NSHCV8MeIWKkzd+ULAhUVaLP7ShFHwISekEn2FRJDuZKjhNocCkSsGIutdMqFmbv2A+\n",
       "JcETlmMQ+qWr96Ncjghxa8Br/KBgI8RmAPoQVTHHJVgUCQ9e0ylVSgmMW6lCO1tneuQ/A9RXj71J\n",
       "yxiRKV2FuqEsEYKz50zpWrDhn2AsoQ8BAm1WFImY5sGOEMCkzc7j+IT5S2WJhGBGV+/G/Tqhvp9T\n",
       "5m8mnQgBLAtbUSTBzH46ADaWR81bBn6mpkIK3KC/3zBCYZ0QRYjUC+DPqrziDarwwVRRug2ucT6H\n",
       "YkUfUB+1ojRk/BCWlXqMrzEn9YB3AiqMxg8ArC0QwmwUCjmkqX8glN0lx3xcGEqM+1+wIbFHNfoI\n",
       "qRvQK4vSkA+QlR++F8FDoFUfNxuYwBZ4jw70f/QLtr7cpCVnE8Jn8eCWV0N3UldXgTj9zpfxYVIH\n",
       "Ejocf0Ub4EsyhNBHbf9l7OAsSkPqezl3CO/WoyccrCjDnsu36NXVDHI+nydCe/IXAbqqUiA3RDC2\n",
       "mnqtKlWZhiPPueH1zwpwOKkWbYAcZQihj65IZ3XagtKQkqpllN++dQw4nsyy4tpqQ+qc2u3cOhjU\n",
       "HPKWmBHtm2tysYTEBTVX0dJc9dH1ejBV1OncDhT/BSHs6JGPuRLqdLt+xO1RNkj2giY5OuSO/064\n",
       "EZqvtoDLBc2MCthaXPIr7OiCrrCjuvwHukkpQnGVK2QAAAAASUVORK5CYII=\n",
       "\" style=\"display:inline;vertical-align:middle;\" /></a><br>(see <a class=\"ProveItLink\" href=\"../../../__pv_it/theorems/5edd648ceba2f99ec90faafd921bdaba7148a4bf0/dependencies.ipynb\">dependencies</a>)<br>"
      ],
      "text/plain": [
       "reduce_2_repeats: forall_{x} ((x, ..2 repeats.., x) = (x, x))"
      ]
     },
     "execution_count": 2,
     "metadata": {},
     "output_type": "execute_result"
    }
   ],
   "source": [
    "%proving reduce_2_repeats"
   ]
  },
  {
   "cell_type": "code",
   "execution_count": null,
   "metadata": {},
   "outputs": [],
   "source": []
  }
 ],
 "metadata": {
  "kernelspec": {
   "display_name": "Python 3",
   "language": "python",
   "name": "python3"
  }
 },
 "nbformat": 4,
 "nbformat_minor": 0
}