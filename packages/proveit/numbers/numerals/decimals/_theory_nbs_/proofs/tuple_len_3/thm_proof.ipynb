{
 "cells": [
  {
   "cell_type": "markdown",
   "metadata": {},
   "source": [
    "Proof of <a class=\"ProveItLink\" href=\"../../../../../../_theory_nbs_/theory.ipynb\">proveit</a>.<a class=\"ProveItLink\" href=\"../../../../../_theory_nbs_/theory.ipynb\">numbers</a>.<a class=\"ProveItLink\" href=\"../../../../_theory_nbs_/theory.ipynb\">numerals</a>.<a class=\"ProveItLink\" href=\"../../theory.ipynb\">decimals</a>.<a class=\"ProveItLink\" href=\"../../theorems.ipynb#tuple_len_3\">tuple_len_3</a> theorem\n",
    "========"
   ]
  },
  {
   "cell_type": "code",
   "execution_count": 1,
   "metadata": {},
   "outputs": [],
   "source": [
    "import proveit\n",
    "from proveit import a, b, c, i\n",
    "from proveit.core_expr_types.tuples  import tuple_len_incr\n",
    "from proveit.numbers.numerals.decimals import tuple_len_2, add_2_1\n",
    "theory = proveit.Theory() # the theorem's theory"
   ]
  },
  {
   "cell_type": "code",
   "execution_count": 2,
   "metadata": {},
   "outputs": [
    {
     "data": {
      "text/html": [
       "Under these <a href=\"presumptions.txt\">presumptions</a>, we begin our proof of<br><strong id=\"tuple_len_3\">tuple_len_3:</strong> <a class=\"ProveItLink\" href=\"../../../__pv_it/theorems/256bfcb494dcdd73881d226903ce55927003538c0/expr.ipynb\"><img src=\"data:image/png;base64,iVBORw0KGgoAAAANSUhEUgAAAL8AAAAWBAMAAABj11ATAAAAMFBMVEX///8QEBCIiIhmZma6urrM\n",
       "zMxUVFQiIiJERETc3Nzu7u6qqqp2dnaYmJgyMjIAAAAcRTyBAAAAAXRSTlMAQObYZgAAAsZJREFU\n",
       "SMetVU1oE0EU/rLJdn/yV8GDCEKotldDRBGsGPHgSRovXluKHkSRgj9gKxhv7UFdELSCwoqHSg9m\n",
       "0YPoxdAcFLUS6kWFSkBbUKGIF23Q6pvZ2XQ3mak9+GBn37x5b76Z9zfAv0h3sQ5an5aEbiNVZH+r\n",
       "rtJIOmz0tdrpMX0NxsyrrO2yML0XFl4aCesclwJYr5576CLwl2z2RQWQcYTp54g0H57dlwJcQ/I3\n",
       "bDr+JEMrqwDeCNN0ZMusF56lcjKA7R5+ADN0GopOylMBnBemhhOWDkQianfLAPYXsQLcobO9mJ6+\n",
       "odrfGhGmUY1nUa1P8iCTi5Ah8c/x8QsqAC0vTLcytP7CZl+82LMncE9PL1CTA0xVSUwbHAMmAlli\n",
       "Kapj1oXpZXZpJ/PN98mKW/FdZo3hCvChBfB6idFHvnbrNDkyTVE+wGMtqBYFMDxhOkbbbkHcT4Zk\n",
       "E9mcv17FCeCR/AbaRlIlHxvQVovoa1QnVhSmpBtvwvC3jTdQqXJuH4/2oKLQNrjQ6c6purEqW1YD\n",
       "xMqolIIyGPDzbhOUADeBqx4HsBpHaH63b4F1lO99Lg9drtNFdOinogzq4uj2Lz4/2BaDRcb+cRlA\n",
       "gtX8xFFSPas3mdtGWd7gjN7dGeSKh1N+38kWKR6cKBGT4SCHiC530eVBxkNCied1hmXmmIRiWRJZ\n",
       "GKRpja+dS6FC6111M88Z7IK9E+iXAczzOoizWLGMiHnaEPd5fIhNWmkbFBp5wR7uvb4NxihxhVlw\n",
       "BqnZORoXZACJHbtJlGEnTZM/K475nn5Zl22eddZoFU86GHtE2a4x1UoXZ/AQJl3DfUsj1Xde2eyq\n",
       "HYy82fk007rQ8IO9OOzpJ6s0WoW5oJuZQbsOit3OtTOKdu0rNaJzLzQqHpw02hkfWw5gOpLHL+lE\n",
       "n0yttPaTmeb6Wkm29q5Nte1o/4X+AsSivieBabo3AAAAAElFTkSuQmCC\n",
       "\" style=\"display:inline;vertical-align:middle;\" /></a><br>(see <a class=\"ProveItLink\" href=\"../../../__pv_it/theorems/d20705a772e572290469fdb2331e5c782627a13a0/dependencies.ipynb\">dependencies</a>)<br>"
      ],
      "text/plain": [
       "tuple_len_3: forall_{a, b, c} (|(a, b, c)| = 3)"
      ]
     },
     "execution_count": 2,
     "metadata": {},
     "output_type": "execute_result"
    }
   ],
   "source": [
    "%proving tuple_len_3"
   ]
  },
  {
   "cell_type": "code",
   "execution_count": 3,
   "metadata": {},
   "outputs": [
    {
     "data": {
      "text/html": [
       "<strong id=\"one_spec\">one_spec:</strong> <span style=\"font-size:20px;\"> <a class=\"ProveItLink\" href=\"../../../__pv_it/_proof_tuple_len_3/693019920e073b9d161154117b7f2d232e41b4b10/proof.ipynb\" style=\"text-decoration: none\">&nbsp;&#x22A2;&nbsp;&nbsp;</a><a class=\"ProveItLink\" href=\"../../../__pv_it/theorems/e77d833c05678bd93f65d27affb18df811a17d5e0/expr.ipynb\"><img src=\"data:image/png;base64,iVBORw0KGgoAAAANSUhEUgAAAGMAAAAVBAMAAACgbk16AAAAMFBMVEX///9UVFQQEBCqqqoiIiJm\n",
       "ZmYyMjJERESYmJjc3NyIiIi6urp2dnbu7u7MzMwAAAADGpxCAAAAAXRSTlMAQObYZgAAAW5JREFU\n",
       "OMtjeMuAB2CXPA0mZ6CJMk9AksSqhbcASeS6CpCQxKqFN7T8AVSUbQKyRCoQX8Oq5SIDz2+oaCuK\n",
       "xGcg5lmATUssA4MSVNQTWZz7L8gJCti0AJ0sPwEsyumALM4D5mVj05J/gUH+AViUKwBITD266AJY\n",
       "nE1qqQEDw1EcIeZ/ASzK3gB0jiZDPkTwfi7vTwaGNriWY2kgkAp19R+IKAvQ1EsNDOEQUfsLDL8Y\n",
       "GEyw28IiABFl2sDAEH+BwQsiGsbACzTqPXYtoQwILeoMvP9g0cL9GZcWsK+hDgMazPwBIvyDgRUY\n",
       "zFvQ/JIIljNl4JwA8z7vZwbGBEuw8G+Qv5C8jwT4DjBwQbTwAK2rYmgROMD7DciTYCgFkjHYtEw5\n",
       "c1QEIsoNjLyLq15KbWBwAUbN1TVASxjysEbl//9f0BMM8wVYmnUgkPjhyZIHzlhAQAs7LPHfgglf\n",
       "IzqLNcCEK/FoWYc1I3NMQJJEAwCXwXTSfFEhPwAAAABJRU5ErkJggg==\n",
       "\" style=\"display:inline;vertical-align:middle;\" /></a></span><br>"
      ],
      "text/plain": [
       "one_spec: |- |(a, b)| = 2"
      ]
     },
     "execution_count": 3,
     "metadata": {},
     "output_type": "execute_result"
    }
   ],
   "source": [
    "one_spec = tuple_len_2.instantiate({a:a})"
   ]
  },
  {
   "cell_type": "code",
   "execution_count": 4,
   "metadata": {},
   "outputs": [
    {
     "data": {
      "text/html": [
       "<strong id=\"tuple_spec\">tuple_spec:</strong> <span style=\"font-size:20px;\"> <a class=\"ProveItLink\" href=\"../../../__pv_it/_proof_tuple_len_3/9d855a0c2eb666826db3aa7c78b4d7e3dde1d11f0/proof.ipynb\" style=\"text-decoration: none\">&nbsp;&#x22A2;&nbsp;&nbsp;</a><a class=\"ProveItLink\" href=\"../../../__pv_it/_proof_tuple_len_3/d8249d3be95406d88d6e274890a16be2847f2ba10/expr.ipynb\"><img src=\"data:image/png;base64,iVBORw0KGgoAAAANSUhEUgAAAKcAAAAVBAMAAADROuOhAAAAMFBMVEX///9UVFQQEBCqqqoiIiJm\n",
       "ZmYyMjJERESYmJjc3NyIiIi6urp2dnbu7u7MzMwAAAADGpxCAAAAAXRSTlMAQObYZgAAAjlJREFU\n",
       "OMuNVTFPFEEU/nDvuONuh1zUAmgwxkgoTCy0oPISbaABCoRC5Ux0GyNno0SrK9REqi0wsbyY0BBz\n",
       "uYIfcBRHCFLsEdSEhmstjCQYoiLCm5ndzewwQ+4Vu2/2fd+3772ZfYsf6MQ6Q8X2WVw/2MKOr6BU\n",
       "szJGIjh7pjz9dkXF9JtFicGm5tsG0S4/hHf76uPH6uKrWZQYLbiHel3X6HWlEP4mEdpXF27VKEqM\n",
       "+8DlUKsq763VI7puhPBRFZ8/StR5yShKDOrSoJ8QRZZTtyS8p5jILbHCE5MoZ5QDDLYNot11Ac9N\n",
       "0OV982Mg2zWwdD2UX64BTZOoYADjgUHUnRDwTIWKHkZZRnafsj8yndt4AbyNRdc8bmIbOYM4/2AQ\n",
       "zZYEPEWZbVUwLSO3AvwVTqqBC8ANU6YpUUuqYBJ1igJ+rg7MBhiTkbtgMoNZUdxPkyhnAFOiR573\n",
       "6KrnFWLR3r1YdAjsf3RM8/JQDeFs0bCxeqahKBVDyTl7MvIbaXGownxXtJ4+jMu/iR7TkcoXo41i\n",
       "++gqjYjIIe+vVIejbpRifKN6G8j59o2iQ4BXeF1osANa9eE5hDMJ9gC4ZxLljMXN5kWt/BwXTTcE\n",
       "nBJGa/n7QB13aG++fKI0uOOuL1BwziTKGeXj419J0fT5gxk6523tM3UC3WFF22eqzJGqutrWB4p7\n",
       "2rEOFGU+BOoqGiiZaPTtQHcsoy/j24Z0PPriIV2B7ry0DmmL8dfVzv45ZGVGtc5/J++AE+eVr9au\n",
       "5HiFAAAAAElFTkSuQmCC\n",
       "\" style=\"display:inline;vertical-align:middle;\" /></a></span><br>"
      ],
      "text/plain": [
       "tuple_spec: |- |(a, b, c)| = (2 + 1)"
      ]
     },
     "execution_count": 4,
     "metadata": {},
     "output_type": "execute_result"
    }
   ],
   "source": [
    "tuple_spec = tuple_len_incr.instantiate({i: one_spec.rhs, a: one_spec.lhs.operands[0], b: c})"
   ]
  },
  {
   "cell_type": "code",
   "execution_count": 5,
   "metadata": {},
   "outputs": [
    {
     "data": {
      "text/html": [
       "<strong id=\"spec\">spec:</strong> <span style=\"font-size:20px;\"> <a class=\"ProveItLink\" href=\"../../../__pv_it/_proof_tuple_len_3/fd31b5c706535d5b90e996f7690a6a40efcb2d900/proof.ipynb\" style=\"text-decoration: none\">&nbsp;&#x22A2;&nbsp;&nbsp;</a><a class=\"ProveItLink\" href=\"../../../__pv_it/theorems/9ebe28780385580c7dfc061ddc2c67cdaeae14450/expr.ipynb\"><img src=\"data:image/png;base64,iVBORw0KGgoAAAANSUhEUgAAAHUAAAAVBAMAAACK3rzVAAAAMFBMVEX///9UVFQQEBCqqqoiIiJm\n",
       "ZmYyMjJERESYmJjc3NyIiIi6urp2dnbu7u7MzMwAAAADGpxCAAAAAXRSTlMAQObYZgAAAZxJREFU\n",
       "OMtjeMtADMCu6jSYnIFLE/MEJFVY9fIWIIlcV0GWl8Sql/PMcQOoKNsEZIlUZM41rHqnMjD/gIq2\n",
       "okh8RubwLMCmd70BwxeoqCeyOPdfZB6vAja9mzYwfIOIcjqg2ITCY8jGHlYwN3MFgLxwdNEFsCib\n",
       "1FIDqCmr1jEwHMWu98oBiCh7A9Clmgz5ENH7ubw/IYHpzFDGwNAG13ssDQQgITnH9QJElAVoz6UG\n",
       "hnCIXvsLDL/ADJYDDMIMDCbY7eXShogybWBgiL/A4AURDWPg/QNmxIP98B5H2lC6ANerzsD7Dxa9\n",
       "3JBYUmfAqXcmA0O9AczNQKuYP0DEfzCwgmMJavsWNP8mgpj/L8D0AsOK9zMDY4IlWPFvkN8hhjAw\n",
       "I4cVEgA6yR/iZh5gHFUxtAgc4AVGOIMEQykDmBHIwBvHwBCDTW8HPH65ganh4qqXUhsYXIDBc3UN\n",
       "0FoQg+dEF1AyD5te7tDwDehpkvkCOoPXgUAehOcFHkzGAgJ62WF58BYDOuMa0Xm/gQGdUYlH7zr8\n",
       "ZQ7HBCRVaAAATPCEnaEmLc8AAAAASUVORK5CYII=\n",
       "\" style=\"display:inline;vertical-align:middle;\" /></a></span><br>"
      ],
      "text/plain": [
       "spec: |- |(a, b, c)| = 3"
      ]
     },
     "execution_count": 5,
     "metadata": {},
     "output_type": "execute_result"
    }
   ],
   "source": [
    "spec = tuple_spec.apply_transitivity(add_2_1)"
   ]
  },
  {
   "cell_type": "code",
   "execution_count": 6,
   "metadata": {},
   "outputs": [
    {
     "data": {
      "text/html": [
       "<table><tr><th>&nbsp;</th><th>step type</th><th>requirements</th><th>statement</th></tr>\n",
       "<tr><td><a name=\"-0x494fc61728408518_step0\">0</a></td><td>generalizaton</td><td><a href=\"#-0x494fc61728408518_step1\">1</a></td><td><span style=\"font-size:20px;\"> <a class=\"ProveItLink\" href=\"../../../__pv_it/_proof_tuple_len_3/794c7d19505dc66b9f1c4ea36044defc89a9fe5b0/proof.ipynb\" style=\"text-decoration: none\">&nbsp;&#x22A2;&nbsp;&nbsp;</a><a class=\"ProveItLink\" href=\"../../../__pv_it/theorems/256bfcb494dcdd73881d226903ce55927003538c0/expr.ipynb\"><img src=\"data:image/png;base64,iVBORw0KGgoAAAANSUhEUgAAAL8AAAAWBAMAAABj11ATAAAAMFBMVEX///8QEBCIiIhmZma6urrM\n",
       "zMxUVFQiIiJERETc3Nzu7u6qqqp2dnaYmJgyMjIAAAAcRTyBAAAAAXRSTlMAQObYZgAAAsZJREFU\n",
       "SMetVU1oE0EU/rLJdn/yV8GDCEKotldDRBGsGPHgSRovXluKHkSRgj9gKxhv7UFdELSCwoqHSg9m\n",
       "0YPoxdAcFLUS6kWFSkBbUKGIF23Q6pvZ2XQ3mak9+GBn37x5b76Z9zfAv0h3sQ5an5aEbiNVZH+r\n",
       "rtJIOmz0tdrpMX0NxsyrrO2yML0XFl4aCesclwJYr5576CLwl2z2RQWQcYTp54g0H57dlwJcQ/I3\n",
       "bDr+JEMrqwDeCNN0ZMusF56lcjKA7R5+ADN0GopOylMBnBemhhOWDkQianfLAPYXsQLcobO9mJ6+\n",
       "odrfGhGmUY1nUa1P8iCTi5Ah8c/x8QsqAC0vTLcytP7CZl+82LMncE9PL1CTA0xVSUwbHAMmAlli\n",
       "Kapj1oXpZXZpJ/PN98mKW/FdZo3hCvChBfB6idFHvnbrNDkyTVE+wGMtqBYFMDxhOkbbbkHcT4Zk\n",
       "E9mcv17FCeCR/AbaRlIlHxvQVovoa1QnVhSmpBtvwvC3jTdQqXJuH4/2oKLQNrjQ6c6purEqW1YD\n",
       "xMqolIIyGPDzbhOUADeBqx4HsBpHaH63b4F1lO99Lg9drtNFdOinogzq4uj2Lz4/2BaDRcb+cRlA\n",
       "gtX8xFFSPas3mdtGWd7gjN7dGeSKh1N+38kWKR6cKBGT4SCHiC530eVBxkNCied1hmXmmIRiWRJZ\n",
       "GKRpja+dS6FC6111M88Z7IK9E+iXAczzOoizWLGMiHnaEPd5fIhNWmkbFBp5wR7uvb4NxihxhVlw\n",
       "BqnZORoXZACJHbtJlGEnTZM/K475nn5Zl22eddZoFU86GHtE2a4x1UoXZ/AQJl3DfUsj1Xde2eyq\n",
       "HYy82fk007rQ8IO9OOzpJ6s0WoW5oJuZQbsOit3OtTOKdu0rNaJzLzQqHpw02hkfWw5gOpLHL+lE\n",
       "n0yttPaTmeb6Wkm29q5Nte1o/4X+AsSivieBabo3AAAAAElFTkSuQmCC\n",
       "\" style=\"display:inline;vertical-align:middle;\" /></a></span></td></tr>\n",
       "<tr><td><a name=\"-0x494fc61728408518_step1\">1</a></td><td>instantiation</td><td><a href=\"#-0x494fc61728408518_step2\">2</a>, <a href=\"#-0x494fc61728408518_step3\">3</a>, <a href=\"#-0x494fc61728408518_step4\">4</a></td><td><span style=\"font-size:20px;\"> <a class=\"ProveItLink\" href=\"../../../__pv_it/_proof_tuple_len_3/fd31b5c706535d5b90e996f7690a6a40efcb2d900/proof.ipynb\" style=\"text-decoration: none\">&nbsp;&#x22A2;&nbsp;&nbsp;</a><a class=\"ProveItLink\" href=\"../../../__pv_it/theorems/9ebe28780385580c7dfc061ddc2c67cdaeae14450/expr.ipynb\"><img src=\"data:image/png;base64,iVBORw0KGgoAAAANSUhEUgAAAHUAAAAVBAMAAACK3rzVAAAAMFBMVEX///9UVFQQEBCqqqoiIiJm\n",
       "ZmYyMjJERESYmJjc3NyIiIi6urp2dnbu7u7MzMwAAAADGpxCAAAAAXRSTlMAQObYZgAAAZxJREFU\n",
       "OMtjeMtADMCu6jSYnIFLE/MEJFVY9fIWIIlcV0GWl8Sql/PMcQOoKNsEZIlUZM41rHqnMjD/gIq2\n",
       "okh8RubwLMCmd70BwxeoqCeyOPdfZB6vAja9mzYwfIOIcjqg2ITCY8jGHlYwN3MFgLxwdNEFsCib\n",
       "1FIDqCmr1jEwHMWu98oBiCh7A9Clmgz5ENH7ubw/IYHpzFDGwNAG13ssDQQgITnH9QJElAVoz6UG\n",
       "hnCIXvsLDL/ADJYDDMIMDCbY7eXShogybWBgiL/A4AURDWPg/QNmxIP98B5H2lC6ANerzsD7Dxa9\n",
       "3JBYUmfAqXcmA0O9AczNQKuYP0DEfzCwgmMJavsWNP8mgpj/L8D0AsOK9zMDY4IlWPFvkN8hhjAw\n",
       "I4cVEgA6yR/iZh5gHFUxtAgc4AVGOIMEQykDmBHIwBvHwBCDTW8HPH65ganh4qqXUhsYXIDBc3UN\n",
       "0FoQg+dEF1AyD5te7tDwDehpkvkCOoPXgUAehOcFHkzGAgJ62WF58BYDOuMa0Xm/gQGdUYlH7zr8\n",
       "ZQ7HBCRVaAAATPCEnaEmLc8AAAAASUVORK5CYII=\n",
       "\" style=\"display:inline;vertical-align:middle;\" /></a></span></td></tr>\n",
       "<tr><td>&nbsp;</td><td colspan=4 style=\"text-align:left\"><span style=\"font-size:20px;\"><a class=\"ProveItLink\" href=\"../../../../../../__pv_it/common/a2581dc5df71d9a30bad37de14965fa5fec97a240/expr.ipynb\"><img src=\"data:image/png;base64,iVBORw0KGgoAAAANSUhEUgAAAAsAAAAJBAMAAAAWSsseAAAALVBMVEX///9mZmaqqqrMzMxEREQy\n",
       "MjIiIiKYmJh2dna6urrc3NxUVFSIiIju7u4AAACJHQtQAAAAAXRSTlMAQObYZgAAAEJJREFUCNdj\n",
       "YLhzeuWJAwy8Dew5bAEMHBc43nIuYOBlYHFgAAG+A2DKzgBIMF04x8BzgWGegh/DcgaG22fuiBcw\n",
       "AAATyhBrnyPYZQAAAABJRU5ErkJggg==\n",
       "\" style=\"display:inline;vertical-align:middle;\" /></a> : <a class=\"ProveItLink\" href=\"../../../__pv_it/theorems/a71a99ed5e31516eff0a05439517407d43c8a9450/expr.ipynb\"><img src=\"data:image/png;base64,iVBORw0KGgoAAAANSUhEUgAAAE4AAAAVBAMAAAAazcUaAAAAMFBMVEX///9UVFQQEBCqqqoiIiJm\n",
       "ZmYyMjJERESYmJjc3NyIiIi6urp2dnbu7u7MzMwAAAADGpxCAAAAAXRSTlMAQObYZgAAAUJJREFU\n",
       "KM9jeMtADHjLcBpMz8ClgHkCmDoNUcdbgCR1XQVZoSSyOrYJyFKpyJxryOpaUez6jMzhWYCkzhNZ\n",
       "hvsvMo9XAaGO0wHFBBQeQzZCHVcAkJh6dNEFsASb1FIDqI5V6xgYjiLUsTcAbdNkyIfI3s/l/Qlm\n",
       "cDozlDEwtCHUsQD1X2pgCIeos7/A8AvMYDnAIMzAYIJQx7SBgSH+AoMXRF0YA+8fMCMe7I73qOrU\n",
       "GXj/wYKPGxIy6gxo6oD2Ao1g/gBR94OBFRwyUFO3oPiD9zMDY4IlWOI3yK0QDQzMKP7gAYZLFUOL\n",
       "wAHeb0CeBEMpA5gRyMAbx8AQg1DHDQzZi6teSm1gcAE6/eoaoHEgBs+JLqBkHrZ4Y76AzuB1wJYO\n",
       "eDAZyOmAHZaubjGgM65hTacNDOiMSqi6dfjTPQfEpnUAKBJpa3hHt0AAAAAASUVORK5CYII=\n",
       "\" style=\"display:inline;vertical-align:middle;\" /></a>, <a class=\"ProveItLink\" href=\"../../../../../../__pv_it/common/0f21cbfd5644a1cae6781c1d58354abc2ffbc9000/expr.ipynb\"><img src=\"data:image/png;base64,iVBORw0KGgoAAAANSUhEUgAAAAsAAAANBAMAAACN24kIAAAAMFBMVEX///8iIiKYmJhUVFTMzMxE\n",
       "REQyMjKqqqq6urp2dnYQEBDc3NxmZmaIiIju7u4AAACH5sGpAAAAAXRSTlMAQObYZgAAAFlJREFU\n",
       "CNdj4LtzgWHXAwZOjgUM9xkYtvMkMIQyMDzgusDwl4GBof8ByxcgdYyBdwGQCmZgNQBShxn6FYDU\n",
       "47vnNzAwgGUZGJgT+H4AKUYF1gtAiuPuESAJAJGkFvXVdzA+AAAAAElFTkSuQmCC\n",
       "\" style=\"display:inline;vertical-align:middle;\" /></a> : <a class=\"ProveItLink\" href=\"../../../__pv_it/theorems/bf6dcb210cc29a2dfa8e707d527bd62c49833e360/expr.ipynb\"><img src=\"data:image/png;base64,iVBORw0KGgoAAAANSUhEUgAAACsAAAAQBAMAAAB9zpudAAAAMFBMVEX///+YmJiqqqqIiIgyMjLc\n",
       "3NwiIiIQEBC6urp2dnZUVFTMzMxERERmZmbu7u4AAADrYmUNAAAAAXRSTlMAQObYZgAAAIdJREFU\n",
       "GNNj4Lt7ZgMDJnjFwPkDTUj9AQPDPQaGcgiPyQBM8a1cDxQuY2BYH4AszMAgDxT2f8CwfgOmMBDk\n",
       "P8AmzPGTAZsw2wKswndBBKeLi1uJi8sCuDDzBQZsqnUZWLE4kHsCAzMW4bCZc5ehGWIP8s7//99Q\n",
       "hW/V+woghRBcNSrge4BgAwCLXCoIaqjX3gAAAABJRU5ErkJggg==\n",
       "\" style=\"display:inline;vertical-align:middle;\" /></a>, <a class=\"ProveItLink\" href=\"../../../../../../__pv_it/common/fab62f2bacea351a074e2d41fad4d8b09cef5e740/expr.ipynb\"><img src=\"data:image/png;base64,iVBORw0KGgoAAAANSUhEUgAAAAoAAAAJBAMAAAD5iKAgAAAAMFBMVEX///8yMjJ2dnaqqqpUVFTc\n",
       "3NxmZmaIiIhERETu7u6YmJjMzMwQEBAiIiK6uroAAABWQA0ZAAAAAXRSTlMAQObYZgAAADZJREFU\n",
       "CNdjYOC782AXA8OM5WkNDAwTGCIYgIC7E0Q+ARHMDiDSjIHBgYH7llbhAwY2hjVyDABOxArzLvBK\n",
       "ugAAAABJRU5ErkJggg==\n",
       "\" style=\"display:inline;vertical-align:middle;\" /></a> : <a class=\"ProveItLink\" href=\"../../../../__pv_it/common/1477ef887611bedb97dfb89bcacde217bb43e8ed0/expr.ipynb\"><img src=\"data:image/png;base64,iVBORw0KGgoAAAANSUhEUgAAAAoAAAAOBAMAAADkjZCYAAAAKlBMVEX////u7u4yMjIQEBC6uroi\n",
       "IiKIiIiYmJhmZmaqqqpERER2dnbc3NwAAAAz17lDAAAAAXRSTlMAQObYZgAAAE5JREFUCNdjYDi9\n",
       "eyUDA08Dw9wCBrabDLwBDCwmDLwKDEAAFGFgYIwGEjxbG0ECDMkOIJLZkIHnAAMXUPFFEMm8gIH1\n",
       "IgN7AVi9R8cSBgCvphDNutx7AgAAAABJRU5ErkJggg==\n",
       "\" style=\"display:inline;vertical-align:middle;\" /></a></span></td></tr><tr><td><a name=\"-0x494fc61728408518_step2\">2</a></td><td>axiom</td><td></td><td><span style=\"font-size:20px;\"> <a class=\"ProveItLink\" href=\"../../../../../../logic/equality/_theory_nbs_/axioms.ipynb#equals_transitivity\" style=\"text-decoration: none\">&nbsp;&#x22A2;&nbsp;&nbsp;</a><a class=\"ProveItLink\" href=\"../../../../../../logic/equality/__pv_it/axioms/fe5ecb4839370106d7aa598ff8e51b95c71757a70/expr.ipynb\"><img src=\"data:image/png;base64,iVBORw0KGgoAAAANSUhEUgAAANEAAAAWBAMAAACs+WTQAAAAMFBMVEX///8QEBCIiIhmZma6urrM\n",
       "zMxUVFQiIiJERETc3Nzu7u6qqqp2dnaYmJgyMjIAAAAcRTyBAAAAAXRSTlMAQObYZgAAAnJJREFU\n",
       "SMetVU1oE0EU/prsTzfZJB4UBEGCgVKCh1wEQQ+hgkXwZ+NBxYsl2INQJYd6UKTkmBYiudQWQVyh\n",
       "KK0eAoKgUFhyTKUGFVSIsKB4KFSCIPhz8c3sZrOu2djAPFi+mfeY+d6+980MIM7uhYee02ezwUcR\n",
       "RLFyeEypARtssCWCKVkbkAX90DKhVhbB9GZQsEGZmIBeF8F0Y1DwAZBorq0tiSDSSgNLmwd+VCq3\n",
       "RDBFctSOA1cmGsHA5G65BZ2i08B8yGJpGKbRFvAE79JzbLL5ldknLoZq5jCVjiRxjAuj/+JhmFRq\n",
       "dhOvzBNB2XHBxam2KiItEUwj1AkTlT6RCyQ6uUPCa6kQxQR869ODKThMmn2O6f3QmEHOMaiUAJa2\n",
       "FntMeubstLtoYgo3e8AVN7dq9KoH+bszcfr0hY+fcTqmzPnLJBzzmko56SmzwPxH2ukeU1axZ5UK\n",
       "WRXWL3kXeRi4nuh6w6eIF5EOsoFfiuegOIrAU6KTsc28dycxzsOPfdUzkt0+aiulSNkDt+HdU086\n",
       "ln6PdrRg08+3X38GohYNUzz/n9x9FEW+PO/vU8q70KKWku4BtxWvHSXEitnMP5d1LrGfdkuyGidM\n",
       "3jGZuWexh8EiLvqYLsFQWNm3oeZH2AoGrkczZHMnt9Gj7uC+butYNnFd6hBoM+tlj0nrbMLqnhnj\n",
       "DLQFDq7d2Xi/0xvWsYdvG00U6jg+bhMk5L2mxxS7evJgN22peBvyPg6utQoL3pn4z6vht3qsxhRU\n",
       "Dz1Pq6iSmBwY6iUMZBGvKdZpBqFMM5LNXmoOQ73uH/6eJiC1LQahTKdesoI5INSiIjf7A4jqrxun\n",
       "Ivq8AAAAAElFTkSuQmCC\n",
       "\" style=\"display:inline;vertical-align:middle;\" /></a></span></td></tr>\n",
       "<tr><td>&nbsp;</td><td colspan=4 style-\"text-align:left\"><a class=\"ProveItLink\" href=\"../../../../../../logic/equality/_theory_nbs_/axioms.ipynb#equals_transitivity\">proveit.logic.equality.equals_transitivity</a></td></tr><tr><td><a name=\"-0x494fc61728408518_step3\">3</a></td><td>instantiation</td><td><a href=\"#-0x494fc61728408518_step5\">5</a>, <a href=\"#-0x494fc61728408518_step6\">6</a>, <a href=\"#-0x494fc61728408518_step7\">7</a></td><td><span style=\"font-size:20px;\"> <a class=\"ProveItLink\" href=\"../../../__pv_it/_proof_tuple_len_3/9d855a0c2eb666826db3aa7c78b4d7e3dde1d11f0/proof.ipynb\" style=\"text-decoration: none\">&nbsp;&#x22A2;&nbsp;&nbsp;</a><a class=\"ProveItLink\" href=\"../../../__pv_it/_proof_tuple_len_3/d8249d3be95406d88d6e274890a16be2847f2ba10/expr.ipynb\"><img src=\"data:image/png;base64,iVBORw0KGgoAAAANSUhEUgAAAKcAAAAVBAMAAADROuOhAAAAMFBMVEX///9UVFQQEBCqqqoiIiJm\n",
       "ZmYyMjJERESYmJjc3NyIiIi6urp2dnbu7u7MzMwAAAADGpxCAAAAAXRSTlMAQObYZgAAAjlJREFU\n",
       "OMuNVTFPFEEU/nDvuONuh1zUAmgwxkgoTCy0oPISbaABCoRC5Ux0GyNno0SrK9REqi0wsbyY0BBz\n",
       "uYIfcBRHCFLsEdSEhmstjCQYoiLCm5ndzewwQ+4Vu2/2fd+3772ZfYsf6MQ6Q8X2WVw/2MKOr6BU\n",
       "szJGIjh7pjz9dkXF9JtFicGm5tsG0S4/hHf76uPH6uKrWZQYLbiHel3X6HWlEP4mEdpXF27VKEqM\n",
       "+8DlUKsq763VI7puhPBRFZ8/StR5yShKDOrSoJ8QRZZTtyS8p5jILbHCE5MoZ5QDDLYNot11Ac9N\n",
       "0OV982Mg2zWwdD2UX64BTZOoYADjgUHUnRDwTIWKHkZZRnafsj8yndt4AbyNRdc8bmIbOYM4/2AQ\n",
       "zZYEPEWZbVUwLSO3AvwVTqqBC8ANU6YpUUuqYBJ1igJ+rg7MBhiTkbtgMoNZUdxPkyhnAFOiR573\n",
       "6KrnFWLR3r1YdAjsf3RM8/JQDeFs0bCxeqahKBVDyTl7MvIbaXGownxXtJ4+jMu/iR7TkcoXo41i\n",
       "++gqjYjIIe+vVIejbpRifKN6G8j59o2iQ4BXeF1osANa9eE5hDMJ9gC4ZxLljMXN5kWt/BwXTTcE\n",
       "nBJGa/n7QB13aG++fKI0uOOuL1BwziTKGeXj419J0fT5gxk6523tM3UC3WFF22eqzJGqutrWB4p7\n",
       "2rEOFGU+BOoqGiiZaPTtQHcsoy/j24Z0PPriIV2B7ry0DmmL8dfVzv45ZGVGtc5/J++AE+eVr9au\n",
       "5HiFAAAAAElFTkSuQmCC\n",
       "\" style=\"display:inline;vertical-align:middle;\" /></a></span></td></tr>\n",
       "<tr><td>&nbsp;</td><td colspan=4 style=\"text-align:left\"><span style=\"font-size:20px;\"><a class=\"ProveItLink\" href=\"../../../../../../__pv_it/common/575a6156bb1c87c5beeaf38c302b5905ad57f5780/expr.ipynb\"><img src=\"data:image/png;base64,iVBORw0KGgoAAAANSUhEUgAAAAcAAAAOBAMAAAARcxsoAAAAKlBMVEX///8yMjKqqqrc3NwQEBC6\n",
       "urp2dnZmZmaIiIju7u6YmJhERERUVFQAAAAIfTrnAAAAAXRSTlMAQObYZgAAADhJREFUCNdjYGA4\n",
       "zQAEpxjQAWd7AwMDG6sDA4MRuwADwwReIJdBdwKQ2AOSvcTGwMB6wQqkdQEDAPwvCSrC7lmiAAAA\n",
       "AElFTkSuQmCC\n",
       "\" style=\"display:inline;vertical-align:middle;\" /></a> : <a class=\"ProveItLink\" href=\"../../../../__pv_it/common/3829356ce3fdf8f35810c63c00bc1a19e838663e0/expr.ipynb\"><img src=\"data:image/png;base64,iVBORw0KGgoAAAANSUhEUgAAAAkAAAAOBAMAAAAPuiubAAAALVBMVEX///+qqqqIiIgyMjLc3Nwi\n",
       "IiIQEBC6urp2dnZUVFTMzMxERERmZmbu7u4AAAAQI6y7AAAAAXRSTlMAQObYZgAAAFJJREFUCNdj\n",
       "4D2zewEDw00GjucMDGcZGNIYGFIZGOY5MNhdYJgHlGBgiLsAJNhfgJisE0DkGRDBdABEyjCwODBw\n",
       "NTAwOTC4dvRMZWCwe/fuKQMANh0TGKpG4roAAAAASUVORK5CYII=\n",
       "\" style=\"display:inline;vertical-align:middle;\" /></a>, <a class=\"ProveItLink\" href=\"../../../../../../__pv_it/common/66c90e66682f107a881f2d666959f64e2e72ad750/expr.ipynb\"><img src=\"data:image/png;base64,iVBORw0KGgoAAAANSUhEUgAAAAsAAAAJBAMAAAAWSsseAAAAMFBMVEX///9UVFSqqqrMzMwiIiJE\n",
       "RESYmJgyMjK6urru7u4QEBCIiIh2dnZmZmbc3NwAAABRgo0vAAAAAXRSTlMAQObYZgAAAEdJREFU\n",
       "CNdjYOC7c3slAwND1wP2DwwMnMsYeAMYGHh/MrBsYGDgCmCYb8DAMP8Agz5QxXwFBnGmBwysG9gc\n",
       "eYAqpTc/3MEAAP4BD32xAXDqAAAAAElFTkSuQmCC\n",
       "\" style=\"display:inline;vertical-align:middle;\" /></a> : <a class=\"ProveItLink\" href=\"../../../__pv_it/theorems/1bdfc8550dcba21649b1aca02603584957f865fb0/expr.ipynb\"><img src=\"data:image/png;base64,iVBORw0KGgoAAAANSUhEUgAAACkAAAAUBAMAAADiqgm2AAAAMFBMVEX///9UVFTMzMx2dna6uroQ\n",
       "EBCqqqqIiIgiIiJmZmYyMjJERETu7u6YmJjc3NwAAAC+aOQFAAAAAXRSTlMAQObYZgAAAQNJREFU\n",
       "GNNjYOC7wIAK8kDEaSQBnq0NDAyMD4CsdcjquCYApRYwMPBOQBblTwAS5gwMHA+QRf0PAImjDAwv\n",
       "UGyyABvjwFAJpPgmT4+BiC4sn8bAwDyBYS+Q7fqA6wPEDb8OnH/AwLuAoQ3IjmXg3AAWZfvDwF/A\n",
       "wNbAEMLAwPmHgaMALMq5gOG8AQPTB5Ao6waG8wow5/ongESBJgCl86HOvcAw/wADSwPItvMJDFJs\n",
       "YGfzOwDtANlmycDAXcDbyMxwHuhRxgvcQK9yGjB4AN0gXvSwhIGjB8iabgsyXQHJxzkwxgnk0DGA\n",
       "MYChw7APFrYFMMYCpFDnhSnlBpmJEUP3GBgAwQA85Uf1dX8AAAAASUVORK5CYII=\n",
       "\" style=\"display:inline;vertical-align:middle;\" /></a>, <a class=\"ProveItLink\" href=\"../../../../../../__pv_it/common/4a5db8cc5c67969ec864bd3ea598be37cb6f5e550/expr.ipynb\"><img src=\"data:image/png;base64,iVBORw0KGgoAAAANSUhEUgAAAAkAAAAOBAMAAAAPuiubAAAALVBMVEX///+YmJjc3NyIiIhUVFR2\n",
       "dna6urqqqqpmZmYyMjIiIiIQEBBERETu7u4AAAALjtrwAAAAAXRSTlMAQObYZgAAAE9JREFUCNdj\n",
       "4D29gAEIOBtAJF8BiMy7ACKjQATDFON2BgbelxfuKTCwv2XgM2DgmMBwLwCkPK+AgU+Aoe8CA18C\n",
       "70YGBhYBHqARvM2BDAwAqXgQspq5HJAAAAAASUVORK5CYII=\n",
       "\" style=\"display:inline;vertical-align:middle;\" /></a> : <a class=\"ProveItLink\" href=\"../../../../../../__pv_it/common/9a9d28748f90dec84e90f2ace4610208194e524e0/expr.ipynb\"><img src=\"data:image/png;base64,iVBORw0KGgoAAAANSUhEUgAAAAkAAAAJBAMAAAASvxsjAAAALVBMVEX///+YmJgQEBDu7u5mZmZU\n",
       "VFQyMjJERESqqqoiIiLc3NzMzMyIiIh2dnYAAABuqkWTAAAAAXRSTlMAQObYZgAAADZJREFUCNdj\n",
       "YGC4c2YDA8PKBvYEBoa5DKwNDCyPGYCAqQBE2l0AkXwCDAxA8QAGE6DKu4IHGABBiAr2Gi8OxgAA\n",
       "AABJRU5ErkJggg==\n",
       "\" style=\"display:inline;vertical-align:middle;\" /></a></span></td></tr><tr><td><a name=\"-0x494fc61728408518_step4\">4</a></td><td>conjecture</td><td></td><td><span style=\"font-size:20px;\"> <a class=\"ProveItLink\" href=\"../add_2_1/thm_proof.ipynb\" style=\"text-decoration: none\">&nbsp;&#x22A2;&nbsp;&nbsp;</a><a class=\"ProveItLink\" href=\"../../../__pv_it/theorems/70261959f5743d00c67bca65287bc7c6989d222e0/expr.ipynb\"><img src=\"data:image/png;base64,iVBORw0KGgoAAAANSUhEUgAAAGEAAAAUBAMAAABvx07iAAAAMFBMVEX///9UVFTMzMx2dna6uroQ\n",
       "EBCqqqqIiIgiIiJmZmYyMjJERETu7u6YmJjc3NwAAAC+aOQFAAAAAXRSTlMAQObYZgAAAVBJREFU\n",
       "KM91k79Lw0AUx7+xbdrUpnRxF/wHIh2KOphFcNOhTjpk6+beRSOi4GQcpQi63uDgrqaDoLSD/4AS\n",
       "cNFFxElKNN5dQHO/3pB79959cvflvQc0H6G3bUMcI+BhcKVJWIkcabaXArpcotHCsi/m7C2gcS4T\n",
       "b7C/ATeCE6Oynsd6+TKcT+m3IxO7Ab6AWoJKCOtHIOAy4k4mVnxMgFegnsL61BB1X9HGXtXnXi3V\n",
       "EKVIIe494Jp7a56GcLn0EuHG6ZejGDjkJ/agIexQuaPaBbrMcfgfFgk5IOTij5j6UIu0EedEH7o7\n",
       "FOIduA34q+yIbRSiHBZ0tKibxYxgyueAHaPygm0CxzEWaLvst09CkagywvEk4onXY5VWKssykXBm\n",
       "Jmc0PisR5dOBz7ukYD2hXPpmd4XCjoubjmE+bkyDo3b7/0TpbToxJIxT+6wP/wIP4mDwbrdmoAAA\n",
       "AABJRU5ErkJggg==\n",
       "\" style=\"display:inline;vertical-align:middle;\" /></a></span></td></tr>\n",
       "<tr><td>&nbsp;</td><td colspan=4 style-\"text-align:left\"><a class=\"ProveItLink\" href=\"../add_2_1/thm_proof.ipynb\">proveit.numbers.numerals.decimals.add_2_1</a></td></tr><tr><td><a name=\"-0x494fc61728408518_step5\">5</a></td><td>axiom</td><td></td><td><span style=\"font-size:20px;\"> <a class=\"ProveItLink\" href=\"../../../../../../core_expr_types/tuples/_theory_nbs_/axioms.ipynb#tuple_len_incr\" style=\"text-decoration: none\">&nbsp;&#x22A2;&nbsp;&nbsp;</a><a class=\"ProveItLink\" href=\"../../../../../../core_expr_types/tuples/__pv_it/axioms/b1f56cf9bfba6baccbc5d9766e9179cf68e46b430/expr.ipynb\"><img src=\"data:image/png;base64,iVBORw0KGgoAAAANSUhEUgAAAYgAAAAWBAMAAAAodhaSAAAAMFBMVEX///8QEBCIiIhmZma6urrM\n",
       "zMxUVFQiIiJERETc3Nzu7u6qqqp2dnaYmJgyMjIAAAAcRTyBAAAAAXRSTlMAQObYZgAABGJJREFU\n",
       "WMPNV29oHEUUf8ndZu/29i5+EKQGMRoTC0oNKeiXtLQVzCcxreA/CglH/VBp64m11ih6tF9ySuGo\n",
       "YEKhMFrUkGJvrYSoYHtw64dWkAP9IGLbgzaFVghS+8Gmrfjezsze5HZmkyt+6IPZe3Pvvd33m/fm\n",
       "zRuA/5deuQveoNK6hXYt0nXwJdM+ZcrBjx8RHDXr0zi/Fxo0P6dT8mNkepqRLsy0C2DmPnzs1INw\n",
       "igBdRY3RTjF8+ImmV/UgzDI9XZEuXGk7DBdxnNCDyOFqd7WG9mvG9U8EFtMU/aIehFmmpeygcIGY\n",
       "NukmDrdXC+IXhT8pgrPrdcb1afiQo5mnB2GWackuCxfscrsYkkvk2j1aEO9EQQBcYFyfhg/Zs7Oz\n",
       "U6AHYZZpaUq6MNV2INwCPS/pQKQLJhCB/qXA4p/JyfcMIMwyLfVJF4hJDw/dH1/KVIVcvg8jXtOB\n",
       "6MTc/GxIC6LGB1q8ClDiqlEQXLZCJixK7pB0gZjN5dxfAC+Z7bhCH59Urjo3sFiGIH5eJKLdDinc\n",
       "09XNWhDn+UCLp8HBUmrxNLbe9OGh8RAEl61ANcm8K11AxnkAEkV4/imjFVeAl/nsNINrAPO6SNge\n",
       "pL2NWhDzfKCFDZ2ifh2vbYBvXZZgIYimLIb+lMy90gVkEktgY+EYMVoJBUEbwbkFMKYD0bEJHEIY\n",
       "hOeNxcXLTRBjfKCFW7dFhfzoCIMfegfdZjqFsji6oQPRUYTKaBwIoRAeE8mbZhCQWdJGogki3XgB\n",
       "E3uAcgdpbu6wAiKQwbGBaAPiDO0RLljXBlg0nSpVOA1xILjCFpG6tykyXFvZE5dFOkFqXAtihA+y\n",
       "KO3AJe9mvMmYc7/a3gQRyJy3LPzAa8t9+HJ0jEEuqB4TsiioG7viwR5sbGJABApVscTX4dO6urEV\n",
       "oo1d8arxGxu+wUJ8ZB6cwJU5qNYUECRLDFoF2N5SL9fDiwgv+EhvttHc4b5g8N99brBOzr/kckMw\n",
       "4SxQSB8v8H92w0F8DutAuOjXc7KjDEE8wYT+MLfopv11AKz9k5MHEMRRWwFBsg6vE6M5sfzVPTAQ\n",
       "5mxCBHtEukCu5/s/eYT/9TZ+zyaVfSAe9oRUSPVy+bHHycsFHYgkrmPXuZZ0evLBi3Wuv8AtsnSC\n",
       "L43COI9EcpsCgmSVcup31gICq/qh2czDxHazDs/YdhCIDIvk0vdhUn2uyJ3C6tsOqU9DWmQaVfiR\n",
       "mF8B/lBABEtdHnuWIpH+EKaZfKyxrtczWAqmmc1+MzeAVMnd6IaoSuaUq8hX0QDOLku0sAGUbWEZ\n",
       "Urigyfc3QVcLiGT+5AYCYfXA1rK1hh498MxjfXU60Ld61q7QpZI0ksf8xx/ksWeIlrbwgPjijCI3\n",
       "tOIpUzvZbMUVWot7YnnboRCmU6Z5qRLhxBLurXgpih6XWdDKS+ZLkZZKYvgxh9ij6umw7W8Pvgtn\n",
       "gsszeacMr6f9d349zfJX9a/2ekr6NNbtbecrdQ2XhbuA/gPNon1mxoL+PAAAAABJRU5ErkJggg==\n",
       "\" style=\"display:inline;vertical-align:middle;\" /></a></span></td></tr>\n",
       "<tr><td>&nbsp;</td><td colspan=4 style-\"text-align:left\"><a class=\"ProveItLink\" href=\"../../../../../../core_expr_types/tuples/_theory_nbs_/axioms.ipynb#tuple_len_incr\">proveit.core_expr_types.tuples.tuple_len_incr</a></td></tr><tr><td><a name=\"-0x494fc61728408518_step6\">6</a></td><td>theorem</td><td></td><td><span style=\"font-size:20px;\"> <a class=\"ProveItLink\" href=\"../nat2/thm_proof.ipynb\" style=\"text-decoration: none\">&nbsp;&#x22A2;&nbsp;&nbsp;</a><a class=\"ProveItLink\" href=\"../../../__pv_it/theorems/44814e54962ebf439303b56d30f64b9a275b48a60/expr.ipynb\"><img src=\"data:image/png;base64,iVBORw0KGgoAAAANSUhEUgAAADIAAAAPBAMAAABU9YHxAAAAMFBMVEX///+YmJiqqqqIiIgyMjLc\n",
       "3NwiIiIQEBC6urp2dnZUVFTMzMxERERmZmbu7u4AAADrYmUNAAAAAXRSTlMAQObYZgAAAOBJREFU\n",
       "GNNj4Lt7ZgMDMuDzP+PHwFlfwfCKgfMHigwDj8AuBob3DAz3GBjKUWW4spkNGNgZGMoYGNYHgEVk\n",
       "0tIcwDI9D1YzsDEw+D9gWA+2aI8dTE/0gicP2MDM/Acgi/3gpgUocy8Ay3D8hPARMpwNwmAZtgVg\n",
       "FyFcEMCwjmsbiHUXzN/uAgQOUJlXDO5ABvMFsEwMsh7uCduBDF0GVpAV7MgyDEJAw7knMDCDZHgN\n",
       "4DJAT3ACjQibOXcZWCAJJsOiACSuAH36//83sMCrEw/ANHd+DZB8ghxenccgoQMFAOa6NR2IZoaj\n",
       "AAAAAElFTkSuQmCC\n",
       "\" style=\"display:inline;vertical-align:middle;\" /></a></span></td></tr>\n",
       "<tr><td>&nbsp;</td><td colspan=4 style-\"text-align:left\"><a class=\"ProveItLink\" href=\"../nat2/thm_proof.ipynb\">proveit.numbers.numerals.decimals.nat2</a></td></tr><tr><td><a name=\"-0x494fc61728408518_step7\">7</a></td><td>instantiation</td><td><a href=\"#-0x494fc61728408518_step8\">8</a></td><td><span style=\"font-size:20px;\"> <a class=\"ProveItLink\" href=\"../../../__pv_it/_proof_tuple_len_3/aca4a707a68d458a5ba2268fa95aaefe92e6388b0/proof.ipynb\" style=\"text-decoration: none\">&nbsp;&#x22A2;&nbsp;&nbsp;</a><a class=\"ProveItLink\" href=\"../../../__pv_it/theorems/bd370fcc8dd6760c926ad402e52dc5015abba9130/expr.ipynb\"><img src=\"data:image/png;base64,iVBORw0KGgoAAAANSUhEUgAAAL0AAAAVBAMAAADhtvKAAAAAMFBMVEX///9UVFQQEBCqqqoiIiJm\n",
       "ZmYyMjJERESYmJjc3NyIiIi6urp2dnbu7u7MzMwAAAADGpxCAAAAAXRSTlMAQObYZgAAAiRJREFU\n",
       "OMullbFrFEEUxr9kd+/2Lnt3IQQLm4BYCEG4xsJCvBCbFJIFCUhQPJtAqoQ0areNhd0KKSyvsTFw\n",
       "HCF9TjAgxmINgUCa3X8gcIVco0d8O7Pv3Nlzdg98sMNj3vt+zM6beYMr5NhV4US+1QOcCqfiZSL3\n",
       "xXiaFciJD8VkqXd6ieIiFarttYAZX8+v7eaiaxuvokQ/5m+nE0ouJbX1/BJpjbta/g84vxI98203\n",
       "ndBo0vBNz39LjM8jLf85cCvRM9/00wnHAQ1nev5avCI9/zaw5Es98/eVhC9iE3o6fqWVz98JsBRJ\n",
       "PfM/xrJnm8mevvz0hEKujl918/lk64HUM/81fYd+aSDrPwxCH3ab+c6WMJf5Za+IP/cbUs/8VaLe\n",
       "gSXPnTFCowOjpVu/2Szim/OQeuYvA9YIZkdErTbCPuoDHX+2V8TfiK/uQOXP7iKM+PgfN/+HLwqk\n",
       "8Gl/aMkPk+Pv4UWAuVZm/+en3p97qPhSn6pv2MQNQ1yDRo9qkapvdv1F9a33UfXV+p6QqmOvOAhp\n",
       "dsYr0w9afR1fnLwq8eNkMdSGaWf/+8liomf+EYVudt8fwHxM3ubXuAqRjh//ubUwfCqSxVnBCjuP\n",
       "6OrvXF//TPST/eEBO+f5/UFNHpsRKPrJ/tZnJ7+/ZZLH5kDRj/vzG+7dHXZy+nPZzyT/tUso+on3\n",
       "xeZ4eYr3xZ48O56qJ3733+/jOzF2s/rutO+j1FejPzkxwWpoiDi7AAAAAElFTkSuQmCC\n",
       "\" style=\"display:inline;vertical-align:middle;\" /></a></span></td></tr>\n",
       "<tr><td>&nbsp;</td><td colspan=4 style=\"text-align:left\"><span style=\"font-size:20px;\"><a class=\"ProveItLink\" href=\"../../../../../../__pv_it/common/66c90e66682f107a881f2d666959f64e2e72ad750/expr.ipynb\"><img src=\"data:image/png;base64,iVBORw0KGgoAAAANSUhEUgAAAAsAAAAJBAMAAAAWSsseAAAAMFBMVEX///9UVFSqqqrMzMwiIiJE\n",
       "RESYmJgyMjK6urru7u4QEBCIiIh2dnZmZmbc3NwAAABRgo0vAAAAAXRSTlMAQObYZgAAAEdJREFU\n",
       "CNdjYOC7c3slAwND1wP2DwwMnMsYeAMYGHh/MrBsYGDgCmCYb8DAMP8Agz5QxXwFBnGmBwysG9gc\n",
       "eYAqpTc/3MEAAP4BD32xAXDqAAAAAElFTkSuQmCC\n",
       "\" style=\"display:inline;vertical-align:middle;\" /></a> : <a class=\"ProveItLink\" href=\"../../../../../../__pv_it/common/66c90e66682f107a881f2d666959f64e2e72ad750/expr.ipynb\"><img src=\"data:image/png;base64,iVBORw0KGgoAAAANSUhEUgAAAAsAAAAJBAMAAAAWSsseAAAAMFBMVEX///9UVFSqqqrMzMwiIiJE\n",
       "RESYmJgyMjK6urru7u4QEBCIiIh2dnZmZmbc3NwAAABRgo0vAAAAAXRSTlMAQObYZgAAAEdJREFU\n",
       "CNdjYOC7c3slAwND1wP2DwwMnMsYeAMYGHh/MrBsYGDgCmCYb8DAMP8Agz5QxXwFBnGmBwysG9gc\n",
       "eYAqpTc/3MEAAP4BD32xAXDqAAAAAElFTkSuQmCC\n",
       "\" style=\"display:inline;vertical-align:middle;\" /></a>, <a class=\"ProveItLink\" href=\"../../../../../../__pv_it/common/4a5db8cc5c67969ec864bd3ea598be37cb6f5e550/expr.ipynb\"><img src=\"data:image/png;base64,iVBORw0KGgoAAAANSUhEUgAAAAkAAAAOBAMAAAAPuiubAAAALVBMVEX///+YmJjc3NyIiIhUVFR2\n",
       "dna6urqqqqpmZmYyMjIiIiIQEBBERETu7u4AAAALjtrwAAAAAXRSTlMAQObYZgAAAE9JREFUCNdj\n",
       "4D29gAEIOBtAJF8BiMy7ACKjQATDFON2BgbelxfuKTCwv2XgM2DgmMBwLwCkPK+AgU+Aoe8CA18C\n",
       "70YGBhYBHqARvM2BDAwAqXgQspq5HJAAAAAASUVORK5CYII=\n",
       "\" style=\"display:inline;vertical-align:middle;\" /></a> : <a class=\"ProveItLink\" href=\"../../../../../../__pv_it/common/4a5db8cc5c67969ec864bd3ea598be37cb6f5e550/expr.ipynb\"><img src=\"data:image/png;base64,iVBORw0KGgoAAAANSUhEUgAAAAkAAAAOBAMAAAAPuiubAAAALVBMVEX///+YmJjc3NyIiIhUVFR2\n",
       "dna6urqqqqpmZmYyMjIiIiIQEBBERETu7u4AAAALjtrwAAAAAXRSTlMAQObYZgAAAE9JREFUCNdj\n",
       "4D29gAEIOBtAJF8BiMy7ACKjQATDFON2BgbelxfuKTCwv2XgM2DgmMBwLwCkPK+AgU+Aoe8CA18C\n",
       "70YGBhYBHqARvM2BDAwAqXgQspq5HJAAAAAASUVORK5CYII=\n",
       "\" style=\"display:inline;vertical-align:middle;\" /></a></span></td></tr><tr><td><a name=\"-0x494fc61728408518_step8\">8</a></td><td>conjecture</td><td></td><td><span style=\"font-size:20px;\"> <a class=\"ProveItLink\" href=\"../tuple_len_2_typical_eq/thm_proof.ipynb\" style=\"text-decoration: none\">&nbsp;&#x22A2;&nbsp;&nbsp;</a><a class=\"ProveItLink\" href=\"../../../__pv_it/theorems/b56994510623f1b534ae67f3cc44762f6d45f3ce0/expr.ipynb\"><img src=\"data:image/png;base64,iVBORw0KGgoAAAANSUhEUgAAAPsAAAAWBAMAAAD0hvfJAAAAMFBMVEX///8QEBCIiIhmZma6urrM\n",
       "zMxUVFQiIiJERETc3Nzu7u6qqqp2dnaYmJgyMjIAAAAcRTyBAAAAAXRSTlMAQObYZgAAAxVJREFU\n",
       "SMe9lk9o01Acx39N1iZNk3YHT4JQ1A68hR1EcMOKh52k9eJBhNWhB0EkFyfOHeZBWA9CTm4ehKjg\n",
       "xg426EH0YnFFwT9Y8KKC0oMTpjCGILgeWt/v5b0mbfrSiuCDpl/e++X7Sd775fcegLidgr8ZjIwO\n",
       "t7gTOZysQ42L7vaEXmu9N3gdtweDUzZe9Tw1aqD+HA5a5YargU7tmgWQsMV4bSEafe/QdYDzDI9G\n",
       "r1F/DwducsJmsDdtEkRDjE8Tx9RuIV0rwbs8PGB4NFrG+Q0/s2EyQxR+y7jk8lyMfw9w/0VTiJcd\n",
       "iI2CnvXwaJQmKaC7oUDFZoaKHewuYMLcEeOv4AOL8TELEjugjTI8MTJera0thQOXuGH32Es6w3kR\n",
       "PmlF49NNSPwC+MrwaPR7cXE+HLiPE1AkJ8bZen7be5jcaYrwkhmNx9kko+sMj0bnAMp8bGSLqxuc\n",
       "gOKond72UqflVGwwGnxQ36LN5Hi1PhBfqAJ8YXg0OsZSmbZ1Lq5yAhHaHpC95Ew1IZOFlCV6e8Ud\n",
       "iJ8lv8cMj0YKSH5h+cHFLk4gQm6CkvUytwGVKsS3RfhYfhBexpmaZng00uuKP7rTDx9bgEqRf/YF\n",
       "95/wmEpd+GTjJJajsQ0sxD/HnPDkkxd+xj77OhxxYMTqWfvS0JOfMuEWwBTDU6PyWbK8l+J4kzQn\n",
       "meHUq7hw0SvUmTzJg0Dq9b79wNQ7DXCgO/XgkYVLEscnUbNGw8/BGhOkd1aHChlJ1FXyeHJVhKef\n",
       "pETwGEwvWisokvNvDhLOBMNTI5LLEHOlEl07ueSZTXECEdpM7uZ+UOaIGn+LGVAU4XE25TOtSRoM\n",
       "SollOhWXybKm2+02CdngZQeNDNJfsdVP5C/jxFxh0X3KxUp00e0O9pe9s8FrFsOvdIqxPX0clh3F\n",
       "+SDecqpcRG85PcGdpvsqsOWwcjfzcBJOuPELndvKnMBLopblImLDVe2eYL/d7ajghhtsbtRxw+Aj\n",
       "6hDHDSOc9H5tKzO8avc5BfmHrVz/w9ZHes312ueGPWwZFCMVmZHfD/+9/QF9Af9Lm1VaRQAAAABJ\n",
       "RU5ErkJggg==\n",
       "\" style=\"display:inline;vertical-align:middle;\" /></a></span></td></tr>\n",
       "<tr><td>&nbsp;</td><td colspan=4 style-\"text-align:left\"><a class=\"ProveItLink\" href=\"../tuple_len_2_typical_eq/thm_proof.ipynb\">proveit.numbers.numerals.decimals.tuple_len_2_typical_eq</a></td></tr></table>"
      ],
      "text/plain": [
       "\tstep type\trequirements\tstatement\n",
       "0\tgeneralizaton\t1\t|- forall_{a, b, c} (|(a, b, c)| = 3)\n",
       "1\tinstantiation\t2, 3, 4\t|- |(a, b, c)| = 3\n",
       "\tx : |(a, b, c)|, y : 2 + 1, z : 3\n",
       "2\taxiom\t\t|- forall_{x, y, z | x = y, y = z} (x = z)\n",
       "\tproveit.logic.equality.equals_transitivity\n",
       "3\tinstantiation\t5, 6, 7\t|- |(a, b, c)| = (2 + 1)\n",
       "\ti : 2, a : (a, b), b : c\n",
       "4\tconjecture\t\t|- (2 + 1) = 3\n",
       "5\taxiom\t\t|- forall_{i in Natural} [forall_{a_{1}, ..a_{_a}.., a_{i}, b} (|(a_{1}, ..a_{_a}.., a_{i}, b)| = (i + 1))]\n",
       "\tproveit.core_expr_types.tuples.tuple_len_incr\n",
       "6\ttheorem\t\t|- 2 in Natural\n",
       "\tproveit.numbers.numerals.decimals.nat2\n",
       "7\tinstantiation\t8\t|- |(a, b)| = |(1, ..k.., 2)|\n",
       "\ta : a, b : b\n",
       "8\tconjecture\t\t|- forall_{a, b} (|(a, b)| = |(1, ..k.., 2)|)"
      ]
     },
     "execution_count": 6,
     "metadata": {},
     "output_type": "execute_result"
    }
   ],
   "source": [
    "%qed"
   ]
  }
 ],
 "metadata": {
  "kernelspec": {
   "display_name": "Python 3",
   "language": "python",
   "name": "python3"
  }
 },
 "nbformat": 4,
 "nbformat_minor": 0
}