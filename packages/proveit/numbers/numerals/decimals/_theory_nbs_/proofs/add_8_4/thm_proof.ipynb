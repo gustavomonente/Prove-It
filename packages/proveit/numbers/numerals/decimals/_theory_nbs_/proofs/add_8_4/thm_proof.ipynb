{
 "cells": [
  {
   "cell_type": "markdown",
   "metadata": {},
   "source": [
    "Proof of <a class=\"ProveItLink\" href=\"../../../../../../_theory_nbs_/theory.ipynb\">proveit</a>.<a class=\"ProveItLink\" href=\"../../../../../_theory_nbs_/theory.ipynb\">numbers</a>.<a class=\"ProveItLink\" href=\"../../../../_theory_nbs_/theory.ipynb\">numerals</a>.<a class=\"ProveItLink\" href=\"../../theory.ipynb\">decimals</a>.<a class=\"ProveItLink\" href=\"../../theorems.ipynb#add_8_4\">add_8_4</a> theorem\n",
    "========"
   ]
  },
  {
   "cell_type": "code",
   "execution_count": 1,
   "metadata": {},
   "outputs": [],
   "source": [
    "import proveit\n",
    "theory = proveit.Theory() # the theorem's theory"
   ]
  },
  {
   "cell_type": "code",
   "execution_count": 2,
   "metadata": {},
   "outputs": [
    {
     "data": {
      "text/html": [
       "Under these <a href=\"presumptions.txt\">presumptions</a>, we begin our proof of<br><strong id=\"add_8_4\">add_8_4:</strong> <a class=\"ProveItLink\" href=\"../../../__pv_it/theorems/c0fa5cb7db58344e6bdaff40d2459da01f08a9790/expr.ipynb\"><img src=\"data:image/png;base64,iVBORw0KGgoAAAANSUhEUgAAAGwAAAAUBAMAAACaOcVSAAAAMFBMVEX////MzMxUVFR2dna6uroQ\n",
       "EBCqqqqIiIgiIiJmZmYyMjJERETu7u6YmJjc3NwAAACgK8IjAAAAAXRSTlMAQObYZgAAAYFJREFU\n",
       "OMuVlLFLw0AUxj+bJrYlKaKTkwFnbUEQ1MGO3SzFTUERpLoVnFxsUHQObUGKi4qLoYj+AZaAQ7EK\n",
       "Znaxo4uCQ12sxneRSnJJKn6QXN7d/e69vHt3QNJCsKQ2+ugOaG5Vfd2jwGQwcHt0Re8LQEdklR/c\n",
       "BVp+ZN2ErGI+A0WHZEE+/uku9MYH84BQ5CB5PGUibkLMIdaGcAlZ47CXU5qV83l7IkZD5AvPQPTD\n",
       "FCwOSxOGsyAs0UXkDdtkpD6n4cWUNsNmgjBSrItragS7zmFNMOyRfQqGI92FLaRxQM1mtpPxYmkH\n",
       "2wjxRllepIhUlJbJmjWMfcNg86UhBxsLxuK6g4kmBt493m7QD2PpoCAfqJnwYGu1WucQyLr+Tf3F\n",
       "JB2vLCUiFV+D2wDkeynxeRsBdliSo3UoRR5boqfiw0omkntTZc0JZLhS5TYAczaFfcJT5ZVzK2Hb\n",
       "tsaKy6WCpwS18HOj6G7r3m34StmtRuhI649j+u8FSaGXgtLnUvgGx9Vzrk2Q7oYAAAAASUVORK5C\n",
       "YII=\n",
       "\" style=\"display:inline;vertical-align:middle;\" /></a><br>(see <a class=\"ProveItLink\" href=\"../../../__pv_it/theorems/d68a39bfd7de31520bbd1e336195ce7002a6650d0/dependencies.ipynb\">dependencies</a>)<br>"
      ],
      "text/plain": [
       "add_8_4: (8 + 4) = 12"
      ]
     },
     "execution_count": 2,
     "metadata": {},
     "output_type": "execute_result"
    }
   ],
   "source": [
    "%proving add_8_4"
   ]
  },
  {
   "cell_type": "code",
   "execution_count": null,
   "metadata": {},
   "outputs": [],
   "source": []
  }
 ],
 "metadata": {
  "kernelspec": {
   "display_name": "Python 3",
   "language": "python",
   "name": "python3"
  }
 },
 "nbformat": 4,
 "nbformat_minor": 0
}