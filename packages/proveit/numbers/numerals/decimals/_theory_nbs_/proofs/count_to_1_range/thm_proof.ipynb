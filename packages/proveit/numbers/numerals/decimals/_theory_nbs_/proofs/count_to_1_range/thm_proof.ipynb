{
 "cells": [
  {
   "cell_type": "markdown",
   "metadata": {},
   "source": [
    "Proof of <a class=\"ProveItLink\" href=\"../../../../../../_theory_nbs_/theory.ipynb\">proveit</a>.<a class=\"ProveItLink\" href=\"../../../../../_theory_nbs_/theory.ipynb\">numbers</a>.<a class=\"ProveItLink\" href=\"../../../../_theory_nbs_/theory.ipynb\">numerals</a>.<a class=\"ProveItLink\" href=\"../../theory.ipynb\">decimals</a>.<a class=\"ProveItLink\" href=\"../../theorems.ipynb#count_to_1_range\">count_to_1_range</a> theorem\n",
    "========"
   ]
  },
  {
   "cell_type": "code",
   "execution_count": 1,
   "metadata": {},
   "outputs": [],
   "source": [
    "import proveit\n",
    "theory = proveit.Theory() # the theorem's theory"
   ]
  },
  {
   "cell_type": "code",
   "execution_count": 2,
   "metadata": {},
   "outputs": [
    {
     "data": {
      "text/html": [
       "Under these <a href=\"presumptions.txt\">presumptions</a>, we begin our proof of<br><strong id=\"count_to_1_range\">count_to_1_range:</strong> <a class=\"ProveItLink\" href=\"../../../__pv_it/theorems/d0325207f37bd49040b570880522e32b9af030560/expr.ipynb\"><img src=\"data:image/png;base64,iVBORw0KGgoAAAANSUhEUgAAAIUAAAAUBAMAAABRzuPpAAAAMFBMVEX////MzMxUVFR2dna6uroQ\n",
       "EBCqqqqIiIgiIiJmZmYyMjJERETu7u6YmJjc3NwAAACgK8IjAAAAAXRSTlMAQObYZgAAAUdJREFU\n",
       "OMtjYOC7wAACbA8YMABUCi/IAxGnoRw9TPnThI1gYALZvQ6IUw8wMJzClIdJ4QJsMQwMPAsYGHgn\n",
       "MPAo6wMVMhegK4FL4QCHjP4ASXMGBg6QW+4DFfIEoKuBS+ECvCAzjjIwvGCAKVyCrgQhhc8MLgeG\n",
       "SrhCS3QllUSZwTyBYS9c4S0Qi3kVGEwAsfcSZQbvAoY2uMIMdCVtRJnB1sAQAlcoj64khCgzGD9Q\n",
       "xQyEgz2QwkOBeL+wNKCHKTIgOkzBMVoPUjgZXQlMiucXkAYT5xcwIPEY2EFmcBqAfTApfiUwhy5E\n",
       "NwMu1QGyogmUchWgDLAQp+qvucA0JgBJ0CDA04A1rYPzFqZ/EEInwBkLArDmOagUZlAghIB5jmEf\n",
       "lI0l78OkjmNKwYVAeR9e0OzDXQZhKc7gQtwPEAUeL5ll4T0GBgCnoH6JjU+g0QAAAABJRU5ErkJg\n",
       "gg==\n",
       "\" style=\"display:inline;vertical-align:middle;\" /></a><br>(see <a class=\"ProveItLink\" href=\"../../../__pv_it/theorems/b74370a20efa071fec6cb1735a1ea0fcbba061c30/dependencies.ipynb\">dependencies</a>)<br>"
      ],
      "text/plain": [
       "count_to_1_range: (1) = (1, ..k.., 1)"
      ]
     },
     "execution_count": 2,
     "metadata": {},
     "output_type": "execute_result"
    }
   ],
   "source": [
    "%proving count_to_1_range"
   ]
  },
  {
   "cell_type": "code",
   "execution_count": null,
   "metadata": {},
   "outputs": [],
   "source": []
  }
 ],
 "metadata": {
  "kernelspec": {
   "display_name": "Python 3",
   "language": "python",
   "name": "python3"
  }
 },
 "nbformat": 4,
 "nbformat_minor": 0
}