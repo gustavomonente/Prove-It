{
 "cells": [
  {
   "cell_type": "markdown",
   "metadata": {},
   "source": [
    "Proof of <a class=\"ProveItLink\" href=\"../../../../../../_theory_nbs_/theory.ipynb\">proveit</a>.<a class=\"ProveItLink\" href=\"../../../../../_theory_nbs_/theory.ipynb\">numbers</a>.<a class=\"ProveItLink\" href=\"../../../../_theory_nbs_/theory.ipynb\">numerals</a>.<a class=\"ProveItLink\" href=\"../../theory.ipynb\">decimals</a>.<a class=\"ProveItLink\" href=\"../../theorems.ipynb#add_5_9\">add_5_9</a> theorem\n",
    "========"
   ]
  },
  {
   "cell_type": "code",
   "execution_count": 1,
   "metadata": {},
   "outputs": [],
   "source": [
    "import proveit\n",
    "theory = proveit.Theory() # the theorem's theory"
   ]
  },
  {
   "cell_type": "code",
   "execution_count": 2,
   "metadata": {},
   "outputs": [
    {
     "data": {
      "text/html": [
       "Under these <a href=\"presumptions.txt\">presumptions</a>, we begin our proof of<br><strong id=\"add_5_9\">add_5_9:</strong> <a class=\"ProveItLink\" href=\"../../../__pv_it/theorems/89ba835f959f28536977679e9116564047fc0c500/expr.ipynb\"><img src=\"data:image/png;base64,iVBORw0KGgoAAAANSUhEUgAAAGwAAAAUBAMAAACaOcVSAAAAMFBMVEX///9UVFTMzMx2dna6uroQ\n",
       "EBCqqqqIiIgiIiJmZmYyMjJERETu7u6YmJjc3NwAAAC+aOQFAAAAAXRSTlMAQObYZgAAAYFJREFU\n",
       "OMuVlD8sA1Ecx7+XRqt1V00MppbE1KmVTliMxjaxISUijFaTGpgPgzQxtHRxUbFZkEsMoiQs0sTi\n",
       "FgmDEP+mUr/3em3u3Z+KX3L37vd7+dzv73tA+Abu4jfQRi6Bsh6fFo0XqRgQ80Li9BwA2fq7aJen\n",
       "8KCj4gTmdPZeARQV2O1txjPfWKQ0JBW+RRsk9/QxLJABOomItDZMrLsA3yvktMPbPcOei8AjXLDr\n",
       "QwR+gJI7liRsidZodUPEOsjbBzDkiikGYSekHONlVMAowtA3cMe/NS5qCzsHYWtc7coJGI4w+wUs\n",
       "uHpLMmycq0HKBMOatqppRd7q6sAbkHDD/P0mJjUysXojY80DO4MZJBUgWLNjISrvmCW3SBObyec/\n",
       "t1hJgtS9goApk0gYZkmcDUCGFzms4tYQsMC+XKZl04Etc2yiEcjT4LbYN6TyrCM7dmo9u0fnZaQe\n",
       "5cMF+5SYI5jzPjeKatWurIpjlK1y6rlT+eOY/vuHJJ6XgtLmUvgF4910qmkWd5cAAAAASUVORK5C\n",
       "YII=\n",
       "\" style=\"display:inline;vertical-align:middle;\" /></a><br>(see <a class=\"ProveItLink\" href=\"../../../__pv_it/theorems/7c9a2c22fa32c168e4aee91b6a771038a0ea88630/dependencies.ipynb\">dependencies</a>)<br>"
      ],
      "text/plain": [
       "add_5_9: (5 + 9) = 14"
      ]
     },
     "execution_count": 2,
     "metadata": {},
     "output_type": "execute_result"
    }
   ],
   "source": [
    "%proving add_5_9"
   ]
  },
  {
   "cell_type": "code",
   "execution_count": null,
   "metadata": {},
   "outputs": [],
   "source": []
  }
 ],
 "metadata": {
  "kernelspec": {
   "display_name": "Python 3",
   "language": "python",
   "name": "python3"
  }
 },
 "nbformat": 4,
 "nbformat_minor": 0
}