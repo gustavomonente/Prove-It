{
 "cells": [
  {
   "cell_type": "markdown",
   "metadata": {},
   "source": [
    "Proof of <a class=\"ProveItLink\" href=\"../../../../../../_theory_nbs_/theory.ipynb\">proveit</a>.<a class=\"ProveItLink\" href=\"../../../../../_theory_nbs_/theory.ipynb\">numbers</a>.<a class=\"ProveItLink\" href=\"../../../../_theory_nbs_/theory.ipynb\">numerals</a>.<a class=\"ProveItLink\" href=\"../../theory.ipynb\">decimals</a>.<a class=\"ProveItLink\" href=\"../../theorems.ipynb#add_6_7\">add_6_7</a> theorem\n",
    "========"
   ]
  },
  {
   "cell_type": "code",
   "execution_count": 1,
   "metadata": {},
   "outputs": [],
   "source": [
    "import proveit\n",
    "theory = proveit.Theory() # the theorem's theory"
   ]
  },
  {
   "cell_type": "code",
   "execution_count": 2,
   "metadata": {},
   "outputs": [
    {
     "data": {
      "text/html": [
       "Under these <a href=\"presumptions.txt\">presumptions</a>, we begin our proof of<br><strong id=\"add_6_7\">add_6_7:</strong> <a class=\"ProveItLink\" href=\"../../../__pv_it/theorems/c824f1de4422b387e849defa9c92a02b83e735380/expr.ipynb\"><img src=\"data:image/png;base64,iVBORw0KGgoAAAANSUhEUgAAAGwAAAAUBAMAAACaOcVSAAAAMFBMVEX///9UVFTMzMx2dna6uroQ\n",
       "EBCqqqqIiIgiIiJmZmYyMjJERETu7u6YmJjc3NwAAAC+aOQFAAAAAXRSTlMAQObYZgAAAYVJREFU\n",
       "OMuVlL9Lw0AUx782bU1okxS7a/8Dhw5Vp27qlqE4FXSRuimIgy5WRBeXSF0Eh1pcDCgdRHBQsrhU\n",
       "oZldLLg4WpSCUK33EluSS1LxS+4ld49P3rt3PwDFQrDiLQzRA2u59YxnLLJTyWYxHgy8ZK+ZvQQa\n",
       "eanq8ci9Xq+Nhh9ZNqHoWLUg68ANEnVnuOS8JJZfCsIaByXTEyZGO1DLEFuIfg8cv5jAngySmi/a\n",
       "s4loAWoVr0BC4zGmWdbOgjAmluQmoNZyRz6Msp4OxpK7wC3QvIC4xGECLcuT/WXY0geYMnUC7DPs\n",
       "DVKRw5pkVkKS3MijACqM/MF6M4axZxintn+LzGQIFisSJlYhf3HRDkIxpYVEh5Ic0ZxobqxNZs41\n",
       "t1QfU7uEsZJEupA0Lxb5RL8kfLRYHWLXLnIa91wl4+9kKz5s24Rs0bpRIkJljFs3ZYFsjacOF88t\n",
       "zB9fgTaXSyXPFiyHnxtZd/ce3R3fVnbrLtTT+OuY/veHNPuwS0Eecin8AEIPcegI4DRkAAAAAElF\n",
       "TkSuQmCC\n",
       "\" style=\"display:inline;vertical-align:middle;\" /></a><br>(see <a class=\"ProveItLink\" href=\"../../../__pv_it/theorems/ae0fd7c73a5b62b611bfd0882b6f0196cc294c070/dependencies.ipynb\">dependencies</a>)<br>"
      ],
      "text/plain": [
       "add_6_7: (6 + 7) = 13"
      ]
     },
     "execution_count": 2,
     "metadata": {},
     "output_type": "execute_result"
    }
   ],
   "source": [
    "%proving add_6_7"
   ]
  },
  {
   "cell_type": "code",
   "execution_count": null,
   "metadata": {},
   "outputs": [],
   "source": []
  }
 ],
 "metadata": {
  "kernelspec": {
   "display_name": "Python 3",
   "language": "python",
   "name": "python3"
  }
 },
 "nbformat": 4,
 "nbformat_minor": 0
}