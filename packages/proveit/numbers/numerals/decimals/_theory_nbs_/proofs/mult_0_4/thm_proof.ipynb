{
 "cells": [
  {
   "cell_type": "markdown",
   "metadata": {},
   "source": [
    "Proof of <a class=\"ProveItLink\" href=\"../../../../../../_theory_nbs_/theory.ipynb\">proveit</a>.<a class=\"ProveItLink\" href=\"../../../../../_theory_nbs_/theory.ipynb\">numbers</a>.<a class=\"ProveItLink\" href=\"../../../../_theory_nbs_/theory.ipynb\">numerals</a>.<a class=\"ProveItLink\" href=\"../../theory.ipynb\">decimals</a>.<a class=\"ProveItLink\" href=\"../../theorems.ipynb#mult_0_4\">mult_0_4</a> theorem\n",
    "========"
   ]
  },
  {
   "cell_type": "code",
   "execution_count": 1,
   "metadata": {},
   "outputs": [],
   "source": [
    "import proveit\n",
    "theory = proveit.Theory() # the theorem's theory"
   ]
  },
  {
   "cell_type": "code",
   "execution_count": 2,
   "metadata": {},
   "outputs": [
    {
     "data": {
      "text/html": [
       "Under these <a href=\"presumptions.txt\">presumptions</a>, we begin our proof of<br><strong id=\"mult_0_4\">mult_0_4:</strong> <a class=\"ProveItLink\" href=\"../../../__pv_it/theorems/a1d5ffbbcc429dcb3d73fcfb5c6c93167cb528330/expr.ipynb\"><img src=\"data:image/png;base64,iVBORw0KGgoAAAANSUhEUgAAAFcAAAAUBAMAAAAKKrydAAAAMFBMVEX///9UVFTMzMx2dna6uroQ\n",
       "EBCqqqqIiIgiIiJmZmYyMjJERETu7u6YmJjc3NwAAAC+aOQFAAAAAXRSTlMAQObYZgAAAVhJREFU\n",
       "KM91kzFLw0AUx382NdQ0qcHNLd+gwaXYydFNkS5uwQ9g4yDiIHTqKFmd1EXQQeosakEKBYcWxMWh\n",
       "dnTTUqgIDt5FTNLk+obj8b8fj/+79w5KfTKxy4x4Au1oJSHkAuaGGazy7IjzGi7oJm4LNuZZmjU8\n",
       "8xisAGsTLXG7b4s6afgFqqLOkKKN/hPJpVcBd9LwDdTbvMOiTX4SyZohYGMtBY9gw+MQegH5r0ge\n",
       "SFgLplnzW8A+d/Dhkotg05ewFfZQvZJxKb2NoezTFHBAbiy50AUS1hvTlUuictmlFtvoyXI7IZz7\n",
       "VNqohQ3qk78HxnSVsGyw7kkbxRbW/9Ppyyen2z75Ruz5XKa38NaWDaaGMh81mBnKqsiadJwE3IIF\n",
       "NwUXPHML1kX2eLAUy9rDqI/hpGCzsueE41ZEV72hVqBSKzP2+V6hZVc0Xv5MFIczYNW3GqjRXw+B\n",
       "VwnuLGjqAAAAAElFTkSuQmCC\n",
       "\" style=\"display:inline;vertical-align:middle;\" /></a><br>(see <a class=\"ProveItLink\" href=\"../../../__pv_it/theorems/b40842eb6c3da5d7141fed341ba68088636e51dd0/dependencies.ipynb\">dependencies</a>)<br>"
      ],
      "text/plain": [
       "mult_0_4: (0 * 4) = 0"
      ]
     },
     "execution_count": 2,
     "metadata": {},
     "output_type": "execute_result"
    }
   ],
   "source": [
    "%proving mult_0_4"
   ]
  },
  {
   "cell_type": "code",
   "execution_count": null,
   "metadata": {},
   "outputs": [],
   "source": []
  }
 ],
 "metadata": {
  "kernelspec": {
   "display_name": "Python 3",
   "language": "python",
   "name": "python3"
  }
 },
 "nbformat": 4,
 "nbformat_minor": 0
}