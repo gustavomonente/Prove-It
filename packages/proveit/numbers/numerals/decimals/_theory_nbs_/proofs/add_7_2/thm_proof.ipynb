{
 "cells": [
  {
   "cell_type": "markdown",
   "metadata": {},
   "source": [
    "Proof of <a class=\"ProveItLink\" href=\"../../../../../../_theory_nbs_/theory.ipynb\">proveit</a>.<a class=\"ProveItLink\" href=\"../../../../../_theory_nbs_/theory.ipynb\">numbers</a>.<a class=\"ProveItLink\" href=\"../../../../_theory_nbs_/theory.ipynb\">numerals</a>.<a class=\"ProveItLink\" href=\"../../theory.ipynb\">decimals</a>.<a class=\"ProveItLink\" href=\"../../theorems.ipynb#add_7_2\">add_7_2</a> theorem\n",
    "========"
   ]
  },
  {
   "cell_type": "code",
   "execution_count": 1,
   "metadata": {},
   "outputs": [],
   "source": [
    "import proveit\n",
    "theory = proveit.Theory() # the theorem's theory"
   ]
  },
  {
   "cell_type": "code",
   "execution_count": 2,
   "metadata": {},
   "outputs": [
    {
     "data": {
      "text/html": [
       "Under these <a href=\"presumptions.txt\">presumptions</a>, we begin our proof of<br><strong id=\"add_7_2\">add_7_2:</strong> <a class=\"ProveItLink\" href=\"../../../__pv_it/theorems/44e8274db9d2f917a06865d8362caa72b36f82930/expr.ipynb\"><img src=\"data:image/png;base64,iVBORw0KGgoAAAANSUhEUgAAAGEAAAAUBAMAAABvx07iAAAAMFBMVEX///9UVFTMzMx2dna6uroQ\n",
       "EBCqqqqIiIgiIiJmZmYyMjJERETu7u6YmJjc3NwAAAC+aOQFAAAAAXRSTlMAQObYZgAAAW1JREFU\n",
       "KM91k71Lw0AYxh9zpd8JLoJOzZ9Q6VDikm76B6iIOLgVB0Xc7GIddHEwUJeCg64ZrHtR4lAQFczi\n",
       "Kjd2tNTBDzBeLkVyr8kLIe89dz/ee+7uBQwfybGTouMR2mGnVlO0crdvYorTpeXOfKhdQQ+CYKRM\n",
       "3YG9o3xBiYFvbAC6g4IApyOtGf3OgRWgTokZYA7IczCAmQqxBlQ4BpT4AmxgKPNFKETPQ8VEsUFs\n",
       "fAMHHPtycK0SIk49MIfUWBc1GrgJU+ZTIjMWFqV15soIabGlno/jUH0GJfLiKLJtUqO0m7U3sRym\n",
       "LSksuO6R617KvCs+7Y1a396zzYg4oTVyTiIhjtCLdjWixBYMjkw75mNyYWIHoXPtkxBaFTk+cR6L\n",
       "F0/7ASyRZceEGNasWaBQJUTLexCHuiQyY5UQvSD4AIomIZh1BvlKYtGMD+6TH7uuXOxTfFBP6Y/b\n",
       "tMb5/9r/OiolSjxlIrVrX5PlX47KXvbcbt3oAAAAAElFTkSuQmCC\n",
       "\" style=\"display:inline;vertical-align:middle;\" /></a><br>(see <a class=\"ProveItLink\" href=\"../../../__pv_it/theorems/cb8407a599f937896870f172be5b71a24a05ff080/dependencies.ipynb\">dependencies</a>)<br>"
      ],
      "text/plain": [
       "add_7_2: (7 + 2) = 9"
      ]
     },
     "execution_count": 2,
     "metadata": {},
     "output_type": "execute_result"
    }
   ],
   "source": [
    "%proving add_7_2"
   ]
  },
  {
   "cell_type": "code",
   "execution_count": null,
   "metadata": {},
   "outputs": [],
   "source": []
  }
 ],
 "metadata": {
  "kernelspec": {
   "display_name": "Python 3",
   "language": "python",
   "name": "python3"
  }
 },
 "nbformat": 4,
 "nbformat_minor": 0
}