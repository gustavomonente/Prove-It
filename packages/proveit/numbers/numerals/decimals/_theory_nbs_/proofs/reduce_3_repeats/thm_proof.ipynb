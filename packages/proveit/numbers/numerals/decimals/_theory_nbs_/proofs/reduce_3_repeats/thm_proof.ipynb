{
 "cells": [
  {
   "cell_type": "markdown",
   "metadata": {},
   "source": [
    "Proof of <a class=\"ProveItLink\" href=\"../../../../../../_theory_nbs_/theory.ipynb\">proveit</a>.<a class=\"ProveItLink\" href=\"../../../../../_theory_nbs_/theory.ipynb\">numbers</a>.<a class=\"ProveItLink\" href=\"../../../../_theory_nbs_/theory.ipynb\">numerals</a>.<a class=\"ProveItLink\" href=\"../../theory.ipynb\">decimals</a>.<a class=\"ProveItLink\" href=\"../../theorems.ipynb#reduce_3_repeats\">reduce_3_repeats</a> theorem\n",
    "========"
   ]
  },
  {
   "cell_type": "code",
   "execution_count": 1,
   "metadata": {},
   "outputs": [],
   "source": [
    "import proveit\n",
    "theory = proveit.Theory() # the theorem's theory"
   ]
  },
  {
   "cell_type": "code",
   "execution_count": 2,
   "metadata": {},
   "outputs": [
    {
     "data": {
      "text/html": [
       "Under these <a href=\"presumptions.txt\">presumptions</a>, we begin our proof of<br><strong id=\"reduce_3_repeats\">reduce_3_repeats:</strong> <a class=\"ProveItLink\" href=\"../../../__pv_it/theorems/b65afcbfb639c8d48fbfdf15b196abde848bb0270/expr.ipynb\"><img src=\"data:image/png;base64,iVBORw0KGgoAAAANSUhEUgAAATQAAAAUBAMAAADxdNwuAAAAMFBMVEX///8QEBCIiIhmZma6urrM\n",
       "zMxUVFQiIiJERETc3Nzu7u6qqqp2dnaYmJgyMjIAAAAcRTyBAAAAAXRSTlMAQObYZgAAA3FJREFU\n",
       "SMetVl1IFFEU/rTdRmd21zKDih4WBSETXJIiQkvtwYJIn3qLlX4ehCzJh8iifHSJcEHBkqLLBioS\n",
       "ttRDIIGLQYT9uGjUiysbmWVkSFpaYnbvzKzNvfNjiZf5ZmbPme+7Z8899wcwtcy4hrVqSti6D0cC\n",
       "Q5L9SBg93TpEtRfPoquLrdZs6l6RQPGcvX82OiZ1CK0VyqKjoMvO0Ws2TToq9Wq4wRLSZLB7AxrE\n",
       "VhTFnKPgXTuHxy9arPQFAoWP0IdxpKSwBrGVl+G3o+CInUPeIFqs9AUChXewp6fdaG/XYVGejgOq\n",
       "zNi6xkVD+wrVOa5hvrn5stGcpyOS31bIj0RXjN2PZj+eROtorevdy5I6WgylT8N4QL8cmSuOuncO\n",
       "J40MXeOJ2DWvL+fWVgyYCBSngZCRdl2DHPOel7h+bjUQ9bmpb9HViHKSloOuACqJa5tyEXuABnXi\n",
       "1RsHRtcYUwvoq9oCMOnfw1v/FROB4iBkLoJLGjzE88vFl0R6jvr4CKTFkOb31UCZxXYgW9mMKsJC\n",
       "KycwJjql8UjMGq8/iCFy2ESgkJDOrX85GmRkNImKG9W0TQDB0sSbuC8AecY9k0jUwV14IMxCk+Z3\n",
       "cOWsawRFIV6foNmCQOGJS7AIDcjiK+0m0KLO5PdAP3uhoWFeWWCKn8JBNTT51RK/LGgaVqFx+t8s\n",
       "CBSZyWP0ZWB3fjU3oNRXzcktET20L9Tl10KjWWOqGfUIdtDQ/B3wznIkTaPSUGs1MOu7v1sQGEKn\n",
       "aBmRs1IZNw0UUkSthl62AFeJHhotVVmvNVq/kawY+tuqJxCoAOqM64muMSZmjdfvS59GgYnA8JBO\n",
       "KjemUjR94lZFW3AbMltl7yfZlUita3Tg3AtYR3xb2XISjGJfWhOGjpP9CNBpENI/p5euAZSIoXH6\n",
       "roWMabrdi4SS5eH9maLpyezMjZTS6XGB/gephl2u4r1qXg8tXaPeXYPw1eXSfMsnC0nmycLIFNaf\n",
       "CR8ZHi3TP5calzXwQQyN05dPFOTR84VIYPCytLqn3ZYblUJsl2yf80bY93ei1ttvVAZ9nrBMuuNJ\n",
       "eiy3dw9WG1rsn7Z3jx1hmdT5emAw5QjBsD9E7PuWahy3aL/TochCXyD0WolyR0n706jr3A+n84PX\n",
       "Ig6Lo2TcjhCyEl3rA7j3fw/gjEDxBzqmMyBLwhxUAAAAAElFTkSuQmCC\n",
       "\" style=\"display:inline;vertical-align:middle;\" /></a><br>(see <a class=\"ProveItLink\" href=\"../../../__pv_it/theorems/76e73940f4016e9a31c4ae0a649337fb02227e8b0/dependencies.ipynb\">dependencies</a>)<br>"
      ],
      "text/plain": [
       "reduce_3_repeats: forall_{x} ((x, ..3 repeats.., x) = (x, x, x))"
      ]
     },
     "execution_count": 2,
     "metadata": {},
     "output_type": "execute_result"
    }
   ],
   "source": [
    "%proving reduce_3_repeats"
   ]
  },
  {
   "cell_type": "code",
   "execution_count": null,
   "metadata": {},
   "outputs": [],
   "source": []
  }
 ],
 "metadata": {
  "kernelspec": {
   "display_name": "Python 3",
   "language": "python",
   "name": "python3"
  }
 },
 "nbformat": 4,
 "nbformat_minor": 0
}