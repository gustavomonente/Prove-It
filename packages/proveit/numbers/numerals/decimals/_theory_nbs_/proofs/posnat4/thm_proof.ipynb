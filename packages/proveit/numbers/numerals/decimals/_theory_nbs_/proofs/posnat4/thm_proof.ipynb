{
 "cells": [
  {
   "cell_type": "markdown",
   "metadata": {},
   "source": [
    "Proof of <a class=\"ProveItLink\" href=\"../../../../../../_theory_nbs_/theory.ipynb\">proveit</a>.<a class=\"ProveItLink\" href=\"../../../../../_theory_nbs_/theory.ipynb\">numbers</a>.<a class=\"ProveItLink\" href=\"../../../../_theory_nbs_/theory.ipynb\">numerals</a>.<a class=\"ProveItLink\" href=\"../../theory.ipynb\">decimals</a>.<a class=\"ProveItLink\" href=\"../../theorems.ipynb#posnat4\">posnat4</a> theorem\n",
    "========"
   ]
  },
  {
   "cell_type": "code",
   "execution_count": 1,
   "metadata": {},
   "outputs": [],
   "source": [
    "import proveit\n",
    "theory = proveit.Theory() # the theorem's theory"
   ]
  },
  {
   "cell_type": "code",
   "execution_count": 2,
   "metadata": {},
   "outputs": [
    {
     "data": {
      "text/html": [
       "Under these <a href=\"presumptions.txt\">presumptions</a>, we begin our proof of<br><strong id=\"posnat4\">posnat4:</strong> <a class=\"ProveItLink\" href=\"../../../__pv_it/theorems/e3fd61ce516c2f17a4fd530e6fef2899d2751b0f0/expr.ipynb\"><img src=\"data:image/png;base64,iVBORw0KGgoAAAANSUhEUgAAAD8AAAAUBAMAAADIGvgZAAAAMFBMVEX///+6urpERESqqqru7u52\n",
       "dnYyMjKYmJjc3NwQEBCIiIhUVFQiIiJmZmbMzMwAAABIfTqqAAAAAXRSTlMAQObYZgAAAOZJREFU\n",
       "KM9jYKAEcBNSwEQ1BW9Rhd0+qTkwRP4UQCg4jaZRnW8DA8sHhm1pmWlpBUA+12w0BXserGJgmICw\n",
       "oj0bKlF05kwCiN6owv2A4QBCQQBUwaMlUIU7XrOkIClgb4AoAArCFDAveI2kwIsBooC7Aa6AIZB9\n",
       "AUJBAFQBIlR2MHA77AMp4ADxmB9AFbxMA4IEiAKWDWwTYMpdGaAKmpBMYHjKB1dgfffuz1sgBiey\n",
       "AnYDBaSAgQQU7wIYfx8QRyArmAShDsP4ySDlCQj5oP/bwbS3ogOYfvMTqJslAUvsiuqcwRQGACQz\n",
       "PNRgfYDDAAAAAElFTkSuQmCC\n",
       "\" style=\"display:inline;vertical-align:middle;\" /></a><br>(see <a class=\"ProveItLink\" href=\"../../../__pv_it/theorems/c4166ccf1fbb8d9c8f255b4a8983651bdabdff1c0/dependencies.ipynb\">dependencies</a>)<br>"
      ],
      "text/plain": [
       "posnat4: 4 in NaturalPos"
      ]
     },
     "execution_count": 2,
     "metadata": {},
     "output_type": "execute_result"
    }
   ],
   "source": [
    "%proving posnat4"
   ]
  },
  {
   "cell_type": "code",
   "execution_count": null,
   "metadata": {},
   "outputs": [],
   "source": []
  }
 ],
 "metadata": {
  "kernelspec": {
   "display_name": "Python 3",
   "language": "python",
   "name": "python3"
  }
 },
 "nbformat": 4,
 "nbformat_minor": 0
}