{
 "cells": [
  {
   "cell_type": "markdown",
   "metadata": {},
   "source": [
    "Proof of <a class=\"ProveItLink\" href=\"../../../../../../_theory_nbs_/theory.ipynb\">proveit</a>.<a class=\"ProveItLink\" href=\"../../../../../_theory_nbs_/theory.ipynb\">numbers</a>.<a class=\"ProveItLink\" href=\"../../../../_theory_nbs_/theory.ipynb\">numerals</a>.<a class=\"ProveItLink\" href=\"../../theory.ipynb\">decimals</a>.<a class=\"ProveItLink\" href=\"../../theorems.ipynb#mult_5_1\">mult_5_1</a> theorem\n",
    "========"
   ]
  },
  {
   "cell_type": "code",
   "execution_count": 1,
   "metadata": {},
   "outputs": [],
   "source": [
    "import proveit\n",
    "theory = proveit.Theory() # the theorem's theory"
   ]
  },
  {
   "cell_type": "code",
   "execution_count": 2,
   "metadata": {},
   "outputs": [
    {
     "data": {
      "text/html": [
       "Under these <a href=\"presumptions.txt\">presumptions</a>, we begin our proof of<br><strong id=\"mult_5_1\">mult_5_1:</strong> <a class=\"ProveItLink\" href=\"../../../__pv_it/theorems/21b7b7d74c7000713f95f0dc390dd697fcaad4350/expr.ipynb\"><img src=\"data:image/png;base64,iVBORw0KGgoAAAANSUhEUgAAAFcAAAAUBAMAAAAKKrydAAAAMFBMVEX///9UVFTMzMx2dna6uroQ\n",
       "EBCqqqqIiIgiIiJmZmYyMjJERETu7u6YmJjc3NwAAAC+aOQFAAAAAXRSTlMAQObYZgAAATxJREFU\n",
       "KM9jYOC7wIAB8hhwgNMMDGsPaCagiDE+QFfFdYdpGpBax8AQ//8zQpgthoGBZwG6Ytb//w0YGHgn\n",
       "MDAsFkeYdNDwD5A0xzDZsA5IcgDVCSAL84IUH0VXzAgmXzBgU8zlgFVxJRDLXp+Epph5Arriu5UK\n",
       "DAx7gaw9DO8dUBXzgn1otQoEVoKY3Af4vjAwtIFVcDcACR6EYrYGzDDewcAQAmZw/gMS5xfAFTN9\n",
       "wFQ8/wFIMeMCBuYvoIARwK1YioHB3gHkDNYFDJx/UN3M0oBw80IQMwpo8gGQBzmBhi7A5kEkAAyd\n",
       "LgYGSwYGvgkMVxFRyA5SzGmApvglA28cA4MHiGU4By7KKfprLjBSFNAU802WPACJbkxwAnsK5Z2A\n",
       "TdQcR3reh0UMM4kiEj8G4H6AQzG2bHUPu1IAbdtUO+T5JuYAAAAASUVORK5CYII=\n",
       "\" style=\"display:inline;vertical-align:middle;\" /></a><br>(see <a class=\"ProveItLink\" href=\"../../../__pv_it/theorems/d3d5b02fed934c9c53dfda8b0a1634c022a3e82a0/dependencies.ipynb\">dependencies</a>)<br>"
      ],
      "text/plain": [
       "mult_5_1: (5 * 1) = 5"
      ]
     },
     "execution_count": 2,
     "metadata": {},
     "output_type": "execute_result"
    }
   ],
   "source": [
    "%proving mult_5_1"
   ]
  },
  {
   "cell_type": "code",
   "execution_count": null,
   "metadata": {},
   "outputs": [],
   "source": []
  }
 ],
 "metadata": {
  "kernelspec": {
   "display_name": "Python 3",
   "language": "python",
   "name": "python3"
  }
 },
 "nbformat": 4,
 "nbformat_minor": 0
}