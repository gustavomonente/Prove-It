{
 "cells": [
  {
   "cell_type": "markdown",
   "metadata": {},
   "source": [
    "Proof of <a class=\"ProveItLink\" href=\"../../../../../../_theory_nbs_/theory.ipynb\">proveit</a>.<a class=\"ProveItLink\" href=\"../../../../../_theory_nbs_/theory.ipynb\">numbers</a>.<a class=\"ProveItLink\" href=\"../../../../_theory_nbs_/theory.ipynb\">numerals</a>.<a class=\"ProveItLink\" href=\"../../theory.ipynb\">decimals</a>.<a class=\"ProveItLink\" href=\"../../theorems.ipynb#mult_8_1\">mult_8_1</a> theorem\n",
    "========"
   ]
  },
  {
   "cell_type": "code",
   "execution_count": 1,
   "metadata": {},
   "outputs": [],
   "source": [
    "import proveit\n",
    "theory = proveit.Theory() # the theorem's theory"
   ]
  },
  {
   "cell_type": "code",
   "execution_count": 2,
   "metadata": {},
   "outputs": [
    {
     "data": {
      "text/html": [
       "Under these <a href=\"presumptions.txt\">presumptions</a>, we begin our proof of<br><strong id=\"mult_8_1\">mult_8_1:</strong> <a class=\"ProveItLink\" href=\"../../../__pv_it/theorems/61756cf57d35b55457ef0adb3273ce57b68110b80/expr.ipynb\"><img src=\"data:image/png;base64,iVBORw0KGgoAAAANSUhEUgAAAFcAAAAUBAMAAAAKKrydAAAAMFBMVEX////MzMxUVFR2dna6uroQ\n",
       "EBCqqqqIiIgiIiJmZmYyMjJERETu7u6YmJjc3NwAAACgK8IjAAAAAXRSTlMAQObYZgAAAVVJREFU\n",
       "KM91k7FLw1AQxr8kbZrYPBH/AbsoOIjiYKkidiwuLo4iXR0UwUGczORqwK5CcVOK+AfUEgSx6NCg\n",
       "g5tkdHSpQ1XqvQ5Jc3k5QnL57peXu7wvwGSAVBwgI16Ap6NGUtNDTjnHlSpdbgEPej2SzR0qNTls\n",
       "A3OA8GAGY9WH5V86lzm8DzwDVgjjDo4byULCjxxeA7rAJ5D78Y0gCU9UGbzVxjpwQtni3wqSsOEx\n",
       "WB++0Vj3sjRsMViMZli9kXE9kjcGPnBGyV6tL1/rxLDpspXNxvk2QIco4ZS+F3rNCNa+GPyKQt+X\n",
       "cN6H9k2CVcqGabGZumyjRzcLyZ5zbtzzleyQHtYDOWCeNrejGnAsdoFiiAot04I4jOSChO0lBm/6\n",
       "eAdqlE1fxEayZweXtClTDNbmpZGsUGXFrtqhwlOp5Qw/dxRa2qKx+VNRDDNg1W/1oUb/AXvQWVmf\n",
       "s0gPAAAAAElFTkSuQmCC\n",
       "\" style=\"display:inline;vertical-align:middle;\" /></a><br>(see <a class=\"ProveItLink\" href=\"../../../__pv_it/theorems/d37245fbcee6b127b21dde6455830a5bc66d4a9e0/dependencies.ipynb\">dependencies</a>)<br>"
      ],
      "text/plain": [
       "mult_8_1: (8 * 1) = 8"
      ]
     },
     "execution_count": 2,
     "metadata": {},
     "output_type": "execute_result"
    }
   ],
   "source": [
    "%proving mult_8_1"
   ]
  },
  {
   "cell_type": "code",
   "execution_count": null,
   "metadata": {},
   "outputs": [],
   "source": []
  }
 ],
 "metadata": {
  "kernelspec": {
   "display_name": "Python 3",
   "language": "python",
   "name": "python3"
  }
 },
 "nbformat": 4,
 "nbformat_minor": 0
}