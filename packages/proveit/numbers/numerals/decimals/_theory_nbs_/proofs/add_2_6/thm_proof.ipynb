{
 "cells": [
  {
   "cell_type": "markdown",
   "metadata": {},
   "source": [
    "Proof of <a class=\"ProveItLink\" href=\"../../../../../../_theory_nbs_/theory.ipynb\">proveit</a>.<a class=\"ProveItLink\" href=\"../../../../../_theory_nbs_/theory.ipynb\">numbers</a>.<a class=\"ProveItLink\" href=\"../../../../_theory_nbs_/theory.ipynb\">numerals</a>.<a class=\"ProveItLink\" href=\"../../theory.ipynb\">decimals</a>.<a class=\"ProveItLink\" href=\"../../theorems.ipynb#add_2_6\">add_2_6</a> theorem\n",
    "========"
   ]
  },
  {
   "cell_type": "code",
   "execution_count": 1,
   "metadata": {},
   "outputs": [],
   "source": [
    "import proveit\n",
    "theory = proveit.Theory() # the theorem's theory"
   ]
  },
  {
   "cell_type": "code",
   "execution_count": 2,
   "metadata": {},
   "outputs": [
    {
     "data": {
      "text/html": [
       "Under these <a href=\"presumptions.txt\">presumptions</a>, we begin our proof of<br><strong id=\"add_2_6\">add_2_6:</strong> <a class=\"ProveItLink\" href=\"../../../__pv_it/theorems/9ad84732ac9c8eef503316bd33265cda58deac6d0/expr.ipynb\"><img src=\"data:image/png;base64,iVBORw0KGgoAAAANSUhEUgAAAGEAAAAUBAMAAABvx07iAAAAMFBMVEX///9UVFTMzMx2dna6uroQ\n",
       "EBCqqqqIiIgiIiJmZmYyMjJERETu7u6YmJjc3NwAAAC+aOQFAAAAAXRSTlMAQObYZgAAAXxJREFU\n",
       "KM91kztLA0EQgL8zGpN4ShoFu0B+QKIWEkVypdjEIliJ2FlpG9LIiWhhYwRttFGwusJCsPLBNUJ8\n",
       "FBELO73SSkQQJATPzQbxdr2b4nZ3Zr+dmZsZGGgQLisReu7g5uBUU8YqoxieftWsFCyxnGCmKVqq\n",
       "6Zh9zEOdSMIQ9NdIuvTMdnRLnaWvxjmM68Qy3ELCo8fG+FaIkgzoWicmoQ6vkGphfCjEmfymLI0o\n",
       "XTAFVblPtBSima2K27GaRhj+4yJcduh8kDCbDTZFijL1mCNF0sWmS9siZA2F8GHPJW5rPuK722Uo\n",
       "y98mX5hwnA3HORK7L3ix6HrXiAd6P90OUUXxwZYgGv+JecgtyqjiNd4UYlD66LYDeaRFsOIFoyEz\n",
       "z8KqQuRc9n4zD8iCqK1HAQbWx3ZshTDy5pzILq8RMy5PMC0q5fu+SlAYyQh9RiO6htudmFA6dCl4\n",
       "qIc3e79S2PvgYTxiPq6iBud/t/9NVLj0eRGGyKl9Dlf/ANh+ZCV7TLt9AAAAAElFTkSuQmCC\n",
       "\" style=\"display:inline;vertical-align:middle;\" /></a><br>(see <a class=\"ProveItLink\" href=\"../../../__pv_it/theorems/d44efc2e69f36fbd95bca936f41b3ddc69b5c8540/dependencies.ipynb\">dependencies</a>)<br>"
      ],
      "text/plain": [
       "add_2_6: (2 + 6) = 8"
      ]
     },
     "execution_count": 2,
     "metadata": {},
     "output_type": "execute_result"
    }
   ],
   "source": [
    "%proving add_2_6"
   ]
  },
  {
   "cell_type": "code",
   "execution_count": null,
   "metadata": {},
   "outputs": [],
   "source": []
  }
 ],
 "metadata": {
  "kernelspec": {
   "display_name": "Python 3",
   "language": "python",
   "name": "python3"
  }
 },
 "nbformat": 4,
 "nbformat_minor": 0
}