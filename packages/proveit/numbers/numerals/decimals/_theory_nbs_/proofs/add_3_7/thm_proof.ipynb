{
 "cells": [
  {
   "cell_type": "markdown",
   "metadata": {},
   "source": [
    "Proof of <a class=\"ProveItLink\" href=\"../../../../../../_theory_nbs_/theory.ipynb\">proveit</a>.<a class=\"ProveItLink\" href=\"../../../../../_theory_nbs_/theory.ipynb\">numbers</a>.<a class=\"ProveItLink\" href=\"../../../../_theory_nbs_/theory.ipynb\">numerals</a>.<a class=\"ProveItLink\" href=\"../../theory.ipynb\">decimals</a>.<a class=\"ProveItLink\" href=\"../../theorems.ipynb#add_3_7\">add_3_7</a> theorem\n",
    "========"
   ]
  },
  {
   "cell_type": "code",
   "execution_count": 1,
   "metadata": {},
   "outputs": [],
   "source": [
    "import proveit\n",
    "theory = proveit.Theory() # the theorem's theory"
   ]
  },
  {
   "cell_type": "code",
   "execution_count": 2,
   "metadata": {},
   "outputs": [
    {
     "data": {
      "text/html": [
       "Under these <a href=\"presumptions.txt\">presumptions</a>, we begin our proof of<br><strong id=\"add_3_7\">add_3_7:</strong> <a class=\"ProveItLink\" href=\"../../../__pv_it/theorems/71e41249deb8892f0f5486cb7abfe8b18680f30c0/expr.ipynb\"><img src=\"data:image/png;base64,iVBORw0KGgoAAAANSUhEUgAAAGwAAAAUBAMAAACaOcVSAAAAMFBMVEX////MzMxUVFR2dna6uroQ\n",
       "EBCqqqqIiIgiIiJmZmYyMjJERETu7u6YmJjc3NwAAACgK8IjAAAAAXRSTlMAQObYZgAAAYBJREFU\n",
       "OMtjYOC7wIAdsD1gwANOMzA8Nt6GKsbYNNnYmEEPuwbmWkMguY6BbwJDPqqVvP/////EcApTS+oB\n",
       "BoZlDCceMPBOYGD/xsDfABFOh1CcQPcpMDAXoGniUdY/wMAbwMC8gIHjAQNLCAP/AhRtzEAkwMAT\n",
       "gGHb/QMM3AoMbH8YXoC5MEemwxW4A/ESbNr4FRhYvjFUgm1vZkDXtgGILbFpOz+BgeU7w14gh89i\n",
       "Dro2ZpD1t8CsVWAwAabtvQED43eGNjC31AFN23kQkYHNtvcTGBg/M4SAuawxQMJq1arWVasWgQWq\n",
       "QIQ8bkcCtfE9YOD+hmZbN05twCBh+wZyJP8fTG2fQIQHkt8U4BGwgYH3DyhIWDcwcPxB1cb4kwEW\n",
       "JOi2QaIbGMi8FzDije0ziJyMoa0emLjaGI4KgB3iOXMLWgTwhYHIhei6JsWvvMBwuFyRAZS4kEA6\n",
       "ShJswJ1veCcg886g5JACPPltH06ZUwSyKckGgnyPq1DgxVMoAAC+J3WlpyHVNAAAAABJRU5ErkJg\n",
       "gg==\n",
       "\" style=\"display:inline;vertical-align:middle;\" /></a><br>(see <a class=\"ProveItLink\" href=\"../../../__pv_it/theorems/90bf0655d61b493252afb1f4cbdd50d40cac02320/dependencies.ipynb\">dependencies</a>)<br>"
      ],
      "text/plain": [
       "add_3_7: (3 + 7) = 10"
      ]
     },
     "execution_count": 2,
     "metadata": {},
     "output_type": "execute_result"
    }
   ],
   "source": [
    "%proving add_3_7"
   ]
  },
  {
   "cell_type": "code",
   "execution_count": null,
   "metadata": {},
   "outputs": [],
   "source": []
  }
 ],
 "metadata": {
  "kernelspec": {
   "display_name": "Python 3",
   "language": "python",
   "name": "python3"
  }
 },
 "nbformat": 4,
 "nbformat_minor": 0
}