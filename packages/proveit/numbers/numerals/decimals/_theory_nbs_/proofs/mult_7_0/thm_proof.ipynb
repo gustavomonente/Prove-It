{
 "cells": [
  {
   "cell_type": "markdown",
   "metadata": {},
   "source": [
    "Proof of <a class=\"ProveItLink\" href=\"../../../../../../_theory_nbs_/theory.ipynb\">proveit</a>.<a class=\"ProveItLink\" href=\"../../../../../_theory_nbs_/theory.ipynb\">numbers</a>.<a class=\"ProveItLink\" href=\"../../../../_theory_nbs_/theory.ipynb\">numerals</a>.<a class=\"ProveItLink\" href=\"../../theory.ipynb\">decimals</a>.<a class=\"ProveItLink\" href=\"../../theorems.ipynb#mult_7_0\">mult_7_0</a> theorem\n",
    "========"
   ]
  },
  {
   "cell_type": "code",
   "execution_count": 1,
   "metadata": {},
   "outputs": [],
   "source": [
    "import proveit\n",
    "theory = proveit.Theory() # the theorem's theory"
   ]
  },
  {
   "cell_type": "code",
   "execution_count": 2,
   "metadata": {},
   "outputs": [
    {
     "data": {
      "text/html": [
       "Under these <a href=\"presumptions.txt\">presumptions</a>, we begin our proof of<br><strong id=\"mult_7_0\">mult_7_0:</strong> <a class=\"ProveItLink\" href=\"../../../__pv_it/theorems/d8710eb6a93d7348de99b059e98645d348b9cf310/expr.ipynb\"><img src=\"data:image/png;base64,iVBORw0KGgoAAAANSUhEUgAAAFcAAAAUBAMAAAAKKrydAAAAMFBMVEX///9UVFTMzMx2dna6uroQ\n",
       "EBCqqqqIiIgiIiJmZmYyMjJERETu7u6YmJjc3NwAAAC+aOQFAAAAAXRSTlMAQObYZgAAATZJREFU\n",
       "KM91k79Lw0AUx79NSkljrvRPyH/QQodgJ7e6CSLO+QtsHe1Uly6CBPwH4qiD1FmULoLgUEG61owd\n",
       "lU6d0vuRu9i7y5tePnzy8t7dC9D6ghEXqIhPONd3vZ56jr5D1DJDYxh4Asnz/E9CPw5uEaS6yzFI\n",
       "giat05Z0CfRpHV0W2MvgAm4o6TMwnONdlwVe83ygKO3nJIZ/pMkCX/F8JmGwpXQEN9l3C/zKclcd\n",
       "X2sDdEYgfML+I4uHEk8ZXYjXGaUlOl00JvuVC3zG8jEni1R9z/m1tsHlG068tphkGBtygadFKuMF\n",
       "+JmjPil7vi8xG9DZ6qdPUuulHNKssSmpFwenQLOryQIfs1nP/40SXdLb9ENNFtjLbKv4Yd9Qktho\n",
       "VLHPbxZmrqhafjMOsgrZ9lut7OoOv8xYWqQaQfAAAAAASUVORK5CYII=\n",
       "\" style=\"display:inline;vertical-align:middle;\" /></a><br>(see <a class=\"ProveItLink\" href=\"../../../__pv_it/theorems/639eb7348941634a9daa3fb849f5a4c88d9d71630/dependencies.ipynb\">dependencies</a>)<br>"
      ],
      "text/plain": [
       "mult_7_0: (7 * 0) = 0"
      ]
     },
     "execution_count": 2,
     "metadata": {},
     "output_type": "execute_result"
    }
   ],
   "source": [
    "%proving mult_7_0"
   ]
  },
  {
   "cell_type": "code",
   "execution_count": null,
   "metadata": {},
   "outputs": [],
   "source": []
  }
 ],
 "metadata": {
  "kernelspec": {
   "display_name": "Python 3",
   "language": "python",
   "name": "python3"
  }
 },
 "nbformat": 4,
 "nbformat_minor": 0
}