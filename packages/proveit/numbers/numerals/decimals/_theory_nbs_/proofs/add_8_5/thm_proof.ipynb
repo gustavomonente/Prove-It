{
 "cells": [
  {
   "cell_type": "markdown",
   "metadata": {},
   "source": [
    "Proof of <a class=\"ProveItLink\" href=\"../../../../../../_theory_nbs_/theory.ipynb\">proveit</a>.<a class=\"ProveItLink\" href=\"../../../../../_theory_nbs_/theory.ipynb\">numbers</a>.<a class=\"ProveItLink\" href=\"../../../../_theory_nbs_/theory.ipynb\">numerals</a>.<a class=\"ProveItLink\" href=\"../../theory.ipynb\">decimals</a>.<a class=\"ProveItLink\" href=\"../../theorems.ipynb#add_8_5\">add_8_5</a> theorem\n",
    "========"
   ]
  },
  {
   "cell_type": "code",
   "execution_count": 1,
   "metadata": {},
   "outputs": [],
   "source": [
    "import proveit\n",
    "theory = proveit.Theory() # the theorem's theory"
   ]
  },
  {
   "cell_type": "code",
   "execution_count": 2,
   "metadata": {},
   "outputs": [
    {
     "data": {
      "text/html": [
       "Under these <a href=\"presumptions.txt\">presumptions</a>, we begin our proof of<br><strong id=\"add_8_5\">add_8_5:</strong> <a class=\"ProveItLink\" href=\"../../../__pv_it/theorems/975d37b0dcdde9a4c770343887149ef9ccf5f9a40/expr.ipynb\"><img src=\"data:image/png;base64,iVBORw0KGgoAAAANSUhEUgAAAGwAAAAUBAMAAACaOcVSAAAAMFBMVEX////MzMxUVFR2dna6uroQ\n",
       "EBCqqqqIiIgiIiJmZmYyMjJERETu7u6YmJjc3NwAAACgK8IjAAAAAXRSTlMAQObYZgAAAZJJREFU\n",
       "OMuVlD1IAzEUx//2erWld1dwc7Lg4KQFBVGnjnVz6FhoF6lOFsTBqQXR+bRdBIdTu3hU6SBOWm4T\n",
       "quAtIrhYcNHJQe1itb60VS73UfENSV6SX97Ley8BFBPuEmigj1wBl6sl2+SxMZzBhDvwOHVG7Qmg\n",
       "wpfhl9LtV6DuRBYNKCpWTMgqAiYkrTud7S0fjpGHQs4GSaMxA4NNRAoINiBUIRV4LNrZteCw9mDA\n",
       "n0REwxPg/zAE0wVD2Q0jISfXqYt9ToPHxu+2qZ11x6QN4IJ6oV2xYed4iQP3bCjoHVF/MWVmD9gi\n",
       "ZTnxHucxIEy3XfJwci2OJCBHkU+RNqfrm7p+0N0Q+gJGPDAxxTDRwECTs+bTILx5YEoD4SZz8obF\n",
       "gMNEDaEWkLDcLfqDRVoMo5CIlNoah4WAoNYLid2aWEWwxYLsr0DOcRgV0C2dVXRgeQOyyfLGHBkq\n",
       "lmwJeJ6kIGPfTu2kj0zM756CFZdFslwJFrzfjaxatWur4ihlq9Q8V+p/PNN/H8ii5vUpyH0+hW/e\n",
       "eXnyBpVraQAAAABJRU5ErkJggg==\n",
       "\" style=\"display:inline;vertical-align:middle;\" /></a><br>(see <a class=\"ProveItLink\" href=\"../../../__pv_it/theorems/3642c7e834400380ff50c57ed54f2d2285e4dca90/dependencies.ipynb\">dependencies</a>)<br>"
      ],
      "text/plain": [
       "add_8_5: (8 + 5) = 13"
      ]
     },
     "execution_count": 2,
     "metadata": {},
     "output_type": "execute_result"
    }
   ],
   "source": [
    "%proving add_8_5"
   ]
  },
  {
   "cell_type": "code",
   "execution_count": null,
   "metadata": {},
   "outputs": [],
   "source": []
  }
 ],
 "metadata": {
  "kernelspec": {
   "display_name": "Python 3",
   "language": "python",
   "name": "python3"
  }
 },
 "nbformat": 4,
 "nbformat_minor": 0
}