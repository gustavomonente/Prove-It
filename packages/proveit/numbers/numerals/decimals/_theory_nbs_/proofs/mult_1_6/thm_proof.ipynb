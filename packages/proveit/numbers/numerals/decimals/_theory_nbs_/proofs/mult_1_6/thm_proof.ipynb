{
 "cells": [
  {
   "cell_type": "markdown",
   "metadata": {},
   "source": [
    "Proof of <a class=\"ProveItLink\" href=\"../../../../../../_theory_nbs_/theory.ipynb\">proveit</a>.<a class=\"ProveItLink\" href=\"../../../../../_theory_nbs_/theory.ipynb\">numbers</a>.<a class=\"ProveItLink\" href=\"../../../../_theory_nbs_/theory.ipynb\">numerals</a>.<a class=\"ProveItLink\" href=\"../../theory.ipynb\">decimals</a>.<a class=\"ProveItLink\" href=\"../../theorems.ipynb#mult_1_6\">mult_1_6</a> theorem\n",
    "========"
   ]
  },
  {
   "cell_type": "code",
   "execution_count": 1,
   "metadata": {},
   "outputs": [],
   "source": [
    "import proveit\n",
    "theory = proveit.Theory() # the theorem's theory"
   ]
  },
  {
   "cell_type": "code",
   "execution_count": 2,
   "metadata": {},
   "outputs": [
    {
     "data": {
      "text/html": [
       "Under these <a href=\"presumptions.txt\">presumptions</a>, we begin our proof of<br><strong id=\"mult_1_6\">mult_1_6:</strong> <a class=\"ProveItLink\" href=\"../../../__pv_it/theorems/f556203739ca9865c2c9b68221b3929d37510ead0/expr.ipynb\"><img src=\"data:image/png;base64,iVBORw0KGgoAAAANSUhEUgAAAFcAAAAUBAMAAAAKKrydAAAAMFBMVEX////MzMxUVFR2dna6uroQ\n",
       "EBCqqqqIiIgiIiJmZmYyMjJERETu7u6YmJjc3NwAAACgK8IjAAAAAXRSTlMAQObYZgAAARxJREFU\n",
       "KM9jYOC7wIAB8hhwgNNofOZyQwamBxjKQMIMDOuAOPUAXJBnCcMsBp4F6GrBwgy8Exh4lPURirkn\n",
       "MOxmYDBHVwwR5gDZeB+h2B/sgqPoiiHCLxhQFW8Fk1wOaIohwpVoin8JVwIVMk9AUwwR3ouqmOfX\n",
       "BYY2oE/APrRaBQIrEcJtCMU8IPyfgWHqAQa2BrTAgAiHIBSfBxn3A8hzYGD8gOYMiDCSYg4FINEF\n",
       "5F3AVAwRbkPzoCrYCJYGhJsXIYTRPMggf4BhKsyDSAAibAli1iMUMxnwhDEwcBqgKYYIewBZk+JX\n",
       "IpKepZEAMFIE0KMQLMzxAFtSPIE9hfJOwCZqjiM978MihplEcSR+cIJ8gEMxtmx1D7tSAHbdXtSN\n",
       "o/xvAAAAAElFTkSuQmCC\n",
       "\" style=\"display:inline;vertical-align:middle;\" /></a><br>(see <a class=\"ProveItLink\" href=\"../../../__pv_it/theorems/ba7da515dfcb35f47765181863637e63dd01aafa0/dependencies.ipynb\">dependencies</a>)<br>"
      ],
      "text/plain": [
       "mult_1_6: (1 * 6) = 6"
      ]
     },
     "execution_count": 2,
     "metadata": {},
     "output_type": "execute_result"
    }
   ],
   "source": [
    "%proving mult_1_6"
   ]
  },
  {
   "cell_type": "code",
   "execution_count": null,
   "metadata": {},
   "outputs": [],
   "source": []
  }
 ],
 "metadata": {
  "kernelspec": {
   "display_name": "Python 3",
   "language": "python",
   "name": "python3"
  }
 },
 "nbformat": 4,
 "nbformat_minor": 0
}