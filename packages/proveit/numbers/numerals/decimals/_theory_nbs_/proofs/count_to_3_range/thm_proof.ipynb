{
 "cells": [
  {
   "cell_type": "markdown",
   "metadata": {},
   "source": [
    "Proof of <a class=\"ProveItLink\" href=\"../../../../../../_theory_nbs_/theory.ipynb\">proveit</a>.<a class=\"ProveItLink\" href=\"../../../../../_theory_nbs_/theory.ipynb\">numbers</a>.<a class=\"ProveItLink\" href=\"../../../../_theory_nbs_/theory.ipynb\">numerals</a>.<a class=\"ProveItLink\" href=\"../../theory.ipynb\">decimals</a>.<a class=\"ProveItLink\" href=\"../../theorems.ipynb#count_to_3_range\">count_to_3_range</a> theorem\n",
    "========"
   ]
  },
  {
   "cell_type": "code",
   "execution_count": 1,
   "metadata": {},
   "outputs": [],
   "source": [
    "import proveit\n",
    "theory = proveit.Theory() # the theorem's theory"
   ]
  },
  {
   "cell_type": "code",
   "execution_count": 2,
   "metadata": {},
   "outputs": [
    {
     "data": {
      "text/html": [
       "Under these <a href=\"presumptions.txt\">presumptions</a>, we begin our proof of<br><strong id=\"count_to_3_range\">count_to_3_range:</strong> <a class=\"ProveItLink\" href=\"../../../__pv_it/theorems/85afd2390bb0c3ed90f563a3e1d6e4048a2fd91a0/expr.ipynb\"><img src=\"data:image/png;base64,iVBORw0KGgoAAAANSUhEUgAAAKwAAAAUBAMAAADihsvzAAAAMFBMVEX////MzMxUVFR2dna6uroQ\n",
       "EBCqqqqIiIgiIiJmZmYyMjJERETu7u6YmJjc3NwAAACgK8IjAAAAAXRSTlMAQObYZgAAAddJREFU\n",
       "OMudlb9Lw0AUxx+tbVNN7OAfYEFctdhFJx11skNGwUlwEHRx6KLBQnHoEOokKlRw0UEUxK2luIjt\n",
       "YOYuFlycBJcOpVjvR+6R3CWNmuF43H0/39y7vLwDmHQg7El21bkRch/W9s68nN270Xv+EWBOZdqj\n",
       "LRG7pf4bfFLPwvIK35QNuw60VI7Kt5phrogZNsDTwoDPppuQKLAo1YOMBfE9mSNyfWY+1BYxjR6E\n",
       "4domLIh9s2jMhEwN9ILMMflbqC1iH+CxHR9A7EtISDZwJXNMHm6LWNFrS7cjQr1EhiUZKkbZulhd\n",
       "sl3PuYe/eE7GDg3jN+yxaVyPsBVYWbI9wmif1MS2jJUjD4Fjpt82beN6glTdtAyZkbYck2yLIpku\n",
       "TPT+bouY/xCSNnyyIDNg66ues83+4hAQ83+yKYADnsodq4mOzEV8MsRYCaVI+FojOZTyVUvv0xc5\n",
       "rABPZI7JD5vARGygHAaI0TTTs/0L0CrkdxgOhxYc082snT6Q8VK2pfLq5rXDRbRstKwIKh5Mw+a3\n",
       "g40Nc9StwJ/XLwLFgGAGVlROBHEUBrYaWQSqAcEa4hVo8YzCgMbYUESgGLQ8fdnAdUfxCGjj6iVh\n",
       "+LARt4jxv0uHYD9cTaf9seGFqwAAAABJRU5ErkJggg==\n",
       "\" style=\"display:inline;vertical-align:middle;\" /></a><br>(see <a class=\"ProveItLink\" href=\"../../../__pv_it/theorems/14986544ef7918e6f368da96453e74fa9cc173a70/dependencies.ipynb\">dependencies</a>)<br>"
      ],
      "text/plain": [
       "count_to_3_range: (1, 2, 3) = (1, ..k.., 3)"
      ]
     },
     "execution_count": 2,
     "metadata": {},
     "output_type": "execute_result"
    }
   ],
   "source": [
    "%proving count_to_3_range"
   ]
  },
  {
   "cell_type": "code",
   "execution_count": null,
   "metadata": {},
   "outputs": [],
   "source": []
  }
 ],
 "metadata": {
  "kernelspec": {
   "display_name": "Python 3",
   "language": "python",
   "name": "python3"
  }
 },
 "nbformat": 4,
 "nbformat_minor": 0
}