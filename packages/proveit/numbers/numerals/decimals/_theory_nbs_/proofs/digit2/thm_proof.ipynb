{
 "cells": [
  {
   "cell_type": "markdown",
   "metadata": {},
   "source": [
    "Proof of <a class=\"ProveItLink\" href=\"../../../../../../_theory_nbs_/theory.ipynb\">proveit</a>.<a class=\"ProveItLink\" href=\"../../../../../_theory_nbs_/theory.ipynb\">numbers</a>.<a class=\"ProveItLink\" href=\"../../../../_theory_nbs_/theory.ipynb\">numerals</a>.<a class=\"ProveItLink\" href=\"../../theory.ipynb\">decimals</a>.<a class=\"ProveItLink\" href=\"../../theorems.ipynb#digit2\">digit2</a> theorem\n",
    "========"
   ]
  },
  {
   "cell_type": "code",
   "execution_count": 1,
   "metadata": {},
   "outputs": [],
   "source": [
    "import proveit\n",
    "theory = proveit.Theory() # the theorem's theory"
   ]
  },
  {
   "cell_type": "code",
   "execution_count": 2,
   "metadata": {},
   "outputs": [
    {
     "data": {
      "text/html": [
       "Under these <a href=\"presumptions.txt\">presumptions</a>, we begin our proof of<br><strong id=\"digit2\">digit2:</strong> <a class=\"ProveItLink\" href=\"../../../__pv_it/theorems/e8ae35c4438e1b3e86d0cbd7416badda7926d2c90/expr.ipynb\"><img src=\"data:image/png;base64,iVBORw0KGgoAAAANSUhEUgAAAEcAAAAVBAMAAADm2O7QAAAAMFBMVEX///+YmJiqqqqIiIgyMjLc\n",
       "3NwiIiIQEBC6urp2dnZUVFTMzMxERERmZmbu7u4AAADrYmUNAAAAAXRSTlMAQObYZgAAAUlJREFU\n",
       "KM9jYCAAmG5OIKTiAIMUgy0BNc4MDBUM8Q/wqWF0ZGBg/crA34BHDTNQDQPfbwZ+BdxqOJLAVAXD\n",
       "fgEGvrtnNqBI8vmf8WPgrK/gmwO2RodBvoHhFQPnD1QjeAR2MTC8B6qeA7KH23h/AMM9BoZyVEVc\n",
       "2cwGDOwglglQ1QOGHgaGMgaG9QFgSZm0NAewop4HqxnYwEIiAgyHGU4zMPg/YFgPdtQeO5hJ0Que\n",
       "PIAoYtBjaLaEGJEPCi0+P7h1AcrcC9jQ/foTIoVQxNkgjK6IbQHYTwiHBzCs49rGwHQGCM7BBO+C\n",
       "ye0uQOAAVfSKwR0t9C+AqRhkk7gnbEdVpMvACnIOO7IiBiEeFDXcExiYQYp4DeCKgCHCGYOiKGzm\n",
       "3GVgRhJMhAUUG1dQFPn///8NzHh1ApK4uPNrgOQTHGmj8xgkWjABAFn8S03JFjE8AAAAAElFTkSu\n",
       "QmCC\n",
       "\" style=\"display:inline;vertical-align:middle;\" /></a><br>(see <a class=\"ProveItLink\" href=\"../../../__pv_it/theorems/0d45d688df059c738f7439fe715be0b8a34bde270/dependencies.ipynb\">dependencies</a>)<br>"
      ],
      "text/plain": [
       "digit2: 2 in Digits"
      ]
     },
     "execution_count": 2,
     "metadata": {},
     "output_type": "execute_result"
    }
   ],
   "source": [
    "%proving digit2"
   ]
  },
  {
   "cell_type": "code",
   "execution_count": null,
   "metadata": {},
   "outputs": [],
   "source": []
  }
 ],
 "metadata": {
  "kernelspec": {
   "display_name": "Python 3",
   "language": "python",
   "name": "python3"
  }
 },
 "nbformat": 4,
 "nbformat_minor": 0
}