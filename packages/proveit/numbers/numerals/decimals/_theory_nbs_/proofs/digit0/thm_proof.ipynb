{
 "cells": [
  {
   "cell_type": "markdown",
   "metadata": {},
   "source": [
    "Proof of <a class=\"ProveItLink\" href=\"../../../../../../_theory_nbs_/theory.ipynb\">proveit</a>.<a class=\"ProveItLink\" href=\"../../../../../_theory_nbs_/theory.ipynb\">numbers</a>.<a class=\"ProveItLink\" href=\"../../../../_theory_nbs_/theory.ipynb\">numerals</a>.<a class=\"ProveItLink\" href=\"../../theory.ipynb\">decimals</a>.<a class=\"ProveItLink\" href=\"../../theorems.ipynb#digit0\">digit0</a> theorem\n",
    "========"
   ]
  },
  {
   "cell_type": "code",
   "execution_count": 1,
   "metadata": {},
   "outputs": [],
   "source": [
    "import proveit\n",
    "theory = proveit.Theory() # the theorem's theory"
   ]
  },
  {
   "cell_type": "code",
   "execution_count": 2,
   "metadata": {},
   "outputs": [
    {
     "data": {
      "text/html": [
       "Under these <a href=\"presumptions.txt\">presumptions</a>, we begin our proof of<br><strong id=\"digit0\">digit0:</strong> <a class=\"ProveItLink\" href=\"../../../__pv_it/theorems/21545cad978f34ec43073a9e49cd5397cb138b550/expr.ipynb\"><img src=\"data:image/png;base64,iVBORw0KGgoAAAANSUhEUgAAAEgAAAAVBAMAAAAX07VdAAAAMFBMVEX///9mZma6urpUVFREREQQ\n",
       "EBDc3NwiIiLu7u6qqqoyMjLMzMyYmJiIiIh2dnYAAADXmt2vAAAAAXRSTlMAQObYZgAAAVJJREFU\n",
       "KM+Fkr1Lw0AYxh/TtCbeteYfELLpGETikCWI4AcKmZ36H7Sb6JRFBIcYoZNTRysOgQ5OFmenzGpA\n",
       "RLsIImJFQcXL5YMcSvrA3b335Md7770XYJyOnscRHVCjrpUzxyGqeu2jlLm6BFpNvJYx14zBYYDP\n",
       "EmbWj+eqTr6Axu2T+PHgbd3F40j3luKdalN2XA/7TZHaIAaUF8Bbi3cXN++gDhpdEVoMIsBhQb0H\n",
       "KJBsyAbU5I50ZXuXB/OrlQBtbp1BDuUA0wYkXj7ZdNNMZl85SSCorhQN2RU1SN+83oyBqYb9FErV\n",
       "ugPhkJlbJu5pKEIayE8c2AWo4lptdJaZkvTZcWTrlCmFFGPKKWZihatx4bViJgyIAMk2KG+BU4So\n",
       "bxehvJkzuWWxMRQg7GAviNdJP3NYnzEhvoIXWXxVFuYS43zEsijd/38N6SF9lj/6BdxJVBMhmyhu\n",
       "AAAAAElFTkSuQmCC\n",
       "\" style=\"display:inline;vertical-align:middle;\" /></a><br>(see <a class=\"ProveItLink\" href=\"../../../__pv_it/theorems/4feb45a82603693f84429b7c6c4add7013bdaa110/dependencies.ipynb\">dependencies</a>)<br>"
      ],
      "text/plain": [
       "digit0: 0 in Digits"
      ]
     },
     "execution_count": 2,
     "metadata": {},
     "output_type": "execute_result"
    }
   ],
   "source": [
    "%proving digit0"
   ]
  },
  {
   "cell_type": "code",
   "execution_count": null,
   "metadata": {},
   "outputs": [],
   "source": []
  }
 ],
 "metadata": {
  "kernelspec": {
   "display_name": "Python 3",
   "language": "python",
   "name": "python3"
  }
 },
 "nbformat": 4,
 "nbformat_minor": 0
}