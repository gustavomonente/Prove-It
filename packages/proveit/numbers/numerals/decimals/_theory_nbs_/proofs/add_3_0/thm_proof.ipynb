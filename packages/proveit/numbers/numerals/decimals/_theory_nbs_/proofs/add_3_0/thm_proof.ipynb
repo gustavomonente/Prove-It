{
 "cells": [
  {
   "cell_type": "markdown",
   "metadata": {},
   "source": [
    "Proof of <a class=\"ProveItLink\" href=\"../../../../../../_theory_nbs_/theory.ipynb\">proveit</a>.<a class=\"ProveItLink\" href=\"../../../../../_theory_nbs_/theory.ipynb\">numbers</a>.<a class=\"ProveItLink\" href=\"../../../../_theory_nbs_/theory.ipynb\">numerals</a>.<a class=\"ProveItLink\" href=\"../../theory.ipynb\">decimals</a>.<a class=\"ProveItLink\" href=\"../../theorems.ipynb#add_3_0\">add_3_0</a> theorem\n",
    "========"
   ]
  },
  {
   "cell_type": "code",
   "execution_count": 1,
   "metadata": {},
   "outputs": [],
   "source": [
    "import proveit\n",
    "theory = proveit.Theory() # the theorem's theory"
   ]
  },
  {
   "cell_type": "code",
   "execution_count": 2,
   "metadata": {},
   "outputs": [
    {
     "data": {
      "text/html": [
       "Under these <a href=\"presumptions.txt\">presumptions</a>, we begin our proof of<br><strong id=\"add_3_0\">add_3_0:</strong> <a class=\"ProveItLink\" href=\"../../../__pv_it/theorems/648fcff9d1d5973b4cd87ae27f6ccbcdcc1f40510/expr.ipynb\"><img src=\"data:image/png;base64,iVBORw0KGgoAAAANSUhEUgAAAGEAAAAUBAMAAABvx07iAAAAMFBMVEX////MzMxUVFR2dna6uroQ\n",
       "EBCqqqqIiIgiIiJmZmYyMjJERETu7u6YmJjc3NwAAACgK8IjAAAAAXRSTlMAQObYZgAAAXRJREFU\n",
       "KM91k79Lw1AQxz/a1tY2Sfsf1D+h0KFalyyCTiLUSYds3WwRHJwsiIKLdi06FMcMIiIuomYRBB0K\n",
       "4qgGuugiolBUKvqS+qN5SW5Ijnvvw9297x1oLYJtISTOJbTzR1KwcJ1h0JavavlxQ/z20OpUvImS\n",
       "hrKJ0pSJR4Y+Qa0T75Cu9WLl3u8GiiKRTKwYvEHCJloi3fQQB1CxOJeJCZ0PeHD936p+iBeYNkjq\n",
       "vqadqpYdR1mln1DeBVElUvcRFzk4cd5gdMdDaK+QraK6pUZM11y6vWHBuntnSfcQIkc2x1DNlyNe\n",
       "gpLrxebFp2iaa6a5+1fVwLNfvVnLITSbVEfuvGL4iSc4M5yq0l2ZOIZ7i2itr48R4X5ZDiE6j+2T\n",
       "6AYoqMqiz8GWxZg4acl6JAxlBoZzEnHr6jEpvKnGoed1UQqLGTFdGYmINrZ1d0r6rOyRK3jYVY+w\n",
       "V56RD9mP07DF8U/7/0YFW8oOOQjd2rvg8DfFhGftt8MknwAAAABJRU5ErkJggg==\n",
       "\" style=\"display:inline;vertical-align:middle;\" /></a><br>(see <a class=\"ProveItLink\" href=\"../../../__pv_it/theorems/f5ab7945bdbce192d508da31967611b226fac1b70/dependencies.ipynb\">dependencies</a>)<br>"
      ],
      "text/plain": [
       "add_3_0: (3 + 0) = 3"
      ]
     },
     "execution_count": 2,
     "metadata": {},
     "output_type": "execute_result"
    }
   ],
   "source": [
    "%proving add_3_0"
   ]
  },
  {
   "cell_type": "code",
   "execution_count": null,
   "metadata": {},
   "outputs": [],
   "source": []
  }
 ],
 "metadata": {
  "kernelspec": {
   "display_name": "Python 3",
   "language": "python",
   "name": "python3"
  }
 },
 "nbformat": 4,
 "nbformat_minor": 0
}