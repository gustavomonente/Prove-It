{
 "cells": [
  {
   "cell_type": "markdown",
   "metadata": {},
   "source": [
    "Proof of <a class=\"ProveItLink\" href=\"../../../../../../_theory_nbs_/theory.ipynb\">proveit</a>.<a class=\"ProveItLink\" href=\"../../../../../_theory_nbs_/theory.ipynb\">numbers</a>.<a class=\"ProveItLink\" href=\"../../../../_theory_nbs_/theory.ipynb\">numerals</a>.<a class=\"ProveItLink\" href=\"../../theory.ipynb\">decimals</a>.<a class=\"ProveItLink\" href=\"../../theorems.ipynb#mult_5_6\">mult_5_6</a> theorem\n",
    "========"
   ]
  },
  {
   "cell_type": "code",
   "execution_count": 1,
   "metadata": {},
   "outputs": [],
   "source": [
    "import proveit\n",
    "theory = proveit.Theory() # the theorem's theory"
   ]
  },
  {
   "cell_type": "code",
   "execution_count": 2,
   "metadata": {},
   "outputs": [
    {
     "data": {
      "text/html": [
       "Under these <a href=\"presumptions.txt\">presumptions</a>, we begin our proof of<br><strong id=\"mult_5_6\">mult_5_6:</strong> <a class=\"ProveItLink\" href=\"../../../__pv_it/theorems/87769ef91dded60f1cd05326ddfe829cbc4aafef0/expr.ipynb\"><img src=\"data:image/png;base64,iVBORw0KGgoAAAANSUhEUgAAAGEAAAAUBAMAAABvx07iAAAAMFBMVEX///9UVFTMzMx2dna6uroQ\n",
       "EBCqqqqIiIgiIiJmZmYyMjJERETu7u6YmJjc3NwAAAC+aOQFAAAAAXRSTlMAQObYZgAAAaNJREFU\n",
       "KM99UztLA0EQ/mKi5rE5bMRKCFhZ5aJFSGyuEewEiTYW3i8wsZJUphK00ENI4aOIaKOgYGHlaxsh\n",
       "oGBAgpUmYKOND7SIQY2zF3KJt+EGdtnZb77Z/XZmAaUAyWbhZFfAAR/ULd89PwRX2R6lDI9QSPQ2\n",
       "ROtDYKb2YUFsFxtgOTvjGV0/8OtsBQgawE5fM2fAwAklszMWdFRQBOKAl4J7WqBxk3xpZ4xqqOII\n",
       "SHI84T/j2Jz9mqSXbvVOCXWkyem/W7OA6kCaot2GxMir7IsYKZyRc4rXRk5WLWCR1JnS4/vC9kzg\n",
       "cYkr9D7hlICF3oyIFqMGZDm6MtIZ3QmFzgirSJiu75emG5G4ApQ0dLzJhZu8rt+KGK4c3J+05RUv\n",
       "sEyMgsx4AS50Up7Uxa06c/B9N6Be8wxPpqljWyxrnBhUqBIXyn2U3ipymCPbUN5i08Aqr1cwRj1j\n",
       "oGgV3aWyKUqi2hj3oh5enU0AY6JpIltNLBahbvOHbAzP+qYGFp0L1btEtrxDsweNdrtRp/9x3mZP\n",
       "7nbbj5IsUHZitPu1Dw7xf6Z5c1ikZy94AAAAAElFTkSuQmCC\n",
       "\" style=\"display:inline;vertical-align:middle;\" /></a><br>(see <a class=\"ProveItLink\" href=\"../../../__pv_it/theorems/78b1464047e86c4e9fe19af30c7324fbc3c1f6a00/dependencies.ipynb\">dependencies</a>)<br>"
      ],
      "text/plain": [
       "mult_5_6: (5 * 6) = 30"
      ]
     },
     "execution_count": 2,
     "metadata": {},
     "output_type": "execute_result"
    }
   ],
   "source": [
    "%proving mult_5_6"
   ]
  },
  {
   "cell_type": "code",
   "execution_count": null,
   "metadata": {},
   "outputs": [],
   "source": []
  }
 ],
 "metadata": {
  "kernelspec": {
   "display_name": "Python 3",
   "language": "python",
   "name": "python3"
  }
 },
 "nbformat": 4,
 "nbformat_minor": 0
}