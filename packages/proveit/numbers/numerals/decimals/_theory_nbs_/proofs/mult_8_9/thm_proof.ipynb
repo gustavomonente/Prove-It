{
 "cells": [
  {
   "cell_type": "markdown",
   "metadata": {},
   "source": [
    "Proof of <a class=\"ProveItLink\" href=\"../../../../../../_theory_nbs_/theory.ipynb\">proveit</a>.<a class=\"ProveItLink\" href=\"../../../../../_theory_nbs_/theory.ipynb\">numbers</a>.<a class=\"ProveItLink\" href=\"../../../../_theory_nbs_/theory.ipynb\">numerals</a>.<a class=\"ProveItLink\" href=\"../../theory.ipynb\">decimals</a>.<a class=\"ProveItLink\" href=\"../../theorems.ipynb#mult_8_9\">mult_8_9</a> theorem\n",
    "========"
   ]
  },
  {
   "cell_type": "code",
   "execution_count": 1,
   "metadata": {},
   "outputs": [],
   "source": [
    "import proveit\n",
    "theory = proveit.Theory() # the theorem's theory"
   ]
  },
  {
   "cell_type": "code",
   "execution_count": 2,
   "metadata": {},
   "outputs": [
    {
     "data": {
      "text/html": [
       "Under these <a href=\"presumptions.txt\">presumptions</a>, we begin our proof of<br><strong id=\"mult_8_9\">mult_8_9:</strong> <a class=\"ProveItLink\" href=\"../../../__pv_it/theorems/4bbbca11eab1072a78f9b99ab5786cbb507a72a20/expr.ipynb\"><img src=\"data:image/png;base64,iVBORw0KGgoAAAANSUhEUgAAAGEAAAAUBAMAAABvx07iAAAAMFBMVEX////MzMxUVFR2dna6uroQ\n",
       "EBCqqqqIiIgiIiJmZmYyMjJERETu7u6YmJjc3NwAAACgK8IjAAAAAXRSTlMAQObYZgAAAZ9JREFU\n",
       "KM99U81LAlEQ/+n6la22dOqWlyAPsZaQGIQe/QMKIjx49VAZneqip64JdhEiwlsh6T2SJYiiDnrp\n",
       "WnsJPAp9EElt816uyttl5/Dem/nNbz52Z4BwBxbZhpM8And7x0NVrizpcOui10w0Ho/J1SuF3pdA\n",
       "Ge6cCd12wlnIZyLjxTCMyA2kdyBUhq8z5jIHRIGEyDgF3DgB1oGADqkJuWRC30CKMomMGLCIDUDV\n",
       "0QU8fU0y25f7QFFHMG3p11NAQ4OqYJ8U9Wd5CGxSjjSksoUxyc8jDdd0SUZ9CFBJjQ5CvK+VCybn\n",
       "/8AqT/QGHNKdz3ywKmQequBL5eAriSnkHjsDEWCNPlcExSypbR54azelwNUTGX4OVsEZXg2uz0EA\n",
       "Jqpmwwg0GY21R1W16VoYA2tUb2nUR40bp1i4PMI669xLM9Ey3Z801y8GnY/LLIV3xeDXkaSAdYQK\n",
       "JnKgPdC/mYiJjB2ydOPJeSBD2nRlNIlSkr2Dish4pclrGMYXnxIbuXcY9lDZzppw2o+Wjc067cJG\n",
       "WWdId2LYbe2zg/8f37xp51Om5WoAAAAASUVORK5CYII=\n",
       "\" style=\"display:inline;vertical-align:middle;\" /></a><br>(see <a class=\"ProveItLink\" href=\"../../../__pv_it/theorems/c5ba23c18983ab26df3d48b08020fd2774c85c240/dependencies.ipynb\">dependencies</a>)<br>"
      ],
      "text/plain": [
       "mult_8_9: (8 * 9) = 72"
      ]
     },
     "execution_count": 2,
     "metadata": {},
     "output_type": "execute_result"
    }
   ],
   "source": [
    "%proving mult_8_9"
   ]
  },
  {
   "cell_type": "code",
   "execution_count": null,
   "metadata": {},
   "outputs": [],
   "source": []
  }
 ],
 "metadata": {
  "kernelspec": {
   "display_name": "Python 3",
   "language": "python",
   "name": "python3"
  }
 },
 "nbformat": 4,
 "nbformat_minor": 0
}