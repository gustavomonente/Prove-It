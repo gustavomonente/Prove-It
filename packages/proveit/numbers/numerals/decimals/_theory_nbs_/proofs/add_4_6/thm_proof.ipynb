{
 "cells": [
  {
   "cell_type": "markdown",
   "metadata": {},
   "source": [
    "Proof of <a class=\"ProveItLink\" href=\"../../../../../../_theory_nbs_/theory.ipynb\">proveit</a>.<a class=\"ProveItLink\" href=\"../../../../../_theory_nbs_/theory.ipynb\">numbers</a>.<a class=\"ProveItLink\" href=\"../../../../_theory_nbs_/theory.ipynb\">numerals</a>.<a class=\"ProveItLink\" href=\"../../theory.ipynb\">decimals</a>.<a class=\"ProveItLink\" href=\"../../theorems.ipynb#add_4_6\">add_4_6</a> theorem\n",
    "========"
   ]
  },
  {
   "cell_type": "code",
   "execution_count": 1,
   "metadata": {},
   "outputs": [],
   "source": [
    "import proveit\n",
    "theory = proveit.Theory() # the theorem's theory"
   ]
  },
  {
   "cell_type": "code",
   "execution_count": 2,
   "metadata": {},
   "outputs": [
    {
     "data": {
      "text/html": [
       "Under these <a href=\"presumptions.txt\">presumptions</a>, we begin our proof of<br><strong id=\"add_4_6\">add_4_6:</strong> <a class=\"ProveItLink\" href=\"../../../__pv_it/theorems/a938df16d19c2af43583d3f5af6e3f600742d5980/expr.ipynb\"><img src=\"data:image/png;base64,iVBORw0KGgoAAAANSUhEUgAAAGwAAAAUBAMAAACaOcVSAAAAMFBMVEX///9UVFTMzMx2dna6uroQ\n",
       "EBCqqqqIiIgiIiJmZmYyMjJERETu7u6YmJjc3NwAAAC+aOQFAAAAAXRSTlMAQObYZgAAAX9JREFU\n",
       "OMuVlD1Iw0AUx/82pSbEs8XOalcni0tRF0fHCG4K6iB1LDiIg1gHO0cqSLdaRDCgdHVQCqUoUWhn\n",
       "Fzu6SAW1XeLHu6RKc0kqvuHu3l1+ee/exwHDDfhLpIk+cseHCXE3tZnAmD8g7UzReMGXe8KROacU\n",
       "YXqR9QpwitsmmE7a4EJ3O92dL6GWIWUEaCg+XgHTIBUh8xs8H7ux8Kf9leax9liBGkPEwhPXkgKm\n",
       "OsCJHxaNIdzGNimsKWDRUuqQpmk/rK4j3MEVKTcQsPo55FXgwQ6cYYv+g7WSCHWQ4z56sBcoy8CG\n",
       "n7WWjtArFimvCQebMYx9w+DLaBbsDZgMdpKwKkRrchHsIwCjkETa3Mm1QuH9yIUNaLa1+Z67xX4T\n",
       "UAaz7JAAQrpDFhStGxLRmpNuJ8hLQpXEUaNI5j3YLhVXDrWE48js16gbk/IjNJZE6mDlrIHqFp3J\n",
       "rvZIu0owG9w3TO/V7l0dkunTb9eBJ+afbfrPH5IEPgqsz6PwDekAdYRZoMV1AAAAAElFTkSuQmCC\n",
       "\" style=\"display:inline;vertical-align:middle;\" /></a><br>(see <a class=\"ProveItLink\" href=\"../../../__pv_it/theorems/d93d832ba74ed5d03a009996ba4a543eed1b724e0/dependencies.ipynb\">dependencies</a>)<br>"
      ],
      "text/plain": [
       "add_4_6: (4 + 6) = 10"
      ]
     },
     "execution_count": 2,
     "metadata": {},
     "output_type": "execute_result"
    }
   ],
   "source": [
    "%proving add_4_6"
   ]
  },
  {
   "cell_type": "code",
   "execution_count": null,
   "metadata": {},
   "outputs": [],
   "source": []
  }
 ],
 "metadata": {
  "kernelspec": {
   "display_name": "Python 3",
   "language": "python",
   "name": "python3"
  }
 },
 "nbformat": 4,
 "nbformat_minor": 0
}