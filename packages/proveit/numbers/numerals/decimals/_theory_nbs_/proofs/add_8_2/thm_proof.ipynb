{
 "cells": [
  {
   "cell_type": "markdown",
   "metadata": {},
   "source": [
    "Proof of <a class=\"ProveItLink\" href=\"../../../../../../_theory_nbs_/theory.ipynb\">proveit</a>.<a class=\"ProveItLink\" href=\"../../../../../_theory_nbs_/theory.ipynb\">numbers</a>.<a class=\"ProveItLink\" href=\"../../../../_theory_nbs_/theory.ipynb\">numerals</a>.<a class=\"ProveItLink\" href=\"../../theory.ipynb\">decimals</a>.<a class=\"ProveItLink\" href=\"../../theorems.ipynb#add_8_2\">add_8_2</a> theorem\n",
    "========"
   ]
  },
  {
   "cell_type": "code",
   "execution_count": 1,
   "metadata": {},
   "outputs": [],
   "source": [
    "import proveit\n",
    "theory = proveit.Theory() # the theorem's theory"
   ]
  },
  {
   "cell_type": "code",
   "execution_count": 2,
   "metadata": {},
   "outputs": [
    {
     "data": {
      "text/html": [
       "Under these <a href=\"presumptions.txt\">presumptions</a>, we begin our proof of<br><strong id=\"add_8_2\">add_8_2:</strong> <a class=\"ProveItLink\" href=\"../../../__pv_it/theorems/1fbef8c7f5e8c3a5ca593416a11ec85ea226549b0/expr.ipynb\"><img src=\"data:image/png;base64,iVBORw0KGgoAAAANSUhEUgAAAGwAAAAUBAMAAACaOcVSAAAAMFBMVEX////MzMxUVFR2dna6uroQ\n",
       "EBCqqqqIiIgiIiJmZmYyMjJERETu7u6YmJjc3NwAAACgK8IjAAAAAXRSTlMAQObYZgAAAZRJREFU\n",
       "OMuVlD1LA0EQht/kPojxLor+AE+sNRFB0MaU6UxhKWgj0S5gIRaaoJj6SNLZqIjgEST+AMOBiBqF\n",
       "XG1jSiuDiElh9JzLqWTvI+LA3TK7PDuz784sEDHgbWIdPewOuF4vOiZv98+BCW+A25qk/xmgIrjM\n",
       "rEgK5uKoupEVHTjBTR2yCtGAdGBPp+yhT4eQBJd2QNJYVIdMCwcI1cGVIWUZTMgi+Akp6Yr2qKNf\n",
       "gdjGE8C/65zBYOE2gi/AsRc2oIBvYpOc6Mc0GIws1AZmvLCaCr6FC0sbs+TC5mPAQ0c4rWPqD9aI\n",
       "IdBCjpy1xFvcie3Qt+oVraEi8IoFQFaQWaS5WU3b07QjW0tr9xH/JAkTdASajmjWkb0xkkRsWknW\n",
       "yB9nMVHFM5DoOpvyewFlyG1LEoGKr8Jiw8D2tyTOaPZ1k8h8CXKawSK7U3kqgIILy1Bx5XA12Elk\n",
       "qFBkLyBsmiZhh04qv3Rq4HJjFFZxdVmKKcGsf9/Iard3z3RIuke/VXxXqn+06b83tFTzexTkHo/C\n",
       "F/Fke3avUqrUAAAAAElFTkSuQmCC\n",
       "\" style=\"display:inline;vertical-align:middle;\" /></a><br>(see <a class=\"ProveItLink\" href=\"../../../__pv_it/theorems/a1009046cc63c6666685caa2417ce2ce48537f160/dependencies.ipynb\">dependencies</a>)<br>"
      ],
      "text/plain": [
       "add_8_2: (8 + 2) = 10"
      ]
     },
     "execution_count": 2,
     "metadata": {},
     "output_type": "execute_result"
    }
   ],
   "source": [
    "%proving add_8_2"
   ]
  },
  {
   "cell_type": "code",
   "execution_count": null,
   "metadata": {},
   "outputs": [],
   "source": []
  }
 ],
 "metadata": {
  "kernelspec": {
   "display_name": "Python 3",
   "language": "python",
   "name": "python3"
  }
 },
 "nbformat": 4,
 "nbformat_minor": 0
}