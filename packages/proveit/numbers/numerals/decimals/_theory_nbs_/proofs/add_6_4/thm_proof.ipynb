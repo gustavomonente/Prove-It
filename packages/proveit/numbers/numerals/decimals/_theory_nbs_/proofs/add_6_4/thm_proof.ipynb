{
 "cells": [
  {
   "cell_type": "markdown",
   "metadata": {},
   "source": [
    "Proof of <a class=\"ProveItLink\" href=\"../../../../../../_theory_nbs_/theory.ipynb\">proveit</a>.<a class=\"ProveItLink\" href=\"../../../../../_theory_nbs_/theory.ipynb\">numbers</a>.<a class=\"ProveItLink\" href=\"../../../../_theory_nbs_/theory.ipynb\">numerals</a>.<a class=\"ProveItLink\" href=\"../../theory.ipynb\">decimals</a>.<a class=\"ProveItLink\" href=\"../../theorems.ipynb#add_6_4\">add_6_4</a> theorem\n",
    "========"
   ]
  },
  {
   "cell_type": "code",
   "execution_count": 1,
   "metadata": {},
   "outputs": [],
   "source": [
    "import proveit\n",
    "theory = proveit.Theory() # the theorem's theory"
   ]
  },
  {
   "cell_type": "code",
   "execution_count": 2,
   "metadata": {},
   "outputs": [
    {
     "data": {
      "text/html": [
       "Under these <a href=\"presumptions.txt\">presumptions</a>, we begin our proof of<br><strong id=\"add_6_4\">add_6_4:</strong> <a class=\"ProveItLink\" href=\"../../../__pv_it/theorems/3faaa4bcd5001ead7228b7af963bf0367e47f9420/expr.ipynb\"><img src=\"data:image/png;base64,iVBORw0KGgoAAAANSUhEUgAAAGwAAAAUBAMAAACaOcVSAAAAMFBMVEX///9UVFTMzMx2dna6uroQ\n",
       "EBCqqqqIiIgiIiJmZmYyMjJERETu7u6YmJjc3NwAAAC+aOQFAAAAAXRSTlMAQObYZgAAAYJJREFU\n",
       "OMuVlD1Iw1AQx/+2IabUZ4ud1a5OFpeiLo6OKbgpWAepY8FBHMQ62DlSQbrFIkIDSlcHpVCKUoV2\n",
       "djGji1RQ26V+XFJSm5cP8eAF3t393l3u3j1gvAV3EXX4yD2t5HacV88AU+5AcG+OvpdAYymk8sYD\n",
       "UjuRzSpwjjsdTAGuEK701RnLPpqiY7McNBabroLJCKqQdAhfA8MAezklL9kR7amKcBRiD89AWHZi\n",
       "CcJw5oZFohA62AUipeQxhzHdwObdsKYCoYtroHkBKW3HbmFgj2bhNFMUC2snEOgiT9grQmt2LGFi\n",
       "W27R2goCb1ihJHNg76Rb0LRDTTP8xbiJzXonSZikgn3aotXgjVFJxI6R5Ijcj/aLbRSLHyfA8tC/\n",
       "RQcNqID1jJIEegjJXAOQskrCR+u32yhyDPU0j63SKjiwfbpcedTjZiLBwgTf7sXvSaDEU0fr5RZq\n",
       "O+Qt2cYjY7uCOe+5Ycrw7sE2IVmfebvxtDT+GtP/Hkji+Sgwn0fhBzPfdYSmq0nOAAAAAElFTkSu\n",
       "QmCC\n",
       "\" style=\"display:inline;vertical-align:middle;\" /></a><br>(see <a class=\"ProveItLink\" href=\"../../../__pv_it/theorems/94f280a33822c80282e3835756bb8d0dd71f0f9e0/dependencies.ipynb\">dependencies</a>)<br>"
      ],
      "text/plain": [
       "add_6_4: (6 + 4) = 10"
      ]
     },
     "execution_count": 2,
     "metadata": {},
     "output_type": "execute_result"
    }
   ],
   "source": [
    "%proving add_6_4"
   ]
  },
  {
   "cell_type": "code",
   "execution_count": null,
   "metadata": {},
   "outputs": [],
   "source": []
  }
 ],
 "metadata": {
  "kernelspec": {
   "display_name": "Python 3",
   "language": "python",
   "name": "python3"
  }
 },
 "nbformat": 4,
 "nbformat_minor": 0
}