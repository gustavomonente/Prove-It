{
 "cells": [
  {
   "cell_type": "markdown",
   "metadata": {},
   "source": [
    "Proof of <a class=\"ProveItLink\" href=\"../../../../../../_theory_nbs_/theory.ipynb\">proveit</a>.<a class=\"ProveItLink\" href=\"../../../../../_theory_nbs_/theory.ipynb\">numbers</a>.<a class=\"ProveItLink\" href=\"../../../../_theory_nbs_/theory.ipynb\">numerals</a>.<a class=\"ProveItLink\" href=\"../../theory.ipynb\">decimals</a>.<a class=\"ProveItLink\" href=\"../../theorems.ipynb#posnat5\">posnat5</a> theorem\n",
    "========"
   ]
  },
  {
   "cell_type": "code",
   "execution_count": 1,
   "metadata": {},
   "outputs": [],
   "source": [
    "import proveit\n",
    "theory = proveit.Theory() # the theorem's theory"
   ]
  },
  {
   "cell_type": "code",
   "execution_count": 2,
   "metadata": {},
   "outputs": [
    {
     "data": {
      "text/html": [
       "Under these <a href=\"presumptions.txt\">presumptions</a>, we begin our proof of<br><strong id=\"posnat5\">posnat5:</strong> <a class=\"ProveItLink\" href=\"../../../__pv_it/theorems/91611e5fc3c5db1699c612fd8b831a237f5f64e40/expr.ipynb\"><img src=\"data:image/png;base64,iVBORw0KGgoAAAANSUhEUgAAAD4AAAAUBAMAAAAn2JMnAAAAMFBMVEX///8iIiK6urpERETc3NyI\n",
       "iIhUVFR2dnYQEBCqqqpmZmbMzMzu7u6YmJgyMjIAAABZcJOfAAAAAXRSTlMAQObYZgAAAO9JREFU\n",
       "KM9jYKAAJBCQN6CCPN8d7pUogjzvjd8wsPc3QeU5/v8vQNXFfGEbA8N5BrZ37/revWXgKwtBM5VN\n",
       "mjWAgQNmPhtcnNdQUA4sr3wgm4ERQ57b9ABUv3fCuQMI+btRG8DC5w7AzHeYyp0Al2c+wPIJLJwC\n",
       "t9+BXeEqI5L/DVEDg82BIYdtI4jlABFYD6K5+94BAVT+GMMLmOo8BoZ6BSDNgqyfu2AHjNcH1A92\n",
       "WQOSPMNNZhhvAQMD2NcMS+HyQP+wO8N4Xgy8LWAG4wSoCB+IsQ4mz7I8C+JxnmQdSDjJN4NCAzM2\n",
       "mYoh4YsCAGaLN8GH6CMRAAAAAElFTkSuQmCC\n",
       "\" style=\"display:inline;vertical-align:middle;\" /></a><br>(see <a class=\"ProveItLink\" href=\"../../../__pv_it/theorems/5c027fd780975f921bd0a8621fb4c921d731dab20/dependencies.ipynb\">dependencies</a>)<br>"
      ],
      "text/plain": [
       "posnat5: 5 in NaturalPos"
      ]
     },
     "execution_count": 2,
     "metadata": {},
     "output_type": "execute_result"
    }
   ],
   "source": [
    "%proving posnat5"
   ]
  },
  {
   "cell_type": "code",
   "execution_count": null,
   "metadata": {},
   "outputs": [],
   "source": []
  }
 ],
 "metadata": {
  "kernelspec": {
   "display_name": "Python 3",
   "language": "python",
   "name": "python3"
  }
 },
 "nbformat": 4,
 "nbformat_minor": 0
}