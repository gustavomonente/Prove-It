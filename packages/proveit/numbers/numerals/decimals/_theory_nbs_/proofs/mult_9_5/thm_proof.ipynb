{
 "cells": [
  {
   "cell_type": "markdown",
   "metadata": {},
   "source": [
    "Proof of <a class=\"ProveItLink\" href=\"../../../../../../_theory_nbs_/theory.ipynb\">proveit</a>.<a class=\"ProveItLink\" href=\"../../../../../_theory_nbs_/theory.ipynb\">numbers</a>.<a class=\"ProveItLink\" href=\"../../../../_theory_nbs_/theory.ipynb\">numerals</a>.<a class=\"ProveItLink\" href=\"../../theory.ipynb\">decimals</a>.<a class=\"ProveItLink\" href=\"../../theorems.ipynb#mult_9_5\">mult_9_5</a> theorem\n",
    "========"
   ]
  },
  {
   "cell_type": "code",
   "execution_count": 1,
   "metadata": {},
   "outputs": [],
   "source": [
    "import proveit\n",
    "theory = proveit.Theory() # the theorem's theory"
   ]
  },
  {
   "cell_type": "code",
   "execution_count": 2,
   "metadata": {},
   "outputs": [
    {
     "data": {
      "text/html": [
       "Under these <a href=\"presumptions.txt\">presumptions</a>, we begin our proof of<br><strong id=\"mult_9_5\">mult_9_5:</strong> <a class=\"ProveItLink\" href=\"../../../__pv_it/theorems/157e3a083182013f5f3263a3f4f105a1d2307a0f0/expr.ipynb\"><img src=\"data:image/png;base64,iVBORw0KGgoAAAANSUhEUgAAAGEAAAAUBAMAAABvx07iAAAAMFBMVEX////MzMxUVFR2dna6uroQ\n",
       "EBCqqqqIiIgiIiJmZmYyMjJERETu7u6YmJjc3NwAAACgK8IjAAAAAXRSTlMAQObYZgAAAXZJREFU\n",
       "KM99k79Lw0AUx79N7Q/TJBb8A8xaBwl2KLrY0dGhi6KCuEsXhy7SqYNTQBA6tbgpKt10UbMIikO7\n",
       "CaIli6BbFXFS67vcJaW5kDfkcve5T/Lu7h1g9CDFDuLiAbgvzgVd9TlxCMWV5yVszoBzaBt4dXyQ\n",
       "Gg4taG3ZyJqcQbehrECxg3/M79GzJBu7pmBZF1NtJAc+ULznrSQYT6Zgb0C3g8zfuKGWw0ZS9Y0a\n",
       "pU7/+AqMl1qeuB02+szw2BVYSuqvT3KOQbbuLX3xhMUxe9WqZHDWoO4Ftr/ZqJAugXQ9nBTI4KxC\n",
       "Tfpx+oOartjTlovEIGRsCYNYhWf/w3ccmAWWypKhWczgrMH3xvTZGn3HwUR9tI4jlkWh2VqtckYr\n",
       "19cxE5QFbdK+v/KxSJmCLQCZU+0sAO/QN4FJSzY6gi1Tp9gcHZhxUKAaU/PSCd589jjLulEFfRdT\n",
       "7LodNVqKux/XEWNR1T52o6TIuXFG1K3tx8z/B/88YtfpWcIGAAAAAElFTkSuQmCC\n",
       "\" style=\"display:inline;vertical-align:middle;\" /></a><br>(see <a class=\"ProveItLink\" href=\"../../../__pv_it/theorems/2b14f0202c9ef007ee65ba7bff428ad4e0955aa80/dependencies.ipynb\">dependencies</a>)<br>"
      ],
      "text/plain": [
       "mult_9_5: (9 * 5) = 45"
      ]
     },
     "execution_count": 2,
     "metadata": {},
     "output_type": "execute_result"
    }
   ],
   "source": [
    "%proving mult_9_5"
   ]
  },
  {
   "cell_type": "code",
   "execution_count": null,
   "metadata": {},
   "outputs": [],
   "source": []
  }
 ],
 "metadata": {
  "kernelspec": {
   "display_name": "Python 3",
   "language": "python",
   "name": "python3"
  }
 },
 "nbformat": 4,
 "nbformat_minor": 0
}