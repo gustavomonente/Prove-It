{
 "cells": [
  {
   "cell_type": "markdown",
   "metadata": {},
   "source": [
    "Proof of <a class=\"ProveItLink\" href=\"../../../../../../_theory_nbs_/theory.ipynb\">proveit</a>.<a class=\"ProveItLink\" href=\"../../../../../_theory_nbs_/theory.ipynb\">numbers</a>.<a class=\"ProveItLink\" href=\"../../../../_theory_nbs_/theory.ipynb\">numerals</a>.<a class=\"ProveItLink\" href=\"../../theory.ipynb\">decimals</a>.<a class=\"ProveItLink\" href=\"../../theorems.ipynb#add_6_9\">add_6_9</a> theorem\n",
    "========"
   ]
  },
  {
   "cell_type": "code",
   "execution_count": 1,
   "metadata": {},
   "outputs": [],
   "source": [
    "import proveit\n",
    "theory = proveit.Theory() # the theorem's theory"
   ]
  },
  {
   "cell_type": "code",
   "execution_count": 2,
   "metadata": {},
   "outputs": [
    {
     "data": {
      "text/html": [
       "Under these <a href=\"presumptions.txt\">presumptions</a>, we begin our proof of<br><strong id=\"add_6_9\">add_6_9:</strong> <a class=\"ProveItLink\" href=\"../../../__pv_it/theorems/5fc32caeeda4c74bacab35e0dcacac780451b9320/expr.ipynb\"><img src=\"data:image/png;base64,iVBORw0KGgoAAAANSUhEUgAAAGwAAAAUBAMAAACaOcVSAAAAMFBMVEX///9UVFTMzMx2dna6uroQ\n",
       "EBCqqqqIiIgiIiJmZmYyMjJERETu7u6YmJjc3NwAAAC+aOQFAAAAAXRSTlMAQObYZgAAAYtJREFU\n",
       "OMuVlD1IAmEYx/9mpad3Jjk0ZUFTk4SD1OTYeEOjoRBhY9DUlEvOV7YEDWYtHhluEVTc0pAFuYTQ\n",
       "0i1BTUlFk1rPvZrcex9GD9y9X/ye7/cFQnU4y6iOAXJLX2Jjmt+8iUeBqDNQ0WYzwClQSwpF7kRc\n",
       "xrOGmh1Z1YD09wcgKcA5gtXudrY7eGR4FHjXLZAYmSLsaIK89+sY7vQPethYEd4mRNlm7YmwsDF5\n",
       "AYKyFbuvwke6jt2xTdJdSuzx2AhZ+wTmHbHJxi5wSbor8Gc4jDwMtIFHNleZKH3sAm9J5AlrQkhx\n",
       "GM6w8gWsOVqjqHJYIidzkMglLKjqtqoeslI3Zt6BmAsmdAzMX4TU5q1RDVoumIfFnWdVYtY4LEAJ\n",
       "WzTFFv7FKF1Cy0jJUAuCzGFSCjG9lxKrNYG5ZyQ5gms+k74TsUJDwYZtaQgpeNCZI97COF83xPeT\n",
       "9C9ZqZ10uY7XuQPWXCbJci2Yc783kmJe3ZkXtlY2y5XrSe2va/pfhSSuj4I04FH4AaBgeNJFZqqV\n",
       "AAAAAElFTkSuQmCC\n",
       "\" style=\"display:inline;vertical-align:middle;\" /></a><br>(see <a class=\"ProveItLink\" href=\"../../../__pv_it/theorems/25241c860a7ba3d0d125b25aa639b409a7a7e0ff0/dependencies.ipynb\">dependencies</a>)<br>"
      ],
      "text/plain": [
       "add_6_9: (6 + 9) = 15"
      ]
     },
     "execution_count": 2,
     "metadata": {},
     "output_type": "execute_result"
    }
   ],
   "source": [
    "%proving add_6_9"
   ]
  },
  {
   "cell_type": "code",
   "execution_count": null,
   "metadata": {},
   "outputs": [],
   "source": []
  }
 ],
 "metadata": {
  "kernelspec": {
   "display_name": "Python 3",
   "language": "python",
   "name": "python3"
  }
 },
 "nbformat": 4,
 "nbformat_minor": 0
}