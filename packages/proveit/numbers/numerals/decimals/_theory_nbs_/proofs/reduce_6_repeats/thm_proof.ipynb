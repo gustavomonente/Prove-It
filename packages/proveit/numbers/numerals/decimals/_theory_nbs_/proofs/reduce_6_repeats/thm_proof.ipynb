{
 "cells": [
  {
   "cell_type": "markdown",
   "metadata": {},
   "source": [
    "Proof of <a class=\"ProveItLink\" href=\"../../../../../../_theory_nbs_/theory.ipynb\">proveit</a>.<a class=\"ProveItLink\" href=\"../../../../../_theory_nbs_/theory.ipynb\">numbers</a>.<a class=\"ProveItLink\" href=\"../../../../_theory_nbs_/theory.ipynb\">numerals</a>.<a class=\"ProveItLink\" href=\"../../theory.ipynb\">decimals</a>.<a class=\"ProveItLink\" href=\"../../theorems.ipynb#reduce_6_repeats\">reduce_6_repeats</a> theorem\n",
    "========"
   ]
  },
  {
   "cell_type": "code",
   "execution_count": 1,
   "metadata": {},
   "outputs": [],
   "source": [
    "import proveit\n",
    "theory = proveit.Theory() # the theorem's theory"
   ]
  },
  {
   "cell_type": "code",
   "execution_count": 2,
   "metadata": {},
   "outputs": [
    {
     "data": {
      "text/html": [
       "Under these <a href=\"presumptions.txt\">presumptions</a>, we begin our proof of<br><strong id=\"reduce_6_repeats\">reduce_6_repeats:</strong> <a class=\"ProveItLink\" href=\"../../../__pv_it/theorems/db2bc66ad18ea72fc77b49d9d0d1772a67888adb0/expr.ipynb\"><img src=\"data:image/png;base64,iVBORw0KGgoAAAANSUhEUgAAAXMAAAAUBAMAAACNEsD3AAAAMFBMVEX///8QEBCIiIhmZma6urrM\n",
       "zMxUVFQiIiJERETc3Nzu7u6qqqp2dnaYmJgyMjIAAAAcRTyBAAAAAXRSTlMAQObYZgAAA71JREFU\n",
       "SMetl0toE0Ecxr8mm2662ayiHnxcQgoexEda8ORbEfWixYMnwSgq9KAWCwoqWr3YImJAsV7EtQcr\n",
       "Ij7wIBbFkKpgRMxBFEVtxKpUfBRr1fpo/c/Objuz2U2K6bBD/vvNzm++zGN3BihIVTmexypFUt5t\n",
       "lAW8Qb95dvNSLDlvZ3fS43f/r6n6Qul8WZ1BwEqy/4DFH8SCHju7ktaNhcWJi330S4VST1nWCahR\n",
       "l59iw9ck6NEEz+4UTqC5KFBL+BToMbcSTZRlnQEzgGFSeEXQ1RTP7rQmVQLo60cb71bUVFnWGfAs\n",
       "NZi9cKFV1Fvt7E4HSwFv+3Zlt1toLXPlE9Cg6fmzuXmfKFfbuW36iZniSA+ur7Ym8+oJN3tw/EW9\n",
       "8vrh/G10TyEi8QyiixrnYe2t2SLLZnS6m5b5Wrx+aUaq4CcKQJ06agvQImKP8qylozvVvDBIgzns\n",
       "taKJHX+VPVhiVkxCewJWeD0VTEJNQGuCKg6szXhlTdDPVkqggH8RT2P7pQp+ogCM0s8ya7WOpL08\n",
       "66b+SxGmpDYE1Jgseg9UpFERM5KIfOPh1TrlF7OuTEVAXE4247q712V+Fo/MVVIFP1EARhpoySAg\n",
       "fR8m8awh3CQ19wPosmbMO2DDgpdPcgb1ch8PsbZzgFnHgUPiAnQYG9zWZb45/OoqJQrAUC/9k5wK\n",
       "D+vAOPmdRqPXZf3HN7Qi2SuJrOMnDy+1hLj1i1/6pEqc4WVd4n91VfAXh4HMelV+Hd1k5k6vkyYM\n",
       "lddJzW10ev0jFcW4ddbrLDyM0ICpJgJVpv2MkzhjhTDXkyjkh/pdFXzFEaBCEwYtm4GAuV1dLC3T\n",
       "iDmHVNGFiRrY1mmpaPZct8I/iAwsN5JBJYZKYfY5jFfuXpf5HYFezJAq+IkCkC1TXCP/IXxysJ08\n",
       "r7lyDKfpvUJ3l/Psqkxr06wHGunx3wiaxhS0p3k4GXr/82A+SMs0nKI6/LIZwHy3dYmv/A730naM\n",
       "miglisBgenj6DDjYFTyfi7ctoA7cTf9RTbILnfeswVo5dIRKa7MwtsVpvKzwZG12dg5b7ysPZ90B\n",
       "dlkX1bQZeOu2LvG1TTOqaf+n7ikpikCDmYmywQj1hjw3AhHT95NmFN+IjNTUGvw3AgK/A6MVGbDd\n",
       "uTmj53XP7ZeO/7Wuj2r7JfDTGK1ob794Ovc4k3XiFgjf1zZ/b2qyqPW2YpteD74WwyhFZ9PrfQwY\n",
       "Pgr4n2aUHd+L7v9yhT49jhojT0W9qnqKDBj2bHusD3jRsT7gMeAz4B8aM2u9+kxkTAAAAABJRU5E\n",
       "rkJggg==\n",
       "\" style=\"display:inline;vertical-align:middle;\" /></a><br>(see <a class=\"ProveItLink\" href=\"../../../__pv_it/theorems/c798ca6e684a8691afb0fb340507bf26675b03af0/dependencies.ipynb\">dependencies</a>)<br>"
      ],
      "text/plain": [
       "reduce_6_repeats: forall_{x} ((x, ..6 repeats.., x) = (x, x, x, x, x, x))"
      ]
     },
     "execution_count": 2,
     "metadata": {},
     "output_type": "execute_result"
    }
   ],
   "source": [
    "%proving reduce_6_repeats"
   ]
  },
  {
   "cell_type": "code",
   "execution_count": null,
   "metadata": {},
   "outputs": [],
   "source": []
  }
 ],
 "metadata": {
  "kernelspec": {
   "display_name": "Python 3",
   "language": "python",
   "name": "python3"
  }
 },
 "nbformat": 4,
 "nbformat_minor": 0
}