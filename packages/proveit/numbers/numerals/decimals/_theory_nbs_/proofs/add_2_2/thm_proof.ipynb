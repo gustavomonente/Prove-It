{
 "cells": [
  {
   "cell_type": "markdown",
   "metadata": {},
   "source": [
    "Proof of <a class=\"ProveItLink\" href=\"../../../../../../_theory_nbs_/theory.ipynb\">proveit</a>.<a class=\"ProveItLink\" href=\"../../../../../_theory_nbs_/theory.ipynb\">numbers</a>.<a class=\"ProveItLink\" href=\"../../../../_theory_nbs_/theory.ipynb\">numerals</a>.<a class=\"ProveItLink\" href=\"../../theory.ipynb\">decimals</a>.<a class=\"ProveItLink\" href=\"../../theorems.ipynb#add_2_2\">add_2_2</a> theorem\n",
    "========"
   ]
  },
  {
   "cell_type": "code",
   "execution_count": 1,
   "metadata": {},
   "outputs": [],
   "source": [
    "import proveit\n",
    "theory = proveit.Theory() # the theorem's theory"
   ]
  },
  {
   "cell_type": "code",
   "execution_count": 2,
   "metadata": {},
   "outputs": [
    {
     "data": {
      "text/html": [
       "Under these <a href=\"presumptions.txt\">presumptions</a>, we begin our proof of<br><strong id=\"add_2_2\">add_2_2:</strong> <a class=\"ProveItLink\" href=\"../../../__pv_it/theorems/c9785c0bbdc5f956abe24b48130a09b4573f6eb70/expr.ipynb\"><img src=\"data:image/png;base64,iVBORw0KGgoAAAANSUhEUgAAAGEAAAAUBAMAAABvx07iAAAAMFBMVEX///9UVFTMzMx2dna6uroQ\n",
       "EBCqqqqIiIgiIiJmZmYyMjJERETu7u6YmJjc3NwAAAC+aOQFAAAAAXRSTlMAQObYZgAAAWdJREFU\n",
       "KM91k69Pw0AUx79d1/0oXTMJakv4B5pMLMMwiQMBCVjMgiEziBlSQsBSZAMJYCsYwRKgCBIIiGnE\n",
       "cnKK8EsgFsrdlYXeXftEe/fefXLve+89wB4g3TYz/HgCHo8uRZ/lX9WhEfVwzqOfc1hVzLeFwB30\n",
       "L1inKlGqAhUP5RDGUuzpxL9jYAVoqsQWJUoEhgvtRyBWgRrBvQLYL5QYAeYY2odA9EPU6jDbMqGb\n",
       "lOjF+Y0FgtpBCN2TiSEjrvly0ZGI/CeVyKXrATdGW11G7PMDO5AI9igFV04KjFhmyzK/fy4I9oLg\n",
       "jAd99vhvErH+T/Qg3VH0UgjLwSSrgodXkdiATZB3EzpYljP+yVqXK58FtgUi56BI/pQLZlCwReuy\n",
       "2zh0BWLUaE1TdY5KXAALtIJRFIlEP4q+qb+uVPD2fcC6JGGd5OYhvdkrQmGfk5tmxnzcZA1OWrdP\n",
       "JirdpkhGIHNqh+nuXxTBWWCkH/TBAAAAAElFTkSuQmCC\n",
       "\" style=\"display:inline;vertical-align:middle;\" /></a><br>(see <a class=\"ProveItLink\" href=\"../../../__pv_it/theorems/a61b5dafa95bbd4e1a5c2ac2a580d0293cb7862e0/dependencies.ipynb\">dependencies</a>)<br>"
      ],
      "text/plain": [
       "add_2_2: (2 + 2) = 4"
      ]
     },
     "execution_count": 2,
     "metadata": {},
     "output_type": "execute_result"
    }
   ],
   "source": [
    "%proving add_2_2"
   ]
  },
  {
   "cell_type": "code",
   "execution_count": null,
   "metadata": {},
   "outputs": [],
   "source": []
  }
 ],
 "metadata": {
  "kernelspec": {
   "display_name": "Python 3",
   "language": "python",
   "name": "python3"
  }
 },
 "nbformat": 4,
 "nbformat_minor": 0
}