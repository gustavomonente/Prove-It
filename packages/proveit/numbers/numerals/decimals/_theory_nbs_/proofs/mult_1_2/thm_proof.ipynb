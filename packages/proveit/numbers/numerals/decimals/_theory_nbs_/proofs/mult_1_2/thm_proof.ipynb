{
 "cells": [
  {
   "cell_type": "markdown",
   "metadata": {},
   "source": [
    "Proof of <a class=\"ProveItLink\" href=\"../../../../../../_theory_nbs_/theory.ipynb\">proveit</a>.<a class=\"ProveItLink\" href=\"../../../../../_theory_nbs_/theory.ipynb\">numbers</a>.<a class=\"ProveItLink\" href=\"../../../../_theory_nbs_/theory.ipynb\">numerals</a>.<a class=\"ProveItLink\" href=\"../../theory.ipynb\">decimals</a>.<a class=\"ProveItLink\" href=\"../../theorems.ipynb#mult_1_2\">mult_1_2</a> theorem\n",
    "========"
   ]
  },
  {
   "cell_type": "code",
   "execution_count": 1,
   "metadata": {},
   "outputs": [],
   "source": [
    "import proveit\n",
    "theory = proveit.Theory() # the theorem's theory"
   ]
  },
  {
   "cell_type": "code",
   "execution_count": 2,
   "metadata": {},
   "outputs": [
    {
     "data": {
      "text/html": [
       "Under these <a href=\"presumptions.txt\">presumptions</a>, we begin our proof of<br><strong id=\"mult_1_2\">mult_1_2:</strong> <a class=\"ProveItLink\" href=\"../../../__pv_it/theorems/49a63124542130bc14c08760bd50550b55349aa90/expr.ipynb\"><img src=\"data:image/png;base64,iVBORw0KGgoAAAANSUhEUgAAAFcAAAAUBAMAAAAKKrydAAAAMFBMVEX////MzMxUVFR2dna6uroQ\n",
       "EBCqqqqIiIgiIiJmZmYyMjJERETu7u6YmJjc3NwAAACgK8IjAAAAAXRSTlMAQObYZgAAAR5JREFU\n",
       "KM91k71KA0EURk9MMGvchH0EwcZuAxYhVpY+gIKdlYWNvZWp0rrYBSzELhbmAURZBEGw0CfQKVMK\n",
       "WtjF+ZFMcmf2wsDM4ezu3JlvofNOUKdU1OvyMh3dZ6woaVkMd3ocl3P6RP2H9FrKFtMuSDdzL1/B\n",
       "AfSk7HBivvjp5UPIFc9SdnjKsjwpyTNau0J2+EzIui5K6kV4Eho/BHLjW3diO9y5NTX2eOjl1NFk\n",
       "A1YHwYsN3vfymzuwkR61r0A2eEE2z0KziMoWD+WeT+goGgO/5xuPZYO1Lk313+BCOdw303MvT7f7\n",
       "W7DWFbLDe3p2eTSeR28ym/1CK5OXYnGiYlF8iSe0XcRoryLPjxEWRjQeflvrqkKO/VYfcfUPPMlb\n",
       "/kJbLj4AAAAASUVORK5CYII=\n",
       "\" style=\"display:inline;vertical-align:middle;\" /></a><br>(see <a class=\"ProveItLink\" href=\"../../../__pv_it/theorems/84bcb9d1c9c5fec5fca67037ba70c9007d0be87f0/dependencies.ipynb\">dependencies</a>)<br>"
      ],
      "text/plain": [
       "mult_1_2: (1 * 2) = 2"
      ]
     },
     "execution_count": 2,
     "metadata": {},
     "output_type": "execute_result"
    }
   ],
   "source": [
    "%proving mult_1_2"
   ]
  },
  {
   "cell_type": "code",
   "execution_count": null,
   "metadata": {},
   "outputs": [],
   "source": []
  }
 ],
 "metadata": {
  "kernelspec": {
   "display_name": "Python 3",
   "language": "python",
   "name": "python3"
  }
 },
 "nbformat": 4,
 "nbformat_minor": 0
}