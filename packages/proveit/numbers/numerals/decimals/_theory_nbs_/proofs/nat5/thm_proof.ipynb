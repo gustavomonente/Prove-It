{
 "cells": [
  {
   "cell_type": "markdown",
   "metadata": {},
   "source": [
    "Proof of <a class=\"ProveItLink\" href=\"../../../../../../_theory_nbs_/theory.ipynb\">proveit</a>.<a class=\"ProveItLink\" href=\"../../../../../_theory_nbs_/theory.ipynb\">numbers</a>.<a class=\"ProveItLink\" href=\"../../../../_theory_nbs_/theory.ipynb\">numerals</a>.<a class=\"ProveItLink\" href=\"../../theory.ipynb\">decimals</a>.<a class=\"ProveItLink\" href=\"../../theorems.ipynb#nat5\">nat5</a> theorem\n",
    "========"
   ]
  },
  {
   "cell_type": "code",
   "execution_count": 1,
   "metadata": {},
   "outputs": [],
   "source": [
    "import proveit\n",
    "theory = proveit.Theory() # the theorem's theory"
   ]
  },
  {
   "cell_type": "code",
   "execution_count": 2,
   "metadata": {},
   "outputs": [
    {
     "data": {
      "text/html": [
       "Under these <a href=\"presumptions.txt\">presumptions</a>, we begin our proof of<br><strong id=\"nat5\">nat5:</strong> <a class=\"ProveItLink\" href=\"../../../__pv_it/theorems/8b108f3422722c0594eca1890e0582d15921cf570/expr.ipynb\"><img src=\"data:image/png;base64,iVBORw0KGgoAAAANSUhEUgAAADIAAAAPBAMAAABU9YHxAAAAMFBMVEX///8iIiK6urpERETc3NyI\n",
       "iIhUVFR2dnYQEBCqqqpmZmbMzMzu7u6YmJgyMjIAAABZcJOfAAAAAXRSTlMAQObYZgAAANpJREFU\n",
       "GNNj4LvDvZIBGfC8N37DwN7fxMDx/38BigwD84VtDAznGRj4ykJQJRjYpFkDGDiANFzksqDgA7CM\n",
       "8oFsBkYkmc0xMD3eCecOgGTuRm0AW/wGbprDVO4EoAzzAZZPED5Chl3hKiOYaQh2EcIFDgw5bBvB\n",
       "zPUg5TveAcEDqMwxhhcMDHkMDPUKQL4zsh7ugh0MDH1APQeAfA5kGYabQMMXMDDIgfhcAXAZoFvZ\n",
       "gUZ4MfC2gAUkYTJ8E4DEOgYGluVZB8ACx4wgNLd8M5A8hxxe6oaQ0IECADzbM1HlfW9lAAAAAElF\n",
       "TkSuQmCC\n",
       "\" style=\"display:inline;vertical-align:middle;\" /></a><br>(see <a class=\"ProveItLink\" href=\"../../../__pv_it/theorems/f2a6294bac39a06c0a16ab9f6192d1bc2a83e43e0/dependencies.ipynb\">dependencies</a>)<br>"
      ],
      "text/plain": [
       "nat5: 5 in Natural"
      ]
     },
     "execution_count": 2,
     "metadata": {},
     "output_type": "execute_result"
    }
   ],
   "source": [
    "%proving nat5"
   ]
  },
  {
   "cell_type": "code",
   "execution_count": null,
   "metadata": {},
   "outputs": [],
   "source": []
  }
 ],
 "metadata": {
  "kernelspec": {
   "display_name": "Python 3",
   "language": "python",
   "name": "python3"
  }
 },
 "nbformat": 4,
 "nbformat_minor": 0
}