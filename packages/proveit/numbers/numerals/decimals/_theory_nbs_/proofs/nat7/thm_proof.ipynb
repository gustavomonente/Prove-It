{
 "cells": [
  {
   "cell_type": "markdown",
   "metadata": {},
   "source": [
    "Proof of <a class=\"ProveItLink\" href=\"../../../../../../_theory_nbs_/theory.ipynb\">proveit</a>.<a class=\"ProveItLink\" href=\"../../../../../_theory_nbs_/theory.ipynb\">numbers</a>.<a class=\"ProveItLink\" href=\"../../../../_theory_nbs_/theory.ipynb\">numerals</a>.<a class=\"ProveItLink\" href=\"../../theory.ipynb\">decimals</a>.<a class=\"ProveItLink\" href=\"../../theorems.ipynb#nat7\">nat7</a> theorem\n",
    "========"
   ]
  },
  {
   "cell_type": "code",
   "execution_count": 1,
   "metadata": {},
   "outputs": [],
   "source": [
    "import proveit\n",
    "theory = proveit.Theory() # the theorem's theory"
   ]
  },
  {
   "cell_type": "code",
   "execution_count": 2,
   "metadata": {},
   "outputs": [
    {
     "data": {
      "text/html": [
       "Under these <a href=\"presumptions.txt\">presumptions</a>, we begin our proof of<br><strong id=\"nat7\">nat7:</strong> <a class=\"ProveItLink\" href=\"../../../__pv_it/theorems/e5b294bb7509e024be4987f5fa96017552f0886d0/expr.ipynb\"><img src=\"data:image/png;base64,iVBORw0KGgoAAAANSUhEUgAAADIAAAAPBAMAAABU9YHxAAAAMFBMVEX///8QEBCqqqoyMjLu7u5E\n",
       "RESIiIi6urrc3NyYmJh2dnZmZmZUVFQiIiLMzMwAAABzPQ5hAAAAAXRSTlMAQObYZgAAANRJREFU\n",
       "GNNjeHt61aoFDEiAxT7UhIFLXpxh/v///w8gyzCwTnjDwODPwLCDgYEHRYKB5x5bAgMjAwPQpHUQ\n",
       "kal37xqAZUodzjHwgljsCWCJpykwPX0HnB3AMqwQi03gpjWo8R0Ay6yE8hEyXAXTQDIsHxgQOqFq\n",
       "jvC8BTLYwNYyPDQGAgOojA+DIZDBGwCWaUXWw7fgIZDBD/EnI7IMwySQ4e83gPncCXCZBwwMXCAj\n",
       "9KGhdgkmw6wAJDYDcaMCRMAn3AFM890XBZLOyOFVFQsJHSgAAPcDMJwAY2v2AAAAAElFTkSuQmCC\n",
       "\" style=\"display:inline;vertical-align:middle;\" /></a><br>(see <a class=\"ProveItLink\" href=\"../../../__pv_it/theorems/417dd5292c5094c70e29f9b5ceb186ddf2e63a650/dependencies.ipynb\">dependencies</a>)<br>"
      ],
      "text/plain": [
       "nat7: 7 in Natural"
      ]
     },
     "execution_count": 2,
     "metadata": {},
     "output_type": "execute_result"
    }
   ],
   "source": [
    "%proving nat7"
   ]
  },
  {
   "cell_type": "code",
   "execution_count": null,
   "metadata": {},
   "outputs": [],
   "source": []
  }
 ],
 "metadata": {
  "kernelspec": {
   "display_name": "Python 3",
   "language": "python",
   "name": "python3"
  }
 },
 "nbformat": 4,
 "nbformat_minor": 0
}