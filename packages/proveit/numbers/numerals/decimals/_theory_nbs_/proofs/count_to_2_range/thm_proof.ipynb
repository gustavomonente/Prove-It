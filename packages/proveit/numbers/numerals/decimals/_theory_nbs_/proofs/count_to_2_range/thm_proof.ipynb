{
 "cells": [
  {
   "cell_type": "markdown",
   "metadata": {},
   "source": [
    "Proof of <a class=\"ProveItLink\" href=\"../../../../../../_theory_nbs_/theory.ipynb\">proveit</a>.<a class=\"ProveItLink\" href=\"../../../../../_theory_nbs_/theory.ipynb\">numbers</a>.<a class=\"ProveItLink\" href=\"../../../../_theory_nbs_/theory.ipynb\">numerals</a>.<a class=\"ProveItLink\" href=\"../../theory.ipynb\">decimals</a>.<a class=\"ProveItLink\" href=\"../../theorems.ipynb#count_to_2_range\">count_to_2_range</a> theorem\n",
    "========"
   ]
  },
  {
   "cell_type": "code",
   "execution_count": 1,
   "metadata": {},
   "outputs": [],
   "source": [
    "import proveit\n",
    "theory = proveit.Theory() # the theorem's theory"
   ]
  },
  {
   "cell_type": "code",
   "execution_count": 2,
   "metadata": {},
   "outputs": [
    {
     "data": {
      "text/html": [
       "Under these <a href=\"presumptions.txt\">presumptions</a>, we begin our proof of<br><strong id=\"count_to_2_range\">count_to_2_range:</strong> <a class=\"ProveItLink\" href=\"../../../__pv_it/theorems/123086663d984c1adb779b4da88ed81633729a300/expr.ipynb\"><img src=\"data:image/png;base64,iVBORw0KGgoAAAANSUhEUgAAAJkAAAAUBAMAAABsXIKPAAAAMFBMVEX////MzMxUVFR2dna6uroQ\n",
       "EBCqqqqIiIgiIiJmZmYyMjJERETu7u6YmJjc3NwAAACgK8IjAAAAAXRSTlMAQObYZgAAAbtJREFU\n",
       "OMudlL9Lw0AUx79t+ttUCv4BFlycbKGDdLKjmx0quDkJCiKuXTQoFAfBUKeiQwUXHRRnqQRB/NHB\n",
       "zg6asZMoOogU490lHLnLYdQvXHgcn7y79969Bwz3ICphI6AApNAK/XT9O7d7Z8BEkOz+7EhvnecQ\n",
       "pbc4IWvB8nbzmKrgLoj7IYUuob1DbwNZE/pYwQPTFuJVaKsyLUAK7QOzwCSQovd78sC4gegX9KpM\n",
       "C5BCc0DBxhXQhw/MDBB9BQ5lWoAUOrVQyCFTQV0CUwOgLNP1EG9EOxY0Ex0JnCkCD9TQjplMandC\n",
       "vcXeSHbbaEjgBlmLMtsI9ZbKk4dqoCaCaXqXUZmthXprkRV5kUGWob97S5quNzGIhIlnYNqXt/yv\n",
       "Il3CsI2YISV4BFjzquBXWBUiRSRtWgX2GtYt6J+0uTdLTQPYlWkBYp/7ts9Av1QeJzkvsqia80c9\n",
       "bJGjM47jEG8HsjcBYmWnNXSNbfp6HeeD/J1zm4aljAeiG8rOEiGuZW7dsIZ2pfFdZdfLEFeRW6Tr\n",
       "ceHZ13xXMZGCEA+EH00nEh+EvcCvimkZHMFZbg3ZqiGd/eckfwS+ARMVl4jx7layAAAAAElFTkSu\n",
       "QmCC\n",
       "\" style=\"display:inline;vertical-align:middle;\" /></a><br>(see <a class=\"ProveItLink\" href=\"../../../__pv_it/theorems/8e6065a17a17da1328d827b935b69e9970122cfc0/dependencies.ipynb\">dependencies</a>)<br>"
      ],
      "text/plain": [
       "count_to_2_range: (1, 2) = (1, ..k.., 2)"
      ]
     },
     "execution_count": 2,
     "metadata": {},
     "output_type": "execute_result"
    }
   ],
   "source": [
    "%proving count_to_2_range"
   ]
  },
  {
   "cell_type": "code",
   "execution_count": null,
   "metadata": {},
   "outputs": [],
   "source": []
  }
 ],
 "metadata": {
  "kernelspec": {
   "display_name": "Python 3",
   "language": "python",
   "name": "python3"
  }
 },
 "nbformat": 4,
 "nbformat_minor": 0
}