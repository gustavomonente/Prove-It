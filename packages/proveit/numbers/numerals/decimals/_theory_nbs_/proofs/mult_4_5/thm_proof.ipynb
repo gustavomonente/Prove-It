{
 "cells": [
  {
   "cell_type": "markdown",
   "metadata": {},
   "source": [
    "Proof of <a class=\"ProveItLink\" href=\"../../../../../../_theory_nbs_/theory.ipynb\">proveit</a>.<a class=\"ProveItLink\" href=\"../../../../../_theory_nbs_/theory.ipynb\">numbers</a>.<a class=\"ProveItLink\" href=\"../../../../_theory_nbs_/theory.ipynb\">numerals</a>.<a class=\"ProveItLink\" href=\"../../theory.ipynb\">decimals</a>.<a class=\"ProveItLink\" href=\"../../theorems.ipynb#mult_4_5\">mult_4_5</a> theorem\n",
    "========"
   ]
  },
  {
   "cell_type": "code",
   "execution_count": 1,
   "metadata": {},
   "outputs": [],
   "source": [
    "import proveit\n",
    "theory = proveit.Theory() # the theorem's theory"
   ]
  },
  {
   "cell_type": "code",
   "execution_count": 2,
   "metadata": {},
   "outputs": [
    {
     "data": {
      "text/html": [
       "Under these <a href=\"presumptions.txt\">presumptions</a>, we begin our proof of<br><strong id=\"mult_4_5\">mult_4_5:</strong> <a class=\"ProveItLink\" href=\"../../../__pv_it/theorems/328eebae4069c8fa7ec67d4b318c197318389ec30/expr.ipynb\"><img src=\"data:image/png;base64,iVBORw0KGgoAAAANSUhEUgAAAGEAAAAUBAMAAABvx07iAAAAMFBMVEX///9UVFTMzMx2dna6uroQ\n",
       "EBCqqqqIiIgiIiJmZmYyMjJERETu7u6YmJjc3NwAAAC+aOQFAAAAAXRSTlMAQObYZgAAAZBJREFU\n",
       "KM99kz1Iw2AQht/+aGObhI4qSLM6NeIQWgc7uomiIAoSRxdbxy5SFwcHLQhKQFBHHRQ3oSgREQUF\n",
       "BXHzJ2MdBKUVdIqXpE3Kl5Abjtxdnu/u/X4A8RE+W0KY3Vlu0A2TL9FtRAz2L16rSYDyRA7HVmLV\n",
       "LXWZpgx+nyUuEWsiqfIbgFClODHh9RhaIa+wxC4wjWcgD3DWAJ8Hbili+2uWmAEyxilQ1FG3Ypkl\n",
       "kgWGONGRkb6BcRVlCgWjg3gtk7pY1b9Fm/d/RJRwTt838IiULjZpDVt6/siyQ6cQb4gNIFvCmjWU\n",
       "Q/At6AzorvhacGmRemRlTFFZcoiH1p7uGYh++QgNvDMVEVdwCC5Nrh8YLQQQCVJGyouqNdWCpv3s\n",
       "tCuz1ENHvOLpcDQuQjRqwLtuKwe8E6Sl1tvKOywqI2E4J5izE3Nu6QPCPNAjM0R9ONcLTuUngTEr\n",
       "HjEH2iVxq0+nE5TYEzTNX/DKstS6JT67DbnsQjUoq4S9j4uAnP+2+14UYykjjAh6tW8h//8DhsZn\n",
       "ojyTmscAAAAASUVORK5CYII=\n",
       "\" style=\"display:inline;vertical-align:middle;\" /></a><br>(see <a class=\"ProveItLink\" href=\"../../../__pv_it/theorems/feec4a5bb5e33285d3b656201dc3e5259208f9670/dependencies.ipynb\">dependencies</a>)<br>"
      ],
      "text/plain": [
       "mult_4_5: (4 * 5) = 20"
      ]
     },
     "execution_count": 2,
     "metadata": {},
     "output_type": "execute_result"
    }
   ],
   "source": [
    "%proving mult_4_5"
   ]
  },
  {
   "cell_type": "code",
   "execution_count": null,
   "metadata": {},
   "outputs": [],
   "source": []
  }
 ],
 "metadata": {
  "kernelspec": {
   "display_name": "Python 3",
   "language": "python",
   "name": "python3"
  }
 },
 "nbformat": 4,
 "nbformat_minor": 0
}