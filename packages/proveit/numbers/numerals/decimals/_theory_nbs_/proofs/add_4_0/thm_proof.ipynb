{
 "cells": [
  {
   "cell_type": "markdown",
   "metadata": {},
   "source": [
    "Proof of <a class=\"ProveItLink\" href=\"../../../../../../_theory_nbs_/theory.ipynb\">proveit</a>.<a class=\"ProveItLink\" href=\"../../../../../_theory_nbs_/theory.ipynb\">numbers</a>.<a class=\"ProveItLink\" href=\"../../../../_theory_nbs_/theory.ipynb\">numerals</a>.<a class=\"ProveItLink\" href=\"../../theory.ipynb\">decimals</a>.<a class=\"ProveItLink\" href=\"../../theorems.ipynb#add_4_0\">add_4_0</a> theorem\n",
    "========"
   ]
  },
  {
   "cell_type": "code",
   "execution_count": 1,
   "metadata": {},
   "outputs": [],
   "source": [
    "import proveit\n",
    "theory = proveit.Theory() # the theorem's theory"
   ]
  },
  {
   "cell_type": "code",
   "execution_count": 2,
   "metadata": {},
   "outputs": [
    {
     "data": {
      "text/html": [
       "Under these <a href=\"presumptions.txt\">presumptions</a>, we begin our proof of<br><strong id=\"add_4_0\">add_4_0:</strong> <a class=\"ProveItLink\" href=\"../../../__pv_it/theorems/65dbeb86aa13a2a97d13e08ef06c36bd0f0564480/expr.ipynb\"><img src=\"data:image/png;base64,iVBORw0KGgoAAAANSUhEUgAAAGEAAAAUBAMAAABvx07iAAAAMFBMVEX///9UVFTMzMx2dna6uroQ\n",
       "EBCqqqqIiIgiIiJmZmYyMjJERETu7u6YmJjc3NwAAAC+aOQFAAAAAXRSTlMAQObYZgAAAVVJREFU\n",
       "KM91ky9Mw1AQxj9WKKW812ARJLWo1S0Mg8QRCIZgCmaOFYHADQGSzJEqmK0goAmwhBBIQCwhGMSo\n",
       "xJCwEAQK7rVj7P3pidev994vd5e7A7wOzLZV4MeDOGYVZ+XJx0iqPy416TgVak++cEN2CHaiE84U\n",
       "wAU1vtz31PLPM1ClQDqxQ4QjYr+3ZOIcqLdxqwHeCxFvQgUK0QOWQrgLKmG5ROyS4KlMsG8iIlhN\n",
       "legK4pLEHWTC+wTKEXhWupVkJmgWCeJAJKUSFKMcwG6oSUEQq4Dt50Q1SfaTpDXIqvShEJt/xA2g\n",
       "V14PNYIF6Ge1EcdfRxJxAby2MdoYqoOe2tPx8VqUVQ4YO8j1po8ROJepdZlwQrYCTAQ6cQYsCjH/\n",
       "MyMRrLLt03T5Wgeve518SgZWG/65Nw87lxr7KI18wX5cFS2Oadr/N8pkk2nBReHWds3uX6AWV8Nc\n",
       "lJ2jAAAAAElFTkSuQmCC\n",
       "\" style=\"display:inline;vertical-align:middle;\" /></a><br>(see <a class=\"ProveItLink\" href=\"../../../__pv_it/theorems/c8e2dc6fe13682475050667317c90963e1fd78440/dependencies.ipynb\">dependencies</a>)<br>"
      ],
      "text/plain": [
       "add_4_0: (4 + 0) = 4"
      ]
     },
     "execution_count": 2,
     "metadata": {},
     "output_type": "execute_result"
    }
   ],
   "source": [
    "%proving add_4_0"
   ]
  },
  {
   "cell_type": "code",
   "execution_count": null,
   "metadata": {},
   "outputs": [],
   "source": []
  }
 ],
 "metadata": {
  "kernelspec": {
   "display_name": "Python 3",
   "language": "python",
   "name": "python3"
  }
 },
 "nbformat": 4,
 "nbformat_minor": 0
}