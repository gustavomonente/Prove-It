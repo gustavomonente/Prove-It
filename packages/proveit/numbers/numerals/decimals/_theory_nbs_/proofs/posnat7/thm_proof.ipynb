{
 "cells": [
  {
   "cell_type": "markdown",
   "metadata": {},
   "source": [
    "Proof of <a class=\"ProveItLink\" href=\"../../../../../../_theory_nbs_/theory.ipynb\">proveit</a>.<a class=\"ProveItLink\" href=\"../../../../../_theory_nbs_/theory.ipynb\">numbers</a>.<a class=\"ProveItLink\" href=\"../../../../_theory_nbs_/theory.ipynb\">numerals</a>.<a class=\"ProveItLink\" href=\"../../theory.ipynb\">decimals</a>.<a class=\"ProveItLink\" href=\"../../theorems.ipynb#posnat7\">posnat7</a> theorem\n",
    "========"
   ]
  },
  {
   "cell_type": "code",
   "execution_count": 1,
   "metadata": {},
   "outputs": [],
   "source": [
    "import proveit\n",
    "theory = proveit.Theory() # the theorem's theory"
   ]
  },
  {
   "cell_type": "code",
   "execution_count": 2,
   "metadata": {},
   "outputs": [
    {
     "data": {
      "text/html": [
       "Under these <a href=\"presumptions.txt\">presumptions</a>, we begin our proof of<br><strong id=\"posnat7\">posnat7:</strong> <a class=\"ProveItLink\" href=\"../../../__pv_it/theorems/cd60e43dc1341cb94d12f9699afbff3d8847c09d0/expr.ipynb\"><img src=\"data:image/png;base64,iVBORw0KGgoAAAANSUhEUgAAAD4AAAAUBAMAAAAn2JMnAAAAMFBMVEX///8QEBCqqqoyMjLu7u5E\n",
       "RESIiIi6urrc3NyYmJh2dnZmZmZUVFQiIiLMzMwAAABzPQ5hAAAAAXRSTlMAQObYZgAAAOdJREFU\n",
       "KM9jYKAAHCAgH0AF+benV61agCzIYh9qwsAlLw6Vn////39Ud7BOeMPA4M/AY2wsbGzJsIOBgQfV\n",
       "VJ57bAkMjDDzgWavg4hzxt69DJYvdTjHwItwH3sCmOILc4Dq7zvg7IAkzwoRdnaAmd+gxncASX4l\n",
       "RPgE3P4GroJpCHmWD2iBwdPAcITnLYjVACLYDCDWCxsDAVTeh8EQ7h1eiEYOZP18Cx7C5fmhoSOA\n",
       "JM8wiRUu/34DhN4Gl3/AwMDVCpfXh4Y+rwJUgBnE2AyXb4SKsxwtgTj0vigoNDBjk30pJHxRAADd\n",
       "SzTLH9oSYwAAAABJRU5ErkJggg==\n",
       "\" style=\"display:inline;vertical-align:middle;\" /></a><br>(see <a class=\"ProveItLink\" href=\"../../../__pv_it/theorems/fc38d7a2b92f412caa56705a0e1ae254b69f2ffe0/dependencies.ipynb\">dependencies</a>)<br>"
      ],
      "text/plain": [
       "posnat7: 7 in NaturalPos"
      ]
     },
     "execution_count": 2,
     "metadata": {},
     "output_type": "execute_result"
    }
   ],
   "source": [
    "%proving posnat7"
   ]
  },
  {
   "cell_type": "code",
   "execution_count": null,
   "metadata": {},
   "outputs": [],
   "source": []
  }
 ],
 "metadata": {
  "kernelspec": {
   "display_name": "Python 3",
   "language": "python",
   "name": "python3"
  }
 },
 "nbformat": 4,
 "nbformat_minor": 0
}