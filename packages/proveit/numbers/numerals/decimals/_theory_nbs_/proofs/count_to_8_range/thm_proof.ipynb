{
 "cells": [
  {
   "cell_type": "markdown",
   "metadata": {},
   "source": [
    "Proof of <a class=\"ProveItLink\" href=\"../../../../../../_theory_nbs_/theory.ipynb\">proveit</a>.<a class=\"ProveItLink\" href=\"../../../../../_theory_nbs_/theory.ipynb\">numbers</a>.<a class=\"ProveItLink\" href=\"../../../../_theory_nbs_/theory.ipynb\">numerals</a>.<a class=\"ProveItLink\" href=\"../../theory.ipynb\">decimals</a>.<a class=\"ProveItLink\" href=\"../../theorems.ipynb#count_to_8_range\">count_to_8_range</a> theorem\n",
    "========"
   ]
  },
  {
   "cell_type": "code",
   "execution_count": 1,
   "metadata": {},
   "outputs": [],
   "source": [
    "import proveit\n",
    "theory = proveit.Theory() # the theorem's theory"
   ]
  },
  {
   "cell_type": "code",
   "execution_count": 2,
   "metadata": {},
   "outputs": [
    {
     "data": {
      "text/html": [
       "Under these <a href=\"presumptions.txt\">presumptions</a>, we begin our proof of<br><strong id=\"count_to_8_range\">count_to_8_range:</strong> <a class=\"ProveItLink\" href=\"../../../__pv_it/theorems/0a569f07249602cb038b7670f3e83796fae4eca40/expr.ipynb\"><img src=\"data:image/png;base64,iVBORw0KGgoAAAANSUhEUgAAAQ4AAAAUBAMAAACOpc7fAAAAMFBMVEX////MzMxUVFR2dna6uroQ\n",
       "EBCqqqqIiIgiIiJmZmYyMjJERETu7u6YmJjc3NwAAACgK8IjAAAAAXRSTlMAQObYZgAAAzBJREFU\n",
       "SMetVs1rE0EUf8120yTd3Rb7BzQgPVTQxgZET/ZmPbWHUFDEj4OgIFiQIvFglxSKaA+hsUL9oBV6\n",
       "UYpEUBGkdfEitofuufhR8KIXwapF0+g6M29mdrOzSat0CNkfM+/33m9m3rwZAMuFHWvxNbVvG/4Z\n",
       "bTnY8+bOY44+Zp+JzqYiflNvm27xLu3yfhwqlLJZ7Hp96SbAPjXIcmMNkvaICjqBnUYaDvfhLIpw\n",
       "UUwkkcav7nkZbjcHtxkwPc9bx74ixE7DkhqI+j/r1NUhaCaZ7KveKnYmHdAHGWrZgDabm45wHane\n",
       "q7yntQgvkEBWFEfjLhizoA2H4xD/xu6eujokLUH3xuQ6dBtifxhqzkHbLN/gVa4jJtkDIg808mtH\n",
       "VAbDBmMwHIj5/1BXh6R9goCOVBViX4WJ2Bctpeh4GvB0BD/Nm45GCHPhQMx/fR2Slg/qoPoFNMY4\n",
       "eC91vMvj3KHSke8ThDL/9vw+QP4PhQPlG+uQtIWQjgGeitbBu1zPsNDR6ljfsaviwrhYWJHNmjdP\n",
       "/lcZfMgaO2YLW+gQtPGQjoJEI308BYQO0p6jDg9girteEUPn+38QwrlwnPEtdAharlZHsigtdDzM\n",
       "Z4I6ZjBBfxLXfGOuiHORhlFC6AzHyTXWIWkhHXlRBdegdYPNPSN17AFRXa4T13w/bgjVDjRt/LsO\n",
       "Savdl3gRvjDQVuU64t3TM8ewKhwn64EOu/z14FWM7c9egP5AfqS3sS+SVpunHQBYq/Syf3L0tCh9\n",
       "dCFo63Rgitf8X8KI7Ngiz9Ng2yJPJY0dtBYScoWULWssO2kbFarMJfWDIaaJDsJnME8iimWMIUTx\n",
       "b/T40EIwDyZZtlI4EPM/6qAR+6M8CSSNLmSyq3IPEhOkjpHrwoZrVP3R6SeASHu57tJBsErdDjMj\n",
       "3nvbEVlDwM12lciFBffDOqj/yVMPXDQqiOuKgYkALSGv6guy5jsqkoNRyDcz7Mi6XmukOiA0Ux7U\n",
       "DPiXhoIyjVCAEHXPhY0iHAyzLOF1Uz4JQEH+YBTyCRH3/qJipDpYCrxTTDnuqsgfjEKuEjTiHaQ+\n",
       "y8wa2k6+C83/excS2l8qmA1zRkzfEwAAAABJRU5ErkJggg==\n",
       "\" style=\"display:inline;vertical-align:middle;\" /></a><br>(see <a class=\"ProveItLink\" href=\"../../../__pv_it/theorems/aa299452bd37a307ca15f95593b3461cb623e7340/dependencies.ipynb\">dependencies</a>)<br>"
      ],
      "text/plain": [
       "count_to_8_range: (1, 2, 3, 4, 5, 6, 7, 8) = (1, ..k.., 8)"
      ]
     },
     "execution_count": 2,
     "metadata": {},
     "output_type": "execute_result"
    }
   ],
   "source": [
    "%proving count_to_8_range"
   ]
  },
  {
   "cell_type": "code",
   "execution_count": null,
   "metadata": {},
   "outputs": [],
   "source": []
  }
 ],
 "metadata": {
  "kernelspec": {
   "display_name": "Python 3",
   "language": "python",
   "name": "python3"
  }
 },
 "nbformat": 4,
 "nbformat_minor": 0
}