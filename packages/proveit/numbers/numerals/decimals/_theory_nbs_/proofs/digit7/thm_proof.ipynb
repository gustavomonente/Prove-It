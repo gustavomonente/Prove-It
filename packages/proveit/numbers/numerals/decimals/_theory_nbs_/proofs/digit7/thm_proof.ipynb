{
 "cells": [
  {
   "cell_type": "markdown",
   "metadata": {},
   "source": [
    "Proof of <a class=\"ProveItLink\" href=\"../../../../../../_theory_nbs_/theory.ipynb\">proveit</a>.<a class=\"ProveItLink\" href=\"../../../../../_theory_nbs_/theory.ipynb\">numbers</a>.<a class=\"ProveItLink\" href=\"../../../../_theory_nbs_/theory.ipynb\">numerals</a>.<a class=\"ProveItLink\" href=\"../../theory.ipynb\">decimals</a>.<a class=\"ProveItLink\" href=\"../../theorems.ipynb#digit7\">digit7</a> theorem\n",
    "========"
   ]
  },
  {
   "cell_type": "code",
   "execution_count": 1,
   "metadata": {},
   "outputs": [],
   "source": [
    "import proveit\n",
    "theory = proveit.Theory() # the theorem's theory"
   ]
  },
  {
   "cell_type": "code",
   "execution_count": 2,
   "metadata": {},
   "outputs": [
    {
     "data": {
      "text/html": [
       "Under these <a href=\"presumptions.txt\">presumptions</a>, we begin our proof of<br><strong id=\"digit7\">digit7:</strong> <a class=\"ProveItLink\" href=\"../../../__pv_it/theorems/c9e1de133744eb505166fc1b3a34226b61675d3e0/expr.ipynb\"><img src=\"data:image/png;base64,iVBORw0KGgoAAAANSUhEUgAAAEcAAAAVBAMAAADm2O7QAAAAMFBMVEX///8QEBCqqqoyMjLu7u5E\n",
       "RESIiIi6urrc3NyYmJh2dnZmZmZUVFQiIiLMzMwAAABzPQ5hAAAAAXRSTlMAQObYZgAAATxJREFU\n",
       "KM9jYCAAmHYtIKQigGEOQzYBNWYMDOIM/Q741HBaMjBw/GDgL8Cjhg2ohoHlHwO/Am417JfAlDjD\n",
       "+wkMb0+vWoXifhb7UBMGLnlxlqVga1QZ5hcwzP////8BFCNYJ7xhYPAHql4Ksocv7X0Dww4GBh5U\n",
       "e3jusSUwMIJYyUBVDgylDAxAq9ZBJKfevWsAVlTqcI6BFyw0eQJDGEMc2IUJYIGnKTCT+g44O0AU\n",
       "MagwlGU1gN0Aca8J3LoGNb4DvGh+XQmVQijiKpiGpojlAwPCPKjyIzxvGZhCgSAEFrBg1zI8NAYC\n",
       "A6giHwZDVJN4A8BUK7JJfAseoirihwQlI7IihkmsqIrebwBT3AlwRQ8YGLhaURXpQ2PuEkyAGRQb\n",
       "m1EVNUJTgk84JHHx3RcFks440kZVLCRaMAEAKOJFRWrOm5kAAAAASUVORK5CYII=\n",
       "\" style=\"display:inline;vertical-align:middle;\" /></a><br>(see <a class=\"ProveItLink\" href=\"../../../__pv_it/theorems/64899997c1a2a1d4cbec1530b712fd198a77684b0/dependencies.ipynb\">dependencies</a>)<br>"
      ],
      "text/plain": [
       "digit7: 7 in Digits"
      ]
     },
     "execution_count": 2,
     "metadata": {},
     "output_type": "execute_result"
    }
   ],
   "source": [
    "%proving digit7"
   ]
  },
  {
   "cell_type": "code",
   "execution_count": null,
   "metadata": {},
   "outputs": [],
   "source": []
  }
 ],
 "metadata": {
  "kernelspec": {
   "display_name": "Python 3",
   "language": "python",
   "name": "python3"
  }
 },
 "nbformat": 4,
 "nbformat_minor": 0
}