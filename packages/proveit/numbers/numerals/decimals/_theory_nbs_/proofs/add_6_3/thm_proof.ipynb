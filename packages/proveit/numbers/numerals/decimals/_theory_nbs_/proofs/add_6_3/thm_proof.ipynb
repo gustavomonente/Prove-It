{
 "cells": [
  {
   "cell_type": "markdown",
   "metadata": {},
   "source": [
    "Proof of <a class=\"ProveItLink\" href=\"../../../../../../_theory_nbs_/theory.ipynb\">proveit</a>.<a class=\"ProveItLink\" href=\"../../../../../_theory_nbs_/theory.ipynb\">numbers</a>.<a class=\"ProveItLink\" href=\"../../../../_theory_nbs_/theory.ipynb\">numerals</a>.<a class=\"ProveItLink\" href=\"../../theory.ipynb\">decimals</a>.<a class=\"ProveItLink\" href=\"../../theorems.ipynb#add_6_3\">add_6_3</a> theorem\n",
    "========"
   ]
  },
  {
   "cell_type": "code",
   "execution_count": 1,
   "metadata": {},
   "outputs": [],
   "source": [
    "import proveit\n",
    "theory = proveit.Theory() # the theorem's theory"
   ]
  },
  {
   "cell_type": "code",
   "execution_count": 2,
   "metadata": {},
   "outputs": [
    {
     "data": {
      "text/html": [
       "Under these <a href=\"presumptions.txt\">presumptions</a>, we begin our proof of<br><strong id=\"add_6_3\">add_6_3:</strong> <a class=\"ProveItLink\" href=\"../../../__pv_it/theorems/e0a6fb962187ce67d40fa6158e1cf11101c063cf0/expr.ipynb\"><img src=\"data:image/png;base64,iVBORw0KGgoAAAANSUhEUgAAAGEAAAAUBAMAAABvx07iAAAAMFBMVEX///9UVFTMzMx2dna6uroQ\n",
       "EBCqqqqIiIgiIiJmZmYyMjJERETu7u6YmJjc3NwAAAC+aOQFAAAAAXRSTlMAQObYZgAAAYJJREFU\n",
       "KM91k71Lw2AQxp9+UJOmqaI4ONk/oeJQqkOzCI4ddNEO2TopopMudlFwslAXcamOAT9WB/VdCqUK\n",
       "dnFUAi66SAcHUave2xTNeyYHIXnv8stzl7sD0m0E23KIH9d05dYyii89OW0j4vJXU7UJ6TsBWpZe\n",
       "V0LPSHSRqnOi0U6XALMKnMM483xl77Zp442UOTEKjAGai/jXr69PzFh4p09ygnwF4AkwipyAzApJ\n",
       "i5XxQeou1oHBo9weJ5pZIFZlGgukYeECuD2GZqvE446gEnulx5yeSZpSOm1jm4gO9BLTGJijzCpM\n",
       "w1hJFGxQZLAC85UcU46z5TiHXnReINrhpS+tFjKS0Oowu4rGC3BlBxDAuJBZRYqexh/xLSQRr/jq\n",
       "GPIilAFVHv2EXlSIRWBX9Cv32Z2IUuvy9DSChvqv7nv90LOM2BAtGttZKVwbVvsR3z+g7iUzjIjl\n",
       "Zd80ZULL/kMzeNhNpbE3/kMuZD8uwxbn/7T7NirQDDckELq1D8HuH6IOZ3tXpHWFAAAAAElFTkSu\n",
       "QmCC\n",
       "\" style=\"display:inline;vertical-align:middle;\" /></a><br>(see <a class=\"ProveItLink\" href=\"../../../__pv_it/theorems/daa48f4e0b87f2e3449b89fa9d761149ae1ccce10/dependencies.ipynb\">dependencies</a>)<br>"
      ],
      "text/plain": [
       "add_6_3: (6 + 3) = 9"
      ]
     },
     "execution_count": 2,
     "metadata": {},
     "output_type": "execute_result"
    }
   ],
   "source": [
    "%proving add_6_3"
   ]
  },
  {
   "cell_type": "code",
   "execution_count": null,
   "metadata": {},
   "outputs": [],
   "source": []
  }
 ],
 "metadata": {
  "kernelspec": {
   "display_name": "Python 3",
   "language": "python",
   "name": "python3"
  }
 },
 "nbformat": 4,
 "nbformat_minor": 0
}