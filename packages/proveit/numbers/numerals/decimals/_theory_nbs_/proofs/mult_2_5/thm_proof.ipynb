{
 "cells": [
  {
   "cell_type": "markdown",
   "metadata": {},
   "source": [
    "Proof of <a class=\"ProveItLink\" href=\"../../../../../../_theory_nbs_/theory.ipynb\">proveit</a>.<a class=\"ProveItLink\" href=\"../../../../../_theory_nbs_/theory.ipynb\">numbers</a>.<a class=\"ProveItLink\" href=\"../../../../_theory_nbs_/theory.ipynb\">numerals</a>.<a class=\"ProveItLink\" href=\"../../theory.ipynb\">decimals</a>.<a class=\"ProveItLink\" href=\"../../theorems.ipynb#mult_2_5\">mult_2_5</a> theorem\n",
    "========"
   ]
  },
  {
   "cell_type": "code",
   "execution_count": 1,
   "metadata": {},
   "outputs": [],
   "source": [
    "import proveit\n",
    "theory = proveit.Theory() # the theorem's theory"
   ]
  },
  {
   "cell_type": "code",
   "execution_count": 2,
   "metadata": {},
   "outputs": [
    {
     "data": {
      "text/html": [
       "Under these <a href=\"presumptions.txt\">presumptions</a>, we begin our proof of<br><strong id=\"mult_2_5\">mult_2_5:</strong> <a class=\"ProveItLink\" href=\"../../../__pv_it/theorems/0c9592e07a23b6a9fb1d749939a7d603c22f131a0/expr.ipynb\"><img src=\"data:image/png;base64,iVBORw0KGgoAAAANSUhEUgAAAGEAAAAUBAMAAABvx07iAAAAMFBMVEX///9UVFTMzMx2dna6uroQ\n",
       "EBCqqqqIiIgiIiJmZmYyMjJERETu7u6YmJjc3NwAAAC+aOQFAAAAAXRSTlMAQObYZgAAAX5JREFU\n",
       "KM99kz1LA0EQht+LJuZj70hjoVXAH5ALFsE0prSLiJWI3C8wsUwTTgQLCzkRbETUUgshVoIoZyEo\n",
       "Fgpi58eV2ohfjXJ4zq3Zk9ytN8XA7OyzM+/uLKBdIWKziLML4Hx9Pwizt4k1KI58b/m6QH4PLI/R\n",
       "qlhMep4OthXZnJqm0wy2DKgWMjaS40GNUss/LAyclFzgBqgAaQdJE8q3SCncn0ZqqES0gbqNRzrW\n",
       "hfLWTWSrMuIVqBlo8jjtBsRdk9T1WBKCfRLRwBGPa7rI5Gztg/JcemXXtx1BaO9AsYFFHs/7jnWg\n",
       "A7oZU1JDoxpFHZN+mOFNXHbudNNB4uX/rjjREZMnNwj/caSEr7xu8K5SFp5FZopq2Og1/3RsB8Qh\n",
       "8GBz5UNASxDU35JQHq7x+4IjgLYwvBIofYI6Q8L0MNFHRNpgE8AYPZfneQGhrQ7YtFQIAZn+rw2w\n",
       "8lyBT4nEzmKGXbWkYx33P44la5Jp7/5REcs5cYTs197H7P8BHo9nLJETcKgAAAAASUVORK5CYII=\n",
       "\" style=\"display:inline;vertical-align:middle;\" /></a><br>(see <a class=\"ProveItLink\" href=\"../../../__pv_it/theorems/eeafc523405c629bb036bfdf864d482eaa1f7bfa0/dependencies.ipynb\">dependencies</a>)<br>"
      ],
      "text/plain": [
       "mult_2_5: (2 * 5) = 10"
      ]
     },
     "execution_count": 2,
     "metadata": {},
     "output_type": "execute_result"
    }
   ],
   "source": [
    "%proving mult_2_5"
   ]
  },
  {
   "cell_type": "code",
   "execution_count": null,
   "metadata": {},
   "outputs": [],
   "source": []
  }
 ],
 "metadata": {
  "kernelspec": {
   "display_name": "Python 3",
   "language": "python",
   "name": "python3"
  }
 },
 "nbformat": 4,
 "nbformat_minor": 0
}