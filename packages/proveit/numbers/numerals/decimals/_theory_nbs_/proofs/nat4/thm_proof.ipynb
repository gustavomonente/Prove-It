{
 "cells": [
  {
   "cell_type": "markdown",
   "metadata": {},
   "source": [
    "Proof of <a class=\"ProveItLink\" href=\"../../../../../../_theory_nbs_/theory.ipynb\">proveit</a>.<a class=\"ProveItLink\" href=\"../../../../../_theory_nbs_/theory.ipynb\">numbers</a>.<a class=\"ProveItLink\" href=\"../../../../_theory_nbs_/theory.ipynb\">numerals</a>.<a class=\"ProveItLink\" href=\"../../theory.ipynb\">decimals</a>.<a class=\"ProveItLink\" href=\"../../theorems.ipynb#nat4\">nat4</a> theorem\n",
    "========"
   ]
  },
  {
   "cell_type": "code",
   "execution_count": 1,
   "metadata": {},
   "outputs": [],
   "source": [
    "import proveit\n",
    "theory = proveit.Theory() # the theorem's theory"
   ]
  },
  {
   "cell_type": "code",
   "execution_count": 2,
   "metadata": {},
   "outputs": [
    {
     "data": {
      "text/html": [
       "Under these <a href=\"presumptions.txt\">presumptions</a>, we begin our proof of<br><strong id=\"nat4\">nat4:</strong> <a class=\"ProveItLink\" href=\"../../../__pv_it/theorems/42d7e6077e5a680d20760f975d5cc9cd00f391a50/expr.ipynb\"><img src=\"data:image/png;base64,iVBORw0KGgoAAAANSUhEUgAAADMAAAAPBAMAAAC7N+rPAAAAMFBMVEX///+6urpERESqqqru7u52\n",
       "dnYyMjKYmJjc3NwQEBCIiIhUVFQiIiJmZmbMzMwAAABIfTqqAAAAAXRSTlMAQObYZgAAANRJREFU\n",
       "GNNjYGBgeMuAAtw+qTkwRP4UALFPo0oxqPNtYGD5AGJxzUaT2vNgFQPDBBCrPRsiwq5z5hiYsVGF\n",
       "+wHDARArACLFp+UA1bXjNUsKWIq9ASLlBpNh2MG84DVYyosBIrUDbtcOhkD2BSCpAKiUApIUt8M+\n",
       "oBTzA4gU37Q0IIBKsWxgA7rQlQEixYGsi+EpH1DK+u7dn7dAAhOQpdgNICohXr4Fl9oHxBEQqUlg\n",
       "kscAJpUMxLwJIFbQ/+0gimWTCETmzU+gDpYE5KBjDIIGFBQAANe6OGiF045OAAAAAElFTkSuQmCC\n",
       "\" style=\"display:inline;vertical-align:middle;\" /></a><br>(see <a class=\"ProveItLink\" href=\"../../../__pv_it/theorems/81d14d00ca7a7a2a834de63cc568d8893746d6740/dependencies.ipynb\">dependencies</a>)<br>"
      ],
      "text/plain": [
       "nat4: 4 in Natural"
      ]
     },
     "execution_count": 2,
     "metadata": {},
     "output_type": "execute_result"
    }
   ],
   "source": [
    "%proving nat4"
   ]
  },
  {
   "cell_type": "code",
   "execution_count": null,
   "metadata": {},
   "outputs": [],
   "source": []
  }
 ],
 "metadata": {
  "kernelspec": {
   "display_name": "Python 3",
   "language": "python",
   "name": "python3"
  }
 },
 "nbformat": 4,
 "nbformat_minor": 0
}