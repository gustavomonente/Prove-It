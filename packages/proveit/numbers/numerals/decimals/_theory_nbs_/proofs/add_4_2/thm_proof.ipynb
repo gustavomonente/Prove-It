{
 "cells": [
  {
   "cell_type": "markdown",
   "metadata": {},
   "source": [
    "Proof of <a class=\"ProveItLink\" href=\"../../../../../../_theory_nbs_/theory.ipynb\">proveit</a>.<a class=\"ProveItLink\" href=\"../../../../../_theory_nbs_/theory.ipynb\">numbers</a>.<a class=\"ProveItLink\" href=\"../../../../_theory_nbs_/theory.ipynb\">numerals</a>.<a class=\"ProveItLink\" href=\"../../theory.ipynb\">decimals</a>.<a class=\"ProveItLink\" href=\"../../theorems.ipynb#add_4_2\">add_4_2</a> theorem\n",
    "========"
   ]
  },
  {
   "cell_type": "code",
   "execution_count": 1,
   "metadata": {},
   "outputs": [],
   "source": [
    "import proveit\n",
    "theory = proveit.Theory() # the theorem's theory"
   ]
  },
  {
   "cell_type": "code",
   "execution_count": 2,
   "metadata": {},
   "outputs": [
    {
     "data": {
      "text/html": [
       "Under these <a href=\"presumptions.txt\">presumptions</a>, we begin our proof of<br><strong id=\"add_4_2\">add_4_2:</strong> <a class=\"ProveItLink\" href=\"../../../__pv_it/theorems/11562a6309998ec9b7a64e1662015d30cea4d86e0/expr.ipynb\"><img src=\"data:image/png;base64,iVBORw0KGgoAAAANSUhEUgAAAGEAAAAUBAMAAABvx07iAAAAMFBMVEX///9UVFTMzMx2dna6uroQ\n",
       "EBCqqqqIiIgiIiJmZmYyMjJERETu7u6YmJjc3NwAAAC+aOQFAAAAAXRSTlMAQObYZgAAAWpJREFU\n",
       "KM91kzFLw0AUx/9tiqltUlwEF2nAycmoQ4kuHd1EUBGcnIqLq3Srgw4uZikScVBwyqCTU6lERBR0\n",
       "6CfQG7sIggrSJb67BMldkkfy8u7d/e7ey7sH1AbIlr0cP164mpV9htezUGCptdr+Aulrbh7IM/fQ\n",
       "vmFcqIBxhTPAdMnU12JfK/qcAxtAQyWqLnpAmZ/9cSkTW0Cd4VElVkWcQ65shbgJULdQaSrErdBt\n",
       "ek2mECQnATRXIUYzbdqkT9YTUkTpizYSqWu+EKKN0QBH4A/sNFGeAMY6yq8KgW6AdZqxImLJ9w99\n",
       "P4I9eoufSlS/wHuTEw9InaG7WcQxESKwHc/7OZWJXdQYSp1EHhQlJsUZfbFCqWDRhs7izBMyF6AL\n",
       "OMLelonhojMFjNsKUbCNTWCFm8vhtFzBMKQsK5ZadGfeim/Jv7SSg+fsy25KhX1NDho5/XGX1zjp\n",
       "257sqCypspyJ3K59y3b/Aa2nX6s5JNd5AAAAAElFTkSuQmCC\n",
       "\" style=\"display:inline;vertical-align:middle;\" /></a><br>(see <a class=\"ProveItLink\" href=\"../../../__pv_it/theorems/fd43d4e0aafdcef8106733825a346a563f0b1f270/dependencies.ipynb\">dependencies</a>)<br>"
      ],
      "text/plain": [
       "add_4_2: (4 + 2) = 6"
      ]
     },
     "execution_count": 2,
     "metadata": {},
     "output_type": "execute_result"
    }
   ],
   "source": [
    "%proving add_4_2"
   ]
  },
  {
   "cell_type": "code",
   "execution_count": null,
   "metadata": {},
   "outputs": [],
   "source": []
  }
 ],
 "metadata": {
  "kernelspec": {
   "display_name": "Python 3",
   "language": "python",
   "name": "python3"
  }
 },
 "nbformat": 4,
 "nbformat_minor": 0
}