{
 "cells": [
  {
   "cell_type": "markdown",
   "metadata": {},
   "source": [
    "Proof of <a class=\"ProveItLink\" href=\"../../../../../../_theory_nbs_/theory.ipynb\">proveit</a>.<a class=\"ProveItLink\" href=\"../../../../../_theory_nbs_/theory.ipynb\">numbers</a>.<a class=\"ProveItLink\" href=\"../../../../_theory_nbs_/theory.ipynb\">numerals</a>.<a class=\"ProveItLink\" href=\"../../theory.ipynb\">decimals</a>.<a class=\"ProveItLink\" href=\"../../theorems.ipynb#add_5_7\">add_5_7</a> theorem\n",
    "========"
   ]
  },
  {
   "cell_type": "code",
   "execution_count": 1,
   "metadata": {},
   "outputs": [],
   "source": [
    "import proveit\n",
    "theory = proveit.Theory() # the theorem's theory"
   ]
  },
  {
   "cell_type": "code",
   "execution_count": 2,
   "metadata": {},
   "outputs": [
    {
     "data": {
      "text/html": [
       "Under these <a href=\"presumptions.txt\">presumptions</a>, we begin our proof of<br><strong id=\"add_5_7\">add_5_7:</strong> <a class=\"ProveItLink\" href=\"../../../__pv_it/theorems/6407ace544ad63443e4199803c067f4e4a8caabb0/expr.ipynb\"><img src=\"data:image/png;base64,iVBORw0KGgoAAAANSUhEUgAAAGwAAAAUBAMAAACaOcVSAAAAMFBMVEX///9UVFTMzMx2dna6uroQ\n",
       "EBCqqqqIiIgiIiJmZmYyMjJERETu7u6YmJjc3NwAAAC+aOQFAAAAAXRSTlMAQObYZgAAAXdJREFU\n",
       "OMtjYOC7wIAdsD1gwANOMzCsPaCZgCLG1DjZ2JhBDruGk7M3Acl1DAzx/z+jyvD+////I8MpTC2p\n",
       "Bxh4BBjsHRh4JzAwLBaHuScdQnEC+QIMzAVomniE5Q8wcB5gYA1g4ACrYEDVxgxECgw8ARi23Qfq\n",
       "aWBg/MfwggGLNiBwB+Il2LRx/WFg/MRQCeTIXp+EoW0DEFti0wYEHH8Y9gKpPQzvHdC0MYOi5RaY\n",
       "tQoMJiBp8zdgaANzuRvQtJ0HERk4bGtkYAiBBN0/IGG1alXrqlULwQJVIEIfuzbOCWBtjAsYmL+g\n",
       "2daNRxsoOICOZF3AwPkHTdtHEOGB5DcBuDa2CQzvQEHCCQybBajamH4ywIIEwzZlBoY6UCDzTWC4\n",
       "+gBVGxs4tU3G0FZ/gIGv2XhiA9ghLw3noMUbXxiIXISua2L8ygtcwPTaAE5cDFhSCSgJNuDON7wT\n",
       "kHlnkDkYSRkZ7MMpc4pANiXZQJDvcRUKvHgKBQBOGXDGXCIgswAAAABJRU5ErkJggg==\n",
       "\" style=\"display:inline;vertical-align:middle;\" /></a><br>(see <a class=\"ProveItLink\" href=\"../../../__pv_it/theorems/7b851a50742508c5b4323a84f379966f19aa987f0/dependencies.ipynb\">dependencies</a>)<br>"
      ],
      "text/plain": [
       "add_5_7: (5 + 7) = 12"
      ]
     },
     "execution_count": 2,
     "metadata": {},
     "output_type": "execute_result"
    }
   ],
   "source": [
    "%proving add_5_7"
   ]
  },
  {
   "cell_type": "code",
   "execution_count": null,
   "metadata": {},
   "outputs": [],
   "source": []
  }
 ],
 "metadata": {
  "kernelspec": {
   "display_name": "Python 3",
   "language": "python",
   "name": "python3"
  }
 },
 "nbformat": 4,
 "nbformat_minor": 0
}