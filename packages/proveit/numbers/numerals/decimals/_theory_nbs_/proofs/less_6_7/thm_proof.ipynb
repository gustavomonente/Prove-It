{
 "cells": [
  {
   "cell_type": "markdown",
   "metadata": {},
   "source": [
    "Proof of <a class=\"ProveItLink\" href=\"../../../../../../_theory_nbs_/theory.ipynb\">proveit</a>.<a class=\"ProveItLink\" href=\"../../../../../_theory_nbs_/theory.ipynb\">numbers</a>.<a class=\"ProveItLink\" href=\"../../../../_theory_nbs_/theory.ipynb\">numerals</a>.<a class=\"ProveItLink\" href=\"../../theory.ipynb\">decimals</a>.<a class=\"ProveItLink\" href=\"../../theorems.ipynb#less_6_7\">less_6_7</a> theorem\n",
    "========"
   ]
  },
  {
   "cell_type": "code",
   "execution_count": 1,
   "metadata": {},
   "outputs": [],
   "source": [
    "import proveit\n",
    "theory = proveit.Theory() # the theorem's theory"
   ]
  },
  {
   "cell_type": "code",
   "execution_count": 2,
   "metadata": {},
   "outputs": [
    {
     "data": {
      "text/html": [
       "Under these <a href=\"presumptions.txt\">presumptions</a>, we begin our proof of<br><strong id=\"less_6_7\">less_6_7:</strong> <a class=\"ProveItLink\" href=\"../../../__pv_it/theorems/4053332475bb910dc25dba58b424652bd9a4ab6e0/expr.ipynb\"><img src=\"data:image/png;base64,iVBORw0KGgoAAAANSUhEUgAAADIAAAAOBAMAAACfqVJUAAAAMFBMVEX///9UVFSqqqoiIiKYmJgQ\n",
       "EBDc3NxERERmZma6uroyMjLu7u7MzMyIiIh2dnYAAACR0mqaAAAAAXRSTlMAQObYZgAAAL9JREFU\n",
       "GNNjYGB4e+8AAyo4LPHu3QMGhl0TOBagyfj///9fgIGhgoG9AC7GtAZEtjEwMDIwcH5DUsxikQCi\n",
       "gCa9YWBgD0BI8NptgLI4LzAw8K952wnl7rOFq2EH4v1LGJgVwLwdJgjdT0AyHxg4okEcxkUICe4P\n",
       "QILfgIHlJ4i3EUmGF+QP5gUMLF/A3AyEacwgfzAGQPUgu4Af6E8Gnt8MHAHorj7fACLlGLYqoPmU\n",
       "Qf8BiOTrk2FACx2GVKBaAIxCLeCAkQ3tAAAAAElFTkSuQmCC\n",
       "\" style=\"display:inline;vertical-align:middle;\" /></a><br>(see <a class=\"ProveItLink\" href=\"../../../__pv_it/theorems/03f3e921206e1705ea5029a6ca7633b7b097c5880/dependencies.ipynb\">dependencies</a>)<br>"
      ],
      "text/plain": [
       "less_6_7: 6 < 7"
      ]
     },
     "execution_count": 2,
     "metadata": {},
     "output_type": "execute_result"
    }
   ],
   "source": [
    "%proving less_6_7"
   ]
  },
  {
   "cell_type": "code",
   "execution_count": null,
   "metadata": {},
   "outputs": [],
   "source": []
  }
 ],
 "metadata": {
  "kernelspec": {
   "display_name": "Python 3",
   "language": "python",
   "name": "python3"
  }
 },
 "nbformat": 4,
 "nbformat_minor": 0
}