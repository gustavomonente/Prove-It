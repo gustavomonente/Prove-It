{
 "cells": [
  {
   "cell_type": "markdown",
   "metadata": {},
   "source": [
    "Proof of <a class=\"ProveItLink\" href=\"../../../../../../_theory_nbs_/theory.ipynb\">proveit</a>.<a class=\"ProveItLink\" href=\"../../../../../_theory_nbs_/theory.ipynb\">numbers</a>.<a class=\"ProveItLink\" href=\"../../../../_theory_nbs_/theory.ipynb\">numerals</a>.<a class=\"ProveItLink\" href=\"../../theory.ipynb\">decimals</a>.<a class=\"ProveItLink\" href=\"../../theorems.ipynb#mult_5_0\">mult_5_0</a> theorem\n",
    "========"
   ]
  },
  {
   "cell_type": "code",
   "execution_count": 1,
   "metadata": {},
   "outputs": [],
   "source": [
    "import proveit\n",
    "theory = proveit.Theory() # the theorem's theory"
   ]
  },
  {
   "cell_type": "code",
   "execution_count": 2,
   "metadata": {},
   "outputs": [
    {
     "data": {
      "text/html": [
       "Under these <a href=\"presumptions.txt\">presumptions</a>, we begin our proof of<br><strong id=\"mult_5_0\">mult_5_0:</strong> <a class=\"ProveItLink\" href=\"../../../__pv_it/theorems/417625230d7e0b0496525291c2502e1971f0cab70/expr.ipynb\"><img src=\"data:image/png;base64,iVBORw0KGgoAAAANSUhEUgAAAFcAAAAUBAMAAAAKKrydAAAAMFBMVEX///9UVFTMzMx2dna6uroQ\n",
       "EBCqqqqIiIgiIiJmZmYyMjJERETu7u6YmJjc3NwAAAC+aOQFAAAAAXRSTlMAQObYZgAAAUFJREFU\n",
       "KM91k79Lw0AUx7+1KkmalG5Oha5OrVOwk6ObIO7eX2Dr2C2TowRnhxMnBQVnf5BFEBwUpHTTjDpp\n",
       "0UUo6ksuyZm7yxvC3YfPvbyXewGaj9BiBxVxD5xFy6zY+08d1GJNSzBwDmz/fhbQYe4+XK66KYYX\n",
       "AsdLMtMY6FMeVRbYIq/1j14Agwi3qizwK8ryFNhgcNYUWeARrdqTgxy630SHqIdlN8PXtLzCe56p\n",
       "Sa12h/DSDvunSZxIvJc6jSA5nlBK0e1hMShnzvBWurF/6PHAi/fNfRjLILnGUf8iYrVEJwOmyRmm\n",
       "MhY47FlOL4GXCPOBrPlIYmrQpqS8/PU9bryUVao+xLi4Qou5m3S+p8gCr9PqbeVQtuLv0sQ4HUUW\n",
       "2IpNo3hnnlAvNFG/Yp5vDEwfUTn8WjTiCtn0Wz2b1T+wvV3d3/ljowAAAABJRU5ErkJggg==\n",
       "\" style=\"display:inline;vertical-align:middle;\" /></a><br>(see <a class=\"ProveItLink\" href=\"../../../__pv_it/theorems/b57fa88a9c32062f5793cc1fdaaf7cb8c53c0ce70/dependencies.ipynb\">dependencies</a>)<br>"
      ],
      "text/plain": [
       "mult_5_0: (5 * 0) = 0"
      ]
     },
     "execution_count": 2,
     "metadata": {},
     "output_type": "execute_result"
    }
   ],
   "source": [
    "%proving mult_5_0"
   ]
  },
  {
   "cell_type": "code",
   "execution_count": null,
   "metadata": {},
   "outputs": [],
   "source": []
  }
 ],
 "metadata": {
  "kernelspec": {
   "display_name": "Python 3",
   "language": "python",
   "name": "python3"
  }
 },
 "nbformat": 4,
 "nbformat_minor": 0
}