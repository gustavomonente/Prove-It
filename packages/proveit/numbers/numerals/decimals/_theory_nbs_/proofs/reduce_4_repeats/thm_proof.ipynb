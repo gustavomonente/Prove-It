{
 "cells": [
  {
   "cell_type": "markdown",
   "metadata": {},
   "source": [
    "Proof of <a class=\"ProveItLink\" href=\"../../../../../../_theory_nbs_/theory.ipynb\">proveit</a>.<a class=\"ProveItLink\" href=\"../../../../../_theory_nbs_/theory.ipynb\">numbers</a>.<a class=\"ProveItLink\" href=\"../../../../_theory_nbs_/theory.ipynb\">numerals</a>.<a class=\"ProveItLink\" href=\"../../theory.ipynb\">decimals</a>.<a class=\"ProveItLink\" href=\"../../theorems.ipynb#reduce_4_repeats\">reduce_4_repeats</a> theorem\n",
    "========"
   ]
  },
  {
   "cell_type": "code",
   "execution_count": 1,
   "metadata": {},
   "outputs": [],
   "source": [
    "import proveit\n",
    "theory = proveit.Theory() # the theorem's theory"
   ]
  },
  {
   "cell_type": "code",
   "execution_count": 2,
   "metadata": {},
   "outputs": [
    {
     "data": {
      "text/html": [
       "Under these <a href=\"presumptions.txt\">presumptions</a>, we begin our proof of<br><strong id=\"reduce_4_repeats\">reduce_4_repeats:</strong> <a class=\"ProveItLink\" href=\"../../../__pv_it/theorems/e844d27db0f023e86db8882d6a52a4445c97ff460/expr.ipynb\"><img src=\"data:image/png;base64,iVBORw0KGgoAAAANSUhEUgAAAUkAAAAUBAMAAADyw9IGAAAAMFBMVEX///8QEBCIiIhmZma6urrM\n",
       "zMxUVFQiIiJERETc3Nzu7u6qqqp2dnaYmJgyMjIAAAAcRTyBAAAAAXRSTlMAQObYZgAAA4ZJREFU\n",
       "SMe1V11IFFEUPu7OOuvszBQlYT0tK/ggZYPSU0pWhPVSi0GvLlGBD5YkFFiU9JJLRAtF9hJN+6Ai\n",
       "YkaQJEWL9lAb0j5EUaRN9IfRj2WGq6XdmTPTzJ0/FqsD3+6Zc+/55tv7exbAYSU5xL+ySMr9HYXY\n",
       "LR2K+jBubenV4bTdS5PZ7Az1FphanEI8VB8+WFsmdTjtiD9lvUd8wBmaLFAlpyAuqePfYWkQJITT\n",
       "Aqv8GSWPBj5qjwhSofMwghBlQjNoibMphNMuv/Ml9Hw1t9weced3s6sIIdvX12WNd+lwWsZf5V3P\n",
       "AXpjD3QVvKbFesRsZ+dxa7xcR7riwlpqqoSUpnLnituTcP5FM/NqrLaFPBMXIrEREDa1bYTGO1XW\n",
       "FJ1j1P5ump+LNW8ZoRLMIC8h9gMkrQxnEVxGOMwq1CsBx3Ll8C+mHTbLRaXQI4HmDqWCCWAl4DqA\n",
       "tU61zjGhrc7Pmkng4O+Hp9ETVIIZFBTEVm0TmXYMwcv8HEMtn4yu8j1AUQaKomICIt/RvR5n5lSV\n",
       "zBoIWLeNzjFkH0uaPwuP5B1UghmMtCJYCFBHbCmCg3AHfTjHdZXks6lu/ElOJGM3jS40juZVlXDy\n",
       "lPWHGRxNdpU0vwydtgQzGJpC8DkWXFQCLKMPkH7QVb4mG0U9FIhKmEV3IBlClf1fpqkk5HBTSfF/\n",
       "syWYQUNlibJHPZM2VMSpGSfccYr5Zk3N12rV+UiaoqhSHUvVPQ2hvMxKgRIZXlJnO3I0WNZlApz8\n",
       "oRlbghlkWhGQ3EcObPkgW0/tnoi8nkTpIcBTnagkK5zT16Xm/oRIfpuYCDJRKLYsH4Njwj6WNP9w\n",
       "YAoqqQQzaOweuEGkhuCTwTCK2DV4Di4Dt6CulgX8hjKtQxvpPg9BWVwNPRl0y4CfeR5UgmT3hFPY\n",
       "Xc1ADoBau0qKn5kPT5Hq45riEoRgBqEvhbzB0IDojqXrSK+jMt7f6hV+f1E9H7cvniGt1VkQW2Jk\n",
       "FjT3YnW2KgcHHjBj6+4Z3UmmzgFv7Sopfm5vZTkpd9h2lyCIcQQIsrZKQ643ZET2vhb8L2Mzk2v1\n",
       "viEt/MMuqdCjQ7MrvMK7Vhs8LFUlX1C1wVvPY5egXm2gdT8eyRp+Eiy3UdpbBpvwVZn2q9xc+Lmo\n",
       "S6pRublXqH+qVO+amjn0w7eyyTkluVTBZi/BLTWcQvz/fxTCX/yjeIb4DVbLRsc85x7SAAAAAElF\n",
       "TkSuQmCC\n",
       "\" style=\"display:inline;vertical-align:middle;\" /></a><br>(see <a class=\"ProveItLink\" href=\"../../../__pv_it/theorems/8661d0bafb49bc4bce9c2f54515090d7beb71ad90/dependencies.ipynb\">dependencies</a>)<br>"
      ],
      "text/plain": [
       "reduce_4_repeats: forall_{x} ((x, ..4 repeats.., x) = (x, x, x, x))"
      ]
     },
     "execution_count": 2,
     "metadata": {},
     "output_type": "execute_result"
    }
   ],
   "source": [
    "%proving reduce_4_repeats"
   ]
  },
  {
   "cell_type": "code",
   "execution_count": null,
   "metadata": {},
   "outputs": [],
   "source": []
  }
 ],
 "metadata": {
  "kernelspec": {
   "display_name": "Python 3",
   "language": "python",
   "name": "python3"
  }
 },
 "nbformat": 4,
 "nbformat_minor": 0
}