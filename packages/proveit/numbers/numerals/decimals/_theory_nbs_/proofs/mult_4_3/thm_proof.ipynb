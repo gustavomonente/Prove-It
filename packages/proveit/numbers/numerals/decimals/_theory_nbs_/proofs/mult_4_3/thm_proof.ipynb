{
 "cells": [
  {
   "cell_type": "markdown",
   "metadata": {},
   "source": [
    "Proof of <a class=\"ProveItLink\" href=\"../../../../../../_theory_nbs_/theory.ipynb\">proveit</a>.<a class=\"ProveItLink\" href=\"../../../../../_theory_nbs_/theory.ipynb\">numbers</a>.<a class=\"ProveItLink\" href=\"../../../../_theory_nbs_/theory.ipynb\">numerals</a>.<a class=\"ProveItLink\" href=\"../../theory.ipynb\">decimals</a>.<a class=\"ProveItLink\" href=\"../../theorems.ipynb#mult_4_3\">mult_4_3</a> theorem\n",
    "========"
   ]
  },
  {
   "cell_type": "code",
   "execution_count": 1,
   "metadata": {},
   "outputs": [],
   "source": [
    "import proveit\n",
    "theory = proveit.Theory() # the theorem's theory"
   ]
  },
  {
   "cell_type": "code",
   "execution_count": 2,
   "metadata": {},
   "outputs": [
    {
     "data": {
      "text/html": [
       "Under these <a href=\"presumptions.txt\">presumptions</a>, we begin our proof of<br><strong id=\"mult_4_3\">mult_4_3:</strong> <a class=\"ProveItLink\" href=\"../../../__pv_it/theorems/fd371819195adaee591366f35d8985953246aae70/expr.ipynb\"><img src=\"data:image/png;base64,iVBORw0KGgoAAAANSUhEUgAAAGEAAAAUBAMAAABvx07iAAAAMFBMVEX///9UVFTMzMx2dna6uroQ\n",
       "EBCqqqqIiIgiIiJmZmYyMjJERETu7u6YmJjc3NwAAAC+aOQFAAAAAXRSTlMAQObYZgAAAW1JREFU\n",
       "KM+Fk79Lw0AUx7+2oWlrElwEF2lWt0iHUrt0EVwFC4IOdXRxd7IugpPZJKiQjDrYP0DUFBELDvoP\n",
       "KAcudVAEFUqxxLv8Jjnjd0jy7r1P3nt39wDlESltIUv37DEXmkq10cYE4YZKxoVKX+fsezdcfUVh\n",
       "DMlMRRfWgR7yX4CsU1NcDj07bQyBWhLozf8Ax0ALKLIC3qzQtdjECLhN5ZApsQpUCAbM1Kx4/jFQ\n",
       "bvKIro2Kim1mkTjR14C8ziOoDmxc0tcdYsTLvk39busLZ0ynMUL4BPZYUR4heYi4Qivr8HMUpwDm\n",
       "Vj3iwd/Tlo3cB58w4BI38Aj2A7wD1+2/CJG1R6vaMIzvw8Dj2IwQOlEfVkRsQiFu50B0gmvufsgm\n",
       "L0dOg0hQD+J8PbnnUdKShEiJQbU+Aywxs+HMBh7BOKKnV1YTQGl6dIKu4wz9W5JSP+OyyzpvtZY1\n",
       "H1e8QTD/naiEJkkWwZva54z4XxGlZ24PMTdGAAAAAElFTkSuQmCC\n",
       "\" style=\"display:inline;vertical-align:middle;\" /></a><br>(see <a class=\"ProveItLink\" href=\"../../../__pv_it/theorems/22d35eade87174a97eb3d976feba12b72526eec10/dependencies.ipynb\">dependencies</a>)<br>"
      ],
      "text/plain": [
       "mult_4_3: (4 * 3) = 12"
      ]
     },
     "execution_count": 2,
     "metadata": {},
     "output_type": "execute_result"
    }
   ],
   "source": [
    "%proving mult_4_3"
   ]
  },
  {
   "cell_type": "code",
   "execution_count": null,
   "metadata": {},
   "outputs": [],
   "source": []
  }
 ],
 "metadata": {
  "kernelspec": {
   "display_name": "Python 3",
   "language": "python",
   "name": "python3"
  }
 },
 "nbformat": 4,
 "nbformat_minor": 0
}