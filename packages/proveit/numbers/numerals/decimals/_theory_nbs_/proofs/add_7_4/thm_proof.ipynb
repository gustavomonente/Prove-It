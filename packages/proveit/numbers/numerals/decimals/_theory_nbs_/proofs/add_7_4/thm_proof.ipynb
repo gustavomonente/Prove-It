{
 "cells": [
  {
   "cell_type": "markdown",
   "metadata": {},
   "source": [
    "Proof of <a class=\"ProveItLink\" href=\"../../../../../../_theory_nbs_/theory.ipynb\">proveit</a>.<a class=\"ProveItLink\" href=\"../../../../../_theory_nbs_/theory.ipynb\">numbers</a>.<a class=\"ProveItLink\" href=\"../../../../_theory_nbs_/theory.ipynb\">numerals</a>.<a class=\"ProveItLink\" href=\"../../theory.ipynb\">decimals</a>.<a class=\"ProveItLink\" href=\"../../theorems.ipynb#add_7_4\">add_7_4</a> theorem\n",
    "========"
   ]
  },
  {
   "cell_type": "code",
   "execution_count": 1,
   "metadata": {},
   "outputs": [],
   "source": [
    "import proveit\n",
    "theory = proveit.Theory() # the theorem's theory"
   ]
  },
  {
   "cell_type": "code",
   "execution_count": 2,
   "metadata": {},
   "outputs": [
    {
     "data": {
      "text/html": [
       "Under these <a href=\"presumptions.txt\">presumptions</a>, we begin our proof of<br><strong id=\"add_7_4\">add_7_4:</strong> <a class=\"ProveItLink\" href=\"../../../__pv_it/theorems/823c143fbfed4cfbb40f861f4b9b3210deb7bfc60/expr.ipynb\"><img src=\"data:image/png;base64,iVBORw0KGgoAAAANSUhEUgAAAGsAAAAUBAMAAAB45d4rAAAAMFBMVEX///9UVFTMzMx2dna6uroQ\n",
       "EBCqqqqIiIgiIiJmZmYyMjJERETu7u6YmJjc3NwAAAC+aOQFAAAAAXRSTlMAQObYZgAAAS5JREFU\n",
       "OMtjYOC7wIAdsD1gwANOMzA1TjY2RhfWZGCQw6dtHQPv////P6ILNzIwnMJUnHoASvBOYOAEukYA\n",
       "IpwOk2cPZGBgLkDTxCMsfwBCMHA8YGAGqlBA0/Z2IVBVAIZt9w9AiRdgrjsDmjYDoDaGJbi1VYK5\n",
       "G9C08T4AabPErW0viMd8AU3bcQaQtltguVVgMAFVWxuId54BTZsBWFsGbttCQLwqsJjVqlWtq1aB\n",
       "1LMpgLXpE9DWjWbbYQZC2sCO/IimLXHmzK/TGRg8kPwmgBkkTD/R/cbAEAgLEuy2gQKZ7TOmtmgg\n",
       "noyhrf4AlAA5hC8MQ5v1f1kGhkXouibGr7wAIThQskc6ShJswJ0BeCcg884gczCSMjLYh1PmFP5s\n",
       "SrqBoPDAVSjw4ikUADJ/brqqp7xCAAAAAElFTkSuQmCC\n",
       "\" style=\"display:inline;vertical-align:middle;\" /></a><br>(see <a class=\"ProveItLink\" href=\"../../../__pv_it/theorems/378d892fc6884d657352a93563f09bb6aae53ae30/dependencies.ipynb\">dependencies</a>)<br>"
      ],
      "text/plain": [
       "add_7_4: (7 + 4) = 11"
      ]
     },
     "execution_count": 2,
     "metadata": {},
     "output_type": "execute_result"
    }
   ],
   "source": [
    "%proving add_7_4"
   ]
  },
  {
   "cell_type": "code",
   "execution_count": null,
   "metadata": {},
   "outputs": [],
   "source": []
  }
 ],
 "metadata": {
  "kernelspec": {
   "display_name": "Python 3",
   "language": "python",
   "name": "python3"
  }
 },
 "nbformat": 4,
 "nbformat_minor": 0
}