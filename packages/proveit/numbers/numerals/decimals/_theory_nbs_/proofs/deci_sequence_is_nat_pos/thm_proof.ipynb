{
 "cells": [
  {
   "cell_type": "markdown",
   "metadata": {},
   "source": [
    "Proof of <a class=\"ProveItLink\" href=\"../../../../../../_theory_nbs_/theory.ipynb\">proveit</a>.<a class=\"ProveItLink\" href=\"../../../../../_theory_nbs_/theory.ipynb\">numbers</a>.<a class=\"ProveItLink\" href=\"../../../../_theory_nbs_/theory.ipynb\">numerals</a>.<a class=\"ProveItLink\" href=\"../../theory.ipynb\">decimals</a>.<a class=\"ProveItLink\" href=\"../../theorems.ipynb#deci_sequence_is_nat_pos\">deci_sequence_is_nat_pos</a> theorem\n",
    "========"
   ]
  },
  {
   "cell_type": "code",
   "execution_count": 1,
   "metadata": {},
   "outputs": [],
   "source": [
    "import proveit\n",
    "theory = proveit.Theory() # the theorem's theory"
   ]
  },
  {
   "cell_type": "code",
   "execution_count": 2,
   "metadata": {},
   "outputs": [
    {
     "data": {
      "text/html": [
       "Under these <a href=\"presumptions.txt\">presumptions</a>, we begin our proof of<br><strong id=\"deci_sequence_is_nat_pos\">deci_sequence_is_nat_pos:</strong> <a class=\"ProveItLink\" href=\"../../../__pv_it/theorems/7397ccfc192c34e9015a8c996f0c82386d9403670/expr.ipynb\"><img src=\"data:image/png;base64,iVBORw0KGgoAAAANSUhEUgAAAYgAAAAbBAMAAACU6AVMAAAAMFBMVEX///8QEBCIiIhmZma6urrM\n",
       "zMxUVFQiIiJERETc3Nzu7u6qqqp2dnaYmJgyMjIAAAAcRTyBAAAAAXRSTlMAQObYZgAABKFJREFU\n",
       "WMPlmG2IE0cYgN+7ZO8uu9nc/Sn1uD85hVbaisGzKLW2EcFfglHK2YLQRTz0FCT01PQLCVJqtFiO\n",
       "FmwQ1PXPSVNaj7aBChaiZ3+oCCuKXyhEClUUcmfR1i9K33dmNzvJfuQ2R/zRDmRmZzLvzD4z78fM\n",
       "AvxPUkfmo5kN8E4rXoqyOP7CmU+n079zhvNJWgsguihbwR73Pw+ImN4qiKjx3CAWiJWDgUSP+0PA\n",
       "xxyiTMXNBhAxKlSjOYbIE1ZkYQxzORtM80dr6z88+lKHk/eTFsQcDnGOirsNIKLjM9CKaIJyuQwn\n",
       "aJDRQLJyua5hHxqYPAVbK7cqFVzUwxwiT2uVbQDBOuSb1KY2WgFQSrAQi4sBhU/V1TemZgP0VNWp\n",
       "c5xB0Pqyhfa1Cdqqc01CHGY7GEpCGougzvqIWV7NZNimbNjbkWIDcYhQlkGoZwuFbxoa9o1C4dt0\n",
       "kxAXzEFINSJBB4klWfHuK2Z9eFC+K0C093Dv9CiXc4sWpRqI7lxudynI5ELnt7hJkkJBO9nH1xP9\n",
       "/uYldDANqmq0w0p8UIAIP+EQQwB7XAZK1EDgHnYFMklBPMfyHyGUwqnRGMO9MIkR0NsOeQee1HKt\n",
       "kxqG02rchpAecojlThfghAgncCmbhPgD17NSebEyWbnDDPGIAYtBGvBWLNbBTEraDgocokMforYI\n",
       "d98POEQntIsBQBo5Df1aPQTu4LzpHTGc4iMsT7PA2oYq/rYOH+CyeEPwDuZ4U5SvrmAqcwhZi/XY\n",
       "LtiEiBp2RP5uYin8EtVD+sTAyMC4CHEepmGS7uK/syXTWEQliFkgP/SF4B1EiLywE7BOsiGsnYiU\n",
       "B6sK+MUBHX6NJ6IOdYJD0zjFeYh/ztyIwSwP1Ul+BsqUHwTvoC5dQ+GYd2sTIdRx25ykx+bZac8G\n",
       "MEWWU3ux+JULRNd+XEN5wdaUc85qo4f4JrKJyZ23/0abQMOWn0JH+bgfBOugLjPaRi3DDsWtP9EN\n",
       "wRkbwvJO8BMOx0WYQDH6/TonhLIIs6Op93U0rNo5WSNLHuL9zN+Tb+Aecxdc0Uo2hPwPZsfKVgZm\n",
       "hwMvQzeOG+K++hNrsHuEZDsi1YwT0I2YTERmMxehNOGEgD/xNwBrQTpZB0GN/G08xFeRwAkK2Vw7\n",
       "xma/tz4p7MQOmkKzMrA6rIdlBM93eewzPuva+9maA5UZsZGG/icR6cNcbhe+xUF661QdxHX89cFL\n",
       "WKuDYI1MPz3EyZjhdfNAXz12hBs5ihfgTQn32ayt3J1xCwSxuHifYCIaX8rwGvf7hPwY9hXqIVij\n",
       "uuQmbruHONOItOlhLtYGAJ8D/BRsKzoPgHXpmC5AcJHf6PESnpQ8LkW90gODICJ7Ia9bGTUqc8kD\n",
       "e4iTR0TfxuOMFfcji/6K+75eWIPXDPc4LKTL4s2Oi3Shbw/vTPJLuAvEilfnMAipD1aPSr2U9fHG\n",
       "ITpFeIjDFnKLsJlvXLBLUaOzznaX6+lcVOpG11NSJ6VaM5/S7Zc8xWsPLMGup9caRKZSc3dsaf4S\n",
       "8erLn2RNOe8tryRa9TEpH+Brh+O7k+Hy5JN+bhXEG+y7047/xNe9fwHaDFin5qC6ZgAAAABJRU5E\n",
       "rkJggg==\n",
       "\" style=\"display:inline;vertical-align:middle;\" /></a><br>(see <a class=\"ProveItLink\" href=\"../../../__pv_it/theorems/cfdf4b4d6126e2947b1f13a525bd01d197a47a1a0/dependencies.ipynb\">dependencies</a>)<br>"
      ],
      "text/plain": [
       "deci_sequence_is_nat_pos: forall_{n in NaturalPos} [forall_{a_{1}, ..a_{_a}.., a_{n} in NaturalPos} (\\# (a_{1} ~ ..a_{_a}.. ~ a_{n}) in NaturalPos)]"
      ]
     },
     "execution_count": 2,
     "metadata": {},
     "output_type": "execute_result"
    }
   ],
   "source": [
    "%proving deci_sequence_is_nat_pos"
   ]
  },
  {
   "cell_type": "code",
   "execution_count": null,
   "metadata": {},
   "outputs": [],
   "source": []
  }
 ],
 "metadata": {
  "kernelspec": {
   "display_name": "Python 3",
   "language": "python",
   "name": "python3"
  }
 },
 "nbformat": 4,
 "nbformat_minor": 0
}