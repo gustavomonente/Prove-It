{
 "cells": [
  {
   "cell_type": "markdown",
   "metadata": {},
   "source": [
    "Proof of <a class=\"ProveItLink\" href=\"../../../../../../_theory_nbs_/theory.ipynb\">proveit</a>.<a class=\"ProveItLink\" href=\"../../../../../_theory_nbs_/theory.ipynb\">numbers</a>.<a class=\"ProveItLink\" href=\"../../../../_theory_nbs_/theory.ipynb\">numerals</a>.<a class=\"ProveItLink\" href=\"../../theory.ipynb\">decimals</a>.<a class=\"ProveItLink\" href=\"../../theorems.ipynb#mult_8_5\">mult_8_5</a> theorem\n",
    "========"
   ]
  },
  {
   "cell_type": "code",
   "execution_count": 1,
   "metadata": {},
   "outputs": [],
   "source": [
    "import proveit\n",
    "theory = proveit.Theory() # the theorem's theory"
   ]
  },
  {
   "cell_type": "code",
   "execution_count": 2,
   "metadata": {},
   "outputs": [
    {
     "data": {
      "text/html": [
       "Under these <a href=\"presumptions.txt\">presumptions</a>, we begin our proof of<br><strong id=\"mult_8_5\">mult_8_5:</strong> <a class=\"ProveItLink\" href=\"../../../__pv_it/theorems/183581c7030b7fde0e8f71ade91ef5cee23338b40/expr.ipynb\"><img src=\"data:image/png;base64,iVBORw0KGgoAAAANSUhEUgAAAGEAAAAUBAMAAABvx07iAAAAMFBMVEX////MzMxUVFR2dna6uroQ\n",
       "EBCqqqqIiIgiIiJmZmYyMjJERETu7u6YmJjc3NwAAACgK8IjAAAAAXRSTlMAQObYZgAAAZtJREFU\n",
       "KM99k79Lw1AQx79Nf1DTl1D8B5q1glgcDHaxYzcRXBSROLrYoDh00U4ODhKoCE4VN6VIcRLEmkUU\n",
       "HBoQF9HaUTepP0BE6qVtWpsXcsPj3d37JPd9dw+QLXC2Aj+7Ba7Xdnuu+BjYg9DgzwUMQL2L0+4E\n",
       "MCBoTiLcaqXADngiqkDU2A4gGYhY/46I4xu0qjyxruAeSBPaQLACVnASQnu94gD5QcEpkDPxAoR+\n",
       "zKA1SIgZNxEUFTSBaQ158sZ+J3oZ4SlP6oKGm6iLCvsmQseFzbfKvUzMlD9IXVtX+ti2I3vLdFGR\n",
       "34GEji1yl7OfdhWsC50BkYK7KBBB/0ikMEsfVLC5QNFa98JKDQTeXMQSelURETYR+OrcODACTGU4\n",
       "gqXQUZ7T7KpqFBp1cvP0DxOhQl/HIe0iyf3SnH4OPJu28jDNRNUh6JK2HeUDFnY6OEn9KEPSncQr\n",
       "pEVgKMUTFUQ1NgNkyRku9idRLiZN6mCc6+Bl02Lqarw9JR524zPskuEVVf3eR9Uj5jXtAy+Ks1jD\n",
       "j/B6tXWf839u02Z1cPgViwAAAABJRU5ErkJggg==\n",
       "\" style=\"display:inline;vertical-align:middle;\" /></a><br>(see <a class=\"ProveItLink\" href=\"../../../__pv_it/theorems/b5faf495e8999218309c5eb135abb86ddbd7dc8c0/dependencies.ipynb\">dependencies</a>)<br>"
      ],
      "text/plain": [
       "mult_8_5: (8 * 5) = 40"
      ]
     },
     "execution_count": 2,
     "metadata": {},
     "output_type": "execute_result"
    }
   ],
   "source": [
    "%proving mult_8_5"
   ]
  },
  {
   "cell_type": "code",
   "execution_count": null,
   "metadata": {},
   "outputs": [],
   "source": []
  }
 ],
 "metadata": {
  "kernelspec": {
   "display_name": "Python 3",
   "language": "python",
   "name": "python3"
  }
 },
 "nbformat": 4,
 "nbformat_minor": 0
}