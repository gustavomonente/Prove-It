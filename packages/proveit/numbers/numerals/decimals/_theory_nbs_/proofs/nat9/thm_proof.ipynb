{
 "cells": [
  {
   "cell_type": "markdown",
   "metadata": {},
   "source": [
    "Proof of <a class=\"ProveItLink\" href=\"../../../../../../_theory_nbs_/theory.ipynb\">proveit</a>.<a class=\"ProveItLink\" href=\"../../../../../_theory_nbs_/theory.ipynb\">numbers</a>.<a class=\"ProveItLink\" href=\"../../../../_theory_nbs_/theory.ipynb\">numerals</a>.<a class=\"ProveItLink\" href=\"../../theory.ipynb\">decimals</a>.<a class=\"ProveItLink\" href=\"../../theorems.ipynb#nat9\">nat9</a> theorem\n",
    "========"
   ]
  },
  {
   "cell_type": "code",
   "execution_count": 1,
   "metadata": {},
   "outputs": [],
   "source": [
    "import proveit\n",
    "theory = proveit.Theory() # the theorem's theory"
   ]
  },
  {
   "cell_type": "code",
   "execution_count": 2,
   "metadata": {},
   "outputs": [
    {
     "data": {
      "text/html": [
       "Under these <a href=\"presumptions.txt\">presumptions</a>, we begin our proof of<br><strong id=\"nat9\">nat9:</strong> <a class=\"ProveItLink\" href=\"../../../__pv_it/theorems/4193024433d3266aa63be992ec951397ad3926440/expr.ipynb\"><img src=\"data:image/png;base64,iVBORw0KGgoAAAANSUhEUgAAADMAAAAPBAMAAAC7N+rPAAAAMFBMVEX///8iIiLMzMyqqqq6urqI\n",
       "iIhEREQyMjKYmJgQEBDc3NxUVFR2dnZmZmbu7u4AAABTw4smAAAAAXRSTlMAQObYZgAAAOxJREFU\n",
       "GNNjYHh7ZhcDCnj+Lf0Bw8mfDgx8MxhWPkCVy2DawMD3gYGBewID9wVUqY0KoQwMExgY+AsYeD6A\n",
       "RTgSBcXBjC153AoMAgwM7xMYWH+BBJhSYebu0uarA0lxAnV9AdsOt3EXc4A2SApoGvsPsADcrl0M\n",
       "RzgCgFIMqQw2n0ECCUhS3A82gaSYW3U+gayaXg4EUCm+DewTwEzuf0CCC1kXgw4TRIp9A4icgCzF\n",
       "YQBUyTGPQX8BSOAqXGoTEJ8CSrHW8VWABRgNYFLFQMxbACTO3HUAC/Bt84PIKP4E6uArQA46lmPQ\n",
       "gIICAPUzPO350OolAAAAAElFTkSuQmCC\n",
       "\" style=\"display:inline;vertical-align:middle;\" /></a><br>(see <a class=\"ProveItLink\" href=\"../../../__pv_it/theorems/5c8ca93eb41bb1a66ecf2e877273192a56cd75860/dependencies.ipynb\">dependencies</a>)<br>"
      ],
      "text/plain": [
       "nat9: 9 in Natural"
      ]
     },
     "execution_count": 2,
     "metadata": {},
     "output_type": "execute_result"
    }
   ],
   "source": [
    "%proving nat9"
   ]
  },
  {
   "cell_type": "code",
   "execution_count": null,
   "metadata": {},
   "outputs": [],
   "source": []
  }
 ],
 "metadata": {
  "kernelspec": {
   "display_name": "Python 3",
   "language": "python",
   "name": "python3"
  }
 },
 "nbformat": 4,
 "nbformat_minor": 0
}