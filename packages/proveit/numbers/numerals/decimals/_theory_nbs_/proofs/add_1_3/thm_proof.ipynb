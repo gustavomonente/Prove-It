{
 "cells": [
  {
   "cell_type": "markdown",
   "metadata": {},
   "source": [
    "Proof of <a class=\"ProveItLink\" href=\"../../../../../../_theory_nbs_/theory.ipynb\">proveit</a>.<a class=\"ProveItLink\" href=\"../../../../../_theory_nbs_/theory.ipynb\">numbers</a>.<a class=\"ProveItLink\" href=\"../../../../_theory_nbs_/theory.ipynb\">numerals</a>.<a class=\"ProveItLink\" href=\"../../theory.ipynb\">decimals</a>.<a class=\"ProveItLink\" href=\"../../theorems.ipynb#add_1_3\">add_1_3</a> theorem\n",
    "========"
   ]
  },
  {
   "cell_type": "code",
   "execution_count": 1,
   "metadata": {},
   "outputs": [],
   "source": [
    "import proveit\n",
    "theory = proveit.Theory() # the theorem's theory"
   ]
  },
  {
   "cell_type": "code",
   "execution_count": 2,
   "metadata": {},
   "outputs": [
    {
     "data": {
      "text/html": [
       "Under these <a href=\"presumptions.txt\">presumptions</a>, we begin our proof of<br><strong id=\"add_1_3\">add_1_3:</strong> <a class=\"ProveItLink\" href=\"../../../__pv_it/theorems/801dcdbbd5862f13e618ffef0664e5fb28f545f20/expr.ipynb\"><img src=\"data:image/png;base64,iVBORw0KGgoAAAANSUhEUgAAAGEAAAAUBAMAAABvx07iAAAAMFBMVEX////MzMxUVFR2dna6uroQ\n",
       "EBCqqqqIiIgiIiJmZmYyMjJERETu7u6YmJjc3NwAAACgK8IjAAAAAXRSTlMAQObYZgAAAThJREFU\n",
       "KM9jYOC7wIAd5OEQZziNRYzP2DqBgekBpgTjBCCxDohTD6BKvGRg+8vAswBTB4cCAwPvBAYeZX2Y\n",
       "jnQIVZ/A8IOBwRxTRylQBwfI7vtoOlwdGH4xMBzFdO0toI4XDFh0MIBcxcDlgK6DmQuooxK7jhMG\n",
       "QPkJ6DrugXTsxarjcSdQhBfsdeZVYADSzVMA0tGG3Q72EKDLGtAdxQDSEYLQYbVqVeuqVYsgsqEH\n",
       "GBg/oOlIRNeBsOMdA8P+BAwdPAYMOF31/wBIB0sDkj+AStk0Z86PLMDu82gGhv4DUJ+jAFagRktw\n",
       "HKPpuAuOD04DTB0bGBg8gPSk+JUXUHSwzJwNjD0uAYwY3P/pAiSVwEE6MucE9sTOixKxZ5A55jjy\n",
       "xz5cGQdbaseZo8CA+wEOCZy59h52YQAiQWAU+6ifdAAAAABJRU5ErkJggg==\n",
       "\" style=\"display:inline;vertical-align:middle;\" /></a><br>(see <a class=\"ProveItLink\" href=\"../../../__pv_it/theorems/0a5c7df73426fc79933a08ff36d3cb581c54411b0/dependencies.ipynb\">dependencies</a>)<br>"
      ],
      "text/plain": [
       "add_1_3: (1 + 3) = 4"
      ]
     },
     "execution_count": 2,
     "metadata": {},
     "output_type": "execute_result"
    }
   ],
   "source": [
    "%proving add_1_3"
   ]
  },
  {
   "cell_type": "code",
   "execution_count": null,
   "metadata": {},
   "outputs": [],
   "source": []
  }
 ],
 "metadata": {
  "kernelspec": {
   "display_name": "Python 3",
   "language": "python",
   "name": "python3"
  }
 },
 "nbformat": 4,
 "nbformat_minor": 0
}