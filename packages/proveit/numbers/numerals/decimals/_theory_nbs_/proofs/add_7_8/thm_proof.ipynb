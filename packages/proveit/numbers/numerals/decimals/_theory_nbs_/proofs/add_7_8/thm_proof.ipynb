{
 "cells": [
  {
   "cell_type": "markdown",
   "metadata": {},
   "source": [
    "Proof of <a class=\"ProveItLink\" href=\"../../../../../../_theory_nbs_/theory.ipynb\">proveit</a>.<a class=\"ProveItLink\" href=\"../../../../../_theory_nbs_/theory.ipynb\">numbers</a>.<a class=\"ProveItLink\" href=\"../../../../_theory_nbs_/theory.ipynb\">numerals</a>.<a class=\"ProveItLink\" href=\"../../theory.ipynb\">decimals</a>.<a class=\"ProveItLink\" href=\"../../theorems.ipynb#add_7_8\">add_7_8</a> theorem\n",
    "========"
   ]
  },
  {
   "cell_type": "code",
   "execution_count": 1,
   "metadata": {},
   "outputs": [],
   "source": [
    "import proveit\n",
    "theory = proveit.Theory() # the theorem's theory"
   ]
  },
  {
   "cell_type": "code",
   "execution_count": 2,
   "metadata": {},
   "outputs": [
    {
     "data": {
      "text/html": [
       "Under these <a href=\"presumptions.txt\">presumptions</a>, we begin our proof of<br><strong id=\"add_7_8\">add_7_8:</strong> <a class=\"ProveItLink\" href=\"../../../__pv_it/theorems/cdacb3579fca1e142adf1002c0894b2c4fb090ca0/expr.ipynb\"><img src=\"data:image/png;base64,iVBORw0KGgoAAAANSUhEUgAAAGwAAAAUBAMAAACaOcVSAAAAMFBMVEX///9UVFTMzMx2dna6uroQ\n",
       "EBCqqqqIiIgiIiJmZmYyMjJERETu7u6YmJjc3NwAAAC+aOQFAAAAAXRSTlMAQObYZgAAAYJJREFU\n",
       "OMuVlL9Lw0AUx79N2mIwCQUHp1odnUQKgk7d7NhBnIR2keomOOnSOujiEo2jQ/2xGKr0D9CSTaiC\n",
       "WURwsaNOUqqC+CNeLlGSSy7gGy733uWT9827dweoFqIt3UWMXUHY0PP5YPBydQ8YiQZOzfEKcAbF\n",
       "tu1ecElDooJOGFk0gbLdBxQNElGTccNVT58FuQFxhYHkoRzBjobJ+wNdiIA4GsDEFuQ65FIo24Pp\n",
       "ZXik7iwCWPLDFEmljvnYGnVbQQy5rykyTkdi2btd4IKKshhMtJtkvKdTg5r2h53juYAtx7sBgy0X\n",
       "XwvAUmQ2YLCOOee5TmMzhrFpGAdkpmRQWwAmOJj07WLbTLaUCeGNgyXIzry4InsM5ojOAkXfv2V+\n",
       "sVQD0ictifDOZiMb2vZKwmaTyF43aJHTfQZLNqGQFtFDWM2EquG2S4Wo82wlx3TSyjhkqZ3yiYWn\n",
       "yX3aXD6rBlqwzj83iub3rv1OqJX91uaudOKP6f8/6NSDdykoMZfCDz/9c5TuUC4hAAAAAElFTkSu\n",
       "QmCC\n",
       "\" style=\"display:inline;vertical-align:middle;\" /></a><br>(see <a class=\"ProveItLink\" href=\"../../../__pv_it/theorems/5b9ae6d9bd71b0fb15c7853a901aef73cb28905e0/dependencies.ipynb\">dependencies</a>)<br>"
      ],
      "text/plain": [
       "add_7_8: (7 + 8) = 15"
      ]
     },
     "execution_count": 2,
     "metadata": {},
     "output_type": "execute_result"
    }
   ],
   "source": [
    "%proving add_7_8"
   ]
  },
  {
   "cell_type": "code",
   "execution_count": null,
   "metadata": {},
   "outputs": [],
   "source": []
  }
 ],
 "metadata": {
  "kernelspec": {
   "display_name": "Python 3",
   "language": "python",
   "name": "python3"
  }
 },
 "nbformat": 4,
 "nbformat_minor": 0
}