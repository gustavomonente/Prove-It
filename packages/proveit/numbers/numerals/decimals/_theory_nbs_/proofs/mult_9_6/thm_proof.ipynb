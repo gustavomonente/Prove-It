{
 "cells": [
  {
   "cell_type": "markdown",
   "metadata": {},
   "source": [
    "Proof of <a class=\"ProveItLink\" href=\"../../../../../../_theory_nbs_/theory.ipynb\">proveit</a>.<a class=\"ProveItLink\" href=\"../../../../../_theory_nbs_/theory.ipynb\">numbers</a>.<a class=\"ProveItLink\" href=\"../../../../_theory_nbs_/theory.ipynb\">numerals</a>.<a class=\"ProveItLink\" href=\"../../theory.ipynb\">decimals</a>.<a class=\"ProveItLink\" href=\"../../theorems.ipynb#mult_9_6\">mult_9_6</a> theorem\n",
    "========"
   ]
  },
  {
   "cell_type": "code",
   "execution_count": 1,
   "metadata": {},
   "outputs": [],
   "source": [
    "import proveit\n",
    "theory = proveit.Theory() # the theorem's theory"
   ]
  },
  {
   "cell_type": "code",
   "execution_count": 2,
   "metadata": {},
   "outputs": [
    {
     "data": {
      "text/html": [
       "Under these <a href=\"presumptions.txt\">presumptions</a>, we begin our proof of<br><strong id=\"mult_9_6\">mult_9_6:</strong> <a class=\"ProveItLink\" href=\"../../../__pv_it/theorems/cb0181c6e33c07ba9662f0221ab5e83211f931130/expr.ipynb\"><img src=\"data:image/png;base64,iVBORw0KGgoAAAANSUhEUgAAAGEAAAAUBAMAAABvx07iAAAAMFBMVEX////MzMxUVFR2dna6uroQ\n",
       "EBCqqqqIiIgiIiJmZmYyMjJERETu7u6YmJjc3NwAAACgK8IjAAAAAXRSTlMAQObYZgAAAZ1JREFU\n",
       "KM99k79Lw1AQx79N7A/TpBb6B9TFoQ4S26HUxY4Ogg4iKCqIu3QR6SKdHJwCUqEuLeKiqHQRBVGz\n",
       "KIpDswmiNYugW5UiUtR6LzVtSUIO8u7l3X3e3b13DwhpsMky3OQOuE0Mdf751WFwutVLePRskfIo\n",
       "NBxBnMeLaprEXWxDLFkJb7Mpkwr0A5ICbhKcYpqCCs6ApC1GfI2pFSICOvpK4GumacJI6MpKcMYY\n",
       "eiDiFaiU4f81TcetLdOOBC8QkaUcKUbdNDUiWfLmFSvxlA0DVUacg6Uk/JiFNzSsU3VG6SP7TPaM\n",
       "8tRQHWKGEWTGCZY+mTf7mkBehS9nv4ZT8GDEFM1995F3UhW28RfwnIanZieK+mKboDS//w8bG0Ro\n",
       "dmIQGB2XYWYFY9aSASNGT65Txw6bzlKM61ihOJNhlUtziLbbIqoib1beJYoRHV7aOQX4D8TDzjHK\n",
       "4jTQK1uIN0gLjCgDY6QTha4LS8Xp4IWwhQhtxqj1+MsPjXWJg9y4NLukOK0m3d7HhcOavdstL8om\n",
       "Qd2NcHq1VRf/P3npZmtNKTyZAAAAAElFTkSuQmCC\n",
       "\" style=\"display:inline;vertical-align:middle;\" /></a><br>(see <a class=\"ProveItLink\" href=\"../../../__pv_it/theorems/af8506af04a3b5027ad9cb2e38bee2b815d7a97d0/dependencies.ipynb\">dependencies</a>)<br>"
      ],
      "text/plain": [
       "mult_9_6: (9 * 6) = 54"
      ]
     },
     "execution_count": 2,
     "metadata": {},
     "output_type": "execute_result"
    }
   ],
   "source": [
    "%proving mult_9_6"
   ]
  },
  {
   "cell_type": "code",
   "execution_count": null,
   "metadata": {},
   "outputs": [],
   "source": []
  }
 ],
 "metadata": {
  "kernelspec": {
   "display_name": "Python 3",
   "language": "python",
   "name": "python3"
  }
 },
 "nbformat": 4,
 "nbformat_minor": 0
}