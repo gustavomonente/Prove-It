{
 "cells": [
  {
   "cell_type": "markdown",
   "metadata": {},
   "source": [
    "Proof of <a class=\"ProveItLink\" href=\"../../../../../../_theory_nbs_/theory.ipynb\">proveit</a>.<a class=\"ProveItLink\" href=\"../../../../../_theory_nbs_/theory.ipynb\">numbers</a>.<a class=\"ProveItLink\" href=\"../../../../_theory_nbs_/theory.ipynb\">numerals</a>.<a class=\"ProveItLink\" href=\"../../theory.ipynb\">decimals</a>.<a class=\"ProveItLink\" href=\"../../theorems.ipynb#tuple_len_4\">tuple_len_4</a> theorem\n",
    "========"
   ]
  },
  {
   "cell_type": "code",
   "execution_count": 1,
   "metadata": {},
   "outputs": [],
   "source": [
    "import proveit\n",
    "from proveit import a, b, d, i\n",
    "from proveit.core_expr_types.tuples  import tuple_len_incr\n",
    "from proveit.numbers.numerals.decimals import tuple_len_3, add_3_1\n",
    "theory = proveit.Theory() # the theorem's theory"
   ]
  },
  {
   "cell_type": "code",
   "execution_count": 2,
   "metadata": {},
   "outputs": [
    {
     "data": {
      "text/html": [
       "Under these <a href=\"presumptions.txt\">presumptions</a>, we begin our proof of<br><strong id=\"tuple_len_4\">tuple_len_4:</strong> <a class=\"ProveItLink\" href=\"../../../__pv_it/theorems/07e8e50437b9807f927dfe0e8674212dc6c6c6800/expr.ipynb\"><img src=\"data:image/png;base64,iVBORw0KGgoAAAANSUhEUgAAAN8AAAAWBAMAAACyMFRjAAAAMFBMVEX///8QEBCIiIhmZma6urrM\n",
       "zMxUVFQiIiJERETc3Nzu7u6qqqp2dnaYmJgyMjIAAAAcRTyBAAAAAXRSTlMAQObYZgAAAw9JREFU\n",
       "SMe1Vk1oE0EUfkm6JtndJAUF60FIW9OTh6AoHtRWPHgS24ugIC5RT/4QxB+0HqJe2oO6INhehKkF\n",
       "lV6yKB682GALgqKEetAKSkAUbKGWomJ/FN+bmWx3m9mmPfgOsy/f9+Z9mTdvZxZghXYYVmerjfdb\n",
       "vAyj3Lm7guCnfBwNoirkfKyT46FMoBe84HpFpHY1u8ZWC2pZIOoV+RN1BL/JBEnbi35WhaYcvaIW\n",
       "jFpAVD9VrLC8XiIrE7z1wfOq2AMMnqsFmy0gKskATGd5wagtE1zyog1zqtgXAANKwfgni1OJl0ND\n",
       "fXUq2icTxPNe1MyrYrHOyQ6VoJm0BPW7p+dKHcFWmSCMpYXbI82Mo8lcq6yM2ZKRq9iZwTqbWZXg\n",
       "OAkSdQKg163SlC+mvVM8b8gEsTKGbIDvAi1O6LNCphtuCmiPHcM6JypVwTdTZLy59DQJErUXRFtx\n",
       "G/EJFuWzWyaI4ooGyrBDoMMMZsQWl+Akd/SNEMFcRl6xQhNIkKgohMsuPOkLeiaf62SCEO5AO4Oz\n",
       "At0N+oIoBJNxkTkSB21aIfiECxJllqOL8KwvaEQh2AT6z2p7NIgXo6kaHypAsUMtqJdcwXjlIAKD\n",
       "bV/oMJhpY7wJ0gS1TNaWFBdlTAv0D62Ici24W1CCYeqEvH8Pv6JnHNvavjYtqN7jOOm8RpPDl3kj\n",
       "ntMaXWhJ0+jzsKYiTssftJ9CGQwh6MAZw/Y0jc9CsmngMapGshppx9KERArQyaFGT2kpATX1NXhn\n",
       "lfS/+Os0XAfubAd9G3dw+gUTZ5bUggVJpbB+ISds8U2KWPSD8wIi2ycTUEHutxzKdcBFrPzgZlwg\n",
       "OebrMeHoucydTfiCdipf/Fu/yoJKYGjRjn3AR4qRWIof0RJSH20GC3QAHgReT4Liy7GP7od+FmXv\n",
       "ccTzJ9vPEDoSeHibwQ4EHd4uxY+Y3KNd0OVop0o4xreMsS6HQ9J6ZYJY9Xq6B4EOBF1PLrVoTs0Y\n",
       "dAG7R0WtI/+VUjDmu0/BsJeOnk+MzIo/Mcb5mAmmFu/ZmvE/2D+0jPhKnqlCwwAAAABJRU5ErkJg\n",
       "gg==\n",
       "\" style=\"display:inline;vertical-align:middle;\" /></a><br>(see <a class=\"ProveItLink\" href=\"../../../__pv_it/theorems/bf9fadebedbb227e15cb25af67b2ecf34ba77f900/dependencies.ipynb\">dependencies</a>)<br>"
      ],
      "text/plain": [
       "tuple_len_4: forall_{a, b, c, d} (|(a, b, c, d)| = 4)"
      ]
     },
     "execution_count": 2,
     "metadata": {},
     "output_type": "execute_result"
    }
   ],
   "source": [
    "%proving tuple_len_4"
   ]
  },
  {
   "cell_type": "code",
   "execution_count": 3,
   "metadata": {},
   "outputs": [
    {
     "data": {
      "text/html": [
       "<strong id=\"one_spec\">one_spec:</strong> <span style=\"font-size:20px;\"> <a class=\"ProveItLink\" href=\"../../../__pv_it/_proof_tuple_len_4/71448335d7961c116d4f53c2b03b44b0435c1db90/proof.ipynb\" style=\"text-decoration: none\">&nbsp;&#x22A2;&nbsp;&nbsp;</a><a class=\"ProveItLink\" href=\"../../../__pv_it/theorems/376e6a60f7e961b36cc53f9db8d94a34ef91e4bf0/expr.ipynb\"><img src=\"data:image/png;base64,iVBORw0KGgoAAAANSUhEUgAAAHUAAAAVBAMAAACK3rzVAAAAMFBMVEX///9UVFQQEBCqqqoiIiJm\n",
       "ZmYyMjJERESYmJjc3NyIiIi6urp2dnbu7u7MzMwAAAADGpxCAAAAAXRSTlMAQObYZgAAAZxJREFU\n",
       "OMtjeMtADMCu6jSYnIFLE/MEJFVY9fIWIIlcV0GWl8Sql/PMcQOoKNsEZIlUZM41rHqnMjD/gIq2\n",
       "okh8RubwLMCmd70BwxeoqCeyOPdfZB6vAja9mzYwfIOIcjqg2ITCY8jGHlYwN3MFgLxwdNEFsCib\n",
       "1FIDqCmr1jEwHMWu98oBiCh7A9Clmgz5ENH7ubw/IYHpzFDGwNAG13ssDQQgITnH9QJElAVoz6UG\n",
       "hnCIXvsLDL/ADJYDDMIMDCbY7eXShogybWBgiL/A4AURDWPg/QNmxIP98B5H2lC6ANerzsD7Dxa9\n",
       "3JBYUmfAqXcmA0O9AczNQKuYP0DEfzCwgmMJavsWNP8mgpj/L8D0AsOK9zMDY4IlWPFvkN8hhjAw\n",
       "I4cVEgA6yR/iZh5gHFUxtAgc4AVGOIMEQykDmBHIwBvHwBCDTW8HPH65ganh4qqXUhsYXIDBc3UN\n",
       "0FoQg+dEF1AyD5te7tDwDehpkvkCOoPXgUAehOcFHkzGAgJ62WF58BYDOuMa0Xm/gQGdUYlH7zr8\n",
       "ZQ7HBCRVaAAATPCEnaEmLc8AAAAASUVORK5CYII=\n",
       "\" style=\"display:inline;vertical-align:middle;\" /></a></span><br>"
      ],
      "text/plain": [
       "one_spec: |- |(a, b, c)| = 3"
      ]
     },
     "execution_count": 3,
     "metadata": {},
     "output_type": "execute_result"
    }
   ],
   "source": [
    "one_spec = tuple_len_3.instantiate({a:a})"
   ]
  },
  {
   "cell_type": "code",
   "execution_count": 4,
   "metadata": {},
   "outputs": [
    {
     "data": {
      "text/html": [
       "<strong id=\"tuple_spec\">tuple_spec:</strong> <span style=\"font-size:20px;\"> <a class=\"ProveItLink\" href=\"../../../__pv_it/_proof_tuple_len_4/17dc63f46c6281ce74987c838557e612cc98eb960/proof.ipynb\" style=\"text-decoration: none\">&nbsp;&#x22A2;&nbsp;&nbsp;</a><a class=\"ProveItLink\" href=\"../../../__pv_it/_proof_tuple_len_4/86bcc3c7234b5224d6de8606c4aafbd4e00c78df0/expr.ipynb\"><img src=\"data:image/png;base64,iVBORw0KGgoAAAANSUhEUgAAALsAAAAVBAMAAADsqILHAAAAMFBMVEX///9UVFQQEBCqqqoiIiJm\n",
       "ZmYyMjJERESYmJjc3NyIiIi6urp2dnbu7u7MzMwAAAADGpxCAAAAAXRSTlMAQObYZgAAAnFJREFU\n",
       "OMuVlb9rFEEUx1/cu+zlbjcGBZErRYwiwrZWWVELbTwLjYWYE3Q7MQha2HiFglqtRSCCxSHYRFmX\n",
       "/AOu4C8Si8kREWzO1kIIRELUnPrezOwxG9+EyxR773a+38++fTP7Br7D9sY29YvyOjuA8qihN8fs\n",
       "VgYp96eNu5/3M9LRG42hmMWjd+Tj+4DxkEHKh2Pz9lUulZ2B32Tx6J0BZ33TXecIPrip5fcKU6sc\n",
       "/pWABRaP3pcB/NDUtvpdet3D64KWnzL1tR6HfwPQYfHonU9hrYiHCkE6Sj4Smnov5PBYseGUwStv\n",
       "XpwiHg0krzbwMvP2qVDFrD/TC+XNJZpxMcGKeQ0GL72wnHF4NJDcbWFJDsF1NdO95v9U0ONwS92a\n",
       "j12UV5o5/l1EQ24B8sKTk4LDo4HkJcy204JJNTMh4JcMShnsVnvvIJQR7YRM9iX5ptXDHB4NJN+B\n",
       "RZ0ScFrNnAd/QwZTOiUo9+hRMLrC4MmLYx9qvSi6ciCKxvp4NOT4cfD/5ItYU1tzvI+Yhm66Bf4x\n",
       "wJ2AyV7j8QUxYWdFzaxTtlSSjRzRzWCCdmxYrP3lvDh/BY+vhfnS+qsw1FRd5Tetg3oOOAofwB4n\n",
       "NpbWGLS0+JpnhH1pacfdhrtjmU9fx164CTI4C/4lGbjtyjEPlyBj8OS9//++rxIeDYv6rZfmvtVT\n",
       "OIFJfHqBCVHgfXioAr+ePHqOH8RXBk/e2rnJtIgv71q7IA3FpuAIa4Dfjq0pGJ2sbf5b3tzSPHsA\n",
       "9pZmdGdh/stbmps35C9gDcDSkN3Ydpz0G3L/OGmBNdAc7jixDDIkAx+GD+Q1GfwwRMM/25/LVcn0\n",
       "6FgAAAAASUVORK5CYII=\n",
       "\" style=\"display:inline;vertical-align:middle;\" /></a></span><br>"
      ],
      "text/plain": [
       "tuple_spec: |- |(a, b, c, d)| = (3 + 1)"
      ]
     },
     "execution_count": 4,
     "metadata": {},
     "output_type": "execute_result"
    }
   ],
   "source": [
    "tuple_spec = tuple_len_incr.instantiate({i: one_spec.rhs, a: one_spec.lhs.operands[0], b: d})"
   ]
  },
  {
   "cell_type": "code",
   "execution_count": 5,
   "metadata": {},
   "outputs": [
    {
     "data": {
      "text/html": [
       "<strong id=\"spec\">spec:</strong> <span style=\"font-size:20px;\"> <a class=\"ProveItLink\" href=\"../../../__pv_it/_proof_tuple_len_4/51e7dae33d28eefc78ee8642c6746ce0613e55060/proof.ipynb\" style=\"text-decoration: none\">&nbsp;&#x22A2;&nbsp;&nbsp;</a><a class=\"ProveItLink\" href=\"../../../__pv_it/theorems/ee876e4e1683c44a1ca47cafd2fdad77eae889320/expr.ipynb\"><img src=\"data:image/png;base64,iVBORw0KGgoAAAANSUhEUgAAAIkAAAAVBAMAAACArtDCAAAAMFBMVEX///9UVFQQEBCqqqoiIiJm\n",
       "ZmYyMjJERESYmJjc3NyIiIi6urp2dnbu7u7MzMwAAAADGpxCAAAAAXRSTlMAQObYZgAAAdhJREFU\n",
       "OMuVlL0vQ1EYxp/20vq4p5oIkc4EW1cLFRamGrCI1sAmGgmDRQckTDVIjE0TS0nT+AfcARGWqyES\n",
       "S60GCZGI7zjnnnO45b3BGZrnPn3P7z3vez5wg/8NOv7E+d38w/wuVzxJYSmXc9FKhIVm474MTQnF\n",
       "lRvIuO1JKltDlCVpSlVYucsV9j1F2bNxTFNymjLgduvfKMo+UCIptSuKUhtz22aMovAyA0WKYgYU\n",
       "pY73BxsHOduxA5GtqArIF1S+sQIv04xTlFVNCaZ5HZ2YkXZ5mj3JuX2Yl9ZuJsjLrElqyuGUGM4u\n",
       "sKymVPHcpTRG5ZQeG8+y+RYaHcE6UM0JRoxYiwlN8fOCEzYGpT8C9uqIhK0iq98EEaFbgtJdQWkH\n",
       "e9d9rJd73a4j/SmUizSFWXBVxNMbt/KPR5FbBLzq0LKFHnEEYpV9meDKaBpOtGV1d9k9fEl5U15E\n",
       "jyQOhqRE0WxkXN2tGH61FrGFC1gKW+yBf7VgDo4YAht3RDBb02vy9lg0JSVdsdTT/HWkiH7e0PMd\n",
       "vhQhzKM1KViksL7ND9IVeeoW79LfboBhewrg7JeXYflr9z0FvG7jpxvUL8MlPAW8Xoafr1QankKl\n",
       "oimFP7+Yq674b+MD3mSQ3ysy3QYAAAAASUVORK5CYII=\n",
       "\" style=\"display:inline;vertical-align:middle;\" /></a></span><br>"
      ],
      "text/plain": [
       "spec: |- |(a, b, c, d)| = 4"
      ]
     },
     "execution_count": 5,
     "metadata": {},
     "output_type": "execute_result"
    }
   ],
   "source": [
    "spec = tuple_spec.apply_transitivity(add_3_1)"
   ]
  },
  {
   "cell_type": "code",
   "execution_count": 6,
   "metadata": {},
   "outputs": [
    {
     "data": {
      "text/html": [
       "<table><tr><th>&nbsp;</th><th>step type</th><th>requirements</th><th>statement</th></tr>\n",
       "<tr><td><a name=\"-0x39fa782fa97d9b32_step0\">0</a></td><td>generalizaton</td><td><a href=\"#-0x39fa782fa97d9b32_step1\">1</a></td><td><span style=\"font-size:20px;\"> <a class=\"ProveItLink\" href=\"../../../__pv_it/_proof_tuple_len_4/fbf25485d8ded6becaefb91bf54519f7dfa47c870/proof.ipynb\" style=\"text-decoration: none\">&nbsp;&#x22A2;&nbsp;&nbsp;</a><a class=\"ProveItLink\" href=\"../../../__pv_it/theorems/07e8e50437b9807f927dfe0e8674212dc6c6c6800/expr.ipynb\"><img src=\"data:image/png;base64,iVBORw0KGgoAAAANSUhEUgAAAN8AAAAWBAMAAACyMFRjAAAAMFBMVEX///8QEBCIiIhmZma6urrM\n",
       "zMxUVFQiIiJERETc3Nzu7u6qqqp2dnaYmJgyMjIAAAAcRTyBAAAAAXRSTlMAQObYZgAAAw9JREFU\n",
       "SMe1Vk1oE0EUfkm6JtndJAUF60FIW9OTh6AoHtRWPHgS24ugIC5RT/4QxB+0HqJe2oO6INhehKkF\n",
       "lV6yKB682GALgqKEetAKSkAUbKGWomJ/FN+bmWx3m9mmPfgOsy/f9+Z9mTdvZxZghXYYVmerjfdb\n",
       "vAyj3Lm7guCnfBwNoirkfKyT46FMoBe84HpFpHY1u8ZWC2pZIOoV+RN1BL/JBEnbi35WhaYcvaIW\n",
       "jFpAVD9VrLC8XiIrE7z1wfOq2AMMnqsFmy0gKskATGd5wagtE1zyog1zqtgXAANKwfgni1OJl0ND\n",
       "fXUq2icTxPNe1MyrYrHOyQ6VoJm0BPW7p+dKHcFWmSCMpYXbI82Mo8lcq6yM2ZKRq9iZwTqbWZXg\n",
       "OAkSdQKg163SlC+mvVM8b8gEsTKGbIDvAi1O6LNCphtuCmiPHcM6JypVwTdTZLy59DQJErUXRFtx\n",
       "G/EJFuWzWyaI4ooGyrBDoMMMZsQWl+Akd/SNEMFcRl6xQhNIkKgohMsuPOkLeiaf62SCEO5AO4Oz\n",
       "At0N+oIoBJNxkTkSB21aIfiECxJllqOL8KwvaEQh2AT6z2p7NIgXo6kaHypAsUMtqJdcwXjlIAKD\n",
       "bV/oMJhpY7wJ0gS1TNaWFBdlTAv0D62Ici24W1CCYeqEvH8Pv6JnHNvavjYtqN7jOOm8RpPDl3kj\n",
       "ntMaXWhJ0+jzsKYiTssftJ9CGQwh6MAZw/Y0jc9CsmngMapGshppx9KERArQyaFGT2kpATX1NXhn\n",
       "lfS/+Os0XAfubAd9G3dw+gUTZ5bUggVJpbB+ISds8U2KWPSD8wIi2ycTUEHutxzKdcBFrPzgZlwg\n",
       "OebrMeHoucydTfiCdipf/Fu/yoJKYGjRjn3AR4qRWIof0RJSH20GC3QAHgReT4Liy7GP7od+FmXv\n",
       "ccTzJ9vPEDoSeHibwQ4EHd4uxY+Y3KNd0OVop0o4xreMsS6HQ9J6ZYJY9Xq6B4EOBF1PLrVoTs0Y\n",
       "dAG7R0WtI/+VUjDmu0/BsJeOnk+MzIo/Mcb5mAmmFu/ZmvE/2D+0jPhKnqlCwwAAAABJRU5ErkJg\n",
       "gg==\n",
       "\" style=\"display:inline;vertical-align:middle;\" /></a></span></td></tr>\n",
       "<tr><td><a name=\"-0x39fa782fa97d9b32_step1\">1</a></td><td>instantiation</td><td><a href=\"#-0x39fa782fa97d9b32_step2\">2</a>, <a href=\"#-0x39fa782fa97d9b32_step3\">3</a>, <a href=\"#-0x39fa782fa97d9b32_step4\">4</a></td><td><span style=\"font-size:20px;\"> <a class=\"ProveItLink\" href=\"../../../__pv_it/_proof_tuple_len_4/51e7dae33d28eefc78ee8642c6746ce0613e55060/proof.ipynb\" style=\"text-decoration: none\">&nbsp;&#x22A2;&nbsp;&nbsp;</a><a class=\"ProveItLink\" href=\"../../../__pv_it/theorems/ee876e4e1683c44a1ca47cafd2fdad77eae889320/expr.ipynb\"><img src=\"data:image/png;base64,iVBORw0KGgoAAAANSUhEUgAAAIkAAAAVBAMAAACArtDCAAAAMFBMVEX///9UVFQQEBCqqqoiIiJm\n",
       "ZmYyMjJERESYmJjc3NyIiIi6urp2dnbu7u7MzMwAAAADGpxCAAAAAXRSTlMAQObYZgAAAdhJREFU\n",
       "OMuVlL0vQ1EYxp/20vq4p5oIkc4EW1cLFRamGrCI1sAmGgmDRQckTDVIjE0TS0nT+AfcARGWqyES\n",
       "S60GCZGI7zjnnnO45b3BGZrnPn3P7z3vez5wg/8NOv7E+d38w/wuVzxJYSmXc9FKhIVm474MTQnF\n",
       "lRvIuO1JKltDlCVpSlVYucsV9j1F2bNxTFNymjLgduvfKMo+UCIptSuKUhtz22aMovAyA0WKYgYU\n",
       "pY73BxsHOduxA5GtqArIF1S+sQIv04xTlFVNCaZ5HZ2YkXZ5mj3JuX2Yl9ZuJsjLrElqyuGUGM4u\n",
       "sKymVPHcpTRG5ZQeG8+y+RYaHcE6UM0JRoxYiwlN8fOCEzYGpT8C9uqIhK0iq98EEaFbgtJdQWkH\n",
       "e9d9rJd73a4j/SmUizSFWXBVxNMbt/KPR5FbBLzq0LKFHnEEYpV9meDKaBpOtGV1d9k9fEl5U15E\n",
       "jyQOhqRE0WxkXN2tGH61FrGFC1gKW+yBf7VgDo4YAht3RDBb02vy9lg0JSVdsdTT/HWkiH7e0PMd\n",
       "vhQhzKM1KViksL7ND9IVeeoW79LfboBhewrg7JeXYflr9z0FvG7jpxvUL8MlPAW8Xoafr1QankKl\n",
       "oimFP7+Yq674b+MD3mSQ3ysy3QYAAAAASUVORK5CYII=\n",
       "\" style=\"display:inline;vertical-align:middle;\" /></a></span></td></tr>\n",
       "<tr><td>&nbsp;</td><td colspan=4 style=\"text-align:left\"><span style=\"font-size:20px;\"><a class=\"ProveItLink\" href=\"../../../../../../__pv_it/common/a0d9d672aa5e272d907247690c152cc2c6daafb70/expr.ipynb\"><img src=\"data:image/png;base64,iVBORw0KGgoAAAANSUhEUgAAAAsAAAAJBAMAAAAWSsseAAAALVBMVEX///9mZmaqqqrMzMxEREQy\n",
       "MjIiIiKYmJh2dna6urrc3NxUVFSIiIju7u4AAACJHQtQAAAAAXRSTlMAQObYZgAAAEJJREFUCNdj\n",
       "YLhzeuWJAwy8Dew5bAEMHBc43nIuYOBlYHFgAAG+A2DKzgBIMF04x8BzgWGegh/DcgaG22fuiBcw\n",
       "AAATyhBrnyPYZQAAAABJRU5ErkJggg==\n",
       "\" style=\"display:inline;vertical-align:middle;\" /></a> : <a class=\"ProveItLink\" href=\"../../../__pv_it/theorems/f52f9a0141895b179d5ffc5121b79dc92ad3f2840/expr.ipynb\"><img src=\"data:image/png;base64,iVBORw0KGgoAAAANSUhEUgAAAGIAAAAVBAMAAABPrCZEAAAAMFBMVEX///9UVFQQEBCqqqoiIiJm\n",
       "ZmYyMjJERESYmJjc3NyIiIi6urp2dnbu7u7MzMwAAAADGpxCAAAAAXRSTlMAQObYZgAAAZJJREFU\n",
       "OMuVk71Lw1AUxU+btmltXhUEkc5Cdevq1IguOtVFF7FdHMUi6ODUQQed4iA4iuCiEor/gBkUxC6x\n",
       "KIJLXR0KhYL40Yrvo4kv8AI1w8tJzv3dd+/LDVr439VCnd+PB4id5mtdEKQiOc8TivDMZjFiSUTC\n",
       "kt011Q7DeVKWiL2A2VER1y7uJWJe9tI9FXEDNP6IlCl7hqkiaKmJmk8MFelydHvqci+RPcv32XNb\n",
       "iNSKTUs1ij6hV2ktU9gQdnOdfIq4WWyLV1eWTktNln0iRnM2qlgWdsHFFxcxB6NckEnEabRm+kSU\n",
       "FlhysSCIJZAuFyW330O8x2hk2gEiB/Lj9ZgW55vzuo5W0KwFCFoVTau1hf/BcrJauh7RdFBgx27K\n",
       "nZMOImUxOd+sJ4FCE0QeY5old86ObQe7Iw55p0/j2AIXiyCrXOgnyRmDtuP4BNvu4fwtW8Mcbfbp\n",
       "km7BhHF3IATJ2ocX9EO9KqZEc0MF8KiaRCNcIDCJujftLwgVCEy7/0dVESr6aeuwB/5r9/lq/wId\n",
       "XoHgBzortgAAAABJRU5ErkJggg==\n",
       "\" style=\"display:inline;vertical-align:middle;\" /></a>, <a class=\"ProveItLink\" href=\"../../../../../../__pv_it/common/ff7dba4ef0bbe791ab573bf2d9c220a304399ac80/expr.ipynb\"><img src=\"data:image/png;base64,iVBORw0KGgoAAAANSUhEUgAAAAsAAAANBAMAAACN24kIAAAAMFBMVEX///8iIiKYmJhUVFTMzMxE\n",
       "REQyMjKqqqq6urp2dnYQEBDc3NxmZmaIiIju7u4AAACH5sGpAAAAAXRSTlMAQObYZgAAAFlJREFU\n",
       "CNdj4LtzgWHXAwZOjgUM9xkYtvMkMIQyMDzgusDwl4GBof8ByxcgdYyBdwGQCmZgNQBShxn6FYDU\n",
       "47vnNzAwgGUZGJgT+H4AKUYF1gtAiuPuESAJAJGkFvXVdzA+AAAAAElFTkSuQmCC\n",
       "\" style=\"display:inline;vertical-align:middle;\" /></a> : <a class=\"ProveItLink\" href=\"../../../__pv_it/theorems/0a9fd02fd8d28ec4cdb4f28e84465ed66a6a56b70/expr.ipynb\"><img src=\"data:image/png;base64,iVBORw0KGgoAAAANSUhEUgAAACwAAAAQBAMAAACfEoDkAAAALVBMVEX///9UVFTu7u4yMjIQEBC6\n",
       "uroiIiKIiIiYmJhmZmaqqqpERER2dnbc3NwAAAAexEWgAAAAAXRSTlMAQObYZgAAAIRJREFUGNNj\n",
       "YLhzZhcDJuCdwLCuAVWIy4mBgf0VA18ChLscQikefMTAwOrKwGeAIszA8QhMwQxBFWbKYcAizHts\n",
       "EgNWQ0oCsAqzAB3EcNjYOMXY2BAmzHuBgfsVpmq+R1iFWTYwsD3CFOZowHA3O0hZ5MytqA7kFHk8\n",
       "AzmIljNgBUoIJgBZoSm1TdJkxQAAAABJRU5ErkJggg==\n",
       "\" style=\"display:inline;vertical-align:middle;\" /></a>, <a class=\"ProveItLink\" href=\"../../../../../../__pv_it/common/95a8f6b9b9f29b83f192ad7fd05708d6be097a3f0/expr.ipynb\"><img src=\"data:image/png;base64,iVBORw0KGgoAAAANSUhEUgAAAAoAAAAJBAMAAAD5iKAgAAAAMFBMVEX///8yMjJ2dnaqqqpUVFTc\n",
       "3NxmZmaIiIhERETu7u6YmJjMzMwQEBAiIiK6uroAAABWQA0ZAAAAAXRSTlMAQObYZgAAADZJREFU\n",
       "CNdjYOC782AXA8OM5WkNDAwTGCIYgIC7E0Q+ARHMDiDSjIHBgYH7llbhAwY2hjVyDABOxArzLvBK\n",
       "ugAAAABJRU5ErkJggg==\n",
       "\" style=\"display:inline;vertical-align:middle;\" /></a> : <a class=\"ProveItLink\" href=\"../../../../__pv_it/common/705198ce7fd3ec620275e02d9e1fa1bcf7f141270/expr.ipynb\"><img src=\"data:image/png;base64,iVBORw0KGgoAAAANSUhEUgAAAAoAAAAPBAMAAAAv0UM9AAAALVBMVEX///9ERESqqqru7u52dnYy\n",
       "MjKYmJjc3NwQEBCIiIhUVFQiIiJmZmbMzMwAAABMnJPBAAAAAXRSTlMAQObYZgAAAEBJREFUCNdj\n",
       "YGBguMMAArtABGcXiCyLApEOIJKtAERaMoBIBxDJdAFEmjCASK0zZ16cBCkF62JoBBGO75aBOQwA\n",
       "Ls8NnulhIDAAAAAASUVORK5CYII=\n",
       "\" style=\"display:inline;vertical-align:middle;\" /></a></span></td></tr><tr><td><a name=\"-0x39fa782fa97d9b32_step2\">2</a></td><td>axiom</td><td></td><td><span style=\"font-size:20px;\"> <a class=\"ProveItLink\" href=\"../../../../../../logic/equality/_theory_nbs_/axioms.ipynb#equals_transitivity\" style=\"text-decoration: none\">&nbsp;&#x22A2;&nbsp;&nbsp;</a><a class=\"ProveItLink\" href=\"../../../../../../logic/equality/__pv_it/axioms/f827123c5f21af6ab6d517e6d3247a9ee44c13460/expr.ipynb\"><img src=\"data:image/png;base64,iVBORw0KGgoAAAANSUhEUgAAANEAAAAWBAMAAACs+WTQAAAAMFBMVEX///8QEBCIiIhmZma6urrM\n",
       "zMxUVFQiIiJERETc3Nzu7u6qqqp2dnaYmJgyMjIAAAAcRTyBAAAAAXRSTlMAQObYZgAAAnJJREFU\n",
       "SMetVU1oE0EU/prsTzfZJB4UBEGCgVKCh1wEQQ+hgkXwZ+NBxYsl2INQJYd6UKTkmBYiudQWQVyh\n",
       "KK0eAoKgUFhyTKUGFVSIsKB4KFSCIPhz8c3sZrOu2djAPFi+mfeY+d6+980MIM7uhYee02ezwUcR\n",
       "RLFyeEypARtssCWCKVkbkAX90DKhVhbB9GZQsEGZmIBeF8F0Y1DwAZBorq0tiSDSSgNLmwd+VCq3\n",
       "RDBFctSOA1cmGsHA5G65BZ2i08B8yGJpGKbRFvAE79JzbLL5ldknLoZq5jCVjiRxjAuj/+JhmFRq\n",
       "dhOvzBNB2XHBxam2KiItEUwj1AkTlT6RCyQ6uUPCa6kQxQR869ODKThMmn2O6f3QmEHOMaiUAJa2\n",
       "FntMeubstLtoYgo3e8AVN7dq9KoH+bszcfr0hY+fcTqmzPnLJBzzmko56SmzwPxH2ukeU1axZ5UK\n",
       "WRXWL3kXeRi4nuh6w6eIF5EOsoFfiuegOIrAU6KTsc28dycxzsOPfdUzkt0+aiulSNkDt+HdU086\n",
       "ln6PdrRg08+3X38GohYNUzz/n9x9FEW+PO/vU8q70KKWku4BtxWvHSXEitnMP5d1LrGfdkuyGidM\n",
       "3jGZuWexh8EiLvqYLsFQWNm3oeZH2AoGrkczZHMnt9Gj7uC+butYNnFd6hBoM+tlj0nrbMLqnhnj\n",
       "DLQFDq7d2Xi/0xvWsYdvG00U6jg+bhMk5L2mxxS7evJgN22peBvyPg6utQoL3pn4z6vht3qsxhRU\n",
       "Dz1Pq6iSmBwY6iUMZBGvKdZpBqFMM5LNXmoOQ73uH/6eJiC1LQahTKdesoI5INSiIjf7A4jqrxun\n",
       "Ivq8AAAAAElFTkSuQmCC\n",
       "\" style=\"display:inline;vertical-align:middle;\" /></a></span></td></tr>\n",
       "<tr><td>&nbsp;</td><td colspan=4 style-\"text-align:left\"><a class=\"ProveItLink\" href=\"../../../../../../logic/equality/_theory_nbs_/axioms.ipynb#equals_transitivity\">proveit.logic.equality.equals_transitivity</a></td></tr><tr><td><a name=\"-0x39fa782fa97d9b32_step3\">3</a></td><td>instantiation</td><td><a href=\"#-0x39fa782fa97d9b32_step5\">5</a>, <a href=\"#-0x39fa782fa97d9b32_step6\">6</a>, <a href=\"#-0x39fa782fa97d9b32_step7\">7</a></td><td><span style=\"font-size:20px;\"> <a class=\"ProveItLink\" href=\"../../../__pv_it/_proof_tuple_len_4/17dc63f46c6281ce74987c838557e612cc98eb960/proof.ipynb\" style=\"text-decoration: none\">&nbsp;&#x22A2;&nbsp;&nbsp;</a><a class=\"ProveItLink\" href=\"../../../__pv_it/_proof_tuple_len_4/86bcc3c7234b5224d6de8606c4aafbd4e00c78df0/expr.ipynb\"><img src=\"data:image/png;base64,iVBORw0KGgoAAAANSUhEUgAAALsAAAAVBAMAAADsqILHAAAAMFBMVEX///9UVFQQEBCqqqoiIiJm\n",
       "ZmYyMjJERESYmJjc3NyIiIi6urp2dnbu7u7MzMwAAAADGpxCAAAAAXRSTlMAQObYZgAAAnFJREFU\n",
       "OMuVlb9rFEEUx1/cu+zlbjcGBZErRYwiwrZWWVELbTwLjYWYE3Q7MQha2HiFglqtRSCCxSHYRFmX\n",
       "/AOu4C8Si8kREWzO1kIIRELUnPrezOwxG9+EyxR773a+38++fTP7Br7D9sY29YvyOjuA8qihN8fs\n",
       "VgYp96eNu5/3M9LRG42hmMWjd+Tj+4DxkEHKh2Pz9lUulZ2B32Tx6J0BZ33TXecIPrip5fcKU6sc\n",
       "/pWABRaP3pcB/NDUtvpdet3D64KWnzL1tR6HfwPQYfHonU9hrYiHCkE6Sj4Smnov5PBYseGUwStv\n",
       "XpwiHg0krzbwMvP2qVDFrD/TC+XNJZpxMcGKeQ0GL72wnHF4NJDcbWFJDsF1NdO95v9U0ONwS92a\n",
       "j12UV5o5/l1EQ24B8sKTk4LDo4HkJcy204JJNTMh4JcMShnsVnvvIJQR7YRM9iX5ptXDHB4NJN+B\n",
       "RZ0ScFrNnAd/QwZTOiUo9+hRMLrC4MmLYx9qvSi6ciCKxvp4NOT4cfD/5ItYU1tzvI+Yhm66Bf4x\n",
       "wJ2AyV7j8QUxYWdFzaxTtlSSjRzRzWCCdmxYrP3lvDh/BY+vhfnS+qsw1FRd5Tetg3oOOAofwB4n\n",
       "NpbWGLS0+JpnhH1pacfdhrtjmU9fx164CTI4C/4lGbjtyjEPlyBj8OS9//++rxIeDYv6rZfmvtVT\n",
       "OIFJfHqBCVHgfXioAr+ePHqOH8RXBk/e2rnJtIgv71q7IA3FpuAIa4Dfjq0pGJ2sbf5b3tzSPHsA\n",
       "9pZmdGdh/stbmps35C9gDcDSkN3Ydpz0G3L/OGmBNdAc7jixDDIkAx+GD+Q1GfwwRMM/25/LVcn0\n",
       "6FgAAAAASUVORK5CYII=\n",
       "\" style=\"display:inline;vertical-align:middle;\" /></a></span></td></tr>\n",
       "<tr><td>&nbsp;</td><td colspan=4 style=\"text-align:left\"><span style=\"font-size:20px;\"><a class=\"ProveItLink\" href=\"../../../../../../__pv_it/common/ae955345c83abf786c3aff8681cd5465beae262d0/expr.ipynb\"><img src=\"data:image/png;base64,iVBORw0KGgoAAAANSUhEUgAAAAcAAAAOBAMAAAARcxsoAAAAKlBMVEX///8yMjKqqqrc3NwQEBC6\n",
       "urp2dnZmZmaIiIju7u6YmJhERERUVFQAAAAIfTrnAAAAAXRSTlMAQObYZgAAADhJREFUCNdjYGA4\n",
       "zQAEpxjQAWd7AwMDG6sDA4MRuwADwwReIJdBdwKQ2AOSvcTGwMB6wQqkdQEDAPwvCSrC7lmiAAAA\n",
       "AElFTkSuQmCC\n",
       "\" style=\"display:inline;vertical-align:middle;\" /></a> : <a class=\"ProveItLink\" href=\"../../../../__pv_it/common/0a19a501c0770212f27a044b71e9c626b8ca0bec0/expr.ipynb\"><img src=\"data:image/png;base64,iVBORw0KGgoAAAANSUhEUgAAAAoAAAAOBAMAAADkjZCYAAAAKlBMVEX////u7u4yMjIQEBC6uroi\n",
       "IiKIiIiYmJhmZmaqqqpERER2dnbc3NwAAAAz17lDAAAAAXRSTlMAQObYZgAAAE5JREFUCNdjYDi9\n",
       "eyUDA08Dw9wCBrabDLwBDCwmDLwKDEAAFGFgYIwGEjxbG0ECDMkOIJLZkIHnAAMXUPFFEMm8gIH1\n",
       "IgN7AVi9R8cSBgCvphDNutx7AgAAAABJRU5ErkJggg==\n",
       "\" style=\"display:inline;vertical-align:middle;\" /></a>, <a class=\"ProveItLink\" href=\"../../../../../../__pv_it/common/c06c606ec12678c58933ac85412ecadc2ae28be60/expr.ipynb\"><img src=\"data:image/png;base64,iVBORw0KGgoAAAANSUhEUgAAAAsAAAAJBAMAAAAWSsseAAAAMFBMVEX///9UVFSqqqrMzMwiIiJE\n",
       "RESYmJgyMjK6urru7u4QEBCIiIh2dnZmZmbc3NwAAABRgo0vAAAAAXRSTlMAQObYZgAAAEdJREFU\n",
       "CNdjYOC7c3slAwND1wP2DwwMnMsYeAMYGHh/MrBsYGDgCmCYb8DAMP8Agz5QxXwFBnGmBwysG9gc\n",
       "eYAqpTc/3MEAAP4BD32xAXDqAAAAAElFTkSuQmCC\n",
       "\" style=\"display:inline;vertical-align:middle;\" /></a> : <a class=\"ProveItLink\" href=\"../../../__pv_it/theorems/bb46d2ccde3f0804676c894d6deb5bedd42560390/expr.ipynb\"><img src=\"data:image/png;base64,iVBORw0KGgoAAAANSUhEUgAAADsAAAAUBAMAAADB8VhjAAAAMFBMVEX///9UVFTMzMx2dna6uroQ\n",
       "EBCqqqqIiIgiIiJmZmYyMjJERETu7u6YmJjc3NwAAAC+aOQFAAAAAXRSTlMAQObYZgAAAS5JREFU\n",
       "KM91krFKxEAQhv94Xsgm5mInWOURAhZqIVwj2F1jqZAHEA0iHHYRwcoiIHil6wtIGkvlGkGxSF5A\n",
       "id2VV0sKZ3cTmDNcisk3/+7O/rO7wKDEku9UhU8mrD2nLLMqCk98gZvxyRLwuYAg5tk24FRcGE15\n",
       "9gbMFtzsLGTuEJf0G9xNjozwOL5vC49D9DK8EO5X7tyY+Z0WZrNZ7En4EjckHkPkWrRrBImma1gx\n",
       "7BSHgKjhGFFIFJGGWsWVuRru5yjCtu2Rbq2fN8NUnBacNW2XeNCtmRqrqbJWxNi0taNgSD6aeYiV\n",
       "tV3AS/yrHgo6Qqv0Mg1iHR8hRIQDcr5x/nMB55ZosgcN2Pois27IDvWkA+/8SqIO0JXgtb2+pAOS\n",
       "PQcf/8FT+y5/TN/AHyMESix9a0nJAAAAAElFTkSuQmCC\n",
       "\" style=\"display:inline;vertical-align:middle;\" /></a>, <a class=\"ProveItLink\" href=\"../../../../../../__pv_it/common/195236b98c6c564a75b5dbada74b173bc52d5c3e0/expr.ipynb\"><img src=\"data:image/png;base64,iVBORw0KGgoAAAANSUhEUgAAAAkAAAAOBAMAAAAPuiubAAAALVBMVEX///+YmJjc3NyIiIhUVFR2\n",
       "dna6urqqqqpmZmYyMjIiIiIQEBBERETu7u4AAAALjtrwAAAAAXRSTlMAQObYZgAAAE9JREFUCNdj\n",
       "4D29gAEIOBtAJF8BiMy7ACKjQATDFON2BgbelxfuKTCwv2XgM2DgmMBwLwCkPK+AgU+Aoe8CA18C\n",
       "70YGBhYBHqARvM2BDAwAqXgQspq5HJAAAAAASUVORK5CYII=\n",
       "\" style=\"display:inline;vertical-align:middle;\" /></a> : <a class=\"ProveItLink\" href=\"../../../../../../__pv_it/common/4f5c524ffda87296de1c79b96880123fe2efedd50/expr.ipynb\"><img src=\"data:image/png;base64,iVBORw0KGgoAAAANSUhEUgAAAAsAAAAOBAMAAAALT/umAAAAMFBMVEX///9UVFSYmJiIiIjc3Nwy\n",
       "MjIiIiJ2dnbu7u66urqqqqpmZmYQEBBERETMzMwAAAAYOWz6AAAAAXRSTlMAQObYZgAAAFpJREFU\n",
       "CNdjYGBg4LuzgQEE+BeAqfkNYKoMTDJEAzHLdrtfQGqOA+8PBgaOQwzcAQwM3D8Y2AoYGHguMPRP\n",
       "YGDoL2BYD1TRv4BBlMuBgdeAKZEdqFLYztGSAQAyzhFdhFkSwwAAAABJRU5ErkJggg==\n",
       "\" style=\"display:inline;vertical-align:middle;\" /></a></span></td></tr><tr><td><a name=\"-0x39fa782fa97d9b32_step4\">4</a></td><td>conjecture</td><td></td><td><span style=\"font-size:20px;\"> <a class=\"ProveItLink\" href=\"../add_3_1/thm_proof.ipynb\" style=\"text-decoration: none\">&nbsp;&#x22A2;&nbsp;&nbsp;</a><a class=\"ProveItLink\" href=\"../../../__pv_it/theorems/c052886c93012bf6124254ac05454ef8064cb9810/expr.ipynb\"><img src=\"data:image/png;base64,iVBORw0KGgoAAAANSUhEUgAAAGEAAAAUBAMAAABvx07iAAAAMFBMVEX////MzMxUVFR2dna6uroQ\n",
       "EBCqqqqIiIgiIiJmZmYyMjJERETu7u6YmJjc3NwAAACgK8IjAAAAAXRSTlMAQObYZgAAAT5JREFU\n",
       "KM9jYOC7wIAd5OEQZzjNwPDYeBsWCaYHmGKME4DEOga+CQz5aBaxxTAw8CzA1MGhwMDAO4GB/RsD\n",
       "fwNEJB1CHTL6AyTNMXWUAnVwPGBgCWHgX4Cig4EXpOMohga+W0AdL8BMmKtQdHA5oOtg5gLqqASx\n",
       "eJoZsOhgnoCu4x5Ix16QZRZzsOngBTuVeRUYgHTzFIB0tEF85IBFB1sDuqMYQDpCwGxWYGgyWK1a\n",
       "1bpq1SK4DsYPaDoSYTr4HjBwf8NiB7oOHgMGqKv4/2DXwdKA5A+gUjbNmfMjC0A+Z93AwPEHp89R\n",
       "ACtQoyVQ5gJGfLCDdHAaYOrYwMDgAaQ9Z25BDV1O1V9zgTEogBGD+z9dAKUSJJCOzDmBPbHzokTs\n",
       "GWSOOY78sQ9XxsGW2mE5CjvgfoBDAmeuvYddGADEdVfClWutYAAAAABJRU5ErkJggg==\n",
       "\" style=\"display:inline;vertical-align:middle;\" /></a></span></td></tr>\n",
       "<tr><td>&nbsp;</td><td colspan=4 style-\"text-align:left\"><a class=\"ProveItLink\" href=\"../add_3_1/thm_proof.ipynb\">proveit.numbers.numerals.decimals.add_3_1</a></td></tr><tr><td><a name=\"-0x39fa782fa97d9b32_step5\">5</a></td><td>axiom</td><td></td><td><span style=\"font-size:20px;\"> <a class=\"ProveItLink\" href=\"../../../../../../core_expr_types/tuples/_theory_nbs_/axioms.ipynb#tuple_len_incr\" style=\"text-decoration: none\">&nbsp;&#x22A2;&nbsp;&nbsp;</a><a class=\"ProveItLink\" href=\"../../../../../../core_expr_types/tuples/__pv_it/axioms/000f3e451cfa51382e293a2f95fe2bb9433967c90/expr.ipynb\"><img src=\"data:image/png;base64,iVBORw0KGgoAAAANSUhEUgAAAYgAAAAWBAMAAAAodhaSAAAAMFBMVEX///8QEBCIiIhmZma6urrM\n",
       "zMxUVFQiIiJERETc3Nzu7u6qqqp2dnaYmJgyMjIAAAAcRTyBAAAAAXRSTlMAQObYZgAABGJJREFU\n",
       "WMPNV29oHEUUf8ndZu/29i5+EKQGMRoTC0oNKeiXtLQVzCcxreA/CglH/VBp64m11ih6tF9ySuGo\n",
       "YEKhMFrUkGJvrYSoYHtw64dWkAP9IGLbgzaFVghS+8Gmrfjezsze5HZmkyt+6IPZe3Pvvd33m/fm\n",
       "zRuA/5deuQveoNK6hXYt0nXwJdM+ZcrBjx8RHDXr0zi/Fxo0P6dT8mNkepqRLsy0C2DmPnzs1INw\n",
       "igBdRY3RTjF8+ImmV/UgzDI9XZEuXGk7DBdxnNCDyOFqd7WG9mvG9U8EFtMU/aIehFmmpeygcIGY\n",
       "NukmDrdXC+IXhT8pgrPrdcb1afiQo5mnB2GWackuCxfscrsYkkvk2j1aEO9EQQBcYFyfhg/Zs7Oz\n",
       "U6AHYZZpaUq6MNV2INwCPS/pQKQLJhCB/qXA4p/JyfcMIMwyLfVJF4hJDw/dH1/KVIVcvg8jXtOB\n",
       "6MTc/GxIC6LGB1q8ClDiqlEQXLZCJixK7pB0gZjN5dxfAC+Z7bhCH59Urjo3sFiGIH5eJKLdDinc\n",
       "09XNWhDn+UCLp8HBUmrxNLbe9OGh8RAEl61ANcm8K11AxnkAEkV4/imjFVeAl/nsNINrAPO6SNge\n",
       "pL2NWhDzfKCFDZ2ifh2vbYBvXZZgIYimLIb+lMy90gVkEktgY+EYMVoJBUEbwbkFMKYD0bEJHEIY\n",
       "hOeNxcXLTRBjfKCFW7dFhfzoCIMfegfdZjqFsji6oQPRUYTKaBwIoRAeE8mbZhCQWdJGogki3XgB\n",
       "E3uAcgdpbu6wAiKQwbGBaAPiDO0RLljXBlg0nSpVOA1xILjCFpG6tykyXFvZE5dFOkFqXAtihA+y\n",
       "KO3AJe9mvMmYc7/a3gQRyJy3LPzAa8t9+HJ0jEEuqB4TsiioG7viwR5sbGJABApVscTX4dO6urEV\n",
       "oo1d8arxGxu+wUJ8ZB6cwJU5qNYUECRLDFoF2N5SL9fDiwgv+EhvttHc4b5g8N99brBOzr/kckMw\n",
       "4SxQSB8v8H92w0F8DutAuOjXc7KjDEE8wYT+MLfopv11AKz9k5MHEMRRWwFBsg6vE6M5sfzVPTAQ\n",
       "5mxCBHtEukCu5/s/eYT/9TZ+zyaVfSAe9oRUSPVy+bHHycsFHYgkrmPXuZZ0evLBi3Wuv8AtsnSC\n",
       "L43COI9EcpsCgmSVcup31gICq/qh2czDxHazDs/YdhCIDIvk0vdhUn2uyJ3C6tsOqU9DWmQaVfiR\n",
       "mF8B/lBABEtdHnuWIpH+EKaZfKyxrtczWAqmmc1+MzeAVMnd6IaoSuaUq8hX0QDOLku0sAGUbWEZ\n",
       "Urigyfc3QVcLiGT+5AYCYfXA1rK1hh498MxjfXU60Ld61q7QpZI0ksf8xx/ksWeIlrbwgPjijCI3\n",
       "tOIpUzvZbMUVWot7YnnboRCmU6Z5qRLhxBLurXgpih6XWdDKS+ZLkZZKYvgxh9ij6umw7W8Pvgtn\n",
       "gsszeacMr6f9d349zfJX9a/2ekr6NNbtbecrdQ2XhbuA/gPNon1mxoL+PAAAAABJRU5ErkJggg==\n",
       "\" style=\"display:inline;vertical-align:middle;\" /></a></span></td></tr>\n",
       "<tr><td>&nbsp;</td><td colspan=4 style-\"text-align:left\"><a class=\"ProveItLink\" href=\"../../../../../../core_expr_types/tuples/_theory_nbs_/axioms.ipynb#tuple_len_incr\">proveit.core_expr_types.tuples.tuple_len_incr</a></td></tr><tr><td><a name=\"-0x39fa782fa97d9b32_step6\">6</a></td><td>conjecture</td><td></td><td><span style=\"font-size:20px;\"> <a class=\"ProveItLink\" href=\"../nat3/thm_proof.ipynb\" style=\"text-decoration: none\">&nbsp;&#x22A2;&nbsp;&nbsp;</a><a class=\"ProveItLink\" href=\"../../../__pv_it/theorems/f147593b5b15e3dc286e1d3c9d3aa15c2a17a5260/expr.ipynb\"><img src=\"data:image/png;base64,iVBORw0KGgoAAAANSUhEUgAAADMAAAAPBAMAAAC7N+rPAAAAMFBMVEX///9UVFTMzMzu7u4yMjIQ\n",
       "EBC6uroiIiKIiIiYmJhmZmaqqqpERER2dnbc3NwAAACDMjhQAAAAAXRSTlMAQObYZgAAAOBJREFU\n",
       "GNNjYHh79zQDCjD5c8SA4erXBAa+BQz7J6DKnWQSYGD+wMDA8ZuBvwBVSlyhg4EhgIGBLYyB3wEs\n",
       "wnm8vATMEDvMqMAAUQ4xkOmEAVSXnCKzM0SKuRZiO0yGQY67QREsxXd9MUQAbpccwzXOBoiBrQkg\n",
       "8gCSFKOBEESKNRhkVYgLEEClmAVYgC7ke8DA8xtkLrIuBl0moBT/Z4gUyCMIKc4NQJWsBxjYP4ME\n",
       "VsClhID4HlCKcwLUX+wbYFLeQMwFCoasVcfAAswyyRAZ9a9AHcwOyEHHdgcaUFAAAH26M5vnYGic\n",
       "AAAAAElFTkSuQmCC\n",
       "\" style=\"display:inline;vertical-align:middle;\" /></a></span></td></tr>\n",
       "<tr><td>&nbsp;</td><td colspan=4 style-\"text-align:left\"><a class=\"ProveItLink\" href=\"../nat3/thm_proof.ipynb\">proveit.numbers.numerals.decimals.nat3</a></td></tr><tr><td><a name=\"-0x39fa782fa97d9b32_step7\">7</a></td><td>instantiation</td><td><a href=\"#-0x39fa782fa97d9b32_step8\">8</a></td><td><span style=\"font-size:20px;\"> <a class=\"ProveItLink\" href=\"../../../__pv_it/_proof_tuple_len_4/5e71f8ac2908c71abb9851a78efd810199b0e17b0/proof.ipynb\" style=\"text-decoration: none\">&nbsp;&#x22A2;&nbsp;&nbsp;</a><a class=\"ProveItLink\" href=\"../../../__pv_it/theorems/1245ffae4d6b32311a71bb326e7bbbb6e2cfc4c90/expr.ipynb\"><img src=\"data:image/png;base64,iVBORw0KGgoAAAANSUhEUgAAAM8AAAAVBAMAAAATCqclAAAAMFBMVEX///9UVFQQEBCqqqoiIiJm\n",
       "ZmYyMjJERESYmJjc3NyIiIi6urp2dnbu7u7MzMwAAAADGpxCAAAAAXRSTlMAQObYZgAAAl5JREFU\n",
       "SMellTFs00AUhl/iJHYSXx2xlYkNEELKwMKAcKUurYpkqUIgBMIsLEhQwQQsHgDBlqGVOnSIOmao\n",
       "MsDcVGqlinZIK2BgSVaGikqRMhHEu7PvfOfkbEu84XTne//7fM/P7+AM8thZ5oN0m+vDEZtsal1u\n",
       "svEo+ThLJsxo0dHuhgqyJm2Rl660KrT0IEU2w7aOXwHMy6BKS96veDLW14OozLiu5VQ9uB3ADxn0\n",
       "XnFwmvLqqx6EspO9iRZUG4Hjgt2WQEuKw25fXp3qQVRm6UH1a+D4QC7FoKqrOOwrq0pXB2KyFBAa\n",
       "pg6exaAa/SgbB9vRSZ50VnnaOkOwPR2IyVJBZAWHgxhkIrd+FV5Eu+P+ICyO9abpg+VzkP2UmcdB\n",
       "VJYKqu4/wvFDDCrh1z8N4F5U+RNw2my2AoUmGK7uRFSWkbptzPuNGFTE5eM+LIebZR8GPTZhMebO\n",
       "dSAqywAVsfh/q6DLQP6K32iXFXhx7f9A1RaYIwWEOSB/wDiPfqOAHg8tPFfdTXyjRt7UORMG+qwU\n",
       "AxlBwQ/7mtMlVzgRmlIxJE+UVQyYkdJEKQZawW/gXaNHxrS7BaYHAwxfbsD3IZR7OhAr/BqGos5s\n",
       "YHoxsQL2Hz2MQTQ7J51fF7uwiDkjDw4xLXfw+fFHrL7KUAeisvKF8f3QuURTusAnNBB8ufsWx+ez\n",
       "WpAhus8tPvmW3oJUZ5gORNxZTdUWnr18TTXhDNOBlKZq8mvip3iPdo5rgsuEc2wikHpNiBss4NsW\n",
       "n5g5Lj5ruuJEIHgdgXYy7uRPbNxJPs6SCbPYi9aG/wDA79AJmglhdwAAAABJRU5ErkJggg==\n",
       "\" style=\"display:inline;vertical-align:middle;\" /></a></span></td></tr>\n",
       "<tr><td>&nbsp;</td><td colspan=4 style=\"text-align:left\"><span style=\"font-size:20px;\"><a class=\"ProveItLink\" href=\"../../../../../../__pv_it/common/c06c606ec12678c58933ac85412ecadc2ae28be60/expr.ipynb\"><img src=\"data:image/png;base64,iVBORw0KGgoAAAANSUhEUgAAAAsAAAAJBAMAAAAWSsseAAAAMFBMVEX///9UVFSqqqrMzMwiIiJE\n",
       "RESYmJgyMjK6urru7u4QEBCIiIh2dnZmZmbc3NwAAABRgo0vAAAAAXRSTlMAQObYZgAAAEdJREFU\n",
       "CNdjYOC7c3slAwND1wP2DwwMnMsYeAMYGHh/MrBsYGDgCmCYb8DAMP8Agz5QxXwFBnGmBwysG9gc\n",
       "eYAqpTc/3MEAAP4BD32xAXDqAAAAAElFTkSuQmCC\n",
       "\" style=\"display:inline;vertical-align:middle;\" /></a> : <a class=\"ProveItLink\" href=\"../../../../../../__pv_it/common/c06c606ec12678c58933ac85412ecadc2ae28be60/expr.ipynb\"><img src=\"data:image/png;base64,iVBORw0KGgoAAAANSUhEUgAAAAsAAAAJBAMAAAAWSsseAAAAMFBMVEX///9UVFSqqqrMzMwiIiJE\n",
       "RESYmJgyMjK6urru7u4QEBCIiIh2dnZmZmbc3NwAAABRgo0vAAAAAXRSTlMAQObYZgAAAEdJREFU\n",
       "CNdjYOC7c3slAwND1wP2DwwMnMsYeAMYGHh/MrBsYGDgCmCYb8DAMP8Agz5QxXwFBnGmBwysG9gc\n",
       "eYAqpTc/3MEAAP4BD32xAXDqAAAAAElFTkSuQmCC\n",
       "\" style=\"display:inline;vertical-align:middle;\" /></a>, <a class=\"ProveItLink\" href=\"../../../../../../__pv_it/common/195236b98c6c564a75b5dbada74b173bc52d5c3e0/expr.ipynb\"><img src=\"data:image/png;base64,iVBORw0KGgoAAAANSUhEUgAAAAkAAAAOBAMAAAAPuiubAAAALVBMVEX///+YmJjc3NyIiIhUVFR2\n",
       "dna6urqqqqpmZmYyMjIiIiIQEBBERETu7u4AAAALjtrwAAAAAXRSTlMAQObYZgAAAE9JREFUCNdj\n",
       "4D29gAEIOBtAJF8BiMy7ACKjQATDFON2BgbelxfuKTCwv2XgM2DgmMBwLwCkPK+AgU+Aoe8CA18C\n",
       "70YGBhYBHqARvM2BDAwAqXgQspq5HJAAAAAASUVORK5CYII=\n",
       "\" style=\"display:inline;vertical-align:middle;\" /></a> : <a class=\"ProveItLink\" href=\"../../../../../../__pv_it/common/195236b98c6c564a75b5dbada74b173bc52d5c3e0/expr.ipynb\"><img src=\"data:image/png;base64,iVBORw0KGgoAAAANSUhEUgAAAAkAAAAOBAMAAAAPuiubAAAALVBMVEX///+YmJjc3NyIiIhUVFR2\n",
       "dna6urqqqqpmZmYyMjIiIiIQEBBERETu7u4AAAALjtrwAAAAAXRSTlMAQObYZgAAAE9JREFUCNdj\n",
       "4D29gAEIOBtAJF8BiMy7ACKjQATDFON2BgbelxfuKTCwv2XgM2DgmMBwLwCkPK+AgU+Aoe8CA18C\n",
       "70YGBhYBHqARvM2BDAwAqXgQspq5HJAAAAAASUVORK5CYII=\n",
       "\" style=\"display:inline;vertical-align:middle;\" /></a>, <a class=\"ProveItLink\" href=\"../../../../../../__pv_it/common/ceef4280a2f1cc604b455b54e735507244cc62cd0/expr.ipynb\"><img src=\"data:image/png;base64,iVBORw0KGgoAAAANSUhEUgAAAAkAAAAJBAMAAAASvxsjAAAALVBMVEX///+YmJgQEBDu7u5mZmZU\n",
       "VFQyMjJERESqqqoiIiLc3NzMzMyIiIh2dnYAAABuqkWTAAAAAXRSTlMAQObYZgAAADZJREFUCNdj\n",
       "YGC4c2YDA8PKBvYEBoa5DKwNDCyPGYCAqQBE2l0AkXwCDAxA8QAGE6DKu4IHGABBiAr2Gi8OxgAA\n",
       "AABJRU5ErkJggg==\n",
       "\" style=\"display:inline;vertical-align:middle;\" /></a> : <a class=\"ProveItLink\" href=\"../../../../../../__pv_it/common/ceef4280a2f1cc604b455b54e735507244cc62cd0/expr.ipynb\"><img src=\"data:image/png;base64,iVBORw0KGgoAAAANSUhEUgAAAAkAAAAJBAMAAAASvxsjAAAALVBMVEX///+YmJgQEBDu7u5mZmZU\n",
       "VFQyMjJERESqqqoiIiLc3NzMzMyIiIh2dnYAAABuqkWTAAAAAXRSTlMAQObYZgAAADZJREFUCNdj\n",
       "YGC4c2YDA8PKBvYEBoa5DKwNDCyPGYCAqQBE2l0AkXwCDAxA8QAGE6DKu4IHGABBiAr2Gi8OxgAA\n",
       "AABJRU5ErkJggg==\n",
       "\" style=\"display:inline;vertical-align:middle;\" /></a></span></td></tr><tr><td><a name=\"-0x39fa782fa97d9b32_step8\">8</a></td><td>conjecture</td><td></td><td><span style=\"font-size:20px;\"> <a class=\"ProveItLink\" href=\"../tuple_len_3_typical_eq/thm_proof.ipynb\" style=\"text-decoration: none\">&nbsp;&#x22A2;&nbsp;&nbsp;</a><a class=\"ProveItLink\" href=\"../../../__pv_it/theorems/d91b0baa73b160791e9a9af92b6e7e976f37822b0/expr.ipynb\"><img src=\"data:image/png;base64,iVBORw0KGgoAAAANSUhEUgAAARoAAAAWBAMAAADtKE5GAAAAMFBMVEX///8QEBCIiIhmZma6urrM\n",
       "zMxUVFQiIiJERETc3Nzu7u6qqqp2dnaYmJgyMjIAAAAcRTyBAAAAAXRSTlMAQObYZgAAA01JREFU\n",
       "SMfFVj1oFEEUfneby/7c7m2KVIJwRpN6iZ0meJIileRsLGwSgxaCyBUaMFpEsMghwlYmhcJJQEMK\n",
       "b9FCtMlhggGNsGijQmQLI0QhBCu9QPDN7L673b3M7amFr5j75t03b76deTPzAJLsLHRimcpfDfsz\n",
       "vurCKgGBPeetXoi5/WH3k6fI2gGfAY/BDRF1kcIuhpzazVKo122L1Wgz7ZXcW78NcJH4CN4w+E1E\n",
       "3yI1W2Fvzgpr88Rqcqg0e0C88hYsu/CY+AjmmVf0CYYVhDXC84PphHsvxWreAzx8VReqSe+CWQI9\n",
       "H/AR5DD9dEdAl+0grGyH3WORlH0gVnONfYhYTVcvmB5oPQEfgfF6aWlORJ+jsFHGWqSXK4jUqKX2\n",
       "atBwp+AL8RH8nJ29IeIeJjUMqEODQQp87TtOu9RXBN0SqUlbSWo0NvUK8RFcACg3lm47Sr5Dahg4\n",
       "aed2/BB7laq/c3OO4oHhkRp9m5tF0RU3QY26dgzbz8RHMBKcCm4rUfZ1UoNAOwiSn+3ZOpg88+AG\n",
       "dDuQLYnWRnYSd+oQjntGfAQypJs32/cot5fUIJDqIPsaJA+qNQ74RJkdkZpUIVFNCjd/nPgIdFdu\n",
       "/vlLrCY1A9UiXTdj/BSmZv5NjWqDshtVo3pnECwMbLLAPwbY4dX78q07hcuxHFw3LpzgZ9xfoa5S\n",
       "LG8mOt0ps87VjBKfgfJ5TIqrGTYoPc2PwZVMT2sWVx247L8pZgFzKJAFTiiL42uTlMW4tnI9msXw\n",
       "FL9NsjLsC5U8C43JWmwm9WoA8L8pHar4f7erWBxIE7BQBKkmUsPPfhrnY2TeaHsQ6hkuv2+GiM8A\n",
       "Ox8pJz3BNxonwA6FHCU1CLTJ/rtHQJ5GNPgWOID1DRybK4rUsD2Uzu0N+2SZzTBFgLtGjt7CdpP4\n",
       "DBiYA1Vb+YQ/ZoUpMe02L8OLFvCo/csQJTet4dJK9DJQaZCyx0/BfEWufMAWr3pL+GrWWkD7VzNG\n",
       "blrDFX41g0t48skwnHYyl2rYqoPv6FksU0VB17WWbwFtKgrFjpFDb0LDFa4owuaEWkG1ZUAcKB1U\n",
       "W8Y+xUoDlYlf3qcmzNrRSrQ/oRL96JcqxZi7v9NK1LADvmHvI9eA/2e/AQA2FjDT8yibAAAAAElF\n",
       "TkSuQmCC\n",
       "\" style=\"display:inline;vertical-align:middle;\" /></a></span></td></tr>\n",
       "<tr><td>&nbsp;</td><td colspan=4 style-\"text-align:left\"><a class=\"ProveItLink\" href=\"../tuple_len_3_typical_eq/thm_proof.ipynb\">proveit.numbers.numerals.decimals.tuple_len_3_typical_eq</a></td></tr></table>"
      ],
      "text/plain": [
       "\tstep type\trequirements\tstatement\n",
       "0\tgeneralizaton\t1\t|- forall_{a, b, c, d} (|(a, b, c, d)| = 4)\n",
       "1\tinstantiation\t2, 3, 4\t|- |(a, b, c, d)| = 4\n",
       "\tx : |(a, b, c, d)|, y : 3 + 1, z : 4\n",
       "2\taxiom\t\t|- forall_{x, y, z | x = y, y = z} (x = z)\n",
       "\tproveit.logic.equality.equals_transitivity\n",
       "3\tinstantiation\t5, 6, 7\t|- |(a, b, c, d)| = (3 + 1)\n",
       "\ti : 3, a : (a, b, c), b : d\n",
       "4\tconjecture\t\t|- (3 + 1) = 4\n",
       "5\taxiom\t\t|- forall_{i in Natural} [forall_{a_{1}, ..a_{_a}.., a_{i}, b} (|(a_{1}, ..a_{_a}.., a_{i}, b)| = (i + 1))]\n",
       "\tproveit.core_expr_types.tuples.tuple_len_incr\n",
       "6\tconjecture\t\t|- 3 in Natural\n",
       "7\tinstantiation\t8\t|- |(a, b, c)| = |(1, ..k.., 3)|\n",
       "\ta : a, b : b, c : c\n",
       "8\tconjecture\t\t|- forall_{a, b, c} (|(a, b, c)| = |(1, ..k.., 3)|)"
      ]
     },
     "execution_count": 6,
     "metadata": {},
     "output_type": "execute_result"
    }
   ],
   "source": [
    "%qed"
   ]
  }
 ],
 "metadata": {
  "kernelspec": {
   "display_name": "Python 3",
   "language": "python",
   "name": "python3"
  }
 },
 "nbformat": 4,
 "nbformat_minor": 0
}