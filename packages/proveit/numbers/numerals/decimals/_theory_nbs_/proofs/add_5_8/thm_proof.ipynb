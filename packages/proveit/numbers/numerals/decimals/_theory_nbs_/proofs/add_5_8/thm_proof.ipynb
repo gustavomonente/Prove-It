{
 "cells": [
  {
   "cell_type": "markdown",
   "metadata": {},
   "source": [
    "Proof of <a class=\"ProveItLink\" href=\"../../../../../../_theory_nbs_/theory.ipynb\">proveit</a>.<a class=\"ProveItLink\" href=\"../../../../../_theory_nbs_/theory.ipynb\">numbers</a>.<a class=\"ProveItLink\" href=\"../../../../_theory_nbs_/theory.ipynb\">numerals</a>.<a class=\"ProveItLink\" href=\"../../theory.ipynb\">decimals</a>.<a class=\"ProveItLink\" href=\"../../theorems.ipynb#add_5_8\">add_5_8</a> theorem\n",
    "========"
   ]
  },
  {
   "cell_type": "code",
   "execution_count": 1,
   "metadata": {},
   "outputs": [],
   "source": [
    "import proveit\n",
    "theory = proveit.Theory() # the theorem's theory"
   ]
  },
  {
   "cell_type": "code",
   "execution_count": 2,
   "metadata": {},
   "outputs": [
    {
     "data": {
      "text/html": [
       "Under these <a href=\"presumptions.txt\">presumptions</a>, we begin our proof of<br><strong id=\"add_5_8\">add_5_8:</strong> <a class=\"ProveItLink\" href=\"../../../__pv_it/theorems/6f4ec5e452f76eaf28fa2150207b457705b208310/expr.ipynb\"><img src=\"data:image/png;base64,iVBORw0KGgoAAAANSUhEUgAAAGwAAAAUBAMAAACaOcVSAAAAMFBMVEX///9UVFTMzMx2dna6uroQ\n",
       "EBCqqqqIiIgiIiJmZmYyMjJERETu7u6YmJjc3NwAAAC+aOQFAAAAAXRSTlMAQObYZgAAAY9JREFU\n",
       "OMuVlD1Iw1AQx/81jbY0SQMOTlocnUQEUaeOdXPoWGgXUScFcXBqQHSO1kXoED8WQ5UO4qQlm1AF\n",
       "s4jgYsFFJwe1i9V6CWnJy0fFG+69y/F7d7m79wDJRLD0N9BDboBTY6zAfrxe2wNGgoHnyQvSZ0C+\n",
       "/e5xqYgUUPcjCwYkFSsmRBU4Gurks+jkZ0LQwK16IGEwZWCgiaSCGBFy1+FgXBWCAmHeF+3JQDSL\n",
       "pIYXBGDRL4OjSh0HYSSU5AYtww+7LIbU9xTpmWBM2ASuaL3EW5rFuHaF9KO91W1Ru5g0XQa2bTOh\n",
       "sNhy5pMOWgpJcj2NrG3Gf0jN6vqWrh/QTpRRzAHjIRifs7AI1fqDicYb6GuGYFIDiaaVJK8h3mKw\n",
       "O6tOQMb1b3IHS7YsjEoSB2IaG42aWXNK4o3GVxFrWUWmcblvsH2rQKQRKfmwogHRtPpmJfI6Ufb0\n",
       "bbREo4xDL7WTPzExt38Oe7jgnRJnBJXweyOqbuvWbfhG2S21UE/9j2v67wNJQh8Fscej8AtE+Hl/\n",
       "Pahe5wAAAABJRU5ErkJggg==\n",
       "\" style=\"display:inline;vertical-align:middle;\" /></a><br>(see <a class=\"ProveItLink\" href=\"../../../__pv_it/theorems/2ad2fa092da62bd04aac3b8cd24f3c3e72b9f9ba0/dependencies.ipynb\">dependencies</a>)<br>"
      ],
      "text/plain": [
       "add_5_8: (5 + 8) = 13"
      ]
     },
     "execution_count": 2,
     "metadata": {},
     "output_type": "execute_result"
    }
   ],
   "source": [
    "%proving add_5_8"
   ]
  },
  {
   "cell_type": "code",
   "execution_count": null,
   "metadata": {},
   "outputs": [],
   "source": []
  }
 ],
 "metadata": {
  "kernelspec": {
   "display_name": "Python 3",
   "language": "python",
   "name": "python3"
  }
 },
 "nbformat": 4,
 "nbformat_minor": 0
}