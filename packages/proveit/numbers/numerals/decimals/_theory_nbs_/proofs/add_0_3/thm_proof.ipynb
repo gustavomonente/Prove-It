{
 "cells": [
  {
   "cell_type": "markdown",
   "metadata": {},
   "source": [
    "Proof of <a class=\"ProveItLink\" href=\"../../../../../../_theory_nbs_/theory.ipynb\">proveit</a>.<a class=\"ProveItLink\" href=\"../../../../../_theory_nbs_/theory.ipynb\">numbers</a>.<a class=\"ProveItLink\" href=\"../../../../_theory_nbs_/theory.ipynb\">numerals</a>.<a class=\"ProveItLink\" href=\"../../theory.ipynb\">decimals</a>.<a class=\"ProveItLink\" href=\"../../theorems.ipynb#add_0_3\">add_0_3</a> theorem\n",
    "========"
   ]
  },
  {
   "cell_type": "code",
   "execution_count": 1,
   "metadata": {},
   "outputs": [],
   "source": [
    "import proveit\n",
    "theory = proveit.Theory() # the theorem's theory"
   ]
  },
  {
   "cell_type": "code",
   "execution_count": 2,
   "metadata": {},
   "outputs": [
    {
     "data": {
      "text/html": [
       "Under these <a href=\"presumptions.txt\">presumptions</a>, we begin our proof of<br><strong id=\"add_0_3\">add_0_3:</strong> <a class=\"ProveItLink\" href=\"../../../__pv_it/theorems/615d89c8b76c334fb9564edf5278b205cc2411960/expr.ipynb\"><img src=\"data:image/png;base64,iVBORw0KGgoAAAANSUhEUgAAAGEAAAAUBAMAAABvx07iAAAAMFBMVEX///9UVFTMzMx2dna6uroQ\n",
       "EBCqqqqIiIgiIiJmZmYyMjJERETu7u6YmJjc3NwAAAC+aOQFAAAAAXRSTlMAQObYZgAAAVBJREFU\n",
       "KM91k79Kw1AUxj+TEGtjavAJ+ghBh6IuXQRHhzi5ZOvmKg5iFwUn7youujhkEF9ADUihoGBfQAm4\n",
       "6KKCoCKK3j+lzbk39yxJficf937nD9AYoDo2LBw3gLs9R1ljfinFRKH/KjFwBpyiT7PP8H8xfawr\n",
       "JEbIEK7CHWY76rGT4gto6QqFawWCCP4PUSy38Q30dIXCT8BMBO+DKCCPr7cN0wJvAXcM3qem6Me8\n",
       "IMxQCHwBvMZwNMXjfs4tSnNuJoON8B5XMDjv2hmTCb9C1zhD4GR8q8Us282yE5Vby+G8md3jOJHO\n",
       "fer8BbhKTYXC/FbBOUJa3b9cpLxuyUc0wty52cF14CAfOi+FwgsQ7ntNoriXhZ+KNYXCK/ztenMW\n",
       "ROEdHvHu1ZuaQuEamcEOaVf1sIeksbflj5ZlPy5ti2NO+3ijqiMoLAnr1j5U43/7s2xiPfOxhwAA\n",
       "AABJRU5ErkJggg==\n",
       "\" style=\"display:inline;vertical-align:middle;\" /></a><br>(see <a class=\"ProveItLink\" href=\"../../../__pv_it/theorems/dd6a3f40989e9ee16b7b6f274666958c26b1d7d40/dependencies.ipynb\">dependencies</a>)<br>"
      ],
      "text/plain": [
       "add_0_3: (0 + 3) = 3"
      ]
     },
     "execution_count": 2,
     "metadata": {},
     "output_type": "execute_result"
    }
   ],
   "source": [
    "%proving add_0_3"
   ]
  },
  {
   "cell_type": "code",
   "execution_count": null,
   "metadata": {},
   "outputs": [],
   "source": []
  }
 ],
 "metadata": {
  "kernelspec": {
   "display_name": "Python 3",
   "language": "python",
   "name": "python3"
  }
 },
 "nbformat": 4,
 "nbformat_minor": 0
}