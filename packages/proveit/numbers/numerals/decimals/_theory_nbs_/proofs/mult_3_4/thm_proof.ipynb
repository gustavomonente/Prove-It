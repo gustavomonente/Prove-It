{
 "cells": [
  {
   "cell_type": "markdown",
   "metadata": {},
   "source": [
    "Proof of <a class=\"ProveItLink\" href=\"../../../../../../_theory_nbs_/theory.ipynb\">proveit</a>.<a class=\"ProveItLink\" href=\"../../../../../_theory_nbs_/theory.ipynb\">numbers</a>.<a class=\"ProveItLink\" href=\"../../../../_theory_nbs_/theory.ipynb\">numerals</a>.<a class=\"ProveItLink\" href=\"../../theory.ipynb\">decimals</a>.<a class=\"ProveItLink\" href=\"../../theorems.ipynb#mult_3_4\">mult_3_4</a> theorem\n",
    "========"
   ]
  },
  {
   "cell_type": "code",
   "execution_count": 1,
   "metadata": {},
   "outputs": [],
   "source": [
    "import proveit\n",
    "theory = proveit.Theory() # the theorem's theory"
   ]
  },
  {
   "cell_type": "code",
   "execution_count": 2,
   "metadata": {},
   "outputs": [
    {
     "data": {
      "text/html": [
       "Under these <a href=\"presumptions.txt\">presumptions</a>, we begin our proof of<br><strong id=\"mult_3_4\">mult_3_4:</strong> <a class=\"ProveItLink\" href=\"../../../__pv_it/theorems/bd2e2e0c498ed571a42adc89e20f55b317135e270/expr.ipynb\"><img src=\"data:image/png;base64,iVBORw0KGgoAAAANSUhEUgAAAGEAAAAUBAMAAABvx07iAAAAMFBMVEX////MzMxUVFR2dna6uroQ\n",
       "EBCqqqqIiIgiIiJmZmYyMjJERETu7u6YmJjc3NwAAACgK8IjAAAAAXRSTlMAQObYZgAAAWtJREFU\n",
       "KM+Fk79Lw0AUx781SdMfSZo/oYugU4sdap0cda+g4OLool0c3AKCq1kDFYubDtZBXKRaCoLgYGaH\n",
       "EnDpKCpFJFDfXcWLyRHfEt69+3zfj9wDLB8J20GaPQIvtevIQcbFTCC9ang3Nn0uYLnYjSTKlWF0\n",
       "Erezm8AAygdgutDHKDkitlcG6nFgsBACbWCNFAOoTZSEqPVMxH0ih0nEOlAJMOJ+pCqlQERhWUZ0\n",
       "+6jY2OctHYjQkBGKKyPIjvrosUIW22IeLUaYvMqlc2ZnEUJ9Bw6n3bIqDF4UGJF15DlojmhyX6PZ\n",
       "4YkJb3Ei8yonPHDCClAc/wgY1TRCZ+1RVaVwSvAfNe+dbLSgOqKPU0FsM3XqXLtELhRq2m/n8RyZ\n",
       "KvQADXL8P6+EBJCvxgmdiFGtMQeskLfqXYmQcvfmo2DHgPzs1zG6k8knfyUSe0h57KYrO62n7cet\n",
       "bBE6/2xUwopBGiHb2mHK/W+TbWHO40GwWwAAAABJRU5ErkJggg==\n",
       "\" style=\"display:inline;vertical-align:middle;\" /></a><br>(see <a class=\"ProveItLink\" href=\"../../../__pv_it/theorems/92b95de6c8301485effba1ab85b7a757e0fc2dfe0/dependencies.ipynb\">dependencies</a>)<br>"
      ],
      "text/plain": [
       "mult_3_4: (3 * 4) = 12"
      ]
     },
     "execution_count": 2,
     "metadata": {},
     "output_type": "execute_result"
    }
   ],
   "source": [
    "%proving mult_3_4"
   ]
  },
  {
   "cell_type": "code",
   "execution_count": null,
   "metadata": {},
   "outputs": [],
   "source": []
  }
 ],
 "metadata": {
  "kernelspec": {
   "display_name": "Python 3",
   "language": "python",
   "name": "python3"
  }
 },
 "nbformat": 4,
 "nbformat_minor": 0
}