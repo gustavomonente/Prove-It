{
 "cells": [
  {
   "cell_type": "markdown",
   "metadata": {},
   "source": [
    "Proof of <a class=\"ProveItLink\" href=\"../../../../../../_theory_nbs_/theory.ipynb\">proveit</a>.<a class=\"ProveItLink\" href=\"../../../../../_theory_nbs_/theory.ipynb\">numbers</a>.<a class=\"ProveItLink\" href=\"../../../../_theory_nbs_/theory.ipynb\">numerals</a>.<a class=\"ProveItLink\" href=\"../../theory.ipynb\">decimals</a>.<a class=\"ProveItLink\" href=\"../../theorems.ipynb#add_5_5\">add_5_5</a> theorem\n",
    "========"
   ]
  },
  {
   "cell_type": "code",
   "execution_count": 1,
   "metadata": {},
   "outputs": [],
   "source": [
    "import proveit\n",
    "theory = proveit.Theory() # the theorem's theory"
   ]
  },
  {
   "cell_type": "code",
   "execution_count": 2,
   "metadata": {},
   "outputs": [
    {
     "data": {
      "text/html": [
       "Under these <a href=\"presumptions.txt\">presumptions</a>, we begin our proof of<br><strong id=\"add_5_5\">add_5_5:</strong> <a class=\"ProveItLink\" href=\"../../../__pv_it/theorems/73ebc916a8428854f8c142ce91033f20e9758d710/expr.ipynb\"><img src=\"data:image/png;base64,iVBORw0KGgoAAAANSUhEUgAAAGwAAAAUBAMAAACaOcVSAAAAMFBMVEX///9UVFTMzMx2dna6uroQ\n",
       "EBCqqqqIiIgiIiJmZmYyMjJERETu7u6YmJjc3NwAAAC+aOQFAAAAAXRSTlMAQObYZgAAAWZJREFU\n",
       "OMtjYOC7wIAdsD1gwANOMzCsPaCZgCoIFpHDroG51ghIrmNgiP//GU0KLHIKU0vqAQaGZQwnHjDw\n",
       "TmBgWCwOc086lAaLMBegaeIRlj/AwBvAwLyAgQMoLwCXgGkDi/AEYNh2/wADtwAD2x+GFww4tTEs\n",
       "waaNX4CB5RtDJZAje30SmjaIiCU2becnMLB8Z9gL5OxheO+Aqg0icgsccKvAYAJM23sDBqbvDG1g\n",
       "LncDqjaISAY2295PYGD6zBAC5nL+AxJWq1a1rlq1kAEuoo/bkUBtjAsYmL+g2AYV0ccRJGzfQI5k\n",
       "XcDA+QdFG1TEA8lvAvAI2MDA+wcUJJwMDBwLULRBRW5hsw0S3cBA5pvAcPUBijaoyGQMbfXAxNXG\n",
       "cFQB7JCXhnPQ4g0isghd18T4lRcYDpcLMYATFwNGKoEkwQbc+YZ3AjLvDEoOKcCT3/bhlDlFIJuS\n",
       "bCAo1HAVCrx4CgUAuIV6cllCWn8AAAAASUVORK5CYII=\n",
       "\" style=\"display:inline;vertical-align:middle;\" /></a><br>(see <a class=\"ProveItLink\" href=\"../../../__pv_it/theorems/7c13a40aea092df862f725069e729840cc2b7ca80/dependencies.ipynb\">dependencies</a>)<br>"
      ],
      "text/plain": [
       "add_5_5: (5 + 5) = 10"
      ]
     },
     "execution_count": 2,
     "metadata": {},
     "output_type": "execute_result"
    }
   ],
   "source": [
    "%proving add_5_5"
   ]
  },
  {
   "cell_type": "code",
   "execution_count": null,
   "metadata": {},
   "outputs": [],
   "source": []
  }
 ],
 "metadata": {
  "kernelspec": {
   "display_name": "Python 3",
   "language": "python",
   "name": "python3"
  }
 },
 "nbformat": 4,
 "nbformat_minor": 0
}