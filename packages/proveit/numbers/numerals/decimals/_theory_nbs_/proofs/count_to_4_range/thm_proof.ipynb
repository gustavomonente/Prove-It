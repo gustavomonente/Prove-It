{
 "cells": [
  {
   "cell_type": "markdown",
   "metadata": {},
   "source": [
    "Proof of <a class=\"ProveItLink\" href=\"../../../../../../_theory_nbs_/theory.ipynb\">proveit</a>.<a class=\"ProveItLink\" href=\"../../../../../_theory_nbs_/theory.ipynb\">numbers</a>.<a class=\"ProveItLink\" href=\"../../../../_theory_nbs_/theory.ipynb\">numerals</a>.<a class=\"ProveItLink\" href=\"../../theory.ipynb\">decimals</a>.<a class=\"ProveItLink\" href=\"../../theorems.ipynb#count_to_4_range\">count_to_4_range</a> theorem\n",
    "========"
   ]
  },
  {
   "cell_type": "code",
   "execution_count": 1,
   "metadata": {},
   "outputs": [],
   "source": [
    "import proveit\n",
    "theory = proveit.Theory() # the theorem's theory"
   ]
  },
  {
   "cell_type": "code",
   "execution_count": 2,
   "metadata": {},
   "outputs": [
    {
     "data": {
      "text/html": [
       "Under these <a href=\"presumptions.txt\">presumptions</a>, we begin our proof of<br><strong id=\"count_to_4_range\">count_to_4_range:</strong> <a class=\"ProveItLink\" href=\"../../../__pv_it/theorems/8eae313f50f1c362dbc502afe735cb59b664a55a0/expr.ipynb\"><img src=\"data:image/png;base64,iVBORw0KGgoAAAANSUhEUgAAAL8AAAAUBAMAAAAuH/EYAAAAMFBMVEX////MzMxUVFR2dna6uroQ\n",
       "EBCqqqqIiIgiIiJmZmYyMjJERETu7u6YmJjc3NwAAACgK8IjAAAAAXRSTlMAQObYZgAAAiNJREFU\n",
       "OMudVb9LI0EYfTFmE5Pd4J8giHBWWbQ41CaN4B+gcKJgLCwEERuLqwwW4oFosAsqip0W5/WHGgQx\n",
       "YOG2J/gDbLS4Q/QKkTvizM6P3Z1Zd4MDu7wd3vve7Pd9MwPkHcSP2ZC5303Kzn0TZvVnO0P53oGS\n",
       "mE1U0HKric0fMdGF7Dt5pmps7gTJvww9wPgvmJkOmDuaPkvExniEAZdZFZidBW6wCYwwtFDCi2DO\n",
       "dwCfNf0vsp6efxEGXJahf3HDDb4ABZaMwSJeOTF/SZinmn6VPFaEgZDdw2dwUEOBF8FLUTJLmNmi\n",
       "qi/HGAjZV78BGWsC1m0OrikzWVH06UqMgZAdBg1anzm4+8bnzDnKtNwq9+/TsUdhzok2kLKloAEp\n",
       "vVjiMP9VUKZRVnukFG0gZcNBg6pHGWGTky4z8agESBWjDaQsaJAWqf4DHLs7zbQ/ZODJgimaRp61\n",
       "aaPGDYzu6vboHFrLXg12m0iRJwsUOWEjzQzGfP2UkkX2jbgiS1mfu29rMOm+uu/t+4QLGuuK7oML\n",
       "FjVFTp02Wy0iTWaaGFCSK3Zf8kvKhghcn9hzsEwWfNBovCCzQtu1ulFkCMnjJwfZdsWA5qyt63WL\n",
       "kRbBX24X0lBSlhHnpCE7aQY6qoceFQoJWqi6e9iJxhXDDkGhh51KghaKyo44PvP2YAjSj+vcrUqS\n",
       "4ywgExeOvNgs6Cj3/oVj6f3jBGRNXZnXH7syiewNZj2yYzdC0DEAAAAASUVORK5CYII=\n",
       "\" style=\"display:inline;vertical-align:middle;\" /></a><br>(see <a class=\"ProveItLink\" href=\"../../../__pv_it/theorems/725706ffabe32928de29ac847ddaab4876e0a8610/dependencies.ipynb\">dependencies</a>)<br>"
      ],
      "text/plain": [
       "count_to_4_range: (1, 2, 3, 4) = (1, ..k.., 4)"
      ]
     },
     "execution_count": 2,
     "metadata": {},
     "output_type": "execute_result"
    }
   ],
   "source": [
    "%proving count_to_4_range"
   ]
  },
  {
   "cell_type": "code",
   "execution_count": null,
   "metadata": {},
   "outputs": [],
   "source": []
  }
 ],
 "metadata": {
  "kernelspec": {
   "display_name": "Python 3",
   "language": "python",
   "name": "python3"
  }
 },
 "nbformat": 4,
 "nbformat_minor": 0
}