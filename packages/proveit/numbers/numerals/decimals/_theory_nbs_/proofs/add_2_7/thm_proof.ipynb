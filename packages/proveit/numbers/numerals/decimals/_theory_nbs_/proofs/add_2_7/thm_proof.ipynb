{
 "cells": [
  {
   "cell_type": "markdown",
   "metadata": {},
   "source": [
    "Proof of <a class=\"ProveItLink\" href=\"../../../../../../_theory_nbs_/theory.ipynb\">proveit</a>.<a class=\"ProveItLink\" href=\"../../../../../_theory_nbs_/theory.ipynb\">numbers</a>.<a class=\"ProveItLink\" href=\"../../../../_theory_nbs_/theory.ipynb\">numerals</a>.<a class=\"ProveItLink\" href=\"../../theory.ipynb\">decimals</a>.<a class=\"ProveItLink\" href=\"../../theorems.ipynb#add_2_7\">add_2_7</a> theorem\n",
    "========"
   ]
  },
  {
   "cell_type": "code",
   "execution_count": 1,
   "metadata": {},
   "outputs": [],
   "source": [
    "import proveit\n",
    "theory = proveit.Theory() # the theorem's theory"
   ]
  },
  {
   "cell_type": "code",
   "execution_count": 2,
   "metadata": {},
   "outputs": [
    {
     "data": {
      "text/html": [
       "Under these <a href=\"presumptions.txt\">presumptions</a>, we begin our proof of<br><strong id=\"add_2_7\">add_2_7:</strong> <a class=\"ProveItLink\" href=\"../../../__pv_it/theorems/2aeb1c2fee74c8bcdec6248db9a4cd04770651ea0/expr.ipynb\"><img src=\"data:image/png;base64,iVBORw0KGgoAAAANSUhEUgAAAGEAAAAUBAMAAABvx07iAAAAMFBMVEX///9UVFTMzMx2dna6uroQ\n",
       "EBCqqqqIiIgiIiJmZmYyMjJERETu7u6YmJjc3NwAAAC+aOQFAAAAAXRSTlMAQObYZgAAAXNJREFU\n",
       "KM91kz1Iw0AUx/9pbOxHUrM4dLLg4mY0Q6kg6eimg5M4dOukFrc6aER0jugmiK4ZVNyVLIJfQxdX\n",
       "zSI4SXHUYry7gOaeyYNL7t7d7979794DKj2k22qGHw/A3dGl7Juo2ralhHSpfjDFfWfQTThNaeol\n",
       "iiJTP6HETa+yDBgeigHyC7GvHf+OAQWoU2IUqAKFEHkXyrdEWMA025ISn4ADvAGlAZQPiQCGOszf\n",
       "JDK+gK0QXTEoDAhRZk31SIwlcMFXoj9vEWKWNUNIV31hnGZHOu9hTyzYhkzoffbRXBKj3NGcFhZ5\n",
       "tyjiz/j+ru+f8u4w3z7Xp9JX1p1aTHRBYhQuUglgLBCn0jy8y8SIye/LTegw4wl2Aq58HNiUiUnv\n",
       "V3nCnoIce7cGUNmx912ZWON3V7QIsRHcs7SdYy/FsogQry32KdUIoTYOIbIkYe3k4DY92Q3pYR+T\n",
       "g3pGfVxnFc7/bP+rqHQrhxkTmVX7nO7+ASi9XLxaHmb2AAAAAElFTkSuQmCC\n",
       "\" style=\"display:inline;vertical-align:middle;\" /></a><br>(see <a class=\"ProveItLink\" href=\"../../../__pv_it/theorems/fc63c74a815d1b781b22b2f10853e16b2f6b1deb0/dependencies.ipynb\">dependencies</a>)<br>"
      ],
      "text/plain": [
       "add_2_7: (2 + 7) = 9"
      ]
     },
     "execution_count": 2,
     "metadata": {},
     "output_type": "execute_result"
    }
   ],
   "source": [
    "%proving add_2_7"
   ]
  },
  {
   "cell_type": "code",
   "execution_count": null,
   "metadata": {},
   "outputs": [],
   "source": []
  }
 ],
 "metadata": {
  "kernelspec": {
   "display_name": "Python 3",
   "language": "python",
   "name": "python3"
  }
 },
 "nbformat": 4,
 "nbformat_minor": 0
}