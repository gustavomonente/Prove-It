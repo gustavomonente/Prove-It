{
 "cells": [
  {
   "cell_type": "markdown",
   "metadata": {},
   "source": [
    "Proof of <a class=\"ProveItLink\" href=\"../../../../../../_theory_nbs_/theory.ipynb\">proveit</a>.<a class=\"ProveItLink\" href=\"../../../../../_theory_nbs_/theory.ipynb\">numbers</a>.<a class=\"ProveItLink\" href=\"../../../../_theory_nbs_/theory.ipynb\">numerals</a>.<a class=\"ProveItLink\" href=\"../../theory.ipynb\">decimals</a>.<a class=\"ProveItLink\" href=\"../../theorems.ipynb#add_8_7\">add_8_7</a> theorem\n",
    "========"
   ]
  },
  {
   "cell_type": "code",
   "execution_count": 1,
   "metadata": {},
   "outputs": [],
   "source": [
    "import proveit\n",
    "theory = proveit.Theory() # the theorem's theory"
   ]
  },
  {
   "cell_type": "code",
   "execution_count": 2,
   "metadata": {},
   "outputs": [
    {
     "data": {
      "text/html": [
       "Under these <a href=\"presumptions.txt\">presumptions</a>, we begin our proof of<br><strong id=\"add_8_7\">add_8_7:</strong> <a class=\"ProveItLink\" href=\"../../../__pv_it/theorems/c14ba3d4d319f3462df494816d81e7ddb85f0c5d0/expr.ipynb\"><img src=\"data:image/png;base64,iVBORw0KGgoAAAANSUhEUgAAAGwAAAAUBAMAAACaOcVSAAAAMFBMVEX////MzMxUVFR2dna6uroQ\n",
       "EBCqqqqIiIgiIiJmZmYyMjJERETu7u6YmJjc3NwAAACgK8IjAAAAAXRSTlMAQObYZgAAAYNJREFU\n",
       "OMtjYOC7wIAdsD1gwANOMzAcL56CKsbYNNnYmEEPu4a1ByQTGBjWMTBMYGBKQJHh/f///yeGU5ha\n",
       "Ug8wMMT//wxUMYGB7QIDzwKIcDqE4gS6T4GBuQBNE4+yPlDbYnWgLMcDBuYNDDwNKNqYgUiAgScA\n",
       "w7b7B0DmAcELBgaW3weYL6BoAwJ3IF6CW1slEOv/NWNA17YBiC2xatO9PpGBYS/ITf/XoGsDW38L\n",
       "zFoFBhPg2vYwvHdgaANyMj2+OqBpOw8iMrDaxsDA3cAQAgxMBYb6GCDPatWq1lWrFoHlq0CEPA5t\n",
       "nP9A2lgPMDB+Q7OtG6c2pgUMzF9AjgQ5SBdN2ycQ4YHkNwWYNtYFDJx/QEHCCoy+fajaGH8ywIIE\n",
       "3TZOYFwvAAUyyxoG3gJUbWyfQeRkDG31Bxj4JjBcfQB2iNDkKWgRwBcGIhei65oUv/ICw0ujOeDE\n",
       "hQTSUZJgA+58wzsBmXcGmYORlJHBPpwypwhkU5INBPkeV6HAi6dQAAA+0HQIQDcDCwAAAABJRU5E\n",
       "rkJggg==\n",
       "\" style=\"display:inline;vertical-align:middle;\" /></a><br>(see <a class=\"ProveItLink\" href=\"../../../__pv_it/theorems/4aba9e7dafc0c1a8c01f389348300974e3100dcb0/dependencies.ipynb\">dependencies</a>)<br>"
      ],
      "text/plain": [
       "add_8_7: (8 + 7) = 15"
      ]
     },
     "execution_count": 2,
     "metadata": {},
     "output_type": "execute_result"
    }
   ],
   "source": [
    "%proving add_8_7"
   ]
  },
  {
   "cell_type": "code",
   "execution_count": null,
   "metadata": {},
   "outputs": [],
   "source": []
  }
 ],
 "metadata": {
  "kernelspec": {
   "display_name": "Python 3",
   "language": "python",
   "name": "python3"
  }
 },
 "nbformat": 4,
 "nbformat_minor": 0
}