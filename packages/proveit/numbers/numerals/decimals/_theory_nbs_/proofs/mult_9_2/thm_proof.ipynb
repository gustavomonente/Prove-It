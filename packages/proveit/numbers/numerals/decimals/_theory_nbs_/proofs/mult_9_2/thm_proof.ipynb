{
 "cells": [
  {
   "cell_type": "markdown",
   "metadata": {},
   "source": [
    "Proof of <a class=\"ProveItLink\" href=\"../../../../../../_theory_nbs_/theory.ipynb\">proveit</a>.<a class=\"ProveItLink\" href=\"../../../../../_theory_nbs_/theory.ipynb\">numbers</a>.<a class=\"ProveItLink\" href=\"../../../../_theory_nbs_/theory.ipynb\">numerals</a>.<a class=\"ProveItLink\" href=\"../../theory.ipynb\">decimals</a>.<a class=\"ProveItLink\" href=\"../../theorems.ipynb#mult_9_2\">mult_9_2</a> theorem\n",
    "========"
   ]
  },
  {
   "cell_type": "code",
   "execution_count": 1,
   "metadata": {},
   "outputs": [],
   "source": [
    "import proveit\n",
    "theory = proveit.Theory() # the theorem's theory"
   ]
  },
  {
   "cell_type": "code",
   "execution_count": 2,
   "metadata": {},
   "outputs": [
    {
     "data": {
      "text/html": [
       "Under these <a href=\"presumptions.txt\">presumptions</a>, we begin our proof of<br><strong id=\"mult_9_2\">mult_9_2:</strong> <a class=\"ProveItLink\" href=\"../../../__pv_it/theorems/f5cc6f931aa1473aae8272fd14d4973d6dd44a470/expr.ipynb\"><img src=\"data:image/png;base64,iVBORw0KGgoAAAANSUhEUgAAAGEAAAAUBAMAAABvx07iAAAAMFBMVEX////MzMxUVFR2dna6uroQ\n",
       "EBCqqqqIiIgiIiJmZmYyMjJERETu7u6YmJjc3NwAAACgK8IjAAAAAXRSTlMAQObYZgAAAY5JREFU\n",
       "KM+Fkz1LA0EQhp9cYi6JlxjwB2ijaKNiihBFTCk2WihYRAlYWWgrdla2ucImoBDsFDV2Fn5wCELU\n",
       "IqJFOrlGSBnxAwlq3IveBZL1HDj2dt99dmdmZyByS4ut4GY3cBUbcKZa9iSKYkq3aquJpBgO0eZ5\n",
       "NOzVC7wvaLmW3f4UBKEXwjrKNIpuK1swC/Fm4GL4A5bhGgImHTm8FVuag0GTy5Y7woIYhQKUoXiE\n",
       "+mUreYPBKKGkjJg6ZQzWoC1n+d6wjIFXlxFK7T4NZ1guhT4bmu9Z6PXQR/Ys23UIxqsiQxvi55jF\n",
       "Nyt5P0SgW2RmXXaHfzMzAzNW5kqdT2Io/uQ0Kz5PRUbcob4adUJ4+PF7OKj6n4R4kq503SsIdTvS\n",
       "EhET33ojjh2b0MQxyq0VeThFl1MWniFU8zfy5jsWoN0kIfzY1w4cpRxL9Il6GGomVEFMGpRgQsxi\n",
       "2caD5Wu1d+FltAkI9lS38fRblRiQlmnBpdjDumw17tYf57JGyP3TUS3WbroRsq59cNn/DbQ2a7Xd\n",
       "GqlbAAAAAElFTkSuQmCC\n",
       "\" style=\"display:inline;vertical-align:middle;\" /></a><br>(see <a class=\"ProveItLink\" href=\"../../../__pv_it/theorems/89c061651cddee1c7bc94ff7fcfcf6e7df9ff92b0/dependencies.ipynb\">dependencies</a>)<br>"
      ],
      "text/plain": [
       "mult_9_2: (9 * 2) = 18"
      ]
     },
     "execution_count": 2,
     "metadata": {},
     "output_type": "execute_result"
    }
   ],
   "source": [
    "%proving mult_9_2"
   ]
  },
  {
   "cell_type": "code",
   "execution_count": null,
   "metadata": {},
   "outputs": [],
   "source": []
  }
 ],
 "metadata": {
  "kernelspec": {
   "display_name": "Python 3",
   "language": "python",
   "name": "python3"
  }
 },
 "nbformat": 4,
 "nbformat_minor": 0
}