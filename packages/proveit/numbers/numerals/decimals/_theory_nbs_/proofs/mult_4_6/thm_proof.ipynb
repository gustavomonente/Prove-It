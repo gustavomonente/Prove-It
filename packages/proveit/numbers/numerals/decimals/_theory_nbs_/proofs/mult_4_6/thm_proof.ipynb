{
 "cells": [
  {
   "cell_type": "markdown",
   "metadata": {},
   "source": [
    "Proof of <a class=\"ProveItLink\" href=\"../../../../../../_theory_nbs_/theory.ipynb\">proveit</a>.<a class=\"ProveItLink\" href=\"../../../../../_theory_nbs_/theory.ipynb\">numbers</a>.<a class=\"ProveItLink\" href=\"../../../../_theory_nbs_/theory.ipynb\">numerals</a>.<a class=\"ProveItLink\" href=\"../../theory.ipynb\">decimals</a>.<a class=\"ProveItLink\" href=\"../../theorems.ipynb#mult_4_6\">mult_4_6</a> theorem\n",
    "========"
   ]
  },
  {
   "cell_type": "code",
   "execution_count": 1,
   "metadata": {},
   "outputs": [],
   "source": [
    "import proveit\n",
    "theory = proveit.Theory() # the theorem's theory"
   ]
  },
  {
   "cell_type": "code",
   "execution_count": 2,
   "metadata": {},
   "outputs": [
    {
     "data": {
      "text/html": [
       "Under these <a href=\"presumptions.txt\">presumptions</a>, we begin our proof of<br><strong id=\"mult_4_6\">mult_4_6:</strong> <a class=\"ProveItLink\" href=\"../../../__pv_it/theorems/9ece8b7b77f47ca099e9bca4d92dbe3c9ecddc0c0/expr.ipynb\"><img src=\"data:image/png;base64,iVBORw0KGgoAAAANSUhEUgAAAGEAAAAUBAMAAABvx07iAAAAMFBMVEX///9UVFTMzMx2dna6uroQ\n",
       "EBCqqqqIiIgiIiJmZmYyMjJERETu7u6YmJjc3NwAAAC+aOQFAAAAAXRSTlMAQObYZgAAAY5JREFU\n",
       "KM99kz1Iw0AUx/9t+mWaFhdBB2nAycmoQ6kuHd1EUFGcdHORLiLd6tLBxSxFIoIKLjqoi1NRIyIK\n",
       "DmZ2qJmki6CoIF3iu8QmchfyIPfy7t3v7r1374C8BUHWECWPbBgObGljDDGbX6UYTZVUXKfhlE1s\n",
       "Bq4j7EI54IkbSF+kMr1AjlHpGd+V1dEEijyxB8yRWiciwwJ4O/Rd025AdzyxABRs5J+JaDNbC4gL\n",
       "d5TLHHFmoqBCkomokpmzA6IzVKXVki6WaNtEixGX9H8Pn1A6Fuq0h5v6xAmTY8+T+IRSYUSdBeUR\n",
       "CvscoGEiVROOoDJJYMQskFI94olt/AO8lBF/FwgDWOkSt/AIVmxsEWGFEGkdioa/qJYN43un6+lz\n",
       "z0jUgjy8HFeRfx0w9hcrbuZAcIMjJhrdzP9JXEOabipJZ5TciSXfFdOUeaBH44j2eKmfVPIcmGL2\n",
       "pDPo+0qj1HKyyt+g41BNpOsPy+sSQR4imj2nh80Wo97HVcic2O3Ci+Ika0cRYa+2FbH+FxHvYYj0\n",
       "z4F6AAAAAElFTkSuQmCC\n",
       "\" style=\"display:inline;vertical-align:middle;\" /></a><br>(see <a class=\"ProveItLink\" href=\"../../../__pv_it/theorems/a2701b00da7d2ecad631277243b046c0bc39bd400/dependencies.ipynb\">dependencies</a>)<br>"
      ],
      "text/plain": [
       "mult_4_6: (4 * 6) = 24"
      ]
     },
     "execution_count": 2,
     "metadata": {},
     "output_type": "execute_result"
    }
   ],
   "source": [
    "%proving mult_4_6"
   ]
  },
  {
   "cell_type": "code",
   "execution_count": null,
   "metadata": {},
   "outputs": [],
   "source": []
  }
 ],
 "metadata": {
  "kernelspec": {
   "display_name": "Python 3",
   "language": "python",
   "name": "python3"
  }
 },
 "nbformat": 4,
 "nbformat_minor": 0
}