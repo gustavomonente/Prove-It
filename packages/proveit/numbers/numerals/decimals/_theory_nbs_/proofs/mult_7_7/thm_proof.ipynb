{
 "cells": [
  {
   "cell_type": "markdown",
   "metadata": {},
   "source": [
    "Proof of <a class=\"ProveItLink\" href=\"../../../../../../_theory_nbs_/theory.ipynb\">proveit</a>.<a class=\"ProveItLink\" href=\"../../../../../_theory_nbs_/theory.ipynb\">numbers</a>.<a class=\"ProveItLink\" href=\"../../../../_theory_nbs_/theory.ipynb\">numerals</a>.<a class=\"ProveItLink\" href=\"../../theory.ipynb\">decimals</a>.<a class=\"ProveItLink\" href=\"../../theorems.ipynb#mult_7_7\">mult_7_7</a> theorem\n",
    "========"
   ]
  },
  {
   "cell_type": "code",
   "execution_count": 1,
   "metadata": {},
   "outputs": [],
   "source": [
    "import proveit\n",
    "theory = proveit.Theory() # the theorem's theory"
   ]
  },
  {
   "cell_type": "code",
   "execution_count": 2,
   "metadata": {},
   "outputs": [
    {
     "data": {
      "text/html": [
       "Under these <a href=\"presumptions.txt\">presumptions</a>, we begin our proof of<br><strong id=\"mult_7_7\">mult_7_7:</strong> <a class=\"ProveItLink\" href=\"../../../__pv_it/theorems/20b2a138e1195b195e7eea24b48dd5fa4ce3fa8c0/expr.ipynb\"><img src=\"data:image/png;base64,iVBORw0KGgoAAAANSUhEUgAAAGEAAAAUBAMAAABvx07iAAAAMFBMVEX///9UVFTMzMx2dna6uroQ\n",
       "EBCqqqqIiIgiIiJmZmYyMjJERETu7u6YmJjc3NwAAAC+aOQFAAAAAXRSTlMAQObYZgAAAYNJREFU\n",
       "KM99k79Lw0AUx79NarVpUm9x6GRHN6MZSgVpN/0DRFAcirtaBAe7WBcXl0BdXPwx6qD9B9QuBdGh\n",
       "WVwcahbBscVJBeu9K9EzF/Igj3v3vc/lvXd3QNaDYpuIs0do+w3HCcKpnOPYCV9dp7kwGzMkXMEa\n",
       "DAb9QHjhATPPVGKMoe1l1wDLRZqDLBBOgARQUIkdhgkgx1EfOqDnA8EGZoG2AmSfGT6BEvAm4gVJ\n",
       "S1YBoxwmdIOZX8Cej10RNyUtQ7obJroGwyr/Rxk3YgO5w/P8s0Tpc5dkFzQ0q5zgKV17OKC4I5aa\n",
       "Q9/jLlUPJwVOZKqpUgVLFNfEbEdsPEpe64WIdSKwsV3KD4nDoOPkmxGEaQsCmGwNs+pL4jgpyfpf\n",
       "HeeUZe74dIX3EDygyrUPiZh2fyv/ZyMMTy3tGyjSDu+SssXPEGlbJZqotR54UxfpPJcl5bXCnZFX\n",
       "TvCu7+nFI4hbEmH3MZfdcqNmC3Hv4zZiLuq2yy9KtYwfR0S92m7M+h9YTlozD5xqPQAAAABJRU5E\n",
       "rkJggg==\n",
       "\" style=\"display:inline;vertical-align:middle;\" /></a><br>(see <a class=\"ProveItLink\" href=\"../../../__pv_it/theorems/feb7da2484f24a42ff2447f52d3b0c548d3560680/dependencies.ipynb\">dependencies</a>)<br>"
      ],
      "text/plain": [
       "mult_7_7: (7 * 7) = 49"
      ]
     },
     "execution_count": 2,
     "metadata": {},
     "output_type": "execute_result"
    }
   ],
   "source": [
    "%proving mult_7_7"
   ]
  },
  {
   "cell_type": "code",
   "execution_count": null,
   "metadata": {},
   "outputs": [],
   "source": []
  }
 ],
 "metadata": {
  "kernelspec": {
   "display_name": "Python 3",
   "language": "python",
   "name": "python3"
  }
 },
 "nbformat": 4,
 "nbformat_minor": 0
}