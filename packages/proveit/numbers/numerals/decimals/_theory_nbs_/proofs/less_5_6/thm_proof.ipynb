{
 "cells": [
  {
   "cell_type": "markdown",
   "metadata": {},
   "source": [
    "Proof of <a class=\"ProveItLink\" href=\"../../../../../../_theory_nbs_/theory.ipynb\">proveit</a>.<a class=\"ProveItLink\" href=\"../../../../../_theory_nbs_/theory.ipynb\">numbers</a>.<a class=\"ProveItLink\" href=\"../../../../_theory_nbs_/theory.ipynb\">numerals</a>.<a class=\"ProveItLink\" href=\"../../theory.ipynb\">decimals</a>.<a class=\"ProveItLink\" href=\"../../theorems.ipynb#less_5_6\">less_5_6</a> theorem\n",
    "========"
   ]
  },
  {
   "cell_type": "code",
   "execution_count": 1,
   "metadata": {},
   "outputs": [],
   "source": [
    "import proveit\n",
    "theory = proveit.Theory() # the theorem's theory"
   ]
  },
  {
   "cell_type": "code",
   "execution_count": 2,
   "metadata": {},
   "outputs": [
    {
     "data": {
      "text/html": [
       "Under these <a href=\"presumptions.txt\">presumptions</a>, we begin our proof of<br><strong id=\"less_5_6\">less_5_6:</strong> <a class=\"ProveItLink\" href=\"../../../__pv_it/theorems/b17b138f6aae5e298ad7b6213881a81e931c83990/expr.ipynb\"><img src=\"data:image/png;base64,iVBORw0KGgoAAAANSUhEUgAAADAAAAAOBAMAAACbXIJpAAAAMFBMVEX///8iIiK6urpERETc3NyI\n",
       "iIhUVFR2dnYQEBCqqqpmZmbMzMzu7u6YmJgyMjIAAABZcJOfAAAAAXRSTlMAQObYZgAAALtJREFU\n",
       "GNNj4LvDvZIBHZSGb2Dg+P+/AF38nALXAwa+shAkoXkbQKQVA7MBAxuy0otLQCTTFxCJLBFYA6aY\n",
       "G8ASd6M2QIR5CgMgDP7XpYuA0gdYPkHEF16Aajz/loFxAohhCObmTYCZeP4DA1cPiLHeAaQBIcEv\n",
       "wMD7iSGPgaFeAcRlgRvF+ICB9y9DH1DHAVTL2RpAOhYwMMihOZf7DwNXA4MXA28LmgcZ0hlOTGBg\n",
       "WZ51AD1I2JdnMwAAp24yz9pZtUoAAAAASUVORK5CYII=\n",
       "\" style=\"display:inline;vertical-align:middle;\" /></a><br>(see <a class=\"ProveItLink\" href=\"../../../__pv_it/theorems/e3e03c0f9f768a831c329f9babf4cad74dac67b90/dependencies.ipynb\">dependencies</a>)<br>"
      ],
      "text/plain": [
       "less_5_6: 5 < 6"
      ]
     },
     "execution_count": 2,
     "metadata": {},
     "output_type": "execute_result"
    }
   ],
   "source": [
    "%proving less_5_6"
   ]
  },
  {
   "cell_type": "code",
   "execution_count": null,
   "metadata": {},
   "outputs": [],
   "source": []
  }
 ],
 "metadata": {
  "kernelspec": {
   "display_name": "Python 3",
   "language": "python",
   "name": "python3"
  }
 },
 "nbformat": 4,
 "nbformat_minor": 0
}