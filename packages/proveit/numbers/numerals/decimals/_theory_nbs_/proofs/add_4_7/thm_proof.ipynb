{
 "cells": [
  {
   "cell_type": "markdown",
   "metadata": {},
   "source": [
    "Proof of <a class=\"ProveItLink\" href=\"../../../../../../_theory_nbs_/theory.ipynb\">proveit</a>.<a class=\"ProveItLink\" href=\"../../../../../_theory_nbs_/theory.ipynb\">numbers</a>.<a class=\"ProveItLink\" href=\"../../../../_theory_nbs_/theory.ipynb\">numerals</a>.<a class=\"ProveItLink\" href=\"../../theory.ipynb\">decimals</a>.<a class=\"ProveItLink\" href=\"../../theorems.ipynb#add_4_7\">add_4_7</a> theorem\n",
    "========"
   ]
  },
  {
   "cell_type": "code",
   "execution_count": 1,
   "metadata": {},
   "outputs": [],
   "source": [
    "import proveit\n",
    "theory = proveit.Theory() # the theorem's theory"
   ]
  },
  {
   "cell_type": "code",
   "execution_count": 2,
   "metadata": {},
   "outputs": [
    {
     "data": {
      "text/html": [
       "Under these <a href=\"presumptions.txt\">presumptions</a>, we begin our proof of<br><strong id=\"add_4_7\">add_4_7:</strong> <a class=\"ProveItLink\" href=\"../../../__pv_it/theorems/36b9a84839b2a3ce00b4163d684761310ac49bc80/expr.ipynb\"><img src=\"data:image/png;base64,iVBORw0KGgoAAAANSUhEUgAAAGsAAAAUBAMAAAB45d4rAAAAMFBMVEX///9UVFTMzMx2dna6uroQ\n",
       "EBCqqqqIiIgiIiJmZmYyMjJERETu7u6YmJjc3NwAAAC+aOQFAAAAAXRSTlMAQObYZgAAAShJREFU\n",
       "OMtjYOC7wIAdsD1gwANOgwhNVDGmxsnGxgxy+LStAxGNqGK8/////8hwClNx6gEowTsByGAPhAqn\n",
       "QyhOoPsEGJgL0DTxCMsfgBAMHCAfvF2Iqo0ZiBQYeAIwbLt/AEq8APEM0LQBgTsQL8GtrRLklQeY\n",
       "2jYAsSVubXuB9HEGDG3MoGi5BWatAoMJqNraQG7E1HYeRGTgti0EGK8KEG1Wq1a1rloFMaEKROjj\n",
       "1XaYAdO2bgLagI5MnDnz63Q0bR9BhAeS3wQwg4SBAS26GZh+MsCCBLttkECORtPG9hlETsbQVn8A\n",
       "SoAdYv1fFlUbXxiIXISua2L8ygsQggMle6SjJMEG3BmAdwIy7wwyByMpI4N9OGVOEcymJBoI8j2u\n",
       "QoEXT6EAAEPvbrrWtnK+AAAAAElFTkSuQmCC\n",
       "\" style=\"display:inline;vertical-align:middle;\" /></a><br>(see <a class=\"ProveItLink\" href=\"../../../__pv_it/theorems/628ed54238bb3914be38e7e8c9b398f60d93b6c60/dependencies.ipynb\">dependencies</a>)<br>"
      ],
      "text/plain": [
       "add_4_7: (4 + 7) = 11"
      ]
     },
     "execution_count": 2,
     "metadata": {},
     "output_type": "execute_result"
    }
   ],
   "source": [
    "%proving add_4_7"
   ]
  },
  {
   "cell_type": "code",
   "execution_count": null,
   "metadata": {},
   "outputs": [],
   "source": []
  }
 ],
 "metadata": {
  "kernelspec": {
   "display_name": "Python 3",
   "language": "python",
   "name": "python3"
  }
 },
 "nbformat": 4,
 "nbformat_minor": 0
}