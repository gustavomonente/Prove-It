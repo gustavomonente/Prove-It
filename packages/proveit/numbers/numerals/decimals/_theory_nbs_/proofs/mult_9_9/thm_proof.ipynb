{
 "cells": [
  {
   "cell_type": "markdown",
   "metadata": {},
   "source": [
    "Proof of <a class=\"ProveItLink\" href=\"../../../../../../_theory_nbs_/theory.ipynb\">proveit</a>.<a class=\"ProveItLink\" href=\"../../../../../_theory_nbs_/theory.ipynb\">numbers</a>.<a class=\"ProveItLink\" href=\"../../../../_theory_nbs_/theory.ipynb\">numerals</a>.<a class=\"ProveItLink\" href=\"../../theory.ipynb\">decimals</a>.<a class=\"ProveItLink\" href=\"../../theorems.ipynb#mult_9_9\">mult_9_9</a> theorem\n",
    "========"
   ]
  },
  {
   "cell_type": "code",
   "execution_count": 1,
   "metadata": {},
   "outputs": [],
   "source": [
    "import proveit\n",
    "theory = proveit.Theory() # the theorem's theory"
   ]
  },
  {
   "cell_type": "code",
   "execution_count": 2,
   "metadata": {},
   "outputs": [
    {
     "data": {
      "text/html": [
       "Under these <a href=\"presumptions.txt\">presumptions</a>, we begin our proof of<br><strong id=\"mult_9_9\">mult_9_9:</strong> <a class=\"ProveItLink\" href=\"../../../__pv_it/theorems/a4966355948eaded8054346fe00fad67adffe2160/expr.ipynb\"><img src=\"data:image/png;base64,iVBORw0KGgoAAAANSUhEUgAAAGAAAAAUBAMAAACABSXcAAAAMFBMVEX////MzMxUVFR2dna6uroQ\n",
       "EBCqqqqIiIgiIiJmZmYyMjJERETu7u6YmJjc3NwAAACgK8IjAAAAAXRSTlMAQObYZgAAAZRJREFU\n",
       "KM99k71Lw0AYxp+mmn4lteAf0C4Vuqi0Q6ki7SguOnSSKgXnik6ii51cDdjFQSjdKn5tLipBEGod\n",
       "GhTpJlkExwrqUD/fa0yql7Tvknvvud+9z+XeA4IabLGMPnEDXCdGrVTaiesQdH6VtJbK/A6PIC3g\n",
       "UTWVKy2Yg1TmAR8wAog5QFYgzEFQTCUKxIAkDxSAOi7jH4BXx1AZ7paptIE01eGBSaBGuxPwBDRO\n",
       "4Pkyvb4Dmzr8GQ6YPcOUAawDg1ThxVTmqUIGboUDhO+7vAGcg/nxf5oK+TnWIHdOPbHPomrMt1UD\n",
       "2KLkFEtvzA4TAitiOg+xyFUQS9tZA8iyrDn8TJ9GZ9vCajoEV4sDbuF5VS2ALNII3oghjql2gC4g\n",
       "nLcsAf7IH7ECDBS7Z6gwt7SBoJmHlnMIW71wr7roF8v8VS/S6fQOkAI8B9KhpWyodepG3zgHzKho\n",
       "0koCpilL7HbvyZ0qMYshDnDFqPl80fYeaw2HqPXubllxmk32eQ8XDnP29v7/gGwR0PsATk/0offy\n",
       "H3AhbaLS+x7tAAAAAElFTkSuQmCC\n",
       "\" style=\"display:inline;vertical-align:middle;\" /></a><br>(see <a class=\"ProveItLink\" href=\"../../../__pv_it/theorems/421c5505c7edc235d2689bcdd29b6ba00324eb110/dependencies.ipynb\">dependencies</a>)<br>"
      ],
      "text/plain": [
       "mult_9_9: (9 * 9) = 81"
      ]
     },
     "execution_count": 2,
     "metadata": {},
     "output_type": "execute_result"
    }
   ],
   "source": [
    "%proving mult_9_9"
   ]
  },
  {
   "cell_type": "code",
   "execution_count": null,
   "metadata": {},
   "outputs": [],
   "source": []
  }
 ],
 "metadata": {
  "kernelspec": {
   "display_name": "Python 3",
   "language": "python",
   "name": "python3"
  }
 },
 "nbformat": 4,
 "nbformat_minor": 0
}