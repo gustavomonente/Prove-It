{
 "cells": [
  {
   "cell_type": "markdown",
   "metadata": {},
   "source": [
    "Proof of <a class=\"ProveItLink\" href=\"../../../../../../_theory_nbs_/theory.ipynb\">proveit</a>.<a class=\"ProveItLink\" href=\"../../../../../_theory_nbs_/theory.ipynb\">numbers</a>.<a class=\"ProveItLink\" href=\"../../../../_theory_nbs_/theory.ipynb\">numerals</a>.<a class=\"ProveItLink\" href=\"../../theory.ipynb\">decimals</a>.<a class=\"ProveItLink\" href=\"../../theorems.ipynb#mult_8_8\">mult_8_8</a> theorem\n",
    "========"
   ]
  },
  {
   "cell_type": "code",
   "execution_count": 1,
   "metadata": {},
   "outputs": [],
   "source": [
    "import proveit\n",
    "theory = proveit.Theory() # the theorem's theory"
   ]
  },
  {
   "cell_type": "code",
   "execution_count": 2,
   "metadata": {},
   "outputs": [
    {
     "data": {
      "text/html": [
       "Under these <a href=\"presumptions.txt\">presumptions</a>, we begin our proof of<br><strong id=\"mult_8_8\">mult_8_8:</strong> <a class=\"ProveItLink\" href=\"../../../__pv_it/theorems/64d964ce00bdd30e422540238e4a79de5f4ab6ad0/expr.ipynb\"><img src=\"data:image/png;base64,iVBORw0KGgoAAAANSUhEUgAAAGEAAAAUBAMAAABvx07iAAAAMFBMVEX////MzMxUVFR2dna6uroQ\n",
       "EBCqqqqIiIgiIiJmZmYyMjJERETu7u6YmJjc3NwAAACgK8IjAAAAAXRSTlMAQObYZgAAAapJREFU\n",
       "KM99k79LAmEYx7/eqZneSdQfoEuBQ2QNiUXkFNLiEkEQYWNDIUSIU04OLR2kQy1FtBQSLk2V3RJJ\n",
       "DR41BBF2Y2MERhhhz2ueynvHPcP743mez/u+3/d9XsCvwWQbsLMH4G4z35lK6WgMgm5KE9Pj1DoU\n",
       "as4BBULSiPQDI5COeEA6wQF1niAgK3BrPSnrwD0Q4Qmfgkvqtojw6BBLkLJGaBqoALc8kWid0/9C\n",
       "xDvg/FHFjvzEFWYAb4wjLv7FeInI0GDsd7ITEppPpElUOKIxlKFFaoy4Zmiz2I3NNlRS19I1dcbs\n",
       "lAlvaMhBSjEiR/O1eJ2dQmJZ7vzuArVZ7qqaQEEVwQgKy0FsL5O7yhZ+RF9dheODO9U38BZbNQgX\n",
       "ZXy1LxuEBpJmYoeI1zDap6qSZ9TYnlIFDc5sV8cxGw4TMRfaP1xKMeUuuuuysdgKvZbeVt5jARUF\n",
       "6ly0R5Teowg5ZYTmVTxTrYQ5QghLi4woAXHqB/e6legIUSXCO8A/enSCXOLNp8aqxMIqNsUuK1be\n",
       "iN3/KFv4zNXO/SiT+XQ7wurX1mzy/wC1eGmTxbDUhQAAAABJRU5ErkJggg==\n",
       "\" style=\"display:inline;vertical-align:middle;\" /></a><br>(see <a class=\"ProveItLink\" href=\"../../../__pv_it/theorems/58a2d373ee08fdf77f45d24ed11c6f1a353a6b680/dependencies.ipynb\">dependencies</a>)<br>"
      ],
      "text/plain": [
       "mult_8_8: (8 * 8) = 64"
      ]
     },
     "execution_count": 2,
     "metadata": {},
     "output_type": "execute_result"
    }
   ],
   "source": [
    "%proving mult_8_8"
   ]
  },
  {
   "cell_type": "code",
   "execution_count": null,
   "metadata": {},
   "outputs": [],
   "source": []
  }
 ],
 "metadata": {
  "kernelspec": {
   "display_name": "Python 3",
   "language": "python",
   "name": "python3"
  }
 },
 "nbformat": 4,
 "nbformat_minor": 0
}