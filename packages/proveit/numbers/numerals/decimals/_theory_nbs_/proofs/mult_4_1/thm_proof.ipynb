{
 "cells": [
  {
   "cell_type": "markdown",
   "metadata": {},
   "source": [
    "Proof of <a class=\"ProveItLink\" href=\"../../../../../../_theory_nbs_/theory.ipynb\">proveit</a>.<a class=\"ProveItLink\" href=\"../../../../../_theory_nbs_/theory.ipynb\">numbers</a>.<a class=\"ProveItLink\" href=\"../../../../_theory_nbs_/theory.ipynb\">numerals</a>.<a class=\"ProveItLink\" href=\"../../theory.ipynb\">decimals</a>.<a class=\"ProveItLink\" href=\"../../theorems.ipynb#mult_4_1\">mult_4_1</a> theorem\n",
    "========"
   ]
  },
  {
   "cell_type": "code",
   "execution_count": 1,
   "metadata": {},
   "outputs": [],
   "source": [
    "import proveit\n",
    "theory = proveit.Theory() # the theorem's theory"
   ]
  },
  {
   "cell_type": "code",
   "execution_count": 2,
   "metadata": {},
   "outputs": [
    {
     "data": {
      "text/html": [
       "Under these <a href=\"presumptions.txt\">presumptions</a>, we begin our proof of<br><strong id=\"mult_4_1\">mult_4_1:</strong> <a class=\"ProveItLink\" href=\"../../../__pv_it/theorems/fe3222e0018a64c8ef93c4b86bc1c832a3c9dde70/expr.ipynb\"><img src=\"data:image/png;base64,iVBORw0KGgoAAAANSUhEUgAAAFcAAAAUBAMAAAAKKrydAAAAMFBMVEX///9UVFTMzMx2dna6uroQ\n",
       "EBCqqqqIiIgiIiJmZmYyMjJERETu7u6YmJjc3NwAAAC+aOQFAAAAAXRSTlMAQObYZgAAASBJREFU\n",
       "KM9jYOC7wIAB8hhwgNMgQhNVjPEBpjqmCUBiHYjViBBki2Fg4FmAqZhDgIGBF6SBPRAudtDwD5A0\n",
       "x1RcClTMAbLx7UKEIC9I8VEMtXy3gIpfgFgG6Iq5HNAVM3MBFVeC5B+gK2aegK74HkjxXiDjOAO6\n",
       "Yl6wD61WgcBKEJOnAKS4DeQKiGIehGK2BnRXMIAUhwBlFCCKzy+AK2b6gKY4Cab4MANEMSgkcSjm\n",
       "MWCAOiNx5syv01HdzNKAcDPIIDbJmfMjC8AeZGAIxOpBFMAKNNkSzIpGCLKDFHMaYCrewMDgAWJY\n",
       "/5eFiXGK/poLjBQFjEjZ//ECJLoxwAnsKZR3AjZRcxzpeR8WMWxJFJH40QD3AxyKsWWre9iVAgBM\n",
       "+Um9rdvQXwAAAABJRU5ErkJggg==\n",
       "\" style=\"display:inline;vertical-align:middle;\" /></a><br>(see <a class=\"ProveItLink\" href=\"../../../__pv_it/theorems/a553068fc1d1b6059934473d29bdca5a722b4a490/dependencies.ipynb\">dependencies</a>)<br>"
      ],
      "text/plain": [
       "mult_4_1: (4 * 1) = 4"
      ]
     },
     "execution_count": 2,
     "metadata": {},
     "output_type": "execute_result"
    }
   ],
   "source": [
    "%proving mult_4_1"
   ]
  },
  {
   "cell_type": "code",
   "execution_count": null,
   "metadata": {},
   "outputs": [],
   "source": []
  }
 ],
 "metadata": {
  "kernelspec": {
   "display_name": "Python 3",
   "language": "python",
   "name": "python3"
  }
 },
 "nbformat": 4,
 "nbformat_minor": 0
}