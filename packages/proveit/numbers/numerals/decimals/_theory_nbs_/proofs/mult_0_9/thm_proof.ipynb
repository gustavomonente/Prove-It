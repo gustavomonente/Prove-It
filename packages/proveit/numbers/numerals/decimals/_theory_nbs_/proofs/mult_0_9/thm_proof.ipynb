{
 "cells": [
  {
   "cell_type": "markdown",
   "metadata": {},
   "source": [
    "Proof of <a class=\"ProveItLink\" href=\"../../../../../../_theory_nbs_/theory.ipynb\">proveit</a>.<a class=\"ProveItLink\" href=\"../../../../../_theory_nbs_/theory.ipynb\">numbers</a>.<a class=\"ProveItLink\" href=\"../../../../_theory_nbs_/theory.ipynb\">numerals</a>.<a class=\"ProveItLink\" href=\"../../theory.ipynb\">decimals</a>.<a class=\"ProveItLink\" href=\"../../theorems.ipynb#mult_0_9\">mult_0_9</a> theorem\n",
    "========"
   ]
  },
  {
   "cell_type": "code",
   "execution_count": 1,
   "metadata": {},
   "outputs": [],
   "source": [
    "import proveit\n",
    "theory = proveit.Theory() # the theorem's theory"
   ]
  },
  {
   "cell_type": "code",
   "execution_count": 2,
   "metadata": {},
   "outputs": [
    {
     "data": {
      "text/html": [
       "Under these <a href=\"presumptions.txt\">presumptions</a>, we begin our proof of<br><strong id=\"mult_0_9\">mult_0_9:</strong> <a class=\"ProveItLink\" href=\"../../../__pv_it/theorems/590fe8d4879664450162ffb5fae1762b92bba98c0/expr.ipynb\"><img src=\"data:image/png;base64,iVBORw0KGgoAAAANSUhEUgAAAFcAAAAUBAMAAAAKKrydAAAAMFBMVEX///9UVFTMzMx2dna6uroQ\n",
       "EBCqqqqIiIgiIiJmZmYyMjJERETu7u6YmJjc3NwAAAC+aOQFAAAAAXRSTlMAQObYZgAAAWxJREFU\n",
       "KM91k71Kw2AUhh/bUmrzYxEcnMwdtLqUdmlHN0U6iUNuQFtdREHs1FECegF2EXTwZxYlIIWiQwvS\n",
       "VTO6qRQUtYjfV01qk/QM4eScJ4f35ZyA3iYQa4yIO4juzHmv6v6sw5gTwLL3hniewhFNr9to6yuo\n",
       "h342aap7oFloi0S97hRMizl+uAN5SDgoKeI9t/oJBTHfD19A2eYJJlLE3lzJX7DrkCz64FdYMNmC\n",
       "lkXs3a0ui8lFotYwq34IuMIVPGeIeLDQcNZG63vIn8g4FpnehXSFmoAtIl35uQSUSrxgEq8OT9bF\n",
       "5HSG0kBGqz9udaNgEHkJlVHqG4xLg4nUb2fGDsDSYNmUMpRztN6/Rh1i1YHmukwv4dGWBoeW0rEj\n",
       "3/wZDCwlJ7IaDcOtbtu34rLGMz44YapLMC+ym81JrxrNHchTMHywml03+usOiWb4hWpWWDU74p6v\n",
       "Q2rBEx0cfyAUZwQc9ls9hKM/qbdhBVvETM0AAAAASUVORK5CYII=\n",
       "\" style=\"display:inline;vertical-align:middle;\" /></a><br>(see <a class=\"ProveItLink\" href=\"../../../__pv_it/theorems/71299b67b144a4796e85a06a864605833a7fcb400/dependencies.ipynb\">dependencies</a>)<br>"
      ],
      "text/plain": [
       "mult_0_9: (0 * 9) = 0"
      ]
     },
     "execution_count": 2,
     "metadata": {},
     "output_type": "execute_result"
    }
   ],
   "source": [
    "%proving mult_0_9"
   ]
  },
  {
   "cell_type": "code",
   "execution_count": null,
   "metadata": {},
   "outputs": [],
   "source": []
  }
 ],
 "metadata": {
  "kernelspec": {
   "display_name": "Python 3",
   "language": "python",
   "name": "python3"
  }
 },
 "nbformat": 4,
 "nbformat_minor": 0
}