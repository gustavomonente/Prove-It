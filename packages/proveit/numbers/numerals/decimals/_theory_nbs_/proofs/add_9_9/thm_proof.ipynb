{
 "cells": [
  {
   "cell_type": "markdown",
   "metadata": {},
   "source": [
    "Proof of <a class=\"ProveItLink\" href=\"../../../../../../_theory_nbs_/theory.ipynb\">proveit</a>.<a class=\"ProveItLink\" href=\"../../../../../_theory_nbs_/theory.ipynb\">numbers</a>.<a class=\"ProveItLink\" href=\"../../../../_theory_nbs_/theory.ipynb\">numerals</a>.<a class=\"ProveItLink\" href=\"../../theory.ipynb\">decimals</a>.<a class=\"ProveItLink\" href=\"../../theorems.ipynb#add_9_9\">add_9_9</a> theorem\n",
    "========"
   ]
  },
  {
   "cell_type": "code",
   "execution_count": 1,
   "metadata": {},
   "outputs": [],
   "source": [
    "import proveit\n",
    "theory = proveit.Theory() # the theorem's theory"
   ]
  },
  {
   "cell_type": "code",
   "execution_count": 2,
   "metadata": {},
   "outputs": [
    {
     "data": {
      "text/html": [
       "Under these <a href=\"presumptions.txt\">presumptions</a>, we begin our proof of<br><strong id=\"add_9_9\">add_9_9:</strong> <a class=\"ProveItLink\" href=\"../../../__pv_it/theorems/1c1194c1db51f7206c9488c8de851dc812bdb9d60/expr.ipynb\"><img src=\"data:image/png;base64,iVBORw0KGgoAAAANSUhEUgAAAGwAAAAUBAMAAACaOcVSAAAAMFBMVEX////MzMxUVFR2dna6uroQ\n",
       "EBCqqqqIiIgiIiJmZmYyMjJERETu7u6YmJjc3NwAAACgK8IjAAAAAXRSTlMAQObYZgAAAW5JREFU\n",
       "OMuVlL1Lw0AYh3829oNyp6B/QAPOtkNB0Kljxw6OFQWR6lZwcmoXnYN1caviYojSzcmSTaxCswld\n",
       "zCI4KmgXrXq5nCWXXCq+w13uuTz3Xi53B8w4UEfKxYS4A26L+RDkJK8WbnaPWHkJsoYnW+rxSS+q\n",
       "bLH3DCQ2QFlZQcLwcc2vfKLVQxJZKNhIOSBtZFzMtqG9SJpPSCWS7dGG1gFp4hnod5D+kjRBzlTa\n",
       "9IetOdgDkmzsN0kTZFmloTBaAq7hzSc7kjRBBvzZ5GGMNe3bAg5Y4wqbQ0kTZFuZbaf8XsKq92Mf\n",
       "5l9ZtWKa+6Z5ijHJqTSqo1HlGlvxTzmbT5Ra0sbUkE8SyOphzSPlwLfpv1qfVYvektAqcq6kCTJQ\n",
       "ZmMdXW+R0xa5gKQJ0opoDfbfLNA6n0jxuCRrgpyErcP1cwdzLbaVM9LxqElbsBl/bqgRbN0HG5Gt\n",
       "HIxubE/vj2P67wFZxF4KdMKl8AO19nz7q5lW0gAAAABJRU5ErkJggg==\n",
       "\" style=\"display:inline;vertical-align:middle;\" /></a><br>(see <a class=\"ProveItLink\" href=\"../../../__pv_it/theorems/fcae7b892375b921ab4361bea0de8ef46d33bcfe0/dependencies.ipynb\">dependencies</a>)<br>"
      ],
      "text/plain": [
       "add_9_9: (9 + 9) = 18"
      ]
     },
     "execution_count": 2,
     "metadata": {},
     "output_type": "execute_result"
    }
   ],
   "source": [
    "%proving add_9_9"
   ]
  },
  {
   "cell_type": "code",
   "execution_count": null,
   "metadata": {},
   "outputs": [],
   "source": []
  }
 ],
 "metadata": {
  "kernelspec": {
   "display_name": "Python 3",
   "language": "python",
   "name": "python3"
  }
 },
 "nbformat": 4,
 "nbformat_minor": 0
}