{
 "cells": [
  {
   "cell_type": "markdown",
   "metadata": {},
   "source": [
    "Proof of <a class=\"ProveItLink\" href=\"../../../../../../_theory_nbs_/theory.ipynb\">proveit</a>.<a class=\"ProveItLink\" href=\"../../../../../_theory_nbs_/theory.ipynb\">numbers</a>.<a class=\"ProveItLink\" href=\"../../../../_theory_nbs_/theory.ipynb\">numerals</a>.<a class=\"ProveItLink\" href=\"../../theory.ipynb\">decimals</a>.<a class=\"ProveItLink\" href=\"../../theorems.ipynb#mult_5_3\">mult_5_3</a> theorem\n",
    "========"
   ]
  },
  {
   "cell_type": "code",
   "execution_count": 1,
   "metadata": {},
   "outputs": [],
   "source": [
    "import proveit\n",
    "theory = proveit.Theory() # the theorem's theory"
   ]
  },
  {
   "cell_type": "code",
   "execution_count": 2,
   "metadata": {},
   "outputs": [
    {
     "data": {
      "text/html": [
       "Under these <a href=\"presumptions.txt\">presumptions</a>, we begin our proof of<br><strong id=\"mult_5_3\">mult_5_3:</strong> <a class=\"ProveItLink\" href=\"../../../__pv_it/theorems/b91e15246c248ca4ac190ae6018b49ea819d0df50/expr.ipynb\"><img src=\"data:image/png;base64,iVBORw0KGgoAAAANSUhEUgAAAGEAAAAUBAMAAABvx07iAAAAMFBMVEX///9UVFTMzMx2dna6uroQ\n",
       "EBCqqqqIiIgiIiJmZmYyMjJERETu7u6YmJjc3NwAAAC+aOQFAAAAAXRSTlMAQObYZgAAAX9JREFU\n",
       "KM9jYOC7wIAB8hjwgdMMDGsPaCbAuHzG1gkMjA+wKuW6wzQNSK1jYIj//xku+pKB7S8DzwIM1Wwx\n",
       "DAys//8bMDDwTmBgWCyOMLM+geEHA4M5uoaDhn+AdhjWAZkcQMUCSFKuDgy/GBiOYtjBC9TBCGa9\n",
       "YEDVwQByFQOXA24dlUAse30SktwJoFuZJ2DVcbdSgYFhL5C3h+E9wszHnQeA8mCvW60CgZVwHdwH\n",
       "+L4wMLSB+dwNQIIHooU9BOiyBmx2AMEOBoYQMIPzH5A4Dw3T0AMMTB9w6Jj/AKSDcQED8xdQsIFC\n",
       "4B0Dw/4EHDqkGBjsHUCuYl3AwPkHJvP/AEgHSwPCHwvhOqKAdhwA+ZwTaDw8kqMZGPoPQH2Obgcw\n",
       "ALsYGCyBSWkCw1V4pN8FxwenAboO9j+gFMQbx8DgAUpLhnPgMiwzZwNDmksBTQOn6K+5DHyTJQ9A\n",
       "UgkmOIEnsfNOwCZqji9/7MMihiW1o+YoDMD9AJ8ObLn2Hh71ACpIad3M3iVwAAAAAElFTkSuQmCC\n",
       "\" style=\"display:inline;vertical-align:middle;\" /></a><br>(see <a class=\"ProveItLink\" href=\"../../../__pv_it/theorems/5adee1a37e7f89ec953782c59f049cdf98d79fe90/dependencies.ipynb\">dependencies</a>)<br>"
      ],
      "text/plain": [
       "mult_5_3: (5 * 3) = 15"
      ]
     },
     "execution_count": 2,
     "metadata": {},
     "output_type": "execute_result"
    }
   ],
   "source": [
    "%proving mult_5_3"
   ]
  },
  {
   "cell_type": "code",
   "execution_count": null,
   "metadata": {},
   "outputs": [],
   "source": []
  }
 ],
 "metadata": {
  "kernelspec": {
   "display_name": "Python 3",
   "language": "python",
   "name": "python3"
  }
 },
 "nbformat": 4,
 "nbformat_minor": 0
}