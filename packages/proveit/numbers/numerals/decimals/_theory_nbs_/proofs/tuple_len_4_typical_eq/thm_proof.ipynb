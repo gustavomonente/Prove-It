{
 "cells": [
  {
   "cell_type": "markdown",
   "metadata": {},
   "source": [
    "Proof of <a class=\"ProveItLink\" href=\"../../../../../../_theory_nbs_/theory.ipynb\">proveit</a>.<a class=\"ProveItLink\" href=\"../../../../../_theory_nbs_/theory.ipynb\">numbers</a>.<a class=\"ProveItLink\" href=\"../../../../_theory_nbs_/theory.ipynb\">numerals</a>.<a class=\"ProveItLink\" href=\"../../theory.ipynb\">decimals</a>.<a class=\"ProveItLink\" href=\"../../theorems.ipynb#tuple_len_4_typical_eq\">tuple_len_4_typical_eq</a> theorem\n",
    "========"
   ]
  },
  {
   "cell_type": "code",
   "execution_count": 1,
   "metadata": {},
   "outputs": [],
   "source": [
    "import proveit\n",
    "theory = proveit.Theory() # the theorem's theory"
   ]
  },
  {
   "cell_type": "code",
   "execution_count": 2,
   "metadata": {},
   "outputs": [
    {
     "data": {
      "text/html": [
       "Under these <a href=\"presumptions.txt\">presumptions</a>, we begin our proof of<br><strong id=\"tuple_len_4_typical_eq\">tuple_len_4_typical_eq:</strong> <a class=\"ProveItLink\" href=\"../../../__pv_it/theorems/75925f25f41a3608578457b1bb6f005f5f95c8280/expr.ipynb\"><img src=\"data:image/png;base64,iVBORw0KGgoAAAANSUhEUgAAATwAAAAWBAMAAACvaz3RAAAAMFBMVEX///8QEBCIiIhmZma6urrM\n",
       "zMxUVFQiIiJERETc3Nzu7u6qqqp2dnaYmJgyMjIAAAAcRTyBAAAAAXRSTlMAQObYZgAAA5xJREFU\n",
       "SMfFVk1oE0EUfkma7maTTXqQIoIQoul5SY+2tOLBkzRF8FCQxqIHQSUHrVh7aG/NQdiT7UVYLagU\n",
       "MYuCogcNbVHxB4JeVKgEtAUtlOpJK1Tfm51JNpvMJqLgg8x+efPtm29n3psZgDZtBP7MRv55ALlF\n",
       "yrDMwJU2yA9Yu+x1tx0ganI+gQrBlRZv3OTRtSmXU5vONzLD00anKZdXF6CpHQY4KfgIXhD80uKd\n",
       "zzx63HR740YTasLWKnJ5FCC6y2+ocYDbgo9gjtauxTfpBo/+xqOkCXfIgkW5PAxw/cmWz1DBboBY\n",
       "kvMRxC182P7yFJNHv+BV0mhPAa7K5VEA3U/elTXMgC7OR6A/X1iYbbG2szx6JO9V0mgfcQUHZfJY\n",
       "AF95JZQHnwQfwfeZmckW8vZwdpCSLdKX4cmzltrHCYuprFPhfemfuBiGTB4L4CdPN0nekuAjOAFQ\n",
       "EL0dG3XkAWdQuMTZahmb/WZ806ncbavolMqsrbJywD4Vx9YrQl5sg5kB7gB+8q4Byfsg+AgOgFNq\n",
       "zJbqyEX+vMjZCuaothtCTiVFtyDBkhgmoZNlL/VhrGheNnsUwFdeicm7L/gIFAiWq93rdeRH/LmD\n",
       "swOYVKEtUBxRqKRYYkCMR33oCW/K5FEAP3nRLJM3KvgIYmWl1v+jjr3URF5gCopZse0NsUkLiH2J\n",
       "+gb/Rt4taJAXqRxBMN+zSnv+tx7aLGIpmp/51HqTxcUJe8y3vTIMsK3FmUOo9nXkPbmXa3dx7/X2\n",
       "fs0AHBR8AoXjmDXnwvRScILV1tlwV9XlLY2iDWecUzExiLnGdQKbRt5XKw3v7LUsDYBuT2nAXfzY\n",
       "kBGmT1aTFBpTP8tcXa5FJjbtGEgZj0ERaZ1l1WAglIP5LAGnD0IlmTy25QRRHrFZo227AdpO/PUJ\n",
       "PgEqv4AdzLHcwKHwD0skxwV8jpf5qmlj6ct7QZlAlHkFDMDLlaTjYX0Qz8rkUYDQse1+5zUl55yx\n",
       "DjjPEuXZr9MAq4JPQEd/0VTf4yNhkbQEWzvukhxqD+UAbvgfah52tWqrR6SWF4eaOKUC5ughmLMU\n",
       "6y22eCgZcxa6jsqvBCU5aHEl8LKFxWrIdSXgx8XYnX4YtsOnSthGMq+tYZu5uBV4dFVcqLSkFIDf\n",
       "hUoEqLFdB4Yw94XKbXZDK7uO6iAFXIL/dVRvLNna2VAQ/EKTW7S7dV3m021f5t+xNu11tx1ANzlf\n",
       "N+v9De1/t9/iTEQFte6a6wAAAABJRU5ErkJggg==\n",
       "\" style=\"display:inline;vertical-align:middle;\" /></a><br>(see <a class=\"ProveItLink\" href=\"../../../__pv_it/theorems/58872102d27736d9cf331ee2ffa3099439c37bd50/dependencies.ipynb\">dependencies</a>)<br>"
      ],
      "text/plain": [
       "tuple_len_4_typical_eq: forall_{a, b, c, d} (|(a, b, c, d)| = |(1, ..k.., 4)|)"
      ]
     },
     "execution_count": 2,
     "metadata": {},
     "output_type": "execute_result"
    }
   ],
   "source": [
    "%proving tuple_len_4_typical_eq"
   ]
  },
  {
   "cell_type": "code",
   "execution_count": null,
   "metadata": {},
   "outputs": [],
   "source": []
  }
 ],
 "metadata": {
  "kernelspec": {
   "display_name": "Python 3",
   "language": "python",
   "name": "python3"
  }
 },
 "nbformat": 4,
 "nbformat_minor": 0
}