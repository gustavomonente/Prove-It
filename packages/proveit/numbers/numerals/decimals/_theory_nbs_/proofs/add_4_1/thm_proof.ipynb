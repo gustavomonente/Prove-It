{
 "cells": [
  {
   "cell_type": "markdown",
   "metadata": {},
   "source": [
    "Proof of <a class=\"ProveItLink\" href=\"../../../../../../_theory_nbs_/theory.ipynb\">proveit</a>.<a class=\"ProveItLink\" href=\"../../../../../_theory_nbs_/theory.ipynb\">numbers</a>.<a class=\"ProveItLink\" href=\"../../../../_theory_nbs_/theory.ipynb\">numerals</a>.<a class=\"ProveItLink\" href=\"../../theory.ipynb\">decimals</a>.<a class=\"ProveItLink\" href=\"../../theorems.ipynb#add_4_1\">add_4_1</a> theorem\n",
    "========"
   ]
  },
  {
   "cell_type": "code",
   "execution_count": 1,
   "metadata": {},
   "outputs": [],
   "source": [
    "import proveit\n",
    "theory = proveit.Theory() # the theorem's theory"
   ]
  },
  {
   "cell_type": "code",
   "execution_count": 2,
   "metadata": {},
   "outputs": [
    {
     "data": {
      "text/html": [
       "Under these <a href=\"presumptions.txt\">presumptions</a>, we begin our proof of<br><strong id=\"add_4_1\">add_4_1:</strong> <a class=\"ProveItLink\" href=\"../../../__pv_it/theorems/e18b4ffb2106782c602adb29e59b0c0915f2580b0/expr.ipynb\"><img src=\"data:image/png;base64,iVBORw0KGgoAAAANSUhEUgAAAGEAAAAUBAMAAABvx07iAAAAMFBMVEX///9UVFTMzMx2dna6uroQ\n",
       "EBCqqqqIiIgiIiJmZmYyMjJERETu7u6YmJjc3NwAAAC+aOQFAAAAAXRSTlMAQObYZgAAATZJREFU\n",
       "KM9jYOC7wIAd5OEQZzgNIjSxSDA+QBfhusM0DUitA7Eb0eTYYhgYeBag62D9/9+AgYF3ApDJHggV\n",
       "S4dQBw3/AElzDDsM64AkB8jutwtRdTDwgnQcxXAnmHwBIgyw6uBywKqjEiT/AKsO5gnoOu5WKjAw\n",
       "7AWyjjNg1cEL9jrzKjAA6eY+wPeFgaEN5CjsOtgaMIN8BwNDCFBGAaLDatWq1lWrFsJ1MH3A1DH/\n",
       "AUjHYQbsdmDokGJgsHcAuSpx5syv07HoYGlA8ocAkBkFtOMA2OcMDIG4fY4EgL7vYmCwBLOj0XSw\n",
       "g3RwGqDpeMnAG8fA4AFiWv+XRdHBKfprLjAGFdB08E2WPABNJXCQjsw5gT2x86JE7BlkjjmO/LEP\n",
       "V8bBTO3IOQob4H6AQwJnrr2HXRgA92xYAeLq6goAAAAASUVORK5CYII=\n",
       "\" style=\"display:inline;vertical-align:middle;\" /></a><br>(see <a class=\"ProveItLink\" href=\"../../../__pv_it/theorems/c0946fba8de54d475b4a00dcf9b591920e225b500/dependencies.ipynb\">dependencies</a>)<br>"
      ],
      "text/plain": [
       "add_4_1: (4 + 1) = 5"
      ]
     },
     "execution_count": 2,
     "metadata": {},
     "output_type": "execute_result"
    }
   ],
   "source": [
    "%proving add_4_1"
   ]
  },
  {
   "cell_type": "code",
   "execution_count": null,
   "metadata": {},
   "outputs": [],
   "source": []
  }
 ],
 "metadata": {
  "kernelspec": {
   "display_name": "Python 3",
   "language": "python",
   "name": "python3"
  }
 },
 "nbformat": 4,
 "nbformat_minor": 0
}