{
 "cells": [
  {
   "cell_type": "markdown",
   "metadata": {},
   "source": [
    "Proof of <a class=\"ProveItLink\" href=\"../../../../../../_theory_nbs_/theory.ipynb\">proveit</a>.<a class=\"ProveItLink\" href=\"../../../../../_theory_nbs_/theory.ipynb\">numbers</a>.<a class=\"ProveItLink\" href=\"../../../../_theory_nbs_/theory.ipynb\">numerals</a>.<a class=\"ProveItLink\" href=\"../../theory.ipynb\">decimals</a>.<a class=\"ProveItLink\" href=\"../../theorems.ipynb#add_8_0\">add_8_0</a> theorem\n",
    "========"
   ]
  },
  {
   "cell_type": "code",
   "execution_count": 1,
   "metadata": {},
   "outputs": [],
   "source": [
    "import proveit\n",
    "theory = proveit.Theory() # the theorem's theory"
   ]
  },
  {
   "cell_type": "code",
   "execution_count": 2,
   "metadata": {},
   "outputs": [
    {
     "data": {
      "text/html": [
       "Under these <a href=\"presumptions.txt\">presumptions</a>, we begin our proof of<br><strong id=\"add_8_0\">add_8_0:</strong> <a class=\"ProveItLink\" href=\"../../../__pv_it/theorems/3cc060e5393c1483a8ba3f954081c0419530a6a10/expr.ipynb\"><img src=\"data:image/png;base64,iVBORw0KGgoAAAANSUhEUgAAAGEAAAAUBAMAAABvx07iAAAAMFBMVEX////MzMxUVFR2dna6uroQ\n",
       "EBCqqqqIiIgiIiJmZmYyMjJERETu7u6YmJjc3NwAAACgK8IjAAAAAXRSTlMAQObYZgAAAX9JREFU\n",
       "KM91kzFLw1AQx39t2lo1KcUv0E6Cg+hksSJ2LC4iOIpkKw7aooM42UVHLdgPII6hiLiqJYsoKlgs\n",
       "4qYdHUWpoCJ6rVD7nskjkHt3+b17l/sfxGp4r2UfP1dwvlrWnKl6nGBD/9RcG8/I6wBKBG0l1Geb\n",
       "25h7OtELg2CViNQ60dzv6w7SkkgnluASog2MQ8yiQhxB3uVMJybgAp4g9OkaNYV4gRmbvoxGzJww\n",
       "CetijXyN0U2Y7xItYJQ0Ivhdl3pPxTK+KwoRe4VEAatdnOG0V5ue+nBhS4zFbDOjEJIjMUqkqOWI\n",
       "lHfmQB4ryca8ONKOs+k4+51bBZ414paeptsiwi6BN73yvP2fkGMTdutWN7IZVohjeHQJFbvqSEpq\n",
       "OSFYa1UeFjlUPTpo6U1fgP4G49KPClZBIaK2OSuiGNWIaZd7yIo1sFtW/i5maiUu6oprRGCopcSo\n",
       "otBc9+bCW+yW0thrRfI+81H1G5z/av+bKO/V3/AJ+E7tg7f7B0bnZxCUidByAAAAAElFTkSuQmCC\n",
       "\" style=\"display:inline;vertical-align:middle;\" /></a><br>(see <a class=\"ProveItLink\" href=\"../../../__pv_it/theorems/0108215a53373fbb2616e77380c8aeb4b7f0180e0/dependencies.ipynb\">dependencies</a>)<br>"
      ],
      "text/plain": [
       "add_8_0: (8 + 0) = 8"
      ]
     },
     "execution_count": 2,
     "metadata": {},
     "output_type": "execute_result"
    }
   ],
   "source": [
    "%proving add_8_0"
   ]
  },
  {
   "cell_type": "code",
   "execution_count": null,
   "metadata": {},
   "outputs": [],
   "source": []
  }
 ],
 "metadata": {
  "kernelspec": {
   "display_name": "Python 3",
   "language": "python",
   "name": "python3"
  }
 },
 "nbformat": 4,
 "nbformat_minor": 0
}