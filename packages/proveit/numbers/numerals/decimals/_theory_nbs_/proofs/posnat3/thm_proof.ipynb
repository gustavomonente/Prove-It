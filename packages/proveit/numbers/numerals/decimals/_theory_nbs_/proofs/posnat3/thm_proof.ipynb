{
 "cells": [
  {
   "cell_type": "markdown",
   "metadata": {},
   "source": [
    "Proof of <a class=\"ProveItLink\" href=\"../../../../../../_theory_nbs_/theory.ipynb\">proveit</a>.<a class=\"ProveItLink\" href=\"../../../../../_theory_nbs_/theory.ipynb\">numbers</a>.<a class=\"ProveItLink\" href=\"../../../../_theory_nbs_/theory.ipynb\">numerals</a>.<a class=\"ProveItLink\" href=\"../../theory.ipynb\">decimals</a>.<a class=\"ProveItLink\" href=\"../../theorems.ipynb#posnat3\">posnat3</a> theorem\n",
    "========"
   ]
  },
  {
   "cell_type": "code",
   "execution_count": 1,
   "metadata": {},
   "outputs": [],
   "source": [
    "import proveit\n",
    "theory = proveit.Theory() # the theorem's theory"
   ]
  },
  {
   "cell_type": "code",
   "execution_count": 2,
   "metadata": {},
   "outputs": [
    {
     "data": {
      "text/html": [
       "Under these <a href=\"presumptions.txt\">presumptions</a>, we begin our proof of<br><strong id=\"posnat3\">posnat3:</strong> <a class=\"ProveItLink\" href=\"../../../__pv_it/theorems/531653cad53d5069f3ff6b34dc92eef0ae97bceb0/expr.ipynb\"><img src=\"data:image/png;base64,iVBORw0KGgoAAAANSUhEUgAAAD8AAAAUBAMAAADIGvgZAAAAMFBMVEX///9UVFTMzMzu7u4yMjIQ\n",
       "EBC6uroiIiKIiIiYmJhmZmaqqqpERER2dnbc3NwAAACDMjhQAAAAAXRSTlMAQObYZgAAAPNJREFU\n",
       "KM9jYKAEMBJSwEMlBW/vnkYVNvlzxIDh6tcEqAK+BQz7J6CqOMkkwMD8gUHExdXFZQIDx28G/gJU\n",
       "BeIKHQwMATAr2MIY+B0gEnPKy8EsscOMCgwFSI6EWqHTDOXLKTI7IytgroVQzjAr5LgbFJEU8F1f\n",
       "DAm2B3AFDNc4G5CtaE1ADRU5BkYDIZACPqgAazCIVHUBAgeIAmYBlgCYcr4HDDy/QYw3SCYw6DLB\n",
       "FfB/hipgRVbAueEAjMd6gIH9M4jB1QATEgLie3AFnBNg4VANE/IGKXeAG5i16hiEYXjMAEyrfwXq\n",
       "ZnbAEru5x8sxhQH/kzXL0WiwxAAAAABJRU5ErkJggg==\n",
       "\" style=\"display:inline;vertical-align:middle;\" /></a><br>(see <a class=\"ProveItLink\" href=\"../../../__pv_it/theorems/a3b266c7ac73c993417e1d5803aacf74aa9386e80/dependencies.ipynb\">dependencies</a>)<br>"
      ],
      "text/plain": [
       "posnat3: 3 in NaturalPos"
      ]
     },
     "execution_count": 2,
     "metadata": {},
     "output_type": "execute_result"
    }
   ],
   "source": [
    "%proving posnat3"
   ]
  },
  {
   "cell_type": "code",
   "execution_count": null,
   "metadata": {},
   "outputs": [],
   "source": []
  }
 ],
 "metadata": {
  "kernelspec": {
   "display_name": "Python 3",
   "language": "python",
   "name": "python3"
  }
 },
 "nbformat": 4,
 "nbformat_minor": 0
}