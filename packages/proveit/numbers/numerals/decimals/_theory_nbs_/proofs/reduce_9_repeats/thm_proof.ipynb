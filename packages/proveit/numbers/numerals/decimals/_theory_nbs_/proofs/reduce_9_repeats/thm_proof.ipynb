{
 "cells": [
  {
   "cell_type": "markdown",
   "metadata": {},
   "source": [
    "Proof of <a class=\"ProveItLink\" href=\"../../../../../../_theory_nbs_/theory.ipynb\">proveit</a>.<a class=\"ProveItLink\" href=\"../../../../../_theory_nbs_/theory.ipynb\">numbers</a>.<a class=\"ProveItLink\" href=\"../../../../_theory_nbs_/theory.ipynb\">numerals</a>.<a class=\"ProveItLink\" href=\"../../theory.ipynb\">decimals</a>.<a class=\"ProveItLink\" href=\"../../theorems.ipynb#reduce_9_repeats\">reduce_9_repeats</a> theorem\n",
    "========"
   ]
  },
  {
   "cell_type": "code",
   "execution_count": 1,
   "metadata": {},
   "outputs": [],
   "source": [
    "import proveit\n",
    "theory = proveit.Theory() # the theorem's theory"
   ]
  },
  {
   "cell_type": "code",
   "execution_count": 2,
   "metadata": {},
   "outputs": [
    {
     "data": {
      "text/html": [
       "Under these <a href=\"presumptions.txt\">presumptions</a>, we begin our proof of<br><strong id=\"reduce_9_repeats\">reduce_9_repeats:</strong> <a class=\"ProveItLink\" href=\"../../../__pv_it/theorems/14f842e951a376b1d31276d868340a398998609b0/expr.ipynb\"><img src=\"data:image/png;base64,iVBORw0KGgoAAAANSUhEUgAAAbMAAAAUBAMAAAD1rc5WAAAAMFBMVEX///8QEBCIiIhmZma6urrM\n",
       "zMxUVFQiIiJERETc3Nzu7u6qqqp2dnaYmJgyMjIAAAAcRTyBAAAAAXRSTlMAQObYZgAAA+dJREFU\n",
       "WMO9WE1oE0EUfkl2u8lmN1XxIEVhqdBDrRoUL5ZiVLR40eLBk5DgH/SgiIWKP2jpxeYgXVGsF3GN\n",
       "YKUUG/EgFsWQSsFYNbSiKBZTCgUFtVQLpvVvfjbZ2U12ka5x2NdOvp15336ZN2/eBqC0XdXtX7X7\n",
       "pVAgC5Vr93XL4Q/j7B2xg5q13RhpXRhVlVoC3aqgMsKH7Sn+8JG9E1KpWZq4Ai5oji4jNriYK4E+\n",
       "VFIa5sN2BYeHaY3GdLN+F4ugKuzo0fZu2grI4UpKI3zIQmglpCR744RulladA2nayaH98163AoJa\n",
       "UWnXqcmZvr4e0w4/Ss3aBjrAm3dy+MhWWsgaqj0VVUb4sH3v6jrN4t4wNbG2dQsbSR60at/Qf25i\n",
       "1XM10DSs7lw+NowS3cV3rRCsTYO8qa0Rdj9cY4pR6kOyil6JLFF3qUGhH40uQ+oCxHzYDgLEWVp/\n",
       "llo/vFbOMDiKxtBPorFxINuscTWwOCK2AXcSNmv3VF8MhDBOrALrS/ch4zwifSaNqDyPniIlHxNo\n",
       "fmG6BqkbEPNh22rJYEKSWgZeaDvYG53wYJ4sN4rW5QBLYAoFYcSTAo9yp4Wbw9KQXi87RfcRtMb3\n",
       "KaRUk+Y4uuWYrkHqBsR82ATwms5PT4SaBl3m5wmO7p0l0mLAfx0fPwyTaAOGo03jr7KweyiPpcHZ\n",
       "TlOC0H3w1vSzFH3X4C/kZaZrkLoBMR82KWuKoaI0gJmS/D9HpIUhSJYPSavueISz6+04T6X1f/lq\n",
       "njJjJw3NVYzsq5gnuAQL0gK5PfgY2FDXYg5I4GdLMk+M/E0BP6NLQ6uG3Z4DPq8JYW9Ag/embEh9\n",
       "cEeNvRbTAxIg2lIcZnQZ0oWDmI9wxg+glKgdESLmNDLonYZ69tiqgaiqSwO0VxN0r6ENLCo/IJjf\n",
       "For5OAWq2OjWfcjWcgSlkaC2FrHSSDe6BqkbsJBG4C7Sx8OnYiakmZOb90+jInYAFy2/8OX9KNIx\n",
       "OPCiSdgIE6p4Gvh58GnLQJp968v5UBrxq3Q4ugo+wJeySBsC2JXsRjU4HsV0GVIXIOEjnDRSi6ex\n",
       "vprivvqVqGoWTiKonVwj68m6ct3fkyDub9BgarQOITfXZeDyusyaLBx6wj1b/bgw/LhW8AGhFou0\n",
       "ZjStNtGUJaOYLkPqAiR8hFPWyM7jyxdag/aH/qRjSRA0aule+0KLGcV0B92BvSznNSknlS+PUwuV\n",
       "Jv1VeSyVnZByB6ZZzpsv05liOaJSo4eGYv/w7Y7SEk4vNfHSUewExR2YK8tpfRWV7Z99+2/HV1Mj\n",
       "U/odXkWz5SbI7kDT2lT2B4Q3//kHhDfU/gBTjrLVj/JguwAAAABJRU5ErkJggg==\n",
       "\" style=\"display:inline;vertical-align:middle;\" /></a><br>(see <a class=\"ProveItLink\" href=\"../../../__pv_it/theorems/49e53c6d21925c48535a8db4b1b43c78fb817bc60/dependencies.ipynb\">dependencies</a>)<br>"
      ],
      "text/plain": [
       "reduce_9_repeats: forall_{x} ((x, ..9 repeats.., x) = (x, x, x, x, x, x, x, x, x))"
      ]
     },
     "execution_count": 2,
     "metadata": {},
     "output_type": "execute_result"
    }
   ],
   "source": [
    "%proving reduce_9_repeats"
   ]
  },
  {
   "cell_type": "code",
   "execution_count": null,
   "metadata": {},
   "outputs": [],
   "source": []
  }
 ],
 "metadata": {
  "kernelspec": {
   "display_name": "Python 3",
   "language": "python",
   "name": "python3"
  }
 },
 "nbformat": 4,
 "nbformat_minor": 0
}