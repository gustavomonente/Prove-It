{
 "cells": [
  {
   "cell_type": "markdown",
   "metadata": {},
   "source": [
    "Proof of <a class=\"ProveItLink\" href=\"../../../../../../_theory_nbs_/theory.ipynb\">proveit</a>.<a class=\"ProveItLink\" href=\"../../../../../_theory_nbs_/theory.ipynb\">numbers</a>.<a class=\"ProveItLink\" href=\"../../../../_theory_nbs_/theory.ipynb\">numerals</a>.<a class=\"ProveItLink\" href=\"../../theory.ipynb\">decimals</a>.<a class=\"ProveItLink\" href=\"../../theorems.ipynb#add_3_5\">add_3_5</a> theorem\n",
    "========"
   ]
  },
  {
   "cell_type": "code",
   "execution_count": 1,
   "metadata": {},
   "outputs": [],
   "source": [
    "import proveit\n",
    "theory = proveit.Theory() # the theorem's theory"
   ]
  },
  {
   "cell_type": "code",
   "execution_count": 2,
   "metadata": {},
   "outputs": [
    {
     "data": {
      "text/html": [
       "Under these <a href=\"presumptions.txt\">presumptions</a>, we begin our proof of<br><strong id=\"add_3_5\">add_3_5:</strong> <a class=\"ProveItLink\" href=\"../../../__pv_it/theorems/67ebfb3629324d544093c9b683210329b2d1d9920/expr.ipynb\"><img src=\"data:image/png;base64,iVBORw0KGgoAAAANSUhEUgAAAGEAAAAUBAMAAABvx07iAAAAMFBMVEX////MzMxUVFR2dna6uroQ\n",
       "EBCqqqqIiIgiIiJmZmYyMjJERETu7u6YmJjc3NwAAACgK8IjAAAAAXRSTlMAQObYZgAAAX5JREFU\n",
       "KM91k79Lw0AUx79Jf6W/kv4HOgl1KjrUKmJGdXHJJCLdOqmTSBcJiA4uFhRBECyOGcRBxEEli1DU\n",
       "oejgohJw0c1BO0ghvlws5q7JGy53793n3o+8B6hthMtyhB53wNvoOa/LPEv7kB3xam6totPnBGoD\n",
       "K7yjhOuWkGuKRBoYAvINpDrQTF9X+/Mxsk5rWSSWgFtAcRA3oDU5QmbrjUhMAC3gne17UXFERheI\n",
       "uUtMAnWW0gZ44qVeAGINgZDdxypwRTt17JAnsrb6RSmyUGMWE0ZP/djAFruyqnMEyQWQNAUfyb0d\n",
       "AzD8ci7QMm5Zm5Z17FuPHEifAvGA1LftEaqDbIfzMUwB6P0EPTtQ9aLSuiIxTz5sxM1AHoNUH3pB\n",
       "bnuZJ06hdDmC0tzuZR6QRaqJgwpZ2uL/+ECerOmSQMzaeAKmaTdzcMZXV90tUhkzBYGQil4nKlyH\n",
       "1oKHVniz57kfex88lCPm4zpqcPq7/X+iwiXrRBgip/Y1XP0L9VxiCQl4pmUAAAAASUVORK5CYII=\n",
       "\" style=\"display:inline;vertical-align:middle;\" /></a><br>(see <a class=\"ProveItLink\" href=\"../../../__pv_it/theorems/745afb10a0336b98f8931ffc17ca3e710312c9fe0/dependencies.ipynb\">dependencies</a>)<br>"
      ],
      "text/plain": [
       "add_3_5: (3 + 5) = 8"
      ]
     },
     "execution_count": 2,
     "metadata": {},
     "output_type": "execute_result"
    }
   ],
   "source": [
    "%proving add_3_5"
   ]
  },
  {
   "cell_type": "code",
   "execution_count": null,
   "metadata": {},
   "outputs": [],
   "source": []
  }
 ],
 "metadata": {
  "kernelspec": {
   "display_name": "Python 3",
   "language": "python",
   "name": "python3"
  }
 },
 "nbformat": 4,
 "nbformat_minor": 0
}