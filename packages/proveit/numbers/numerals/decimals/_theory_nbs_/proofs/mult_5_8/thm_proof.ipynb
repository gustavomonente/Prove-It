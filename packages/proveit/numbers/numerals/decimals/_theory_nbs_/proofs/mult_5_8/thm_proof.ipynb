{
 "cells": [
  {
   "cell_type": "markdown",
   "metadata": {},
   "source": [
    "Proof of <a class=\"ProveItLink\" href=\"../../../../../../_theory_nbs_/theory.ipynb\">proveit</a>.<a class=\"ProveItLink\" href=\"../../../../../_theory_nbs_/theory.ipynb\">numbers</a>.<a class=\"ProveItLink\" href=\"../../../../_theory_nbs_/theory.ipynb\">numerals</a>.<a class=\"ProveItLink\" href=\"../../theory.ipynb\">decimals</a>.<a class=\"ProveItLink\" href=\"../../theorems.ipynb#mult_5_8\">mult_5_8</a> theorem\n",
    "========"
   ]
  },
  {
   "cell_type": "code",
   "execution_count": 1,
   "metadata": {},
   "outputs": [],
   "source": [
    "import proveit\n",
    "theory = proveit.Theory() # the theorem's theory"
   ]
  },
  {
   "cell_type": "code",
   "execution_count": 2,
   "metadata": {},
   "outputs": [
    {
     "data": {
      "text/html": [
       "Under these <a href=\"presumptions.txt\">presumptions</a>, we begin our proof of<br><strong id=\"mult_5_8\">mult_5_8:</strong> <a class=\"ProveItLink\" href=\"../../../__pv_it/theorems/e0c39fac02ec450e4346576f839226a9722e995d0/expr.ipynb\"><img src=\"data:image/png;base64,iVBORw0KGgoAAAANSUhEUgAAAGEAAAAUBAMAAABvx07iAAAAMFBMVEX///9UVFTMzMx2dna6uroQ\n",
       "EBCqqqqIiIgiIiJmZmYyMjJERETu7u6YmJjc3NwAAAC+aOQFAAAAAXRSTlMAQObYZgAAAZdJREFU\n",
       "KM99kz9IAnEUx7+XWXqe8psKh8C1SZtEI3KMliBcgqijvbyGiDanxjqiJQgymgqKmrO6JZAaMkSE\n",
       "BnOsqaQaisjez8u7vN9xb/hx7/fe59379wMiZQiyBC+5BY6NYbWjKqupDKSG6NejA8lKjL5OgPnW\n",
       "m2UIAgNQCiIRYJBVZQMIE3owaMdcBG4omEisMFSBNKHkzP4ZRoEScC0AkQeGMyBn4AndxFQRY4Cc\n",
       "cRI+maFJZhVrpA3VtiyL1KpQF3y6k6jLTPkkQsMFaUW82DHHvwyqrl16+ojLYbuFmswi1J+4hvW2\n",
       "WyjPb/lX3/Zmls68MykQQf+IJ5A1e/pDxx0PfI/+DwM9rw5iAVZWREgF+N7NjgOzFEcVCCUBs/Kc\n",
       "yrPyFxD87pjIVSqjN2/Xsc9zje7szWjnwKPBK6cxB6whz1FRjb/Ku8TfmWCKhqOjag190kCNgiRE\n",
       "4hQBVZkGJkh5Htm1Fy5Kmwg5JkzwqllWkssxc0tEKXkse1h3u016vY9Llzu3be96UYKEGl6E26ut\n",
       "e/j/ArE0Z0b+xMHtAAAAAElFTkSuQmCC\n",
       "\" style=\"display:inline;vertical-align:middle;\" /></a><br>(see <a class=\"ProveItLink\" href=\"../../../__pv_it/theorems/de42ab034bccd3fc5ecba426bb734cfdcb49e1ab0/dependencies.ipynb\">dependencies</a>)<br>"
      ],
      "text/plain": [
       "mult_5_8: (5 * 8) = 40"
      ]
     },
     "execution_count": 2,
     "metadata": {},
     "output_type": "execute_result"
    }
   ],
   "source": [
    "%proving mult_5_8"
   ]
  },
  {
   "cell_type": "code",
   "execution_count": null,
   "metadata": {},
   "outputs": [],
   "source": []
  }
 ],
 "metadata": {
  "kernelspec": {
   "display_name": "Python 3",
   "language": "python",
   "name": "python3"
  }
 },
 "nbformat": 4,
 "nbformat_minor": 0
}