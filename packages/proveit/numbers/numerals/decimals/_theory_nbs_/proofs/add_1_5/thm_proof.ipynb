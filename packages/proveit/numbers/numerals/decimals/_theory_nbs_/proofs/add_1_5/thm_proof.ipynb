{
 "cells": [
  {
   "cell_type": "markdown",
   "metadata": {},
   "source": [
    "Proof of <a class=\"ProveItLink\" href=\"../../../../../../_theory_nbs_/theory.ipynb\">proveit</a>.<a class=\"ProveItLink\" href=\"../../../../../_theory_nbs_/theory.ipynb\">numbers</a>.<a class=\"ProveItLink\" href=\"../../../../_theory_nbs_/theory.ipynb\">numerals</a>.<a class=\"ProveItLink\" href=\"../../theory.ipynb\">decimals</a>.<a class=\"ProveItLink\" href=\"../../theorems.ipynb#add_1_5\">add_1_5</a> theorem\n",
    "========"
   ]
  },
  {
   "cell_type": "code",
   "execution_count": 1,
   "metadata": {},
   "outputs": [],
   "source": [
    "import proveit\n",
    "theory = proveit.Theory() # the theorem's theory"
   ]
  },
  {
   "cell_type": "code",
   "execution_count": 2,
   "metadata": {},
   "outputs": [
    {
     "data": {
      "text/html": [
       "Under these <a href=\"presumptions.txt\">presumptions</a>, we begin our proof of<br><strong id=\"add_1_5\">add_1_5:</strong> <a class=\"ProveItLink\" href=\"../../../__pv_it/theorems/076212131b4d79a7d615436ccb1d95628460213c0/expr.ipynb\"><img src=\"data:image/png;base64,iVBORw0KGgoAAAANSUhEUgAAAGEAAAAUBAMAAABvx07iAAAAMFBMVEX////MzMxUVFR2dna6uroQ\n",
       "EBCqqqqIiIgiIiJmZmYyMjJERETu7u6YmJjc3NwAAACgK8IjAAAAAXRSTlMAQObYZgAAAUlJREFU\n",
       "KM9jYOC7wIAd5OEQZziNRYzrDuM0BqYHGOLM5YZAch0Qpx5AlWH9/9+AgWcBugaeJQyzGBh4JzDw\n",
       "KOvDdKRD7TCqA5Lm6Dq4JzDsZmDgANl9H00HE5g8iq7DH+zOFww4dXA5oOnYCiYrseq4WykA9OcE\n",
       "NB2/hCuBhuzFpoP7AN8XoBfBXmdeBQZA3Ty/LjC0MYAQpg4g2MHAwNaAFlT/GRimHmAIQeiwWrWq\n",
       "ddWqRRDp+Q8YGD+gueoHUKUDsg6EHVoMDPYOmDq6gCovYHdVFNCOAwwsDUj+UAAyVcF2YPX5BLB5\n",
       "vOiRLn+AYSoDgyWIWY+m4yUDbxwDA6cBmg4mA54wBgYPIGtS/MoLKDr4JmsCzeASQI90SyMBaCqB\n",
       "g3RkzgnsiZ0XJWLPIHPMceSPfbgyDmZqx5OjIEnlAQ4JnLn2HnZhAPShY5HiM+sVAAAAAElFTkSu\n",
       "QmCC\n",
       "\" style=\"display:inline;vertical-align:middle;\" /></a><br>(see <a class=\"ProveItLink\" href=\"../../../__pv_it/theorems/e31f411a31ac21c71a2369103b4ebdeeb0c715f90/dependencies.ipynb\">dependencies</a>)<br>"
      ],
      "text/plain": [
       "add_1_5: (1 + 5) = 6"
      ]
     },
     "execution_count": 2,
     "metadata": {},
     "output_type": "execute_result"
    }
   ],
   "source": [
    "%proving add_1_5"
   ]
  },
  {
   "cell_type": "code",
   "execution_count": null,
   "metadata": {},
   "outputs": [],
   "source": []
  }
 ],
 "metadata": {
  "kernelspec": {
   "display_name": "Python 3",
   "language": "python",
   "name": "python3"
  }
 },
 "nbformat": 4,
 "nbformat_minor": 0
}