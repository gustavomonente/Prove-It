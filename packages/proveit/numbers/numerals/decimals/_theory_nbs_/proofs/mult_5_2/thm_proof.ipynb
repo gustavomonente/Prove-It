{
 "cells": [
  {
   "cell_type": "markdown",
   "metadata": {},
   "source": [
    "Proof of <a class=\"ProveItLink\" href=\"../../../../../../_theory_nbs_/theory.ipynb\">proveit</a>.<a class=\"ProveItLink\" href=\"../../../../../_theory_nbs_/theory.ipynb\">numbers</a>.<a class=\"ProveItLink\" href=\"../../../../_theory_nbs_/theory.ipynb\">numerals</a>.<a class=\"ProveItLink\" href=\"../../theory.ipynb\">decimals</a>.<a class=\"ProveItLink\" href=\"../../theorems.ipynb#mult_5_2\">mult_5_2</a> theorem\n",
    "========"
   ]
  },
  {
   "cell_type": "code",
   "execution_count": 1,
   "metadata": {},
   "outputs": [],
   "source": [
    "import proveit\n",
    "theory = proveit.Theory() # the theorem's theory"
   ]
  },
  {
   "cell_type": "code",
   "execution_count": 2,
   "metadata": {},
   "outputs": [
    {
     "data": {
      "text/html": [
       "Under these <a href=\"presumptions.txt\">presumptions</a>, we begin our proof of<br><strong id=\"mult_5_2\">mult_5_2:</strong> <a class=\"ProveItLink\" href=\"../../../__pv_it/theorems/962de30f26dea490100ed3c2b51d1277e407e1110/expr.ipynb\"><img src=\"data:image/png;base64,iVBORw0KGgoAAAANSUhEUgAAAGEAAAAUBAMAAABvx07iAAAAMFBMVEX///9UVFTMzMx2dna6uroQ\n",
       "EBCqqqqIiIgiIiJmZmYyMjJERETu7u6YmJjc3NwAAAC+aOQFAAAAAXRSTlMAQObYZgAAAXxJREFU\n",
       "KM99kz1Iw1AQx//9sGnaJLiILtKsTk1xKO3k6CaIgoNgVhdbR7dMjhrcChUiTgoqzlVJB0FwUJDi\n",
       "phnrpKKDSjFeEpumyWsO3oN7d7+7d+/uAdI9IrKBOLkFTswZta8KjZaMhMX2LT/ItJ8Ca/aHf9hG\n",
       "6hOCEXHOrAI5VdgBRB04nBzEbALLFCwMtEs9oANUgSw5jwdMK0DBwnUkh0jEOVAz0cUwcWaiICM3\n",
       "xyLegQUVW6RNP+4FjbsmUjqDEL6JqOOStAu8BmKm6RlEt/TqsSNHfUIiQ7GObVfPa87DekSWLpnR\n",
       "GDkkylFUsOTq/C9td96bNmgl30bfioiE4fTACw5w+ijCqbymOrcaM8D3fNM6JAtpbVDHgU+0gGfT\n",
       "qZyn8H6Tkwo467/ycA6vgxVA0tHxm96drUxRECVMcERkVWERmCftpdQcdNC2v2iC5BDAT/zsQyhv\n",
       "yt6UROUmZthFnTnWcf/jinHGmPbhHxWRvBVHsH7tU4z/H0BgamWSbHcgAAAAAElFTkSuQmCC\n",
       "\" style=\"display:inline;vertical-align:middle;\" /></a><br>(see <a class=\"ProveItLink\" href=\"../../../__pv_it/theorems/32e26246f68c36fe0c33eb521442603904e4577c0/dependencies.ipynb\">dependencies</a>)<br>"
      ],
      "text/plain": [
       "mult_5_2: (5 * 2) = 10"
      ]
     },
     "execution_count": 2,
     "metadata": {},
     "output_type": "execute_result"
    }
   ],
   "source": [
    "%proving mult_5_2"
   ]
  },
  {
   "cell_type": "code",
   "execution_count": null,
   "metadata": {},
   "outputs": [],
   "source": []
  }
 ],
 "metadata": {
  "kernelspec": {
   "display_name": "Python 3",
   "language": "python",
   "name": "python3"
  }
 },
 "nbformat": 4,
 "nbformat_minor": 0
}