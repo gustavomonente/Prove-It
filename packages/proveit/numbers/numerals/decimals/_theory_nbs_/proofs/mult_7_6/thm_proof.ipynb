{
 "cells": [
  {
   "cell_type": "markdown",
   "metadata": {},
   "source": [
    "Proof of <a class=\"ProveItLink\" href=\"../../../../../../_theory_nbs_/theory.ipynb\">proveit</a>.<a class=\"ProveItLink\" href=\"../../../../../_theory_nbs_/theory.ipynb\">numbers</a>.<a class=\"ProveItLink\" href=\"../../../../_theory_nbs_/theory.ipynb\">numerals</a>.<a class=\"ProveItLink\" href=\"../../theory.ipynb\">decimals</a>.<a class=\"ProveItLink\" href=\"../../theorems.ipynb#mult_7_6\">mult_7_6</a> theorem\n",
    "========"
   ]
  },
  {
   "cell_type": "code",
   "execution_count": 1,
   "metadata": {},
   "outputs": [],
   "source": [
    "import proveit\n",
    "theory = proveit.Theory() # the theorem's theory"
   ]
  },
  {
   "cell_type": "code",
   "execution_count": 2,
   "metadata": {},
   "outputs": [
    {
     "data": {
      "text/html": [
       "Under these <a href=\"presumptions.txt\">presumptions</a>, we begin our proof of<br><strong id=\"mult_7_6\">mult_7_6:</strong> <a class=\"ProveItLink\" href=\"../../../__pv_it/theorems/c0b713dc9e184e63a672fdccf626dc10307659660/expr.ipynb\"><img src=\"data:image/png;base64,iVBORw0KGgoAAAANSUhEUgAAAGEAAAAUBAMAAABvx07iAAAAMFBMVEX///9UVFTMzMx2dna6uroQ\n",
       "EBCqqqqIiIgiIiJmZmYyMjJERETu7u6YmJjc3NwAAAC+aOQFAAAAAXRSTlMAQObYZgAAAYhJREFU\n",
       "KM99k71PwmAQxh9aBCmFdDHRiSb+AVYZCE5surko0dXNxbAYgxMuDjrYxDBgTNTERQdhcSJqHUxM\n",
       "HOjsgB0ZJTggS3172Bb7Nr2kTe+e+13v3g8ga4KzXUTZO4TDs3ze88X9JcQsPk/QITfaKvu6R8a2\n",
       "7b4ryDc4h3zFE9MKXiB+AxkdKVZRcYW0jjZQ4Ik9BRfABkMtiKwV1RXWqKFXDsh+KNgEchZ65K94\n",
       "ygO9pVKQECUFTQM5FVXyW54ymq+ybFEPEl2JGj818EgFvBWWRyaO2HQ0+vKdY7cUrxARH8CRgc44\n",
       "23lsoG4gUQs2BSLYgmHd8Q8o2nEKD4HPEoSvALE9Jhr4I07cFQeOGWFyhKwRkXTGo676vjZD/4jX\n",
       "/Dmu2VdirnG5VcEOshZNLvz4xIKBujv5P5tSIGhIWig6FQa+ENPkMpDSeKKFXr44C6w6+1meUIqL\n",
       "bP8lldvB577ZtO0hnZIQe4s47Bk9LFqIuh9PIbGw0z55o3hLW1FE2K3tRuT/AvbqYJBSJCHwAAAA\n",
       "AElFTkSuQmCC\n",
       "\" style=\"display:inline;vertical-align:middle;\" /></a><br>(see <a class=\"ProveItLink\" href=\"../../../__pv_it/theorems/89ff06af1bbcb89f1dd2e98cb261b08aa4c7a2970/dependencies.ipynb\">dependencies</a>)<br>"
      ],
      "text/plain": [
       "mult_7_6: (7 * 6) = 42"
      ]
     },
     "execution_count": 2,
     "metadata": {},
     "output_type": "execute_result"
    }
   ],
   "source": [
    "%proving mult_7_6"
   ]
  },
  {
   "cell_type": "code",
   "execution_count": null,
   "metadata": {},
   "outputs": [],
   "source": []
  }
 ],
 "metadata": {
  "kernelspec": {
   "display_name": "Python 3",
   "language": "python",
   "name": "python3"
  }
 },
 "nbformat": 4,
 "nbformat_minor": 0
}