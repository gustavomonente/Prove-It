{
 "cells": [
  {
   "cell_type": "markdown",
   "metadata": {},
   "source": [
    "Proof of <a class=\"ProveItLink\" href=\"../../../../../../_theory_nbs_/theory.ipynb\">proveit</a>.<a class=\"ProveItLink\" href=\"../../../../../_theory_nbs_/theory.ipynb\">numbers</a>.<a class=\"ProveItLink\" href=\"../../../../_theory_nbs_/theory.ipynb\">numerals</a>.<a class=\"ProveItLink\" href=\"../../theory.ipynb\">decimals</a>.<a class=\"ProveItLink\" href=\"../../theorems.ipynb#add_2_9\">add_2_9</a> theorem\n",
    "========"
   ]
  },
  {
   "cell_type": "code",
   "execution_count": 1,
   "metadata": {},
   "outputs": [],
   "source": [
    "import proveit\n",
    "theory = proveit.Theory() # the theorem's theory"
   ]
  },
  {
   "cell_type": "code",
   "execution_count": 2,
   "metadata": {},
   "outputs": [
    {
     "data": {
      "text/html": [
       "Under these <a href=\"presumptions.txt\">presumptions</a>, we begin our proof of<br><strong id=\"add_2_9\">add_2_9:</strong> <a class=\"ProveItLink\" href=\"../../../__pv_it/theorems/7f8f6a22178a2c70575b9742b92f4dbd5b1b02190/expr.ipynb\"><img src=\"data:image/png;base64,iVBORw0KGgoAAAANSUhEUgAAAGsAAAAUBAMAAAB45d4rAAAAMFBMVEX///9UVFTMzMx2dna6uroQ\n",
       "EBCqqqqIiIgiIiJmZmYyMjJERETu7u6YmJjc3NwAAAC+aOQFAAAAAXRSTlMAQObYZgAAAVlJREFU\n",
       "OMtjYOC7wIAdsD1gwANOMzCcnL0JTfCksRwDgxw+besYeAQY7B1QxHhiGZ4eYDiFqTj1AJTgncDA\n",
       "eYCBNQAinA6hGAMYGCcwMBegaeIRlj8AIRg4HjCwNjAw/kPRxr+AgfkDA08Ahm33D0CJFwwMXH8Y\n",
       "GD+haDu/gYEdaNAS3NoqwVyOPyjaWIG2fWFgsMStbS+Y62+Aog3oQq6/DAy3wOxVYDABVVsbmNvI\n",
       "gKKNYTtD8jcGhgzctoWAeJxgs6xWrWpdtWohOKqvKwN9q09AWyUDmm3AOPiDVxvIkWwTGN6ha+MS\n",
       "YGDwQPKbAGaQKDMw1KFo441h0H8ADRLstgEDma/ZeGIDijb2NTxrgdRkDG31B6AE0CFc////R9XG\n",
       "YDwTlEgXoeuaGL/yAoTgQMke6ShJsAF3BuCdgMw7g8zBSMrIYB9OmVMEsinJBgIBzkKBF0+hAACX\n",
       "EHl6lKXPbwAAAABJRU5ErkJggg==\n",
       "\" style=\"display:inline;vertical-align:middle;\" /></a><br>(see <a class=\"ProveItLink\" href=\"../../../__pv_it/theorems/bcdc6db98c2024e027361c2a92e0682b0784427b0/dependencies.ipynb\">dependencies</a>)<br>"
      ],
      "text/plain": [
       "add_2_9: (2 + 9) = 11"
      ]
     },
     "execution_count": 2,
     "metadata": {},
     "output_type": "execute_result"
    }
   ],
   "source": [
    "%proving add_2_9"
   ]
  },
  {
   "cell_type": "code",
   "execution_count": null,
   "metadata": {},
   "outputs": [],
   "source": []
  }
 ],
 "metadata": {
  "kernelspec": {
   "display_name": "Python 3",
   "language": "python",
   "name": "python3"
  }
 },
 "nbformat": 4,
 "nbformat_minor": 0
}