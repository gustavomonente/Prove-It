{
 "cells": [
  {
   "cell_type": "markdown",
   "metadata": {},
   "source": [
    "Proof of <a class=\"ProveItLink\" href=\"../../../../../../_theory_nbs_/theory.ipynb\">proveit</a>.<a class=\"ProveItLink\" href=\"../../../../../_theory_nbs_/theory.ipynb\">numbers</a>.<a class=\"ProveItLink\" href=\"../../../../_theory_nbs_/theory.ipynb\">numerals</a>.<a class=\"ProveItLink\" href=\"../../theory.ipynb\">decimals</a>.<a class=\"ProveItLink\" href=\"../../theorems.ipynb#digit4\">digit4</a> theorem\n",
    "========"
   ]
  },
  {
   "cell_type": "code",
   "execution_count": 1,
   "metadata": {},
   "outputs": [],
   "source": [
    "import proveit\n",
    "theory = proveit.Theory() # the theorem's theory"
   ]
  },
  {
   "cell_type": "code",
   "execution_count": 2,
   "metadata": {},
   "outputs": [
    {
     "data": {
      "text/html": [
       "Under these <a href=\"presumptions.txt\">presumptions</a>, we begin our proof of<br><strong id=\"digit4\">digit4:</strong> <a class=\"ProveItLink\" href=\"../../../__pv_it/theorems/9ab3344f8e8bf648e5ee74317b17884ece325e3f0/expr.ipynb\"><img src=\"data:image/png;base64,iVBORw0KGgoAAAANSUhEUgAAAEgAAAAVBAMAAAAX07VdAAAAMFBMVEX///+6urpERESqqqru7u52\n",
       "dnYyMjKYmJjc3NwQEBCIiIhUVFQiIiJmZmbMzMwAAABIfTqqAAAAAXRSTlMAQObYZgAAAT1JREFU\n",
       "KM9jYCAEbEMJqTBiYN/AdQG/GrMFDJwCHF/wqikrYGDob2D4iE/NMqAaBv8HDJ/xqJExAJGcAnzf\n",
       "QfRbVEm3T2oODJE/BVwVQTxmBXawdafRjFDn28DA8oGBwVUZxHu17geQ5JqNpmjPg1UMDBNAMskM\n",
       "DCwMjApAZns2RI5d58wxMGOjCvcDhgNgoXQGpgVMD4CsAIgiPi0HqEk7XrOkQBQxMDswrooAqW6A\n",
       "KHKDqWHYwbzgNVQRDHgxQBTtgIvsYAhkX4CqKACqSAFJEbfDvgMMRkpAADGe+QFEEd+0NCCAKmLZ\n",
       "wDYB2SBXBogiDmSTGJ7yoSiyvnv35y0QYwKyInYDBbTAgwTmLTh/HxBHoCuaBCZ5DGB8YDgz8Cag\n",
       "qgn6vx1EsWwSgfDf/ASawpKAPWkwBkGjBQMAAAMoTW2zai4uAAAAAElFTkSuQmCC\n",
       "\" style=\"display:inline;vertical-align:middle;\" /></a><br>(see <a class=\"ProveItLink\" href=\"../../../__pv_it/theorems/336e627599cdf5db0966cf4872f683963ce3b8120/dependencies.ipynb\">dependencies</a>)<br>"
      ],
      "text/plain": [
       "digit4: 4 in Digits"
      ]
     },
     "execution_count": 2,
     "metadata": {},
     "output_type": "execute_result"
    }
   ],
   "source": [
    "%proving digit4"
   ]
  },
  {
   "cell_type": "code",
   "execution_count": null,
   "metadata": {},
   "outputs": [],
   "source": []
  }
 ],
 "metadata": {
  "kernelspec": {
   "display_name": "Python 3",
   "language": "python",
   "name": "python3"
  }
 },
 "nbformat": 4,
 "nbformat_minor": 0
}