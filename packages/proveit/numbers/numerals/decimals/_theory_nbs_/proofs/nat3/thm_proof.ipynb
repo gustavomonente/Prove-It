{
 "cells": [
  {
   "cell_type": "markdown",
   "metadata": {},
   "source": [
    "Proof of <a class=\"ProveItLink\" href=\"../../../../../../_theory_nbs_/theory.ipynb\">proveit</a>.<a class=\"ProveItLink\" href=\"../../../../../_theory_nbs_/theory.ipynb\">numbers</a>.<a class=\"ProveItLink\" href=\"../../../../_theory_nbs_/theory.ipynb\">numerals</a>.<a class=\"ProveItLink\" href=\"../../theory.ipynb\">decimals</a>.<a class=\"ProveItLink\" href=\"../../theorems.ipynb#nat3\">nat3</a> theorem\n",
    "========"
   ]
  },
  {
   "cell_type": "code",
   "execution_count": 1,
   "metadata": {},
   "outputs": [],
   "source": [
    "import proveit\n",
    "theory = proveit.Theory() # the theorem's theory"
   ]
  },
  {
   "cell_type": "code",
   "execution_count": 2,
   "metadata": {},
   "outputs": [
    {
     "data": {
      "text/html": [
       "Under these <a href=\"presumptions.txt\">presumptions</a>, we begin our proof of<br><strong id=\"nat3\">nat3:</strong> <a class=\"ProveItLink\" href=\"../../../__pv_it/theorems/f147593b5b15e3dc286e1d3c9d3aa15c2a17a5260/expr.ipynb\"><img src=\"data:image/png;base64,iVBORw0KGgoAAAANSUhEUgAAADMAAAAPBAMAAAC7N+rPAAAAMFBMVEX///9UVFTMzMzu7u4yMjIQ\n",
       "EBC6uroiIiKIiIiYmJhmZmaqqqpERER2dnbc3NwAAACDMjhQAAAAAXRSTlMAQObYZgAAAOBJREFU\n",
       "GNNjYHh79zQDCjD5c8SA4erXBAa+BQz7J6DKnWQSYGD+wMDA8ZuBvwBVSlyhg4EhgIGBLYyB3wEs\n",
       "wnm8vATMEDvMqMAAUQ4xkOmEAVSXnCKzM0SKuRZiO0yGQY67QREsxXd9MUQAbpccwzXOBoiBrQkg\n",
       "8gCSFKOBEESKNRhkVYgLEEClmAVYgC7ke8DA8xtkLrIuBl0moBT/Z4gUyCMIKc4NQJWsBxjYP4ME\n",
       "VsClhID4HlCKcwLUX+wbYFLeQMwFCoasVcfAAswyyRAZ9a9AHcwOyEHHdgcaUFAAAH26M5vnYGic\n",
       "AAAAAElFTkSuQmCC\n",
       "\" style=\"display:inline;vertical-align:middle;\" /></a><br>(see <a class=\"ProveItLink\" href=\"../../../__pv_it/theorems/af2e18ec3aecc3fd650bbe1546e3277c536f10dd0/dependencies.ipynb\">dependencies</a>)<br>"
      ],
      "text/plain": [
       "nat3: 3 in Natural"
      ]
     },
     "execution_count": 2,
     "metadata": {},
     "output_type": "execute_result"
    }
   ],
   "source": [
    "%proving nat3"
   ]
  },
  {
   "cell_type": "code",
   "execution_count": null,
   "metadata": {},
   "outputs": [],
   "source": []
  }
 ],
 "metadata": {
  "kernelspec": {
   "display_name": "Python 3",
   "language": "python",
   "name": "python3"
  }
 },
 "nbformat": 4,
 "nbformat_minor": 0
}