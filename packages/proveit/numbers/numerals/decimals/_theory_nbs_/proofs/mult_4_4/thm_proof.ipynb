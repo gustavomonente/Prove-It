{
 "cells": [
  {
   "cell_type": "markdown",
   "metadata": {},
   "source": [
    "Proof of <a class=\"ProveItLink\" href=\"../../../../../../_theory_nbs_/theory.ipynb\">proveit</a>.<a class=\"ProveItLink\" href=\"../../../../../_theory_nbs_/theory.ipynb\">numbers</a>.<a class=\"ProveItLink\" href=\"../../../../_theory_nbs_/theory.ipynb\">numerals</a>.<a class=\"ProveItLink\" href=\"../../theory.ipynb\">decimals</a>.<a class=\"ProveItLink\" href=\"../../theorems.ipynb#mult_4_4\">mult_4_4</a> theorem\n",
    "========"
   ]
  },
  {
   "cell_type": "code",
   "execution_count": 1,
   "metadata": {},
   "outputs": [],
   "source": [
    "import proveit\n",
    "theory = proveit.Theory() # the theorem's theory"
   ]
  },
  {
   "cell_type": "code",
   "execution_count": 2,
   "metadata": {},
   "outputs": [
    {
     "data": {
      "text/html": [
       "Under these <a href=\"presumptions.txt\">presumptions</a>, we begin our proof of<br><strong id=\"mult_4_4\">mult_4_4:</strong> <a class=\"ProveItLink\" href=\"../../../__pv_it/theorems/460917c1531a26b476732e6f54044ae4f83a38f80/expr.ipynb\"><img src=\"data:image/png;base64,iVBORw0KGgoAAAANSUhEUgAAAGEAAAAUBAMAAABvx07iAAAAMFBMVEX///9UVFTMzMx2dna6uroQ\n",
       "EBCqqqqIiIgiIiJmZmYyMjJERETu7u6YmJjc3NwAAAC+aOQFAAAAAXRSTlMAQObYZgAAAWdJREFU\n",
       "KM9jYOC7wIAB8hjwgdMgQhNJgGkCA+MD7GqZy42A5DoQsxFJmEOAgWcBhmK2GAYGniUMsxgYeCcA\n",
       "ueyBSHKlAgwM5ugaDhr+YWDgnsCwG2giyAFvFyLk+G4BdRzFsIMXqMMf7NgXIMIASQczF1AHlwM2\n",
       "HVvBrEoQ7wGSjnsgHcwTsOn4pVwJNGkvkHecAaGDpwCkgxfsdatVILASpoPn1wWGNgYQYjCA6OAB\n",
       "O4oBpIOtAYsdPP8ZGKYeYAgBSitAdJwHGZwE1sH0AZurfjAw3HcA6TjMANEBjAgGHgM8OrqAOsAO\n",
       "S5w58+t0WERJzpwfWcDA0oDwx0K4DlGwHXvBfOQYZIX7HN0O/QMMUxkYLMH8aGQdGxgYOA3QdbAD\n",
       "dTAa8IQxMHiAuNb/ZRExuP/jBQYuBTQNnKK/5gKNN1SAphIMcAJPYuedgE3UHF/+2IdFDEtqR89R\n",
       "aID7AT4d2HLtPTzqAc9kXaQmPfzAAAAAAElFTkSuQmCC\n",
       "\" style=\"display:inline;vertical-align:middle;\" /></a><br>(see <a class=\"ProveItLink\" href=\"../../../__pv_it/theorems/2f807a3a4902a3070d0daa416ee015f4736544580/dependencies.ipynb\">dependencies</a>)<br>"
      ],
      "text/plain": [
       "mult_4_4: (4 * 4) = 16"
      ]
     },
     "execution_count": 2,
     "metadata": {},
     "output_type": "execute_result"
    }
   ],
   "source": [
    "%proving mult_4_4"
   ]
  },
  {
   "cell_type": "code",
   "execution_count": null,
   "metadata": {},
   "outputs": [],
   "source": []
  }
 ],
 "metadata": {
  "kernelspec": {
   "display_name": "Python 3",
   "language": "python",
   "name": "python3"
  }
 },
 "nbformat": 4,
 "nbformat_minor": 0
}