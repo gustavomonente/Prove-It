{
 "cells": [
  {
   "cell_type": "markdown",
   "metadata": {},
   "source": [
    "Proof of <a class=\"ProveItLink\" href=\"../../../../../../_theory_nbs_/theory.ipynb\">proveit</a>.<a class=\"ProveItLink\" href=\"../../../../../_theory_nbs_/theory.ipynb\">numbers</a>.<a class=\"ProveItLink\" href=\"../../../../_theory_nbs_/theory.ipynb\">numerals</a>.<a class=\"ProveItLink\" href=\"../../theory.ipynb\">decimals</a>.<a class=\"ProveItLink\" href=\"../../theorems.ipynb#nat6\">nat6</a> theorem\n",
    "========"
   ]
  },
  {
   "cell_type": "code",
   "execution_count": 1,
   "metadata": {},
   "outputs": [],
   "source": [
    "import proveit\n",
    "theory = proveit.Theory() # the theorem's theory"
   ]
  },
  {
   "cell_type": "code",
   "execution_count": 2,
   "metadata": {},
   "outputs": [
    {
     "data": {
      "text/html": [
       "Under these <a href=\"presumptions.txt\">presumptions</a>, we begin our proof of<br><strong id=\"nat6\">nat6:</strong> <a class=\"ProveItLink\" href=\"../../../__pv_it/theorems/4323db976a959c20b5188d9d94bfeb0b6772fcac0/expr.ipynb\"><img src=\"data:image/png;base64,iVBORw0KGgoAAAANSUhEUgAAADMAAAAPBAMAAAC7N+rPAAAAMFBMVEX///9UVFSqqqoiIiKYmJgQ\n",
       "EBDc3NxERERmZma6uroyMjLu7u7MzMyIiIh2dnYAAACR0mqaAAAAAXRSTlMAQObYZgAAAOdJREFU\n",
       "GNNjYGB4e+8AAzLY9b1qA8PTrxOArAkcC1CkGEp4BBi4PwAZFQzsBahSwgfuMjAEMDBwfoOJsBQb\n",
       "W4EZktWMBxgMGBjYA6AyPLUboCyxg9yrQVL8a952QmyHyTCIMV04CJLav4SBWQEsALdLjOElywWQ\n",
       "1AcGjmiQQAGSFOMGGZCBBgwsP0FWRa0CAqgUtwAX0AnMCxhYvgD5bMi6GM7xAKUYAyC6GAKQpVgU\n",
       "gCp5fjNwgEV74VIyQPwMZIgcw1awCyHuBIFFQAwOPL4+GbAAt/hsiMzhr0Ad3CjhyvkcGlBQAAAO\n",
       "3TdriFARwwAAAABJRU5ErkJggg==\n",
       "\" style=\"display:inline;vertical-align:middle;\" /></a><br>(see <a class=\"ProveItLink\" href=\"../../../__pv_it/theorems/11cbf5ca9f31151f0666d64322ae4dd0700646d50/dependencies.ipynb\">dependencies</a>)<br>"
      ],
      "text/plain": [
       "nat6: 6 in Natural"
      ]
     },
     "execution_count": 2,
     "metadata": {},
     "output_type": "execute_result"
    }
   ],
   "source": [
    "%proving nat6"
   ]
  },
  {
   "cell_type": "code",
   "execution_count": null,
   "metadata": {},
   "outputs": [],
   "source": []
  }
 ],
 "metadata": {
  "kernelspec": {
   "display_name": "Python 3",
   "language": "python",
   "name": "python3"
  }
 },
 "nbformat": 4,
 "nbformat_minor": 0
}