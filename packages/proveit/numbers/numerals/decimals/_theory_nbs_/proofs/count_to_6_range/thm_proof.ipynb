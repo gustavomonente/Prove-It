{
 "cells": [
  {
   "cell_type": "markdown",
   "metadata": {},
   "source": [
    "Proof of <a class=\"ProveItLink\" href=\"../../../../../../_theory_nbs_/theory.ipynb\">proveit</a>.<a class=\"ProveItLink\" href=\"../../../../../_theory_nbs_/theory.ipynb\">numbers</a>.<a class=\"ProveItLink\" href=\"../../../../_theory_nbs_/theory.ipynb\">numerals</a>.<a class=\"ProveItLink\" href=\"../../theory.ipynb\">decimals</a>.<a class=\"ProveItLink\" href=\"../../theorems.ipynb#count_to_6_range\">count_to_6_range</a> theorem\n",
    "========"
   ]
  },
  {
   "cell_type": "code",
   "execution_count": 1,
   "metadata": {},
   "outputs": [],
   "source": [
    "import proveit\n",
    "theory = proveit.Theory() # the theorem's theory"
   ]
  },
  {
   "cell_type": "code",
   "execution_count": 2,
   "metadata": {},
   "outputs": [
    {
     "data": {
      "text/html": [
       "Under these <a href=\"presumptions.txt\">presumptions</a>, we begin our proof of<br><strong id=\"count_to_6_range\">count_to_6_range:</strong> <a class=\"ProveItLink\" href=\"../../../__pv_it/theorems/7dc2ac38ea4ff4d041da721dfcf8673c001725b80/expr.ipynb\"><img src=\"data:image/png;base64,iVBORw0KGgoAAAANSUhEUgAAAOcAAAAUBAMAAACE3DekAAAAMFBMVEX////MzMxUVFR2dna6uroQ\n",
       "EBCqqqqIiIgiIiJmZmYyMjJERETu7u6YmJjc3NwAAACgK8IjAAAAAXRSTlMAQObYZgAAAtZJREFU\n",
       "SMedVs1rE0EU/+XTfGzaQP+ARoqHetDYHkrxYC6Ct+YQBT/QehA8iAREJBe7KBQVwaWxQu2hKfSi\n",
       "oNSDoEjbvRRre2jOxX6AF3uRKh4kpK6zb2Y2u5M1CXmQmV9eXn6/nTdv3izQU0VXFt1r9nXCddse\n",
       "NtyeL7PvxN+HT49LZ8Dgc+Jr4IVwjdxJ40Qz4UYbwdC9UwjaD/uWfW6Y3KllcCZHaB/RQxkay/A5\n",
       "YllZjtZz8QrWm0ndXD6mLeAltAqQMqANnBSBcRORPKGJcfyRsXeFaGLovvB8RHIRoaJK6uHysaSB\n",
       "TyxLbBn2andFYERH8C+hsznU5EZtCdGg/HOYYrS8Surh8rExKoNV4DtcgYk6gj9locj0hhKqaJLL\n",
       "LaikHi4fe89FcigpgbG6AGti/7DjiG6X0gR650ees2lUJS21Ea31lVjFhAwsKYFjQuvbY1lcRSma\n",
       "NHt+E9h8gxir7S3Kw2syKvCl1qJarYpJtvMVe/QEPpDgSEFkF1KU2QcueoD4FeCmyjrZRtQCpk1E\n",
       "dRS8gXHDiTnPndfdonNUCr06UmzN/SproU162XnYzSFwoAaWxPwDWKHuoGUd0eMQpzhWQeqwC9En\n",
       "7NeqLepNSdSw5ZhZphCNDs7MXeQn8hJbKQUG87TSc649zXSQXhyjlYZ1ZfP7AN4ALgPPpDMiVmrQ\n",
       "s9p9sY54XhSS29oUEvpNTFMhUd1PmKy07D7wcHhKJ7Rtn9PNChdd5GgfqascDWCVpaGsknq4aLCj\n",
       "G9+CWe0CK5ss5Wjq2qsqHrEnTFiWpRMKz8zmEHtKCVz5VSXUUx40uS9UPsrGeVXUw0XngNo2HQhy\n",
       "jQ6xg55I89ZFm+ekpYFuoQXSdN826GVAM+kaNWl5HtGEsq2Qb8NXGXxIWcPHssCfHa+DtGIr5HO1\n",
       "NXP5kFZcF2/j0ndQCq3Q8v8vcZ8XCMeV3OvwFcPPUl2+ruwA/wDzyOv9lTdKeQAAAABJRU5ErkJg\n",
       "gg==\n",
       "\" style=\"display:inline;vertical-align:middle;\" /></a><br>(see <a class=\"ProveItLink\" href=\"../../../__pv_it/theorems/0ecbe69fa9a5cc02dceaec185562dab3780926d00/dependencies.ipynb\">dependencies</a>)<br>"
      ],
      "text/plain": [
       "count_to_6_range: (1, 2, 3, 4, 5, 6) = (1, ..k.., 6)"
      ]
     },
     "execution_count": 2,
     "metadata": {},
     "output_type": "execute_result"
    }
   ],
   "source": [
    "%proving count_to_6_range"
   ]
  },
  {
   "cell_type": "code",
   "execution_count": null,
   "metadata": {},
   "outputs": [],
   "source": []
  }
 ],
 "metadata": {
  "kernelspec": {
   "display_name": "Python 3",
   "language": "python",
   "name": "python3"
  }
 },
 "nbformat": 4,
 "nbformat_minor": 0
}