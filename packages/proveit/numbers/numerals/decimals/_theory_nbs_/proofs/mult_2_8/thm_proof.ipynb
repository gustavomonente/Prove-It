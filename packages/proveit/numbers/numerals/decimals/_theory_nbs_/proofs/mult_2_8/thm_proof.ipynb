{
 "cells": [
  {
   "cell_type": "markdown",
   "metadata": {},
   "source": [
    "Proof of <a class=\"ProveItLink\" href=\"../../../../../../_theory_nbs_/theory.ipynb\">proveit</a>.<a class=\"ProveItLink\" href=\"../../../../../_theory_nbs_/theory.ipynb\">numbers</a>.<a class=\"ProveItLink\" href=\"../../../../_theory_nbs_/theory.ipynb\">numerals</a>.<a class=\"ProveItLink\" href=\"../../theory.ipynb\">decimals</a>.<a class=\"ProveItLink\" href=\"../../theorems.ipynb#mult_2_8\">mult_2_8</a> theorem\n",
    "========"
   ]
  },
  {
   "cell_type": "code",
   "execution_count": 1,
   "metadata": {},
   "outputs": [],
   "source": [
    "import proveit\n",
    "theory = proveit.Theory() # the theorem's theory"
   ]
  },
  {
   "cell_type": "code",
   "execution_count": 2,
   "metadata": {},
   "outputs": [
    {
     "data": {
      "text/html": [
       "Under these <a href=\"presumptions.txt\">presumptions</a>, we begin our proof of<br><strong id=\"mult_2_8\">mult_2_8:</strong> <a class=\"ProveItLink\" href=\"../../../__pv_it/theorems/169939f72f62f134843b802270d70a922bf083ba0/expr.ipynb\"><img src=\"data:image/png;base64,iVBORw0KGgoAAAANSUhEUgAAAGEAAAAUBAMAAABvx07iAAAAMFBMVEX///9UVFTMzMx2dna6uroQ\n",
       "EBCqqqqIiIgiIiJmZmYyMjJERETu7u6YmJjc3NwAAAC+aOQFAAAAAXRSTlMAQObYZgAAAYdJREFU\n",
       "KM99U79Lw1AQ/lLt76R0qeBW6B/QVodSRZpRXOpQnET6D+haukhEcHAxgl0UQcFFBwfByR/EQag6\n",
       "WHFw04xOIoIgIRgvr30Rk2eOcLzc3Xd33717QKaHgCwhTO6Am50T71duVVVIpjh2qDVG+hhyFjWV\n",
       "G5PACOS9QHBsnrIdYBtQdCQNRGe5ZxG4BSp+wFXZBtI6zoCEiagG6Zu7JoEucB2ooRCizpp9BVI2\n",
       "pA/uqZ9jikyqCHHKTm2mEzb3SM5jkyjqIoRVaFOmi37mkueqWQb5GfWJI1cOOUK2eliD+5GssMGy\n",
       "mWxtNEhrghqyA3QMNNhIWRP3buIHxD8NRN5FXX0BL2ofMSCTJUVjLzb/QawTgjWGmI43fuUUKvUw\n",
       "rP3y2PcQOVbDZV4AlnmuBbooc8DcX6NooANUgczq+KbHdMbAExEr+RFxQkgleQ6YputyHMdDREZp\n",
       "E5HK+wDJnLVL6ct5tiUC6YYsu6KLrJWw93EpsAm2/e+LCkjaDEOIXu1zSPwPw/FqLXxicEgAAAAA\n",
       "SUVORK5CYII=\n",
       "\" style=\"display:inline;vertical-align:middle;\" /></a><br>(see <a class=\"ProveItLink\" href=\"../../../__pv_it/theorems/a8d15385ffc346b9ec8e862dc2001e5e4baf46df0/dependencies.ipynb\">dependencies</a>)<br>"
      ],
      "text/plain": [
       "mult_2_8: (2 * 8) = 16"
      ]
     },
     "execution_count": 2,
     "metadata": {},
     "output_type": "execute_result"
    }
   ],
   "source": [
    "%proving mult_2_8"
   ]
  },
  {
   "cell_type": "code",
   "execution_count": null,
   "metadata": {},
   "outputs": [],
   "source": []
  }
 ],
 "metadata": {
  "kernelspec": {
   "display_name": "Python 3",
   "language": "python",
   "name": "python3"
  }
 },
 "nbformat": 4,
 "nbformat_minor": 0
}