{
 "cells": [
  {
   "cell_type": "markdown",
   "metadata": {},
   "source": [
    "Proof of <a class=\"ProveItLink\" href=\"../../../../../../_theory_nbs_/theory.ipynb\">proveit</a>.<a class=\"ProveItLink\" href=\"../../../../../_theory_nbs_/theory.ipynb\">numbers</a>.<a class=\"ProveItLink\" href=\"../../../../_theory_nbs_/theory.ipynb\">numerals</a>.<a class=\"ProveItLink\" href=\"../../theory.ipynb\">decimals</a>.<a class=\"ProveItLink\" href=\"../../theorems.ipynb#mult_7_9\">mult_7_9</a> theorem\n",
    "========"
   ]
  },
  {
   "cell_type": "code",
   "execution_count": 1,
   "metadata": {},
   "outputs": [],
   "source": [
    "import proveit\n",
    "theory = proveit.Theory() # the theorem's theory"
   ]
  },
  {
   "cell_type": "code",
   "execution_count": 2,
   "metadata": {},
   "outputs": [
    {
     "data": {
      "text/html": [
       "Under these <a href=\"presumptions.txt\">presumptions</a>, we begin our proof of<br><strong id=\"mult_7_9\">mult_7_9:</strong> <a class=\"ProveItLink\" href=\"../../../__pv_it/theorems/206117377bf8245737e7673082d8d6b90dfb08300/expr.ipynb\"><img src=\"data:image/png;base64,iVBORw0KGgoAAAANSUhEUgAAAGEAAAAUBAMAAABvx07iAAAAMFBMVEX///9UVFTMzMx2dna6uroQ\n",
       "EBCqqqqIiIgiIiJmZmYyMjJERETu7u6YmJjc3NwAAAC+aOQFAAAAAXRSTlMAQObYZgAAAZ9JREFU\n",
       "KM99Uz1PAkEQfXwE+bi72FhYeYk/QJCCoAXXGO1skEIt+AMaY2OgARsTtZAELdRGEhst1MbKqNuY\n",
       "EC24xlK5xEYbI7FRjJ67C8fBHrkp7nbnzduZeTsLKDoctgw3e4B3vRyPW1upHDPgMRxhvrVxKPHJ\n",
       "LF2eQTZNs2Ehd7qyCOlIJEjHOMAbAr+AXEKInjhoQUPAMJAQGZESrlDI4gsIGvDRnKoFNYEUzSQy\n",
       "ZlmdUxqDX7ljupP9BygYCGsC47L1Y1Xl+OqiA83THBp8JYHRHM2xQ6pR4JoLYStMSzrXIfPWJ06Z\n",
       "nbDUTR0bwMsmAfsDtVZFvMWVQCqLQFGQygT2aPRAGkgzR567a/zgpdWUCu+HUBXVqM7KmiMtxjb3\n",
       "BtsSjxAnY4sy9HfgNtuqqtGDVgB/0e6j0r6mumYSxmCde7/t8Efi/UO78y4bI9jDArBDkGQqf9pQ\n",
       "ntxT4UJRgeGJShk88fuYoVsl0zVxyV36DavipSdjKvz7hxqfkj5WdRl2udTPm3B7Hzd9fM5p731R\n",
       "TosYbox+r/bZJf4f5/lt8V84ziAAAAAASUVORK5CYII=\n",
       "\" style=\"display:inline;vertical-align:middle;\" /></a><br>(see <a class=\"ProveItLink\" href=\"../../../__pv_it/theorems/bc5828d9e103f1807512f42aa05fb3428955d59c0/dependencies.ipynb\">dependencies</a>)<br>"
      ],
      "text/plain": [
       "mult_7_9: (7 * 9) = 63"
      ]
     },
     "execution_count": 2,
     "metadata": {},
     "output_type": "execute_result"
    }
   ],
   "source": [
    "%proving mult_7_9"
   ]
  },
  {
   "cell_type": "code",
   "execution_count": null,
   "metadata": {},
   "outputs": [],
   "source": []
  }
 ],
 "metadata": {
  "kernelspec": {
   "display_name": "Python 3",
   "language": "python",
   "name": "python3"
  }
 },
 "nbformat": 4,
 "nbformat_minor": 0
}