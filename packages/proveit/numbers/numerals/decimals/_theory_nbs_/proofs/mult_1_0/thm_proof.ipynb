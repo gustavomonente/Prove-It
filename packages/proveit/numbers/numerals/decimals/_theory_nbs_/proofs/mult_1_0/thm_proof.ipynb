{
 "cells": [
  {
   "cell_type": "markdown",
   "metadata": {},
   "source": [
    "Proof of <a class=\"ProveItLink\" href=\"../../../../../../_theory_nbs_/theory.ipynb\">proveit</a>.<a class=\"ProveItLink\" href=\"../../../../../_theory_nbs_/theory.ipynb\">numbers</a>.<a class=\"ProveItLink\" href=\"../../../../_theory_nbs_/theory.ipynb\">numerals</a>.<a class=\"ProveItLink\" href=\"../../theory.ipynb\">decimals</a>.<a class=\"ProveItLink\" href=\"../../theorems.ipynb#mult_1_0\">mult_1_0</a> theorem\n",
    "========"
   ]
  },
  {
   "cell_type": "code",
   "execution_count": 1,
   "metadata": {},
   "outputs": [],
   "source": [
    "import proveit\n",
    "theory = proveit.Theory() # the theorem's theory"
   ]
  },
  {
   "cell_type": "code",
   "execution_count": 2,
   "metadata": {},
   "outputs": [
    {
     "data": {
      "text/html": [
       "Under these <a href=\"presumptions.txt\">presumptions</a>, we begin our proof of<br><strong id=\"mult_1_0\">mult_1_0:</strong> <a class=\"ProveItLink\" href=\"../../../__pv_it/theorems/78ef0406957c09210160ef3f1042835436a77d210/expr.ipynb\"><img src=\"data:image/png;base64,iVBORw0KGgoAAAANSUhEUgAAAFcAAAAUBAMAAAAKKrydAAAAMFBMVEX////MzMxUVFR2dna6uroQ\n",
       "EBCqqqqIiIgiIiJmZmYyMjJERETu7u6YmJjc3NwAAACgK8IjAAAAAXRSTlMAQObYZgAAARhJREFU\n",
       "KM9jYOC7wIAB8hhwgNNofPPLAgxMDzCUgYQZGNYBceoBuCBXAk8fA88CdLVgYQbeCQw8yvoIxVcZ\n",
       "GKyA5qArhghzgGy8j1C8iYEh/wDDUXTFEOEXDKiKPzEw+CcwcDmgKYYIV6Iq5vkJFC1gYJ6AqhYq\n",
       "vBdVMd9nBgb5AgZesA+tVoHASoRwG0IxD0gUaIS8AQNbA6rJUOEQhOLzC+D2MX7A6gwkxRwKEJ/k\n",
       "J2Aohgq3oYXGbjCPpQHh5kUIYTQPQkOfdwHWSLEEMesRijkSeAIZGDgN0BRDhD2ArEnxK+FJj8e8\n",
       "CJhiuATQFEOEOR5gS4onsKdQ3gnYRM1xpOd9WMQwkyiOxA8C3A9wKMaWre5hVwoAMnFe5piF+GEA\n",
       "AAAASUVORK5CYII=\n",
       "\" style=\"display:inline;vertical-align:middle;\" /></a><br>(see <a class=\"ProveItLink\" href=\"../../../__pv_it/theorems/b864cb3122719256a033d36ba71ea473b5cef4890/dependencies.ipynb\">dependencies</a>)<br>"
      ],
      "text/plain": [
       "mult_1_0: (1 * 0) = 0"
      ]
     },
     "execution_count": 2,
     "metadata": {},
     "output_type": "execute_result"
    }
   ],
   "source": [
    "%proving mult_1_0"
   ]
  },
  {
   "cell_type": "code",
   "execution_count": null,
   "metadata": {},
   "outputs": [],
   "source": []
  }
 ],
 "metadata": {
  "kernelspec": {
   "display_name": "Python 3",
   "language": "python",
   "name": "python3"
  }
 },
 "nbformat": 4,
 "nbformat_minor": 0
}