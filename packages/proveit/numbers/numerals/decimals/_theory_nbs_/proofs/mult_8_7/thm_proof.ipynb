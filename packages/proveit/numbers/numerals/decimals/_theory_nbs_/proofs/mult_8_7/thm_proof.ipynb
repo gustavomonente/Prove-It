{
 "cells": [
  {
   "cell_type": "markdown",
   "metadata": {},
   "source": [
    "Proof of <a class=\"ProveItLink\" href=\"../../../../../../_theory_nbs_/theory.ipynb\">proveit</a>.<a class=\"ProveItLink\" href=\"../../../../../_theory_nbs_/theory.ipynb\">numbers</a>.<a class=\"ProveItLink\" href=\"../../../../_theory_nbs_/theory.ipynb\">numerals</a>.<a class=\"ProveItLink\" href=\"../../theory.ipynb\">decimals</a>.<a class=\"ProveItLink\" href=\"../../theorems.ipynb#mult_8_7\">mult_8_7</a> theorem\n",
    "========"
   ]
  },
  {
   "cell_type": "code",
   "execution_count": 1,
   "metadata": {},
   "outputs": [],
   "source": [
    "import proveit\n",
    "theory = proveit.Theory() # the theorem's theory"
   ]
  },
  {
   "cell_type": "code",
   "execution_count": 2,
   "metadata": {},
   "outputs": [
    {
     "data": {
      "text/html": [
       "Under these <a href=\"presumptions.txt\">presumptions</a>, we begin our proof of<br><strong id=\"mult_8_7\">mult_8_7:</strong> <a class=\"ProveItLink\" href=\"../../../__pv_it/theorems/2d800ab1ed531527fe4d19b9b7f96121331b40960/expr.ipynb\"><img src=\"data:image/png;base64,iVBORw0KGgoAAAANSUhEUgAAAGEAAAAUBAMAAABvx07iAAAAMFBMVEX////MzMxUVFR2dna6uroQ\n",
       "EBCqqqqIiIgiIiJmZmYyMjJERETu7u6YmJjc3NwAAACgK8IjAAAAAXRSTlMAQObYZgAAAZ1JREFU\n",
       "KM99U79Lw0AU/pq0tbaXWnRxaxeHCmJswaIgduzmIg4i4uqiBQfpop0cOgVqHRxUxEUp0kUQxJJF\n",
       "FBzaP8AfWQTdOqhIReK7g6YhCXncHXfvu+979+7eAfE2XLYBP3sE7rf2reVoOptVJcO5K/oUOADk\n",
       "7SmaXwIapLUe9GqaZoqdOBkh01TBznAIKBrCbfS3HAESkHPFyOwAMQ03QMSA3AAr9yAVoMh3TobE\n",
       "hwVx2Hcg+KvLtvSDRZLMezGuxLREffJv2gbGqMuak/FcSqA7UiKlW46bdRs4R10Rec1ecDsXMnr8\n",
       "k3Xb2ANvWC988VMwQWAdGsJl9zNcMxOo6VgkwRR2V8jVEsIDfAx03Ixj44cuP88ZIR2Bb3JFUhyI\n",
       "NLwY48B8vkIMcbAWeSYsbIjzguV+Hqd8ukwx9DERgzIP0TU3LUZSszK3GTkrSOqoATMkWIdStLBN\n",
       "ekMMqg7GB5RVSCpbAgq0HK72KxFvvMSiCQcjXk3rJJ9JiCrxsAefYlc0L2/O7380PXzuanf8KJfF\n",
       "DD+G16998dn/D6itZzzNIcoeAAAAAElFTkSuQmCC\n",
       "\" style=\"display:inline;vertical-align:middle;\" /></a><br>(see <a class=\"ProveItLink\" href=\"../../../__pv_it/theorems/f02b3a69781f14d4580d9c8794d8ba3a9c4aedc20/dependencies.ipynb\">dependencies</a>)<br>"
      ],
      "text/plain": [
       "mult_8_7: (8 * 7) = 56"
      ]
     },
     "execution_count": 2,
     "metadata": {},
     "output_type": "execute_result"
    }
   ],
   "source": [
    "%proving mult_8_7"
   ]
  },
  {
   "cell_type": "code",
   "execution_count": null,
   "metadata": {},
   "outputs": [],
   "source": []
  }
 ],
 "metadata": {
  "kernelspec": {
   "display_name": "Python 3",
   "language": "python",
   "name": "python3"
  }
 },
 "nbformat": 4,
 "nbformat_minor": 0
}