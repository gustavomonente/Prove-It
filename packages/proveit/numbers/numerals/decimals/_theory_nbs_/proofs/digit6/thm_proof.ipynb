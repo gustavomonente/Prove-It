{
 "cells": [
  {
   "cell_type": "markdown",
   "metadata": {},
   "source": [
    "Proof of <a class=\"ProveItLink\" href=\"../../../../../../_theory_nbs_/theory.ipynb\">proveit</a>.<a class=\"ProveItLink\" href=\"../../../../../_theory_nbs_/theory.ipynb\">numbers</a>.<a class=\"ProveItLink\" href=\"../../../../_theory_nbs_/theory.ipynb\">numerals</a>.<a class=\"ProveItLink\" href=\"../../theory.ipynb\">decimals</a>.<a class=\"ProveItLink\" href=\"../../theorems.ipynb#digit6\">digit6</a> theorem\n",
    "========"
   ]
  },
  {
   "cell_type": "code",
   "execution_count": 1,
   "metadata": {},
   "outputs": [],
   "source": [
    "import proveit\n",
    "theory = proveit.Theory() # the theorem's theory"
   ]
  },
  {
   "cell_type": "code",
   "execution_count": 2,
   "metadata": {},
   "outputs": [
    {
     "data": {
      "text/html": [
       "Under these <a href=\"presumptions.txt\">presumptions</a>, we begin our proof of<br><strong id=\"digit6\">digit6:</strong> <a class=\"ProveItLink\" href=\"../../../__pv_it/theorems/0d3e7ecab057e87133aa707d112e101206b6ab630/expr.ipynb\"><img src=\"data:image/png;base64,iVBORw0KGgoAAAANSUhEUgAAAEgAAAAVBAMAAAAX07VdAAAAMFBMVEX///9UVFSqqqoiIiKYmJgQ\n",
       "EBDc3NxERERmZma6uroyMjLu7u7MzMyIiIh2dnYAAACR0mqaAAAAAXRSTlMAQObYZgAAAVNJREFU\n",
       "KM9jYCAENN4RUqHOwCLA24BfjdYFBtYJbL/xqvFyYGDIT2D4iU/NLaAahv0HGD7hUTNZAUSyTuD5\n",
       "AqTe3juAIrnre9UGhqdfJ+yrBPGYCliA1u2awLEA1YgSHgEG7g8MDPuKQLyzd74xMFQwsBegKhI+\n",
       "cJeBIQDI4F3EwMDNwFnAwPkNJsdSbGwFZkhWMx5gMAALLWFgv8B+gIE9AKqGp3YDlCV2kHs1RBED\n",
       "0wbOu88YGPjXvO2EuBemhkGM6cJBqCIo2L+EgRnsVzG4kBjDS5YLqIo+MHBEgxgFSIoYN8gYMKiX\n",
       "AwHEeH4DBlBAMPBErQICqCJuAa4AZJOYFzCwgIKUDdkkhnM8KIoYAyAmMQQgK2JRQAk7nt8MHGD5\n",
       "XriQDBA/Qw1gOYatYN9B/AgCwHBmQIsqvj4ZMM0tPhsicPgr0BTuBdiTBudzaLRgAAAdClMdEP8c\n",
       "TQAAAABJRU5ErkJggg==\n",
       "\" style=\"display:inline;vertical-align:middle;\" /></a><br>(see <a class=\"ProveItLink\" href=\"../../../__pv_it/theorems/91b39d3d556e3973ff78e0c89e17f299e8c2c7760/dependencies.ipynb\">dependencies</a>)<br>"
      ],
      "text/plain": [
       "digit6: 6 in Digits"
      ]
     },
     "execution_count": 2,
     "metadata": {},
     "output_type": "execute_result"
    }
   ],
   "source": [
    "%proving digit6"
   ]
  },
  {
   "cell_type": "code",
   "execution_count": null,
   "metadata": {},
   "outputs": [],
   "source": []
  }
 ],
 "metadata": {
  "kernelspec": {
   "display_name": "Python 3",
   "language": "python",
   "name": "python3"
  }
 },
 "nbformat": 4,
 "nbformat_minor": 0
}