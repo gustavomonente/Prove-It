{
 "cells": [
  {
   "cell_type": "markdown",
   "metadata": {},
   "source": [
    "Proof of <a class=\"ProveItLink\" href=\"../../../../../../_theory_nbs_/theory.ipynb\">proveit</a>.<a class=\"ProveItLink\" href=\"../../../../../_theory_nbs_/theory.ipynb\">numbers</a>.<a class=\"ProveItLink\" href=\"../../../../_theory_nbs_/theory.ipynb\">numerals</a>.<a class=\"ProveItLink\" href=\"../../theory.ipynb\">decimals</a>.<a class=\"ProveItLink\" href=\"../../theorems.ipynb#reduce_5_repeats\">reduce_5_repeats</a> theorem\n",
    "========"
   ]
  },
  {
   "cell_type": "code",
   "execution_count": 1,
   "metadata": {},
   "outputs": [],
   "source": [
    "import proveit\n",
    "theory = proveit.Theory() # the theorem's theory"
   ]
  },
  {
   "cell_type": "code",
   "execution_count": 2,
   "metadata": {},
   "outputs": [
    {
     "data": {
      "text/html": [
       "Under these <a href=\"presumptions.txt\">presumptions</a>, we begin our proof of<br><strong id=\"reduce_5_repeats\">reduce_5_repeats:</strong> <a class=\"ProveItLink\" href=\"../../../__pv_it/theorems/054946740031112aa2c63d87d69333eafc1b7d8c0/expr.ipynb\"><img src=\"data:image/png;base64,iVBORw0KGgoAAAANSUhEUgAAAV8AAAAUBAMAAADYcyOpAAAAMFBMVEX///8QEBCIiIhmZma6urrM\n",
       "zMxUVFQiIiJERETc3Nzu7u6qqqp2dnaYmJgyMjIAAAAcRTyBAAAAAXRSTlMAQObYZgAAA6ZJREFU\n",
       "SMetl09IFFEcx3/uzji7szMrdYoQWgw8mNkieFGkrajoUmLQ1cX+gAdDEgxFSrqkXRwwqks4ejAQ\n",
       "yY0OkRAuWwhtZJNGYSSNCB4iSzTBVcnemzej782+WU18zFdnf7O/z3xn3u/9WYDs9tjWXrWXHvf4\n",
       "fwqWiT9M01fkDiJ3m9cvJnZlOF/LCvH4O6BgvcMfftBXwhqRux3aWM+NjHnEZTMrxONv0zAF6xE6\n",
       "DzLPO2nL3X7W576LHPW6ksqKTO6io1JEYR1AYbq61Za7xbcBqp6G+7Iirbsw3EekpgcHH9LxYBPR\n",
       "fxse9TQcdhcLl79dwxSslc7OdjruixLJRQ0nmb5snKjA/4SZI+NasHpMO184OWYA9HxrgFBRCtTj\n",
       "zVVQ+6qMqRLCUNyP4uL3F98vjdAJ3CCmYF0F6KJhAYNoCL5EbtEX7kGv9abyqoaNs7pwEPbF5GYQ\n",
       "2uCE/kLzx0GK4sEv0Sk2Q7VG3fgv3Gade2zx5aR6QzLpBG4QU7BOuUaxlCBKwwf9HPtiAlZPhtHf\n",
       "QoD9MIfKIJaXhLzIsxphFRtGT+GjE2xGyF0BLF/RlVVBoxO4QUzBksBn0LC8GJEOne4q8mcsw3EQ\n",
       "l6anGwG9rOFoXfX0ZwNqX2ewYbh9h5lJbIa44AKxfBkCHWwCN4gpWIohAc8wwCI7cZug/LEMRyG0\n",
       "hk+Q4YKOUTzDPO0SieGh30ustUVPwzS/IMImcIOO4aB5CU9wFcU1bEmAuMzexAT/qmU4CeKibRi9\n",
       "YYy9C2JGl6K+oA7fmRmBMISmrRqec+5B8+tq2ARuEFMsUtcVNGz161KMHXQjvgUooesB3ce0DQMa\n",
       "A/2khlFMjqxDKHM6HPcLEcin68tmqO6ljuWH9GPIAJ3ADTqDDp4j1yLMOzB79hDWAgtBA4bxgvgX\n",
       "H8EofLQKFHd9XQIqYUaT20FcA79+AJTlr37TjwZdQCNfR4fDAH/SZZjlX0h0o80QlcANWhSLRGol\n",
       "48DsNy/XlxxGeyKpDYVarKNnrNK63r2SAPlyqQ5zE8WoVwbK0/CgPF1mwLW3wvujb5yv39QdBoRr\n",
       "XIZZ/kBRf7VBJ3CDFsUiqbpV0SJ/aR7xXnpmcy5MIX3z9EmOpXmElzDiRdkk9Sqmwt/8JHdrWNnZ\n",
       "5ifJS0h6UTZJA59S6c0RoRGR6TDibaklp+H+XNtLHp9KiHhQOCT3Bl71dnRmoyGXYSPbHWcDr/IS\n",
       "VC9KgL/B3eufSFN78hNpiugfsEtpejknM7MAAAAASUVORK5CYII=\n",
       "\" style=\"display:inline;vertical-align:middle;\" /></a><br>(see <a class=\"ProveItLink\" href=\"../../../__pv_it/theorems/793149b6d1d09708dd9aadb617e16c8d157ef91b0/dependencies.ipynb\">dependencies</a>)<br>"
      ],
      "text/plain": [
       "reduce_5_repeats: forall_{x} ((x, ..5 repeats.., x) = (x, x, x, x, x))"
      ]
     },
     "execution_count": 2,
     "metadata": {},
     "output_type": "execute_result"
    }
   ],
   "source": [
    "%proving reduce_5_repeats"
   ]
  },
  {
   "cell_type": "code",
   "execution_count": null,
   "metadata": {},
   "outputs": [],
   "source": []
  }
 ],
 "metadata": {
  "kernelspec": {
   "display_name": "Python 3",
   "language": "python",
   "name": "python3"
  }
 },
 "nbformat": 4,
 "nbformat_minor": 0
}