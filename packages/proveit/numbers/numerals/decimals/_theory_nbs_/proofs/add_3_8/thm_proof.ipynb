{
 "cells": [
  {
   "cell_type": "markdown",
   "metadata": {},
   "source": [
    "Proof of <a class=\"ProveItLink\" href=\"../../../../../../_theory_nbs_/theory.ipynb\">proveit</a>.<a class=\"ProveItLink\" href=\"../../../../../_theory_nbs_/theory.ipynb\">numbers</a>.<a class=\"ProveItLink\" href=\"../../../../_theory_nbs_/theory.ipynb\">numerals</a>.<a class=\"ProveItLink\" href=\"../../theory.ipynb\">decimals</a>.<a class=\"ProveItLink\" href=\"../../theorems.ipynb#add_3_8\">add_3_8</a> theorem\n",
    "========"
   ]
  },
  {
   "cell_type": "code",
   "execution_count": 1,
   "metadata": {},
   "outputs": [],
   "source": [
    "import proveit\n",
    "theory = proveit.Theory() # the theorem's theory"
   ]
  },
  {
   "cell_type": "code",
   "execution_count": 2,
   "metadata": {},
   "outputs": [
    {
     "data": {
      "text/html": [
       "Under these <a href=\"presumptions.txt\">presumptions</a>, we begin our proof of<br><strong id=\"add_3_8\">add_3_8:</strong> <a class=\"ProveItLink\" href=\"../../../__pv_it/theorems/416d81b0e32e38437130050814047ce9d6ba6b000/expr.ipynb\"><img src=\"data:image/png;base64,iVBORw0KGgoAAAANSUhEUgAAAGsAAAAUBAMAAAB45d4rAAAAMFBMVEX////MzMxUVFR2dna6uroQ\n",
       "EBCqqqqIiIgiIiJmZmYyMjJERETu7u6YmJjc3NwAAACgK8IjAAAAAXRSTlMAQObYZgAAAVNJREFU\n",
       "OMtjYOC7wIAdsD1gwANOMzA8Nt6GJni8eAoDgx4+besY+CYw5KNZOYGBKYHhFKbi1ANQgncCA/s3\n",
       "Bv4GiHA61H0XGHgWMDAXoGniUdY/ACEYOB4wsIQw8C9A0ca8gYGngYEnAMO2+wegxAswF+ZIqDaW\n",
       "3weYgSJLcGurBNvezICijUH/rxmQtMStbS+Q5rOYg6aN+f8aIHkLzFwFBhNQtbWBuaUOqNoyPb4C\n",
       "RTJw2xYC5rLGAAmrVataV61aBGTxKjDUA0Xk8Wrje8DA/Q3FNtYDDIzf8GoDOpL/D7q280Csy8Dg\n",
       "geQ3BYwgYd3AwPEH1TZgctwHDRLstgEDmfcCRrytYeAFJpHJGNrqD0AJkEM8Z25BiwChycCkzLAQ\n",
       "Xdek+JUXIAQHSvZIR0mCDbgzAO8EZN4ZZA5GUkYG+3DKnCKQTUk2EJQgcRUKvHgKBQCGp3tEryDp\n",
       "UAAAAABJRU5ErkJggg==\n",
       "\" style=\"display:inline;vertical-align:middle;\" /></a><br>(see <a class=\"ProveItLink\" href=\"../../../__pv_it/theorems/ec19e5d3197e5bd85612b9963d61bda5027902230/dependencies.ipynb\">dependencies</a>)<br>"
      ],
      "text/plain": [
       "add_3_8: (3 + 8) = 11"
      ]
     },
     "execution_count": 2,
     "metadata": {},
     "output_type": "execute_result"
    }
   ],
   "source": [
    "%proving add_3_8"
   ]
  },
  {
   "cell_type": "code",
   "execution_count": null,
   "metadata": {},
   "outputs": [],
   "source": []
  }
 ],
 "metadata": {
  "kernelspec": {
   "display_name": "Python 3",
   "language": "python",
   "name": "python3"
  }
 },
 "nbformat": 4,
 "nbformat_minor": 0
}