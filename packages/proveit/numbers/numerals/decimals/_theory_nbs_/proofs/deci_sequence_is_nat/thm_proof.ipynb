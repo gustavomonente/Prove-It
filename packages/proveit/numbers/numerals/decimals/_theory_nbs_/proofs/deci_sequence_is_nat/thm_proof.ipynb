{
 "cells": [
  {
   "cell_type": "markdown",
   "metadata": {},
   "source": [
    "Proof of <a class=\"ProveItLink\" href=\"../../../../../../_theory_nbs_/theory.ipynb\">proveit</a>.<a class=\"ProveItLink\" href=\"../../../../../_theory_nbs_/theory.ipynb\">numbers</a>.<a class=\"ProveItLink\" href=\"../../../../_theory_nbs_/theory.ipynb\">numerals</a>.<a class=\"ProveItLink\" href=\"../../theory.ipynb\">decimals</a>.<a class=\"ProveItLink\" href=\"../../theorems.ipynb#deci_sequence_is_nat\">deci_sequence_is_nat</a> theorem\n",
    "========"
   ]
  },
  {
   "cell_type": "code",
   "execution_count": 1,
   "metadata": {},
   "outputs": [],
   "source": [
    "import proveit\n",
    "theory = proveit.Theory() # the theorem's theory"
   ]
  },
  {
   "cell_type": "code",
   "execution_count": 2,
   "metadata": {},
   "outputs": [
    {
     "data": {
      "text/html": [
       "Under these <a href=\"presumptions.txt\">presumptions</a>, we begin our proof of<br><strong id=\"deci_sequence_is_nat\">deci_sequence_is_nat:</strong> <a class=\"ProveItLink\" href=\"../../../__pv_it/theorems/8cfc695f0e112a879cf989276e42ea27767037610/expr.ipynb\"><img src=\"data:image/png;base64,iVBORw0KGgoAAAANSUhEUgAAAX4AAAAZBAMAAADEcliZAAAAMFBMVEX///8QEBCIiIhmZma6urrM\n",
       "zMxUVFQiIiJERETc3Nzu7u6qqqp2dnaYmJgyMjIAAAAcRTyBAAAAAXRSTlMAQObYZgAABPxJREFU\n",
       "WMPtmG1oW1UYx/95uU1yb27aD75VGWStTtkLltUxX1pMEesHFdIJ7YaDhbIh9cMIThtFGaEIyzYq\n",
       "QSGW4TR12GrUNVQCFjrMTP1g10GwG84xIR8U3YS0E1+2KeLz3HNz8540neI+eCDn3PvknnN/ed7O\n",
       "cwLUb88EwrghmzXwykoe8+OGbZH/+VfUHOmCm6MNTZ2pJY8gw8O3dfhdPKjp1fO/r/VBTFAvBxua\n",
       "2lQSfMevvBbFycseTR7BKZZdqsPvjNPgiq6e/yJ3cgazvE5j2UDOlAhGJR/kZSGPYIytG6zDrz0w\n",
       "tnp8tYN7JYn7aFhscPLnpenQ2wa0CHlE06qm3pr+zwY6tXp+m6Zyi0cLpZcanDyuj+cCAc0Uuw81\n",
       "eXmhcY1fnY/F3qwbvxdisQ+uI4zFC2yazR2NruPyaMP29fr9UL98iZlYTvnnSihUaRdIFvE3h0IH\n",
       "kqvnbxeRxx4EM/vSG6m1NaPJ0bX59ty1U3M+2YjRIcXdz0wsJ/49wMEKK3QU8ZPF7I2F3Xv4qN1A\n",
       "HNX6aVi8gJ3SmLUVS4BUPex6wq5lI3gyxWloCHOq2y/kxP9IeYSX81s7SHuNtLcewMV8WniZtJXN\n",
       "3ppdyv4IGwXbeBr3Q+qs6knyGliMyYr2mB15/qboHr+QR9grzYWJXdo3h7W+Un76bFoR90CXx3wL\n",
       "8NQ8pzhDhTfp6/B2aSK3fTiK50gpVfkt12BzG0TaMn1ZahnBL/tcLUJOCzrTNmPeh6lufOqMWqKp\n",
       "zn2d8UL+0yvYheXZzrQSnMeD6CWNEP/VIn6HT9snmf82yL/W4jcFMeUt5h8r0D92Snl+R6bf8LTD\n",
       "R6I44e5wlvkP3qZNo147NxOD8pUFSXmEb7dYrxX4D9jMHGjkP/KfUJZr8U8l8RltFGfbmEI8Zirk\n",
       "V+NBIWeDHtxNgu5t7RwK1BKJ1yvw2yOkNnnzXm/Zu46t+16vZnmK8vQOdxJSF4WummgpiF9ndmn/\n",
       "D7+T/1P8yn+gKTNTiz+OvUr4zBq0GvFrMfyJEg6+DBrxi084lnvSprCohRLOj3eW8ytbqZv07opS\n",
       "8BQ7zQuSrmatSFK882cpSTpSYaxXjLhKie+1X8hpbwRf+5J5fvkvZs7oF6wttzrsdLzrBy9tSeZt\n",
       "yO0nlmWEnPmb6ZcduRvNUVljTiCZKufHz/TpxACkk8X8lg5Jxzgm+J1avpY3YGM+4h/jbpY3YGH2\n",
       "ibYdg54C/Q+zX/n0C549eFfkTjS5rWxBl7D5xKvixQOXg6IoYjnzqywfRA+kF0OhEeI/ygHtLeE/\n",
       "T587sI7eU8xvipv1yBgIhUJuxetI+yvXD1sgEoVRP1jrpAST15IkjEn99okDgaJEP1lY/9+MLgk+\n",
       "oX/rtsr1v3wVo7FS/qmw/Xx08cQF2mGE/vGoW15YWJgrq9/8eg5ZLE7s1ds7sD3uLa/fCuu6HL9j\n",
       "Gc8n8AVfnqFqp8r5pVX6Jc38Y1HHoVxnCu96EtNBUq2TTaZ6oFYoNCjxUAITDpXbyB1bf3PX5O+F\n",
       "+TQq7665ujrHb/VhYxp2SvnW/R6hyQr8vRvaNf6+uNSKvjB3cevgdDeVF9vp68Ps6d8BvornFzWO\n",
       "Z8WLGzu/VKtb7OHy8+M9oZG650f2n3y9Hdcry00Ummby/3/+/PhNLXnj51/p3oegGCrRryYwex2H\n",
       "y3/7/B4o/f9HrXD13/z/M/w3pINkmCi18H8AAAAASUVORK5CYII=\n",
       "\" style=\"display:inline;vertical-align:middle;\" /></a><br>(see <a class=\"ProveItLink\" href=\"../../../__pv_it/theorems/ea151cded4b10a1b3da24d18de489b235889bc630/dependencies.ipynb\">dependencies</a>)<br>"
      ],
      "text/plain": [
       "deci_sequence_is_nat: forall_{n in NaturalPos} [forall_{a_{1}, ..a_{_a}.., a_{n} in Digits} (\\# (a_{1} ~ ..a_{_a}.. ~ a_{n}) in Natural)]"
      ]
     },
     "execution_count": 2,
     "metadata": {},
     "output_type": "execute_result"
    }
   ],
   "source": [
    "%proving deci_sequence_is_nat"
   ]
  },
  {
   "cell_type": "code",
   "execution_count": null,
   "metadata": {},
   "outputs": [],
   "source": []
  }
 ],
 "metadata": {
  "kernelspec": {
   "display_name": "Python 3",
   "language": "python",
   "name": "python3"
  }
 },
 "nbformat": 4,
 "nbformat_minor": 0
}