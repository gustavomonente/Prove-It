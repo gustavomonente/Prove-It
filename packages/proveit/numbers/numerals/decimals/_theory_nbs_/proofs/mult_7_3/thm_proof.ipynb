{
 "cells": [
  {
   "cell_type": "markdown",
   "metadata": {},
   "source": [
    "Proof of <a class=\"ProveItLink\" href=\"../../../../../../_theory_nbs_/theory.ipynb\">proveit</a>.<a class=\"ProveItLink\" href=\"../../../../../_theory_nbs_/theory.ipynb\">numbers</a>.<a class=\"ProveItLink\" href=\"../../../../_theory_nbs_/theory.ipynb\">numerals</a>.<a class=\"ProveItLink\" href=\"../../theory.ipynb\">decimals</a>.<a class=\"ProveItLink\" href=\"../../theorems.ipynb#mult_7_3\">mult_7_3</a> theorem\n",
    "========"
   ]
  },
  {
   "cell_type": "code",
   "execution_count": 1,
   "metadata": {},
   "outputs": [],
   "source": [
    "import proveit\n",
    "theory = proveit.Theory() # the theorem's theory"
   ]
  },
  {
   "cell_type": "code",
   "execution_count": 2,
   "metadata": {},
   "outputs": [
    {
     "data": {
      "text/html": [
       "Under these <a href=\"presumptions.txt\">presumptions</a>, we begin our proof of<br><strong id=\"mult_7_3\">mult_7_3:</strong> <a class=\"ProveItLink\" href=\"../../../__pv_it/theorems/46233b82ffb12447773310afdf82e9398f396c8d0/expr.ipynb\"><img src=\"data:image/png;base64,iVBORw0KGgoAAAANSUhEUgAAAGAAAAAUBAMAAACABSXcAAAAMFBMVEX///9UVFTMzMx2dna6uroQ\n",
       "EBCqqqqIiIgiIiJmZmYyMjJERETu7u6YmJjc3NwAAAC+aOQFAAAAAXRSTlMAQObYZgAAAXFJREFU\n",
       "KM99kz9Lw0AYxh+T0DS1CV0Et+YjRDKU6tJF9AO0IuiQ1cVdF+siiIMBp6CCjjqou6jpIBQc6hdQ\n",
       "Ai51EUsdalHi3aVp4iXNO937Pve7e//cAdozEraJDHuCsHtkmqGrmQsWpjx+V9G51UfLK6i+7/dC\n",
       "5R25XxTPeKAF8QvIrQOqDYWcVwqVHQsDoMIDJ0ADrbkfIO9BBMTwPizWMAQeeWAVKHtQCdBl/lJM\n",
       "IymhUOOAaxdlnQFbzL+JaW2D3Ggnu3PoMuCOrsVYa9/2XVIZq3r+ktpFEJf6YMAedTpB6wJFrpO0\n",
       "mokL8qUAqFNnm4U6o2Y2XAifCcBBDDgYn4EP4MFKAWQbsZR6keC7FJCaUQ3nLL4BzRsXLXxHwFrQ\n",
       "Dn7UggE5AKq08/1IeWFzUAwO6JrVWZIXAZbpg1uJFMk5JkMr6PzgfH8AZWZ4Sp9GirUnv27VTotW\n",
       "Mv7DfUos+bz/faCkTXsZQNoXfZ28/Q95w2Z2n/6pmQAAAABJRU5ErkJggg==\n",
       "\" style=\"display:inline;vertical-align:middle;\" /></a><br>(see <a class=\"ProveItLink\" href=\"../../../__pv_it/theorems/5844d3a0f224d95f8894f2ccf37bfe37389e0ae80/dependencies.ipynb\">dependencies</a>)<br>"
      ],
      "text/plain": [
       "mult_7_3: (7 * 3) = 21"
      ]
     },
     "execution_count": 2,
     "metadata": {},
     "output_type": "execute_result"
    }
   ],
   "source": [
    "%proving mult_7_3"
   ]
  },
  {
   "cell_type": "code",
   "execution_count": null,
   "metadata": {},
   "outputs": [],
   "source": []
  }
 ],
 "metadata": {
  "kernelspec": {
   "display_name": "Python 3",
   "language": "python",
   "name": "python3"
  }
 },
 "nbformat": 4,
 "nbformat_minor": 0
}