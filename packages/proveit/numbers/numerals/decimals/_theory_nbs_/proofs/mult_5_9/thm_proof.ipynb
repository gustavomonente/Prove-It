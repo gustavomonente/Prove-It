{
 "cells": [
  {
   "cell_type": "markdown",
   "metadata": {},
   "source": [
    "Proof of <a class=\"ProveItLink\" href=\"../../../../../../_theory_nbs_/theory.ipynb\">proveit</a>.<a class=\"ProveItLink\" href=\"../../../../../_theory_nbs_/theory.ipynb\">numbers</a>.<a class=\"ProveItLink\" href=\"../../../../_theory_nbs_/theory.ipynb\">numerals</a>.<a class=\"ProveItLink\" href=\"../../theory.ipynb\">decimals</a>.<a class=\"ProveItLink\" href=\"../../theorems.ipynb#mult_5_9\">mult_5_9</a> theorem\n",
    "========"
   ]
  },
  {
   "cell_type": "code",
   "execution_count": 1,
   "metadata": {},
   "outputs": [],
   "source": [
    "import proveit\n",
    "theory = proveit.Theory() # the theorem's theory"
   ]
  },
  {
   "cell_type": "code",
   "execution_count": 2,
   "metadata": {},
   "outputs": [
    {
     "data": {
      "text/html": [
       "Under these <a href=\"presumptions.txt\">presumptions</a>, we begin our proof of<br><strong id=\"mult_5_9\">mult_5_9:</strong> <a class=\"ProveItLink\" href=\"../../../__pv_it/theorems/4d1045e1c4cb1c0f14f444510052329a066af8030/expr.ipynb\"><img src=\"data:image/png;base64,iVBORw0KGgoAAAANSUhEUgAAAGEAAAAUBAMAAABvx07iAAAAMFBMVEX///9UVFTMzMx2dna6uroQ\n",
       "EBCqqqqIiIgiIiJmZmYyMjJERETu7u6YmJjc3NwAAAC+aOQFAAAAAXRSTlMAQObYZgAAAZJJREFU\n",
       "KM99k7tLw0Acx79NbTFpErKIVBC7urVTqUs7+ge4KKLFXSmCQx20k4NTsCIIQitOCj5GBx+3CKKD\n",
       "WYogWjLaScVOKtZfrjZtcyE/SLjf43P3e9wBugVBlhAk98AxG893VLWcshGyxTjJhPIs7dDqBJhv\n",
       "fbqOG0ufhVoViUEDkVYrCWgmcDDc3XMIiANpkVgxoKTWHJSCjR7HF5ClkwRAfzIQ4qtX9BHqN7Bu\n",
       "Q8l5ibDSIYr0jT5uuZ4ZOiOHsOkl6g7xUkwAl6Rd4M3dk1I6taDx0ieOHDnkZxeIiDG9CWzwuFjJ\n",
       "sfJVIZrNI1ryJgWF534OTHGD/Eu/B77x4nI2AendQyz8ExXbIUJVhJvtjnMZYwKhJh1ihNdIWUWq\n",
       "kH963PvAQKlbB6mIxncr0wXqSoU5lcu0vTvkGpMoQ00cesQANXATyNBwTNTcoa+yO7qaclIkztCA\n",
       "NgdMktJI7XWbktmmv5IQJnj9YenlOGvfElFuAy67ZvpZ00Hv48rH5nfb+16UIDE7iPB7tfWA+D/d\n",
       "WmQ6y2hsyAAAAABJRU5ErkJggg==\n",
       "\" style=\"display:inline;vertical-align:middle;\" /></a><br>(see <a class=\"ProveItLink\" href=\"../../../__pv_it/theorems/68dd7a775bc574c157e947b07053f7d79a4bd0890/dependencies.ipynb\">dependencies</a>)<br>"
      ],
      "text/plain": [
       "mult_5_9: (5 * 9) = 45"
      ]
     },
     "execution_count": 2,
     "metadata": {},
     "output_type": "execute_result"
    }
   ],
   "source": [
    "%proving mult_5_9"
   ]
  },
  {
   "cell_type": "code",
   "execution_count": null,
   "metadata": {},
   "outputs": [],
   "source": []
  }
 ],
 "metadata": {
  "kernelspec": {
   "display_name": "Python 3",
   "language": "python",
   "name": "python3"
  }
 },
 "nbformat": 4,
 "nbformat_minor": 0
}