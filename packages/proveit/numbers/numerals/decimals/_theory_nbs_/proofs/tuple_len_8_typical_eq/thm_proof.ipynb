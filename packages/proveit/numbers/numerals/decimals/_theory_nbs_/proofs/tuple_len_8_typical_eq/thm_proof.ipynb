{
 "cells": [
  {
   "cell_type": "markdown",
   "metadata": {},
   "source": [
    "Proof of <a class=\"ProveItLink\" href=\"../../../../../../_theory_nbs_/theory.ipynb\">proveit</a>.<a class=\"ProveItLink\" href=\"../../../../../_theory_nbs_/theory.ipynb\">numbers</a>.<a class=\"ProveItLink\" href=\"../../../../_theory_nbs_/theory.ipynb\">numerals</a>.<a class=\"ProveItLink\" href=\"../../theory.ipynb\">decimals</a>.<a class=\"ProveItLink\" href=\"../../theorems.ipynb#tuple_len_8_typical_eq\">tuple_len_8_typical_eq</a> theorem\n",
    "========"
   ]
  },
  {
   "cell_type": "code",
   "execution_count": 1,
   "metadata": {},
   "outputs": [],
   "source": [
    "import proveit\n",
    "theory = proveit.Theory() # the theorem's theory"
   ]
  },
  {
   "cell_type": "code",
   "execution_count": 2,
   "metadata": {},
   "outputs": [
    {
     "data": {
      "text/html": [
       "Under these <a href=\"presumptions.txt\">presumptions</a>, we begin our proof of<br><strong id=\"tuple_len_8_typical_eq\">tuple_len_8_typical_eq:</strong> <a class=\"ProveItLink\" href=\"../../../__pv_it/theorems/a30d26091dbb8328d69b77ce0176511510f47b820/expr.ipynb\"><img src=\"data:image/png;base64,iVBORw0KGgoAAAANSUhEUgAAAcMAAAAWBAMAAABOLOrFAAAAMFBMVEX///8QEBCIiIhmZma6urrM\n",
       "zMxUVFQiIiJERETc3Nzu7u6qqqp2dnaYmJgyMjIAAAAcRTyBAAAAAXRSTlMAQObYZgAABWFJREFU\n",
       "WMPNWF1oHFUUPtnf2dmd3eIPbfRlu6HxwShLtGLRtAs+FAR18yIqSLbRimIDi/hD2oKLvjR50IE+\n",
       "mAelEwONFDGLgpKCdklKFGt02YD9odWFtoIpibGmYrcxes79mZndmdmEbQQv7Nxvzj33nvvdn3PO\n",
       "LMDNl6AB/0155iYNbdTEPoBYRoANK1GdVScbxOs3NCn1CVQJX2h9NmpBWEZglY82u6g+dauzd/eO\n",
       "Bgnv+VITinWGXCaUms5ASBf6BE4Rnm+dYlwXluO6XXzRTfeGQxI65ZCxnp80oUiGond4TsgP8DKo\n",
       "VaFPYARhpNA6xTlpeW4NNgCBmkM08WjGdR1iSW+KaOjoTM1zQl+yBZqS+gjieCVjxdYpDkrLg2uw\n",
       "Qb28Q3TCYx3UTd4UyZDmTfEbgHGAUamPQPv22LH3WmcYyQvLkfwabHA10w7R117rcMmTIjPUhOIT\n",
       "wzCLtjJCn8Bfhw4dbJ2iLy0sE4DD01u5n473d4iTEUtt4+DwVJ8QfZySPmZu833Sh3bfzW9L/KHK\n",
       "EFbTnhSZoSYUQ/+cRzuxtNAnsBdgyDwli3Xau7L2azxr4a1JiZSysEwg0A6/iTs2r17nu3wA3uFD\n",
       "t8O7nH5gEN6X3a9ax+sI3+OJX+EFrH4yKX6/SOWiSZEMNaMIP6yiHa0q9Ak8ItwPK9P1zsD+MtVl\n",
       "4bDpJMJFYZnAaBkeFHfMELMPl9C/UcG2nbxttKhul8f8mtzEGiT4Hp/IwotYfeG5i2SoGcXo/W/e\n",
       "hs+80CcQBl/ZbL9Sp/2V/eWSnbuZNrRlhGUCuwx4hYt3grrCD4LURCDuw57KPVIYXZLDFKDPED3h\n",
       "Fqz6PCmSoWYUfwTf7wYEl4Q+gVg5bLVfr9Ou21P7oLvBleIWUK/J4BbgYWOLVMS2ZY7+dPFKfWW4\n",
       "i6ODfGtbp4gREy99HcVI9Ul8G+u8TEnd1U6DuQi6a2OpK9w5sIt35g+21+dTOXzOXNjrclBx4+S2\n",
       "/A1+7vxXZM5hta1Y01FyAvysw9tcb5nz3t1wF39Z70FV0UqoDAF5UBkYeh4bXgtSJ99+5q9eDW4y\n",
       "Req8yuahMYfnyymksGh0urgb9QaEqjw7XKa7x7lClFm22vC8+uQZSFrxke+6tgRtpXN2d9O4i2u5\n",
       "m3ZU0evdDXyGPP3pILFVkiTxFyDLRBR/QwM8gfUzh3dEV4qMwcPSqgwaBN6C07mSuopvA7gpDDwA\n",
       "6nYGrLZ7Qd0BE8zFTWBPhib0UI2hUBUSmRLw8V0psnDgq/GObED2MN8eN6CC0y0JfQYSuJRtRV+O\n",
       "nXN/jl7YCkuRtV0ApyGBJxm5H5BhRoZ+AkdTT/dn4A3UGOtCdQKx2QoHVpuvBxctvJ+FaRAo0P9d\n",
       "niE0E6Pk67InRTLk37Pawzu+DuIRpsnS8MHnpiniZ2XoJ6AZtIrKOawSBtFLsIRainRgrq6NxcgZ\n",
       "6KU1LESWsp4JXNTwBDZ0XCRbAgFdgOPWjco3T+CsIeoDhjn8uNQfNx2j3vcYjBhh4ww+MedJjxgo\n",
       "ehZflKKaiwyzOIHV5xiXUZbUCiXPNDzmDWwI+0dzCwLhxaAzW7L0mqfh5hCNClYUt6Xh4rz1f9oD\n",
       "vcXgvhI+I90Vo7coRGp3CoJ3MheHlb9rAWVxPbJPrpciP6YU+TH1IXgCC6nIITxcFShWI4eqmjlT\n",
       "048pacim7hze/jFlL0XHU1RRvnbkG283m7w+ic1EwgkspNGvQxcoMEAprWaNOrSOT2LN6U3N4RX5\n",
       "SazoLn8n2J+ymoQFCoSTkVy0KmXWHxu+7Eb/saFxE9sac/51Gzor9c82DOx4yqoMU3QqypGFDsNt\n",
       "9f7X5V9cBMAOhzAgNQAAAABJRU5ErkJggg==\n",
       "\" style=\"display:inline;vertical-align:middle;\" /></a><br>(see <a class=\"ProveItLink\" href=\"../../../__pv_it/theorems/9444e16b453755f624713af26174584a242e325a0/dependencies.ipynb\">dependencies</a>)<br>"
      ],
      "text/plain": [
       "tuple_len_8_typical_eq: forall_{a, b, c, d, e, f, g, h} (|(a, b, c, d, e, f, g, h)| = |(1, ..k.., 8)|)"
      ]
     },
     "execution_count": 2,
     "metadata": {},
     "output_type": "execute_result"
    }
   ],
   "source": [
    "%proving tuple_len_8_typical_eq"
   ]
  },
  {
   "cell_type": "code",
   "execution_count": null,
   "metadata": {},
   "outputs": [],
   "source": []
  }
 ],
 "metadata": {
  "kernelspec": {
   "display_name": "Python 3",
   "language": "python",
   "name": "python3"
  }
 },
 "nbformat": 4,
 "nbformat_minor": 0
}