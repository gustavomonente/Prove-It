{
 "cells": [
  {
   "cell_type": "markdown",
   "metadata": {},
   "source": [
    "Proof of <a class=\"ProveItLink\" href=\"../../../../../../_theory_nbs_/theory.ipynb\">proveit</a>.<a class=\"ProveItLink\" href=\"../../../../../_theory_nbs_/theory.ipynb\">numbers</a>.<a class=\"ProveItLink\" href=\"../../../../_theory_nbs_/theory.ipynb\">numerals</a>.<a class=\"ProveItLink\" href=\"../../theory.ipynb\">decimals</a>.<a class=\"ProveItLink\" href=\"../../theorems.ipynb#mult_1_8\">mult_1_8</a> theorem\n",
    "========"
   ]
  },
  {
   "cell_type": "code",
   "execution_count": 1,
   "metadata": {},
   "outputs": [],
   "source": [
    "import proveit\n",
    "theory = proveit.Theory() # the theorem's theory"
   ]
  },
  {
   "cell_type": "code",
   "execution_count": 2,
   "metadata": {},
   "outputs": [
    {
     "data": {
      "text/html": [
       "Under these <a href=\"presumptions.txt\">presumptions</a>, we begin our proof of<br><strong id=\"mult_1_8\">mult_1_8:</strong> <a class=\"ProveItLink\" href=\"../../../__pv_it/theorems/0c5f8cefd0861b3ad3e673a35c4e9021e247ac1c0/expr.ipynb\"><img src=\"data:image/png;base64,iVBORw0KGgoAAAANSUhEUgAAAFcAAAAUBAMAAAAKKrydAAAAMFBMVEX////MzMxUVFR2dna6uroQ\n",
       "EBCqqqqIiIgiIiJmZmYyMjJERETu7u6YmJjc3NwAAACgK8IjAAAAAXRSTlMAQObYZgAAASRJREFU\n",
       "KM91kzFLw0AYhp9G0dhexH+gIAhOupUqYkdxcekotYujruJkp64G8QeIWx38BSpZhKKDRQc3zdjR\n",
       "xcVF73LSa75cPsjH3cPD5T7yBuaHFOqYknrOb9VJo0mQSivDcKufw2RM52AFdSXlDBPFqOU1Jx/B\n",
       "E9SlbHFo3vjp5E0YwKOULR6Rl/fu2IJqU8gWnwo5+H3rwFQsZIvvhcz2j95E2YQbN6b6DvecrEyb\n",
       "uTxv6d4VJ1vccvKLOe6V2e+EypeQLZ6QwyXd9mGxU5Qt7uXvrLQVDJnuujtfOywHbEMt/R9woixu\n",
       "mOWZk3cT3vXXXReyxTt6dXHQH0evsmoSU10QssVh6oviwJ/QKPbRekmeHzysGFF/+LOqpSWy77f6\n",
       "8Kt/V1Fd+iQ9G6IAAAAASUVORK5CYII=\n",
       "\" style=\"display:inline;vertical-align:middle;\" /></a><br>(see <a class=\"ProveItLink\" href=\"../../../__pv_it/theorems/b88bb6f13c4f5a068fa1cf018c2605af5c54a8650/dependencies.ipynb\">dependencies</a>)<br>"
      ],
      "text/plain": [
       "mult_1_8: (1 * 8) = 8"
      ]
     },
     "execution_count": 2,
     "metadata": {},
     "output_type": "execute_result"
    }
   ],
   "source": [
    "%proving mult_1_8"
   ]
  },
  {
   "cell_type": "code",
   "execution_count": null,
   "metadata": {},
   "outputs": [],
   "source": []
  }
 ],
 "metadata": {
  "kernelspec": {
   "display_name": "Python 3",
   "language": "python",
   "name": "python3"
  }
 },
 "nbformat": 4,
 "nbformat_minor": 0
}