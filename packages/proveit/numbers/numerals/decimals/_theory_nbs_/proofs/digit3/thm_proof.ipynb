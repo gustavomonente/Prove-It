{
 "cells": [
  {
   "cell_type": "markdown",
   "metadata": {},
   "source": [
    "Proof of <a class=\"ProveItLink\" href=\"../../../../../../_theory_nbs_/theory.ipynb\">proveit</a>.<a class=\"ProveItLink\" href=\"../../../../../_theory_nbs_/theory.ipynb\">numbers</a>.<a class=\"ProveItLink\" href=\"../../../../_theory_nbs_/theory.ipynb\">numerals</a>.<a class=\"ProveItLink\" href=\"../../theory.ipynb\">decimals</a>.<a class=\"ProveItLink\" href=\"../../theorems.ipynb#digit3\">digit3</a> theorem\n",
    "========"
   ]
  },
  {
   "cell_type": "code",
   "execution_count": 1,
   "metadata": {},
   "outputs": [],
   "source": [
    "import proveit\n",
    "theory = proveit.Theory() # the theorem's theory"
   ]
  },
  {
   "cell_type": "code",
   "execution_count": 2,
   "metadata": {},
   "outputs": [
    {
     "data": {
      "text/html": [
       "Under these <a href=\"presumptions.txt\">presumptions</a>, we begin our proof of<br><strong id=\"digit3\">digit3:</strong> <a class=\"ProveItLink\" href=\"../../../__pv_it/theorems/077fbf5624c2b5c49ea3a5092c420282cdb8bc6b0/expr.ipynb\"><img src=\"data:image/png;base64,iVBORw0KGgoAAAANSUhEUgAAAEgAAAAVBAMAAAAX07VdAAAAMFBMVEX///9UVFTMzMzu7u4yMjIQ\n",
       "EBC6uroiIiKIiIiYmJhmZmaqqqpERER2dnbc3NwAAACDMjhQAAAAAXRSTlMAQObYZgAAAU1JREFU\n",
       "KM9jYCAEdt0lpGIPA6cAxwL8arY0MLAm8H3Gq2bKBAaG9w8YvuFT0wJUw2CvwPAbj5r0DSCSNYHp\n",
       "JwPD27unUSVN/hwxYLj6NcH2GIjHfYDzGwPfAob9E1BVnWQSYGD+wMBgC9at0fSPgeM3A38BqiJx\n",
       "hQ4GhgAgg8ObgYGZge0AA1sYA78DWI7zeHkJmCF2mFGBAayR05OBp4FHAcSEWMd0wgBqkpwiszNE\n",
       "EQO3AVvHPRCDuRbiXpgaBjnuBkUGVCfwXV8MkYKLyDFc42xAcydDawKIPICkiNFAqIBhzxkggBvP\n",
       "GgxyUogLEEAVMQuwBKDY9oCBBxTufMgmMegyoSji/wxRxBCArIhzwwFkRawHGNjBaWEFXEgIiO+h\n",
       "KOKcAA0n9g0wIWA4M3A5oPgtaxU4IhmYZZIhAupfgaYwO2BPGmx3oNGCAQDtU0995yGkDwAAAABJ\n",
       "RU5ErkJggg==\n",
       "\" style=\"display:inline;vertical-align:middle;\" /></a><br>(see <a class=\"ProveItLink\" href=\"../../../__pv_it/theorems/0bf10c9aba8bcf5032cd318f169c83dcdff3e8db0/dependencies.ipynb\">dependencies</a>)<br>"
      ],
      "text/plain": [
       "digit3: 3 in Digits"
      ]
     },
     "execution_count": 2,
     "metadata": {},
     "output_type": "execute_result"
    }
   ],
   "source": [
    "%proving digit3"
   ]
  },
  {
   "cell_type": "code",
   "execution_count": null,
   "metadata": {},
   "outputs": [],
   "source": []
  }
 ],
 "metadata": {
  "kernelspec": {
   "display_name": "Python 3",
   "language": "python",
   "name": "python3"
  }
 },
 "nbformat": 4,
 "nbformat_minor": 0
}