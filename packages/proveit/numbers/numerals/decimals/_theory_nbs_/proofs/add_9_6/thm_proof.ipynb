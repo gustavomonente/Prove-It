{
 "cells": [
  {
   "cell_type": "markdown",
   "metadata": {},
   "source": [
    "Proof of <a class=\"ProveItLink\" href=\"../../../../../../_theory_nbs_/theory.ipynb\">proveit</a>.<a class=\"ProveItLink\" href=\"../../../../../_theory_nbs_/theory.ipynb\">numbers</a>.<a class=\"ProveItLink\" href=\"../../../../_theory_nbs_/theory.ipynb\">numerals</a>.<a class=\"ProveItLink\" href=\"../../theory.ipynb\">decimals</a>.<a class=\"ProveItLink\" href=\"../../theorems.ipynb#add_9_6\">add_9_6</a> theorem\n",
    "========"
   ]
  },
  {
   "cell_type": "code",
   "execution_count": 1,
   "metadata": {},
   "outputs": [],
   "source": [
    "import proveit\n",
    "theory = proveit.Theory() # the theorem's theory"
   ]
  },
  {
   "cell_type": "code",
   "execution_count": 2,
   "metadata": {},
   "outputs": [
    {
     "data": {
      "text/html": [
       "Under these <a href=\"presumptions.txt\">presumptions</a>, we begin our proof of<br><strong id=\"add_9_6\">add_9_6:</strong> <a class=\"ProveItLink\" href=\"../../../__pv_it/theorems/f75defc1d16513c5c5c51a0f18185478ba0debf90/expr.ipynb\"><img src=\"data:image/png;base64,iVBORw0KGgoAAAANSUhEUgAAAGwAAAAUBAMAAACaOcVSAAAAMFBMVEX////MzMxUVFR2dna6uroQ\n",
       "EBCqqqqIiIgiIiJmZmYyMjJERETu7u6YmJjc3NwAAACgK8IjAAAAAXRSTlMAQObYZgAAAY5JREFU\n",
       "OMuVlD9MAjEUxj/vVDjgxMTJCQyDk5jIQHRidGRwxGBiDI4mTk6yyHyKi4kDqIsXMWzGRA2Lg2gC\n",
       "iyFx8RYTncRonAB9LWiu9wfjG659bX/3Xr++Fhipw9mGDfSxW+AmFrWOxtdHEXUGSpXxJeAUgUU8\n",
       "VcSpakIpoGpHVmhd+usdUDVISUhadzjTmz6Hvwx5zQIFItOEHU5S9l4DwQLkpoANdviqpC3aI2Fh\n",
       "1nkGamV4OgLm7wJH7tgGMETRPgQsWIzvUjPriE01toFLsAx9bQGrleAltR5YX9a5ab/YBV4TyJFz\n",
       "huVPEWtCSQGrjtFoD1kssINtjL1RM6frW7p+wJLMQqW0Qy6Y0uEYILWEaN4C1LYLJnElctz1hQWM\n",
       "TpJFmzftLfyDkYBKi0miphAyBGygBSXZk8QaTeHJkMiek0AJYpVEcE1K5m3YZgUjGu4NnkhsL2HB\n",
       "5PwEfYtWaid9XMfLzD4vLpNlhBLMut8bVTN7d2bHVspmu3Kdqf5xTf/9QzLXR0Ht8yh8A+cyeTRN\n",
       "zFRfAAAAAElFTkSuQmCC\n",
       "\" style=\"display:inline;vertical-align:middle;\" /></a><br>(see <a class=\"ProveItLink\" href=\"../../../__pv_it/theorems/80e9857cda20b5c80a64d0732b6c46a3344d9e420/dependencies.ipynb\">dependencies</a>)<br>"
      ],
      "text/plain": [
       "add_9_6: (9 + 6) = 15"
      ]
     },
     "execution_count": 2,
     "metadata": {},
     "output_type": "execute_result"
    }
   ],
   "source": [
    "%proving add_9_6"
   ]
  },
  {
   "cell_type": "code",
   "execution_count": null,
   "metadata": {},
   "outputs": [],
   "source": []
  }
 ],
 "metadata": {
  "kernelspec": {
   "display_name": "Python 3",
   "language": "python",
   "name": "python3"
  }
 },
 "nbformat": 4,
 "nbformat_minor": 0
}