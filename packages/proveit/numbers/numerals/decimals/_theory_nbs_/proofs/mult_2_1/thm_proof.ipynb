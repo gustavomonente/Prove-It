{
 "cells": [
  {
   "cell_type": "markdown",
   "metadata": {},
   "source": [
    "Proof of <a class=\"ProveItLink\" href=\"../../../../../../_theory_nbs_/theory.ipynb\">proveit</a>.<a class=\"ProveItLink\" href=\"../../../../../_theory_nbs_/theory.ipynb\">numbers</a>.<a class=\"ProveItLink\" href=\"../../../../_theory_nbs_/theory.ipynb\">numerals</a>.<a class=\"ProveItLink\" href=\"../../theory.ipynb\">decimals</a>.<a class=\"ProveItLink\" href=\"../../theorems.ipynb#mult_2_1\">mult_2_1</a> theorem\n",
    "========"
   ]
  },
  {
   "cell_type": "code",
   "execution_count": 1,
   "metadata": {},
   "outputs": [],
   "source": [
    "import proveit\n",
    "theory = proveit.Theory() # the theorem's theory"
   ]
  },
  {
   "cell_type": "code",
   "execution_count": 2,
   "metadata": {},
   "outputs": [
    {
     "data": {
      "text/html": [
       "Under these <a href=\"presumptions.txt\">presumptions</a>, we begin our proof of<br><strong id=\"mult_2_1\">mult_2_1:</strong> <a class=\"ProveItLink\" href=\"../../../__pv_it/theorems/3641bdd474ec2466d47574dd68de345045e960540/expr.ipynb\"><img src=\"data:image/png;base64,iVBORw0KGgoAAAANSUhEUgAAAFcAAAAUBAMAAAAKKrydAAAAMFBMVEX///9UVFTMzMx2dna6uroQ\n",
       "EBCqqqqIiIgiIiJmZmYyMjJERETu7u6YmJjc3NwAAAC+aOQFAAAAAXRSTlMAQObYZgAAAUFJREFU\n",
       "KM91k7tKxEAUhv/sJZd1E7YR7DbgC0S2WNbGLe20ULDwBWzst5GIYGssFxXWUgsFW1FiISgW+gQy\n",
       "5VYiaiFL2DEzysS55C8mhz9fZs6ZcwIEL9C0jRI9AY9HV7JnEZVqDq/D/HGBZgtLfWHbm/mrkQrf\n",
       "ofoF+Am8FPVV4S5k+dpV4WNgHXAJ6jGsqbB9Bt+r8AbQJhgDjQzWhww3+gp8maIdYsBjN5PhaqLf\n",
       "xEGKGx6sRDLs8woXz5nOfv3aJ7DPo11+PQVsx9rGbgtYY4HHT30eCbjyrsFD/MED8W0p7LD9WBp2\n",
       "gjc551pc5HzK7S0EhBc4D+yYCvynSgSHoAcEe53DoiCHwV6kwONObw5YzjtAKRWwNzs5ya1QbQql\n",
       "37zdBj2YJ9RPTG63ZJ5vDZ4+osXwa5ohJbDpt3o1oz8oalU6hrCFQwAAAABJRU5ErkJggg==\n",
       "\" style=\"display:inline;vertical-align:middle;\" /></a><br>(see <a class=\"ProveItLink\" href=\"../../../__pv_it/theorems/8a0ae1b1978b0f379ae8f39c6b1cc6987aedd3120/dependencies.ipynb\">dependencies</a>)<br>"
      ],
      "text/plain": [
       "mult_2_1: (2 * 1) = 2"
      ]
     },
     "execution_count": 2,
     "metadata": {},
     "output_type": "execute_result"
    }
   ],
   "source": [
    "%proving mult_2_1"
   ]
  },
  {
   "cell_type": "code",
   "execution_count": null,
   "metadata": {},
   "outputs": [],
   "source": []
  }
 ],
 "metadata": {
  "kernelspec": {
   "display_name": "Python 3",
   "language": "python",
   "name": "python3"
  }
 },
 "nbformat": 4,
 "nbformat_minor": 0
}