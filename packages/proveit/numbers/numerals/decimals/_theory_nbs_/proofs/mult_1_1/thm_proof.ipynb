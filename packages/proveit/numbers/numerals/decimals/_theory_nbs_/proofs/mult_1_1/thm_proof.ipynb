{
 "cells": [
  {
   "cell_type": "markdown",
   "metadata": {},
   "source": [
    "Proof of <a class=\"ProveItLink\" href=\"../../../../../../_theory_nbs_/theory.ipynb\">proveit</a>.<a class=\"ProveItLink\" href=\"../../../../../_theory_nbs_/theory.ipynb\">numbers</a>.<a class=\"ProveItLink\" href=\"../../../../_theory_nbs_/theory.ipynb\">numerals</a>.<a class=\"ProveItLink\" href=\"../../theory.ipynb\">decimals</a>.<a class=\"ProveItLink\" href=\"../../theorems.ipynb#mult_1_1\">mult_1_1</a> theorem\n",
    "========"
   ]
  },
  {
   "cell_type": "code",
   "execution_count": 1,
   "metadata": {},
   "outputs": [],
   "source": [
    "import proveit\n",
    "theory = proveit.Theory() # the theorem's theory"
   ]
  },
  {
   "cell_type": "code",
   "execution_count": 2,
   "metadata": {},
   "outputs": [
    {
     "data": {
      "text/html": [
       "Under these <a href=\"presumptions.txt\">presumptions</a>, we begin our proof of<br><strong id=\"mult_1_1\">mult_1_1:</strong> <a class=\"ProveItLink\" href=\"../../../__pv_it/theorems/3411e3640a401f01201ce04ef4f2ebfe4da596d60/expr.ipynb\"><img src=\"data:image/png;base64,iVBORw0KGgoAAAANSUhEUgAAAFYAAAAUBAMAAADl6NejAAAAMFBMVEX////MzMxUVFR2dna6uroQ\n",
       "EBCqqqqIiIgiIiJmZmYyMjJERETu7u6YmJjc3NwAAACgK8IjAAAAAXRSTlMAQObYZgAAANZJREFU\n",
       "KM9jYOC7wIAB8hiwg9NYxJgeYFe7DohTDyD4bDEMDDwLMJSBhHknMPAo6yPUHjL6AyTN0ZWChTlA\n",
       "1t1HMpcXpPYohrkg4RcM2NRyOWBTW4lVLfMEbGr3YlXLC/ac1SoQWAkXbkOo5UGoZWvAZm4IQu35\n",
       "BXC1jB8IqOVQIKC2Dat7WRoQ7l1ElN/QzbUEMeqR1LKD1HIaoKsFCXsA6UnxK+GJjVP111xgXAig\n",
       "KQULc2BNUiewJjPeCdhEzbGnyX1YxLCkSZxpnRtHWseWh+5hVQkAlxtUGtffaMkAAAAASUVORK5C\n",
       "YII=\n",
       "\" style=\"display:inline;vertical-align:middle;\" /></a><br>(see <a class=\"ProveItLink\" href=\"../../../__pv_it/theorems/c3396aa6173e9fe2c4fb376a21dbc10e0fd6b9980/dependencies.ipynb\">dependencies</a>)<br>"
      ],
      "text/plain": [
       "mult_1_1: (1 * 1) = 1"
      ]
     },
     "execution_count": 2,
     "metadata": {},
     "output_type": "execute_result"
    }
   ],
   "source": [
    "%proving mult_1_1"
   ]
  },
  {
   "cell_type": "code",
   "execution_count": null,
   "metadata": {},
   "outputs": [],
   "source": []
  }
 ],
 "metadata": {
  "kernelspec": {
   "display_name": "Python 3",
   "language": "python",
   "name": "python3"
  }
 },
 "nbformat": 4,
 "nbformat_minor": 0
}