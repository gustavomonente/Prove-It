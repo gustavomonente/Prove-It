{
 "cells": [
  {
   "cell_type": "markdown",
   "metadata": {},
   "source": [
    "Proof of <a class=\"ProveItLink\" href=\"../../../../../../_theory_nbs_/theory.ipynb\">proveit</a>.<a class=\"ProveItLink\" href=\"../../../../../_theory_nbs_/theory.ipynb\">numbers</a>.<a class=\"ProveItLink\" href=\"../../../../_theory_nbs_/theory.ipynb\">numerals</a>.<a class=\"ProveItLink\" href=\"../../theory.ipynb\">decimals</a>.<a class=\"ProveItLink\" href=\"../../theorems.ipynb#mult_6_1\">mult_6_1</a> theorem\n",
    "========"
   ]
  },
  {
   "cell_type": "code",
   "execution_count": 1,
   "metadata": {},
   "outputs": [],
   "source": [
    "import proveit\n",
    "theory = proveit.Theory() # the theorem's theory"
   ]
  },
  {
   "cell_type": "code",
   "execution_count": 2,
   "metadata": {},
   "outputs": [
    {
     "data": {
      "text/html": [
       "Under these <a href=\"presumptions.txt\">presumptions</a>, we begin our proof of<br><strong id=\"mult_6_1\">mult_6_1:</strong> <a class=\"ProveItLink\" href=\"../../../__pv_it/theorems/e0de1f57228d79a0ace49940d440391e448fab160/expr.ipynb\"><img src=\"data:image/png;base64,iVBORw0KGgoAAAANSUhEUgAAAFcAAAAUBAMAAAAKKrydAAAAMFBMVEX///9UVFTMzMx2dna6uroQ\n",
       "EBCqqqqIiIgiIiJmZmYyMjJERETu7u6YmJjc3NwAAAC+aOQFAAAAAXRSTlMAQObYZgAAAU1JREFU\n",
       "KM9jYOC7wIAB8hhwgNNAbF6sgCLG+ABDGXO5EZBcx8BwyoFzAVyULYaBgWcBulqeJQyzGBh4JzAw\n",
       "7GTg3gATPWj4B2QVumLuCQy7GRg4HjCw/EMW5gUpPoqu2B/ssBdAXQEYirkc0BRvBZOVDAz8i8yn\n",
       "oClmnoCm+JdyJVD/XgaG82sZOBJQFfOCfWi1CgRWgvz36wJDGwMInf/AwBkDEkEoZmtAC4z/DAxT\n",
       "DzCEAJ3RwMD7BShyfgFcMdMHNGf8YGC47wBSzLGAgfcvUIBDALfiLqBisEsYAyAmI7mZpQHh5oUg\n",
       "pijYZKAHmf4wcAZg8yAS0D/AMJWBwRLIEmY4iggNdpBiTgM0xYwGPGEMDB6gUJ0sBBflFP01Fxgp\n",
       "CuhRaGmoAI5uLOAE9hTKOwGbqDmO9LwPixhmEkVK/BgJ8gEOxdiy1T3sSgE8V1eea/S1WwAAAABJ\n",
       "RU5ErkJggg==\n",
       "\" style=\"display:inline;vertical-align:middle;\" /></a><br>(see <a class=\"ProveItLink\" href=\"../../../__pv_it/theorems/be87b5218b2b39d1a072c6245d445af922993eea0/dependencies.ipynb\">dependencies</a>)<br>"
      ],
      "text/plain": [
       "mult_6_1: (6 * 1) = 6"
      ]
     },
     "execution_count": 2,
     "metadata": {},
     "output_type": "execute_result"
    }
   ],
   "source": [
    "%proving mult_6_1"
   ]
  },
  {
   "cell_type": "code",
   "execution_count": null,
   "metadata": {},
   "outputs": [],
   "source": []
  }
 ],
 "metadata": {
  "kernelspec": {
   "display_name": "Python 3",
   "language": "python",
   "name": "python3"
  }
 },
 "nbformat": 4,
 "nbformat_minor": 0
}