{
 "cells": [
  {
   "cell_type": "markdown",
   "metadata": {},
   "source": [
    "Proof of <a class=\"ProveItLink\" href=\"../../../../../../_theory_nbs_/theory.ipynb\">proveit</a>.<a class=\"ProveItLink\" href=\"../../../../../_theory_nbs_/theory.ipynb\">numbers</a>.<a class=\"ProveItLink\" href=\"../../../../_theory_nbs_/theory.ipynb\">numerals</a>.<a class=\"ProveItLink\" href=\"../../theory.ipynb\">decimals</a>.<a class=\"ProveItLink\" href=\"../../theorems.ipynb#add_3_2\">add_3_2</a> theorem\n",
    "========"
   ]
  },
  {
   "cell_type": "code",
   "execution_count": 1,
   "metadata": {},
   "outputs": [],
   "source": [
    "import proveit\n",
    "theory = proveit.Theory() # the theorem's theory"
   ]
  },
  {
   "cell_type": "code",
   "execution_count": 2,
   "metadata": {},
   "outputs": [
    {
     "data": {
      "text/html": [
       "Under these <a href=\"presumptions.txt\">presumptions</a>, we begin our proof of<br><strong id=\"add_3_2\">add_3_2:</strong> <a class=\"ProveItLink\" href=\"../../../__pv_it/theorems/62e7d3413798d93c0373ecdf842366de7fff71f80/expr.ipynb\"><img src=\"data:image/png;base64,iVBORw0KGgoAAAANSUhEUgAAAGEAAAAUBAMAAABvx07iAAAAMFBMVEX////MzMxUVFR2dna6uroQ\n",
       "EBCqqqqIiIgiIiJmZmYyMjJERETu7u6YmJjc3NwAAACgK8IjAAAAAXRSTlMAQObYZgAAAXVJREFU\n",
       "KM91kzFLw0AUx/9tWlPbJs1HcFSXBjvUuthR9woi4lpcdHLoIgXRwcWAIAQKFscMtoOIIEoQBEGH\n",
       "fgCVA5e6CZbiUIgv14q5S/Ig7+7e3S/vvbv3AL2HaNmJseMZ+Chdi7a8fWsgyeSj2dfEGQ2X0C3s\n",
       "io4eoAyQb8tE2vNMQLOgDlFojm318dAC1oByyMfCPukMQ6qGQlsg1oEiw6NMJLnuc/0X1YTouCga\n",
       "yFYjiQbP9AACQXLiQrFk4q1hAHc00xdbMpH6phR5qIrDxadzrj4AjviBvapEZGaAqWb4LW6A2vje\n",
       "NkktOc6h41xwg01f4itMnDOf0BlyQ9GHakUR88By1Y+qMAoR2/5vUs1AHhQlNsiH62ee7iIzEoiE\n",
       "CZVNMg8IOT4GKnQnPfk9+qXKLDBtSsQntC1ghWar9pV4ux3P+6GiMCRCP51zeZUEpB5cPEUXuyY8\n",
       "7EtwUY7pj/u4xglX+39HRUuOxWzEdu17tPkX7H1hC+sB6WAAAAAASUVORK5CYII=\n",
       "\" style=\"display:inline;vertical-align:middle;\" /></a><br>(see <a class=\"ProveItLink\" href=\"../../../__pv_it/theorems/fd2417a8281289cd655b7af4225310ceee91209c0/dependencies.ipynb\">dependencies</a>)<br>"
      ],
      "text/plain": [
       "add_3_2: (3 + 2) = 5"
      ]
     },
     "execution_count": 2,
     "metadata": {},
     "output_type": "execute_result"
    }
   ],
   "source": [
    "%proving add_3_2"
   ]
  },
  {
   "cell_type": "code",
   "execution_count": null,
   "metadata": {},
   "outputs": [],
   "source": []
  }
 ],
 "metadata": {
  "kernelspec": {
   "display_name": "Python 3",
   "language": "python",
   "name": "python3"
  }
 },
 "nbformat": 4,
 "nbformat_minor": 0
}