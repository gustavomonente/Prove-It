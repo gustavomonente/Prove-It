{
 "cells": [
  {
   "cell_type": "markdown",
   "metadata": {},
   "source": [
    "Proof of <a class=\"ProveItLink\" href=\"../../../../../../_theory_nbs_/theory.ipynb\">proveit</a>.<a class=\"ProveItLink\" href=\"../../../../../_theory_nbs_/theory.ipynb\">numbers</a>.<a class=\"ProveItLink\" href=\"../../../../_theory_nbs_/theory.ipynb\">numerals</a>.<a class=\"ProveItLink\" href=\"../../theory.ipynb\">decimals</a>.<a class=\"ProveItLink\" href=\"../../theorems.ipynb#add_8_6\">add_8_6</a> theorem\n",
    "========"
   ]
  },
  {
   "cell_type": "code",
   "execution_count": 1,
   "metadata": {},
   "outputs": [],
   "source": [
    "import proveit\n",
    "theory = proveit.Theory() # the theorem's theory"
   ]
  },
  {
   "cell_type": "code",
   "execution_count": 2,
   "metadata": {},
   "outputs": [
    {
     "data": {
      "text/html": [
       "Under these <a href=\"presumptions.txt\">presumptions</a>, we begin our proof of<br><strong id=\"add_8_6\">add_8_6:</strong> <a class=\"ProveItLink\" href=\"../../../__pv_it/theorems/c0b5dd420371ff3471bbbf4527d3db2bff05f9230/expr.ipynb\"><img src=\"data:image/png;base64,iVBORw0KGgoAAAANSUhEUgAAAGwAAAAUBAMAAACaOcVSAAAAMFBMVEX////MzMxUVFR2dna6uroQ\n",
       "EBCqqqqIiIgiIiJmZmYyMjJERETu7u6YmJjc3NwAAACgK8IjAAAAAXRSTlMAQObYZgAAAYZJREFU\n",
       "OMuVlDFIAmEUx/96aop+JW1NGc6mU1Itjo4ibQVFENYmODV5BDUfKYSbSkuHhWtDIkQIFnhzS44t\n",
       "QUO2lNn7zivu8+6MHtz33fve+9179773fcCsBnvx9TFF7oFOoTy5miyEseyELNBzBShw74iGbipQ\n",
       "RdcK7LX5eAQwBT4Noep4OWeYrxFsQspPQKFonGMzWcDfh9RESBYwz5fulbFEe+LYSx14JqePtqQJ\n",
       "WHAMnNtjCcIOaY4PVyBgc7UkL9KqLcb6hN2QIo0aIta7hJ+K9MjfJVUX5RfrgLATUg7Sg5SIvSKw\n",
       "BezbRktwbIOiRlAkJ6yp6rGq1nmSMtgbsGiH+cIG5m3D9S5E81fBhg7YLYwke6THBMyd0aOlTf8W\n",
       "+cF2K5XBGS+Jl5qvJWCuTwQyRkmsG4CsXmRPAywvdkkUd1TJkgUr6tjmOJH5UlncAEilJRprk9Tp\n",
       "9gX1xfooxpvLJDmhBWXnc8MUs/ZgViytbJaWo6X7xzH99wdJHC8FNuVS+Aa7/XR02hVgTwAAAABJ\n",
       "RU5ErkJggg==\n",
       "\" style=\"display:inline;vertical-align:middle;\" /></a><br>(see <a class=\"ProveItLink\" href=\"../../../__pv_it/theorems/53a5b05c9cd3580b50f899bc8824c350702c6cde0/dependencies.ipynb\">dependencies</a>)<br>"
      ],
      "text/plain": [
       "add_8_6: (8 + 6) = 14"
      ]
     },
     "execution_count": 2,
     "metadata": {},
     "output_type": "execute_result"
    }
   ],
   "source": [
    "%proving add_8_6"
   ]
  },
  {
   "cell_type": "code",
   "execution_count": null,
   "metadata": {},
   "outputs": [],
   "source": []
  }
 ],
 "metadata": {
  "kernelspec": {
   "display_name": "Python 3",
   "language": "python",
   "name": "python3"
  }
 },
 "nbformat": 4,
 "nbformat_minor": 0
}