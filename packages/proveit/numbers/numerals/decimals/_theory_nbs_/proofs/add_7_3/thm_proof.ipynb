{
 "cells": [
  {
   "cell_type": "markdown",
   "metadata": {},
   "source": [
    "Proof of <a class=\"ProveItLink\" href=\"../../../../../../_theory_nbs_/theory.ipynb\">proveit</a>.<a class=\"ProveItLink\" href=\"../../../../../_theory_nbs_/theory.ipynb\">numbers</a>.<a class=\"ProveItLink\" href=\"../../../../_theory_nbs_/theory.ipynb\">numerals</a>.<a class=\"ProveItLink\" href=\"../../theory.ipynb\">decimals</a>.<a class=\"ProveItLink\" href=\"../../theorems.ipynb#add_7_3\">add_7_3</a> theorem\n",
    "========"
   ]
  },
  {
   "cell_type": "code",
   "execution_count": 1,
   "metadata": {},
   "outputs": [],
   "source": [
    "import proveit\n",
    "theory = proveit.Theory() # the theorem's theory"
   ]
  },
  {
   "cell_type": "code",
   "execution_count": 2,
   "metadata": {},
   "outputs": [
    {
     "data": {
      "text/html": [
       "Under these <a href=\"presumptions.txt\">presumptions</a>, we begin our proof of<br><strong id=\"add_7_3\">add_7_3:</strong> <a class=\"ProveItLink\" href=\"../../../__pv_it/theorems/037dfb456649402ce727a2241ed9b4387b09a3280/expr.ipynb\"><img src=\"data:image/png;base64,iVBORw0KGgoAAAANSUhEUgAAAGwAAAAUBAMAAACaOcVSAAAAMFBMVEX///9UVFTMzMx2dna6uroQ\n",
       "EBCqqqqIiIgiIiJmZmYyMjJERETu7u6YmJjc3NwAAAC+aOQFAAAAAXRSTlMAQObYZgAAAYFJREFU\n",
       "OMuVlL9Lw0AUx78kbaw0lwTdtf+BYhd1clO3DsVJcJK62UVEQayIXVwinQSHKiKYQTqIm1IQQarQ\n",
       "zC4GXNxKKaQIgXi5qCSXH+AbXnjv8sl7+d69AxQT8SZZSLEXCAeNYjGc/CjeARPxgLg3Q/0NiOu6\n",
       "/dCKomPTRCeKrLeBKzxbIDpGaTean674jxEbag1ilYPk8ck2SAliEzkLIi1cCGGZMtQm5FKk2nsb\n",
       "eQ2Sg08WLiKEUaNN4jIOUzVkbOywsMVj8iF1c3FYV0dmiHsmjslhyuwZ9W9szWCm/2K9aQhD1L2o\n",
       "i0iTWwvARly1ng5hgLIX7bLcvGEcGca5/0J2FZhKbpJhx1w1xULeTsCoJJLtN9nnMNVh2FLg37S/\n",
       "DWiBOEwS4YvDsi3knB9J+Gr+dnsiSwMOIybbt0YE26eHq46nAmtEWeGVXD69pf6Cp07Wrk08bo/B\n",
       "O1wBq4SOYC15bogejF5DE1JNmbeHxJVO+pj+/4OeHkmXAkm5FL4BTWl1V6/qy9sAAAAASUVORK5C\n",
       "YII=\n",
       "\" style=\"display:inline;vertical-align:middle;\" /></a><br>(see <a class=\"ProveItLink\" href=\"../../../__pv_it/theorems/531f0534bde30d253c23e820dd738e3ae57cd7de0/dependencies.ipynb\">dependencies</a>)<br>"
      ],
      "text/plain": [
       "add_7_3: (7 + 3) = 10"
      ]
     },
     "execution_count": 2,
     "metadata": {},
     "output_type": "execute_result"
    }
   ],
   "source": [
    "%proving add_7_3"
   ]
  },
  {
   "cell_type": "code",
   "execution_count": null,
   "metadata": {},
   "outputs": [],
   "source": []
  }
 ],
 "metadata": {
  "kernelspec": {
   "display_name": "Python 3",
   "language": "python",
   "name": "python3"
  }
 },
 "nbformat": 4,
 "nbformat_minor": 0
}