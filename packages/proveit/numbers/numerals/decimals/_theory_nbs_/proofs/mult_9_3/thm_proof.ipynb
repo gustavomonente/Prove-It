{
 "cells": [
  {
   "cell_type": "markdown",
   "metadata": {},
   "source": [
    "Proof of <a class=\"ProveItLink\" href=\"../../../../../../_theory_nbs_/theory.ipynb\">proveit</a>.<a class=\"ProveItLink\" href=\"../../../../../_theory_nbs_/theory.ipynb\">numbers</a>.<a class=\"ProveItLink\" href=\"../../../../_theory_nbs_/theory.ipynb\">numerals</a>.<a class=\"ProveItLink\" href=\"../../theory.ipynb\">decimals</a>.<a class=\"ProveItLink\" href=\"../../theorems.ipynb#mult_9_3\">mult_9_3</a> theorem\n",
    "========"
   ]
  },
  {
   "cell_type": "code",
   "execution_count": 1,
   "metadata": {},
   "outputs": [],
   "source": [
    "import proveit\n",
    "theory = proveit.Theory() # the theorem's theory"
   ]
  },
  {
   "cell_type": "code",
   "execution_count": 2,
   "metadata": {},
   "outputs": [
    {
     "data": {
      "text/html": [
       "Under these <a href=\"presumptions.txt\">presumptions</a>, we begin our proof of<br><strong id=\"mult_9_3\">mult_9_3:</strong> <a class=\"ProveItLink\" href=\"../../../__pv_it/theorems/d319a89f6c1a663837463a0c8875072eb46be3d50/expr.ipynb\"><img src=\"data:image/png;base64,iVBORw0KGgoAAAANSUhEUgAAAGIAAAAUBAMAAACE8PXhAAAAMFBMVEX////MzMxUVFR2dna6uroQ\n",
       "EBCqqqqIiIgiIiJmZmYyMjJERETu7u6YmJjc3NwAAACgK8IjAAAAAXRSTlMAQObYZgAAAZtJREFU\n",
       "KM99Uz1Iw0AYfU2rqW1SCy5uzaiLrWQoVYQugqNDC4IKBScXdXWyk+Bk1qBIcFP86eYgahCEikPd\n",
       "nNSAFOoiFUVErPG7tE3hEvLB3XHfu3f3vp8DEvfw2AqC7A64VcfcbUKdLEGw+FOSfp7E8KiqZoAT\n",
       "SIuom13oFf0tSAbPuEb4E8+2bSuQNQizELQutFHCN5DlGbtAEXuAAEQtDBoIN7vQdB4/wA3PmAPS\n",
       "FikaBxpArQLxrweSKsTyHOPURDoJRNaAdaDPYCJdq9JVYc2bom2KNU7rBZikWMsFXrYIkZ3QJw6Z\n",
       "HbT9kQ+apmhs0jjD0hfLYBsSC6Ss7HkiqtAJFm6BKX8Yeqel1slp0USo6WHo7DKjw6Ck/XZuwRtw\n",
       "VfJhiCyyaKWjinKjdBHbZIxIuRfHvuNfRoLqoLQjlxeQctti3kmKzBc9lIFoIcUeytGDR9KxCz06\n",
       "9RjIcIyGmhsBVpl7hoaq9woW0XdoE0vyFbRtap56CU6X+Fg1oNllzc+bDfoflz4+b7dzP8pjcSuI\n",
       "4fdrnwLO/wPz/ms+mCaFRwAAAABJRU5ErkJggg==\n",
       "\" style=\"display:inline;vertical-align:middle;\" /></a><br>(see <a class=\"ProveItLink\" href=\"../../../__pv_it/theorems/8c239de4d4b671e36512cd1bf89e31822d2c9e450/dependencies.ipynb\">dependencies</a>)<br>"
      ],
      "text/plain": [
       "mult_9_3: (9 * 3) = 27"
      ]
     },
     "execution_count": 2,
     "metadata": {},
     "output_type": "execute_result"
    }
   ],
   "source": [
    "%proving mult_9_3"
   ]
  },
  {
   "cell_type": "code",
   "execution_count": null,
   "metadata": {},
   "outputs": [],
   "source": []
  }
 ],
 "metadata": {
  "kernelspec": {
   "display_name": "Python 3",
   "language": "python",
   "name": "python3"
  }
 },
 "nbformat": 4,
 "nbformat_minor": 0
}