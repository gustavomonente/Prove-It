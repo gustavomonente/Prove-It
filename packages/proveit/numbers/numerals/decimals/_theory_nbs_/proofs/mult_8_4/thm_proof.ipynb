{
 "cells": [
  {
   "cell_type": "markdown",
   "metadata": {},
   "source": [
    "Proof of <a class=\"ProveItLink\" href=\"../../../../../../_theory_nbs_/theory.ipynb\">proveit</a>.<a class=\"ProveItLink\" href=\"../../../../../_theory_nbs_/theory.ipynb\">numbers</a>.<a class=\"ProveItLink\" href=\"../../../../_theory_nbs_/theory.ipynb\">numerals</a>.<a class=\"ProveItLink\" href=\"../../theory.ipynb\">decimals</a>.<a class=\"ProveItLink\" href=\"../../theorems.ipynb#mult_8_4\">mult_8_4</a> theorem\n",
    "========"
   ]
  },
  {
   "cell_type": "code",
   "execution_count": 1,
   "metadata": {},
   "outputs": [],
   "source": [
    "import proveit\n",
    "theory = proveit.Theory() # the theorem's theory"
   ]
  },
  {
   "cell_type": "code",
   "execution_count": 2,
   "metadata": {},
   "outputs": [
    {
     "data": {
      "text/html": [
       "Under these <a href=\"presumptions.txt\">presumptions</a>, we begin our proof of<br><strong id=\"mult_8_4\">mult_8_4:</strong> <a class=\"ProveItLink\" href=\"../../../__pv_it/theorems/94b13e2ac72e610d702566889642e1a2723622140/expr.ipynb\"><img src=\"data:image/png;base64,iVBORw0KGgoAAAANSUhEUgAAAGEAAAAUBAMAAABvx07iAAAAMFBMVEX////MzMxUVFR2dna6uroQ\n",
       "EBCqqqqIiIgiIiJmZmYyMjJERETu7u6YmJjc3NwAAACgK8IjAAAAAXRSTlMAQObYZgAAAZZJREFU\n",
       "KM99k79Lw1AQx78xaas1KcW/oKMO0kDBUl26CP0DLCg6xLGLFMTBqZ0EJwO6BAXFTRHbXWyDIBYc\n",
       "2lmwBFzqIuIvilLivahNfAm54f24d597d/fuAYkOfLKGMLkFbtb3PApBx4jFWyUycxpk4yJJ63OA\n",
       "TDT3cDQF+YgnHhEd4AriG6DoiHb+mWykgCxPVDT0cQAUyaMFsQ656t5/R8Q1T8zn8YlFIG2hB0hf\n",
       "puimL8aJiOd9+VJUNRPpJDZpkx7MuCddRoi6j2ipbNwxccnc2mfDA7nMCMXJa/aUyYmjf9g2aZRe\n",
       "gS2aS4V3FoXsBAVGRKu+O2ILP3UEzUoKlRXatpnjVYcQnv0PV6RLDDhExITw8etAVoOJJ6CpIcbS\n",
       "o6jaNE3/VWTKOFwqQ6q6eRyzpW0yooSExTKPUE80XHeRYeYeWWZlElTELOSoAGdQyh6iDoypHHHP\n",
       "3qOXyU0CBdpO7Ho6UWy+dBBPcoRk7OdRs+2+0yUB0gppdkUP0mbD/kcjQOfvdu5H+WTcCiOCfm03\n",
       "xP4b3adqb8wwzlQAAAAASUVORK5CYII=\n",
       "\" style=\"display:inline;vertical-align:middle;\" /></a><br>(see <a class=\"ProveItLink\" href=\"../../../__pv_it/theorems/f3246eba1983b06e3cb2d0b67a6e65cc864f55570/dependencies.ipynb\">dependencies</a>)<br>"
      ],
      "text/plain": [
       "mult_8_4: (8 * 4) = 32"
      ]
     },
     "execution_count": 2,
     "metadata": {},
     "output_type": "execute_result"
    }
   ],
   "source": [
    "%proving mult_8_4"
   ]
  },
  {
   "cell_type": "code",
   "execution_count": null,
   "metadata": {},
   "outputs": [],
   "source": []
  }
 ],
 "metadata": {
  "kernelspec": {
   "display_name": "Python 3",
   "language": "python",
   "name": "python3"
  }
 },
 "nbformat": 4,
 "nbformat_minor": 0
}