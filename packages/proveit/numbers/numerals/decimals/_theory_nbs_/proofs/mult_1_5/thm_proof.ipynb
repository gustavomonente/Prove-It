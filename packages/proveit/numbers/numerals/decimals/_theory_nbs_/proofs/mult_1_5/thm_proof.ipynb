{
 "cells": [
  {
   "cell_type": "markdown",
   "metadata": {},
   "source": [
    "Proof of <a class=\"ProveItLink\" href=\"../../../../../../_theory_nbs_/theory.ipynb\">proveit</a>.<a class=\"ProveItLink\" href=\"../../../../../_theory_nbs_/theory.ipynb\">numbers</a>.<a class=\"ProveItLink\" href=\"../../../../_theory_nbs_/theory.ipynb\">numerals</a>.<a class=\"ProveItLink\" href=\"../../theory.ipynb\">decimals</a>.<a class=\"ProveItLink\" href=\"../../theorems.ipynb#mult_1_5\">mult_1_5</a> theorem\n",
    "========"
   ]
  },
  {
   "cell_type": "code",
   "execution_count": 1,
   "metadata": {},
   "outputs": [],
   "source": [
    "import proveit\n",
    "theory = proveit.Theory() # the theorem's theory"
   ]
  },
  {
   "cell_type": "code",
   "execution_count": 2,
   "metadata": {},
   "outputs": [
    {
     "data": {
      "text/html": [
       "Under these <a href=\"presumptions.txt\">presumptions</a>, we begin our proof of<br><strong id=\"mult_1_5\">mult_1_5:</strong> <a class=\"ProveItLink\" href=\"../../../__pv_it/theorems/a302d34a57bb16c6021e751019a521bce3fe22020/expr.ipynb\"><img src=\"data:image/png;base64,iVBORw0KGgoAAAANSUhEUgAAAFcAAAAUBAMAAAAKKrydAAAAMFBMVEX////MzMxUVFR2dna6uroQ\n",
       "EBCqqqqIiIgiIiJmZmYyMjJERETu7u6YmJjc3NwAAACgK8IjAAAAAXRSTlMAQObYZgAAARNJREFU\n",
       "KM9jYOC7wIAB8hhwgNOoXK47jNMYmB6gqwILMzCsA+LUA3BR1v//DRh4FqArBgsz8E5g4FHWRyjm\n",
       "MqoDkuYYJoOFOUA23kcoZgKTR9EVQ4RfMGBTzOWAVXEluuK7lQIMDMwT0BWDhfeiKeY+wPcF6BOw\n",
       "D61WgcBKhHAbQjEPVP0OBga2BswwBgqHIBSfhwbY/AcMjB8wFQOFkRRzKAAJLQYGewdMxRDhNjQ3\n",
       "RwGNOMDA0oBw8yKEMLoHgcHQBfMgEoAIW4KY9QjFLxl44xgYOA3QFEOEPYCsSfEr4UmPb7ImUCeX\n",
       "AJpiiDDHA2xJ8QT2FMo7AZuoOY70vA+LGGYSxZ74IXH+AIdibNnqHnalAPWcV6yVHAAjAAAAAElF\n",
       "TkSuQmCC\n",
       "\" style=\"display:inline;vertical-align:middle;\" /></a><br>(see <a class=\"ProveItLink\" href=\"../../../__pv_it/theorems/e0c941177a6a7e4d62f9c1123341ab54f89d2a4b0/dependencies.ipynb\">dependencies</a>)<br>"
      ],
      "text/plain": [
       "mult_1_5: (1 * 5) = 5"
      ]
     },
     "execution_count": 2,
     "metadata": {},
     "output_type": "execute_result"
    }
   ],
   "source": [
    "%proving mult_1_5"
   ]
  },
  {
   "cell_type": "code",
   "execution_count": null,
   "metadata": {},
   "outputs": [],
   "source": []
  }
 ],
 "metadata": {
  "kernelspec": {
   "display_name": "Python 3",
   "language": "python",
   "name": "python3"
  }
 },
 "nbformat": 4,
 "nbformat_minor": 0
}