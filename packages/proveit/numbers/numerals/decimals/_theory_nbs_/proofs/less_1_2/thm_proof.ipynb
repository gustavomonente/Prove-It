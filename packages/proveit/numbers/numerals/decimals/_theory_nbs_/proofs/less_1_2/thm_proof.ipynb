{
 "cells": [
  {
   "cell_type": "markdown",
   "metadata": {},
   "source": [
    "Proof of <a class=\"ProveItLink\" href=\"../../../../../../_theory_nbs_/theory.ipynb\">proveit</a>.<a class=\"ProveItLink\" href=\"../../../../../_theory_nbs_/theory.ipynb\">numbers</a>.<a class=\"ProveItLink\" href=\"../../../../_theory_nbs_/theory.ipynb\">numerals</a>.<a class=\"ProveItLink\" href=\"../../theory.ipynb\">decimals</a>.<a class=\"ProveItLink\" href=\"../../theorems.ipynb#less_1_2\">less_1_2</a> theorem\n",
    "========"
   ]
  },
  {
   "cell_type": "code",
   "execution_count": 1,
   "metadata": {},
   "outputs": [],
   "source": [
    "import proveit\n",
    "theory = proveit.Theory() # the theorem's theory"
   ]
  },
  {
   "cell_type": "code",
   "execution_count": 2,
   "metadata": {},
   "outputs": [
    {
     "data": {
      "text/html": [
       "Under these <a href=\"presumptions.txt\">presumptions</a>, we begin our proof of<br><strong id=\"less_1_2\">less_1_2:</strong> <a class=\"ProveItLink\" href=\"../../../__pv_it/theorems/de566d14109e3353602244bae3447431ee27dc570/expr.ipynb\"><img src=\"data:image/png;base64,iVBORw0KGgoAAAANSUhEUgAAADAAAAAPBAMAAABQAFHMAAAAMFBMVEX///+6urpERETc3NwiIiLM\n",
       "zMwyMjJmZmaIiIiYmJh2dnZUVFTu7u4QEBCqqqoAAAD7YXnbAAAAAXRSTlMAQObYZgAAAJVJREFU\n",
       "GNNjYMACjhepAkm+O+jiPBsY1gswnF79B0nsWQCQYD/AwHuBgYETSWJKMYjkdWDg/owi0bIGTLH9\n",
       "YeD+iiTBs6QBroTlD0KCp2QCwkz5BQiJbQ+QHOHNAJfgQZZgL0BIMDAjGdXOwIDVcr4CBmNszmWI\n",
       "YmBoZmDgwPAgs9eqagcG9r3fKtGChO3///8ODLgAAJC0L58BnxxZAAAAAElFTkSuQmCC\n",
       "\" style=\"display:inline;vertical-align:middle;\" /></a><br>(see <a class=\"ProveItLink\" href=\"../../../__pv_it/theorems/0d83250b237853d1b85a34c20667edbf202890580/dependencies.ipynb\">dependencies</a>)<br>"
      ],
      "text/plain": [
       "less_1_2: 1 < 2"
      ]
     },
     "execution_count": 2,
     "metadata": {},
     "output_type": "execute_result"
    }
   ],
   "source": [
    "%proving less_1_2"
   ]
  },
  {
   "cell_type": "code",
   "execution_count": null,
   "metadata": {},
   "outputs": [],
   "source": []
  }
 ],
 "metadata": {
  "kernelspec": {
   "display_name": "Python 3",
   "language": "python",
   "name": "python3"
  }
 },
 "nbformat": 4,
 "nbformat_minor": 0
}