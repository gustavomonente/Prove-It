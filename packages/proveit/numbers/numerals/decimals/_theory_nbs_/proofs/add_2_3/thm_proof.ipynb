{
 "cells": [
  {
   "cell_type": "markdown",
   "metadata": {},
   "source": [
    "Proof of <a class=\"ProveItLink\" href=\"../../../../../../_theory_nbs_/theory.ipynb\">proveit</a>.<a class=\"ProveItLink\" href=\"../../../../../_theory_nbs_/theory.ipynb\">numbers</a>.<a class=\"ProveItLink\" href=\"../../../../_theory_nbs_/theory.ipynb\">numerals</a>.<a class=\"ProveItLink\" href=\"../../theory.ipynb\">decimals</a>.<a class=\"ProveItLink\" href=\"../../theorems.ipynb#add_2_3\">add_2_3</a> theorem\n",
    "========"
   ]
  },
  {
   "cell_type": "code",
   "execution_count": 1,
   "metadata": {},
   "outputs": [],
   "source": [
    "import proveit\n",
    "theory = proveit.Theory() # the theorem's theory"
   ]
  },
  {
   "cell_type": "code",
   "execution_count": 2,
   "metadata": {},
   "outputs": [
    {
     "data": {
      "text/html": [
       "Under these <a href=\"presumptions.txt\">presumptions</a>, we begin our proof of<br><strong id=\"add_2_3\">add_2_3:</strong> <a class=\"ProveItLink\" href=\"../../../__pv_it/theorems/caae817c1512b17b84dc1fdeaef81b407eaee6890/expr.ipynb\"><img src=\"data:image/png;base64,iVBORw0KGgoAAAANSUhEUgAAAGEAAAAUBAMAAABvx07iAAAAMFBMVEX///9UVFTMzMx2dna6uroQ\n",
       "EBCqqqqIiIgiIiJmZmYyMjJERETu7u6YmJjc3NwAAAC+aOQFAAAAAXRSTlMAQObYZgAAAXNJREFU\n",
       "KM91kzFLw1AQx/9pm9qkTeiqU8EvEOlQ1MEugpsOdVGQbN3cs9SIKOhiRBCkg7pmcOjkor5FqOjg\n",
       "B7AScLGLiDiIVON7L4J5L8kN7967ez/ujrsDzAeky3qGHXfAbbcn2sz6rA0lkL/qj7kjqs5RqWKu\n",
       "KbiGKH6jcioTahhagOFBI1CXIls7Uhs2PoFGIsZUh56lAKoL5Ucg5pv4Am5kQuHnC0VHUN4FAiwr\n",
       "6M1UwuFnaSQRfZpw3pOJgVMDLvl90RKJ511CS+Sl530ujC4T8wPY4T82IcUYa9HM3GQvLoAW0xqP\n",
       "P+P7275/FrmWCXJvSeIkiAgHYoxX4NpOEhNgjWNZFT32J0aEhBEFN1ZHlV5XaAzCK58EOgKxCuyT\n",
       "v8pjQnPfA6bpFG3VD1yBGPB+aJZEDGGsAQu0U2EYikThuEu7p9ckwjwcJ3xKYtKOP/rpw24Ijb2P\n",
       "PxoZ+3GVtTjJaf/fqHQpBxmOzK19Sjf/AgoxYri4J3dRAAAAAElFTkSuQmCC\n",
       "\" style=\"display:inline;vertical-align:middle;\" /></a><br>(see <a class=\"ProveItLink\" href=\"../../../__pv_it/theorems/2fa9cd02fa7445148304d0c28b2e986d94e184520/dependencies.ipynb\">dependencies</a>)<br>"
      ],
      "text/plain": [
       "add_2_3: (2 + 3) = 5"
      ]
     },
     "execution_count": 2,
     "metadata": {},
     "output_type": "execute_result"
    }
   ],
   "source": [
    "%proving add_2_3"
   ]
  },
  {
   "cell_type": "code",
   "execution_count": null,
   "metadata": {},
   "outputs": [],
   "source": []
  }
 ],
 "metadata": {
  "kernelspec": {
   "display_name": "Python 3",
   "language": "python",
   "name": "python3"
  }
 },
 "nbformat": 4,
 "nbformat_minor": 0
}