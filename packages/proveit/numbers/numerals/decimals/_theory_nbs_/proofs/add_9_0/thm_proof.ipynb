{
 "cells": [
  {
   "cell_type": "markdown",
   "metadata": {},
   "source": [
    "Proof of <a class=\"ProveItLink\" href=\"../../../../../../_theory_nbs_/theory.ipynb\">proveit</a>.<a class=\"ProveItLink\" href=\"../../../../../_theory_nbs_/theory.ipynb\">numbers</a>.<a class=\"ProveItLink\" href=\"../../../../_theory_nbs_/theory.ipynb\">numerals</a>.<a class=\"ProveItLink\" href=\"../../theory.ipynb\">decimals</a>.<a class=\"ProveItLink\" href=\"../../theorems.ipynb#add_9_0\">add_9_0</a> theorem\n",
    "========"
   ]
  },
  {
   "cell_type": "code",
   "execution_count": 1,
   "metadata": {},
   "outputs": [],
   "source": [
    "import proveit\n",
    "theory = proveit.Theory() # the theorem's theory"
   ]
  },
  {
   "cell_type": "code",
   "execution_count": 2,
   "metadata": {},
   "outputs": [
    {
     "data": {
      "text/html": [
       "Under these <a href=\"presumptions.txt\">presumptions</a>, we begin our proof of<br><strong id=\"add_9_0\">add_9_0:</strong> <a class=\"ProveItLink\" href=\"../../../__pv_it/theorems/91fb4840f3620e4837c76c9252d5188772327b350/expr.ipynb\"><img src=\"data:image/png;base64,iVBORw0KGgoAAAANSUhEUgAAAGEAAAAUBAMAAABvx07iAAAAMFBMVEX////MzMxUVFR2dna6uroQ\n",
       "EBCqqqqIiIgiIiJmZmYyMjJERETu7u6YmJjc3NwAAACgK8IjAAAAAXRSTlMAQObYZgAAAYBJREFU\n",
       "KM91k7tLA0EQh78kmsTkLgb8A2JjYaPBFEGbpLRTwUoiHFik0kQ7bbTRUgLa2Inl4QsbC1GuCfgC\n",
       "AxLs9BrBMj4QfOLmFL1d76bZ2dn9+M0wM5Co4W1TPnHO4CTTowSzl0mCtvpVW+lrxrbRxrm1pKeY\n",
       "oS2jratEtZYogF4hOEyw8h0rfh91GBBCKtEF3RC1aV8n1JCIPShZVFXiFXJwBxe7RD4l4gGGDGJ5\n",
       "pYw3mLeZhVah8eQmtBdBlAlVFI0xoZHnkGZKsQ83kXiEVBndKT1kOtakRUo7NZaEt8/Es0QIjVSa\n",
       "8IKiES+HcwajwgtfddyLY8A0F01z4zerQEMtfXI6l3QICL6rlZcMDwJ6LScr0bJOiTiAG4uWBVcd\n",
       "Px9EBqJyvUDK9uigrja9bgVEF/ohsqltIRFRQxuBtrRCzFmnYmwHhZdZy8uElp1JilSTChHqX8WZ\n",
       "EpcV3Zdj72HXpcaeSyPvsx9Hfovzf9r/Nsrb4rbPg+/WXnuHvwB60mf+dL5wiAAAAABJRU5ErkJg\n",
       "gg==\n",
       "\" style=\"display:inline;vertical-align:middle;\" /></a><br>(see <a class=\"ProveItLink\" href=\"../../../__pv_it/theorems/19aa0b4f71e594e342a1c1aa10df1f445d541f930/dependencies.ipynb\">dependencies</a>)<br>"
      ],
      "text/plain": [
       "add_9_0: (9 + 0) = 9"
      ]
     },
     "execution_count": 2,
     "metadata": {},
     "output_type": "execute_result"
    }
   ],
   "source": [
    "%proving add_9_0"
   ]
  },
  {
   "cell_type": "code",
   "execution_count": null,
   "metadata": {},
   "outputs": [],
   "source": []
  }
 ],
 "metadata": {
  "kernelspec": {
   "display_name": "Python 3",
   "language": "python",
   "name": "python3"
  }
 },
 "nbformat": 4,
 "nbformat_minor": 0
}