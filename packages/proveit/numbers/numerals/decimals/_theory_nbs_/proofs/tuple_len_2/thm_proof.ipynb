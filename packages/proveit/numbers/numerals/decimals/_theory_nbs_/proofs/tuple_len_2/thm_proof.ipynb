{
 "cells": [
  {
   "cell_type": "markdown",
   "metadata": {},
   "source": [
    "Proof of <a class=\"ProveItLink\" href=\"../../../../../../_theory_nbs_/theory.ipynb\">proveit</a>.<a class=\"ProveItLink\" href=\"../../../../../_theory_nbs_/theory.ipynb\">numbers</a>.<a class=\"ProveItLink\" href=\"../../../../_theory_nbs_/theory.ipynb\">numerals</a>.<a class=\"ProveItLink\" href=\"../../theory.ipynb\">decimals</a>.<a class=\"ProveItLink\" href=\"../../theorems.ipynb#tuple_len_2\">tuple_len_2</a> theorem\n",
    "========"
   ]
  },
  {
   "cell_type": "code",
   "execution_count": 1,
   "metadata": {},
   "outputs": [],
   "source": [
    "import proveit\n",
    "from proveit import a, b, i\n",
    "from proveit.core_expr_types.tuples  import tuple_len_incr\n",
    "from proveit.numbers.numerals.decimals import tuple_len_1, add_1_1\n",
    "theory = proveit.Theory() # the theorem's theory"
   ]
  },
  {
   "cell_type": "code",
   "execution_count": 2,
   "metadata": {},
   "outputs": [
    {
     "data": {
      "text/html": [
       "Under these <a href=\"presumptions.txt\">presumptions</a>, we begin our proof of<br><strong id=\"tuple_len_2\">tuple_len_2:</strong> <a class=\"ProveItLink\" href=\"../../../__pv_it/theorems/1754e14a2e2e5db46873eb7bd60b5a0a69cf3b870/expr.ipynb\"><img src=\"data:image/png;base64,iVBORw0KGgoAAAANSUhEUgAAAJ8AAAAWBAMAAAAsilPDAAAAMFBMVEX///8QEBCIiIhmZma6urrM\n",
       "zMxUVFQiIiJERETc3Nzu7u6qqqp2dnaYmJgyMjIAAAAcRTyBAAAAAXRSTlMAQObYZgAAAn5JREFU\n",
       "OMutVU1oE0EU/rJJupvNJlUQ1Fu0tCcPhV5E/Cl46EmIF0EvDUERQWkRRPwBi16Sg7DgIb0IUwtV\n",
       "emgXe5CeDE1PKrLgwR9QArWCFdpSKlqj1jezs9ttdtaD+GB233wz79v3N7NAvJzBvy6qJONiXij3\n",
       "2xaytnjNq4xmaTS58j669kjamCNhcDc9LigJzb5KER30sed8thQl/Cxt8nYYXaAxpSScgLUOk9wb\n",
       "5eGNRPhyvdLm1Ta4RcMqqAgPATuBOfKA0RYnQqjb0uZaGE394MHtUBFSMoZsjJErzyYna9GIa9Im\n",
       "MxxGLTH7qCJcYRgqIt8PfK9UbkYJu6SNRqHjXmMfE2i+3EXBNGKqfIvBou3ngGoQ0rKv3ZU2hkvo\n",
       "Xqx46PSSuQF8CAhfLnNZkMY/KV6qynFRGykNX7khbXTyaMzFQQ99yrAGPFF7qJeoSSknOjQ3AL/4\n",
       "yi5pk6CkHGO47KFHYZIbg2rCPhrpVUq0q2+BGyrCPTC/+m2YasURimxzwkzzFGnjPYt8vtbDIiGT\n",
       "U9lVD/2FJDXOQFsOP4m1GWRspHgbVM9Sb11J8xbTrovvbC+K2UJHc1ag6zyfoaKEJF2HZouiYIZY\n",
       "k71pzm0Ucs2t6nAb3ge38bpUN3/T7BLu0POwirD2onGeeOqkdtJRSjhaSWQsWfLWB6QNj2Fi/+ly\n",
       "P65SMsYP8PotKht7c/MbNWqRH1vaOW0b7+jVyRJO3NHLMv9eGY69vvDQVxL24AmMMp29ib0crEAp\n",
       "xBPOBUek/PgITjrpi3UfqUobw7++HvgrU/EXbOiICHH+dsG6oU/FERq26nIPfgHdyl9AztvVrSJ8\n",
       "27YV/0H+ANP+wGVz/+qFAAAAAElFTkSuQmCC\n",
       "\" style=\"display:inline;vertical-align:middle;\" /></a><br>(see <a class=\"ProveItLink\" href=\"../../../__pv_it/theorems/009d0c6e96d869ccb3b774af67f67023379b42de0/dependencies.ipynb\">dependencies</a>)<br>"
      ],
      "text/plain": [
       "tuple_len_2: forall_{a, b} (|(a, b)| = 2)"
      ]
     },
     "execution_count": 2,
     "metadata": {},
     "output_type": "execute_result"
    }
   ],
   "source": [
    "%proving tuple_len_2"
   ]
  },
  {
   "cell_type": "code",
   "execution_count": 3,
   "metadata": {},
   "outputs": [
    {
     "data": {
      "text/html": [
       "<strong id=\"one_spec\">one_spec:</strong> <span style=\"font-size:20px;\"> <a class=\"ProveItLink\" href=\"../../../__pv_it/_proof_tuple_len_2/a8ad6a1a9550d9d8134a23fdecf625785d0b63280/proof.ipynb\" style=\"text-decoration: none\">&nbsp;&#x22A2;&nbsp;&nbsp;</a><a class=\"ProveItLink\" href=\"../../../__pv_it/theorems/b794eb091b4f5ece79e9312e9b2a3a10d22f94040/expr.ipynb\"><img src=\"data:image/png;base64,iVBORw0KGgoAAAANSUhEUgAAAFAAAAAVBAMAAAAjqnRBAAAAMFBMVEX///9UVFQQEBCqqqoiIiJm\n",
       "ZmYyMjJERESYmJjc3NyIiIi6urp2dnbu7u7MzMwAAAADGpxCAAAAAXRSTlMAQObYZgAAAOlJREFU\n",
       "KM9jeMuACbCJMZwGkzMgHOYJSGLYFPIWQHmSBBSyTYDyrmFXyKwLFWyFifAswKbw4sG/UEFPmBCv\n",
       "AlYTOaAKOR3gQtl4FXIFAImpRxddYGA4ilchewMDA7cmQz6Q2QZXeCwNBFJRFLIYMDBcamAIBzJN\n",
       "8JrItIGBIf4CgxeQ+Z6gQnUG3n8EFQKt5v3DwPwByNyC5sZEdM/wfmZgTLBE9gw2E3mAwVPF0CJw\n",
       "gIEhBqtCLqhCbmCAX1z1Ugro1DxsClmFvkWgR6ED/tRDIFEgFLITSGaYCbcSt8J1yFmBYwKSGCoA\n",
       "APl2WnIKvRzDAAAAAElFTkSuQmCC\n",
       "\" style=\"display:inline;vertical-align:middle;\" /></a></span><br>"
      ],
      "text/plain": [
       "one_spec: |- |(a)| = 1"
      ]
     },
     "execution_count": 3,
     "metadata": {},
     "output_type": "execute_result"
    }
   ],
   "source": [
    "one_spec = tuple_len_1.instantiate({a:a})"
   ]
  },
  {
   "cell_type": "code",
   "execution_count": 4,
   "metadata": {},
   "outputs": [
    {
     "data": {
      "text/html": [
       "<strong id=\"tuple_spec\">tuple_spec:</strong> <span style=\"font-size:20px;\"> <a class=\"ProveItLink\" href=\"../../../__pv_it/_proof_tuple_len_2/5b67a7c5b2ad0b608ce88c99163b687df5a55db40/proof.ipynb\" style=\"text-decoration: none\">&nbsp;&#x22A2;&nbsp;&nbsp;</a><a class=\"ProveItLink\" href=\"../../../__pv_it/_proof_tuple_len_2/57fff9e4a98810ce891768e017d8a3a2c886d0680/expr.ipynb\"><img src=\"data:image/png;base64,iVBORw0KGgoAAAANSUhEUgAAAJUAAAAVBAMAAAC9PLGkAAAAMFBMVEX///9UVFQQEBCqqqoiIiJm\n",
       "ZmYyMjJERESYmJjc3NyIiIi6urp2dnbu7u7MzMwAAAADGpxCAAAAAXRSTlMAQObYZgAAAdRJREFU\n",
       "OMtjeMuAB+CVxASnweQMNFHmCUiSyGAGLnMsYcp5C5BEr6sACUnsZqEoRAGME6DK2SYgC6cC8TXs\n",
       "ZoEUMuuii4JEeBOgyltRpD4DMc8CrGYBFV48+BdmxAIIDRE5BVXuiayeGyTDq4DVLJBCDnSzICKX\n",
       "IMo5HZDV84B52djMAivEYRbbBrByrgAgMfXooguQMJFaasDAcBSbWWCFOMziCQArZ28A+kyTIR8i\n",
       "cz+X9ycDQxvcrGNpIACKELBCXGZxJICVswDdcamBIRwiY3+B4RcDgwk2d4EU4jKL2QGsnGkDA0P8\n",
       "BQYviEwYA+8fBob32MwCKYSaxZOWlqKWliYAN4vvA9wsdQbef7Dkxf2ZsFkY7oKaBXQ60CnMHyAy\n",
       "PxhYgXJb0MIrkZAfuR1gYc/7mYExwRIs8xsUdkhhjwSICHtgdDJUMbQIHOD9BuRJMJQCyRhsZoEU\n",
       "MnBhmAUWYT0AVg50HsPFVS+lNjC4AJPY1TUg2/OwmQVSyCr0LQLVLIgI2wO0PMR8AVYgOODMQ4gs\n",
       "vQCZdwU9b/PAGTjzNlIBdAGZB8vb7LAy5xZMBkeZwz4BV/kFL3PgRVwDTKqS1LIQZMs6rEUvB8T+\n",
       "dcSX0Z0MDAC1ip+T5c/j6QAAAABJRU5ErkJggg==\n",
       "\" style=\"display:inline;vertical-align:middle;\" /></a></span><br>"
      ],
      "text/plain": [
       "tuple_spec: |- |(a, b)| = (1 + 1)"
      ]
     },
     "execution_count": 4,
     "metadata": {},
     "output_type": "execute_result"
    }
   ],
   "source": [
    "tuple_spec = tuple_len_incr.instantiate({i: one_spec.rhs, a: [one_spec.lhs.operands[0].entries[0]], b: b})"
   ]
  },
  {
   "cell_type": "code",
   "execution_count": 5,
   "metadata": {},
   "outputs": [
    {
     "data": {
      "text/html": [
       "<span style=\"font-size:20px;\"> <a class=\"ProveItLink\" href=\"../../../__pv_it/_proof_tuple_len_2/0491901881e739a38423cf92ff5586b12c174ad40/proof.ipynb\" style=\"text-decoration: none\">&nbsp;&#x22A2;&nbsp;&nbsp;</a><a class=\"ProveItLink\" href=\"../../../__pv_it/theorems/7e8c8074cf3d6a04d57f88500fdd2f30df0ecc610/expr.ipynb\"><img src=\"data:image/png;base64,iVBORw0KGgoAAAANSUhEUgAAAGMAAAAVBAMAAACgbk16AAAAMFBMVEX///9UVFQQEBCqqqoiIiJm\n",
       "ZmYyMjJERESYmJjc3NyIiIi6urp2dnbu7u7MzMwAAAADGpxCAAAAAXRSTlMAQObYZgAAAW5JREFU\n",
       "OMtjeMuAB2CXPA0mZ6CJMk9AksSqhbcASeS6CpCQxKqFN7T8AVSUbQKyRCoQX8Oq5SIDz2+oaCuK\n",
       "xGcg5lmATUssA4MSVNQTWZz7L8gJCti0AJ0sPwEsyumALM4D5mVj05J/gUH+AViUKwBITD266AJY\n",
       "nE1qqQEDw1EcIeZ/ASzK3gB0jiZDPkTwfi7vTwaGNriWY2kgkAp19R+IKAvQ1EsNDOEQUfsLDL8Y\n",
       "GEyw28IiABFl2sDAEH+BwQsiGsbACzTqPXYtoQwILeoMvP9g0cL9GZcWsK+hDgMazPwBIvyDgRUY\n",
       "zFvQ/JIIljNl4JwA8z7vZwbGBEuw8G+Qv5C8jwT4DjBwQbTwAK2rYmgROMD7DciTYCgFkjHYtEw5\n",
       "c1QEIsoNjLyLq15KbWBwAUbN1TVASxjysEbl//9f0BMM8wVYmnUgkPjhyZIHzlhAQAs7LPHfgglf\n",
       "IzqLNcCEK/FoWYc1I3NMQJJEAwCXwXTSfFEhPwAAAABJRU5ErkJggg==\n",
       "\" style=\"display:inline;vertical-align:middle;\" /></a></span>"
      ],
      "text/plain": [
       "|- |(a, b)| = 2"
      ]
     },
     "execution_count": 5,
     "metadata": {},
     "output_type": "execute_result"
    }
   ],
   "source": [
    "tuple_spec.apply_transitivity(add_1_1)"
   ]
  },
  {
   "cell_type": "code",
   "execution_count": 6,
   "metadata": {},
   "outputs": [
    {
     "data": {
      "text/html": [
       "<table><tr><th>&nbsp;</th><th>step type</th><th>requirements</th><th>statement</th></tr>\n",
       "<tr><td><a name=\"-0x3c16859f0eaf0298_step0\">0</a></td><td>generalizaton</td><td><a href=\"#-0x3c16859f0eaf0298_step1\">1</a></td><td><span style=\"font-size:20px;\"> <a class=\"ProveItLink\" href=\"../../../__pv_it/_proof_tuple_len_2/ea7aa20a1206910655ec20c904f373eccf2d5fe70/proof.ipynb\" style=\"text-decoration: none\">&nbsp;&#x22A2;&nbsp;&nbsp;</a><a class=\"ProveItLink\" href=\"../../../__pv_it/theorems/1754e14a2e2e5db46873eb7bd60b5a0a69cf3b870/expr.ipynb\"><img src=\"data:image/png;base64,iVBORw0KGgoAAAANSUhEUgAAAJ8AAAAWBAMAAAAsilPDAAAAMFBMVEX///8QEBCIiIhmZma6urrM\n",
       "zMxUVFQiIiJERETc3Nzu7u6qqqp2dnaYmJgyMjIAAAAcRTyBAAAAAXRSTlMAQObYZgAAAn5JREFU\n",
       "OMutVU1oE0EU/rJJupvNJlUQ1Fu0tCcPhV5E/Cl46EmIF0EvDUERQWkRRPwBi16Sg7DgIb0IUwtV\n",
       "emgXe5CeDE1PKrLgwR9QArWCFdpSKlqj1jezs9ttdtaD+GB233wz79v3N7NAvJzBvy6qJONiXij3\n",
       "2xaytnjNq4xmaTS58j669kjamCNhcDc9LigJzb5KER30sed8thQl/Cxt8nYYXaAxpSScgLUOk9wb\n",
       "5eGNRPhyvdLm1Ta4RcMqqAgPATuBOfKA0RYnQqjb0uZaGE394MHtUBFSMoZsjJErzyYna9GIa9Im\n",
       "MxxGLTH7qCJcYRgqIt8PfK9UbkYJu6SNRqHjXmMfE2i+3EXBNGKqfIvBou3ngGoQ0rKv3ZU2hkvo\n",
       "Xqx46PSSuQF8CAhfLnNZkMY/KV6qynFRGykNX7khbXTyaMzFQQ99yrAGPFF7qJeoSSknOjQ3AL/4\n",
       "yi5pk6CkHGO47KFHYZIbg2rCPhrpVUq0q2+BGyrCPTC/+m2YasURimxzwkzzFGnjPYt8vtbDIiGT\n",
       "U9lVD/2FJDXOQFsOP4m1GWRspHgbVM9Sb11J8xbTrovvbC+K2UJHc1ag6zyfoaKEJF2HZouiYIZY\n",
       "k71pzm0Ucs2t6nAb3ge38bpUN3/T7BLu0POwirD2onGeeOqkdtJRSjhaSWQsWfLWB6QNj2Fi/+ly\n",
       "P65SMsYP8PotKht7c/MbNWqRH1vaOW0b7+jVyRJO3NHLMv9eGY69vvDQVxL24AmMMp29ib0crEAp\n",
       "xBPOBUek/PgITjrpi3UfqUobw7++HvgrU/EXbOiICHH+dsG6oU/FERq26nIPfgHdyl9AztvVrSJ8\n",
       "27YV/0H+ANP+wGVz/+qFAAAAAElFTkSuQmCC\n",
       "\" style=\"display:inline;vertical-align:middle;\" /></a></span></td></tr>\n",
       "<tr><td><a name=\"-0x3c16859f0eaf0298_step1\">1</a></td><td>instantiation</td><td><a href=\"#-0x3c16859f0eaf0298_step2\">2</a>, <a href=\"#-0x3c16859f0eaf0298_step3\">3</a>, <a href=\"#-0x3c16859f0eaf0298_step4\">4</a></td><td><span style=\"font-size:20px;\"> <a class=\"ProveItLink\" href=\"../../../__pv_it/_proof_tuple_len_2/0491901881e739a38423cf92ff5586b12c174ad40/proof.ipynb\" style=\"text-decoration: none\">&nbsp;&#x22A2;&nbsp;&nbsp;</a><a class=\"ProveItLink\" href=\"../../../__pv_it/theorems/7e8c8074cf3d6a04d57f88500fdd2f30df0ecc610/expr.ipynb\"><img src=\"data:image/png;base64,iVBORw0KGgoAAAANSUhEUgAAAGMAAAAVBAMAAACgbk16AAAAMFBMVEX///9UVFQQEBCqqqoiIiJm\n",
       "ZmYyMjJERESYmJjc3NyIiIi6urp2dnbu7u7MzMwAAAADGpxCAAAAAXRSTlMAQObYZgAAAW5JREFU\n",
       "OMtjeMuAB2CXPA0mZ6CJMk9AksSqhbcASeS6CpCQxKqFN7T8AVSUbQKyRCoQX8Oq5SIDz2+oaCuK\n",
       "xGcg5lmATUssA4MSVNQTWZz7L8gJCti0AJ0sPwEsyumALM4D5mVj05J/gUH+AViUKwBITD266AJY\n",
       "nE1qqQEDw1EcIeZ/ASzK3gB0jiZDPkTwfi7vTwaGNriWY2kgkAp19R+IKAvQ1EsNDOEQUfsLDL8Y\n",
       "GEyw28IiABFl2sDAEH+BwQsiGsbACzTqPXYtoQwILeoMvP9g0cL9GZcWsK+hDgMazPwBIvyDgRUY\n",
       "zFvQ/JIIljNl4JwA8z7vZwbGBEuw8G+Qv5C8jwT4DjBwQbTwAK2rYmgROMD7DciTYCgFkjHYtEw5\n",
       "c1QEIsoNjLyLq15KbWBwAUbN1TVASxjysEbl//9f0BMM8wVYmnUgkPjhyZIHzlhAQAs7LPHfgglf\n",
       "IzqLNcCEK/FoWYc1I3NMQJJEAwCXwXTSfFEhPwAAAABJRU5ErkJggg==\n",
       "\" style=\"display:inline;vertical-align:middle;\" /></a></span></td></tr>\n",
       "<tr><td>&nbsp;</td><td colspan=4 style=\"text-align:left\"><span style=\"font-size:20px;\"><a class=\"ProveItLink\" href=\"../../../../../../__pv_it/common/a0d9d672aa5e272d907247690c152cc2c6daafb70/expr.ipynb\"><img src=\"data:image/png;base64,iVBORw0KGgoAAAANSUhEUgAAAAsAAAAJBAMAAAAWSsseAAAALVBMVEX///9mZmaqqqrMzMxEREQy\n",
       "MjIiIiKYmJh2dna6urrc3NxUVFSIiIju7u4AAACJHQtQAAAAAXRSTlMAQObYZgAAAEJJREFUCNdj\n",
       "YLhzeuWJAwy8Dew5bAEMHBc43nIuYOBlYHFgAAG+A2DKzgBIMF04x8BzgWGegh/DcgaG22fuiBcw\n",
       "AAATyhBrnyPYZQAAAABJRU5ErkJggg==\n",
       "\" style=\"display:inline;vertical-align:middle;\" /></a> : <a class=\"ProveItLink\" href=\"../../../__pv_it/theorems/f5cd15bf0bf06069466ce8cd390a38caf40f28f50/expr.ipynb\"><img src=\"data:image/png;base64,iVBORw0KGgoAAAANSUhEUgAAADwAAAAVBAMAAADocZC/AAAAMFBMVEX///9UVFQQEBCqqqoiIiJm\n",
       "ZmYyMjJERESYmJjc3NyIiIi6urp2dnbu7u7MzMwAAAADGpxCAAAAAXRSTlMAQObYZgAAARFJREFU\n",
       "KM9jeMuAB7xlOA2mZ6CJM08AU6ch0rwFSFLXVYCEJLI02wRkralAfA1ZuhXF5M9AzLMASdoTWZb7\n",
       "L8g6BYQ0pwOyNA+Yl42Q5goAElOPLroAlmaTWmrAwHAUIc3eADRSkyEfovt+Lu9PBoY2hDQLUPWl\n",
       "BoZwiLT9BYZfDAwmCGmmDQwM8RcYvCDSYQy8fxgY3qNKqzPw/oN5m/szijTQcKAG5g8Q6R8MrECv\n",
       "bUFxGu9nBsYES7D0b5A7kJ3GA/RYFUOLwAHeb0CeBEMpkIxBSHMDA+LiqpdSGxhcgF6/ugaomSEP\n",
       "W6AyX4AyeB2wRQkPnIEcJeywCL0Fk76GNTk0wKQrodLrsCYmDohx6wDTyFyqNtJmrAAAAABJRU5E\n",
       "rkJggg==\n",
       "\" style=\"display:inline;vertical-align:middle;\" /></a>, <a class=\"ProveItLink\" href=\"../../../../../../__pv_it/common/ff7dba4ef0bbe791ab573bf2d9c220a304399ac80/expr.ipynb\"><img src=\"data:image/png;base64,iVBORw0KGgoAAAANSUhEUgAAAAsAAAANBAMAAACN24kIAAAAMFBMVEX///8iIiKYmJhUVFTMzMxE\n",
       "REQyMjKqqqq6urp2dnYQEBDc3NxmZmaIiIju7u4AAACH5sGpAAAAAXRSTlMAQObYZgAAAFlJREFU\n",
       "CNdj4LtzgWHXAwZOjgUM9xkYtvMkMIQyMDzgusDwl4GBof8ByxcgdYyBdwGQCmZgNQBShxn6FYDU\n",
       "47vnNzAwgGUZGJgT+H4AKUYF1gtAiuPuESAJAJGkFvXVdzA+AAAAAElFTkSuQmCC\n",
       "\" style=\"display:inline;vertical-align:middle;\" /></a> : <a class=\"ProveItLink\" href=\"../../../__pv_it/theorems/6a1f9601c1af804d9a6e9856517ad04b7731f0630/expr.ipynb\"><img src=\"data:image/png;base64,iVBORw0KGgoAAAANSUhEUgAAACsAAAAQBAMAAAB9zpudAAAAJFBMVEX///8iIiIyMjJmZmaIiIiY\n",
       "mJh2dnZUVFTu7u4QEBCqqqoAAAAEYnaEAAAAAXRSTlMAQObYZgAAAE5JREFUGNNjYMABuGagi6xs\n",
       "YGBoT98Bk3cAUxxl1UBhBlY0YQaGaPoIsykpKU5SUiqgrtksGMLeQGHmyk2mqMLms5UDkMPMAWtQ\n",
       "cjQg2ACXLR0jg0lZIQAAAABJRU5ErkJggg==\n",
       "\" style=\"display:inline;vertical-align:middle;\" /></a>, <a class=\"ProveItLink\" href=\"../../../../../../__pv_it/common/95a8f6b9b9f29b83f192ad7fd05708d6be097a3f0/expr.ipynb\"><img src=\"data:image/png;base64,iVBORw0KGgoAAAANSUhEUgAAAAoAAAAJBAMAAAD5iKAgAAAAMFBMVEX///8yMjJ2dnaqqqpUVFTc\n",
       "3NxmZmaIiIhERETu7u6YmJjMzMwQEBAiIiK6uroAAABWQA0ZAAAAAXRSTlMAQObYZgAAADZJREFU\n",
       "CNdjYOC782AXA8OM5WkNDAwTGCIYgIC7E0Q+ARHMDiDSjIHBgYH7llbhAwY2hjVyDABOxArzLvBK\n",
       "ugAAAABJRU5ErkJggg==\n",
       "\" style=\"display:inline;vertical-align:middle;\" /></a> : <a class=\"ProveItLink\" href=\"../../../../__pv_it/common/ba3b059982e8b49413dc653e957beb11e974e4bc0/expr.ipynb\"><img src=\"data:image/png;base64,iVBORw0KGgoAAAANSUhEUgAAAAkAAAAOBAMAAAAPuiubAAAALVBMVEX///+qqqqIiIgyMjLc3Nwi\n",
       "IiIQEBC6urp2dnZUVFTMzMxERERmZmbu7u4AAAAQI6y7AAAAAXRSTlMAQObYZgAAAFJJREFUCNdj\n",
       "4D2zewEDw00GjucMDGcZGNIYGFIZGOY5MNhdYJgHlGBgiLsAJNhfgJisE0DkGRDBdABEyjCwODBw\n",
       "NTAwOTC4dvRMZWCwe/fuKQMANh0TGKpG4roAAAAASUVORK5CYII=\n",
       "\" style=\"display:inline;vertical-align:middle;\" /></a></span></td></tr><tr><td><a name=\"-0x3c16859f0eaf0298_step2\">2</a></td><td>axiom</td><td></td><td><span style=\"font-size:20px;\"> <a class=\"ProveItLink\" href=\"../../../../../../logic/equality/_theory_nbs_/axioms.ipynb#equals_transitivity\" style=\"text-decoration: none\">&nbsp;&#x22A2;&nbsp;&nbsp;</a><a class=\"ProveItLink\" href=\"../../../../../../logic/equality/__pv_it/axioms/f827123c5f21af6ab6d517e6d3247a9ee44c13460/expr.ipynb\"><img src=\"data:image/png;base64,iVBORw0KGgoAAAANSUhEUgAAANEAAAAWBAMAAACs+WTQAAAAMFBMVEX///8QEBCIiIhmZma6urrM\n",
       "zMxUVFQiIiJERETc3Nzu7u6qqqp2dnaYmJgyMjIAAAAcRTyBAAAAAXRSTlMAQObYZgAAAnJJREFU\n",
       "SMetVU1oE0EU/prsTzfZJB4UBEGCgVKCh1wEQQ+hgkXwZ+NBxYsl2INQJYd6UKTkmBYiudQWQVyh\n",
       "KK0eAoKgUFhyTKUGFVSIsKB4KFSCIPhz8c3sZrOu2djAPFi+mfeY+d6+980MIM7uhYee02ezwUcR\n",
       "RLFyeEypARtssCWCKVkbkAX90DKhVhbB9GZQsEGZmIBeF8F0Y1DwAZBorq0tiSDSSgNLmwd+VCq3\n",
       "RDBFctSOA1cmGsHA5G65BZ2i08B8yGJpGKbRFvAE79JzbLL5ldknLoZq5jCVjiRxjAuj/+JhmFRq\n",
       "dhOvzBNB2XHBxam2KiItEUwj1AkTlT6RCyQ6uUPCa6kQxQR869ODKThMmn2O6f3QmEHOMaiUAJa2\n",
       "FntMeubstLtoYgo3e8AVN7dq9KoH+bszcfr0hY+fcTqmzPnLJBzzmko56SmzwPxH2ukeU1axZ5UK\n",
       "WRXWL3kXeRi4nuh6w6eIF5EOsoFfiuegOIrAU6KTsc28dycxzsOPfdUzkt0+aiulSNkDt+HdU086\n",
       "ln6PdrRg08+3X38GohYNUzz/n9x9FEW+PO/vU8q70KKWku4BtxWvHSXEitnMP5d1LrGfdkuyGidM\n",
       "3jGZuWexh8EiLvqYLsFQWNm3oeZH2AoGrkczZHMnt9Gj7uC+butYNnFd6hBoM+tlj0nrbMLqnhnj\n",
       "DLQFDq7d2Xi/0xvWsYdvG00U6jg+bhMk5L2mxxS7evJgN22peBvyPg6utQoL3pn4z6vht3qsxhRU\n",
       "Dz1Pq6iSmBwY6iUMZBGvKdZpBqFMM5LNXmoOQ73uH/6eJiC1LQahTKdesoI5INSiIjf7A4jqrxun\n",
       "Ivq8AAAAAElFTkSuQmCC\n",
       "\" style=\"display:inline;vertical-align:middle;\" /></a></span></td></tr>\n",
       "<tr><td>&nbsp;</td><td colspan=4 style-\"text-align:left\"><a class=\"ProveItLink\" href=\"../../../../../../logic/equality/_theory_nbs_/axioms.ipynb#equals_transitivity\">proveit.logic.equality.equals_transitivity</a></td></tr><tr><td><a name=\"-0x3c16859f0eaf0298_step3\">3</a></td><td>instantiation</td><td><a href=\"#-0x3c16859f0eaf0298_step5\">5</a>, <a href=\"#-0x3c16859f0eaf0298_step6\">6</a>, <a href=\"#-0x3c16859f0eaf0298_step7\">7</a></td><td><span style=\"font-size:20px;\"> <a class=\"ProveItLink\" href=\"../../../__pv_it/_proof_tuple_len_2/5b67a7c5b2ad0b608ce88c99163b687df5a55db40/proof.ipynb\" style=\"text-decoration: none\">&nbsp;&#x22A2;&nbsp;&nbsp;</a><a class=\"ProveItLink\" href=\"../../../__pv_it/_proof_tuple_len_2/57fff9e4a98810ce891768e017d8a3a2c886d0680/expr.ipynb\"><img src=\"data:image/png;base64,iVBORw0KGgoAAAANSUhEUgAAAJUAAAAVBAMAAAC9PLGkAAAAMFBMVEX///9UVFQQEBCqqqoiIiJm\n",
       "ZmYyMjJERESYmJjc3NyIiIi6urp2dnbu7u7MzMwAAAADGpxCAAAAAXRSTlMAQObYZgAAAdRJREFU\n",
       "OMtjeMuAB+CVxASnweQMNFHmCUiSyGAGLnMsYcp5C5BEr6sACUnsZqEoRAGME6DK2SYgC6cC8TXs\n",
       "ZoEUMuuii4JEeBOgyltRpD4DMc8CrGYBFV48+BdmxAIIDRE5BVXuiayeGyTDq4DVLJBCDnSzICKX\n",
       "IMo5HZDV84B52djMAivEYRbbBrByrgAgMfXooguQMJFaasDAcBSbWWCFOMziCQArZ28A+kyTIR8i\n",
       "cz+X9ycDQxvcrGNpIACKELBCXGZxJICVswDdcamBIRwiY3+B4RcDgwk2d4EU4jKL2QGsnGkDA0P8\n",
       "BQYviEwYA+8fBob32MwCKYSaxZOWlqKWliYAN4vvA9wsdQbef7Dkxf2ZsFkY7oKaBXQ60CnMHyAy\n",
       "PxhYgXJb0MIrkZAfuR1gYc/7mYExwRIs8xsUdkhhjwSICHtgdDJUMbQIHOD9BuRJMJQCyRhsZoEU\n",
       "MnBhmAUWYT0AVg50HsPFVS+lNjC4AJPY1TUg2/OwmQVSyCr0LQLVLIgI2wO0PMR8AVYgOODMQ4gs\n",
       "vQCZdwU9b/PAGTjzNlIBdAGZB8vb7LAy5xZMBkeZwz4BV/kFL3PgRVwDTKqS1LIQZMs6rEUvB8T+\n",
       "dcSX0Z0MDAC1ip+T5c/j6QAAAABJRU5ErkJggg==\n",
       "\" style=\"display:inline;vertical-align:middle;\" /></a></span></td></tr>\n",
       "<tr><td>&nbsp;</td><td colspan=4 style=\"text-align:left\"><span style=\"font-size:20px;\"><a class=\"ProveItLink\" href=\"../../../../../../__pv_it/common/ae955345c83abf786c3aff8681cd5465beae262d0/expr.ipynb\"><img src=\"data:image/png;base64,iVBORw0KGgoAAAANSUhEUgAAAAcAAAAOBAMAAAARcxsoAAAAKlBMVEX///8yMjKqqqrc3NwQEBC6\n",
       "urp2dnZmZmaIiIju7u6YmJhERERUVFQAAAAIfTrnAAAAAXRSTlMAQObYZgAAADhJREFUCNdjYGA4\n",
       "zQAEpxjQAWd7AwMDG6sDA4MRuwADwwReIJdBdwKQ2AOSvcTGwMB6wQqkdQEDAPwvCSrC7lmiAAAA\n",
       "AElFTkSuQmCC\n",
       "\" style=\"display:inline;vertical-align:middle;\" /></a> : <a class=\"ProveItLink\" href=\"../../../../__pv_it/common/2778428c7f555b2bdc06aa0530bc142c6e6335100/expr.ipynb\"><img src=\"data:image/png;base64,iVBORw0KGgoAAAANSUhEUgAAAAgAAAAPBAMAAAArJJMAAAAAIVBMVEX///8yMjJmZmaIiIiYmJh2\n",
       "dnZUVFTu7u4QEBCqqqoAAAADAhFxAAAAAXRSTlMAQObYZgAAACBJREFUCNdjYAADznYGhrKw5UAW\n",
       "CykEM5BgylioAjYDAHBOCeDSSky9AAAAAElFTkSuQmCC\n",
       "\" style=\"display:inline;vertical-align:middle;\" /></a>, <a class=\"ProveItLink\" href=\"../../../../../../__pv_it/common/c06c606ec12678c58933ac85412ecadc2ae28be60/expr.ipynb\"><img src=\"data:image/png;base64,iVBORw0KGgoAAAANSUhEUgAAAAsAAAAJBAMAAAAWSsseAAAAMFBMVEX///9UVFSqqqrMzMwiIiJE\n",
       "RESYmJgyMjK6urru7u4QEBCIiIh2dnZmZmbc3NwAAABRgo0vAAAAAXRSTlMAQObYZgAAAEdJREFU\n",
       "CNdjYOC7c3slAwND1wP2DwwMnMsYeAMYGHh/MrBsYGDgCmCYb8DAMP8Agz5QxXwFBnGmBwysG9gc\n",
       "eYAqpTc/3MEAAP4BD32xAXDqAAAAAElFTkSuQmCC\n",
       "\" style=\"display:inline;vertical-align:middle;\" /></a> : <a class=\"ProveItLink\" href=\"../../../__pv_it/theorems/3a158ea355b2ca0638165bb306c4cdd27b6720b80/expr.ipynb\"><img src=\"data:image/png;base64,iVBORw0KGgoAAAANSUhEUgAAABcAAAAUBAMAAACUkLs9AAAAMFBMVEX///9UVFTMzMx2dna6uroQ\n",
       "EBCqqqqIiIgiIiJmZmYyMjJERETu7u6YmJjc3NwAAAC+aOQFAAAAAXRSTlMAQObYZgAAAK5JREFU\n",
       "GNNjYOC7wAAGeSDiNITNwPgASKyDcngWMDDwToByGMwZGDgewDhHGRhewNgMXA4MlUCKb/L0GAYG\n",
       "5gkMe4Ec1wdcH4C6FzC0Ac2JZeDcwMDA1sAQwsDA+YeBo4CBgekDiMO6geG8ApgDVHbegCEfqJOl\n",
       "AWTA+QQGKbYHIAMsGRi4C3gbmYFaDRg8gKaJFz0sAVqqgOScE2gOZdiH5AW457hB6mHevsfAAACm\n",
       "UydVsb016gAAAABJRU5ErkJggg==\n",
       "\" style=\"display:inline;vertical-align:middle;\" /></a>, <a class=\"ProveItLink\" href=\"../../../../../../__pv_it/common/195236b98c6c564a75b5dbada74b173bc52d5c3e0/expr.ipynb\"><img src=\"data:image/png;base64,iVBORw0KGgoAAAANSUhEUgAAAAkAAAAOBAMAAAAPuiubAAAALVBMVEX///+YmJjc3NyIiIhUVFR2\n",
       "dna6urqqqqpmZmYyMjIiIiIQEBBERETu7u4AAAALjtrwAAAAAXRSTlMAQObYZgAAAE9JREFUCNdj\n",
       "4D29gAEIOBtAJF8BiMy7ACKjQATDFON2BgbelxfuKTCwv2XgM2DgmMBwLwCkPK+AgU+Aoe8CA18C\n",
       "70YGBhYBHqARvM2BDAwAqXgQspq5HJAAAAAASUVORK5CYII=\n",
       "\" style=\"display:inline;vertical-align:middle;\" /></a> : <a class=\"ProveItLink\" href=\"../../../../../../__pv_it/common/195236b98c6c564a75b5dbada74b173bc52d5c3e0/expr.ipynb\"><img src=\"data:image/png;base64,iVBORw0KGgoAAAANSUhEUgAAAAkAAAAOBAMAAAAPuiubAAAALVBMVEX///+YmJjc3NyIiIhUVFR2\n",
       "dna6urqqqqpmZmYyMjIiIiIQEBBERETu7u4AAAALjtrwAAAAAXRSTlMAQObYZgAAAE9JREFUCNdj\n",
       "4D29gAEIOBtAJF8BiMy7ACKjQATDFON2BgbelxfuKTCwv2XgM2DgmMBwLwCkPK+AgU+Aoe8CA18C\n",
       "70YGBhYBHqARvM2BDAwAqXgQspq5HJAAAAAASUVORK5CYII=\n",
       "\" style=\"display:inline;vertical-align:middle;\" /></a></span></td></tr><tr><td><a name=\"-0x3c16859f0eaf0298_step4\">4</a></td><td>conjecture</td><td></td><td><span style=\"font-size:20px;\"> <a class=\"ProveItLink\" href=\"../add_1_1/thm_proof.ipynb\" style=\"text-decoration: none\">&nbsp;&#x22A2;&nbsp;&nbsp;</a><a class=\"ProveItLink\" href=\"../../../__pv_it/theorems/ef4a13802f9640fcb6a9d48fa3326bde37bd02840/expr.ipynb\"><img src=\"data:image/png;base64,iVBORw0KGgoAAAANSUhEUgAAAGEAAAAUBAMAAABvx07iAAAAMFBMVEX////MzMxUVFR2dna6uroQ\n",
       "EBCqqqqIiIgiIiJmZmYyMjJERETu7u6YmJjc3NwAAACgK8IjAAAAAXRSTlMAQObYZgAAAR1JREFU\n",
       "KM9jYOC7wIAd5OEQZziNS4LpAboIz8zdAkBqHRCnHkCTY4sByi9A13GIgfkLAwPvBAYeZX2YjnSo\n",
       "lNEfIGmOrmMOA0MoAwMHyO77aDoYeEE6jqLriGBg0H/A8IIBpw4uBzQd6w8w6AswVOLWwTwBMzj6\n",
       "DzDsxa2DF+x15lVgANHN8pmBoQ23DrYGDCs4FBgYQhA6rFatal21ahFcB+MHDB0zGVB0oNuBqYMd\n",
       "5DY8rmJpQPKHAoidycD3gLDPkQCjAQP7AwZLELMeXQc7SAenAZqOF8aWGgwMHkDWpPiVF1B0cKr+\n",
       "mguMQQH0GPz//wc0lcBBOjLnBPY0zYsSsWeQOeY4ssE+XPkDM7UTylHcD3BI4My197ALAwB2n2Bd\n",
       "eOkMSgAAAABJRU5ErkJggg==\n",
       "\" style=\"display:inline;vertical-align:middle;\" /></a></span></td></tr>\n",
       "<tr><td>&nbsp;</td><td colspan=4 style-\"text-align:left\"><a class=\"ProveItLink\" href=\"../add_1_1/thm_proof.ipynb\">proveit.numbers.numerals.decimals.add_1_1</a></td></tr><tr><td><a name=\"-0x3c16859f0eaf0298_step5\">5</a></td><td>axiom</td><td></td><td><span style=\"font-size:20px;\"> <a class=\"ProveItLink\" href=\"../../../../../../core_expr_types/tuples/_theory_nbs_/axioms.ipynb#tuple_len_incr\" style=\"text-decoration: none\">&nbsp;&#x22A2;&nbsp;&nbsp;</a><a class=\"ProveItLink\" href=\"../../../../../../core_expr_types/tuples/__pv_it/axioms/000f3e451cfa51382e293a2f95fe2bb9433967c90/expr.ipynb\"><img src=\"data:image/png;base64,iVBORw0KGgoAAAANSUhEUgAAAYgAAAAWBAMAAAAodhaSAAAAMFBMVEX///8QEBCIiIhmZma6urrM\n",
       "zMxUVFQiIiJERETc3Nzu7u6qqqp2dnaYmJgyMjIAAAAcRTyBAAAAAXRSTlMAQObYZgAABGJJREFU\n",
       "WMPNV29oHEUUf8ndZu/29i5+EKQGMRoTC0oNKeiXtLQVzCcxreA/CglH/VBp64m11ih6tF9ySuGo\n",
       "YEKhMFrUkGJvrYSoYHtw64dWkAP9IGLbgzaFVghS+8Gmrfjezsze5HZmkyt+6IPZe3Pvvd33m/fm\n",
       "zRuA/5deuQveoNK6hXYt0nXwJdM+ZcrBjx8RHDXr0zi/Fxo0P6dT8mNkepqRLsy0C2DmPnzs1INw\n",
       "igBdRY3RTjF8+ImmV/UgzDI9XZEuXGk7DBdxnNCDyOFqd7WG9mvG9U8EFtMU/aIehFmmpeygcIGY\n",
       "NukmDrdXC+IXhT8pgrPrdcb1afiQo5mnB2GWackuCxfscrsYkkvk2j1aEO9EQQBcYFyfhg/Zs7Oz\n",
       "U6AHYZZpaUq6MNV2INwCPS/pQKQLJhCB/qXA4p/JyfcMIMwyLfVJF4hJDw/dH1/KVIVcvg8jXtOB\n",
       "6MTc/GxIC6LGB1q8ClDiqlEQXLZCJixK7pB0gZjN5dxfAC+Z7bhCH59Urjo3sFiGIH5eJKLdDinc\n",
       "09XNWhDn+UCLp8HBUmrxNLbe9OGh8RAEl61ANcm8K11AxnkAEkV4/imjFVeAl/nsNINrAPO6SNge\n",
       "pL2NWhDzfKCFDZ2ifh2vbYBvXZZgIYimLIb+lMy90gVkEktgY+EYMVoJBUEbwbkFMKYD0bEJHEIY\n",
       "hOeNxcXLTRBjfKCFW7dFhfzoCIMfegfdZjqFsji6oQPRUYTKaBwIoRAeE8mbZhCQWdJGogki3XgB\n",
       "E3uAcgdpbu6wAiKQwbGBaAPiDO0RLljXBlg0nSpVOA1xILjCFpG6tykyXFvZE5dFOkFqXAtihA+y\n",
       "KO3AJe9mvMmYc7/a3gQRyJy3LPzAa8t9+HJ0jEEuqB4TsiioG7viwR5sbGJABApVscTX4dO6urEV\n",
       "oo1d8arxGxu+wUJ8ZB6cwJU5qNYUECRLDFoF2N5SL9fDiwgv+EhvttHc4b5g8N99brBOzr/kckMw\n",
       "4SxQSB8v8H92w0F8DutAuOjXc7KjDEE8wYT+MLfopv11AKz9k5MHEMRRWwFBsg6vE6M5sfzVPTAQ\n",
       "5mxCBHtEukCu5/s/eYT/9TZ+zyaVfSAe9oRUSPVy+bHHycsFHYgkrmPXuZZ0evLBi3Wuv8AtsnSC\n",
       "L43COI9EcpsCgmSVcup31gICq/qh2czDxHazDs/YdhCIDIvk0vdhUn2uyJ3C6tsOqU9DWmQaVfiR\n",
       "mF8B/lBABEtdHnuWIpH+EKaZfKyxrtczWAqmmc1+MzeAVMnd6IaoSuaUq8hX0QDOLku0sAGUbWEZ\n",
       "Urigyfc3QVcLiGT+5AYCYfXA1rK1hh498MxjfXU60Ld61q7QpZI0ksf8xx/ksWeIlrbwgPjijCI3\n",
       "tOIpUzvZbMUVWot7YnnboRCmU6Z5qRLhxBLurXgpih6XWdDKS+ZLkZZKYvgxh9ij6umw7W8Pvgtn\n",
       "gsszeacMr6f9d349zfJX9a/2ekr6NNbtbecrdQ2XhbuA/gPNon1mxoL+PAAAAABJRU5ErkJggg==\n",
       "\" style=\"display:inline;vertical-align:middle;\" /></a></span></td></tr>\n",
       "<tr><td>&nbsp;</td><td colspan=4 style-\"text-align:left\"><a class=\"ProveItLink\" href=\"../../../../../../core_expr_types/tuples/_theory_nbs_/axioms.ipynb#tuple_len_incr\">proveit.core_expr_types.tuples.tuple_len_incr</a></td></tr><tr><td><a name=\"-0x3c16859f0eaf0298_step6\">6</a></td><td>theorem</td><td></td><td><span style=\"font-size:20px;\"> <a class=\"ProveItLink\" href=\"../nat1/thm_proof.ipynb\" style=\"text-decoration: none\">&nbsp;&#x22A2;&nbsp;&nbsp;</a><a class=\"ProveItLink\" href=\"../../../__pv_it/theorems/7fb9a05424b991456a1d535347793e2786ff41910/expr.ipynb\"><img src=\"data:image/png;base64,iVBORw0KGgoAAAANSUhEUgAAADIAAAAPBAMAAABU9YHxAAAAMFBMVEX///+6urrc3NzMzMwiIiJE\n",
       "REQyMjJmZmaIiIiYmJh2dnZUVFTu7u4QEBCqqqoAAABhZHJKAAAAAXRSTlMAQObYZgAAALJJREFU\n",
       "GNNjYEAHPPmhOQxc9y8yMPDdQZNinWDNwHCegeH06j9oMtzOHA0MvEAGJ0xmqotLAlhG9MBmBhYk\n",
       "GdMemB7lDccOIMnw5MBNU3jBvAFJhlsBIcMlMANJhhXhAgWGPdwmCBnbNCBIgMqcZshFyKgi62Fe\n",
       "YIuQ4UWWYZjHipBhb4DLGDAwcIGM4ID6xw8mw/YASJQB1e79VgkWOB14AEwz+18FkseQw0sqBBI6\n",
       "UAAAZMEtCDaxdO0AAAAASUVORK5CYII=\n",
       "\" style=\"display:inline;vertical-align:middle;\" /></a></span></td></tr>\n",
       "<tr><td>&nbsp;</td><td colspan=4 style-\"text-align:left\"><a class=\"ProveItLink\" href=\"../nat1/thm_proof.ipynb\">proveit.numbers.numerals.decimals.nat1</a></td></tr><tr><td><a name=\"-0x3c16859f0eaf0298_step7\">7</a></td><td>instantiation</td><td><a href=\"#-0x3c16859f0eaf0298_step8\">8</a></td><td><span style=\"font-size:20px;\"> <a class=\"ProveItLink\" href=\"../../../__pv_it/_proof_tuple_len_2/142abb549df1c4f3a669fe124d5ca99f3e2115950/proof.ipynb\" style=\"text-decoration: none\">&nbsp;&#x22A2;&nbsp;&nbsp;</a><a class=\"ProveItLink\" href=\"../../../__pv_it/theorems/36d1a39349a8bb2130b7a2264d52841085a29ed70/expr.ipynb\"><img src=\"data:image/png;base64,iVBORw0KGgoAAAANSUhEUgAAAKsAAAAVBAMAAADLBgMvAAAAMFBMVEX///9UVFQQEBCqqqoiIiJm\n",
       "ZmYyMjJERESYmJjc3NyIiIi6urp2dnbu7u7MzMwAAAADGpxCAAAAAXRSTlMAQObYZgAAAaZJREFU\n",
       "OMutlT9Lw0AUwJ9t2qZpIuLg4CcQROjqIKbo4iBkFHHoJLh11C2Lg1sEB8csTkIo4geog0u71FIQ\n",
       "XNIvUOjUreDL/QlJjtdexYMcyb38fkne3b3AFNQ2XTmwvG0OYcBO6j4fOGT9oHgfH3heLeS83RXE\n",
       "txjeCGit01mt5XyqvRHDTpvWVhEpH9DKJMZ5qTU9GevT2nuAr48FaeWxflZrBDI4orVnyfNpLY+N\n",
       "stqnNFbtUtq6q6NlvNS+JNjVJSbH9iit5eloGS+1t3i8BdUZxtpSa1+z5kltzdfRMl5qT3AO96CC\n",
       "K6jsUm9rNHW0jJfafYDKAowQN8iM0pa6OlrGZ7SlDsSTf9ZiEuIeHONZwy3kdmu9JDTc/JTFTdgp\n",
       "B5kpK77tH6bsE6nQbNmY4h6lZUvHQjRG0pmD6NIrFuO81L5jaDd6fMXlPKG0yedVtucXYJzjVQtE\n",
       "ZyRZOh2KGOfVzTtevnlZO1KrzDDHr1tqeOspWhtyfFoY7zQKY018khMq2h/I8UoZr2mUcVNdBD7k\n",
       "eNRGuZ/OA+ujIhbp/nQ4b01+AUUZqJ96orJ3AAAAAElFTkSuQmCC\n",
       "\" style=\"display:inline;vertical-align:middle;\" /></a></span></td></tr>\n",
       "<tr><td>&nbsp;</td><td colspan=4 style=\"text-align:left\"><span style=\"font-size:20px;\"><a class=\"ProveItLink\" href=\"../../../../../../__pv_it/common/c06c606ec12678c58933ac85412ecadc2ae28be60/expr.ipynb\"><img src=\"data:image/png;base64,iVBORw0KGgoAAAANSUhEUgAAAAsAAAAJBAMAAAAWSsseAAAAMFBMVEX///9UVFSqqqrMzMwiIiJE\n",
       "RESYmJgyMjK6urru7u4QEBCIiIh2dnZmZmbc3NwAAABRgo0vAAAAAXRSTlMAQObYZgAAAEdJREFU\n",
       "CNdjYOC7c3slAwND1wP2DwwMnMsYeAMYGHh/MrBsYGDgCmCYb8DAMP8Agz5QxXwFBnGmBwysG9gc\n",
       "eYAqpTc/3MEAAP4BD32xAXDqAAAAAElFTkSuQmCC\n",
       "\" style=\"display:inline;vertical-align:middle;\" /></a> : <a class=\"ProveItLink\" href=\"../../../../../../__pv_it/common/c06c606ec12678c58933ac85412ecadc2ae28be60/expr.ipynb\"><img src=\"data:image/png;base64,iVBORw0KGgoAAAANSUhEUgAAAAsAAAAJBAMAAAAWSsseAAAAMFBMVEX///9UVFSqqqrMzMwiIiJE\n",
       "RESYmJgyMjK6urru7u4QEBCIiIh2dnZmZmbc3NwAAABRgo0vAAAAAXRSTlMAQObYZgAAAEdJREFU\n",
       "CNdjYOC7c3slAwND1wP2DwwMnMsYeAMYGHh/MrBsYGDgCmCYb8DAMP8Agz5QxXwFBnGmBwysG9gc\n",
       "eYAqpTc/3MEAAP4BD32xAXDqAAAAAElFTkSuQmCC\n",
       "\" style=\"display:inline;vertical-align:middle;\" /></a></span></td></tr><tr><td><a name=\"-0x3c16859f0eaf0298_step8\">8</a></td><td>conjecture</td><td></td><td><span style=\"font-size:20px;\"> <a class=\"ProveItLink\" href=\"../tuple_len_1_typical_eq/thm_proof.ipynb\" style=\"text-decoration: none\">&nbsp;&#x22A2;&nbsp;&nbsp;</a><a class=\"ProveItLink\" href=\"../../../__pv_it/theorems/25f2fc4aa65ac718f6f556a1f885a07b34b52d570/expr.ipynb\"><img src=\"data:image/png;base64,iVBORw0KGgoAAAANSUhEUgAAAN0AAAAVBAMAAAAwUfbwAAAAMFBMVEX///8QEBCIiIhmZma6urrM\n",
       "zMxUVFQiIiJERETc3Nzu7u6qqqp2dnaYmJgyMjIAAAAcRTyBAAAAAXRSTlMAQObYZgAAAlxJREFU\n",
       "SMetlj9s00AUxl+cBDuOHRYmJKRIEGaLmUpBDExImRi6UCpYURZa8Wfo2AxInigLUgoSrbo4olO7\n",
       "NCoVAyyRmEBCysJQhqpjlaHqe3f3yiXOo9eKN1if37v3/ZLz+c4A02LWJTcL54pyVyhUBrDHQsWW\n",
       "uu5NjtOJd2eTdH/UVGJI+pddXmerdZO4lMq8cOlsnu5HHolvpP/Y5X323jeJcCjzamhRvSqzqKb7\n",
       "kUfiLU2c/SPjxFiR0LEr874DfPwyEnG6tmt4JGr4GKOeNcRPjZWfcmpV5j2nHybzdG2VeSjirxsb\n",
       "K/aIFbb6m601JV6l7cJT/cQjcbS8/MoecZ29SVRu38IHECUSz0tceKqfeCSeAHTsEa/Zm8SdtHaI\n",
       "TUPORQcqEuYFAxee6iceibtm/XC8ZG8U4TUo4lqqtqX/5/dceKqfeCR88Ab2iCvsjaI4Ar+OW8Oh\n",
       "xCs0XXiqn3gkooEPEq+wBFnrP/Mqwwd49+Hm7ynzmfVhB1WpPfH85s43nyWeTyU6j/FBPSuPpqyX\n",
       "rAdPq6m1Xib/3wXWC2witJiU22bEZ/ZGEdTjhQirfYmnVrqHnhk6hcdgLqd3qqb7iafEZVwRhZ43\n",
       "Z2zusTeKcL7x5ga+pi2JRxNUfHQ8A/4LvFsAc/HJbLFrarpfve8kYsxnafCzK+5na//ez1Rs57fq\n",
       "7lg/8dY4U0gf3r/ofq2jn+NFMNZv9msdpflPM6w77N1xOI8CMwlhPcd7D2P95jzKR+68DRzO2zjv\n",
       "c7qLBHzeBqnwPdEY+574oa6NyXEN1+8J3e+1SJwAHMXbmPz93SoAAAAASUVORK5CYII=\n",
       "\" style=\"display:inline;vertical-align:middle;\" /></a></span></td></tr>\n",
       "<tr><td>&nbsp;</td><td colspan=4 style-\"text-align:left\"><a class=\"ProveItLink\" href=\"../tuple_len_1_typical_eq/thm_proof.ipynb\">proveit.numbers.numerals.decimals.tuple_len_1_typical_eq</a></td></tr></table>"
      ],
      "text/plain": [
       "\tstep type\trequirements\tstatement\n",
       "0\tgeneralizaton\t1\t|- forall_{a, b} (|(a, b)| = 2)\n",
       "1\tinstantiation\t2, 3, 4\t|- |(a, b)| = 2\n",
       "\tx : |(a, b)|, y : 1 + 1, z : 2\n",
       "2\taxiom\t\t|- forall_{x, y, z | x = y, y = z} (x = z)\n",
       "\tproveit.logic.equality.equals_transitivity\n",
       "3\tinstantiation\t5, 6, 7\t|- |(a, b)| = (1 + 1)\n",
       "\ti : 1, a : (a), b : b\n",
       "4\tconjecture\t\t|- (1 + 1) = 2\n",
       "5\taxiom\t\t|- forall_{i in Natural} [forall_{a_{1}, ..a_{_a}.., a_{i}, b} (|(a_{1}, ..a_{_a}.., a_{i}, b)| = (i + 1))]\n",
       "\tproveit.core_expr_types.tuples.tuple_len_incr\n",
       "6\ttheorem\t\t|- 1 in Natural\n",
       "\tproveit.numbers.numerals.decimals.nat1\n",
       "7\tinstantiation\t8\t|- |(a)| = |(1, ..k.., 1)|\n",
       "\ta : a\n",
       "8\tconjecture\t\t|- forall_{a} (|(a)| = |(1, ..k.., 1)|)"
      ]
     },
     "execution_count": 6,
     "metadata": {},
     "output_type": "execute_result"
    }
   ],
   "source": [
    "%qed"
   ]
  },
  {
   "cell_type": "code",
   "execution_count": null,
   "metadata": {},
   "outputs": [],
   "source": []
  }
 ],
 "metadata": {
  "kernelspec": {
   "display_name": "Python 3",
   "language": "python",
   "name": "python3"
  }
 },
 "nbformat": 4,
 "nbformat_minor": 0
}