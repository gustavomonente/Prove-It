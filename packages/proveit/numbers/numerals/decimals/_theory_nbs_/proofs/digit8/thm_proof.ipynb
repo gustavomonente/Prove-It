{
 "cells": [
  {
   "cell_type": "markdown",
   "metadata": {},
   "source": [
    "Proof of <a class=\"ProveItLink\" href=\"../../../../../../_theory_nbs_/theory.ipynb\">proveit</a>.<a class=\"ProveItLink\" href=\"../../../../../_theory_nbs_/theory.ipynb\">numbers</a>.<a class=\"ProveItLink\" href=\"../../../../_theory_nbs_/theory.ipynb\">numerals</a>.<a class=\"ProveItLink\" href=\"../../theory.ipynb\">decimals</a>.<a class=\"ProveItLink\" href=\"../../theorems.ipynb#digit8\">digit8</a> theorem\n",
    "========"
   ]
  },
  {
   "cell_type": "code",
   "execution_count": 1,
   "metadata": {},
   "outputs": [],
   "source": [
    "import proveit\n",
    "theory = proveit.Theory() # the theorem's theory"
   ]
  },
  {
   "cell_type": "code",
   "execution_count": 2,
   "metadata": {},
   "outputs": [
    {
     "data": {
      "text/html": [
       "Under these <a href=\"presumptions.txt\">presumptions</a>, we begin our proof of<br><strong id=\"digit8\">digit8:</strong> <a class=\"ProveItLink\" href=\"../../../__pv_it/theorems/b2cd49e2b9fac9ff6dde3043db00e44cbdbd4f260/expr.ipynb\"><img src=\"data:image/png;base64,iVBORw0KGgoAAAANSUhEUgAAAEgAAAAVBAMAAAAX07VdAAAAMFBMVEX////c3NzMzMwQEBAiIiJE\n",
       "REQyMjKYmJiqqqpUVFS6urpmZmZ2dnaIiIju7u4AAACLnIg+AAAAAXRSTlMAQObYZgAAAVZJREFU\n",
       "KM+Fkb1Lw0AYxp+m1ktje/Q/MINLQKGTo3QQ5wh+IShO6hQ6OWepS5ekKIKLGTpLZ7FDEUHEITg4\n",
       "WbzJqVIllIqDetekIaeQvnB3z73vj+c+XmBS1B8mETUQp9hKZ459ZL3MdypzVAVmS/hKY544g76O\n",
       "zxSmaYs56ylD4O35Si6+DjYYbgKvty12qkn4cS3kbZnaVBzQd6C3JXYLjx9Qq6B7MnSid4EyF8VD\n",
       "gEIzUTBBK6MaWVteGYnz3byOUY4cIOfndGgDVhCvgLLDIifXoFYIQWVat8PXi+FdeN8xA1f1jQga\n",
       "R+HHCktxxsU98WWo3gw8sZoJKM8aFdTWeYT2xMHLkrjS4j6PCKLOdDlplGVQxL9nkk6YVySoz8eZ\n",
       "EOUkRGxTcioBq0K041SDj44EaRaIL8RU3Bz+z5iRu2Bchw2mp5dhYi7gLn9bFXveRm35F7/JulfT\n",
       "vAlu8AAAAABJRU5ErkJggg==\n",
       "\" style=\"display:inline;vertical-align:middle;\" /></a><br>(see <a class=\"ProveItLink\" href=\"../../../__pv_it/theorems/2ad098d40781451a51348613365f6b1290f028070/dependencies.ipynb\">dependencies</a>)<br>"
      ],
      "text/plain": [
       "digit8: 8 in Digits"
      ]
     },
     "execution_count": 2,
     "metadata": {},
     "output_type": "execute_result"
    }
   ],
   "source": [
    "%proving digit8"
   ]
  },
  {
   "cell_type": "code",
   "execution_count": null,
   "metadata": {},
   "outputs": [],
   "source": []
  }
 ],
 "metadata": {
  "kernelspec": {
   "display_name": "Python 3",
   "language": "python",
   "name": "python3"
  }
 },
 "nbformat": 4,
 "nbformat_minor": 0
}