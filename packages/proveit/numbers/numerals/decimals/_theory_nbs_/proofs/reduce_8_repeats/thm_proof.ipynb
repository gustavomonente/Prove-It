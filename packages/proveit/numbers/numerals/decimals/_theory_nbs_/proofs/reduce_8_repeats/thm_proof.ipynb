{
 "cells": [
  {
   "cell_type": "markdown",
   "metadata": {},
   "source": [
    "Proof of <a class=\"ProveItLink\" href=\"../../../../../../_theory_nbs_/theory.ipynb\">proveit</a>.<a class=\"ProveItLink\" href=\"../../../../../_theory_nbs_/theory.ipynb\">numbers</a>.<a class=\"ProveItLink\" href=\"../../../../_theory_nbs_/theory.ipynb\">numerals</a>.<a class=\"ProveItLink\" href=\"../../theory.ipynb\">decimals</a>.<a class=\"ProveItLink\" href=\"../../theorems.ipynb#reduce_8_repeats\">reduce_8_repeats</a> theorem\n",
    "========"
   ]
  },
  {
   "cell_type": "code",
   "execution_count": 1,
   "metadata": {},
   "outputs": [],
   "source": [
    "import proveit\n",
    "theory = proveit.Theory() # the theorem's theory"
   ]
  },
  {
   "cell_type": "code",
   "execution_count": 2,
   "metadata": {},
   "outputs": [
    {
     "data": {
      "text/html": [
       "Under these <a href=\"presumptions.txt\">presumptions</a>, we begin our proof of<br><strong id=\"reduce_8_repeats\">reduce_8_repeats:</strong> <a class=\"ProveItLink\" href=\"../../../__pv_it/theorems/8cce0df3c5eecd4f4fd5fe8de0d7a0ac2b7a59c00/expr.ipynb\"><img src=\"data:image/png;base64,iVBORw0KGgoAAAANSUhEUgAAAZ4AAAAUBAMAAABPDkY2AAAAMFBMVEX///8QEBCIiIhmZma6urrM\n",
       "zMxUVFQiIiJERETc3Nzu7u6qqqp2dnaYmJgyMjIAAAAcRTyBAAAAAXRSTlMAQObYZgAAA8FJREFU\n",
       "WMO9V01oE0EU/pps3HazG0V7UE8hggfxJ4iebLEqol609OC1wT8oUi0KClW0eLFRxIBivYhLD1ZE\n",
       "asWDUBRL60EjxSCiILZGrErFn2pVrNXWmZ1pnZndTRqNPvYjL+/t+968fTuzM4BLyjIMxZJwyjtH\n",
       "cYVmocjSP32i5yKHIkasp+rPUtW5TRdRdKljuEf1N6JjkEORILAzN6Nfue1u02Dx62lnOEu73yTY\n",
       "rTiDKjc9ByY2MO7jMKOqxYoXvx6ahSBik58Owa6nGFS5A7TlJPQdpDFDtXjx/63QLARW+tKlFtHe\n",
       "wqHKpmPozUl4y/ehD6iGFvwDGWD41tx8UDTP42idf3qh+KJMG3/qtHHjzBuDOPW0TnveW1FP/hMV\n",
       "4Vg3rJV7V6Dm5mKRi3P0qKllfiNWt7pbCpiC0e2nWQi2A0kx1wkGo8vao2dFx/0x2/md1flTa8Qq\n",
       "u6QcbXE46vVUMAE9DqMJuvgKcI5+5/1+70gcLv7LeBw9JAXkN3r4aRaCNTCkYR9gMG3zuya+5uFl\n",
       "h8sd5TVQ0oWSaCSB8GemXq3WvtN6tLkIiFOUc1xX+yPzp3Hf3iAF5Dd6+GkWAh0B6eNWzmCgtEka\n",
       "wyMEPjoNegXUVvY9ykRIP4aZipqeEVoPDh8RH8EER61aj8xvo1kJyG/08NcymBkdHvUA0+Vldi65\n",
       "25lAL8jUpwqpB9+Y2p4MsXoufxiWghiHVz0S/yclYCpGl5/XU5bdTJTu5fOrpfeN+Kql5XCILAlO\n",
       "I98SV5TVQ/tD1aMIjdh6PFBm45n0VWUc64T5k4CbP/RFCZiK0eVfx5HcBgTsXXqVtB6E7SXEKgxt\n",
       "DlCa4vWQ6Wfw+eOoPxAeWRtJBLUor5lPOc7Rr/ZH5u8MDGGBFJDf6OHn6wGuNZBi8W4iF1/2NnWc\n",
       "xDkYY+TflSy9Ntp44Nywl9w+iqAdmYO2LqbOhvnlSTAbJOtBaYrEsItzABVqPRK/Nlo6RPanJEUB\n",
       "RpefZamYfPtGJnLxtl2ItVaSR72fFK4n6BXayvaj68ePE+/SNCL1MdJZRz2zNL04gx13td5Ft4F9\n",
       "zkUiOQdeqvVI/MaWBfPIhlhvLMTo9jtZKCzay9BQyHO/E7Z9v8eR3Juw35FGg/9+R+DvROFGQaVZ\n",
       "JjOdN7Om537UxJ/WY05pPyrwd6Fwo+iPCpkuPOxOTziSEHYMrf4D1hM562nNdV7w4DeiKNwoqO3w\n",
       "OQBI5zn/c6S2+2vOXXLGPXiP89zvuyyv0HxGS35ESa+BFPu8bf2X8zbNQvALOiuQlvsGqx4AAAAA\n",
       "SUVORK5CYII=\n",
       "\" style=\"display:inline;vertical-align:middle;\" /></a><br>(see <a class=\"ProveItLink\" href=\"../../../__pv_it/theorems/fd8ef30f842048fbae3f546957eb9ab9625ebc350/dependencies.ipynb\">dependencies</a>)<br>"
      ],
      "text/plain": [
       "reduce_8_repeats: forall_{x} ((x, ..8 repeats.., x) = (x, x, x, x, x, x, x, x))"
      ]
     },
     "execution_count": 2,
     "metadata": {},
     "output_type": "execute_result"
    }
   ],
   "source": [
    "%proving reduce_8_repeats"
   ]
  },
  {
   "cell_type": "code",
   "execution_count": null,
   "metadata": {},
   "outputs": [],
   "source": []
  }
 ],
 "metadata": {
  "kernelspec": {
   "display_name": "Python 3",
   "language": "python",
   "name": "python3"
  }
 },
 "nbformat": 4,
 "nbformat_minor": 0
}