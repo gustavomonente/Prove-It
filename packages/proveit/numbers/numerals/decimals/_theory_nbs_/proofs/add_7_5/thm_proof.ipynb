{
 "cells": [
  {
   "cell_type": "markdown",
   "metadata": {},
   "source": [
    "Proof of <a class=\"ProveItLink\" href=\"../../../../../../_theory_nbs_/theory.ipynb\">proveit</a>.<a class=\"ProveItLink\" href=\"../../../../../_theory_nbs_/theory.ipynb\">numbers</a>.<a class=\"ProveItLink\" href=\"../../../../_theory_nbs_/theory.ipynb\">numerals</a>.<a class=\"ProveItLink\" href=\"../../theory.ipynb\">decimals</a>.<a class=\"ProveItLink\" href=\"../../theorems.ipynb#add_7_5\">add_7_5</a> theorem\n",
    "========"
   ]
  },
  {
   "cell_type": "code",
   "execution_count": 1,
   "metadata": {},
   "outputs": [],
   "source": [
    "import proveit\n",
    "theory = proveit.Theory() # the theorem's theory"
   ]
  },
  {
   "cell_type": "code",
   "execution_count": 2,
   "metadata": {},
   "outputs": [
    {
     "data": {
      "text/html": [
       "Under these <a href=\"presumptions.txt\">presumptions</a>, we begin our proof of<br><strong id=\"add_7_5\">add_7_5:</strong> <a class=\"ProveItLink\" href=\"../../../__pv_it/theorems/6adad04935a9117a6d3198c5913494fd8533efc30/expr.ipynb\"><img src=\"data:image/png;base64,iVBORw0KGgoAAAANSUhEUgAAAGwAAAAUBAMAAACaOcVSAAAAMFBMVEX///9UVFTMzMx2dna6uroQ\n",
       "EBCqqqqIiIgiIiJmZmYyMjJERETu7u6YmJjc3NwAAAC+aOQFAAAAAXRSTlMAQObYZgAAAXdJREFU\n",
       "OMuVlD1Iw0AUx/9paGhqEgIOTn6Ak5NKJl3sppsdxLUuUkdXHTRFdHFJ7ahD/FgaUMRZJatVMIsI\n",
       "LnbURal1EULj5RokuXyAb7jjvXe/e3d/3h2gOEg2oY0Mu0eu1tC0aPDcnljBSDJwd3hFxgvInud1\n",
       "oqmK1wVacWTVhqRirgTZgEhOo/bD1SB9OkRi/DoDSYOjNkQb+TIKbfBkxVgUo7tI5Vi1V8Lo4Hp4\n",
       "o+48EjCcJWFFF9wXNqh7yWDDzwdknEnCiBVc3Pgz7zDYNT5LwAvNWdSMELY4hT1/fgSDAQM6sJZS\n",
       "rQYs+fMmjc1a1q5lHfcXiD1gMhkTjQDbZ6pxJvjvVMyXgx6yw2B5E6ILLITupv5hgoEPKknuh8FE\n",
       "opYZSBKrNg5sUZGFLoMpBp5ImzRi2LYNZUer6/QgyjKr5Pv0ERlPWKpeaTpF0sG631whq0ZaUE9/\n",
       "N7IR9h7CTqyVw3abmmllP9P/b+jrkfYpyBmfwi/q1HDGFXXO7AAAAABJRU5ErkJggg==\n",
       "\" style=\"display:inline;vertical-align:middle;\" /></a><br>(see <a class=\"ProveItLink\" href=\"../../../__pv_it/theorems/a3cf51ace1a773b05b4dd044463c100756497b460/dependencies.ipynb\">dependencies</a>)<br>"
      ],
      "text/plain": [
       "add_7_5: (7 + 5) = 12"
      ]
     },
     "execution_count": 2,
     "metadata": {},
     "output_type": "execute_result"
    }
   ],
   "source": [
    "%proving add_7_5"
   ]
  },
  {
   "cell_type": "code",
   "execution_count": null,
   "metadata": {},
   "outputs": [],
   "source": []
  }
 ],
 "metadata": {
  "kernelspec": {
   "display_name": "Python 3",
   "language": "python",
   "name": "python3"
  }
 },
 "nbformat": 4,
 "nbformat_minor": 0
}