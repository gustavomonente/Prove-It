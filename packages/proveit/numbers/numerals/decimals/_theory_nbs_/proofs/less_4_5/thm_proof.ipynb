{
 "cells": [
  {
   "cell_type": "markdown",
   "metadata": {},
   "source": [
    "Proof of <a class=\"ProveItLink\" href=\"../../../../../../_theory_nbs_/theory.ipynb\">proveit</a>.<a class=\"ProveItLink\" href=\"../../../../../_theory_nbs_/theory.ipynb\">numbers</a>.<a class=\"ProveItLink\" href=\"../../../../_theory_nbs_/theory.ipynb\">numerals</a>.<a class=\"ProveItLink\" href=\"../../theory.ipynb\">decimals</a>.<a class=\"ProveItLink\" href=\"../../theorems.ipynb#less_4_5\">less_4_5</a> theorem\n",
    "========"
   ]
  },
  {
   "cell_type": "code",
   "execution_count": 1,
   "metadata": {},
   "outputs": [],
   "source": [
    "import proveit\n",
    "theory = proveit.Theory() # the theorem's theory"
   ]
  },
  {
   "cell_type": "code",
   "execution_count": 2,
   "metadata": {},
   "outputs": [
    {
     "data": {
      "text/html": [
       "Under these <a href=\"presumptions.txt\">presumptions</a>, we begin our proof of<br><strong id=\"less_4_5\">less_4_5:</strong> <a class=\"ProveItLink\" href=\"../../../__pv_it/theorems/ef4024fc9454d31808ed047abeba87a8e82f6b430/expr.ipynb\"><img src=\"data:image/png;base64,iVBORw0KGgoAAAANSUhEUgAAADEAAAAPBAMAAAC/wjryAAAAMFBMVEX///+6urpERESqqqru7u52\n",
       "dnYyMjKYmJjc3NwQEBCIiIhUVFQiIiJmZmbMzMwAAABIfTqqAAAAAXRSTlMAQObYZgAAAKdJREFU\n",
       "GNNjYGBgeMuABthK+C6DGafRZTj//w8A0VyzEWLMeWA90SvAvPZsuAT72QYQxQ3lBsBluI46MCDJ\n",
       "sDfAZFxPQRnc5WsfACkvBqiM73GYXiYHjo8gw6Ay3MnIztMBuuYBVMYbReZ+A4MrA8y0Xrhp2xgY\n",
       "4gUYrO/e/XkLzQXTgHrArpyN7uoLDAzHwIxJ6D7tZWCfAaKD/m9HCx2Oq3sdGHADAAIhK84O7JgI\n",
       "AAAAAElFTkSuQmCC\n",
       "\" style=\"display:inline;vertical-align:middle;\" /></a><br>(see <a class=\"ProveItLink\" href=\"../../../__pv_it/theorems/916f9f4787a8609379b5dafacd9ed83ff8dfc1e20/dependencies.ipynb\">dependencies</a>)<br>"
      ],
      "text/plain": [
       "less_4_5: 4 < 5"
      ]
     },
     "execution_count": 2,
     "metadata": {},
     "output_type": "execute_result"
    }
   ],
   "source": [
    "%proving less_4_5"
   ]
  },
  {
   "cell_type": "code",
   "execution_count": null,
   "metadata": {},
   "outputs": [],
   "source": []
  }
 ],
 "metadata": {
  "kernelspec": {
   "display_name": "Python 3",
   "language": "python",
   "name": "python3"
  }
 },
 "nbformat": 4,
 "nbformat_minor": 0
}