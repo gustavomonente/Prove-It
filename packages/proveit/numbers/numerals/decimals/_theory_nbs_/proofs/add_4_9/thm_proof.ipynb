{
 "cells": [
  {
   "cell_type": "markdown",
   "metadata": {},
   "source": [
    "Proof of <a class=\"ProveItLink\" href=\"../../../../../../_theory_nbs_/theory.ipynb\">proveit</a>.<a class=\"ProveItLink\" href=\"../../../../../_theory_nbs_/theory.ipynb\">numbers</a>.<a class=\"ProveItLink\" href=\"../../../../_theory_nbs_/theory.ipynb\">numerals</a>.<a class=\"ProveItLink\" href=\"../../theory.ipynb\">decimals</a>.<a class=\"ProveItLink\" href=\"../../theorems.ipynb#add_4_9\">add_4_9</a> theorem\n",
    "========"
   ]
  },
  {
   "cell_type": "code",
   "execution_count": 1,
   "metadata": {},
   "outputs": [],
   "source": [
    "import proveit\n",
    "theory = proveit.Theory() # the theorem's theory"
   ]
  },
  {
   "cell_type": "code",
   "execution_count": 2,
   "metadata": {},
   "outputs": [
    {
     "data": {
      "text/html": [
       "Under these <a href=\"presumptions.txt\">presumptions</a>, we begin our proof of<br><strong id=\"add_4_9\">add_4_9:</strong> <a class=\"ProveItLink\" href=\"../../../__pv_it/theorems/e9fb3a2c758b3df96f04cef43faaa0eb3f4cbfd70/expr.ipynb\"><img src=\"data:image/png;base64,iVBORw0KGgoAAAANSUhEUgAAAGwAAAAUBAMAAACaOcVSAAAAMFBMVEX///9UVFTMzMx2dna6uroQ\n",
       "EBCqqqqIiIgiIiJmZmYyMjJERETu7u6YmJjc3NwAAAC+aOQFAAAAAXRSTlMAQObYZgAAAYBJREFU\n",
       "OMtjYOC7wIAdsD1gwANOgwhNNMGTxnIMDHLYNTw23gYk14GYjagyPLEMTw8wnMLUknqAgW8CQ/4F\n",
       "Bt4JQB57IFQ4HUIxBjAwTmBgLkDTxCMsf4CB/RsDfwMDB8gHbxeiauNfwMD8gYEnAMO2+wcYWEJA\n",
       "0i9APAM0bec3MLD/Y2BYgk0bEAAdWQmkeB+gaWMF2vaFgcESuzaeZgaGvUD6OAOaNqALuf4yMNwC\n",
       "s1eBwQS4Nj6LOQwMbSA3omtj2M6Q/I2BIQOHI0sdGEKA8aoA0Wa1alXrqlVgJtt15U8MDPo4tLHG\n",
       "gLQdZsCwDRgHf3Bo43vAwP0N5MjEmTO/TkfXxiXAwOCB5DcBmDb+PyBte8FctOjmjWHQfwANEnTb\n",
       "WDcwcPyBBnI0qjb2NTxrgdRkDG31Bxh4L4DiDewQ6/+yqI40nukAJBeh65oYv/ICg+fMLQyQxAUH\n",
       "6ShJsAF3vuGdgMw7g8zBSMrIYB9OmVMEsymJBgIBzkKBF0+hAABaG3USVmmlmAAAAABJRU5ErkJg\n",
       "gg==\n",
       "\" style=\"display:inline;vertical-align:middle;\" /></a><br>(see <a class=\"ProveItLink\" href=\"../../../__pv_it/theorems/273a75b9d0172094023fef777b81594b257f75190/dependencies.ipynb\">dependencies</a>)<br>"
      ],
      "text/plain": [
       "add_4_9: (4 + 9) = 13"
      ]
     },
     "execution_count": 2,
     "metadata": {},
     "output_type": "execute_result"
    }
   ],
   "source": [
    "%proving add_4_9"
   ]
  },
  {
   "cell_type": "code",
   "execution_count": null,
   "metadata": {},
   "outputs": [],
   "source": []
  }
 ],
 "metadata": {
  "kernelspec": {
   "display_name": "Python 3",
   "language": "python",
   "name": "python3"
  }
 },
 "nbformat": 4,
 "nbformat_minor": 0
}