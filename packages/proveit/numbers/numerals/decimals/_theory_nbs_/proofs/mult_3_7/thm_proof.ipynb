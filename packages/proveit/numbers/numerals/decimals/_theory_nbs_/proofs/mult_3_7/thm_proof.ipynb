{
 "cells": [
  {
   "cell_type": "markdown",
   "metadata": {},
   "source": [
    "Proof of <a class=\"ProveItLink\" href=\"../../../../../../_theory_nbs_/theory.ipynb\">proveit</a>.<a class=\"ProveItLink\" href=\"../../../../../_theory_nbs_/theory.ipynb\">numbers</a>.<a class=\"ProveItLink\" href=\"../../../../_theory_nbs_/theory.ipynb\">numerals</a>.<a class=\"ProveItLink\" href=\"../../theory.ipynb\">decimals</a>.<a class=\"ProveItLink\" href=\"../../theorems.ipynb#mult_3_7\">mult_3_7</a> theorem\n",
    "========"
   ]
  },
  {
   "cell_type": "code",
   "execution_count": 1,
   "metadata": {},
   "outputs": [],
   "source": [
    "import proveit\n",
    "theory = proveit.Theory() # the theorem's theory"
   ]
  },
  {
   "cell_type": "code",
   "execution_count": 2,
   "metadata": {},
   "outputs": [
    {
     "data": {
      "text/html": [
       "Under these <a href=\"presumptions.txt\">presumptions</a>, we begin our proof of<br><strong id=\"mult_3_7\">mult_3_7:</strong> <a class=\"ProveItLink\" href=\"../../../__pv_it/theorems/6063119ee863674b81575b2c8306ab4ae8c91def0/expr.ipynb\"><img src=\"data:image/png;base64,iVBORw0KGgoAAAANSUhEUgAAAGAAAAAUBAMAAACABSXcAAAAMFBMVEX////MzMxUVFR2dna6uroQ\n",
       "EBCqqqqIiIgiIiJmZmYyMjJERETu7u6YmJjc3NwAAACgK8IjAAAAAXRSTlMAQObYZgAAAXZJREFU\n",
       "KM99k79Lw0AUx7/9mbZpfoxudhF0ajRDrSA46l7BwcHVxbo4uAUEV7MWqoibDtqhuIhSCoLgYP8C\n",
       "DYjQsaAUkUJ8ucRrvKR9cI979+7z7r27d4DaQ0T2MEWegXfzlpszC6ZpJB1xV7FxpwfTa6g26vyY\n",
       "N9d1S8VzEegi9QVktwHFhjSEZv15zoAkUBGBJrCJ7tIIyDlI16DxkAawCDyKwBZQdqAQ0Gd2PVR5\n",
       "eh8orAnATQdlnQGHrKSjkE+mkbKjt3PSYcA9TdXlZsixSkNhKa5ceXIZHPwJBhwz68BLoehf4IBU\n",
       "1oockCv5QI1ZGbovvLCwkqcTgwjQAAdUB/IwiEG6FQtINnhK2sgHfNE8LG2Na7hgy7te3KDoTAu5\n",
       "EQdmbV50SBIGJB+okrcXfoc6PR3yhgD0zeo85UXAOlkbjfbY9bFDqqCLD+e638jP/Zx6rREjT5O7\n",
       "W7HjVitT/sNDzFq0vf9/oIjIzhQg7ou+Tt7+Cz3ZYp7hi8pcAAAAAElFTkSuQmCC\n",
       "\" style=\"display:inline;vertical-align:middle;\" /></a><br>(see <a class=\"ProveItLink\" href=\"../../../__pv_it/theorems/9098fde398b463cbb2ca8cfa1ac221896f0a81000/dependencies.ipynb\">dependencies</a>)<br>"
      ],
      "text/plain": [
       "mult_3_7: (3 * 7) = 21"
      ]
     },
     "execution_count": 2,
     "metadata": {},
     "output_type": "execute_result"
    }
   ],
   "source": [
    "%proving mult_3_7"
   ]
  },
  {
   "cell_type": "code",
   "execution_count": null,
   "metadata": {},
   "outputs": [],
   "source": []
  }
 ],
 "metadata": {
  "kernelspec": {
   "display_name": "Python 3",
   "language": "python",
   "name": "python3"
  }
 },
 "nbformat": 4,
 "nbformat_minor": 0
}