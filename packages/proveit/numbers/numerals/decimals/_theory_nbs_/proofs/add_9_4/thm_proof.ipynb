{
 "cells": [
  {
   "cell_type": "markdown",
   "metadata": {},
   "source": [
    "Proof of <a class=\"ProveItLink\" href=\"../../../../../../_theory_nbs_/theory.ipynb\">proveit</a>.<a class=\"ProveItLink\" href=\"../../../../../_theory_nbs_/theory.ipynb\">numbers</a>.<a class=\"ProveItLink\" href=\"../../../../_theory_nbs_/theory.ipynb\">numerals</a>.<a class=\"ProveItLink\" href=\"../../theory.ipynb\">decimals</a>.<a class=\"ProveItLink\" href=\"../../theorems.ipynb#add_9_4\">add_9_4</a> theorem\n",
    "========"
   ]
  },
  {
   "cell_type": "code",
   "execution_count": 1,
   "metadata": {},
   "outputs": [],
   "source": [
    "import proveit\n",
    "theory = proveit.Theory() # the theorem's theory"
   ]
  },
  {
   "cell_type": "code",
   "execution_count": 2,
   "metadata": {},
   "outputs": [
    {
     "data": {
      "text/html": [
       "Under these <a href=\"presumptions.txt\">presumptions</a>, we begin our proof of<br><strong id=\"add_9_4\">add_9_4:</strong> <a class=\"ProveItLink\" href=\"../../../__pv_it/theorems/f5994d415b0b1896994964fc0eaa87c6b2b7eaae0/expr.ipynb\"><img src=\"data:image/png;base64,iVBORw0KGgoAAAANSUhEUgAAAGwAAAAUBAMAAACaOcVSAAAAMFBMVEX////MzMxUVFR2dna6uroQ\n",
       "EBCqqqqIiIgiIiJmZmYyMjJERETu7u6YmJjc3NwAAACgK8IjAAAAAXRSTlMAQObYZgAAAYBJREFU\n",
       "OMuVlD1Iw0AUx/+kpik1H4KTUwvO1kIWP5aOupXSzYqgSN10cXCyKDoHHSTgoOJiUOkgOikBB7EK\n",
       "ZhNcDIjgIihopvhxF4kkl6TiH/Lx7t0v7+XduwNkC/FK22ijK+BSLUSGe4BCPPCgHpP7IcRxPJqs\n",
       "cwloRZFpE7KGWQuSBq4MTvsZrvt+oQKk5hhI7O03IThQGsjYULaQemGw5x0yqxyJdm+io0qBJ+Cm\n",
       "CeGTwYoEw24cRkSSXAB4Eu0tjEk2xQbjMXEZOAXNMPsRxi5AsTv6mjI8ab+YPLAJrBLjBFNOGCt6\n",
       "2ExCkvMlVOnC3na/kseQYawYBp2f7vKwXALG1zwM4NxQtHMkY7KNTsdLEsjmQ9ikrr9vACOBf8v7\n",
       "mOJSjJREqiFnMwuAil8SNhrfRMalRRb2xQOw2Bi51iPYognJoutGE1H1EosNf/UB2yy1NrFnYVQ/\n",
       "Am2ugOqhFmwk7xtJC1rXQSPSykGdJXpaf2zTf3+QKPFQkNocCt9HnnUwlnLwvwAAAABJRU5ErkJg\n",
       "gg==\n",
       "\" style=\"display:inline;vertical-align:middle;\" /></a><br>(see <a class=\"ProveItLink\" href=\"../../../__pv_it/theorems/6f62b6a1c4326b20fb06cecd7002ffe6c6c2dcde0/dependencies.ipynb\">dependencies</a>)<br>"
      ],
      "text/plain": [
       "add_9_4: (9 + 4) = 13"
      ]
     },
     "execution_count": 2,
     "metadata": {},
     "output_type": "execute_result"
    }
   ],
   "source": [
    "%proving add_9_4"
   ]
  },
  {
   "cell_type": "code",
   "execution_count": null,
   "metadata": {},
   "outputs": [],
   "source": []
  }
 ],
 "metadata": {
  "kernelspec": {
   "display_name": "Python 3",
   "language": "python",
   "name": "python3"
  }
 },
 "nbformat": 4,
 "nbformat_minor": 0
}