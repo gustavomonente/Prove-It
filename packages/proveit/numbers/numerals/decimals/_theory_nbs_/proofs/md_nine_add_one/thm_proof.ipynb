{
 "cells": [
  {
   "cell_type": "markdown",
   "metadata": {},
   "source": [
    "Proof of <a class=\"ProveItLink\" href=\"../../../../../../_theory_nbs_/theory.ipynb\">proveit</a>.<a class=\"ProveItLink\" href=\"../../../../../_theory_nbs_/theory.ipynb\">numbers</a>.<a class=\"ProveItLink\" href=\"../../../../_theory_nbs_/theory.ipynb\">numerals</a>.<a class=\"ProveItLink\" href=\"../../theory.ipynb\">decimals</a>.<a class=\"ProveItLink\" href=\"../../theorems.ipynb#md_nine_add_one\">md_nine_add_one</a> theorem\n",
    "========"
   ]
  },
  {
   "cell_type": "code",
   "execution_count": 1,
   "metadata": {},
   "outputs": [],
   "source": [
    "import proveit\n",
    "theory = proveit.Theory() # the theorem's theory"
   ]
  },
  {
   "cell_type": "code",
   "execution_count": 2,
   "metadata": {},
   "outputs": [
    {
     "data": {
      "text/html": [
       "Under these <a href=\"presumptions.txt\">presumptions</a>, we begin our proof of<br><strong id=\"md_nine_add_one\">md_nine_add_one:</strong> <a class=\"ProveItLink\" href=\"../../../__pv_it/theorems/85b5ee383dbd5a2c05d179d01f76e49d4b02d9320/expr.ipynb\"><img src=\"data:image/png;base64,iVBORw0KGgoAAAANSUhEUgAAA+4AAAAaBAMAAADbIRsfAAAAMFBMVEX///8QEBCIiIhmZma6urrM\n",
       "zMxUVFQiIiJERETc3Nzu7u6qqqp2dnaYmJgyMjIAAAAcRTyBAAAAAXRSTlMAQObYZgAAChFJREFU\n",
       "aN7tWn1sFNcR//lu986392GakjaYJDrs4qRNIScIzYdBOVQ1/JecHYmkUiRfnFIFlKRWkaABZK6W\n",
       "mthFqNtSOShq4oVIkLoEX5qiFAmEa6dUIQYuIW1DgsshKtIkytkCQrBNaN/Hfrzd2/Od7+QGRR75\n",
       "eXfndt+bmd97M/NmFyiFfOufxgx9ZUhav6m0G/0ztvpqUfc1g3sgw5tJL3zpxtk/Ba6lRJm6T3ms\n",
       "cjXaz3HP0sNwUdwj9BDOTJ+RX9YbkMIu8l9JTb0P5edt/OSlodVu7Cn0tPSwCp/qGvPcuNVQkqYC\n",
       "ZeheQERrrNCCv1amEQZOJVh/rM9uvEV5HxfFPZQmh4g2fbh/pDcoWRygY6lldBKJcbPchF9r+ezC\n",
       "FHcydmQCtVQSBwVr4cIltBfBfkOBsnTPF9E+1ifYrVakUSStPM36Y312Yzv1M6miuLNbtk8f7OEY\n",
       "b6AGvIMcTpTTS02aL5NZ8MXy2YVXd54VHwUeI0vEgCDKj7sOj8PiinQA3rihQFm6myK6jxWehVC2\n",
       "Io3eBo7x/gYY7nQNh9LF4zt1CW9NH+5+lTdQA1InVtYG4gG+ymuyCI3msyc1vJ2uAsfJqndggTDF\n",
       "YodLD3ewFMivlq27KaL7WNVJBMcr0ugZ4JDG+tvBcA8f6e19roS87lRv7+/bpg/35/RGx6KeKFDW\n",
       "WH/jh74UPGP57IJ0yGkl5TJwu4pI3A2LSDy/hzbi6Q0FytLdFNF9rJokpIlKNMIlMlnSrD/aSD5/\n",
       "ubNzUwm413R2Pts/fbjX680IlR4q+LbBeZPO68DSRbU2xrm6RnqoIuv9osA+i4N3023rmduOqYFl\n",
       "h9X7bzxxmKSo206tRrBuAOF71zai+eBC4YmbyXqPIxRzwyKU7831nKTeTSYn5StVb0leaKy+GKTz\n",
       "lWikXCC4R1l/tBHcVwFdJeDuS6BanT7ct+oN+CO8CeLYiBbSHIxM+tByNTJqM/9VrY/KSJx85AuB\n",
       "PeH5LbusauzLrNCkWnwtrqyFtAHLtddVbxL+GN0+iJtV4uRHMghn3bDg3GM5SmfNG5boCjhlyquZ\n",
       "5Cu11ZLcfSygpx/y+Uo0ClwBWqKsP9oI7t93ZKjzoq64SzHmysogJaEM3FPspo28hXK5b+ZGcv+B\n",
       "P02TatwFyAWTTpK2e20/khBYw6TvwIEJkf0dhe1AIyR43Ahch3PEE8ar+lEVfTUhjVMrEdN5xH1Z\n",
       "NHg8jWCbG+5BZwg6ljvTnruaS1EFdJkeLqgoV8qpuyl5gbF6YpCvVKJRgKz3ln7WH23dFFOPbVvu\n",
       "10OKvPYNzEtadZs2LCgJ5vsd+5zAoBpRtwu7Cyln/vbakHE2W290HFpMqiK33qvhp5AXF4z0XqKf\n",
       "bZJ6s+hjsSj4ziOfCeyvG3uZJOQLw8NPEjdJPGfLsuF/ZNA8OEathM0dNm92cP7xBGS6cslU/PDm\n",
       "XC5pYiGPuu13klwBLtODdxY0D1PKTrNNyQuO5fDzU9dI9/O0P9qIiUMZezWuj0afPwwuw59Dmlez\n",
       "cD+K0lItIyTp80ZeqqEPNdBLMpQGdY+nhZOemBN3YsBhHfcboBD0pILDVqXQl3Bs3x/QtyY+Ifv1\n",
       "t3aYvwcneHhETeoQvXVvl8yttGfkgr33n2im1e1r0AX3bl7Smm3KtKKgebhSTtwtyd3HInldcKIi\n",
       "jUheR34WcA9kV9qkoCKHtzyv4WA0FhLqtC/KydJqJ2lx3khP0qmEGlXA/RM+L54h4AbG7X4e1PnQ\n",
       "dIP4eeUKgqOT4U5WyCH79j1Dl5OxEKz74j3ch0WMKMlXB7Xws5DHNH/ME9Bw2p6nn7OGtmPBuTy+\n",
       "n+P8BTz32WjKVBB3XSmnn7ckdxuLxJ0Uvy5fo07gtMb6k7ifR9ePyCDLmus9DWzxDMoNJOYT2rfv\n",
       "NyLu1d3x0monqjhvXqaieBP6fpPjzrZYgcdV9Ki4aM/rQrmR9g8/J/Gd5HXKBHzZ/ZPhnsZTQfXE\n",
       "3+tidav40HESXqnJatEi+LjT5M5+3UpoB3byaOjPQokSGMZ+EEl6pSh8Qrh7WyOLZtK8zhbfP89t\n",
       "bifxfash0yS4M6UEc3O9DckLjeWo25SjEavbCHkdXiOGDS/PVK3xsDXy6Z/6NDbEvtArjwi4B2nM\n",
       "UhY9lcjXxcZsqVsjzpsHj5DTD5oEPy+fb9Cg3EUeIR7RcF6Dhv+P0AySR4sO/DPZb+GuXKVYZ/UT\n",
       "lnyF14Xw7k34htbAnXummsUNz8fKp3xmZOnf46hJMCtR79eSxj04oyqbIE/Aq92A0Gfve7NekgVV\n",
       "q6Rjve+F2l5iM2+/AwsPxcKbv53Nco0HDZks3E15+3TYmFKCufljhuQFx9qIHYmKNPKnlet5f7RR\n",
       "3Gki+fwtZMrxQS4l9CrfPvQPCriD+pPdiRYNPsf+kzFNukWrhzhvfnc3PNpBAXfPBk9MORZnQVz+\n",
       "QoguK6yKJ0N7V90PW+PCel9HJUnqJ3QitM7v/lZgZxtxGkv1CXiU/zK0mPsmcjf52wLPIiqg9KvL\n",
       "JHo89l0N595pIDfsWnQE3YuOLMzgx29KRxe8wTrmfYcGaa04krBj4X306jKLK6TXvLRMFWAyCbib\n",
       "8vp1lJlSgrn1xwzJC421R3dpZWukDFD/EtEbxT1Me2hFE9s7Qb5uC+SfdXZ2ENxf8Iu4v0/aYjwE\n",
       "+S8O3CnTog78yz5vdqY9AxkBd7Iksk2MEUyFLzrrtEv0XadZp5WKpJO+qDyLpwal09nSbtvtrKHZ\n",
       "uEJ6neA5r1WnXVGkZ9PccJZ3i41VuUa7Ibx/vx63okemqzHVFECS4yY1i7hTmgviUf0O3BlTyE6/\n",
       "lzdvDGK4V8W9ydC/2XXz/DHne5k2/e3PiVJxr0p4UoHRxHTgbrwVUTQ3bt5rK6EqXgx309x5xfRi\n",
       "Y1Wu0YCAe2CUTMH3QtiuVUcf8oC9630XOOXAXRnD1l4n7owZbhxecoAZf5zMA2ve7BkaGorbca/R\n",
       "qtJ46Rf0SUhm3aWLN7Jp4GUCszgYLIJ7D1nx4dTUSsjrSis4ZUvkrjRKIGbh8/XJezbMLeg+BQkq\n",
       "00h/D6svqiQ+QvcRNKUjqm8+qokLktrj8DnX+xz5YobiHvglmSLGP8oMLsRcEubI1YZwKm/e2HD3\n",
       "a+/Rkbuox68216n+3UU4jTVcRH1GBO68FJ1Ul/sQUQNPaFOB/b7/ri7lNve6tAv3AyPlMb672La5\n",
       "ddKeDXMLuk9Bgso0qlbh8p2VHnNu7exw1Gn1/m+rZ7jLc9GkynPov7mcuUppIwkZuVo5hLx5Y8Nd\n",
       "foItzu2rIdW9aS2Ba+87q5NT4FpKlEEFHzs5DRqdhAvuQbXQexnxikzuoPWI/iYyGPMHzSvHvLHh\n",
       "btDDKmboSyIn7mEUx12+vVH84o+fKUlP3PftYl8CpmYsfm3iXoD8ed/PZ1zO8q9mcL8mSVq/7v87\n",
       "YGzG5tcI/Q/5KqoodmI1rQAAAABJRU5ErkJggg==\n",
       "\" style=\"display:inline;vertical-align:middle;\" /></a><br>(see <a class=\"ProveItLink\" href=\"../../../__pv_it/theorems/3b9f1fba806c3faa36f0038c0b82dd3548d150620/dependencies.ipynb\">dependencies</a>)<br>"
      ],
      "text/plain": [
       "md_nine_add_one: forall_{m, k in Natural} [forall_{a_{1}, ..a_{_a}.., a_{m}, b in Digits | b < 9} ((\\# (a_{1} ~ ..a_{_a}.. ~ a_{m} ~ b ~ 9 ~ ..k repeats.. ~ 9) + 1) = \\# (a_{1} ~ ..a_{_a}.. ~ a_{m} ~ (b + 1) ~ 0 ~ ..k repeats.. ~ 0))]"
      ]
     },
     "execution_count": 2,
     "metadata": {},
     "output_type": "execute_result"
    }
   ],
   "source": [
    "%proving md_nine_add_one"
   ]
  },
  {
   "cell_type": "code",
   "execution_count": null,
   "metadata": {},
   "outputs": [],
   "source": []
  }
 ],
 "metadata": {
  "kernelspec": {
   "display_name": "Python 3",
   "language": "python",
   "name": "python3"
  }
 },
 "nbformat": 4,
 "nbformat_minor": 0
}