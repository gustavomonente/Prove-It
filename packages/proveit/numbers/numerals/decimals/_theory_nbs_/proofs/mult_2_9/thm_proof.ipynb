{
 "cells": [
  {
   "cell_type": "markdown",
   "metadata": {},
   "source": [
    "Proof of <a class=\"ProveItLink\" href=\"../../../../../../_theory_nbs_/theory.ipynb\">proveit</a>.<a class=\"ProveItLink\" href=\"../../../../../_theory_nbs_/theory.ipynb\">numbers</a>.<a class=\"ProveItLink\" href=\"../../../../_theory_nbs_/theory.ipynb\">numerals</a>.<a class=\"ProveItLink\" href=\"../../theory.ipynb\">decimals</a>.<a class=\"ProveItLink\" href=\"../../theorems.ipynb#mult_2_9\">mult_2_9</a> theorem\n",
    "========"
   ]
  },
  {
   "cell_type": "code",
   "execution_count": 1,
   "metadata": {},
   "outputs": [],
   "source": [
    "import proveit\n",
    "theory = proveit.Theory() # the theorem's theory"
   ]
  },
  {
   "cell_type": "code",
   "execution_count": 2,
   "metadata": {},
   "outputs": [
    {
     "data": {
      "text/html": [
       "Under these <a href=\"presumptions.txt\">presumptions</a>, we begin our proof of<br><strong id=\"mult_2_9\">mult_2_9:</strong> <a class=\"ProveItLink\" href=\"../../../__pv_it/theorems/81d512c246ca375d89a94d4e323bbdfba3c347d80/expr.ipynb\"><img src=\"data:image/png;base64,iVBORw0KGgoAAAANSUhEUgAAAGEAAAAUBAMAAABvx07iAAAAMFBMVEX///9UVFTMzMx2dna6uroQ\n",
       "EBCqqqqIiIgiIiJmZmYyMjJERETu7u6YmJjc3NwAAAC+aOQFAAAAAXRSTlMAQObYZgAAAYZJREFU\n",
       "KM+Fk79Lw1AQxz+pmjZtUrooOCn4B9jiIFUkHcVFBycR6T+giIvooBXB1YpuIrSjDgrOKnEQ/DFY\n",
       "EXGTjE4igkstxpdXU6V9xhsS7t193t2XdwfJCi02R5jdwNXuccM1tzMumqtMNRezOfE7xExh54LT\n",
       "i0pyGrPUkq1PgwFdYBUxHDomgkgndMNgM3CeqcEsXEPMpaOA9hmEqmCLSi01LEEMwyU8Q7yG9ha0\n",
       "+gGrLvGcihg/YQSWpB+rBZEpfFFtRRWhefd5OJX+eDqIiJaOKlhS+tCBb/sNArvqwIb012RH/icx\n",
       "r9t59IKqhr6zOQmTvmvIJm7lxbMLdi+RVxVxR/TdqRPfYlL1YI/zByGepD8vu9KLvPwKlqG98KOj\n",
       "HBCmuEarSOV9sBKkPzgR8TZWSVVjRsh0yUJyfWCroXTZuRajaaSbiaggxhweYVS8oOd5DaItuyO+\n",
       "8d4mwOis7hHp9icxphzTy5Bht4qq08Gw/ThTLULpn41qsYQbRqi29ikk/wuwW2pwn8pY9wAAAABJ\n",
       "RU5ErkJggg==\n",
       "\" style=\"display:inline;vertical-align:middle;\" /></a><br>(see <a class=\"ProveItLink\" href=\"../../../__pv_it/theorems/2306a627ca73d4fdfa322965e443d1ed16f9bdfd0/dependencies.ipynb\">dependencies</a>)<br>"
      ],
      "text/plain": [
       "mult_2_9: (2 * 9) = 18"
      ]
     },
     "execution_count": 2,
     "metadata": {},
     "output_type": "execute_result"
    }
   ],
   "source": [
    "%proving mult_2_9"
   ]
  },
  {
   "cell_type": "code",
   "execution_count": null,
   "metadata": {},
   "outputs": [],
   "source": []
  }
 ],
 "metadata": {
  "kernelspec": {
   "display_name": "Python 3",
   "language": "python",
   "name": "python3"
  }
 },
 "nbformat": 4,
 "nbformat_minor": 0
}