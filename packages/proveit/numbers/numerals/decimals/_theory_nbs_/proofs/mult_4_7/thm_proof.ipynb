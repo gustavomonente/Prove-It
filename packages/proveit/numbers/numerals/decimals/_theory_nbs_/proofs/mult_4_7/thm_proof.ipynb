{
 "cells": [
  {
   "cell_type": "markdown",
   "metadata": {},
   "source": [
    "Proof of <a class=\"ProveItLink\" href=\"../../../../../../_theory_nbs_/theory.ipynb\">proveit</a>.<a class=\"ProveItLink\" href=\"../../../../../_theory_nbs_/theory.ipynb\">numbers</a>.<a class=\"ProveItLink\" href=\"../../../../_theory_nbs_/theory.ipynb\">numerals</a>.<a class=\"ProveItLink\" href=\"../../theory.ipynb\">decimals</a>.<a class=\"ProveItLink\" href=\"../../theorems.ipynb#mult_4_7\">mult_4_7</a> theorem\n",
    "========"
   ]
  },
  {
   "cell_type": "code",
   "execution_count": 1,
   "metadata": {},
   "outputs": [],
   "source": [
    "import proveit\n",
    "theory = proveit.Theory() # the theorem's theory"
   ]
  },
  {
   "cell_type": "code",
   "execution_count": 2,
   "metadata": {},
   "outputs": [
    {
     "data": {
      "text/html": [
       "Under these <a href=\"presumptions.txt\">presumptions</a>, we begin our proof of<br><strong id=\"mult_4_7\">mult_4_7:</strong> <a class=\"ProveItLink\" href=\"../../../__pv_it/theorems/b8683e2619090ea7331954eb4b99eebc08ff420f0/expr.ipynb\"><img src=\"data:image/png;base64,iVBORw0KGgoAAAANSUhEUgAAAGEAAAAUBAMAAABvx07iAAAAMFBMVEX///9UVFTMzMx2dna6uroQ\n",
       "EBCqqqqIiIgiIiJmZmYyMjJERETu7u6YmJjc3NwAAAC+aOQFAAAAAXRSTlMAQObYZgAAAY9JREFU\n",
       "KM99kz1Iw0AUgL/U0tSa1k6ig9hRpxY7lFqKHcVFBAVBER0d/NnErS6u7SBIQcSOOqi7P0REFB2s\n",
       "OLhpFqGDgqAFcYl3qaQlCXkkj3v37nt37907iNVwyQp+ci/VkG0O9qXTKcVwrtIqpwm09WxBjI/k\n",
       "xKbtejVNM67tO4lLOr7phB6IloWtTtquPVAg4yR2YZpluIOwPMBH1XalYBiuncQMDBg5uIW6taza\n",
       "5gyuQaTgII51BhITZ+RhQ5hRo53oEn9H2V2ikq6YTwtwLsY3tBN5GcNKfeRQysH/1l8w+qvDlnV2\n",
       "i9CadfwUKlR0bRGOE9ouTYH4Qokm8WAFVqUOfLqICjyiNnRJXNEkRBSpTzwJVWQ2B8kFearFSqWx\n",
       "Y7u6JRcstvJo5rhE7F2EUWpW5tC6QZJlO/M2CaRQjXlRSIOsNTHb8q2KO6Qz5SDq6Wwv4zrPMCbt\n",
       "nNlv+95EyYkknDdomj8E+mQnhg2vhr71afZo2Ws24/c+Ljzm3N3uelEO6TL8CK9X++Kz/g9ZH2JZ\n",
       "ooR2eQAAAABJRU5ErkJggg==\n",
       "\" style=\"display:inline;vertical-align:middle;\" /></a><br>(see <a class=\"ProveItLink\" href=\"../../../__pv_it/theorems/746cfcb87ead111ade728fb5bb7b54fcacdcbcac0/dependencies.ipynb\">dependencies</a>)<br>"
      ],
      "text/plain": [
       "mult_4_7: (4 * 7) = 28"
      ]
     },
     "execution_count": 2,
     "metadata": {},
     "output_type": "execute_result"
    }
   ],
   "source": [
    "%proving mult_4_7"
   ]
  },
  {
   "cell_type": "code",
   "execution_count": null,
   "metadata": {},
   "outputs": [],
   "source": []
  }
 ],
 "metadata": {
  "kernelspec": {
   "display_name": "Python 3",
   "language": "python",
   "name": "python3"
  }
 },
 "nbformat": 4,
 "nbformat_minor": 0
}