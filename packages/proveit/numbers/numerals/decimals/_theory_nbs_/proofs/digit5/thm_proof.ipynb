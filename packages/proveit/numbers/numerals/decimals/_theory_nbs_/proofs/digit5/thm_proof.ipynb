{
 "cells": [
  {
   "cell_type": "markdown",
   "metadata": {},
   "source": [
    "Proof of <a class=\"ProveItLink\" href=\"../../../../../../_theory_nbs_/theory.ipynb\">proveit</a>.<a class=\"ProveItLink\" href=\"../../../../../_theory_nbs_/theory.ipynb\">numbers</a>.<a class=\"ProveItLink\" href=\"../../../../_theory_nbs_/theory.ipynb\">numerals</a>.<a class=\"ProveItLink\" href=\"../../theory.ipynb\">decimals</a>.<a class=\"ProveItLink\" href=\"../../theorems.ipynb#digit5\">digit5</a> theorem\n",
    "========"
   ]
  },
  {
   "cell_type": "code",
   "execution_count": 1,
   "metadata": {},
   "outputs": [],
   "source": [
    "import proveit\n",
    "theory = proveit.Theory() # the theorem's theory"
   ]
  },
  {
   "cell_type": "code",
   "execution_count": 2,
   "metadata": {},
   "outputs": [
    {
     "data": {
      "text/html": [
       "Under these <a href=\"presumptions.txt\">presumptions</a>, we begin our proof of<br><strong id=\"digit5\">digit5:</strong> <a class=\"ProveItLink\" href=\"../../../__pv_it/theorems/70caca9c15c5bbb666b8576d38bc36f17ec3910e0/expr.ipynb\"><img src=\"data:image/png;base64,iVBORw0KGgoAAAANSUhEUgAAAEcAAAAVBAMAAADm2O7QAAAAMFBMVEX///8iIiK6urpERETc3NyI\n",
       "iIhUVFR2dnYQEBCqqqpmZmbMzMzu7u6YmJgyMjIAAABZcJOfAAAAAXRSTlMAQObYZgAAAUJJREFU\n",
       "KM9jYCAAOJcXEFJhwHCNIYqAmqcMDE0M/gfwqeF9y8DA8oWBXwGPGlagGgae3wz8E3CrYZIEU00M\n",
       "+y8w8N3hXokiyfPe+A0De38TTzHYmskM9xUYOP7/R/Mj84VtDAzngaqLQfZwh+53YOArC0Gzh02a\n",
       "NYCBA8SKA6o6wKAMFIJLXhYUfABWpHwgm4ERLHTvAoMpgzWSos0xMJO8E84dgChimMOgGu4AFLob\n",
       "tQHs3jdw6xymcicwojrzAMsniBRCEbvCVUb0EDEEK0Y43IEhh20jA6cxENjARdeDDNnxDggeQBUd\n",
       "Y3iBYkweA0M9KNSckU3iLtiBoqgPaBIomjmQFTHcZEZRtICBQQ5EcwXAFQF9y+6MosiLgbcFzJCE\n",
       "ifCBYmMdiiKW5VmQRHXMCEJzyzcDyXM40oa6ISRaMAEAVf9KNd/EDQYAAAAASUVORK5CYII=\n",
       "\" style=\"display:inline;vertical-align:middle;\" /></a><br>(see <a class=\"ProveItLink\" href=\"../../../__pv_it/theorems/28b9ec0b05cea8d54b1f4257b468c8f8230ef41a0/dependencies.ipynb\">dependencies</a>)<br>"
      ],
      "text/plain": [
       "digit5: 5 in Digits"
      ]
     },
     "execution_count": 2,
     "metadata": {},
     "output_type": "execute_result"
    }
   ],
   "source": [
    "%proving digit5"
   ]
  },
  {
   "cell_type": "code",
   "execution_count": null,
   "metadata": {},
   "outputs": [],
   "source": []
  }
 ],
 "metadata": {
  "kernelspec": {
   "display_name": "Python 3",
   "language": "python",
   "name": "python3"
  }
 },
 "nbformat": 4,
 "nbformat_minor": 0
}