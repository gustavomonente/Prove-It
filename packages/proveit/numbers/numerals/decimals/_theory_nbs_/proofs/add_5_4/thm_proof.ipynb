{
 "cells": [
  {
   "cell_type": "markdown",
   "metadata": {},
   "source": [
    "Proof of <a class=\"ProveItLink\" href=\"../../../../../../_theory_nbs_/theory.ipynb\">proveit</a>.<a class=\"ProveItLink\" href=\"../../../../../_theory_nbs_/theory.ipynb\">numbers</a>.<a class=\"ProveItLink\" href=\"../../../../_theory_nbs_/theory.ipynb\">numerals</a>.<a class=\"ProveItLink\" href=\"../../theory.ipynb\">decimals</a>.<a class=\"ProveItLink\" href=\"../../theorems.ipynb#add_5_4\">add_5_4</a> theorem\n",
    "========"
   ]
  },
  {
   "cell_type": "code",
   "execution_count": 1,
   "metadata": {},
   "outputs": [],
   "source": [
    "import proveit\n",
    "theory = proveit.Theory() # the theorem's theory"
   ]
  },
  {
   "cell_type": "code",
   "execution_count": 2,
   "metadata": {},
   "outputs": [
    {
     "data": {
      "text/html": [
       "Under these <a href=\"presumptions.txt\">presumptions</a>, we begin our proof of<br><strong id=\"add_5_4\">add_5_4:</strong> <a class=\"ProveItLink\" href=\"../../../__pv_it/theorems/e134131784bd2360c5f2c08e25a81b489ba9386f0/expr.ipynb\"><img src=\"data:image/png;base64,iVBORw0KGgoAAAANSUhEUgAAAGEAAAAUBAMAAABvx07iAAAAMFBMVEX///9UVFTMzMx2dna6uroQ\n",
       "EBCqqqqIiIgiIiJmZmYyMjJERETu7u6YmJjc3NwAAAC+aOQFAAAAAXRSTlMAQObYZgAAAXJJREFU\n",
       "KM91k79Lw1AQx79tbDBNWrqIdBC7urVTqUs7+ge4KILFxUkJgoMuZtE5qIsgGHELqP0D/JGlIOqQ\n",
       "pQgOJaNOKjqpqPeepqbX5IZy+b73eXfXuwPyPuJtOUHHDXDsTTSZmraRCvhVY6citBNg/vuVHw4X\n",
       "YDhcbPv5OSBnA0ej4XOL4eFqAahyYgQo0mN0udDTQiJ/T1qbE+9AHXhAHKFkScs2WBkfwEaANXLH\n",
       "7rYZ0RWEYrMYsxSjgXPyzvDU6CMMUxA5WbriShM0pXTqY0te0a0+QoEgVIvF0E213sS09LUv+pl0\n",
       "3U3XPSRvQRLpZ1760kq9JIiUA+UtGsMoJxDAuCeyyjjQPqOEWtw7mDExZEXq+Ps/KQOqXKOuOKyD\n",
       "mV7lEet4acq+Ru2y0Qk40aKXyoxY965pbKfIe6zs8w5evvjIlhih1HbxOyUY6Lm0q/hhz/U19jb6\n",
       "UU3Yj4ukxRmc9v+Nijc9SDhI3NpuvPwDu8NcatvtCsUAAAAASUVORK5CYII=\n",
       "\" style=\"display:inline;vertical-align:middle;\" /></a><br>(see <a class=\"ProveItLink\" href=\"../../../__pv_it/theorems/4688404e0c617f0c7f9dda10f9bbb4ed91c2c0ee0/dependencies.ipynb\">dependencies</a>)<br>"
      ],
      "text/plain": [
       "add_5_4: (5 + 4) = 9"
      ]
     },
     "execution_count": 2,
     "metadata": {},
     "output_type": "execute_result"
    }
   ],
   "source": [
    "%proving add_5_4"
   ]
  },
  {
   "cell_type": "code",
   "execution_count": null,
   "metadata": {},
   "outputs": [],
   "source": []
  }
 ],
 "metadata": {
  "kernelspec": {
   "display_name": "Python 3",
   "language": "python",
   "name": "python3"
  }
 },
 "nbformat": 4,
 "nbformat_minor": 0
}