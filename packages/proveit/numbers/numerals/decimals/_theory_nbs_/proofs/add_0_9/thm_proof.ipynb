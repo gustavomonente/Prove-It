{
 "cells": [
  {
   "cell_type": "markdown",
   "metadata": {},
   "source": [
    "Proof of <a class=\"ProveItLink\" href=\"../../../../../../_theory_nbs_/theory.ipynb\">proveit</a>.<a class=\"ProveItLink\" href=\"../../../../../_theory_nbs_/theory.ipynb\">numbers</a>.<a class=\"ProveItLink\" href=\"../../../../_theory_nbs_/theory.ipynb\">numerals</a>.<a class=\"ProveItLink\" href=\"../../theory.ipynb\">decimals</a>.<a class=\"ProveItLink\" href=\"../../theorems.ipynb#add_0_9\">add_0_9</a> theorem\n",
    "========"
   ]
  },
  {
   "cell_type": "code",
   "execution_count": 1,
   "metadata": {},
   "outputs": [],
   "source": [
    "import proveit\n",
    "theory = proveit.Theory() # the theorem's theory"
   ]
  },
  {
   "cell_type": "code",
   "execution_count": 2,
   "metadata": {},
   "outputs": [
    {
     "data": {
      "text/html": [
       "Under these <a href=\"presumptions.txt\">presumptions</a>, we begin our proof of<br><strong id=\"add_0_9\">add_0_9:</strong> <a class=\"ProveItLink\" href=\"../../../__pv_it/theorems/249c49d0f4bdcc766accfca3cd12ea2cb5fbedbd0/expr.ipynb\"><img src=\"data:image/png;base64,iVBORw0KGgoAAAANSUhEUgAAAGEAAAAUBAMAAABvx07iAAAAMFBMVEX///9UVFTMzMx2dna6uroQ\n",
       "EBCqqqqIiIgiIiJmZmYyMjJERETu7u6YmJjc3NwAAAC+aOQFAAAAAXRSTlMAQObYZgAAAVlJREFU\n",
       "KM91kzFLw1AQx/8mIdQmqUFwcDIfobqUuqSjo0MncXDrpIiLKIhd7BzQD6CLQwb1CygFKRQVzOIq\n",
       "Gd0UBAUt4vW90uauyQ3Je7/L/937kzugkiA/dgo4HgHzaIUz93Q5xUwqP1UYuAIu0efZXlLZhHsu\n",
       "FQrDi+CtwxxlW/q1ACwCNanQuJTC8WEPmOIHCOlIqdD4DZjzYX1lFe4vcJyi3BA2ND4AniNY36zG\n",
       "Bh3WgBmJGhrfAu9VGFxBta8TeMqcGauIxrhDigjGJ1M4u3a4BbstamjcnNxqNY5P4vhimNveCwMY\n",
       "H9K6wk3l3GbOh7HUzVEoTLdybuANpIJKWe2MD3+Myfn0H3zpGn8YOc+ExnVaddALmOKw+0D9OVsV\n",
       "Co3XaHW/Pw+mMOtn9CwHQqFxifVgK7vp5ze7x37sU3ZTK5iPu6LBme72yUTlh5MWJAqn9jUf/wNg\n",
       "k2lyTzA/FwAAAABJRU5ErkJggg==\n",
       "\" style=\"display:inline;vertical-align:middle;\" /></a><br>(see <a class=\"ProveItLink\" href=\"../../../__pv_it/theorems/f5060d11de04a26b789e98a3d16c3fd733b5617e0/dependencies.ipynb\">dependencies</a>)<br>"
      ],
      "text/plain": [
       "add_0_9: (0 + 9) = 9"
      ]
     },
     "execution_count": 2,
     "metadata": {},
     "output_type": "execute_result"
    }
   ],
   "source": [
    "%proving add_0_9"
   ]
  },
  {
   "cell_type": "code",
   "execution_count": null,
   "metadata": {},
   "outputs": [],
   "source": []
  }
 ],
 "metadata": {
  "kernelspec": {
   "display_name": "Python 3",
   "language": "python",
   "name": "python3"
  }
 },
 "nbformat": 4,
 "nbformat_minor": 0
}