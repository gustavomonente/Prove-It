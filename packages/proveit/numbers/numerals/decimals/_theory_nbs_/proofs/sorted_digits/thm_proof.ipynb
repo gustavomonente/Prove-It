{
 "cells": [
  {
   "cell_type": "markdown",
   "metadata": {},
   "source": [
    "Proof of <a class=\"ProveItLink\" href=\"../../../../../../_theory_nbs_/theory.ipynb\">proveit</a>.<a class=\"ProveItLink\" href=\"../../../../../_theory_nbs_/theory.ipynb\">numbers</a>.<a class=\"ProveItLink\" href=\"../../../../_theory_nbs_/theory.ipynb\">numerals</a>.<a class=\"ProveItLink\" href=\"../../theory.ipynb\">decimals</a>.<a class=\"ProveItLink\" href=\"../../theorems.ipynb#sorted_digits\">sorted_digits</a> theorem\n",
    "========"
   ]
  },
  {
   "cell_type": "code",
   "execution_count": 1,
   "metadata": {},
   "outputs": [],
   "source": [
    "import proveit\n",
    "theory = proveit.Theory() # the theorem's theory"
   ]
  },
  {
   "cell_type": "code",
   "execution_count": 2,
   "metadata": {},
   "outputs": [
    {
     "data": {
      "text/html": [
       "Under these <a href=\"presumptions.txt\">presumptions</a>, we begin our proof of<br><strong id=\"sorted_digits\">sorted_digits:</strong> <a class=\"ProveItLink\" href=\"../../../__pv_it/theorems/839daee440a13a7726898bc495122e04fb2eb4a80/expr.ipynb\"><img src=\"data:image/png;base64,iVBORw0KGgoAAAANSUhEUgAAAWEAAAAPBAMAAADHWGN6AAAAMFBMVEX///9mZma6urpUVFREREQQ\n",
       "EBDc3NwiIiLu7u6qqqoyMjLMzMyYmJiIiIh2dnYAAADXmt2vAAAAAXRSTlMAQObYZgAAAwJJREFU\n",
       "SMfV1k1IFGEYB/C/7oez36OmfUC6Xbu4e/CQRUkUFV1EQ6xL46FOkUYno2wkRBCyhegSgpYn6dB2\n",
       "6qYDEXXoQw8ZVOKKgoGxG5G1btQ0szszzvsfwnN72MHfPO87z77zPu8jEP+0ju0/QztOM13On/LG\n",
       "PWEIv4zsZosv8iOfpvP5nEjS4nKSoqSmFcW4TGNE4SnvqRybQoHGB2VMaJ6MrzIEdD3Hkz3EHqK3\n",
       "uq6nRKoCDlDUsBbsAaIdiE86dj9rznj4iCvjMlWpCHQ4FHpkfMU2kegXycAuEIVXFpj8Mo4RNQI+\n",
       "onFglKgVSBvDUwgV7RsvGq2fvJVxhQL98P2wKXrFfCnVnUhMigRcmgKRz7VGFrUoHjJewzrRKjBC\n",
       "VAIKQCKF6k3rxvvP4IwtChfh+2VRbNC+6+wKh3JOxja5MrbpuJeMBZgjajmJLyJJ34ElBXdkVP+u\n",
       "bK+1OVDGLkKN9SbGbjj7cRBEUWWKyfdqPktUmplP8lzwewbqbzJE52BWU18OkXLG0s6tOrIydhNa\n",
       "KgU0dN0pvbVdILqNKSa/GvwmklTSMEBRsNfTRYWSSmRsicca+mRE/ph/tmXAGbvJOgV80y56lyTK\n",
       "WRkLUTghkqQDDSpFSV95YKjuZieRfy5UyDi7QvJmLFCVXL7ccucS6BEplLUyFqLQrIj003hAkqJi\n",
       "kzzwGWIbKkWNfyxkzcoLlSsv6N0Vbpq3rr32Owoq8G+KNAZ7VziENlgn+RZdMx6giYSadh5orMZs\n",
       "hqIA49z1tyNa3L7yQjIuinWQKNoZO3S3tnZjr7damlWRWq01dldeIkWVZ24Tn8b1aa6Iu4P8+3TD\n",
       "DLAgnjWBduf4cB1SXXxuyeU1FWhWRQMPnJV5YLexbxWRnqsRsykMYDjLHWSJO0hwMF/fL57nUc3V\n",
       "pe0OgjPcG3oR7eamkpPO8sCJHA/cr+I10Qd11Hzi2OJBasmoP/9AEyls9H1uyftqj3L/xap+iCjY\n",
       "lFY5ankly3Qhw3NF0q7/hCoUX67Df/j5C4EbIllYFrNBAAAAAElFTkSuQmCC\n",
       "\" style=\"display:inline;vertical-align:middle;\" /></a><br>(see <a class=\"ProveItLink\" href=\"../../../__pv_it/theorems/2f3d905ce758d99a8b793210a8dc7bc2825248150/dependencies.ipynb\">dependencies</a>)<br>"
      ],
      "text/plain": [
       "sorted_digits: 0 < 1 < 2 < 3 < 4 < 5 < 6 < 7 < 8 < 9"
      ]
     },
     "execution_count": 2,
     "metadata": {},
     "output_type": "execute_result"
    }
   ],
   "source": [
    "%proving sorted_digits"
   ]
  },
  {
   "cell_type": "code",
   "execution_count": null,
   "metadata": {},
   "outputs": [],
   "source": []
  }
 ],
 "metadata": {
  "kernelspec": {
   "display_name": "Python 3",
   "language": "python",
   "name": "python3"
  }
 },
 "nbformat": 4,
 "nbformat_minor": 0
}