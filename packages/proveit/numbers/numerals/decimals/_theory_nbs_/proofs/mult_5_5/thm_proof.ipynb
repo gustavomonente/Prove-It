{
 "cells": [
  {
   "cell_type": "markdown",
   "metadata": {},
   "source": [
    "Proof of <a class=\"ProveItLink\" href=\"../../../../../../_theory_nbs_/theory.ipynb\">proveit</a>.<a class=\"ProveItLink\" href=\"../../../../../_theory_nbs_/theory.ipynb\">numbers</a>.<a class=\"ProveItLink\" href=\"../../../../_theory_nbs_/theory.ipynb\">numerals</a>.<a class=\"ProveItLink\" href=\"../../theory.ipynb\">decimals</a>.<a class=\"ProveItLink\" href=\"../../theorems.ipynb#mult_5_5\">mult_5_5</a> theorem\n",
    "========"
   ]
  },
  {
   "cell_type": "code",
   "execution_count": 1,
   "metadata": {},
   "outputs": [],
   "source": [
    "import proveit\n",
    "theory = proveit.Theory() # the theorem's theory"
   ]
  },
  {
   "cell_type": "code",
   "execution_count": 2,
   "metadata": {},
   "outputs": [
    {
     "data": {
      "text/html": [
       "Under these <a href=\"presumptions.txt\">presumptions</a>, we begin our proof of<br><strong id=\"mult_5_5\">mult_5_5:</strong> <a class=\"ProveItLink\" href=\"../../../__pv_it/theorems/7c3c027e60822d97c781206db5afb554613821a00/expr.ipynb\"><img src=\"data:image/png;base64,iVBORw0KGgoAAAANSUhEUgAAAGEAAAAUBAMAAABvx07iAAAAMFBMVEX///9UVFTMzMx2dna6uroQ\n",
       "EBCqqqqIiIgiIiJmZmYyMjJERETu7u6YmJjc3NwAAAC+aOQFAAAAAXRSTlMAQObYZgAAAXJJREFU\n",
       "KM9jYOC7wIAB8hjwgdMMDGsPaCbAuFx3mKYxMD5AV8Uzc7cCRI6BYR0DQ/z/z3Ap1v//DRh4FqDr\n",
       "OMjA/AUix8A7gYFhsTjCTC7DOiBpjq5jDgNDKFSOA6hYAEmKEUweRdcRwcAg/wAi94IBmw4uBzQd\n",
       "6w8wyCtA5CqBWPb6JISOu5UKDAzMEzCDqP8ARG4vkL2H4T3cTO4DfF+AvgN73WoVCKyESLB8hsq1\n",
       "QdQ1gEIQqmkHAwNbA4YVHAJQuRAwl/MfkDgPDdP5DxiYPmDomAmTA+pgXAAKbKgpUgwM9g5YdLBP\n",
       "gMkBXcW6gIHzD0wmCmjOAQaWBoQ/FoLFMxn4HkDkgD7nBBoPj2SgUV0wnyMBJgMG9gcQOUsGBr4J\n",
       "DFfhkf6SgTcOaIgBmo4XxpYSUDkPkCrDOXApvsmSB4AxqIAeg////4DKcTzAlqBP4EnsvBOwiZrj\n",
       "yx/7sIhhpna0HIUBuB/g04Et197Dox4Ac+FoQFTxNsUAAAAASUVORK5CYII=\n",
       "\" style=\"display:inline;vertical-align:middle;\" /></a><br>(see <a class=\"ProveItLink\" href=\"../../../__pv_it/theorems/5d9560e71f79e6ca78ecbb746557660287f47a160/dependencies.ipynb\">dependencies</a>)<br>"
      ],
      "text/plain": [
       "mult_5_5: (5 * 5) = 25"
      ]
     },
     "execution_count": 2,
     "metadata": {},
     "output_type": "execute_result"
    }
   ],
   "source": [
    "%proving mult_5_5"
   ]
  },
  {
   "cell_type": "code",
   "execution_count": null,
   "metadata": {},
   "outputs": [],
   "source": []
  }
 ],
 "metadata": {
  "kernelspec": {
   "display_name": "Python 3",
   "language": "python",
   "name": "python3"
  }
 },
 "nbformat": 4,
 "nbformat_minor": 0
}