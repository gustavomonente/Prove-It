{
 "cells": [
  {
   "cell_type": "markdown",
   "metadata": {},
   "source": [
    "Proof of <a class=\"ProveItLink\" href=\"../../../../../../_theory_nbs_/theory.ipynb\">proveit</a>.<a class=\"ProveItLink\" href=\"../../../../../_theory_nbs_/theory.ipynb\">numbers</a>.<a class=\"ProveItLink\" href=\"../../../../_theory_nbs_/theory.ipynb\">numerals</a>.<a class=\"ProveItLink\" href=\"../../theory.ipynb\">decimals</a>.<a class=\"ProveItLink\" href=\"../../theorems.ipynb#add_7_9\">add_7_9</a> theorem\n",
    "========"
   ]
  },
  {
   "cell_type": "code",
   "execution_count": 1,
   "metadata": {},
   "outputs": [],
   "source": [
    "import proveit\n",
    "theory = proveit.Theory() # the theorem's theory"
   ]
  },
  {
   "cell_type": "code",
   "execution_count": 2,
   "metadata": {},
   "outputs": [
    {
     "data": {
      "text/html": [
       "Under these <a href=\"presumptions.txt\">presumptions</a>, we begin our proof of<br><strong id=\"add_7_9\">add_7_9:</strong> <a class=\"ProveItLink\" href=\"../../../__pv_it/theorems/a053f0dc883be3958490f534b67cc2a83518d0320/expr.ipynb\"><img src=\"data:image/png;base64,iVBORw0KGgoAAAANSUhEUgAAAGwAAAAUBAMAAACaOcVSAAAAMFBMVEX///9UVFTMzMx2dna6uroQ\n",
       "EBCqqqqIiIgiIiJmZmYyMjJERETu7u6YmJjc3NwAAAC+aOQFAAAAAXRSTlMAQObYZgAAAYlJREFU\n",
       "OMuVlLFPwkAUxj+oAoUWiOxI4h/A0IHoxKYjg3HCSGIMjiZOuoiDLi41uLghcbERw2YcNCwOogls\n",
       "Ji6ymDiCEhMTEF+vkvSuLYlv6N27y+/e1/feHRBtw90CHUywR/j3y5rGLz5oSSDpQWS2U8AV1NFo\n",
       "1OM2lFW8NdB0EhsNoJmVK1B1yKQmbi0XrcGXg0+HtCVASmKWsBtE6gh1IAFSisNiFUhdKDlHtNcG\n",
       "pn7MyTtzF8FhrTqCtHvuhkXYYTvMrfPYNEXrA/NuWKyaOQFuTU9q8xgpDA+BFzY3mOljrFVDqIBD\n",
       "Jgo8hmusfwGbbtFaXch5LJveLltbMIwDwzhjpX6e+wDSriJLUPsWdiRGoxoMPLAQFW1oiew5sTBV\n",
       "csn2b/ExRjWlaGZK/N8CpuaR7vylRIzmH0DOsSQHPgUseKnUaCg7sD3qkgTuC0xIdEUUqZ1m6VsV\n",
       "qeO1izak8gzM5rJZkWvBkve9UXW792R3HK1stzvPnebka/r/A818eD0K6oRH4Rf0Z3NPm1iJaQAA\n",
       "AABJRU5ErkJggg==\n",
       "\" style=\"display:inline;vertical-align:middle;\" /></a><br>(see <a class=\"ProveItLink\" href=\"../../../__pv_it/theorems/0928e6b33a23ab50c3e8eca2280bc5fb83a27b5b0/dependencies.ipynb\">dependencies</a>)<br>"
      ],
      "text/plain": [
       "add_7_9: (7 + 9) = 16"
      ]
     },
     "execution_count": 2,
     "metadata": {},
     "output_type": "execute_result"
    }
   ],
   "source": [
    "%proving add_7_9"
   ]
  },
  {
   "cell_type": "code",
   "execution_count": null,
   "metadata": {},
   "outputs": [],
   "source": []
  }
 ],
 "metadata": {
  "kernelspec": {
   "display_name": "Python 3",
   "language": "python",
   "name": "python3"
  }
 },
 "nbformat": 4,
 "nbformat_minor": 0
}