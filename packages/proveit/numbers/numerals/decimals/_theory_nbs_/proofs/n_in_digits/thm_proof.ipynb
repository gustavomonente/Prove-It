{
 "cells": [
  {
   "cell_type": "markdown",
   "metadata": {},
   "source": [
    "Proof of <a class=\"ProveItLink\" href=\"../../../../../../_theory_nbs_/theory.ipynb\">proveit</a>.<a class=\"ProveItLink\" href=\"../../../../../_theory_nbs_/theory.ipynb\">numbers</a>.<a class=\"ProveItLink\" href=\"../../../../_theory_nbs_/theory.ipynb\">numerals</a>.<a class=\"ProveItLink\" href=\"../../theory.ipynb\">decimals</a>.<a class=\"ProveItLink\" href=\"../../theorems.ipynb#n_in_digits\">n_in_digits</a> theorem\n",
    "========"
   ]
  },
  {
   "cell_type": "code",
   "execution_count": 1,
   "metadata": {},
   "outputs": [],
   "source": [
    "import proveit\n",
    "theory = proveit.Theory() # the theorem's theory"
   ]
  },
  {
   "cell_type": "code",
   "execution_count": 2,
   "metadata": {},
   "outputs": [
    {
     "data": {
      "text/html": [
       "Under these <a href=\"presumptions.txt\">presumptions</a>, we begin our proof of<br><strong id=\"n_in_digits\">n_in_digits:</strong> <a class=\"ProveItLink\" href=\"../../../__pv_it/theorems/3bd704498061fbeeec6c38639feddec7f6250a230/expr.ipynb\"><img src=\"data:image/png;base64,iVBORw0KGgoAAAANSUhEUgAAANoAAAAcBAMAAAD1grxBAAAAMFBMVEX///8QEBCIiIhmZma6urrM\n",
       "zMxUVFQiIiJERETc3Nzu7u6qqqp2dnaYmJgyMjIAAAAcRTyBAAAAAXRSTlMAQObYZgAAA1hJREFU\n",
       "SMe9VlFIU1EY/rbd67a7e50P9tbDdRJFSEiPoXEtqB6CloQFCY5QSqIQNIyMGGK1lGL0kgnhferB\n",
       "zA1sIUG10kLLhwUlPZReCnpQDAUFNYTOuWf3btfWuLDhDxvnv/+/853//N//3QHbYqPT2C4bgxRy\n",
       "Vhdrt1P5w69kOBTvBuSigPGhvOHZFDAYxQqOFAWtVM0X3UfAEAviD8RUMdD25wsejdNvh8JvAtcA\n",
       "jXrfCwAjHclhI2v3VLxZVoZ7qOcLSytAJfCRevMFoIm52XaXtFNYAob7qFe/a510D+inxwsXgOaI\n",
       "53x8PhgAysjCuQAI4AiEO673WIwXgDZoJcnXzk69Oc29JUG00ZW0CI/sCQKuMKQPQ0MPCiHJJ4t3\n",
       "Zm960dogzDM0+FQuMEWrJKWuRSLXC0E7CHDvHwYYMwWTAa0+uSGNZhhH+NQC3Mm5Dad/O98mc8R8\n",
       "NebTCOmEpxuxKHVKoiYaJiTZisavAochaNmP2idQoauDR/e/4Xla7DJQYcxQOjP7BZx1axgMZn7D\n",
       "0ErUljaMRYilO+slU+CG0xzyJ+O1GBNVl5r5ZQf8KhM7E+wHUJ4hRzugxhTM6c7J38Q0hiaESsss\n",
       "tQkETUy5DVfqG1DxUq4WYaIJqzrFZzOqQygG7zr8Str/ST6vgcu6059VGxp5Kxqtzas1kC1q6yvp\n",
       "pRJLJO5nofHrcKeY2LEc5yI7g9+YmluMKZuCPnzZaFLcOsdkL8KRZhKoSzmiTMUS4tPGLLQNuGUm\n",
       "dnoO16XHytFkVHuBfHbCt6Ef0WVeOCEfpsL/cBKjhDkDu0l7BF2DEkiOW2pzyEzsWM6kwjgzZ9xk\n",
       "hX5FovZF97qMrRcotmZBk+jF+ul5zqEO/NVIpJugPXJb+kY6xMSO5kCYpIXygSaD6ydUcG3wXmI3\n",
       "+7iHsef0MqlLsKK5aKkSje9ADY8Qq42rx1ZOUrFjOeSNRfZVcczUScWy5fHbndr/XoTGNXuX0JHA\n",
       "O7r8TGcsg1bJ5o0wkeWwt3E3bponTtpVnZgxNFwIVSl4yKm5GwpKstCc09WG2Ok51F7gUJUpGlto\n",
       "nsdmtvh7SN9M89jc5KJdtCv5gnbRRmzmSUl7aFli56PLXqtC2/yr2J836rJ7Q8/spR3ANttfImnl\n",
       "6vvCfowAAAAASUVORK5CYII=\n",
       "\" style=\"display:inline;vertical-align:middle;\" /></a><br>(see <a class=\"ProveItLink\" href=\"../../../__pv_it/theorems/7f243623647caea1345b2b60debc5092ea87d2eb0/dependencies.ipynb\">dependencies</a>)<br>"
      ],
      "text/plain": [
       "n_in_digits: forall_{n in Natural | 0 <= n <= 9} (n in Digits)"
      ]
     },
     "execution_count": 2,
     "metadata": {},
     "output_type": "execute_result"
    }
   ],
   "source": [
    "%proving n_in_digits"
   ]
  },
  {
   "cell_type": "code",
   "execution_count": null,
   "metadata": {},
   "outputs": [],
   "source": []
  }
 ],
 "metadata": {
  "kernelspec": {
   "display_name": "Python 3",
   "language": "python",
   "name": "python3"
  }
 },
 "nbformat": 4,
 "nbformat_minor": 0
}