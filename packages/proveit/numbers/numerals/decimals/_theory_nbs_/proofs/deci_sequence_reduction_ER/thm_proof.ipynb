{
 "cells": [
  {
   "cell_type": "markdown",
   "metadata": {},
   "source": [
    "Proof of <a class=\"ProveItLink\" href=\"../../../../../../_theory_nbs_/theory.ipynb\">proveit</a>.<a class=\"ProveItLink\" href=\"../../../../../_theory_nbs_/theory.ipynb\">numbers</a>.<a class=\"ProveItLink\" href=\"../../../../_theory_nbs_/theory.ipynb\">numerals</a>.<a class=\"ProveItLink\" href=\"../../theory.ipynb\">decimals</a>.<a class=\"ProveItLink\" href=\"../../theorems.ipynb#deci_sequence_reduction_ER\">deci_sequence_reduction_ER</a> theorem\n",
    "========"
   ]
  },
  {
   "cell_type": "code",
   "execution_count": 1,
   "metadata": {},
   "outputs": [],
   "source": [
    "import proveit\n",
    "theory = proveit.Theory() # the theorem's theory"
   ]
  },
  {
   "cell_type": "code",
   "execution_count": 2,
   "metadata": {},
   "outputs": [
    {
     "data": {
      "text/html": [
       "Under these <a href=\"presumptions.txt\">presumptions</a>, we begin our proof of<br><strong id=\"deci_sequence_reduction_ER\">deci_sequence_reduction_ER:</strong> <a class=\"ProveItLink\" href=\"../../../__pv_it/theorems/2df591b72fb92658f6f6a84b514b3438adb14fa20/expr.ipynb\"><img src=\"data:image/png;base64,iVBORw0KGgoAAAANSUhEUgAABSAAAAAaBAMAAABV4u9OAAAAMFBMVEX///8QEBCIiIhmZma6urrM\n",
       "zMxUVFQiIiJERETc3Nzu7u6qqqp2dnaYmJgyMjIAAAAcRTyBAAAAAXRSTlMAQObYZgAAC9xJREFU\n",
       "eNrtW3tsFMcZ/+5u9953dmmahpd0HI9Q8ejJtEkJphyKAlGrkLMjBSJS3clt2kIDsgqFhiBy8T8x\n",
       "RIhVqQyNkrAByaTOw1dSQqlwudqUqI6pTji0hOByaQhpWgWsAGkwefSbmd292bu9fUAhRfan29fs\n",
       "7PeY+c033ze7B+CEfrRWghEaoWtFwtr1zh5oHmmzEbqm1DYCSLsUKHAXz9wYOofMJrT/Jxv2KxsC\n",
       "skgOA7YBGSWHSGEYAvJ5us9CO+6DWefPBx+/yuHMMRAfT5jXXfJldlxmdPPKbXBMqh7VSDXEK7EN\n",
       "Afk6uf6XbUCGc3iIysMQkO9TUBThAGmAKwmlowln9ZMmDGpyFg9fZoeXjYB9FTY4pssW9xVDUCe6\n",
       "ISC3k9koaxuQtOr2YYjHCEVDKA/fwEP/lXCwBFEZbhImDO61cAnCEDuGYwbz+FXY4DhLGbKooBrS\n",
       "rWxt1NuFc7YBSZ3p68MQkD7qUDxJGkc/ciUcrEBkOAKqMHjN4uGwMrsHayvvXY0NTilsFaaohjyn\n",
       "bG0Q6e3o2OYgqTnZ0fHr4ZjbsDby0YklcEUN8Jqz6gcTJgzesRsenDYYWldhw/88TFENiSbZhln2\n",
       "x62t6x0Asqa19Yn8MATkRCUmwwkP3KSZt/ZMMHV5gfq6MbqCM/E53Fx2+FfxOnry9rS/SIG5h6VF\n",
       "4/oPY7K49eQyCMW7ITJv1Rxo7JppwCBQP9k8NNvanVbnvJ7Kuw5sqKzQHU+ZPqC7z+lRpYk0Q8IJ\n",
       "tiEgHwLY6ACQ3hT4h+Pq+Ga63wMebHA/AkcYDedMH5gvRQd1MeFncmep4cL+FmCXrjmdhYWyMAa+\n",
       "lAyuAmEdzJf3SZ4M+BIkEfYZMJgv+U1DM1Rtiwqjv1NhZykp3sqBDRUVtuX8RdN5hL/P61GliTRD\n",
       "IkW2ISDvZOlNOblHGQNSSBimbteegqlg9x26kiseFyI/Sm3WfJT261fPnjv7T/DhuH+uAN/C+1XT\n",
       "weB48OhuhoagppRiLPUVYQd1JlFs1HEAo+AMTtNJVx5csd+kMBlAQCJK3ZUMCGfssSVVlUbVvg0w\n",
       "gQrbVx7UObFBqcDRevDmTCSz+3o9zJuoqAAt1My2NhJSuA2XFVcrx8X1SffNJUDiNsNWfnXWHjg8\n",
       "Fw0K51XOC4EeKSpt5xdEwrZl6GhREULciop5+FGqeZPSAORVggtL58nwUxBnVY3EPAgpXYqLbd9Z\n",
       "EiZ3JuEUi54yIJ4fGFhBwqnORHruwF8L0NhziQASHmuRKhkQznm47/aqSqNqGIT5qOppI69i1wZW\n",
       "QW8UmEn2DFXoYdFEeQVo4iDbULVwwWcIX8I7eGBWIZTthTs4QB6x+b6mx6bjGzQo7OR81KpDMAH7\n",
       "rF7G0hpWxsbcMrsy9Jgjkcps7cpr4WZn6wAZyNB3CKQzb4EgDiWhalu4stCZKovv7+UiqoMAK9Xy\n",
       "0GUlvq/JHiRVXt4oMkC+eO58JQPCGRVYWFVnVO0CtqFsDEgHNigVdEaBmWRXtlIP8yZKMqDxgAwU\n",
       "7zf0cITP8f0dEDrq0bqUlD0rZmzB4N/2ABkyihf+oBxf6JkLvwvLHllYQWFaI5UAKebtytBLiGKn\n",
       "tmtXD1o8285N2UDmEhJv43QX/ARCg2atjc7soH4VsUBchkY4mX0apPrkQfxQASR6SOJVnwDxkuxL\n",
       "uAMynEpWMFA4V4WFohq7v5CLIVm/ObBBqaAzyhSQnfnKp62aiN0ne4FN2bDxBxhPzm2c6J5CRjQ5\n",
       "Y46kMSOQMDi09IEYD0h/W9IWDC7ZXKlKVPeukSefkqErlgjD86SfPCllJY4CErMrezLC+rU4AurS\n",
       "W4qHrNYtpFJSEz57bsN7/8H4CxOC4GXwFvebtXYOVoak/mPxRJzJqElizFSicRgThhVAwgaAnSyG\n",
       "xNAyGMOevHRXNOMRYuAthVMqA8bZBJBMtR5xiprU6GJIBzawCiVskDEBORNA0vvEZk4PqyYiQNMl\n",
       "NfAKPhGZX3Atd5MhRM5IJ0Tf+s4QfXEdSvUe4wEZIiFEsG5lZZi3a8q73FT74RSCnnA8VomQUlmw\n",
       "bmblwsCuuOL57iS7vXt/gR13Xy+evtXATdk+TQZw4+jZ07OCdd2B907eJsOu6THhyFx49ZNeiJ/U\n",
       "RKbjy7moudlCRa0mHSNRoGOUDKIW+FsmX2rt4GekhYvKCRm3sciaMLwxHm6Wp7DgoOBPKDXxF7gA\n",
       "4eIxageWpnMYFb0tBTHkugwe+RYIXzzhKXowqfFLrD7HgHEuwUKT2qlMBUy1D35LJu36yiFmbYOe\n",
       "UwkbgMn/rpSJZHofbR7N6aGx1zjrm4gADZ/Ms40AkqRuT92KA5AU0DPSyzU4rncxQIY1L0Z5k/ll\n",
       "dyotg1ef0wd/JnIxrXsdXelaLdbC8vJ0SdR8VlU+JI9kc+3e8EtkXn16NrjlLg6Q2zQZwI0j4aan\n",
       "owVvLp1yF+ED+Ik7Fk2iNCEf0EB3qzwRQhn4cStSgSwPm6oYUuMT2gsHyGsONre0xx9oSnLDfw3B\n",
       "VkY5IVY0TW6bFNjZDBcUUATrjmg115AHAyvIWBS2fIyT5/eny3Dm6BRk3l7XC211vTML8MM/C0dm\n",
       "HFLqcwwoZw6QmlSfoitT7SPqMd6tAKQdG3ScStgA6BuImUkm94nNQ5weGvsSZ76JKNBwmKTYRgAZ\n",
       "IXhogga6EkDO5pNDw9QcLMY+i4VSgUIzD8gTuM2CxSD+UQ8kT0LkvDPCH/HkyULqwTFlyRWWqeez\n",
       "UKwBn1oIJdS3uXshT73Tzpy7u8AB8m5VBiV1HGFgnJZDGYzlLyCsX4XGmTHkFjj/e01GC05jghp8\n",
       "44m5ilpN+urwm8q64CO6SNuEvET6o/aCl3fAES20WNoa9STp80r9HNvAYcOWZG9MqC1PRkyIAA09\n",
       "k7Jp30N+BabCDpGd1ZPjVLFW8jIPCXfFeEASGgs4D/n0QHLl3Fy640qi/8YyPF1XllxxtlXl48FK\n",
       "4s9bW1sQkM+ULwNQkCxQZaitRscR9v+pgaN5BOT4yKcD08ObKCTg7s+59ZvbQFRxLGQsVNRq0lfL\n",
       "zcp3Jf12W9uVcmcDg6kvAJDubEPA8OMKxzZw2LAl2ZXy5FP2AUmAxn9coawFDGKPHg/DdhnPVu8N\n",
       "bIIWsTkWpllOEiL5MkAGL8HmjnIgdUr+E3J/V//SP9H4Via9StPist4mZf1dJ835+H6JDZZhHlJo\n",
       "hBf7+vqSekAuUWWorUbHEaIvzVY7LpBVhBrJP0msjYhSSGuWIRwFiMOVJO8siFkLFQUN8Ziaihll\n",
       "DVZ7VxWyaO0d6C8i2bwthK1xBsh95rf9scVuo8/PnNugYsOu5B3g+y4HSCv2BGj852eap3gf2nqh\n",
       "IYdn0wviWLxsSgHx+gtPK8jgPeRo8UKBAAkBvEnduaT0PbCn6ModALzyycdxH01CgvQ2X4+U7cmi\n",
       "18Or0eJFIz7fA9ebLwFQZL8BcNLIQ+4mrvW49iQZRwyQmD8W0hLGkJsh0pnyxYODSzEAyKoC1kWy\n",
       "pRGGU5qpiqWa5APdSE4JNtWPWwO3fxQzbe0FmKYHHpbtAGzB58uc4HHrY00WywPeyUYvhZ3boGLD\n",
       "ruQF4D7CwdmKPQUaGR1+CQz+wqB4nJDi9zGGLHt1qAidNpECqSEnjoYGiexyQtOeueBN7SZf22H5\n",
       "w3ncB+qOyqS3+XqkzJtCB4ewr8pnEcmZ/aiNsCEJXiNA4lNMBn2SjiMs3X5egr7pkB7AuDPcnY80\n",
       "fe0fcDgR6p4uMQFj4f4+YGE9pXVgqiJX80b8C0PkRvkLw5vKVgFI9U8Y+42f03tfMtXmyqDsg1eg\n",
       "Oade5ZROr6jngxlJDfZGfOLRF0h8gTGkAVFAunO6IaSndNV1eGXpQ6VpYK5iFEboelI5ICPKsWAD\n",
       "kOLX53D/IlLO2mESNEnKFds3ns9V1GuHAwUV9oZ8ZkcOVdc6y+2N/8dUFZBMZFcp1AJzFbtGMPKF\n",
       "AtKC1pb/LzticFa6iljUK1jyMQPkPdXrB7ZU+zCUiuT+HSAUTFUIJkYwch1JWLvmhtQ7YeIb7ZBb\n",
       "LneZdmqO0PWg/wJ52R8TMTBtxgAAAABJRU5ErkJggg==\n",
       "\" style=\"display:inline;vertical-align:middle;\" /></a><br>(see <a class=\"ProveItLink\" href=\"../../../__pv_it/theorems/0834d780ace9a30a3b0d0b3ee570258ad99ec4b80/dependencies.ipynb\">dependencies</a>)<br>"
      ],
      "text/plain": [
       "deci_sequence_reduction_ER: forall_{m, n, k in Natural} [forall_{a_{1}, ..a_{_a}.., a_{m}, b, c_{1}, ..c_{_a}.., c_{n}, d_{1}, ..d_{_a}.., d_{k} in Digits | (b, ..n repeats.., b) = (c_{1}, ..c_{_a}.., c_{n})} (\\# (a_{1} ~ ..a_{_a}.. ~ a_{m} ~ b ~ ..n repeats.. ~ b ~ d_{1} ~ ..d_{_a}.. ~ d_{k}) = \\# (a_{1} ~ ..a_{_a}.. ~ a_{m} ~ c_{1} ~ ..c_{_a}.. ~ c_{n} ~ d_{1} ~ ..d_{_a}.. ~ d_{k}))]"
      ]
     },
     "execution_count": 2,
     "metadata": {},
     "output_type": "execute_result"
    }
   ],
   "source": [
    "%proving deci_sequence_reduction_ER"
   ]
  },
  {
   "cell_type": "code",
   "execution_count": null,
   "metadata": {},
   "outputs": [],
   "source": []
  }
 ],
 "metadata": {
  "kernelspec": {
   "display_name": "Python 3",
   "language": "python",
   "name": "python3"
  }
 },
 "nbformat": 4,
 "nbformat_minor": 0
}