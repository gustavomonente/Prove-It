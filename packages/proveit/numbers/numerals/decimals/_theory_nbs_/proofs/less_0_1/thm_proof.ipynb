{
 "cells": [
  {
   "cell_type": "markdown",
   "metadata": {},
   "source": [
    "Proof of <a class=\"ProveItLink\" href=\"../../../../../../_theory_nbs_/theory.ipynb\">proveit</a>.<a class=\"ProveItLink\" href=\"../../../../../_theory_nbs_/theory.ipynb\">numbers</a>.<a class=\"ProveItLink\" href=\"../../../../_theory_nbs_/theory.ipynb\">numerals</a>.<a class=\"ProveItLink\" href=\"../../theory.ipynb\">decimals</a>.<a class=\"ProveItLink\" href=\"../../theorems.ipynb#less_0_1\">less_0_1</a> theorem\n",
    "========"
   ]
  },
  {
   "cell_type": "code",
   "execution_count": 1,
   "metadata": {},
   "outputs": [],
   "source": [
    "import proveit\n",
    "theory = proveit.Theory() # the theorem's theory"
   ]
  },
  {
   "cell_type": "code",
   "execution_count": 2,
   "metadata": {},
   "outputs": [
    {
     "data": {
      "text/html": [
       "Under these <a href=\"presumptions.txt\">presumptions</a>, we begin our proof of<br><strong id=\"less_0_1\">less_0_1:</strong> <a class=\"ProveItLink\" href=\"../../../__pv_it/theorems/451ff4289b135c6b245b810074fcc743b1d8d9950/expr.ipynb\"><img src=\"data:image/png;base64,iVBORw0KGgoAAAANSUhEUgAAADAAAAAPBAMAAABQAFHMAAAAMFBMVEX///9mZma6urpUVFREREQQ\n",
       "EBDc3NwiIiLu7u6qqqoyMjLMzMyYmJiIiIh2dnYAAADXmt2vAAAAAXRSTlMAQObYZgAAAJZJREFU\n",
       "GNNjYOC785oBK1jJ0J6ALsYZwcDAE8DAtwAhshpENj/+wcDAYsDA+QMmzlMI0cwDFOE3YGD6CRXn\n",
       "rWtggEv0CzAw/YVw+2rhOoES+Q8YuCESjTUMKBICDNz/QBzmlQwoEnCjmtEkgJZzQixPRDWKxQFM\n",
       "YVqO7EEU5zJUMrRuQPcgL0ii7641A1qQMJr+kmHABQCIPi4VGnSxvgAAAABJRU5ErkJggg==\n",
       "\" style=\"display:inline;vertical-align:middle;\" /></a><br>(see <a class=\"ProveItLink\" href=\"../../../__pv_it/theorems/046d849e2dc9367f47663d8e506f29464dd7277e0/dependencies.ipynb\">dependencies</a>)<br>"
      ],
      "text/plain": [
       "less_0_1: 0 < 1"
      ]
     },
     "execution_count": 2,
     "metadata": {},
     "output_type": "execute_result"
    }
   ],
   "source": [
    "%proving less_0_1"
   ]
  },
  {
   "cell_type": "code",
   "execution_count": null,
   "metadata": {},
   "outputs": [],
   "source": []
  }
 ],
 "metadata": {
  "kernelspec": {
   "display_name": "Python 3",
   "language": "python",
   "name": "python3"
  }
 },
 "nbformat": 4,
 "nbformat_minor": 0
}