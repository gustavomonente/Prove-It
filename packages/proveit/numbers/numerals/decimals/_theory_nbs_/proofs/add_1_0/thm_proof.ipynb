{
 "cells": [
  {
   "cell_type": "markdown",
   "metadata": {},
   "source": [
    "Proof of <a class=\"ProveItLink\" href=\"../../../../../../_theory_nbs_/theory.ipynb\">proveit</a>.<a class=\"ProveItLink\" href=\"../../../../../_theory_nbs_/theory.ipynb\">numbers</a>.<a class=\"ProveItLink\" href=\"../../../../_theory_nbs_/theory.ipynb\">numerals</a>.<a class=\"ProveItLink\" href=\"../../theory.ipynb\">decimals</a>.<a class=\"ProveItLink\" href=\"../../theorems.ipynb#add_1_0\">add_1_0</a> theorem\n",
    "========"
   ]
  },
  {
   "cell_type": "code",
   "execution_count": 1,
   "metadata": {},
   "outputs": [],
   "source": [
    "import proveit\n",
    "theory = proveit.Theory() # the theorem's theory"
   ]
  },
  {
   "cell_type": "code",
   "execution_count": 2,
   "metadata": {},
   "outputs": [
    {
     "data": {
      "text/html": [
       "Under these <a href=\"presumptions.txt\">presumptions</a>, we begin our proof of<br><strong id=\"add_1_0\">add_1_0:</strong> <a class=\"ProveItLink\" href=\"../../../__pv_it/theorems/764e2743c1616539bf64ad63070631a56fa2d6cd0/expr.ipynb\"><img src=\"data:image/png;base64,iVBORw0KGgoAAAANSUhEUgAAAGAAAAAUBAMAAACABSXcAAAAMFBMVEX////MzMxUVFR2dna6uroQ\n",
       "EBCqqqqIiIgiIiJmZmYyMjJERETu7u6YmJjc3NwAAACgK8IjAAAAAXRSTlMAQObYZgAAARtJREFU\n",
       "KM9jYOC7wIAd5OEQP41N0PyyAAPTA+wa1gFx6gFUMa4Enj4GngUYatliGBh4JzDwKOvDNKRDqKsM\n",
       "DFZAa9DVHzL6w8DAAbL4PpqGTQwM+QcYjmLYwAvU8IIBi4ZPDAz+CQxcDtg0VGLRwPMTqKGAgXkC\n",
       "Ng17sWjg+8zAIF/AwAv2NfMqMJgA09CGTQPQBnkDBrYGbDaEIDRYrVrVumrVIriTGD8Q0IDi6fwE\n",
       "HBqwOYlhN1iIpQHJDwr4PA2NON4F2GywBDHq0TRwJPAEMjBwGqBrYAdq8ADSk+JXXkDRwGNeJABM\n",
       "UQJo6jlVf82FJA04SEfmnMCaWHlRovMMShrHnrz34cgn2JI37gwEAtw4MhDOLHoPqygADQNh0Wm+\n",
       "4AQAAAAASUVORK5CYII=\n",
       "\" style=\"display:inline;vertical-align:middle;\" /></a><br>(see <a class=\"ProveItLink\" href=\"../../../__pv_it/theorems/c9cc002cb28da8d0f1cabb63d268495f6642c2eb0/dependencies.ipynb\">dependencies</a>)<br>"
      ],
      "text/plain": [
       "add_1_0: (1 + 0) = 1"
      ]
     },
     "execution_count": 2,
     "metadata": {},
     "output_type": "execute_result"
    }
   ],
   "source": [
    "%proving add_1_0"
   ]
  },
  {
   "cell_type": "code",
   "execution_count": null,
   "metadata": {},
   "outputs": [],
   "source": []
  }
 ],
 "metadata": {
  "kernelspec": {
   "display_name": "Python 3",
   "language": "python",
   "name": "python3"
  }
 },
 "nbformat": 4,
 "nbformat_minor": 0
}