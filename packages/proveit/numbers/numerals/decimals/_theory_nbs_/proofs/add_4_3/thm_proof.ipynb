{
 "cells": [
  {
   "cell_type": "markdown",
   "metadata": {},
   "source": [
    "Proof of <a class=\"ProveItLink\" href=\"../../../../../../_theory_nbs_/theory.ipynb\">proveit</a>.<a class=\"ProveItLink\" href=\"../../../../../_theory_nbs_/theory.ipynb\">numbers</a>.<a class=\"ProveItLink\" href=\"../../../../_theory_nbs_/theory.ipynb\">numerals</a>.<a class=\"ProveItLink\" href=\"../../theory.ipynb\">decimals</a>.<a class=\"ProveItLink\" href=\"../../theorems.ipynb#add_4_3\">add_4_3</a> theorem\n",
    "========"
   ]
  },
  {
   "cell_type": "code",
   "execution_count": 1,
   "metadata": {},
   "outputs": [],
   "source": [
    "import proveit\n",
    "theory = proveit.Theory() # the theorem's theory"
   ]
  },
  {
   "cell_type": "code",
   "execution_count": 2,
   "metadata": {},
   "outputs": [
    {
     "data": {
      "text/html": [
       "Under these <a href=\"presumptions.txt\">presumptions</a>, we begin our proof of<br><strong id=\"add_4_3\">add_4_3:</strong> <a class=\"ProveItLink\" href=\"../../../__pv_it/theorems/3c3cca25dcbefdd8ddb9af9223d0417bd9e127140/expr.ipynb\"><img src=\"data:image/png;base64,iVBORw0KGgoAAAANSUhEUgAAAGIAAAAUBAMAAACE8PXhAAAAMFBMVEX///9UVFTMzMx2dna6uroQ\n",
       "EBCqqqqIiIgiIiJmZmYyMjJERETu7u6YmJjc3NwAAAC+aOQFAAAAAXRSTlMAQObYZgAAAVhJREFU\n",
       "KM9jYOC7wIAd5OEQZzgNIjRRxfiMrRMYGB+gK9WQNDY2YGBYB2I3okq9ZGD7y8CzAF3H/f///wsw\n",
       "8E4AMtkDoWLpEKo+geEHA4M5uo55DAyMDAwcILvfLkTV4erA8IuB4Si6DqCLjBgYXoCZaDoYQK5i\n",
       "4HLA8DRLAQNDJZDmfYCh4wTQPOYJGDq4gXgvEB9nQNfxuPMA0CCw15lXgQFEty0Qt4Hdh2EHewjQ\n",
       "ZQ3oVvB8ABIgGQWIDqtVq1pXrYJqDj3AwPQBXQf7AoiOwwzodrxjYNifgEUHxwaIqxJnzvw6HUXH\n",
       "/wMgHSwNSP4QALH5BaA+Z2BAi8FoBob+A1CfIwN9kP8tYUqQddwFxwenAbqOfJCIB4hl/V8WRQfL\n",
       "zNnA2ONSQNfxNIEBmkrgIB2ZcwJ7YudFidgzyBxzHPljH66Mg5nakXMUNsD9AIcEzlx7D7swAIHx\n",
       "WsaVlr4AAAAAAElFTkSuQmCC\n",
       "\" style=\"display:inline;vertical-align:middle;\" /></a><br>(see <a class=\"ProveItLink\" href=\"../../../__pv_it/theorems/9483db5e8c15d65226354acf72754383e24c1f510/dependencies.ipynb\">dependencies</a>)<br>"
      ],
      "text/plain": [
       "add_4_3: (4 + 3) = 7"
      ]
     },
     "execution_count": 2,
     "metadata": {},
     "output_type": "execute_result"
    }
   ],
   "source": [
    "%proving add_4_3"
   ]
  },
  {
   "cell_type": "code",
   "execution_count": null,
   "metadata": {},
   "outputs": [],
   "source": []
  }
 ],
 "metadata": {
  "kernelspec": {
   "display_name": "Python 3",
   "language": "python",
   "name": "python3"
  }
 },
 "nbformat": 4,
 "nbformat_minor": 0
}