{
 "cells": [
  {
   "cell_type": "markdown",
   "metadata": {},
   "source": [
    "Proof of <a class=\"ProveItLink\" href=\"../../../../../../_theory_nbs_/theory.ipynb\">proveit</a>.<a class=\"ProveItLink\" href=\"../../../../../_theory_nbs_/theory.ipynb\">numbers</a>.<a class=\"ProveItLink\" href=\"../../../../_theory_nbs_/theory.ipynb\">numerals</a>.<a class=\"ProveItLink\" href=\"../../theory.ipynb\">decimals</a>.<a class=\"ProveItLink\" href=\"../../theorems.ipynb#deci_sequence_reduction\">deci_sequence_reduction</a> theorem\n",
    "========"
   ]
  },
  {
   "cell_type": "code",
   "execution_count": 1,
   "metadata": {},
   "outputs": [],
   "source": [
    "import proveit\n",
    "\n",
    "from proveit import defaults\n",
    "from proveit.numbers.numerals import DecimalSequence\n",
    "defaults.disabled_auto_reduction_types.add(DecimalSequence)\n",
    "theory = proveit.Theory() # the theorem's theory"
   ]
  },
  {
   "cell_type": "code",
   "execution_count": 2,
   "metadata": {},
   "outputs": [
    {
     "data": {
      "text/html": [
       "Under these <a href=\"presumptions.txt\">presumptions</a>, we begin our proof of<br><strong id=\"deci_sequence_reduction\">deci_sequence_reduction:</strong> <a class=\"ProveItLink\" href=\"../../../__pv_it/theorems/ae0b48305f1b6b7327632a9a72d4c972cf36477d0/expr.ipynb\"><img src=\"data:image/png;base64,iVBORw0KGgoAAAANSUhEUgAABGwAAAAaBAMAAAAQ6tegAAAAMFBMVEX///8QEBCIiIhmZma6urrM\n",
       "zMxUVFQiIiJERETc3Nzu7u6qqqp2dnaYmJgyMjIAAAAcRTyBAAAAAXRSTlMAQObYZgAACZFJREFU\n",
       "aN7tW32MXFUVPzszbz7efGzjB1oJZtjS2iiNkxZEYIvTEAvRYGdLQktAO5lIVIRm1dpq25Sh/uEC\n",
       "QSfWbBsi8qBJWxdhJsWKTbYy7mJIlpa8dCG2tJohxRowGZtaP9oi8Zz77n3vvo+Zee9txWzYm7x3\n",
       "75x37znn3vO755573xuAIOlrm2owl97vKbZpa7AGw3NjNpcwjb5PYfO4VE7pM+cRLKXD+OyDXZ6F\n",
       "7UIIFQ4asGlR9kffsMlRltVnOWrUKt2ToJYx2xeax76PBGrwoDnrviGR136wezPlwQLL415Ym1kX\n",
       "wqjA1BiFl+n3275hk2lgltNmOWxyzATPQrqJ2VvheZwK1qIgSs/K5Is9mvU3DNS1PJ7NrAthVGBq\n",
       "jMIu8nFV37BhVXfN9jVqmt3HIVpE11kIz8M23Ol8h5r77YOPKSNVjV3oIWgVn6QTHs9m1oVQKkww\n",
       "2JDnyDT8xzbkmF6e7bD5PrtfAwm8J2qhediHuydsVplOWp1nPc30Chhf4vmTHs9m1oVQKjzJYJOd\n",
       "GhvbGSAkPjk29ovZHhmnhnlvaLHYGZ6Hfbh7wuYli/Sm19LVIYmVMFf0MsgMuhBOBbpwJ/XvkZGt\n",
       "AWDTPzLyw+Ysh02kwFfqccwWEAYGl36sO0hcFYhHrrKgEQA2pwduFKRJUdgxsa7RXfBCsRJm3MYN\n",
       "0oUdk1faQ9LMwMIwKtCFsLkH4KEAsImXIDnbz/ySOjfztZg9iteKWu5M1xbuCsSj/rZ63j9s1He1\n",
       "uhi5P4moYj78WOsuOClWwiyLiV9pUzplivTbBZT0NzsatsCPwqhAF8LmZu8YPfIBb9jECvZ9wHu3\n",
       "aS6pEzfYKP7QW3KTEg0a/je2td9tV2ELsr4Cohjqr+0s26jg5PGCBmdBqfqETfoC9Isqz4tgQYeb\n",
       "wGLhKbjFbZF2xgaBuoCSPmvvQBO+GUYFuhA2CYh4HsNs4PmawWLkMgs2eC3xFZ23/dE+52FWL2Jq\n",
       "sparGVu4GPeYnvxcsn7lftbHooQEpOjM40MA0QuQyMPt13VkZlRw8bgJ1HeUZcyamXb7Lx9vt8uu\n",
       "pugdvtVunyYmLaiL5X2d6KgGW4Gz6CS4yW2huL1JgC6gpG87CaFUoAthk9ETniAjx6SOL9PT1Sm4\n",
       "QYLNEZ9nxZP+aHWvthJR+c6LcGUZlEENqf38jEucmU36kB+tdYDNqHFsiWPeV4U6AvWWjrx4BSeP\n",
       "UxC7CLFhn94GA89VDQdsPgrqObBYeAouGrbwgk2ALqCkfzgI4VTgsEm17vCcrcTn2MExSB+NQlOC\n",
       "zc+Vsi/Y/NUf7bdebQXx6cnl8JuMFtVi9zMw9dcs2ChNiV/c1jwuy1LLnosUoNNkQRp6eHQCL0C3\n",
       "MecVnDz+Q1PRN2z6dXOGC1HqO5A+081mhmDjuXE3YpvTxmP/XeCSbIRwKsSMRQoe+irGOctXL4gs\n",
       "oglFJSNoXl2OUeyevuvOvAyb5GjRF2zO+6NNdvEU2Uce0+BQvpCBfWSSaMk4+TBgg7G5xS9pD1dt\n",
       "st7yDIlfaf+r/cA2DAwwnqw3YH261g02rML0awOFgXskHucoMPAPmyKGCcTDConVixBvHexmMyaY\n",
       "bCFCYtv6578LhiTLzIR5SIdRgYfE8By2yK7Q++6N0LykEiE4d+ILF9gLqHRp6jUZNmlaP9Wl693h\n",
       "x+5Ff5YWl7OLXPG5TMsM0CjvHvBwQCbxZrodOPCTDMDtU1g8MSRhJCHzc8PGerbELtLcyrYM/gjR\n",
       "ZD67MSNN1XqL9j3AbyAqvHoFXKYtkvai98MPwAUbq2G9ZYNNXE8WiMd8LA/yNtvhD+WmxaKDYLIF\n",
       "zhr3uYePLgglmCTLzACfAfXaMCrQRbCh8P6xT+BkYHpRica7H6fVbgM2GfPEgPE+i9fe0joN4nZc\n",
       "qN9VpFPTyOZIAe517M42R8yzhw3KPNHEUYsRoy02KgSbzDN3Y/az6yGiHZIwslOW4YaNJevX8PUR\n",
       "TLoh0nT36SZcw9cLtbJw9CppzBM0sBtB3HiF1FPD6F8GpUV899W6GzZWw0TZvgFfegSIBw2SmF97\n",
       "Bu6sFC0W3oKZLXAiuyaqny4IJZgky8yI+yNHQ6lAF8EmS9avwBBf8iuwgrKhxQ1Yg6OdT5dS+rAM\n",
       "m9fxWgZrQPmdHTbRgiJ5OgRp627HARTRROUq7YyxyTxw1mLENNpcZXY/AE22Zj3ViEzoEmxulWW4\n",
       "YWPJutUm0ny5EC0Z3bFO5m/psezG86jYFvsLCvC/SHEeMZouw+44sksiW+BUdW9yAnfBMrNXKOtL\n",
       "hb0gfW/zYVgMTyhGaZDyxcq8WtzwNvD5vAwbSpcDOuuEHTZ9jUhZ3mlEy7DZufuIls3KVhNnLSJG\n",
       "8bnyvZGR7Qibxx1bPQMjKy0Z69tvtNvmKYLxy5L1FZtIlqaNzSs7q7DeA/Ya875SpJo6U5J42AZc\n",
       "7XRoNmbjEW2WbK8yfdiMbOH1KjN4FywzB4SNpcKEBJvUGQTisQzs0rC04UDqYdiuDOczLEYuQrbp\n",
       "gI16Hh4dc8KmXku+rk0fmr7r9ywA1NBMDkAQbfrQSVasmU2ctRgx8VM0S9nwNrHV8MvDhw8X7bBZ\n",
       "K8twextL1koEEia939qJ0/7jDnFeZZ6RP99jzJ9AX5GtNiUenqdwPXgkvlhyHpj2YkG28DqUDdwF\n",
       "YWZ38q0C/3CCg62MG47RKRhqYOlqXbkcf1ZK8AgB+E1uP9nbzFfO6QQbhNnD4tZXW3cb7G/1NcYB\n",
       "fyW0Y8yPyDWItr+aIGKuCAXW5MuuWozYd/wZAIa/VwFOenmbveTujoEFG8HB+GXKMluTSAF7nKQn\n",
       "RGwmvnHa8UCl+9CthFwtdZ8m8SCp1/0zHwA2KyFyxPk2pycLZguPVzqBuyDM7MaTbxWSNfD4KJQ7\n",
       "8jSPYTG2cbxc4L3/1AIGm6GGMh+GanRrxCr7l+O2eC+FaUi/r8lMKtcgWry0loippUc13sRZixG/\n",
       "RKcASdQmtq3oOJUROykNhAy+d+Ic+C8hy4gaaWhQpGDx//0oNBvmpd7xbl7kvfnc8rhQwwkb8ZVr\n",
       "hw9X7Z6MFqmGA3AJeA6GG+LXZnDVSMCSoiDyRx61YCD3NK2oGNu4kwGbiNTa69zGlNWCuXSJkxM2\n",
       "WZ7rPmCjfPpG6WNqXtoDV0Glxn+t/nvDVWMPjOu8yB951YLrsy92VJqjomq27gQbQ5Y+Z+b/NWx6\n",
       "pE3O/0llPUqd6Fnn42xvPt1gc5vspe0+23Z4OGflS5ximzbORrWj9gW1R/rknJ0vffovqEprzPni\n",
       "mNQAAAAASUVORK5CYII=\n",
       "\" style=\"display:inline;vertical-align:middle;\" /></a><br>(see <a class=\"ProveItLink\" href=\"../../../__pv_it/theorems/8ebd8bcbea89d0bf5f86235ff44326918ce7ca960/dependencies.ipynb\">dependencies</a>)<br>"
      ],
      "text/plain": [
       "deci_sequence_reduction: forall_{m, n, k in Natural} [forall_{a_{1}, ..a_{_a}.., a_{m}, b_{1}, ..b_{_a}.., b_{n}, c, d_{1}, ..d_{_a}.., d_{k} in Digits | (b_{1} + ..b_{_a}.. + b_{n}) = c} (\\# (a_{1} ~ ..a_{_a}.. ~ a_{m} ~ (b_{1} + ..b_{_a}.. + b_{n}) ~ d_{1} ~ ..d_{_a}.. ~ d_{k}) = \\# (a_{1} ~ ..a_{_a}.. ~ a_{m} ~ c ~ d_{1} ~ ..d_{_a}.. ~ d_{k}))]"
      ]
     },
     "execution_count": 2,
     "metadata": {},
     "output_type": "execute_result"
    }
   ],
   "source": [
    "%proving deci_sequence_reduction"
   ]
  },
  {
   "cell_type": "code",
   "execution_count": 3,
   "metadata": {},
   "outputs": [
    {
     "data": {
      "text/html": [
       "<strong id=\"defaults.assumptions\">defaults.assumptions:</strong> <a class=\"ProveItLink\" href=\"../../../__pv_it/_proof_deci_sequence_reduction/118ae2d314aa5ee75318f7fd205f6d9119712e020/expr.ipynb\"><img src=\"data:image/png;base64,iVBORw0KGgoAAAANSUhEUgAABGAAAAAcBAMAAADcj9QzAAAAMFBMVEX///8iIiJERESYmJiqqqoQ\n",
       "EBB2dnbc3NyIiIhmZmbu7u4yMjJUVFS6urrMzMwAAADZVrDbAAAAAXRSTlMAQObYZgAACEFJREFU\n",
       "aN7tWn2IVFUUP/OxM7NvZ8Zd2KRs0fEj3Cxr+oJE00mIzBA3BbWPpUlJXSoYJQgh2iHQZvODsY/F\n",
       "8o8eRrKmsAMa5a7lptEuicusVEQIjpJ9gLFLrm6srnTv+7zv3Xvfu7NPsWIO7Ox77/zuOb9z3nn3\n",
       "nndnAP4lEmxPe7bxxNobBfZCuDxHXml5N/BfkGAC5kGbNxsLIdATyd8IsBfC5TnySsu7ARH58+bX\n",
       "yxcAzdAqe7HxZBaqiuHRGwD2Qrg8R15peTfgIln8Ee+52fUSOAgQHoEJRQ825iYBWjMwdv3BXgiX\n",
       "58grLe8G3OQ0/qiRb3K9RFD6QboGE1Ljt7EVpQo6SzB83cFeCJfnyCstykA4Of4pNMO8HMIWd3HG\n",
       "7P/rLhlevFQUUe95yqaVjk7rgtDzzQ6cdEisXjlthsHy49NJDCi3rqoYvwhsPk5gBrU7ar0QdnB0\n",
       "7mkPtNjj+Qb2cAIBgbh72YhJqAy5K950tFhJQyCkPmzX+pMXULU70tMg0uqi2q4tGMeSpJHYO1vt\n",
       "RANjPD5OYFpq8p4IOzga9kKLPZ5r4HNeIAJx72cDUJ8f4pr8upQDaAIhNRVHdHIENWCO7HSItBo/\n",
       "GvHcYKb8gtFJ7J2Bz37fMeKQVy6YFvZiI0yY7yg26oUWezzPQCBvD2QRz+wiKu5QlglsRVOYPTeB\n",
       "qXW3KwcnZ0VLQE1pTLUZx/11dQUluafkfvAxndKQrYiDDKfKKBTdhkEicgjdSIglWHl1ATPkjMwK\n",
       "2ZWwu6NQrUMiXWlZxrsa8GXsgbgWjAmX2DOFL0W9G8Yb9Qu9F6QuqmDYaiOOc2/rT+MbPftlZsGw\n",
       "IKi9b4R7xOvFsGGSQG8u/qy/ROfVFcyQF5ghuxEWcGTO+axEutGyLDGuBjbYA3EvGAL+JRNYnYCH\n",
       "0PP48mu5vvj6k+riZRRQbzB7QasIjNjFV6M4gnPw/IyI69WQWRTv0QtmU8tms3SZkMXw0xb+ihRu\n",
       "3/WMpTnrYpAIyrHcOj2vfW0pYTBDjuTeI5pK2Y3w+lxJyNGm9YMpymoZtMjx7gba7IG4FwwBb6FA\n",
       "OMpIE+xGz6O/ETq3w2O29rgXXglkVR4KIsNVQ2fqrTNJJaVmNYSKD2vJja2Eo2YjwIQ4yw+ZGkvz\n",
       "bdogSRDS2SWNCIMZbwtX5M4MUC8MPMIbUv6CiCOUh3tl+jVEmJZlvLuB6fZAXAuGhM9V7nu3Inkj\n",
       "SrTWTwP4xVeA1jQsUIAJgkdU7ld5KIgSVw1LO+SPlfcI8p5+Fz2rHn+ShHfQFKoOZUOc799yPBWS\n",
       "rytMEoQsleFv2iEHzNiFGIUJZtOXcCM8EaIpEUcoD7uNPCTKp6WO35wFMQP1eiDnRAuGjPtRZpTx\n",
       "a3AEtW+dRZziY8rK+CwuKY2H1FOj9j4YsYCvhve1pfU81ha05B6Az9SrH8lwK8Q/qGVDgtOQzHJK\n",
       "VPUo+CxNu2lDI7EQ2yCasd0gXaYdcsAMhwXoTBu9ghEyh3D1qCArlIeJeh7oRLrTUsaDrwhiBpq1\n",
       "QP7YqZy+1N19S3f3EdqsqSDjHqRvAm4OxuA2/EACIKOrlCtk4cKvca0iEOKEg7rhTfWGbiSnj3j6\n",
       "vHq8DG+LQqzWAeIoVQm8f0nIRiYJQg5DbJh2yAEzW8szRrMQTrgQrkoIskJ5GNPzwEmko6jjO2UQ\n",
       "M9CsBzIgOsOQcQ8yo0QEDisPJCrd2IiELzWRPAKphP7IwkW+WhoLq5tFVZY240F1kpYuQ3DIKBgm\n",
       "xFlQ1S+1kmdyJOQifiAohxwwYxsmiZ9mXZpcCOsPpZsjax6ayqaljR+w0+IZqNcDES4YMu4Boofp\n",
       "MaJE9/lu9G8Frpzqwqtg+aagH/2t03isQOtbiKsODEnDirbaWDmiaEoIqc+cNAzRwuN6opgQl4JJ\n",
       "wYlgZs78XD7Xb7NBciRkDK/3lEMOmFEwRdQ2YX9gCZlDGKUZUgKOrHlg59mxYNTxLfFtYgama4GU\n",
       "UTBE3HOZUcZHcOeCygaVbk06rW3NaHJIW9UKCiJUmM9VRxNwLaRXtTa7pdRW4gr61wj39aT1RFEQ\n",
       "y9sJLo+CdmCc+bOBhhA8shyek7fZbGgkyOrCZ8fhTqAd0mCrQ+MgmvTnsb+VYAmZJqwMqe6BfSUR\n",
       "VpY8UIm0o2la6viDS9RFydVAixYIVTBWq4SCjLvd3sMoUaK3pM1KZiN5CL6rvFFJx35WEWcvoaKV\n",
       "CuCbpCDCx1NctT8Fbeqm1YHZ6pQWn7JM/UKiDp0fyP3WVzTuHwUhBKN9eAJsAO0Dm5f6dry+PdxR\n",
       "iyaOdqsNnQS5F4kGwL4tSaAcMsBWh8oBviLtWgPYn9rN6iGzCCve1j6QFWJlyQOVSDuapqWOv6q1\n",
       "c64GBtRAGDNMA2merCQi7q/ss5ASZaDJtnmM3/ZXazvOuiwuR/3j1DoL9aBhXr9/FISJps1Hs6ix\n",
       "q3e3sdibQ+NKNBtr4oTMi16ElUFL2KqVVnzVDBAz4MuQ7YjQxp0Zt1TL2+mtcv2OOO1FHaISJYam\n",
       "zVeVIonwUAmE6Y7PYcj0V50uw5swToRWmk8rkjgfFjMQyNsL5lMenFSocXO+fKzJQrVbyFLWi7rD\n",
       "fEYEEtXhYL4V1X4g4XqDzAHjc9hh+vN9XwJvyWHhBGgxrBq0/NmzEUEDM3l7cI6ixs35eQNqn1x3\n",
       "AAKe1MZvjMI7r7onN+lg/jTUZMLfyiBKd5wOk6a/yBoAb8lh4ERoBRyI1mSiOwTd7VFPNk3pK6dg\n",
       "1LhnspXz0N83UJH/p3j4iWaA803wZOD+tqoiFaHrCHcEwXwlERURE3XXckklERURkw8rKahImfIP\n",
       "SsfW1xUMdFwAAAAASUVORK5CYII=\n",
       "\" style=\"display:inline;vertical-align:middle;\" /></a><br>"
      ],
      "text/plain": [
       "defaults.assumptions: (m in Natural, n in Natural, k in Natural, a_{1} in Digits, ..a_{_a} in Digits.., a_{m} in Digits, b_{1} in Digits, ..b_{_a} in Digits.., b_{n} in Digits, c in Digits, d_{1} in Digits, ..d_{_a} in Digits.., d_{k} in Digits, (b_{1} + ..b_{_a}.. + b_{n}) = c)"
      ]
     },
     "execution_count": 3,
     "metadata": {},
     "output_type": "execute_result"
    }
   ],
   "source": [
    "defaults.assumptions = deci_sequence_reduction.all_conditions()"
   ]
  },
  {
   "cell_type": "code",
   "execution_count": 4,
   "metadata": {},
   "outputs": [
    {
     "data": {
      "text/html": [
       "<strong id=\"equality\">equality:</strong> <a class=\"ProveItLink\" href=\"../../../__pv_it/theorems/df6f63c4fd4fa7542ef8c6ea9f9d6e707ea5ff160/expr.ipynb\"><img src=\"data:image/png;base64,iVBORw0KGgoAAAANSUhEUgAAAKQAAAAUBAMAAADxUYsHAAAAMFBMVEX////MzMxUVFR2dna6uroQ\n",
       "EBCqqqqIiIgiIiJmZmYyMjJERETu7u6YmJjc3NwAAACgK8IjAAAAAXRSTlMAQObYZgAAAbRJREFU\n",
       "OMtjYOC7wEAuyMMhfpqBZ2sDKQadjoCxmB5gV7GOgYFrAkmOWwlj8CzAKs8LNI4/AVkkHYdJbAVQ\n",
       "xje4kDlWhRxAx/sfIMVIlj9woaNYFb4AYgsGUoxkRoQ8lwM2hZVAvKh8GglGcqlXwgKKGSMSmMsL\n",
       "GfYCQ/nXgfMPGKSJNfL8Gp5/sIgAx4/VKhAARxpfG8Muhjag2j8M/AWSM4g1Mv8Aw3eYEHrq4zBg\n",
       "UGMIYWDgXMBw3oDBgwFqY+uqVYswzGNetWpF1KpVCkDmLAaez1BRxg9oyuaDIjoEnCz9E6BGEuHK\n",
       "lQws33AZGQ0igB7nvwAynWgj/zJw/uGdKw6KV5YGRFiCfAZxPjB6+B14YhmIN/ILw9ELvK4XWB/A\n",
       "ogcJ/AUqY7AEZtUL3BMwjTy/AErw/EI1UpdhJ8ObCgZ+YLBxGqAZOYmBZyLIJJ7ptgyYRnIowIgm\n",
       "VCNPFgPLLnUGV1ASFUCPRdvrkAwJBkR7HAwCGSYzMjCcwFlsgEEGTOQMDiN5kEoCvg8MLYm4ig2G\n",
       "fRDqZb86CeUbiwID0Ps4CjdgEUw24MZRBFNQUdzDKgoAFR14LtSixagAAAAASUVORK5CYII=\n",
       "\" style=\"display:inline;vertical-align:middle;\" /></a><br>"
      ],
      "text/plain": [
       "equality: (b_{1} + ..b_{_a}.. + b_{n}) = c"
      ]
     },
     "execution_count": 4,
     "metadata": {},
     "output_type": "execute_result"
    }
   ],
   "source": [
    "equality = defaults.assumptions[-1]"
   ]
  },
  {
   "cell_type": "code",
   "execution_count": 5,
   "metadata": {},
   "outputs": [
    {
     "data": {
      "text/html": [
       "<strong id=\"lhs\">lhs:</strong> <a class=\"ProveItLink\" href=\"../../../__pv_it/theorems/ec257fbe692d18202bbf90f1a689252224ac4cad0/expr.ipynb\"><img src=\"data:image/png;base64,iVBORw0KGgoAAAANSUhEUgAAAWcAAAAUBAMAAACjV+FlAAAAMFBMVEX///+YmJjc3NwQEBDMzMyI\n",
       "iIgiIiK6urpmZmZ2dnaqqqoyMjJUVFTu7u5EREQAAACNSvXSAAAAAXRSTlMAQObYZgAAA4FJREFU\n",
       "SMe9V01oE0EU/pLmP9kkiGipIPEiHir9wZ+TEiwFD6IRW60gJSgi2EIDhSKiNIJtrYKmB6VQhFBo\n",
       "oacGFSxsxSrmJEKgKILaxJaCxyr+YGrANzu72U1idpM9OLA7w8z79vtm5s28t0CxWIMwVXbBbPGE\n",
       "TICmeeWHsETVijlmIYeVA3UB1qJK86Xaa1uL68MUAx+f6Qd4ElQ9MifaSx9ZqA9RlPdB0xtIGsBk\n",
       "AyElVXNwxQBL3JzoRnry2o6ZapYzFfLcEXV0OGNApBjcl95jcNDbETIn+jzgLNQlWpUntKqjD4yI\n",
       "FINl6R2Vtmm3Oc1WclB3tC7RGnlP1aahiykG3hh3kjmqepiC8ZFDusA9k6fKdtFOXuVN9yTrEL3Y\n",
       "fVvpmlSmPt6V118b1cDN/NgTwU2qPtMzGPJuAMerQp3teF7W5aeLMvtM+AZbrkbRwmYmq7jiDrke\n",
       "DPkLesTcwL6fNS0pTImP+8RNMYfL9Lk2uHI4OloVuhzE3bIuB63xfAY/bLeiNYr2FBBQDuCsPA8i\n",
       "TukRcwNckvCMyAEru6YPAq4CHPS5oarYexlcLOtqIA+7A+E3nJLoKVG8IIqLlVB1gNizCbn3BK8Y\n",
       "cUKPmBsI0oG3kTOgGZYgF92QQzashz0M4fs/RC/AmZdF17DSdE0PJ0tFM+KYHjE34BSS6JPwMxcj\n",
       "96AFmIcOltbTswHLjc4e+7mwxj2+spWoWXQgSDvWuLU7rlIZEcsG7ngn+QQRTYk/xYE+8mk6iNkk\n",
       "XlM+UF10Hr7UtGUw2PDGvqQ5iL+Ys9cuOkYeur0N7epBNCKWDbxN1wvSQQRSuCLfPv6Ipd+tmXA2\n",
       "xc663GBlHduWEntPE68robmAXuALKkSrQAUtD/iC/rj1bRTMQcflmRsRc4PAK8m/iZryjjHwvRHS\n",
       "Xc1nNFgHW85+pUHlY/eRdAxpdEhewW9B0vr+bLBStApU0MpsRiZIecTJouETucuImBt09DJWL3mm\n",
       "KwyJTg3jQwahaR960WLThPGi+tqCi3Sywq5EGEJJKDUk7rW1ksh3/MaTwoKaMM0aBO4NWuudbm3C\n",
       "VLw+WflUDagdaIHjargkYTImxrotGuEJ0zHYefa/qoTqgbQu1LlEWWzzw2JI5DtkHf0TqSNluQb7\n",
       "RGlqakxMtOkwT02b4OPphPmfANNl1QTGX5KN/v/fLYuZbHgL8Bd3iQy2j1fRFgAAAABJRU5ErkJg\n",
       "gg==\n",
       "\" style=\"display:inline;vertical-align:middle;\" /></a><br>"
      ],
      "text/plain": [
       "lhs: \\# (a_{1} ~ ..a_{_a}.. ~ a_{m} ~ (b_{1} + ..b_{_a}.. + b_{n}) ~ d_{1} ~ ..d_{_a}.. ~ d_{k})"
      ]
     },
     "execution_count": 5,
     "metadata": {},
     "output_type": "execute_result"
    }
   ],
   "source": [
    "lhs = deci_sequence_reduction.instance_expr.instance_expr.lhs"
   ]
  },
  {
   "cell_type": "code",
   "execution_count": 6,
   "metadata": {},
   "outputs": [
    {
     "data": {
      "text/html": [
       "<strong id=\"rhs\">rhs:</strong> <a class=\"ProveItLink\" href=\"../../../__pv_it/theorems/b32d9b16ede17d6f63cd05a1ebcbb467d5ed70cb0/expr.ipynb\"><img src=\"data:image/png;base64,iVBORw0KGgoAAAANSUhEUgAAAOcAAAAUBAMAAACE3DekAAAAMFBMVEX///+YmJjc3NwQEBDMzMyI\n",
       "iIgiIiK6urpmZmZ2dnaqqqoyMjJUVFTu7u5EREQAAACNSvXSAAAAAXRSTlMAQObYZgAAAopJREFU\n",
       "SMe9Vk1oE0EU/jbdrNlNNgmCHnqQnMRDxB8UvSjBUvAgGjHVHiTkImJbaCBQvIgRamtRNB4qhSKE\n",
       "HoSeDPUi5GAO5qIIgYIXxUSlJw9GEMXWgG9mdjdJyc4KCx3IvOG9ee/b9zsBnBWIYyfWiiBRmDUi\n",
       "n/wZO39SLle/FjmNJDj5AKNEZM2nC5se8liZE7PCySpCeUAp+sPc1fG4cLsh6CLf56HRriX8geo5\n",
       "jwtPLLrO9xwFGNjvM7phr0i9tC/mRZBXiYyzAl64e0qqeGDpUqPfv7GMECxeKMsUAwsZO+c6+zoj\n",
       "jVkin+lXSITbVIfueTuKV/22JvDNEnxvQG25ahYS0Q6Cx9lRqWC5+mKyulVtYYJ8PoJQC2fnXFXX\n",
       "43jYx9BKeGMJ7kO955pWZpmq9jo7G+yWhgBr0xNAqAMtDcy4gj5q4Np2hk1vkL+uoMxyCSYvcJWC\n",
       "iSSUuAAdaqGZkoGehvlzG8MR/JaBMst5S85BLyLKuoXC2yzhOSSg5h8YbSh3RseDV1MWo0cgARWW\n",
       "9eJojd9arv6qTk9STqmQmmW8NRIS0E1EKitKIT70LljjnB+UIkcgA+WWw8O3OryQgApuMv4SDeG0\n",
       "MqX3eNoksbllHdjawN5a6eBlxPKhEmc8gDnrCLqgjiLfYFuOveb5JVWau/MQQTXrmeSVHlCNuTNl\n",
       "H2h9HDtTz6OOEWiiK/XHe3oEDqijKDbb8kiWaYUpM6EU+N3uGJzxGC3HkMUhdVAbe0zCrHqYQN6L\n",
       "juE93R34z+SqgTb5uk8fIDE8QDfUXFoM/HMIitf7iz3qpuvy56RGr2Dy6YCvmfublmquoZ4ST9sw\n",
       "IqLDfT7i/7uifa/ZDv1d2Q38Awi9rt5i2X4jAAAAAElFTkSuQmCC\n",
       "\" style=\"display:inline;vertical-align:middle;\" /></a><br>"
      ],
      "text/plain": [
       "rhs: \\# (a_{1} ~ ..a_{_a}.. ~ a_{m} ~ c ~ d_{1} ~ ..d_{_a}.. ~ d_{k})"
      ]
     },
     "execution_count": 6,
     "metadata": {},
     "output_type": "execute_result"
    }
   ],
   "source": [
    "rhs = deci_sequence_reduction.instance_expr.instance_expr.rhs"
   ]
  },
  {
   "cell_type": "code",
   "execution_count": 7,
   "metadata": {},
   "outputs": [
    {
     "data": {
      "text/html": [
       "<span style=\"font-size:20px;\"><a class=\"ProveItLink\" href=\"../../../__pv_it/theorems/df6f63c4fd4fa7542ef8c6ea9f9d6e707ea5ff160/expr.ipynb\"><img src=\"data:image/png;base64,iVBORw0KGgoAAAANSUhEUgAAAKQAAAAUBAMAAADxUYsHAAAAMFBMVEX////MzMxUVFR2dna6uroQ\n",
       "EBCqqqqIiIgiIiJmZmYyMjJERETu7u6YmJjc3NwAAACgK8IjAAAAAXRSTlMAQObYZgAAAbRJREFU\n",
       "OMtjYOC7wEAuyMMhfpqBZ2sDKQadjoCxmB5gV7GOgYFrAkmOWwlj8CzAKs8LNI4/AVkkHYdJbAVQ\n",
       "xje4kDlWhRxAx/sfIMVIlj9woaNYFb4AYgsGUoxkRoQ8lwM2hZVAvKh8GglGcqlXwgKKGSMSmMsL\n",
       "GfYCQ/nXgfMPGKSJNfL8Gp5/sIgAx4/VKhAARxpfG8Muhjag2j8M/AWSM4g1Mv8Aw3eYEHrq4zBg\n",
       "UGMIYWDgXMBw3oDBgwFqY+uqVYswzGNetWpF1KpVCkDmLAaez1BRxg9oyuaDIjoEnCz9E6BGEuHK\n",
       "lQws33AZGQ0igB7nvwAynWgj/zJw/uGdKw6KV5YGRFiCfAZxPjB6+B14YhmIN/ILw9ELvK4XWB/A\n",
       "ogcJ/AUqY7AEZtUL3BMwjTy/AErw/EI1UpdhJ8ObCgZ+YLBxGqAZOYmBZyLIJJ7ptgyYRnIowIgm\n",
       "VCNPFgPLLnUGV1ASFUCPRdvrkAwJBkR7HAwCGSYzMjCcwFlsgEEGTOQMDiN5kEoCvg8MLYm4ig2G\n",
       "fRDqZb86CeUbiwID0Ps4CjdgEUw24MZRBFNQUdzDKgoAFR14LtSixagAAAAASUVORK5CYII=\n",
       "\" style=\"display:inline;vertical-align:middle;\" /></a> <a class=\"ProveItLink\" href=\"../../../__pv_it/_proof_deci_sequence_reduction/9e5a6e4d0683f4a434c9422bf9416bdbc43059470/proof.ipynb\" style=\"text-decoration: none\">&nbsp;&#x22A2;&nbsp;&nbsp;</a><a class=\"ProveItLink\" href=\"../../../__pv_it/theorems/c4b37e6f75e5a449368e0f024d578316705a61a70/expr.ipynb\"><img src=\"data:image/png;base64,iVBORw0KGgoAAAANSUhEUgAAAm0AAAAUBAMAAAAtlxetAAAAMFBMVEX///+YmJjc3NwQEBDMzMyI\n",
       "iIgiIiK6urpmZmZ2dnaqqqoyMjJUVFTu7u5EREQAAACNSvXSAAAAAXRSTlMAQObYZgAABKlJREFU\n",
       "WMPFmFuIE1cYx79kc5tkJxulXrAg64v4sF5R+6QERehDaVO6264gy6CI4C4YWBApihHWy9qi2QdF\n",
       "WApBsOCTwZYqjLqxNC+KEJAWwUuiIgh9WYsXXA30O5fJzGQmc2ZOUA8kM5w533y/8z/nfOd8A9Aq\n",
       "4QxIlWUgW5L9EkbnPwiKDEIa1ApeHsm9RG3Ao42BDJ5qxu2fZm3kacHbzGjQ6yZ2Ax4wlG5KUIT7\n",
       "kCzi5bKctxS+5GowixbefUttX0lgxhuoZZehKMNFjtJNCYhwERJ5gFBBztli/M1ZKy50annBgafk\n",
       "zKeHawJHRoMzLgu+CMc5SjclIMJxiOF/THKwdgLEm4F0M/HUNebTsyJHRoO7zkc47hpD6aoERNDo\n",
       "elku5yuMwIoWSDcL3hXzVrjWjQapvONRjC6dsNalbsEQeHAYJiJMHt3kabji3HdtczmKyztVHS4F\n",
       "0O3a0Emj6pyh/uTgnPfwmA0UZ0BhEZqguBCKuqAMDUohJHMwgZfH+BvvT816mcbXwUxbVRpPL/Xr\n",
       "6n/+dVPf1epGTPicX8f7001PaEuDEInKik5LwXhzIstQXAgFXQjvhX8lEKb130b1d3oD9mKP1kIC\n",
       "t/KvO5rezcCp9iWCM+1SDV5BpOFTt2QT+oz94FcuJTouezlmDaIbqH3bckQJN+oz+g2KwggjDf9d\n",
       "iBXhlhRCDMLk+PYFhtcmxHLw5bGOtqdrsLutqgeX+k+gvo2coN2Z1vVdun7NaWo+QO/1Iq/9hsf1\n",
       "JsH3cMwawB56inIuCQ0GOAol5Cz+unC6JokwAKEM062nAXWc7/s72m4G9aWLblchPgdxzed8w+Pb\n",
       "4ZJdN+I47+WYNVCb7rrhuM/jKIwwrvnvwmZZhG8hTcINrlOcBpfAw1Z9C8lZl3X6ggyGb936MsYY\n",
       "t1yJHPMGzAX95/GtwvamDDxhKJyws26OLmCFFMK0/lrfN4rxDfeFegluY87YWbc56C2fDx3ZNhzd\n",
       "kbXsC29I1PCvWx5DxeLPhgrmviByzBsohW0Vvi/Y4tvM6B+vMb4hCiP00s3RhRcYrqQQynCAHwnS\n",
       "udCYYtG8Xia7H78h5RksrBRD45meO9GKZUu+Cc/BoZtpaFjzB72ZdAEWrYV1eD/JxRc5Zg1SSw7h\n",
       "MkkUHYkbxAschRKaLPQl3l34GdQJGQSeoxALtTo48IPFNkbePGbcYHkwtKWaX/k9TpkWPEG8tz3j\n",
       "1M00NKwNQY9OQfhvDUik+J1XiRyzBn1/UZWy7bqxRJESUELLfBsDUReUqQVSCHjyoV7MPGu/4NRc\n",
       "ha00rLXyrJaA/s69dNLl4phjqfb1JHK8dYR4/cdRP0ETRUueFdcCdUEKAY8h9LRj5vUi2/UwAqsj\n",
       "1rzexvqwk531QU82Ucza8nofjkcia/rd8noNVtlQxLrZuyCF8BXZjkh5AvbDaMd8YxaHa6nSShj4\n",
       "PE0Gyg5XQ+zHrO07ktgxPItoOZfvSJEKngmsKEKWti5IISyBXnYqML5brthX9c5UKnAZBn6xfLek\n",
       "KMfe5wLodhCiU5ah8uUY3VazpjitEirBHSuKmKWtC90hfPzv5CGZT1fzP/13ckT4Hw68xXz+r4vB\n",
       "AAAAAElFTkSuQmCC\n",
       "\" style=\"display:inline;vertical-align:middle;\" /></a></span>"
      ],
      "text/plain": [
       "{(b_{1} + ..b_{_a}.. + b_{n}) = c} |- \\# (a_{1} ~ ..a_{_a}.. ~ a_{m} ~ (b_{1} + ..b_{_a}.. + b_{n}) ~ d_{1} ~ ..d_{_a}.. ~ d_{k}) = \\# (a_{1} ~ ..a_{_a}.. ~ a_{m} ~ c ~ d_{1} ~ ..d_{_a}.. ~ d_{k})"
      ]
     },
     "execution_count": 7,
     "metadata": {},
     "output_type": "execute_result"
    }
   ],
   "source": [
    "equality.substitution(lhs.inner_expr().operands[1])"
   ]
  },
  {
   "cell_type": "code",
   "execution_count": 8,
   "metadata": {},
   "outputs": [
    {
     "data": {
      "text/html": [
       "<table><tr><th>&nbsp;</th><th>step type</th><th>requirements</th><th>statement</th></tr>\n",
       "<tr><td><a name=\"0xaf9134e8d3798a5_step0\">0</a></td><td>generalizaton</td><td><a href=\"#0xaf9134e8d3798a5_step1\">1</a></td><td><span style=\"font-size:20px;\"> <a class=\"ProveItLink\" href=\"../../../__pv_it/_proof_deci_sequence_reduction/1d31dbb1c6ba5456daa3a94c17cc481d9c14bb400/proof.ipynb\" style=\"text-decoration: none\">&nbsp;&#x22A2;&nbsp;&nbsp;</a><a class=\"ProveItLink\" href=\"../../../__pv_it/theorems/ae0b48305f1b6b7327632a9a72d4c972cf36477d0/expr.ipynb\"><img src=\"data:image/png;base64,iVBORw0KGgoAAAANSUhEUgAABGwAAAAaBAMAAAAQ6tegAAAAMFBMVEX///8QEBCIiIhmZma6urrM\n",
       "zMxUVFQiIiJERETc3Nzu7u6qqqp2dnaYmJgyMjIAAAAcRTyBAAAAAXRSTlMAQObYZgAACZFJREFU\n",
       "aN7tW32MXFUVPzszbz7efGzjB1oJZtjS2iiNkxZEYIvTEAvRYGdLQktAO5lIVIRm1dpq25Sh/uEC\n",
       "QSfWbBsi8qBJWxdhJsWKTbYy7mJIlpa8dCG2tJohxRowGZtaP9oi8Zz77n3vvo+Zee9txWzYm7x3\n",
       "75x37znn3vO755573xuAIOlrm2owl97vKbZpa7AGw3NjNpcwjb5PYfO4VE7pM+cRLKXD+OyDXZ6F\n",
       "7UIIFQ4asGlR9kffsMlRltVnOWrUKt2ToJYx2xeax76PBGrwoDnrviGR136wezPlwQLL415Ym1kX\n",
       "wqjA1BiFl+n3275hk2lgltNmOWxyzATPQrqJ2VvheZwK1qIgSs/K5Is9mvU3DNS1PJ7NrAthVGBq\n",
       "jMIu8nFV37BhVXfN9jVqmt3HIVpE11kIz8M23Ol8h5r77YOPKSNVjV3oIWgVn6QTHs9m1oVQKkww\n",
       "2JDnyDT8xzbkmF6e7bD5PrtfAwm8J2qhediHuydsVplOWp1nPc30Chhf4vmTHs9m1oVQKjzJYJOd\n",
       "GhvbGSAkPjk29ovZHhmnhnlvaLHYGZ6Hfbh7wuYli/Sm19LVIYmVMFf0MsgMuhBOBbpwJ/XvkZGt\n",
       "AWDTPzLyw+Ysh02kwFfqccwWEAYGl36sO0hcFYhHrrKgEQA2pwduFKRJUdgxsa7RXfBCsRJm3MYN\n",
       "0oUdk1faQ9LMwMIwKtCFsLkH4KEAsImXIDnbz/ySOjfztZg9iteKWu5M1xbuCsSj/rZ63j9s1He1\n",
       "uhi5P4moYj78WOsuOClWwiyLiV9pUzplivTbBZT0NzsatsCPwqhAF8LmZu8YPfIBb9jECvZ9wHu3\n",
       "aS6pEzfYKP7QW3KTEg0a/je2td9tV2ELsr4Cohjqr+0s26jg5PGCBmdBqfqETfoC9Isqz4tgQYeb\n",
       "wGLhKbjFbZF2xgaBuoCSPmvvQBO+GUYFuhA2CYh4HsNs4PmawWLkMgs2eC3xFZ23/dE+52FWL2Jq\n",
       "sparGVu4GPeYnvxcsn7lftbHooQEpOjM40MA0QuQyMPt13VkZlRw8bgJ1HeUZcyamXb7Lx9vt8uu\n",
       "pugdvtVunyYmLaiL5X2d6KgGW4Gz6CS4yW2huL1JgC6gpG87CaFUoAthk9ETniAjx6SOL9PT1Sm4\n",
       "QYLNEZ9nxZP+aHWvthJR+c6LcGUZlEENqf38jEucmU36kB+tdYDNqHFsiWPeV4U6AvWWjrx4BSeP\n",
       "UxC7CLFhn94GA89VDQdsPgrqObBYeAouGrbwgk2ALqCkfzgI4VTgsEm17vCcrcTn2MExSB+NQlOC\n",
       "zc+Vsi/Y/NUf7bdebQXx6cnl8JuMFtVi9zMw9dcs2ChNiV/c1jwuy1LLnosUoNNkQRp6eHQCL0C3\n",
       "MecVnDz+Q1PRN2z6dXOGC1HqO5A+081mhmDjuXE3YpvTxmP/XeCSbIRwKsSMRQoe+irGOctXL4gs\n",
       "oglFJSNoXl2OUeyevuvOvAyb5GjRF2zO+6NNdvEU2Uce0+BQvpCBfWSSaMk4+TBgg7G5xS9pD1dt\n",
       "st7yDIlfaf+r/cA2DAwwnqw3YH261g02rML0awOFgXskHucoMPAPmyKGCcTDConVixBvHexmMyaY\n",
       "bCFCYtv6578LhiTLzIR5SIdRgYfE8By2yK7Q++6N0LykEiE4d+ILF9gLqHRp6jUZNmlaP9Wl693h\n",
       "x+5Ff5YWl7OLXPG5TMsM0CjvHvBwQCbxZrodOPCTDMDtU1g8MSRhJCHzc8PGerbELtLcyrYM/gjR\n",
       "ZD67MSNN1XqL9j3AbyAqvHoFXKYtkvai98MPwAUbq2G9ZYNNXE8WiMd8LA/yNtvhD+WmxaKDYLIF\n",
       "zhr3uYePLgglmCTLzACfAfXaMCrQRbCh8P6xT+BkYHpRica7H6fVbgM2GfPEgPE+i9fe0joN4nZc\n",
       "qN9VpFPTyOZIAe517M42R8yzhw3KPNHEUYsRoy02KgSbzDN3Y/az6yGiHZIwslOW4YaNJevX8PUR\n",
       "TLoh0nT36SZcw9cLtbJw9CppzBM0sBtB3HiF1FPD6F8GpUV899W6GzZWw0TZvgFfegSIBw2SmF97\n",
       "Bu6sFC0W3oKZLXAiuyaqny4IJZgky8yI+yNHQ6lAF8EmS9avwBBf8iuwgrKhxQ1Yg6OdT5dS+rAM\n",
       "m9fxWgZrQPmdHTbRgiJ5OgRp627HARTRROUq7YyxyTxw1mLENNpcZXY/AE22Zj3ViEzoEmxulWW4\n",
       "YWPJutUm0ny5EC0Z3bFO5m/psezG86jYFvsLCvC/SHEeMZouw+44sksiW+BUdW9yAnfBMrNXKOtL\n",
       "hb0gfW/zYVgMTyhGaZDyxcq8WtzwNvD5vAwbSpcDOuuEHTZ9jUhZ3mlEy7DZufuIls3KVhNnLSJG\n",
       "8bnyvZGR7Qibxx1bPQMjKy0Z69tvtNvmKYLxy5L1FZtIlqaNzSs7q7DeA/Ya875SpJo6U5J42AZc\n",
       "7XRoNmbjEW2WbK8yfdiMbOH1KjN4FywzB4SNpcKEBJvUGQTisQzs0rC04UDqYdiuDOczLEYuQrbp\n",
       "gI16Hh4dc8KmXku+rk0fmr7r9ywA1NBMDkAQbfrQSVasmU2ctRgx8VM0S9nwNrHV8MvDhw8X7bBZ\n",
       "K8twextL1koEEia939qJ0/7jDnFeZZ6RP99jzJ9AX5GtNiUenqdwPXgkvlhyHpj2YkG28DqUDdwF\n",
       "YWZ38q0C/3CCg62MG47RKRhqYOlqXbkcf1ZK8AgB+E1uP9nbzFfO6QQbhNnD4tZXW3cb7G/1NcYB\n",
       "fyW0Y8yPyDWItr+aIGKuCAXW5MuuWozYd/wZAIa/VwFOenmbveTujoEFG8HB+GXKMluTSAF7nKQn\n",
       "RGwmvnHa8UCl+9CthFwtdZ8m8SCp1/0zHwA2KyFyxPk2pycLZguPVzqBuyDM7MaTbxWSNfD4KJQ7\n",
       "8jSPYTG2cbxc4L3/1AIGm6GGMh+GanRrxCr7l+O2eC+FaUi/r8lMKtcgWry0loippUc13sRZixG/\n",
       "RKcASdQmtq3oOJUROykNhAy+d+Ic+C8hy4gaaWhQpGDx//0oNBvmpd7xbl7kvfnc8rhQwwkb8ZVr\n",
       "hw9X7Z6MFqmGA3AJeA6GG+LXZnDVSMCSoiDyRx61YCD3NK2oGNu4kwGbiNTa69zGlNWCuXSJkxM2\n",
       "WZ7rPmCjfPpG6WNqXtoDV0Glxn+t/nvDVWMPjOu8yB951YLrsy92VJqjomq27gQbQ5Y+Z+b/NWx6\n",
       "pE3O/0llPUqd6Fnn42xvPt1gc5vspe0+23Z4OGflS5ximzbORrWj9gW1R/rknJ0vffovqEprzPni\n",
       "mNQAAAAASUVORK5CYII=\n",
       "\" style=\"display:inline;vertical-align:middle;\" /></a></span></td></tr>\n",
       "<tr><td><a name=\"0xaf9134e8d3798a5_step1\">1</a></td><td>instantiation</td><td><a href=\"#0xaf9134e8d3798a5_step2\">2</a>, <a href=\"#0xaf9134e8d3798a5_step3\">3</a></td><td><span style=\"font-size:20px;\"><a class=\"ProveItLink\" href=\"../../../__pv_it/theorems/df6f63c4fd4fa7542ef8c6ea9f9d6e707ea5ff160/expr.ipynb\"><img src=\"data:image/png;base64,iVBORw0KGgoAAAANSUhEUgAAAKQAAAAUBAMAAADxUYsHAAAAMFBMVEX////MzMxUVFR2dna6uroQ\n",
       "EBCqqqqIiIgiIiJmZmYyMjJERETu7u6YmJjc3NwAAACgK8IjAAAAAXRSTlMAQObYZgAAAbRJREFU\n",
       "OMtjYOC7wEAuyMMhfpqBZ2sDKQadjoCxmB5gV7GOgYFrAkmOWwlj8CzAKs8LNI4/AVkkHYdJbAVQ\n",
       "xje4kDlWhRxAx/sfIMVIlj9woaNYFb4AYgsGUoxkRoQ8lwM2hZVAvKh8GglGcqlXwgKKGSMSmMsL\n",
       "GfYCQ/nXgfMPGKSJNfL8Gp5/sIgAx4/VKhAARxpfG8Muhjag2j8M/AWSM4g1Mv8Aw3eYEHrq4zBg\n",
       "UGMIYWDgXMBw3oDBgwFqY+uqVYswzGNetWpF1KpVCkDmLAaez1BRxg9oyuaDIjoEnCz9E6BGEuHK\n",
       "lQws33AZGQ0igB7nvwAynWgj/zJw/uGdKw6KV5YGRFiCfAZxPjB6+B14YhmIN/ILw9ELvK4XWB/A\n",
       "ogcJ/AUqY7AEZtUL3BMwjTy/AErw/EI1UpdhJ8ObCgZ+YLBxGqAZOYmBZyLIJJ7ptgyYRnIowIgm\n",
       "VCNPFgPLLnUGV1ASFUCPRdvrkAwJBkR7HAwCGSYzMjCcwFlsgEEGTOQMDiN5kEoCvg8MLYm4ig2G\n",
       "fRDqZb86CeUbiwID0Ps4CjdgEUw24MZRBFNQUdzDKgoAFR14LtSixagAAAAASUVORK5CYII=\n",
       "\" style=\"display:inline;vertical-align:middle;\" /></a> <a class=\"ProveItLink\" href=\"../../../__pv_it/_proof_deci_sequence_reduction/9e5a6e4d0683f4a434c9422bf9416bdbc43059470/proof.ipynb\" style=\"text-decoration: none\">&nbsp;&#x22A2;&nbsp;&nbsp;</a><a class=\"ProveItLink\" href=\"../../../__pv_it/theorems/c4b37e6f75e5a449368e0f024d578316705a61a70/expr.ipynb\"><img src=\"data:image/png;base64,iVBORw0KGgoAAAANSUhEUgAAAm0AAAAUBAMAAAAtlxetAAAAMFBMVEX///+YmJjc3NwQEBDMzMyI\n",
       "iIgiIiK6urpmZmZ2dnaqqqoyMjJUVFTu7u5EREQAAACNSvXSAAAAAXRSTlMAQObYZgAABKlJREFU\n",
       "WMPFmFuIE1cYx79kc5tkJxulXrAg64v4sF5R+6QERehDaVO6264gy6CI4C4YWBApihHWy9qi2QdF\n",
       "WApBsOCTwZYqjLqxNC+KEJAWwUuiIgh9WYsXXA30O5fJzGQmc2ZOUA8kM5w533y/8z/nfOd8A9Aq\n",
       "4QxIlWUgW5L9EkbnPwiKDEIa1ApeHsm9RG3Ao42BDJ5qxu2fZm3kacHbzGjQ6yZ2Ax4wlG5KUIT7\n",
       "kCzi5bKctxS+5GowixbefUttX0lgxhuoZZehKMNFjtJNCYhwERJ5gFBBztli/M1ZKy50annBgafk\n",
       "zKeHawJHRoMzLgu+CMc5SjclIMJxiOF/THKwdgLEm4F0M/HUNebTsyJHRoO7zkc47hpD6aoERNDo\n",
       "elku5yuMwIoWSDcL3hXzVrjWjQapvONRjC6dsNalbsEQeHAYJiJMHt3kabji3HdtczmKyztVHS4F\n",
       "0O3a0Emj6pyh/uTgnPfwmA0UZ0BhEZqguBCKuqAMDUohJHMwgZfH+BvvT816mcbXwUxbVRpPL/Xr\n",
       "6n/+dVPf1epGTPicX8f7001PaEuDEInKik5LwXhzIstQXAgFXQjvhX8lEKb130b1d3oD9mKP1kIC\n",
       "t/KvO5rezcCp9iWCM+1SDV5BpOFTt2QT+oz94FcuJTouezlmDaIbqH3bckQJN+oz+g2KwggjDf9d\n",
       "iBXhlhRCDMLk+PYFhtcmxHLw5bGOtqdrsLutqgeX+k+gvo2coN2Z1vVdun7NaWo+QO/1Iq/9hsf1\n",
       "JsH3cMwawB56inIuCQ0GOAol5Cz+unC6JokwAKEM062nAXWc7/s72m4G9aWLblchPgdxzed8w+Pb\n",
       "4ZJdN+I47+WYNVCb7rrhuM/jKIwwrvnvwmZZhG8hTcINrlOcBpfAw1Z9C8lZl3X6ggyGb936MsYY\n",
       "t1yJHPMGzAX95/GtwvamDDxhKJyws26OLmCFFMK0/lrfN4rxDfeFegluY87YWbc56C2fDx3ZNhzd\n",
       "kbXsC29I1PCvWx5DxeLPhgrmviByzBsohW0Vvi/Y4tvM6B+vMb4hCiP00s3RhRcYrqQQynCAHwnS\n",
       "udCYYtG8Xia7H78h5RksrBRD45meO9GKZUu+Cc/BoZtpaFjzB72ZdAEWrYV1eD/JxRc5Zg1SSw7h\n",
       "MkkUHYkbxAschRKaLPQl3l34GdQJGQSeoxALtTo48IPFNkbePGbcYHkwtKWaX/k9TpkWPEG8tz3j\n",
       "1M00NKwNQY9OQfhvDUik+J1XiRyzBn1/UZWy7bqxRJESUELLfBsDUReUqQVSCHjyoV7MPGu/4NRc\n",
       "ha00rLXyrJaA/s69dNLl4phjqfb1JHK8dYR4/cdRP0ETRUueFdcCdUEKAY8h9LRj5vUi2/UwAqsj\n",
       "1rzexvqwk531QU82Ucza8nofjkcia/rd8noNVtlQxLrZuyCF8BXZjkh5AvbDaMd8YxaHa6nSShj4\n",
       "PE0Gyg5XQ+zHrO07ktgxPItoOZfvSJEKngmsKEKWti5IISyBXnYqML5brthX9c5UKnAZBn6xfLek\n",
       "KMfe5wLodhCiU5ah8uUY3VazpjitEirBHSuKmKWtC90hfPzv5CGZT1fzP/13ckT4Hw68xXz+r4vB\n",
       "AAAAAElFTkSuQmCC\n",
       "\" style=\"display:inline;vertical-align:middle;\" /></a></span></td></tr>\n",
       "<tr><td>&nbsp;</td><td colspan=4 style=\"text-align:left\"><span style=\"font-size:20px;\"><a class=\"ProveItLink\" href=\"../../../__pv_it/_proof_deci_sequence_reduction/c3e10a84a751ca80b7b7f09ef624d0666f0af7090/expr.ipynb\"><img src=\"data:image/png;base64,iVBORw0KGgoAAAANSUhEUgAAADAAAAAUBAMAAAA5EaOUAAAAMFBMVEX///8yMjJERETMzMwQEBCY\n",
       "mJgiIiK6urqqqqp2dnZUVFTc3NyIiIhmZmbu7u4AAADOOTK3AAAAAXRSTlMAQObYZgAAAQdJREFU\n",
       "GNNjYICCrQxIgGMDmHp7dgMDnwJM8JEbkFgNZq7sb2Bg3ABXLgvED0EMvu/PGRhiEeb8AGLOAyAD\n",
       "PwCJbLg4+z+QYgeQbAIDA3cCXIITzBRnYGC9knuBgecCXIJxzdkGBoa5QBY/0DymALjEezm+3wwM\n",
       "gUDWfgMGBrYGuET/A4Y/DAxtIBYQsxTAJS4y8P1kYLAHsqahSsgysP+ASGgxoBj1lYEX6OAyIMuH\n",
       "AcXy7wxPAsCW830HOR7h3KUMukDyJtCnII+zA31VpAQEDxjengTpFgYqBodrNgMK4Etg6GIEGx+L\n",
       "KgEMxCRwCDMwbUCRAArG3IboVUCR0EYwUaKWdQMDAOUhPDdqNJTaAAAAAElFTkSuQmCC\n",
       "\" style=\"display:inline;vertical-align:middle;\" /></a> : <a class=\"ProveItLink\" href=\"../../../__pv_it/_proof_deci_sequence_reduction/26057a542be0ceeb183ba26a5a900b6f5decc6fb0/expr.ipynb\"><img src=\"data:image/png;base64,iVBORw0KGgoAAAANSUhEUgAAAPUAAAAUBAMAAACnh2ZxAAAAMFBMVEX///+YmJjc3NwQEBDMzMyI\n",
       "iIgiIiK6urpmZmZ2dnaqqqoyMjJUVFTu7u5EREQAAACNSvXSAAAAAXRSTlMAQObYZgAAAqlJREFU\n",
       "SMe9lk1oE0EUx/9JN2myySbBg4ceJCfpIeIHfl2UYCl4EI1YNYKEXkS0hQYCxYsaQVtLQXOpFIoQ\n",
       "ehB6aqgXIYgR3JMIgYIIShOVgieNoi2mBnwzs5tdITsrCXQg84Z5b+aX997MmwXazRvDNrZFISLQ\n",
       "KiTWut9o7XB7ePqo3FT5nOcyHOfiPdQCiZUevHhmDZsuptEiF1qJiyUEsoAn3wPbAva3XExvV4Wc\n",
       "4/00/NT7492jbcDgqIvtI0Ou8n6Uog7s7sFtGzCU/8/0hLIi8ksk0uyoz9w7Jl04OH+u2mE6pKdF\n",
       "FgfnzhRl670zI2Z6guxPqincJfGRfrl4qEFH1Tm2B/Ci03ztufbD0H+rQqk7bpCLR1rwHWJDTwkL\n",
       "5adj5a1yHdcpAvsRqOPklOPS1RgedJpfruKXoZ+Fct8x5QxA5/sqG6vMyg8vu95HgEAL/hQw6ch+\n",
       "WMWVTvOz0H4b+mvkvSObAQrQ+MlUKMJIwBMT7L46akkZ+zi0n53PT3/T0G/K2AyQNfScfRYRdr0o\n",
       "5rUCliFhk3NqA547w2nf5aRd8Z15ZOolbAEI5ocr3GqhvFGeGKN801mrFfFajUvYTYRLi55crO+N\n",
       "r2JXbLJMm3oZmwNCAzdb/KwBJdxg8/NU2FOe8aDN7xqptS1jwNo6dlYKey4gmg0U7Hu+xBdLb7Hb\n",
       "63kHExB9xXNPO1Atn4aItKaPJC7a2H7m3Lg5oPbh/Ak9Cx1D8ItrfOsrtSreXYrZ9G12e73oTMBQ\n",
       "hi0OUdYCSXBbq6ZOulSmg8hgryKpsC5lNaPsI9ZbccV4LbDekifypd4Geb4r6GygurDXldGUeEtO\n",
       "wScC9smsmxO6/OGo0HObeOz836b+pKQbrEBPijd0AGFRonv4duiiRf55Nrf3m2kH8BccRcAf05xY\n",
       "YQAAAABJRU5ErkJggg==\n",
       "\" style=\"display:inline;vertical-align:middle;\" /></a>, <a class=\"ProveItLink\" href=\"../../../../../../__pv_it/common/a2581dc5df71d9a30bad37de14965fa5fec97a240/expr.ipynb\"><img src=\"data:image/png;base64,iVBORw0KGgoAAAANSUhEUgAAAAsAAAAJBAMAAAAWSsseAAAALVBMVEX///9mZmaqqqrMzMxEREQy\n",
       "MjIiIiKYmJh2dna6urrc3NxUVFSIiIju7u4AAACJHQtQAAAAAXRSTlMAQObYZgAAAEJJREFUCNdj\n",
       "YLhzeuWJAwy8Dew5bAEMHBc43nIuYOBlYHFgAAG+A2DKzgBIMF04x8BzgWGegh/DcgaG22fuiBcw\n",
       "AAATyhBrnyPYZQAAAABJRU5ErkJggg==\n",
       "\" style=\"display:inline;vertical-align:middle;\" /></a> : <a class=\"ProveItLink\" href=\"../../../__pv_it/theorems/24689b01d76b488096baf05afbb38e237b0c98960/expr.ipynb\"><img src=\"data:image/png;base64,iVBORw0KGgoAAAANSUhEUgAAAHAAAAARBAMAAAD3ZjWHAAAAMFBMVEX////MzMyYmJjc3NyIiIhU\n",
       "VFR2dna6urqqqqpmZmYyMjIiIiIQEBBERETu7u4AAACIO4EmAAAAAXRSTlMAQObYZgAAAQ9JREFU\n",
       "KM9j4LuzgYEE8PY0nMk1gRSNDCvhLP4GZPEWHOo5HKCMH3Ch+gekaGT/BxfKZiBFIxsiRJa6zCBB\n",
       "I1eIJ9RrfL8evDdgkCVW4/t1fJ+hIv8Y+B0kZxOrsf8BwxcIi3MBw/sEhmowO2vVqj2rVi3F0MW2\n",
       "atXqU6tWBQCZsxj4vsGjsb4BqpEIG1cysEMjhF+BYf4D4jV+YuD8xzRJxBOosYDvEAPxGr8zvFFg\n",
       "qlHgMWBgVeCdgKmR7xcoBBdAGUgagxhuMth5M/A/YOCbksSAxcatQMwdAGUgaXzppsDAEMJQA1NP\n",
       "tFPB4CDDNEYosxsm9g6HRj6kFM38gWF7I4RpuT+EhJzFHsDgpgAA1LVPxeLW+qIAAAAASUVORK5C\n",
       "YII=\n",
       "\" style=\"display:inline;vertical-align:middle;\" /></a>, <a class=\"ProveItLink\" href=\"../../../../../../__pv_it/common/0f21cbfd5644a1cae6781c1d58354abc2ffbc9000/expr.ipynb\"><img src=\"data:image/png;base64,iVBORw0KGgoAAAANSUhEUgAAAAsAAAANBAMAAACN24kIAAAAMFBMVEX///8iIiKYmJhUVFTMzMxE\n",
       "REQyMjKqqqq6urp2dnYQEBDc3NxmZmaIiIju7u4AAACH5sGpAAAAAXRSTlMAQObYZgAAAFlJREFU\n",
       "CNdj4LtzgWHXAwZOjgUM9xkYtvMkMIQyMDzgusDwl4GBof8ByxcgdYyBdwGQCmZgNQBShxn6FYDU\n",
       "47vnNzAwgGUZGJgT+H4AKUYF1gtAiuPuESAJAJGkFvXVdzA+AAAAAElFTkSuQmCC\n",
       "\" style=\"display:inline;vertical-align:middle;\" /></a> : <a class=\"ProveItLink\" href=\"../../../../../../__pv_it/common/9a9d28748f90dec84e90f2ace4610208194e524e0/expr.ipynb\"><img src=\"data:image/png;base64,iVBORw0KGgoAAAANSUhEUgAAAAkAAAAJBAMAAAASvxsjAAAALVBMVEX///+YmJgQEBDu7u5mZmZU\n",
       "VFQyMjJERESqqqoiIiLc3NzMzMyIiIh2dnYAAABuqkWTAAAAAXRSTlMAQObYZgAAADZJREFUCNdj\n",
       "YGC4c2YDA8PKBvYEBoa5DKwNDCyPGYCAqQBE2l0AkXwCDAxA8QAGE6DKu4IHGABBiAr2Gi8OxgAA\n",
       "AABJRU5ErkJggg==\n",
       "\" style=\"display:inline;vertical-align:middle;\" /></a></span></td></tr><tr><td><a name=\"0xaf9134e8d3798a5_step2\">2</a></td><td>axiom</td><td></td><td><span style=\"font-size:20px;\"> <a class=\"ProveItLink\" href=\"../../../../../../logic/equality/_theory_nbs_/axioms.ipynb#substitution\" style=\"text-decoration: none\">&nbsp;&#x22A2;&nbsp;&nbsp;</a><a class=\"ProveItLink\" href=\"../../../../../../logic/equality/__pv_it/axioms/fb5aa0007e656f471030da411c3555b23b265d8f0/expr.ipynb\"><img src=\"data:image/png;base64,iVBORw0KGgoAAAANSUhEUgAAAOcAAAAWBAMAAADJFJavAAAAMFBMVEX///8QEBCIiIhmZma6urrM\n",
       "zMxUVFQiIiJERETc3Nzu7u6qqqp2dnaYmJgyMjIAAAAcRTyBAAAAAXRSTlMAQObYZgAAAuNJREFU\n",
       "SMe1Vk1oE1EQniSbbLLZ/BwUD70sCXiQQsWiINga9CCIkuDBa4PoQVBYxJN66EmSQG0EQUGEtYg/\n",
       "PdiCB/Fk0INiRQKC6EHZgx4UKkEsSLz45s28/XHTlgQ68L1M3nx5X/bNm3kLMKpluv972fZm3GcM\n",
       "F798HkH0IQ7Gnv3soZ0dQAsxUm3CCn75MYLod7nKyl/20B4PoIUYhku4hU8/O7xmbjeOS0cr7KGZ\n",
       "VpQXZrwg5B1BXh5eVJcJfO558kGKUV6YcZeQe7O4eHOE3aXfvPI8aV+jvDAjXyH8aTSujCBaxuH9\n",
       "jknyFnbeGBd7+zJCUwyjbMF1B0yx0YgzAE0MH+hGfqFtIDonx1/kGZ3cBV0ckC8ysz+lcR6ZYWpF\n",
       "mBD76hIOy/MEZqkTWTi9gehlWX9r5JmO2ddE4p5GK5QZtxMuNEQp2wQd4l3e7WFEt8l20CPPgLQs\n",
       "gJkITTGcmIUPnewRzK6O0YIzgqhpK69gDRb1GFUnueaLZtyTWHbzU0gpnxAphkN1uOSL8iQEAmp7\n",
       "03XlzdRwPBLIaR1CjGmIi4LSbAI0T2P0Iw67Uu5F8dHpJ4u+KE6mGsLmvIA6SDGLvKwzAXGHD1LI\n",
       "FAOuSn11kOAJKsMkDrU8pjdzz47P+qI0CcEAcHUsVcirLs/DHayAaENiBuyDqlgm0SFwOqgECrJ3\n",
       "JDopK5DTgtdQVEDtZJW9+6WFKfxn3yKiiiEoB8Uy+RoBcvIIbQc6CTijV2K1gKiYTGGWVr2Aam2v\n",
       "IdwG7YhogDEt8IDB/D5kWpneO+hkWqDXqv7plZNKiQPU8LP1Vb/1D2z4PiPlGr/9hq+ajw3JMeP8\n",
       "sXEnOQbaqWu+qJxULA6gNUFvueytd7X5DL2btvyrLXBTZfnvwSPOcKROVYAu8Vy57V/nIXVvVY+h\n",
       "lfbigm0Cd/8PNXqRkO8T5zR3sKgKDH5dyW36uvKJwdkoiYEjXTj+dp2OpAJbaYktWvcfpC3c9HKM\n",
       "He8AAAAASUVORK5CYII=\n",
       "\" style=\"display:inline;vertical-align:middle;\" /></a></span></td></tr>\n",
       "<tr><td>&nbsp;</td><td colspan=4 style-\"text-align:left\"><a class=\"ProveItLink\" href=\"../../../../../../logic/equality/_theory_nbs_/axioms.ipynb#substitution\">proveit.logic.equality.substitution</a></td></tr><tr><td><a name=\"0xaf9134e8d3798a5_step3\">3</a></td><td>assumption</td><td></td><td><span style=\"font-size:20px;\"><a class=\"ProveItLink\" href=\"../../../__pv_it/theorems/df6f63c4fd4fa7542ef8c6ea9f9d6e707ea5ff160/expr.ipynb\"><img src=\"data:image/png;base64,iVBORw0KGgoAAAANSUhEUgAAAKQAAAAUBAMAAADxUYsHAAAAMFBMVEX////MzMxUVFR2dna6uroQ\n",
       "EBCqqqqIiIgiIiJmZmYyMjJERETu7u6YmJjc3NwAAACgK8IjAAAAAXRSTlMAQObYZgAAAbRJREFU\n",
       "OMtjYOC7wEAuyMMhfpqBZ2sDKQadjoCxmB5gV7GOgYFrAkmOWwlj8CzAKs8LNI4/AVkkHYdJbAVQ\n",
       "xje4kDlWhRxAx/sfIMVIlj9woaNYFb4AYgsGUoxkRoQ8lwM2hZVAvKh8GglGcqlXwgKKGSMSmMsL\n",
       "GfYCQ/nXgfMPGKSJNfL8Gp5/sIgAx4/VKhAARxpfG8Muhjag2j8M/AWSM4g1Mv8Aw3eYEHrq4zBg\n",
       "UGMIYWDgXMBw3oDBgwFqY+uqVYswzGNetWpF1KpVCkDmLAaez1BRxg9oyuaDIjoEnCz9E6BGEuHK\n",
       "lQws33AZGQ0igB7nvwAynWgj/zJw/uGdKw6KV5YGRFiCfAZxPjB6+B14YhmIN/ILw9ELvK4XWB/A\n",
       "ogcJ/AUqY7AEZtUL3BMwjTy/AErw/EI1UpdhJ8ObCgZ+YLBxGqAZOYmBZyLIJJ7ptgyYRnIowIgm\n",
       "VCNPFgPLLnUGV1ASFUCPRdvrkAwJBkR7HAwCGSYzMjCcwFlsgEEGTOQMDiN5kEoCvg8MLYm4ig2G\n",
       "fRDqZb86CeUbiwID0Ps4CjdgEUw24MZRBFNQUdzDKgoAFR14LtSixagAAAAASUVORK5CYII=\n",
       "\" style=\"display:inline;vertical-align:middle;\" /></a> <a class=\"ProveItLink\" href=\"../../../__pv_it/_proof_deci_sequence_reduction/499eaf9e359a9d0cd02f7e8b29d8bf963b8478e50/proof.ipynb\" style=\"text-decoration: none\">&nbsp;&#x22A2;&nbsp;&nbsp;</a><a class=\"ProveItLink\" href=\"../../../__pv_it/theorems/df6f63c4fd4fa7542ef8c6ea9f9d6e707ea5ff160/expr.ipynb\"><img src=\"data:image/png;base64,iVBORw0KGgoAAAANSUhEUgAAAKQAAAAUBAMAAADxUYsHAAAAMFBMVEX////MzMxUVFR2dna6uroQ\n",
       "EBCqqqqIiIgiIiJmZmYyMjJERETu7u6YmJjc3NwAAACgK8IjAAAAAXRSTlMAQObYZgAAAbRJREFU\n",
       "OMtjYOC7wEAuyMMhfpqBZ2sDKQadjoCxmB5gV7GOgYFrAkmOWwlj8CzAKs8LNI4/AVkkHYdJbAVQ\n",
       "xje4kDlWhRxAx/sfIMVIlj9woaNYFb4AYgsGUoxkRoQ8lwM2hZVAvKh8GglGcqlXwgKKGSMSmMsL\n",
       "GfYCQ/nXgfMPGKSJNfL8Gp5/sIgAx4/VKhAARxpfG8Muhjag2j8M/AWSM4g1Mv8Aw3eYEHrq4zBg\n",
       "UGMIYWDgXMBw3oDBgwFqY+uqVYswzGNetWpF1KpVCkDmLAaez1BRxg9oyuaDIjoEnCz9E6BGEuHK\n",
       "lQws33AZGQ0igB7nvwAynWgj/zJw/uGdKw6KV5YGRFiCfAZxPjB6+B14YhmIN/ILw9ELvK4XWB/A\n",
       "ogcJ/AUqY7AEZtUL3BMwjTy/AErw/EI1UpdhJ8ObCgZ+YLBxGqAZOYmBZyLIJJ7ptgyYRnIowIgm\n",
       "VCNPFgPLLnUGV1ASFUCPRdvrkAwJBkR7HAwCGSYzMjCcwFlsgEEGTOQMDiN5kEoCvg8MLYm4ig2G\n",
       "fRDqZb86CeUbiwID0Ps4CjdgEUw24MZRBFNQUdzDKgoAFR14LtSixagAAAAASUVORK5CYII=\n",
       "\" style=\"display:inline;vertical-align:middle;\" /></a></span></td></tr>\n",
       "</table>"
      ],
      "text/plain": [
       "\tstep type\trequirements\tstatement\n",
       "0\tgeneralizaton\t1\t|- forall_{m, n, k in Natural} [forall_{a_{1}, ..a_{_a}.., a_{m}, b_{1}, ..b_{_a}.., b_{n}, c, d_{1}, ..d_{_a}.., d_{k} in Digits | (b_{1} + ..b_{_a}.. + b_{n}) = c} (\\# (a_{1} ~ ..a_{_a}.. ~ a_{m} ~ (b_{1} + ..b_{_a}.. + b_{n}) ~ d_{1} ~ ..d_{_a}.. ~ d_{k}) = \\# (a_{1} ~ ..a_{_a}.. ~ a_{m} ~ c ~ d_{1} ~ ..d_{_a}.. ~ d_{k}))]\n",
       "1\tinstantiation\t2, 3\t{(b_{1} + ..b_{_a}.. + b_{n}) = c} |- \\# (a_{1} ~ ..a_{_a}.. ~ a_{m} ~ (b_{1} + ..b_{_a}.. + b_{n}) ~ d_{1} ~ ..d_{_a}.. ~ d_{k}) = \\# (a_{1} ~ ..a_{_a}.. ~ a_{m} ~ c ~ d_{1} ~ ..d_{_a}.. ~ d_{k})\n",
       "\tf(_b) : \\# (a_{1} ~ ..a_{_a}.. ~ a_{m} ~ _b ~ d_{1} ~ ..d_{_a}.. ~ d_{k}), x : b_{1} + ..b_{_a}.. + b_{n}, y : c\n",
       "2\taxiom\t\t|- forall_{f, x, y | x = y} (f(x) = f(y))\n",
       "\tproveit.logic.equality.substitution\n",
       "3\tassumption\t\t{(b_{1} + ..b_{_a}.. + b_{n}) = c} |- (b_{1} + ..b_{_a}.. + b_{n}) = c"
      ]
     },
     "execution_count": 8,
     "metadata": {},
     "output_type": "execute_result"
    }
   ],
   "source": [
    "%qed"
   ]
  },
  {
   "cell_type": "code",
   "execution_count": null,
   "metadata": {},
   "outputs": [],
   "source": []
  }
 ],
 "metadata": {
  "kernelspec": {
   "display_name": "Python 3",
   "language": "python",
   "name": "python3"
  }
 },
 "nbformat": 4,
 "nbformat_minor": 0
}