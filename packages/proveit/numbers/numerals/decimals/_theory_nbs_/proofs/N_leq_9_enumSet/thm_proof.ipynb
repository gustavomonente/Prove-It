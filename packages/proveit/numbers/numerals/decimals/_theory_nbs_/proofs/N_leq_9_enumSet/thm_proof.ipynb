{
 "cells": [
  {
   "cell_type": "markdown",
   "metadata": {},
   "source": [
    "Proof of <a class=\"ProveItLink\" href=\"../../../../../../_theory_nbs_/theory.ipynb\">proveit</a>.<a class=\"ProveItLink\" href=\"../../../../../_theory_nbs_/theory.ipynb\">numbers</a>.<a class=\"ProveItLink\" href=\"../../../../_theory_nbs_/theory.ipynb\">numerals</a>.<a class=\"ProveItLink\" href=\"../../theory.ipynb\">decimals</a>.<a class=\"ProveItLink\" href=\"../../theorems.ipynb#N_leq_9_enumSet\">N_leq_9_enumSet</a> theorem\n",
    "========"
   ]
  },
  {
   "cell_type": "code",
   "execution_count": 1,
   "metadata": {},
   "outputs": [],
   "source": [
    "import proveit\n",
    "theory = proveit.Theory() # the theorem's theory"
   ]
  },
  {
   "cell_type": "code",
   "execution_count": 2,
   "metadata": {},
   "outputs": [
    {
     "data": {
      "text/html": [
       "Under these <a href=\"presumptions.txt\">presumptions</a>, we begin our proof of<br><strong id=\"N_leq_9_enumSet\">N_leq_9_enumSet:</strong> <a class=\"ProveItLink\" href=\"../../../__pv_it/theorems/6b64606e29548ea9b5625a72f49a9d99c38444600/expr.ipynb\"><img src=\"data:image/png;base64,iVBORw0KGgoAAAANSUhEUgAAAQ8AAAAZBAMAAADd+bY/AAAAMFBMVEX///9mZmaqqqrc3NyIiIgi\n",
       "IiJUVFTMzMyYmJi6uroQEBB2dnZEREQyMjLu7u4AAAA1o4RqAAAAAXRSTlMAQObYZgAAA+ZJREFU\n",
       "SMfNlk9oFFccx7+ZTGZns5vJLhX8Q5V4KaWN7YYiFD1khQW9iGlLe2sdtWLqxRGaXFLIHoKUimQv\n",
       "XgQxKK1/ELtBmlo3pUvpoS1pXHOQFFFHMD0YyopW2ibdTn/z3u/Nbnc32fWg8cG++c577zfvM7/f\n",
       "7/12gP+3jTk8B60bpq3HVp5jUxLtmdZ/V5zjWBroTeDvlebYSRwoOnhYM2Ouebo7h1a5FXfHu/y+\n",
       "PRP6q3qddfNp+yB8lrrf//nFxdWFzPxP/pCWN2tCYz6gLrLj6xrA+JQjVWtuskuNHubrrHuYxyIp\n",
       "Nh3Yk8tlpWlqPCPH7ub2Ub/elz+GbFi01/z3/t3H2x9Vbxjpo24Gcwl5q13i8d8QYegeaIEf3+Pr\n",
       "l94i8/4q9wFGPc+zhWoB9srJc9hCcfnK1/udFDBGQp+hCYTz9UDMMUQKcvsJdaw2ABek2tWFxzyo\n",
       "f8Hi5ocMHo1hSqoXAEOqlykSQhhjMGIM8tG04aBPxGAW0WTUqQcStaExgKlAPgcOyc1OZFDiwTdv\n",
       "sLCV+amEUhQWDtIkMCdEZwGRBwyyb9C6LUGgueHUZdQD6bQRflgFcsfFIUUdhCZbA/JzZVYmGW4a\n",
       "V4Qo5qE/UiBacpBB6jcfpBhD+I8qEGq71bmby/JkQoH0j6yWojS0LaPWR/lqeEdlJrcXRKJdFSD4\n",
       "xkxWg3x7y2/XpRUlR28WoVqQMOcjtr7FRPegQKbRK/a3Smm8rQyuKPFdSRpQXDrImaMSxHAP9KF7\n",
       "ippbzyOvkP97Ywgt1oC0Bf7Xz6s0uBHMRsXbWR6wjp/rH04ZybW72eAHvEoh74gJEMvuGFs6Mp+8\n",
       "g6VCEy+vuiD20pwKkBZZCOg8jXJs9AJPHYG+IOG0kaE//aOb9EEwFFoGBCcckaxadbIi+KN+A7gm\n",
       "Yj4PBWIUVJV5n0DS7EFVGqgUDasSaNDzOmzhEZhd+bo5Ih9q0GQ0HwCUQTaiVR5Nz2WQl+LxhVUq\n",
       "C1vkwoNlj3Ta5RAZDCcgRI4coN/lfINTUy5oZZBQFroEuVhxfrigUe1skwbDLtbx3LBy4Rl6NWFq\n",
       "XsJwgk/NjG9WaABCiX/fsUTV0gmk6K/fnBvfL9Wnfh0pFhhKLGuN4bOEUEbWOs2Tr2fZ9KSLEaH0\n",
       "29YsZB0ZWCBvWA1B5lPkuXfptVsOltag7QO/oHneY6nC8RczUmHS6xfL0DOxQRpgfMLhyS0UP6FC\n",
       "e8bZIBfPMEjjFgmKjBYc79ewjCova9KgWZDgSEVQ8bextCova9KgSRBTlSGqm+pTJLmcCpY1a6C+\n",
       "Exq14AstHbBhOZXGExqEzzcHoj2Lb9b/AFbwPNNodldlAAAAAElFTkSuQmCC\n",
       "\" style=\"display:inline;vertical-align:middle;\" /></a><br>(see <a class=\"ProveItLink\" href=\"../../../__pv_it/theorems/85fc0f9021d7108e16cde9ebd350f163ba08adb80/dependencies.ipynb\">dependencies</a>)<br>"
      ],
      "text/plain": [
       "N_leq_9_enumSet: Digits = {0, 1, 2, 3, 4, 5, 6, 7, 8, 9}"
      ]
     },
     "execution_count": 2,
     "metadata": {},
     "output_type": "execute_result"
    }
   ],
   "source": [
    "%proving N_leq_9_enumSet"
   ]
  },
  {
   "cell_type": "code",
   "execution_count": null,
   "metadata": {},
   "outputs": [],
   "source": []
  }
 ],
 "metadata": {
  "kernelspec": {
   "display_name": "Python 3",
   "language": "python",
   "name": "python3"
  }
 },
 "nbformat": 4,
 "nbformat_minor": 0
}