{
 "cells": [
  {
   "cell_type": "markdown",
   "metadata": {},
   "source": [
    "Proof of <a class=\"ProveItLink\" href=\"../../../../../../_theory_nbs_/theory.ipynb\">proveit</a>.<a class=\"ProveItLink\" href=\"../../../../../_theory_nbs_/theory.ipynb\">numbers</a>.<a class=\"ProveItLink\" href=\"../../../../_theory_nbs_/theory.ipynb\">numerals</a>.<a class=\"ProveItLink\" href=\"../../theory.ipynb\">decimals</a>.<a class=\"ProveItLink\" href=\"../../theorems.ipynb#mult_0_7\">mult_0_7</a> theorem\n",
    "========"
   ]
  },
  {
   "cell_type": "code",
   "execution_count": 1,
   "metadata": {},
   "outputs": [],
   "source": [
    "import proveit\n",
    "theory = proveit.Theory() # the theorem's theory"
   ]
  },
  {
   "cell_type": "code",
   "execution_count": 2,
   "metadata": {},
   "outputs": [
    {
     "data": {
      "text/html": [
       "Under these <a href=\"presumptions.txt\">presumptions</a>, we begin our proof of<br><strong id=\"mult_0_7\">mult_0_7:</strong> <a class=\"ProveItLink\" href=\"../../../__pv_it/theorems/1bc8a8e6af3b64a7248836b7071272a15102671b0/expr.ipynb\"><img src=\"data:image/png;base64,iVBORw0KGgoAAAANSUhEUgAAAFcAAAAUBAMAAAAKKrydAAAAMFBMVEX///9UVFTMzMx2dna6uroQ\n",
       "EBCqqqqIiIgiIiJmZmYyMjJERETu7u6YmJjc3NwAAAC+aOQFAAAAAXRSTlMAQObYZgAAAV9JREFU\n",
       "KM91k79Lw1AQxz/9QY0mqcHNLaNbgx2KBcHRTZH+AfkLbJ3EQejUUfIXiC6CDlJnUQpSKDi0IK7a\n",
       "RXCzUlAEod6LmNjk9eA9Lt983uXu3QWKA1K2ywy7h9zhavS4slwue5lhCqs8uLJfwhm96O3zZDJx\n",
       "rJMku+BbR2AH2NvkorfHkJE4SfgRqmAMMR0K33+qB5JTNwlfQb3DKyw65D9iPd+Qr24k4HfY8jmA\n",
       "fkD+M9ZNWblgmrW+BG5wA28e2X/wuiw7rKF6oexcvOIYSg1aAgdkx+r4b5CRbIXmdOSiRC551OI0\n",
       "+mG4ObVnR9o0amGBBVWg4SjdaGtgVWDdV2mYbezo6tRRuZFmnPOpcq+lXR1V4FRTKAVRgammrInX\n",
       "outGcl3awryXgA3f2oFN8e72l2L5xVej4CZgq7Lnhu3WWE8/oXagUysz5vlWo6VHNB7+lJnDGbDu\n",
       "t3rSoz+ngFh4Dp1c7wAAAABJRU5ErkJggg==\n",
       "\" style=\"display:inline;vertical-align:middle;\" /></a><br>(see <a class=\"ProveItLink\" href=\"../../../__pv_it/theorems/aa2615879f98271386abdfdf736136943e96136c0/dependencies.ipynb\">dependencies</a>)<br>"
      ],
      "text/plain": [
       "mult_0_7: (0 * 7) = 0"
      ]
     },
     "execution_count": 2,
     "metadata": {},
     "output_type": "execute_result"
    }
   ],
   "source": [
    "%proving mult_0_7"
   ]
  },
  {
   "cell_type": "code",
   "execution_count": null,
   "metadata": {},
   "outputs": [],
   "source": []
  }
 ],
 "metadata": {
  "kernelspec": {
   "display_name": "Python 3",
   "language": "python",
   "name": "python3"
  }
 },
 "nbformat": 4,
 "nbformat_minor": 0
}