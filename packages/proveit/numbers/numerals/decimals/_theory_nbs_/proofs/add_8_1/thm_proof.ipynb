{
 "cells": [
  {
   "cell_type": "markdown",
   "metadata": {},
   "source": [
    "Proof of <a class=\"ProveItLink\" href=\"../../../../../../_theory_nbs_/theory.ipynb\">proveit</a>.<a class=\"ProveItLink\" href=\"../../../../../_theory_nbs_/theory.ipynb\">numbers</a>.<a class=\"ProveItLink\" href=\"../../../../_theory_nbs_/theory.ipynb\">numerals</a>.<a class=\"ProveItLink\" href=\"../../theory.ipynb\">decimals</a>.<a class=\"ProveItLink\" href=\"../../theorems.ipynb#add_8_1\">add_8_1</a> theorem\n",
    "========"
   ]
  },
  {
   "cell_type": "code",
   "execution_count": 1,
   "metadata": {},
   "outputs": [],
   "source": [
    "import proveit\n",
    "theory = proveit.Theory() # the theorem's theory"
   ]
  },
  {
   "cell_type": "code",
   "execution_count": 2,
   "metadata": {},
   "outputs": [
    {
     "data": {
      "text/html": [
       "Under these <a href=\"presumptions.txt\">presumptions</a>, we begin our proof of<br><strong id=\"add_8_1\">add_8_1:</strong> <a class=\"ProveItLink\" href=\"../../../__pv_it/theorems/e086fc109cf09b8690c56d3fe2ea7dc15ff1c78d0/expr.ipynb\"><img src=\"data:image/png;base64,iVBORw0KGgoAAAANSUhEUgAAAGEAAAAUBAMAAABvx07iAAAAMFBMVEX////MzMxUVFR2dna6uroQ\n",
       "EBCqqqqIiIgiIiJmZmYyMjJERETu7u6YmJjc3NwAAACgK8IjAAAAAXRSTlMAQObYZgAAAV1JREFU\n",
       "KM91k79PwlAQx7+lUEEoIf4FLAwORsMgwaUd+QOcjAMbcdBgnHShi85NYDUxjg1R/wFJY0IwamIX\n",
       "V9PR0UUH8Nc9SLDvce+G9t59++m9e/cOKEbg7UATxyMwOuoxQipWI4VuVcSuAB+ppqxZu6RfqMQw\n",
       "KlLc9mFFc7U1e91Vv+hZU4kKsApkY5g3KHgSAVsQQ5UYAw7wBqQnoRkxxLKrlDEBOjGOyV3/3gRD\n",
       "mL6SY4dyuLgV0m+fI+xpcWYwNUHTlq4jnJG31/hwGcLylBz5tuU0sU1yGR06NWwFwWkQXM4J410t\n",
       "ff/QKQkiE8L4ZHIsElRyKHb1TN4aQ6S9RB3lmUA7oMoz1PqBtvKEvYTGD1Cnf/Vht2ViSRC5DYU4\n",
       "CR+obw3yVro9+XRzlfE5dbCkEGZdfJeVbmgrubjnL7stNfYpuahp5mOgG5zF2/4/UbzlY42gndpX\n",
       "PvwHX9timT5llL0AAAAASUVORK5CYII=\n",
       "\" style=\"display:inline;vertical-align:middle;\" /></a><br>(see <a class=\"ProveItLink\" href=\"../../../__pv_it/theorems/d23e4131b7ee45dab1ce7da921903895d1fe22420/dependencies.ipynb\">dependencies</a>)<br>"
      ],
      "text/plain": [
       "add_8_1: (8 + 1) = 9"
      ]
     },
     "execution_count": 2,
     "metadata": {},
     "output_type": "execute_result"
    }
   ],
   "source": [
    "%proving add_8_1"
   ]
  },
  {
   "cell_type": "code",
   "execution_count": null,
   "metadata": {},
   "outputs": [],
   "source": []
  }
 ],
 "metadata": {
  "kernelspec": {
   "display_name": "Python 3",
   "language": "python",
   "name": "python3"
  }
 },
 "nbformat": 4,
 "nbformat_minor": 0
}