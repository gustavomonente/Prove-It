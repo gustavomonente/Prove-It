{
 "cells": [
  {
   "cell_type": "markdown",
   "metadata": {},
   "source": [
    "Proof of <a class=\"ProveItLink\" href=\"../../../../../../_theory_nbs_/theory.ipynb\">proveit</a>.<a class=\"ProveItLink\" href=\"../../../../../_theory_nbs_/theory.ipynb\">numbers</a>.<a class=\"ProveItLink\" href=\"../../../../_theory_nbs_/theory.ipynb\">numerals</a>.<a class=\"ProveItLink\" href=\"../../theory.ipynb\">decimals</a>.<a class=\"ProveItLink\" href=\"../../theorems.ipynb#add_5_6\">add_5_6</a> theorem\n",
    "========"
   ]
  },
  {
   "cell_type": "code",
   "execution_count": 1,
   "metadata": {},
   "outputs": [],
   "source": [
    "import proveit\n",
    "theory = proveit.Theory() # the theorem's theory"
   ]
  },
  {
   "cell_type": "code",
   "execution_count": 2,
   "metadata": {},
   "outputs": [
    {
     "data": {
      "text/html": [
       "Under these <a href=\"presumptions.txt\">presumptions</a>, we begin our proof of<br><strong id=\"add_5_6\">add_5_6:</strong> <a class=\"ProveItLink\" href=\"../../../__pv_it/theorems/2caab401c0e7f965248a6f6ed56e13e93f65a6770/expr.ipynb\"><img src=\"data:image/png;base64,iVBORw0KGgoAAAANSUhEUgAAAGsAAAAUBAMAAAB45d4rAAAAMFBMVEX///9UVFTMzMx2dna6uroQ\n",
       "EBCqqqqIiIgiIiJmZmYyMjJERETu7u6YmJjc3NwAAAC+aOQFAAAAAXRSTlMAQObYZgAAAU5JREFU\n",
       "OMtjYOC7wIAdsD1gwANOMzCsPaCZgCZqXqzAIIdP2zoGhvj/n9EETzlwLmA4hak49QCU4J3AwLBY\n",
       "HOaedCi9k4F7AwNzAZomHmH5AxCCgQOoQwAuAdXG8g+sKgDDtvsHoMQLBizauCEaluDWVgmkZa9P\n",
       "QtXGv8h8CpCyxK1tL5Dew/DeAUXb+bUMHMCwvQViM68Cgwmo2togrmpA1faBgTOGgSEDt20hYC4n\n",
       "KAysVq1qXbVqIciRDQy8XxgY9PFqY1zAwPwFxTaOBQy8f/FqAzqSdQED5x8UbYwBYNs8kPwmgBEk\n",
       "nGDjkbUx/WHgDIAGCXbbgIHMN4Hh6gPUVCLMcBQYkpMxtNUfgBIgh7w0nIOWuJgnCwHJRei6Jsav\n",
       "vAAhOFCyRzpKEmzAnQF4JyDzziBzMJIyMtiHU+YUgWxKsoFAgLNQ4MVTKAAAMu94ZTL55nUAAAAA\n",
       "SUVORK5CYII=\n",
       "\" style=\"display:inline;vertical-align:middle;\" /></a><br>(see <a class=\"ProveItLink\" href=\"../../../__pv_it/theorems/44175274aaa1c4c21dde0b64e55fc8aaaff86e4d0/dependencies.ipynb\">dependencies</a>)<br>"
      ],
      "text/plain": [
       "add_5_6: (5 + 6) = 11"
      ]
     },
     "execution_count": 2,
     "metadata": {},
     "output_type": "execute_result"
    }
   ],
   "source": [
    "%proving add_5_6"
   ]
  },
  {
   "cell_type": "code",
   "execution_count": null,
   "metadata": {},
   "outputs": [],
   "source": []
  }
 ],
 "metadata": {
  "kernelspec": {
   "display_name": "Python 3",
   "language": "python",
   "name": "python3"
  }
 },
 "nbformat": 4,
 "nbformat_minor": 0
}