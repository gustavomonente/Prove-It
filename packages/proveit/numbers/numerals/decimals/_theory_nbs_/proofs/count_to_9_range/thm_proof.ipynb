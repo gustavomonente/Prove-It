{
 "cells": [
  {
   "cell_type": "markdown",
   "metadata": {},
   "source": [
    "Proof of <a class=\"ProveItLink\" href=\"../../../../../../_theory_nbs_/theory.ipynb\">proveit</a>.<a class=\"ProveItLink\" href=\"../../../../../_theory_nbs_/theory.ipynb\">numbers</a>.<a class=\"ProveItLink\" href=\"../../../../_theory_nbs_/theory.ipynb\">numerals</a>.<a class=\"ProveItLink\" href=\"../../theory.ipynb\">decimals</a>.<a class=\"ProveItLink\" href=\"../../theorems.ipynb#count_to_9_range\">count_to_9_range</a> theorem\n",
    "========"
   ]
  },
  {
   "cell_type": "code",
   "execution_count": 1,
   "metadata": {},
   "outputs": [],
   "source": [
    "import proveit\n",
    "theory = proveit.Theory() # the theorem's theory"
   ]
  },
  {
   "cell_type": "code",
   "execution_count": 2,
   "metadata": {},
   "outputs": [
    {
     "data": {
      "text/html": [
       "Under these <a href=\"presumptions.txt\">presumptions</a>, we begin our proof of<br><strong id=\"count_to_9_range\">count_to_9_range:</strong> <a class=\"ProveItLink\" href=\"../../../__pv_it/theorems/a184b148432ddc77b4a861c5813eee7a4a0d63720/expr.ipynb\"><img src=\"data:image/png;base64,iVBORw0KGgoAAAANSUhEUgAAASEAAAAUBAMAAAAw85aCAAAAMFBMVEX////MzMxUVFR2dna6uroQ\n",
       "EBCqqqqIiIgiIiJmZmYyMjJERETu7u6YmJjc3NwAAACgK8IjAAAAAXRSTlMAQObYZgAAA31JREFU\n",
       "SMe1Vk1oE0EUfkmaZDfZTXvUUyulag7S2BxKLKW5COLFHlrwp9h48CBYjYiIXgweREFstL0E/2I9\n",
       "VajtVax2EYqhHroopShYAyK0B7X4A6VW19l5M7Ob3WRbhS5s9svs++Z9M+9nFiCmwyZcp6qMfd4g\n",
       "7ZVtQCk8bUAUS3Zk+Kgvj88xbSsfaz+LdlviyWQCqedTaTbJUFsZ/GWXN2XCU4xFe0zu4xqOvoDA\n",
       "D0RLEPrNbaUmfPYb39nITFouUvDBMAx8KwNsx5fTeqwPlKLLZYR4C/XVVCRoah6U5lam6A5AL6JL\n",
       "GVjhtueYooc7+MKfQBQXfA/Aj0MDRCeiFoA42UWXy7dkxW1rNRUJmmR6+cAUHQRoRa9707DKTGPv\n",
       "mKImTq77wxGJ2G5EHQAlRITXRZbscnmD3GptRYK2CDZF4xq0skSyohaIOBVFu62J6rL4PDAJnZgP\n",
       "v8gOlyGSdniM5TwVWbQLdkXkGuSwlGBggSvaNX8TQf2D9mGhjj39xhuW9ofJYtMQyDtchvPeeyRo\n",
       "zyoV1fHk/XiNjSlZrmgSvuLCZ8dA4lXXyZldq4xA9n5cB5Wm9p5H5jVKpeveigTtSqUiSYQm3MOC\n",
       "BhErXDlUtAwyKxplmQd5eJARotlQVwZCOYdHugYPRYLWU6moYJn04uAxmyIZU7o+ByrrEmFe5a8h\n",
       "/JPNMnCmqwF8yw6PwbS3IkGrVBTm0f8CMEUDoyS4In+RdyupCCrLe4m3PbJnjaKnkm7y74o4rTJq\n",
       "JyCG1W9oTFEoXrh/iNZTsAgyTujvFntU32RFzy/OoxGSkDkrj0Y2EjVBq8hsXwLCqOiIreqCoitL\n",
       "GCPfGsisATTyTT1KMgGpc5qPBFd1Nu31MlvQUrRDa6CYDXExmdoJs+Zc781+NIuzBicoiuVhrkzN\n",
       "oBmmM4hOkx5BzfZrMI/oojZDnMsJh0faDsJraE7J9Ef8E7R95M+t/lEdrpItGTeMFZCum12gcDuN\n",
       "CAJT33SKltrIKWOaQWBoG0OfSCzoS188xQiBlNmsIg0ORWYY5ZbVu2h0GdgPLW5zKkGT+FkVEvV2\n",
       "EjyQZeZNKFU9RRxG7qlK9KTlfcd2WNVGlpk3oepJ6zRyT2XSnjP8UpwwWS8kzNYhuL9GWOLbjKpM\n",
       "VbR9sYnSVcEL6W5UzSxa+4tNddeZXkHbnK/ahf/7qiW0v2o6J+HrbFiPAAAAAElFTkSuQmCC\n",
       "\" style=\"display:inline;vertical-align:middle;\" /></a><br>(see <a class=\"ProveItLink\" href=\"../../../__pv_it/theorems/38f0c956d6b1c0e50632718c3ead9cfc09d8e8fc0/dependencies.ipynb\">dependencies</a>)<br>"
      ],
      "text/plain": [
       "count_to_9_range: (1, 2, 3, 4, 5, 6, 7, 8, 9) = (1, ..k.., 9)"
      ]
     },
     "execution_count": 2,
     "metadata": {},
     "output_type": "execute_result"
    }
   ],
   "source": [
    "%proving count_to_9_range"
   ]
  },
  {
   "cell_type": "code",
   "execution_count": null,
   "metadata": {},
   "outputs": [],
   "source": []
  }
 ],
 "metadata": {
  "kernelspec": {
   "display_name": "Python 3",
   "language": "python",
   "name": "python3"
  }
 },
 "nbformat": 4,
 "nbformat_minor": 0
}