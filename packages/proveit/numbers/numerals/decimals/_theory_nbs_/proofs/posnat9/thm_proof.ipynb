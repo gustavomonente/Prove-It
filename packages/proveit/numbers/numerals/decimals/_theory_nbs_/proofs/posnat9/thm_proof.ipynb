{
 "cells": [
  {
   "cell_type": "markdown",
   "metadata": {},
   "source": [
    "Proof of <a class=\"ProveItLink\" href=\"../../../../../../_theory_nbs_/theory.ipynb\">proveit</a>.<a class=\"ProveItLink\" href=\"../../../../../_theory_nbs_/theory.ipynb\">numbers</a>.<a class=\"ProveItLink\" href=\"../../../../_theory_nbs_/theory.ipynb\">numerals</a>.<a class=\"ProveItLink\" href=\"../../theory.ipynb\">decimals</a>.<a class=\"ProveItLink\" href=\"../../theorems.ipynb#posnat9\">posnat9</a> theorem\n",
    "========"
   ]
  },
  {
   "cell_type": "code",
   "execution_count": 1,
   "metadata": {},
   "outputs": [],
   "source": [
    "import proveit\n",
    "theory = proveit.Theory() # the theorem's theory"
   ]
  },
  {
   "cell_type": "code",
   "execution_count": 2,
   "metadata": {},
   "outputs": [
    {
     "data": {
      "text/html": [
       "Under these <a href=\"presumptions.txt\">presumptions</a>, we begin our proof of<br><strong id=\"posnat9\">posnat9:</strong> <a class=\"ProveItLink\" href=\"../../../__pv_it/theorems/22e65c9aedb6a59efe4c7b06342719b355a2c9c60/expr.ipynb\"><img src=\"data:image/png;base64,iVBORw0KGgoAAAANSUhEUgAAAD8AAAAUBAMAAADIGvgZAAAAMFBMVEX///8iIiLMzMyqqqq6urqI\n",
       "iIhEREQyMjKYmJgQEBDc3NxUVFR2dnZmZmbu7u4AAABTw4smAAAAAXRSTlMAQObYZgAAAP9JREFU\n",
       "KM9jYKAEcBNSwEYlBW/P7EIVfv4t/QHDyZ8OUAV8MxhWPkBVkcG0gYHvA8P28sry8gYG7gkM3BdQ\n",
       "FWxUCGVgmACzgr+AgecDRKJNULAARG/J41ZgEIApeJ/AwPoLLK8WBzVhlzZfHUIBJ9CEL2DH1MGs\n",
       "2MUcoI1QADSf/Qc42BbAFTAc4QiAK2BIZbD5jBoquxi4H2wCKeACc5lbdT6BaM1yICiAKODbwD4B\n",
       "OU7+gchlSCYw6DAhK2DfAHYtsgIOgwQYj2Megz7YebwBMKFNQHwKroC1jq8CwhKGCRWDlBfADTxz\n",
       "1wHCeJ0CiRPFn0DdfAVYYtcnURBTGADyLz7l7FOxMwAAAABJRU5ErkJggg==\n",
       "\" style=\"display:inline;vertical-align:middle;\" /></a><br>(see <a class=\"ProveItLink\" href=\"../../../__pv_it/theorems/267632da316aa606d8d41711c00b20499e055b220/dependencies.ipynb\">dependencies</a>)<br>"
      ],
      "text/plain": [
       "posnat9: 9 in NaturalPos"
      ]
     },
     "execution_count": 2,
     "metadata": {},
     "output_type": "execute_result"
    }
   ],
   "source": [
    "%proving posnat9"
   ]
  },
  {
   "cell_type": "code",
   "execution_count": null,
   "metadata": {},
   "outputs": [],
   "source": []
  }
 ],
 "metadata": {
  "kernelspec": {
   "display_name": "Python 3",
   "language": "python",
   "name": "python3"
  }
 },
 "nbformat": 4,
 "nbformat_minor": 0
}