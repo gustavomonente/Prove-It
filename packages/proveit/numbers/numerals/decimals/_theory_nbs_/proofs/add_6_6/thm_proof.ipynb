{
 "cells": [
  {
   "cell_type": "markdown",
   "metadata": {},
   "source": [
    "Proof of <a class=\"ProveItLink\" href=\"../../../../../../_theory_nbs_/theory.ipynb\">proveit</a>.<a class=\"ProveItLink\" href=\"../../../../../_theory_nbs_/theory.ipynb\">numbers</a>.<a class=\"ProveItLink\" href=\"../../../../_theory_nbs_/theory.ipynb\">numerals</a>.<a class=\"ProveItLink\" href=\"../../theory.ipynb\">decimals</a>.<a class=\"ProveItLink\" href=\"../../theorems.ipynb#add_6_6\">add_6_6</a> theorem\n",
    "========"
   ]
  },
  {
   "cell_type": "code",
   "execution_count": 1,
   "metadata": {},
   "outputs": [],
   "source": [
    "import proveit\n",
    "theory = proveit.Theory() # the theorem's theory"
   ]
  },
  {
   "cell_type": "code",
   "execution_count": 2,
   "metadata": {},
   "outputs": [
    {
     "data": {
      "text/html": [
       "Under these <a href=\"presumptions.txt\">presumptions</a>, we begin our proof of<br><strong id=\"add_6_6\">add_6_6:</strong> <a class=\"ProveItLink\" href=\"../../../__pv_it/theorems/b84a7154b46ed73e81a83ec908f1f9c716d166e70/expr.ipynb\"><img src=\"data:image/png;base64,iVBORw0KGgoAAAANSUhEUgAAAGwAAAAUBAMAAACaOcVSAAAAMFBMVEX///9UVFTMzMx2dna6uroQ\n",
       "EBCqqqqIiIgiIiJmZmYyMjJERETu7u6YmJjc3NwAAAC+aOQFAAAAAXRSTlMAQObYZgAAAWVJREFU\n",
       "OMuVlLFLw0AUh38xWpI2qcXuKvgHKDgUXezoZgZHQRepo+DkohHROaVuLrW4GFDEzUHJ4mAU7NzF\n",
       "jk4i4hgbL5cj3iWXig8Sct/Ll3d5uRxQ7kIehT6GxBM5ajvTKRqRSbnweHpDzleAX9fbYooSP6ts\n",
       "ejAqWKrDdIBblK5j3GBpStTtlGRUpzzoHsYsaH2MDpIE02JiWJlqr8SxoQzwBpSstMbIuUwrBlA+\n",
       "sQuMd2onosbIgkwjoQW4A14uoW0IGiO96Fp1aTictjKHY3LTB/Q1UYvJVk61A2CVTMmG+UVGi657\n",
       "5LpnSMisXNMdqmltmN9CNUZyNNKOaJKKFVf71RhZ5t6tkmgFB+9RS0YC6JagMdKTVpsB9miTq3gQ\n",
       "O8lIK6PteygfzjdtOhG1NSF+N0Y6aau5ftEthmFoR4uLi4awBO38/8Z0+NEzP8gsZT7uczP+X7/p\n",
       "fx9IIndTMIdsCj9mnnWDrsOMZAAAAABJRU5ErkJggg==\n",
       "\" style=\"display:inline;vertical-align:middle;\" /></a><br>(see <a class=\"ProveItLink\" href=\"../../../__pv_it/theorems/9cf22403a0027513405875dc7e43343ade4e353f0/dependencies.ipynb\">dependencies</a>)<br>"
      ],
      "text/plain": [
       "add_6_6: (6 + 6) = 12"
      ]
     },
     "execution_count": 2,
     "metadata": {},
     "output_type": "execute_result"
    }
   ],
   "source": [
    "%proving add_6_6"
   ]
  },
  {
   "cell_type": "code",
   "execution_count": null,
   "metadata": {},
   "outputs": [],
   "source": []
  }
 ],
 "metadata": {
  "kernelspec": {
   "display_name": "Python 3",
   "language": "python",
   "name": "python3"
  }
 },
 "nbformat": 4,
 "nbformat_minor": 0
}