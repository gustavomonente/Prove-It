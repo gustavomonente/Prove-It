{
 "cells": [
  {
   "cell_type": "markdown",
   "metadata": {},
   "source": [
    "Proof of <a class=\"ProveItLink\" href=\"../../../../../../_theory_nbs_/theory.ipynb\">proveit</a>.<a class=\"ProveItLink\" href=\"../../../../../_theory_nbs_/theory.ipynb\">numbers</a>.<a class=\"ProveItLink\" href=\"../../../../_theory_nbs_/theory.ipynb\">numerals</a>.<a class=\"ProveItLink\" href=\"../../theory.ipynb\">decimals</a>.<a class=\"ProveItLink\" href=\"../../theorems.ipynb#mult_4_0\">mult_4_0</a> theorem\n",
    "========"
   ]
  },
  {
   "cell_type": "code",
   "execution_count": 1,
   "metadata": {},
   "outputs": [],
   "source": [
    "import proveit\n",
    "theory = proveit.Theory() # the theorem's theory"
   ]
  },
  {
   "cell_type": "code",
   "execution_count": 2,
   "metadata": {},
   "outputs": [
    {
     "data": {
      "text/html": [
       "Under these <a href=\"presumptions.txt\">presumptions</a>, we begin our proof of<br><strong id=\"mult_4_0\">mult_4_0:</strong> <a class=\"ProveItLink\" href=\"../../../__pv_it/theorems/bd7b86c55308367a50f74fae12174fe1523cadec0/expr.ipynb\"><img src=\"data:image/png;base64,iVBORw0KGgoAAAANSUhEUgAAAFcAAAAUBAMAAAAKKrydAAAAMFBMVEX///9UVFTMzMx2dna6uroQ\n",
       "EBCqqqqIiIgiIiJmZmYyMjJERETu7u6YmJjc3NwAAAC+aOQFAAAAAXRSTlMAQObYZgAAATVJREFU\n",
       "KM91kzFLw0AUx/9aqWm8K36BQlanZgvWxdFNFDeX9AvYOrrVxVGySbd01EFwlkpBRMFBQbpqRhdB\n",
       "EQcnvZcX7+zl8obwvx8/7t5xL0DzEaXaQ0Xd02fFrKOnAHNZSSMMnFM81NCPxTFEars5hkxUXNzS\n",
       "dAp01D62zNijE99Gml4AvQlubJnxK8XQyB/AZgx/3ZIZH6gkMy2Lb0X7qCWzboHHKt5Cy81PoN2H\n",
       "zG/YOaM6NfiIumBZEFVbtEPUB7M7F3gHqAcsP6T6vPl3ZxtKvgbL3jLfpBeX5AKrNrrD4dfJH70E\n",
       "XiZYGJieRwaPc8V+FJk6H2U1z7uaerHYBhqhJTPeoLj209JXifbVxPiBJTP2Mtco3rknVCYuGlXM\n",
       "85WDlUf0//BbtZRVyK7f6tmt/gIZallSH5sqKgAAAABJRU5ErkJggg==\n",
       "\" style=\"display:inline;vertical-align:middle;\" /></a><br>(see <a class=\"ProveItLink\" href=\"../../../__pv_it/theorems/7a8226d69ee1e4d394072aa9765d2eb6be0faf550/dependencies.ipynb\">dependencies</a>)<br>"
      ],
      "text/plain": [
       "mult_4_0: (4 * 0) = 0"
      ]
     },
     "execution_count": 2,
     "metadata": {},
     "output_type": "execute_result"
    }
   ],
   "source": [
    "%proving mult_4_0"
   ]
  },
  {
   "cell_type": "code",
   "execution_count": null,
   "metadata": {},
   "outputs": [],
   "source": []
  }
 ],
 "metadata": {
  "kernelspec": {
   "display_name": "Python 3",
   "language": "python",
   "name": "python3"
  }
 },
 "nbformat": 4,
 "nbformat_minor": 0
}