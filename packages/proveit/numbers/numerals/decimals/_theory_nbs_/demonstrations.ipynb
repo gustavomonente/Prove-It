{
 "cells": [
  {
   "cell_type": "markdown",
   "metadata": {},
   "source": [
    "Demonstrations for the theory of <a class=\"ProveItLink\" href=\"theory.ipynb\">proveit.numbers.numerals.decimals</a>\n",
    "========"
   ]
  },
  {
   "cell_type": "code",
   "execution_count": 1,
   "metadata": {},
   "outputs": [],
   "source": [
    "import proveit\n",
    "from proveit import ExprRange, ExprTuple, var_range, IndexedVar, defaults\n",
    "from proveit.logic import Forall, Equals, InSet, Set\n",
    "from proveit.numbers import zero, one, two, three, four, five, six, seven, eight, nine\n",
    "from proveit.numbers import (one, num, Add, Mult, Less, LesserSequence, \n",
    "                            Natural, NaturalPos, subtract)\n",
    "from proveit.numbers.numerals.decimals import DecimalSequence\n",
    "from proveit.core_expr_types import Len\n",
    "from proveit import A, a, b, c, d, e, f, g, h, i, j, k, m, n, x\n",
    "#from proveit.core_expr_types.expr_arrays import Aij\n",
    "from proveit.numbers.numerals.decimals import count_to_1_range, md_only_nine_add_one, md_nine_add_one, add_1_1, tuple_len_2, count_to_1_range\n",
    "from proveit.numbers.numerals.decimals import Digits\n",
    "from proveit.core_expr_types.tuples import tuple_len_incr, tuple_len_0, n_repeats_reduction\n",
    "\n",
    "%begin demonstrations"
   ]
  },
  {
   "cell_type": "code",
   "execution_count": 2,
   "metadata": {},
   "outputs": [
    {
     "data": {
      "text/html": [
       "<span style=\"font-size:20px;\"> <a class=\"ProveItLink\" href=\"proofs/digit1/thm_proof.ipynb\" style=\"text-decoration: none\">&nbsp;&#x22A2;&nbsp;&nbsp;</a><a class=\"ProveItLink\" href=\"../__pv_it/theorems/3df1cca99ad05f2a8aebb3ef0737f6373364d0ea0/expr.ipynb\"><img src=\"data:image/png;base64,iVBORw0KGgoAAAANSUhEUgAAAEcAAAAVBAMAAADm2O7QAAAAMFBMVEX///+6urrc3NzMzMwiIiJE\n",
       "REQyMjJmZmaIiIiYmJh2dnZUVFTu7u4QEBCqqqoAAABhZHJKAAAAAXRSTlMAQObYZgAAARxJREFU\n",
       "KM9jYCAA+KoWEFIRwDCboZ2AmgwGhosM+gfwqeHMZGBg+sTAL4BHDQdQDQPPZwb+B7jVMPqBqYsM\n",
       "9hMwJXnyQ3MYuO5f5FkKtuYpw3wgzXcHTRXrBGsGhvNA1UtB9jB32CswnF79B00RtzNHAwMviNUG\n",
       "VHWAQRTkB5iiqS4uCWBFogc2M7CAhaZNYIhgCEZSZNoDM0l5w7EDEEUMbxgkuhQQinhy4NYpvGDe\n",
       "wIIWZH+gUghFXAIzsCtiRThcgWEPtwkDXygQxKAqsk0DggSootMMuVhNUkU2iXmBLVZFvMiKGOax\n",
       "YlXE3gBXZMDAwKWKFtnQcPKDCbCBYqMMRQ373m+VYMbpQEjiYva/CiSP4UgbUiGQaMEEAL96RAF5\n",
       "xvhdAAAAAElFTkSuQmCC\n",
       "\" style=\"display:inline;vertical-align:middle;\" /></a></span>"
      ],
      "text/plain": [
       "|- 1 in Digits"
      ]
     },
     "execution_count": 2,
     "metadata": {},
     "output_type": "execute_result"
    }
   ],
   "source": [
    "InSet(one, Digits).prove()"
   ]
  },
  {
   "cell_type": "code",
   "execution_count": 3,
   "metadata": {},
   "outputs": [
    {
     "data": {
      "text/html": [
       "<span style=\"font-size:20px;\"> <a class=\"ProveItLink\" href=\"../__pv_it/demonstrations/ea1e06ce292f015161b1878bd07ae2e8779e8b6b0/proof.ipynb\" style=\"text-decoration: none\">&nbsp;&#x22A2;&nbsp;&nbsp;</a><a class=\"ProveItLink\" href=\"../__pv_it/demonstrations/882790174429721c895cf6ffc46d91fafdfe54a60/expr.ipynb\"><img src=\"data:image/png;base64,iVBORw0KGgoAAAANSUhEUgAAADwAAAAPBAMAAABKPLFCAAAAMFBMVEX///+6urpERETc3NwiIiLM\n",
       "zMwyMjJmZmaIiIiYmJh2dnZUVFTu7u4QEBCqqqoAAAD7YXnbAAAAAXRSTlMAQObYZgAAAP5JREFU\n",
       "GNNjYACDFbMCGJABT75SDgPX/YsMDHx3GBjYHvA4o0gzME2IZmA4z8BwevUfBoa5DAzLUKW5XTka\n",
       "GHiBDE6gtDYDw/sDYGFOFRc3sLTQga0MLFDp3wwM8g9AoqwaB6C6TTccOwCV5vkOlG4AiR47ADPc\n",
       "4AXrBqg08y8Ghniw9Ga43QZcAjNg0kDd8QtAogoIaYY93CFohrNeSwMCqPRphlyE096DnMaMrJt1\n",
       "QSxUWomBYT7YUReQpBnmMUGl4cFSAZcGBjKXEZDBAZRmecBzFSzK8gAqzQZilDEwsO/9VsnAs6Ib\n",
       "EiU8m2TANKv/JVAoMKADxkWQQIUCAHnyR2EPz4WTAAAAAElFTkSuQmCC\n",
       "\" style=\"display:inline;vertical-align:middle;\" /></a></span>"
      ],
      "text/plain": [
       "|- 10 in Natural"
      ]
     },
     "execution_count": 3,
     "metadata": {},
     "output_type": "execute_result"
    }
   ],
   "source": [
    "InSet(num(10), Natural).prove()"
   ]
  },
  {
   "cell_type": "code",
   "execution_count": 4,
   "metadata": {},
   "outputs": [
    {
     "data": {
      "text/html": [
       "<span style=\"font-size:20px;\"> <a class=\"ProveItLink\" href=\"proofs/deci_sequence_is_nat/thm_proof.ipynb\" style=\"text-decoration: none\">&nbsp;&#x22A2;&nbsp;&nbsp;</a><a class=\"ProveItLink\" href=\"../__pv_it/theorems/8cfc695f0e112a879cf989276e42ea27767037610/expr.ipynb\"><img src=\"data:image/png;base64,iVBORw0KGgoAAAANSUhEUgAAAX4AAAAZBAMAAADEcliZAAAAMFBMVEX///8QEBCIiIhmZma6urrM\n",
       "zMxUVFQiIiJERETc3Nzu7u6qqqp2dnaYmJgyMjIAAAAcRTyBAAAAAXRSTlMAQObYZgAABPxJREFU\n",
       "WMPtmG1oW1UYx/95uU1yb27aD75VGWStTtkLltUxX1pMEesHFdIJ7YaDhbIh9cMIThtFGaEIyzYq\n",
       "QSGW4TR12GrUNVQCFjrMTP1g10GwG84xIR8U3YS0E1+2KeLz3HNz8540neI+eCDn3PvknnN/ed7O\n",
       "cwLUb88EwrghmzXwykoe8+OGbZH/+VfUHOmCm6MNTZ2pJY8gw8O3dfhdPKjp1fO/r/VBTFAvBxua\n",
       "2lQSfMevvBbFycseTR7BKZZdqsPvjNPgiq6e/yJ3cgazvE5j2UDOlAhGJR/kZSGPYIytG6zDrz0w\n",
       "tnp8tYN7JYn7aFhscPLnpenQ2wa0CHlE06qm3pr+zwY6tXp+m6Zyi0cLpZcanDyuj+cCAc0Uuw81\n",
       "eXmhcY1fnY/F3qwbvxdisQ+uI4zFC2yazR2NruPyaMP29fr9UL98iZlYTvnnSihUaRdIFvE3h0IH\n",
       "kqvnbxeRxx4EM/vSG6m1NaPJ0bX59ty1U3M+2YjRIcXdz0wsJ/49wMEKK3QU8ZPF7I2F3Xv4qN1A\n",
       "HNX6aVi8gJ3SmLUVS4BUPex6wq5lI3gyxWloCHOq2y/kxP9IeYSX81s7SHuNtLcewMV8WniZtJXN\n",
       "3ppdyv4IGwXbeBr3Q+qs6knyGliMyYr2mB15/qboHr+QR9grzYWJXdo3h7W+Un76bFoR90CXx3wL\n",
       "8NQ8pzhDhTfp6/B2aSK3fTiK50gpVfkt12BzG0TaMn1ZahnBL/tcLUJOCzrTNmPeh6lufOqMWqKp\n",
       "zn2d8UL+0yvYheXZzrQSnMeD6CWNEP/VIn6HT9snmf82yL/W4jcFMeUt5h8r0D92Snl+R6bf8LTD\n",
       "R6I44e5wlvkP3qZNo147NxOD8pUFSXmEb7dYrxX4D9jMHGjkP/KfUJZr8U8l8RltFGfbmEI8Zirk\n",
       "V+NBIWeDHtxNgu5t7RwK1BKJ1yvw2yOkNnnzXm/Zu46t+16vZnmK8vQOdxJSF4WummgpiF9ndmn/\n",
       "D7+T/1P8yn+gKTNTiz+OvUr4zBq0GvFrMfyJEg6+DBrxi084lnvSprCohRLOj3eW8ytbqZv07opS\n",
       "8BQ7zQuSrmatSFK882cpSTpSYaxXjLhKie+1X8hpbwRf+5J5fvkvZs7oF6wttzrsdLzrBy9tSeZt\n",
       "yO0nlmWEnPmb6ZcduRvNUVljTiCZKufHz/TpxACkk8X8lg5Jxzgm+J1avpY3YGM+4h/jbpY3YGH2\n",
       "ibYdg54C/Q+zX/n0C549eFfkTjS5rWxBl7D5xKvixQOXg6IoYjnzqywfRA+kF0OhEeI/ygHtLeE/\n",
       "T587sI7eU8xvipv1yBgIhUJuxetI+yvXD1sgEoVRP1jrpAST15IkjEn99okDgaJEP1lY/9+MLgk+\n",
       "oX/rtsr1v3wVo7FS/qmw/Xx08cQF2mGE/vGoW15YWJgrq9/8eg5ZLE7s1ds7sD3uLa/fCuu6HL9j\n",
       "Gc8n8AVfnqFqp8r5pVX6Jc38Y1HHoVxnCu96EtNBUq2TTaZ6oFYoNCjxUAITDpXbyB1bf3PX5O+F\n",
       "+TQq7665ujrHb/VhYxp2SvnW/R6hyQr8vRvaNf6+uNSKvjB3cevgdDeVF9vp68Ps6d8BvornFzWO\n",
       "Z8WLGzu/VKtb7OHy8+M9oZG650f2n3y9Hdcry00Ummby/3/+/PhNLXnj51/p3oegGCrRryYwex2H\n",
       "y3/7/B4o/f9HrXD13/z/M/w3pINkmCi18H8AAAAASUVORK5CYII=\n",
       "\" style=\"display:inline;vertical-align:middle;\" /></a></span>"
      ],
      "text/plain": [
       "|- forall_{n in NaturalPos} [forall_{a_{1}, ..a_{_a}.., a_{n} in Digits} (\\# (a_{1} ~ ..a_{_a}.. ~ a_{n}) in Natural)]"
      ]
     },
     "execution_count": 4,
     "metadata": {},
     "output_type": "execute_result"
    }
   ],
   "source": [
    "from proveit.numbers.numerals.decimals import deci_sequence_is_nat\n",
    "deci_sequence_is_nat"
   ]
  },
  {
   "cell_type": "code",
   "execution_count": 5,
   "metadata": {},
   "outputs": [
    {
     "data": {
      "text/html": [
       "<span style=\"font-size:20px;\"> <a class=\"ProveItLink\" href=\"../__pv_it/demonstrations/ea1e06ce292f015161b1878bd07ae2e8779e8b6b0/proof.ipynb\" style=\"text-decoration: none\">&nbsp;&#x22A2;&nbsp;&nbsp;</a><a class=\"ProveItLink\" href=\"../__pv_it/demonstrations/882790174429721c895cf6ffc46d91fafdfe54a60/expr.ipynb\"><img src=\"data:image/png;base64,iVBORw0KGgoAAAANSUhEUgAAADwAAAAPBAMAAABKPLFCAAAAMFBMVEX///+6urpERETc3NwiIiLM\n",
       "zMwyMjJmZmaIiIiYmJh2dnZUVFTu7u4QEBCqqqoAAAD7YXnbAAAAAXRSTlMAQObYZgAAAP5JREFU\n",
       "GNNjYACDFbMCGJABT75SDgPX/YsMDHx3GBjYHvA4o0gzME2IZmA4z8BwevUfBoa5DAzLUKW5XTka\n",
       "GHiBDE6gtDYDw/sDYGFOFRc3sLTQga0MLFDp3wwM8g9AoqwaB6C6TTccOwCV5vkOlG4AiR47ADPc\n",
       "4AXrBqg08y8Ghniw9Ga43QZcAjNg0kDd8QtAogoIaYY93CFohrNeSwMCqPRphlyE096DnMaMrJt1\n",
       "QSxUWomBYT7YUReQpBnmMUGl4cFSAZcGBjKXEZDBAZRmecBzFSzK8gAqzQZilDEwsO/9VsnAs6Ib\n",
       "EiU8m2TANKv/JVAoMKADxkWQQIUCAHnyR2EPz4WTAAAAAElFTkSuQmCC\n",
       "\" style=\"display:inline;vertical-align:middle;\" /></a></span>"
      ],
      "text/plain": [
       "|- 10 in Natural"
      ]
     },
     "execution_count": 5,
     "metadata": {},
     "output_type": "execute_result"
    }
   ],
   "source": [
    "deci_sequence_is_nat.instantiate({n: two, a:num(10).digits})"
   ]
  },
  {
   "cell_type": "code",
   "execution_count": 6,
   "metadata": {},
   "outputs": [
    {
     "data": {
      "text/html": [
       "<strong id=\"test\">test:</strong> <a class=\"ProveItLink\" href=\"../__pv_it/demonstrations/cb7b432f8fafd4a095119c6233763710271cdf9f0/expr.ipynb\"><img src=\"data:image/png;base64,iVBORw0KGgoAAAANSUhEUgAAACkAAAAUBAMAAADiqgm2AAAAMFBMVEX////MzMxUVFR2dna6uroQ\n",
       "EBCqqqqIiIgiIiJmZmYyMjJERETu7u6YmJjc3NwAAACgK8IjAAAAAXRSTlMAQObYZgAAAORJREFU\n",
       "GNNjYOC7wIAK8kDEaSQBPmPrBAamB0DWOiBOPQARfcnA9peBZwEDA+8EBh5lfahofQLDDwYGcwYG\n",
       "DpD6+1BRVweGXwwMRxkYXjAgiTKATGDgcmCoRBU9YcDAwDyBYS+K6ONOIIt3AUMbqlr2EKApDQwh\n",
       "qKIMoQcYGD+gir5jYNifABJFMeH/AZAoSwOqbdEMDP0HQLZZgv10gIEH6HyGu2D3choweAA5k+JX\n",
       "XmDoAKpnmTnbAegLAYiPwb5C+AQcOhDADHccMHQY9kHZx2GCoJCEhzo8SrhBZmLE0D0GBgAeB0eO\n",
       "YOaIJwAAAABJRU5ErkJggg==\n",
       "\" style=\"display:inline;vertical-align:middle;\" /></a><br>"
      ],
      "text/plain": [
       "test: (1, 3)"
      ]
     },
     "execution_count": 6,
     "metadata": {},
     "output_type": "execute_result"
    }
   ],
   "source": [
    "test = DecimalSequence(one, three).operands"
   ]
  },
  {
   "cell_type": "code",
   "execution_count": 7,
   "metadata": {},
   "outputs": [
    {
     "data": {
      "text/html": [
       "<span style=\"font-size:20px;\"> <a class=\"ProveItLink\" href=\"../__pv_it/demonstrations/e4a2ae7a66a03a55c795d241488a800610d4c00a0/proof.ipynb\" style=\"text-decoration: none\">&nbsp;&#x22A2;&nbsp;&nbsp;</a><a class=\"ProveItLink\" href=\"../__pv_it/demonstrations/e30d1aa4be7dc039ea8a80bb90767661140cb7ea0/expr.ipynb\"><img src=\"data:image/png;base64,iVBORw0KGgoAAAANSUhEUgAAAIoAAAAUBAMAAACgxbhkAAAAMFBMVEX////MzMxUVFR2dna6uroQ\n",
       "EBCqqqqIiIgiIiJmZmYyMjJERETu7u6YmJjc3NwAAACgK8IjAAAAAXRSTlMAQObYZgAAAZFJREFU\n",
       "OMullL9Lw0AUx7+0prY1Pwb/AAvuKnRRFx11skMnEZwEN7s4uNhgwTnUSXRQcbAZxIK4KVmtS2YX\n",
       "Cy5OgkunYM176bVpciEFD/K9y737fPPuLneA7iKt5LqpQ94G9Wf5CXi9aMvGLMhRRlhw7z97DnQL\n",
       "B65awtp6ZKgfQyfuIBAWaBbU+UUH0z0YZsGBUhnMosYVx5CtRTxGCAvyNOcPB1NVGFeKiczvmAvH\n",
       "oFZiuQiEBV9iJPzMih4yPxIX3MpcGAnkaNilNqiZ92QuK3IXRkieRZe+fEnNrSWZyzs3V20qLYwh\n",
       "LKej9A5pe04gc9lPmBEjvlRHXcoOULColbXtu23bLg1jcwkuhJAIF72LmR6CZYrnInVhJODEjAyP\n",
       "3nIWvmUuG6F1uUEYCTixusoDbc8scJy8upFcGAk43sO6A82l37lRbpoRlzq5nMVcBMLCuTZ3Wy42\n",
       "zx9R7Pf7EReO4TpqMkQCySec+lz46KhmysWgWfJ+1Qm9xE5jrLwgvXQmvqX+96UJbkwt7cb8A0Yg\n",
       "s9dVBVxqAAAAAElFTkSuQmCC\n",
       "\" style=\"display:inline;vertical-align:middle;\" /></a></span>"
      ],
      "text/plain": [
       "|- (132 + 1) = 133"
      ]
     },
     "execution_count": 7,
     "metadata": {},
     "output_type": "execute_result"
    }
   ],
   "source": [
    "md_nine_add_one.instantiate({m: two, k: zero, a: test, b:two})"
   ]
  },
  {
   "cell_type": "code",
   "execution_count": 8,
   "metadata": {},
   "outputs": [
    {
     "data": {
      "text/html": [
       "<span style=\"font-size:20px;\"> <a class=\"ProveItLink\" href=\"../__pv_it/demonstrations/e3ee10725a7e2f02eca2f57d04942bb0026a5b340/proof.ipynb\" style=\"text-decoration: none\">&nbsp;&#x22A2;&nbsp;&nbsp;</a><a class=\"ProveItLink\" href=\"../__pv_it/demonstrations/e37d8d24cec41c4bdbfadbd0a39f757fbbac3f870/expr.ipynb\"><img src=\"data:image/png;base64,iVBORw0KGgoAAAANSUhEUgAAAHYAAAAUBAMAAACqtdRzAAAAMFBMVEX////MzMxUVFR2dna6uroQ\n",
       "EBCqqqqIiIgiIiJmZmYyMjJERETu7u6YmJjc3NwAAACgK8IjAAAAAXRSTlMAQObYZgAAAWRJREFU\n",
       "OMtjYOC7wIAHsD3AJ3saSp+cvRGbtB52XY+NtwHJdUCceoCBR4HB3gFNAVCY4RSmPqAw3wSG/AsM\n",
       "vBMYeJT1DzBwHmBgDYC6swBMgYUZmAvQdIKF2b8x8DcwcIA8dB+osYGB6R+KXrAwA08Ahr1AYZYQ\n",
       "Bv4FDC+gPK4/DEwfsehlWIJNLxAA3VyJ4HH8wabXErtenmYGhr0Ivf4G2PTeAjOtVoHASrgwn8Uc\n",
       "BoY2hN4mBmx6M3C4udSBIQTO45wAYjKvWrUiatUqBbiwPA69rDFIeisZsNqLVS/fAwbubwg3s01g\n",
       "eIdNrweSfxfBhPn/gPTCw0qYgaEOd1ih2cu6ARQr4CioB7qi2XhSA5reepDeyRh6gcK8F0DxC3LS\n",
       "pPiVF7j+//+PphckzMCwEF0rWNhz5hYGSJpEy3fISZinAXcW5J2AIcRzAImDkReQwT4GvOAUMXmf\n",
       "HKPxlzm8eMocAPp2jQeWBXYIAAAAAElFTkSuQmCC\n",
       "\" style=\"display:inline;vertical-align:middle;\" /></a></span>"
      ],
      "text/plain": [
       "|- (12 + 1) = 13"
      ]
     },
     "execution_count": 8,
     "metadata": {},
     "output_type": "execute_result"
    }
   ],
   "source": [
    "md_nine_add_one.instantiate({m: one, k: zero, ExprTuple(ExprRange(i, IndexedVar(a, i), one, one)): ExprTuple(one), b:two})"
   ]
  },
  {
   "cell_type": "code",
   "execution_count": 9,
   "metadata": {},
   "outputs": [],
   "source": [
    "# Fails due to some interesting python arithmetic that is not supported/proven by Prove-It\n",
    "#subtract(num(12), one).evaluation()"
   ]
  },
  {
   "cell_type": "code",
   "execution_count": 10,
   "metadata": {},
   "outputs": [],
   "source": [
    "from proveit.numbers.numerals.decimals import deci_sequence_reduction_ER, reduce_4_repeats"
   ]
  },
  {
   "cell_type": "code",
   "execution_count": 11,
   "metadata": {},
   "outputs": [
    {
     "data": {
      "text/html": [
       "<span style=\"font-size:20px;\"> <a class=\"ProveItLink\" href=\"proofs/deci_sequence_reduction_ER/thm_proof.ipynb\" style=\"text-decoration: none\">&nbsp;&#x22A2;&nbsp;&nbsp;</a><a class=\"ProveItLink\" href=\"../__pv_it/theorems/72e351f3b0d2ac657a2a6ca0f75e73c750ab1be60/expr.ipynb\"><img src=\"data:image/png;base64,iVBORw0KGgoAAAANSUhEUgAABSAAAAAaBAMAAABV4u9OAAAAMFBMVEX///8QEBCIiIhmZma6urrM\n",
       "zMxUVFQiIiJERETc3Nzu7u6qqqp2dnaYmJgyMjIAAAAcRTyBAAAAAXRSTlMAQObYZgAAC9xJREFU\n",
       "eNrtW3tsFMcZ/+5u9953dmmahpd0HI9Q8ejJtEkJphyKAlGrkLMjBSJS3clt2kIDsgqFhiBy8T8x\n",
       "RIhVqQyNkrAByaTOw1dSQqlwudqUqI6pTji0hOByaQhpWgWsAGkwefSbmd292bu9fUAhRfan29fs\n",
       "7PeY+c033ze7B+CEfrRWghEaoWtFwtr1zh5oHmmzEbqm1DYCSLsUKHAXz9wYOofMJrT/Jxv2KxsC\n",
       "skgOA7YBGSWHSGEYAvJ5us9CO+6DWefPBx+/yuHMMRAfT5jXXfJldlxmdPPKbXBMqh7VSDXEK7EN\n",
       "Afk6uf6XbUCGc3iIysMQkO9TUBThAGmAKwmlowln9ZMmDGpyFg9fZoeXjYB9FTY4pssW9xVDUCe6\n",
       "ISC3k9koaxuQtOr2YYjHCEVDKA/fwEP/lXCwBFEZbhImDO61cAnCEDuGYwbz+FXY4DhLGbKooBrS\n",
       "rWxt1NuFc7YBSZ3p68MQkD7qUDxJGkc/ciUcrEBkOAKqMHjN4uGwMrsHayvvXY0NTilsFaaohjyn\n",
       "bG0Q6e3o2OYgqTnZ0fHr4ZjbsDby0YklcEUN8Jqz6gcTJgzesRsenDYYWldhw/88TFENiSbZhln2\n",
       "x62t6x0Asqa19Yn8MATkRCUmwwkP3KSZt/ZMMHV5gfq6MbqCM/E53Fx2+FfxOnry9rS/SIG5h6VF\n",
       "4/oPY7K49eQyCMW7ITJv1Rxo7JppwCBQP9k8NNvanVbnvJ7Kuw5sqKzQHU+ZPqC7z+lRpYk0Q8IJ\n",
       "tiEgHwLY6ACQ3hT4h+Pq+Ga63wMebHA/AkcYDedMH5gvRQd1MeFncmep4cL+FmCXrjmdhYWyMAa+\n",
       "lAyuAmEdzJf3SZ4M+BIkEfYZMJgv+U1DM1Rtiwqjv1NhZykp3sqBDRUVtuX8RdN5hL/P61GliTRD\n",
       "IkW2ISDvZOlNOblHGQNSSBimbteegqlg9x26kiseFyI/Sm3WfJT261fPnjv7T/DhuH+uAN/C+1XT\n",
       "weB48OhuhoagppRiLPUVYQd1JlFs1HEAo+AMTtNJVx5csd+kMBlAQCJK3ZUMCGfssSVVlUbVvg0w\n",
       "gQrbVx7UObFBqcDRevDmTCSz+3o9zJuoqAAt1My2NhJSuA2XFVcrx8X1SffNJUDiNsNWfnXWHjg8\n",
       "Fw0K51XOC4EeKSpt5xdEwrZl6GhREULciop5+FGqeZPSAORVggtL58nwUxBnVY3EPAgpXYqLbd9Z\n",
       "EiZ3JuEUi54yIJ4fGFhBwqnORHruwF8L0NhziQASHmuRKhkQznm47/aqSqNqGIT5qOppI69i1wZW\n",
       "QW8UmEn2DFXoYdFEeQVo4iDbULVwwWcIX8I7eGBWIZTthTs4QB6x+b6mx6bjGzQo7OR81KpDMAH7\n",
       "rF7G0hpWxsbcMrsy9Jgjkcps7cpr4WZn6wAZyNB3CKQzb4EgDiWhalu4stCZKovv7+UiqoMAK9Xy\n",
       "0GUlvq/JHiRVXt4oMkC+eO58JQPCGRVYWFVnVO0CtqFsDEgHNigVdEaBmWRXtlIP8yZKMqDxgAwU\n",
       "7zf0cITP8f0dEDrq0bqUlD0rZmzB4N/2ABkyihf+oBxf6JkLvwvLHllYQWFaI5UAKebtytBLiGKn\n",
       "tmtXD1o8285N2UDmEhJv43QX/ARCg2atjc7soH4VsUBchkY4mX0apPrkQfxQASR6SOJVnwDxkuxL\n",
       "uAMynEpWMFA4V4WFohq7v5CLIVm/ObBBqaAzyhSQnfnKp62aiN0ne4FN2bDxBxhPzm2c6J5CRjQ5\n",
       "Y46kMSOQMDi09IEYD0h/W9IWDC7ZXKlKVPeukSefkqErlgjD86SfPCllJY4CErMrezLC+rU4AurS\n",
       "W4qHrNYtpFJSEz57bsN7/8H4CxOC4GXwFvebtXYOVoak/mPxRJzJqElizFSicRgThhVAwgaAnSyG\n",
       "xNAyGMOevHRXNOMRYuAthVMqA8bZBJBMtR5xiprU6GJIBzawCiVskDEBORNA0vvEZk4PqyYiQNMl\n",
       "NfAKPhGZX3Atd5MhRM5IJ0Tf+s4QfXEdSvUe4wEZIiFEsG5lZZi3a8q73FT74RSCnnA8VomQUlmw\n",
       "bmblwsCuuOL57iS7vXt/gR13Xy+evtXATdk+TQZw4+jZ07OCdd2B907eJsOu6THhyFx49ZNeiJ/U\n",
       "RKbjy7moudlCRa0mHSNRoGOUDKIW+FsmX2rt4GekhYvKCRm3sciaMLwxHm6Wp7DgoOBPKDXxF7gA\n",
       "4eIxageWpnMYFb0tBTHkugwe+RYIXzzhKXowqfFLrD7HgHEuwUKT2qlMBUy1D35LJu36yiFmbYOe\n",
       "UwkbgMn/rpSJZHofbR7N6aGx1zjrm4gADZ/Ms40AkqRuT92KA5AU0DPSyzU4rncxQIY1L0Z5k/ll\n",
       "dyotg1ef0wd/JnIxrXsdXelaLdbC8vJ0SdR8VlU+JI9kc+3e8EtkXn16NrjlLg6Q2zQZwI0j4aan\n",
       "owVvLp1yF+ED+Ik7Fk2iNCEf0EB3qzwRQhn4cStSgSwPm6oYUuMT2gsHyGsONre0xx9oSnLDfw3B\n",
       "VkY5IVY0TW6bFNjZDBcUUATrjmg115AHAyvIWBS2fIyT5/eny3Dm6BRk3l7XC211vTML8MM/C0dm\n",
       "HFLqcwwoZw6QmlSfoitT7SPqMd6tAKQdG3ScStgA6BuImUkm94nNQ5weGvsSZ76JKNBwmKTYRgAZ\n",
       "IXhogga6EkDO5pNDw9QcLMY+i4VSgUIzD8gTuM2CxSD+UQ8kT0LkvDPCH/HkyULqwTFlyRWWqeez\n",
       "UKwBn1oIJdS3uXshT73Tzpy7u8AB8m5VBiV1HGFgnJZDGYzlLyCsX4XGmTHkFjj/e01GC05jghp8\n",
       "44m5ilpN+urwm8q64CO6SNuEvET6o/aCl3fAES20WNoa9STp80r9HNvAYcOWZG9MqC1PRkyIAA09\n",
       "k7Jp30N+BabCDpGd1ZPjVLFW8jIPCXfFeEASGgs4D/n0QHLl3Fy640qi/8YyPF1XllxxtlXl48FK\n",
       "4s9bW1sQkM+ULwNQkCxQZaitRscR9v+pgaN5BOT4yKcD08ObKCTg7s+59ZvbQFRxLGQsVNRq0lfL\n",
       "zcp3Jf12W9uVcmcDg6kvAJDubEPA8OMKxzZw2LAl2ZXy5FP2AUmAxn9coawFDGKPHg/DdhnPVu8N\n",
       "bIIWsTkWpllOEiL5MkAGL8HmjnIgdUr+E3J/V//SP9H4Via9StPist4mZf1dJ835+H6JDZZhHlJo\n",
       "hBf7+vqSekAuUWWorUbHEaIvzVY7LpBVhBrJP0msjYhSSGuWIRwFiMOVJO8siFkLFQUN8Ziaihll\n",
       "DVZ7VxWyaO0d6C8i2bwthK1xBsh95rf9scVuo8/PnNugYsOu5B3g+y4HSCv2BGj852eap3gf2nqh\n",
       "IYdn0wviWLxsSgHx+gtPK8jgPeRo8UKBAAkBvEnduaT0PbCn6ModALzyycdxH01CgvQ2X4+U7cmi\n",
       "18Or0eJFIz7fA9ebLwFQZL8BcNLIQ+4mrvW49iQZRwyQmD8W0hLGkJsh0pnyxYODSzEAyKoC1kWy\n",
       "pRGGU5qpiqWa5APdSE4JNtWPWwO3fxQzbe0FmKYHHpbtAGzB58uc4HHrY00WywPeyUYvhZ3boGLD\n",
       "ruQF4D7CwdmKPQUaGR1+CQz+wqB4nJDi9zGGLHt1qAidNpECqSEnjoYGiexyQtOeueBN7SZf22H5\n",
       "w3ncB+qOyqS3+XqkzJtCB4ewr8pnEcmZ/aiNsCEJXiNA4lNMBn2SjiMs3X5egr7pkB7AuDPcnY80\n",
       "fe0fcDgR6p4uMQFj4f4+YGE9pXVgqiJX80b8C0PkRvkLw5vKVgFI9U8Y+42f03tfMtXmyqDsg1eg\n",
       "Oade5ZROr6jngxlJDfZGfOLRF0h8gTGkAVFAunO6IaSndNV1eGXpQ6VpYK5iFEboelI5ICPKsWAD\n",
       "kOLX53D/IlLO2mESNEnKFds3ns9V1GuHAwUV9oZ8ZkcOVdc6y+2N/8dUFZBMZFcp1AJzFbtGMPKF\n",
       "AtKC1pb/LzticFa6iljUK1jyMQPkPdXrB7ZU+zCUiuT+HSAUTFUIJkYwch1JWLvmhtQ7YeIb7ZBb\n",
       "LneZdmqO0PWg/wJ52R8TMTBtxgAAAABJRU5ErkJggg==\n",
       "\" style=\"display:inline;vertical-align:middle;\" /></a></span>"
      ],
      "text/plain": [
       "|- forall_{m, n, k in Natural} [forall_{a_{1}, ..a_{_a}.., a_{m}, b, c_{1}, ..c_{_a}.., c_{n}, d_{1}, ..d_{_a}.., d_{k} in Digits | (b, ..n repeats.., b) = (c_{1}, ..c_{_a}.., c_{n})} (\\# (a_{1} ~ ..a_{_a}.. ~ a_{m} ~ b ~ ..n repeats.. ~ b ~ d_{1} ~ ..d_{_a}.. ~ d_{k}) = \\# (a_{1} ~ ..a_{_a}.. ~ a_{m} ~ c_{1} ~ ..c_{_a}.. ~ c_{n} ~ d_{1} ~ ..d_{_a}.. ~ d_{k}))]"
      ]
     },
     "execution_count": 11,
     "metadata": {},
     "output_type": "execute_result"
    }
   ],
   "source": [
    "deci_sequence_reduction_ER"
   ]
  },
  {
   "cell_type": "code",
   "execution_count": 12,
   "metadata": {},
   "outputs": [
    {
     "data": {
      "text/html": [
       "<strong id=\"reduction\">reduction:</strong> <span style=\"font-size:20px;\"> <a class=\"ProveItLink\" href=\"../__pv_it/demonstrations/f89d3e2af25c45f633f561e323cd522c4c32a7fd0/proof.ipynb\" style=\"text-decoration: none\">&nbsp;&#x22A2;&nbsp;&nbsp;</a><a class=\"ProveItLink\" href=\"../__pv_it/demonstrations/a3f1fff92ae681b91f65ee0d47bbdb0b0078f9db0/expr.ipynb\"><img src=\"data:image/png;base64,iVBORw0KGgoAAAANSUhEUgAAAQ0AAAAUBAMAAABlknXcAAAAMFBMVEX////MzMxUVFR2dna6uroQ\n",
       "EBCqqqqIiIgiIiJmZmYyMjJERETu7u6YmJjc3NwAAACgK8IjAAAAAXRSTlMAQObYZgAAAyRJREFU\n",
       "SMetlk9IFFEcx7+7Mzu7O86a0MGjS9TBg7pUIIKmHYKoiwchLAtDAg9Z2yEkIZIOkhC0YCQewu0f\n",
       "VJR6yi7ZUERmh5YiAikbgqBuaiL4b+v9GeW9N283k4Zh97tv5/eZ7/u9P78HlObwny7LC7Ztin6G\n",
       "frwF3uyplv8IZf7VA0NUB9slukY5A7s9hGkHRuAcx3dXio4li7+1SW3giKngkyJdp17lStvgZIFE\n",
       "BuFmhOUEnC/uwwmkiyOMtNou0XVqF1AJ1JKue9iWhTErDep0cR+JgA+OcJrVdomuU8tAI8kK8AN4\n",
       "N4ZoXow27OI+zgZ8+Ii7artE1yhnBbjkwW7CBSBC3C2I0TPcx6EjHSP4+aHavNcwUEV+EwmruxaJ\n",
       "4f4bKO/qESJ8RJ3qQ6Lr1FGSjyYYGTwDTZG9Jg5/2s9H6+k18yoOuJEWTGbAZKcXTyKWgTOGmJhB\n",
       "jphm+iG7WM4kuk6RQRnNIZFFH/kxjo5FEQrfx33iPIUItWUtcHmqzFylPsw2RMWOc0Snmg+ZrlEl\n",
       "aauxHVYvWugG9Gn7nBB8ct3HbaDi5pf3OZv0f4lLlNflqQ9cG5d2LY6oUH3IdJ3qOtdYhtAse5Is\n",
       "pFVhWFLrPh6QKdlOvokPrHA5NRHiPl6OLilLd7WAD5GuUzUu9dHHtLhArMqh4Va2E9wh5DT3QfNB\n",
       "5VOE8m4sEy118VXezSjioDA/kuvjItJ1imTd7KUzKdGGCrk0RPhDxEcsy6ctmR9M/oKV328n42Ya\n",
       "YaF0+IhpNR8SXac+uiS/dJ6SpRZ95DyGs0zXdZbexMcYe6ifVJpFxF37BCZTXB6DMfc5no2TeVri\n",
       "kRh+cwQwoPqQ6DrV406R7sRTLJV7hkiKr7isrtDSYjyfp309/PsJ8GKwHnZV905w+W2wvieHHfvM\n",
       "hot7gcvsppEMgVuqD4muU0bddTpIZXTn9aeFW3D/tIuX341Ip1ezr6t0nZoUaoWBrfrYiNTWOZWu\n",
       "U6TOYcLXrwu/6C/HgI1ITd0P0jWK1n16UmFX4YOTWTPvFfORU18qn4MUukaVeJs9uW3qSmz1XDgD\n",
       "/AFFcTeuQ8/jXgAAAABJRU5ErkJggg==\n",
       "\" style=\"display:inline;vertical-align:middle;\" /></a></span><br>"
      ],
      "text/plain": [
       "reduction: |- (9, ..4 repeats.., 9) = (9, 9, 9, 9)"
      ]
     },
     "execution_count": 12,
     "metadata": {},
     "output_type": "execute_result"
    }
   ],
   "source": [
    "reduction = reduce_4_repeats.instantiate({x:nine})"
   ]
  },
  {
   "cell_type": "code",
   "execution_count": 13,
   "metadata": {},
   "outputs": [
    {
     "data": {
      "text/html": [
       "<span style=\"font-size:20px;\"> <a class=\"ProveItLink\" href=\"../__pv_it/demonstrations/9ba61dafa83ac2af708abaf051b3738a51e9b5380/proof.ipynb\" style=\"text-decoration: none\">&nbsp;&#x22A2;&nbsp;&nbsp;</a><a class=\"ProveItLink\" href=\"../__pv_it/demonstrations/79d44922404dfd4322e9cfcbe1486b64679fd43f0/expr.ipynb\"><img src=\"data:image/png;base64,iVBORw0KGgoAAAANSUhEUgAAAHYAAAAUBAMAAACqtdRzAAAAMFBMVEX////MzMxUVFR2dna6uroQ\n",
       "EBCqqqqIiIgiIiJmZmYyMjJERETu7u6YmJjc3NwAAACgK8IjAAAAAXRSTlMAQObYZgAAASJJREFU\n",
       "OMtjYOC7wIAHsD3AJ3uaAS/Qwy58cvZGILkOiFMPwAgUABI5hakPKMyjwGDvwMA7gYFHWf8AhIC6\n",
       "swBMQUSYC9B0goU5DzCwBjBwgDx0/wCMQNILEeEJwLAXKMzawMD0j+EFA369DEuw6eX6w8D0kaGS\n",
       "kF5LbHqBgOMPw15Cem+BmVarQGAlkl5/A4Y2QnozcNjbxMAQgqaXedWqFVGrVinAheWx6+WcgKkX\n",
       "w14cekHhRNDNHkj+XQQXZpvA8I7YsEK3V5iBoQ4SBfUHYASKXrDIZAy9QGG+ZuNJDWAnTYpfeQFC\n",
       "oOiFiCxE1woS5vr//38DJE2i5TvkJMzTgDuPAfMCOuBBzlAYeQEZ7MOff09RkPfxGo2/zOHFU+YA\n",
       "AHFajiItFsnMAAAAAElFTkSuQmCC\n",
       "\" style=\"display:inline;vertical-align:middle;\" /></a></span>"
      ],
      "text/plain": [
       "|- (11 + 1) = 12"
      ]
     },
     "execution_count": 13,
     "metadata": {},
     "output_type": "execute_result"
    }
   ],
   "source": [
    "Add(num(11), one)._integerBinaryEval()"
   ]
  },
  {
   "cell_type": "code",
   "execution_count": 14,
   "metadata": {},
   "outputs": [],
   "source": [
    "# uses subtraction that doesn't work correctly yet\n",
    "# DecimalSequence(ExprRange(i, nine, one, num(12))).reduce_exprRange(assumptions=[InSet(nine, Set(zero, one, two, three, \n",
    "#                                                                                                 four, five, six, \n",
    "#                                                                     seven, eight, nine)), InSet(num(12), NaturalPos),\n",
    "#                                                                                InSet(num(10), Natural), InSet(one, Set(zero, \n",
    "#                                                                                                                         one, two, three, \n",
    "#                                                                                                 four, five, six, \n",
    "#                                                                     seven, eight, nine))]).proof()"
   ]
  },
  {
   "cell_type": "code",
   "execution_count": 15,
   "metadata": {},
   "outputs": [
    {
     "data": {
      "text/html": [
       "<table><tr><th>&nbsp;</th><th>step type</th><th>requirements</th><th>statement</th></tr>\n",
       "<tr><td><a name=\"0x7d42d2a280289c96_step0\">0</a></td><td>instantiation</td><td><a href=\"#0x7d42d2a280289c96_step1\">1</a>, <a href=\"#0x7d42d2a280289c96_step2\">2</a>, <a href=\"#0x7d42d2a280289c96_step3\">3</a>, <a href=\"#0x7d42d2a280289c96_step4\">4</a>, <a href=\"#0x7d42d2a280289c96_step5\">5</a>, <a href=\"#0x7d42d2a280289c96_step6\">6</a>, <a href=\"#0x7d42d2a280289c96_step7\">7</a></td><td><span style=\"font-size:20px;\"> <a class=\"ProveItLink\" href=\"../__pv_it/demonstrations/214cfc8eae766254a7eaef1ba0ee9bce754609b80/proof.ipynb\" style=\"text-decoration: none\">&nbsp;&#x22A2;&nbsp;&nbsp;</a><a class=\"ProveItLink\" href=\"../__pv_it/demonstrations/e9f77a6157acbdb48e84c3a3348bae0a6a5cbedf0/expr.ipynb\"><img src=\"data:image/png;base64,iVBORw0KGgoAAAANSUhEUgAAAPEAAAAUBAMAAACubMYLAAAAMFBMVEX///+YmJjc3NwQEBDMzMyI\n",
       "iIgiIiK6urpmZmZ2dnaqqqoyMjJUVFTu7u5EREQAAACNSvXSAAAAAXRSTlMAQObYZgAAAxpJREFU\n",
       "SMetVl1IFFEU/vZ3xtkdXQuhomgiiB4MioiQUvZFKAhcoaAyaB9NDRcKCephhEQToi2QFDW1IBCC\n",
       "3fJFWMPVXnwIGoiiMHQT7DXbrExRO3f2b+a6rGN42P3u7jfnznfPveecGSBrdh+2x55a9iyGHKdh\n",
       "BvjUM2m+dGaLovK9PgVeJS/NAbNpSGEaXkE+hoOaaUpTYaEQT7z32SshR/PSHDAbhki3sKnwHoVX\n",
       "Nc5wnS4cocozb4ApoCsvzQGzdrgJ3QpKoihaMM44MFZQ2bZBeQUYoBDz0hwwC9J+A4eA2QRcSeOM\n",
       "cGHlCK8srwFXFXhCeegjZmAHTccyTMNFwEEx/zHGpOjKwsjlXsXe2qfcrtjVRwVwePckpAtdsD2o\n",
       "70T1UJ1hximKJoQifkU6zQHRUgB3afgKttWeH4YJH5CK2dE562vRhEocD8n1EK7jhvZcEeNwq5AT\n",
       "+lFljDZx3AebnmK9MWajWZoDuj7SGFuJJdBAHvMYXjZudlrZEwQqgBPsbyTkCMMReOYXVpkyLcdl\n",
       "LNCANDAIKcjXLaM5YKkFOyvnkyz8srOLOX/Jn1GOw7lUWjoBCmBWrWkt3etDdXeSKaN53lS9Q+cH\n",
       "/HAu8Bmh0xwA5bD50sqAdzXn/hkZZRWSvhekXJKIsOVOzzlTyp/Hl8wi77Q8yjq9AWpRzJbdkAkv\n",
       "ay86On626WQYzl9pZYo5QL++wZnU3KrLrmG/OZNpsUIwd85jOZqD3tjvWHMjnTNlmK0SNebOl+ok\n",
       "pIzGdMJFQu4o5MBfSMmbnrgoBOA19PudGm1FOsPA0RyQRXGLDd3Usl7LL1MFuMI+ZFX6X7arNYO4\n",
       "jxFFvgbnMkStCkWL+8SoSBlWrGTdUadN0zrEMKes0xyA9ex2drWFvj0doWy/Zi37yfoEq+fva4OQ\n",
       "py5pGCu7Qg5f2vpR3tZf58PbR8LD2sdZd6rLbnYvj59T1mkOaIF+6MfiVjZ/FI1ae2J9tOZGRZXI\n",
       "34T/W7nLmts5uFIpMre5b5O1h3TUmvIeeFPP5JlNXe+sT1p601CwNdu2t6Edlrz+AStlI/jhmYEh\n",
       "AAAAAElFTkSuQmCC\n",
       "\" style=\"display:inline;vertical-align:middle;\" /></a></span></td></tr>\n",
       "<tr><td>&nbsp;</td><td colspan=4 style=\"text-align:left\"><span style=\"font-size:20px;\"><a class=\"ProveItLink\" href=\"../../../../__pv_it/common/674a03b9c3ca221b3aabd5636837b31528ff33830/expr.ipynb\"><img src=\"data:image/png;base64,iVBORw0KGgoAAAANSUhEUgAAABIAAAAJBAMAAADN8WE8AAAAMFBMVEX///9mZmaYmJgyMjIiIiIQ\n",
       "EBCqqqru7u5ERETMzMyIiIjc3NxUVFR2dna6uroAAAAPJcEmAAAAAXRSTlMAQObYZgAAAGNJREFU\n",
       "CNdj4Luze9UpzlvnGBh4OboY6tcxpDIwTGMxYNh/gUGfgaGg/gFDfgHDCQYGhnwGBhEGhiggS5iB\n",
       "wZeB7zc7A0MsA/s/BkaDbQzc/xjYPjAwX7jAwOfAwCXAwCa0AQBn+hZiKtaxkQAAAABJRU5ErkJg\n",
       "gg==\n",
       "\" style=\"display:inline;vertical-align:middle;\" /></a> : <a class=\"ProveItLink\" href=\"../../__pv_it/common/7d0a36793ffe8d307a5c120ee5598162e8cd2db10/expr.ipynb\"><img src=\"data:image/png;base64,iVBORw0KGgoAAAANSUhEUgAAAAoAAAAOBAMAAADkjZCYAAAAMFBMVEX///9mZma6urpUVFREREQQ\n",
       "EBDc3NwiIiLu7u6qqqoyMjLMzMyYmJiIiIh2dnYAAADXmt2vAAAAAXRSTlMAQObYZgAAAFFJREFU\n",
       "CNdjYOC785qBgWElQ3sCA08AA98CBhYDBs4fDPwGDEw/GfoFGJj+MuQ/YOAGkgIM3P+gIkBZzp8M\n",
       "LA4MPD+guhgqGVo3MDD03bVmAABi3RThwIkdoQAAAABJRU5ErkJggg==\n",
       "\" style=\"display:inline;vertical-align:middle;\" /></a>, <a class=\"ProveItLink\" href=\"../../../../__pv_it/common/8968bb04eb3f7dfa02353397ce929b025bbd79c20/expr.ipynb\"><img src=\"data:image/png;base64,iVBORw0KGgoAAAANSUhEUgAAAAwAAAAJBAMAAAD0ltBnAAAAMFBMVEX///8QEBCYmJgyMjIiIiKq\n",
       "qqrMzMzu7u5ERERmZmaIiIjc3NxUVFR2dna6uroAAABXsXCEAAAAAXRSTlMAQObYZgAAAEdJREFU\n",
       "CNdj4Luze9UsBgZeji6G+g0MqSwGDPsTGArqHzDoMzAwxDMwHAZSkxkYPrEzMMgysH7nZeD+x8Br\n",
       "oMbA58DAfSgAABUwDxmEwURaAAAAAElFTkSuQmCC\n",
       "\" style=\"display:inline;vertical-align:middle;\" /></a> : <a class=\"ProveItLink\" href=\"../../__pv_it/common/705198ce7fd3ec620275e02d9e1fa1bcf7f141270/expr.ipynb\"><img src=\"data:image/png;base64,iVBORw0KGgoAAAANSUhEUgAAAAoAAAAPBAMAAAAv0UM9AAAALVBMVEX///9ERESqqqru7u52dnYy\n",
       "MjKYmJjc3NwQEBCIiIhUVFQiIiJmZmbMzMwAAABMnJPBAAAAAXRSTlMAQObYZgAAAEBJREFUCNdj\n",
       "YGBguMMAArtABGcXiCyLApEOIJKtAERaMoBIBxDJdAFEmjCASK0zZ16cBCkF62JoBBGO75aBOQwA\n",
       "Ls8NnulhIDAAAAAASUVORK5CYII=\n",
       "\" style=\"display:inline;vertical-align:middle;\" /></a>, <a class=\"ProveItLink\" href=\"../../../../__pv_it/common/63b7c64bf9ec7a04ecc396c7a1670f3f12fb59490/expr.ipynb\"><img src=\"data:image/png;base64,iVBORw0KGgoAAAANSUhEUgAAAAoAAAAOBAMAAADkjZCYAAAAMFBMVEX////MzMxUVFSIiIjc3NyY\n",
       "mJh2dna6urqqqqpmZmYyMjIiIiIQEBBERETu7u4AAAA59f8xAAAAAXRSTlMAQObYZgAAAE9JREFU\n",
       "CNdj4LuzgQEIuCaASP4GEFn/AERmgwiGlQytUxj4fjC7f2Xg+GfHF8DAeRIkzK18GUi+L/AvYGCI\n",
       "Z3jfkMCgy8AvkMBwg4F58gMA1VoTUDpQu/EAAAAASUVORK5CYII=\n",
       "\" style=\"display:inline;vertical-align:middle;\" /></a> : <a class=\"ProveItLink\" href=\"../../__pv_it/common/7d0a36793ffe8d307a5c120ee5598162e8cd2db10/expr.ipynb\"><img src=\"data:image/png;base64,iVBORw0KGgoAAAANSUhEUgAAAAoAAAAOBAMAAADkjZCYAAAAMFBMVEX///9mZma6urpUVFREREQQ\n",
       "EBDc3NwiIiLu7u6qqqoyMjLMzMyYmJiIiIh2dnYAAADXmt2vAAAAAXRSTlMAQObYZgAAAFFJREFU\n",
       "CNdjYOC785qBgWElQ3sCA08AA98CBhYDBs4fDPwGDEw/GfoFGJj+MuQ/YOAGkgIM3P+gIkBZzp8M\n",
       "LA4MPD+guhgqGVo3MDD03bVmAABi3RThwIkdoQAAAABJRU5ErkJggg==\n",
       "\" style=\"display:inline;vertical-align:middle;\" /></a>, <a class=\"ProveItLink\" href=\"../../../../__pv_it/common/c06c606ec12678c58933ac85412ecadc2ae28be60/expr.ipynb\"><img src=\"data:image/png;base64,iVBORw0KGgoAAAANSUhEUgAAAAsAAAAJBAMAAAAWSsseAAAAMFBMVEX///9UVFSqqqrMzMwiIiJE\n",
       "RESYmJgyMjK6urru7u4QEBCIiIh2dnZmZmbc3NwAAABRgo0vAAAAAXRSTlMAQObYZgAAAEdJREFU\n",
       "CNdjYOC7c3slAwND1wP2DwwMnMsYeAMYGHh/MrBsYGDgCmCYb8DAMP8Agz5QxXwFBnGmBwysG9gc\n",
       "eYAqpTc/3MEAAP4BD32xAXDqAAAAAElFTkSuQmCC\n",
       "\" style=\"display:inline;vertical-align:middle;\" /></a> : <a class=\"ProveItLink\" href=\"../../../../core_expr_types/tuples/__pv_it/axioms/4bb7d36ca64d107000d79d4921539d4617258ebf0/expr.ipynb\"><img src=\"data:image/png;base64,iVBORw0KGgoAAAANSUhEUgAAAAwAAAAUBAMAAABL3sEiAAAAMFBMVEX////MzMxUVFR2dna6uroQ\n",
       "EBCqqqqIiIgiIiJmZmYyMjJERETu7u6YmJjc3NwAAACgK8IjAAAAAXRSTlMAQObYZgAAAGNJREFU\n",
       "CNdjYOC7wPaAgYHhNAODHpBax8BwioGBdwIDA3MBAwdQgieA4QVQnGEJQyWIsmTYC6JuMbSBqAyG\n",
       "EBAlD6PAgh4wJZYgajKQDwQLIYY1wIxm2Ae2CGQtkAV0BO8DBgBfVhetSSF8+gAAAABJRU5ErkJg\n",
       "gg==\n",
       "\" style=\"display:inline;vertical-align:middle;\" /></a>, <a class=\"ProveItLink\" href=\"../../../../__pv_it/common/195236b98c6c564a75b5dbada74b173bc52d5c3e0/expr.ipynb\"><img src=\"data:image/png;base64,iVBORw0KGgoAAAANSUhEUgAAAAkAAAAOBAMAAAAPuiubAAAALVBMVEX///+YmJjc3NyIiIhUVFR2\n",
       "dna6urqqqqpmZmYyMjIiIiIQEBBERETu7u4AAAALjtrwAAAAAXRSTlMAQObYZgAAAE9JREFUCNdj\n",
       "4D29gAEIOBtAJF8BiMy7ACKjQATDFON2BgbelxfuKTCwv2XgM2DgmMBwLwCkPK+AgU+Aoe8CA18C\n",
       "70YGBhYBHqARvM2BDAwAqXgQspq5HJAAAAAASUVORK5CYII=\n",
       "\" style=\"display:inline;vertical-align:middle;\" /></a> : <a class=\"ProveItLink\" href=\"../../__pv_it/common/b7ca2b03651013759f042f9b6ee93402bd97837b0/expr.ipynb\"><img src=\"data:image/png;base64,iVBORw0KGgoAAAANSUhEUgAAAAoAAAAOBAMAAADkjZCYAAAALVBMVEX////MzMyqqqq6urqIiIhE\n",
       "REQyMjKYmJgQEBDc3NxUVFR2dnZmZmbu7u4AAABDhPggAAAAAXRSTlMAQObYZgAAAFVJREFUCNdj\n",
       "YLizeyUDA287w4wLDFwNDFwHGPgSGLgfMNwLYGB5ycABZD8GcdmeMzCEMGg/YmBgKpF+yAAEXG9B\n",
       "JNsCBvZeBrkJDCy5vOlA/u4zBgwArBUUgWOHdRMAAAAASUVORK5CYII=\n",
       "\" style=\"display:inline;vertical-align:middle;\" /></a>, <a class=\"ProveItLink\" href=\"../../../../__pv_it/common/ceef4280a2f1cc604b455b54e735507244cc62cd0/expr.ipynb\"><img src=\"data:image/png;base64,iVBORw0KGgoAAAANSUhEUgAAAAkAAAAJBAMAAAASvxsjAAAALVBMVEX///+YmJgQEBDu7u5mZmZU\n",
       "VFQyMjJERESqqqoiIiLc3NzMzMyIiIh2dnYAAABuqkWTAAAAAXRSTlMAQObYZgAAADZJREFUCNdj\n",
       "YGC4c2YDA8PKBvYEBoa5DKwNDCyPGYCAqQBE2l0AkXwCDAxA8QAGE6DKu4IHGABBiAr2Gi8OxgAA\n",
       "AABJRU5ErkJggg==\n",
       "\" style=\"display:inline;vertical-align:middle;\" /></a> : <a class=\"ProveItLink\" href=\"../__pv_it/demonstrations/df4f7695144560224053a6db80937b925999a1b10/expr.ipynb\"><img src=\"data:image/png;base64,iVBORw0KGgoAAAANSUhEUgAAAFEAAAAUBAMAAAAHNMzaAAAAMFBMVEX////MzMxUVFR2dna6uroQ\n",
       "EBCqqqqIiIgiIiJmZmYyMjJERETu7u6YmJjc3NwAAACgK8IjAAAAAXRSTlMAQObYZgAAAVhJREFU\n",
       "KM+N061Pw0AYBvBnLXTQXccS/gAwCAwsTJCpTiIRKDISEiyQIcEwtSAQTcDgGjRfDjVSs/AlVkNw\n",
       "pIYEORKC4Cu8vWvfOwcnmt/75HLfBcox/m6b6eceuK3NZAlLHMwlhqy0OINYwXOkUlYvLjehJULA\n",
       "C2AtwgpkqjUFTMPQPDCSYCyEPZCp1gfgw1APeAH6Fyj+yJQlPoHdxJDbwDYwTCO9yZ5ayzRSw5Ad\n",
       "oIt0Qvdbplo04XlsyAvRoeISa+9qUaxSy/FXDTltLFHhPI6/qp5aG1t+xVBhIHvS8Xzlt6E1Gxmi\n",
       "nh1pdzJPtY5haKid7shrYkJdndZDVFAHl4l2VAeKJ+IUgk7Y0E50F6Mf5sJoFQtU1I7o6PYiU3b9\n",
       "kO5vH5ngVtLbzLbNG9Ba56XeyBeims2pVpVFLwRXma85ZYkWK1QvWTb99FkeR6V0jf/6O56AX1xb\n",
       "d3UOvWLPAAAAAElFTkSuQmCC\n",
       "\" style=\"display:inline;vertical-align:middle;\" /></a>, <a class=\"ProveItLink\" href=\"../../../../__pv_it/common/4f5c524ffda87296de1c79b96880123fe2efedd50/expr.ipynb\"><img src=\"data:image/png;base64,iVBORw0KGgoAAAANSUhEUgAAAAsAAAAOBAMAAAALT/umAAAAMFBMVEX///9UVFSYmJiIiIjc3Nwy\n",
       "MjIiIiJ2dnbu7u66urqqqqpmZmYQEBBERETMzMwAAAAYOWz6AAAAAXRSTlMAQObYZgAAAFpJREFU\n",
       "CNdjYGBg4LuzgQEE+BeAqfkNYKoMTDJEAzHLdrtfQGqOA+8PBgaOQwzcAQwM3D8Y2AoYGHguMPRP\n",
       "YGDoL2BYD1TRv4BBlMuBgdeAKZEdqFLYztGSAQAyzhFdhFkSwwAAAABJRU5ErkJggg==\n",
       "\" style=\"display:inline;vertical-align:middle;\" /></a> : <a class=\"ProveItLink\" href=\"../../../../core_expr_types/tuples/__pv_it/axioms/4bb7d36ca64d107000d79d4921539d4617258ebf0/expr.ipynb\"><img src=\"data:image/png;base64,iVBORw0KGgoAAAANSUhEUgAAAAwAAAAUBAMAAABL3sEiAAAAMFBMVEX////MzMxUVFR2dna6uroQ\n",
       "EBCqqqqIiIgiIiJmZmYyMjJERETu7u6YmJjc3NwAAACgK8IjAAAAAXRSTlMAQObYZgAAAGNJREFU\n",
       "CNdjYOC7wPaAgYHhNAODHpBax8BwioGBdwIDA3MBAwdQgieA4QVQnGEJQyWIsmTYC6JuMbSBqAyG\n",
       "EBAlD6PAgh4wJZYgajKQDwQLIYY1wIxm2Ae2CGQtkAV0BO8DBgBfVhetSSF8+gAAAABJRU5ErkJg\n",
       "gg==\n",
       "\" style=\"display:inline;vertical-align:middle;\" /></a></span></td></tr><tr><td><a name=\"0x7d42d2a280289c96_step1\">1</a></td><td>conjecture</td><td></td><td><span style=\"font-size:20px;\"> <a class=\"ProveItLink\" href=\"proofs/deci_sequence_reduction_ER/thm_proof.ipynb\" style=\"text-decoration: none\">&nbsp;&#x22A2;&nbsp;&nbsp;</a><a class=\"ProveItLink\" href=\"../__pv_it/theorems/72e351f3b0d2ac657a2a6ca0f75e73c750ab1be60/expr.ipynb\"><img src=\"data:image/png;base64,iVBORw0KGgoAAAANSUhEUgAABSAAAAAaBAMAAABV4u9OAAAAMFBMVEX///8QEBCIiIhmZma6urrM\n",
       "zMxUVFQiIiJERETc3Nzu7u6qqqp2dnaYmJgyMjIAAAAcRTyBAAAAAXRSTlMAQObYZgAAC9xJREFU\n",
       "eNrtW3tsFMcZ/+5u9953dmmahpd0HI9Q8ejJtEkJphyKAlGrkLMjBSJS3clt2kIDsgqFhiBy8T8x\n",
       "RIhVqQyNkrAByaTOw1dSQqlwudqUqI6pTji0hOByaQhpWgWsAGkwefSbmd292bu9fUAhRfan29fs\n",
       "7PeY+c033ze7B+CEfrRWghEaoWtFwtr1zh5oHmmzEbqm1DYCSLsUKHAXz9wYOofMJrT/Jxv2KxsC\n",
       "skgOA7YBGSWHSGEYAvJ5us9CO+6DWefPBx+/yuHMMRAfT5jXXfJldlxmdPPKbXBMqh7VSDXEK7EN\n",
       "Afk6uf6XbUCGc3iIysMQkO9TUBThAGmAKwmlowln9ZMmDGpyFg9fZoeXjYB9FTY4pssW9xVDUCe6\n",
       "ISC3k9koaxuQtOr2YYjHCEVDKA/fwEP/lXCwBFEZbhImDO61cAnCEDuGYwbz+FXY4DhLGbKooBrS\n",
       "rWxt1NuFc7YBSZ3p68MQkD7qUDxJGkc/ciUcrEBkOAKqMHjN4uGwMrsHayvvXY0NTilsFaaohjyn\n",
       "bG0Q6e3o2OYgqTnZ0fHr4ZjbsDby0YklcEUN8Jqz6gcTJgzesRsenDYYWldhw/88TFENiSbZhln2\n",
       "x62t6x0Asqa19Yn8MATkRCUmwwkP3KSZt/ZMMHV5gfq6MbqCM/E53Fx2+FfxOnry9rS/SIG5h6VF\n",
       "4/oPY7K49eQyCMW7ITJv1Rxo7JppwCBQP9k8NNvanVbnvJ7Kuw5sqKzQHU+ZPqC7z+lRpYk0Q8IJ\n",
       "tiEgHwLY6ACQ3hT4h+Pq+Ga63wMebHA/AkcYDedMH5gvRQd1MeFncmep4cL+FmCXrjmdhYWyMAa+\n",
       "lAyuAmEdzJf3SZ4M+BIkEfYZMJgv+U1DM1Rtiwqjv1NhZykp3sqBDRUVtuX8RdN5hL/P61GliTRD\n",
       "IkW2ISDvZOlNOblHGQNSSBimbteegqlg9x26kiseFyI/Sm3WfJT261fPnjv7T/DhuH+uAN/C+1XT\n",
       "weB48OhuhoagppRiLPUVYQd1JlFs1HEAo+AMTtNJVx5csd+kMBlAQCJK3ZUMCGfssSVVlUbVvg0w\n",
       "gQrbVx7UObFBqcDRevDmTCSz+3o9zJuoqAAt1My2NhJSuA2XFVcrx8X1SffNJUDiNsNWfnXWHjg8\n",
       "Fw0K51XOC4EeKSpt5xdEwrZl6GhREULciop5+FGqeZPSAORVggtL58nwUxBnVY3EPAgpXYqLbd9Z\n",
       "EiZ3JuEUi54yIJ4fGFhBwqnORHruwF8L0NhziQASHmuRKhkQznm47/aqSqNqGIT5qOppI69i1wZW\n",
       "QW8UmEn2DFXoYdFEeQVo4iDbULVwwWcIX8I7eGBWIZTthTs4QB6x+b6mx6bjGzQo7OR81KpDMAH7\n",
       "rF7G0hpWxsbcMrsy9Jgjkcps7cpr4WZn6wAZyNB3CKQzb4EgDiWhalu4stCZKovv7+UiqoMAK9Xy\n",
       "0GUlvq/JHiRVXt4oMkC+eO58JQPCGRVYWFVnVO0CtqFsDEgHNigVdEaBmWRXtlIP8yZKMqDxgAwU\n",
       "7zf0cITP8f0dEDrq0bqUlD0rZmzB4N/2ABkyihf+oBxf6JkLvwvLHllYQWFaI5UAKebtytBLiGKn\n",
       "tmtXD1o8285N2UDmEhJv43QX/ARCg2atjc7soH4VsUBchkY4mX0apPrkQfxQASR6SOJVnwDxkuxL\n",
       "uAMynEpWMFA4V4WFohq7v5CLIVm/ObBBqaAzyhSQnfnKp62aiN0ne4FN2bDxBxhPzm2c6J5CRjQ5\n",
       "Y46kMSOQMDi09IEYD0h/W9IWDC7ZXKlKVPeukSefkqErlgjD86SfPCllJY4CErMrezLC+rU4AurS\n",
       "W4qHrNYtpFJSEz57bsN7/8H4CxOC4GXwFvebtXYOVoak/mPxRJzJqElizFSicRgThhVAwgaAnSyG\n",
       "xNAyGMOevHRXNOMRYuAthVMqA8bZBJBMtR5xiprU6GJIBzawCiVskDEBORNA0vvEZk4PqyYiQNMl\n",
       "NfAKPhGZX3Atd5MhRM5IJ0Tf+s4QfXEdSvUe4wEZIiFEsG5lZZi3a8q73FT74RSCnnA8VomQUlmw\n",
       "bmblwsCuuOL57iS7vXt/gR13Xy+evtXATdk+TQZw4+jZ07OCdd2B907eJsOu6THhyFx49ZNeiJ/U\n",
       "RKbjy7moudlCRa0mHSNRoGOUDKIW+FsmX2rt4GekhYvKCRm3sciaMLwxHm6Wp7DgoOBPKDXxF7gA\n",
       "4eIxageWpnMYFb0tBTHkugwe+RYIXzzhKXowqfFLrD7HgHEuwUKT2qlMBUy1D35LJu36yiFmbYOe\n",
       "UwkbgMn/rpSJZHofbR7N6aGx1zjrm4gADZ/Ms40AkqRuT92KA5AU0DPSyzU4rncxQIY1L0Z5k/ll\n",
       "dyotg1ef0wd/JnIxrXsdXelaLdbC8vJ0SdR8VlU+JI9kc+3e8EtkXn16NrjlLg6Q2zQZwI0j4aan\n",
       "owVvLp1yF+ED+Ik7Fk2iNCEf0EB3qzwRQhn4cStSgSwPm6oYUuMT2gsHyGsONre0xx9oSnLDfw3B\n",
       "VkY5IVY0TW6bFNjZDBcUUATrjmg115AHAyvIWBS2fIyT5/eny3Dm6BRk3l7XC211vTML8MM/C0dm\n",
       "HFLqcwwoZw6QmlSfoitT7SPqMd6tAKQdG3ScStgA6BuImUkm94nNQ5weGvsSZ76JKNBwmKTYRgAZ\n",
       "IXhogga6EkDO5pNDw9QcLMY+i4VSgUIzD8gTuM2CxSD+UQ8kT0LkvDPCH/HkyULqwTFlyRWWqeez\n",
       "UKwBn1oIJdS3uXshT73Tzpy7u8AB8m5VBiV1HGFgnJZDGYzlLyCsX4XGmTHkFjj/e01GC05jghp8\n",
       "44m5ilpN+urwm8q64CO6SNuEvET6o/aCl3fAES20WNoa9STp80r9HNvAYcOWZG9MqC1PRkyIAA09\n",
       "k7Jp30N+BabCDpGd1ZPjVLFW8jIPCXfFeEASGgs4D/n0QHLl3Fy640qi/8YyPF1XllxxtlXl48FK\n",
       "4s9bW1sQkM+ULwNQkCxQZaitRscR9v+pgaN5BOT4yKcD08ObKCTg7s+59ZvbQFRxLGQsVNRq0lfL\n",
       "zcp3Jf12W9uVcmcDg6kvAJDubEPA8OMKxzZw2LAl2ZXy5FP2AUmAxn9coawFDGKPHg/DdhnPVu8N\n",
       "bIIWsTkWpllOEiL5MkAGL8HmjnIgdUr+E3J/V//SP9H4Via9StPist4mZf1dJ835+H6JDZZhHlJo\n",
       "hBf7+vqSekAuUWWorUbHEaIvzVY7LpBVhBrJP0msjYhSSGuWIRwFiMOVJO8siFkLFQUN8Ziaihll\n",
       "DVZ7VxWyaO0d6C8i2bwthK1xBsh95rf9scVuo8/PnNugYsOu5B3g+y4HSCv2BGj852eap3gf2nqh\n",
       "IYdn0wviWLxsSgHx+gtPK8jgPeRo8UKBAAkBvEnduaT0PbCn6ModALzyycdxH01CgvQ2X4+U7cmi\n",
       "18Or0eJFIz7fA9ebLwFQZL8BcNLIQ+4mrvW49iQZRwyQmD8W0hLGkJsh0pnyxYODSzEAyKoC1kWy\n",
       "pRGGU5qpiqWa5APdSE4JNtWPWwO3fxQzbe0FmKYHHpbtAGzB58uc4HHrY00WywPeyUYvhZ3boGLD\n",
       "ruQF4D7CwdmKPQUaGR1+CQz+wqB4nJDi9zGGLHt1qAidNpECqSEnjoYGiexyQtOeueBN7SZf22H5\n",
       "w3ncB+qOyqS3+XqkzJtCB4ewr8pnEcmZ/aiNsCEJXiNA4lNMBn2SjiMs3X5egr7pkB7AuDPcnY80\n",
       "fe0fcDgR6p4uMQFj4f4+YGE9pXVgqiJX80b8C0PkRvkLw5vKVgFI9U8Y+42f03tfMtXmyqDsg1eg\n",
       "Oade5ZROr6jngxlJDfZGfOLRF0h8gTGkAVFAunO6IaSndNV1eGXpQ6VpYK5iFEboelI5ICPKsWAD\n",
       "kOLX53D/IlLO2mESNEnKFds3ns9V1GuHAwUV9oZ8ZkcOVdc6y+2N/8dUFZBMZFcp1AJzFbtGMPKF\n",
       "AtKC1pb/LzticFa6iljUK1jyMQPkPdXrB7ZU+zCUiuT+HSAUTFUIJkYwch1JWLvmhtQ7YeIb7ZBb\n",
       "LneZdmqO0PWg/wJ52R8TMTBtxgAAAABJRU5ErkJggg==\n",
       "\" style=\"display:inline;vertical-align:middle;\" /></a></span></td></tr>\n",
       "<tr><td>&nbsp;</td><td colspan=4 style-\"text-align:left\"><a class=\"ProveItLink\" href=\"proofs/deci_sequence_reduction_ER/thm_proof.ipynb\">proveit.numbers.numerals.decimals.deci_sequence_reduction_ER</a></td></tr><tr><td><a name=\"0x7d42d2a280289c96_step2\">2</a></td><td>axiom</td><td></td><td><span style=\"font-size:20px;\"> <a class=\"ProveItLink\" href=\"../../../number_sets/natural_numbers/_theory_nbs_/axioms.ipynb#zero_in_nats\" style=\"text-decoration: none\">&nbsp;&#x22A2;&nbsp;&nbsp;</a><a class=\"ProveItLink\" href=\"../../../number_sets/natural_numbers/__pv_it/axioms/41585b68a7dd1d513f84c532999561d9671aca5e0/expr.ipynb\"><img src=\"data:image/png;base64,iVBORw0KGgoAAAANSUhEUgAAADMAAAAPBAMAAAC7N+rPAAAAMFBMVEX///9mZma6urpUVFREREQQ\n",
       "EBDc3NwiIiLu7u6qqqoyMjLMzMyYmJiIiIh2dnYAAADXmt2vAAAAAXRSTlMAQObYZgAAAONJREFU\n",
       "GNNjYOC785oBBXR98WpgePpVgYFhJUN7AqqcD7cBA8cHBgaeAAa+BahS5hvuMjAEMDCwGDBw/gCL\n",
       "8LiXV4EZRh7MGxgKGBj4DRiYfoIEuH0boLrMNnOsAEn1CzAw/QXbDpNhMOO8sBkklf+AgRssZQa3\n",
       "y4zhEc8FkJQAA/c/kIADkhRzgzWSgdxRq4AAKsVhwBUAdgYnyBlsyLoY9nGDHO/AwAN2fACyFM8E\n",
       "ByQvy8KlrIH4GciQSobWDSAB9gkwqZVAzAhS3nfXGizAYaIBkdn+FaiDAyXwmJ5AAwoKAGQvOOyD\n",
       "fUpGAAAAAElFTkSuQmCC\n",
       "\" style=\"display:inline;vertical-align:middle;\" /></a></span></td></tr>\n",
       "<tr><td>&nbsp;</td><td colspan=4 style-\"text-align:left\"><a class=\"ProveItLink\" href=\"../../../number_sets/natural_numbers/_theory_nbs_/axioms.ipynb#zero_in_nats\">proveit.numbers.number_sets.natural_numbers.zero_in_nats</a></td></tr><tr><td><a name=\"0x7d42d2a280289c96_step3\">3</a></td><td>conjecture</td><td></td><td><span style=\"font-size:20px;\"> <a class=\"ProveItLink\" href=\"proofs/nat4/thm_proof.ipynb\" style=\"text-decoration: none\">&nbsp;&#x22A2;&nbsp;&nbsp;</a><a class=\"ProveItLink\" href=\"../__pv_it/theorems/84d0cf4a88d6b70bcc7424c52a5dea62ce875b990/expr.ipynb\"><img src=\"data:image/png;base64,iVBORw0KGgoAAAANSUhEUgAAADMAAAAPBAMAAAC7N+rPAAAAMFBMVEX///+6urpERESqqqru7u52\n",
       "dnYyMjKYmJjc3NwQEBCIiIhUVFQiIiJmZmbMzMwAAABIfTqqAAAAAXRSTlMAQObYZgAAANRJREFU\n",
       "GNNjYGBgeMuAAtw+qTkwRP4UALFPo0oxqPNtYGD5AGJxzUaT2vNgFQPDBBCrPRsiwq5z5hiYsVGF\n",
       "+wHDARArACLFp+UA1bXjNUsKWIq9ASLlBpNh2MG84DVYyosBIrUDbtcOhkD2BSCpAKiUApIUt8M+\n",
       "oBTzA4gU37Q0IIBKsWxgA7rQlQEixYGsi+EpH1DK+u7dn7dAAhOQpdgNICohXr4Fl9oHxBEQqUlg\n",
       "kscAJpUMxLwJIFbQ/+0gimWTCETmzU+gDpYE5KBjDIIGFBQAANe6OGiF045OAAAAAElFTkSuQmCC\n",
       "\" style=\"display:inline;vertical-align:middle;\" /></a></span></td></tr>\n",
       "<tr><td>&nbsp;</td><td colspan=4 style-\"text-align:left\"><a class=\"ProveItLink\" href=\"proofs/nat4/thm_proof.ipynb\">proveit.numbers.numerals.decimals.nat4</a></td></tr><tr><td><a name=\"0x7d42d2a280289c96_step4\">4</a></td><td>conjecture</td><td></td><td><span style=\"font-size:20px;\"> <a class=\"ProveItLink\" href=\"../../../../core_expr_types/tuples/_theory_nbs_/proofs/tuple_len_0_typical_eq/thm_proof.ipynb\" style=\"text-decoration: none\">&nbsp;&#x22A2;&nbsp;&nbsp;</a><a class=\"ProveItLink\" href=\"../../../../core_expr_types/tuples/__pv_it/theorems/0e50a84fcd29aed2e6c3f826159fa446aca6ee610/expr.ipynb\"><img src=\"data:image/png;base64,iVBORw0KGgoAAAANSUhEUgAAAJkAAAAVBAMAAACnAFEqAAAAMFBMVEX///9UVFQQEBCqqqoiIiJm\n",
       "ZmYyMjJERESYmJjc3NyIiIi6urp2dnbu7u7MzMwAAAADGpxCAAAAAXRSTlMAQObYZgAAAatJREFU\n",
       "OMtjeMsAB0hMHAL4Ad8FhtNAirOBeQKQOo0uDRGYQdgcSzDJswGs4zoDgyRO03gL8Jt0qucBA+ME\n",
       "JNMyGRiu4TSNDaiSWRenYWwGvJ4MvAkI0zgCgKwFuExrZWC4ePAvTtOaGBiOAR2IMI0FaDuvAi7T\n",
       "PIGYA7dphQwM9hcYLiFMmwJiZuMwjdMBv2kfGRj2GzCwbYCbthQkehSHaVwBeE3j/Qo0bQEDTwDc\n",
       "tAqQcBvUNJ40MAiAmcbegNc0zj8MDO8XMHAkwE1zBgmb4HAbiwF+04Bue3+AgdkBbpo2SPg9DtOY\n",
       "NhDjU74PVDENFAv2BsimgX26BTXcBIj0KUM5A0P/BQZuB+yxgO42ArEATb1IsXAUJBqDwzRw3HMB\n",
       "TbsP0gAieL8hM1gMePUYGFgPwE3bAtKZh8M0kB9Yhb5FMLD4gvSCQsARxnC5ADTy1MIHwNz6ADVn\n",
       "OeDLWWBgi+FL5gsw1hUScj0EHMAwjQdRLCGVSJX4SiT2CdCUtQDDtFvwVJeAWlpWEiwtOTDjswHG\n",
       "YIeVluvAJTkHiLsOXfU6YkvyTjDJ9QAAefyjssLNpqIAAAAASUVORK5CYII=\n",
       "\" style=\"display:inline;vertical-align:middle;\" /></a></span></td></tr>\n",
       "<tr><td>&nbsp;</td><td colspan=4 style-\"text-align:left\"><a class=\"ProveItLink\" href=\"../../../../core_expr_types/tuples/_theory_nbs_/proofs/tuple_len_0_typical_eq/thm_proof.ipynb\">proveit.core_expr_types.tuples.tuple_len_0_typical_eq</a></td></tr><tr><td><a name=\"0x7d42d2a280289c96_step5\">5</a></td><td>instantiation</td><td><a href=\"#0x7d42d2a280289c96_step8\">8</a></td><td><span style=\"font-size:20px;\"> <a class=\"ProveItLink\" href=\"../__pv_it/demonstrations/6df42fc00d6c7c51f9ca1012073a9ca61dcb900f0/proof.ipynb\" style=\"text-decoration: none\">&nbsp;&#x22A2;&nbsp;&nbsp;</a><a class=\"ProveItLink\" href=\"../__pv_it/demonstrations/0b3c9ae62de3f517c41ec2b1eafabac9188ca7460/expr.ipynb\"><img src=\"data:image/png;base64,iVBORw0KGgoAAAANSUhEUgAAAOUAAAAVBAMAAABLdTQ8AAAAMFBMVEX///9UVFQQEBCqqqoiIiJm\n",
       "ZmYyMjJERESYmJjc3NyIiIi6urp2dnbu7u7MzMwAAAADGpxCAAAAAXRSTlMAQObYZgAAAmtJREFU\n",
       "SMedlj9rFEEYxp/LXvb21t3zCKRIZRrF5iCFhYLKCTYWwjUBwYBrI4KoabVxETyI1WJleVhYnlf4\n",
       "AS5FGhO4NWgKm9wHMCQiRIMozryz/2aGnVudYu5hnp3nx7w7O3M4wD+2g5kD5taKsU3idYWHrYh+\n",
       "ttXxygmXqPdGYoa/DnzeWRKWv7YZqYrMJQOTJ5iX10MtKjLtCP55vIrJ3Q2bHchKmHsGJkuA1TEw\n",
       "6234QZH5Aqgto9YjdwFYhKyE6Q3KmSzh4+ZvA/NNG/hQZN4ATgfwjsg9BiaQlTD95XImS4BjYDb7\n",
       "jLlbYDa7wP463BOq4w/gXSSrxHxQyuQJRqZnM6Y9ypkuK+ocW8ovss+x1Y1klZhbpUyeYGRucKbX\n",
       "y5mNELx29k+yWTkfh7JKzH7G9O5R66UDPMHE9Aec6QQ5s77Cuqe4/J38xsCarChKmBdK10kJBqYH\n",
       "zrS6OXOOF9B6+fWPeODicDJVlDAPS5mUYGBeJWbrSGGyLyKbcybWFDf/m+mPNWZdFJAPi3YXmuLm\n",
       "e/V9tivW1lpcvXN2gFNdeQ85HRyKg+553DqBrBKzX7rOWXuIVULZQ3wPuw/9+/DZKYC38V6I/aCo\n",
       "yATWSpn0FbiMSfN4R1GZYEx2IM+PcyateWeVvZPr7PV5W7dZsW6iqMjEo1ImT5hfOL4lnq7zml9L\n",
       "Bc+E9+xbCHsqn31J4bPNcwWa8rvms0+Zp2d+Us749DtK21hXM854dZ6eKZ3xjeSaxJf84NCV6S5L\n",
       "E/Kns5ZnBuqdTS1MfQe6elLhznb0HZtlNtI7e1j5v4kjljJUxysnbFDvTv8CYdn0Gkl+7A0AAAAA\n",
       "SUVORK5CYII=\n",
       "\" style=\"display:inline;vertical-align:middle;\" /></a></span></td></tr>\n",
       "<tr><td>&nbsp;</td><td colspan=4 style=\"text-align:left\"><span style=\"font-size:20px;\"><a class=\"ProveItLink\" href=\"../../../../__pv_it/common/c06c606ec12678c58933ac85412ecadc2ae28be60/expr.ipynb\"><img src=\"data:image/png;base64,iVBORw0KGgoAAAANSUhEUgAAAAsAAAAJBAMAAAAWSsseAAAAMFBMVEX///9UVFSqqqrMzMwiIiJE\n",
       "RESYmJgyMjK6urru7u4QEBCIiIh2dnZmZmbc3NwAAABRgo0vAAAAAXRSTlMAQObYZgAAAEdJREFU\n",
       "CNdjYOC7c3slAwND1wP2DwwMnMsYeAMYGHh/MrBsYGDgCmCYb8DAMP8Agz5QxXwFBnGmBwysG9gc\n",
       "eYAqpTc/3MEAAP4BD32xAXDqAAAAAElFTkSuQmCC\n",
       "\" style=\"display:inline;vertical-align:middle;\" /></a> : <a class=\"ProveItLink\" href=\"../../__pv_it/common/b7ca2b03651013759f042f9b6ee93402bd97837b0/expr.ipynb\"><img src=\"data:image/png;base64,iVBORw0KGgoAAAANSUhEUgAAAAoAAAAOBAMAAADkjZCYAAAALVBMVEX////MzMyqqqq6urqIiIhE\n",
       "REQyMjKYmJgQEBDc3NxUVFR2dnZmZmbu7u4AAABDhPggAAAAAXRSTlMAQObYZgAAAFVJREFUCNdj\n",
       "YLizeyUDA287w4wLDFwNDFwHGPgSGLgfMNwLYGB5ycABZD8GcdmeMzCEMGg/YmBgKpF+yAAEXG9B\n",
       "JNsCBvZeBrkJDCy5vOlA/u4zBgwArBUUgWOHdRMAAAAASUVORK5CYII=\n",
       "\" style=\"display:inline;vertical-align:middle;\" /></a>, <a class=\"ProveItLink\" href=\"../../../../__pv_it/common/195236b98c6c564a75b5dbada74b173bc52d5c3e0/expr.ipynb\"><img src=\"data:image/png;base64,iVBORw0KGgoAAAANSUhEUgAAAAkAAAAOBAMAAAAPuiubAAAALVBMVEX///+YmJjc3NyIiIhUVFR2\n",
       "dna6urqqqqpmZmYyMjIiIiIQEBBERETu7u4AAAALjtrwAAAAAXRSTlMAQObYZgAAAE9JREFUCNdj\n",
       "4D29gAEIOBtAJF8BiMy7ACKjQATDFON2BgbelxfuKTCwv2XgM2DgmMBwLwCkPK+AgU+Aoe8CA18C\n",
       "70YGBhYBHqARvM2BDAwAqXgQspq5HJAAAAAASUVORK5CYII=\n",
       "\" style=\"display:inline;vertical-align:middle;\" /></a> : <a class=\"ProveItLink\" href=\"../../__pv_it/common/b7ca2b03651013759f042f9b6ee93402bd97837b0/expr.ipynb\"><img src=\"data:image/png;base64,iVBORw0KGgoAAAANSUhEUgAAAAoAAAAOBAMAAADkjZCYAAAALVBMVEX////MzMyqqqq6urqIiIhE\n",
       "REQyMjKYmJgQEBDc3NxUVFR2dnZmZmbu7u4AAABDhPggAAAAAXRSTlMAQObYZgAAAFVJREFUCNdj\n",
       "YLizeyUDA287w4wLDFwNDFwHGPgSGLgfMNwLYGB5ycABZD8GcdmeMzCEMGg/YmBgKpF+yAAEXG9B\n",
       "JNsCBvZeBrkJDCy5vOlA/u4zBgwArBUUgWOHdRMAAAAASUVORK5CYII=\n",
       "\" style=\"display:inline;vertical-align:middle;\" /></a>, <a class=\"ProveItLink\" href=\"../../../../__pv_it/common/ceef4280a2f1cc604b455b54e735507244cc62cd0/expr.ipynb\"><img src=\"data:image/png;base64,iVBORw0KGgoAAAANSUhEUgAAAAkAAAAJBAMAAAASvxsjAAAALVBMVEX///+YmJgQEBDu7u5mZmZU\n",
       "VFQyMjJERESqqqoiIiLc3NzMzMyIiIh2dnYAAABuqkWTAAAAAXRSTlMAQObYZgAAADZJREFUCNdj\n",
       "YGC4c2YDA8PKBvYEBoa5DKwNDCyPGYCAqQBE2l0AkXwCDAxA8QAGE6DKu4IHGABBiAr2Gi8OxgAA\n",
       "AABJRU5ErkJggg==\n",
       "\" style=\"display:inline;vertical-align:middle;\" /></a> : <a class=\"ProveItLink\" href=\"../../__pv_it/common/b7ca2b03651013759f042f9b6ee93402bd97837b0/expr.ipynb\"><img src=\"data:image/png;base64,iVBORw0KGgoAAAANSUhEUgAAAAoAAAAOBAMAAADkjZCYAAAALVBMVEX////MzMyqqqq6urqIiIhE\n",
       "REQyMjKYmJgQEBDc3NxUVFR2dnZmZmbu7u4AAABDhPggAAAAAXRSTlMAQObYZgAAAFVJREFUCNdj\n",
       "YLizeyUDA287w4wLDFwNDFwHGPgSGLgfMNwLYGB5ycABZD8GcdmeMzCEMGg/YmBgKpF+yAAEXG9B\n",
       "JNsCBvZeBrkJDCy5vOlA/u4zBgwArBUUgWOHdRMAAAAASUVORK5CYII=\n",
       "\" style=\"display:inline;vertical-align:middle;\" /></a>, <a class=\"ProveItLink\" href=\"../../../../__pv_it/common/4f5c524ffda87296de1c79b96880123fe2efedd50/expr.ipynb\"><img src=\"data:image/png;base64,iVBORw0KGgoAAAANSUhEUgAAAAsAAAAOBAMAAAALT/umAAAAMFBMVEX///9UVFSYmJiIiIjc3Nwy\n",
       "MjIiIiJ2dnbu7u66urqqqqpmZmYQEBBERETMzMwAAAAYOWz6AAAAAXRSTlMAQObYZgAAAFpJREFU\n",
       "CNdjYGBg4LuzgQEE+BeAqfkNYKoMTDJEAzHLdrtfQGqOA+8PBgaOQwzcAQwM3D8Y2AoYGHguMPRP\n",
       "YGDoL2BYD1TRv4BBlMuBgdeAKZEdqFLYztGSAQAyzhFdhFkSwwAAAABJRU5ErkJggg==\n",
       "\" style=\"display:inline;vertical-align:middle;\" /></a> : <a class=\"ProveItLink\" href=\"../../__pv_it/common/b7ca2b03651013759f042f9b6ee93402bd97837b0/expr.ipynb\"><img src=\"data:image/png;base64,iVBORw0KGgoAAAANSUhEUgAAAAoAAAAOBAMAAADkjZCYAAAALVBMVEX////MzMyqqqq6urqIiIhE\n",
       "REQyMjKYmJgQEBDc3NxUVFR2dnZmZmbu7u4AAABDhPggAAAAAXRSTlMAQObYZgAAAFVJREFUCNdj\n",
       "YLizeyUDA287w4wLDFwNDFwHGPgSGLgfMNwLYGB5ycABZD8GcdmeMzCEMGg/YmBgKpF+yAAEXG9B\n",
       "JNsCBvZeBrkJDCy5vOlA/u4zBgwArBUUgWOHdRMAAAAASUVORK5CYII=\n",
       "\" style=\"display:inline;vertical-align:middle;\" /></a></span></td></tr><tr><td><a name=\"0x7d42d2a280289c96_step6\">6</a></td><td>conjecture</td><td></td><td><span style=\"font-size:20px;\"> <a class=\"ProveItLink\" href=\"proofs/digit9/thm_proof.ipynb\" style=\"text-decoration: none\">&nbsp;&#x22A2;&nbsp;&nbsp;</a><a class=\"ProveItLink\" href=\"../__pv_it/theorems/0536e57bd4b2a48caa45e1d509c01cc6685801260/expr.ipynb\"><img src=\"data:image/png;base64,iVBORw0KGgoAAAANSUhEUgAAAEgAAAAVBAMAAAAX07VdAAAAMFBMVEX///8iIiLMzMyqqqq6urqI\n",
       "iIhEREQyMjKYmJgQEBDc3NxUVFR2dnZmZmbu7u4AAABTw4smAAAAAXRSTlMAQObYZgAAAVRJREFU\n",
       "KM9jYCAEbM8QUmHGwLGB9QJ+NeYBDJwOXP/wqmlvYGBYv4DhCz414UA1DO8VGD7jUeNoACI5HZh+\n",
       "MDC8PbMLVfL5t/QHDCd/OrxJAfGYEzi+MPDNYFj5AFVVBtMGBr4PDAxvkkE81aBfDNwTGLjR/LhR\n",
       "IZSBYQKQwVrMwMDHwJLAwF/AwPMBLMeRKCgOZmzJ41ZgEAALVTCwBbApMLxPYGD9BRJgSoXZukub\n",
       "rw6iiIH5AUvoKaDrgSaBA+I53GW7mAO0oYqgAGgX+w+wFFxoF8MRjgAURQypDDbg0EpAUsT9YJMA\n",
       "g1kaEECNZ27V+QRy0vRyIIAq4tvAPgEtaLlBMciFbBKDDhO6IvYNIHICsiIOgwRkFRzzGPQXgBhX\n",
       "4UKbgPgUiiLWOr4KMIPRACYEDGcG3gIUy87cdQDTfNv8IAKKP4Gm8BVgTxosx6DRggEA5gNVcXJi\n",
       "e54AAAAASUVORK5CYII=\n",
       "\" style=\"display:inline;vertical-align:middle;\" /></a></span></td></tr>\n",
       "<tr><td>&nbsp;</td><td colspan=4 style-\"text-align:left\"><a class=\"ProveItLink\" href=\"proofs/digit9/thm_proof.ipynb\">proveit.numbers.numerals.decimals.digit9</a></td></tr><tr><td><a name=\"0x7d42d2a280289c96_step7\">7</a></td><td>instantiation</td><td><a href=\"#0x7d42d2a280289c96_step9\">9</a></td><td><span style=\"font-size:20px;\"> <a class=\"ProveItLink\" href=\"../__pv_it/demonstrations/f89d3e2af25c45f633f561e323cd522c4c32a7fd0/proof.ipynb\" style=\"text-decoration: none\">&nbsp;&#x22A2;&nbsp;&nbsp;</a><a class=\"ProveItLink\" href=\"../__pv_it/demonstrations/a3f1fff92ae681b91f65ee0d47bbdb0b0078f9db0/expr.ipynb\"><img src=\"data:image/png;base64,iVBORw0KGgoAAAANSUhEUgAAAQ0AAAAUBAMAAABlknXcAAAAMFBMVEX////MzMxUVFR2dna6uroQ\n",
       "EBCqqqqIiIgiIiJmZmYyMjJERETu7u6YmJjc3NwAAACgK8IjAAAAAXRSTlMAQObYZgAAAyRJREFU\n",
       "SMetlk9IFFEcx7+7Mzu7O86a0MGjS9TBg7pUIIKmHYKoiwchLAtDAg9Z2yEkIZIOkhC0YCQewu0f\n",
       "VJR6yi7ZUERmh5YiAikbgqBuaiL4b+v9GeW9N283k4Zh97tv5/eZ7/u9P78HlObwny7LC7Ztin6G\n",
       "frwF3uyplv8IZf7VA0NUB9slukY5A7s9hGkHRuAcx3dXio4li7+1SW3giKngkyJdp17lStvgZIFE\n",
       "BuFmhOUEnC/uwwmkiyOMtNou0XVqF1AJ1JKue9iWhTErDep0cR+JgA+OcJrVdomuU8tAI8kK8AN4\n",
       "N4ZoXow27OI+zgZ8+Ii7artE1yhnBbjkwW7CBSBC3C2I0TPcx6EjHSP4+aHavNcwUEV+EwmruxaJ\n",
       "4f4bKO/qESJ8RJ3qQ6Lr1FGSjyYYGTwDTZG9Jg5/2s9H6+k18yoOuJEWTGbAZKcXTyKWgTOGmJhB\n",
       "jphm+iG7WM4kuk6RQRnNIZFFH/kxjo5FEQrfx33iPIUItWUtcHmqzFylPsw2RMWOc0Snmg+ZrlEl\n",
       "aauxHVYvWugG9Gn7nBB8ct3HbaDi5pf3OZv0f4lLlNflqQ9cG5d2LY6oUH3IdJ3qOtdYhtAse5Is\n",
       "pFVhWFLrPh6QKdlOvokPrHA5NRHiPl6OLilLd7WAD5GuUzUu9dHHtLhArMqh4Va2E9wh5DT3QfNB\n",
       "5VOE8m4sEy118VXezSjioDA/kuvjItJ1imTd7KUzKdGGCrk0RPhDxEcsy6ctmR9M/oKV328n42Ya\n",
       "YaF0+IhpNR8SXac+uiS/dJ6SpRZ95DyGs0zXdZbexMcYe6ifVJpFxF37BCZTXB6DMfc5no2TeVri\n",
       "kRh+cwQwoPqQ6DrV406R7sRTLJV7hkiKr7isrtDSYjyfp309/PsJ8GKwHnZV905w+W2wvieHHfvM\n",
       "hot7gcvsppEMgVuqD4muU0bddTpIZXTn9aeFW3D/tIuX341Ip1ezr6t0nZoUaoWBrfrYiNTWOZWu\n",
       "U6TOYcLXrwu/6C/HgI1ITd0P0jWK1n16UmFX4YOTWTPvFfORU18qn4MUukaVeJs9uW3qSmz1XDgD\n",
       "/AFFcTeuQ8/jXgAAAABJRU5ErkJggg==\n",
       "\" style=\"display:inline;vertical-align:middle;\" /></a></span></td></tr>\n",
       "<tr><td>&nbsp;</td><td colspan=4 style=\"text-align:left\"><span style=\"font-size:20px;\"><a class=\"ProveItLink\" href=\"../../../../__pv_it/common/a0d9d672aa5e272d907247690c152cc2c6daafb70/expr.ipynb\"><img src=\"data:image/png;base64,iVBORw0KGgoAAAANSUhEUgAAAAsAAAAJBAMAAAAWSsseAAAALVBMVEX///9mZmaqqqrMzMxEREQy\n",
       "MjIiIiKYmJh2dna6urrc3NxUVFSIiIju7u4AAACJHQtQAAAAAXRSTlMAQObYZgAAAEJJREFUCNdj\n",
       "YLhzeuWJAwy8Dew5bAEMHBc43nIuYOBlYHFgAAG+A2DKzgBIMF04x8BzgWGegh/DcgaG22fuiBcw\n",
       "AAATyhBrnyPYZQAAAABJRU5ErkJggg==\n",
       "\" style=\"display:inline;vertical-align:middle;\" /></a> : <a class=\"ProveItLink\" href=\"../../__pv_it/common/b7ca2b03651013759f042f9b6ee93402bd97837b0/expr.ipynb\"><img src=\"data:image/png;base64,iVBORw0KGgoAAAANSUhEUgAAAAoAAAAOBAMAAADkjZCYAAAALVBMVEX////MzMyqqqq6urqIiIhE\n",
       "REQyMjKYmJgQEBDc3NxUVFR2dnZmZmbu7u4AAABDhPggAAAAAXRSTlMAQObYZgAAAFVJREFUCNdj\n",
       "YLizeyUDA287w4wLDFwNDFwHGPgSGLgfMNwLYGB5ycABZD8GcdmeMzCEMGg/YmBgKpF+yAAEXG9B\n",
       "JNsCBvZeBrkJDCy5vOlA/u4zBgwArBUUgWOHdRMAAAAASUVORK5CYII=\n",
       "\" style=\"display:inline;vertical-align:middle;\" /></a></span></td></tr><tr><td><a name=\"0x7d42d2a280289c96_step8\">8</a></td><td>conjecture</td><td></td><td><span style=\"font-size:20px;\"> <a class=\"ProveItLink\" href=\"proofs/tuple_len_4_typical_eq/thm_proof.ipynb\" style=\"text-decoration: none\">&nbsp;&#x22A2;&nbsp;&nbsp;</a><a class=\"ProveItLink\" href=\"../__pv_it/theorems/7e068e65460b4128db0a680b4161bc7917c7c21e0/expr.ipynb\"><img src=\"data:image/png;base64,iVBORw0KGgoAAAANSUhEUgAAATwAAAAWBAMAAACvaz3RAAAAMFBMVEX///8QEBCIiIhmZma6urrM\n",
       "zMxUVFQiIiJERETc3Nzu7u6qqqp2dnaYmJgyMjIAAAAcRTyBAAAAAXRSTlMAQObYZgAAA5xJREFU\n",
       "SMfFVk1oE0EUfkma7maTTXqQIoIQoul5SY+2tOLBkzRF8FCQxqIHQSUHrVh7aG/NQdiT7UVYLagU\n",
       "MYuCogcNbVHxB4JeVKgEtAUtlOpJK1Tfm51JNpvMJqLgg8x+efPtm29n3psZgDZtBP7MRv55ALlF\n",
       "yrDMwJU2yA9Yu+x1tx0ganI+gQrBlRZv3OTRtSmXU5vONzLD00anKZdXF6CpHQY4KfgIXhD80uKd\n",
       "zzx63HR740YTasLWKnJ5FCC6y2+ocYDbgo9gjtauxTfpBo/+xqOkCXfIgkW5PAxw/cmWz1DBboBY\n",
       "kvMRxC182P7yFJNHv+BV0mhPAa7K5VEA3U/elTXMgC7OR6A/X1iYbbG2szx6JO9V0mgfcQUHZfJY\n",
       "AF95JZQHnwQfwfeZmckW8vZwdpCSLdKX4cmzltrHCYuprFPhfemfuBiGTB4L4CdPN0nekuAjOAFQ\n",
       "EL0dG3XkAWdQuMTZahmb/WZ806ncbavolMqsrbJywD4Vx9YrQl5sg5kB7gB+8q4Byfsg+AgOgFNq\n",
       "zJbqyEX+vMjZCuaothtCTiVFtyDBkhgmoZNlL/VhrGheNnsUwFdeicm7L/gIFAiWq93rdeRH/LmD\n",
       "swOYVKEtUBxRqKRYYkCMR33oCW/K5FEAP3nRLJM3KvgIYmWl1v+jjr3URF5gCopZse0NsUkLiH2J\n",
       "+gb/Rt4taJAXqRxBMN+zSnv+tx7aLGIpmp/51HqTxcUJe8y3vTIMsK3FmUOo9nXkPbmXa3dx7/X2\n",
       "fs0AHBR8AoXjmDXnwvRScILV1tlwV9XlLY2iDWecUzExiLnGdQKbRt5XKw3v7LUsDYBuT2nAXfzY\n",
       "kBGmT1aTFBpTP8tcXa5FJjbtGEgZj0ERaZ1l1WAglIP5LAGnD0IlmTy25QRRHrFZo227AdpO/PUJ\n",
       "PgEqv4AdzLHcwKHwD0skxwV8jpf5qmlj6ct7QZlAlHkFDMDLlaTjYX0Qz8rkUYDQse1+5zUl55yx\n",
       "DjjPEuXZr9MAq4JPQEd/0VTf4yNhkbQEWzvukhxqD+UAbvgfah52tWqrR6SWF4eaOKUC5ughmLMU\n",
       "6y22eCgZcxa6jsqvBCU5aHEl8LKFxWrIdSXgx8XYnX4YtsOnSthGMq+tYZu5uBV4dFVcqLSkFIDf\n",
       "hUoEqLFdB4Yw94XKbXZDK7uO6iAFXIL/dVRvLNna2VAQ/EKTW7S7dV3m021f5t+xNu11tx1ANzlf\n",
       "N+v9De1/t9/iTEQFte6a6wAAAABJRU5ErkJggg==\n",
       "\" style=\"display:inline;vertical-align:middle;\" /></a></span></td></tr>\n",
       "<tr><td>&nbsp;</td><td colspan=4 style-\"text-align:left\"><a class=\"ProveItLink\" href=\"proofs/tuple_len_4_typical_eq/thm_proof.ipynb\">proveit.numbers.numerals.decimals.tuple_len_4_typical_eq</a></td></tr><tr><td><a name=\"0x7d42d2a280289c96_step9\">9</a></td><td>conjecture</td><td></td><td><span style=\"font-size:20px;\"> <a class=\"ProveItLink\" href=\"proofs/reduce_4_repeats/thm_proof.ipynb\" style=\"text-decoration: none\">&nbsp;&#x22A2;&nbsp;&nbsp;</a><a class=\"ProveItLink\" href=\"../__pv_it/theorems/74199c29a5fb89e39a3c6fe435df01ee75e2d9520/expr.ipynb\"><img src=\"data:image/png;base64,iVBORw0KGgoAAAANSUhEUgAAAUkAAAAUBAMAAADyw9IGAAAAMFBMVEX///8QEBCIiIhmZma6urrM\n",
       "zMxUVFQiIiJERETc3Nzu7u6qqqp2dnaYmJgyMjIAAAAcRTyBAAAAAXRSTlMAQObYZgAAA4ZJREFU\n",
       "SMe1V11IFFEUPu7OOuvszBQlYT0tK/ggZYPSU0pWhPVSi0GvLlGBD5YkFFiU9JJLRAtF9hJN+6Ai\n",
       "YkaQJEWL9lAb0j5EUaRN9IfRj2WGq6XdmTPTzJ0/FqsD3+6Zc+/55tv7exbAYSU5xL+ySMr9HYXY\n",
       "LR2K+jBubenV4bTdS5PZ7Az1FphanEI8VB8+WFsmdTjtiD9lvUd8wBmaLFAlpyAuqePfYWkQJITT\n",
       "Aqv8GSWPBj5qjwhSofMwghBlQjNoibMphNMuv/Ml9Hw1t9weced3s6sIIdvX12WNd+lwWsZf5V3P\n",
       "AXpjD3QVvKbFesRsZ+dxa7xcR7riwlpqqoSUpnLnituTcP5FM/NqrLaFPBMXIrEREDa1bYTGO1XW\n",
       "FJ1j1P5ump+LNW8ZoRLMIC8h9gMkrQxnEVxGOMwq1CsBx3Ll8C+mHTbLRaXQI4HmDqWCCWAl4DqA\n",
       "tU61zjGhrc7Pmkng4O+Hp9ETVIIZFBTEVm0TmXYMwcv8HEMtn4yu8j1AUQaKomICIt/RvR5n5lSV\n",
       "zBoIWLeNzjFkH0uaPwuP5B1UghmMtCJYCFBHbCmCg3AHfTjHdZXks6lu/ElOJGM3jS40juZVlXDy\n",
       "lPWHGRxNdpU0vwydtgQzGJpC8DkWXFQCLKMPkH7QVb4mG0U9FIhKmEV3IBlClf1fpqkk5HBTSfF/\n",
       "syWYQUNlibJHPZM2VMSpGSfccYr5Zk3N12rV+UiaoqhSHUvVPQ2hvMxKgRIZXlJnO3I0WNZlApz8\n",
       "oRlbghlkWhGQ3EcObPkgW0/tnoi8nkTpIcBTnagkK5zT16Xm/oRIfpuYCDJRKLYsH4Njwj6WNP9w\n",
       "YAoqqQQzaOweuEGkhuCTwTCK2DV4Di4Dt6CulgX8hjKtQxvpPg9BWVwNPRl0y4CfeR5UgmT3hFPY\n",
       "Xc1ADoBau0qKn5kPT5Hq45riEoRgBqEvhbzB0IDojqXrSK+jMt7f6hV+f1E9H7cvniGt1VkQW2Jk\n",
       "FjT3YnW2KgcHHjBj6+4Z3UmmzgFv7Sopfm5vZTkpd9h2lyCIcQQIsrZKQ643ZET2vhb8L2Mzk2v1\n",
       "viEt/MMuqdCjQ7MrvMK7Vhs8LFUlX1C1wVvPY5egXm2gdT8eyRp+Eiy3UdpbBpvwVZn2q9xc+Lmo\n",
       "S6pRublXqH+qVO+amjn0w7eyyTkluVTBZi/BLTWcQvz/fxTCX/yjeIb4DVbLRsc85x7SAAAAAElF\n",
       "TkSuQmCC\n",
       "\" style=\"display:inline;vertical-align:middle;\" /></a></span></td></tr>\n",
       "<tr><td>&nbsp;</td><td colspan=4 style-\"text-align:left\"><a class=\"ProveItLink\" href=\"proofs/reduce_4_repeats/thm_proof.ipynb\">proveit.numbers.numerals.decimals.reduce_4_repeats</a></td></tr></table>"
      ],
      "text/plain": [
       "\tstep type\trequirements\tstatement\n",
       "0\tinstantiation\t1, 2, 3, 4, 5, 6, 7\t|- \\# (9 ~ ..4 repeats.. ~ 9) = 9999\n",
       "\tm : 0, n : 4, k : 0, a : (), b : 9, c : (9, 9, 9, 9), d : ()\n",
       "1\tconjecture\t\t|- forall_{m, n, k in Natural} [forall_{a_{1}, ..a_{_a}.., a_{m}, b, c_{1}, ..c_{_a}.., c_{n}, d_{1}, ..d_{_a}.., d_{k} in Digits | (b, ..n repeats.., b) = (c_{1}, ..c_{_a}.., c_{n})} (\\# (a_{1} ~ ..a_{_a}.. ~ a_{m} ~ b ~ ..n repeats.. ~ b ~ d_{1} ~ ..d_{_a}.. ~ d_{k}) = \\# (a_{1} ~ ..a_{_a}.. ~ a_{m} ~ c_{1} ~ ..c_{_a}.. ~ c_{n} ~ d_{1} ~ ..d_{_a}.. ~ d_{k}))]\n",
       "2\taxiom\t\t|- 0 in Natural\n",
       "\tproveit.numbers.number_sets.natural_numbers.zero_in_nats\n",
       "3\tconjecture\t\t|- 4 in Natural\n",
       "4\tconjecture\t\t|- |()| = |(1, ..a.., 0)|\n",
       "5\tinstantiation\t8\t|- |(9, 9, 9, 9)| = |(1, ..k.., 4)|\n",
       "\ta : 9, b : 9, c : 9, d : 9\n",
       "6\tconjecture\t\t|- 9 in Digits\n",
       "7\tinstantiation\t9\t|- (9, ..4 repeats.., 9) = (9, 9, 9, 9)\n",
       "\tx : 9\n",
       "8\tconjecture\t\t|- forall_{a, b, c, d} (|(a, b, c, d)| = |(1, ..k.., 4)|)\n",
       "9\tconjecture\t\t|- forall_{x} ((x, ..4 repeats.., x) = (x, x, x, x))"
      ]
     },
     "execution_count": 15,
     "metadata": {},
     "output_type": "execute_result"
    }
   ],
   "source": [
    "deci_sequence_reduction_ER.instantiate({m:zero, n:four, k:zero, a:ExprTuple(), b:nine, \n",
    "                                      c: reduction.rhs, d:ExprTuple()}).proof()"
   ]
  },
  {
   "cell_type": "code",
   "execution_count": 16,
   "metadata": {},
   "outputs": [
    {
     "data": {
      "text/html": [
       "<span style=\"font-size:20px;\"> <a class=\"ProveItLink\" href=\"../__pv_it/demonstrations/81e6682aba6a68e40712fcef9eb9fa817112f6bd0/proof.ipynb\" style=\"text-decoration: none\">&nbsp;&#x22A2;&nbsp;&nbsp;</a><a class=\"ProveItLink\" href=\"../__pv_it/demonstrations/e93e23999689ce3b0a8accfbfbead4fffe41573b0/expr.ipynb\"><img src=\"data:image/png;base64,iVBORw0KGgoAAAANSUhEUgAAAZEAAAAUBAMAAAC+BR27AAAAMFBMVEX////MzMxUVFR2dna6uroQ\n",
       "EBCqqqqIiIgiIiJmZmYyMjJERETu7u6YmJjc3NwAAACgK8IjAAAAAXRSTlMAQObYZgAAA5JJREFU\n",
       "SMfFl19IFEEcx7/3/49750EP0pMS+OCDJhaIZnkFgfQUagR5wVEEPWReBUVCJAWSIXVQKELSJfhg\n",
       "VPpmL9miRKUPtxQhQtYSBPUQKJXhn85md2+c3Z1z7VapedmZ+f3m95nf/GZ+MwuEJWxVOZuj7xv+\n",
       "RVHJU8DrXRUmyfZ8TQl3qmQ4Zb5/RBMxpc1xrMhPIBzHZ9EovmY9Osr1vJDCMQgprj8oayKmZMnx\n",
       "xmCbHErCeRjOpEHqa7RehiTXVQqUAdVc/wwVMSULznjVCmyT/TIKU3DNGTf3gKW9EG9vCagn68P1\n",
       "36IipmTFCW3giRX5C5AegS9jkFZae9LG2ROWgasygubghzuoiClZcTbyxIp8GfCQmPww2JNVgnvw\n",
       "Yq0c7q+SDzXNVJEM9/VtBbyXqhG639WDotZ2/ZBjZGWicJlBviQVMSWOw3tii/wMytYK/tYLX0Ij\n",
       "eHrSUoPojuFIVOiCuxsHxdNyoAT+pJKT/PohJMDDEkLqka99qJQhpVogURFT4jl8TOyQO0ljFCcX\n",
       "DEHPEoIdQBNwVGm2RT2V8CRORdwrij0C8emHFCS89XF4O0wz88epiCnxHN4TO+RmJfdNb5vXp8II\n",
       "9aQEjsXZ2XKQ9U0ni/tn30goqsko9nB71Hg1tJ6rj8AxZ5qZJ0pFTInjTKoxfGDwxAa5WW059Sdt\n",
       "AtSTJLxqsIi9wpE2ZTknxxyavYnhRdOsd4rreKKKmBLPyRETG+ROugasnOjr+9mr9lbC8Strj6xM\n",
       "gtSewpER/UlfWMRHU6Iis3J3sHMyQHcX9BMeyMXJ4YkNMjnxoRiKTa+IRmoPN7MHsy3qT0FIfIc3\n",
       "sz9YEnAn4NQf3nciWbHsiddvYomKmBLPyelJ3uQakiofCY8hLCnJeUn7okU7rySWxXHcw6AsXIdj\n",
       "AQGxBa7594FUgJy7AllTV0e0i5PEfKDSNDMlLauidAq6momjy9pZT+yQG0hjVx8J1w1RewcpT6E9\n",
       "q+VKVn++HIdQdkHEwPR5ojHeW4dPvXXtEnbsc++9spuqKyNdNXeVpYyYZqZsN1Xk74a+ZuCwEihd\n",
       "6oddsp/uK6+4/tU6ZHnxspGvcr1WtHIGfO0vSh7ktZeMy7Y9NjLnC5LeHXxt054YyWNrF+76xfqR\n",
       "vzYyx6u+gP6aJNaUEvl4kg95Ktuw+HU8sFphZU8yT9v4p6UlJZae8nEkL/IW/v1++G9/v4T8B45b\n",
       "qJUOfDuFAAAAAElFTkSuQmCC\n",
       "\" style=\"display:inline;vertical-align:middle;\" /></a></span>"
      ],
      "text/plain": [
       "|- (9, ..4 repeats.., 9) = (9, 9, ..4 - 1 repeats.., 9)"
      ]
     },
     "execution_count": 16,
     "metadata": {},
     "output_type": "execute_result"
    }
   ],
   "source": [
    "n_repeats_reduction.instantiate({n: four, x: nine}, assumptions=[])"
   ]
  },
  {
   "cell_type": "code",
   "execution_count": 17,
   "metadata": {},
   "outputs": [],
   "source": [
    "# similar issue as cell 9 above - Judgment Equality with 'self on left side'\n",
    "# DecimalSequence(ExprRange(i, seven, one, num(11))).reduce_exprRange(assumptions=[InSet(seven, Set(zero, one, two, three,\n",
    "#                                                                                             four, five, six, seven,\n",
    "#                                                                                             eight, nine)),\n",
    "#                                                                                                  InSet(one, Set(zero, one, two, three,\n",
    "#                                                                                             four, five, six, seven,\n",
    "#                                                                                             eight, nine)), InSet(num(11), NaturalPos)])"
   ]
  },
  {
   "cell_type": "code",
   "execution_count": 18,
   "metadata": {},
   "outputs": [
    {
     "data": {
      "text/html": [
       "<strong id=\"test\">test:</strong> <a class=\"ProveItLink\" href=\"../__pv_it/demonstrations/9cc48802cedeacac08288415f376535bd8a312200/expr.ipynb\"><img src=\"data:image/png;base64,iVBORw0KGgoAAAANSUhEUgAAAJMAAAAUBAMAAAB7fhJGAAAAMFBMVEX///9UVFTMzMx2dna6uroQ\n",
       "EBCqqqqIiIgiIiJmZmYyMjJERETu7u6YmJjc3NwAAAC+aOQFAAAAAXRSTlMAQObYZgAAActJREFU\n",
       "OMuVlL1Lw0AYxp9+pt/tIri14D9Q6aB1saNOOlRw6F5cdHJwkUrR1TgWK9Q1QysiLqK0g6DUoX+B\n",
       "BFw6iagUkWB8c2kld7kGPEjCe8/vnrt7c/cCqQHkbVvS5w33gcfTS15ING5y8OnuEQS/FK4lVgxu\n",
       "I5HBcokTegh8ItFyj2gjpWJHWFq4AgYnVUS7CK3bvVX70wQ2gAWXE8HKCOkaB/fmDTA4oiNUg++H\n",
       "UzeBrI57lxXBwTLSLQ5G0rIieAjEDPjeObXTRTaHWEm0GrL3ZIOcFcF79nQGrwLHXQRU0YrBiTok\n",
       "VgTfsmgtL1gFPwhhGwlorDFbC04tNmVWBB+x6EBQEcnQn6mJq7Lh3ZLEiuCyFUTZnEuadqhp50xu\n",
       "0ON/E60YjFCFh5kVweW/HDgnUtRpVikd8ZFkVQRbaw6reOXVLWtIsObIVWa8wbQhtyLYyuQcsM+p\n",
       "/jwUfZx2ZyM4dOH63ZO0F2nN9cIJf4CHheIsZTAvWhGcHLjOlWJZEbxCp8s0Td6qY5pf1J8TrQjG\n",
       "auOKT2x05vuMwRHu/ledwYPs4njASe5IPzkD6XX2gu+mFDNpkfGG+9PUuLz0ecBTa+zzfwoywb+G\n",
       "B5Nm0WX8uwAAAABJRU5ErkJggg==\n",
       "\" style=\"display:inline;vertical-align:middle;\" /></a><br>"
      ],
      "text/plain": [
       "test: (2 + 2) = (3 + 1)"
      ]
     },
     "execution_count": 18,
     "metadata": {},
     "output_type": "execute_result"
    }
   ],
   "source": [
    "test = Equals(Add(two, two), Add(three, one))"
   ]
  },
  {
   "cell_type": "code",
   "execution_count": 19,
   "metadata": {},
   "outputs": [
    {
     "data": {
      "text/html": [
       "<strong id=\"t2\">t2:</strong> <a class=\"ProveItLink\" href=\"../__pv_it/demonstrations/c052886c93012bf6124254ac05454ef8064cb9810/expr.ipynb\"><img src=\"data:image/png;base64,iVBORw0KGgoAAAANSUhEUgAAAGEAAAAUBAMAAABvx07iAAAAMFBMVEX////MzMxUVFR2dna6uroQ\n",
       "EBCqqqqIiIgiIiJmZmYyMjJERETu7u6YmJjc3NwAAACgK8IjAAAAAXRSTlMAQObYZgAAAT5JREFU\n",
       "KM9jYOC7wIAd5OEQZzjNwPDYeBsWCaYHmGKME4DEOga+CQz5aBaxxTAw8CzA1MGhwMDAO4GB/RsD\n",
       "fwNEJB1CHTL6AyTNMXWUAnVwPGBgCWHgX4Cig4EXpOMohga+W0AdL8BMmKtQdHA5oOtg5gLqqASx\n",
       "eJoZsOhgnoCu4x5Ix16QZRZzsOngBTuVeRUYgHTzFIB0tEF85IBFB1sDuqMYQDpCwGxWYGgyWK1a\n",
       "1bpq1SK4DsYPaDoSYTr4HjBwf8NiB7oOHgMGqKv4/2DXwdKA5A+gUjbNmfMjC0A+Z93AwPEHp89R\n",
       "ACtQoyVQ5gJGfLCDdHAaYOrYwMDgAaQ9Z25BDV1O1V9zgTEogBGD+z9dAKUSJJCOzDmBPbHzokTs\n",
       "GWSOOY78sQ9XxsGW2mE5CjvgfoBDAmeuvYddGADEdVfClWutYAAAAABJRU5ErkJggg==\n",
       "\" style=\"display:inline;vertical-align:middle;\" /></a><br>"
      ],
      "text/plain": [
       "t2: (3 + 1) = 4"
      ]
     },
     "execution_count": 19,
     "metadata": {},
     "output_type": "execute_result"
    }
   ],
   "source": [
    "t2 = Equals(Add(three, one), four)"
   ]
  },
  {
   "cell_type": "code",
   "execution_count": 20,
   "metadata": {},
   "outputs": [
    {
     "data": {
      "text/html": [
       "<span style=\"font-size:20px;\"> <a class=\"ProveItLink\" href=\"proofs/add_2_2/thm_proof.ipynb\" style=\"text-decoration: none\">&nbsp;&#x22A2;&nbsp;&nbsp;</a><a class=\"ProveItLink\" href=\"../__pv_it/theorems/c9785c0bbdc5f956abe24b48130a09b4573f6eb70/expr.ipynb\"><img src=\"data:image/png;base64,iVBORw0KGgoAAAANSUhEUgAAAGEAAAAUBAMAAABvx07iAAAAMFBMVEX///9UVFTMzMx2dna6uroQ\n",
       "EBCqqqqIiIgiIiJmZmYyMjJERETu7u6YmJjc3NwAAAC+aOQFAAAAAXRSTlMAQObYZgAAAWdJREFU\n",
       "KM91k69Pw0AUx79d1/0oXTMJakv4B5pMLMMwiQMBCVjMgiEziBlSQsBSZAMJYCsYwRKgCBIIiGnE\n",
       "cnKK8EsgFsrdlYXeXftEe/fefXLve+89wB4g3TYz/HgCHo8uRZ/lX9WhEfVwzqOfc1hVzLeFwB30\n",
       "L1inKlGqAhUP5RDGUuzpxL9jYAVoqsQWJUoEhgvtRyBWgRrBvQLYL5QYAeYY2odA9EPU6jDbMqGb\n",
       "lOjF+Y0FgtpBCN2TiSEjrvly0ZGI/CeVyKXrATdGW11G7PMDO5AI9igFV04KjFhmyzK/fy4I9oLg\n",
       "jAd99vhvErH+T/Qg3VH0UgjLwSSrgodXkdiATZB3EzpYljP+yVqXK58FtgUi56BI/pQLZlCwReuy\n",
       "2zh0BWLUaE1TdY5KXAALtIJRFIlEP4q+qb+uVPD2fcC6JGGd5OYhvdkrQmGfk5tmxnzcZA1OWrdP\n",
       "JirdpkhGIHNqh+nuXxTBWWCkH/TBAAAAAElFTkSuQmCC\n",
       "\" style=\"display:inline;vertical-align:middle;\" /></a></span>"
      ],
      "text/plain": [
       "|- (2 + 2) = 4"
      ]
     },
     "execution_count": 20,
     "metadata": {},
     "output_type": "execute_result"
    }
   ],
   "source": [
    "t2.sub_right_side_into(test)"
   ]
  },
  {
   "cell_type": "code",
   "execution_count": 21,
   "metadata": {},
   "outputs": [],
   "source": [
    "from proveit.numbers.numerals.decimals import reduce_4_repeats"
   ]
  },
  {
   "cell_type": "code",
   "execution_count": 22,
   "metadata": {},
   "outputs": [
    {
     "data": {
      "text/html": [
       "<a class=\"ProveItLink\" href=\"../__pv_it/demonstrations/5b40a1ccf38bf6b2cab5ae0d01935e342ff9273a0/expr.ipynb\"><img src=\"data:image/png;base64,iVBORw0KGgoAAAANSUhEUgAAAKwAAAAUBAMAAADihsvzAAAAMFBMVEX///+YmJjc3NwQEBDMzMyI\n",
       "iIgiIiK6urpmZmZ2dnaqqqoyMjJUVFTu7u5EREQAAACNSvXSAAAAAXRSTlMAQObYZgAAAoZJREFU\n",
       "OMudlU1oE1EQx/+7ababj93EqyIGD6LgIXjJQYq5CoK1XuLJPQltKvZUejOCUCNVc6lYLFgQBA/i\n",
       "qgWFXEQ9WDwYEEGo2Cii4klFLDSEOO9zd5NNDx3Im8dvd/5vMm8yAbSZecTZEMwsXdgOu3Cek/sU\n",
       "evLh+le1DeMQP7T0E3iheGbvyFWxWzxTlngd6Qa5x/S52+KEjrkzIyMYTo+hj5s1PMxTpLREr9cQ\n",
       "WjO2L/F92PSuUYOz9lbI2i0kiiKAMD4ud9HHk1vIeUiNq2yXJ8TmB9y2xPOwaLVYRfYJ2YSH7B/x\n",
       "HseGlA34aAk5H448G1npR/lTgT2e9QEEspkusn/Fixwr2RAHKwKe9sm64hyGHZ/KAFRCsixLqVQJ\n",
       "y4Y4nElabinZXZUy87nVxXmJ0+O4TO5zVPaiuAKBQ7KKmzev0bpHZdkyN5nfeARrheHbzSfVZqfZ\n",
       "xlRUdlr6qT7Zab07Tfd8L+i9b1z2F+wxgS2YrG1LEVm7JjelqKzmdH8UfzKQvcHulrrD2BT4MIz8\n",
       "gGwF8bKKmwW4W4HsG4iGtnwYvwU+Bbegvq2STdewP64Imue6XHZW8qOULQvNFnm2s1Tbf80LVapt\n",
       "5MqOAxNxV6Z5os17Ql0ZlabK/EgXdlFgH3NQvXJWyJqTSwueCOA4SQobvuROhx2U531bl7IHYRzh\n",
       "mzW8W+GY5gFrNf59Fo494/Mq0+v1pCzD9svOJVjnFT/Hzp678p3WVVXq+muRUKr+SmC7DE//Sgct\n",
       "wA/04NNd6HixMQxTf7XVTImxADfUJqUf6lETNYZPICkG9Zf4Wa2woyXe62fr8SEM70a2NTivA1PY\n",
       "0CQ/cOSQTHb4p2MUhuH/Sbi/QUVH71EAAAAASUVORK5CYII=\n",
       "\" style=\"display:inline;vertical-align:middle;\" /></a>"
      ],
      "text/plain": [
       "\\# (1 ~ 2 ~ (1, 2, 3) ~ 5 ~ 6)"
      ]
     },
     "execution_count": 22,
     "metadata": {},
     "output_type": "execute_result"
    }
   ],
   "source": [
    "DecimalSequence(one, two, ExprTuple(one, two, three), five, six)"
   ]
  },
  {
   "cell_type": "code",
   "execution_count": 23,
   "metadata": {},
   "outputs": [
    {
     "data": {
      "text/html": [
       "<a class=\"ProveItLink\" href=\"../__pv_it/demonstrations/ccd8cc195854f1238b736ab512e2d84af097741a0/expr.ipynb\"><img src=\"data:image/png;base64,iVBORw0KGgoAAAANSUhEUgAAAJEAAAASBAMAAACp0iFmAAAAMFBMVEX///8iIiLMzMyqqqq6urqI\n",
       "iIhEREQyMjKYmJgQEBDc3NxUVFR2dnZmZmbu7u4AAABTw4smAAAAAXRSTlMAQObYZgAAAipJREFU\n",
       "OMudlEtoE1EYhU/m0TznVlcutJpNd0rirqKQ0Y2Im0GRCArGRTduzNJSamdTiPjcWBVLuEtFhCxr\n",
       "pJiFL0zbDNRAF0bvphSxUmm10WBb751J7MyEDuhdZJIz//n+c+/8E+DrdBnedQD/uMiHKuWf9/GY\n",
       "eW/sDvbpXcpnM1YE4ncQtzy6+jA4gNUlPQOmgN48Et88+qPhQFKkm9QEasByDmrLo1eCSZkuElkD\n",
       "LlBEeabvnp7UJilDp9/Q2HyVHp+4WTWBpzfKkM+8QuRT3xz6B7Juyz2eSRdbC/90ywtwMkXnls2j\n",
       "TCnigU76oOzFCXaQaiWELJAcQm4L39oobzaII6uezbVJ4R3ABHBX/Mzo0QqixqGksiFIHK+6LT2G\n",
       "XEsD8tj+FZcqJzukEqT1QmESI/wwrdR84bqJ/pmWIGHfIPWc1MCpWlJc4xsucQkdkgXZDstJvbkM\n",
       "74nFS5JDWhpd9536C9buvrUONxq/6rZagfSjTeKZDP7tIqQWC1lqjOG2bz5590gRKW9UOJPJSdjV\n",
       "fgAZPZQHMX5Dbh0LlzTFQNx0Ga4xnhXqVXIFpCnGoulcMW7fFrtIpfERQ5TsgbQKjY0jsXJLy2v8\n",
       "xHuoU247smxRgKcbPOhO5rxv4pV7vTkp5unyWhpk6jzD8Ng5XvGlPosn9dmsiefvlLdnX3bKhTMx\n",
       "837ribHth3okcOT9zgT+l+R3LgTUBv/J+J3m9qUnN8tBpL/OP4hTrGfQnDyhAAAAAElFTkSuQmCC\n",
       "\" style=\"display:inline;vertical-align:middle;\" /></a>"
      ],
      "text/plain": [
       "9, ..4 repeats.., 9"
      ]
     },
     "execution_count": 23,
     "metadata": {},
     "output_type": "execute_result"
    }
   ],
   "source": [
    "DecimalSequence(ExprRange(i, nine, one, four)).digits[0]"
   ]
  },
  {
   "cell_type": "code",
   "execution_count": 24,
   "metadata": {},
   "outputs": [
    {
     "data": {
      "text/html": [
       "<span style=\"font-size:20px;\"> <a class=\"ProveItLink\" href=\"../__pv_it/demonstrations/214cfc8eae766254a7eaef1ba0ee9bce754609b80/proof.ipynb\" style=\"text-decoration: none\">&nbsp;&#x22A2;&nbsp;&nbsp;</a><a class=\"ProveItLink\" href=\"../__pv_it/demonstrations/e9f77a6157acbdb48e84c3a3348bae0a6a5cbedf0/expr.ipynb\"><img src=\"data:image/png;base64,iVBORw0KGgoAAAANSUhEUgAAAPEAAAAUBAMAAACubMYLAAAAMFBMVEX///+YmJjc3NwQEBDMzMyI\n",
       "iIgiIiK6urpmZmZ2dnaqqqoyMjJUVFTu7u5EREQAAACNSvXSAAAAAXRSTlMAQObYZgAAAxpJREFU\n",
       "SMetVl1IFFEU/vZ3xtkdXQuhomgiiB4MioiQUvZFKAhcoaAyaB9NDRcKCephhEQToi2QFDW1IBCC\n",
       "3fJFWMPVXnwIGoiiMHQT7DXbrExRO3f2b+a6rGN42P3u7jfnznfPveecGSBrdh+2x55a9iyGHKdh\n",
       "BvjUM2m+dGaLovK9PgVeJS/NAbNpSGEaXkE+hoOaaUpTYaEQT7z32SshR/PSHDAbhki3sKnwHoVX\n",
       "Nc5wnS4cocozb4ApoCsvzQGzdrgJ3QpKoihaMM44MFZQ2bZBeQUYoBDz0hwwC9J+A4eA2QRcSeOM\n",
       "cGHlCK8srwFXFXhCeegjZmAHTccyTMNFwEEx/zHGpOjKwsjlXsXe2qfcrtjVRwVwePckpAtdsD2o\n",
       "70T1UJ1hximKJoQifkU6zQHRUgB3afgKttWeH4YJH5CK2dE562vRhEocD8n1EK7jhvZcEeNwq5AT\n",
       "+lFljDZx3AebnmK9MWajWZoDuj7SGFuJJdBAHvMYXjZudlrZEwQqgBPsbyTkCMMReOYXVpkyLcdl\n",
       "LNCANDAIKcjXLaM5YKkFOyvnkyz8srOLOX/Jn1GOw7lUWjoBCmBWrWkt3etDdXeSKaN53lS9Q+cH\n",
       "/HAu8Bmh0xwA5bD50sqAdzXn/hkZZRWSvhekXJKIsOVOzzlTyp/Hl8wi77Q8yjq9AWpRzJbdkAkv\n",
       "ay86On626WQYzl9pZYo5QL++wZnU3KrLrmG/OZNpsUIwd85jOZqD3tjvWHMjnTNlmK0SNebOl+ok\n",
       "pIzGdMJFQu4o5MBfSMmbnrgoBOA19PudGm1FOsPA0RyQRXGLDd3Usl7LL1MFuMI+ZFX6X7arNYO4\n",
       "jxFFvgbnMkStCkWL+8SoSBlWrGTdUadN0zrEMKes0xyA9ex2drWFvj0doWy/Zi37yfoEq+fva4OQ\n",
       "py5pGCu7Qg5f2vpR3tZf58PbR8LD2sdZd6rLbnYvj59T1mkOaIF+6MfiVjZ/FI1ae2J9tOZGRZXI\n",
       "34T/W7nLmts5uFIpMre5b5O1h3TUmvIeeFPP5JlNXe+sT1p601CwNdu2t6Edlrz+AStlI/jhmYEh\n",
       "AAAAAElFTkSuQmCC\n",
       "\" style=\"display:inline;vertical-align:middle;\" /></a></span>"
      ],
      "text/plain": [
       "|- \\# (9 ~ ..4 repeats.. ~ 9) = 9999"
      ]
     },
     "execution_count": 24,
     "metadata": {},
     "output_type": "execute_result"
    }
   ],
   "source": [
    "DecimalSequence(ExprRange(i, nine, one, four)).reduce_exprRange(assumptions=[InSet(nine, \n",
    "                                                                                   Set(zero, one, two, three, four, five, six, \n",
    "                                                                                       seven, eight, nine))])"
   ]
  },
  {
   "cell_type": "code",
   "execution_count": 25,
   "metadata": {},
   "outputs": [
    {
     "data": {
      "text/html": [
       "<a class=\"ProveItLink\" href=\"../__pv_it/demonstrations/b385957a6c90b5493b2419d6c764256b6bc9c2e80/expr.ipynb\"><img src=\"data:image/png;base64,iVBORw0KGgoAAAANSUhEUgAAAQMAAAAyCAMAAABvXk5FAAAANlBMVEX///8oKCgNDQ2IiIiYmJgy\n",
       "MjJUVFRERETc3NyqqqrMzMwiIiIQEBC6urpmZmZ2dnbu7u4AAAAKyl11AAAAAXRSTlMAQObYZgAA\n",
       "BLtJREFUaN7lWomS4ygM9S73Df//s2uED8D42KYnjsdUdaraCQI9hPQkeRim4Z0d3jQ4E/Ujo5V8\n",
       "FQYD1swXD0T4/1YgDS8feGn8yRxEyG9DzfHRtyLtERNlNhOVyrfLA9toSIk7hoCG6geCBHOyYWd+\n",
       "Qeu4V09n4NnxjynfXZkHmv8wbA/Qa3qyF+U2Qj+BgScR73ltwi/8emdlGzKjDKQF9xkGW0P5CAag\n",
       "vp0E4dM77NDuyjKgbO/0WzFA22MG9dVsi/zUbPTuyj7zgv57MRDbc1aZhXN1LoKYfQzoJQwEQmBN\n",
       "kmgrEaJoMAgxEEgsRsiKiV44hGTCYJ6ybJoeY8Cts0j73OWVGu+7A7RzFXKRifh0YCCisVn4WjEU\n",
       "3R4yMbYCBjoaIrNgcBEKBxhkUyZjJIcYmCiGhB2tRe33RYTXTs6MtQNjIRKTXgz0uJqBsMFAcYii\n",
       "MkTtCU2OZZTOyBoXsilX7oLXUQ/L9k4erVTGkXFoNX6E8S/OUKLtAnKRQvXehUEiZ0HlpCeQAg5B\n",
       "hSRDHB2LT1TBT/5gmXIFAwtoqfXy/PsPKUYovUzUiM/71U3/UoqUoRMDTxifjp0BrhBOSgzYHGQS\n",
       "BtmUKxhooDxZpFalBZmS4YH6GB9iUIrsxoCpZPr+AINoBxkG2ZQLGCQTEmHPC0pSykFRfTYD3LwL\n",
       "lUjTexcmcdzIBgYwy0TF4XJO/iCbcgmDqAYlM7OvMch5YPQHYXQHKn7Akk2fWIns9olgVi5I7HMM\n",
       "ZMIA9gcsgYNRWvgym3IlLsRog8fwuZCNQi1TBz9SPGwn/KVI636KwZgShTHf4NQi5xHB8L8ULIxp\n",
       "hBtPw8VAHvlBku2twyM/iDnGMmWPHxg2Dw/Zz0gsOEVt9mTlAVGe7bySWIlMmerP7OBPjO58ATDJ\n",
       "bssFrqyGvwwDiIwZberKmfI8iQf3EAwknUPDcvc7cuchK5vgYB6CAQaPn0fLsxoK4wcr5wxdfQiC\n",
       "AakP19Iwn2p4qoWBCPNkF/jw0kEn1Z02w2sHjcp7Qv3w4iHG1Mor+2oMJKSXVsv3QjA7Aqv7feKx\n",
       "d941xLudsVty9v7YuB+luXOuau1JRa2LY+2A3DTMWlxH3RxpznCF9nVxswjDEyVLg64s7qbBwu9x\n",
       "5cTaPXWbhhWCXD4UhmYTYDRj8zeNrLfkQ2fffcnecI2BAZ9T9rES4E6m4sKNEPxm3rh2OnCznFzd\n",
       "hQTOZADEPAiDqhOSV0bWTkcTA68aV40dVoK+E4O6E5JXyNaqXgMD7loszM1TMHkMBptOSOEOxPFd\n",
       "QJuMxIeVqz4Gg00nJB+rim0MBl2HTLScvgyPwWDTCbmIAecpDld9AMWeh8G2E3LxLoTUqqwxWBc0\n",
       "6jkY1J2Qwsfv+0Swn0FVj+VKSB7kEzedkKJzYldamAr8CymCziDwA58RJbESU+u+GIOzTkjGD2Z7\n",
       "tlQHYjFkYfPBG2ttemUjexWO6+VuEPkYO7jIldeTbsQH0eRPX8KVh14Mtp2OloU3n6FbMcj2rXsd\n",
       "U93p8A3Vms9uzZ1lni/T3up6XUNpVZXwBew+O1DOd3h3w/FntTR8KwS+fEMZhVtrGfdAoCoGj8Pb\n",
       "2gxCk1pjb+mrIODrOyL/AU1UPRDKdtnNAAAAAElFTkSuQmCC\n",
       "\" style=\"display:inline;vertical-align:middle;\" /></a>"
      ],
      "text/plain": [
       "{lambda:[_a -> \\# (_a)], ${_{-}a}$:(1, 3, 7)}"
      ]
     },
     "execution_count": 25,
     "metadata": {},
     "output_type": "execute_result"
    }
   ],
   "source": [
    "DecimalSequence(one, three, seven).inner_expr().operands"
   ]
  },
  {
   "cell_type": "code",
   "execution_count": 26,
   "metadata": {},
   "outputs": [
    {
     "data": {
      "text/html": [
       "<a class=\"ProveItLink\" href=\"../__pv_it/demonstrations/b385957a6c90b5493b2419d6c764256b6bc9c2e80/expr.ipynb\"><img src=\"data:image/png;base64,iVBORw0KGgoAAAANSUhEUgAAAQMAAAAyCAMAAABvXk5FAAAANlBMVEX///8oKCgNDQ2IiIiYmJgy\n",
       "MjJUVFRERETc3NyqqqrMzMwiIiIQEBC6urpmZmZ2dnbu7u4AAAAKyl11AAAAAXRSTlMAQObYZgAA\n",
       "BLtJREFUaN7lWomS4ygM9S73Df//s2uED8D42KYnjsdUdaraCQI9hPQkeRim4Z0d3jQ4E/Ujo5V8\n",
       "FQYD1swXD0T4/1YgDS8feGn8yRxEyG9DzfHRtyLtERNlNhOVyrfLA9toSIk7hoCG6geCBHOyYWd+\n",
       "Qeu4V09n4NnxjynfXZkHmv8wbA/Qa3qyF+U2Qj+BgScR73ltwi/8emdlGzKjDKQF9xkGW0P5CAag\n",
       "vp0E4dM77NDuyjKgbO/0WzFA22MG9dVsi/zUbPTuyj7zgv57MRDbc1aZhXN1LoKYfQzoJQwEQmBN\n",
       "kmgrEaJoMAgxEEgsRsiKiV44hGTCYJ6ybJoeY8Cts0j73OWVGu+7A7RzFXKRifh0YCCisVn4WjEU\n",
       "3R4yMbYCBjoaIrNgcBEKBxhkUyZjJIcYmCiGhB2tRe33RYTXTs6MtQNjIRKTXgz0uJqBsMFAcYii\n",
       "MkTtCU2OZZTOyBoXsilX7oLXUQ/L9k4erVTGkXFoNX6E8S/OUKLtAnKRQvXehUEiZ0HlpCeQAg5B\n",
       "hSRDHB2LT1TBT/5gmXIFAwtoqfXy/PsPKUYovUzUiM/71U3/UoqUoRMDTxifjp0BrhBOSgzYHGQS\n",
       "BtmUKxhooDxZpFalBZmS4YH6GB9iUIrsxoCpZPr+AINoBxkG2ZQLGCQTEmHPC0pSykFRfTYD3LwL\n",
       "lUjTexcmcdzIBgYwy0TF4XJO/iCbcgmDqAYlM7OvMch5YPQHYXQHKn7Akk2fWIns9olgVi5I7HMM\n",
       "ZMIA9gcsgYNRWvgym3IlLsRog8fwuZCNQi1TBz9SPGwn/KVI636KwZgShTHf4NQi5xHB8L8ULIxp\n",
       "hBtPw8VAHvlBku2twyM/iDnGMmWPHxg2Dw/Zz0gsOEVt9mTlAVGe7bySWIlMmerP7OBPjO58ATDJ\n",
       "bssFrqyGvwwDiIwZberKmfI8iQf3EAwknUPDcvc7cuchK5vgYB6CAQaPn0fLsxoK4wcr5wxdfQiC\n",
       "AakP19Iwn2p4qoWBCPNkF/jw0kEn1Z02w2sHjcp7Qv3w4iHG1Mor+2oMJKSXVsv3QjA7Aqv7feKx\n",
       "d941xLudsVty9v7YuB+luXOuau1JRa2LY+2A3DTMWlxH3RxpznCF9nVxswjDEyVLg64s7qbBwu9x\n",
       "5cTaPXWbhhWCXD4UhmYTYDRj8zeNrLfkQ2fffcnecI2BAZ9T9rES4E6m4sKNEPxm3rh2OnCznFzd\n",
       "hQTOZADEPAiDqhOSV0bWTkcTA68aV40dVoK+E4O6E5JXyNaqXgMD7loszM1TMHkMBptOSOEOxPFd\n",
       "QJuMxIeVqz4Gg00nJB+rim0MBl2HTLScvgyPwWDTCbmIAecpDld9AMWeh8G2E3LxLoTUqqwxWBc0\n",
       "6jkY1J2Qwsfv+0Swn0FVj+VKSB7kEzedkKJzYldamAr8CymCziDwA58RJbESU+u+GIOzTkjGD2Z7\n",
       "tlQHYjFkYfPBG2ttemUjexWO6+VuEPkYO7jIldeTbsQH0eRPX8KVh14Mtp2OloU3n6FbMcj2rXsd\n",
       "U93p8A3Vms9uzZ1lni/T3up6XUNpVZXwBew+O1DOd3h3w/FntTR8KwS+fEMZhVtrGfdAoCoGj8Pb\n",
       "2gxCk1pjb+mrIODrOyL/AU1UPRDKdtnNAAAAAElFTkSuQmCC\n",
       "\" style=\"display:inline;vertical-align:middle;\" /></a>"
      ],
      "text/plain": [
       "{lambda:[_a -> \\# (_a)], ${_{-}a}$:(1, 3, 7)}"
      ]
     },
     "execution_count": 26,
     "metadata": {},
     "output_type": "execute_result"
    }
   ],
   "source": [
    "DecimalSequence(one, three, seven).inner_expr().digits"
   ]
  },
  {
   "cell_type": "code",
   "execution_count": 27,
   "metadata": {},
   "outputs": [
    {
     "data": {
      "text/html": [
       "<strong id=\"digits\">digits:</strong> <a class=\"ProveItLink\" href=\"../__pv_it/demonstrations/06439a62d07a93afd8d0868555c4beae709871450/expr.ipynb\"><img src=\"data:image/png;base64,iVBORw0KGgoAAAANSUhEUgAAAM0AAAAVBAMAAAAX/3cYAAAAMFBMVEX///+IiIi6urrc3NxERETM\n",
       "zMwQEBCqqqpUVFQiIiJ2dnYyMjLu7u5mZmaYmJgAAABN0h6tAAAAAXRSTlMAQObYZgAAAwtJREFU\n",
       "SMe9VktoE1EUPdP8Juk4jQgiQrErwYWYVUFBiVr87LJwoQVJUesHi2QlIpYUhEKRfsCFX3AKftpI\n",
       "NbgqUux0J4I0rVChNjVuXIjY4KexTe345r37pkPGlmzqg8w9ufede967775JAOizWNcRmDBto73E\n",
       "Oo+aVvupF9mj/0uiMqrlm8i3J3PY8Z4UpvZr4D15IhsfCXCiO5MxOBrbOknBt5nr7PmBz+tjtJR2\n",
       "kyKhNgKvEfnOgS+HdEHq3BYmaFkGLeeFSAPMWZbVwVEOakoEL6GRFW1Q6nwGnlL2gSXKOAOc5UAp\n",
       "oa6PnMp52s/AJvL4c2gS6B2giqUWoGU5Ulug5lw6R4C0KWbrUucC0Bvj5T2Fuiw59w0LqzqF3BWT\n",
       "iG1QVDAShyYWxniRokvnN5ufqtAZNdErD82pm+HROeQ+8KgwP82IIIzHofxY0dH+MJ1ohQ4bD2iP\n",
       "2l1y6DGp862e1lBurm+Q8/1ke5ef0DFm+SE/5pQsfItA0qtTsyisb3CGPGMgHb/pE02ilQu4JQnP\n",
       "ZAtaIwSKqF1mHWLjywn42H6Shkcn3CHR5gZ5BMNO9KjQsYApue0ihdp3zBNhP66WWNewXjjGGnqV\n",
       "uuUdFBTNHkq4dD6KBlhgy6WkCnWL3oFtdDtCn5p/MdPFkm9P8D5IV/YBlByVLQZ/iaM3kDo3gOci\n",
       "+z2mQ10SjtOqTARKMovK8tXahVFZlN2Aucq+RrutYDfnktS5ks/PT3B0ke1HEDpX9lNHdR5nnx6Z\n",
       "xdaY897TFZ2AAYXrBOMIO+J0T3N8I/ZImpiiWJIKEGS0gyJZG5Ix6jdbJ5zSWjHOy6uwlBztzgx1\n",
       "caQX2P3RyiLHGXC0F/ppMU01tHNETRuCWjMCPcqnKSPaK7juqda/JYHwffZtQ2d5VqBRy1oQaGf+\n",
       "AHCHl+mh1cORb7rbFEEMDRAVjeyIOTo+PUmETL7BrSPGNayBQqYXVUkgnRbXC2p1FIEXVUkQOrq8\n",
       "XVoUa6AxeFC1BPrhkL+nuuP/Fyp4UbUE9sLnhfwf/w/+AvXS/wp12uKTAAAAAElFTkSuQmCC\n",
       "\" style=\"display:inline;vertical-align:middle;\" /></a><br>"
      ],
      "text/plain": [
       "digits: {0, 1, 2, 3, 4, 5, 6, 7, 8, 9}"
      ]
     },
     "execution_count": 27,
     "metadata": {},
     "output_type": "execute_result"
    }
   ],
   "source": [
    "digits =Set(zero, one, two, three, four, five, six, seven, eight, nine)"
   ]
  },
  {
   "cell_type": "code",
   "execution_count": 28,
   "metadata": {},
   "outputs": [
    {
     "data": {
      "text/html": [
       "<a class=\"ProveItLink\" href=\"../__pv_it/demonstrations/407023c1edfdd2601d250bd5c3fd1154da2b54d40/expr.ipynb\"><img src=\"data:image/png;base64,iVBORw0KGgoAAAANSUhEUgAAAg0AAAAyCAMAAADodRj3AAAANlBMVEX///8oKCgNDQ2IiIiYmJgy\n",
       "MjJUVFRERETc3NyqqqrMzMwiIiIQEBC6urpmZmZ2dnbu7u4AAAAKyl11AAAAAXRSTlMAQObYZgAA\n",
       "BjxJREFUeNrtXImSpCAMdZf7kOP/f3blUlRU7PHorSFVO8x2t5kXeIQQSHddFKNV1+Q3CiVs+VIv\n",
       "BW8d8zsFSmJmLzB72jPwns5fMLw3Rw8BhDzpKHzFbkZ/NIngF0xk+KnNsYVI9CulQuQjRy1ZjjVG\n",
       "ep8M2C4+wJDtj6Dp8AlDXupMfI4ODqbBie3kfTJEDBpAzc/anFq9HiVqcf6AXc1qI/HBXxF6pbOW\n",
       "DYi+1Zvo9KdZMvM10JkEDGhY6I04gsOkmdmc2gIbOmUzctlCJ5EjNqydRy0b4HsBqwZnnKyzUEWj\n",
       "4BdE2QEDlN6S+ZixuWEG63GKJ5tjW2IDt9njFj/KBvHeLDNyK6IpYPJEEMkVfoFrCBjCyLC5P2cr\n",
       "msP0gWRzbEtsMFncaJ5lAxVv+toNjKww9UXmX18F3c0whNHqLatkw2hzaMtswDVsYAB4B8ORVBwA\n",
       "DLoeAOL1IQUBUCxmKzQAPLAhPTL2KV6wAZR9LlVaAWku7LySwiytQlZDvxM2PAN6X13AEOdxb0Et\n",
       "G5LNof2cDcz5JuXfFQS4QBH0aeFC0vktorwPcqTQng3ZI9E/oQUbSHGX1Dt1yF5HhrJCiDbGn622\n",
       "DL6DVQyvHgF9oC5goGEzx+vZkGwO7Q/YILljoVNLPAX8VpRbxwOEA6hBOUHTniJ7ZGOlEKy4oDtT\n",
       "1XW7uA2FTGx5A5DlYDQaRIrhhx3+kYdAH6kLGGjwDXy+w99jQ7I5tD9YKToOtPKDH0bcQ6B+P4KC\n",
       "/xmwmQDMxLhhfGSDDbK0dCuPXYDL2LChkE8z7+8fNBO7iHtc39HUM0+APlIXMCxXCs9cJKRvcIkN\n",
       "yebQfs4GgwiNroB4ynoIczaQ5LQCG7JHzrBB+kxP3PbyC2bbhsKMDWLuv/pFks4TAcI9NlwM+khd\n",
       "xGDjnqI6iryKDUSEhcHssMH5howN2SMnVorgXpiHy5X6eQC/pbDfWik4WiAGjgiEzrz0raAP1UUM\n",
       "YSRg9Q5ztLn/4UoR8dGeF9gQNzqDcr+yxrghe2SDDaWAzHimYxTS6f0VbCgr3IwiZ6lG533tEDYI\n",
       "98Nb9wDoQ3URQ0326ZYo0vsubTk0ORt4YIPvP591oN6HKf9m9sjGnqJ4du52LHDYjOqczCYlSXd+\n",
       "yX47VjiAnGKv2fj2K1Bo9mo96LyPt1F359WNGJyPMJIfsAGMbEg2h/YDNnBsLabD2qmANgBB/3/O\n",
       "iJUD2GHaaLddd/mGeAylNATcvTk9splviHb2JInxqVQAOMWgn/XEeLg2Kln/Mn6oRmGHNk57FN9L\n",
       "S58CXUi1FFB/oG6cJBoAzLtdNigsLVJwZnNoP/INt0hlZnrqCVaT2Dn+0KjQVLtzTw+xzApXgb4m\n",
       "9yC2MtPlPtje2CSbY/ttbDg8AJp6Qldpre/a+lMrv7/M4voToG9jww4Gsz0jKk6t8pMqavWjbJgi\n",
       "9cOpXDN4FR8afWz1iTbHaVsxrur0dTYcYih2T8WJdpddcIHHx03XsuHo4sjYE1U3fWB919b3JvTx\n",
       "fT7hqkHfyIZPbtwkmwndYUOWDhePnc8BUXUTjl0NKCqEd96Euxh0Wd35m3DJ5tiCwk04nxJIirX9\n",
       "gqP73GIlLAbfrPD+v/EE5JngSAIt+67JrxfsaGAQNq0rmrilCQybUNXY0MTtovzhqZKtrqbJGDAo\n",
       "Sb8X5CKIZrSN2z1kGO/QC/G1IFcbbNzocIdktyyB/dpdxXjOvKwVaXKpkCn79Fxm+qzExHypVqTJ\n",
       "lZKdtBv7rdX606HdqlakyZUL8itnmGdDyCmgWdeKNHmPDc/Uvnh/MIHJSlrWtSJNXmPDQ7Uv3fzm\n",
       "XHYZcX3Lr8lbbHiq9mXpJliBDUy00XuXDU/VviwkO09bVwc0eYsNT9W+NDb8B2x4rPalZqXo20rx\n",
       "Nhseqn1ZSIsiv3KleKr2ZbGnyDaT61qRJs+x4Z3al0W+YXyjVCvS5LV8w4wot9W+rAOH9YmlaWHD\n",
       "vWzoPmXD1bUvKymUk7RTq1vYkHW0RB+x4eral1J8sXQO7UT7Dpl9UQw+dYf+ttqXEpfIET2aXCAg\n",
       "//ZQemqpuKv2pSiLm3CwkeGWhYLMuVG9Gv+XtS9NdskgFmfJ0Layit8qTC6/5KgzCrd++ZVCpy9e\n",
       "+QdxrFaMKkXAQAAAAABJRU5ErkJggg==\n",
       "\" style=\"display:inline;vertical-align:middle;\" /></a>"
      ],
      "text/plain": [
       "{lambda:[(_a_{1}, .._a_{_b}.., _a_{1}) -> \\# (_a_{1} ~ .._a_{_b}.. ~ _a_{1} ~ (0 + 1))], ${_{-}a}_{1}, \\ldots, {_{-}a}_{1}$:(1)}"
      ]
     },
     "execution_count": 28,
     "metadata": {},
     "output_type": "execute_result"
    }
   ],
   "source": [
    "DecimalSequence(one, Add(zero, one)).inner_expr().operands[:1]"
   ]
  },
  {
   "cell_type": "code",
   "execution_count": 29,
   "metadata": {},
   "outputs": [
    {
     "data": {
      "text/html": [
       "<span style=\"font-size:20px;\"> <a class=\"ProveItLink\" href=\"../__pv_it/demonstrations/ecb6a48d4579b6f5c6f25a3ce5c8405ef17a82d80/proof.ipynb\" style=\"text-decoration: none\">&nbsp;&#x22A2;&nbsp;&nbsp;</a><a class=\"ProveItLink\" href=\"../__pv_it/demonstrations/0b138125532a2460ae74e4560c01ed92af9630ef0/expr.ipynb\"><img src=\"data:image/png;base64,iVBORw0KGgoAAAANSUhEUgAAAKIAAAAUBAMAAAD8T/tAAAAAMFBMVEX///+YmJjc3NwQEBDMzMyI\n",
       "iIgiIiK6urpmZmZ2dnaqqqoyMjJUVFTu7u5EREQAAACNSvXSAAAAAXRSTlMAQObYZgAAAfxJREFU\n",
       "OMuNlTFLw0AUx/+JNrapKUWXqoN1cXJwEBxE7AcQWjcHweKog07iZgVBBAeXglCHoiA4KSoqnEPR\n",
       "ycmC4KJIdRZxEkUF30vatJdeog/ujrt398t77969AK7ocTRKH3xkh5qZRJDEYJVoeJQWrQqQ70op\n",
       "trcz7TKQeA9zk4Yjarvl2mI0iWjRmvFsNUfpW4f2GShUTgfsI7wAaDlY1zcuMQF0AoXq7owzPmz/\n",
       "UJ+nFsl4gLbK0QNrMKg32Jlel0jWvQAHZYkIjU/cclAGvTbaKs0hZm0f+tFI1LPAN7BcVBCj5BHO\n",
       "AogUl30aJiViiGLwQcSMghjJUbcVQKTtqzQ8ScRYHPonkFYRNb6aHp4WBMu5TCyI4znxJSqYlYhG\n",
       "ETrZmN5UEE2KCPYCbDSgczoOS8SWBdfriBCnI0KU3GOtb9SlA4gD0OIqIt/Mgepm/iROIMaJ0+Q1\n",
       "Xt25TGxjrxfrcbzwxvFdzM9RHJtuRpHh3pvxsfEQS6ilw3SNyBliFK0hDzHEJ8J8Xeteoq2yO3rT\n",
       "a6i6sTF2Xi1A7JmVn0rJxPDV1wplOK+eeIC2ytGHU8ii9grrItUIU3rFd/wssv6Vh5KnYschJy0n\n",
       "pNJWbpwpK0WDjCPkePosF03fmupTzerSjXbHguaK61Ogk02f95H//hU6OET+f4VfaMykPNcfqsYA\n",
       "AAAASUVORK5CYII=\n",
       "\" style=\"display:inline;vertical-align:middle;\" /></a></span>"
      ],
      "text/plain": [
       "|- \\# (1 ~ (0 + 1)) = 11"
      ]
     },
     "execution_count": 29,
     "metadata": {},
     "output_type": "execute_result"
    }
   ],
   "source": [
    "DecimalSequence(one, Add(zero, one)).auto_reduction(assumptions=[InSet(one, digits), InSet(zero, digits)])"
   ]
  },
  {
   "cell_type": "code",
   "execution_count": 30,
   "metadata": {},
   "outputs": [
    {
     "data": {
      "text/html": [
       "<strong id=\"List2\">List2:</strong> <a class=\"ProveItLink\" href=\"../__pv_it/theorems/658c13fb0d6b861b91185b5a68843d8d3b2b45fd0/expr.ipynb\"><img src=\"data:image/png;base64,iVBORw0KGgoAAAANSUhEUgAAAKAAAAAUBAMAAAD4uit9AAAAMFBMVEX///9UVFTMzMx2dna6uroQ\n",
       "EBCqqqqIiIgiIiJmZmYyMjJERETu7u6YmJjc3NwAAAC+aOQFAAAAAXRSTlMAQObYZgAAAl1JREFU\n",
       "OMutVc9rE0EU/pJt2iT7IxUPgoLmPzDgIe1BbA+F3upBrKCFeFMUslQh5BYpiKKHQDAFDxrFi5cS\n",
       "Dz14sOxBKEkPu7eAtLDeerOIFCyx+Gbmjbt2jb10YGc+vpn35ns/JgGcACc2xkOatmKEtd5Inkqv\n",
       "NxNcrx4eYbZuiPk8fWtxOt/8x72FSoI6XU1w78XUB+zmMbbAgneUsX58TpzaF5PhIhv+35bGVDJX\n",
       "ewlqbChvuordY2x1MH8NozGKeoc6zU5r9Zai39TafKBcK8rVaS3vc5xlXQn7xVOdqLu1e5z99mCD\n",
       "lml8onkuzKsYrAPPV0a7FbMjwVxoDpXJfOiUdKpdravr/FTIX8MpWr7gMblZQq6rcjPUZ1eQkvUR\n",
       "e8qzdR29Ivv5pkHVA+uvFnGOlju4BuSGyCo3ZOtLFTlWJfeUrtRSbVsnrKrBTaT55EtgkZaLwmGm\n",
       "C7+o23BBCst02ULszagwJ5O1S//CBNdnBc536ZBCJlF8ZSHAa9k4vs5WbK8UOfzAq30Is8mdqeo8\n",
       "L4riV3BWvkIUZihn7BlSarQnIte1WIz6kZ+CvYdMaVsUZRowXfuRAZ9ynwroQgFyk1QBAaK9iQ56\n",
       "oXXAciA56xAXPMmlOqSGrmyRRlhnlr8+RPY5odXLkACXdlzF/NlDfYdkPxEZGRNNJrnZB1OKMwMY\n",
       "ZSLexp7e/dEgQuOe7L6I+8gcN38j9uNQGg0iZNB3Ox8wl5bRG7EHSFne0M7dkSCGNul71tfcFU8U\n",
       "eTNy2I/9wNoYCWJIaBu80tzsoM0cD6HuJP8C7BC/AS9Lr6oEVpisAAAAAElFTkSuQmCC\n",
       "\" style=\"display:inline;vertical-align:middle;\" /></a><br>"
      ],
      "text/plain": [
       "List2: (a, b, c, d, e, f, g, h)"
      ]
     },
     "execution_count": 30,
     "metadata": {},
     "output_type": "execute_result"
    }
   ],
   "source": [
    "List2 = ExprTuple(a, b, c, d, e, f, g, h)"
   ]
  },
  {
   "cell_type": "code",
   "execution_count": 31,
   "metadata": {},
   "outputs": [
    {
     "data": {
      "text/html": [
       "<a class=\"ProveItLink\" href=\"../__pv_it/theorems/5afe201b9af6ebb19a143d4fea91525b2b8775a20/expr.ipynb\"><img src=\"data:image/png;base64,iVBORw0KGgoAAAANSUhEUgAAALAAAAAUBAMAAADfFKqVAAAAMFBMVEX///9UVFTMzMx2dna6uroQ\n",
       "EBCqqqqIiIgiIiJmZmYyMjJERETu7u6YmJjc3NwAAAC+aOQFAAAAAXRSTlMAQObYZgAAAn1JREFU\n",
       "OMutVc9rE0EUfsk2bZL9kYoHQUHzHxjwkHoQ20Oht3oQK2gh3hSFhCqE3CIFqeghEEyhhxrFi5cS\n",
       "Dz14sOxBKGkPm1tAWlhvuVlECpZYfPPem2zSdeulA9/Mxzezb96892YWwOkA4azauM+AXYFu1mY1\n",
       "vDq+WQtp7Yp/Qtm9q/rLgg3BoKVr//AjUwhJ54sh7aPqdhh2jXGqDYB596Ri/foaWnWoOqNESOJ5\n",
       "kv7pNrBNhWN5EJLG+rTjLUIPae8/NvQhR5pRjZI+ECrYKzj11fs8/a7ckIX5cpZGp750KOfP64zZ\n",
       "b17qAD4qP5bsNLpbOFwnfMFeYdZP89msI9fjj3sFs0lk1jf7/Omc7+R0Kkraz5bzm5m3Aedw+EZ4\n",
       "gT3CWoRUi2PX198sQ4zyqOZ4B+sOtLNi74cmRRfkPMUsXMLhIeE29ohUH5JsDm145FVKvKQ59jO2\n",
       "WN7TAS1qcg/isnINYAGHqwQxnGiBl9VlPE+OJlrypZqb5uNPhnMc/wMTksdlcH4ODEso0ElxIdOB\n",
       "t1Rwno7m0FwuMPxJRvsYzJpUNtfFHEGS5xXgIt1wyExjTGUHINeDORURnbOFoJ7lStkHkMjt6eRx\n",
       "bYBZsp8b4GGOYh10QJHUJGZKkWBuoglt3zoS94A06xiuuKTFmugVbl0HBfYbrAtL359B8jWy1RtA\n",
       "BK7tl1gZzEFlH4+xoiI1poqTtJmnU6yZHTDyKLwnjF7pJ9EkYOMuVW+gfRZNLlGVMPoI5aJJwAzE\n",
       "g3RHtDhFxRi62PwIgbqEW3qzUiQZYtuIVztau+mqotgODMuzOfLQ2xBJhpjytbuutZluQzRp2tOz\n",
       "/jXZPuEv0MXHZ85s2T0AAAAASUVORK5CYII=\n",
       "\" style=\"display:inline;vertical-align:middle;\" /></a>"
      ],
      "text/plain": [
       "((a, b, c, d, e, f, g, h))"
      ]
     },
     "execution_count": 31,
     "metadata": {},
     "output_type": "execute_result"
    }
   ],
   "source": [
    "ExprTuple(List2.entries)"
   ]
  },
  {
   "cell_type": "code",
   "execution_count": 32,
   "metadata": {},
   "outputs": [
    {
     "data": {
      "text/html": [
       "<strong id=\"test\">test:</strong> <span style=\"font-size:20px;\"> <a class=\"ProveItLink\" href=\"../__pv_it/demonstrations/2b7ddd41fe05a89a4a5f004518db0ab1eb8400e80/proof.ipynb\" style=\"text-decoration: none\">&nbsp;&#x22A2;&nbsp;&nbsp;</a><a class=\"ProveItLink\" href=\"../__pv_it/demonstrations/0004e78aaad5538bc8d6fb0604de80fa816be6890/expr.ipynb\"><img src=\"data:image/png;base64,iVBORw0KGgoAAAANSUhEUgAAAQsAAAAVBAMAAACj0NY+AAAAMFBMVEX///9UVFQQEBCqqqoiIiJm\n",
       "ZmYyMjJERESYmJjc3NyIiIi6urp2dnbu7u7MzMwAAAADGpxCAAAAAXRSTlMAQObYZgAAA11JREFU\n",
       "SMe1Vk1IVFEUPuObn+e8eTYYhLjNEKnAZQnRK4MwCqZFphI6LRxqEUlQVBDNIqHc+BYJLQKl0kJC\n",
       "ZtEqiCbKCp3FUwwhCmcXLURFkkpHO/dv3p1592mBXZg75333nHu/e865516Yh//T/nHeSdo/2EYC\n",
       "B6V55VaZ3sSAqps9Ejpbp1D9tscDmR3t5cgVC/uAraYxC1VHzuVy3rmJAVUP2zLcraK87LV+68HC\n",
       "CUImqaZxEfSNjY2lUlDbzwyoeu8WKwIYBQ809ypTDu1oJP2EkoaegBDuNs6+mtjf1JsCM6DqLVus\n",
       "CBCzPNBhr9Zrh/TTShpBG2I4T76EBugFZkDUK60tVuTuLm3vwAcKZ1Q07tP+JShooAFRj5I1BsYf\n",
       "OWyW2uFGTmh0jAkDEwsc+jIq8rK37oyIb8djnuLdB56i32MJFY1h2veoaKABUY/gUTIa4DKP+SXz\n",
       "FzthzXCNhakBbjOKRgs8FPP+FsIHGGS+MlfsAMZeTwoasRRtdPQ6BdIqGmhA1IO41ek0nOUxd/gK\n",
       "wSzspAKOtbKx6UazU5SBdeGMAk9N0NYhgNvVLJU3mukWQUUDDYh6BQazy4ETbKQVzDUqdDlcF4WT\n",
       "TKrueyZAbZELFT2wwMBQEiqGAKoWVTT2km6Eiu9TqaOp1PkiDTQQNOrBXBdlw2BHtl7MgGOrTFpS\n",
       "ZPJCGp6AcN9gflMax5Xe4DQwKOgAsb2fEKJHlvsE5LE1d9oIrwDQb8NVnlUZelYMqyw34sWgLClp\n",
       "GJZIUXMZAkl2G6ySXGB8QKM03DGMTVTEYsitH7zg9QPs0x0pReVGUrTqB2ySouSE3YQ78ay5gl81\n",
       "uDkqnAazkwru2AiY7TCX5FtnanN2oMCwXbgHLFGhrIrGOMmntXIaUUIDDSa5F6dGv9dm4Bjm2qfn\n",
       "6AwixD72McEdi7bdxRieohWTdAQzanMWw3DDOfRROK+i8YKcrt1lNELVK23UoLSYa46vIEmHWLUo\n",
       "YpEEx1ib8SvmUmuSP2bKr7aYvyBJ6HQtfkFgeRqfrDur79Umta/yh7jaIoLpZ/AVXMlExwdvJTkW\n",
       "K5CDYg65rw6fi/6G3zupeNEXnz3FB5JXcCWd/IZtjhk15ArSpZPs++zxacRgbNsfgfdoP/b3j0A0\n",
       "+ANmDhM7lwtFZwAAAABJRU5ErkJggg==\n",
       "\" style=\"display:inline;vertical-align:middle;\" /></a></span><br>"
      ],
      "text/plain": [
       "test: |- |(a, b, c, d, e, f, g, h)| = (7 + 1)"
      ]
     },
     "execution_count": 32,
     "metadata": {},
     "output_type": "execute_result"
    }
   ],
   "source": [
    "test = tuple_len_incr.instantiate({i: num(len(List2.entries) - 1), a: List2.entries[:-1], b: List2.entries[-1]})"
   ]
  },
  {
   "cell_type": "code",
   "execution_count": 33,
   "metadata": {},
   "outputs": [],
   "source": [
    "from proveit import Lambda"
   ]
  },
  {
   "cell_type": "code",
   "execution_count": 34,
   "metadata": {},
   "outputs": [
    {
     "data": {
      "text/html": [
       "<span style=\"font-size:20px;\"> <a class=\"ProveItLink\" href=\"../__pv_it/demonstrations/a4bbf8d72a01a39d4f358c35fc9c2171120a35450/proof.ipynb\" style=\"text-decoration: none\">&nbsp;&#x22A2;&nbsp;&nbsp;</a><a class=\"ProveItLink\" href=\"../__pv_it/theorems/620d15c4674ca0a2bc07116ce5eabe45dcca68740/expr.ipynb\"><img src=\"data:image/png;base64,iVBORw0KGgoAAAANSUhEUgAAANoAAAAVBAMAAADSje2JAAAAMFBMVEX///9UVFQQEBCqqqoiIiJm\n",
       "ZmYyMjJERESYmJjc3NyIiIi6urp2dnbu7u7MzMwAAAADGpxCAAAAAXRSTlMAQObYZgAAAtxJREFU\n",
       "SMe1Vk1IVFEU/t48nR/fuzYUhLhpY4hQMJugFtGD2hgF0yJLC30bo40kgVJBNIuEcuPbCC0Ch8qK\n",
       "QWwWbaMBi8JcvKQIJBhbRYvQEszSse6v7zVzH9PCLszl4zv3ne+cc8+9d/AV/2fo/b7h851t1DkU\n",
       "8qtVI4Mh5kObZtnnvTUU6emuZi47dDY8rdrC1DnJxr0w36+LaqWGMWZquHiWabpatSyMjGBH6jgG\n",
       "rEoNVX5WrKZ2ZNg8q1MzcywMznbWcQzYTg11pHbVc5/N8zo1exDE4WzKqeNY1ujv8QIRVLyoUbN+\n",
       "+HaOs03M1fjLe75Y3DqZkbqFaQHGZ5ck9bGgWmOk7bQqUs992WX9Bx/RDrCzun3bszYj2ESOanfg\n",
       "ktyPAfKTg9RRDIu4OnBDRGJ14q76/JcCrzAhMiernpEGkq5Ssy/wwa327wHBNtDA53M4I/fDl44a\n",
       "StjFAbV1Cdt8hvRKjdSmSq0iuwPmJgyapenocjvw9HuRszFa6D4fxwXdBbLBQZ8vF1JwQqCdo48V\n",
       "aS5LEBvEkiAbXcTyQPOyRi2ZxpP9W2rtIJvquFniDLSrldS2LtA3TTMt5fAAqhgTixFqMR/NK6qS\n",
       "NB0V7Boa+RmQGSJs2wg+T6QlGPMwJHe8yLvScqr2ja0s01+L6hKyAsMVN9w62ychC5OrBTZa0CYV\n",
       "bD44d/I+GAP2Jf1Ql4Rzo816lbOsZa/hZrpEVnkEQ+DgFEgvB4HtIUg3yq5MRKCyZ1QE2k1Dten2\n",
       "lXTnbQDJPGdZ6m8LX1qLOEa3+/0UTY0B+/WoAIGt6ewtWviT/N6ARFbrnCPQFWCOZhxf1PXkp/Pq\n",
       "Vt66uUw/EoTQYXHKFEIiqxAf7+q8OFu3sh0NQohWykxflAiLvKilwOVsHbWEenEWEAkCRGi1Gq67\n",
       "EtkV1pIkH7xy7r++pjlEggAl2W/Sk8hqYddqMnQ0vGi16W3/p3A75Ldq/AEIX+yDClWgCwAAAABJ\n",
       "RU5ErkJggg==\n",
       "\" style=\"display:inline;vertical-align:middle;\" /></a></span>"
      ],
      "text/plain": [
       "|- |(a, b, c, d, e, f, g, h)| = 8"
      ]
     },
     "execution_count": 34,
     "metadata": {},
     "output_type": "execute_result"
    }
   ],
   "source": [
    "Equals(Add(seven, one), eight).sub_right_side_into(test)"
   ]
  },
  {
   "cell_type": "code",
   "execution_count": 35,
   "metadata": {},
   "outputs": [
    {
     "data": {
      "text/html": [
       "<span style=\"font-size:20px;\"> <a class=\"ProveItLink\" href=\"proofs/add_7_1/thm_proof.ipynb\" style=\"text-decoration: none\">&nbsp;&#x22A2;&nbsp;&nbsp;</a><a class=\"ProveItLink\" href=\"../__pv_it/theorems/50aee7e54f7296037830b29bddaa35ebc1732eaa0/expr.ipynb\"><img src=\"data:image/png;base64,iVBORw0KGgoAAAANSUhEUgAAAGEAAAAUBAMAAABvx07iAAAAMFBMVEX///9UVFTMzMx2dna6uroQ\n",
       "EBCqqqqIiIgiIiJmZmYyMjJERETu7u6YmJjc3NwAAAC+aOQFAAAAAXRSTlMAQObYZgAAAU9JREFU\n",
       "KM9jYOC7wIAd5OEQZzjNwNQ42dgYU4LxAboIT7mlA5Bax8D7////j6hybDFA+QXoOjgZGMQYGHgn\n",
       "MHACDROAiKVDqIOGf4CkObqOXAaGUwwMHA8YmBkYmBVQdDDwgnQcRddhzcBwgoHhBZjtzoBFB5cD\n",
       "mg7/PQy2DAyVYPYGbDqYJ6CHxf/LCQwMe0FM5gvYdPCCvc68CgzAuu1/HWBgaAOxzjNg08HWgGYH\n",
       "25T+EAaGEBCzCixgtWpV66pVC+E6mD6g6bjIwP71AERHN1Y7MHQAI0k/AeKqj1h1sDQg+QMYYTxA\n",
       "ExgvgH3O9JMBt8+RQBwDA/cDBkuQjz6j62AH6eA0QNPhdYDhOgODB5DFF4amg1P011xgDCqg6WCS\n",
       "BKVEDpQUmo7MOYE9sfOiROwZZI45jvyxD1fGwUzt8ByFA3A/wCGBM9fewy4MAAtzWjEsUkeYAAAA\n",
       "AElFTkSuQmCC\n",
       "\" style=\"display:inline;vertical-align:middle;\" /></a></span>"
      ],
      "text/plain": [
       "|- (7 + 1) = 8"
      ]
     },
     "execution_count": 35,
     "metadata": {},
     "output_type": "execute_result"
    }
   ],
   "source": [
    "Add(seven, one)._integerBinaryEval()"
   ]
  },
  {
   "cell_type": "code",
   "execution_count": 36,
   "metadata": {},
   "outputs": [
    {
     "data": {
      "text/html": [
       "<span style=\"font-size:20px;\"> <a class=\"ProveItLink\" href=\"../__pv_it/demonstrations/c0a4d391b3914c5704b916292a7b091cd72581f40/proof.ipynb\" style=\"text-decoration: none\">&nbsp;&#x22A2;&nbsp;&nbsp;</a><a class=\"ProveItLink\" href=\"../__pv_it/demonstrations/ce0f1229b65267ec7028bda78f052b6da80b2be60/expr.ipynb\"><img src=\"data:image/png;base64,iVBORw0KGgoAAAANSUhEUgAAASQAAAAVBAMAAAAdho5jAAAAMFBMVEX///9UVFQQEBCqqqoiIiJm\n",
       "ZmYyMjJERESYmJjc3NyIiIi6urp2dnbu7u7MzMwAAAADGpxCAAAAAXRSTlMAQObYZgAAA4BJREFU\n",
       "SMfFVktoE0EY/tNt3jsmeKg1eBBErKKwHoR6kEbwgaIQFNQWwfRQT4K1IkpPe1BoBemKCkUPTdUg\n",
       "RCyL9Cg0gi9qD9tiPdTD5iooLRSK2KY4791kN82e6hxmP/7HzDf/fLMz8Bv+T9tiNXR9pf3oJpI5\n",
       "THvV3JgS6ndZ0EDWZ1EDOY9tvmjUGtyZ2xoOFjKCUIrUjB3J+cSlNI9pR1e9zZXZ3nAwlPenpBzg\n",
       "HaV0r9nsAFOevUerPwLw9jFN+1KafV/lHaV0qsnsuH3wWJSlALz9THP+VYpVeUcoxbNNZsetz2NR\n",
       "swF4+5kiZnNKCbLfTz4+5wvqLZ0XJS5V6Dd+eWKZ79a00HTs3HEuE6XnBT8efZ2vmBcVC3Ipnd0U\n",
       "vNv+dLzwaxwzUXPNKUV1gOReuM5nXbFsNvBjLUqlCG+NaJU5J414WahEzPoZxnI80wilWQWTO/lg\n",
       "y4lnfygq3y6gv6aC7bG8pPTpKml9XkqtWIJzOlzki66K2c5AiIoTdUCYcUO7YL7CmYxVnHimYWUd\n",
       "Qqxej3g8dr5BOv2LaCcgvgYxLEAl27xKLdh9xYLTzIVHs2klwrwyBLSy2oQ6Sg/EEF3829IPi5bI\n",
       "bGGLsUQJw7vF+USrhDyhvGUpGKU9gNbln2RK43PJSW02QirtFe6iDi8ZwrxF6bq4Llszg84BDWcp\n",
       "5SCU8MahNXmoUzopGW62UA0GvCSpsjPEDf4dMeAWjzMlT+G0zTFTFh9TnjIsSGbrtNTrK2+0DKE8\n",
       "u31SJtYO5wa0XLYGbYrB6wBC1fucDeTHcQRgf8xiqlaFydbYMlrKhPKFuOaWd8MqkVM5CHfTZbRC\n",
       "9KJHc2DjtHAaa5mAaCF2VKWmRB7mDRqFf97kiBHCRqjKUBvAKotLLo3SL77qUhU2LK4WJn8NUw2X\n",
       "fSklqrwjlEglZ0s/MyYcw2tEPV9wOc5i+8xQgQKUmXj4mpmKQ7h0JArPCgwlMzNZhu7gFJYB7Tr7\n",
       "3oREj0WdkzgZ4NAwFmvFj1J468ol1tVeKIr8/R/xAAfRKLVfxuOqujJlnJOp1Nwq34K8BOS1q0p7\n",
       "2QMcRKIORnSOKvQ4OpkyzslUA1y7dZSi4nGyIK/5Qj1wIRJ18jtHapUeuAWoj3PiXc4NHicNnnC6\n",
       "lL8HuBCJut/NUbK9qLkzZZwT73LK9W9AaWLTH7rD7HxVGvn/AWFhONRaY/p7AAAAAElFTkSuQmCC\n",
       "\" style=\"display:inline;vertical-align:middle;\" /></a></span>"
      ],
      "text/plain": [
       "|- |(a, b, c, d, e, f, g, h, i, k, m)| = 11"
      ]
     },
     "execution_count": 36,
     "metadata": {},
     "output_type": "execute_result"
    }
   ],
   "source": [
    "# Able to compute the length of 11\n",
    "Len(ExprTuple(a, b, c, d, e, f, g, h, i, k, m)).evaluation().prove()"
   ]
  },
  {
   "cell_type": "code",
   "execution_count": null,
   "metadata": {},
   "outputs": [],
   "source": []
  },
  {
   "cell_type": "code",
   "execution_count": 37,
   "metadata": {},
   "outputs": [
    {
     "data": {
      "text/html": [
       "<span style=\"font-size:20px;\"> <a class=\"ProveItLink\" href=\"../__pv_it/demonstrations/2723aa4ca352da1d13ded513f5e8f68b2b13ab950/proof.ipynb\" style=\"text-decoration: none\">&nbsp;&#x22A2;&nbsp;&nbsp;</a><a class=\"ProveItLink\" href=\"../__pv_it/demonstrations/1196918c8ebc3be382457b753b19cbac258b9ab50/expr.ipynb\"><img src=\"data:image/png;base64,iVBORw0KGgoAAAANSUhEUgAAAHUAAAAUBAMAAABBgm9wAAAAMFBMVEX////MzMxUVFR2dna6uroQ\n",
       "EBCqqqqIiIgiIiJmZmYyMjJERETu7u6YmJjc3NwAAACgK8IjAAAAAXRSTlMAQObYZgAAAStJREFU\n",
       "OMtjYOC7wIAHsD3AJ3saSjPXGmKT1sOndx0Qpx5gYFjGcALdDpDwKUwdIGEwwTuBgUdZ/wADbwAD\n",
       "8wKoOwvAFFiYgbkATSdYGCLHAbLs/gEGbgUGtj8oesHCDDwBGPaChMHECyiPX4GB5RsWvQxLcOut\n",
       "hPLOT2Bg+Y5NryVuvXuhvPcGDIxY9d4CM61WgcBKVL1tML0TGBg/Y9ObgdveEDQ3M69atSJq1SoF\n",
       "uCJ5wnqBYcWGNazw6IW5mXsDAy+2OGLwQPLvIuxhhZk2UMIKq73gKKgHO+CoAJpekDDDZAy9YGEQ\n",
       "AXLSpPiVFxgOlysyoOoFCzMsRNcKFgYTHJiZjA05CfM04M5GwLyADngOIHEw8gIy2MeAF5wiJu+T\n",
       "YzT+MocXT5kDAD86knUnK45JAAAAAElFTkSuQmCC\n",
       "\" style=\"display:inline;vertical-align:middle;\" /></a></span>"
      ],
      "text/plain": [
       "|- (10 + 1) = 11"
      ]
     },
     "execution_count": 37,
     "metadata": {},
     "output_type": "execute_result"
    }
   ],
   "source": [
    "Add(num(10), one).evaluation()"
   ]
  },
  {
   "cell_type": "code",
   "execution_count": 38,
   "metadata": {},
   "outputs": [
    {
     "data": {
      "text/html": [
       "<span style=\"font-size:20px;\"> <a class=\"ProveItLink\" href=\"../__pv_it/demonstrations/2723aa4ca352da1d13ded513f5e8f68b2b13ab950/proof.ipynb\" style=\"text-decoration: none\">&nbsp;&#x22A2;&nbsp;&nbsp;</a><a class=\"ProveItLink\" href=\"../__pv_it/demonstrations/1196918c8ebc3be382457b753b19cbac258b9ab50/expr.ipynb\"><img src=\"data:image/png;base64,iVBORw0KGgoAAAANSUhEUgAAAHUAAAAUBAMAAABBgm9wAAAAMFBMVEX////MzMxUVFR2dna6uroQ\n",
       "EBCqqqqIiIgiIiJmZmYyMjJERETu7u6YmJjc3NwAAACgK8IjAAAAAXRSTlMAQObYZgAAAStJREFU\n",
       "OMtjYOC7wIAHsD3AJ3saSjPXGmKT1sOndx0Qpx5gYFjGcALdDpDwKUwdIGEwwTuBgUdZ/wADbwAD\n",
       "8wKoOwvAFFiYgbkATSdYGCLHAbLs/gEGbgUGtj8oesHCDDwBGPaChMHECyiPX4GB5RsWvQxLcOut\n",
       "hPLOT2Bg+Y5NryVuvXuhvPcGDIxY9d4CM61WgcBKVL1tML0TGBg/Y9ObgdveEDQ3M69atSJq1SoF\n",
       "uCJ5wnqBYcWGNazw6IW5mXsDAy+2OGLwQPLvIuxhhZk2UMIKq73gKKgHO+CoAJpekDDDZAy9YGEQ\n",
       "AXLSpPiVFxgOlysyoOoFCzMsRNcKFgYTHJiZjA05CfM04M5GwLyADngOIHEw8gIy2MeAF5wiJu+T\n",
       "YzT+MocXT5kDAD86knUnK45JAAAAAElFTkSuQmCC\n",
       "\" style=\"display:inline;vertical-align:middle;\" /></a></span>"
      ],
      "text/plain": [
       "|- (10 + 1) = 11"
      ]
     },
     "execution_count": 38,
     "metadata": {},
     "output_type": "execute_result"
    }
   ],
   "source": [
    "md_nine_add_one.instantiate({m:one, k:zero, a:ExprTuple(one), b: zero})"
   ]
  },
  {
   "cell_type": "code",
   "execution_count": 39,
   "metadata": {},
   "outputs": [],
   "source": [
    "#md_nine_add_one.instantiate({m:one, k:zero, a:ExprTuple(one), b: zero}, assumptions=[InSet(one, digits), InSet(zero, digits)]).inner_expr().rhs.operands[-1].evaluate()"
   ]
  },
  {
   "cell_type": "code",
   "execution_count": 40,
   "metadata": {},
   "outputs": [
    {
     "data": {
      "text/html": [
       "<span style=\"font-size:20px;\"> <a class=\"ProveItLink\" href=\"../__pv_it/demonstrations/c0a4d391b3914c5704b916292a7b091cd72581f40/proof.ipynb\" style=\"text-decoration: none\">&nbsp;&#x22A2;&nbsp;&nbsp;</a><a class=\"ProveItLink\" href=\"../__pv_it/demonstrations/ce0f1229b65267ec7028bda78f052b6da80b2be60/expr.ipynb\"><img src=\"data:image/png;base64,iVBORw0KGgoAAAANSUhEUgAAASQAAAAVBAMAAAAdho5jAAAAMFBMVEX///9UVFQQEBCqqqoiIiJm\n",
       "ZmYyMjJERESYmJjc3NyIiIi6urp2dnbu7u7MzMwAAAADGpxCAAAAAXRSTlMAQObYZgAAA4BJREFU\n",
       "SMfFVktoE0EY/tNt3jsmeKg1eBBErKKwHoR6kEbwgaIQFNQWwfRQT4K1IkpPe1BoBemKCkUPTdUg\n",
       "RCyL9Cg0gi9qD9tiPdTD5iooLRSK2KY4791kN82e6hxmP/7HzDf/fLMz8Bv+T9tiNXR9pf3oJpI5\n",
       "THvV3JgS6ndZ0EDWZ1EDOY9tvmjUGtyZ2xoOFjKCUIrUjB3J+cSlNI9pR1e9zZXZ3nAwlPenpBzg\n",
       "HaV0r9nsAFOevUerPwLw9jFN+1KafV/lHaV0qsnsuH3wWJSlALz9THP+VYpVeUcoxbNNZsetz2NR\n",
       "swF4+5kiZnNKCbLfTz4+5wvqLZ0XJS5V6Dd+eWKZ79a00HTs3HEuE6XnBT8efZ2vmBcVC3Ipnd0U\n",
       "vNv+dLzwaxwzUXPNKUV1gOReuM5nXbFsNvBjLUqlCG+NaJU5J414WahEzPoZxnI80wilWQWTO/lg\n",
       "y4lnfygq3y6gv6aC7bG8pPTpKml9XkqtWIJzOlzki66K2c5AiIoTdUCYcUO7YL7CmYxVnHimYWUd\n",
       "Qqxej3g8dr5BOv2LaCcgvgYxLEAl27xKLdh9xYLTzIVHs2klwrwyBLSy2oQ6Sg/EEF3829IPi5bI\n",
       "bGGLsUQJw7vF+USrhDyhvGUpGKU9gNbln2RK43PJSW02QirtFe6iDi8ZwrxF6bq4Llszg84BDWcp\n",
       "5SCU8MahNXmoUzopGW62UA0GvCSpsjPEDf4dMeAWjzMlT+G0zTFTFh9TnjIsSGbrtNTrK2+0DKE8\n",
       "u31SJtYO5wa0XLYGbYrB6wBC1fucDeTHcQRgf8xiqlaFydbYMlrKhPKFuOaWd8MqkVM5CHfTZbRC\n",
       "9KJHc2DjtHAaa5mAaCF2VKWmRB7mDRqFf97kiBHCRqjKUBvAKotLLo3SL77qUhU2LK4WJn8NUw2X\n",
       "fSklqrwjlEglZ0s/MyYcw2tEPV9wOc5i+8xQgQKUmXj4mpmKQ7h0JArPCgwlMzNZhu7gFJYB7Tr7\n",
       "3oREj0WdkzgZ4NAwFmvFj1J468ol1tVeKIr8/R/xAAfRKLVfxuOqujJlnJOp1Nwq34K8BOS1q0p7\n",
       "2QMcRKIORnSOKvQ4OpkyzslUA1y7dZSi4nGyIK/5Qj1wIRJ18jtHapUeuAWoj3PiXc4NHicNnnC6\n",
       "lL8HuBCJut/NUbK9qLkzZZwT73LK9W9AaWLTH7rD7HxVGvn/AWFhONRaY/p7AAAAAElFTkSuQmCC\n",
       "\" style=\"display:inline;vertical-align:middle;\" /></a></span>"
      ],
      "text/plain": [
       "|- |(a, b, c, d, e, f, g, h, i, k, m)| = 11"
      ]
     },
     "execution_count": 40,
     "metadata": {},
     "output_type": "execute_result"
    }
   ],
   "source": [
    "Len(ExprTuple(a, b, c, d, e, f, g, h, i, k, m)).evaluation()"
   ]
  },
  {
   "cell_type": "code",
   "execution_count": 41,
   "metadata": {},
   "outputs": [
    {
     "data": {
      "text/html": [
       "<span style=\"font-size:20px;\"> <a class=\"ProveItLink\" href=\"../__pv_it/demonstrations/e6ce9c812667dfebc8a024035c0e6fa99efceae90/proof.ipynb\" style=\"text-decoration: none\">&nbsp;&#x22A2;&nbsp;&nbsp;</a><a class=\"ProveItLink\" href=\"../__pv_it/demonstrations/148613bb64f96414be8c5afdbadd99b7bbcb96ad0/expr.ipynb\"><img src=\"data:image/png;base64,iVBORw0KGgoAAAANSUhEUgAAAZAAAAAVBAMAAACam6UgAAAAMFBMVEX///9UVFQQEBCqqqoiIiJm\n",
       "ZmYyMjJERESYmJjc3NyIiIi6urp2dnbu7u7MzMwAAAADGpxCAAAAAXRSTlMAQObYZgAABF1JREFU\n",
       "WMPFV11oVEcUPrt3s3tv9k6yULBxn4QKWmhhHyzUB3FDS8FCaRS1NIS6LymFak0FtS0U9qERLRRv\n",
       "KYL0Jde2izRtl0XyWMmCFYv1YStNW3zJvogUlGwJiJpscGbOzJ25P7NuUrADd+/ZM2fO/b4558w9\n",
       "F+7B/zOGWhHFfwNyD37j9/NPkcJO/us2IuoNArE8sZqvJ1Pa1F9bkzbw2FhURcbfjmqOlQP5WaOz\n",
       "lGcmEgLS39isE8l6+tRkkv1wKQboynJUlVVsR4zOSMVMJAykr/GnTmQ6NLWcZD8fzWlYvNx4Mtsk\n",
       "Z9fNRKbXn6murxHZo8/ku0n2v8Q0u/thm+TsppnInvUTIVsUEaccolhOsp/sg1qCKslZtmEi4pQ3\n",
       "cHi8r4gMstQ+d/Ub3M9ssSYyxJ2to+BM1EWKkOs1kcbTWw/Ig2P8W1Gjky9fxFlS82XVWNOo+nnz\n",
       "1xf8uxcofnfMRCQMxDScifEXtb9XFZFclebA83BU5P4R8hAXvAInUHXJy4kUmfOcpnDwSHq6BjNY\n",
       "5OS+lyrgFuS3CGel7+erXGqe9MmjhkX1dkUScd/lY0wSUUCGehxfl7xsB+AO4AWnFJEMjcDNKrwl\n",
       "cr8lMGaa8AwC3A4DFZSeg4W22Jc1GZCuLHJrDVII4CthD7tvtf7G87v0GjirYFMIVtkUkQDI0AFz\n",
       "kjE0U3B7P/ALYIcikqZOD7XgdTQ8CGSVC4dkhAe6jBQ/crfPfiHxd4SQnoIltKTo05hSrWGRWvvk\n",
       "gUzICqPMiA51TEQUkLyZCENDvc8BXrAUJrINyJos6zwWxDZQUBfxucOFeBkvVeE7kCGcaQdh5WP0\n",
       "oq+ID5Q50d5EEEgPIgxNO5kIjSgNgtziB4wz28PV4I3RlGftcDPwl5OcznpwXNg1gnPrQxGHFWdF\n",
       "bmSFEZ33WghSr5GClloCSA8iAk1AZC5U7GQZUhXsglZYmiIjsETFwibsaViGiS1O++p9Io60swAv\n",
       "2DwUZNnlGrsjJUg3GdGDTkkr9mhEFJBeRBBNQEQrdnYefgKfFZrkPm8ujgMX9gJ5hws53x51YZE+\n",
       "f7ACCx7X8WTj0qKX6qK0ie4C2uU75/mdlsSai5MzDUb5MKU10DQRCYBwIui9ogn8B9EoIhOKCFv1\n",
       "++w/xQa8Svdz4UcaECa4v36OAinWv/wBMm9Q09ppMQnzbD2T8sUbZZQ+Arjho91Ild9zJaj9hJP0\n",
       "oTWAl87Qd0vbREQB4RFhyzIs70ZBCMwnolFEPkhqUayWUQDYFbK6pmZzY4l2uwDiTuj4o48WhROx\n",
       "4i9G5VMSIeWkptE1C/SVpumswntyts2zLMFOHQzuuptGfNfEC0T53CGuUNOYk93zLTAKQHxNl/m0\n",
       "IiS3yw+tuJ2y1yaf0MZLIM7+f/3IsojPc28W+RVu44PvmSoYBbBB09nYcrGWYoS3ZnE7Za9NBmD7\n",
       "+bCqxojY8Rh9LFbXn/qn7hn+O9iOqDcIxMYY1h8DYWqSBtUvrygAAAAASUVORK5CYII=\n",
       "\" style=\"display:inline;vertical-align:middle;\" /></a></span>"
      ],
      "text/plain": [
       "|- |(a, b, c, d, e, f, g, h, i, k, m)| = |(a_{1}, ..a_{_a}.., a_{11})|"
      ]
     },
     "execution_count": 41,
     "metadata": {},
     "output_type": "execute_result"
    }
   ],
   "source": [
    "Equals(Len(ExprTuple(a, b , c, d, e, f, g, h, i, k, m)), \n",
    "       Len(var_range(a, one, num(11)))\n",
    "      ).prove()"
   ]
  },
  {
   "cell_type": "code",
   "execution_count": 42,
   "metadata": {},
   "outputs": [
    {
     "data": {
      "text/html": [
       "<span style=\"font-size:20px;\"> <a class=\"ProveItLink\" href=\"../__pv_it/demonstrations/c0a4d391b3914c5704b916292a7b091cd72581f40/proof.ipynb\" style=\"text-decoration: none\">&nbsp;&#x22A2;&nbsp;&nbsp;</a><a class=\"ProveItLink\" href=\"../__pv_it/demonstrations/ce0f1229b65267ec7028bda78f052b6da80b2be60/expr.ipynb\"><img src=\"data:image/png;base64,iVBORw0KGgoAAAANSUhEUgAAASQAAAAVBAMAAAAdho5jAAAAMFBMVEX///9UVFQQEBCqqqoiIiJm\n",
       "ZmYyMjJERESYmJjc3NyIiIi6urp2dnbu7u7MzMwAAAADGpxCAAAAAXRSTlMAQObYZgAAA4BJREFU\n",
       "SMfFVktoE0EY/tNt3jsmeKg1eBBErKKwHoR6kEbwgaIQFNQWwfRQT4K1IkpPe1BoBemKCkUPTdUg\n",
       "RCyL9Cg0gi9qD9tiPdTD5iooLRSK2KY4791kN82e6hxmP/7HzDf/fLMz8Bv+T9tiNXR9pf3oJpI5\n",
       "THvV3JgS6ndZ0EDWZ1EDOY9tvmjUGtyZ2xoOFjKCUIrUjB3J+cSlNI9pR1e9zZXZ3nAwlPenpBzg\n",
       "HaV0r9nsAFOevUerPwLw9jFN+1KafV/lHaV0qsnsuH3wWJSlALz9THP+VYpVeUcoxbNNZsetz2NR\n",
       "swF4+5kiZnNKCbLfTz4+5wvqLZ0XJS5V6Dd+eWKZ79a00HTs3HEuE6XnBT8efZ2vmBcVC3Ipnd0U\n",
       "vNv+dLzwaxwzUXPNKUV1gOReuM5nXbFsNvBjLUqlCG+NaJU5J414WahEzPoZxnI80wilWQWTO/lg\n",
       "y4lnfygq3y6gv6aC7bG8pPTpKml9XkqtWIJzOlzki66K2c5AiIoTdUCYcUO7YL7CmYxVnHimYWUd\n",
       "Qqxej3g8dr5BOv2LaCcgvgYxLEAl27xKLdh9xYLTzIVHs2klwrwyBLSy2oQ6Sg/EEF3829IPi5bI\n",
       "bGGLsUQJw7vF+USrhDyhvGUpGKU9gNbln2RK43PJSW02QirtFe6iDi8ZwrxF6bq4Llszg84BDWcp\n",
       "5SCU8MahNXmoUzopGW62UA0GvCSpsjPEDf4dMeAWjzMlT+G0zTFTFh9TnjIsSGbrtNTrK2+0DKE8\n",
       "u31SJtYO5wa0XLYGbYrB6wBC1fucDeTHcQRgf8xiqlaFydbYMlrKhPKFuOaWd8MqkVM5CHfTZbRC\n",
       "9KJHc2DjtHAaa5mAaCF2VKWmRB7mDRqFf97kiBHCRqjKUBvAKotLLo3SL77qUhU2LK4WJn8NUw2X\n",
       "fSklqrwjlEglZ0s/MyYcw2tEPV9wOc5i+8xQgQKUmXj4mpmKQ7h0JArPCgwlMzNZhu7gFJYB7Tr7\n",
       "3oREj0WdkzgZ4NAwFmvFj1J468ol1tVeKIr8/R/xAAfRKLVfxuOqujJlnJOp1Nwq34K8BOS1q0p7\n",
       "2QMcRKIORnSOKvQ4OpkyzslUA1y7dZSi4nGyIK/5Qj1wIRJ18jtHapUeuAWoj3PiXc4NHicNnnC6\n",
       "lL8HuBCJut/NUbK9qLkzZZwT73LK9W9AaWLTH7rD7HxVGvn/AWFhONRaY/p7AAAAAElFTkSuQmCC\n",
       "\" style=\"display:inline;vertical-align:middle;\" /></a></span>"
      ],
      "text/plain": [
       "|- |(a, b, c, d, e, f, g, h, i, k, m)| = 11"
      ]
     },
     "execution_count": 42,
     "metadata": {},
     "output_type": "execute_result"
    }
   ],
   "source": [
    "Equals(Len(ExprTuple(a, b , c, d, e, f, g, h, i, k, m)), num(11)).prove()"
   ]
  },
  {
   "cell_type": "code",
   "execution_count": null,
   "metadata": {},
   "outputs": [],
   "source": []
  },
  {
   "cell_type": "code",
   "execution_count": 43,
   "metadata": {},
   "outputs": [
    {
     "data": {
      "text/html": [
       "<span style=\"font-size:20px;\"> <a class=\"ProveItLink\" href=\"../__pv_it/demonstrations/697b06bcc5e77599faecefb8b8ac765a6ab446c60/proof.ipynb\" style=\"text-decoration: none\">&nbsp;&#x22A2;&nbsp;&nbsp;</a><a class=\"ProveItLink\" href=\"../__pv_it/demonstrations/3e66b360f1f9ed460044c1d98c5828cbf003ccc80/expr.ipynb\"><img src=\"data:image/png;base64,iVBORw0KGgoAAAANSUhEUgAAAToAAAAVBAMAAAAk4T84AAAAMFBMVEX///9UVFQQEBCqqqoiIiJm\n",
       "ZmYyMjJERESYmJjc3NyIiIi6urp2dnbu7u7MzMwAAAADGpxCAAAAAXRSTlMAQObYZgAAA+FJREFU\n",
       "SMfFVk1oE0EUftvNf3aanrTWggURpChGT/Ug3YI/CBVSFX+KYDzUc1VE6UEWRFBBXKkHfw4NaBBb\n",
       "rEF6FLqCqNSCi1gP9bABr0oLhWIpaZ2ZN7O7SXaT3jqQ7LfvvXnzvTfvzQ78hU0frXao6iv/f7I5\n",
       "vA7yf63UmB0Z9knIVT0gvqu5Otlc0awW+GdubeDMHYoZzm7u7C3BLla1TCwXYJzJ1ok6e2tlvpnt\n",
       "jZy54eSD2R2wgbTBtxKyu9OMCMB0XXGQ1V8bCCHQmTtmgtiRzh02RG1o6UJ2x5sQoeNjnURd3EAI\n",
       "wc7c8T04dw8pNR2UFc4uqTchQsdQnUTTNxBCsDOvFEph7GIVUNY4uxSrjeSFwb2ouzR+SiZ+vMyf\n",
       "yQuTSyLrM7IVEiePiJJSB1+IrhrqeYVaUiy4UfWc5yD94el4R+vMdhS/3/aMmWi5MHZ0RCqcXdyg\n",
       "f+/MGG4VWbYdXONxNs7LluriFZw3ZSYtWVGSwGcYy4mZptKGeU13iWiWUs//oSg+As4EHEC5daNA\n",
       "VmiIeZfdp8tsDPnYTVucXYRWLtkNUcyAWpEL94PCa5rpkCbZCXNlQWpMAGaPpa+ugYI+RoU9Vb4h\n",
       "Bke/I3kYs+AhHlDZo5Bco2q9Qe768ERpoepoBSLIiTp2eH6iIl9chxlTdo8/kC56xbNlGBZsObMF\n",
       "fdgysdFd0tx2StBri3OQkFVI0K1qXQxnF8157OgaTlmeUNNZsay7voMeMm319b5gwEtENASZ0F7R\n",
       "qpGOEV80pwG63YZX8o3ZFcW3gu0sTZdIRsaAi9y3IyvMp7M8F1ekKxOuC7uSS1kqndKYXPsMK5X0\n",
       "CpFpzhg2pPWaurvkslNz8NTtCicLW1TeDJkSrTNBE3gSPR3bYNkM3V5OREPTmtqTsLEZNClysiKi\n",
       "PfT8pqxGcTtowLbl74ra3P0BeM3Zsb6OFxJ9GjjUWjHiOQ6ibbQFGPB0qTzMmWQZPxWsSRl3U6kg\n",
       "2gKwinbpxSf8ScssU7a4MrnKtjNm4RvN6KdEGaJWILu3NiT7Zwd0zo7ll3RMPpqAyAmKBr8ABzB7\n",
       "t4ASVwfFuzShh1l+0qxkGEp3zOqIbtIpOAPaDXxeg9SgjWY6O1fVcyZ/mwJ4dJvWeDmI3cC+ISO2\n",
       "vr6u137JDoUDD6mMnTYsEdBcC1Rl581Uqz5nvrcfG7lBebcAKxx4iNXU/pghUJk3tAZ1dt5MrfoT\n",
       "2OQWUMsuLm9QpBAKfGie/o79FEir8Jadh1o7z96nrH4Lu0GF3D4TEAp8iGXt/nmB0u3FrJBV23n2\n",
       "PmX1W9xswm5yM2/u9/h/qhym/w+yFFD1hJxS0wAAAABJRU5ErkJggg==\n",
       "\" style=\"display:inline;vertical-align:middle;\" /></a></span>"
      ],
      "text/plain": [
       "|- |(a, b, c, d, e, f, g, h, i, k, m, n)| = 12"
      ]
     },
     "execution_count": 43,
     "metadata": {},
     "output_type": "execute_result"
    }
   ],
   "source": [
    "Equals(Len(ExprTuple(a, b, c, d, e, f, g, h, i, k, m, n)), num(12)).prove()"
   ]
  },
  {
   "cell_type": "code",
   "execution_count": null,
   "metadata": {},
   "outputs": [],
   "source": []
  },
  {
   "cell_type": "code",
   "execution_count": 44,
   "metadata": {},
   "outputs": [
    {
     "data": {
      "text/html": [
       "<span style=\"font-size:20px;\"> <a class=\"ProveItLink\" href=\"../../../../core_expr_types/tuples/_theory_nbs_/axioms.ipynb#tuple_len_incr\" style=\"text-decoration: none\">&nbsp;&#x22A2;&nbsp;&nbsp;</a><a class=\"ProveItLink\" href=\"../../../../core_expr_types/tuples/__pv_it/axioms/000f3e451cfa51382e293a2f95fe2bb9433967c90/expr.ipynb\"><img src=\"data:image/png;base64,iVBORw0KGgoAAAANSUhEUgAAAYgAAAAWBAMAAAAodhaSAAAAMFBMVEX///8QEBCIiIhmZma6urrM\n",
       "zMxUVFQiIiJERETc3Nzu7u6qqqp2dnaYmJgyMjIAAAAcRTyBAAAAAXRSTlMAQObYZgAABGJJREFU\n",
       "WMPNV29oHEUUf8ndZu/29i5+EKQGMRoTC0oNKeiXtLQVzCcxreA/CglH/VBp64m11ih6tF9ySuGo\n",
       "YEKhMFrUkGJvrYSoYHtw64dWkAP9IGLbgzaFVghS+8Gmrfjezsze5HZmkyt+6IPZe3Pvvd33m/fm\n",
       "zRuA/5deuQveoNK6hXYt0nXwJdM+ZcrBjx8RHDXr0zi/Fxo0P6dT8mNkepqRLsy0C2DmPnzs1INw\n",
       "igBdRY3RTjF8+ImmV/UgzDI9XZEuXGk7DBdxnNCDyOFqd7WG9mvG9U8EFtMU/aIehFmmpeygcIGY\n",
       "NukmDrdXC+IXhT8pgrPrdcb1afiQo5mnB2GWackuCxfscrsYkkvk2j1aEO9EQQBcYFyfhg/Zs7Oz\n",
       "U6AHYZZpaUq6MNV2INwCPS/pQKQLJhCB/qXA4p/JyfcMIMwyLfVJF4hJDw/dH1/KVIVcvg8jXtOB\n",
       "6MTc/GxIC6LGB1q8ClDiqlEQXLZCJixK7pB0gZjN5dxfAC+Z7bhCH59Urjo3sFiGIH5eJKLdDinc\n",
       "09XNWhDn+UCLp8HBUmrxNLbe9OGh8RAEl61ANcm8K11AxnkAEkV4/imjFVeAl/nsNINrAPO6SNge\n",
       "pL2NWhDzfKCFDZ2ifh2vbYBvXZZgIYimLIb+lMy90gVkEktgY+EYMVoJBUEbwbkFMKYD0bEJHEIY\n",
       "hOeNxcXLTRBjfKCFW7dFhfzoCIMfegfdZjqFsji6oQPRUYTKaBwIoRAeE8mbZhCQWdJGogki3XgB\n",
       "E3uAcgdpbu6wAiKQwbGBaAPiDO0RLljXBlg0nSpVOA1xILjCFpG6tykyXFvZE5dFOkFqXAtihA+y\n",
       "KO3AJe9mvMmYc7/a3gQRyJy3LPzAa8t9+HJ0jEEuqB4TsiioG7viwR5sbGJABApVscTX4dO6urEV\n",
       "oo1d8arxGxu+wUJ8ZB6cwJU5qNYUECRLDFoF2N5SL9fDiwgv+EhvttHc4b5g8N99brBOzr/kckMw\n",
       "4SxQSB8v8H92w0F8DutAuOjXc7KjDEE8wYT+MLfopv11AKz9k5MHEMRRWwFBsg6vE6M5sfzVPTAQ\n",
       "5mxCBHtEukCu5/s/eYT/9TZ+zyaVfSAe9oRUSPVy+bHHycsFHYgkrmPXuZZ0evLBi3Wuv8AtsnSC\n",
       "L43COI9EcpsCgmSVcup31gICq/qh2czDxHazDs/YdhCIDIvk0vdhUn2uyJ3C6tsOqU9DWmQaVfiR\n",
       "mF8B/lBABEtdHnuWIpH+EKaZfKyxrtczWAqmmc1+MzeAVMnd6IaoSuaUq8hX0QDOLku0sAGUbWEZ\n",
       "Urigyfc3QVcLiGT+5AYCYfXA1rK1hh498MxjfXU60Ld61q7QpZI0ksf8xx/ksWeIlrbwgPjijCI3\n",
       "tOIpUzvZbMUVWot7YnnboRCmU6Z5qRLhxBLurXgpih6XWdDKS+ZLkZZKYvgxh9ij6umw7W8Pvgtn\n",
       "gsszeacMr6f9d349zfJX9a/2ekr6NNbtbecrdQ2XhbuA/gPNon1mxoL+PAAAAABJRU5ErkJggg==\n",
       "\" style=\"display:inline;vertical-align:middle;\" /></a></span>"
      ],
      "text/plain": [
       "|- forall_{i in Natural} [forall_{a_{1}, ..a_{_a}.., a_{i}, b} (|(a_{1}, ..a_{_a}.., a_{i}, b)| = (i + 1))]"
      ]
     },
     "execution_count": 44,
     "metadata": {},
     "output_type": "execute_result"
    }
   ],
   "source": [
    "tuple_len_incr"
   ]
  },
  {
   "cell_type": "code",
   "execution_count": 45,
   "metadata": {},
   "outputs": [
    {
     "data": {
      "text/html": [
       "<span style=\"font-size:20px;\"> <a class=\"ProveItLink\" href=\"../__pv_it/demonstrations/bf36e8918d1fc827260f641e08b690a6d6b4dd4b0/proof.ipynb\" style=\"text-decoration: none\">&nbsp;&#x22A2;&nbsp;&nbsp;</a><a class=\"ProveItLink\" href=\"../__pv_it/demonstrations/a4023157d364211778fd9f3bdc8d48cc18bc8e7c0/expr.ipynb\"><img src=\"data:image/png;base64,iVBORw0KGgoAAAANSUhEUgAAAX0AAAAVBAMAAABYhyPhAAAAMFBMVEX///9UVFQQEBCqqqoiIiJm\n",
       "ZmYyMjJERESYmJjc3NyIiIi6urp2dnbu7u7MzMwAAAADGpxCAAAAAXRSTlMAQObYZgAABG1JREFU\n",
       "SMfNV09oFFcY/zazu7O7M5MNHjSmPQjSIkFhlR70ULKCVQoWQhXREOgKzV4KEiOizWlBWqIgmaAH\n",
       "rYcs2CBEGhbxWHAEtSV6mIrxYA+z0HOJIIRKWPH73vfe/NmZ3Ww8tH2wb7753vfn974/b9/A3/C/\n",
       "Gf3uByg9FfONfx+tcnkAf5pNlNnoKJQ8Dij81mSIa02VE2IzNRrjrSzYUUZYc1sXYxGXKTKyPRl/\n",
       "BFd8kKrAn40AyY4myBZLMdbHI+28kOZgN2Nhl1YFp5fJ+ElI2wNyigzikKrA/8NGUAEexIrTWv+z\n",
       "h00mGou4XCbo9UT8KPTHw5acGHadn8xZlvi/3AAqjkcxjva6h00mG4u4fE6x2JGIn4RyLTWF8TPn\n",
       "OePPlzeAimMixjHLPWwy2VjEZZZgf5eEXwh1w4+qhL9ANZofH5NFdnrxmErtYpMNjS+9kUWzrJo2\n",
       "9/UXsrS1sduyzyb23+FVa6Hu73v/KUEYD28uDvUvf8Rscvnr9p9IzCQzj5PwC1zd8KMq4ddrON2z\n",
       "s1wQ1prrMYrrJb0iiHu2Lg3ct/OOqmxl6jeYH5WadmqAc2PskPt9U7j1D7P0afDuwj7mk0vnQt16\n",
       "i0jIx48+/idVGhNKqCt+VCX8aewxaxdkOIpaS0E7CinRfbTGG7F2wkpTWpiXBMlzk2rvIMU2rkl5\n",
       "XPzFqgnqr3QF5h2YZT667C8dhvw7FKEq+Swp/oSrK35UJfx9qJhpQZrX0LUnYpxRSrTGUU/tWryq\n",
       "rI/IZ98krLpKs49tuCo5mU+UuOs1YMRV/wvo0rLWIYcp76e0rybhJ1xh/Ga1+u2n1eqAjx9VFX5E\n",
       "4TXVif2gJIH5CD22XRyId+ZqDX6W8XL8pIzIYyc9NB3a73GA4QAaHmCpymbwx+Iv8VOeMOQyoMUa\n",
       "fCO8e6rSQ2tOYP2sfM7acF7KNfxNqUWvMa9QnaCCNN5afmlguoo1Fwyqn/tt9X+6p/oxyn7/eiXY\n",
       "yteQYgPrXW4ERCKCNSojZWE4iKs8nLC2d+dcbltTsbyS3PNu/MdDzNf8/u3DsLhOe/+GRq/9SyeY\n",
       "Xs8dNMFDW6maPiqIzAA2KxHBWqECK7a1xn+/dODQ7uxUi6mtAOssZ7y+IZ5Y7sWmIxbz61QwWYff\n",
       "yCVm5kmuCRna33gSfnGyFlpqiuAXHFR9ymkAa2hp7i6kv0Jq7HcQBDybqTPHX4OFGYzJIYqxQWVL\n",
       "lDH0rMzURVRhDRis8fMcFMZcFivTea6dtNUb1czcJew3apkzSfhJKLNl7SRPEfzMQdW2+8PnnYmA\n",
       "0gi/OakowHxJKiIXaGqRS4R4C1y+oGSWO94f2i4t9fDbi9j9zelMBBTV9t5sTVJNcTiZEJMLNM1o\n",
       "WWzm/tZ+aYxEQt3fdP8yW+9IhKhX+DvyUlJmSxw/r6BdLpAPLfpvei/3Z93uev/378/+d0IOOhIh\n",
       "iiJ/5ZSkjMGFkuRF5QL50KL/5rsUGL//oO8XUl36r78fL9NWRZwLzU1+P6Lqey8IjAUchGDgAAAA\n",
       "AElFTkSuQmCC\n",
       "\" style=\"display:inline;vertical-align:middle;\" /></a></span>"
      ],
      "text/plain": [
       "|- |(a, b, c, d, e, f, g, h, i, k, m, (n))| = (11 + 1)"
      ]
     },
     "execution_count": 45,
     "metadata": {},
     "output_type": "execute_result"
    }
   ],
   "source": [
    "tuple_len_incr.instantiate({i: num(11), a: ExprTuple(a, b, c, d, e, f, g, h, i, k, m), b: ExprTuple(n)})"
   ]
  },
  {
   "cell_type": "code",
   "execution_count": 46,
   "metadata": {},
   "outputs": [
    {
     "data": {
      "text/html": [
       "<span style=\"font-size:20px;\"> <a class=\"ProveItLink\" href=\"proofs/md_nine_add_one/thm_proof.ipynb\" style=\"text-decoration: none\">&nbsp;&#x22A2;&nbsp;&nbsp;</a><a class=\"ProveItLink\" href=\"../__pv_it/theorems/2fe8f16e078a889095e3f38c2586fb5fd66875f60/expr.ipynb\"><img src=\"data:image/png;base64,iVBORw0KGgoAAAANSUhEUgAAA+4AAAAaBAMAAADbIRsfAAAAMFBMVEX///8QEBCIiIhmZma6urrM\n",
       "zMxUVFQiIiJERETc3Nzu7u6qqqp2dnaYmJgyMjIAAAAcRTyBAAAAAXRSTlMAQObYZgAAChFJREFU\n",
       "aN7tWn1sFNcR//lu986392GakjaYJDrs4qRNIScIzYdBOVQ1/JecHYmkUiRfnFIFlKRWkaABZK6W\n",
       "mthFqNtSOShq4oVIkLoEX5qiFAmEa6dUIQYuIW1DgsshKtIkytkCQrBNaN/Hfrzd2/Od7+QGRR75\n",
       "eXfndt+bmd97M/NmFyiFfOufxgx9ZUhav6m0G/0ztvpqUfc1g3sgw5tJL3zpxtk/Ba6lRJm6T3ms\n",
       "cjXaz3HP0sNwUdwj9BDOTJ+RX9YbkMIu8l9JTb0P5edt/OSlodVu7Cn0tPSwCp/qGvPcuNVQkqYC\n",
       "ZeheQERrrNCCv1amEQZOJVh/rM9uvEV5HxfFPZQmh4g2fbh/pDcoWRygY6lldBKJcbPchF9r+ezC\n",
       "FHcydmQCtVQSBwVr4cIltBfBfkOBsnTPF9E+1ifYrVakUSStPM36Y312Yzv1M6miuLNbtk8f7OEY\n",
       "b6AGvIMcTpTTS02aL5NZ8MXy2YVXd54VHwUeI0vEgCDKj7sOj8PiinQA3rihQFm6myK6jxWehVC2\n",
       "Io3eBo7x/gYY7nQNh9LF4zt1CW9NH+5+lTdQA1InVtYG4gG+ymuyCI3msyc1vJ2uAsfJqndggTDF\n",
       "YodLD3ewFMivlq27KaL7WNVJBMcr0ugZ4JDG+tvBcA8f6e19roS87lRv7+/bpg/35/RGx6KeKFDW\n",
       "WH/jh74UPGP57IJ0yGkl5TJwu4pI3A2LSDy/hzbi6Q0FytLdFNF9rJokpIlKNMIlMlnSrD/aSD5/\n",
       "ubNzUwm413R2Pts/fbjX680IlR4q+LbBeZPO68DSRbU2xrm6RnqoIuv9osA+i4N3023rmduOqYFl\n",
       "h9X7bzxxmKSo206tRrBuAOF71zai+eBC4YmbyXqPIxRzwyKU7831nKTeTSYn5StVb0leaKy+GKTz\n",
       "lWikXCC4R1l/tBHcVwFdJeDuS6BanT7ct+oN+CO8CeLYiBbSHIxM+tByNTJqM/9VrY/KSJx85AuB\n",
       "PeH5LbusauzLrNCkWnwtrqyFtAHLtddVbxL+GN0+iJtV4uRHMghn3bDg3GM5SmfNG5boCjhlyquZ\n",
       "5Cu11ZLcfSygpx/y+Uo0ClwBWqKsP9oI7t93ZKjzoq64SzHmysogJaEM3FPspo28hXK5b+ZGcv+B\n",
       "P02TatwFyAWTTpK2e20/khBYw6TvwIEJkf0dhe1AIyR43Ahch3PEE8ar+lEVfTUhjVMrEdN5xH1Z\n",
       "NHg8jWCbG+5BZwg6ljvTnruaS1EFdJkeLqgoV8qpuyl5gbF6YpCvVKJRgKz3ln7WH23dFFOPbVvu\n",
       "10OKvPYNzEtadZs2LCgJ5vsd+5zAoBpRtwu7Cyln/vbakHE2W290HFpMqiK33qvhp5AXF4z0XqKf\n",
       "bZJ6s+hjsSj4ziOfCeyvG3uZJOQLw8NPEjdJPGfLsuF/ZNA8OEathM0dNm92cP7xBGS6cslU/PDm\n",
       "XC5pYiGPuu13klwBLtODdxY0D1PKTrNNyQuO5fDzU9dI9/O0P9qIiUMZezWuj0afPwwuw59Dmlez\n",
       "cD+K0lItIyTp80ZeqqEPNdBLMpQGdY+nhZOemBN3YsBhHfcboBD0pILDVqXQl3Bs3x/QtyY+Ifv1\n",
       "t3aYvwcneHhETeoQvXVvl8yttGfkgr33n2im1e1r0AX3bl7Smm3KtKKgebhSTtwtyd3HInldcKIi\n",
       "jUheR34WcA9kV9qkoCKHtzyv4WA0FhLqtC/KydJqJ2lx3khP0qmEGlXA/RM+L54h4AbG7X4e1PnQ\n",
       "dIP4eeUKgqOT4U5WyCH79j1Dl5OxEKz74j3ch0WMKMlXB7Xws5DHNH/ME9Bw2p6nn7OGtmPBuTy+\n",
       "n+P8BTz32WjKVBB3XSmnn7ckdxuLxJ0Uvy5fo07gtMb6k7ifR9ePyCDLmus9DWzxDMoNJOYT2rfv\n",
       "NyLu1d3x0monqjhvXqaieBP6fpPjzrZYgcdV9Ki4aM/rQrmR9g8/J/Gd5HXKBHzZ/ZPhnsZTQfXE\n",
       "3+tidav40HESXqnJatEi+LjT5M5+3UpoB3byaOjPQokSGMZ+EEl6pSh8Qrh7WyOLZtK8zhbfP89t\n",
       "bifxfash0yS4M6UEc3O9DckLjeWo25SjEavbCHkdXiOGDS/PVK3xsDXy6Z/6NDbEvtArjwi4B2nM\n",
       "UhY9lcjXxcZsqVsjzpsHj5DTD5oEPy+fb9Cg3EUeIR7RcF6Dhv+P0AySR4sO/DPZb+GuXKVYZ/UT\n",
       "lnyF14Xw7k34htbAnXummsUNz8fKp3xmZOnf46hJMCtR79eSxj04oyqbIE/Aq92A0Gfve7NekgVV\n",
       "q6Rjve+F2l5iM2+/AwsPxcKbv53Nco0HDZks3E15+3TYmFKCufljhuQFx9qIHYmKNPKnlet5f7RR\n",
       "3Gki+fwtZMrxQS4l9CrfPvQPCriD+pPdiRYNPsf+kzFNukWrhzhvfnc3PNpBAXfPBk9MORZnQVz+\n",
       "QoguK6yKJ0N7V90PW+PCel9HJUnqJ3QitM7v/lZgZxtxGkv1CXiU/zK0mPsmcjf52wLPIiqg9KvL\n",
       "JHo89l0N595pIDfsWnQE3YuOLMzgx29KRxe8wTrmfYcGaa04krBj4X306jKLK6TXvLRMFWAyCbib\n",
       "8vp1lJlSgrn1xwzJC421R3dpZWukDFD/EtEbxT1Me2hFE9s7Qb5uC+SfdXZ2ENxf8Iu4v0/aYjwE\n",
       "+S8O3CnTog78yz5vdqY9AxkBd7Iksk2MEUyFLzrrtEv0XadZp5WKpJO+qDyLpwal09nSbtvtrKHZ\n",
       "uEJ6neA5r1WnXVGkZ9PccJZ3i41VuUa7Ibx/vx63okemqzHVFECS4yY1i7hTmgviUf0O3BlTyE6/\n",
       "lzdvDGK4V8W9ydC/2XXz/DHne5k2/e3PiVJxr0p4UoHRxHTgbrwVUTQ3bt5rK6EqXgx309x5xfRi\n",
       "Y1Wu0YCAe2CUTMH3QtiuVUcf8oC9630XOOXAXRnD1l4n7owZbhxecoAZf5zMA2ve7BkaGorbca/R\n",
       "qtJ46Rf0SUhm3aWLN7Jp4GUCszgYLIJ7D1nx4dTUSsjrSis4ZUvkrjRKIGbh8/XJezbMLeg+BQkq\n",
       "00h/D6svqiQ+QvcRNKUjqm8+qokLktrj8DnX+xz5YobiHvglmSLGP8oMLsRcEubI1YZwKm/e2HD3\n",
       "a+/Rkbuox68216n+3UU4jTVcRH1GBO68FJ1Ul/sQUQNPaFOB/b7/ri7lNve6tAv3AyPlMb672La5\n",
       "ddKeDXMLuk9Bgso0qlbh8p2VHnNu7exw1Gn1/m+rZ7jLc9GkynPov7mcuUppIwkZuVo5hLx5Y8Nd\n",
       "foItzu2rIdW9aS2Ba+87q5NT4FpKlEEFHzs5DRqdhAvuQbXQexnxikzuoPWI/iYyGPMHzSvHvLHh\n",
       "btDDKmboSyIn7mEUx12+vVH84o+fKUlP3PftYl8CpmYsfm3iXoD8ed/PZ1zO8q9mcL8mSVq/7v87\n",
       "YGzG5tcI/Q/5KqoodmI1rQAAAABJRU5ErkJggg==\n",
       "\" style=\"display:inline;vertical-align:middle;\" /></a></span>"
      ],
      "text/plain": [
       "|- forall_{m, k in Natural} [forall_{a_{1}, ..a_{_a}.., a_{m}, b in Digits | b < 9} ((\\# (a_{1} ~ ..a_{_a}.. ~ a_{m} ~ b ~ 9 ~ ..k repeats.. ~ 9) + 1) = \\# (a_{1} ~ ..a_{_a}.. ~ a_{m} ~ (b + 1) ~ 0 ~ ..k repeats.. ~ 0))]"
      ]
     },
     "execution_count": 46,
     "metadata": {},
     "output_type": "execute_result"
    }
   ],
   "source": [
    "md_nine_add_one"
   ]
  },
  {
   "cell_type": "code",
   "execution_count": 47,
   "metadata": {},
   "outputs": [
    {
     "data": {
      "text/html": [
       "<table><tr><th>&nbsp;</th><th>step type</th><th>requirements</th><th>statement</th></tr>\n",
       "<tr><td><a name=\"0x7fc92f2395bbcda2_step0\">0</a></td><td>instantiation</td><td><a href=\"#0x7fc92f2395bbcda2_step1\">1</a>, <a href=\"#0x7fc92f2395bbcda2_step2\">2</a>, <a href=\"#0x7fc92f2395bbcda2_step3\">3</a>, <a href=\"#0x7fc92f2395bbcda2_step4\">4</a>, <a href=\"#0x7fc92f2395bbcda2_step5\">5</a>, <a href=\"#0x7fc92f2395bbcda2_step6\">6</a>, <a href=\"#0x7fc92f2395bbcda2_step7\">7</a>, <a href=\"#0x7fc92f2395bbcda2_step8\">8</a>, <a href=\"#0x7fc92f2395bbcda2_step9\">9</a><sup>*</sup></td><td><span style=\"font-size:20px;\"> <a class=\"ProveItLink\" href=\"../__pv_it/demonstrations/9ba61dafa83ac2af708abaf051b3738a51e9b5380/proof.ipynb\" style=\"text-decoration: none\">&nbsp;&#x22A2;&nbsp;&nbsp;</a><a class=\"ProveItLink\" href=\"../__pv_it/demonstrations/79d44922404dfd4322e9cfcbe1486b64679fd43f0/expr.ipynb\"><img src=\"data:image/png;base64,iVBORw0KGgoAAAANSUhEUgAAAHYAAAAUBAMAAACqtdRzAAAAMFBMVEX////MzMxUVFR2dna6uroQ\n",
       "EBCqqqqIiIgiIiJmZmYyMjJERETu7u6YmJjc3NwAAACgK8IjAAAAAXRSTlMAQObYZgAAASJJREFU\n",
       "OMtjYOC7wIAHsD3AJ3uaAS/Qwy58cvZGILkOiFMPwAgUABI5hakPKMyjwGDvwMA7gYFHWf8AhIC6\n",
       "swBMQUSYC9B0goU5DzCwBjBwgDx0/wCMQNILEeEJwLAXKMzawMD0j+EFA369DEuw6eX6w8D0kaGS\n",
       "kF5LbHqBgOMPw15Cem+BmVarQGAlkl5/A4Y2QnozcNjbxMAQgqaXedWqFVGrVinAheWx6+WcgKkX\n",
       "w14cekHhRNDNHkj+XQQXZpvA8I7YsEK3V5iBoQ4SBfUHYASKXrDIZAy9QGG+ZuNJDWAnTYpfeQFC\n",
       "oOiFiCxE1woS5vr//38DJE2i5TvkJMzTgDuPAfMCOuBBzlAYeQEZ7MOff09RkPfxGo2/zOHFU+YA\n",
       "AHFajiItFsnMAAAAAElFTkSuQmCC\n",
       "\" style=\"display:inline;vertical-align:middle;\" /></a></span></td></tr>\n",
       "<tr><td>&nbsp;</td><td colspan=4 style=\"text-align:left\"><span style=\"font-size:20px;\"><a class=\"ProveItLink\" href=\"../../../../__pv_it/common/674a03b9c3ca221b3aabd5636837b31528ff33830/expr.ipynb\"><img src=\"data:image/png;base64,iVBORw0KGgoAAAANSUhEUgAAABIAAAAJBAMAAADN8WE8AAAAMFBMVEX///9mZmaYmJgyMjIiIiIQ\n",
       "EBCqqqru7u5ERETMzMyIiIjc3NxUVFR2dna6uroAAAAPJcEmAAAAAXRSTlMAQObYZgAAAGNJREFU\n",
       "CNdj4Luze9UpzlvnGBh4OboY6tcxpDIwTGMxYNh/gUGfgaGg/gFDfgHDCQYGhnwGBhEGhiggS5iB\n",
       "wZeB7zc7A0MsA/s/BkaDbQzc/xjYPjAwX7jAwOfAwCXAwCa0AQBn+hZiKtaxkQAAAABJRU5ErkJg\n",
       "gg==\n",
       "\" style=\"display:inline;vertical-align:middle;\" /></a> : <a class=\"ProveItLink\" href=\"../../__pv_it/common/2778428c7f555b2bdc06aa0530bc142c6e6335100/expr.ipynb\"><img src=\"data:image/png;base64,iVBORw0KGgoAAAANSUhEUgAAAAgAAAAPBAMAAAArJJMAAAAAIVBMVEX///8yMjJmZmaIiIiYmJh2\n",
       "dnZUVFTu7u4QEBCqqqoAAAADAhFxAAAAAXRSTlMAQObYZgAAACBJREFUCNdjYAADznYGhrKw5UAW\n",
       "CykEM5BgylioAjYDAHBOCeDSSky9AAAAAElFTkSuQmCC\n",
       "\" style=\"display:inline;vertical-align:middle;\" /></a>, <a class=\"ProveItLink\" href=\"../../../../__pv_it/common/63b7c64bf9ec7a04ecc396c7a1670f3f12fb59490/expr.ipynb\"><img src=\"data:image/png;base64,iVBORw0KGgoAAAANSUhEUgAAAAoAAAAOBAMAAADkjZCYAAAAMFBMVEX////MzMxUVFSIiIjc3NyY\n",
       "mJh2dna6urqqqqpmZmYyMjIiIiIQEBBERETu7u4AAAA59f8xAAAAAXRSTlMAQObYZgAAAE9JREFU\n",
       "CNdj4LuzgQEIuCaASP4GEFn/AERmgwiGlQytUxj4fjC7f2Xg+GfHF8DAeRIkzK18GUi+L/AvYGCI\n",
       "Z3jfkMCgy8AvkMBwg4F58gMA1VoTUDpQu/EAAAAASUVORK5CYII=\n",
       "\" style=\"display:inline;vertical-align:middle;\" /></a> : <a class=\"ProveItLink\" href=\"../../__pv_it/common/7d0a36793ffe8d307a5c120ee5598162e8cd2db10/expr.ipynb\"><img src=\"data:image/png;base64,iVBORw0KGgoAAAANSUhEUgAAAAoAAAAOBAMAAADkjZCYAAAAMFBMVEX///9mZma6urpUVFREREQQ\n",
       "EBDc3NwiIiLu7u6qqqoyMjLMzMyYmJiIiIh2dnYAAADXmt2vAAAAAXRSTlMAQObYZgAAAFFJREFU\n",
       "CNdjYOC785qBgWElQ3sCA08AA98CBhYDBs4fDPwGDEw/GfoFGJj+MuQ/YOAGkgIM3P+gIkBZzp8M\n",
       "LA4MPD+guhgqGVo3MDD03bVmAABi3RThwIkdoQAAAABJRU5ErkJggg==\n",
       "\" style=\"display:inline;vertical-align:middle;\" /></a>, <a class=\"ProveItLink\" href=\"../../../../__pv_it/common/c06c606ec12678c58933ac85412ecadc2ae28be60/expr.ipynb\"><img src=\"data:image/png;base64,iVBORw0KGgoAAAANSUhEUgAAAAsAAAAJBAMAAAAWSsseAAAAMFBMVEX///9UVFSqqqrMzMwiIiJE\n",
       "RESYmJgyMjK6urru7u4QEBCIiIh2dnZmZmbc3NwAAABRgo0vAAAAAXRSTlMAQObYZgAAAEdJREFU\n",
       "CNdjYOC7c3slAwND1wP2DwwMnMsYeAMYGHh/MrBsYGDgCmCYb8DAMP8Agz5QxXwFBnGmBwysG9gc\n",
       "eYAqpTc/3MEAAP4BD32xAXDqAAAAAElFTkSuQmCC\n",
       "\" style=\"display:inline;vertical-align:middle;\" /></a> : <a class=\"ProveItLink\" href=\"../__pv_it/theorems/813709d3ebeb9feb0b188d7544e2e59c93ec80270/expr.ipynb\"><img src=\"data:image/png;base64,iVBORw0KGgoAAAANSUhEUgAAABcAAAAUBAMAAACUkLs9AAAAMFBMVEX////MzMxUVFR2dna6uroQ\n",
       "EBCqqqqIiIgiIiJmZmYyMjJERETu7u6YmJjc3NwAAACgK8IjAAAAAXRSTlMAQObYZgAAAItJREFU\n",
       "GNNjYOC7wAAGeSDiNITNwPQASKwDYrYYBgaeBQwMvBMYGA4Z/QGKmDMwcIBkeUGcowwMLxhgHC4H\n",
       "hko4h3kCw144h3cBQxucw9bAEALnMH5A5SCUsTSgGmAJ4rCDOJwGDB4gSvXXXKClAhDngMEJiEMh\n",
       "AOhQhn1QNsgLcM9xg9TDvH2PgQEA1SMnJpoizf8AAAAASUVORK5CYII=\n",
       "\" style=\"display:inline;vertical-align:middle;\" /></a>, <a class=\"ProveItLink\" href=\"../../../../__pv_it/common/195236b98c6c564a75b5dbada74b173bc52d5c3e0/expr.ipynb\"><img src=\"data:image/png;base64,iVBORw0KGgoAAAANSUhEUgAAAAkAAAAOBAMAAAAPuiubAAAALVBMVEX///+YmJjc3NyIiIhUVFR2\n",
       "dna6urqqqqpmZmYyMjIiIiIQEBBERETu7u4AAAALjtrwAAAAAXRSTlMAQObYZgAAAE9JREFUCNdj\n",
       "4D29gAEIOBtAJF8BiMy7ACKjQATDFON2BgbelxfuKTCwv2XgM2DgmMBwLwCkPK+AgU+Aoe8CA18C\n",
       "70YGBhYBHqARvM2BDAwAqXgQspq5HJAAAAAASUVORK5CYII=\n",
       "\" style=\"display:inline;vertical-align:middle;\" /></a> : <a class=\"ProveItLink\" href=\"../../__pv_it/common/2778428c7f555b2bdc06aa0530bc142c6e6335100/expr.ipynb\"><img src=\"data:image/png;base64,iVBORw0KGgoAAAANSUhEUgAAAAgAAAAPBAMAAAArJJMAAAAAIVBMVEX///8yMjJmZmaIiIiYmJh2\n",
       "dnZUVFTu7u4QEBCqqqoAAAADAhFxAAAAAXRSTlMAQObYZgAAACBJREFUCNdjYAADznYGhrKw5UAW\n",
       "CykEM5BgylioAjYDAHBOCeDSSky9AAAAAElFTkSuQmCC\n",
       "\" style=\"display:inline;vertical-align:middle;\" /></a></span></td></tr><tr><td><a name=\"0x7fc92f2395bbcda2_step1\">1</a></td><td>conjecture</td><td></td><td><span style=\"font-size:20px;\"> <a class=\"ProveItLink\" href=\"proofs/md_nine_add_one/thm_proof.ipynb\" style=\"text-decoration: none\">&nbsp;&#x22A2;&nbsp;&nbsp;</a><a class=\"ProveItLink\" href=\"../__pv_it/theorems/2fe8f16e078a889095e3f38c2586fb5fd66875f60/expr.ipynb\"><img src=\"data:image/png;base64,iVBORw0KGgoAAAANSUhEUgAAA+4AAAAaBAMAAADbIRsfAAAAMFBMVEX///8QEBCIiIhmZma6urrM\n",
       "zMxUVFQiIiJERETc3Nzu7u6qqqp2dnaYmJgyMjIAAAAcRTyBAAAAAXRSTlMAQObYZgAAChFJREFU\n",
       "aN7tWn1sFNcR//lu986392GakjaYJDrs4qRNIScIzYdBOVQ1/JecHYmkUiRfnFIFlKRWkaABZK6W\n",
       "mthFqNtSOShq4oVIkLoEX5qiFAmEa6dUIQYuIW1DgsshKtIkytkCQrBNaN/Hfrzd2/Od7+QGRR75\n",
       "eXfndt+bmd97M/NmFyiFfOufxgx9ZUhav6m0G/0ztvpqUfc1g3sgw5tJL3zpxtk/Ba6lRJm6T3ms\n",
       "cjXaz3HP0sNwUdwj9BDOTJ+RX9YbkMIu8l9JTb0P5edt/OSlodVu7Cn0tPSwCp/qGvPcuNVQkqYC\n",
       "ZeheQERrrNCCv1amEQZOJVh/rM9uvEV5HxfFPZQmh4g2fbh/pDcoWRygY6lldBKJcbPchF9r+ezC\n",
       "FHcydmQCtVQSBwVr4cIltBfBfkOBsnTPF9E+1ifYrVakUSStPM36Y312Yzv1M6miuLNbtk8f7OEY\n",
       "b6AGvIMcTpTTS02aL5NZ8MXy2YVXd54VHwUeI0vEgCDKj7sOj8PiinQA3rihQFm6myK6jxWehVC2\n",
       "Io3eBo7x/gYY7nQNh9LF4zt1CW9NH+5+lTdQA1InVtYG4gG+ymuyCI3msyc1vJ2uAsfJqndggTDF\n",
       "YodLD3ewFMivlq27KaL7WNVJBMcr0ugZ4JDG+tvBcA8f6e19roS87lRv7+/bpg/35/RGx6KeKFDW\n",
       "WH/jh74UPGP57IJ0yGkl5TJwu4pI3A2LSDy/hzbi6Q0FytLdFNF9rJokpIlKNMIlMlnSrD/aSD5/\n",
       "ubNzUwm413R2Pts/fbjX680IlR4q+LbBeZPO68DSRbU2xrm6RnqoIuv9osA+i4N3023rmduOqYFl\n",
       "h9X7bzxxmKSo206tRrBuAOF71zai+eBC4YmbyXqPIxRzwyKU7831nKTeTSYn5StVb0leaKy+GKTz\n",
       "lWikXCC4R1l/tBHcVwFdJeDuS6BanT7ct+oN+CO8CeLYiBbSHIxM+tByNTJqM/9VrY/KSJx85AuB\n",
       "PeH5LbusauzLrNCkWnwtrqyFtAHLtddVbxL+GN0+iJtV4uRHMghn3bDg3GM5SmfNG5boCjhlyquZ\n",
       "5Cu11ZLcfSygpx/y+Uo0ClwBWqKsP9oI7t93ZKjzoq64SzHmysogJaEM3FPspo28hXK5b+ZGcv+B\n",
       "P02TatwFyAWTTpK2e20/khBYw6TvwIEJkf0dhe1AIyR43Ahch3PEE8ar+lEVfTUhjVMrEdN5xH1Z\n",
       "NHg8jWCbG+5BZwg6ljvTnruaS1EFdJkeLqgoV8qpuyl5gbF6YpCvVKJRgKz3ln7WH23dFFOPbVvu\n",
       "10OKvPYNzEtadZs2LCgJ5vsd+5zAoBpRtwu7Cyln/vbakHE2W290HFpMqiK33qvhp5AXF4z0XqKf\n",
       "bZJ6s+hjsSj4ziOfCeyvG3uZJOQLw8NPEjdJPGfLsuF/ZNA8OEathM0dNm92cP7xBGS6cslU/PDm\n",
       "XC5pYiGPuu13klwBLtODdxY0D1PKTrNNyQuO5fDzU9dI9/O0P9qIiUMZezWuj0afPwwuw59Dmlez\n",
       "cD+K0lItIyTp80ZeqqEPNdBLMpQGdY+nhZOemBN3YsBhHfcboBD0pILDVqXQl3Bs3x/QtyY+Ifv1\n",
       "t3aYvwcneHhETeoQvXVvl8yttGfkgr33n2im1e1r0AX3bl7Smm3KtKKgebhSTtwtyd3HInldcKIi\n",
       "jUheR34WcA9kV9qkoCKHtzyv4WA0FhLqtC/KydJqJ2lx3khP0qmEGlXA/RM+L54h4AbG7X4e1PnQ\n",
       "dIP4eeUKgqOT4U5WyCH79j1Dl5OxEKz74j3ch0WMKMlXB7Xws5DHNH/ME9Bw2p6nn7OGtmPBuTy+\n",
       "n+P8BTz32WjKVBB3XSmnn7ckdxuLxJ0Uvy5fo07gtMb6k7ifR9ePyCDLmus9DWzxDMoNJOYT2rfv\n",
       "NyLu1d3x0monqjhvXqaieBP6fpPjzrZYgcdV9Ki4aM/rQrmR9g8/J/Gd5HXKBHzZ/ZPhnsZTQfXE\n",
       "3+tidav40HESXqnJatEi+LjT5M5+3UpoB3byaOjPQokSGMZ+EEl6pSh8Qrh7WyOLZtK8zhbfP89t\n",
       "bifxfash0yS4M6UEc3O9DckLjeWo25SjEavbCHkdXiOGDS/PVK3xsDXy6Z/6NDbEvtArjwi4B2nM\n",
       "UhY9lcjXxcZsqVsjzpsHj5DTD5oEPy+fb9Cg3EUeIR7RcF6Dhv+P0AySR4sO/DPZb+GuXKVYZ/UT\n",
       "lnyF14Xw7k34htbAnXummsUNz8fKp3xmZOnf46hJMCtR79eSxj04oyqbIE/Aq92A0Gfve7NekgVV\n",
       "q6Rjve+F2l5iM2+/AwsPxcKbv53Nco0HDZks3E15+3TYmFKCufljhuQFx9qIHYmKNPKnlet5f7RR\n",
       "3Gki+fwtZMrxQS4l9CrfPvQPCriD+pPdiRYNPsf+kzFNukWrhzhvfnc3PNpBAXfPBk9MORZnQVz+\n",
       "QoguK6yKJ0N7V90PW+PCel9HJUnqJ3QitM7v/lZgZxtxGkv1CXiU/zK0mPsmcjf52wLPIiqg9KvL\n",
       "JHo89l0N595pIDfsWnQE3YuOLMzgx29KRxe8wTrmfYcGaa04krBj4X306jKLK6TXvLRMFWAyCbib\n",
       "8vp1lJlSgrn1xwzJC421R3dpZWukDFD/EtEbxT1Me2hFE9s7Qb5uC+SfdXZ2ENxf8Iu4v0/aYjwE\n",
       "+S8O3CnTog78yz5vdqY9AxkBd7Iksk2MEUyFLzrrtEv0XadZp5WKpJO+qDyLpwal09nSbtvtrKHZ\n",
       "uEJ6neA5r1WnXVGkZ9PccJZ3i41VuUa7Ibx/vx63okemqzHVFECS4yY1i7hTmgviUf0O3BlTyE6/\n",
       "lzdvDGK4V8W9ydC/2XXz/DHne5k2/e3PiVJxr0p4UoHRxHTgbrwVUTQ3bt5rK6EqXgx309x5xfRi\n",
       "Y1Wu0YCAe2CUTMH3QtiuVUcf8oC9630XOOXAXRnD1l4n7owZbhxecoAZf5zMA2ve7BkaGorbca/R\n",
       "qtJ46Rf0SUhm3aWLN7Jp4GUCszgYLIJ7D1nx4dTUSsjrSis4ZUvkrjRKIGbh8/XJezbMLeg+BQkq\n",
       "00h/D6svqiQ+QvcRNKUjqm8+qokLktrj8DnX+xz5YobiHvglmSLGP8oMLsRcEubI1YZwKm/e2HD3\n",
       "a+/Rkbuox68216n+3UU4jTVcRH1GBO68FJ1Ul/sQUQNPaFOB/b7/ri7lNve6tAv3AyPlMb672La5\n",
       "ddKeDXMLuk9Bgso0qlbh8p2VHnNu7exw1Gn1/m+rZ7jLc9GkynPov7mcuUppIwkZuVo5hLx5Y8Nd\n",
       "foItzu2rIdW9aS2Ba+87q5NT4FpKlEEFHzs5DRqdhAvuQbXQexnxikzuoPWI/iYyGPMHzSvHvLHh\n",
       "btDDKmboSyIn7mEUx12+vVH84o+fKUlP3PftYl8CpmYsfm3iXoD8ed/PZ1zO8q9mcL8mSVq/7v87\n",
       "YGzG5tcI/Q/5KqoodmI1rQAAAABJRU5ErkJggg==\n",
       "\" style=\"display:inline;vertical-align:middle;\" /></a></span></td></tr>\n",
       "<tr><td>&nbsp;</td><td colspan=4 style-\"text-align:left\"><a class=\"ProveItLink\" href=\"proofs/md_nine_add_one/thm_proof.ipynb\">proveit.numbers.numerals.decimals.md_nine_add_one</a></td></tr><tr><td><a name=\"0x7fc92f2395bbcda2_step2\">2</a></td><td><i>reference</i></td><td><a href=\"#0x7fc92f2395bbcda2_step16\">16</a></td><td><span style=\"font-size:20px;\"> <a class=\"ProveItLink\" href=\"proofs/nat1/thm_proof.ipynb\" style=\"text-decoration: none\">&nbsp;&#x22A2;&nbsp;&nbsp;</a><a class=\"ProveItLink\" href=\"../__pv_it/theorems/7fb9a05424b991456a1d535347793e2786ff41910/expr.ipynb\"><img src=\"data:image/png;base64,iVBORw0KGgoAAAANSUhEUgAAADIAAAAPBAMAAABU9YHxAAAAMFBMVEX///+6urrc3NzMzMwiIiJE\n",
       "REQyMjJmZmaIiIiYmJh2dnZUVFTu7u4QEBCqqqoAAABhZHJKAAAAAXRSTlMAQObYZgAAALJJREFU\n",
       "GNNjYEAHPPmhOQxc9y8yMPDdQZNinWDNwHCegeH06j9oMtzOHA0MvEAGJ0xmqotLAlhG9MBmBhYk\n",
       "GdMemB7lDccOIMnw5MBNU3jBvAFJhlsBIcMlMANJhhXhAgWGPdwmCBnbNCBIgMqcZshFyKgi62Fe\n",
       "YIuQ4UWWYZjHipBhb4DLGDAwcIGM4ID6xw8mw/YASJQB1e79VgkWOB14AEwz+18FkseQw0sqBBI6\n",
       "UAAAZMEtCDaxdO0AAAAASUVORK5CYII=\n",
       "\" style=\"display:inline;vertical-align:middle;\" /></a></span></td></tr>\n",
       "<tr><td><a name=\"0x7fc92f2395bbcda2_step3\">3</a></td><td><i>reference</i></td><td><a href=\"#0x7fc92f2395bbcda2_step18\">18</a></td><td><span style=\"font-size:20px;\"> <a class=\"ProveItLink\" href=\"../../../number_sets/natural_numbers/_theory_nbs_/axioms.ipynb#zero_in_nats\" style=\"text-decoration: none\">&nbsp;&#x22A2;&nbsp;&nbsp;</a><a class=\"ProveItLink\" href=\"../../../number_sets/natural_numbers/__pv_it/axioms/41585b68a7dd1d513f84c532999561d9671aca5e0/expr.ipynb\"><img src=\"data:image/png;base64,iVBORw0KGgoAAAANSUhEUgAAADMAAAAPBAMAAAC7N+rPAAAAMFBMVEX///9mZma6urpUVFREREQQ\n",
       "EBDc3NwiIiLu7u6qqqoyMjLMzMyYmJiIiIh2dnYAAADXmt2vAAAAAXRSTlMAQObYZgAAAONJREFU\n",
       "GNNjYOC785oBBXR98WpgePpVgYFhJUN7AqqcD7cBA8cHBgaeAAa+BahS5hvuMjAEMDCwGDBw/gCL\n",
       "8LiXV4EZRh7MGxgKGBj4DRiYfoIEuH0boLrMNnOsAEn1CzAw/QXbDpNhMOO8sBkklf+AgRssZQa3\n",
       "y4zhEc8FkJQAA/c/kIADkhRzgzWSgdxRq4AAKsVhwBUAdgYnyBlsyLoY9nGDHO/AwAN2fACyFM8E\n",
       "ByQvy8KlrIH4GciQSobWDSAB9gkwqZVAzAhS3nfXGizAYaIBkdn+FaiDAyXwmJ5AAwoKAGQvOOyD\n",
       "fUpGAAAAAElFTkSuQmCC\n",
       "\" style=\"display:inline;vertical-align:middle;\" /></a></span></td></tr>\n",
       "<tr><td><a name=\"0x7fc92f2395bbcda2_step4\">4</a></td><td><i>reference</i></td><td><a href=\"#0x7fc92f2395bbcda2_step19\">19</a></td><td><span style=\"font-size:20px;\"> <a class=\"ProveItLink\" href=\"../__pv_it/demonstrations/c412a04f6b1dcfbf83c964881a5370c80ef20a4d0/proof.ipynb\" style=\"text-decoration: none\">&nbsp;&#x22A2;&nbsp;&nbsp;</a><a class=\"ProveItLink\" href=\"../__pv_it/demonstrations/489b505fb7c85aa124de40cc5d5a4daef5a95ff70/expr.ipynb\"><img src=\"data:image/png;base64,iVBORw0KGgoAAAANSUhEUgAAAKoAAAAVBAMAAAAkxGgRAAAAMFBMVEX///9UVFQQEBCqqqoiIiJm\n",
       "ZmYyMjJERESYmJjc3NyIiIi6urp2dnbu7u7MzMwAAAADGpxCAAAAAXRSTlMAQObYZgAAAYpJREFU\n",
       "OMtjeMuAAfguoAlgUYMXvGU4DaZnQLiWYJJnA5oqiBrOBoLGMU+Aqgfr4C2AiDJOwGPqdSJcKYls\n",
       "KhvQNGZdoOkJeEzNBGKjC7hNBMldQza1lYHh4sG/QMYp3KZyBDDwysjjNBUix7MAyVRPkC6QqZdw\n",
       "m8oCCp1+PG4FyfEqIEzldICZyrYBp6lTGIgwlSEbYSpXAMxUngCcpi4lytSjCFPZG2CmciTATOVJ\n",
       "A4MAuKkVRJnahjCVxQBmKrMDTrc6E2WqCcJUpg0wU/k+4DRVmyhT39PaVEQIcDughasAiSGwBX9s\n",
       "YbiV5NgCpycukKmsB3CaCk4z6y8w8H4D0veBtoMZcB5YjoEhBmEqyN+sQt8igLngAU5TQX4L1E9t\n",
       "YHAB6mYBhYwjA5Rg8YXJMeSh5VgwuEIgx4KLO8xQsIWXBg6opQsE4C9dIIAHM0gPwBgopQs71B14\n",
       "S8JKKO8WZnm1AMa6hq3UZiem1MasEjjgrEqo+nXINUwnmOR6gKZrHbE1DAfEz+sAOcitm8vTqu0A\n",
       "AAAASUVORK5CYII=\n",
       "\" style=\"display:inline;vertical-align:middle;\" /></a></span></td></tr>\n",
       "<tr><td><a name=\"0x7fc92f2395bbcda2_step5\">5</a></td><td><i>reference</i></td><td><a href=\"#0x7fc92f2395bbcda2_step22\">22</a></td><td><span style=\"font-size:20px;\"> <a class=\"ProveItLink\" href=\"proofs/digit1/thm_proof.ipynb\" style=\"text-decoration: none\">&nbsp;&#x22A2;&nbsp;&nbsp;</a><a class=\"ProveItLink\" href=\"../__pv_it/theorems/3df1cca99ad05f2a8aebb3ef0737f6373364d0ea0/expr.ipynb\"><img src=\"data:image/png;base64,iVBORw0KGgoAAAANSUhEUgAAAEcAAAAVBAMAAADm2O7QAAAAMFBMVEX///+6urrc3NzMzMwiIiJE\n",
       "REQyMjJmZmaIiIiYmJh2dnZUVFTu7u4QEBCqqqoAAABhZHJKAAAAAXRSTlMAQObYZgAAARxJREFU\n",
       "KM9jYCAA+KoWEFIRwDCboZ2AmgwGhosM+gfwqeHMZGBg+sTAL4BHDQdQDQPPZwb+B7jVMPqBqYsM\n",
       "9hMwJXnyQ3MYuO5f5FkKtuYpw3wgzXcHTRXrBGsGhvNA1UtB9jB32CswnF79B00RtzNHAwMviNUG\n",
       "VHWAQRTkB5iiqS4uCWBFogc2M7CAhaZNYIhgCEZSZNoDM0l5w7EDEEUMbxgkuhQQinhy4NYpvGDe\n",
       "wIIWZH+gUghFXAIzsCtiRThcgWEPtwkDXygQxKAqsk0DggSootMMuVhNUkU2iXmBLVZFvMiKGOax\n",
       "YlXE3gBXZMDAwKWKFtnQcPKDCbCBYqMMRQ373m+VYMbpQEjiYva/CiSP4UgbUiGQaMEEAL96RAF5\n",
       "xvhdAAAAAElFTkSuQmCC\n",
       "\" style=\"display:inline;vertical-align:middle;\" /></a></span></td></tr>\n",
       "<tr><td><a name=\"0x7fc92f2395bbcda2_step6\">6</a></td><td>instantiation</td><td><a href=\"#0x7fc92f2395bbcda2_step10\">10</a>, <a href=\"#0x7fc92f2395bbcda2_step11\">11</a>, <a href=\"#0x7fc92f2395bbcda2_step12\">12</a></td><td><span style=\"font-size:20px;\"> <a class=\"ProveItLink\" href=\"../__pv_it/demonstrations/c4403ec9d09bfcc9648335622916d9b4456ab2450/proof.ipynb\" style=\"text-decoration: none\">&nbsp;&#x22A2;&nbsp;&nbsp;</a><a class=\"ProveItLink\" href=\"../__pv_it/demonstrations/e24cdc707fa38c4bb0dbc35bde2ae7fd5c3b8c580/expr.ipynb\"><img src=\"data:image/png;base64,iVBORw0KGgoAAAANSUhEUgAAADAAAAAPBAMAAABQAFHMAAAAMFBMVEX///+6urpERETc3NwiIiLM\n",
       "zMwyMjJmZmaIiIiYmJh2dnZUVFTu7u4QEBCqqqoAAAD7YXnbAAAAAXRSTlMAQObYZgAAAJtJREFU\n",
       "GNNjYMACjq/aDCT57qCL89xksD3AcHr1HySxZwFAgvsCA3cBAwMnksSUYhDJn8DA9QFFomUNmDqv\n",
       "wMDxGUmCZ0kDhMEL1PERIcFTMgGqAmgO20+ExLYHcCM1GF79g0vwIEnwzYj6itDBDDcK5OI/2CwH\n",
       "ArYN2JzLeYch3oCBgQPDgxw5PJkMDOx7v1WiBQnDqnIBBpwAAFCeM6r6LLuUAAAAAElFTkSuQmCC\n",
       "\" style=\"display:inline;vertical-align:middle;\" /></a></span></td></tr>\n",
       "<tr><td>&nbsp;</td><td colspan=4 style=\"text-align:left\"><span style=\"font-size:20px;\"><a class=\"ProveItLink\" href=\"../../../../__pv_it/common/a0d9d672aa5e272d907247690c152cc2c6daafb70/expr.ipynb\"><img src=\"data:image/png;base64,iVBORw0KGgoAAAANSUhEUgAAAAsAAAAJBAMAAAAWSsseAAAALVBMVEX///9mZmaqqqrMzMxEREQy\n",
       "MjIiIiKYmJh2dna6urrc3NxUVFSIiIju7u4AAACJHQtQAAAAAXRSTlMAQObYZgAAAEJJREFUCNdj\n",
       "YLhzeuWJAwy8Dew5bAEMHBc43nIuYOBlYHFgAAG+A2DKzgBIMF04x8BzgWGegh/DcgaG22fuiBcw\n",
       "AAATyhBrnyPYZQAAAABJRU5ErkJggg==\n",
       "\" style=\"display:inline;vertical-align:middle;\" /></a> : <a class=\"ProveItLink\" href=\"../../__pv_it/common/2778428c7f555b2bdc06aa0530bc142c6e6335100/expr.ipynb\"><img src=\"data:image/png;base64,iVBORw0KGgoAAAANSUhEUgAAAAgAAAAPBAMAAAArJJMAAAAAIVBMVEX///8yMjJmZmaIiIiYmJh2\n",
       "dnZUVFTu7u4QEBCqqqoAAAADAhFxAAAAAXRSTlMAQObYZgAAACBJREFUCNdjYAADznYGhrKw5UAW\n",
       "CykEM5BgylioAjYDAHBOCeDSSky9AAAAAElFTkSuQmCC\n",
       "\" style=\"display:inline;vertical-align:middle;\" /></a>, <a class=\"ProveItLink\" href=\"../../../../__pv_it/common/ff7dba4ef0bbe791ab573bf2d9c220a304399ac80/expr.ipynb\"><img src=\"data:image/png;base64,iVBORw0KGgoAAAANSUhEUgAAAAsAAAANBAMAAACN24kIAAAAMFBMVEX///8iIiKYmJhUVFTMzMxE\n",
       "REQyMjKqqqq6urp2dnYQEBDc3NxmZmaIiIju7u4AAACH5sGpAAAAAXRSTlMAQObYZgAAAFlJREFU\n",
       "CNdj4LtzgWHXAwZOjgUM9xkYtvMkMIQyMDzgusDwl4GBof8ByxcgdYyBdwGQCmZgNQBShxn6FYDU\n",
       "47vnNzAwgGUZGJgT+H4AKUYF1gtAiuPuESAJAJGkFvXVdzA+AAAAAElFTkSuQmCC\n",
       "\" style=\"display:inline;vertical-align:middle;\" /></a> : <a class=\"ProveItLink\" href=\"../../__pv_it/common/ba3b059982e8b49413dc653e957beb11e974e4bc0/expr.ipynb\"><img src=\"data:image/png;base64,iVBORw0KGgoAAAANSUhEUgAAAAkAAAAOBAMAAAAPuiubAAAALVBMVEX///+qqqqIiIgyMjLc3Nwi\n",
       "IiIQEBC6urp2dnZUVFTMzMxERERmZmbu7u4AAAAQI6y7AAAAAXRSTlMAQObYZgAAAFJJREFUCNdj\n",
       "4D2zewEDw00GjucMDGcZGNIYGFIZGOY5MNhdYJgHlGBgiLsAJNhfgJisE0DkGRDBdABEyjCwODBw\n",
       "NTAwOTC4dvRMZWCwe/fuKQMANh0TGKpG4roAAAAASUVORK5CYII=\n",
       "\" style=\"display:inline;vertical-align:middle;\" /></a>, <a class=\"ProveItLink\" href=\"../../../../__pv_it/common/95a8f6b9b9f29b83f192ad7fd05708d6be097a3f0/expr.ipynb\"><img src=\"data:image/png;base64,iVBORw0KGgoAAAANSUhEUgAAAAoAAAAJBAMAAAD5iKAgAAAAMFBMVEX///8yMjJ2dnaqqqpUVFTc\n",
       "3NxmZmaIiIhERETu7u6YmJjMzMwQEBAiIiK6uroAAABWQA0ZAAAAAXRSTlMAQObYZgAAADZJREFU\n",
       "CNdjYOC782AXA8OM5WkNDAwTGCIYgIC7E0Q+ARHMDiDSjIHBgYH7llbhAwY2hjVyDABOxArzLvBK\n",
       "ugAAAABJRU5ErkJggg==\n",
       "\" style=\"display:inline;vertical-align:middle;\" /></a> : <a class=\"ProveItLink\" href=\"../../__pv_it/common/b7ca2b03651013759f042f9b6ee93402bd97837b0/expr.ipynb\"><img src=\"data:image/png;base64,iVBORw0KGgoAAAANSUhEUgAAAAoAAAAOBAMAAADkjZCYAAAALVBMVEX////MzMyqqqq6urqIiIhE\n",
       "REQyMjKYmJgQEBDc3NxUVFR2dnZmZmbu7u4AAABDhPggAAAAAXRSTlMAQObYZgAAAFVJREFUCNdj\n",
       "YLizeyUDA287w4wLDFwNDFwHGPgSGLgfMNwLYGB5ycABZD8GcdmeMzCEMGg/YmBgKpF+yAAEXG9B\n",
       "JNsCBvZeBrkJDCy5vOlA/u4zBgwArBUUgWOHdRMAAAAASUVORK5CYII=\n",
       "\" style=\"display:inline;vertical-align:middle;\" /></a></span></td></tr><tr><td><a name=\"0x7fc92f2395bbcda2_step7\">7</a></td><td>instantiation</td><td><a href=\"#0x7fc92f2395bbcda2_step13\">13</a>, <a href=\"#0x7fc92f2395bbcda2_step14\">14</a></td><td><span style=\"font-size:20px;\"> <a class=\"ProveItLink\" href=\"../__pv_it/demonstrations/49421c953e737cbd31b35894756dae7a6945b28b0/proof.ipynb\" style=\"text-decoration: none\">&nbsp;&#x22A2;&nbsp;&nbsp;</a><a class=\"ProveItLink\" href=\"../__pv_it/demonstrations/dd2b8c79e8c07c7caf69608c8d51ac717c1d05d70/expr.ipynb\"><img src=\"data:image/png;base64,iVBORw0KGgoAAAANSUhEUgAAAMkAAAAUBAMAAADVSATHAAAAMFBMVEX////MzMxUVFR2dna6uroQ\n",
       "EBCqqqqIiIgiIiJmZmYyMjJERETu7u6YmJjc3NwAAACgK8IjAAAAAXRSTlMAQObYZgAAAuxJREFU\n",
       "OMutVV1IFFEU/mZn9n9mXejBR7egBx8y00AUyy0IpCdBIyiDhQh6sbaCJEESA8mIGiiUIGkRDIzK\n",
       "fbOXbEhEsweXIkTIGoKgHkLFMPxp69w7q15nxoHCYdk78517z3fPd849F4jlsFPPBRfsh4W+Bd5U\n",
       "lm2xyO0H/pVAvVdhwmc68ayFPod6Bl8N0fQYE6anz6QDGcvFmqFmHHjE5Kimw9cAny5YtAbIGc+N\n",
       "6w5oL1AKVDnwGXA0ZKIoA3lesEQTCKx5sWhOlhWgjiJy4HfA0W/AVBbBvGApSkBZ8mK56GBRV4Hr\n",
       "JiJ2KWMdTLUkrgF+iuWnYJrSofyiURm4WmPG+irM440zFVSJ39+XIdBaBe1Rdw+KW9pEd6coliRk\n",
       "O32QAYS+BJMr8lswzZVDYizw90zl6g2lGSeSajeU2zhmnDfDCYR0Vjsh0R3JNZSDxtNZ84Q9g1x8\n",
       "dkwI7aJhGGdFheZ0SIu8QCjeRuAk+kmlpL8c/vS5uLLGWIg6KLJE04G6FAIdtlhCKfojtIkN07sW\n",
       "XBRDJAFpeXZ2HwYZWNI3+y6H4uo8Y8Hd4a3F3nKpLg5p3sbiZ4kitIl/+da2Zj/AY4vohRdiKcpe\n",
       "ZPuaHJEsltGhZZvH/cb2LF0o7FqIPguNs0bWE2TFkqa3F5DyRkgPxgx8thUUyap0bOalf0MxQin7\n",
       "WjNKTLdTSSy4BYxbeQlloKYXEcgfiSTCSho+sQF+MCjGQvbFDReyX03l9lR9BnWFlf0KH7swFuc7\n",
       "IWVKUniIAVO9AWkJYeM05IWP4UyYsh81rel8ZZsxSQ7D5TYWXtqE1tNQ+YCCv8laWSf/jbbuZlOU\n",
       "V6spqKVXDPRPX6YZr3tr8aW3ti2HPYeVQ+0H16ezlXL1fRZ83MbCJSQ0tK5VwNj+sA969s7NlROu\n",
       "HWZC6Eky/pdlc+W23RIjhe9xDz+dniwbK106f9Tq/OwW44/HlXn0T5kXS05w6XKLcXQHb+RPrjcy\n",
       "oX8BnSfk5bQ9L68AAAAASUVORK5CYII=\n",
       "\" style=\"display:inline;vertical-align:middle;\" /></a></span></td></tr>\n",
       "<tr><td>&nbsp;</td><td colspan=4 style=\"text-align:left\"><span style=\"font-size:20px;\"><a class=\"ProveItLink\" href=\"../__pv_it/demonstrations/6f588c471ddf214a05661e01a2c0722fb7fcba8c0/expr.ipynb\"><img src=\"data:image/png;base64,iVBORw0KGgoAAAANSUhEUgAAACAAAAAUBAMAAAAevyJ8AAAAMFBMVEX///8yMjJERETMzMwQEBCY\n",
       "mJgiIiK6urqqqqp2dnZUVFTc3NyIiIhmZmbu7u4AAADOOTK3AAAAAXRSTlMAQObYZgAAAORJREFU\n",
       "GNNjYICCrSCCYwOY/fbsBgY+BQYGLgWG1WCBlf0NDIxAOa4AhocgPt/35wwMsRCNnAdAGj8AiWyI\n",
       "AJ8DSDSBgYE7AWq2OAMD65XcCww8FxgY3twBCswFYn6gPqYABoYJJUBOIBDvN2BgYGtg4G64COS0\n",
       "AXE/ELMUMPAx/AEy7IF4GkSAgeMfVECLAayFgWkBkFEGxD4MEEPfN0wAG8r3HeQWoLX13EDRmwwM\n",
       "7CCHsgMdxhUKZAgDJRUYkJyewNDFGABiITyXBPYxAxMkaICcmNsQtWCNDNoMDChByLqBAQDHuDDW\n",
       "H2EPaQAAAABJRU5ErkJggg==\n",
       "\" style=\"display:inline;vertical-align:middle;\" /></a> : <a class=\"ProveItLink\" href=\"../../__pv_it/common/b7ca2b03651013759f042f9b6ee93402bd97837b0/expr.ipynb\"><img src=\"data:image/png;base64,iVBORw0KGgoAAAANSUhEUgAAAAoAAAAOBAMAAADkjZCYAAAALVBMVEX////MzMyqqqq6urqIiIhE\n",
       "REQyMjKYmJgQEBDc3NxUVFR2dnZmZmbu7u4AAABDhPggAAAAAXRSTlMAQObYZgAAAFVJREFUCNdj\n",
       "YLizeyUDA287w4wLDFwNDFwHGPgSGLgfMNwLYGB5ycABZD8GcdmeMzCEMGg/YmBgKpF+yAAEXG9B\n",
       "JNsCBvZeBrkJDCy5vOlA/u4zBgwArBUUgWOHdRMAAAAASUVORK5CYII=\n",
       "\" style=\"display:inline;vertical-align:middle;\" /></a>, <a class=\"ProveItLink\" href=\"../../../../__pv_it/common/ae955345c83abf786c3aff8681cd5465beae262d0/expr.ipynb\"><img src=\"data:image/png;base64,iVBORw0KGgoAAAANSUhEUgAAAAcAAAAOBAMAAAARcxsoAAAAKlBMVEX///8yMjKqqqrc3NwQEBC6\n",
       "urp2dnZmZmaIiIju7u6YmJhERERUVFQAAAAIfTrnAAAAAXRSTlMAQObYZgAAADhJREFUCNdjYGA4\n",
       "zQAEpxjQAWd7AwMDG6sDA4MRuwADwwReIJdBdwKQ2AOSvcTGwMB6wQqkdQEDAPwvCSrC7lmiAAAA\n",
       "AElFTkSuQmCC\n",
       "\" style=\"display:inline;vertical-align:middle;\" /></a> : <a class=\"ProveItLink\" href=\"../../__pv_it/common/2778428c7f555b2bdc06aa0530bc142c6e6335100/expr.ipynb\"><img src=\"data:image/png;base64,iVBORw0KGgoAAAANSUhEUgAAAAgAAAAPBAMAAAArJJMAAAAAIVBMVEX///8yMjJmZmaIiIiYmJh2\n",
       "dnZUVFTu7u4QEBCqqqoAAAADAhFxAAAAAXRSTlMAQObYZgAAACBJREFUCNdjYAADznYGhrKw5UAW\n",
       "CykEM5BgylioAjYDAHBOCeDSSky9AAAAAElFTkSuQmCC\n",
       "\" style=\"display:inline;vertical-align:middle;\" /></a>, <a class=\"ProveItLink\" href=\"../../../../__pv_it/common/1ed21df18baca2f42b561a7ffbf30a2743d594650/expr.ipynb\"><img src=\"data:image/png;base64,iVBORw0KGgoAAAANSUhEUgAAAAoAAAASBAMAAACQmVJ4AAAAMFBMVEX////MzMwyMjIiIiJ2dna6\n",
       "urrc3NxmZmZERESIiIhUVFSYmJju7u4QEBCqqqoAAACA8xhiAAAAAXRSTlMAQObYZgAAAE1JREFU\n",
       "CNdjYGBg4LsDJBi4FzBgAydngMgC3g1AFQn8DxgYeBjiD4CEnMHS6iCC5x+I5PsDItkNQCRzAQMD\n",
       "44F8AQaGfId2IJ9rOlA/AHmNDZhMFHq1AAAAAElFTkSuQmCC\n",
       "\" style=\"display:inline;vertical-align:middle;\" /></a> : <a class=\"ProveItLink\" href=\"../../__pv_it/common/7d0a36793ffe8d307a5c120ee5598162e8cd2db10/expr.ipynb\"><img src=\"data:image/png;base64,iVBORw0KGgoAAAANSUhEUgAAAAoAAAAOBAMAAADkjZCYAAAAMFBMVEX///9mZma6urpUVFREREQQ\n",
       "EBDc3NwiIiLu7u6qqqoyMjLMzMyYmJiIiIh2dnYAAADXmt2vAAAAAXRSTlMAQObYZgAAAFFJREFU\n",
       "CNdjYOC785qBgWElQ3sCA08AA98CBhYDBs4fDPwGDEw/GfoFGJj+MuQ/YOAGkgIM3P+gIkBZzp8M\n",
       "LA4MPD+guhgqGVo3MDD03bVmAABi3RThwIkdoQAAAABJRU5ErkJggg==\n",
       "\" style=\"display:inline;vertical-align:middle;\" /></a></span></td></tr><tr><td><a name=\"0x7fc92f2395bbcda2_step8\">8</a></td><td>instantiation</td><td><a href=\"#0x7fc92f2395bbcda2_step13\">13</a>, <a href=\"#0x7fc92f2395bbcda2_step14\">14</a></td><td><span style=\"font-size:20px;\"> <a class=\"ProveItLink\" href=\"../__pv_it/demonstrations/408ce4f622f652c5150f592582e29b63877d1c720/proof.ipynb\" style=\"text-decoration: none\">&nbsp;&#x22A2;&nbsp;&nbsp;</a><a class=\"ProveItLink\" href=\"../__pv_it/demonstrations/8c1b3a5b17e9cd6a0620d142cf979b0d919289370/expr.ipynb\"><img src=\"data:image/png;base64,iVBORw0KGgoAAAANSUhEUgAAAMkAAAAUBAMAAADVSATHAAAAMFBMVEX///9UVFTMzMx2dna6uroQ\n",
       "EBCqqqqIiIgiIiJmZmYyMjJERETu7u6YmJjc3NwAAAC+aOQFAAAAAXRSTlMAQObYZgAAArlJREFU\n",
       "OMutVU1oE0EYfd1sks1mN43ePFhy6zGpCKGlShSE4kWxFQ96yEXwok0RLBYKLUKxInVP7cVicqhQ\n",
       "D1pPCtK6UkqDHhopIgVr15sexJ9CJbVUv5ntJpuZJIj0Y5Pd976dfTPvmx8gVsJ+xbU63FeXfQME\n",
       "ho/UZET8L5FeTaDFkWhjzmUfAw9RrMmLWIqMxOhZYwJGXuYdzpoWzLMI+PMiljtoSdQ7oIsGJPFr\n",
       "4KzmIBpHaMeXEbEUpqzyFOi3sSTxE/Qj9jPQGoe65cuIWIp+WeUHcCYLXbQyNsJcy+AmsGJB/eVL\n",
       "eVidudHlxKY7nNO9ax00E7+stiE0mIb5YHwS7VeH/B6WSSWHgCgfZgSx88C3FBS/SgUHJ1dKPbZ6\n",
       "CeczxjjUuzhlX3EicWgWmzuav8+bQDIHk5ez6xGLWW4+WybEjtFXLSibfhUP6zTeXuACCuRSJphC\n",
       "MHc5oe4wFZIO+1VoLMkUQiPCWLQs/RHb19gx6HEo5fX1w5hlZHJ6/W0J7Z27TAX3njmyY8p3QSXI\n",
       "CkVsH692SKi+i3Vr74FUWuf6Wb9eLyiuyuKTslB9yjdUIceiczBrZrKHda9A7lhy9PQcyq6tWeGY\n",
       "jQ3/hHoBbNhQR6p1KVQcI3YejVclqeAOsOzWRcvDyG0itHtSj0fUHFpK0qo0xcXsVb+TbmNYShjb\n",
       "zN5tdnHMe0LOJLO4jxnHuAVlCxH7IgI/P0TyEap+1HFf5y21rHEOiKQEFT61ie2h2+LgQeC2TU+j\n",
       "/OKYRvrydxbGoes2Cu8HyJ5XU934NNU9VMKB4+qx4aPe66ylkR6gjukJQYVbSKzmTZWQ3Xixzzbd\n",
       "O6sti3V3mKJvTwrgf1WqLRvulljYw8tNvjPaVKXSss7OH3V3fnaK8WhyZJ7409ZMpeT7ZJ1TjLP7\n",
       "eCJ/rHsiE/sXDhnlr+AfiagAAAAASUVORK5CYII=\n",
       "\" style=\"display:inline;vertical-align:middle;\" /></a></span></td></tr>\n",
       "<tr><td>&nbsp;</td><td colspan=4 style=\"text-align:left\"><span style=\"font-size:20px;\"><a class=\"ProveItLink\" href=\"../__pv_it/demonstrations/6f588c471ddf214a05661e01a2c0722fb7fcba8c0/expr.ipynb\"><img src=\"data:image/png;base64,iVBORw0KGgoAAAANSUhEUgAAACAAAAAUBAMAAAAevyJ8AAAAMFBMVEX///8yMjJERETMzMwQEBCY\n",
       "mJgiIiK6urqqqqp2dnZUVFTc3NyIiIhmZmbu7u4AAADOOTK3AAAAAXRSTlMAQObYZgAAAORJREFU\n",
       "GNNjYICCrSCCYwOY/fbsBgY+BQYGLgWG1WCBlf0NDIxAOa4AhocgPt/35wwMsRCNnAdAGj8AiWyI\n",
       "AJ8DSDSBgYE7AWq2OAMD65XcCww8FxgY3twBCswFYn6gPqYABoYJJUBOIBDvN2BgYGtg4G64COS0\n",
       "AXE/ELMUMPAx/AEy7IF4GkSAgeMfVECLAayFgWkBkFEGxD4MEEPfN0wAG8r3HeQWoLX13EDRmwwM\n",
       "7CCHsgMdxhUKZAgDJRUYkJyewNDFGABiITyXBPYxAxMkaICcmNsQtWCNDNoMDChByLqBAQDHuDDW\n",
       "H2EPaQAAAABJRU5ErkJggg==\n",
       "\" style=\"display:inline;vertical-align:middle;\" /></a> : <a class=\"ProveItLink\" href=\"../../__pv_it/common/7d0a36793ffe8d307a5c120ee5598162e8cd2db10/expr.ipynb\"><img src=\"data:image/png;base64,iVBORw0KGgoAAAANSUhEUgAAAAoAAAAOBAMAAADkjZCYAAAAMFBMVEX///9mZma6urpUVFREREQQ\n",
       "EBDc3NwiIiLu7u6qqqoyMjLMzMyYmJiIiIh2dnYAAADXmt2vAAAAAXRSTlMAQObYZgAAAFFJREFU\n",
       "CNdjYOC785qBgWElQ3sCA08AA98CBhYDBs4fDPwGDEw/GfoFGJj+MuQ/YOAGkgIM3P+gIkBZzp8M\n",
       "LA4MPD+guhgqGVo3MDD03bVmAABi3RThwIkdoQAAAABJRU5ErkJggg==\n",
       "\" style=\"display:inline;vertical-align:middle;\" /></a>, <a class=\"ProveItLink\" href=\"../../../../__pv_it/common/ae955345c83abf786c3aff8681cd5465beae262d0/expr.ipynb\"><img src=\"data:image/png;base64,iVBORw0KGgoAAAANSUhEUgAAAAcAAAAOBAMAAAARcxsoAAAAKlBMVEX///8yMjKqqqrc3NwQEBC6\n",
       "urp2dnZmZmaIiIju7u6YmJhERERUVFQAAAAIfTrnAAAAAXRSTlMAQObYZgAAADhJREFUCNdjYGA4\n",
       "zQAEpxjQAWd7AwMDG6sDA4MRuwADwwReIJdBdwKQ2AOSvcTGwMB6wQqkdQEDAPwvCSrC7lmiAAAA\n",
       "AElFTkSuQmCC\n",
       "\" style=\"display:inline;vertical-align:middle;\" /></a> : <a class=\"ProveItLink\" href=\"../../__pv_it/common/2778428c7f555b2bdc06aa0530bc142c6e6335100/expr.ipynb\"><img src=\"data:image/png;base64,iVBORw0KGgoAAAANSUhEUgAAAAgAAAAPBAMAAAArJJMAAAAAIVBMVEX///8yMjJmZmaIiIiYmJh2\n",
       "dnZUVFTu7u4QEBCqqqoAAAADAhFxAAAAAXRSTlMAQObYZgAAACBJREFUCNdjYAADznYGhrKw5UAW\n",
       "CykEM5BgylioAjYDAHBOCeDSSky9AAAAAElFTkSuQmCC\n",
       "\" style=\"display:inline;vertical-align:middle;\" /></a>, <a class=\"ProveItLink\" href=\"../../../../__pv_it/common/1ed21df18baca2f42b561a7ffbf30a2743d594650/expr.ipynb\"><img src=\"data:image/png;base64,iVBORw0KGgoAAAANSUhEUgAAAAoAAAASBAMAAACQmVJ4AAAAMFBMVEX////MzMwyMjIiIiJ2dna6\n",
       "urrc3NxmZmZERESIiIhUVFSYmJju7u4QEBCqqqoAAACA8xhiAAAAAXRSTlMAQObYZgAAAE1JREFU\n",
       "CNdjYGBg4LsDJBi4FzBgAydngMgC3g1AFQn8DxgYeBjiD4CEnMHS6iCC5x+I5PsDItkNQCRzAQMD\n",
       "44F8AQaGfId2IJ9rOlA/AHmNDZhMFHq1AAAAAElFTkSuQmCC\n",
       "\" style=\"display:inline;vertical-align:middle;\" /></a> : <a class=\"ProveItLink\" href=\"../../__pv_it/common/7d0a36793ffe8d307a5c120ee5598162e8cd2db10/expr.ipynb\"><img src=\"data:image/png;base64,iVBORw0KGgoAAAANSUhEUgAAAAoAAAAOBAMAAADkjZCYAAAAMFBMVEX///9mZma6urpUVFREREQQ\n",
       "EBDc3NwiIiLu7u6qqqoyMjLMzMyYmJiIiIh2dnYAAADXmt2vAAAAAXRSTlMAQObYZgAAAFFJREFU\n",
       "CNdjYOC785qBgWElQ3sCA08AA98CBhYDBs4fDPwGDEw/GfoFGJj+MuQ/YOAGkgIM3P+gIkBZzp8M\n",
       "LA4MPD+guhgqGVo3MDD03bVmAABi3RThwIkdoQAAAABJRU5ErkJggg==\n",
       "\" style=\"display:inline;vertical-align:middle;\" /></a></span></td></tr><tr><td><a name=\"0x7fc92f2395bbcda2_step9\">9</a></td><td>instantiation</td><td><a href=\"#0x7fc92f2395bbcda2_step15\">15</a>, <a href=\"#0x7fc92f2395bbcda2_step16\">16</a>, <a href=\"#0x7fc92f2395bbcda2_step17\">17</a>, <a href=\"#0x7fc92f2395bbcda2_step18\">18</a>, <a href=\"#0x7fc92f2395bbcda2_step19\">19</a>, <a href=\"#0x7fc92f2395bbcda2_step20\">20</a>, <a href=\"#0x7fc92f2395bbcda2_step21\">21</a>, <a href=\"#0x7fc92f2395bbcda2_step22\">22</a>, <a href=\"#0x7fc92f2395bbcda2_step23\">23</a>, <a href=\"#0x7fc92f2395bbcda2_step24\">24</a></td><td><span style=\"font-size:20px;\"> <a class=\"ProveItLink\" href=\"../__pv_it/demonstrations/e70a67290036553753ffbf754be46331d0e9188a0/proof.ipynb\" style=\"text-decoration: none\">&nbsp;&#x22A2;&nbsp;&nbsp;</a><a class=\"ProveItLink\" href=\"../__pv_it/demonstrations/14c197265dae57dfd72d84b922254acd58d4908c0/expr.ipynb\"><img src=\"data:image/png;base64,iVBORw0KGgoAAAANSUhEUgAAAKMAAAAUBAMAAAATjZB+AAAAMFBMVEX///+YmJjc3NwQEBDMzMyI\n",
       "iIgiIiK6urpmZmZ2dnaqqqoyMjJUVFTu7u5EREQAAACNSvXSAAAAAXRSTlMAQObYZgAAAfZJREFU\n",
       "OMudlT1LA0EQht+LScyHF4JV0MLYWFkIghYi5gcIamdnsNRCK7GMIBhBIY0Q0UIUxHRBRYUTEhQE\n",
       "qwQEG0U0P0CsIiISZ/a8y+3l7ggO7NfM7nM7s7tzgCm+OKzSDxc5pBJJwlNiUMvUvEhK9dVtehfj\n",
       "bhxNavY9JTpPiOSoOaVyVDWsUVoYGbevYY1aFGucTM8If4pBAaFlQMlAva+YyARN2P8xpk/rra7Z\n",
       "oRKethGFaRsYFqMNBKkOsj99JnKeimJH6poHdnHIvks2jQAVEeW0cGMAVqQv7Y6Mkk+4dEKWqqhw\n",
       "MCk2BWpmJWQg444Msy3vhCRZqurz16l5k5CxuDtS4fPp5eGexnJlQXZ+sfZsUfvWXrEgIYMH7sgI\n",
       "B+XYeZfBsqjh43ZUQnYsm7PCmnYxpmllc53/g6opZ2RW9AehxL2QLbv0QIojAGYQ44Nv3/FOdnyl\n",
       "GcvrpukEviRp69rSIsXyP8dj36U/hwBvr4hVGLdizkCKixJoQQpNiJ/vph3JpoHd/B1Pz9Hz+fNk\n",
       "a+LqLx2xc6Hb7zUZqWuifJvPbURhKjUade6nkIbxIJsyL6UE6UU/8vtIe6Q2ukMijykZSZ2QklbV\n",
       "OnJMG1aZREB3tiYnUdck65LcLNKDLn0P7aZg8bEa2pF2fxTdHCWPH8UvkR+icb71FXwAAAAASUVO\n",
       "RK5CYII=\n",
       "\" style=\"display:inline;vertical-align:middle;\" /></a></span></td></tr>\n",
       "<tr><td>&nbsp;</td><td colspan=4 style=\"text-align:left\"><span style=\"font-size:20px;\"><a class=\"ProveItLink\" href=\"../../../../__pv_it/common/674a03b9c3ca221b3aabd5636837b31528ff33830/expr.ipynb\"><img src=\"data:image/png;base64,iVBORw0KGgoAAAANSUhEUgAAABIAAAAJBAMAAADN8WE8AAAAMFBMVEX///9mZmaYmJgyMjIiIiIQ\n",
       "EBCqqqru7u5ERETMzMyIiIjc3NxUVFR2dna6uroAAAAPJcEmAAAAAXRSTlMAQObYZgAAAGNJREFU\n",
       "CNdj4Luze9UpzlvnGBh4OboY6tcxpDIwTGMxYNh/gUGfgaGg/gFDfgHDCQYGhnwGBhEGhiggS5iB\n",
       "wZeB7zc7A0MsA/s/BkaDbQzc/xjYPjAwX7jAwOfAwCXAwCa0AQBn+hZiKtaxkQAAAABJRU5ErkJg\n",
       "gg==\n",
       "\" style=\"display:inline;vertical-align:middle;\" /></a> : <a class=\"ProveItLink\" href=\"../../__pv_it/common/2778428c7f555b2bdc06aa0530bc142c6e6335100/expr.ipynb\"><img src=\"data:image/png;base64,iVBORw0KGgoAAAANSUhEUgAAAAgAAAAPBAMAAAArJJMAAAAAIVBMVEX///8yMjJmZmaIiIiYmJh2\n",
       "dnZUVFTu7u4QEBCqqqoAAAADAhFxAAAAAXRSTlMAQObYZgAAACBJREFUCNdjYAADznYGhrKw5UAW\n",
       "CykEM5BgylioAjYDAHBOCeDSSky9AAAAAElFTkSuQmCC\n",
       "\" style=\"display:inline;vertical-align:middle;\" /></a>, <a class=\"ProveItLink\" href=\"../../../../__pv_it/common/8968bb04eb3f7dfa02353397ce929b025bbd79c20/expr.ipynb\"><img src=\"data:image/png;base64,iVBORw0KGgoAAAANSUhEUgAAAAwAAAAJBAMAAAD0ltBnAAAAMFBMVEX///8QEBCYmJgyMjIiIiKq\n",
       "qqrMzMzu7u5ERERmZmaIiIjc3NxUVFR2dna6uroAAABXsXCEAAAAAXRSTlMAQObYZgAAAEdJREFU\n",
       "CNdj4Luze9UsBgZeji6G+g0MqSwGDPsTGArqHzDoMzAwxDMwHAZSkxkYPrEzMMgysH7nZeD+x8Br\n",
       "oMbA58DAfSgAABUwDxmEwURaAAAAAElFTkSuQmCC\n",
       "\" style=\"display:inline;vertical-align:middle;\" /></a> : <a class=\"ProveItLink\" href=\"../../__pv_it/common/ba3b059982e8b49413dc653e957beb11e974e4bc0/expr.ipynb\"><img src=\"data:image/png;base64,iVBORw0KGgoAAAANSUhEUgAAAAkAAAAOBAMAAAAPuiubAAAALVBMVEX///+qqqqIiIgyMjLc3Nwi\n",
       "IiIQEBC6urp2dnZUVFTMzMxERERmZmbu7u4AAAAQI6y7AAAAAXRSTlMAQObYZgAAAFJJREFUCNdj\n",
       "4D2zewEDw00GjucMDGcZGNIYGFIZGOY5MNhdYJgHlGBgiLsAJNhfgJisE0DkGRDBdABEyjCwODBw\n",
       "NTAwOTC4dvRMZWCwe/fuKQMANh0TGKpG4roAAAAASUVORK5CYII=\n",
       "\" style=\"display:inline;vertical-align:middle;\" /></a>, <a class=\"ProveItLink\" href=\"../../../../__pv_it/common/63b7c64bf9ec7a04ecc396c7a1670f3f12fb59490/expr.ipynb\"><img src=\"data:image/png;base64,iVBORw0KGgoAAAANSUhEUgAAAAoAAAAOBAMAAADkjZCYAAAAMFBMVEX////MzMxUVFSIiIjc3NyY\n",
       "mJh2dna6urqqqqpmZmYyMjIiIiIQEBBERETu7u4AAAA59f8xAAAAAXRSTlMAQObYZgAAAE9JREFU\n",
       "CNdj4LuzgQEIuCaASP4GEFn/AERmgwiGlQytUxj4fjC7f2Xg+GfHF8DAeRIkzK18GUi+L/AvYGCI\n",
       "Z3jfkMCgy8AvkMBwg4F58gMA1VoTUDpQu/EAAAAASUVORK5CYII=\n",
       "\" style=\"display:inline;vertical-align:middle;\" /></a> : <a class=\"ProveItLink\" href=\"../../__pv_it/common/7d0a36793ffe8d307a5c120ee5598162e8cd2db10/expr.ipynb\"><img src=\"data:image/png;base64,iVBORw0KGgoAAAANSUhEUgAAAAoAAAAOBAMAAADkjZCYAAAAMFBMVEX///9mZma6urpUVFREREQQ\n",
       "EBDc3NwiIiLu7u6qqqoyMjLMzMyYmJiIiIh2dnYAAADXmt2vAAAAAXRSTlMAQObYZgAAAFFJREFU\n",
       "CNdjYOC785qBgWElQ3sCA08AA98CBhYDBs4fDPwGDEw/GfoFGJj+MuQ/YOAGkgIM3P+gIkBZzp8M\n",
       "LA4MPD+guhgqGVo3MDD03bVmAABi3RThwIkdoQAAAABJRU5ErkJggg==\n",
       "\" style=\"display:inline;vertical-align:middle;\" /></a>, <a class=\"ProveItLink\" href=\"../../../../__pv_it/common/c06c606ec12678c58933ac85412ecadc2ae28be60/expr.ipynb\"><img src=\"data:image/png;base64,iVBORw0KGgoAAAANSUhEUgAAAAsAAAAJBAMAAAAWSsseAAAAMFBMVEX///9UVFSqqqrMzMwiIiJE\n",
       "RESYmJgyMjK6urru7u4QEBCIiIh2dnZmZmbc3NwAAABRgo0vAAAAAXRSTlMAQObYZgAAAEdJREFU\n",
       "CNdjYOC7c3slAwND1wP2DwwMnMsYeAMYGHh/MrBsYGDgCmCYb8DAMP8Agz5QxXwFBnGmBwysG9gc\n",
       "eYAqpTc/3MEAAP4BD32xAXDqAAAAAElFTkSuQmCC\n",
       "\" style=\"display:inline;vertical-align:middle;\" /></a> : <a class=\"ProveItLink\" href=\"../__pv_it/theorems/813709d3ebeb9feb0b188d7544e2e59c93ec80270/expr.ipynb\"><img src=\"data:image/png;base64,iVBORw0KGgoAAAANSUhEUgAAABcAAAAUBAMAAACUkLs9AAAAMFBMVEX////MzMxUVFR2dna6uroQ\n",
       "EBCqqqqIiIgiIiJmZmYyMjJERETu7u6YmJjc3NwAAACgK8IjAAAAAXRSTlMAQObYZgAAAItJREFU\n",
       "GNNjYOC7wAAGeSDiNITNwPQASKwDYrYYBgaeBQwMvBMYGA4Z/QGKmDMwcIBkeUGcowwMLxhgHC4H\n",
       "hko4h3kCw144h3cBQxucw9bAEALnMH5A5SCUsTSgGmAJ4rCDOJwGDB4gSvXXXKClAhDngMEJiEMh\n",
       "AOhQhn1QNsgLcM9xg9TDvH2PgQEA1SMnJpoizf8AAAAASUVORK5CYII=\n",
       "\" style=\"display:inline;vertical-align:middle;\" /></a>, <a class=\"ProveItLink\" href=\"../../../../__pv_it/common/195236b98c6c564a75b5dbada74b173bc52d5c3e0/expr.ipynb\"><img src=\"data:image/png;base64,iVBORw0KGgoAAAANSUhEUgAAAAkAAAAOBAMAAAAPuiubAAAALVBMVEX///+YmJjc3NyIiIhUVFR2\n",
       "dna6urqqqqpmZmYyMjIiIiIQEBBERETu7u4AAAALjtrwAAAAAXRSTlMAQObYZgAAAE9JREFUCNdj\n",
       "4D29gAEIOBtAJF8BiMy7ACKjQATDFON2BgbelxfuKTCwv2XgM2DgmMBwLwCkPK+AgU+Aoe8CA18C\n",
       "70YGBhYBHqARvM2BDAwAqXgQspq5HJAAAAAASUVORK5CYII=\n",
       "\" style=\"display:inline;vertical-align:middle;\" /></a> : <a class=\"ProveItLink\" href=\"../__pv_it/theorems/006ca7fac35fa78ab48746b6e8ae349de6de1e270/expr.ipynb\"><img src=\"data:image/png;base64,iVBORw0KGgoAAAANSUhEUgAAACkAAAAUBAMAAADiqgm2AAAAMFBMVEX////MzMxUVFR2dna6uroQ\n",
       "EBCqqqqIiIgiIiJmZmYyMjJERETu7u6YmJjc3NwAAACgK8IjAAAAAXRSTlMAQObYZgAAALdJREFU\n",
       "GNNjYOC7wIAK8kDEaTRBBqYHQGIdEKcegIqwxTAw8CxgYOCdwMCjrA8VPWT0B0iaMzBwgNTfh6nl\n",
       "BYkeZWB4wYAhyuXAUIkpyjyBYS+mKO8ChjZMUbYGhhBMUcYPOESxmMDSgMM2SxCn/gADzy8Qgx0k\n",
       "ymnA4AGkJsWvvMDQAVTPqfprLtAXAhAfgwMGZgrDCXDoQAAzPCiBocOwD8o+DhMEhSQ81OFRwg0y\n",
       "EyOG7jEwAAC2UUBXDGAPMQAAAABJRU5ErkJggg==\n",
       "\" style=\"display:inline;vertical-align:middle;\" /></a>, <a class=\"ProveItLink\" href=\"../../../../__pv_it/common/ceef4280a2f1cc604b455b54e735507244cc62cd0/expr.ipynb\"><img src=\"data:image/png;base64,iVBORw0KGgoAAAANSUhEUgAAAAkAAAAJBAMAAAASvxsjAAAALVBMVEX///+YmJgQEBDu7u5mZmZU\n",
       "VFQyMjJERESqqqoiIiLc3NzMzMyIiIh2dnYAAABuqkWTAAAAAXRSTlMAQObYZgAAADZJREFUCNdj\n",
       "YGC4c2YDA8PKBvYEBoa5DKwNDCyPGYCAqQBE2l0AkXwCDAxA8QAGE6DKu4IHGABBiAr2Gi8OxgAA\n",
       "AABJRU5ErkJggg==\n",
       "\" style=\"display:inline;vertical-align:middle;\" /></a> : <a class=\"ProveItLink\" href=\"../../__pv_it/common/ba3b059982e8b49413dc653e957beb11e974e4bc0/expr.ipynb\"><img src=\"data:image/png;base64,iVBORw0KGgoAAAANSUhEUgAAAAkAAAAOBAMAAAAPuiubAAAALVBMVEX///+qqqqIiIgyMjLc3Nwi\n",
       "IiIQEBC6urp2dnZUVFTMzMxERERmZmbu7u4AAAAQI6y7AAAAAXRSTlMAQObYZgAAAFJJREFUCNdj\n",
       "4D2zewEDw00GjucMDGcZGNIYGFIZGOY5MNhdYJgHlGBgiLsAJNhfgJisE0DkGRDBdABEyjCwODBw\n",
       "NTAwOTC4dvRMZWCwe/fuKQMANh0TGKpG4roAAAAASUVORK5CYII=\n",
       "\" style=\"display:inline;vertical-align:middle;\" /></a>, <a class=\"ProveItLink\" href=\"../../../../__pv_it/common/4f5c524ffda87296de1c79b96880123fe2efedd50/expr.ipynb\"><img src=\"data:image/png;base64,iVBORw0KGgoAAAANSUhEUgAAAAsAAAAOBAMAAAALT/umAAAAMFBMVEX///9UVFSYmJiIiIjc3Nwy\n",
       "MjIiIiJ2dnbu7u66urqqqqpmZmYQEBBERETMzMwAAAAYOWz6AAAAAXRSTlMAQObYZgAAAFpJREFU\n",
       "CNdjYGBg4LuzgQEE+BeAqfkNYKoMTDJEAzHLdrtfQGqOA+8PBgaOQwzcAQwM3D8Y2AoYGHguMPRP\n",
       "YGDoL2BYD1TRv4BBlMuBgdeAKZEdqFLYztGSAQAyzhFdhFkSwwAAAABJRU5ErkJggg==\n",
       "\" style=\"display:inline;vertical-align:middle;\" /></a> : <a class=\"ProveItLink\" href=\"../../../../core_expr_types/tuples/__pv_it/axioms/4bb7d36ca64d107000d79d4921539d4617258ebf0/expr.ipynb\"><img src=\"data:image/png;base64,iVBORw0KGgoAAAANSUhEUgAAAAwAAAAUBAMAAABL3sEiAAAAMFBMVEX////MzMxUVFR2dna6uroQ\n",
       "EBCqqqqIiIgiIiJmZmYyMjJERETu7u6YmJjc3NwAAACgK8IjAAAAAXRSTlMAQObYZgAAAGNJREFU\n",
       "CNdjYOC7wPaAgYHhNAODHpBax8BwioGBdwIDA3MBAwdQgieA4QVQnGEJQyWIsmTYC6JuMbSBqAyG\n",
       "EBAlD6PAgh4wJZYgajKQDwQLIYY1wIxm2Ae2CGQtkAV0BO8DBgBfVhetSSF8+gAAAABJRU5ErkJg\n",
       "gg==\n",
       "\" style=\"display:inline;vertical-align:middle;\" /></a></span></td></tr><tr><td><a name=\"0x7fc92f2395bbcda2_step10\">10</a></td><td>axiom</td><td></td><td><span style=\"font-size:20px;\"> <a class=\"ProveItLink\" href=\"../../../ordering/_theory_nbs_/axioms.ipynb#transitivity_less_less\" style=\"text-decoration: none\">&nbsp;&#x22A2;&nbsp;&nbsp;</a><a class=\"ProveItLink\" href=\"../../../ordering/__pv_it/axioms/9f76bd0488397f68a3738bd169ec694e6cd1b3200/expr.ipynb\"><img src=\"data:image/png;base64,iVBORw0KGgoAAAANSUhEUgAAANEAAAAWBAMAAACs+WTQAAAAMFBMVEX///8QEBCIiIhmZma6urrM\n",
       "zMxUVFQiIiJERETc3Nzu7u6qqqp2dnaYmJgyMjIAAAAcRTyBAAAAAXRSTlMAQObYZgAAArFJREFU\n",
       "SMetVUtoE0EY/prsZrt5elAQRAkGSgkechEKeggVLIqPxIOKF0tQUKgStB6UtuSiJIVKQPpAEFda\n",
       "Kq09BARBoRByTKUuKqiQwh700lIIguDj4j+z2Ue2XU1hB5Jv/m9m9puZ/5sZwLvyxL3pNf00Vlnz\n",
       "QihYcG8LlIEVVln3Qila/scsaEEzhHLBC6UPTiL0zarXaCYKEK54oXTXEUdu2xb5jOL64uK0F0Jy\n",
       "vj32jSj2rU0DP4vFES+UfClKx8Hr/TU9XLplNAzsFlWEqfUqUHIZLOxEqVulz+NTfIxHs6OmGSYS\n",
       "fbR1ZIlj3BjbD24PT27pYGckSnYd75QT3NUblu244UK0txJ8akdKFwed7W1MF2VCQVEP5jfs3Shh\n",
       "YpOMp0roRGlqyx63M0wJ+N6KHo1aOWDzYUqydp75/XBPhsgeSMwx0+uTllI4cY5yOXufqv2DuGcC\n",
       "Z+SxhYy1exB/GN+3HPGKyzFnlq6QcZSbEs0pHFOyjD/SiFtKyYA2jKWvrFr9Le4yQGf8yzWbI974\n",
       "mkg6XB5KIaA7Ai9JTsQmYx8PoJc3v7DtXiaqQtzPj8xc3ldogc5Qwo1TTz4W/nQ3ZdVxci803tOc\n",
       "/FWqxvj8f/HWo8jx4Wl7nmI0YpUz/mogboDOYM5MRx7BXDKx5ryNUpED1DPK9jii8IyJjB7GHgaT\n",
       "uGRTuowMgn2sq5TuMkFn5IyouNxGbeW5UXka1sKYUXBHaBLIQ8sFU0luroKWLl+jlUmZs5DHObSY\n",
       "qZXPrjesvRjZxPzHWh3ZCo73agQRca9iKgVvnDrEIvlBGULuIcR9HFqMmh03z8R/Xg17qQTLzEGV\n",
       "7U+uWMICJmj7ddCZDl9CxyxC5UD1DAOX2wgYEjT2UnPY0ev+xfGgQGhUGbgqnX5Lf6oOnha/lx/7\n",
       "C9Lis2q4HMiOAAAAAElFTkSuQmCC\n",
       "\" style=\"display:inline;vertical-align:middle;\" /></a></span></td></tr>\n",
       "<tr><td>&nbsp;</td><td colspan=4 style-\"text-align:left\"><a class=\"ProveItLink\" href=\"../../../ordering/_theory_nbs_/axioms.ipynb#transitivity_less_less\">proveit.numbers.ordering.transitivity_less_less</a></td></tr><tr><td><a name=\"0x7fc92f2395bbcda2_step11\">11</a></td><td>conjecture</td><td></td><td><span style=\"font-size:20px;\"> <a class=\"ProveItLink\" href=\"proofs/less_1_2/thm_proof.ipynb\" style=\"text-decoration: none\">&nbsp;&#x22A2;&nbsp;&nbsp;</a><a class=\"ProveItLink\" href=\"../__pv_it/theorems/de566d14109e3353602244bae3447431ee27dc570/expr.ipynb\"><img src=\"data:image/png;base64,iVBORw0KGgoAAAANSUhEUgAAADAAAAAPBAMAAABQAFHMAAAAMFBMVEX///+6urpERETc3NwiIiLM\n",
       "zMwyMjJmZmaIiIiYmJh2dnZUVFTu7u4QEBCqqqoAAAD7YXnbAAAAAXRSTlMAQObYZgAAAJVJREFU\n",
       "GNNjYMACjhepAkm+O+jiPBsY1gswnF79B0nsWQCQYD/AwHuBgYETSWJKMYjkdWDg/owi0bIGTLH9\n",
       "YeD+iiTBs6QBroTlD0KCp2QCwkz5BQiJbQ+QHOHNAJfgQZZgL0BIMDAjGdXOwIDVcr4CBmNszmWI\n",
       "YmBoZmDgwPAgs9eqagcG9r3fKtGChO3///8ODLgAAJC0L58BnxxZAAAAAElFTkSuQmCC\n",
       "\" style=\"display:inline;vertical-align:middle;\" /></a></span></td></tr>\n",
       "<tr><td>&nbsp;</td><td colspan=4 style-\"text-align:left\"><a class=\"ProveItLink\" href=\"proofs/less_1_2/thm_proof.ipynb\">proveit.numbers.numerals.decimals.less_1_2</a></td></tr><tr><td><a name=\"0x7fc92f2395bbcda2_step12\">12</a></td><td>instantiation</td><td><a href=\"#0x7fc92f2395bbcda2_step25\">25</a>, <a href=\"#0x7fc92f2395bbcda2_step26\">26</a>, <a href=\"#0x7fc92f2395bbcda2_step27\">27</a></td><td><span style=\"font-size:20px;\"> <a class=\"ProveItLink\" href=\"../__pv_it/demonstrations/585e0860fac640aae25acc27f93f7c1b036101bb0/proof.ipynb\" style=\"text-decoration: none\">&nbsp;&#x22A2;&nbsp;&nbsp;</a><a class=\"ProveItLink\" href=\"../__pv_it/demonstrations/d17cc9c7d464b55cdf1a0de1efc4e284a234335c0/expr.ipynb\"><img src=\"data:image/png;base64,iVBORw0KGgoAAAANSUhEUgAAADAAAAAOBAMAAACbXIJpAAAAMFBMVEX///+YmJiqqqqIiIgyMjLc\n",
       "3NwiIiIQEBC6urp2dnZUVFTMzMxERERmZmbu7u4AAADrYmUNAAAAAXRSTlMAQObYZgAAAMVJREFU\n",
       "GNNj4Lt7ZgMDGng7cykDwysGzh9o4nyFDOEPGO4xMJQjxFRAurkKGLguMJQxMKwPgImLXQWR/A4M\n",
       "nB8Y/B8wrIdZYjYPTL0/wMD8FcTIfwAxepoBRJ7dAWIvx0+I+DUBqEagOSwfgTTbAjB3iQLcCYcZ\n",
       "ND8BqbsQDUgSTMI7fzMwMF+A8FjhRoFc/I+BQZeBNQDVciBgWcDAPYGBOQDVuYx1DPsDGMJmzl3G\n",
       "gOpBZj8+RwYG////v6EFCcPMuw0MAM8TNUpirVfQAAAAAElFTkSuQmCC\n",
       "\" style=\"display:inline;vertical-align:middle;\" /></a></span></td></tr>\n",
       "<tr><td>&nbsp;</td><td colspan=4 style=\"text-align:left\"><span style=\"font-size:20px;\"><a class=\"ProveItLink\" href=\"../../../../__pv_it/common/a0d9d672aa5e272d907247690c152cc2c6daafb70/expr.ipynb\"><img src=\"data:image/png;base64,iVBORw0KGgoAAAANSUhEUgAAAAsAAAAJBAMAAAAWSsseAAAALVBMVEX///9mZmaqqqrMzMxEREQy\n",
       "MjIiIiKYmJh2dna6urrc3NxUVFSIiIju7u4AAACJHQtQAAAAAXRSTlMAQObYZgAAAEJJREFUCNdj\n",
       "YLhzeuWJAwy8Dew5bAEMHBc43nIuYOBlYHFgAAG+A2DKzgBIMF04x8BzgWGegh/DcgaG22fuiBcw\n",
       "AAATyhBrnyPYZQAAAABJRU5ErkJggg==\n",
       "\" style=\"display:inline;vertical-align:middle;\" /></a> : <a class=\"ProveItLink\" href=\"../../__pv_it/common/ba3b059982e8b49413dc653e957beb11e974e4bc0/expr.ipynb\"><img src=\"data:image/png;base64,iVBORw0KGgoAAAANSUhEUgAAAAkAAAAOBAMAAAAPuiubAAAALVBMVEX///+qqqqIiIgyMjLc3Nwi\n",
       "IiIQEBC6urp2dnZUVFTMzMxERERmZmbu7u4AAAAQI6y7AAAAAXRSTlMAQObYZgAAAFJJREFUCNdj\n",
       "4D2zewEDw00GjucMDGcZGNIYGFIZGOY5MNhdYJgHlGBgiLsAJNhfgJisE0DkGRDBdABEyjCwODBw\n",
       "NTAwOTC4dvRMZWCwe/fuKQMANh0TGKpG4roAAAAASUVORK5CYII=\n",
       "\" style=\"display:inline;vertical-align:middle;\" /></a>, <a class=\"ProveItLink\" href=\"../../../../__pv_it/common/ff7dba4ef0bbe791ab573bf2d9c220a304399ac80/expr.ipynb\"><img src=\"data:image/png;base64,iVBORw0KGgoAAAANSUhEUgAAAAsAAAANBAMAAACN24kIAAAAMFBMVEX///8iIiKYmJhUVFTMzMxE\n",
       "REQyMjKqqqq6urp2dnYQEBDc3NxmZmaIiIju7u4AAACH5sGpAAAAAXRSTlMAQObYZgAAAFlJREFU\n",
       "CNdj4LtzgWHXAwZOjgUM9xkYtvMkMIQyMDzgusDwl4GBof8ByxcgdYyBdwGQCmZgNQBShxn6FYDU\n",
       "47vnNzAwgGUZGJgT+H4AKUYF1gtAiuPuESAJAJGkFvXVdzA+AAAAAElFTkSuQmCC\n",
       "\" style=\"display:inline;vertical-align:middle;\" /></a> : <a class=\"ProveItLink\" href=\"../../__pv_it/common/0a19a501c0770212f27a044b71e9c626b8ca0bec0/expr.ipynb\"><img src=\"data:image/png;base64,iVBORw0KGgoAAAANSUhEUgAAAAoAAAAOBAMAAADkjZCYAAAAKlBMVEX////u7u4yMjIQEBC6uroi\n",
       "IiKIiIiYmJhmZmaqqqpERER2dnbc3NwAAAAz17lDAAAAAXRSTlMAQObYZgAAAE5JREFUCNdjYDi9\n",
       "eyUDA08Dw9wCBrabDLwBDCwmDLwKDEAAFGFgYIwGEjxbG0ECDMkOIJLZkIHnAAMXUPFFEMm8gIH1\n",
       "IgN7AVi9R8cSBgCvphDNutx7AgAAAABJRU5ErkJggg==\n",
       "\" style=\"display:inline;vertical-align:middle;\" /></a>, <a class=\"ProveItLink\" href=\"../../../../__pv_it/common/95a8f6b9b9f29b83f192ad7fd05708d6be097a3f0/expr.ipynb\"><img src=\"data:image/png;base64,iVBORw0KGgoAAAANSUhEUgAAAAoAAAAJBAMAAAD5iKAgAAAAMFBMVEX///8yMjJ2dnaqqqpUVFTc\n",
       "3NxmZmaIiIhERETu7u6YmJjMzMwQEBAiIiK6uroAAABWQA0ZAAAAAXRSTlMAQObYZgAAADZJREFU\n",
       "CNdjYOC782AXA8OM5WkNDAwTGCIYgIC7E0Q+ARHMDiDSjIHBgYH7llbhAwY2hjVyDABOxArzLvBK\n",
       "ugAAAABJRU5ErkJggg==\n",
       "\" style=\"display:inline;vertical-align:middle;\" /></a> : <a class=\"ProveItLink\" href=\"../../__pv_it/common/b7ca2b03651013759f042f9b6ee93402bd97837b0/expr.ipynb\"><img src=\"data:image/png;base64,iVBORw0KGgoAAAANSUhEUgAAAAoAAAAOBAMAAADkjZCYAAAALVBMVEX////MzMyqqqq6urqIiIhE\n",
       "REQyMjKYmJgQEBDc3NxUVFR2dnZmZmbu7u4AAABDhPggAAAAAXRSTlMAQObYZgAAAFVJREFUCNdj\n",
       "YLizeyUDA287w4wLDFwNDFwHGPgSGLgfMNwLYGB5ycABZD8GcdmeMzCEMGg/YmBgKpF+yAAEXG9B\n",
       "JNsCBvZeBrkJDCy5vOlA/u4zBgwArBUUgWOHdRMAAAAASUVORK5CYII=\n",
       "\" style=\"display:inline;vertical-align:middle;\" /></a></span></td></tr><tr><td><a name=\"0x7fc92f2395bbcda2_step13\">13</a></td><td>axiom</td><td></td><td><span style=\"font-size:20px;\"> <a class=\"ProveItLink\" href=\"../../../../core_expr_types/tuples/_theory_nbs_/axioms.ipynb#empty_range_def\" style=\"text-decoration: none\">&nbsp;&#x22A2;&nbsp;&nbsp;</a><a class=\"ProveItLink\" href=\"../../../../core_expr_types/tuples/__pv_it/axioms/438c247a4da0fa76c97bce9ba29562d299db59eb0/expr.ipynb\"><img src=\"data:image/png;base64,iVBORw0KGgoAAAANSUhEUgAAAUkAAAAWBAMAAAC/C3MNAAAAMFBMVEX///8QEBCIiIhmZma6urrM\n",
       "zMxUVFQiIiJERETc3Nzu7u6qqqp2dnaYmJgyMjIAAAAcRTyBAAAAAXRSTlMAQObYZgAAA79JREFU\n",
       "SMfNV0toE1EUPW2SSTOTSYrgpm5CC9JltAspVqkIfhbadCPuzKKCQpGA4A8XoYK0gjiuLAVpjKLY\n",
       "RRsQlArSoFBBQQYF0UUlUnXhohQpohXE9583nWRaiIgP7uPe3PNuzr3vO8BfaTeFeBYsZ2PDSJsV\n",
       "EnRLT42aC02SNItcgNtdDtOMIk6GDpFAWB0wSEKGUy+q9Lyk9tcmWaYcLsDwXIVphovp0CESCDsP\n",
       "k5TKrNWLKj3jxEwUm2T5RgjMlTtCA5KZsOprQOCpkGBU4UmVSLxKkyzPC4G1LDVCpD1khA4EbgkJ\n",
       "RhUe+8XU1I0mSSYKXEi+SiPtU8gQHxCpfi6BqMrzY3T0YiiHNcs6FkS0ZrnA3nY6y7TydmI9axxT\n",
       "AVHuppyzXAJRlec4MEZ/7HOlB/hMu6jImmaUkxSLsPr9cUhrc7kA6QzXqnuI8SEkdQlEtoX0do0L\n",
       "8GqJtkUZVXn28u2V7KxSFrxwbJ228Xj0QLEkyR4yC71eWUWZ4xUuwGSOaYnKbmI8CmEpgLCdNOmt\n",
       "AhdfYxGlJ45WF3WWhWAZqwrTYPUlA+4G/rKlnwswxy0T34hyLISlABLkANm+sWUugajKk3TjbApK\n",
       "9VkaOd2kLFNOY5bPhWWtrsNSArm2PstE7Qid/2u7KImt7Ajp0macplDeqbNkpYdC+2b8srDa8kTZ\n",
       "H8JSAoFFETZa8NblFzXjyjM2RH97x3YKq2gkWvNY0lMqe1hnaeVxYpQ0Nynr7+2eTcKaqVTDd48E\n",
       "wvwFfffoc6nvHjxgSfTQboIt+PvJvMfyAAnkzOsso/KmmpDbQx0k5oqwBhLkL/pg/qY/0m6mpika\n",
       "kK+NSJWL/0jN6p40u8muMs+Il4VguY87Ty19XFpyGcuYSnpETr2cluiysIwFfp6dpdU+Q6cvL5UL\n",
       "0IGIFMRJp047aFE9j83mbTNLcZVB047H8ijtfvpqmSecSXMFWrshk0VoNyRdHYE9icfwAeO0YveE\n",
       "BG9Iv8ckhR8vWbVq4gowqO1xCom1S5MeXbacGoL2vzYeplxpiddGMrgi6RgFjJXowbn+a0Mr72DF\n",
       "HHZiW4BujWWcVKO1KMzEju8ZROTJStByoTtMzk0rizRqlIOPIbq+FHCyeglo9HJrc9Z67Ky8ciy1\n",
       "OvktSM+VjHcVkWXS8BX8uldZ4PeuG7zBaaeARpfrJVknqt+TepuT3wCzxsEOjSWKGLpe0lk+2dgX\n",
       "hb3xL4r3QoJuvyfZKdOEa8w7OstDGGbfBgmZYRb/U4uIPbKmJq2lf0/lDyC3MFmw9lfxAAAAAElF\n",
       "TkSuQmCC\n",
       "\" style=\"display:inline;vertical-align:middle;\" /></a></span></td></tr>\n",
       "<tr><td>&nbsp;</td><td colspan=4 style-\"text-align:left\"><a class=\"ProveItLink\" href=\"../../../../core_expr_types/tuples/_theory_nbs_/axioms.ipynb#empty_range_def\">proveit.core_expr_types.tuples.empty_range_def</a></td></tr><tr><td><a name=\"0x7fc92f2395bbcda2_step14\">14</a></td><td>conjecture</td><td></td><td><span style=\"font-size:20px;\"> <a class=\"ProveItLink\" href=\"proofs/add_0_1/thm_proof.ipynb\" style=\"text-decoration: none\">&nbsp;&#x22A2;&nbsp;&nbsp;</a><a class=\"ProveItLink\" href=\"../__pv_it/theorems/3f2d2a58def48e62e6872a27a7f39bb8b2267d4d0/expr.ipynb\"><img src=\"data:image/png;base64,iVBORw0KGgoAAAANSUhEUgAAAGAAAAAUBAMAAACABSXcAAAAMFBMVEX///9UVFTMzMx2dna6uroQ\n",
       "EBCqqqqIiIgiIiJmZmYyMjJERETu7u6YmJjc3NwAAAC+aOQFAAAAAXRSTlMAQObYZgAAARhJREFU\n",
       "KM9jYOC7wIAd5OEQP83AwFxrhEWC8QF2DesYGJYxnECTZIthYOBZgKEWJMw7gYE3gIEZKpkOoQ4a\n",
       "/gGS5ujqwcIcDxi4BRjY/qBoYOAF8Y9i2AASfsHAwC/AwPINiwYuB2waKhkYzk9gYPmORQPzBGwa\n",
       "9jIwvDdgYMKmgRfsMeZVYDABJtwG1DCBgekzFg1sDdhsCEE4yWrVqtZVqxbCNTB9wKEB6Gk2bJ7G\n",
       "rgHoJO4NEAXoGlgakPwggORpzIhD9jS6DZYMIFuOKqBqYAdp4DRA1wAS9gDSh8uFGFA0cIr+mguM\n",
       "OAU09WBhDpRkl47MOYE1sfKiROcZZI459uS9D0c+wZa8YRkIO+DGkYFwZtF7WEUB5Ixd0I3H7YIA\n",
       "AAAASUVORK5CYII=\n",
       "\" style=\"display:inline;vertical-align:middle;\" /></a></span></td></tr>\n",
       "<tr><td>&nbsp;</td><td colspan=4 style-\"text-align:left\"><a class=\"ProveItLink\" href=\"proofs/add_0_1/thm_proof.ipynb\">proveit.numbers.numerals.decimals.add_0_1</a></td></tr><tr><td><a name=\"0x7fc92f2395bbcda2_step15\">15</a></td><td>theorem</td><td></td><td><span style=\"font-size:20px;\"> <a class=\"ProveItLink\" href=\"proofs/deci_sequence_reduction/thm_proof.ipynb\" style=\"text-decoration: none\">&nbsp;&#x22A2;&nbsp;&nbsp;</a><a class=\"ProveItLink\" href=\"../__pv_it/theorems/415f67c494349f3e668de6d80b9e7ca4c58bddf60/expr.ipynb\"><img src=\"data:image/png;base64,iVBORw0KGgoAAAANSUhEUgAABGwAAAAaBAMAAAAQ6tegAAAAMFBMVEX///8QEBCIiIhmZma6urrM\n",
       "zMxUVFQiIiJERETc3Nzu7u6qqqp2dnaYmJgyMjIAAAAcRTyBAAAAAXRSTlMAQObYZgAACZFJREFU\n",
       "aN7tW32MXFUVPzszbz7efGzjB1oJZtjS2iiNkxZEYIvTEAvRYGdLQktAO5lIVIRm1dpq25Sh/uEC\n",
       "QSfWbBsi8qBJWxdhJsWKTbYy7mJIlpa8dCG2tJohxRowGZtaP9oi8Zz77n3vvo+Zee9txWzYm7x3\n",
       "75x37znn3vO755573xuAIOlrm2owl97vKbZpa7AGw3NjNpcwjb5PYfO4VE7pM+cRLKXD+OyDXZ6F\n",
       "7UIIFQ4asGlR9kffsMlRltVnOWrUKt2ToJYx2xeax76PBGrwoDnrviGR136wezPlwQLL415Ym1kX\n",
       "wqjA1BiFl+n3275hk2lgltNmOWxyzATPQrqJ2VvheZwK1qIgSs/K5Is9mvU3DNS1PJ7NrAthVGBq\n",
       "jMIu8nFV37BhVXfN9jVqmt3HIVpE11kIz8M23Ol8h5r77YOPKSNVjV3oIWgVn6QTHs9m1oVQKkww\n",
       "2JDnyDT8xzbkmF6e7bD5PrtfAwm8J2qhediHuydsVplOWp1nPc30Chhf4vmTHs9m1oVQKjzJYJOd\n",
       "GhvbGSAkPjk29ovZHhmnhnlvaLHYGZ6Hfbh7wuYli/Sm19LVIYmVMFf0MsgMuhBOBbpwJ/XvkZGt\n",
       "AWDTPzLyw+Ysh02kwFfqccwWEAYGl36sO0hcFYhHrrKgEQA2pwduFKRJUdgxsa7RXfBCsRJm3MYN\n",
       "0oUdk1faQ9LMwMIwKtCFsLkH4KEAsImXIDnbz/ySOjfztZg9iteKWu5M1xbuCsSj/rZ63j9s1He1\n",
       "uhi5P4moYj78WOsuOClWwiyLiV9pUzplivTbBZT0NzsatsCPwqhAF8LmZu8YPfIBb9jECvZ9wHu3\n",
       "aS6pEzfYKP7QW3KTEg0a/je2td9tV2ELsr4Cohjqr+0s26jg5PGCBmdBqfqETfoC9Isqz4tgQYeb\n",
       "wGLhKbjFbZF2xgaBuoCSPmvvQBO+GUYFuhA2CYh4HsNs4PmawWLkMgs2eC3xFZ23/dE+52FWL2Jq\n",
       "sparGVu4GPeYnvxcsn7lftbHooQEpOjM40MA0QuQyMPt13VkZlRw8bgJ1HeUZcyamXb7Lx9vt8uu\n",
       "pugdvtVunyYmLaiL5X2d6KgGW4Gz6CS4yW2huL1JgC6gpG87CaFUoAthk9ETniAjx6SOL9PT1Sm4\n",
       "QYLNEZ9nxZP+aHWvthJR+c6LcGUZlEENqf38jEucmU36kB+tdYDNqHFsiWPeV4U6AvWWjrx4BSeP\n",
       "UxC7CLFhn94GA89VDQdsPgrqObBYeAouGrbwgk2ALqCkfzgI4VTgsEm17vCcrcTn2MExSB+NQlOC\n",
       "zc+Vsi/Y/NUf7bdebQXx6cnl8JuMFtVi9zMw9dcs2ChNiV/c1jwuy1LLnosUoNNkQRp6eHQCL0C3\n",
       "MecVnDz+Q1PRN2z6dXOGC1HqO5A+081mhmDjuXE3YpvTxmP/XeCSbIRwKsSMRQoe+irGOctXL4gs\n",
       "oglFJSNoXl2OUeyevuvOvAyb5GjRF2zO+6NNdvEU2Uce0+BQvpCBfWSSaMk4+TBgg7G5xS9pD1dt\n",
       "st7yDIlfaf+r/cA2DAwwnqw3YH261g02rML0awOFgXskHucoMPAPmyKGCcTDConVixBvHexmMyaY\n",
       "bCFCYtv6578LhiTLzIR5SIdRgYfE8By2yK7Q++6N0LykEiE4d+ILF9gLqHRp6jUZNmlaP9Wl693h\n",
       "x+5Ff5YWl7OLXPG5TMsM0CjvHvBwQCbxZrodOPCTDMDtU1g8MSRhJCHzc8PGerbELtLcyrYM/gjR\n",
       "ZD67MSNN1XqL9j3AbyAqvHoFXKYtkvai98MPwAUbq2G9ZYNNXE8WiMd8LA/yNtvhD+WmxaKDYLIF\n",
       "zhr3uYePLgglmCTLzACfAfXaMCrQRbCh8P6xT+BkYHpRica7H6fVbgM2GfPEgPE+i9fe0joN4nZc\n",
       "qN9VpFPTyOZIAe517M42R8yzhw3KPNHEUYsRoy02KgSbzDN3Y/az6yGiHZIwslOW4YaNJevX8PUR\n",
       "TLoh0nT36SZcw9cLtbJw9CppzBM0sBtB3HiF1FPD6F8GpUV899W6GzZWw0TZvgFfegSIBw2SmF97\n",
       "Bu6sFC0W3oKZLXAiuyaqny4IJZgky8yI+yNHQ6lAF8EmS9avwBBf8iuwgrKhxQ1Yg6OdT5dS+rAM\n",
       "m9fxWgZrQPmdHTbRgiJ5OgRp627HARTRROUq7YyxyTxw1mLENNpcZXY/AE22Zj3ViEzoEmxulWW4\n",
       "YWPJutUm0ny5EC0Z3bFO5m/psezG86jYFvsLCvC/SHEeMZouw+44sksiW+BUdW9yAnfBMrNXKOtL\n",
       "hb0gfW/zYVgMTyhGaZDyxcq8WtzwNvD5vAwbSpcDOuuEHTZ9jUhZ3mlEy7DZufuIls3KVhNnLSJG\n",
       "8bnyvZGR7Qibxx1bPQMjKy0Z69tvtNvmKYLxy5L1FZtIlqaNzSs7q7DeA/Ya875SpJo6U5J42AZc\n",
       "7XRoNmbjEW2WbK8yfdiMbOH1KjN4FywzB4SNpcKEBJvUGQTisQzs0rC04UDqYdiuDOczLEYuQrbp\n",
       "gI16Hh4dc8KmXku+rk0fmr7r9ywA1NBMDkAQbfrQSVasmU2ctRgx8VM0S9nwNrHV8MvDhw8X7bBZ\n",
       "K8twextL1koEEia939qJ0/7jDnFeZZ6RP99jzJ9AX5GtNiUenqdwPXgkvlhyHpj2YkG28DqUDdwF\n",
       "YWZ38q0C/3CCg62MG47RKRhqYOlqXbkcf1ZK8AgB+E1uP9nbzFfO6QQbhNnD4tZXW3cb7G/1NcYB\n",
       "fyW0Y8yPyDWItr+aIGKuCAXW5MuuWozYd/wZAIa/VwFOenmbveTujoEFG8HB+GXKMluTSAF7nKQn\n",
       "RGwmvnHa8UCl+9CthFwtdZ8m8SCp1/0zHwA2KyFyxPk2pycLZguPVzqBuyDM7MaTbxWSNfD4KJQ7\n",
       "8jSPYTG2cbxc4L3/1AIGm6GGMh+GanRrxCr7l+O2eC+FaUi/r8lMKtcgWry0loippUc13sRZixG/\n",
       "RKcASdQmtq3oOJUROykNhAy+d+Ic+C8hy4gaaWhQpGDx//0oNBvmpd7xbl7kvfnc8rhQwwkb8ZVr\n",
       "hw9X7Z6MFqmGA3AJeA6GG+LXZnDVSMCSoiDyRx61YCD3NK2oGNu4kwGbiNTa69zGlNWCuXSJkxM2\n",
       "WZ7rPmCjfPpG6WNqXtoDV0Glxn+t/nvDVWMPjOu8yB951YLrsy92VJqjomq27gQbQ5Y+Z+b/NWx6\n",
       "pE3O/0llPUqd6Fnn42xvPt1gc5vspe0+23Z4OGflS5ximzbORrWj9gW1R/rknJ0vffovqEprzPni\n",
       "mNQAAAAASUVORK5CYII=\n",
       "\" style=\"display:inline;vertical-align:middle;\" /></a></span></td></tr>\n",
       "<tr><td>&nbsp;</td><td colspan=4 style-\"text-align:left\"><a class=\"ProveItLink\" href=\"proofs/deci_sequence_reduction/thm_proof.ipynb\">proveit.numbers.numerals.decimals.deci_sequence_reduction</a></td></tr><tr><td><a name=\"0x7fc92f2395bbcda2_step16\">16</a></td><td>theorem</td><td></td><td><span style=\"font-size:20px;\"> <a class=\"ProveItLink\" href=\"proofs/nat1/thm_proof.ipynb\" style=\"text-decoration: none\">&nbsp;&#x22A2;&nbsp;&nbsp;</a><a class=\"ProveItLink\" href=\"../__pv_it/theorems/7fb9a05424b991456a1d535347793e2786ff41910/expr.ipynb\"><img src=\"data:image/png;base64,iVBORw0KGgoAAAANSUhEUgAAADIAAAAPBAMAAABU9YHxAAAAMFBMVEX///+6urrc3NzMzMwiIiJE\n",
       "REQyMjJmZmaIiIiYmJh2dnZUVFTu7u4QEBCqqqoAAABhZHJKAAAAAXRSTlMAQObYZgAAALJJREFU\n",
       "GNNjYEAHPPmhOQxc9y8yMPDdQZNinWDNwHCegeH06j9oMtzOHA0MvEAGJ0xmqotLAlhG9MBmBhYk\n",
       "GdMemB7lDccOIMnw5MBNU3jBvAFJhlsBIcMlMANJhhXhAgWGPdwmCBnbNCBIgMqcZshFyKgi62Fe\n",
       "YIuQ4UWWYZjHipBhb4DLGDAwcIGM4ID6xw8mw/YASJQB1e79VgkWOB14AEwz+18FkseQw0sqBBI6\n",
       "UAAAZMEtCDaxdO0AAAAASUVORK5CYII=\n",
       "\" style=\"display:inline;vertical-align:middle;\" /></a></span></td></tr>\n",
       "<tr><td>&nbsp;</td><td colspan=4 style-\"text-align:left\"><a class=\"ProveItLink\" href=\"proofs/nat1/thm_proof.ipynb\">proveit.numbers.numerals.decimals.nat1</a></td></tr><tr><td><a name=\"0x7fc92f2395bbcda2_step17\">17</a></td><td>theorem</td><td></td><td><span style=\"font-size:20px;\"> <a class=\"ProveItLink\" href=\"proofs/nat2/thm_proof.ipynb\" style=\"text-decoration: none\">&nbsp;&#x22A2;&nbsp;&nbsp;</a><a class=\"ProveItLink\" href=\"../__pv_it/theorems/f05a14f3b1e025929c966a4ccb020e28f34812b20/expr.ipynb\"><img src=\"data:image/png;base64,iVBORw0KGgoAAAANSUhEUgAAADIAAAAPBAMAAABU9YHxAAAAMFBMVEX///+YmJiqqqqIiIgyMjLc\n",
       "3NwiIiIQEBC6urp2dnZUVFTMzMxERERmZmbu7u4AAADrYmUNAAAAAXRSTlMAQObYZgAAAOBJREFU\n",
       "GNNj4Lt7ZgMDMuDzP+PHwFlfwfCKgfMHigwDj8AuBob3DAz3GBjKUWW4spkNGNgZGMoYGNYHgEVk\n",
       "0tIcwDI9D1YzsDEw+D9gWA+2aI8dTE/0gicP2MDM/Acgi/3gpgUocy8Ay3D8hPARMpwNwmAZtgVg\n",
       "FyFcEMCwjmsbiHUXzN/uAgQOUJlXDO5ABvMFsEwMsh7uCduBDF0GVpAV7MgyDEJAw7knMDCDZHgN\n",
       "4DJAT3ACjQibOXcZWCAJJsOiACSuAH36//83sMCrEw/ANHd+DZB8ghxenccgoQMFAOa6NR2IZoaj\n",
       "AAAAAElFTkSuQmCC\n",
       "\" style=\"display:inline;vertical-align:middle;\" /></a></span></td></tr>\n",
       "<tr><td>&nbsp;</td><td colspan=4 style-\"text-align:left\"><a class=\"ProveItLink\" href=\"proofs/nat2/thm_proof.ipynb\">proveit.numbers.numerals.decimals.nat2</a></td></tr><tr><td><a name=\"0x7fc92f2395bbcda2_step18\">18</a></td><td>axiom</td><td></td><td><span style=\"font-size:20px;\"> <a class=\"ProveItLink\" href=\"../../../number_sets/natural_numbers/_theory_nbs_/axioms.ipynb#zero_in_nats\" style=\"text-decoration: none\">&nbsp;&#x22A2;&nbsp;&nbsp;</a><a class=\"ProveItLink\" href=\"../../../number_sets/natural_numbers/__pv_it/axioms/41585b68a7dd1d513f84c532999561d9671aca5e0/expr.ipynb\"><img src=\"data:image/png;base64,iVBORw0KGgoAAAANSUhEUgAAADMAAAAPBAMAAAC7N+rPAAAAMFBMVEX///9mZma6urpUVFREREQQ\n",
       "EBDc3NwiIiLu7u6qqqoyMjLMzMyYmJiIiIh2dnYAAADXmt2vAAAAAXRSTlMAQObYZgAAAONJREFU\n",
       "GNNjYOC785oBBXR98WpgePpVgYFhJUN7AqqcD7cBA8cHBgaeAAa+BahS5hvuMjAEMDCwGDBw/gCL\n",
       "8LiXV4EZRh7MGxgKGBj4DRiYfoIEuH0boLrMNnOsAEn1CzAw/QXbDpNhMOO8sBkklf+AgRssZQa3\n",
       "y4zhEc8FkJQAA/c/kIADkhRzgzWSgdxRq4AAKsVhwBUAdgYnyBlsyLoY9nGDHO/AwAN2fACyFM8E\n",
       "ByQvy8KlrIH4GciQSobWDSAB9gkwqZVAzAhS3nfXGizAYaIBkdn+FaiDAyXwmJ5AAwoKAGQvOOyD\n",
       "fUpGAAAAAElFTkSuQmCC\n",
       "\" style=\"display:inline;vertical-align:middle;\" /></a></span></td></tr>\n",
       "<tr><td>&nbsp;</td><td colspan=4 style-\"text-align:left\"><a class=\"ProveItLink\" href=\"../../../number_sets/natural_numbers/_theory_nbs_/axioms.ipynb#zero_in_nats\">proveit.numbers.number_sets.natural_numbers.zero_in_nats</a></td></tr><tr><td><a name=\"0x7fc92f2395bbcda2_step19\">19</a></td><td>instantiation</td><td><a href=\"#0x7fc92f2395bbcda2_step28\">28</a></td><td><span style=\"font-size:20px;\"> <a class=\"ProveItLink\" href=\"../__pv_it/demonstrations/c412a04f6b1dcfbf83c964881a5370c80ef20a4d0/proof.ipynb\" style=\"text-decoration: none\">&nbsp;&#x22A2;&nbsp;&nbsp;</a><a class=\"ProveItLink\" href=\"../__pv_it/demonstrations/489b505fb7c85aa124de40cc5d5a4daef5a95ff70/expr.ipynb\"><img src=\"data:image/png;base64,iVBORw0KGgoAAAANSUhEUgAAAKoAAAAVBAMAAAAkxGgRAAAAMFBMVEX///9UVFQQEBCqqqoiIiJm\n",
       "ZmYyMjJERESYmJjc3NyIiIi6urp2dnbu7u7MzMwAAAADGpxCAAAAAXRSTlMAQObYZgAAAYpJREFU\n",
       "OMtjeMuAAfguoAlgUYMXvGU4DaZnQLiWYJJnA5oqiBrOBoLGMU+Aqgfr4C2AiDJOwGPqdSJcKYls\n",
       "KhvQNGZdoOkJeEzNBGKjC7hNBMldQza1lYHh4sG/QMYp3KZyBDDwysjjNBUix7MAyVRPkC6QqZdw\n",
       "m8oCCp1+PG4FyfEqIEzldICZyrYBp6lTGIgwlSEbYSpXAMxUngCcpi4lytSjCFPZG2CmciTATOVJ\n",
       "A4MAuKkVRJnahjCVxQBmKrMDTrc6E2WqCcJUpg0wU/k+4DRVmyhT39PaVEQIcDughasAiSGwBX9s\n",
       "YbiV5NgCpycukKmsB3CaCk4z6y8w8H4D0veBtoMZcB5YjoEhBmEqyN+sQt8igLngAU5TQX4L1E9t\n",
       "YHAB6mYBhYwjA5Rg8YXJMeSh5VgwuEIgx4KLO8xQsIWXBg6opQsE4C9dIIAHM0gPwBgopQs71B14\n",
       "S8JKKO8WZnm1AMa6hq3UZiem1MasEjjgrEqo+nXINUwnmOR6gKZrHbE1DAfEz+sAOcitm8vTqu0A\n",
       "AAAASUVORK5CYII=\n",
       "\" style=\"display:inline;vertical-align:middle;\" /></a></span></td></tr>\n",
       "<tr><td>&nbsp;</td><td colspan=4 style=\"text-align:left\"><span style=\"font-size:20px;\"><a class=\"ProveItLink\" href=\"../../../../__pv_it/common/c06c606ec12678c58933ac85412ecadc2ae28be60/expr.ipynb\"><img src=\"data:image/png;base64,iVBORw0KGgoAAAANSUhEUgAAAAsAAAAJBAMAAAAWSsseAAAAMFBMVEX///9UVFSqqqrMzMwiIiJE\n",
       "RESYmJgyMjK6urru7u4QEBCIiIh2dnZmZmbc3NwAAABRgo0vAAAAAXRSTlMAQObYZgAAAEdJREFU\n",
       "CNdjYOC7c3slAwND1wP2DwwMnMsYeAMYGHh/MrBsYGDgCmCYb8DAMP8Agz5QxXwFBnGmBwysG9gc\n",
       "eYAqpTc/3MEAAP4BD32xAXDqAAAAAElFTkSuQmCC\n",
       "\" style=\"display:inline;vertical-align:middle;\" /></a> : <a class=\"ProveItLink\" href=\"../../__pv_it/common/2778428c7f555b2bdc06aa0530bc142c6e6335100/expr.ipynb\"><img src=\"data:image/png;base64,iVBORw0KGgoAAAANSUhEUgAAAAgAAAAPBAMAAAArJJMAAAAAIVBMVEX///8yMjJmZmaIiIiYmJh2\n",
       "dnZUVFTu7u4QEBCqqqoAAAADAhFxAAAAAXRSTlMAQObYZgAAACBJREFUCNdjYAADznYGhrKw5UAW\n",
       "CykEM5BgylioAjYDAHBOCeDSSky9AAAAAElFTkSuQmCC\n",
       "\" style=\"display:inline;vertical-align:middle;\" /></a></span></td></tr><tr><td><a name=\"0x7fc92f2395bbcda2_step20\">20</a></td><td>instantiation</td><td><a href=\"#0x7fc92f2395bbcda2_step29\">29</a></td><td><span style=\"font-size:20px;\"> <a class=\"ProveItLink\" href=\"../__pv_it/demonstrations/a2b93295becb2dac5f84e6f85fc35a7bc838cb9e0/proof.ipynb\" style=\"text-decoration: none\">&nbsp;&#x22A2;&nbsp;&nbsp;</a><a class=\"ProveItLink\" href=\"../__pv_it/demonstrations/32ad5514dc4b57541441ebf89316f1c1d0010d1e0/expr.ipynb\"><img src=\"data:image/png;base64,iVBORw0KGgoAAAANSUhEUgAAAL4AAAAVBAMAAAAKgUmDAAAAMFBMVEX///9UVFQQEBCqqqoiIiJm\n",
       "ZmYyMjJERESYmJjc3NyIiIi6urp2dnbu7u7MzMwAAAADGpxCAAAAAXRSTlMAQObYZgAAAbhJREFU\n",
       "OMu1la1Pw0AYxp+tXdeNdllwuP0DJAgMgqRIEkiKAoGYwpAQLIZgIMFNgsMgMEsFniEwQMIgMMv+\n",
       "ABZQSxBjXG/dXe+r1PAkvd3ee+53n3kPA2So1pUCmW6NBnigv2dywxItvUgKG9yqrFbipz38fbm9\n",
       "0DLzVbeot81DYC7NdwjNmmdjk5rfNPNFtyK/jqcIvTT/GHi+HSXtk9q9mS+4VZW6KDbgXaT4q+Rz\n",
       "WQ9aezHzRbeiYoDCN/wG51cCle9EJr7kVuSMUPgBdjm/Gqp8LzTxJbdONmm94/zykcp3m1O+t0MV\n",
       "TvmSW6ebDnDC+faCyrcC0/wlt04r5Fvk/GKk8mtfJr7k1t2geK2f/8e/hMjX7c9MIO1/Pff+WCHO\n",
       "geu85yvP/8/z/QCuhPOld7FKerzTrBDXUOqY+KI7LvwhUv8qa48bZPHbnB/vRWl2uAV7HUkNTt/E\n",
       "F912PbkvtBKHnPF4TCx7Un6gWmak1+z8ILmhhPxAzG8TdZgxO7/JbighIb+VW8mgF2z4jPysunlu\n",
       "ZqGe7n1xmbGc431x1enz0EHib+tfvFNaVvtSuJ33fXQna2z/Ao6Ju6/LxxWDAAAAAElFTkSuQmCC\n",
       "\" style=\"display:inline;vertical-align:middle;\" /></a></span></td></tr>\n",
       "<tr><td>&nbsp;</td><td colspan=4 style=\"text-align:left\"><span style=\"font-size:20px;\"><a class=\"ProveItLink\" href=\"../../../../__pv_it/common/c06c606ec12678c58933ac85412ecadc2ae28be60/expr.ipynb\"><img src=\"data:image/png;base64,iVBORw0KGgoAAAANSUhEUgAAAAsAAAAJBAMAAAAWSsseAAAAMFBMVEX///9UVFSqqqrMzMwiIiJE\n",
       "RESYmJgyMjK6urru7u4QEBCIiIh2dnZmZmbc3NwAAABRgo0vAAAAAXRSTlMAQObYZgAAAEdJREFU\n",
       "CNdjYOC7c3slAwND1wP2DwwMnMsYeAMYGHh/MrBsYGDgCmCYb8DAMP8Agz5QxXwFBnGmBwysG9gc\n",
       "eYAqpTc/3MEAAP4BD32xAXDqAAAAAElFTkSuQmCC\n",
       "\" style=\"display:inline;vertical-align:middle;\" /></a> : <a class=\"ProveItLink\" href=\"../../__pv_it/common/2778428c7f555b2bdc06aa0530bc142c6e6335100/expr.ipynb\"><img src=\"data:image/png;base64,iVBORw0KGgoAAAANSUhEUgAAAAgAAAAPBAMAAAArJJMAAAAAIVBMVEX///8yMjJmZmaIiIiYmJh2\n",
       "dnZUVFTu7u4QEBCqqqoAAAADAhFxAAAAAXRSTlMAQObYZgAAACBJREFUCNdjYAADznYGhrKw5UAW\n",
       "CykEM5BgylioAjYDAHBOCeDSSky9AAAAAElFTkSuQmCC\n",
       "\" style=\"display:inline;vertical-align:middle;\" /></a>, <a class=\"ProveItLink\" href=\"../../../../__pv_it/common/195236b98c6c564a75b5dbada74b173bc52d5c3e0/expr.ipynb\"><img src=\"data:image/png;base64,iVBORw0KGgoAAAANSUhEUgAAAAkAAAAOBAMAAAAPuiubAAAALVBMVEX///+YmJjc3NyIiIhUVFR2\n",
       "dna6urqqqqpmZmYyMjIiIiIQEBBERETu7u4AAAALjtrwAAAAAXRSTlMAQObYZgAAAE9JREFUCNdj\n",
       "4D29gAEIOBtAJF8BiMy7ACKjQATDFON2BgbelxfuKTCwv2XgM2DgmMBwLwCkPK+AgU+Aoe8CA18C\n",
       "70YGBhYBHqARvM2BDAwAqXgQspq5HJAAAAAASUVORK5CYII=\n",
       "\" style=\"display:inline;vertical-align:middle;\" /></a> : <a class=\"ProveItLink\" href=\"../../__pv_it/common/2778428c7f555b2bdc06aa0530bc142c6e6335100/expr.ipynb\"><img src=\"data:image/png;base64,iVBORw0KGgoAAAANSUhEUgAAAAgAAAAPBAMAAAArJJMAAAAAIVBMVEX///8yMjJmZmaIiIiYmJh2\n",
       "dnZUVFTu7u4QEBCqqqoAAAADAhFxAAAAAXRSTlMAQObYZgAAACBJREFUCNdjYAADznYGhrKw5UAW\n",
       "CykEM5BgylioAjYDAHBOCeDSSky9AAAAAElFTkSuQmCC\n",
       "\" style=\"display:inline;vertical-align:middle;\" /></a></span></td></tr><tr><td><a name=\"0x7fc92f2395bbcda2_step21\">21</a></td><td>conjecture</td><td></td><td><span style=\"font-size:20px;\"> <a class=\"ProveItLink\" href=\"../../../../core_expr_types/tuples/_theory_nbs_/proofs/tuple_len_0_typical_eq/thm_proof.ipynb\" style=\"text-decoration: none\">&nbsp;&#x22A2;&nbsp;&nbsp;</a><a class=\"ProveItLink\" href=\"../../../../core_expr_types/tuples/__pv_it/theorems/0e50a84fcd29aed2e6c3f826159fa446aca6ee610/expr.ipynb\"><img src=\"data:image/png;base64,iVBORw0KGgoAAAANSUhEUgAAAJkAAAAVBAMAAACnAFEqAAAAMFBMVEX///9UVFQQEBCqqqoiIiJm\n",
       "ZmYyMjJERESYmJjc3NyIiIi6urp2dnbu7u7MzMwAAAADGpxCAAAAAXRSTlMAQObYZgAAAatJREFU\n",
       "OMtjeMsAB0hMHAL4Ad8FhtNAirOBeQKQOo0uDRGYQdgcSzDJswGs4zoDgyRO03gL8Jt0qucBA+ME\n",
       "JNMyGRiu4TSNDaiSWRenYWwGvJ4MvAkI0zgCgKwFuExrZWC4ePAvTtOaGBiOAR2IMI0FaDuvAi7T\n",
       "PIGYA7dphQwM9hcYLiFMmwJiZuMwjdMBv2kfGRj2GzCwbYCbthQkehSHaVwBeE3j/Qo0bQEDTwDc\n",
       "tAqQcBvUNJ40MAiAmcbegNc0zj8MDO8XMHAkwE1zBgmb4HAbiwF+04Bue3+AgdkBbpo2SPg9DtOY\n",
       "NhDjU74PVDENFAv2BsimgX26BTXcBIj0KUM5A0P/BQZuB+yxgO42ArEATb1IsXAUJBqDwzRw3HMB\n",
       "TbsP0gAieL8hM1gMePUYGFgPwE3bAtKZh8M0kB9Yhb5FMLD4gvSCQsARxnC5ADTy1MIHwNz6ADVn\n",
       "OeDLWWBgi+FL5gsw1hUScj0EHMAwjQdRLCGVSJX4SiT2CdCUtQDDtFvwVJeAWlpWEiwtOTDjswHG\n",
       "YIeVluvAJTkHiLsOXfU6YkvyTjDJ9QAAefyjssLNpqIAAAAASUVORK5CYII=\n",
       "\" style=\"display:inline;vertical-align:middle;\" /></a></span></td></tr>\n",
       "<tr><td>&nbsp;</td><td colspan=4 style-\"text-align:left\"><a class=\"ProveItLink\" href=\"../../../../core_expr_types/tuples/_theory_nbs_/proofs/tuple_len_0_typical_eq/thm_proof.ipynb\">proveit.core_expr_types.tuples.tuple_len_0_typical_eq</a></td></tr><tr><td><a name=\"0x7fc92f2395bbcda2_step22\">22</a></td><td>conjecture</td><td></td><td><span style=\"font-size:20px;\"> <a class=\"ProveItLink\" href=\"proofs/digit1/thm_proof.ipynb\" style=\"text-decoration: none\">&nbsp;&#x22A2;&nbsp;&nbsp;</a><a class=\"ProveItLink\" href=\"../__pv_it/theorems/3df1cca99ad05f2a8aebb3ef0737f6373364d0ea0/expr.ipynb\"><img src=\"data:image/png;base64,iVBORw0KGgoAAAANSUhEUgAAAEcAAAAVBAMAAADm2O7QAAAAMFBMVEX///+6urrc3NzMzMwiIiJE\n",
       "REQyMjJmZmaIiIiYmJh2dnZUVFTu7u4QEBCqqqoAAABhZHJKAAAAAXRSTlMAQObYZgAAARxJREFU\n",
       "KM9jYCAA+KoWEFIRwDCboZ2AmgwGhosM+gfwqeHMZGBg+sTAL4BHDQdQDQPPZwb+B7jVMPqBqYsM\n",
       "9hMwJXnyQ3MYuO5f5FkKtuYpw3wgzXcHTRXrBGsGhvNA1UtB9jB32CswnF79B00RtzNHAwMviNUG\n",
       "VHWAQRTkB5iiqS4uCWBFogc2M7CAhaZNYIhgCEZSZNoDM0l5w7EDEEUMbxgkuhQQinhy4NYpvGDe\n",
       "wIIWZH+gUghFXAIzsCtiRThcgWEPtwkDXygQxKAqsk0DggSootMMuVhNUkU2iXmBLVZFvMiKGOax\n",
       "YlXE3gBXZMDAwKWKFtnQcPKDCbCBYqMMRQ373m+VYMbpQEjiYva/CiSP4UgbUiGQaMEEAL96RAF5\n",
       "xvhdAAAAAElFTkSuQmCC\n",
       "\" style=\"display:inline;vertical-align:middle;\" /></a></span></td></tr>\n",
       "<tr><td>&nbsp;</td><td colspan=4 style-\"text-align:left\"><a class=\"ProveItLink\" href=\"proofs/digit1/thm_proof.ipynb\">proveit.numbers.numerals.decimals.digit1</a></td></tr><tr><td><a name=\"0x7fc92f2395bbcda2_step23\">23</a></td><td>conjecture</td><td></td><td><span style=\"font-size:20px;\"> <a class=\"ProveItLink\" href=\"proofs/digit2/thm_proof.ipynb\" style=\"text-decoration: none\">&nbsp;&#x22A2;&nbsp;&nbsp;</a><a class=\"ProveItLink\" href=\"../__pv_it/theorems/e8ae35c4438e1b3e86d0cbd7416badda7926d2c90/expr.ipynb\"><img src=\"data:image/png;base64,iVBORw0KGgoAAAANSUhEUgAAAEcAAAAVBAMAAADm2O7QAAAAMFBMVEX///+YmJiqqqqIiIgyMjLc\n",
       "3NwiIiIQEBC6urp2dnZUVFTMzMxERERmZmbu7u4AAADrYmUNAAAAAXRSTlMAQObYZgAAAUlJREFU\n",
       "KM9jYCAAmG5OIKTiAIMUgy0BNc4MDBUM8Q/wqWF0ZGBg/crA34BHDTNQDQPfbwZ+BdxqOJLAVAXD\n",
       "fgEGvrtnNqBI8vmf8WPgrK/gmwO2RodBvoHhFQPnD1QjeAR2MTC8B6qeA7KH23h/AMM9BoZyVEVc\n",
       "2cwGDOwglglQ1QOGHgaGMgaG9QFgSZm0NAewop4HqxnYwEIiAgyHGU4zMPg/YFgPdtQeO5hJ0Que\n",
       "PIAoYtBjaLaEGJEPCi0+P7h1AcrcC9jQ/foTIoVQxNkgjK6IbQHYTwiHBzCs49rGwHQGCM7BBO+C\n",
       "ye0uQOAAVfSKwR0t9C+AqRhkk7gnbEdVpMvACnIOO7IiBiEeFDXcExiYQYp4DeCKgCHCGYOiKGzm\n",
       "3GVgRhJMhAUUG1dQFPn///8NzHh1ApK4uPNrgOQTHGmj8xgkWjABAFn8S03JFjE8AAAAAElFTkSu\n",
       "QmCC\n",
       "\" style=\"display:inline;vertical-align:middle;\" /></a></span></td></tr>\n",
       "<tr><td>&nbsp;</td><td colspan=4 style-\"text-align:left\"><a class=\"ProveItLink\" href=\"proofs/digit2/thm_proof.ipynb\">proveit.numbers.numerals.decimals.digit2</a></td></tr><tr><td><a name=\"0x7fc92f2395bbcda2_step24\">24</a></td><td>conjecture</td><td></td><td><span style=\"font-size:20px;\"> <a class=\"ProveItLink\" href=\"proofs/add_1_1/thm_proof.ipynb\" style=\"text-decoration: none\">&nbsp;&#x22A2;&nbsp;&nbsp;</a><a class=\"ProveItLink\" href=\"../__pv_it/theorems/ef4a13802f9640fcb6a9d48fa3326bde37bd02840/expr.ipynb\"><img src=\"data:image/png;base64,iVBORw0KGgoAAAANSUhEUgAAAGEAAAAUBAMAAABvx07iAAAAMFBMVEX////MzMxUVFR2dna6uroQ\n",
       "EBCqqqqIiIgiIiJmZmYyMjJERETu7u6YmJjc3NwAAACgK8IjAAAAAXRSTlMAQObYZgAAAR1JREFU\n",
       "KM9jYOC7wIAd5OEQZziNS4LpAboIz8zdAkBqHRCnHkCTY4sByi9A13GIgfkLAwPvBAYeZX2YjnSo\n",
       "lNEfIGmOrmMOA0MoAwMHyO77aDoYeEE6jqLriGBg0H/A8IIBpw4uBzQd6w8w6AswVOLWwTwBMzj6\n",
       "DzDsxa2DF+x15lVgANHN8pmBoQ23DrYGDCs4FBgYQhA6rFatal21ahFcB+MHDB0zGVB0oNuBqYMd\n",
       "5DY8rmJpQPKHAoidycD3gLDPkQCjAQP7AwZLELMeXQc7SAenAZqOF8aWGgwMHkDWpPiVF1B0cKr+\n",
       "mguMQQH0GPz//wc0lcBBOjLnBPY0zYsSsWeQOeY4ssE+XPkDM7UTylHcD3BI4My197ALAwB2n2Bd\n",
       "eOkMSgAAAABJRU5ErkJggg==\n",
       "\" style=\"display:inline;vertical-align:middle;\" /></a></span></td></tr>\n",
       "<tr><td>&nbsp;</td><td colspan=4 style-\"text-align:left\"><a class=\"ProveItLink\" href=\"proofs/add_1_1/thm_proof.ipynb\">proveit.numbers.numerals.decimals.add_1_1</a></td></tr><tr><td><a name=\"0x7fc92f2395bbcda2_step25\">25</a></td><td>conjecture</td><td></td><td><span style=\"font-size:20px;\"> <a class=\"ProveItLink\" href=\"../../../ordering/_theory_nbs_/proofs/transitivity_less_less_eq/thm_proof.ipynb\" style=\"text-decoration: none\">&nbsp;&#x22A2;&nbsp;&nbsp;</a><a class=\"ProveItLink\" href=\"../../../ordering/__pv_it/theorems/7b8d58341b5906ecd4ee00de1e57de439743b9390/expr.ipynb\"><img src=\"data:image/png;base64,iVBORw0KGgoAAAANSUhEUgAAANEAAAAWBAMAAACs+WTQAAAAMFBMVEX///8QEBCIiIhmZma6urrM\n",
       "zMxUVFQiIiJERETc3Nzu7u6qqqp2dnaYmJgyMjIAAAAcRTyBAAAAAXRSTlMAQObYZgAAAsNJREFU\n",
       "SMetVk1oE0EU/prsZrubPw8KgijBQClBJBehoIdQwaL4k3hQ8WIJCgq1BK0HtS25KEmgEpD+IIgr\n",
       "LZXWHgKCYKEQciqp1EUFFVIJopcWIQiCPxffTLLZzdrVBnYg+ebN29nvzXvfzCzgXHto73pBvyrr\n",
       "rDlBpKTtfZ48sMI6604wBfL/iIIWNEUop51gemMd8H4x+iWKRAV8BSeYblps/3XTIh+TXZ6fn3SC\n",
       "SE612q5h1ZzaGPAjkxl2gskVpXLsvdJbqpsL13RH33ZRg4+8l4CszWShHaZOjV6Pd6FRbk2PNMUw\n",
       "Fu6h1JEkDnNhbD651Tz2V8nNSpKo2GW8Uo9yVW8YsuOC81JuJbi0LTGd67cSfTJbHVQJFZm6Mbth\n",
       "nkgFE2skPE3CVpgmrDn2f4WVCfjWsO6PGDVgETImuXqG6f1AV5wGuyAxxUyujxtMvvBpquX0Her2\n",
       "9uOWDi5OJI/OxY3sQfyuv99QxHNOx5SZvUjCUQcliskXVBNs/GAlZDBFPNUhLHxm3eIvcVsDhNvc\n",
       "6V4qmRSx6KohYlG5NwpPXRF4RnQieIQP+tDN3U9N2YsHNIi7+QJmUq50A5TlWL3g+q4nHQu/O2uy\n",
       "Ztm5ZyuvKUp3kbpBHv9P7j2EJJ8eM9cpSDNW+Yi76AnpoCxzjplmOVJQkpHwmvU0ivr30NwAy7Ff\n",
       "5RUT2fAQdjAYx3kT0wXEofSwR6VYhwn2E5UcF1Wb06ilPdE7j3xVH6ZU3BBqBPLAUrrJJNdWQUuX\n",
       "L9PKpPgpyDkOrH3UMLHy3vaENTe9mph9WyojUcCR7iqBX9ypNpmUq8f3MUu+m4eQvAdxFwfeFqEl\n",
       "cs098Z9bw9wKSp4pqLD5zhWzmMMYpb8Obd2Elii8eU/xJAOb0wgYEKrspubQ1u3+wbLpIVSKDGyZ\n",
       "TrykP42DN0Mt59QniNvBzxn8AY9BtpB3ndb5AAAAAElFTkSuQmCC\n",
       "\" style=\"display:inline;vertical-align:middle;\" /></a></span></td></tr>\n",
       "<tr><td>&nbsp;</td><td colspan=4 style-\"text-align:left\"><a class=\"ProveItLink\" href=\"../../../ordering/_theory_nbs_/proofs/transitivity_less_less_eq/thm_proof.ipynb\">proveit.numbers.ordering.transitivity_less_less_eq</a></td></tr><tr><td><a name=\"0x7fc92f2395bbcda2_step26\">26</a></td><td>conjecture</td><td></td><td><span style=\"font-size:20px;\"> <a class=\"ProveItLink\" href=\"proofs/less_2_3/thm_proof.ipynb\" style=\"text-decoration: none\">&nbsp;&#x22A2;&nbsp;&nbsp;</a><a class=\"ProveItLink\" href=\"../__pv_it/theorems/5ee8fddf82dc23baaa124983c910f2c8e88dfb090/expr.ipynb\"><img src=\"data:image/png;base64,iVBORw0KGgoAAAANSUhEUgAAADAAAAAOBAMAAACbXIJpAAAAMFBMVEX///+YmJiqqqqIiIgyMjLc\n",
       "3NwiIiIQEBC6urp2dnZUVFTMzMxERERmZmbu7u4AAADrYmUNAAAAAXRSTlMAQObYZgAAALhJREFU\n",
       "GNNj4Lt7ZgMDGoiceYiB4RUD5w80cdYLDPoCDPcYGMoRYiog3cyfGPgTGMoYGNYHwMTFroJIjgoG\n",
       "fgcG/wcM62GWmM2DqQAaBQT5D8AcvmkGMHG+TLDOnxDONQG47dPugSi2BWDeEgUkh5k3AIm7EA0o\n",
       "Eux1QMddgOqHG8UawMDziYFBF8RAsZz/H0iCewIDcwCqc9kPMLD9YwibOXcZA6oHGQVA/vD///8b\n",
       "WpAw9N49wQAAOKUvinSXmHsAAAAASUVORK5CYII=\n",
       "\" style=\"display:inline;vertical-align:middle;\" /></a></span></td></tr>\n",
       "<tr><td>&nbsp;</td><td colspan=4 style-\"text-align:left\"><a class=\"ProveItLink\" href=\"proofs/less_2_3/thm_proof.ipynb\">proveit.numbers.numerals.decimals.less_2_3</a></td></tr><tr><td><a name=\"0x7fc92f2395bbcda2_step27\">27</a></td><td>instantiation</td><td><a href=\"#0x7fc92f2395bbcda2_step30\">30</a>, <a href=\"#0x7fc92f2395bbcda2_step31\">31</a></td><td><span style=\"font-size:20px;\"> <a class=\"ProveItLink\" href=\"../__pv_it/demonstrations/076a4f4b9a66df5a1c0f701b076d91fdbbc32fcd0/proof.ipynb\" style=\"text-decoration: none\">&nbsp;&#x22A2;&nbsp;&nbsp;</a><a class=\"ProveItLink\" href=\"../__pv_it/demonstrations/16c79567c7b5633b3846887cd14d28831531b7900/expr.ipynb\"><img src=\"data:image/png;base64,iVBORw0KGgoAAAANSUhEUgAAADEAAAARBAMAAACGHlkZAAAAMFBMVEX///9UVFTMzMzu7u4yMjIQ\n",
       "EBC6uroiIiKIiIiYmJhmZmaqqqpERER2dnbc3NwAAACDMjhQAAAAAXRSTlMAQObYZgAAANZJREFU\n",
       "GNNjYHh79zQDGmBee/EBAwPfAob9E+BiHEUg0nQCXzCQ/ZuBvwAmYVsBpkQZGKQYGNjCGPgdoBKv\n",
       "KiH0FwaG+2AGzLSH3lBr/jAw9D8AMWohAjpuMENDgHoSgE64vhjM5TkEdwfQKH+wOa0JYGdVGMBk\n",
       "eBq4728AMViDwXzOWrjUzqb7Cgx8Dxh4fkP43F4P4AbKGzDwf4bLMLA5KsBkHIFGHWBg/wzjM50B\n",
       "WznVgOkf0PQJyKHDJwQiWwxMQEJZq46hhyjvrWUMFAKTchAogvMBxSk2HCSaBfoAAAAASUVORK5C\n",
       "YII=\n",
       "\" style=\"display:inline;vertical-align:middle;\" /></a></span></td></tr>\n",
       "<tr><td>&nbsp;</td><td colspan=4 style=\"text-align:left\"><span style=\"font-size:20px;\"><a class=\"ProveItLink\" href=\"../../../../__pv_it/common/8968bb04eb3f7dfa02353397ce929b025bbd79c20/expr.ipynb\"><img src=\"data:image/png;base64,iVBORw0KGgoAAAANSUhEUgAAAAwAAAAJBAMAAAD0ltBnAAAAMFBMVEX///8QEBCYmJgyMjIiIiKq\n",
       "qqrMzMzu7u5ERERmZmaIiIjc3NxUVFR2dna6uroAAABXsXCEAAAAAXRSTlMAQObYZgAAAEdJREFU\n",
       "CNdj4Luze9UsBgZeji6G+g0MqSwGDPsTGArqHzDoMzAwxDMwHAZSkxkYPrEzMMgysH7nZeD+x8Br\n",
       "oMbA58DAfSgAABUwDxmEwURaAAAAAElFTkSuQmCC\n",
       "\" style=\"display:inline;vertical-align:middle;\" /></a> : <a class=\"ProveItLink\" href=\"../../__pv_it/common/0a19a501c0770212f27a044b71e9c626b8ca0bec0/expr.ipynb\"><img src=\"data:image/png;base64,iVBORw0KGgoAAAANSUhEUgAAAAoAAAAOBAMAAADkjZCYAAAAKlBMVEX////u7u4yMjIQEBC6uroi\n",
       "IiKIiIiYmJhmZmaqqqpERER2dnbc3NwAAAAz17lDAAAAAXRSTlMAQObYZgAAAE5JREFUCNdjYDi9\n",
       "eyUDA08Dw9wCBrabDLwBDCwmDLwKDEAAFGFgYIwGEjxbG0ECDMkOIJLZkIHnAAMXUPFFEMm8gIH1\n",
       "IgN7AVi9R8cSBgCvphDNutx7AgAAAABJRU5ErkJggg==\n",
       "\" style=\"display:inline;vertical-align:middle;\" /></a></span></td></tr><tr><td><a name=\"0x7fc92f2395bbcda2_step28\">28</a></td><td>conjecture</td><td></td><td><span style=\"font-size:20px;\"> <a class=\"ProveItLink\" href=\"proofs/tuple_len_1_typical_eq/thm_proof.ipynb\" style=\"text-decoration: none\">&nbsp;&#x22A2;&nbsp;&nbsp;</a><a class=\"ProveItLink\" href=\"../__pv_it/theorems/25f2fc4aa65ac718f6f556a1f885a07b34b52d570/expr.ipynb\"><img src=\"data:image/png;base64,iVBORw0KGgoAAAANSUhEUgAAAN0AAAAVBAMAAAAwUfbwAAAAMFBMVEX///8QEBCIiIhmZma6urrM\n",
       "zMxUVFQiIiJERETc3Nzu7u6qqqp2dnaYmJgyMjIAAAAcRTyBAAAAAXRSTlMAQObYZgAAAlxJREFU\n",
       "SMetlj9s00AUxl+cBDuOHRYmJKRIEGaLmUpBDExImRi6UCpYURZa8Wfo2AxInigLUgoSrbo4olO7\n",
       "NCoVAyyRmEBCysJQhqpjlaHqe3f3yiXOo9eKN1if37v3/ZLz+c4A02LWJTcL54pyVyhUBrDHQsWW\n",
       "uu5NjtOJd2eTdH/UVGJI+pddXmerdZO4lMq8cOlsnu5HHolvpP/Y5X323jeJcCjzamhRvSqzqKb7\n",
       "kUfiLU2c/SPjxFiR0LEr874DfPwyEnG6tmt4JGr4GKOeNcRPjZWfcmpV5j2nHybzdG2VeSjirxsb\n",
       "K/aIFbb6m601JV6l7cJT/cQjcbS8/MoecZ29SVRu38IHECUSz0tceKqfeCSeAHTsEa/Zm8SdtHaI\n",
       "TUPORQcqEuYFAxee6iceibtm/XC8ZG8U4TUo4lqqtqX/5/dceKqfeCR88Ab2iCvsjaI4Ar+OW8Oh\n",
       "xCs0XXiqn3gkooEPEq+wBFnrP/Mqwwd49+Hm7ynzmfVhB1WpPfH85s43nyWeTyU6j/FBPSuPpqyX\n",
       "rAdPq6m1Xib/3wXWC2witJiU22bEZ/ZGEdTjhQirfYmnVrqHnhk6hcdgLqd3qqb7iafEZVwRhZ43\n",
       "Z2zusTeKcL7x5ga+pi2JRxNUfHQ8A/4LvFsAc/HJbLFrarpfve8kYsxnafCzK+5na//ez1Rs57fq\n",
       "7lg/8dY4U0gf3r/ofq2jn+NFMNZv9msdpflPM6w77N1xOI8CMwlhPcd7D2P95jzKR+68DRzO2zjv\n",
       "c7qLBHzeBqnwPdEY+574oa6NyXEN1+8J3e+1SJwAHMXbmPz93SoAAAAASUVORK5CYII=\n",
       "\" style=\"display:inline;vertical-align:middle;\" /></a></span></td></tr>\n",
       "<tr><td>&nbsp;</td><td colspan=4 style-\"text-align:left\"><a class=\"ProveItLink\" href=\"proofs/tuple_len_1_typical_eq/thm_proof.ipynb\">proveit.numbers.numerals.decimals.tuple_len_1_typical_eq</a></td></tr><tr><td><a name=\"0x7fc92f2395bbcda2_step29\">29</a></td><td>conjecture</td><td></td><td><span style=\"font-size:20px;\"> <a class=\"ProveItLink\" href=\"proofs/tuple_len_2_typical_eq/thm_proof.ipynb\" style=\"text-decoration: none\">&nbsp;&#x22A2;&nbsp;&nbsp;</a><a class=\"ProveItLink\" href=\"../__pv_it/theorems/bb1c1a418873d36ac86831cd16ffb643d1ab33940/expr.ipynb\"><img src=\"data:image/png;base64,iVBORw0KGgoAAAANSUhEUgAAAPsAAAAWBAMAAAD0hvfJAAAAMFBMVEX///8QEBCIiIhmZma6urrM\n",
       "zMxUVFQiIiJERETc3Nzu7u6qqqp2dnaYmJgyMjIAAAAcRTyBAAAAAXRSTlMAQObYZgAAAxVJREFU\n",
       "SMe9lk9o01Acx39N1iZNk3YHT4JQ1A68hR1EcMOKh52k9eJBhNWhB0EkFyfOHeZBWA9CTm4ehKjg\n",
       "xg426EH0YnFFwT9Y8KKC0oMTpjCGILgeWt/v5b0mbfrSiuCDpl/e++X7Sd775fcegLidgr8ZjIwO\n",
       "t7gTOZysQ42L7vaEXmu9N3gdtweDUzZe9Tw1aqD+HA5a5YargU7tmgWQsMV4bSEafe/QdYDzDI9G\n",
       "r1F/DwducsJmsDdtEkRDjE8Tx9RuIV0rwbs8PGB4NFrG+Q0/s2EyQxR+y7jk8lyMfw9w/0VTiJcd\n",
       "iI2CnvXwaJQmKaC7oUDFZoaKHewuYMLcEeOv4AOL8TELEjugjTI8MTJera0thQOXuGH32Es6w3kR\n",
       "PmlF49NNSPwC+MrwaPR7cXE+HLiPE1AkJ8bZen7be5jcaYrwkhmNx9kko+sMj0bnAMp8bGSLqxuc\n",
       "gOKond72UqflVGwwGnxQ36LN5Hi1PhBfqAJ8YXg0OsZSmbZ1Lq5yAhHaHpC95Ew1IZOFlCV6e8Ud\n",
       "iJ8lv8cMj0YKSH5h+cHFLk4gQm6CkvUytwGVKsS3RfhYfhBexpmaZng00uuKP7rTDx9bgEqRf/YF\n",
       "95/wmEpd+GTjJJajsQ0sxD/HnPDkkxd+xj77OhxxYMTqWfvS0JOfMuEWwBTDU6PyWbK8l+J4kzQn\n",
       "meHUq7hw0SvUmTzJg0Dq9b79wNQ7DXCgO/XgkYVLEscnUbNGw8/BGhOkd1aHChlJ1FXyeHJVhKef\n",
       "pETwGEwvWisokvNvDhLOBMNTI5LLEHOlEl07ueSZTXECEdpM7uZ+UOaIGn+LGVAU4XE25TOtSRoM\n",
       "SollOhWXybKm2+02CdngZQeNDNJfsdVP5C/jxFxh0X3KxUp00e0O9pe9s8FrFsOvdIqxPX0clh3F\n",
       "+SDecqpcRG85PcGdpvsqsOWwcjfzcBJOuPELndvKnMBLopblImLDVe2eYL/d7ajghhtsbtRxw+Aj\n",
       "6hDHDSOc9H5tKzO8avc5BfmHrVz/w9ZHes312ueGPWwZFCMVmZHfD/+9/QF9Af9Lm1VaRQAAAABJ\n",
       "RU5ErkJggg==\n",
       "\" style=\"display:inline;vertical-align:middle;\" /></a></span></td></tr>\n",
       "<tr><td>&nbsp;</td><td colspan=4 style-\"text-align:left\"><a class=\"ProveItLink\" href=\"proofs/tuple_len_2_typical_eq/thm_proof.ipynb\">proveit.numbers.numerals.decimals.tuple_len_2_typical_eq</a></td></tr><tr><td><a name=\"0x7fc92f2395bbcda2_step30\">30</a></td><td>conjecture</td><td></td><td><span style=\"font-size:20px;\"> <a class=\"ProveItLink\" href=\"proofs/digits_upper_bound/thm_proof.ipynb\" style=\"text-decoration: none\">&nbsp;&#x22A2;&nbsp;&nbsp;</a><a class=\"ProveItLink\" href=\"../__pv_it/theorems/dc75143a223c3fef7fb9f1668cebc007e1d6d70b0/expr.ipynb\"><img src=\"data:image/png;base64,iVBORw0KGgoAAAANSUhEUgAAAIsAAAAUBAMAAABPB9NaAAAAMFBMVEX///8QEBCIiIhmZma6urrM\n",
       "zMxUVFQiIiJERETc3Nzu7u6qqqp2dnaYmJgyMjIAAAAcRTyBAAAAAXRSTlMAQObYZgAAAk9JREFU\n",
       "OMuVVE1oE0EU/prsJtnNbnLRiweJBNGDaA9elBS2ePAiGCuIBw/xpwcPorQWC9YigrBFhKVCLUVx\n",
       "9GKptQZkQQ/BkKiHGswKXqQKgUpBPZiDQr2Ib3azk2Rb3TrwZua9nf32fd97s8DGhuL8/dlzsgbf\n",
       "fAqFmV0/rOZeW4hZwBvufQ2F+RIMREb4fN9RtkClVKZ5xlfDUPTeQGB+yF1OAqeBCpBigFYMg4lb\n",
       "3f6tK976G6hTTvSdxbm526GcAiemvrWkWQX2WEgZwKppjoXCZMkOnZ3MZlzv+Gc/vpWyMaAR5UFg\n",
       "Yt0i5NXKft+5SVY2M+ov7iSui0PE6LsDnTQ+4Cq9tlGqVsqa9r3LgFwch/LTLdIQ8+OJTLJeRPIC\n",
       "qYdIZ2vJwy+xrQA5x/AEaT+6ibJTf0BvenUbEzil7fU8ZAprTlxgPKr24ZnGokw6Rx7BWG0YJJuI\n",
       "tfJOLrcrd565MErjmOiOGzMMpUyvhlmuZTR/mLVJIdpA2mkFpJW8/9IKeUQKE2cIoG8gy2WiYduT\n",
       "GnB0kbZLRzol7injBSv73E2DL++YTKpzifGUsPR+p8fy7petPT5By519iLCSD1Mlu2fgrS6SUAb5\n",
       "vJstkLBRDp4mAjM7kGaq2/E2yvwlPChGKkL7g55NLQXqqVX30pzi4Drnewr9kEdN8xrB3I2HXobu\n",
       "8VDsNiMno+BlIw1gvlarGf+6ml2jIpg2cdHGK759D3xce7Kz0Rcu8THS7nfRvlIBuxwk6KZL4wZi\n",
       "G/5tea0cZLyTtPn/n+gH4A+EdZqFj66KuAAAAABJRU5ErkJggg==\n",
       "\" style=\"display:inline;vertical-align:middle;\" /></a></span></td></tr>\n",
       "<tr><td>&nbsp;</td><td colspan=4 style-\"text-align:left\"><a class=\"ProveItLink\" href=\"proofs/digits_upper_bound/thm_proof.ipynb\">proveit.numbers.numerals.decimals.digits_upper_bound</a></td></tr><tr><td><a name=\"0x7fc92f2395bbcda2_step31\">31</a></td><td>conjecture</td><td></td><td><span style=\"font-size:20px;\"> <a class=\"ProveItLink\" href=\"proofs/digit3/thm_proof.ipynb\" style=\"text-decoration: none\">&nbsp;&#x22A2;&nbsp;&nbsp;</a><a class=\"ProveItLink\" href=\"../__pv_it/theorems/3d19c4485bbd9997a8a0c63547d9c9def7ff835c0/expr.ipynb\"><img src=\"data:image/png;base64,iVBORw0KGgoAAAANSUhEUgAAAEgAAAAVBAMAAAAX07VdAAAAMFBMVEX///9UVFTMzMzu7u4yMjIQ\n",
       "EBC6uroiIiKIiIiYmJhmZmaqqqpERER2dnbc3NwAAACDMjhQAAAAAXRSTlMAQObYZgAAAU1JREFU\n",
       "KM9jYCAEdt0lpGIPA6cAxwL8arY0MLAm8H3Gq2bKBAaG9w8YvuFT0wJUw2CvwPAbj5r0DSCSNYHp\n",
       "JwPD27unUSVN/hwxYLj6NcH2GIjHfYDzGwPfAob9E1BVnWQSYGD+wMBgC9at0fSPgeM3A38BqiJx\n",
       "hQ4GhgAgg8ObgYGZge0AA1sYA78DWI7zeHkJmCF2mFGBAayR05OBp4FHAcSEWMd0wgBqkpwiszNE\n",
       "EQO3AVvHPRCDuRbiXpgaBjnuBkUGVCfwXV8MkYKLyDFc42xAcydDawKIPICkiNFAqIBhzxkggBvP\n",
       "GgxyUogLEEAVMQuwBKDY9oCBBxTufMgmMegyoSji/wxRxBCArIhzwwFkRawHGNjBaWEFXEgIiO+h\n",
       "KOKcAA0n9g0wIWA4M3A5oPgtaxU4IhmYZZIhAupfgaYwO2BPGmx3oNGCAQDtU0995yGkDwAAAABJ\n",
       "RU5ErkJggg==\n",
       "\" style=\"display:inline;vertical-align:middle;\" /></a></span></td></tr>\n",
       "<tr><td>&nbsp;</td><td colspan=4 style-\"text-align:left\"><a class=\"ProveItLink\" href=\"proofs/digit3/thm_proof.ipynb\">proveit.numbers.numerals.decimals.digit3</a></td></tr><tr><td colspan=4 style=\"text-align:left\"><sup>*</sup>equality replacement requirements</td></tr></table>"
      ],
      "text/plain": [
       "\tstep type\trequirements\tstatement\n",
       "0\tinstantiation\t1, 12, 14, 15, 18, 2, 3, 4, 5*\t|- (11 + 1) = 12\n",
       "\tm : 1, k : 0, a : (1), b : 1\n",
       "1\tconjecture\t\t|- forall_{m, k in Natural} [forall_{a_{1}, ..a_{_a}.., a_{m}, b in Digits | b < 9} ((\\# (a_{1} ~ ..a_{_a}.. ~ a_{m} ~ b ~ 9 ~ ..k repeats.. ~ 9) + 1) = \\# (a_{1} ~ ..a_{_a}.. ~ a_{m} ~ (b + 1) ~ 0 ~ ..k repeats.. ~ 0))]\n",
       "2\tinstantiation\t6, 7, 8\t|- 1 < 9\n",
       "\tx : 1, y : 2, z : 9\n",
       "3\tinstantiation\t9, 10\t|- (9, ..0 repeats.., 9) = ()\n",
       "\tf(i) : 9, i : 1, j : 0\n",
       "4\tinstantiation\t9, 10\t|- (0, ..0 repeats.., 0) = ()\n",
       "\tf(i) : 0, i : 1, j : 0\n",
       "5\tinstantiation\t11, 12, 13, 14, 15, 16, 17, 18, 19, 20\t|- \\# (1 ~ (1 + 1)) = 12\n",
       "\tm : 1, n : 2, k : 0, a : (1), b : (1, 1), c : 2, d : ()\n",
       "6\taxiom\t\t|- forall_{x, y, z | x < y, y < z} (x < z)\n",
       "\tproveit.numbers.ordering.transitivity_less_less\n",
       "7\tconjecture\t\t|- 1 < 2\n",
       "8\tinstantiation\t21, 22, 23\t|- 2 < 9\n",
       "\tx : 2, y : 3, z : 9\n",
       "9\taxiom\t\t|- forall_{f, i, j | (j + 1) = i} ((f(i), ..f(a).., f(j)) = ())\n",
       "\tproveit.core_expr_types.tuples.empty_range_def\n",
       "10\tconjecture\t\t|- (0 + 1) = 1\n",
       "11\ttheorem\t\t|- forall_{m, n, k in Natural} [forall_{a_{1}, ..a_{_a}.., a_{m}, b_{1}, ..b_{_a}.., b_{n}, c, d_{1}, ..d_{_a}.., d_{k} in Digits | (b_{1} + ..b_{_a}.. + b_{n}) = c} (\\# (a_{1} ~ ..a_{_a}.. ~ a_{m} ~ (b_{1} + ..b_{_a}.. + b_{n}) ~ d_{1} ~ ..d_{_a}.. ~ d_{k}) = \\# (a_{1} ~ ..a_{_a}.. ~ a_{m} ~ c ~ d_{1} ~ ..d_{_a}.. ~ d_{k}))]\n",
       "\tproveit.numbers.numerals.decimals.deci_sequence_reduction\n",
       "12\ttheorem\t\t|- 1 in Natural\n",
       "\tproveit.numbers.numerals.decimals.nat1\n",
       "13\ttheorem\t\t|- 2 in Natural\n",
       "\tproveit.numbers.numerals.decimals.nat2\n",
       "14\taxiom\t\t|- 0 in Natural\n",
       "\tproveit.numbers.number_sets.natural_numbers.zero_in_nats\n",
       "15\tinstantiation\t24\t|- |(1)| = |(1, ..k.., 1)|\n",
       "\ta : 1\n",
       "16\tinstantiation\t25\t|- |(1, 1)| = |(1, ..k.., 2)|\n",
       "\ta : 1, b : 1\n",
       "17\tconjecture\t\t|- |()| = |(1, ..a.., 0)|\n",
       "18\tconjecture\t\t|- 1 in Digits\n",
       "19\tconjecture\t\t|- 2 in Digits\n",
       "20\tconjecture\t\t|- (1 + 1) = 2\n",
       "21\tconjecture\t\t|- forall_{x, y, z | x < y, y <= z} (x < z)\n",
       "22\tconjecture\t\t|- 2 < 3\n",
       "23\tinstantiation\t26, 27\t|- 3 <= 9\n",
       "\tn : 3\n",
       "24\tconjecture\t\t|- forall_{a} (|(a)| = |(1, ..k.., 1)|)\n",
       "25\tconjecture\t\t|- forall_{a, b} (|(a, b)| = |(1, ..k.., 2)|)\n",
       "26\tconjecture\t\t|- forall_{n in Digits} (n <= 9)\n",
       "27\tconjecture\t\t|- 3 in Digits"
      ]
     },
     "execution_count": 47,
     "metadata": {},
     "output_type": "execute_result"
    }
   ],
   "source": [
    "md_nine_add_one.instantiate({m: one, k: zero, a: ExprTuple(one), b: one}).proof()"
   ]
  },
  {
   "cell_type": "code",
   "execution_count": 48,
   "metadata": {},
   "outputs": [
    {
     "data": {
      "text/html": [
       "<span style=\"font-size:20px;\"> <a class=\"ProveItLink\" href=\"../__pv_it/demonstrations/58ffbad13370eaa3f82e297815a23259bfc1971d0/proof.ipynb\" style=\"text-decoration: none\">&nbsp;&#x22A2;&nbsp;&nbsp;</a><a class=\"ProveItLink\" href=\"../__pv_it/demonstrations/b4764f59a4ad1dac70b01eaf2e5fd78774b270590/expr.ipynb\"><img src=\"data:image/png;base64,iVBORw0KGgoAAAANSUhEUgAAAIMAAAAVBAMAAACXjEALAAAAMFBMVEX///9UVFQQEBCqqqoiIiJm\n",
       "ZmYyMjJERESYmJjc3NyIiIi6urp2dnbu7u7MzMwAAAADGpxCAAAAAXRSTlMAQObYZgAAAbFJREFU\n",
       "OMuNlDtMAkEQhn883rCG2GllpbHQUNhQca1WdFqYiIleY+KjMloRoyYmJtKYUKKlBaGwFwsosAFi\n",
       "rGktDBijFRpn75XlGJAp9nbnn/tudm5n8Y5B43wj7NkcC9ZCyys+1QrDXk854eLA9kzzCKnXr9oM\n",
       "wpe3w4N52/PKI0gPJsWKx6stEjxrh5873niRRZB+CtTsN4vWs/n0Q2PdDnf5YpZFkH4IpBt9CIQl\n",
       "omWFR3Q3eJdDSP0DeEwyiGDZDI9maLip3tFXqhyCdPFFiCKDiGfM8FAOiC1gn6YXLqJmSNuBpUd6\n",
       "QIdDhLNmuJ8ybOWwRtNlLgvSI5RFp8IgNN0MnygDmw2s0rTDIUh3NhI3jO05w0i4iMmui5iH+B2B\n",
       "kOVMc+W0EZSo6EHr0vTBU4steyM4Aq65nxrTnXKKT/iyKbWcislyDx6tvnLSj8EJzhJUrg0OIXV/\n",
       "Uix5EFGJCFTMcEoGzfu3GdryHoeQuqjftvsRganvdTpabe8B14cdcKW7iurqZfw2Uzq/oa6cNgv9\n",
       "0+yuPmBus7tXzvHwK4c3CS+pF1vY+lpp/IvvEvgDSQWTD+wdmDgAAAAASUVORK5CYII=\n",
       "\" style=\"display:inline;vertical-align:middle;\" /></a></span>"
      ],
      "text/plain": [
       "|- |(a)| = (0 + 1)"
      ]
     },
     "execution_count": 48,
     "metadata": {},
     "output_type": "execute_result"
    }
   ],
   "source": [
    "tuple_len_incr.instantiate({a:tuple_len_0.lhs.operands[0], b:a, i: tuple_len_0.rhs}, assumptions=[]).prove()"
   ]
  },
  {
   "cell_type": "code",
   "execution_count": 49,
   "metadata": {},
   "outputs": [
    {
     "data": {
      "text/html": [
       "<strong id=\"nines\">nines:</strong> <a class=\"ProveItLink\" href=\"../__pv_it/demonstrations/ba6596d4b84b2b1ac6ed7b0603b937a06a4097c50/expr.ipynb\"><img src=\"data:image/png;base64,iVBORw0KGgoAAAANSUhEUgAAAGYAAAAOBAMAAAAvVnRmAAAALVBMVEX////MzMyqqqq6urqIiIhE\n",
       "REQyMjKYmJgQEBDc3NxUVFR2dnZmZmbu7u4AAABDhPggAAAAAXRSTlMAQObYZgAAAM5JREFUKM91\n",
       "zj0LQWEYxvGLjrejI7uSzWDxEViMMvgANqXoDAajienUGS3KSMkHQCdlZDiTDJKXkMF38Cw8l7ot\n",
       "v+Xf/QIcFhOIWJu5S3DpY+BLYG/HHIKK2YW5ksAYmBJUEjXETxK4Ax5B5ViB8ZSwbkB5+MXVBVE1\n",
       "eZVAT23Pa6ioU+GHhHoHLVtDBVXkLiKhQtDLaKgg2E6dRZAtekmCCmC+/oCZ/wOV8OgPaPzyKREH\n",
       "aVcCHT/wJKgYTasugpK/swkqWGzzMvHlmtHlDbFW0hrursfwAAAAAElFTkSuQmCC\n",
       "\" style=\"display:inline;vertical-align:middle;\" /></a><br>"
      ],
      "text/plain": [
       "nines: 9999999999"
      ]
     },
     "execution_count": 49,
     "metadata": {},
     "output_type": "execute_result"
    }
   ],
   "source": [
    "nines = num(9999999999)"
   ]
  },
  {
   "cell_type": "code",
   "execution_count": 50,
   "metadata": {},
   "outputs": [],
   "source": [
    "#md_only_nine_add_one.instantiate({k: five}, assumptions=[])"
   ]
  },
  {
   "cell_type": "code",
   "execution_count": 51,
   "metadata": {},
   "outputs": [
    {
     "data": {
      "text/html": [
       "<strong id=\"number\">number:</strong> <a class=\"ProveItLink\" href=\"../__pv_it/demonstrations/4114fd2b56b86da7aca8ef317b983ecd49ebfa2f0/expr.ipynb\"><img src=\"data:image/png;base64,iVBORw0KGgoAAAANSUhEUgAAAEgAAAAOBAMAAAB+wkcFAAAAMFBMVEX///8iIiLMzMyqqqq6urqI\n",
       "iIhEREQyMjKYmJgQEBDc3NxUVFR2dnZmZmbu7u4AAABTw4smAAAAAXRSTlMAQObYZgAAAPZJREFU\n",
       "KM9V0D9Lw3AQxvGv1rRNUhJfgIMvQNDRQbBvQBAXcbKg7o6CoFkc3BwEnUJWQcRVQcTZSDo4Wskm\n",
       "DqIYUekQvN/iXZfPcDz3h4O3/BpD9HSfGTjPN6R4ylmp8JoEqSHos5gQHhH2Fa7gxuBVxJPE23Q+\n",
       "FH6gMEwcu8R7D2+oRN+wfvGPHOXW+dL/pXAi/V1Fjp7CbWj9KrKB/UQhuHuWaVssVIbmcqOYUySw\n",
       "JuMaBzOfBuZXimkD+KlAWI/AbakEGc3KFVuXI7BriGsXaqfMZgqH5fjQ4PcYq/H2oh0Dq+VLYmgn\n",
       "7k/kg66l8/BoYWmwyR8abp+ZyK9zkwAAAABJRU5ErkJggg==\n",
       "\" style=\"display:inline;vertical-align:middle;\" /></a><br>"
      ],
      "text/plain": [
       "number: 9999993"
      ]
     },
     "execution_count": 51,
     "metadata": {},
     "output_type": "execute_result"
    }
   ],
   "source": [
    "number = num(9999993)"
   ]
  },
  {
   "cell_type": "code",
   "execution_count": null,
   "metadata": {},
   "outputs": [],
   "source": []
  },
  {
   "cell_type": "code",
   "execution_count": 52,
   "metadata": {},
   "outputs": [
    {
     "data": {
      "text/html": [
       "<span style=\"font-size:20px;\"> <a class=\"ProveItLink\" href=\"../__pv_it/demonstrations/e4132c2a797b16b98729bb2715986406d04a771e0/proof.ipynb\" style=\"text-decoration: none\">&nbsp;&#x22A2;&nbsp;&nbsp;</a><a class=\"ProveItLink\" href=\"../__pv_it/demonstrations/a68019adde629588549d66f5274112a38f72e6350/expr.ipynb\"><img src=\"data:image/png;base64,iVBORw0KGgoAAAANSUhEUgAAAN4AAAAUBAMAAAAQOp5WAAAAMFBMVEX////MzMxUVFR2dna6uroQ\n",
       "EBCqqqqIiIgiIiJmZmYyMjJERETu7u6YmJjc3NwAAACgK8IjAAAAAXRSTlMAQObYZgAAAihJREFU\n",
       "SMe9lj9IHEEUxr948U50d09IleoEsbCIEa+JSXFXmk7Eyj8kGIQ0IZfCQhtFIfURhXBgYcQiLtFY\n",
       "BK2UBRHJWWSbEEjjQgikUEgguSKeJm9m3GTzZgfMFj64H3t3M9838/btmwUcH4kiHSSbdwC8zXdp\n",
       "sOZ7AgV8ym/GTezSfjFKKB3gOn3WYY3is8eAPd8ZUXDKeMxzMO4BVW5nlpCgmAXsMhr60VBmQAfQ\n",
       "qZCpITtznsOSEm6/SX6pEvMzS0gAmQGgKUB2CamvDPgJFBSuDooRUT/gkPysfuZnlpAAjpeBL8C7\n",
       "DWTOGKwTYPpIQCQ+zOc/flhhfkaJUKeb/CaBRlrNdwYM0ZKKErSTOcT59TI/s4TSsQPy24bYevMp\n",
       "g9j/a18Czq3FWL+P8vK2K2IVmk5EQunsg/ye0sAtPKhxtJTShfsSNGCiGOf3kBeoUULpdAu/QSHz\n",
       "4do3Djx6UmhVoEyJak657ssh123745fTWoBRQiDdGvpRKdd1QBQ9wQnQUovbX07vAQYJiV2E+QSa\n",
       "23SIfwWydYNfX+T+LSNOJ5SQGKtUfjwX9WKPIBcw4L135UyhcQNNdXO9/A2zhATFgCzqzCtrjQNT\n",
       "XtVXsH39+ZsWfvPMzywhQTGskpKvFDWkehfOgbuVN+x5eHZvlea/4HfPKKF0cOfXDdHP/uMMirZM\n",
       "aybJcUT9+uJheZEvWr++WOwgYVQTn7e4zIUmfZ+wE71P/AaqllfET3O0ggAAAABJRU5ErkJggg==\n",
       "\" style=\"display:inline;vertical-align:middle;\" /></a></span>"
      ],
      "text/plain": [
       "|- (9999993 + 1) = 9999994"
      ]
     },
     "execution_count": 52,
     "metadata": {},
     "output_type": "execute_result"
    }
   ],
   "source": [
    "Add(number, one)._integerBinaryEval()"
   ]
  },
  {
   "cell_type": "code",
   "execution_count": 53,
   "metadata": {},
   "outputs": [
    {
     "data": {
      "text/html": [
       "<span style=\"font-size:20px;\"> <a class=\"ProveItLink\" href=\"../__pv_it/demonstrations/e4132c2a797b16b98729bb2715986406d04a771e0/proof.ipynb\" style=\"text-decoration: none\">&nbsp;&#x22A2;&nbsp;&nbsp;</a><a class=\"ProveItLink\" href=\"../__pv_it/demonstrations/a68019adde629588549d66f5274112a38f72e6350/expr.ipynb\"><img src=\"data:image/png;base64,iVBORw0KGgoAAAANSUhEUgAAAN4AAAAUBAMAAAAQOp5WAAAAMFBMVEX////MzMxUVFR2dna6uroQ\n",
       "EBCqqqqIiIgiIiJmZmYyMjJERETu7u6YmJjc3NwAAACgK8IjAAAAAXRSTlMAQObYZgAAAihJREFU\n",
       "SMe9lj9IHEEUxr948U50d09IleoEsbCIEa+JSXFXmk7Eyj8kGIQ0IZfCQhtFIfURhXBgYcQiLtFY\n",
       "BK2UBRHJWWSbEEjjQgikUEgguSKeJm9m3GTzZgfMFj64H3t3M9838/btmwUcH4kiHSSbdwC8zXdp\n",
       "sOZ7AgV8ym/GTezSfjFKKB3gOn3WYY3is8eAPd8ZUXDKeMxzMO4BVW5nlpCgmAXsMhr60VBmQAfQ\n",
       "qZCpITtznsOSEm6/SX6pEvMzS0gAmQGgKUB2CamvDPgJFBSuDooRUT/gkPysfuZnlpAAjpeBL8C7\n",
       "DWTOGKwTYPpIQCQ+zOc/flhhfkaJUKeb/CaBRlrNdwYM0ZKKErSTOcT59TI/s4TSsQPy24bYevMp\n",
       "g9j/a18Czq3FWL+P8vK2K2IVmk5EQunsg/ye0sAtPKhxtJTShfsSNGCiGOf3kBeoUULpdAu/QSHz\n",
       "4do3Djx6UmhVoEyJak657ssh123745fTWoBRQiDdGvpRKdd1QBQ9wQnQUovbX07vAQYJiV2E+QSa\n",
       "23SIfwWydYNfX+T+LSNOJ5SQGKtUfjwX9WKPIBcw4L135UyhcQNNdXO9/A2zhATFgCzqzCtrjQNT\n",
       "XtVXsH39+ZsWfvPMzywhQTGskpKvFDWkehfOgbuVN+x5eHZvlea/4HfPKKF0cOfXDdHP/uMMirZM\n",
       "aybJcUT9+uJheZEvWr++WOwgYVQTn7e4zIUmfZ+wE71P/AaqllfET3O0ggAAAABJRU5ErkJggg==\n",
       "\" style=\"display:inline;vertical-align:middle;\" /></a></span>"
      ],
      "text/plain": [
       "|- (9999993 + 1) = 9999994"
      ]
     },
     "execution_count": 53,
     "metadata": {},
     "output_type": "execute_result"
    }
   ],
   "source": [
    "number.num_add_eval(one)"
   ]
  },
  {
   "cell_type": "code",
   "execution_count": 54,
   "metadata": {},
   "outputs": [
    {
     "data": {
      "text/html": [
       "<a class=\"ProveItLink\" href=\"../__pv_it/demonstrations/4af1d4ec46489f76bedcf41164e1fc17976a15a60/expr.ipynb\"><img src=\"data:image/png;base64,iVBORw0KGgoAAAANSUhEUgAAAIsAAAAUBAMAAABPB9NaAAAAMFBMVEX////MzMxUVFR2dna6uroQ\n",
       "EBCqqqqIiIgiIiJmZmYyMjJERETu7u6YmJjc3NwAAACgK8IjAAAAAXRSTlMAQObYZgAAAcFJREFU\n",
       "OMullL9Lm0EYxz9JbLTJmyj4B7RLhy42NIOIQ7IIjg66tBECXVvRsV10khYKBnQJLi/O/tqc1HeR\n",
       "+mPIu0gnJVAK7SIpFBFtWu/uffM+gebexRtePve97z3v3XPPHeR9Htjm9OcMToojgeCsvmzaKbIJ\n",
       "5YvjVZJ6fBtnlu+eUY/8fAUbiU3oJ+k2jgu5GskpkjWjPoPn2EhsQotVbmAUBpoMuqRaRr2FEjYS\n",
       "m9BEWY8fwQ9o7NL/1yz2TsVv2iiydRF6U2TKvIdHKvhvo71Sfy7bSGxCcFyAVI199AIzbaOp1e/4\n",
       "NhKbEN8+qVznXJYV7/Hm2ojZ+XSpaqXI1kX0T6uNLTGt9/d1+FcgvlsoDVlJbEIw45FomTDqCP90\n",
       "1BdeDIktpCs4rOowy6abedoZ3yCGxBbSP0+H6VvSKc5VeBLU+7mXCA+yB4lN6DWseDrFYypLm84W\n",
       "jiojPninPg23N4lN6MLUzeMCk6pTrKvC+KgSkBpbU3X9md4U2YT66uuKMkP6MoTZjzL6lhgSm9Cx\n",
       "uZpBS0VTCnEkNiF1NTkI+UtHdObjKLJ1TXCDZ8u06BHMEUf+/5TVeXn4I3oJ98O4wTDvoB/NAAAA\n",
       "AElFTkSuQmCC\n",
       "\" style=\"display:inline;vertical-align:middle;\" /></a>"
      ],
      "text/plain": [
       "(9, 9, 9, 9, 9, 9, 3)"
      ]
     },
     "execution_count": 54,
     "metadata": {},
     "output_type": "execute_result"
    }
   ],
   "source": [
    "number.digits"
   ]
  },
  {
   "cell_type": "code",
   "execution_count": 55,
   "metadata": {},
   "outputs": [
    {
     "data": {
      "text/html": [
       "<span style=\"font-size:20px;\"> <a class=\"ProveItLink\" href=\"proofs/md_nine_add_one/thm_proof.ipynb\" style=\"text-decoration: none\">&nbsp;&#x22A2;&nbsp;&nbsp;</a><a class=\"ProveItLink\" href=\"../__pv_it/theorems/2fe8f16e078a889095e3f38c2586fb5fd66875f60/expr.ipynb\"><img src=\"data:image/png;base64,iVBORw0KGgoAAAANSUhEUgAAA+4AAAAaBAMAAADbIRsfAAAAMFBMVEX///8QEBCIiIhmZma6urrM\n",
       "zMxUVFQiIiJERETc3Nzu7u6qqqp2dnaYmJgyMjIAAAAcRTyBAAAAAXRSTlMAQObYZgAAChFJREFU\n",
       "aN7tWn1sFNcR//lu986392GakjaYJDrs4qRNIScIzYdBOVQ1/JecHYmkUiRfnFIFlKRWkaABZK6W\n",
       "mthFqNtSOShq4oVIkLoEX5qiFAmEa6dUIQYuIW1DgsshKtIkytkCQrBNaN/Hfrzd2/Od7+QGRR75\n",
       "eXfndt+bmd97M/NmFyiFfOufxgx9ZUhav6m0G/0ztvpqUfc1g3sgw5tJL3zpxtk/Ba6lRJm6T3ms\n",
       "cjXaz3HP0sNwUdwj9BDOTJ+RX9YbkMIu8l9JTb0P5edt/OSlodVu7Cn0tPSwCp/qGvPcuNVQkqYC\n",
       "ZeheQERrrNCCv1amEQZOJVh/rM9uvEV5HxfFPZQmh4g2fbh/pDcoWRygY6lldBKJcbPchF9r+ezC\n",
       "FHcydmQCtVQSBwVr4cIltBfBfkOBsnTPF9E+1ifYrVakUSStPM36Y312Yzv1M6miuLNbtk8f7OEY\n",
       "b6AGvIMcTpTTS02aL5NZ8MXy2YVXd54VHwUeI0vEgCDKj7sOj8PiinQA3rihQFm6myK6jxWehVC2\n",
       "Io3eBo7x/gYY7nQNh9LF4zt1CW9NH+5+lTdQA1InVtYG4gG+ymuyCI3msyc1vJ2uAsfJqndggTDF\n",
       "YodLD3ewFMivlq27KaL7WNVJBMcr0ugZ4JDG+tvBcA8f6e19roS87lRv7+/bpg/35/RGx6KeKFDW\n",
       "WH/jh74UPGP57IJ0yGkl5TJwu4pI3A2LSDy/hzbi6Q0FytLdFNF9rJokpIlKNMIlMlnSrD/aSD5/\n",
       "ubNzUwm413R2Pts/fbjX680IlR4q+LbBeZPO68DSRbU2xrm6RnqoIuv9osA+i4N3023rmduOqYFl\n",
       "h9X7bzxxmKSo206tRrBuAOF71zai+eBC4YmbyXqPIxRzwyKU7831nKTeTSYn5StVb0leaKy+GKTz\n",
       "lWikXCC4R1l/tBHcVwFdJeDuS6BanT7ct+oN+CO8CeLYiBbSHIxM+tByNTJqM/9VrY/KSJx85AuB\n",
       "PeH5LbusauzLrNCkWnwtrqyFtAHLtddVbxL+GN0+iJtV4uRHMghn3bDg3GM5SmfNG5boCjhlyquZ\n",
       "5Cu11ZLcfSygpx/y+Uo0ClwBWqKsP9oI7t93ZKjzoq64SzHmysogJaEM3FPspo28hXK5b+ZGcv+B\n",
       "P02TatwFyAWTTpK2e20/khBYw6TvwIEJkf0dhe1AIyR43Ahch3PEE8ar+lEVfTUhjVMrEdN5xH1Z\n",
       "NHg8jWCbG+5BZwg6ljvTnruaS1EFdJkeLqgoV8qpuyl5gbF6YpCvVKJRgKz3ln7WH23dFFOPbVvu\n",
       "10OKvPYNzEtadZs2LCgJ5vsd+5zAoBpRtwu7Cyln/vbakHE2W290HFpMqiK33qvhp5AXF4z0XqKf\n",
       "bZJ6s+hjsSj4ziOfCeyvG3uZJOQLw8NPEjdJPGfLsuF/ZNA8OEathM0dNm92cP7xBGS6cslU/PDm\n",
       "XC5pYiGPuu13klwBLtODdxY0D1PKTrNNyQuO5fDzU9dI9/O0P9qIiUMZezWuj0afPwwuw59Dmlez\n",
       "cD+K0lItIyTp80ZeqqEPNdBLMpQGdY+nhZOemBN3YsBhHfcboBD0pILDVqXQl3Bs3x/QtyY+Ifv1\n",
       "t3aYvwcneHhETeoQvXVvl8yttGfkgr33n2im1e1r0AX3bl7Smm3KtKKgebhSTtwtyd3HInldcKIi\n",
       "jUheR34WcA9kV9qkoCKHtzyv4WA0FhLqtC/KydJqJ2lx3khP0qmEGlXA/RM+L54h4AbG7X4e1PnQ\n",
       "dIP4eeUKgqOT4U5WyCH79j1Dl5OxEKz74j3ch0WMKMlXB7Xws5DHNH/ME9Bw2p6nn7OGtmPBuTy+\n",
       "n+P8BTz32WjKVBB3XSmnn7ckdxuLxJ0Uvy5fo07gtMb6k7ifR9ePyCDLmus9DWzxDMoNJOYT2rfv\n",
       "NyLu1d3x0monqjhvXqaieBP6fpPjzrZYgcdV9Ki4aM/rQrmR9g8/J/Gd5HXKBHzZ/ZPhnsZTQfXE\n",
       "3+tidav40HESXqnJatEi+LjT5M5+3UpoB3byaOjPQokSGMZ+EEl6pSh8Qrh7WyOLZtK8zhbfP89t\n",
       "bifxfash0yS4M6UEc3O9DckLjeWo25SjEavbCHkdXiOGDS/PVK3xsDXy6Z/6NDbEvtArjwi4B2nM\n",
       "UhY9lcjXxcZsqVsjzpsHj5DTD5oEPy+fb9Cg3EUeIR7RcF6Dhv+P0AySR4sO/DPZb+GuXKVYZ/UT\n",
       "lnyF14Xw7k34htbAnXummsUNz8fKp3xmZOnf46hJMCtR79eSxj04oyqbIE/Aq92A0Gfve7NekgVV\n",
       "q6Rjve+F2l5iM2+/AwsPxcKbv53Nco0HDZks3E15+3TYmFKCufljhuQFx9qIHYmKNPKnlet5f7RR\n",
       "3Gki+fwtZMrxQS4l9CrfPvQPCriD+pPdiRYNPsf+kzFNukWrhzhvfnc3PNpBAXfPBk9MORZnQVz+\n",
       "QoguK6yKJ0N7V90PW+PCel9HJUnqJ3QitM7v/lZgZxtxGkv1CXiU/zK0mPsmcjf52wLPIiqg9KvL\n",
       "JHo89l0N595pIDfsWnQE3YuOLMzgx29KRxe8wTrmfYcGaa04krBj4X306jKLK6TXvLRMFWAyCbib\n",
       "8vp1lJlSgrn1xwzJC421R3dpZWukDFD/EtEbxT1Me2hFE9s7Qb5uC+SfdXZ2ENxf8Iu4v0/aYjwE\n",
       "+S8O3CnTog78yz5vdqY9AxkBd7Iksk2MEUyFLzrrtEv0XadZp5WKpJO+qDyLpwal09nSbtvtrKHZ\n",
       "uEJ6neA5r1WnXVGkZ9PccJZ3i41VuUa7Ibx/vx63okemqzHVFECS4yY1i7hTmgviUf0O3BlTyE6/\n",
       "lzdvDGK4V8W9ydC/2XXz/DHne5k2/e3PiVJxr0p4UoHRxHTgbrwVUTQ3bt5rK6EqXgx309x5xfRi\n",
       "Y1Wu0YCAe2CUTMH3QtiuVUcf8oC9630XOOXAXRnD1l4n7owZbhxecoAZf5zMA2ve7BkaGorbca/R\n",
       "qtJ46Rf0SUhm3aWLN7Jp4GUCszgYLIJ7D1nx4dTUSsjrSis4ZUvkrjRKIGbh8/XJezbMLeg+BQkq\n",
       "00h/D6svqiQ+QvcRNKUjqm8+qokLktrj8DnX+xz5YobiHvglmSLGP8oMLsRcEubI1YZwKm/e2HD3\n",
       "a+/Rkbuox68216n+3UU4jTVcRH1GBO68FJ1Ul/sQUQNPaFOB/b7/ri7lNve6tAv3AyPlMb672La5\n",
       "ddKeDXMLuk9Bgso0qlbh8p2VHnNu7exw1Gn1/m+rZ7jLc9GkynPov7mcuUppIwkZuVo5hLx5Y8Nd\n",
       "foItzu2rIdW9aS2Ba+87q5NT4FpKlEEFHzs5DRqdhAvuQbXQexnxikzuoPWI/iYyGPMHzSvHvLHh\n",
       "btDDKmboSyIn7mEUx12+vVH84o+fKUlP3PftYl8CpmYsfm3iXoD8ed/PZ1zO8q9mcL8mSVq/7v87\n",
       "YGzG5tcI/Q/5KqoodmI1rQAAAABJRU5ErkJggg==\n",
       "\" style=\"display:inline;vertical-align:middle;\" /></a></span>"
      ],
      "text/plain": [
       "|- forall_{m, k in Natural} [forall_{a_{1}, ..a_{_a}.., a_{m}, b in Digits | b < 9} ((\\# (a_{1} ~ ..a_{_a}.. ~ a_{m} ~ b ~ 9 ~ ..k repeats.. ~ 9) + 1) = \\# (a_{1} ~ ..a_{_a}.. ~ a_{m} ~ (b + 1) ~ 0 ~ ..k repeats.. ~ 0))]"
      ]
     },
     "execution_count": 55,
     "metadata": {},
     "output_type": "execute_result"
    }
   ],
   "source": [
    "md_nine_add_one"
   ]
  },
  {
   "cell_type": "code",
   "execution_count": 56,
   "metadata": {},
   "outputs": [
    {
     "data": {
      "text/html": [
       "<strong id=\"number\">number:</strong> <a class=\"ProveItLink\" href=\"../__pv_it/demonstrations/a862e4d95e746d4f2b4999a736d3f9c34adb33bb0/expr.ipynb\"><img src=\"data:image/png;base64,iVBORw0KGgoAAAANSUhEUgAAAFwAAAAPBAMAAACb27UyAAAAMFBMVEX////MzMxUVFTu7u4yMjIQ\n",
       "EBC6uroiIiKIiIiYmJhmZmaqqqpERER2dnbc3NwAAACdcR52AAAAAXRSTlMAQObYZgAAAclJREFU\n",
       "KM+Vkb+LE0EYhp/NZpNsks0Ge3EtLDxQt7gDsclqqqsMrAhqs51iFawVItyVx22hYCUB4YpAuFgq\n",
       "iFuJKKjYeChLAmIpnBcVzpyJ38zc/QEOsw/Dt++834+B7/lbOL+xBexsNK07wzyXo9XHHn6cGHAh\n",
       "P3uIRp+XKX0KI5aTauQuFos9kZcDVtJGbGBf41uoQWWG362l2BFvqGdV8QpEvh5wCpYMCh0KfQ1K\n",
       "V/EjL8PuluYi82Q3JeeDgJ8wNvAjvF0NUUgxpYPQS+sd9LqlbhUD+wA2vypMWhmVuYb8su/Buf0v\n",
       "+Bd3VL9k8j0uBlwR40TDEePfGpL30xNxW7RprVIeyTEVh57Ix3A51ZAiivsaym494fnNX0lrl2oM\n",
       "Ld2ByOu92nikwWtezAxkObEbsBn7XVzJtiaRp0rOs/vjpkHt0fEfBo0J9ZkTYs3KEa5kuyu1fNBy\n",
       "aSk8QmFq4E9Frgo4LYNV7vJItaXB9vWexC5xBH1d4GSUp448zjtrSrWD9UdP0wl4GFpzAzfmxEQD\n",
       "N1Vzb+P2OMPKiNpfI89YC5dTg0rbXjWA24NXcGwoI/eGJ2WuN5Tae7+Xep9VTIF8kBzi/9Y/+3mj\n",
       "6i2a3MQAAAAASUVORK5CYII=\n",
       "\" style=\"display:inline;vertical-align:middle;\" /></a><br>"
      ],
      "text/plain": [
       "number: 386749999"
      ]
     },
     "execution_count": 56,
     "metadata": {},
     "output_type": "execute_result"
    }
   ],
   "source": [
    "number = num(386749999)"
   ]
  },
  {
   "cell_type": "code",
   "execution_count": 57,
   "metadata": {},
   "outputs": [
    {
     "data": {
      "text/html": [
       "<a class=\"ProveItLink\" href=\"../__pv_it/demonstrations/003f29934613c5f0abbbbcf6da9b62c0585f01eb0/expr.ipynb\"><img src=\"data:image/png;base64,iVBORw0KGgoAAAANSUhEUgAAARIAAAAVBAMAAAB4a3wcAAAAMFBMVEX///9UVFQQEBCqqqoiIiJm\n",
       "ZmYyMjJERESYmJjc3NyIiIi6urp2dnbu7u7MzMwAAAADGpxCAAAAAXRSTlMAQObYZgAABAJJREFU\n",
       "SMfNVl1oFFcU/rKz/zszkcrChkqNLf43ZQt9kGLqClXxQdw+bCu6xaRYmqK1gdIHC8W1EElDHoaC\n",
       "YGmFpYKgLHEJYqEU3D6kCbqyU4kRRNh9KfhQSWKM0aZ2e+7P7NxxcaB9scOy92PuPed+5zvnnju4\n",
       "h//Hcw/X+Hj6+VHQLD5cE0yMQcSqk2kxZVyYKMtVV0sNPprb89WqY/q7XJb/xfL6NLP/lsXNahfQ\n",
       "pTIJWzgF7ZGYDgErBZoph/o4iDabzXnHfLsYbhRiPV6/wRW+2yba3hgb8I2NGZXJEHAxjQdifgvk\n",
       "JD5HZFCQo+idbeJrxPgCkPQ6/sGfyc22Nx3d6MhCLypMdgPjZTwU85PAtAjisWOi068h8el+MdLq\n",
       "msdv7KQ/k6G2N5190OdgdLtMYhleOjI7V77EFAeRbsXqJwdUBBNjiXT0FIoe9mWiLba9qg8iTtEe\n",
       "dpnEealNV6RmzVFRu51Hrx5oWQ3KMWpJTdaRJmXV79eCyeVNWz/GqdGuxAdT+RRFuY8K+81SEUMP\n",
       "cmnz7EifYhEgTZaBCZdJpEB/3++w5YLaQ4HqAwimnYALEtyGZEKp+bSgll9RarK291FiD8btwGZM\n",
       "Z3HJTvRou/EOsAO4BWRUFecQpkScdJmI/eKbpYwH9gpUn0PIOR71VnIcJpGiVkurbiGZHKJgKwgw\n",
       "YtoyXgU2aa/his2YjNsoqjJ+ga0LwBsuk4BQ+WUhxQnE73PUmUF0Wdqcc7LdcJhgy1itoXh9y2FC\n",
       "87P7hk8UwlkYi+bi8HAKZumgxZgEl857a2fkj79ptZfJt8BxESLJMMtRsA9RWcXYJcc7aDEBVttK\n",
       "cioOkw+BbcyemGBJW2BzH1mznInxa/Op7tfxxMOEZadpSybGHM0X5HFvaeL0tddzufv7HTf9anjJ\n",
       "3MG1XPoj5LsomJAmf7JEZjB7hpgUz7gO5cPYX/JW7HpgrwhxI73gx9N8gpA8yKZyBGVn+8o2H3u9\n",
       "BoQmR7iahqyTnVTknRVs+67Rjyy1gpRiEO0BaaVWrE6SDbN+Umdn7LKNEYFW4Uba4P1O+4vEkp1v\n",
       "vUDn7JmCWEZ/fAyIk05ZMBcQssMbWWOgRL9PE7W79rvIUsUek8uZRfwTY4AM8i6TBB2tRO69MoJ7\n",
       "WPzJCYn0/EvA20yp2CuQCJPNFEf6BDUbvozuG3bl6MfnWVJ/bH4G/Lb/OsKpCy8S/2TJjiVLtwfQ\n",
       "scr6eWS0LJdzy2qOnZWj3m4vnl60Ic32Q73Pbqph/6u5ZWlkvDeg0y3akA4/VPnPTNwN1BswYjl9\n",
       "0u2YaDVVH2QUn72V/0eCaznz1JeSKGa3rFuo4IeiPp8jq+ctHyau5THJZOx5fz1GBd+xfwBeBjp4\n",
       "afwingAAAABJRU5ErkJggg==\n",
       "\" style=\"display:inline;vertical-align:middle;\" /></a>"
      ],
      "text/plain": [
       "|(3, 8, 6, 7, 4, 9, ..4 repeats.., 9)|"
      ]
     },
     "execution_count": 57,
     "metadata": {},
     "output_type": "execute_result"
    }
   ],
   "source": [
    "Len(DecimalSequence(three, eight, six, seven, four, ExprRange(i, nine, one, four)).digits)"
   ]
  },
  {
   "cell_type": "code",
   "execution_count": 58,
   "metadata": {},
   "outputs": [],
   "source": [
    "# md_nine_add_one.instantiate({m: four, k: four, a: number.digits[:-5], \n",
    "#                             b: number.digits[-5]}, \n",
    "#                            assumptions=[])"
   ]
  },
  {
   "cell_type": "code",
   "execution_count": 59,
   "metadata": {},
   "outputs": [],
   "source": [
    "# need to redo .as_int() method to handle DecimalSequences because the .string() does not return the correct number\n",
    "# md_nine_add_one.instantiate({m: four, k: four, ExprTuple(var_range(a, one, four)): number.digits[:-5], \n",
    "#                             b: number.digits[-5]}, \n",
    "#                            assumptions=[InSet(three, Digit), InSet(eight, Digit), \n",
    "#                                         InSet(six, Digit), InSet(seven, Digit), InSet(four, Digit), InSet(one, Digit),\n",
    "#                                        InSet(five, Digit), InSet(zero, Digit)])"
   ]
  },
  {
   "cell_type": "code",
   "execution_count": 60,
   "metadata": {},
   "outputs": [],
   "source": [
    "# same issue as cell above\n",
    "#Add(number, one).do_reduced_evaluation()"
   ]
  },
  {
   "cell_type": "code",
   "execution_count": null,
   "metadata": {},
   "outputs": [],
   "source": []
  },
  {
   "cell_type": "code",
   "execution_count": 61,
   "metadata": {},
   "outputs": [],
   "source": [
    "# Add(number, one).evaluation(assumptions=[InSet(zero, NaturalPos), InSet(three, Digit), InSet(eight, Digit), \n",
    "#                                         InSet(six, Digit), InSet(seven, Digit), InSet(four, Digit), InSet(one, Digit),\n",
    "#                                        InSet(five, Digit), InSet(zero, Digit)])"
   ]
  },
  {
   "cell_type": "code",
   "execution_count": 62,
   "metadata": {},
   "outputs": [],
   "source": [
    "%end demonstrations"
   ]
  },
  {
   "cell_type": "code",
   "execution_count": null,
   "metadata": {},
   "outputs": [],
   "source": []
  }
 ],
 "metadata": {
  "kernelspec": {
   "display_name": "Python 3",
   "language": "python",
   "name": "python3"
  }
 },
 "nbformat": 4,
 "nbformat_minor": 0
}