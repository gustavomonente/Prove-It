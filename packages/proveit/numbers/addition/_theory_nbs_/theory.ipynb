{
 "cells": [
  {
   "cell_type": "markdown",
   "metadata": {},
   "source": [
    "Theory of <a class=\"ProveItLink\" href=\"../../../_theory_nbs_/theory.ipynb\">proveit</a>.<a class=\"ProveItLink\" href=\"../../_theory_nbs_/theory.ipynb\">numbers</a>.addition\n",
    "========\n",
    "\n",
    "Provide description here."
   ]
  },
  {
   "cell_type": "code",
   "execution_count": 1,
   "metadata": {},
   "outputs": [
    {
     "data": {
      "text/html": [
       "<h3>Local content of this theory</h3>"
      ],
      "text/plain": [
       "<IPython.core.display.HTML object>"
      ]
     },
     "metadata": {},
     "output_type": "display_data"
    },
    {
     "data": {
      "text/html": [
       "<table><tr>\n",
       "<th><a class=\"ProveItLink\" href=\"common.ipynb\">common expressions</a></th>\n",
       "<th><a class=\"ProveItLink\" href=\"axioms.ipynb\">axioms</a></th>\n",
       "<th><a class=\"ProveItLink\" href=\"theorems.ipynb\">theorems</a></th>\n",
       "<th><a class=\"ProveItLink\" href=\"demonstrations.ipynb\">demonstrations</a></th>\n",
       "</tr></table>\n",
       "<h3>Sub-theories</h3>\n",
       "<table>\n",
       "<tr><th><a class=\"ProveItLink\" href=\"../subtraction/_theory_nbs_/theory.ipynb\">subtraction</a></th><td>Subtraction is internally represented as addition of negated operands.</td></tr>\n",
       "</table>\n"
      ],
      "text/plain": [
       "<IPython.core.display.HTML object>"
      ]
     },
     "metadata": {},
     "output_type": "display_data"
    },
    {
     "data": {
      "text/html": [
       "<h3>All axioms contained within this theory</h3>"
      ],
      "text/plain": [
       "<IPython.core.display.HTML object>"
      ]
     },
     "metadata": {},
     "output_type": "display_data"
    },
    {
     "data": {
      "text/html": [
       "<dt><a class=\"ProveItLink\" href=\"axioms.ipynb#nat_plus_zero\">proveit.numbers.addition.nat_plus_zero</a></dt><dd><a class=\"ProveItLink\" href=\"../__pv_it/axioms/1490874c560dee07c2b3e95f10a78f1274858f1d0/expr.ipynb\"><img src=\"data:image/png;base64,iVBORw0KGgoAAAANSUhEUgAAAKkAAAAUBAMAAAAErwC3AAAAMFBMVEX///8QEBCIiIhmZma6urrM\n",
       "zMxUVFQiIiJERETc3Nzu7u6qqqp2dnaYmJgyMjIAAAAcRTyBAAAAAXRSTlMAQObYZgAAAkRJREFU\n",
       "OMudVT9oE1Ec/pq7a5L71w7iIAiH/zYh6CYRUkQ6CZks4tCj6OAicdBFhxsviHCTdbOlQ0sQL9RB\n",
       "CoKHxSWCBEFQQclgBRUOcZLUwd+795Lm7t5V8YMPLu/9ft97v38vwH6o9jmlMAL5+hZxwD4+Fjhu\n",
       "COZgnnwJXJM7TdNpr9jHtwLVr4I5fMd6gMdyJ50u+oAF6sn3rRrnHjbFxizMAUxH7vYCsFconq58\n",
       "uxxw5lQrLowh9Fm52yod2+t0lgsSsCyYU51xoe4Cn+VudgP45ft3ClSPClbrpw6lVMMa1J/Adq5n\n",
       "EkOTknYVaBeo3hOcC+wfKdWHETRS/ZS0Q5wgST83tKhc55KijbFQb5QOiu/bnPphKF5atQbtN/A0\n",
       "W31uaLSoHCiN+lx/drpveD2cEb8PcCpDlFm5X8fxjTj+speBxYyqMNTovma/PFp9t9WB8UZBlFad\n",
       "8hA2s9UydvOqwpCpVgcXaWHtxA5Ulhvj8iUnSmcgjPA801kerCEwP5FXF2NDlTKA9hWK/aY2hJ1M\n",
       "d7P3NkpXK+ziuhj61BTwak1AGLJq4QlJKzWthTWuapqjcdrmrDjWLTN1V4pglUKtZ1SFocJuNUMJ\n",
       "nuqWXCz4vu8YzWq/JazmOfWl4/ePpVUfHaGGxE62B7ihzYpg0cyGQeXDyjS/K847f5tYIdKSt/n6\n",
       "uHrB4gWYyRkNWFHh69JJPYfFrwuHurR5FrjLIqbhdkfLbRQPHvZ7CSdRorz+26s9PlOCSgD8/z+M\n",
       "VeD9HvgDq/mqEfw798MAAAAASUVORK5CYII=\n",
       "\" style=\"display:inline;vertical-align:middle;\" /></a></dd>"
      ],
      "text/plain": [
       "<IPython.core.display.HTML object>"
      ]
     },
     "metadata": {},
     "output_type": "display_data"
    },
    {
     "data": {
      "text/html": [
       "<dt><a class=\"ProveItLink\" href=\"axioms.ipynb#nat_plus_successor\">proveit.numbers.addition.nat_plus_successor</a></dt><dd><a class=\"ProveItLink\" href=\"../__pv_it/axioms/20ab33879b2f03a2aeeab758cd4c16a6bd51c74c0/expr.ipynb\"><img src=\"data:image/png;base64,iVBORw0KGgoAAAANSUhEUgAAAU4AAAAVBAMAAADbQxraAAAAMFBMVEX///8QEBCIiIhmZma6urrM\n",
       "zMxUVFQiIiJERETc3Nzu7u6qqqp2dnaYmJgyMjIAAAAcRTyBAAAAAXRSTlMAQObYZgAAA/BJREFU\n",
       "SMfNV01oE0EUfvlp026yiYfiT0GNVnsSDAoiWjUi4kmsF0U8GIseBH+qoFDrIeolQYSAoF4KK4W2\n",
       "9GBiPUhBMLSgUFGCIlpBDbRWrBBLUdBUxfdmZ9udndm1ggcHJrv7vnnffPPmzU8A/ly6sNaXVIja\n",
       "ChDO4c+gS/su8HCSyiBHyvTxxkumlsafPiXUB9rFdhVwDGttTtGe00nAIu4kFcaCyGP6mPTSGaWW\n",
       "H5UQWqMJp/GOAXCbBJVV7U06qYyB6SRGuJGzIHKTpiPtpfM5Vl1QM8CfZI0VLNK4Gf3jp1BnhD6G\n",
       "nEyM5bmgJM5fZoA72fh7HlY5CyJRYi146ezAGsqpdJJ1j+Hs8h1atAX4csvJxFg6VDqDpIg5CXGo\n",
       "chZE9JH+/hteMuspAcUWFg9ZH4FKJ4zTDCcdVDcsOklnhFnHVToZCyLfMpkLXjr9NFlN1EPLukaR\n",
       "h6wTKzerdA5T587UbbLorg2vMASnaFtTwXSSdDIWRI4CZC2iYEXWWUd7yVWs23PRKZEHrdovI59T\n",
       "6HxL3bCF9LRCZYy3Z3TBJfBZHFx+UvtuOkk6GQsiO+wL0xrR/pakfyFPKkreTlS0FAJpkQet4SrE\n",
       "4gqd98ji3LI6Od2tEmwUdT4wYNp0knQyFkRC4J/brT9R0t5fXwqnR2CTafJRfjQABKoQipvxOV2p\n",
       "TAC3liFfxMmpVD4sq1RSszoPYa2Zcuhs4HTbDDgDgtNW0H6YTnZ+ppOxIBIpheaYMPjwarAfws8C\n",
       "UBR1+tKQbxXH28C2zz0FRTw9dS4G7asYzzEIznCdznhaOuvL+/Clu/k92aabjSDlbfjggXhRnHcM\n",
       "2wOQ5j1WoujIOndRtrfP5eeEbd4xdOEpUedPmi7mJOlkLIRkj+Bcn60hm/+8PxFl/q0jL4riOsoX\n",
       "4CQ/gm3rKJbEvPVcR7bC15E2A7XlQcHpC+Ws9zqCuyg4kKgh2XVxvdxt6oxYu4q1LyB2LiLyoLW2\n",
       "VJdw6FxLOluwBooOndZmdQlepoqC0wm4zJ3s/P6qxUIIrVdfwZ9iyRNI7c9kMvFwa32Jr1Yr7lrb\n",
       "6uurRB6yrnvi2LI3LB/D0FAWRVsdOq1k6Fl5oC0pOHWvoVl7L+oMHP61hbMQouP487m61/iIGb5C\n",
       "rRlP2Bmf17kpH9XslKfB9c7/3JxzsvOz0mtHfLlDu+GmETJeQYT060nQi673kH77vWK2F8P2Md97\n",
       "iOxk52dlyI4E2wa2wN5CzXEUd4VmCA/UlHUgURSyyjM163bYutzrshadq5N8+y3LiLkR+jE/531P\n",
       "dikuglzvye6jVkQpnPtX/zt0Yhr9y/8durL7URnR4f8tvwHbO1Ftf+A8HwAAAABJRU5ErkJggg==\n",
       "\" style=\"display:inline;vertical-align:middle;\" /></a></dd>"
      ],
      "text/plain": [
       "<IPython.core.display.HTML object>"
      ]
     },
     "metadata": {},
     "output_type": "display_data"
    },
    {
     "data": {
      "text/html": [
       "<dt><a class=\"ProveItLink\" href=\"axioms.ipynb#empty_addition\">proveit.numbers.addition.empty_addition</a></dt><dd><a class=\"ProveItLink\" href=\"../__pv_it/axioms/e0f0a565479c2718d64a96d3347aaa78db27cbe20/expr.ipynb\"><img src=\"data:image/png;base64,iVBORw0KGgoAAAANSUhEUgAAAEQAAAAUBAMAAADGs4Z2AAAAMFBMVEX////MzMy6urpmZmZERESY\n",
       "mJjc3Nzu7u5UVFQQEBAiIiIyMjJ2dnaIiIiqqqoAAACzFnRfAAAAAXRSTlMAQObYZgAAAOBJREFU\n",
       "KM9jYICDVIZnDPgBuwMDRwK6IM/Vg0g87gQG9g3oSvYxVIG1vQXzgoH4LJoK1gkMPBsQSpYBcSWa\n",
       "EpYGBr7vcCVsC0CWKaAq4W9gYPoHV8JrAHKdAaqSegMGpr9wJSwBILvBFp/eDQKbgaz8AwyMCCVc\n",
       "D4AE3wJUU/INGBj/gLSs3L17BwMnyBmMH/BZhFUJ0Ll8/1AtYlqAcMsOkAMdGFi/Y3MurqAD+5f5\n",
       "AFrYrWOoFIArAdvBLYCmpOZuIwNqBFThSgblOKMRPcqwJQaMJMWSQCDZpTKEYRUHAB5iRYzXvsup\n",
       "AAAAAElFTkSuQmCC\n",
       "\" style=\"display:inline;vertical-align:middle;\" /></a></dd>"
      ],
      "text/plain": [
       "<IPython.core.display.HTML object>"
      ]
     },
     "metadata": {},
     "output_type": "display_data"
    },
    {
     "data": {
      "text/html": [
       "<dt><a class=\"ProveItLink\" href=\"axioms.ipynb#multi_addition_def\">proveit.numbers.addition.multi_addition_def</a></dt><dd><a class=\"ProveItLink\" href=\"../__pv_it/axioms/dbecfafe7dcdb40e4bb806c163bae77225fc9d410/expr.ipynb\"><img src=\"data:image/png;base64,iVBORw0KGgoAAAANSUhEUgAAAboAAAAyBAMAAADYTQO3AAAAMFBMVEX///8QEBCIiIhmZma6urrM\n",
       "zMxUVFQiIiJERETc3Nzu7u6qqqp2dnaYmJgyMjIAAAAcRTyBAAAAAXRSTlMAQObYZgAABiZJREFU\n",
       "aN7NWktsG0UY/v2O1167hz5owsMkpeWAVFMQIEiJK4RygjhFaqmKZMvAgUiAC6JIpRKhHEh4SCsh\n",
       "NW0vcRSpLTnUJj1UkYoaESGk8IhFhShIFEtJK7UH4yYUtU5LmNld73oeu3bs3bojeb0z/79efzv/\n",
       "/PPNNwtQozywcgsaLMEYtKIISeV7buVaTd+Oo8cavc2P0JryovL11dGva7qua/gmziRR9eetxRCQ\n",
       "jCxiQT3ptxEd9eROWojs5AZ0eMPQ/Ln96IS1ZP2KlR03jz6nDK1jMdvRtUXJcIkyHpNGlxoaNMsy\n",
       "TloRw6BdYzu6cxmi6pMsROcu4+BYY+h20HZ075LVEbAQXTCNjwvGT1ayGZ14k6x34bTZva19Nei+\n",
       "nHkww7WEUl05gBnDm/uiNqPzDZL1L9BnhxQqAbxcLzr3Rvibb8leFdDDuyh3Y1Eu1CAv24wuQRGV\n",
       "D9BAuQ9cg/DSk/WiG8vDU3wLGtOLAGeM8/WizegepepofnCVwYfyXK9c/7lY3FcsXmYv1A09GXiH\n",
       "b3kWBMQPE8Z3L9qMbj2LzjEI2XgFXR19dw8I1/mWeXAvm6LbKtmKznMbmMjMTsM5qB8d6p5ACcTt\n",
       "O7ucm+PkJbdxHCg/pI47kvXBaN5WdE4qZeKsks3BW4gd1o1uGbyFKXFH3jGgUVb1kn/wmFSyCr84\n",
       "kraia6OnWpS+2yLi/iDbd8J/OAsW1JMqwyH4LTl9bAuEY65p0vImfIyO3Sa3TyvoZD79pym6Wi7c\n",
       "h0dNCBiTkHro8CZOZO7HE0hSPakyHO/ck4pBCv1JX460jD+CI++SydKypKD7AX9dNUVXy4VXsjSt\n",
       "1JlY3Vml8gcehlEPxyKkTbjEdQXdEcwhBk3R1XLhTnc0xdVZtDZNTRhdXG3wl1DvXQhyLMYsGiW1\n",
       "RQVdCHGdYM4UXS0XLtNj/Icr9OrD1Gp+yJ1Ea6fDsxzLKbPl15KCTpydmBgxzyq1XHjlrziz4rRa\n",
       "YBg2M/6r5swbQ0MHa+TMGi7G06mdyoMomVlvqOheN38KGF0NF12uKWincxloablfRfccCAXSsrs7\n",
       "5lxfjY51McjDeqLsaTG6DSo6HzirYkY4+1g+MDgLT1ejI12MS0hPJW+3FhzsU9EF876q1gtTExD4\n",
       "xQXT1ehIF+MSlu46dP7CLtC4qhvHVmDvngiBTnaB8c0cckA0JjoH7pbIfL/CM4dfQ+hUrhqSJaX4\n",
       "7K8EOtlFeM+DePkANa/IjZWyJdOlZRVuzmwyb/IF2imzrAKnEaOpcNVxBV1Qzw8yOuziinrS8Eo7\n",
       "+SNyo1YO6bR9K3e+a3bOowVa4SN0d69ktLzE6MKY0ahcdffQ0FAkEPfn0wQ67OLI4XXIAYos56r1\n",
       "9LXwhDabx+j7XYHmFVuGnoRQL3Dz+VIFnZjRuapX6Tt4PkKgwy5Zqe2PDI1Objz/zfm93+FaGTo0\n",
       "Jhbj8MymFVuNWlasYZylv+UwsVvV67sKVw3igBJjIE4z6zuHlHhB7rsjGf+nlYPcOFlw5M4Cqh8Q\n",
       "Na6dyHPWCE0rtppAW7H24Z4ZM2bRFFf9DC9RFgCSDDp3anK7jK4/59kI/RI+5ORGb/wEPA6eDtil\n",
       "72mF6W4aASsU2wXK+r0cnjE2/yxz1+ZONO7M1uY4MvU5WznzwWlI5yBAdBU9GLosUWxnKOvlzmcI\n",
       "iqSF8M1GlIedS7mqvKyeHYdNkJLIzOwqsbqKBYrtRVq0yGQlfb9OL95So7qKyDnDhRhpYpnVxCxQ\n",
       "bM+Q1kAZp/NA2kD4sE/xW2b1TAsU2wRpdRWwjOgpMT8wGrnjaq0Fim2CtKLpri/HQ2ezWgs9/Mhs\n",
       "UrHtJS8L53HnutnI/ATsRdcX42aVJhVbKquEY2gc87KK3bskviij1lqg2HaTVm8e719rWq4+r9m9\n",
       "w0UnzV5LFNtL1EPZ9hMefQxjV4R2O3eW7zVjYg0qtppAS1hPsHqj3TvL9FsBJItuULHVWDRxGcui\n",
       "58FudKEoKz82q9hyBVp2BRRotx2df531q1eu7tjGrDzuwNs49La2BcoDX6D9nWl5FexH50q2SDHS\n",
       "Vpm10TXxBmOqRehW8QZjE2+fumItASeout3cyrX/AYYpHDC84N+7AAAAAElFTkSuQmCC\n",
       "\" style=\"display:inline;vertical-align:middle;\" /></a></dd>"
      ],
      "text/plain": [
       "<IPython.core.display.HTML object>"
      ]
     },
     "metadata": {},
     "output_type": "display_data"
    },
    {
     "data": {
      "text/html": [
       "<h4>proveit.numbers.addition.subtraction</h4>"
      ],
      "text/plain": [
       "<IPython.core.display.HTML object>"
      ]
     },
     "metadata": {},
     "output_type": "display_data"
    },
    {
     "data": {
      "text/html": [
       "This sub-theory contains no axioms."
      ],
      "text/plain": [
       "<IPython.core.display.HTML object>"
      ]
     },
     "metadata": {},
     "output_type": "display_data"
    }
   ],
   "source": [
    "import proveit\n",
    "%theory"
   ]
  },
  {
   "cell_type": "code",
   "execution_count": null,
   "metadata": {},
   "outputs": [],
   "source": []
  }
 ],
 "metadata": {
  "kernelspec": {
   "display_name": "Python 3",
   "language": "python",
   "name": "python3"
  }
 },
 "nbformat": 4,
 "nbformat_minor": 0
}