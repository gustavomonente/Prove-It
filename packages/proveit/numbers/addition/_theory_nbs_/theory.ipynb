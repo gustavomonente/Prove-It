{
 "cells": [
  {
   "cell_type": "markdown",
   "metadata": {},
   "source": [
    "Theory of <a class=\"ProveItLink\" href=\"../../../_theory_nbs_/theory.ipynb\">proveit</a>.<a class=\"ProveItLink\" href=\"../../_theory_nbs_/theory.ipynb\">numbers</a>.addition\n",
    "========\n",
    "\n",
    "Provide description here."
   ]
  },
  {
   "cell_type": "code",
   "execution_count": 1,
   "metadata": {},
   "outputs": [
    {
     "data": {
      "text/html": [
       "<h3>Local content of this theory</h3>"
      ],
      "text/plain": [
       "<IPython.core.display.HTML object>"
      ]
     },
     "metadata": {},
     "output_type": "display_data"
    },
    {
     "data": {
      "text/html": [
       "<table><tr>\n",
       "<th><a class=\"ProveItLink\" href=\"common.ipynb\">common expressions</a></th>\n",
       "<th><a class=\"ProveItLink\" href=\"axioms.ipynb\">axioms</a></th>\n",
       "<th><a class=\"ProveItLink\" href=\"theorems.ipynb\">theorems</a></th>\n",
       "<th><a class=\"ProveItLink\" href=\"demonstrations.ipynb\">demonstrations</a></th>\n",
       "</tr></table>\n",
       "<h3>Sub-theories</h3>\n",
       "<table>\n",
       "<tr><th><a class=\"ProveItLink\" href=\"../subtraction/_theory_nbs_/theory.ipynb\">subtraction</a></th><td>Subtraction is internally represented as addition of negated operands.</td></tr>\n",
       "</table>\n"
      ],
      "text/plain": [
       "<IPython.core.display.HTML object>"
      ]
     },
     "metadata": {},
     "output_type": "display_data"
    },
    {
     "data": {
      "text/html": [
       "<h3>All axioms contained within this theory</h3>"
      ],
      "text/plain": [
       "<IPython.core.display.HTML object>"
      ]
     },
     "metadata": {},
     "output_type": "display_data"
    },
    {
     "data": {
      "text/html": [
       "<dt><a class=\"ProveItLink\" href=\"axioms.ipynb#nat_plus_zero\">proveit.numbers.addition.nat_plus_zero</a></dt><dd><a class=\"ProveItLink\" href=\"../__pv_it/axioms/61991a7990cde29e02d00a23ddfb53adc630f4210/expr.ipynb\"><img src=\"data:image/png;base64,iVBORw0KGgoAAAANSUhEUgAAAKkAAAAUBAMAAAAErwC3AAAAMFBMVEX///8QEBCIiIhmZma6urrM\n",
       "zMxUVFQiIiJERETc3Nzu7u6qqqp2dnaYmJgyMjIAAAAcRTyBAAAAAXRSTlMAQObYZgAAAkRJREFU\n",
       "OMudVT9oE1Ec/pq7a5L71w7iIAiH/zYh6CYRUkQ6CZks4tCj6OAicdBFhxsviHCTdbOlQ0sQL9RB\n",
       "CoKHxSWCBEFQQclgBRUOcZLUwd+795Lm7t5V8YMPLu/9ft97v38vwH6o9jmlMAL5+hZxwD4+Fjhu\n",
       "COZgnnwJXJM7TdNpr9jHtwLVr4I5fMd6gMdyJ50u+oAF6sn3rRrnHjbFxizMAUxH7vYCsFconq58\n",
       "uxxw5lQrLowh9Fm52yod2+t0lgsSsCyYU51xoe4Cn+VudgP45ft3ClSPClbrpw6lVMMa1J/Adq5n\n",
       "EkOTknYVaBeo3hOcC+wfKdWHETRS/ZS0Q5wgST83tKhc55KijbFQb5QOiu/bnPphKF5atQbtN/A0\n",
       "W31uaLSoHCiN+lx/drpveD2cEb8PcCpDlFm5X8fxjTj+speBxYyqMNTovma/PFp9t9WB8UZBlFad\n",
       "8hA2s9UydvOqwpCpVgcXaWHtxA5Ulhvj8iUnSmcgjPA801kerCEwP5FXF2NDlTKA9hWK/aY2hJ1M\n",
       "d7P3NkpXK+ziuhj61BTwak1AGLJq4QlJKzWthTWuapqjcdrmrDjWLTN1V4pglUKtZ1SFocJuNUMJ\n",
       "nuqWXCz4vu8YzWq/JazmOfWl4/ePpVUfHaGGxE62B7ihzYpg0cyGQeXDyjS/K847f5tYIdKSt/n6\n",
       "uHrB4gWYyRkNWFHh69JJPYfFrwuHurR5FrjLIqbhdkfLbRQPHvZ7CSdRorz+26s9PlOCSgD8/z+M\n",
       "VeD9HvgDq/mqEfw798MAAAAASUVORK5CYII=\n",
       "\" style=\"display:inline;vertical-align:middle;\" /></a></dd>"
      ],
      "text/plain": [
       "<IPython.core.display.HTML object>"
      ]
     },
     "metadata": {},
     "output_type": "display_data"
    },
    {
     "data": {
      "text/html": [
       "<dt><a class=\"ProveItLink\" href=\"axioms.ipynb#nat_plus_successor\">proveit.numbers.addition.nat_plus_successor</a></dt><dd><a class=\"ProveItLink\" href=\"../__pv_it/axioms/2afeddb0f64c3326cd7e9aa4f293a1eeeb2a396d0/expr.ipynb\"><img src=\"data:image/png;base64,iVBORw0KGgoAAAANSUhEUgAAAU4AAAAVBAMAAADbQxraAAAAMFBMVEX///8QEBCIiIhmZma6urrM\n",
       "zMxUVFQiIiJERETc3Nzu7u6qqqp2dnaYmJgyMjIAAAAcRTyBAAAAAXRSTlMAQObYZgAAA/BJREFU\n",
       "SMfNV01oE0EUfvlp026yiYfiT0GNVnsSDAoiWjUi4kmsF0U8GIseBH+qoFDrIeolQYSAoF4KK4W2\n",
       "9GBiPUhBMLSgUFGCIlpBDbRWrBBLUdBUxfdmZ9udndm1ggcHJrv7vnnffPPmzU8A/ly6sNaXVIja\n",
       "ChDO4c+gS/su8HCSyiBHyvTxxkumlsafPiXUB9rFdhVwDGttTtGe00nAIu4kFcaCyGP6mPTSGaWW\n",
       "H5UQWqMJp/GOAXCbBJVV7U06qYyB6SRGuJGzIHKTpiPtpfM5Vl1QM8CfZI0VLNK4Gf3jp1BnhD6G\n",
       "nEyM5bmgJM5fZoA72fh7HlY5CyJRYi146ezAGsqpdJJ1j+Hs8h1atAX4csvJxFg6VDqDpIg5CXGo\n",
       "chZE9JH+/hteMuspAcUWFg9ZH4FKJ4zTDCcdVDcsOklnhFnHVToZCyLfMpkLXjr9NFlN1EPLukaR\n",
       "h6wTKzerdA5T587UbbLorg2vMASnaFtTwXSSdDIWRI4CZC2iYEXWWUd7yVWs23PRKZEHrdovI59T\n",
       "6HxL3bCF9LRCZYy3Z3TBJfBZHFx+UvtuOkk6GQsiO+wL0xrR/pakfyFPKkreTlS0FAJpkQet4SrE\n",
       "4gqd98ji3LI6Od2tEmwUdT4wYNp0knQyFkRC4J/brT9R0t5fXwqnR2CTafJRfjQABKoQipvxOV2p\n",
       "TAC3liFfxMmpVD4sq1RSszoPYa2Zcuhs4HTbDDgDgtNW0H6YTnZ+ppOxIBIpheaYMPjwarAfws8C\n",
       "UBR1+tKQbxXH28C2zz0FRTw9dS4G7asYzzEIznCdznhaOuvL+/Clu/k92aabjSDlbfjggXhRnHcM\n",
       "2wOQ5j1WoujIOndRtrfP5eeEbd4xdOEpUedPmi7mJOlkLIRkj+Bcn60hm/+8PxFl/q0jL4riOsoX\n",
       "4CQ/gm3rKJbEvPVcR7bC15E2A7XlQcHpC+Ws9zqCuyg4kKgh2XVxvdxt6oxYu4q1LyB2LiLyoLW2\n",
       "VJdw6FxLOluwBooOndZmdQlepoqC0wm4zJ3s/P6qxUIIrVdfwZ9iyRNI7c9kMvFwa32Jr1Yr7lrb\n",
       "6uurRB6yrnvi2LI3LB/D0FAWRVsdOq1k6Fl5oC0pOHWvoVl7L+oMHP61hbMQouP487m61/iIGb5C\n",
       "rRlP2Bmf17kpH9XslKfB9c7/3JxzsvOz0mtHfLlDu+GmETJeQYT060nQi673kH77vWK2F8P2Md97\n",
       "iOxk52dlyI4E2wa2wN5CzXEUd4VmCA/UlHUgURSyyjM163bYutzrshadq5N8+y3LiLkR+jE/531P\n",
       "dikuglzvye6jVkQpnPtX/zt0Yhr9y/8durL7URnR4f8tvwHbO1Ftf+A8HwAAAABJRU5ErkJggg==\n",
       "\" style=\"display:inline;vertical-align:middle;\" /></a></dd>"
      ],
      "text/plain": [
       "<IPython.core.display.HTML object>"
      ]
     },
     "metadata": {},
     "output_type": "display_data"
    },
    {
     "data": {
      "text/html": [
       "<dt><a class=\"ProveItLink\" href=\"axioms.ipynb#empty_addition\">proveit.numbers.addition.empty_addition</a></dt><dd><a class=\"ProveItLink\" href=\"../__pv_it/axioms/8dfa7b9348ee9b91f78b6a279540b5f290df5ca90/expr.ipynb\"><img src=\"data:image/png;base64,iVBORw0KGgoAAAANSUhEUgAAAFMAAAAUBAMAAAADwRznAAAAMFBMVEX///9mZmZERETc3NyYmJju\n",
       "7u5UVFQQEBCqqqoiIiK6urp2dnbMzMwyMjKIiIgAAABfEwHCAAAAAXRSTlMAQObYZgAAAPlJREFU\n",
       "KM9jeHuHAQp8Z4EpE4ZmBuxgFxqTVYGBzQBD1T7vA5hKeQ0YWC+gq+RtYJ0Mled4AFfqCDIDXak7\n",
       "A8NeTKVA3Qzh6ErVGBj6A9CVMk8A2bcATek3Bob1DehK+QSABLcAqkrWj0ClD9CVMjkACRawv/be\n",
       "BYGLIKt+MzCcx1DK2QDiTkA1lRlo6vkNQHnuu3dv1t69mwBWyg5yJs8HYhyAVSnIW/0NWB3ANQHh\n",
       "1msgphIDg38AHm8RigJwODFuQFPK2cBag6EUbDfvATSlrPueHcAesZF4EiFrAP7kgj29MmFLhDiT\n",
       "NpMBdqUv4RnmLSzDOGNXCQBwgGgEy/YizQAAAABJRU5ErkJggg==\n",
       "\" style=\"display:inline;vertical-align:middle;\" /></a></dd>"
      ],
      "text/plain": [
       "<IPython.core.display.HTML object>"
      ]
     },
     "metadata": {},
     "output_type": "display_data"
    },
    {
     "data": {
      "text/html": [
       "<dt><a class=\"ProveItLink\" href=\"axioms.ipynb#multi_addition_def\">proveit.numbers.addition.multi_addition_def</a></dt><dd><a class=\"ProveItLink\" href=\"../__pv_it/axioms/f634cb85563e75219d2bc122a762466e0d0e3d6f0/expr.ipynb\"><img src=\"data:image/png;base64,iVBORw0KGgoAAAANSUhEUgAAAaYAAAAyBAMAAADl32LRAAAAMFBMVEX///8QEBCIiIhmZma6urrM\n",
       "zMxUVFQiIiJERETc3Nzu7u6qqqp2dnaYmJgyMjIAAAAcRTyBAAAAAXRSTlMAQObYZgAABrBJREFU\n",
       "aN7Nml+ME0Ucx3/9d71uuz0e5PBQSOXwNFFzlTPBKEiJEZ/UoolIeKCp8iBBLBoxKomNPlBUkk1M\n",
       "4DDR25OEP32gBR7MJRiqxJdDpfEkIlFpAmjEpJa/4e7Ec2ZnZ3emO71ue92ek8x2dn+d7X52Zn/z\n",
       "+323AHWKa2qqAM2VUAzaV6QE+Tw1dbnud10je9Qmf+ZbaGd5mnwc3HO4PlO82R9xJ2grUGzt5QcV\n",
       "wUG5pDdWO8hk3q8DLeQ5MA9tXhZZPnKeSbrNaP7ZykE6j+ohkWE45jhTZ9SYFVGL8UitXjUNhmUS\n",
       "e5+IaEbOcZzpuOFa/EoLmbwTeA7MEX1jm+NMrxut3dBCplAKby8I76LiMJM8bjR7setbtmR+I0wf\n",
       "n7hLFVrCyd48wAlRX3/UYSZ/2mjuRHWlEq4AvGCXydsDf4stuUsSulu/aUNW1or53E44zLTeDCLe\n",
       "QQ/AAvCk4bmldpmGi/Cw2IIe0ysAXwg97RWHmR40m8ipeybAj3zVk9r+9+XylnL5d2sf07BChdfE\n",
       "lsdA+gfdMeFvlh1m6uaYXGnIxSmTjXG6HaTrYst58E7WYupXHGXy3QJ27uUKcBzsM6GhCFZAXv5s\n",
       "r7svzne5hcecnEh/nowQDIaKjjK5TbeHfUQuD5tRlGabaRI6SiPyyqJroxE16l2u4WeN+AjrtSYc\n",
       "ZepkVkXkeDsj8taQdZykf7EnK+kNxvAe/JQofHIPdMU8Bd7yCryPtsvEP5oiTFo0++u0TGHNUTYW\n",
       "W7tMV45JpOTduxYL5t5W7PUTeoMx7Fu0NhmDJLo+f5637L0fX8hFccJWIUwn8celaZlC+LThxrKo\n",
       "HBPjmbGRbR9Byly4F4Z8AouUEq/z1wnTIF7k09MyaebBBpcnJso0Y1hjWcnW6scaAhU0UmdCAosw\n",
       "hkWO6Qphwvc/lJ/+ecLDeLLBCJY95Q4a8LybbOQc3gTKUnaNCiyHaqQ3VwmTPJrN7q7jI37JZg+m\n",
       "GmM6x7qWVuaE3E2qLjd0v3czk9lWh6krk9neoNDSz+YXrc7dZaWG4abOtKE2NmXqiEOnYmeylI3m\n",
       "KRVmoSzUmR4HqcRb1iyLubtZJm+01gyuKmYKsGJWmObpTH5wM1NDOjZQDKZH4RFuzU3BA7bO+ZfR\n",
       "enU2kGCLzhQq+pmjZ0ayEPzBAwWO6Tuw5yLG/ydMgdLzYISLXryUBNetjfBMn/nQWi8t2WyNk/b2\n",
       "XWTXhz51VufemzTe2/ESYtLDRS0MCsZHT/NMnbtQhrc/vl6FDv5apTd8E0zg+rabLq+neJ/yqV5n\n",
       "UEZEB6vUS+oj4CiaVzRc3EuYQqEoxxTECeoArAHfVzyTJ+pjZiWKVKm76eeGVEqTOpPSodRXL7sp\n",
       "UxcONPRwcU0mk4kE44Fiio/LcdBxB/Qhj8IzufKmgoz2Yh66dy7Gfi2skDqTUu2dRerlVcokq2a4\n",
       "2EHGCZ6I8Exn0TnHYWe2mimndJ5Vx74cW/cN3utSXTQkOs4xjem1auJEaly+2PB1tdWiXuKs3syf\n",
       "aLgYwgRyDOSCNX/q8V0rYqZBNfAB3biU9U/BkZIrfwxFuapfPWPEsFzo8JZeZ8Q0XGW1qpc0hq0K\n",
       "Fz/EGcEFgISVadV9vRrT6ryvB1YreJP3Jo8sR2HGfngI8PFNxq3oYvXkQIrUmTGFY7zVql4GJ4V5\n",
       "rhs9T9PluXjumSE3afnhKKTy7HF0jJ392BtqHpFXIusy8UIn9VvUalUvQ+PN5O6+/kcZ/6m39sFi\n",
       "SCq8X/VU2Jy6SCpRIn1pu0xE6DQi1xJvZdRL6horzeoRsqBl2ZMn2EHLk6opkb6BlE0mInSaR1N8\n",
       "N6t6SQQD57SwSfYcMVKJEulN6ULWHwtZIcuYQIZBFzqNU1b4blb1cijSNs3SYCJKpNfuOOlCJ8fE\n",
       "dLOqlw5rlrDCOveIEmmfiQidY6cXRRdtALMf7caol3rZ7rC2/EzM4iOIEtkAkyZ0/rgAutU+gY+w\n",
       "qpdOvwPwR3kvjKumRFqZDNEyx1+1JnQGPk+hq8caJVUvaTeLeul2+l0N6/gwBa5EibQwGaKlP8H7\n",
       "PU3o7Ij45mDJHcJxvptFvSTSspPvPu+sFRvZnnv0AtzpQAVdxX6RlVUvHX/3ybyjroph6ToDUq28\n",
       "kTMMoZGS0wUzhuWsbAx7HpxmCjMPFFadqPIUWHoj0sh5VqEsJbBJFeQaVeplcL7jTIG5rc0JxWoc\n",
       "I+O14T8fXNTSgtz953rq5YvgPJMn0VZ9RU7bZ2r+v27JtjI18l+35v+T6Im1EUnaqAtWU5f/A3nx\n",
       "Hx5ypBkvAAAAAElFTkSuQmCC\n",
       "\" style=\"display:inline;vertical-align:middle;\" /></a></dd>"
      ],
      "text/plain": [
       "<IPython.core.display.HTML object>"
      ]
     },
     "metadata": {},
     "output_type": "display_data"
    },
    {
     "data": {
      "text/html": [
       "<h4>proveit.numbers.addition.subtraction</h4>"
      ],
      "text/plain": [
       "<IPython.core.display.HTML object>"
      ]
     },
     "metadata": {},
     "output_type": "display_data"
    },
    {
     "data": {
      "text/html": [
       "This sub-theory contains no axioms."
      ],
      "text/plain": [
       "<IPython.core.display.HTML object>"
      ]
     },
     "metadata": {},
     "output_type": "display_data"
    }
   ],
   "source": [
    "import proveit\n",
    "%theory"
   ]
  },
  {
   "cell_type": "code",
   "execution_count": null,
   "metadata": {},
   "outputs": [],
   "source": []
  }
 ],
 "metadata": {
  "kernelspec": {
   "display_name": "Python 3",
   "language": "python",
   "name": "python3"
  }
 },
 "nbformat": 4,
 "nbformat_minor": 0
}