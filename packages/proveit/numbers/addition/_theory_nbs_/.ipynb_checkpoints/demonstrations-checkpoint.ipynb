{
 "cells": [
  {
   "cell_type": "markdown",
   "metadata": {},
   "source": [
    "Demonstrations for the theory of <a class=\"ProveItLink\" href=\"theory.ipynb\">proveit.numbers.addition</a>\n",
    "========"
   ]
  },
  {
   "cell_type": "code",
   "execution_count": 1,
   "metadata": {},
   "outputs": [],
   "source": [
    "import proveit\n",
    "from proveit import ExprTuple\n",
    "from proveit.logic import Forall, Equals, InSet\n",
    "from proveit.numbers import Less, Greater, LessEq, GreaterEq, Neg, Exp, Mult\n",
    "from proveit import a, b,c,d,e,f,g,l, m,n,x,y, A, B, C\n",
    "from proveit.numbers import zero, one,two, three,four, five, six, seven, eight,Add, Complex, Neg, subtract, Integer, Natural, NaturalPos,Real, RealPos, RealNeg\n",
    "%begin demonstrations"
   ]
  },
  {
   "cell_type": "code",
   "execution_count": 2,
   "metadata": {},
   "outputs": [
    {
     "data": {
      "text/html": [
       "<span style=\"font-size:20px;\"><a class=\"ProveItLink\" href=\"../__pv_it/demonstrations/cc5977648bc1a1b7dbb543c11fb2eb11ba7bfd0b0/expr.ipynb\"><img src=\"data:image/png;base64,iVBORw0KGgoAAAANSUhEUgAAADEAAAAPBAMAAAC/wjryAAAAMFBMVEX////MzMyYmJjc3NyIiIhU\n",
       "VFR2dna6urqqqqpmZmYyMjIiIiIQEBBERETu7u4AAACIO4EmAAAAAXRSTlMAQObYZgAAANhJREFU\n",
       "GNNj4LuzgQENsKxef/omkOaagCbBKN/AN18TyOBvQJNRCGFgYPoJZNQ/gIro7t69AEgxCZwDkpFA\n",
       "nA2VkPWD0JzMF4DkEyBe6jIDJMC3DqriKSPUYr5fD94bAGlWA6iMGbsDhMHxj4EfxOSFOcASJsO5\n",
       "gOF9ApCWWQUEIBe8ZUyAyAC9Uw9yty1MD9eDAAiDX4FhPsjdPDAZpgkgGT6gTAHfIbCpDjCpKyVA\n",
       "ogroJgVeiCt3wGQ41+bx9d4DapuSBPXHdVhgSK75PRElvMpug0MHBgCFGjXcupX6XQAAAABJRU5E\n",
       "rkJggg==\n",
       "\" style=\"display:inline;vertical-align:middle;\" /></a> <a class=\"ProveItLink\" href=\"../__pv_it/demonstrations/b404cce90b7bb7c0322394956894635dba9640540/proof.ipynb\" style=\"text-decoration: none\">&nbsp;&#x22A2;&nbsp;&nbsp;</a><a class=\"ProveItLink\" href=\"../__pv_it/demonstrations/2bc4878e3b5bacbbcc20e9b4532b8cad21eccf460/expr.ipynb\"><img src=\"data:image/png;base64,iVBORw0KGgoAAAANSUhEUgAAAMoAAAAUBAMAAAA+f7/EAAAAMFBMVEX////MzMxUVFR2dna6uroQ\n",
       "EBCqqqqIiIgiIiJmZmYyMjJERETu7u6YmJjc3NwAAACgK8IjAAAAAXRSTlMAQObYZgAAAhlJREFU\n",
       "OMudlb9LHEEUx7/J3l3Ou/HuT9BOLAyWKgQs05nCwgiCqbRzQUKwOwQt5UAwJI3JYWGWIDYpUsRs\n",
       "Y6EXuGu1kCttbJKgIBp8s86vnben4QZ2dvnw3fedmTfzBqi00WMrdDi76CJrQnyrpfnjAM0Z6p6z\n",
       "iGKfuid1LtsDSnVP/DjAF3qOmUtJjrs4yGT99H91XrEF9TagEHYBuKQnCH2XE9m9dVyUrEjuU7Hn\n",
       "YoAOykDuRq7PK99lg57KqXXRsnN6jcFzMUAHZSBIErXjmVQkDUrWRctWqG+820q7GKCDMlAaWqFF\n",
       "HPdcnsn0nTkuWvaDZnQdtzquiwUqKANofRX/gFP5ORHJJtOMMp0KETouWrZOf96gGrouFqigDGAp\n",
       "xhWw6M2lSAMPcO8Su7JpoO8TWqPJmNaiqAEDgijanY2iwQyAjxB/gAHPJT8JvLl3EddwZNPJYZia\n",
       "d+digRo6A3QOcpeZLmJUzWXVldGKVdvYjl0XC1RQBnCLPtqkL21eGmrFCsMftl+bc6RllP3qpJhL\n",
       "7TELtIsP8BeHbZV9p5WTmpi32dcy2oxP2+V6ysUCFZQBjOA79ZueS5Co8vsGaBlNWrx/kT6VFuid\n",
       "7AMcLcthf/Zccsmp/PnblHktK7rle4FV7fAhIGpZFYYX6lpSLU37xQTxQ6BLtfSblB2g58Yrf7nT\n",
       "Rdbs3eUg+xbLkvV+I/f/341MsjvLOMPZyhcC1gAAAABJRU5ErkJggg==\n",
       "\" style=\"display:inline;vertical-align:middle;\" /></a></span>"
      ],
      "text/plain": [
       "{b in Complex} |- (b + b + b + b) = (4 * b)"
      ]
     },
     "execution_count": 2,
     "metadata": {},
     "output_type": "execute_result"
    }
   ],
   "source": [
    "Add(b, b, b, b).simplification([InSet(b, Complex)])"
   ]
  },
  {
   "cell_type": "code",
   "execution_count": 3,
   "metadata": {},
   "outputs": [
    {
     "data": {
      "text/html": [
       "<a class=\"ProveItLink\" href=\"../__pv_it/demonstrations/d91c5586effbecdb42993198e7aab176178e68a70/expr.ipynb\"><img src=\"data:image/png;base64,iVBORw0KGgoAAAANSUhEUgAAACIAAAAPBAMAAABzWwAZAAAAMFBMVEX///+6urpERESqqqru7u52\n",
       "dnYyMjKYmJjc3NwQEBCIiIhUVFQiIiJmZmbMzMwAAABIfTqqAAAAAXRSTlMAQObYZgAAAIxJREFU\n",
       "GNNjYGBgeMsAA05zIPRpuAhDLpjkmo0Q+Qwm27PhAoxfwFQAQoT1AIhkb0CIsO1aa8DA4MWAEPFP\n",
       "YfkB1AQRYQER9g4MvxiYH0BE/BOAxDUGlq8MrgwQEZ4NYOcwfmawvnv35y2YOd8ZeMH2I1z4kcGz\n",
       "AERPgotsZ9AFUUH/t8NEfJcWMGACAAnHIqzJix1KAAAAAElFTkSuQmCC\n",
       "\" style=\"display:inline;vertical-align:middle;\" /></a>"
      ],
      "text/plain": [
       "4 * b"
      ]
     },
     "execution_count": 3,
     "metadata": {},
     "output_type": "execute_result"
    }
   ],
   "source": [
    "Add(b, b, b, b).simplified([InSet(b, Complex)])"
   ]
  },
  {
   "cell_type": "code",
   "execution_count": 4,
   "metadata": {},
   "outputs": [
    {
     "name": "stdout",
     "output_type": "stream",
     "text": [
      "Help on method simplified in module proveit._core_.expression.inner_expr:\n",
      "\n",
      "simplified(*args, **kwargs) method of proveit.numbers.addition.add.Add instance\n",
      "    Return an equivalent form of this expression derived via 'simplification'.\n",
      "\n"
     ]
    }
   ],
   "source": [
    "help(Add(b, b, b, b).simplified)"
   ]
  },
  {
   "cell_type": "code",
   "execution_count": 5,
   "metadata": {},
   "outputs": [
    {
     "name": "stdout",
     "output_type": "stream",
     "text": [
      "Help on function simplify in module proveit._core_.expression.inner_expr:\n",
      "\n",
      "simplify(*args, **kwargs)\n",
      "    Derive an equivalent form of the top-level judgment by replacing the inner expression via 'simplification'.\n",
      "\n"
     ]
    }
   ],
   "source": [
    "help(Equals(c, Add(b, b, b, b)).prove([Equals(c, Add(b, b, b, b))]).inner_expr().rhs.simplify)"
   ]
  },
  {
   "cell_type": "code",
   "execution_count": 6,
   "metadata": {},
   "outputs": [
    {
     "data": {
      "text/html": [
       "<span style=\"font-size:20px;\"><a class=\"ProveItLink\" href=\"../__pv_it/demonstrations/cc5977648bc1a1b7dbb543c11fb2eb11ba7bfd0b0/expr.ipynb\"><img src=\"data:image/png;base64,iVBORw0KGgoAAAANSUhEUgAAADEAAAAPBAMAAAC/wjryAAAAMFBMVEX////MzMyYmJjc3NyIiIhU\n",
       "VFR2dna6urqqqqpmZmYyMjIiIiIQEBBERETu7u4AAACIO4EmAAAAAXRSTlMAQObYZgAAANhJREFU\n",
       "GNNj4LuzgQENsKxef/omkOaagCbBKN/AN18TyOBvQJNRCGFgYPoJZNQ/gIro7t69AEgxCZwDkpFA\n",
       "nA2VkPWD0JzMF4DkEyBe6jIDJMC3DqriKSPUYr5fD94bAGlWA6iMGbsDhMHxj4EfxOSFOcASJsO5\n",
       "gOF9ApCWWQUEIBe8ZUyAyAC9Uw9yty1MD9eDAAiDX4FhPsjdPDAZpgkgGT6gTAHfIbCpDjCpKyVA\n",
       "ogroJgVeiCt3wGQ41+bx9d4DapuSBPXHdVhgSK75PRElvMpug0MHBgCFGjXcupX6XQAAAABJRU5E\n",
       "rkJggg==\n",
       "\" style=\"display:inline;vertical-align:middle;\" /></a> <a class=\"ProveItLink\" href=\"../__pv_it/demonstrations/3e495bcb4b233c372133b4570dbe45045cc6d2530/proof.ipynb\" style=\"text-decoration: none\">&nbsp;&#x22A2;&nbsp;&nbsp;</a><a class=\"ProveItLink\" href=\"../__pv_it/demonstrations/a69f1b7be0f32cff27b4a361d746eed4a48bb38a0/expr.ipynb\"><img src=\"data:image/png;base64,iVBORw0KGgoAAAANSUhEUgAAATMAAAAUBAMAAAATqMdXAAAAMFBMVEX///9UVFTMzMx2dna6uroQ\n",
       "EBCqqqqIiIgiIiJmZmYyMjJERETu7u6YmJjc3NwAAAC+aOQFAAAAAXRSTlMAQObYZgAAApdJREFU\n",
       "SMetVr9rU1EYPelLY5PcJtnEQeifEHCoCkJHty4OKgjBxU0DIqVbRHSUTIoubTb7KNLFwaH6loKl\n",
       "QrIqWDK6CIpSoUTxu+/+eO/+ek2DH3zh5STfOefe+913L9AYwRffMGvclWnF9Dqa4MBbwXZwcN3C\n",
       "TgbYmx5QGou0/xzSAeb6foLX3pIa/bRlgycDNRJhmyKtCOtgoeUlWOx7Sz5RHsnnSlc+KAB3QkCz\n",
       "Qx/LMo0o0MGDzFqeYGHsLXkKlCeWNQ0oJw6A1YQ+9mQaEdZB43NmLU/w1VvRoCWPepY1DSgnDoCL\n",
       "6aKsiDQirIOollnLE6zz5+W1JbPkDE1/7ex6x7CmAeXEATBYe0ZSfZFGhHVwmLOWJ9jlI+rUedte\n",
       "jnmkrV2nnT7cZn8NaxpQThyAHSfDMRZ5C3PCKCWMU5dhHdbNrBkETwh4hFLH6gz6fi/Bb8OaBpQT\n",
       "B6hM0OyiQqtU6VmzFtaJIKwlNsE1oDpxemCeVvsl2M905K9uxjEvFgAf9OM4HviA6iaGbcx9R5pG\n",
       "hHVuC2vs2Cagkvkdb8kWykfGrGlATZID0FtptRO05tdhbTlrD20CmmjymYbogYGa6D9qmMqaBpQT\n",
       "B2iOsJGgTOtR7mW91pIL6tepnHuxcUO9OQ2C3fQ7rB7g7fkLeyPDmgaUEwdorrBbyLZBPsI6NHd6\n",
       "GxgEl2iBW9i3NjXfvufx1nyvaUA5cYDSqE6F1bZII8I6+ZU2CK4ScOFL1yLiU7p/f2Ra04By4gDs\n",
       "+RXeMEsijQjrIHr/Q/EYBAUHCOwzFPbL3w98kDntQeWEJCg6dtVQEvvXj4XAqY93OxTBO29JfTzz\n",
       "VTJwKZpeRxMUXPFmC65WP9VVMkTw3y/ghzJnvoBLgn8+px4NdKLpKgAAAABJRU5ErkJggg==\n",
       "\" style=\"display:inline;vertical-align:middle;\" /></a></span>"
      ],
      "text/plain": [
       "{b in Complex} |- (c = (b + b + b + b)) = (c = (4 * b))"
      ]
     },
     "execution_count": 6,
     "metadata": {},
     "output_type": "execute_result"
    }
   ],
   "source": [
    "Equals(c, Add(b, b, b, b)).prove([Equals(c, Add(b, b, b, b))]).inner_expr().rhs.simplification(assumptions=[Equals(c, Add(b, b, b, b)), InSet(b, Complex)])"
   ]
  },
  {
   "cell_type": "code",
   "execution_count": 7,
   "metadata": {},
   "outputs": [
    {
     "data": {
      "text/html": [
       "<span style=\"font-size:20px;\"> <a class=\"ProveItLink\" href=\"../__pv_it/demonstrations/194bdcb181594bf17ace50cdec4a76c7813716a70/proof.ipynb\" style=\"text-decoration: none\">&nbsp;&#x22A2;&nbsp;&nbsp;</a><a class=\"ProveItLink\" href=\"../__pv_it/demonstrations/3ee195dca68614cc0d9e4c34635aacbe49194e630/expr.ipynb\"><img src=\"data:image/png;base64,iVBORw0KGgoAAAANSUhEUgAAAKoAAAAUBAMAAADvmLu0AAAAMFBMVEX////MzMxUVFR2dna6uroQ\n",
       "EBCqqqqIiIgiIiJmZmYyMjJERETu7u6YmJjc3NwAAACgK8IjAAAAAXRSTlMAQObYZgAAAcpJREFU\n",
       "OMtjYOC7wEA+yMMlcRqb4MnZG1EF+IytE7CoY3qALiKhaWxswMCwDshMPYAqxaPAYO+AIvKSge0v\n",
       "mn62GKDCBeim3v///78CA+8EBh5lfZip6RCK8wADawCKSH0Cww+oYQUQ+pDRHyBpjm7qPKAHGBg4\n",
       "QH64j2YqawMD0z8UEVcHhl+opjLwgkw9im4q0PeGDAwvGLCYyvWHgekjiggDPARQTeVywAhrFqCC\n",
       "SmymAgHHHzSREwbYTGWegGEqNxDvxWGqvwGqyOPOA9hM5QVHl9UqEFgJEbcF4jYcpjahi7CHYDOV\n",
       "rQHdqTwfgEQIwlSgja2rVi2CpIIJ6CIMoUBFzKtWrYhatUoBbirjB3RT2RegmorsskoGVJF3DAz7\n",
       "E7C4FdNUjg04Q4BtAsgcJJH/B7CbytKACFeIn/gVcMaWMANDHYpINAND/wGcsYUM5EFhZwnOOWim\n",
       "8jUbT2pAEbmLmV7ZQaZyGqCbmg8S8QDiSfErL6DmAmBmRjWVZeZsB1RTOVV/zQWqFEA39SkooDhQ\n",
       "Sp10jDSNIQJ3KyRvYC8IeVEyxxkMeQwRHpTyzRxH+bqPgkIbS0mIr9QmFnA/wCFBUQ1zD7swAPPJ\n",
       "lLOXyuLSAAAAAElFTkSuQmCC\n",
       "\" style=\"display:inline;vertical-align:middle;\" /></a></span>"
      ],
      "text/plain": [
       "|- (1 + 2 + 3 + 1) = 7"
      ]
     },
     "execution_count": 7,
     "metadata": {},
     "output_type": "execute_result"
    }
   ],
   "source": [
    "Equals(Add(one, two, three, one), seven).prove()"
   ]
  },
  {
   "cell_type": "code",
   "execution_count": 8,
   "metadata": {},
   "outputs": [
    {
     "data": {
      "text/html": [
       "<span style=\"font-size:20px;\"><a class=\"ProveItLink\" href=\"../__pv_it/demonstrations/cc5977648bc1a1b7dbb543c11fb2eb11ba7bfd0b0/expr.ipynb\"><img src=\"data:image/png;base64,iVBORw0KGgoAAAANSUhEUgAAADEAAAAPBAMAAAC/wjryAAAAMFBMVEX////MzMyYmJjc3NyIiIhU\n",
       "VFR2dna6urqqqqpmZmYyMjIiIiIQEBBERETu7u4AAACIO4EmAAAAAXRSTlMAQObYZgAAANhJREFU\n",
       "GNNj4LuzgQENsKxef/omkOaagCbBKN/AN18TyOBvQJNRCGFgYPoJZNQ/gIro7t69AEgxCZwDkpFA\n",
       "nA2VkPWD0JzMF4DkEyBe6jIDJMC3DqriKSPUYr5fD94bAGlWA6iMGbsDhMHxj4EfxOSFOcASJsO5\n",
       "gOF9ApCWWQUEIBe8ZUyAyAC9Uw9yty1MD9eDAAiDX4FhPsjdPDAZpgkgGT6gTAHfIbCpDjCpKyVA\n",
       "ogroJgVeiCt3wGQ41+bx9d4DapuSBPXHdVhgSK75PRElvMpug0MHBgCFGjXcupX6XQAAAABJRU5E\n",
       "rkJggg==\n",
       "\" style=\"display:inline;vertical-align:middle;\" /></a> <a class=\"ProveItLink\" href=\"../__pv_it/demonstrations/8c23d68d40224ffd7d898904f1fd7a015914e08c0/proof.ipynb\" style=\"text-decoration: none\">&nbsp;&#x22A2;&nbsp;&nbsp;</a><a class=\"ProveItLink\" href=\"../__pv_it/demonstrations/6db435640ce152baaefd706c21f083c0209650250/expr.ipynb\"><img src=\"data:image/png;base64,iVBORw0KGgoAAAANSUhEUgAAANkAAAAUBAMAAADy5oUvAAAAMFBMVEX////MzMxUVFR2dna6uroQ\n",
       "EBCqqqqIiIgiIiJmZmYyMjJERETu7u6YmJjc3NwAAACgK8IjAAAAAXRSTlMAQObYZgAAAlZJREFU\n",
       "SMeNlr9r3DAUx19yse+Xzu6f4CVDt6MdkhYKN7ZTlltaWrj8A+ktoWQzLWQsnloCLTGZWg/hhrZb\n",
       "06MQCGQ4r+lwHGTJUigdMhw3VE+yZUtPggos2+Lj71d6kp4MEOQA8BtI2SMtgrRQlHQLXvKLTbR2\n",
       "9jUGWF+YOCev73+jFCWl4FpCBU/51eEP/vMK7nCOpabEKQQJvMwJRUkhCK2IoD3swBXAz3urCg5H\n",
       "vNoqXvyxvHOyeQthTKkt4naF1X5E0Bb24i2K1dx2prw6N9w4uTGEMKXUOXFDweBXRNAbbI8Nt20x\n",
       "+oHudiPqWiQVVZLVekLBRici6AG/NRPD7eTVO04nutuBmO83FqqRGG5CcF5zK9Hv/Lmb625sOZ0t\n",
       "oJfqbkgG2x8slCQfZlg+QyHIxpWbQg9xRkaVGwbYX0E4Bj/W3Q5FvY9RY6BRfmyMDQUbIN00wSF/\n",
       "8QbKjS151U5h1oe1Pxj8LPv0LMvwu6EQ8nCjzFKNEmS9oOCudNMFDTd4LXfHzkhplGPjZLCA7m25\n",
       "kyrK5sb6xdg0QTOSYnfkcDyFDRrJcCXdDEqSct5Oikj6d4+On45N1LZKwgF7AbZV4k2gtaJUz0wm\n",
       "QhC8iKAPoFjBzcptPe/ylnZfd+NkL6/tt4oqSVXklvAmBH0MMhLtzeVHtWDfP8Jg39HdkHxy9AUo\n",
       "VZKqiNA2fvzNTVRlLlIuaOZyUBfWzGVDy6xMS5lr2VRlZQflyMo29Axn1dJteo6cgZ2ynDhOQctp\n",
       "6vjgEuxU13Ga2gRdfwrz//pTmFtJl+A/I4TgYLNTdMUAAAAASUVORK5CYII=\n",
       "\" style=\"display:inline;vertical-align:middle;\" /></a></span>"
      ],
      "text/plain": [
       "{b in Complex} |- ((1 * b) + (3 * b)) = (4 * b)"
      ]
     },
     "execution_count": 8,
     "metadata": {},
     "output_type": "execute_result"
    }
   ],
   "source": [
    "Add(Mult(one, b), Mult(three, b)).simplification([InSet(b, Complex)])"
   ]
  },
  {
   "cell_type": "code",
   "execution_count": 9,
   "metadata": {},
   "outputs": [
    {
     "data": {
      "text/html": [
       "<span style=\"font-size:20px;\"><a class=\"ProveItLink\" href=\"../__pv_it/demonstrations/cc5977648bc1a1b7dbb543c11fb2eb11ba7bfd0b0/expr.ipynb\"><img src=\"data:image/png;base64,iVBORw0KGgoAAAANSUhEUgAAADEAAAAPBAMAAAC/wjryAAAAMFBMVEX////MzMyYmJjc3NyIiIhU\n",
       "VFR2dna6urqqqqpmZmYyMjIiIiIQEBBERETu7u4AAACIO4EmAAAAAXRSTlMAQObYZgAAANhJREFU\n",
       "GNNj4LuzgQENsKxef/omkOaagCbBKN/AN18TyOBvQJNRCGFgYPoJZNQ/gIro7t69AEgxCZwDkpFA\n",
       "nA2VkPWD0JzMF4DkEyBe6jIDJMC3DqriKSPUYr5fD94bAGlWA6iMGbsDhMHxj4EfxOSFOcASJsO5\n",
       "gOF9ApCWWQUEIBe8ZUyAyAC9Uw9yty1MD9eDAAiDX4FhPsjdPDAZpgkgGT6gTAHfIbCpDjCpKyVA\n",
       "ogroJgVeiCt3wGQ41+bx9d4DapuSBPXHdVhgSK75PRElvMpug0MHBgCFGjXcupX6XQAAAABJRU5E\n",
       "rkJggg==\n",
       "\" style=\"display:inline;vertical-align:middle;\" /></a>, <a class=\"ProveItLink\" href=\"../__pv_it/theorems/52771a567e2fa8b58fb04200a909bea222a384e50/expr.ipynb\"><img src=\"data:image/png;base64,iVBORw0KGgoAAAANSUhEUgAAADEAAAAPBAMAAAC/wjryAAAAMFBMVEX///+6urqYmJgQEBDu7u5m\n",
       "ZmZUVFQyMjJERESqqqoiIiLc3NzMzMyIiIh2dnYAAABqS+z4AAAAAXRSTlMAQObYZgAAAMJJREFU\n",
       "GNNjYMAEvFX1Vq1YxBl4zk9giVfFJqOQy8DA9BVZRGPVqgIgxXTABEimIkmcuAKhWbkbgKQviPn2\n",
       "7gEgyVICVeHGEwBl7ZrAATKEbQOUv4/xApS1joFtApDigJm6FSbD+gVCHy4HApBmD54HEBHmBgi9\n",
       "A6aH3SEBwvCHqYDJMAWAZFgYGPgVGBhA9rDC7GXolQUS4kCRBAZXkKsZVsJkWCuesMxoATLeKUFU\n",
       "uzU6QKWOFv+KQQkvuS5w6MAAABN0LKDXhSVsAAAAAElFTkSuQmCC\n",
       "\" style=\"display:inline;vertical-align:middle;\" /></a> <a class=\"ProveItLink\" href=\"../__pv_it/demonstrations/77cd9ebd691c1fab743031dc7a8cd695caeb80220/proof.ipynb\" style=\"text-decoration: none\">&nbsp;&#x22A2;&nbsp;&nbsp;</a><a class=\"ProveItLink\" href=\"../__pv_it/demonstrations/49242c788fd14b1c6b0c5a7eebedeae2ded7c2480/expr.ipynb\"><img src=\"data:image/png;base64,iVBORw0KGgoAAAANSUhEUgAAAsUAAAAUBAMAAACXGF2IAAAAMFBMVEX////MzMxUVFR2dna6uroQ\n",
       "EBCqqqqIiIgiIiJmZmYyMjJERETu7u6YmJjc3NwAAACgK8IjAAAAAXRSTlMAQObYZgAABM1JREFU\n",
       "WMOtWc9rXFUUPu3k97xM5j9IQfyxsQlmEacgdJnuukih1IKzEeOmjYiUrBwszTKm7SpScVq6aAZp\n",
       "uxBBJWUoBGwjdHaSgnXATTaCkBKlROu997x33r3nnOkkj3vhMW/efOc73/ne/fHeHYBKB9zB2wUo\n",
       "0P6Ul4a68VAXdKQGVYsqrKUgeWbjVnp4LVn7qQpHecjW2b6Zk/sAf8x8H4YcV1AuQ1+UaE7TcS2t\n",
       "Im4rnhbQyEXjYbmNd9Pjwzb9+BBKzyFpco71vpnHulBZhYudIOSxgnIZ+qJg6DxT3dSQDirF3Y2n\n",
       "BRTywDHXeBjZOL7qjuS1qTziBsAZgNlsDCymJ3v8ArWP0s9tgOE9mGjQDzaktChRmEFDEblBPXxn\n",
       "nyWa9fmobXviKIspKpoWUMgDx1zj5GTjSBcP+D2PMONlqgubzNKB/b4erxjUPEzQCHAhyWmJwgwa\n",
       "ishXbCnc402fj9qKJ46ymKKiaQGFPHAMRxkjJxt3AA8/4l4bpqowdjLMVGr087iCiHx8YshticIM\n",
       "Giojd1zCY6fpNl9/Gp44smEnnhbpMXcMGyMnG5fMlyUZ8WUbSqthprE3l+ph6tKlTwLSYReRXM4t\n",
       "cSE1UFA2g4bKyB0q8Hj2UhU11VhpFkriyIaleFpEodIxh2DkZOOGOdsQHg/smgKbYaYn3yb/hV1t\n",
       "GX4MSMu201TevUE0GPIUJMpl0FAZuUP5Hu/Uy03U5JAnWratZ1ASRwVuxNMiChWOIeIp9zi1cdmc\n",
       "LucRSTrfHDMZGmGmi234O7gwMg1vBKQj2JU+O5kRYcgCKCibAaAtUERezz12qMtwtI6aFlg/tlAS\n",
       "RwUuR9TCCxWOIWKBe5zaOG9O5/OIJ9h518xx5C87BlqtO+daLSviK0h2gwvf4H00PepKq3XLnA3i\n",
       "DD54PiPCkEkNteb0vYAA5ZE7FHrsUKPu1GmaZB5bKHJ4WbCoOFpEocIxRDByspF5jLfUTVOuHu9u\n",
       "rsPAXnDhfb4UWMWVLpT3MiIMmZSobCL8AjgqI/c8dqjB+6/0mMRRJ5qPp0UUKhxDBCMnG9lcge1j\n",
       "K2+AzRX/pn0pu5Ds8tR25E3sY11eyJwyPl0GDaXNFa67TLsJzmqay+fjWxmUxPnDOZIWWSh3LEUw\n",
       "crJRW/OOTMNwV6x5z2Gzw0yHIbGCmP42Qs5giLLOYAYN1WvNmzDf696a5zULJXH+shRLiyhUOIYI\n",
       "Rk421rKHoc/ziJ2Z2ltmBpwOM70NP4QXrkFyNSC1T1bjHe+ZFEOug0BhBg1FT+N2nA3nHo8eg0dV\n",
       "1HSdeWyhJI5sqMXTIgoVjiGCkZONc2kfv/bBOsm59/LlP+ZRsRpmevRph9nw3q8hqRvJp9a+o9QY\n",
       "clOiMIOGordKgxp9/cXXhJr5bTHVdJN5bKEkjmyYi6dFFCocQwQjJxvpXVq0n3u91r3yXVrZjGsc\n",
       "BhW8S6uakobyLt3jdTeSloLkmeR0T0hp2Z5Qwl8ZxQX4xducEY22Sg6EIvLtXpr0PSGhRS2qoJaC\n",
       "5CT5QXqIu9I8/BZ9Wbu9j+OheuxtqoRqUQW1FCQnyVs9dpzL3cN7rO2rSznFUU7Tg4OlVYsqqKUg\n",
       "OUnu9V/Ts0j/NY1346Ge6cgD/9dUWEtBcpT8PyoSmmWydU6zAAAAAElFTkSuQmCC\n",
       "\" style=\"display:inline;vertical-align:middle;\" /></a></span>"
      ],
      "text/plain": [
       "{b in Complex, c in Complex} |- ((1 * 2) + b + c + (3 * b) + (2 * b) + (1 * c)) = (b + (3 * b) + (2 * b) + c + (1 * c) + 2)"
      ]
     },
     "execution_count": 9,
     "metadata": {},
     "output_type": "execute_result"
    }
   ],
   "source": [
    "Add(Mult(one, two), b, c, Mult(three, b), Mult(two, b), Mult(one, c)).simplification([InSet(a, Complex), InSet(c, Complex), InSet(b, Complex)])"
   ]
  },
  {
   "cell_type": "code",
   "execution_count": 10,
   "metadata": {},
   "outputs": [
    {
     "data": {
      "text/html": [
       "<span style=\"font-size:20px;\"><a class=\"ProveItLink\" href=\"../__pv_it/demonstrations/cc5977648bc1a1b7dbb543c11fb2eb11ba7bfd0b0/expr.ipynb\"><img src=\"data:image/png;base64,iVBORw0KGgoAAAANSUhEUgAAADEAAAAPBAMAAAC/wjryAAAAMFBMVEX////MzMyYmJjc3NyIiIhU\n",
       "VFR2dna6urqqqqpmZmYyMjIiIiIQEBBERETu7u4AAACIO4EmAAAAAXRSTlMAQObYZgAAANhJREFU\n",
       "GNNj4LuzgQENsKxef/omkOaagCbBKN/AN18TyOBvQJNRCGFgYPoJZNQ/gIro7t69AEgxCZwDkpFA\n",
       "nA2VkPWD0JzMF4DkEyBe6jIDJMC3DqriKSPUYr5fD94bAGlWA6iMGbsDhMHxj4EfxOSFOcASJsO5\n",
       "gOF9ApCWWQUEIBe8ZUyAyAC9Uw9yty1MD9eDAAiDX4FhPsjdPDAZpgkgGT6gTAHfIbCpDjCpKyVA\n",
       "ogroJgVeiCt3wGQ41+bx9d4DapuSBPXHdVhgSK75PRElvMpug0MHBgCFGjXcupX6XQAAAABJRU5E\n",
       "rkJggg==\n",
       "\" style=\"display:inline;vertical-align:middle;\" /></a>, <a class=\"ProveItLink\" href=\"../__pv_it/theorems/52771a567e2fa8b58fb04200a909bea222a384e50/expr.ipynb\"><img src=\"data:image/png;base64,iVBORw0KGgoAAAANSUhEUgAAADEAAAAPBAMAAAC/wjryAAAAMFBMVEX///+6urqYmJgQEBDu7u5m\n",
       "ZmZUVFQyMjJERESqqqoiIiLc3NzMzMyIiIh2dnYAAABqS+z4AAAAAXRSTlMAQObYZgAAAMJJREFU\n",
       "GNNjYMAEvFX1Vq1YxBl4zk9giVfFJqOQy8DA9BVZRGPVqgIgxXTABEimIkmcuAKhWbkbgKQviPn2\n",
       "7gEgyVICVeHGEwBl7ZrAATKEbQOUv4/xApS1joFtApDigJm6FSbD+gVCHy4HApBmD54HEBHmBgi9\n",
       "A6aH3SEBwvCHqYDJMAWAZFgYGPgVGBhA9rDC7GXolQUS4kCRBAZXkKsZVsJkWCuesMxoATLeKUFU\n",
       "uzU6QKWOFv+KQQkvuS5w6MAAABN0LKDXhSVsAAAAAElFTkSuQmCC\n",
       "\" style=\"display:inline;vertical-align:middle;\" /></a> <a class=\"ProveItLink\" href=\"../__pv_it/demonstrations/4be9fbe6e85112adc5772926c704392fe75e137c0/proof.ipynb\" style=\"text-decoration: none\">&nbsp;&#x22A2;&nbsp;&nbsp;</a><a class=\"ProveItLink\" href=\"../__pv_it/demonstrations/919d841329c03ce3a6dd203199bbb37230b3c0e50/expr.ipynb\"><img src=\"data:image/png;base64,iVBORw0KGgoAAAANSUhEUgAAAnsAAAAUBAMAAAAHJ+YCAAAAMFBMVEX////MzMxUVFR2dna6uroQ\n",
       "EBCqqqqIiIgiIiJmZmYyMjJERETu7u6YmJjc3NwAAACgK8IjAAAAAXRSTlMAQObYZgAABR5JREFU\n",
       "WMOtWM9rVFcUPplJJsnMmx/gH2BAWmoXzWAWMQVplnEVFwpibTubYruJcSFhNnYwdBZd6DSCElQc\n",
       "Qxd1FtZCFWmJPARBEyGzK4rGATfpoqUSkRKi0/vjvXvfPffcmefog0lmznzf+b5z3p1777sAuSYA\n",
       "/A3WlWrB218iGbpmekTFps3Eg5JVzvSKCqOr7OXdML94cPFXgE8Q2rtZ6VohS/Z87JZJSbQIlFDo\n",
       "hCLUVglBTrMFSKhVZci3UOknfec7l+At/lGQ0evslWZvUkf1lyPw2SSs4MTpWtf2XYdcDY43DYpX\n",
       "t1FSoSPKVuNOv/ZRHXVKQECtC1Wp+BZqoN0udjZ3F5IvRTTLXT5igT3b6sthHwYOQHI2+Hgs+J8v\n",
       "oYD+oQdQlmzwFeT1uBGUcURjKKlAosClxmjerlHUPkHDVFkUNoer1HyMSu85BbS5EHUJ4JCIDvER\n",
       "eIZL6sQDFUi8Ae8A8j/td2sfS9Z/EPL6XgnKPURjKKlAosClJpw+w+27R1Al1GofqlLzMSph+cCo\n",
       "wwCjLR7d4BNtxUyc3obEC4CfkP+90K19G+Jv5McrKOlJk7ahFCgUuNREcqt9nIapgQ9kDlep+RiV\n",
       "sHxg1C8+jBZ4tMw+DNasxEPs0wTyvzR3HrVvfK5gZC2L6WRepxGUZM2klZUChQKXWtlqH5fnNEyV\n",
       "0OTcCcOcXWXIx6jE03KBNqfGKMBZn0eX2btM02rfNJs7H5vt87b8tZY5HkqZupGVJ8vtvaQnZkHJ\n",
       "1s0+LCsFCgUutWXcPiHPaZL6aYNf15SPKvxumLOqVHyMyvi5l7Q53b7+TaFb5QOhpBMH9k6z1zdm\n",
       "+1LbkJ81CpqHRMnIWhV/T/KR7mlKqmK2r6oUKBS41Kq6fZ6W57QU3uOIoorwoTkx4yoV30IB3A5R\n",
       "pjndvqERoXuQLxWTKrG3JddePlh3Bvf0+0ZjicfqsFY0AtJKstH4+UijwdKJZCwd3xys1RWl718j\n",
       "j0QJBQu1IkbQVUpN0mT7JE3Ic5qgRi8OveIjc7hKzbdQjN0KUdpcBAWwKLmofXJQyMljpzn62AZo\n",
       "uhQNDNzAszNLlmtB5lVwdwJKWN2xSHHhBGijwKEWbZ+gSXln+z7H5nCVmo9RH4PclZ62zKnRJyZS\n",
       "FsU/XomqwT8AU2b78s3gjoaBtSJ2yJLlt2X7IpR+4scrFSgUONSiP96IPKdJqpz7lgKot2ntqlCV\n",
       "mo9RR8Kxa5lT7fuWjxMWJZeOHQCnrKUjP+l9gfsJJbx0sHuq11RJoZYOqUChwKFmLR1SXi8dkYtD\n",
       "XzNbHZcOzccoNrJ+oM2FqL4iDIoFhe9OxLI8qBPn5scWWLvPme1LNDPmDmR4BB6YGxeWLNuM7Psk\n",
       "Zbho9mFCKVAocKjJfdR3un1SntMQVUIXwPvRMIer1HyM+guyX9Lm1AZ3bOIjEZ0KBvDwB1uX1bzT\n",
       "brdZ6CrauFzYhzaCY09nzaw82f7F3/TuQ1DSBZM2pRQoFLjUePKFr67pPbmQ5zREldDkvj9Nc7hK\n",
       "zceo3LndPm1ObZvb7f9EVD202QcUFddDRqeHNuK6Tz19OVHgUnPT7sd/aHPKviUqjIZHBvaljgwe\n",
       "4m+sgOcTj+rWU/lDiIMCl5qb1vnIIDRHVzneG0pF7/D5krqxKz0cl96hRnG9N1Ts5ASVgpJV2tx4\n",
       "KBVddRwk0ha6H5fGcL0as7aYtMw7HJdmWr2hVNR1WJ99X4f16z2iYtPW3+Gwfr1XlIz+D/iKPBwQ\n",
       "+kilAAAAAElFTkSuQmCC\n",
       "\" style=\"display:inline;vertical-align:middle;\" /></a></span>"
      ],
      "text/plain": [
       "{b in Complex, c in Complex} |- ((1 * 2) + b + c + (3 * b) + (2 * b) - b + (1 * c)) = (c + (1 * c) + (5 * b) + 2)"
      ]
     },
     "execution_count": 10,
     "metadata": {},
     "output_type": "execute_result"
    }
   ],
   "source": [
    "Add(Mult(one, two), b, c, Mult(three, b), Mult(two, b), Neg(b), Mult(one, c)).simplification([InSet(a, Complex), InSet(c, Complex), InSet(b, Complex)])"
   ]
  },
  {
   "cell_type": "code",
   "execution_count": 11,
   "metadata": {},
   "outputs": [],
   "source": [
    "#Add(Mult(c,b), Mult(b,c), Mult(c, a), a, b, c, one, two, three, Mult(two, c), Mult(three,b), Mult(four, a)).simplification([InSet(a, Complex), InSet(b, Complex), InSet(c, Complex)])"
   ]
  },
  {
   "cell_type": "code",
   "execution_count": 12,
   "metadata": {},
   "outputs": [],
   "source": [
    "#Add(Mult(a,b), c, b,a).simplification([InSet(a, Complex), InSet(b, Complex), InSet(c, Complex)])"
   ]
  },
  {
   "cell_type": "code",
   "execution_count": 13,
   "metadata": {},
   "outputs": [
    {
     "data": {
      "text/html": [
       "<span style=\"font-size:20px;\"><a class=\"ProveItLink\" href=\"../__pv_it/theorems/ffc4a45642fde8a513aa78237f7ca59ff7c646290/expr.ipynb\"><img src=\"data:image/png;base64,iVBORw0KGgoAAAANSUhEUgAAADMAAAAPBAMAAAC7N+rPAAAAMFBMVEX///9UVFSqqqrMzMwiIiJE\n",
       "RESYmJgyMjK6urru7u4QEBCIiIh2dnZmZmbc3NwAAABRgo0vAAAAAXRSTlMAQObYZgAAANBJREFU\n",
       "GNNjYMACuEvql8Rik2BgtlfgvJ+LVSpBmoGB7S+KUKqLSwGQYjNYCSRlkWVMd0JoXr4AIDkbiPnu\n",
       "3AapYuCshCqZyHwByup6wP4BRDM+gAq84dgAYXAuY+AFGcDACjP4LUyK9ycDC5hpVQ4EIGdMZT4A\n",
       "keIKYJhvAGI8helinyAAYcw/wKAPUQOTYrsAkuIESikwiDOBXMC7ASYX3Q0k2oG2b2Bz5AGLOMGk\n",
       "eEtPcqpGAjVKb364A+KfiAlQOduqL5dRw64nBBxQMAAAUJwvP1Qg9PwAAAAASUVORK5CYII=\n",
       "\" style=\"display:inline;vertical-align:middle;\" /></a> <a class=\"ProveItLink\" href=\"../__pv_it/demonstrations/2ab42b1c0913b79e1dfae0ff7e30a4516bda5a8e0/proof.ipynb\" style=\"text-decoration: none\">&nbsp;&#x22A2;&nbsp;&nbsp;</a><a class=\"ProveItLink\" href=\"../__pv_it/demonstrations/e9d227c4f0e75ae911cc49a9ec46331056dd68000/expr.ipynb\"><img src=\"data:image/png;base64,iVBORw0KGgoAAAANSUhEUgAAAOMAAAAUBAMAAACNN5feAAAAMFBMVEX///9UVFTMzMx2dna6uroQ\n",
       "EBCqqqqIiIgiIiJmZmYyMjJERETu7u6YmJjc3NwAAAC+aOQFAAAAAXRSTlMAQObYZgAAAhpJREFU\n",
       "SMeVlj1Lw1AUho/WfjdFEFFc6k+oOJQ6dRH8AQoiFbuIuKiIi5N10FErDlJQsJtmsN1FqYNQUGhX\n",
       "lxq3LkJBB5FCPTc3Sb0nNyS5cNLy5s15cr/ODUCyBZ7blkT7NMKL11BfvBNhSLNJiZoeifL9tKvX\n",
       "VO+kydfrMjVxbZNimh5PEPh284byXFVKgrrD7WMpE7khPJWxId94XAIskTsZMSc8zfS4GtEkSIB3\n",
       "OfLZhjzhsQyQIiP5THMqPa52wA8yliPEZJFHtQ4pMpmmV0Sius+eO7/IuyG5J1AiyHCJB7ZTa/pF\n",
       "r4hE9QF/5rVY1w3JPYq+JuZU1m7Z33iLB8DIl/Ue/70UieoxLpZViNZckIYnVCS9jBR44HWUXet2\n",
       "r4hEdREg2oMIkwOqerOiqqMDJHbnSFUrYHmGuwQZzPEAKOtv9ku8/3PqSFQRGaxBc9qll4bHGWlM\n",
       "6KHdK/YSVRzYZhq23Vas4RkpDuayIgzsJiTNTSJ4KRJVXD7NAkyFNBck9yi0pJjLZzgNYQspem3L\n",
       "J4uP7CiHAXL7gCANTzRNkGwnsOjMZiet1xC9Vs4wQ6K6gHM+sfuxJ94+W7ttiSuWe2Jku+ujx6La\n",
       "7/9Y1VX0mjmj479XuupQ8KwmVp+GU8GTtIY0Z4OW9YTtAHn1VtYlLSPNydRHH+el5PCKazy8eE3V\n",
       "zxEddzyiPXlN1c+HSNvHh0jbKcMfEsLUOvEE7agAAAAASUVORK5CYII=\n",
       "\" style=\"display:inline;vertical-align:middle;\" /></a></span>"
      ],
      "text/plain": [
       "{a in Complex} |- (a + 1 + a) = ((2 * a) + 1)"
      ]
     },
     "execution_count": 13,
     "metadata": {},
     "output_type": "execute_result"
    }
   ],
   "source": [
    "Add(a, one, a).simplification([InSet(a, Complex)])"
   ]
  },
  {
   "cell_type": "code",
   "execution_count": 14,
   "metadata": {},
   "outputs": [
    {
     "data": {
      "text/html": [
       "<span style=\"font-size:20px;\"><a class=\"ProveItLink\" href=\"../__pv_it/demonstrations/9f2012052be2597bf12a3239338b5d3217c68a770/expr.ipynb\"><img src=\"data:image/png;base64,iVBORw0KGgoAAAANSUhEUgAAADMAAAAPBAMAAAC7N+rPAAAAMFBMVEX///9UVFSYmJiIiIjc3Nwy\n",
       "MjIiIiJ2dnbu7u66urqqqqpmZmYQEBBERETMzMwAAAAYOWz6AAAAAXRSTlMAQObYZgAAAOFJREFU\n",
       "GNNjYGBg4LuzgQEFMIfFH7sNYfIvQJHhe7+AY782hD2/AUVKQZiBgek3hF0GoXTT0gKAFNODE0BS\n",
       "GiIWDSbfWkB43CwXgGQzELNst/sFEuGIgJrXyAdz1RwH3h8gmtEBKuDOaQBhcBxi4AbZwMALc4U3\n",
       "TIr7BwNbAYjxJhQIQIp6+QogUjwXGPongBi+MF2sDQIQRn8Bw3qIGpgU0waQFAdQagGDKBfIBdwG\n",
       "MLnLk4HEVKDtBkyJ7GCRLJgUd2wFx9obQI3Cdo6WEP/chIXX65hv+1ADfPo1cEDBAAAekzFTIEE6\n",
       "RAAAAABJRU5ErkJggg==\n",
       "\" style=\"display:inline;vertical-align:middle;\" /></a>, <a class=\"ProveItLink\" href=\"../__pv_it/demonstrations/cc5977648bc1a1b7dbb543c11fb2eb11ba7bfd0b0/expr.ipynb\"><img src=\"data:image/png;base64,iVBORw0KGgoAAAANSUhEUgAAADEAAAAPBAMAAAC/wjryAAAAMFBMVEX////MzMyYmJjc3NyIiIhU\n",
       "VFR2dna6urqqqqpmZmYyMjIiIiIQEBBERETu7u4AAACIO4EmAAAAAXRSTlMAQObYZgAAANhJREFU\n",
       "GNNj4LuzgQENsKxef/omkOaagCbBKN/AN18TyOBvQJNRCGFgYPoJZNQ/gIro7t69AEgxCZwDkpFA\n",
       "nA2VkPWD0JzMF4DkEyBe6jIDJMC3DqriKSPUYr5fD94bAGlWA6iMGbsDhMHxj4EfxOSFOcASJsO5\n",
       "gOF9ApCWWQUEIBe8ZUyAyAC9Uw9yty1MD9eDAAiDX4FhPsjdPDAZpgkgGT6gTAHfIbCpDjCpKyVA\n",
       "ogroJgVeiCt3wGQ41+bx9d4DapuSBPXHdVhgSK75PRElvMpug0MHBgCFGjXcupX6XQAAAABJRU5E\n",
       "rkJggg==\n",
       "\" style=\"display:inline;vertical-align:middle;\" /></a>, <a class=\"ProveItLink\" href=\"../__pv_it/theorems/ffc4a45642fde8a513aa78237f7ca59ff7c646290/expr.ipynb\"><img src=\"data:image/png;base64,iVBORw0KGgoAAAANSUhEUgAAADMAAAAPBAMAAAC7N+rPAAAAMFBMVEX///9UVFSqqqrMzMwiIiJE\n",
       "RESYmJgyMjK6urru7u4QEBCIiIh2dnZmZmbc3NwAAABRgo0vAAAAAXRSTlMAQObYZgAAANBJREFU\n",
       "GNNjYMACuEvql8Rik2BgtlfgvJ+LVSpBmoGB7S+KUKqLSwGQYjNYCSRlkWVMd0JoXr4AIDkbiPnu\n",
       "3AapYuCshCqZyHwByup6wP4BRDM+gAq84dgAYXAuY+AFGcDACjP4LUyK9ycDC5hpVQ4EIGdMZT4A\n",
       "keIKYJhvAGI8helinyAAYcw/wKAPUQOTYrsAkuIESikwiDOBXMC7ASYX3Q0k2oG2b2Bz5AGLOMGk\n",
       "eEtPcqpGAjVKb364A+KfiAlQOduqL5dRw64nBBxQMAAAUJwvP1Qg9PwAAAAASUVORK5CYII=\n",
       "\" style=\"display:inline;vertical-align:middle;\" /></a>, <a class=\"ProveItLink\" href=\"../__pv_it/theorems/52771a567e2fa8b58fb04200a909bea222a384e50/expr.ipynb\"><img src=\"data:image/png;base64,iVBORw0KGgoAAAANSUhEUgAAADEAAAAPBAMAAAC/wjryAAAAMFBMVEX///+6urqYmJgQEBDu7u5m\n",
       "ZmZUVFQyMjJERESqqqoiIiLc3NzMzMyIiIh2dnYAAABqS+z4AAAAAXRSTlMAQObYZgAAAMJJREFU\n",
       "GNNjYMAEvFX1Vq1YxBl4zk9giVfFJqOQy8DA9BVZRGPVqgIgxXTABEimIkmcuAKhWbkbgKQviPn2\n",
       "7gEgyVICVeHGEwBl7ZrAATKEbQOUv4/xApS1joFtApDigJm6FSbD+gVCHy4HApBmD54HEBHmBgi9\n",
       "A6aH3SEBwvCHqYDJMAWAZFgYGPgVGBhA9rDC7GXolQUS4kCRBAZXkKsZVsJkWCuesMxoATLeKUFU\n",
       "uzU6QKWOFv+KQQkvuS5w6MAAABN0LKDXhSVsAAAAAElFTkSuQmCC\n",
       "\" style=\"display:inline;vertical-align:middle;\" /></a> <a class=\"ProveItLink\" href=\"../__pv_it/demonstrations/4447b3ff315979f8bac741325fa88b61a630da990/proof.ipynb\" style=\"text-decoration: none\">&nbsp;&#x22A2;&nbsp;&nbsp;</a><a class=\"ProveItLink\" href=\"../__pv_it/demonstrations/6f91776aa448d3eb0f969d45fcaf7c66a5ff2c5c0/expr.ipynb\"><img src=\"data:image/png;base64,iVBORw0KGgoAAAANSUhEUgAAAbwAAAAUBAMAAAAEppXbAAAAMFBMVEX///9UVFTMzMx2dna6uroQ\n",
       "EBCqqqqIiIgiIiJmZmYyMjJERETu7u6YmJjc3NwAAAC+aOQFAAAAAXRSTlMAQObYZgAABG1JREFU\n",
       "WMO1WF9oW2UU/6U3zZrkJg0+WBF0Ad9dsA+1wjAvg761DxPEf+Qt+tKFqoQ+TDKG9dE7C445wUxE\n",
       "bBBbhCEqkwwprE5I3xTBEd/qiyvbqCLtsvP9ud/9zpebmoZ54Nzc/HK+c87vO+f77ncD5Lch1ZFU\n",
       "Fw9DYjwDi1pjbOPsF0eMLSncVLp1+WuD33yRLk86xhI8spBn7+wzNjJ2NUhQ3EQ3zlaof+n7Ygj5\n",
       "Vxv9phIcRgSFr6T6BTxfNvga6U+u8doo9Mj757jB8pus+E3KsRlnK/Q6vHsGywQxpgIcRohCLpCa\n",
       "bmN8weB7pF5Nf6laIAMi6UNSejB5zi3AY/nNtzFDHzPuGJ0JPgZesObCMq3aoB2mP7AUojBBM0s6\n",
       "3kDifggn90ULLHCnEjwqPfKcLSC1b//2LLAJpUx0JqBFcLxrzUVkWrXBIegRhR36IM3sI3HHsJa9\n",
       "/Rl36jVGoEeeJwtI7jlNnikrZaIzwXobx4vWXESmVRscgh5RWKbrspo9M8eZqWUq/yzPXYF2lPzq\n",
       "xVccejP1IotCnjsBkn9Hu+PqEnH1AqVMokzwflgeXKl/GJlWbZCR+XP27TZHvPqSoHCNbq+pkpdC\n",
       "n50vfWrU3zg9BdpRTnUzuxzZqWSbLAp5vl3CWETvVDdLs5hrKoXXkhJoW51J8q5pr3/bna4yjcIo\n",
       "0A6TfA3rnHB+Bd8JCit0vyKRc3KouJxpgxJ6ndNToB3lVaQ3OL3zSFRYFPJ8O8DY3dCzGEO5phpK\n",
       "mUSZTBTEVZSDVu1kzZjqMAq0w2xu47Kz6Et4VFA4TfdCkZZT2BET9RF8SuiE+P5cq/Vuq3XFgBaQ\n",
       "3sdEzUWgSvLFS61WQXkOm1N6FmOoScZ2lTIxmeCSqpGwb6JTUqZWGAnaYT5p4z24CAQF43Q5mrg1\n",
       "uRmc4NVbMzuEBsY30Cm6iLPCT8utJbUXehZjyv9F71hguomecPMVY1o1j7153iQvw78DB1H0wpZI\n",
       "BfgrDHQg6zDH6R2ExTGLsYQzcBGHHnnObiBnNi09JtlQGq69AmvON5APHwyT26IOSd6cCrTCUFul\n",
       "duEgQubMgn4KeCdM4p5oZndrUaBNpoLH9ck0iouKu7Wwx7oeY7YWW8JMxko4ZuiVabW6W4sCbTJ7\n",
       "SDQXWeADuhUUxPZPmj8/fcGs9SfwLV1XOT0FWkC2ljvnMSRdwBZ/MMzKimyax5geky4pZaIzwc70\n",
       "7GMhltjOBpFp1QbtMN/g10KJIRfgfyAozMkaItPr9Qy9rTdFnT7lbBRo75xTS3+8xXfO6d9rPK7w\n",
       "/mP9kegcocZkikqZ6Eyw3uv9Y+wvnkRkWrVBO8z1+tNTZYZ4J3+RFMKjUJ/4jUFHkqMdyuLkhtbY\n",
       "Q1m8+aFhBh3KGuYg2yfmSP2z+0sf0I/47eiYHCOHHqnjzQ8NMwARFH6A0pi3iYcgcZ4x4IVoUCYx\n",
       "pkO/EIUvkcMlNsrrbL9ku0rjX2djzUee2wF/AeT+xz8jbmkd8s+IWyPGJgoPABp/mQdNHqkcAAAA\n",
       "AElFTkSuQmCC\n",
       "\" style=\"display:inline;vertical-align:middle;\" /></a></span>"
      ],
      "text/plain": [
       "{d in Complex, b in Complex, a in Complex, c in Complex} |- ((2 * b) + b + a + c + (0 * d)) = ((2 * b) + b + a + c)"
      ]
     },
     "execution_count": 14,
     "metadata": {},
     "output_type": "execute_result"
    }
   ],
   "source": [
    "Add(Mult(two, b), b, a, c, Mult(zero, d)).simplification([InSet(a, Complex), InSet(c, Complex), InSet(b, Complex), InSet(d, Complex)])"
   ]
  },
  {
   "cell_type": "code",
   "execution_count": 15,
   "metadata": {},
   "outputs": [
    {
     "data": {
      "text/html": [
       "<span style=\"font-size:20px;\"><a class=\"ProveItLink\" href=\"../__pv_it/theorems/ffc4a45642fde8a513aa78237f7ca59ff7c646290/expr.ipynb\"><img src=\"data:image/png;base64,iVBORw0KGgoAAAANSUhEUgAAADMAAAAPBAMAAAC7N+rPAAAAMFBMVEX///9UVFSqqqrMzMwiIiJE\n",
       "RESYmJgyMjK6urru7u4QEBCIiIh2dnZmZmbc3NwAAABRgo0vAAAAAXRSTlMAQObYZgAAANBJREFU\n",
       "GNNjYMACuEvql8Rik2BgtlfgvJ+LVSpBmoGB7S+KUKqLSwGQYjNYCSRlkWVMd0JoXr4AIDkbiPnu\n",
       "3AapYuCshCqZyHwByup6wP4BRDM+gAq84dgAYXAuY+AFGcDACjP4LUyK9ycDC5hpVQ4EIGdMZT4A\n",
       "keIKYJhvAGI8helinyAAYcw/wKAPUQOTYrsAkuIESikwiDOBXMC7ASYX3Q0k2oG2b2Bz5AGLOMGk\n",
       "eEtPcqpGAjVKb364A+KfiAlQOduqL5dRw64nBBxQMAAAUJwvP1Qg9PwAAAAASUVORK5CYII=\n",
       "\" style=\"display:inline;vertical-align:middle;\" /></a>, <a class=\"ProveItLink\" href=\"../__pv_it/demonstrations/cc5977648bc1a1b7dbb543c11fb2eb11ba7bfd0b0/expr.ipynb\"><img src=\"data:image/png;base64,iVBORw0KGgoAAAANSUhEUgAAADEAAAAPBAMAAAC/wjryAAAAMFBMVEX////MzMyYmJjc3NyIiIhU\n",
       "VFR2dna6urqqqqpmZmYyMjIiIiIQEBBERETu7u4AAACIO4EmAAAAAXRSTlMAQObYZgAAANhJREFU\n",
       "GNNj4LuzgQENsKxef/omkOaagCbBKN/AN18TyOBvQJNRCGFgYPoJZNQ/gIro7t69AEgxCZwDkpFA\n",
       "nA2VkPWD0JzMF4DkEyBe6jIDJMC3DqriKSPUYr5fD94bAGlWA6iMGbsDhMHxj4EfxOSFOcASJsO5\n",
       "gOF9ApCWWQUEIBe8ZUyAyAC9Uw9yty1MD9eDAAiDX4FhPsjdPDAZpgkgGT6gTAHfIbCpDjCpKyVA\n",
       "ogroJgVeiCt3wGQ41+bx9d4DapuSBPXHdVhgSK75PRElvMpug0MHBgCFGjXcupX6XQAAAABJRU5E\n",
       "rkJggg==\n",
       "\" style=\"display:inline;vertical-align:middle;\" /></a>, <a class=\"ProveItLink\" href=\"../__pv_it/theorems/52771a567e2fa8b58fb04200a909bea222a384e50/expr.ipynb\"><img src=\"data:image/png;base64,iVBORw0KGgoAAAANSUhEUgAAADEAAAAPBAMAAAC/wjryAAAAMFBMVEX///+6urqYmJgQEBDu7u5m\n",
       "ZmZUVFQyMjJERESqqqoiIiLc3NzMzMyIiIh2dnYAAABqS+z4AAAAAXRSTlMAQObYZgAAAMJJREFU\n",
       "GNNjYMAEvFX1Vq1YxBl4zk9giVfFJqOQy8DA9BVZRGPVqgIgxXTABEimIkmcuAKhWbkbgKQviPn2\n",
       "7gEgyVICVeHGEwBl7ZrAATKEbQOUv4/xApS1joFtApDigJm6FSbD+gVCHy4HApBmD54HEBHmBgi9\n",
       "A6aH3SEBwvCHqYDJMAWAZFgYGPgVGBhA9rDC7GXolQUS4kCRBAZXkKsZVsJkWCuesMxoATLeKUFU\n",
       "uzU6QKWOFv+KQQkvuS5w6MAAABN0LKDXhSVsAAAAAElFTkSuQmCC\n",
       "\" style=\"display:inline;vertical-align:middle;\" /></a> <a class=\"ProveItLink\" href=\"../__pv_it/demonstrations/edad384c4915211725f0f7983fe9cadf287611a00/proof.ipynb\" style=\"text-decoration: none\">&nbsp;&#x22A2;&nbsp;&nbsp;</a><a class=\"ProveItLink\" href=\"../__pv_it/demonstrations/2d7e7d1dcec1db59348a9443c36d38e221f86bb30/expr.ipynb\"><img src=\"data:image/png;base64,iVBORw0KGgoAAAANSUhEUgAAAeEAAAAUBAMAAABITJgjAAAAMFBMVEX///9UVFTMzMx2dna6uroQ\n",
       "EBCqqqqIiIgiIiJmZmYyMjJERETu7u6YmJjc3NwAAAC+aOQFAAAAAXRSTlMAQObYZgAAA9tJREFU\n",
       "WMO9WM1LVFEUP+OM43w8P1YZQTh/QQy4GC2E2Qjt3CREVrxdtFGxQlylREabsoLEDBp3OUS6iaio\n",
       "ngthxGBmVy6UiTa6MCTFQjQ779737n3nzrP7VJgLx4/f+53ze7/79e57AA0lqG7r9cHWnQjAXT8O\n",
       "izEX/e5q8eLhnRhvhgPxQuXK1FkWDa3nTB0XacbEhxQR1bJELcZ87Xtb00cYvMRYsJ7JVWaWWaxB\n",
       "dE/HRdochLeIqJ7l1rKjntxmtN/5Y1sF4CAA4Jrzu9FUgEoKa5mKy0s8bpvwR7mSUWWR9hygWxCY\n",
       "qJYlamHEyn5+IrtHcNxlBXM8X3H5AY/OLOwoV+ZVWaThimsRd81EtSxRC2PV1094+AiO2yCY40RW\n",
       "udowzAMqZrXgurI2bcaCFrFE2wKxRC2MIZvwZPwyTUk0D5nUYHhwgAJr7bcsamdq8CkFZF3hODOY\n",
       "grC63uvGeAAU0rIbWLLLdWU5DR6604mLallCF+Mj/ttZTmzQlOIr4y/ttVF4T+f9VZihA2jsWMUy\n",
       "8SfrusiqmcxBPdtozubtxnbIZIkH/Lgv75En1+fojTEaRDbFdsREdSypizGKWVcgPktT+iz4TYBY\n",
       "Gk4QYL4Ek9RxdBca+0kXyLqu4zsQMiGqPsViJg8cnAv2T0smu1xxH4wWa3JpXFTHkroYKBHfhZhN\n",
       "DefzLy/l8zbvGRibBHjBEilwzxmqu/n8FP4Vz0ExTQCnLkGw1WwojmuzPLB1W/a4yWTG9chy2gQf\n",
       "XiGqZQldDHRcOwvFFO2kaYhsE6BH3bl6wPhFxxifjF2mF/DUlcj/HP8E+GxXGJHJNcpyY16cZToi\n",
       "RHUsqYuBsxo7qU/xs+d0iwsYm4pjBKIb1HFjyZkJLuCpKxF7fQ3LdTzlndX7FnfsSY74zdfr0OA+\n",
       "d7iojiV1MXDnKppwKlomKVv2OqVdAFHieBtCuV7qOItrj/iTdWWngCn2GdHcnavHs706yX57Uk0a\n",
       "6oRjJqplCV2MdrzeXz8Spimn4R0FHoHxmABv4VtTmhgMlZJjBPDUdZB4EyykIJ5WHDuPDVj2PI+d\n",
       "ZJcrDgpIW21tPykOy0xUx5K6GOdxvJoHvt+kKQs3SkqNjq8UmBs805ylT6fxDuVxJeu6e3XrMqYn\n",
       "UopjZ7pBZGJSHE6c5ISywdi0mf19cRjlojqW1MXwP2UeAvA5YmnOXIWDTpk+reBzfjwOq6C+SRiW\n",
       "+qKjBQC+aAGKHPgm4dMyquzS8Vh2fKryBwG/t8VkmUcArh8tOIsxF6vtOHngF4EgXD9acBZjVv2r\n",
       "z8ohvvqsBPqeE5yF8Q/ceah62zv1UQAAAABJRU5ErkJggg==\n",
       "\" style=\"display:inline;vertical-align:middle;\" /></a></span>"
      ],
      "text/plain": [
       "{a in Complex, b in Complex, c in Complex} |- (a + b + c + a + b + a + c) = ((3 * a) + (2 * b) + (2 * c))"
      ]
     },
     "execution_count": 15,
     "metadata": {},
     "output_type": "execute_result"
    }
   ],
   "source": [
    "Add(a,b,c,a,b,a,c).simplification([InSet(a, Complex), InSet(b, Complex), InSet(c, Complex)])"
   ]
  },
  {
   "cell_type": "code",
   "execution_count": 16,
   "metadata": {},
   "outputs": [
    {
     "data": {
      "text/html": [
       "<span style=\"font-size:20px;\"><a class=\"ProveItLink\" href=\"../__pv_it/theorems/ffc4a45642fde8a513aa78237f7ca59ff7c646290/expr.ipynb\"><img src=\"data:image/png;base64,iVBORw0KGgoAAAANSUhEUgAAADMAAAAPBAMAAAC7N+rPAAAAMFBMVEX///9UVFSqqqrMzMwiIiJE\n",
       "RESYmJgyMjK6urru7u4QEBCIiIh2dnZmZmbc3NwAAABRgo0vAAAAAXRSTlMAQObYZgAAANBJREFU\n",
       "GNNjYMACuEvql8Rik2BgtlfgvJ+LVSpBmoGB7S+KUKqLSwGQYjNYCSRlkWVMd0JoXr4AIDkbiPnu\n",
       "3AapYuCshCqZyHwByup6wP4BRDM+gAq84dgAYXAuY+AFGcDACjP4LUyK9ycDC5hpVQ4EIGdMZT4A\n",
       "keIKYJhvAGI8helinyAAYcw/wKAPUQOTYrsAkuIESikwiDOBXMC7ASYX3Q0k2oG2b2Bz5AGLOMGk\n",
       "eEtPcqpGAjVKb364A+KfiAlQOduqL5dRw64nBBxQMAAAUJwvP1Qg9PwAAAAASUVORK5CYII=\n",
       "\" style=\"display:inline;vertical-align:middle;\" /></a>, <a class=\"ProveItLink\" href=\"../__pv_it/demonstrations/cc5977648bc1a1b7dbb543c11fb2eb11ba7bfd0b0/expr.ipynb\"><img src=\"data:image/png;base64,iVBORw0KGgoAAAANSUhEUgAAADEAAAAPBAMAAAC/wjryAAAAMFBMVEX////MzMyYmJjc3NyIiIhU\n",
       "VFR2dna6urqqqqpmZmYyMjIiIiIQEBBERETu7u4AAACIO4EmAAAAAXRSTlMAQObYZgAAANhJREFU\n",
       "GNNj4LuzgQENsKxef/omkOaagCbBKN/AN18TyOBvQJNRCGFgYPoJZNQ/gIro7t69AEgxCZwDkpFA\n",
       "nA2VkPWD0JzMF4DkEyBe6jIDJMC3DqriKSPUYr5fD94bAGlWA6iMGbsDhMHxj4EfxOSFOcASJsO5\n",
       "gOF9ApCWWQUEIBe8ZUyAyAC9Uw9yty1MD9eDAAiDX4FhPsjdPDAZpgkgGT6gTAHfIbCpDjCpKyVA\n",
       "ogroJgVeiCt3wGQ41+bx9d4DapuSBPXHdVhgSK75PRElvMpug0MHBgCFGjXcupX6XQAAAABJRU5E\n",
       "rkJggg==\n",
       "\" style=\"display:inline;vertical-align:middle;\" /></a>, <a class=\"ProveItLink\" href=\"../__pv_it/theorems/52771a567e2fa8b58fb04200a909bea222a384e50/expr.ipynb\"><img src=\"data:image/png;base64,iVBORw0KGgoAAAANSUhEUgAAADEAAAAPBAMAAAC/wjryAAAAMFBMVEX///+6urqYmJgQEBDu7u5m\n",
       "ZmZUVFQyMjJERESqqqoiIiLc3NzMzMyIiIh2dnYAAABqS+z4AAAAAXRSTlMAQObYZgAAAMJJREFU\n",
       "GNNjYMAEvFX1Vq1YxBl4zk9giVfFJqOQy8DA9BVZRGPVqgIgxXTABEimIkmcuAKhWbkbgKQviPn2\n",
       "7gEgyVICVeHGEwBl7ZrAATKEbQOUv4/xApS1joFtApDigJm6FSbD+gVCHy4HApBmD54HEBHmBgi9\n",
       "A6aH3SEBwvCHqYDJMAWAZFgYGPgVGBhA9rDC7GXolQUS4kCRBAZXkKsZVsJkWCuesMxoATLeKUFU\n",
       "uzU6QKWOFv+KQQkvuS5w6MAAABN0LKDXhSVsAAAAAElFTkSuQmCC\n",
       "\" style=\"display:inline;vertical-align:middle;\" /></a> <a class=\"ProveItLink\" href=\"../__pv_it/demonstrations/bdcbc1ff01e311da464f40ac40b089b8f3b2cdf80/proof.ipynb\" style=\"text-decoration: none\">&nbsp;&#x22A2;&nbsp;&nbsp;</a><a class=\"ProveItLink\" href=\"../__pv_it/demonstrations/b3658f34e4795c35688ef95d3934a4d55aac16970/expr.ipynb\"><img src=\"data:image/png;base64,iVBORw0KGgoAAAANSUhEUgAAAm4AAAAUBAMAAADGoKyuAAAAMFBMVEX///9UVFTMzMx2dna6uroQ\n",
       "EBCqqqqIiIgiIiJmZmYyMjJERETu7u6YmJjc3NwAAAC+aOQFAAAAAXRSTlMAQObYZgAABINJREFU\n",
       "WMPVWE1oU1kUPiVNmjSvSVYWBMWtG410oR0Rsil0VnVRQWZ0JjtdTYs/lK6siBU3WlsY0QrGn8UY\n",
       "Rs1CZ1C0vlkMjFpINqIWhIibduEPo0SR+nN/3nv3nXvPbf5WvXDScvjud75z3rn33fsAUhVYjSNW\n",
       "NX08FSodAvu6HZRAPiZEObcnms/k8e7m57QUSI71hAJp192N+TpYpwTwqu8vrJ1Cpfq2E1zcblCi\n",
       "uqdayORaC3NaCiTGI9N1Q9qv397Xw3ZXITUFIxWknUItQeyLycWsBwnf5/1N5zWH6tNRq6dmhZg0\n",
       "9QOZNNgRMaLwVLhd6dVXXID1ozwH6KpBWjV7zYI6kodPJhezeJVKZ8htvm6dyy3UzR6oXt2cnfoE\n",
       "ngq3jLkd7NSinGJyhyFd8AFCO4UayMFnk4vZIpnONmi+bpGJFupmD1SvbnBVn7DomVm3AOtFSUmp\n",
       "ap1K7SRKX6cCdRXGOWDm7B6s/tLY71o6W8c2YPFL/Ydd5OnuHc9bICaNNZDSEtBExg5QvP16ccY9\n",
       "W/d0Wjkx1ovSJTYn55jayYR2EvVfNrRGuRKO6of77Heg2v0OzXA+u+UqSmcxnyzgVfkL3MT5lf90\n",
       "vlogJo01kNLi06Qm4S7FuyAyKYohMrzv2T14mwsWYAiroiR5o6W2XQgKIrVTqFcnXXXOEUoWBN8k\n",
       "E78XEiU0I7YM6VGUzjHowM30bwVmcX4jLny0QEwaW6CQFp8mnoU1FO9+vd8mPWMZ8xXmEFgvSlyK\n",
       "OJzzYVI7ieoa5r+uUrJf8DFvYhniXNIPxeLxYvES+y9RgHIWOeSez57uHz8Vi3wDuejCCew5D857\n",
       "CmLSrBxIaME0ZOjNet2GPWMsvPHLBQ2rokRlP0b3+DCpnUbtcvm6gEDJZmEsULQE5Q2o0uxUNYT6\n",
       "IlrSN+efwfkfe65BZ80CMWlWCORrUTR0aFvdOgoQ+cC7I2Ni/SisIqkqJGs+TGonUG8AHnCBR5US\n",
       "WTfW2OyJj+AZ6YpXW99Rzmri2eOJafvQF7+dTIhJs0KgESMSHXowtL9lQus0WvCFaFi8AtPLsm4h\n",
       "7QTqmyvrFlIyKIxtpOU8rI2h3TmdY/uMlh+g/c2psef6G6rbB76Z0BCTxhYopEU9D4hRvAt6v3nv\n",
       "hQTL2D+Y6djQjs86O+6X19NOoFiLnXZVdbkS+V5gb9XkaM/RCJrRUUlOIUciAw/xOeRveJbJIs86\n",
       "uAMWiEljCxTS4tOcAWea4p3R6yYPCPwC9SQ4zGtYL0qE3ywqofOb1E6gXoTPb1LJjECyrnN6D7w8\n",
       "hM8hZ3doL8K+F6M4m3/GNvXmkOfhwYoNYtLYAoW0BOfpHU9J3st63QY9W9qiDhga1ovSyd+3P567\n",
       "FcCkdgLVeW42p45vQsllYfQ9C1q4L6wAaYC3+XvWhO2eRXx2mTBvUO2gmOF7/byOMhyOW9djQhrg\n",
       "nYcmee33enME2Hl1Y28HxW0OVucgviPNgSUdA5ustoV6ZPluuRrGnPW7ZQNYp9QWag5gtX4n72ni\n",
       "O3lPQ1/AG0cx+w4LHQmishnW+QAAAABJRU5ErkJggg==\n",
       "\" style=\"display:inline;vertical-align:middle;\" /></a></span>"
      ],
      "text/plain": [
       "{a in Complex, b in Complex, c in Complex} |- (a + b + c + a + b + a + c + b + a + c + a) = ((5 * a) + (3 * b) + (3 * c))"
      ]
     },
     "execution_count": 16,
     "metadata": {},
     "output_type": "execute_result"
    }
   ],
   "source": [
    "Add(a,b,c,a,b,a,c,b,a,c,a).simplification([InSet(a, Complex), InSet(b, Complex), InSet(c, Complex)])"
   ]
  },
  {
   "cell_type": "code",
   "execution_count": 17,
   "metadata": {},
   "outputs": [
    {
     "data": {
      "text/html": [
       "<span style=\"font-size:20px;\"> <a class=\"ProveItLink\" href=\"../__pv_it/demonstrations/55aa46c11be72debaeb3a86cb74f2a25d55cd8540/proof.ipynb\" style=\"text-decoration: none\">&nbsp;&#x22A2;&nbsp;&nbsp;</a><a class=\"ProveItLink\" href=\"../__pv_it/demonstrations/713fd3345f35c807c6f5db79329dc704056aa6b40/expr.ipynb\"><img src=\"data:image/png;base64,iVBORw0KGgoAAAANSUhEUgAAAMEAAAAUBAMAAADGn0QzAAAAMFBMVEX///9UVFTMzMx2dna6uroQ\n",
       "EBCqqqqIiIgiIiJmZmYyMjJERETu7u6YmJjc3NwAAAC+aOQFAAAAAXRSTlMAQObYZgAAAhJJREFU\n",
       "OMuVlb0vBEEUwN9xd+729kSiR+IPcIlCULhGch0FlcI1QiVaDStCouFEJRpE4woRPbaR+Cq0JD4S\n",
       "DQURlQjOzJs5++bNWvGSdzt7+U1+87VvAOovAJNE8g54hBHjYMeT+YrImU4aTVZPQpys7SkiZg/E\n",
       "3Q3G1N5dVMiOzmqM+ACnVteAcBugJ4+Eu25hTiB9hOQnItmSymr/xmZhqJ3Qr6P6SYi0D4l+RXRY\n",
       "hsugOV2EN0RSdyp/4lYY3H5mIETCg9iXIo4sw2LQ7M3DOyIPoNIwwBYzEML5gNirIpw8Pw+ecRw+\n",
       "EZkUzUnL0MkMBgGpD0XUlpihzvjjOIfIvmjuW4YrZjAI6MspIotb3VWWsS2bGXqm7xd8ROZFe94y\n",
       "jDGDQcCMJpIem0OqaMxoABHxK9PFgZRbtKFND26uXN4ATqRLmqh5YYaE2JhTxDbl66AvEW1gc2hj\n",
       "czAI3JRfDdV4BjgsSiR8lQoRq5Qsyd6SiHvBPmzwVar40iCQ/+90K8AU3WkSdKeHAJZ8iXSSs6m+\n",
       "RWlYYQZC1M+2L3uKSOeYgR7fa/weBFIgayJjeXhbDGSTGQjhVCoVTxFOCzPEyeGKr67lEbGqBlYn\n",
       "7/eqQYjjqKqhvzqr8unZVivfuV35CBFZ+VRI5EAnDbt6hxEh1TvD5opI2A10EHUD/RCZyBsoMIbc\n",
       "otk/b1Ekbv6+RQXyDZW8vHny/kb/AAAAAElFTkSuQmCC\n",
       "\" style=\"display:inline;vertical-align:middle;\" /></a></span>"
      ],
      "text/plain": [
       "|- ((-1) + (-2)) = (-3)"
      ]
     },
     "execution_count": 17,
     "metadata": {},
     "output_type": "execute_result"
    }
   ],
   "source": [
    "Add(Neg(one), Neg(two)).evaluation()"
   ]
  },
  {
   "cell_type": "code",
   "execution_count": 18,
   "metadata": {},
   "outputs": [],
   "source": [
    "# Multi-digit arithmetic needs to be implemented in order to\n",
    "# get this to work w.r.t. indexing.  So we comment this out for now.\n",
    "#Add(a,b,c,a,b,a,c,b,a,c,a,a).simplification([InSet(a, Complex), InSet(b, Complex), InSet(c, Complex)]).proof()"
   ]
  },
  {
   "cell_type": "code",
   "execution_count": 19,
   "metadata": {},
   "outputs": [
    {
     "data": {
      "text/html": [
       "<span style=\"font-size:20px;\"><a class=\"ProveItLink\" href=\"../__pv_it/theorems/52771a567e2fa8b58fb04200a909bea222a384e50/expr.ipynb\"><img src=\"data:image/png;base64,iVBORw0KGgoAAAANSUhEUgAAADEAAAAPBAMAAAC/wjryAAAAMFBMVEX///+6urqYmJgQEBDu7u5m\n",
       "ZmZUVFQyMjJERESqqqoiIiLc3NzMzMyIiIh2dnYAAABqS+z4AAAAAXRSTlMAQObYZgAAAMJJREFU\n",
       "GNNjYMAEvFX1Vq1YxBl4zk9giVfFJqOQy8DA9BVZRGPVqgIgxXTABEimIkmcuAKhWbkbgKQviPn2\n",
       "7gEgyVICVeHGEwBl7ZrAATKEbQOUv4/xApS1joFtApDigJm6FSbD+gVCHy4HApBmD54HEBHmBgi9\n",
       "A6aH3SEBwvCHqYDJMAWAZFgYGPgVGBhA9rDC7GXolQUS4kCRBAZXkKsZVsJkWCuesMxoATLeKUFU\n",
       "uzU6QKWOFv+KQQkvuS5w6MAAABN0LKDXhSVsAAAAAElFTkSuQmCC\n",
       "\" style=\"display:inline;vertical-align:middle;\" /></a> <a class=\"ProveItLink\" href=\"../__pv_it/demonstrations/73e00e3228f877b9954b79358464c3bea7e7998a0/proof.ipynb\" style=\"text-decoration: none\">&nbsp;&#x22A2;&nbsp;&nbsp;</a><a class=\"ProveItLink\" href=\"../__pv_it/demonstrations/624f5e10206954077f645bb17bb9ab1353f4f7720/expr.ipynb\"><img src=\"data:image/png;base64,iVBORw0KGgoAAAANSUhEUgAAAWsAAAAUBAMAAAC5awHrAAAAMFBMVEX////MzMxUVFR2dna6uroQ\n",
       "EBCqqqqIiIgiIiJmZmYyMjJERETu7u6YmJjc3NwAAACgK8IjAAAAAXRSTlMAQObYZgAAAtpJREFU\n",
       "SMe9Vz9oE1EY/0zzP5dLwcXNgJOTJzfEP4hZBJ10iIsK3iJuNotIF3tYFFzq0a1UJHSyN0gEcVOz\n",
       "FFIqmNWhbaAIdVDqUqRE4/uTXO59773cxSEPvhz3u9/3u1/e+96fAzA7MN32QIH9GEQM6gDdivWu\n",
       "zdW3CNmz3/+f7URXgowmC9O+6Iynnjht2xZD35C414p4lVGGy1UBMT2Yixwnpa7RkKB8l8V3SP8Z\n",
       "T93t9/tlihY9ME6dGcrfx4LpOrvkWpC6IVAyh1ByxyfpdCuS7a88Fhz4LT6oiIrwiowAQ7O0x3ej\n",
       "bKdcSPwVKMkalBrjk3S6G5LtJR5XqnAkPthAihbAWYbuQxzb+R4kfmHKsEgmtZ2vIr7p8gBcJAE1\n",
       "UIRknaHzavnKo1nEz/YQxViMTFLrznjIdsbjAdC2QgUSoo5sFEgQ9INSft8pNBD/uiVSzHMvI5PU\n",
       "ukXGuuDTts6sdHjA3vPRHA5RwzYukSDoM6X8IiQcxH8ijffDalSSWjftot7OOjxIn9fob0uiBorG\n",
       "Ab1zoTaSJ///qe+v0YWDF8SM77++5ftltpZ4IoXO0ztRSWrdYwfIdqrKg7SbJMM4EqlhxUyDozVV\n",
       "r6Sa0uyaB5FidqFwGJWk1tXa/gnwyRkMrEgNFLNNjiqL5IuFHaQ9KhqilHrYtpyk0U26o9peCxdJ\n",
       "v8VtY2pIsVTmqHJKlsj8EMv0OMBj3HFobZGTNLpFvPcNp+RtgBfDDJEaKJ70+JQ8T28WkHyuDJvC\n",
       "WmYu2svinljs4HVbStLp5ixkmy5zNLZD67ZIDRTnKEDQq+SyfHcd7Rz2dl3cbshZAG3l11bewfgk\n",
       "nW5+FtmmpcBiZXW0EwnUwPY3Op4EzQqHLP2Gp6dMnNTWbe5yaysV2+woFWqfpeOadIaTKBMnaY9S\n",
       "cqsoFSn6ccpfCaqDa6HLIwZ1iG5N23ZB+5kQhzpEp/5RthP/o2xHJ/APrJQypKVZSVkAAAAASUVO\n",
       "RK5CYII=\n",
       "\" style=\"display:inline;vertical-align:middle;\" /></a></span>"
      ],
      "text/plain": [
       "{c in Complex} |- (1 + c + 2 + 3 + c + 1 + c) = ((3 * c) + 7)"
      ]
     },
     "execution_count": 19,
     "metadata": {},
     "output_type": "execute_result"
    }
   ],
   "source": [
    "Add(one, c, two, three, c, one,c).simplification([InSet(c, Complex)])"
   ]
  },
  {
   "cell_type": "code",
   "execution_count": 20,
   "metadata": {},
   "outputs": [
    {
     "data": {
      "text/html": [
       "<strong id=\"expr\">expr:</strong> <a class=\"ProveItLink\" href=\"../__pv_it/demonstrations/44a80291e8ad2619237eb164c50fc310d2ce20340/expr.ipynb\"><img src=\"data:image/png;base64,iVBORw0KGgoAAAANSUhEUgAAAHkAAAAUBAMAAABbvo/+AAAAMFBMVEX////MzMyYmJjc3NyIiIhU\n",
       "VFR2dna6urqqqqpmZmYyMjIiIiIQEBBERETu7u4AAACIO4EmAAAAAXRSTlMAQObYZgAAAZlJREFU\n",
       "OMuNlL9PwkAUx78I1LbYa/+ERiadGleWDowOrMaBxhAS48J/QI2TG4ODLNLFpQ6QGF1N3Pwx8Ado\n",
       "7OJgNMFFTTAB7yoU7q4kvOHS+/Z93r1777VAim3J0hFSjTz1JKkP0n62OC3vSGSmRRe9Jcq6g1co\n",
       "P3zEQKILFbqY/mSnupOHDeAMeOR9a6IXthndjET9EngAqnyuH6JXdpPRBxD0LC1EN0KVv7jeEGhF\n",
       "Z/R5+ZTXc/+FuIlmWZctKC2BLjKaDKOBw+mGzdbV7wQu+UaAlYCnictodQTT5fSCn1QU8fnXyPtQ\n",
       "ezytgNFagIFHN2F4cR+GDFmLb9iODxjSRRvF3f0E53UY07TdTZ+LGtOTy1+xfT+hZ17Ei2nTRieS\n",
       "Mz9GdtoxlhqtA5+5utPu3LkwG+QWUtUyHnJTmsaHL1WN5kTPztuG0AvWm1J9f3fqpVXwZkHzJJre\n",
       "iJzsCdPCcuyOx79Jx+rr9I1uidPy8mXPTdP8pMr2Ls258GFGs69EtprotcgMJyV0gCWN9JeLuMBS\n",
       "/kzFVMc/Dlli1S+V7tAAAAAASUVORK5CYII=\n",
       "\" style=\"display:inline;vertical-align:middle;\" /></a><br>"
      ],
      "text/plain": [
       "expr: b + (2 * c) + 4"
      ]
     },
     "execution_count": 20,
     "metadata": {},
     "output_type": "execute_result"
    }
   ],
   "source": [
    "expr = Add(c, Neg(one), b, Add(two, three), Neg(c), Add(c, zero, c)).simplified(assumptions=[InSet(c, Complex),InSet(b, Complex)])"
   ]
  },
  {
   "cell_type": "code",
   "execution_count": 21,
   "metadata": {},
   "outputs": [
    {
     "data": {
      "text/html": [
       "<span style=\"font-size:20px;\"> <a class=\"ProveItLink\" href=\"../__pv_it/demonstrations/22b4c03603aeb50a5e9454aaadf2d10ef942dbdf0/proof.ipynb\" style=\"text-decoration: none\">&nbsp;&#x22A2;&nbsp;&nbsp;</a><a class=\"ProveItLink\" href=\"../__pv_it/demonstrations/6faffe2df2ef1784eb41c3c7c0da8e5ce24b6e9c0/expr.ipynb\"><img src=\"data:image/png;base64,iVBORw0KGgoAAAANSUhEUgAAANsAAAAUBAMAAAD2E1USAAAAMFBMVEX////MzMxUVFR2dna6uroQ\n",
       "EBCqqqqIiIgiIiJmZmYyMjJERETu7u6YmJjc3NwAAACgK8IjAAAAAXRSTlMAQObYZgAAAY9JREFU\n",
       "SMdjYOC7wEA+yMMi9hav4tNEmcszc7cAFhGmB5gqN+BVvA6IUw+ga0IXOcTA/AWLCM8CDOu4HuBT\n",
       "zDuBgUdZH81wJJF0CDWHgSEUVQ1ExBzDupt4FXOAfHgfw3f30ayLYGDQRw04iMhRDOv68Cp+wUCU\n",
       "desPMOijxgdEhMsBTSNfA17FlcRZBwT9GIqAIswT0MTYJ+BVvJdY61g+o6sBifCC04rVKhBYCWJy\n",
       "X8CruI1Y6zgU0NWARNga0AUT8CoOQRh+CuzGhUjWAV3dumrVIrDITHCSBStZJQAXYfyAZiyrA17F\n",
       "IUT6jh09kiAi2K3DrZjYwMxk4EMrQcAiLA2IuFsED0zciolMKowGDOyoJkBEeNGLFVBSwaPYEsSr\n",
       "x7CuHs26F8aWGqgqICKcBmgaQTkDj2IPIGdS/Eq0agEhAsvm////QFUCEeESQE/wDXgVczzAXxWk\n",
       "45c+ga0Qw6OYdwJ+887gl8ZaRONTvI+C2hVbBcT9AK/i05RYx421esWnmKLGwz1SGg9AxQD3Q8NR\n",
       "Lmdx3gAAAABJRU5ErkJggg==\n",
       "\" style=\"display:inline;vertical-align:middle;\" /></a></span>"
      ],
      "text/plain": [
       "|- (1 - 1 + 2 - 2) = (2 - 2)"
      ]
     },
     "execution_count": 21,
     "metadata": {},
     "output_type": "execute_result"
    }
   ],
   "source": [
    "Add(one, Neg(one), two, Neg(two)).cancelation(0, 1)"
   ]
  },
  {
   "cell_type": "code",
   "execution_count": 22,
   "metadata": {},
   "outputs": [
    {
     "data": {
      "text/html": [
       "<span style=\"font-size:20px;\"><a class=\"ProveItLink\" href=\"../__pv_it/theorems/ffc4a45642fde8a513aa78237f7ca59ff7c646290/expr.ipynb\"><img src=\"data:image/png;base64,iVBORw0KGgoAAAANSUhEUgAAADMAAAAPBAMAAAC7N+rPAAAAMFBMVEX///9UVFSqqqrMzMwiIiJE\n",
       "RESYmJgyMjK6urru7u4QEBCIiIh2dnZmZmbc3NwAAABRgo0vAAAAAXRSTlMAQObYZgAAANBJREFU\n",
       "GNNjYMACuEvql8Rik2BgtlfgvJ+LVSpBmoGB7S+KUKqLSwGQYjNYCSRlkWVMd0JoXr4AIDkbiPnu\n",
       "3AapYuCshCqZyHwByup6wP4BRDM+gAq84dgAYXAuY+AFGcDACjP4LUyK9ycDC5hpVQ4EIGdMZT4A\n",
       "keIKYJhvAGI8helinyAAYcw/wKAPUQOTYrsAkuIESikwiDOBXMC7ASYX3Q0k2oG2b2Bz5AGLOMGk\n",
       "eEtPcqpGAjVKb364A+KfiAlQOduqL5dRw64nBBxQMAAAUJwvP1Qg9PwAAAAASUVORK5CYII=\n",
       "\" style=\"display:inline;vertical-align:middle;\" /></a>, <a class=\"ProveItLink\" href=\"../__pv_it/demonstrations/cc5977648bc1a1b7dbb543c11fb2eb11ba7bfd0b0/expr.ipynb\"><img src=\"data:image/png;base64,iVBORw0KGgoAAAANSUhEUgAAADEAAAAPBAMAAAC/wjryAAAAMFBMVEX////MzMyYmJjc3NyIiIhU\n",
       "VFR2dna6urqqqqpmZmYyMjIiIiIQEBBERETu7u4AAACIO4EmAAAAAXRSTlMAQObYZgAAANhJREFU\n",
       "GNNj4LuzgQENsKxef/omkOaagCbBKN/AN18TyOBvQJNRCGFgYPoJZNQ/gIro7t69AEgxCZwDkpFA\n",
       "nA2VkPWD0JzMF4DkEyBe6jIDJMC3DqriKSPUYr5fD94bAGlWA6iMGbsDhMHxj4EfxOSFOcASJsO5\n",
       "gOF9ApCWWQUEIBe8ZUyAyAC9Uw9yty1MD9eDAAiDX4FhPsjdPDAZpgkgGT6gTAHfIbCpDjCpKyVA\n",
       "ogroJgVeiCt3wGQ41+bx9d4DapuSBPXHdVhgSK75PRElvMpug0MHBgCFGjXcupX6XQAAAABJRU5E\n",
       "rkJggg==\n",
       "\" style=\"display:inline;vertical-align:middle;\" /></a> <a class=\"ProveItLink\" href=\"../__pv_it/demonstrations/4fe56ea37f17a2f79d15be577f08dedda4eb67760/proof.ipynb\" style=\"text-decoration: none\">&nbsp;&#x22A2;&nbsp;&nbsp;</a><a class=\"ProveItLink\" href=\"../__pv_it/demonstrations/64a32ad50f02acda5d9be85f60d7006de06b6e540/expr.ipynb\"><img src=\"data:image/png;base64,iVBORw0KGgoAAAANSUhEUgAAAKcAAAAUBAMAAAAaZjAEAAAAMFBMVEX///9UVFTMzMx2dna6uroQ\n",
       "EBCqqqqIiIgiIiJmZmYyMjJERETu7u6YmJjc3NwAAAC+aOQFAAAAAXRSTlMAQObYZgAAAdZJREFU\n",
       "OMulVb1Lw0AU/0mr9CNt3QqC0v+g3aoFwUVwU8RBRCGjW+MHSDddHKVQsOCiLQ42iNTBQUTp4mA7\n",
       "pCAuLtbNUVEqShXfxYbkLimx9sEdj3u/++V93QsQruPfMtDoYKg5nElnm66EtXnaRmzHydsY7SdO\n",
       "NwJZdzdLtKq2i7K0A4Qcr0fkziErbaVJy6MI1jsgBfgc0zJdcSX1tlieZgTrKZCu4Mnx5ihcST16\n",
       "2g8F6ws5JCNDWjiXX+RthY1d/sCEGKSBaIZyNCZU+INIFVySOtkIPPO2z4rGp8WEGKTasfQN3DM1\n",
       "pTJhhQu/AnEF20SxBH+ZD7GFCFcCC8QgpdS9A8tCQORpPIE5wN+CjyGr+geLpPkPoCWISj9QYybE\n",
       "o6pHC6o6SOoeJOaWY/hE2l+GFhPbdJprKgvE8LQEb9NGygqVlln45FRaaNM69rmmskAM0i/mPqbM\n",
       "nBaYegE8VFihNBlD/CuOTFASOVITYpC+4breLpSt+akngkpoy8OZ+upB/qFZIAbpMM5pzwmkPlma\n",
       "1f2XoquP63y+8+NCAUyIQXqzxsZbURxFyZVYp2cK9xf1y+E8zULZLkklawVtA6UtV+hBql0M6T9L\n",
       "J496+Z2EnAvyA+EGizLXILMiAAAAAElFTkSuQmCC\n",
       "\" style=\"display:inline;vertical-align:middle;\" /></a></span>"
      ],
      "text/plain": [
       "{a in Complex, b in Complex} |- (a - b - a + b) = 0"
      ]
     },
     "execution_count": 22,
     "metadata": {},
     "output_type": "execute_result"
    }
   ],
   "source": [
    "Add(a, Neg(b), Neg(a), b).cancelations(assumptions=[InSet(a, Complex), InSet(b, Complex)])"
   ]
  },
  {
   "cell_type": "code",
   "execution_count": 23,
   "metadata": {},
   "outputs": [
    {
     "data": {
      "text/html": [
       "<span style=\"font-size:20px;\"><a class=\"ProveItLink\" href=\"../__pv_it/theorems/ffc4a45642fde8a513aa78237f7ca59ff7c646290/expr.ipynb\"><img src=\"data:image/png;base64,iVBORw0KGgoAAAANSUhEUgAAADMAAAAPBAMAAAC7N+rPAAAAMFBMVEX///9UVFSqqqrMzMwiIiJE\n",
       "RESYmJgyMjK6urru7u4QEBCIiIh2dnZmZmbc3NwAAABRgo0vAAAAAXRSTlMAQObYZgAAANBJREFU\n",
       "GNNjYMACuEvql8Rik2BgtlfgvJ+LVSpBmoGB7S+KUKqLSwGQYjNYCSRlkWVMd0JoXr4AIDkbiPnu\n",
       "3AapYuCshCqZyHwByup6wP4BRDM+gAq84dgAYXAuY+AFGcDACjP4LUyK9ycDC5hpVQ4EIGdMZT4A\n",
       "keIKYJhvAGI8helinyAAYcw/wKAPUQOTYrsAkuIESikwiDOBXMC7ASYX3Q0k2oG2b2Bz5AGLOMGk\n",
       "eEtPcqpGAjVKb364A+KfiAlQOduqL5dRw64nBBxQMAAAUJwvP1Qg9PwAAAAASUVORK5CYII=\n",
       "\" style=\"display:inline;vertical-align:middle;\" /></a>, <a class=\"ProveItLink\" href=\"../__pv_it/demonstrations/18a46ee69c547f7bb75afb22070a99d68163631d0/expr.ipynb\"><img src=\"data:image/png;base64,iVBORw0KGgoAAAANSUhEUgAAADgAAAAPBAMAAABD1xE4AAAAMFBMVEX///92dnYiIiIQEBBERERU\n",
       "VFS6urqIiIjc3NxmZmaqqqru7u6YmJgyMjLMzMwAAADiRdoGAAAAAXRSTlMAQObYZgAAAOVJREFU\n",
       "GNNjYACBtwzooFb3s8oECPM+uty7Xww7/0Akee5vQJXjYS1gYDgPkdw1vwEieERJ6QKIPscMVM0K\n",
       "kTxQnwCmn1RDdU5oARLcBSAm24b1B0A0922oHHfAS7gN2xjegxWxQg1n4BBIh0smMPSDjWeBCXBM\n",
       "gEvyRc6MdwAxHt8FApCDuB0ewiTZGBiYwW5sgZt1mxXGWsDAwGQAYjDDJU+CJYHe4QBK8n4AcTgL\n",
       "YJIsZUAmG9C4JhDnB1hMC651ruOGXS4bGLb8v83A5f8J7NytbrBg5Jtrr/kALbwTnSDBBwUATjs+\n",
       "5MoWT5AAAAAASUVORK5CYII=\n",
       "\" style=\"display:inline;vertical-align:middle;\" /></a>, <a class=\"ProveItLink\" href=\"../__pv_it/demonstrations/cc5977648bc1a1b7dbb543c11fb2eb11ba7bfd0b0/expr.ipynb\"><img src=\"data:image/png;base64,iVBORw0KGgoAAAANSUhEUgAAADEAAAAPBAMAAAC/wjryAAAAMFBMVEX////MzMyYmJjc3NyIiIhU\n",
       "VFR2dna6urqqqqpmZmYyMjIiIiIQEBBERETu7u4AAACIO4EmAAAAAXRSTlMAQObYZgAAANhJREFU\n",
       "GNNj4LuzgQENsKxef/omkOaagCbBKN/AN18TyOBvQJNRCGFgYPoJZNQ/gIro7t69AEgxCZwDkpFA\n",
       "nA2VkPWD0JzMF4DkEyBe6jIDJMC3DqriKSPUYr5fD94bAGlWA6iMGbsDhMHxj4EfxOSFOcASJsO5\n",
       "gOF9ApCWWQUEIBe8ZUyAyAC9Uw9yty1MD9eDAAiDX4FhPsjdPDAZpgkgGT6gTAHfIbCpDjCpKyVA\n",
       "ogroJgVeiCt3wGQ41+bx9d4DapuSBPXHdVhgSK75PRElvMpug0MHBgCFGjXcupX6XQAAAABJRU5E\n",
       "rkJggg==\n",
       "\" style=\"display:inline;vertical-align:middle;\" /></a>, <a class=\"ProveItLink\" href=\"../__pv_it/demonstrations/9dc69fac6b9fa17f3dc303c134b7abf7b0d779480/expr.ipynb\"><img src=\"data:image/png;base64,iVBORw0KGgoAAAANSUhEUgAAADkAAAAPBAMAAACsFXoGAAAAMFBMVEX///92dnYyMjKqqqoiIiLu\n",
       "7u7c3NyIiIjMzMwQEBC6urpERERmZmZUVFSYmJgAAADEjrHzAAAAAXRSTlMAQObYZgAAAPRJREFU\n",
       "GNNjYGB4+//O2d0LGFABu4r+lD1g1mwGBp4fqJIc/Qas59+AWf8YGLj+oMo+uM7AwAcWY/8GZH2H\n",
       "iL52cVEAUnwNU4HkHZAI9wQGhkhXsGR3KUQRD9sGIBkOYvJfYODwDQCxWFWhBsdyHIDZ0X/v+RYD\n",
       "MIs3ASqUyFUAk61PYGCdC2Zxw4RyELI7QSrAmjuVgADkqmgOAZjsX5AsWG02TIgp4ALM40DvMtwH\n",
       "hxUnTJbvAEiWFepdjt8Qj8Bt274cSCwCmQL07sqtEEFnmCyPtiirNVCQV//vmdubYf7cFQBl9Wh+\n",
       "OcGADhZuAYckDAAAknY+A2TVQNcAAAAASUVORK5CYII=\n",
       "\" style=\"display:inline;vertical-align:middle;\" /></a>, <a class=\"ProveItLink\" href=\"../__pv_it/demonstrations/083044588505f03685365347974f9ba5a9f7d4440/expr.ipynb\"><img src=\"data:image/png;base64,iVBORw0KGgoAAAANSUhEUgAAADgAAAAPBAMAAABD1xE4AAAAMFBMVEX////MzMy6uroyMjIiIiKq\n",
       "qqoQEBB2dnbc3NyYmJhmZmZUVFRERESIiIju7u4AAACOKgoaAAAAAXRSTlMAQObYZgAAAOpJREFU\n",
       "GNNjYGDgu7NrJ0cBAyq47PzNZwGQvjaBgXXZBFQ5wa8Mr34CJd/4ATnrG1DkOLkvMDDMB0qaPQDy\n",
       "1CCCc1xcDED0RDagIPcCBq6vIJ4UWE7mHlTngh4gwXeBod8BxHsBIvjsoHJ8GyCKGeovwG3ihlnM\n",
       "UaALYfgLwCV5YAyOBVDJfJB7GMCEmDEQgBzEd0AcqhNEsIK198DNsOOG0GAfsoOZbHDJWdwQ4/pB\n",
       "DqoDC3HB3cZzCchkMmBg/cnAEPUAIuYK17r4+IOnZ4Cir07vUoAKvT4EVcXAuDjfSwAtLtSPQIIP\n",
       "CgA7XzvkvZwB9QAAAABJRU5ErkJggg==\n",
       "\" style=\"display:inline;vertical-align:middle;\" /></a>, <a class=\"ProveItLink\" href=\"../__pv_it/theorems/52771a567e2fa8b58fb04200a909bea222a384e50/expr.ipynb\"><img src=\"data:image/png;base64,iVBORw0KGgoAAAANSUhEUgAAADEAAAAPBAMAAAC/wjryAAAAMFBMVEX///+6urqYmJgQEBDu7u5m\n",
       "ZmZUVFQyMjJERESqqqoiIiLc3NzMzMyIiIh2dnYAAABqS+z4AAAAAXRSTlMAQObYZgAAAMJJREFU\n",
       "GNNjYMAEvFX1Vq1YxBl4zk9giVfFJqOQy8DA9BVZRGPVqgIgxXTABEimIkmcuAKhWbkbgKQviPn2\n",
       "7gEgyVICVeHGEwBl7ZrAATKEbQOUv4/xApS1joFtApDigJm6FSbD+gVCHy4HApBmD54HEBHmBgi9\n",
       "A6aH3SEBwvCHqYDJMAWAZFgYGPgVGBhA9rDC7GXolQUS4kCRBAZXkKsZVsJkWCuesMxoATLeKUFU\n",
       "uzU6QKWOFv+KQQkvuS5w6MAAABN0LKDXhSVsAAAAAElFTkSuQmCC\n",
       "\" style=\"display:inline;vertical-align:middle;\" /></a> <a class=\"ProveItLink\" href=\"../__pv_it/demonstrations/f14977c3e392b0d08aeac88f52ebea8bfe1b5ce10/proof.ipynb\" style=\"text-decoration: none\">&nbsp;&#x22A2;&nbsp;&nbsp;</a><a class=\"ProveItLink\" href=\"../__pv_it/demonstrations/3dba2de52bc75e49887a153eff34d7378818cd370/expr.ipynb\"><img src=\"data:image/png;base64,iVBORw0KGgoAAAANSUhEUgAAAtUAAAAUBAMAAACwttxgAAAAMFBMVEX////MzMxUVFR2dna6uroQ\n",
       "EBCqqqqIiIgiIiJmZmYyMjJERETu7u6YmJjc3NwAAACgK8IjAAAAAXRSTlMAQObYZgAABRhJREFU\n",
       "WMPdWV9oW1UY/zVJ0ya9yQq+qA82IFoynQ3bQ9lUlpeCb5tQYaxzy4uoL2umjlEGa5hYUcTFFpVa\n",
       "pFUc2DC6OhT/DLvLsLLasgZElGFd0Jf1xXVd6eboGr978+9+3z3tTSAXnAeSkF/O+e7v9zvf/c45\n",
       "N0A4i3u++XN2TK1rA7WqAPVth4232er7PyiBzp9bOTC7T3YJdSwPP/alRLXj0W3hWK18wzueTKhZ\n",
       "PWGH1boInRn5wjlAPYUEf2/4AB5jNifo9YJeldazMkhCe1dA47ZBjZPAqJgSHM3C/77TDeU/IIBF\n",
       "+O+qWf1khyeUMSegRbA77hygjkIa8/kYtDGarjS0hztKXr9o62hBQmeL3fzJwucvwC6OYBUCQBsx\n",
       "2ZPm4Ow79DaaEz3F0Ivb1wTSn8BtGb7Aypu0pWFapYLQgI7GvaynNYAbQoLbTxg1AGg2Ol6tyusf\n",
       "i0HLQc4BvTpDfGs2iv006GqSg6eNUV3YnCJCMlhXHHdsg0xW2l7JuzmnUkFoYwqedetvLIAbQjzm\n",
       "+zRwDVV7ne2P8yDLNNEJhnhTNopfkZB9fEYCZtI8ULPXKNcQy6ACq88k72tKFYQG1+C5Yf2NBXBD\n",
       "SMHrYBx9Sq8Xdx7Vpdc+vTfLgmj/kNd8ooPtfQlxYZqQ+x/nF79uCrksKHqPHXH0+lJMIkVWO6XX\n",
       "hq7w0IcHuIq+QnavWTryAG4I8Sz0UZn3pvG9ymvfwfI6WPH6B7Txoha+iRJUCjt/RlvnF25YXjg+\n",
       "IDzbnVTMfngA3zl5/ddbuvS6yOqKKTJjNrOmGrq6csElrsJUiz3WjYM1gDtCWvTwCqkZw4DK6+ks\n",
       "Rmxex3E9zb2mvG6LsbBUvm9xik1EeTrC2ZxqVVBsjuFRx7xu6pZIkdVLMq9Jl/Y8ApNcRcGsk+Zd\n",
       "qQzgihDgG/qWQnfF612ZzBuZzKfGyqrjTY7QvEaHOyYLyfP5/kwmUqkhFQQfQbvJALTQotO0ysbh\n",
       "kHk5nYOjOjhQ9NqKAM/pHCmxapNek67AGpqTXIWpNmCmzPwYZAC3hJhblYYlq9eV+e+BdkPmtY82\n",
       "imO2tbGXV7Vx+Fb5nG6hqzXdEulgfmnlYI/z2vg3cEFU0RIrlde0IZ5v5Sq6LUU7ogrghpCtMHb0\n",
       "5LWqhtCU+pek1ySyWWyMzpdHlpC7RjIxisau1LPCx5l7Ry9nZKSRk9d53eZ1idUzlnodKVaL+Rh6\n",
       "Ya8h/rQxaVAFcEfIfjPXfSnl2qitwjN2mLMME6nSSrPxWWbFKPWMorErbZsUy7fx+RSkOvgdvKaM\n",
       "OcXntszqisxr0jWfwNbigw7r2ngfcKJy7BcB3BBCJettc2009zr9ooZ8jd8iMdvOFC3rYhVIaM9y\n",
       "ZBu+Fcl5mm7THrF7MHbJL+uC4iC098RqJL1esO2vy6yGpNekqyUZOunlKggNv75jMMW24dYAbghZ\n",
       "ROggrRIx894ZPDSeZZwuHnuoPc6Q2fwZ+C/c5kdUrfMVUatmXs2KWpWPDp5PyOowcy4al3ea9+lf\n",
       "ORB45M7H4jA3PMJPUxVWn0ivSZfWfuTP17jXhAbz+XzZa1sAN4SEh6I0H8HWDc6ymyGKE9Imh7/a\n",
       "wSqi2xAtVfUZXd1KAdwTckk+o5mzRZhTEdMdEU2valx1Q50Rp2dPc0pUEcA9IZ30msL/oCmeqap1\n",
       "TVUfoL7NeKZay38F/902VcN/BTXNQd1aS27jf4XuqRZSlOGa/gML5dym+AfwL3rHYsukbApkAAAA\n",
       "AElFTkSuQmCC\n",
       "\" style=\"display:inline;vertical-align:middle;\" /></a></span>"
      ],
      "text/plain": [
       "{a in Complex, A in Complex, b in Complex, B in Complex, C in Complex, c in Complex} |- (1 + a + A + 0 + b + B + C + c + 1 + 3 + A) = (a + (2 * A) + b + B + C + c + 5)"
      ]
     },
     "execution_count": 23,
     "metadata": {},
     "output_type": "execute_result"
    }
   ],
   "source": [
    "Add(one, a, A, zero, b, B, C, c, one, three, A).simplification(assumptions=[ InSet(a, Complex), InSet(A, Complex), InSet(b, Complex), InSet(B, Complex), InSet(c, Complex), InSet(C, Complex)])"
   ]
  },
  {
   "cell_type": "code",
   "execution_count": 24,
   "metadata": {},
   "outputs": [
    {
     "data": {
      "text/html": [
       "<span style=\"font-size:20px;\"><a class=\"ProveItLink\" href=\"../__pv_it/theorems/ffc4a45642fde8a513aa78237f7ca59ff7c646290/expr.ipynb\"><img src=\"data:image/png;base64,iVBORw0KGgoAAAANSUhEUgAAADMAAAAPBAMAAAC7N+rPAAAAMFBMVEX///9UVFSqqqrMzMwiIiJE\n",
       "RESYmJgyMjK6urru7u4QEBCIiIh2dnZmZmbc3NwAAABRgo0vAAAAAXRSTlMAQObYZgAAANBJREFU\n",
       "GNNjYMACuEvql8Rik2BgtlfgvJ+LVSpBmoGB7S+KUKqLSwGQYjNYCSRlkWVMd0JoXr4AIDkbiPnu\n",
       "3AapYuCshCqZyHwByup6wP4BRDM+gAq84dgAYXAuY+AFGcDACjP4LUyK9ycDC5hpVQ4EIGdMZT4A\n",
       "keIKYJhvAGI8helinyAAYcw/wKAPUQOTYrsAkuIESikwiDOBXMC7ASYX3Q0k2oG2b2Bz5AGLOMGk\n",
       "eEtPcqpGAjVKb364A+KfiAlQOduqL5dRw64nBBxQMAAAUJwvP1Qg9PwAAAAASUVORK5CYII=\n",
       "\" style=\"display:inline;vertical-align:middle;\" /></a>, <a class=\"ProveItLink\" href=\"../__pv_it/theorems/52771a567e2fa8b58fb04200a909bea222a384e50/expr.ipynb\"><img src=\"data:image/png;base64,iVBORw0KGgoAAAANSUhEUgAAADEAAAAPBAMAAAC/wjryAAAAMFBMVEX///+6urqYmJgQEBDu7u5m\n",
       "ZmZUVFQyMjJERESqqqoiIiLc3NzMzMyIiIh2dnYAAABqS+z4AAAAAXRSTlMAQObYZgAAAMJJREFU\n",
       "GNNjYMAEvFX1Vq1YxBl4zk9giVfFJqOQy8DA9BVZRGPVqgIgxXTABEimIkmcuAKhWbkbgKQviPn2\n",
       "7gEgyVICVeHGEwBl7ZrAATKEbQOUv4/xApS1joFtApDigJm6FSbD+gVCHy4HApBmD54HEBHmBgi9\n",
       "A6aH3SEBwvCHqYDJMAWAZFgYGPgVGBhA9rDC7GXolQUS4kCRBAZXkKsZVsJkWCuesMxoATLeKUFU\n",
       "uzU6QKWOFv+KQQkvuS5w6MAAABN0LKDXhSVsAAAAAElFTkSuQmCC\n",
       "\" style=\"display:inline;vertical-align:middle;\" /></a>, <a class=\"ProveItLink\" href=\"../__pv_it/demonstrations/cc5977648bc1a1b7dbb543c11fb2eb11ba7bfd0b0/expr.ipynb\"><img src=\"data:image/png;base64,iVBORw0KGgoAAAANSUhEUgAAADEAAAAPBAMAAAC/wjryAAAAMFBMVEX////MzMyYmJjc3NyIiIhU\n",
       "VFR2dna6urqqqqpmZmYyMjIiIiIQEBBERETu7u4AAACIO4EmAAAAAXRSTlMAQObYZgAAANhJREFU\n",
       "GNNj4LuzgQENsKxef/omkOaagCbBKN/AN18TyOBvQJNRCGFgYPoJZNQ/gIro7t69AEgxCZwDkpFA\n",
       "nA2VkPWD0JzMF4DkEyBe6jIDJMC3DqriKSPUYr5fD94bAGlWA6iMGbsDhMHxj4EfxOSFOcASJsO5\n",
       "gOF9ApCWWQUEIBe8ZUyAyAC9Uw9yty1MD9eDAAiDX4FhPsjdPDAZpgkgGT6gTAHfIbCpDjCpKyVA\n",
       "ogroJgVeiCt3wGQ41+bx9d4DapuSBPXHdVhgSK75PRElvMpug0MHBgCFGjXcupX6XQAAAABJRU5E\n",
       "rkJggg==\n",
       "\" style=\"display:inline;vertical-align:middle;\" /></a> <a class=\"ProveItLink\" href=\"../__pv_it/demonstrations/a0ebe0ab3d71243fdc7d3fbee2cb6d482d90eaf00/proof.ipynb\" style=\"text-decoration: none\">&nbsp;&#x22A2;&nbsp;&nbsp;</a><a class=\"ProveItLink\" href=\"../__pv_it/demonstrations/692a95bd2b3eff735f1950aedef8c0ccac2d5ed70/expr.ipynb\"><img src=\"data:image/png;base64,iVBORw0KGgoAAAANSUhEUgAAApEAAAAUBAMAAAAn53u6AAAAMFBMVEX///9UVFTMzMx2dna6uroQ\n",
       "EBCqqqqIiIgiIiJmZmYyMjJERETu7u6YmJjc3NwAAAC+aOQFAAAAAXRSTlMAQObYZgAABW1JREFU\n",
       "WMPVWUtoXFUY/qbzyGTmzgNEI4Im0L0ZzSJNpTgbIa5aJBUxVWcj1U0zRkvIxk4IRnShU0stMQWn\n",
       "0oUdpIliFQ2ttwuhNYUZELEVake6iQulNiXWMO14HvdxXteb2Gxy4czAf7//P9//zTn/eQyQbWIr\n",
       "PgcMNpqKKZ1ESzP9sYkol83S+phfnPsiBGGdqYSHGfyxb+NOqmADT5QQMWS0xJtO9RGN6wJwfeCr\n",
       "cJQ1u+gTXnrOhIpOPM7ZnDayfdlWgubxZDEkw1Q1VIRUyXpvw07q8zsSd2DV9BenWTNQ/UHj0UK2\n",
       "irFmKOo8ord8wykDyjqJjxibjJRJoszf3tfrKrmff3XbiO+RLP7jGnIlOYoeFz8BO2VLsJMexeno\n",
       "UAm3yejWhKSpkCZQ9YZNWaF6BehaRa4SijoO7PURqwLKpZeuYpGxSbaM7K8pSsYriNwNUXK3Hark\n",
       "58CYLVmCnQKVfKqINeB7TUmaCmkCVW/c7FGokokRG0GuFooi87nXUyjWFlBeAuw1YbOMdSmZaiNy\n",
       "M0TJHQhV8i/Sc0myBDsFKgk6u5HSis0ybwJV7zkpR8jywajMbhNq3kavVyijFQHl0jvD9Slikroc\n",
       "ObYvREn6k7cVy+BEn2Q4MfGhHEWLa/1DlCxLGM2JVPBxs8Hv+UKBWLUCO+k0nyotqkMHSSpDcjZd\n",
       "zNeaFpeN8QAU3veWjFTPZMlDufTWtk8WGZuzdLq0UjfCldxdkC3LpXRNNFhrdqMlRdHiZleAfklJ\n",
       "3Sk7g2/NBq/n6+8QdhnWebTOHpbzWaf5VMmEfBHz5OsXOZs0HYzZHcf97QDrw4RCbMVDNT6z7noo\n",
       "L4EmZhgb8mm9gO6FcCWnFMs0IiXRkGgjJ6ukxc2SMdlfEC2aE5IFPGA2+Fy6Rshrbfs04zSHqsXq\n",
       "VxNz5OsVmXuSEz9YdGG8DyMqmaefTA5S4v/2UG6SHeCoTdkQTt1tJMv89/30+Xo97yu5s15/q14/\n",
       "wVfvqmzp5jNIMNTQKIhR9Lju7BYwqhM+tgGDQeKCvTa23VCVHHGaQ7VR485vk69+OUKc19j4PgEW\n",
       "hJrlI49+kt3OCkcJ9Mg24lqRsiFdxxfQ6Asdk5NK3Y8vKAayM5RXE0NcsuKMSRjNCaPqijOqrjh/\n",
       "At+V/ktJp1jmmbN109VI4E40yraQXvVhMKPcYjnFt5OxVQ/l0nuXiNWkbMh0IINiLGztRqJKMxAs\n",
       "jYKSYK7pDh8niiHuohfZsWhO1oq6t11RlezYVMlYRaiTeXF2+1Spc4IqPqzP21ybKyn0YUDhVSq5\n",
       "89xhE3FYTul+NiYJG1KiGyU8lGiFKLkdeFMVDlKdzBVJYZSU1ONqO3PNidBFwmxwOxpl62lGO+S4\n",
       "K45PFdYqIrUDxrWEzBh/ied9GFDbCujylLxFy66y4qDfxlG24pA1PV3OTEWVMXlIUTI7PXC4Ip96\n",
       "8rgo7YIizXRVimKImyxZz0gWzQmHYX1gNrgdXWX7ye6CquQQbwJV4GtczhPgETkbuoPKNIX9JO/D\n",
       "gFoeGHrQ6+BhfAMP5dKLFKxnGRsyVq2e8d/eUNJ56VRTLoKdTkdWEgNXy5LBOrZLmZd6XGvwNbly\n",
       "ak6I7vo5wOB2FJudIxUs1acqOcybQBU4P/FoDwF/okSg75+e/dLfTrI+DKj5Tue2f4vzetNHeYNu\n",
       "6LE+xibgtKifK4It+xF6OlmHZSNnHLY7Dzotmq6pKvo58F5RMr0L6g2GZauOlxBq0Qx6lHVYwg1y\n",
       "R4E3GIbHu5u45N9N3CtKpkfZnNuSF73GW7VzQelo92Xp1uahPDZLW1PJdPBNr1li7aZ3s1Aemy36\n",
       "78OvG/j3IbOu/xX+N4qz+RdFIC4vkB5sxQAAAABJRU5ErkJggg==\n",
       "\" style=\"display:inline;vertical-align:middle;\" /></a></span>"
      ],
      "text/plain": [
       "{a in Complex, c in Complex, b in Complex} |- (a + 1 + 2 + c + b + a + 0 + b + c + c + 3) = ((2 * a) + (3 * c) + (2 * b) + 6)"
      ]
     },
     "execution_count": 24,
     "metadata": {},
     "output_type": "execute_result"
    }
   ],
   "source": [
    "Add(a, one, two , c, b, a, zero, b, c, c, three).simplification([InSet(a, Complex), InSet(b, Complex), InSet(c, Complex)])"
   ]
  },
  {
   "cell_type": "code",
   "execution_count": 25,
   "metadata": {},
   "outputs": [
    {
     "data": {
      "text/html": [
       "<span style=\"font-size:20px;\"><a class=\"ProveItLink\" href=\"../__pv_it/theorems/ffc4a45642fde8a513aa78237f7ca59ff7c646290/expr.ipynb\"><img src=\"data:image/png;base64,iVBORw0KGgoAAAANSUhEUgAAADMAAAAPBAMAAAC7N+rPAAAAMFBMVEX///9UVFSqqqrMzMwiIiJE\n",
       "RESYmJgyMjK6urru7u4QEBCIiIh2dnZmZmbc3NwAAABRgo0vAAAAAXRSTlMAQObYZgAAANBJREFU\n",
       "GNNjYMACuEvql8Rik2BgtlfgvJ+LVSpBmoGB7S+KUKqLSwGQYjNYCSRlkWVMd0JoXr4AIDkbiPnu\n",
       "3AapYuCshCqZyHwByup6wP4BRDM+gAq84dgAYXAuY+AFGcDACjP4LUyK9ycDC5hpVQ4EIGdMZT4A\n",
       "keIKYJhvAGI8helinyAAYcw/wKAPUQOTYrsAkuIESikwiDOBXMC7ASYX3Q0k2oG2b2Bz5AGLOMGk\n",
       "eEtPcqpGAjVKb364A+KfiAlQOduqL5dRw64nBBxQMAAAUJwvP1Qg9PwAAAAASUVORK5CYII=\n",
       "\" style=\"display:inline;vertical-align:middle;\" /></a>, <a class=\"ProveItLink\" href=\"../__pv_it/theorems/52771a567e2fa8b58fb04200a909bea222a384e50/expr.ipynb\"><img src=\"data:image/png;base64,iVBORw0KGgoAAAANSUhEUgAAADEAAAAPBAMAAAC/wjryAAAAMFBMVEX///+6urqYmJgQEBDu7u5m\n",
       "ZmZUVFQyMjJERESqqqoiIiLc3NzMzMyIiIh2dnYAAABqS+z4AAAAAXRSTlMAQObYZgAAAMJJREFU\n",
       "GNNjYMAEvFX1Vq1YxBl4zk9giVfFJqOQy8DA9BVZRGPVqgIgxXTABEimIkmcuAKhWbkbgKQviPn2\n",
       "7gEgyVICVeHGEwBl7ZrAATKEbQOUv4/xApS1joFtApDigJm6FSbD+gVCHy4HApBmD54HEBHmBgi9\n",
       "A6aH3SEBwvCHqYDJMAWAZFgYGPgVGBhA9rDC7GXolQUS4kCRBAZXkKsZVsJkWCuesMxoATLeKUFU\n",
       "uzU6QKWOFv+KQQkvuS5w6MAAABN0LKDXhSVsAAAAAElFTkSuQmCC\n",
       "\" style=\"display:inline;vertical-align:middle;\" /></a>, <a class=\"ProveItLink\" href=\"../__pv_it/demonstrations/cc5977648bc1a1b7dbb543c11fb2eb11ba7bfd0b0/expr.ipynb\"><img src=\"data:image/png;base64,iVBORw0KGgoAAAANSUhEUgAAADEAAAAPBAMAAAC/wjryAAAAMFBMVEX////MzMyYmJjc3NyIiIhU\n",
       "VFR2dna6urqqqqpmZmYyMjIiIiIQEBBERETu7u4AAACIO4EmAAAAAXRSTlMAQObYZgAAANhJREFU\n",
       "GNNj4LuzgQENsKxef/omkOaagCbBKN/AN18TyOBvQJNRCGFgYPoJZNQ/gIro7t69AEgxCZwDkpFA\n",
       "nA2VkPWD0JzMF4DkEyBe6jIDJMC3DqriKSPUYr5fD94bAGlWA6iMGbsDhMHxj4EfxOSFOcASJsO5\n",
       "gOF9ApCWWQUEIBe8ZUyAyAC9Uw9yty1MD9eDAAiDX4FhPsjdPDAZpgkgGT6gTAHfIbCpDjCpKyVA\n",
       "ogroJgVeiCt3wGQ41+bx9d4DapuSBPXHdVhgSK75PRElvMpug0MHBgCFGjXcupX6XQAAAABJRU5E\n",
       "rkJggg==\n",
       "\" style=\"display:inline;vertical-align:middle;\" /></a> <a class=\"ProveItLink\" href=\"../__pv_it/demonstrations/ccfd87ff1562fd6073a33eaa9c95c6a057fc3b5f0/proof.ipynb\" style=\"text-decoration: none\">&nbsp;&#x22A2;&nbsp;&nbsp;</a><a class=\"ProveItLink\" href=\"../__pv_it/demonstrations/fab9f409c8a0f2e10b53345c8fdcf91f588ba93f0/expr.ipynb\"><img src=\"data:image/png;base64,iVBORw0KGgoAAAANSUhEUgAAAm8AAAAUBAMAAAApYseQAAAAMFBMVEX///9UVFTMzMx2dna6uroQ\n",
       "EBCqqqqIiIgiIiJmZmYyMjJERETu7u6YmJjc3NwAAAC+aOQFAAAAAXRSTlMAQObYZgAABSRJREFU\n",
       "WMPVmF1oW2UYx/9p0tOkOflA0KqwNeCVNzbai63KaG6EebUKE2RWiVfOC9dQHaWCmlKsd3pmxVI3\n",
       "MB1DXBBbxA9UHGeM4j6E5EZ0A+WIN/WiWraZyazG95w35z3ned/T06Tmpi+8Sfvkd/L88z/P+3WA\n",
       "dB27oGmWGltv9TbY9S5SrB2zX64Al05+In3y6/DnCn1/NwyIvvLQNoT+WVmKXHmSvexVwRXeVfV7\n",
       "A1B98etch1RgXn3+QQsR286PoWcxWiCfpg1MKIU40w3jPsBFaxuk35AjZ1m/rHKW01X1Ksuw84je\n",
       "7JQKyrtaT49DrwApAwkTvWM8/Bx/62sgUyYRFnscUkS0NiJayXlLjSFaCUeQKUoBNOxSLcn8Vd59\n",
       "6kVZlyQZDDsFPBFMiTQK1Qig7gTuAfYBcQu9ZUT+JZlih5GRf9/6UheMS2ahbW5j3CFTCsTsK/Qx\n",
       "mX+Td596MZzGJBkMY8Nu0AqkhHEyRfK61G1glNUdsMZKdBOR6/KvcYeqiOS7YVwmi1hjG+P2y4Go\n",
       "U/xnJDxd5t2nXrQzVIaNLZsYzAVSbhqFInlblP438JqF/gKmnf/jchnos5IFKUs27reR4yaNpOcX\n",
       "xqXv2TeV8+etGYjdCkewNPUu/UX9A9Ns9I5I5vQZvPvUC1EjVGoLe8v0hunUpKDcNApF8rrUEdhT\n",
       "atTAN3x45CUL9p+SbPoWknGxZ7AsMY9a/Rs0slZMVvx5/8ij51Y4ot82axbRWvtIZ2Pxmv3nw1W7\n",
       "nXVGfZ13n3oh6hoVxrHYDa9a5/CVoNw0CuXL61FsnC7XkapgjqyY3vg5XqCRvGzcah0naUR/GokV\n",
       "etUsIkVinIGeG+EImwMzJaJ1wgQz+6hUcfEi76563SfqKBXGsXjWfnXqKZ7HXYJy0ygUySvsLWmj\n",
       "RWhlHLb/Sxit2/l6tdryp3ecRLQcN86LvG/iDRpJbCJekiPOwKhWPzxSrWa9oRqCJCqo5f0BvAed\n",
       "mT0kGddb4N1VX6t4ooaoMI4t8noGx1qUL41CeXl9FF6YHM2hZ4MbNy1N6mkLSTqHX4BccU9Bv04j\n",
       "vSuo5eSIsjhojXCEbeMOkRJk2yl7QdnauNY0nfVEDUnCCt4UNsO1w6PcNApF8mredmjQtI2zh6pm\n",
       "4HeSKbMpG/fs4uKfC/4IuxnaBtXHCmVCiUjbkRWkNsORTL1VEELrP05ZHvTmuCUyVD31QtTBgKH6\n",
       "vF0OAoNHkaHqo/x5iXEsfazsLA73Aa/KZaCss6AbYL2BSOUY9aCIe1tnO/cGsPm2GL4BVpBMgc2V\n",
       "ROtNe+oSE77bxOLgqReiAhaHnjz6fJZAC1wcCEXyutT3Zg9bMdjiwFbb9OzwCXpOSNXVfVyrvkXk\n",
       "C/yYpWtxspSaiZJIIotLdK8xh9VcOBKpJw2qdQ++ZK/z8qnX4N2nXoiap1JtbG145G5x7QnobwtK\n",
       "bBdliuR1qZfNy8yZRN6uxP5msykdsB5b/FReZx9p7iGR81MPDNCVVx+Y/OUletXwT9KJ5cLUHQhH\n",
       "9IUD0gb40ov2TTwtGcdGi9N96oWo09LOyd7aNpt/eaYf+MH7RnFAkSmSV9g78o49EefsI1dnZ4D/\n",
       "dXLoCCEBvbzFkSvoAUtZPXJtTfmPXG1QTrvoHPJ97Tvlwi5FdLNzhAS2POQHPbsqSTmuhlEiTXsU\n",
       "P+2wfg67oqmPlZIW722wgdgOKcfFCn+QuRvauS0fZLbBBmI7pITFu+PReaqDR+epth6K75hi7Wfg\n",
       "P8jEGfaxYJhHAAAAAElFTkSuQmCC\n",
       "\" style=\"display:inline;vertical-align:middle;\" /></a></span>"
      ],
      "text/plain": [
       "{a in Complex, c in Complex, b in Complex} |- (2 + 3 + 4 + a + a + c + 0 + c + b + b) = ((2 * a) + (2 * c) + (2 * b) + 9)"
      ]
     },
     "execution_count": 25,
     "metadata": {},
     "output_type": "execute_result"
    }
   ],
   "source": [
    "Add(two, three, four, a, a, c, zero, c, b, b).simplification([InSet(a, Complex), InSet(b, Complex), InSet(c, Complex)])"
   ]
  },
  {
   "cell_type": "code",
   "execution_count": 26,
   "metadata": {},
   "outputs": [
    {
     "data": {
      "text/html": [
       "<span style=\"font-size:20px;\"> <a class=\"ProveItLink\" href=\"../__pv_it/demonstrations/d28e790e11dea9933e108ec468c9293a03a2aba50/proof.ipynb\" style=\"text-decoration: none\">&nbsp;&#x22A2;&nbsp;&nbsp;</a><a class=\"ProveItLink\" href=\"../__pv_it/demonstrations/acc7de22007634d00297b9c5291191b5d3ed54d10/expr.ipynb\"><img src=\"data:image/png;base64,iVBORw0KGgoAAAANSUhEUgAAAJAAAAAUBAMAAACQSalFAAAAMFBMVEX///9UVFTMzMx2dna6uroQ\n",
       "EBCqqqqIiIgiIiJmZmYyMjJERETu7u6YmJjc3NwAAAC+aOQFAAAAAXRSTlMAQObYZgAAAUFJREFU\n",
       "OMtjYOC7wIAfsD3AFEPTBFZymoEQkMMUQtJ0cvYmiJJ1SPKpB9B1gEROYRqE0MQjwGDvAFLCOwEh\n",
       "JiyPZhBEhLkA3RwkTZwHGFgDQEo4kEPgPoaLQCI8AeiiSJpYGxgY/4GUvGAgaBDDEnRRJE1cfxgY\n",
       "P4GUVBJhkCW6aCWq+/6AlOwlwqBbYKbVKhBYCWKiaGLwNwApaSPCoAx0URRNDI1gJSHAwARbtUoB\n",
       "ZhCCDxXRRzcIRRPnBLCSECJchM0gtADTJ8prHkhhtBDda2wTGN6BlBAf2EgAWZMyA0MdSAlK1NZj\n",
       "GAQWmYwuiqSJr9l4YgNIiQeS/MT4lWhFAURkEbpBSJq4/v//3wBSwvGAYO7nacCTReBKkPIfLoA3\n",
       "0yKU7CNoEJZiZB8WJYQLtn14Cza4EoJFLS/hohaoBAC+nX78uN5TmwAAAABJRU5ErkJggg==\n",
       "\" style=\"display:inline;vertical-align:middle;\" /></a></span>"
      ],
      "text/plain": [
       "|- (-1 - 1) = (-2)"
      ]
     },
     "execution_count": 26,
     "metadata": {},
     "output_type": "execute_result"
    }
   ],
   "source": [
    "Add(Neg(one), Neg(one)).simplification()"
   ]
  },
  {
   "cell_type": "code",
   "execution_count": 27,
   "metadata": {},
   "outputs": [
    {
     "data": {
      "text/html": [
       "<span style=\"font-size:20px;\"> <a class=\"ProveItLink\" href=\"../__pv_it/demonstrations/f62bcd3956ee4b580d7d3de59e19a7f858ae06af0/proof.ipynb\" style=\"text-decoration: none\">&nbsp;&#x22A2;&nbsp;&nbsp;</a><a class=\"ProveItLink\" href=\"../__pv_it/demonstrations/cf455304b3bfe532fda97bed89489c845352992b0/expr.ipynb\"><img src=\"data:image/png;base64,iVBORw0KGgoAAAANSUhEUgAAAIMAAAAUBAMAAABc0JOuAAAAMFBMVEX////MzMxUVFR2dna6uroQ\n",
       "EBCqqqqIiIgiIiJmZmYyMjJERETu7u6YmJjc3NwAAACgK8IjAAAAAXRSTlMAQObYZgAAAalJREFU\n",
       "OMuNlLFLw0AUxr/a1kbbtPkPFFycbKGD1qlj3RwiOAhOoi7q4tDJgtjVoFOhQxWXZqgO4iKVIgii\n",
       "Dp0dNODSUVCKQ6G+u7Sa3F2gD17y8nL53Xfv3gVItqEwITvu0GUHAfYMfGRvFFmfzZGPOeKoROXW\n",
       "oFsDSQu7opSGJ95oAU/sg5qIuEf4G9AtxLpIldzc5uAdZf9mmkkTIrxH4byIqAIrgOYgYiJV8yM0\n",
       "r+Z3QiSWKXgQEatA2kGHx8OFDBEdCAhckE/mBcRlC2kDRS72EH5EUULkyMOWvBvHLTTZDi5UBURT\n",
       "QryyCvHlLtrM6u67yBdQ5tF+3o8oS4gt1h0lSYQ2DZg8iq65+CPbPmfPlE3wyWxjgJgiD31KiIo7\n",
       "OOkg3vWrMCUVakTMciWnehJCXkiBLbz0XwsuFttsfipc9Apab/RyeiyUQcxhm6W3pb7IeQceMMQp\n",
       "+URGQHSyuVlX4FLlWtjUgmfcyXqdJjhjrWWIrdXv/witrG5w3nysDI/qs677Ou5FmUXQMRvY3UhZ\n",
       "9WEP+LmoswwZdwIQI/34dPb1mxrwC44DgNN8HKCKAAAAAElFTkSuQmCC\n",
       "\" style=\"display:inline;vertical-align:middle;\" /></a></span>"
      ],
      "text/plain": [
       "|- (3 + (-1)) = 2"
      ]
     },
     "execution_count": 27,
     "metadata": {},
     "output_type": "execute_result"
    }
   ],
   "source": [
    "subtract(three, one).evaluation()"
   ]
  },
  {
   "cell_type": "code",
   "execution_count": null,
   "metadata": {},
   "outputs": [],
   "source": [
    "Add(zero, two, three, zero).evaluation()"
   ]
  },
  {
   "cell_type": "code",
   "execution_count": null,
   "metadata": {},
   "outputs": [],
   "source": [
    "Add(one, zero, one, three).evaluation()"
   ]
  },
  {
   "cell_type": "code",
   "execution_count": null,
   "metadata": {},
   "outputs": [],
   "source": [
    "Add(a, one, two , c, b, a, zero, b, c, c, three).simplification([InSet(a, Real), InSet(b, Real), InSet(c, Real)])"
   ]
  },
  {
   "cell_type": "code",
   "execution_count": null,
   "metadata": {},
   "outputs": [],
   "source": []
  },
  {
   "cell_type": "code",
   "execution_count": null,
   "metadata": {},
   "outputs": [],
   "source": [
    "InSet(Add(a,b), Integer).prove(assumptions=[InSet(a, Integer), InSet(b,Integer)])"
   ]
  },
  {
   "cell_type": "code",
   "execution_count": null,
   "metadata": {},
   "outputs": [],
   "source": [
    "InSet(Add(a,b,c,d), Integer).prove([InSet(a,Integer),InSet(b, Integer), InSet(c, Integer), InSet(d,Integer)])"
   ]
  },
  {
   "cell_type": "code",
   "execution_count": null,
   "metadata": {},
   "outputs": [],
   "source": [
    "InSet(Add(a,b), Natural).prove(assumptions=[InSet(a, Natural), InSet(b, Natural)])"
   ]
  },
  {
   "cell_type": "code",
   "execution_count": null,
   "metadata": {},
   "outputs": [],
   "source": [
    "InSet(Add(a,b,c,d), Natural).prove(assumptions=[InSet(a,Natural), InSet(b, Natural), InSet(c,Natural), InSet(d, Natural)])"
   ]
  },
  {
   "cell_type": "code",
   "execution_count": null,
   "metadata": {},
   "outputs": [],
   "source": [
    "InSet(Add(a,b), Real).prove(assumptions=[InSet(a, Real), InSet(b,Real)])"
   ]
  },
  {
   "cell_type": "code",
   "execution_count": null,
   "metadata": {},
   "outputs": [],
   "source": [
    "InSet(Add(a,b,c,d), Real).prove(assumptions=[InSet(a,Real), InSet(b,Real), InSet(c, Real), InSet(d, Real)])"
   ]
  },
  {
   "cell_type": "code",
   "execution_count": null,
   "metadata": {},
   "outputs": [],
   "source": [
    "InSet(Add(a,b), Complex).prove(assumptions=[InSet(a, Complex), InSet(b, Complex)])"
   ]
  },
  {
   "cell_type": "code",
   "execution_count": null,
   "metadata": {},
   "outputs": [],
   "source": [
    "InSet(Add(a,b,c,d), Complex).prove(assumptions=[InSet(a, Complex), InSet(b, Complex), InSet(c, Complex), InSet(d,Complex)])"
   ]
  },
  {
   "cell_type": "code",
   "execution_count": null,
   "metadata": {},
   "outputs": [],
   "source": [
    "InSet(Add(a,b,one,d), NaturalPos).prove(assumptions=[InSet(a, Natural), InSet(b, Natural), InSet(c, Natural), InSet(d, Natural)])"
   ]
  },
  {
   "cell_type": "code",
   "execution_count": null,
   "metadata": {},
   "outputs": [],
   "source": [
    "Add(zero, b).zero_eliminations([InSet(b,Complex)])"
   ]
  },
  {
   "cell_type": "code",
   "execution_count": null,
   "metadata": {},
   "outputs": [],
   "source": [
    "Add(a,b,c,d).commutation(1,3, assumptions=[InSet(a,Real), InSet(b,Real), InSet(c, Real), InSet(d,Real)])"
   ]
  },
  {
   "cell_type": "code",
   "execution_count": null,
   "metadata": {},
   "outputs": [],
   "source": [
    "Add(one, two, three, four, five, six, one).association(3, length=2, assumptions = [])\n",
    "#Equals(subtract(two, one),one), Equals(subtract(one, one), zero), Equals(subtract(three, one), two), Less(zero,Less(one, Less(two, three)))"
   ]
  },
  {
   "cell_type": "code",
   "execution_count": null,
   "metadata": {},
   "outputs": [],
   "source": [
    "Greater(Add(one, two, three, one), three).deduce_inc_add([InSet(two, RealPos), InSet(three, Real), InSet(one, RealPos)])"
   ]
  },
  {
   "cell_type": "code",
   "execution_count": null,
   "metadata": {},
   "outputs": [],
   "source": [
    "Less(Add(Neg(one), Neg(two), three, Neg(one)), three).deduce_dec_add([InSet(two, RealNeg), InSet(three, Real), InSet(one, RealNeg), InSet(Neg(one), RealNeg), InSet(Neg(two), RealNeg)]).prove()"
   ]
  },
  {
   "cell_type": "code",
   "execution_count": null,
   "metadata": {},
   "outputs": [],
   "source": [
    "subtract(x,x).evaluation([InSet(x, Complex)])"
   ]
  },
  {
   "cell_type": "code",
   "execution_count": null,
   "metadata": {},
   "outputs": [],
   "source": [
    "subtract(one,one).evaluation()"
   ]
  },
  {
   "cell_type": "code",
   "execution_count": null,
   "metadata": {},
   "outputs": [],
   "source": [
    "InSet(Neg(one), Real).prove()"
   ]
  },
  {
   "cell_type": "code",
   "execution_count": null,
   "metadata": {},
   "outputs": [],
   "source": [
    "#test = Add(Mult(two, b), Mult(three,b), b, Neg(b)).factor(b, assumptions=[InSet(two, Complex), InSet(three, Complex), InSet(b, Exp(Complex,one)),InSet(one, Complex), InSet(Neg(one), Complex), InSet(b, Real)])\n",
    "#test = Add(Mult(two, b), Mult(three,b), b, Neg(b)).factor(b, assumptions=[InSet(Neg(one), Complex), InSet(b, Real)])\n",
    "Add(Mult(two, b), Mult(three,b), b, Neg(b)).factorization(b, pull='right', assumptions=[InSet(b, Real)])"
   ]
  },
  {
   "cell_type": "code",
   "execution_count": null,
   "metadata": {},
   "outputs": [],
   "source": [
    "Add(Mult(two, b), Mult(three,b), b, Neg(b)).factorization(b, pull='left', assumptions=[InSet(b, Real)])"
   ]
  },
  {
   "cell_type": "code",
   "execution_count": null,
   "metadata": {},
   "outputs": [],
   "source": [
    "Add(a,b,c,d,e,f,g).commutation(4, 2, assumptions=[InSet(a,Real),InSet(b,Real),InSet(c,Real),InSet(d,Real),InSet(e,Real),InSet(f,Real),InSet(g,Real)])"
   ]
  },
  {
   "cell_type": "code",
   "execution_count": null,
   "metadata": {},
   "outputs": [],
   "source": [
    "#m.prove([Add(m, subtract(one, one))])"
   ]
  },
  {
   "cell_type": "code",
   "execution_count": null,
   "metadata": {},
   "outputs": [],
   "source": [
    "%end demonstrations"
   ]
  },
  {
   "cell_type": "code",
   "execution_count": null,
   "metadata": {},
   "outputs": [],
   "source": []
  }
 ],
 "metadata": {
  "kernelspec": {
   "display_name": "Python 3",
   "language": "python",
   "name": "python3"
  },
  "language_info": {
   "codemirror_mode": {
    "name": "ipython",
    "version": 3
   },
   "file_extension": ".py",
   "mimetype": "text/x-python",
   "name": "python",
   "nbconvert_exporter": "python",
   "pygments_lexer": "ipython3",
   "version": "3.7.3"
  }
 },
 "nbformat": 4,
 "nbformat_minor": 1
}
