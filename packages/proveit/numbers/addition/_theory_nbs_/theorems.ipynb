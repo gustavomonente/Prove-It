{
 "cells": [
  {
   "cell_type": "markdown",
   "metadata": {},
   "source": [
    "Theorems (or conjectures) for the theory of <a class=\"ProveItLink\" href=\"theory.ipynb\">proveit.numbers.addition</a>\n",
    "========"
   ]
  },
  {
   "cell_type": "code",
   "execution_count": 1,
   "metadata": {},
   "outputs": [],
   "source": [
    "import proveit\n",
    "# Prepare this notebook for defining the theorems of a theory:\n",
    "%theorems_notebook # Keep this at the top following 'import proveit'.\n",
    "from proveit.logic import Forall, Equals, NotEquals\n",
    "\n",
    "from proveit import a, b, c, d, e\n",
    "from proveit.core_expr_types import (\n",
    "    a_1_to_i, b_1_to_j, c_1_to_j, c_1_to_k, d_1_to_k)\n",
    "from proveit import a, b, c, d, e, f, g, h, i,j,k, l, m, n, x, y\n",
    "from proveit.numbers import zero, one, two, three\n",
    "from proveit.numbers import (Add, Neg, Mult, Exp, \n",
    "                            Less, LessEq, greater, greater_eq,\n",
    "                            Complex, Natural, Integer, Real, NaturalPos, \n",
    "                            RealPos, RealNeg, RealNonNeg)\n",
    "from proveit.logic.sets import InSet"
   ]
  },
  {
   "cell_type": "code",
   "execution_count": 2,
   "metadata": {},
   "outputs": [
    {
     "name": "stdout",
     "output_type": "stream",
     "text": [
      "Defining theorems for theory 'proveit.numbers.addition'\n",
      "Subsequent end-of-cell assignments will define theorems\n",
      "'%end theorems' will finalize the definitions\n"
     ]
    }
   ],
   "source": [
    "%begin theorems"
   ]
  },
  {
   "cell_type": "code",
   "execution_count": 3,
   "metadata": {},
   "outputs": [
    {
     "data": {
      "text/html": [
       "<strong id=\"add_int_closure_bin\"><a class=\"ProveItLink\" href=\"proofs/add_int_closure_bin/thm_proof.ipynb\">add_int_closure_bin</a> (conjecture without proof):<br></strong> <a class=\"ProveItLink\" href=\"../__pv_it/theorems/affd7e74459f335165da6b36ca8eba0b0ece98d30/theorem_expr.ipynb\"><img src=\"data:image/png;base64,iVBORw0KGgoAAAANSUhEUgAAALQAAAAVBAMAAAAdo9lKAAAAMFBMVEX///8QEBCIiIhmZma6urrM\n",
       "zMxUVFQiIiJERETc3Nzu7u6qqqp2dnaYmJgyMjIAAAAcRTyBAAAAAXRSTlMAQObYZgAAArNJREFU\n",
       "OMutVU1oE0EUftls/ja7aW6NF40KPXlY9OLBn4gHQRTqRfEgDcGKgoVWEFFEQnMwqSALQi2KsDYg\n",
       "JYc0VEQKgoF40FRkQdAiKJFahQqrFgU1Cr6Zt9lkk2abgw++nTffLt/OvPfNLsD6ccfCWhHWuvM1\n",
       "lrx1U5bShI6Y6cfLmTZSHPtm9r83GL/A5itu0hGN0BlLiGIbJ2QGoRbk/BROQ2k36ZcWmjFnjXWE\n",
       "HHc+7S2DXHrC+YiOQ8lN+qKFDmnxNytXlCbK1QtXuLQOkz6V80q1ULjpphwaJXRKy5z9wHPfuG7f\n",
       "ngjqxP/MZi+7SQsqAW5UNusO6UhqK263wvNiU1mJc1cgPwyQs9trdkoHDYK4Ab44Vz27Iv0CeMfz\n",
       "FqPMkJ2Q3w9SzaYr1uiPVTIqpYES4a4BO53Sj3VYBXjI8xYjDPu5nZAPgGDY9GfWmEc7jIAmT1tb\n",
       "9CQIe3U4x+YvTHPMND9itgekPwBDvNQbTQzauXqIj8jLRqD5RtwgLM4XIAwnGuevIR0D6Ydz1Usg\n",
       "1i3pFvtG2A6qnA/VjiKRH1hmL18d0EUqhFoGR0FwgeGvTum/4EX7HeB51JZekBN8yvjcSSzCeR8z\n",
       "qXBJUCPU5tuDzjZKdfDX5h3S31n9rTZut72anERzR4m/j/b0qj5m0mBcqeX5E9Ny41lZJYzD62TZ\n",
       "IT0CGbzusvdGK9EnQBpJE9+HR9VTEpK8rt7ksWw2G4dyFW5Zhhwl3NtyPJVwSOe3sf4v0zfs9EEi\n",
       "912PZTfFVOIVtMKsFnyDQ5/uKfm53gMDnq130EnTOqjiUzro7Tx4tKHDMKUH9EWQWZG9Xr7SLp+n\n",
       "Qkve/nnq4MXU3G44UvKdxWpew/mrU88/JRvV0whrR7E3nlohsFr38ivgkeuJ7/YzcvuBKVpPvAL/\n",
       "Nf4BIU3G7edFl4oAAAAASUVORK5CYII=\n",
       "\" style=\"display:inline;vertical-align:middle;\" /></a><br>"
      ],
      "text/plain": [
       "add_int_closure_bin: forall_{a, b in Integer} ((a + b) in Integer)"
      ]
     },
     "execution_count": 3,
     "metadata": {},
     "output_type": "execute_result"
    }
   ],
   "source": [
    "add_int_closure_bin = Forall((a, b), InSet(Add(a, b), Integer), domain=Integer)"
   ]
  },
  {
   "cell_type": "code",
   "execution_count": 4,
   "metadata": {},
   "outputs": [
    {
     "data": {
      "text/html": [
       "<strong id=\"add_int_closure\"><a class=\"ProveItLink\" href=\"proofs/add_int_closure/thm_proof.ipynb\">add_int_closure</a> (conjecture without proof):<br></strong> <a class=\"ProveItLink\" href=\"../__pv_it/theorems/5c5295a9aacd40a22478a497f6643845914454e00/theorem_expr.ipynb\"><img src=\"data:image/png;base64,iVBORw0KGgoAAAANSUhEUgAAAVoAAAAVBAMAAAD1BjtIAAAAMFBMVEX///8QEBCIiIhmZma6urrM\n",
       "zMxUVFQiIiJERETc3Nzu7u6qqqp2dnaYmJgyMjIAAAAcRTyBAAAAAXRSTlMAQObYZgAAA+FJREFU\n",
       "SMfFl11oE0EQgKdJrkkul9o3EwWNFaogSLAP+qAYERREIfpgEZSGoqKiErX+IiWkD14ryqFQS6Vw\n",
       "KqhUbIMSakEhkBO09eFAUREtEZSCD1HxB/8Qd3fuLpefrU0QHDJ3uzO7d9/N7s5uALiy+C3UIgOG\n",
       "1iY+hW+f6IAcLb+q1ECbwscXMYFaq+wuqbsOfMzPfK0zuwbj1PSuMi3fx5cGBbVWGSqpO7qikPOg\n",
       "XYM+cvUmKtPyfXx5bGjJQIZ4I1/qkEoMzgxIKQ3tGjSopJSqTMv38eW4obXSio1495862sloVegV\n",
       "wmjXwD82OHgBKtPyfVzxxlFrpoU37CokVcvS41HRTkL8TZZPcmj5Pq44wqhwPjtPrYbWap/F6Vvo\n",
       "7A+9MuyEaAdAt/GGMlr0VSMeHdUVhPckQonp0mJ7SjFRmhquY4qZYESrQSSZSsBlLBzSYF7MokXf\n",
       "X6U+kO0yvtadQr2kwzIQWuLTpWXtGcUIq9vW9o56xjbCiNzg0NF8I7sC7kiqU7VoCz5+fr3borsV\n",
       "6bLRqS6CulKFgyRijFbK5yfn5POxsr42B7an0saiRsz5PEY9vN6009Sgu435cbpfhXuhsFSYCZaP\n",
       "L89HB8EH28zdy6QNgPjFpJ1ObLG9RWvLmw00zmMmrTe3mTy2mQ47kXT6nI2W+eBKc/keLC7ZH8Uv\n",
       "Z9VwBopmgvgLfB+qoMX2lALWMkOj1WJcirDqWkYE3dtJEGeouM+mpZtbC7TMJx4WfgDsKX7LtWib\n",
       "Sj6b/uiwXIwWrzLxJ9TnRqugZe0phbHKllgpMdZLkm6jucrgNnlk/wiILEppyGRttNTnDAtx2Dqr\n",
       "+C0t0EreQeLOapclayqGUZPwLJYppx0mIRF/GwW7g7XvpytsuTVG+PlqD4j7EsxOiWaEWGvhmCwn\n",
       "Ce2A20ZLfXUpB1kHJ4ppZ0Mzu7fKshyCzBj0G5kojnq1aUt7pJzWTVfUEbNgc2D7JCnhrBN3rUPH\n",
       "qrMBeW4gzOyUyE/CL/6IQgxj69pko6W+YcXzQi2hFb/DmUFfE0leDDGtw8NKO+/0Vxk+lVCIRhfX\n",
       "A9x5LV8ciVinXAbu08ITgJc2WrbMlbYNLLZ9qreHXcgtKHzWfWRdSnTCOp0FrqJTjc+0iiovAdod\n",
       "lELifBeeaoxOexXwkKni6oxguGy0rvZbKxjtxpQQhI2KEBRmw5pF83W61cFpok93Ppo0s6lHQWUr\n",
       "ZOnXUFVnY0IxNMVJUrMbFsrJkp3XJnQmWMcxnzE4JLc46Lz9h6fx7ins2hT9Ftiz7KZPKdu/kFG8\n",
       "tav//J+OX+HbF3dU9SSrpMP/kT92ZDXfpdFPeAAAAABJRU5ErkJggg==\n",
       "\" style=\"display:inline;vertical-align:middle;\" /></a><br>"
      ],
      "text/plain": [
       "add_int_closure: forall_{i in Natural} [forall_{a_{1}, ..a_{_a}.., a_{i} in Integer} ((a_{1} + ..a_{_a}.. + a_{i}) in Integer)]"
      ]
     },
     "execution_count": 4,
     "metadata": {},
     "output_type": "execute_result"
    }
   ],
   "source": [
    "add_int_closure = Forall(i, Forall(a_1_to_i, InSet(Add(a_1_to_i),Integer), domain = Integer), domain=Natural)"
   ]
  },
  {
   "cell_type": "code",
   "execution_count": 5,
   "metadata": {},
   "outputs": [
    {
     "data": {
      "text/html": [
       "<strong id=\"add_nat_closure_bin\"><a class=\"ProveItLink\" href=\"proofs/add_nat_closure_bin/thm_proof.ipynb\">add_nat_closure_bin</a> (conjecture without proof):<br></strong> <a class=\"ProveItLink\" href=\"../__pv_it/theorems/976e7d7aa79ae9c384cd74f61a71dde241cf7c5d0/theorem_expr.ipynb\"><img src=\"data:image/png;base64,iVBORw0KGgoAAAANSUhEUgAAALYAAAAVBAMAAAAZVgl3AAAAMFBMVEX///8QEBCIiIhmZma6urrM\n",
       "zMxUVFQiIiJERETc3Nzu7u6qqqp2dnaYmJgyMjIAAAAcRTyBAAAAAXRSTlMAQObYZgAAAtVJREFU\n",
       "OMutVU1oE0EU/rKb3fzsbuKhiAji4k8PnkK9adWISD0obS9W8dBQ7EERqYdaUMEIggki7EWb40qh\n",
       "Sg7NUg9SEFzag1BRQkGoihJBCypE8aQ9iG92Jk0maVIFH7ydt29mv3nvezNvgY0lVua6rsy18RsO\n",
       "UGHGu47YD4U2S/zGGKA7Tc5vuS8wt3fhHPCcOb50xP4stEUSKcKqNDmj5ZNACZgBCizpbCdoK8W1\n",
       "LrNiTHr0mG9aro8rNkKAaSPh0uB1wo44XFux++lb3BcvyxMTQQr6MXcUEUpoE6zFYnGyIyWTQlux\n",
       "nwXEpAP71J5a3HczMy5h4yPwM5e71hF7p9BYb89WGXtlx35KOqArvlYy3ZnVMgx7ARgF8jV/uLoO\n",
       "9h2hh53Edwk7/tstObA4E04d20wvMez3wJHGUi+Icag3rWwW9lWu8W1QsxK2sYqkDWMsOB31Wjo4\n",
       "rw+R8ZjKBKV+L76ycJ7sLRvZRewTvi6u6ioiNpkvq9VL1eoKWWoFJR9akMxglaSWwTQ+kDFMfJUj\n",
       "9fx/sYLPFWEsqfBl7FAWpQEpbjre/Z7ALjTGrfmDHDtWobOOqe5P9NR+dLthVhvjzGnblzmhEJ/K\n",
       "5yRZxiEX4YCTUCM23jKK+kjzZ4mHcW2VTOWKkkoEVA4svvLlWpY8XDQcCTtNNRC1VO01bErOLPBa\n",
       "4hFtrKY0tn3UtipTHNs0Uw31XQjmLptS3Ho5SmtUfy07zhS7iAdJe9n2tGXIUzIss7SaGcrlcrYx\n",
       "ECuPicV9XOMju+/tks9gzwuGxYswfdMNRu36FgTNBIxki5wlJ/qGhqQb8nQeN47aG975QB6I8fit\n",
       "CaltxWuxhZzhEyi4EXcZJovDSsPy2/aqYuPLfJvrbNZiC4/MHsCgp10gwNuMA2oGmdqqPBqubksT\n",
       "r7SZmJFfeTtUiO+/+jfwdu20mci3/Ib++Z/2ul3Xl8Es/F/5A5GvwapgMd/uAAAAAElFTkSuQmCC\n",
       "\" style=\"display:inline;vertical-align:middle;\" /></a><br>"
      ],
      "text/plain": [
       "add_nat_closure_bin: forall_{a, b in Natural} ((a + b) in Natural)"
      ]
     },
     "execution_count": 5,
     "metadata": {},
     "output_type": "execute_result"
    }
   ],
   "source": [
    "add_nat_closure_bin = Forall((a, b), InSet(Add(a, b), Natural), domain=Natural) "
   ]
  },
  {
   "cell_type": "code",
   "execution_count": 6,
   "metadata": {},
   "outputs": [
    {
     "data": {
      "text/html": [
       "<strong id=\"add_nat_closure\"><a class=\"ProveItLink\" href=\"proofs/add_nat_closure/thm_proof.ipynb\">add_nat_closure</a> (conjecture without proof):<br></strong> <a class=\"ProveItLink\" href=\"../__pv_it/theorems/9d363fb3897c0a74f8c8ae4a2f0770e007ab81810/theorem_expr.ipynb\"><img src=\"data:image/png;base64,iVBORw0KGgoAAAANSUhEUgAAAVwAAAAVBAMAAAD4GEsPAAAAMFBMVEX///8QEBCIiIhmZma6urrM\n",
       "zMxUVFQiIiJERETc3Nzu7u6qqqp2dnaYmJgyMjIAAAAcRTyBAAAAAXRSTlMAQObYZgAABBhJREFU\n",
       "SMetl39oG2UYx79Ncvlxd+n8Y8i6Id42raIwyvaHIp1GhtY/FNIJzuGgIbg/HDKqbquouFIEr47B\n",
       "4dCVgXBD2CRiEyqlFhQPM/+pIGEozl8jghPsH1lBBa0iPu+PXO6Se0sS99Dn7s37veQ+fe55n+c9\n",
       "QGm7rqEfy9SE92nLinnDAa4eQ52Nf4y64NIG2gb2nvQ+LemEP+vX7VWYt27GMxzpCza3Go2r1jaw\n",
       "X6X3aXq9bSJdewIoA/McaY49v+loXLWmtuyI8DZbUF3fIXzWHu7jMQsDgGkxpEGXRpVoXLWmtpQj\n",
       "vG/c8/J8ZWqKBzr5iHsYKQr7TQwpu1IqnUU0rlpT21npfeMO5vjpybua0X2rMO8SLn5mSPjTtl9R\n",
       "4Ko1te2UnhndvbUX3DPV7S4fmDyT9NXW2lvQCgy3ypEOA7NAbCQKV2g92WnpDzqDaxSjbnETQ7gu\n",
       "KLL1cIFIOmbuMsO9ypH28cWoCVl74RK2F3zcfZ0LNcoOjOZiN8vxy8L1WxCfxuP3dIt7voZ7BYUx\n",
       "yetBsLIdSR6gwRJHSiEmi/r71b34yHTjro/b0tSF5+M9NWN6BffJz5uFx9eRoqU8xue+bDSeazR+\n",
       "6fxyS3jAxfNiTltjx/EGWTPOF/ATDSY4kllLyRJ06pyLT6wRs5UMvqa2K8slGJfj8MK4A9Mo55u4\n",
       "XUR3C/Q/grhzwehq3riPm6lTGU4MsydPtrj4ZgCXa3h3uLMd67uP5nnOsZw3njpoeeFkKHv4FN3j\n",
       "6v/AWOMUSPBkGAi1ue/T4rcICbNPUxg3uaLlLpofHGrhck0/rq0DR8J3uZifcDEI9ke4+ZWvvfBS\n",
       "K1dwlNp817h/I1lfZhRyqcUtH5fCYs75Sw0f0r9zbgk6rw2L8KoBXKbFR7RJHNoavsseUPbrFHmB\n",
       "a5rNylIVnrayJ8zO6Or/0qFcl4OAMINvCh5R0O08/ymJOsz61P3kowJpk8Uv11607RnCfScVwGXa\n",
       "QCVGteKlMO42DIuiYNu2ZeQztUkpjAnXi7e/fVtEMpxgja8gBwHhwo6DxRxREF5eTLwmVrx2cgvE\n",
       "huGaQMrSvL6eR0FEN7E/gMu0spP+zm3D1f/C6ZKxgx6ViC4esiKb8FhPXY1R4KL88OjrU6Eiqk8K\n",
       "JH7DuofP2eAr4IcALs96Z+IxHt05N/MGP9BpSPu9ZtDiNFkssjlkvcgtzlJzUFLhBgVG0bHFaZrY\n",
       "4kj0Zx2kKUkSr+ZEwAK4ieLCXo47XtGGMO5oQ9o2PHz3zhprejjFYkjtvND82Vm0WuGZk8WeNo9E\n",
       "oexL8wEkbnfaM21NOGAsGfzNmSEfD+1GYpS7N3J7nnYUwmwHUtjuCFbb/b9V+PtH6A2l6N74l59v\n",
       "VftouvmuYz3tvP1R/zT/0/4DFsdAfVhMjooAAAAASUVORK5CYII=\n",
       "\" style=\"display:inline;vertical-align:middle;\" /></a><br>"
      ],
      "text/plain": [
       "add_nat_closure: forall_{i in Natural} [forall_{a_{1}, ..a_{_a}.., a_{i} in Natural} ((a_{1} + ..a_{_a}.. + a_{i}) in Natural)]"
      ]
     },
     "execution_count": 6,
     "metadata": {},
     "output_type": "execute_result"
    }
   ],
   "source": [
    "add_nat_closure = Forall(i, Forall(a_1_to_i, InSet(Add(a_1_to_i), Natural), domain=Natural), domain = Natural)"
   ]
  },
  {
   "cell_type": "code",
   "execution_count": 7,
   "metadata": {},
   "outputs": [
    {
     "data": {
      "text/html": [
       "<strong id=\"add_nat_pos_closure\"><a class=\"ProveItLink\" href=\"proofs/add_nat_pos_closure/thm_proof.ipynb\">add_nat_pos_closure</a> (conjecture without proof):<br></strong> <a class=\"ProveItLink\" href=\"../__pv_it/theorems/c6ac2c9b910db5969d278d4e79126e33c252c2b90/theorem_expr.ipynb\"><img src=\"data:image/png;base64,iVBORw0KGgoAAAANSUhEUgAAAXwAAAAbBAMAAACNTymvAAAAMFBMVEX///8QEBCIiIhmZma6urrM\n",
       "zMxUVFQiIiJERETc3Nzu7u6qqqp2dnaYmJgyMjIAAAAcRTyBAAAAAXRSTlMAQObYZgAABIlJREFU\n",
       "WMPdmG+IG0UUwF8uu5tks7nzgx96FjVntUhFGu4+VNTWiND6QTGnYhWEhsNSqVKqx13EFnsc0u4p\n",
       "hUXxGgraKcKdRryEs0ftBzF6+sViSYv4p1rYIhY8MD1KC/YU8c2fZGezySXZkA+6MLOzO7s7v/fm\n",
       "zXtvFuB/e+zKWJ28/mS3uNJY4liUzP7VHtvb0SBqulv4E1i2stZ09/B7STfxjVKX8QexREq+Xz+1\n",
       "Oj68yvFterrQAL+XnmK+GCIrWH3gX3qtZt3pl80lMG69sYK/juOfpqelBvhGwbcVGAmsfvePr9s1\n",
       "N8KlpwDyoJXLt5T/ADjG8bNUUxMN8FlH1tfwAZQ8lvDcnm/0vKfjy9rpGOuJQ6BqPKECw6e6ZUqu\n",
       "a/t0Wk77wj+G3w1ZHeAfF+cfMxk2EdrDZCeEqvjBCYYf+yaXO9Jw6f6Sy33obwWfxXIEOsDvTbLT\n",
       "0xsq2n8nPUcc/J4buOf50zT3N8TvM81DxdaZpUe3iOUVuX/wpnbw314cIM7iAX3JWcvzatrBV1Y4\n",
       "/k6AKRQmURdfS0G4jdArfcTEchjLg1bvMuqwVXylHy5zmpjtdkCaZSTPOfjqNY7/EFvkKn9MHf0K\n",
       "BtIOvpKAOfCFfwnLPtTezdRKn9jUKv7xEtzDaaLMaMOyJ92tbacthhq5yvFD0CMc+0eLm+FTgwSJ\n",
       "FLb2wt2tJAhCagl/FAs66eAKhDA/2cbunSmXXyqXL3nfdzoeIPCy+OYyrYfLeFTmYQYuOo5V4Bul\n",
       "EL8Re/Mogc/iCUOOut82j71VqReHRoeqPuxXjh+YgHyqgt+C9teAfk3Gz8raV4vDTlgU+BEbw4Gy\n",
       "nloRHgsLb7nw32uaeclSS9o/yI0nX4TPoXV8/W+ILjMaUJjeAq4w/LNjS+p1kfNMPYdT0Ed4+rBg\n",
       "fPysjB+eRv+lD+5JecZ7f/1v7CxLLeE/z5duvgB7olbr+H+BZp+iNGLpBuNVfEQwnMmoeB74BDGP\n",
       "ngSdjb0AxUUZP0oX3WxqBwHNnTvoYyp+wAaX1BL+ABb8UjgeGze82tf/wSpvi4bUMQk/pItIg+Dc\n",
       "C++rxoGCcMdi0oXfh744e019xTQnEf/dkCvjvIJlCLaD+oUbP5hQsZ+4pZbwHyMMWh+5Y/r2OsYz\n",
       "TuN+WjSkjpnbnhlJIg3i8gmfeZ2Pqx5Yg7XjBkXURTmwX19JsU0MciiPu/DPY1kLaIwhUpPT9LAX\n",
       "XFJLJhZIyknDtraiLqWBWXHxyKGMXW87EZfy/ahdhK9p4ztMFGrzff06HM7V4uet8HkyHwev1EI7\n",
       "RTllO1lp5Brhyx2UxpOy1Rx5IuHrL1oQRuNSXkuC5tmu9KtXSxQ/8gZkCauyJGDteBROIJ9HauEZ\n",
       "qG1OVTKBAyNtJctIo9urP/O9Z7d1pzlZf7e19a51DF9dC8OW2o/VcEEZmd/MvIFHanG80Nl2pVmu\n",
       "MtbmZpEaT7R6xcPTrFJHanHMdbZZ/KlJtCm2h69uvE/agEa5brQNjd+OJrr5Eyfb/E9DxvOfp6rM\n",
       "WAsjnOgm/r3sP8/4f/xP2r+JH1kxlRWwrQAAAABJRU5ErkJggg==\n",
       "\" style=\"display:inline;vertical-align:middle;\" /></a><br>"
      ],
      "text/plain": [
       "add_nat_pos_closure: forall_{i in Natural} [forall_{a_{1}, ..a_{_a}.., a_{i} in NaturalPos} ((a_{1} + ..a_{_a}.. + a_{i}) in NaturalPos)]"
      ]
     },
     "execution_count": 7,
     "metadata": {},
     "output_type": "execute_result"
    }
   ],
   "source": [
    "add_nat_pos_closure = Forall(i, Forall(a_1_to_i, InSet(Add(a_1_to_i), NaturalPos), domain=NaturalPos), domain = Natural)"
   ]
  },
  {
   "cell_type": "code",
   "execution_count": 8,
   "metadata": {},
   "outputs": [
    {
     "data": {
      "text/html": [
       "<strong id=\"add_nat_pos_from_non_neg\"><a class=\"ProveItLink\" href=\"proofs/add_nat_pos_from_non_neg/thm_proof.ipynb\">add_nat_pos_from_non_neg</a> (conjecture without proof):<br></strong> <a class=\"ProveItLink\" href=\"../__pv_it/theorems/fa041c3cd9e071e86885e59c124dd615b75e65ec0/theorem_expr.ipynb\"><img src=\"data:image/png;base64,iVBORw0KGgoAAAANSUhEUgAAAqAAAAAbBAMAAABRgCBpAAAAMFBMVEX///8QEBCIiIhmZma6urrM\n",
       "zMxUVFQiIiJERETc3Nzu7u6qqqp2dnaYmJgyMjIAAAAcRTyBAAAAAXRSTlMAQObYZgAABvNJREFU\n",
       "aN7tmX+IFFUcwL/7Y/bHzOzeERGeUox3eUj5x3JSRiptSUZQumfgnSTccmhxJbL98C5/VNsVtCrK\n",
       "lKiXII6JF53ULsphB/3YPDO0jM1+WShsUQYWm5aFbj/o/ZqdNzN7N7sw6Al+YWfevvm+NzOf933f\n",
       "7/e9Abgml1kCfasv/02F+FWFCB8U9PP3rXPWDl6JR1x8VdlcCB/mk+K2CQr0LPrtnGDYRsYHKhco\n",
       "0CI+nR4fqKOO2+JD80dMu9OX+ELKpYmtmv+/fXGzBh+ejzOgsIYC/UQ3iHGAOuq4Lbs0gKjqUmfR\n",
       "mEsjU7RUbBKSIJ7TLRRaKNABdAynxwfqqOO2jKLfF7ZaSRlDvfqF/ezckLNUVFdz7vSQ5f+jiWaA\n",
       "RlhZ+r5UQvN9FwUaRcYg58YH6qjjtkxBv9VuAV2ouQR0Nzuf7OsjxrpsQyABqYqFBnMEaOTY0NB2\n",
       "h6DkqOOyhMvol3IL6MfgEtAozeU6b2H/exaLZzmgvjSN8hczmXVOUd5Jx2WJNAJ4sefbMjpVqwNo\n",
       "eE7bZDupM82zLegONSfqACo3T2MF4ozFSjDpkZTFHFBvIwW6HGC9E1AnHbeDPJpRIeSV/E3wWz0W\n",
       "ercaPWcjJf6nZVUTuu25ULF2oOG1sJmNc9Ec7HvgcEQxgPrLFOg8Er68NBT+VB3oPHuIs4m/VCe2\n",
       "uKXVjBmVvC5NPdLuAtyBVk3pGoGKN5Jp12ImJZWhQTGhWweBHHTWCjSYh8fRdEc2LaUqSScDGtCW\n",
       "G0CFPynQIHiRMQiUO408wlOHYWqSA0p1agjNztIxJ+69gZTSequtdPzzkn7LKCp4EO+7NHgShJnk\n",
       "PeRS6eebSqWkrUPjgq8MQURhCa79rFR6olQ6Q809mzdVYEt6aBaY1cbqFD8ExouxEPNvLyEpUqBi\n",
       "MorneZia8gUKVC6Y10L7RufCO7Lm0zigVp2q8otzJvfuzIKUPgZ3ckBRq0HiToJxKOu3jFGgk0BE\n",
       "o+5P1WihnjRk7c4RpaELc3yFh9z4vlotdJKxwUCADnAWCkuFRuPtGNBw0bRwjmzcocF7Skzmp7xF\n",
       "p7pcctQ4OTIE0gkf5DmguNUAejTMYgqXiqMpL/4D0rk6gCJD/MAevhsKzMj0imy+HqDoISpOjTyI\n",
       "hwcayRnpuW6hsH4Z0m0ljVtyyF0iGR5+1QSU6MCeVruLFdtWMqMQfm/VSEy0vzar82M/LT28ROGA\n",
       "0ladyGa7VHhW96FJEpTEvyFQHKkDaA5WSuo9SQvQOPKtFsLItdVsof/i+f767EpQ8lWeAoVqOGoA\n",
       "FS4xoAfQA8sNGIbPX6Tr9mH5raUmoFhHXCWgOfmY+bZvJLo0iJKsYQ0JbE+jSWDRIXUoOBI1KXHs\n",
       "Kw4oa7VAgS7sMNmqOU1zlH74Jpm3A80WcexmBe5CSIn0ypAvm0kFCqGYqcKXhD0JG9BKh6TA3e12\n",
       "EG+D2ALckD73Wt7H+YxgrUd5EgN3HMRVb8pJkdx8GPKjJqBYxxcTUrB0spnVTOhAz8Bep0iy24RV\n",
       "B9fh8x4KVKb5HAVKWwF8riILvY41wBkdxjjYvKQ7bgcaxDbYqxe42dk9bdvN4X0pC6m24xZb/PS0\n",
       "UmXK9/I9c3eTj58AUT0CNNIjGXyJepCO82nTAj/C8lCI4Ov9dIwLwjOZTD8CujNoAop1PDlvku2p\n",
       "8IvEVlbyxH04OOfApuNhq9aOTCajSIlwIWUApa1A+gH70Av8WK82u66aV0ohZay5bKqoecqzjRA8\n",
       "G1n5gZf7qiWR+kqJDmOZ0G9QIUkt1L/Ith+aVUPfaRZY4iXYNCQ1k7YaBteg2oHiusgptrEtJeBe\n",
       "xQBKW/l/1fgoD9fzmyMVoKI2VvbAX8juZYUhq9pQVaBDtXRKYuchh10thQMqFfPhDSjHAvgI//0S\n",
       "4JQNqEftepDAGtCQLj6gU5NwoSDNw3VB7SQ6ovVuzKTD6rai4ZXxoEXiKOM0gOJWILyo4aVFJQ+F\n",
       "OdjS9BWJVN9+5vtyTWoH6+oUZ0dOa5usxlvoClVASct09B7YYJ6LU3MyAfV3759LgLbnhCZoV4Um\n",
       "1GT+rS0FHO5Q3Yo8OobbTmgmHb0OZw8bsWX8CHQWsCiPWoUfIexmGCuDdjA2mMOz/lLqeffBo7Vo\n",
       "bXm+u55OvWluhMeQrwHMn0Ak6kmnZ/ptS09O1lTWU2z9gF49FdfrcnYdVsKb1F7kQ42eKglHZ8K2\n",
       "OY7bTKRPINgxf+ugs8oKdCRw/+QxNkcMWfRHDqTKULHPLN0aq6NHsw4r2Tf803Vsjl9hWfaK5rxF\n",
       "lrcCLQSOqI5ASVOjiaUuUkWHlMKvFesBCgcmFtAVPc46dElay1dPN77LR0btYzXepx4pDleb4A0K\n",
       "f18vXBN35X8SPAyHDIAMRAAAAABJRU5ErkJggg==\n",
       "\" style=\"display:inline;vertical-align:middle;\" /></a><br>"
      ],
      "text/plain": [
       "add_nat_pos_from_non_neg: forall_{i, j in Natural} [forall_{a_{1}, ..a_{_a}.., a_{i}, b, c_{1}, ..c_{_a}.., c_{j} in Natural | b > 0} ((a_{1} + ..a_{_a}.. + a_{i} + b + c_{1} + ..c_{_a}.. + c_{j}) in NaturalPos)]"
      ]
     },
     "execution_count": 8,
     "metadata": {},
     "output_type": "execute_result"
    }
   ],
   "source": [
    "add_nat_pos_from_non_neg = Forall((i, j), Forall((a_1_to_i, b, c_1_to_j), \n",
    "                                            InSet(Add(a_1_to_i, b, c_1_to_j), NaturalPos), \n",
    "                                            domain=Natural, \n",
    "                                            condition=greater(b, zero)), \n",
    "                             domain=Natural)"
   ]
  },
  {
   "cell_type": "code",
   "execution_count": 9,
   "metadata": {},
   "outputs": [
    {
     "data": {
      "text/html": [
       "<strong id=\"add_real_closure_bin\"><a class=\"ProveItLink\" href=\"proofs/add_real_closure_bin/thm_proof.ipynb\">add_real_closure_bin</a> (conjecture without proof):<br></strong> <a class=\"ProveItLink\" href=\"../__pv_it/theorems/caf7682af1488b7be808c6f4f0469776de4390020/theorem_expr.ipynb\"><img src=\"data:image/png;base64,iVBORw0KGgoAAAANSUhEUgAAALYAAAAVBAMAAAAZVgl3AAAAMFBMVEX///8QEBCIiIhmZma6urrM\n",
       "zMxUVFQiIiJERETc3Nzu7u6qqqp2dnaYmJgyMjIAAAAcRTyBAAAAAXRSTlMAQObYZgAAAstJREFU\n",
       "OMutlU1oE1EQx//JZpPNJpt4EARBCH4U8RRaPRSrVgR7UdpetAehoX6AIJLiR0A9RBBMKpHFQ9vj\n",
       "SkElYLPUgxQEQysIKZYcPNSCsooWrBDEk1Yoztt92+xrmlTBgdk3O7v7mzcz770FNpdw1dENZbqJ\n",
       "P6IDFjPet2Q/4bpe1NtpIKiLTm04t/qxQMZFYI45lluyv3JtkFiSAljrnWpKLowAk8A4SzrbCq0l\n",
       "Ha3LFB/jJl1m1r2uhMvIjgLRBGIGDWYrdkh3tJHdS9/iIb9ZyGQsl90Zo4S2QKsUi2MtSzLGtZH9\n",
       "2q5Bt20P7PPMu1Mh4zPwM5e71ZK9i2u4q327yF7aeZCStsulLntrkjpOxixwHsi7/kBtA3aB61E9\n",
       "9l1gq6tGSYdmV6K+XIgducIifQCOeVs9y8fne89+cn03HVV3QMoK7MgK4glE0jbR08ttmW82g9oE\n",
       "f31fMKf6oqPqj6KS4L6tjkorCDHXfK02XKstkSVZKJUh28n010h4L18lR5gxSPWqhur5/2INny6C\n",
       "2ItVke3LotQnzJuWd6/J2ePeNbh/gLPD1ikyJtq+0FX+0WYEWG8YuyzWhKb4Ulwn8SqOGAjYNfF5\n",
       "2cpTlmAPaf4c1eGavMKQN/zJGBx2R1LsZcnE5YgusLupB7yXUsLDllMHnF7iGQWWkjILryQ0a8Jm\n",
       "Sxeuevs7az+7HhXmHawqFF8qr2Xn7nnMBal6XSw8hfSZ/hTLrFtKnc7lcgl/9MFb9+UeR9WhPaO7\n",
       "xTXY/oaxnCY8umOsnVV9yv3fACuyRs6SrizSEDd8ZtCpSeSMsemet+UxH0/czQjHlprmhk8fPIlx\n",
       "I2QsINrn1LtSbnpWFb03M022c9TtQGBo6hD6TfkSAe+xdT9fnjjsvpWHZ+s2HOJWkweT4q1zHPqp\n",
       "3n/1b3CWhd7kQb7hN/TP/7R3zU59Eabh/8ofnufGTUMQmKEAAAAASUVORK5CYII=\n",
       "\" style=\"display:inline;vertical-align:middle;\" /></a><br>"
      ],
      "text/plain": [
       "add_real_closure_bin: forall_{a, b in Real} ((a + b) in Real)"
      ]
     },
     "execution_count": 9,
     "metadata": {},
     "output_type": "execute_result"
    }
   ],
   "source": [
    "add_real_closure_bin = Forall((a, b), InSet(Add(a, b), Real), domain=Real)"
   ]
  },
  {
   "cell_type": "code",
   "execution_count": 10,
   "metadata": {},
   "outputs": [
    {
     "data": {
      "text/html": [
       "<strong id=\"add_real_closure\"><a class=\"ProveItLink\" href=\"proofs/add_real_closure/thm_proof.ipynb\">add_real_closure</a> (conjecture without proof):<br></strong> <a class=\"ProveItLink\" href=\"../__pv_it/theorems/f40c59a57bfba3e1fa232455b0b564da3b2295a70/theorem_expr.ipynb\"><img src=\"data:image/png;base64,iVBORw0KGgoAAAANSUhEUgAAAVwAAAAVBAMAAAD4GEsPAAAAMFBMVEX///8QEBCIiIhmZma6urrM\n",
       "zMxUVFQiIiJERETc3Nzu7u6qqqp2dnaYmJgyMjIAAAAcRTyBAAAAAXRSTlMAQObYZgAABANJREFU\n",
       "SMetl2toE0EQx6dJrkkul+gHQasI8VVFQYJVVPBREewXhVTBBxQa4gMUkarVioqWInitVA4FLYJw\n",
       "IqhENEEptaB4mPqlguSD4AOVKCqoEAsqaBVxdvcu2UtuSxIdmLu5/V+zv+7O7s4BCG3+e6jG/Bnm\n",
       "VdqgoD2gAbxuhyyJXzm9MDSGNoZdM71Kq9Xsz8G96p83vRjspEiPSNsnZ1yxNoZ9NL1Kk7NFDSE5\n",
       "JvX2ANykSH1k/jqdccWa2IIR5kV2S/R+ifCg6NnnN6DzHIASJkghHaOUM65YE5tXY1417iXz/qyj\n",
       "I2vhLg3hsI8nSMHhROI8OOOKNbGdN71q3FAjvW2ey43uUh8G7wgS/FDVowJcsSa2Gab7ly2YXAnu\n",
       "2fQ0nQYKzST5E58MsTUYpCnSdoBuAFfECZdpFVmv6au00AiOUbm4njr4wiiCWfsGgbiB/QT+NUVa\n",
       "TRejxGRp/xBMi+VxV5cuVCcbmLP1rRUfYS5PBXcnbFhcLu6lDCxhFIE2CskttYkdn2kvFMkLLnNT\n",
       "v55eDncU3a3ncQuaeOO525BxKTAcNp8nMHePghebmmjb41xuby73ofSPC8JKHfaxNmmEXJtzaOZS\n",
       "G4r0kKCVIikZr7kFnbqgw71wRCkkQ14T27PBBCDui4wdt6YTklELt4zRnQTydx63j9/IFm4u4Pqz\n",
       "GzF16snMo/X3n+FwqQaX60uPY3nBnijNOZLzBNewJ0PSgPtQPq78GwIjlAI8NBlqeFzfjTD7LUSC\n",
       "7m04jON0duT2KzdaCrhUkw9IowC77L1cjbbqgLthCBhuQ8S+1JIp2IPHfNm4v6A2O0gozKXmDnO4\n",
       "UmxRfqnBbfx3LgyATDvsByPN4RLNHZHaoGWyvZcG2ISd4MhTXPeOdktIM/eFgweV0tGV/+AlmTUD\n",
       "TuiCpzEDKbA7Iz9L1iEMj2pxKpcxpHFh+rp0SFW7EPeil8MlWk3KhXvFYTvuFKin902qqoZdypkn\n",
       "ltDEXI7POjfTIRkOkoMvZgaccGX6lngjUiBelDWc0PMlTtR3+hfAe4YUxHZ5NAoxNrqe9Rwu0ZKa\n",
       "74VehCv/hN5EYDrujywZAi264yHcVNGpRijgqvmw9mSHbROV2xgSrSazBjwkAY7SSw6XZr3Wuo6O\n",
       "bp/u76EXvNVJ3zIBXJxKlOXusOFY4gxYQUKEywuEoqTEsYyVOCb6bg18WMx4jjWyAeNwPfFbyylu\n",
       "c0qqg2ZNqpOmwJp5MzLk0INTBOqxcXmF9bPdUDgKzx6PV1Q8IoXwXLrJIVGbo3YVHcKckWTIF2cB\n",
       "c3qwGnFh7v7P8tynCYTuEiS7zeZ32/VfU/T7w/aFEtf//8fPc1EdjZ3Pb6+o8s5H1dP8o/0FCAlF\n",
       "IPz2wZ0AAAAASUVORK5CYII=\n",
       "\" style=\"display:inline;vertical-align:middle;\" /></a><br>"
      ],
      "text/plain": [
       "add_real_closure: forall_{i in Natural} [forall_{a_{1}, ..a_{_a}.., a_{i} in Real} ((a_{1} + ..a_{_a}.. + a_{i}) in Real)]"
      ]
     },
     "execution_count": 10,
     "metadata": {},
     "output_type": "execute_result"
    }
   ],
   "source": [
    "add_real_closure = Forall(i, Forall(a_1_to_i, InSet(Add(a_1_to_i),Real), domain=Real), \n",
    "                        domain=Natural)"
   ]
  },
  {
   "cell_type": "code",
   "execution_count": 11,
   "metadata": {},
   "outputs": [
    {
     "data": {
      "text/html": [
       "<strong id=\"add_real_non_neg_closure_bin\"><a class=\"ProveItLink\" href=\"proofs/add_real_non_neg_closure_bin/thm_proof.ipynb\">add_real_non_neg_closure_bin</a> (conjecture without proof):<br></strong> <a class=\"ProveItLink\" href=\"../__pv_it/theorems/b393c82de2e24f202bf13d34de7cbdfd758508ca0/theorem_expr.ipynb\"><img src=\"data:image/png;base64,iVBORw0KGgoAAAANSUhEUgAAAOEAAAAcBAMAAABlkcWOAAAAMFBMVEX///8QEBCIiIhmZma6urrM\n",
       "zMxUVFQiIiJERETc3Nzu7u6qqqp2dnaYmJgyMjIAAAAcRTyBAAAAAXRSTlMAQObYZgAAA7BJREFU\n",
       "SMfFVm9IU1EUP3vbc9t1/z4EglBMLBGJGJqgYLII7EvRpCg/BA77Q2KGoTbIPgyy2ibGSDC/9UII\n",
       "EXOjIgkCR/ohdMWCCBGLpVk0YYgUpFZ07nvbfO9tc3OCXbj33Xfvufd37jm/c+4F2KnCvArsFJSq\n",
       "mf/MwfNcVp/KZVHfBdp2gJFjtryWted0yr5bAOQnKPyqLa83cLkZdqQb2FVQh+DNVleWY9WG0kzm\n",
       "ezeBjLBroDaDGlUO04GP2QFq17AZSjUzVIBNs3RMf9X193Ov0D8QwjMqzMBYAKbpQCQ7RB3Kw/eU\n",
       "UwtYR+U+IHa214MdUuqnfjRaQbsMMEB1d2aHqPCj5haJJc2xzjpVyCwV12gD4OxHwNfWGFcBugQy\n",
       "6PzZIT5AWbU3FaKK2puYhJ8ZhyMcR6w2AKmigFDMx2MV6jw1PHw/S+K8wyqVjSPq2mj7he83lInO\n",
       "WK0B1ibknCC1ThHWXy7XjSwRa3lV0Qs15YVSRENTMdppgnZJRGxVe510ixNoJkwI7jQIvHIjc4kg\n",
       "dGGl5DvsNSxLEX0RsgrwiXbzvCLE/HYZKRtxzyNAwokUGJVMf6D+9ZAEr74C73qyG5ROKeI4BysA\n",
       "YzyOiDkFjiWUcWHxxKmAPlUDsxHTE7HvWOm5efzU4YwJTPHZdqy7AJR8MKPzotFve6JRO29v8hsP\n",
       "QIXqo1hizJm0eGRm8yGiLqTeGFiijnhZEWJ0MEU3PVmmNUGnOOgQUeEEn016xgVQrccQB8TRcbBB\n",
       "TndE1IZPbwysUnK/GAZEnKUnZ3vEiLcFq/oCMC7j6h96cDjKB60YUfNYFqON1Mvu89gMlixSgJUS\n",
       "TkVJTBHxAs1vBViGwrj4JYE5Pj9ciSXROOIPeBiKMUdpFiGy9spkrsJTjCXSydIYZq4zFgMIiBUW\n",
       "0LdImVMkeFpj1l/TSc/YCjexreH7XaIsB9N5tqSQBiOuUlpYGsO4V3iQR1Re7AColEUHVRAtR5r2\n",
       "9e+VIg7upz5Y5PuPurlEJrdp7q5LEKv4GY5mTIZSTmFV2s8gl82M7t77FHnVmi7L8YW0Cd9jdxzh\n",
       "dElkPkFar2YWgY2cwp8nWDX/LEeCweCkWFwZkGdyIr6i5Zk8RSFrCe29jcdhgFNzM6CzCX6cSn56\n",
       "sTQy3Wm3G82cJ/WJZ4eq6ckhqPezlxGmh2aAt4HB2uQFLeluZL64MyOqpTwC4dJi0I+bnCLtq0Pv\n",
       "zYw4l/1DJSZh2d7TVX716zMvebY9RCUH/6H8A/vl83VhQk9QAAAAAElFTkSuQmCC\n",
       "\" style=\"display:inline;vertical-align:middle;\" /></a><br>"
      ],
      "text/plain": [
       "add_real_non_neg_closure_bin: forall_{a, b in RealNonNeg} ((a + b) in RealNonNeg)"
      ]
     },
     "execution_count": 11,
     "metadata": {},
     "output_type": "execute_result"
    }
   ],
   "source": [
    "add_real_non_neg_closure_bin = Forall((a, b), InSet(Add(a, b), RealNonNeg), domain=RealNonNeg)"
   ]
  },
  {
   "cell_type": "code",
   "execution_count": 12,
   "metadata": {},
   "outputs": [
    {
     "data": {
      "text/html": [
       "<strong id=\"add_real_non_neg_closure\"><a class=\"ProveItLink\" href=\"proofs/add_real_non_neg_closure/thm_proof.ipynb\">add_real_non_neg_closure</a> (conjecture without proof):<br></strong> <a class=\"ProveItLink\" href=\"../__pv_it/theorems/268d93d41497d5da3a6ac91eddc520a1d5b30afb0/theorem_expr.ipynb\"><img src=\"data:image/png;base64,iVBORw0KGgoAAAANSUhEUgAAAYwAAAAcBAMAAACABpWOAAAAMFBMVEX///8QEBCIiIhmZma6urrM\n",
       "zMxUVFQiIiJERETc3Nzu7u6qqqp2dnaYmJgyMjIAAAAcRTyBAAAAAXRSTlMAQObYZgAABRZJREFU\n",
       "WMPdmG1oG2UcwP9J7pLL5ZIO2YfWoVydFpkbhhZmwW1GhvOLYqq4VRAaimMf1FEnNsLqDKW4dGN4\n",
       "U6hlqLtt0GrsTOiM3T6I0TrQrh1RxM0x4RCmODQbMkGjiP/nJcvd5WXXhHyYT8hzz73l+f+e/+sT\n",
       "gJu3rV0LN3XbopE+mAvEnDy9I641OZ8YaQmGf30Ue18EiuDGgRAfqff0UNPzbW2ROvy9yJGOwioQ\n",
       "qEImWotxuVVmJX8ZgQENXgFYaj2GRyUrl2/4/VN1OM7qAzrsQtPSKYZBLv5QAyNEXalhOQ6TKd5r\n",
       "fBm8Nt881/56oZ1J4/6NaOMWHIQpxpnayh8CJYOHkN6oGPOk+6UJ0zFsF4wp6D9PxDm6n/rGNVT2\n",
       "VYoxSfSeqIFBb0w2LMYqostwxeXZGo8HVPuVz23nibdB8qNTz4yVIhXAbopB1pouelXfIGo603A8\n",
       "IbP4tCYwjvDj+Xjc4BgezYBjY9SuwjRv9FKM4EIq9VZNF7+YSr3fsKcHV2BX5bedY4RY3ulfU9aG\n",
       "R0vAkzyLU6PtZJHqz2RypCZGWzK5N9dwoCIruJqoZUP3rcvBeHO+k/mjQi1SvmwyKq9gS92P6RRj\n",
       "O8A4d/hKDG8UJMepXKRzLi2UziXiWQfw+6AWQkfsd4ohdMAVJlHQsAYsxJjbZIs4A1GKsZkGBJE9\n",
       "Kr74BXTGyhhCGD50bkTPEtn16xE2FGMeKN8GngQ8cZ9TjCN5YvBEogA1aKns4gfje9CPTyaxlWgO\n",
       "RyiGD9w8MXwwvxFOKrpHN6W/IVjnACCw67VNKIPwPIALP7z5iIZXonEVwYd3H6YXzxYKLxQKP1X8\n",
       "hFIo/Hx7oUDIH6B5ja4qiabQV8DGXXyzZA//aYah5H18Mfcf0uETNayYs/jSjXM5oVdzylEybbd+\n",
       "EHzRkjY4hitBYjzHcKCNdpD/MGNMmgKu5yF7cuDa8BtYwAldxLqwZbNvWDDeFW9UDFN6NRc8TmNK\n",
       "xoQhcaNK5+BTcI4h/wOBq1QiEOgausx5Y983trcwmdOaavwZVEmbzsqSrHL8aTOGNIGwcvfOaMWk\n",
       "x7ou0SOlR4wZPHychzZwldTu5S6ezsDOgOYc42/wGqeIRNzFPaoJY6snWjVSwQkU99AcyDRWZSE3\n",
       "b8YIEMecjmIZ5rUapfySiNnNAEav5jw9AN9lLC7uXsEKEkkNDiuV2kgbvJP/tRrVKJyL5VAiBGDB\n",
       "frepGFEy260YX/MKt02lr4ovJ5OjiPGOz1Lh/o7fHtgG4mdWDE9YxPs6p1fX74gAXSdTwBWKzJTk\n",
       "wbsm7qzE8MVK3bAVY+qOpwYjKBF6F1v5qTG9VBpeguQVa83RyzGC+IxcjEKMaUN43IJxgdZGXbwi\n",
       "LjdXxk1fYPTqV+uqbPRWWooRxy7OtI0SwTQ/eWRv3Kjlmz+a9hsBIwenyeBbLEDs+w35LziQsmOk\n",
       "NemCPosTx5hRZRdgZnFx0QKzwVIazpUGqVoFrXkGIlFFaVjtpaIJQ35OAwmVJeyJgLdi29QhXssT\n",
       "jEndv6/UubSBR+EjlPE0w1BmKqfoI914qcJ4dXBZRTpKJBsOcm7Mvvu7Ozlaffe35Z7VFKMvI3ZA\n",
       "n0a6jDA4u5HUKpQ+MPKr3FM5pzfT3LbJSR1Ew/syNrHEqMrOxUbTQhV627aniU3s9w6eubi8vbh4\n",
       "7/0QuL46fORdU3+OEy3/y4rt+OpixO3/UwWrjOrXWpFWY5ACUIgPw/+j/QfcZXvYiiqQuQAAAABJ\n",
       "RU5ErkJggg==\n",
       "\" style=\"display:inline;vertical-align:middle;\" /></a><br>"
      ],
      "text/plain": [
       "add_real_non_neg_closure: forall_{i in Natural} [forall_{a_{1}, ..a_{_a}.., a_{i} in RealNonNeg} ((a_{1} + ..a_{_a}.. + a_{i}) in RealNonNeg)]"
      ]
     },
     "execution_count": 12,
     "metadata": {},
     "output_type": "execute_result"
    }
   ],
   "source": [
    "add_real_non_neg_closure = Forall(i, Forall(a_1_to_i, InSet(Add(a_1_to_i), RealNonNeg), \n",
    "                                        domain=RealNonNeg), \n",
    "                              domain=Natural)"
   ]
  },
  {
   "cell_type": "code",
   "execution_count": 13,
   "metadata": {},
   "outputs": [
    {
     "data": {
      "text/html": [
       "<strong id=\"add_real_pos_closure_bin\"><a class=\"ProveItLink\" href=\"proofs/add_real_pos_closure_bin/thm_proof.ipynb\">add_real_pos_closure_bin</a> (conjecture without proof):<br></strong> <a class=\"ProveItLink\" href=\"../__pv_it/theorems/c48c8b3ec77d48aa3cbc91eba400632fd3d7787b0/theorem_expr.ipynb\"><img src=\"data:image/png;base64,iVBORw0KGgoAAAANSUhEUgAAANEAAAAbBAMAAAAQZ3cOAAAAMFBMVEX///8QEBCIiIhmZma6urrM\n",
       "zMxUVFQiIiJERETc3Nzu7u6qqqp2dnaYmJgyMjIAAAAcRTyBAAAAAXRSTlMAQObYZgAAA0lJREFU\n",
       "SMfNll1oE0EQgKeXy9/l0vat+lJSheKDD6FRtKi1ICgIYgTxB4Qe9YcWFdQqxR8kVNC0UgkK2hfp\n",
       "SUCkYBtUKAXBQH2QFiViwVJUYmsVKp6lKGij4szeNXcbckmbB3HhNpPdnftmZ2dmD+A/bLtLU1Pw\n",
       "EZak4VRKI0XwEZekW66WToLnS9Goo+62zaQvVpjkRjPTJLwtDvLOYydF8szcq8KulR/zn4z+ed9t\n",
       "koQgwCgJM8VJcpA8mNf0KXz6c30tKc7uLnBpWrX2Be2cBegheyPFSWUJ7F5xHgsYQoYMCfDLPd4k\n",
       "RG5m9wTn9YOWE8VJvRQQZ/ORRObXSsNtV9ovLpDqy03Sepwa6eu7tYiAeEl7P5GPJLPRD3oqdKjm\n",
       "nuo9JqkGnx/R6AXbwzHFBuNc4cZwjcqRyptXok+GmdyvWrynbDVJO3HiMECnHclhilFST6GvlsNX\n",
       "fk8DM9JPgHdMbrWck69txiQ1hQG2gJRemBc1W9JHygq0/U6KfG4lPVFhDmDQDGmdVNX+mUl6uPY2\n",
       "ojoIqez7ho3fwVUHJ3lSG8UfLt+swinyq6Z9qtY0hflV+oVGs2PCIU3TSU+DXRabB1BVTrnNATJD\n",
       "ehxKCTKMBOTQutAGa9IQaRlI3/k9TYGYMUhey56Sa/ZZQxdVvek95gA6HMaH+gBJEyluT5d176H5\n",
       "vlme9BscGOfbmFxpIXnuW3KsiZzYeQi7eO007X6uVhUpwIiU5EgtekRIGXClhzjSNzo7IyLqLCSn\n",
       "stZUp9iDh5gP0hkn5Z9wTgiydENSKMiRaoyK1AGvlSRHOg6XsN/IZHfCrEYw6gpz6QgVqOEIOin/\n",
       "PAF/Os5IjiOn+Yggo0Rcc3fF/uZGjhRfTRE1zWSpZXu2woY91zJZdRavfpWqmqCwI3coe6PRaECQ\n",
       "r4+RNy11r9GuGukIo3yIz/RqlNsms0EY80wgsEItS7h07/kO8DefI5lbYSXrgtwKm9Ok+azFsaYd\n",
       "0KO61XGQw/o5jST5y53CymN74fUXrpr+7PUuNj/YBLsSzmP4+quUuS+S8QZ+8VG7m5C1zsIkd5j/\n",
       "rweOgOdkZ7Xd7e6PFSa9WfTHAM0GS/+Ay71q/YWXPyqd5FDhH7a/04rVcVhy3yIAAAAASUVORK5C\n",
       "YII=\n",
       "\" style=\"display:inline;vertical-align:middle;\" /></a><br>"
      ],
      "text/plain": [
       "add_real_pos_closure_bin: forall_{a, b in RealPos} ((a + b) in RealPos)"
      ]
     },
     "execution_count": 13,
     "metadata": {},
     "output_type": "execute_result"
    }
   ],
   "source": [
    "add_real_pos_closure_bin = Forall((a, b), InSet(Add(a, b), RealPos), domain=RealPos)"
   ]
  },
  {
   "cell_type": "code",
   "execution_count": 14,
   "metadata": {},
   "outputs": [
    {
     "data": {
      "text/html": [
       "<strong id=\"add_real_pos_closure\"><a class=\"ProveItLink\" href=\"proofs/add_real_pos_closure/thm_proof.ipynb\">add_real_pos_closure</a> (conjecture without proof):<br></strong> <a class=\"ProveItLink\" href=\"../__pv_it/theorems/571bfe7aaa90125c3fdbcb9dbc8688bc31099a1e0/theorem_expr.ipynb\"><img src=\"data:image/png;base64,iVBORw0KGgoAAAANSUhEUgAAAXwAAAAbBAMAAACNTymvAAAAMFBMVEX///8QEBCIiIhmZma6urrM\n",
       "zMxUVFQiIiJERETc3Nzu7u6qqqp2dnaYmJgyMjIAAAAcRTyBAAAAAXRSTlMAQObYZgAABKhJREFU\n",
       "WMPdmG+IG0UUwF8uu8lm/+T8IOhZlD2rpVSK4eK/qq0R4fpFMaeiFYSGQ6mglLZHL2IPDYe0uZOT\n",
       "oHANBe1Woaex1xxnQ+2H4uq1H+yhRBD/FIUVseCp8ZAW7FWKb2Y2m9lscvlHPujCm5lkZnd+8/a9\n",
       "N28W4H977UhmOrn9iW5xJVB0FCE5ttqwXR1NIia6hZ9CGaSt6e7hh41u4qvFLuMPoISKbd9+anV8\n",
       "eJnhW6T6sQ5+mFRaWwyhFSzeb3/1gSq/03anr/40VcFfy/AXSbVUB1+da9sK1AgWv7aPL1vVxign\n",
       "xKlJCJRKN5X+ADjM8LNEU6k6+LQj29b0Ply5FvH8PV9vvKfjs6rfUsiE1LSj/eAcxSe6pUquafvk\n",
       "tSy2hX8YnxvMdIB/xK6/SyatMv6msIPvT1F87Vwud7Cu6/6Qy33Qngd/hXIQOsAPx2i1bQOn/U2S\n",
       "g99zDYs8f6fTY3Xxe9PpA2bzzNzQLbZ7he4fuKEV/LcW+o2K84C8xBtPYtDBF1YY/nMAE7iYSE38\n",
       "QBykFrZe7iFpFBIoHsyEl1GHzeILffAno9EsdwBCfGVkycEXLzH8h6iTi2yYOHIG+hMVfCECx6Et\n",
       "/Aso+1B7NxIrffzuZvGPFOEeRqNQo5U4170u+RttUdTQRYYfhB47sH+4sBk+Vg2/wW1bu2BjE9jK\n",
       "nv1bdDf+CMq16GErEMSerfS/L0ul3aXSBe/9lY4HDNhjJx3LpBwq4WW77pnIJBdYbXy1GLQ3htcP\n",
       "GXBaj6j8rvtF472XrFo31XdhIToSdWLYzwzfl4J8vIzfhPavB/kSj5/lA+cd27ht0cYPWU+ikawj\n",
       "VoRXofCmC/+dhpkXXbVuarNu7e9nxpM34RNoHl/+B5RlSgMC1ZuPx5dm9UpGeNnOeSaexVfQa7D0\n",
       "oaDOPsPjS9MYv+SBnXHPfO+t+4XWdNWIf8yN/zxz3fwc7FQyzeNfgYB1itDYruvXOXwxcaczvhx5\n",
       "4CPEPHQSZDp3AcwFHl8hTjcT325AwJ07yHtFfIAFbNW66Y+68ftR8EmSro2qXu3LV7HIW3aD6xiH\n",
       "bxMm0iA4i8L7uKQBFgOOGjU77kOvTm8TX0qnxxH/7aAr4/wLJQpPgfipG98fEbHfsFet37Uj5sZ/\n",
       "1KDQ8vCt07fUMJ5Rsu8n7AbXcfTmp4djSIO4jPToa4aTssWlN64486dsfA375ZU4PcQgvvCYC/88\n",
       "yhpAYwwaVTlND72BrVr/fCPB50zMF+OThq0t7bqEBmbsHw8fSFq1jhM6l+8rlglnSeNrTBSq8335\n",
       "MkzlqvHzGem8Ma+zoxsaT+Gc+/Hk3VdStpPlRq4ePt9BaDwpW9WVNzh8+cUMSBj0hFdiEPAcV/rE\n",
       "i0WCH5qErEGLrOHLbH8ETiDfWYavHqs6KxLbnChnAq8Ot5QsI41srT7mG89pa316vPZpa/C2tRRf\n",
       "XANDGbEPi6E5YXh+M8kp6KqVsd/laNV8L3R2XGmUq+xt8bBIjEdxfrHtaUaosWr7Ot7ZYfH7BruN\n",
       "2Rq+ePt93AFUYboJbFglkYh08yNOtvGXhqTnO4+jTK2JGU50E/9e+p1n9D/+Je1flxNdL/m07UUA\n",
       "AAAASUVORK5CYII=\n",
       "\" style=\"display:inline;vertical-align:middle;\" /></a><br>"
      ],
      "text/plain": [
       "add_real_pos_closure: forall_{i in Natural} [forall_{a_{1}, ..a_{_a}.., a_{i} in RealPos} ((a_{1} + ..a_{_a}.. + a_{i}) in RealPos)]"
      ]
     },
     "execution_count": 14,
     "metadata": {},
     "output_type": "execute_result"
    }
   ],
   "source": [
    "add_real_pos_closure = Forall(i, Forall(a_1_to_i, InSet(Add(a_1_to_i),RealPos), domain=RealPos), \n",
    "                        domain=Natural)"
   ]
  },
  {
   "cell_type": "code",
   "execution_count": 15,
   "metadata": {},
   "outputs": [
    {
     "data": {
      "text/html": [
       "<strong id=\"add_real_pos_from_non_neg\"><a class=\"ProveItLink\" href=\"proofs/add_real_pos_from_non_neg/thm_proof.ipynb\">add_real_pos_from_non_neg</a> (conjecture without proof):<br></strong> <a class=\"ProveItLink\" href=\"../__pv_it/theorems/a7a9d0709cea3fbf86a0b70a0a32ee67aa9344710/theorem_expr.ipynb\"><img src=\"data:image/png;base64,iVBORw0KGgoAAAANSUhEUgAAArMAAAAbBAMAAACdGRqCAAAAMFBMVEX///8QEBCIiIhmZma6urrM\n",
       "zMxUVFQiIiJERETc3Nzu7u6qqqp2dnaYmJgyMjIAAAAcRTyBAAAAAXRSTlMAQObYZgAAByBJREFU\n",
       "aN7tmn2ME0UUwF8/th/b7fX+MPHAaMohSIwmzRHBqBzVixJNxAMNORISmguEb3LydXoSbI6IBaMW\n",
       "iYAEwgLhQ766QQ7kD6HhhMh5mIoG0IipEjRBsxBE4x1inDez3c+222orh3Eune6+vp2d/c2bN+/N\n",
       "HsD/5daVGe3JW3j3F24rVh6swuQzrj1dgnrbrewrF7ut0Pqwegorf2ygo60RSbVpgAE8UhytkGFo\n",
       "s3hyoThae52qlQby4eOVaWvXnZWa9iYPea7ubbkuo6KFDob2Uzy+XBytvU61ir8fLbdSvv5ihdrh\n",
       "syZBdge0nBdVtEMZ2vX4FS+O1l6nWkWIkOoLizgQLqB/oKj0Rmlq9nc7bjqPbwQfYTlf/k6WifVu\n",
       "ZmjRmQlScbT2OtUqDrzryxVC6+6vFNot7Cv4evuyHFpXMqtarVeiaIM9u3evs1nG7HWqVTaTQfW3\n",
       "VQit0FYptDVRGr10iprVupJxFa0rziKE3xOJpXYRgq1Otcrn5ONEp7Cme4hYBlr/Yw2DLdKa1qGS\n",
       "CeLx+uYy0Ar1w3R+CvaLOofgccdUtM5ahnY6wEo7tLY61SqN2F3ivdyD4Eo5Vvt4suaqRZq6zPcZ\n",
       "1dZJvmzpaP2vwFuKJ6BXzdL72sON2jKGngfRNtEFj5oGwKX8aJusi+I/zAToQnu6x04voXiuLRl4\n",
       "mFwVLxEtfzedlEON0mMiXDNCXAoeCVpKRetNwxxi+8TOA9S1aAt7fHX7MkkLvrhfGVovOIlZcCzA\n",
       "YROGW/gxDInp0DKd4sUtl4E2OAf7Ie5iV9J6vDp4zuNqkvgDLmXEsY0VYQFwI+kTCbL84z2ybM12\n",
       "PpPlF2UZL3H1g5fwmGyUNgL/h1kN4PnRpotNMYp2t7HUAQQQEE4JjohlWbHaJh/90c/M+zpDK2S8\n",
       "hrb2dI+BDwXRJerQmnXylu6SoAYWrGgkT+2eR5iRP22oif/yM8f3DRzKaS9U0NYBTyzB3Vai1Tri\n",
       "kLI60YvgvmFWw3S/VKut0ybdVWM4Gt/oelIXnPIKWn92ksGe3tggwkfhiKB3CCad/OUnexUctnBa\n",
       "2Iq9axBXg7dZQ1sjAT+Tzp1FEBJ1QT5xCMTaAlfLQJtKwzGr9CYzU4NaGWipySszlHakVu9rV53R\n",
       "JToKWlg5jegOpxeTFbQJD7q63jGgpTp2pc/eDeCwhdPBfXjSIhnRhghW/wpSEft05ILoFWwZ42+A\n",
       "J3ukDLQSzA8kn4gZpdfRZesFoQy6wJKt9iZ6g62PqstYgx7tJJc2Tbg+Be0HOOOpnbjcWbZf0CXs\n",
       "m2JAizqwbXieVU4VcteGizRAsT52TkaHjaDdS74OZSAEDlFDO7V+NmlkuYgd8+Y8+0wl0umEc7G0\n",
       "FW2K9Jb/UznQ0fGFg0sESPcbmc2D5UaBKwbbmi1oaVtqy7q7jQL+IYiMxwvTucxATXQFabpm1EqE\n",
       "ACFy5YbDKHpfiPE0UuiCdLcBLerwizlyyWxTOk2F2BlnB40yFnG1Zh0qwy2NLEPrGglwVtKWMYb2\n",
       "PhEXdPf3wLE1iJYhyuzbUT+5NWpF68X+L8kd6CKE1mFr7/XvaTMy2/ZAxmSfvRfCVodA21Jb1t1N\n",
       "OH0G+ORJYFECucvMZ9TtmUuQuKKSDipxLQTRdDrZQ2a4lxKJToJ2k9eAFnVcEa4Npgw2UqNCEJml\n",
       "ZGki0mzRITLaFTps4VEzokBnTy74Ymg74VvarUHEah05tM+J+kS3ZIeQs91CM90gKNkhsPIm+exU\n",
       "+vOJkuiC5YG1/Vq+v1nxdzFmte6Jlv1ah+SMsQ0zQ5LvVNpwRMn8Yl6yI89GALoMOmzhUw9G82xy\n",
       "wh1kwpFyNEx8bSingdGBtj2jouXFAhR2609S2/NJLYJxUEgt79368mzPmPPgsA5tIJv2rwKYAHAC\n",
       "T7/ECMiMNpX0fS2asVHhARzWkIgIcTEy66AsiO3FmEPo6oG9vb29USPafrgLo9seQ4RAnZovt6kY\n",
       "KG9X/qhQktrh8pKdWrDNn1Ki3mrnJjnyZCPIcxA+7mVR9pbHaLXJqc9SbOtFMgxKRYUHI+TIK54n\n",
       "dU0UIqijaTDZuziHTjC0wt58VtsRJNOo5RG63XlI/yDqVrh/9G/hcijsOFWK1ppXW8tp1BnXjXWB\n",
       "chZML3ACzOOOSHRaEl02HVsPjKFoJ0jcIJiQxEqiQk8zyuamSe1vOEMtmwwU00gqMowOcNgCS3/m\n",
       "R2bzoJ3UC7CWpuXO3oj6G2ZtA+oFDjrwr2x0FpvRHvE8PbjA9oyudKjpsJYY73TnjiRVJ2DSoW8q\n",
       "LMOmQ4s2+prlt/0wsMq01aJ9+J42o814TiZt0U78RYKAqqYcee5XjliNOtqrOUWnyPsfX7G8ODKw\n",
       "0M6dZa+zHqDEN7rt5v9DCBY8CuoGyvCL/73s30MLB+G2K7hejGuP/Ut3C3YX8fwu+E+WvwDIKjcF\n",
       "eAskjwAAAABJRU5ErkJggg==\n",
       "\" style=\"display:inline;vertical-align:middle;\" /></a><br>"
      ],
      "text/plain": [
       "add_real_pos_from_non_neg: forall_{i, j in Natural} [forall_{a_{1}, ..a_{_a}.., a_{i}, b, c_{1}, ..c_{_a}.., c_{j} in RealNonNeg | b > 0} ((a_{1} + ..a_{_a}.. + a_{i} + b + c_{1} + ..c_{_a}.. + c_{j}) in RealPos)]"
      ]
     },
     "execution_count": 15,
     "metadata": {},
     "output_type": "execute_result"
    }
   ],
   "source": [
    "add_real_pos_from_non_neg = Forall((i, j), Forall((a_1_to_i, b, c_1_to_j), \n",
    "                                             InSet(Add(a_1_to_i, b, c_1_to_j), RealPos), \n",
    "                                             domain=RealNonNeg, \n",
    "                                             condition=greater(b, zero)), \n",
    "                              domain=Natural)"
   ]
  },
  {
   "cell_type": "code",
   "execution_count": 16,
   "metadata": {},
   "outputs": [
    {
     "data": {
      "text/html": [
       "<strong id=\"add_complex_closure_bin\"><a class=\"ProveItLink\" href=\"proofs/add_complex_closure_bin/thm_proof.ipynb\">add_complex_closure_bin</a> (conjecture without proof):<br></strong> <a class=\"ProveItLink\" href=\"../__pv_it/theorems/3f486cebc2614dec45e849f6fec0048d4e2914520/theorem_expr.ipynb\"><img src=\"data:image/png;base64,iVBORw0KGgoAAAANSUhEUgAAALYAAAAVBAMAAAAZVgl3AAAAMFBMVEX///8QEBCIiIhmZma6urrM\n",
       "zMxUVFQiIiJERETc3Nzu7u6qqqp2dnaYmJgyMjIAAAAcRTyBAAAAAXRSTlMAQObYZgAAAtFJREFU\n",
       "OMutVU1oE0EU/pLN5meTTTx4EsSgtQcPstSjtVZFelGaItUehJaiiCBSEa2oSATRBCvsyRb0sFpQ\n",
       "idIsFZFKwdIeBEUJiNAWtHvQglUW9aQVxTe7k02m26QKPng7b97MfvP+5g2wMsVKLi9LYzX0cR2w\n",
       "mPC2LvY9zktJudgHhHWffvOFr2c0HAVesNlCXeyPnH2U1OgAa6m28yeGf2kYAYaY09l60KrmcoVG\n",
       "+Zgy6TO5dHs4DcxpSKSRNICEWQ87orvsx26nf3GLT6b7+x0X3gRIG9agrIL6vFAYrBuSQc5+7GdO\n",
       "YFoduWsTV2osEgrZ/h74nsudr4u9gXOsuWmNiD2/fis57YRLKadM6dnHpSngMJAvw4TsZbCvcd6h\n",
       "J78I2Mpvo6hDdSLhlUtsYieX3gG7qlM95ZXnwJFeLp5zWVkLKStgxxeRSiPex+Sodxm0MvZjShOC\n",
       "lXvxiZkzvqWkdBnyZ65b7bK0iAhFEa9s+4Rtz5MkWShOQHac6bCJmI1K9iD/r5viVYpU/P/BEj5W\n",
       "gHoTGBexA1kUM4LdVN7tJsce8iAWwhXsmLWfhOHGD/SVvzUaIZab3Y9oQYwJmfhUrJNUCdsNhJyY\n",
       "BDzs1w421WEbDflD5MkpeZHE4NmglmRLszO+XBZNHI/rAnYr5YDnUkqXt0cbSAxZTi7xkA6WNJkd\n",
       "H02r1jDb8KSqBU25TGunE4Ld4VKUfJQmPO9cahkw7ufI7mZ2PJ0TMIM9zLNWqedALpdL3+isYLe5\n",
       "rPRuvN4g1mDTSxZ1Nwl3Lhl8v9yy7iTTsSCrpCzq0VkaUkbAdMIl3aZfV7zzDt3l454r/ULbUvq4\n",
       "ENC792LIiBjTSGScO5jxmpC/VxWqJ5M1rnOinIFQ7+g2dJjyMQreVaZ4YF/OlHflUXV1fU3cqrEw\n",
       "Ik7ddhikeP/V2+CWhV5jIe97hv75TZup1fVFMBX/l/4Ai/3AHpQ7Oh4AAAAASUVORK5CYII=\n",
       "\" style=\"display:inline;vertical-align:middle;\" /></a><br>"
      ],
      "text/plain": [
       "add_complex_closure_bin: forall_{a, b in Complex} ((a + b) in Complex)"
      ]
     },
     "execution_count": 16,
     "metadata": {},
     "output_type": "execute_result"
    }
   ],
   "source": [
    "add_complex_closure_bin = Forall((a, b), InSet(Add(a, b), Complex), domain=Complex)"
   ]
  },
  {
   "cell_type": "code",
   "execution_count": 17,
   "metadata": {},
   "outputs": [
    {
     "data": {
      "text/html": [
       "<strong id=\"add_complex_closure\"><a class=\"ProveItLink\" href=\"proofs/add_complex_closure/thm_proof.ipynb\">add_complex_closure</a> (conjecture without proof):<br></strong> <a class=\"ProveItLink\" href=\"../__pv_it/theorems/696229d3f0b7ec9677205a0c11f791f3fb8720640/theorem_expr.ipynb\"><img src=\"data:image/png;base64,iVBORw0KGgoAAAANSUhEUgAAAVwAAAAVBAMAAAD4GEsPAAAAMFBMVEX///8QEBCIiIhmZma6urrM\n",
       "zMxUVFQiIiJERETc3Nzu7u6qqqp2dnaYmJgyMjIAAAAcRTyBAAAAAXRSTlMAQObYZgAABBVJREFU\n",
       "SMetl12IE1cUx/+7yeTjZrL2oQ9dpTR+dC0WZNCH+qB2W6n70kJWsSosbAgtRSmyVeuKFrssRWf9\n",
       "gKGCLraFsUItsTVBCeuKpaGxLxVKQMUPWpsHFZSSblGhXdvS+5XJTDJ3SaKHPTN37rk795dzzz33\n",
       "DKCUxXfQjkRLQtuUSUV/zAJubUeZtX/1G3BxBtsM8rXUNiVkNfptz587DWziSJdYx31/XLVtBrkn\n",
       "tU0h5fqedY9x4l8DpznSOFu/EX9ctU0tcUNonZxRjW8w/FD/wlAC+M2AnmBIXTag5/xx1Ta1hC2h\n",
       "beMel/frw8Pc0Vc7KEXIAHmGIcV/ymSOwh9XbVPLUalt43b18tuGRfLZYGtMqGtvMyT8ZZofKXDV\n",
       "NrXMlxpdvmR2K7iHi3Nt3tB5JJHqliGptbJV5EjvAmNAp+GHK2wtySGpr1ldU9RHzeIGu/GHoIiX\n",
       "PQkiWnhdtm5xpFV8M2rCrG27iLkpB3eVz0b1TYoH30vL5m6h5HkERrD2lWZxj5ewTFDEhthzxEnj\n",
       "RhV3giOF0SmT+qniCpzT7YDt4NZs6sRzYWmJbLC13+Xzs0ID0wjTeOvjfT9XKh9UKncb/7lmeNXG\n",
       "VtGnTbFrf4UKcxUZGZCDBzmSXgrLjHHgmI3vEoZeCwbHppbrkxnEPwcueHE7RpBNVnGb8O5zII/c\n",
       "uOPOgPshD260/DYNnR628lTy+U9duNyGEz2NxzFZsiXJY47F/Bt5OtQbDNkCvkfzuOQfxKY4BYI8\n",
       "GDqcAZc5rs3fRZEw9g514yxbHLl5/duBGi63kQ+1aWCzd5aTyUEbXWB/wM0bDVstm8MWesw3jfsY\n",
       "ofIko5BbLZCoDogsoM1gubrVcJb+nGMTIDw35FEounCZLWBoQxiY7Z1lKdbTSajn2cN5V11SFBpJ\n",
       "xHfojd4l/9FLtiwbLsMorqUKlIJOV3BWScjKg/Ypk/6O5QJpVoIP13aa5ijF/SLswmW2jlwnzRW7\n",
       "vLhz0MPv603TTHy2rmboE0rSLx5Z4BMMO9jBl5INl+GreRvTvZSCrldSdHwidzy0lS9sY313BFKc\n",
       "9pPpJFLCu8E1Llxmy1qRm3YdLvkbhzKxeTQ/8pX7knva5xDua+lUYxQ4KR/e3DfsSaJkSCDxxFku\n",
       "4EfWuAL84sLlUW8NvsW9O25H9/MLvXVrD0sxujn1JD/Bkk5l4i1xJqqNjArXbWAUDSVOVUSJI9Hf\n",
       "txChxUxwTy9CdbjB9JkVHLc/p3Wj39K6tTlY/fL8Ejv0cIAN+aayN1l97RhqR+Hhj9MtFY+UQnku\n",
       "nXYhcXnJHK07hF3CgsEpzmJyeWg10klj92mW5xFLYRhrQPLKQne2XfMgx78/PF8oafvpf/zcUNXR\n",
       "dPLF21uqvJ1W+zRPKP8DB0c+8T2jAuoAAAAASUVORK5CYII=\n",
       "\" style=\"display:inline;vertical-align:middle;\" /></a><br>"
      ],
      "text/plain": [
       "add_complex_closure: forall_{i in Natural} [forall_{a_{1}, ..a_{_a}.., a_{i} in Complex} ((a_{1} + ..a_{_a}.. + a_{i}) in Complex)]"
      ]
     },
     "execution_count": 17,
     "metadata": {},
     "output_type": "execute_result"
    }
   ],
   "source": [
    "add_complex_closure = Forall(i, Forall(a_1_to_i, InSet(Add(a_1_to_i),Complex), domain = Complex), domain=Natural)"
   ]
  },
  {
   "cell_type": "markdown",
   "metadata": {},
   "source": [
    "### Theorems for the NumberRelation class"
   ]
  },
  {
   "cell_type": "code",
   "execution_count": 18,
   "metadata": {},
   "outputs": [
    {
     "data": {
      "text/html": [
       "<strong id=\"left_add_eq\"><a class=\"ProveItLink\" href=\"proofs/left_add_eq/thm_proof.ipynb\">left_add_eq</a> (conjecture without proof):<br></strong> <a class=\"ProveItLink\" href=\"../__pv_it/theorems/6ec0d3a2605495fa4e6ddc7750991d2f866a9e110/theorem_expr.ipynb\"><img src=\"data:image/png;base64,iVBORw0KGgoAAAANSUhEUgAAAS0AAAAWBAMAAABnB9cHAAAAMFBMVEX///8QEBCIiIhmZma6urrM\n",
       "zMxUVFQiIiJERETc3Nzu7u6qqqp2dnaYmJgyMjIAAAAcRTyBAAAAAXRSTlMAQObYZgAAA4BJREFU\n",
       "SMfNlk1oE0EUx1+STTbZbtIe9CIoodVQpNCi1FNbq6K9WLMV/LglBIsIWqK0HtRDTyVBqyuILVZx\n",
       "baVqEBMqIpWCob1VKTl4sEVlD1ZR7BJEQXNyZmc2ySazbUpEfPDPZjPvzfwy82beAPwF82SI2FYj\n",
       "syPYNk2l4pf31XE9pLKwU+wItrlkolf45Wt1XF+oLOwJO4Jtgko0imd1sCosbwtRwaZM7aKfFVG0\n",
       "0Kb2WSKfggJTVXHxMpEVl1DHirDiukfknU8kRqpbxhEqKy74yIqw4vJ1Ev2KxS5Vx9VA5WnbscnM\n",
       "NR640YQGnWNFFLwpl9Dgh+sKiGiNsXoB4muPza3SNky1R/ZlTVxC2nuORzn8Qc8yTbcWKPOmXCJX\n",
       "B81oAVWifXr6Wx4+V05G8NO9CtdFImEzOAZNXKIi5jiUSs8ZEUXelGvMoUIMvUWJeLCzDzlhZmdG\n",
       "OK44v63FtYHIkQMej7CgaWc17RPuAdz60CFGhOGNpvHzFk0LAyg2P3wHcGaJxAzPHu7tdAK8twFm\n",
       "KuSyDUJSKsn7Wr8VV5G3kfdBxfmzwOVRj6LfJgLL+uHRGkDOXAB4hcOZsP8ZcihwiQ2He2nXe8Nw\n",
       "wbyOyTS8LN2PIX3orqL8CkOZt8HVAXZ0onBRIoifQDM+4Myhr3alj0dbVKxVesCHXZcWaSzh2u5S\n",
       "+10xZMOQzjnrzHmfTEEfrYWUq0ZpRl3SvC/ZKUXeBtcQuMOFvIenCM7R4sSITljBDre6oBEm8LcX\n",
       "0yYuyWekoud+1G5UiTkit997XjTNVzB1De6gZ1spl9nb4NoFQdS9I02k54AtZdcnGH7rn20QgWNo\n",
       "WvxjR0xcUJs/qB1pl3EcdhEJkW03t5q4JuvH2/EfWS7lMnsbXJP1u1H3PokIvGimk7J7ScETlnVi\n",
       "j37YCC599HG8qwpcIZBcOEtWgO+0SZXWoWildagD6QGVbjY51A2jyl1RFdEDBrgsiJJ+KEt6ISVc\n",
       "nuwCpI2upaB13U6sq24LCrnhqMKPQt2mx3lkqh16UpNvZufRAw40osS7jBsea0NSnks4c7BJyUdc\n",
       "zXcch1VrBuOew/LmM25/4Z5TbPRakRJkN0oLO8qvfFPZ+fVI34YV3Qvjld0LufpWPJBMVH7hrZFd\n",
       "6UOlQWVcpzm1wnu0d1336EWq4g6MB/cuvSZX92v4H8zxj8f7AxFvCZWHpJ6rAAAAAElFTkSuQmCC\n",
       "\" style=\"display:inline;vertical-align:middle;\" /></a><br>"
      ],
      "text/plain": [
       "left_add_eq: forall_{a, x, y in Complex | x = y} ((a + x) = (a + y))"
      ]
     },
     "execution_count": 18,
     "metadata": {},
     "output_type": "execute_result"
    }
   ],
   "source": [
    "left_add_eq = Forall((a, x, y), Equals(Add(a, x), Add(a, y)), condition=Equals(x, y), domain=Complex)"
   ]
  },
  {
   "cell_type": "code",
   "execution_count": 19,
   "metadata": {},
   "outputs": [
    {
     "data": {
      "text/html": [
       "<strong id=\"right_add_eq\"><a class=\"ProveItLink\" href=\"proofs/right_add_eq/thm_proof.ipynb\">right_add_eq</a> (conjecture without proof):<br></strong> <a class=\"ProveItLink\" href=\"../__pv_it/theorems/9e03cec0050a66849928e3e2d7287711648bad290/theorem_expr.ipynb\"><img src=\"data:image/png;base64,iVBORw0KGgoAAAANSUhEUgAAAS0AAAAWBAMAAABnB9cHAAAAMFBMVEX///8QEBCIiIhmZma6urrM\n",
       "zMxUVFQiIiJERETc3Nzu7u6qqqp2dnaYmJgyMjIAAAAcRTyBAAAAAXRSTlMAQObYZgAAA59JREFU\n",
       "SMfNll9IFEEcx3/e7Z+7vb3Th4IKik1LJIKkMHrwX0X5krkF/XvyOJIISky0h+pBehCP/m0UKVm0\n",
       "alhJ5FFEGEGLvlnIPQT9oWIfsijyOiKhrId+u7N33pyzalxEP/g6szfzm/k485v5DcBfMH+ciG0B\n",
       "je3BtiFHpvXxJjeum45c7CDbg22CRvTE+viUG9dHRy52h+3BNskk6rJWtS0nrGApUcbWKZlfssLy\n",
       "mLa7VNswUUhHx1hOXKJG5MYlFbA83Lh6iIKjAwOduW1jpyM3LnjH8nDjClUTfe/oOJEbV5Gj3uKL\n",
       "qxWa68LIctyPEYaHVKTAeZ3i8pevXYKbV0rUABCde25ulrYzRJIRbBZNiotbDF+weGtHWcK2UsdD\n",
       "5gpgDb1eG7VQEjfQJNpsh7/r5XP6QMQqfbNwHSeSdXmK0yiunjhswOIBw6Pba0IHxSUtBS8ewEAT\n",
       "kQge9iUnPVoXl/bq/Oe5uBYQSeBrcxbmw7JEIozVKh2asahneOh5CnzF6lgicSSReI817xSI+P/w\n",
       "SSI5LrKnezE0AMErAI/myQWQr2TF/SKQJl24oE7nJ6n1ymuDQXWay2/uxh/7isfty6OsGJu4YhB1\n",
       "zoqELfexwzSXXLSzwRl6UxiO0fuI86s0l/QLAjgD1GTEVzjlUQmeAopr0IDHVkw2EUF0P47Qyk9h\n",
       "1aM3inhE5Xx9B4Ssvq9eOjMRrlWC2SJ0oJ0BY4ovoOM+oK/BASiunyCYQ07cZ5+UdvCFaa4YNGIu\n",
       "TcU93EM4bylvIfIwYfW4XAMl0GfVHg5RXGooFYr+602eVJYYIaqLnYOr9D6ehOdhA6A8m8vyWA91\n",
       "cYrLpwSPyohiENlRkRfzEPgf9t9yiMAeXBalexfFBfnpi9prCKloqiHqL+ytiNNc/YX7Irj+49lc\n",
       "NXZblUafx8jKSyvwTlWJIIhrP6j5XllbwCd5q0sLLATBnr3XOmfTXPWgClaUTIBYnafONw81sfNQ\n",
       "JfO+v+GInAWtvha69GuyKWMBrVwSZNW+glU7kRIuf3IMjNTQap173pb0OfO2YErfnK8BVt52LubI\n",
       "3QrYEet/NjyKBWwtwcA7ZTXcTrSraS7p8LbVetrjbHqoKMyaMxjvnCiIcZ8y2zsn05xnRUzSfBgo\n",
       "HoyvdNOM++uWfajm9S6Mst6FXGEZs7NPI5r54A1ogrF9RvfsHw5x5jzf0cE/eke/dJQ5QKrgXhtz\n",
       "ctU+hf/BvP94vt/ong1kctS5iwAAAABJRU5ErkJggg==\n",
       "\" style=\"display:inline;vertical-align:middle;\" /></a><br>"
      ],
      "text/plain": [
       "right_add_eq: forall_{a, x, y in Complex | x = y} ((x + a) = (y + a))"
      ]
     },
     "execution_count": 19,
     "metadata": {},
     "output_type": "execute_result"
    }
   ],
   "source": [
    "right_add_eq = Forall((a, x, y), Equals(Add(x, a), Add(y, a)), condition=Equals(x, y), domain=Complex)"
   ]
  },
  {
   "cell_type": "code",
   "execution_count": 20,
   "metadata": {},
   "outputs": [
    {
     "data": {
      "text/html": [
       "<strong id=\"left_add_neq\"><a class=\"ProveItLink\" href=\"proofs/left_add_neq/thm_proof.ipynb\">left_add_neq</a> (conjecture without proof):<br></strong> <a class=\"ProveItLink\" href=\"../__pv_it/theorems/586fd8ae4a69a3e5845005c39417cb28adaad2800/theorem_expr.ipynb\"><img src=\"data:image/png;base64,iVBORw0KGgoAAAANSUhEUgAAAS0AAAAWCAMAAACi9zoGAAAAPFBMVEX///8kJCQoKCgUFBQNDQ0Q\n",
       "EBCIiIhmZma6urrMzMxUVFQiIiJERETc3Nzu7u6qqqp2dnaYmJgyMjIAAAChkoCbAAAAAXRSTlMA\n",
       "QObYZgAAA61JREFUWMPlWIuu2yAMzbYb3phH/v9fZ5PSxITQpLtSpw2ptQhwwAdjbKbpbyk+cXmn\n",
       "BH/SEKE7xxvQq8zP7yl9kixwXN4rpk+Xz9053oIuMob6OcMn2cqey5tc576mqjvHW9BF+sq3d58k\n",
       "K0kue2dCDMbHXmOj0gB7BF6hi6wmtRnZJ4r1XN5lC+aeaenuHDfBK3SRKQIVbz/q4i2Xt9masnpl\n",
       "WkMNR+AVusjFUbHxk2wJyeXkZZRihpFCIITxSjwOSjweM6e7c/SwG3AQkup+7VShi1zt1flvUVsN\n",
       "HeZpi0tcqhmXk5fR9gNub7JisqsXTpufj7mUn1/0Lw9z9LAb8IidiN+FQRep5Pml8joccdFYs001\n",
       "uiqkPndbgUmYSTPpRmxRKBUXmNS6zcG+MK0hNgf3YZLEh3MMepX0J24FWxCilDgCtMM16xyvsOXN\n",
       "edusmJQLmaEVzFjsXITZGarbptONsUza9OdosHvg2GGm9kUw6FXGtDJ2/bp3wQPNmXzhKVxiy8Fl\n",
       "tmaCgUW/csSLOGfr4FpG2C24Ikr1oxNnCyPeuhEghcl6izSkFvUaVoL6WHgc3fJJh7XRd9liwycV\n",
       "G5jzkwgL9Q3Lq2tL73RWlvutH6uxZNPM0cduwctBFDOHfkjnH0EvWI1LqJoImEyerKqeDxv0vE+W\n",
       "EqR2A3dsPYebcul+4S/tYc69PCykGA5m+V+jUIDVCwtovfxJ3D7CbsGdqX+tl8eu8sGeRKvRz03C\n",
       "jctPd+aBqBWO7G9bcBiwxYZPIjQw3GVLJp2g+85M8VwhhVq7ZUuUJY+A1DGgGGEfbMvQDA10lfX8\n",
       "z6iS2HvHZccGdabbT9tiKzirD1qfs8WGbwltheHKcWMHI4T2RqhBSIRdMCx6PgVkvpJO0jvCPoQn\n",
       "2EnW1VfoKtOKDdTuEsDedT5XQUdyptpGpwTRBFKO+5Uy3KD7+PWTnEjaw3xv5sOvqSAH2dVFcJk5\n",
       "NLQ3IcZtelGJkgaY/IL+khxNqeFkGo2zmPRTV4yKNU9pN7a24Tx6eMLczaoBrmfV3feUUVbNwdGt\n",
       "oemoTlbNjNWIICiQ0ngmwSQVBQWBVCuNbqXbhS2gztntk1e3M+Y6nEcPG0z3wnff8WIT+mncZWyb\n",
       "Vv92eLE5Nc22Bn67usTqt3oL6oNtq9/DfN9rYMPDyVPdZWyFXkvf2MbmfsWaweTpdXrUX89u3CnM\n",
       "n7w0t4GMevGa/QZ0GtllOtRUiheeKbpspZ2hXoP5T4r8p7X7DaOoMe6DN3/xAAAAAElFTkSuQmCC\n",
       "\" style=\"display:inline;vertical-align:middle;\" /></a><br>"
      ],
      "text/plain": [
       "left_add_neq: forall_{a, x, y in Complex | x != y} ((a + x) != (a + y))"
      ]
     },
     "execution_count": 20,
     "metadata": {},
     "output_type": "execute_result"
    }
   ],
   "source": [
    "left_add_neq = Forall((a, x, y), NotEquals(Add(a, x), Add(a, y)), condition=NotEquals(x, y), domain=Complex)"
   ]
  },
  {
   "cell_type": "code",
   "execution_count": 21,
   "metadata": {},
   "outputs": [
    {
     "data": {
      "text/html": [
       "<strong id=\"right_add_neq\"><a class=\"ProveItLink\" href=\"proofs/right_add_neq/thm_proof.ipynb\">right_add_neq</a> (conjecture without proof):<br></strong> <a class=\"ProveItLink\" href=\"../__pv_it/theorems/131c88e36b89f0c45fdc869b07028da65e9e39040/theorem_expr.ipynb\"><img src=\"data:image/png;base64,iVBORw0KGgoAAAANSUhEUgAAAS0AAAAWCAMAAACi9zoGAAAAPFBMVEX///8kJCQoKCgUFBQNDQ0Q\n",
       "EBCIiIhmZma6urrMzMxUVFQiIiJERETc3Nzu7u6qqqp2dnaYmJgyMjIAAAChkoCbAAAAAXRSTlMA\n",
       "QObYZgAAA5VJREFUWMPlWImSpCAMZWdGbsLh///rEhAVRFvcruqtXapmUjbyYh4hB4T8LcP4Wo4M\n",
       "a04mHHR1PIDOMqy/e/9JskDXcmzIPl0mdHU8gk7S2fJzgE+yFUwtB7kOfUt5V8cj6CRN4dvoT5Ll\n",
       "WS27h4Kez7neXGPSBfYd6CSLS21O9omhTC1HTYKp51qiq+MhdJLeAQ6jPhriVS2HTSKBv3KtK+xb\n",
       "0EnOGodyn2SLsloCpdJwWp+vg0mGOUanfDbc8Zhp0dMBlCGOmWAUOsnsr9q8xWx+GTBPZ7SvJMSt\n",
       "84oSFa7Y4lP85jAvQWl71YU0vn7wP2t1uLgOuZuHoZPk7DypvC5HtJNKbrquUgUT52HLVhLLJDcD\n",
       "4ebCJJjQfLZotOqFay3YxhKGtmo9DJ0l/qNDxRZYx1hcAUJHu0Rwd9gy8nxu4pWExpzsLWpKosCw\n",
       "GV9Ti51ibiCF7OqIayZcMtNh6Cydz4zdT/faGkA8bxJP9hZbGm6zRXbmnDrAhLpgFidsHUJLweZI\n",
       "hZjFMHSWseItGwGMyiC2SoMJWtIwp/iOguXopp+EzZOmy1a1nHDXwFycRHIw52gSzAhoC0lc1Z74\n",
       "K3tLkAcd6SDSaRx6kdosRS8oET+zWEKByEDUsiWOxAkx7ZslD77dwB1b63KZku5P/PN7mIsobyFH\n",
       "YQpXJqH1UUPu4HwgL+r2VYcs/wahF2nZwh6LXiPWTYqbG9ZwZgCppRr9b9UB9oKtajmhtoGp6+V9\n",
       "ko5nxRI9H5rg5rhoiolTkuyzrK6A+LGgKDqYRA0PoIssMWKKJtE96/OODXwZs59QyVciorFCnLNV\n",
       "Ld8a2gJTG1c5O0hKY1nUtvlt4opvCSNp9v1Qf0mn6S06cB2bzTh0kR4WDzTosABb8Eguspz7uHbC\n",
       "p41OBrQppCq2luUyho/vLwwifg/z3s6nTlOWXXRXJXYNQkObCWNNJmbusWkAYuYYLzHQpKeoTEQH\n",
       "Ti4tdhWvqFvaja1teV09rDDDXTXA7a66e5+SsWM4im7Bx6EPjTuX1FIspEQ8kyA9dxQLRXxKkzpv\n",
       "iV4zF8T8o/fNq955c1leVw8bTDfh63fc2Nh+G5ewlc9x6dGNzanbt09gtrRCc9zqfVAfbPv6Pcz7\n",
       "bgMbjk+u6hI2j1FLPIC+2sY62eGTjA3W6/aob+tu3SnMn9w0t4UMf3Gb/QDaX/m8Pzxx725cU3TZ\n",
       "8jtHvQfznwz2T1v3G6ytMe5QHJzUAAAAAElFTkSuQmCC\n",
       "\" style=\"display:inline;vertical-align:middle;\" /></a><br>"
      ],
      "text/plain": [
       "right_add_neq: forall_{a, x, y in Complex | x != y} ((x + a) != (y + a))"
      ]
     },
     "execution_count": 21,
     "metadata": {},
     "output_type": "execute_result"
    }
   ],
   "source": [
    "right_add_neq = Forall((a, x, y), NotEquals(Add(x, a), Add(y, a)), condition=NotEquals(x, y), domain=Complex)"
   ]
  },
  {
   "cell_type": "code",
   "execution_count": 22,
   "metadata": {},
   "outputs": [
    {
     "data": {
      "text/html": [
       "<strong id=\"strong_bound_by_right_term\"><a class=\"ProveItLink\" href=\"proofs/strong_bound_by_right_term/thm_proof.ipynb\">strong_bound_by_right_term</a> (conjecture without proof):<br></strong> <a class=\"ProveItLink\" href=\"../__pv_it/theorems/7431aecc8311aa4ecb4d739c0bf5a70acdc448060/theorem_expr.ipynb\"><img src=\"data:image/png;base64,iVBORw0KGgoAAAANSUhEUgAAAS0AAAAWBAMAAABnB9cHAAAAMFBMVEX///8QEBCIiIhmZma6urrM\n",
       "zMxUVFQiIiJERETc3Nzu7u6qqqp2dnaYmJgyMjIAAAAcRTyBAAAAAXRSTlMAQObYZgAAA5tJREFU\n",
       "SMfNVk1oE0EUfkl2s8lmk/agF6GytBqLFFos9QfaWhUsiDWpB/UgpNQfFLQEaT2oh14sCaKuIm1R\n",
       "xLWRqkVs0EMpiC7tQYhSciioRWURiygYgihoTs7sbLK7yWwbiYgPvu7M5nvzvs57+2YA/oJ50wR0\n",
       "80l0D7pN61Dx5F1luu7psLHjdA+6uSWCF3jypTJdn3XY2EO6B914lWAU7+pgRbL8TQSm1InmmWCa\n",
       "PQ3nPezYMwQBGTkmK9LFSQR2kfjqwvDVloKHHfs2gT81MTFSWRpHdNhFgo/5wbqU4WHHDnQQ/IzF\n",
       "zlWmq06Ht3XDKmukseC1BjSc1fftuWjyKGHzdSJckUFAOcY4AhBfPjazxG8XdWyTAllrJMV/ikM1\n",
       "/J7MNqXNHiVsgamGRpRAlWCHVv42NlV/6IM28Fjf7zJPzhLwNeAatEaShRyDSmlKm/UlzR6l7Bsu\n",
       "FWJoFiXgwElvcvyT5rRTgJRYqutAj3m2gsCVAw5zhUzm0+pMBlF48GihI9pyJl1UtuwQ4RsAmyUQ\n",
       "0hx9r15PTwDStZAu0TVsTbyuyzEIk+GiSq4SC7rAa+SRzg7J7A9Dl1fdh94lgota82gJIjITBE5m\n",
       "cI/BuhRDl1C3F5Vj4jwabu+BM9Y8TirwrPgLi2ihO4vrns5uByfqKEyUAOKHkcsAm8My5D4OfaJC\n",
       "ldwNASC6mpsMXevdaj880D57JcdWW+t+Mgl9+lmoR/LJjWjJfN2b+gSVDUPg6THqHh4jca4mFktk\n",
       "4SsmXO+EekhoulxH+011Hw6kga3RknIn6syfErMEHtF/WrDsQCh5GW6iZ2txX6WyYSOEUKZdCoFW\n",
       "A46kk5TyL+1vK/TC/lgsJjqFq/Pm77EK/YdzHXjkUtz5rHQS8L1rh9dYIo3XjrXhmlosPoeobETf\n",
       "ipYPhAnAj3Z6UvIsyHjDsixm9MNKcJM8+g7KJl0RCAO/GXtxHY5wuedQlHZy0djtCHd1aOaQIl0w\n",
       "Kt8SVAE9YIDJghAm9ZUy6t6bnQM08x7DQsIh+3Obl+3ObcOjhO1W+e/Gua23895HbdCdHJ+fSaEH\n",
       "7KxHhXcB99U5JdFe0MWf3N2A1/AOScjjUmHhOCx5ZlDuOTQ2l/aIxj3HbHrjS/KSB5WFE9VX4Sdr\n",
       "X2XjcF/7DMu6F8bLuxcytS04kERQeuH1SW5lT7GTp/jFCUYt8x7t/6N79Bsd5gXyD+atsqyurpfw\n",
       "P5jrH8f7DUt3Bdsbns+RAAAAAElFTkSuQmCC\n",
       "\" style=\"display:inline;vertical-align:middle;\" /></a><br>"
      ],
      "text/plain": [
       "strong_bound_by_right_term: forall_{a, x, y in Real | x < y} ((a + x) < (a + y))"
      ]
     },
     "execution_count": 22,
     "metadata": {},
     "output_type": "execute_result"
    }
   ],
   "source": [
    "strong_bound_by_right_term = Forall((a, x, y), Less(Add(a, x), Add(a, y)), condition=Less(x, y), \n",
    "                                    domain=Real)"
   ]
  },
  {
   "cell_type": "code",
   "execution_count": 23,
   "metadata": {},
   "outputs": [
    {
     "data": {
      "text/html": [
       "<strong id=\"strong_bound_by_left_term\"><a class=\"ProveItLink\" href=\"proofs/strong_bound_by_left_term/thm_proof.ipynb\">strong_bound_by_left_term</a> (conjecture without proof):<br></strong> <a class=\"ProveItLink\" href=\"../__pv_it/theorems/37153e55182d63e323d55eda09bd3c83e3746e150/theorem_expr.ipynb\"><img src=\"data:image/png;base64,iVBORw0KGgoAAAANSUhEUgAAAS0AAAAWBAMAAABnB9cHAAAAMFBMVEX///8QEBCIiIhmZma6urrM\n",
       "zMxUVFQiIiJERETc3Nzu7u6qqqp2dnaYmJgyMjIAAAAcRTyBAAAAAXRSTlMAQObYZgAAA9dJREFU\n",
       "SMfNll1o01AUx8/apGnTtNuDggpK3HQOERyKXzC3qeBA1EUf/ABhY36goGPK9EF9EEFpETV+oEMR\n",
       "s02mDnFFH2QgGrYHocrIw2AqKkH8QMFaREGnD56bm7S5XbpNKuKBf3Nvc8/Nj3vOPfcC/AULGVTe\n",
       "Fla9Pbyt15ZJOi8L47phK4/t8vbwtoBK9Zh0PhbG9cFWHrvt7eFtoknVRlb1SEFYkUoql91xdyQ5\n",
       "236gOB6uQMvuXh9VVEPHREFcgkqVj0ssyTSHlmQ88nG1U0WS3d0XCwvjRVv5uOCN05iVzHrk44rW\n",
       "Un2PxQ4XxlVmq6P8/ByZ5TrXPx3j0W+v2yM56yGWyXBGY7hCVfOmYPAqqbYDxMf+NjfKu5NUoh7Z\n",
       "J5gMFzcZPuPjFcVaZLg8JK4E5rLrtUyNpjGAJtUKK/3z2L2Kra+tRpD9f5W7c4hK0qRhTmW42g1Y\n",
       "TGaxOs0Jt8dlvwkxhkucCn7cgOEWKgF83kVOvD/f8EmQlEdybWp09yZQiRCk+3ogldqbSr3DVo0G\n",
       "+/DRYE3n4sLRWpEMX8hmTaXeT0ulcEL/MAj4LT5NJRmC91o97e0G5HpujOC6wAbe5gIolnPyfhKI\n",
       "3xwuCGXjSEbXa/w3Zr2KjkCPkuUKmRvwz87yt1bxWFCOr7hyEDSO1BjCpWe5pLL1mI6dx7C5vBEO\n",
       "snHE7yssl/gLwvgFqMvNezK6GnwlDFePDg9JTrZQQXwbuuznhwmG1izgFpWKtXUQBco1vzLLNTtg\n",
       "tsIta9vrw3wJm/dhbS5OwHD9hIDZ6+S9q04Qj+MQbGS5EtCMZ6mT93AX4fyVPEHk4RMZcakOKqDT\n",
       "4vLvaHXlvRI1gJ9qBeVai885Jfqp6hOn4Qobx6Mw1IjLXZVbV4nHQqg3GK6gHDkgIYpOZWVFUcJH\n",
       "4X9Yv1XQBBtjsZjsk84OuvdjMe63gVrS8usBJyp1VF2lHUsNlqurdHMTjn6bew7VWe9qVHY/Ns28\n",
       "MANrqkIFEVz7HjX4nISAT/NkSCtMhACNY3iL5uJqAAXExcRLqC1SxnsOtXidXCTDvOr9dVt0L6gN\n",
       "a6BNuyqZEj5gP5cGSaH5lczmfSg9ANgL7SQgSv0o53Z3vnM74xEwxa8Ot+ZxbtuFuenOUliX6Brs\n",
       "S+IDVlZg4p0gFXFA76zOcIl7Vs8hc4SOq+hxKjNVHEY9MzzuOXEQjKA82j3HbXbhS4hqEBPFh/mV\n",
       "ecXWVT4ON61NNa57YdzrXsiVLvAcHFSpRl54w2pAXztieO4fuzlznPfoyB/do5/Zck/gPLgX+phc\n",
       "a57A/2D+f/y930ifELLiC/tyAAAAAElFTkSuQmCC\n",
       "\" style=\"display:inline;vertical-align:middle;\" /></a><br>"
      ],
      "text/plain": [
       "strong_bound_by_left_term: forall_{a, x, y in Real | x < y} ((x + a) < (y + a))"
      ]
     },
     "execution_count": 23,
     "metadata": {},
     "output_type": "execute_result"
    }
   ],
   "source": [
    "strong_bound_by_left_term = Forall((a, x, y), Less(Add(x, a), Add(y, a)), \n",
    "                                   condition=Less(x, y), domain=Real)"
   ]
  },
  {
   "cell_type": "code",
   "execution_count": 24,
   "metadata": {},
   "outputs": [
    {
     "data": {
      "text/html": [
       "<strong id=\"weak_bound_by_right_term\"><a class=\"ProveItLink\" href=\"proofs/weak_bound_by_right_term/thm_proof.ipynb\">weak_bound_by_right_term</a> (conjecture without proof):<br></strong> <a class=\"ProveItLink\" href=\"../__pv_it/theorems/e54a5b8bb04f198fa80ba7b0881923dbefe2ec530/theorem_expr.ipynb\"><img src=\"data:image/png;base64,iVBORw0KGgoAAAANSUhEUgAAAS0AAAAWBAMAAABnB9cHAAAAMFBMVEX///8QEBCIiIhmZma6urrM\n",
       "zMxUVFQiIiJERETc3Nzu7u6qqqp2dnaYmJgyMjIAAAAcRTyBAAAAAXRSTlMAQObYZgAAA69JREFU\n",
       "SMfNVk1IFGEYfnd3dmd3dnb1UJegGLQ2EUlJLAI1K8hLumOH6hAolkFQIqEF2cFDxG6RTREqRTRp\n",
       "WHlolzqIETXYIdlC9iBUUjJIIgXJEgXlqe9ndmdmZ8aMjeiFx5nPed7vffb7nu8H4C9EIE1hH0HJ\n",
       "PsM+JjSouPGhMF33NTjEcfsM+/BJFK9w43Nhuj5pcIiHhvfNYi7DPjiVYgiPal9BskJVFIapE4wt\n",
       "PtfiXgq5DCf2JEVYRonJgnSxEoVTJa4466rtaT3DiX2HIpQaGxssbBoHNThVgo+arM6kIcOJHW6g\n",
       "+BGLnStMV6mGQO3WdeZKw5HrFej1BWl4+xuMGRY2VyrAVRl4NMcYHQDx39dmVvh2WcMuKZwxV1JC\n",
       "p1jk4TnSiommDAubZ4qhEk2gSrGH2N8hxsuOzJMXv3nkTQull4JbD54+cyWZX2aQlcbpUiw3ZljZ\n",
       "Nz0qxFCri4IFt/0mxz2tTrt5SAkWXcF5E3ENhWcZWMzll5YWNywttaEewE9Kt1Lem5Qhw8qWXQJ8\n",
       "RdOdoeDTrP1YvZ0YA6RrNp2vK/QF7HS5+iAh5jm5SDDogmc79AwbdlT2ftd1BdQD6H8jkQWyedRE\n",
       "EJmJACszeI/BuhRdF1+6vwPcRNbuNjhrnseEAs/zV1grKd2Y/QXNHbkMG3Y9uNGOwnRRQPwoGvEe\n",
       "7zKWIXeyaNHwRXILhIHqqq7SdZX71G6ml7wqy95is+8TSejUzkKtUlCuRF1mfY/j0PlshpUNF8Df\n",
       "pvseHiNxniovlugFMhY3GqEMRoguz7Fug+/FcBq4KbzcA3e73Fnzv6DwC6HTvGkEoskrcAs9a/U5\n",
       "HxDBiQ3bIIo841EoiAdcSXcb+faT/K2FdjgYi8UEN39txrgei9Av5Kbw9uhRfNnJaqTg2jcNbDRV\n",
       "Gi0ZrsPuXMi3ri0b0Xei7sMiBYTQSCck/6yMByzjxYxuWAs+Oo/Bw7JBVyvgjC1IGNvgEld7DnXZ\n",
       "nVx27HqEexpIuKTWJhiSb/Mqjx7Qw2SAF6m/UrrvA5lpIK25NLBi1Pnc5mT7c9uYYWH7VO6bfm5r\n",
       "23n7ozpoSY7OTKbQA/aWIeNdwvvqtDJSn9PFndxXQft4gjL6cx3HYcUzg95zuMUzOMRchmUQ035B\n",
       "v+cYQztWk5zkR7ZwI3/lPvnze3lAluGq7oXx1d0LmZIaXEiisF54g5JPac5Psug6wairvEeH/uge\n",
       "/U6DsYPsg3mvOOsKonUauwhNr+F/CM8/rvcLhUYK1mRsnLAAAAAASUVORK5CYII=\n",
       "\" style=\"display:inline;vertical-align:middle;\" /></a><br>"
      ],
      "text/plain": [
       "weak_bound_by_right_term: forall_{a, x, y in Real | x <= y} ((a + x) <= (a + y))"
      ]
     },
     "execution_count": 24,
     "metadata": {},
     "output_type": "execute_result"
    }
   ],
   "source": [
    "weak_bound_by_right_term = Forall((a, x, y), LessEq(Add(a, x), Add(a, y)), \n",
    "                                  condition=LessEq(x, y), domain=Real)"
   ]
  },
  {
   "cell_type": "code",
   "execution_count": 25,
   "metadata": {},
   "outputs": [
    {
     "data": {
      "text/html": [
       "<strong id=\"weak_bound_by_left_term\"><a class=\"ProveItLink\" href=\"proofs/weak_bound_by_left_term/thm_proof.ipynb\">weak_bound_by_left_term</a> (conjecture without proof):<br></strong> <a class=\"ProveItLink\" href=\"../__pv_it/theorems/7aa592ba0e6c57903b3885bfb8ec9b780eb642200/theorem_expr.ipynb\"><img src=\"data:image/png;base64,iVBORw0KGgoAAAANSUhEUgAAAS0AAAAWBAMAAABnB9cHAAAAMFBMVEX///8QEBCIiIhmZma6urrM\n",
       "zMxUVFQiIiJERETc3Nzu7u6qqqp2dnaYmJgyMjIAAAAcRTyBAAAAAXRSTlMAQObYZgAAA+tJREFU\n",
       "SMfNll9oFEccx3+5273d29u75EHBFiprojGIaFBSW4gmVTAvalYfrIKQEI0gaIgSFWofpJRyaTGu\n",
       "bUmCIm6MRM2DOfRBIkUX86CcEvZB8A8qi/gHBc+jNKDRB3+zs3s3c9lLU66IP/je7OzOb+ZzM7/f\n",
       "zAD8Dxa1qYItZgR7BNuoJ4dUHpXGdc5TEdsV7BFsEYPqFqm8Ko3rpacidoF5XqjnPIJNcaj6yawe\n",
       "LgkrXkvF2EW2omq5QW9oOQ9moTW2dp0qYaJjqiQuyaAqxqVU+FG1ws57FOMaoIqnh4f7SlvGPk/F\n",
       "uOCph9WRYjyKcSUaqd4mkz+WxlXl6XT1n4s1nuuPsXm4HmPus9jTyHgoVRocMzmuaP2yL3Hxaqna\n",
       "Abr/fWxhmm9HqBQrvk9yOC7hC3iDxWO3ktRZD1WogKX8fH1nJLK4gA7VGjf8i9jlmu1P3AeZn3ku\n",
       "UQ5RqaY6KRgc14AN35BeaCouYj1OhB1IclzKVxDGfmOdVBKEgjc55a/ldkiFtDaFK/aEaziLSgGZ\n",
       "4o5nMnszmef41GDCPixaaLu7acbDLNPgb5KsmcyLuZlMK0B4EiQcS8xSqbYUPFf3RocBuR7YhVzx\n",
       "1xDEBVCuFcT9HFAm8lxw9VvGo9kUJ7j5KjsMI3qeK+psxpeD1c/czaOuGj8J1SCZAtljCJeV51Kr\n",
       "NrVDyMVa3Qo/8OuI4+s8l/IBYjgCNPmvN7TnPVZBqILjGrHgGonJTiro3oE97BcnCYbZIWHSqOXm\n",
       "RkgA5Vpem+daFHG6BBcBrEmxgo/7mLkUO+C43kPEGfXjntiWn3Mev4DcynOloAPPUj/u4RLChWtF\n",
       "giiCOxfHm6AGBl2u8M4uJu71hA3KTZLu0TOdIT/4x6iaU0fhJL+OP8HdVpzu+vya9+q+x9fQbHNc\n",
       "shY/oCKKReVGRVkqROHfub/10AbfJ5NJLaT+fofNx3LMN+Um2R7DVsSPpiaqocrTK22ea6hyaxv+\n",
       "i2eFodvkfmsw+HxsW9A7H/dUnQriOPcjhvyALIGYFUmTLpgNEbqOsW0mw9UCxGMJgkmNZfpMz6HO\n",
       "oJOLRFjQfn/WE80Fo2U99JunVEfFAvYLWVB1Gl/pfNxHs+Pg1h7bIOnN05zbw8HnNuMRcZR/fG4z\n",
       "4Nz2Nua2iythY2rozvU0FrC2BgPvN7IjjluDq3Jcyp51i2kfV9CjJ9dVN0x7ZtB7jvLiIDHd85Bs\n",
       "WZvunsOad6ymFEPGQAlhfOU+yYX+592kmtG9sDvoXihU1gU2lg2qqRfemBGxNkxpXvhit+DM8B4d\n",
       "/0/36Pue2A78QnhoFeeKYZ4mf4X1t+FzsPAnHu8jgm4VrZ0AnLQAAAAASUVORK5CYII=\n",
       "\" style=\"display:inline;vertical-align:middle;\" /></a><br>"
      ],
      "text/plain": [
       "weak_bound_by_left_term: forall_{a, x, y in Real | x <= y} ((x + a) <= (y + a))"
      ]
     },
     "execution_count": 25,
     "metadata": {},
     "output_type": "execute_result"
    }
   ],
   "source": [
    "weak_bound_by_left_term = Forall((a, x, y), LessEq(Add(x, a), Add(y, a)), \n",
    "                                condition=LessEq(x, y), domain=Real)"
   ]
  },
  {
   "cell_type": "code",
   "execution_count": 26,
   "metadata": {},
   "outputs": [
    {
     "data": {
      "text/html": [
       "<strong id=\"elim_zero_left\"><a class=\"ProveItLink\" href=\"proofs/elim_zero_left/thm_proof.ipynb\">elim_zero_left</a> (conjecture without proof):<br></strong> <a class=\"ProveItLink\" href=\"../__pv_it/theorems/2dd23d04c75d2f704593de0f7c1c406ebaa8f5ce0/theorem_expr.ipynb\"><img src=\"data:image/png;base64,iVBORw0KGgoAAAANSUhEUgAAAKkAAAAUBAMAAAAErwC3AAAAMFBMVEX///8QEBCIiIhmZma6urrM\n",
       "zMxUVFQiIiJERETc3Nzu7u6qqqp2dnaYmJgyMjIAAAAcRTyBAAAAAXRSTlMAQObYZgAAAhlJREFU\n",
       "OMuVVTuIE1EUPUlmNpPMTNbCShCCv04YtFVwWcRKmMZPZwgudhILbdYilUxQYSpXUNisW6yEhQkr\n",
       "FisLBsVGQVK6C0IaBT8Mi5VEC++bN0nem7y3rBcOuTkv98D9BtjLSn0OtW3q6QFzPmvinnM4J9+p\n",
       "XmdC6OgPzPmuUf3G8QNrKoHyQBnE6Mcs0aZa1PUSuAfgpAIb0vsbdRjRlTZl2FU/F8MEVg32UKW6\n",
       "og4j2n3f6SxpCrDEMVuD8UelWjmnDGP07yC4q1E9yhF5MH7JqqUzpw5Rjl52Zsb0AtDSqD7kWO7B\n",
       "zKjOhZVdypNV24kT82R6PtNL+8GNeuoucix7MP9KquXDKFCH7Uam+xO6iPxozstbp/vlq23zZ/r9\n",
       "IMeoAh/j+FYcfyWvMESxCpi7sqpAO/3iiP202YH7FNiSValbttytXBORP60q0KXBZSJWT3yBwWpz\n",
       "/iVRcgWsJlx5sqIeXtOH0ZjUtZahW9cp99vmEBUWsLM91a3pLYi6uGmHvFuCifQLki54ZgOr7OWV\n",
       "cDPepljEii+pWlX3jkNRPVlVpGepwLluvoYrQRBUn1ya/OpCivUjC5BnoH780TEadz8zAwLt0s5G\n",
       "obXTnkn6+Ixe5Y0VTN6tNfWYj+lceO0iHD9ZD398NdLrIlhnn9eFm1HfOAvcZ+56fG+cWAv6xdvz\n",
       "EoqWp7qqrrbGrPB/6P3+w2xr6X/q+61FY02ifQAAAABJRU5ErkJggg==\n",
       "\" style=\"display:inline;vertical-align:middle;\" /></a><br>"
      ],
      "text/plain": [
       "elim_zero_left: forall_{a in Complex} ((0 + a) = a)"
      ]
     },
     "execution_count": 26,
     "metadata": {},
     "output_type": "execute_result"
    }
   ],
   "source": [
    "elim_zero_left = Forall(a, Equals(Add(zero, a), a), domain=Complex)"
   ]
  },
  {
   "cell_type": "code",
   "execution_count": 27,
   "metadata": {},
   "outputs": [
    {
     "data": {
      "text/html": [
       "<strong id=\"elim_zero_right\"><a class=\"ProveItLink\" href=\"proofs/elim_zero_right/thm_proof.ipynb\">elim_zero_right</a> (conjecture without proof):<br></strong> <a class=\"ProveItLink\" href=\"../__pv_it/theorems/221065f97ecdd8b266821eae38423f27592c633d0/theorem_expr.ipynb\"><img src=\"data:image/png;base64,iVBORw0KGgoAAAANSUhEUgAAAKkAAAAUBAMAAAAErwC3AAAAMFBMVEX///8QEBCIiIhmZma6urrM\n",
       "zMxUVFQiIiJERETc3Nzu7u6qqqp2dnaYmJgyMjIAAAAcRTyBAAAAAXRSTlMAQObYZgAAAkFJREFU\n",
       "OMudVUtoE0EY/prsNslmd+3BkyAEXzch6LVCpZSehFx83BqCIl4kHvSih5xkgxb2ZAUFU3uoBHFD\n",
       "RSRSMFi8KEiOWlBysIIPFvEkqQf/2Zk8ZnemFX/4YDPz/d/M/K8AO1muy6G0vK9ebxN67OOjxvGR\n",
       "QMLso6+BS2qnSTrtLfv4plH9KpCw71j18UTtZNFF77KH1tT7TpFjZGtiYwp2D3ZB7fYKcBv0npZ6\n",
       "O+NzJFSzZeT7sKbUbst07Jtmc0kTgCWBhOqeMoxt4LPazZ0BfnveDY3qQYHc9LF9kmpQhPEL2EjU\n",
       "TES0KWgXgLpGdVHgpO/+lFQfdGCS6qeoHMLIovBzokPpmo2SNlaGty9WxOd1Dms/0jVZtQjzD/A8\n",
       "nn1OzFcpHUgN6txaP961zjXMH+L3Xo50HxmW7ndheCUMv4wisBBTFUST7mt3M4PV9+0mnPvAuqw6\n",
       "UUNQimcrv51UFUSmmuudoYWVI1swWGzmntGSHIGgg5exyqrB6QPzY3EtY0g0KAKon6e3XzX7cBlp\n",
       "80MiW0ELl0XTS13AszVmgsiyhacknS6aVaywnRftEWuDI1twrtnSXekFy/TU6ZiqIKY7LEgU4IlW\n",
       "qoyznucV7p0eseY5rMrhO4dk1ccHqCCxFa8BTnRZEhzq2cDPbjYmozw+pN3dOlaIVNVlvjrMnr9w\n",
       "CnYpao8SGw+a6dKUxqF+unAzKmsngFvR48KbpcFyHfrGw06TcNxSFNd/m9rDMxWW9YH//4dxNN5U\n",
       "mn8BM9SqOa7xEC4AAAAASUVORK5CYII=\n",
       "\" style=\"display:inline;vertical-align:middle;\" /></a><br>"
      ],
      "text/plain": [
       "elim_zero_right: forall_{a in Complex} ((a + 0) = a)"
      ]
     },
     "execution_count": 27,
     "metadata": {},
     "output_type": "execute_result"
    }
   ],
   "source": [
    "elim_zero_right = Forall(a, Equals(Add(a, zero), a), domain=Complex)"
   ]
  },
  {
   "cell_type": "code",
   "execution_count": 28,
   "metadata": {},
   "outputs": [
    {
     "data": {
      "text/html": [
       "<strong id=\"elim_zero_any\"><a class=\"ProveItLink\" href=\"proofs/elim_zero_any/thm_proof.ipynb\">elim_zero_any</a> (conjecture without proof):<br></strong> <a class=\"ProveItLink\" href=\"../__pv_it/theorems/5042f8480f527f34ad2acead14155493d0c0109d0/theorem_expr.ipynb\"><img src=\"data:image/png;base64,iVBORw0KGgoAAAANSUhEUgAAA08AAAAZBAMAAAAbLwheAAAAMFBMVEX///8QEBCIiIhmZma6urrM\n",
       "zMxUVFQiIiJERETc3Nzu7u6qqqp2dnaYmJgyMjIAAAAcRTyBAAAAAXRSTlMAQObYZgAABtZJREFU\n",
       "aN7tWm2IVFUYft2dOzt7750ZfwSlUoy7fSyUNChkpdWG0NIfHQvskxwW94dhMhWsmVHT9qPREG4J\n",
       "aoJ2LcocsxmKZd0f4dTmBpkyUBDGKgOWlcG0iEW7a9H5uh/n3jsz5+ANN/DAmTn7vu+857nnOR/v\n",
       "fc8CtCjRTZvharnCpW9TpaVNx9VhmgWlM3uFiNrL6mwqmhEwQNUrCmnUgoWIqmHB6WZEJfBXPFTE\n",
       "ap7WUIq+6Bgv+PBaqd/b5usDdCFhlIOkvppj547BYCGijmPB+WZE6WX0lTDDJCph0BpK+Q0OeFyd\n",
       "lXNgmX/sV/0a1hPLQUqkGWM1BgsRtRt/5ZsRRbS7Q13S37Lq2XtSjTalQMUn9Cs+F/QaJ4EZOa+W\n",
       "ue6zjKcb9QpiCl8fYj6SZdb4gsFCROGlopebnlF4vR0PlajNrIZBVCwL2jQniUxLebXN1bm+hzdC\n",
       "IoqH1NLHKmv/2s9gIaLiXxeLu5oHExPF4sFcqDFMjtZQiEpmITLDSfSclFfH/EevyS4IiSgeUksf\n",
       "X9l7YC+FhaO+vwqFl5oTlSwUXq+ESVRbmlbYMbbQlCGKs2dPVUpD5AInSfR3lyW8OuZjXpNuPKuW\n",
       "L54vM8gcRn8fQj7OdS1jBKcpLEzUAMDW5kRFMxAzwiQqVqU1Mg9+l9qkOHv2VO9UQOGJKp1XpyS8\n",
       "OuZnyNjUSSGn03ZU7zcSkxJE8Rj9fYj4UP8xS3TA4zUKCxO1gsQWbfTY/CmIqEg6KCDylJU1MRnx\n",
       "WaZ1fxXuBFDyokNK7RlUm6g0KJc4yVETLkh4JeaQyACMeE22oEG7HtqRq0dFB5nHyPVhQ2rlA525\n",
       "yRQhQ8Nb5gglqgPa0ORWKIN0fSrPfwkLs84Lbw4WtX6bSbeSHRkfZLDn9NJ6nwnPgbIkxybyzzfU\n",
       "6/43cJeC2FOoJ+v1Z+v1c66tz5HcC+olCa/YHA0Jaq31Wl0D0D4NHSl4eCn52+nDUxyFC6OnDwZJ\n",
       "wEd7DUoVQoYySWFhovQqn3w4NHYPHNHNdtMh6gS0jiUS5SYy7PP9bfBUhSfqOlD/QAs2Jzr3qb0/\n",
       "mND4YOIsji7EvZ61g5EgoubkoYQWW5/oiuIxcn3YkFr5QK9Rq9iScRHVWVvDvTq8sceEz1Jp3ZVC\n",
       "2qe0TjUljcYy4vNUBbQKt/WhiaxNShDF7L3heR7ifHj+N14G4kQRc5r7dJ1RWbb1oal9FMSJ8mDk\n",
       "+hAmKlnFC5OceDnaN8n1bV2HBDeTXlBosgI3hoffchMV24mmv7p4Y8af7LCFa7ue9mktGfYZeQIZ\n",
       "Glwwoc5AtDYqQRSxp1CbvfBexAeFOFHE/N1lVjDhLiiYKJVho2aIE8Vj5PoQJ6oXnYyYDC6YgE/R\n",
       "7/UkZrA9UqO5v2H98JMuojS8Qx/IrDUh6skkESFJBt5idvu0WIZTVdhn/LDBnV24DsH32Yp/SEs1\n",
       "HPiwhltB7ClU1+Nugf0ZTvIMvAZNvJIPl4KYp1ei1nLvwKHAOJaKD+r+FWXjs7xZCh4j14eXKOcZ\n",
       "S/xMi1ZjaUIGtFcoLEIUDjD2kIDnoJ5Vyfk/DJUxd/YcH9ZL4BFQPvdQgYWgUoBnfNohOkeJT+2Q\n",
       "QxRGjOsHXY/19/qHtAOjGrQaLgWx3zPimZcfdQ3wkvduq0ITr/TDUWBz1RgPinkRPWr/TTtvDNj6\n",
       "BjmXjoLH6O7Dv6JsH9aDWgwuPkHIoLEohkWIiptkTOmepLxQKAwhovZ2uIn6AdUFgNZzh4cKImTn\n",
       "7h0+LZbhExH77BzONEghiW9SFv2NNhC3RNYr2uXUXOMUknAwwWPk+hDe+pwD4gBQWPZ9lDqdYad/\n",
       "lq6oyENuorDFFGwveqkgQq0LN6cRaV6isOw0WrzE590IsxmUlLXxq40y9JyCQQUo+uyKQaMi5hWm\n",
       "midl+4L6aNi5jZHrw4Yk5IOEYq6kLGO+VuncBrAagNztfAcw4SEK5ikXq5gKZLfbtD6wUFuBZS/G\n",
       "8z4tknU+nmM+dxxzRgInOuxkhyaXR0RQhczkvCpzA6857JzNSAgYJSGt5q85GPMbDGUBQA8aPxRr\n",
       "RF7uhaiXqAdu7SZEIbvVhjIPfyygwgEsW/MN+LRYFklTn6Ce/GXAnnF55+Kwc+mfKRn8CKpI3lfS\n",
       "a1s+MJNmXRzueKX/sjHKQuphk3kreK7iNbq19hSGPCkk918mfYe3f0H20F7WCtKSKxSPz1l4FR9L\n",
       "QXyWXcWjITuFt1/DS9Ro9MH5gUlZ1wZx+zJ6kc9+Qb/6TdoK1IZ7NfxflXVvzjaYPBkcUdXouNGC\n",
       "KGon03p73/+BJ9iwfrYh4skQ+S+ky/u/vom74Gq57NK3KfsvcmiFx0wVYhgAAAAASUVORK5CYII=\n",
       "\" style=\"display:inline;vertical-align:middle;\" /></a><br>"
      ],
      "text/plain": [
       "elim_zero_any: forall_{i, j in Natural} [forall_{a_{1}, ..a_{_a}.., a_{i}, b_{1}, ..b_{_a}.., b_{j} in Complex} ((a_{1} + ..a_{_a}.. + a_{i} + 0 + b_{1} + ..b_{_a}.. + b_{j}) = (a_{1} + ..a_{_a}.. + a_{i} + b_{1} + ..b_{_a}.. + b_{j}))]"
      ]
     },
     "execution_count": 28,
     "metadata": {},
     "output_type": "execute_result"
    }
   ],
   "source": [
    "elim_zero_any = Forall((i, j), Forall((a_1_to_i, b_1_to_j), Equals(Add(a_1_to_i, zero, b_1_to_j), \n",
    "                                                                 Add(a_1_to_i, b_1_to_j)), \n",
    "                                      domain=Complex),\n",
    "                       domain=Natural)"
   ]
  },
  {
   "cell_type": "code",
   "execution_count": 29,
   "metadata": {},
   "outputs": [
    {
     "data": {
      "text/html": [
       "<strong id=\"strictly_increasing_additions\"><a class=\"ProveItLink\" href=\"proofs/strictly_increasing_additions/thm_proof.ipynb\">strictly_increasing_additions</a> (conjecture without proof):<br></strong> <a class=\"ProveItLink\" href=\"../__pv_it/theorems/b13f5cb6177cee438d7f92e37d84b06ef75e2f7f0/theorem_expr.ipynb\"><img src=\"data:image/png;base64,iVBORw0KGgoAAAANSUhEUgAAApoAAAAZBAMAAABjmZOTAAAAMFBMVEX///8QEBCIiIhmZma6urrM\n",
       "zMxUVFQiIiJERETc3Nzu7u6qqqp2dnaYmJgyMjIAAAAcRTyBAAAAAXRSTlMAQObYZgAABk5JREFU\n",
       "aN7tmX+IFFUcwL93++t2ZnbPP4I8pRjvMqU6Wjw6Lc22hKR/zrPAMgKXQwnNZFPQrMOuC2otjClB\n",
       "TVBGJdP1xy7FYf6Rbnel+ONiqUAKTxY0BYlNwiLvMnrf92bm3puZ3Z3l9lDKB2/mzfd99zszn/l+\n",
       "33vftwCVSnDderhTPBT/uu7KSqE7nLyWLbeSZn2xs1z3DqPeTuWoq1TWIHIljjQLeDlUlmYUT5F8\n",
       "zR9NiZezLPWwWosivZ2sjaGgZpfsu5scluPLIM0zKLpalqaSJaeoPg40y1mOaqzWpERjNfosBYfo\n",
       "IqmHTZrbyEW4pyxN2r0NxoFmOcs/GNUWVGoJY+4dnxvnxqxN4K5W2Wg/PR7mwmkE30Q1aKJnKNny\n",
       "4ya67pnxoFnO8nqj1oTmAr1GNHcxFz1pdfiH8XqCQTNyOp3eWmEWOp9O70+OC83SlsNJVmtD8yTU\n",
       "iGY0zs7TTpsvQZ/xkkET/kqluivQbEyl3suNC83SlutjrMLmgSl6FTTDc2ZMcmK63Dzbxq2/ubMK\n",
       "mkrzVKNhDsDnHjPwdrWQyB4waS4D2FiBZrATGmo1H0COp1nackOeVX8T/FaNbz6pRa85MEn/6BlN\n",
       "4LY121DwTjP8JnzIWhHrV8eW01PmqnQD4IJJcx6dqOoZ819cafpjOGvVqMR4msxyR8HltllWd+Vh\n",
       "FkCgxyNN6R7wEd0WEZM8DI2qwK0bgll4wSvNUA5eIW5IvFkeHXw6VuDxuA6/AxwxaYagnrhAgH06\n",
       "Nh0F1nwDUxLc6j0JrWOmKK9+d65qp8ksm+FjqmCpi7P6hA6rIdBGX0IpFq/cWywmnGOG1eEbhhAx\n",
       "sRil3xWLrxWLl0nLV4BMThDg3PHcTBDVShnFh8DHQzSjjt/xPh7ngvQ3wBKTppIXs50DA4/Dl4ru\n",
       "0zmagzDGSQiNqjllt4MmtRzNiio8zYkg/UGiI+nRN+t6IOMcEMlyc0GWF9RRX5/v1TcnWpJRmkak\n",
       "XwT/CEczXFjEG4h8sF2Hr9SYwmeWOwOJMcGkRtVc5BAMtK1py3I0qeVGjVcRIp18ePlaFTSJCx53\n",
       "TtaNecO9TEEmVw1N9D5zQZS0zUI3qZ/PN2nCxqVE6X76KzI9zcNGX9/HAs2GLURXmrHKmVdzwv5m\n",
       "5+MYMmqUoDro8E1qeUnzCkGFm4WkEQgWjlZBMwurZO2phI1mnIynNrxkVPPsmzcxzHfP5mYha4V0\n",
       "HUf20VkIviBPqjTip/P5Cyxv71MOvcTTlHGE+axziQ5BWxpIhTTdDsUXOnpRhklsgaHytTloUsvT\n",
       "9BZBxVyKYO2Fc4mck2amgDO10eA6GtTIWgVywyKmYL4hJgh8CdjT6aBJbVmWubu1g/QIxDrwhznb\n",
       "6v1VeIcc51g0cbbbfgR79isJid61D3IDwh4SmbagDZ6HwNc2XigECVuzIODoJTJ6c2pUbX857qBJ\n",
       "LffCBUHFDCmse5sXd8WdNEPofWvNBheUXVO33Bc+kLStkGYM2rzw7JDqjHRqy7LM3U0Z/B4k7QSw\n",
       "eV3ILPc8lKdrIZNmRKcvxMIr8Hoq1Uto7ggJNH8mdTKQ4SBk40WFRsutlw3d1Kh6qtWFJlq+C9oF\n",
       "FWdm6TnSjWFCLRXCgsBzpLOyCWPRfTMkadGkl8OUOZkOEsw3/c/a9zfJInVT2s6LCmU6ON5woYmy\n",
       "IRIbCRbGfTjYdIo0sQwT7LyKc9fDoimV2soSOjKfGo20XS3tSjPtxSh9m373rE4VaMqFXJgsn8go\n",
       "9y1e/khyc8ducVPgeh55EcVtunlAoTwPZZfAR2lafUwWfjFpGCXLn4P2zJKVNyI9ThXMkaw8Sa5u\n",
       "hXZM8aR2pCqjgQmuO3LA78gZH2GlFiBhOZ28AFmZ+DeQnM9B8+kHWyhNorhQCzThYTITLkPZ5tYH\n",
       "KM2FWdbXZMhIukONyt2/Sm0FV5qLzrqo8LvF4Zl/qtW8+N5TXrQ2v9VV1V8FPVAqDd4o0jSW+jh6\n",
       "Tk/12jNL/kpnOYH1EzpqxI0WjfSs2Eu3++xG2eNt4FdcDpXb7Z8MHIx/cl9Oa1B/xUbzaPCZSe67\n",
       "Hpy3Pzyb/3PEaHXprEV7ZU3sHYdN+1tSln5U8UV4mvngCa0STaZYthURZZ/s/G/AhJXLoRqapXbk\n",
       "xvZ/+vlH4X9S/OvW/gtz9gf+PgOZWwAAAABJRU5ErkJggg==\n",
       "\" style=\"display:inline;vertical-align:middle;\" /></a><br>"
      ],
      "text/plain": [
       "strictly_increasing_additions: forall_{i, j in Natural} [forall_{a_{1}, ..a_{_a}.., a_{i}, c_{1}, ..c_{_a}.., c_{j} in RealPos} [forall_{b in Real} ((a_{1} + ..a_{_a}.. + a_{i} + b + c_{1} + ..c_{_a}.. + c_{j}) > b)]]"
      ]
     },
     "execution_count": 29,
     "metadata": {},
     "output_type": "execute_result"
    }
   ],
   "source": [
    "strictly_increasing_additions = \\\n",
    "    Forall((i,j), \n",
    "           Forall((a_1_to_i, c_1_to_j), \n",
    "                  Forall(b, greater(Add(a_1_to_i, b, c_1_to_j), b),\n",
    "                         domain=Real),\n",
    "                  domain=RealPos),\n",
    "           domain=Natural)"
   ]
  },
  {
   "cell_type": "code",
   "execution_count": 30,
   "metadata": {},
   "outputs": [
    {
     "data": {
      "text/html": [
       "<strong id=\"strictly_decreasing_additions\"><a class=\"ProveItLink\" href=\"proofs/strictly_decreasing_additions/thm_proof.ipynb\">strictly_decreasing_additions</a> (conjecture without proof):<br></strong> <a class=\"ProveItLink\" href=\"../__pv_it/theorems/33fe702992d4698f6ef474ae4ff4837f71bb94560/theorem_expr.ipynb\"><img src=\"data:image/png;base64,iVBORw0KGgoAAAANSUhEUgAAApwAAAAZBAMAAABuh+PUAAAAMFBMVEX///8QEBCIiIhmZma6urrM\n",
       "zMxUVFQiIiJERETc3Nzu7u6qqqp2dnaYmJgyMjIAAAAcRTyBAAAAAXRSTlMAQObYZgAABhxJREFU\n",
       "aN7tmX2IFGUcx3/7Mre3s7N3/hGUJ8V2l+dBEcstJeFLVwdJf4R7Blkg3HK9QGWykWmdUtf1z15i\n",
       "DEaeCcHIUdpJ7aAc10Hp4pnSlbJIkInKkOnRBYuYRJ4lPW8zN88zszs760Zi/uDZefb3fOe3M5/n\n",
       "/VkAL2vY+CbcsmosvHGztyhyi1PVtv0/xXn/+Uql0SJNN5LFVFf3BEB8ugvjNPDXM5VxempqtMMV\n",
       "I+9hqR625/Y6BXpRdMjvZNGAiCgrBOd32DdTGaenpmaclSL/ylJd7Fyd4nzh8DQlEVPDxLkDd6uB\n",
       "yjg9NTXjrBA5nqRJsH3lgrkWxBIsc1V0uMs8CxSb40Aafzbr6OOQibNJQzm9Mk5PTc04K0SOqDTV\n",
       "BWd4tk445XlW9seHyGUlegXYZeKMT42ODntMRZ6amnFWiDzMUl1wKtk64YRfzMyiKXo9Snp8F8MJ\n",
       "f+Zym71mdi9NzTgrRG5jKbq0s8UPTk5v4mjqa9N5PkrrQj84D7WmaWaStdKjZsmF1iUoWtLE+TzA\n",
       "kBdOL03tOMtH3srSI2rTRT84Ob2JIz8jX+Ec0U3wvg+cw3qjQXNnKc3F5gpOvqblVYgbJs5uMi8F\n",
       "6aB/3h0n1fwbOEnkcMmlcBNN8p0QQnPV09XiZPo2HsdBDS5xjkgBXgZpoFqcm6FBp3TGyfd11ngf\n",
       "m4XmBMSyJs4IBBFpiQ76VCW9dhjuzthwUs112njHsz87cNLIky6S22gKzUIkAU8uJr7jpdKrpdIF\n",
       "Z+y5AqqHZ3B/LpWm7yqV8IssB/kvzvEwmkCkFBlRbV5hFrcKQrMWnV5SZ3M4QwbkCyBdNHEqRX7f\n",
       "s3dyGXypaCHNhlPU+Db5q1QxqMBUQsRJI//mImE4AwOQR8PWimpbJ9MLreschK9yjjvIfJ+tsnUG\n",
       "5tZyvXSssDo7Wnau1G04o8ZT3HJvy04Nvk4kFXtnFzT+7eTEKCBWp4oiThr5iouEdXZU9QfBB06m\n",
       "Fzj9bTYw5sBt1QdOFNS0FcJU1FzELT1sdXYYeg4FbicaNP1148zY2DYOJ9HASLtzaJU716WtudL5\n",
       "UMwXxiMzZlWQU6nUEhtOElm61K7NSfipKK/DOrRTrh4n0T+a4Tldhl1FgS/EqseJmIEuk8XBWWGh\n",
       "1NyFRmvbVAT7UVClGfftUNigu+gx5fM1HE6skV+XUA2/xP/e7nSvBk0ku16aJ5YSH9rQEgFilUqK\n",
       "rZNEDvYHkw7JJE2NifgGxdk65WsYncEytgKqL8zynF6Bd3nHgyA/4MRpBcwbXEEoAyNpTAdgqbCM\n",
       "byg2oicOFSycaGKCnWTC+kzJyORtxqAwyeHEmlBSysKaFp5XClajJyA/OQBpsRT78HWEsAq9sN4x\n",
       "FZHICIHhkKygSe5buP0el86+AT9ahmXsnLE+ujfLcxq5ryis64+dcOnsVsCI0Lq/P5PAdPi1D9lk\n",
       "yp3H8AiatnDGccMcpFVblN7I5QYRzo8jHE6sCehBFK+fJ7IA2lkugLuCUBpgE+DqXC6XCCrbfnDi\n",
       "JJG7QhmHhN9kVt3ZzTZaphdzjqo7OwuKqkTOuup2g4WT1Oks3c6rkKGtM7zKcd6ZVxtPaQIwtDje\n",
       "OhprZfc6cGJf/DTqEbQnx9ZoDpxEpgV0h4Q/ArFwjpbDyRXkP2HPp4ljveaG0yFzleO3UdzBH+Jx\n",
       "xoxC9D2AHoBv8FfURE47cAbU3icIsB0a0uIPdJkvXS7GurEPbVuTXCnzfYhrLk0HxqmCK86IdtJF\n",
       "MgS2HdO4v5XEAaWqw+Csr6A9rgd0hLohtM61qrQAoAO1aNQ/w2910QbF4Qz37VtGcPbo0nzoUaX5\n",
       "6JbH7m0r4p1ijx7tPKFxpaYPrxW2YCLHCyPLXXFKawsuEvvx8Qdv9/l680+/rUIUXfxHwk/QDii3\n",
       "I25UeZykrugI2pEbdGwybdZv7Z3oLbgusl2mjytlOXxEHEQDo/MpFtkXXg7JDffnBuISd/9z4yf0\n",
       "+NMCzomGx1vKHIHM2arfddsfJhP00qcxH1/KcjNwU5g7Hd7sOIsNR1RPnGSSmLvFxSfkoh8ZNwnO\n",
       "I6ovnOUO6K7vf/b4pAr/Ewtv3PAP/KsET5dZ/MYAAAAASUVORK5CYII=\n",
       "\" style=\"display:inline;vertical-align:middle;\" /></a><br>"
      ],
      "text/plain": [
       "strictly_decreasing_additions: forall_{i, j in Natural} [forall_{a_{1}, ..a_{_a}.., a_{i}, c_{1}, ..c_{_a}.., c_{j} in RealNeg} [forall_{b in Real} ((a_{1} + ..a_{_a}.. + a_{i} + b + c_{1} + ..c_{_a}.. + c_{j}) < b)]]"
      ]
     },
     "execution_count": 30,
     "metadata": {},
     "output_type": "execute_result"
    }
   ],
   "source": [
    "strictly_decreasing_additions = \\\n",
    "    Forall((i,j), Forall((a_1_to_i, c_1_to_j), \n",
    "                         Forall(b, Less(Add(a_1_to_i, b, c_1_to_j), b),\n",
    "                                domain=Real),\n",
    "                         domain=RealNeg), \n",
    "           domain=Natural)"
   ]
  },
  {
   "cell_type": "code",
   "execution_count": 31,
   "metadata": {},
   "outputs": [
    {
     "data": {
      "text/html": [
       "<strong id=\"commutation\"><a class=\"ProveItLink\" href=\"proofs/commutation/thm_proof.ipynb\">commutation</a> (conjecture without proof):<br></strong> <a class=\"ProveItLink\" href=\"../__pv_it/theorems/65da129c28b73a1ee244430453bb8da40cf2e2d70/theorem_expr.ipynb\"><img src=\"data:image/png;base64,iVBORw0KGgoAAAANSUhEUgAAAOcAAAAVBAMAAABPgOQBAAAAMFBMVEX///8QEBCIiIhmZma6urrM\n",
       "zMxUVFQiIiJERETc3Nzu7u6qqqp2dnaYmJgyMjIAAAAcRTyBAAAAAXRSTlMAQObYZgAAAwBJREFU\n",
       "SMe9Vk1oE0EUfsnmd5PdeBAEQQlWe/IQ6tGqFZGepPHgz60hKCKoxIOCP4eIIAkq7MkWVNiagxLE\n",
       "LBWRSKHFHgRFCXhpC0qgtmKVpRQPmqr4Zt8k2dndpOrBB99md+a9+eb9zJsArC3RGsFTYpp77G6n\n",
       "laocdfbxrivpAw73xAZ8nHQNy3mQr+S8DEIa4RX7WOpK+onDLfOIR65RFZdVU176cp0wyuKX78ap\n",
       "pAi2kCb5yyoinnQavEUkDP4xLkw9J6g62hndSMMawU0aaLDdr3MaXEAM6Z6kYwTlZbk80jW6Ixxu\n",
       "0riVuA/OumOjL8CTVB0gfCsULncl7eGI9vdtFEnVbA/GaNqh72epWNyyUyQl63iKcByg2NQPmB6k\n",
       "Nzn2auqySFpZkr8DvLecNi1hfBE8XfIvvaIJpGSt1An7rHri0tp17MaJLH+9RJA3gZQXSSd1WAF4\n",
       "6qwB9D7WgETSTsqtYzlCGPztg/+ZzU/sqMlH9eAXPraeIDUgnCSfPm42zQy+7gb5B8Cwg9SHOZPq\n",
       "UJkCeGOaZ01zEVrWwWVCvBZuG2C0YKZaBuUOwIRI6stDJS16Og+BVW9SPKZDht1Tbt0kjdYP42Cp\n",
       "dwGfwZVePcDysv8JTojhxZ1POqr3J3MABm05zfDwJmqwR7eTcutAjgDFYxjSc0F25vwX/SmV6czN\n",
       "ugqpYsAZ3mibpF9hrMYLySaskBIDmESBlKybhQSPkVlKBRl/JKnUS0znWRWE4pq25s7HRU9Pw1V8\n",
       "9jtI2ZEI1SIpgZRbS1MEq8x8hj9jpUPKHCkUCsnbh9qLDBLk7LZbW0XS0nZWggsOUhY+ue+12By4\n",
       "tZomgILBr2iROfxJ6D4jxHSke6i3Zhuk5XJebRC8O9J9DioubfgAjOphfQbiaat/pK3m7N3wZd0e\n",
       "Tc+G35KyV8PnIcmO74KDRvAUxvs6G3hoXks3J4tga1oucV9tEa2TbvNqswudLD/m9M8u8daWXJd4\n",
       "B2HbcWwppv3D3xXlb/6uzHLY7eE/yW8lN+oE94YhBwAAAABJRU5ErkJggg==\n",
       "\" style=\"display:inline;vertical-align:middle;\" /></a><br>"
      ],
      "text/plain": [
       "commutation: forall_{a, b in Complex} ((a + b) = (b + a))"
      ]
     },
     "execution_count": 31,
     "metadata": {},
     "output_type": "execute_result"
    }
   ],
   "source": [
    "commutation = Forall((a, b), Equals(Add(a, b), Add(b, a)), domain=Complex)"
   ]
  },
  {
   "cell_type": "code",
   "execution_count": 32,
   "metadata": {},
   "outputs": [
    {
     "data": {
      "text/html": [
       "<strong id=\"rightward_commutation\"><a class=\"ProveItLink\" href=\"proofs/rightward_commutation/thm_proof.ipynb\">rightward_commutation</a> (conjecture without proof):<br></strong> <a class=\"ProveItLink\" href=\"../__pv_it/theorems/f37c03e9b7038dce3ddd5983d001bfe3ce57836e0/theorem_expr.ipynb\"><img src=\"data:image/png;base64,iVBORw0KGgoAAAANSUhEUgAAA2AAAAAyBAMAAADIEqX2AAAAMFBMVEX///8QEBCIiIhmZma6urrM\n",
       "zMxUVFQiIiJERETc3Nzu7u6qqqp2dnaYmJgyMjIAAAAcRTyBAAAAAXRSTlMAQObYZgAACVlJREFU\n",
       "eNrtXHtsFEUY/+6ue4/du5aoUcBojlaQYJAGlDdSNUr8Q7jGRECivSD84SPk1IigRI/6Bwf4OIJB\n",
       "MBEOCRBKtGfFYBMDJwhEELlgjI+INgEf0VgLtIQWEWdmZ687O7t3e+0c1xUm6e7szOw3s99v55tv\n",
       "vv1dAewl16VLGShn+hyu4CRH1fOxS6ft3uJq3ZAq55CDmSsZMJipnnZs+NA2YJHyjnjEFY0XhNpo\n",
       "pt4hgCmD2Ot3/5ewKEnLqtccBtjmOtamxwWtDctjJRmutLy2qPZzrlXPTxRUgFMAe5W9rEwKkltZ\n",
       "W5rxVqWLa39BPX1Q0MQ4BDClh73+mm8RtrrVtKLFqNgWyNfMnlBd6axUYSG6igr6fMGwpQqWOQow\n",
       "n2EiLBUFWE6xggE7BEUBFqSWWR5kqYK9SScB9jNrAgMxUYAdgtIAdrI4wHKW+VShd9YhgC1hL914\n",
       "8Gv3D0sVAVhg6tihvK5+rZ5iUN6+6kgRgAWrh5t1NfxCMYCt3degWeb91o59j4MAkzrZa38Wmf0h\n",
       "8DeqidsF7O5kZQdADasr+d9Uc5JR3ttpfxvMsQtY4CV4A82PiLErP9LuHLuAoSd5MwXDyM0/kbeg\n",
       "nSR2GZDPOAgwj8G0+9ALuTkLE0EaF7MJmHwTeBC4c1ldIWemKsxodRl40w9NsAuYLwNPoSu+qzYo\n",
       "LESrQE9yFxJF/Pbd1kpodxBgrqjhGj3c9BQ8i97OGH0lf7u5vT3K3dhb4ekBn4bpV+3tz7S3/4rf\n",
       "hDZozjAFxPDMMDSzEooHYd5VppAQXQUSglzAZiKqwVoJY5LOAawhywM2GOQuDTAbM8wVh2Z+cUKL\n",
       "/ay0vsAV7wXMxgwbbNVVnQ0hWgV6kk6teR7ANmWdA9iYJGcS5X9A6SgCMDSR9gLcE2V1VZXVJgkt\n",
       "wPPNPmBoECi9N8WsK9uA0SfZL43QbqJrWNTMzDgDsOXAOR3yBfC2tRYBWBoWKclMjwGwOrTgGBCE\n",
       "tP0ZdhEvYLUzzbqyD5j6JH/twkbxJ2sl+GPOAWywcRVBDlQjfBvN8IA1t2Hfj2Z0Ff5waHEwsDPG\n",
       "KtGb9dcyBZ4obIlwus4JJBldb+NBvlNOHgS+KygsRKtQn+QcUfBUayUEO1TAyHOdsANYJdkOZC8/\n",
       "XvJZQwGGaVv13Pl1PGA+bDgWaxmd9Zo/fN0tSJcGJY49apgGX54Im1izxXrJut6CR4+j4+tg0lVh\n",
       "IVoFeRLpmtU4/4u1FkJdKmBH8OkPO4AF8fJcmSrDNuyMsWSpHroiIh3NW63MFFNg2ySqqdu01LbT\n",
       "ocYC4vUBhHWskBbqYT3e/8XtAEZarS+DRVQuGEtywV9Fe0LZ6kViKvYEaabJ2Iwp2A1WzcyESoNM\n",
       "x1BQCFPhD8925w3+UjtTT6ZMMG0HMDIPj5QBMNUYMAswdRsDE86Fi5G07Qs7rda+Mr8Yoe64ACGV\n",
       "Se/wfJ9XUDqnAhY63NT0tj2n48emph2xMgDm7ubetjgMnOQPCxO1Ml/leeolnk8kltkDrCqRWJEp\n",
       "g0aCPVzRAKIILFgjbFkP5f0uezMFbCEB1q26t9hLGRa2AMwbydki6zSzzVZ0sMukcLrF1sHTAwM4\n",
       "Pf3EZeroBgrYvSAjHUsqEngxU8OQKM2eWue+XgdYRW1+I5vbI9nw1DtMCpv1F58cXKy9ON4OuJoA\n",
       "nqGA+cDN7q1IGFL+dFxWiR+GyfqNcwxGF149bbEZFLN5uIeed+6fBltXwWOZq4CZARbM+tgKsoH4\n",
       "rrUJlOMeyOgBOwqFfY4qW/wY03lIv96FVr+Tgu8zoGQcYRIvW3qBAhZoexhZO0LUlGvw9MBhyAqs\n",
       "UGXe3DAD2EYpiqMDi/i1ZssIbY/eUP0kPu2r5nvMlcljb+fn4ZbqP9XMvXhDPA/1oUEf7L6Kls7p\n",
       "gJULkE6qsB30VGBLhcOQJAylRA5/wwDmX4eWt+2RhhR4Wc9Ifl5Cs4CYuVtTNWQdrDe2IWUq885S\n",
       "hAeLwH+h93UT1d01kL1EkRGCvNbpeg2wj5Cde4fsy3cEcagLhyG3qIAFc6aLAKbgr6jjYDZIn7Ha\n",
       "9tRKSAgpayQR54kgGdvgMpobh/o1ETEIFNSdTCb3Tt3YQ50DeR9mRkYVTyRF6awGGPlI3qjuAZH7\n",
       "QcKQsxOJRFiJBLIxPWCAw1k3Yp67j9W2K+2O0ux1MJ404tqQMi1nIcKDLKW0JJFoDHysM7tKJx8X\n",
       "GEDzwoyMKpxIqn18w4CFkObknojmMZAwpFedYXBfmAHsB9SyG15vMmq7Oen/IdVC2vYQYLpNAMNl\n",
       "J7CJtRbhe+trAAL95DCdsfh9vWgcvDAiqZ1S22TUkhJJc8Ffzc3OBFaRWHCKhCGDGJ9QHYSYNYyk\n",
       "IVJnFmt7fQrdQQ+uZMODsKsW0MWLoTg6ngIPbtPbQi0LPBLDZUOkrixbTUQ8Cq7v3wc4QEJxB3Sj\n",
       "N35eEUckFQFYDpySEklpCFwDTH46KaGZMRLq02oYEn+dmXGKvu4MYPffVkO0XZ+WhkB9Eh/SFfNb\n",
       "puFACJLx8Jf4uHb0KNwG5dQWSVqGvE+U00T0VlMRM7HD4sdvrPzV7wtzY33ZMHZxRFIRgB0yaSae\n",
       "SEp9Zf0XZ4WsZHR+u9EaZgxN6T2+VK4laLntFRrjS8m1UfTSQf0uoIBJtSqiunInOo5MNBpiVoax\n",
       "iyOS9oc3ypFRS0okpeEDPWCt3geGWnqWLGDSmCm6ljTnHYVkqJK0NvQ6V0Y+5rQCX01FTAqZ/jL2\n",
       "Z8NqKIxI2i/eKEdGFUUktUAgbgQs6z2YhBDYAYw42yY5yOqOJrkNG5my3mworw/VYPC5hBFJ+8Ub\n",
       "5ciopSWSbgobAcubxJBwfpzUp9tKRyTtM2+UI6NeJZLqN9UdPGBCiKT94o1yZNTSEklXgHMAq+jk\n",
       "TKIYImm/eKMcGVUUkdQ8OenHEPAc53QIIpL2hzfKkVFLSiR1O+nnRkY3URiR1GPKGyW3FuaNcmTU\n",
       "khJJ6TruEMBcGdZEiiKSmvNGya2FeaMcGbWkRFJn/WTW+KN0sUTSPvJGW/I3E0wkpbETp/zbh5MW\n",
       "wV8hRNI+8kab8jYTTCRVhjoLsDVs90KJpEJ4o/2VWohI6rR/rKKwtqKcHzAF8ka5ZE0kfRycBRj5\n",
       "KqpL5aMICOSNcsmaSBqKFw1Ymf/9njcMAyNdNt4ok/rw7/fK/Q8u74ArOMlPqudjl07/B4faw+iR\n",
       "BIJHAAAAAElFTkSuQmCC\n",
       "\" style=\"display:inline;vertical-align:middle;\" /></a><br>"
      ],
      "text/plain": [
       "rightward_commutation: forall_{i, j, k in Natural} [forall_{a_{1}, ..a_{_a}.., a_{i}, b, c_{1}, ..c_{_a}.., c_{j}, d_{1}, ..d_{_a}.., d_{k} in Complex} ((a_{1} + ..a_{_a}.. + a_{i} + b + c_{1} + ..c_{_a}.. + c_{j} + d_{1} + ..d_{_a}.. + d_{k}) =  \\\\ (a_{1} + ..a_{_a}.. + a_{i} + c_{1} + ..c_{_a}.. + c_{j} + b + d_{1} + ..d_{_a}.. + d_{k}))]"
      ]
     },
     "execution_count": 32,
     "metadata": {},
     "output_type": "execute_result"
    }
   ],
   "source": [
    "rightward_commutation = \\\n",
    "    Forall((i,j,k),\n",
    "           Forall((a_1_to_i,b,c_1_to_j,d_1_to_k), \n",
    "                  Equals(Add(a_1_to_i, b, c_1_to_j, d_1_to_k), \n",
    "                         Add(a_1_to_i, c_1_to_j, b, d_1_to_k)) \\\n",
    "                  .with_wrapping_at(2), \n",
    "                  domain=Complex), \n",
    "           domain=Natural)"
   ]
  },
  {
   "cell_type": "code",
   "execution_count": 33,
   "metadata": {},
   "outputs": [
    {
     "data": {
      "text/html": [
       "<strong id=\"leftward_commutation\"><a class=\"ProveItLink\" href=\"proofs/leftward_commutation/thm_proof.ipynb\">leftward_commutation</a> (conjecture without proof):<br></strong> <a class=\"ProveItLink\" href=\"../__pv_it/theorems/8440502a5091e1336d02ed55550a177eceff3f360/theorem_expr.ipynb\"><img src=\"data:image/png;base64,iVBORw0KGgoAAAANSUhEUgAAA2AAAAAyBAMAAADIEqX2AAAAMFBMVEX///8QEBCIiIhmZma6urrM\n",
       "zMxUVFQiIiJERETc3Nzu7u6qqqp2dnaYmJgyMjIAAAAcRTyBAAAAAXRSTlMAQObYZgAACalJREFU\n",
       "eNrtXH2ME0UUf/3Yfuy2d0SNCkZTDkGjIhcwfoF6apT4h9iLiYBGrzn1D4ySqhE/QrTgH9avuAaj\n",
       "YKJWL4Ic0VbU4CVGKihEBGw0RjGCl4Af0Xieeke8noozs7O9nZ2d7q5s6a3HJNfOvpl9u/N+M2/e\n",
       "vv31AJyVwKFDZWhm+RAmcJEz2venh35zekqgb02hmbecKE9kwGCB9rV+zZuOAUs3945nTGi8INlP\n",
       "K50+AUyZxB6/8L+ERVGFTU/4DLCXO1ifnvNob1iRddP9tRMcdpRWtLu6j0XHat9LbA3gF8AeZg9b\n",
       "VI/0trgz7H6nHVtL7u5jVPt6w9bF+AQwpcoef873SIlOtWzYaGVYex2jVjqsBNcU6vTjLxem40uk\n",
       "hCZY7ivAoqaFcL9XgBkNa68jXHUK2HZwBViCemZ5ktAEm1U/AfYt6wLjWa8A2+5KRyLrFLD97gCr\n",
       "eeYDdnPWJ4Ddxx4G8c2v2jq14MLY8Xmzp/BG/L5trgsdLd3TShZAbGlLM4L4vOmjbgBbtaVLV7tV\n",
       "HNhXfQSYNMQexyrIPU2GX1FLzqmxL1VbBgGmsUaU/ykUVVjkVEfxJ3kEwZZmgXiuFOtnBJeqMWTd\n",
       "RU4BQyN5qgBTydE+spAHSGG3Afl3HwEWMrn2KJqQL1fgfJDmZB0aWz4ZQgjcxawRUTDTmrr2PKeA\n",
       "bS4AMptiAmI5RErMLECX6oeaVlvA0EguRmMicfsmsREGfARYIGM6RoO7pAB3odmZpVPyh1MGBjLc\n",
       "iWMNoSpEdTx2DwzcOTDwPZ4J/VAsw3yHOpBd5b94HVVeEC2DptUgFmpFI0EhYJH49y6xEWap/gGs\n",
       "q8IDdiLIwzpgDlZHIAfFNLevoM3+mhI1rYMVth/Co5yOQI4XFDugptV2haGRDOnd6wD2UsU/gM1S\n",
       "OZeIproy6AIwtJA2A1yWYY3YWsHz2zFgf+PV88pcVgfSzAnQpRwDRkeyVZqhn0T3sIyVm/EHYCuA\n",
       "CzrkUYj097kArARLFbVcNQHWgTYc54AN4f2mfQEHOjB7mHYp54BpI/nlbewU94mNEMv6B7ATzRsA\n",
       "CqBWwpeZMg9YsR/HfrRiaIilkssS8Q1Z1oiRSqydB6ymg3wYGu6Ah0FWt7E6QhnoYcJ6cil+hdXu\n",
       "yqxVG8lBomOe2AiJQQ0wMq69TgBrIY8DlSOPl/yHSYBhWtu2uLuDByyKHccyvWKYx93Tnz0V2dJk\n",
       "xNm7gAespkP7GGvoOQuP/knTytm5N8UqJZfiV9gyRvWYVjIS6ZjHcf07sRWSwxpgn+Cvn5wAlsAL\n",
       "v6XQhMew382S+43Quch0FF+1clPzXemAEQeZDhd7GM0F5DrjCOusnRU6YTV+NM85AYz0Wt0Ej6iM\n",
       "miW15K+ij1AWTSSm4f0ErfQau2xypUOaZKWDF2wCUT8rrbHUwmDd5C/1M51kySRKTgAj6/CTJgCm\n",
       "OQNmA6ZhY/y8gyk3mtZ+bCFc9VC3Gx3BnKNuLrW2qJHp9V6voHJQAyy5o7f3OWdBxze9veuzTQAs\n",
       "OMLNthw0rcRSjdP9aL3GP2mU+Gc+v9wZYK35/CPlJpgoUeVEzaMI3PJ043bxZN33sqdQwG4lwAa1\n",
       "VCOOUqamBIBF0jVfJC4L+p3IQsMWp14ieHQIVWH8lNuXNOvKJ1DALgcZ2VPSkMCbmZaGRGXhvI7g\n",
       "8QbAwu31nWztGcleJg9anFo0Hry7bZk+cSKDcLQA3EkBi0KQfbYiaUj5vTkVJbcDLjQ+OGdhpv3u\n",
       "WXIiUyzWIbxPvzdsvQhefQxuKh8FzAqwRCUK/APEV329oHwWgrIRsF1gH3O0qk5kVutQf3uXfPz5\n",
       "Auwpg1Iejy6xeeVeCli8/zrk7QhRUyYvVHEaMowNqtywOMUA9qKUwdmBpfxe0zNDf0bvaruNazXI\n",
       "trSRBMPZ/DrsaftZq1yOH4hvQNfQYU6MHEXLEHTAo7cgm7RiPxgKY0+F05AkDaWkd3zBABZ7Fm1v\n",
       "69JdBYiwoZJ8j4RWAXFzpxWmmVuJTOPcRTvwFYUqQlgF/ku+bliUweFxFCU2NENQN6Q7XgfsLeTn\n",
       "nifP5esTONWF05A9GmCJmusigCn4LeocWAjSB6y1Q+0SUkJkK2GfuRXLaO18kIiKTisVk0BBl5PJ\n",
       "4t5guPfk0BF7DvOIWeo9kRSVP3TAWlPEpuShEIUfJA25MJ/Pp5R0vJI1AoZfkMNJmOceZa0dKAUz\n",
       "tHocnGtuJTKtnEQ/BSpCyFNK9+XzK+PvGNyuMsTnBRo1yT1ilnpOJAX6shsDlkSWk6tpPTogaciI\n",
       "tsLgihQD2Neo5wg82Wu2dlGNfV3YSPpWERxmwLBsL3GuZDcSq4g+8zkAgf7CFF2xeL7+bb55z4ik\n",
       "nIC1tG3eVsQs9Z5IWkv+6mF2Of4YyQUXSBoygfFJdkCS2cNImSwNVbC1VxfQGfQjoHZdDW+3Azp4\n",
       "IJnDrWNtmix+fRbLDkAIfU6WhitsJ6LiRgjseR3gI5KK+8hw9+bXK94RSTkBwyy1JzyJmKXeE0lp\n",
       "ClwHTL5dlZC7Oh06S1oaEr+dmX+ATncGsCvPnEas3VmSJkOnij9K4e6NF+FECNJx3U7i7VBNa1Op\n",
       "DMWdqLZq5hnoU1cx1omqWIBpaDE8yeXdP95au9cHTffuHZGUE2wHN4AJmaXeE0lprGx846yQnYy6\n",
       "hCDaw8ypKUPB/mzMeWi1dWGdAoZbFaNe0N4IKIZjUydNRVvLBvR5en6lKWdlunfviKQcCZRhltra\n",
       "2ppZ2hAiKU0fGAHri1w1RRhZsoBJs+YaetJa5AykQ2/VappebWwFvdYHfCeq4oKk5S9jvzXtiZ4R\n",
       "STkSKMsstbW1NbP0cImkAgRyZsAqkW0qJMEJYCTYtqhBRVRb82JNVrHonqwbQ3WZYi7PiKQcCZRl\n",
       "ltra2pJZ2iAi6UspM2B1y+GScL654DBObhyRlCOBjjFLnXBARczSiU4kDQ3ygHlCJOVIoCyz1HZx\n",
       "iJiljSCSPgL+ASw8xLlEb4ikHAmUZZba2lrELD08Iql18dOPIeBuLujwiEhqJoGyzFJbwCyZpY0h\n",
       "kgb99HMjc5joGZE0ZCaBssxSWw6oJbO0MURSuo/7BLBAmXWRXhFJeRIowyy15YBaMksbQyT1109m\n",
       "zT9K95ZIygnccUAFzFKPiaQ0d+KXf/uwX5D89YRIygnccUAFzFJviaTKFH8B9jR7eU+JpFzxhFnq\n",
       "MZHUb/9YRWF9RTOJpFzxkFkqJpLeDP4CrPYGlJZxRBHwkFkqJpImc64Ba/K/34ukYJyWI8Is/Q//\n",
       "fq/Z/+DyHJjARaass08P/fYvP6vajCqAYN8AAAAASUVORK5CYII=\n",
       "\" style=\"display:inline;vertical-align:middle;\" /></a><br>"
      ],
      "text/plain": [
       "leftward_commutation: forall_{i, j, k in Natural} [forall_{a_{1}, ..a_{_a}.., a_{i}, b_{1}, ..b_{_a}.., b_{j}, c, d_{1}, ..d_{_a}.., d_{k} in Complex} ((a_{1} + ..a_{_a}.. + a_{i} + b_{1} + ..b_{_a}.. + b_{j} + c + d_{1} + ..d_{_a}.. + d_{k}) =  \\\\ (a_{1} + ..a_{_a}.. + a_{i} + c + b_{1} + ..b_{_a}.. + b_{j} + d_{1} + ..d_{_a}.. + d_{k}))]"
      ]
     },
     "execution_count": 33,
     "metadata": {},
     "output_type": "execute_result"
    }
   ],
   "source": [
    "leftward_commutation = \\\n",
    "    Forall((i,j,k),\n",
    "           Forall((a_1_to_i,b_1_to_j,c,d_1_to_k),\n",
    "                  Equals(Add(a_1_to_i, b_1_to_j, c, d_1_to_k), \n",
    "                         Add(a_1_to_i, c, b_1_to_j, d_1_to_k)) \\\n",
    "                  .with_wrapping_at(2),\n",
    "                  domain = Complex), \n",
    "           domain = Natural)"
   ]
  },
  {
   "cell_type": "code",
   "execution_count": 34,
   "metadata": {},
   "outputs": [
    {
     "data": {
      "text/html": [
       "<strong id=\"association\"><a class=\"ProveItLink\" href=\"proofs/association/thm_proof.ipynb\">association</a> (conjecture without proof):<br></strong> <a class=\"ProveItLink\" href=\"../__pv_it/theorems/645c25c87b196514652906fe7bccb63e1b087e5e0/theorem_expr.ipynb\"><img src=\"data:image/png;base64,iVBORw0KGgoAAAANSUhEUgAAAysAAAAyBAMAAACuSFmhAAAAMFBMVEX///8QEBCIiIhmZma6urrM\n",
       "zMxUVFQiIiJERETc3Nzu7u6qqqp2dnaYmJgyMjIAAAAcRTyBAAAAAXRSTlMAQObYZgAACVtJREFU\n",
       "eNrtXH2MG8UVf7Zv/bH+ihDlK6Vy75oQQVFcogItKXFbUQQSxFcE4eOPs05FCCjUiDZSAKluKpWj\n",
       "lGolJJJAQUsjknCt8BJAKAiBSSQQIQELVAlCPiwIqYjaE4oQ6l0a0pnZ2fXOzK49u7e58+o60p1n\n",
       "58282X2/mTczb382gFyKnTzZgvlIuQoslLSFPvHJk4tkm8R2bNLn5V73LBhUYKhDPtRNT8jDUp2f\n",
       "W43XFg4scJB+KgMPy/PsZaYdfePv8JSkWxGBRT2dvd4Wkt5tZ/q6i9/VQ3ympNbvaQcelnSZvf48\n",
       "LMWf+qpdKIc51Dr9fMPAw/I6u8/Ii+bZ7tXUVZAt0cxx11IvHUWjb+2+Orppp+fjplrRgOVe7ra1\n",
       "kGAZmvFl0tV6mLA87fm42elIwJKfZq83QEiw5Oq+TPoWhAlLodJnGA46LKkGez2CN2MrLzrHDyxM\n",
       "fct4hfERw4dJjwxf5lI7N7zEDyw7h6kNc94r1SE9CrCMcePqEfT3Y63wBcCN0rCY9UdY4zWPqtOg\n",
       "NCRNqn6tN5H7/Iytnbkf/iyvAzYY6U78NOIDyJr/7hRO3NajWYoCLN/jru9HJjoXEg247hJZWMz6\n",
       "cBNrPLSVOKasqEuaNDsDRVTFYGuj9flOeR3wACQN+DWp6r3dLnSiAMsZ3DXa1ydmIIUscCXQEXfP\n",
       "1NQRsWFXQOsT5zE19c9vTU3huMHloP4XhupcqaeODjRbgo5V2OHI68CbDJXsNJQvvIMa0xGARTkh\n",
       "whJrQLNqwSIxW2h9bkx/CkPHqUklRjo6tqw2BB1ngQ2LhI5Yw67dA5bMiQjAEp8WnRgatq+DD1jM\n",
       "+j+pscY7gUevtEmLbTQ11BHWiaHp5gcWMt1y5Z/XrDbm2nLEzT8MOCxp/vbQkt804O6s5gMWUr81\n",
       "wxrvS3i67QOWCl6haIDXAS1kfUELRuHjq2esJd89PRgBWGLc/hh2IahK+bU5cbaoX2MIOjTjEJD6\n",
       "mb/VWePdBb8XRzppaity6Ei202V4NsfNuItB/b4Ii30PnI5EDTZXi7eSbMv7kd+jsJDGB2RgKZDN\n",
       "3VyGcJv8Bh+BoY4veew7Lk5sLd4b1WjGiRepny6xxtv83baLA1rLKHLouGgvBrjNHUn3vu+iw74H\n",
       "TgfsOVCC0WXYERZ6DPFDVROWd/DFURlYckSlPpfHFt4xdIMv0k6MAvyMi6uRdkDUDWmz1rFMWYSU\n",
       "bO33yAiWjXj9b8jAQmptnNNApcEHY+zp87KVmfRqzAhey9FxzwS3LJOquoyOUZi1jvVKvdQrVEkd\n",
       "BIIFD/+cIbW24Dn1zlzCckiY7Q/Rz0d/O+5L05a3XTajl3xV8qNjGcxax+cwXu0V2EdTsmbCkt89\n",
       "OblBbsnfPzn5bH0uYVkuBIy3wfyl9WHtL7VesDToTuw/ExMPyMFSnJh4sDWXhnhPcAzz99I4edU5\n",
       "IWn6qKedOxSWW4lriJteG0fjvl3ygCVZ7Y00Sdd25Mpk0iodBiYl39TmoptYncLyU+LsFLNTvMik\n",
       "KrTKmpWV+BkOWIbK8FxfvW5R65yPd67ZP91mLxu/ggWXUosoLCmIs56hiceo+uqKdraxG37oPE7W\n",
       "4cK+eguGXJlLwn2qN+rKv/4PCxrK7ZRwZgP4cMckZN9PQMsJy17ov+IXNbkyl4T7zP8F4NVBdGJz\n",
       "BYvlxDKdG5B/WkqGK4nG7VKWYn+F/MktN5UYWJ5SavjIe7d4St289DPrPDR8h3hG6pbtHBZvhZaR\n",
       "Pq94Cd2RveRrCw4We8mHh36BpkwRD0wzGvfvF5s6CbRkq7v/wcCSfgwtO1urYzok2XGs/kaZATOO\n",
       "c54+wktJGdxOBkNlVJDissuxq8MX+5z7lOXVU7cTezJow2xYY8VVUaxmwfICmjePk1OzGY37Chlj\n",
       "swlLzl6sCSxZ/E5wBawB5Q3WtImygpTo5u7+IC/FZTR3KSiCFJXBC0D7fMXJOTxUOWXnFrURmMJ3\n",
       "e1j34KaoWLZgwe9D6VkJR+OU0x5Gm7CJiYlStppp152wwDH0txiQw0uxpo0ZNlf4dLiYl5IyMy0G\n",
       "oS0pwwwG0ucT1zuDLxXxmBxSKmiBKXzPhXUPborIaxkCS17HbzOr1tocb4xmIGnOFriixMCyD9Wc\n",
       "hkcmedM2tfQ+fTupO4PMzBselx0g7nDaBRZctu6astln4q+oC3tNanvGxOwUkL73AQSm8OVKvVp4\n",
       "6hEFOZeqVqiStum0Mn/E0biNerq0Jg45jEK+AnlmbSHpbOXLNjbtRh21oP9i2tg18GIZ0MV9+QaW\n",
       "dmVmWebmOi47DAlBisvOfbxt9plZWe2G8oo8CqHR92BdcAqfuigkWFSXt10kOmvDov5SUxbjaNyo\n",
       "UdCSSwAexjvlwwA1AZafXTBCYBk1lLNhVMP/jKHx7T/CQQCk44Y9ZD6gnCnTaBnaZ6HcoxeeL0hR\n",
       "2dAnGADcJ/x96g92Vyk+OhAafS9TnwWF73BIsFiKmHiTBtzbySxZYehUjSM/zwdfnMNWt2uClds6\n",
       "RHRQadapF8wotac0XjpqiH1CgucihEbfw7GmwBS+XVwLORqfLbBpfJYiZyInaAaWHTga57X9Y2FR\n",
       "ll/mqElzyfPpdzew1PEtDjOHXyB4ShPa/opLp/kZriA0+h7e2wSm8B3kZp4cjc8SdGl89v7Ukc4S\n",
       "YGnjaFweZGAhNnPJQdsrt+mpXlKPpBznCkKj76WMWVD4XuZ0ydH4LEGXxtd9l9c9lx0TYOl9+pwl\n",
       "xWL/D4K0OmX0vVhlFhS+MfBN4+sKHDQ+oohNkaDvwSoRlnDoexiWwBS+MbaFJI2PChw0PhdY0vUo\n",
       "wLK6IjixcOh72IkFpvBdybSQpfFRgYPG132I7iG/FAVYUmVhyQ+HvoeX/MAUPm7Jl6TxUYGDxuey\n",
       "5C/XowALvxULjb6HY32BKXwrWV2SND4qSHRpfJYiYTEd+C/pfZO9DI2+h60YmMLHfc9FksZnCbo0\n",
       "PkuRY0ZF40t6/Fdaw6PvrYMuPnLHSbCChmrdpYW0EyPJpPGpdY9w6MDDwn3zOjz63geWsfxT+KwI\n",
       "o08an1Ng0vjEUOXzejRgyXyDvQ6NvkcpPEEofG7x+CA0PlFRZH4ugT8Ih/kaLEha7xgas06ComQ5\n",
       "KrAk2BPz/L40JhS+fFgvjUVFH4JvWObrh6vGYXDSKabwBfnhqvn6mbdEBRZK2mIOfPwzb/8DhWlo\n",
       "q0UpjHwAAAAASUVORK5CYII=\n",
       "\" style=\"display:inline;vertical-align:middle;\" /></a><br>"
      ],
      "text/plain": [
       "association: forall_{i, j, k in Natural} [forall_{a_{1}, ..a_{_a}.., a_{i}, b_{1}, ..b_{_a}.., b_{j}, c_{1}, ..c_{_a}.., c_{k} in Complex} ((a_{1} + ..a_{_a}.. + a_{i} + b_{1} + ..b_{_a}.. + b_{j} + c_{1} + ..c_{_a}.. + c_{k}) =  \\\\ (a_{1} + ..a_{_a}.. + a_{i} + (b_{1} + ..b_{_a}.. + b_{j}) + c_{1} + ..c_{_a}.. + c_{k}))]"
      ]
     },
     "execution_count": 34,
     "metadata": {},
     "output_type": "execute_result"
    }
   ],
   "source": [
    "association = \\\n",
    "    Forall((i,j,k), \n",
    "           Forall((a_1_to_i,b_1_to_j,c_1_to_k), \n",
    "                  Equals(Add(a_1_to_i, b_1_to_j, c_1_to_k),\n",
    "                         Add(a_1_to_i, Add(b_1_to_j), c_1_to_k)) \\\n",
    "                  .with_wrapping_at(2),\n",
    "                  domain=Complex),\n",
    "           domain=Natural)"
   ]
  },
  {
   "cell_type": "code",
   "execution_count": 35,
   "metadata": {},
   "outputs": [
    {
     "data": {
      "text/html": [
       "<strong id=\"disassociation\"><a class=\"ProveItLink\" href=\"proofs/disassociation/thm_proof.ipynb\">disassociation</a> (conjecture without proof):<br></strong> <a class=\"ProveItLink\" href=\"../__pv_it/theorems/bf4edc16c6b7dbe8607dd1ce0c3a36264de4b4a70/theorem_expr.ipynb\"><img src=\"data:image/png;base64,iVBORw0KGgoAAAANSUhEUgAAAzwAAAAyBAMAAABrOsMwAAAAMFBMVEX///8QEBCIiIhmZma6urrM\n",
       "zMxUVFQiIiJERETc3Nzu7u6qqqp2dnaYmJgyMjIAAAAcRTyBAAAAAXRSTlMAQObYZgAACWNJREFU\n",
       "eNrtXHuIG0UY/5Lc5rF5FfFdlXhna6mWRovv00ZFi0Jtotj6+OPCoYjviFrwAcYKej4JCLb1xWqx\n",
       "j1Oa9FqRStFYQbG2NlQEra0NWisWPWoR8VJrnZmdfc1mL7N72yTLOXCX2Xl8Mzu/mW+++eaXAPAF\n",
       "35EjVehEiGVgsoWV9HP7kT94q/g2Lpc60tetkw4d6KnLn2uWr+OGJ9uZrvrzkw8e+EGJ5LodHmb+\n",
       "RGpuCX7DacVoyaUeWAsKVz0Cj3is8Xm1a4KLsPoEWxWeLNDYnW714c6Wb93t8ITTxudf3RKcQFP3\n",
       "J3s1lK6sdasPa1vqjG6H52OjPRJPm0qMWFVtmhFN0cjX6O9Q0xwrOcmKYkumxqthKcecEbMqCqGq\n",
       "N+B5kOl2yS14HkEGUsMWPAuUmSJOcQkeRVCTsmOegCc+ZnxeCi7BE0EbSaxgC57P1ZS9LsGjCLKe\n",
       "ll0OT6hofO7DI9t/7sl24DGUV8bIj7RkYrCvYgOefb2X0NinTI1Y7zQ78GzuzRoFNQl7JC/AM8C4\n",
       "DF5Ef5eXEgcAbuKGRy7fZxyjMDLQy/vFMRCKnPCI/0plpFp/1o4l6kp8DF7ikKNkLK2E6/5jtPPN\n",
       "V6M4MGZKOeUFeM5hnh9Dw3QqBIpwwwW88Mjl4WbjGIUqxOw4KMwpcMITbUASFcHr7QNGVhXu5pCj\n",
       "ZDwOwQo8RKIfWJuJdS/AczzzjM4DgQaE0IvOAzrzHhgd3WeuqGXQ8kQJjY7+ctroKPZD+NCyvAzE\n",
       "f6CnwORYyqlDmdpTA8Yac7EiaiFHywhgg0RsqIIsnCVjHoBHOGyGx1eEclaBh2P10PLMFMbw/AQ9\n",
       "h+iwcqwedOxZUAH9qCo1TgQVHo7V4ytqpa3hiRz2ADz+MbNyQ1P4Y7ABj1z+irxZuR3GM5kbnmQN\n",
       "LRORGBPzDDXQErQDD1mCsfT1eUWQvPfsa6o3uhueMHswQKZBuQL3RUs24CHlqw2zafAnvFWzAU8G\n",
       "72LEmcyYBmiiR/nhQTBDJfH9tQ3QuT7N4RkPwONj7GpsiYZT8cUx8+oR/8VQ1GlEl0HKR94tGAcv\n",
       "hgzre+Ep86wn1VVhOjnBWjgNa2J40vcbZZ0P4nlmeNS+KHJoRiAPK7LJ20m83/rVt1N4SOXdPPAk\n",
       "yEGx1kZ4yqwPB4EiDk575Ywmym0xVll5GtHjRsqHGUcMHs0VZ9eaKKXFBmE6Oeduo6uOGNd6qLft\n",
       "aCJH7UuI0atbd6cgN4NsYz9bv/qerAzPl/hjPw88MSwyIbXz2MMqCs2pw63cKNDvmJ06wLdnGOQk\n",
       "UQfEQpMa3MqNhBnCFJ0g61fPwTJsJxR54CGllrXVIVphnTzqclKPDMNWlQ0ZH8XoGpB0LlEyaMoQ\n",
       "iRKPnJzOk2mo0VqOPmOJUEiN5xJVFEeOLIdYhWvvwWvsy3bCs8e04T1LP19+YtCWpJVfsFaHvA4j\n",
       "F/yVsiNnBjS/B7Ap51cYzI5/M5HMy/DEtwwPL+UzDXYND68ptBOe2SYHtZvXcU7CEt0UmXAYT1Cy\n",
       "SBfr30NDj/PBkxwaeqbaTni2mxRFZy+zg9ecjBSsW5fZ4wry1Sk8txMY/bJWx7bE6SkLeIJZRSeM\n",
       "E66r86XxhLnttEN44Pms1K6mfAUKz5UgotET5IbxJhTK0CKL+jP+43Xw9KQ5LnJjab40qxB94Q51\n",
       "W7kfJm0ITaHwhMBv1BhlPGfFTXNq0eIWuFh/LC3ArJZyExW+tGb7AWpTvEkSfvsfHg2eWC1kOvsB\n",
       "fLtxGKI7AlDVw7MNWlsGyRJfWpOA24y/DrCpW5VbO+FRlFukvhDprelk+hKP36fCdKzHkJ659eaU\n",
       "AZ43hTw+Pt9ndvCsmK6cgAd67zKfsbS0zb3mrtA00uZV76MeqaZBadLCo5oG8OxtaAkl8USVPX6/\n",
       "byhLxIETzW75xgBP+BW0La3KDkgQNM5r8WGhAbJ/6Eypj80laTKrK5TJmXJx2mVYBeKHnd/pDevs\n",
       "0bPcOhc2csGTV+BZj9bRq+QULnv8/kKDskKGJ6Zu6gSeKL6jnAOLQPjEOMSBtICESPLJ4Ac2F6fR\n",
       "2IUgmHJRGqwH2uaH+s7vyRytc49TCqIr9h+PTkimFXjwHS05b8keP+GY55HRNjQ0lIpmI7WCHh44\n",
       "iP6mAlKEIeMQ+yoqF/pYOJ/NJWlymAqmuiQNsyxIm6/dqHfqZMzHbZeCQwqiKydinmOGfDOL4YlL\n",
       "+HY1q+zh/mIuAkF59cBVKQM8O1HJMXhxmB3icim8UxohZRtouFkAcNpu0t5YE3hw2iPz03KbgbdR\n",
       "E+qeVbP0uanBIc/NIQXRujSfS1XeazngUVyiVHi9GnmOeEilcGqRH2IYjXgG4oa9h4SThD9reIiX\n",
       "SagG/ecrDcyHDWlAD4/GizhXy5PTIrcUcNpeCJhycdqpr9bkNiP9Wa37SRYN12iITimIrsDzFgc8\n",
       "sjdYgUe8pyRMxR6/XCVRCk4DeB5b2HsB8iZ4rj6rj8CTqwgnQa6E/1V6BkcuxU4FJGPhVrI+UEzO\n",
       "K9E0ZJeh2MuzZppyUVrPjxgI3Ca8N/q02lSIVQOu0RAdUxDdgCeR4fBnlfTwkAbIDkSXsR/tA6xT\n",
       "Rz+NJbUkKLFVPUQGzY3q5YLsFbfM9af2V8xtQuAA02nXaIiOKYhgm344op0fsvxOFPlErodnI/b4\n",
       "WX3pxAiPMPsSXUkaC86kRiPO1ZmPcgxfXFjmBkq7ms2oeINJcI2G6JiCCLbph0o/NPphnMM2ONEE\n",
       "Tw17/OLAAw9ppEkMalax5W+Ol2sRhENMgms0RMcURLBNP1Q6qNEPo63N9MhBEzzjH5MmSAXZdZGT\n",
       "WkeNhuiYgmiTfmjoh0I/FA60fHFP0BBhrhked2iIjimIYJt+qPVDKc0BT7jgBXgWZEzKzR0aomMK\n",
       "ItimH47ozpky/bCHw7Gc8gI8obTJNHCHhuiYggi26YcaxAr9kMM0mC15AR7WdHONhuiYggi26YdU\n",
       "RkCjHwaqvJtut3958RTjo2s0RMcURLBNP1Q6qNEPEy3H0iNfXmS/+useDdHWvkHVU2nCMmT64Spu\n",
       "F2y3w8O4it2jIRrOH/wUxAnKkOmHrV2i6yRvwBM5zvjsGg0RnFEQJyiD0A9bXyh45mcn2O/3rYbO\n",
       "hSUuyWlNRgumvQJPwHgS79xlNqEguhK+a1niW7ANT6d+MGwQuiO0kYLo5AfDOvVze4EMTLawki6E\n",
       "7Uf++A9lh3YH09+mHAAAAABJRU5ErkJggg==\n",
       "\" style=\"display:inline;vertical-align:middle;\" /></a><br>"
      ],
      "text/plain": [
       "disassociation: forall_{i, j, k in Natural} [forall_{a_{1}, ..a_{_a}.., a_{i}, b_{1}, ..b_{_a}.., b_{j}, c_{1}, ..c_{_a}.., c_{k} in Complex} ((a_{1} + ..a_{_a}.. + a_{i} + (b_{1} + ..b_{_a}.. + b_{j}) + c_{1} + ..c_{_a}.. + c_{k}) =  \\\\ (a_{1} + ..a_{_a}.. + a_{i} + b_{1} + ..b_{_a}.. + b_{j} + c_{1} + ..c_{_a}.. + c_{k}))]"
      ]
     },
     "execution_count": 35,
     "metadata": {},
     "output_type": "execute_result"
    }
   ],
   "source": [
    "disassociation = \\\n",
    "    Forall((i,j,k), \n",
    "           Forall((a_1_to_i,b_1_to_j,c_1_to_k), \n",
    "                  Equals(Add(a_1_to_i, Add(b_1_to_j), c_1_to_k),\n",
    "                         Add(a_1_to_i, b_1_to_j, c_1_to_k)) \\\n",
    "                  .with_wrapping_at(2),\n",
    "                  domain=Complex),\n",
    "           domain=Natural)"
   ]
  },
  {
   "cell_type": "code",
   "execution_count": 36,
   "metadata": {},
   "outputs": [
    {
     "name": "stdout",
     "output_type": "stream",
     "text": [
      "These theorems may now be imported from the theory package: proveit.numbers.addition\n"
     ]
    }
   ],
   "source": [
    "%end theorems"
   ]
  },
  {
   "cell_type": "code",
   "execution_count": null,
   "metadata": {},
   "outputs": [],
   "source": []
  }
 ],
 "metadata": {
  "kernelspec": {
   "display_name": "Python 3",
   "language": "python",
   "name": "python3"
  }
 },
 "nbformat": 4,
 "nbformat_minor": 0
}