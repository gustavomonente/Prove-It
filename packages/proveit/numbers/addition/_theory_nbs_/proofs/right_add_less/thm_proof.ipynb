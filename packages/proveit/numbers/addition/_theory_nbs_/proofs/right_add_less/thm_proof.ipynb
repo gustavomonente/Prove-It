{
 "cells": [
  {
   "cell_type": "markdown",
   "metadata": {},
   "source": [
    "Proof of <a class=\"ProveItLink\" href=\"../../../../../_theory_nbs_/theory.ipynb\">proveit</a>.<a class=\"ProveItLink\" href=\"../../../../_theory_nbs_/theory.ipynb\">numbers</a>.<a class=\"ProveItLink\" href=\"../../theory.ipynb\">addition</a>.<a class=\"ProveItLink\" href=\"../../theorems.ipynb#right_add_less\">right_add_less</a> theorem\n",
    "========"
   ]
  },
  {
   "cell_type": "code",
   "execution_count": 1,
   "metadata": {},
   "outputs": [],
   "source": [
    "import proveit\n",
    "theory = proveit.Theory() # the theorem's theory"
   ]
  },
  {
   "cell_type": "code",
   "execution_count": 2,
   "metadata": {},
   "outputs": [
    {
     "data": {
      "text/html": [
       "Under these <a href=\"presumptions.txt\">presumptions</a>, we begin our proof of<br><strong id=\"right_add_less\">right_add_less:</strong> <a class=\"ProveItLink\" href=\"../../../__pv_it/theorems/1dcb194036d955451cf9d31ee4bc90abdcae24a20/expr.ipynb\"><img src=\"data:image/png;base64,iVBORw0KGgoAAAANSUhEUgAAAS0AAAAWBAMAAABnB9cHAAAAMFBMVEX///8QEBCIiIhmZma6urrM\n",
       "zMxUVFQiIiJERETc3Nzu7u6qqqp2dnaYmJgyMjIAAAAcRTyBAAAAAXRSTlMAQObYZgAAA9dJREFU\n",
       "SMfNll1o01AUx8/apGnTtNuDggpK3HQOERyKXzC3qeBA1EUf/ABhY36goGPK9EF9EEFpETV+oEMR\n",
       "s02mDnFFH2QgGrYHocrIw2AqKkH8QMFaREGnD56bm7S5XbpNKuKBf3Nvc8/Nj3vOPfcC/AULGVTe\n",
       "Fla9Pbyt15ZJOi8L47phK4/t8vbwtoBK9Zh0PhbG9cFWHrvt7eFtoknVRlb1SEFYkUoql91xdyQ5\n",
       "236gOB6uQMvuXh9VVEPHREFcgkqVj0ssyTSHlmQ88nG1U0WS3d0XCwvjRVv5uOCN05iVzHrk44rW\n",
       "Un2PxQ4XxlVmq6P8/ByZ5TrXPx3j0W+v2yM56yGWyXBGY7hCVfOmYPAqqbYDxMf+NjfKu5NUoh7Z\n",
       "J5gMFzcZPuPjFcVaZLg8JK4E5rLrtUyNpjGAJtUKK/3z2L2Kra+tRpD9f5W7c4hK0qRhTmW42g1Y\n",
       "TGaxOs0Jt8dlvwkxhkucCn7cgOEWKgF83kVOvD/f8EmQlEdybWp09yZQiRCk+3ogldqbSr3DVo0G\n",
       "+/DRYE3n4sLRWpEMX8hmTaXeT0ulcEL/MAj4LT5NJRmC91o97e0G5HpujOC6wAbe5gIolnPyfhKI\n",
       "3xwuCGXjSEbXa/w3Zr2KjkCPkuUKmRvwz87yt1bxWFCOr7hyEDSO1BjCpWe5pLL1mI6dx7C5vBEO\n",
       "snHE7yssl/gLwvgFqMvNezK6GnwlDFePDg9JTrZQQXwbuuznhwmG1izgFpWKtXUQBco1vzLLNTtg\n",
       "tsIta9vrw3wJm/dhbS5OwHD9hIDZ6+S9q04Qj+MQbGS5EtCMZ6mT93AX4fyVPEHk4RMZcakOKqDT\n",
       "4vLvaHXlvRI1gJ9qBeVai885Jfqp6hOn4Qobx6Mw1IjLXZVbV4nHQqg3GK6gHDkgIYpOZWVFUcJH\n",
       "4X9Yv1XQBBtjsZjsk84OuvdjMe63gVrS8usBJyp1VF2lHUsNlqurdHMTjn6bew7VWe9qVHY/Ns28\n",
       "MANrqkIFEVz7HjX4nISAT/NkSCtMhACNY3iL5uJqAAXExcRLqC1SxnsOtXidXCTDvOr9dVt0L6gN\n",
       "a6BNuyqZEj5gP5cGSaH5lczmfSg9ANgL7SQgSv0o53Z3vnM74xEwxa8Ot+ZxbtuFuenOUliX6Brs\n",
       "S+IDVlZg4p0gFXFA76zOcIl7Vs8hc4SOq+hxKjNVHEY9MzzuOXEQjKA82j3HbXbhS4hqEBPFh/mV\n",
       "ecXWVT4ON61NNa57YdzrXsiVLvAcHFSpRl54w2pAXztieO4fuzlznPfoyB/do5/Zck/gPLgX+phc\n",
       "a57A/2D+f/y930ifELLiC/tyAAAAAElFTkSuQmCC\n",
       "\" style=\"display:inline;vertical-align:middle;\" /></a><br>(see <a class=\"ProveItLink\" href=\"../../../__pv_it/theorems/9a9efbffb1b7bcaab3b4e4b2b5d17da027aeb6980/dependencies.ipynb\">dependencies</a>)<br>"
      ],
      "text/plain": [
       "right_add_less: forall_{a, x, y in Real | x < y} ((x + a) < (y + a))"
      ]
     },
     "execution_count": 2,
     "metadata": {},
     "output_type": "execute_result"
    }
   ],
   "source": [
    "%proving right_add_less"
   ]
  },
  {
   "cell_type": "code",
   "execution_count": null,
   "metadata": {},
   "outputs": [],
   "source": []
  }
 ],
 "metadata": {
  "kernelspec": {
   "display_name": "Python 3",
   "language": "python",
   "name": "python3"
  }
 },
 "nbformat": 4,
 "nbformat_minor": 0
}