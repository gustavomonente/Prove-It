{
 "cells": [
  {
   "cell_type": "markdown",
   "metadata": {},
   "source": [
    "Proof of <a class=\"ProveItLink\" href=\"../../../../../_theory_nbs_/theory.ipynb\">proveit</a>.<a class=\"ProveItLink\" href=\"../../../../_theory_nbs_/theory.ipynb\">numbers</a>.<a class=\"ProveItLink\" href=\"../../theory.ipynb\">addition</a>.<a class=\"ProveItLink\" href=\"../../theorems.ipynb#leftward_commutation\">leftward_commutation</a> theorem\n",
    "========"
   ]
  },
  {
   "cell_type": "code",
   "execution_count": 1,
   "metadata": {},
   "outputs": [],
   "source": [
    "import proveit\n",
    "theory = proveit.Theory() # the theorem's theory"
   ]
  },
  {
   "cell_type": "code",
   "execution_count": 2,
   "metadata": {},
   "outputs": [
    {
     "data": {
      "text/html": [
       "Under these <a href=\"presumptions.txt\">presumptions</a>, we begin our proof of<br><strong id=\"leftward_commutation\">leftward_commutation:</strong> <a class=\"ProveItLink\" href=\"../../../__pv_it/theorems/cffcfd4d8f9eb9cedae071c45bef90615e47b02d0/expr.ipynb\"><img src=\"data:image/png;base64,iVBORw0KGgoAAAANSUhEUgAAA0sAAAAyBAMAAAB/r13RAAAAMFBMVEX///8QEBCIiIhmZma6urrM\n",
       "zMxUVFQiIiJERETc3Nzu7u6qqqp2dnaYmJgyMjIAAAAcRTyBAAAAAXRSTlMAQObYZgAACtVJREFU\n",
       "eNrtXH+MHFUd/+7uzf6Y2d1rkGBLo9ne2dqg2AtVfhZ6SrTRBLqnCW0lepuL/KEirqgNSKPb+gcL\n",
       "BF1TQ38YyTQX2nIN3HJi6iWGrj2hsVDYQIwUadmkBQXjeSlX4u1Z6vs1M+/NvOm+kT32hnOSm307\n",
       "7zvf997383583/d9bgHUrsj58zXo5PVHWHDXXvqRPn9+keorkfFdZiernK4tPJi6GuRD3/UrdZjy\n",
       "na3yCliA10n2qYUFJsOp6K8/kIgYFcnDZC1kMO3pt1J6qT0a9384iLS+tagoqW3tC1SPjR+in9+U\n",
       "lXpxyGD6qZ3KVtqk8lQg6ayy8burweoxSz8el+U9ES6YjKadfMmbmfN5a0yqKieap4UOK0M0/tgF\n",
       "ilpvqmvFfgJrWlomm6iFCqaE05fvbhNMXc1AMK03VWE6AoFgSrPZVJdBYcyECqbX7JkuVWwTTOli\n",
       "IJiOgCpMp4LBZM+mp2WC3w8VTHfZqShu1faJZWYAmFJrrrjUI50d6q0GMOgbPddJNKd7lruLWj4b\n",
       "BKbthwetWkxI+6cZIpi0acdHraP5agn8Cz0sqcL02Up2CqBXlB59S59R0MEy9HfNUTSiXxc1p+6B\n",
       "n7mLSqLJdKMqTKglPzdhWc7eJKUnyWXP8aO5EMEUc6qZQJ1vTx2uBm11UREm/SMQQ3BsEqUPmXBG\n",
       "QQfLQD5MN0pVRc1ohf+2p6gGfOUqVZhQS25Aashu46DUwWyECKZIwUmiJq014U7UE4us+/3to5OT\n",
       "Bc87z09Ofm9y8g0MchMS1oLkSN8A+n9a6XAykPFHax7Na01JUUhsnaJWrGALGjJEzaCs5dGZEME0\n",
       "WBdgWgz6WQsmhdEUKcFo3tORT0HXrIIOloEW+vVVj+bFsqL6GUwqowm1ZNoSl8KUOhcimFZV+EkP\n",
       "jQJjKgBMaBgcAvhcQZQ+h7u+MkzdddTz9V5x0kMVkRalDBNryYS2ApwhiC9nCF4SIpi2Au9C6LMQ\n",
       "b4wHgKkKdxiVWlOUnsYLgzpM/XjZYSFrWzPq6oakKHWYaEv++SSe9k5KJe8NEUyLuYkdOUHb4C+F\n",
       "msfE+rvWbbQh2C6Zy2xOpw4URdN9BwegPDDhVwUdLCNeT/bBo+mCCNOVoH/GW5R3NNlayY3LoC15\n",
       "h9h2jbTpLzCYSHVOqMCUxZ+Z+vuPkv62k8aG3duzaajfa+LN1i1REN2voeUPfQxZUJQe/mRdAhN5\n",
       "lddh9YErjrHdAK85fexFkBTlgcnWSm9OBmmJdtEDOP26fGOfpzA9i7+8pQJTGs/MWbMD26Yz3Je7\n",
       "ecACRCFGH5FIK096LLBXUYhCBFibmDdXGkghhOUh+MEchWkn9idKKjARqZ0dmPMMPkpqh14Nq126\n",
       "X88Z4b88lZZIt9YhZAxINXsfHAykNZnbEPUJvaLe1UdhwsMjXVWBiYy5ZzsAU+Ys3yjWo1NXvZML\n",
       "omTvnyTubkAdK9XEtv9kKIjWbCW+3OcgAw3gAoUpc3RkZIeaC/HqyMijxQ7ARPd4VkcsQceubXOo\n",
       "+z4fmErM0/t3ubxFDabucvneWgeskxbOHDp2yB7/4qVzOGP4nHZGGgym2wiSURrtw+7GspwPTPG8\n",
       "PeX4Xzc3VJ7FzkpeXevj9MeaMB+u+DOV97/QSJHBdCPoyIoarQJepGgkEF0b1vRHL+Fg6urzm0FB\n",
       "3Ni0fqZPyZZL/svvntlsdZf4FCzYK7GIwZSAqLgXIpFA/fer60bpKFzLb2+LcHnrBbGq8syQjDl4\n",
       "in0emLgeHrkfvl77P0wOTOl6Arxe/8vjI2C8GIMaD9MxaO1BdFdUnsnGnHUwlnlgtwnHa2DU5tek\n",
       "1xmYrEkv1bgFzWeErkhjizgS2IXNaNy6KSfA9LBWwBvyO7xryPAKaxM92PMt7x7NeXa4h+zpP+Ud\n",
       "c8M9/6CJG/G+81ZUhgVuembhwmS7EHDfN5AluvFMR2OLOBJIAkNG/uifBZiSD6Fla19+0IS4uHHT\n",
       "f6ihHk8mso+bve5c8owS0RL9eIvoqyKGVeC/zGPcAIx6/Y1U/QMJyrgXpoIF02/QuNpNNs40togj\n",
       "gcMUprQ9ORGYDHwsuRo2gPYH0caxPg0pMene4qQ7Fz9jqatBIyoGZCoWgYGK08lAPsDBlJn21H7/\n",
       "XBmqTSxLiySpGg5jHMy4Z3Xo7rNgwqfHbOeGY4skErihXC7njHyqXuRhAhxcW4r53AnRxpFqtMCS\n",
       "F8OV7lzyjF5L2d1HRQzNhdpd5fK21G+5idXwwvTmnHXoNrEsZ4OVymiAusezImfGBKYMspfezFtr\n",
       "PYkExulogs/nBJheQZIz8OCI28ajleQr5hiRbSIQ3DDhZyfI9ElWGX8ViV++BEAAvzbHRieu5TnP\n",
       "ZtBrnTEfA8jDn2O+YrMqSu0MgWUpIUkqKQGHBnjYs6zngDtvMhq11P04trjTJJHANEYl0w8ZYW0i\n",
       "1xJtuo5tvNNEb7BbpDJ4EzzZB+jLjzIlnOvk0Weprxbxs9MQQ/cl2tm6KERUfA0ixx8DeJrExZ7m\n",
       "gpFve/yfylzBJLIsW1pYYFlKSJKqMFk0wD1umUNVHib99oq2FMcWB6o0EoiPQNadZl1bgOkLn+gl\n",
       "Nh6oaktgoIJv1a6hsetxkALpuOU5Mp+hFM2rsGfId0Sp7Zdfhu6WCkeIqbgZs7SSuGb683+/za7r\n",
       "j92V3wFzBZPIsmxp4SM+RfGToQpM1lSb7XfJvFAB1+mtQVYoNoqjaG1yB4v47mw6bCgrta/LOnPG\n",
       "uQavF2gU3uC+u4Soip7sAXRfWXbFONe6G4jRFEiSCjAJHMwxZ4OQF8RElmVLCwssSxlJUkUJx8H0\n",
       "7Ce/C26YxnFs0aj4h145z2TVdZwkS8UvYx4lzuV8S5rCBybj3HdRiKm4JiP9383XXGsdPAgWSXKj\n",
       "KkyUg8lCl7b0jmqyIYiJLMtWFhZZliJJUlkJ5WBGLyKLrtuHWOyBqY5jixlQgYlolKSg7pfa9bD9\n",
       "rC4Rz1zQDxp0b4bvsUiSNnOxJUyEg2mFLm3pLRCvCmIiy7KVhUWWpUCSVFdCOZjwA6LC5eCnznhg\n",
       "uvBu+D1SVl695r1sxQvg9vAtkiQ9z3YIja6YlMBcvJM9FeiPLjGOZemnlH/fYVl6SJLqSggHUydV\n",
       "0Vzhy1DRKWNTXpgYSXKd6miiHEyXdKTkFhNZlq0GgsiyFEmSykooB5OKu2FKFkMEU9e0d9JzMRdb\n",
       "wUSZi10rRGmbcOzDsmxlYZFlKZIklZXQlqT7vlzgXrL2ZbkQwcT+zUdwIVzMxZYwEeYiDV0KZgZx\n",
       "bRJZli1hEliWIklSHSbSkuxfv9T0uhCrzDDB5Hb1JjzMRbvNDeDoi+BiLu4+KErHCjAsOuQiy9J2\n",
       "6HjNXIbIshRJkspKaEu6yTYxVhMbSk9lwwJTxFX7dR7mov2/LAXg6Ysu5qJNOrF6+HMncqKYyLK0\n",
       "xDYLmjnTCyxLsSh1JaQlAysJDVI0c8j+qdNo+gWLlF0IapFmvlVMj6yFqvMVm/oqsoBHQCUrtUVI\n",
       "zT5pZDc0Pzhwyi/0av/z1ojPmyJ9slHzkZazLP2UihkDMh1BlWzTijlP6PUJM1ww/cJVvMVqC8hc\n",
       "1G9XIQe1hWUZVMmbMJR3H2SE7uc73Lvz/TCPrvaxLF38unhfyGCyzxWtvjp/DtnbybI8Ln59GQLD\n",
       "1OEfaovnYJ5ec8ey/F9+qK3TP3v4aVhw1146MPDPHv4X+mnP0+Z5z6QAAAAASUVORK5CYII=\n",
       "\" style=\"display:inline;vertical-align:middle;\" /></a><br>(see <a class=\"ProveItLink\" href=\"../../../__pv_it/theorems/64354b154e299241af04edea200abbb0bddd35c00/dependencies.ipynb\">dependencies</a>)<br>"
      ],
      "text/plain": [
       "leftward_commutation: forall_{i, j, k in Natural} [forall_{a_{1}, ..a_{_a}.., a_{i}, b_{1}, ..b_{_a}.., b_{j}, c, d_{1}, ..d_{_a}.., d_{k} in Complex} ((a_{1} + ..a_{_a}.. + a_{i} + b_{1} + ..b_{_a}.. + b_{j} + c + d_{1} + ..d_{_a}.. + d_{k}) =  \\\\ (a_{1} + ..a_{_a}.. + a_{i} + c + b_{1} + ..b_{_a}.. + b_{j} + d_{1} + ..d_{_a}.. + d_{k}))]"
      ]
     },
     "execution_count": 2,
     "metadata": {},
     "output_type": "execute_result"
    }
   ],
   "source": [
    "%proving leftward_commutation"
   ]
  },
  {
   "cell_type": "code",
   "execution_count": null,
   "metadata": {},
   "outputs": [],
   "source": []
  }
 ],
 "metadata": {
  "kernelspec": {
   "display_name": "Python 3",
   "language": "python",
   "name": "python3"
  }
 },
 "nbformat": 4,
 "nbformat_minor": 0
}