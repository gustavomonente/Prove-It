{
 "cells": [
  {
   "cell_type": "markdown",
   "metadata": {},
   "source": [
    "Proof of <a class=\"ProveItLink\" href=\"../../../../../_theory_nbs_/theory.ipynb\">proveit</a>.<a class=\"ProveItLink\" href=\"../../../../_theory_nbs_/theory.ipynb\">numbers</a>.<a class=\"ProveItLink\" href=\"../../theory.ipynb\">addition</a>.<a class=\"ProveItLink\" href=\"../../theorems.ipynb#leftward_commutation\">leftward_commutation</a> theorem\n",
    "========"
   ]
  },
  {
   "cell_type": "code",
   "execution_count": 1,
   "metadata": {},
   "outputs": [],
   "source": [
    "import proveit\n",
    "theory = proveit.Theory() # the theorem's theory"
   ]
  },
  {
   "cell_type": "code",
   "execution_count": 2,
   "metadata": {},
   "outputs": [
    {
     "data": {
      "text/html": [
       "Under these <a href=\"presumptions.txt\">presumptions</a>, we begin our proof of<br><strong id=\"leftward_commutation\">leftward_commutation:</strong> <a class=\"ProveItLink\" href=\"../../../__pv_it/theorems/d033d2a3c7b2c08fdfa473372212706c4e014d020/expr.ipynb\"><img src=\"data:image/png;base64,iVBORw0KGgoAAAANSUhEUgAAA2AAAAAyBAMAAADIEqX2AAAAMFBMVEX///8QEBCIiIhmZma6urrM\n",
       "zMxUVFQiIiJERETc3Nzu7u6qqqp2dnaYmJgyMjIAAAAcRTyBAAAAAXRSTlMAQObYZgAACalJREFU\n",
       "eNrtXH2ME0UUf/3Yfuy2d0SNCkZTDkGjIhcwfoF6apT4h9iLiYBGrzn1D4ySqhE/QrTgH9avuAaj\n",
       "YKJWL4Ic0VbU4CVGKihEBGw0RjGCl4Af0Xieeke8noozs7O9nZ2d7q5s6a3HJNfOvpl9u/N+M2/e\n",
       "vv31AJyVwKFDZWhm+RAmcJEz2venh35zekqgb02hmbecKE9kwGCB9rV+zZuOAUs3945nTGi8INlP\n",
       "K50+AUyZxB6/8L+ERVGFTU/4DLCXO1ifnvNob1iRddP9tRMcdpRWtLu6j0XHat9LbA3gF8AeZg9b\n",
       "VI/0trgz7H6nHVtL7u5jVPt6w9bF+AQwpcoef873SIlOtWzYaGVYex2jVjqsBNcU6vTjLxem40uk\n",
       "hCZY7ivAoqaFcL9XgBkNa68jXHUK2HZwBViCemZ5ktAEm1U/AfYt6wLjWa8A2+5KRyLrFLD97gCr\n",
       "eeYDdnPWJ4Ddxx4G8c2v2jq14MLY8Xmzp/BG/L5trgsdLd3TShZAbGlLM4L4vOmjbgBbtaVLV7tV\n",
       "HNhXfQSYNMQexyrIPU2GX1FLzqmxL1VbBgGmsUaU/ykUVVjkVEfxJ3kEwZZmgXiuFOtnBJeqMWTd\n",
       "RU4BQyN5qgBTydE+spAHSGG3Afl3HwEWMrn2KJqQL1fgfJDmZB0aWz4ZQgjcxawRUTDTmrr2PKeA\n",
       "bS4AMptiAmI5RErMLECX6oeaVlvA0EguRmMicfsmsREGfARYIGM6RoO7pAB3odmZpVPyh1MGBjLc\n",
       "iWMNoSpEdTx2DwzcOTDwPZ4J/VAsw3yHOpBd5b94HVVeEC2DptUgFmpFI0EhYJH49y6xEWap/gGs\n",
       "q8IDdiLIwzpgDlZHIAfFNLevoM3+mhI1rYMVth/Co5yOQI4XFDugptV2haGRDOnd6wD2UsU/gM1S\n",
       "OZeIproy6AIwtJA2A1yWYY3YWsHz2zFgf+PV88pcVgfSzAnQpRwDRkeyVZqhn0T3sIyVm/EHYCuA\n",
       "CzrkUYj097kArARLFbVcNQHWgTYc54AN4f2mfQEHOjB7mHYp54BpI/nlbewU94mNEMv6B7ATzRsA\n",
       "CqBWwpeZMg9YsR/HfrRiaIilkssS8Q1Z1oiRSqydB6ymg3wYGu6Ah0FWt7E6QhnoYcJ6cil+hdXu\n",
       "yqxVG8lBomOe2AiJQQ0wMq69TgBrIY8DlSOPl/yHSYBhWtu2uLuDByyKHccyvWKYx93Tnz0V2dJk\n",
       "xNm7gAespkP7GGvoOQuP/knTytm5N8UqJZfiV9gyRvWYVjIS6ZjHcf07sRWSwxpgn+Cvn5wAlsAL\n",
       "v6XQhMew382S+43Quch0FF+1clPzXemAEQeZDhd7GM0F5DrjCOusnRU6YTV+NM85AYz0Wt0Ej6iM\n",
       "miW15K+ij1AWTSSm4f0ErfQau2xypUOaZKWDF2wCUT8rrbHUwmDd5C/1M51kySRKTgAj6/CTJgCm\n",
       "OQNmA6ZhY/y8gyk3mtZ+bCFc9VC3Gx3BnKNuLrW2qJHp9V6voHJQAyy5o7f3OWdBxze9veuzTQAs\n",
       "OMLNthw0rcRSjdP9aL3GP2mU+Gc+v9wZYK35/CPlJpgoUeVEzaMI3PJ043bxZN33sqdQwG4lwAa1\n",
       "VCOOUqamBIBF0jVfJC4L+p3IQsMWp14ieHQIVWH8lNuXNOvKJ1DALgcZ2VPSkMCbmZaGRGXhvI7g\n",
       "8QbAwu31nWztGcleJg9anFo0Hry7bZk+cSKDcLQA3EkBi0KQfbYiaUj5vTkVJbcDLjQ+OGdhpv3u\n",
       "WXIiUyzWIbxPvzdsvQhefQxuKh8FzAqwRCUK/APEV329oHwWgrIRsF1gH3O0qk5kVutQf3uXfPz5\n",
       "Auwpg1Iejy6xeeVeCli8/zrk7QhRUyYvVHEaMowNqtywOMUA9qKUwdmBpfxe0zNDf0bvaruNazXI\n",
       "trSRBMPZ/DrsaftZq1yOH4hvQNfQYU6MHEXLEHTAo7cgm7RiPxgKY0+F05AkDaWkd3zBABZ7Fm1v\n",
       "69JdBYiwoZJ8j4RWAXFzpxWmmVuJTOPcRTvwFYUqQlgF/ku+bliUweFxFCU2NENQN6Q7XgfsLeTn\n",
       "nifP5esTONWF05A9GmCJmusigCn4LeocWAjSB6y1Q+0SUkJkK2GfuRXLaO18kIiKTisVk0BBl5PJ\n",
       "4t5guPfk0BF7DvOIWeo9kRSVP3TAWlPEpuShEIUfJA25MJ/Pp5R0vJI1AoZfkMNJmOceZa0dKAUz\n",
       "tHocnGtuJTKtnEQ/BSpCyFNK9+XzK+PvGNyuMsTnBRo1yT1ilnpOJAX6shsDlkSWk6tpPTogaciI\n",
       "tsLgihQD2Neo5wg82Wu2dlGNfV3YSPpWERxmwLBsL3GuZDcSq4g+8zkAgf7CFF2xeL7+bb55z4ik\n",
       "nIC1tG3eVsQs9Z5IWkv+6mF2Of4YyQUXSBoygfFJdkCS2cNImSwNVbC1VxfQGfQjoHZdDW+3Azp4\n",
       "IJnDrWNtmix+fRbLDkAIfU6WhitsJ6LiRgjseR3gI5KK+8hw9+bXK94RSTkBwyy1JzyJmKXeE0lp\n",
       "ClwHTL5dlZC7Oh06S1oaEr+dmX+ATncGsCvPnEas3VmSJkOnij9K4e6NF+FECNJx3U7i7VBNa1Op\n",
       "DMWdqLZq5hnoU1cx1omqWIBpaDE8yeXdP95au9cHTffuHZGUE2wHN4AJmaXeE0lprGx846yQnYy6\n",
       "hCDaw8ypKUPB/mzMeWi1dWGdAoZbFaNe0N4IKIZjUydNRVvLBvR5en6lKWdlunfviKQcCZRhltra\n",
       "2ppZ2hAiKU0fGAHri1w1RRhZsoBJs+YaetJa5AykQ2/VappebWwFvdYHfCeq4oKk5S9jvzXtiZ4R\n",
       "STkSKMsstbW1NbP0cImkAgRyZsAqkW0qJMEJYCTYtqhBRVRb82JNVrHonqwbQ3WZYi7PiKQcCZRl\n",
       "ltra2pJZ2iAi6UspM2B1y+GScL654DBObhyRlCOBjjFLnXBARczSiU4kDQ3ygHlCJOVIoCyz1HZx\n",
       "iJiljSCSPgL+ASw8xLlEb4ikHAmUZZba2lrELD08Iql18dOPIeBuLujwiEhqJoGyzFJbwCyZpY0h\n",
       "kgb99HMjc5joGZE0ZCaBssxSWw6oJbO0MURSuo/7BLBAmXWRXhFJeRIowyy15YBaMksbQyT1109m\n",
       "zT9K95ZIygnccUAFzFKPiaQ0d+KXf/uwX5D89YRIygnccUAFzFJviaTKFH8B9jR7eU+JpFzxhFnq\n",
       "MZHUb/9YRWF9RTOJpFzxkFkqJpLeDP4CrPYGlJZxRBHwkFkqJpImc64Ba/K/34ukYJyWI8Is/Q//\n",
       "fq/Z/+DyHJjARaass08P/fYvP6vajCqAYN8AAAAASUVORK5CYII=\n",
       "\" style=\"display:inline;vertical-align:middle;\" /></a><br>(see <a class=\"ProveItLink\" href=\"../../../__pv_it/theorems/8440502a5091e1336d02ed55550a177eceff3f360/dependencies.ipynb\">dependencies</a>)<br>"
      ],
      "text/plain": [
       "leftward_commutation: forall_{i, j, k in Natural} [forall_{a_{1}, ..a_{_a}.., a_{i}, b_{1}, ..b_{_a}.., b_{j}, c, d_{1}, ..d_{_a}.., d_{k} in Complex} ((a_{1} + ..a_{_a}.. + a_{i} + b_{1} + ..b_{_a}.. + b_{j} + c + d_{1} + ..d_{_a}.. + d_{k}) =  \\\\ (a_{1} + ..a_{_a}.. + a_{i} + c + b_{1} + ..b_{_a}.. + b_{j} + d_{1} + ..d_{_a}.. + d_{k}))]"
      ]
     },
     "execution_count": 2,
     "metadata": {},
     "output_type": "execute_result"
    }
   ],
   "source": [
    "%proving leftward_commutation"
   ]
  },
  {
   "cell_type": "code",
   "execution_count": null,
   "metadata": {},
   "outputs": [],
   "source": []
  }
 ],
 "metadata": {
  "kernelspec": {
   "display_name": "Python 3",
   "language": "python",
   "name": "python3"
  }
 },
 "nbformat": 4,
 "nbformat_minor": 0
}