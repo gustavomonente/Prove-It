{
 "cells": [
  {
   "cell_type": "markdown",
   "metadata": {},
   "source": [
    "Proof of <a class=\"ProveItLink\" href=\"../../../../../_theory_nbs_/theory.ipynb\">proveit</a>.<a class=\"ProveItLink\" href=\"../../../../_theory_nbs_/theory.ipynb\">numbers</a>.<a class=\"ProveItLink\" href=\"../../theory.ipynb\">addition</a>.<a class=\"ProveItLink\" href=\"../../theorems.ipynb#strictly_increasing_additions\">strictly_increasing_additions</a> theorem\n",
    "========"
   ]
  },
  {
   "cell_type": "code",
   "execution_count": 1,
   "metadata": {},
   "outputs": [],
   "source": [
    "import proveit\n",
    "theory = proveit.Theory() # the theorem's theory"
   ]
  },
  {
   "cell_type": "code",
   "execution_count": 2,
   "metadata": {},
   "outputs": [
    {
     "data": {
      "text/html": [
       "Under these <a href=\"presumptions.txt\">presumptions</a>, we begin our proof of<br><strong id=\"strictly_increasing_additions\">strictly_increasing_additions:</strong> <a class=\"ProveItLink\" href=\"../../../__pv_it/theorems/851e5233fd5be1e4828ad651abd84bc5389b8d100/expr.ipynb\"><img src=\"data:image/png;base64,iVBORw0KGgoAAAANSUhEUgAAApoAAAAZBAMAAABjmZOTAAAAMFBMVEX///8QEBCIiIhmZma6urrM\n",
       "zMxUVFQiIiJERETc3Nzu7u6qqqp2dnaYmJgyMjIAAAAcRTyBAAAAAXRSTlMAQObYZgAABk5JREFU\n",
       "aN7tmX+IFFUcwL93++t2ZnbPP4I8pRjvMqU6Wjw6Lc22hKR/zrPAMgKXQwnNZFPQrMOuC2otjClB\n",
       "TVBGJdP1xy7FYf6Rbnel+ONiqUAKTxY0BYlNwiLvMnrf92bm3puZ3Z3l9lDKB2/mzfd99zszn/l+\n",
       "33vftwCVSnDderhTPBT/uu7KSqE7nLyWLbeSZn2xs1z3DqPeTuWoq1TWIHIljjQLeDlUlmYUT5F8\n",
       "zR9NiZezLPWwWosivZ2sjaGgZpfsu5scluPLIM0zKLpalqaSJaeoPg40y1mOaqzWpERjNfosBYfo\n",
       "IqmHTZrbyEW4pyxN2r0NxoFmOcs/GNUWVGoJY+4dnxvnxqxN4K5W2Wg/PR7mwmkE30Q1aKJnKNny\n",
       "4ya67pnxoFnO8nqj1oTmAr1GNHcxFz1pdfiH8XqCQTNyOp3eWmEWOp9O70+OC83SlsNJVmtD8yTU\n",
       "iGY0zs7TTpsvQZ/xkkET/kqluivQbEyl3suNC83SlutjrMLmgSl6FTTDc2ZMcmK63Dzbxq2/ubMK\n",
       "mkrzVKNhDsDnHjPwdrWQyB4waS4D2FiBZrATGmo1H0COp1nackOeVX8T/FaNbz6pRa85MEn/6BlN\n",
       "4LY121DwTjP8JnzIWhHrV8eW01PmqnQD4IJJcx6dqOoZ819cafpjOGvVqMR4msxyR8HltllWd+Vh\n",
       "FkCgxyNN6R7wEd0WEZM8DI2qwK0bgll4wSvNUA5eIW5IvFkeHXw6VuDxuA6/AxwxaYagnrhAgH06\n",
       "Nh0F1nwDUxLc6j0JrWOmKK9+d65qp8ksm+FjqmCpi7P6hA6rIdBGX0IpFq/cWywmnGOG1eEbhhAx\n",
       "sRil3xWLrxWLl0nLV4BMThDg3PHcTBDVShnFh8DHQzSjjt/xPh7ngvQ3wBKTppIXs50DA4/Dl4ru\n",
       "0zmagzDGSQiNqjllt4MmtRzNiio8zYkg/UGiI+nRN+t6IOMcEMlyc0GWF9RRX5/v1TcnWpJRmkak\n",
       "XwT/CEczXFjEG4h8sF2Hr9SYwmeWOwOJMcGkRtVc5BAMtK1py3I0qeVGjVcRIp18ePlaFTSJCx53\n",
       "TtaNecO9TEEmVw1N9D5zQZS0zUI3qZ/PN2nCxqVE6X76KzI9zcNGX9/HAs2GLURXmrHKmVdzwv5m\n",
       "5+MYMmqUoDro8E1qeUnzCkGFm4WkEQgWjlZBMwurZO2phI1mnIynNrxkVPPsmzcxzHfP5mYha4V0\n",
       "HUf20VkIviBPqjTip/P5Cyxv71MOvcTTlHGE+axziQ5BWxpIhTTdDsUXOnpRhklsgaHytTloUsvT\n",
       "9BZBxVyKYO2Fc4mck2amgDO10eA6GtTIWgVywyKmYL4hJgh8CdjT6aBJbVmWubu1g/QIxDrwhznb\n",
       "6v1VeIcc51g0cbbbfgR79isJid61D3IDwh4SmbagDZ6HwNc2XigECVuzIODoJTJ6c2pUbX857qBJ\n",
       "LffCBUHFDCmse5sXd8WdNEPofWvNBheUXVO33Bc+kLStkGYM2rzw7JDqjHRqy7LM3U0Z/B4k7QSw\n",
       "eV3ILPc8lKdrIZNmRKcvxMIr8Hoq1Uto7ggJNH8mdTKQ4SBk40WFRsutlw3d1Kh6qtWFJlq+C9oF\n",
       "FWdm6TnSjWFCLRXCgsBzpLOyCWPRfTMkadGkl8OUOZkOEsw3/c/a9zfJInVT2s6LCmU6ON5woYmy\n",
       "IRIbCRbGfTjYdIo0sQwT7LyKc9fDoimV2soSOjKfGo20XS3tSjPtxSh9m373rE4VaMqFXJgsn8go\n",
       "9y1e/khyc8ducVPgeh55EcVtunlAoTwPZZfAR2lafUwWfjFpGCXLn4P2zJKVNyI9ThXMkaw8Sa5u\n",
       "hXZM8aR2pCqjgQmuO3LA78gZH2GlFiBhOZ28AFmZ+DeQnM9B8+kHWyhNorhQCzThYTITLkPZ5tYH\n",
       "KM2FWdbXZMhIukONyt2/Sm0FV5qLzrqo8LvF4Zl/qtW8+N5TXrQ2v9VV1V8FPVAqDd4o0jSW+jh6\n",
       "Tk/12jNL/kpnOYH1EzpqxI0WjfSs2Eu3++xG2eNt4FdcDpXb7Z8MHIx/cl9Oa1B/xUbzaPCZSe67\n",
       "Hpy3Pzyb/3PEaHXprEV7ZU3sHYdN+1tSln5U8UV4mvngCa0STaZYthURZZ/s/G/AhJXLoRqapXbk\n",
       "xvZ/+vlH4X9S/OvW/gtz9gf+PgOZWwAAAABJRU5ErkJggg==\n",
       "\" style=\"display:inline;vertical-align:middle;\" /></a><br>(see <a class=\"ProveItLink\" href=\"../../../__pv_it/theorems/437e8d2201ac5eb00bf7f8601e9513f911e743840/dependencies.ipynb\">dependencies</a>)<br>"
      ],
      "text/plain": [
       "strictly_increasing_additions: forall_{i, j in Natural} [forall_{a_{1}, ..a_{_a}.., a_{i}, c_{1}, ..c_{_a}.., c_{j} in RealPos} [forall_{b in Real} ((a_{1} + ..a_{_a}.. + a_{i} + b + c_{1} + ..c_{_a}.. + c_{j}) > b)]]"
      ]
     },
     "execution_count": 2,
     "metadata": {},
     "output_type": "execute_result"
    }
   ],
   "source": [
    "%proving strictly_increasing_additions"
   ]
  },
  {
   "cell_type": "code",
   "execution_count": null,
   "metadata": {},
   "outputs": [],
   "source": []
  }
 ],
 "metadata": {
  "kernelspec": {
   "display_name": "Python 3",
   "language": "python",
   "name": "python3"
  }
 },
 "nbformat": 4,
 "nbformat_minor": 0
}