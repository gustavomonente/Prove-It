{
 "cells": [
  {
   "cell_type": "markdown",
   "metadata": {},
   "source": [
    "Proof of <a class=\"ProveItLink\" href=\"../../../../../_theory_nbs_/theory.ipynb\">proveit</a>.<a class=\"ProveItLink\" href=\"../../../../_theory_nbs_/theory.ipynb\">numbers</a>.<a class=\"ProveItLink\" href=\"../../theory.ipynb\">addition</a>.<a class=\"ProveItLink\" href=\"../../theorems.ipynb#strictly_decreasing_additions\">strictly_decreasing_additions</a> theorem\n",
    "========"
   ]
  },
  {
   "cell_type": "code",
   "execution_count": 1,
   "metadata": {},
   "outputs": [],
   "source": [
    "import proveit\n",
    "theory = proveit.Theory() # the theorem's theory"
   ]
  },
  {
   "cell_type": "code",
   "execution_count": 2,
   "metadata": {},
   "outputs": [
    {
     "data": {
      "text/html": [
       "Under these <a href=\"presumptions.txt\">presumptions</a>, we begin our proof of<br><strong id=\"strictly_decreasing_additions\">strictly_decreasing_additions:</strong> <a class=\"ProveItLink\" href=\"../../../__pv_it/theorems/8ed9c75147213549e5491b7925bb3c02d95265330/expr.ipynb\"><img src=\"data:image/png;base64,iVBORw0KGgoAAAANSUhEUgAAApwAAAAZBAMAAABuh+PUAAAAMFBMVEX///8QEBCIiIhmZma6urrM\n",
       "zMxUVFQiIiJERETc3Nzu7u6qqqp2dnaYmJgyMjIAAAAcRTyBAAAAAXRSTlMAQObYZgAABhxJREFU\n",
       "aN7tmX2IFGUcx3/7Mre3s7N3/hGUJ8V2l+dBEcstJeFLVwdJf4R7Blkg3HK9QGWykWmdUtf1z15i\n",
       "DEaeCcHIUdpJ7aAc10Hp4pnSlbJIkInKkOnRBYuYRJ4lPW8zN88zszs760Zi/uDZefb3fOe3M5/n\n",
       "/VkAL2vY+CbcsmosvHGztyhyi1PVtv0/xXn/+Uql0SJNN5LFVFf3BEB8ugvjNPDXM5VxempqtMMV\n",
       "I+9hqR625/Y6BXpRdMjvZNGAiCgrBOd32DdTGaenpmaclSL/ylJd7Fyd4nzh8DQlEVPDxLkDd6uB\n",
       "yjg9NTXjrBA5nqRJsH3lgrkWxBIsc1V0uMs8CxSb40Aafzbr6OOQibNJQzm9Mk5PTc04K0SOqDTV\n",
       "BWd4tk445XlW9seHyGUlegXYZeKMT42ODntMRZ6amnFWiDzMUl1wKtk64YRfzMyiKXo9Snp8F8MJ\n",
       "f+Zym71mdi9NzTgrRG5jKbq0s8UPTk5v4mjqa9N5PkrrQj84D7WmaWaStdKjZsmF1iUoWtLE+TzA\n",
       "kBdOL03tOMtH3srSI2rTRT84Ob2JIz8jX+Ec0U3wvg+cw3qjQXNnKc3F5gpOvqblVYgbJs5uMi8F\n",
       "6aB/3h0n1fwbOEnkcMmlcBNN8p0QQnPV09XiZPo2HsdBDS5xjkgBXgZpoFqcm6FBp3TGyfd11ngf\n",
       "m4XmBMSyJs4IBBFpiQ76VCW9dhjuzthwUs112njHsz87cNLIky6S22gKzUIkAU8uJr7jpdKrpdIF\n",
       "Z+y5AqqHZ3B/LpWm7yqV8IssB/kvzvEwmkCkFBlRbV5hFrcKQrMWnV5SZ3M4QwbkCyBdNHEqRX7f\n",
       "s3dyGXypaCHNhlPU+Db5q1QxqMBUQsRJI//mImE4AwOQR8PWimpbJ9MLreschK9yjjvIfJ+tsnUG\n",
       "5tZyvXSssDo7Wnau1G04o8ZT3HJvy04Nvk4kFXtnFzT+7eTEKCBWp4oiThr5iouEdXZU9QfBB06m\n",
       "Fzj9bTYw5sBt1QdOFNS0FcJU1FzELT1sdXYYeg4FbicaNP1148zY2DYOJ9HASLtzaJU716WtudL5\n",
       "UMwXxiMzZlWQU6nUEhtOElm61K7NSfipKK/DOrRTrh4n0T+a4Tldhl1FgS/EqseJmIEuk8XBWWGh\n",
       "1NyFRmvbVAT7UVClGfftUNigu+gx5fM1HE6skV+XUA2/xP/e7nSvBk0ku16aJ5YSH9rQEgFilUqK\n",
       "rZNEDvYHkw7JJE2NifgGxdk65WsYncEytgKqL8zynF6Bd3nHgyA/4MRpBcwbXEEoAyNpTAdgqbCM\n",
       "byg2oicOFSycaGKCnWTC+kzJyORtxqAwyeHEmlBSysKaFp5XClajJyA/OQBpsRT78HWEsAq9sN4x\n",
       "FZHICIHhkKygSe5buP0el86+AT9ahmXsnLE+ujfLcxq5ryis64+dcOnsVsCI0Lq/P5PAdPi1D9lk\n",
       "yp3H8AiatnDGccMcpFVblN7I5QYRzo8jHE6sCehBFK+fJ7IA2lkugLuCUBpgE+DqXC6XCCrbfnDi\n",
       "JJG7QhmHhN9kVt3ZzTZaphdzjqo7OwuKqkTOuup2g4WT1Oks3c6rkKGtM7zKcd6ZVxtPaQIwtDje\n",
       "OhprZfc6cGJf/DTqEbQnx9ZoDpxEpgV0h4Q/ArFwjpbDyRXkP2HPp4ljveaG0yFzleO3UdzBH+Jx\n",
       "xoxC9D2AHoBv8FfURE47cAbU3icIsB0a0uIPdJkvXS7GurEPbVuTXCnzfYhrLk0HxqmCK86IdtJF\n",
       "MgS2HdO4v5XEAaWqw+Csr6A9rgd0hLohtM61qrQAoAO1aNQ/w2910QbF4Qz37VtGcPbo0nzoUaX5\n",
       "6JbH7m0r4p1ijx7tPKFxpaYPrxW2YCLHCyPLXXFKawsuEvvx8Qdv9/l680+/rUIUXfxHwk/QDii3\n",
       "I25UeZykrugI2pEbdGwybdZv7Z3oLbgusl2mjytlOXxEHEQDo/MpFtkXXg7JDffnBuISd/9z4yf0\n",
       "+NMCzomGx1vKHIHM2arfddsfJhP00qcxH1/KcjNwU5g7Hd7sOIsNR1RPnGSSmLvFxSfkoh8ZNwnO\n",
       "I6ovnOUO6K7vf/b4pAr/Ewtv3PAP/KsET5dZ/MYAAAAASUVORK5CYII=\n",
       "\" style=\"display:inline;vertical-align:middle;\" /></a><br>(see <a class=\"ProveItLink\" href=\"../../../__pv_it/theorems/f7f8ce00b858ba41790333060e2fa23cc1f2fc610/dependencies.ipynb\">dependencies</a>)<br>"
      ],
      "text/plain": [
       "strictly_decreasing_additions: forall_{i, j in Natural} [forall_{a_{1}, ..a_{_a}.., a_{i}, c_{1}, ..c_{_a}.., c_{j} in RealNeg} [forall_{b in Real} ((a_{1} + ..a_{_a}.. + a_{i} + b + c_{1} + ..c_{_a}.. + c_{j}) < b)]]"
      ]
     },
     "execution_count": 2,
     "metadata": {},
     "output_type": "execute_result"
    }
   ],
   "source": [
    "%proving strictly_decreasing_additions"
   ]
  },
  {
   "cell_type": "code",
   "execution_count": null,
   "metadata": {},
   "outputs": [],
   "source": []
  }
 ],
 "metadata": {
  "kernelspec": {
   "display_name": "Python 3",
   "language": "python",
   "name": "python3"
  }
 },
 "nbformat": 4,
 "nbformat_minor": 0
}