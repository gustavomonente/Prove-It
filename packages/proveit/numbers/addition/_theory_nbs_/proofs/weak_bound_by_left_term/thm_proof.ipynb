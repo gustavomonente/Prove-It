{
 "cells": [
  {
   "cell_type": "markdown",
   "metadata": {},
   "source": [
    "Proof of <a class=\"ProveItLink\" href=\"../../../../../_theory_nbs_/theory.ipynb\">proveit</a>.<a class=\"ProveItLink\" href=\"../../../../_theory_nbs_/theory.ipynb\">numbers</a>.<a class=\"ProveItLink\" href=\"../../theory.ipynb\">addition</a>.<a class=\"ProveItLink\" href=\"../../theorems.ipynb#weak_bound_by_left_term\">weak_bound_by_left_term</a> theorem\n",
    "========"
   ]
  },
  {
   "cell_type": "code",
   "execution_count": 1,
   "metadata": {},
   "outputs": [],
   "source": [
    "import proveit\n",
    "theory = proveit.Theory() # the theorem's theory"
   ]
  },
  {
   "cell_type": "code",
   "execution_count": 2,
   "metadata": {},
   "outputs": [
    {
     "data": {
      "text/html": [
       "Under these <a href=\"presumptions.txt\">presumptions</a>, we begin our proof of<br><strong id=\"weak_bound_by_left_term\">weak_bound_by_left_term:</strong> <a class=\"ProveItLink\" href=\"../../../__pv_it/theorems/2082c1586c1ab021ba7c5eaebdd1fa2dcaee20460/expr.ipynb\"><img src=\"data:image/png;base64,iVBORw0KGgoAAAANSUhEUgAAAS0AAAAWBAMAAABnB9cHAAAAMFBMVEX///8QEBCIiIhmZma6urrM\n",
       "zMxUVFQiIiJERETc3Nzu7u6qqqp2dnaYmJgyMjIAAAAcRTyBAAAAAXRSTlMAQObYZgAAA+tJREFU\n",
       "SMfNll9oFEccx3+5273d29u75EHBFiprojGIaFBSW4gmVTAvalYfrIKQEI0gaIgSFWofpJRyaTGu\n",
       "bUmCIm6MRM2DOfRBIkUX86CcEvZB8A8qi/gHBc+jNKDRB3+zs3s3c9lLU66IP/je7OzOb+ZzM7/f\n",
       "zAD8Dxa1qYItZgR7BNuoJ4dUHpXGdc5TEdsV7BFsEYPqFqm8Ko3rpacidoF5XqjnPIJNcaj6yawe\n",
       "LgkrXkvF2EW2omq5QW9oOQ9moTW2dp0qYaJjqiQuyaAqxqVU+FG1ws57FOMaoIqnh4f7SlvGPk/F\n",
       "uOCph9WRYjyKcSUaqd4mkz+WxlXl6XT1n4s1nuuPsXm4HmPus9jTyHgoVRocMzmuaP2yL3Hxaqna\n",
       "Abr/fWxhmm9HqBQrvk9yOC7hC3iDxWO3ktRZD1WogKX8fH1nJLK4gA7VGjf8i9jlmu1P3AeZn3ku\n",
       "UQ5RqaY6KRgc14AN35BeaCouYj1OhB1IclzKVxDGfmOdVBKEgjc55a/ldkiFtDaFK/aEaziLSgGZ\n",
       "4o5nMnszmef41GDCPixaaLu7acbDLNPgb5KsmcyLuZlMK0B4EiQcS8xSqbYUPFf3RocBuR7YhVzx\n",
       "1xDEBVCuFcT9HFAm8lxw9VvGo9kUJ7j5KjsMI3qeK+psxpeD1c/czaOuGj8J1SCZAtljCJeV51Kr\n",
       "NrVDyMVa3Qo/8OuI4+s8l/IBYjgCNPmvN7TnPVZBqILjGrHgGonJTiro3oE97BcnCYbZIWHSqOXm\n",
       "RkgA5Vpem+daFHG6BBcBrEmxgo/7mLkUO+C43kPEGfXjntiWn3Mev4DcynOloAPPUj/u4RLChWtF\n",
       "giiCOxfHm6AGBl2u8M4uJu71hA3KTZLu0TOdIT/4x6iaU0fhJL+OP8HdVpzu+vya9+q+x9fQbHNc\n",
       "shY/oCKKReVGRVkqROHfub/10AbfJ5NJLaT+fofNx3LMN+Um2R7DVsSPpiaqocrTK22ea6hyaxv+\n",
       "i2eFodvkfmsw+HxsW9A7H/dUnQriOPcjhvyALIGYFUmTLpgNEbqOsW0mw9UCxGMJgkmNZfpMz6HO\n",
       "oJOLRFjQfn/WE80Fo2U99JunVEfFAvYLWVB1Gl/pfNxHs+Pg1h7bIOnN05zbw8HnNuMRcZR/fG4z\n",
       "4Nz2Nua2iythY2rozvU0FrC2BgPvN7IjjluDq3Jcyp51i2kfV9CjJ9dVN0x7ZtB7jvLiIDHd85Bs\n",
       "WZvunsOad6ymFEPGQAlhfOU+yYX+592kmtG9sDvoXihU1gU2lg2qqRfemBGxNkxpXvhit+DM8B4d\n",
       "/0/36Pue2A78QnhoFeeKYZ4mf4X1t+FzsPAnHu8jgm4VrZ0AnLQAAAAASUVORK5CYII=\n",
       "\" style=\"display:inline;vertical-align:middle;\" /></a><br>(see <a class=\"ProveItLink\" href=\"../../../__pv_it/theorems/7aa592ba0e6c57903b3885bfb8ec9b780eb642200/dependencies.ipynb\">dependencies</a>)<br>"
      ],
      "text/plain": [
       "weak_bound_by_left_term: forall_{a, x, y in Real | x <= y} ((x + a) <= (y + a))"
      ]
     },
     "execution_count": 2,
     "metadata": {},
     "output_type": "execute_result"
    }
   ],
   "source": [
    "%proving weak_bound_by_left_term"
   ]
  },
  {
   "cell_type": "code",
   "execution_count": null,
   "metadata": {},
   "outputs": [],
   "source": []
  }
 ],
 "metadata": {
  "kernelspec": {
   "display_name": "Python 3",
   "language": "python",
   "name": "python3"
  }
 },
 "nbformat": 4,
 "nbformat_minor": 0
}