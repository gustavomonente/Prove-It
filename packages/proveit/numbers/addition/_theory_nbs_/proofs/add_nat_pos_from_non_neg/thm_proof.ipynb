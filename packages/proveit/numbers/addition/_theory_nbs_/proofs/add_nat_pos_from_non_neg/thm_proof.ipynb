{
 "cells": [
  {
   "cell_type": "markdown",
   "metadata": {},
   "source": [
    "Proof of <a class=\"ProveItLink\" href=\"../../../../../_theory_nbs_/theory.ipynb\">proveit</a>.<a class=\"ProveItLink\" href=\"../../../../_theory_nbs_/theory.ipynb\">numbers</a>.<a class=\"ProveItLink\" href=\"../../theory.ipynb\">addition</a>.<a class=\"ProveItLink\" href=\"../../theorems.ipynb#add_nat_pos_from_non_neg\">add_nat_pos_from_non_neg</a> theorem\n",
    "========"
   ]
  },
  {
   "cell_type": "code",
   "execution_count": 1,
   "metadata": {},
   "outputs": [],
   "source": [
    "import proveit\n",
    "theory = proveit.Theory() # the theorem's theory"
   ]
  },
  {
   "cell_type": "code",
   "execution_count": 2,
   "metadata": {},
   "outputs": [
    {
     "data": {
      "text/html": [
       "Under these <a href=\"presumptions.txt\">presumptions</a>, we begin our proof of<br><strong id=\"add_nat_pos_from_non_neg\">add_nat_pos_from_non_neg:</strong> <a class=\"ProveItLink\" href=\"../../../__pv_it/theorems/2b76ce15796f6ef688b1e0f8ddfb26a1f55cc2ef0/expr.ipynb\"><img src=\"data:image/png;base64,iVBORw0KGgoAAAANSUhEUgAAAqAAAAAbBAMAAABRgCBpAAAAMFBMVEX///8QEBCIiIhmZma6urrM\n",
       "zMxUVFQiIiJERETc3Nzu7u6qqqp2dnaYmJgyMjIAAAAcRTyBAAAAAXRSTlMAQObYZgAABvNJREFU\n",
       "aN7tmX+IFFUcwL/7Y/bHzOzeERGeUox3eUj5x3JSRiptSUZQumfgnSTccmhxJbL98C5/VNsVtCrK\n",
       "lKiXII6JF53ULsphB/3YPDO0jM1+WShsUQYWm5aFbj/o/ZqdNzN7N7sw6Al+YWfevvm+NzOf933f\n",
       "7/e9Abgml1kCfasv/02F+FWFCB8U9PP3rXPWDl6JR1x8VdlcCB/mk+K2CQr0LPrtnGDYRsYHKhco\n",
       "0CI+nR4fqKOO2+JD80dMu9OX+ELKpYmtmv+/fXGzBh+ejzOgsIYC/UQ3iHGAOuq4Lbs0gKjqUmfR\n",
       "mEsjU7RUbBKSIJ7TLRRaKNABdAynxwfqqOO2jKLfF7ZaSRlDvfqF/ezckLNUVFdz7vSQ5f+jiWaA\n",
       "RlhZ+r5UQvN9FwUaRcYg58YH6qjjtkxBv9VuAV2ouQR0Nzuf7OsjxrpsQyABqYqFBnMEaOTY0NB2\n",
       "h6DkqOOyhMvol3IL6MfgEtAozeU6b2H/exaLZzmgvjSN8hczmXVOUd5Jx2WJNAJ4sefbMjpVqwNo\n",
       "eE7bZDupM82zLegONSfqACo3T2MF4ozFSjDpkZTFHFBvIwW6HGC9E1AnHbeDPJpRIeSV/E3wWz0W\n",
       "ercaPWcjJf6nZVUTuu25ULF2oOG1sJmNc9Ec7HvgcEQxgPrLFOg8Er68NBT+VB3oPHuIs4m/VCe2\n",
       "uKXVjBmVvC5NPdLuAtyBVk3pGoGKN5Jp12ImJZWhQTGhWweBHHTWCjSYh8fRdEc2LaUqSScDGtCW\n",
       "G0CFPynQIHiRMQiUO408wlOHYWqSA0p1agjNztIxJ+69gZTSequtdPzzkn7LKCp4EO+7NHgShJnk\n",
       "PeRS6eebSqWkrUPjgq8MQURhCa79rFR6olQ6Q809mzdVYEt6aBaY1cbqFD8ExouxEPNvLyEpUqBi\n",
       "MorneZia8gUKVC6Y10L7RufCO7Lm0zigVp2q8otzJvfuzIKUPgZ3ckBRq0HiToJxKOu3jFGgk0BE\n",
       "o+5P1WihnjRk7c4RpaELc3yFh9z4vlotdJKxwUCADnAWCkuFRuPtGNBw0bRwjmzcocF7Skzmp7xF\n",
       "p7pcctQ4OTIE0gkf5DmguNUAejTMYgqXiqMpL/4D0rk6gCJD/MAevhsKzMj0imy+HqDoISpOjTyI\n",
       "hwcayRnpuW6hsH4Z0m0ljVtyyF0iGR5+1QSU6MCeVruLFdtWMqMQfm/VSEy0vzar82M/LT28ROGA\n",
       "0ladyGa7VHhW96FJEpTEvyFQHKkDaA5WSuo9SQvQOPKtFsLItdVsof/i+f767EpQ8lWeAoVqOGoA\n",
       "FS4xoAfQA8sNGIbPX6Tr9mH5raUmoFhHXCWgOfmY+bZvJLo0iJKsYQ0JbE+jSWDRIXUoOBI1KXHs\n",
       "Kw4oa7VAgS7sMNmqOU1zlH74Jpm3A80WcexmBe5CSIn0ypAvm0kFCqGYqcKXhD0JG9BKh6TA3e12\n",
       "EG+D2ALckD73Wt7H+YxgrUd5EgN3HMRVb8pJkdx8GPKjJqBYxxcTUrB0spnVTOhAz8Bep0iy24RV\n",
       "B9fh8x4KVKb5HAVKWwF8riILvY41wBkdxjjYvKQ7bgcaxDbYqxe42dk9bdvN4X0pC6m24xZb/PS0\n",
       "UmXK9/I9c3eTj58AUT0CNNIjGXyJepCO82nTAj/C8lCI4Ov9dIwLwjOZTD8CujNoAop1PDlvku2p\n",
       "8IvEVlbyxH04OOfApuNhq9aOTCajSIlwIWUApa1A+gH70Av8WK82u66aV0ohZay5bKqoecqzjRA8\n",
       "G1n5gZf7qiWR+kqJDmOZ0G9QIUkt1L/Ith+aVUPfaRZY4iXYNCQ1k7YaBteg2oHiusgptrEtJeBe\n",
       "xQBKW/l/1fgoD9fzmyMVoKI2VvbAX8juZYUhq9pQVaBDtXRKYuchh10thQMqFfPhDSjHAvgI//0S\n",
       "4JQNqEftepDAGtCQLj6gU5NwoSDNw3VB7SQ6ovVuzKTD6rai4ZXxoEXiKOM0gOJWILyo4aVFJQ+F\n",
       "OdjS9BWJVN9+5vtyTWoH6+oUZ0dOa5usxlvoClVASct09B7YYJ6LU3MyAfV3759LgLbnhCZoV4Um\n",
       "1GT+rS0FHO5Q3Yo8OobbTmgmHb0OZw8bsWX8CHQWsCiPWoUfIexmGCuDdjA2mMOz/lLqeffBo7Vo\n",
       "bXm+u55OvWluhMeQrwHMn0Ak6kmnZ/ptS09O1lTWU2z9gF49FdfrcnYdVsKb1F7kQ42eKglHZ8K2\n",
       "OY7bTKRPINgxf+ugs8oKdCRw/+QxNkcMWfRHDqTKULHPLN0aq6NHsw4r2Tf803Vsjl9hWfaK5rxF\n",
       "lrcCLQSOqI5ASVOjiaUuUkWHlMKvFesBCgcmFtAVPc46dElay1dPN77LR0btYzXepx4pDleb4A0K\n",
       "f18vXBN35X8SPAyHDIAMRAAAAABJRU5ErkJggg==\n",
       "\" style=\"display:inline;vertical-align:middle;\" /></a><br>(see <a class=\"ProveItLink\" href=\"../../../__pv_it/theorems/fa041c3cd9e071e86885e59c124dd615b75e65ec0/dependencies.ipynb\">dependencies</a>)<br>"
      ],
      "text/plain": [
       "add_nat_pos_from_non_neg: forall_{i, j in Natural} [forall_{a_{1}, ..a_{_a}.., a_{i}, b, c_{1}, ..c_{_a}.., c_{j} in Natural | b > 0} ((a_{1} + ..a_{_a}.. + a_{i} + b + c_{1} + ..c_{_a}.. + c_{j}) in NaturalPos)]"
      ]
     },
     "execution_count": 2,
     "metadata": {},
     "output_type": "execute_result"
    }
   ],
   "source": [
    "%proving add_nat_pos_from_non_neg"
   ]
  },
  {
   "cell_type": "code",
   "execution_count": null,
   "metadata": {},
   "outputs": [],
   "source": []
  }
 ],
 "metadata": {
  "kernelspec": {
   "display_name": "Python 3",
   "language": "python",
   "name": "python3"
  }
 },
 "nbformat": 4,
 "nbformat_minor": 0
}