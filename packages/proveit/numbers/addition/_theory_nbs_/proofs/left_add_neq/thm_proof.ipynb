{
 "cells": [
  {
   "cell_type": "markdown",
   "metadata": {},
   "source": [
    "Proof of <a class=\"ProveItLink\" href=\"../../../../../_theory_nbs_/theory.ipynb\">proveit</a>.<a class=\"ProveItLink\" href=\"../../../../_theory_nbs_/theory.ipynb\">numbers</a>.<a class=\"ProveItLink\" href=\"../../theory.ipynb\">addition</a>.<a class=\"ProveItLink\" href=\"../../theorems.ipynb#left_add_neq\">left_add_neq</a> theorem\n",
    "========"
   ]
  },
  {
   "cell_type": "code",
   "execution_count": 1,
   "metadata": {},
   "outputs": [],
   "source": [
    "import proveit\n",
    "theory = proveit.Theory() # the theorem's theory"
   ]
  },
  {
   "cell_type": "code",
   "execution_count": 2,
   "metadata": {},
   "outputs": [
    {
     "data": {
      "text/html": [
       "Under these <a href=\"presumptions.txt\">presumptions</a>, we begin our proof of<br><strong id=\"left_add_neq\">left_add_neq:</strong> <a class=\"ProveItLink\" href=\"../../../__pv_it/theorems/2ae5410ee9d8388c98c4306679d9aa7bd5a5978e0/expr.ipynb\"><img src=\"data:image/png;base64,iVBORw0KGgoAAAANSUhEUgAAAS0AAAAWCAMAAACi9zoGAAAAPFBMVEX///8kJCQoKCgUFBQNDQ0Q\n",
       "EBCIiIhmZma6urrMzMxUVFQiIiJERETc3Nzu7u6qqqp2dnaYmJgyMjIAAAChkoCbAAAAAXRSTlMA\n",
       "QObYZgAAA61JREFUWMPlWIuu2yAMzbYb3phH/v9fZ5PSxITQpLtSpw2ptQhwwAdjbKbpbyk+cXmn\n",
       "BH/SEKE7xxvQq8zP7yl9kixwXN4rpk+Xz9053oIuMob6OcMn2cqey5tc576mqjvHW9BF+sq3d58k\n",
       "K0kue2dCDMbHXmOj0gB7BF6hi6wmtRnZJ4r1XN5lC+aeaenuHDfBK3SRKQIVbz/q4i2Xt9masnpl\n",
       "WkMNR+AVusjFUbHxk2wJyeXkZZRihpFCIITxSjwOSjweM6e7c/SwG3AQkup+7VShi1zt1flvUVsN\n",
       "HeZpi0tcqhmXk5fR9gNub7JisqsXTpufj7mUn1/0Lw9z9LAb8IidiN+FQRep5Pml8joccdFYs001\n",
       "uiqkPndbgUmYSTPpRmxRKBUXmNS6zcG+MK0hNgf3YZLEh3MMepX0J24FWxCilDgCtMM16xyvsOXN\n",
       "edusmJQLmaEVzFjsXITZGarbptONsUza9OdosHvg2GGm9kUw6FXGtDJ2/bp3wQPNmXzhKVxiy8Fl\n",
       "tmaCgUW/csSLOGfr4FpG2C24Ikr1oxNnCyPeuhEghcl6izSkFvUaVoL6WHgc3fJJh7XRd9liwycV\n",
       "G5jzkwgL9Q3Lq2tL73RWlvutH6uxZNPM0cduwctBFDOHfkjnH0EvWI1LqJoImEyerKqeDxv0vE+W\n",
       "EqR2A3dsPYebcul+4S/tYc69PCykGA5m+V+jUIDVCwtovfxJ3D7CbsGdqX+tl8eu8sGeRKvRz03C\n",
       "jctPd+aBqBWO7G9bcBiwxYZPIjQw3GVLJp2g+85M8VwhhVq7ZUuUJY+A1DGgGGEfbMvQDA10lfX8\n",
       "z6iS2HvHZccGdabbT9tiKzirD1qfs8WGbwltheHKcWMHI4T2RqhBSIRdMCx6PgVkvpJO0jvCPoQn\n",
       "2EnW1VfoKtOKDdTuEsDedT5XQUdyptpGpwTRBFKO+5Uy3KD7+PWTnEjaw3xv5sOvqSAH2dVFcJk5\n",
       "NLQ3IcZtelGJkgaY/IL+khxNqeFkGo2zmPRTV4yKNU9pN7a24Tx6eMLczaoBrmfV3feUUVbNwdGt\n",
       "oemoTlbNjNWIICiQ0ngmwSQVBQWBVCuNbqXbhS2gztntk1e3M+Y6nEcPG0z3wnff8WIT+mncZWyb\n",
       "Vv92eLE5Nc22Bn67usTqt3oL6oNtq9/DfN9rYMPDyVPdZWyFXkvf2MbmfsWaweTpdXrUX89u3CnM\n",
       "n7w0t4GMevGa/QZ0GtllOtRUiheeKbpspZ2hXoP5T4r8p7X7DaOoMe6DN3/xAAAAAElFTkSuQmCC\n",
       "\" style=\"display:inline;vertical-align:middle;\" /></a><br>(see <a class=\"ProveItLink\" href=\"../../../__pv_it/theorems/4a0bc408bb475f65bbe56b1d8221f3492c2e6e6e0/dependencies.ipynb\">dependencies</a>)<br>"
      ],
      "text/plain": [
       "left_add_neq: forall_{a, x, y in Complex | x != y} ((a + x) != (a + y))"
      ]
     },
     "execution_count": 2,
     "metadata": {},
     "output_type": "execute_result"
    }
   ],
   "source": [
    "%proving left_add_neq"
   ]
  },
  {
   "cell_type": "code",
   "execution_count": null,
   "metadata": {},
   "outputs": [],
   "source": []
  }
 ],
 "metadata": {
  "kernelspec": {
   "display_name": "Python 3",
   "language": "python",
   "name": "python3"
  }
 },
 "nbformat": 4,
 "nbformat_minor": 0
}