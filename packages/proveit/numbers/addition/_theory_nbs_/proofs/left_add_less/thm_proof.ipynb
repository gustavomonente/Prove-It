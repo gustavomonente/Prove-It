{
 "cells": [
  {
   "cell_type": "markdown",
   "metadata": {},
   "source": [
    "Proof of <a class=\"ProveItLink\" href=\"../../../../../_theory_nbs_/theory.ipynb\">proveit</a>.<a class=\"ProveItLink\" href=\"../../../../_theory_nbs_/theory.ipynb\">numbers</a>.<a class=\"ProveItLink\" href=\"../../theory.ipynb\">addition</a>.<a class=\"ProveItLink\" href=\"../../theorems.ipynb#left_add_less\">left_add_less</a> theorem\n",
    "========"
   ]
  },
  {
   "cell_type": "code",
   "execution_count": 1,
   "metadata": {},
   "outputs": [],
   "source": [
    "import proveit\n",
    "theory = proveit.Theory() # the theorem's theory"
   ]
  },
  {
   "cell_type": "code",
   "execution_count": 2,
   "metadata": {},
   "outputs": [
    {
     "data": {
      "text/html": [
       "Under these <a href=\"presumptions.txt\">presumptions</a>, we begin our proof of<br><strong id=\"left_add_less\">left_add_less:</strong> <a class=\"ProveItLink\" href=\"../../../__pv_it/theorems/71fe5b3ca3f9db0122de157ec6215b777b1d71fb0/expr.ipynb\"><img src=\"data:image/png;base64,iVBORw0KGgoAAAANSUhEUgAAAS0AAAAWBAMAAABnB9cHAAAAMFBMVEX///8QEBCIiIhmZma6urrM\n",
       "zMxUVFQiIiJERETc3Nzu7u6qqqp2dnaYmJgyMjIAAAAcRTyBAAAAAXRSTlMAQObYZgAAA5tJREFU\n",
       "SMfNVk1oE0EUfkl2s8lmk/agF6GytBqLFFos9QfaWhUsiDWpB/UgpNQfFLQEaT2oh14sCaKuIm1R\n",
       "xLWRqkVs0EMpiC7tQYhSciioRWURiygYgihoTs7sbLK7yWwbiYgPvu7M5nvzvs57+2YA/oJ50wR0\n",
       "80l0D7pN61Dx5F1luu7psLHjdA+6uSWCF3jypTJdn3XY2EO6B914lWAU7+pgRbL8TQSm1InmmWCa\n",
       "PQ3nPezYMwQBGTkmK9LFSQR2kfjqwvDVloKHHfs2gT81MTFSWRpHdNhFgo/5wbqU4WHHDnQQ/IzF\n",
       "zlWmq06Ht3XDKmukseC1BjSc1fftuWjyKGHzdSJckUFAOcY4AhBfPjazxG8XdWyTAllrJMV/ikM1\n",
       "/J7MNqXNHiVsgamGRpRAlWCHVv42NlV/6IM28Fjf7zJPzhLwNeAatEaShRyDSmlKm/UlzR6l7Bsu\n",
       "FWJoFiXgwElvcvyT5rRTgJRYqutAj3m2gsCVAw5zhUzm0+pMBlF48GihI9pyJl1UtuwQ4RsAmyUQ\n",
       "0hx9r15PTwDStZAu0TVsTbyuyzEIk+GiSq4SC7rAa+SRzg7J7A9Dl1fdh94lgota82gJIjITBE5m\n",
       "cI/BuhRDl1C3F5Vj4jwabu+BM9Y8TirwrPgLi2ihO4vrns5uByfqKEyUAOKHkcsAm8My5D4OfaJC\n",
       "ldwNASC6mpsMXevdaj880D57JcdWW+t+Mgl9+lmoR/LJjWjJfN2b+gSVDUPg6THqHh4jca4mFktk\n",
       "4SsmXO+EekhoulxH+011Hw6kga3RknIn6syfErMEHtF/WrDsQCh5GW6iZ2txX6WyYSOEUKZdCoFW\n",
       "A46kk5TyL+1vK/TC/lgsJjqFq/Pm77EK/YdzHXjkUtz5rHQS8L1rh9dYIo3XjrXhmlosPoeobETf\n",
       "ipYPhAnAj3Z6UvIsyHjDsixm9MNKcJM8+g7KJl0RCAO/GXtxHY5wuedQlHZy0djtCHd1aOaQIl0w\n",
       "Kt8SVAE9YIDJghAm9ZUy6t6bnQM08x7DQsIh+3Obl+3ObcOjhO1W+e/Gua23895HbdCdHJ+fSaEH\n",
       "7KxHhXcB99U5JdFe0MWf3N2A1/AOScjjUmHhOCx5ZlDuOTQ2l/aIxj3HbHrjS/KSB5WFE9VX4Sdr\n",
       "X2XjcF/7DMu6F8bLuxcytS04kERQeuH1SW5lT7GTp/jFCUYt8x7t/6N79Bsd5gXyD+atsqyurpfw\n",
       "P5jrH8f7DUt3Bdsbns+RAAAAAElFTkSuQmCC\n",
       "\" style=\"display:inline;vertical-align:middle;\" /></a><br>(see <a class=\"ProveItLink\" href=\"../../../__pv_it/theorems/66ce651279e25cbf1b03da2cfea07b7046942e150/dependencies.ipynb\">dependencies</a>)<br>"
      ],
      "text/plain": [
       "left_add_less: forall_{a, x, y in Real | x < y} ((a + x) < (a + y))"
      ]
     },
     "execution_count": 2,
     "metadata": {},
     "output_type": "execute_result"
    }
   ],
   "source": [
    "%proving left_add_less"
   ]
  },
  {
   "cell_type": "code",
   "execution_count": null,
   "metadata": {},
   "outputs": [],
   "source": []
  }
 ],
 "metadata": {
  "kernelspec": {
   "display_name": "Python 3",
   "language": "python",
   "name": "python3"
  }
 },
 "nbformat": 4,
 "nbformat_minor": 0
}