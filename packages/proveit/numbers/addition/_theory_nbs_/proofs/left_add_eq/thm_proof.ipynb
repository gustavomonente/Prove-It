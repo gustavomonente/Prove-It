{
 "cells": [
  {
   "cell_type": "markdown",
   "metadata": {},
   "source": [
    "Proof of <a class=\"ProveItLink\" href=\"../../../../../_theory_nbs_/theory.ipynb\">proveit</a>.<a class=\"ProveItLink\" href=\"../../../../_theory_nbs_/theory.ipynb\">numbers</a>.<a class=\"ProveItLink\" href=\"../../theory.ipynb\">addition</a>.<a class=\"ProveItLink\" href=\"../../theorems.ipynb#left_add_eq\">left_add_eq</a> theorem\n",
    "========"
   ]
  },
  {
   "cell_type": "code",
   "execution_count": 1,
   "metadata": {},
   "outputs": [],
   "source": [
    "import proveit\n",
    "theory = proveit.Theory() # the theorem's theory"
   ]
  },
  {
   "cell_type": "code",
   "execution_count": 2,
   "metadata": {},
   "outputs": [
    {
     "data": {
      "text/html": [
       "Under these <a href=\"presumptions.txt\">presumptions</a>, we begin our proof of<br><strong id=\"left_add_eq\">left_add_eq:</strong> <a class=\"ProveItLink\" href=\"../../../__pv_it/theorems/41279e837f709f0d87bfccf5b18b45f41849d24e0/expr.ipynb\"><img src=\"data:image/png;base64,iVBORw0KGgoAAAANSUhEUgAAAS0AAAAWBAMAAABnB9cHAAAAMFBMVEX///8QEBCIiIhmZma6urrM\n",
       "zMxUVFQiIiJERETc3Nzu7u6qqqp2dnaYmJgyMjIAAAAcRTyBAAAAAXRSTlMAQObYZgAAA4BJREFU\n",
       "SMfNlk1oE0EUx1+STTbZbtIe9CIoodVQpNCi1FNbq6K9WLMV/LglBIsIWqK0HtRDTyVBqyuILVZx\n",
       "baVqEBMqIpWCob1VKTl4sEVlD1ZR7BJEQXNyZmc2ySazbUpEfPDPZjPvzfwy82beAPwF82SI2FYj\n",
       "syPYNk2l4pf31XE9pLKwU+wItrlkolf45Wt1XF+oLOwJO4Jtgko0imd1sCosbwtRwaZM7aKfFVG0\n",
       "0Kb2WSKfggJTVXHxMpEVl1DHirDiukfknU8kRqpbxhEqKy74yIqw4vJ1Ev2KxS5Vx9VA5WnbscnM\n",
       "NR640YQGnWNFFLwpl9Dgh+sKiGiNsXoB4muPza3SNky1R/ZlTVxC2nuORzn8Qc8yTbcWKPOmXCJX\n",
       "B81oAVWifXr6Wx4+V05G8NO9CtdFImEzOAZNXKIi5jiUSs8ZEUXelGvMoUIMvUWJeLCzDzlhZmdG\n",
       "OK44v63FtYHIkQMej7CgaWc17RPuAdz60CFGhOGNpvHzFk0LAyg2P3wHcGaJxAzPHu7tdAK8twFm\n",
       "KuSyDUJSKsn7Wr8VV5G3kfdBxfmzwOVRj6LfJgLL+uHRGkDOXAB4hcOZsP8ZcihwiQ2He2nXe8Nw\n",
       "wbyOyTS8LN2PIX3orqL8CkOZt8HVAXZ0onBRIoifQDM+4Myhr3alj0dbVKxVesCHXZcWaSzh2u5S\n",
       "+10xZMOQzjnrzHmfTEEfrYWUq0ZpRl3SvC/ZKUXeBtcQuMOFvIenCM7R4sSITljBDre6oBEm8LcX\n",
       "0yYuyWekoud+1G5UiTkit997XjTNVzB1De6gZ1spl9nb4NoFQdS9I02k54AtZdcnGH7rn20QgWNo\n",
       "WvxjR0xcUJs/qB1pl3EcdhEJkW03t5q4JuvH2/EfWS7lMnsbXJP1u1H3PokIvGimk7J7ScETlnVi\n",
       "j37YCC599HG8qwpcIZBcOEtWgO+0SZXWoWildagD6QGVbjY51A2jyl1RFdEDBrgsiJJ+KEt6ISVc\n",
       "nuwCpI2upaB13U6sq24LCrnhqMKPQt2mx3lkqh16UpNvZufRAw40osS7jBsea0NSnks4c7BJyUdc\n",
       "zXcch1VrBuOew/LmM25/4Z5TbPRakRJkN0oLO8qvfFPZ+fVI34YV3Qvjld0LufpWPJBMVH7hrZFd\n",
       "6UOlQWVcpzm1wnu0d1336EWq4g6MB/cuvSZX92v4H8zxj8f7AxFvCZWHpJ6rAAAAAElFTkSuQmCC\n",
       "\" style=\"display:inline;vertical-align:middle;\" /></a><br>(see <a class=\"ProveItLink\" href=\"../../../__pv_it/theorems/6ec0d3a2605495fa4e6ddc7750991d2f866a9e110/dependencies.ipynb\">dependencies</a>)<br>"
      ],
      "text/plain": [
       "left_add_eq: forall_{a, x, y in Complex | x = y} ((a + x) = (a + y))"
      ]
     },
     "execution_count": 2,
     "metadata": {},
     "output_type": "execute_result"
    }
   ],
   "source": [
    "%proving left_add_eq"
   ]
  },
  {
   "cell_type": "code",
   "execution_count": null,
   "metadata": {},
   "outputs": [],
   "source": []
  }
 ],
 "metadata": {
  "kernelspec": {
   "display_name": "Python 3",
   "language": "python",
   "name": "python3"
  }
 },
 "nbformat": 4,
 "nbformat_minor": 0
}