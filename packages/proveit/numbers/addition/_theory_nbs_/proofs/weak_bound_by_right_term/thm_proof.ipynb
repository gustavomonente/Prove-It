{
 "cells": [
  {
   "cell_type": "markdown",
   "metadata": {},
   "source": [
    "Proof of <a class=\"ProveItLink\" href=\"../../../../../_theory_nbs_/theory.ipynb\">proveit</a>.<a class=\"ProveItLink\" href=\"../../../../_theory_nbs_/theory.ipynb\">numbers</a>.<a class=\"ProveItLink\" href=\"../../theory.ipynb\">addition</a>.<a class=\"ProveItLink\" href=\"../../theorems.ipynb#weak_bound_by_right_term\">weak_bound_by_right_term</a> theorem\n",
    "========"
   ]
  },
  {
   "cell_type": "code",
   "execution_count": 1,
   "metadata": {},
   "outputs": [],
   "source": [
    "import proveit\n",
    "theory = proveit.Theory() # the theorem's theory"
   ]
  },
  {
   "cell_type": "code",
   "execution_count": 2,
   "metadata": {},
   "outputs": [
    {
     "data": {
      "text/html": [
       "Under these <a href=\"presumptions.txt\">presumptions</a>, we begin our proof of<br><strong id=\"weak_bound_by_right_term\">weak_bound_by_right_term:</strong> <a class=\"ProveItLink\" href=\"../../../__pv_it/theorems/7fd9db1c4d54ee7118d021314b334c7bd3319b300/expr.ipynb\"><img src=\"data:image/png;base64,iVBORw0KGgoAAAANSUhEUgAAAS0AAAAWBAMAAABnB9cHAAAAMFBMVEX///8QEBCIiIhmZma6urrM\n",
       "zMxUVFQiIiJERETc3Nzu7u6qqqp2dnaYmJgyMjIAAAAcRTyBAAAAAXRSTlMAQObYZgAAA69JREFU\n",
       "SMfNVk1IFGEYfnd3dmd3dnb1UJegGLQ2EUlJLAI1K8hLumOH6hAolkFQIqEF2cFDxG6RTREqRTRp\n",
       "WHlolzqIETXYIdlC9iBUUjJIIgXJEgXlqe9ndmdmZ8aMjeiFx5nPed7vffb7nu8H4C9EIE1hH0HJ\n",
       "PsM+JjSouPGhMF33NTjEcfsM+/BJFK9w43Nhuj5pcIiHhvfNYi7DPjiVYgiPal9BskJVFIapE4wt\n",
       "PtfiXgq5DCf2JEVYRonJgnSxEoVTJa4466rtaT3DiX2HIpQaGxssbBoHNThVgo+arM6kIcOJHW6g\n",
       "+BGLnStMV6mGQO3WdeZKw5HrFej1BWl4+xuMGRY2VyrAVRl4NMcYHQDx39dmVvh2WcMuKZwxV1JC\n",
       "p1jk4TnSiommDAubZ4qhEk2gSrGH2N8hxsuOzJMXv3nkTQull4JbD54+cyWZX2aQlcbpUiw3ZljZ\n",
       "Nz0qxFCri4IFt/0mxz2tTrt5SAkWXcF5E3ENhWcZWMzll5YWNywttaEewE9Kt1Lem5Qhw8qWXQJ8\n",
       "RdOdoeDTrP1YvZ0YA6RrNp2vK/QF7HS5+iAh5jm5SDDogmc79AwbdlT2ftd1BdQD6H8jkQWyedRE\n",
       "EJmJACszeI/BuhRdF1+6vwPcRNbuNjhrnseEAs/zV1grKd2Y/QXNHbkMG3Y9uNGOwnRRQPwoGvEe\n",
       "7zKWIXeyaNHwRXILhIHqqq7SdZX71G6ml7wqy95is+8TSejUzkKtUlCuRF1mfY/j0PlshpUNF8Df\n",
       "pvseHiNxniovlugFMhY3GqEMRoguz7Fug+/FcBq4KbzcA3e73Fnzv6DwC6HTvGkEoskrcAs9a/U5\n",
       "HxDBiQ3bIIo841EoiAdcSXcb+faT/K2FdjgYi8UEN39txrgei9Av5Kbw9uhRfNnJaqTg2jcNbDRV\n",
       "Gi0ZrsPuXMi3ri0b0Xei7sMiBYTQSCck/6yMByzjxYxuWAs+Oo/Bw7JBVyvgjC1IGNvgEld7DnXZ\n",
       "nVx27HqEexpIuKTWJhiSb/Mqjx7Qw2SAF6m/UrrvA5lpIK25NLBi1Pnc5mT7c9uYYWH7VO6bfm5r\n",
       "23n7ozpoSY7OTKbQA/aWIeNdwvvqtDJSn9PFndxXQft4gjL6cx3HYcUzg95zuMUzOMRchmUQ035B\n",
       "v+cYQztWk5zkR7ZwI3/lPvnze3lAluGq7oXx1d0LmZIaXEiisF54g5JPac5Psug6wairvEeH/uge\n",
       "/U6DsYPsg3mvOOsKonUauwhNr+F/CM8/rvcLhUYK1mRsnLAAAAAASUVORK5CYII=\n",
       "\" style=\"display:inline;vertical-align:middle;\" /></a><br>(see <a class=\"ProveItLink\" href=\"../../../__pv_it/theorems/e54a5b8bb04f198fa80ba7b0881923dbefe2ec530/dependencies.ipynb\">dependencies</a>)<br>"
      ],
      "text/plain": [
       "weak_bound_by_right_term: forall_{a, x, y in Real | x <= y} ((a + x) <= (a + y))"
      ]
     },
     "execution_count": 2,
     "metadata": {},
     "output_type": "execute_result"
    }
   ],
   "source": [
    "%proving weak_bound_by_right_term"
   ]
  },
  {
   "cell_type": "code",
   "execution_count": null,
   "metadata": {},
   "outputs": [],
   "source": []
  }
 ],
 "metadata": {
  "kernelspec": {
   "display_name": "Python 3",
   "language": "python",
   "name": "python3"
  }
 },
 "nbformat": 4,
 "nbformat_minor": 0
}