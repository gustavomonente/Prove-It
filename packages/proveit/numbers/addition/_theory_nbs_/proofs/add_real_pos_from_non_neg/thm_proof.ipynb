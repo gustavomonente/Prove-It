{
 "cells": [
  {
   "cell_type": "markdown",
   "metadata": {},
   "source": [
    "Proof of <a class=\"ProveItLink\" href=\"../../../../../_theory_nbs_/theory.ipynb\">proveit</a>.<a class=\"ProveItLink\" href=\"../../../../_theory_nbs_/theory.ipynb\">numbers</a>.<a class=\"ProveItLink\" href=\"../../theory.ipynb\">addition</a>.<a class=\"ProveItLink\" href=\"../../theorems.ipynb#add_real_pos_from_non_neg\">add_real_pos_from_non_neg</a> theorem\n",
    "========"
   ]
  },
  {
   "cell_type": "code",
   "execution_count": 1,
   "metadata": {},
   "outputs": [],
   "source": [
    "import proveit\n",
    "theory = proveit.Theory() # the theorem's theory"
   ]
  },
  {
   "cell_type": "code",
   "execution_count": 2,
   "metadata": {},
   "outputs": [
    {
     "data": {
      "text/html": [
       "Under these <a href=\"presumptions.txt\">presumptions</a>, we begin our proof of<br><strong id=\"add_real_pos_from_non_neg\">add_real_pos_from_non_neg:</strong> <a class=\"ProveItLink\" href=\"../../../__pv_it/theorems/80d1ee12845ff226669785911d43e3f0de7549610/expr.ipynb\"><img src=\"data:image/png;base64,iVBORw0KGgoAAAANSUhEUgAAArMAAAAbBAMAAACdGRqCAAAAMFBMVEX///8QEBCIiIhmZma6urrM\n",
       "zMxUVFQiIiJERETc3Nzu7u6qqqp2dnaYmJgyMjIAAAAcRTyBAAAAAXRSTlMAQObYZgAAByBJREFU\n",
       "aN7tmn2ME0UUwF8/th/b7fX+MPHAaMohSIwmzRHBqBzVixJNxAMNORISmguEb3LydXoSbI6IBaMW\n",
       "iYAEwgLhQ766QQ7kD6HhhMh5mIoG0IipEjRBsxBE4x1inDez3c+222orh3Eune6+vp2d/c2bN+/N\n",
       "HsD/5daVGe3JW3j3F24rVh6swuQzrj1dgnrbrewrF7ut0Pqwegorf2ygo60RSbVpgAE8UhytkGFo\n",
       "s3hyoThae52qlQby4eOVaWvXnZWa9iYPea7ubbkuo6KFDob2Uzy+XBytvU61ir8fLbdSvv5ihdrh\n",
       "syZBdge0nBdVtEMZ2vX4FS+O1l6nWkWIkOoLizgQLqB/oKj0Rmlq9nc7bjqPbwQfYTlf/k6WifVu\n",
       "ZmjRmQlScbT2OtUqDrzryxVC6+6vFNot7Cv4evuyHFpXMqtarVeiaIM9u3evs1nG7HWqVTaTQfW3\n",
       "VQit0FYptDVRGr10iprVupJxFa0rziKE3xOJpXYRgq1Otcrn5ONEp7Cme4hYBlr/Yw2DLdKa1qGS\n",
       "CeLx+uYy0Ar1w3R+CvaLOofgccdUtM5ahnY6wEo7tLY61SqN2F3ivdyD4Eo5Vvt4suaqRZq6zPcZ\n",
       "1dZJvmzpaP2vwFuKJ6BXzdL72sON2jKGngfRNtEFj5oGwKX8aJusi+I/zAToQnu6x04voXiuLRl4\n",
       "mFwVLxEtfzedlEON0mMiXDNCXAoeCVpKRetNwxxi+8TOA9S1aAt7fHX7MkkLvrhfGVovOIlZcCzA\n",
       "YROGW/gxDInp0DKd4sUtl4E2OAf7Ie5iV9J6vDp4zuNqkvgDLmXEsY0VYQFwI+kTCbL84z2ybM12\n",
       "PpPlF2UZL3H1g5fwmGyUNgL/h1kN4PnRpotNMYp2t7HUAQQQEE4JjohlWbHaJh/90c/M+zpDK2S8\n",
       "hrb2dI+BDwXRJerQmnXylu6SoAYWrGgkT+2eR5iRP22oif/yM8f3DRzKaS9U0NYBTyzB3Vai1Tri\n",
       "kLI60YvgvmFWw3S/VKut0ybdVWM4Gt/oelIXnPIKWn92ksGe3tggwkfhiKB3CCad/OUnexUctnBa\n",
       "2Iq9axBXg7dZQ1sjAT+Tzp1FEBJ1QT5xCMTaAlfLQJtKwzGr9CYzU4NaGWipySszlHakVu9rV53R\n",
       "JToKWlg5jegOpxeTFbQJD7q63jGgpTp2pc/eDeCwhdPBfXjSIhnRhghW/wpSEft05ILoFWwZ42+A\n",
       "J3ukDLQSzA8kn4gZpdfRZesFoQy6wJKt9iZ6g62PqstYgx7tJJc2Tbg+Be0HOOOpnbjcWbZf0CXs\n",
       "m2JAizqwbXieVU4VcteGizRAsT52TkaHjaDdS74OZSAEDlFDO7V+NmlkuYgd8+Y8+0wl0umEc7G0\n",
       "FW2K9Jb/UznQ0fGFg0sESPcbmc2D5UaBKwbbmi1oaVtqy7q7jQL+IYiMxwvTucxATXQFabpm1EqE\n",
       "ACFy5YbDKHpfiPE0UuiCdLcBLerwizlyyWxTOk2F2BlnB40yFnG1Zh0qwy2NLEPrGglwVtKWMYb2\n",
       "PhEXdPf3wLE1iJYhyuzbUT+5NWpF68X+L8kd6CKE1mFr7/XvaTMy2/ZAxmSfvRfCVodA21Jb1t1N\n",
       "OH0G+ORJYFECucvMZ9TtmUuQuKKSDipxLQTRdDrZQ2a4lxKJToJ2k9eAFnVcEa4Npgw2UqNCEJml\n",
       "ZGki0mzRITLaFTps4VEzokBnTy74Ymg74VvarUHEah05tM+J+kS3ZIeQs91CM90gKNkhsPIm+exU\n",
       "+vOJkuiC5YG1/Vq+v1nxdzFmte6Jlv1ah+SMsQ0zQ5LvVNpwRMn8Yl6yI89GALoMOmzhUw9G82xy\n",
       "wh1kwpFyNEx8bSingdGBtj2jouXFAhR2609S2/NJLYJxUEgt79368mzPmPPgsA5tIJv2rwKYAHAC\n",
       "T7/ECMiMNpX0fS2asVHhARzWkIgIcTEy66AsiO3FmEPo6oG9vb29USPafrgLo9seQ4RAnZovt6kY\n",
       "KG9X/qhQktrh8pKdWrDNn1Ki3mrnJjnyZCPIcxA+7mVR9pbHaLXJqc9SbOtFMgxKRYUHI+TIK54n\n",
       "dU0UIqijaTDZuziHTjC0wt58VtsRJNOo5RG63XlI/yDqVrh/9G/hcijsOFWK1ppXW8tp1BnXjXWB\n",
       "chZML3ACzOOOSHRaEl02HVsPjKFoJ0jcIJiQxEqiQk8zyuamSe1vOEMtmwwU00gqMowOcNgCS3/m\n",
       "R2bzoJ3UC7CWpuXO3oj6G2ZtA+oFDjrwr2x0FpvRHvE8PbjA9oyudKjpsJYY73TnjiRVJ2DSoW8q\n",
       "LMOmQ4s2+prlt/0wsMq01aJ9+J42o814TiZt0U78RYKAqqYcee5XjliNOtqrOUWnyPsfX7G8ODKw\n",
       "0M6dZa+zHqDEN7rt5v9DCBY8CuoGyvCL/73s30MLB+G2K7hejGuP/Ut3C3YX8fwu+E+WvwDIKjcF\n",
       "eAskjwAAAABJRU5ErkJggg==\n",
       "\" style=\"display:inline;vertical-align:middle;\" /></a><br>(see <a class=\"ProveItLink\" href=\"../../../__pv_it/theorems/262640ef23e678afe728ade449ca0972ecf49efd0/dependencies.ipynb\">dependencies</a>)<br>"
      ],
      "text/plain": [
       "add_real_pos_from_non_neg: forall_{i, j in Natural} [forall_{a_{1}, ..a_{_a}.., a_{i}, b, c_{1}, ..c_{_a}.., c_{j} in RealNonNeg | b > 0} ((a_{1} + ..a_{_a}.. + a_{i} + b + c_{1} + ..c_{_a}.. + c_{j}) in RealPos)]"
      ]
     },
     "execution_count": 2,
     "metadata": {},
     "output_type": "execute_result"
    }
   ],
   "source": [
    "%proving add_real_pos_from_non_neg"
   ]
  },
  {
   "cell_type": "code",
   "execution_count": null,
   "metadata": {},
   "outputs": [],
   "source": []
  }
 ],
 "metadata": {
  "kernelspec": {
   "display_name": "Python 3",
   "language": "python",
   "name": "python3"
  }
 },
 "nbformat": 4,
 "nbformat_minor": 0
}