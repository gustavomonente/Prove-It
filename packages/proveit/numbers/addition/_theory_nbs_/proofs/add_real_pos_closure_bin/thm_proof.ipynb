{
 "cells": [
  {
   "cell_type": "markdown",
   "metadata": {},
   "source": [
    "Proof of <a class=\"ProveItLink\" href=\"../../../../../_theory_nbs_/theory.ipynb\">proveit</a>.<a class=\"ProveItLink\" href=\"../../../../_theory_nbs_/theory.ipynb\">numbers</a>.<a class=\"ProveItLink\" href=\"../../theory.ipynb\">addition</a>.<a class=\"ProveItLink\" href=\"../../theorems.ipynb#add_real_pos_closure_bin\">add_real_pos_closure_bin</a> theorem\n",
    "========"
   ]
  },
  {
   "cell_type": "code",
   "execution_count": 1,
   "metadata": {},
   "outputs": [],
   "source": [
    "import proveit\n",
    "theory = proveit.Theory() # the theorem's theory"
   ]
  },
  {
   "cell_type": "code",
   "execution_count": 2,
   "metadata": {},
   "outputs": [
    {
     "data": {
      "text/html": [
       "Under these <a href=\"presumptions.txt\">presumptions</a>, we begin our proof of<br><strong id=\"add_real_pos_closure_bin\">add_real_pos_closure_bin:</strong> <a class=\"ProveItLink\" href=\"../../../__pv_it/theorems/86cc365c82e8afdb356b151d342193a49020e8490/expr.ipynb\"><img src=\"data:image/png;base64,iVBORw0KGgoAAAANSUhEUgAAANEAAAAbBAMAAAAQZ3cOAAAAMFBMVEX///8QEBCIiIhmZma6urrM\n",
       "zMxUVFQiIiJERETc3Nzu7u6qqqp2dnaYmJgyMjIAAAAcRTyBAAAAAXRSTlMAQObYZgAAA0lJREFU\n",
       "SMfNll1oE0EQgKeXy9/l0vat+lJSheKDD6FRtKi1ICgIYgTxB4Qe9YcWFdQqxR8kVNC0UgkK2hfp\n",
       "SUCkYBtUKAXBQH2QFiViwVJUYmsVKp6lKGij4szeNXcbckmbB3HhNpPdnftmZ2dmD+A/bLtLU1Pw\n",
       "EZak4VRKI0XwEZekW66WToLnS9Goo+62zaQvVpjkRjPTJLwtDvLOYydF8szcq8KulR/zn4z+ed9t\n",
       "koQgwCgJM8VJcpA8mNf0KXz6c30tKc7uLnBpWrX2Be2cBegheyPFSWUJ7F5xHgsYQoYMCfDLPd4k\n",
       "RG5m9wTn9YOWE8VJvRQQZ/ORRObXSsNtV9ovLpDqy03Sepwa6eu7tYiAeEl7P5GPJLPRD3oqdKjm\n",
       "nuo9JqkGnx/R6AXbwzHFBuNc4cZwjcqRyptXok+GmdyvWrynbDVJO3HiMECnHclhilFST6GvlsNX\n",
       "fk8DM9JPgHdMbrWck69txiQ1hQG2gJRemBc1W9JHygq0/U6KfG4lPVFhDmDQDGmdVNX+mUl6uPY2\n",
       "ojoIqez7ho3fwVUHJ3lSG8UfLt+swinyq6Z9qtY0hflV+oVGs2PCIU3TSU+DXRabB1BVTrnNATJD\n",
       "ehxKCTKMBOTQutAGa9IQaRlI3/k9TYGYMUhey56Sa/ZZQxdVvek95gA6HMaH+gBJEyluT5d176H5\n",
       "vlme9BscGOfbmFxpIXnuW3KsiZzYeQi7eO007X6uVhUpwIiU5EgtekRIGXClhzjSNzo7IyLqLCSn\n",
       "stZUp9iDh5gP0hkn5Z9wTgiydENSKMiRaoyK1AGvlSRHOg6XsN/IZHfCrEYw6gpz6QgVqOEIOin/\n",
       "PAF/Os5IjiOn+Yggo0Rcc3fF/uZGjhRfTRE1zWSpZXu2woY91zJZdRavfpWqmqCwI3coe6PRaECQ\n",
       "r4+RNy11r9GuGukIo3yIz/RqlNsms0EY80wgsEItS7h07/kO8DefI5lbYSXrgtwKm9Ok+azFsaYd\n",
       "0KO61XGQw/o5jST5y53CymN74fUXrpr+7PUuNj/YBLsSzmP4+quUuS+S8QZ+8VG7m5C1zsIkd5j/\n",
       "rweOgOdkZ7Xd7e6PFSa9WfTHAM0GS/+Ay71q/YWXPyqd5FDhH7a/04rVcVhy3yIAAAAASUVORK5C\n",
       "YII=\n",
       "\" style=\"display:inline;vertical-align:middle;\" /></a><br>(see <a class=\"ProveItLink\" href=\"../../../__pv_it/theorems/41a72756c0823abfb5e6d9be7d3364133e22c4d40/dependencies.ipynb\">dependencies</a>)<br>"
      ],
      "text/plain": [
       "add_real_pos_closure_bin: forall_{a, b in RealPos} ((a + b) in RealPos)"
      ]
     },
     "execution_count": 2,
     "metadata": {},
     "output_type": "execute_result"
    }
   ],
   "source": [
    "%proving add_real_pos_closure_bin"
   ]
  },
  {
   "cell_type": "code",
   "execution_count": null,
   "metadata": {},
   "outputs": [],
   "source": []
  }
 ],
 "metadata": {
  "kernelspec": {
   "display_name": "Python 3",
   "language": "python",
   "name": "python3"
  }
 },
 "nbformat": 4,
 "nbformat_minor": 0
}