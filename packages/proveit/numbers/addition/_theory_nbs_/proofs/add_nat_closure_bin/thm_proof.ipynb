{
 "cells": [
  {
   "cell_type": "markdown",
   "metadata": {},
   "source": [
    "Proof of <a class=\"ProveItLink\" href=\"../../../../../_theory_nbs_/theory.ipynb\">proveit</a>.<a class=\"ProveItLink\" href=\"../../../../_theory_nbs_/theory.ipynb\">numbers</a>.<a class=\"ProveItLink\" href=\"../../theory.ipynb\">addition</a>.<a class=\"ProveItLink\" href=\"../../theorems.ipynb#add_nat_closure_bin\">add_nat_closure_bin</a> theorem\n",
    "========"
   ]
  },
  {
   "cell_type": "code",
   "execution_count": 1,
   "metadata": {},
   "outputs": [],
   "source": [
    "import proveit\n",
    "theory = proveit.Theory() # the theorem's theory"
   ]
  },
  {
   "cell_type": "code",
   "execution_count": 2,
   "metadata": {},
   "outputs": [
    {
     "data": {
      "text/html": [
       "Under these <a href=\"presumptions.txt\">presumptions</a>, we begin our proof of<br><strong id=\"add_nat_closure_bin\">add_nat_closure_bin:</strong> <a class=\"ProveItLink\" href=\"../../../__pv_it/theorems/87986ed67d229b16b14f8874ae6e870cb48f67830/expr.ipynb\"><img src=\"data:image/png;base64,iVBORw0KGgoAAAANSUhEUgAAALYAAAAVBAMAAAAZVgl3AAAAMFBMVEX///8QEBCIiIhmZma6urrM\n",
       "zMxUVFQiIiJERETc3Nzu7u6qqqp2dnaYmJgyMjIAAAAcRTyBAAAAAXRSTlMAQObYZgAAAtVJREFU\n",
       "OMutVU1oE0EU/rKb3fzsbuKhiAji4k8PnkK9adWISD0obS9W8dBQ7EERqYdaUMEIggki7EWb40qh\n",
       "Sg7NUg9SEFzag1BRQkGoihJBCypE8aQ9iG92Jk0maVIFH7ydt29mv3nvezNvgY0lVua6rsy18RsO\n",
       "UGHGu47YD4U2S/zGGKA7Tc5vuS8wt3fhHPCcOb50xP4stEUSKcKqNDmj5ZNACZgBCizpbCdoK8W1\n",
       "LrNiTHr0mG9aro8rNkKAaSPh0uB1wo44XFux++lb3BcvyxMTQQr6MXcUEUpoE6zFYnGyIyWTQlux\n",
       "nwXEpAP71J5a3HczMy5h4yPwM5e71hF7p9BYb89WGXtlx35KOqArvlYy3ZnVMgx7ARgF8jV/uLoO\n",
       "9h2hh53Edwk7/tstObA4E04d20wvMez3wJHGUi+Icag3rWwW9lWu8W1QsxK2sYqkDWMsOB31Wjo4\n",
       "rw+R8ZjKBKV+L76ycJ7sLRvZRewTvi6u6ioiNpkvq9VL1eoKWWoFJR9akMxglaSWwTQ+kDFMfJUj\n",
       "9fx/sYLPFWEsqfBl7FAWpQEpbjre/Z7ALjTGrfmDHDtWobOOqe5P9NR+dLthVhvjzGnblzmhEJ/K\n",
       "5yRZxiEX4YCTUCM23jKK+kjzZ4mHcW2VTOWKkkoEVA4svvLlWpY8XDQcCTtNNRC1VO01bErOLPBa\n",
       "4hFtrKY0tn3UtipTHNs0Uw31XQjmLptS3Ho5SmtUfy07zhS7iAdJe9n2tGXIUzIss7SaGcrlcrYx\n",
       "ECuPicV9XOMju+/tks9gzwuGxYswfdMNRu36FgTNBIxki5wlJ/qGhqQb8nQeN47aG975QB6I8fit\n",
       "CaltxWuxhZzhEyi4EXcZJovDSsPy2/aqYuPLfJvrbNZiC4/MHsCgp10gwNuMA2oGmdqqPBqubksT\n",
       "r7SZmJFfeTtUiO+/+jfwdu20mci3/Ib++Z/2ul3Xl8Es/F/5A5GvwapgMd/uAAAAAElFTkSuQmCC\n",
       "\" style=\"display:inline;vertical-align:middle;\" /></a><br>(see <a class=\"ProveItLink\" href=\"../../../__pv_it/theorems/976e7d7aa79ae9c384cd74f61a71dde241cf7c5d0/dependencies.ipynb\">dependencies</a>)<br>"
      ],
      "text/plain": [
       "add_nat_closure_bin: forall_{a, b in Natural} ((a + b) in Natural)"
      ]
     },
     "execution_count": 2,
     "metadata": {},
     "output_type": "execute_result"
    }
   ],
   "source": [
    "%proving add_nat_closure_bin"
   ]
  },
  {
   "cell_type": "code",
   "execution_count": null,
   "metadata": {},
   "outputs": [],
   "source": []
  }
 ],
 "metadata": {
  "kernelspec": {
   "display_name": "Python 3",
   "language": "python",
   "name": "python3"
  }
 },
 "nbformat": 4,
 "nbformat_minor": 0
}