{
 "cells": [
  {
   "cell_type": "markdown",
   "metadata": {},
   "source": [
    "Proof of <a class=\"ProveItLink\" href=\"../../../../../_theory_nbs_/theory.ipynb\">proveit</a>.<a class=\"ProveItLink\" href=\"../../../../_theory_nbs_/theory.ipynb\">numbers</a>.<a class=\"ProveItLink\" href=\"../../theory.ipynb\">addition</a>.<a class=\"ProveItLink\" href=\"../../theorems.ipynb#right_add_neq\">right_add_neq</a> theorem\n",
    "========"
   ]
  },
  {
   "cell_type": "code",
   "execution_count": 1,
   "metadata": {},
   "outputs": [],
   "source": [
    "import proveit\n",
    "theory = proveit.Theory() # the theorem's theory"
   ]
  },
  {
   "cell_type": "code",
   "execution_count": 2,
   "metadata": {},
   "outputs": [
    {
     "data": {
      "text/html": [
       "Under these <a href=\"presumptions.txt\">presumptions</a>, we begin our proof of<br><strong id=\"right_add_neq\">right_add_neq:</strong> <a class=\"ProveItLink\" href=\"../../../__pv_it/theorems/452320a684328dba3f965282ce923aeeca006b690/expr.ipynb\"><img src=\"data:image/png;base64,iVBORw0KGgoAAAANSUhEUgAAAS0AAAAWCAMAAACi9zoGAAAAPFBMVEX///8kJCQoKCgUFBQNDQ0Q\n",
       "EBCIiIhmZma6urrMzMxUVFQiIiJERETc3Nzu7u6qqqp2dnaYmJgyMjIAAAChkoCbAAAAAXRSTlMA\n",
       "QObYZgAAA5VJREFUWMPlWImSpCAMZWdGbsLh///rEhAVRFvcruqtXapmUjbyYh4hB4T8LcP4Wo4M\n",
       "a04mHHR1PIDOMqy/e/9JskDXcmzIPl0mdHU8gk7S2fJzgE+yFUwtB7kOfUt5V8cj6CRN4dvoT5Ll\n",
       "WS27h4Kez7neXGPSBfYd6CSLS21O9omhTC1HTYKp51qiq+MhdJLeAQ6jPhriVS2HTSKBv3KtK+xb\n",
       "0EnOGodyn2SLsloCpdJwWp+vg0mGOUanfDbc8Zhp0dMBlCGOmWAUOsnsr9q8xWx+GTBPZ7SvJMSt\n",
       "84oSFa7Y4lP85jAvQWl71YU0vn7wP2t1uLgOuZuHoZPk7DypvC5HtJNKbrquUgUT52HLVhLLJDcD\n",
       "4ebCJJjQfLZotOqFay3YxhKGtmo9DJ0l/qNDxRZYx1hcAUJHu0Rwd9gy8nxu4pWExpzsLWpKosCw\n",
       "GV9Ti51ibiCF7OqIayZcMtNh6Cydz4zdT/faGkA8bxJP9hZbGm6zRXbmnDrAhLpgFidsHUJLweZI\n",
       "hZjFMHSWseItGwGMyiC2SoMJWtIwp/iOguXopp+EzZOmy1a1nHDXwFycRHIw52gSzAhoC0lc1Z74\n",
       "K3tLkAcd6SDSaRx6kdosRS8oET+zWEKByEDUsiWOxAkx7ZslD77dwB1b63KZku5P/PN7mIsobyFH\n",
       "YQpXJqH1UUPu4HwgL+r2VYcs/wahF2nZwh6LXiPWTYqbG9ZwZgCppRr9b9UB9oKtajmhtoGp6+V9\n",
       "ko5nxRI9H5rg5rhoiolTkuyzrK6A+LGgKDqYRA0PoIssMWKKJtE96/OODXwZs59QyVciorFCnLNV\n",
       "Ld8a2gJTG1c5O0hKY1nUtvlt4opvCSNp9v1Qf0mn6S06cB2bzTh0kR4WDzTosABb8Eguspz7uHbC\n",
       "p41OBrQppCq2luUyho/vLwwifg/z3s6nTlOWXXRXJXYNQkObCWNNJmbusWkAYuYYLzHQpKeoTEQH\n",
       "Ti4tdhWvqFvaja1teV09rDDDXTXA7a66e5+SsWM4im7Bx6EPjTuX1FIspEQ8kyA9dxQLRXxKkzpv\n",
       "iV4zF8T8o/fNq955c1leVw8bTDfh63fc2Nh+G5ewlc9x6dGNzanbt09gtrRCc9zqfVAfbPv6Pcz7\n",
       "bgMbjk+u6hI2j1FLPIC+2sY62eGTjA3W6/aob+tu3SnMn9w0t4UMf3Gb/QDaX/m8Pzxx725cU3TZ\n",
       "8jtHvQfznwz2T1v3G6ytMe5QHJzUAAAAAElFTkSuQmCC\n",
       "\" style=\"display:inline;vertical-align:middle;\" /></a><br>(see <a class=\"ProveItLink\" href=\"../../../__pv_it/theorems/131c88e36b89f0c45fdc869b07028da65e9e39040/dependencies.ipynb\">dependencies</a>)<br>"
      ],
      "text/plain": [
       "right_add_neq: forall_{a, x, y in Complex | x != y} ((x + a) != (y + a))"
      ]
     },
     "execution_count": 2,
     "metadata": {},
     "output_type": "execute_result"
    }
   ],
   "source": [
    "%proving right_add_neq"
   ]
  },
  {
   "cell_type": "code",
   "execution_count": null,
   "metadata": {},
   "outputs": [],
   "source": []
  }
 ],
 "metadata": {
  "kernelspec": {
   "display_name": "Python 3",
   "language": "python",
   "name": "python3"
  }
 },
 "nbformat": 4,
 "nbformat_minor": 0
}