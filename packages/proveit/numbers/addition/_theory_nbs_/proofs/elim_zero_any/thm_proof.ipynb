{
 "cells": [
  {
   "cell_type": "markdown",
   "metadata": {},
   "source": [
    "Proof of <a class=\"ProveItLink\" href=\"../../../../../_theory_nbs_/theory.ipynb\">proveit</a>.<a class=\"ProveItLink\" href=\"../../../../_theory_nbs_/theory.ipynb\">numbers</a>.<a class=\"ProveItLink\" href=\"../../theory.ipynb\">addition</a>.<a class=\"ProveItLink\" href=\"../../theorems.ipynb#elim_zero_any\">elim_zero_any</a> theorem\n",
    "========"
   ]
  },
  {
   "cell_type": "code",
   "execution_count": 1,
   "metadata": {},
   "outputs": [],
   "source": [
    "import proveit\n",
    "theory = proveit.Theory() # the theorem's theory"
   ]
  },
  {
   "cell_type": "code",
   "execution_count": 2,
   "metadata": {},
   "outputs": [
    {
     "data": {
      "text/html": [
       "Under these <a href=\"presumptions.txt\">presumptions</a>, we begin our proof of<br><strong id=\"elim_zero_any\">elim_zero_any:</strong> <a class=\"ProveItLink\" href=\"../../../__pv_it/theorems/4f446f297336bffc226ee7a901e7c16ef8edc4360/expr.ipynb\"><img src=\"data:image/png;base64,iVBORw0KGgoAAAANSUhEUgAAA08AAAAZBAMAAAAbLwheAAAAMFBMVEX///8QEBCIiIhmZma6urrM\n",
       "zMxUVFQiIiJERETc3Nzu7u6qqqp2dnaYmJgyMjIAAAAcRTyBAAAAAXRSTlMAQObYZgAABtZJREFU\n",
       "aN7tWm2IVFUYft2dOzt7750ZfwSlUoy7fSyUNChkpdWG0NIfHQvskxwW94dhMhWsmVHT9qPREG4J\n",
       "aoJ2LcocsxmKZd0f4dTmBpkyUBDGKgOWlcG0iEW7a9H5uh/n3jsz5+ANN/DAmTn7vu+857nnOR/v\n",
       "fc8CtCjRTZvharnCpW9TpaVNx9VhmgWlM3uFiNrL6mwqmhEwQNUrCmnUgoWIqmHB6WZEJfBXPFTE\n",
       "ap7WUIq+6Bgv+PBaqd/b5usDdCFhlIOkvppj547BYCGijmPB+WZE6WX0lTDDJCph0BpK+Q0OeFyd\n",
       "lXNgmX/sV/0a1hPLQUqkGWM1BgsRtRt/5ZsRRbS7Q13S37Lq2XtSjTalQMUn9Cs+F/QaJ4EZOa+W\n",
       "ue6zjKcb9QpiCl8fYj6SZdb4gsFCROGlopebnlF4vR0PlajNrIZBVCwL2jQniUxLebXN1bm+hzdC\n",
       "IoqH1NLHKmv/2s9gIaLiXxeLu5oHExPF4sFcqDFMjtZQiEpmITLDSfSclFfH/EevyS4IiSgeUksf\n",
       "X9l7YC+FhaO+vwqFl5oTlSwUXq+ESVRbmlbYMbbQlCGKs2dPVUpD5AInSfR3lyW8OuZjXpNuPKuW\n",
       "L54vM8gcRn8fQj7OdS1jBKcpLEzUAMDW5kRFMxAzwiQqVqU1Mg9+l9qkOHv2VO9UQOGJKp1XpyS8\n",
       "OuZnyNjUSSGn03ZU7zcSkxJE8Rj9fYj4UP8xS3TA4zUKCxO1gsQWbfTY/CmIqEg6KCDylJU1MRnx\n",
       "WaZ1fxXuBFDyokNK7RlUm6g0KJc4yVETLkh4JeaQyACMeE22oEG7HtqRq0dFB5nHyPVhQ2rlA525\n",
       "yRQhQ8Nb5gglqgPa0ORWKIN0fSrPfwkLs84Lbw4WtX6bSbeSHRkfZLDn9NJ6nwnPgbIkxybyzzfU\n",
       "6/43cJeC2FOoJ+v1Z+v1c66tz5HcC+olCa/YHA0Jaq31Wl0D0D4NHSl4eCn52+nDUxyFC6OnDwZJ\n",
       "wEd7DUoVQoYySWFhovQqn3w4NHYPHNHNdtMh6gS0jiUS5SYy7PP9bfBUhSfqOlD/QAs2Jzr3qb0/\n",
       "mND4YOIsji7EvZ61g5EgoubkoYQWW5/oiuIxcn3YkFr5QK9Rq9iScRHVWVvDvTq8sceEz1Jp3ZVC\n",
       "2qe0TjUljcYy4vNUBbQKt/WhiaxNShDF7L3heR7ifHj+N14G4kQRc5r7dJ1RWbb1oal9FMSJ8mDk\n",
       "+hAmKlnFC5OceDnaN8n1bV2HBDeTXlBosgI3hoffchMV24mmv7p4Y8af7LCFa7ue9mktGfYZeQIZ\n",
       "Glwwoc5AtDYqQRSxp1CbvfBexAeFOFHE/N1lVjDhLiiYKJVho2aIE8Vj5PoQJ6oXnYyYDC6YgE/R\n",
       "7/UkZrA9UqO5v2H98JMuojS8Qx/IrDUh6skkESFJBt5idvu0WIZTVdhn/LDBnV24DsH32Yp/SEs1\n",
       "HPiwhltB7ClU1+Nugf0ZTvIMvAZNvJIPl4KYp1ei1nLvwKHAOJaKD+r+FWXjs7xZCh4j14eXKOcZ\n",
       "S/xMi1ZjaUIGtFcoLEIUDjD2kIDnoJ5Vyfk/DJUxd/YcH9ZL4BFQPvdQgYWgUoBnfNohOkeJT+2Q\n",
       "QxRGjOsHXY/19/qHtAOjGrQaLgWx3zPimZcfdQ3wkvduq0ITr/TDUWBz1RgPinkRPWr/TTtvDNj6\n",
       "BjmXjoLH6O7Dv6JsH9aDWgwuPkHIoLEohkWIiptkTOmepLxQKAwhovZ2uIn6AdUFgNZzh4cKImTn\n",
       "7h0+LZbhExH77BzONEghiW9SFv2NNhC3RNYr2uXUXOMUknAwwWPk+hDe+pwD4gBQWPZ9lDqdYad/\n",
       "lq6oyENuorDFFGwveqkgQq0LN6cRaV6isOw0WrzE590IsxmUlLXxq40y9JyCQQUo+uyKQaMi5hWm\n",
       "midl+4L6aNi5jZHrw4Yk5IOEYq6kLGO+VuncBrAagNztfAcw4SEK5ikXq5gKZLfbtD6wUFuBZS/G\n",
       "8z4tknU+nmM+dxxzRgInOuxkhyaXR0RQhczkvCpzA6857JzNSAgYJSGt5q85GPMbDGUBQA8aPxRr\n",
       "RF7uhaiXqAdu7SZEIbvVhjIPfyygwgEsW/MN+LRYFklTn6Ce/GXAnnF55+Kwc+mfKRn8CKpI3lfS\n",
       "a1s+MJNmXRzueKX/sjHKQuphk3kreK7iNbq19hSGPCkk918mfYe3f0H20F7WCtKSKxSPz1l4FR9L\n",
       "QXyWXcWjITuFt1/DS9Ro9MH5gUlZ1wZx+zJ6kc9+Qb/6TdoK1IZ7NfxflXVvzjaYPBkcUdXouNGC\n",
       "KGon03p73/+BJ9iwfrYh4skQ+S+ky/u/vom74Gq57NK3KfsvcmiFx0wVYhgAAAAASUVORK5CYII=\n",
       "\" style=\"display:inline;vertical-align:middle;\" /></a><br>(see <a class=\"ProveItLink\" href=\"../../../__pv_it/theorems/c0c3b49168e537b93cca36fbb8f706c15db924700/dependencies.ipynb\">dependencies</a>)<br>"
      ],
      "text/plain": [
       "elim_zero_any: forall_{i, j in Natural} [forall_{a_{1}, ..a_{_a}.., a_{i}, b_{1}, ..b_{_a}.., b_{j} in Complex} ((a_{1} + ..a_{_a}.. + a_{i} + 0 + b_{1} + ..b_{_a}.. + b_{j}) = (a_{1} + ..a_{_a}.. + a_{i} + b_{1} + ..b_{_a}.. + b_{j}))]"
      ]
     },
     "execution_count": 2,
     "metadata": {},
     "output_type": "execute_result"
    }
   ],
   "source": [
    "%proving elim_zero_any"
   ]
  },
  {
   "cell_type": "code",
   "execution_count": null,
   "metadata": {},
   "outputs": [],
   "source": []
  }
 ],
 "metadata": {
  "kernelspec": {
   "display_name": "Python 3",
   "language": "python",
   "name": "python3"
  }
 },
 "nbformat": 4,
 "nbformat_minor": 0
}