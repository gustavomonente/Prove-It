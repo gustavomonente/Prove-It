{
 "cells": [
  {
   "cell_type": "markdown",
   "metadata": {},
   "source": [
    "Proof of <a class=\"ProveItLink\" href=\"../../../../../_theory_nbs_/theory.ipynb\">proveit</a>.<a class=\"ProveItLink\" href=\"../../../../_theory_nbs_/theory.ipynb\">numbers</a>.<a class=\"ProveItLink\" href=\"../../theory.ipynb\">addition</a>.<a class=\"ProveItLink\" href=\"../../theorems.ipynb#rightward_commutation\">rightward_commutation</a> theorem\n",
    "========"
   ]
  },
  {
   "cell_type": "code",
   "execution_count": 1,
   "metadata": {},
   "outputs": [],
   "source": [
    "import proveit\n",
    "theory = proveit.Theory() # the theorem's theory"
   ]
  },
  {
   "cell_type": "code",
   "execution_count": 2,
   "metadata": {},
   "outputs": [
    {
     "data": {
      "text/html": [
       "Under these <a href=\"presumptions.txt\">presumptions</a>, we begin our proof of<br><strong id=\"rightward_commutation\">rightward_commutation:</strong> <a class=\"ProveItLink\" href=\"../../../__pv_it/theorems/d8ae8fa2976e62c0ec2beba12376e75b7e728bcf0/expr.ipynb\"><img src=\"data:image/png;base64,iVBORw0KGgoAAAANSUhEUgAAA0wAAAAyBAMAAACdc0aoAAAAMFBMVEX///8QEBCIiIhmZma6urrM\n",
       "zMxUVFQiIiJERETc3Nzu7u6qqqp2dnaYmJgyMjIAAAAcRTyBAAAAAXRSTlMAQObYZgAACm5JREFU\n",
       "eNrtXH1sHEcVf767vY/dvbNVopIUgS42CVah5JRAm7ZpY6hoBBLhDFLTUIFPVvtHIZSjgNXSCK7m\n",
       "j15bFa4Kaj4kqgtWk8ZR8SUUBUuoOWIaRPqRUytEU5rWUsJHi3Dd1K7wmRBmZnf2dnZm4xnLzt3W\n",
       "jOS7ubfv3uzOb+bNmzc/H4BcabtwoQrNLL+HJVf22e8nL7wj+5W20d3lZt6yWV16MEXGrfcDuw9J\n",
       "w5Rt7i2vhiVYXqeV3oDAZHQ41Z+/LxExSgJhvBowmPb20JpeWBiLT35wce5Uuz+jpH/rB6z3OwXX\n",
       "9GUBg+nHTi1VWiCTZxbpVtsravqz1tsvRdcOBQsmo+5UX+Yvpn2+dfii0lk5NbnWXNpfKisZidiP\n",
       "ZorsxqqBginWcCT3LhBMkfoiwfQHNSNm3nZwHSK9mUDB9Ibj6RL5BYLJzC8STGfUjKToCDwrUvxu\n",
       "oGC6x6mF8FPtGFtZVoApsWHtFZw01d9V8fTlsc6sQg+bnatETa2aVYFpx7E+upSNCcdnOUAwaVON\n",
       "GLWG/NUKeBsJC7IwfaaUmgToYqUjb+kzrNrOSnwcbpXt4cR98BMEdtbbVBw5U2kj6El+WoaVaWeT\n",
       "ZE6Q4vj4kXSAYAo3/HYMDb69NVgP2rq8JEz6hyGMIN3KSo+W4Rzbl9shWvnKNbI9jFb3b6JPfFPj\n",
       "IG8EPcmNyBTZbRwRKabGAwRTW65RRY+0sQx3o5GYt4ff3z8yMZHjvvPixMR3Jib+hkGuQyzNSW8E\n",
       "/T9eNVQ2edTY4mptY9mnqaqake1oyhBTfaInD80ECKa+GgPTctCnKUwSs6mtACP8onMGIrNeNQcm\n",
       "iYmw3K+pHiUj+hRVF8KUOB8gmNaU3E4PzQJjUgGmkSocBfhsjpWet6ePW00BJjIV4RfXi5pSMYKf\n",
       "ZExbTb9kr00N53B5gGC6H9whhD4L0fFRBZgqcJdRqtZZ6RReGNyCdvSxIj8RzuOFKbNZ1JQ8TNaT\n",
       "/Otp7PZeF2o+ECCYXA7GREHQIPw5V+VhGkHLrf5fu+LqpHg6OWAmDubZrvuWk4CyBeEcDGW5Hia2\n",
       "HMuu1q4G/dN66TjwTYG8EetJ3iN9u0H46CdtmMgjnZaBKYXfk7VLj5L+bqOOwdnXubW/h4cphl3F\n",
       "AK24wq/+VY99FPUg23VDn6h5hvzzp9N8DxNbjmVXa+YLL6HXR0DQlLwR8iTaZQ/j+l/FG/usBdNz\n",
       "+O0tGZhMvBFLlZuwbTrn+nCvGzCFLMTIE36OiBFIOz2rzAi11YyECr0JhHBeHD2lLZh24XiiIAMT\n",
       "0drVBJ9nuDf2TurVoM+l+42cYfeHZ0yRlBMcAT81UWtah1BbzUg8vSXkk3pFoytjwYSnh1mRgYnM\n",
       "ueeaAFNy2v1QdtSXuOa9tIqRfX+U0drxo34Vo6HCAhhJlaKrfA4yUGCTs2BKnhge3ikXQrw2PHwg\n",
       "3wSYQjPugViA1inx9IKZetAHpoId6f27WNwuB1N7sfhAtQmdYdbdn1rokP32RxdspU76nHa2jdsw\n",
       "3UGQDFnZPhxurEz7wBTNOi7Hv2wel8rSTQuEG32C/nAdWrNsu3Px82R5G6abQEc9q1n9jxcpKxOI\n",
       "ypYNPaHLXTBFMn4eFNiNjUSMPSlaLt0ffnN8gA6X6CQs2RLrsGGKQYjdC5FMoP7bdTWjcAKuc29v\n",
       "83DV3AuiFBXAEM25Z+z3g2M3wBMPwder/4epAZNZiwEf9b8yOgzGS2GoumF6AeaOINqlKCXCOWcf\n",
       "jCUf3lOGU1Uwqq3u9C4FTNTpJcZvQf6M0BV1cqCJM4ER3I3GbVvTDEyPayg81Nfexa8hQ6vpJrqv\n",
       "8xv47Vgn36Qj09d+kp9zQ53/tCo34b3rbagNCrg5s3RhckIIePB21BPt2NOFCR0WZwJJYsjInvgT\n",
       "A1P8MbRs7c/2lSHKhjj69zU04onFj5W7yPrW69UhMouO5msijE3gv+RTrkkZ4uONRO19CcooD1OO\n",
       "wvQrNK/2kI3zARMLcSZwyILJdJwTgcnAx5LrYAtov2P7OJzRkBEiGySp3vWgeXWwzK6tQ+0KTHSA\n",
       "gZrTyUQ+6IIpOcXd/ZMt1LciYiYlScqmw2wOZpRbMdozFKb2NOldsl1Dg5RkArcUi8W0kU3U8m6Y\n",
       "yLH0hzCfO8b2cVsllLOry+BqosTpEBmt+ZgII1+o3VMsDiZ+7XKsBg/Tm600B0TEzFk1EzYHU+ci\n",
       "K+sUDMOURP2l17N0/SeZwKg1m+BzaQamV5HmDDwy7O3jkVL81fJholsncMwIYMKy07hVfxOxn70M\n",
       "QAC/Lm3PTjzWznObQT4CUSNszUnjkrjg2JjljUbqc7UFQg7mMa8OTb3SALmaeIhkYsskE2hiVJI9\n",
       "kGTWJlJWaFM13Me7yugb9ktbqe+L8HQG0IcfJAvo9SyEsU5Dw5IlvprHshXadI29TEx8DdpOPQXw\n",
       "LMmLPetKRr7LxT+lFoLJgURAkpSFiXIw93p1jlbcMOnbShqaBd3QW7EygfgIZNNZe2gzMN388S7S\n",
       "x70VbQX0lvBLJdJ/+AacpEA2bnkev+646kqsg2qWRsmWoQgS1aiJxmXbxGYcfsTxnekv/uMO515/\n",
       "6L35ndBCMJmCE5VURg0m6jdTPR6dkyU3TMQcWaHsSDmE1iZvssg9nMuOJtDa/gglRBmOjuG2DlYu\n",
       "3gDBZctEZ+ogeu0uDnqySN4HxGiyJEkJ5qKbg+lIpSiUYsYlteEQM0UkSZCiezocTG4/+W3wwjQa\n",
       "/fwV4v+z4WDS1lzv0rRr0StpRDlKdVwRplXDxyajwF+2TVybFP7v5hveDCc+NLVIkirMxbed1KUj\n",
       "laNQsoxLes7qHO5TYiZLklShe8brELqMLLreGGI5B1MterwESZCBiVgU1KDmehXUdj/OyBrV5EXj\n",
       "oD7vZvg+SpJUYi6ud1KXjlSOQskwLh03Qm04xEyGJKlG90TofI/oetI8iXMcTBffDS8IZeW1a+e3\n",
       "Fc95BMsckqQKc/FuTipDoeQYl17LFjGTI0kq0T2rKNYmPsaTvgwUnTI8ycNkkyRVmIvTnFSSQsky\n",
       "Lr2WHWImS5JUontSBo4Xpng+QDBFpninNy/mYmQ1K5WkUDKMS73L4/QcYiZLklSke5qZL+dcX6Lb\n",
       "3nSAYKL/5uMOIebFXLRSlw2pJIWSYVyG6e8A0O53iJksSVKR7pn6yxfqfAixphwkmLyh3tg8mYt7\n",
       "jrBdFxZSKB1OJrXBMC6txKfLskPMZEmSXpiIMV+6J7STbWK4yj6ofSobEJjaPHe/aZ7MRRj0jHAh\n",
       "hbLByRzwXCDq8RprwyFmsk1xs2mAMQ0eDmZvN6FBst0csH/qNOp+ySI15qKduvRIpZ2e7fpKPs6M\n",
       "FSjSPbu1DmR3P6tBkxlB+cGBM36pVzXmojFeFUjntMFe6BVZ5gWKdM9BLZ/mUq+HysGC6VFP85TV\n",
       "pshc1LcJkiyKNqBbSkuV7vkm9Ge9BxmB+/kO7+68mceCg4tn2sOvi2YCBhM5a3SP1aYdsuPE56KV\n",
       "U+zHV0AZpib/UFs0Da1RcOLzUu3qbReo8kNtzf7Zw0/Bkiv77Ilx8sI7/wNo39K7oC4/XAAAAABJ\n",
       "RU5ErkJggg==\n",
       "\" style=\"display:inline;vertical-align:middle;\" /></a><br>(see <a class=\"ProveItLink\" href=\"../../../__pv_it/theorems/461bd72031d4e4876c8a351a133000d403ca3c9d0/dependencies.ipynb\">dependencies</a>)<br>"
      ],
      "text/plain": [
       "rightward_commutation: forall_{i, j, k in Natural} [forall_{a_{1}, ..a_{_a}.., a_{i}, b, c_{1}, ..c_{_a}.., c_{j}, d_{1}, ..d_{_a}.., d_{k} in Complex} ((a_{1} + ..a_{_a}.. + a_{i} + b + c_{1} + ..c_{_a}.. + c_{j} + d_{1} + ..d_{_a}.. + d_{k}) =  \\\\ (a_{1} + ..a_{_a}.. + a_{i} + c_{1} + ..c_{_a}.. + c_{j} + b + d_{1} + ..d_{_a}.. + d_{k}))]"
      ]
     },
     "execution_count": 2,
     "metadata": {},
     "output_type": "execute_result"
    }
   ],
   "source": [
    "%proving rightward_commutation"
   ]
  },
  {
   "cell_type": "code",
   "execution_count": null,
   "metadata": {},
   "outputs": [],
   "source": []
  }
 ],
 "metadata": {
  "kernelspec": {
   "display_name": "Python 3",
   "language": "python",
   "name": "python3"
  }
 },
 "nbformat": 4,
 "nbformat_minor": 0
}