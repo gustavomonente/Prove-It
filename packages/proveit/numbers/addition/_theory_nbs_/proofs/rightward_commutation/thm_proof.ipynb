{
 "cells": [
  {
   "cell_type": "markdown",
   "metadata": {},
   "source": [
    "Proof of <a class=\"ProveItLink\" href=\"../../../../../_theory_nbs_/theory.ipynb\">proveit</a>.<a class=\"ProveItLink\" href=\"../../../../_theory_nbs_/theory.ipynb\">numbers</a>.<a class=\"ProveItLink\" href=\"../../theory.ipynb\">addition</a>.<a class=\"ProveItLink\" href=\"../../theorems.ipynb#rightward_commutation\">rightward_commutation</a> theorem\n",
    "========"
   ]
  },
  {
   "cell_type": "code",
   "execution_count": 1,
   "metadata": {},
   "outputs": [],
   "source": [
    "import proveit\n",
    "theory = proveit.Theory() # the theorem's theory"
   ]
  },
  {
   "cell_type": "code",
   "execution_count": 2,
   "metadata": {},
   "outputs": [
    {
     "data": {
      "text/html": [
       "Under these <a href=\"presumptions.txt\">presumptions</a>, we begin our proof of<br><strong id=\"rightward_commutation\">rightward_commutation:</strong> <a class=\"ProveItLink\" href=\"../../../__pv_it/theorems/bf33e7e07ee097a9ae9a31ab0c4589999a5ea3970/expr.ipynb\"><img src=\"data:image/png;base64,iVBORw0KGgoAAAANSUhEUgAAA2AAAAAyBAMAAADIEqX2AAAAMFBMVEX///8QEBCIiIhmZma6urrM\n",
       "zMxUVFQiIiJERETc3Nzu7u6qqqp2dnaYmJgyMjIAAAAcRTyBAAAAAXRSTlMAQObYZgAACVlJREFU\n",
       "eNrtXHtsFEUY/+6ue4/du5aoUcBojlaQYJAGlDdSNUr8Q7jGRECivSD84SPk1IigRI/6Bwf4OIJB\n",
       "MBEOCRBKtGfFYBMDJwhEELlgjI+INgEf0VgLtIQWEWdmZ687O7t3e+0c1xUm6e7szOw3s99v55tv\n",
       "vv1dAewl16VLGShn+hyu4CRH1fOxS6ft3uJq3ZAq55CDmSsZMJipnnZs+NA2YJHyjnjEFY0XhNpo\n",
       "pt4hgCmD2Ot3/5ewKEnLqtccBtjmOtamxwWtDctjJRmutLy2qPZzrlXPTxRUgFMAe5W9rEwKkltZ\n",
       "W5rxVqWLa39BPX1Q0MQ4BDClh73+mm8RtrrVtKLFqNgWyNfMnlBd6axUYSG6igr6fMGwpQqWOQow\n",
       "n2EiLBUFWE6xggE7BEUBFqSWWR5kqYK9SScB9jNrAgMxUYAdgtIAdrI4wHKW+VShd9YhgC1hL914\n",
       "8Gv3D0sVAVhg6tihvK5+rZ5iUN6+6kgRgAWrh5t1NfxCMYCt3degWeb91o59j4MAkzrZa38Wmf0h\n",
       "8DeqidsF7O5kZQdADasr+d9Uc5JR3ttpfxvMsQtY4CV4A82PiLErP9LuHLuAoSd5MwXDyM0/kbeg\n",
       "nSR2GZDPOAgwj8G0+9ALuTkLE0EaF7MJmHwTeBC4c1ldIWemKsxodRl40w9NsAuYLwNPoSu+qzYo\n",
       "LESrQE9yFxJF/Pbd1kpodxBgrqjhGj3c9BQ8i97OGH0lf7u5vT3K3dhb4ekBn4bpV+3tz7S3/4rf\n",
       "hDZozjAFxPDMMDSzEooHYd5VppAQXQUSglzAZiKqwVoJY5LOAawhywM2GOQuDTAbM8wVh2Z+cUKL\n",
       "/ay0vsAV7wXMxgwbbNVVnQ0hWgV6kk6teR7ANmWdA9iYJGcS5X9A6SgCMDSR9gLcE2V1VZXVJgkt\n",
       "wPPNPmBoECi9N8WsK9uA0SfZL43QbqJrWNTMzDgDsOXAOR3yBfC2tRYBWBoWKclMjwGwOrTgGBCE\n",
       "tP0ZdhEvYLUzzbqyD5j6JH/twkbxJ2sl+GPOAWywcRVBDlQjfBvN8IA1t2Hfj2Z0Ff5waHEwsDPG\n",
       "KtGb9dcyBZ4obIlwus4JJBldb+NBvlNOHgS+KygsRKtQn+QcUfBUayUEO1TAyHOdsANYJdkOZC8/\n",
       "XvJZQwGGaVv13Pl1PGA+bDgWaxmd9Zo/fN0tSJcGJY49apgGX54Im1izxXrJut6CR4+j4+tg0lVh\n",
       "IVoFeRLpmtU4/4u1FkJdKmBH8OkPO4AF8fJcmSrDNuyMsWSpHroiIh3NW63MFFNg2ySqqdu01LbT\n",
       "ocYC4vUBhHWskBbqYT3e/8XtAEZarS+DRVQuGEtywV9Fe0LZ6kViKvYEaabJ2Iwp2A1WzcyESoNM\n",
       "x1BQCFPhD8925w3+UjtTT6ZMMG0HMDIPj5QBMNUYMAswdRsDE86Fi5G07Qs7rda+Mr8Yoe64ACGV\n",
       "Se/wfJ9XUDqnAhY63NT0tj2n48emph2xMgDm7ubetjgMnOQPCxO1Ml/leeolnk8kltkDrCqRWJEp\n",
       "g0aCPVzRAKIILFgjbFkP5f0uezMFbCEB1q26t9hLGRa2AMwbydki6zSzzVZ0sMukcLrF1sHTAwM4\n",
       "Pf3EZeroBgrYvSAjHUsqEngxU8OQKM2eWue+XgdYRW1+I5vbI9nw1DtMCpv1F58cXKy9ON4OuJoA\n",
       "nqGA+cDN7q1IGFL+dFxWiR+GyfqNcwxGF149bbEZFLN5uIeed+6fBltXwWOZq4CZARbM+tgKsoH4\n",
       "rrUJlOMeyOgBOwqFfY4qW/wY03lIv96FVr+Tgu8zoGQcYRIvW3qBAhZoexhZO0LUlGvw9MBhyAqs\n",
       "UGXe3DAD2EYpiqMDi/i1ZssIbY/eUP0kPu2r5nvMlcljb+fn4ZbqP9XMvXhDPA/1oUEf7L6Kls7p\n",
       "gJULkE6qsB30VGBLhcOQJAylRA5/wwDmX4eWt+2RhhR4Wc9Ifl5Cs4CYuVtTNWQdrDe2IWUq885S\n",
       "hAeLwH+h93UT1d01kL1EkRGCvNbpeg2wj5Cde4fsy3cEcagLhyG3qIAFc6aLAKbgr6jjYDZIn7Ha\n",
       "9tRKSAgpayQR54kgGdvgMpobh/o1ETEIFNSdTCb3Tt3YQ50DeR9mRkYVTyRF6awGGPlI3qjuAZH7\n",
       "QcKQsxOJRFiJBLIxPWCAw1k3Yp67j9W2K+2O0ux1MJ404tqQMi1nIcKDLKW0JJFoDHysM7tKJx8X\n",
       "GEDzwoyMKpxIqn18w4CFkObknojmMZAwpFedYXBfmAHsB9SyG15vMmq7Oen/IdVC2vYQYLpNAMNl\n",
       "J7CJtRbhe+trAAL95DCdsfh9vWgcvDAiqZ1S22TUkhJJc8Ffzc3OBFaRWHCKhCGDGJ9QHYSYNYyk\n",
       "IVJnFmt7fQrdQQ+uZMODsKsW0MWLoTg6ngIPbtPbQi0LPBLDZUOkrixbTUQ8Cq7v3wc4QEJxB3Sj\n",
       "N35eEUckFQFYDpySEklpCFwDTH46KaGZMRLq02oYEn+dmXGKvu4MYPffVkO0XZ+WhkB9Eh/SFfNb\n",
       "puFACJLx8Jf4uHb0KNwG5dQWSVqGvE+U00T0VlMRM7HD4sdvrPzV7wtzY33ZMHZxRFIRgB0yaSae\n",
       "SEp9Zf0XZ4WsZHR+u9EaZgxN6T2+VK4laLntFRrjS8m1UfTSQf0uoIBJtSqiunInOo5MNBpiVoax\n",
       "iyOS9oc3ypFRS0okpeEDPWCt3geGWnqWLGDSmCm6ljTnHYVkqJK0NvQ6V0Y+5rQCX01FTAqZ/jL2\n",
       "Z8NqKIxI2i/eKEdGFUUktUAgbgQs6z2YhBDYAYw42yY5yOqOJrkNG5my3mworw/VYPC5hBFJ+8Ub\n",
       "5ciopSWSbgobAcubxJBwfpzUp9tKRyTtM2+UI6NeJZLqN9UdPGBCiKT94o1yZNTSEklXgHMAq+jk\n",
       "TKIYImm/eKMcGVUUkdQ8OenHEPAc53QIIpL2hzfKkVFLSiR1O+nnRkY3URiR1GPKGyW3FuaNcmTU\n",
       "khJJ6TruEMBcGdZEiiKSmvNGya2FeaMcGbWkRFJn/WTW+KN0sUTSPvJGW/I3E0wkpbETp/zbh5MW\n",
       "wV8hRNI+8kab8jYTTCRVhjoLsDVs90KJpEJ4o/2VWohI6rR/rKKwtqKcHzAF8ka5ZE0kfRycBRj5\n",
       "KqpL5aMICOSNcsmaSBqKFw1Ymf/9njcMAyNdNt4ok/rw7/fK/Q8u74ArOMlPqudjl07/B4faw+iR\n",
       "BIJHAAAAAElFTkSuQmCC\n",
       "\" style=\"display:inline;vertical-align:middle;\" /></a><br>(see <a class=\"ProveItLink\" href=\"../../../__pv_it/theorems/f37c03e9b7038dce3ddd5983d001bfe3ce57836e0/dependencies.ipynb\">dependencies</a>)<br>"
      ],
      "text/plain": [
       "rightward_commutation: forall_{i, j, k in Natural} [forall_{a_{1}, ..a_{_a}.., a_{i}, b, c_{1}, ..c_{_a}.., c_{j}, d_{1}, ..d_{_a}.., d_{k} in Complex} ((a_{1} + ..a_{_a}.. + a_{i} + b + c_{1} + ..c_{_a}.. + c_{j} + d_{1} + ..d_{_a}.. + d_{k}) =  \\\\ (a_{1} + ..a_{_a}.. + a_{i} + c_{1} + ..c_{_a}.. + c_{j} + b + d_{1} + ..d_{_a}.. + d_{k}))]"
      ]
     },
     "execution_count": 2,
     "metadata": {},
     "output_type": "execute_result"
    }
   ],
   "source": [
    "%proving rightward_commutation"
   ]
  },
  {
   "cell_type": "code",
   "execution_count": null,
   "metadata": {},
   "outputs": [],
   "source": []
  }
 ],
 "metadata": {
  "kernelspec": {
   "display_name": "Python 3",
   "language": "python",
   "name": "python3"
  }
 },
 "nbformat": 4,
 "nbformat_minor": 0
}