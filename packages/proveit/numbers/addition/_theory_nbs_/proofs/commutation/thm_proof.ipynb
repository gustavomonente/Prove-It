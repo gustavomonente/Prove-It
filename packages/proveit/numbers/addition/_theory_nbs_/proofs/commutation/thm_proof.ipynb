{
 "cells": [
  {
   "cell_type": "markdown",
   "metadata": {},
   "source": [
    "Proof of <a class=\"ProveItLink\" href=\"../../../../../_theory_nbs_/theory.ipynb\">proveit</a>.<a class=\"ProveItLink\" href=\"../../../../_theory_nbs_/theory.ipynb\">numbers</a>.<a class=\"ProveItLink\" href=\"../../theory.ipynb\">addition</a>.<a class=\"ProveItLink\" href=\"../../theorems.ipynb#commutation\">commutation</a> theorem\n",
    "========"
   ]
  },
  {
   "cell_type": "code",
   "execution_count": 1,
   "metadata": {},
   "outputs": [],
   "source": [
    "import proveit\n",
    "theory = proveit.Theory() # the theorem's theory"
   ]
  },
  {
   "cell_type": "code",
   "execution_count": 2,
   "metadata": {},
   "outputs": [
    {
     "data": {
      "text/html": [
       "Under these <a href=\"presumptions.txt\">presumptions</a>, we begin our proof of<br><strong id=\"commutation\">commutation:</strong> <a class=\"ProveItLink\" href=\"../../../__pv_it/theorems/8cbb0ed6031ac22757502c19006c889c00ccda790/expr.ipynb\"><img src=\"data:image/png;base64,iVBORw0KGgoAAAANSUhEUgAAAOcAAAAVBAMAAABPgOQBAAAAMFBMVEX///8QEBCIiIhmZma6urrM\n",
       "zMxUVFQiIiJERETc3Nzu7u6qqqp2dnaYmJgyMjIAAAAcRTyBAAAAAXRSTlMAQObYZgAAAwBJREFU\n",
       "SMe9Vk1oE0EUfsnmd5PdeBAEQQlWe/IQ6tGqFZGepPHgz60hKCKoxIOCP4eIIAkq7MkWVNiagxLE\n",
       "LBWRSKHFHgRFCXhpC0qgtmKVpRQPmqr4Zt8k2dndpOrBB99md+a9+eb9zJsArC3RGsFTYpp77G6n\n",
       "laocdfbxrivpAw73xAZ8nHQNy3mQr+S8DEIa4RX7WOpK+onDLfOIR65RFZdVU176cp0wyuKX78ap\n",
       "pAi2kCb5yyoinnQavEUkDP4xLkw9J6g62hndSMMawU0aaLDdr3MaXEAM6Z6kYwTlZbk80jW6Ixxu\n",
       "0riVuA/OumOjL8CTVB0gfCsULncl7eGI9vdtFEnVbA/GaNqh72epWNyyUyQl63iKcByg2NQPmB6k\n",
       "Nzn2auqySFpZkr8DvLecNi1hfBE8XfIvvaIJpGSt1An7rHri0tp17MaJLH+9RJA3gZQXSSd1WAF4\n",
       "6qwB9D7WgETSTsqtYzlCGPztg/+ZzU/sqMlH9eAXPraeIDUgnCSfPm42zQy+7gb5B8Cwg9SHOZPq\n",
       "UJkCeGOaZ01zEVrWwWVCvBZuG2C0YKZaBuUOwIRI6stDJS16Og+BVW9SPKZDht1Tbt0kjdYP42Cp\n",
       "dwGfwZVePcDysv8JTojhxZ1POqr3J3MABm05zfDwJmqwR7eTcutAjgDFYxjSc0F25vwX/SmV6czN\n",
       "ugqpYsAZ3mibpF9hrMYLySaskBIDmESBlKybhQSPkVlKBRl/JKnUS0znWRWE4pq25s7HRU9Pw1V8\n",
       "9jtI2ZEI1SIpgZRbS1MEq8x8hj9jpUPKHCkUCsnbh9qLDBLk7LZbW0XS0nZWggsOUhY+ue+12By4\n",
       "tZomgILBr2iROfxJ6D4jxHSke6i3Zhuk5XJebRC8O9J9DioubfgAjOphfQbiaat/pK3m7N3wZd0e\n",
       "Tc+G35KyV8PnIcmO74KDRvAUxvs6G3hoXks3J4tga1oucV9tEa2TbvNqswudLD/m9M8u8daWXJd4\n",
       "B2HbcWwppv3D3xXlb/6uzHLY7eE/yW8lN+oE94YhBwAAAABJRU5ErkJggg==\n",
       "\" style=\"display:inline;vertical-align:middle;\" /></a><br>(see <a class=\"ProveItLink\" href=\"../../../__pv_it/theorems/26dd03039fa7fd4e6e24bcc602163a66813684210/dependencies.ipynb\">dependencies</a>)<br>"
      ],
      "text/plain": [
       "commutation: forall_{a, b in Complex} ((a + b) = (b + a))"
      ]
     },
     "execution_count": 2,
     "metadata": {},
     "output_type": "execute_result"
    }
   ],
   "source": [
    "%proving commutation"
   ]
  },
  {
   "cell_type": "code",
   "execution_count": null,
   "metadata": {},
   "outputs": [],
   "source": []
  }
 ],
 "metadata": {
  "kernelspec": {
   "display_name": "Python 3",
   "language": "python",
   "name": "python3"
  }
 },
 "nbformat": 4,
 "nbformat_minor": 0
}