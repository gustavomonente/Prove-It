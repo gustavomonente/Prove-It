{
 "cells": [
  {
   "cell_type": "markdown",
   "metadata": {},
   "source": [
    "Proof of <a class=\"ProveItLink\" href=\"../../../../../_theory_nbs_/theory.ipynb\">proveit</a>.<a class=\"ProveItLink\" href=\"../../../../_theory_nbs_/theory.ipynb\">numbers</a>.<a class=\"ProveItLink\" href=\"../../theory.ipynb\">addition</a>.<a class=\"ProveItLink\" href=\"../../theorems.ipynb#right_add_eq\">right_add_eq</a> theorem\n",
    "========"
   ]
  },
  {
   "cell_type": "code",
   "execution_count": 1,
   "metadata": {},
   "outputs": [],
   "source": [
    "import proveit\n",
    "theory = proveit.Theory() # the theorem's theory"
   ]
  },
  {
   "cell_type": "code",
   "execution_count": 2,
   "metadata": {},
   "outputs": [
    {
     "data": {
      "text/html": [
       "Under these <a href=\"presumptions.txt\">presumptions</a>, we begin our proof of<br><strong id=\"right_add_eq\">right_add_eq:</strong> <a class=\"ProveItLink\" href=\"../../../__pv_it/theorems/b9d4c7569acfceb1c84bf1e9a528a790abc6b8a40/expr.ipynb\"><img src=\"data:image/png;base64,iVBORw0KGgoAAAANSUhEUgAAAS0AAAAWBAMAAABnB9cHAAAAMFBMVEX///8QEBCIiIhmZma6urrM\n",
       "zMxUVFQiIiJERETc3Nzu7u6qqqp2dnaYmJgyMjIAAAAcRTyBAAAAAXRSTlMAQObYZgAAA59JREFU\n",
       "SMfNll9IFEEcx3/e7Z+7vb3Th4IKik1LJIKkMHrwX0X5krkF/XvyOJIISky0h+pBehCP/m0UKVm0\n",
       "alhJ5FFEGEGLvlnIPQT9oWIfsijyOiKhrId+u7N33pyzalxEP/g6szfzm/k485v5DcBfMH+ciG0B\n",
       "je3BtiFHpvXxJjeum45c7CDbg22CRvTE+viUG9dHRy52h+3BNskk6rJWtS0nrGApUcbWKZlfssLy\n",
       "mLa7VNswUUhHx1hOXKJG5MYlFbA83Lh6iIKjAwOduW1jpyM3LnjH8nDjClUTfe/oOJEbV5Gj3uKL\n",
       "qxWa68LIctyPEYaHVKTAeZ3i8pevXYKbV0rUABCde25ulrYzRJIRbBZNiotbDF+weGtHWcK2UsdD\n",
       "5gpgDb1eG7VQEjfQJNpsh7/r5XP6QMQqfbNwHSeSdXmK0yiunjhswOIBw6Pba0IHxSUtBS8ewEAT\n",
       "kQge9iUnPVoXl/bq/Oe5uBYQSeBrcxbmw7JEIozVKh2asahneOh5CnzF6lgicSSReI817xSI+P/w\n",
       "SSI5LrKnezE0AMErAI/myQWQr2TF/SKQJl24oE7nJ6n1ymuDQXWay2/uxh/7isfty6OsGJu4YhB1\n",
       "zoqELfexwzSXXLSzwRl6UxiO0fuI86s0l/QLAjgD1GTEVzjlUQmeAopr0IDHVkw2EUF0P47Qyk9h\n",
       "1aM3inhE5Xx9B4Ssvq9eOjMRrlWC2SJ0oJ0BY4ovoOM+oK/BASiunyCYQ07cZ5+UdvCFaa4YNGIu\n",
       "TcU93EM4bylvIfIwYfW4XAMl0GfVHg5RXGooFYr+602eVJYYIaqLnYOr9D6ehOdhA6A8m8vyWA91\n",
       "cYrLpwSPyohiENlRkRfzEPgf9t9yiMAeXBalexfFBfnpi9prCKloqiHqL+ytiNNc/YX7Irj+49lc\n",
       "NXZblUafx8jKSyvwTlWJIIhrP6j5XllbwCd5q0sLLATBnr3XOmfTXPWgClaUTIBYnafONw81sfNQ\n",
       "JfO+v+GInAWtvha69GuyKWMBrVwSZNW+glU7kRIuf3IMjNTQap173pb0OfO2YErfnK8BVt52LubI\n",
       "3QrYEet/NjyKBWwtwcA7ZTXcTrSraS7p8LbVetrjbHqoKMyaMxjvnCiIcZ8y2zsn05xnRUzSfBgo\n",
       "HoyvdNOM++uWfajm9S6Mst6FXGEZs7NPI5r54A1ogrF9RvfsHw5x5jzf0cE/eke/dJQ5QKrgXhtz\n",
       "ctU+hf/BvP94vt/ong1kctS5iwAAAABJRU5ErkJggg==\n",
       "\" style=\"display:inline;vertical-align:middle;\" /></a><br>(see <a class=\"ProveItLink\" href=\"../../../__pv_it/theorems/9e03cec0050a66849928e3e2d7287711648bad290/dependencies.ipynb\">dependencies</a>)<br>"
      ],
      "text/plain": [
       "right_add_eq: forall_{a, x, y in Complex | x = y} ((x + a) = (y + a))"
      ]
     },
     "execution_count": 2,
     "metadata": {},
     "output_type": "execute_result"
    }
   ],
   "source": [
    "%proving right_add_eq"
   ]
  },
  {
   "cell_type": "code",
   "execution_count": null,
   "metadata": {},
   "outputs": [],
   "source": []
  }
 ],
 "metadata": {
  "kernelspec": {
   "display_name": "Python 3",
   "language": "python",
   "name": "python3"
  }
 },
 "nbformat": 4,
 "nbformat_minor": 0
}