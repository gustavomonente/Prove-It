{
 "cells": [
  {
   "cell_type": "markdown",
   "metadata": {},
   "source": [
    "Proof of <a class=\"ProveItLink\" href=\"../../../../../_theory_nbs_/theory.ipynb\">proveit</a>.<a class=\"ProveItLink\" href=\"../../../../_theory_nbs_/theory.ipynb\">numbers</a>.<a class=\"ProveItLink\" href=\"../../theory.ipynb\">addition</a>.<a class=\"ProveItLink\" href=\"../../theorems.ipynb#disassociation\">disassociation</a> theorem\n",
    "========"
   ]
  },
  {
   "cell_type": "code",
   "execution_count": 1,
   "metadata": {},
   "outputs": [],
   "source": [
    "import proveit\n",
    "theory = proveit.Theory() # the theorem's theory"
   ]
  },
  {
   "cell_type": "code",
   "execution_count": 2,
   "metadata": {},
   "outputs": [
    {
     "data": {
      "text/html": [
       "Under these <a href=\"presumptions.txt\">presumptions</a>, we begin our proof of<br><strong id=\"disassociation\">disassociation:</strong> <a class=\"ProveItLink\" href=\"../../../__pv_it/theorems/6a5782717a5abb3484551340432dc6d6900b10ac0/expr.ipynb\"><img src=\"data:image/png;base64,iVBORw0KGgoAAAANSUhEUgAAAzwAAAAyBAMAAABrOsMwAAAAMFBMVEX///8QEBCIiIhmZma6urrM\n",
       "zMxUVFQiIiJERETc3Nzu7u6qqqp2dnaYmJgyMjIAAAAcRTyBAAAAAXRSTlMAQObYZgAACWNJREFU\n",
       "eNrtXHuIG0UY/5Lc5rF5FfFdlXhna6mWRovv00ZFi0Jtotj6+OPCoYjviFrwAcYKej4JCLb1xWqx\n",
       "j1Oa9FqRStFYQbG2NlQEra0NWisWPWoR8VJrnZmdfc1mL7N72yTLOXCX2Xl8Mzu/mW+++eaXAPAF\n",
       "35EjVehEiGVgsoWV9HP7kT94q/g2Lpc60tetkw4d6KnLn2uWr+OGJ9uZrvrzkw8e+EGJ5LodHmb+\n",
       "RGpuCX7DacVoyaUeWAsKVz0Cj3is8Xm1a4KLsPoEWxWeLNDYnW714c6Wb93t8ITTxudf3RKcQFP3\n",
       "J3s1lK6sdasPa1vqjG6H52OjPRJPm0qMWFVtmhFN0cjX6O9Q0xwrOcmKYkumxqthKcecEbMqCqGq\n",
       "N+B5kOl2yS14HkEGUsMWPAuUmSJOcQkeRVCTsmOegCc+ZnxeCi7BE0EbSaxgC57P1ZS9LsGjCLKe\n",
       "ll0OT6hofO7DI9t/7sl24DGUV8bIj7RkYrCvYgOefb2X0NinTI1Y7zQ78GzuzRoFNQl7JC/AM8C4\n",
       "DF5Ef5eXEgcAbuKGRy7fZxyjMDLQy/vFMRCKnPCI/0plpFp/1o4l6kp8DF7ikKNkLK2E6/5jtPPN\n",
       "V6M4MGZKOeUFeM5hnh9Dw3QqBIpwwwW88Mjl4WbjGIUqxOw4KMwpcMITbUASFcHr7QNGVhXu5pCj\n",
       "ZDwOwQo8RKIfWJuJdS/AczzzjM4DgQaE0IvOAzrzHhgd3WeuqGXQ8kQJjY7+ctroKPZD+NCyvAzE\n",
       "f6CnwORYyqlDmdpTA8Yac7EiaiFHywhgg0RsqIIsnCVjHoBHOGyGx1eEclaBh2P10PLMFMbw/AQ9\n",
       "h+iwcqwedOxZUAH9qCo1TgQVHo7V4ytqpa3hiRz2ADz+MbNyQ1P4Y7ABj1z+irxZuR3GM5kbnmQN\n",
       "LRORGBPzDDXQErQDD1mCsfT1eUWQvPfsa6o3uhueMHswQKZBuQL3RUs24CHlqw2zafAnvFWzAU8G\n",
       "72LEmcyYBmiiR/nhQTBDJfH9tQ3QuT7N4RkPwONj7GpsiYZT8cUx8+oR/8VQ1GlEl0HKR94tGAcv\n",
       "hgzre+Ep86wn1VVhOjnBWjgNa2J40vcbZZ0P4nlmeNS+KHJoRiAPK7LJ20m83/rVt1N4SOXdPPAk\n",
       "yEGx1kZ4yqwPB4EiDk575Ywmym0xVll5GtHjRsqHGUcMHs0VZ9eaKKXFBmE6Oeduo6uOGNd6qLft\n",
       "aCJH7UuI0atbd6cgN4NsYz9bv/qerAzPl/hjPw88MSwyIbXz2MMqCs2pw63cKNDvmJ06wLdnGOQk\n",
       "UQfEQpMa3MqNhBnCFJ0g61fPwTJsJxR54CGllrXVIVphnTzqclKPDMNWlQ0ZH8XoGpB0LlEyaMoQ\n",
       "iRKPnJzOk2mo0VqOPmOJUEiN5xJVFEeOLIdYhWvvwWvsy3bCs8e04T1LP19+YtCWpJVfsFaHvA4j\n",
       "F/yVsiNnBjS/B7Ap51cYzI5/M5HMy/DEtwwPL+UzDXYND68ptBOe2SYHtZvXcU7CEt0UmXAYT1Cy\n",
       "SBfr30NDj/PBkxwaeqbaTni2mxRFZy+zg9ecjBSsW5fZ4wry1Sk8txMY/bJWx7bE6SkLeIJZRSeM\n",
       "E66r86XxhLnttEN44Pms1K6mfAUKz5UgotET5IbxJhTK0CKL+jP+43Xw9KQ5LnJjab40qxB94Q51\n",
       "W7kfJm0ITaHwhMBv1BhlPGfFTXNq0eIWuFh/LC3ArJZyExW+tGb7AWpTvEkSfvsfHg2eWC1kOvsB\n",
       "fLtxGKI7AlDVw7MNWlsGyRJfWpOA24y/DrCpW5VbO+FRlFukvhDprelk+hKP36fCdKzHkJ659eaU\n",
       "AZ43hTw+Pt9ndvCsmK6cgAd67zKfsbS0zb3mrtA00uZV76MeqaZBadLCo5oG8OxtaAkl8USVPX6/\n",
       "byhLxIETzW75xgBP+BW0La3KDkgQNM5r8WGhAbJ/6Eypj80laTKrK5TJmXJx2mVYBeKHnd/pDevs\n",
       "0bPcOhc2csGTV+BZj9bRq+QULnv8/kKDskKGJ6Zu6gSeKL6jnAOLQPjEOMSBtICESPLJ4Ac2F6fR\n",
       "2IUgmHJRGqwH2uaH+s7vyRytc49TCqIr9h+PTkimFXjwHS05b8keP+GY55HRNjQ0lIpmI7WCHh44\n",
       "iP6mAlKEIeMQ+yoqF/pYOJ/NJWlymAqmuiQNsyxIm6/dqHfqZMzHbZeCQwqiKydinmOGfDOL4YlL\n",
       "+HY1q+zh/mIuAkF59cBVKQM8O1HJMXhxmB3icim8UxohZRtouFkAcNpu0t5YE3hw2iPz03KbgbdR\n",
       "E+qeVbP0uanBIc/NIQXRujSfS1XeazngUVyiVHi9GnmOeEilcGqRH2IYjXgG4oa9h4SThD9reIiX\n",
       "SagG/ecrDcyHDWlAD4/GizhXy5PTIrcUcNpeCJhycdqpr9bkNiP9Wa37SRYN12iITimIrsDzFgc8\n",
       "sjdYgUe8pyRMxR6/XCVRCk4DeB5b2HsB8iZ4rj6rj8CTqwgnQa6E/1V6BkcuxU4FJGPhVrI+UEzO\n",
       "K9E0ZJeh2MuzZppyUVrPjxgI3Ca8N/q02lSIVQOu0RAdUxDdgCeR4fBnlfTwkAbIDkSXsR/tA6xT\n",
       "Rz+NJbUkKLFVPUQGzY3q5YLsFbfM9af2V8xtQuAA02nXaIiOKYhgm344op0fsvxOFPlErodnI/b4\n",
       "WX3pxAiPMPsSXUkaC86kRiPO1ZmPcgxfXFjmBkq7ms2oeINJcI2G6JiCCLbph0o/NPphnMM2ONEE\n",
       "Tw17/OLAAw9ppEkMalax5W+Ol2sRhENMgms0RMcURLBNP1Q6qNEPo63N9MhBEzzjH5MmSAXZdZGT\n",
       "WkeNhuiYgmiTfmjoh0I/FA60fHFP0BBhrhked2iIjimIYJt+qPVDKc0BT7jgBXgWZEzKzR0aomMK\n",
       "ItimH47ozpky/bCHw7Gc8gI8obTJNHCHhuiYggi26YcaxAr9kMM0mC15AR7WdHONhuiYggi26YdU\n",
       "RkCjHwaqvJtut3958RTjo2s0RMcURLBNP1Q6qNEPEy3H0iNfXmS/+useDdHWvkHVU2nCMmT64Spu\n",
       "F2y3w8O4it2jIRrOH/wUxAnKkOmHrV2i6yRvwBM5zvjsGg0RnFEQJyiD0A9bXyh45mcn2O/3rYbO\n",
       "hSUuyWlNRgumvQJPwHgS79xlNqEguhK+a1niW7ANT6d+MGwQuiO0kYLo5AfDOvVze4EMTLawki6E\n",
       "7Uf++A9lh3YH09+mHAAAAABJRU5ErkJggg==\n",
       "\" style=\"display:inline;vertical-align:middle;\" /></a><br>(see <a class=\"ProveItLink\" href=\"../../../__pv_it/theorems/bf4edc16c6b7dbe8607dd1ce0c3a36264de4b4a70/dependencies.ipynb\">dependencies</a>)<br>"
      ],
      "text/plain": [
       "disassociation: forall_{i, j, k in Natural} [forall_{a_{1}, ..a_{_a}.., a_{i}, b_{1}, ..b_{_a}.., b_{j}, c_{1}, ..c_{_a}.., c_{k} in Complex} ((a_{1} + ..a_{_a}.. + a_{i} + (b_{1} + ..b_{_a}.. + b_{j}) + c_{1} + ..c_{_a}.. + c_{k}) =  \\\\ (a_{1} + ..a_{_a}.. + a_{i} + b_{1} + ..b_{_a}.. + b_{j} + c_{1} + ..c_{_a}.. + c_{k}))]"
      ]
     },
     "execution_count": 2,
     "metadata": {},
     "output_type": "execute_result"
    }
   ],
   "source": [
    "%proving disassociation"
   ]
  },
  {
   "cell_type": "code",
   "execution_count": null,
   "metadata": {},
   "outputs": [],
   "source": []
  }
 ],
 "metadata": {
  "kernelspec": {
   "display_name": "Python 3",
   "language": "python",
   "name": "python3"
  }
 },
 "nbformat": 4,
 "nbformat_minor": 0
}