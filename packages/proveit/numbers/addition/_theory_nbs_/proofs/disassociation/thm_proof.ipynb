{
 "cells": [
  {
   "cell_type": "markdown",
   "metadata": {},
   "source": [
    "Proof of <a class=\"ProveItLink\" href=\"../../../../../_theory_nbs_/theory.ipynb\">proveit</a>.<a class=\"ProveItLink\" href=\"../../../../_theory_nbs_/theory.ipynb\">numbers</a>.<a class=\"ProveItLink\" href=\"../../theory.ipynb\">addition</a>.<a class=\"ProveItLink\" href=\"../../theorems.ipynb#disassociation\">disassociation</a> theorem\n",
    "========"
   ]
  },
  {
   "cell_type": "code",
   "execution_count": 1,
   "metadata": {},
   "outputs": [],
   "source": [
    "import proveit\n",
    "theory = proveit.Theory() # the theorem's theory"
   ]
  },
  {
   "cell_type": "code",
   "execution_count": 2,
   "metadata": {},
   "outputs": [
    {
     "data": {
      "text/html": [
       "Under these <a href=\"presumptions.txt\">presumptions</a>, we begin our proof of<br><strong id=\"disassociation\">disassociation:</strong> <a class=\"ProveItLink\" href=\"../../../__pv_it/theorems/31e223b6cfc3ab54f376c6c020b35e25ebe52e190/expr.ipynb\"><img src=\"data:image/png;base64,iVBORw0KGgoAAAANSUhEUgAAAycAAAAyBAMAAAC0dLkvAAAAMFBMVEX///8QEBCIiIhmZma6urrM\n",
       "zMxUVFQiIiJERETc3Nzu7u6qqqp2dnaYmJgyMjIAAAAcRTyBAAAAAXRSTlMAQObYZgAACl5JREFU\n",
       "eNrtXH+MXEUd/+6Ptz/e/mpIrZSKWe5sbVDSlUZAW9tVg0YT6J5GSvGPbi4QU624/mqCJXHFRK4i\n",
       "Zg0JbQHJK40tnMZdCoacIXRpE4illQ3GiLU/NtJiaHRtGmy8PUudmTf73sybeffmnY+7ezknubu5\n",
       "78z7zHvzmfnOzPd9dgHUUuTy5TbMRcqWYWGkffR5L19epHpJZGK3MSf3enSBcALxLvmj735UnZTK\n",
       "3NxqtLpQSIFT9K8270l52sqlOwFBzhxoIqinkgKl2iEhRV9sZZ8MChMBPfleXzfxg5qZSTQCugUp\n",
       "0OBZ5z0pqZKVfSsoTAz0hq8r8vQu9G5QY607jVeY96QctHYXuZJQeMDlokxxOisBmlLBsQoKLZo5\n",
       "pNSCwo0eklVLtsNByrftO24ERAoGivd9kbJhMDT2BEXKHun1k6EgJTdpZXdCQKRgoGzNFykvW36s\n",
       "HBAp+bL7EJzvpCTrVnYY75vWXn+VH1IeOnyNIVgxUH50uOWDlDeH1tCTXcnRQnZouR9SDg1VeCA+\n",
       "nTbCQMpme0A9iH4+2cifB7hdlZT4UvgnOuk4OhIDNc/pk6DVFUnR3zGayOedRTO3y2Olt8NPbRxP\n",
       "Una2Ut3oFcQFEKDf93CyNx3NYhhI+Yid3Y4652qI1eGLN6qSsqcDN6FnbPDW7eb+4YK2uqZISqYP\n",
       "BXQxmluZmmN9asPXbBxPUu6FRAu+Q6rWpLu8bhhIWWJn0SY+1ockeu7PAh1l3+z13hQuyfZ6f3t/\n",
       "r4cDAesN+JZoxaeBdaD/B+K16XCYglgXmnRjdF5oASgOY3XFwdsLvW8BieGLyRCQol3iSInUoVkZ\n",
       "kKIwU64E/V+idTE5psSnaGcqzBR0TNnQArYv7RYsUhRmSqRu1ZaTkr4UAlKik5z7QsP1IKiTgiZD\n",
       "5jzEV4Dovi7hUatMSqGDpoSOtwbxmrMFP6SQ6ZYtfaEK9iztcbN0SQhISTG3h9bnZgvuzjTUSZmC\n",
       "RHciWzDEhf5tvN6ok1LGqxmO4joXejSyM+qkIHKhlf/L5/s2kCPdHwJSIvaOGA4jjoq5bVlxpujv\n",
       "4FHYpRmmc+6DP1Xbjzzn6DIEBF+HH4JAioVj/rILEp1UCZ7KogEea/NYN4D+UYEUgmOD2TixKuyt\n",
       "FO4i2bb0gV+lpJDrTqqQkid7uc4sktJkdvOICn10+cMfkLivbXgfVKUZpsv2DW0aLSNqeCu+fO+H\n",
       "OyIpNk6yyrN1/TE8bdEl+QqPlT32msR9bePAmAaOnizCyEq8POXlY/x0xSTlFfzPORVSsgTNmM1j\n",
       "CuMP7DCL8kJv9mi/IoZZgFsLPA+PpvNB1+2XtaDsvkhaqS1igGQPjEjZhVf9ugoppNauWQ1HMsdu\n",
       "OyA58Ecw7nKZzg6cTLfNWy0g66zghsMXjDBxRL6FmszqhnOfViu6BCSpa0Ck4KGfbSmtKXg+vTKb\n",
       "pJxmJ/mOQezk+6N+MPStzkgmBUrfeLHoB2ilS8TdJ85bMFpxfQdQqJqk5I6Mj+9UW+hPjI8/VZtN\n",
       "Ulax/RnkS66ZJLQ2pYJ6yeUGVKjT3de/x8buVSOlMDZ2f3s2SXmV9Qdz+zo48bmrAP4c1IO5AUW6\n",
       "lJS7yISmYbuz6OeaogspiYrCWLm1q2ZTSetnc1fhQcpLjVloJVKjpHyaeDgatsOLS7JMq2xcW44u\n",
       "YUiJl+DXnriyoLQ8UO2ydfrJV6w14xuwwFJyESUlCVF+Pjfx+NSfX93J1I/Ax9nDYw2u88TNt9Rs\n",
       "sjUZtanfbmh//z8p2U6SLyHngNcnxiHzWgzaLCnHwHudLzTUbJKE28w9BvD8PHRfs0TKwH2lu7cB\n",
       "DduRoBsc1lZgT4U8yZc3FTlSHteq+Hx7t3gc3bvi7OD8M/RV8Uxk2w4NibdCbaTNm3+D7sha6BsL\n",
       "jBRroYcdd6LpQsJ2JOgG/3i2aZCQSqZy5I8cKamH0XKzv7LZgAQ/hvXvan0wIzYfNIadpcQGW8hQ\n",
       "KI8Ipdi2Djs5/M9xdmOySh6M+Hn4ez8jH26R6oCUZ9CcMcN2JOgGF1FX7DVJyVpLNCElg1/6rYaN\n",
       "oL3Id2yspCEQw9zOn3KWYhvN3QSaUIps8AzQNn/LigdPl6VLTz2YjvGnyPNb3SNtkfv+0oAU/KqT\n",
       "hu1w0E274gG08RobGytmKulOjSUFLqCfZYBcXZLv2EjL0vwuhhucpcRmpmUgXEtsWJhA2nz0S2yY\n",
       "RUpKPiin9sa7Wn36JN/GkjcuhJScYYXt8IocrY+kIWHOFLi5yJFyHNWchAfHnR3bbKSOGwdI3T7q\n",
       "ZGe3Y9tJ4ggnJaRg2z23lMw2Y0+gJqy1SHrM+4PoDNziHAemtU4pYVgFU+rI3jeYlTY3CEhaYbv0\n",
       "j3HQbZeRKm6MQhZzkCtDjltTSFqqvd3BHbvLQFfQX5HG5lvg2RKgf76Xq+NSu8y0pe+oYdsZiAml\n",
       "2Hb1Ix2zzfTaih2tK0jPN/cERAqvyPMkRUXAp06KLn2TRSKwFin61oa2DAfdRlr5RmI5wAN4b3wG\n",
       "oCqQ8pkPDRNSRlraUhhp4F+t+OiBT+ADP8K47SiZCyhnljWoDe2tUO6h664VSpEt/lfc/bhN+FXv\n",
       "R1ZTSWkAsBYQKbwiz5MUFQGfD3ngGWlcqQGON48ZsrLQc14U+XdnmIXdMRlWTRjk9scJBi3NsLhg\n",
       "RqJdS6PFcy2xTYjJ5AUkIMTJ7LxJ4VV8Az0Ep8jzJMVFwGfp65RIscV7h2X1yGmZI2UCB91c9moO\n",
       "UrRVa5iaNJe4ln7wApcyH8Ewc/gVgWtprHFCtqbn+rIIa2cgs1NXwZkqvmHeyivyPEkh1a1Xhqy+\n",
       "Tl0eSMR7ZmzxlKzelQIpHRx0y4EKKaTHJDnouOV2Pz5dqUvSpmSn3haV2amr4EwVH2zirbwiz5MU\n",
       "XN2e4qy+Tl0eiMV7NLb4nMwzXxBImf6s+T8KJ058bCZXLZHdSXkgs/OjgksWBSujyHPFYArWUUUR\n",
       "CPo6X/JAGluEzTLPHAYxHqx3IcWU2flRwTVFz88r8jxnCqkuQQZf8kCrtoyUVC0MpGwoS92XKbPz\n",
       "pYI7CPCpKm/lFXmepJDqT6wRkMGXPJDGFplr2AN9MQykJEvShd6U2fkghaj42n3eyivyPEkh1Uu3\n",
       "8hhEX6c+U4h4D8cW5Qv9KiMMpMi2XzgcR2R2YodaijyHCo6o+NK/dEiKeEWeK8agAFfXGy/xGDGs\n",
       "rxNIsRR9TnkgEe9dJF251nUJnfcfr3ufaMLdaMrshA61FHlONR1R8aWKfNfxijxXjEEBqU5Er+yc\n",
       "wPo6gRRb0eeQB2LxHoktmi/enfMpHB+vYz6IKgmz+FPBQfMXEqu6+7IDdQKyL3kgiS2CLnldSD+E\n",
       "PO9JyZemCUj6U8HBC1mJ1RuDK7A6jEP2JQ8ksUVpQPJpIxykpN8jWelpKMGvmm7f7yT4PjGidYnR\n",
       "nzzQjC1KQveh+XID2cE3qJdcM0mpYkBAO0RTohQWUmLiKXsOXwff+TMjoG2lJMT4OvgmZa6+WmoU\n",
       "5lHauuXdw57JV0vN1ZewxcqwMNI+c9DjL2H7L0KefZb0K9dlAAAAAElFTkSuQmCC\n",
       "\" style=\"display:inline;vertical-align:middle;\" /></a><br>(see <a class=\"ProveItLink\" href=\"../../../__pv_it/theorems/425f599f35edb55f38312e6fb50f51d6718d84dc0/dependencies.ipynb\">dependencies</a>)<br>"
      ],
      "text/plain": [
       "disassociation: forall_{i, j, k in Natural} [forall_{a_{1}, ..a_{_a}.., a_{i}, b_{1}, ..b_{_a}.., b_{j}, c_{1}, ..c_{_a}.., c_{k} in Complex} ((a_{1} + ..a_{_a}.. + a_{i} + (b_{1} + ..b_{_a}.. + b_{j}) + c_{1} + ..c_{_a}.. + c_{k}) =  \\\\ (a_{1} + ..a_{_a}.. + a_{i} + b_{1} + ..b_{_a}.. + b_{j} + c_{1} + ..c_{_a}.. + c_{k}))]"
      ]
     },
     "execution_count": 2,
     "metadata": {},
     "output_type": "execute_result"
    }
   ],
   "source": [
    "%proving disassociation"
   ]
  },
  {
   "cell_type": "code",
   "execution_count": null,
   "metadata": {},
   "outputs": [],
   "source": []
  }
 ],
 "metadata": {
  "kernelspec": {
   "display_name": "Python 3",
   "language": "python",
   "name": "python3"
  }
 },
 "nbformat": 4,
 "nbformat_minor": 0
}