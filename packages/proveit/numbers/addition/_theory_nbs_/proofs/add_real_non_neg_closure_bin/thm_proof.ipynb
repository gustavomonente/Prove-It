{
 "cells": [
  {
   "cell_type": "markdown",
   "metadata": {},
   "source": [
    "Proof of <a class=\"ProveItLink\" href=\"../../../../../_theory_nbs_/theory.ipynb\">proveit</a>.<a class=\"ProveItLink\" href=\"../../../../_theory_nbs_/theory.ipynb\">numbers</a>.<a class=\"ProveItLink\" href=\"../../theory.ipynb\">addition</a>.<a class=\"ProveItLink\" href=\"../../theorems.ipynb#add_real_non_neg_closure_bin\">add_real_non_neg_closure_bin</a> theorem\n",
    "========"
   ]
  },
  {
   "cell_type": "code",
   "execution_count": 1,
   "metadata": {},
   "outputs": [],
   "source": [
    "import proveit\n",
    "theory = proveit.Theory() # the theorem's theory"
   ]
  },
  {
   "cell_type": "code",
   "execution_count": 2,
   "metadata": {},
   "outputs": [
    {
     "data": {
      "text/html": [
       "Under these <a href=\"presumptions.txt\">presumptions</a>, we begin our proof of<br><strong id=\"add_real_non_neg_closure_bin\">add_real_non_neg_closure_bin:</strong> <a class=\"ProveItLink\" href=\"../../../__pv_it/theorems/76e439c3029efd823f7bef3e89ebae5deb2441e40/expr.ipynb\"><img src=\"data:image/png;base64,iVBORw0KGgoAAAANSUhEUgAAAOEAAAAcBAMAAABlkcWOAAAAMFBMVEX///8QEBCIiIhmZma6urrM\n",
       "zMxUVFQiIiJERETc3Nzu7u6qqqp2dnaYmJgyMjIAAAAcRTyBAAAAAXRSTlMAQObYZgAAA7BJREFU\n",
       "SMfFVm9IU1EUP3vbc9t1/z4EglBMLBGJGJqgYLII7EvRpCg/BA77Q2KGoTbIPgyy2ibGSDC/9UII\n",
       "EXOjIgkCR/ohdMWCCBGLpVk0YYgUpFZ07nvbfO9tc3OCXbj33Xfvufd37jm/c+4F2KnCvArsFJSq\n",
       "mf/MwfNcVp/KZVHfBdp2gJFjtryWted0yr5bAOQnKPyqLa83cLkZdqQb2FVQh+DNVleWY9WG0kzm\n",
       "ezeBjLBroDaDGlUO04GP2QFq17AZSjUzVIBNs3RMf9X193Ov0D8QwjMqzMBYAKbpQCQ7RB3Kw/eU\n",
       "UwtYR+U+IHa214MdUuqnfjRaQbsMMEB1d2aHqPCj5haJJc2xzjpVyCwV12gD4OxHwNfWGFcBugQy\n",
       "6PzZIT5AWbU3FaKK2puYhJ8ZhyMcR6w2AKmigFDMx2MV6jw1PHw/S+K8wyqVjSPq2mj7he83lInO\n",
       "WK0B1ibknCC1ThHWXy7XjSwRa3lV0Qs15YVSRENTMdppgnZJRGxVe510ixNoJkwI7jQIvHIjc4kg\n",
       "dGGl5DvsNSxLEX0RsgrwiXbzvCLE/HYZKRtxzyNAwokUGJVMf6D+9ZAEr74C73qyG5ROKeI4BysA\n",
       "YzyOiDkFjiWUcWHxxKmAPlUDsxHTE7HvWOm5efzU4YwJTPHZdqy7AJR8MKPzotFve6JRO29v8hsP\n",
       "QIXqo1hizJm0eGRm8yGiLqTeGFiijnhZEWJ0MEU3PVmmNUGnOOgQUeEEn016xgVQrccQB8TRcbBB\n",
       "TndE1IZPbwysUnK/GAZEnKUnZ3vEiLcFq/oCMC7j6h96cDjKB60YUfNYFqON1Mvu89gMlixSgJUS\n",
       "TkVJTBHxAs1vBViGwrj4JYE5Pj9ciSXROOIPeBiKMUdpFiGy9spkrsJTjCXSydIYZq4zFgMIiBUW\n",
       "0LdImVMkeFpj1l/TSc/YCjexreH7XaIsB9N5tqSQBiOuUlpYGsO4V3iQR1Re7AColEUHVRAtR5r2\n",
       "9e+VIg7upz5Y5PuPurlEJrdp7q5LEKv4GY5mTIZSTmFV2s8gl82M7t77FHnVmi7L8YW0Cd9jdxzh\n",
       "dElkPkFar2YWgY2cwp8nWDX/LEeCweCkWFwZkGdyIr6i5Zk8RSFrCe29jcdhgFNzM6CzCX6cSn56\n",
       "sTQy3Wm3G82cJ/WJZ4eq6ckhqPezlxGmh2aAt4HB2uQFLeluZL64MyOqpTwC4dJi0I+bnCLtq0Pv\n",
       "zYw4l/1DJSZh2d7TVX716zMvebY9RCUH/6H8A/vl83VhQk9QAAAAAElFTkSuQmCC\n",
       "\" style=\"display:inline;vertical-align:middle;\" /></a><br>(see <a class=\"ProveItLink\" href=\"../../../__pv_it/theorems/99f9af82903109e4b56d206b3b974c1e5081452c0/dependencies.ipynb\">dependencies</a>)<br>"
      ],
      "text/plain": [
       "add_real_non_neg_closure_bin: forall_{a, b in RealNonNeg} ((a + b) in RealNonNeg)"
      ]
     },
     "execution_count": 2,
     "metadata": {},
     "output_type": "execute_result"
    }
   ],
   "source": [
    "%proving add_real_non_neg_closure_bin"
   ]
  },
  {
   "cell_type": "code",
   "execution_count": null,
   "metadata": {},
   "outputs": [],
   "source": []
  }
 ],
 "metadata": {
  "kernelspec": {
   "display_name": "Python 3",
   "language": "python",
   "name": "python3"
  }
 },
 "nbformat": 4,
 "nbformat_minor": 0
}