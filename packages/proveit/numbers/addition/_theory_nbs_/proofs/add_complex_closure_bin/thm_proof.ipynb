{
 "cells": [
  {
   "cell_type": "markdown",
   "metadata": {},
   "source": [
    "Proof of <a class=\"ProveItLink\" href=\"../../../../../_theory_nbs_/theory.ipynb\">proveit</a>.<a class=\"ProveItLink\" href=\"../../../../_theory_nbs_/theory.ipynb\">numbers</a>.<a class=\"ProveItLink\" href=\"../../theory.ipynb\">addition</a>.<a class=\"ProveItLink\" href=\"../../theorems.ipynb#add_complex_closure_bin\">add_complex_closure_bin</a> theorem\n",
    "========"
   ]
  },
  {
   "cell_type": "code",
   "execution_count": 1,
   "metadata": {},
   "outputs": [],
   "source": [
    "import proveit\n",
    "theory = proveit.Theory() # the theorem's theory"
   ]
  },
  {
   "cell_type": "code",
   "execution_count": 2,
   "metadata": {},
   "outputs": [
    {
     "data": {
      "text/html": [
       "Under these <a href=\"presumptions.txt\">presumptions</a>, we begin our proof of<br><strong id=\"add_complex_closure_bin\">add_complex_closure_bin:</strong> <a class=\"ProveItLink\" href=\"../../../__pv_it/theorems/0e41a4fe54ba45da984a9cde0fa4ffe2b5dd8fdb0/expr.ipynb\"><img src=\"data:image/png;base64,iVBORw0KGgoAAAANSUhEUgAAALYAAAAVBAMAAAAZVgl3AAAAMFBMVEX///8QEBCIiIhmZma6urrM\n",
       "zMxUVFQiIiJERETc3Nzu7u6qqqp2dnaYmJgyMjIAAAAcRTyBAAAAAXRSTlMAQObYZgAAAtFJREFU\n",
       "OMutVU1oE0EU/pLN5meTTTx4EsSgtQcPstSjtVZFelGaItUehJaiiCBSEa2oSATRBCvsyRb0sFpQ\n",
       "idIsFZFKwdIeBEUJiNAWtHvQglUW9aQVxTe7k02m26QKPng7b97MfvP+5g2wMsVKLi9LYzX0cR2w\n",
       "mPC2LvY9zktJudgHhHWffvOFr2c0HAVesNlCXeyPnH2U1OgAa6m28yeGf2kYAYaY09l60KrmcoVG\n",
       "+Zgy6TO5dHs4DcxpSKSRNICEWQ87orvsx26nf3GLT6b7+x0X3gRIG9agrIL6vFAYrBuSQc5+7GdO\n",
       "YFoduWsTV2osEgrZ/h74nsudr4u9gXOsuWmNiD2/fis57YRLKadM6dnHpSngMJAvw4TsZbCvcd6h\n",
       "J78I2Mpvo6hDdSLhlUtsYieX3gG7qlM95ZXnwJFeLp5zWVkLKStgxxeRSiPex+Sodxm0MvZjShOC\n",
       "lXvxiZkzvqWkdBnyZ65b7bK0iAhFEa9s+4Rtz5MkWShOQHac6bCJmI1K9iD/r5viVYpU/P/BEj5W\n",
       "gHoTGBexA1kUM4LdVN7tJsce8iAWwhXsmLWfhOHGD/SVvzUaIZab3Y9oQYwJmfhUrJNUCdsNhJyY\n",
       "BDzs1w421WEbDflD5MkpeZHE4NmglmRLszO+XBZNHI/rAnYr5YDnUkqXt0cbSAxZTi7xkA6WNJkd\n",
       "H02r1jDb8KSqBU25TGunE4Ld4VKUfJQmPO9cahkw7ufI7mZ2PJ0TMIM9zLNWqedALpdL3+isYLe5\n",
       "rPRuvN4g1mDTSxZ1Nwl3Lhl8v9yy7iTTsSCrpCzq0VkaUkbAdMIl3aZfV7zzDt3l454r/ULbUvq4\n",
       "ENC792LIiBjTSGScO5jxmpC/VxWqJ5M1rnOinIFQ7+g2dJjyMQreVaZ4YF/OlHflUXV1fU3cqrEw\n",
       "Ik7ddhikeP/V2+CWhV5jIe97hv75TZup1fVFMBX/l/4Ai/3AHpQ7Oh4AAAAASUVORK5CYII=\n",
       "\" style=\"display:inline;vertical-align:middle;\" /></a><br>(see <a class=\"ProveItLink\" href=\"../../../__pv_it/theorems/6a1a687fa3e953e33a1038481b8b57d3021769760/dependencies.ipynb\">dependencies</a>)<br>"
      ],
      "text/plain": [
       "add_complex_closure_bin: forall_{a, b in Complex} ((a + b) in Complex)"
      ]
     },
     "execution_count": 2,
     "metadata": {},
     "output_type": "execute_result"
    }
   ],
   "source": [
    "%proving add_complex_closure_bin"
   ]
  },
  {
   "cell_type": "code",
   "execution_count": null,
   "metadata": {},
   "outputs": [],
   "source": []
  }
 ],
 "metadata": {
  "kernelspec": {
   "display_name": "Python 3",
   "language": "python",
   "name": "python3"
  }
 },
 "nbformat": 4,
 "nbformat_minor": 0
}