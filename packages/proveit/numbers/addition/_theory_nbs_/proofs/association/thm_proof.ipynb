{
 "cells": [
  {
   "cell_type": "markdown",
   "metadata": {},
   "source": [
    "Proof of <a class=\"ProveItLink\" href=\"../../../../../_theory_nbs_/theory.ipynb\">proveit</a>.<a class=\"ProveItLink\" href=\"../../../../_theory_nbs_/theory.ipynb\">numbers</a>.<a class=\"ProveItLink\" href=\"../../theory.ipynb\">addition</a>.<a class=\"ProveItLink\" href=\"../../theorems.ipynb#association\">association</a> theorem\n",
    "========"
   ]
  },
  {
   "cell_type": "code",
   "execution_count": 1,
   "metadata": {},
   "outputs": [],
   "source": [
    "import proveit\n",
    "theory = proveit.Theory() # the theorem's theory"
   ]
  },
  {
   "cell_type": "code",
   "execution_count": 2,
   "metadata": {},
   "outputs": [
    {
     "data": {
      "text/html": [
       "Under these <a href=\"presumptions.txt\">presumptions</a>, we begin our proof of<br><strong id=\"association\">association:</strong> <a class=\"ProveItLink\" href=\"../../../__pv_it/theorems/5cab72fac70391821c788f69cd8281303f63960e0/expr.ipynb\"><img src=\"data:image/png;base64,iVBORw0KGgoAAAANSUhEUgAAAxcAAAAyBAMAAADchzsXAAAAMFBMVEX///8QEBCIiIhmZma6urrM\n",
       "zMxUVFQiIiJERETc3Nzu7u6qqqp2dnaYmJgyMjIAAAAcRTyBAAAAAXRSTlMAQObYZgAACidJREFU\n",
       "eNrlXH+MFFcd/97uze7t7OweaSoVsM32TpBUG9YS2yonrJpqNCnsaSxF/2BztjEo1q0/MLUkrpjY\n",
       "w7ZmTJMCrbZDiYWeprvSGnKmkZNL2khBN22MikA3AjUlel5oS3qLLb7vm5k37+28Zd/QuR8DL+F4\n",
       "9/1+3+fNfD/zfn3nOwegVrrOnx+D2ShGAS7popec+zx/fp5qm67RHdasXOwhuMTLaoeUHY+qk1Gc\n",
       "nUuNlS51MjINp6LNeTJ+w2qpevQdPyoTPhAVMvQrWXVPSIg/LE+jeYeSMCXCnYWIkNGTZ9XXQoLM\n",
       "5qfTvAO1DYkwPS8iZOxnu4aM3yl72zRK5y4k7a2pYDCFYH5hZIULPCAz2xwRMr7NakkzJDLWWIHI\n",
       "EMzfNRk7pU+cGQkyMlOsug1CIuMFCETGCxAmGVnZqSmZjwQZyQqr9uOGauCGhUHIeGj8WssnfbVv\n",
       "RRAyBHOGbPQtDkLGgT7HfYZsBco0I0HGeu9BepD8+4SZnQS4XZWM7gXwX3JSyQtS/R2ranbGcBW2\n",
       "OZwSkVP3wk9Bq6iSsa3W04hd4R0q/jSB5QRb1s9EgowPe9V7yUVfDfEKfOEmVTJ21uFmco+mIE03\n",
       "oTfXGcNVUHOAmoicHIOva8vLqmRshkQNvkNNpRvliUiQMd+rkgNHvAlJct+fAefpunti4lVfE2Ni\n",
       "4l/XTEzgwX2VBd/ySeMNqI51wOAUtrkEmQy8cou0LQZOQzqdi7RJ2W0uMyNAhva2QEZXBapFlwyF\n",
       "kfFe0N/0Scm5YU2tM4arsM39yIwMhZHRVWHWcjIer0eAjNiUME2RR3Q/qJOh/w/Sk9C9RJT21vG5\n",
       "ViaDmuv9tVbkIGTQoWXkP19y29hrhjciu0oRIKOHuzyygFdrcFfaVCfjHCQao0avJZJRIEtPADLQ\n",
       "PN7dEN1ORmxanQxCKNSy//hck4sKivdZjgAZXd7OFsbJNecymwy/I/V38OlrOBXOOVvgr6WxR/aJ\n",
       "LkvUMcTSEcNVUPOnjJKIfCPoH/GRQZsyIA4jXoJdxd47aXVMdp/GpEMGbXdMhYws3ZvNZOy0yu3K\n",
       "ifv0ocUPv1/yVG/C/U3JqXAue7Jv3VCBUCK67IbDoIDBWKLmPXUR2Tj8kmSa2iQAceCHjuVgcClO\n",
       "dVnpM5150yHjRfz/tAoZBkWzZvKYwY1/LxyivIDb3mwWJVLlacqZaEwJhvI0RctSbR4B2S3fqJxx\n",
       "yNiOZ5iKChnUavuMhgm5IJ0XKHTnHRhp00wXwkmNMYm0I4aoGJQil2XSdhhbtHKuTaAQ9NcdMvBR\n",
       "N2pKawaOnxdnkoxX+EG91Y1x/GAoCIa+UfIOISAGLJXIUjedzQWAeA2GivIQOilnHTIyB0dGtqkt\n",
       "4EdHRp4qzyQZy3g/7oHZK1vC2h6acvlb7m7qreHhzWpk9A4P3zc2kz74Mz/+Z++1a+KzC0NC+nsb\n",
       "+TUuGXfSGcAJp2FA7NpcGzISxbbUemV1Q02mUlZZMBdK4nlzmnu4yiXjU3Qmc8JpuHgkC47J2oFC\n",
       "bD5HRncenu6IKwsSGwFeXaYf+Cqbz78Jl0m52yUjCTFxAqji86g/t7yerhyEj/GHvjJc3xE3W1OT\n",
       "ydZa0qd+u6X9+/Ilw6gnRQ3dg/9tdATSL8VhjCfjMHRev3tNNZmkYJ+ZnwM8N8emqekv33PJSDVu\n",
       "AyecZgfExrUlOCORGePL63ICGY9pJTyT3uU/Ru5acso9qPV9zX9482QH+vyX4shon7f8llwRW8DN\n",
       "y4QMtoDD1jvI8KDhNDsg9p9nqxYNfaSLB/8ikNHzMFlOdhfXW5AQn1n9u1oT7MjKB6z+Vi2VwQZ6\n",
       "ji4M+rQoW4mTGf5yhN9wLBNZ/0VY937RQOmwno4WoPmMjGfI3GOH0+yA2Fnigl02GQZbeikZaXxB\n",
       "thzWgvYH0aHxvEZALHtLfrxVizKndjNoPi2RwTPg9Pk7PunulYLAeCUkTxCgPVcFasHMN4T1PIhA\n",
       "rzMy8LWic6zBgJh2xf1kIzU8PJxLF1P1Mk8GYAxlEZApLSk6tKvGcmKvhBtbtVRml0Xga0tl+NKf\n",
       "9vnoF/lwiEBGNqzHEoFOBGvimj8dFhkCkP1+hJKRsVg4DVfaWGUwBQl7ZMAtOYGMI8RyCh4caXVo\n",
       "1ew5Yu2ltk3i3FZ3o+wYnfCmJGSg7J5b83af8SdIF2ytEbZ5L/sHu0qEzi9FoHNKOEzhmhs5pR46\n",
       "X6jBS1igkIXTUj/BgNh2qye3NgYG+j5TgIywZtCyQHujjg7dbpEWzo8uc/2t8GweyC/fz1RQ6+ls\n",
       "WepLZZSdhLhPi7KrH6nbfaYGil40rVc4n9wTFhkEqLsZiAxmrs8LiQydf5OUPieQoW80tUUYEBus\n",
       "Zc3EYoD7cY97EqDkI+PTH+ynZAzWtAUwaOKPWvfQ3o/jAZ1g3HaIPvukZutMR0b2SqT20PXX+bRE\n",
       "1v1PdDv2Cb+e+DHrKsmf3FPlkMhAIKMciAzP/GRIZDAgCj8lkEFb0JXDOZ/FyPzdGg7hd0AWswS3\n",
       "trubYjjaNI8LdmS4rTaWO13z9wlx/vU9DdgIaWmdyRCz3vZ6QNmh/loAMjzz8Va3s/w0JTK85Ldx\n",
       "Pt4y6SNjFANi7TZvIhnashWcpVNLXOd8gIBa7lMEu4ah+rbauHm0IOk0w08muLmw09LUs8fsrLd+\n",
       "UYpA1dNk7euM4yqoOX1Nd7ylB8xPU0+ro8lvduzvOO/cio+MOgbEMqBCBvWUpAb1drUdj11I26Zo\n",
       "/DKbrDlpaerZY3bWG6wTpQi034IzCjiuAs3tQbyvxe2Yn6aeVofJb07sbx+nfjznI+OC5d0mJBz9\n",
       "6MW0ms9fQcFNSwuSPZbM+aQItBK3kx1wOMVKZ/dJNni+HiBYWp0T+7OB3MNtFJLYYFULGXZaWpDs\n",
       "sap/RkegE9B9TgHHVVBz4H3I56cFSatj1jwZ90EUyFhTEKYpOy0tUPbYfoBPlvzT1Nv4TKuTQc2f\n",
       "WMH5nc9PC5JW58T+uDbOWToCnwTkhQXcTksLQAbNehtr+hfwN3D5USeDmudXg28Bp/lp6iODJr9h\n",
       "7E9YwGPR+CSA305hmIympalnj9Gst9SvyqKrEOgb8CPJCGNZbC6Oq0Bz3Xye1AZErDjmp/nIoM1l\n",
       "aXU0+e0sdeUA59tSJMiA93lVdJ2dlqacPWZnvfW0hDCw+a4P1SVksCw2F8dVUHP6icipljGA+Wk+\n",
       "MmhzWVodJr/R2J8HBJH5jIz7wJILhwTLHoPqL/3hEEUcUUGOGnpZ1kOgtDoa+/OAvCjknCeD//CX\n",
       "BQqDZY/B740W6cvKOIKCvhbNyXoIlFZHY398oDC9MCJkpN7D3YVz5A+YPQZP/rFF4AAFxYlV2oTQ\n",
       "g6XE2bE/DigyH+XzB9UwXy5dTMG1Z2tY98UBfQWiQkacOxnP7mvXO35mQSas91scUKYSnIzZ+hNH\n",
       "QzBHysYN04N7MX/iaLb++Fe8AJd00Z3EGfzjX/8HH0x12rxZj7kAAAAASUVORK5CYII=\n",
       "\" style=\"display:inline;vertical-align:middle;\" /></a><br>(see <a class=\"ProveItLink\" href=\"../../../__pv_it/theorems/531fe67dbb177d38d1caf99b803b69b853557cd80/dependencies.ipynb\">dependencies</a>)<br>"
      ],
      "text/plain": [
       "association: forall_{i, j, k in Natural} [forall_{a_{1}, ..a_{_a}.., a_{i}, b_{1}, ..b_{_a}.., b_{j}, c_{1}, ..c_{_a}.., c_{k} in Complex} ((a_{1} + ..a_{_a}.. + a_{i} + b_{1} + ..b_{_a}.. + b_{j} + c_{1} + ..c_{_a}.. + c_{k}) =  \\\\ (a_{1} + ..a_{_a}.. + a_{i} + (b_{1} + ..b_{_a}.. + b_{j}) + c_{1} + ..c_{_a}.. + c_{k}))]"
      ]
     },
     "execution_count": 2,
     "metadata": {},
     "output_type": "execute_result"
    }
   ],
   "source": [
    "%proving association"
   ]
  },
  {
   "cell_type": "code",
   "execution_count": null,
   "metadata": {},
   "outputs": [],
   "source": []
  }
 ],
 "metadata": {
  "kernelspec": {
   "display_name": "Python 3",
   "language": "python",
   "name": "python3"
  }
 },
 "nbformat": 4,
 "nbformat_minor": 0
}