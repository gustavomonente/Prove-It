{
 "cells": [
  {
   "cell_type": "markdown",
   "metadata": {},
   "source": [
    "Proof of <a class=\"ProveItLink\" href=\"../../../../../_theory_nbs_/theory.ipynb\">proveit</a>.<a class=\"ProveItLink\" href=\"../../../../_theory_nbs_/theory.ipynb\">numbers</a>.<a class=\"ProveItLink\" href=\"../../theory.ipynb\">addition</a>.<a class=\"ProveItLink\" href=\"../../theorems.ipynb#association\">association</a> theorem\n",
    "========"
   ]
  },
  {
   "cell_type": "code",
   "execution_count": 1,
   "metadata": {},
   "outputs": [],
   "source": [
    "import proveit\n",
    "theory = proveit.Theory() # the theorem's theory"
   ]
  },
  {
   "cell_type": "code",
   "execution_count": 2,
   "metadata": {},
   "outputs": [
    {
     "data": {
      "text/html": [
       "Under these <a href=\"presumptions.txt\">presumptions</a>, we begin our proof of<br><strong id=\"association\">association:</strong> <a class=\"ProveItLink\" href=\"../../../__pv_it/theorems/c482dee6d08cd17d50bc34533dcb159daccf0d4a0/expr.ipynb\"><img src=\"data:image/png;base64,iVBORw0KGgoAAAANSUhEUgAAAysAAAAyBAMAAACuSFmhAAAAMFBMVEX///8QEBCIiIhmZma6urrM\n",
       "zMxUVFQiIiJERETc3Nzu7u6qqqp2dnaYmJgyMjIAAAAcRTyBAAAAAXRSTlMAQObYZgAACVtJREFU\n",
       "eNrtXH2MG8UVf7Zv/bH+ihDlK6Vy75oQQVFcogItKXFbUQQSxFcE4eOPs05FCCjUiDZSAKluKpWj\n",
       "lGolJJJAQUsjknCt8BJAKAiBSSQQIQELVAlCPiwIqYjaE4oQ6l0a0pnZ2fXOzK49u7e58+o60p1n\n",
       "58282X2/mTczb382gFyKnTzZgvlIuQoslLSFPvHJk4tkm8R2bNLn5V73LBhUYKhDPtRNT8jDUp2f\n",
       "W43XFg4scJB+KgMPy/PsZaYdfePv8JSkWxGBRT2dvd4Wkt5tZ/q6i9/VQ3ympNbvaQcelnSZvf48\n",
       "LMWf+qpdKIc51Dr9fMPAw/I6u8/Ii+bZ7tXUVZAt0cxx11IvHUWjb+2+Orppp+fjplrRgOVe7ra1\n",
       "kGAZmvFl0tV6mLA87fm42elIwJKfZq83QEiw5Oq+TPoWhAlLodJnGA46LKkGez2CN2MrLzrHDyxM\n",
       "fct4hfERw4dJjwxf5lI7N7zEDyw7h6kNc94r1SE9CrCMcePqEfT3Y63wBcCN0rCY9UdY4zWPqtOg\n",
       "NCRNqn6tN5H7/Iytnbkf/iyvAzYY6U78NOIDyJr/7hRO3NajWYoCLN/jru9HJjoXEg247hJZWMz6\n",
       "cBNrPLSVOKasqEuaNDsDRVTFYGuj9flOeR3wACQN+DWp6r3dLnSiAMsZ3DXa1ydmIIUscCXQEXfP\n",
       "1NQRsWFXQOsT5zE19c9vTU3huMHloP4XhupcqaeODjRbgo5V2OHI68CbDJXsNJQvvIMa0xGARTkh\n",
       "whJrQLNqwSIxW2h9bkx/CkPHqUklRjo6tqw2BB1ngQ2LhI5Yw67dA5bMiQjAEp8WnRgatq+DD1jM\n",
       "+j+pscY7gUevtEmLbTQ11BHWiaHp5gcWMt1y5Z/XrDbm2nLEzT8MOCxp/vbQkt804O6s5gMWUr81\n",
       "wxrvS3i67QOWCl6haIDXAS1kfUELRuHjq2esJd89PRgBWGLc/hh2IahK+bU5cbaoX2MIOjTjEJD6\n",
       "mb/VWePdBb8XRzppaity6Ei202V4NsfNuItB/b4Ii30PnI5EDTZXi7eSbMv7kd+jsJDGB2RgKZDN\n",
       "3VyGcJv8Bh+BoY4veew7Lk5sLd4b1WjGiRepny6xxtv83baLA1rLKHLouGgvBrjNHUn3vu+iw74H\n",
       "TgfsOVCC0WXYERZ6DPFDVROWd/DFURlYckSlPpfHFt4xdIMv0k6MAvyMi6uRdkDUDWmz1rFMWYSU\n",
       "bO33yAiWjXj9b8jAQmptnNNApcEHY+zp87KVmfRqzAhey9FxzwS3LJOquoyOUZi1jvVKvdQrVEkd\n",
       "BIIFD/+cIbW24Dn1zlzCckiY7Q/Rz0d/O+5L05a3XTajl3xV8qNjGcxax+cwXu0V2EdTsmbCkt89\n",
       "OblBbsnfPzn5bH0uYVkuBIy3wfyl9WHtL7VesDToTuw/ExMPyMFSnJh4sDWXhnhPcAzz99I4edU5\n",
       "IWn6qKedOxSWW4lriJteG0fjvl3ygCVZ7Y00Sdd25Mpk0iodBiYl39TmoptYncLyU+LsFLNTvMik\n",
       "KrTKmpWV+BkOWIbK8FxfvW5R65yPd67ZP91mLxu/ggWXUosoLCmIs56hiceo+uqKdraxG37oPE7W\n",
       "4cK+eguGXJlLwn2qN+rKv/4PCxrK7ZRwZgP4cMckZN9PQMsJy17ov+IXNbkyl4T7zP8F4NVBdGJz\n",
       "BYvlxDKdG5B/WkqGK4nG7VKWYn+F/MktN5UYWJ5SavjIe7d4St289DPrPDR8h3hG6pbtHBZvhZaR\n",
       "Pq94Cd2RveRrCw4We8mHh36BpkwRD0wzGvfvF5s6CbRkq7v/wcCSfgwtO1urYzok2XGs/kaZATOO\n",
       "c54+wktJGdxOBkNlVJDissuxq8MX+5z7lOXVU7cTezJow2xYY8VVUaxmwfICmjePk1OzGY37Chlj\n",
       "swlLzl6sCSxZ/E5wBawB5Q3WtImygpTo5u7+IC/FZTR3KSiCFJXBC0D7fMXJOTxUOWXnFrURmMJ3\n",
       "e1j34KaoWLZgwe9D6VkJR+OU0x5Gm7CJiYlStppp152wwDH0txiQw0uxpo0ZNlf4dLiYl5IyMy0G\n",
       "oS0pwwwG0ucT1zuDLxXxmBxSKmiBKXzPhXUPborIaxkCS17HbzOr1tocb4xmIGnOFriixMCyD9Wc\n",
       "hkcmedM2tfQ+fTupO4PMzBselx0g7nDaBRZctu6astln4q+oC3tNanvGxOwUkL73AQSm8OVKvVp4\n",
       "6hEFOZeqVqiStum0Mn/E0biNerq0Jg45jEK+AnlmbSHpbOXLNjbtRh21oP9i2tg18GIZ0MV9+QaW\n",
       "dmVmWebmOi47DAlBisvOfbxt9plZWe2G8oo8CqHR92BdcAqfuigkWFSXt10kOmvDov5SUxbjaNyo\n",
       "UdCSSwAexjvlwwA1AZafXTBCYBk1lLNhVMP/jKHx7T/CQQCk44Y9ZD6gnCnTaBnaZ6HcoxeeL0hR\n",
       "2dAnGADcJ/x96g92Vyk+OhAafS9TnwWF73BIsFiKmHiTBtzbySxZYehUjSM/zwdfnMNWt2uClds6\n",
       "RHRQadapF8wotac0XjpqiH1CgucihEbfw7GmwBS+XVwLORqfLbBpfJYiZyInaAaWHTga57X9Y2FR\n",
       "ll/mqElzyfPpdzew1PEtDjOHXyB4ShPa/opLp/kZriA0+h7e2wSm8B3kZp4cjc8SdGl89v7Ukc4S\n",
       "YGnjaFweZGAhNnPJQdsrt+mpXlKPpBznCkKj76WMWVD4XuZ0ydH4LEGXxtd9l9c9lx0TYOl9+pwl\n",
       "xWL/D4K0OmX0vVhlFhS+MfBN4+sKHDQ+oohNkaDvwSoRlnDoexiWwBS+MbaFJI2PChw0PhdY0vUo\n",
       "wLK6IjixcOh72IkFpvBdybSQpfFRgYPG132I7iG/FAVYUmVhyQ+HvoeX/MAUPm7Jl6TxUYGDxuey\n",
       "5C/XowALvxULjb6HY32BKXwrWV2SND4qSHRpfJYiYTEd+C/pfZO9DI2+h60YmMLHfc9FksZnCbo0\n",
       "PkuRY0ZF40t6/Fdaw6PvrYMuPnLHSbCChmrdpYW0EyPJpPGpdY9w6MDDwn3zOjz63geWsfxT+KwI\n",
       "o08an1Ng0vjEUOXzejRgyXyDvQ6NvkcpPEEofG7x+CA0PlFRZH4ugT8Ih/kaLEha7xgas06ComQ5\n",
       "KrAk2BPz/L40JhS+fFgvjUVFH4JvWObrh6vGYXDSKabwBfnhqvn6mbdEBRZK2mIOfPwzb/8DhWlo\n",
       "q0UpjHwAAAAASUVORK5CYII=\n",
       "\" style=\"display:inline;vertical-align:middle;\" /></a><br>(see <a class=\"ProveItLink\" href=\"../../../__pv_it/theorems/645c25c87b196514652906fe7bccb63e1b087e5e0/dependencies.ipynb\">dependencies</a>)<br>"
      ],
      "text/plain": [
       "association: forall_{i, j, k in Natural} [forall_{a_{1}, ..a_{_a}.., a_{i}, b_{1}, ..b_{_a}.., b_{j}, c_{1}, ..c_{_a}.., c_{k} in Complex} ((a_{1} + ..a_{_a}.. + a_{i} + b_{1} + ..b_{_a}.. + b_{j} + c_{1} + ..c_{_a}.. + c_{k}) =  \\\\ (a_{1} + ..a_{_a}.. + a_{i} + (b_{1} + ..b_{_a}.. + b_{j}) + c_{1} + ..c_{_a}.. + c_{k}))]"
      ]
     },
     "execution_count": 2,
     "metadata": {},
     "output_type": "execute_result"
    }
   ],
   "source": [
    "%proving association"
   ]
  },
  {
   "cell_type": "code",
   "execution_count": null,
   "metadata": {},
   "outputs": [],
   "source": []
  }
 ],
 "metadata": {
  "kernelspec": {
   "display_name": "Python 3",
   "language": "python",
   "name": "python3"
  }
 },
 "nbformat": 4,
 "nbformat_minor": 0
}