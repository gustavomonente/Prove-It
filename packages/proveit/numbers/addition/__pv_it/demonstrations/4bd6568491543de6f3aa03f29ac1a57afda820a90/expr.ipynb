{
 "cells": [
  {
   "cell_type": "markdown",
   "metadata": {},
   "source": [
    "Expression of type <a class=\"ProveItLink\" href=\"../../../../../../../doc/html/api/proveit.ExprTuple.html\">ExprTuple</a>\n",
    "=======================\n",
    "# from the theory of <a class=\"ProveItLink\" href=\"../../../_theory_nbs_/theory.ipynb\">proveit.numbers.addition</a>"
   ]
  },
  {
   "cell_type": "code",
   "execution_count": 1,
   "metadata": {},
   "outputs": [],
   "source": [
    "import proveit\n",
    "# Automation is not needed when building an expression:\n",
    "proveit.defaults.automation = False # This will speed things up.\n",
    "proveit.defaults.inline_pngs = False # Makes files smaller.\n",
    "%load_expr # Load the stored expression as 'stored_expr'\n",
    "# import Expression classes needed to build the expression\n",
    "from proveit import ExprTuple, a, b, c\n",
    "from proveit.numbers import Add, Mult, five, three"
   ]
  },
  {
   "cell_type": "code",
   "execution_count": 2,
   "metadata": {},
   "outputs": [
    {
     "data": {
      "text/html": [
       "<strong id=\"expr\">expr:</strong> <a class=\"ProveItLink\" href=\"expr.ipynb\"><img src=\"expr.png\" style=\"display:inline;vertical-align:middle;\" /></a><br>"
      ],
      "text/plain": [
       "expr: ((5 * a) + (3 * b) + (c + c + c), (5 * a) + (3 * b) + (3 * c))"
      ]
     },
     "execution_count": 2,
     "metadata": {},
     "output_type": "execute_result"
    }
   ],
   "source": [
    "# build up the expression from sub-expressions\n",
    "sub_expr1 = Mult(five, a)\n",
    "sub_expr2 = Mult(three, b)\n",
    "expr = ExprTuple(Add(sub_expr1, sub_expr2, Add(c, c, c)), Add(sub_expr1, sub_expr2, Mult(three, c)))"
   ]
  },
  {
   "cell_type": "code",
   "execution_count": 3,
   "metadata": {},
   "outputs": [
    {
     "name": "stdout",
     "output_type": "stream",
     "text": [
      "Passed sanity check: expr matches stored_expr\n"
     ]
    }
   ],
   "source": [
    "# check that the built expression is the same as the stored expression\n",
    "assert expr == stored_expr\n",
    "assert expr._style_id == stored_expr._style_id\n",
    "print(\"Passed sanity check: expr matches stored_expr\")"
   ]
  },
  {
   "cell_type": "code",
   "execution_count": 4,
   "metadata": {},
   "outputs": [
    {
     "name": "stdout",
     "output_type": "stream",
     "text": [
      "\\left(\\left(5 \\cdot a\\right) + \\left(3 \\cdot b\\right) + \\left(c + c + c\\right), \\left(5 \\cdot a\\right) + \\left(3 \\cdot b\\right) + \\left(3 \\cdot c\\right)\\right)\n"
     ]
    }
   ],
   "source": [
    "# Show the LaTeX representation of the expression for convenience if you need it.\n",
    "print(expr.latex())"
   ]
  },
  {
   "cell_type": "code",
   "execution_count": 5,
   "metadata": {},
   "outputs": [
    {
     "data": {
      "text/html": [
       "<table>\n",
       "<tr><th>name</th><th>description</th><th>default</th><th>current value</th><th>related methods</th></tr><tr><td>wrap_positions</td><td>position(s) at which wrapping is to occur; 'n' is after the nth comma.</td><td>()</td><td>()</td><td>('with_wrapping_at',)</td></tr>\n",
       "<tr><td>justification</td><td>if any wrap positions are set, justify to the 'left', 'center', or 'right'</td><td>left</td><td>left</td><td>('with_justification',)</td></tr>\n",
       "</table>\n"
      ],
      "text/plain": [
       "style name: wrap_positions\n",
       "description: position(s) at which wrapping is to occur; 'n' is after the nth comma.\n",
       "default: ()\n",
       "current value: ()\n",
       "related methods: ('with_wrapping_at',)\n",
       "style name: justification\n",
       "description: if any wrap positions are set, justify to the 'left', 'center', or 'right'\n",
       "default: left\n",
       "current value: left\n",
       "related methods: ('with_justification',)"
      ]
     },
     "execution_count": 5,
     "metadata": {},
     "output_type": "execute_result"
    }
   ],
   "source": [
    "expr.style_options()"
   ]
  },
  {
   "cell_type": "code",
   "execution_count": 6,
   "metadata": {},
   "outputs": [
    {
     "data": {
      "text/html": [
       "<table><tr><th>&nbsp;</th><th>core type</th><th>sub-expressions</th><th>expression</th></tr>\n",
       "<tr><td>0</td><td>ExprTuple</td><td>1, 2</td><td><a class=\"ProveItLink\" href=\"expr.ipynb\"><img src=\"expr.png\" style=\"display:inline;vertical-align:middle;\" /></a></td></tr>\n",
       "<tr><td>1</td><td>Operation</td><td>operator:&nbsp;9<br>operands:&nbsp;3<br></td><td><a class=\"ProveItLink\" href=\"../8cae7758fea0f56bb4ed89e4ada4e219ca0b11950/expr.ipynb\"><img src=\"../8cae7758fea0f56bb4ed89e4ada4e219ca0b11950/expr.png\" style=\"display:inline;vertical-align:middle;\" /></a></td></tr>\n",
       "<tr><td>2</td><td>Operation</td><td>operator:&nbsp;9<br>operands:&nbsp;4<br></td><td><a class=\"ProveItLink\" href=\"../0de1acd46ca5249fa1b67264a37ec55b59dde6b30/expr.ipynb\"><img src=\"../0de1acd46ca5249fa1b67264a37ec55b59dde6b30/expr.png\" style=\"display:inline;vertical-align:middle;\" /></a></td></tr>\n",
       "<tr><td>3</td><td>ExprTuple</td><td>6, 7, 5</td><td><a class=\"ProveItLink\" href=\"../83127fee35df7ab4b46536a19c97c6cd31af8b320/expr.ipynb\"><img src=\"../83127fee35df7ab4b46536a19c97c6cd31af8b320/expr.png\" style=\"display:inline;vertical-align:middle;\" /></a></td></tr>\n",
       "<tr><td>4</td><td>ExprTuple</td><td>6, 7, 8</td><td><a class=\"ProveItLink\" href=\"../af5f12988ff7abebc3da873e9f6b6d29c4dffa540/expr.ipynb\"><img src=\"../af5f12988ff7abebc3da873e9f6b6d29c4dffa540/expr.png\" style=\"display:inline;vertical-align:middle;\" /></a></td></tr>\n",
       "<tr><td>5</td><td>Operation</td><td>operator:&nbsp;9<br>operands:&nbsp;10<br></td><td><a class=\"ProveItLink\" href=\"../aa3e697cebfbefadd86e71ca4c4624bb5db555750/expr.ipynb\"><img src=\"../aa3e697cebfbefadd86e71ca4c4624bb5db555750/expr.png\" style=\"display:inline;vertical-align:middle;\" /></a></td></tr>\n",
       "<tr><td>6</td><td>Operation</td><td>operator:&nbsp;13<br>operands:&nbsp;11<br></td><td><a class=\"ProveItLink\" href=\"../d7b21928b843cde331267502b65ab58fc1f8ba7f0/expr.ipynb\"><img src=\"../d7b21928b843cde331267502b65ab58fc1f8ba7f0/expr.png\" style=\"display:inline;vertical-align:middle;\" /></a></td></tr>\n",
       "<tr><td>7</td><td>Operation</td><td>operator:&nbsp;13<br>operands:&nbsp;12<br></td><td><a class=\"ProveItLink\" href=\"../ad1feecd9b07f0cabcfdef5b5ce63a8c8f8263630/expr.ipynb\"><img src=\"../ad1feecd9b07f0cabcfdef5b5ce63a8c8f8263630/expr.png\" style=\"display:inline;vertical-align:middle;\" /></a></td></tr>\n",
       "<tr><td>8</td><td>Operation</td><td>operator:&nbsp;13<br>operands:&nbsp;14<br></td><td><a class=\"ProveItLink\" href=\"../285ca33f65cac1ee263d2151d30173c6ec7392aa0/expr.ipynb\"><img src=\"../285ca33f65cac1ee263d2151d30173c6ec7392aa0/expr.png\" style=\"display:inline;vertical-align:middle;\" /></a></td></tr>\n",
       "<tr><td>9</td><td>Literal</td><td></td><td><a class=\"ProveItLink\" href=\"../../common/1f38fe5cce441387feef296e2c0a2eac260bb4f30/expr.ipynb\"><img src=\"../../common/1f38fe5cce441387feef296e2c0a2eac260bb4f30/expr.png\" style=\"display:inline;vertical-align:middle;\" /></a></td></tr>\n",
       "<tr><td>10</td><td>ExprTuple</td><td>19, 19, 19</td><td><a class=\"ProveItLink\" href=\"../6ce5937ac8a23fb0149dc09b080c71346938ef310/expr.ipynb\"><img src=\"../6ce5937ac8a23fb0149dc09b080c71346938ef310/expr.png\" style=\"display:inline;vertical-align:middle;\" /></a></td></tr>\n",
       "<tr><td>11</td><td>ExprTuple</td><td>15, 16</td><td><a class=\"ProveItLink\" href=\"../4c26161704de09c0cdce0cf7cac6f5f402033b500/expr.ipynb\"><img src=\"../4c26161704de09c0cdce0cf7cac6f5f402033b500/expr.png\" style=\"display:inline;vertical-align:middle;\" /></a></td></tr>\n",
       "<tr><td>12</td><td>ExprTuple</td><td>18, 17</td><td><a class=\"ProveItLink\" href=\"../2d68a46b8be81bd57c353b24b431f61c519ca1790/expr.ipynb\"><img src=\"../2d68a46b8be81bd57c353b24b431f61c519ca1790/expr.png\" style=\"display:inline;vertical-align:middle;\" /></a></td></tr>\n",
       "<tr><td>13</td><td>Literal</td><td></td><td><a class=\"ProveItLink\" href=\"../../../../multiplication/__pv_it/common/c57d60974865e78d434abd3ff22c405685c80ade0/expr.ipynb\"><img src=\"../../../../multiplication/__pv_it/common/c57d60974865e78d434abd3ff22c405685c80ade0/expr.png\" style=\"display:inline;vertical-align:middle;\" /></a></td></tr>\n",
       "<tr><td>14</td><td>ExprTuple</td><td>18, 19</td><td><a class=\"ProveItLink\" href=\"../33d523c3d635691a1a4c0c2c54741049483936280/expr.ipynb\"><img src=\"../33d523c3d635691a1a4c0c2c54741049483936280/expr.png\" style=\"display:inline;vertical-align:middle;\" /></a></td></tr>\n",
       "<tr><td>15</td><td>Literal</td><td></td><td><a class=\"ProveItLink\" href=\"../../../../numerals/__pv_it/common/1468b81bd8f92360858c9ea17a01ea5385ede2690/expr.ipynb\"><img src=\"../../../../numerals/__pv_it/common/1468b81bd8f92360858c9ea17a01ea5385ede2690/expr.png\" style=\"display:inline;vertical-align:middle;\" /></a></td></tr>\n",
       "<tr><td>16</td><td>Variable</td><td></td><td><a class=\"ProveItLink\" href=\"../../../../../__pv_it/common/66c90e66682f107a881f2d666959f64e2e72ad750/expr.ipynb\"><img src=\"../../../../../__pv_it/common/66c90e66682f107a881f2d666959f64e2e72ad750/expr.png\" style=\"display:inline;vertical-align:middle;\" /></a></td></tr>\n",
       "<tr><td>17</td><td>Variable</td><td></td><td><a class=\"ProveItLink\" href=\"../../../../../__pv_it/common/4a5db8cc5c67969ec864bd3ea598be37cb6f5e550/expr.ipynb\"><img src=\"../../../../../__pv_it/common/4a5db8cc5c67969ec864bd3ea598be37cb6f5e550/expr.png\" style=\"display:inline;vertical-align:middle;\" /></a></td></tr>\n",
       "<tr><td>18</td><td>Literal</td><td></td><td><a class=\"ProveItLink\" href=\"../../../../numerals/__pv_it/common/1477ef887611bedb97dfb89bcacde217bb43e8ed0/expr.ipynb\"><img src=\"../../../../numerals/__pv_it/common/1477ef887611bedb97dfb89bcacde217bb43e8ed0/expr.png\" style=\"display:inline;vertical-align:middle;\" /></a></td></tr>\n",
       "<tr><td>19</td><td>Variable</td><td></td><td><a class=\"ProveItLink\" href=\"../../../../../__pv_it/common/9a9d28748f90dec84e90f2ace4610208194e524e0/expr.ipynb\"><img src=\"../../../../../__pv_it/common/9a9d28748f90dec84e90f2ace4610208194e524e0/expr.png\" style=\"display:inline;vertical-align:middle;\" /></a></td></tr>\n",
       "</table>\n"
      ],
      "text/plain": [
       "0. ((5 * a) + (3 * b) + (c + c + c), (5 * a) + (3 * b) + (3 * c))\n",
       "   core type: ExprTuple\n",
       "   sub-expressions: 1, 2\n",
       "1. (5 * a) + (3 * b) + (c + c + c)\n",
       "   core type: Operation\n",
       "   operator: 9\n",
       "   operands: 3\n",
       "2. (5 * a) + (3 * b) + (3 * c)\n",
       "   core type: Operation\n",
       "   operator: 9\n",
       "   operands: 4\n",
       "3. (5 * a, 3 * b, c + c + c)\n",
       "   core type: ExprTuple\n",
       "   sub-expressions: 6, 7, 5\n",
       "4. (5 * a, 3 * b, 3 * c)\n",
       "   core type: ExprTuple\n",
       "   sub-expressions: 6, 7, 8\n",
       "5. c + c + c\n",
       "   core type: Operation\n",
       "   operator: 9\n",
       "   operands: 10\n",
       "6. 5 * a\n",
       "   core type: Operation\n",
       "   operator: 13\n",
       "   operands: 11\n",
       "7. 3 * b\n",
       "   core type: Operation\n",
       "   operator: 13\n",
       "   operands: 12\n",
       "8. 3 * c\n",
       "   core type: Operation\n",
       "   operator: 13\n",
       "   operands: 14\n",
       "9. +\n",
       "   core type: Literal\n",
       "   sub-expressions: \n",
       "10. (c, c, c)\n",
       "    core type: ExprTuple\n",
       "    sub-expressions: 19, 19, 19\n",
       "11. (5, a)\n",
       "    core type: ExprTuple\n",
       "    sub-expressions: 15, 16\n",
       "12. (3, b)\n",
       "    core type: ExprTuple\n",
       "    sub-expressions: 18, 17\n",
       "13. *\n",
       "    core type: Literal\n",
       "    sub-expressions: \n",
       "14. (3, c)\n",
       "    core type: ExprTuple\n",
       "    sub-expressions: 18, 19\n",
       "15. 5\n",
       "    core type: Literal\n",
       "    sub-expressions: \n",
       "16. a\n",
       "    core type: Variable\n",
       "    sub-expressions: \n",
       "17. b\n",
       "    core type: Variable\n",
       "    sub-expressions: \n",
       "18. 3\n",
       "    core type: Literal\n",
       "    sub-expressions: \n",
       "19. c\n",
       "    core type: Variable\n",
       "    sub-expressions: "
      ]
     },
     "execution_count": 6,
     "metadata": {},
     "output_type": "execute_result"
    }
   ],
   "source": [
    "# display the expression information\n",
    "expr.expr_info()"
   ]
  },
  {
   "cell_type": "code",
   "execution_count": null,
   "metadata": {},
   "outputs": [],
   "source": []
  }
 ],
 "metadata": {
  "kernelspec": {
   "display_name": "Python 3",
   "language": "python",
   "name": "python3"
  }
 },
 "nbformat": 4,
 "nbformat_minor": 0
}