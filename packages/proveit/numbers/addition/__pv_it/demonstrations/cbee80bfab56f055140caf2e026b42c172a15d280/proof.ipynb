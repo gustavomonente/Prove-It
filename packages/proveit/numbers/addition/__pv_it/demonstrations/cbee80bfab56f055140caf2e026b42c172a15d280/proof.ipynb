{
 "cells": [
  {
   "cell_type": "markdown",
   "metadata": {},
   "source": [
    "Show the Proof\n",
    "========"
   ]
  },
  {
   "cell_type": "code",
   "execution_count": 1,
   "metadata": {},
   "outputs": [
    {
     "data": {
      "text/html": [
       "<table><tr><th>&nbsp;</th><th>step type</th><th>requirements</th><th>statement</th></tr>\n",
       "<tr><td><a name=\"proveit.numbers.addition.demonstrations.cbee80bfab56f055140caf2e026b42c172a15d280_step0\">0</a></td><td>instantiation</td><td><a href=\"#proveit.numbers.addition.demonstrations.cbee80bfab56f055140caf2e026b42c172a15d280_step1\">1</a>, <a href=\"#proveit.numbers.addition.demonstrations.cbee80bfab56f055140caf2e026b42c172a15d280_step2\">2</a></td><td><span style=\"font-size:20px;\"><a class=\"ProveItLink\" href=\"../cc5977648bc1a1b7dbb543c11fb2eb11ba7bfd0b0/expr.ipynb\"><img src=\"../cc5977648bc1a1b7dbb543c11fb2eb11ba7bfd0b0/expr.png\" style=\"display:inline;vertical-align:middle;\" /></a> <a class=\"ProveItLink\" href=\"proof.ipynb\" style=\"text-decoration: none\">&nbsp;&#x22A2;&nbsp;&nbsp;</a><a class=\"ProveItLink\" href=\"../f8b4ad2b830550736c1ceb12d6d02089b016ea6b0/expr.ipynb\"><img src=\"../f8b4ad2b830550736c1ceb12d6d02089b016ea6b0/expr.png\" style=\"display:inline;vertical-align:middle;\" /></a></span></td></tr>\n",
       "<tr><td>&nbsp;</td><td colspan=4 style=\"text-align:left\"><span style=\"font-size:20px;\"><a class=\"ProveItLink\" href=\"../../../../../__pv_it/common/c06c606ec12678c58933ac85412ecadc2ae28be60/expr.ipynb\"><img src=\"../../../../../__pv_it/common/c06c606ec12678c58933ac85412ecadc2ae28be60/expr.png\" style=\"display:inline;vertical-align:middle;\" /></a> : <a class=\"ProveItLink\" href=\"../../../../../__pv_it/common/195236b98c6c564a75b5dbada74b173bc52d5c3e0/expr.ipynb\"><img src=\"../../../../../__pv_it/common/195236b98c6c564a75b5dbada74b173bc52d5c3e0/expr.png\" style=\"display:inline;vertical-align:middle;\" /></a></span></td></tr><tr><td><a name=\"proveit.numbers.addition.demonstrations.cbee80bfab56f055140caf2e026b42c172a15d280_step1\">1</a></td><td>theorem</td><td></td><td><span style=\"font-size:20px;\"> <a class=\"ProveItLink\" href=\"../../../../negation/_theory_nbs_/proofs/complex_closure/thm_proof.ipynb\" style=\"text-decoration: none\">&nbsp;&#x22A2;&nbsp;&nbsp;</a><a class=\"ProveItLink\" href=\"../../../../negation/__pv_it/theorems/8de894cfc0f9f1221ce8faf48ad6bbb7a2d04b4b0/expr.ipynb\"><img src=\"../../../../negation/__pv_it/theorems/8de894cfc0f9f1221ce8faf48ad6bbb7a2d04b4b0/expr.png\" style=\"display:inline;vertical-align:middle;\" /></a></span></td></tr>\n",
       "<tr><td>&nbsp;</td><td colspan=4 style-\"text-align:left\"><a class=\"ProveItLink\" href=\"../../../../negation/_theory_nbs_/proofs/complex_closure/thm_proof.ipynb\">proveit.numbers.negation.complex_closure</a></td></tr><tr><td><a name=\"proveit.numbers.addition.demonstrations.cbee80bfab56f055140caf2e026b42c172a15d280_step2\">2</a></td><td>assumption</td><td></td><td><span style=\"font-size:20px;\"><a class=\"ProveItLink\" href=\"../cc5977648bc1a1b7dbb543c11fb2eb11ba7bfd0b0/expr.ipynb\"><img src=\"../cc5977648bc1a1b7dbb543c11fb2eb11ba7bfd0b0/expr.png\" style=\"display:inline;vertical-align:middle;\" /></a> <a class=\"ProveItLink\" href=\"../5bed857e9c7bec8dd61dc203040a6fa13c89e0f10/proof.ipynb\" style=\"text-decoration: none\">&nbsp;&#x22A2;&nbsp;&nbsp;</a><a class=\"ProveItLink\" href=\"../cc5977648bc1a1b7dbb543c11fb2eb11ba7bfd0b0/expr.ipynb\"><img src=\"../cc5977648bc1a1b7dbb543c11fb2eb11ba7bfd0b0/expr.png\" style=\"display:inline;vertical-align:middle;\" /></a></span></td></tr>\n",
       "</table>"
      ],
      "text/plain": [
       "<proveit._core_.proof._ShowProof at 0x7f9fc2121128>"
      ]
     },
     "execution_count": 1,
     "metadata": {},
     "output_type": "execute_result"
    }
   ],
   "source": [
    "import proveit\n",
    "# Automation is not needed when only showing a stored proof:\n",
    "proveit.defaults.automation = False # This will speed things up.\n",
    "proveit.defaults.inline_pngs = False # Makes files smaller.\n",
    "%show_proof"
   ]
  },
  {
   "cell_type": "code",
   "execution_count": null,
   "metadata": {},
   "outputs": [],
   "source": []
  }
 ],
 "metadata": {
  "kernelspec": {
   "display_name": "Python 3",
   "language": "python",
   "name": "python3"
  }
 },
 "nbformat": 4,
 "nbformat_minor": 0
}