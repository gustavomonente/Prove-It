{
 "cells": [
  {
   "cell_type": "markdown",
   "metadata": {},
   "source": [
    "Show the Proof\n",
    "========"
   ]
  },
  {
   "cell_type": "code",
   "execution_count": 1,
   "metadata": {},
   "outputs": [
    {
     "data": {
      "text/html": [
       "<table><tr><th>&nbsp;</th><th>step type</th><th>requirements</th><th>statement</th></tr>\n",
       "<tr><td><a name=\"proveit.numbers.addition.demonstrations.cce8ec064e7b33d5f50144e276af53e71cbf50dd0_step0\">0</a></td><td>instantiation</td><td><a href=\"#proveit.numbers.addition.demonstrations.cce8ec064e7b33d5f50144e276af53e71cbf50dd0_step1\">1</a>, <a href=\"#proveit.numbers.addition.demonstrations.cce8ec064e7b33d5f50144e276af53e71cbf50dd0_step2\">2</a>, <a href=\"#proveit.numbers.addition.demonstrations.cce8ec064e7b33d5f50144e276af53e71cbf50dd0_step3\">3</a></td><td><span style=\"font-size:20px;\"><a class=\"ProveItLink\" href=\"../../theorems/b1103b770cadeb5e841bbce4a7abd8d948b044c00/expr.ipynb\"><img src=\"../../theorems/b1103b770cadeb5e841bbce4a7abd8d948b044c00/expr.png\" style=\"display:inline;vertical-align:middle;\" /></a> <a class=\"ProveItLink\" href=\"proof.ipynb\" style=\"text-decoration: none\">&nbsp;&#x22A2;&nbsp;&nbsp;</a><a class=\"ProveItLink\" href=\"../0e456b485835176c72306e0dfb426936155d2aa10/expr.ipynb\"><img src=\"../0e456b485835176c72306e0dfb426936155d2aa10/expr.png\" style=\"display:inline;vertical-align:middle;\" /></a></span></td></tr>\n",
       "<tr><td>&nbsp;</td><td colspan=4 style=\"text-align:left\"><span style=\"font-size:20px;\"><a class=\"ProveItLink\" href=\"../../../../../__pv_it/common/a2581dc5df71d9a30bad37de14965fa5fec97a240/expr.ipynb\"><img src=\"../../../../../__pv_it/common/a2581dc5df71d9a30bad37de14965fa5fec97a240/expr.png\" style=\"display:inline;vertical-align:middle;\" /></a> : <a class=\"ProveItLink\" href=\"../bb15507dd78de77310316e9bbd2e57edf2bec4390/expr.ipynb\"><img src=\"../bb15507dd78de77310316e9bbd2e57edf2bec4390/expr.png\" style=\"display:inline;vertical-align:middle;\" /></a>, <a class=\"ProveItLink\" href=\"../../../../../__pv_it/common/0f21cbfd5644a1cae6781c1d58354abc2ffbc9000/expr.ipynb\"><img src=\"../../../../../__pv_it/common/0f21cbfd5644a1cae6781c1d58354abc2ffbc9000/expr.png\" style=\"display:inline;vertical-align:middle;\" /></a> : <a class=\"ProveItLink\" href=\"../33ab0ff109566a84fc53b6f7b29eaf16c48f9eb30/expr.ipynb\"><img src=\"../33ab0ff109566a84fc53b6f7b29eaf16c48f9eb30/expr.png\" style=\"display:inline;vertical-align:middle;\" /></a>, <a class=\"ProveItLink\" href=\"../../../../../__pv_it/common/fab62f2bacea351a074e2d41fad4d8b09cef5e740/expr.ipynb\"><img src=\"../../../../../__pv_it/common/fab62f2bacea351a074e2d41fad4d8b09cef5e740/expr.png\" style=\"display:inline;vertical-align:middle;\" /></a> : <a class=\"ProveItLink\" href=\"../b8b02afc90920147e195ac87fb99505cce39b89c0/expr.ipynb\"><img src=\"../b8b02afc90920147e195ac87fb99505cce39b89c0/expr.png\" style=\"display:inline;vertical-align:middle;\" /></a></span></td></tr><tr><td><a name=\"proveit.numbers.addition.demonstrations.cce8ec064e7b33d5f50144e276af53e71cbf50dd0_step1\">1</a></td><td>axiom</td><td></td><td><span style=\"font-size:20px;\"> <a class=\"ProveItLink\" href=\"../../../../../logic/equality/_theory_nbs_/axioms.ipynb#equals_transitivity\" style=\"text-decoration: none\">&nbsp;&#x22A2;&nbsp;&nbsp;</a><a class=\"ProveItLink\" href=\"../../../../../logic/equality/__pv_it/axioms/fe5ecb4839370106d7aa598ff8e51b95c71757a70/expr.ipynb\"><img src=\"../../../../../logic/equality/__pv_it/axioms/fe5ecb4839370106d7aa598ff8e51b95c71757a70/expr.png\" style=\"display:inline;vertical-align:middle;\" /></a></span></td></tr>\n",
       "<tr><td>&nbsp;</td><td colspan=4 style-\"text-align:left\"><a class=\"ProveItLink\" href=\"../../../../../logic/equality/_theory_nbs_/axioms.ipynb#equals_transitivity\">proveit.logic.equality.equals_transitivity</a></td></tr><tr><td><a name=\"proveit.numbers.addition.demonstrations.cce8ec064e7b33d5f50144e276af53e71cbf50dd0_step2\">2</a></td><td>instantiation</td><td><a href=\"#proveit.numbers.addition.demonstrations.cce8ec064e7b33d5f50144e276af53e71cbf50dd0_step5\">5</a>, <a href=\"#proveit.numbers.addition.demonstrations.cce8ec064e7b33d5f50144e276af53e71cbf50dd0_step4\">4</a></td><td><span style=\"font-size:20px;\"> <a class=\"ProveItLink\" href=\"../e1056e5cd2289e84143383680bb7758cac79da0e0/proof.ipynb\" style=\"text-decoration: none\">&nbsp;&#x22A2;&nbsp;&nbsp;</a><a class=\"ProveItLink\" href=\"../10011c60a2ba55f5d9b915d3e1a71459aea28a8b0/expr.ipynb\"><img src=\"../10011c60a2ba55f5d9b915d3e1a71459aea28a8b0/expr.png\" style=\"display:inline;vertical-align:middle;\" /></a></span></td></tr>\n",
       "<tr><td>&nbsp;</td><td colspan=4 style=\"text-align:left\"><span style=\"font-size:20px;\"><a class=\"ProveItLink\" href=\"../2ef79cde88d4b70522889d89dba53fb38d977e200/expr.ipynb\"><img src=\"../2ef79cde88d4b70522889d89dba53fb38d977e200/expr.png\" style=\"display:inline;vertical-align:middle;\" /></a> : <a class=\"ProveItLink\" href=\"../7bb724b40a134d2f107ab32cdfaca4c8da7e40cd0/expr.ipynb\"><img src=\"../7bb724b40a134d2f107ab32cdfaca4c8da7e40cd0/expr.png\" style=\"display:inline;vertical-align:middle;\" /></a>, <a class=\"ProveItLink\" href=\"../../../../../__pv_it/common/a2581dc5df71d9a30bad37de14965fa5fec97a240/expr.ipynb\"><img src=\"../../../../../__pv_it/common/a2581dc5df71d9a30bad37de14965fa5fec97a240/expr.png\" style=\"display:inline;vertical-align:middle;\" /></a> : <a class=\"ProveItLink\" href=\"../../../../numerals/decimals/__pv_it/theorems/04a97ebe464b90d6dfe048d5c858999a66a938f40/expr.ipynb\"><img src=\"../../../../numerals/decimals/__pv_it/theorems/04a97ebe464b90d6dfe048d5c858999a66a938f40/expr.png\" style=\"display:inline;vertical-align:middle;\" /></a>, <a class=\"ProveItLink\" href=\"../../../../../__pv_it/common/0f21cbfd5644a1cae6781c1d58354abc2ffbc9000/expr.ipynb\"><img src=\"../../../../../__pv_it/common/0f21cbfd5644a1cae6781c1d58354abc2ffbc9000/expr.png\" style=\"display:inline;vertical-align:middle;\" /></a> : <a class=\"ProveItLink\" href=\"../../../../numerals/__pv_it/common/3829356ce3fdf8f35810c63c00bc1a19e838663e0/expr.ipynb\"><img src=\"../../../../numerals/__pv_it/common/3829356ce3fdf8f35810c63c00bc1a19e838663e0/expr.png\" style=\"display:inline;vertical-align:middle;\" /></a></span></td></tr><tr><td><a name=\"proveit.numbers.addition.demonstrations.cce8ec064e7b33d5f50144e276af53e71cbf50dd0_step3\">3</a></td><td>instantiation</td><td><a href=\"#proveit.numbers.addition.demonstrations.cce8ec064e7b33d5f50144e276af53e71cbf50dd0_step5\">5</a>, <a href=\"#proveit.numbers.addition.demonstrations.cce8ec064e7b33d5f50144e276af53e71cbf50dd0_step6\">6</a></td><td><span style=\"font-size:20px;\"><a class=\"ProveItLink\" href=\"../../theorems/b1103b770cadeb5e841bbce4a7abd8d948b044c00/expr.ipynb\"><img src=\"../../theorems/b1103b770cadeb5e841bbce4a7abd8d948b044c00/expr.png\" style=\"display:inline;vertical-align:middle;\" /></a> <a class=\"ProveItLink\" href=\"../40b790f3dea6672b8dbdff942f739a9bef79abdd0/proof.ipynb\" style=\"text-decoration: none\">&nbsp;&#x22A2;&nbsp;&nbsp;</a><a class=\"ProveItLink\" href=\"../8f1ef198204a030aacbde2a4399376f8965bedcc0/expr.ipynb\"><img src=\"../8f1ef198204a030aacbde2a4399376f8965bedcc0/expr.png\" style=\"display:inline;vertical-align:middle;\" /></a></span></td></tr>\n",
       "<tr><td>&nbsp;</td><td colspan=4 style=\"text-align:left\"><span style=\"font-size:20px;\"><a class=\"ProveItLink\" href=\"../2ef79cde88d4b70522889d89dba53fb38d977e200/expr.ipynb\"><img src=\"../2ef79cde88d4b70522889d89dba53fb38d977e200/expr.png\" style=\"display:inline;vertical-align:middle;\" /></a> : <a class=\"ProveItLink\" href=\"../da2064452fa85b3d3743b8e480e9499589b54d1e0/expr.ipynb\"><img src=\"../da2064452fa85b3d3743b8e480e9499589b54d1e0/expr.png\" style=\"display:inline;vertical-align:middle;\" /></a>, <a class=\"ProveItLink\" href=\"../../../../../__pv_it/common/a2581dc5df71d9a30bad37de14965fa5fec97a240/expr.ipynb\"><img src=\"../../../../../__pv_it/common/a2581dc5df71d9a30bad37de14965fa5fec97a240/expr.png\" style=\"display:inline;vertical-align:middle;\" /></a> : <a class=\"ProveItLink\" href=\"../5412400cad80d411040c35c2ba1dcf9bfe3826730/expr.ipynb\"><img src=\"../5412400cad80d411040c35c2ba1dcf9bfe3826730/expr.png\" style=\"display:inline;vertical-align:middle;\" /></a>, <a class=\"ProveItLink\" href=\"../../../../../__pv_it/common/0f21cbfd5644a1cae6781c1d58354abc2ffbc9000/expr.ipynb\"><img src=\"../../../../../__pv_it/common/0f21cbfd5644a1cae6781c1d58354abc2ffbc9000/expr.png\" style=\"display:inline;vertical-align:middle;\" /></a> : <a class=\"ProveItLink\" href=\"../../../../../__pv_it/common/9a9d28748f90dec84e90f2ace4610208194e524e0/expr.ipynb\"><img src=\"../../../../../__pv_it/common/9a9d28748f90dec84e90f2ace4610208194e524e0/expr.png\" style=\"display:inline;vertical-align:middle;\" /></a></span></td></tr><tr><td><a name=\"proveit.numbers.addition.demonstrations.cce8ec064e7b33d5f50144e276af53e71cbf50dd0_step4\">4</a></td><td>theorem</td><td></td><td><span style=\"font-size:20px;\"> <a class=\"ProveItLink\" href=\"../../../../numerals/decimals/_theory_nbs_/proofs/mult_1_2/thm_proof.ipynb\" style=\"text-decoration: none\">&nbsp;&#x22A2;&nbsp;&nbsp;</a><a class=\"ProveItLink\" href=\"../../../../numerals/decimals/__pv_it/theorems/49a63124542130bc14c08760bd50550b55349aa90/expr.ipynb\"><img src=\"../../../../numerals/decimals/__pv_it/theorems/49a63124542130bc14c08760bd50550b55349aa90/expr.png\" style=\"display:inline;vertical-align:middle;\" /></a></span></td></tr>\n",
       "<tr><td>&nbsp;</td><td colspan=4 style-\"text-align:left\"><a class=\"ProveItLink\" href=\"../../../../numerals/decimals/_theory_nbs_/proofs/mult_1_2/thm_proof.ipynb\">proveit.numbers.numerals.decimals.mult_1_2</a></td></tr><tr><td><a name=\"proveit.numbers.addition.demonstrations.cce8ec064e7b33d5f50144e276af53e71cbf50dd0_step5\">5</a></td><td>axiom</td><td></td><td><span style=\"font-size:20px;\"> <a class=\"ProveItLink\" href=\"../../../../../logic/equality/_theory_nbs_/axioms.ipynb#substitution\" style=\"text-decoration: none\">&nbsp;&#x22A2;&nbsp;&nbsp;</a><a class=\"ProveItLink\" href=\"../../../../../logic/equality/__pv_it/axioms/fb5aa0007e656f471030da411c3555b23b265d8f0/expr.ipynb\"><img src=\"../../../../../logic/equality/__pv_it/axioms/fb5aa0007e656f471030da411c3555b23b265d8f0/expr.png\" style=\"display:inline;vertical-align:middle;\" /></a></span></td></tr>\n",
       "<tr><td>&nbsp;</td><td colspan=4 style-\"text-align:left\"><a class=\"ProveItLink\" href=\"../../../../../logic/equality/_theory_nbs_/axioms.ipynb#substitution\">proveit.logic.equality.substitution</a></td></tr><tr><td><a name=\"proveit.numbers.addition.demonstrations.cce8ec064e7b33d5f50144e276af53e71cbf50dd0_step6\">6</a></td><td>instantiation</td><td><a href=\"#proveit.numbers.addition.demonstrations.cce8ec064e7b33d5f50144e276af53e71cbf50dd0_step7\">7</a>, <a href=\"#proveit.numbers.addition.demonstrations.cce8ec064e7b33d5f50144e276af53e71cbf50dd0_step8\">8</a></td><td><span style=\"font-size:20px;\"><a class=\"ProveItLink\" href=\"../../theorems/b1103b770cadeb5e841bbce4a7abd8d948b044c00/expr.ipynb\"><img src=\"../../theorems/b1103b770cadeb5e841bbce4a7abd8d948b044c00/expr.png\" style=\"display:inline;vertical-align:middle;\" /></a> <a class=\"ProveItLink\" href=\"../6cd3d6c5df19dea0caa5e23992064eb6ae3ca67d0/proof.ipynb\" style=\"text-decoration: none\">&nbsp;&#x22A2;&nbsp;&nbsp;</a><a class=\"ProveItLink\" href=\"../b130f45c927b9578811a254d4643355db323eaaf0/expr.ipynb\"><img src=\"../b130f45c927b9578811a254d4643355db323eaaf0/expr.png\" style=\"display:inline;vertical-align:middle;\" /></a></span></td></tr>\n",
       "<tr><td>&nbsp;</td><td colspan=4 style=\"text-align:left\"><span style=\"font-size:20px;\"><a class=\"ProveItLink\" href=\"../../../../../__pv_it/common/a2581dc5df71d9a30bad37de14965fa5fec97a240/expr.ipynb\"><img src=\"../../../../../__pv_it/common/a2581dc5df71d9a30bad37de14965fa5fec97a240/expr.png\" style=\"display:inline;vertical-align:middle;\" /></a> : <a class=\"ProveItLink\" href=\"../../../../../__pv_it/common/9a9d28748f90dec84e90f2ace4610208194e524e0/expr.ipynb\"><img src=\"../../../../../__pv_it/common/9a9d28748f90dec84e90f2ace4610208194e524e0/expr.png\" style=\"display:inline;vertical-align:middle;\" /></a></span></td></tr><tr><td><a name=\"proveit.numbers.addition.demonstrations.cce8ec064e7b33d5f50144e276af53e71cbf50dd0_step7\">7</a></td><td>theorem</td><td></td><td><span style=\"font-size:20px;\"> <a class=\"ProveItLink\" href=\"../../../../multiplication/_theory_nbs_/proofs/elim_one_left/thm_proof.ipynb\" style=\"text-decoration: none\">&nbsp;&#x22A2;&nbsp;&nbsp;</a><a class=\"ProveItLink\" href=\"../../../../multiplication/__pv_it/theorems/477c607583218dca25309574080588f853e78d3f0/expr.ipynb\"><img src=\"../../../../multiplication/__pv_it/theorems/477c607583218dca25309574080588f853e78d3f0/expr.png\" style=\"display:inline;vertical-align:middle;\" /></a></span></td></tr>\n",
       "<tr><td>&nbsp;</td><td colspan=4 style-\"text-align:left\"><a class=\"ProveItLink\" href=\"../../../../multiplication/_theory_nbs_/proofs/elim_one_left/thm_proof.ipynb\">proveit.numbers.multiplication.elim_one_left</a></td></tr><tr><td><a name=\"proveit.numbers.addition.demonstrations.cce8ec064e7b33d5f50144e276af53e71cbf50dd0_step8\">8</a></td><td>assumption</td><td></td><td><span style=\"font-size:20px;\"><a class=\"ProveItLink\" href=\"../../theorems/b1103b770cadeb5e841bbce4a7abd8d948b044c00/expr.ipynb\"><img src=\"../../theorems/b1103b770cadeb5e841bbce4a7abd8d948b044c00/expr.png\" style=\"display:inline;vertical-align:middle;\" /></a> <a class=\"ProveItLink\" href=\"../73a13e5070c17c263604a344026863a9c34903520/proof.ipynb\" style=\"text-decoration: none\">&nbsp;&#x22A2;&nbsp;&nbsp;</a><a class=\"ProveItLink\" href=\"../../theorems/b1103b770cadeb5e841bbce4a7abd8d948b044c00/expr.ipynb\"><img src=\"../../theorems/b1103b770cadeb5e841bbce4a7abd8d948b044c00/expr.png\" style=\"display:inline;vertical-align:middle;\" /></a></span></td></tr>\n",
       "</table>"
      ],
      "text/plain": [
       "<proveit._core_.proof._ShowProof at 0x7f5c81e21cc0>"
      ]
     },
     "execution_count": 1,
     "metadata": {},
     "output_type": "execute_result"
    }
   ],
   "source": [
    "import proveit\n",
    "# Automation is not needed when only showing a stored proof:\n",
    "proveit.defaults.automation = False # This will speed things up.\n",
    "proveit.defaults.inline_pngs = False # Makes files smaller.\n",
    "%show_proof"
   ]
  },
  {
   "cell_type": "code",
   "execution_count": null,
   "metadata": {},
   "outputs": [],
   "source": []
  }
 ],
 "metadata": {
  "kernelspec": {
   "display_name": "Python 3",
   "language": "python",
   "name": "python3"
  },
  "language_info": {
   "codemirror_mode": {
    "name": "ipython",
    "version": 3
   },
   "file_extension": ".py",
   "mimetype": "text/x-python",
   "name": "python",
   "nbconvert_exporter": "python",
   "pygments_lexer": "ipython3",
   "version": "3.7.3"
  }
 },
 "nbformat": 4,
 "nbformat_minor": 1
}