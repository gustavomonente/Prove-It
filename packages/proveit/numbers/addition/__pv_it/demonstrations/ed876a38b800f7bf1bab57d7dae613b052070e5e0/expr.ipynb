{
 "cells": [
  {
   "cell_type": "markdown",
   "metadata": {},
   "source": [
    "Expression of type <a class=\"ProveItLink\" href=\"../../../../../../../doc/html/api/proveit.logic.Equals.html\">Equals</a>\n",
    "=======================\n",
    "# from the theory of <a class=\"ProveItLink\" href=\"../../../_theory_nbs_/theory.ipynb\">proveit.numbers.addition</a>"
   ]
  },
  {
   "cell_type": "code",
   "execution_count": 1,
   "metadata": {},
   "outputs": [],
   "source": [
    "import proveit\n",
    "# Automation is not needed when building an expression:\n",
    "proveit.defaults.automation = False # This will speed things up.\n",
    "proveit.defaults.inline_pngs = False # Makes files smaller.\n",
    "%load_expr # Load the stored expression as 'stored_expr'\n",
    "# import Expression classes needed to build the expression\n",
    "from proveit.logic import Equals\n",
    "from proveit.numbers import Add, three, two, zero"
   ]
  },
  {
   "cell_type": "code",
   "execution_count": 2,
   "metadata": {},
   "outputs": [
    {
     "data": {
      "text/html": [
       "<strong id=\"expr\">expr:</strong> <a class=\"ProveItLink\" href=\"expr.ipynb\"><img src=\"expr.png\" style=\"display:inline;vertical-align:middle;\" /></a><br>"
      ],
      "text/plain": [
       "expr: ((0 + 2) + 3 + 0) = (2 + 3 + 0)"
      ]
     },
     "execution_count": 2,
     "metadata": {},
     "output_type": "execute_result"
    }
   ],
   "source": [
    "# build up the expression from sub-expressions\n",
    "expr = Equals(Add(Add(zero, two), three, zero), Add(two, three, zero))"
   ]
  },
  {
   "cell_type": "code",
   "execution_count": 3,
   "metadata": {},
   "outputs": [
    {
     "name": "stdout",
     "output_type": "stream",
     "text": [
      "Passed sanity check: expr matches stored_expr\n"
     ]
    }
   ],
   "source": [
    "# check that the built expression is the same as the stored expression\n",
    "assert expr == stored_expr\n",
    "assert expr._style_id == stored_expr._style_id\n",
    "print(\"Passed sanity check: expr matches stored_expr\")"
   ]
  },
  {
   "cell_type": "code",
   "execution_count": 4,
   "metadata": {},
   "outputs": [
    {
     "name": "stdout",
     "output_type": "stream",
     "text": [
      "\\left(\\left(0 + 2\\right) + 3 + 0\\right) = \\left(2 + 3 + 0\\right)\n"
     ]
    }
   ],
   "source": [
    "# Show the LaTeX representation of the expression for convenience if you need it.\n",
    "print(expr.latex())"
   ]
  },
  {
   "cell_type": "code",
   "execution_count": 5,
   "metadata": {},
   "outputs": [
    {
     "data": {
      "text/html": [
       "<table><tr><th>&nbsp;</th><th>core type</th><th>sub-expressions</th><th>expression</th></tr>\n",
       "<tr><td>0</td><td>Operation</td><td>operator:&nbsp;1<br>operands:&nbsp;2<br></td><td><a class=\"ProveItLink\" href=\"expr.ipynb\"><img src=\"expr.png\" style=\"display:inline;vertical-align:middle;\" /></a></td></tr>\n",
       "<tr><td>1</td><td>Literal</td><td></td><td><a class=\"ProveItLink\" href=\"../../../../../logic/equality/__pv_it/common/fb96dc12b2aa8801dda64d0132b396c63d1502bb0/expr.ipynb\"><img src=\"../../../../../logic/equality/__pv_it/common/fb96dc12b2aa8801dda64d0132b396c63d1502bb0/expr.png\" style=\"display:inline;vertical-align:middle;\" /></a></td></tr>\n",
       "<tr><td>2</td><td>ExprTuple</td><td>3, 4</td><td><a class=\"ProveItLink\" href=\"../8439d3d65a45e88e314afac50a671c100e46a48f0/expr.ipynb\"><img src=\"../8439d3d65a45e88e314afac50a671c100e46a48f0/expr.png\" style=\"display:inline;vertical-align:middle;\" /></a></td></tr>\n",
       "<tr><td>3</td><td>Operation</td><td>operator:&nbsp;9<br>operands:&nbsp;5<br></td><td><a class=\"ProveItLink\" href=\"../4d8d1330cda990ab8f05f3aaf10f69f6a9ae48ac0/expr.ipynb\"><img src=\"../4d8d1330cda990ab8f05f3aaf10f69f6a9ae48ac0/expr.png\" style=\"display:inline;vertical-align:middle;\" /></a></td></tr>\n",
       "<tr><td>4</td><td>Operation</td><td>operator:&nbsp;9<br>operands:&nbsp;6<br></td><td><a class=\"ProveItLink\" href=\"../a9a011553dbe65b3bf26bffd741733a3e2a143c60/expr.ipynb\"><img src=\"../a9a011553dbe65b3bf26bffd741733a3e2a143c60/expr.png\" style=\"display:inline;vertical-align:middle;\" /></a></td></tr>\n",
       "<tr><td>5</td><td>ExprTuple</td><td>7, 8, 11</td><td><a class=\"ProveItLink\" href=\"../2a162ae72b1fa2d74bdae346cf255eedad633d890/expr.ipynb\"><img src=\"../2a162ae72b1fa2d74bdae346cf255eedad633d890/expr.png\" style=\"display:inline;vertical-align:middle;\" /></a></td></tr>\n",
       "<tr><td>6</td><td>ExprTuple</td><td>12, 8, 11</td><td><a class=\"ProveItLink\" href=\"../15e4c192fd999c4fca9be8845cce6db39844136f0/expr.ipynb\"><img src=\"../15e4c192fd999c4fca9be8845cce6db39844136f0/expr.png\" style=\"display:inline;vertical-align:middle;\" /></a></td></tr>\n",
       "<tr><td>7</td><td>Operation</td><td>operator:&nbsp;9<br>operands:&nbsp;10<br></td><td><a class=\"ProveItLink\" href=\"../../../../numerals/decimals/__pv_it/theorems/f2b2ca059cbe8e11c39657fb0bc1cb4d8a50e48e0/expr.ipynb\"><img src=\"../../../../numerals/decimals/__pv_it/theorems/f2b2ca059cbe8e11c39657fb0bc1cb4d8a50e48e0/expr.png\" style=\"display:inline;vertical-align:middle;\" /></a></td></tr>\n",
       "<tr><td>8</td><td>Literal</td><td></td><td><a class=\"ProveItLink\" href=\"../../../../numerals/__pv_it/common/0a19a501c0770212f27a044b71e9c626b8ca0bec0/expr.ipynb\"><img src=\"../../../../numerals/__pv_it/common/0a19a501c0770212f27a044b71e9c626b8ca0bec0/expr.png\" style=\"display:inline;vertical-align:middle;\" /></a></td></tr>\n",
       "<tr><td>9</td><td>Literal</td><td></td><td><a class=\"ProveItLink\" href=\"../../common/4b7effaab3619a1c2c38fe2dee8601df8ec714590/expr.ipynb\"><img src=\"../../common/4b7effaab3619a1c2c38fe2dee8601df8ec714590/expr.png\" style=\"display:inline;vertical-align:middle;\" /></a></td></tr>\n",
       "<tr><td>10</td><td>ExprTuple</td><td>11, 12</td><td><a class=\"ProveItLink\" href=\"../../../../numerals/decimals/__pv_it/theorems/cc4483905cd9e4b84250b152ca9ad0adede51f1b0/expr.ipynb\"><img src=\"../../../../numerals/decimals/__pv_it/theorems/cc4483905cd9e4b84250b152ca9ad0adede51f1b0/expr.png\" style=\"display:inline;vertical-align:middle;\" /></a></td></tr>\n",
       "<tr><td>11</td><td>Literal</td><td></td><td><a class=\"ProveItLink\" href=\"../../../../numerals/__pv_it/common/7d0a36793ffe8d307a5c120ee5598162e8cd2db10/expr.ipynb\"><img src=\"../../../../numerals/__pv_it/common/7d0a36793ffe8d307a5c120ee5598162e8cd2db10/expr.png\" style=\"display:inline;vertical-align:middle;\" /></a></td></tr>\n",
       "<tr><td>12</td><td>Literal</td><td></td><td><a class=\"ProveItLink\" href=\"../../../../numerals/__pv_it/common/ba3b059982e8b49413dc653e957beb11e974e4bc0/expr.ipynb\"><img src=\"../../../../numerals/__pv_it/common/ba3b059982e8b49413dc653e957beb11e974e4bc0/expr.png\" style=\"display:inline;vertical-align:middle;\" /></a></td></tr>\n",
       "</table>\n"
      ],
      "text/plain": [
       "0. ((0 + 2) + 3 + 0) = (2 + 3 + 0)\n",
       "   core type: Operation\n",
       "   operator: 1\n",
       "   operands: 2\n",
       "1. =\n",
       "   core type: Literal\n",
       "   sub-expressions: \n",
       "2. ((0 + 2) + 3 + 0, 2 + 3 + 0)\n",
       "   core type: ExprTuple\n",
       "   sub-expressions: 3, 4\n",
       "3. (0 + 2) + 3 + 0\n",
       "   core type: Operation\n",
       "   operator: 9\n",
       "   operands: 5\n",
       "4. 2 + 3 + 0\n",
       "   core type: Operation\n",
       "   operator: 9\n",
       "   operands: 6\n",
       "5. (0 + 2, 3, 0)\n",
       "   core type: ExprTuple\n",
       "   sub-expressions: 7, 8, 11\n",
       "6. (2, 3, 0)\n",
       "   core type: ExprTuple\n",
       "   sub-expressions: 12, 8, 11\n",
       "7. 0 + 2\n",
       "   core type: Operation\n",
       "   operator: 9\n",
       "   operands: 10\n",
       "8. 3\n",
       "   core type: Literal\n",
       "   sub-expressions: \n",
       "9. +\n",
       "   core type: Literal\n",
       "   sub-expressions: \n",
       "10. (0, 2)\n",
       "    core type: ExprTuple\n",
       "    sub-expressions: 11, 12\n",
       "11. 0\n",
       "    core type: Literal\n",
       "    sub-expressions: \n",
       "12. 2\n",
       "    core type: Literal\n",
       "    sub-expressions: "
      ]
     },
     "execution_count": 5,
     "metadata": {},
     "output_type": "execute_result"
    }
   ],
   "source": [
    "# display the expression information\n",
    "expr.expr_info()"
   ]
  },
  {
   "cell_type": "code",
   "execution_count": null,
   "metadata": {},
   "outputs": [],
   "source": []
  }
 ],
 "metadata": {
  "kernelspec": {
   "display_name": "Python 3",
   "language": "python",
   "name": "python3"
  }
 },
 "nbformat": 4,
 "nbformat_minor": 0
}