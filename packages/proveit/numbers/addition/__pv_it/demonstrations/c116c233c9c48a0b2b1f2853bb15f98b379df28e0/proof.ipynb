{
 "cells": [
  {
   "cell_type": "markdown",
   "metadata": {},
   "source": [
    "Show the Proof\n",
    "========"
   ]
  },
  {
   "cell_type": "code",
   "execution_count": 1,
   "metadata": {},
   "outputs": [
    {
     "data": {
      "text/html": [
       "<table><tr><th>&nbsp;</th><th>step type</th><th>requirements</th><th>statement</th></tr>\n",
       "<tr><td><a name=\"proveit.numbers.addition.demonstrations.c116c233c9c48a0b2b1f2853bb15f98b379df28e0_step0\">0</a></td><td>instantiation</td><td><a href=\"#proveit.numbers.addition.demonstrations.c116c233c9c48a0b2b1f2853bb15f98b379df28e0_step1\">1</a>, <a href=\"#proveit.numbers.addition.demonstrations.c116c233c9c48a0b2b1f2853bb15f98b379df28e0_step2\">2</a></td><td><span style=\"font-size:20px;\"><a class=\"ProveItLink\" href=\"../9f2012052be2597bf12a3239338b5d3217c68a770/expr.ipynb\"><img src=\"../9f2012052be2597bf12a3239338b5d3217c68a770/expr.png\" style=\"display:inline;vertical-align:middle;\" /></a> <a class=\"ProveItLink\" href=\"proof.ipynb\" style=\"text-decoration: none\">&nbsp;&#x22A2;&nbsp;&nbsp;</a><a class=\"ProveItLink\" href=\"../480acf0168f9ef40a36beb7035d7a307b4cf49350/expr.ipynb\"><img src=\"../480acf0168f9ef40a36beb7035d7a307b4cf49350/expr.png\" style=\"display:inline;vertical-align:middle;\" /></a></span></td></tr>\n",
       "<tr><td>&nbsp;</td><td colspan=4 style=\"text-align:left\"><span style=\"font-size:20px;\"><a class=\"ProveItLink\" href=\"../../../../../__pv_it/common/a0d9d672aa5e272d907247690c152cc2c6daafb70/expr.ipynb\"><img src=\"../../../../../__pv_it/common/a0d9d672aa5e272d907247690c152cc2c6daafb70/expr.png\" style=\"display:inline;vertical-align:middle;\" /></a> : <a class=\"ProveItLink\" href=\"../../../../../__pv_it/common/4f5c524ffda87296de1c79b96880123fe2efedd50/expr.ipynb\"><img src=\"../../../../../__pv_it/common/4f5c524ffda87296de1c79b96880123fe2efedd50/expr.png\" style=\"display:inline;vertical-align:middle;\" /></a></span></td></tr><tr><td><a name=\"proveit.numbers.addition.demonstrations.c116c233c9c48a0b2b1f2853bb15f98b379df28e0_step1\">1</a></td><td>theorem</td><td></td><td><span style=\"font-size:20px;\"> <a class=\"ProveItLink\" href=\"../../../../multiplication/_theory_nbs_/proofs/mult_zero_left/thm_proof.ipynb\" style=\"text-decoration: none\">&nbsp;&#x22A2;&nbsp;&nbsp;</a><a class=\"ProveItLink\" href=\"../../../../multiplication/__pv_it/theorems/408795ea946478a190684ac3f639b8713a57538c0/expr.ipynb\"><img src=\"../../../../multiplication/__pv_it/theorems/408795ea946478a190684ac3f639b8713a57538c0/expr.png\" style=\"display:inline;vertical-align:middle;\" /></a></span></td></tr>\n",
       "<tr><td>&nbsp;</td><td colspan=4 style-\"text-align:left\"><a class=\"ProveItLink\" href=\"../../../../multiplication/_theory_nbs_/proofs/mult_zero_left/thm_proof.ipynb\">proveit.numbers.multiplication.mult_zero_left</a></td></tr><tr><td><a name=\"proveit.numbers.addition.demonstrations.c116c233c9c48a0b2b1f2853bb15f98b379df28e0_step2\">2</a></td><td>assumption</td><td></td><td><span style=\"font-size:20px;\"><a class=\"ProveItLink\" href=\"../9f2012052be2597bf12a3239338b5d3217c68a770/expr.ipynb\"><img src=\"../9f2012052be2597bf12a3239338b5d3217c68a770/expr.png\" style=\"display:inline;vertical-align:middle;\" /></a> <a class=\"ProveItLink\" href=\"../106f214dbf477d9690d711dd7b987daa847b25470/proof.ipynb\" style=\"text-decoration: none\">&nbsp;&#x22A2;&nbsp;&nbsp;</a><a class=\"ProveItLink\" href=\"../9f2012052be2597bf12a3239338b5d3217c68a770/expr.ipynb\"><img src=\"../9f2012052be2597bf12a3239338b5d3217c68a770/expr.png\" style=\"display:inline;vertical-align:middle;\" /></a></span></td></tr>\n",
       "</table>"
      ],
      "text/plain": [
       "<proveit._core_.proof._ShowProof at 0x7f1cf5748ef0>"
      ]
     },
     "execution_count": 1,
     "metadata": {},
     "output_type": "execute_result"
    }
   ],
   "source": [
    "import proveit\n",
    "# Automation is not needed when only showing a stored proof:\n",
    "proveit.defaults.automation = False # This will speed things up.\n",
    "proveit.defaults.inline_pngs = False # Makes files smaller.\n",
    "%show_proof"
   ]
  },
  {
   "cell_type": "code",
   "execution_count": null,
   "metadata": {},
   "outputs": [],
   "source": []
  }
 ],
 "metadata": {
  "kernelspec": {
   "display_name": "Python 3",
   "language": "python",
   "name": "python3"
  }
 },
 "nbformat": 4,
 "nbformat_minor": 0
}