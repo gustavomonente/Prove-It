{
 "cells": [
  {
   "cell_type": "markdown",
   "metadata": {},
   "source": [
    "Expression of type <a class=\"ProveItLink\" href=\"../../../../../../../doc/html/api/proveit.ExprTuple.html\">ExprTuple</a>\n",
    "=======================\n",
    "# from the theory of <a class=\"ProveItLink\" href=\"../../../_theory_nbs_/theory.ipynb\">proveit.numbers.addition</a>"
   ]
  },
  {
   "cell_type": "code",
   "execution_count": 1,
   "metadata": {},
   "outputs": [],
   "source": [
    "import proveit\n",
    "# Automation is not needed when building an expression:\n",
    "proveit.defaults.automation = False # This will speed things up.\n",
    "proveit.defaults.inline_pngs = False # Makes files smaller.\n",
    "%load_expr # Load the stored expression as 'stored_expr'\n",
    "# import Expression classes needed to build the expression\n",
    "from proveit import ExprTuple, a, b, c\n",
    "from proveit.numbers import Add, Mult, one, three, two"
   ]
  },
  {
   "cell_type": "code",
   "execution_count": 2,
   "metadata": {},
   "outputs": [
    {
     "data": {
      "text/html": [
       "<strong id=\"expr\">expr:</strong> <a class=\"ProveItLink\" href=\"expr.ipynb\"><img src=\"expr.png\" style=\"display:inline;vertical-align:middle;\" /></a><br>"
      ],
      "text/plain": [
       "expr: ((2 * a) + (3 * c) + (b + b) + (1 + 2 + 3), (2 * a) + (3 * c) + (2 * b) + (1 + 2 + 3))"
      ]
     },
     "execution_count": 2,
     "metadata": {},
     "output_type": "execute_result"
    }
   ],
   "source": [
    "# build up the expression from sub-expressions\n",
    "sub_expr1 = Mult(two, a)\n",
    "sub_expr2 = Mult(three, c)\n",
    "sub_expr3 = Add(one, two, three)\n",
    "expr = ExprTuple(Add(sub_expr1, sub_expr2, Add(b, b), sub_expr3), Add(sub_expr1, sub_expr2, Mult(two, b), sub_expr3))"
   ]
  },
  {
   "cell_type": "code",
   "execution_count": 3,
   "metadata": {},
   "outputs": [
    {
     "name": "stdout",
     "output_type": "stream",
     "text": [
      "Passed sanity check: expr matches stored_expr\n"
     ]
    }
   ],
   "source": [
    "# check that the built expression is the same as the stored expression\n",
    "assert expr == stored_expr\n",
    "assert expr._style_id == stored_expr._style_id\n",
    "print(\"Passed sanity check: expr matches stored_expr\")"
   ]
  },
  {
   "cell_type": "code",
   "execution_count": 4,
   "metadata": {},
   "outputs": [
    {
     "name": "stdout",
     "output_type": "stream",
     "text": [
      "\\left(\\left(2 \\cdot a\\right) + \\left(3 \\cdot c\\right) + \\left(b + b\\right) + \\left(1 + 2 + 3\\right), \\left(2 \\cdot a\\right) + \\left(3 \\cdot c\\right) + \\left(2 \\cdot b\\right) + \\left(1 + 2 + 3\\right)\\right)\n"
     ]
    }
   ],
   "source": [
    "# Show the LaTeX representation of the expression for convenience if you need it.\n",
    "print(expr.latex())"
   ]
  },
  {
   "cell_type": "code",
   "execution_count": 5,
   "metadata": {},
   "outputs": [
    {
     "data": {
      "text/html": [
       "<table><tr><th>&nbsp;</th><th>core type</th><th>sub-expressions</th><th>expression</th></tr>\n",
       "<tr><td>0</td><td>ExprTuple</td><td>1, 2</td><td><a class=\"ProveItLink\" href=\"expr.ipynb\"><img src=\"expr.png\" style=\"display:inline;vertical-align:middle;\" /></a></td></tr>\n",
       "<tr><td>1</td><td>Operation</td><td>operator:&nbsp;15<br>operands:&nbsp;3<br></td><td><a class=\"ProveItLink\" href=\"../8fba0fd424028a14da3d9d44fe23218e8a4ea0940/expr.ipynb\"><img src=\"../8fba0fd424028a14da3d9d44fe23218e8a4ea0940/expr.png\" style=\"display:inline;vertical-align:middle;\" /></a></td></tr>\n",
       "<tr><td>2</td><td>Operation</td><td>operator:&nbsp;15<br>operands:&nbsp;4<br></td><td><a class=\"ProveItLink\" href=\"../8167e024f45119627ac40d104fab206570f3813f0/expr.ipynb\"><img src=\"../8167e024f45119627ac40d104fab206570f3813f0/expr.png\" style=\"display:inline;vertical-align:middle;\" /></a></td></tr>\n",
       "<tr><td>3</td><td>ExprTuple</td><td>6, 7, 5, 9</td><td><a class=\"ProveItLink\" href=\"../e391140a99aa72861d670053330e356b3621a4f50/expr.ipynb\"><img src=\"../e391140a99aa72861d670053330e356b3621a4f50/expr.png\" style=\"display:inline;vertical-align:middle;\" /></a></td></tr>\n",
       "<tr><td>4</td><td>ExprTuple</td><td>6, 7, 8, 9</td><td><a class=\"ProveItLink\" href=\"../b3f7d14c019cd5ce9670848b9909feb9465c8cba0/expr.ipynb\"><img src=\"../b3f7d14c019cd5ce9670848b9909feb9465c8cba0/expr.png\" style=\"display:inline;vertical-align:middle;\" /></a></td></tr>\n",
       "<tr><td>5</td><td>Operation</td><td>operator:&nbsp;15<br>operands:&nbsp;10<br></td><td><a class=\"ProveItLink\" href=\"../4327161fe9eab46002d03a0db8512f47943f5aa10/expr.ipynb\"><img src=\"../4327161fe9eab46002d03a0db8512f47943f5aa10/expr.png\" style=\"display:inline;vertical-align:middle;\" /></a></td></tr>\n",
       "<tr><td>6</td><td>Operation</td><td>operator:&nbsp;13<br>operands:&nbsp;11<br></td><td><a class=\"ProveItLink\" href=\"../8fa9509761a2426b54b48bbd17e42cd772d1cc710/expr.ipynb\"><img src=\"../8fa9509761a2426b54b48bbd17e42cd772d1cc710/expr.png\" style=\"display:inline;vertical-align:middle;\" /></a></td></tr>\n",
       "<tr><td>7</td><td>Operation</td><td>operator:&nbsp;13<br>operands:&nbsp;12<br></td><td><a class=\"ProveItLink\" href=\"../76f6a8272d671a4ccf2a7f45471276e3262b93e00/expr.ipynb\"><img src=\"../76f6a8272d671a4ccf2a7f45471276e3262b93e00/expr.png\" style=\"display:inline;vertical-align:middle;\" /></a></td></tr>\n",
       "<tr><td>8</td><td>Operation</td><td>operator:&nbsp;13<br>operands:&nbsp;14<br></td><td><a class=\"ProveItLink\" href=\"../b618a54bc0dd4e83d1ee6b3224716c133449af150/expr.ipynb\"><img src=\"../b618a54bc0dd4e83d1ee6b3224716c133449af150/expr.png\" style=\"display:inline;vertical-align:middle;\" /></a></td></tr>\n",
       "<tr><td>9</td><td>Operation</td><td>operator:&nbsp;15<br>operands:&nbsp;16<br></td><td><a class=\"ProveItLink\" href=\"../bf22fc6b36bbb3f85a0eeb236ab53239a0784ecb0/expr.ipynb\"><img src=\"../bf22fc6b36bbb3f85a0eeb236ab53239a0784ecb0/expr.png\" style=\"display:inline;vertical-align:middle;\" /></a></td></tr>\n",
       "<tr><td>10</td><td>ExprTuple</td><td>19, 19</td><td><a class=\"ProveItLink\" href=\"../36883df4fe34709a1af6d1b15e9431f70b7e17ec0/expr.ipynb\"><img src=\"../36883df4fe34709a1af6d1b15e9431f70b7e17ec0/expr.png\" style=\"display:inline;vertical-align:middle;\" /></a></td></tr>\n",
       "<tr><td>11</td><td>ExprTuple</td><td>21, 17</td><td><a class=\"ProveItLink\" href=\"../439adf00e787819721da99e91de5e0d062c394450/expr.ipynb\"><img src=\"../439adf00e787819721da99e91de5e0d062c394450/expr.png\" style=\"display:inline;vertical-align:middle;\" /></a></td></tr>\n",
       "<tr><td>12</td><td>ExprTuple</td><td>22, 18</td><td><a class=\"ProveItLink\" href=\"../7cd76697a49bef1f7761817879b5a19125a3a9820/expr.ipynb\"><img src=\"../7cd76697a49bef1f7761817879b5a19125a3a9820/expr.png\" style=\"display:inline;vertical-align:middle;\" /></a></td></tr>\n",
       "<tr><td>13</td><td>Literal</td><td></td><td><a class=\"ProveItLink\" href=\"../../../../multiplication/__pv_it/common/ed719cef37831779c16481533a4d380a2f95ab270/expr.ipynb\"><img src=\"../../../../multiplication/__pv_it/common/ed719cef37831779c16481533a4d380a2f95ab270/expr.png\" style=\"display:inline;vertical-align:middle;\" /></a></td></tr>\n",
       "<tr><td>14</td><td>ExprTuple</td><td>21, 19</td><td><a class=\"ProveItLink\" href=\"../cf7d7ae5e0788a1ba860aa54321cdf8f12198ac50/expr.ipynb\"><img src=\"../cf7d7ae5e0788a1ba860aa54321cdf8f12198ac50/expr.png\" style=\"display:inline;vertical-align:middle;\" /></a></td></tr>\n",
       "<tr><td>15</td><td>Literal</td><td></td><td><a class=\"ProveItLink\" href=\"../../common/4b7effaab3619a1c2c38fe2dee8601df8ec714590/expr.ipynb\"><img src=\"../../common/4b7effaab3619a1c2c38fe2dee8601df8ec714590/expr.png\" style=\"display:inline;vertical-align:middle;\" /></a></td></tr>\n",
       "<tr><td>16</td><td>ExprTuple</td><td>20, 21, 22</td><td><a class=\"ProveItLink\" href=\"../e4a98eefedbcd1377a50b7701b89dead6c3af4d80/expr.ipynb\"><img src=\"../e4a98eefedbcd1377a50b7701b89dead6c3af4d80/expr.png\" style=\"display:inline;vertical-align:middle;\" /></a></td></tr>\n",
       "<tr><td>17</td><td>Variable</td><td></td><td><a class=\"ProveItLink\" href=\"../../../../../__pv_it/common/c06c606ec12678c58933ac85412ecadc2ae28be60/expr.ipynb\"><img src=\"../../../../../__pv_it/common/c06c606ec12678c58933ac85412ecadc2ae28be60/expr.png\" style=\"display:inline;vertical-align:middle;\" /></a></td></tr>\n",
       "<tr><td>18</td><td>Variable</td><td></td><td><a class=\"ProveItLink\" href=\"../../../../../__pv_it/common/ceef4280a2f1cc604b455b54e735507244cc62cd0/expr.ipynb\"><img src=\"../../../../../__pv_it/common/ceef4280a2f1cc604b455b54e735507244cc62cd0/expr.png\" style=\"display:inline;vertical-align:middle;\" /></a></td></tr>\n",
       "<tr><td>19</td><td>Variable</td><td></td><td><a class=\"ProveItLink\" href=\"../../../../../__pv_it/common/195236b98c6c564a75b5dbada74b173bc52d5c3e0/expr.ipynb\"><img src=\"../../../../../__pv_it/common/195236b98c6c564a75b5dbada74b173bc52d5c3e0/expr.png\" style=\"display:inline;vertical-align:middle;\" /></a></td></tr>\n",
       "<tr><td>20</td><td>Literal</td><td></td><td><a class=\"ProveItLink\" href=\"../../../../numerals/__pv_it/common/2778428c7f555b2bdc06aa0530bc142c6e6335100/expr.ipynb\"><img src=\"../../../../numerals/__pv_it/common/2778428c7f555b2bdc06aa0530bc142c6e6335100/expr.png\" style=\"display:inline;vertical-align:middle;\" /></a></td></tr>\n",
       "<tr><td>21</td><td>Literal</td><td></td><td><a class=\"ProveItLink\" href=\"../../../../numerals/__pv_it/common/ba3b059982e8b49413dc653e957beb11e974e4bc0/expr.ipynb\"><img src=\"../../../../numerals/__pv_it/common/ba3b059982e8b49413dc653e957beb11e974e4bc0/expr.png\" style=\"display:inline;vertical-align:middle;\" /></a></td></tr>\n",
       "<tr><td>22</td><td>Literal</td><td></td><td><a class=\"ProveItLink\" href=\"../../../../numerals/__pv_it/common/0a19a501c0770212f27a044b71e9c626b8ca0bec0/expr.ipynb\"><img src=\"../../../../numerals/__pv_it/common/0a19a501c0770212f27a044b71e9c626b8ca0bec0/expr.png\" style=\"display:inline;vertical-align:middle;\" /></a></td></tr>\n",
       "</table>\n"
      ],
      "text/plain": [
       "0. ((2 * a) + (3 * c) + (b + b) + (1 + 2 + 3), (2 * a) + (3 * c) + (2 * b) + (1 + 2 + 3))\n",
       "   core type: ExprTuple\n",
       "   sub-expressions: 1, 2\n",
       "1. (2 * a) + (3 * c) + (b + b) + (1 + 2 + 3)\n",
       "   core type: Operation\n",
       "   operator: 15\n",
       "   operands: 3\n",
       "2. (2 * a) + (3 * c) + (2 * b) + (1 + 2 + 3)\n",
       "   core type: Operation\n",
       "   operator: 15\n",
       "   operands: 4\n",
       "3. (2 * a, 3 * c, b + b, 1 + 2 + 3)\n",
       "   core type: ExprTuple\n",
       "   sub-expressions: 6, 7, 5, 9\n",
       "4. (2 * a, 3 * c, 2 * b, 1 + 2 + 3)\n",
       "   core type: ExprTuple\n",
       "   sub-expressions: 6, 7, 8, 9\n",
       "5. b + b\n",
       "   core type: Operation\n",
       "   operator: 15\n",
       "   operands: 10\n",
       "6. 2 * a\n",
       "   core type: Operation\n",
       "   operator: 13\n",
       "   operands: 11\n",
       "7. 3 * c\n",
       "   core type: Operation\n",
       "   operator: 13\n",
       "   operands: 12\n",
       "8. 2 * b\n",
       "   core type: Operation\n",
       "   operator: 13\n",
       "   operands: 14\n",
       "9. 1 + 2 + 3\n",
       "   core type: Operation\n",
       "   operator: 15\n",
       "   operands: 16\n",
       "10. (b, b)\n",
       "    core type: ExprTuple\n",
       "    sub-expressions: 19, 19\n",
       "11. (2, a)\n",
       "    core type: ExprTuple\n",
       "    sub-expressions: 21, 17\n",
       "12. (3, c)\n",
       "    core type: ExprTuple\n",
       "    sub-expressions: 22, 18\n",
       "13. *\n",
       "    core type: Literal\n",
       "    sub-expressions: \n",
       "14. (2, b)\n",
       "    core type: ExprTuple\n",
       "    sub-expressions: 21, 19\n",
       "15. +\n",
       "    core type: Literal\n",
       "    sub-expressions: \n",
       "16. (1, 2, 3)\n",
       "    core type: ExprTuple\n",
       "    sub-expressions: 20, 21, 22\n",
       "17. a\n",
       "    core type: Variable\n",
       "    sub-expressions: \n",
       "18. c\n",
       "    core type: Variable\n",
       "    sub-expressions: \n",
       "19. b\n",
       "    core type: Variable\n",
       "    sub-expressions: \n",
       "20. 1\n",
       "    core type: Literal\n",
       "    sub-expressions: \n",
       "21. 2\n",
       "    core type: Literal\n",
       "    sub-expressions: \n",
       "22. 3\n",
       "    core type: Literal\n",
       "    sub-expressions: "
      ]
     },
     "execution_count": 5,
     "metadata": {},
     "output_type": "execute_result"
    }
   ],
   "source": [
    "# display the expression information\n",
    "expr.expr_info()"
   ]
  },
  {
   "cell_type": "code",
   "execution_count": null,
   "metadata": {},
   "outputs": [],
   "source": []
  }
 ],
 "metadata": {
  "kernelspec": {
   "display_name": "Python 3",
   "language": "python",
   "name": "python3"
  }
 },
 "nbformat": 4,
 "nbformat_minor": 0
}