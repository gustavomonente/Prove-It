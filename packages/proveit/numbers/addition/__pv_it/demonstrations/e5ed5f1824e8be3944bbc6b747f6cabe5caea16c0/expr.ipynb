{
 "cells": [
  {
   "cell_type": "markdown",
   "metadata": {},
   "source": [
    "Expression of type <a class=\"ProveItLink\" href=\"../../../../../../../doc/html/api/proveit.logic.Equals.html\">Equals</a>\n",
    "=======================\n",
    "# from the theory of <a class=\"ProveItLink\" href=\"../../../_theory_nbs_/theory.ipynb\">proveit.numbers.addition</a>"
   ]
  },
  {
   "cell_type": "code",
   "execution_count": 1,
   "metadata": {},
   "outputs": [],
   "source": [
    "import proveit\n",
    "# Automation is not needed when building an expression:\n",
    "proveit.defaults.automation = False # This will speed things up.\n",
    "proveit.defaults.inline_pngs = False # Makes files smaller.\n",
    "%load_expr # Load the stored expression as 'stored_expr'\n",
    "# import Expression classes needed to build the expression\n",
    "from proveit import b, c\n",
    "from proveit.logic import Equals\n",
    "from proveit.numbers import Add, Mult, five, three, two"
   ]
  },
  {
   "cell_type": "code",
   "execution_count": 2,
   "metadata": {},
   "outputs": [
    {
     "data": {
      "text/html": [
       "<strong id=\"expr\">expr:</strong> <a class=\"ProveItLink\" href=\"expr.ipynb\"><img src=\"expr.png\" style=\"display:inline;vertical-align:middle;\" /></a><br>"
      ],
      "text/plain": [
       "expr: ((2 * c) + ((3 * b) + (2 * b)) + 2) = ((2 * c) + (5 * b) + 2)"
      ]
     },
     "execution_count": 2,
     "metadata": {},
     "output_type": "execute_result"
    }
   ],
   "source": [
    "# build up the expression from sub-expressions\n",
    "sub_expr1 = Mult(two, c)\n",
    "expr = Equals(Add(sub_expr1, Add(Mult(three, b), Mult(two, b)), two), Add(sub_expr1, Mult(five, b), two))"
   ]
  },
  {
   "cell_type": "code",
   "execution_count": 3,
   "metadata": {},
   "outputs": [
    {
     "name": "stdout",
     "output_type": "stream",
     "text": [
      "Passed sanity check: expr matches stored_expr\n"
     ]
    }
   ],
   "source": [
    "# check that the built expression is the same as the stored expression\n",
    "assert expr == stored_expr\n",
    "assert expr._style_id == stored_expr._style_id\n",
    "print(\"Passed sanity check: expr matches stored_expr\")"
   ]
  },
  {
   "cell_type": "code",
   "execution_count": 4,
   "metadata": {},
   "outputs": [
    {
     "name": "stdout",
     "output_type": "stream",
     "text": [
      "\\left(\\left(2 \\cdot c\\right) + \\left(\\left(3 \\cdot b\\right) + \\left(2 \\cdot b\\right)\\right) + 2\\right) = \\left(\\left(2 \\cdot c\\right) + \\left(5 \\cdot b\\right) + 2\\right)\n"
     ]
    }
   ],
   "source": [
    "# Show the LaTeX representation of the expression for convenience if you need it.\n",
    "print(expr.latex())"
   ]
  },
  {
   "cell_type": "code",
   "execution_count": 5,
   "metadata": {},
   "outputs": [
    {
     "data": {
      "text/html": [
       "<table><tr><th>&nbsp;</th><th>core type</th><th>sub-expressions</th><th>expression</th></tr>\n",
       "<tr><td>0</td><td>Operation</td><td>operator:&nbsp;1<br>operands:&nbsp;2<br></td><td><a class=\"ProveItLink\" href=\"expr.ipynb\"><img src=\"expr.png\" style=\"display:inline;vertical-align:middle;\" /></a></td></tr>\n",
       "<tr><td>1</td><td>Literal</td><td></td><td><a class=\"ProveItLink\" href=\"../../../../../logic/equality/__pv_it/common/fb96dc12b2aa8801dda64d0132b396c63d1502bb0/expr.ipynb\"><img src=\"../../../../../logic/equality/__pv_it/common/fb96dc12b2aa8801dda64d0132b396c63d1502bb0/expr.png\" style=\"display:inline;vertical-align:middle;\" /></a></td></tr>\n",
       "<tr><td>2</td><td>ExprTuple</td><td>3, 4</td><td><a class=\"ProveItLink\" href=\"../f8c03dba47a8c6b0f52ed3abe69ef87ca5c784ae0/expr.ipynb\"><img src=\"../f8c03dba47a8c6b0f52ed3abe69ef87ca5c784ae0/expr.png\" style=\"display:inline;vertical-align:middle;\" /></a></td></tr>\n",
       "<tr><td>3</td><td>Operation</td><td>operator:&nbsp;10<br>operands:&nbsp;5<br></td><td><a class=\"ProveItLink\" href=\"../809f2204b4bbf9137a518e1f77c2b1de7130d17e0/expr.ipynb\"><img src=\"../809f2204b4bbf9137a518e1f77c2b1de7130d17e0/expr.png\" style=\"display:inline;vertical-align:middle;\" /></a></td></tr>\n",
       "<tr><td>4</td><td>Operation</td><td>operator:&nbsp;10<br>operands:&nbsp;6<br></td><td><a class=\"ProveItLink\" href=\"../2ef9727b98082813df5394ad1e7ae3a61ca6f2420/expr.ipynb\"><img src=\"../2ef9727b98082813df5394ad1e7ae3a61ca6f2420/expr.png\" style=\"display:inline;vertical-align:middle;\" /></a></td></tr>\n",
       "<tr><td>5</td><td>ExprTuple</td><td>8, 7, 22</td><td><a class=\"ProveItLink\" href=\"../4515c4db3759ade5f4f43b8cc5fb2279687d91360/expr.ipynb\"><img src=\"../4515c4db3759ade5f4f43b8cc5fb2279687d91360/expr.png\" style=\"display:inline;vertical-align:middle;\" /></a></td></tr>\n",
       "<tr><td>6</td><td>ExprTuple</td><td>8, 9, 22</td><td><a class=\"ProveItLink\" href=\"../be92c6540dd356032301fddd2c9c90b887509a100/expr.ipynb\"><img src=\"../be92c6540dd356032301fddd2c9c90b887509a100/expr.png\" style=\"display:inline;vertical-align:middle;\" /></a></td></tr>\n",
       "<tr><td>7</td><td>Operation</td><td>operator:&nbsp;10<br>operands:&nbsp;11<br></td><td><a class=\"ProveItLink\" href=\"../0dad9f068b454f8848662754a49c48a9c0520b800/expr.ipynb\"><img src=\"../0dad9f068b454f8848662754a49c48a9c0520b800/expr.png\" style=\"display:inline;vertical-align:middle;\" /></a></td></tr>\n",
       "<tr><td>8</td><td>Operation</td><td>operator:&nbsp;19<br>operands:&nbsp;12<br></td><td><a class=\"ProveItLink\" href=\"../d6171420b92e2c4a619b35bae4fc15c8c3096df50/expr.ipynb\"><img src=\"../d6171420b92e2c4a619b35bae4fc15c8c3096df50/expr.png\" style=\"display:inline;vertical-align:middle;\" /></a></td></tr>\n",
       "<tr><td>9</td><td>Operation</td><td>operator:&nbsp;19<br>operands:&nbsp;13<br></td><td><a class=\"ProveItLink\" href=\"../1dc8d07a4e6894ce2b7ce6d62170878429170b120/expr.ipynb\"><img src=\"../1dc8d07a4e6894ce2b7ce6d62170878429170b120/expr.png\" style=\"display:inline;vertical-align:middle;\" /></a></td></tr>\n",
       "<tr><td>10</td><td>Literal</td><td></td><td><a class=\"ProveItLink\" href=\"../../common/4b7effaab3619a1c2c38fe2dee8601df8ec714590/expr.ipynb\"><img src=\"../../common/4b7effaab3619a1c2c38fe2dee8601df8ec714590/expr.png\" style=\"display:inline;vertical-align:middle;\" /></a></td></tr>\n",
       "<tr><td>11</td><td>ExprTuple</td><td>14, 15</td><td><a class=\"ProveItLink\" href=\"../0a3389f5d3bd2a89e655edc9c23be6f8c73345fa0/expr.ipynb\"><img src=\"../0a3389f5d3bd2a89e655edc9c23be6f8c73345fa0/expr.png\" style=\"display:inline;vertical-align:middle;\" /></a></td></tr>\n",
       "<tr><td>12</td><td>ExprTuple</td><td>22, 16</td><td><a class=\"ProveItLink\" href=\"../dc6351145ace52c910fea24a7ae2d6361159c4750/expr.ipynb\"><img src=\"../dc6351145ace52c910fea24a7ae2d6361159c4750/expr.png\" style=\"display:inline;vertical-align:middle;\" /></a></td></tr>\n",
       "<tr><td>13</td><td>ExprTuple</td><td>17, 23</td><td><a class=\"ProveItLink\" href=\"../77ac9f06baaa6caf21dff21806271d40594508950/expr.ipynb\"><img src=\"../77ac9f06baaa6caf21dff21806271d40594508950/expr.png\" style=\"display:inline;vertical-align:middle;\" /></a></td></tr>\n",
       "<tr><td>14</td><td>Operation</td><td>operator:&nbsp;19<br>operands:&nbsp;18<br></td><td><a class=\"ProveItLink\" href=\"../73234887d4e44a39bc34da66497751f3da7cf0b30/expr.ipynb\"><img src=\"../73234887d4e44a39bc34da66497751f3da7cf0b30/expr.png\" style=\"display:inline;vertical-align:middle;\" /></a></td></tr>\n",
       "<tr><td>15</td><td>Operation</td><td>operator:&nbsp;19<br>operands:&nbsp;20<br></td><td><a class=\"ProveItLink\" href=\"../b618a54bc0dd4e83d1ee6b3224716c133449af150/expr.ipynb\"><img src=\"../b618a54bc0dd4e83d1ee6b3224716c133449af150/expr.png\" style=\"display:inline;vertical-align:middle;\" /></a></td></tr>\n",
       "<tr><td>16</td><td>Variable</td><td></td><td><a class=\"ProveItLink\" href=\"../../../../../__pv_it/common/ceef4280a2f1cc604b455b54e735507244cc62cd0/expr.ipynb\"><img src=\"../../../../../__pv_it/common/ceef4280a2f1cc604b455b54e735507244cc62cd0/expr.png\" style=\"display:inline;vertical-align:middle;\" /></a></td></tr>\n",
       "<tr><td>17</td><td>Literal</td><td></td><td><a class=\"ProveItLink\" href=\"../../../../numerals/__pv_it/common/22be4c1fb377b3840c975e8e14bb0ce0d20bb1d90/expr.ipynb\"><img src=\"../../../../numerals/__pv_it/common/22be4c1fb377b3840c975e8e14bb0ce0d20bb1d90/expr.png\" style=\"display:inline;vertical-align:middle;\" /></a></td></tr>\n",
       "<tr><td>18</td><td>ExprTuple</td><td>21, 23</td><td><a class=\"ProveItLink\" href=\"../ca3043c96bbae8b85b08695f75516bcbceffdbbd0/expr.ipynb\"><img src=\"../ca3043c96bbae8b85b08695f75516bcbceffdbbd0/expr.png\" style=\"display:inline;vertical-align:middle;\" /></a></td></tr>\n",
       "<tr><td>19</td><td>Literal</td><td></td><td><a class=\"ProveItLink\" href=\"../../../../multiplication/__pv_it/common/ed719cef37831779c16481533a4d380a2f95ab270/expr.ipynb\"><img src=\"../../../../multiplication/__pv_it/common/ed719cef37831779c16481533a4d380a2f95ab270/expr.png\" style=\"display:inline;vertical-align:middle;\" /></a></td></tr>\n",
       "<tr><td>20</td><td>ExprTuple</td><td>22, 23</td><td><a class=\"ProveItLink\" href=\"../cf7d7ae5e0788a1ba860aa54321cdf8f12198ac50/expr.ipynb\"><img src=\"../cf7d7ae5e0788a1ba860aa54321cdf8f12198ac50/expr.png\" style=\"display:inline;vertical-align:middle;\" /></a></td></tr>\n",
       "<tr><td>21</td><td>Literal</td><td></td><td><a class=\"ProveItLink\" href=\"../../../../numerals/__pv_it/common/0a19a501c0770212f27a044b71e9c626b8ca0bec0/expr.ipynb\"><img src=\"../../../../numerals/__pv_it/common/0a19a501c0770212f27a044b71e9c626b8ca0bec0/expr.png\" style=\"display:inline;vertical-align:middle;\" /></a></td></tr>\n",
       "<tr><td>22</td><td>Literal</td><td></td><td><a class=\"ProveItLink\" href=\"../../../../numerals/__pv_it/common/ba3b059982e8b49413dc653e957beb11e974e4bc0/expr.ipynb\"><img src=\"../../../../numerals/__pv_it/common/ba3b059982e8b49413dc653e957beb11e974e4bc0/expr.png\" style=\"display:inline;vertical-align:middle;\" /></a></td></tr>\n",
       "<tr><td>23</td><td>Variable</td><td></td><td><a class=\"ProveItLink\" href=\"../../../../../__pv_it/common/195236b98c6c564a75b5dbada74b173bc52d5c3e0/expr.ipynb\"><img src=\"../../../../../__pv_it/common/195236b98c6c564a75b5dbada74b173bc52d5c3e0/expr.png\" style=\"display:inline;vertical-align:middle;\" /></a></td></tr>\n",
       "</table>\n"
      ],
      "text/plain": [
       "0. ((2 * c) + ((3 * b) + (2 * b)) + 2) = ((2 * c) + (5 * b) + 2)\n",
       "   core type: Operation\n",
       "   operator: 1\n",
       "   operands: 2\n",
       "1. =\n",
       "   core type: Literal\n",
       "   sub-expressions: \n",
       "2. ((2 * c) + ((3 * b) + (2 * b)) + 2, (2 * c) + (5 * b) + 2)\n",
       "   core type: ExprTuple\n",
       "   sub-expressions: 3, 4\n",
       "3. (2 * c) + ((3 * b) + (2 * b)) + 2\n",
       "   core type: Operation\n",
       "   operator: 10\n",
       "   operands: 5\n",
       "4. (2 * c) + (5 * b) + 2\n",
       "   core type: Operation\n",
       "   operator: 10\n",
       "   operands: 6\n",
       "5. (2 * c, (3 * b) + (2 * b), 2)\n",
       "   core type: ExprTuple\n",
       "   sub-expressions: 8, 7, 22\n",
       "6. (2 * c, 5 * b, 2)\n",
       "   core type: ExprTuple\n",
       "   sub-expressions: 8, 9, 22\n",
       "7. (3 * b) + (2 * b)\n",
       "   core type: Operation\n",
       "   operator: 10\n",
       "   operands: 11\n",
       "8. 2 * c\n",
       "   core type: Operation\n",
       "   operator: 19\n",
       "   operands: 12\n",
       "9. 5 * b\n",
       "   core type: Operation\n",
       "   operator: 19\n",
       "   operands: 13\n",
       "10. +\n",
       "    core type: Literal\n",
       "    sub-expressions: \n",
       "11. (3 * b, 2 * b)\n",
       "    core type: ExprTuple\n",
       "    sub-expressions: 14, 15\n",
       "12. (2, c)\n",
       "    core type: ExprTuple\n",
       "    sub-expressions: 22, 16\n",
       "13. (5, b)\n",
       "    core type: ExprTuple\n",
       "    sub-expressions: 17, 23\n",
       "14. 3 * b\n",
       "    core type: Operation\n",
       "    operator: 19\n",
       "    operands: 18\n",
       "15. 2 * b\n",
       "    core type: Operation\n",
       "    operator: 19\n",
       "    operands: 20\n",
       "16. c\n",
       "    core type: Variable\n",
       "    sub-expressions: \n",
       "17. 5\n",
       "    core type: Literal\n",
       "    sub-expressions: \n",
       "18. (3, b)\n",
       "    core type: ExprTuple\n",
       "    sub-expressions: 21, 23\n",
       "19. *\n",
       "    core type: Literal\n",
       "    sub-expressions: \n",
       "20. (2, b)\n",
       "    core type: ExprTuple\n",
       "    sub-expressions: 22, 23\n",
       "21. 3\n",
       "    core type: Literal\n",
       "    sub-expressions: \n",
       "22. 2\n",
       "    core type: Literal\n",
       "    sub-expressions: \n",
       "23. b\n",
       "    core type: Variable\n",
       "    sub-expressions: "
      ]
     },
     "execution_count": 5,
     "metadata": {},
     "output_type": "execute_result"
    }
   ],
   "source": [
    "# display the expression information\n",
    "expr.expr_info()"
   ]
  },
  {
   "cell_type": "code",
   "execution_count": null,
   "metadata": {},
   "outputs": [],
   "source": []
  }
 ],
 "metadata": {
  "kernelspec": {
   "display_name": "Python 3",
   "language": "python",
   "name": "python3"
  }
 },
 "nbformat": 4,
 "nbformat_minor": 0
}