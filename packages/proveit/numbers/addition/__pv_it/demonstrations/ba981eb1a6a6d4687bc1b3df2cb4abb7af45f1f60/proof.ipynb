{
 "cells": [
  {
   "cell_type": "markdown",
   "metadata": {},
   "source": [
    "Show the Proof\n",
    "========"
   ]
  },
  {
   "cell_type": "code",
   "execution_count": 1,
   "metadata": {},
   "outputs": [
    {
     "data": {
      "text/html": [
       "<table><tr><th>&nbsp;</th><th>step type</th><th>requirements</th><th>statement</th></tr>\n",
       "<tr><td><a name=\"proveit.numbers.addition.demonstrations.ba981eb1a6a6d4687bc1b3df2cb4abb7af45f1f60_step0\">0</a></td><td>instantiation</td><td><a href=\"#proveit.numbers.addition.demonstrations.ba981eb1a6a6d4687bc1b3df2cb4abb7af45f1f60_step1\">1</a>, <a href=\"#proveit.numbers.addition.demonstrations.ba981eb1a6a6d4687bc1b3df2cb4abb7af45f1f60_step2\">2</a></td><td><span style=\"font-size:20px;\"><a class=\"ProveItLink\" href=\"../../../../multiplication/__pv_it/theorems/4e3ba36cfd1ec2482c9c2c225a01b2c9b4c973080/expr.ipynb\"><img src=\"../../../../multiplication/__pv_it/theorems/4e3ba36cfd1ec2482c9c2c225a01b2c9b4c973080/expr.png\" style=\"display:inline;vertical-align:middle;\" /></a> <a class=\"ProveItLink\" href=\"proof.ipynb\" style=\"text-decoration: none\">&nbsp;&#x22A2;&nbsp;&nbsp;</a><a class=\"ProveItLink\" href=\"../871dcf11950d51887b4a5f4b4f68c457c6c9e4eb0/expr.ipynb\"><img src=\"../871dcf11950d51887b4a5f4b4f68c457c6c9e4eb0/expr.png\" style=\"display:inline;vertical-align:middle;\" /></a></span></td></tr>\n",
       "<tr><td>&nbsp;</td><td colspan=4 style=\"text-align:left\"><span style=\"font-size:20px;\"><a class=\"ProveItLink\" href=\"../../../../../__pv_it/common/a2581dc5df71d9a30bad37de14965fa5fec97a240/expr.ipynb\"><img src=\"../../../../../__pv_it/common/a2581dc5df71d9a30bad37de14965fa5fec97a240/expr.png\" style=\"display:inline;vertical-align:middle;\" /></a> : <a class=\"ProveItLink\" href=\"../../../../../__pv_it/common/4a5db8cc5c67969ec864bd3ea598be37cb6f5e550/expr.ipynb\"><img src=\"../../../../../__pv_it/common/4a5db8cc5c67969ec864bd3ea598be37cb6f5e550/expr.png\" style=\"display:inline;vertical-align:middle;\" /></a></span></td></tr><tr><td><a name=\"proveit.numbers.addition.demonstrations.ba981eb1a6a6d4687bc1b3df2cb4abb7af45f1f60_step1\">1</a></td><td>theorem</td><td></td><td><span style=\"font-size:20px;\"> <a class=\"ProveItLink\" href=\"../../../../multiplication/_theory_nbs_/proofs/elim_one_left/thm_proof.ipynb\" style=\"text-decoration: none\">&nbsp;&#x22A2;&nbsp;&nbsp;</a><a class=\"ProveItLink\" href=\"../../../../multiplication/__pv_it/theorems/477c607583218dca25309574080588f853e78d3f0/expr.ipynb\"><img src=\"../../../../multiplication/__pv_it/theorems/477c607583218dca25309574080588f853e78d3f0/expr.png\" style=\"display:inline;vertical-align:middle;\" /></a></span></td></tr>\n",
       "<tr><td>&nbsp;</td><td colspan=4 style-\"text-align:left\"><a class=\"ProveItLink\" href=\"../../../../multiplication/_theory_nbs_/proofs/elim_one_left/thm_proof.ipynb\">proveit.numbers.multiplication.elim_one_left</a></td></tr><tr><td><a name=\"proveit.numbers.addition.demonstrations.ba981eb1a6a6d4687bc1b3df2cb4abb7af45f1f60_step2\">2</a></td><td>instantiation</td><td><a href=\"#proveit.numbers.addition.demonstrations.ba981eb1a6a6d4687bc1b3df2cb4abb7af45f1f60_step3\">3</a>, <a href=\"#proveit.numbers.addition.demonstrations.ba981eb1a6a6d4687bc1b3df2cb4abb7af45f1f60_step4\">4</a>, <a href=\"#proveit.numbers.addition.demonstrations.ba981eb1a6a6d4687bc1b3df2cb4abb7af45f1f60_step5\">5</a></td><td><span style=\"font-size:20px;\"><a class=\"ProveItLink\" href=\"../../../../multiplication/__pv_it/theorems/4e3ba36cfd1ec2482c9c2c225a01b2c9b4c973080/expr.ipynb\"><img src=\"../../../../multiplication/__pv_it/theorems/4e3ba36cfd1ec2482c9c2c225a01b2c9b4c973080/expr.png\" style=\"display:inline;vertical-align:middle;\" /></a> <a class=\"ProveItLink\" href=\"../226a3d9b279768806b9e36da5057d5c7da5dcd5e0/proof.ipynb\" style=\"text-decoration: none\">&nbsp;&#x22A2;&nbsp;&nbsp;</a><a class=\"ProveItLink\" href=\"../fe4de3ff0419f38c3d25379035ba812df4fead870/expr.ipynb\"><img src=\"../fe4de3ff0419f38c3d25379035ba812df4fead870/expr.png\" style=\"display:inline;vertical-align:middle;\" /></a></span></td></tr>\n",
       "<tr><td>&nbsp;</td><td colspan=4 style=\"text-align:left\"><span style=\"font-size:20px;\"><a class=\"ProveItLink\" href=\"../../../../../__pv_it/common/e4aad701f7f5516d8e7f0d805d518bf02c13322a0/expr.ipynb\"><img src=\"../../../../../__pv_it/common/e4aad701f7f5516d8e7f0d805d518bf02c13322a0/expr.png\" style=\"display:inline;vertical-align:middle;\" /></a> : <a class=\"ProveItLink\" href=\"../../../../number_sets/real_numbers/__pv_it/common/3eaf53c11933bb30b35e82c24807c695de530cf10/expr.ipynb\"><img src=\"../../../../number_sets/real_numbers/__pv_it/common/3eaf53c11933bb30b35e82c24807c695de530cf10/expr.png\" style=\"display:inline;vertical-align:middle;\" /></a>, <a class=\"ProveItLink\" href=\"../../../../../__pv_it/common/4eca3b30dcf58a58494e201d1b7886d8643a617b0/expr.ipynb\"><img src=\"../../../../../__pv_it/common/4eca3b30dcf58a58494e201d1b7886d8643a617b0/expr.png\" style=\"display:inline;vertical-align:middle;\" /></a> : <a class=\"ProveItLink\" href=\"../../../../number_sets/complex_numbers/__pv_it/common/fbfabc61f6f66350b130e5a55a72b80825c065f90/expr.ipynb\"><img src=\"../../../../number_sets/complex_numbers/__pv_it/common/fbfabc61f6f66350b130e5a55a72b80825c065f90/expr.png\" style=\"display:inline;vertical-align:middle;\" /></a>, <a class=\"ProveItLink\" href=\"../../../../../__pv_it/common/a2581dc5df71d9a30bad37de14965fa5fec97a240/expr.ipynb\"><img src=\"../../../../../__pv_it/common/a2581dc5df71d9a30bad37de14965fa5fec97a240/expr.png\" style=\"display:inline;vertical-align:middle;\" /></a> : <a class=\"ProveItLink\" href=\"../../../../../__pv_it/common/4a5db8cc5c67969ec864bd3ea598be37cb6f5e550/expr.ipynb\"><img src=\"../../../../../__pv_it/common/4a5db8cc5c67969ec864bd3ea598be37cb6f5e550/expr.png\" style=\"display:inline;vertical-align:middle;\" /></a></span></td></tr><tr><td><a name=\"proveit.numbers.addition.demonstrations.ba981eb1a6a6d4687bc1b3df2cb4abb7af45f1f60_step3\">3</a></td><td>theorem</td><td></td><td><span style=\"font-size:20px;\"> <a class=\"ProveItLink\" href=\"../../../../../logic/sets/inclusion/_theory_nbs_/proofs/superset_membership_from_proper_subset/thm_proof.ipynb\" style=\"text-decoration: none\">&nbsp;&#x22A2;&nbsp;&nbsp;</a><a class=\"ProveItLink\" href=\"../../../../../logic/sets/inclusion/__pv_it/theorems/2bd5812116805831135f1a949ae0e425f21169040/expr.ipynb\"><img src=\"../../../../../logic/sets/inclusion/__pv_it/theorems/2bd5812116805831135f1a949ae0e425f21169040/expr.png\" style=\"display:inline;vertical-align:middle;\" /></a></span></td></tr>\n",
       "<tr><td>&nbsp;</td><td colspan=4 style-\"text-align:left\"><a class=\"ProveItLink\" href=\"../../../../../logic/sets/inclusion/_theory_nbs_/proofs/superset_membership_from_proper_subset/thm_proof.ipynb\">proveit.logic.sets.inclusion.superset_membership_from_proper_subset</a></td></tr><tr><td><a name=\"proveit.numbers.addition.demonstrations.ba981eb1a6a6d4687bc1b3df2cb4abb7af45f1f60_step4\">4</a></td><td>theorem</td><td></td><td><span style=\"font-size:20px;\"> <a class=\"ProveItLink\" href=\"../../../../number_sets/complex_numbers/_theory_nbs_/proofs/real_within_complex/thm_proof.ipynb\" style=\"text-decoration: none\">&nbsp;&#x22A2;&nbsp;&nbsp;</a><a class=\"ProveItLink\" href=\"../../../../number_sets/complex_numbers/__pv_it/theorems/386e88cbf0fbcb095235f30f44b7c344a8a5a9bc0/expr.ipynb\"><img src=\"../../../../number_sets/complex_numbers/__pv_it/theorems/386e88cbf0fbcb095235f30f44b7c344a8a5a9bc0/expr.png\" style=\"display:inline;vertical-align:middle;\" /></a></span></td></tr>\n",
       "<tr><td>&nbsp;</td><td colspan=4 style-\"text-align:left\"><a class=\"ProveItLink\" href=\"../../../../number_sets/complex_numbers/_theory_nbs_/proofs/real_within_complex/thm_proof.ipynb\">proveit.numbers.number_sets.complex_numbers.real_within_complex</a></td></tr><tr><td><a name=\"proveit.numbers.addition.demonstrations.ba981eb1a6a6d4687bc1b3df2cb4abb7af45f1f60_step5\">5</a></td><td>assumption</td><td></td><td><span style=\"font-size:20px;\"><a class=\"ProveItLink\" href=\"../../../../multiplication/__pv_it/theorems/4e3ba36cfd1ec2482c9c2c225a01b2c9b4c973080/expr.ipynb\"><img src=\"../../../../multiplication/__pv_it/theorems/4e3ba36cfd1ec2482c9c2c225a01b2c9b4c973080/expr.png\" style=\"display:inline;vertical-align:middle;\" /></a> <a class=\"ProveItLink\" href=\"../3cd1ef304c8d53899027618dfdc0fb33134c1d2d0/proof.ipynb\" style=\"text-decoration: none\">&nbsp;&#x22A2;&nbsp;&nbsp;</a><a class=\"ProveItLink\" href=\"../../../../multiplication/__pv_it/theorems/4e3ba36cfd1ec2482c9c2c225a01b2c9b4c973080/expr.ipynb\"><img src=\"../../../../multiplication/__pv_it/theorems/4e3ba36cfd1ec2482c9c2c225a01b2c9b4c973080/expr.png\" style=\"display:inline;vertical-align:middle;\" /></a></span></td></tr>\n",
       "</table>"
      ],
      "text/plain": [
       "<proveit._core_.proof._ShowProof at 0x7f5c81b58e10>"
      ]
     },
     "execution_count": 1,
     "metadata": {},
     "output_type": "execute_result"
    }
   ],
   "source": [
    "import proveit\n",
    "# Automation is not needed when only showing a stored proof:\n",
    "proveit.defaults.automation = False # This will speed things up.\n",
    "proveit.defaults.inline_pngs = False # Makes files smaller.\n",
    "%show_proof"
   ]
  },
  {
   "cell_type": "code",
   "execution_count": null,
   "metadata": {},
   "outputs": [],
   "source": []
  }
 ],
 "metadata": {
  "kernelspec": {
   "display_name": "Python 3",
   "language": "python",
   "name": "python3"
  },
  "language_info": {
   "codemirror_mode": {
    "name": "ipython",
    "version": 3
   },
   "file_extension": ".py",
   "mimetype": "text/x-python",
   "name": "python",
   "nbconvert_exporter": "python",
   "pygments_lexer": "ipython3",
   "version": "3.7.3"
  }
 },
 "nbformat": 4,
 "nbformat_minor": 1
}