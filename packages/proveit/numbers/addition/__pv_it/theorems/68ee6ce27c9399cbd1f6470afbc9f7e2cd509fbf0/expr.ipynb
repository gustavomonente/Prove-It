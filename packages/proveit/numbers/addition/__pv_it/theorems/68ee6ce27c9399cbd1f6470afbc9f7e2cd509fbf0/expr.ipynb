{
 "cells": [
  {
   "cell_type": "markdown",
   "metadata": {},
   "source": [
    "Expression of type <a class=\"ProveItLink\" href=\"../../../../../../../doc/html/api/proveit.Lambda.html\">Lambda</a>\n",
    "=======================\n",
    "# from the theory of <a class=\"ProveItLink\" href=\"../../../_theory_nbs_/theory.ipynb\">proveit.numbers.addition</a>"
   ]
  },
  {
   "cell_type": "code",
   "execution_count": 1,
   "metadata": {},
   "outputs": [],
   "source": [
    "import proveit\n",
    "# Automation is not needed when building an expression:\n",
    "proveit.defaults.automation = False # This will speed things up.\n",
    "proveit.defaults.inline_pngs = False # Makes files smaller.\n",
    "%load_expr # Load the stored expression as 'stored_expr'\n",
    "# import Expression classes needed to build the expression\n",
    "from proveit import Conditional, ExprRange, IndexedVar, Lambda, Variable, a, i\n",
    "from proveit.core_expr_types import a_1_to_i\n",
    "from proveit.logic import And, InSet\n",
    "from proveit.numbers import Add, RealPos, one"
   ]
  },
  {
   "cell_type": "code",
   "execution_count": 2,
   "metadata": {},
   "outputs": [
    {
     "data": {
      "text/html": [
       "<strong id=\"expr\">expr:</strong> <a class=\"ProveItLink\" href=\"expr.ipynb\"><img src=\"expr.png\" style=\"display:inline;vertical-align:middle;\" /></a><br>"
      ],
      "text/plain": [
       "expr: (a_{1}, ..a_{_a}.., a_{i}) -> {(a_{1} + ..a_{_a}.. + a_{i}) in RealPos if (a_{1} in RealPos) and ..(a_{_a} in RealPos).. and (a_{i} in RealPos)."
      ]
     },
     "execution_count": 2,
     "metadata": {},
     "output_type": "execute_result"
    }
   ],
   "source": [
    "# build up the expression from sub-expressions\n",
    "sub_expr1 = Variable(\"_a\", latex_format = r\"{_{-}a}\")\n",
    "expr = Lambda([a_1_to_i], Conditional(InSet(Add(a_1_to_i), RealPos), And(ExprRange(sub_expr1, InSet(IndexedVar(a, sub_expr1), RealPos), one, i))))"
   ]
  },
  {
   "cell_type": "code",
   "execution_count": 3,
   "metadata": {},
   "outputs": [
    {
     "name": "stdout",
     "output_type": "stream",
     "text": [
      "Passed sanity check: expr matches stored_expr\n"
     ]
    }
   ],
   "source": [
    "# check that the built expression is the same as the stored expression\n",
    "assert expr == stored_expr\n",
    "assert expr._style_id == stored_expr._style_id\n",
    "print(\"Passed sanity check: expr matches stored_expr\")"
   ]
  },
  {
   "cell_type": "code",
   "execution_count": 4,
   "metadata": {},
   "outputs": [
    {
     "name": "stdout",
     "output_type": "stream",
     "text": [
      "\\left(a_{1}, \\ldots, a_{i}\\right) \\mapsto \\left\\{\\left(a_{1} + \\ldots + a_{i}\\right) \\in \\mathbb{R}^+ \\textrm{ if } \\left(a_{1} \\in \\mathbb{R}^+\\right) \\land \\ldots \\land \\left(a_{i} \\in \\mathbb{R}^+\\right)\\right..\n"
     ]
    }
   ],
   "source": [
    "# Show the LaTeX representation of the expression for convenience if you need it.\n",
    "print(expr.latex())"
   ]
  },
  {
   "cell_type": "code",
   "execution_count": 5,
   "metadata": {},
   "outputs": [
    {
     "data": {
      "text/html": [
       "no style options"
      ],
      "text/plain": [
       "no style options"
      ]
     },
     "execution_count": 5,
     "metadata": {},
     "output_type": "execute_result"
    }
   ],
   "source": [
    "expr.style_options()"
   ]
  },
  {
   "cell_type": "code",
   "execution_count": 6,
   "metadata": {},
   "outputs": [
    {
     "data": {
      "text/html": [
       "<table><tr><th>&nbsp;</th><th>core type</th><th>sub-expressions</th><th>expression</th></tr>\n",
       "<tr><td>0</td><td>Lambda</td><td>parameters:&nbsp;10<br>body:&nbsp;1<br></td><td><a class=\"ProveItLink\" href=\"expr.ipynb\"><img src=\"expr.png\" style=\"display:inline;vertical-align:middle;\" /></a></td></tr>\n",
       "<tr><td>1</td><td>Conditional</td><td>value:&nbsp;2<br>condition:&nbsp;3<br></td><td><a class=\"ProveItLink\" href=\"../0ee857f7b27dc68acfcf77d318eb5d31226b4e430/expr.ipynb\"><img src=\"../0ee857f7b27dc68acfcf77d318eb5d31226b4e430/expr.png\" style=\"display:inline;vertical-align:middle;\" /></a></td></tr>\n",
       "<tr><td>2</td><td>Operation</td><td>operator:&nbsp;17<br>operands:&nbsp;4<br></td><td><a class=\"ProveItLink\" href=\"../581ec5b72815e6dfa38cfdfa1581fbdadcf903180/expr.ipynb\"><img src=\"../581ec5b72815e6dfa38cfdfa1581fbdadcf903180/expr.png\" style=\"display:inline;vertical-align:middle;\" /></a></td></tr>\n",
       "<tr><td>3</td><td>Operation</td><td>operator:&nbsp;5<br>operands:&nbsp;6<br></td><td><a class=\"ProveItLink\" href=\"../c9f3529a395deaac5b589e1637552102bbc30b890/expr.ipynb\"><img src=\"../c9f3529a395deaac5b589e1637552102bbc30b890/expr.png\" style=\"display:inline;vertical-align:middle;\" /></a></td></tr>\n",
       "<tr><td>4</td><td>ExprTuple</td><td>7, 20</td><td><a class=\"ProveItLink\" href=\"../a5da9cf92da0b97ec0533678e62a1a90ef1431ee0/expr.ipynb\"><img src=\"../a5da9cf92da0b97ec0533678e62a1a90ef1431ee0/expr.png\" style=\"display:inline;vertical-align:middle;\" /></a></td></tr>\n",
       "<tr><td>5</td><td>Literal</td><td></td><td><a class=\"ProveItLink\" href=\"../../../../../logic/booleans/conjunction/__pv_it/common/26b94b53e70b1d77b70f0d9d4236347db37731060/expr.ipynb\"><img src=\"../../../../../logic/booleans/conjunction/__pv_it/common/26b94b53e70b1d77b70f0d9d4236347db37731060/expr.png\" style=\"display:inline;vertical-align:middle;\" /></a></td></tr>\n",
       "<tr><td>6</td><td>ExprTuple</td><td>8</td><td><a class=\"ProveItLink\" href=\"../c3690b6f2350eb0b317988b6b712e560bef3c6470/expr.ipynb\"><img src=\"../c3690b6f2350eb0b317988b6b712e560bef3c6470/expr.png\" style=\"display:inline;vertical-align:middle;\" /></a></td></tr>\n",
       "<tr><td>7</td><td>Operation</td><td>operator:&nbsp;9<br>operands:&nbsp;10<br></td><td><a class=\"ProveItLink\" href=\"../777cb67a144139ff40afd6fe35c8c992b1cae32f0/expr.ipynb\"><img src=\"../777cb67a144139ff40afd6fe35c8c992b1cae32f0/expr.png\" style=\"display:inline;vertical-align:middle;\" /></a></td></tr>\n",
       "<tr><td>8</td><td>ExprRange</td><td>lambda_map:&nbsp;11<br>start_index:&nbsp;15<br>end_index:&nbsp;16<br></td><td><a class=\"ProveItLink\" href=\"../be850e5bda846a60400aa0a1c121115bc96093570/expr.ipynb\"><img src=\"../be850e5bda846a60400aa0a1c121115bc96093570/expr.png\" style=\"display:inline;vertical-align:middle;\" /></a></td></tr>\n",
       "<tr><td>9</td><td>Literal</td><td></td><td><a class=\"ProveItLink\" href=\"../../common/1f38fe5cce441387feef296e2c0a2eac260bb4f30/expr.ipynb\"><img src=\"../../common/1f38fe5cce441387feef296e2c0a2eac260bb4f30/expr.png\" style=\"display:inline;vertical-align:middle;\" /></a></td></tr>\n",
       "<tr><td>10</td><td>ExprTuple</td><td>12</td><td><a class=\"ProveItLink\" href=\"../a3b302517b8fc1133cb007ad1965347bc1418e000/expr.ipynb\"><img src=\"../a3b302517b8fc1133cb007ad1965347bc1418e000/expr.png\" style=\"display:inline;vertical-align:middle;\" /></a></td></tr>\n",
       "<tr><td>11</td><td>Lambda</td><td>parameter:&nbsp;23<br>body:&nbsp;13<br></td><td><a class=\"ProveItLink\" href=\"../7661eb38c2a708697541e9e07f09df9dfae507e00/expr.ipynb\"><img src=\"../7661eb38c2a708697541e9e07f09df9dfae507e00/expr.png\" style=\"display:inline;vertical-align:middle;\" /></a></td></tr>\n",
       "<tr><td>12</td><td>ExprRange</td><td>lambda_map:&nbsp;14<br>start_index:&nbsp;15<br>end_index:&nbsp;16<br></td><td><a class=\"ProveItLink\" href=\"../../../../../core_expr_types/__pv_it/common/a8faf3b27fe552f144fda91135c3a6148ee990d00/expr.ipynb\"><img src=\"../../../../../core_expr_types/__pv_it/common/a8faf3b27fe552f144fda91135c3a6148ee990d00/expr.png\" style=\"display:inline;vertical-align:middle;\" /></a></td></tr>\n",
       "<tr><td>13</td><td>Operation</td><td>operator:&nbsp;17<br>operands:&nbsp;18<br></td><td><a class=\"ProveItLink\" href=\"../89109a4a4b9e066d0cbf3aefae4df86b5e66adfb0/expr.ipynb\"><img src=\"../89109a4a4b9e066d0cbf3aefae4df86b5e66adfb0/expr.png\" style=\"display:inline;vertical-align:middle;\" /></a></td></tr>\n",
       "<tr><td>14</td><td>Lambda</td><td>parameter:&nbsp;23<br>body:&nbsp;19<br></td><td><a class=\"ProveItLink\" href=\"../../../../../core_expr_types/__pv_it/common/99ea59f1b92e70eddeee736182b1abeb9f49c91b0/expr.ipynb\"><img src=\"../../../../../core_expr_types/__pv_it/common/99ea59f1b92e70eddeee736182b1abeb9f49c91b0/expr.png\" style=\"display:inline;vertical-align:middle;\" /></a></td></tr>\n",
       "<tr><td>15</td><td>Literal</td><td></td><td><a class=\"ProveItLink\" href=\"../../../../numerals/__pv_it/common/d278e359da0695d9652dd541d45264f93703e2e40/expr.ipynb\"><img src=\"../../../../numerals/__pv_it/common/d278e359da0695d9652dd541d45264f93703e2e40/expr.png\" style=\"display:inline;vertical-align:middle;\" /></a></td></tr>\n",
       "<tr><td>16</td><td>Variable</td><td></td><td><a class=\"ProveItLink\" href=\"../../../../../__pv_it/common/575a6156bb1c87c5beeaf38c302b5905ad57f5780/expr.ipynb\"><img src=\"../../../../../__pv_it/common/575a6156bb1c87c5beeaf38c302b5905ad57f5780/expr.png\" style=\"display:inline;vertical-align:middle;\" /></a></td></tr>\n",
       "<tr><td>17</td><td>Literal</td><td></td><td><a class=\"ProveItLink\" href=\"../../../../../logic/sets/membership/__pv_it/common/7171deca84f71f47a6ec7696972d1632274a12880/expr.ipynb\"><img src=\"../../../../../logic/sets/membership/__pv_it/common/7171deca84f71f47a6ec7696972d1632274a12880/expr.png\" style=\"display:inline;vertical-align:middle;\" /></a></td></tr>\n",
       "<tr><td>18</td><td>ExprTuple</td><td>19, 20</td><td><a class=\"ProveItLink\" href=\"../0d35cf861e5848f179d000728719b1616f6c29810/expr.ipynb\"><img src=\"../0d35cf861e5848f179d000728719b1616f6c29810/expr.png\" style=\"display:inline;vertical-align:middle;\" /></a></td></tr>\n",
       "<tr><td>19</td><td>IndexedVar</td><td>variable:&nbsp;21<br>index:&nbsp;23<br></td><td><a class=\"ProveItLink\" href=\"../../../../../core_expr_types/__pv_it/common/d8d3053e77ba1db68c0cd106952422881db586670/expr.ipynb\"><img src=\"../../../../../core_expr_types/__pv_it/common/d8d3053e77ba1db68c0cd106952422881db586670/expr.png\" style=\"display:inline;vertical-align:middle;\" /></a></td></tr>\n",
       "<tr><td>20</td><td>Literal</td><td></td><td><a class=\"ProveItLink\" href=\"../../../../number_sets/real_numbers/__pv_it/common/8c67355f38838cbd6b40f3876e11d664940344be0/expr.ipynb\"><img src=\"../../../../number_sets/real_numbers/__pv_it/common/8c67355f38838cbd6b40f3876e11d664940344be0/expr.png\" style=\"display:inline;vertical-align:middle;\" /></a></td></tr>\n",
       "<tr><td>21</td><td>Variable</td><td></td><td><a class=\"ProveItLink\" href=\"../../../../../__pv_it/common/66c90e66682f107a881f2d666959f64e2e72ad750/expr.ipynb\"><img src=\"../../../../../__pv_it/common/66c90e66682f107a881f2d666959f64e2e72ad750/expr.png\" style=\"display:inline;vertical-align:middle;\" /></a></td></tr>\n",
       "<tr><td>22</td><td>ExprTuple</td><td>23</td><td><a class=\"ProveItLink\" href=\"../../../../../core_expr_types/__pv_it/common/ecf50ade416ab41c42c9f4e777b4c862cd9469670/expr.ipynb\"><img src=\"../../../../../core_expr_types/__pv_it/common/ecf50ade416ab41c42c9f4e777b4c862cd9469670/expr.png\" style=\"display:inline;vertical-align:middle;\" /></a></td></tr>\n",
       "<tr><td>23</td><td>Variable</td><td></td><td><a class=\"ProveItLink\" href=\"../../../../../core_expr_types/__pv_it/common/9e6d9d5d7eeb0342cf5bca68def0eb165a1a9bb10/expr.ipynb\"><img src=\"../../../../../core_expr_types/__pv_it/common/9e6d9d5d7eeb0342cf5bca68def0eb165a1a9bb10/expr.png\" style=\"display:inline;vertical-align:middle;\" /></a></td></tr>\n",
       "</table>\n"
      ],
      "text/plain": [
       "0. (a_{1}, ..a_{_a}.., a_{i}) -> {(a_{1} + ..a_{_a}.. + a_{i}) in RealPos if (a_{1} in RealPos) and ..(a_{_a} in RealPos).. and (a_{i} in RealPos).\n",
       "   core type: Lambda\n",
       "   parameters: 10\\n   body: 1\n",
       "1. {(a_{1} + ..a_{_a}.. + a_{i}) in RealPos if (a_{1} in RealPos) and ..(a_{_a} in RealPos).. and (a_{i} in RealPos).\n",
       "   core type: Conditional\n",
       "   value: 2\n",
       "   condition: 3\n",
       "2. (a_{1} + ..a_{_a}.. + a_{i}) in RealPos\n",
       "   core type: Operation\n",
       "   operator: 17\n",
       "   operands: 4\n",
       "3. (a_{1} in RealPos) and ..(a_{_a} in RealPos).. and (a_{i} in RealPos)\n",
       "   core type: Operation\n",
       "   operator: 5\n",
       "   operands: 6\n",
       "4. (a_{1} + ..a_{_a}.. + a_{i}, RealPos)\n",
       "   core type: ExprTuple\n",
       "   sub-expressions: 7, 20\n",
       "5. and\n",
       "   core type: Literal\n",
       "   sub-expressions: \n",
       "6. (a_{1} in RealPos, ..a_{_a} in RealPos.., a_{i} in RealPos)\n",
       "   core type: ExprTuple\n",
       "   sub-expressions: 8\n",
       "7. a_{1} + ..a_{_a}.. + a_{i}\n",
       "   core type: Operation\n",
       "   operator: 9\n",
       "   operands: 10\n",
       "8. (a_{1} in RealPos), ..(a_{_a} in RealPos).., (a_{i} in RealPos)\n",
       "   core type: ExprRange\n",
       "   lambda_map: 11\n",
       "   start_index: 15\n",
       "   end_index: 16\n",
       "9. +\n",
       "   core type: Literal\n",
       "   sub-expressions: \n",
       "10. (a_{1}, ..a_{_a}.., a_{i})\n",
       "    core type: ExprTuple\n",
       "    sub-expressions: 12\n",
       "11. _a -> (a_{_a} in RealPos)\n",
       "    core type: Lambda\n",
       "    parameter: 23\n",
       "    body: 13\n",
       "12. a_{1}, ..a_{_a}.., a_{i}\n",
       "    core type: ExprRange\n",
       "    lambda_map: 14\n",
       "    start_index: 15\n",
       "    end_index: 16\n",
       "13. a_{_a} in RealPos\n",
       "    core type: Operation\n",
       "    operator: 17\n",
       "    operands: 18\n",
       "14. _a -> a_{_a}\n",
       "    core type: Lambda\n",
       "    parameter: 23\n",
       "    body: 19\n",
       "15. 1\n",
       "    core type: Literal\n",
       "    sub-expressions: \n",
       "16. i\n",
       "    core type: Variable\n",
       "    sub-expressions: \n",
       "17. in\n",
       "    core type: Literal\n",
       "    sub-expressions: \n",
       "18. (a_{_a}, RealPos)\n",
       "    core type: ExprTuple\n",
       "    sub-expressions: 19, 20\n",
       "19. a_{_a}\n",
       "    core type: IndexedVar\n",
       "variable: 21\n",
       "index: 23\n",
       "20. RealPos\n",
       "    core type: Literal\n",
       "    sub-expressions: \n",
       "21. a\n",
       "    core type: Variable\n",
       "    sub-expressions: \n",
       "22. (_a)\n",
       "    core type: ExprTuple\n",
       "    sub-expressions: 23\n",
       "23. _a\n",
       "    core type: Variable\n",
       "    sub-expressions: "
      ]
     },
     "execution_count": 6,
     "metadata": {},
     "output_type": "execute_result"
    }
   ],
   "source": [
    "# display the expression information\n",
    "expr.expr_info()"
   ]
  },
  {
   "cell_type": "code",
   "execution_count": null,
   "metadata": {},
   "outputs": [],
   "source": []
  }
 ],
 "metadata": {
  "kernelspec": {
   "display_name": "Python 3",
   "language": "python",
   "name": "python3"
  }
 },
 "nbformat": 4,
 "nbformat_minor": 0
}