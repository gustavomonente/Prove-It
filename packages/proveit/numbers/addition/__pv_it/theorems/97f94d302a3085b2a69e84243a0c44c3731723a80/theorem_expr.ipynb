{
 "cells": [
  {
   "cell_type": "markdown",
   "metadata": {},
   "source": [
    "Theorem <a class=\"ProveItLink\" href=\"../../../_theorems_.ipynb#add_real_non_neg_closure\">add_real_non_neg_closure</a> of type <a class=\"ProveItLink\" href=\"../../../../../../../doc/html/api/proveit.logic.Forall.html\">Forall</a>\n",
    "=======================\n",
    "# from the theory of <a class=\"ProveItLink\" href=\"../../../_theory_nbs_/theory.ipynb\">proveit.numbers.addition</a>\n",
    "*** see <a class=\"ProveItLink\" href=\"dependencies.ipynb\">dependencies</a> ***"
   ]
  },
  {
   "cell_type": "code",
   "execution_count": 1,
   "metadata": {},
   "outputs": [],
   "source": [
    "import proveit\n",
    "# Automation is not needed when only building an expression:\n",
    "proveit.defaults.automation = False # This will speed things up.\n",
    "proveit.defaults.inline_pngs = False # Makes files smaller.\n",
    "%load_theorem_expr # Load the stored theorem expression as 'stored_expr'\n",
    "# import the special expression\n",
    "from proveit.numbers.addition import add_real_non_neg_closure"
   ]
  },
  {
   "cell_type": "code",
   "execution_count": 2,
   "metadata": {},
   "outputs": [
    {
     "name": "stdout",
     "output_type": "stream",
     "text": [
      "Passed sanity check: add_real_non_neg_closure matches stored_expr\n"
     ]
    }
   ],
   "source": [
    "# check that the built expression is the same as the stored expression\n",
    "assert add_real_non_neg_closure.expr == stored_expr\n",
    "assert add_real_non_neg_closure.expr._style_id == stored_expr._style_id\n",
    "print(\"Passed sanity check: add_real_non_neg_closure matches stored_expr\")"
   ]
  },
  {
   "cell_type": "code",
   "execution_count": 3,
   "metadata": {},
   "outputs": [
    {
     "name": "stdout",
     "output_type": "stream",
     "text": [
      "\\vdash \\forall_{i \\in \\mathbb{N}}~\\left[\\forall_{a_{1}, \\ldots, a_{i} \\in \\mathbb{R}^{\\ge 0}}~\\left(\\left(a_{1} + \\ldots + a_{i}\\right) \\in \\mathbb{R}^{\\ge 0}\\right)\\right]\n"
     ]
    }
   ],
   "source": [
    "# Show the LaTeX representation of the expression for convenience if you need it.\n",
    "print(add_real_non_neg_closure.latex())"
   ]
  },
  {
   "cell_type": "code",
   "execution_count": 4,
   "metadata": {},
   "outputs": [
    {
     "data": {
      "text/html": [
       "<table><tr><th>&nbsp;</th><th>core type</th><th>sub-expressions</th><th>expression</th></tr>\n",
       "<tr><td>0</td><td>Operation</td><td>operator:&nbsp;5<br>operand:&nbsp;1<br></td><td><a class=\"ProveItLink\" href=\"../4560d3215e437df1c8ae9787873ef204157c63490/expr.ipynb\"><img src=\"../4560d3215e437df1c8ae9787873ef204157c63490/expr.png\" style=\"display:inline;vertical-align:middle;\" /></a></td></tr>\n",
       "<tr><td>1</td><td>Lambda</td><td>parameter:&nbsp;24<br>body:&nbsp;2<br></td><td><a class=\"ProveItLink\" href=\"../9c5c28778ba93413c3eaa88c95ee228515ece70c0/expr.ipynb\"><img src=\"../9c5c28778ba93413c3eaa88c95ee228515ece70c0/expr.png\" style=\"display:inline;vertical-align:middle;\" /></a></td></tr>\n",
       "<tr><td>2</td><td>Conditional</td><td>value:&nbsp;3<br>condition:&nbsp;4<br></td><td><a class=\"ProveItLink\" href=\"../25437dbe10254e1c0a2a890b0dc83c8d679726400/expr.ipynb\"><img src=\"../25437dbe10254e1c0a2a890b0dc83c8d679726400/expr.png\" style=\"display:inline;vertical-align:middle;\" /></a></td></tr>\n",
       "<tr><td>3</td><td>Operation</td><td>operator:&nbsp;5<br>operand:&nbsp;6<br></td><td><a class=\"ProveItLink\" href=\"../ae4af46ead3d2256cc5991820abcefe236786d6a0/expr.ipynb\"><img src=\"../ae4af46ead3d2256cc5991820abcefe236786d6a0/expr.png\" style=\"display:inline;vertical-align:middle;\" /></a></td></tr>\n",
       "<tr><td>4</td><td>Operation</td><td>operator:&nbsp;25<br>operands:&nbsp;7<br></td><td><a class=\"ProveItLink\" href=\"../77453244b9b142f8e48d56f8430a0ce1c1c2842e0/expr.ipynb\"><img src=\"../77453244b9b142f8e48d56f8430a0ce1c1c2842e0/expr.png\" style=\"display:inline;vertical-align:middle;\" /></a></td></tr>\n",
       "<tr><td>5</td><td>Literal</td><td></td><td><a class=\"ProveItLink\" href=\"../../../../../logic/booleans/quantification/universality/__pv_it/common/083d2baa0b8ecab1d230f9ec29a15aa1355809fb0/expr.ipynb\"><img src=\"../../../../../logic/booleans/quantification/universality/__pv_it/common/083d2baa0b8ecab1d230f9ec29a15aa1355809fb0/expr.png\" style=\"display:inline;vertical-align:middle;\" /></a></td></tr>\n",
       "<tr><td>6</td><td>Lambda</td><td>parameters:&nbsp;18<br>body:&nbsp;8<br></td><td><a class=\"ProveItLink\" href=\"../c3b318cecf260e292ae713ad6b7b1eba2377beed0/expr.ipynb\"><img src=\"../c3b318cecf260e292ae713ad6b7b1eba2377beed0/expr.png\" style=\"display:inline;vertical-align:middle;\" /></a></td></tr>\n",
       "<tr><td>7</td><td>ExprTuple</td><td>24, 9</td><td><a class=\"ProveItLink\" href=\"../da20b1ea4e358a467d39b599d0db223dcf1dcb930/expr.ipynb\"><img src=\"../da20b1ea4e358a467d39b599d0db223dcf1dcb930/expr.png\" style=\"display:inline;vertical-align:middle;\" /></a></td></tr>\n",
       "<tr><td>8</td><td>Conditional</td><td>value:&nbsp;10<br>condition:&nbsp;11<br></td><td><a class=\"ProveItLink\" href=\"../c10863914853fd84bdd7dbe901f5946d4b6217f90/expr.ipynb\"><img src=\"../c10863914853fd84bdd7dbe901f5946d4b6217f90/expr.png\" style=\"display:inline;vertical-align:middle;\" /></a></td></tr>\n",
       "<tr><td>9</td><td>Literal</td><td></td><td><a class=\"ProveItLink\" href=\"../../../../number_sets/natural_numbers/__pv_it/common/8b7c321957f52ed3b05b36af612eeae4fa4783bc0/expr.ipynb\"><img src=\"../../../../number_sets/natural_numbers/__pv_it/common/8b7c321957f52ed3b05b36af612eeae4fa4783bc0/expr.png\" style=\"display:inline;vertical-align:middle;\" /></a></td></tr>\n",
       "<tr><td>10</td><td>Operation</td><td>operator:&nbsp;25<br>operands:&nbsp;12<br></td><td><a class=\"ProveItLink\" href=\"../b4168492d5df8479bceb4cdec844e60c11b6e2b90/expr.ipynb\"><img src=\"../b4168492d5df8479bceb4cdec844e60c11b6e2b90/expr.png\" style=\"display:inline;vertical-align:middle;\" /></a></td></tr>\n",
       "<tr><td>11</td><td>Operation</td><td>operator:&nbsp;13<br>operands:&nbsp;14<br></td><td><a class=\"ProveItLink\" href=\"../6eac517524b0a7980915cd9ee52903eae1eeb3b30/expr.ipynb\"><img src=\"../6eac517524b0a7980915cd9ee52903eae1eeb3b30/expr.png\" style=\"display:inline;vertical-align:middle;\" /></a></td></tr>\n",
       "<tr><td>12</td><td>ExprTuple</td><td>15, 28</td><td><a class=\"ProveItLink\" href=\"../9ed0034192cbec16818809d715aeffc67bc367780/expr.ipynb\"><img src=\"../9ed0034192cbec16818809d715aeffc67bc367780/expr.png\" style=\"display:inline;vertical-align:middle;\" /></a></td></tr>\n",
       "<tr><td>13</td><td>Literal</td><td></td><td><a class=\"ProveItLink\" href=\"../../../../../logic/booleans/conjunction/__pv_it/common/42118ff318bd65d98b1393f64ce7c2269feef76e0/expr.ipynb\"><img src=\"../../../../../logic/booleans/conjunction/__pv_it/common/42118ff318bd65d98b1393f64ce7c2269feef76e0/expr.png\" style=\"display:inline;vertical-align:middle;\" /></a></td></tr>\n",
       "<tr><td>14</td><td>ExprTuple</td><td>16</td><td><a class=\"ProveItLink\" href=\"../397b121f961311d92d1c9fee95659ce661f4fc350/expr.ipynb\"><img src=\"../397b121f961311d92d1c9fee95659ce661f4fc350/expr.png\" style=\"display:inline;vertical-align:middle;\" /></a></td></tr>\n",
       "<tr><td>15</td><td>Operation</td><td>operator:&nbsp;17<br>operands:&nbsp;18<br></td><td><a class=\"ProveItLink\" href=\"../8a807e08fa8117f90c546f1312e4d8628630083d0/expr.ipynb\"><img src=\"../8a807e08fa8117f90c546f1312e4d8628630083d0/expr.png\" style=\"display:inline;vertical-align:middle;\" /></a></td></tr>\n",
       "<tr><td>16</td><td>ExprRange</td><td>lambda_map:&nbsp;19<br>start_index:&nbsp;23<br>end_index:&nbsp;24<br></td><td><a class=\"ProveItLink\" href=\"../75417d0e2549210744ad3b7760616291fa3da6e90/expr.ipynb\"><img src=\"../75417d0e2549210744ad3b7760616291fa3da6e90/expr.png\" style=\"display:inline;vertical-align:middle;\" /></a></td></tr>\n",
       "<tr><td>17</td><td>Literal</td><td></td><td><a class=\"ProveItLink\" href=\"../../common/4b7effaab3619a1c2c38fe2dee8601df8ec714590/expr.ipynb\"><img src=\"../../common/4b7effaab3619a1c2c38fe2dee8601df8ec714590/expr.png\" style=\"display:inline;vertical-align:middle;\" /></a></td></tr>\n",
       "<tr><td>18</td><td>ExprTuple</td><td>20</td><td><a class=\"ProveItLink\" href=\"../b4aeecdaeeb4be0b7dab0578a6f142feaf2c9eb90/expr.ipynb\"><img src=\"../b4aeecdaeeb4be0b7dab0578a6f142feaf2c9eb90/expr.png\" style=\"display:inline;vertical-align:middle;\" /></a></td></tr>\n",
       "<tr><td>19</td><td>Lambda</td><td>parameter:&nbsp;30<br>body:&nbsp;21<br></td><td><a class=\"ProveItLink\" href=\"../1b9391a65b770fe2e2a7ab3621055c15f33897c50/expr.ipynb\"><img src=\"../1b9391a65b770fe2e2a7ab3621055c15f33897c50/expr.png\" style=\"display:inline;vertical-align:middle;\" /></a></td></tr>\n",
       "<tr><td>20</td><td>ExprRange</td><td>lambda_map:&nbsp;22<br>start_index:&nbsp;23<br>end_index:&nbsp;24<br></td><td><a class=\"ProveItLink\" href=\"../../../../../core_expr_types/__pv_it/common/3143372b81f4215c0f48ddd93ca9c77fdfbd3fc20/expr.ipynb\"><img src=\"../../../../../core_expr_types/__pv_it/common/3143372b81f4215c0f48ddd93ca9c77fdfbd3fc20/expr.png\" style=\"display:inline;vertical-align:middle;\" /></a></td></tr>\n",
       "<tr><td>21</td><td>Operation</td><td>operator:&nbsp;25<br>operands:&nbsp;26<br></td><td><a class=\"ProveItLink\" href=\"../37c9c19067d2c056c78da5a31fa2dc7644ed0a120/expr.ipynb\"><img src=\"../37c9c19067d2c056c78da5a31fa2dc7644ed0a120/expr.png\" style=\"display:inline;vertical-align:middle;\" /></a></td></tr>\n",
       "<tr><td>22</td><td>Lambda</td><td>parameter:&nbsp;30<br>body:&nbsp;27<br></td><td><a class=\"ProveItLink\" href=\"../../../../../core_expr_types/__pv_it/common/9f0c64ef8ae0c02b5dcba32e0fb15bd29f85872a0/expr.ipynb\"><img src=\"../../../../../core_expr_types/__pv_it/common/9f0c64ef8ae0c02b5dcba32e0fb15bd29f85872a0/expr.png\" style=\"display:inline;vertical-align:middle;\" /></a></td></tr>\n",
       "<tr><td>23</td><td>Literal</td><td></td><td><a class=\"ProveItLink\" href=\"../../../../numerals/__pv_it/common/2778428c7f555b2bdc06aa0530bc142c6e6335100/expr.ipynb\"><img src=\"../../../../numerals/__pv_it/common/2778428c7f555b2bdc06aa0530bc142c6e6335100/expr.png\" style=\"display:inline;vertical-align:middle;\" /></a></td></tr>\n",
       "<tr><td>24</td><td>Variable</td><td></td><td><a class=\"ProveItLink\" href=\"../../../../../__pv_it/common/ae955345c83abf786c3aff8681cd5465beae262d0/expr.ipynb\"><img src=\"../../../../../__pv_it/common/ae955345c83abf786c3aff8681cd5465beae262d0/expr.png\" style=\"display:inline;vertical-align:middle;\" /></a></td></tr>\n",
       "<tr><td>25</td><td>Literal</td><td></td><td><a class=\"ProveItLink\" href=\"../../../../../logic/sets/membership/__pv_it/common/477487d8796864d23d5810f83761435f25167f690/expr.ipynb\"><img src=\"../../../../../logic/sets/membership/__pv_it/common/477487d8796864d23d5810f83761435f25167f690/expr.png\" style=\"display:inline;vertical-align:middle;\" /></a></td></tr>\n",
       "<tr><td>26</td><td>ExprTuple</td><td>27, 28</td><td><a class=\"ProveItLink\" href=\"../e2f7eec9e655d45404cda6bba88c994ddf5b41720/expr.ipynb\"><img src=\"../e2f7eec9e655d45404cda6bba88c994ddf5b41720/expr.png\" style=\"display:inline;vertical-align:middle;\" /></a></td></tr>\n",
       "<tr><td>27</td><td>IndexedVar</td><td>variable:&nbsp;29<br>index:&nbsp;30<br></td><td><a class=\"ProveItLink\" href=\"../../../../../core_expr_types/__pv_it/common/ea36c59b79decceeaf696ef762cc9648f9ddbf5c0/expr.ipynb\"><img src=\"../../../../../core_expr_types/__pv_it/common/ea36c59b79decceeaf696ef762cc9648f9ddbf5c0/expr.png\" style=\"display:inline;vertical-align:middle;\" /></a></td></tr>\n",
       "<tr><td>28</td><td>Literal</td><td></td><td><a class=\"ProveItLink\" href=\"../../../../number_sets/real_numbers/__pv_it/common/2dcda83bae696506ea8f9a83379941875866aa8b0/expr.ipynb\"><img src=\"../../../../number_sets/real_numbers/__pv_it/common/2dcda83bae696506ea8f9a83379941875866aa8b0/expr.png\" style=\"display:inline;vertical-align:middle;\" /></a></td></tr>\n",
       "<tr><td>29</td><td>Variable</td><td></td><td><a class=\"ProveItLink\" href=\"../../../../../__pv_it/common/c06c606ec12678c58933ac85412ecadc2ae28be60/expr.ipynb\"><img src=\"../../../../../__pv_it/common/c06c606ec12678c58933ac85412ecadc2ae28be60/expr.png\" style=\"display:inline;vertical-align:middle;\" /></a></td></tr>\n",
       "<tr><td>30</td><td>Variable</td><td></td><td><a class=\"ProveItLink\" href=\"../../../../../core_expr_types/__pv_it/common/006c465e50948aa2b52285e2de47974f741255cc0/expr.ipynb\"><img src=\"../../../../../core_expr_types/__pv_it/common/006c465e50948aa2b52285e2de47974f741255cc0/expr.png\" style=\"display:inline;vertical-align:middle;\" /></a></td></tr>\n",
       "</table>\n"
      ],
      "text/plain": [
       "0. forall_{i in Natural} [forall_{a_{1}, ..a_{_a}.., a_{i} in RealNonNeg} ((a_{1} + ..a_{_a}.. + a_{i}) in RealNonNeg)]\n",
       "   core type: Operation\n",
       "   operator: 5\n",
       "   operand: 1\n",
       "1. i -> {forall_{a_{1}, ..a_{_a}.., a_{i} in RealNonNeg} ((a_{1} + ..a_{_a}.. + a_{i}) in RealNonNeg) if i in Natural.\n",
       "   core type: Lambda\n",
       "   parameter: 24\n",
       "   body: 2\n",
       "2. {forall_{a_{1}, ..a_{_a}.., a_{i} in RealNonNeg} ((a_{1} + ..a_{_a}.. + a_{i}) in RealNonNeg) if i in Natural.\n",
       "   core type: Conditional\n",
       "   value: 3\n",
       "   condition: 4\n",
       "3. forall_{a_{1}, ..a_{_a}.., a_{i} in RealNonNeg} ((a_{1} + ..a_{_a}.. + a_{i}) in RealNonNeg)\n",
       "   core type: Operation\n",
       "   operator: 5\n",
       "   operand: 6\n",
       "4. i in Natural\n",
       "   core type: Operation\n",
       "   operator: 25\n",
       "   operands: 7\n",
       "5. forall\n",
       "   core type: Literal\n",
       "   sub-expressions: \n",
       "6. (a_{1}, ..a_{_a}.., a_{i}) -> {(a_{1} + ..a_{_a}.. + a_{i}) in RealNonNeg if (a_{1} in RealNonNeg) and ..(a_{_a} in RealNonNeg).. and (a_{i} in RealNonNeg).\n",
       "   core type: Lambda\n",
       "   parameters: 18\\n   body: 8\n",
       "7. (i, Natural)\n",
       "   core type: ExprTuple\n",
       "   sub-expressions: 24, 9\n",
       "8. {(a_{1} + ..a_{_a}.. + a_{i}) in RealNonNeg if (a_{1} in RealNonNeg) and ..(a_{_a} in RealNonNeg).. and (a_{i} in RealNonNeg).\n",
       "   core type: Conditional\n",
       "   value: 10\n",
       "   condition: 11\n",
       "9. Natural\n",
       "   core type: Literal\n",
       "   sub-expressions: \n",
       "10. (a_{1} + ..a_{_a}.. + a_{i}) in RealNonNeg\n",
       "    core type: Operation\n",
       "    operator: 25\n",
       "    operands: 12\n",
       "11. (a_{1} in RealNonNeg) and ..(a_{_a} in RealNonNeg).. and (a_{i} in RealNonNeg)\n",
       "    core type: Operation\n",
       "    operator: 13\n",
       "    operands: 14\n",
       "12. (a_{1} + ..a_{_a}.. + a_{i}, RealNonNeg)\n",
       "    core type: ExprTuple\n",
       "    sub-expressions: 15, 28\n",
       "13. and\n",
       "    core type: Literal\n",
       "    sub-expressions: \n",
       "14. (a_{1} in RealNonNeg, ..a_{_a} in RealNonNeg.., a_{i} in RealNonNeg)\n",
       "    core type: ExprTuple\n",
       "    sub-expressions: 16\n",
       "15. a_{1} + ..a_{_a}.. + a_{i}\n",
       "    core type: Operation\n",
       "    operator: 17\n",
       "    operands: 18\n",
       "16. (a_{1} in RealNonNeg), ..(a_{_a} in RealNonNeg).., (a_{i} in RealNonNeg)\n",
       "    core type: ExprRange\n",
       "    lambda_map: 19\n",
       "    start_index: 23\n",
       "    end_index: 24\n",
       "17. +\n",
       "    core type: Literal\n",
       "    sub-expressions: \n",
       "18. (a_{1}, ..a_{_a}.., a_{i})\n",
       "    core type: ExprTuple\n",
       "    sub-expressions: 20\n",
       "19. _a -> (a_{_a} in RealNonNeg)\n",
       "    core type: Lambda\n",
       "    parameter: 30\n",
       "    body: 21\n",
       "20. a_{1}, ..a_{_a}.., a_{i}\n",
       "    core type: ExprRange\n",
       "    lambda_map: 22\n",
       "    start_index: 23\n",
       "    end_index: 24\n",
       "21. a_{_a} in RealNonNeg\n",
       "    core type: Operation\n",
       "    operator: 25\n",
       "    operands: 26\n",
       "22. _a -> a_{_a}\n",
       "    core type: Lambda\n",
       "    parameter: 30\n",
       "    body: 27\n",
       "23. 1\n",
       "    core type: Literal\n",
       "    sub-expressions: \n",
       "24. i\n",
       "    core type: Variable\n",
       "    sub-expressions: \n",
       "25. in\n",
       "    core type: Literal\n",
       "    sub-expressions: \n",
       "26. (a_{_a}, RealNonNeg)\n",
       "    core type: ExprTuple\n",
       "    sub-expressions: 27, 28\n",
       "27. a_{_a}\n",
       "    core type: IndexedVar\n",
       "variable: 29\n",
       "index: 30\n",
       "28. RealNonNeg\n",
       "    core type: Literal\n",
       "    sub-expressions: \n",
       "29. a\n",
       "    core type: Variable\n",
       "    sub-expressions: \n",
       "30. _a\n",
       "    core type: Variable\n",
       "    sub-expressions: "
      ]
     },
     "execution_count": 4,
     "metadata": {},
     "output_type": "execute_result"
    }
   ],
   "source": [
    "# display the expression information\n",
    "add_real_non_neg_closure.expr_info()"
   ]
  },
  {
   "cell_type": "code",
   "execution_count": null,
   "metadata": {},
   "outputs": [],
   "source": []
  }
 ],
 "metadata": {
  "kernelspec": {
   "display_name": "Python 3",
   "language": "python",
   "name": "python3"
  }
 },
 "nbformat": 4,
 "nbformat_minor": 0
}