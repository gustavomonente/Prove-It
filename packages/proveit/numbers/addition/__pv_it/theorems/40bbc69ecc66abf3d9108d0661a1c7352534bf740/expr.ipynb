{
 "cells": [
  {
   "cell_type": "markdown",
   "metadata": {},
   "source": [
    "Expression of type <a class=\"ProveItLink\" href=\"../../../../../../../doc/html/api/proveit.logic.Forall.html\">Forall</a>\n",
    "=======================\n",
    "# from the theory of <a class=\"ProveItLink\" href=\"../../../_theory_nbs_/theory.ipynb\">proveit.numbers.addition</a>"
   ]
  },
  {
   "cell_type": "code",
   "execution_count": 1,
   "metadata": {},
   "outputs": [],
   "source": [
    "import proveit\n",
    "# Automation is not needed when building an expression:\n",
    "proveit.defaults.automation = False # This will speed things up.\n",
    "proveit.defaults.inline_pngs = False # Makes files smaller.\n",
    "%load_expr # Load the stored expression as 'stored_expr'\n",
    "# import Expression classes needed to build the expression\n",
    "from proveit.core_expr_types import a_1_to_i\n",
    "from proveit.logic import Forall, InSet\n",
    "from proveit.numbers import Add, RealPos"
   ]
  },
  {
   "cell_type": "code",
   "execution_count": 2,
   "metadata": {},
   "outputs": [
    {
     "data": {
      "text/html": [
       "<strong id=\"expr\">expr:</strong> <a class=\"ProveItLink\" href=\"expr.ipynb\"><img src=\"expr.png\" style=\"display:inline;vertical-align:middle;\" /></a><br>"
      ],
      "text/plain": [
       "expr: forall_{a_{1}, ..a_{_a}.., a_{i} in RealPos} ((a_{1} + ..a_{_a}.. + a_{i}) in RealPos)"
      ]
     },
     "execution_count": 2,
     "metadata": {},
     "output_type": "execute_result"
    }
   ],
   "source": [
    "# build up the expression from sub-expressions\n",
    "expr = Forall([a_1_to_i], InSet(Add(a_1_to_i), RealPos), domains = [RealPos])"
   ]
  },
  {
   "cell_type": "code",
   "execution_count": 3,
   "metadata": {},
   "outputs": [
    {
     "name": "stdout",
     "output_type": "stream",
     "text": [
      "Passed sanity check: expr matches stored_expr\n"
     ]
    }
   ],
   "source": [
    "# check that the built expression is the same as the stored expression\n",
    "assert expr == stored_expr\n",
    "assert expr._style_id == stored_expr._style_id\n",
    "print(\"Passed sanity check: expr matches stored_expr\")"
   ]
  },
  {
   "cell_type": "code",
   "execution_count": 4,
   "metadata": {},
   "outputs": [
    {
     "name": "stdout",
     "output_type": "stream",
     "text": [
      "\\forall_{a_{1}, \\ldots, a_{i} \\in \\mathbb{R}^+}~\\left(\\left(a_{1} + \\ldots + a_{i}\\right) \\in \\mathbb{R}^+\\right)\n"
     ]
    }
   ],
   "source": [
    "# Show the LaTeX representation of the expression for convenience if you need it.\n",
    "print(expr.latex())"
   ]
  },
  {
   "cell_type": "code",
   "execution_count": 5,
   "metadata": {},
   "outputs": [
    {
     "data": {
      "text/html": [
       "<table><tr><th>&nbsp;</th><th>core type</th><th>sub-expressions</th><th>expression</th></tr>\n",
       "<tr><td>0</td><td>Operation</td><td>operator:&nbsp;1<br>operand:&nbsp;2<br></td><td><a class=\"ProveItLink\" href=\"expr.ipynb\"><img src=\"expr.png\" style=\"display:inline;vertical-align:middle;\" /></a></td></tr>\n",
       "<tr><td>1</td><td>Literal</td><td></td><td><a class=\"ProveItLink\" href=\"../../../../../logic/booleans/quantification/universality/__pv_it/common/083d2baa0b8ecab1d230f9ec29a15aa1355809fb0/expr.ipynb\"><img src=\"../../../../../logic/booleans/quantification/universality/__pv_it/common/083d2baa0b8ecab1d230f9ec29a15aa1355809fb0/expr.png\" style=\"display:inline;vertical-align:middle;\" /></a></td></tr>\n",
       "<tr><td>2</td><td>Lambda</td><td>parameters:&nbsp;12<br>body:&nbsp;3<br></td><td><a class=\"ProveItLink\" href=\"../47b64798b47996d3410b90a5162a8ac033e9a70c0/expr.ipynb\"><img src=\"../47b64798b47996d3410b90a5162a8ac033e9a70c0/expr.png\" style=\"display:inline;vertical-align:middle;\" /></a></td></tr>\n",
       "<tr><td>3</td><td>Conditional</td><td>value:&nbsp;4<br>condition:&nbsp;5<br></td><td><a class=\"ProveItLink\" href=\"../63278cdf17afdd63dafd0c7e876f9e828442c77e0/expr.ipynb\"><img src=\"../63278cdf17afdd63dafd0c7e876f9e828442c77e0/expr.png\" style=\"display:inline;vertical-align:middle;\" /></a></td></tr>\n",
       "<tr><td>4</td><td>Operation</td><td>operator:&nbsp;19<br>operands:&nbsp;6<br></td><td><a class=\"ProveItLink\" href=\"../4aa1fe8143e2a51f47844fb356a22ab837def2c80/expr.ipynb\"><img src=\"../4aa1fe8143e2a51f47844fb356a22ab837def2c80/expr.png\" style=\"display:inline;vertical-align:middle;\" /></a></td></tr>\n",
       "<tr><td>5</td><td>Operation</td><td>operator:&nbsp;7<br>operands:&nbsp;8<br></td><td><a class=\"ProveItLink\" href=\"../411e8114950534133106bdbb5f9468bd043af99c0/expr.ipynb\"><img src=\"../411e8114950534133106bdbb5f9468bd043af99c0/expr.png\" style=\"display:inline;vertical-align:middle;\" /></a></td></tr>\n",
       "<tr><td>6</td><td>ExprTuple</td><td>9, 22</td><td><a class=\"ProveItLink\" href=\"../b589433fa01979adf6b1659303130e36ee11c30b0/expr.ipynb\"><img src=\"../b589433fa01979adf6b1659303130e36ee11c30b0/expr.png\" style=\"display:inline;vertical-align:middle;\" /></a></td></tr>\n",
       "<tr><td>7</td><td>Literal</td><td></td><td><a class=\"ProveItLink\" href=\"../../../../../logic/booleans/conjunction/__pv_it/common/42118ff318bd65d98b1393f64ce7c2269feef76e0/expr.ipynb\"><img src=\"../../../../../logic/booleans/conjunction/__pv_it/common/42118ff318bd65d98b1393f64ce7c2269feef76e0/expr.png\" style=\"display:inline;vertical-align:middle;\" /></a></td></tr>\n",
       "<tr><td>8</td><td>ExprTuple</td><td>10</td><td><a class=\"ProveItLink\" href=\"../5292f5310e29982595e3ac48ffbabe7c96d512470/expr.ipynb\"><img src=\"../5292f5310e29982595e3ac48ffbabe7c96d512470/expr.png\" style=\"display:inline;vertical-align:middle;\" /></a></td></tr>\n",
       "<tr><td>9</td><td>Operation</td><td>operator:&nbsp;11<br>operands:&nbsp;12<br></td><td><a class=\"ProveItLink\" href=\"../8a807e08fa8117f90c546f1312e4d8628630083d0/expr.ipynb\"><img src=\"../8a807e08fa8117f90c546f1312e4d8628630083d0/expr.png\" style=\"display:inline;vertical-align:middle;\" /></a></td></tr>\n",
       "<tr><td>10</td><td>ExprRange</td><td>lambda_map:&nbsp;13<br>start_index:&nbsp;17<br>end_index:&nbsp;18<br></td><td><a class=\"ProveItLink\" href=\"../6b77438bad063a84220e5c7e97faef7e54e4419c0/expr.ipynb\"><img src=\"../6b77438bad063a84220e5c7e97faef7e54e4419c0/expr.png\" style=\"display:inline;vertical-align:middle;\" /></a></td></tr>\n",
       "<tr><td>11</td><td>Literal</td><td></td><td><a class=\"ProveItLink\" href=\"../../common/4b7effaab3619a1c2c38fe2dee8601df8ec714590/expr.ipynb\"><img src=\"../../common/4b7effaab3619a1c2c38fe2dee8601df8ec714590/expr.png\" style=\"display:inline;vertical-align:middle;\" /></a></td></tr>\n",
       "<tr><td>12</td><td>ExprTuple</td><td>14</td><td><a class=\"ProveItLink\" href=\"../b4aeecdaeeb4be0b7dab0578a6f142feaf2c9eb90/expr.ipynb\"><img src=\"../b4aeecdaeeb4be0b7dab0578a6f142feaf2c9eb90/expr.png\" style=\"display:inline;vertical-align:middle;\" /></a></td></tr>\n",
       "<tr><td>13</td><td>Lambda</td><td>parameter:&nbsp;24<br>body:&nbsp;15<br></td><td><a class=\"ProveItLink\" href=\"../fdec0a02ce01c4dcdb008a40c2946dcaec41865c0/expr.ipynb\"><img src=\"../fdec0a02ce01c4dcdb008a40c2946dcaec41865c0/expr.png\" style=\"display:inline;vertical-align:middle;\" /></a></td></tr>\n",
       "<tr><td>14</td><td>ExprRange</td><td>lambda_map:&nbsp;16<br>start_index:&nbsp;17<br>end_index:&nbsp;18<br></td><td><a class=\"ProveItLink\" href=\"../../../../../core_expr_types/__pv_it/common/3143372b81f4215c0f48ddd93ca9c77fdfbd3fc20/expr.ipynb\"><img src=\"../../../../../core_expr_types/__pv_it/common/3143372b81f4215c0f48ddd93ca9c77fdfbd3fc20/expr.png\" style=\"display:inline;vertical-align:middle;\" /></a></td></tr>\n",
       "<tr><td>15</td><td>Operation</td><td>operator:&nbsp;19<br>operands:&nbsp;20<br></td><td><a class=\"ProveItLink\" href=\"../1b436f26923d91cb333b07a8ffda90ac523780550/expr.ipynb\"><img src=\"../1b436f26923d91cb333b07a8ffda90ac523780550/expr.png\" style=\"display:inline;vertical-align:middle;\" /></a></td></tr>\n",
       "<tr><td>16</td><td>Lambda</td><td>parameter:&nbsp;24<br>body:&nbsp;21<br></td><td><a class=\"ProveItLink\" href=\"../../../../../core_expr_types/__pv_it/common/9f0c64ef8ae0c02b5dcba32e0fb15bd29f85872a0/expr.ipynb\"><img src=\"../../../../../core_expr_types/__pv_it/common/9f0c64ef8ae0c02b5dcba32e0fb15bd29f85872a0/expr.png\" style=\"display:inline;vertical-align:middle;\" /></a></td></tr>\n",
       "<tr><td>17</td><td>Literal</td><td></td><td><a class=\"ProveItLink\" href=\"../../../../numerals/__pv_it/common/2778428c7f555b2bdc06aa0530bc142c6e6335100/expr.ipynb\"><img src=\"../../../../numerals/__pv_it/common/2778428c7f555b2bdc06aa0530bc142c6e6335100/expr.png\" style=\"display:inline;vertical-align:middle;\" /></a></td></tr>\n",
       "<tr><td>18</td><td>Variable</td><td></td><td><a class=\"ProveItLink\" href=\"../../../../../__pv_it/common/ae955345c83abf786c3aff8681cd5465beae262d0/expr.ipynb\"><img src=\"../../../../../__pv_it/common/ae955345c83abf786c3aff8681cd5465beae262d0/expr.png\" style=\"display:inline;vertical-align:middle;\" /></a></td></tr>\n",
       "<tr><td>19</td><td>Literal</td><td></td><td><a class=\"ProveItLink\" href=\"../../../../../logic/sets/membership/__pv_it/common/477487d8796864d23d5810f83761435f25167f690/expr.ipynb\"><img src=\"../../../../../logic/sets/membership/__pv_it/common/477487d8796864d23d5810f83761435f25167f690/expr.png\" style=\"display:inline;vertical-align:middle;\" /></a></td></tr>\n",
       "<tr><td>20</td><td>ExprTuple</td><td>21, 22</td><td><a class=\"ProveItLink\" href=\"../b7102144d5a27e94580ff45be4e400fc83e95f3e0/expr.ipynb\"><img src=\"../b7102144d5a27e94580ff45be4e400fc83e95f3e0/expr.png\" style=\"display:inline;vertical-align:middle;\" /></a></td></tr>\n",
       "<tr><td>21</td><td>IndexedVar</td><td>variable:&nbsp;23<br>index:&nbsp;24<br></td><td><a class=\"ProveItLink\" href=\"../../../../../core_expr_types/__pv_it/common/ea36c59b79decceeaf696ef762cc9648f9ddbf5c0/expr.ipynb\"><img src=\"../../../../../core_expr_types/__pv_it/common/ea36c59b79decceeaf696ef762cc9648f9ddbf5c0/expr.png\" style=\"display:inline;vertical-align:middle;\" /></a></td></tr>\n",
       "<tr><td>22</td><td>Literal</td><td></td><td><a class=\"ProveItLink\" href=\"../../../../number_sets/real_numbers/__pv_it/common/bce03b8bb2f8dc632941ebceb41ff458ace6f34c0/expr.ipynb\"><img src=\"../../../../number_sets/real_numbers/__pv_it/common/bce03b8bb2f8dc632941ebceb41ff458ace6f34c0/expr.png\" style=\"display:inline;vertical-align:middle;\" /></a></td></tr>\n",
       "<tr><td>23</td><td>Variable</td><td></td><td><a class=\"ProveItLink\" href=\"../../../../../__pv_it/common/c06c606ec12678c58933ac85412ecadc2ae28be60/expr.ipynb\"><img src=\"../../../../../__pv_it/common/c06c606ec12678c58933ac85412ecadc2ae28be60/expr.png\" style=\"display:inline;vertical-align:middle;\" /></a></td></tr>\n",
       "<tr><td>24</td><td>Variable</td><td></td><td><a class=\"ProveItLink\" href=\"../../../../../core_expr_types/__pv_it/common/006c465e50948aa2b52285e2de47974f741255cc0/expr.ipynb\"><img src=\"../../../../../core_expr_types/__pv_it/common/006c465e50948aa2b52285e2de47974f741255cc0/expr.png\" style=\"display:inline;vertical-align:middle;\" /></a></td></tr>\n",
       "</table>\n"
      ],
      "text/plain": [
       "0. forall_{a_{1}, ..a_{_a}.., a_{i} in RealPos} ((a_{1} + ..a_{_a}.. + a_{i}) in RealPos)\n",
       "   core type: Operation\n",
       "   operator: 1\n",
       "   operand: 2\n",
       "1. forall\n",
       "   core type: Literal\n",
       "   sub-expressions: \n",
       "2. (a_{1}, ..a_{_a}.., a_{i}) -> {(a_{1} + ..a_{_a}.. + a_{i}) in RealPos if (a_{1} in RealPos) and ..(a_{_a} in RealPos).. and (a_{i} in RealPos).\n",
       "   core type: Lambda\n",
       "   parameters: 12\\n   body: 3\n",
       "3. {(a_{1} + ..a_{_a}.. + a_{i}) in RealPos if (a_{1} in RealPos) and ..(a_{_a} in RealPos).. and (a_{i} in RealPos).\n",
       "   core type: Conditional\n",
       "   value: 4\n",
       "   condition: 5\n",
       "4. (a_{1} + ..a_{_a}.. + a_{i}) in RealPos\n",
       "   core type: Operation\n",
       "   operator: 19\n",
       "   operands: 6\n",
       "5. (a_{1} in RealPos) and ..(a_{_a} in RealPos).. and (a_{i} in RealPos)\n",
       "   core type: Operation\n",
       "   operator: 7\n",
       "   operands: 8\n",
       "6. (a_{1} + ..a_{_a}.. + a_{i}, RealPos)\n",
       "   core type: ExprTuple\n",
       "   sub-expressions: 9, 22\n",
       "7. and\n",
       "   core type: Literal\n",
       "   sub-expressions: \n",
       "8. (a_{1} in RealPos, ..a_{_a} in RealPos.., a_{i} in RealPos)\n",
       "   core type: ExprTuple\n",
       "   sub-expressions: 10\n",
       "9. a_{1} + ..a_{_a}.. + a_{i}\n",
       "   core type: Operation\n",
       "   operator: 11\n",
       "   operands: 12\n",
       "10. (a_{1} in RealPos), ..(a_{_a} in RealPos).., (a_{i} in RealPos)\n",
       "    core type: ExprRange\n",
       "    lambda_map: 13\n",
       "    start_index: 17\n",
       "    end_index: 18\n",
       "11. +\n",
       "    core type: Literal\n",
       "    sub-expressions: \n",
       "12. (a_{1}, ..a_{_a}.., a_{i})\n",
       "    core type: ExprTuple\n",
       "    sub-expressions: 14\n",
       "13. _a -> (a_{_a} in RealPos)\n",
       "    core type: Lambda\n",
       "    parameter: 24\n",
       "    body: 15\n",
       "14. a_{1}, ..a_{_a}.., a_{i}\n",
       "    core type: ExprRange\n",
       "    lambda_map: 16\n",
       "    start_index: 17\n",
       "    end_index: 18\n",
       "15. a_{_a} in RealPos\n",
       "    core type: Operation\n",
       "    operator: 19\n",
       "    operands: 20\n",
       "16. _a -> a_{_a}\n",
       "    core type: Lambda\n",
       "    parameter: 24\n",
       "    body: 21\n",
       "17. 1\n",
       "    core type: Literal\n",
       "    sub-expressions: \n",
       "18. i\n",
       "    core type: Variable\n",
       "    sub-expressions: \n",
       "19. in\n",
       "    core type: Literal\n",
       "    sub-expressions: \n",
       "20. (a_{_a}, RealPos)\n",
       "    core type: ExprTuple\n",
       "    sub-expressions: 21, 22\n",
       "21. a_{_a}\n",
       "    core type: IndexedVar\n",
       "variable: 23\n",
       "index: 24\n",
       "22. RealPos\n",
       "    core type: Literal\n",
       "    sub-expressions: \n",
       "23. a\n",
       "    core type: Variable\n",
       "    sub-expressions: \n",
       "24. _a\n",
       "    core type: Variable\n",
       "    sub-expressions: "
      ]
     },
     "execution_count": 5,
     "metadata": {},
     "output_type": "execute_result"
    }
   ],
   "source": [
    "# display the expression information\n",
    "expr.expr_info()"
   ]
  },
  {
   "cell_type": "code",
   "execution_count": null,
   "metadata": {},
   "outputs": [],
   "source": []
  }
 ],
 "metadata": {
  "kernelspec": {
   "display_name": "Python 3",
   "language": "python",
   "name": "python3"
  }
 },
 "nbformat": 4,
 "nbformat_minor": 0
}