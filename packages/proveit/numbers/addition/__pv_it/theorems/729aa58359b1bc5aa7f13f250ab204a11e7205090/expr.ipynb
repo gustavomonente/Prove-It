{
 "cells": [
  {
   "cell_type": "markdown",
   "metadata": {},
   "source": [
    "Expression of type <a class=\"ProveItLink\" href=\"../../../../../../../doc/html/api/proveit.ExprTuple.html\">ExprTuple</a>\n",
    "=======================\n",
    "# from the theory of <a class=\"ProveItLink\" href=\"../../../_theory_nbs_/theory.ipynb\">proveit.numbers.addition</a>"
   ]
  },
  {
   "cell_type": "code",
   "execution_count": 1,
   "metadata": {},
   "outputs": [],
   "source": [
    "import proveit\n",
    "# Automation is not needed when building an expression:\n",
    "proveit.defaults.automation = False # This will speed things up.\n",
    "proveit.defaults.inline_pngs = False # Makes files smaller.\n",
    "%load_expr # Load the stored expression as 'stored_expr'\n",
    "# import Expression classes needed to build the expression\n",
    "from proveit import Conditional, ExprTuple, Lambda, i\n",
    "from proveit.core_expr_types import a_1_to_i\n",
    "from proveit.logic import Forall, InSet\n",
    "from proveit.numbers import Add, Complex, Natural"
   ]
  },
  {
   "cell_type": "code",
   "execution_count": 2,
   "metadata": {},
   "outputs": [
    {
     "data": {
      "text/html": [
       "<strong id=\"expr\">expr:</strong> <a class=\"ProveItLink\" href=\"expr.ipynb\"><img src=\"expr.png\" style=\"display:inline;vertical-align:middle;\" /></a><br>"
      ],
      "text/plain": [
       "expr: (i -> {forall_{a_{1}, ..a_{_a}.., a_{i} in Complex} ((a_{1} + ..a_{_a}.. + a_{i}) in Complex) if i in Natural.)"
      ]
     },
     "execution_count": 2,
     "metadata": {},
     "output_type": "execute_result"
    }
   ],
   "source": [
    "# build up the expression from sub-expressions\n",
    "expr = ExprTuple(Lambda(i, Conditional(Forall([a_1_to_i], InSet(Add(a_1_to_i), Complex), domains = [Complex]), InSet(i, Natural))))"
   ]
  },
  {
   "cell_type": "code",
   "execution_count": 3,
   "metadata": {},
   "outputs": [
    {
     "name": "stdout",
     "output_type": "stream",
     "text": [
      "Passed sanity check: expr matches stored_expr\n"
     ]
    }
   ],
   "source": [
    "# check that the built expression is the same as the stored expression\n",
    "assert expr == stored_expr\n",
    "assert expr._style_id == stored_expr._style_id\n",
    "print(\"Passed sanity check: expr matches stored_expr\")"
   ]
  },
  {
   "cell_type": "code",
   "execution_count": 4,
   "metadata": {},
   "outputs": [
    {
     "name": "stdout",
     "output_type": "stream",
     "text": [
      "\\left(i \\mapsto \\left\\{\\forall_{a_{1}, \\ldots, a_{i} \\in \\mathbb{C}}~\\left(\\left(a_{1} + \\ldots + a_{i}\\right) \\in \\mathbb{C}\\right) \\textrm{ if } i \\in \\mathbb{N}\\right..\\right)\n"
     ]
    }
   ],
   "source": [
    "# Show the LaTeX representation of the expression for convenience if you need it.\n",
    "print(expr.latex())"
   ]
  },
  {
   "cell_type": "code",
   "execution_count": 5,
   "metadata": {},
   "outputs": [
    {
     "data": {
      "text/html": [
       "no style options"
      ],
      "text/plain": [
       "no style options"
      ]
     },
     "execution_count": 5,
     "metadata": {},
     "output_type": "execute_result"
    }
   ],
   "source": [
    "expr.style_options()"
   ]
  },
  {
   "cell_type": "code",
   "execution_count": 6,
   "metadata": {},
   "outputs": [
    {
     "data": {
      "text/html": [
       "<table><tr><th>&nbsp;</th><th>core type</th><th>sub-expressions</th><th>expression</th></tr>\n",
       "<tr><td>0</td><td>ExprTuple</td><td>1</td><td><a class=\"ProveItLink\" href=\"expr.ipynb\"><img src=\"expr.png\" style=\"display:inline;vertical-align:middle;\" /></a></td></tr>\n",
       "<tr><td>1</td><td>Lambda</td><td>parameter:&nbsp;25<br>body:&nbsp;2<br></td><td><a class=\"ProveItLink\" href=\"../f7b3f84b32d13ec250eaa5c3b8a424d6482859c60/expr.ipynb\"><img src=\"../f7b3f84b32d13ec250eaa5c3b8a424d6482859c60/expr.png\" style=\"display:inline;vertical-align:middle;\" /></a></td></tr>\n",
       "<tr><td>2</td><td>Conditional</td><td>value:&nbsp;3<br>condition:&nbsp;4<br></td><td><a class=\"ProveItLink\" href=\"../3588878ffe113253c78b1ba2ac9501dbdc15a0f10/expr.ipynb\"><img src=\"../3588878ffe113253c78b1ba2ac9501dbdc15a0f10/expr.png\" style=\"display:inline;vertical-align:middle;\" /></a></td></tr>\n",
       "<tr><td>3</td><td>Operation</td><td>operator:&nbsp;5<br>operand:&nbsp;8<br></td><td><a class=\"ProveItLink\" href=\"../72cf7a5c68389d50c9f50d1d67dc649e4b0ca1060/expr.ipynb\"><img src=\"../72cf7a5c68389d50c9f50d1d67dc649e4b0ca1060/expr.png\" style=\"display:inline;vertical-align:middle;\" /></a></td></tr>\n",
       "<tr><td>4</td><td>Operation</td><td>operator:&nbsp;26<br>operands:&nbsp;7<br></td><td><a class=\"ProveItLink\" href=\"../fcd2b46c59afcc7fb32c4a2119639ff11faa0aea0/expr.ipynb\"><img src=\"../fcd2b46c59afcc7fb32c4a2119639ff11faa0aea0/expr.png\" style=\"display:inline;vertical-align:middle;\" /></a></td></tr>\n",
       "<tr><td>5</td><td>Literal</td><td></td><td><a class=\"ProveItLink\" href=\"../../../../../logic/booleans/quantification/universality/__pv_it/common/684d35ba98fcbf8ca5011f865e530a51e77730630/expr.ipynb\"><img src=\"../../../../../logic/booleans/quantification/universality/__pv_it/common/684d35ba98fcbf8ca5011f865e530a51e77730630/expr.png\" style=\"display:inline;vertical-align:middle;\" /></a></td></tr>\n",
       "<tr><td>6</td><td>ExprTuple</td><td>8</td><td><a class=\"ProveItLink\" href=\"../ad60f057835c2c6a5777f1d0553b2f93c0143fa20/expr.ipynb\"><img src=\"../ad60f057835c2c6a5777f1d0553b2f93c0143fa20/expr.png\" style=\"display:inline;vertical-align:middle;\" /></a></td></tr>\n",
       "<tr><td>7</td><td>ExprTuple</td><td>25, 9</td><td><a class=\"ProveItLink\" href=\"../86ec3e8e1e29889fb06e7c39ae8675450a2538b90/expr.ipynb\"><img src=\"../86ec3e8e1e29889fb06e7c39ae8675450a2538b90/expr.png\" style=\"display:inline;vertical-align:middle;\" /></a></td></tr>\n",
       "<tr><td>8</td><td>Lambda</td><td>parameters:&nbsp;19<br>body:&nbsp;10<br></td><td><a class=\"ProveItLink\" href=\"../ecbcb57d9f6786ebf345adfb4280aa3cf0f8bda70/expr.ipynb\"><img src=\"../ecbcb57d9f6786ebf345adfb4280aa3cf0f8bda70/expr.png\" style=\"display:inline;vertical-align:middle;\" /></a></td></tr>\n",
       "<tr><td>9</td><td>Literal</td><td></td><td><a class=\"ProveItLink\" href=\"../../../../number_sets/natural_numbers/__pv_it/common/85c8b43c90a7392ebb5459360d343dfa7c7408b50/expr.ipynb\"><img src=\"../../../../number_sets/natural_numbers/__pv_it/common/85c8b43c90a7392ebb5459360d343dfa7c7408b50/expr.png\" style=\"display:inline;vertical-align:middle;\" /></a></td></tr>\n",
       "<tr><td>10</td><td>Conditional</td><td>value:&nbsp;11<br>condition:&nbsp;12<br></td><td><a class=\"ProveItLink\" href=\"../c3ba90345edbd0c0014bf4c95e150864e6d9f2ac0/expr.ipynb\"><img src=\"../c3ba90345edbd0c0014bf4c95e150864e6d9f2ac0/expr.png\" style=\"display:inline;vertical-align:middle;\" /></a></td></tr>\n",
       "<tr><td>11</td><td>Operation</td><td>operator:&nbsp;26<br>operands:&nbsp;13<br></td><td><a class=\"ProveItLink\" href=\"../eeb4b0a77d228c62bc81a6a14c866f41759df51b0/expr.ipynb\"><img src=\"../eeb4b0a77d228c62bc81a6a14c866f41759df51b0/expr.png\" style=\"display:inline;vertical-align:middle;\" /></a></td></tr>\n",
       "<tr><td>12</td><td>Operation</td><td>operator:&nbsp;14<br>operands:&nbsp;15<br></td><td><a class=\"ProveItLink\" href=\"../e6597c17fe5e6ab4703056168507c1a7541846f90/expr.ipynb\"><img src=\"../e6597c17fe5e6ab4703056168507c1a7541846f90/expr.png\" style=\"display:inline;vertical-align:middle;\" /></a></td></tr>\n",
       "<tr><td>13</td><td>ExprTuple</td><td>16, 29</td><td><a class=\"ProveItLink\" href=\"../4cc1fa2b5474d6bd47a2a0ed85c13feab9614a6c0/expr.ipynb\"><img src=\"../4cc1fa2b5474d6bd47a2a0ed85c13feab9614a6c0/expr.png\" style=\"display:inline;vertical-align:middle;\" /></a></td></tr>\n",
       "<tr><td>14</td><td>Literal</td><td></td><td><a class=\"ProveItLink\" href=\"../../../../../logic/booleans/conjunction/__pv_it/common/26b94b53e70b1d77b70f0d9d4236347db37731060/expr.ipynb\"><img src=\"../../../../../logic/booleans/conjunction/__pv_it/common/26b94b53e70b1d77b70f0d9d4236347db37731060/expr.png\" style=\"display:inline;vertical-align:middle;\" /></a></td></tr>\n",
       "<tr><td>15</td><td>ExprTuple</td><td>17</td><td><a class=\"ProveItLink\" href=\"../e74658c2f79ad77eb7b0ba1afb6aff8b80e2736e0/expr.ipynb\"><img src=\"../e74658c2f79ad77eb7b0ba1afb6aff8b80e2736e0/expr.png\" style=\"display:inline;vertical-align:middle;\" /></a></td></tr>\n",
       "<tr><td>16</td><td>Operation</td><td>operator:&nbsp;18<br>operands:&nbsp;19<br></td><td><a class=\"ProveItLink\" href=\"../777cb67a144139ff40afd6fe35c8c992b1cae32f0/expr.ipynb\"><img src=\"../777cb67a144139ff40afd6fe35c8c992b1cae32f0/expr.png\" style=\"display:inline;vertical-align:middle;\" /></a></td></tr>\n",
       "<tr><td>17</td><td>ExprRange</td><td>lambda_map:&nbsp;20<br>start_index:&nbsp;24<br>end_index:&nbsp;25<br></td><td><a class=\"ProveItLink\" href=\"../e9e945404e68ddf8daf3567a0aff12075464d0640/expr.ipynb\"><img src=\"../e9e945404e68ddf8daf3567a0aff12075464d0640/expr.png\" style=\"display:inline;vertical-align:middle;\" /></a></td></tr>\n",
       "<tr><td>18</td><td>Literal</td><td></td><td><a class=\"ProveItLink\" href=\"../../common/1f38fe5cce441387feef296e2c0a2eac260bb4f30/expr.ipynb\"><img src=\"../../common/1f38fe5cce441387feef296e2c0a2eac260bb4f30/expr.png\" style=\"display:inline;vertical-align:middle;\" /></a></td></tr>\n",
       "<tr><td>19</td><td>ExprTuple</td><td>21</td><td><a class=\"ProveItLink\" href=\"../a3b302517b8fc1133cb007ad1965347bc1418e000/expr.ipynb\"><img src=\"../a3b302517b8fc1133cb007ad1965347bc1418e000/expr.png\" style=\"display:inline;vertical-align:middle;\" /></a></td></tr>\n",
       "<tr><td>20</td><td>Lambda</td><td>parameter:&nbsp;32<br>body:&nbsp;22<br></td><td><a class=\"ProveItLink\" href=\"../27e93e67a24b341093eff99ce754a280791bae3c0/expr.ipynb\"><img src=\"../27e93e67a24b341093eff99ce754a280791bae3c0/expr.png\" style=\"display:inline;vertical-align:middle;\" /></a></td></tr>\n",
       "<tr><td>21</td><td>ExprRange</td><td>lambda_map:&nbsp;23<br>start_index:&nbsp;24<br>end_index:&nbsp;25<br></td><td><a class=\"ProveItLink\" href=\"../../../../../core_expr_types/__pv_it/common/a8faf3b27fe552f144fda91135c3a6148ee990d00/expr.ipynb\"><img src=\"../../../../../core_expr_types/__pv_it/common/a8faf3b27fe552f144fda91135c3a6148ee990d00/expr.png\" style=\"display:inline;vertical-align:middle;\" /></a></td></tr>\n",
       "<tr><td>22</td><td>Operation</td><td>operator:&nbsp;26<br>operands:&nbsp;27<br></td><td><a class=\"ProveItLink\" href=\"../2130076bc63d68a0309fd8e0d550825477dbd8360/expr.ipynb\"><img src=\"../2130076bc63d68a0309fd8e0d550825477dbd8360/expr.png\" style=\"display:inline;vertical-align:middle;\" /></a></td></tr>\n",
       "<tr><td>23</td><td>Lambda</td><td>parameter:&nbsp;32<br>body:&nbsp;28<br></td><td><a class=\"ProveItLink\" href=\"../../../../../core_expr_types/__pv_it/common/99ea59f1b92e70eddeee736182b1abeb9f49c91b0/expr.ipynb\"><img src=\"../../../../../core_expr_types/__pv_it/common/99ea59f1b92e70eddeee736182b1abeb9f49c91b0/expr.png\" style=\"display:inline;vertical-align:middle;\" /></a></td></tr>\n",
       "<tr><td>24</td><td>Literal</td><td></td><td><a class=\"ProveItLink\" href=\"../../../../numerals/__pv_it/common/d278e359da0695d9652dd541d45264f93703e2e40/expr.ipynb\"><img src=\"../../../../numerals/__pv_it/common/d278e359da0695d9652dd541d45264f93703e2e40/expr.png\" style=\"display:inline;vertical-align:middle;\" /></a></td></tr>\n",
       "<tr><td>25</td><td>Variable</td><td></td><td><a class=\"ProveItLink\" href=\"../../../../../__pv_it/common/575a6156bb1c87c5beeaf38c302b5905ad57f5780/expr.ipynb\"><img src=\"../../../../../__pv_it/common/575a6156bb1c87c5beeaf38c302b5905ad57f5780/expr.png\" style=\"display:inline;vertical-align:middle;\" /></a></td></tr>\n",
       "<tr><td>26</td><td>Literal</td><td></td><td><a class=\"ProveItLink\" href=\"../../../../../logic/sets/membership/__pv_it/common/7171deca84f71f47a6ec7696972d1632274a12880/expr.ipynb\"><img src=\"../../../../../logic/sets/membership/__pv_it/common/7171deca84f71f47a6ec7696972d1632274a12880/expr.png\" style=\"display:inline;vertical-align:middle;\" /></a></td></tr>\n",
       "<tr><td>27</td><td>ExprTuple</td><td>28, 29</td><td><a class=\"ProveItLink\" href=\"../359244aab050266f05050a39f3eed21eef6a34090/expr.ipynb\"><img src=\"../359244aab050266f05050a39f3eed21eef6a34090/expr.png\" style=\"display:inline;vertical-align:middle;\" /></a></td></tr>\n",
       "<tr><td>28</td><td>IndexedVar</td><td>variable:&nbsp;30<br>index:&nbsp;32<br></td><td><a class=\"ProveItLink\" href=\"../../../../../core_expr_types/__pv_it/common/d8d3053e77ba1db68c0cd106952422881db586670/expr.ipynb\"><img src=\"../../../../../core_expr_types/__pv_it/common/d8d3053e77ba1db68c0cd106952422881db586670/expr.png\" style=\"display:inline;vertical-align:middle;\" /></a></td></tr>\n",
       "<tr><td>29</td><td>Literal</td><td></td><td><a class=\"ProveItLink\" href=\"../../../../number_sets/complex_numbers/__pv_it/common/fbfabc61f6f66350b130e5a55a72b80825c065f90/expr.ipynb\"><img src=\"../../../../number_sets/complex_numbers/__pv_it/common/fbfabc61f6f66350b130e5a55a72b80825c065f90/expr.png\" style=\"display:inline;vertical-align:middle;\" /></a></td></tr>\n",
       "<tr><td>30</td><td>Variable</td><td></td><td><a class=\"ProveItLink\" href=\"../../../../../__pv_it/common/66c90e66682f107a881f2d666959f64e2e72ad750/expr.ipynb\"><img src=\"../../../../../__pv_it/common/66c90e66682f107a881f2d666959f64e2e72ad750/expr.png\" style=\"display:inline;vertical-align:middle;\" /></a></td></tr>\n",
       "<tr><td>31</td><td>ExprTuple</td><td>32</td><td><a class=\"ProveItLink\" href=\"../../../../../core_expr_types/__pv_it/common/ecf50ade416ab41c42c9f4e777b4c862cd9469670/expr.ipynb\"><img src=\"../../../../../core_expr_types/__pv_it/common/ecf50ade416ab41c42c9f4e777b4c862cd9469670/expr.png\" style=\"display:inline;vertical-align:middle;\" /></a></td></tr>\n",
       "<tr><td>32</td><td>Variable</td><td></td><td><a class=\"ProveItLink\" href=\"../../../../../core_expr_types/__pv_it/common/9e6d9d5d7eeb0342cf5bca68def0eb165a1a9bb10/expr.ipynb\"><img src=\"../../../../../core_expr_types/__pv_it/common/9e6d9d5d7eeb0342cf5bca68def0eb165a1a9bb10/expr.png\" style=\"display:inline;vertical-align:middle;\" /></a></td></tr>\n",
       "</table>\n"
      ],
      "text/plain": [
       "0. (i -> {forall_{a_{1}, ..a_{_a}.., a_{i} in Complex} ((a_{1} + ..a_{_a}.. + a_{i}) in Complex) if i in Natural.)\n",
       "   core type: ExprTuple\n",
       "   sub-expressions: 1\n",
       "1. i -> {forall_{a_{1}, ..a_{_a}.., a_{i} in Complex} ((a_{1} + ..a_{_a}.. + a_{i}) in Complex) if i in Natural.\n",
       "   core type: Lambda\n",
       "   parameter: 25\n",
       "   body: 2\n",
       "2. {forall_{a_{1}, ..a_{_a}.., a_{i} in Complex} ((a_{1} + ..a_{_a}.. + a_{i}) in Complex) if i in Natural.\n",
       "   core type: Conditional\n",
       "   value: 3\n",
       "   condition: 4\n",
       "3. forall_{a_{1}, ..a_{_a}.., a_{i} in Complex} ((a_{1} + ..a_{_a}.. + a_{i}) in Complex)\n",
       "   core type: Operation\n",
       "   operator: 5\n",
       "   operand: 8\n",
       "4. i in Natural\n",
       "   core type: Operation\n",
       "   operator: 26\n",
       "   operands: 7\n",
       "5. forall\n",
       "   core type: Literal\n",
       "   sub-expressions: \n",
       "6. ((a_{1}, ..a_{_a}.., a_{i}) -> {(a_{1} + ..a_{_a}.. + a_{i}) in Complex if (a_{1} in Complex) and ..(a_{_a} in Complex).. and (a_{i} in Complex).)\n",
       "   core type: ExprTuple\n",
       "   sub-expressions: 8\n",
       "7. (i, Natural)\n",
       "   core type: ExprTuple\n",
       "   sub-expressions: 25, 9\n",
       "8. (a_{1}, ..a_{_a}.., a_{i}) -> {(a_{1} + ..a_{_a}.. + a_{i}) in Complex if (a_{1} in Complex) and ..(a_{_a} in Complex).. and (a_{i} in Complex).\n",
       "   core type: Lambda\n",
       "   parameters: 19\\n   body: 10\n",
       "9. Natural\n",
       "   core type: Literal\n",
       "   sub-expressions: \n",
       "10. {(a_{1} + ..a_{_a}.. + a_{i}) in Complex if (a_{1} in Complex) and ..(a_{_a} in Complex).. and (a_{i} in Complex).\n",
       "    core type: Conditional\n",
       "    value: 11\n",
       "    condition: 12\n",
       "11. (a_{1} + ..a_{_a}.. + a_{i}) in Complex\n",
       "    core type: Operation\n",
       "    operator: 26\n",
       "    operands: 13\n",
       "12. (a_{1} in Complex) and ..(a_{_a} in Complex).. and (a_{i} in Complex)\n",
       "    core type: Operation\n",
       "    operator: 14\n",
       "    operands: 15\n",
       "13. (a_{1} + ..a_{_a}.. + a_{i}, Complex)\n",
       "    core type: ExprTuple\n",
       "    sub-expressions: 16, 29\n",
       "14. and\n",
       "    core type: Literal\n",
       "    sub-expressions: \n",
       "15. (a_{1} in Complex, ..a_{_a} in Complex.., a_{i} in Complex)\n",
       "    core type: ExprTuple\n",
       "    sub-expressions: 17\n",
       "16. a_{1} + ..a_{_a}.. + a_{i}\n",
       "    core type: Operation\n",
       "    operator: 18\n",
       "    operands: 19\n",
       "17. (a_{1} in Complex), ..(a_{_a} in Complex).., (a_{i} in Complex)\n",
       "    core type: ExprRange\n",
       "    lambda_map: 20\n",
       "    start_index: 24\n",
       "    end_index: 25\n",
       "18. +\n",
       "    core type: Literal\n",
       "    sub-expressions: \n",
       "19. (a_{1}, ..a_{_a}.., a_{i})\n",
       "    core type: ExprTuple\n",
       "    sub-expressions: 21\n",
       "20. _a -> (a_{_a} in Complex)\n",
       "    core type: Lambda\n",
       "    parameter: 32\n",
       "    body: 22\n",
       "21. a_{1}, ..a_{_a}.., a_{i}\n",
       "    core type: ExprRange\n",
       "    lambda_map: 23\n",
       "    start_index: 24\n",
       "    end_index: 25\n",
       "22. a_{_a} in Complex\n",
       "    core type: Operation\n",
       "    operator: 26\n",
       "    operands: 27\n",
       "23. _a -> a_{_a}\n",
       "    core type: Lambda\n",
       "    parameter: 32\n",
       "    body: 28\n",
       "24. 1\n",
       "    core type: Literal\n",
       "    sub-expressions: \n",
       "25. i\n",
       "    core type: Variable\n",
       "    sub-expressions: \n",
       "26. in\n",
       "    core type: Literal\n",
       "    sub-expressions: \n",
       "27. (a_{_a}, Complex)\n",
       "    core type: ExprTuple\n",
       "    sub-expressions: 28, 29\n",
       "28. a_{_a}\n",
       "    core type: IndexedVar\n",
       "variable: 30\n",
       "index: 32\n",
       "29. Complex\n",
       "    core type: Literal\n",
       "    sub-expressions: \n",
       "30. a\n",
       "    core type: Variable\n",
       "    sub-expressions: \n",
       "31. (_a)\n",
       "    core type: ExprTuple\n",
       "    sub-expressions: 32\n",
       "32. _a\n",
       "    core type: Variable\n",
       "    sub-expressions: "
      ]
     },
     "execution_count": 6,
     "metadata": {},
     "output_type": "execute_result"
    }
   ],
   "source": [
    "# display the expression information\n",
    "expr.expr_info()"
   ]
  },
  {
   "cell_type": "code",
   "execution_count": null,
   "metadata": {},
   "outputs": [],
   "source": []
  }
 ],
 "metadata": {
  "kernelspec": {
   "display_name": "Python 3",
   "language": "python",
   "name": "python3"
  }
 },
 "nbformat": 4,
 "nbformat_minor": 0
}