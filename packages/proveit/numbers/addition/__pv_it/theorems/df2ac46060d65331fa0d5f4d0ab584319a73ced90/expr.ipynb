{
 "cells": [
  {
   "cell_type": "markdown",
   "metadata": {},
   "source": [
    "Expression of type <a class=\"ProveItLink\" href=\"../../../../../../../doc/html/api/proveit.Lambda.html\">Lambda</a>\n",
    "=======================\n",
    "# from the theory of <a class=\"ProveItLink\" href=\"../../../_theory_nbs_/theory.ipynb\">proveit.numbers.addition</a>"
   ]
  },
  {
   "cell_type": "code",
   "execution_count": 1,
   "metadata": {},
   "outputs": [],
   "source": [
    "import proveit\n",
    "# Automation is not needed when building an expression:\n",
    "proveit.defaults.automation = False # This will speed things up.\n",
    "proveit.defaults.inline_pngs = False # Makes files smaller.\n",
    "%load_expr # Load the stored expression as 'stored_expr'\n",
    "# import Expression classes needed to build the expression\n",
    "from proveit import Conditional, Lambda, i\n",
    "from proveit.core_expr_types import a_1_to_i\n",
    "from proveit.logic import Forall, InSet\n",
    "from proveit.numbers import Add, Natural, RealNonNeg"
   ]
  },
  {
   "cell_type": "code",
   "execution_count": 2,
   "metadata": {},
   "outputs": [
    {
     "data": {
      "text/html": [
       "<strong id=\"expr\">expr:</strong> <a class=\"ProveItLink\" href=\"expr.ipynb\"><img src=\"expr.png\" style=\"display:inline;vertical-align:middle;\" /></a><br>"
      ],
      "text/plain": [
       "expr: i -> {forall_{a_{1}, ..a_{_a}.., a_{i} in RealNonNeg} ((a_{1} + ..a_{_a}.. + a_{i}) in RealNonNeg) if i in Natural."
      ]
     },
     "execution_count": 2,
     "metadata": {},
     "output_type": "execute_result"
    }
   ],
   "source": [
    "# build up the expression from sub-expressions\n",
    "expr = Lambda(i, Conditional(Forall([a_1_to_i], InSet(Add(a_1_to_i), RealNonNeg), domains = [RealNonNeg]), InSet(i, Natural)))"
   ]
  },
  {
   "cell_type": "code",
   "execution_count": 3,
   "metadata": {},
   "outputs": [
    {
     "name": "stdout",
     "output_type": "stream",
     "text": [
      "Passed sanity check: expr matches stored_expr\n"
     ]
    }
   ],
   "source": [
    "# check that the built expression is the same as the stored expression\n",
    "assert expr == stored_expr\n",
    "assert expr._style_id == stored_expr._style_id\n",
    "print(\"Passed sanity check: expr matches stored_expr\")"
   ]
  },
  {
   "cell_type": "code",
   "execution_count": 4,
   "metadata": {},
   "outputs": [
    {
     "name": "stdout",
     "output_type": "stream",
     "text": [
      "i \\mapsto \\left\\{\\forall_{a_{1}, \\ldots, a_{i} \\in \\mathbb{R}^{\\ge 0}}~\\left(\\left(a_{1} + \\ldots + a_{i}\\right) \\in \\mathbb{R}^{\\ge 0}\\right) \\textrm{ if } i \\in \\mathbb{N}\\right..\n"
     ]
    }
   ],
   "source": [
    "# Show the LaTeX representation of the expression for convenience if you need it.\n",
    "print(expr.latex())"
   ]
  },
  {
   "cell_type": "code",
   "execution_count": 5,
   "metadata": {},
   "outputs": [
    {
     "data": {
      "text/html": [
       "no style options"
      ],
      "text/plain": [
       "no style options"
      ]
     },
     "execution_count": 5,
     "metadata": {},
     "output_type": "execute_result"
    }
   ],
   "source": [
    "expr.style_options()"
   ]
  },
  {
   "cell_type": "code",
   "execution_count": 6,
   "metadata": {},
   "outputs": [
    {
     "data": {
      "text/html": [
       "<table><tr><th>&nbsp;</th><th>core type</th><th>sub-expressions</th><th>expression</th></tr>\n",
       "<tr><td>0</td><td>Lambda</td><td>parameter:&nbsp;24<br>body:&nbsp;1<br></td><td><a class=\"ProveItLink\" href=\"expr.ipynb\"><img src=\"expr.png\" style=\"display:inline;vertical-align:middle;\" /></a></td></tr>\n",
       "<tr><td>1</td><td>Conditional</td><td>value:&nbsp;2<br>condition:&nbsp;3<br></td><td><a class=\"ProveItLink\" href=\"../206e79eac077e3e73f4d3a01d6b15f3b04396e4a0/expr.ipynb\"><img src=\"../206e79eac077e3e73f4d3a01d6b15f3b04396e4a0/expr.png\" style=\"display:inline;vertical-align:middle;\" /></a></td></tr>\n",
       "<tr><td>2</td><td>Operation</td><td>operator:&nbsp;4<br>operand:&nbsp;7<br></td><td><a class=\"ProveItLink\" href=\"../09953820edabe812a7f4767d8978dd268997a08c0/expr.ipynb\"><img src=\"../09953820edabe812a7f4767d8978dd268997a08c0/expr.png\" style=\"display:inline;vertical-align:middle;\" /></a></td></tr>\n",
       "<tr><td>3</td><td>Operation</td><td>operator:&nbsp;25<br>operands:&nbsp;6<br></td><td><a class=\"ProveItLink\" href=\"../fcd2b46c59afcc7fb32c4a2119639ff11faa0aea0/expr.ipynb\"><img src=\"../fcd2b46c59afcc7fb32c4a2119639ff11faa0aea0/expr.png\" style=\"display:inline;vertical-align:middle;\" /></a></td></tr>\n",
       "<tr><td>4</td><td>Literal</td><td></td><td><a class=\"ProveItLink\" href=\"../../../../../logic/booleans/quantification/universality/__pv_it/common/684d35ba98fcbf8ca5011f865e530a51e77730630/expr.ipynb\"><img src=\"../../../../../logic/booleans/quantification/universality/__pv_it/common/684d35ba98fcbf8ca5011f865e530a51e77730630/expr.png\" style=\"display:inline;vertical-align:middle;\" /></a></td></tr>\n",
       "<tr><td>5</td><td>ExprTuple</td><td>7</td><td><a class=\"ProveItLink\" href=\"../e4bd9176a8443a154cf06cacdc29cde46000f1ea0/expr.ipynb\"><img src=\"../e4bd9176a8443a154cf06cacdc29cde46000f1ea0/expr.png\" style=\"display:inline;vertical-align:middle;\" /></a></td></tr>\n",
       "<tr><td>6</td><td>ExprTuple</td><td>24, 8</td><td><a class=\"ProveItLink\" href=\"../86ec3e8e1e29889fb06e7c39ae8675450a2538b90/expr.ipynb\"><img src=\"../86ec3e8e1e29889fb06e7c39ae8675450a2538b90/expr.png\" style=\"display:inline;vertical-align:middle;\" /></a></td></tr>\n",
       "<tr><td>7</td><td>Lambda</td><td>parameters:&nbsp;18<br>body:&nbsp;9<br></td><td><a class=\"ProveItLink\" href=\"../d66302932fae823fde9fa773a4e6ad35171235e10/expr.ipynb\"><img src=\"../d66302932fae823fde9fa773a4e6ad35171235e10/expr.png\" style=\"display:inline;vertical-align:middle;\" /></a></td></tr>\n",
       "<tr><td>8</td><td>Literal</td><td></td><td><a class=\"ProveItLink\" href=\"../../../../number_sets/natural_numbers/__pv_it/common/85c8b43c90a7392ebb5459360d343dfa7c7408b50/expr.ipynb\"><img src=\"../../../../number_sets/natural_numbers/__pv_it/common/85c8b43c90a7392ebb5459360d343dfa7c7408b50/expr.png\" style=\"display:inline;vertical-align:middle;\" /></a></td></tr>\n",
       "<tr><td>9</td><td>Conditional</td><td>value:&nbsp;10<br>condition:&nbsp;11<br></td><td><a class=\"ProveItLink\" href=\"../aa91f1fb828889f01eb913cf3bfce909f73300320/expr.ipynb\"><img src=\"../aa91f1fb828889f01eb913cf3bfce909f73300320/expr.png\" style=\"display:inline;vertical-align:middle;\" /></a></td></tr>\n",
       "<tr><td>10</td><td>Operation</td><td>operator:&nbsp;25<br>operands:&nbsp;12<br></td><td><a class=\"ProveItLink\" href=\"../57c72b3adc6350ad29f7d14f26fae86b22af1ffc0/expr.ipynb\"><img src=\"../57c72b3adc6350ad29f7d14f26fae86b22af1ffc0/expr.png\" style=\"display:inline;vertical-align:middle;\" /></a></td></tr>\n",
       "<tr><td>11</td><td>Operation</td><td>operator:&nbsp;13<br>operands:&nbsp;14<br></td><td><a class=\"ProveItLink\" href=\"../94ad8254562453843af35b2fe3662e20f1cd79bf0/expr.ipynb\"><img src=\"../94ad8254562453843af35b2fe3662e20f1cd79bf0/expr.png\" style=\"display:inline;vertical-align:middle;\" /></a></td></tr>\n",
       "<tr><td>12</td><td>ExprTuple</td><td>15, 28</td><td><a class=\"ProveItLink\" href=\"../135e7cfa276bc4605ab8a1d33b4ad014f327721e0/expr.ipynb\"><img src=\"../135e7cfa276bc4605ab8a1d33b4ad014f327721e0/expr.png\" style=\"display:inline;vertical-align:middle;\" /></a></td></tr>\n",
       "<tr><td>13</td><td>Literal</td><td></td><td><a class=\"ProveItLink\" href=\"../../../../../logic/booleans/conjunction/__pv_it/common/26b94b53e70b1d77b70f0d9d4236347db37731060/expr.ipynb\"><img src=\"../../../../../logic/booleans/conjunction/__pv_it/common/26b94b53e70b1d77b70f0d9d4236347db37731060/expr.png\" style=\"display:inline;vertical-align:middle;\" /></a></td></tr>\n",
       "<tr><td>14</td><td>ExprTuple</td><td>16</td><td><a class=\"ProveItLink\" href=\"../338c8c1b1674e5b71eafc353124d5891ebe8ad690/expr.ipynb\"><img src=\"../338c8c1b1674e5b71eafc353124d5891ebe8ad690/expr.png\" style=\"display:inline;vertical-align:middle;\" /></a></td></tr>\n",
       "<tr><td>15</td><td>Operation</td><td>operator:&nbsp;17<br>operands:&nbsp;18<br></td><td><a class=\"ProveItLink\" href=\"../777cb67a144139ff40afd6fe35c8c992b1cae32f0/expr.ipynb\"><img src=\"../777cb67a144139ff40afd6fe35c8c992b1cae32f0/expr.png\" style=\"display:inline;vertical-align:middle;\" /></a></td></tr>\n",
       "<tr><td>16</td><td>ExprRange</td><td>lambda_map:&nbsp;19<br>start_index:&nbsp;23<br>end_index:&nbsp;24<br></td><td><a class=\"ProveItLink\" href=\"../2106a03582e43873911144bff6b6a4396dfcdfd30/expr.ipynb\"><img src=\"../2106a03582e43873911144bff6b6a4396dfcdfd30/expr.png\" style=\"display:inline;vertical-align:middle;\" /></a></td></tr>\n",
       "<tr><td>17</td><td>Literal</td><td></td><td><a class=\"ProveItLink\" href=\"../../common/1f38fe5cce441387feef296e2c0a2eac260bb4f30/expr.ipynb\"><img src=\"../../common/1f38fe5cce441387feef296e2c0a2eac260bb4f30/expr.png\" style=\"display:inline;vertical-align:middle;\" /></a></td></tr>\n",
       "<tr><td>18</td><td>ExprTuple</td><td>20</td><td><a class=\"ProveItLink\" href=\"../a3b302517b8fc1133cb007ad1965347bc1418e000/expr.ipynb\"><img src=\"../a3b302517b8fc1133cb007ad1965347bc1418e000/expr.png\" style=\"display:inline;vertical-align:middle;\" /></a></td></tr>\n",
       "<tr><td>19</td><td>Lambda</td><td>parameter:&nbsp;31<br>body:&nbsp;21<br></td><td><a class=\"ProveItLink\" href=\"../9b3846f04b6a99c80461a39553d6721c9c7da7a80/expr.ipynb\"><img src=\"../9b3846f04b6a99c80461a39553d6721c9c7da7a80/expr.png\" style=\"display:inline;vertical-align:middle;\" /></a></td></tr>\n",
       "<tr><td>20</td><td>ExprRange</td><td>lambda_map:&nbsp;22<br>start_index:&nbsp;23<br>end_index:&nbsp;24<br></td><td><a class=\"ProveItLink\" href=\"../../../../../core_expr_types/__pv_it/common/a8faf3b27fe552f144fda91135c3a6148ee990d00/expr.ipynb\"><img src=\"../../../../../core_expr_types/__pv_it/common/a8faf3b27fe552f144fda91135c3a6148ee990d00/expr.png\" style=\"display:inline;vertical-align:middle;\" /></a></td></tr>\n",
       "<tr><td>21</td><td>Operation</td><td>operator:&nbsp;25<br>operands:&nbsp;26<br></td><td><a class=\"ProveItLink\" href=\"../720457626ce97cdda7d2421899716d389f4d6b4a0/expr.ipynb\"><img src=\"../720457626ce97cdda7d2421899716d389f4d6b4a0/expr.png\" style=\"display:inline;vertical-align:middle;\" /></a></td></tr>\n",
       "<tr><td>22</td><td>Lambda</td><td>parameter:&nbsp;31<br>body:&nbsp;27<br></td><td><a class=\"ProveItLink\" href=\"../../../../../core_expr_types/__pv_it/common/99ea59f1b92e70eddeee736182b1abeb9f49c91b0/expr.ipynb\"><img src=\"../../../../../core_expr_types/__pv_it/common/99ea59f1b92e70eddeee736182b1abeb9f49c91b0/expr.png\" style=\"display:inline;vertical-align:middle;\" /></a></td></tr>\n",
       "<tr><td>23</td><td>Literal</td><td></td><td><a class=\"ProveItLink\" href=\"../../../../numerals/__pv_it/common/d278e359da0695d9652dd541d45264f93703e2e40/expr.ipynb\"><img src=\"../../../../numerals/__pv_it/common/d278e359da0695d9652dd541d45264f93703e2e40/expr.png\" style=\"display:inline;vertical-align:middle;\" /></a></td></tr>\n",
       "<tr><td>24</td><td>Variable</td><td></td><td><a class=\"ProveItLink\" href=\"../../../../../__pv_it/common/575a6156bb1c87c5beeaf38c302b5905ad57f5780/expr.ipynb\"><img src=\"../../../../../__pv_it/common/575a6156bb1c87c5beeaf38c302b5905ad57f5780/expr.png\" style=\"display:inline;vertical-align:middle;\" /></a></td></tr>\n",
       "<tr><td>25</td><td>Literal</td><td></td><td><a class=\"ProveItLink\" href=\"../../../../../logic/sets/membership/__pv_it/common/7171deca84f71f47a6ec7696972d1632274a12880/expr.ipynb\"><img src=\"../../../../../logic/sets/membership/__pv_it/common/7171deca84f71f47a6ec7696972d1632274a12880/expr.png\" style=\"display:inline;vertical-align:middle;\" /></a></td></tr>\n",
       "<tr><td>26</td><td>ExprTuple</td><td>27, 28</td><td><a class=\"ProveItLink\" href=\"../1219b7965724ea48c336261c2dd67aa2b158f26f0/expr.ipynb\"><img src=\"../1219b7965724ea48c336261c2dd67aa2b158f26f0/expr.png\" style=\"display:inline;vertical-align:middle;\" /></a></td></tr>\n",
       "<tr><td>27</td><td>IndexedVar</td><td>variable:&nbsp;29<br>index:&nbsp;31<br></td><td><a class=\"ProveItLink\" href=\"../../../../../core_expr_types/__pv_it/common/d8d3053e77ba1db68c0cd106952422881db586670/expr.ipynb\"><img src=\"../../../../../core_expr_types/__pv_it/common/d8d3053e77ba1db68c0cd106952422881db586670/expr.png\" style=\"display:inline;vertical-align:middle;\" /></a></td></tr>\n",
       "<tr><td>28</td><td>Literal</td><td></td><td><a class=\"ProveItLink\" href=\"../../../../number_sets/real_numbers/__pv_it/common/0847e9a49dd514cc67c01b50068919cf980ccc230/expr.ipynb\"><img src=\"../../../../number_sets/real_numbers/__pv_it/common/0847e9a49dd514cc67c01b50068919cf980ccc230/expr.png\" style=\"display:inline;vertical-align:middle;\" /></a></td></tr>\n",
       "<tr><td>29</td><td>Variable</td><td></td><td><a class=\"ProveItLink\" href=\"../../../../../__pv_it/common/66c90e66682f107a881f2d666959f64e2e72ad750/expr.ipynb\"><img src=\"../../../../../__pv_it/common/66c90e66682f107a881f2d666959f64e2e72ad750/expr.png\" style=\"display:inline;vertical-align:middle;\" /></a></td></tr>\n",
       "<tr><td>30</td><td>ExprTuple</td><td>31</td><td><a class=\"ProveItLink\" href=\"../../../../../core_expr_types/__pv_it/common/ecf50ade416ab41c42c9f4e777b4c862cd9469670/expr.ipynb\"><img src=\"../../../../../core_expr_types/__pv_it/common/ecf50ade416ab41c42c9f4e777b4c862cd9469670/expr.png\" style=\"display:inline;vertical-align:middle;\" /></a></td></tr>\n",
       "<tr><td>31</td><td>Variable</td><td></td><td><a class=\"ProveItLink\" href=\"../../../../../core_expr_types/__pv_it/common/9e6d9d5d7eeb0342cf5bca68def0eb165a1a9bb10/expr.ipynb\"><img src=\"../../../../../core_expr_types/__pv_it/common/9e6d9d5d7eeb0342cf5bca68def0eb165a1a9bb10/expr.png\" style=\"display:inline;vertical-align:middle;\" /></a></td></tr>\n",
       "</table>\n"
      ],
      "text/plain": [
       "0. i -> {forall_{a_{1}, ..a_{_a}.., a_{i} in RealNonNeg} ((a_{1} + ..a_{_a}.. + a_{i}) in RealNonNeg) if i in Natural.\n",
       "   core type: Lambda\n",
       "   parameter: 24\n",
       "   body: 1\n",
       "1. {forall_{a_{1}, ..a_{_a}.., a_{i} in RealNonNeg} ((a_{1} + ..a_{_a}.. + a_{i}) in RealNonNeg) if i in Natural.\n",
       "   core type: Conditional\n",
       "   value: 2\n",
       "   condition: 3\n",
       "2. forall_{a_{1}, ..a_{_a}.., a_{i} in RealNonNeg} ((a_{1} + ..a_{_a}.. + a_{i}) in RealNonNeg)\n",
       "   core type: Operation\n",
       "   operator: 4\n",
       "   operand: 7\n",
       "3. i in Natural\n",
       "   core type: Operation\n",
       "   operator: 25\n",
       "   operands: 6\n",
       "4. forall\n",
       "   core type: Literal\n",
       "   sub-expressions: \n",
       "5. ((a_{1}, ..a_{_a}.., a_{i}) -> {(a_{1} + ..a_{_a}.. + a_{i}) in RealNonNeg if (a_{1} in RealNonNeg) and ..(a_{_a} in RealNonNeg).. and (a_{i} in RealNonNeg).)\n",
       "   core type: ExprTuple\n",
       "   sub-expressions: 7\n",
       "6. (i, Natural)\n",
       "   core type: ExprTuple\n",
       "   sub-expressions: 24, 8\n",
       "7. (a_{1}, ..a_{_a}.., a_{i}) -> {(a_{1} + ..a_{_a}.. + a_{i}) in RealNonNeg if (a_{1} in RealNonNeg) and ..(a_{_a} in RealNonNeg).. and (a_{i} in RealNonNeg).\n",
       "   core type: Lambda\n",
       "   parameters: 18\\n   body: 9\n",
       "8. Natural\n",
       "   core type: Literal\n",
       "   sub-expressions: \n",
       "9. {(a_{1} + ..a_{_a}.. + a_{i}) in RealNonNeg if (a_{1} in RealNonNeg) and ..(a_{_a} in RealNonNeg).. and (a_{i} in RealNonNeg).\n",
       "   core type: Conditional\n",
       "   value: 10\n",
       "   condition: 11\n",
       "10. (a_{1} + ..a_{_a}.. + a_{i}) in RealNonNeg\n",
       "    core type: Operation\n",
       "    operator: 25\n",
       "    operands: 12\n",
       "11. (a_{1} in RealNonNeg) and ..(a_{_a} in RealNonNeg).. and (a_{i} in RealNonNeg)\n",
       "    core type: Operation\n",
       "    operator: 13\n",
       "    operands: 14\n",
       "12. (a_{1} + ..a_{_a}.. + a_{i}, RealNonNeg)\n",
       "    core type: ExprTuple\n",
       "    sub-expressions: 15, 28\n",
       "13. and\n",
       "    core type: Literal\n",
       "    sub-expressions: \n",
       "14. (a_{1} in RealNonNeg, ..a_{_a} in RealNonNeg.., a_{i} in RealNonNeg)\n",
       "    core type: ExprTuple\n",
       "    sub-expressions: 16\n",
       "15. a_{1} + ..a_{_a}.. + a_{i}\n",
       "    core type: Operation\n",
       "    operator: 17\n",
       "    operands: 18\n",
       "16. (a_{1} in RealNonNeg), ..(a_{_a} in RealNonNeg).., (a_{i} in RealNonNeg)\n",
       "    core type: ExprRange\n",
       "    lambda_map: 19\n",
       "    start_index: 23\n",
       "    end_index: 24\n",
       "17. +\n",
       "    core type: Literal\n",
       "    sub-expressions: \n",
       "18. (a_{1}, ..a_{_a}.., a_{i})\n",
       "    core type: ExprTuple\n",
       "    sub-expressions: 20\n",
       "19. _a -> (a_{_a} in RealNonNeg)\n",
       "    core type: Lambda\n",
       "    parameter: 31\n",
       "    body: 21\n",
       "20. a_{1}, ..a_{_a}.., a_{i}\n",
       "    core type: ExprRange\n",
       "    lambda_map: 22\n",
       "    start_index: 23\n",
       "    end_index: 24\n",
       "21. a_{_a} in RealNonNeg\n",
       "    core type: Operation\n",
       "    operator: 25\n",
       "    operands: 26\n",
       "22. _a -> a_{_a}\n",
       "    core type: Lambda\n",
       "    parameter: 31\n",
       "    body: 27\n",
       "23. 1\n",
       "    core type: Literal\n",
       "    sub-expressions: \n",
       "24. i\n",
       "    core type: Variable\n",
       "    sub-expressions: \n",
       "25. in\n",
       "    core type: Literal\n",
       "    sub-expressions: \n",
       "26. (a_{_a}, RealNonNeg)\n",
       "    core type: ExprTuple\n",
       "    sub-expressions: 27, 28\n",
       "27. a_{_a}\n",
       "    core type: IndexedVar\n",
       "variable: 29\n",
       "index: 31\n",
       "28. RealNonNeg\n",
       "    core type: Literal\n",
       "    sub-expressions: \n",
       "29. a\n",
       "    core type: Variable\n",
       "    sub-expressions: \n",
       "30. (_a)\n",
       "    core type: ExprTuple\n",
       "    sub-expressions: 31\n",
       "31. _a\n",
       "    core type: Variable\n",
       "    sub-expressions: "
      ]
     },
     "execution_count": 6,
     "metadata": {},
     "output_type": "execute_result"
    }
   ],
   "source": [
    "# display the expression information\n",
    "expr.expr_info()"
   ]
  },
  {
   "cell_type": "code",
   "execution_count": null,
   "metadata": {},
   "outputs": [],
   "source": []
  }
 ],
 "metadata": {
  "kernelspec": {
   "display_name": "Python 3",
   "language": "python",
   "name": "python3"
  }
 },
 "nbformat": 4,
 "nbformat_minor": 0
}