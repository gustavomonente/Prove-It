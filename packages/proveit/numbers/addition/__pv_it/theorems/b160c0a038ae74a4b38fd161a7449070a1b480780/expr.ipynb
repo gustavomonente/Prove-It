{
 "cells": [
  {
   "cell_type": "markdown",
   "metadata": {},
   "source": [
    "Expression of type <a class=\"ProveItLink\" href=\"../../../../../../../doc/html/api/proveit.Conditional.html\">Conditional</a>\n",
    "=======================\n",
    "# from the theory of <a class=\"ProveItLink\" href=\"../../../_theory_nbs_/theory.ipynb\">proveit.numbers.addition</a>"
   ]
  },
  {
   "cell_type": "code",
   "execution_count": 1,
   "metadata": {},
   "outputs": [],
   "source": [
    "import proveit\n",
    "# Automation is not needed when building an expression:\n",
    "proveit.defaults.automation = False # This will speed things up.\n",
    "proveit.defaults.inline_pngs = False # Makes files smaller.\n",
    "%load_expr # Load the stored expression as 'stored_expr'\n",
    "# import Expression classes needed to build the expression\n",
    "from proveit import Conditional, ExprRange, IndexedVar, Variable, a, b, c, i, j\n",
    "from proveit.core_expr_types import a_1_to_i, c_1_to_j\n",
    "from proveit.logic import And, Forall, InSet\n",
    "from proveit.numbers import Add, Less, Real, RealNeg, one"
   ]
  },
  {
   "cell_type": "code",
   "execution_count": 2,
   "metadata": {},
   "outputs": [
    {
     "data": {
      "text/html": [
       "<strong id=\"expr\">expr:</strong> <a class=\"ProveItLink\" href=\"expr.ipynb\"><img src=\"expr.png\" style=\"display:inline;vertical-align:middle;\" /></a><br>"
      ],
      "text/plain": [
       "expr: {forall_{b in Real} ((a_{1} + ..a_{_a}.. + a_{i} + b + c_{1} + ..c_{_a}.. + c_{j}) < b) if a_{1} in RealNeg ,  ..a_{_a} in RealNeg.. ,  a_{i} in RealNeg ,  c_{1} in RealNeg ,  ..c_{_a} in RealNeg.. ,  c_{j} in RealNeg."
      ]
     },
     "execution_count": 2,
     "metadata": {},
     "output_type": "execute_result"
    }
   ],
   "source": [
    "# build up the expression from sub-expressions\n",
    "sub_expr1 = Variable(\"_a\", latex_format = r\"{_{-}a}\")\n",
    "expr = Conditional(Forall([b], Less(Add(a_1_to_i, b, c_1_to_j), b), domains = [Real]), And(ExprRange(sub_expr1, InSet(IndexedVar(a, sub_expr1), RealNeg), one, i), ExprRange(sub_expr1, InSet(IndexedVar(c, sub_expr1), RealNeg), one, j)))"
   ]
  },
  {
   "cell_type": "code",
   "execution_count": 3,
   "metadata": {},
   "outputs": [
    {
     "name": "stdout",
     "output_type": "stream",
     "text": [
      "Passed sanity check: expr matches stored_expr\n"
     ]
    }
   ],
   "source": [
    "# check that the built expression is the same as the stored expression\n",
    "assert expr == stored_expr\n",
    "assert expr._style_id == stored_expr._style_id\n",
    "print(\"Passed sanity check: expr matches stored_expr\")"
   ]
  },
  {
   "cell_type": "code",
   "execution_count": 4,
   "metadata": {},
   "outputs": [
    {
     "name": "stdout",
     "output_type": "stream",
     "text": [
      "\\left\\{\\forall_{b \\in \\mathbb{R}}~\\left(\\left(a_{1} + \\ldots + a_{i} + b + c_{1} + \\ldots + c_{j}\\right) < b\\right) \\textrm{ if } a_{1} \\in \\mathbb{R}^- ,  \\ldots ,  a_{i} \\in \\mathbb{R}^- ,  c_{1} \\in \\mathbb{R}^- ,  \\ldots ,  c_{j} \\in \\mathbb{R}^-\\right..\n"
     ]
    }
   ],
   "source": [
    "# Show the LaTeX representation of the expression for convenience if you need it.\n",
    "print(expr.latex())"
   ]
  },
  {
   "cell_type": "code",
   "execution_count": 5,
   "metadata": {},
   "outputs": [
    {
     "data": {
      "text/html": [
       "<table><tr><th>&nbsp;</th><th>core type</th><th>sub-expressions</th><th>expression</th></tr>\n",
       "<tr><td>0</td><td>Conditional</td><td>value:&nbsp;1<br>condition:&nbsp;2<br></td><td><a class=\"ProveItLink\" href=\"expr.ipynb\"><img src=\"expr.png\" style=\"display:inline;vertical-align:middle;\" /></a></td></tr>\n",
       "<tr><td>1</td><td>Operation</td><td>operator:&nbsp;3<br>operand:&nbsp;4<br></td><td><a class=\"ProveItLink\" href=\"../a1fd021415797d1cb8ed66a0129ce01067cec1210/expr.ipynb\"><img src=\"../a1fd021415797d1cb8ed66a0129ce01067cec1210/expr.png\" style=\"display:inline;vertical-align:middle;\" /></a></td></tr>\n",
       "<tr><td>2</td><td>Operation</td><td>operator:&nbsp;5<br>operands:&nbsp;6<br></td><td><a class=\"ProveItLink\" href=\"../2c2a584adc99d15744cb87b473a58f1bb920ffe60/expr.ipynb\"><img src=\"../2c2a584adc99d15744cb87b473a58f1bb920ffe60/expr.png\" style=\"display:inline;vertical-align:middle;\" /></a></td></tr>\n",
       "<tr><td>3</td><td>Literal</td><td></td><td><a class=\"ProveItLink\" href=\"../../../../../logic/booleans/quantification/universality/__pv_it/common/083d2baa0b8ecab1d230f9ec29a15aa1355809fb0/expr.ipynb\"><img src=\"../../../../../logic/booleans/quantification/universality/__pv_it/common/083d2baa0b8ecab1d230f9ec29a15aa1355809fb0/expr.png\" style=\"display:inline;vertical-align:middle;\" /></a></td></tr>\n",
       "<tr><td>4</td><td>Lambda</td><td>parameter:&nbsp;28<br>body:&nbsp;7<br></td><td><a class=\"ProveItLink\" href=\"../c48f7848067616b759cce45ae5f417d82d1ae92b0/expr.ipynb\"><img src=\"../c48f7848067616b759cce45ae5f417d82d1ae92b0/expr.png\" style=\"display:inline;vertical-align:middle;\" /></a></td></tr>\n",
       "<tr><td>5</td><td>Literal</td><td></td><td><a class=\"ProveItLink\" href=\"../../../../../logic/booleans/conjunction/__pv_it/common/42118ff318bd65d98b1393f64ce7c2269feef76e0/expr.ipynb\"><img src=\"../../../../../logic/booleans/conjunction/__pv_it/common/42118ff318bd65d98b1393f64ce7c2269feef76e0/expr.png\" style=\"display:inline;vertical-align:middle;\" /></a></td></tr>\n",
       "<tr><td>6</td><td>ExprTuple</td><td>8, 9</td><td><a class=\"ProveItLink\" href=\"../85cfe56956676885e9e7c3bec80327e3d47648ca0/expr.ipynb\"><img src=\"../85cfe56956676885e9e7c3bec80327e3d47648ca0/expr.png\" style=\"display:inline;vertical-align:middle;\" /></a></td></tr>\n",
       "<tr><td>7</td><td>Conditional</td><td>value:&nbsp;10<br>condition:&nbsp;11<br></td><td><a class=\"ProveItLink\" href=\"../af408d37b9413c4a1c58fb78fc7fe042d374e1ff0/expr.ipynb\"><img src=\"../af408d37b9413c4a1c58fb78fc7fe042d374e1ff0/expr.png\" style=\"display:inline;vertical-align:middle;\" /></a></td></tr>\n",
       "<tr><td>8</td><td>ExprRange</td><td>lambda_map:&nbsp;12<br>start_index:&nbsp;33<br>end_index:&nbsp;31<br></td><td><a class=\"ProveItLink\" href=\"../ad63eab263e099f8b193a5e08dbb469cc56daabb0/expr.ipynb\"><img src=\"../ad63eab263e099f8b193a5e08dbb469cc56daabb0/expr.png\" style=\"display:inline;vertical-align:middle;\" /></a></td></tr>\n",
       "<tr><td>9</td><td>ExprRange</td><td>lambda_map:&nbsp;13<br>start_index:&nbsp;33<br>end_index:&nbsp;34<br></td><td><a class=\"ProveItLink\" href=\"../d1b6d11e3c97056f649f1b9c274bc4570e0687930/expr.ipynb\"><img src=\"../d1b6d11e3c97056f649f1b9c274bc4570e0687930/expr.png\" style=\"display:inline;vertical-align:middle;\" /></a></td></tr>\n",
       "<tr><td>10</td><td>Operation</td><td>operator:&nbsp;14<br>operands:&nbsp;15<br></td><td><a class=\"ProveItLink\" href=\"../c1b35d2dbf4bde71d225455d285c75de8fcd27fd0/expr.ipynb\"><img src=\"../c1b35d2dbf4bde71d225455d285c75de8fcd27fd0/expr.png\" style=\"display:inline;vertical-align:middle;\" /></a></td></tr>\n",
       "<tr><td>11</td><td>Operation</td><td>operator:&nbsp;22<br>operands:&nbsp;16<br></td><td><a class=\"ProveItLink\" href=\"../01066498eeade39164943c7fc785297aa9d0bb160/expr.ipynb\"><img src=\"../01066498eeade39164943c7fc785297aa9d0bb160/expr.png\" style=\"display:inline;vertical-align:middle;\" /></a></td></tr>\n",
       "<tr><td>12</td><td>Lambda</td><td>parameter:&nbsp;39<br>body:&nbsp;17<br></td><td><a class=\"ProveItLink\" href=\"../14feea705266326cfb8493e97219af0b415983230/expr.ipynb\"><img src=\"../14feea705266326cfb8493e97219af0b415983230/expr.png\" style=\"display:inline;vertical-align:middle;\" /></a></td></tr>\n",
       "<tr><td>13</td><td>Lambda</td><td>parameter:&nbsp;39<br>body:&nbsp;18<br></td><td><a class=\"ProveItLink\" href=\"../4014aff1f1f4ff7e26e79031ada0a0be83cee0fb0/expr.ipynb\"><img src=\"../4014aff1f1f4ff7e26e79031ada0a0be83cee0fb0/expr.png\" style=\"display:inline;vertical-align:middle;\" /></a></td></tr>\n",
       "<tr><td>14</td><td>Literal</td><td></td><td><a class=\"ProveItLink\" href=\"../../../../ordering/__pv_it/common/fa503ed52033522c609eef1cf3e1b45796489da50/expr.ipynb\"><img src=\"../../../../ordering/__pv_it/common/fa503ed52033522c609eef1cf3e1b45796489da50/expr.png\" style=\"display:inline;vertical-align:middle;\" /></a></td></tr>\n",
       "<tr><td>15</td><td>ExprTuple</td><td>19, 28</td><td><a class=\"ProveItLink\" href=\"../c1643776ce6b11dde8a5e5524c4f8e5f3b660cb80/expr.ipynb\"><img src=\"../c1643776ce6b11dde8a5e5524c4f8e5f3b660cb80/expr.png\" style=\"display:inline;vertical-align:middle;\" /></a></td></tr>\n",
       "<tr><td>16</td><td>ExprTuple</td><td>28, 20</td><td><a class=\"ProveItLink\" href=\"../c94d1101563abe2f3870a8e37dc10d8c654ef9d30/expr.ipynb\"><img src=\"../c94d1101563abe2f3870a8e37dc10d8c654ef9d30/expr.png\" style=\"display:inline;vertical-align:middle;\" /></a></td></tr>\n",
       "<tr><td>17</td><td>Operation</td><td>operator:&nbsp;22<br>operands:&nbsp;21<br></td><td><a class=\"ProveItLink\" href=\"../96716addface3524a09e95455c86d71378cb3ac20/expr.ipynb\"><img src=\"../96716addface3524a09e95455c86d71378cb3ac20/expr.png\" style=\"display:inline;vertical-align:middle;\" /></a></td></tr>\n",
       "<tr><td>18</td><td>Operation</td><td>operator:&nbsp;22<br>operands:&nbsp;23<br></td><td><a class=\"ProveItLink\" href=\"../b2660e44a8ce97bf032325af3e6a028ab47131910/expr.ipynb\"><img src=\"../b2660e44a8ce97bf032325af3e6a028ab47131910/expr.png\" style=\"display:inline;vertical-align:middle;\" /></a></td></tr>\n",
       "<tr><td>19</td><td>Operation</td><td>operator:&nbsp;24<br>operands:&nbsp;25<br></td><td><a class=\"ProveItLink\" href=\"../fa15c923d8af99b341134bc5c1fe6cb0dee7afb50/expr.ipynb\"><img src=\"../fa15c923d8af99b341134bc5c1fe6cb0dee7afb50/expr.png\" style=\"display:inline;vertical-align:middle;\" /></a></td></tr>\n",
       "<tr><td>20</td><td>Literal</td><td></td><td><a class=\"ProveItLink\" href=\"../../../../number_sets/real_numbers/__pv_it/common/93cac87a1a47e613f7a83b23ef7891599a1a4cca0/expr.ipynb\"><img src=\"../../../../number_sets/real_numbers/__pv_it/common/93cac87a1a47e613f7a83b23ef7891599a1a4cca0/expr.png\" style=\"display:inline;vertical-align:middle;\" /></a></td></tr>\n",
       "<tr><td>21</td><td>ExprTuple</td><td>35, 26</td><td><a class=\"ProveItLink\" href=\"../9962a1e24b2558d5321fca81f70434547e3a9bd60/expr.ipynb\"><img src=\"../9962a1e24b2558d5321fca81f70434547e3a9bd60/expr.png\" style=\"display:inline;vertical-align:middle;\" /></a></td></tr>\n",
       "<tr><td>22</td><td>Literal</td><td></td><td><a class=\"ProveItLink\" href=\"../../../../../logic/sets/membership/__pv_it/common/477487d8796864d23d5810f83761435f25167f690/expr.ipynb\"><img src=\"../../../../../logic/sets/membership/__pv_it/common/477487d8796864d23d5810f83761435f25167f690/expr.png\" style=\"display:inline;vertical-align:middle;\" /></a></td></tr>\n",
       "<tr><td>23</td><td>ExprTuple</td><td>36, 26</td><td><a class=\"ProveItLink\" href=\"../2a19332970b1f3f2f3be2995bf85b9b9b069cccc0/expr.ipynb\"><img src=\"../2a19332970b1f3f2f3be2995bf85b9b9b069cccc0/expr.png\" style=\"display:inline;vertical-align:middle;\" /></a></td></tr>\n",
       "<tr><td>24</td><td>Literal</td><td></td><td><a class=\"ProveItLink\" href=\"../../common/4b7effaab3619a1c2c38fe2dee8601df8ec714590/expr.ipynb\"><img src=\"../../common/4b7effaab3619a1c2c38fe2dee8601df8ec714590/expr.png\" style=\"display:inline;vertical-align:middle;\" /></a></td></tr>\n",
       "<tr><td>25</td><td>ExprTuple</td><td>27, 28, 29</td><td><a class=\"ProveItLink\" href=\"../dbb70add0339db74c399fa4eeacde7386a2892aa0/expr.ipynb\"><img src=\"../dbb70add0339db74c399fa4eeacde7386a2892aa0/expr.png\" style=\"display:inline;vertical-align:middle;\" /></a></td></tr>\n",
       "<tr><td>26</td><td>Literal</td><td></td><td><a class=\"ProveItLink\" href=\"../../../../number_sets/real_numbers/__pv_it/common/25f9f3c17fa110a939147a9d49561d0d559c20ba0/expr.ipynb\"><img src=\"../../../../number_sets/real_numbers/__pv_it/common/25f9f3c17fa110a939147a9d49561d0d559c20ba0/expr.png\" style=\"display:inline;vertical-align:middle;\" /></a></td></tr>\n",
       "<tr><td>27</td><td>ExprRange</td><td>lambda_map:&nbsp;30<br>start_index:&nbsp;33<br>end_index:&nbsp;31<br></td><td><a class=\"ProveItLink\" href=\"../../../../../core_expr_types/__pv_it/common/3143372b81f4215c0f48ddd93ca9c77fdfbd3fc20/expr.ipynb\"><img src=\"../../../../../core_expr_types/__pv_it/common/3143372b81f4215c0f48ddd93ca9c77fdfbd3fc20/expr.png\" style=\"display:inline;vertical-align:middle;\" /></a></td></tr>\n",
       "<tr><td>28</td><td>Variable</td><td></td><td><a class=\"ProveItLink\" href=\"../../../../../__pv_it/common/195236b98c6c564a75b5dbada74b173bc52d5c3e0/expr.ipynb\"><img src=\"../../../../../__pv_it/common/195236b98c6c564a75b5dbada74b173bc52d5c3e0/expr.png\" style=\"display:inline;vertical-align:middle;\" /></a></td></tr>\n",
       "<tr><td>29</td><td>ExprRange</td><td>lambda_map:&nbsp;32<br>start_index:&nbsp;33<br>end_index:&nbsp;34<br></td><td><a class=\"ProveItLink\" href=\"../../../../../core_expr_types/__pv_it/common/a03477a6a8f64399894c4c3a761410f34122107f0/expr.ipynb\"><img src=\"../../../../../core_expr_types/__pv_it/common/a03477a6a8f64399894c4c3a761410f34122107f0/expr.png\" style=\"display:inline;vertical-align:middle;\" /></a></td></tr>\n",
       "<tr><td>30</td><td>Lambda</td><td>parameter:&nbsp;39<br>body:&nbsp;35<br></td><td><a class=\"ProveItLink\" href=\"../../../../../core_expr_types/__pv_it/common/9f0c64ef8ae0c02b5dcba32e0fb15bd29f85872a0/expr.ipynb\"><img src=\"../../../../../core_expr_types/__pv_it/common/9f0c64ef8ae0c02b5dcba32e0fb15bd29f85872a0/expr.png\" style=\"display:inline;vertical-align:middle;\" /></a></td></tr>\n",
       "<tr><td>31</td><td>Variable</td><td></td><td><a class=\"ProveItLink\" href=\"../../../../../__pv_it/common/ae955345c83abf786c3aff8681cd5465beae262d0/expr.ipynb\"><img src=\"../../../../../__pv_it/common/ae955345c83abf786c3aff8681cd5465beae262d0/expr.png\" style=\"display:inline;vertical-align:middle;\" /></a></td></tr>\n",
       "<tr><td>32</td><td>Lambda</td><td>parameter:&nbsp;39<br>body:&nbsp;36<br></td><td><a class=\"ProveItLink\" href=\"../../../../../core_expr_types/__pv_it/common/eba5dead6140ec223e25e265b736e83e185c334c0/expr.ipynb\"><img src=\"../../../../../core_expr_types/__pv_it/common/eba5dead6140ec223e25e265b736e83e185c334c0/expr.png\" style=\"display:inline;vertical-align:middle;\" /></a></td></tr>\n",
       "<tr><td>33</td><td>Literal</td><td></td><td><a class=\"ProveItLink\" href=\"../../../../numerals/__pv_it/common/2778428c7f555b2bdc06aa0530bc142c6e6335100/expr.ipynb\"><img src=\"../../../../numerals/__pv_it/common/2778428c7f555b2bdc06aa0530bc142c6e6335100/expr.png\" style=\"display:inline;vertical-align:middle;\" /></a></td></tr>\n",
       "<tr><td>34</td><td>Variable</td><td></td><td><a class=\"ProveItLink\" href=\"../../../../../__pv_it/common/1ed21df18baca2f42b561a7ffbf30a2743d594650/expr.ipynb\"><img src=\"../../../../../__pv_it/common/1ed21df18baca2f42b561a7ffbf30a2743d594650/expr.png\" style=\"display:inline;vertical-align:middle;\" /></a></td></tr>\n",
       "<tr><td>35</td><td>IndexedVar</td><td>variable:&nbsp;37<br>index:&nbsp;39<br></td><td><a class=\"ProveItLink\" href=\"../../../../../core_expr_types/__pv_it/common/ea36c59b79decceeaf696ef762cc9648f9ddbf5c0/expr.ipynb\"><img src=\"../../../../../core_expr_types/__pv_it/common/ea36c59b79decceeaf696ef762cc9648f9ddbf5c0/expr.png\" style=\"display:inline;vertical-align:middle;\" /></a></td></tr>\n",
       "<tr><td>36</td><td>IndexedVar</td><td>variable:&nbsp;38<br>index:&nbsp;39<br></td><td><a class=\"ProveItLink\" href=\"../../../../../core_expr_types/__pv_it/common/ce0e3deabb2d7b0cf29fae3ec1fe2c2fd5d1de600/expr.ipynb\"><img src=\"../../../../../core_expr_types/__pv_it/common/ce0e3deabb2d7b0cf29fae3ec1fe2c2fd5d1de600/expr.png\" style=\"display:inline;vertical-align:middle;\" /></a></td></tr>\n",
       "<tr><td>37</td><td>Variable</td><td></td><td><a class=\"ProveItLink\" href=\"../../../../../__pv_it/common/c06c606ec12678c58933ac85412ecadc2ae28be60/expr.ipynb\"><img src=\"../../../../../__pv_it/common/c06c606ec12678c58933ac85412ecadc2ae28be60/expr.png\" style=\"display:inline;vertical-align:middle;\" /></a></td></tr>\n",
       "<tr><td>38</td><td>Variable</td><td></td><td><a class=\"ProveItLink\" href=\"../../../../../__pv_it/common/ceef4280a2f1cc604b455b54e735507244cc62cd0/expr.ipynb\"><img src=\"../../../../../__pv_it/common/ceef4280a2f1cc604b455b54e735507244cc62cd0/expr.png\" style=\"display:inline;vertical-align:middle;\" /></a></td></tr>\n",
       "<tr><td>39</td><td>Variable</td><td></td><td><a class=\"ProveItLink\" href=\"../../../../../core_expr_types/__pv_it/common/006c465e50948aa2b52285e2de47974f741255cc0/expr.ipynb\"><img src=\"../../../../../core_expr_types/__pv_it/common/006c465e50948aa2b52285e2de47974f741255cc0/expr.png\" style=\"display:inline;vertical-align:middle;\" /></a></td></tr>\n",
       "</table>\n"
      ],
      "text/plain": [
       "0. {forall_{b in Real} ((a_{1} + ..a_{_a}.. + a_{i} + b + c_{1} + ..c_{_a}.. + c_{j}) < b) if a_{1} in RealNeg ,  ..a_{_a} in RealNeg.. ,  a_{i} in RealNeg ,  c_{1} in RealNeg ,  ..c_{_a} in RealNeg.. ,  c_{j} in RealNeg.\n",
       "   core type: Conditional\n",
       "   value: 1\n",
       "   condition: 2\n",
       "1. forall_{b in Real} ((a_{1} + ..a_{_a}.. + a_{i} + b + c_{1} + ..c_{_a}.. + c_{j}) < b)\n",
       "   core type: Operation\n",
       "   operator: 3\n",
       "   operand: 4\n",
       "2. (a_{1} in RealNeg) and ..(a_{_a} in RealNeg).. and (a_{i} in RealNeg) and (c_{1} in RealNeg) and ..(c_{_a} in RealNeg).. and (c_{j} in RealNeg)\n",
       "   core type: Operation\n",
       "   operator: 5\n",
       "   operands: 6\n",
       "3. forall\n",
       "   core type: Literal\n",
       "   sub-expressions: \n",
       "4. b -> {(a_{1} + ..a_{_a}.. + a_{i} + b + c_{1} + ..c_{_a}.. + c_{j}) < b if b in Real.\n",
       "   core type: Lambda\n",
       "   parameter: 28\n",
       "   body: 7\n",
       "5. and\n",
       "   core type: Literal\n",
       "   sub-expressions: \n",
       "6. (a_{1} in RealNeg, ..a_{_a} in RealNeg.., a_{i} in RealNeg, c_{1} in RealNeg, ..c_{_a} in RealNeg.., c_{j} in RealNeg)\n",
       "   core type: ExprTuple\n",
       "   sub-expressions: 8, 9\n",
       "7. {(a_{1} + ..a_{_a}.. + a_{i} + b + c_{1} + ..c_{_a}.. + c_{j}) < b if b in Real.\n",
       "   core type: Conditional\n",
       "   value: 10\n",
       "   condition: 11\n",
       "8. (a_{1} in RealNeg), ..(a_{_a} in RealNeg).., (a_{i} in RealNeg)\n",
       "   core type: ExprRange\n",
       "   lambda_map: 12\n",
       "   start_index: 33\n",
       "   end_index: 31\n",
       "9. (c_{1} in RealNeg), ..(c_{_a} in RealNeg).., (c_{j} in RealNeg)\n",
       "   core type: ExprRange\n",
       "   lambda_map: 13\n",
       "   start_index: 33\n",
       "   end_index: 34\n",
       "10. (a_{1} + ..a_{_a}.. + a_{i} + b + c_{1} + ..c_{_a}.. + c_{j}) < b\n",
       "    core type: Operation\n",
       "    operator: 14\n",
       "    operands: 15\n",
       "11. b in Real\n",
       "    core type: Operation\n",
       "    operator: 22\n",
       "    operands: 16\n",
       "12. _a -> (a_{_a} in RealNeg)\n",
       "    core type: Lambda\n",
       "    parameter: 39\n",
       "    body: 17\n",
       "13. _a -> (c_{_a} in RealNeg)\n",
       "    core type: Lambda\n",
       "    parameter: 39\n",
       "    body: 18\n",
       "14. <\n",
       "    core type: Literal\n",
       "    sub-expressions: \n",
       "15. (a_{1} + ..a_{_a}.. + a_{i} + b + c_{1} + ..c_{_a}.. + c_{j}, b)\n",
       "    core type: ExprTuple\n",
       "    sub-expressions: 19, 28\n",
       "16. (b, Real)\n",
       "    core type: ExprTuple\n",
       "    sub-expressions: 28, 20\n",
       "17. a_{_a} in RealNeg\n",
       "    core type: Operation\n",
       "    operator: 22\n",
       "    operands: 21\n",
       "18. c_{_a} in RealNeg\n",
       "    core type: Operation\n",
       "    operator: 22\n",
       "    operands: 23\n",
       "19. a_{1} + ..a_{_a}.. + a_{i} + b + c_{1} + ..c_{_a}.. + c_{j}\n",
       "    core type: Operation\n",
       "    operator: 24\n",
       "    operands: 25\n",
       "20. Real\n",
       "    core type: Literal\n",
       "    sub-expressions: \n",
       "21. (a_{_a}, RealNeg)\n",
       "    core type: ExprTuple\n",
       "    sub-expressions: 35, 26\n",
       "22. in\n",
       "    core type: Literal\n",
       "    sub-expressions: \n",
       "23. (c_{_a}, RealNeg)\n",
       "    core type: ExprTuple\n",
       "    sub-expressions: 36, 26\n",
       "24. +\n",
       "    core type: Literal\n",
       "    sub-expressions: \n",
       "25. (a_{1}, ..a_{_a}.., a_{i}, b, c_{1}, ..c_{_a}.., c_{j})\n",
       "    core type: ExprTuple\n",
       "    sub-expressions: 27, 28, 29\n",
       "26. RealNeg\n",
       "    core type: Literal\n",
       "    sub-expressions: \n",
       "27. a_{1}, ..a_{_a}.., a_{i}\n",
       "    core type: ExprRange\n",
       "    lambda_map: 30\n",
       "    start_index: 33\n",
       "    end_index: 31\n",
       "28. b\n",
       "    core type: Variable\n",
       "    sub-expressions: \n",
       "29. c_{1}, ..c_{_a}.., c_{j}\n",
       "    core type: ExprRange\n",
       "    lambda_map: 32\n",
       "    start_index: 33\n",
       "    end_index: 34\n",
       "30. _a -> a_{_a}\n",
       "    core type: Lambda\n",
       "    parameter: 39\n",
       "    body: 35\n",
       "31. i\n",
       "    core type: Variable\n",
       "    sub-expressions: \n",
       "32. _a -> c_{_a}\n",
       "    core type: Lambda\n",
       "    parameter: 39\n",
       "    body: 36\n",
       "33. 1\n",
       "    core type: Literal\n",
       "    sub-expressions: \n",
       "34. j\n",
       "    core type: Variable\n",
       "    sub-expressions: \n",
       "35. a_{_a}\n",
       "    core type: IndexedVar\n",
       "variable: 37\n",
       "index: 39\n",
       "36. c_{_a}\n",
       "    core type: IndexedVar\n",
       "variable: 38\n",
       "index: 39\n",
       "37. a\n",
       "    core type: Variable\n",
       "    sub-expressions: \n",
       "38. c\n",
       "    core type: Variable\n",
       "    sub-expressions: \n",
       "39. _a\n",
       "    core type: Variable\n",
       "    sub-expressions: "
      ]
     },
     "execution_count": 5,
     "metadata": {},
     "output_type": "execute_result"
    }
   ],
   "source": [
    "# display the expression information\n",
    "expr.expr_info()"
   ]
  },
  {
   "cell_type": "code",
   "execution_count": null,
   "metadata": {},
   "outputs": [],
   "source": []
  }
 ],
 "metadata": {
  "kernelspec": {
   "display_name": "Python 3",
   "language": "python",
   "name": "python3"
  }
 },
 "nbformat": 4,
 "nbformat_minor": 0
}