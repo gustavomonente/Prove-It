{
 "cells": [
  {
   "cell_type": "markdown",
   "metadata": {},
   "source": [
    "Expression of type <a class=\"ProveItLink\" href=\"../../../../../../../../doc/html/api/proveit.ExprTuple.html\">ExprTuple</a>\n",
    "=======================\n",
    "# from the theory of <a class=\"ProveItLink\" href=\"../../../_theory_nbs_/theory.ipynb\">proveit.numbers.addition.subtraction</a>"
   ]
  },
  {
   "cell_type": "code",
   "execution_count": 1,
   "metadata": {},
   "outputs": [],
   "source": [
    "import proveit\n",
    "# Automation is not needed when building an expression:\n",
    "proveit.defaults.automation = False # This will speed things up.\n",
    "proveit.defaults.inline_pngs = False # Makes files smaller.\n",
    "%load_expr # Load the stored expression as 'stored_expr'\n",
    "# import Expression classes needed to build the expression\n",
    "from proveit import Conditional, ExprTuple, Lambda, a, b, c\n",
    "from proveit.logic import And, Equals, InSet\n",
    "from proveit.numbers import Add, Complex, Neg"
   ]
  },
  {
   "cell_type": "code",
   "execution_count": 2,
   "metadata": {},
   "outputs": [
    {
     "data": {
      "text/html": [
       "<strong id=\"expr\">expr:</strong> <a class=\"ProveItLink\" href=\"expr.ipynb\"><img src=\"expr.png\" style=\"display:inline;vertical-align:middle;\" /></a><br>"
      ],
      "text/plain": [
       "expr: ((a, b, c) -> {(c + b) = a if a in Complex ,  b in Complex ,  c in Complex ,  (a - b) = c.)"
      ]
     },
     "execution_count": 2,
     "metadata": {},
     "output_type": "execute_result"
    }
   ],
   "source": [
    "# build up the expression from sub-expressions\n",
    "expr = ExprTuple(Lambda([a, b, c], Conditional(Equals(Add(c, b), a), And(InSet(a, Complex), InSet(b, Complex), InSet(c, Complex), Equals(Add(a, Neg(b)), c)))))"
   ]
  },
  {
   "cell_type": "code",
   "execution_count": 3,
   "metadata": {},
   "outputs": [
    {
     "name": "stdout",
     "output_type": "stream",
     "text": [
      "Passed sanity check: expr matches stored_expr\n"
     ]
    }
   ],
   "source": [
    "# check that the built expression is the same as the stored expression\n",
    "assert expr == stored_expr\n",
    "assert expr._style_id == stored_expr._style_id\n",
    "print(\"Passed sanity check: expr matches stored_expr\")"
   ]
  },
  {
   "cell_type": "code",
   "execution_count": 4,
   "metadata": {},
   "outputs": [
    {
     "name": "stdout",
     "output_type": "stream",
     "text": [
      "\\left(\\left(a, b, c\\right) \\mapsto \\left\\{\\left(c + b\\right) = a \\textrm{ if } a \\in \\mathbb{C} ,  b \\in \\mathbb{C} ,  c \\in \\mathbb{C} ,  \\left(a - b\\right) = c\\right..\\right)\n"
     ]
    }
   ],
   "source": [
    "# Show the LaTeX representation of the expression for convenience if you need it.\n",
    "print(expr.latex())"
   ]
  },
  {
   "cell_type": "code",
   "execution_count": 5,
   "metadata": {},
   "outputs": [
    {
     "data": {
      "text/html": [
       "no style options"
      ],
      "text/plain": [
       "no style options"
      ]
     },
     "execution_count": 5,
     "metadata": {},
     "output_type": "execute_result"
    }
   ],
   "source": [
    "expr.style_options()"
   ]
  },
  {
   "cell_type": "code",
   "execution_count": 6,
   "metadata": {},
   "outputs": [
    {
     "data": {
      "text/html": [
       "<table><tr><th>&nbsp;</th><th>core type</th><th>sub-expressions</th><th>expression</th></tr>\n",
       "<tr><td>0</td><td>ExprTuple</td><td>1</td><td><a class=\"ProveItLink\" href=\"expr.ipynb\"><img src=\"expr.png\" style=\"display:inline;vertical-align:middle;\" /></a></td></tr>\n",
       "<tr><td>1</td><td>Lambda</td><td>parameters:&nbsp;2<br>body:&nbsp;3<br></td><td><a class=\"ProveItLink\" href=\"../3bb2417461706f637d94fe94ad03e630189556fb0/expr.ipynb\"><img src=\"../3bb2417461706f637d94fe94ad03e630189556fb0/expr.png\" style=\"display:inline;vertical-align:middle;\" /></a></td></tr>\n",
       "<tr><td>2</td><td>ExprTuple</td><td>26, 30, 23</td><td><a class=\"ProveItLink\" href=\"../af1b38d8364fba38e8e8a99cd7213199d21c0f420/expr.ipynb\"><img src=\"../af1b38d8364fba38e8e8a99cd7213199d21c0f420/expr.png\" style=\"display:inline;vertical-align:middle;\" /></a></td></tr>\n",
       "<tr><td>3</td><td>Conditional</td><td>value:&nbsp;4<br>condition:&nbsp;5<br></td><td><a class=\"ProveItLink\" href=\"../95c30a8425f6014c56b8b657751686877fa9fdfd0/expr.ipynb\"><img src=\"../95c30a8425f6014c56b8b657751686877fa9fdfd0/expr.png\" style=\"display:inline;vertical-align:middle;\" /></a></td></tr>\n",
       "<tr><td>4</td><td>Operation</td><td>operator:&nbsp;19<br>operands:&nbsp;6<br></td><td><a class=\"ProveItLink\" href=\"../551405de2283bd9bfe73bd2778d4a2db605f67110/expr.ipynb\"><img src=\"../551405de2283bd9bfe73bd2778d4a2db605f67110/expr.png\" style=\"display:inline;vertical-align:middle;\" /></a></td></tr>\n",
       "<tr><td>5</td><td>Operation</td><td>operator:&nbsp;7<br>operands:&nbsp;8<br></td><td><a class=\"ProveItLink\" href=\"../f5732827f253be1dfbe5a394578ceeaa6ae2796f0/expr.ipynb\"><img src=\"../f5732827f253be1dfbe5a394578ceeaa6ae2796f0/expr.png\" style=\"display:inline;vertical-align:middle;\" /></a></td></tr>\n",
       "<tr><td>6</td><td>ExprTuple</td><td>9, 26</td><td><a class=\"ProveItLink\" href=\"../0f907bd5dcecab8b392510880c6a7055e3378a190/expr.ipynb\"><img src=\"../0f907bd5dcecab8b392510880c6a7055e3378a190/expr.png\" style=\"display:inline;vertical-align:middle;\" /></a></td></tr>\n",
       "<tr><td>7</td><td>Literal</td><td></td><td><a class=\"ProveItLink\" href=\"../../../../../../logic/booleans/conjunction/__pv_it/common/26b94b53e70b1d77b70f0d9d4236347db37731060/expr.ipynb\"><img src=\"../../../../../../logic/booleans/conjunction/__pv_it/common/26b94b53e70b1d77b70f0d9d4236347db37731060/expr.png\" style=\"display:inline;vertical-align:middle;\" /></a></td></tr>\n",
       "<tr><td>8</td><td>ExprTuple</td><td>10, 11, 12, 13</td><td><a class=\"ProveItLink\" href=\"../069ddb3985ba9386e2974609b00449857c3086c30/expr.ipynb\"><img src=\"../069ddb3985ba9386e2974609b00449857c3086c30/expr.png\" style=\"display:inline;vertical-align:middle;\" /></a></td></tr>\n",
       "<tr><td>9</td><td>Operation</td><td>operator:&nbsp;24<br>operands:&nbsp;14<br></td><td><a class=\"ProveItLink\" href=\"../3043fcdc638385b16e3fde7ff8e1dfd61aabf1d00/expr.ipynb\"><img src=\"../3043fcdc638385b16e3fde7ff8e1dfd61aabf1d00/expr.png\" style=\"display:inline;vertical-align:middle;\" /></a></td></tr>\n",
       "<tr><td>10</td><td>Operation</td><td>operator:&nbsp;17<br>operands:&nbsp;15<br></td><td><a class=\"ProveItLink\" href=\"../95d0d034454e5eb6c3934a54d7a149c5c125a3cb0/expr.ipynb\"><img src=\"../95d0d034454e5eb6c3934a54d7a149c5c125a3cb0/expr.png\" style=\"display:inline;vertical-align:middle;\" /></a></td></tr>\n",
       "<tr><td>11</td><td>Operation</td><td>operator:&nbsp;17<br>operands:&nbsp;16<br></td><td><a class=\"ProveItLink\" href=\"../fe4de3ff0419f38c3d25379035ba812df4fead870/expr.ipynb\"><img src=\"../fe4de3ff0419f38c3d25379035ba812df4fead870/expr.png\" style=\"display:inline;vertical-align:middle;\" /></a></td></tr>\n",
       "<tr><td>12</td><td>Operation</td><td>operator:&nbsp;17<br>operands:&nbsp;18<br></td><td><a class=\"ProveItLink\" href=\"../b1103b770cadeb5e841bbce4a7abd8d948b044c00/expr.ipynb\"><img src=\"../b1103b770cadeb5e841bbce4a7abd8d948b044c00/expr.png\" style=\"display:inline;vertical-align:middle;\" /></a></td></tr>\n",
       "<tr><td>13</td><td>Operation</td><td>operator:&nbsp;19<br>operands:&nbsp;20<br></td><td><a class=\"ProveItLink\" href=\"../53a420aeeb449f2caf80290fa70f9b188b872de60/expr.ipynb\"><img src=\"../53a420aeeb449f2caf80290fa70f9b188b872de60/expr.png\" style=\"display:inline;vertical-align:middle;\" /></a></td></tr>\n",
       "<tr><td>14</td><td>ExprTuple</td><td>23, 30</td><td><a class=\"ProveItLink\" href=\"../97c5753aeb8983ce577a1368786c308fb2ee28ad0/expr.ipynb\"><img src=\"../97c5753aeb8983ce577a1368786c308fb2ee28ad0/expr.png\" style=\"display:inline;vertical-align:middle;\" /></a></td></tr>\n",
       "<tr><td>15</td><td>ExprTuple</td><td>26, 21</td><td><a class=\"ProveItLink\" href=\"../124b000752291c9be9fd777a8318a35f27eebae40/expr.ipynb\"><img src=\"../124b000752291c9be9fd777a8318a35f27eebae40/expr.png\" style=\"display:inline;vertical-align:middle;\" /></a></td></tr>\n",
       "<tr><td>16</td><td>ExprTuple</td><td>30, 21</td><td><a class=\"ProveItLink\" href=\"../8366e4d5936209b9da9455e88151b300248abbf10/expr.ipynb\"><img src=\"../8366e4d5936209b9da9455e88151b300248abbf10/expr.png\" style=\"display:inline;vertical-align:middle;\" /></a></td></tr>\n",
       "<tr><td>17</td><td>Literal</td><td></td><td><a class=\"ProveItLink\" href=\"../../../../../../logic/sets/membership/__pv_it/common/7171deca84f71f47a6ec7696972d1632274a12880/expr.ipynb\"><img src=\"../../../../../../logic/sets/membership/__pv_it/common/7171deca84f71f47a6ec7696972d1632274a12880/expr.png\" style=\"display:inline;vertical-align:middle;\" /></a></td></tr>\n",
       "<tr><td>18</td><td>ExprTuple</td><td>23, 21</td><td><a class=\"ProveItLink\" href=\"../5acac08f1845a163597574e4c4e12992b23d54dc0/expr.ipynb\"><img src=\"../5acac08f1845a163597574e4c4e12992b23d54dc0/expr.png\" style=\"display:inline;vertical-align:middle;\" /></a></td></tr>\n",
       "<tr><td>19</td><td>Literal</td><td></td><td><a class=\"ProveItLink\" href=\"../../../../../../logic/equality/__pv_it/common/731dd3955b346c1320ed5c0ba7a618bcda61457d0/expr.ipynb\"><img src=\"../../../../../../logic/equality/__pv_it/common/731dd3955b346c1320ed5c0ba7a618bcda61457d0/expr.png\" style=\"display:inline;vertical-align:middle;\" /></a></td></tr>\n",
       "<tr><td>20</td><td>ExprTuple</td><td>22, 23</td><td><a class=\"ProveItLink\" href=\"../81be9bba6bce8a96b4a589e9cf9417ebfd34ca810/expr.ipynb\"><img src=\"../81be9bba6bce8a96b4a589e9cf9417ebfd34ca810/expr.png\" style=\"display:inline;vertical-align:middle;\" /></a></td></tr>\n",
       "<tr><td>21</td><td>Literal</td><td></td><td><a class=\"ProveItLink\" href=\"../../../../../number_sets/complex_numbers/__pv_it/common/fbfabc61f6f66350b130e5a55a72b80825c065f90/expr.ipynb\"><img src=\"../../../../../number_sets/complex_numbers/__pv_it/common/fbfabc61f6f66350b130e5a55a72b80825c065f90/expr.png\" style=\"display:inline;vertical-align:middle;\" /></a></td></tr>\n",
       "<tr><td>22</td><td>Operation</td><td>operator:&nbsp;24<br>operands:&nbsp;25<br></td><td><a class=\"ProveItLink\" href=\"../e30f9bfadae80aef205bba3b14546c2a899735430/expr.ipynb\"><img src=\"../e30f9bfadae80aef205bba3b14546c2a899735430/expr.png\" style=\"display:inline;vertical-align:middle;\" /></a></td></tr>\n",
       "<tr><td>23</td><td>Variable</td><td></td><td><a class=\"ProveItLink\" href=\"../../../../../../__pv_it/common/9a9d28748f90dec84e90f2ace4610208194e524e0/expr.ipynb\"><img src=\"../../../../../../__pv_it/common/9a9d28748f90dec84e90f2ace4610208194e524e0/expr.png\" style=\"display:inline;vertical-align:middle;\" /></a></td></tr>\n",
       "<tr><td>24</td><td>Literal</td><td></td><td><a class=\"ProveItLink\" href=\"../../../../__pv_it/common/1f38fe5cce441387feef296e2c0a2eac260bb4f30/expr.ipynb\"><img src=\"../../../../__pv_it/common/1f38fe5cce441387feef296e2c0a2eac260bb4f30/expr.png\" style=\"display:inline;vertical-align:middle;\" /></a></td></tr>\n",
       "<tr><td>25</td><td>ExprTuple</td><td>26, 27</td><td><a class=\"ProveItLink\" href=\"../fa5d5a5b052aa4af331973cef817b5999ed24be90/expr.ipynb\"><img src=\"../fa5d5a5b052aa4af331973cef817b5999ed24be90/expr.png\" style=\"display:inline;vertical-align:middle;\" /></a></td></tr>\n",
       "<tr><td>26</td><td>Variable</td><td></td><td><a class=\"ProveItLink\" href=\"../../../../../../__pv_it/common/66c90e66682f107a881f2d666959f64e2e72ad750/expr.ipynb\"><img src=\"../../../../../../__pv_it/common/66c90e66682f107a881f2d666959f64e2e72ad750/expr.png\" style=\"display:inline;vertical-align:middle;\" /></a></td></tr>\n",
       "<tr><td>27</td><td>Operation</td><td>operator:&nbsp;28<br>operand:&nbsp;30<br></td><td><a class=\"ProveItLink\" href=\"../6d3c8332191868dd92a2b3de508fc9b7ea9082b60/expr.ipynb\"><img src=\"../6d3c8332191868dd92a2b3de508fc9b7ea9082b60/expr.png\" style=\"display:inline;vertical-align:middle;\" /></a></td></tr>\n",
       "<tr><td>28</td><td>Literal</td><td></td><td><a class=\"ProveItLink\" href=\"../../../../../negation/__pv_it/common/31a69a5c76809537045e3884859f178d8d9c845c0/expr.ipynb\"><img src=\"../../../../../negation/__pv_it/common/31a69a5c76809537045e3884859f178d8d9c845c0/expr.png\" style=\"display:inline;vertical-align:middle;\" /></a></td></tr>\n",
       "<tr><td>29</td><td>ExprTuple</td><td>30</td><td><a class=\"ProveItLink\" href=\"../4cabf1751a27ab39c608ddfb8fada31b9de8f32c0/expr.ipynb\"><img src=\"../4cabf1751a27ab39c608ddfb8fada31b9de8f32c0/expr.png\" style=\"display:inline;vertical-align:middle;\" /></a></td></tr>\n",
       "<tr><td>30</td><td>Variable</td><td></td><td><a class=\"ProveItLink\" href=\"../../../../../../__pv_it/common/4a5db8cc5c67969ec864bd3ea598be37cb6f5e550/expr.ipynb\"><img src=\"../../../../../../__pv_it/common/4a5db8cc5c67969ec864bd3ea598be37cb6f5e550/expr.png\" style=\"display:inline;vertical-align:middle;\" /></a></td></tr>\n",
       "</table>\n"
      ],
      "text/plain": [
       "0. ((a, b, c) -> {(c + b) = a if a in Complex ,  b in Complex ,  c in Complex ,  (a - b) = c.)\n",
       "   core type: ExprTuple\n",
       "   sub-expressions: 1\n",
       "1. (a, b, c) -> {(c + b) = a if a in Complex ,  b in Complex ,  c in Complex ,  (a - b) = c.\n",
       "   core type: Lambda\n",
       "   parameters: 2\\n   body: 3\n",
       "2. (a, b, c)\n",
       "   core type: ExprTuple\n",
       "   sub-expressions: 26, 30, 23\n",
       "3. {(c + b) = a if a in Complex ,  b in Complex ,  c in Complex ,  (a - b) = c.\n",
       "   core type: Conditional\n",
       "   value: 4\n",
       "   condition: 5\n",
       "4. (c + b) = a\n",
       "   core type: Operation\n",
       "   operator: 19\n",
       "   operands: 6\n",
       "5. (a in Complex) and (b in Complex) and (c in Complex) and ((a - b) = c)\n",
       "   core type: Operation\n",
       "   operator: 7\n",
       "   operands: 8\n",
       "6. (c + b, a)\n",
       "   core type: ExprTuple\n",
       "   sub-expressions: 9, 26\n",
       "7. and\n",
       "   core type: Literal\n",
       "   sub-expressions: \n",
       "8. (a in Complex, b in Complex, c in Complex, (a - b) = c)\n",
       "   core type: ExprTuple\n",
       "   sub-expressions: 10, 11, 12, 13\n",
       "9. c + b\n",
       "   core type: Operation\n",
       "   operator: 24\n",
       "   operands: 14\n",
       "10. a in Complex\n",
       "    core type: Operation\n",
       "    operator: 17\n",
       "    operands: 15\n",
       "11. b in Complex\n",
       "    core type: Operation\n",
       "    operator: 17\n",
       "    operands: 16\n",
       "12. c in Complex\n",
       "    core type: Operation\n",
       "    operator: 17\n",
       "    operands: 18\n",
       "13. (a - b) = c\n",
       "    core type: Operation\n",
       "    operator: 19\n",
       "    operands: 20\n",
       "14. (c, b)\n",
       "    core type: ExprTuple\n",
       "    sub-expressions: 23, 30\n",
       "15. (a, Complex)\n",
       "    core type: ExprTuple\n",
       "    sub-expressions: 26, 21\n",
       "16. (b, Complex)\n",
       "    core type: ExprTuple\n",
       "    sub-expressions: 30, 21\n",
       "17. in\n",
       "    core type: Literal\n",
       "    sub-expressions: \n",
       "18. (c, Complex)\n",
       "    core type: ExprTuple\n",
       "    sub-expressions: 23, 21\n",
       "19. =\n",
       "    core type: Literal\n",
       "    sub-expressions: \n",
       "20. (a - b, c)\n",
       "    core type: ExprTuple\n",
       "    sub-expressions: 22, 23\n",
       "21. Complex\n",
       "    core type: Literal\n",
       "    sub-expressions: \n",
       "22. a - b\n",
       "    core type: Operation\n",
       "    operator: 24\n",
       "    operands: 25\n",
       "23. c\n",
       "    core type: Variable\n",
       "    sub-expressions: \n",
       "24. +\n",
       "    core type: Literal\n",
       "    sub-expressions: \n",
       "25. (a, -b)\n",
       "    core type: ExprTuple\n",
       "    sub-expressions: 26, 27\n",
       "26. a\n",
       "    core type: Variable\n",
       "    sub-expressions: \n",
       "27. -b\n",
       "    core type: Operation\n",
       "    operator: 28\n",
       "    operand: 30\n",
       "28. -\n",
       "    core type: Literal\n",
       "    sub-expressions: \n",
       "29. (b)\n",
       "    core type: ExprTuple\n",
       "    sub-expressions: 30\n",
       "30. b\n",
       "    core type: Variable\n",
       "    sub-expressions: "
      ]
     },
     "execution_count": 6,
     "metadata": {},
     "output_type": "execute_result"
    }
   ],
   "source": [
    "# display the expression information\n",
    "expr.expr_info()"
   ]
  },
  {
   "cell_type": "code",
   "execution_count": null,
   "metadata": {},
   "outputs": [],
   "source": []
  }
 ],
 "metadata": {
  "kernelspec": {
   "display_name": "Python 3",
   "language": "python",
   "name": "python3"
  }
 },
 "nbformat": 4,
 "nbformat_minor": 0
}