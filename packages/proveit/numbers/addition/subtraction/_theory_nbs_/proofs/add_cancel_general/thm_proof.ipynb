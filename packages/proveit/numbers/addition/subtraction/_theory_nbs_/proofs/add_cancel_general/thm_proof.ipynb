{
 "cells": [
  {
   "cell_type": "markdown",
   "metadata": {},
   "source": [
    "Proof of <a class=\"ProveItLink\" href=\"../../../../../../_theory_nbs_/theory.ipynb\">proveit</a>.<a class=\"ProveItLink\" href=\"../../../../../_theory_nbs_/theory.ipynb\">numbers</a>.<a class=\"ProveItLink\" href=\"../../../../_theory_nbs_/theory.ipynb\">addition</a>.<a class=\"ProveItLink\" href=\"../../theory.ipynb\">subtraction</a>.<a class=\"ProveItLink\" href=\"../../theorems.ipynb#add_cancel_general\">add_cancel_general</a> theorem\n",
    "========"
   ]
  },
  {
   "cell_type": "code",
   "execution_count": 1,
   "metadata": {},
   "outputs": [],
   "source": [
    "import proveit\n",
    "theory = proveit.Theory() # the theorem's theory"
   ]
  },
  {
   "cell_type": "code",
   "execution_count": 2,
   "metadata": {},
   "outputs": [
    {
     "data": {
      "text/html": [
       "Under these <a href=\"presumptions.txt\">presumptions</a>, we begin our proof of<br><strong id=\"add_cancel_general\">add_cancel_general:</strong> <a class=\"ProveItLink\" href=\"../../../__pv_it/theorems/462c1265fa66ec3a0d30c252f0a814dd0548d6c00/expr.ipynb\"><img src=\"data:image/png;base64,iVBORw0KGgoAAAANSUhEUgAABZgAAAAZBAMAAABOV1YtAAAAMFBMVEX///8QEBCIiIhmZma6urrM\n",
       "zMxUVFQiIiJERETc3Nzu7u6qqqp2dnaYmJgyMjIAAAAcRTyBAAAAAXRSTlMAQObYZgAAC5RJREFU\n",
       "eNrtXH+MFFcd/97uzv6Y2d1DWhWwmO0hhALF9YitLb+ONu1porCHiUBrvcu11aCga9HDUmK3+IdH\n",
       "G9ox1wCSaKaQlgrS3WINYmpZ71pIUXBzxFoaTo9A6Q/tlfBLjqPi+zU7897Mzr7dPeJJ7iUz+703\n",
       "3/3+ep/5vu97M3sAcu1bq3UYbaNt5LbA6rWyrOnRaI22Ed42/j+A+RfsGG01NM1lZo0UrhXH9lIw\n",
       "9+OPPgkwSzIOf1Mz9LBaMHNVFD3/SY+LLxpXxbfHnFlCeSxZ3hz5tvQ6+rncxeERhUrT72ocC+oE\n",
       "zH/Cf78vAWZJxuFvcZ0eNjB7Z5RAtZpOeFx7w/urTdU65zKA9bny5lSgdIh+vOC88t7IyrGm37LN\n",
       "5pjaT8C8GU83GQkwSzIOfzvCDum2rfSl3a4TVYKPjtUhn2FLJxVvYcUBtFm2yODNqU1p4BL9jDrs\n",
       "iCWlbXW/sFs+xuWDb/ktKYRzrJuAOY4kRHMSYJZkHP72MDsqQn818TSjUwWYY9WCuTiANssOCObU\n",
       "pjTKChl1jMgU0kcWmA9UJoRz7BkC5tjBHTs2ySwAJRmHvUXS9JBfEZytEsxmdKoA875qwXzAxbIT\n",
       "gjm1KS0WMidFpk0wssB8ojIhnGPxJrKbcbGzc60MmCUZh735kvSArp4baRrb2kgS1/Hph/XI3P36\n",
       "whuO7EdFNCZh94wEHPn3rJwyvbffKxSROY0THPGMt0/K8QGONkxmd38DKbAWjn35Peg6tjxw/NCc\n",
       "ldikY8tBa+iG2PxVs2HxH2Z6jlZRmL2dapgtWjZ5yBws7Yheq9Ku7lZzNu0RmSaJgZAAc3EQOGB1\n",
       "N6QqwCEXCFOy5becEMGxaJKA+UGA9VJglmMc9hYu0CMwHj6kPfkF5KNudrbQbAQmwMea1FUAmNQe\n",
       "hlsAVpF1etorFAv0+GlHPLPvq4N8gB+BJynlh4nk87rffxRYAwuMuuthexIIuUf3t0EoiTdcQl44\n",
       "sITZy97/GFldsCzMyots7qZFhRqVoqA9ZYLv7wRIA6SRpLZBDER5MFuDYLd5Uy7cL49DPhCmZMtv\n",
       "KSGiY7F+AuY7yVLQR3P22+i4MeEOZsro3QIDUgD1n3fpnJ9y5Q3l6PFMAb4AoGQgkptHMxey6QaA\n",
       "sXAKzbhNhNQ+jotQBOYFBnhNjOpE8GdoarLFc58BZ7iOUB6+gzUCHGWrsXfQPZSHukS8DbRzlHwx\n",
       "hYpbhCt0V/m8cECEQZx3UrsE9QnRMhTlpdicrcauWpWioM0zR3SPyPRIMRBLZcFMB4GBpYi4tRDM\n",
       "FWWUxSEfCCbZ5reUENExLU3AHAIfuv8Vmh9w5g6ZOz5L5jT5PmGBmTKWaT1yi//TLp1Z+x+/29/B\n",
       "4lfXRI/5BjwEyqw0qAxyaGyVs319K3GtlU1SUpkxX8dgDl28yang8MDA9wcGTuGbCSEBiV9GU9U7\n",
       "nx4YaEPkPFAvcx1IJdEIYLDVGPpy69y+NwqoXlPPUhIW9wxiXMGj65zPJQRhKOhkM4lkR5w40ABm\n",
       "86JlefjqrYj8nFkT1qZ0rTmirSLf9WYgiDr717zkPcTAwtkMTIatt2TwbYGwJNv8lhXCOaacJmCO\n",
       "FoSJKouVqS/PKmiZg3C7BWYHo1v7p9wazS3Fv8I+d/bMhWcfh2/keTCPAxXl80CapDO2ANCG2MKh\n",
       "PkNI9V29lYBZPXwl6XFf12Ugm3KknRMQGOI6xpHJJm1bjSFV+3Js8XGRki+sVyiufv3hWa+kNq7E\n",
       "NvOinGgZcrYZkR1Ti3bVoFQ9x0bUFcwsEM2ymZkOgjOaYMkom1THuUm2+S0phHeMgTnS/zWenQh8\n",
       "c+8O0Hr9kLfA7GB0a4NSYI4mSyf12BNbDDiaBy3PlRkoaWqnKbTCNHnE86CcYYONMjMmw2lo3YLA\n",
       "nNgCsXMeoUDZcJ9zpD6iOcaa+i5bYGZL53+h0CXonzhJYvKnoAwaoaQvYsA/mkrjgApzbDMXWKIS\n",
       "LENjoJ6LMBdqUoqD1myNK6uZ21iZYamTAjOT54xmBWAWAsEkC4ZICOEdC9AyA9Y/gOgphIWs5nuU\n",
       "KRDAY6fduyxhAzNhhG1T3nZ5TGF2KmemGGS96hKV7gazyGic6dyv3tbAkvqd2LR7UbrQuQWgOgTB\n",
       "/r3E6Gwuz8AMPwbYympmTNajkDydOgXJOwBWeoE5B9/V9Dva+CE8hysxHt1oNqRgzuZMXIX6QWXl\n",
       "KyFRWAfvirf5Awn3J5OcsK2zBTA3qRNdLMPjEzutDkVrVMqChkeULQDtbYNdnRyYiTwKFstmdEei\n",
       "+lQ6qfKBMMHMG1IWzKJjbAEIv8ElRD3GoD+Ap/8PXsoacaIndfCvdjBjRvWHCspe3xZKYNKJv+tb\n",
       "QxYHP1DGiDyovmlhLwhsT7UaEDScIvASgIiJ7dK5LI6PdfC3tjyB1iL6ggyeZVtzqBA6rqtrKYkm\n",
       "q7/cZ8yDJFoArsd7BThM/ebJilE4EeuIQv4SP4Qr4Sd8xy2gfp6BeR81F1UwyhD4jfh42J6n5DiI\n",
       "nn/L3+9Ha7GwTjVZekVhyYV8UIKFcNLFMjyowQycj1aqlJxsSmnQ8IgCzHGZCi11/L6OpzwKFstm\n",
       "fxtsSzlwWAyCKcO8wAeCSRYMKStEdMyfp2DGy+ktZKn7qyjOVRdS7ImwlooW64E0Y/QnlTR8fYKw\n",
       "OYE7waA2Ic1ogZwSedAqWGHULGgB5Y+GKGIMaEn2jFbbaYEZgwkfzzUsa28iVJC87hR46iIqPu6f\n",
       "YcCp3iloqsVk5P4ZWz+A4Ar9y73H8OzbgTHfZp5sMWqfvPEzkZ1pfqS2zSgIT1EO9ZplBl2ZfPHK\n",
       "E8iQxoMQX9mApylMbmw8OLMA33w9cOjmV01NHTaVdmGqvl9IA42HwGkZGdRwDiZNq1QpPVlKadAu\n",
       "pMydKrGetNTxOy+e8rbsEdLnn/sSLhVCByfIusAHwsz5vCFlhYiO4c0RDOaYQZBuTunKWBS7JZ2d\n",
       "nQktFSmkbWDGjHU5HxK9ho8K7aSrNXSbor/BwQOfslFocggZThF+9D3lR52d6yK/te1gcY+zAy7b\n",
       "x2VfyCmxfRlOlJhcuQ6qcZVj4Sb9QDIhTO0yj8eaS6wWq1JKRhRUR+Ssx9nSC0AzLbrYLF1m8IHg\n",
       "JVcmxObYdrDeZ1YvEfTUI/d8mZYIBGlmhrsSNjCTCUgPv2WIQCWduzFrvYGBjMU4wIyXhn24alEH\n",
       "YcMOEcxEROjpIwDktrg9QTM9btyLRjWCeQen81nmvCHuHBoCmO+JnK8aV7z0QSnLagYzp5SMqOeL\n",
       "Rs1QIhKu8hhYBJub3T0p5eKgq8rKhNgc67aBWevPRx4HNP1vNsKJJT6IYnNjTRDLC2Cu01u/QoC6\n",
       "2UBfYCfS+VISUSHjTXSON0ES81gc6HQS/JF70rhvvHK+gMEsiLgP6o7uAniNPKx8zQo+LgrDZhLR\n",
       "XMDcUeWzxVeiUkkO2Xw5LOAo1FadSmWMHN8e18dHVSolI+r2Cuh6T3UeG6t5WZMrDcSeKh1jr4Cy\n",
       "+2OFrqA6YCq05OJ6cDIAzt/NJ1metIE50L57LgFzS04ZDy06PuVIZzCF+1bk0TnS2EuyNxJJObDw\n",
       "rpun4U0SRN09fRIBs0PEQvxILoxrFPXwuw8WE0HGejk/cusFR4K5+8ry6gb5udclmIjG9rnCg87v\n",
       "XajuJ5G+jBRb16PtLk9Xq1VKR9TlVYTnvdR5pP0VuqTJlQaiQiGWY2Ed+J9NaaQYYptmPlQz27/H\n",
       "J8Q1UGQsUtsDJpUr8mh24UBfIWV9uMwQRTTEd6Lz1M51vM3X0M+mwon/lebYyPrZ1PAFgjh2FAQw\n",
       "7w1+aYLrT8UcYF58NmdjZFRwGqPoGfPQn2ZR4fRWMkxK+exsp4jbYq/CNd0e+JkBo+1qBcIO5kJw\n",
       "vw4xkAAzuSFKUjYRBZ76+S+5PjcR13ZbsXwUx1cvENK/zl49HP8349hto8M42q5SC6zu+C/ix4u0\n",
       "M4Vp+gAAAABJRU5ErkJggg==\n",
       "\" style=\"display:inline;vertical-align:middle;\" /></a><br>(see <a class=\"ProveItLink\" href=\"../../../__pv_it/theorems/d0e64fa3730077926b1f68e0cad328f654d3d7740/dependencies.ipynb\">dependencies</a>)<br>"
      ],
      "text/plain": [
       "add_cancel_general: forall_{i, j, k in Natural} [forall_{a_{1}, ..a_{_a}.., a_{i}, b, c_{1}, ..c_{_a}.., c_{j}, d_{1}, ..d_{_a}.., d_{k} in Complex} ((a_{1} i repeats ..a_{_a}.. + a_{i} + b + c_{1} j repeats ..c_{_a}.. + c_{j} - b + d_{1} k repeats ..d_{_a}.. + d_{k}) = (a_{1} + ..a_{_a}.. + a_{i} + c_{1} + ..c_{_a}.. + c_{j} + d_{1} + ..d_{_a}.. + d_{k}))]"
      ]
     },
     "execution_count": 2,
     "metadata": {},
     "output_type": "execute_result"
    }
   ],
   "source": [
    "%proving add_cancel_general"
   ]
  },
  {
   "cell_type": "code",
   "execution_count": null,
   "metadata": {},
   "outputs": [],
   "source": []
  }
 ],
 "metadata": {
  "kernelspec": {
   "display_name": "Python 3",
   "language": "python",
   "name": "python3"
  }
 },
 "nbformat": 4,
 "nbformat_minor": 0
}