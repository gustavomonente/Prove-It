{
 "cells": [
  {
   "cell_type": "markdown",
   "metadata": {},
   "source": [
    "Proof of <a class=\"ProveItLink\" href=\"../../../../../../_theory_nbs_/theory.ipynb\">proveit</a>.<a class=\"ProveItLink\" href=\"../../../../../_theory_nbs_/theory.ipynb\">numbers</a>.<a class=\"ProveItLink\" href=\"../../../../_theory_nbs_/theory.ipynb\">addition</a>.<a class=\"ProveItLink\" href=\"../../theory.ipynb\">subtraction</a>.<a class=\"ProveItLink\" href=\"../../theorems.ipynb#add_cancel_triple_32\">add_cancel_triple_32</a> theorem\n",
    "========"
   ]
  },
  {
   "cell_type": "code",
   "execution_count": 1,
   "metadata": {},
   "outputs": [],
   "source": [
    "import proveit\n",
    "theory = proveit.Theory() # the theorem's theory"
   ]
  },
  {
   "cell_type": "code",
   "execution_count": 2,
   "metadata": {},
   "outputs": [
    {
     "data": {
      "text/html": [
       "Under these <a href=\"presumptions.txt\">presumptions</a>, we begin our proof of<br><strong id=\"add_cancel_triple_32\">add_cancel_triple_32:</strong> <a class=\"ProveItLink\" href=\"../../../__pv_it/theorems/01853d4b9308deae53bb10f1a681c4b259855b6c0/expr.ipynb\"><img src=\"data:image/png;base64,iVBORw0KGgoAAAANSUhEUgAAANYAAAAVBAMAAADIsQ0HAAAAMFBMVEX///8QEBCIiIhmZma6urrM\n",
       "zMxUVFQiIiJERETc3Nzu7u6qqqp2dnaYmJgyMjIAAAAcRTyBAAAAAXRSTlMAQObYZgAAArpJREFU\n",
       "SMe1Vk1oE0EU/rKbbZJNduNNEITgT08eQj1aNSLiSRoP/txagiKCSjwoKB4igiToYU9aUGFrDkoQ\n",
       "s1REKoUWexAUZcFLW1AC1R6qhFI8aKrim51N0tlNt3vQB19293s7+82b9+ZNgI3tgYuQNtGTTRpA\n",
       "g918DBqrlhyo14vhtPoML/N4M/2cBd6yh6WgsbrhIhtOS234qAXCU2CULolS0NgPLtLWuq+MC0+v\n",
       "fP5VQioD3aSLFaR1xcWQGVJrzOuOtli4m6C9qdXuBkklihx4jZBaes7jTjmZ/gz8KJevBWlJWQ4s\n",
       "btvjmcXgwBZRizMpb2L1wnZauRngNFDpBNv0a8VtDvWPWRcr7IChL4tanNGc4njfZMaqAvUl9Sfw\n",
       "CTi4tnBmOtvh9pkCv4tZHMkW0hmh3rZCLglaLpP0bo4pEyvAC/oOJLvDfmUjJnfb6klT+capSI5D\n",
       "bqA+TaXrTPcLOeQWYhkewMVmc7HLKMserX1QfwHDtLp2rMtSqJidqEG7D0yKWrS9hoR6jZRQzwtx\n",
       "uYxPawHRVUcr0ThOj9V+NlVlpd+Mssweek4OcQ3TNvYLVU9RTol16DLRYjdfLFz8ZhHjMN1VTtG6\n",
       "XVLYHpCuSlmdeefnfLWRzlE6BC0LF5KGoMUZzds4vmPMdmoDz2gaclZhk4lntEaVeV92GyirYIY+\n",
       "Oy7WMr18OSXE5TLytEfrPG7Q7yDrPZTOiCWNOLmRR06Uy+XMvWPdTV/kUAfeefpeYeedHWIdckbP\n",
       "e7Squ1j1sSRplIW6EZ+nS9qMWH3MKz+kkZ4ehbB941HvltzeCRFj+AhGzZg5i1TeaQD5Tgtt994A\n",
       "q23Qe8F7r7tQhfG9OGop52ipbzHiSfNmeyXiBkdY63GmgJ8pa41vH4ny1eOsDG3rzKviO6b/wX+A\n",
       "uZ6sJn5cw/+1v6Bm0nDuapF+AAAAAElFTkSuQmCC\n",
       "\" style=\"display:inline;vertical-align:middle;\" /></a><br>(see <a class=\"ProveItLink\" href=\"../../../__pv_it/theorems/9c0985bf1b6e4a9207e3f4d8ee5bfe2f0b3ff24e0/dependencies.ipynb\">dependencies</a>)<br>"
      ],
      "text/plain": [
       "add_cancel_triple_32: forall_{a, b in Complex} ((b - a + a) = b)"
      ]
     },
     "execution_count": 2,
     "metadata": {},
     "output_type": "execute_result"
    }
   ],
   "source": [
    "%proving add_cancel_triple_32"
   ]
  },
  {
   "cell_type": "code",
   "execution_count": null,
   "metadata": {},
   "outputs": [],
   "source": []
  }
 ],
 "metadata": {
  "kernelspec": {
   "display_name": "Python 3",
   "language": "python",
   "name": "python3"
  }
 },
 "nbformat": 4,
 "nbformat_minor": 0
}