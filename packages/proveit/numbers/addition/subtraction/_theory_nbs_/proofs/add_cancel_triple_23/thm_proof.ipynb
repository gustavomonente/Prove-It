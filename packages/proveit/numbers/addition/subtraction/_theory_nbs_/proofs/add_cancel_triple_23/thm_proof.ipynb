{
 "cells": [
  {
   "cell_type": "markdown",
   "metadata": {},
   "source": [
    "Proof of <a class=\"ProveItLink\" href=\"../../../../../../_theory_nbs_/theory.ipynb\">proveit</a>.<a class=\"ProveItLink\" href=\"../../../../../_theory_nbs_/theory.ipynb\">numbers</a>.<a class=\"ProveItLink\" href=\"../../../../_theory_nbs_/theory.ipynb\">addition</a>.<a class=\"ProveItLink\" href=\"../../theory.ipynb\">subtraction</a>.<a class=\"ProveItLink\" href=\"../../theorems.ipynb#add_cancel_triple_23\">add_cancel_triple_23</a> theorem\n",
    "========"
   ]
  },
  {
   "cell_type": "code",
   "execution_count": 1,
   "metadata": {},
   "outputs": [],
   "source": [
    "import proveit\n",
    "theory = proveit.Theory() # the theorem's theory"
   ]
  },
  {
   "cell_type": "code",
   "execution_count": 2,
   "metadata": {},
   "outputs": [
    {
     "data": {
      "text/html": [
       "Under these <a href=\"presumptions.txt\">presumptions</a>, we begin our proof of<br><strong id=\"add_cancel_triple_23\">add_cancel_triple_23:</strong> <a class=\"ProveItLink\" href=\"../../../__pv_it/theorems/eb01d6a9ff81a7f592d462ecdcb74361c81375000/expr.ipynb\"><img src=\"data:image/png;base64,iVBORw0KGgoAAAANSUhEUgAAANYAAAAVBAMAAADIsQ0HAAAAMFBMVEX///8QEBCIiIhmZma6urrM\n",
       "zMxUVFQiIiJERETc3Nzu7u6qqqp2dnaYmJgyMjIAAAAcRTyBAAAAAXRSTlMAQObYZgAAArpJREFU\n",
       "SMe1Vk1o02AYfpr0N21Sb4IgFH928lDm0akVEU+yevDntlEUEVTqQUHxUBGkRQ856UCFzB6UImuY\n",
       "iEwGG+4gKErAyzZQCtMdphQZHrRT8f3ypT9fUrMI+sLbJM+XN8/3/n4F1pd7jgaUqb5oUgca7Oad\n",
       "n61SslW5WgzGFdXdyMON9HMaeMUeVvxsNd3RbDAupeGBlkgngDG6JEp+tm8dTZsOMLkO2XMPskaa\n",
       "ykAz6GL6mV5ydNgIyDXuBsIt5u4GqC9rtdt+lokiV7xAQC4t5wJSdqY/AN/K5St+llKWK5a37BK5\n",
       "EkODm1z7spGUO7FaYStFbg44CVQ6zja9XHGLq/LLqOsC1z5d+yK+yxHVLo43TSasKlBfUb4D74H9\n",
       "vYUz12mHm6cK/C5mck22kM70cimbIYtF5SBJd3PMGFgFntJ3IFkd9BOzmN5pKceNyGcOhXJc5Qbq\n",
       "s/Z2zzeby7QgtxBj5BO2Ax+7SMTlLfZA+QGMUHStWBclVzE/VYN6F5gWuai9hs1ev0Il1PPCNx3E\n",
       "w7WE8JrNlWgcpcfqANtYZHXACLPMHnhCC2IM0xb2Gr1c5OWM+E0HCRe7+WIBwE/mMQ7SXeUExe1C\n",
       "hPWAdFnKamx1ccFTG+kcpUPgMnEuKcwjB1Hdg+Mrxi27NvCYtiFnI2wz8YzaqLLVZ90ByiqYadSK\n",
       "ZwUuevliSixZjsizLq6zuEa/Q2z2UDpDpjRq50YePVYulzN3jnSbvshVGXwt9rJS2H5rm1iHHNHy\n",
       "Lq7qDlZ9LEkqZaGuxxfpkjZCZpStyvfJ0jWjEHRuPOg/ktudENJHDmHMiBnzSOXtAZDvjND27O1I\n",
       "7a9nL/jsdQJVmNyNw2bkDIX6BgMeNa+3IxHXuQaVPmcK+JnSK7x9JMpXn7MysPxhXxXPMf0P/gMs\n",
       "9EVV8eMq/q/8Bjwh0nB/6LcNAAAAAElFTkSuQmCC\n",
       "\" style=\"display:inline;vertical-align:middle;\" /></a><br>(see <a class=\"ProveItLink\" href=\"../../../__pv_it/theorems/e59300b6911e8c5bbac7997425dbe2b3de83b63a0/dependencies.ipynb\">dependencies</a>)<br>"
      ],
      "text/plain": [
       "add_cancel_triple_23: forall_{a, b in Complex} ((b + a - a) = b)"
      ]
     },
     "execution_count": 2,
     "metadata": {},
     "output_type": "execute_result"
    }
   ],
   "source": [
    "%proving add_cancel_triple_23"
   ]
  },
  {
   "cell_type": "code",
   "execution_count": null,
   "metadata": {},
   "outputs": [],
   "source": []
  }
 ],
 "metadata": {
  "kernelspec": {
   "display_name": "Python 3",
   "language": "python",
   "name": "python3"
  }
 },
 "nbformat": 4,
 "nbformat_minor": 0
}