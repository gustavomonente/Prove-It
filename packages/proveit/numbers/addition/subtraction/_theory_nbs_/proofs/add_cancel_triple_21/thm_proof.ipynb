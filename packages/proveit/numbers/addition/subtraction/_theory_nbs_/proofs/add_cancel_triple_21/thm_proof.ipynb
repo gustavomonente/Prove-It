{
 "cells": [
  {
   "cell_type": "markdown",
   "metadata": {},
   "source": [
    "Proof of <a class=\"ProveItLink\" href=\"../../../../../../_theory_nbs_/theory.ipynb\">proveit</a>.<a class=\"ProveItLink\" href=\"../../../../../_theory_nbs_/theory.ipynb\">numbers</a>.<a class=\"ProveItLink\" href=\"../../../../_theory_nbs_/theory.ipynb\">addition</a>.<a class=\"ProveItLink\" href=\"../../theory.ipynb\">subtraction</a>.<a class=\"ProveItLink\" href=\"../../theorems.ipynb#add_cancel_triple_21\">add_cancel_triple_21</a> theorem\n",
    "========"
   ]
  },
  {
   "cell_type": "code",
   "execution_count": 1,
   "metadata": {},
   "outputs": [],
   "source": [
    "import proveit\n",
    "theory = proveit.Theory() # the theorem's theory"
   ]
  },
  {
   "cell_type": "code",
   "execution_count": 2,
   "metadata": {},
   "outputs": [
    {
     "data": {
      "text/html": [
       "Under these <a href=\"presumptions.txt\">presumptions</a>, we begin our proof of<br><strong id=\"add_cancel_triple_21\">add_cancel_triple_21:</strong> <a class=\"ProveItLink\" href=\"../../../__pv_it/theorems/ee727b79908c8013815a55b9dd763827e5321f160/expr.ipynb\"><img src=\"data:image/png;base64,iVBORw0KGgoAAAANSUhEUgAAAOcAAAAVBAMAAABPgOQBAAAAMFBMVEX///8QEBCIiIhmZma6urrM\n",
       "zMxUVFQiIiJERETc3Nzu7u6qqqp2dnaYmJgyMjIAAAAcRTyBAAAAAXRSTlMAQObYZgAAAvdJREFU\n",
       "SMe9VktoE1EUPfmnk58LwQ8osdWuXIS6EawaEelKGhf+Vi1BEUElCrpQF1VBElQYEGxBF1MLWoI0\n",
       "Q0UkUmhpF4KizM62oAT6EauMpShoq+J980nyZsbUWPDCffPmvjdz3j3vvDsDLG8Niu51Wkh0DBfJ\n",
       "S6zztubT/YbXYf1rqDlpjQpXMoCf1vKS3c3VfMMHw+uxKfIBWzSaIGRKs4fx11Xr+UhCdwcC47bQ\n",
       "oHFdIg/bhmMyNaMELtGoXAs0IOpeD6h3kbG5yjraTmDopRxe5PPdNZnqNrwe0HCGtdPW0ecax0ng\n",
       "WzZ7uSZok+FlMbe2rLeA3h7bJHGg0XQTsTdmfdVs4w5aEG3VcSBnBr2qA+gtw03bI0bneVDvOnzm\n",
       "My3MCd+Bd1rSqmZMFMIvqSAiQkraq+nJsPLaQjdPpI3uJcNN3W+Ap4sH7VWwnQcdlrAAPLVuxyJi\n",
       "cYSI+gDclYP/kb11aJsiHJF8n4zYat0FfcUpzyICcT2D9xtVtZO6uyWcYzNfq+pZVZ2l3i4IP4AO\n",
       "C6inhMIIfMRTWAlUwsQJxot5RO4BQzyoaa4uFFJ8pmshfOUznYJ3yQ5Kx7Rd1kAbSofovq95hlrf\n",
       "QrPkZezve0IDzvTSWod59VJSoXke9CeIELRV7SljJKYwUrxM2blj9Nx5HztZ7ovuRJTNnJz4o5AK\n",
       "Ms4YZdUEXYK/VORAv7B91oVUXRuSJAhNSHhMyJ6Ej+EH45FSHxt+VgQnrirx05wLYZ7eq3jTOcKB\n",
       "nsY1alstoH4lSDR62FQSFFyym+XvSno6D2ez2fjdg5WpbYab6k1vubOZB33QeDSd5ED7tjJxzlgL\n",
       "fssrtrNMERE61wUxOEmXmOSS/ZrO7tOUFZRBHSPjWGweliUpduxHjxSQxhFOaVUnxQrzMgVfkGyh\n",
       "fFXfXvA1Gy2XovTgThyQfaeI7xss8Ei9njIHc6gqWnXYgGO0qhRppn9s3LSnK/2Ilxdrt6D4N/8X\n",
       "//q7EnF+3YRlFv6T/QblidrsVxmeswAAAABJRU5ErkJggg==\n",
       "\" style=\"display:inline;vertical-align:middle;\" /></a><br>(see <a class=\"ProveItLink\" href=\"../../../__pv_it/theorems/7308b87768b9473275ac991b506db3a1e6f3d11b0/dependencies.ipynb\">dependencies</a>)<br>"
      ],
      "text/plain": [
       "add_cancel_triple_21: forall_{a, b in Complex} ((-a + a + b) = b)"
      ]
     },
     "execution_count": 2,
     "metadata": {},
     "output_type": "execute_result"
    }
   ],
   "source": [
    "%proving add_cancel_triple_21"
   ]
  },
  {
   "cell_type": "code",
   "execution_count": null,
   "metadata": {},
   "outputs": [],
   "source": []
  }
 ],
 "metadata": {
  "kernelspec": {
   "display_name": "Python 3",
   "language": "python",
   "name": "python3"
  }
 },
 "nbformat": 4,
 "nbformat_minor": 0
}