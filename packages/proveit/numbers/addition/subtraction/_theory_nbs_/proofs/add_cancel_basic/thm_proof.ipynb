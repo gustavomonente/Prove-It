{
 "cells": [
  {
   "cell_type": "markdown",
   "metadata": {},
   "source": [
    "Proof of <a class=\"ProveItLink\" href=\"../../../../../../_theory_nbs_/theory.ipynb\">proveit</a>.<a class=\"ProveItLink\" href=\"../../../../../_theory_nbs_/theory.ipynb\">numbers</a>.<a class=\"ProveItLink\" href=\"../../../../_theory_nbs_/theory.ipynb\">addition</a>.<a class=\"ProveItLink\" href=\"../../theory.ipynb\">subtraction</a>.<a class=\"ProveItLink\" href=\"../../theorems.ipynb#add_cancel_basic\">add_cancel_basic</a> theorem\n",
    "========"
   ]
  },
  {
   "cell_type": "code",
   "execution_count": 1,
   "metadata": {},
   "outputs": [],
   "source": [
    "import proveit\n",
    "theory = proveit.Theory() # the theorem's theory"
   ]
  },
  {
   "cell_type": "code",
   "execution_count": 2,
   "metadata": {},
   "outputs": [
    {
     "data": {
      "text/html": [
       "Under these <a href=\"presumptions.txt\">presumptions</a>, we begin our proof of<br><strong id=\"add_cancel_basic\">add_cancel_basic:</strong> <a class=\"ProveItLink\" href=\"../../../__pv_it/theorems/a028a58228e5a1e102a547f778c72be3c49431ac0/expr.ipynb\"><img src=\"data:image/png;base64,iVBORw0KGgoAAAANSUhEUgAAAKkAAAAUBAMAAAAErwC3AAAAMFBMVEX///8QEBCIiIhmZma6urrM\n",
       "zMxUVFQiIiJERETc3Nzu7u6qqqp2dnaYmJgyMjIAAAAcRTyBAAAAAXRSTlMAQObYZgAAAg5JREFU\n",
       "OMuVlU9oE0EUxr9kkybZ7K6X9lIQFlp7LnpVUER6Kt1L1VskKL1JLgqih57KBhX21BbqYbWHllCa\n",
       "peKhUkiINwsl3mxRDEgFRUqhUKR4cP41daYz2jz4YOY3eZOZ9+a9Bf5lhTaX3tbNuEMHnw1+y0J6\n",
       "64tOodangOFNOvlh8PsupDe7oxIvsR8xPE8vOq13c0e5TNZSwQdgi2EvBpxE75WLuEz2UgUzQCOm\n",
       "2H1fq80ZvOaETOZdVcAhMJEw/CsMnxi8hoQKly8OKo+DEUeJjn1AdvUZvgdUDbs+F7oWefvyCicu\n",
       "S9fWHrWv9L9+AyWf4etKLovPpspi+JjLPg9LzqcgxYpyA3LWUpPhHNLH79zeuNS2b8fZn2Lez2Ud\n",
       "IeeT4So71C66JLuvjQDFTjt3TD+u1+C+ADbkXVPTqAeSuyDqrjRbjYThQucmmS+O7CJDg3/jDUFy\n",
       "BOpNNGRvQTKVk7h+o8MQ+BJzXL1Lzv4gewSPLuxsn8pWPcH9ovRsBXE72ipg+DXZ2hrNVrBIF97+\n",
       "1TPeceV996EjeQtiNdWySewBgc+RuKeS9B3cCsPQX5g8+dEYl12+MDssp4UTL1A7Q2skENglNVuP\n",
       "8jtxH12wXpHFM1bs0n9wKiqNwwlY1QTdrtFzd1Fwprx2BXhKhyt7M92LVWEuPF0n1OI0iWsPXTsf\n",
       "9YLP+oXZNuI/ZkOnQq8dVUsAAAAASUVORK5CYII=\n",
       "\" style=\"display:inline;vertical-align:middle;\" /></a><br>(see <a class=\"ProveItLink\" href=\"../../../__pv_it/theorems/8f54890c710e8cfbb44fd5617a22ac95d154ee470/dependencies.ipynb\">dependencies</a>)<br>"
      ],
      "text/plain": [
       "add_cancel_basic: forall_{a in Complex} ((a - a) = 0)"
      ]
     },
     "execution_count": 2,
     "metadata": {},
     "output_type": "execute_result"
    }
   ],
   "source": [
    "%proving add_cancel_basic"
   ]
  },
  {
   "cell_type": "code",
   "execution_count": null,
   "metadata": {},
   "outputs": [],
   "source": []
  }
 ],
 "metadata": {
  "kernelspec": {
   "display_name": "Python 3",
   "language": "python",
   "name": "python3"
  }
 },
 "nbformat": 4,
 "nbformat_minor": 0
}