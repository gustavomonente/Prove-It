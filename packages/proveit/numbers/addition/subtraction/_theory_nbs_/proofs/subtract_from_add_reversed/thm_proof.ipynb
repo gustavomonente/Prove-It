{
 "cells": [
  {
   "cell_type": "markdown",
   "metadata": {},
   "source": [
    "Proof of <a class=\"ProveItLink\" href=\"../../../../../../_theory_nbs_/theory.ipynb\">proveit</a>.<a class=\"ProveItLink\" href=\"../../../../../_theory_nbs_/theory.ipynb\">numbers</a>.<a class=\"ProveItLink\" href=\"../../../../_theory_nbs_/theory.ipynb\">addition</a>.<a class=\"ProveItLink\" href=\"../../theory.ipynb\">subtraction</a>.<a class=\"ProveItLink\" href=\"../../theorems.ipynb#subtract_from_add_reversed\">subtract_from_add_reversed</a> theorem\n",
    "========"
   ]
  },
  {
   "cell_type": "code",
   "execution_count": 1,
   "metadata": {},
   "outputs": [],
   "source": [
    "import proveit\n",
    "theory = proveit.Theory() # the theorem's theory"
   ]
  },
  {
   "cell_type": "code",
   "execution_count": 2,
   "metadata": {},
   "outputs": [
    {
     "data": {
      "text/html": [
       "Under these <a href=\"presumptions.txt\">presumptions</a>, we begin our proof of<br><strong id=\"subtract_from_add_reversed\">subtract_from_add_reversed:</strong> <a class=\"ProveItLink\" href=\"../../../__pv_it/theorems/68173efd1b9cf23dabd4f1c879adb1c3a14e69ed0/expr.ipynb\"><img src=\"data:image/png;base64,iVBORw0KGgoAAAANSUhEUgAAAS8AAAAWBAMAAABj8gc6AAAAMFBMVEX///8QEBCIiIhmZma6urrM\n",
       "zMxUVFQiIiJERETc3Nzu7u6qqqp2dnaYmJgyMjIAAAAcRTyBAAAAAXRSTlMAQObYZgAAA4BJREFU\n",
       "SMfFV01oE0EUfs1mm/+kB0ERhGBtD6IQ6s+pakVseymsB7UnG4KiopYcVNB6CAjS4A970oIKW3No\n",
       "KWKCv1QKDXpThKVe2qIlUntolVCKB60WfPOz2d3ZDa0YceDbdN98M/vNzHtvXgFq3u5zuLSQ6rQF\n",
       "dPv7KEeJvHysoa5ghmJ4vVvnaadpWHivVxnekpeFGgqLqgyzbp2PnKZ5cWElhgGym5kaCnvP8dOt\n",
       "MxwXLZGEaHnFENWQXqihsEsM3mXXc24QLT6H2w0yRN6MjNypoa5AmiGcdu3+LBqc3462MXzv77+y\n",
       "1q+Kq1OcFE+CIZpqFM4hvLkJ4LXIb7QuqrVlI/ISDCcAskaPt1xFURub2moi3KdOpl9nyC8Ef9i3\n",
       "sg9uAczQecq0Ue+6aaHsV6OLeIYlhgM0BngTFhS6cTJF/8i4BDtyJWde8hUYxjVYsncU4QzAC5Hf\n",
       "Z3HATSDhh0JpBh94zBT3xWSN7dCD3Zr81RQmFyu5hnODSYewujaGvRD8RfID3Zs5/GufRrp7RP46\n",
       "nIVtoCItgw+jVl5kCOs+k2bu/uToCETuAYyZwuorLuU3uPNVhc2C154wNkA1YZWhGcgrprBA6Qga\n",
       "c81kVfJSs0bdNO4lDnDwGXabwnwVnt/gbjc9O24/yhWQbAmD7h9Ah8XHksJR5oswTpw3zQDZ4zjs\n",
       "gkym8VwmAQXn5YYoYU5PGWMyPLI5z29wn8Opfmw6GWJ3/m8waL8EV9BzuPNbm8X58wXoxdvUcH54\n",
       "guqkhEw0+uPEgh6o5Ajz5ahNWKfJM7idvJ8M4VvHg/0cXLUr2A3BXQCtojBLuOGMFzHwpSIDxPAQ\n",
       "6gqeJHUQKUleAI7iPsTvHrYJa+e83vKnclmn3GOGe1RylnEQuW1C1RB+N4HPOVFYh+W0U023t2AG\n",
       "VBgggm6VV/3T+BPTyBdiKo876QGyTWHdFR7ZMcptR5XY9JgqXklVSo/06lfSEAdbsdrTBQOaT5vE\n",
       "J94HibBCM7FCr1QubIjzmDDChQ/mNZIQLnH4y0ucH0Dq8R44VJDPFvEZaJnQ4DoxPyxfUyxRqTEe\n",
       "j0rkwk4jrZMh3FNUBlhj2ZOtUvZYW8Hy9KCPmT1UmKdgy2NglJmuhaJ7y65eKLosjBW+buUvv5Iy\n",
       "orCQ/meldWQNpfUUh3WY5ekqrKsyGf/Nwf9uCff/Jbb+uy/+BubvEtChPDbWAAAAAElFTkSuQmCC\n",
       "\" style=\"display:inline;vertical-align:middle;\" /></a><br>(see <a class=\"ProveItLink\" href=\"../../../__pv_it/theorems/e665da300acf0ab218e0e6f828ce8e5aef1805fe0/dependencies.ipynb\">dependencies</a>)<br>"
      ],
      "text/plain": [
       "subtract_from_add_reversed: forall_{a, b, c in Complex | (a + b) = c} ((b - c) = (-a))"
      ]
     },
     "execution_count": 2,
     "metadata": {},
     "output_type": "execute_result"
    }
   ],
   "source": [
    "%proving subtract_from_add_reversed"
   ]
  },
  {
   "cell_type": "code",
   "execution_count": null,
   "metadata": {},
   "outputs": [],
   "source": []
  }
 ],
 "metadata": {
  "kernelspec": {
   "display_name": "Python 3",
   "language": "python",
   "name": "python3"
  }
 },
 "nbformat": 4,
 "nbformat_minor": 0
}