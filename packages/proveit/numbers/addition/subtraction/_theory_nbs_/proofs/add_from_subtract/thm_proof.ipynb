{
 "cells": [
  {
   "cell_type": "markdown",
   "metadata": {},
   "source": [
    "Proof of <a class=\"ProveItLink\" href=\"../../../../../../_theory_nbs_/theory.ipynb\">proveit</a>.<a class=\"ProveItLink\" href=\"../../../../../_theory_nbs_/theory.ipynb\">numbers</a>.<a class=\"ProveItLink\" href=\"../../../../_theory_nbs_/theory.ipynb\">addition</a>.<a class=\"ProveItLink\" href=\"../../theory.ipynb\">subtraction</a>.<a class=\"ProveItLink\" href=\"../../theorems.ipynb#add_from_subtract\">add_from_subtract</a> theorem\n",
    "========"
   ]
  },
  {
   "cell_type": "code",
   "execution_count": 1,
   "metadata": {},
   "outputs": [],
   "source": [
    "import proveit\n",
    "theory = proveit.Theory() # the theorem's theory"
   ]
  },
  {
   "cell_type": "code",
   "execution_count": 2,
   "metadata": {},
   "outputs": [
    {
     "data": {
      "text/html": [
       "Under these <a href=\"presumptions.txt\">presumptions</a>, we begin our proof of<br><strong id=\"add_from_subtract\">add_from_subtract:</strong> <a class=\"ProveItLink\" href=\"../../../__pv_it/theorems/4d621e38f93fb1a2a810a4a3a5c3440ff5525d580/expr.ipynb\"><img src=\"data:image/png;base64,iVBORw0KGgoAAAANSUhEUgAAAQ8AAAAWBAMAAAAsrwTqAAAAMFBMVEX///8QEBCIiIhmZma6urrM\n",
       "zMxUVFQiIiJERETc3Nzu7u6qqqp2dnaYmJgyMjIAAAAcRTyBAAAAAXRSTlMAQObYZgAAAz5JREFU\n",
       "SMe9VktoE0EY/pPtZpPNJvEoihCK7aFQCPWBoGJELL2Upge1Jy1FEVEkggo+DvEiLT5YEGxBhdUe\n",
       "hCBkqQ+oFAx6EJTKUi9tUQioBV+heNKi4j+zs4/ZB0ZY/OGfnXz77ey3838zE4DI4xbLoJgOhxuk\n",
       "8zZCHXLFTB9+oQyQUAOfIfBL0vkUoZCsaqb/RgHVNILFIzyB11QlQiGvWdoxxa45HZunwQ8hnNUA\n",
       "FD1CIWdY+oQM4JvgdvBDCGdeVKvjEepIlc30C3lO61MMrifC30dHz7f6Fm/pS35KvGAmKO0dvJCl\n",
       "9q2IFrzCt/WsMeFDAGMW2tYMUWB+h+KGCPeBn5k0zEydg6ucEPm3VlMhQ936qkniHenuVLPLQOFd\n",
       "bis/40dNXz48Qjumm49wN5Er+FeHpLOsw1FOSHoFcnlIlz3rZR0IODiBJYgbNv7ZYcxsMOQhTfzi\n",
       "CBHr3BjIlYd9QmJFM3dowL79RLO5hD2hAbU6iMs8XVgBKQ8UVgzJwX/YvfnpKmRuAsw4QhK8JQj3\n",
       "Y6iQ1V6z4jYyoPuExCpQK5lCUo29CEx2fiDf/K1Toz7LtxFT7X6Itx0hks0Di9vt7ATtXGnkn14h\n",
       "OYPMUlvZ8QiZJ5ykJ8RwBB47iHN8Slwhlj9LDX9SXJUl/MUFazAqZNzmgcV9BIlRjCsgFQd5s/7C\n",
       "wvNCiugHZlYnajocTzMP30c1QkEkmpJ5gqB7SpOE9XiaE9Jn88Di9lmELSCaHbIQSW4GeRMnJGEk\n",
       "ERbqnkWWz5xWGIxehpgeH6YFFobJD4B9+J35G3s4Ib2M10cmQaPc/RZhrb2qy2Yqs3N8aeSeWeIU\n",
       "z9Yjj3RcX8/gDNqipiYX8ZLTiIgcLsoEtfQdZDpChmwenWrC7YUEqfZXl8tDt3gad4P3KRuOqQf6\n",
       "YUKTtHlscb8tKCW665XYKVVhbMpjrkQuvLEGeA9C2KFX9ZxuIYcem9CRqe0wqIvH6timeuY0uETg\n",
       "e82LJdeq0UweWzXIhY3WANe6u6yqq2aGnvctwLqrjaNHnDtUSNx/SDda/2Nkq/w7nFad1hMVV+t+\n",
       "wvjHv4oLLcEZVxsopN8LT8L/jgIETlZXdG/4Azge+mwWdMA7AAAAAElFTkSuQmCC\n",
       "\" style=\"display:inline;vertical-align:middle;\" /></a><br>(see <a class=\"ProveItLink\" href=\"../../../__pv_it/theorems/8ea2d665fdba4aa43f95f73f684d06d16f92fa280/dependencies.ipynb\">dependencies</a>)<br>"
      ],
      "text/plain": [
       "add_from_subtract: forall_{a, b, c in Complex | (a - b) = c} ((c + b) = a)"
      ]
     },
     "execution_count": 2,
     "metadata": {},
     "output_type": "execute_result"
    }
   ],
   "source": [
    "%proving add_from_subtract"
   ]
  },
  {
   "cell_type": "code",
   "execution_count": null,
   "metadata": {},
   "outputs": [],
   "source": []
  }
 ],
 "metadata": {
  "kernelspec": {
   "display_name": "Python 3",
   "language": "python",
   "name": "python3"
  }
 },
 "nbformat": 4,
 "nbformat_minor": 0
}