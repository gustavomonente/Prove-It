{
 "cells": [
  {
   "cell_type": "markdown",
   "metadata": {},
   "source": [
    "Proof of <a class=\"ProveItLink\" href=\"../../../../../../_theory_nbs_/theory.ipynb\">proveit</a>.<a class=\"ProveItLink\" href=\"../../../../../_theory_nbs_/theory.ipynb\">numbers</a>.<a class=\"ProveItLink\" href=\"../../../../_theory_nbs_/theory.ipynb\">addition</a>.<a class=\"ProveItLink\" href=\"../../theory.ipynb\">subtraction</a>.<a class=\"ProveItLink\" href=\"../../theorems.ipynb#subtract_from_add\">subtract_from_add</a> theorem\n",
    "========"
   ]
  },
  {
   "cell_type": "code",
   "execution_count": 1,
   "metadata": {},
   "outputs": [],
   "source": [
    "import proveit\n",
    "theory = proveit.Theory() # the theorem's theory"
   ]
  },
  {
   "cell_type": "code",
   "execution_count": 2,
   "metadata": {},
   "outputs": [
    {
     "data": {
      "text/html": [
       "Under these <a href=\"presumptions.txt\">presumptions</a>, we begin our proof of<br><strong id=\"subtract_from_add\">subtract_from_add:</strong> <a class=\"ProveItLink\" href=\"../../../__pv_it/theorems/8e35ac14c0beee39be6bdabf55d40fdf367f7a970/expr.ipynb\"><img src=\"data:image/png;base64,iVBORw0KGgoAAAANSUhEUgAAAQ8AAAAWBAMAAAAsrwTqAAAAMFBMVEX///8QEBCIiIhmZma6urrM\n",
       "zMxUVFQiIiJERETc3Nzu7u6qqqp2dnaYmJgyMjIAAAAcRTyBAAAAAXRSTlMAQObYZgAAAzRJREFU\n",
       "SMe9VktoE1EUvclkmmTycymKEIrtolII9YOgYkQUN9J04WchGorFhVKyUMHqYtxIih8GBC2oMNqF\n",
       "UMQM/qBSMOhCUApD3bRFIYIK/kJxpUXF+37zj40weOG+vDlz5s3Je+e+NwChxw2eQTHZGm6QzpsQ\n",
       "dSgqSx9+tgLQoQU+Q+CXpPMpRCFZjaX/RgHVNILFIzyGv0k1RCGvePoiZ2DzNPghhLM6QNoIUcgp\n",
       "nr7oxzfBzeCHEM68mJi4GqKOZIWlP57T9SkGryfC36vVM22/xXNd8lOiBZaQ7uxy3/nQuQnRgnfI\n",
       "zX0rGDwEMCrQWLOFAv4/6g6IcB/4mQmTZfI0XHIb8rde0yBD3Jpu0qCatmnZBaDwdqeVn7lHTV04\n",
       "Mkg7qlVl4ORK/uqIGzzrcNQ91iLk8pDyrJqyCiQcnMBxiJoW/tlmTK01lf26/MUh5IBV95yrlH1C\n",
       "IkWWW3V6eZf+9/fYkxpQq4O84KZLixDPA4XTZtzGf1i92ckJyFwHmHIIGbLmX3A/thSyPGAb6Td8\n",
       "QiIq1EpMSLKxF4HxbqJa/tatU5/lY2QBdzwU/mRCKoKXENxeeyfodC2N8tO3jZhklmIV2yNkOnGS\n",
       "nhDDEXj0MM7xCXmRWH6EGv64vCxLnp2fE6OovDI5LyG4j6CjinER4sUBt1l/4cK7hRTRD8ysjqgZ\n",
       "MJziHr6PaqSCTDQl8gRB95TGCevxpEtITLV4grtLEDaCzDqkEEluAGW9+zwxEwhLdU+R5TMn0xxG\n",
       "L0PEiJbpAktlcgGwD/9n/toet5Ay4w033zabJuUeFISVVlVXWKanZzz10TdNnOLZepTBriurOZxB\n",
       "W9S0xDz+5HQiIqfxupBuIdMWIquCR2aEcndCB1ntrw6Xt9ziadxeAo5oh3bDmB7XZ7HF/baQLtFd\n",
       "r8RPKSpEqTAeE0K48FoM8A6kpQ49cbr9FY4N3tsCA4Z8rI5tsm9Gh/MEvtM8V3JUzQjj8apBLqwT\n",
       "A1zu7RGrrrFsed63ARuONooese8wIWtc+wiIz6r2PowslUvDKc1uPaG63y86KfMfPxXn2oIzjjZQ\n",
       "SMz0nMLj8L+jEPzt2xPeG/4AnaPzO1DWJB4AAAAASUVORK5CYII=\n",
       "\" style=\"display:inline;vertical-align:middle;\" /></a><br>(see <a class=\"ProveItLink\" href=\"../../../__pv_it/theorems/c22cdf83ca6923bfd4cca4ad8bb3ce04d7c6f1d90/dependencies.ipynb\">dependencies</a>)<br>"
      ],
      "text/plain": [
       "subtract_from_add: forall_{a, b, c in Complex | (a + b) = c} ((c - b) = a)"
      ]
     },
     "execution_count": 2,
     "metadata": {},
     "output_type": "execute_result"
    }
   ],
   "source": [
    "%proving subtract_from_add"
   ]
  },
  {
   "cell_type": "code",
   "execution_count": null,
   "metadata": {},
   "outputs": [],
   "source": []
  }
 ],
 "metadata": {
  "kernelspec": {
   "display_name": "Python 3",
   "language": "python",
   "name": "python3"
  }
 },
 "nbformat": 4,
 "nbformat_minor": 0
}