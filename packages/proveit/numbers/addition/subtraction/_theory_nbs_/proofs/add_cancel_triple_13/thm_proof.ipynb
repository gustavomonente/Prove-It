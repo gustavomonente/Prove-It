{
 "cells": [
  {
   "cell_type": "markdown",
   "metadata": {},
   "source": [
    "Proof of <a class=\"ProveItLink\" href=\"../../../../../../_theory_nbs_/theory.ipynb\">proveit</a>.<a class=\"ProveItLink\" href=\"../../../../../_theory_nbs_/theory.ipynb\">numbers</a>.<a class=\"ProveItLink\" href=\"../../../../_theory_nbs_/theory.ipynb\">addition</a>.<a class=\"ProveItLink\" href=\"../../theory.ipynb\">subtraction</a>.<a class=\"ProveItLink\" href=\"../../theorems.ipynb#add_cancel_triple_13\">add_cancel_triple_13</a> theorem\n",
    "========"
   ]
  },
  {
   "cell_type": "code",
   "execution_count": 1,
   "metadata": {},
   "outputs": [],
   "source": [
    "import proveit\n",
    "theory = proveit.Theory() # the theorem's theory"
   ]
  },
  {
   "cell_type": "code",
   "execution_count": 2,
   "metadata": {},
   "outputs": [
    {
     "data": {
      "text/html": [
       "Under these <a href=\"presumptions.txt\">presumptions</a>, we begin our proof of<br><strong id=\"add_cancel_triple_13\">add_cancel_triple_13:</strong> <a class=\"ProveItLink\" href=\"../../../__pv_it/theorems/da88d532b1dfc0eb845dfef67e2712657b37c5950/expr.ipynb\"><img src=\"data:image/png;base64,iVBORw0KGgoAAAANSUhEUgAAANYAAAAVBAMAAADIsQ0HAAAAMFBMVEX///8QEBCIiIhmZma6urrM\n",
       "zMxUVFQiIiJERETc3Nzu7u6qqqp2dnaYmJgyMjIAAAAcRTyBAAAAAXRSTlMAQObYZgAAAsJJREFU\n",
       "SMe1Vk1oE0EU/pLNNskmu/EmCELwpycPoR6tGhHxJI0Hf24tQRFBJR4ULB4igiToYU9aUGFrDkoQ\n",
       "s1REKoWW9iAoyoKXtqAEqj1UCaV40FTFNzubpLO72eagD97O7Js3+73fmQU2p4cO90iTvtKEDtTZ\n",
       "5GPQXqXI2btwo+Cn36e7JU+20uM88Ja9rARhaTpnn5WMr211j2iJ+BkwRkO8GIT1weEOTThjyvTd\n",
       "MOuRrBMn09AMGswgrGsOe7GGDN8N425BpMnc3QL1TbV6LwgqXuDsg/W6S9CzLkHS3v4Z+FEqXQ/C\n",
       "Cmc4Iz44sE3EWt6xz2WXrZJ0p1HL76TIzQFngXLb2YYXK2ZxxiFdWxWwlD9GTawZrqLaxfG+wYhV\n",
       "BWoryk/gE3B4Y+HMtdvhzrk8n0VNzsp2SEUBK9FEKi1UIFdJuFth2sAa8JK+g7DVln5lO6b2Wspp\n",
       "Q/7GRaEsZ6mJaJrbe7nRWKaZVEdthorZduAL2iryqgvrAJRfwDBF14p2pOQq5ierUB8AUyJWqIha\n",
       "TvCL2mtIqGBHxYO1hMi6jRWvn6TXSj8zTF7rNyIss0de0IIYQ3JhWqzDlIWDQtU7KpFCJ1/Mf/xm\n",
       "HuMozcpnKG5XZNYD4dFwRmOriwue2qiZuJTQBawsJUjA4iqq++D4jnHLrg08JzOkjMyMiaXVeoWt\n",
       "vuocoKyCGdPa1aTgV58VE6vbUZFmXFgXcZOeg8w8SmfIDI/YuZFGTpVKpfT9E52mL3BW8rvv7hJr\n",
       "fuCd6yTkKlrOhVXZw6qPJUmlmNf02CINKSNk9rFV6RHt3PSM6kKP/a+LVieE9OFjGDOixjySOfsA\n",
       "yLWPUO/ZWw3GmvWVJlutGMlP7MdxU75Aob7NBE8bt1qRiOmceyWfOwX8TtlIvFnClK+e7sou1MWu\n",
       "suea/gf/AAu+UlX8uIr/S38Bza3ScPuh24wAAAAASUVORK5CYII=\n",
       "\" style=\"display:inline;vertical-align:middle;\" /></a><br>(see <a class=\"ProveItLink\" href=\"../../../__pv_it/theorems/a64314fb2aafce94018d405a70f1f57a6399c3100/dependencies.ipynb\">dependencies</a>)<br>"
      ],
      "text/plain": [
       "add_cancel_triple_13: forall_{a, b in Complex} ((a + b - a) = b)"
      ]
     },
     "execution_count": 2,
     "metadata": {},
     "output_type": "execute_result"
    }
   ],
   "source": [
    "%proving add_cancel_triple_13"
   ]
  },
  {
   "cell_type": "code",
   "execution_count": null,
   "metadata": {},
   "outputs": [],
   "source": []
  }
 ],
 "metadata": {
  "kernelspec": {
   "display_name": "Python 3",
   "language": "python",
   "name": "python3"
  }
 },
 "nbformat": 4,
 "nbformat_minor": 0
}