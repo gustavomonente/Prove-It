{
 "cells": [
  {
   "cell_type": "markdown",
   "metadata": {},
   "source": [
    "Proof of <a class=\"ProveItLink\" href=\"../../../../../../_theory_nbs_/theory.ipynb\">proveit</a>.<a class=\"ProveItLink\" href=\"../../../../../_theory_nbs_/theory.ipynb\">numbers</a>.<a class=\"ProveItLink\" href=\"../../../../_theory_nbs_/theory.ipynb\">addition</a>.<a class=\"ProveItLink\" href=\"../../theory.ipynb\">subtraction</a>.<a class=\"ProveItLink\" href=\"../../theorems.ipynb#sub_one_is_nat\">sub_one_is_nat</a> theorem\n",
    "========"
   ]
  },
  {
   "cell_type": "code",
   "execution_count": 1,
   "metadata": {},
   "outputs": [],
   "source": [
    "import proveit\n",
    "theory = proveit.Theory() # the theorem's theory"
   ]
  },
  {
   "cell_type": "code",
   "execution_count": 2,
   "metadata": {},
   "outputs": [
    {
     "data": {
      "text/html": [
       "Under these <a href=\"presumptions.txt\">presumptions</a>, we begin our proof of<br><strong id=\"sub_one_is_nat\">sub_one_is_nat:</strong> <a class=\"ProveItLink\" href=\"../../../__pv_it/theorems/41538217b068dfb8aeff50147d6c71379cbc6b890/expr.ipynb\"><img src=\"data:image/png;base64,iVBORw0KGgoAAAANSUhEUgAAALcAAAAUBAMAAAA9yLHsAAAAMFBMVEX///8QEBCIiIhmZma6urrM\n",
       "zMxUVFQiIiJERETc3Nzu7u6qqqp2dnaYmJgyMjIAAAAcRTyBAAAAAXRSTlMAQObYZgAAAoJJREFU\n",
       "OMuVlU1oE1EQx//JZvOxX+YgHgR18etqaUBBI0RECoKQU4ooNJQWLYjmoh4UWbyYKEpO1uNKD0oO\n",
       "TdSDFARj60HjJQiCCmpBe7CCtLfSk/P2vU03m921HZhkMi/7e/Pm4y3wf8l0uQaKWg9ZmCNdZMa3\n",
       "SPhTocEy5fs9u/bAxpvVQpJ2/cAcy5Hw30IH5ZlNML/zvlyGsgKFwn7Ezm1FsfUhrgOiXLpCcM30\n",
       "uS8U9wJZYB4w2HorCp6qcw2QH/SwkhUx3Ll+yzEm7iaLqACPyddpNKYjszItNASOX44p37bdIpSU\n",
       "ZQY3CsBatXpz8DFtw9wnNJMf3hkEX+B1tHsVVs0Sg2uUykmgNgiXPAUSeqJurATBv/uaZgpvdZPg\n",
       "OlX0pFPXCPgNrsouSFYQ/KVjWh540p4kuEqaQtw7IKP5QnxHH3w7V2kdKdYYs3+ZLG3Ax5yU72Ze\n",
       "AVfKBlVZpnNq3VSvt17luqrVwVEtdyR3zAePWWgWgyJ34Blv5DgvC3hmseS6P881oH6U0A5KS7ON\n",
       "14HdMuKYWS9cb9FeCUoLahP0MXNwCQk2Keq5s2Y7qKDNFi77LxJPQYd7TuoQvLd4QfGCdlCuyusw\n",
       "nIuo2PnUD1/gmjb1a5ov8kMMnuej1hvEP6wfCCwRBtuoTNKQXMEMh2usQT3wEa7K+IGH+/vZh/f8\n",
       "pF7gtVUunhYdsUpRswY0WIV02j7WipcxWq1WTbWY6dJR5E2Nv0Ot8O/EOzH+rjxxjWY9/dVO8shx\n",
       "ytzcxSVm2QxZmHeNWH3sDDTnHAXo7f5/1RA4xO79HXai3mgmxp8fB+6x7NI9VN7KyyJs27Qvk3HK\n",
       "+VZfc3pYNb4A/wA5s67dRJBDGwAAAABJRU5ErkJggg==\n",
       "\" style=\"display:inline;vertical-align:middle;\" /></a><br>(see <a class=\"ProveItLink\" href=\"../../../__pv_it/theorems/c0855e9aad24fb8041ade8d5ffb1cc51aa59ccf50/dependencies.ipynb\">dependencies</a>)<br>"
      ],
      "text/plain": [
       "sub_one_is_nat: forall_{a in NaturalPos} ((a - 1) in Natural)"
      ]
     },
     "execution_count": 2,
     "metadata": {},
     "output_type": "execute_result"
    }
   ],
   "source": [
    "%proving sub_one_is_nat"
   ]
  },
  {
   "cell_type": "code",
   "execution_count": null,
   "metadata": {},
   "outputs": [],
   "source": []
  }
 ],
 "metadata": {
  "kernelspec": {
   "display_name": "Python 3",
   "language": "python",
   "name": "python3"
  }
 },
 "nbformat": 4,
 "nbformat_minor": 0
}