{
 "cells": [
  {
   "cell_type": "markdown",
   "metadata": {},
   "source": [
    "Proof of <a class=\"ProveItLink\" href=\"../../../../../../_theory_nbs_/theory.ipynb\">proveit</a>.<a class=\"ProveItLink\" href=\"../../../../../_theory_nbs_/theory.ipynb\">numbers</a>.<a class=\"ProveItLink\" href=\"../../../../_theory_nbs_/theory.ipynb\">addition</a>.<a class=\"ProveItLink\" href=\"../../theory.ipynb\">subtraction</a>.<a class=\"ProveItLink\" href=\"../../theorems.ipynb#add_cancel_triple_31\">add_cancel_triple_31</a> theorem\n",
    "========"
   ]
  },
  {
   "cell_type": "code",
   "execution_count": 1,
   "metadata": {},
   "outputs": [],
   "source": [
    "import proveit\n",
    "theory = proveit.Theory() # the theorem's theory"
   ]
  },
  {
   "cell_type": "code",
   "execution_count": 2,
   "metadata": {},
   "outputs": [
    {
     "data": {
      "text/html": [
       "Under these <a href=\"presumptions.txt\">presumptions</a>, we begin our proof of<br><strong id=\"add_cancel_triple_31\">add_cancel_triple_31:</strong> <a class=\"ProveItLink\" href=\"../../../__pv_it/theorems/0502d7d1342ae664d780d00e6b25efd3e2c25a530/expr.ipynb\"><img src=\"data:image/png;base64,iVBORw0KGgoAAAANSUhEUgAAAOcAAAAVBAMAAABPgOQBAAAAMFBMVEX///8QEBCIiIhmZma6urrM\n",
       "zMxUVFQiIiJERETc3Nzu7u6qqqp2dnaYmJgyMjIAAAAcRTyBAAAAAXRSTlMAQObYZgAAAu9JREFU\n",
       "SMe9Vk1oE0EUfsnmr5s/D4I/oMRWe/IQ6kWwakSkJ2k8+HdqCIoIVoKgB/UQFSRBhQXBFvSwNaAS\n",
       "pLsoIpFCQ3sQFGFvtgUlUKtYJUpR0ETFN7uzyc52dtt68MHLzH7zZr55P/uyAEtLh2boCiUsceEK\n",
       "ao1M3rjufkDV2WANFz5pB8RLOYAA3uUleZp3Jf1I1VlmuejoIiSWRGZ0c5jEL+92YjRpKCeACTpp\n",
       "2gFdIgn7hriKPxNILuOq6kYalAx1JvU1uKTiKvuGfiSDEfThRbk85Bq7IarOpJEclxTe2Tc812Oc\n",
       "AvhRKFx0Je2i2irm3p71LEcs26WypDcnN6FTk/aj3nfuwCtiqo4DFE3QV+eQ3qBqyh4p9pUlVebF\n",
       "n2y818EXHN7qYajrQopC/CMrEkSxkvbq9USldbfw9RNZOr1A1czUBhDyLOm4DAsMMKLBdhye2tPR\n",
       "gHgCwpiMIHjbL/4ncurYNk08Ivs/U2y1oaJx47TQgGDC8ODDxno9g9NdIP5igN0ynMFhwEYq1ECp\n",
       "gh/jFNGCbZhEaapShugdgDGW1BRPHpQ06+ks+JoMsBbE7xxSfE37VZ20o3YIn0vdc/jrX+iWfST6\n",
       "+57gAj+8eNdxW7H+BqFhBdDvMEl7nyWnJABxjcTAR2q9eAzNzvrJNu95bzJGLGemHQtJUeE0basm\n",
       "6TeSRCtpEwK1Ci0ka29IYUHohQSPkVlI+gl/KBGtlcjyswowxWUpfrQ5F2E9HYQrLHAZXmeqAL02\n",
       "0oAWwjAKVcKPlh7VS/z3pITM4UKhkLh9sG3aZwaKVm92y63NLEdpq8YC9zqPZrEFzNkbfs8rkllS\n",
       "EVF8jRUpNINDXPaoAb3O7qLJstugAyDmuM3mfqskpYH9MCwH5SmIpPWukyaNeYmGL8quwOKGr8tE\n",
       "qxVlH+2EA6r/FMb7GgEe1q+mzcUiWJrWCmSUi1pakS5GA/ViTlf2J+4g/IuGpOV8X/zr50qUf9y0\n",
       "zQr+k/wF7Y7T5KNEoM8AAAAASUVORK5CYII=\n",
       "\" style=\"display:inline;vertical-align:middle;\" /></a><br>(see <a class=\"ProveItLink\" href=\"../../../__pv_it/theorems/a4e8158e41b84f0fe494c12c64a1e750095d908a0/dependencies.ipynb\">dependencies</a>)<br>"
      ],
      "text/plain": [
       "add_cancel_triple_31: forall_{a, b in Complex} ((-a + b + a) = b)"
      ]
     },
     "execution_count": 2,
     "metadata": {},
     "output_type": "execute_result"
    }
   ],
   "source": [
    "%proving add_cancel_triple_31"
   ]
  },
  {
   "cell_type": "code",
   "execution_count": null,
   "metadata": {},
   "outputs": [],
   "source": []
  }
 ],
 "metadata": {
  "kernelspec": {
   "display_name": "Python 3",
   "language": "python",
   "name": "python3"
  }
 },
 "nbformat": 4,
 "nbformat_minor": 0
}