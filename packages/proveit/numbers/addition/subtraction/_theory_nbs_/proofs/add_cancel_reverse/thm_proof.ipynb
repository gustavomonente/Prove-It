{
 "cells": [
  {
   "cell_type": "markdown",
   "metadata": {},
   "source": [
    "Proof of <a class=\"ProveItLink\" href=\"../../../../../../_theory_nbs_/theory.ipynb\">proveit</a>.<a class=\"ProveItLink\" href=\"../../../../../_theory_nbs_/theory.ipynb\">numbers</a>.<a class=\"ProveItLink\" href=\"../../../../_theory_nbs_/theory.ipynb\">addition</a>.<a class=\"ProveItLink\" href=\"../../theory.ipynb\">subtraction</a>.<a class=\"ProveItLink\" href=\"../../theorems.ipynb#add_cancel_reverse\">add_cancel_reverse</a> theorem\n",
    "========"
   ]
  },
  {
   "cell_type": "code",
   "execution_count": 1,
   "metadata": {},
   "outputs": [],
   "source": [
    "import proveit\n",
    "theory = proveit.Theory() # the theorem's theory"
   ]
  },
  {
   "cell_type": "code",
   "execution_count": 2,
   "metadata": {},
   "outputs": [
    {
     "data": {
      "text/html": [
       "Under these <a href=\"presumptions.txt\">presumptions</a>, we begin our proof of<br><strong id=\"add_cancel_reverse\">add_cancel_reverse:</strong> <a class=\"ProveItLink\" href=\"../../../__pv_it/theorems/1bd3f6af28384e7e2dce2ebaa0b812e5e4ca56130/expr.ipynb\"><img src=\"data:image/png;base64,iVBORw0KGgoAAAANSUhEUgAAALkAAAAUBAMAAAAjAYFfAAAAMFBMVEX///8QEBCIiIhmZma6urrM\n",
       "zMxUVFQiIiJERETc3Nzu7u6qqqp2dnaYmJgyMjIAAAAcRTyBAAAAAXRSTlMAQObYZgAAAilJREFU\n",
       "OMudlT1oFFEQx//3lbvs7a6NNoKwoKYO2iooIlbiNn50J4diJ2ehIFpcFfZQYSsjaLGaQjmEWyIW\n",
       "kcAdsVMIZ2eC4oEoKLIEBJFg4fuYvfhe9m04Bwbe+82+2XkzO7NAnkwPpebLkhmP+OKj4dwz0nyZ\n",
       "CrehlQ++wG/55rvh3DfSfLFGOnFj66bAD3gC2tnHnFmp22VRjVQ3vwNWBXYjwI6zvVdDqTt5f6yb\n",
       "54B+xLHzptudN1x5nnQn7+4xzfwLOBML/DsIbhu87ycdf0JHDu1VvUtia9mzfjLvnsCXgY7B+z3S\n",
       "VI6H7obqXRJHlHU14fKZv/MP0PAEPqHVvH73SpOWt0jTkPah1Fa8E6m3tDZhsTcGAldRTPvFWj48\n",
       "tC5ElR+03y3VEkElfmkTVU8GeS1JvrIVkcpGZmY4tofVlL5f6sJ5BCyr3lMptNHzldiJ6N55Vfux\n",
       "wNOjc2y/MPMFZV6cky8Zys5Mb4C++s0QKbe28s6vhAD4FEncucTucr2yCZcb1teMVe3FuFoPFe+S\n",
       "OKPMbhL4BXtFabbSwgI3vPpnJr0mJal5zg1biZ1IaaC3YWztIbyL1aUQFy/ifBAE3sOzWw+dIk2L\n",
       "1Tx4/4D6zUji+vrkWZnxCTtsFvTC2no0xQ2lJ8w44SR4mt0uY1wIG6dh+6L7/PFUMk+xbv4U03C5\n",
       "uXgUuMOXz5O58UU7MDdy3gTOxEWW9//4e9TCSfCkf741I/4L8LO11gXVv1cAAAAASUVORK5CYII=\n",
       "\" style=\"display:inline;vertical-align:middle;\" /></a><br>(see <a class=\"ProveItLink\" href=\"../../../__pv_it/theorems/924ce5962c88286b9a0fd140cc681c5f72938c230/dependencies.ipynb\">dependencies</a>)<br>"
      ],
      "text/plain": [
       "add_cancel_reverse: forall_{a in Complex} ((-a + a) = 0)"
      ]
     },
     "execution_count": 2,
     "metadata": {},
     "output_type": "execute_result"
    }
   ],
   "source": [
    "%proving add_cancel_reverse"
   ]
  },
  {
   "cell_type": "code",
   "execution_count": null,
   "metadata": {},
   "outputs": [],
   "source": []
  }
 ],
 "metadata": {
  "kernelspec": {
   "display_name": "Python 3",
   "language": "python",
   "name": "python3"
  }
 },
 "nbformat": 4,
 "nbformat_minor": 0
}