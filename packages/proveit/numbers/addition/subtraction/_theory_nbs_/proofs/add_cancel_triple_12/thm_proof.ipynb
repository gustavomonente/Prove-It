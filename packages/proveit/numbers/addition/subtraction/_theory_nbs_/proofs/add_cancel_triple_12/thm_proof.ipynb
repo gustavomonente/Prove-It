{
 "cells": [
  {
   "cell_type": "markdown",
   "metadata": {},
   "source": [
    "Proof of <a class=\"ProveItLink\" href=\"../../../../../../_theory_nbs_/theory.ipynb\">proveit</a>.<a class=\"ProveItLink\" href=\"../../../../../_theory_nbs_/theory.ipynb\">numbers</a>.<a class=\"ProveItLink\" href=\"../../../../_theory_nbs_/theory.ipynb\">addition</a>.<a class=\"ProveItLink\" href=\"../../theory.ipynb\">subtraction</a>.<a class=\"ProveItLink\" href=\"../../theorems.ipynb#add_cancel_triple_12\">add_cancel_triple_12</a> theorem\n",
    "========"
   ]
  },
  {
   "cell_type": "code",
   "execution_count": 1,
   "metadata": {},
   "outputs": [],
   "source": [
    "import proveit\n",
    "theory = proveit.Theory() # the theorem's theory"
   ]
  },
  {
   "cell_type": "code",
   "execution_count": 2,
   "metadata": {},
   "outputs": [
    {
     "data": {
      "text/html": [
       "Under these <a href=\"presumptions.txt\">presumptions</a>, we begin our proof of<br><strong id=\"add_cancel_triple_12\">add_cancel_triple_12:</strong> <a class=\"ProveItLink\" href=\"../../../__pv_it/theorems/c98dae21a3231a0823a9a6adf1269abdb77b56b40/expr.ipynb\"><img src=\"data:image/png;base64,iVBORw0KGgoAAAANSUhEUgAAANYAAAAVBAMAAADIsQ0HAAAAMFBMVEX///8QEBCIiIhmZma6urrM\n",
       "zMxUVFQiIiJERETc3Nzu7u6qqqp2dnaYmJgyMjIAAAAcRTyBAAAAAXRSTlMAQObYZgAAAsFJREFU\n",
       "SMe1VktoE2EQ/pLN5rHJJt4EQVh89OQh1KNVIyKepPHg49YSFBFU4kHB4qEiSIIe9qQFFbbmoAQx\n",
       "S0SkUmhpD4KiLHhpC0qg2kOVIMWDpirOv/9mXwnrUnTg28c32Zn5Z+afP8Df5b6FkDLVl02rQIs9\n",
       "vA/6VhrnCCHStTIQV/30o810OQu8Zi+rQQayKkcYyebJYauHXiY8ASbolgqM+p2FIGla95xOl7ke\n",
       "9TohoyCr0U0PsnPFQhhfw2QNk35trMPyuwnyq3r9TpCZVJkjlK+XZiILPm3G/Pwj8L1SuRpkJprn\n",
       "QGpocIsvDJvp+lrZtodM5/1VLG2nzM0Dp4Gqvdh2r6+kwYEDavarV+Uwli/pt9ZQIZvN8bbNhHUF\n",
       "GqvSD+ADcNDdOPP2drh1psSfEjqHtBWCt4dcjOUr3UFOQdqf8RkNa8BzsoOoYbOfmYnp3YZ0UhO/\n",
       "cCpS4BA6SCisd814P8FhaAUX2+0VxrTQmIXoWz72QfoJjFB2jYTD0lKxMFWHfA+Y9vqKjKNR9Jhw\n",
       "MU17ew3rvb6WEVs3faVax+m1NsAiFdcGtBir7KFnpPDmkAKe8ZpwMZavnIH9GmJlp15stfjFUoDD\n",
       "9FQ9RXm7JLI9EB2L5rNMu7TY0xsNHRfSnvHhYrq+ClRDqzdc8g2ThtkbeEphCHmRBZNU5FaNaV84\n",
       "A5R1MAPpLme8Heowlq+4kaRfCrM+X+dxna5DLBiqb0SPjpq1EUZPVCoV5e4xZ9OXOaTSzts7vH3o\n",
       "MN2eH3zDqlb0+artYt3HiiTTXGmoySW65bSIHmda4QF9uIEZZcrD/mdAdydE1JEjmNAS2gIyRXMi\n",
       "FO0RGmb21t0vc31/klG6iSo19+KoLp6jVN9kxOP2jW4mkipHWOlzpoCfKW7h4z5K9drgWWnH1keq\n",
       "Pcf0P/gPsNiXlb3GZfxf+QPMM9JwNWzQBgAAAABJRU5ErkJggg==\n",
       "\" style=\"display:inline;vertical-align:middle;\" /></a><br>(see <a class=\"ProveItLink\" href=\"../../../__pv_it/theorems/633245dd43d624d3d91a222b66d0d2f506eea6df0/dependencies.ipynb\">dependencies</a>)<br>"
      ],
      "text/plain": [
       "add_cancel_triple_12: forall_{a, b in Complex} ((a - a + b) = b)"
      ]
     },
     "execution_count": 2,
     "metadata": {},
     "output_type": "execute_result"
    }
   ],
   "source": [
    "%proving add_cancel_triple_12"
   ]
  },
  {
   "cell_type": "code",
   "execution_count": null,
   "metadata": {},
   "outputs": [],
   "source": []
  }
 ],
 "metadata": {
  "kernelspec": {
   "display_name": "Python 3",
   "language": "python",
   "name": "python3"
  }
 },
 "nbformat": 4,
 "nbformat_minor": 0
}