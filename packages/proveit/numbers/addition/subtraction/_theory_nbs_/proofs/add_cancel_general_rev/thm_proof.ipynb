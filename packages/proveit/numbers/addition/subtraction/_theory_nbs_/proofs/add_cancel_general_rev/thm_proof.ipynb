{
 "cells": [
  {
   "cell_type": "markdown",
   "metadata": {},
   "source": [
    "Proof of <a class=\"ProveItLink\" href=\"../../../../../../_theory_nbs_/theory.ipynb\">proveit</a>.<a class=\"ProveItLink\" href=\"../../../../../_theory_nbs_/theory.ipynb\">numbers</a>.<a class=\"ProveItLink\" href=\"../../../../_theory_nbs_/theory.ipynb\">addition</a>.<a class=\"ProveItLink\" href=\"../../theory.ipynb\">subtraction</a>.<a class=\"ProveItLink\" href=\"../../theorems.ipynb#add_cancel_general_rev\">add_cancel_general_rev</a> theorem\n",
    "========"
   ]
  },
  {
   "cell_type": "code",
   "execution_count": 1,
   "metadata": {},
   "outputs": [],
   "source": [
    "import proveit\n",
    "theory = proveit.Theory() # the theorem's theory"
   ]
  },
  {
   "cell_type": "code",
   "execution_count": 2,
   "metadata": {},
   "outputs": [
    {
     "data": {
      "text/html": [
       "Under these <a href=\"presumptions.txt\">presumptions</a>, we begin our proof of<br><strong id=\"add_cancel_general_rev\">add_cancel_general_rev:</strong> <a class=\"ProveItLink\" href=\"../../../__pv_it/theorems/574f02c895319ca7a6e51f9181a7475ab1fcec600/expr.ipynb\"><img src=\"data:image/png;base64,iVBORw0KGgoAAAANSUhEUgAABZgAAAAZBAMAAABOV1YtAAAAMFBMVEX///8QEBCIiIhmZma6urrM\n",
       "zMxUVFQiIiJERETc3Nzu7u6qqqp2dnaYmJgyMjIAAAAcRTyBAAAAAXRSTlMAQObYZgAAC45JREFU\n",
       "eNrtXH+MFFcd/97uzv6Y2d1DWhWwmO0hhALF9YitLb+ONu1porCHiUBrvcu11aCga9HDUmK3+IdH\n",
       "G+wYGkASzRTSUg/pbs8axNSy3rWQouDmiLU0nC6B0h/aK+GXHAfi+zU7897M7r7dvUtOci+Z2Xcz\n",
       "3/3+/Mz3fd97swcg1761VoexNtZGb/OtXS9Lmhzz1lgb5W3L/wOYf8mOsVZD01xG1lDuejFsHwVz\n",
       "Hn/0S4BZknD4m5qih9X8qRER9MInS9x8yRgR255wZgnliXh5deTb8hvo50oXg0cVKk27qzHMrxMw\n",
       "/xn//YEEmCUJh79FdXrYwFw6o/iqlXSyxL03S3+1qVrjXAJYnymvTgVCh+jHi84774+uHGvaLdts\n",
       "hql5AuZteLhJSYBZknD421F2SLedxW91y3gHtFjFGbZ4UnFn1i0G0KbZEoNXpzahvsv0M+zQIxKX\n",
       "07WsEZI+7i7DeYlRERPOsB4C5ijiEM5IgFmScPjbo+yoCP3VgNn0ThVgjlQL5kIAbZodFNSpTWiY\n",
       "FTLqOJEooI8uMB+sjAln2LMEzJFDXV1bZSaAkoTD3kJJesjPCM5VCWbTO1WAeX+1YD7ootlJQZ3a\n",
       "hBYKmVMi0VYYXWA+WRkTzrBoE1nNuNTZuV4GzJKEw948cXrA5t6baRrb0UgS14mZR/TQ/AP64puO\n",
       "HkBFNO5C96wYHP3PnIwysy9fyhWheY2TnPVr+5QM7+Bww1T29DeQAmvx+Ffeh83HV/pOHJ63Gqt0\n",
       "fCVoDT0QWbhmLiz94+yS0SowsytyumGuqNnUITNY2lG9VqGbe1rN0bRXJJricER5MBeCwAGrpyFR\n",
       "AQ45R5icLbvlmAiGheMEzA8DbJQCsxzhsLdgjh6+ifARvZJdRD7q5qZzzYZvEnysSV0DgLvao3Ab\n",
       "wBoyT0+WcsUiPXrGcTP9gTrIO/gx+BnteWEy+bzhD1d962CRUXcj7IoD6e7VvW0QiOMFl0ApHFjM\n",
       "bIqo/zXSuqBZkJUX6cwtS3I1CkVOe9oE3z8IkAZII0ltk8MRZcFsBcGu89ZMMC+PQ94RJmfLbikm\n",
       "omGRPAHz3WQq6KE5+x103BxzBzMlLN18A1IA9V5wubgw4UobyNDj2Rx8AUBJQSizgGYupNNNAOPh\n",
       "NBpxm0hX+zguQhGYFxlQamBUJ4M3RVOTfdg24Czn4EAWvoMlAhxjs7F30TOUhbpYtA2087T7UgIV\n",
       "twhX6KnylMIBYQbRBKeIdhnqY6JmyMvLsTo7jD21CkVOW2BGdK9I9FjBEctlwUyDwMBSQNx68GcK\n",
       "PMrikHcE42yzW4qJaJiWJGAOgAc9/wrNDzhzB8wVn2XzmjyfsMBMCcu0XrnJ/xmXi2n7H78/0MH8\n",
       "V9dEj4UGPALKnCSoDHIotsq5/v7VuNZKx2lXmbVQx2AOXLrFKeDIwMD3BwZO44cJIQGxX4FVoakK\n",
       "u3YBqFdI7nr30wMDbUBEEokABpuNoS+3zu9/M4fqNfUc7cLS3kGMK3h8g3NfQmCGnC4okod0VtQs\n",
       "C1+9HXU/Z9aEtQldb0a0VaS70XQEEWf/Wil+jzCwcDoD42G7WtT5NkdYnG12yzLhDFPOEDCHc8JA\n",
       "lcbC1Ffm5LTUIbjTArOD0K39S26O5pbiX2Wfu3vnw3NPwjeyPJgngIryuS9J0hmbAGhDbOJQnyJd\n",
       "9T29lYBZPXItXuK5rktBOuGyzOwb4vLQBDLYJG2zMSRqf4ZNPi7R7osbFYqr33x0rlRSm+CmCOKz\n",
       "JCNqhoxtRt2O6TGoXah6nkXUFczMEc2ymZkGwelNsHiUTaoT3Djb7JZkwhvGwBzKf40nJwzf2tcF\n",
       "Wp8XshaYHYRubVAKzOF48aQeeWq7AceyoGW5MgMlTe0MhVaQJo9oFpSzLNgoM+NuMAmt2xGYY9sh\n",
       "cr6EK1A23O+8eZXmGGvou2KBmU2d/41cF6N/4iSJuz8FZdAIxD0hA/7ZVBwHlJmoSH2OJSpBMxQD\n",
       "9XyImVCTUOy0ZiuurGZuY2WGJU4KzIyf05sVgFlwBOMsKCLBhDfMR8sM2PgQ6k8jJGQ236tMAx+O\n",
       "nXb/ipgNzIQQdk57x2WbwryonJ1mkPmqi1d6Gswio3G2c716ZwNL6ndj1e5H6ULnJoDqEPjz+4jS\n",
       "6UyWgRl+DLCD1cy4W49c8kziNMTvAlhdCswZ+K6m3yWMqOdxJWaP6VU8GlIwpzMmrgJ5UFn5SrrI\n",
       "rYP3RNu8vpj7ziTHbMdcAcxN6mQXzXB8ImfUoXCNQpnTcETZBNDeNtnFyYGZ8KNg4Z5IVJ9KJ1Xe\n",
       "ESaYeUXKglk0jE0A4be4hKjHGPT68PD/4ctpI0rkJA79zQ5mTKj+UEHZ69tCCUwu4u961pHJwQ+U\n",
       "cSINqm9a2AsCuxKtBvgNJws8BSBsInt0LovjYwP8vS1LoLWEviCDR9nWDCqETujqetpFg9VfHzAW\n",
       "QBxNADfitQLsprx5snwUjEU6wpAVdiVWw0/4mN4G6ucZmPdTdVEFowyB14hOhF1Z2p0A4Qtve/Ne\n",
       "NBcL6lSSJVdkFl/MB8ufC8ZdNMNB9afgQrhSoeRkE0qdhiMKMM9lKLTEcV8rzY+CxdLZ2wY7Ew4c\n",
       "Fpxg8jBv8I5gnAVFyjIRDfNmKZjxdHo7mer+Ooxz1cUE2xHWEuFCPZBkhN64koSvC2u05CIYVCck\n",
       "GU2QEyINmgUrrDcHWkD5kyGyGAdanO3RarstMGMw4eP5hhXtTaTnJ687+Z6+hIqPB2cZcLpvGhpq\n",
       "cTf04KwdH4J/lf7lvuN49O3AmG8zTzYftU/d8pnQbmH1buesHB+68OE+s8ygM5MvXnsKKdJ4CKKr\n",
       "G/AwhbtbGg/NzsE33/AdvvU1U1KHTaSdmaofEILVeBicmpGgBjMwZUalQunJEkqddjFhrlSJ9aQl\n",
       "jl95Kclv+14hff6lP+ZSIXRwjKwbvCPMnM8rUpaJaBheHMFgjhgE6eaQroxHvlvW2dkZ0xKhXNIG\n",
       "ZkxYl/Eg1ut4r9CLdLaGHlP0Nzho4FO2HhocAoaThRd9T/lRZ+eG0O9s0zNuO9vnsnxc9oWcIsuX\n",
       "Qan9LipxjbC/Iv+CFz90byo2jHY75y2OTZ0qhZKIgurwnLWdLT0BNNOii87SZQbvCJ5zZUxshu0C\n",
       "631m9TJBTz0yz5NqCYGfZma4J2YDMxmA9ODbhghUcrEbk9YbGMiYjQPMeGrYj6sWdRA2dYlgJiwC\n",
       "zxwFII/FnTGa6XHjXjSqEcxdnMzniq0cGgKY7wtdqBpXHLPCBLmrpGY1g5kTSiJa8kWjZlddi/Fj\n",
       "YBF0boZiprneGHQVWRkTm2E9NjBr+WzoSUDD/zYjGFvmgTBWN9IEkawA5jq99SsEqNsM9AV2Ihdf\n",
       "jqNewHgLnaNNEMc0FgU6nQJv6L4kvjZRuZDDYBZYPAB1x/YAvE42K1+3nI+LwqCZRDQXMHdUubf4\n",
       "algqySGdrwQFHAXaqhOpjJOj2+u6fVSlUBJRt1dAN5YUV2JhNSurcqWO2FulYewVUPZ8rNIVVAdM\n",
       "h5ZMVPdPBcD5u/kUy5M2MPvau+cTMLdklInQouNThlz0J/C1VVl0DjX2keyNWFIKzHzzrTPwIgnq\n",
       "3TtzCgGzg8VivCUXxDWKeuS9hwuJIGW9nB+6/aIjwdx7bWV1QX7+DQkiIrF9vrDR+b2L1f0k0pOS\n",
       "Itv8eLvL7mq1QmlEXV5FeKGUuBJpf5UuqXKljqiQiWVYUAf+Z1MaKYbYopkH1cz27/EJcR0UCAu9\n",
       "XT6zlynQaHbmQF8hZddwmSGyaIjuRufpnRt4na+jn00VLdNHvEVG18+mhs8RxLBjIIB5n/9Lk1x/\n",
       "KuYA89JzGRsh6/lnsB49Yxr60yzKnD5KhtlTPjvXyeKOyGtwXbeHfm7AWBspR9jBnPMf0CECEmAm\n",
       "D0TRno1Fju/94lfcNTcW13dbtXIMxyPnCOlfZ68djv+bcfyOsTCOtRFqvrUd/wNnQpJxlA/aWAAA\n",
       "AABJRU5ErkJggg==\n",
       "\" style=\"display:inline;vertical-align:middle;\" /></a><br>(see <a class=\"ProveItLink\" href=\"../../../__pv_it/theorems/65dc1184376dbd55989ca31d61ffc6179ced7a920/dependencies.ipynb\">dependencies</a>)<br>"
      ],
      "text/plain": [
       "add_cancel_general_rev: forall_{i, j, k in Natural} [forall_{a_{1}, ..a_{_a}.., a_{i}, b, c_{1}, ..c_{_a}.., c_{j}, d_{1}, ..d_{_a}.., d_{k} in Complex} ((a_{1} i repeats ..a_{_a}.. + a_{i} - b + c_{1} j repeats ..c_{_a}.. + c_{j} + b + d_{1} k repeats ..d_{_a}.. + d_{k}) = (a_{1} + ..a_{_a}.. + a_{i} + c_{1} + ..c_{_a}.. + c_{j} + d_{1} + ..d_{_a}.. + d_{k}))]"
      ]
     },
     "execution_count": 2,
     "metadata": {},
     "output_type": "execute_result"
    }
   ],
   "source": [
    "%proving add_cancel_general_rev"
   ]
  },
  {
   "cell_type": "code",
   "execution_count": null,
   "metadata": {},
   "outputs": [],
   "source": []
  }
 ],
 "metadata": {
  "kernelspec": {
   "display_name": "Python 3",
   "language": "python",
   "name": "python3"
  }
 },
 "nbformat": 4,
 "nbformat_minor": 0
}