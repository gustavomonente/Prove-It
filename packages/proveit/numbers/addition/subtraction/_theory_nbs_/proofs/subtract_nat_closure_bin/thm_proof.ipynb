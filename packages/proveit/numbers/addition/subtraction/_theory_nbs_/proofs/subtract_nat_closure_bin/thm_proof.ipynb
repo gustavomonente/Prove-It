{
 "cells": [
  {
   "cell_type": "markdown",
   "metadata": {},
   "source": [
    "Proof of <a class=\"ProveItLink\" href=\"../../../../../../_theory_nbs_/theory.ipynb\">proveit</a>.<a class=\"ProveItLink\" href=\"../../../../../_theory_nbs_/theory.ipynb\">numbers</a>.<a class=\"ProveItLink\" href=\"../../../../_theory_nbs_/theory.ipynb\">addition</a>.<a class=\"ProveItLink\" href=\"../../theory.ipynb\">subtraction</a>.<a class=\"ProveItLink\" href=\"../../theorems.ipynb#subtract_nat_closure_bin\">subtract_nat_closure_bin</a> theorem\n",
    "========"
   ]
  },
  {
   "cell_type": "code",
   "execution_count": 1,
   "metadata": {},
   "outputs": [],
   "source": [
    "import proveit\n",
    "theory = proveit.Theory() # the theorem's theory"
   ]
  },
  {
   "cell_type": "code",
   "execution_count": 2,
   "metadata": {},
   "outputs": [
    {
     "data": {
      "text/html": [
       "Under these <a href=\"presumptions.txt\">presumptions</a>, we begin our proof of<br><strong id=\"subtract_nat_closure_bin\">subtract_nat_closure_bin:</strong> <a class=\"ProveItLink\" href=\"../../../__pv_it/theorems/1c7e3b64e9d5cc9d96ef8779872c958f6da80dae0/expr.ipynb\"><img src=\"data:image/png;base64,iVBORw0KGgoAAAANSUhEUgAAAOYAAAAWBAMAAAAm1v2RAAAAMFBMVEX///8QEBCIiIhmZma6urrM\n",
       "zMxUVFQiIiJERETc3Nzu7u6qqqp2dnaYmJgyMjIAAAAcRTyBAAAAAXRSTlMAQObYZgAAA0hJREFU\n",
       "SMe9Vk1oE0EU/pLNJs1uNvFQxB/EpdUKClJa8KBVI6L1oDa9NIqHhGIPFim91EIrWEUwUQp70ea4\n",
       "UqiSQxLqQSqCpT1YqsJSEKpiiaKCFauIB9uDOD+b7m7SWFjQBy/79iUz35tvvjcTwL0FDe5r2kSV\n",
       "vKwBRRq8dYV53/Ryk672An6tLPkttYjQ9lpcAJ7RxKIrzM+mV1i4kWAUy5I1RgeQB3JAhpI05AZS\n",
       "aeReaZEC+ZgqS/r7vCo8QEhFWCePghvMgMa90trInLhrvsz397Ml+0/oXQgQAjZAmc1mR1xRO2J6\n",
       "pT1lBEdZfGZ3aZ23kzmdYOID8CuVuuwKs970YEvTFuc3n+oOEPIY7dKqVPzauJikmNNAF5Au5X1L\n",
       "5RP72Ofp4hqYw6Yf0cLfnRL9rec1KJxRzcIMReco5gJw1C6xafMZb4l6NzK1sVdeM2SH1ga5S9sg\n",
       "ODUoryCiQu61xpvo3f44CR4SGcBr9fUXWubjZkMemsV+a0yYiUx+75i6lruwgoBKwtwStY8kEorI\n",
       "T0Jki2+nydKKx/COBAmyBiNgzbNMhTaRhTwnYNLCjFCGlK9YC9MzhHysvD3bCiZmxr5OcbKdYwaL\n",
       "pFcx2kArFH806D7Ko3zurGrDTNR1w8sgpaaemJNbsqQnZe1p4LAOH+PWY8fEGzpdK/H0eTJVn7hC\n",
       "Qu+AtzHMaIzNvrRh7tLrfYMsuhdL6E4N5QvokR1tGomSPTY1JKirmKTWUIZrCA9IQUKjSMuqUZXi\n",
       "KMcMcd1wzGtYkGZYvzUjbtfbNBtzKeQ8cYwaMlaYXGXD0sQh4i20LFKKp+BNUiaiQjKeSqVUORY0\n",
       "bLqrxT5IM3TQVjSUJmnlLnXuvLPD2StNLygG34Ox65wX8comsMMWdBMVksxrNa/JI6J7Cn6+ThxT\n",
       "LcwVggXsLUBaxnB23bOP74L5PHmj39HdUq8ZeLTEKWT0gD6PEK1PiUKx7eeAwjpwwcBm8aex7hnP\n",
       "bKpKPlTaYV/n+EG0F8SLBOgW5YwcikkLs+M5/9kjHN9Tv9rNadiOsIpLtFjli5zzlV8vXrKf1q3n\n",
       "4s7mA6uxnq7421Ax1O1/k1fVbl0niIK/YMpEzqmb+B8m/IM5/wAaqNihd8qb0gAAAABJRU5ErkJg\n",
       "gg==\n",
       "\" style=\"display:inline;vertical-align:middle;\" /></a><br>(see <a class=\"ProveItLink\" href=\"../../../__pv_it/theorems/fd984b82cd86111ee022469a604ecc6084358e480/dependencies.ipynb\">dependencies</a>)<br>"
      ],
      "text/plain": [
       "subtract_nat_closure_bin: forall_{a, b in Natural | b <= a} ((a - b) in Natural)"
      ]
     },
     "execution_count": 2,
     "metadata": {},
     "output_type": "execute_result"
    }
   ],
   "source": [
    "%proving subtract_nat_closure_bin"
   ]
  },
  {
   "cell_type": "code",
   "execution_count": null,
   "metadata": {},
   "outputs": [],
   "source": []
  }
 ],
 "metadata": {
  "kernelspec": {
   "display_name": "Python 3",
   "language": "python",
   "name": "python3"
  }
 },
 "nbformat": 4,
 "nbformat_minor": 0
}