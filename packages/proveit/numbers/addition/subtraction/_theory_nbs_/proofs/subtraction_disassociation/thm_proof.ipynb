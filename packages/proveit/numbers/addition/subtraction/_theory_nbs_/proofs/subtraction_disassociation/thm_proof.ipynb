{
 "cells": [
  {
   "cell_type": "markdown",
   "metadata": {},
   "source": [
    "Proof of <a class=\"ProveItLink\" href=\"../../../../../../_theory_nbs_/theory.ipynb\">proveit</a>.<a class=\"ProveItLink\" href=\"../../../../../_theory_nbs_/theory.ipynb\">numbers</a>.<a class=\"ProveItLink\" href=\"../../../../_theory_nbs_/theory.ipynb\">addition</a>.<a class=\"ProveItLink\" href=\"../../theory.ipynb\">subtraction</a>.<a class=\"ProveItLink\" href=\"../../theorems.ipynb#subtraction_disassociation\">subtraction_disassociation</a> theorem\n",
    "========"
   ]
  },
  {
   "cell_type": "code",
   "execution_count": 1,
   "metadata": {},
   "outputs": [],
   "source": [
    "import proveit\n",
    "theory = proveit.Theory() # the theorem's theory"
   ]
  },
  {
   "cell_type": "code",
   "execution_count": 2,
   "metadata": {},
   "outputs": [
    {
     "data": {
      "text/html": [
       "Under these <a href=\"presumptions.txt\">presumptions</a>, we begin our proof of<br><strong id=\"subtraction_disassociation\">subtraction_disassociation:</strong> <a class=\"ProveItLink\" href=\"../../../__pv_it/theorems/73ee043a950c88f48e919e3dc7f3fd3b6b1602010/expr.ipynb\"><img src=\"data:image/png;base64,iVBORw0KGgoAAAANSUhEUgAAA7QAAAAyBAMAAACe6IrFAAAAMFBMVEX///8QEBCIiIhmZma6urrM\n",
       "zMxUVFQiIiJERETc3Nzu7u6qqqp2dnaYmJgyMjIAAAAcRTyBAAAAAXRSTlMAQObYZgAADfhJREFU\n",
       "eNrtXAtsHMUZ/n13e4+9h9MUAgkPHXZJAwRyJCpQ8rpQBbdVic9U5VVVPhlomxLDUdpUQFSuQQKn\n",
       "QHtVKh6hhSVRSXAptwSqKIjW16QKIhBySlRa0gSOkoaCwJi8GttQd167O/v07l5wfJJHijM3szvf\n",
       "zHw7//zz73cH4C41jYxU4ESkRBYmkvsk5un/O0c+dntL0+ZHpBPS11cn6PKUltD/nnrkWdfU5k5M\n",
       "TwP5CbY8pWSNZTrGO7XGZ++3Y4LqGyVeGptp2WxfdX+DUCueZPhc5D+Fi58RahE2nOLphp8VWG6p\n",
       "7TXeWhwlhe0foSeyjUFtNKP/nNINKVx1vDnkFxWjvOPtDqWfz9hfM1qLXror1uwNx6TGoLbP4Lvt\n",
       "9nLzOvuqjY43YpRh3XSlR2mnWVYc+rQtwrD/7prxt9hfvKIxqL3N8Pl2Lzfv9kstQgkNeaK2XXkE\n",
       "xUl2CPoWvXXXjP+Ew3IoNQK1yUH951jBi0tzyCe1GCVR8ETtS2rJfjuERMF/d834KfvjfiTTCNRG\n",
       "DH5SAPd69daz6BpZO5ushrfPe60Um7+ttOT03dvQ5ouzsHFmGnb/d44snLer5kRJbN7saeYDF0JJ\n",
       "dbXKHqg90DKX5bYaahItZyvbcXw3Xk9LJr/4HqzeuzT09o553S67q+JvaWE8JDL262GoEajtNDyb\n",
       "UURdaCp8BCAg0iuLaNfmlqttUmgafC4rIgOOs/Hb4SJizTcAFJwoWVRKDQC0mlHK74uDBMQVteL/\n",
       "pDKi7d8o+6a+JnYn/IK2U5bPaSdu3+df+DR0ByySmk6C9Rl33VXwH5KjtcBk7fj6Wj9OBv9MPNgI\n",
       "1F5oXMVoJT1RhUtAmFOAmLyALgc0G6cDTIYDaJ/Jkmz8ZLz7oblaJEHaiZIzIIim/VozCvLfDmIQ\n",
       "d9TGh6AZXYLX+SZ9TaQCN9F2+tZKfyBF76LZrEBTOpWH+GF33VXwV0BYhh+REgfz3t8I1E4x9gKt\n",
       "4oUS/BCt3QKIQB9PNEXCoX37uvHpopyhWWHmwhKeq8ixc8ytomf91v5+9CBAcAgibNZEsgD6cwxl\n",
       "AYifYBBs+/r73z2zvz/v1E4NyhVmaPQ1C/HeQdq5UDGhqLhz/r7Xq+jAJB5y0V0NP4hNrUjsrTBg\n",
       "P2uzSuOfWuFTC2pPBfEIna34kHKmjA+zg2NzkWTF/5Q6yVyJr41kHFZbUxHK5oFhlHcgNMyodbFq\n",
       "URfaZY5areZUUKhdPiOtnm/7ZHYWPuauuwy/qag05kjt49XxT21g0GyQ0WKKD9ABRulCSlVAOMjm\n",
       "DK1anI0WoHMNmqv0GkgedqAELbU+gMvyZoP8KV4irqltrqLlKRLHq01Xg3rL2BAPx1hPPkD8pym1\n",
       "aNW66i7DJ5YhkbkyrxBM99oDRq7y45/a6CQwOTjiMIRrm8nQynKFUQs/Rf4y22txthlR9uvcAchc\n",
       "BtDtRK0MN8dLlSGzG3UY7+nuqc3iXTtUM7tRyO7ESTvJAXE4oVAbqYHI9lpX3WX46AkCOfXPrw9x\n",
       "bwGspq0w/qltKhq3HWSuVsLf8xUyW+2xqnKO65ThUni7JK6gWXTjzu9ICyCD/JJV2IHFNNaUP9rE\n",
       "R9PJ5YnY7wtmlG64G8zU4tu1xrR2wtVoBp5K4NUyT0/tRSB+ibQTLsKRhBKGEYYhKKWmwvqKVXfN\n",
       "MAw/mId1ueYbSbZiP22JAUotuXmfG2pTxOmujiG1ZePGg+foyZZru7J0tki3Q788hsz09TMlOLBr\n",
       "OtolcTZ2/cy1H0J4Wekbu/bi89Ny/ATklT+ch9x19oNfQASbUdbNrFpQS25fbtHO7B1stZMDEFeT\n",
       "2LGL7R4ytJ6LS746ch8axOztkOpuucG6uyYYBf/VfWnomEE2aoelljxCqX0F//e+G2oTpElpLI+1\n",
       "abALNIYsnH8PEX1drKj8OxsU1waZmWXkmYoFi5qQ5UkllXEfWOPwZwiTEM56J+/zIKX2YXyuLrqh\n",
       "llz18Fga5D7ZNs4ar4/aXv7DnxM2KCqIKLlpB+9u6usBviZeL7U8/kqhkHZ8PYCcM9obvAwTsqu9\n",
       "Fq/tV8aS2rdMVifKXurFLj5qXkjLfcI8+bI1iiWIQ5oB1i/1bNqJ5H319j3oyjm91EPpKKU2ub23\n",
       "9yF3btTe3t6nCmNJ7SzTC2fRwb5cPrL0OOGKRV+3rUT/Vrm+OnTLUf+SjKjjrceYDTnW07PCHbXN\n",
       "PT33VsaS2p1mOzh+BTThr01DHswYCWjecKw9k1F7I3nUAtTwY//urLQNteHcKE8LTktq7srcpIVj\n",
       "6bPVm8LbSuOlK6cwar9CDLdA+4U33UiWXXH1vGxgCkdtKOOkD+EOhW7KbJ3B+7/XpeRvgYnkJ93K\n",
       "qI1AQH9WLeO1Ir44pxovbodL+ZBFAc4ftdmU7K7MaotDmOI1kvDBBLXHh9pENaKvIFHQf2zuhfiu\n",
       "IFR4anfA6F5Uc8ldmUXCmMnfALzYkAZ5HKWfMGpjtauQrZ1Olg0JcG8VpmPbi2zjt69N66h9TMjj\n",
       "yMvN5kjIuulKFKaz5Qfm0INWtqXF3BNWRjAX/xH1SHWjShM0+UmKGwWrbkBLtxkvEBrg/vD5skSC\n",
       "ivHc9r/pqI0+iLbh9blOCcL69ST+WBgCGrP8otRqrCVlVKEbyXaYanEZfqlOMPfwvt8s/hmKVSc4\n",
       "s/dQdItgikLtc8jKriHiABrgPppjwsl4LqE6QITa+MXozxy4GoS/6OkJZgTUiEQPd28aa3EZy10C\n",
       "gqkWlcFzwDBf4HXxb2W5Dxt0N33/M5khTSoO8Gy9u8EomvLjKjnXS9sPKdRi6Qc5btMAtzD5PuQc\n",
       "9/T0pOO5WLXAU0tkDacBMt4R/bibZPW7OSfBRcZaUkbTaWC6l5Rh0RjBfPRbXE1fVheF4VO380iz\n",
       "PmeIC/69XjfCO3VVexsEf3ShL4kxtUkJqzJyir8TKHbEIExXLSxO66jdg64chAd6jfSUS9E90kZy\n",
       "7RCiykgeLttHTPugBbW47PYrMhQzuBZBqHs0Z4OTGS+rz/5i20g/dfjk+hHUpNOUe5ecexpEgitR\n",
       "Xg+wa2uV2M/J2wIpmr46AAnMZDILSd1eS9JU4XAV0/OwhO5gf5pKnVfA8xlAH+5IFnGtVkfLYtcV\n",
       "cNl+CJpqcdkZa6oUMzYvp4W+m7nBRby4VEm/1LZL9SMoSa8p9y459zQIkVMtUDmRQq24rCSchgPc\n",
       "HXKqFD4b4D58CtoPkDdRe/l5rYTaDlmYCh0l/EcOdW2cj4NVqI2rXiXrEuVoXYmVIf8X5Vaff66p\n",
       "FpWF/oWHgTHh6f57VKgIF8V6yItd7fNL7UvHAUFdSAVHakeTnHscxH6u5UGeWnI92XGZRQqgfU+3\n",
       "m+oPPNioaraL5taHSBusNs63C/Ttkm1tIP2+bMaEIKftagVOEC62kgsNam2chXjLFkguvG0uXPmn\n",
       "CxxnRVWq80mViostRbK0DPp1Nwjqvq1TqW/Ujno5tq1TybkfCHUQqoBdlbbjkOeAkdrNOMBt9wVR\n",
       "PbXCrLnclSwXPpd97xPXct8ApTn88tC2Nljaa+UzJDmb9QAogvBr0IhC1P7o1doku6kUzGNNjYj2\n",
       "BadZoUr1gH5lUKn4NbhHcAYdt06/7gpBdUCwSl2VQyjUYpU4QVAl5z4glEEQAftZ5MObHFdFI7VV\n",
       "HOBOghtqybxb5KBql3vkMadamyRwnsadiiD8m+gE9miQmmq9Wptkn82hTQzNCpqqgNOsEKW6EjpX\n",
       "K7FUHAPAG8zL0evXXSGoBlXCJ4q4YdVilThBUCXnPiBUQU8FbmIx/01a7eNpI7WOqV7Z294v+7lr\n",
       "Cn+AUgThbegE3UzHplNr0yxcuXWQKOHuWmk2QJxanCrV6cGBSD5xOI1KxXGkVWJejl6/PjoCp1Rf\n",
       "wE4hYBC1s1iuKjn3CqEfBIv5q/pnaAyJOSzUUcsE4W2gfu9Wp9am2WdWCXRWnv7okNMDT5Xq5mNt\n",
       "u0yD6MzL0evXXSFo59bQsGmvpcYSI6iScx8Q2iCUmD9P7b3QANS2Z3mDTAXhZCj30EKdWptm7wVh\n",
       "UIpkAjFJH8wyzApVqtPQOXesxVJxOlcseKHXr7tCUBJRqa+dq6eWfn+kjZec+4DQBsFi/pq0nQWW\n",
       "xv+XMDO8G0UF4WReLNXaJIsoG1ycygdDaevfQ1BmhSjVaeicoxZLxekslWVl3jn9uisEJRGVemaJ\n",
       "nlqiEscImuTcB4SyaomAHcf8eTcq0BBfwuRc5K1MEE5mPjRAJS56tTbJngqJI3uCtSDyQLAkRFVr\n",
       "kz/crBCl+ppNejwiFafUMpOv169bIahacAVBi4XeDWJpm57aIFaJYwRNcu4DQhkEEbAfJdTM06jK\n",
       "NwK12HNkqU0RhJOZ7ybPskGtTbIPzt5+QRW++3Jox/l/BU6tregdlVmhSvWVBieISMUJtRfTI5JB\n",
       "v26BoGnBDYpKolInhzbeQ8YqcYygSs79QCiDwAJ2EvPXpO2N8oMH3M+UaIHGNseo/mhJF8hhoXND\n",
       "amMGwVsw3yYNWkWj2vy9L7AcBIn5a9J2tZnxTq3GmRZR3VQXtTq1eLxWsbgEAVwXO3J8qBWU2G6v\n",
       "AaEuavlBkJg/93ogPq0xqI2drGYVhe/qu7rM7lbeX/PiMovgGwKIfWL8wSq/+vVAESwRrK71B0Fj\n",
       "/tpLvUb5STDu+d5gf1Fdam3L1DXfUOBXvx5Nu760Lom8Jm2/HhqE2qC6HhtSQHPDr6SxOUqoj3ay\n",
       "6JnaE/WjuV3QyGnZ0rFG9PGjuSfqp66DWZhIHrwHph3dOfLx/wGgMEHCEuhokgAAAABJRU5ErkJg\n",
       "gg==\n",
       "\" style=\"display:inline;vertical-align:middle;\" /></a><br>(see <a class=\"ProveItLink\" href=\"../../../__pv_it/theorems/588ee9a91b0634783289a475e0e4624a91935cf00/dependencies.ipynb\">dependencies</a>)<br>"
      ],
      "text/plain": [
       "subtraction_disassociation: forall_{i, j, k in Natural} [forall_{a_{1}, ..a_{_a}.., a_{i}, b_{1}, ..b_{_a}.., b_{j}, c_{1}, ..c_{_a}.., c_{k} in Complex} ((a_{1} i repeats ..a_{_a}.. + a_{i} - (b_{1} + ..b_{_a}.. + b_{j}) + c_{1} k repeats ..c_{_a}.. + c_{k}) =  \\\\ (a_{1} i repeats ..a_{_a}.. + a_{i} - b_{1} j repeats ..b_{a}.. - b_{j} + c_{1} k repeats ..c_{_a}.. + c_{k}))]"
      ]
     },
     "execution_count": 2,
     "metadata": {},
     "output_type": "execute_result"
    }
   ],
   "source": [
    "%proving subtraction_disassociation"
   ]
  },
  {
   "cell_type": "code",
   "execution_count": null,
   "metadata": {},
   "outputs": [],
   "source": []
  }
 ],
 "metadata": {
  "kernelspec": {
   "display_name": "Python 3",
   "language": "python",
   "name": "python3"
  }
 },
 "nbformat": 4,
 "nbformat_minor": 0
}