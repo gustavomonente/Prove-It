{
 "cells": [
  {
   "cell_type": "markdown",
   "metadata": {},
   "source": [
    "Proof of <a class=\"ProveItLink\" href=\"../../../../../../_theory_nbs_/theory.ipynb\">proveit</a>.<a class=\"ProveItLink\" href=\"../../../../../_theory_nbs_/theory.ipynb\">numbers</a>.<a class=\"ProveItLink\" href=\"../../../../_theory_nbs_/theory.ipynb\">addition</a>.<a class=\"ProveItLink\" href=\"../../theory.ipynb\">subtraction</a>.<a class=\"ProveItLink\" href=\"../../theorems.ipynb#subtraction_disassociation\">subtraction_disassociation</a> theorem\n",
    "========"
   ]
  },
  {
   "cell_type": "code",
   "execution_count": 1,
   "metadata": {},
   "outputs": [],
   "source": [
    "import proveit\n",
    "theory = proveit.Theory() # the theorem's theory"
   ]
  },
  {
   "cell_type": "code",
   "execution_count": 2,
   "metadata": {},
   "outputs": [
    {
     "data": {
      "text/html": [
       "Under these <a href=\"presumptions.txt\">presumptions</a>, we begin our proof of<br><strong id=\"subtraction_disassociation\">subtraction_disassociation:</strong> <a class=\"ProveItLink\" href=\"../../../__pv_it/theorems/b348bb5b57c803fa692f6d841a6c26f25ad774240/expr.ipynb\"><img src=\"data:image/png;base64,iVBORw0KGgoAAAANSUhEUgAAA8kAAAAyBAMAAACdX4TtAAAAMFBMVEX///8QEBCIiIhmZma6urrM\n",
       "zMxUVFQiIiJERETc3Nzu7u6qqqp2dnaYmJgyMjIAAAAcRTyBAAAAAXRSTlMAQObYZgAAC7ZJREFU\n",
       "eNrtXA2MFFcd/+/H7MfMfiDShq+a7Z0g8lHWI9JWoCwaSmzasoextBpzm6tVq7SuoiRtiV3PRA5r\n",
       "dRIaCtSUARKgl4YdaA3BtGEFA5HysYGoFbmylXLaxl4JtJW7k57vvZnZnZk3M/t2727uNrmXsPfm\n",
       "vTfv9/b99v3ff/7vxwCwJc/gYAFGI0VSMJ7qSrvVCRwcnMB6i+fQVmlUxnpynK46k79E/vBbX2Bn\n",
       "OT06Q/VmxumqN72l/uXGPMv7jZfhohug9aMccmlamHBChQZhmZ9kvN5ruArkRgZ1L/A/z9Y0TK15\n",
       "QKzaZFiSPY7F5I15lkNJ4/W7xu/qvObq9tsQSixZ0x1ac75UtYn9PlrLz6pUgyEc8ywfNrp80Vrm\n",
       "nrdvLCScbsQocVlfcsCuqVZRbn7EFsHYo0XaZV9F4x9hmYFgoTFYXmsatljDvdF6WcYoK6WaWC43\n",
       "32GLsLLaM8q5WljewTIDQl9DsBztM14/X5MdqJdljHIcamK53DyWskM4Xo2Sa7WwHEuxL5KxznLQ\n",
       "5F41Ywd4cctU5WpnC9nO3p5zWgwvOSbeP/3cMbRRb7rwKAhNRyC6dO0iWPX6bY4sbzp6K73EMEpP\n",
       "06JaWC43jyRNCJGmGUrmErx+p8VwcRYOzE3Auf8ukLk5Z0uOLB9pShtxnNNFqRFYbjP9Yp9F/5aJ\n",
       "sSsAD6JcYZkytEX54grJPxU+leLXgv9JWCYdFH0ZCCaBz0HQiWX/FPgAPZMnKRT+EykvEhAmlpXm\n",
       "cBlZn5IRIfwU/AY49GPlB7zP3aCHCzgrPAELycJDjxBZJ5afl0Ml70Ri5QjO6V6cLtnOXz7RCCx/\n",
       "wXT9FJqtW8CXg6/djiZQvksxXmhipgNMhB5kpVOeAngS+9P+fswymkuvE8s7inAHmgWRQhH6IZ7A\n",
       "IGwsk+YAyL8SskYE5AD9gFuQxU1m80V6uCQr3IR3bcTyMgkSTiyvh4AMPyH9Mz2XxUqNwPLNpmv0\n",
       "AOhD9KGZWIH4hqvKV8kAd627+zFkEyGfbFvS/dcirDrah1mGpztofy3S2/uvz/T24qDaUgl+rHnk\n",
       "ZFn0plWUEuQLGERZMD/q7e2hR1epUJqTGb1CISCTgSjxfVqbecNwlSw3d6mIWQ5e/7wjTD8eaH8Z\n",
       "p2ry9jUAy9wNmmVPDvJpwjJeQeqDqDCg7HwQzx3GDyz7NnIKyy9/cM1pLU8G/iO6dhLpc6Wsssyw\n",
       "lpXm+tmvIKgsB9s7wGK4JMv/W2wjLPOnB5MOMJ6c2hkry+EbDcCyt4+22GjNHAaF5VBGmbYCcFfV\n",
       "aUNrGU/vBuD6pGDSG5bgYsqeZf5/IFwB/0waJV7Eq5CZZdKcb5Y1DvQIKjH51PaUxXBJNpSFtm2I\n",
       "5cQ2iH7oAEPsRSS5KqPhKPtyTxVjOMZZDpmHh/yivAyPCyIhIC8X1GmDnyGPW9nogiXgE4i9vuWx\n",
       "jM+fsI6PaRwMQKB0KBKXKJR4Cu3/NbCMm/vwIZDZ+0KLSSCUXLQeLsnG0S/3uXQPJL8M8Jjzjwnk\n",
       "2D/u6a/gVEkbGoBlj+lBCo4i5hPRdRGFgJXKqQK2zG0yfAneFvn1wA2AT5oMkY/O+0o+5H2F0Mac\n",
       "x1OCP/hPjBx0wN8yhW0HaZRAEcdWV1CutKkfrYI0fymC1pivYERYCPwXCcvfg3i6QA+XZNH3PPMt\n",
       "6S5IIu9row5G+ajAoAeHXen4IyRbYJrBMyrLpJ9uFpZjxIMvushy3rxJYZ+rfcbmzyoEBMiw/b+9\n",
       "LgP/8FwJes7OREZxd8sJ2Nxy4rYifOfP/lPz/oQnNqN9rDNysLvpofYUdFigtJwCi7W8ztRPmX7S\n",
       "PITmJpY2IkROnVXM6zPgbZEshouz4Yfn7nwfAmvEe89eSOlhghkj/snuBLTOwh5AjG3VXUwrLL+B\n",
       "L95jYTlCepdcZLktAXYRzhUWzS8xd2yITPH9aRsUZoutGlR03x4rBL/lYw/7cA0ws7gJOhyWGUQs\n",
       "b8GuWI6FZdJqi5sW+7BsG5o+OKRp4/W/VaFUsEEpg3TZdWSoaIXKKYIRYags62E6uGyC8bRCtYaI\n",
       "Zbw4IzILy2TFv+Emyxcps7RRi0w+3U43X1cfCr9GtEaxBHFIs2xOBMO3f2wV66hzuO9Ce5rx5BGZ\n",
       "l4zCcvREVxfDIQBm+UJX10tZN1meT4U09jq0vnvw0WHC3VvfbWh/D7Efmg1puKw48ZzqY1/v7FzP\n",
       "xnK8s3NDwU2Wz1BOwBhWBAW+OhXg7y7NDCuOp6Sy/AixUGrE/jL6d2vChuVAmuE3dH+JrYwlLXXT\n",
       "1RtqChwTx96gPFmV5a8QI69G7PEGHdSiRasXp7w361j2J2Ff1X6tjsQiNUg8hF9/t7wb/hDG09BS\n",
       "cILKchC8RgOVxyuIf21BUcidQA/vuqhIFuZV7Tcms5VZuUEIk39Q4v4zzvKwsxwpBqmgAMCbh7pA\n",
       "OOuDgp7lU1Dd+YqLbGUWCWNGfwfwWkNa7LHJsmaxw6UHQI3Yk3g7HOVmYuOMjOc3H0oYWH6Ry+A4\n",
       "z+N03GXXzMvac3jT9+ln80rZkSZ6KGoZwVz+ezSisvcljvM0xH1Z875g47fRgiYRexJvh/dfzUsk\n",
       "mimkT/zFwHJoM9qy96TbJAgYVxn/U64flGDp56Rmcy0pA/LcEEy1UrW4DOsBCOZ5vfc4Pz06Pnaj\n",
       "JlqL78loLL+CVrUSsSfxdvg4rapGhXSk7DcRlgUsnlgAq4H7o5EpX5JDnUjKQ+Nb5lpcpubuAI6q\n",
       "RWXwCqiYf9CPlD41dEN1r9fHC1OHsbPaq2t18ynbF09qLGMtixqxx/F2buIzyL3u7OxMCOlwMatn\n",
       "mYgzpgGy7kEjUx65/P+ZJsFCcy0pU9I0oO4lZVgbRzBf+Lqu5nCKDvwYvtXIqO51+vhoxrGlv6bO\n",
       "6qgeqhafnEgTlqNSOWKP3SRvrjUMAWUtw/KEgeXzqGUfPNtlZiovhs5LB0jbfsSamUdc1k1sf58F\n",
       "y7jsifuSCqZvJ5b6aPu5mUV3VPdxmRViF0P0SXbEHWEtvnZaocKXCuFf4Xj7FimUWO2FCCY1moKo\n",
       "YV8maQr3YREztUVCd6gfHrHtPng1CejiyWgO11bqlLLwN7K47B3wUbW47JZtRQUzvDhdGWvczJM7\n",
       "qvuq+vhyOle9iaEz17X45LynzDK/RuSm4Xh7qxwTAzPwcSh6pHoHIEOxfPecZsJyq8xNgVYRf8j+\n",
       "9gNLcGgM9fHASbJaUU6pE9Uy5EGj3KZ5s6laVOb/J2YEY8LLvb8sQwXNFsgd1f1xVgQnobxlZ65r\n",
       "8clTikErIpDdWbUgXrRHGnZeo7uLrW7F1ii5PX7Sh1or6PsF5dzLttabeE+mMcFnlrC5o7qvKO53\n",
       "zrJCYBLK053BKGjxSVzJwPIhHG8XbGyikWVu/iJdSzUXmK368rhW59UrOXzCaVvrEy9YuUrRflOB\n",
       "K6p7neI+6SnSCGxCeUNncNmIO7JafF2aTLFcxPH2KLCwTHq0yEHRLrf1Radam8QNmApcUd1XFPdR\n",
       "UXGO6hHK6zsr2z23tfjhqxTLzkGUIar7LtxZz12jorqvKO551TmqWSi/j/SFF3BFjz8aWvyGUN3D\n",
       "UprlkVfd6xX3xy0Q2ITyhs5oXHBFix/KNgLLK1OUxR551b1ecX/JAoFNKK/vTDkfALe0+Dr0RCOw\n",
       "HKT/N+LIq+51int+AGgENqG8vjOf+lIm17X486VGYNnsZLuiutcp7tU9oQahfFmPr+9MOR+AYdLi\n",
       "myX/PnstvuLXjPk3Tkw3Xrqiutcp7n1ZKwRHofw6q85CRSPu0LT4Jsm/vRa/Qd44YX57jDuq+wqA\n",
       "ece4VOfX0GQULmvx1aOQMc+y6cjGHdW9BsBJ29PDw3KrJe6Ia/H3S43Bcvgm47U7qnsVYHvhF8OD\n",
       "ALOsvtqIa/Eb5q1u5jXrjupe85yai8OE0MHccji1+IFko7DsyxgXQCMqgoge341k0uK/CTWzPFpv\n",
       "Tm6Hhk+jpMev583Jo/UWdF8KxlNdabeyLPFb0P8PrBs3GGpIJn8AAAAASUVORK5CYII=\n",
       "\" style=\"display:inline;vertical-align:middle;\" /></a><br>(see <a class=\"ProveItLink\" href=\"../../../__pv_it/theorems/c401178ec81c519e76c2f3acdc6c2452d6c196ee0/dependencies.ipynb\">dependencies</a>)<br>"
      ],
      "text/plain": [
       "subtraction_disassociation: forall_{i, j, k in Natural} [forall_{a_{1}, ..a_{_a}.., a_{i}, b_{1}, ..b_{_a}.., b_{j}, c_{1}, ..c_{_a}.., c_{k} in Complex} ((a_{1} i repeats ..a_{_a}.. + a_{i} - (b_{1} + ..b_{_a}.. + b_{j}) + c_{1} k repeats ..c_{_a}.. + c_{k}) =  \\\\ (a_{1} i repeats ..a_{_a}.. + a_{i} - b_{1} j repeats ..b_{a}.. - b_{j} + c_{1} k repeats ..c_{_a}.. + c_{k}))]"
      ]
     },
     "execution_count": 2,
     "metadata": {},
     "output_type": "execute_result"
    }
   ],
   "source": [
    "%proving subtraction_disassociation"
   ]
  },
  {
   "cell_type": "code",
   "execution_count": null,
   "metadata": {},
   "outputs": [],
   "source": []
  }
 ],
 "metadata": {
  "kernelspec": {
   "display_name": "Python 3",
   "language": "python",
   "name": "python3"
  }
 },
 "nbformat": 4,
 "nbformat_minor": 0
}