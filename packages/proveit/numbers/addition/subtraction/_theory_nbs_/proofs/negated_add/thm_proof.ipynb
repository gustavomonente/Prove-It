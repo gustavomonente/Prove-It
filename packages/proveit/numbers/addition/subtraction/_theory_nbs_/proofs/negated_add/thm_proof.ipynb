{
 "cells": [
  {
   "cell_type": "markdown",
   "metadata": {},
   "source": [
    "Proof of <a class=\"ProveItLink\" href=\"../../../../../../_theory_nbs_/theory.ipynb\">proveit</a>.<a class=\"ProveItLink\" href=\"../../../../../_theory_nbs_/theory.ipynb\">numbers</a>.<a class=\"ProveItLink\" href=\"../../../../_theory_nbs_/theory.ipynb\">addition</a>.<a class=\"ProveItLink\" href=\"../../theory.ipynb\">subtraction</a>.<a class=\"ProveItLink\" href=\"../../theorems.ipynb#negated_add\">negated_add</a> theorem\n",
    "========"
   ]
  },
  {
   "cell_type": "code",
   "execution_count": 1,
   "metadata": {},
   "outputs": [],
   "source": [
    "import proveit\n",
    "theory = proveit.Theory() # the theorem's theory"
   ]
  },
  {
   "cell_type": "code",
   "execution_count": 2,
   "metadata": {},
   "outputs": [
    {
     "data": {
      "text/html": [
       "Under these <a href=\"presumptions.txt\">presumptions</a>, we begin our proof of<br><strong id=\"negated_add\">negated_add:</strong> <a class=\"ProveItLink\" href=\"../../../__pv_it/theorems/977a84d8a2c0455c6ef971c4710519be9de95e6f0/expr.ipynb\"><img src=\"data:image/png;base64,iVBORw0KGgoAAAANSUhEUgAAAUAAAAAWBAMAAABDHljHAAAAMFBMVEX///8QEBCIiIhmZma6urrM\n",
       "zMxUVFQiIiJERETc3Nzu7u6qqqp2dnaYmJgyMjIAAAAcRTyBAAAAAXRSTlMAQObYZgAAA6FJREFU\n",
       "SMfNVk1oE0EUfk2yyWaTND140IMQI/QgCEv1IFixILa9lMaDWi82FEULIkX0oPYQPUiLFhY8WFBh\n",
       "NaBSpFn8pdJDsAfBH1j0YFusRFChKlEEQauI82Zm/2aTtJYIPnizu2++mf3m/cwMQN3lMteaMuE3\n",
       "RU0fIqYBlPBjro78lBzT6oBTAwBhzWe/4f2kiH6AJ/jxoY4EGzWmNRAqYVnymeeFdSBiHGAUnZur\n",
       "I8EXXKtL0iDNQ9GaUAUDIuIpaNTJw6gjweNcq0s3+SVcEa0R0euIUJog8Xhs7EId+UUHmNaQRzTO\n",
       "bYLVR4Ii3gJ8HxoaXOrfxUVm/JCAytSW81NrdC/kfXoziZoY0bWe8KYzDDEFsB9g2LKHylWYseXG\n",
       "3SbE3vEjZZOpDVsFn4Xs/60XNEhgDcTLVCjXEbc3DbnEEK8Btrkraso7V+zcgT76wqqo39NJsEF/\n",
       "tUYMpnYmmbBJmHQBkimIiWlw0vU+CGGDIe6T2SDgLPijs87JDabSo0ufHIJS0d6jOFbJ+gg2tDEd\n",
       "p755B1t1OIJ265usqgSFIkhfhIEryHTMoZngAv0dInqJm82Ig/phv01PjEHiEsCkQzBsp5xsYeer\n",
       "ErRkJSjffNtgt1GRoD1Hzk0wWtpFXvLNuDjpazMmdDydCmFebL9Luh2CERsnW9j11pxkSMUQK78g\n",
       "JlBJmujW0ICTg1khxAUaKoroIDq8j8xzTEK3Bk7QAjwqNTUiZHbGGpLjGwHHyRb2HhwcImLikIpF\n",
       "ovyEcMl78CbblNXASsAtI54lgGEXCdwmTIOqhHzlFFqDOcjkEfhgwkOw08FZ2E7ej0O4K1XvFnIa\n",
       "XmaL3kPWlEl/sCgQdNVnMAv5DEO0Il8SnAYjkKUJRPrIB8Bu4pfUxZ0egu0cd7j8plw2KXavlTV2\n",
       "UDEwIVeFXkvv6fPuyUrLM8xEcQ/tcL0/nUtxBCZUgqRdQZNnySOp45+SGq/T4FUynUOwx8ahBym2\n",
       "nbAlYia1vzjqqFxf9KhDhGIttUHr7YJRPaJPk5acMWoc6UdbM/xQz/ERFMcIIhZeOceSuuTLgn0V\n",
       "WNJlgQem79YW2GFIh4qkjbY81+Esmm+Wz2RcVawzHK9igoWN1gmMQ3iVaEwXuTX6r1vDla9bbjFc\n",
       "bYDkoNNDCQYMzz6IUlrGhdVeRu0LK0V4Scc0pxUk52pdBGPmcq/8M4te+RGR8HJJuNqKBLvsufgz\n",
       "D/+LqFDRuev+/Z//ALYLHdeoLr8DAAAAAElFTkSuQmCC\n",
       "\" style=\"display:inline;vertical-align:middle;\" /></a><br>(see <a class=\"ProveItLink\" href=\"../../../__pv_it/theorems/a22d535f70d5326f7ebc65c564c0604452e80ec40/dependencies.ipynb\">dependencies</a>)<br>"
      ],
      "text/plain": [
       "negated_add: forall_{a, b, c in Complex | (a + b) = c} ((-a - b) = (-c))"
      ]
     },
     "execution_count": 2,
     "metadata": {},
     "output_type": "execute_result"
    }
   ],
   "source": [
    "%proving negated_add"
   ]
  },
  {
   "cell_type": "code",
   "execution_count": null,
   "metadata": {},
   "outputs": [],
   "source": []
  }
 ],
 "metadata": {
  "kernelspec": {
   "display_name": "Python 3",
   "language": "python",
   "name": "python3"
  }
 },
 "nbformat": 4,
 "nbformat_minor": 0
}