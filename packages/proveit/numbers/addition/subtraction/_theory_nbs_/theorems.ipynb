{
 "cells": [
  {
   "cell_type": "markdown",
   "metadata": {},
   "source": [
    "Theorems (or conjectures) for the theory of <a class=\"ProveItLink\" href=\"theory.ipynb\">proveit.numbers.addition.subtraction</a>\n",
    "========"
   ]
  },
  {
   "cell_type": "code",
   "execution_count": 1,
   "metadata": {},
   "outputs": [],
   "source": [
    "import proveit\n",
    "# Prepare this notebook for defining the theorems of a theory:\n",
    "%theorems_notebook # Keep this at the top following 'import proveit'.\n",
    "from proveit import ExprRange, IndexedVar\n",
    "from proveit.logic import Forall, Equals, InSet\n",
    "from proveit.numbers import zero, one, Natural, NaturalPos, Complex, Add, Neg, subtract, LessEq, Exp\n",
    "from proveit import a, b, c, d, i, j, k\n",
    "from proveit.core_expr_types import a_1_to_i, b_1_to_j, c_1_to_j, c_1_to_k, d_1_to_k"
   ]
  },
  {
   "cell_type": "code",
   "execution_count": 2,
   "metadata": {},
   "outputs": [
    {
     "name": "stdout",
     "output_type": "stream",
     "text": [
      "Defining theorems for theory 'proveit.numbers.addition.subtraction'\n",
      "Subsequent end-of-cell assignments will define theorems\n",
      "'%end theorems' will finalize the definitions\n"
     ]
    }
   ],
   "source": [
    "%begin theorems"
   ]
  },
  {
   "cell_type": "code",
   "execution_count": 3,
   "metadata": {},
   "outputs": [
    {
     "data": {
      "text/html": [
       "<strong id=\"subtract_from_add\"><a class=\"ProveItLink\" href=\"proofs/subtract_from_add/thm_proof.ipynb\">subtract_from_add</a> (conjecture without proof):<br></strong> <a class=\"ProveItLink\" href=\"../__pv_it/theorems/f6e1f9da18577141229a385fb326539a47061ef60/theorem_expr.ipynb\"><img src=\"data:image/png;base64,iVBORw0KGgoAAAANSUhEUgAAAQ8AAAAWBAMAAAAsrwTqAAAAMFBMVEX///8QEBCIiIhmZma6urrM\n",
       "zMxUVFQiIiJERETc3Nzu7u6qqqp2dnaYmJgyMjIAAAAcRTyBAAAAAXRSTlMAQObYZgAAAzRJREFU\n",
       "SMe9VktoE1EUvclkmmTycymKEIrtolII9YOgYkQUN9J04WchGorFhVKyUMHqYtxIih8GBC2oMNqF\n",
       "UMQM/qBSMOhCUApD3bRFIYIK/kJxpUXF+37zj40weOG+vDlz5s3Je+e+NwChxw2eQTHZGm6QzpsQ\n",
       "dSgqSx9+tgLQoQU+Q+CXpPMpRCFZjaX/RgHVNILFIzyGv0k1RCGvePoiZ2DzNPghhLM6QNoIUcgp\n",
       "nr7oxzfBzeCHEM68mJi4GqKOZIWlP57T9SkGryfC36vVM22/xXNd8lOiBZaQ7uxy3/nQuQnRgnfI\n",
       "zX0rGDwEMCrQWLOFAv4/6g6IcB/4mQmTZfI0XHIb8rde0yBD3Jpu0qCatmnZBaDwdqeVn7lHTV04\n",
       "Mkg7qlVl4ORK/uqIGzzrcNQ91iLk8pDyrJqyCiQcnMBxiJoW/tlmTK01lf26/MUh5IBV95yrlH1C\n",
       "IkWWW3V6eZf+9/fYkxpQq4O84KZLixDPA4XTZtzGf1i92ckJyFwHmHIIGbLmX3A/thSyPGAb6Td8\n",
       "QiIq1EpMSLKxF4HxbqJa/tatU5/lY2QBdzwU/mRCKoKXENxeeyfodC2N8tO3jZhklmIV2yNkOnGS\n",
       "nhDDEXj0MM7xCXmRWH6EGv64vCxLnp2fE6OovDI5LyG4j6CjinER4sUBt1l/4cK7hRTRD8ysjqgZ\n",
       "MJziHr6PaqSCTDQl8gRB95TGCevxpEtITLV4grtLEDaCzDqkEEluAGW9+zwxEwhLdU+R5TMn0xxG\n",
       "L0PEiJbpAktlcgGwD/9n/toet5Ay4w033zabJuUeFISVVlVXWKanZzz10TdNnOLZepTBriurOZxB\n",
       "W9S0xDz+5HQiIqfxupBuIdMWIquCR2aEcndCB1ntrw6Xt9ziadxeAo5oh3bDmB7XZ7HF/baQLtFd\n",
       "r8RPKSpEqTAeE0K48FoM8A6kpQ49cbr9FY4N3tsCA4Z8rI5tsm9Gh/MEvtM8V3JUzQjj8apBLqwT\n",
       "A1zu7RGrrrFsed63ARuONooese8wIWtc+wiIz6r2PowslUvDKc1uPaG63y86KfMfPxXn2oIzjjZQ\n",
       "SMz0nMLj8L+jEPzt2xPeG/4AnaPzO1DWJB4AAAAASUVORK5CYII=\n",
       "\" style=\"display:inline;vertical-align:middle;\" /></a><br>"
      ],
      "text/plain": [
       "subtract_from_add: forall_{a, b, c in Complex | (a + b) = c} ((c - b) = a)"
      ]
     },
     "execution_count": 3,
     "metadata": {},
     "output_type": "execute_result"
    }
   ],
   "source": [
    "subtract_from_add = Forall((a, b, c), Equals(subtract(c, b), a), conditions=[Equals(Add(a, b), c)], domain=Complex)"
   ]
  },
  {
   "cell_type": "code",
   "execution_count": 4,
   "metadata": {},
   "outputs": [
    {
     "data": {
      "text/html": [
       "<strong id=\"negated_add\"><a class=\"ProveItLink\" href=\"proofs/negated_add/thm_proof.ipynb\">negated_add</a> (conjecture without proof):<br></strong> <a class=\"ProveItLink\" href=\"../__pv_it/theorems/4f7ad3aeda3d7657c804ee9ba8a016a9c4f55b5e0/theorem_expr.ipynb\"><img src=\"data:image/png;base64,iVBORw0KGgoAAAANSUhEUgAAAUAAAAAWBAMAAABDHljHAAAAMFBMVEX///8QEBCIiIhmZma6urrM\n",
       "zMxUVFQiIiJERETc3Nzu7u6qqqp2dnaYmJgyMjIAAAAcRTyBAAAAAXRSTlMAQObYZgAAA6FJREFU\n",
       "SMfNVk1oE0EUfk2yyWaTND140IMQI/QgCEv1IFixILa9lMaDWi82FEULIkX0oPYQPUiLFhY8WFBh\n",
       "NaBSpFn8pdJDsAfBH1j0YFusRFChKlEEQauI82Zm/2aTtJYIPnizu2++mf3m/cwMQN3lMteaMuE3\n",
       "RU0fIqYBlPBjro78lBzT6oBTAwBhzWe/4f2kiH6AJ/jxoY4EGzWmNRAqYVnymeeFdSBiHGAUnZur\n",
       "I8EXXKtL0iDNQ9GaUAUDIuIpaNTJw6gjweNcq0s3+SVcEa0R0euIUJog8Xhs7EId+UUHmNaQRzTO\n",
       "bYLVR4Ii3gJ8HxoaXOrfxUVm/JCAytSW81NrdC/kfXoziZoY0bWe8KYzDDEFsB9g2LKHylWYseXG\n",
       "3SbE3vEjZZOpDVsFn4Xs/60XNEhgDcTLVCjXEbc3DbnEEK8Btrkraso7V+zcgT76wqqo39NJsEF/\n",
       "tUYMpnYmmbBJmHQBkimIiWlw0vU+CGGDIe6T2SDgLPijs87JDabSo0ufHIJS0d6jOFbJ+gg2tDEd\n",
       "p755B1t1OIJ265usqgSFIkhfhIEryHTMoZngAv0dInqJm82Ig/phv01PjEHiEsCkQzBsp5xsYeer\n",
       "ErRkJSjffNtgt1GRoD1Hzk0wWtpFXvLNuDjpazMmdDydCmFebL9Luh2CERsnW9j11pxkSMUQK78g\n",
       "JlBJmujW0ICTg1khxAUaKoroIDq8j8xzTEK3Bk7QAjwqNTUiZHbGGpLjGwHHyRb2HhwcImLikIpF\n",
       "ovyEcMl78CbblNXASsAtI54lgGEXCdwmTIOqhHzlFFqDOcjkEfhgwkOw08FZ2E7ej0O4K1XvFnIa\n",
       "XmaL3kPWlEl/sCgQdNVnMAv5DEO0Il8SnAYjkKUJRPrIB8Bu4pfUxZ0egu0cd7j8plw2KXavlTV2\n",
       "UDEwIVeFXkvv6fPuyUrLM8xEcQ/tcL0/nUtxBCZUgqRdQZNnySOp45+SGq/T4FUynUOwx8ahBym2\n",
       "nbAlYia1vzjqqFxf9KhDhGIttUHr7YJRPaJPk5acMWoc6UdbM/xQz/ERFMcIIhZeOceSuuTLgn0V\n",
       "WNJlgQem79YW2GFIh4qkjbY81+Esmm+Wz2RcVawzHK9igoWN1gmMQ3iVaEwXuTX6r1vDla9bbjFc\n",
       "bYDkoNNDCQYMzz6IUlrGhdVeRu0LK0V4Scc0pxUk52pdBGPmcq/8M4te+RGR8HJJuNqKBLvsufgz\n",
       "D/+LqFDRuev+/Z//ALYLHdeoLr8DAAAAAElFTkSuQmCC\n",
       "\" style=\"display:inline;vertical-align:middle;\" /></a><br>"
      ],
      "text/plain": [
       "negated_add: forall_{a, b, c in Complex | (a + b) = c} ((-a - b) = (-c))"
      ]
     },
     "execution_count": 4,
     "metadata": {},
     "output_type": "execute_result"
    }
   ],
   "source": [
    "negated_add = Forall((a, b, c), Equals(Add(Neg(a), Neg(b)), Neg(c)), conditions=[Equals(Add(a, b), c)], domain=Complex)"
   ]
  },
  {
   "cell_type": "code",
   "execution_count": 5,
   "metadata": {},
   "outputs": [
    {
     "data": {
      "text/html": [
       "<strong id=\"subtract_from_add_reversed\"><a class=\"ProveItLink\" href=\"proofs/subtract_from_add_reversed/thm_proof.ipynb\">subtract_from_add_reversed</a> (conjecture without proof):<br></strong> <a class=\"ProveItLink\" href=\"../__pv_it/theorems/61165e5333fa521c610311699ef7534f5b32caa30/theorem_expr.ipynb\"><img src=\"data:image/png;base64,iVBORw0KGgoAAAANSUhEUgAAAS8AAAAWBAMAAABj8gc6AAAAMFBMVEX///8QEBCIiIhmZma6urrM\n",
       "zMxUVFQiIiJERETc3Nzu7u6qqqp2dnaYmJgyMjIAAAAcRTyBAAAAAXRSTlMAQObYZgAAA4BJREFU\n",
       "SMfFV01oE0EUfs1mm/+kB0ERhGBtD6IQ6s+pakVseymsB7UnG4KiopYcVNB6CAjS4A970oIKW3No\n",
       "KWKCv1QKDXpThKVe2qIlUntolVCKB60WfPOz2d3ZDa0YceDbdN98M/vNzHtvXgFq3u5zuLSQ6rQF\n",
       "dPv7KEeJvHysoa5ghmJ4vVvnaadpWHivVxnekpeFGgqLqgyzbp2PnKZ5cWElhgGym5kaCnvP8dOt\n",
       "MxwXLZGEaHnFENWQXqihsEsM3mXXc24QLT6H2w0yRN6MjNypoa5AmiGcdu3+LBqc3462MXzv77+y\n",
       "1q+Kq1OcFE+CIZpqFM4hvLkJ4LXIb7QuqrVlI/ISDCcAskaPt1xFURub2moi3KdOpl9nyC8Ef9i3\n",
       "sg9uAczQecq0Ue+6aaHsV6OLeIYlhgM0BngTFhS6cTJF/8i4BDtyJWde8hUYxjVYsncU4QzAC5Hf\n",
       "Z3HATSDhh0JpBh94zBT3xWSN7dCD3Zr81RQmFyu5hnODSYewujaGvRD8RfID3Zs5/GufRrp7RP46\n",
       "nIVtoCItgw+jVl5kCOs+k2bu/uToCETuAYyZwuorLuU3uPNVhc2C154wNkA1YZWhGcgrprBA6Qga\n",
       "c81kVfJSs0bdNO4lDnDwGXabwnwVnt/gbjc9O24/yhWQbAmD7h9Ah8XHksJR5oswTpw3zQDZ4zjs\n",
       "gkym8VwmAQXn5YYoYU5PGWMyPLI5z29wn8Opfmw6GWJ3/m8waL8EV9BzuPNbm8X58wXoxdvUcH54\n",
       "guqkhEw0+uPEgh6o5Ajz5ahNWKfJM7idvJ8M4VvHg/0cXLUr2A3BXQCtojBLuOGMFzHwpSIDxPAQ\n",
       "6gqeJHUQKUleAI7iPsTvHrYJa+e83vKnclmn3GOGe1RylnEQuW1C1RB+N4HPOVFYh+W0U023t2AG\n",
       "VBgggm6VV/3T+BPTyBdiKo876QGyTWHdFR7ZMcptR5XY9JgqXklVSo/06lfSEAdbsdrTBQOaT5vE\n",
       "J94HibBCM7FCr1QubIjzmDDChQ/mNZIQLnH4y0ucH0Dq8R44VJDPFvEZaJnQ4DoxPyxfUyxRqTEe\n",
       "j0rkwk4jrZMh3FNUBlhj2ZOtUvZYW8Hy9KCPmT1UmKdgy2NglJmuhaJ7y65eKLosjBW+buUvv5Iy\n",
       "orCQ/meldWQNpfUUh3WY5ekqrKsyGf/Nwf9uCff/Jbb+uy/+BubvEtChPDbWAAAAAElFTkSuQmCC\n",
       "\" style=\"display:inline;vertical-align:middle;\" /></a><br>"
      ],
      "text/plain": [
       "subtract_from_add_reversed: forall_{a, b, c in Complex | (a + b) = c} ((b - c) = (-a))"
      ]
     },
     "execution_count": 5,
     "metadata": {},
     "output_type": "execute_result"
    }
   ],
   "source": [
    "subtract_from_add_reversed = Forall((a, b, c), Equals(subtract(b, c), Neg(a)), conditions=[Equals(Add(a, b), c)], domain=Complex)"
   ]
  },
  {
   "cell_type": "code",
   "execution_count": 6,
   "metadata": {},
   "outputs": [
    {
     "data": {
      "text/html": [
       "<strong id=\"add_from_subtract\"><a class=\"ProveItLink\" href=\"proofs/add_from_subtract/thm_proof.ipynb\">add_from_subtract</a> (conjecture without proof):<br></strong> <a class=\"ProveItLink\" href=\"../__pv_it/theorems/335c95fa287b135b4d19df8ed62529d97fe7ec280/theorem_expr.ipynb\"><img src=\"data:image/png;base64,iVBORw0KGgoAAAANSUhEUgAAAQ8AAAAWBAMAAAAsrwTqAAAAMFBMVEX///8QEBCIiIhmZma6urrM\n",
       "zMxUVFQiIiJERETc3Nzu7u6qqqp2dnaYmJgyMjIAAAAcRTyBAAAAAXRSTlMAQObYZgAAAz5JREFU\n",
       "SMe9VktoE0EY/pPtZpPNJvEoihCK7aFQCPWBoGJELL2Upge1Jy1FEVEkggo+DvEiLT5YEGxBhdUe\n",
       "hCBkqQ+oFAx6EJTKUi9tUQioBV+heNKi4j+zs4/ZB0ZY/OGfnXz77ey3838zE4DI4xbLoJgOhxuk\n",
       "8zZCHXLFTB9+oQyQUAOfIfBL0vkUoZCsaqb/RgHVNILFIzyB11QlQiGvWdoxxa45HZunwQ8hnNUA\n",
       "FD1CIWdY+oQM4JvgdvBDCGdeVKvjEepIlc30C3lO61MMrifC30dHz7f6Fm/pS35KvGAmKO0dvJCl\n",
       "9q2IFrzCt/WsMeFDAGMW2tYMUWB+h+KGCPeBn5k0zEydg6ucEPm3VlMhQ936qkniHenuVLPLQOFd\n",
       "bis/40dNXz48Qjumm49wN5Er+FeHpLOsw1FOSHoFcnlIlz3rZR0IODiBJYgbNv7ZYcxsMOQhTfzi\n",
       "CBHr3BjIlYd9QmJFM3dowL79RLO5hD2hAbU6iMs8XVgBKQ8UVgzJwX/YvfnpKmRuAsw4QhK8JQj3\n",
       "Y6iQ1V6z4jYyoPuExCpQK5lCUo29CEx2fiDf/K1Toz7LtxFT7X6Itx0hks0Di9vt7ATtXGnkn14h\n",
       "OYPMUlvZ8QiZJ5ykJ8RwBB47iHN8Slwhlj9LDX9SXJUl/MUFazAqZNzmgcV9BIlRjCsgFQd5s/7C\n",
       "wvNCiugHZlYnajocTzMP30c1QkEkmpJ5gqB7SpOE9XiaE9Jn88Di9lmELSCaHbIQSW4GeRMnJGEk\n",
       "ERbqnkWWz5xWGIxehpgeH6YFFobJD4B9+J35G3s4Ib2M10cmQaPc/RZhrb2qy2Yqs3N8aeSeWeIU\n",
       "z9Yjj3RcX8/gDNqipiYX8ZLTiIgcLsoEtfQdZDpChmwenWrC7YUEqfZXl8tDt3gad4P3KRuOqQf6\n",
       "YUKTtHlscb8tKCW665XYKVVhbMpjrkQuvLEGeA9C2KFX9ZxuIYcem9CRqe0wqIvH6timeuY0uETg\n",
       "e82LJdeq0UweWzXIhY3WANe6u6yqq2aGnvctwLqrjaNHnDtUSNx/SDda/2Nkq/w7nFad1hMVV+t+\n",
       "wvjHv4oLLcEZVxsopN8LT8L/jgIETlZXdG/4Azge+mwWdMA7AAAAAElFTkSuQmCC\n",
       "\" style=\"display:inline;vertical-align:middle;\" /></a><br>"
      ],
      "text/plain": [
       "add_from_subtract: forall_{a, b, c in Complex | (a - b) = c} ((c + b) = a)"
      ]
     },
     "execution_count": 6,
     "metadata": {},
     "output_type": "execute_result"
    }
   ],
   "source": [
    "add_from_subtract = Forall((a, b, c), Equals(Add(c, b), a), conditions=[Equals(subtract(a, b), c)], domain=Complex)"
   ]
  },
  {
   "cell_type": "code",
   "execution_count": 7,
   "metadata": {},
   "outputs": [
    {
     "data": {
      "text/html": [
       "<strong id=\"add_cancel_basic\"><a class=\"ProveItLink\" href=\"proofs/add_cancel_basic/thm_proof.ipynb\">add_cancel_basic</a> (conjecture without proof):<br></strong> <a class=\"ProveItLink\" href=\"../__pv_it/theorems/dac8c4a9369bd30f5977b0b256e3bf36e9709ef90/theorem_expr.ipynb\"><img src=\"data:image/png;base64,iVBORw0KGgoAAAANSUhEUgAAAKkAAAAUBAMAAAAErwC3AAAAMFBMVEX///8QEBCIiIhmZma6urrM\n",
       "zMxUVFQiIiJERETc3Nzu7u6qqqp2dnaYmJgyMjIAAAAcRTyBAAAAAXRSTlMAQObYZgAAAg5JREFU\n",
       "OMuVlU9oE0EUxr9kkybZ7K6X9lIQFlp7LnpVUER6Kt1L1VskKL1JLgqih57KBhX21BbqYbWHllCa\n",
       "peKhUkiINwsl3mxRDEgFRUqhUKR4cP41daYz2jz4YOY3eZOZ9+a9Bf5lhTaX3tbNuEMHnw1+y0J6\n",
       "64tOodangOFNOvlh8PsupDe7oxIvsR8xPE8vOq13c0e5TNZSwQdgi2EvBpxE75WLuEz2UgUzQCOm\n",
       "2H1fq80ZvOaETOZdVcAhMJEw/CsMnxi8hoQKly8OKo+DEUeJjn1AdvUZvgdUDbs+F7oWefvyCicu\n",
       "S9fWHrWv9L9+AyWf4etKLovPpspi+JjLPg9LzqcgxYpyA3LWUpPhHNLH79zeuNS2b8fZn2Lez2Ud\n",
       "IeeT4So71C66JLuvjQDFTjt3TD+u1+C+ADbkXVPTqAeSuyDqrjRbjYThQucmmS+O7CJDg3/jDUFy\n",
       "BOpNNGRvQTKVk7h+o8MQ+BJzXL1Lzv4gewSPLuxsn8pWPcH9ovRsBXE72ipg+DXZ2hrNVrBIF97+\n",
       "1TPeceV996EjeQtiNdWySewBgc+RuKeS9B3cCsPQX5g8+dEYl12+MDssp4UTL1A7Q2skENglNVuP\n",
       "8jtxH12wXpHFM1bs0n9wKiqNwwlY1QTdrtFzd1Fwprx2BXhKhyt7M92LVWEuPF0n1OI0iWsPXTsf\n",
       "9YLP+oXZNuI/ZkOnQq8dVUsAAAAASUVORK5CYII=\n",
       "\" style=\"display:inline;vertical-align:middle;\" /></a><br>"
      ],
      "text/plain": [
       "add_cancel_basic: forall_{a in Complex} ((a - a) = 0)"
      ]
     },
     "execution_count": 7,
     "metadata": {},
     "output_type": "execute_result"
    }
   ],
   "source": [
    "add_cancel_basic = Forall(a, Equals(subtract(a, a), zero), domain=Complex)"
   ]
  },
  {
   "cell_type": "code",
   "execution_count": 8,
   "metadata": {},
   "outputs": [
    {
     "data": {
      "text/html": [
       "<strong id=\"add_cancel_reverse\"><a class=\"ProveItLink\" href=\"proofs/add_cancel_reverse/thm_proof.ipynb\">add_cancel_reverse</a> (conjecture without proof):<br></strong> <a class=\"ProveItLink\" href=\"../__pv_it/theorems/924ce5962c88286b9a0fd140cc681c5f72938c230/theorem_expr.ipynb\"><img src=\"data:image/png;base64,iVBORw0KGgoAAAANSUhEUgAAALkAAAAUBAMAAAAjAYFfAAAAMFBMVEX///8QEBCIiIhmZma6urrM\n",
       "zMxUVFQiIiJERETc3Nzu7u6qqqp2dnaYmJgyMjIAAAAcRTyBAAAAAXRSTlMAQObYZgAAAilJREFU\n",
       "OMudlT1oFFEQx//3lbvs7a6NNoKwoKYO2iooIlbiNn50J4diJ2ehIFpcFfZQYSsjaLGaQjmEWyIW\n",
       "kcAdsVMIZ2eC4oEoKLIEBJFg4fuYvfhe9m04Bwbe+82+2XkzO7NAnkwPpebLkhmP+OKj4dwz0nyZ\n",
       "CrehlQ++wG/55rvh3DfSfLFGOnFj66bAD3gC2tnHnFmp22VRjVQ3vwNWBXYjwI6zvVdDqTt5f6yb\n",
       "54B+xLHzptudN1x5nnQn7+4xzfwLOBML/DsIbhu87ycdf0JHDu1VvUtia9mzfjLvnsCXgY7B+z3S\n",
       "VI6H7obqXRJHlHU14fKZv/MP0PAEPqHVvH73SpOWt0jTkPah1Fa8E6m3tDZhsTcGAldRTPvFWj48\n",
       "tC5ElR+03y3VEkElfmkTVU8GeS1JvrIVkcpGZmY4tofVlL5f6sJ5BCyr3lMptNHzldiJ6N55Vfux\n",
       "wNOjc2y/MPMFZV6cky8Zys5Mb4C++s0QKbe28s6vhAD4FEncucTucr2yCZcb1teMVe3FuFoPFe+S\n",
       "OKPMbhL4BXtFabbSwgI3vPpnJr0mJal5zg1biZ1IaaC3YWztIbyL1aUQFy/ifBAE3sOzWw+dIk2L\n",
       "1Tx4/4D6zUji+vrkWZnxCTtsFvTC2no0xQ2lJ8w44SR4mt0uY1wIG6dh+6L7/PFUMk+xbv4U03C5\n",
       "uXgUuMOXz5O58UU7MDdy3gTOxEWW9//4e9TCSfCkf741I/4L8LO11gXVv1cAAAAASUVORK5CYII=\n",
       "\" style=\"display:inline;vertical-align:middle;\" /></a><br>"
      ],
      "text/plain": [
       "add_cancel_reverse: forall_{a in Complex} ((-a + a) = 0)"
      ]
     },
     "execution_count": 8,
     "metadata": {},
     "output_type": "execute_result"
    }
   ],
   "source": [
    "add_cancel_reverse = Forall(a, Equals(Add(Neg(a), a), zero), domain=Complex)"
   ]
  },
  {
   "cell_type": "code",
   "execution_count": 9,
   "metadata": {},
   "outputs": [
    {
     "data": {
      "text/html": [
       "<strong id=\"add_cancel_triple_12\"><a class=\"ProveItLink\" href=\"proofs/add_cancel_triple_12/thm_proof.ipynb\">add_cancel_triple_12</a> (conjecture without proof):<br></strong> <a class=\"ProveItLink\" href=\"../__pv_it/theorems/55addf873fe041c8517b4417da93113cfba69b5a0/theorem_expr.ipynb\"><img src=\"data:image/png;base64,iVBORw0KGgoAAAANSUhEUgAAANYAAAAVBAMAAADIsQ0HAAAAMFBMVEX///8QEBCIiIhmZma6urrM\n",
       "zMxUVFQiIiJERETc3Nzu7u6qqqp2dnaYmJgyMjIAAAAcRTyBAAAAAXRSTlMAQObYZgAAAsFJREFU\n",
       "SMe1VktoE2EQ/pLN5rHJJt4EQVh89OQh1KNVIyKepPHg49YSFBFU4kHB4qEiSIIe9qQFFbbmoAQx\n",
       "S0SkUmhpD4KiLHhpC0qg2kOVIMWDpirOv/9mXwnrUnTg28c32Zn5Z+afP8Df5b6FkDLVl02rQIs9\n",
       "vA/6VhrnCCHStTIQV/30o810OQu8Zi+rQQayKkcYyebJYauHXiY8ASbolgqM+p2FIGla95xOl7ke\n",
       "9TohoyCr0U0PsnPFQhhfw2QNk35trMPyuwnyq3r9TpCZVJkjlK+XZiILPm3G/Pwj8L1SuRpkJprn\n",
       "QGpocIsvDJvp+lrZtodM5/1VLG2nzM0Dp4Gqvdh2r6+kwYEDavarV+Uwli/pt9ZQIZvN8bbNhHUF\n",
       "GqvSD+ADcNDdOPP2drh1psSfEjqHtBWCt4dcjOUr3UFOQdqf8RkNa8BzsoOoYbOfmYnp3YZ0UhO/\n",
       "cCpS4BA6SCisd814P8FhaAUX2+0VxrTQmIXoWz72QfoJjFB2jYTD0lKxMFWHfA+Y9vqKjKNR9Jhw\n",
       "MU17ew3rvb6WEVs3faVax+m1NsAiFdcGtBir7KFnpPDmkAKe8ZpwMZavnIH9GmJlp15stfjFUoDD\n",
       "9FQ9RXm7JLI9EB2L5rNMu7TY0xsNHRfSnvHhYrq+ClRDqzdc8g2ThtkbeEphCHmRBZNU5FaNaV84\n",
       "A5R1MAPpLme8Heowlq+4kaRfCrM+X+dxna5DLBiqb0SPjpq1EUZPVCoV5e4xZ9OXOaTSzts7vH3o\n",
       "MN2eH3zDqlb0+artYt3HiiTTXGmoySW65bSIHmda4QF9uIEZZcrD/mdAdydE1JEjmNAS2gIyRXMi\n",
       "FO0RGmb21t0vc31/klG6iSo19+KoLp6jVN9kxOP2jW4mkipHWOlzpoCfKW7h4z5K9drgWWnH1keq\n",
       "Pcf0P/gPsNiXlb3GZfxf+QPMM9JwNWzQBgAAAABJRU5ErkJggg==\n",
       "\" style=\"display:inline;vertical-align:middle;\" /></a><br>"
      ],
      "text/plain": [
       "add_cancel_triple_12: forall_{a, b in Complex} ((a - a + b) = b)"
      ]
     },
     "execution_count": 9,
     "metadata": {},
     "output_type": "execute_result"
    }
   ],
   "source": [
    "add_cancel_triple_12 = Forall((a, b), Equals(Add(a, Neg(a), b), b), domain=Complex)"
   ]
  },
  {
   "cell_type": "code",
   "execution_count": 10,
   "metadata": {},
   "outputs": [
    {
     "data": {
      "text/html": [
       "<strong id=\"add_cancel_triple_21\"><a class=\"ProveItLink\" href=\"proofs/add_cancel_triple_21/thm_proof.ipynb\">add_cancel_triple_21</a> (conjecture without proof):<br></strong> <a class=\"ProveItLink\" href=\"../__pv_it/theorems/d4e1f68ea3048de0eca118d776b7bf37a0dcaae10/theorem_expr.ipynb\"><img src=\"data:image/png;base64,iVBORw0KGgoAAAANSUhEUgAAAOcAAAAVBAMAAABPgOQBAAAAMFBMVEX///8QEBCIiIhmZma6urrM\n",
       "zMxUVFQiIiJERETc3Nzu7u6qqqp2dnaYmJgyMjIAAAAcRTyBAAAAAXRSTlMAQObYZgAAAvdJREFU\n",
       "SMe9VktoE1EUPfmnk58LwQ8osdWuXIS6EawaEelKGhf+Vi1BEUElCrpQF1VBElQYEGxBF1MLWoI0\n",
       "Q0UkUmhpF4KizM62oAT6EauMpShoq+J980nyZsbUWPDCffPmvjdz3j3vvDsDLG8Niu51Wkh0DBfJ\n",
       "S6zztubT/YbXYf1rqDlpjQpXMoCf1vKS3c3VfMMHw+uxKfIBWzSaIGRKs4fx11Xr+UhCdwcC47bQ\n",
       "oHFdIg/bhmMyNaMELtGoXAs0IOpeD6h3kbG5yjraTmDopRxe5PPdNZnqNrwe0HCGtdPW0ecax0ng\n",
       "WzZ7uSZok+FlMbe2rLeA3h7bJHGg0XQTsTdmfdVs4w5aEG3VcSBnBr2qA+gtw03bI0bneVDvOnzm\n",
       "My3MCd+Bd1rSqmZMFMIvqSAiQkraq+nJsPLaQjdPpI3uJcNN3W+Ap4sH7VWwnQcdlrAAPLVuxyJi\n",
       "cYSI+gDclYP/kb11aJsiHJF8n4zYat0FfcUpzyICcT2D9xtVtZO6uyWcYzNfq+pZVZ2l3i4IP4AO\n",
       "C6inhMIIfMRTWAlUwsQJxot5RO4BQzyoaa4uFFJ8pmshfOUznYJ3yQ5Kx7Rd1kAbSofovq95hlrf\n",
       "QrPkZezve0IDzvTSWod59VJSoXke9CeIELRV7SljJKYwUrxM2blj9Nx5HztZ7ovuRJTNnJz4o5AK\n",
       "Ms4YZdUEXYK/VORAv7B91oVUXRuSJAhNSHhMyJ6Ej+EH45FSHxt+VgQnrirx05wLYZ7eq3jTOcKB\n",
       "nsY1alstoH4lSDR62FQSFFyym+XvSno6D2ez2fjdg5WpbYab6k1vubOZB33QeDSd5ED7tjJxzlgL\n",
       "fssrtrNMERE61wUxOEmXmOSS/ZrO7tOUFZRBHSPjWGweliUpduxHjxSQxhFOaVUnxQrzMgVfkGyh\n",
       "fFXfXvA1Gy2XovTgThyQfaeI7xss8Ei9njIHc6gqWnXYgGO0qhRppn9s3LSnK/2Ilxdrt6D4N/8X\n",
       "//q7EnF+3YRlFv6T/QblidrsVxmeswAAAABJRU5ErkJggg==\n",
       "\" style=\"display:inline;vertical-align:middle;\" /></a><br>"
      ],
      "text/plain": [
       "add_cancel_triple_21: forall_{a, b in Complex} ((-a + a + b) = b)"
      ]
     },
     "execution_count": 10,
     "metadata": {},
     "output_type": "execute_result"
    }
   ],
   "source": [
    "add_cancel_triple_21 = Forall((a, b), Equals(Add(Neg(a), a, b), b), domain=Complex)"
   ]
  },
  {
   "cell_type": "code",
   "execution_count": 11,
   "metadata": {},
   "outputs": [
    {
     "data": {
      "text/html": [
       "<strong id=\"add_cancel_triple_13\"><a class=\"ProveItLink\" href=\"proofs/add_cancel_triple_13/thm_proof.ipynb\">add_cancel_triple_13</a> (conjecture without proof):<br></strong> <a class=\"ProveItLink\" href=\"../__pv_it/theorems/168004338aa4c9b26be1149545a93b4b5c016eed0/theorem_expr.ipynb\"><img src=\"data:image/png;base64,iVBORw0KGgoAAAANSUhEUgAAANYAAAAVBAMAAADIsQ0HAAAAMFBMVEX///8QEBCIiIhmZma6urrM\n",
       "zMxUVFQiIiJERETc3Nzu7u6qqqp2dnaYmJgyMjIAAAAcRTyBAAAAAXRSTlMAQObYZgAAAsJJREFU\n",
       "SMe1Vk1oE0EU/pLNNskmu/EmCELwpycPoR6tGhHxJI0Hf24tQRFBJR4ULB4igiToYU9aUGFrDkoQ\n",
       "s1REKoWW9iAoyoKXtqAEqj1UCaV40FTFNzubpLO72eagD97O7Js3+73fmQU2p4cO90iTvtKEDtTZ\n",
       "5GPQXqXI2btwo+Cn36e7JU+20uM88Ja9rARhaTpnn5WMr211j2iJ+BkwRkO8GIT1weEOTThjyvTd\n",
       "MOuRrBMn09AMGswgrGsOe7GGDN8N425BpMnc3QL1TbV6LwgqXuDsg/W6S9CzLkHS3v4Z+FEqXQ/C\n",
       "Cmc4Iz44sE3EWt6xz2WXrZJ0p1HL76TIzQFngXLb2YYXK2ZxxiFdWxWwlD9GTawZrqLaxfG+wYhV\n",
       "BWoryk/gE3B4Y+HMtdvhzrk8n0VNzsp2SEUBK9FEKi1UIFdJuFth2sAa8JK+g7DVln5lO6b2Wspp\n",
       "Q/7GRaEsZ6mJaJrbe7nRWKaZVEdthorZduAL2iryqgvrAJRfwDBF14p2pOQq5ierUB8AUyJWqIha\n",
       "TvCL2mtIqGBHxYO1hMi6jRWvn6TXSj8zTF7rNyIss0de0IIYQ3JhWqzDlIWDQtU7KpFCJ1/Mf/xm\n",
       "HuMozcpnKG5XZNYD4dFwRmOriwue2qiZuJTQBawsJUjA4iqq++D4jnHLrg08JzOkjMyMiaXVeoWt\n",
       "vuocoKyCGdPa1aTgV58VE6vbUZFmXFgXcZOeg8w8SmfIDI/YuZFGTpVKpfT9E52mL3BW8rvv7hJr\n",
       "fuCd6yTkKlrOhVXZw6qPJUmlmNf02CINKSNk9rFV6RHt3PSM6kKP/a+LVieE9OFjGDOixjySOfsA\n",
       "yLWPUO/ZWw3GmvWVJlutGMlP7MdxU75Aob7NBE8bt1qRiOmceyWfOwX8TtlIvFnClK+e7sou1MWu\n",
       "suea/gf/AAu+UlX8uIr/S38Bza3ScPuh24wAAAAASUVORK5CYII=\n",
       "\" style=\"display:inline;vertical-align:middle;\" /></a><br>"
      ],
      "text/plain": [
       "add_cancel_triple_13: forall_{a, b in Complex} ((a + b - a) = b)"
      ]
     },
     "execution_count": 11,
     "metadata": {},
     "output_type": "execute_result"
    }
   ],
   "source": [
    "add_cancel_triple_13 = Forall((a, b), Equals(Add(a, b, Neg(a)), b), domain=Complex)"
   ]
  },
  {
   "cell_type": "code",
   "execution_count": 12,
   "metadata": {},
   "outputs": [
    {
     "data": {
      "text/html": [
       "<strong id=\"add_cancel_triple_31\"><a class=\"ProveItLink\" href=\"proofs/add_cancel_triple_31/thm_proof.ipynb\">add_cancel_triple_31</a> (conjecture without proof):<br></strong> <a class=\"ProveItLink\" href=\"../__pv_it/theorems/1c24a391a070dce54a5d6b82ab112a131d2e06400/theorem_expr.ipynb\"><img src=\"data:image/png;base64,iVBORw0KGgoAAAANSUhEUgAAAOcAAAAVBAMAAABPgOQBAAAAMFBMVEX///8QEBCIiIhmZma6urrM\n",
       "zMxUVFQiIiJERETc3Nzu7u6qqqp2dnaYmJgyMjIAAAAcRTyBAAAAAXRSTlMAQObYZgAAAu9JREFU\n",
       "SMe9Vk1oE0EUfsnmr5s/D4I/oMRWe/IQ6kWwakSkJ2k8+HdqCIoIVoKgB/UQFSRBhQXBFvSwNaAS\n",
       "pLsoIpFCQ3sQFGFvtgUlUKtYJUpR0ETFN7uzyc52dtt68MHLzH7zZr55P/uyAEtLh2boCiUsceEK\n",
       "ao1M3rjufkDV2WANFz5pB8RLOYAA3uUleZp3Jf1I1VlmuejoIiSWRGZ0c5jEL+92YjRpKCeACTpp\n",
       "2gFdIgn7hriKPxNILuOq6kYalAx1JvU1uKTiKvuGfiSDEfThRbk85Bq7IarOpJEclxTe2Tc812Oc\n",
       "AvhRKFx0Je2i2irm3p71LEcs26WypDcnN6FTk/aj3nfuwCtiqo4DFE3QV+eQ3qBqyh4p9pUlVebF\n",
       "n2y818EXHN7qYajrQopC/CMrEkSxkvbq9USldbfw9RNZOr1A1czUBhDyLOm4DAsMMKLBdhye2tPR\n",
       "gHgCwpiMIHjbL/4ncurYNk08Ivs/U2y1oaJx47TQgGDC8ODDxno9g9NdIP5igN0ynMFhwEYq1ECp\n",
       "gh/jFNGCbZhEaapShugdgDGW1BRPHpQ06+ks+JoMsBbE7xxSfE37VZ20o3YIn0vdc/jrX+iWfST6\n",
       "+57gAj+8eNdxW7H+BqFhBdDvMEl7nyWnJABxjcTAR2q9eAzNzvrJNu95bzJGLGemHQtJUeE0basm\n",
       "6TeSRCtpEwK1Ci0ka29IYUHohQSPkVlI+gl/KBGtlcjyswowxWUpfrQ5F2E9HYQrLHAZXmeqAL02\n",
       "0oAWwjAKVcKPlh7VS/z3pITM4UKhkLh9sG3aZwaKVm92y63NLEdpq8YC9zqPZrEFzNkbfs8rkllS\n",
       "EVF8jRUpNINDXPaoAb3O7qLJstugAyDmuM3mfqskpYH9MCwH5SmIpPWukyaNeYmGL8quwOKGr8tE\n",
       "qxVlH+2EA6r/FMb7GgEe1q+mzcUiWJrWCmSUi1pakS5GA/ViTlf2J+4g/IuGpOV8X/zr50qUf9y0\n",
       "zQr+k/wF7Y7T5KNEoM8AAAAASUVORK5CYII=\n",
       "\" style=\"display:inline;vertical-align:middle;\" /></a><br>"
      ],
      "text/plain": [
       "add_cancel_triple_31: forall_{a, b in Complex} ((-a + b + a) = b)"
      ]
     },
     "execution_count": 12,
     "metadata": {},
     "output_type": "execute_result"
    }
   ],
   "source": [
    "add_cancel_triple_31 = Forall((a, b), Equals(Add(Neg(a), b, a), b), domain=Complex)"
   ]
  },
  {
   "cell_type": "code",
   "execution_count": 13,
   "metadata": {},
   "outputs": [
    {
     "data": {
      "text/html": [
       "<strong id=\"add_cancel_triple_23\"><a class=\"ProveItLink\" href=\"proofs/add_cancel_triple_23/thm_proof.ipynb\">add_cancel_triple_23</a> (conjecture without proof):<br></strong> <a class=\"ProveItLink\" href=\"../__pv_it/theorems/e59300b6911e8c5bbac7997425dbe2b3de83b63a0/theorem_expr.ipynb\"><img src=\"data:image/png;base64,iVBORw0KGgoAAAANSUhEUgAAANYAAAAVBAMAAADIsQ0HAAAAMFBMVEX///8QEBCIiIhmZma6urrM\n",
       "zMxUVFQiIiJERETc3Nzu7u6qqqp2dnaYmJgyMjIAAAAcRTyBAAAAAXRSTlMAQObYZgAAArpJREFU\n",
       "SMe1Vk1o02AYfpr0N21Sb4IgFH928lDm0akVEU+yevDntlEUEVTqQUHxUBGkRQ856UCFzB6UImuY\n",
       "iEwGG+4gKErAyzZQCtMdphQZHrRT8f3ypT9fUrMI+sLbJM+XN8/3/n4F1pd7jgaUqb5oUgca7Oad\n",
       "n61SslW5WgzGFdXdyMON9HMaeMUeVvxsNd3RbDAupeGBlkgngDG6JEp+tm8dTZsOMLkO2XMPskaa\n",
       "ykAz6GL6mV5ydNgIyDXuBsIt5u4GqC9rtdt+lokiV7xAQC4t5wJSdqY/AN/K5St+llKWK5a37BK5\n",
       "EkODm1z7spGUO7FaYStFbg44CVQ6zja9XHGLq/LLqOsC1z5d+yK+yxHVLo43TSasKlBfUb4D74H9\n",
       "vYUz12mHm6cK/C5mck22kM70cimbIYtF5SBJd3PMGFgFntJ3IFkd9BOzmN5pKceNyGcOhXJc5Qbq\n",
       "s/Z2zzeby7QgtxBj5BO2Ax+7SMTlLfZA+QGMUHStWBclVzE/VYN6F5gWuai9hs1ev0Il1PPCNx3E\n",
       "w7WE8JrNlWgcpcfqANtYZHXACLPMHnhCC2IM0xb2Gr1c5OWM+E0HCRe7+WIBwE/mMQ7SXeUExe1C\n",
       "hPWAdFnKamx1ccFTG+kcpUPgMnEuKcwjB1Hdg+Mrxi27NvCYtiFnI2wz8YzaqLLVZ90ByiqYadSK\n",
       "ZwUuevliSixZjsizLq6zuEa/Q2z2UDpDpjRq50YePVYulzN3jnSbvshVGXwt9rJS2H5rm1iHHNHy\n",
       "Lq7qDlZ9LEkqZaGuxxfpkjZCZpStyvfJ0jWjEHRuPOg/ktudENJHDmHMiBnzSOXtAZDvjND27O1I\n",
       "7a9nL/jsdQJVmNyNw2bkDIX6BgMeNa+3IxHXuQaVPmcK+JnSK7x9JMpXn7MysPxhXxXPMf0P/gMs\n",
       "9EVV8eMq/q/8Bjwh0nB/6LcNAAAAAElFTkSuQmCC\n",
       "\" style=\"display:inline;vertical-align:middle;\" /></a><br>"
      ],
      "text/plain": [
       "add_cancel_triple_23: forall_{a, b in Complex} ((b + a - a) = b)"
      ]
     },
     "execution_count": 13,
     "metadata": {},
     "output_type": "execute_result"
    }
   ],
   "source": [
    "add_cancel_triple_23 = Forall((a, b), Equals(Add(b, a, Neg(a)), b), domain=Complex)"
   ]
  },
  {
   "cell_type": "code",
   "execution_count": 14,
   "metadata": {},
   "outputs": [
    {
     "data": {
      "text/html": [
       "<strong id=\"add_cancel_triple_32\"><a class=\"ProveItLink\" href=\"proofs/add_cancel_triple_32/thm_proof.ipynb\">add_cancel_triple_32</a> (conjecture without proof):<br></strong> <a class=\"ProveItLink\" href=\"../__pv_it/theorems/0fff71464ffdaff5e64e62cd9dc2114f99f939be0/theorem_expr.ipynb\"><img src=\"data:image/png;base64,iVBORw0KGgoAAAANSUhEUgAAANYAAAAVBAMAAADIsQ0HAAAAMFBMVEX///8QEBCIiIhmZma6urrM\n",
       "zMxUVFQiIiJERETc3Nzu7u6qqqp2dnaYmJgyMjIAAAAcRTyBAAAAAXRSTlMAQObYZgAAArpJREFU\n",
       "SMe1Vk1oE0EU/rKbbZJNduNNEITgT08eQj1aNSLiSRoP/txagiKCSjwoKB4igiToYU9aUGFrDkoQ\n",
       "s1REKoUWexAUZcFLW1AC1R6qhFI8aKrim51N0tlNt3vQB19293s7+82b9+ZNgI3tgYuQNtGTTRpA\n",
       "g918DBqrlhyo14vhtPoML/N4M/2cBd6yh6WgsbrhIhtOS234qAXCU2CULolS0NgPLtLWuq+MC0+v\n",
       "fP5VQioD3aSLFaR1xcWQGVJrzOuOtli4m6C9qdXuBkklihx4jZBaes7jTjmZ/gz8KJevBWlJWQ4s\n",
       "btvjmcXgwBZRizMpb2L1wnZauRngNFDpBNv0a8VtDvWPWRcr7IChL4tanNGc4njfZMaqAvUl9Sfw\n",
       "CTi4tnBmOtvh9pkCv4tZHMkW0hmh3rZCLglaLpP0bo4pEyvAC/oOJLvDfmUjJnfb6klT+capSI5D\n",
       "bqA+TaXrTPcLOeQWYhkewMVmc7HLKMserX1QfwHDtLp2rMtSqJidqEG7D0yKWrS9hoR6jZRQzwtx\n",
       "uYxPawHRVUcr0ThOj9V+NlVlpd+Mssweek4OcQ3TNvYLVU9RTol16DLRYjdfLFz8ZhHjMN1VTtG6\n",
       "XVLYHpCuSlmdeefnfLWRzlE6BC0LF5KGoMUZzds4vmPMdmoDz2gaclZhk4lntEaVeV92GyirYIY+\n",
       "Oy7WMr18OSXE5TLytEfrPG7Q7yDrPZTOiCWNOLmRR06Uy+XMvWPdTV/kUAfeefpeYeedHWIdckbP\n",
       "e7Squ1j1sSRplIW6EZ+nS9qMWH3MKz+kkZ4ehbB941HvltzeCRFj+AhGzZg5i1TeaQD5Tgtt994A\n",
       "q23Qe8F7r7tQhfG9OGop52ipbzHiSfNmeyXiBkdY63GmgJ8pa41vH4ny1eOsDG3rzKviO6b/wX+A\n",
       "uZ6sJn5cw/+1v6Bm0nDuapF+AAAAAElFTkSuQmCC\n",
       "\" style=\"display:inline;vertical-align:middle;\" /></a><br>"
      ],
      "text/plain": [
       "add_cancel_triple_32: forall_{a, b in Complex} ((b - a + a) = b)"
      ]
     },
     "execution_count": 14,
     "metadata": {},
     "output_type": "execute_result"
    }
   ],
   "source": [
    "add_cancel_triple_32 = Forall((a, b), Equals(Add(b, Neg(a), a), b), domain=Complex)"
   ]
  },
  {
   "cell_type": "code",
   "execution_count": 15,
   "metadata": {},
   "outputs": [
    {
     "data": {
      "text/html": [
       "<strong id=\"subtract_nat_closure_bin\"><a class=\"ProveItLink\" href=\"proofs/subtract_nat_closure_bin/thm_proof.ipynb\">subtract_nat_closure_bin</a> (conjecture without proof):<br></strong> <a class=\"ProveItLink\" href=\"../__pv_it/theorems/deb39c4f63a14530a65e7aea44588abbbe504a380/theorem_expr.ipynb\"><img src=\"data:image/png;base64,iVBORw0KGgoAAAANSUhEUgAAAOYAAAAWBAMAAAAm1v2RAAAAMFBMVEX///8QEBCIiIhmZma6urrM\n",
       "zMxUVFQiIiJERETc3Nzu7u6qqqp2dnaYmJgyMjIAAAAcRTyBAAAAAXRSTlMAQObYZgAAA0hJREFU\n",
       "SMe9Vk1oE0EU/pLNJs1uNvFQxB/EpdUKClJa8KBVI6L1oDa9NIqHhGIPFim91EIrWEUwUQp70ea4\n",
       "UqiSQxLqQSqCpT1YqsJSEKpiiaKCFauIB9uDOD+b7m7SWFjQBy/79iUz35tvvjcTwL0FDe5r2kSV\n",
       "vKwBRRq8dYV53/Ryk672An6tLPkttYjQ9lpcAJ7RxKIrzM+mV1i4kWAUy5I1RgeQB3JAhpI05AZS\n",
       "aeReaZEC+ZgqS/r7vCo8QEhFWCePghvMgMa90trInLhrvsz397Ml+0/oXQgQAjZAmc1mR1xRO2J6\n",
       "pT1lBEdZfGZ3aZ23kzmdYOID8CuVuuwKs970YEvTFuc3n+oOEPIY7dKqVPzauJikmNNAF5Au5X1L\n",
       "5RP72Ofp4hqYw6Yf0cLfnRL9rec1KJxRzcIMReco5gJw1C6xafMZb4l6NzK1sVdeM2SH1ga5S9sg\n",
       "ODUoryCiQu61xpvo3f44CR4SGcBr9fUXWubjZkMemsV+a0yYiUx+75i6lruwgoBKwtwStY8kEorI\n",
       "T0Jki2+nydKKx/COBAmyBiNgzbNMhTaRhTwnYNLCjFCGlK9YC9MzhHysvD3bCiZmxr5OcbKdYwaL\n",
       "pFcx2kArFH806D7Ko3zurGrDTNR1w8sgpaaemJNbsqQnZe1p4LAOH+PWY8fEGzpdK/H0eTJVn7hC\n",
       "Qu+AtzHMaIzNvrRh7tLrfYMsuhdL6E4N5QvokR1tGomSPTY1JKirmKTWUIZrCA9IQUKjSMuqUZXi\n",
       "KMcMcd1wzGtYkGZYvzUjbtfbNBtzKeQ8cYwaMlaYXGXD0sQh4i20LFKKp+BNUiaiQjKeSqVUORY0\n",
       "bLqrxT5IM3TQVjSUJmnlLnXuvLPD2StNLygG34Ox65wX8comsMMWdBMVksxrNa/JI6J7Cn6+ThxT\n",
       "LcwVggXsLUBaxnB23bOP74L5PHmj39HdUq8ZeLTEKWT0gD6PEK1PiUKx7eeAwjpwwcBm8aex7hnP\n",
       "bKpKPlTaYV/n+EG0F8SLBOgW5YwcikkLs+M5/9kjHN9Tv9rNadiOsIpLtFjli5zzlV8vXrKf1q3n\n",
       "4s7mA6uxnq7421Ax1O1/k1fVbl0niIK/YMpEzqmb+B8m/IM5/wAaqNihd8qb0gAAAABJRU5ErkJg\n",
       "gg==\n",
       "\" style=\"display:inline;vertical-align:middle;\" /></a><br>"
      ],
      "text/plain": [
       "subtract_nat_closure_bin: forall_{a, b in Natural | b <= a} ((a - b) in Natural)"
      ]
     },
     "execution_count": 15,
     "metadata": {},
     "output_type": "execute_result"
    }
   ],
   "source": [
    "subtract_nat_closure_bin = Forall((a, b), InSet(subtract(a, b), Natural), domain=Natural,\n",
    "                               conditions=[LessEq(b, a)])"
   ]
  },
  {
   "cell_type": "code",
   "execution_count": 16,
   "metadata": {},
   "outputs": [
    {
     "data": {
      "text/html": [
       "<strong id=\"sub_one_is_nat\"><a class=\"ProveItLink\" href=\"proofs/sub_one_is_nat/thm_proof.ipynb\">sub_one_is_nat</a> (conjecture without proof):<br></strong> <a class=\"ProveItLink\" href=\"../__pv_it/theorems/3200ba8710c6f8770b6cb79d8a61bcbc8159d4170/theorem_expr.ipynb\"><img src=\"data:image/png;base64,iVBORw0KGgoAAAANSUhEUgAAALcAAAAUBAMAAAA9yLHsAAAAMFBMVEX///8QEBCIiIhmZma6urrM\n",
       "zMxUVFQiIiJERETc3Nzu7u6qqqp2dnaYmJgyMjIAAAAcRTyBAAAAAXRSTlMAQObYZgAAAoJJREFU\n",
       "OMuVlU1oE1EQx//JZvOxX+YgHgR18etqaUBBI0RECoKQU4ooNJQWLYjmoh4UWbyYKEpO1uNKD0oO\n",
       "TdSDFARj60HjJQiCCmpBe7CCtLfSk/P2vU03m921HZhkMi/7e/Pm4y3wf8l0uQaKWg9ZmCNdZMa3\n",
       "SPhTocEy5fs9u/bAxpvVQpJ2/cAcy5Hw30IH5ZlNML/zvlyGsgKFwn7Ezm1FsfUhrgOiXLpCcM30\n",
       "uS8U9wJZYB4w2HorCp6qcw2QH/SwkhUx3Ll+yzEm7iaLqACPyddpNKYjszItNASOX44p37bdIpSU\n",
       "ZQY3CsBatXpz8DFtw9wnNJMf3hkEX+B1tHsVVs0Sg2uUykmgNgiXPAUSeqJurATBv/uaZgpvdZPg\n",
       "OlX0pFPXCPgNrsouSFYQ/KVjWh540p4kuEqaQtw7IKP5QnxHH3w7V2kdKdYYs3+ZLG3Ax5yU72Ze\n",
       "AVfKBlVZpnNq3VSvt17luqrVwVEtdyR3zAePWWgWgyJ34Blv5DgvC3hmseS6P881oH6U0A5KS7ON\n",
       "14HdMuKYWS9cb9FeCUoLahP0MXNwCQk2Keq5s2Y7qKDNFi77LxJPQYd7TuoQvLd4QfGCdlCuyusw\n",
       "nIuo2PnUD1/gmjb1a5ov8kMMnuej1hvEP6wfCCwRBtuoTNKQXMEMh2usQT3wEa7K+IGH+/vZh/f8\n",
       "pF7gtVUunhYdsUpRswY0WIV02j7WipcxWq1WTbWY6dJR5E2Nv0Ot8O/EOzH+rjxxjWY9/dVO8shx\n",
       "ytzcxSVm2QxZmHeNWH3sDDTnHAXo7f5/1RA4xO79HXai3mgmxp8fB+6x7NI9VN7KyyJs27Qvk3HK\n",
       "+VZfc3pYNb4A/wA5s67dRJBDGwAAAABJRU5ErkJggg==\n",
       "\" style=\"display:inline;vertical-align:middle;\" /></a><br>"
      ],
      "text/plain": [
       "sub_one_is_nat: forall_{a in NaturalPos} ((a - 1) in Natural)"
      ]
     },
     "execution_count": 16,
     "metadata": {},
     "output_type": "execute_result"
    }
   ],
   "source": [
    "sub_one_is_nat = Forall(a, InSet(subtract(a, one), Natural), domain=NaturalPos)"
   ]
  },
  {
   "cell_type": "markdown",
   "metadata": {},
   "source": [
    "Need to deal with cancelation in 3 operand cases in which only a single term remains."
   ]
  },
  {
   "cell_type": "code",
   "execution_count": 17,
   "metadata": {},
   "outputs": [
    {
     "data": {
      "text/html": [
       "<strong id=\"add_cancel_general\"><a class=\"ProveItLink\" href=\"proofs/add_cancel_general/thm_proof.ipynb\">add_cancel_general</a> (conjecture without proof):<br></strong> <a class=\"ProveItLink\" href=\"../__pv_it/theorems/8c9f75ab13b5a3b7d04739302d528209876b35680/theorem_expr.ipynb\"><img src=\"data:image/png;base64,iVBORw0KGgoAAAANSUhEUgAABZgAAAAZBAMAAABOV1YtAAAAMFBMVEX///8QEBCIiIhmZma6urrM\n",
       "zMxUVFQiIiJERETc3Nzu7u6qqqp2dnaYmJgyMjIAAAAcRTyBAAAAAXRSTlMAQObYZgAAC5RJREFU\n",
       "eNrtXH+MFFcd/97uzv6Y2d1DWhWwmO0hhALF9YitLb+ONu1porCHiUBrvcu11aCga9HDUmK3+IdH\n",
       "G9ox1wCSaKaQlgrS3WINYmpZ71pIUXBzxFoaTo9A6Q/tlfBLjqPi+zU7897Mzr7dPeJJ7iUz+703\n",
       "3/3+ep/5vu97M3sAcu1bq3UYbaNt5LbA6rWyrOnRaI22Ed42/j+A+RfsGG01NM1lZo0UrhXH9lIw\n",
       "9+OPPgkwSzIOf1Mz9LBaMHNVFD3/SY+LLxpXxbfHnFlCeSxZ3hz5tvQ6+rncxeERhUrT72ocC+oE\n",
       "zH/Cf78vAWZJxuFvcZ0eNjB7Z5RAtZpOeFx7w/urTdU65zKA9bny5lSgdIh+vOC88t7IyrGm37LN\n",
       "5pjaT8C8GU83GQkwSzIOfzvCDum2rfSl3a4TVYKPjtUhn2FLJxVvYcUBtFm2yODNqU1p4BL9jDrs\n",
       "iCWlbXW/sFs+xuWDb/ktKYRzrJuAOY4kRHMSYJZkHP72MDsqQn818TSjUwWYY9WCuTiANssOCObU\n",
       "pjTKChl1jMgU0kcWmA9UJoRz7BkC5tjBHTs2ySwAJRmHvUXS9JBfEZytEsxmdKoA875qwXzAxbIT\n",
       "gjm1KS0WMidFpk0wssB8ojIhnGPxJrKbcbGzc60MmCUZh735kvSArp4baRrb2kgS1/Hph/XI3P36\n",
       "whuO7EdFNCZh94wEHPn3rJwyvbffKxSROY0THPGMt0/K8QGONkxmd38DKbAWjn35Peg6tjxw/NCc\n",
       "ldikY8tBa+iG2PxVs2HxH2Z6jlZRmL2dapgtWjZ5yBws7Yheq9Ku7lZzNu0RmSaJgZAAc3EQOGB1\n",
       "N6QqwCEXCFOy5becEMGxaJKA+UGA9VJglmMc9hYu0CMwHj6kPfkF5KNudrbQbAQmwMea1FUAmNQe\n",
       "hlsAVpF1etorFAv0+GlHPLPvq4N8gB+BJynlh4nk87rffxRYAwuMuuthexIIuUf3t0EoiTdcQl44\n",
       "sITZy97/GFldsCzMyots7qZFhRqVoqA9ZYLv7wRIA6SRpLZBDER5MFuDYLd5Uy7cL49DPhCmZMtv\n",
       "KSGiY7F+AuY7yVLQR3P22+i4MeEOZsro3QIDUgD1n3fpnJ9y5Q3l6PFMAb4AoGQgkptHMxey6QaA\n",
       "sXAKzbhNhNQ+jotQBOYFBnhNjOpE8GdoarLFc58BZ7iOUB6+gzUCHGWrsXfQPZSHukS8DbRzlHwx\n",
       "hYpbhCt0V/m8cECEQZx3UrsE9QnRMhTlpdicrcauWpWioM0zR3SPyPRIMRBLZcFMB4GBpYi4tRDM\n",
       "FWWUxSEfCCbZ5reUENExLU3AHAIfuv8Vmh9w5g6ZOz5L5jT5PmGBmTKWaT1yi//TLp1Z+x+/29/B\n",
       "4lfXRI/5BjwEyqw0qAxyaGyVs319K3GtlU1SUpkxX8dgDl28yang8MDA9wcGTuGbCSEBiV9GU9U7\n",
       "nx4YaEPkPFAvcx1IJdEIYLDVGPpy69y+NwqoXlPPUhIW9wxiXMGj65zPJQRhKOhkM4lkR5w40ABm\n",
       "86JlefjqrYj8nFkT1qZ0rTmirSLf9WYgiDr717zkPcTAwtkMTIatt2TwbYGwJNv8lhXCOaacJmCO\n",
       "FoSJKouVqS/PKmiZg3C7BWYHo1v7p9wazS3Fv8I+d/bMhWcfh2/keTCPAxXl80CapDO2ANCG2MKh\n",
       "PkNI9V29lYBZPXwl6XFf12Ugm3KknRMQGOI6xpHJJm1bjSFV+3Js8XGRki+sVyiufv3hWa+kNq7E\n",
       "NvOinGgZcrYZkR1Ti3bVoFQ9x0bUFcwsEM2ymZkOgjOaYMkom1THuUm2+S0phHeMgTnS/zWenQh8\n",
       "c+8O0Hr9kLfA7GB0a4NSYI4mSyf12BNbDDiaBy3PlRkoaWqnKbTCNHnE86CcYYONMjMmw2lo3YLA\n",
       "nNgCsXMeoUDZcJ9zpD6iOcaa+i5bYGZL53+h0CXonzhJYvKnoAwaoaQvYsA/mkrjgApzbDMXWKIS\n",
       "LENjoJ6LMBdqUoqD1myNK6uZ21iZYamTAjOT54xmBWAWAsEkC4ZICOEdC9AyA9Y/gOgphIWs5nuU\n",
       "KRDAY6fduyxhAzNhhG1T3nZ5TGF2KmemGGS96hKV7gazyGic6dyv3tbAkvqd2LR7UbrQuQWgOgTB\n",
       "/r3E6Gwuz8AMPwbYympmTNajkDydOgXJOwBWeoE5B9/V9Dva+CE8hysxHt1oNqRgzuZMXIX6QWXl\n",
       "KyFRWAfvirf5Awn3J5OcsK2zBTA3qRNdLMPjEzutDkVrVMqChkeULQDtbYNdnRyYiTwKFstmdEei\n",
       "+lQ6qfKBMMHMG1IWzKJjbAEIv8ElRD3GoD+Ap/8PXsoacaIndfCvdjBjRvWHCspe3xZKYNKJv+tb\n",
       "QxYHP1DGiDyovmlhLwhsT7UaEDScIvASgIiJ7dK5LI6PdfC3tjyB1iL6ggyeZVtzqBA6rqtrKYkm\n",
       "q7/cZ8yDJFoArsd7BThM/ebJilE4EeuIQv4SP4Qr4Sd8xy2gfp6BeR81F1UwyhD4jfh42J6n5DiI\n",
       "nn/L3+9Ha7GwTjVZekVhyYV8UIKFcNLFMjyowQycj1aqlJxsSmnQ8IgCzHGZCi11/L6OpzwKFstm\n",
       "fxtsSzlwWAyCKcO8wAeCSRYMKStEdMyfp2DGy+ktZKn7qyjOVRdS7ImwlooW64E0Y/QnlTR8fYKw\n",
       "OYE7waA2Ic1ogZwSedAqWGHULGgB5Y+GKGIMaEn2jFbbaYEZgwkfzzUsa28iVJC87hR46iIqPu6f\n",
       "YcCp3iloqsVk5P4ZWz+A4Ar9y73H8OzbgTHfZp5sMWqfvPEzkZ1pfqS2zSgIT1EO9ZplBl2ZfPHK\n",
       "E8iQxoMQX9mApylMbmw8OLMA33w9cOjmV01NHTaVdmGqvl9IA42HwGkZGdRwDiZNq1QpPVlKadAu\n",
       "pMydKrGetNTxOy+e8rbsEdLnn/sSLhVCByfIusAHwsz5vCFlhYiO4c0RDOaYQZBuTunKWBS7JZ2d\n",
       "nQktFSmkbWDGjHU5HxK9ho8K7aSrNXSbor/BwQOfslFocggZThF+9D3lR52d6yK/te1gcY+zAy7b\n",
       "x2VfyCmxfRlOlJhcuQ6qcZVj4Sb9QDIhTO0yj8eaS6wWq1JKRhRUR+Ssx9nSC0AzLbrYLF1m8IHg\n",
       "JVcmxObYdrDeZ1YvEfTUI/d8mZYIBGlmhrsSNjCTCUgPv2WIQCWduzFrvYGBjMU4wIyXhn24alEH\n",
       "YcMOEcxEROjpIwDktrg9QTM9btyLRjWCeQen81nmvCHuHBoCmO+JnK8aV7z0QSnLagYzp5SMqOeL\n",
       "Rs1QIhKu8hhYBJub3T0p5eKgq8rKhNgc67aBWevPRx4HNP1vNsKJJT6IYnNjTRDLC2Cu01u/QoC6\n",
       "2UBfYCfS+VISUSHjTXSON0ES81gc6HQS/JF70rhvvHK+gMEsiLgP6o7uAniNPKx8zQo+LgrDZhLR\n",
       "XMDcUeWzxVeiUkkO2Xw5LOAo1FadSmWMHN8e18dHVSolI+r2Cuh6T3UeG6t5WZMrDcSeKh1jr4Cy\n",
       "+2OFrqA6YCq05OJ6cDIAzt/NJ1metIE50L57LgFzS04ZDy06PuVIZzCF+1bk0TnS2EuyNxJJObDw\n",
       "rpun4U0SRN09fRIBs0PEQvxILoxrFPXwuw8WE0HGejk/cusFR4K5+8ry6gb5udclmIjG9rnCg87v\n",
       "XajuJ5G+jBRb16PtLk9Xq1VKR9TlVYTnvdR5pP0VuqTJlQaiQiGWY2Ed+J9NaaQYYptmPlQz27/H\n",
       "J8Q1UGQsUtsDJpUr8mh24UBfIWV9uMwQRTTEd6Lz1M51vM3X0M+mwon/lebYyPrZ1PAFgjh2FAQw\n",
       "7w1+aYLrT8UcYF58NmdjZFRwGqPoGfPQn2ZR4fRWMkxK+exsp4jbYq/CNd0e+JkBo+1qBcIO5kJw\n",
       "vw4xkAAzuSFKUjYRBZ76+S+5PjcR13ZbsXwUx1cvENK/zl49HP8349hto8M42q5SC6zu+C/ix4u0\n",
       "M4Vp+gAAAABJRU5ErkJggg==\n",
       "\" style=\"display:inline;vertical-align:middle;\" /></a><br>"
      ],
      "text/plain": [
       "add_cancel_general: forall_{i, j, k in Natural} [forall_{a_{1}, ..a_{_a}.., a_{i}, b, c_{1}, ..c_{_a}.., c_{j}, d_{1}, ..d_{_a}.., d_{k} in Complex} ((a_{1} i repeats ..a_{_a}.. + a_{i} + b + c_{1} j repeats ..c_{_a}.. + c_{j} - b + d_{1} k repeats ..d_{_a}.. + d_{k}) = (a_{1} + ..a_{_a}.. + a_{i} + c_{1} + ..c_{_a}.. + c_{j} + d_{1} + ..d_{_a}.. + d_{k}))]"
      ]
     },
     "execution_count": 17,
     "metadata": {},
     "output_type": "execute_result"
    }
   ],
   "source": [
    "add_cancel_general = Forall((i,j,k), \n",
    "                          Forall((a_1_to_i,b,c_1_to_j,d_1_to_k), \n",
    "                                 Equals(Add(a_1_to_i, b, c_1_to_j, Neg(b), d_1_to_k),\n",
    "                                        Add(a_1_to_i, c_1_to_j, d_1_to_k)),\n",
    "                                 domain=Complex), \n",
    "                          domain=Natural)"
   ]
  },
  {
   "cell_type": "code",
   "execution_count": 18,
   "metadata": {},
   "outputs": [
    {
     "data": {
      "text/html": [
       "<strong id=\"add_cancel_general_rev\"><a class=\"ProveItLink\" href=\"proofs/add_cancel_general_rev/thm_proof.ipynb\">add_cancel_general_rev</a> (conjecture without proof):<br></strong> <a class=\"ProveItLink\" href=\"../__pv_it/theorems/65dc1184376dbd55989ca31d61ffc6179ced7a920/theorem_expr.ipynb\"><img src=\"data:image/png;base64,iVBORw0KGgoAAAANSUhEUgAABZgAAAAZBAMAAABOV1YtAAAAMFBMVEX///8QEBCIiIhmZma6urrM\n",
       "zMxUVFQiIiJERETc3Nzu7u6qqqp2dnaYmJgyMjIAAAAcRTyBAAAAAXRSTlMAQObYZgAAC45JREFU\n",
       "eNrtXH+MFFcd/97uzv6Y2d1DWhWwmO0hhALF9YitLb+ONu1porCHiUBrvcu11aCga9HDUmK3+IdH\n",
       "G+wYGkASzRTSUg/pbs8axNSy3rWQouDmiLU0nC6B0h/aK+GXHAfi+zU7897M7r7dvUtOci+Z2Xcz\n",
       "3/3+/Mz3fd97swcg1761VoexNtZGb/OtXS9Lmhzz1lgb5W3L/wOYf8mOsVZD01xG1lDuejFsHwVz\n",
       "Hn/0S4BZknD4m5qih9X8qRER9MInS9x8yRgR255wZgnliXh5deTb8hvo50oXg0cVKk27qzHMrxMw\n",
       "/xn//YEEmCUJh79FdXrYwFw6o/iqlXSyxL03S3+1qVrjXAJYnymvTgVCh+jHi84774+uHGvaLdts\n",
       "hql5AuZteLhJSYBZknD421F2SLedxW91y3gHtFjFGbZ4UnFn1i0G0KbZEoNXpzahvsv0M+zQIxKX\n",
       "07WsEZI+7i7DeYlRERPOsB4C5ijiEM5IgFmScPjbo+yoCP3VgNn0ThVgjlQL5kIAbZodFNSpTWiY\n",
       "FTLqOJEooI8uMB+sjAln2LMEzJFDXV1bZSaAkoTD3kJJesjPCM5VCWbTO1WAeX+1YD7ootlJQZ3a\n",
       "hBYKmVMi0VYYXWA+WRkTzrBoE1nNuNTZuV4GzJKEw948cXrA5t6baRrb0UgS14mZR/TQ/AP64puO\n",
       "HkBFNO5C96wYHP3PnIwysy9fyhWheY2TnPVr+5QM7+Bww1T29DeQAmvx+Ffeh83HV/pOHJ63Gqt0\n",
       "fCVoDT0QWbhmLiz94+yS0SowsytyumGuqNnUITNY2lG9VqGbe1rN0bRXJJricER5MBeCwAGrpyFR\n",
       "AQ45R5icLbvlmAiGheMEzA8DbJQCsxzhsLdgjh6+ifARvZJdRD7q5qZzzYZvEnysSV0DgLvao3Ab\n",
       "wBoyT0+WcsUiPXrGcTP9gTrIO/gx+BnteWEy+bzhD1d962CRUXcj7IoD6e7VvW0QiOMFl0ApHFjM\n",
       "bIqo/zXSuqBZkJUX6cwtS3I1CkVOe9oE3z8IkAZII0ltk8MRZcFsBcGu89ZMMC+PQ94RJmfLbikm\n",
       "omGRPAHz3WQq6KE5+x103BxzBzMlLN18A1IA9V5wubgw4UobyNDj2Rx8AUBJQSizgGYupNNNAOPh\n",
       "NBpxm0hX+zguQhGYFxlQamBUJ4M3RVOTfdg24Czn4EAWvoMlAhxjs7F30TOUhbpYtA2087T7UgIV\n",
       "twhX6KnylMIBYQbRBKeIdhnqY6JmyMvLsTo7jD21CkVOW2BGdK9I9FjBEctlwUyDwMBSQNx68GcK\n",
       "PMrikHcE42yzW4qJaJiWJGAOgAc9/wrNDzhzB8wVn2XzmjyfsMBMCcu0XrnJ/xmXi2n7H78/0MH8\n",
       "V9dEj4UGPALKnCSoDHIotsq5/v7VuNZKx2lXmbVQx2AOXLrFKeDIwMD3BwZO44cJIQGxX4FVoakK\n",
       "u3YBqFdI7nr30wMDbUBEEokABpuNoS+3zu9/M4fqNfUc7cLS3kGMK3h8g3NfQmCGnC4okod0VtQs\n",
       "C1+9HXU/Z9aEtQldb0a0VaS70XQEEWf/Wil+jzCwcDoD42G7WtT5NkdYnG12yzLhDFPOEDCHc8JA\n",
       "lcbC1Ffm5LTUIbjTArOD0K39S26O5pbiX2Wfu3vnw3NPwjeyPJgngIryuS9J0hmbAGhDbOJQnyJd\n",
       "9T29lYBZPXItXuK5rktBOuGyzOwb4vLQBDLYJG2zMSRqf4ZNPi7R7osbFYqr33x0rlRSm+CmCOKz\n",
       "JCNqhoxtRt2O6TGoXah6nkXUFczMEc2ymZkGwelNsHiUTaoT3Djb7JZkwhvGwBzKf40nJwzf2tcF\n",
       "Wp8XshaYHYRubVAKzOF48aQeeWq7AceyoGW5MgMlTe0MhVaQJo9oFpSzLNgoM+NuMAmt2xGYY9sh\n",
       "cr6EK1A23O+8eZXmGGvou2KBmU2d/41cF6N/4iSJuz8FZdAIxD0hA/7ZVBwHlJmoSH2OJSpBMxQD\n",
       "9XyImVCTUOy0ZiuurGZuY2WGJU4KzIyf05sVgFlwBOMsKCLBhDfMR8sM2PgQ6k8jJGQ236tMAx+O\n",
       "nXb/ipgNzIQQdk57x2WbwryonJ1mkPmqi1d6Gswio3G2c716ZwNL6ndj1e5H6ULnJoDqEPjz+4jS\n",
       "6UyWgRl+DLCD1cy4W49c8kziNMTvAlhdCswZ+K6m3yWMqOdxJWaP6VU8GlIwpzMmrgJ5UFn5SrrI\n",
       "rYP3RNu8vpj7ziTHbMdcAcxN6mQXzXB8ImfUoXCNQpnTcETZBNDeNtnFyYGZ8KNg4Z5IVJ9KJ1Xe\n",
       "ESaYeUXKglk0jE0A4be4hKjHGPT68PD/4ctpI0rkJA79zQ5mTKj+UEHZ69tCCUwu4u961pHJwQ+U\n",
       "cSINqm9a2AsCuxKtBvgNJws8BSBsInt0LovjYwP8vS1LoLWEviCDR9nWDCqETujqetpFg9VfHzAW\n",
       "QBxNADfitQLsprx5snwUjEU6wpAVdiVWw0/4mN4G6ucZmPdTdVEFowyB14hOhF1Z2p0A4Qtve/Ne\n",
       "NBcL6lSSJVdkFl/MB8ufC8ZdNMNB9afgQrhSoeRkE0qdhiMKMM9lKLTEcV8rzY+CxdLZ2wY7Ew4c\n",
       "Fpxg8jBv8I5gnAVFyjIRDfNmKZjxdHo7mer+Ooxz1cUE2xHWEuFCPZBkhN64koSvC2u05CIYVCck\n",
       "GU2QEyINmgUrrDcHWkD5kyGyGAdanO3RarstMGMw4eP5hhXtTaTnJ687+Z6+hIqPB2cZcLpvGhpq\n",
       "cTf04KwdH4J/lf7lvuN49O3AmG8zTzYftU/d8pnQbmH1buesHB+68OE+s8ygM5MvXnsKKdJ4CKKr\n",
       "G/AwhbtbGg/NzsE33/AdvvU1U1KHTaSdmaofEILVeBicmpGgBjMwZUalQunJEkqddjFhrlSJ9aQl\n",
       "jl95Kclv+14hff6lP+ZSIXRwjKwbvCPMnM8rUpaJaBheHMFgjhgE6eaQroxHvlvW2dkZ0xKhXNIG\n",
       "ZkxYl/Eg1ut4r9CLdLaGHlP0Nzho4FO2HhocAoaThRd9T/lRZ+eG0O9s0zNuO9vnsnxc9oWcIsuX\n",
       "Qan9LipxjbC/Iv+CFz90byo2jHY75y2OTZ0qhZKIgurwnLWdLT0BNNOii87SZQbvCJ5zZUxshu0C\n",
       "631m9TJBTz0yz5NqCYGfZma4J2YDMxmA9ODbhghUcrEbk9YbGMiYjQPMeGrYj6sWdRA2dYlgJiwC\n",
       "zxwFII/FnTGa6XHjXjSqEcxdnMzniq0cGgKY7wtdqBpXHLPCBLmrpGY1g5kTSiJa8kWjZlddi/Fj\n",
       "YBF0boZiprneGHQVWRkTm2E9NjBr+WzoSUDD/zYjGFvmgTBWN9IEkawA5jq99SsEqNsM9AV2Ihdf\n",
       "jqNewHgLnaNNEMc0FgU6nQJv6L4kvjZRuZDDYBZYPAB1x/YAvE42K1+3nI+LwqCZRDQXMHdUubf4\n",
       "algqySGdrwQFHAXaqhOpjJOj2+u6fVSlUBJRt1dAN5YUV2JhNSurcqWO2FulYewVUPZ8rNIVVAdM\n",
       "h5ZMVPdPBcD5u/kUy5M2MPvau+cTMLdklInQouNThlz0J/C1VVl0DjX2keyNWFIKzHzzrTPwIgnq\n",
       "3TtzCgGzg8VivCUXxDWKeuS9hwuJIGW9nB+6/aIjwdx7bWV1QX7+DQkiIrF9vrDR+b2L1f0k0pOS\n",
       "Itv8eLvL7mq1QmlEXV5FeKGUuBJpf5UuqXKljqiQiWVYUAf+Z1MaKYbYopkH1cz27/EJcR0UCAu9\n",
       "XT6zlynQaHbmQF8hZddwmSGyaIjuRufpnRt4na+jn00VLdNHvEVG18+mhs8RxLBjIIB5n/9Lk1x/\n",
       "KuYA89JzGRsh6/lnsB49Yxr60yzKnD5KhtlTPjvXyeKOyGtwXbeHfm7AWBspR9jBnPMf0CECEmAm\n",
       "D0TRno1Fju/94lfcNTcW13dbtXIMxyPnCOlfZ68djv+bcfyOsTCOtRFqvrUd/wNnQpJxlA/aWAAA\n",
       "AABJRU5ErkJggg==\n",
       "\" style=\"display:inline;vertical-align:middle;\" /></a><br>"
      ],
      "text/plain": [
       "add_cancel_general_rev: forall_{i, j, k in Natural} [forall_{a_{1}, ..a_{_a}.., a_{i}, b, c_{1}, ..c_{_a}.., c_{j}, d_{1}, ..d_{_a}.., d_{k} in Complex} ((a_{1} i repeats ..a_{_a}.. + a_{i} - b + c_{1} j repeats ..c_{_a}.. + c_{j} + b + d_{1} k repeats ..d_{_a}.. + d_{k}) = (a_{1} + ..a_{_a}.. + a_{i} + c_{1} + ..c_{_a}.. + c_{j} + d_{1} + ..d_{_a}.. + d_{k}))]"
      ]
     },
     "execution_count": 18,
     "metadata": {},
     "output_type": "execute_result"
    }
   ],
   "source": [
    "add_cancel_general_rev = Forall((i,j,k), \n",
    "                             Forall((a_1_to_i,b,c_1_to_j,d_1_to_k), \n",
    "                                    Equals(Add(a_1_to_i, Neg(b), c_1_to_j, b, d_1_to_k), \n",
    "                                           Add(a_1_to_i, c_1_to_j, d_1_to_k)),\n",
    "                                    domain=Complex), \n",
    "                             domain=Natural)"
   ]
  },
  {
   "cell_type": "code",
   "execution_count": 19,
   "metadata": {},
   "outputs": [
    {
     "data": {
      "text/html": [
       "<strong id=\"subtraction_disassociation\"><a class=\"ProveItLink\" href=\"proofs/subtraction_disassociation/thm_proof.ipynb\">subtraction_disassociation</a> (conjecture without proof):<br></strong> <a class=\"ProveItLink\" href=\"../__pv_it/theorems/c401178ec81c519e76c2f3acdc6c2452d6c196ee0/theorem_expr.ipynb\"><img src=\"data:image/png;base64,iVBORw0KGgoAAAANSUhEUgAAA8kAAAAyBAMAAACdX4TtAAAAMFBMVEX///8QEBCIiIhmZma6urrM\n",
       "zMxUVFQiIiJERETc3Nzu7u6qqqp2dnaYmJgyMjIAAAAcRTyBAAAAAXRSTlMAQObYZgAAC7ZJREFU\n",
       "eNrtXA2MFFcd/+/H7MfMfiDShq+a7Z0g8lHWI9JWoCwaSmzasoextBpzm6tVq7SuoiRtiV3PRA5r\n",
       "dRIaCtSUARKgl4YdaA3BtGEFA5HysYGoFbmylXLaxl4JtJW7k57vvZnZnZk3M/t2727uNrmXsPfm\n",
       "vTfv9/b99v3ff/7vxwCwJc/gYAFGI0VSMJ7qSrvVCRwcnMB6i+fQVmlUxnpynK46k79E/vBbX2Bn\n",
       "OT06Q/VmxumqN72l/uXGPMv7jZfhohug9aMccmlamHBChQZhmZ9kvN5ruArkRgZ1L/A/z9Y0TK15\n",
       "QKzaZFiSPY7F5I15lkNJ4/W7xu/qvObq9tsQSixZ0x1ac75UtYn9PlrLz6pUgyEc8ywfNrp80Vrm\n",
       "nrdvLCScbsQocVlfcsCuqVZRbn7EFsHYo0XaZV9F4x9hmYFgoTFYXmsatljDvdF6WcYoK6WaWC43\n",
       "32GLsLLaM8q5WljewTIDQl9DsBztM14/X5MdqJdljHIcamK53DyWskM4Xo2Sa7WwHEuxL5KxznLQ\n",
       "5F41Ywd4cctU5WpnC9nO3p5zWgwvOSbeP/3cMbRRb7rwKAhNRyC6dO0iWPX6bY4sbzp6K73EMEpP\n",
       "06JaWC43jyRNCJGmGUrmErx+p8VwcRYOzE3Auf8ukLk5Z0uOLB9pShtxnNNFqRFYbjP9Yp9F/5aJ\n",
       "sSsAD6JcYZkytEX54grJPxU+leLXgv9JWCYdFH0ZCCaBz0HQiWX/FPgAPZMnKRT+EykvEhAmlpXm\n",
       "cBlZn5IRIfwU/AY49GPlB7zP3aCHCzgrPAELycJDjxBZJ5afl0Ml70Ri5QjO6V6cLtnOXz7RCCx/\n",
       "wXT9FJqtW8CXg6/djiZQvksxXmhipgNMhB5kpVOeAngS+9P+fswymkuvE8s7inAHmgWRQhH6IZ7A\n",
       "IGwsk+YAyL8SskYE5AD9gFuQxU1m80V6uCQr3IR3bcTyMgkSTiyvh4AMPyH9Mz2XxUqNwPLNpmv0\n",
       "AOhD9KGZWIH4hqvKV8kAd627+zFkEyGfbFvS/dcirDrah1mGpztofy3S2/uvz/T24qDaUgl+rHnk\n",
       "ZFn0plWUEuQLGERZMD/q7e2hR1epUJqTGb1CISCTgSjxfVqbecNwlSw3d6mIWQ5e/7wjTD8eaH8Z\n",
       "p2ry9jUAy9wNmmVPDvJpwjJeQeqDqDCg7HwQzx3GDyz7NnIKyy9/cM1pLU8G/iO6dhLpc6Wsssyw\n",
       "lpXm+tmvIKgsB9s7wGK4JMv/W2wjLPOnB5MOMJ6c2hkry+EbDcCyt4+22GjNHAaF5VBGmbYCcFfV\n",
       "aUNrGU/vBuD6pGDSG5bgYsqeZf5/IFwB/0waJV7Eq5CZZdKcb5Y1DvQIKjH51PaUxXBJNpSFtm2I\n",
       "5cQ2iH7oAEPsRSS5KqPhKPtyTxVjOMZZDpmHh/yivAyPCyIhIC8X1GmDnyGPW9nogiXgE4i9vuWx\n",
       "jM+fsI6PaRwMQKB0KBKXKJR4Cu3/NbCMm/vwIZDZ+0KLSSCUXLQeLsnG0S/3uXQPJL8M8Jjzjwnk\n",
       "2D/u6a/gVEkbGoBlj+lBCo4i5hPRdRGFgJXKqQK2zG0yfAneFvn1wA2AT5oMkY/O+0o+5H2F0Mac\n",
       "x1OCP/hPjBx0wN8yhW0HaZRAEcdWV1CutKkfrYI0fymC1pivYERYCPwXCcvfg3i6QA+XZNH3PPMt\n",
       "6S5IIu9row5G+ajAoAeHXen4IyRbYJrBMyrLpJ9uFpZjxIMvushy3rxJYZ+rfcbmzyoEBMiw/b+9\n",
       "LgP/8FwJes7OREZxd8sJ2Nxy4rYifOfP/lPz/oQnNqN9rDNysLvpofYUdFigtJwCi7W8ztRPmX7S\n",
       "PITmJpY2IkROnVXM6zPgbZEshouz4Yfn7nwfAmvEe89eSOlhghkj/snuBLTOwh5AjG3VXUwrLL+B\n",
       "L95jYTlCepdcZLktAXYRzhUWzS8xd2yITPH9aRsUZoutGlR03x4rBL/lYw/7cA0ws7gJOhyWGUQs\n",
       "b8GuWI6FZdJqi5sW+7BsG5o+OKRp4/W/VaFUsEEpg3TZdWSoaIXKKYIRYags62E6uGyC8bRCtYaI\n",
       "Zbw4IzILy2TFv+Emyxcps7RRi0w+3U43X1cfCr9GtEaxBHFIs2xOBMO3f2wV66hzuO9Ce5rx5BGZ\n",
       "l4zCcvREVxfDIQBm+UJX10tZN1meT4U09jq0vnvw0WHC3VvfbWh/D7Efmg1puKw48ZzqY1/v7FzP\n",
       "xnK8s3NDwU2Wz1BOwBhWBAW+OhXg7y7NDCuOp6Sy/AixUGrE/jL6d2vChuVAmuE3dH+JrYwlLXXT\n",
       "1RtqChwTx96gPFmV5a8QI69G7PEGHdSiRasXp7w361j2J2Ff1X6tjsQiNUg8hF9/t7wb/hDG09BS\n",
       "cILKchC8RgOVxyuIf21BUcidQA/vuqhIFuZV7Tcms5VZuUEIk39Q4v4zzvKwsxwpBqmgAMCbh7pA\n",
       "OOuDgp7lU1Dd+YqLbGUWCWNGfwfwWkNa7LHJsmaxw6UHQI3Yk3g7HOVmYuOMjOc3H0oYWH6Ry+A4\n",
       "z+N03GXXzMvac3jT9+ln80rZkSZ6KGoZwVz+ezSisvcljvM0xH1Z875g47fRgiYRexJvh/dfzUsk\n",
       "mimkT/zFwHJoM9qy96TbJAgYVxn/U64flGDp56Rmcy0pA/LcEEy1UrW4DOsBCOZ5vfc4Pz06Pnaj\n",
       "JlqL78loLL+CVrUSsSfxdvg4rapGhXSk7DcRlgUsnlgAq4H7o5EpX5JDnUjKQ+Nb5lpcpubuAI6q\n",
       "RWXwCqiYf9CPlD41dEN1r9fHC1OHsbPaq2t18ynbF09qLGMtixqxx/F2buIzyL3u7OxMCOlwMatn\n",
       "mYgzpgGy7kEjUx65/P+ZJsFCcy0pU9I0oO4lZVgbRzBf+Lqu5nCKDvwYvtXIqO51+vhoxrGlv6bO\n",
       "6qgeqhafnEgTlqNSOWKP3SRvrjUMAWUtw/KEgeXzqGUfPNtlZiovhs5LB0jbfsSamUdc1k1sf58F\n",
       "y7jsifuSCqZvJ5b6aPu5mUV3VPdxmRViF0P0SXbEHWEtvnZaocKXCuFf4Xj7FimUWO2FCCY1moKo\n",
       "YV8maQr3YREztUVCd6gfHrHtPng1CejiyWgO11bqlLLwN7K47B3wUbW47JZtRQUzvDhdGWvczJM7\n",
       "qvuq+vhyOle9iaEz17X45LynzDK/RuSm4Xh7qxwTAzPwcSh6pHoHIEOxfPecZsJyq8xNgVYRf8j+\n",
       "9gNLcGgM9fHASbJaUU6pE9Uy5EGj3KZ5s6laVOb/J2YEY8LLvb8sQwXNFsgd1f1xVgQnobxlZ65r\n",
       "8clTikErIpDdWbUgXrRHGnZeo7uLrW7F1ii5PX7Sh1or6PsF5dzLttabeE+mMcFnlrC5o7qvKO53\n",
       "zrJCYBLK053BKGjxSVzJwPIhHG8XbGyikWVu/iJdSzUXmK368rhW59UrOXzCaVvrEy9YuUrRflOB\n",
       "K6p7neI+6SnSCGxCeUNncNmIO7JafF2aTLFcxPH2KLCwTHq0yEHRLrf1Radam8QNmApcUd1XFPdR\n",
       "UXGO6hHK6zsr2z23tfjhqxTLzkGUIar7LtxZz12jorqvKO551TmqWSi/j/SFF3BFjz8aWvyGUN3D\n",
       "UprlkVfd6xX3xy0Q2ITyhs5oXHBFix/KNgLLK1OUxR551b1ecX/JAoFNKK/vTDkfALe0+Dr0RCOw\n",
       "HKT/N+LIq+51int+AGgENqG8vjOf+lIm17X486VGYNnsZLuiutcp7tU9oQahfFmPr+9MOR+AYdLi\n",
       "myX/PnstvuLXjPk3Tkw3Xrqiutcp7n1ZKwRHofw6q85CRSPu0LT4Jsm/vRa/Qd44YX57jDuq+wqA\n",
       "ece4VOfX0GQULmvx1aOQMc+y6cjGHdW9BsBJ29PDw3KrJe6Ia/H3S43Bcvgm47U7qnsVYHvhF8OD\n",
       "ALOsvtqIa/Eb5q1u5jXrjupe85yai8OE0MHccji1+IFko7DsyxgXQCMqgoge341k0uK/CTWzPFpv\n",
       "Tm6Hhk+jpMev583Jo/UWdF8KxlNdabeyLPFb0P8PrBs3GGpIJn8AAAAASUVORK5CYII=\n",
       "\" style=\"display:inline;vertical-align:middle;\" /></a><br>"
      ],
      "text/plain": [
       "subtraction_disassociation: forall_{i, j, k in Natural} [forall_{a_{1}, ..a_{_a}.., a_{i}, b_{1}, ..b_{_a}.., b_{j}, c_{1}, ..c_{_a}.., c_{k} in Complex} ((a_{1} i repeats ..a_{_a}.. + a_{i} - (b_{1} + ..b_{_a}.. + b_{j}) + c_{1} k repeats ..c_{_a}.. + c_{k}) =  \\\\ (a_{1} i repeats ..a_{_a}.. + a_{i} - b_{1} j repeats ..b_{a}.. - b_{j} + c_{1} k repeats ..c_{_a}.. + c_{k}))]"
      ]
     },
     "execution_count": 19,
     "metadata": {},
     "output_type": "execute_result"
    }
   ],
   "source": [
    "subtraction_disassociation = \\\n",
    "    Forall((i,j,k), \n",
    "           Forall((a_1_to_i,b_1_to_j,c_1_to_k), \n",
    "                  Equals(Add(a_1_to_i, Neg(Add(b_1_to_j)), c_1_to_k),\n",
    "                         Add(a_1_to_i, ExprRange(a, Neg(IndexedVar(b, a)), one, j), c_1_to_k)) \\\n",
    "                  .with_wrapping_at(2),\n",
    "                  domain=Complex),\n",
    "           domain=Natural)"
   ]
  },
  {
   "cell_type": "code",
   "execution_count": 20,
   "metadata": {},
   "outputs": [
    {
     "name": "stdout",
     "output_type": "stream",
     "text": [
      "These theorems may now be imported from the theory package: proveit.numbers.addition.subtraction\n"
     ]
    }
   ],
   "source": [
    "%end theorems"
   ]
  },
  {
   "cell_type": "code",
   "execution_count": null,
   "metadata": {},
   "outputs": [],
   "source": []
  }
 ],
 "metadata": {
  "kernelspec": {
   "display_name": "Python 3",
   "language": "python",
   "name": "python3"
  }
 },
 "nbformat": 4,
 "nbformat_minor": 0
}