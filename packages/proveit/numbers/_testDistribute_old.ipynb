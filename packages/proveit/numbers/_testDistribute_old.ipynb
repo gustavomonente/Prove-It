{
 "cells": [
  {
   "cell_type": "code",
   "execution_count": null,
   "metadata": {},
   "outputs": [],
   "source": [
    "#from theorems import distributeThroughSum, distributeFractionThroughSum, distributeFractionThroughSubtract\n",
    "from proveit.logic import InSet, NotEquals\n",
    "from proveit.numbers import *\n",
    "#from proveit.numbers._common_ import Complex, Integer, zero\n",
    "from proveit._common_ import *\n",
    "#from IPython.display import display"
   ]
  },
  {
   "cell_type": "code",
   "execution_count": null,
   "metadata": {},
   "outputs": [],
   "source": [
    "from proveit._common_ import a, b, k"
   ]
  },
  {
   "cell_type": "code",
   "execution_count": null,
   "metadata": {},
   "outputs": [],
   "source": [
    "expr = Mult(Add(a, b), Sum(k, k, Interval(a, b)), frac(a, b))"
   ]
  },
  {
   "cell_type": "code",
   "execution_count": null,
   "metadata": {},
   "outputs": [],
   "source": [
    "assumptions = [InSet(var, Integer) for var in [a, b]] + [NotEquals(b, zero)]"
   ]
  },
  {
   "cell_type": "code",
   "execution_count": null,
   "metadata": {},
   "outputs": [],
   "source": [
    "Interval(a, b).deduceMemberInInteger(k, assumptions).generalize(k, DiscreteContiguousSet(a, b))"
   ]
  },
  {
   "cell_type": "code",
   "execution_count": null,
   "metadata": {},
   "outputs": [],
   "source": [
    "expr.distribute(0, assumptions)"
   ]
  },
  {
   "cell_type": "code",
   "execution_count": null,
   "metadata": {},
   "outputs": [],
   "source": [
    "expr.distribute(1, assumptions)"
   ]
  },
  {
   "cell_type": "code",
   "execution_count": null,
   "metadata": {},
   "outputs": [],
   "source": [
    "expr.distribute(2, assumptions)"
   ]
  },
  {
   "cell_type": "code",
   "execution_count": null,
   "metadata": {},
   "outputs": [],
   "source": []
  },
  {
   "cell_type": "code",
   "execution_count": null,
   "metadata": {},
   "outputs": [],
   "source": [
    "distributeThroughSum"
   ]
  },
  {
   "cell_type": "code",
   "execution_count": null,
   "metadata": {},
   "outputs": [],
   "source": [
    "distributeThroughSum.instantiate({xEtc:[a, b, c], yEtc:[d, f], zEtc:[g, h]})"
   ]
  },
  {
   "cell_type": "code",
   "execution_count": null,
   "metadata": {},
   "outputs": [],
   "source": [
    "distributeFractionThroughSum"
   ]
  },
  {
   "cell_type": "code",
   "execution_count": null,
   "metadata": {},
   "outputs": [],
   "source": [
    "distributeFractionThroughSum.instantiate({xEtc:[a, b, c], y:d})"
   ]
  },
  {
   "cell_type": "code",
   "execution_count": null,
   "metadata": {},
   "outputs": [],
   "source": [
    "distributeFractionThroughSubtract"
   ]
  },
  {
   "cell_type": "code",
   "execution_count": null,
   "metadata": {},
   "outputs": [],
   "source": [
    "distributeFractionThroughSubtract.instantiate({x:a, y:b, z:c})"
   ]
  },
  {
   "cell_type": "code",
   "execution_count": null,
   "metadata": {},
   "outputs": [],
   "source": [
    "assumptions = set([In(var, Complex) for var in [c, d, x, y, z]])\n",
    "assumptions = assumptions | set([In(var, Integer) for var in [a, b]])"
   ]
  },
  {
   "cell_type": "code",
   "execution_count": null,
   "metadata": {},
   "outputs": [],
   "source": [
    "Multiply(a, b, Add(x, y, z), c, d).distribute(2, assumptions=assumptions)"
   ]
  },
  {
   "cell_type": "code",
   "execution_count": null,
   "metadata": {},
   "outputs": [],
   "source": [
    "Multiply(a, b, subtract(x, y), c, d).distribute(2, assumptions=assumptions)"
   ]
  },
  {
   "cell_type": "code",
   "execution_count": null,
   "metadata": {},
   "outputs": [],
   "source": [
    "from proveit.numbers import deduceInComplex\n",
    "xDomain = DiscreteContiguousSet(a, b)\n",
    "display(xDomain.deduceMemberInInteger(x, assumptions).proven({In(x, xDomain)} | assumptions))\n",
    "expr = Summation(x, x, domain=xDomain)\n",
    "display(deduceInComplex(expr, assumptions=assumptions))"
   ]
  },
  {
   "cell_type": "code",
   "execution_count": null,
   "metadata": {},
   "outputs": [],
   "source": [
    "expr.domain.deduceMemberInInteger(x, assumptions=assumptions).generalize(x, domain=expr.domain).proven(assumptions=assumptions)"
   ]
  },
  {
   "cell_type": "code",
   "execution_count": null,
   "metadata": {},
   "outputs": [],
   "source": [
    "Multiply(z, y, Summation(x, x, domain=DiscreteContiguousSet(a, b)), z, y).distribute(2, assumptions=assumptions)"
   ]
  },
  {
   "cell_type": "code",
   "execution_count": null,
   "metadata": {},
   "outputs": [],
   "source": [
    "frac(Add(a, b, c), d).distribute(assumptions=assumptions)"
   ]
  },
  {
   "cell_type": "code",
   "execution_count": null,
   "metadata": {},
   "outputs": [],
   "source": [
    "frac(subtract(a, b), d).distribute(assumptions=assumptions)"
   ]
  },
  {
   "cell_type": "code",
   "execution_count": null,
   "metadata": {},
   "outputs": [],
   "source": [
    "frac(Summation(x, Px, DiscreteContiguousSet(y, z)), d).distribute(assumptions=assumptions)"
   ]
  },
  {
   "cell_type": "code",
   "execution_count": null,
   "metadata": {},
   "outputs": [],
   "source": [
    "assumptions"
   ]
  },
  {
   "cell_type": "code",
   "execution_count": null,
   "metadata": {},
   "outputs": [],
   "source": [
    "/====\\\n",
    "|    |\n",
    "| [] |\n"
   ]
  }
 ],
 "metadata": {
  "kernelspec": {
   "display_name": "Python 3",
   "language": "python",
   "name": "python3"
  }
 },
 "nbformat": 4,
 "nbformat_minor": 0
}
