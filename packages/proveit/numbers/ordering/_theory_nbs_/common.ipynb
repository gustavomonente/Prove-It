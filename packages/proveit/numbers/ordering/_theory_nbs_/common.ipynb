{
 "cells": [
  {
   "cell_type": "markdown",
   "metadata": {},
   "source": [
    "Common expressions for the theory of <a class=\"ProveItLink\" href=\"theory.ipynb\">proveit.numbers.ordering</a>\n",
    "========"
   ]
  },
  {
   "cell_type": "code",
   "execution_count": 1,
   "metadata": {},
   "outputs": [
    {
     "name": "stdout",
     "output_type": "stream",
     "text": [
      "Defining common sub-expressions for theory 'proveit.numbers.ordering'\n",
      "Subsequent end-of-cell assignments will define common sub-expressions\n",
      "%end_common will finalize the definitions\n"
     ]
    }
   ],
   "source": [
    "import proveit\n",
    "# Prepare this notebook for defining the common expressions of a theory:\n",
    "%common_expressions_notebook # Keep this at the top following 'import proveit'.\n",
    "from proveit import Lambda\n",
    "from proveit import i, j, n, x, rho\n",
    "from proveit import IndexedVar, ExprRange, var_range\n",
    "from proveit.numbers import Less, LessEq, Greater, GreaterEq, Add, zero, one\n",
    "from proveit import Operation, OperationSequence\n",
    "from proveit.logic import And, Set, Equals\n",
    "%begin common"
   ]
  },
  {
   "cell_type": "code",
   "execution_count": 2,
   "metadata": {},
   "outputs": [
    {
     "data": {
      "text/html": [
       "<strong id=\"i_plus_1\">i_plus_1:</strong> <a class=\"ProveItLink\" href=\"../__pv_it/common/e1da5c12a9ad58997976aa29dace108a7f7a29710/common_expr.ipynb\"><img src=\"data:image/png;base64,iVBORw0KGgoAAAANSUhEUgAAACoAAAAQBAMAAACSDPCjAAAALVBMVEX///8iIiIyMjKqqqrc3NwQ\n",
       "EBC6urp2dnZmZmaIiIju7u6YmJhERERUVFQAAACYgWnNAAAAAXRSTlMAQObYZgAAAGVJREFUGNNj\n",
       "YGC4w4AN3EbjM0chcyZA6LW1r7CIMnDjFOWaMQGLKDtbABZRZw4FLKIL+EA8diUlxSAlpQtw2+wW\n",
       "YHPDWaxueMyORZTtgTeaKCfIhNsbUEU5rj7qxuI3FMC1AMEGAAvyIfYyNSnUAAAAAElFTkSuQmCC\n",
       "\" style=\"display:inline;vertical-align:middle;\" /></a><br>"
      ],
      "text/plain": [
       "i_plus_1: i + 1"
      ]
     },
     "execution_count": 2,
     "metadata": {},
     "output_type": "execute_result"
    }
   ],
   "source": [
    "i_plus_1 = Add(i, one)"
   ]
  },
  {
   "cell_type": "code",
   "execution_count": 3,
   "metadata": {},
   "outputs": [
    {
     "data": {
      "text/html": [
       "<strong id=\"n_plus_1\">n_plus_1:</strong> <a class=\"ProveItLink\" href=\"../__pv_it/common/b2c8bb3f7e888de43490a5d2c485bc5fd8be70ac0/common_expr.ipynb\"><img src=\"data:image/png;base64,iVBORw0KGgoAAAANSUhEUgAAAC4AAAAQBAMAAACb51DZAAAAMFBMVEX///8QEBCYmJgyMjIiIiKq\n",
       "qqrMzMzu7u5ERERmZmaIiIjc3NxUVFR2dna6uroAAABXsXCEAAAAAXRSTlMAQObYZgAAAHZJREFU\n",
       "GNNjYCABsIqj8qMgVM2d71jFGZjwiPPd2b1qFhZxXo4uhvoNmOKpLAYM+xMwxQvqHzDogziXjY0d\n",
       "jY1t4PbGMzAcxuaeyQwMn9ixiMsysH7nxRTn/sfAa6CGKs4Fcr8DA/ehABRxzoOfJ2H1LzooRzAB\n",
       "UuIkYEpNg5UAAAAASUVORK5CYII=\n",
       "\" style=\"display:inline;vertical-align:middle;\" /></a><br>"
      ],
      "text/plain": [
       "n_plus_1: n + 1"
      ]
     },
     "execution_count": 3,
     "metadata": {},
     "output_type": "execute_result"
    }
   ],
   "source": [
    "n_plus_1 = Add(n, one)"
   ]
  },
  {
   "cell_type": "code",
   "execution_count": 4,
   "metadata": {},
   "outputs": [
    {
     "data": {
      "text/html": [
       "<strong id=\"rho_1_to_n\">rho_1_to_n:</strong> <a class=\"ProveItLink\" href=\"../__pv_it/common/012f39f7426089e26c1eebee88d829d5539b99bb0/common_expr.ipynb\"><img src=\"data:image/png;base64,iVBORw0KGgoAAAANSUhEUgAAAFcAAAANBAMAAAAu8+/OAAAAMFBMVEX///9EREQyMjLc3NyYmJju\n",
       "7u4iIiKqqqoQEBBmZmbMzMxUVFSIiIh2dna6uroAAABjihvzAAAAAXRSTlMAQObYZgAAAN9JREFU\n",
       "KM9jYGDgu7OLAS9AVnCT4QUDw0I8isEKIIA9gSH+wcppuNWCFUDZHA4M7wsYnuFWDFEAAe8DGM4b\n",
       "4FMMUQABQAeoMeBTDFbg6XVmApCdycD1C69isAK/FoZmBgbWjwxhDmDFrJ+AMvEKSAwID6SAOSaB\n",
       "4SvQr5/PzGKAmJwWwMDAtgHIyGaAMthSYQq4D/A1MDBwKoDtAilmD8BwQilMAccCzgsLGDgOgEXL\n",
       "gJgX070XGKAK7BnYni9gsF8AYlvm72FgiMFQywpUCFHwmoHnCkowOGAoZmFAUQAAoJpC9XAiSqkA\n",
       "AAAASUVORK5CYII=\n",
       "\" style=\"display:inline;vertical-align:middle;\" /></a><br>"
      ],
      "text/plain": [
       "rho_1_to_n: rho_{1}, ..rho_{_a}.., rho_{n}"
      ]
     },
     "execution_count": 4,
     "metadata": {},
     "output_type": "execute_result"
    }
   ],
   "source": [
    "rho_1_to_n = var_range(rho, one, n)"
   ]
  },
  {
   "cell_type": "code",
   "execution_count": 5,
   "metadata": {},
   "outputs": [
    {
     "data": {
      "text/html": [
       "<strong id=\"sequential_x_relation\">sequential_x_relation:</strong> <a class=\"ProveItLink\" href=\"../__pv_it/common/a15027bee26e90b9f09b006f9a168bb30c82d2ab0/common_expr.ipynb\"><img src=\"data:image/png;base64,iVBORw0KGgoAAAANSUhEUgAAAEoAAAAPBAMAAACxa0SdAAAAMFBMVEX///8QEBBmZmaqqqrMzMxE\n",
       "REQyMjIiIiKYmJh2dna6urrc3NxUVFSIiIju7u4AAAA6P00QAAAAAXRSTlMAQObYZgAAAQdJREFU\n",
       "KM9jYHh7Z9fNCwwgwDX3CJhGiMAB3wSOWvYEBl4FBoZJDAsZGC4hi0CAKwMD5wPOf1wbGFg2MDAX\n",
       "MLxfwOCNJAIBTupAsxhYAyA8xgaG9QYMyCIMDAdAxHIQwQ91w/oHDPch+vnhrgqAq/J3ADr8DgMD\n",
       "0OB0hrUHkEQQqpgf3GfgfcDJ/4ChiIHlC8OEf0giCFXrDeIZdjDsM2fg+8rwvIH7cQFCBEnVm7tv\n",
       "NRoYGGIZmH/fVWFgYL2AEOFJSxNLy4C6Cxxq/xyYEkCM908QIiiuBwHmhAmMYI+ZcSJEYKrM4Wad\n",
       "3LAfpJfhzWyECFTVpvqziKhazoAFBDAQA4hTBY1LAA1LXcNdzPVmAAAAAElFTkSuQmCC\n",
       "\" style=\"display:inline;vertical-align:middle;\" /></a><br>"
      ],
      "text/plain": [
       "sequential_x_relation: x_{i} rho_{i} x_{i + 1}"
      ]
     },
     "execution_count": 5,
     "metadata": {},
     "output_type": "execute_result"
    }
   ],
   "source": [
    "sequential_x_relation = Operation(IndexedVar(rho, i), [IndexedVar(x, i), IndexedVar(x, i_plus_1)])"
   ]
  },
  {
   "cell_type": "code",
   "execution_count": 6,
   "metadata": {},
   "outputs": [
    {
     "data": {
      "text/html": [
       "<strong id=\"sequential_x_relations\">sequential_x_relations:</strong> <a class=\"ProveItLink\" href=\"../__pv_it/common/2344b8d12d77d0de4871876da7013105e606fa920/common_expr.ipynb\"><img src=\"data:image/png;base64,iVBORw0KGgoAAAANSUhEUgAAAQ8AAAAVBAMAAACqO3ZEAAAAMFBMVEX////MzMxUVFR2dna6uroQ\n",
       "EBCqqqqIiIgiIiJmZmYyMjJERETu7u6YmJjc3NwAAACgK8IjAAAAAXRSTlMAQObYZgAAAu1JREFU\n",
       "SMe1lk1oE0EUx98m22TztV28iHiwQiHgQXIyCIqi1HryAwqeKvGmILq0hxgoNIhUEMWAlyoUevFg\n",
       "DqFHQdRFkYg9NIKgHpQ9CFZRTEVakCDOvDczm242mBF9Pew/78389t+dmbcLYLdg4Lgw6EAdqOQu\n",
       "a0yI+QMOXNbyQdyGxoTsohB9DNlSNPSMcG6upjOjKK73ostpAdODEtfydSY8o4tx34ssb79OVz0o\n",
       "cVe1JqQP0pqOu5Hl0TJdVzV9cG6FXZpTH6Yl+fCUQ8tW3j1e7JkQp2f+AqrRS22RCEMVtQ+Wcx+y\n",
       "YiF31VoEYwkz5glUT+GNe409bDUWyznarXvYX0TES/ESigAq78OoGALbFZI7x4Z58Y7pG7f5f3kW\n",
       "sj9Q7YMD3jHYNq/GYzlBT6IKn6OMWGDTrRVUFDiVFGG7fUjuBDMPGe7K5JlJMNdRefCAjzuKWwJk\n",
       "2WjjoXAh5kQYeQ2wE0UApUAqhsCK9tHNneA/hl2RMTuQ/EU12FBGMiEjlgfGSIQRdma2SCMCikFU\n",
       "ERvB+E3cOf5jhyMyqSqkq6K2FmGELJ6LblkJtpPTvlgaguYWtlYElSRh374s18Jctq8S3iwkPcxY\n",
       "NT6fq/PJNsz0GKHN2hBmwmfQJzMQQHNjrSGfqCQJ+2oSToe5ewGOlx7DV8qsLGVvoDLXM23+5goZ\n",
       "SRXkPrd4S1thvrI/haAThi1NQb9cgmGPqCgJazer0Alz2Z2elJsLLcpc/FhxUGXzM5V3tDS76nfr\n",
       "9RZNSPM1jPGuluQ7wOI75bIUo5xbFgsqoHkYk1QuBTbmsuMc4gbdmGfuKCUi9ESeo8JK77HBrmts\n",
       "bvEn4ZYhqCgphpxUwQlxg/cT7xGnlFIdQBrBZHGwjq2gdhuunCEqSYpvYB1xwtxHcs78d9dek0ok\n",
       "P93MCyOYVJ8BfwoJNUdgukVUlCJ9CJL7e7jd3zBm5CuEnKP4qw+jPtQwd4CvOjXh/b/9VNTm2vB/\n",
       "opv7G1yB9JKbe52HAAAAAElFTkSuQmCC\n",
       "\" style=\"display:inline;vertical-align:middle;\" /></a><br>"
      ],
      "text/plain": [
       "sequential_x_relations: (x_{1} rho_{1} x_{1 + 1}) and ..(x_{i} rho_{i} x_{i + 1}).. and (x_{n} rho_{n} x_{n + 1})"
      ]
     },
     "execution_count": 6,
     "metadata": {},
     "output_type": "execute_result"
    }
   ],
   "source": [
    "sequential_x_relations = And(ExprRange(i, sequential_x_relation, one, n))"
   ]
  },
  {
   "cell_type": "code",
   "execution_count": 7,
   "metadata": {},
   "outputs": [
    {
     "data": {
      "text/html": [
       "<strong id=\"x_relation_sequence\">x_relation_sequence:</strong> <a class=\"ProveItLink\" href=\"../__pv_it/common/2c7978c9a62c6cb748673cb87170dc8d9995bb740/common_expr.ipynb\"><img src=\"data:image/png;base64,iVBORw0KGgoAAAANSUhEUgAAAJ8AAAAPBAMAAAAIUwCQAAAAMFBMVEX///8QEBBmZmaqqqrMzMxE\n",
       "REQyMjIiIiKYmJh2dna6urrc3NxUVFSIiIju7u4AAAA6P00QAAAAAXRSTlMAQObYZgAAAZtJREFU\n",
       "OMutkr9Lw0AYhr/WxLSJSR0cCiIUB62bg+Cm+QfELs7q0jmTiCgEERSnji4qxUm02FEEtZOLFEIX\n",
       "KbQ1q2BpocXBH8W7+y4mqSc49B2SJ+H5Xi53AWjWbqoOYM5rJogSdHzJqD8Wjn+5Ri62o6yBlCEc\n",
       "T6mjSEIHwySWF9h3NkIinY278Z5alCYt8jwPxjtSOOjwByohncCpexHqo7MGyHRJKq1JgtpB6lsh\n",
       "Ohgmsbiw4jsj4LVAwuGo9kD/EBVyhwUlni/fkP3CZZNj1IJhS1xInVh6qcIlRJC65LK7V08FC4fc\n",
       "Z9BdhkqKDgoK0Ynl7UgRJcQFvQ0NOEzCeLDwanYVrhFbGWPTW3aLHKrxxgGduydIuCgxVDtyW7O1\n",
       "pgW9YOFrvZm2ERdvK6ZXqJTIZZsDd8qQ9ySKRrlROSCn4ZDf6CG7ns3awa+jOAX+xooyBjMSlxhi\n",
       "ImY0Z4YOBbeJ4MQPCaO1YWsOJUTMPShnXqE/q01/OlrXI3GhWoKqjRJD/voS9CO+h32zf3/rfyQZ\n",
       "BpyBF2r8/g0tBJBBvOjFQwAAAABJRU5ErkJggg==\n",
       "\" style=\"display:inline;vertical-align:middle;\" /></a><br>"
      ],
      "text/plain": [
       "x_relation_sequence: x_{1} rho_{1} ..x_{i}.. rho_{i} x_{n} rho_{n} x_{n + 1}"
      ]
     },
     "execution_count": 7,
     "metadata": {},
     "output_type": "execute_result"
    }
   ],
   "source": [
    "x_relation_sequence = OperationSequence([ExprRange(i, IndexedVar(rho, i), one, n)], \n",
    "                                        [ExprRange(i, IndexedVar(x, i), one, n), IndexedVar(x, n_plus_1)])"
   ]
  },
  {
   "cell_type": "code",
   "execution_count": 8,
   "metadata": {},
   "outputs": [
    {
     "data": {
      "text/html": [
       "<strong id=\"less_eq_relations\">less_eq_relations:</strong> <a class=\"ProveItLink\" href=\"../__pv_it/common/56ac7224a99f89faa546f605ca9f5fbb530394ec0/common_expr.ipynb\"><img src=\"data:image/png;base64,iVBORw0KGgoAAAANSUhEUgAAAFUAAAAVBAMAAADFg78FAAAAMFBMVEX///+IiIi6urrc3NxERETM\n",
       "zMwQEBCqqqpUVFQiIiJ2dnYyMjLu7u5mZmaYmJgAAABN0h6tAAAAAXRSTlMAQObYZgAAAPRJREFU\n",
       "KM9jYGDgu8dAELBePACieHYxEAGYUkEk3wdi1DLcBhFcE7BJMU5FE1iJopZ9K0Lm1EQGfGr55hrA\n",
       "JWznMeBTyzjrAFzcYjsDPrXIloZswuKBZSCCYwOQOItkKYsrgs21GwwuMDC8B3HLAoDqkS1lnHgA\n",
       "i7ncQPUhk4GMEygO5JuFTXGnAAODWgCGx9n3GmCa2wByrwNmgDLtCEBxbwPUvVjCDJhWXBSwhQNy\n",
       "XJzfAJNibkXiYI1jzjlIsigcNLUgUMOAiwNRm4AksoABF2clevrlAYYhw+mZIDAVwkFNvwxI+YIP\n",
       "JUpQQjEJ4idi8xsAb1RLjZOg+0wAAAAASUVORK5CYII=\n",
       "\" style=\"display:inline;vertical-align:middle;\" /></a><br>"
      ],
      "text/plain": [
       "less_eq_relations: {<, <=, =}"
      ]
     },
     "execution_count": 8,
     "metadata": {},
     "output_type": "execute_result"
    }
   ],
   "source": [
    "less_eq_relations = Set(Less._operator_, LessEq._operator_, Equals._operator_)"
   ]
  },
  {
   "cell_type": "code",
   "execution_count": 9,
   "metadata": {},
   "outputs": [
    {
     "data": {
      "text/html": [
       "<strong id=\"greater_eq_relations\">greater_eq_relations:</strong> <a class=\"ProveItLink\" href=\"../__pv_it/common/057b9f8053c030c93d0396f1603652a2d822ead20/common_expr.ipynb\"><img src=\"data:image/png;base64,iVBORw0KGgoAAAANSUhEUgAAAFUAAAAVBAMAAADFg78FAAAAMFBMVEX///+IiIi6urrc3NxERETM\n",
       "zMwQEBCqqqpUVFQiIiJ2dnYyMjLu7u5mZmaYmJgAAABN0h6tAAAAAXRSTlMAQObYZgAAAPBJREFU\n",
       "KM9jYGDgu8dAELBePACieHYxEAGYUkEk3wdi1DLcBhFcE9BET97BpnYlTO3pB8jC1c341PKsFEAW\n",
       "127Fo5aBQXINskSIEz61DC9RXGmxHV3tMhDBsQGbK20ngymu3WBwgYHhPYhbFgBzZQ+S2pcX0Mzl\n",
       "BgqETIb7yAchg+p8MOgEel8tAMMNaMECMbcB5F4HdL8x34QHN9S9DVD3YoQZc3cBlrhYhh4X50Fh\n",
       "ckSBAcHBHcecc5BkUTgocQEBNQy4OBC1CUgiCxhwcVaip18ekLNPzwSBqRAOavplQMoXfMiyKBym\n",
       "JDDFTmx+AwCxr01j504gzQAAAABJRU5ErkJggg==\n",
       "\" style=\"display:inline;vertical-align:middle;\" /></a><br>"
      ],
      "text/plain": [
       "greater_eq_relations: {>, >=, =}"
      ]
     },
     "execution_count": 9,
     "metadata": {},
     "output_type": "execute_result"
    }
   ],
   "source": [
    "greater_eq_relations = Set(Greater._operator_, GreaterEq._operator_, Equals._operator_)"
   ]
  },
  {
   "cell_type": "code",
   "execution_count": 10,
   "metadata": {},
   "outputs": [
    {
     "name": "stdout",
     "output_type": "stream",
     "text": [
      "These common expressions may now be imported from the theory package: proveit.numbers.ordering\n"
     ]
    }
   ],
   "source": [
    "%end common"
   ]
  },
  {
   "cell_type": "code",
   "execution_count": null,
   "metadata": {},
   "outputs": [],
   "source": []
  }
 ],
 "metadata": {
  "kernelspec": {
   "display_name": "Python 3",
   "language": "python",
   "name": "python3"
  }
 },
 "nbformat": 4,
 "nbformat_minor": 0
}