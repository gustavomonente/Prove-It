{
 "cells": [
  {
   "cell_type": "markdown",
   "metadata": {},
   "source": [
    "Proof of <a class=\"ProveItLink\" href=\"../../../../../_theory_nbs_/theory.ipynb\">proveit</a>.<a class=\"ProveItLink\" href=\"../../../../_theory_nbs_/theory.ipynb\">numbers</a>.<a class=\"ProveItLink\" href=\"../../theory.ipynb\">ordering</a>.<a class=\"ProveItLink\" href=\"../../theorems.ipynb#greater_eq__in__greater_eq_relations\">greater_eq__in__greater_eq_relations</a> theorem\n",
    "========"
   ]
  },
  {
   "cell_type": "code",
   "execution_count": 1,
   "metadata": {},
   "outputs": [],
   "source": [
    "import proveit\n",
    "theory = proveit.Theory() # the theorem's theory"
   ]
  },
  {
   "cell_type": "code",
   "execution_count": 2,
   "metadata": {},
   "outputs": [
    {
     "data": {
      "text/html": [
       "Under these <a href=\"presumptions.txt\">presumptions</a>, we begin our proof of<br><strong id=\"greater_eq__in__greater_eq_relations\">greater_eq__in__greater_eq_relations:</strong> <a class=\"ProveItLink\" href=\"../../../__pv_it/theorems/bc916879d8b7fda92005eef21aa5cf89e403117e0/expr.ipynb\"><img src=\"data:image/png;base64,iVBORw0KGgoAAAANSUhEUgAAAHkAAAAVBAMAAACQ4lxbAAAAMFBMVEX///8QEBB2dnaIiIiYmJhE\n",
       "RETMzMy6urrc3NxUVFQyMjKqqqpmZmYiIiLu7u4AAABkm1r0AAAAAXRSTlMAQObYZgAAAU5JREFU\n",
       "OMtjYMACWI4wEARshx9gl+BbxEAEYBfDLs7ygRjdDKeA+O05DGGmC2gCWNQAgS6I2DUDm+5XDsgi\n",
       "mGpguhmqpkF4rnfvLoDr5tM1QFYJU4OpmyE1HEzaobrcVg9ZKUQNNt0MnauBlq1D97cvim9BalCB\n",
       "IozRc4OBswEuzLkAm2+BasBGrwKDAwwM/jAZ3wMMrAh1GxNgvp2HpBuoBhVwQQVAXkwEmQi2NPUG\n",
       "PKziEGpRgwEM5oICFhK8rQjRwgQMl6NFAcTuCUCC4yw4ahkRwpwB6KEGVYPk7wkQf3PM2gAW5TFg\n",
       "wBljMDWYYf60AMq5jaIb5tT3C5DUvF+ALb7B4GX4AywplfcekhIUDqpuhqJYpJQKB/sYcHF0sWc9\n",
       "JgEkjgIDLg5I96u7IHANV/7mM0BSw2eAnr+xAaSyhQXFWJSyRRyHbm5iyzUADXhpy/QEor4AAAAA\n",
       "SUVORK5CYII=\n",
       "\" style=\"display:inline;vertical-align:middle;\" /></a><br>(see <a class=\"ProveItLink\" href=\"../../../__pv_it/theorems/942893e11932b11b85554ff65f305d5245b519eb0/dependencies.ipynb\">dependencies</a>)<br>"
      ],
      "text/plain": [
       "greater_eq__in__greater_eq_relations: >= in {>, >=, =}"
      ]
     },
     "execution_count": 2,
     "metadata": {},
     "output_type": "execute_result"
    }
   ],
   "source": [
    "%proving greater_eq__in__greater_eq_relations"
   ]
  },
  {
   "cell_type": "code",
   "execution_count": null,
   "metadata": {},
   "outputs": [],
   "source": []
  }
 ],
 "metadata": {
  "kernelspec": {
   "display_name": "Python 3",
   "language": "python",
   "name": "python3"
  }
 },
 "nbformat": 4,
 "nbformat_minor": 0
}