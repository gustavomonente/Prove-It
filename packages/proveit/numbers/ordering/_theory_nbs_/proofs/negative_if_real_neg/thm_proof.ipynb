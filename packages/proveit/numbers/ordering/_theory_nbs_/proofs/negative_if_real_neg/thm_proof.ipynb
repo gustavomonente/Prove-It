{
 "cells": [
  {
   "cell_type": "markdown",
   "metadata": {},
   "source": [
    "Proof of <a class=\"ProveItLink\" href=\"../../../../../_theory_nbs_/theory.ipynb\">proveit</a>.<a class=\"ProveItLink\" href=\"../../../../_theory_nbs_/theory.ipynb\">numbers</a>.<a class=\"ProveItLink\" href=\"../../theory.ipynb\">ordering</a>.<a class=\"ProveItLink\" href=\"../../theorems.ipynb#negative_if_real_neg\">negative_if_real_neg</a> theorem\n",
    "========"
   ]
  },
  {
   "cell_type": "code",
   "execution_count": 1,
   "metadata": {},
   "outputs": [],
   "source": [
    "import proveit\n",
    "theory = proveit.Theory() # the theorem's theory"
   ]
  },
  {
   "cell_type": "code",
   "execution_count": 2,
   "metadata": {},
   "outputs": [
    {
     "data": {
      "text/html": [
       "Under these <a href=\"presumptions.txt\">presumptions</a>, we begin our proof of<br><strong id=\"negative_if_real_neg\">negative_if_real_neg:</strong> <a class=\"ProveItLink\" href=\"../../../__pv_it/theorems/876efa0dd5d99af34dcbfd58bb24d94d7dbfdbf20/expr.ipynb\"><img src=\"data:image/png;base64,iVBORw0KGgoAAAANSUhEUgAAAIEAAAAUBAMAAABYJUOTAAAAMFBMVEX///8QEBCIiIhmZma6urrM\n",
       "zMxUVFQiIiJERETc3Nzu7u6qqqp2dnaYmJgyMjIAAAAcRTyBAAAAAXRSTlMAQObYZgAAAfdJREFU\n",
       "OMuVlE1I3FAUhc8k85s/N7oRhIA/dDk0y7bS4sKVOCvdFEa0dlmk1oLUgquSoQjBQnUZGVAZhAnt\n",
       "QgYKE6a7KUgKLqwolcIsajeFgpShC+9LmqkJ42v7IMl798H37jk5CfD3kfOu3arRdcYmp1zCbvdy\n",
       "46SAtAV8YItzLuFr16rmSMuQqIFN1uYqD6DmYwW5xe4fgQNqhFA2oDg8QsaKERf9wgugbmOL1s1K\n",
       "ZYMrIrYrrNj+8wKYdKDdBX6a5gqXMMh03r7ZH6z2HgdP6QcRdCgkcR4ocQlrdN2ztO/+ovw8fMW/\n",
       "gKIOlawc8w3ljGd04ABE3+30t05IqIeiC3mBjIJwNTH7N+a+RAm9gNhGRmfz7Q7ht4oUtaZ4mU71\n",
       "neEJCpp6nJBYRbXgL16FKpiTdccn5M6mwuJRrQIiHHuSYRi3rqiouqgj6iRM4LONJKlA6QFzaKSF\n",
       "JIsOI7hxJ6sOHslW9G0GiWJO4i1hpKVUGxoCghEN4Xsgq6tPlViiMo7URw6x03pItphPLaDsE8SH\n",
       "T6JOjtMBs8Ovh2KplhojZI3G7FGpq4QjzGDaNE1dUNYP+amOjJ1wUrWyx3Y6UCHft/lfVuQTDycJ\n",
       "qzgBpRD40Iw6yYvsnzAmZ9/cAV6yRB245dF/+sOwkY0pFMiH//vLfQIuARJ4fxCxkhSKAAAAAElF\n",
       "TkSuQmCC\n",
       "\" style=\"display:inline;vertical-align:middle;\" /></a><br>(see <a class=\"ProveItLink\" href=\"../../../__pv_it/theorems/160d7ae3331b54ef8ff5c3b106f059634c1b50510/dependencies.ipynb\">dependencies</a>)<br>"
      ],
      "text/plain": [
       "negative_if_real_neg: forall_{a in RealNeg} (a < 0)"
      ]
     },
     "execution_count": 2,
     "metadata": {},
     "output_type": "execute_result"
    }
   ],
   "source": [
    "%proving negative_if_real_neg"
   ]
  },
  {
   "cell_type": "code",
   "execution_count": null,
   "metadata": {},
   "outputs": [],
   "source": []
  }
 ],
 "metadata": {
  "kernelspec": {
   "display_name": "Python 3",
   "language": "python",
   "name": "python3"
  }
 },
 "nbformat": 4,
 "nbformat_minor": 0
}