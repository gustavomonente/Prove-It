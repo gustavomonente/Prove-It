{
 "cells": [
  {
   "cell_type": "markdown",
   "metadata": {},
   "source": [
    "Proof of <a class=\"ProveItLink\" href=\"../../../../../_theory_nbs_/theory.ipynb\">proveit</a>.<a class=\"ProveItLink\" href=\"../../../../_theory_nbs_/theory.ipynb\">numbers</a>.<a class=\"ProveItLink\" href=\"../../theory.ipynb\">ordering</a>.<a class=\"ProveItLink\" href=\"../../theorems.ipynb#less_eq_shift_add_right\">less_eq_shift_add_right</a> theorem\n",
    "========"
   ]
  },
  {
   "cell_type": "code",
   "execution_count": 1,
   "metadata": {},
   "outputs": [],
   "source": [
    "import proveit\n",
    "theory = proveit.Theory() # the theorem's theory"
   ]
  },
  {
   "cell_type": "code",
   "execution_count": 2,
   "metadata": {},
   "outputs": [
    {
     "data": {
      "text/html": [
       "Under these <a href=\"presumptions.txt\">presumptions</a>, we begin our proof of<br><strong id=\"less_eq_shift_add_right\">less_eq_shift_add_right:</strong> <a class=\"ProveItLink\" href=\"../../../__pv_it/theorems/8d5ae41d910c91cf9be1fac627d14c8ac0d347260/expr.ipynb\"><img src=\"data:image/png;base64,iVBORw0KGgoAAAANSUhEUgAAASEAAAAWBAMAAAB9OzeJAAAAMFBMVEX///8QEBCIiIhmZma6urrM\n",
       "zMxUVFQiIiJERETc3Nzu7u6qqqp2dnaYmJgyMjIAAAAcRTyBAAAAAXRSTlMAQObYZgAAA6VJREFU\n",
       "SMfFVltIFFEY/t37zt586MEeis3IoodYlG50W+jBp3J66QKBi2UQRVgYUfqwRQ8rkSwF6UswslAh\n",
       "koM9qBCy6IOwpQwWaIKyRCklTRIEZRf6zzkzO2fWGSsX6of/zDlnvm/ON+f/zwWgVPMrWNy3eRlI\n",
       "2xAsbFDzPGnMlKDoEbqQtHt71oogXG+ygHrSzJ+RxvsSFL1DD6ft3j7m6ptFnRCOWUCFPPNOMo/J\n",
       "1QsKkY+/MEUqyjWChYYwGi0QIrLW2ccTh5mHJaTJq1fkJdNz1VaRUK5nz07FINRJVoq6mIdy3d0d\n",
       "JQSNcP1NtorgjSbogswRRsFKUTjO/Esq1VqCoo3oDhK5uyMbJLOiYOUmgBFadbfHecJc5Z4iRcOV\n",
       "IgTxM8QbAdr0fpdqM268qG0Ab6P7MCCutfDRPEf+FmgHmKX1lAgcQfgp9aZNijpkXx5CmNbED9IE\n",
       "12zENG7/llOvWc2c+gMcsIWkBkakS4FdZkXeLJzDb7BlthU4QmAJIlGTolbwyBDA4BP3gsPYshaM\n",
       "lHxaoziCkIsuVzQU5YBr0MtwCg9IcIlESlXn16tqAmgPWj2DTeY4gjMPvVmAcVW9qKpz2OdcoqFd\n",
       "ZB5UvMZgXwu1qcFuQEXTyjJFswoP1BVVgPDZPEcVwCmCod0GAbejOpmfo7Ikr8ifP4qtTNVb0vep\n",
       "SqIpGXWRZCWKspwiCtqmGEAjasJ3CCyaFGEPsVpd+uHGAiGiaBOoK+qlo7iamEPbaaRfdpOJc1yj\n",
       "y6bZXR4GpqgmZiiioFr6cxrQyGzhG3jyg6Y5+oFVPbOJHb+pEyJxYZ1praFEkAuZDU9QljPmJuJ8\n",
       "UdLjTIKYoeM6zzRzmU1BPfS7DKivBbJkb8BkImtStAOE7QB7jXDfEzWCR/HFTIqcCciI4EQ+cZr2\n",
       "ZbIjQRMC32ED4FgqlYo6gndecooYqOdWAahHhUz1g8oTDXGTouDYBJZvizcSJAjVY0U75PMZJIVF\n",
       "5hDCkPamfdP4iEhETYQcwixqgZOSoUgDORZ04J+cIk2Wx47lnv1Qc5bs6fpD0Cl5pSkscSePBUWW\n",
       "RzkusymI/MIHIEC7k1aQLE9a09GsW7fFSavtwQ19++CI7D6fxdJfPSEBiU3/eDaz31BEQXQWJALU\n",
       "jGz4vt/cRoT5K8TEAgFWuI3wJnOlA/PIeJNc7Y2tzZpgZeS3in6NXUGtLqIrKVrxVhv6i1vtK815\n",
       "OlfaKhrARZiS4L9b7N8N9Qu/jhe8EcRZFgAAAABJRU5ErkJggg==\n",
       "\" style=\"display:inline;vertical-align:middle;\" /></a><br>(see <a class=\"ProveItLink\" href=\"../../../__pv_it/theorems/5d322337bbc04d815f9cf78036b9e35c6decc21b0/dependencies.ipynb\">dependencies</a>)<br>"
      ],
      "text/plain": [
       "less_eq_shift_add_right: forall_{a, b, c in Real | a <= b} ((a + c) <= (b + c))"
      ]
     },
     "execution_count": 2,
     "metadata": {},
     "output_type": "execute_result"
    }
   ],
   "source": [
    "%proving less_eq_shift_add_right"
   ]
  },
  {
   "cell_type": "code",
   "execution_count": null,
   "metadata": {},
   "outputs": [],
   "source": []
  }
 ],
 "metadata": {
  "kernelspec": {
   "display_name": "Python 3",
   "language": "python",
   "name": "python3"
  }
 },
 "nbformat": 4,
 "nbformat_minor": 0
}