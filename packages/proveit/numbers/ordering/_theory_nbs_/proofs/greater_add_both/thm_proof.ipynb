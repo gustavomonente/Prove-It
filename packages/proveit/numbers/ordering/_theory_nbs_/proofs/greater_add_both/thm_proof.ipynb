{
 "cells": [
  {
   "cell_type": "markdown",
   "metadata": {},
   "source": [
    "Proof of <a class=\"ProveItLink\" href=\"../../../../../_theory_nbs_/theory.ipynb\">proveit</a>.<a class=\"ProveItLink\" href=\"../../../../_theory_nbs_/theory.ipynb\">numbers</a>.<a class=\"ProveItLink\" href=\"../../theory.ipynb\">ordering</a>.<a class=\"ProveItLink\" href=\"../../theorems.ipynb#greater_add_both\">greater_add_both</a> theorem\n",
    "========"
   ]
  },
  {
   "cell_type": "code",
   "execution_count": 1,
   "metadata": {},
   "outputs": [],
   "source": [
    "import proveit\n",
    "theory = proveit.Theory() # the theorem's theory"
   ]
  },
  {
   "cell_type": "code",
   "execution_count": 2,
   "metadata": {},
   "outputs": [
    {
     "data": {
      "text/html": [
       "Under these <a href=\"presumptions.txt\">presumptions</a>, we begin our proof of<br><strong id=\"greater_add_both\">greater_add_both:</strong> <a class=\"ProveItLink\" href=\"../../../__pv_it/theorems/c91ad364e90231009ead529350b1a719179e3ce70/expr.ipynb\"><img src=\"data:image/png;base64,iVBORw0KGgoAAAANSUhEUgAAAVIAAAAWBAMAAABgRQkSAAAAMFBMVEX///8QEBCIiIhmZma6urrM\n",
       "zMxUVFQiIiJERETc3Nzu7u6qqqp2dnaYmJgyMjIAAAAcRTyBAAAAAXRSTlMAQObYZgAABD1JREFU\n",
       "SMfNV29oFEcUf7m7Te729i6BCjYI5XqBKLaVw4CEUuOBYD9VLl/8Ay0XUpVGWrmK/aD44dAql5TS\n",
       "owc1XworB7UcYhb7oQTEHsmHllRkaQv+ActR+wcirEESUNNC35uZ3dnZu8NUTuzAb2bnzbyZ38x7\n",
       "b2YW4FmlLwVaptk2Cq1SvMzRoMqdzhPVixytU3e5lcLX65t77nsBJrBA/EjVxc4zTZY52qyj0VLh\n",
       "bouuq3AJc8Q0FrFi55n+LCDTZX9ljuWXbFVh1TV4yhNHHoOBNUTSxMLqPNPjAm2Ynudb+33Kr4Cs\n",
       "mpgaBdD7gJBYqNXOdZ5orMDRjmkyy8uNCz4Fo9DMNJkB+B0YHpZKJzvPNJThgMr8y2aA6Vw6B0ZG\n",
       "VG68LhWS4wOWyrQyl0fJPDAcBJj0nMJRptuRU6ePBPnsbgqM8AovozZHpB/uB/b0nBVtQMLTvDrh\n",
       "Kcws6o8Upqj9Ga7zV2DY6Q/EeWXaGV58u+nd3/ho0rh8Dd7ORCbcoF7iZY/Fcd6G4QDTk9BtQVx6\n",
       "xu7DrsJ3JjxQmKL2CBHg6IGQjMB7CtOrOPOVITtkwEJKZaq/xw6gpBeKlYPCw8Squ7IcO0w4SvXr\n",
       "jvOh4/xJu87CRluSTKdchRHQ/8blO85fLznOGDBt8sw8h2H3SG6PFKa4wzdna4BMb9sqU4idJaq9\n",
       "8sCsnFF22WX6Iugr6p52FVWmwvrU+S5EVpU9Re1lyTTW2IMf1cE/SP/BILm/kaae1fQ9iNDExLQu\n",
       "mepbj6DttdPYM58+zEMEs4sfU9MWS7E+7lF8SWU6w4aKFAIRRQr/iA13mbrabwpMHkDZRxr1CZ1g\n",
       "8XpM6xOiJHCmQxnJ9EIuT8uJoO9uNAdokuwoyS8uuk0yovRV6G7MKkx7scXyIso7pUhhmRzTz1Ro\n",
       "i4iCb3B54YxGi4ymaIRwEXJM1AdVxjR86JgvooZgLysT/XCKDTAMGtW32Ng06h7YGY5TcGOsrjAN\n",
       "j0E1B+F64OSnzh/AafU8FdpvAEcvirus0BhzFhwHK8xxSLS3VCqlQsbnv/iYboBB7mApWAfbmIAm\n",
       "3WTJJm5dwlfp/eNZNfav3cEJk7nAbUqdq6/aKlOhTY5JSKDBZsrR21j0msSSxwkTdXPrx982PaZ4\n",
       "5H1ao5BFuz1mLCkM9R+ysmkNt+mFltcvNN9RNHaBg0deOf8WTJs95k3M8abLTJsoegeMHPfTBV9E\n",
       "9WvLuPR9FAknEsXYFF50YX04y5tW7LYvlFrzCyX4pPG4mf4W8UIRez9+eTuMWtr7dcxjW38yRy0m\n",
       "gk/o0L1er45IprteGbDhC3a27LkG2gaovLZZy8kmESFljjW/+tp3Fq8+f7Kacgihn8rBvC/tjLTU\n",
       "07ykoy1f0m3SJPgufO83QM2D46/1R+OJfye3/sPfSaLM4Rc15WthyswdxzOiNAX/mxR+npP/C+WI\n",
       "RVdbE07jAAAAAElFTkSuQmCC\n",
       "\" style=\"display:inline;vertical-align:middle;\" /></a><br>(see <a class=\"ProveItLink\" href=\"../../../__pv_it/theorems/5ebac5dfa8fa8fb028553b720239aab53402178b0/dependencies.ipynb\">dependencies</a>)<br>"
      ],
      "text/plain": [
       "greater_add_both: forall_{a, b, c, d in Real | a > b, c >= d} ((a + c) > (b + d))"
      ]
     },
     "execution_count": 2,
     "metadata": {},
     "output_type": "execute_result"
    }
   ],
   "source": [
    "%proving greater_add_both"
   ]
  },
  {
   "cell_type": "code",
   "execution_count": null,
   "metadata": {},
   "outputs": [],
   "source": []
  }
 ],
 "metadata": {
  "kernelspec": {
   "display_name": "Python 3",
   "language": "python",
   "name": "python3"
  }
 },
 "nbformat": 4,
 "nbformat_minor": 0
}