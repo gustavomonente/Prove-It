{
 "cells": [
  {
   "cell_type": "markdown",
   "metadata": {},
   "source": [
    "Proof of <a class=\"ProveItLink\" href=\"../../../../../_theory_nbs_/theory.ipynb\">proveit</a>.<a class=\"ProveItLink\" href=\"../../../../_theory_nbs_/theory.ipynb\">numbers</a>.<a class=\"ProveItLink\" href=\"../../theory.ipynb\">ordering</a>.<a class=\"ProveItLink\" href=\"../../theorems.ipynb#symmetric_greater_eq\">symmetric_greater_eq</a> theorem\n",
    "========"
   ]
  },
  {
   "cell_type": "code",
   "execution_count": 1,
   "metadata": {},
   "outputs": [],
   "source": [
    "import proveit\n",
    "theory = proveit.Theory() # the theorem's theory"
   ]
  },
  {
   "cell_type": "code",
   "execution_count": 2,
   "metadata": {},
   "outputs": [
    {
     "data": {
      "text/html": [
       "Under these <a href=\"presumptions.txt\">presumptions</a>, we begin our proof of<br><strong id=\"symmetric_greater_eq\">symmetric_greater_eq:</strong> <a class=\"ProveItLink\" href=\"../../../__pv_it/theorems/1dec9683fa7c43a07d1eece0beb4dcbc4977c7d60/expr.ipynb\"><img src=\"data:image/png;base64,iVBORw0KGgoAAAANSUhEUgAAAMUAAAAWBAMAAACCvEVCAAAAMFBMVEX///8QEBCIiIhmZma6urrM\n",
       "zMxUVFQiIiJERETc3Nzu7u6qqqp2dnaYmJgyMjIAAAAcRTyBAAAAAXRSTlMAQObYZgAAAkpJREFU\n",
       "SMetlj9oFEEUxr/b7N7+yV6Sxn65QAhpvCbBQuJhIGJjTBHrELSwEQstBJEUIhdsLpVBkYwKCiHF\n",
       "gY1aHVfJCbqgIILC1kJkCQqKjW/+LHM3myyRzcAys9+PN9/NezOzBxxHe3w4ek1PwgffylkE64ez\n",
       "aht4xwffy3mMtQv8aRFb1Pvr5Tw+FsEe/QYGhJ1yHreK4BOg1t/ZeVDOwr9emMgm8LvVul3Ow2pQ\n",
       "2utXz/aMSkxG2GQIiV4BNnJhzf/x8GJgF5+jOzQOf4jW4EN7AicpUVT0BVF6o+lNsJjbMznFpXL2\n",
       "8YGdH5YfjSRoAaOUSRdWXODhz100028qFVo149MNN1aJsA84KS0pdlHgAf9UzsRQKiKz+7lJlpjz\n",
       "S3r4ySW+i2enKNCegsu0hxSDt80MqI4rCma5Ap9O12OVj+dhTVAM33Ubl2lrsGsuxYXjbFmvQ4kI\n",
       "3jMFMk5KBlXN31gpZox13IO3KmuOl2TkYI+rD89hWnsoEdZeBjJOSga5cwP2Xy/1zbLOYYmkkS4N\n",
       "xyMu/BHyaawN1kOIT+9rIDuhqAiIbARrM5O5i/V5/QxtwTGe0RqvgJM6XL6BEwMeQty9OwBEJxUV\n",
       "UXiXzNPzInvZDpMQWww37VR7CPGZmFAAxaUiYOGdWE2Cn/JOVMv61OtjuYPF6UR7CHFFHTwCiq/o\n",
       "iOygH3i3u7EXIXfAO0Hbi83zIe8eATQ/yjfKrs/m/Ufb1e4FHOghwAA/+rf2y/BrDfbXrunxqkWN\n",
       "CaC4VMr/CWjgGNs/FMG9rp/QvYUAAAAASUVORK5CYII=\n",
       "\" style=\"display:inline;vertical-align:middle;\" /></a><br>(see <a class=\"ProveItLink\" href=\"../../../__pv_it/theorems/49c5020168c2aa4b5badd9e490f564bc9247d0bf0/dependencies.ipynb\">dependencies</a>)<br>"
      ],
      "text/plain": [
       "symmetric_greater_eq: forall_{x, y | x >= y, y >= x} (x = y)"
      ]
     },
     "execution_count": 2,
     "metadata": {},
     "output_type": "execute_result"
    }
   ],
   "source": [
    "%proving symmetric_greater_eq"
   ]
  },
  {
   "cell_type": "code",
   "execution_count": null,
   "metadata": {},
   "outputs": [],
   "source": []
  }
 ],
 "metadata": {
  "kernelspec": {
   "display_name": "Python 3",
   "language": "python",
   "name": "python3"
  }
 },
 "nbformat": 4,
 "nbformat_minor": 0
}