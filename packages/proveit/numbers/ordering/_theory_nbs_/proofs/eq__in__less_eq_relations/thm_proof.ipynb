{
 "cells": [
  {
   "cell_type": "markdown",
   "metadata": {},
   "source": [
    "Proof of <a class=\"ProveItLink\" href=\"../../../../../_theory_nbs_/theory.ipynb\">proveit</a>.<a class=\"ProveItLink\" href=\"../../../../_theory_nbs_/theory.ipynb\">numbers</a>.<a class=\"ProveItLink\" href=\"../../theory.ipynb\">ordering</a>.<a class=\"ProveItLink\" href=\"../../theorems.ipynb#eq__in__less_eq_relations\">eq__in__less_eq_relations</a> theorem\n",
    "========"
   ]
  },
  {
   "cell_type": "code",
   "execution_count": 1,
   "metadata": {},
   "outputs": [],
   "source": [
    "import proveit\n",
    "theory = proveit.Theory() # the theorem's theory"
   ]
  },
  {
   "cell_type": "code",
   "execution_count": 2,
   "metadata": {},
   "outputs": [
    {
     "data": {
      "text/html": [
       "Under these <a href=\"presumptions.txt\">presumptions</a>, we begin our proof of<br><strong id=\"eq__in__less_eq_relations\">eq__in__less_eq_relations:</strong> <a class=\"ProveItLink\" href=\"../../../__pv_it/theorems/e1dc9589bf6a3fd2f629123bb4feabbd7585baf60/expr.ipynb\"><img src=\"data:image/png;base64,iVBORw0KGgoAAAANSUhEUgAAAHkAAAAVBAMAAACQ4lxbAAAAMFBMVEX///+6urqqqqoQEBDc3Nzu\n",
       "7u6IiIjMzMwiIiJERESYmJhUVFRmZmYyMjJ2dnYAAAB5hzdQAAAAAXRSTlMAQObYZgAAATNJREFU\n",
       "OMtjYMACuE4xEATsxwKwS7DeYyACMJpjF+f6QIxuhrPYhfkasImytaMJvCCgm+k6QjCujQGv7pUd\n",
       "HRdQdHP1OMAlfboY8OquTEWzm60PEarelxjw6ma9iuZyZKdWXsTiwcdA/PYuCNxh4Ea4khvkgRgk\n",
       "p3JORwoUsPq7BxgY1iOZxIlgKhcATUB2KlsbtpTBewDBLgaZCA61yhYgEY3iUa4+bNp3JMCZnghR\n",
       "4QKMQGa644Bp9waYv28zMCOEuSdgRjDj7QIUf29A9TdPAgOeGAPmipkCWMIcDpow0hootcRfgImy\n",
       "bEfiYKSW6IkBWFIqRyuSEhQOWkqVm4GWUsFAlQEXB1cuMUDiPGDAxXlBOH+zggIztgME2iEcQvmb\n",
       "Aals4UIxFiUODXHoZiK2XAMAZwdk0S2MOUcAAAAASUVORK5CYII=\n",
       "\" style=\"display:inline;vertical-align:middle;\" /></a><br>(see <a class=\"ProveItLink\" href=\"../../../__pv_it/theorems/40993327e709ea82daafe5bfbf5cf4b9736d74740/dependencies.ipynb\">dependencies</a>)<br>"
      ],
      "text/plain": [
       "eq__in__less_eq_relations: = in {<, <=, =}"
      ]
     },
     "execution_count": 2,
     "metadata": {},
     "output_type": "execute_result"
    }
   ],
   "source": [
    "%proving eq__in__less_eq_relations"
   ]
  },
  {
   "cell_type": "code",
   "execution_count": null,
   "metadata": {},
   "outputs": [],
   "source": []
  }
 ],
 "metadata": {
  "kernelspec": {
   "display_name": "Python 3",
   "language": "python",
   "name": "python3"
  }
 },
 "nbformat": 4,
 "nbformat_minor": 0
}