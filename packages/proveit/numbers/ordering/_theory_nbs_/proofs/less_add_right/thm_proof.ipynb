{
 "cells": [
  {
   "cell_type": "markdown",
   "metadata": {},
   "source": [
    "Proof of <a class=\"ProveItLink\" href=\"../../../../../_theory_nbs_/theory.ipynb\">proveit</a>.<a class=\"ProveItLink\" href=\"../../../../_theory_nbs_/theory.ipynb\">numbers</a>.<a class=\"ProveItLink\" href=\"../../theory.ipynb\">ordering</a>.<a class=\"ProveItLink\" href=\"../../theorems.ipynb#less_add_right\">less_add_right</a> theorem\n",
    "========"
   ]
  },
  {
   "cell_type": "code",
   "execution_count": 1,
   "metadata": {},
   "outputs": [],
   "source": [
    "import proveit\n",
    "theory = proveit.Theory() # the theorem's theory"
   ]
  },
  {
   "cell_type": "code",
   "execution_count": 2,
   "metadata": {},
   "outputs": [
    {
     "data": {
      "text/html": [
       "Under these <a href=\"presumptions.txt\">presumptions</a>, we begin our proof of<br><strong id=\"less_add_right\">less_add_right:</strong> <a class=\"ProveItLink\" href=\"../../../__pv_it/theorems/ddfd395e737dde212e39818e969e9f2d7c3943f90/expr.ipynb\"><img src=\"data:image/png;base64,iVBORw0KGgoAAAANSUhEUgAAARAAAAAWBAMAAAD6Ct6PAAAAMFBMVEX///8QEBCIiIhmZma6urrM\n",
       "zMxUVFQiIiJERETc3Nzu7u6qqqp2dnaYmJgyMjIAAAAcRTyBAAAAAXRSTlMAQObYZgAAA5FJREFU\n",
       "SMe9Vk1oE0EUftl0m2SzSXroQS3K0toqCBJSrIpVI4IFQRsvrQehpf7gH6WH6qH1UEUlUSqLh9rj\n",
       "Qg5KKGZRsC1IDfZQqG1ZimApWoK0ihaDiIINKr6ZSbI/2YBCdODN7n6z8+bb9755swBlbx7tb2Dw\n",
       "yszS5OFNOYk8KAULV3vsBs4xe0HuP5aTyIeSsD9oN/CQ2TCJ2kAZefisq01E8nBAzadDMoyLEjW/\n",
       "ghe1jERcsvn51e4C3KrYERGqqPmmE4l75cyMxdmWaR2eAjsisMzsezR6pZxE6kium0Mb2NdOSQb4\n",
       "Xe0eCxGxth5gEqidBojlnVRk7J1XWIGjdLNxz1PF7w6iHZD9nymPnZoBFn4pSdlExNMPdwCWgNpB\n",
       "ENIFL5Mmn6NbT76lN27zWodBpIp8DU/o85hxsB9X3AhOqv9u1Qh7sxCQTERcKbiAywA1F3B6qVnV\n",
       "JfS0UeNEmJaKiRzvBD9doRcCRH4TpoxXAziz4CKYYCBC4DQkMYRiJvN+UybTieB+qt4OZqLm0r2s\n",
       "Fe4WxhOARBa1IiJDmMkACbHwDRy40pK5ZOKKjgFI0j3r0VNTTctIq2qKyDowEPGk2/Am3rCCPf+l\n",
       "QaESkipI7AmRlE5ECHWj+/gNMq/2PL69Bi4NtmtMdZKeA/zuZ2ARK8IBLReCPBHhB7205Cx2CqFL\n",
       "fJas3McRAr18lR8YkcagTuR+pEOBkWW6KRXcBTzJQAv7RpyiqzKpQrdXNm9fhANhFI8pIj/xtiBW\n",
       "eIwngDPIk3PALflQuCi0SJwScZ7pNYi1EdqBZ66ukZkYEYc0cp08kym63tHNZdFS0BCu1NxBM5Em\n",
       "EHYANAMzomSHyhHxOMLOTqCJb49GoxIn3n1pIFIDDQBzYZbxJqqRQBhGbgObkmsYZKGrfmizpcQT\n",
       "ODRrKWji7Dz2KznzYd6SsnsRLwGFeCRKrGSp8Z5QCkSENRhMgLCL+M0iq/yu4VZz4rUv8XawucT3\n",
       "MKPNIXccgWHFpSxg7w9DUIwwjUwbxLqe/4rC9JxFl32+Ac8trJa0jvg+AZlS6tCzgQWl+NDLlc6u\n",
       "R3vhmMpfTGHvCc0rQAI+OpeK79OJHNpWR3aI56YMbTPA1wA3w7x7FTol12L21TlW6kzI/QYYm2ro\n",
       "OdRIYcBc0Hjm0/u3P0ZQmmGs6Kct35ub287BeHl+FX0yMyNk6P+ACHM8htsrqsB/as5/v8Rv8wbw\n",
       "UN1mcjgAAAAASUVORK5CYII=\n",
       "\" style=\"display:inline;vertical-align:middle;\" /></a><br>(see <a class=\"ProveItLink\" href=\"../../../__pv_it/theorems/099be70562fd83439efef62ff19581bdade69e940/dependencies.ipynb\">dependencies</a>)<br>"
      ],
      "text/plain": [
       "less_add_right: forall_{a, b, c in Real | a < b, 0 <= c} (a < (b + c))"
      ]
     },
     "execution_count": 2,
     "metadata": {},
     "output_type": "execute_result"
    }
   ],
   "source": [
    "%proving less_add_right"
   ]
  },
  {
   "cell_type": "code",
   "execution_count": null,
   "metadata": {},
   "outputs": [],
   "source": []
  }
 ],
 "metadata": {
  "kernelspec": {
   "display_name": "Python 3",
   "language": "python",
   "name": "python3"
  }
 },
 "nbformat": 4,
 "nbformat_minor": 0
}