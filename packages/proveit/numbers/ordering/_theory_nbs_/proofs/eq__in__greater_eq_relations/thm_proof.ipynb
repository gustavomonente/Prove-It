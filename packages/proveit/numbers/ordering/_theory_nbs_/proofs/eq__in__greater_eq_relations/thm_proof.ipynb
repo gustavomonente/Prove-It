{
 "cells": [
  {
   "cell_type": "markdown",
   "metadata": {},
   "source": [
    "Proof of <a class=\"ProveItLink\" href=\"../../../../../_theory_nbs_/theory.ipynb\">proveit</a>.<a class=\"ProveItLink\" href=\"../../../../_theory_nbs_/theory.ipynb\">numbers</a>.<a class=\"ProveItLink\" href=\"../../theory.ipynb\">ordering</a>.<a class=\"ProveItLink\" href=\"../../theorems.ipynb#eq__in__greater_eq_relations\">eq__in__greater_eq_relations</a> theorem\n",
    "========"
   ]
  },
  {
   "cell_type": "code",
   "execution_count": 1,
   "metadata": {},
   "outputs": [],
   "source": [
    "import proveit\n",
    "theory = proveit.Theory() # the theorem's theory"
   ]
  },
  {
   "cell_type": "code",
   "execution_count": 2,
   "metadata": {},
   "outputs": [
    {
     "data": {
      "text/html": [
       "Under these <a href=\"presumptions.txt\">presumptions</a>, we begin our proof of<br><strong id=\"eq__in__greater_eq_relations\">eq__in__greater_eq_relations:</strong> <a class=\"ProveItLink\" href=\"../../../__pv_it/theorems/6d5affebb80b0c9408ca732c7caf52d869dc83b00/expr.ipynb\"><img src=\"data:image/png;base64,iVBORw0KGgoAAAANSUhEUgAAAHkAAAAVBAMAAACQ4lxbAAAAMFBMVEX///+6urqqqqoQEBDc3Nzu\n",
       "7u6IiIjMzMwiIiJERESYmJhUVFRmZmYyMjJ2dnYAAAB5hzdQAAAAAXRSTlMAQObYZgAAAS1JREFU\n",
       "OMtjYMACuE4xEATsxwKwS7DeYyACMJpjF+f6QIxuhrPYhfka0AQijmJT9gK37tgFyCK6WwjqXtnR\n",
       "cQGum/VFArKc7HYCuitTUV2e8RRFdiJe3axX0f29AsW33pfQdT8G4rd3QeAOA7cDXJj7Ajbf+rRA\n",
       "jAarv3uAgWE9kiQngqlcAPPtViQFKw6g2c2LJFAMMhFsaWULPKymIuRRgwEMdiAC1hMhKlyA4XK0\n",
       "KIDYvQHm79sMzAhh7gnoocZyAh79UH9vQPU3TwIDzhhj2auAJbU8RuY0oeiGOTUeFBSRAgwIDvbU\n",
       "Ej0xAEtK5WhFUoLCQUupcjOQUiocqDLg4uDKJQZInAcMuDgvCOdvVpD3YztAoB3CIZS/GZDKFi4U\n",
       "Y1HKFkMcupmILdcAdZ1pBf4iTtUAAAAASUVORK5CYII=\n",
       "\" style=\"display:inline;vertical-align:middle;\" /></a><br>(see <a class=\"ProveItLink\" href=\"../../../__pv_it/theorems/cd0fa5c2048b838a6129937e3b04246a6e03d4590/dependencies.ipynb\">dependencies</a>)<br>"
      ],
      "text/plain": [
       "eq__in__greater_eq_relations: = in {>, >=, =}"
      ]
     },
     "execution_count": 2,
     "metadata": {},
     "output_type": "execute_result"
    }
   ],
   "source": [
    "%proving eq__in__greater_eq_relations"
   ]
  },
  {
   "cell_type": "code",
   "execution_count": null,
   "metadata": {},
   "outputs": [],
   "source": []
  }
 ],
 "metadata": {
  "kernelspec": {
   "display_name": "Python 3",
   "language": "python",
   "name": "python3"
  }
 },
 "nbformat": 4,
 "nbformat_minor": 0
}