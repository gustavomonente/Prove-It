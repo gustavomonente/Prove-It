{
 "cells": [
  {
   "cell_type": "markdown",
   "metadata": {},
   "source": [
    "Proof of <a class=\"ProveItLink\" href=\"../../../../../_theory_nbs_/theory.ipynb\">proveit</a>.<a class=\"ProveItLink\" href=\"../../../../_theory_nbs_/theory.ipynb\">numbers</a>.<a class=\"ProveItLink\" href=\"../../theory.ipynb\">ordering</a>.<a class=\"ProveItLink\" href=\"../../theorems.ipynb#greater_add_left\">greater_add_left</a> theorem\n",
    "========"
   ]
  },
  {
   "cell_type": "code",
   "execution_count": 1,
   "metadata": {},
   "outputs": [],
   "source": [
    "import proveit\n",
    "theory = proveit.Theory() # the theorem's theory"
   ]
  },
  {
   "cell_type": "code",
   "execution_count": 2,
   "metadata": {},
   "outputs": [
    {
     "data": {
      "text/html": [
       "Under these <a href=\"presumptions.txt\">presumptions</a>, we begin our proof of<br><strong id=\"greater_add_left\">greater_add_left:</strong> <a class=\"ProveItLink\" href=\"../../../__pv_it/theorems/a8bcf17421e380b3edf8fe7d8dfeffd48af82a890/expr.ipynb\"><img src=\"data:image/png;base64,iVBORw0KGgoAAAANSUhEUgAAARAAAAAWBAMAAAD6Ct6PAAAAMFBMVEX///8QEBCIiIhmZma6urrM\n",
       "zMxUVFQiIiJERETc3Nzu7u6qqqp2dnaYmJgyMjIAAAAcRTyBAAAAAXRSTlMAQObYZgAAA6tJREFU\n",
       "SMe9Vk1oE1EQnuxPk2w2iQdBVITQahX/KC2ISC0RQU9KvFQPQqX+oEVLheqh9hCslbQiLBZajys5\n",
       "VEIxi4JSEA3tQYlFgghWUQn+gRWCiIKtCs68t9mfdItFogMz+97k7XvfznwzeQBVl2CBq6eMe3pD\n",
       "GkCRBq+qCeS6qZ5So81bvgzNCYBHNJmpJpCPpnqKUpzneot6A+AqBTNZRRzhBq623HROJpi94Ujd\n",
       "D1Q1BhEdH0YVgfg1rgsAucYD8yBWdkhzNF8C4XwmM1LNzIyYugCQSJw/1+ZNh9pF9h3A91Sqt5pA\n",
       "6kwNNjeuqAAyUZsAtZy1Z9tMZO11mJBJgKMAA1aYSt6bS5WOvRWcEyZy5eFlU3dokc9uICNGoAhh\n",
       "6817J9gjO6PMArwG2Olk8qRr+zvrDr9hg4DdJBI8nuXvkvhuL+F2ecU5rsoqEJNuIL1QY0Coy/6a\n",
       "DrL3dfiCRyGxQLAp/Mmus7tNBUGFfMwNRDnOeBix6D10lGw3RHXTsZSrOAd+evdxqXS6VPoAzIMi\n",
       "f7aBDJJtAeUnQBt+XMFvx2DWGk2PZwCBvCi4gUDwIiGJ2mUx1I/wvoHPcAPxJSGbcEXEl3QDMVPz\n",
       "FqQfDEiw2IrTdP17WvWlnj5MrY1JFHsCkrOBKI2duLXch0vaajs4+9CMXQB5FvwFd2qyObjvrpos\n",
       "20rqqiDrLxaq3TgaOIJnnJEpcEKPQAC65SUR4ECaGmwgo4k2gikhb9bqVBj++D7yj83IZh4cZM0a\n",
       "0BnSnECiCNWwyGqV71e4VmBkhVuIUWyQCWkgRuuQZIk0AyIe63aQtQn28965HM6zN7eCTPPNBYyI\n",
       "L+bg+yTb6qzqioh4CNIJEHMVDe0U9KFtJqTo8xnCIUpjHFezdO9PpVIxQb3y1AFkJdTz5MaQBFuY\n",
       "g/ZcZxBHomajYkFGVdrXDK92V83UKzwpkqho8emNNCZihDHeWS3wAh9RnUAQE2t4akIHdQsIlvvl\n",
       "DJEdgzrHQBC1lYdxd9X8ocWPev8Xlpnj09r2wFXdr0+jxS7coCY4R/IOsi6XvyL4A0SynnAyOIh9\n",
       "WVS2xnk7vb3wn15m/p9epajlTEntN7fDPkM+mUMbbHyiwyVqaI9z6RYbyK4NdQUYZkXXOgXyShja\n",
       "tF7mJSpM2UcPgKNXL+IaAPwa4BTDYQXkiPWD3Ufkfvta9TcXo4Dm6R6Yd2Er24rXF3/r+8NV8bn3\n",
       "HcZ9ZthhFwGEnRXC6koNwv8S8d8f8RsU2P+sYWvM4wAAAABJRU5ErkJggg==\n",
       "\" style=\"display:inline;vertical-align:middle;\" /></a><br>(see <a class=\"ProveItLink\" href=\"../../../__pv_it/theorems/0f8d54d9759e2a17bb33302d23821e180e544fc90/dependencies.ipynb\">dependencies</a>)<br>"
      ],
      "text/plain": [
       "greater_add_left: forall_{a, b, c in Real | a > b, c >= 0} ((a + c) > b)"
      ]
     },
     "execution_count": 2,
     "metadata": {},
     "output_type": "execute_result"
    }
   ],
   "source": [
    "%proving greater_add_left"
   ]
  },
  {
   "cell_type": "code",
   "execution_count": null,
   "metadata": {},
   "outputs": [],
   "source": []
  }
 ],
 "metadata": {
  "kernelspec": {
   "display_name": "Python 3",
   "language": "python",
   "name": "python3"
  }
 },
 "nbformat": 4,
 "nbformat_minor": 0
}