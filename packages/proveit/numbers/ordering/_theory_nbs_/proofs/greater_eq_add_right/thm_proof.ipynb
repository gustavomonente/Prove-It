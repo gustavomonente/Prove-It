{
 "cells": [
  {
   "cell_type": "markdown",
   "metadata": {},
   "source": [
    "Proof of <a class=\"ProveItLink\" href=\"../../../../../_theory_nbs_/theory.ipynb\">proveit</a>.<a class=\"ProveItLink\" href=\"../../../../_theory_nbs_/theory.ipynb\">numbers</a>.<a class=\"ProveItLink\" href=\"../../theory.ipynb\">ordering</a>.<a class=\"ProveItLink\" href=\"../../theorems.ipynb#greater_eq_add_right\">greater_eq_add_right</a> theorem\n",
    "========"
   ]
  },
  {
   "cell_type": "code",
   "execution_count": 1,
   "metadata": {},
   "outputs": [],
   "source": [
    "import proveit\n",
    "theory = proveit.Theory() # the theorem's theory"
   ]
  },
  {
   "cell_type": "code",
   "execution_count": 2,
   "metadata": {},
   "outputs": [
    {
     "data": {
      "text/html": [
       "Under these <a href=\"presumptions.txt\">presumptions</a>, we begin our proof of<br><strong id=\"greater_eq_add_right\">greater_eq_add_right:</strong> <a class=\"ProveItLink\" href=\"../../../__pv_it/theorems/9c187dae942abce548cf99845d05053ca03d5a480/expr.ipynb\"><img src=\"data:image/png;base64,iVBORw0KGgoAAAANSUhEUgAAARAAAAAWBAMAAAD6Ct6PAAAAMFBMVEX///8QEBCIiIhmZma6urrM\n",
       "zMxUVFQiIiJERETc3Nzu7u6qqqp2dnaYmJgyMjIAAAAcRTyBAAAAAXRSTlMAQObYZgAAA59JREFU\n",
       "SMe9Vl1IFFEUPjvruLuzs7s+9FBJsWiaEMSiZEJWG4E9ldtD+hIoloEVImkFamBhsKsYQ4L5OLQP\n",
       "hUg7FFhC0JIPhakM0oNIhUQqKS0RBblUdO69s/Ozzj4IWxfOnTvfzD33m3O/c+4A5L151K3A4JWY\n",
       "LZGb9/kk8jAXLNzssHvQxuwNGa/lk8hnfSR0yhbYH7J7/xGzURK1vjzy8JlW865IZjigZPCgaYIY\n",
       "pOZH0qKSRyIuyXRTsBIxwfWyHRGhiJpvemzsXj53xuqMj4YN+BXYEYFPzH5Go735JFJK9rq2cmcm\n",
       "WdoVHV4pOZRFRCwpA5gCaq0AMT2SKXvnBdnAKZps3Mvk5neH0I5J/q962h6UNFj4IyckCxFPD9wB\n",
       "+ADUjoOwpHuZsvh8WnHuIx24DUpt7EuoIt/BBNRJWUR6cMVd4NT17+vMwN40BIIWIq4kXMJlgJoL\n",
       "OKPUrBsSel6lciJMB61EYLiV9H4a7y4IyJ7qiJXINgBnGlyZ4HO9sg4vQQJDKKZSq7tTqWYEj9Jn\n",
       "TcxE1WV42dBHC5NjgEQW1SwiMHwbuwCJg/ADHAp4aiLZRBx9kNDA8SsGjGWkXrFEZDuYiHiWGnAQ\n",
       "L18mGv9WLlMJBQtI7AmRpEFEqGwn7sf7cV7JRXx7A1zIU3gdplOMrcHvfqGxvmHasYCqhSBDRPhF\n",
       "Lyc0i51H6CqfJit3c4RAF1/kB0akKmQQeRBpon7G12CvjFnAazsgzMlkiiHWhALt5PiAkXWzhgNh\n",
       "FI8lIr9xqIsVnuAJ4Azx5BxwB30oXBRaJE6JOC90mcRaBY30ul+FW2QmRsRBPHJf6BRD7+jmmkgY\n",
       "9oM5DQpVd8hKpBqEAwC1wIwo2aFwRDyOsLOZ3AA0RqPRICfefWsiUgzlxHuFQna8mmokgLtyf5BN\n",
       "0RoGWWgpG9mTlUwErpzNKmji7Dz2y5r5MN4Jyb2Il4BMPBIlFrKt8Z6VdSLCBgyNMUVAGlmxrKGS\n",
       "YeK1KfE5Kr+1xHcwo80hNZ2EUdklL2DvD0NIjDCNTJvEuoP/rgo1tGR3+/o8A1gtJyBOw0+m2Bx6\n",
       "Oc5CEOTNh55Wp1oeH4bTCn85ib2ncl6GQVJl5pLxIwaRun2lKs+k0DADfDFwMyE4w0okmaK1mLHe\n",
       "6nXSIlmw/W+AuSmmnkON6A/ctr9WW/0xytFim1jSjNN6a7MlMpmfX0WfxMwMmfpcRLyYTdEBOmSO\n",
       "nxFAhv/UnP9+ib/fyvWCMSWldwAAAABJRU5ErkJggg==\n",
       "\" style=\"display:inline;vertical-align:middle;\" /></a><br>(see <a class=\"ProveItLink\" href=\"../../../__pv_it/theorems/f7a1baa40d98c04b4b655511a44f185b2fc2461c0/dependencies.ipynb\">dependencies</a>)<br>"
      ],
      "text/plain": [
       "greater_eq_add_right: forall_{a, b, c in Real | a >= b, 0 >= c} (a >= (b + c))"
      ]
     },
     "execution_count": 2,
     "metadata": {},
     "output_type": "execute_result"
    }
   ],
   "source": [
    "%proving greater_eq_add_right"
   ]
  },
  {
   "cell_type": "code",
   "execution_count": null,
   "metadata": {},
   "outputs": [],
   "source": []
  }
 ],
 "metadata": {
  "kernelspec": {
   "display_name": "Python 3",
   "language": "python",
   "name": "python3"
  }
 },
 "nbformat": 4,
 "nbformat_minor": 0
}