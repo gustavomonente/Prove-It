{
 "cells": [
  {
   "cell_type": "markdown",
   "metadata": {},
   "source": [
    "Proof of <a class=\"ProveItLink\" href=\"../../../../../_theory_nbs_/theory.ipynb\">proveit</a>.<a class=\"ProveItLink\" href=\"../../../../_theory_nbs_/theory.ipynb\">numbers</a>.<a class=\"ProveItLink\" href=\"../../theory.ipynb\">ordering</a>.<a class=\"ProveItLink\" href=\"../../theorems.ipynb#less_than_is_bool\">less_than_is_bool</a> theorem\n",
    "========"
   ]
  },
  {
   "cell_type": "code",
   "execution_count": 1,
   "metadata": {},
   "outputs": [],
   "source": [
    "import proveit\n",
    "theory = proveit.Theory() # the theorem's theory"
   ]
  },
  {
   "cell_type": "code",
   "execution_count": 2,
   "metadata": {},
   "outputs": [
    {
     "data": {
      "text/html": [
       "Under these <a href=\"presumptions.txt\">presumptions</a>, we begin our proof of<br><strong id=\"less_than_is_bool\">less_than_is_bool:</strong> <a class=\"ProveItLink\" href=\"../../../__pv_it/theorems/b781e3502bd2c10a39af4efa5db9397ad68d40560/expr.ipynb\"><img src=\"data:image/png;base64,iVBORw0KGgoAAAANSUhEUgAAALwAAAAVBAMAAAAOdJm+AAAAMFBMVEX///8QEBCIiIhmZma6urrM\n",
       "zMxUVFQiIiJERETc3Nzu7u6qqqp2dnaYmJgyMjIAAAAcRTyBAAAAAXRSTlMAQObYZgAAArZJREFU\n",
       "OMutVUtoE1EUPSSTzGQy0xZREBdSDcYsBEuLrtrSKhgQ1NSFbgoN9UPdlFJbXdhq6EITRRpUaBHE\n",
       "IYVQgmjARRFdDK0LiR9m0YVIlVF0oaLEnRYE32cmyYzJEMQLN2/eeW9O3pz7eUATFjK4N7BwtjFu\n",
       "0oe33vSLljeyM675zs2z78/1Mfw5nX/xpv9seSO77wbMo/LVHobP049PebKrHdydX/6p+qy0uxZT\n",
       "h7BDYniLRoaiJ72Y5e74y7M1gNxmgVfOX7TpH0sMV0uFwpy3NnOW15hvSqudfmS/gRmtevqnixz/\n",
       "mU5PedNHLM9Fb+3iMtwbt5ZynQhtAVZ4CLSqOMLkKTCcDBlv+uvcZV0dF1miLUzbS3o/fGXgnSuB\n",
       "Uv2XfpDMofh+yObflEuxEx/s5wvcFU1ZF6jiwa+Vgij2QiJ5scRJa0P7cg0MF+FzVYz8pMvwKSjZ\n",
       "+bCRu8yYiOUr9DI2oJVsG2LSb/1OzKaXBIPhiiG6Tv76UQGE/o3hpAdjonazIo6wjqGERR9ynF5C\n",
       "kuEh8xgBlvdEyTYhClETaIpTet0pDhiTM7R+E9vIEGeTtlr6IO0HFM+cJGzaqEhiobRqA2gBp+/q\n",
       "cIY2rO0m+5yJKSVxGXZoOx2nV3WOPxwjuuEbhW/HEcMCe99/esLevML9SHEWd1xl5U8Kv8nQzcuv\n",
       "Up3mIF7stXCu6C+Gd2MYx9PpdLtPubFqb45zz2/P9RiupiAPR+iLvEHIIwedLY3hKv3OQDlAFyaw\n",
       "iajGxAkPah5NoWJEfchjVqCfWU3BTiwLx13FVDCvYVIoQ0lw7Uu6V0vjNooHfXVamrvV5VeXSxgo\n",
       "4kCMHOYaLYhX+kKvvS2DRpU9jZl6Dbl+oy7KWYmo6yPaN3md7Isk0LipZFyXV1A//A+XoZptClch\n",
       "rOn4r/YHki+/IgGJHAQAAAAASUVORK5CYII=\n",
       "\" style=\"display:inline;vertical-align:middle;\" /></a><br>(see <a class=\"ProveItLink\" href=\"../../../__pv_it/theorems/2163558b334b4c690460c479b5c55092a1b7621a0/dependencies.ipynb\">dependencies</a>)<br>"
      ],
      "text/plain": [
       "less_than_is_bool: forall_{x, y in Real} ((x < y) in BOOLEAN)"
      ]
     },
     "execution_count": 2,
     "metadata": {},
     "output_type": "execute_result"
    }
   ],
   "source": [
    "%proving less_than_is_bool"
   ]
  },
  {
   "cell_type": "code",
   "execution_count": null,
   "metadata": {},
   "outputs": [],
   "source": []
  }
 ],
 "metadata": {
  "kernelspec": {
   "display_name": "Python 3",
   "language": "python",
   "name": "python3"
  }
 },
 "nbformat": 4,
 "nbformat_minor": 0
}