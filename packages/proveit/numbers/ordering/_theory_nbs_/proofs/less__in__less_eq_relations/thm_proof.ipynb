{
 "cells": [
  {
   "cell_type": "markdown",
   "metadata": {},
   "source": [
    "Proof of <a class=\"ProveItLink\" href=\"../../../../../_theory_nbs_/theory.ipynb\">proveit</a>.<a class=\"ProveItLink\" href=\"../../../../_theory_nbs_/theory.ipynb\">numbers</a>.<a class=\"ProveItLink\" href=\"../../theory.ipynb\">ordering</a>.<a class=\"ProveItLink\" href=\"../../theorems.ipynb#less__in__less_eq_relations\">less__in__less_eq_relations</a> theorem\n",
    "========"
   ]
  },
  {
   "cell_type": "code",
   "execution_count": 1,
   "metadata": {},
   "outputs": [],
   "source": [
    "import proveit\n",
    "theory = proveit.Theory() # the theorem's theory"
   ]
  },
  {
   "cell_type": "code",
   "execution_count": 2,
   "metadata": {},
   "outputs": [
    {
     "data": {
      "text/html": [
       "Under these <a href=\"presumptions.txt\">presumptions</a>, we begin our proof of<br><strong id=\"less__in__less_eq_relations\">less__in__less_eq_relations:</strong> <a class=\"ProveItLink\" href=\"../../../__pv_it/theorems/56e7912b89f8c250c17168a0a573ebb83bb8a3c30/expr.ipynb\"><img src=\"data:image/png;base64,iVBORw0KGgoAAAANSUhEUgAAAHkAAAAVBAMAAACQ4lxbAAAAMFBMVEX///+6uroQEBBERERUVFTu\n",
       "7u52dnaIiIjc3NxmZmYiIiKYmJjMzMwyMjKqqqoAAAASK41gAAAAAXRSTlMAQObYZgAAAUBJREFU\n",
       "OMtjYMACuGczEAQ80wOwS7BeYyACMOpgF+f+QIxuhrnYhdkWYBNlX4MmkAVj8N3BqhtZOGw5Aw7d\n",
       "3CsbgOTmVasuoOiGCENA52oGHLrZl4GC73Apmt0QYQhouceAQzfETaxX0VyO7NTDF7EERBKIiIS4\n",
       "iQXhSpYLCGEwYLZBCpS7YDCBgWE/SCnUTcwIBY8OIIQhfliOLWXwAk0IgSo7BDIRHGqHVzAghKHh\n",
       "twybdq8CeGg2I0SFDmAEMt/NBky7HRDBw4QQZjHAjGDGKwdQ/O0A8TcsajgLGPDEGDBXGAtgC3NY\n",
       "sliHkdZAwvEXYKIcPkgcjJQaYhiAJaVyLUVSj8JB6AYDMSu0lAoGTxlwcbJw5DEFJE4CAy5OFuH8\n",
       "zQoKzNhVILAGwiGUvxmQyhZuFGNR4lARh24+Yss1APHCZMh6s4S3AAAAAElFTkSuQmCC\n",
       "\" style=\"display:inline;vertical-align:middle;\" /></a><br>(see <a class=\"ProveItLink\" href=\"../../../__pv_it/theorems/2666a49195602a795681147817876a88459ef4200/dependencies.ipynb\">dependencies</a>)<br>"
      ],
      "text/plain": [
       "less__in__less_eq_relations: < in {<, <=, =}"
      ]
     },
     "execution_count": 2,
     "metadata": {},
     "output_type": "execute_result"
    }
   ],
   "source": [
    "%proving less__in__less_eq_relations"
   ]
  },
  {
   "cell_type": "code",
   "execution_count": null,
   "metadata": {},
   "outputs": [],
   "source": []
  }
 ],
 "metadata": {
  "kernelspec": {
   "display_name": "Python 3",
   "language": "python",
   "name": "python3"
  }
 },
 "nbformat": 4,
 "nbformat_minor": 0
}