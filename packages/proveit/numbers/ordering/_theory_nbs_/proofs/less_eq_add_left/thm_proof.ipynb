{
 "cells": [
  {
   "cell_type": "markdown",
   "metadata": {},
   "source": [
    "Proof of <a class=\"ProveItLink\" href=\"../../../../../_theory_nbs_/theory.ipynb\">proveit</a>.<a class=\"ProveItLink\" href=\"../../../../_theory_nbs_/theory.ipynb\">numbers</a>.<a class=\"ProveItLink\" href=\"../../theory.ipynb\">ordering</a>.<a class=\"ProveItLink\" href=\"../../theorems.ipynb#less_eq_add_left\">less_eq_add_left</a> theorem\n",
    "========"
   ]
  },
  {
   "cell_type": "code",
   "execution_count": 1,
   "metadata": {},
   "outputs": [],
   "source": [
    "import proveit\n",
    "theory = proveit.Theory() # the theorem's theory"
   ]
  },
  {
   "cell_type": "code",
   "execution_count": 2,
   "metadata": {},
   "outputs": [
    {
     "data": {
      "text/html": [
       "Under these <a href=\"presumptions.txt\">presumptions</a>, we begin our proof of<br><strong id=\"less_eq_add_left\">less_eq_add_left:</strong> <a class=\"ProveItLink\" href=\"../../../__pv_it/theorems/d1cb5b0d1aadb2fb25a4162bd14c836bb8ba4df40/expr.ipynb\"><img src=\"data:image/png;base64,iVBORw0KGgoAAAANSUhEUgAAARAAAAAWBAMAAAD6Ct6PAAAAMFBMVEX///8QEBCIiIhmZma6urrM\n",
       "zMxUVFQiIiJERETc3Nzu7u6qqqp2dnaYmJgyMjIAAAAcRTyBAAAAAXRSTlMAQObYZgAAA6RJREFU\n",
       "SMe9Vl9IU1EY/3a36/7dbT4EURIMVxb9YyhEDyZGUE/FfNEegollUJSYaIEajCLYDOGSoD5e2YMx\n",
       "wl0MCiNw6IuYyIgeLFJGmpDSCDFILeg759y7e+92hxGrA993vu/s/Pnt+37fuQeg5M2ZZmLaJkxH\n",
       "3SJAhhiLpQTyVBHTViYWTN+L6gbAG+KslRLIF0VMmyuj2VwX7ZZRxgCGSTAjJcThCTLR2rjemcpZ\n",
       "zzpYv4Mi+MErYSeXEIhdZFIEyIhqDNxnvW2bBKocPLOJxFApMzOkSBEg3nrWD64rA0I70SsAP6LR\n",
       "3lICCSjirK3enwdkqjIEAsva5ZUcspYAJmQaoBUgpg7asuab2/IHLmWMPjeVUs1+Rc6K3m9GIEOy\n",
       "IwMeutLxKLc0uebaAlgCOKdn8rRh+5dHrn6ihsNY9RH1f+X8j/BC9XqYuA6ANWIE0gtlMrhpJrgO\n",
       "SZ0/KcEGHoXEAk67fda1Ontdk+YEmPUXAHEjOK9s9DvBp+68h4l1G+xk7Xw2eyebXQU6go1nYfL0\n",
       "qvPrwPUTIIxkSdu1Tbdy1sJEAhDIh3Q+EM9XVD7R4Lu+g0U2ArFEIBkyRMQS0QEB97KyxTLYdigQ\n",
       "Z6YR3XjVZzJro4oAFSr9NhJ7AiSlAXFVt4WAIzggXHmTsY/5/BbY08bUJFMwaayaJN3K1q7ybpXh\n",
       "/EVDdQGt2DU8o4sngeO6OQKgky/3AgNSE9SAjIbCkq2HmoclUhj2+gbm80oedGRNytDmFvVAfAhV\n",
       "VshKF0VpJW/CSJqSFZ4jRmuQJ0gdfjIPSRaKUyDW6506stZAE7hm6OoHdOVp4JmPEbH4dXyfplvd\n",
       "FQwRsTZDPATWlPZ1bCX6NjxEXUuQ4hYWmWsmaazH2TTdTdFo1M8JT97pgFRAFcZuRqYkOEUHFB85\n",
       "4lMuKhpkFFfLocGDxqqZW8STvKG8myB+nCSVEMODtEiKjg/Y+SQCgjCxjKXGfUXKAcFy709gfxKn\n",
       "bFMQjNrE11XNLlf8qPm3UGWORQxfhGHJLi2gxls4KIQYR2Z1ZN3Hb1JGLqWh2xNx9uG9bFX8gHaP\n",
       "FH70EuYfPX0T1MTaWsbPQIPM30qhdla/leAxudDmU/E6Dcj5YwFWGq+gcQ74Chg4cVTxuTnt6Bjo\n",
       "7uoiz4Cxe6R15YbHjLNkneaQI7kfHKbPqr95GDlE0+FYwYNN1XnL//zVt8tT8b35G8Z4pkeniwFx\n",
       "YzVF+6iZzvP/R7P++yN+A4j4Bu4tCvUoAAAAAElFTkSuQmCC\n",
       "\" style=\"display:inline;vertical-align:middle;\" /></a><br>(see <a class=\"ProveItLink\" href=\"../../../__pv_it/theorems/8d0816b1b6c2f81bababe938c03128e1714254070/dependencies.ipynb\">dependencies</a>)<br>"
      ],
      "text/plain": [
       "less_eq_add_left: forall_{a, b, c in Real | a <= b, c <= 0} ((a + c) <= b)"
      ]
     },
     "execution_count": 2,
     "metadata": {},
     "output_type": "execute_result"
    }
   ],
   "source": [
    "%proving less_eq_add_left"
   ]
  },
  {
   "cell_type": "code",
   "execution_count": null,
   "metadata": {},
   "outputs": [],
   "source": []
  }
 ],
 "metadata": {
  "kernelspec": {
   "display_name": "Python 3",
   "language": "python",
   "name": "python3"
  }
 },
 "nbformat": 4,
 "nbformat_minor": 0
}