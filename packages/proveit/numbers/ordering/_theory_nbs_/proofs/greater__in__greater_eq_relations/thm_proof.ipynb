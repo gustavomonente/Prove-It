{
 "cells": [
  {
   "cell_type": "markdown",
   "metadata": {},
   "source": [
    "Proof of <a class=\"ProveItLink\" href=\"../../../../../_theory_nbs_/theory.ipynb\">proveit</a>.<a class=\"ProveItLink\" href=\"../../../../_theory_nbs_/theory.ipynb\">numbers</a>.<a class=\"ProveItLink\" href=\"../../theory.ipynb\">ordering</a>.<a class=\"ProveItLink\" href=\"../../theorems.ipynb#greater__in__greater_eq_relations\">greater__in__greater_eq_relations</a> theorem\n",
    "========"
   ]
  },
  {
   "cell_type": "code",
   "execution_count": 1,
   "metadata": {},
   "outputs": [],
   "source": [
    "import proveit\n",
    "theory = proveit.Theory() # the theorem's theory"
   ]
  },
  {
   "cell_type": "code",
   "execution_count": 2,
   "metadata": {},
   "outputs": [
    {
     "data": {
      "text/html": [
       "Under these <a href=\"presumptions.txt\">presumptions</a>, we begin our proof of<br><strong id=\"greater__in__greater_eq_relations\">greater__in__greater_eq_relations:</strong> <a class=\"ProveItLink\" href=\"../../../__pv_it/theorems/842243196c83a5b9c9395c0f6145f98d8892cdde0/expr.ipynb\"><img src=\"data:image/png;base64,iVBORw0KGgoAAAANSUhEUgAAAHkAAAAVBAMAAACQ4lxbAAAAMFBMVEX///8QEBDMzMxERES6urrc\n",
       "3NxUVFSqqqpmZmaIiIgiIiJ2dnaYmJgyMjLu7u4AAACnD0uXAAAAAXRSTlMAQObYZgAAAT1JREFU\n",
       "OMtjYMACeHoYCAKmzgfYJfhuMxABWISwi/N8IEY3Qy92Ye4FaAKv+rAp2wXEbw9g1Y0qXJuKQzff\n",
       "rglQ3uFVqy7AdSOEwcA3CbtuBoZZ+8CU8jxUl0OFoUDZBIduhlMgb/HdQ/f3KRTfhl1H170RyVts\n",
       "AXBhtgvYfBuxFGL0XTBoYGA4D/dWHgMzQl2hAkIYAU41oNnNCxPwtWNQBJkItlR5KQNCGA5QgwEM\n",
       "sibAnRiMEHVUwHA5WhRA7E5ABA8jQpjNAD3UWLvg0Q/1dwLM3xA3cUxgwBljrLkFWFLLRmQ3LUfR\n",
       "DRN+DwqKxw4MCA72lPrM5AGWlMq1Dkk9CgeWWqDA2woppcJBHQMuzi4ceUwAibOBARdnF+H8zQfy\n",
       "/ttVILAIwiGUvxmQyhYeFGNRyhYRHLrZiS3XAL1/bh0bUh9MAAAAAElFTkSuQmCC\n",
       "\" style=\"display:inline;vertical-align:middle;\" /></a><br>(see <a class=\"ProveItLink\" href=\"../../../__pv_it/theorems/5325d910b07e88e657a399a6913300fa9ba7e3a10/dependencies.ipynb\">dependencies</a>)<br>"
      ],
      "text/plain": [
       "greater__in__greater_eq_relations: > in {>, >=, =}"
      ]
     },
     "execution_count": 2,
     "metadata": {},
     "output_type": "execute_result"
    }
   ],
   "source": [
    "%proving greater__in__greater_eq_relations"
   ]
  },
  {
   "cell_type": "code",
   "execution_count": null,
   "metadata": {},
   "outputs": [],
   "source": []
  }
 ],
 "metadata": {
  "kernelspec": {
   "display_name": "Python 3",
   "language": "python",
   "name": "python3"
  }
 },
 "nbformat": 4,
 "nbformat_minor": 0
}