{
 "cells": [
  {
   "cell_type": "markdown",
   "metadata": {},
   "source": [
    "Proof of <a class=\"ProveItLink\" href=\"../../../../../_theory_nbs_/theory.ipynb\">proveit</a>.<a class=\"ProveItLink\" href=\"../../../../_theory_nbs_/theory.ipynb\">numbers</a>.<a class=\"ProveItLink\" href=\"../../theory.ipynb\">ordering</a>.<a class=\"ProveItLink\" href=\"../../theorems.ipynb#greater_shift_add_right\">greater_shift_add_right</a> theorem\n",
    "========"
   ]
  },
  {
   "cell_type": "code",
   "execution_count": 1,
   "metadata": {},
   "outputs": [],
   "source": [
    "import proveit\n",
    "theory = proveit.Theory() # the theorem's theory"
   ]
  },
  {
   "cell_type": "code",
   "execution_count": 2,
   "metadata": {},
   "outputs": [
    {
     "data": {
      "text/html": [
       "Under these <a href=\"presumptions.txt\">presumptions</a>, we begin our proof of<br><strong id=\"greater_shift_add_right\">greater_shift_add_right:</strong> <a class=\"ProveItLink\" href=\"../../../__pv_it/theorems/1fb99a25c7b59954576dfc0250bbc834bdfaa9230/expr.ipynb\"><img src=\"data:image/png;base64,iVBORw0KGgoAAAANSUhEUgAAASEAAAAWBAMAAAB9OzeJAAAAMFBMVEX///8QEBCIiIhmZma6urrM\n",
       "zMxUVFQiIiJERETc3Nzu7u6qqqp2dnaYmJgyMjIAAAAcRTyBAAAAAXRSTlMAQObYZgAAA5ZJREFU\n",
       "SMfFVktoE0EY/pt3Npukhx7qQYkRi8fQoojPgAdP2njRCkJD1ULRQ9R60PYQ9ZIgSlCkvQhTAlWC\n",
       "mKUepOAhtAeh2hKrYC1UQrHxvRZB0PrAf3Z2szvbXWgb0IF/dmfm+3a//efbmQGot/jLWN22GQzk\n",
       "bAgWZVSNCm3M1aHoLoaQthvtsSIIl1IWUE+OxRPa+FCHovcYoZzd6H1LQihmARUqLAZpHtNrFxSk\n",
       "D3/OzVTE0BCVhvCZJ4QltTFiJI6xCBGkSWtX5KXpuWCrSGhULvfOcoR2YqVoiEVwolAYqGPSKNef\n",
       "slUEb9jF0U8MhMdgpSgUZ/E9k+mvQ9Em+jo6czfHNxJekRjdDDCuTdY5ohOq0Z0mRWPRBIj4GBon\n",
       "AbJav0u2eW/c1NaB1zB8+D+71sEXPkf+PrgO8LqWumpOIwh/SDHHKRqQfBUIoq1p7FMMrpZx7r0P\n",
       "txyfZ3e69W+ZgH3UGujDoTJs5xV5S3AKn6F/RZWohMAShCOcon7wSBDAyafhBYe+ZH3ULfmorewQ\n",
       "YSJiUjSc5YFNGA2Ywr0EqHtFWX67QZaToPRg6dQVvSMqwVmBYglgSpbPyHIV+5xLdMS9yEIse/Ws\n",
       "/KjdzYwWABXNlk2KYLCHA2qKmkH4xueoGThF2qw1KctRu2TMUUPaqMhfOYytfMsC7fvaQhRLRlzU\n",
       "rFRRyaCIgTp21ID6rAm/ILDIKcIeWvabnY2EcFlNoKaoqLzFlWIB2RNIP++miXNcVH6bXndjCJii\n",
       "tpiuSAXBwYgG1J0t/ARPZZTL0W+8rTlb//uREI4L67l/DSWCVHM2PEBZzpibivNFaI8zDYm88hhn\n",
       "d6/B2SoI4FmOATWL01/2MrxMljhF20DYCrDLvEIiwVP2xThFziTkE+BEPg3F9g2SI6kYAsewAXAk\n",
       "k8lEHOKNFwZFKggC8ypQmxWa6uHo0a44p0icnMZ6wbyLIEFonTStkE/nkBRKsIAg5rOY883iJUyo\n",
       "mjDdhNmsBY4RXZEKcn0iKnAlu0jKctuxXLPvqMHMnus8AIPES2awxpU8JiaYjyYMzlZA4L6CqijQ\n",
       "bqcVyLKddtnWrJWCxU6rrhVdI7vhkOQ+XcLa3zpN4CpdIadK+T26IgXk76bfSIFqoeuTbzWnkawN\n",
       "VDuNGItkqB3oI31EX486Eqs6sWWtj3hWhX6W6dPYEdTqIArpNZ5qg6s41b5Sw0g31CtX9J9K7N+9\n",
       "6i9GZhUGhGu0CQAAAABJRU5ErkJggg==\n",
       "\" style=\"display:inline;vertical-align:middle;\" /></a><br>(see <a class=\"ProveItLink\" href=\"../../../__pv_it/theorems/4aa9f2f408b44d1337d586b6440aee8b51a13f030/dependencies.ipynb\">dependencies</a>)<br>"
      ],
      "text/plain": [
       "greater_shift_add_right: forall_{a, b, c in Real | a > b} ((a + c) > (b + c))"
      ]
     },
     "execution_count": 2,
     "metadata": {},
     "output_type": "execute_result"
    }
   ],
   "source": [
    "%proving greater_shift_add_right"
   ]
  },
  {
   "cell_type": "code",
   "execution_count": null,
   "metadata": {},
   "outputs": [],
   "source": []
  }
 ],
 "metadata": {
  "kernelspec": {
   "display_name": "Python 3",
   "language": "python",
   "name": "python3"
  }
 },
 "nbformat": 4,
 "nbformat_minor": 0
}