{
 "cells": [
  {
   "cell_type": "markdown",
   "metadata": {},
   "source": [
    "Proof of <a class=\"ProveItLink\" href=\"../../../../../_theory_nbs_/theory.ipynb\">proveit</a>.<a class=\"ProveItLink\" href=\"../../../../_theory_nbs_/theory.ipynb\">numbers</a>.<a class=\"ProveItLink\" href=\"../../theory.ipynb\">ordering</a>.<a class=\"ProveItLink\" href=\"../../theorems.ipynb#greater_shift_add_left\">greater_shift_add_left</a> theorem\n",
    "========"
   ]
  },
  {
   "cell_type": "code",
   "execution_count": 1,
   "metadata": {},
   "outputs": [],
   "source": [
    "import proveit\n",
    "theory = proveit.Theory() # the theorem's theory"
   ]
  },
  {
   "cell_type": "code",
   "execution_count": 2,
   "metadata": {},
   "outputs": [
    {
     "data": {
      "text/html": [
       "Under these <a href=\"presumptions.txt\">presumptions</a>, we begin our proof of<br><strong id=\"greater_shift_add_left\">greater_shift_add_left:</strong> <a class=\"ProveItLink\" href=\"../../../__pv_it/theorems/746172a9794e18a92966fd8040565f88221e5c370/expr.ipynb\"><img src=\"data:image/png;base64,iVBORw0KGgoAAAANSUhEUgAAASEAAAAWBAMAAAB9OzeJAAAAMFBMVEX///8QEBCIiIhmZma6urrM\n",
       "zMxUVFQiIiJERETc3Nzu7u6qqqp2dnaYmJgyMjIAAAAcRTyBAAAAAXRSTlMAQObYZgAAA5xJREFU\n",
       "SMfFVk1oE0EUfvlPNpukBw/1oKwRi8dgUcTfggdP2njRCkJD1ULRQ9V60PYQ9ZIglUWR9iJsCVQJ\n",
       "YpZ6kIKH0B6EakusgrVQCcXG/1UEQesPvpndzc5Os9A2oA/ezO7M92a/nffND0C9FiphccuhMyw7\n",
       "BNSwUcPL5GWuDkZ30IW0U29X7QDOhEvdAH5Z98ek5X0djN6hR2Wn3nu1A3iLJpBWWfdBMo/p1ROK\n",
       "4FjwjE2UxHaL9E34xAWYNmLUMRWLMd2jCoapq2cUINNzwZGR0ECru2ftATyjVmQBQ7pHJvL5gTqS\n",
       "RmJD3Y6M4LVeufsUJmAJo0c0dS26f89k+upgtJF8jiRCjG+yM7oxvgFZjJvJOqdYATAWT9oYVeI7\n",
       "cYSE7icBsubwXs3huy3cuwXsRw/ieg71wjUbI+9a+IzVq+rcVeRqwIAaLLOMhD9KQYYIthHfRwVu\n",
       "2Ljtuw82H5/Xnyzp3+SAvUQaqMNAEU7ZGA2VYDsZw/qLimIG9IFfZRmFFyEmQRiTTzwAbmvL+mBJ\n",
       "8mFzyS3ChMQxGs7agWvQXTiFe+nnRE17s17TUkAbiJzbLUZvFSPAs0gbpjTtjKZV8MlThkIRfF+A\n",
       "ulgKWLPyo/o0M5oHZDRb4hjBYJcNaDJq5JXdCMI3lpGZNQxwpTll43bUqlYZhcqHsS3XtICl72uT\n",
       "QkUqeYlYCaMiw0gHte2oAq2sCb84RtgQxtFhP69sDCgUOUaxEplSL2aMOGRPYPx5H5lJ90W6bHp8\n",
       "DVHQGTUnLEYGCA5KJpBR9m/kYmP0E/zl0aqyrdXfTwmATUexFmEdVJUN95GWJ+Ej5IISafGkIZmj\n",
       "w3g6exhlGyCAp7IONCVOluw2ELbasnYZXqRwLnbxOyQGeFKQs61+fymIQ3iKuhOVg0t1p6ggEIwv\n",
       "AEcymYzkFq8/ZxgZIAjPG0AwskKmWpyctutoOH60A/W1wJ8iJODJnGTLmrBlkqgpqTtEcD4LcnAW\n",
       "q5hC2MTIIaxnLXxMsRgZIO9HxQAu5xTprnns8Hs2tduGU3PJ7QdgUAkoM1jiTp4Qk7qOJhhlUxD4\n",
       "riArAnQ4aQVl6Um75Gg2Lc/2GCetsVd0jOyGQ6rvdBHL0JZpBa6S3W2qmNtjMaKgUCf5RwI0jOxP\n",
       "wZXcRrIOUPM2wprKlG7UkdVj7UdtyRXd2LLLurFRI7/F/Zp+Ba11EYX0Km+1kRXcal8azoYz5fIZ\n",
       "/SdL/LtP/QV36xUGopKgoQAAAABJRU5ErkJggg==\n",
       "\" style=\"display:inline;vertical-align:middle;\" /></a><br>(see <a class=\"ProveItLink\" href=\"../../../__pv_it/theorems/d7225b049dfe169b58f40573611690f892b233ac0/dependencies.ipynb\">dependencies</a>)<br>"
      ],
      "text/plain": [
       "greater_shift_add_left: forall_{a, b, c in Real | a > b} ((c + a) > (c + b))"
      ]
     },
     "execution_count": 2,
     "metadata": {},
     "output_type": "execute_result"
    }
   ],
   "source": [
    "%proving greater_shift_add_left"
   ]
  },
  {
   "cell_type": "code",
   "execution_count": null,
   "metadata": {},
   "outputs": [],
   "source": []
  }
 ],
 "metadata": {
  "kernelspec": {
   "display_name": "Python 3",
   "language": "python",
   "name": "python3"
  }
 },
 "nbformat": 4,
 "nbformat_minor": 0
}