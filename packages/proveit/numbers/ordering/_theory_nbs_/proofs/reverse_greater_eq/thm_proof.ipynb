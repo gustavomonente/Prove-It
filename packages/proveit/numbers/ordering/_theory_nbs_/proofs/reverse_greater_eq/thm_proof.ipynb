{
 "cells": [
  {
   "cell_type": "markdown",
   "metadata": {},
   "source": [
    "Proof of <a class=\"ProveItLink\" href=\"../../../../../_theory_nbs_/theory.ipynb\">proveit</a>.<a class=\"ProveItLink\" href=\"../../../../_theory_nbs_/theory.ipynb\">numbers</a>.<a class=\"ProveItLink\" href=\"../../theory.ipynb\">ordering</a>.<a class=\"ProveItLink\" href=\"../../theorems.ipynb#reverse_greater_eq\">reverse_greater_eq</a> theorem\n",
    "========"
   ]
  },
  {
   "cell_type": "code",
   "execution_count": 1,
   "metadata": {},
   "outputs": [],
   "source": [
    "import proveit\n",
    "from proveit import defaults\n",
    "from proveit import x, y\n",
    "from proveit.logic.equality  import equals_symmetry\n",
    "from proveit.numbers.ordering  import reverse_relation, less_eq_def, greater_eq_def\n",
    "from proveit.logic.equality import sub_right_side_into\n",
    "theory = proveit.Theory() # the theorem's theory"
   ]
  },
  {
   "cell_type": "code",
   "execution_count": 2,
   "metadata": {},
   "outputs": [
    {
     "data": {
      "text/html": [
       "Under these <a href=\"presumptions.txt\">presumptions</a>, we begin our proof of<br><strong id=\"reverse_greater_eq\">reverse_greater_eq:</strong> <a class=\"ProveItLink\" href=\"../../../__pv_it/theorems/1d7a0657d7dede0a9fe982b7a65fc90c31658b040/expr.ipynb\"><img src=\"data:image/png;base64,iVBORw0KGgoAAAANSUhEUgAAAKEAAAAWBAMAAABasOFIAAAAMFBMVEX///8QEBCIiIhmZma6urrM\n",
       "zMxUVFQiIiJERETc3Nzu7u6qqqp2dnaYmJgyMjIAAAAcRTyBAAAAAXRSTlMAQObYZgAAAkpJREFU\n",
       "OMudVU1o1EAU/swmzc9mWxC8eKoulKWnIigeiqwVKl7K9lDxZlnswUuRYhGhlVKqpPQSELQI4ljB\n",
       "Qik24MX2tOxJVtAFBREUAooHpbAIglUE5yfJJLFpSR8sed/7km/evPdmFshvD7OpTfrzmfMpj6A1\n",
       "l811ucAr5nzLo9jtJrEyHVuNJrhMn+ZcHsW3Sbg+FUdNuiIBbC+P4s0EujubgI+BUmtt7X4eQfNa\n",
       "HN37nipJFfjlODN5FJUBYOUEzKMMXPoSVfD41SG6ZZuyE8Dif59VsxWNNtA4C6XD/NuynHjfe4tu\n",
       "mbbmHG9QymSrhlOdhe7B9M7AYK8oUyQMt/CGXACKtCY6lPYeiuapWpI6VIWFw+jpZaA0E0oSOOyh\n",
       "0dTtto49FGGerqUVof7GZREtfo728CNUNP2LbI5O9tFX1D7oRCqKoPWyKgm+axR8HAt01K/BgtpP\n",
       "DtkkLF6hBSGTOl3b7iGjMscgCOs1iQjRGWMcd8LUNIe3cYu2ql90Bs+prIZtFn5wHhWpGAShbEtC\n",
       "zEdhXP0ryzLBcvtjdEy6VqFBgajxDmcHUY/XkQdXlmKE2JdVL++kro96f5ndN92sBiXCK6ox4jqO\n",
       "xBR5cH0hToSnsODvPq2rofPI9m0sE0yrHanIg0+4YESIm2ISGxlnoBk6T981Wxj1MFzxpSIPjgWD\n",
       "XomSMlzMYp67z24wS91mcfMs12in51G8GRLixh0q1zKOaPKEFd2uxgh2VYyIff4VPiRhCerHRlrx\n",
       "hUONRMSBbeDgn/4DUxCcEDJq7W0AAAAASUVORK5CYII=\n",
       "\" style=\"display:inline;vertical-align:middle;\" /></a><br>(see <a class=\"ProveItLink\" href=\"../../../__pv_it/theorems/f77aa18c9f1e847bb442b12de0bf1b86b0727ce30/dependencies.ipynb\">dependencies</a>)<br>"
      ],
      "text/plain": [
       "reverse_greater_eq: forall_{x, y | x >= y} (y <= x)"
      ]
     },
     "execution_count": 2,
     "metadata": {},
     "output_type": "execute_result"
    }
   ],
   "source": [
    "%proving reverse_greater_eq"
   ]
  },
  {
   "cell_type": "code",
   "execution_count": 3,
   "metadata": {},
   "outputs": [
    {
     "data": {
      "text/html": [
       "<strong id=\"defaults.assumptions\">defaults.assumptions:</strong> <a class=\"ProveItLink\" href=\"../../../__pv_it/_proof_reverse_greater_eq/015207a8cf409821824d3a206234e6f9f6a5faf50/expr.ipynb\"><img src=\"data:image/png;base64,iVBORw0KGgoAAAANSUhEUgAAAD8AAAAUBAMAAADIGvgZAAAAMFBMVEX////MzMxUVFR2dna6uroQ\n",
       "EBCqqqqIiIgiIiJmZmYyMjJERETu7u6YmJjc3NwAAACgK8IjAAAAAXRSTlMAQObYZgAAATdJREFU\n",
       "KM9jYOC7wIAT5IGI07jlGZgeAIl1CD5P5wFUBTwLGBh4JyAJsC16gKrCnIGBA0WIZZEAioKjDAwv\n",
       "ULUw7nZA5nI5MFQCqeNFT4oLoEJ8Wglg2ysLGJ4eYGCewLAXyDHgbedYANPENwNkKTNLAEM90IUL\n",
       "GNqAnAPMf1jgTuHtBJHPOBcw7Aa6uoEhBGgCA/cGuK3szWCvHmAtYPgOdNIHkAIGBn6YCxgOt0MZ\n",
       "/gcYP4IVtIF48jDPveyFqZzFwB4A9HYDyJFsB+oZ2MEGP1oGt2oTA7cC2JGWQNMS9jO8BfttCyIE\n",
       "JjH4A2OR04DBg4HhUPnxuRhReqh8PtBjXAJoQY0MZgHxCbTIQoroBTxfIJHFsA8pdld0gADISxwX\n",
       "uAsg0Y0jwbCUTwSS3CD78SW5ewwMAD+DTtyWFYBcAAAAAElFTkSuQmCC\n",
       "\" style=\"display:inline;vertical-align:middle;\" /></a><br>"
      ],
      "text/plain": [
       "defaults.assumptions: (x >= y)"
      ]
     },
     "execution_count": 3,
     "metadata": {},
     "output_type": "execute_result"
    }
   ],
   "source": [
    "defaults.assumptions = reverse_greater_eq.all_conditions()"
   ]
  },
  {
   "cell_type": "code",
   "execution_count": 4,
   "metadata": {},
   "outputs": [
    {
     "data": {
      "text/html": [
       "<span style=\"font-size:20px;\"> <a class=\"ProveItLink\" href=\"../../axioms.ipynb#greater_eq_def\" style=\"text-decoration: none\">&nbsp;&#x22A2;&nbsp;&nbsp;</a><a class=\"ProveItLink\" href=\"../../../__pv_it/axioms/b1390e7fdb6fcaa315abd6c8059a4617573287bd0/expr.ipynb\"><img src=\"data:image/png;base64,iVBORw0KGgoAAAANSUhEUgAAAUcAAAAVBAMAAAAnVjEQAAAAMFBMVEX///8QEBCIiIhmZma6urrM\n",
       "zMxUVFQiIiJERETc3Nzu7u6qqqp2dnaYmJgyMjIAAAAcRTyBAAAAAXRSTlMAQObYZgAAAz5JREFU\n",
       "SMfNV01oE0EY/Zpuks120/ag96WBWnqxlyqo1GDB4qU/F29CKYrUQwlWEbFKDyKJIEQEWyrq9tJK\n",
       "KSXQkx4kxIMQQQMKpaAQKFRULEEUFC/O7PzszOxsNr354IVl8t6byXw7PwEIQ6pGGIbnmrbHlK1a\n",
       "ovIZ67jhk0b0jDIMiWKgyZonbNkSlc/4Bjd81Yi+ULIBzLrKiOoBS2eRMAzEEveex0HO14oZF/Gs\n",
       "a359eoCQo2NX6b4S8LynZNhQq+lZEnh8aQeU/AAqPjvRBNmloCRZJPRh7I5LiuWA5zoln4zXDgQt\n",
       "8Ukc74Kar2LZZ7q6tragkSxQCojns1Jxs+oyyBEKOFSFoAUXeRiC+erLk/X5O5+f00gylFbP9ClW\n",
       "2NSMN+VWxoH7LthqsWIDhKJl6xgELJuIBdDkswL4YsYL1KHgHuU6bDm3+FwdxQWyjW44jGrgLYO3\n",
       "exg7+NGsEUqWl9OgWpKoKPOg5Ntezt6ALGYc1q1TgBuUVXjnnuGraRZ/PmqvQx6tpJz6GpcIJQuM\n",
       "XlItMQcSWdDlEwhixiTEdFvqAUoX61k957xtyG1z4AeajYZiacsSihY0yLuqxcrBBu9DFoOSz2jX\n",
       "ktBkkID1BOuX6cOYG//VZJCChZVbthwnu7Oaz+GLGVP1s3gzGuxFG4zRS/YGodyA9R4e3GQhQxDr\n",
       "RuKc/07uiuX2LXzhSBZ4AjneBxPTd3JSFjNC4TwqpDuTRHNgd7kTysJ5EWtAP254+I33fAfMSbYK\n",
       "BLCFwy3CFiRZzHMO70MQa/IZYTOHj6rv+NulEeijwleExl+z4V0DrNt+yBEYQ03tZSWb7hfcIm7m\n",
       "kiV+0WV9+GLQ5TNCl5f0x/v6BExR4QihNdWfCVw/VnpO4lN6XGmmtfEtwrEoW3Z4HxH5jJDGPyve\n",
       "8M79K3Aw9FgUMYS4GnkshlqW/D6ai1fFfp7adRsWXbhqNMIuGMIlqm79bOmCEWWJzq+IppUPlSpM\n",
       "lOB0H18NBZCOIuvzNQw89cma6WivamaRUHNd0VsK0FzMKKJkFc1a9KXX6BkE7WjCL70hlqh8za/u\n",
       "KCbKoy3/fdje/9+H7f38fdgWKL4iYHwsw3+If2XIQfuui7VFAAAAAElFTkSuQmCC\n",
       "\" style=\"display:inline;vertical-align:middle;\" /></a></span>"
      ],
      "text/plain": [
       "|- forall_{x, y} ((x >= y) = ((x > y) or (x = y)))"
      ]
     },
     "execution_count": 4,
     "metadata": {},
     "output_type": "execute_result"
    }
   ],
   "source": [
    "greater_eq_def"
   ]
  },
  {
   "cell_type": "code",
   "execution_count": 5,
   "metadata": {},
   "outputs": [
    {
     "data": {
      "text/html": [
       "<strong id=\"spec_g_e_d\">spec_g_e_d:</strong> <span style=\"font-size:20px;\"> <a class=\"ProveItLink\" href=\"../../../__pv_it/_proof_reverse_greater_eq/fa958e44e5f6d3d589dd22911435651a3d6626df0/proof.ipynb\" style=\"text-decoration: none\">&nbsp;&#x22A2;&nbsp;&nbsp;</a><a class=\"ProveItLink\" href=\"../../../__pv_it/axioms/9e023258a5e87c6a1267e8dfd3031381b1966fed0/expr.ipynb\"><img src=\"data:image/png;base64,iVBORw0KGgoAAAANSUhEUgAAAQcAAAAUBAMAAABysOUVAAAAMFBMVEX////MzMxUVFR2dna6uroQ\n",
       "EBCqqqqIiIgiIiJmZmYyMjJERETu7u6YmJjc3NwAAACgK8IjAAAAAXRSTlMAQObYZgAAAqxJREFU\n",
       "SMeVVktrE1EUPpNMO1NnpuYPiNkpLqQriyKYnbqxXfQHZCuIDLoIgUIDQmsFJbqQUhBDFmIrShF3\n",
       "xXppKS26yVIXhiAqVRQiiG5ceO5r5t47r/TAlxlOzvedO+ee+wCY7EGmXU/x/RQYlVKkzwjvsmOg\n",
       "NEi4/A2OkSlF+ozwQkmwTIyMnQTvyIAjyzjFYu8V0PVTgymCtuIc7xry0wneBwEp89wMYJQSzR+E\n",
       "YOhDWjDC1dLa3YoWtJug3ROQtrNkBDCKVcUfl9bVHeQNYpfjQPdamzWt+DWzzVocsTm39DnkFDoJ\n",
       "l+nLQd4YWDCiia97Nz7fDGWWU3VW5mYIXwiUzWI6bQ6/cfqimKtAdJJGuYrYoi+mvpzGOBjxGh1T\n",
       "wZIbteDkCi1g2Z6FBUzA3OfWqa3RV6/HsQPvwzt6J2kUF4vK1pCqX2Y66209GLGIDlL+Z0dTFyzT\n",
       "368THdhE/ZZRCbfOcR4ukCtxJxGT4oRQYvOS0OemBCPmcKTgbZhTTMZC+ItfMzQGMVbjIFQiGsQz\n",
       "YlL8Frxl/5n6wpRgxBx1HQ0TzT5DrF85gwAqYSxsjfIQzshBqPqRxcGIReo5Lhfmt7syaBWcWfzG\n",
       "VtwTXXU6gErojalR4Dvwp6oveqKqByOwccbJAjhM6NOTaKQvwavKLlNMNuY1ZwjzxhLVKN4x/vWa\n",
       "vmJxMOIsVqb+hh9J/qs46AHMYK6JKYMr1pT9xxvyk0nZrDSKdZKnVfVVi4MRlwC2G3uPEkfdduMx\n",
       "PSUqhlvUzz8x3/xobts6ZY0/ivUR2dvqKmK/cNvOpPwQa7pQfz/zgCl1/N+jHGCFlGL9abm5ir30\n",
       "6W1qtJ5uzwtTj3JvwJG0DMoW5AczQvqlw27ch9Rs2ZeaDEqRPiPkXb/6h7/e9Q9zvetz/Aee6g8j\n",
       "gcEDuAAAAABJRU5ErkJggg==\n",
       "\" style=\"display:inline;vertical-align:middle;\" /></a></span><br>"
      ],
      "text/plain": [
       "spec_g_e_d: |- (x >= y) = ((x > y) or (x = y))"
      ]
     },
     "execution_count": 5,
     "metadata": {},
     "output_type": "execute_result"
    }
   ],
   "source": [
    "spec_g_e_d = greater_eq_def.instantiate({x:x, y:y})"
   ]
  },
  {
   "cell_type": "code",
   "execution_count": 6,
   "metadata": {},
   "outputs": [
    {
     "data": {
      "text/html": [
       "<span style=\"font-size:20px;\"> <a class=\"ProveItLink\" href=\"../../axioms.ipynb#reverse_relation\" style=\"text-decoration: none\">&nbsp;&#x22A2;&nbsp;&nbsp;</a><a class=\"ProveItLink\" href=\"../../../__pv_it/axioms/b8d02519d626b0b9f16d17b2eb04797463296cdc0/expr.ipynb\"><img src=\"data:image/png;base64,iVBORw0KGgoAAAANSUhEUgAAAN0AAAAVBAMAAAAwUfbwAAAAMFBMVEX///8QEBCIiIhmZma6urrM\n",
       "zMxUVFQiIiJERETc3Nzu7u6qqqp2dnaYmJgyMjIAAAAcRTyBAAAAAXRSTlMAQObYZgAAAp1JREFU\n",
       "SMe1Vk1oE0EU/ppuspvtJu1B7yGBWnoxlyqKxKJg8dKfi2cpeqiHkoMeRBFPkgjCempRxPFSpYgE\n",
       "POlBQjwIEXRBoRQUFgRBQQmioHhx3s7sJDu7G+PBB1+Snfe9n33z5k2ANMl7AmnyJGHtznA6waeH\n",
       "9wmEBxJpknNjS/bV4XTCS3r4nED4JJEmth9bKrrD6YRNKl1CXoWqQCiPYqXtxGze6AvPlqN0jiID\n",
       "nFY8nukKqPxelDTGvZjNRe1555BG5yh0t7c3Et5/Q6Iv+7pa9eb1DqtjiAHRCT8bjcsJ8SoCdqWE\n",
       "m0yme1i+anntGK+MU9VMMlWlGyyIdEF0wlmgmRDvhoBjTGG/2o614OshdkpXeGWChnn1leQD/bQ8\n",
       "peNRDoYbLl0QnXA8qdOASwK3x3001OLiOfrs4jU7CUzU9S1vKR2wrnpCuiA6wUQm6VTvEWBjJXzr\n",
       "x7tOn0xkkO1pJmPzSge7H0+6IDrB8Uykx8MSy/7Q6gmRQWI8hNnlVT2lizBe3j9FJ2Nump8VYxom\n",
       "i9QTNWSmEO0XiAyMen//Pob1hMquf4CEC6IHJs0zvLXYusmzcybZSrRfcA3Waa29n2Z6mA37ZUCo\n",
       "X6QuYiBchP2CxzxoFl9Ic2sBM5L8XOIAlrxousZvq0eDfLytxePdHuoi5124IHpgMhk4+hWojmBV\n",
       "chcktspH3eg8s1dnKzTgi8taPF6tUBeZZ8IF0QOTAgs2P0uq89gbm2e1lAl8/6/zTElN0pXJXcd3\n",
       "sMlwwehF53XOt7+nOBlhXoubSLjoDJpsve10sdLCiRnVBM0ApmeVRr6PrMT7SLgI76NBadmu5UXv\n",
       "W6M8l/J61qj3rXBBdM1kws21F0f+P7H7b/8nduMmBRjv2vi/8gf159eiwzGHgwAAAABJRU5ErkJg\n",
       "gg==\n",
       "\" style=\"display:inline;vertical-align:middle;\" /></a></span>"
      ],
      "text/plain": [
       "|- forall_{x, y} ((y > x) = (x < y))"
      ]
     },
     "execution_count": 6,
     "metadata": {},
     "output_type": "execute_result"
    }
   ],
   "source": [
    "reverse_relation"
   ]
  },
  {
   "cell_type": "code",
   "execution_count": 7,
   "metadata": {},
   "outputs": [
    {
     "data": {
      "text/html": [
       "<strong id=\"spec_r_r\">spec_r_r:</strong> <span style=\"font-size:20px;\"> <a class=\"ProveItLink\" href=\"../../../__pv_it/_proof_reverse_greater_eq/b9792523f12cee3220bef3fb32809c299c32b4250/proof.ipynb\" style=\"text-decoration: none\">&nbsp;&#x22A2;&nbsp;&nbsp;</a><a class=\"ProveItLink\" href=\"../../../__pv_it/_proof_reverse_greater_eq/20650508b9c4aaf9aaf4e527fa5e93d05d2fb1960/expr.ipynb\"><img src=\"data:image/png;base64,iVBORw0KGgoAAAANSUhEUgAAAJ0AAAAUBAMAAABltyL1AAAAMFBMVEX////MzMxUVFR2dna6uroQ\n",
       "EBCqqqqIiIgiIiJmZmYyMjJERETu7u6YmJjc3NwAAACgK8IjAAAAAXRSTlMAQObYZgAAAhBJREFU\n",
       "OMuVVM0rRFEUP8wz74335pn/gJ2y0OxEymzECgtlYzF/gPQiTa+UKUXUCBs1JWMWCpFsLIQbacjC\n",
       "LFnQLBALNUpskHPvm49379x5cut13znnd373no97AMwsVF2jEt3rH/Cr6naozVWojL0/4LsefEaq\n",
       "QlWf84YHF13yjohoq/C5FWT/Og/X3OedzQro8wq+BV4MzuV4+DNnVqcJH11EoDPjXniE27hlxh7G\n",
       "reJ5DsCwLXgk4FsU+FRUZFbAHObjMWKtPRgswo9QCAdntWLm/WkWgE8ZgCmkZ+qOLbo26a+O3RXu\n",
       "BjVPhctEKVFwY80z+Az6Et+XUkqDkqY3fAqk4BDZ48L9tCiY0STotGtqN0rqTugifQw+iPdzzEW+\n",
       "bcpH6iz4BKjJC3x1EYQPQQNNz2mZj9DDGXyQ7g1Wuf5OvNBPat7kfKB8QWOICi+JsuGzwDdDd8fs\n",
       "rgckQR1A13g5f+lCvICpmBD7ix7O4FgPP5kClQj13we9qVgP16L1QMO+0C8jWKBJBm/H0KInhVfu\n",
       "6udl6EfXQFjgow0UaFK++X5WPvS86cB7Ma+xzGpWfG+nsTVE1ocEPpoAo9n+4d+b0Txp3wGDa1Xf\n",
       "dxK/C/l7C6TkLhf8PHCPnpTxXm0etMB1RM5H4cdSi5bVLem80nOQgAOP8Safp0psyXGWzNMeOyTn\n",
       "Y3CveX//v3mP8F/Dnpv/5ixmsQAAAABJRU5ErkJggg==\n",
       "\" style=\"display:inline;vertical-align:middle;\" /></a></span><br>"
      ],
      "text/plain": [
       "spec_r_r: |- (x > y) = (y < x)"
      ]
     },
     "execution_count": 7,
     "metadata": {},
     "output_type": "execute_result"
    }
   ],
   "source": [
    "spec_r_r = reverse_relation.instantiate({x:y, y:x})"
   ]
  },
  {
   "cell_type": "code",
   "execution_count": 8,
   "metadata": {},
   "outputs": [
    {
     "data": {
      "text/html": [
       "<span style=\"font-size:20px;\"> <a class=\"ProveItLink\" href=\"../../axioms.ipynb#less_eq_def\" style=\"text-decoration: none\">&nbsp;&#x22A2;&nbsp;&nbsp;</a><a class=\"ProveItLink\" href=\"../../../__pv_it/axioms/04f50d259b1b80953f8ec665dd5a21d3e798ae3f0/expr.ipynb\"><img src=\"data:image/png;base64,iVBORw0KGgoAAAANSUhEUgAAAUcAAAAVBAMAAAAnVjEQAAAAMFBMVEX///8QEBCIiIhmZma6urrM\n",
       "zMxUVFQiIiJERETc3Nzu7u6qqqp2dnaYmJgyMjIAAAAcRTyBAAAAAXRSTlMAQObYZgAAAz5JREFU\n",
       "SMfNV01oE0EYfU3z1+2m7UHvSwu19GIvVUSpwYLFS38u4kUoxSJeSvAHEav0IJIclBXBloq6RWil\n",
       "FAn0pAcp8SBE0IBCKSgEioqKEkRB8eLOzszuzOxskt588Mhm8t43MzvfNzMBotBWoYzCE03bPcZm\n",
       "LY3ic1ZJw3uN6BFjFJJ2qMmYo2za0ig+50vS8EUj+swoYc94MKJqyNJhU0aBWhLe8zh08RUx5wJ5\n",
       "65rZZwYoJd8LS/hWCnneMEpo/6BYkmR8GQvh+DJKATscwCyGJSmbUsyg/VIKLYU8lxilyZ6zFUti\n",
       "koR3EIqvYClgpry6Oq+RzDMKY5yR59KRVcsgRykiNuuELGSRhxGKH0qebMDf+fysRtLDaHSfOeKt\n",
       "UuImH5TRY+GWA1NdrNgApW8B1s5qLOsuC1DjC1kViDmnmUPBDcY1bFpXSUPerxkz3oW97hp4ZfDq\n",
       "O8E2eUxXKH0LHl7RWVLujOegxDe9ON8HZDHnsK5OgcuMZbx2jnmF3c9/uttaRd6tiJyaxkVK35L8\n",
       "qrXELCSzUOMHEMScKcR0W+ouRofoPWyW2YPTYuGH+zZqiqUlS+lblv1BShYjh8d+H0F8aMScZiWF\n",
       "OoME0VM8O8AexpzErzqDDCy3+XLLloN0d1bjIyzmbKseJ5vRYK+bc/FeujcIyw2iZxidpp9DiHW5\n",
       "4lyQkx/F5RYsvHAkC+4j5/fBxSwnJ2UxJwqn3DRxZlLuOzA7nQmlcJ7GavCz8cQ17+M60pO8CgTw\n",
       "whEtfAuSLOmTlt+HFJ8hEHNiPUeOqm/k18UR9DHhc8r433RNuAbc8Up8H8bcptYNJTbbL2QL28wl\n",
       "S+K0w/tQ4lMEYk50etP64/18CFNMOEJpTPX3hK4fy92HySk9rjSztVEs9FiULdt+Hw3icyJDppWo\n",
       "eef+eeyOPhYFDLlcaepY1FoWgz7qi1fEfh6YVRMLDi7Ea3UuGPwSVTV+Nn/BqGNpHL8kmpbflsqY\n",
       "KOJon18NBUhHkfHpIgF59alK2tJe1dI2pea6orcUUF/MKaJo2OlK40tvvHsQ2tFEX3ojLI3ia2bd\n",
       "bic3Rpv++7C1878PWzv5+7AlUEwRxN9t4D/EPz5FQJYMbhovAAAAAElFTkSuQmCC\n",
       "\" style=\"display:inline;vertical-align:middle;\" /></a></span>"
      ],
      "text/plain": [
       "|- forall_{x, y} ((x <= y) = ((x < y) or (x = y)))"
      ]
     },
     "execution_count": 8,
     "metadata": {},
     "output_type": "execute_result"
    }
   ],
   "source": [
    "less_eq_def"
   ]
  },
  {
   "cell_type": "code",
   "execution_count": 9,
   "metadata": {},
   "outputs": [
    {
     "data": {
      "text/html": [
       "<strong id=\"spec_l_e_d\">spec_l_e_d:</strong> <span style=\"font-size:20px;\"> <a class=\"ProveItLink\" href=\"../../../__pv_it/_proof_reverse_greater_eq/0d6ff8a7da2ecfb2e2a6232c5f14da31dfe7e7c80/proof.ipynb\" style=\"text-decoration: none\">&nbsp;&#x22A2;&nbsp;&nbsp;</a><a class=\"ProveItLink\" href=\"../../../__pv_it/_proof_reverse_greater_eq/0c953880e8cad459711824798fd11e437d4cfabd0/expr.ipynb\"><img src=\"data:image/png;base64,iVBORw0KGgoAAAANSUhEUgAAAQcAAAAUBAMAAABysOUVAAAAMFBMVEX///9UVFTMzMx2dna6uroQ\n",
       "EBCqqqqIiIgiIiJmZmYyMjJERETu7u6YmJjc3NwAAAC+aOQFAAAAAXRSTlMAQObYZgAAArVJREFU\n",
       "SMeVVj2IE0EU/hL3TOImMdgoFpJexKsMimAaOW28KwQbi2sFkW0kBA4MCp4KkdPiDtKYExFiIZ6N\n",
       "xaGsyOF5FqbUwhAL5RSFIOI1Kr6Z2WTfzP7lHnybzez7vn07782bAYpdRNqlkLEfHsalJOlLwtto\n",
       "H6T6gaH8E4WxKUn6kvDYeJC5yt7YDvB29RWiTFHS8r6MEH3TWaCwoI+/muf/KgHeBw/cdt43KSnx\n",
       "/oKDoL5uFYWs/lVfm9rftQDttgdmhZt9k5Iu0SXrIqBv2JrCpjb46aEx+VWzzBoKPH/X3CBFJOG0\n",
       "uNmMi0E6E+qUlbqDz1Lo4INRtmoHpmiedpiTmVlQeL2E4nk9fxrlAuGFuNH0WTX4zoTndLVmcEU8\n",
       "sZ/6pYH3zi2aaVlmxx4J60iXrsLkSWQGYuBNM5SSpZTINcT1mQ5zJlwHvuTaWJWfOT+K9zhOuGeo\n",
       "5BrGTGRnJYqzLdjiJSk/fxol4yAl88L1mTFnwlnAnXCwpUpslF5X0dIDgzxRlcjjHHaL4n/pB6FR\n",
       "8g1syFFNH2HOBHLCtJv+6S22zqiYt+KCgPUHh8vmcuKURRwZBsH0EeJMoOlCC5kZ75G1XFY3imY1\n",
       "/Fwus3SAZviy2Vg4Bd+gfrk+02HOBCocrMAujZRWZSovUtnNDauM2bAwibBiLFGdYh9y4BWmpu8Z\n",
       "cyYcpZE7mPZ3meIeEeFveyB2ntykQfbWFHIl66/erAxKep8KLaCvJpw5E06J6qrdM/pafu9c/aNo\n",
       "JmUjCG/+yKH+T2/bJqWjfpL1CaqttiI62np028614ynfvTWdqL8uN5hUO/8rZoMJ3cD24111LEqy\n",
       "fkU212zXVkW0cUNY/FZu9yWaeBa3lTNj+pFbOR06rNrdiEDtyEPNVL08JiVJXxLijl+97R/vets5\n",
       "3vUU/gPlJAYmXfTw0QAAAABJRU5ErkJggg==\n",
       "\" style=\"display:inline;vertical-align:middle;\" /></a></span><br>"
      ],
      "text/plain": [
       "spec_l_e_d: |- (y <= x) = ((y < x) or (y = x))"
      ]
     },
     "execution_count": 9,
     "metadata": {},
     "output_type": "execute_result"
    }
   ],
   "source": [
    "spec_l_e_d = less_eq_def.instantiate({x:y, y:x})"
   ]
  },
  {
   "cell_type": "code",
   "execution_count": 10,
   "metadata": {},
   "outputs": [
    {
     "data": {
      "text/html": [
       "<span style=\"font-size:20px;\"> <a class=\"ProveItLink\" href=\"../../../../../logic/equality/_theory_nbs_/axioms.ipynb#equals_symmetry\" style=\"text-decoration: none\">&nbsp;&#x22A2;&nbsp;&nbsp;</a><a class=\"ProveItLink\" href=\"../../../../../logic/equality/__pv_it/axioms/e6f7b31ca70e222042a7b5b219b78712171810de0/expr.ipynb\"><img src=\"data:image/png;base64,iVBORw0KGgoAAAANSUhEUgAAAN0AAAAVBAMAAAAwUfbwAAAAMFBMVEX///8QEBCIiIhmZma6urrM\n",
       "zMxUVFQiIiJERETc3Nzu7u6qqqp2dnaYmJgyMjIAAAAcRTyBAAAAAXRSTlMAQObYZgAAAmVJREFU\n",
       "SMe1VjFoFEEUfbns3W42e5cU2i93EEIa08RKzhDBYGOSxjoELWwkhRaiiJXcFcJaJSiSsYkSLA6s\n",
       "tDrO7gRdUJCAwoIgKBiOoKDYuH9ndr2Znbk7kXx4cPvf+3/m/vz9s4DJJkIOkz3X+B4OlhMievio\n",
       "ETwRMFkpyLnc24PlhFf08FUj+CJgMjfKuSrBYDlhm0qn2Vd5nsNsnZzn7TB5jAoDvFaetgMOsz3K\n",
       "ea4Pk8cod/f2tjT0loDZKotqh20OkxN+Nho3NXSNw635uMeUo6heXoor46nVLsxnnCTnKUhOuAQ0\n",
       "Nevd5fCsaZyg59cHZJ/o51O892/FlYkUvxNmHLzEfUBbEilITjij6zTgBseD8QgNheriDTsHTKrl\n",
       "s1sZ128iBckJNgq6t/oYBxvzcahQjO+g2FP8Y4sZJ8l5CpITvNCGeT2ssOKPHHloXA+53aUp0vUm\n",
       "ogv0ZizMrALWDGwm1RN1FKb/ntPnhOM7sDYVP9VTcOn5rSNLQfIkpHkxbi12xY53502xNblfcAfO\n",
       "urLfF4Ue5tJ+6TPqF8FJxlOk/YJn8aJFfCPm/jJmheilwEmsKMdr/XZ6NMjH20reuNtTTjKeguRJ\n",
       "yJRPzl8JdQobQrQssFs9rUwZd2OuRgO+sqrkjauVcpLxFCRPQsosOfwiUVdxPDfP6oaB8Xj0eVYX\n",
       "8ixkx4s8bDNcs3ryvC5F7vf/nNciRac/ZPddp4u1Fs7OZk3QTGCHjj/yfeRo5ztPkd5H/dZyAyeU\n",
       "71urumD4e86o9y1PQXIlZDIotc+P/D2x/2/fE/v5kDKsD20crf0BIWnW/FCMiDQAAAAASUVORK5C\n",
       "YII=\n",
       "\" style=\"display:inline;vertical-align:middle;\" /></a></span>"
      ],
      "text/plain": [
       "|- forall_{x, y} ((y = x) = (x = y))"
      ]
     },
     "execution_count": 10,
     "metadata": {},
     "output_type": "execute_result"
    }
   ],
   "source": [
    "equals_symmetry"
   ]
  },
  {
   "cell_type": "code",
   "execution_count": 11,
   "metadata": {},
   "outputs": [
    {
     "data": {
      "text/html": [
       "<strong id=\"spec_e_s\">spec_e_s:</strong> <span style=\"font-size:20px;\"> <a class=\"ProveItLink\" href=\"../../../__pv_it/_proof_reverse_greater_eq/3378d8166f4dd751fc6b444adf3ef60aeb916b3e0/proof.ipynb\" style=\"text-decoration: none\">&nbsp;&#x22A2;&nbsp;&nbsp;</a><a class=\"ProveItLink\" href=\"../../../../../logic/equality/__pv_it/axioms/3b2912001c2db5800f74c5a10b88a06b81d3225d0/expr.ipynb\"><img src=\"data:image/png;base64,iVBORw0KGgoAAAANSUhEUgAAAJ0AAAAUBAMAAABltyL1AAAAMFBMVEX///9UVFTMzMx2dna6uroQ\n",
       "EBCqqqqIiIgiIiJmZmYyMjJERETu7u6YmJjc3NwAAAC+aOQFAAAAAXRSTlMAQObYZgAAAZ9JREFU\n",
       "OMullDFLw0AUx/9tU9M2sXRzEz+CmyiC3XSyHfwAfgCRbKFQsJODg1THLMbRDqKzKBERhC4ddVC6\n",
       "KC5CELGr73JJbF6apOKbkv/73f/u3t09oDpAYuxO0D4y8H5yHrlhTNIvMvDzFD/djkmVYTo+203x\n",
       "w1JMecrAS8M04D6mHGbg72l5VOpMqHYy8BZtu2Xg1WGlMOfXafUFXg21G+YiuLQg/JoGKU3sCXWl\n",
       "J+JMfN7h0Tig6tpM1wZhDgVP7okpfQvC94G3so0rto5VrDmbwAzfXmk7zI2Hb0H4FuAUDYzYOEfO\n",
       "kHeZXqyHuQguLQgnPzSc/GestqNEP8RmDywIp/3Cgtr8rdOpB8gZlA7TxX79XFC/GkILwuk8cAmt\n",
       "xubbUV20g/MYC3Eefi4S0oLwZfo5QoM1BeVbc0WjKC+ycXQjglwkpAXhG/Rza56wV6LPtVvP4oIu\n",
       "sHG0oyAXCWlBuHxvVsKFf5j+vVkSp36Qs/Wvf/YD30LgNygNNGPqfqVN7B/SwsP7UMzjhOVp0/ZT\n",
       "aeHhaf3+5W/9nvAf5k+TRnHIIZkAAAAASUVORK5CYII=\n",
       "\" style=\"display:inline;vertical-align:middle;\" /></a></span><br>"
      ],
      "text/plain": [
       "spec_e_s: |- (y = x) = (x = y)"
      ]
     },
     "execution_count": 11,
     "metadata": {},
     "output_type": "execute_result"
    }
   ],
   "source": [
    "spec_e_s = equals_symmetry.instantiate({x:x, y:y})"
   ]
  },
  {
   "cell_type": "code",
   "execution_count": 12,
   "metadata": {},
   "outputs": [
    {
     "data": {
      "text/html": [
       "<strong id=\"sub_left\">sub_left:</strong> <span style=\"font-size:20px;\"> <a class=\"ProveItLink\" href=\"../../../__pv_it/_proof_reverse_greater_eq/8f58ff88ed467011c4faf4045b5b6aafd79c21550/proof.ipynb\" style=\"text-decoration: none\">&nbsp;&#x22A2;&nbsp;&nbsp;</a><a class=\"ProveItLink\" href=\"../../../__pv_it/_proof_reverse_greater_eq/a45fc9649d6a04687c1729963327e2d3a1c17f720/expr.ipynb\"><img src=\"data:image/png;base64,iVBORw0KGgoAAAANSUhEUgAAAQcAAAAUBAMAAABysOUVAAAAMFBMVEX////MzMxUVFR2dna6uroQ\n",
       "EBCqqqqIiIgiIiJmZmYyMjJERETu7u6YmJjc3NwAAACgK8IjAAAAAXRSTlMAQObYZgAAAu1JREFU\n",
       "SMeVVs9rE0EUfkm22Y27SfMPSHOr9CA5GRTBXKR6sT0UvHjIVRBZFAmBQgNCa4VI9KASEGMOYnsQ\n",
       "KYKHYl1aSqoezFEPhkVUqihEEHup4puZnczs7G6SPviyy9v5vvfy5s0PgEwHIu1yiO+nh1Epw/Qp\n",
       "4W30GIi7AZf1jGFkyjB9SngqBVh2lIjNAO+QyxBljBKj71nw64cOJkjXJWeypcgXArwPHmRLPlIp\n",
       "cRI/bYOiH7ACg+ELq7WyvkHbAdotD5Kll12VEsvhj0HqariDkthm2PV7Y+tFX/GLaptVGSTTrztB\n",
       "CpmEs+Rld1AOdDCigq/tK5+v2jzKVInOVsWGLw4k1GLqdYb2PchcoJ6tJT7B5aPTWFpGuYjYIC+q\n",
       "Ph8s9BEv0ZFPLxn9FszcJwVMaLOwgJWm7hOrxFbIq9lhyJ8GvUccr2ucuAXv7ZucYmBR6RqS9RNU\n",
       "Z7Xu10csosNJ7GuumGHy+zXVhHVsuapSCaNEkSk1wCRB4o/7n07CKeccp+g2xOm8BPSZSfqIOcyU\n",
       "6flm2BmzYQ//TU9JYqxIYcF5GCcV3hRJOESVU6wqvKFeVZ8PFvqIOeIa789Yf4ZnnNiv6CRA24cJ\n",
       "upC+1cTHPZEE3IVjPAlZv29CH7FIPBN8YQrJBuizGKsqeqIlTQdgNa8paQNR5RT4Duwp63s9kfPr\n",
       "I7Bxks4C6HQSPoniroGZ410mGW9M/LimLNFL2KnzfYp5mP17n75kQh9xHCtTesWOJOu5GHQHZjBW\n",
       "Kq9wvTUFqZz2179ZaX/MXkZQYkdYWFlfNqGPOIPNVW4/CBx1m+WH5JTIKm6vfmBNVv75t21rcr7y\n",
       "EQRlhT2G6yOit9UGYid62041w2mc8sNb00P1dyIPmHjT+j3oAJuCd8XoM0k+WIbqF/jm6u2lT24Q\n",
       "I/U0OqYdepSbLkUNXgw6yiXbCB0m9Ckh/NKhlW97EcMvNdOVbHgS5miXGqFPCYOuX92DX++6B7ne\n",
       "dRn+A0ofCUqYHkw/AAAAAElFTkSuQmCC\n",
       "\" style=\"display:inline;vertical-align:middle;\" /></a></span><br>"
      ],
      "text/plain": [
       "sub_left: |- (x >= y) = ((y < x) or (x = y))"
      ]
     },
     "execution_count": 12,
     "metadata": {},
     "output_type": "execute_result"
    }
   ],
   "source": [
    "sub_left = spec_r_r.sub_right_side_into(spec_g_e_d, assumptions = defaults.assumptions)"
   ]
  },
  {
   "cell_type": "code",
   "execution_count": 13,
   "metadata": {},
   "outputs": [
    {
     "data": {
      "text/html": [
       "<strong id=\"sub_right\">sub_right:</strong> <span style=\"font-size:20px;\"> <a class=\"ProveItLink\" href=\"../../../__pv_it/_proof_reverse_greater_eq/87a98a3e783d1efc1e769c9c272df31434a49af80/proof.ipynb\" style=\"text-decoration: none\">&nbsp;&#x22A2;&nbsp;&nbsp;</a><a class=\"ProveItLink\" href=\"../../../__pv_it/_proof_reverse_greater_eq/14fb33e835983cb5a4911c177e9268c231d0d7640/expr.ipynb\"><img src=\"data:image/png;base64,iVBORw0KGgoAAAANSUhEUgAAAQcAAAAUBAMAAABysOUVAAAAMFBMVEX////MzMxUVFR2dna6uroQ\n",
       "EBCqqqqIiIgiIiJmZmYyMjJERETu7u6YmJjc3NwAAACgK8IjAAAAAXRSTlMAQObYZgAAAvxJREFU\n",
       "SMeVVs9rE0EUfkm3zcbdpPkHpLlVepCeLBXBXKT1YnsoePGQqyCyKBIWCg0IqRUq0YNKQIw5iPUg\n",
       "UgQPJXVpKal6MEc9GBZRqaJQQcylim9mdnZnZn+0ffAlw+R935u8NzNvAPJdiLXLEXM/PRyUsp8+\n",
       "JbyN94G0G5oynzMcmLKfPiU8EwIsOUrEZoh3xGWIM0ZJ0XEBZP1IZ4JcXZgcainyEyHeBw+iDT1S\n",
       "KWkSP2eBoh+yCQZdCqu1CpLTVoh2y4NguSVXpaSK+KGTvOpu0iK2GHbk2dRaSUp+Sd1mVQbBMted\n",
       "MIUU4SwZ7CStgTojbBx2rny+avEoY2VaLduCLw4MqMnM1Bk69yB/gc5sLvICV45PYWoZ5SJinQxs\n",
       "X0veDYEzoo0T47lF3d+C+fskgQPaLCxgpun0yafEVsjQ6DKMn4HMLpl4vcyJm/DeuskpOiaVnqG2\n",
       "ryXpCM6IGjo5A3uaG1SYfH7NNmENt1xVyYRepsiXG2CQIOnH/k+n4LRzjlMyFqRpXWq+lmSCM2IO\n",
       "M8H0pAo7gxb08d/sKuTBEoUJ52GYVHAjWITDIjGKWYU3dHbO15JMcEbMkfGw5eeUV3jGSf2KXwRo\n",
       "ezBCD9K35eDHfrAIuAsn+CI8LcX6wiJqZDzCD2Yg2YDMLMaqBrVsCeUAzPA1ZdnAIjEKfAf2XfO1\n",
       "JB3BGYEbZ8hZgAwtwqcguatgFPkuE4xvTPxxVTmil3CnzvsU4yjLbtvXkkxwRkxitsqvWEsyXwRe\n",
       "d2AGY2XHFbJ3piBb1P7Kl5X2x9jNB5TUMba0SV9LuhQFZ8Q0bq5K50Go1W1UHpIuUVCmvfyBOWr/\n",
       "k69tc3Te/ggBZYV9Tfta0jUhOCPir9UGYjv+2s42o2mc8sM70y7XinPejm0w6ab5O6mBjcG7UnxP\n",
       "EhtLnWslNDB2uXpJenKDGMmn3jWsyFZuuBTL8DKplQu27mkltfKYR4dWue1FjH7UTNmFaF0j/Khh\n",
       "WnHOlJD0/Ood/nnXO8zzrsfwHym+CACXqlkdAAAAAElFTkSuQmCC\n",
       "\" style=\"display:inline;vertical-align:middle;\" /></a></span><br>"
      ],
      "text/plain": [
       "sub_right: |- (x >= y) = ((y < x) or (y = x))"
      ]
     },
     "execution_count": 13,
     "metadata": {},
     "output_type": "execute_result"
    }
   ],
   "source": [
    "sub_right = spec_e_s.sub_left_side_into(sub_left, assumptions = defaults.assumptions)"
   ]
  },
  {
   "cell_type": "code",
   "execution_count": 14,
   "metadata": {},
   "outputs": [
    {
     "data": {
      "text/html": [
       "<strong id=\"left_via_eq\">left_via_eq:</strong> <span style=\"font-size:20px;\"><a class=\"ProveItLink\" href=\"../../../__pv_it/theorems/6204c1df8181066df7bc6763618b337f003edff50/expr.ipynb\"><img src=\"data:image/png;base64,iVBORw0KGgoAAAANSUhEUgAAADMAAAASBAMAAAAEf/uKAAAAMFBMVEX///8QEBBmZmaqqqrMzMxE\n",
       "REQyMjIiIiKYmJh2dna6urrc3NxUVFSIiIju7u4AAAA6P00QAAAAAXRSTlMAQObYZgAAAMxJREFU\n",
       "GNNjYCAC8BU9wCnHnLMBpxxXjgNOOZbQBSj8t3d23bwAZXMfMwBbe+kCw8YHDHwTOGrZE2DquNVB\n",
       "9nFyCTDcB1IPOP9xwe3nKAKRm5kSGEKBmhlYA+CG81aCPfCA8QLDXxCDH2YTw8taKGP9A5YvINof\n",
       "5uRNFTA1agy8AkCPPrjPwAs2Zk8y3OAYBtYDQL0G8Qw7wC6OQnhIh2F9AwPDm7tvNRrQ/f7mrj7u\n",
       "QFPDIc6TwPcLJVLSy0EA5Fz2BtYLuKLgrgqQBADiMTWPVSs0BgAAAABJRU5ErkJggg==\n",
       "\" style=\"display:inline;vertical-align:middle;\" /></a> <a class=\"ProveItLink\" href=\"../../../__pv_it/_proof_reverse_greater_eq/3db3264a1a2e5f16e94ac21e7d704a25f79b49430/proof.ipynb\" style=\"text-decoration: none\">&nbsp;&#x22A2;&nbsp;&nbsp;</a><a class=\"ProveItLink\" href=\"../../../__pv_it/_proof_reverse_greater_eq/f85f333bf9609e203433a3da4a7fd54f45af62cb0/expr.ipynb\"><img src=\"data:image/png;base64,iVBORw0KGgoAAAANSUhEUgAAAJgAAAAUBAMAAACDnumxAAAAMFBMVEX///9UVFTMzMx2dna6uroQ\n",
       "EBCqqqqIiIgiIiJmZmYyMjJERETu7u6YmJjc3NwAAAC+aOQFAAAAAXRSTlMAQObYZgAAAglJREFU\n",
       "OMuVVD1IHEEU/uKt3p67tx4SCFiEs7bQUiGFTdDurhBsLLYMVishnFdppY0Gf4rIgXERKwvxbCxE\n",
       "XasLWuS6qNUVSUgjiAg2Kr43u3ebGdkRp3gzb+abb/f9fAM4dSSNjoa6cwU9+Cz5HO8V3959Abyj\n",
       "OT8VNs+mjU1nQw/OLil7k/l4nfLYdrP5xeZCw8VgU/nY+ff/wyqy7WWzwOarjozA/+Sd6Q+Su9UM\n",
       "zuAAnFkdGYHLRFn28CcQ5INedFCb+v2Z1kOiTkRkcQBpWtS+wZlQWFrgQwrWKGJGcK0128QeyM6b\n",
       "PnApPPqhPp4tOh74iPQ1Z2hbjCUJPAf8zfg4YHCP20pmkLo36Gc+Ca8EvOXZdOG4FVhKg8TgMSBo\n",
       "93DHX4jJ7OhGv/B+wPZ5bh+mg3F0eUrmW2AiQyFou2HPWYvVEN4IyTJuyo3IYNyjP6+mvgmmMFFB\n",
       "ugi5ANGNUbF2fBNRmKCUfEGcs5wEpgKgCisnt0ZHMIN00CwA9kTLigIQsqqqsgXm4i+jUJebtuAe\n",
       "C1Gvhpu9C2GmqXaZnPGgkMVgDuSktNGQ5XRSqq0z/2a41xlqzqAesd+VHxWyGBzKqZKgkKjlnSCc\n",
       "hZwyfiKYhP7Gt28TtSsNEnoPfg4ng49g1i1P9wTFg0S1iH3Ne3UGo7SScH70/HEcKec1YM2znX3N\n",
       "s03gJ5qFlStRMNHdAAAAAElFTkSuQmCC\n",
       "\" style=\"display:inline;vertical-align:middle;\" /></a></span><br>"
      ],
      "text/plain": [
       "left_via_eq: {x >= y} |- (y < x) or (y = x)"
      ]
     },
     "execution_count": 14,
     "metadata": {},
     "output_type": "execute_result"
    }
   ],
   "source": [
    "left_via_eq = sub_right.derive_right_via_equality()"
   ]
  },
  {
   "cell_type": "code",
   "execution_count": 15,
   "metadata": {},
   "outputs": [
    {
     "data": {
      "text/html": [
       "<span style=\"font-size:20px;\"><a class=\"ProveItLink\" href=\"../../../__pv_it/theorems/6204c1df8181066df7bc6763618b337f003edff50/expr.ipynb\"><img src=\"data:image/png;base64,iVBORw0KGgoAAAANSUhEUgAAADMAAAASBAMAAAAEf/uKAAAAMFBMVEX///8QEBBmZmaqqqrMzMxE\n",
       "REQyMjIiIiKYmJh2dna6urrc3NxUVFSIiIju7u4AAAA6P00QAAAAAXRSTlMAQObYZgAAAMxJREFU\n",
       "GNNjYCAC8BU9wCnHnLMBpxxXjgNOOZbQBSj8t3d23bwAZXMfMwBbe+kCw8YHDHwTOGrZE2DquNVB\n",
       "9nFyCTDcB1IPOP9xwe3nKAKRm5kSGEKBmhlYA+CG81aCPfCA8QLDXxCDH2YTw8taKGP9A5YvINof\n",
       "5uRNFTA1agy8AkCPPrjPwAs2Zk8y3OAYBtYDQL0G8Qw7wC6OQnhIh2F9AwPDm7tvNRrQ/f7mrj7u\n",
       "QFPDIc6TwPcLJVLSy0EA5Fz2BtYLuKLgrgqQBADiMTWPVSs0BgAAAABJRU5ErkJggg==\n",
       "\" style=\"display:inline;vertical-align:middle;\" /></a> <a class=\"ProveItLink\" href=\"../../../__pv_it/_proof_reverse_greater_eq/de4ba56dbe56692c8dda2a50f1aaf3cd844a5eb60/proof.ipynb\" style=\"text-decoration: none\">&nbsp;&#x22A2;&nbsp;&nbsp;</a><a class=\"ProveItLink\" href=\"../../../__pv_it/theorems/0b18672cc85a9c3709dc5646c0db026c411414a00/expr.ipynb\"><img src=\"data:image/png;base64,iVBORw0KGgoAAAANSUhEUgAAADIAAAASBAMAAADrvZC0AAAAMFBMVEX///8iIiKYmJhUVFTMzMxE\n",
       "REQyMjKqqqq6urp2dnYQEBDc3NxmZmaIiIju7u4AAACH5sGpAAAAAXRSTlMAQObYZgAAAMNJREFU\n",
       "GNNjYCAS8IrgkHgpi0NijxAOic3pKFy+OxcYdj0AsVwz4GJ3rXvnMnByLGC4D+KyhiCsY1C8IMaw\n",
       "nSeBIRTsLNkHMJl5DPMfdDM84LrA8BfMZ5KEST2AqO1/wPIFIsCeswGmC6z2GAPvAiifI9kBwoCo\n",
       "DWZgNYApZQltAFF1vB8Y7jEwHGboV4C7itsEpPU76wduoNjju+c3oPqYz/beHSUGiE1YAXMC3w/s\n",
       "MowKrBfAjGeCIIAUCxx3j2DXAgDkyDH15hEk6AAAAABJRU5ErkJggg==\n",
       "\" style=\"display:inline;vertical-align:middle;\" /></a></span>"
      ],
      "text/plain": [
       "{x >= y} |- y <= x"
      ]
     },
     "execution_count": 15,
     "metadata": {},
     "output_type": "execute_result"
    }
   ],
   "source": [
    "spec_l_e_d.sub_left_side_into(left_via_eq)"
   ]
  },
  {
   "cell_type": "code",
   "execution_count": 16,
   "metadata": {},
   "outputs": [
    {
     "data": {
      "text/html": [
       "<table><tr><th>&nbsp;</th><th>step type</th><th>requirements</th><th>statement</th></tr>\n",
       "<tr><td><a name=\"-0x8f05a3a2bffacfd_step0\">0</a></td><td>generalizaton</td><td><a href=\"#-0x8f05a3a2bffacfd_step1\">1</a></td><td><span style=\"font-size:20px;\"> <a class=\"ProveItLink\" href=\"../../../__pv_it/_proof_reverse_greater_eq/86d824244eb13c6bf04c472b1083347f9a990e550/proof.ipynb\" style=\"text-decoration: none\">&nbsp;&#x22A2;&nbsp;&nbsp;</a><a class=\"ProveItLink\" href=\"../../../__pv_it/theorems/1d7a0657d7dede0a9fe982b7a65fc90c31658b040/expr.ipynb\"><img src=\"data:image/png;base64,iVBORw0KGgoAAAANSUhEUgAAAKEAAAAWBAMAAABasOFIAAAAMFBMVEX///8QEBCIiIhmZma6urrM\n",
       "zMxUVFQiIiJERETc3Nzu7u6qqqp2dnaYmJgyMjIAAAAcRTyBAAAAAXRSTlMAQObYZgAAAkpJREFU\n",
       "OMudVU1o1EAU/swmzc9mWxC8eKoulKWnIigeiqwVKl7K9lDxZlnswUuRYhGhlVKqpPQSELQI4ljB\n",
       "Qik24MX2tOxJVtAFBREUAooHpbAIglUE5yfJJLFpSR8sed/7km/evPdmFshvD7OpTfrzmfMpj6A1\n",
       "l811ucAr5nzLo9jtJrEyHVuNJrhMn+ZcHsW3Sbg+FUdNuiIBbC+P4s0EujubgI+BUmtt7X4eQfNa\n",
       "HN37nipJFfjlODN5FJUBYOUEzKMMXPoSVfD41SG6ZZuyE8Dif59VsxWNNtA4C6XD/NuynHjfe4tu\n",
       "mbbmHG9QymSrhlOdhe7B9M7AYK8oUyQMt/CGXACKtCY6lPYeiuapWpI6VIWFw+jpZaA0E0oSOOyh\n",
       "0dTtto49FGGerqUVof7GZREtfo728CNUNP2LbI5O9tFX1D7oRCqKoPWyKgm+axR8HAt01K/BgtpP\n",
       "DtkkLF6hBSGTOl3b7iGjMscgCOs1iQjRGWMcd8LUNIe3cYu2ql90Bs+prIZtFn5wHhWpGAShbEtC\n",
       "zEdhXP0ryzLBcvtjdEy6VqFBgajxDmcHUY/XkQdXlmKE2JdVL++kro96f5ndN92sBiXCK6ox4jqO\n",
       "xBR5cH0hToSnsODvPq2rofPI9m0sE0yrHanIg0+4YESIm2ISGxlnoBk6T981Wxj1MFzxpSIPjgWD\n",
       "XomSMlzMYp67z24wS91mcfMs12in51G8GRLixh0q1zKOaPKEFd2uxgh2VYyIff4VPiRhCerHRlrx\n",
       "hUONRMSBbeDgn/4DUxCcEDJq7W0AAAAASUVORK5CYII=\n",
       "\" style=\"display:inline;vertical-align:middle;\" /></a></span></td></tr>\n",
       "<tr><td><a name=\"-0x8f05a3a2bffacfd_step1\">1</a></td><td>instantiation</td><td><a href=\"#-0x8f05a3a2bffacfd_step8\">8</a>, <a href=\"#-0x8f05a3a2bffacfd_step2\">2</a>, <a href=\"#-0x8f05a3a2bffacfd_step3\">3</a></td><td><span style=\"font-size:20px;\"><a class=\"ProveItLink\" href=\"../../../__pv_it/theorems/6204c1df8181066df7bc6763618b337f003edff50/expr.ipynb\"><img src=\"data:image/png;base64,iVBORw0KGgoAAAANSUhEUgAAADMAAAASBAMAAAAEf/uKAAAAMFBMVEX///8QEBBmZmaqqqrMzMxE\n",
       "REQyMjIiIiKYmJh2dna6urrc3NxUVFSIiIju7u4AAAA6P00QAAAAAXRSTlMAQObYZgAAAMxJREFU\n",
       "GNNjYCAC8BU9wCnHnLMBpxxXjgNOOZbQBSj8t3d23bwAZXMfMwBbe+kCw8YHDHwTOGrZE2DquNVB\n",
       "9nFyCTDcB1IPOP9xwe3nKAKRm5kSGEKBmhlYA+CG81aCPfCA8QLDXxCDH2YTw8taKGP9A5YvINof\n",
       "5uRNFTA1agy8AkCPPrjPwAs2Zk8y3OAYBtYDQL0G8Qw7wC6OQnhIh2F9AwPDm7tvNRrQ/f7mrj7u\n",
       "QFPDIc6TwPcLJVLSy0EA5Fz2BtYLuKLgrgqQBADiMTWPVSs0BgAAAABJRU5ErkJggg==\n",
       "\" style=\"display:inline;vertical-align:middle;\" /></a> <a class=\"ProveItLink\" href=\"../../../__pv_it/_proof_reverse_greater_eq/de4ba56dbe56692c8dda2a50f1aaf3cd844a5eb60/proof.ipynb\" style=\"text-decoration: none\">&nbsp;&#x22A2;&nbsp;&nbsp;</a><a class=\"ProveItLink\" href=\"../../../__pv_it/theorems/0b18672cc85a9c3709dc5646c0db026c411414a00/expr.ipynb\"><img src=\"data:image/png;base64,iVBORw0KGgoAAAANSUhEUgAAADIAAAASBAMAAADrvZC0AAAAMFBMVEX///8iIiKYmJhUVFTMzMxE\n",
       "REQyMjKqqqq6urp2dnYQEBDc3NxmZmaIiIju7u4AAACH5sGpAAAAAXRSTlMAQObYZgAAAMNJREFU\n",
       "GNNjYCAS8IrgkHgpi0NijxAOic3pKFy+OxcYdj0AsVwz4GJ3rXvnMnByLGC4D+KyhiCsY1C8IMaw\n",
       "nSeBIRTsLNkHMJl5DPMfdDM84LrA8BfMZ5KEST2AqO1/wPIFIsCeswGmC6z2GAPvAiifI9kBwoCo\n",
       "DWZgNYApZQltAFF1vB8Y7jEwHGboV4C7itsEpPU76wduoNjju+c3oPqYz/beHSUGiE1YAXMC3w/s\n",
       "MowKrBfAjGeCIIAUCxx3j2DXAgDkyDH15hEk6AAAAABJRU5ErkJggg==\n",
       "\" style=\"display:inline;vertical-align:middle;\" /></a></span></td></tr>\n",
       "<tr><td>&nbsp;</td><td colspan=4 style=\"text-align:left\"><span style=\"font-size:20px;\"><a class=\"ProveItLink\" href=\"../../../__pv_it/_proof_reverse_greater_eq/f7c00ab253a0854833b7e2e433c52d2d5254155b0/expr.ipynb\"><img src=\"data:image/png;base64,iVBORw0KGgoAAAANSUhEUgAAADcAAAAUBAMAAADbzbjtAAAAMFBMVEX///8iIiLc3Ny6urqIiIiq\n",
       "qqp2dnbMzMwQEBDu7u5mZmYyMjJERERUVFSYmJgAAAA4CJ/KAAAAAXRSTlMAQObYZgAAAQ1JREFU\n",
       "KM9jYIADpgcMyCAITL79f/burgkMDHNQ5Bh4FcDUbwYGnk4Ghk2okpwbQCT7NwYG1i8MfAtQJRlS\n",
       "QATLZyD+xsCogCY5A0TwfABa8JlBEU2OgdsASPADDddfwOCF5O5lS4BuYAPZU5/AwCrGwHAOIWmh\n",
       "wA00jQ/kIv9raUuAPhFFuLOPgesA0JECQPb5CWChZrgk108GRgegL4C6GT4yoElyHGCYXwCRZP8F\n",
       "EUIYOz+BIR5IMQtAvAkCCAfND2C4zaoAdhD3T4hQFlySx4FPlg1odQID1/6/DmAhQ6BBZ4DgJAPn\n",
       "FXddZ6CuAoTnMIJvIhIbe8DDwCFsUQYDaJHNg2INWjJ5xMAAAHA6PhPQZp1jAAAAAElFTkSuQmCC\n",
       "\" style=\"display:inline;vertical-align:middle;\" /></a> : <a class=\"ProveItLink\" href=\"../../../__pv_it/_proof_reverse_greater_eq/006c465e50948aa2b52285e2de47974f741255cc0/expr.ipynb\"><img src=\"data:image/png;base64,iVBORw0KGgoAAAANSUhEUgAAABgAAAAJBAMAAADa0/H1AAAAMFBMVEX///9UVFSqqqrMzMwiIiKY\n",
       "mJgyMjIQEBCIiIh2dnZmZmbc3Nzu7u5ERES6uroAAACFTSmKAAAAAXRSTlMAQObYZgAAAElJREFU\n",
       "CNdjYICCXbPaD8DYfNUM+TA2w/EAhrVwzvoDDB5wTi0Dz2cYm+cnA9MHOOcTA2OCNox3gyFEYALD\n",
       "27tAcIDhYIe1xAMAoVgVdfU81nAAAAAASUVORK5CYII=\n",
       "\" style=\"display:inline;vertical-align:middle;\" /></a>, <a class=\"ProveItLink\" href=\"../../../../../__pv_it/common/a0d9d672aa5e272d907247690c152cc2c6daafb70/expr.ipynb\"><img src=\"data:image/png;base64,iVBORw0KGgoAAAANSUhEUgAAAAsAAAAJBAMAAAAWSsseAAAALVBMVEX///9mZmaqqqrMzMxEREQy\n",
       "MjIiIiKYmJh2dna6urrc3NxUVFSIiIju7u4AAACJHQtQAAAAAXRSTlMAQObYZgAAAEJJREFUCNdj\n",
       "YLhzeuWJAwy8Dew5bAEMHBc43nIuYOBlYHFgAAG+A2DKzgBIMF04x8BzgWGegh/DcgaG22fuiBcw\n",
       "AAATyhBrnyPYZQAAAABJRU5ErkJggg==\n",
       "\" style=\"display:inline;vertical-align:middle;\" /></a> : <a class=\"ProveItLink\" href=\"../../../__pv_it/theorems/0b18672cc85a9c3709dc5646c0db026c411414a00/expr.ipynb\"><img src=\"data:image/png;base64,iVBORw0KGgoAAAANSUhEUgAAADIAAAASBAMAAADrvZC0AAAAMFBMVEX///8iIiKYmJhUVFTMzMxE\n",
       "REQyMjKqqqq6urp2dnYQEBDc3NxmZmaIiIju7u4AAACH5sGpAAAAAXRSTlMAQObYZgAAAMNJREFU\n",
       "GNNjYCAS8IrgkHgpi0NijxAOic3pKFy+OxcYdj0AsVwz4GJ3rXvnMnByLGC4D+KyhiCsY1C8IMaw\n",
       "nSeBIRTsLNkHMJl5DPMfdDM84LrA8BfMZ5KEST2AqO1/wPIFIsCeswGmC6z2GAPvAiifI9kBwoCo\n",
       "DWZgNYApZQltAFF1vB8Y7jEwHGboV4C7itsEpPU76wduoNjju+c3oPqYz/beHSUGiE1YAXMC3w/s\n",
       "MowKrBfAjGeCIIAUCxx3j2DXAgDkyDH15hEk6AAAAABJRU5ErkJggg==\n",
       "\" style=\"display:inline;vertical-align:middle;\" /></a>, <a class=\"ProveItLink\" href=\"../../../../../__pv_it/common/ff7dba4ef0bbe791ab573bf2d9c220a304399ac80/expr.ipynb\"><img src=\"data:image/png;base64,iVBORw0KGgoAAAANSUhEUgAAAAsAAAANBAMAAACN24kIAAAAMFBMVEX///8iIiKYmJhUVFTMzMxE\n",
       "REQyMjKqqqq6urp2dnYQEBDc3NxmZmaIiIju7u4AAACH5sGpAAAAAXRSTlMAQObYZgAAAFlJREFU\n",
       "CNdj4LtzgWHXAwZOjgUM9xkYtvMkMIQyMDzgusDwl4GBof8ByxcgdYyBdwGQCmZgNQBShxn6FYDU\n",
       "47vnNzAwgGUZGJgT+H4AKUYF1gtAiuPuESAJAJGkFvXVdzA+AAAAAElFTkSuQmCC\n",
       "\" style=\"display:inline;vertical-align:middle;\" /></a> : <a class=\"ProveItLink\" href=\"../../../__pv_it/_proof_reverse_greater_eq/f85f333bf9609e203433a3da4a7fd54f45af62cb0/expr.ipynb\"><img src=\"data:image/png;base64,iVBORw0KGgoAAAANSUhEUgAAAJgAAAAUBAMAAACDnumxAAAAMFBMVEX///9UVFTMzMx2dna6uroQ\n",
       "EBCqqqqIiIgiIiJmZmYyMjJERETu7u6YmJjc3NwAAAC+aOQFAAAAAXRSTlMAQObYZgAAAglJREFU\n",
       "OMuVVD1IHEEU/uKt3p67tx4SCFiEs7bQUiGFTdDurhBsLLYMVishnFdppY0Gf4rIgXERKwvxbCxE\n",
       "XasLWuS6qNUVSUgjiAg2Kr43u3ebGdkRp3gzb+abb/f9fAM4dSSNjoa6cwU9+Cz5HO8V3959Abyj\n",
       "OT8VNs+mjU1nQw/OLil7k/l4nfLYdrP5xeZCw8VgU/nY+ff/wyqy7WWzwOarjozA/+Sd6Q+Su9UM\n",
       "zuAAnFkdGYHLRFn28CcQ5INedFCb+v2Z1kOiTkRkcQBpWtS+wZlQWFrgQwrWKGJGcK0128QeyM6b\n",
       "PnApPPqhPp4tOh74iPQ1Z2hbjCUJPAf8zfg4YHCP20pmkLo36Gc+Ca8EvOXZdOG4FVhKg8TgMSBo\n",
       "93DHX4jJ7OhGv/B+wPZ5bh+mg3F0eUrmW2AiQyFou2HPWYvVEN4IyTJuyo3IYNyjP6+mvgmmMFFB\n",
       "ugi5ANGNUbF2fBNRmKCUfEGcs5wEpgKgCisnt0ZHMIN00CwA9kTLigIQsqqqsgXm4i+jUJebtuAe\n",
       "C1Gvhpu9C2GmqXaZnPGgkMVgDuSktNGQ5XRSqq0z/2a41xlqzqAesd+VHxWyGBzKqZKgkKjlnSCc\n",
       "hZwyfiKYhP7Gt28TtSsNEnoPfg4ng49g1i1P9wTFg0S1iH3Ne3UGo7SScH70/HEcKec1YM2znX3N\n",
       "s03gJ5qFlStRMNHdAAAAAElFTkSuQmCC\n",
       "\" style=\"display:inline;vertical-align:middle;\" /></a></span></td></tr><tr><td><a name=\"-0x8f05a3a2bffacfd_step2\">2</a></td><td>instantiation</td><td><a href=\"#-0x8f05a3a2bffacfd_step4\">4</a>, <a href=\"#-0x8f05a3a2bffacfd_step5\">5</a>, <a href=\"#-0x8f05a3a2bffacfd_step6\">6</a></td><td><span style=\"font-size:20px;\"><a class=\"ProveItLink\" href=\"../../../__pv_it/theorems/6204c1df8181066df7bc6763618b337f003edff50/expr.ipynb\"><img src=\"data:image/png;base64,iVBORw0KGgoAAAANSUhEUgAAADMAAAASBAMAAAAEf/uKAAAAMFBMVEX///8QEBBmZmaqqqrMzMxE\n",
       "REQyMjIiIiKYmJh2dna6urrc3NxUVFSIiIju7u4AAAA6P00QAAAAAXRSTlMAQObYZgAAAMxJREFU\n",
       "GNNjYCAC8BU9wCnHnLMBpxxXjgNOOZbQBSj8t3d23bwAZXMfMwBbe+kCw8YHDHwTOGrZE2DquNVB\n",
       "9nFyCTDcB1IPOP9xwe3nKAKRm5kSGEKBmhlYA+CG81aCPfCA8QLDXxCDH2YTw8taKGP9A5YvINof\n",
       "5uRNFTA1agy8AkCPPrjPwAs2Zk8y3OAYBtYDQL0G8Qw7wC6OQnhIh2F9AwPDm7tvNRrQ/f7mrj7u\n",
       "QFPDIc6TwPcLJVLSy0EA5Fz2BtYLuKLgrgqQBADiMTWPVSs0BgAAAABJRU5ErkJggg==\n",
       "\" style=\"display:inline;vertical-align:middle;\" /></a> <a class=\"ProveItLink\" href=\"../../../__pv_it/_proof_reverse_greater_eq/3db3264a1a2e5f16e94ac21e7d704a25f79b49430/proof.ipynb\" style=\"text-decoration: none\">&nbsp;&#x22A2;&nbsp;&nbsp;</a><a class=\"ProveItLink\" href=\"../../../__pv_it/_proof_reverse_greater_eq/f85f333bf9609e203433a3da4a7fd54f45af62cb0/expr.ipynb\"><img src=\"data:image/png;base64,iVBORw0KGgoAAAANSUhEUgAAAJgAAAAUBAMAAACDnumxAAAAMFBMVEX///9UVFTMzMx2dna6uroQ\n",
       "EBCqqqqIiIgiIiJmZmYyMjJERETu7u6YmJjc3NwAAAC+aOQFAAAAAXRSTlMAQObYZgAAAglJREFU\n",
       "OMuVVD1IHEEU/uKt3p67tx4SCFiEs7bQUiGFTdDurhBsLLYMVishnFdppY0Gf4rIgXERKwvxbCxE\n",
       "XasLWuS6qNUVSUgjiAg2Kr43u3ebGdkRp3gzb+abb/f9fAM4dSSNjoa6cwU9+Cz5HO8V3959Abyj\n",
       "OT8VNs+mjU1nQw/OLil7k/l4nfLYdrP5xeZCw8VgU/nY+ff/wyqy7WWzwOarjozA/+Sd6Q+Su9UM\n",
       "zuAAnFkdGYHLRFn28CcQ5INedFCb+v2Z1kOiTkRkcQBpWtS+wZlQWFrgQwrWKGJGcK0128QeyM6b\n",
       "PnApPPqhPp4tOh74iPQ1Z2hbjCUJPAf8zfg4YHCP20pmkLo36Gc+Ca8EvOXZdOG4FVhKg8TgMSBo\n",
       "93DHX4jJ7OhGv/B+wPZ5bh+mg3F0eUrmW2AiQyFou2HPWYvVEN4IyTJuyo3IYNyjP6+mvgmmMFFB\n",
       "ugi5ANGNUbF2fBNRmKCUfEGcs5wEpgKgCisnt0ZHMIN00CwA9kTLigIQsqqqsgXm4i+jUJebtuAe\n",
       "C1Gvhpu9C2GmqXaZnPGgkMVgDuSktNGQ5XRSqq0z/2a41xlqzqAesd+VHxWyGBzKqZKgkKjlnSCc\n",
       "hZwyfiKYhP7Gt28TtSsNEnoPfg4ng49g1i1P9wTFg0S1iH3Ne3UGo7SScH70/HEcKec1YM2znX3N\n",
       "s03gJ5qFlStRMNHdAAAAAElFTkSuQmCC\n",
       "\" style=\"display:inline;vertical-align:middle;\" /></a></span></td></tr>\n",
       "<tr><td>&nbsp;</td><td colspan=4 style=\"text-align:left\"><span style=\"font-size:20px;\"><a class=\"ProveItLink\" href=\"../../../../../__pv_it/common/de55da274ba0f49c86925fbf3828021c04d27faf0/expr.ipynb\"><img src=\"data:image/png;base64,iVBORw0KGgoAAAANSUhEUgAAABAAAAAOBAMAAADUAYG5AAAAMFBMVEX///8iIiLc3Ny6urqIiIiq\n",
       "qqp2dnbMzMwQEBDu7u5mZmYyMjJERERUVFSYmJgAAAA4CJ/KAAAAAXRSTlMAQObYZgAAAF5JREFU\n",
       "CNdjYGB4+//s3V0TGIDgNwMDTyeQZv/GwMD6Bchg+QzEQA4DzwcGBl4gh4F/AwOD/gIgoz6BgVUM\n",
       "pMn/WtoSsO7zYBIIPkJp9l9QBsgYMOD+CaG59v91ANEANtEY7WfmSIAAAAAASUVORK5CYII=\n",
       "\" style=\"display:inline;vertical-align:middle;\" /></a> : <a class=\"ProveItLink\" href=\"../../../__pv_it/theorems/6204c1df8181066df7bc6763618b337f003edff50/expr.ipynb\"><img src=\"data:image/png;base64,iVBORw0KGgoAAAANSUhEUgAAADMAAAASBAMAAAAEf/uKAAAAMFBMVEX///8QEBBmZmaqqqrMzMxE\n",
       "REQyMjIiIiKYmJh2dna6urrc3NxUVFSIiIju7u4AAAA6P00QAAAAAXRSTlMAQObYZgAAAMxJREFU\n",
       "GNNjYCAC8BU9wCnHnLMBpxxXjgNOOZbQBSj8t3d23bwAZXMfMwBbe+kCw8YHDHwTOGrZE2DquNVB\n",
       "9nFyCTDcB1IPOP9xwe3nKAKRm5kSGEKBmhlYA+CG81aCPfCA8QLDXxCDH2YTw8taKGP9A5YvINof\n",
       "5uRNFTA1agy8AkCPPrjPwAs2Zk8y3OAYBtYDQL0G8Qw7wC6OQnhIh2F9AwPDm7tvNRrQ/f7mrj7u\n",
       "QFPDIc6TwPcLJVLSy0EA5Fz2BtYLuKLgrgqQBADiMTWPVSs0BgAAAABJRU5ErkJggg==\n",
       "\" style=\"display:inline;vertical-align:middle;\" /></a>, <a class=\"ProveItLink\" href=\"../../../../../__pv_it/common/d72bb8b07403efe79afab564c36a28e21330e5f90/expr.ipynb\"><img src=\"data:image/png;base64,iVBORw0KGgoAAAANSUhEUgAAAA8AAAASBAMAAAB2sJk8AAAAMFBMVEX///+qqqq6urrc3NwQEBAy\n",
       "MjJERERUVFTMzMwiIiKYmJh2dnZmZmaIiIju7u4AAABsX1SbAAAAAXRSTlMAQObYZgAAAINJREFU\n",
       "CNdjYGDgu7P7FAMI7GxgYE8A0k8DgILeQEbIAyBRz8DA/Qskvd+AwX4CiHFegWH/BRAjv4FhfgOI\n",
       "8R+IQGoZvzMwTAEJcP5jYCgBMe4DFfY/eHuD4w+Qw3thAff6DSDhvuqbyQxgrQzsDVwGYAbbATUw\n",
       "zcDz/weEwTFFgIEBAOxlJHQBUmidAAAAAElFTkSuQmCC\n",
       "\" style=\"display:inline;vertical-align:middle;\" /></a> : <a class=\"ProveItLink\" href=\"../../../__pv_it/_proof_reverse_greater_eq/f85f333bf9609e203433a3da4a7fd54f45af62cb0/expr.ipynb\"><img src=\"data:image/png;base64,iVBORw0KGgoAAAANSUhEUgAAAJgAAAAUBAMAAACDnumxAAAAMFBMVEX///9UVFTMzMx2dna6uroQ\n",
       "EBCqqqqIiIgiIiJmZmYyMjJERETu7u6YmJjc3NwAAAC+aOQFAAAAAXRSTlMAQObYZgAAAglJREFU\n",
       "OMuVVD1IHEEU/uKt3p67tx4SCFiEs7bQUiGFTdDurhBsLLYMVishnFdppY0Gf4rIgXERKwvxbCxE\n",
       "XasLWuS6qNUVSUgjiAg2Kr43u3ebGdkRp3gzb+abb/f9fAM4dSSNjoa6cwU9+Cz5HO8V3959Abyj\n",
       "OT8VNs+mjU1nQw/OLil7k/l4nfLYdrP5xeZCw8VgU/nY+ff/wyqy7WWzwOarjozA/+Sd6Q+Su9UM\n",
       "zuAAnFkdGYHLRFn28CcQ5INedFCb+v2Z1kOiTkRkcQBpWtS+wZlQWFrgQwrWKGJGcK0128QeyM6b\n",
       "PnApPPqhPp4tOh74iPQ1Z2hbjCUJPAf8zfg4YHCP20pmkLo36Gc+Ca8EvOXZdOG4FVhKg8TgMSBo\n",
       "93DHX4jJ7OhGv/B+wPZ5bh+mg3F0eUrmW2AiQyFou2HPWYvVEN4IyTJuyo3IYNyjP6+mvgmmMFFB\n",
       "ugi5ANGNUbF2fBNRmKCUfEGcs5wEpgKgCisnt0ZHMIN00CwA9kTLigIQsqqqsgXm4i+jUJebtuAe\n",
       "C1Gvhpu9C2GmqXaZnPGgkMVgDuSktNGQ5XRSqq0z/2a41xlqzqAesd+VHxWyGBzKqZKgkKjlnSCc\n",
       "hZwyfiKYhP7Gt28TtSsNEnoPfg4ng49g1i1P9wTFg0S1iH3Ne3UGo7SScH70/HEcKec1YM2znX3N\n",
       "s03gJ5qFlStRMNHdAAAAAElFTkSuQmCC\n",
       "\" style=\"display:inline;vertical-align:middle;\" /></a></span></td></tr><tr><td><a name=\"-0x8f05a3a2bffacfd_step3\">3</a></td><td>instantiation</td><td><a href=\"#-0x8f05a3a2bffacfd_step7\">7</a></td><td><span style=\"font-size:20px;\"> <a class=\"ProveItLink\" href=\"../../../__pv_it/_proof_reverse_greater_eq/0d6ff8a7da2ecfb2e2a6232c5f14da31dfe7e7c80/proof.ipynb\" style=\"text-decoration: none\">&nbsp;&#x22A2;&nbsp;&nbsp;</a><a class=\"ProveItLink\" href=\"../../../__pv_it/_proof_reverse_greater_eq/0c953880e8cad459711824798fd11e437d4cfabd0/expr.ipynb\"><img src=\"data:image/png;base64,iVBORw0KGgoAAAANSUhEUgAAAQcAAAAUBAMAAABysOUVAAAAMFBMVEX///9UVFTMzMx2dna6uroQ\n",
       "EBCqqqqIiIgiIiJmZmYyMjJERETu7u6YmJjc3NwAAAC+aOQFAAAAAXRSTlMAQObYZgAAArVJREFU\n",
       "SMeVVj2IE0EU/hL3TOImMdgoFpJexKsMimAaOW28KwQbi2sFkW0kBA4MCp4KkdPiDtKYExFiIZ6N\n",
       "xaGsyOF5FqbUwhAL5RSFIOI1Kr6Z2WTfzP7lHnybzez7vn07782bAYpdRNqlkLEfHsalJOlLwtto\n",
       "H6T6gaH8E4WxKUn6kvDYeJC5yt7YDvB29RWiTFHS8r6MEH3TWaCwoI+/muf/KgHeBw/cdt43KSnx\n",
       "/oKDoL5uFYWs/lVfm9rftQDttgdmhZt9k5Iu0SXrIqBv2JrCpjb46aEx+VWzzBoKPH/X3CBFJOG0\n",
       "uNmMi0E6E+qUlbqDz1Lo4INRtmoHpmiedpiTmVlQeL2E4nk9fxrlAuGFuNH0WTX4zoTndLVmcEU8\n",
       "sZ/6pYH3zi2aaVlmxx4J60iXrsLkSWQGYuBNM5SSpZTINcT1mQ5zJlwHvuTaWJWfOT+K9zhOuGeo\n",
       "5BrGTGRnJYqzLdjiJSk/fxol4yAl88L1mTFnwlnAnXCwpUpslF5X0dIDgzxRlcjjHHaL4n/pB6FR\n",
       "8g1syFFNH2HOBHLCtJv+6S22zqiYt+KCgPUHh8vmcuKURRwZBsH0EeJMoOlCC5kZ75G1XFY3imY1\n",
       "/Fwus3SAZviy2Vg4Bd+gfrk+02HOBCocrMAujZRWZSovUtnNDauM2bAwibBiLFGdYh9y4BWmpu8Z\n",
       "cyYcpZE7mPZ3meIeEeFveyB2ntykQfbWFHIl66/erAxKep8KLaCvJpw5E06J6qrdM/pafu9c/aNo\n",
       "JmUjCG/+yKH+T2/bJqWjfpL1CaqttiI62np028614ynfvTWdqL8uN5hUO/8rZoMJ3cD24111LEqy\n",
       "fkU212zXVkW0cUNY/FZu9yWaeBa3lTNj+pFbOR06rNrdiEDtyEPNVL08JiVJXxLijl+97R/vets5\n",
       "3vUU/gPlJAYmXfTw0QAAAABJRU5ErkJggg==\n",
       "\" style=\"display:inline;vertical-align:middle;\" /></a></span></td></tr>\n",
       "<tr><td>&nbsp;</td><td colspan=4 style=\"text-align:left\"><span style=\"font-size:20px;\"><a class=\"ProveItLink\" href=\"../../../../../__pv_it/common/a0d9d672aa5e272d907247690c152cc2c6daafb70/expr.ipynb\"><img src=\"data:image/png;base64,iVBORw0KGgoAAAANSUhEUgAAAAsAAAAJBAMAAAAWSsseAAAALVBMVEX///9mZmaqqqrMzMxEREQy\n",
       "MjIiIiKYmJh2dna6urrc3NxUVFSIiIju7u4AAACJHQtQAAAAAXRSTlMAQObYZgAAAEJJREFUCNdj\n",
       "YLhzeuWJAwy8Dew5bAEMHBc43nIuYOBlYHFgAAG+A2DKzgBIMF04x8BzgWGegh/DcgaG22fuiBcw\n",
       "AAATyhBrnyPYZQAAAABJRU5ErkJggg==\n",
       "\" style=\"display:inline;vertical-align:middle;\" /></a> : <a class=\"ProveItLink\" href=\"../../../../../__pv_it/common/ff7dba4ef0bbe791ab573bf2d9c220a304399ac80/expr.ipynb\"><img src=\"data:image/png;base64,iVBORw0KGgoAAAANSUhEUgAAAAsAAAANBAMAAACN24kIAAAAMFBMVEX///8iIiKYmJhUVFTMzMxE\n",
       "REQyMjKqqqq6urp2dnYQEBDc3NxmZmaIiIju7u4AAACH5sGpAAAAAXRSTlMAQObYZgAAAFlJREFU\n",
       "CNdj4LtzgWHXAwZOjgUM9xkYtvMkMIQyMDzgusDwl4GBof8ByxcgdYyBdwGQCmZgNQBShxn6FYDU\n",
       "47vnNzAwgGUZGJgT+H4AKUYF1gtAiuPuESAJAJGkFvXVdzA+AAAAAElFTkSuQmCC\n",
       "\" style=\"display:inline;vertical-align:middle;\" /></a>, <a class=\"ProveItLink\" href=\"../../../../../__pv_it/common/ff7dba4ef0bbe791ab573bf2d9c220a304399ac80/expr.ipynb\"><img src=\"data:image/png;base64,iVBORw0KGgoAAAANSUhEUgAAAAsAAAANBAMAAACN24kIAAAAMFBMVEX///8iIiKYmJhUVFTMzMxE\n",
       "REQyMjKqqqq6urp2dnYQEBDc3NxmZmaIiIju7u4AAACH5sGpAAAAAXRSTlMAQObYZgAAAFlJREFU\n",
       "CNdj4LtzgWHXAwZOjgUM9xkYtvMkMIQyMDzgusDwl4GBof8ByxcgdYyBdwGQCmZgNQBShxn6FYDU\n",
       "47vnNzAwgGUZGJgT+H4AKUYF1gtAiuPuESAJAJGkFvXVdzA+AAAAAElFTkSuQmCC\n",
       "\" style=\"display:inline;vertical-align:middle;\" /></a> : <a class=\"ProveItLink\" href=\"../../../../../__pv_it/common/a0d9d672aa5e272d907247690c152cc2c6daafb70/expr.ipynb\"><img src=\"data:image/png;base64,iVBORw0KGgoAAAANSUhEUgAAAAsAAAAJBAMAAAAWSsseAAAALVBMVEX///9mZmaqqqrMzMxEREQy\n",
       "MjIiIiKYmJh2dna6urrc3NxUVFSIiIju7u4AAACJHQtQAAAAAXRSTlMAQObYZgAAAEJJREFUCNdj\n",
       "YLhzeuWJAwy8Dew5bAEMHBc43nIuYOBlYHFgAAG+A2DKzgBIMF04x8BzgWGegh/DcgaG22fuiBcw\n",
       "AAATyhBrnyPYZQAAAABJRU5ErkJggg==\n",
       "\" style=\"display:inline;vertical-align:middle;\" /></a></span></td></tr><tr><td><a name=\"-0x8f05a3a2bffacfd_step4\">4</a></td><td>theorem</td><td></td><td><span style=\"font-size:20px;\"> <a class=\"ProveItLink\" href=\"../../../../../logic/equality/_theory_nbs_/proofs/rhs_via_equality/thm_proof.ipynb\" style=\"text-decoration: none\">&nbsp;&#x22A2;&nbsp;&nbsp;</a><a class=\"ProveItLink\" href=\"../../../../../logic/equality/__pv_it/theorems/4546a35b627d4cb8c4df070fccd511b94f50b8070/expr.ipynb\"><img src=\"data:image/png;base64,iVBORw0KGgoAAAANSUhEUgAAAIkAAAAWBAMAAAAGOqJsAAAAMFBMVEX///8QEBCIiIhmZma6urrM\n",
       "zMxUVFQiIiJERETc3Nzu7u6qqqp2dnaYmJgyMjIAAAAcRTyBAAAAAXRSTlMAQObYZgAAAgFJREFU\n",
       "OMutVD9IG1EY/3nR/DnvqkiXVgdFxEUaxyiIBy7ZmnZwcDFCdSiCuhaLgYImhZJsuqjRMUMrdMoi\n",
       "0kIFDXrOIqaLg9BWEKVpbdPve5fcvUsc9OgP3vf78uX3fnfve/ce8F9Q5HDiebraXRgi2uf83LPL\n",
       "bgz+BLBCaSjh1eQ9LUXtAB5kAW3Lq8tXmo0ZQN/L5Za9mmh/OB5mgJ/J5LxXl/VZjsMGMAmkgMb0\n",
       "dOQll7oLg0LQaOmi158XsxJbqIoOOzmmY8AIVN7tI+o30ZqBZ0IdtPR6K7RZiQVs0UKMY5lGAIpJ\n",
       "NAWEabceAb645OKPQ7mQmOGIyuzVfM0dMgNceA0kydIUj3VcqBBMSFypVURz4ucvdi6O8jdYgvIK\n",
       "6KLUembF5UMGvVmJGY5ogkNYNCf1gpt508df8RkNX1FyefqpsGWzP0l4J4nGs5s9TZdC+JG7pokq\n",
       "bmg07EguB3CzW6R0mtqpyNDCbxTsF3mbtVuOyxu42S3C2HRvCmKjdF5vi3UIptTj0EPZ5Tck9n8n\n",
       "fJNEXIvpGdt/nNLQW2w817cNyaWpBFEXXIUjEouI2n8oPwZoSjvUyJd4SHJ5cpkRdcH2nWKLuM3l\n",
       "q5pj0cxPj6/KK7LrLlRFnM7VXgh5fv2/j+tc8rUuVdGt4JOAJaPOxaxTLhl3O/S++9wQ/wC6SI3I\n",
       "rLOAiQAAAABJRU5ErkJggg==\n",
       "\" style=\"display:inline;vertical-align:middle;\" /></a></span></td></tr>\n",
       "<tr><td>&nbsp;</td><td colspan=4 style-\"text-align:left\"><a class=\"ProveItLink\" href=\"../../../../../logic/equality/_theory_nbs_/proofs/rhs_via_equality/thm_proof.ipynb\">proveit.logic.equality.rhs_via_equality</a></td></tr><tr><td><a name=\"-0x8f05a3a2bffacfd_step5\">5</a></td><td>assumption</td><td></td><td><span style=\"font-size:20px;\"><a class=\"ProveItLink\" href=\"../../../__pv_it/theorems/6204c1df8181066df7bc6763618b337f003edff50/expr.ipynb\"><img src=\"data:image/png;base64,iVBORw0KGgoAAAANSUhEUgAAADMAAAASBAMAAAAEf/uKAAAAMFBMVEX///8QEBBmZmaqqqrMzMxE\n",
       "REQyMjIiIiKYmJh2dna6urrc3NxUVFSIiIju7u4AAAA6P00QAAAAAXRSTlMAQObYZgAAAMxJREFU\n",
       "GNNjYCAC8BU9wCnHnLMBpxxXjgNOOZbQBSj8t3d23bwAZXMfMwBbe+kCw8YHDHwTOGrZE2DquNVB\n",
       "9nFyCTDcB1IPOP9xwe3nKAKRm5kSGEKBmhlYA+CG81aCPfCA8QLDXxCDH2YTw8taKGP9A5YvINof\n",
       "5uRNFTA1agy8AkCPPrjPwAs2Zk8y3OAYBtYDQL0G8Qw7wC6OQnhIh2F9AwPDm7tvNRrQ/f7mrj7u\n",
       "QFPDIc6TwPcLJVLSy0EA5Fz2BtYLuKLgrgqQBADiMTWPVSs0BgAAAABJRU5ErkJggg==\n",
       "\" style=\"display:inline;vertical-align:middle;\" /></a> <a class=\"ProveItLink\" href=\"../../../__pv_it/_proof_reverse_greater_eq/80eb4ce07f4fe7e8138031204068ea12297b78240/proof.ipynb\" style=\"text-decoration: none\">&nbsp;&#x22A2;&nbsp;&nbsp;</a><a class=\"ProveItLink\" href=\"../../../__pv_it/theorems/6204c1df8181066df7bc6763618b337f003edff50/expr.ipynb\"><img src=\"data:image/png;base64,iVBORw0KGgoAAAANSUhEUgAAADMAAAASBAMAAAAEf/uKAAAAMFBMVEX///8QEBBmZmaqqqrMzMxE\n",
       "REQyMjIiIiKYmJh2dna6urrc3NxUVFSIiIju7u4AAAA6P00QAAAAAXRSTlMAQObYZgAAAMxJREFU\n",
       "GNNjYCAC8BU9wCnHnLMBpxxXjgNOOZbQBSj8t3d23bwAZXMfMwBbe+kCw8YHDHwTOGrZE2DquNVB\n",
       "9nFyCTDcB1IPOP9xwe3nKAKRm5kSGEKBmhlYA+CG81aCPfCA8QLDXxCDH2YTw8taKGP9A5YvINof\n",
       "5uRNFTA1agy8AkCPPrjPwAs2Zk8y3OAYBtYDQL0G8Qw7wC6OQnhIh2F9AwPDm7tvNRrQ/f7mrj7u\n",
       "QFPDIc6TwPcLJVLSy0EA5Fz2BtYLuKLgrgqQBADiMTWPVSs0BgAAAABJRU5ErkJggg==\n",
       "\" style=\"display:inline;vertical-align:middle;\" /></a></span></td></tr>\n",
       "<tr><td><a name=\"-0x8f05a3a2bffacfd_step6\">6</a></td><td>instantiation</td><td><a href=\"#-0x8f05a3a2bffacfd_step8\">8</a>, <a href=\"#-0x8f05a3a2bffacfd_step9\">9</a>, <a href=\"#-0x8f05a3a2bffacfd_step10\">10</a></td><td><span style=\"font-size:20px;\"> <a class=\"ProveItLink\" href=\"../../../__pv_it/_proof_reverse_greater_eq/87a98a3e783d1efc1e769c9c272df31434a49af80/proof.ipynb\" style=\"text-decoration: none\">&nbsp;&#x22A2;&nbsp;&nbsp;</a><a class=\"ProveItLink\" href=\"../../../__pv_it/_proof_reverse_greater_eq/14fb33e835983cb5a4911c177e9268c231d0d7640/expr.ipynb\"><img src=\"data:image/png;base64,iVBORw0KGgoAAAANSUhEUgAAAQcAAAAUBAMAAABysOUVAAAAMFBMVEX////MzMxUVFR2dna6uroQ\n",
       "EBCqqqqIiIgiIiJmZmYyMjJERETu7u6YmJjc3NwAAACgK8IjAAAAAXRSTlMAQObYZgAAAvxJREFU\n",
       "SMeVVs9rE0EUfkm3zcbdpPkHpLlVepCeLBXBXKT1YnsoePGQqyCyKBIWCg0IqRUq0YNKQIw5iPUg\n",
       "UgQPJXVpKal6MEc9GBZRqaJQQcylim9mdnZnZn+0ffAlw+R935u8NzNvAPJdiLXLEXM/PRyUsp8+\n",
       "JbyN94G0G5oynzMcmLKfPiU8EwIsOUrEZoh3xGWIM0ZJ0XEBZP1IZ4JcXZgcainyEyHeBw+iDT1S\n",
       "KWkSP2eBoh+yCQZdCqu1CpLTVoh2y4NguSVXpaSK+KGTvOpu0iK2GHbk2dRaSUp+Sd1mVQbBMted\n",
       "MIUU4SwZ7CStgTojbBx2rny+avEoY2VaLduCLw4MqMnM1Bk69yB/gc5sLvICV45PYWoZ5SJinQxs\n",
       "X0veDYEzoo0T47lF3d+C+fskgQPaLCxgpun0yafEVsjQ6DKMn4HMLpl4vcyJm/DeuskpOiaVnqG2\n",
       "ryXpCM6IGjo5A3uaG1SYfH7NNmENt1xVyYRepsiXG2CQIOnH/k+n4LRzjlMyFqRpXWq+lmSCM2IO\n",
       "M8H0pAo7gxb08d/sKuTBEoUJ52GYVHAjWITDIjGKWYU3dHbO15JMcEbMkfGw5eeUV3jGSf2KXwRo\n",
       "ezBCD9K35eDHfrAIuAsn+CI8LcX6wiJqZDzCD2Yg2YDMLMaqBrVsCeUAzPA1ZdnAIjEKfAf2XfO1\n",
       "JB3BGYEbZ8hZgAwtwqcguatgFPkuE4xvTPxxVTmil3CnzvsU4yjLbtvXkkxwRkxitsqvWEsyXwRe\n",
       "d2AGY2XHFbJ3piBb1P7Kl5X2x9jNB5TUMba0SV9LuhQFZ8Q0bq5K50Go1W1UHpIuUVCmvfyBOWr/\n",
       "k69tc3Te/ggBZYV9Tfta0jUhOCPir9UGYjv+2s42o2mc8sM70y7XinPejm0w6ab5O6mBjcG7UnxP\n",
       "EhtLnWslNDB2uXpJenKDGMmn3jWsyFZuuBTL8DKplQu27mkltfKYR4dWue1FjH7UTNmFaF0j/Khh\n",
       "WnHOlJD0/Ood/nnXO8zzrsfwHym+CACXqlkdAAAAAElFTkSuQmCC\n",
       "\" style=\"display:inline;vertical-align:middle;\" /></a></span></td></tr>\n",
       "<tr><td>&nbsp;</td><td colspan=4 style=\"text-align:left\"><span style=\"font-size:20px;\"><a class=\"ProveItLink\" href=\"../../../__pv_it/_proof_reverse_greater_eq/f7c00ab253a0854833b7e2e433c52d2d5254155b0/expr.ipynb\"><img src=\"data:image/png;base64,iVBORw0KGgoAAAANSUhEUgAAADcAAAAUBAMAAADbzbjtAAAAMFBMVEX///8iIiLc3Ny6urqIiIiq\n",
       "qqp2dnbMzMwQEBDu7u5mZmYyMjJERERUVFSYmJgAAAA4CJ/KAAAAAXRSTlMAQObYZgAAAQ1JREFU\n",
       "KM9jYIADpgcMyCAITL79f/burgkMDHNQ5Bh4FcDUbwYGnk4Ghk2okpwbQCT7NwYG1i8MfAtQJRlS\n",
       "QATLZyD+xsCogCY5A0TwfABa8JlBEU2OgdsASPADDddfwOCF5O5lS4BuYAPZU5/AwCrGwHAOIWmh\n",
       "wA00jQ/kIv9raUuAPhFFuLOPgesA0JECQPb5CWChZrgk108GRgegL4C6GT4yoElyHGCYXwCRZP8F\n",
       "EUIYOz+BIR5IMQtAvAkCCAfND2C4zaoAdhD3T4hQFlySx4FPlg1odQID1/6/DmAhQ6BBZ4DgJAPn\n",
       "FXddZ6CuAoTnMIJvIhIbe8DDwCFsUQYDaJHNg2INWjJ5xMAAAHA6PhPQZp1jAAAAAElFTkSuQmCC\n",
       "\" style=\"display:inline;vertical-align:middle;\" /></a> : <a class=\"ProveItLink\" href=\"../../../__pv_it/_proof_reverse_greater_eq/bff0b009e99fbb75d986184e71554fad52520d6b0/expr.ipynb\"><img src=\"data:image/png;base64,iVBORw0KGgoAAAANSUhEUgAAAN0AAAAUBAMAAAD7DSVVAAAAMFBMVEX////MzMxUVFR2dna6uroQ\n",
       "EBCqqqqIiIgiIiJmZmYyMjJERETu7u6YmJjc3NwAAACgK8IjAAAAAXRSTlMAQObYZgAAAtBJREFU\n",
       "SMeVVs1rE1EQnySb7G52s+YfEHOr5CA5GSqCuZTWi+1B8FIhV0F0/SIECg0KrRUisQUrATHmINaD\n",
       "hCJ4iB9Li8SPQ3rUg2UpKioKEcReojjvbTf73tvNQh5ssju/+c28nZk3swDGFgxd5/wiqv5zJAqP\n",
       "vQtRiNo+EVHXWyNReOyx96wvWbyC3vBxiHoyxKZDidD7dACWqjGCRFOwlBfNUfUPgjBxX6REiauU\n",
       "KbIRUzgPUpPf0yuRQdVvCntYskVKJEN0LZGN2FdeEmkX2MdkQWAQdaPCieRrlp9Cwn7cF2zEyvjX\n",
       "ufjpkvvuRrZIQ1024bMFsZrAIOoyCjurYMxSyeaim53SoUkMmEM5g9cLtqxXVmcp9hwVc6lFZVAZ\n",
       "xh0SnZg0A/MYKio+8oisNXKL6qDhkchNgNwjgjdVl7gJ780bLkXBULFVPGEnexRbQNtWrC/ZXjbI\n",
       "7xe1AW2shIrwfgvEVhGMYh00Yi/6YAAdhWPWCZcimxBlcqGfBrVFsZP44FC5bFhxE3Zxjz3BH6pD\n",
       "vICUU7CPpGDD82eRDboUvQJvGZraB8WkGDHgUPlsTFuRX8P9gdSHA7SUv1U9cNfzB7fhMEOLt6Cb\n",
       "phgJ0B6VY9dBnkGzFS9/TSaegOG+IuwQyAZdCnwHNhXdHJx3MCyAhDUPMo3ijhedddAybvKZ5dYL\n",
       "guvCeTiLBTQ3oGj72dPeLUI2YRNsHENXfOl0YP2Jp7EM02hWzQn+xsGpeDUj/eXPu/RH6xkeJXKQ\n",
       "PZWamboao9gU5rzUuesbEhule2glKbbAqb2I6WPlf3w/08fmyh/Bo6w5DauN6xmCF3YuU0wZ2nvr\n",
       "eL0e3s/URjDNpfwIxlK14NHR0H+H9essdAvB/vIh8y3Pdx394XWySECULc0MnEdEXbOhCk/D5lEI\n",
       "FjxvpdItx/CQeTtZTgfb1EJmI8XCvie2R/+e2IZQ7D9VCNSQpimfIgAAAABJRU5ErkJggg==\n",
       "\" style=\"display:inline;vertical-align:middle;\" /></a>, <a class=\"ProveItLink\" href=\"../../../../../__pv_it/common/a0d9d672aa5e272d907247690c152cc2c6daafb70/expr.ipynb\"><img src=\"data:image/png;base64,iVBORw0KGgoAAAANSUhEUgAAAAsAAAAJBAMAAAAWSsseAAAALVBMVEX///9mZmaqqqrMzMxEREQy\n",
       "MjIiIiKYmJh2dna6urrc3NxUVFSIiIju7u4AAACJHQtQAAAAAXRSTlMAQObYZgAAAEJJREFUCNdj\n",
       "YLhzeuWJAwy8Dew5bAEMHBc43nIuYOBlYHFgAAG+A2DKzgBIMF04x8BzgWGegh/DcgaG22fuiBcw\n",
       "AAATyhBrnyPYZQAAAABJRU5ErkJggg==\n",
       "\" style=\"display:inline;vertical-align:middle;\" /></a> : <a class=\"ProveItLink\" href=\"../../../../../logic/equality/__pv_it/theorems/74b0b59013f49991a1c25bdb1edf9d4d75b302640/expr.ipynb\"><img src=\"data:image/png;base64,iVBORw0KGgoAAAANSUhEUgAAADIAAAANBAMAAAAZPSD6AAAAMFBMVEX///8iIiKYmJhUVFTMzMxE\n",
       "REQyMjKqqqq6urp2dnYQEBDc3NxmZmaIiIju7u4AAACH5sGpAAAAAXRSTlMAQObYZgAAAJVJREFU\n",
       "GNNj4LtzgWHXAwYUwHfXuncuAyfHAob7IO60NBDIATFfMiheEGPYzpPAEIqqhWEew/wH3QwPuC4w\n",
       "/EWTeQBR2/+A5QsDOgCrPcbAuwBhTzJYAqI2mIHVAE1HHe8HhnsMDIcZ+hVQJTi+s37gBoo9vnt+\n",
       "A5p3bO/dUWKA2IQVMCfw/cAuw6jAegG7DMfdI9glAG3sLZ0CIcUUAAAAAElFTkSuQmCC\n",
       "\" style=\"display:inline;vertical-align:middle;\" /></a>, <a class=\"ProveItLink\" href=\"../../../../../__pv_it/common/ff7dba4ef0bbe791ab573bf2d9c220a304399ac80/expr.ipynb\"><img src=\"data:image/png;base64,iVBORw0KGgoAAAANSUhEUgAAAAsAAAANBAMAAACN24kIAAAAMFBMVEX///8iIiKYmJhUVFTMzMxE\n",
       "REQyMjKqqqq6urp2dnYQEBDc3NxmZmaIiIju7u4AAACH5sGpAAAAAXRSTlMAQObYZgAAAFlJREFU\n",
       "CNdj4LtzgWHXAwZOjgUM9xkYtvMkMIQyMDzgusDwl4GBof8ByxcgdYyBdwGQCmZgNQBShxn6FYDU\n",
       "47vnNzAwgGUZGJgT+H4AKUYF1gtAiuPuESAJAJGkFvXVdzA+AAAAAElFTkSuQmCC\n",
       "\" style=\"display:inline;vertical-align:middle;\" /></a> : <a class=\"ProveItLink\" href=\"../../../../../logic/equality/__pv_it/theorems/72728018cab57b4b94b0a2b3d711aa95324f266f0/expr.ipynb\"><img src=\"data:image/png;base64,iVBORw0KGgoAAAANSUhEUgAAADMAAAANBAMAAAD2/0vEAAAAMFBMVEX///8QEBBmZmaqqqrMzMxE\n",
       "REQyMjIiIiKYmJh2dna6urrc3NxUVFSIiIju7u4AAAA6P00QAAAAAXRSTlMAQObYZgAAAKFJREFU\n",
       "GNNjYHh7Z9fNCwwogO/SBYaNDxj4JnDUsicA+ZxpYKAAYnIJMNwHUg84/3FtQNW1mSmBIRSomYE1\n",
       "gAENPGC8wPAXxOC/gC7FsP4ByxcQ7e8A5kLtOgBiqzHwCjAwMD+4z8D7AE1XDAMrUMl6g3iGHegG\n",
       "6jCsb2BgeHP3rUYDutSbu/obGHABNRziPAl8v3BIsTewXsAhxXVXBUgCAM1cLDnk3FtcAAAAAElF\n",
       "TkSuQmCC\n",
       "\" style=\"display:inline;vertical-align:middle;\" /></a></span></td></tr><tr><td><a name=\"-0x8f05a3a2bffacfd_step7\">7</a></td><td>axiom</td><td></td><td><span style=\"font-size:20px;\"> <a class=\"ProveItLink\" href=\"../../axioms.ipynb#less_eq_def\" style=\"text-decoration: none\">&nbsp;&#x22A2;&nbsp;&nbsp;</a><a class=\"ProveItLink\" href=\"../../../__pv_it/axioms/04f50d259b1b80953f8ec665dd5a21d3e798ae3f0/expr.ipynb\"><img src=\"data:image/png;base64,iVBORw0KGgoAAAANSUhEUgAAAUcAAAAVBAMAAAAnVjEQAAAAMFBMVEX///8QEBCIiIhmZma6urrM\n",
       "zMxUVFQiIiJERETc3Nzu7u6qqqp2dnaYmJgyMjIAAAAcRTyBAAAAAXRSTlMAQObYZgAAAz5JREFU\n",
       "SMfNV01oE0EYfU3z1+2m7UHvSwu19GIvVUSpwYLFS38u4kUoxSJeSvAHEav0IJIclBXBloq6RWil\n",
       "FAn0pAcp8SBE0IBCKSgEioqKEkRB8eLOzszuzOxskt588Mhm8t43MzvfNzMBotBWoYzCE03bPcZm\n",
       "LY3ic1ZJw3uN6BFjFJJ2qMmYo2za0ig+50vS8EUj+swoYc94MKJqyNJhU0aBWhLe8zh08RUx5wJ5\n",
       "65rZZwYoJd8LS/hWCnneMEpo/6BYkmR8GQvh+DJKATscwCyGJSmbUsyg/VIKLYU8lxilyZ6zFUti\n",
       "koR3EIqvYClgpry6Oq+RzDMKY5yR59KRVcsgRykiNuuELGSRhxGKH0qebMDf+fysRtLDaHSfOeKt\n",
       "UuImH5TRY+GWA1NdrNgApW8B1s5qLOsuC1DjC1kViDmnmUPBDcY1bFpXSUPerxkz3oW97hp4ZfDq\n",
       "O8E2eUxXKH0LHl7RWVLujOegxDe9ON8HZDHnsK5OgcuMZbx2jnmF3c9/uttaRd6tiJyaxkVK35L8\n",
       "qrXELCSzUOMHEMScKcR0W+ouRofoPWyW2YPTYuGH+zZqiqUlS+lblv1BShYjh8d+H0F8aMScZiWF\n",
       "OoME0VM8O8AexpzErzqDDCy3+XLLloN0d1bjIyzmbKseJ5vRYK+bc/FeujcIyw2iZxidpp9DiHW5\n",
       "4lyQkx/F5RYsvHAkC+4j5/fBxSwnJ2UxJwqn3DRxZlLuOzA7nQmlcJ7GavCz8cQ17+M60pO8CgTw\n",
       "whEtfAuSLOmTlt+HFJ8hEHNiPUeOqm/k18UR9DHhc8r433RNuAbc8Up8H8bcptYNJTbbL2QL28wl\n",
       "S+K0w/tQ4lMEYk50etP64/18CFNMOEJpTPX3hK4fy92HySk9rjSztVEs9FiULdt+Hw3icyJDppWo\n",
       "eef+eeyOPhYFDLlcaepY1FoWgz7qi1fEfh6YVRMLDi7Ea3UuGPwSVTV+Nn/BqGNpHL8kmpbflsqY\n",
       "KOJon18NBUhHkfHpIgF59alK2tJe1dI2pea6orcUUF/MKaJo2OlK40tvvHsQ2tFEX3ojLI3ia2bd\n",
       "bic3Rpv++7C1878PWzv5+7AlUEwRxN9t4D/EPz5FQJYMbhovAAAAAElFTkSuQmCC\n",
       "\" style=\"display:inline;vertical-align:middle;\" /></a></span></td></tr>\n",
       "<tr><td>&nbsp;</td><td colspan=4 style-\"text-align:left\"><a class=\"ProveItLink\" href=\"../../axioms.ipynb#less_eq_def\">proveit.numbers.ordering.less_eq_def</a></td></tr><tr><td><a name=\"-0x8f05a3a2bffacfd_step8\">8</a></td><td>theorem</td><td></td><td><span style=\"font-size:20px;\"> <a class=\"ProveItLink\" href=\"../../../../../logic/equality/_theory_nbs_/proofs/sub_left_side_into/thm_proof.ipynb\" style=\"text-decoration: none\">&nbsp;&#x22A2;&nbsp;&nbsp;</a><a class=\"ProveItLink\" href=\"../../../../../logic/equality/__pv_it/theorems/8c444378a3a7afbc2953d40707cf277d9e5724670/expr.ipynb\"><img src=\"data:image/png;base64,iVBORw0KGgoAAAANSUhEUgAAAL8AAAAWBAMAAABj11ATAAAAMFBMVEX///8QEBCIiIhmZma6urrM\n",
       "zMxUVFQiIiJERETc3Nzu7u6qqqp2dnaYmJgyMjIAAAAcRTyBAAAAAXRSTlMAQObYZgAAAthJREFU\n",
       "SMe1VU1oE0EU/rruTzbZJl48eQkWSgkFcxFUREKFqmA19SDeDMEWKrXtoR4sKvGWCrW5WQRxBalY\n",
       "PAQ8iIK41IMQg0YURFDYs1C7KEpbi/rmp5vdJhHF+GD3zXxvZr43782bAf6H3JD6IX0ua3xoz7qd\n",
       "4yvDY3uBaEECegl4zhof2+R5gty9bCNekv0o9edIm4U2EZxygCdJvPaBRSBuA1a5TQQ7M/Q5OO8D\n",
       "tyhulYWFa+1K7ix94xlzwgfixLhSLF74w/k8tNpvBvygcH+Bkqbo7xjpo/hY1BwCpgF1dnT3mcYZ\n",
       "Gf6XRot3YpmW62vrwAMHkRpwD2+Tlyg+lOUDPNd4BTxrnCKzL4wjorOnJYHyrfo0BRiU0gpe2ofJ\n",
       "G4qWAYUYMUzpaUnAjZojOvMtCSJrXHXQHm0U+Z482njNYM2LEFBTAm7UszJxpZZlMOETAJ83CEz3\n",
       "BCuJVShT7ODu6qZ11G4Ydp1AGMmPvhymxIatruNDclkOijJIc8VCBO0rzx6jnD7NWuu9rKYVe8wg\n",
       "fithDwZ2IIx0mJ01bStiOYJSujupF0lmBOiXAYsUefBI8ZASScZ9xmK54hxgianrB9ETIBDGQzBv\n",
       "TygFqAzMxmtyAwLksmyL4Wmo3yOeSSO2sLwlkow1Lcev8v8+5AMEwtjPxutJaJwu4WeCg0z2/xST\n",
       "KC7RfKqL3aBxlrdOxpuQt4Xm8UKaxLYAgTCepOhmOrJQczzeyOqfSJYEGJL6VXGnfk0xh+bsm5Zr\n",
       "kcI51QsQcCMbbGSPkUOOecX0XkCeWgGGJHTZyRJZZuUzWJ5/s1ghhf4et04gjOxcqfmrFJKMtj16\n",
       "9kivLedyMFwPwes6JDJO5WgpUgvWgXCijLuYobhSgQYncTAk/oMT2VQysZJUunMUDQTUGVXJpcfi\n",
       "KfSFg82fzHebn7wNpb53mhAMYKBK7tGRqoXg6j9c8OnGDSr2X63wC2jlxTKsC1d/AAAAAElFTkSu\n",
       "QmCC\n",
       "\" style=\"display:inline;vertical-align:middle;\" /></a></span></td></tr>\n",
       "<tr><td>&nbsp;</td><td colspan=4 style-\"text-align:left\"><a class=\"ProveItLink\" href=\"../../../../../logic/equality/_theory_nbs_/proofs/sub_left_side_into/thm_proof.ipynb\">proveit.logic.equality.sub_left_side_into</a></td></tr><tr><td><a name=\"-0x8f05a3a2bffacfd_step9\">9</a></td><td>instantiation</td><td><a href=\"#-0x8f05a3a2bffacfd_step11\">11</a>, <a href=\"#-0x8f05a3a2bffacfd_step12\">12</a>, <a href=\"#-0x8f05a3a2bffacfd_step13\">13</a></td><td><span style=\"font-size:20px;\"> <a class=\"ProveItLink\" href=\"../../../__pv_it/_proof_reverse_greater_eq/8f58ff88ed467011c4faf4045b5b6aafd79c21550/proof.ipynb\" style=\"text-decoration: none\">&nbsp;&#x22A2;&nbsp;&nbsp;</a><a class=\"ProveItLink\" href=\"../../../__pv_it/_proof_reverse_greater_eq/a45fc9649d6a04687c1729963327e2d3a1c17f720/expr.ipynb\"><img src=\"data:image/png;base64,iVBORw0KGgoAAAANSUhEUgAAAQcAAAAUBAMAAABysOUVAAAAMFBMVEX////MzMxUVFR2dna6uroQ\n",
       "EBCqqqqIiIgiIiJmZmYyMjJERETu7u6YmJjc3NwAAACgK8IjAAAAAXRSTlMAQObYZgAAAu1JREFU\n",
       "SMeVVs9rE0EUfkm22Y27SfMPSHOr9CA5GRTBXKR6sT0UvHjIVRBZFAmBQgNCa4VI9KASEGMOYnsQ\n",
       "KYKHYl1aSqoezFEPhkVUqihEEHup4puZnczs7G6SPviyy9v5vvfy5s0PgEwHIu1yiO+nh1Epw/Qp\n",
       "4W30GIi7AZf1jGFkyjB9SngqBVh2lIjNAO+QyxBljBKj71nw64cOJkjXJWeypcgXArwPHmRLPlIp\n",
       "cRI/bYOiH7ACg+ELq7WyvkHbAdotD5Kll12VEsvhj0HqariDkthm2PV7Y+tFX/GLaptVGSTTrztB\n",
       "CpmEs+Rld1AOdDCigq/tK5+v2jzKVInOVsWGLw4k1GLqdYb2PchcoJ6tJT7B5aPTWFpGuYjYIC+q\n",
       "Ph8s9BEv0ZFPLxn9FszcJwVMaLOwgJWm7hOrxFbIq9lhyJ8GvUccr2ucuAXv7ZucYmBR6RqS9RNU\n",
       "Z7Xu10csosNJ7GuumGHy+zXVhHVsuapSCaNEkSk1wCRB4o/7n07CKeccp+g2xOm8BPSZSfqIOcyU\n",
       "6flm2BmzYQ//TU9JYqxIYcF5GCcV3hRJOESVU6wqvKFeVZ8PFvqIOeIa789Yf4ZnnNiv6CRA24cJ\n",
       "upC+1cTHPZEE3IVjPAlZv29CH7FIPBN8YQrJBuizGKsqeqIlTQdgNa8paQNR5RT4Duwp63s9kfPr\n",
       "I7Bxks4C6HQSPoniroGZ410mGW9M/LimLNFL2KnzfYp5mP17n75kQh9xHCtTesWOJOu5GHQHZjBW\n",
       "Kq9wvTUFqZz2179ZaX/MXkZQYkdYWFlfNqGPOIPNVW4/CBx1m+WH5JTIKm6vfmBNVv75t21rcr7y\n",
       "EQRlhT2G6yOit9UGYid62041w2mc8sNb00P1dyIPmHjT+j3oAJuCd8XoM0k+WIbqF/jm6u2lT24Q\n",
       "I/U0OqYdepSbLkUNXgw6yiXbCB0m9Ckh/NKhlW97EcMvNdOVbHgS5miXGqFPCYOuX92DX++6B7ne\n",
       "dRn+A0ofCUqYHkw/AAAAAElFTkSuQmCC\n",
       "\" style=\"display:inline;vertical-align:middle;\" /></a></span></td></tr>\n",
       "<tr><td>&nbsp;</td><td colspan=4 style=\"text-align:left\"><span style=\"font-size:20px;\"><a class=\"ProveItLink\" href=\"../../../__pv_it/_proof_reverse_greater_eq/f7c00ab253a0854833b7e2e433c52d2d5254155b0/expr.ipynb\"><img src=\"data:image/png;base64,iVBORw0KGgoAAAANSUhEUgAAADcAAAAUBAMAAADbzbjtAAAAMFBMVEX///8iIiLc3Ny6urqIiIiq\n",
       "qqp2dnbMzMwQEBDu7u5mZmYyMjJERERUVFSYmJgAAAA4CJ/KAAAAAXRSTlMAQObYZgAAAQ1JREFU\n",
       "KM9jYIADpgcMyCAITL79f/burgkMDHNQ5Bh4FcDUbwYGnk4Ghk2okpwbQCT7NwYG1i8MfAtQJRlS\n",
       "QATLZyD+xsCogCY5A0TwfABa8JlBEU2OgdsASPADDddfwOCF5O5lS4BuYAPZU5/AwCrGwHAOIWmh\n",
       "wA00jQ/kIv9raUuAPhFFuLOPgesA0JECQPb5CWChZrgk108GRgegL4C6GT4yoElyHGCYXwCRZP8F\n",
       "EUIYOz+BIR5IMQtAvAkCCAfND2C4zaoAdhD3T4hQFlySx4FPlg1odQID1/6/DmAhQ6BBZ4DgJAPn\n",
       "FXddZ6CuAoTnMIJvIhIbe8DDwCFsUQYDaJHNg2INWjJ5xMAAAHA6PhPQZp1jAAAAAElFTkSuQmCC\n",
       "\" style=\"display:inline;vertical-align:middle;\" /></a> : <a class=\"ProveItLink\" href=\"../../../__pv_it/_proof_reverse_greater_eq/112ea002ce487661c41cc60bf46b973d8ede20ef0/expr.ipynb\"><img src=\"data:image/png;base64,iVBORw0KGgoAAAANSUhEUgAAAN0AAAAUBAMAAAD7DSVVAAAAMFBMVEX////MzMxUVFR2dna6uroQ\n",
       "EBCqqqqIiIgiIiJmZmYyMjJERETu7u6YmJjc3NwAAACgK8IjAAAAAXRSTlMAQObYZgAAAqZJREFU\n",
       "SMetVkFrE1EQnk222W12U/MH1NwqHqQnS0SwtyqC7aE3QXoVRBZFQqDQgNBYwVI9iLRIlxzE9lBF\n",
       "BA+hdWkpLXrJsT1Yiqi0opCi1IsH583L5r19u3lRcGA2bycz37z3zezsAvQ1oKPcjJt07vBdD0Vw\n",
       "7zXxqb2YSefuvtRDEdyy5D8dKAB+LG5ZNRh0zbNLdk+zF59rblYyZmpKxKAaFnHnG2epch5b7mjO\n",
       "TlCodiSDWctHnDbUKDt2BKPAzETMjC7fBtd9Jbo+JN9mh5SofUhk+BK1UkWXj0GhlnG5eevTbS/s\n",
       "v9PjRHfZg88BpFX6ytL6oHiHHes66iq7t9DZLZ0ZVoogQaGuoGEgV7XbndH3hFGWNkdhEutC5nNL\n",
       "TBbZckXi/hq8IIqRFWpMBx+Vddj27rN4ClmajUKhTqEhSP8223XJTbPrl14f6thAKkVTUkEaME/H\n",
       "8iBFtNvIzHm4EFyJhkhQqGN4PnDEg2PdpdIHPR78wo03lXxjYrkQQJX4qsA7MvRg1oBBR0WCQiWA\n",
       "Y2H1YL3aWowExqE+31VwD2nxGM628wGDVkRAoRJBJ8On4OBB6DQH1ijWqCLqV4vy6f6ADN/NV+Cs\n",
       "Mz7B4Hto1a8QhULFBsgEk2ARix+fteFegVMI+0US0S/uEaR8mojOcU4P65cbVhMmlBgBhVrE846/\n",
       "5ZPWfS2cHsEIhvcOKLFFsXwD2wX62zjFxyB2u3nkNGMTXUChXgRYK20+jU39tdICtmw2r5jRHS7X\n",
       "UQL0ONHPx8Fi6wGpgNs/Uf7QGQrV7jhj51C3us8zlG+t35luUFtJA5hPYd/9+XfzWpKdblCD4Shq\n",
       "tcDze0wYh3bD8RLfR6uafE4iVwKK4JJfoGbpYTLAv79vBRTB6T4Qdv/f98Qu1z8nTNYXrmQYRAAA\n",
       "AABJRU5ErkJggg==\n",
       "\" style=\"display:inline;vertical-align:middle;\" /></a>, <a class=\"ProveItLink\" href=\"../../../../../__pv_it/common/a0d9d672aa5e272d907247690c152cc2c6daafb70/expr.ipynb\"><img src=\"data:image/png;base64,iVBORw0KGgoAAAANSUhEUgAAAAsAAAAJBAMAAAAWSsseAAAALVBMVEX///9mZmaqqqrMzMxEREQy\n",
       "MjIiIiKYmJh2dna6urrc3NxUVFSIiIju7u4AAACJHQtQAAAAAXRSTlMAQObYZgAAAEJJREFUCNdj\n",
       "YLhzeuWJAwy8Dew5bAEMHBc43nIuYOBlYHFgAAG+A2DKzgBIMF04x8BzgWGegh/DcgaG22fuiBcw\n",
       "AAATyhBrnyPYZQAAAABJRU5ErkJggg==\n",
       "\" style=\"display:inline;vertical-align:middle;\" /></a> : <a class=\"ProveItLink\" href=\"../../../__pv_it/theorems/2f09be6e2ec6f3ed7c3d70f52a21a63cab12150b0/expr.ipynb\"><img src=\"data:image/png;base64,iVBORw0KGgoAAAANSUhEUgAAADMAAAAQBAMAAABJt1qBAAAAMFBMVEX///8QEBBmZmaqqqrMzMxE\n",
       "REQyMjIiIiKYmJh2dna6urrc3NxUVFSIiIju7u4AAAA6P00QAAAAAXRSTlMAQObYZgAAALpJREFU\n",
       "GNNjYIABvgwGnOBlLW453soHqAJv7+y6eQHC5CiCyPFdusCw8QED3wSOWvYEqDLmnA0gipNLgOE+\n",
       "kHrA+Y9rA8wIrhyQvs1MCQyhQM0MrAEI07lSQVIPGC8w/AVx+S/AZaAGMqx/wPIFRPs7wGRgzmBQ\n",
       "Y+AVACp8cJ+B9wGa42MYWA8A9RrEM+xA97IOw/oGBoY3d99qNKAH1Ju7+htwhowaDnGeBL5fOKTY\n",
       "G1gv4JDiuqsCJAEO9DSayJNaIQAAAABJRU5ErkJggg==\n",
       "\" style=\"display:inline;vertical-align:middle;\" /></a>, <a class=\"ProveItLink\" href=\"../../../../../__pv_it/common/ff7dba4ef0bbe791ab573bf2d9c220a304399ac80/expr.ipynb\"><img src=\"data:image/png;base64,iVBORw0KGgoAAAANSUhEUgAAAAsAAAANBAMAAACN24kIAAAAMFBMVEX///8iIiKYmJhUVFTMzMxE\n",
       "REQyMjKqqqq6urp2dnYQEBDc3NxmZmaIiIju7u4AAACH5sGpAAAAAXRSTlMAQObYZgAAAFlJREFU\n",
       "CNdj4LtzgWHXAwZOjgUM9xkYtvMkMIQyMDzgusDwl4GBof8ByxcgdYyBdwGQCmZgNQBShxn6FYDU\n",
       "47vnNzAwgGUZGJgT+H4AKUYF1gtAiuPuESAJAJGkFvXVdzA+AAAAAElFTkSuQmCC\n",
       "\" style=\"display:inline;vertical-align:middle;\" /></a> : <a class=\"ProveItLink\" href=\"../../../__pv_it/theorems/95a014f553c171661f83a33e9bb3500ba72bae240/expr.ipynb\"><img src=\"data:image/png;base64,iVBORw0KGgoAAAANSUhEUgAAADIAAAAQBAMAAACmdTG/AAAAMFBMVEX///8iIiKYmJhUVFTMzMxE\n",
       "REQyMjKqqqq6urp2dnYQEBDc3NxmZmaIiIju7u4AAACH5sGpAAAAAXRSTlMAQObYZgAAALBJREFU\n",
       "GNNjYEAB7CkM2AGTzAbsErySD5B4fHcuMOyCCLyUhYndte6dy8DJsYDhPpj/Rgim+iWD4gUxhu08\n",
       "CQyhIC5zOtyceQzzH3QzPOC6wPAXxH2MkHkAUdv/gOULmL9HCGE7WO0xBt4FDKguYICoDWZgNUBz\n",
       "dR3vB4Z7DAyHGfoVUH3K8Z31AzdQ7PHd8xtQQ4fP9t4dJQaITVgBcwLfD+wyjAqsF7DLcNw9gl0C\n",
       "ANcsMbD8u+TJAAAAAElFTkSuQmCC\n",
       "\" style=\"display:inline;vertical-align:middle;\" /></a></span></td></tr><tr><td><a name=\"-0x8f05a3a2bffacfd_step10\">10</a></td><td>instantiation</td><td><a href=\"#-0x8f05a3a2bffacfd_step14\">14</a></td><td><span style=\"font-size:20px;\"> <a class=\"ProveItLink\" href=\"../../../__pv_it/_proof_reverse_greater_eq/3378d8166f4dd751fc6b444adf3ef60aeb916b3e0/proof.ipynb\" style=\"text-decoration: none\">&nbsp;&#x22A2;&nbsp;&nbsp;</a><a class=\"ProveItLink\" href=\"../../../../../logic/equality/__pv_it/axioms/3b2912001c2db5800f74c5a10b88a06b81d3225d0/expr.ipynb\"><img src=\"data:image/png;base64,iVBORw0KGgoAAAANSUhEUgAAAJ0AAAAUBAMAAABltyL1AAAAMFBMVEX///9UVFTMzMx2dna6uroQ\n",
       "EBCqqqqIiIgiIiJmZmYyMjJERETu7u6YmJjc3NwAAAC+aOQFAAAAAXRSTlMAQObYZgAAAZ9JREFU\n",
       "OMullDFLw0AUx/9tU9M2sXRzEz+CmyiC3XSyHfwAfgCRbKFQsJODg1THLMbRDqKzKBERhC4ddVC6\n",
       "KC5CELGr73JJbF6apOKbkv/73f/u3t09oDpAYuxO0D4y8H5yHrlhTNIvMvDzFD/djkmVYTo+203x\n",
       "w1JMecrAS8M04D6mHGbg72l5VOpMqHYy8BZtu2Xg1WGlMOfXafUFXg21G+YiuLQg/JoGKU3sCXWl\n",
       "J+JMfN7h0Tig6tpM1wZhDgVP7okpfQvC94G3so0rto5VrDmbwAzfXmk7zI2Hb0H4FuAUDYzYOEfO\n",
       "kHeZXqyHuQguLQgnPzSc/GestqNEP8RmDywIp/3Cgtr8rdOpB8gZlA7TxX79XFC/GkILwuk8cAmt\n",
       "xubbUV20g/MYC3Eefi4S0oLwZfo5QoM1BeVbc0WjKC+ycXQjglwkpAXhG/Rza56wV6LPtVvP4oIu\n",
       "sHG0oyAXCWlBuHxvVsKFf5j+vVkSp36Qs/Wvf/YD30LgNygNNGPqfqVN7B/SwsP7UMzjhOVp0/ZT\n",
       "aeHhaf3+5W/9nvAf5k+TRnHIIZkAAAAASUVORK5CYII=\n",
       "\" style=\"display:inline;vertical-align:middle;\" /></a></span></td></tr>\n",
       "<tr><td>&nbsp;</td><td colspan=4 style=\"text-align:left\"><span style=\"font-size:20px;\"><a class=\"ProveItLink\" href=\"../../../../../__pv_it/common/a0d9d672aa5e272d907247690c152cc2c6daafb70/expr.ipynb\"><img src=\"data:image/png;base64,iVBORw0KGgoAAAANSUhEUgAAAAsAAAAJBAMAAAAWSsseAAAALVBMVEX///9mZmaqqqrMzMxEREQy\n",
       "MjIiIiKYmJh2dna6urrc3NxUVFSIiIju7u4AAACJHQtQAAAAAXRSTlMAQObYZgAAAEJJREFUCNdj\n",
       "YLhzeuWJAwy8Dew5bAEMHBc43nIuYOBlYHFgAAG+A2DKzgBIMF04x8BzgWGegh/DcgaG22fuiBcw\n",
       "AAATyhBrnyPYZQAAAABJRU5ErkJggg==\n",
       "\" style=\"display:inline;vertical-align:middle;\" /></a> : <a class=\"ProveItLink\" href=\"../../../../../__pv_it/common/a0d9d672aa5e272d907247690c152cc2c6daafb70/expr.ipynb\"><img src=\"data:image/png;base64,iVBORw0KGgoAAAANSUhEUgAAAAsAAAAJBAMAAAAWSsseAAAALVBMVEX///9mZmaqqqrMzMxEREQy\n",
       "MjIiIiKYmJh2dna6urrc3NxUVFSIiIju7u4AAACJHQtQAAAAAXRSTlMAQObYZgAAAEJJREFUCNdj\n",
       "YLhzeuWJAwy8Dew5bAEMHBc43nIuYOBlYHFgAAG+A2DKzgBIMF04x8BzgWGegh/DcgaG22fuiBcw\n",
       "AAATyhBrnyPYZQAAAABJRU5ErkJggg==\n",
       "\" style=\"display:inline;vertical-align:middle;\" /></a>, <a class=\"ProveItLink\" href=\"../../../../../__pv_it/common/ff7dba4ef0bbe791ab573bf2d9c220a304399ac80/expr.ipynb\"><img src=\"data:image/png;base64,iVBORw0KGgoAAAANSUhEUgAAAAsAAAANBAMAAACN24kIAAAAMFBMVEX///8iIiKYmJhUVFTMzMxE\n",
       "REQyMjKqqqq6urp2dnYQEBDc3NxmZmaIiIju7u4AAACH5sGpAAAAAXRSTlMAQObYZgAAAFlJREFU\n",
       "CNdj4LtzgWHXAwZOjgUM9xkYtvMkMIQyMDzgusDwl4GBof8ByxcgdYyBdwGQCmZgNQBShxn6FYDU\n",
       "47vnNzAwgGUZGJgT+H4AKUYF1gtAiuPuESAJAJGkFvXVdzA+AAAAAElFTkSuQmCC\n",
       "\" style=\"display:inline;vertical-align:middle;\" /></a> : <a class=\"ProveItLink\" href=\"../../../../../__pv_it/common/ff7dba4ef0bbe791ab573bf2d9c220a304399ac80/expr.ipynb\"><img src=\"data:image/png;base64,iVBORw0KGgoAAAANSUhEUgAAAAsAAAANBAMAAACN24kIAAAAMFBMVEX///8iIiKYmJhUVFTMzMxE\n",
       "REQyMjKqqqq6urp2dnYQEBDc3NxmZmaIiIju7u4AAACH5sGpAAAAAXRSTlMAQObYZgAAAFlJREFU\n",
       "CNdj4LtzgWHXAwZOjgUM9xkYtvMkMIQyMDzgusDwl4GBof8ByxcgdYyBdwGQCmZgNQBShxn6FYDU\n",
       "47vnNzAwgGUZGJgT+H4AKUYF1gtAiuPuESAJAJGkFvXVdzA+AAAAAElFTkSuQmCC\n",
       "\" style=\"display:inline;vertical-align:middle;\" /></a></span></td></tr><tr><td><a name=\"-0x8f05a3a2bffacfd_step11\">11</a></td><td>theorem</td><td></td><td><span style=\"font-size:20px;\"> <a class=\"ProveItLink\" href=\"../../../../../logic/equality/_theory_nbs_/proofs/sub_right_side_into/thm_proof.ipynb\" style=\"text-decoration: none\">&nbsp;&#x22A2;&nbsp;&nbsp;</a><a class=\"ProveItLink\" href=\"../../../../../logic/equality/__pv_it/theorems/7a9b2c4886327c7a880f6690c6b8bb5488c2412c0/expr.ipynb\"><img src=\"data:image/png;base64,iVBORw0KGgoAAAANSUhEUgAAAL4AAAAWBAMAAACMFTstAAAAMFBMVEX///8QEBCIiIhmZma6urrM\n",
       "zMxUVFQiIiJERETc3Nzu7u6qqqp2dnaYmJgyMjIAAAAcRTyBAAAAAXRSTlMAQObYZgAAAu1JREFU\n",
       "SMe1VU1oE1EQ/rrZ3WQ3aVo82kukoFCrlqKgIBIrqAel0YMnMaHYglJLD14sCkGhpIXa3OxFGlQE\n",
       "e7ABRfEW2oNQS4konlQW1INCbbCl2lp/Zt57m2yNCypxYDPzJvO+nTfzvVngf8h1qcJZwGHjVW1g\n",
       "X/wY7HmTA+y0cpwBnrD+UKO8vwOhjUA0q9Z3gTFSVro28MYa1eQT8Mx1RGKI0nki+drga0v00Dsu\n",
       "uA67EfUzExPXalSeUAkwl2D1lz1vgS+ZzMU/226J34R/QAORZbwNWhtwox0WdWIa6AaGAH20d/fZ\n",
       "qg26VIeXpwepjAWxuO+PnywgTLmGihS7Hxqd5jVwADZz9CnwuPrAUtU3ItIPU7IikPXF39E72055\n",
       "BPOw8vsQItY8pBU0eh966G8/fDPFyZxUPUv54o/mhKqLw8YGNMToRESeYpCdl4CMH36wyMl0K+d7\n",
       "X/zPcPGhryKZEPiWc4KzWoE2QC9rPs4wHSkMePAns9iSA7FiatfmBLaxS1hS3GAYiyodonvAwSYy\n",
       "D9EzdJo7udbKN7nFdM6TKqwajR78zqnZPLNOy/UF43jATGfLzJCMlIMF/cUuqncohUGI/uIe0zXi\n",
       "SPJFuRfWrX4t7cGfE1xKw8A8s4lTFZZkrRuM6Kq6tcTPQEr/RuZeZm2MkdoUhQU7AgUz5sG/IvC5\n",
       "ryv0nBK+lXLV3eDAwnJMspoStruaOeIds4+73qBGRFLcn2C8LuHB/yqqS0kaJQM4KFZkmR9J5svB\n",
       "FRHzgToAu3yTk5S3NWyV5lCwhhFMdHr4Y4hcKXY84kSAlxjLSUu1UwVXhOZbHybjYr6pybSwh3Ca\n",
       "7HNHWnNGE/Suqx787YuiaAO4/XxqBtiJY3lpqUuugj20zhLdL8v57JWwq+5gxMt/KVuVpnOvm7du\n",
       "cEXo+9LRzDUbWu9/5Kpe3anGV4twUXz3KuIGV38f638ZJUVXHZ1FNb4u/75J+9btcoP/QQK/OV7L\n",
       "XyH8BE6swAxF4PihAAAAAElFTkSuQmCC\n",
       "\" style=\"display:inline;vertical-align:middle;\" /></a></span></td></tr>\n",
       "<tr><td>&nbsp;</td><td colspan=4 style-\"text-align:left\"><a class=\"ProveItLink\" href=\"../../../../../logic/equality/_theory_nbs_/proofs/sub_right_side_into/thm_proof.ipynb\">proveit.logic.equality.sub_right_side_into</a></td></tr><tr><td><a name=\"-0x8f05a3a2bffacfd_step12\">12</a></td><td>instantiation</td><td><a href=\"#-0x8f05a3a2bffacfd_step15\">15</a></td><td><span style=\"font-size:20px;\"> <a class=\"ProveItLink\" href=\"../../../__pv_it/_proof_reverse_greater_eq/fa958e44e5f6d3d589dd22911435651a3d6626df0/proof.ipynb\" style=\"text-decoration: none\">&nbsp;&#x22A2;&nbsp;&nbsp;</a><a class=\"ProveItLink\" href=\"../../../__pv_it/axioms/9e023258a5e87c6a1267e8dfd3031381b1966fed0/expr.ipynb\"><img src=\"data:image/png;base64,iVBORw0KGgoAAAANSUhEUgAAAQcAAAAUBAMAAABysOUVAAAAMFBMVEX////MzMxUVFR2dna6uroQ\n",
       "EBCqqqqIiIgiIiJmZmYyMjJERETu7u6YmJjc3NwAAACgK8IjAAAAAXRSTlMAQObYZgAAAqxJREFU\n",
       "SMeVVktrE1EUPpNMO1NnpuYPiNkpLqQriyKYnbqxXfQHZCuIDLoIgUIDQmsFJbqQUhBDFmIrShF3\n",
       "xXppKS26yVIXhiAqVRQiiG5ceO5r5t47r/TAlxlOzvedO+ee+wCY7EGmXU/x/RQYlVKkzwjvsmOg\n",
       "NEi4/A2OkSlF+ozwQkmwTIyMnQTvyIAjyzjFYu8V0PVTgymCtuIc7xry0wneBwEp89wMYJQSzR+E\n",
       "YOhDWjDC1dLa3YoWtJug3ROQtrNkBDCKVcUfl9bVHeQNYpfjQPdamzWt+DWzzVocsTm39DnkFDoJ\n",
       "l+nLQd4YWDCiia97Nz7fDGWWU3VW5mYIXwiUzWI6bQ6/cfqimKtAdJJGuYrYoi+mvpzGOBjxGh1T\n",
       "wZIbteDkCi1g2Z6FBUzA3OfWqa3RV6/HsQPvwzt6J2kUF4vK1pCqX2Y66209GLGIDlL+Z0dTFyzT\n",
       "368THdhE/ZZRCbfOcR4ukCtxJxGT4oRQYvOS0OemBCPmcKTgbZhTTMZC+ItfMzQGMVbjIFQiGsQz\n",
       "YlL8Frxl/5n6wpRgxBx1HQ0TzT5DrF85gwAqYSxsjfIQzshBqPqRxcGIReo5Lhfmt7syaBWcWfzG\n",
       "VtwTXXU6gErojalR4Dvwp6oveqKqByOwccbJAjhM6NOTaKQvwavKLlNMNuY1ZwjzxhLVKN4x/vWa\n",
       "vmJxMOIsVqb+hh9J/qs46AHMYK6JKYMr1pT9xxvyk0nZrDSKdZKnVfVVi4MRlwC2G3uPEkfdduMx\n",
       "PSUqhlvUzz8x3/xobts6ZY0/ivUR2dvqKmK/cNvOpPwQa7pQfz/zgCl1/N+jHGCFlGL9abm5ir30\n",
       "6W1qtJ5uzwtTj3JvwJG0DMoW5AczQvqlw27ch9Rs2ZeaDEqRPiPkXb/6h7/e9Q9zvetz/Aee6g8j\n",
       "gcEDuAAAAABJRU5ErkJggg==\n",
       "\" style=\"display:inline;vertical-align:middle;\" /></a></span></td></tr>\n",
       "<tr><td>&nbsp;</td><td colspan=4 style=\"text-align:left\"><span style=\"font-size:20px;\"><a class=\"ProveItLink\" href=\"../../../../../__pv_it/common/a0d9d672aa5e272d907247690c152cc2c6daafb70/expr.ipynb\"><img src=\"data:image/png;base64,iVBORw0KGgoAAAANSUhEUgAAAAsAAAAJBAMAAAAWSsseAAAALVBMVEX///9mZmaqqqrMzMxEREQy\n",
       "MjIiIiKYmJh2dna6urrc3NxUVFSIiIju7u4AAACJHQtQAAAAAXRSTlMAQObYZgAAAEJJREFUCNdj\n",
       "YLhzeuWJAwy8Dew5bAEMHBc43nIuYOBlYHFgAAG+A2DKzgBIMF04x8BzgWGegh/DcgaG22fuiBcw\n",
       "AAATyhBrnyPYZQAAAABJRU5ErkJggg==\n",
       "\" style=\"display:inline;vertical-align:middle;\" /></a> : <a class=\"ProveItLink\" href=\"../../../../../__pv_it/common/a0d9d672aa5e272d907247690c152cc2c6daafb70/expr.ipynb\"><img src=\"data:image/png;base64,iVBORw0KGgoAAAANSUhEUgAAAAsAAAAJBAMAAAAWSsseAAAALVBMVEX///9mZmaqqqrMzMxEREQy\n",
       "MjIiIiKYmJh2dna6urrc3NxUVFSIiIju7u4AAACJHQtQAAAAAXRSTlMAQObYZgAAAEJJREFUCNdj\n",
       "YLhzeuWJAwy8Dew5bAEMHBc43nIuYOBlYHFgAAG+A2DKzgBIMF04x8BzgWGegh/DcgaG22fuiBcw\n",
       "AAATyhBrnyPYZQAAAABJRU5ErkJggg==\n",
       "\" style=\"display:inline;vertical-align:middle;\" /></a>, <a class=\"ProveItLink\" href=\"../../../../../__pv_it/common/ff7dba4ef0bbe791ab573bf2d9c220a304399ac80/expr.ipynb\"><img src=\"data:image/png;base64,iVBORw0KGgoAAAANSUhEUgAAAAsAAAANBAMAAACN24kIAAAAMFBMVEX///8iIiKYmJhUVFTMzMxE\n",
       "REQyMjKqqqq6urp2dnYQEBDc3NxmZmaIiIju7u4AAACH5sGpAAAAAXRSTlMAQObYZgAAAFlJREFU\n",
       "CNdj4LtzgWHXAwZOjgUM9xkYtvMkMIQyMDzgusDwl4GBof8ByxcgdYyBdwGQCmZgNQBShxn6FYDU\n",
       "47vnNzAwgGUZGJgT+H4AKUYF1gtAiuPuESAJAJGkFvXVdzA+AAAAAElFTkSuQmCC\n",
       "\" style=\"display:inline;vertical-align:middle;\" /></a> : <a class=\"ProveItLink\" href=\"../../../../../__pv_it/common/ff7dba4ef0bbe791ab573bf2d9c220a304399ac80/expr.ipynb\"><img src=\"data:image/png;base64,iVBORw0KGgoAAAANSUhEUgAAAAsAAAANBAMAAACN24kIAAAAMFBMVEX///8iIiKYmJhUVFTMzMxE\n",
       "REQyMjKqqqq6urp2dnYQEBDc3NxmZmaIiIju7u4AAACH5sGpAAAAAXRSTlMAQObYZgAAAFlJREFU\n",
       "CNdj4LtzgWHXAwZOjgUM9xkYtvMkMIQyMDzgusDwl4GBof8ByxcgdYyBdwGQCmZgNQBShxn6FYDU\n",
       "47vnNzAwgGUZGJgT+H4AKUYF1gtAiuPuESAJAJGkFvXVdzA+AAAAAElFTkSuQmCC\n",
       "\" style=\"display:inline;vertical-align:middle;\" /></a></span></td></tr><tr><td><a name=\"-0x8f05a3a2bffacfd_step13\">13</a></td><td>instantiation</td><td><a href=\"#-0x8f05a3a2bffacfd_step16\">16</a></td><td><span style=\"font-size:20px;\"> <a class=\"ProveItLink\" href=\"../../../__pv_it/_proof_reverse_greater_eq/b9792523f12cee3220bef3fb32809c299c32b4250/proof.ipynb\" style=\"text-decoration: none\">&nbsp;&#x22A2;&nbsp;&nbsp;</a><a class=\"ProveItLink\" href=\"../../../__pv_it/_proof_reverse_greater_eq/20650508b9c4aaf9aaf4e527fa5e93d05d2fb1960/expr.ipynb\"><img src=\"data:image/png;base64,iVBORw0KGgoAAAANSUhEUgAAAJ0AAAAUBAMAAABltyL1AAAAMFBMVEX////MzMxUVFR2dna6uroQ\n",
       "EBCqqqqIiIgiIiJmZmYyMjJERETu7u6YmJjc3NwAAACgK8IjAAAAAXRSTlMAQObYZgAAAhBJREFU\n",
       "OMuVVM0rRFEUP8wz74335pn/gJ2y0OxEymzECgtlYzF/gPQiTa+UKUXUCBs1JWMWCpFsLIQbacjC\n",
       "LFnQLBALNUpskHPvm49379x5cut13znnd373no97AMwsVF2jEt3rH/Cr6naozVWojL0/4LsefEaq\n",
       "QlWf84YHF13yjohoq/C5FWT/Og/X3OedzQro8wq+BV4MzuV4+DNnVqcJH11EoDPjXniE27hlxh7G\n",
       "reJ5DsCwLXgk4FsU+FRUZFbAHObjMWKtPRgswo9QCAdntWLm/WkWgE8ZgCmkZ+qOLbo26a+O3RXu\n",
       "BjVPhctEKVFwY80z+Az6Et+XUkqDkqY3fAqk4BDZ48L9tCiY0STotGtqN0rqTugifQw+iPdzzEW+\n",
       "bcpH6iz4BKjJC3x1EYQPQQNNz2mZj9DDGXyQ7g1Wuf5OvNBPat7kfKB8QWOICi+JsuGzwDdDd8fs\n",
       "rgckQR1A13g5f+lCvICpmBD7ix7O4FgPP5kClQj13we9qVgP16L1QMO+0C8jWKBJBm/H0KInhVfu\n",
       "6udl6EfXQFjgow0UaFK++X5WPvS86cB7Ma+xzGpWfG+nsTVE1ocEPpoAo9n+4d+b0Txp3wGDa1Xf\n",
       "dxK/C/l7C6TkLhf8PHCPnpTxXm0etMB1RM5H4cdSi5bVLem80nOQgAOP8Safp0psyXGWzNMeOyTn\n",
       "Y3CveX//v3mP8F/Dnpv/5ixmsQAAAABJRU5ErkJggg==\n",
       "\" style=\"display:inline;vertical-align:middle;\" /></a></span></td></tr>\n",
       "<tr><td>&nbsp;</td><td colspan=4 style=\"text-align:left\"><span style=\"font-size:20px;\"><a class=\"ProveItLink\" href=\"../../../../../__pv_it/common/a0d9d672aa5e272d907247690c152cc2c6daafb70/expr.ipynb\"><img src=\"data:image/png;base64,iVBORw0KGgoAAAANSUhEUgAAAAsAAAAJBAMAAAAWSsseAAAALVBMVEX///9mZmaqqqrMzMxEREQy\n",
       "MjIiIiKYmJh2dna6urrc3NxUVFSIiIju7u4AAACJHQtQAAAAAXRSTlMAQObYZgAAAEJJREFUCNdj\n",
       "YLhzeuWJAwy8Dew5bAEMHBc43nIuYOBlYHFgAAG+A2DKzgBIMF04x8BzgWGegh/DcgaG22fuiBcw\n",
       "AAATyhBrnyPYZQAAAABJRU5ErkJggg==\n",
       "\" style=\"display:inline;vertical-align:middle;\" /></a> : <a class=\"ProveItLink\" href=\"../../../../../__pv_it/common/ff7dba4ef0bbe791ab573bf2d9c220a304399ac80/expr.ipynb\"><img src=\"data:image/png;base64,iVBORw0KGgoAAAANSUhEUgAAAAsAAAANBAMAAACN24kIAAAAMFBMVEX///8iIiKYmJhUVFTMzMxE\n",
       "REQyMjKqqqq6urp2dnYQEBDc3NxmZmaIiIju7u4AAACH5sGpAAAAAXRSTlMAQObYZgAAAFlJREFU\n",
       "CNdj4LtzgWHXAwZOjgUM9xkYtvMkMIQyMDzgusDwl4GBof8ByxcgdYyBdwGQCmZgNQBShxn6FYDU\n",
       "47vnNzAwgGUZGJgT+H4AKUYF1gtAiuPuESAJAJGkFvXVdzA+AAAAAElFTkSuQmCC\n",
       "\" style=\"display:inline;vertical-align:middle;\" /></a>, <a class=\"ProveItLink\" href=\"../../../../../__pv_it/common/ff7dba4ef0bbe791ab573bf2d9c220a304399ac80/expr.ipynb\"><img src=\"data:image/png;base64,iVBORw0KGgoAAAANSUhEUgAAAAsAAAANBAMAAACN24kIAAAAMFBMVEX///8iIiKYmJhUVFTMzMxE\n",
       "REQyMjKqqqq6urp2dnYQEBDc3NxmZmaIiIju7u4AAACH5sGpAAAAAXRSTlMAQObYZgAAAFlJREFU\n",
       "CNdj4LtzgWHXAwZOjgUM9xkYtvMkMIQyMDzgusDwl4GBof8ByxcgdYyBdwGQCmZgNQBShxn6FYDU\n",
       "47vnNzAwgGUZGJgT+H4AKUYF1gtAiuPuESAJAJGkFvXVdzA+AAAAAElFTkSuQmCC\n",
       "\" style=\"display:inline;vertical-align:middle;\" /></a> : <a class=\"ProveItLink\" href=\"../../../../../__pv_it/common/a0d9d672aa5e272d907247690c152cc2c6daafb70/expr.ipynb\"><img src=\"data:image/png;base64,iVBORw0KGgoAAAANSUhEUgAAAAsAAAAJBAMAAAAWSsseAAAALVBMVEX///9mZmaqqqrMzMxEREQy\n",
       "MjIiIiKYmJh2dna6urrc3NxUVFSIiIju7u4AAACJHQtQAAAAAXRSTlMAQObYZgAAAEJJREFUCNdj\n",
       "YLhzeuWJAwy8Dew5bAEMHBc43nIuYOBlYHFgAAG+A2DKzgBIMF04x8BzgWGegh/DcgaG22fuiBcw\n",
       "AAATyhBrnyPYZQAAAABJRU5ErkJggg==\n",
       "\" style=\"display:inline;vertical-align:middle;\" /></a></span></td></tr><tr><td><a name=\"-0x8f05a3a2bffacfd_step14\">14</a></td><td>axiom</td><td></td><td><span style=\"font-size:20px;\"> <a class=\"ProveItLink\" href=\"../../../../../logic/equality/_theory_nbs_/axioms.ipynb#equals_symmetry\" style=\"text-decoration: none\">&nbsp;&#x22A2;&nbsp;&nbsp;</a><a class=\"ProveItLink\" href=\"../../../../../logic/equality/__pv_it/axioms/e6f7b31ca70e222042a7b5b219b78712171810de0/expr.ipynb\"><img src=\"data:image/png;base64,iVBORw0KGgoAAAANSUhEUgAAAN0AAAAVBAMAAAAwUfbwAAAAMFBMVEX///8QEBCIiIhmZma6urrM\n",
       "zMxUVFQiIiJERETc3Nzu7u6qqqp2dnaYmJgyMjIAAAAcRTyBAAAAAXRSTlMAQObYZgAAAmVJREFU\n",
       "SMe1VjFoFEEUfbns3W42e5cU2i93EEIa08RKzhDBYGOSxjoELWwkhRaiiJXcFcJaJSiSsYkSLA6s\n",
       "tDrO7gRdUJCAwoIgKBiOoKDYuH9ndr2Znbk7kXx4cPvf+3/m/vz9s4DJJkIOkz3X+B4OlhMievio\n",
       "ETwRMFkpyLnc24PlhFf08FUj+CJgMjfKuSrBYDlhm0qn2Vd5nsNsnZzn7TB5jAoDvFaetgMOsz3K\n",
       "ea4Pk8cod/f2tjT0loDZKotqh20OkxN+Nho3NXSNw635uMeUo6heXoor46nVLsxnnCTnKUhOuAQ0\n",
       "Nevd5fCsaZyg59cHZJ/o51O892/FlYkUvxNmHLzEfUBbEilITjij6zTgBseD8QgNheriDTsHTKrl\n",
       "s1sZ128iBckJNgq6t/oYBxvzcahQjO+g2FP8Y4sZJ8l5CpITvNCGeT2ssOKPHHloXA+53aUp0vUm\n",
       "ogv0ZizMrALWDGwm1RN1FKb/ntPnhOM7sDYVP9VTcOn5rSNLQfIkpHkxbi12xY53502xNblfcAfO\n",
       "urLfF4Ue5tJ+6TPqF8FJxlOk/YJn8aJFfCPm/jJmheilwEmsKMdr/XZ6NMjH20reuNtTTjKeguRJ\n",
       "yJRPzl8JdQobQrQssFs9rUwZd2OuRgO+sqrkjauVcpLxFCRPQsosOfwiUVdxPDfP6oaB8Xj0eVYX\n",
       "8ixkx4s8bDNcs3ryvC5F7vf/nNciRac/ZPddp4u1Fs7OZk3QTGCHjj/yfeRo5ztPkd5H/dZyAyeU\n",
       "71urumD4e86o9y1PQXIlZDIotc+P/D2x/2/fE/v5kDKsD20crf0BIWnW/FCMiDQAAAAASUVORK5C\n",
       "YII=\n",
       "\" style=\"display:inline;vertical-align:middle;\" /></a></span></td></tr>\n",
       "<tr><td>&nbsp;</td><td colspan=4 style-\"text-align:left\"><a class=\"ProveItLink\" href=\"../../../../../logic/equality/_theory_nbs_/axioms.ipynb#equals_symmetry\">proveit.logic.equality.equals_symmetry</a></td></tr><tr><td><a name=\"-0x8f05a3a2bffacfd_step15\">15</a></td><td>axiom</td><td></td><td><span style=\"font-size:20px;\"> <a class=\"ProveItLink\" href=\"../../axioms.ipynb#greater_eq_def\" style=\"text-decoration: none\">&nbsp;&#x22A2;&nbsp;&nbsp;</a><a class=\"ProveItLink\" href=\"../../../__pv_it/axioms/b1390e7fdb6fcaa315abd6c8059a4617573287bd0/expr.ipynb\"><img src=\"data:image/png;base64,iVBORw0KGgoAAAANSUhEUgAAAUcAAAAVBAMAAAAnVjEQAAAAMFBMVEX///8QEBCIiIhmZma6urrM\n",
       "zMxUVFQiIiJERETc3Nzu7u6qqqp2dnaYmJgyMjIAAAAcRTyBAAAAAXRSTlMAQObYZgAAAz5JREFU\n",
       "SMfNV01oE0EY/Zpuks120/ag96WBWnqxlyqo1GDB4qU/F29CKYrUQwlWEbFKDyKJIEQEWyrq9tJK\n",
       "KSXQkx4kxIMQQQMKpaAQKFRULEEUFC/O7PzszOxsNr354IVl8t6byXw7PwEIQ6pGGIbnmrbHlK1a\n",
       "ovIZ67jhk0b0jDIMiWKgyZonbNkSlc/4Bjd81Yi+ULIBzLrKiOoBS2eRMAzEEveex0HO14oZF/Gs\n",
       "a359eoCQo2NX6b4S8LynZNhQq+lZEnh8aQeU/AAqPjvRBNmloCRZJPRh7I5LiuWA5zoln4zXDgQt\n",
       "8Ukc74Kar2LZZ7q6tragkSxQCojns1Jxs+oyyBEKOFSFoAUXeRiC+erLk/X5O5+f00gylFbP9ClW\n",
       "2NSMN+VWxoH7LthqsWIDhKJl6xgELJuIBdDkswL4YsYL1KHgHuU6bDm3+FwdxQWyjW44jGrgLYO3\n",
       "exg7+NGsEUqWl9OgWpKoKPOg5Ntezt6ALGYc1q1TgBuUVXjnnuGraRZ/PmqvQx6tpJz6GpcIJQuM\n",
       "XlItMQcSWdDlEwhixiTEdFvqAUoX61k957xtyG1z4AeajYZiacsSihY0yLuqxcrBBu9DFoOSz2jX\n",
       "ktBkkID1BOuX6cOYG//VZJCChZVbthwnu7Oaz+GLGVP1s3gzGuxFG4zRS/YGodyA9R4e3GQhQxDr\n",
       "RuKc/07uiuX2LXzhSBZ4AjneBxPTd3JSFjNC4TwqpDuTRHNgd7kTysJ5EWtAP254+I33fAfMSbYK\n",
       "BLCFwy3CFiRZzHMO70MQa/IZYTOHj6rv+NulEeijwleExl+z4V0DrNt+yBEYQ03tZSWb7hfcIm7m\n",
       "kiV+0WV9+GLQ5TNCl5f0x/v6BExR4QihNdWfCVw/VnpO4lN6XGmmtfEtwrEoW3Z4HxH5jJDGPyve\n",
       "8M79K3Aw9FgUMYS4GnkshlqW/D6ai1fFfp7adRsWXbhqNMIuGMIlqm79bOmCEWWJzq+IppUPlSpM\n",
       "lOB0H18NBZCOIuvzNQw89cma6WivamaRUHNd0VsK0FzMKKJkFc1a9KXX6BkE7WjCL70hlqh8za/u\n",
       "KCbKoy3/fdje/9+H7f38fdgWKL4iYHwsw3+If2XIQfuui7VFAAAAAElFTkSuQmCC\n",
       "\" style=\"display:inline;vertical-align:middle;\" /></a></span></td></tr>\n",
       "<tr><td>&nbsp;</td><td colspan=4 style-\"text-align:left\"><a class=\"ProveItLink\" href=\"../../axioms.ipynb#greater_eq_def\">proveit.numbers.ordering.greater_eq_def</a></td></tr><tr><td><a name=\"-0x8f05a3a2bffacfd_step16\">16</a></td><td>axiom</td><td></td><td><span style=\"font-size:20px;\"> <a class=\"ProveItLink\" href=\"../../axioms.ipynb#reverse_relation\" style=\"text-decoration: none\">&nbsp;&#x22A2;&nbsp;&nbsp;</a><a class=\"ProveItLink\" href=\"../../../__pv_it/axioms/b8d02519d626b0b9f16d17b2eb04797463296cdc0/expr.ipynb\"><img src=\"data:image/png;base64,iVBORw0KGgoAAAANSUhEUgAAAN0AAAAVBAMAAAAwUfbwAAAAMFBMVEX///8QEBCIiIhmZma6urrM\n",
       "zMxUVFQiIiJERETc3Nzu7u6qqqp2dnaYmJgyMjIAAAAcRTyBAAAAAXRSTlMAQObYZgAAAp1JREFU\n",
       "SMe1Vk1oE0EU/ppuspvtJu1B7yGBWnoxlyqKxKJg8dKfi2cpeqiHkoMeRBFPkgjCempRxPFSpYgE\n",
       "POlBQjwIEXRBoRQUFgRBQQmioHhx3s7sJDu7G+PBB1+Snfe9n33z5k2ANMl7AmnyJGHtznA6waeH\n",
       "9wmEBxJpknNjS/bV4XTCS3r4nED4JJEmth9bKrrD6YRNKl1CXoWqQCiPYqXtxGze6AvPlqN0jiID\n",
       "nFY8nukKqPxelDTGvZjNRe1555BG5yh0t7c3Et5/Q6Iv+7pa9eb1DqtjiAHRCT8bjcsJ8SoCdqWE\n",
       "m0yme1i+anntGK+MU9VMMlWlGyyIdEF0wlmgmRDvhoBjTGG/2o614OshdkpXeGWChnn1leQD/bQ8\n",
       "peNRDoYbLl0QnXA8qdOASwK3x3001OLiOfrs4jU7CUzU9S1vKR2wrnpCuiA6wUQm6VTvEWBjJXzr\n",
       "x7tOn0xkkO1pJmPzSge7H0+6IDrB8Uykx8MSy/7Q6gmRQWI8hNnlVT2lizBe3j9FJ2Nump8VYxom\n",
       "i9QTNWSmEO0XiAyMen//Pob1hMquf4CEC6IHJs0zvLXYusmzcybZSrRfcA3Waa29n2Z6mA37ZUCo\n",
       "X6QuYiBchP2CxzxoFl9Ic2sBM5L8XOIAlrxousZvq0eDfLytxePdHuoi5124IHpgMhk4+hWojmBV\n",
       "chcktspH3eg8s1dnKzTgi8taPF6tUBeZZ8IF0QOTAgs2P0uq89gbm2e1lAl8/6/zTElN0pXJXcd3\n",
       "sMlwwehF53XOt7+nOBlhXoubSLjoDJpsve10sdLCiRnVBM0ApmeVRr6PrMT7SLgI76NBadmu5UXv\n",
       "W6M8l/J61qj3rXBBdM1kws21F0f+P7H7b/8nduMmBRjv2vi/8gf159eiwzGHgwAAAABJRU5ErkJg\n",
       "gg==\n",
       "\" style=\"display:inline;vertical-align:middle;\" /></a></span></td></tr>\n",
       "<tr><td>&nbsp;</td><td colspan=4 style-\"text-align:left\"><a class=\"ProveItLink\" href=\"../../axioms.ipynb#reverse_relation\">proveit.numbers.ordering.reverse_relation</a></td></tr></table>"
      ],
      "text/plain": [
       "\tstep type\trequirements\tstatement\n",
       "0\tgeneralizaton\t1\t|- forall_{x, y | x >= y} (y <= x)\n",
       "1\tinstantiation\t8, 2, 3\t{x >= y} |- y <= x\n",
       "\tP(_a) : _a, x : y <= x, y : (y < x) or (y = x)\n",
       "2\tinstantiation\t4, 5, 6\t{x >= y} |- (y < x) or (y = x)\n",
       "\tP : x >= y, Q : (y < x) or (y = x)\n",
       "3\tinstantiation\t7\t|- (y <= x) = ((y < x) or (y = x))\n",
       "\tx : y, y : x\n",
       "4\ttheorem\t\t|- forall_{P, Q | P, P = Q} Q\n",
       "\tproveit.logic.equality.rhs_via_equality\n",
       "5\tassumption\t\t{x >= y} |- x >= y\n",
       "6\tinstantiation\t8, 9, 10\t|- (x >= y) = ((y < x) or (y = x))\n",
       "\tP(_a) : (x >= y) = ((y < x) or _a), x : y = x, y : x = y\n",
       "7\taxiom\t\t|- forall_{x, y} ((x <= y) = ((x < y) or (x = y)))\n",
       "\tproveit.numbers.ordering.less_eq_def\n",
       "8\ttheorem\t\t|- forall_{P, x, y | P(y), x = y} P(x)\n",
       "\tproveit.logic.equality.sub_left_side_into\n",
       "9\tinstantiation\t11, 12, 13\t|- (x >= y) = ((y < x) or (x = y))\n",
       "\tP(_a) : (x >= y) = (_a or (x = y)), x : x > y, y : y < x\n",
       "10\tinstantiation\t14\t|- (y = x) = (x = y)\n",
       "\tx : x, y : y\n",
       "11\ttheorem\t\t|- forall_{P, x, y | P(x), x = y} P(y)\n",
       "\tproveit.logic.equality.sub_right_side_into\n",
       "12\tinstantiation\t15\t|- (x >= y) = ((x > y) or (x = y))\n",
       "\tx : x, y : y\n",
       "13\tinstantiation\t16\t|- (x > y) = (y < x)\n",
       "\tx : y, y : x\n",
       "14\taxiom\t\t|- forall_{x, y} ((y = x) = (x = y))\n",
       "\tproveit.logic.equality.equals_symmetry\n",
       "15\taxiom\t\t|- forall_{x, y} ((x >= y) = ((x > y) or (x = y)))\n",
       "\tproveit.numbers.ordering.greater_eq_def\n",
       "16\taxiom\t\t|- forall_{x, y} ((y > x) = (x < y))\n",
       "\tproveit.numbers.ordering.reverse_relation"
      ]
     },
     "execution_count": 16,
     "metadata": {},
     "output_type": "execute_result"
    }
   ],
   "source": [
    "%qed"
   ]
  },
  {
   "cell_type": "code",
   "execution_count": null,
   "metadata": {},
   "outputs": [],
   "source": []
  }
 ],
 "metadata": {
  "kernelspec": {
   "display_name": "Python 3",
   "language": "python",
   "name": "python3"
  }
 },
 "nbformat": 4,
 "nbformat_minor": 0
}