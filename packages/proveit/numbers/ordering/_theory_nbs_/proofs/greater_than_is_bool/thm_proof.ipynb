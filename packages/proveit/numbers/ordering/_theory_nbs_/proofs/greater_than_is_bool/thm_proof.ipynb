{
 "cells": [
  {
   "cell_type": "markdown",
   "metadata": {},
   "source": [
    "Proof of <a class=\"ProveItLink\" href=\"../../../../../_theory_nbs_/theory.ipynb\">proveit</a>.<a class=\"ProveItLink\" href=\"../../../../_theory_nbs_/theory.ipynb\">numbers</a>.<a class=\"ProveItLink\" href=\"../../theory.ipynb\">ordering</a>.<a class=\"ProveItLink\" href=\"../../theorems.ipynb#greater_than_is_bool\">greater_than_is_bool</a> theorem\n",
    "========"
   ]
  },
  {
   "cell_type": "code",
   "execution_count": 1,
   "metadata": {},
   "outputs": [],
   "source": [
    "import proveit\n",
    "theory = proveit.Theory() # the theorem's theory"
   ]
  },
  {
   "cell_type": "code",
   "execution_count": 2,
   "metadata": {},
   "outputs": [
    {
     "data": {
      "text/html": [
       "Under these <a href=\"presumptions.txt\">presumptions</a>, we begin our proof of<br><strong id=\"greater_than_is_bool\">greater_than_is_bool:</strong> <a class=\"ProveItLink\" href=\"../../../__pv_it/theorems/fba0aa917ae7813d71634b911241c87d4669701c0/expr.ipynb\"><img src=\"data:image/png;base64,iVBORw0KGgoAAAANSUhEUgAAALwAAAAVBAMAAAAOdJm+AAAAMFBMVEX///8QEBCIiIhmZma6urrM\n",
       "zMxUVFQiIiJERETc3Nzu7u6qqqp2dnaYmJgyMjIAAAAcRTyBAAAAAXRSTlMAQObYZgAAArFJREFU\n",
       "OMutVUtoE1EUPSSTzmQy0xZREBdSDcYsBEuLLqQtrYIBwdq60E2hoWpRF6VIqwt/oQtNKtIgQosg\n",
       "DimUkoUGXBRRZGgFJX7IoqBIlVF0oaDEnRYE32cmzTwzQxAv3Lx5Jzcnd8697z6gDguXuHtYJOuN\n",
       "W/ThnT/9vO1edkrYb9849eFsN8Of0/1Xf/ovtnvZXRGwDquTnQyfoS+f8mXXW7lX2ESdtBYBSB3E\n",
       "NoXhjQZZCr70cpa7Y+pTgU5ttvO4eu6SQ/9QYbhezOen/bWZtr1K3KI74hP7DE0Ya9k/mef4z3T6\n",
       "gj991PZc7OYOO+/Xe/iaa0N4E7DERTPWxJHGT4DhZMn401/nrpr6Gdmysce8W8weBMrAe6GBUj2X\n",
       "f5DOofg+qNbflAvxYx+d5/PcNUNblSol6D1Ne6LQBYX0xQInrS7tyxUwXEZA6AT1UXspoKHoFHA9\n",
       "d5UxVegnaSTWoYmEDTLpN38n5tArUonhWkkWMn/zIA9C/7bkpgdjcosjrWKwz6YPu7JXkGR42DpC\n",
       "gMVdMRImxSAbEm1xSm+6xQFjcpc2aGELWRJs01xN30DnAcUzxwmbMSKTWmhNRj8awenbW92ljRg7\n",
       "SZy7MZUkrsApbZsre93k+P1Rohu+UfhWAnHMMvrg8JgTvMT9UGEKt4VjFUxKv8nSwY9f5XRaA3ix\n",
       "28a5or8Y3oEhHE2n0y0B7cayE5zgPrc111kShoI6FKU//Mw3Jw+4RxrDdfrCoXKIfjGGDUQ1Jk5k\n",
       "wPAYCi4j6kMd5c/SM3soOH9u47ijWRpmDIxLZWh9XPui6THSqmwE97prjDRx1M0tLxbRX8D+OEnm\n",
       "Gj0Qr8zZLicsA6+TfRETtQZy7UFdULMK0TVAtK/zOtkb7YP3UMkIl1eD2fsPl6GerQvXIa2Y+K/2\n",
       "B9NovrijxWdWAAAAAElFTkSuQmCC\n",
       "\" style=\"display:inline;vertical-align:middle;\" /></a><br>(see <a class=\"ProveItLink\" href=\"../../../__pv_it/theorems/3255087fc1b90566f021e06545e9f74a7cc696440/dependencies.ipynb\">dependencies</a>)<br>"
      ],
      "text/plain": [
       "greater_than_is_bool: forall_{x, y in Real} ((x > y) in BOOLEAN)"
      ]
     },
     "execution_count": 2,
     "metadata": {},
     "output_type": "execute_result"
    }
   ],
   "source": [
    "%proving greater_than_is_bool"
   ]
  },
  {
   "cell_type": "code",
   "execution_count": null,
   "metadata": {},
   "outputs": [],
   "source": []
  }
 ],
 "metadata": {
  "kernelspec": {
   "display_name": "Python 3",
   "language": "python",
   "name": "python3"
  }
 },
 "nbformat": 4,
 "nbformat_minor": 0
}