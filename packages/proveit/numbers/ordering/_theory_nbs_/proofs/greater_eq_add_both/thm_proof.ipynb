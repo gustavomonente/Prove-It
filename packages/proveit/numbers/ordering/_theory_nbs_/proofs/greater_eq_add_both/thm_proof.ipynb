{
 "cells": [
  {
   "cell_type": "markdown",
   "metadata": {},
   "source": [
    "Proof of <a class=\"ProveItLink\" href=\"../../../../../_theory_nbs_/theory.ipynb\">proveit</a>.<a class=\"ProveItLink\" href=\"../../../../_theory_nbs_/theory.ipynb\">numbers</a>.<a class=\"ProveItLink\" href=\"../../theory.ipynb\">ordering</a>.<a class=\"ProveItLink\" href=\"../../theorems.ipynb#greater_eq_add_both\">greater_eq_add_both</a> theorem\n",
    "========"
   ]
  },
  {
   "cell_type": "code",
   "execution_count": 1,
   "metadata": {},
   "outputs": [],
   "source": [
    "import proveit\n",
    "theory = proveit.Theory() # the theorem's theory"
   ]
  },
  {
   "cell_type": "code",
   "execution_count": 2,
   "metadata": {},
   "outputs": [
    {
     "data": {
      "text/html": [
       "Under these <a href=\"presumptions.txt\">presumptions</a>, we begin our proof of<br><strong id=\"greater_eq_add_both\">greater_eq_add_both:</strong> <a class=\"ProveItLink\" href=\"../../../__pv_it/theorems/3fac9f6156d3dda4003819e3d417a67bd2f86e470/expr.ipynb\"><img src=\"data:image/png;base64,iVBORw0KGgoAAAANSUhEUgAAAVIAAAAWBAMAAABgRQkSAAAAMFBMVEX///8QEBCIiIhmZma6urrM\n",
       "zMxUVFQiIiJERETc3Nzu7u6qqqp2dnaYmJgyMjIAAAAcRTyBAAAAAXRSTlMAQObYZgAABDZJREFU\n",
       "SMfNV11oE1kUPk0ybTKZpAUFLYJkU6iyuhJa0CJaA8L6tJK+qAsrKXUVXFypoojiQ/AHUkUMBrQv\n",
       "wkjAShA76IMUxC31Qakigwr+gBLUdaGF2SItqFXw3L+ZuZPJ+kMWvfDdO+fce+Z+99xz7twB+L/K\n",
       "WQ7fMlLDwK9ECwwVIjytP1E1x+BfGgt+BhfmVY/cNAe2Y4O4TcSJ+jONFxhqrIM6CIZWygYvfIbO\n",
       "wiWsEYPYRHL1Z3qfwymX3cIYa65vlwxmxYYnbHXoHWgoIeI6Nkb9me7nqMH0HG/Xb3UZIKsqplo/\n",
       "qC1AEBsvl8/Un2ikn6EW03haxOERx0Drr2YaTwG8BIo3+fzB+jMNpBigeOMH3cN0LJkBLSWk05O2\n",
       "QbyvzZCZFseyqLkBFOj+ATsoLGm6NRl5+pCXz/qKVxOcYW3YZAi1wr8en54xwhWIOZbF/cJgeEJ9\n",
       "KzFF65O4zmdAsVYkIjDmrjLMmquLtzxn0zucWSbYngmJzFCnWNtkMJwzocvD9CA0GhB1IuNhShj8\n",
       "pcNriSladxMCDE0QMG2rSYnpdZz5WqcZ0GA8ITOFIs2EuCHLOAdfdUOaYY0Ou4l817J2WdYr4nWa\n",
       "NsqUsFw0bht0g/oel29Z/yy0rF6g1iQyswya2eQQeCsxRQ8/GikDMn1iephC8ShWzQVZdrwsmM4H\n",
       "dUb2aUPOzVS9mXAMXkBoVvIpWk87TCOVDfhQav+b2L9uJ+GvJcnIUnISQmRiwnTUYap27CTxexGT\n",
       "Npv8g6UIl9WOZYa0++ij6JTMdJi+KsR2P7JC7Ccx+MAdLpgK63UcA7+jbq9CxgQO0Hzdo7RwVRwY\n",
       "086Uw3Qok6XZfHECFultZJJ0D5dFl51R6iw0VkYkps3YY/CMiuy0w4cYTJPAdDPl1jyj4AouL5hS\n",
       "yCLDCfKGYA4yVNUCJco0uG2PK6M6YSNtl5lwiL6gCxQud0KPOLBTDIfgYe+oxDTYC6UMBKnyQto5\n",
       "4XHwn3BYPk+59SpgaEZ1gxHopcGC70GBBg5Rbczn84mAduqBi+kCaCfrXYyj5sJyqhAy6xK7S3A+\n",
       "+WtfWs79O09xwrjnAKSDS0tNmSm3JoFJEMMNGy6En2DTrBOWLE+oqpHtfvQ33WaKR96JMqi3yPzv\n",
       "KEuShlRmXZ/1NR3y/fxC9TeKvLufgWVeIfsLDOpN+iOs8UuXGtRRtRm0DIvTcVdGtSrTptpFHXUg\n",
       "loscww9dkMutyoxZ84ZS9rmheK40Njfd3cNvKNz3fZdXQ4+h7BjFOtJxT+8xqAqOk0P37mip22H6\n",
       "85I2U2Gbt+EOKAug+NOPXCZdIkMKDP9567u0j5S9toF/4bc+dzGqaghgnNr9Yd8r+dfcpMO+N+ka\n",
       "ZQBcH3z7N0Cuve//3B+NT/6dPP6Cv5NYgcGtqqprMo3imZA/Rh9Nj/xdlOC3nPwjWvxLO5FbzbgA\n",
       "AAAASUVORK5CYII=\n",
       "\" style=\"display:inline;vertical-align:middle;\" /></a><br>(see <a class=\"ProveItLink\" href=\"../../../__pv_it/theorems/6eac94f1aa56efb24b80f1b487af636ca0acc1a30/dependencies.ipynb\">dependencies</a>)<br>"
      ],
      "text/plain": [
       "greater_eq_add_both: forall_{a, b, c, d in Real | a >= b, c >= d} ((a + c) >= (b + d))"
      ]
     },
     "execution_count": 2,
     "metadata": {},
     "output_type": "execute_result"
    }
   ],
   "source": [
    "%proving greater_eq_add_both"
   ]
  },
  {
   "cell_type": "code",
   "execution_count": null,
   "metadata": {},
   "outputs": [],
   "source": []
  }
 ],
 "metadata": {
  "kernelspec": {
   "display_name": "Python 3",
   "language": "python",
   "name": "python3"
  }
 },
 "nbformat": 4,
 "nbformat_minor": 0
}