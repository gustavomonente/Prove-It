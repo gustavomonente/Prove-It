{
 "cells": [
  {
   "cell_type": "markdown",
   "metadata": {},
   "source": [
    "Proof of <a class=\"ProveItLink\" href=\"../../../../../_theory_nbs_/theory.ipynb\">proveit</a>.<a class=\"ProveItLink\" href=\"../../../../_theory_nbs_/theory.ipynb\">numbers</a>.<a class=\"ProveItLink\" href=\"../../theory.ipynb\">ordering</a>.<a class=\"ProveItLink\" href=\"../../theorems.ipynb#reverse_greater\">reverse_greater</a> theorem\n",
    "========"
   ]
  },
  {
   "cell_type": "code",
   "execution_count": 1,
   "metadata": {},
   "outputs": [],
   "source": [
    "import proveit\n",
    "from proveit import defaults\n",
    "from proveit import x, y\n",
    "from proveit.numbers.ordering  import reverse_relation\n",
    "theory = proveit.Theory() # the theorem's theory"
   ]
  },
  {
   "cell_type": "code",
   "execution_count": 2,
   "metadata": {},
   "outputs": [
    {
     "data": {
      "text/html": [
       "Under these <a href=\"presumptions.txt\">presumptions</a>, we begin our proof of<br><strong id=\"reverse_greater\">reverse_greater:</strong> <a class=\"ProveItLink\" href=\"../../../__pv_it/theorems/966152db4b0c912d35f49ab07ef73ce6683276f10/expr.ipynb\"><img src=\"data:image/png;base64,iVBORw0KGgoAAAANSUhEUgAAAKEAAAAWBAMAAABasOFIAAAAMFBMVEX///8QEBCIiIhmZma6urrM\n",
       "zMxUVFQiIiJERETc3Nzu7u6qqqp2dnaYmJgyMjIAAAAcRTyBAAAAAXRSTlMAQObYZgAAAjhJREFU\n",
       "OMudVU1o1EAU/txNNj+btiB46WnrQik9FcGLiKwVlF5Keym9WRYVeilS9SB0pViQ7S0g4iKIo4JC\n",
       "KRjw1J6WPa4HVxREUAiCF39gKQhWKfTNTJNJss1KOpBk3vcl35t5780LkH08Tqe26PL55EsWQXs1\n",
       "nSu4wBs++Z5FcdDt440W2KCntZpF8X3CLn6LGC3yyADHy6J4O24O3Iiu+SkB7Y2Nh1kEresxM7fC\n",
       "YiGpAH/q9ZUsirkJ4NkpWMPC2lwOInhycZK27BB7FVjv+aySrmh2gOZ55LrceF4L4E18LN2hLVNq\n",
       "LogEJYZK1YMkZXiwvHMw+SuFHyHcxls2RWmimBjIdfoovkhu4FgFNo5jqMRJpchQ5w+dlu50DPRR\n",
       "RGOxRxHaX1ye4cb9miJ2AkXLn+N1dHqUXtFGYTClKMH5MxFC7Bp5HyOIZwb6b37XeCWsX6EEsiWD\n",
       "fDtDbFat8QDEdEkRMjPmAu4lqmebUjUuM4PXJKvjF4cfXcKYUjwAgXduSMj6yC9oe/EK1/6ZXYt8\n",
       "5ZtkiBhjV9BnUY3GUYLFr4qQ+7Kr5d34KbSr42XebwZ5eAeYiKjO2Zs4EVGUoPaTKSI4hXn/8Gp9\n",
       "GUyeOL6DBsMtrasUBQh9jXsMCNkplvAq5Qy0wqr70Gpj1sPFMV8pCtC6JhpBQPDUuKjhbno3iw7P\n",
       "ds1Ooh7nRd2FhOy4k+WZlCMa751Ft9Cc7qlw2ZsD4j9/hU+JTgftc/NwxZA48pg4+qf7MwmXV1E0\n",
       "SD8AAAAASUVORK5CYII=\n",
       "\" style=\"display:inline;vertical-align:middle;\" /></a><br>(see <a class=\"ProveItLink\" href=\"../../../__pv_it/theorems/4854c51dc45fdc991054a1a1d694385cbcd0bcf50/dependencies.ipynb\">dependencies</a>)<br>"
      ],
      "text/plain": [
       "reverse_greater: forall_{x, y | x > y} (y < x)"
      ]
     },
     "execution_count": 2,
     "metadata": {},
     "output_type": "execute_result"
    }
   ],
   "source": [
    "%proving reverse_greater"
   ]
  },
  {
   "cell_type": "code",
   "execution_count": 3,
   "metadata": {},
   "outputs": [
    {
     "data": {
      "text/html": [
       "<strong id=\"defaults.assumptions\">defaults.assumptions:</strong> <a class=\"ProveItLink\" href=\"../../../__pv_it/_proof_reverse_greater/f97e2163a82a14ece11f7ab37f8bb5fa1f3cf74a0/expr.ipynb\"><img src=\"data:image/png;base64,iVBORw0KGgoAAAANSUhEUgAAAD8AAAAUBAMAAADIGvgZAAAAMFBMVEX////MzMxUVFR2dna6uroQ\n",
       "EBCqqqqIiIgiIiJmZmYyMjJERETu7u6YmJjc3NwAAACgK8IjAAAAAXRSTlMAQObYZgAAASRJREFU\n",
       "KM9jYOC7wIAT5IGI07jlGZgeAIl1eBTwLGBg4J2AxF+LrsKcgYHjARL/cDuagqMMDC9QBNibD6Dw\n",
       "uRwYKoHU8aInxQUQEd5OiAqeygKGpwcYmCcw7AVyDHjbORZA9bAtAtvJzBLAUA9Uv4ChDcg5wPyH\n",
       "Be4UlkUgM55xLmDYDVTewBACNIGBewPCWpbVIAUHWAsYvjMwMH4AKWBg4C+Ay0OtYPA/wPgRrKAN\n",
       "xJMXgMnDHMkwi4E9AGhcA8iRbAfqGdgPoHlzEwO3AtiRlkDTEvYzvEUPqEkM/sBY5DRg8GBgOFR+\n",
       "fO4F9KA+VD4f6BguAdSgRgGzgPgEamQhR/QCni+QyGLYh1UBxwXuAkh040gwLOUTgSQ3yH58Se4e\n",
       "AwMAs6RNBrfI1dUAAAAASUVORK5CYII=\n",
       "\" style=\"display:inline;vertical-align:middle;\" /></a><br>"
      ],
      "text/plain": [
       "defaults.assumptions: (x > y)"
      ]
     },
     "execution_count": 3,
     "metadata": {},
     "output_type": "execute_result"
    }
   ],
   "source": [
    "defaults.assumptions = reverse_greater.all_conditions()"
   ]
  },
  {
   "cell_type": "code",
   "execution_count": 4,
   "metadata": {},
   "outputs": [
    {
     "data": {
      "text/html": [
       "<span style=\"font-size:20px;\"> <a class=\"ProveItLink\" href=\"../../axioms.ipynb#reverse_relation\" style=\"text-decoration: none\">&nbsp;&#x22A2;&nbsp;&nbsp;</a><a class=\"ProveItLink\" href=\"../../../__pv_it/axioms/b8d02519d626b0b9f16d17b2eb04797463296cdc0/expr.ipynb\"><img src=\"data:image/png;base64,iVBORw0KGgoAAAANSUhEUgAAAN0AAAAVBAMAAAAwUfbwAAAAMFBMVEX///8QEBCIiIhmZma6urrM\n",
       "zMxUVFQiIiJERETc3Nzu7u6qqqp2dnaYmJgyMjIAAAAcRTyBAAAAAXRSTlMAQObYZgAAAp1JREFU\n",
       "SMe1Vk1oE0EU/ppuspvtJu1B7yGBWnoxlyqKxKJg8dKfi2cpeqiHkoMeRBFPkgjCempRxPFSpYgE\n",
       "POlBQjwIEXRBoRQUFgRBQQmioHhx3s7sJDu7G+PBB1+Snfe9n33z5k2ANMl7AmnyJGHtznA6waeH\n",
       "9wmEBxJpknNjS/bV4XTCS3r4nED4JJEmth9bKrrD6YRNKl1CXoWqQCiPYqXtxGze6AvPlqN0jiID\n",
       "nFY8nukKqPxelDTGvZjNRe1555BG5yh0t7c3Et5/Q6Iv+7pa9eb1DqtjiAHRCT8bjcsJ8SoCdqWE\n",
       "m0yme1i+anntGK+MU9VMMlWlGyyIdEF0wlmgmRDvhoBjTGG/2o614OshdkpXeGWChnn1leQD/bQ8\n",
       "peNRDoYbLl0QnXA8qdOASwK3x3001OLiOfrs4jU7CUzU9S1vKR2wrnpCuiA6wUQm6VTvEWBjJXzr\n",
       "x7tOn0xkkO1pJmPzSge7H0+6IDrB8Uykx8MSy/7Q6gmRQWI8hNnlVT2lizBe3j9FJ2Nump8VYxom\n",
       "i9QTNWSmEO0XiAyMen//Pob1hMquf4CEC6IHJs0zvLXYusmzcybZSrRfcA3Waa29n2Z6mA37ZUCo\n",
       "X6QuYiBchP2CxzxoFl9Ic2sBM5L8XOIAlrxousZvq0eDfLytxePdHuoi5124IHpgMhk4+hWojmBV\n",
       "chcktspH3eg8s1dnKzTgi8taPF6tUBeZZ8IF0QOTAgs2P0uq89gbm2e1lAl8/6/zTElN0pXJXcd3\n",
       "sMlwwehF53XOt7+nOBlhXoubSLjoDJpsve10sdLCiRnVBM0ApmeVRr6PrMT7SLgI76NBadmu5UXv\n",
       "W6M8l/J61qj3rXBBdM1kws21F0f+P7H7b/8nduMmBRjv2vi/8gf159eiwzGHgwAAAABJRU5ErkJg\n",
       "gg==\n",
       "\" style=\"display:inline;vertical-align:middle;\" /></a></span>"
      ],
      "text/plain": [
       "|- forall_{x, y} ((y > x) = (x < y))"
      ]
     },
     "execution_count": 4,
     "metadata": {},
     "output_type": "execute_result"
    }
   ],
   "source": [
    "reverse_relation"
   ]
  },
  {
   "cell_type": "code",
   "execution_count": 5,
   "metadata": {},
   "outputs": [
    {
     "data": {
      "text/html": [
       "<strong id=\"spec_rev_rel\">spec_rev_rel:</strong> <span style=\"font-size:20px;\"> <a class=\"ProveItLink\" href=\"../../../__pv_it/_proof_reverse_greater/b9792523f12cee3220bef3fb32809c299c32b4250/proof.ipynb\" style=\"text-decoration: none\">&nbsp;&#x22A2;&nbsp;&nbsp;</a><a class=\"ProveItLink\" href=\"../../../__pv_it/_proof_reverse_greater/20650508b9c4aaf9aaf4e527fa5e93d05d2fb1960/expr.ipynb\"><img src=\"data:image/png;base64,iVBORw0KGgoAAAANSUhEUgAAAJ0AAAAUBAMAAABltyL1AAAAMFBMVEX////MzMxUVFR2dna6uroQ\n",
       "EBCqqqqIiIgiIiJmZmYyMjJERETu7u6YmJjc3NwAAACgK8IjAAAAAXRSTlMAQObYZgAAAhBJREFU\n",
       "OMuVVM0rRFEUP8wz74335pn/gJ2y0OxEymzECgtlYzF/gPQiTa+UKUXUCBs1JWMWCpFsLIQbacjC\n",
       "LFnQLBALNUpskHPvm49379x5cut13znnd373no97AMwsVF2jEt3rH/Cr6naozVWojL0/4LsefEaq\n",
       "QlWf84YHF13yjohoq/C5FWT/Og/X3OedzQro8wq+BV4MzuV4+DNnVqcJH11EoDPjXniE27hlxh7G\n",
       "reJ5DsCwLXgk4FsU+FRUZFbAHObjMWKtPRgswo9QCAdntWLm/WkWgE8ZgCmkZ+qOLbo26a+O3RXu\n",
       "BjVPhctEKVFwY80z+Az6Et+XUkqDkqY3fAqk4BDZ48L9tCiY0STotGtqN0rqTugifQw+iPdzzEW+\n",
       "bcpH6iz4BKjJC3x1EYQPQQNNz2mZj9DDGXyQ7g1Wuf5OvNBPat7kfKB8QWOICi+JsuGzwDdDd8fs\n",
       "rgckQR1A13g5f+lCvICpmBD7ix7O4FgPP5kClQj13we9qVgP16L1QMO+0C8jWKBJBm/H0KInhVfu\n",
       "6udl6EfXQFjgow0UaFK++X5WPvS86cB7Ma+xzGpWfG+nsTVE1ocEPpoAo9n+4d+b0Txp3wGDa1Xf\n",
       "dxK/C/l7C6TkLhf8PHCPnpTxXm0etMB1RM5H4cdSi5bVLem80nOQgAOP8Safp0psyXGWzNMeOyTn\n",
       "Y3CveX//v3mP8F/Dnpv/5ixmsQAAAABJRU5ErkJggg==\n",
       "\" style=\"display:inline;vertical-align:middle;\" /></a></span><br>"
      ],
      "text/plain": [
       "spec_rev_rel: |- (x > y) = (y < x)"
      ]
     },
     "execution_count": 5,
     "metadata": {},
     "output_type": "execute_result"
    }
   ],
   "source": [
    "spec_rev_rel = reverse_relation.instantiate({x:y, y:x})"
   ]
  },
  {
   "cell_type": "code",
   "execution_count": 6,
   "metadata": {},
   "outputs": [
    {
     "data": {
      "text/html": [
       "<span style=\"font-size:20px;\"><a class=\"ProveItLink\" href=\"../../../__pv_it/theorems/2f09be6e2ec6f3ed7c3d70f52a21a63cab12150b0/expr.ipynb\"><img src=\"data:image/png;base64,iVBORw0KGgoAAAANSUhEUgAAADMAAAAQBAMAAABJt1qBAAAAMFBMVEX///8QEBBmZmaqqqrMzMxE\n",
       "REQyMjIiIiKYmJh2dna6urrc3NxUVFSIiIju7u4AAAA6P00QAAAAAXRSTlMAQObYZgAAALpJREFU\n",
       "GNNjYIABvgwGnOBlLW453soHqAJv7+y6eQHC5CiCyPFdusCw8QED3wSOWvYEqDLmnA0gipNLgOE+\n",
       "kHrA+Y9rA8wIrhyQvs1MCQyhQM0MrAEI07lSQVIPGC8w/AVx+S/AZaAGMqx/wPIFRPs7wGRgzmBQ\n",
       "Y+AVACp8cJ+B9wGa42MYWA8A9RrEM+xA97IOw/oGBoY3d99qNKAH1Ju7+htwhowaDnGeBL5fOKTY\n",
       "G1gv4JDiuqsCJAEO9DSayJNaIQAAAABJRU5ErkJggg==\n",
       "\" style=\"display:inline;vertical-align:middle;\" /></a> <a class=\"ProveItLink\" href=\"../../../__pv_it/_proof_reverse_greater/3b00873bd2b83ad5ef5de3363b3e0ed0ecf8fe450/proof.ipynb\" style=\"text-decoration: none\">&nbsp;&#x22A2;&nbsp;&nbsp;</a><a class=\"ProveItLink\" href=\"../../../__pv_it/theorems/95a014f553c171661f83a33e9bb3500ba72bae240/expr.ipynb\"><img src=\"data:image/png;base64,iVBORw0KGgoAAAANSUhEUgAAADIAAAAQBAMAAACmdTG/AAAAMFBMVEX///8iIiKYmJhUVFTMzMxE\n",
       "REQyMjKqqqq6urp2dnYQEBDc3NxmZmaIiIju7u4AAACH5sGpAAAAAXRSTlMAQObYZgAAALBJREFU\n",
       "GNNjYEAB7CkM2AGTzAbsErySD5B4fHcuMOyCCLyUhYndte6dy8DJsYDhPpj/Rgim+iWD4gUxhu08\n",
       "CQyhIC5zOtyceQzzH3QzPOC6wPAXxH2MkHkAUdv/gOULmL9HCGE7WO0xBt4FDKguYICoDWZgNUBz\n",
       "dR3vB4Z7DAyHGfoVUH3K8Z31AzdQ7PHd8xtQQ4fP9t4dJQaITVgBcwLfD+wyjAqsF7DLcNw9gl0C\n",
       "ANcsMbD8u+TJAAAAAElFTkSuQmCC\n",
       "\" style=\"display:inline;vertical-align:middle;\" /></a></span>"
      ],
      "text/plain": [
       "{x > y} |- y < x"
      ]
     },
     "execution_count": 6,
     "metadata": {},
     "output_type": "execute_result"
    }
   ],
   "source": [
    "spec_rev_rel.derive_right_via_equality()"
   ]
  },
  {
   "cell_type": "code",
   "execution_count": 7,
   "metadata": {},
   "outputs": [
    {
     "data": {
      "text/html": [
       "<table><tr><th>&nbsp;</th><th>step type</th><th>requirements</th><th>statement</th></tr>\n",
       "<tr><td><a name=\"-0x38332a34a55e7af4_step0\">0</a></td><td>generalizaton</td><td><a href=\"#-0x38332a34a55e7af4_step1\">1</a></td><td><span style=\"font-size:20px;\"> <a class=\"ProveItLink\" href=\"../../../__pv_it/_proof_reverse_greater/b99e214512230fa6cd2f9145c3e25af947ee81b00/proof.ipynb\" style=\"text-decoration: none\">&nbsp;&#x22A2;&nbsp;&nbsp;</a><a class=\"ProveItLink\" href=\"../../../__pv_it/theorems/966152db4b0c912d35f49ab07ef73ce6683276f10/expr.ipynb\"><img src=\"data:image/png;base64,iVBORw0KGgoAAAANSUhEUgAAAKEAAAAWBAMAAABasOFIAAAAMFBMVEX///8QEBCIiIhmZma6urrM\n",
       "zMxUVFQiIiJERETc3Nzu7u6qqqp2dnaYmJgyMjIAAAAcRTyBAAAAAXRSTlMAQObYZgAAAjhJREFU\n",
       "OMudVU1o1EAU/txNNj+btiB46WnrQik9FcGLiKwVlF5Keym9WRYVeilS9SB0pViQ7S0g4iKIo4JC\n",
       "KRjw1J6WPa4HVxREUAiCF39gKQhWKfTNTJNJss1KOpBk3vcl35t5780LkH08Tqe26PL55EsWQXs1\n",
       "nSu4wBs++Z5FcdDt440W2KCntZpF8X3CLn6LGC3yyADHy6J4O24O3Iiu+SkB7Y2Nh1kEresxM7fC\n",
       "YiGpAH/q9ZUsirkJ4NkpWMPC2lwOInhycZK27BB7FVjv+aySrmh2gOZ55LrceF4L4E18LN2hLVNq\n",
       "LogEJYZK1YMkZXiwvHMw+SuFHyHcxls2RWmimBjIdfoovkhu4FgFNo5jqMRJpchQ5w+dlu50DPRR\n",
       "RGOxRxHaX1ye4cb9miJ2AkXLn+N1dHqUXtFGYTClKMH5MxFC7Bp5HyOIZwb6b37XeCWsX6EEsiWD\n",
       "fDtDbFat8QDEdEkRMjPmAu4lqmebUjUuM4PXJKvjF4cfXcKYUjwAgXduSMj6yC9oe/EK1/6ZXYt8\n",
       "5ZtkiBhjV9BnUY3GUYLFr4qQ+7Kr5d34KbSr42XebwZ5eAeYiKjO2Zs4EVGUoPaTKSI4hXn/8Gp9\n",
       "GUyeOL6DBsMtrasUBQh9jXsMCNkplvAq5Qy0wqr70Gpj1sPFMV8pCtC6JhpBQPDUuKjhbno3iw7P\n",
       "ds1Ooh7nRd2FhOy4k+WZlCMa751Ft9Cc7qlw2ZsD4j9/hU+JTgftc/NwxZA48pg4+qf7MwmXV1E0\n",
       "SD8AAAAASUVORK5CYII=\n",
       "\" style=\"display:inline;vertical-align:middle;\" /></a></span></td></tr>\n",
       "<tr><td><a name=\"-0x38332a34a55e7af4_step1\">1</a></td><td>instantiation</td><td><a href=\"#-0x38332a34a55e7af4_step2\">2</a>, <a href=\"#-0x38332a34a55e7af4_step3\">3</a>, <a href=\"#-0x38332a34a55e7af4_step4\">4</a></td><td><span style=\"font-size:20px;\"><a class=\"ProveItLink\" href=\"../../../__pv_it/theorems/2f09be6e2ec6f3ed7c3d70f52a21a63cab12150b0/expr.ipynb\"><img src=\"data:image/png;base64,iVBORw0KGgoAAAANSUhEUgAAADMAAAAQBAMAAABJt1qBAAAAMFBMVEX///8QEBBmZmaqqqrMzMxE\n",
       "REQyMjIiIiKYmJh2dna6urrc3NxUVFSIiIju7u4AAAA6P00QAAAAAXRSTlMAQObYZgAAALpJREFU\n",
       "GNNjYIABvgwGnOBlLW453soHqAJv7+y6eQHC5CiCyPFdusCw8QED3wSOWvYEqDLmnA0gipNLgOE+\n",
       "kHrA+Y9rA8wIrhyQvs1MCQyhQM0MrAEI07lSQVIPGC8w/AVx+S/AZaAGMqx/wPIFRPs7wGRgzmBQ\n",
       "Y+AVACp8cJ+B9wGa42MYWA8A9RrEM+xA97IOw/oGBoY3d99qNKAH1Ju7+htwhowaDnGeBL5fOKTY\n",
       "G1gv4JDiuqsCJAEO9DSayJNaIQAAAABJRU5ErkJggg==\n",
       "\" style=\"display:inline;vertical-align:middle;\" /></a> <a class=\"ProveItLink\" href=\"../../../__pv_it/_proof_reverse_greater/3b00873bd2b83ad5ef5de3363b3e0ed0ecf8fe450/proof.ipynb\" style=\"text-decoration: none\">&nbsp;&#x22A2;&nbsp;&nbsp;</a><a class=\"ProveItLink\" href=\"../../../__pv_it/theorems/95a014f553c171661f83a33e9bb3500ba72bae240/expr.ipynb\"><img src=\"data:image/png;base64,iVBORw0KGgoAAAANSUhEUgAAADIAAAAQBAMAAACmdTG/AAAAMFBMVEX///8iIiKYmJhUVFTMzMxE\n",
       "REQyMjKqqqq6urp2dnYQEBDc3NxmZmaIiIju7u4AAACH5sGpAAAAAXRSTlMAQObYZgAAALBJREFU\n",
       "GNNjYEAB7CkM2AGTzAbsErySD5B4fHcuMOyCCLyUhYndte6dy8DJsYDhPpj/Rgim+iWD4gUxhu08\n",
       "CQyhIC5zOtyceQzzH3QzPOC6wPAXxH2MkHkAUdv/gOULmL9HCGE7WO0xBt4FDKguYICoDWZgNUBz\n",
       "dR3vB4Z7DAyHGfoVUH3K8Z31AzdQ7PHd8xtQQ4fP9t4dJQaITVgBcwLfD+wyjAqsF7DLcNw9gl0C\n",
       "ANcsMbD8u+TJAAAAAElFTkSuQmCC\n",
       "\" style=\"display:inline;vertical-align:middle;\" /></a></span></td></tr>\n",
       "<tr><td>&nbsp;</td><td colspan=4 style=\"text-align:left\"><span style=\"font-size:20px;\"><a class=\"ProveItLink\" href=\"../../../../../__pv_it/common/de55da274ba0f49c86925fbf3828021c04d27faf0/expr.ipynb\"><img src=\"data:image/png;base64,iVBORw0KGgoAAAANSUhEUgAAABAAAAAOBAMAAADUAYG5AAAAMFBMVEX///8iIiLc3Ny6urqIiIiq\n",
       "qqp2dnbMzMwQEBDu7u5mZmYyMjJERERUVFSYmJgAAAA4CJ/KAAAAAXRSTlMAQObYZgAAAF5JREFU\n",
       "CNdjYGB4+//s3V0TGIDgNwMDTyeQZv/GwMD6Bchg+QzEQA4DzwcGBl4gh4F/AwOD/gIgoz6BgVUM\n",
       "pMn/WtoSsO7zYBIIPkJp9l9QBsgYMOD+CaG59v91ANEANtEY7WfmSIAAAAAASUVORK5CYII=\n",
       "\" style=\"display:inline;vertical-align:middle;\" /></a> : <a class=\"ProveItLink\" href=\"../../../__pv_it/theorems/2f09be6e2ec6f3ed7c3d70f52a21a63cab12150b0/expr.ipynb\"><img src=\"data:image/png;base64,iVBORw0KGgoAAAANSUhEUgAAADMAAAAQBAMAAABJt1qBAAAAMFBMVEX///8QEBBmZmaqqqrMzMxE\n",
       "REQyMjIiIiKYmJh2dna6urrc3NxUVFSIiIju7u4AAAA6P00QAAAAAXRSTlMAQObYZgAAALpJREFU\n",
       "GNNjYIABvgwGnOBlLW453soHqAJv7+y6eQHC5CiCyPFdusCw8QED3wSOWvYEqDLmnA0gipNLgOE+\n",
       "kHrA+Y9rA8wIrhyQvs1MCQyhQM0MrAEI07lSQVIPGC8w/AVx+S/AZaAGMqx/wPIFRPs7wGRgzmBQ\n",
       "Y+AVACp8cJ+B9wGa42MYWA8A9RrEM+xA97IOw/oGBoY3d99qNKAH1Ju7+htwhowaDnGeBL5fOKTY\n",
       "G1gv4JDiuqsCJAEO9DSayJNaIQAAAABJRU5ErkJggg==\n",
       "\" style=\"display:inline;vertical-align:middle;\" /></a>, <a class=\"ProveItLink\" href=\"../../../../../__pv_it/common/d72bb8b07403efe79afab564c36a28e21330e5f90/expr.ipynb\"><img src=\"data:image/png;base64,iVBORw0KGgoAAAANSUhEUgAAAA8AAAASBAMAAAB2sJk8AAAAMFBMVEX///+qqqq6urrc3NwQEBAy\n",
       "MjJERERUVFTMzMwiIiKYmJh2dnZmZmaIiIju7u4AAABsX1SbAAAAAXRSTlMAQObYZgAAAINJREFU\n",
       "CNdjYGDgu7P7FAMI7GxgYE8A0k8DgILeQEbIAyBRz8DA/Qskvd+AwX4CiHFegWH/BRAjv4FhfgOI\n",
       "8R+IQGoZvzMwTAEJcP5jYCgBMe4DFfY/eHuD4w+Qw3thAff6DSDhvuqbyQxgrQzsDVwGYAbbATUw\n",
       "zcDz/weEwTFFgIEBAOxlJHQBUmidAAAAAElFTkSuQmCC\n",
       "\" style=\"display:inline;vertical-align:middle;\" /></a> : <a class=\"ProveItLink\" href=\"../../../__pv_it/theorems/95a014f553c171661f83a33e9bb3500ba72bae240/expr.ipynb\"><img src=\"data:image/png;base64,iVBORw0KGgoAAAANSUhEUgAAADIAAAAQBAMAAACmdTG/AAAAMFBMVEX///8iIiKYmJhUVFTMzMxE\n",
       "REQyMjKqqqq6urp2dnYQEBDc3NxmZmaIiIju7u4AAACH5sGpAAAAAXRSTlMAQObYZgAAALBJREFU\n",
       "GNNjYEAB7CkM2AGTzAbsErySD5B4fHcuMOyCCLyUhYndte6dy8DJsYDhPpj/Rgim+iWD4gUxhu08\n",
       "CQyhIC5zOtyceQzzH3QzPOC6wPAXxH2MkHkAUdv/gOULmL9HCGE7WO0xBt4FDKguYICoDWZgNUBz\n",
       "dR3vB4Z7DAyHGfoVUH3K8Z31AzdQ7PHd8xtQQ4fP9t4dJQaITVgBcwLfD+wyjAqsF7DLcNw9gl0C\n",
       "ANcsMbD8u+TJAAAAAElFTkSuQmCC\n",
       "\" style=\"display:inline;vertical-align:middle;\" /></a></span></td></tr><tr><td><a name=\"-0x38332a34a55e7af4_step2\">2</a></td><td>theorem</td><td></td><td><span style=\"font-size:20px;\"> <a class=\"ProveItLink\" href=\"../../../../../logic/equality/_theory_nbs_/proofs/rhs_via_equality/thm_proof.ipynb\" style=\"text-decoration: none\">&nbsp;&#x22A2;&nbsp;&nbsp;</a><a class=\"ProveItLink\" href=\"../../../../../logic/equality/__pv_it/theorems/4546a35b627d4cb8c4df070fccd511b94f50b8070/expr.ipynb\"><img src=\"data:image/png;base64,iVBORw0KGgoAAAANSUhEUgAAAIkAAAAWBAMAAAAGOqJsAAAAMFBMVEX///8QEBCIiIhmZma6urrM\n",
       "zMxUVFQiIiJERETc3Nzu7u6qqqp2dnaYmJgyMjIAAAAcRTyBAAAAAXRSTlMAQObYZgAAAgFJREFU\n",
       "OMutVD9IG1EY/3nR/DnvqkiXVgdFxEUaxyiIBy7ZmnZwcDFCdSiCuhaLgYImhZJsuqjRMUMrdMoi\n",
       "0kIFDXrOIqaLg9BWEKVpbdPve5fcvUsc9OgP3vf78uX3fnfve/ce8F9Q5HDiebraXRgi2uf83LPL\n",
       "bgz+BLBCaSjh1eQ9LUXtAB5kAW3Lq8tXmo0ZQN/L5Za9mmh/OB5mgJ/J5LxXl/VZjsMGMAmkgMb0\n",
       "dOQll7oLg0LQaOmi158XsxJbqIoOOzmmY8AIVN7tI+o30ZqBZ0IdtPR6K7RZiQVs0UKMY5lGAIpJ\n",
       "NAWEabceAb645OKPQ7mQmOGIyuzVfM0dMgNceA0kydIUj3VcqBBMSFypVURz4ucvdi6O8jdYgvIK\n",
       "6KLUembF5UMGvVmJGY5ogkNYNCf1gpt508df8RkNX1FyefqpsGWzP0l4J4nGs5s9TZdC+JG7pokq\n",
       "bmg07EguB3CzW6R0mtqpyNDCbxTsF3mbtVuOyxu42S3C2HRvCmKjdF5vi3UIptTj0EPZ5Tck9n8n\n",
       "fJNEXIvpGdt/nNLQW2w817cNyaWpBFEXXIUjEouI2n8oPwZoSjvUyJd4SHJ5cpkRdcH2nWKLuM3l\n",
       "q5pj0cxPj6/KK7LrLlRFnM7VXgh5fv2/j+tc8rUuVdGt4JOAJaPOxaxTLhl3O/S++9wQ/wC6SI3I\n",
       "rLOAiQAAAABJRU5ErkJggg==\n",
       "\" style=\"display:inline;vertical-align:middle;\" /></a></span></td></tr>\n",
       "<tr><td>&nbsp;</td><td colspan=4 style-\"text-align:left\"><a class=\"ProveItLink\" href=\"../../../../../logic/equality/_theory_nbs_/proofs/rhs_via_equality/thm_proof.ipynb\">proveit.logic.equality.rhs_via_equality</a></td></tr><tr><td><a name=\"-0x38332a34a55e7af4_step3\">3</a></td><td>assumption</td><td></td><td><span style=\"font-size:20px;\"><a class=\"ProveItLink\" href=\"../../../__pv_it/theorems/2f09be6e2ec6f3ed7c3d70f52a21a63cab12150b0/expr.ipynb\"><img src=\"data:image/png;base64,iVBORw0KGgoAAAANSUhEUgAAADMAAAAQBAMAAABJt1qBAAAAMFBMVEX///8QEBBmZmaqqqrMzMxE\n",
       "REQyMjIiIiKYmJh2dna6urrc3NxUVFSIiIju7u4AAAA6P00QAAAAAXRSTlMAQObYZgAAALpJREFU\n",
       "GNNjYIABvgwGnOBlLW453soHqAJv7+y6eQHC5CiCyPFdusCw8QED3wSOWvYEqDLmnA0gipNLgOE+\n",
       "kHrA+Y9rA8wIrhyQvs1MCQyhQM0MrAEI07lSQVIPGC8w/AVx+S/AZaAGMqx/wPIFRPs7wGRgzmBQ\n",
       "Y+AVACp8cJ+B9wGa42MYWA8A9RrEM+xA97IOw/oGBoY3d99qNKAH1Ju7+htwhowaDnGeBL5fOKTY\n",
       "G1gv4JDiuqsCJAEO9DSayJNaIQAAAABJRU5ErkJggg==\n",
       "\" style=\"display:inline;vertical-align:middle;\" /></a> <a class=\"ProveItLink\" href=\"../../../__pv_it/_proof_reverse_greater/dd78a35fffc77ab3317d0a8db8704c40c4ce5a670/proof.ipynb\" style=\"text-decoration: none\">&nbsp;&#x22A2;&nbsp;&nbsp;</a><a class=\"ProveItLink\" href=\"../../../__pv_it/theorems/2f09be6e2ec6f3ed7c3d70f52a21a63cab12150b0/expr.ipynb\"><img src=\"data:image/png;base64,iVBORw0KGgoAAAANSUhEUgAAADMAAAAQBAMAAABJt1qBAAAAMFBMVEX///8QEBBmZmaqqqrMzMxE\n",
       "REQyMjIiIiKYmJh2dna6urrc3NxUVFSIiIju7u4AAAA6P00QAAAAAXRSTlMAQObYZgAAALpJREFU\n",
       "GNNjYIABvgwGnOBlLW453soHqAJv7+y6eQHC5CiCyPFdusCw8QED3wSOWvYEqDLmnA0gipNLgOE+\n",
       "kHrA+Y9rA8wIrhyQvs1MCQyhQM0MrAEI07lSQVIPGC8w/AVx+S/AZaAGMqx/wPIFRPs7wGRgzmBQ\n",
       "Y+AVACp8cJ+B9wGa42MYWA8A9RrEM+xA97IOw/oGBoY3d99qNKAH1Ju7+htwhowaDnGeBL5fOKTY\n",
       "G1gv4JDiuqsCJAEO9DSayJNaIQAAAABJRU5ErkJggg==\n",
       "\" style=\"display:inline;vertical-align:middle;\" /></a></span></td></tr>\n",
       "<tr><td><a name=\"-0x38332a34a55e7af4_step4\">4</a></td><td>instantiation</td><td><a href=\"#-0x38332a34a55e7af4_step5\">5</a></td><td><span style=\"font-size:20px;\"> <a class=\"ProveItLink\" href=\"../../../__pv_it/_proof_reverse_greater/b9792523f12cee3220bef3fb32809c299c32b4250/proof.ipynb\" style=\"text-decoration: none\">&nbsp;&#x22A2;&nbsp;&nbsp;</a><a class=\"ProveItLink\" href=\"../../../__pv_it/_proof_reverse_greater/20650508b9c4aaf9aaf4e527fa5e93d05d2fb1960/expr.ipynb\"><img src=\"data:image/png;base64,iVBORw0KGgoAAAANSUhEUgAAAJ0AAAAUBAMAAABltyL1AAAAMFBMVEX////MzMxUVFR2dna6uroQ\n",
       "EBCqqqqIiIgiIiJmZmYyMjJERETu7u6YmJjc3NwAAACgK8IjAAAAAXRSTlMAQObYZgAAAhBJREFU\n",
       "OMuVVM0rRFEUP8wz74335pn/gJ2y0OxEymzECgtlYzF/gPQiTa+UKUXUCBs1JWMWCpFsLIQbacjC\n",
       "LFnQLBALNUpskHPvm49379x5cut13znnd373no97AMwsVF2jEt3rH/Cr6naozVWojL0/4LsefEaq\n",
       "QlWf84YHF13yjohoq/C5FWT/Og/X3OedzQro8wq+BV4MzuV4+DNnVqcJH11EoDPjXniE27hlxh7G\n",
       "reJ5DsCwLXgk4FsU+FRUZFbAHObjMWKtPRgswo9QCAdntWLm/WkWgE8ZgCmkZ+qOLbo26a+O3RXu\n",
       "BjVPhctEKVFwY80z+Az6Et+XUkqDkqY3fAqk4BDZ48L9tCiY0STotGtqN0rqTugifQw+iPdzzEW+\n",
       "bcpH6iz4BKjJC3x1EYQPQQNNz2mZj9DDGXyQ7g1Wuf5OvNBPat7kfKB8QWOICi+JsuGzwDdDd8fs\n",
       "rgckQR1A13g5f+lCvICpmBD7ix7O4FgPP5kClQj13we9qVgP16L1QMO+0C8jWKBJBm/H0KInhVfu\n",
       "6udl6EfXQFjgow0UaFK++X5WPvS86cB7Ma+xzGpWfG+nsTVE1ocEPpoAo9n+4d+b0Txp3wGDa1Xf\n",
       "dxK/C/l7C6TkLhf8PHCPnpTxXm0etMB1RM5H4cdSi5bVLem80nOQgAOP8Safp0psyXGWzNMeOyTn\n",
       "Y3CveX//v3mP8F/Dnpv/5ixmsQAAAABJRU5ErkJggg==\n",
       "\" style=\"display:inline;vertical-align:middle;\" /></a></span></td></tr>\n",
       "<tr><td>&nbsp;</td><td colspan=4 style=\"text-align:left\"><span style=\"font-size:20px;\"><a class=\"ProveItLink\" href=\"../../../../../__pv_it/common/a0d9d672aa5e272d907247690c152cc2c6daafb70/expr.ipynb\"><img src=\"data:image/png;base64,iVBORw0KGgoAAAANSUhEUgAAAAsAAAAJBAMAAAAWSsseAAAALVBMVEX///9mZmaqqqrMzMxEREQy\n",
       "MjIiIiKYmJh2dna6urrc3NxUVFSIiIju7u4AAACJHQtQAAAAAXRSTlMAQObYZgAAAEJJREFUCNdj\n",
       "YLhzeuWJAwy8Dew5bAEMHBc43nIuYOBlYHFgAAG+A2DKzgBIMF04x8BzgWGegh/DcgaG22fuiBcw\n",
       "AAATyhBrnyPYZQAAAABJRU5ErkJggg==\n",
       "\" style=\"display:inline;vertical-align:middle;\" /></a> : <a class=\"ProveItLink\" href=\"../../../../../__pv_it/common/ff7dba4ef0bbe791ab573bf2d9c220a304399ac80/expr.ipynb\"><img src=\"data:image/png;base64,iVBORw0KGgoAAAANSUhEUgAAAAsAAAANBAMAAACN24kIAAAAMFBMVEX///8iIiKYmJhUVFTMzMxE\n",
       "REQyMjKqqqq6urp2dnYQEBDc3NxmZmaIiIju7u4AAACH5sGpAAAAAXRSTlMAQObYZgAAAFlJREFU\n",
       "CNdj4LtzgWHXAwZOjgUM9xkYtvMkMIQyMDzgusDwl4GBof8ByxcgdYyBdwGQCmZgNQBShxn6FYDU\n",
       "47vnNzAwgGUZGJgT+H4AKUYF1gtAiuPuESAJAJGkFvXVdzA+AAAAAElFTkSuQmCC\n",
       "\" style=\"display:inline;vertical-align:middle;\" /></a>, <a class=\"ProveItLink\" href=\"../../../../../__pv_it/common/ff7dba4ef0bbe791ab573bf2d9c220a304399ac80/expr.ipynb\"><img src=\"data:image/png;base64,iVBORw0KGgoAAAANSUhEUgAAAAsAAAANBAMAAACN24kIAAAAMFBMVEX///8iIiKYmJhUVFTMzMxE\n",
       "REQyMjKqqqq6urp2dnYQEBDc3NxmZmaIiIju7u4AAACH5sGpAAAAAXRSTlMAQObYZgAAAFlJREFU\n",
       "CNdj4LtzgWHXAwZOjgUM9xkYtvMkMIQyMDzgusDwl4GBof8ByxcgdYyBdwGQCmZgNQBShxn6FYDU\n",
       "47vnNzAwgGUZGJgT+H4AKUYF1gtAiuPuESAJAJGkFvXVdzA+AAAAAElFTkSuQmCC\n",
       "\" style=\"display:inline;vertical-align:middle;\" /></a> : <a class=\"ProveItLink\" href=\"../../../../../__pv_it/common/a0d9d672aa5e272d907247690c152cc2c6daafb70/expr.ipynb\"><img src=\"data:image/png;base64,iVBORw0KGgoAAAANSUhEUgAAAAsAAAAJBAMAAAAWSsseAAAALVBMVEX///9mZmaqqqrMzMxEREQy\n",
       "MjIiIiKYmJh2dna6urrc3NxUVFSIiIju7u4AAACJHQtQAAAAAXRSTlMAQObYZgAAAEJJREFUCNdj\n",
       "YLhzeuWJAwy8Dew5bAEMHBc43nIuYOBlYHFgAAG+A2DKzgBIMF04x8BzgWGegh/DcgaG22fuiBcw\n",
       "AAATyhBrnyPYZQAAAABJRU5ErkJggg==\n",
       "\" style=\"display:inline;vertical-align:middle;\" /></a></span></td></tr><tr><td><a name=\"-0x38332a34a55e7af4_step5\">5</a></td><td>axiom</td><td></td><td><span style=\"font-size:20px;\"> <a class=\"ProveItLink\" href=\"../../axioms.ipynb#reverse_relation\" style=\"text-decoration: none\">&nbsp;&#x22A2;&nbsp;&nbsp;</a><a class=\"ProveItLink\" href=\"../../../__pv_it/axioms/b8d02519d626b0b9f16d17b2eb04797463296cdc0/expr.ipynb\"><img src=\"data:image/png;base64,iVBORw0KGgoAAAANSUhEUgAAAN0AAAAVBAMAAAAwUfbwAAAAMFBMVEX///8QEBCIiIhmZma6urrM\n",
       "zMxUVFQiIiJERETc3Nzu7u6qqqp2dnaYmJgyMjIAAAAcRTyBAAAAAXRSTlMAQObYZgAAAp1JREFU\n",
       "SMe1Vk1oE0EU/ppuspvtJu1B7yGBWnoxlyqKxKJg8dKfi2cpeqiHkoMeRBFPkgjCempRxPFSpYgE\n",
       "POlBQjwIEXRBoRQUFgRBQQmioHhx3s7sJDu7G+PBB1+Snfe9n33z5k2ANMl7AmnyJGHtznA6waeH\n",
       "9wmEBxJpknNjS/bV4XTCS3r4nED4JJEmth9bKrrD6YRNKl1CXoWqQCiPYqXtxGze6AvPlqN0jiID\n",
       "nFY8nukKqPxelDTGvZjNRe1555BG5yh0t7c3Et5/Q6Iv+7pa9eb1DqtjiAHRCT8bjcsJ8SoCdqWE\n",
       "m0yme1i+anntGK+MU9VMMlWlGyyIdEF0wlmgmRDvhoBjTGG/2o614OshdkpXeGWChnn1leQD/bQ8\n",
       "peNRDoYbLl0QnXA8qdOASwK3x3001OLiOfrs4jU7CUzU9S1vKR2wrnpCuiA6wUQm6VTvEWBjJXzr\n",
       "x7tOn0xkkO1pJmPzSge7H0+6IDrB8Uykx8MSy/7Q6gmRQWI8hNnlVT2lizBe3j9FJ2Nump8VYxom\n",
       "i9QTNWSmEO0XiAyMen//Pob1hMquf4CEC6IHJs0zvLXYusmzcybZSrRfcA3Waa29n2Z6mA37ZUCo\n",
       "X6QuYiBchP2CxzxoFl9Ic2sBM5L8XOIAlrxousZvq0eDfLytxePdHuoi5124IHpgMhk4+hWojmBV\n",
       "chcktspH3eg8s1dnKzTgi8taPF6tUBeZZ8IF0QOTAgs2P0uq89gbm2e1lAl8/6/zTElN0pXJXcd3\n",
       "sMlwwehF53XOt7+nOBlhXoubSLjoDJpsve10sdLCiRnVBM0ApmeVRr6PrMT7SLgI76NBadmu5UXv\n",
       "W6M8l/J61qj3rXBBdM1kws21F0f+P7H7b/8nduMmBRjv2vi/8gf159eiwzGHgwAAAABJRU5ErkJg\n",
       "gg==\n",
       "\" style=\"display:inline;vertical-align:middle;\" /></a></span></td></tr>\n",
       "<tr><td>&nbsp;</td><td colspan=4 style-\"text-align:left\"><a class=\"ProveItLink\" href=\"../../axioms.ipynb#reverse_relation\">proveit.numbers.ordering.reverse_relation</a></td></tr></table>"
      ],
      "text/plain": [
       "\tstep type\trequirements\tstatement\n",
       "0\tgeneralizaton\t1\t|- forall_{x, y | x > y} (y < x)\n",
       "1\tinstantiation\t2, 3, 4\t{x > y} |- y < x\n",
       "\tP : x > y, Q : y < x\n",
       "2\ttheorem\t\t|- forall_{P, Q | P, P = Q} Q\n",
       "\tproveit.logic.equality.rhs_via_equality\n",
       "3\tassumption\t\t{x > y} |- x > y\n",
       "4\tinstantiation\t5\t|- (x > y) = (y < x)\n",
       "\tx : y, y : x\n",
       "5\taxiom\t\t|- forall_{x, y} ((y > x) = (x < y))\n",
       "\tproveit.numbers.ordering.reverse_relation"
      ]
     },
     "execution_count": 7,
     "metadata": {},
     "output_type": "execute_result"
    }
   ],
   "source": [
    "%qed"
   ]
  },
  {
   "cell_type": "code",
   "execution_count": null,
   "metadata": {},
   "outputs": [],
   "source": []
  }
 ],
 "metadata": {
  "kernelspec": {
   "display_name": "Python 3",
   "language": "python",
   "name": "python3"
  }
 },
 "nbformat": 4,
 "nbformat_minor": 0
}