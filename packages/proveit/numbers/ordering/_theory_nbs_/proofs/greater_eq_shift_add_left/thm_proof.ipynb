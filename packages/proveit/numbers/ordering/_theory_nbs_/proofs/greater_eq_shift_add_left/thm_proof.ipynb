{
 "cells": [
  {
   "cell_type": "markdown",
   "metadata": {},
   "source": [
    "Proof of <a class=\"ProveItLink\" href=\"../../../../../_theory_nbs_/theory.ipynb\">proveit</a>.<a class=\"ProveItLink\" href=\"../../../../_theory_nbs_/theory.ipynb\">numbers</a>.<a class=\"ProveItLink\" href=\"../../theory.ipynb\">ordering</a>.<a class=\"ProveItLink\" href=\"../../theorems.ipynb#greater_eq_shift_add_left\">greater_eq_shift_add_left</a> theorem\n",
    "========"
   ]
  },
  {
   "cell_type": "code",
   "execution_count": 1,
   "metadata": {},
   "outputs": [],
   "source": [
    "import proveit\n",
    "theory = proveit.Theory() # the theorem's theory"
   ]
  },
  {
   "cell_type": "code",
   "execution_count": 2,
   "metadata": {},
   "outputs": [
    {
     "data": {
      "text/html": [
       "Under these <a href=\"presumptions.txt\">presumptions</a>, we begin our proof of<br><strong id=\"greater_eq_shift_add_left\">greater_eq_shift_add_left:</strong> <a class=\"ProveItLink\" href=\"../../../__pv_it/theorems/3fe42bbd9a8bc5aeab3399332f8b3a70e31c89290/expr.ipynb\"><img src=\"data:image/png;base64,iVBORw0KGgoAAAANSUhEUgAAASEAAAAWBAMAAAB9OzeJAAAAMFBMVEX///8QEBCIiIhmZma6urrM\n",
       "zMxUVFQiIiJERETc3Nzu7u6qqqp2dnaYmJgyMjIAAAAcRTyBAAAAAXRSTlMAQObYZgAAA7JJREFU\n",
       "SMfFVk1oE0EUft38bzZJDx7qQYkRi8fQYi34FxD0JI0HFUFoqT8gFqltRbQVonhIKZVFwfYibA2o\n",
       "lGKWetCCh9AelGpLqIK1UAliW1RcRRC0/uCbmd3s7JqttQF98GZ2Z96b+Wbe92YGoFwJ5LG47tAZ\n",
       "lB0cSsiIrgXyM1sGotuoYsqp93hpB5uIF1oBvDLTx6TlbRmI3qCGZafeO2zGdsXqYJdwHI0KTPvJ\n",
       "PqZWDiiEY8FTPlBRvltif8F52eJgyLBeR1QsRpmGEb2krhyRj0x11hGRWMlq93ySd7AjaiB7OMA0\n",
       "ND442FdG0IhvoNUREbzWa086YTr8hughDV2C6Zd0uqsMROtRBRIIKbbBiujq2Dpc+VgxxU6qRQcY\n",
       "jSUtiOZjW3CEONOjAN2Gl1tzmDdh+zcNe1H9mM+BTrhsQeReDR+wemlm/WbZcOhT/QUekfhTycoQ\n",
       "wjaiOynBdRmzzHtv4+FX7Muk/i7ZathJqIGr9+XghAXRQB7qyRhmDrQXHbrAq/KIgosQiUIQg0/U\n",
       "B4J5ZL0zKfmgNi9IMB61IQrUJS2Gq1ArcAt30PyWNG1hraY1AW1ow6rRMBS6FMPBtUi/JjXtlKbN\n",
       "45erANkceD4CVSnvM3fla/FremQQENFM3oYIAvVJ3tBAVGVndhWInzlEQ22mQ0XKxmw8jhrUIqJA\n",
       "YT+2ZarnSEJ8qlYoSaNuQlaCKMchYkbio4RhaEZN/G5DhA1BHB126zQ/z4U5m7MhiuTJlroxYkSh\n",
       "+wj6n/aQnRTO0bTp8FSGgSGqjZuIdCMQJxXdkGP2D8RiQfQNvIURg9nXTDr0UgBg4VEkIa6BIrPh\n",
       "LsJyxT0EnD9KWlwpSGYoItexDo7ZuhEI73VDg+IkZetA3GSJ2kV43oR7sZXCuwR88riaIGPJfm/e\n",
       "j0O4ckwJy6FCFZooIdAYfwAOpNPpqCBdecYh0o1u9BiGoEeFbLU0MWXl0c3YwWbk15z9ICEOT2aj\n",
       "lqiJNROETUmmEEJGZGX/DFYRhaCJkEuYRS14SDERMaMhsl5muJxbpLXktWM/s6nc0pVKhdy4B/oV\n",
       "nzKNJZ7kcSnJeDTOMZsaZWgAiKHDTSsqJW5a+9VsyCDfo9+0+gHbPLwN9qqelhyWgZopBXrI6TaZ\n",
       "y2w3EVGjfeyWaimmCznw/X96jSycIZIsOpQS4zXCi8qVAvLI7Emt9MXWvawXGxWyLNvS2BO01EN0\n",
       "KURLvmpDf/GqfaEr786VjojuYxKmFfjvEv93U/0CZw8YoeJLUZgAAAAASUVORK5CYII=\n",
       "\" style=\"display:inline;vertical-align:middle;\" /></a><br>(see <a class=\"ProveItLink\" href=\"../../../__pv_it/theorems/106647080026fa10a4ac10073d73729071b168360/dependencies.ipynb\">dependencies</a>)<br>"
      ],
      "text/plain": [
       "greater_eq_shift_add_left: forall_{a, b, c in Real | a >= b} ((c + a) >= (c + b))"
      ]
     },
     "execution_count": 2,
     "metadata": {},
     "output_type": "execute_result"
    }
   ],
   "source": [
    "%proving greater_eq_shift_add_left"
   ]
  },
  {
   "cell_type": "code",
   "execution_count": null,
   "metadata": {},
   "outputs": [],
   "source": []
  }
 ],
 "metadata": {
  "kernelspec": {
   "display_name": "Python 3",
   "language": "python",
   "name": "python3"
  }
 },
 "nbformat": 4,
 "nbformat_minor": 0
}