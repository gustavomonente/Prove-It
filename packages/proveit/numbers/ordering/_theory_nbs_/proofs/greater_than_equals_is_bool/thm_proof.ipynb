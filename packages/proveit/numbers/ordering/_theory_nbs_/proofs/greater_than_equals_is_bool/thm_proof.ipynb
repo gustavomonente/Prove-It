{
 "cells": [
  {
   "cell_type": "markdown",
   "metadata": {},
   "source": [
    "Proof of <a class=\"ProveItLink\" href=\"../../../../../_theory_nbs_/theory.ipynb\">proveit</a>.<a class=\"ProveItLink\" href=\"../../../../_theory_nbs_/theory.ipynb\">numbers</a>.<a class=\"ProveItLink\" href=\"../../theory.ipynb\">ordering</a>.<a class=\"ProveItLink\" href=\"../../theorems.ipynb#greater_than_equals_is_bool\">greater_than_equals_is_bool</a> theorem\n",
    "========"
   ]
  },
  {
   "cell_type": "code",
   "execution_count": 1,
   "metadata": {},
   "outputs": [],
   "source": [
    "import proveit\n",
    "theory = proveit.Theory() # the theorem's theory"
   ]
  },
  {
   "cell_type": "code",
   "execution_count": 2,
   "metadata": {},
   "outputs": [
    {
     "data": {
      "text/html": [
       "Under these <a href=\"presumptions.txt\">presumptions</a>, we begin our proof of<br><strong id=\"greater_than_equals_is_bool\">greater_than_equals_is_bool:</strong> <a class=\"ProveItLink\" href=\"../../../__pv_it/theorems/9a7d1057e436fc4708b2d5c0abb8526479cc1e770/expr.ipynb\"><img src=\"data:image/png;base64,iVBORw0KGgoAAAANSUhEUgAAALwAAAAVBAMAAAAOdJm+AAAAMFBMVEX///8QEBCIiIhmZma6urrM\n",
       "zMxUVFQiIiJERETc3Nzu7u6qqqp2dnaYmJgyMjIAAAAcRTyBAAAAAXRSTlMAQObYZgAAAslJREFU\n",
       "OMutVV1o01AU/mjTNU2TbYiC+CDTYd2D4NhQQbbRKVgQnJsP6sNgZf6gL2XI6hD/yhBtFVlRcUMQ\n",
       "wwZz7GEWfBiiSNgEpTrpw0CRKVH0QUWpbzoQvD+5bRPbUMQDJ/feLydfTr5z7wlQhQVy3CtYMF0Z\n",
       "N+nkrTv9lOWV7LhjvXH1yPuTYYY/p+sv7vSfLbfs7nbH/RnnA+Y+5XI7w8foxydc2bVm7gV77EhX\n",
       "bXA8kdiDDTLDa3UyZFzp/WnuRes6YgtQ6q08Lg2dE/QPZYZr2enpUXdtRi0vsYMXbMuP7Oob1ovZ\n",
       "P5ni+M9k8ow7faPl46Ebm4QMN7+yYbwFgTXAPC+BXhRHitMPJDgZUu70V7krhnbCbwrw+il6NTrh\n",
       "yQPvHBso0Xn+B9k5FN8Jxfybcrbp0AcxP81d1dVlqVCCV7TWgUwHZLIvZjlpaWkXlsBwPzyOE6M8\n",
       "as15VGSFECu5K4xJbO0si8QK1JGwPib92u/EBL0s5Riu5vyOzF8/mAahf5Oz04Mx8QSeWjNpGX3d\n",
       "Fn3Alr2MKMMD5n4CzG0JkTApBL8u0c+m9IZdHDAmRrRNvNlrYh0ZImxRX0pfQ/sBxVOHCZse85Na\n",
       "qHV6D2rB6Vub7aUN6ptJHGWPFc6JHMVFiNK22LLXDI7fHyC64RuFb0XQhAlG7z06KILnue/NjOA2\n",
       "a0HhAo83Kv0mQxs/foW3mr14sdXCuaK/GN6GfhxIJpMNHvXaogiOcJ9cP97ubJtKfyN98BNfHNtt\n",
       "b2kM1+gH+/I+emMQq4hqTJxgr16xKZQYUR/KgFXoZ1ZTEC+3cNxRTRVjOuJSHmo31z5rVGppRYvh\n",
       "XrhMS3O2usnFuSx6MtjVRJK5Qg/ES2OiQ4SlYDvZM0PU4nR6FsPlGnL5Rp1R0jJR10O0r/J3sqOx\n",
       "G5WbSsrx86oxuv7hZ6ilq8I1SEsG/qv9AectwZo+jjLNAAAAAElFTkSuQmCC\n",
       "\" style=\"display:inline;vertical-align:middle;\" /></a><br>(see <a class=\"ProveItLink\" href=\"../../../__pv_it/theorems/754d321de88dfb24052d88f5f4db24aa3b93fe1b0/dependencies.ipynb\">dependencies</a>)<br>"
      ],
      "text/plain": [
       "greater_than_equals_is_bool: forall_{x, y in Real} ((x >= y) in BOOLEAN)"
      ]
     },
     "execution_count": 2,
     "metadata": {},
     "output_type": "execute_result"
    }
   ],
   "source": [
    "%proving greater_than_equals_is_bool"
   ]
  },
  {
   "cell_type": "code",
   "execution_count": null,
   "metadata": {},
   "outputs": [],
   "source": []
  }
 ],
 "metadata": {
  "kernelspec": {
   "display_name": "Python 3",
   "language": "python",
   "name": "python3"
  }
 },
 "nbformat": 4,
 "nbformat_minor": 0
}