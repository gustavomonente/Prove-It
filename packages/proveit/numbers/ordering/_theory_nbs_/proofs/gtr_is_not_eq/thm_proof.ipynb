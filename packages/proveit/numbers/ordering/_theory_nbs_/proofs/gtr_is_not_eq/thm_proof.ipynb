{
 "cells": [
  {
   "cell_type": "markdown",
   "metadata": {},
   "source": [
    "Proof of <a class=\"ProveItLink\" href=\"../../../../../_theory_nbs_/theory.ipynb\">proveit</a>.<a class=\"ProveItLink\" href=\"../../../../_theory_nbs_/theory.ipynb\">numbers</a>.<a class=\"ProveItLink\" href=\"../../theory.ipynb\">ordering</a>.<a class=\"ProveItLink\" href=\"../../theorems.ipynb#gtr_is_not_eq\">gtr_is_not_eq</a> theorem\n",
    "========"
   ]
  },
  {
   "cell_type": "code",
   "execution_count": 1,
   "metadata": {},
   "outputs": [],
   "source": [
    "import proveit\n",
    "theory = proveit.Theory() # the theorem's theory"
   ]
  },
  {
   "cell_type": "code",
   "execution_count": 2,
   "metadata": {},
   "outputs": [
    {
     "data": {
      "text/html": [
       "Under these <a href=\"presumptions.txt\">presumptions</a>, we begin our proof of<br><strong id=\"gtr_is_not_eq\">gtr_is_not_eq:</strong> <a class=\"ProveItLink\" href=\"../../../__pv_it/theorems/9cc3ab85573d23569fa71ba78ab9bc5ad24aadc70/expr.ipynb\"><img src=\"data:image/png;base64,iVBORw0KGgoAAAANSUhEUgAAALAAAAAWCAMAAABXLOafAAAAOVBMVEX///8kJCQNDQ0oKCgQEBCI\n",
       "iIhmZma6urrMzMxUVFQiIiJERETc3Nzu7u6qqqp2dnaYmJgyMjIAAAD9T1yxAAAAAXRSTlMAQObY\n",
       "ZgAAApJJREFUSMfFV1mW3CAMdBJL7Ov9DxvE1sa4cWfejMNHv7ZBoiiVhLxt/2dov553Zn5nNf2G\n",
       "/uz9c3iNujlPOK7dZfknCLGzbSKY5wAHvZ4XbFiNFTodQ7ezavUcXo83BI9YYiPVwYHYF9U/P+Qd\n",
       "wfz4xGKLvdnptM7Q0PLBjJP/RLB7LQ8klahoSPccYGiK0OgQ9il3FB8FLwCwxN9h51/NUWIh3O7N\n",
       "bhdcOFG1HrE9bRrii8qQx5/f9NtlbmJSrYkZnydnDFsCTsXwlBtWghIY4Lj3VUT5yglJ2FZFEnBU\n",
       "NwTbLOEIBUG2pyhdFeHQ8tBYh5hWwOaopsMasBHHcIU5mfcSF8xIJJxmuRifMWSas2R5DofzBfQ0\n",
       "Yt3XK6sNOc+AvfFrwJQ1Qp+dzIB3lZHwM8EngywOVkpbAZyulXYqgyBC88AjgDBVMyVbCmB3Dfho\n",
       "zBWawcksiUKajduo4V97UXLnOfoejY3JeqZ6sxjJ0w7NPUiTE/ol7wwYES8Bj8Yp2+DoZE46k0kT\n",
       "ofYIby/ByJrca9KlU2JVBEHhXR0K8gqDB8AohGTXSTcak3cqAtXJVTLnKSm2oaCyKUdFwqrqW6xr\n",
       "YxX+ns4M4ig1FAlELtTkPjGswb8BPBonGjLF1clY6mRNTgCuBYx9w1SVk9Jcy5qmOG9qxSNKvKk2\n",
       "FF5CIQZJWH5s/V6AT8YslGXNyYdXs112GeZcG1IMeWSe0jztk9TnCZDjg4bdm6Trxsec604+bH7W\n",
       "LaM7l0AmwAIVXE6kcOEKNGXbxeGCSyHCcAW4G29avKpad7IsXZ3gZYNgVjfvEEWoGr7Y+eIdV/yr\n",
       "DfyaYLVo8qz+rI/5ahP95hNp2Zr4FaZPP5ce7Pq/Z+DTG/4FKHkcRpX3BTwAAAAASUVORK5CYII=\n",
       "\" style=\"display:inline;vertical-align:middle;\" /></a><br>(see <a class=\"ProveItLink\" href=\"../../../__pv_it/theorems/b4d8d2399c610559f0847762952334fe0d7b3fdb0/dependencies.ipynb\">dependencies</a>)<br>"
      ],
      "text/plain": [
       "gtr_is_not_eq: forall_{a, b in Real | a > b} (a != b)"
      ]
     },
     "execution_count": 2,
     "metadata": {},
     "output_type": "execute_result"
    }
   ],
   "source": [
    "%proving gtr_is_not_eq"
   ]
  },
  {
   "cell_type": "code",
   "execution_count": null,
   "metadata": {},
   "outputs": [],
   "source": []
  }
 ],
 "metadata": {
  "kernelspec": {
   "display_name": "Python 3",
   "language": "python",
   "name": "python3"
  }
 },
 "nbformat": 4,
 "nbformat_minor": 0
}