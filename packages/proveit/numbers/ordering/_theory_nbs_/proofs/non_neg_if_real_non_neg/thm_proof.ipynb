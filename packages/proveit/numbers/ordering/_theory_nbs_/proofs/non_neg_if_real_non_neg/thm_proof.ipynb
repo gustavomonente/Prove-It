{
 "cells": [
  {
   "cell_type": "markdown",
   "metadata": {},
   "source": [
    "Proof of <a class=\"ProveItLink\" href=\"../../../../../_theory_nbs_/theory.ipynb\">proveit</a>.<a class=\"ProveItLink\" href=\"../../../../_theory_nbs_/theory.ipynb\">numbers</a>.<a class=\"ProveItLink\" href=\"../../theory.ipynb\">ordering</a>.<a class=\"ProveItLink\" href=\"../../theorems.ipynb#non_neg_if_real_non_neg\">non_neg_if_real_non_neg</a> theorem\n",
    "========"
   ]
  },
  {
   "cell_type": "code",
   "execution_count": 1,
   "metadata": {},
   "outputs": [],
   "source": [
    "import proveit\n",
    "theory = proveit.Theory() # the theorem's theory"
   ]
  },
  {
   "cell_type": "code",
   "execution_count": 2,
   "metadata": {},
   "outputs": [
    {
     "data": {
      "text/html": [
       "Under these <a href=\"presumptions.txt\">presumptions</a>, we begin our proof of<br><strong id=\"non_neg_if_real_non_neg\">non_neg_if_real_non_neg:</strong> <a class=\"ProveItLink\" href=\"../../../__pv_it/theorems/d5c0a2bc18eb852a55e350bec30a8b7e1709bd9d0/expr.ipynb\"><img src=\"data:image/png;base64,iVBORw0KGgoAAAANSUhEUgAAAIcAAAAUBAMAAABVOzPUAAAAMFBMVEX///8QEBCIiIhmZma6urrM\n",
       "zMxUVFQiIiJERETc3Nzu7u6qqqp2dnaYmJgyMjIAAAAcRTyBAAAAAXRSTlMAQObYZgAAAjpJREFU\n",
       "OMuVVE1oE1EQ/rL53ZdN7EVQT6uHtngKFKkIakDwpgYEq1BIaasgohRpkIKHIiJbewkW1IuwJWAl\n",
       "SLvoQQqlDVUopKGsKFZLxSB40YMBqUjtoTPZ7GaTWLZOyNuZ9/Mx3zfzHrA7e7Ljyiz9y+x89sIQ\n",
       "o/+cXlxPIZQFljn47gUSzzru1LH6rCFGICiNxxTIo14g71z+/FXbewusUDqEpgOK4QUy4g7OXq45\n",
       "94AFHZNArJjPP/LCkIcawot3re9v4JyBeBL4o2m3vUCkBA0Trw/qtfjhj6ravwhEhUKLlNtYy6kU\n",
       "D8/X7UMREwjsx09nfYL5yVtAWkWMlD1V1bfJPrBK953ChimcNHHUWV/l1GTKJF1AlLiGIZmu4686\n",
       "B77S5zTNtdHPMh/RPqnjpr2po+iiE6xQacyw01JzXaakoKiSf/6w3IaMC2QfxEZt25LqCLtgVEHk\n",
       "8gUb5ONsHgSyxpkFx10gREdsIVqxStVtZ64BX3QEuHRjgzTk2r8hwEQZpABErwMVHKgLK/4iVOZ7\n",
       "It8wGpuNhcVLQhKZ4CbisEC6EohdaxCWq3gHq32EjmdJR7+wIfYCfp7dQwz9ieAQclUQ/5Vh4Ehj\n",
       "iTnjp4cu9SebruViO/VCnPshRlt9htSHHk3TVEl58N6j7ZtsynZmspE1PWTRifbqolQqvdnpAra8\n",
       "B7bjy6bPQElZmhQLLRsj9adg+hZbps7JadVA/4vjwDg320ohd2K3j1ITvnXPSJP/fh4/Adu6JZaG\n",
       "aF1XYwAAAABJRU5ErkJggg==\n",
       "\" style=\"display:inline;vertical-align:middle;\" /></a><br>(see <a class=\"ProveItLink\" href=\"../../../__pv_it/theorems/33ee579b26a3edf38e62dfeb93a2921fd27d20930/dependencies.ipynb\">dependencies</a>)<br>"
      ],
      "text/plain": [
       "non_neg_if_real_non_neg: forall_{a in RealNonNeg} (a >= 0)"
      ]
     },
     "execution_count": 2,
     "metadata": {},
     "output_type": "execute_result"
    }
   ],
   "source": [
    "%proving non_neg_if_real_non_neg"
   ]
  },
  {
   "cell_type": "code",
   "execution_count": null,
   "metadata": {},
   "outputs": [],
   "source": []
  }
 ],
 "metadata": {
  "kernelspec": {
   "display_name": "Python 3",
   "language": "python",
   "name": "python3"
  }
 },
 "nbformat": 4,
 "nbformat_minor": 0
}