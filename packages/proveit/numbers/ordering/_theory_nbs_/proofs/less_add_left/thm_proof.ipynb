{
 "cells": [
  {
   "cell_type": "markdown",
   "metadata": {},
   "source": [
    "Proof of <a class=\"ProveItLink\" href=\"../../../../../_theory_nbs_/theory.ipynb\">proveit</a>.<a class=\"ProveItLink\" href=\"../../../../_theory_nbs_/theory.ipynb\">numbers</a>.<a class=\"ProveItLink\" href=\"../../theory.ipynb\">ordering</a>.<a class=\"ProveItLink\" href=\"../../theorems.ipynb#less_add_left\">less_add_left</a> theorem\n",
    "========"
   ]
  },
  {
   "cell_type": "code",
   "execution_count": 1,
   "metadata": {},
   "outputs": [],
   "source": [
    "import proveit\n",
    "theory = proveit.Theory() # the theorem's theory"
   ]
  },
  {
   "cell_type": "code",
   "execution_count": 2,
   "metadata": {},
   "outputs": [
    {
     "data": {
      "text/html": [
       "Under these <a href=\"presumptions.txt\">presumptions</a>, we begin our proof of<br><strong id=\"less_add_left\">less_add_left:</strong> <a class=\"ProveItLink\" href=\"../../../__pv_it/theorems/8397ddd45042669bc597da663ee22bd5ca09508a0/expr.ipynb\"><img src=\"data:image/png;base64,iVBORw0KGgoAAAANSUhEUgAAARAAAAAWBAMAAAD6Ct6PAAAAMFBMVEX///8QEBCIiIhmZma6urrM\n",
       "zMxUVFQiIiJERETc3Nzu7u6qqqp2dnaYmJgyMjIAAAAcRTyBAAAAAXRSTlMAQObYZgAAA6hJREFU\n",
       "SMe9Vk1oE0EU/rLJNslmk3gQRKUQWq3iH6UF6aGWiKAgKPGiHoSW+oOKij/Vg20hKEpaERYLbY8r\n",
       "AZUgZlFQFMHQXqQWCeJBxUrxD1QaRBRsVfDNzG52N0mxSHTgzbydnZn37XvfeztA1VswL6Riu1tx\n",
       "NqQBk0yZqCaQa6ZUbDVa2fIF1B0AHrGHj9UE8sGUik2ZLJt6Q3IDGGbOTFYRR7hRiN1uOh9GHAF5\n",
       "x4cfJGoMEZ0Go4pA/JqQWYBcthGf4Kt8M8xR8xAey2SGqhmZIVNmARKJm4rUo/NRPcr6t8D3VKqn\n",
       "mkDqTQm2Ni0qATJSl4BqRu36cQtZZz0FZBTYC/RZK32Fyof7Sie2lnBOGslZ6kVT1muRz24gQ0Zg\n",
       "EmGxM91rrc9+VKaBV8AGJ5NHXcffWb77NVcCbrObi98lSJfES9y2nrqFKLXwJt1AelBjIMQjUfOp\n",
       "uPuBji9kiogFya4+9nvlfnNeUjEWKweyswMRB71DBLYLUd18nC/EOwM/2/u4UDhWKLwHn6Emczdd\n",
       "sQ21QfkJtBNZ8n770Omi9uxuBgTkRb4MyCBFMmqnRXiKUH+Dx3AD8SSRTbg84knaQDDQa5cR3w8O\n",
       "JDi5ncWsgSW1/KWBfZhaF/Mx3zMgORuI0nSEjk6fI7W97qBgH6Qptm8a/rw7NNkcHrizJsuP8h0t\n",
       "Iesv7qpNpPXtIRsnZeY46bTEAHTJ8yIQQJobbSBXE+06rr9l6jKdJYY/vs3XzT/TjIODrFkDR0Ka\n",
       "E0iUoBoWWe30/YrLeU5W3CKM3kaZIQ3E2DoiWSLN13r3dTnI2owdkGu5eobvbIGsPIwLj3hiDr6P\n",
       "8qNOqS6PeDuQTsCbKyloh3GW+laGlI7wGFIHC2OcVvNw70ilUjFJvfTUAWQxGoh8cUGEtXyCfPnQ\n",
       "4ByJWoVqkxClc+ngEnfWjE+QpUiipMSnV7GgMjVMLspqgRc0RHUGgjGxRoQmtEsvAqF0v5iB0sJO\n",
       "muEgBLXXGK6s+UOJv1r5X2gyBx6tfQuGdb/+jHqqwo1qQnBkzEHWhfJXdtXYT1ZOh5PBfqrLXjb/\n",
       "Kk+l9PbsP73MLD89R1OtwPo6b67DNkM+lKM+2PRExwVW0B7n0m02kI0r65kXg+c1bB+HvBgDq1fw\n",
       "F/cgjdum++Co1XO4BkBcA5zNcPQScaT4wl3QZGEm9DcXo4BWcbqv7MJm9SXb537r+8NV8XnlO4zb\n",
       "ZtjRzwEItxWi7Er1438177838RuzrwFdWh68YAAAAABJRU5ErkJggg==\n",
       "\" style=\"display:inline;vertical-align:middle;\" /></a><br>(see <a class=\"ProveItLink\" href=\"../../../__pv_it/theorems/c868047125218dfbac66d7c27cb8eb6c8237863e0/dependencies.ipynb\">dependencies</a>)<br>"
      ],
      "text/plain": [
       "less_add_left: forall_{a, b, c in Real | a < b, c <= 0} ((a + c) < b)"
      ]
     },
     "execution_count": 2,
     "metadata": {},
     "output_type": "execute_result"
    }
   ],
   "source": [
    "%proving less_add_left"
   ]
  },
  {
   "cell_type": "code",
   "execution_count": null,
   "metadata": {},
   "outputs": [],
   "source": []
  }
 ],
 "metadata": {
  "kernelspec": {
   "display_name": "Python 3",
   "language": "python",
   "name": "python3"
  }
 },
 "nbformat": 4,
 "nbformat_minor": 0
}