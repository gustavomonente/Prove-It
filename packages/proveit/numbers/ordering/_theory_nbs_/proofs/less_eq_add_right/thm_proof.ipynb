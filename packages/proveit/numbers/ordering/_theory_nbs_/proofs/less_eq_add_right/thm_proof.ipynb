{
 "cells": [
  {
   "cell_type": "markdown",
   "metadata": {},
   "source": [
    "Proof of <a class=\"ProveItLink\" href=\"../../../../../_theory_nbs_/theory.ipynb\">proveit</a>.<a class=\"ProveItLink\" href=\"../../../../_theory_nbs_/theory.ipynb\">numbers</a>.<a class=\"ProveItLink\" href=\"../../theory.ipynb\">ordering</a>.<a class=\"ProveItLink\" href=\"../../theorems.ipynb#less_eq_add_right\">less_eq_add_right</a> theorem\n",
    "========"
   ]
  },
  {
   "cell_type": "code",
   "execution_count": 1,
   "metadata": {},
   "outputs": [],
   "source": [
    "import proveit\n",
    "theory = proveit.Theory() # the theorem's theory"
   ]
  },
  {
   "cell_type": "code",
   "execution_count": 2,
   "metadata": {},
   "outputs": [
    {
     "data": {
      "text/html": [
       "Under these <a href=\"presumptions.txt\">presumptions</a>, we begin our proof of<br><strong id=\"less_eq_add_right\">less_eq_add_right:</strong> <a class=\"ProveItLink\" href=\"../../../__pv_it/theorems/8347d2a91a135f574e21090e61d334e5fb9ac19c0/expr.ipynb\"><img src=\"data:image/png;base64,iVBORw0KGgoAAAANSUhEUgAAARAAAAAWBAMAAAD6Ct6PAAAAMFBMVEX///8QEBCIiIhmZma6urrM\n",
       "zMxUVFQiIiJERETc3Nzu7u6qqqp2dnaYmJgyMjIAAAAcRTyBAAAAAXRSTlMAQObYZgAAA5lJREFU\n",
       "SMe9Vl9IU1EY/3a3ue3ubvOhh0qKi6ZGgYxJRmS1CPKpXC/aQ2BYBv1BfLAC7WFFD5uhjB7Mxws+\n",
       "FEPapcA/ETbyQTGNiwSJlIzIpMQRUZCjou+cc3f/bNcHYXXgO/fsd8+f377v933nApS8eZStwOBN\n",
       "MMuQH+9LSeTRZjB/u8vqxWVmr8j4SymJfC74XRvJw/6g1fzHzIaI16Il5OEzn8ZPixockPPhEA0z\n",
       "BJGaX8KHXEIiroRJGQcVHW6WrIjw5dR8s8nkg1JGxrSZp1M2wNNgRQQ+MvsZi90qJZEqcn5jaCcZ\n",
       "OwfCRvhT5eECIkJlNcAUUOsAiOdnO7LWmzsKgdM02biX6eK5/WjHE/6vZByLGGH+j5RKmIh4emEA\n",
       "YBmonQA+o02fMu05tvfCBzpwmzM/CgJV5DsYpcC48W0vnrgL7FT/tfuMsDcHAdFExJWGq3gMUHMB\n",
       "p5eaNV1Cz+sVToBZsYiIF8n5aei7IUDkN2mK+DYAew5cDHs7a4QzkEIXCtns6u5s9jyCx6h625gJ\n",
       "ikvfZUMbLU4kAYksKYVEfOvYBYiL+R9gQ0LL5pKJJ9qikFKDMnlIh7GMNMsmj2wHAxFPpgUHwzUr\n",
       "RFzfaiQqIdFBfE+IpHUifKgzAtw6XVt5BWdvgEuBOoWpTtRjgP/7haamDg0OKKoL8kT4X/TRpFr8\n",
       "IkLXnTlycg9HCHQ7y/3AiNQHdSIPI22So5dVSwmzwEki0MT+Iy7RVZmSodObLydn7+bhQBjFY/LI\n",
       "bxxqYoWneAPYg05yD7hFHwoXhRYZpkTsl7oNYq2HVuBnaELeISvRIzZxhJ5Dluh6x21uCFqsBiMq\n",
       "XKa4g2YiDcAfAGgEZkTJNpkj4rGF7eeBBr41FouJnHD/jYFIBdSg72ZkGvEGqpFAGEbuAVuiNnQy\n",
       "3149uKcgqwkcmi8oaML8AvYrqvkwbqmEewkfAYnsSJRYxkLjPSdpRPgN6E/isw6n5JBVPmu4NVW8\n",
       "ViXeGjaX+C5mtNkSbadgSHJJi9j7wxAUIkwjswax7nB+p8LENOnxRT19WC1H1TwiS6wvPcu7kJeK\n",
       "Lz21dLY/OQJnZOe1NPae0IIExOFjr9PDR3UiJ/dXsUx9Bi1z4KwAbo7t7pXoErXF9fNWb5IWKYCt\n",
       "PwOMTTb0HGpEe+G2/LTa6ofRJi1exJJlnNcixpZEJkrzqehLMDNChn4zIl7MplgfHbKNxwkgwX9q\n",
       "9n9/xF9wKPVL4GGJyAAAAABJRU5ErkJggg==\n",
       "\" style=\"display:inline;vertical-align:middle;\" /></a><br>(see <a class=\"ProveItLink\" href=\"../../../__pv_it/theorems/141a36453a35a81e276e44b178a8237a47ad46220/dependencies.ipynb\">dependencies</a>)<br>"
      ],
      "text/plain": [
       "less_eq_add_right: forall_{a, b, c in Real | a <= b, 0 <= c} (a <= (b + c))"
      ]
     },
     "execution_count": 2,
     "metadata": {},
     "output_type": "execute_result"
    }
   ],
   "source": [
    "%proving less_eq_add_right"
   ]
  },
  {
   "cell_type": "code",
   "execution_count": null,
   "metadata": {},
   "outputs": [],
   "source": []
  }
 ],
 "metadata": {
  "kernelspec": {
   "display_name": "Python 3",
   "language": "python",
   "name": "python3"
  }
 },
 "nbformat": 4,
 "nbformat_minor": 0
}