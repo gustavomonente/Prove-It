{
 "cells": [
  {
   "cell_type": "markdown",
   "metadata": {},
   "source": [
    "Proof of <a class=\"ProveItLink\" href=\"../../../../../_theory_nbs_/theory.ipynb\">proveit</a>.<a class=\"ProveItLink\" href=\"../../../../_theory_nbs_/theory.ipynb\">numbers</a>.<a class=\"ProveItLink\" href=\"../../theory.ipynb\">ordering</a>.<a class=\"ProveItLink\" href=\"../../theorems.ipynb#greater_eq_add_left\">greater_eq_add_left</a> theorem\n",
    "========"
   ]
  },
  {
   "cell_type": "code",
   "execution_count": 1,
   "metadata": {},
   "outputs": [],
   "source": [
    "import proveit\n",
    "theory = proveit.Theory() # the theorem's theory"
   ]
  },
  {
   "cell_type": "code",
   "execution_count": 2,
   "metadata": {},
   "outputs": [
    {
     "data": {
      "text/html": [
       "Under these <a href=\"presumptions.txt\">presumptions</a>, we begin our proof of<br><strong id=\"greater_eq_add_left\">greater_eq_add_left:</strong> <a class=\"ProveItLink\" href=\"../../../__pv_it/theorems/70d9a298673dc3554383cff5f3377cf07f0617220/expr.ipynb\"><img src=\"data:image/png;base64,iVBORw0KGgoAAAANSUhEUgAAARAAAAAWBAMAAAD6Ct6PAAAAMFBMVEX///8QEBCIiIhmZma6urrM\n",
       "zMxUVFQiIiJERETc3Nzu7u6qqqp2dnaYmJgyMjIAAAAcRTyBAAAAAXRSTlMAQObYZgAAA6hJREFU\n",
       "SMe9Vl1IFFEUPju74+7Ozu76EERJsGhp9IcoVITJRlBPxfpiPQSG/YBRYqBF5sPSD+wawtCC+jiy\n",
       "D8oS7lBQCFGLPhQmMkSQSYb0ByksIgapBZ177/yuI0ZsHTjn3nPn/nz3nO/euQBFF7/K1FFGHFsD\n",
       "EsAsqcwUE8iQpo5SIq3pvhlNC8Ar4swVE8g3TR1FoBuHwUNm0yfUYYB+Esx4EXEEq5ma8tDqjLLi\n",
       "WYvRsooqRiAkY6EUEYhXYroOkAGtPHlBq3hWSKBKITieyfQVMzN9mq4DJBTVKqfvsFJsI/YzwI9E\n",
       "oquYQCo09dfVbC0AMloeA9HIWu88Q9ZcgQkZA8AQJfVvnrzz5J7ChpOzdp8bzenVHk2PSKEFO5A+\n",
       "xTcLQXNk6gax2TlhGeADwFGdyUTGbNM/2XnuI634TEiMZMa+NP89PNZ73GQqbAN33A6kC0oUCLQZ\n",
       "c72lkzyXYRGXQmIBZ94+8+Y5e1qrciKMR+xAIEVJFlLsfjuEZa1hE1P3CnjJ2Ml8/mo+/xVoCwq/\n",
       "oI+sGqdFPQg/AZpwc6rXXGbZqE2NZACBTKsFQCB1F01YsvnCd3ApdiCuOGRjtoi44lYgwouIfo14\n",
       "VikQ/2wjuunKL6TXYiXZmFge8ZCwESA5E4hQ00qmfoB0byq/xNjHfH4ZvKo9NdkcPLefmiydysNS\n",
       "4z+g9/9FQ3Uca8nzuEYHTwLHdXIEQDtfGgIGpLbaBDIYa6LxfzAHVTI5GN5oA/N5LQ8WsmYVaA1I\n",
       "ViBhXFrRyOpvNXK7BAMqJSs8Qozuap4g9UVIPyRZLE2BuC+2W8haC6douU+FW3TkQeCZjxFxRSx8\n",
       "H6NTXRNtEXGfhXQM3DQuQ1EjtVfgNto6ghSncCncWZLGKPam6T6VSCQinHj/jQVIGVSSBO1UCAn2\n",
       "0wbNR46E9amPMxWad/Rut5+aiRlcKRQruAnSe0iSCDGCGO+s5JvGIiwTEISJJSw1gTOyAQSPe08G\n",
       "hJdkxRUKglCb+ZZTs8EVP+j8L9QPtUtqOgH9sleeQou3cLUYYxwZt5B1C7+kCgfpzjuDcX833stu\n",
       "za8w75G1P72Mw0+vQEQ9sZ7mh4ehQeEv59D6a17LcI9caJO5dL0J5NjuCpVnkW2cAL4MUnt3aT43\n",
       "YS6dBMtdvc4zYPg6kQ6jedjeS7FYDjlifPA5Pqv+5mHkkxybk2sebLotGP7nr74NnorvnN8w9jWD\n",
       "FrsekACepkQ3raoF/v8Q979f4jcd7wWf4swypgAAAABJRU5ErkJggg==\n",
       "\" style=\"display:inline;vertical-align:middle;\" /></a><br>(see <a class=\"ProveItLink\" href=\"../../../__pv_it/theorems/3533e3e03333a35cd8cec056bfe51bb820f6d19a0/dependencies.ipynb\">dependencies</a>)<br>"
      ],
      "text/plain": [
       "greater_eq_add_left: forall_{a, b, c in Real | a >= b, c >= 0} ((a + c) >= b)"
      ]
     },
     "execution_count": 2,
     "metadata": {},
     "output_type": "execute_result"
    }
   ],
   "source": [
    "%proving greater_eq_add_left"
   ]
  },
  {
   "cell_type": "code",
   "execution_count": null,
   "metadata": {},
   "outputs": [],
   "source": []
  }
 ],
 "metadata": {
  "kernelspec": {
   "display_name": "Python 3",
   "language": "python",
   "name": "python3"
  }
 },
 "nbformat": 4,
 "nbformat_minor": 0
}