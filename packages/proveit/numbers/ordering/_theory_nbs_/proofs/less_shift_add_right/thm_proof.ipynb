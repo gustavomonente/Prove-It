{
 "cells": [
  {
   "cell_type": "markdown",
   "metadata": {},
   "source": [
    "Proof of <a class=\"ProveItLink\" href=\"../../../../../_theory_nbs_/theory.ipynb\">proveit</a>.<a class=\"ProveItLink\" href=\"../../../../_theory_nbs_/theory.ipynb\">numbers</a>.<a class=\"ProveItLink\" href=\"../../theory.ipynb\">ordering</a>.<a class=\"ProveItLink\" href=\"../../theorems.ipynb#less_shift_add_right\">less_shift_add_right</a> theorem\n",
    "========"
   ]
  },
  {
   "cell_type": "code",
   "execution_count": 1,
   "metadata": {},
   "outputs": [],
   "source": [
    "import proveit\n",
    "theory = proveit.Theory() # the theorem's theory"
   ]
  },
  {
   "cell_type": "code",
   "execution_count": 2,
   "metadata": {},
   "outputs": [
    {
     "data": {
      "text/html": [
       "Under these <a href=\"presumptions.txt\">presumptions</a>, we begin our proof of<br><strong id=\"less_shift_add_right\">less_shift_add_right:</strong> <a class=\"ProveItLink\" href=\"../../../__pv_it/theorems/9f32d04326584daf69e5d5d5b6e19f75f2c55b700/expr.ipynb\"><img src=\"data:image/png;base64,iVBORw0KGgoAAAANSUhEUgAAASEAAAAWBAMAAAB9OzeJAAAAMFBMVEX///8QEBCIiIhmZma6urrM\n",
       "zMxUVFQiIiJERETc3Nzu7u6qqqp2dnaYmJgyMjIAAAAcRTyBAAAAAXRSTlMAQObYZgAAA5pJREFU\n",
       "SMfFVk1oE0EUfs1Pk2w2SQ891IMSI1aPoUWt+Bfw4EmaXvwBoaH+YFEkSj1oe4iCkiDKomB7EbYE\n",
       "VHIwSz1IQSS0h0K0ZalCa0EJYisqrEUQtP7gm5nd7Gy6C20D+uBNZma/b/fLmzdvBqBeC6jY3HN4\n",
       "GJQcCDY2qnuFDN7UoeghupBxetprRxCupG2gjRLz52TwqQ5FH9HDktPTR7aEcNwGKlSYD5E4ZtYu\n",
       "KERe/tKyUlFuIHKDZ0mDEFH0qRGeOMY8LCNNWbsiHwnPJUdFQlO1O7OzSuiU7RQNMw+VC4XBOhaN\n",
       "cANpR0Xw3uhsKZuECbBTFE4w/57NDtShaBO6i6zcnfGNslWRGNsMMK7HaiLKERZiu2oUjcWSIOJr\n",
       "iJ8EyBnzHs3hu4masQm8ie7H/exZB1+sMQr0wy2At0zQDpUjCH/komRRNKj4KxDCtCa+nya4buOW\n",
       "7z7Zevwd61lT3yObwH6SGpiHwyp0WBX5SnAG30H758xMRUJwCSJRi6IBaFQgiItP3Acus2R9NlPy\n",
       "abvqEqEcXa7Ie50DNqM3YAj3yXCBrJSmfdigaSmgM2jd9GWcIiS4K1AsAUxp2nlNW8A59xJ97yJz\n",
       "UfWZH/tR7c2OFgAVzanLFAVOSxzQUNQCwjdrjFqgqggC5qo103LUqfAxasjwigKVQzjKt86Tua+t\n",
       "Mk3JqIckK1FU4hRRkNCRrALNVRN+QXDRoghniB2ozWwkRFQ9gIaiIv2KJ80ccieQcNFLAue6TLdN\n",
       "n7cpDExRe9xUREHCVMIEmpkt/ITGyqglRr+xa2Q2t/uREEkI6y17DSWCUs1seIyy3HEvEeePkhl3\n",
       "BpJ5qsh9qo/LbArqouFnQGMvkC17FWZSJYui7SBsA9hdWyGR0Kj64xZF7hTkk+BGPnGa9g2KK0UT\n",
       "Ap/hAOBwNpuNusTbrzhFFCTSkseAxqqQUN+PHe1JWBSJk9PYzteeIkgQ2iZrKuSLN0gKJ5lDCJe0\n",
       "KPnn8CciEzURcgizVQsek01FDJS/BgZwJadI2vbYsa3ZD3RnyS51H4Qh2SfPYouVPC4mWR6Vucym\n",
       "IIC7WFAJ0OmkFWSHk5YjGFawOWn1mtczsge6FO/ZEraBtmkZbpAKOVXK7zUVURDaUC8QoG6k4PtX\n",
       "cxvJOUCN2whvCte6MI/MJ9aafURa8Y0tZ3/FszPyt2r+GruC2l1EIbPGW21oFbfa17rzdK5duaL/\n",
       "ZPF/96m/aOoSWFKR3/EAAAAASUVORK5CYII=\n",
       "\" style=\"display:inline;vertical-align:middle;\" /></a><br>(see <a class=\"ProveItLink\" href=\"../../../__pv_it/theorems/1a6cb2989fbc4ca52545fd7e9593a0dde5af088e0/dependencies.ipynb\">dependencies</a>)<br>"
      ],
      "text/plain": [
       "less_shift_add_right: forall_{a, b, c in Real | a < b} ((a + c) < (b + c))"
      ]
     },
     "execution_count": 2,
     "metadata": {},
     "output_type": "execute_result"
    }
   ],
   "source": [
    "%proving less_shift_add_right"
   ]
  },
  {
   "cell_type": "code",
   "execution_count": null,
   "metadata": {},
   "outputs": [],
   "source": []
  }
 ],
 "metadata": {
  "kernelspec": {
   "display_name": "Python 3",
   "language": "python",
   "name": "python3"
  }
 },
 "nbformat": 4,
 "nbformat_minor": 0
}