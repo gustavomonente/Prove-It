{
 "cells": [
  {
   "cell_type": "markdown",
   "metadata": {},
   "source": [
    "Proof of <a class=\"ProveItLink\" href=\"../../../../../_theory_nbs_/theory.ipynb\">proveit</a>.<a class=\"ProveItLink\" href=\"../../../../_theory_nbs_/theory.ipynb\">numbers</a>.<a class=\"ProveItLink\" href=\"../../theory.ipynb\">ordering</a>.<a class=\"ProveItLink\" href=\"../../theorems.ipynb#less_than_successor\">less_than_successor</a> theorem\n",
    "========"
   ]
  },
  {
   "cell_type": "code",
   "execution_count": 1,
   "metadata": {},
   "outputs": [],
   "source": [
    "import proveit\n",
    "theory = proveit.Theory() # the theorem's theory"
   ]
  },
  {
   "cell_type": "code",
   "execution_count": 2,
   "metadata": {},
   "outputs": [
    {
     "data": {
      "text/html": [
       "Under these <a href=\"presumptions.txt\">presumptions</a>, we begin our proof of<br><strong id=\"less_than_successor\">less_than_successor:</strong> <a class=\"ProveItLink\" href=\"../../../__pv_it/theorems/5aae5c874182297b81916382ddebc9b6a7c27aa50/expr.ipynb\"><img src=\"data:image/png;base64,iVBORw0KGgoAAAANSUhEUgAAAKkAAAAUBAMAAAAErwC3AAAAMFBMVEX///8QEBCIiIhmZma6urrM\n",
       "zMxUVFQiIiJERETc3Nzu7u6qqqp2dnaYmJgyMjIAAAAcRTyBAAAAAXRSTlMAQObYZgAAAg1JREFU\n",
       "OMtjYMAHOC+QIgwEO6H4AYhzF4eiFSQJAwHbBAg+DeK8wqHoJSnC3FIMDFwPIHgGyEcN2HXzGqBr\n",
       "fIopzK0AoZcd+wUkD0Ew3wIGBp4N2E1ln4BmS/EETGGYqQy8IFMXQjDvqVWrpuMIADRxppoFWIRR\n",
       "TeVzgOAfHR01OExVBoWOjZEUhLemCKswqqk8BhCcysDQicPUXiB2nMD3AcxZXItVGM1U3gcQ7AyO\n",
       "NDjYrpH8CMauBkaoLAMzOC7ZXjNgE0Y3lbsAgtkZmGCJmmuP8QUmHoZTMHUiDAzMvxjYwdxlCFOR\n",
       "hHnevXsu9+5dAtxU1g8QzHOBHab8xs5VDEBTb11AaGdsYFgfAOZMrmXAJozmVpipnA/CQKGm9pSB\n",
       "BZQOQaYeQHh1/QGG/QxosYUqjGoqSwEEM3SmAP1eyvqLgY8BYqqxASJa1m9gyOOegJqyUIWxxxbD\n",
       "ZqDRzAasBQyLwVqZ00pgXj3MwMChwFvGg5YLUIXhpjKBTGU+AMEM/EBhxg1MCQzhHR0dCkw8k67A\n",
       "THEHeiJJdZoKWo5FFYaZypz4zxaYAwIgmIEX6K/1EzhuLWCDhAB3zAIcORarMNytYLAcisGAcUK8\n",
       "LwNPACRcTx3AVbpgE+ZagMyDli4QwJK0Cej8blAuOHdgsR1MGEem68RZvsJKQpTiAxiulJXaHBMg\n",
       "mLo1zE0IBgDq9KFIweGD4AAAAABJRU5ErkJggg==\n",
       "\" style=\"display:inline;vertical-align:middle;\" /></a><br>(see <a class=\"ProveItLink\" href=\"../../../__pv_it/theorems/005f476200632027490ee7969314331239f0956a0/dependencies.ipynb\">dependencies</a>)<br>"
      ],
      "text/plain": [
       "less_than_successor: forall_{a in Real} (a < (a + 1))"
      ]
     },
     "execution_count": 2,
     "metadata": {},
     "output_type": "execute_result"
    }
   ],
   "source": [
    "%proving less_than_successor"
   ]
  },
  {
   "cell_type": "code",
   "execution_count": null,
   "metadata": {},
   "outputs": [],
   "source": []
  }
 ],
 "metadata": {
  "kernelspec": {
   "display_name": "Python 3",
   "language": "python",
   "name": "python3"
  }
 },
 "nbformat": 4,
 "nbformat_minor": 0
}