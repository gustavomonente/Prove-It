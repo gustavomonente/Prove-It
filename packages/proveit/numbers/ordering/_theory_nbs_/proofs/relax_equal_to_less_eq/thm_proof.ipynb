{
 "cells": [
  {
   "cell_type": "markdown",
   "metadata": {},
   "source": [
    "Proof of <a class=\"ProveItLink\" href=\"../../../../../_theory_nbs_/theory.ipynb\">proveit</a>.<a class=\"ProveItLink\" href=\"../../../../_theory_nbs_/theory.ipynb\">numbers</a>.<a class=\"ProveItLink\" href=\"../../theory.ipynb\">ordering</a>.<a class=\"ProveItLink\" href=\"../../theorems.ipynb#relax_equal_to_less_eq\">relax_equal_to_less_eq</a> theorem\n",
    "========"
   ]
  },
  {
   "cell_type": "code",
   "execution_count": 1,
   "metadata": {},
   "outputs": [],
   "source": [
    "import proveit\n",
    "theory = proveit.Theory() # the theorem's theory"
   ]
  },
  {
   "cell_type": "code",
   "execution_count": 2,
   "metadata": {},
   "outputs": [
    {
     "data": {
      "text/html": [
       "Under these <a href=\"presumptions.txt\">presumptions</a>, we begin our proof of<br><strong id=\"relax_equal_to_less_eq\">relax_equal_to_less_eq:</strong> <a class=\"ProveItLink\" href=\"../../../__pv_it/theorems/c7ff46b8877af9bff060396d7cf78d34d43399a60/expr.ipynb\"><img src=\"data:image/png;base64,iVBORw0KGgoAAAANSUhEUgAAALYAAAAWBAMAAACfwnvZAAAAMFBMVEX///8QEBCIiIhmZma6urrM\n",
       "zMxUVFQiIiJERETc3Nzu7u6qqqp2dnaYmJgyMjIAAAAcRTyBAAAAAXRSTlMAQObYZgAAAqZJREFU\n",
       "OMutlV1o01AUx/9rk7bJ0nUIvvgULYwyFIpDn+aoHTgEPzofxLeV4pCBjlE2/KCTMXCkyKQg6BiI\n",
       "YYjgnLMgIvgUOnywihYUfFEJuPmgToog6ETw5DZpk86uI3ognJxzkx/3nq8L/IvcaLzUmgN04+Wd\n",
       "O7Q4scHiEPDM0J/csdtydQ7PWO19EZghJUy4Y7+qsxfSNkOS0aaSyrtjn3eaV8cdAWtHsDg/f90d\n",
       "WhhxmNc+O5eXgR+KknHH9kRpdzuG4gVmnVi2/HO7IWwDloBBILsBgGu8FChRiPFGvsiMS1W/th+e\n",
       "MvAe6IWor6/O9FSPXAE0ZvspTUW8VA+yQ6RVK1T5HgSoOh7RF/CUnP/cXdoHWZPmmrFbYoAKxbSC\n",
       "GRMuYgtCtLEBKpKS3/lL8PKsSuzgvc2wgW/Vs34wy51bw0CCsQX9ONmFPR1kch3wq73GOrEXbGwp\n",
       "fGzQRMSTuFCLCfjvtdR8TDDt1bGdVB892ZMULXXYT7uQQmp/ZQrImrfLxu706aM+hWQa2hrfXsvl\n",
       "Y8papwXnFXaSQBJTYLnEAypTHquGd7YPETHK2HtPxWzsRJuVE+HWiMdsYykK7legLNTSJbDDeZPc\n",
       "b1Ld9IRYQfxki91I8ecUZRLy0112NkLV0eHVfLIZgxGIqc7wukEnpsIGbcXInZFfvswb7lFsRbIS\n",
       "k4dFO3sACd9XklX4Yy2Jv/d8TSjiEK2uvSnpEmZUjHFlPKmwJVsuhfILaFZVJ442mlWmDON+jM2q\n",
       "itx+XSiiP48DER0BSn9r5ovYpVfZ4plDO63W4FJXqo1pm7GLZw1hM3Yck5UZa5e8mDNyH1EmbY1d\n",
       "v6s7mG5yN8TDRtCyddeQTzuybmjUO05z+mbutKDz3giCe6s1ZR9+jv8lXve//gEgoaY7kv3lxAAA\n",
       "AABJRU5ErkJggg==\n",
       "\" style=\"display:inline;vertical-align:middle;\" /></a><br>(see <a class=\"ProveItLink\" href=\"../../../__pv_it/theorems/8f808d1c067b8d7fd3e3ac6049d45e205cc30d410/dependencies.ipynb\">dependencies</a>)<br>"
      ],
      "text/plain": [
       "relax_equal_to_less_eq: forall_{x, y in Real | x = y} (x <= y)"
      ]
     },
     "execution_count": 2,
     "metadata": {},
     "output_type": "execute_result"
    }
   ],
   "source": [
    "%proving relax_equal_to_less_eq"
   ]
  },
  {
   "cell_type": "code",
   "execution_count": null,
   "metadata": {},
   "outputs": [],
   "source": []
  }
 ],
 "metadata": {
  "kernelspec": {
   "display_name": "Python 3",
   "language": "python",
   "name": "python3"
  }
 },
 "nbformat": 4,
 "nbformat_minor": 0
}