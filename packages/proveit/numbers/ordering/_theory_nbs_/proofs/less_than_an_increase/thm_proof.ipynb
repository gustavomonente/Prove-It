{
 "cells": [
  {
   "cell_type": "markdown",
   "metadata": {},
   "source": [
    "Proof of <a class=\"ProveItLink\" href=\"../../../../../_theory_nbs_/theory.ipynb\">proveit</a>.<a class=\"ProveItLink\" href=\"../../../../_theory_nbs_/theory.ipynb\">numbers</a>.<a class=\"ProveItLink\" href=\"../../theory.ipynb\">ordering</a>.<a class=\"ProveItLink\" href=\"../../theorems.ipynb#less_than_an_increase\">less_than_an_increase</a> theorem\n",
    "========"
   ]
  },
  {
   "cell_type": "code",
   "execution_count": 1,
   "metadata": {},
   "outputs": [],
   "source": [
    "import proveit\n",
    "theory = proveit.Theory() # the theorem's theory"
   ]
  },
  {
   "cell_type": "code",
   "execution_count": 2,
   "metadata": {},
   "outputs": [
    {
     "data": {
      "text/html": [
       "Under these <a href=\"presumptions.txt\">presumptions</a>, we begin our proof of<br><strong id=\"less_than_an_increase\">less_than_an_increase:</strong> <a class=\"ProveItLink\" href=\"../../../__pv_it/theorems/39bfd01772c13a14a779617adcca6b9437fd798b0/expr.ipynb\"><img src=\"data:image/png;base64,iVBORw0KGgoAAAANSUhEUgAAANUAAAAWBAMAAAClEsSqAAAAMFBMVEX///8QEBCIiIhmZma6urrM\n",
       "zMxUVFQiIiJERETc3Nzu7u6qqqp2dnaYmJgyMjIAAAAcRTyBAAAAAXRSTlMAQObYZgAAAw9JREFU\n",
       "SMe9VltoE0EUvU2a1z6SHz/Uoqyt2v4IoYGqaGvED7+0+aoIQkN9gR+l1Ac++hH7IVuLsCioCMLW\n",
       "gkqtJCgiBdHFIMX4IKBQLSiLoKJI9EeQKOK9O5vHrBtsijpwdjLD5J6Ze87cXYB5tIvu06F8jfVT\n",
       "NkwavKqLSki5z191W3t8AMCvMTyimY91cYU19/kProujSGgynKfDp+rieuacuJugpxytnhMV1kcy\n",
       "+LjPENYBpExdXEcc45m1VhfQ3Li6MT6MMci5iYlzdVGFBvhxa471fJQS17SVyDjDN1UdmgODUf7l\n",
       "oVydyS7TmfjTdlBooX2sb1/Mc71rXoeJizLsBhiZA1dFjCBau3ERfGZUq8tGP4XYqIW/cFzCTz2t\n",
       "gYzGIGyyLPJb22rW4gqgumN5WGMN+itSH8PIS8Cb4rjEIkQUEDHthAB4qu/g7badb6iX7ODi4Iku\n",
       "heNqwMRv0GHQ2nYV1wIAbxECtFgqFN4vLRSSOGNC2gAfHpYg5QPli3cnlvdIkKPlYQpyLdsJiiFd\n",
       "gmxsfyxTxbUQhK/MKJUcIldDCtIJ7lx4vbozZa6Q2VNa/WJqApBrlv4eQQfLoxd05JKvO3Mo/ADR\n",
       "1qXiDcwhHuEe78NInnLQiPkjwMgufIyvfAuNFI+4yHO9zftQSmzINen0hvAd/OaUw/PojXQG+kWN\n",
       "44qjhmVvwE0kFA76ihAGxhWjuK16C6uViuGNcVyk5DDMJA3HXc7iNhT5kMSdy58P4nKvwUA+AW/U\n",
       "NwDjFpd3zwHqh+G1YMVXOvbGOS5KxuXm7X1xR43ajFvuW3F2Oe/59iekWoIBZLyUDRlPErapqqp4\n",
       "pNPPmdIdvsOqOgzKw1UUNVG7RpV0dK1RVrtiw2ppLTir+1kOxR1UEYrQBEmWw1u5P9Re1vjaK+hV\n",
       "A7v22j7WereAlGB65YzQSTgqp+AB45Im+aDBGu+UmuWn9E6xNei70QkwSnf5qTHe5WuCnscYFK+U\n",
       "OPRJiJnzfleWN+fcoAf1srPNujbU6y98A7y0UfsL4X+1/L8I+gvBwdJVGLE+eQAAAABJRU5ErkJg\n",
       "gg==\n",
       "\" style=\"display:inline;vertical-align:middle;\" /></a><br>(see <a class=\"ProveItLink\" href=\"../../../__pv_it/theorems/598e2724d86c60bdade6703eb0b44cd459fd5b2b0/dependencies.ipynb\">dependencies</a>)<br>"
      ],
      "text/plain": [
       "less_than_an_increase: forall_{a in Real, b in RealPos} (a < (a + b))"
      ]
     },
     "execution_count": 2,
     "metadata": {},
     "output_type": "execute_result"
    }
   ],
   "source": [
    "%proving less_than_an_increase"
   ]
  },
  {
   "cell_type": "code",
   "execution_count": null,
   "metadata": {},
   "outputs": [],
   "source": []
  }
 ],
 "metadata": {
  "kernelspec": {
   "display_name": "Python 3",
   "language": "python",
   "name": "python3"
  }
 },
 "nbformat": 4,
 "nbformat_minor": 0
}