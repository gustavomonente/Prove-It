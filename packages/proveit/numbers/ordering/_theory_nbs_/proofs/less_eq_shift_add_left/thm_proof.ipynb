{
 "cells": [
  {
   "cell_type": "markdown",
   "metadata": {},
   "source": [
    "Proof of <a class=\"ProveItLink\" href=\"../../../../../_theory_nbs_/theory.ipynb\">proveit</a>.<a class=\"ProveItLink\" href=\"../../../../_theory_nbs_/theory.ipynb\">numbers</a>.<a class=\"ProveItLink\" href=\"../../theory.ipynb\">ordering</a>.<a class=\"ProveItLink\" href=\"../../theorems.ipynb#less_eq_shift_add_left\">less_eq_shift_add_left</a> theorem\n",
    "========"
   ]
  },
  {
   "cell_type": "code",
   "execution_count": 1,
   "metadata": {},
   "outputs": [],
   "source": [
    "import proveit\n",
    "theory = proveit.Theory() # the theorem's theory"
   ]
  },
  {
   "cell_type": "code",
   "execution_count": 2,
   "metadata": {},
   "outputs": [
    {
     "data": {
      "text/html": [
       "Under these <a href=\"presumptions.txt\">presumptions</a>, we begin our proof of<br><strong id=\"less_eq_shift_add_left\">less_eq_shift_add_left:</strong> <a class=\"ProveItLink\" href=\"../../../__pv_it/theorems/208136edb540f4f0499461365154decfe68cf6060/expr.ipynb\"><img src=\"data:image/png;base64,iVBORw0KGgoAAAANSUhEUgAAASEAAAAWBAMAAAB9OzeJAAAAMFBMVEX///8QEBCIiIhmZma6urrM\n",
       "zMxUVFQiIiJERETc3Nzu7u6qqqp2dnaYmJgyMjIAAAAcRTyBAAAAAXRSTlMAQObYZgAAA6xJREFU\n",
       "SMfFVkloFEEU/ZnJbD0zGQ8e9KC0EaN4kEFxw23AQ06a9uICQgY1gigSRRGXwygeJogyKGguQoeA\n",
       "yhCcJh40IGFIDoFoQqOCGkgYxAUVWxEEd/y/qpfqzrTGDOiHX11d9X716/qvFoBaLaZjcdWnM17w\n",
       "CahifaZX6GW8BkY30KWcX+++6gEek063A4QL3O9Ry5saGL1Gbyj49d4U6gsVO8BrDWmkVeHeSfOY\n",
       "mz6hJI4FD8VEyWJ3wn6ThmQnwLJe85nSsBjg3qBimDZ9RhGanuO+jKQZlnpW6kKAl1ELsoAu7snh\n",
       "YvFKDUmj2Fi7LyN4bhI6qAkBkxgNsdRluH/O50/VwGg+eoASkWhc4GZ0aXAe/vkgq4cuZMQAGGhU\n",
       "XIxeNq7BEdLc2wA6LHS94fPdjOfdAZ5Hj2JCYifhgotR/Wx4j48J9pJXQAy4okUrIiPpp1oqQBLb\n",
       "yDcygZs26Pru7UW7n/GaW/p3BOBJkgZmJFKG/S5GXTqsojH4MlsMYsApCGsio/hXSMkQx+STRyDg\n",
       "bFlvHUneXaYHEjAsT2bULwvAmeh1OIUbVLa0DOPVXMPIAms4jI9WDns8LAQEv7LaqGEcMoyXWAtW\n",
       "oFSG0AdgntAjzse+2LUnfUVARmP6JEYTugi0GM3yKnsWSJ8cRtC/2gmoy3mUjdtRi2YzilW2Ylt3\n",
       "0wsS4McmlYlUriexEqOywIiBlugO0Mma9N3DCBviODo0W+2b2+yAUtnDKKXTlNZjxsihYw/GHw3R\n",
       "TAZOsGVzJDSjATijZWmHEQM1MwGYQEHZP5CLi9E3CFf6LGWTbT9rBSABcOkolZHmgK1suIW0gukQ\n",
       "kYvK1BLMgdLNvhvce0RQNgP1sHE50FoLtGRXgLTclbUz8DiLc7HWSfdlxQwIZqHbtfrDehSHCJa5\n",
       "k8qhTgtkmSAQjC8A2/L5vBxIXHwkMOKgnnM2EMys0FQnRh64dXStcccu1NcL70ZCAffHZVfWpKUj\n",
       "pCaFOyRREaVCdAwfKZXYpOgQ5lmL71QdRiYo8NYCTuUUaa967Hj3bGbXTWdWV2jdBJ1qRH2CJe7k\n",
       "6YTCdTQsKJuB6BfeAQF9TlpJrX7Suo5my4pij3nSmhvsrt51sEULHShjGVv6QAXKze3Rcvd6hxED\n",
       "sWlQCWgabfjRP9xGpFfHyBQ7oJpZtxHRNKEMoI6cntx0b2wdU7qxMaPf8vwav4JWu4j+jtFvb7XJ\n",
       "v7jVPjVdDBdKX0Z3cBHmVfjvlv53n/oF8RMXvCj5cRAAAAAASUVORK5CYII=\n",
       "\" style=\"display:inline;vertical-align:middle;\" /></a><br>(see <a class=\"ProveItLink\" href=\"../../../__pv_it/theorems/d7a65b0124bc8c13374627bfeaabd1cde2602b9a0/dependencies.ipynb\">dependencies</a>)<br>"
      ],
      "text/plain": [
       "less_eq_shift_add_left: forall_{a, b, c in Real | a <= b} ((c + a) <= (c + b))"
      ]
     },
     "execution_count": 2,
     "metadata": {},
     "output_type": "execute_result"
    }
   ],
   "source": [
    "%proving less_eq_shift_add_left"
   ]
  },
  {
   "cell_type": "code",
   "execution_count": null,
   "metadata": {},
   "outputs": [],
   "source": []
  }
 ],
 "metadata": {
  "kernelspec": {
   "display_name": "Python 3",
   "language": "python",
   "name": "python3"
  }
 },
 "nbformat": 4,
 "nbformat_minor": 0
}