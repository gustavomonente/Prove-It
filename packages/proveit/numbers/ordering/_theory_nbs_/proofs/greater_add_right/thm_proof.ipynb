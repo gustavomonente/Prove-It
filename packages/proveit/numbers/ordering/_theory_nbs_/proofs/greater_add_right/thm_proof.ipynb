{
 "cells": [
  {
   "cell_type": "markdown",
   "metadata": {},
   "source": [
    "Proof of <a class=\"ProveItLink\" href=\"../../../../../_theory_nbs_/theory.ipynb\">proveit</a>.<a class=\"ProveItLink\" href=\"../../../../_theory_nbs_/theory.ipynb\">numbers</a>.<a class=\"ProveItLink\" href=\"../../theory.ipynb\">ordering</a>.<a class=\"ProveItLink\" href=\"../../theorems.ipynb#greater_add_right\">greater_add_right</a> theorem\n",
    "========"
   ]
  },
  {
   "cell_type": "code",
   "execution_count": 1,
   "metadata": {},
   "outputs": [],
   "source": [
    "import proveit\n",
    "theory = proveit.Theory() # the theorem's theory"
   ]
  },
  {
   "cell_type": "code",
   "execution_count": 2,
   "metadata": {},
   "outputs": [
    {
     "data": {
      "text/html": [
       "Under these <a href=\"presumptions.txt\">presumptions</a>, we begin our proof of<br><strong id=\"greater_add_right\">greater_add_right:</strong> <a class=\"ProveItLink\" href=\"../../../__pv_it/theorems/9613f3a8f1af29a441b6486ce7dc1f700a08222a0/expr.ipynb\"><img src=\"data:image/png;base64,iVBORw0KGgoAAAANSUhEUgAAARAAAAAWBAMAAAD6Ct6PAAAAMFBMVEX///8QEBCIiIhmZma6urrM\n",
       "zMxUVFQiIiJERETc3Nzu7u6qqqp2dnaYmJgyMjIAAAAcRTyBAAAAAXRSTlMAQObYZgAAA5pJREFU\n",
       "SMe9Vk1oE0EUftlkm2SzSXrowVqU0NoqeAktFtGqEaGetPFg60FoqT/4RylaPbQ9VK2SWCqLh9rj\n",
       "YA5KKCYoVAuiwR6U2pZQPJSiUsTWPxpEFGxR8c3MJvuTBCysDrzZybeZN9++982bAbC8udOrgcGj\n",
       "cJunP15bSeROMVi62FnoxUluL+j4k5VEPhaFfcFCL+5yG6ZR67OQh1dbTVoywv5kNh0B3QQ5wMxH\n",
       "8JG0kIhT0cYjZw1wEylERCpl5p2Ix29amRmDM6GX6OBnUIgIvOP2IxLptZJIFc11Q+1aNSPniAYv\n",
       "Vm43EZErqwHGgdkxgGjWiSNT2LnDDOxnm014msr/7yDabsX3Jfvxi0oWln6ThGIg4u6B6wBvgNke\n",
       "kOZzXsYNPh9sOvKWDVxaNQjzL2GKfAWj0KiYiPTgiuvAntO/Y5GosGcF/AEDEWcKTuMywMwJglZq\n",
       "PmsSelSXFmSYCBiJSCfYwj4m7y7wE3d92EikDMC+As6cChwfSBaehwSGUM5k3q/PZNoQ3MVetXKT\n",
       "007Ny3JuNDsWByQylzYSAfdVysRPO+k72JLg3ho2E7H1QSJsSk0ZKyNNSUNE1oCOiHu+GQexmgXs\n",
       "xa81hEko4KCxp0RSGhGptgPdi5fxL62Vp3C0DE7kKT0PsSlaavC7n4BJrAj702oIskSkn+yxV7Xo\n",
       "UYTOiyt05W6BEugSS33AidQFNSK3w63UjwN1s5HgLhDVDEjThE7RxJpIQodHMW5fhP0hFI8hIr9w\n",
       "mBMr3McTwB4U6TngCnhRuCi0cIy5sR/v0om1Dlr4V5bDJToTI2KjHoUlNkXTO7q5IJsKGsIlaVfQ\n",
       "SKQepC0ADcCNKtmWFKh4bCF7G/0B0BKJRAKCfOOljkgF1LDn4wBmvJ5pxI9ZuTXAp6gNgyy1Vw9t\n",
       "MJV4CtdOmQqaPDWD/YJqXoxeQnHN4cNPqEeqxBKeGs9hkiMiLcNgnNaQCYAVZMV3DYz0Z8WbX+KL\n",
       "VH5Tie/kxppNad0Hw8RJZrH3hSAoh7lGJnRiLRe/oTYPbcNht7fPfQ2r5SjE+tl2xin5h16RsxDX\n",
       "JfmHnrrZ2+/tgANJ8UwKe3ftDIEBWmWmU7GdGpHGzVVpGKLXB2ieBLEChMkgHOSbmk5RW7RwdY4W\n",
       "OxPUa4C+JXW9gBrJvdDqiHhFi+9qL0ZQnGE079KW7Y3NVcjBmDVXRa/CTQ/p+r8gwh0/xO0VIfCf\n",
       "mv3fL/EHsgvxM3UK2D0AAAAASUVORK5CYII=\n",
       "\" style=\"display:inline;vertical-align:middle;\" /></a><br>(see <a class=\"ProveItLink\" href=\"../../../__pv_it/theorems/d95a810ff668dc1b563dc2fc8a3de60004a4882c0/dependencies.ipynb\">dependencies</a>)<br>"
      ],
      "text/plain": [
       "greater_add_right: forall_{a, b, c in Real | a > b, 0 >= c} (a > (b + c))"
      ]
     },
     "execution_count": 2,
     "metadata": {},
     "output_type": "execute_result"
    }
   ],
   "source": [
    "%proving greater_add_right"
   ]
  },
  {
   "cell_type": "code",
   "execution_count": null,
   "metadata": {},
   "outputs": [],
   "source": []
  }
 ],
 "metadata": {
  "kernelspec": {
   "display_name": "Python 3",
   "language": "python",
   "name": "python3"
  }
 },
 "nbformat": 4,
 "nbformat_minor": 0
}