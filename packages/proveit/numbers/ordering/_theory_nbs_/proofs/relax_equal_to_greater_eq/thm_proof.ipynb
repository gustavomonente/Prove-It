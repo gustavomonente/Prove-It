{
 "cells": [
  {
   "cell_type": "markdown",
   "metadata": {},
   "source": [
    "Proof of <a class=\"ProveItLink\" href=\"../../../../../_theory_nbs_/theory.ipynb\">proveit</a>.<a class=\"ProveItLink\" href=\"../../../../_theory_nbs_/theory.ipynb\">numbers</a>.<a class=\"ProveItLink\" href=\"../../theory.ipynb\">ordering</a>.<a class=\"ProveItLink\" href=\"../../theorems.ipynb#relax_equal_to_greater_eq\">relax_equal_to_greater_eq</a> theorem\n",
    "========"
   ]
  },
  {
   "cell_type": "code",
   "execution_count": 1,
   "metadata": {},
   "outputs": [],
   "source": [
    "import proveit\n",
    "theory = proveit.Theory() # the theorem's theory"
   ]
  },
  {
   "cell_type": "code",
   "execution_count": 2,
   "metadata": {},
   "outputs": [
    {
     "data": {
      "text/html": [
       "Under these <a href=\"presumptions.txt\">presumptions</a>, we begin our proof of<br><strong id=\"relax_equal_to_greater_eq\">relax_equal_to_greater_eq:</strong> <a class=\"ProveItLink\" href=\"../../../__pv_it/theorems/5e5ea0c22a3e45455d8c60142a2a17ac64e853f80/expr.ipynb\"><img src=\"data:image/png;base64,iVBORw0KGgoAAAANSUhEUgAAALYAAAAWBAMAAACfwnvZAAAAMFBMVEX///8QEBCIiIhmZma6urrM\n",
       "zMxUVFQiIiJERETc3Nzu7u6qqqp2dnaYmJgyMjIAAAAcRTyBAAAAAXRSTlMAQObYZgAAAqVJREFU\n",
       "OMutlV1o01AUx/9r049k6ToEX3yKFmYpCsWhgsxRO3AIOjsfxLeWoshAx5ANP5gyiowUmRQEHQMx\n",
       "DPFjzlkQEXyQ0CFiFR0o7GVKHvRFnRRB0InguemSJu26juiBcO85J/lxc74u8C9yvb6rOQdobPPe\n",
       "GVoYWcXZB7xk62dn7JZcZX97V5VzBhinhR9xxn5rVZ722Z2ihBaFlrwz9lmb1nPMHrBWBIpTU9ec\n",
       "ofkBu37kok39CPyU5WFnbFeUTrepL14wDFe/6MvkNvAbgFmA/iS7CoCr7/LPAdOYly6Ylit6lNQ9\n",
       "cJWAD0AXBK22Ok+NdkplQH22j9JUxBtln2mZj7JQ5Tvhp+p4TG/ANWf/5t7sbkiqONmI3RQDFMgV\n",
       "w+ainkSsQ5AOlqQimfPZPwlcmlCIHbi/Fjbw3SyM59JyGJeQTOhsXjtMemF7G6lcG3xKF/MTe9rC\n",
       "FkOHjAqLp3CuEhN4fhhVs9P4fbeGjbR005M9SilX+n10CjGo9JangKS62y3siFcb9MokY1CXPK2V\n",
       "XD6hrEV0dL/ZJP4URqHnEg+pTD1YZNaJboSFqM7ecTxmYSdajEPxNwdcy20sRsH99pd43XUnZsbK\n",
       "neL+0NJBT1AP0y/d3IG054wsZyC92GplI2iODrfqNeI6ACEdCdUMOiEdYrRPLHcKC1vJw8yDWI9U\n",
       "OSaPilZ2EgnvN5JF+GJNiRV73iIUcQhG194QNRHjCoa4Ep6V2aIll3zpNVSjqhMHV5xVFenHg5g+\n",
       "q8py612hiN489oY1+CkpzcNfhXbNZAsn929RjEZNXzaTZpmxM6eZDLHteWTKM9YqeSHHch+WM5bG\n",
       "rj7VXYw1uBviIRa0bNU15FV7aoZGteEEp63lTgvk7Cq4BbUh+8Ar/C9xO//0L8dDpkjFvP8/AAAA\n",
       "AElFTkSuQmCC\n",
       "\" style=\"display:inline;vertical-align:middle;\" /></a><br>(see <a class=\"ProveItLink\" href=\"../../../__pv_it/theorems/c8621adc6eace3a2b074f29626efa3630201324b0/dependencies.ipynb\">dependencies</a>)<br>"
      ],
      "text/plain": [
       "relax_equal_to_greater_eq: forall_{x, y in Real | x = y} (x >= y)"
      ]
     },
     "execution_count": 2,
     "metadata": {},
     "output_type": "execute_result"
    }
   ],
   "source": [
    "%proving relax_equal_to_greater_eq"
   ]
  },
  {
   "cell_type": "code",
   "execution_count": null,
   "metadata": {},
   "outputs": [],
   "source": []
  }
 ],
 "metadata": {
  "kernelspec": {
   "display_name": "Python 3",
   "language": "python",
   "name": "python3"
  }
 },
 "nbformat": 4,
 "nbformat_minor": 0
}