{
 "cells": [
  {
   "cell_type": "markdown",
   "metadata": {},
   "source": [
    "Proof of <a class=\"ProveItLink\" href=\"../../../../../_theory_nbs_/theory.ipynb\">proveit</a>.<a class=\"ProveItLink\" href=\"../../../../_theory_nbs_/theory.ipynb\">numbers</a>.<a class=\"ProveItLink\" href=\"../../theory.ipynb\">ordering</a>.<a class=\"ProveItLink\" href=\"../../theorems.ipynb#less_is_not_eq\">less_is_not_eq</a> theorem\n",
    "========"
   ]
  },
  {
   "cell_type": "code",
   "execution_count": 1,
   "metadata": {},
   "outputs": [],
   "source": [
    "import proveit\n",
    "theory = proveit.Theory() # the theorem's theory"
   ]
  },
  {
   "cell_type": "code",
   "execution_count": 2,
   "metadata": {},
   "outputs": [
    {
     "data": {
      "text/html": [
       "Under these <a href=\"presumptions.txt\">presumptions</a>, we begin our proof of<br><strong id=\"less_is_not_eq\">less_is_not_eq:</strong> <a class=\"ProveItLink\" href=\"../../../__pv_it/theorems/8199e4865514206e73185f50fdfeab2e27bb9a6c0/expr.ipynb\"><img src=\"data:image/png;base64,iVBORw0KGgoAAAANSUhEUgAAALAAAAAWCAMAAABXLOafAAAAOVBMVEX///8kJCQNDQ0oKCgQEBCI\n",
       "iIhmZma6urrMzMxUVFQiIiJERETc3Nzu7u6qqqp2dnaYmJgyMjIAAAD9T1yxAAAAAXRSTlMAQObY\n",
       "ZgAAApFJREFUSMfFV9m2pCAMdGYkrGH7/48dwqaojd459zo89GmFhKJSCXFZ/s8wfj7v8PzOGvoN\n",
       "/dn79/CivjlP2K9dVfknCbGzbSLge4CDmc9LPqyGCp2OYdpZjX4Pr4cbgkcssZHq2I7YjeqfH+qO\n",
       "YLF/4rHFHlc6rUMaRr2YcepLBLtteSCpRE1DufcAs6YIAw7YesodLUbBS8agxN9B51+fo8RDuN2b\n",
       "3y64cKJrPeJr2jTEjcqQx5/f9NtljjGpFmPG58kZh5aAp2J4yA2rmJYQ2H7vKVi8cEIStlWRBBz0\n",
       "DcE2SziygiDbU5SuinBoeYjWAaQVbHFU09kjwELLwck21hIXyEgUO9rJ8RlCpjlLVuRwOF9An0as\n",
       "MvHaGiTnGbBH/wCwkVVk0XwCvOqMRBwJPhhkcfBS2grgdK20UyEwGZoHERmTWDVTsqUAdteAd8YI\n",
       "La7NyVkShTQbl1HDv9ai5M5z9D0aC1f1TPVmQSXSDs09U5gTepN3BgwAl4A3Y3ShJ2Nzck46zKTJ\n",
       "UHuEj5dg5E3uNenSKaEqgqCIrg7N8gqEHWCQUvHrpOvGYt1rhvVtjsmcp5RchoLKTzkqkzdd30Jd\n",
       "G6vw13RmJvdSA5lA5EJN7hPDhvkPgDfjHcHNyVg9CieY6qswko19w6kqJ6W5xkCTq8da8QzFC6sN\n",
       "hZdQyEESVuxbvw3w3niTcHfy8Gq20y4Dj7UhFXIRuafLMe2T1OcJkBODht2HpOvGQ5FoTh42P/OW\n",
       "0R1LIJfMMiq4gkgR0hVo2raLwwWX6INwBbgbt4Ygt6/dybR0dYKnDQLObt4hiqxq+GLnZXZzmK82\n",
       "8HOC9aTJs+ZZH/OvTfSHT6Rpa+JnmJ5+Lr3Y9X/PgLc3/AsLqBxJRDCO4QAAAABJRU5ErkJggg==\n",
       "\" style=\"display:inline;vertical-align:middle;\" /></a><br>(see <a class=\"ProveItLink\" href=\"../../../__pv_it/theorems/ff3a574835db04ea6dbe1a3412277500760d02ec0/dependencies.ipynb\">dependencies</a>)<br>"
      ],
      "text/plain": [
       "less_is_not_eq: forall_{a, b in Real | a < b} (a != b)"
      ]
     },
     "execution_count": 2,
     "metadata": {},
     "output_type": "execute_result"
    }
   ],
   "source": [
    "%proving less_is_not_eq"
   ]
  },
  {
   "cell_type": "code",
   "execution_count": null,
   "metadata": {},
   "outputs": [],
   "source": []
  }
 ],
 "metadata": {
  "kernelspec": {
   "display_name": "Python 3",
   "language": "python",
   "name": "python3"
  }
 },
 "nbformat": 4,
 "nbformat_minor": 0
}