{
 "cells": [
  {
   "cell_type": "markdown",
   "metadata": {},
   "source": [
    "Proof of <a class=\"ProveItLink\" href=\"../../../../../_theory_nbs_/theory.ipynb\">proveit</a>.<a class=\"ProveItLink\" href=\"../../../../_theory_nbs_/theory.ipynb\">numbers</a>.<a class=\"ProveItLink\" href=\"../../theory.ipynb\">ordering</a>.<a class=\"ProveItLink\" href=\"../../theorems.ipynb#greater_eq_shift_add_right\">greater_eq_shift_add_right</a> theorem\n",
    "========"
   ]
  },
  {
   "cell_type": "code",
   "execution_count": 1,
   "metadata": {},
   "outputs": [],
   "source": [
    "import proveit\n",
    "theory = proveit.Theory() # the theorem's theory"
   ]
  },
  {
   "cell_type": "code",
   "execution_count": 2,
   "metadata": {},
   "outputs": [
    {
     "data": {
      "text/html": [
       "Under these <a href=\"presumptions.txt\">presumptions</a>, we begin our proof of<br><strong id=\"greater_eq_shift_add_right\">greater_eq_shift_add_right:</strong> <a class=\"ProveItLink\" href=\"../../../__pv_it/theorems/032af1cc990a1517180856ea9c576b2af5e198490/expr.ipynb\"><img src=\"data:image/png;base64,iVBORw0KGgoAAAANSUhEUgAAASEAAAAWBAMAAAB9OzeJAAAAMFBMVEX///8QEBCIiIhmZma6urrM\n",
       "zMxUVFQiIiJERETc3Nzu7u6qqqp2dnaYmJgyMjIAAAAcRTyBAAAAAXRSTlMAQObYZgAAA6xJREFU\n",
       "SMfFVl1IFFEUPs7uuruzs7s+9GAPxWYkPS5KJvS3ENRTOD1UBIFiPxBJmBpRGmzRw4oUQ0L6Eowt\n",
       "VCySgz2U0MOiD4WlLBZkgrFEKhVNEgRlP3Tu3Jmde7cZKxfqwLkz997zzf3mnu/+AJRqwRwW1106\n",
       "Q4oLwMFGTM+TymwJjG6ji0m33uNOAPFCq0NouUL9Mam8LYHRG/SI4tZ7xyjFdpUDROIOoWKeej+Z\n",
       "x+TKCYXJx59ymYoxFYlWQvMKC4hqZmWYBY5SjyB7SVs5Iz8Z6qwrI7GCPr3zMgNoUJ0YDVAPj2cy\n",
       "fSUkjWCDra6M4LX59KUSNuAhODGKJKh/TqW6SmC0Hl0gmesdW6fyjKSqDQBjhSV2UisA5qu2FDEa\n",
       "rZJBws8QPwrQbbV7dZdxE0V1O/AyegDXs3c1fODnKNgJVwBe2qt+s2ICxB/qkMIx6tMCeQijrInv\n",
       "NARu2hg37r2Nh1/RN1v6uxQ+sJNIA/9+IAf1PCN/Fk7gN+w10G4BQksQjXGMuqBcgxAmn7gfBHvL\n",
       "emdL8kFtTpBgPFbEKFgnc4Gr0MtwCneo0EYypesLa3W9CYwWtEYrUOhSLYAnD0NZgEldP6Xr89jm\n",
       "WTKktkhdyvntWflSeJseyQAymskVMYJgvcwGWowqQfzEz1ElsIwG22wAbkcNGjtHZUmWUTC/H2vp\n",
       "6jnS9rFaNSQZ8xKxEkZZhhENEh8lrEA7a+I3CC1yjLCF2G7a2HueSXM0Z06gxWjIGMXbSh26jyD8\n",
       "tI9MnHDOWDYdvooIUEa1cZuRGQTipGoG2soWv0J5foSbo+/4ain7mi0HBEQT4hpurSFF0ArKhrtI\n",
       "yxP3EXKBGGnxJEFOG4w8xzoYZZtBILw3Ay2JkyV7EZ43ZTlGdSBuAthq/MMlYBdPeS4Q5xh5miAt\n",
       "gwfxxA3Zl2lCkyEI7MMKwIFUKhUTpKvPGEZm0I0eK9DKCpnqm1UHmxMcI2liCsu54o0EAWLNRNEO\n",
       "+WQWQRGZOoQxpUNKYAYfUZWwiZJDmGYtdEi1GdGgQfK/NPBPTpFWx2PHcc++ZToVu9K4B/pVvzqN\n",
       "Je7kcUmmOhpnlG0EpY0EkEC3k1ZUfz1pi49myzIOJ625BzcPb4O9mq8li2WwZkqFHrJDTmbT221G\n",
       "RtA+ekq1ZC0o2fADv7uNLJwhJhcAsMxthDWNKQXUkd2TXOmNrdsZ4GTkt4p+jV5BnS6iyzFa9lYb\n",
       "/otb7QvTWThTujK6j4swpcJ/t/i/G+onNYoYoSabdaAAAAAASUVORK5CYII=\n",
       "\" style=\"display:inline;vertical-align:middle;\" /></a><br>(see <a class=\"ProveItLink\" href=\"../../../__pv_it/theorems/3dae3e54e17aa9d3ffcf0f72e933a4a9c85156090/dependencies.ipynb\">dependencies</a>)<br>"
      ],
      "text/plain": [
       "greater_eq_shift_add_right: forall_{a, b, c in Real | a >= b} ((a + c) >= (b + c))"
      ]
     },
     "execution_count": 2,
     "metadata": {},
     "output_type": "execute_result"
    }
   ],
   "source": [
    "%proving greater_eq_shift_add_right"
   ]
  },
  {
   "cell_type": "code",
   "execution_count": null,
   "metadata": {},
   "outputs": [],
   "source": []
  }
 ],
 "metadata": {
  "kernelspec": {
   "display_name": "Python 3",
   "language": "python",
   "name": "python3"
  }
 },
 "nbformat": 4,
 "nbformat_minor": 0
}