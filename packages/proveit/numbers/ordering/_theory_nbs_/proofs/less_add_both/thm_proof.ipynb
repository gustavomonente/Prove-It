{
 "cells": [
  {
   "cell_type": "markdown",
   "metadata": {},
   "source": [
    "Proof of <a class=\"ProveItLink\" href=\"../../../../../_theory_nbs_/theory.ipynb\">proveit</a>.<a class=\"ProveItLink\" href=\"../../../../_theory_nbs_/theory.ipynb\">numbers</a>.<a class=\"ProveItLink\" href=\"../../theory.ipynb\">ordering</a>.<a class=\"ProveItLink\" href=\"../../theorems.ipynb#less_add_both\">less_add_both</a> theorem\n",
    "========"
   ]
  },
  {
   "cell_type": "code",
   "execution_count": 1,
   "metadata": {},
   "outputs": [],
   "source": [
    "import proveit\n",
    "theory = proveit.Theory() # the theorem's theory"
   ]
  },
  {
   "cell_type": "code",
   "execution_count": 2,
   "metadata": {},
   "outputs": [
    {
     "data": {
      "text/html": [
       "Under these <a href=\"presumptions.txt\">presumptions</a>, we begin our proof of<br><strong id=\"less_add_both\">less_add_both:</strong> <a class=\"ProveItLink\" href=\"../../../__pv_it/theorems/5bc64aebb305d924031de43e661c518f793d1b250/expr.ipynb\"><img src=\"data:image/png;base64,iVBORw0KGgoAAAANSUhEUgAAAVIAAAAWBAMAAABgRQkSAAAAMFBMVEX///8QEBCIiIhmZma6urrM\n",
       "zMxUVFQiIiJERETc3Nzu7u6qqqp2dnaYmJgyMjIAAAAcRTyBAAAAAXRSTlMAQObYZgAABD5JREFU\n",
       "SMfNV29oHEUUf9m7vdzt7V0CClpKJb1ALP7jaEDywaYHQgsF5fKlraDkSFVUVK61fmhN4ai0XCri\n",
       "YqDNl8KWg7YcxSz1g0REj+RLSUtZVLAWWg7rH2joWkoCtlHoe/P239zeYSwnOvCb2Xnz3sxvZt6b\n",
       "mQX4t9JJF23TXAeDdiltMJpUudZ9olqF0T4ljHYGZx+Jau5+CN7EAnGRqje7zzRrMDrMo9nW4EYb\n",
       "1VX4DHPEDBapSveZfuciSOfDlfnQ7v7iG6x6ogG/NX4PdKwhsiYWVveZHnDRgekp/yvznuEZIKsI\n",
       "U70MWj8QMov1+onuE02VGZ2YZgvuhzJp+gZ6Oco0mwf4GQT+qFYnu89UyTNgemGj2cJ0PlcEPc/f\n",
       "5/aFDLITg5bMdHp+HCULIPAawJTvFI403NaiPHy8lc+LkcCIrXCZtBnxdfB7y5qesJJNyLBl7ZBn\n",
       "SMqzN7W7ElO0/gTneR0Eng8H4oI07CwXX2za8xP3JrPa4a8Md09xqd3mSq/FOGXDSAvTSUhYkBYb\n",
       "nVjyrUn5GxPuSEzRepQIMHpBsX39JYnK1zjyV8O2osPiQJTp7hJkQ6GYFrNJu7PuKTC2miD297Lj\n",
       "7HWcX2nVRdioYkang/FIeRS0P9FbHee3xxynBMKaPHOcodu9wXB3JS64wlfm6oBMr9oRpsfRZ/qC\n",
       "AzNzi0M1LzN9FLQVeU17KgFTmD4UZnoD4qvSmqL1csA01dxJDjNEp5p6Z4jcX8+RZi23BHEamJg2\n",
       "Aqba5nfRf2tHyDz3FocIKLe46RlL2n1co/Rtmems6CpebokoMvjLXXCPqWe93cXUqyh7XyUd5aCI\n",
       "1/1qvyvKAjMdzgdMzxTHTThHJwc8bg7SIIWx+AdBUziitFVINOckpn3YYnkRFZxSZLBMjhlm6lq7\n",
       "EQWf4/RieZUmmRygHmIVKApRP9REZ7HX94ciahh2gbpBfB4WHYyAql0ocNOYd2DnGYfhh1JDYhor\n",
       "Qa0IsUbLyU/K78CH8nnqWj8HjD4U91hKSTgL9oMV4Tgk2lWtVgcU/dPvQ0zXwxBGiGD2MDwrBDj9\n",
       "C5bXBN7uEk7nXpooyLF/6RoOmC223KakXHvKlpm61qRAyODyzxrJq1j0mcSS40SIErz76ZdNnyke\n",
       "eR/XQRuhoe4JlhyG6KHctKbb9Ezb6xeidxSNWGZw5BnjL8CM2WtewRxvuvyMiaJXQC+yny6GImqd\n",
       "uoxTT72B8zmYqaSO4UUXI/l1G5tW7I4vlHqHF0rIwOdmhlvcF4q7WRPnt8CYpb7dwDy1+VtzzBIi\n",
       "+IgO3cuN2mjAdNuTg0QnddSAnZdAXQ/TTz8hGr70moSuwVjzq6+zsvvqCycrkoOCfhp0JmmrfAmn\n",
       "H+QlnWz7ku6QpiB04fu/AXLe2v9afzT+9u/kx3/wd5IxGGFRJF8LU7HdaTwjqsfgf5Ni/+Xg9wF4\n",
       "z0b5mT91ZAAAAABJRU5ErkJggg==\n",
       "\" style=\"display:inline;vertical-align:middle;\" /></a><br>(see <a class=\"ProveItLink\" href=\"../../../__pv_it/theorems/ca3dfd3892180986d5c5785f6eab226ca8c286060/dependencies.ipynb\">dependencies</a>)<br>"
      ],
      "text/plain": [
       "less_add_both: forall_{a, b, c, d in Real | a < b, c <= d} ((a + c) < (b + d))"
      ]
     },
     "execution_count": 2,
     "metadata": {},
     "output_type": "execute_result"
    }
   ],
   "source": [
    "%proving less_add_both"
   ]
  },
  {
   "cell_type": "code",
   "execution_count": null,
   "metadata": {},
   "outputs": [],
   "source": []
  }
 ],
 "metadata": {
  "kernelspec": {
   "display_name": "Python 3",
   "language": "python",
   "name": "python3"
  }
 },
 "nbformat": 4,
 "nbformat_minor": 0
}