{
 "cells": [
  {
   "cell_type": "markdown",
   "metadata": {},
   "source": [
    "Proof of <a class=\"ProveItLink\" href=\"../../../../../_theory_nbs_/theory.ipynb\">proveit</a>.<a class=\"ProveItLink\" href=\"../../../../_theory_nbs_/theory.ipynb\">numbers</a>.<a class=\"ProveItLink\" href=\"../../theory.ipynb\">ordering</a>.<a class=\"ProveItLink\" href=\"../../theorems.ipynb#symmetric_less_eq\">symmetric_less_eq</a> theorem\n",
    "========"
   ]
  },
  {
   "cell_type": "code",
   "execution_count": 1,
   "metadata": {},
   "outputs": [],
   "source": [
    "import proveit\n",
    "from proveit import defaults\n",
    "from proveit.logic.equality  import equals_symmetry\n",
    "from proveit import x, y, z\n",
    "from proveit.logic import Equals, Or, InSet, Boolean, And, Not\n",
    "from proveit.numbers import LessEq, Less\n",
    "from proveit.numbers.ordering  import less_eq_def, transitivity_less_less\n",
    "theory = proveit.Theory() # the theorem's theory"
   ]
  },
  {
   "cell_type": "code",
   "execution_count": 2,
   "metadata": {},
   "outputs": [
    {
     "data": {
      "text/html": [
       "Under these <a href=\"presumptions.txt\">presumptions</a>, we begin our proof of<br><strong id=\"symmetric_less_eq\">symmetric_less_eq:</strong> <a class=\"ProveItLink\" href=\"../../../__pv_it/theorems/3ff367b50b4660a1940d334779b368b575b4ce3d0/expr.ipynb\"><img src=\"data:image/png;base64,iVBORw0KGgoAAAANSUhEUgAAAMUAAAAWBAMAAACCvEVCAAAAMFBMVEX///8QEBCIiIhmZma6urrM\n",
       "zMxUVFQiIiJERETc3Nzu7u6qqqp2dnaYmJgyMjIAAAAcRTyBAAAAAXRSTlMAQObYZgAAAkpJREFU\n",
       "SMetVj1oFEEU/m6ze7t3t5eksV8uEEIKvSZWEoOCwcaYJnUIWtiIhRaCSAqRCzZnZUgQx0YhXHFg\n",
       "Ey3kuPIsXIgggsrWirIEBcXGN2/m3L+7JbJ5sLzZ79s337z3ZmcXOA57PJ56SVcgB5+KSVQ3x3Pl\n",
       "NvBGDr4U05hs5+hTEtvkK5vFNA7yyD6tQQBut5jG7TzyKVAf7O09KiZRuZFbyCXgV6t1p5iG0aSy\n",
       "N66d66c6MePhoYBL7FVgKxO29D8ajg908N67S2P3O1tTDs1pnKJCUdPPc+tTltwE+xk+gdjUzgHe\n",
       "iovJZ3YnArSAGlXShuHna7z20nQSKVHWQk6XNFHycAhYIaXk28jV+JxZQgopcWUPM5OsCOun0qgE\n",
       "a3IXL8xeBsxZ2CLSYPCknFATyjGiI4a1gpwu6se6HC/CmKYYueu2rtDWENdtWo07JVajPBhc5ndH\n",
       "E+wUoiOGPX9lhJhP5XEfzrrqOV6QkIVvEt1ZxlykwWDnXoxgpxAdwQtowvzjhJV0TU9jhaCJHg2n\n",
       "uIG/GT6DjXg/JNh5ECPYKURHgKtR3ZifyRyszxpn6SCblBWtyw5YoSXhmzgR01Cg8TUilGNER+Se\n",
       "JYt0PR/ePHEDF9sCt8ww0mBQLoKqIomIJ2RIjj8Ty0H1hzoTdVrv+gOsdnFhLog0GJRWE0zE+Jr4\n",
       "R8qmjzzbbd/xkHnBu9W24494z+lJJiL+KN8os7GQ1a+1y71LGKnBRIw/+rf2Q/K2DvNjL62x3yIT\n",
       "TGheIcV/Apo4RvsLhx2/gpQNAzgAAAAASUVORK5CYII=\n",
       "\" style=\"display:inline;vertical-align:middle;\" /></a><br>(see <a class=\"ProveItLink\" href=\"../../../__pv_it/theorems/6e2384193fb6ea93fb3d2ba1b667e352d8ae98100/dependencies.ipynb\">dependencies</a>)<br>"
      ],
      "text/plain": [
       "symmetric_less_eq: forall_{x, y | x <= y, y <= x} (x = y)"
      ]
     },
     "execution_count": 2,
     "metadata": {},
     "output_type": "execute_result"
    }
   ],
   "source": [
    "%proving symmetric_less_eq"
   ]
  },
  {
   "cell_type": "code",
   "execution_count": 3,
   "metadata": {},
   "outputs": [
    {
     "data": {
      "text/html": [
       "<strong id=\"defaults.assumptions\">defaults.assumptions:</strong> <a class=\"ProveItLink\" href=\"../../../__pv_it/theorems/560e81b81ea6d76b766c15c8785f28e0b3c9d38f0/expr.ipynb\"><img src=\"data:image/png;base64,iVBORw0KGgoAAAANSUhEUgAAAHoAAAAUBAMAAACwiTT9AAAAMFBMVEX////MzMxUVFR2dna6uroQ\n",
       "EBCqqqqIiIgiIiJmZmYyMjJERETu7u6YmJjc3NwAAACgK8IjAAAAAXRSTlMAQObYZgAAAZ5JREFU\n",
       "OMtjYOC7wEAeYHsAJE4zkAv0gHgdmhh7Iz4dFQII9ikGBt4JqNKH2/Ho5bEoQOIxFzBwPECRf9mL\n",
       "RzPfDJQw4glgeIEi/2gZPs1aCagCSxgqgeTxoifFYCdJL4FJHJ/OwBeDymLc5QCXhWiwZNgLdIEB\n",
       "bzvHAqAg90a4sQauDOwfUFm74QEG03CLoQ3o+wPMf1hA3mdvPwBzZMIsBu4NqKyKGnhwQTVkMIQA\n",
       "jYJKAyOgGaqdhyGcgb8AlcVwwwZmN1SDPEg3A0wamH5WQqOA5Q+DvAAaiyFrHsx2iAZ5kMsZ4NJA\n",
       "tYsgTM4FDKUMaCwGBi9FKAOiwQMUamwH6hnYYT5m3A0OWW4Fhk0QAQQLFClbwC6EargFDHUG/4T9\n",
       "DG8RsQo2n1OB5S8Dzy8YC5EgQJbCNEwG2s5wqPz4XPSMxqNe+Y+BoeMAjIUCYBoWoqdUBAD6F+hE\n",
       "GAtrqm/AyCVQoMVwHuh/ZjgLGwDmEoZ9SFmuAwTAObSXYTsoRcJZQJtWgGVRcyiO0sG9EqTsApyF\n",
       "DYDsJbtk4n3AAADOuHrHvTzwVQAAAABJRU5ErkJggg==\n",
       "\" style=\"display:inline;vertical-align:middle;\" /></a><br>"
      ],
      "text/plain": [
       "defaults.assumptions: (x <= y, y <= x)"
      ]
     },
     "execution_count": 3,
     "metadata": {},
     "output_type": "execute_result"
    }
   ],
   "source": [
    "defaults.assumptions = symmetric_less_eq.all_conditions()"
   ]
  },
  {
   "cell_type": "code",
   "execution_count": 4,
   "metadata": {},
   "outputs": [
    {
     "data": {
      "text/html": [
       "<span style=\"font-size:20px;\"> <a class=\"ProveItLink\" href=\"../../axioms.ipynb#less_eq_def\" style=\"text-decoration: none\">&nbsp;&#x22A2;&nbsp;&nbsp;</a><a class=\"ProveItLink\" href=\"../../../__pv_it/axioms/04f50d259b1b80953f8ec665dd5a21d3e798ae3f0/expr.ipynb\"><img src=\"data:image/png;base64,iVBORw0KGgoAAAANSUhEUgAAAUcAAAAVBAMAAAAnVjEQAAAAMFBMVEX///8QEBCIiIhmZma6urrM\n",
       "zMxUVFQiIiJERETc3Nzu7u6qqqp2dnaYmJgyMjIAAAAcRTyBAAAAAXRSTlMAQObYZgAAAz5JREFU\n",
       "SMfNV01oE0EYfU3z1+2m7UHvSwu19GIvVUSpwYLFS38u4kUoxSJeSvAHEav0IJIclBXBloq6RWil\n",
       "FAn0pAcp8SBE0IBCKSgEioqKEkRB8eLOzszuzOxskt588Mhm8t43MzvfNzMBotBWoYzCE03bPcZm\n",
       "LY3ic1ZJw3uN6BFjFJJ2qMmYo2za0ig+50vS8EUj+swoYc94MKJqyNJhU0aBWhLe8zh08RUx5wJ5\n",
       "65rZZwYoJd8LS/hWCnneMEpo/6BYkmR8GQvh+DJKATscwCyGJSmbUsyg/VIKLYU8lxilyZ6zFUti\n",
       "koR3EIqvYClgpry6Oq+RzDMKY5yR59KRVcsgRykiNuuELGSRhxGKH0qebMDf+fysRtLDaHSfOeKt\n",
       "UuImH5TRY+GWA1NdrNgApW8B1s5qLOsuC1DjC1kViDmnmUPBDcY1bFpXSUPerxkz3oW97hp4ZfDq\n",
       "O8E2eUxXKH0LHl7RWVLujOegxDe9ON8HZDHnsK5OgcuMZbx2jnmF3c9/uttaRd6tiJyaxkVK35L8\n",
       "qrXELCSzUOMHEMScKcR0W+ouRofoPWyW2YPTYuGH+zZqiqUlS+lblv1BShYjh8d+H0F8aMScZiWF\n",
       "OoME0VM8O8AexpzErzqDDCy3+XLLloN0d1bjIyzmbKseJ5vRYK+bc/FeujcIyw2iZxidpp9DiHW5\n",
       "4lyQkx/F5RYsvHAkC+4j5/fBxSwnJ2UxJwqn3DRxZlLuOzA7nQmlcJ7GavCz8cQ17+M60pO8CgTw\n",
       "whEtfAuSLOmTlt+HFJ8hEHNiPUeOqm/k18UR9DHhc8r433RNuAbc8Up8H8bcptYNJTbbL2QL28wl\n",
       "S+K0w/tQ4lMEYk50etP64/18CFNMOEJpTPX3hK4fy92HySk9rjSztVEs9FiULdt+Hw3icyJDppWo\n",
       "eef+eeyOPhYFDLlcaepY1FoWgz7qi1fEfh6YVRMLDi7Ea3UuGPwSVTV+Nn/BqGNpHL8kmpbflsqY\n",
       "KOJon18NBUhHkfHpIgF59alK2tJe1dI2pea6orcUUF/MKaJo2OlK40tvvHsQ2tFEX3ojLI3ia2bd\n",
       "bic3Rpv++7C1878PWzv5+7AlUEwRxN9t4D/EPz5FQJYMbhovAAAAAElFTkSuQmCC\n",
       "\" style=\"display:inline;vertical-align:middle;\" /></a></span>"
      ],
      "text/plain": [
       "|- forall_{x, y} ((x <= y) = ((x < y) or (x = y)))"
      ]
     },
     "execution_count": 4,
     "metadata": {},
     "output_type": "execute_result"
    }
   ],
   "source": [
    "less_eq_def"
   ]
  },
  {
   "cell_type": "code",
   "execution_count": 5,
   "metadata": {},
   "outputs": [
    {
     "data": {
      "text/html": [
       "<strong id=\"spec_l_e_dxy\">spec_l_e_dxy:</strong> <span style=\"font-size:20px;\"> <a class=\"ProveItLink\" href=\"../../../__pv_it/_proof_symmetric_less_eq/c89912a7f61bbc06a457fd2e0ca0da1b10c5f17e0/proof.ipynb\" style=\"text-decoration: none\">&nbsp;&#x22A2;&nbsp;&nbsp;</a><a class=\"ProveItLink\" href=\"../../../__pv_it/axioms/18f69e68ec8904ce753b4b072d2253b9c84b7eaf0/expr.ipynb\"><img src=\"data:image/png;base64,iVBORw0KGgoAAAANSUhEUgAAAQcAAAAUBAMAAABysOUVAAAAMFBMVEX////MzMxUVFR2dna6uroQ\n",
       "EBCqqqqIiIgiIiJmZmYyMjJERETu7u6YmJjc3NwAAACgK8IjAAAAAXRSTlMAQObYZgAAAqhJREFU\n",
       "SMeVVs1rE0EUf5tsm627qbmLGE+KB+nJqBTamx8H20P/gFwtIose0kCgOVXxINGDSKEaPNkeiogn\n",
       "i3WplBa95BgPhiAqRRQiiF48+GZmJztvZj/SB7/O9OX9fvN23nwBTHYg0W7G+H6GGJWSpc8JH5Jj\n",
       "INc3XN4LgZEpWfqcsKn/slSKRmwbvCN9gSQTFIv3udAmpAczFFua/7yv/FcxeB9DEFssaZQccxSZ\n",
       "kq5PrSLg0K+afExKuGvQ7odQrftEp1hl/OMEYOhrtitwQHM4U6WTP6svs6YAqd+0SWFFuMI6B2k5\n",
       "8GBEHbt7t77c5kWwXstBvboPXwPI65NZaAl4tbOXKrR+hHIdsc06RF+pehSMeIOOqeIdh6+nrWFt\n",
       "8/Y8LGNFufviBrN11nU7Au+g69/jasP6EYqDX8T3kKqf5zobLRqMWEFHkP9n89ItNWQS3ybasAUw\n",
       "rs08OFWBaZgJrjFHVD9CKfiQ47NK9CNTghELmCm4cuN3ZXmDMR/+4tcMtCTGZgUCJsEmIkqCULwm\n",
       "vOdeqg8xwYgF5jo6rNiiXOhzgfUrJQlgEtp2IpRHcE4moeqDGYxYYZ4T0T6/elK0q1CYB7Cb0Zp4\n",
       "ppYDmIR2sKgU+A6iVfXDNVGmwQhcOOPBMhQCmcWxV7x5CW5ZrjLF5MK8URhAQ9uihOIeF7kZ+qAH\n",
       "Iy7gzFTfqlfSZ572Q5jDsSamNG64p+w/7iC6mcLDilCs02JYUx+0YMRlgJ3a3ppx1e3UnrJboqS5\n",
       "w/nzTjXqn/Rjm1LWRZOtj0g+VlcR+yMd27GUH+GeztTfT7xgcm3v9+gXWAolW78iD9dwoT+/y4zN\n",
       "p9Nx/dir3O0LmJZA2Yb0YE6If3TYtQcQO1ryoyaBkqXPCWnPr97hn3e9wzzvegL/AUsLB2nv6dCS\n",
       "AAAAAElFTkSuQmCC\n",
       "\" style=\"display:inline;vertical-align:middle;\" /></a></span><br>"
      ],
      "text/plain": [
       "spec_l_e_dxy: |- (x <= y) = ((x < y) or (x = y))"
      ]
     },
     "execution_count": 5,
     "metadata": {},
     "output_type": "execute_result"
    }
   ],
   "source": [
    "spec_l_e_dxy = less_eq_def.instantiate({x:x, y:y})"
   ]
  },
  {
   "cell_type": "code",
   "execution_count": 6,
   "metadata": {},
   "outputs": [
    {
     "data": {
      "text/html": [
       "<span style=\"font-size:20px;\"><a class=\"ProveItLink\" href=\"../../../__pv_it/theorems/105afefc4f8b5df721d05bf52d4822180d2f8fae0/expr.ipynb\"><img src=\"data:image/png;base64,iVBORw0KGgoAAAANSUhEUgAAADMAAAASBAMAAAAEf/uKAAAAMFBMVEX///8QEBBmZmaqqqrMzMxE\n",
       "REQyMjIiIiKYmJh2dna6urrc3NxUVFSIiIju7u4AAAA6P00QAAAAAXRSTlMAQObYZgAAAMdJREFU\n",
       "GNNjYCAaXHfAIcE3/QIOGW71BlwyxwxQBd7e2XUTbAxL2AKYuZcuMGx8wMA3gaOWPQEkEAp3ASeX\n",
       "AMN9IPWA8x/XBrDj7sGkNjMlMIQCNTOwBkBF2udBGQ8YLzD8BTH44Q4204Yy1j9g+QKi/RG+XHYE\n",
       "Qqsx8AowMDA/uM/A+wAm5xoFpmIYWA8A9RrEM+xAeGUP2AgdhvVAz7+5+1YDIwze3NXfgDOY1XCI\n",
       "8yTw/UIJ9fRyEADZxd7AiisGuO6qAEkA7Io1laIOjrsAAAAASUVORK5CYII=\n",
       "\" style=\"display:inline;vertical-align:middle;\" /></a> <a class=\"ProveItLink\" href=\"../../../__pv_it/_proof_symmetric_less_eq/86823a1f165eafad8243025804ef37008cf748570/proof.ipynb\" style=\"text-decoration: none\">&nbsp;&#x22A2;&nbsp;&nbsp;</a><a class=\"ProveItLink\" href=\"../../../__pv_it/_proof_symmetric_less_eq/95afc67d832d0e0b9846a418cf092b73aa7994160/expr.ipynb\"><img src=\"data:image/png;base64,iVBORw0KGgoAAAANSUhEUgAAAGwAAAAUBAMAAACaOcVSAAAAMFBMVEX////MzMxUVFR2dna6uroQ\n",
       "EBCqqqqIiIgiIiJmZmYyMjJERETu7u6YmJjc3NwAAACgK8IjAAAAAXRSTlMAQObYZgAAAVJJREFU\n",
       "OMtjYOC7wIAT5OGWOo1bioHpAbrIjA4QaGJgWIcuUyEAZ/IswGJWOojgnYAqyGNRgMQzx6WNA9Ud\n",
       "fDNQvHoUl7YXqLq0ElD4XA44tFWCHFau5w52DuMumDKeygKGpwcYmCfg0LYXiA8z3CjoAnF2w0OD\n",
       "mSWAoR7oc3CYWK0CgZXI2tqA2IbB/oAfOBBrYNqecS5g2M3AwNaAw7YQID4AUgEGN2ygjAOsBQzf\n",
       "ga7+gEcbA0gFBGTNgzL8DzB+xKOtDRwUH+GCXooQehYDewADA0sDwm+L0IMkh/0DA9xX0lvA1CYG\n",
       "bgVYkGCxzRJo5DfuD0gJ+hE4OCcx+AOFOA1waPMAxpF6TeVddMlD5fOB6YdLAFObL5bEhQRmAfEJ\n",
       "XJK8E7BnmQU8X3AkZQjYh5T6V4BzE8hhHBe4C3BkHHzZlKV8IpDkxukDvIXCPVwSAJ92W9rXI5k2\n",
       "AAAAAElFTkSuQmCC\n",
       "\" style=\"display:inline;vertical-align:middle;\" /></a></span>"
      ],
      "text/plain": [
       "{x <= y} |- (x <= y) = TRUE"
      ]
     },
     "execution_count": 6,
     "metadata": {},
     "output_type": "execute_result"
    }
   ],
   "source": [
    "spec_l_e_dxy.lhs.evaluation()"
   ]
  },
  {
   "cell_type": "code",
   "execution_count": 7,
   "metadata": {},
   "outputs": [
    {
     "data": {
      "text/html": [
       "<strong id=\"spec_l_e_dyx\">spec_l_e_dyx:</strong> <span style=\"font-size:20px;\"> <a class=\"ProveItLink\" href=\"../../../__pv_it/_proof_symmetric_less_eq/0d6ff8a7da2ecfb2e2a6232c5f14da31dfe7e7c80/proof.ipynb\" style=\"text-decoration: none\">&nbsp;&#x22A2;&nbsp;&nbsp;</a><a class=\"ProveItLink\" href=\"../../../__pv_it/_proof_symmetric_less_eq/0c953880e8cad459711824798fd11e437d4cfabd0/expr.ipynb\"><img src=\"data:image/png;base64,iVBORw0KGgoAAAANSUhEUgAAAQcAAAAUBAMAAABysOUVAAAAMFBMVEX///9UVFTMzMx2dna6uroQ\n",
       "EBCqqqqIiIgiIiJmZmYyMjJERETu7u6YmJjc3NwAAAC+aOQFAAAAAXRSTlMAQObYZgAAArVJREFU\n",
       "SMeVVj2IE0EU/hL3TOImMdgoFpJexKsMimAaOW28KwQbi2sFkW0kBA4MCp4KkdPiDtKYExFiIZ6N\n",
       "xaGsyOF5FqbUwhAL5RSFIOI1Kr6Z2WTfzP7lHnybzez7vn07782bAYpdRNqlkLEfHsalJOlLwtto\n",
       "H6T6gaH8E4WxKUn6kvDYeJC5yt7YDvB29RWiTFHS8r6MEH3TWaCwoI+/muf/KgHeBw/cdt43KSnx\n",
       "/oKDoL5uFYWs/lVfm9rftQDttgdmhZt9k5Iu0SXrIqBv2JrCpjb46aEx+VWzzBoKPH/X3CBFJOG0\n",
       "uNmMi0E6E+qUlbqDz1Lo4INRtmoHpmiedpiTmVlQeL2E4nk9fxrlAuGFuNH0WTX4zoTndLVmcEU8\n",
       "sZ/6pYH3zi2aaVlmxx4J60iXrsLkSWQGYuBNM5SSpZTINcT1mQ5zJlwHvuTaWJWfOT+K9zhOuGeo\n",
       "5BrGTGRnJYqzLdjiJSk/fxol4yAl88L1mTFnwlnAnXCwpUpslF5X0dIDgzxRlcjjHHaL4n/pB6FR\n",
       "8g1syFFNH2HOBHLCtJv+6S22zqiYt+KCgPUHh8vmcuKURRwZBsH0EeJMoOlCC5kZ75G1XFY3imY1\n",
       "/Fwus3SAZviy2Vg4Bd+gfrk+02HOBCocrMAujZRWZSovUtnNDauM2bAwibBiLFGdYh9y4BWmpu8Z\n",
       "cyYcpZE7mPZ3meIeEeFveyB2ntykQfbWFHIl66/erAxKep8KLaCvJpw5E06J6qrdM/pafu9c/aNo\n",
       "JmUjCG/+yKH+T2/bJqWjfpL1CaqttiI62np028614ynfvTWdqL8uN5hUO/8rZoMJ3cD24111LEqy\n",
       "fkU212zXVkW0cUNY/FZu9yWaeBa3lTNj+pFbOR06rNrdiEDtyEPNVL08JiVJXxLijl+97R/vets5\n",
       "3vUU/gPlJAYmXfTw0QAAAABJRU5ErkJggg==\n",
       "\" style=\"display:inline;vertical-align:middle;\" /></a></span><br>"
      ],
      "text/plain": [
       "spec_l_e_dyx: |- (y <= x) = ((y < x) or (y = x))"
      ]
     },
     "execution_count": 7,
     "metadata": {},
     "output_type": "execute_result"
    }
   ],
   "source": [
    "spec_l_e_dyx = less_eq_def.instantiate({x:y, y:x})"
   ]
  },
  {
   "cell_type": "code",
   "execution_count": 8,
   "metadata": {},
   "outputs": [
    {
     "data": {
      "text/html": [
       "<span style=\"font-size:20px;\"><a class=\"ProveItLink\" href=\"../../../__pv_it/theorems/0b18672cc85a9c3709dc5646c0db026c411414a00/expr.ipynb\"><img src=\"data:image/png;base64,iVBORw0KGgoAAAANSUhEUgAAADIAAAASBAMAAADrvZC0AAAAMFBMVEX///8iIiKYmJhUVFTMzMxE\n",
       "REQyMjKqqqq6urp2dnYQEBDc3NxmZmaIiIju7u4AAACH5sGpAAAAAXRSTlMAQObYZgAAAMNJREFU\n",
       "GNNjYCAS8IrgkHgpi0NijxAOic3pKFy+OxcYdj0AsVwz4GJ3rXvnMnByLGC4D+KyhiCsY1C8IMaw\n",
       "nSeBIRTsLNkHMJl5DPMfdDM84LrA8BfMZ5KEST2AqO1/wPIFIsCeswGmC6z2GAPvAiifI9kBwoCo\n",
       "DWZgNYApZQltAFF1vB8Y7jEwHGboV4C7itsEpPU76wduoNjju+c3oPqYz/beHSUGiE1YAXMC3w/s\n",
       "MowKrBfAjGeCIIAUCxx3j2DXAgDkyDH15hEk6AAAAABJRU5ErkJggg==\n",
       "\" style=\"display:inline;vertical-align:middle;\" /></a> <a class=\"ProveItLink\" href=\"../../../__pv_it/_proof_symmetric_less_eq/c15118c2a997bfda6d9ac91d643c75e8aa3817de0/proof.ipynb\" style=\"text-decoration: none\">&nbsp;&#x22A2;&nbsp;&nbsp;</a><a class=\"ProveItLink\" href=\"../../../__pv_it/_proof_symmetric_less_eq/f85f333bf9609e203433a3da4a7fd54f45af62cb0/expr.ipynb\"><img src=\"data:image/png;base64,iVBORw0KGgoAAAANSUhEUgAAAJgAAAAUBAMAAACDnumxAAAAMFBMVEX///9UVFTMzMx2dna6uroQ\n",
       "EBCqqqqIiIgiIiJmZmYyMjJERETu7u6YmJjc3NwAAAC+aOQFAAAAAXRSTlMAQObYZgAAAglJREFU\n",
       "OMuVVD1IHEEU/uKt3p67tx4SCFiEs7bQUiGFTdDurhBsLLYMVishnFdppY0Gf4rIgXERKwvxbCxE\n",
       "XasLWuS6qNUVSUgjiAg2Kr43u3ebGdkRp3gzb+abb/f9fAM4dSSNjoa6cwU9+Cz5HO8V3959Abyj\n",
       "OT8VNs+mjU1nQw/OLil7k/l4nfLYdrP5xeZCw8VgU/nY+ff/wyqy7WWzwOarjozA/+Sd6Q+Su9UM\n",
       "zuAAnFkdGYHLRFn28CcQ5INedFCb+v2Z1kOiTkRkcQBpWtS+wZlQWFrgQwrWKGJGcK0128QeyM6b\n",
       "PnApPPqhPp4tOh74iPQ1Z2hbjCUJPAf8zfg4YHCP20pmkLo36Gc+Ca8EvOXZdOG4FVhKg8TgMSBo\n",
       "93DHX4jJ7OhGv/B+wPZ5bh+mg3F0eUrmW2AiQyFou2HPWYvVEN4IyTJuyo3IYNyjP6+mvgmmMFFB\n",
       "ugi5ANGNUbF2fBNRmKCUfEGcs5wEpgKgCisnt0ZHMIN00CwA9kTLigIQsqqqsgXm4i+jUJebtuAe\n",
       "C1Gvhpu9C2GmqXaZnPGgkMVgDuSktNGQ5XRSqq0z/2a41xlqzqAesd+VHxWyGBzKqZKgkKjlnSCc\n",
       "hZwyfiKYhP7Gt28TtSsNEnoPfg4ng49g1i1P9wTFg0S1iH3Ne3UGo7SScH70/HEcKec1YM2znX3N\n",
       "s03gJ5qFlStRMNHdAAAAAElFTkSuQmCC\n",
       "\" style=\"display:inline;vertical-align:middle;\" /></a></span>"
      ],
      "text/plain": [
       "{y <= x} |- (y < x) or (y = x)"
      ]
     },
     "execution_count": 8,
     "metadata": {},
     "output_type": "execute_result"
    }
   ],
   "source": [
    "spec_l_e_dyx.derive_right_via_equality()"
   ]
  },
  {
   "cell_type": "code",
   "execution_count": 9,
   "metadata": {},
   "outputs": [
    {
     "data": {
      "text/html": [
       "<strong id=\"xlylx\">xlylx:</strong> <span style=\"font-size:20px;\"><a class=\"ProveItLink\" href=\"../../../__pv_it/theorems/851392b6f273e0cbcf1bc7828c98c2cf9db6bb7a0/expr.ipynb\"><img src=\"data:image/png;base64,iVBORw0KGgoAAAANSUhEUgAAADMAAAAQBAMAAABJt1qBAAAAMFBMVEX///8QEBBmZmaqqqrMzMxE\n",
       "REQyMjIiIiKYmJh2dna6urrc3NxUVFSIiIju7u4AAAA6P00QAAAAAXRSTlMAQObYZgAAALhJREFU\n",
       "GNNjYEAFZg4MOEC7Ni6Z6/NQuG/v7Lp5Aczimw6hGfguXWDY+ICBbwJHLXsCWEC9Aaqak0uA4T6Q\n",
       "esD5j2sDSOCYAcygzUwJDKFAtQysARBTEFIPGC8w/AUx+KE2cMMNZFj/gOULiPaHeQXuDAY1Bl4B\n",
       "BgbmB/cZeB+gOT6GgfUAUK9BPMMOdC/rMKwHGv7m7luNBvSAenNXfwOuYAHahh3wJPD9wiHF3sB6\n",
       "AYcU110VIAkAWaUyBI00ZbcAAAAASUVORK5CYII=\n",
       "\" style=\"display:inline;vertical-align:middle;\" /></a>, <a class=\"ProveItLink\" href=\"../../../__pv_it/_proof_symmetric_less_eq/796826776372c7bd7ce32b8f0ea64429bb6e728a0/expr.ipynb\"><img src=\"data:image/png;base64,iVBORw0KGgoAAAANSUhEUgAAAFEAAAAUBAMAAAAHNMzaAAAAMFBMVEX///+6uroQEBCqqqqIiIgy\n",
       "MjJERETu7u6YmJjMzMxUVFTc3Nx2dnYiIiJmZmYAAAAutVgsAAAAAXRSTlMAQObYZgAAAS9JREFU\n",
       "KM9jYIAD7gYGnMAahVeGWyED1wZkXjQelewBSByOB2iyzJFInCNIbN4NqAo57iELFCGx96IqZLlT\n",
       "gMxlFUCw/YCu8XNg2ARRUHMF5kKX1SJAq3mQ3JYB5DIqMPiDOXU3YMI1DL0OV4FuCWB4excI7gCF\n",
       "LjMwbOYLYEgDB0ow3IDjDOcLpIHeuwDh7gJiRQaGAiYHhi8gfhVCZQFEL+cHFJUM8gWcP8EC+24g\n",
       "nPUFXSXQdoanDCwKDKg+YoDoZUSyHegjhiwGtgVooWTO8oHBHewjiD4gPgfErxjkG1BDnvEz2wdQ\n",
       "0uE7gHCOLMgnLu83oMYm+xJ3vw5QyE9Aj82nOJJILWoK4Qpg/4hDJXIKYchm4G1gcyAi1QFTMqPL\n",
       "SxxGsqEkNHy5o5uBAQAs0kvOnLNKtQAAAABJRU5ErkJggg==\n",
       "\" style=\"display:inline;vertical-align:middle;\" /></a> <a class=\"ProveItLink\" href=\"../../../__pv_it/_proof_symmetric_less_eq/11e59186d7fd2f2bba9d91947763d57ce8897d890/proof.ipynb\" style=\"text-decoration: none\">&nbsp;&#x22A2;&nbsp;&nbsp;</a><a class=\"ProveItLink\" href=\"../../../__pv_it/_proof_symmetric_less_eq/a1adeebfb4f42861021f5078680fcb6fa0abdf850/expr.ipynb\"><img src=\"data:image/png;base64,iVBORw0KGgoAAAANSUhEUgAAANUAAAAUBAMAAADo2mWhAAAAMFBMVEX////MzMxUVFR2dna6uroQ\n",
       "EBCqqqqIiIgiIiJmZmYyMjJERETu7u6YmJjc3NwAAACgK8IjAAAAAXRSTlMAQObYZgAAAmNJREFU\n",
       "SMeVVr9rFEEUfrpnbs+bXQ9bizshIKQIKQ1YXCOm00LQwmLLYBUUiVd5IJoTjCykSBCUCwQLCxEb\n",
       "K/WIxWEsvE5jdYWFFoJ/QBRn5r03O7s7c8c9ePt25n3fvvnx5s0CxCPQ6pG5cbHnN0wElwmZfCb1\n",
       "yWKhLV5PAS86+o8l2rwi9ckB2ZjsyfEU8IFrwmvqGaWoeddu9h6sUQwCHRa/c7ORBzOhHCsco9oS\n",
       "PbI6xBW0Zx6jfVL4zLfnkAczoRzrJ6kl1fsDu7mHZn4dl7KbB9+9AEXwni9Wh3R468dtnPzHDQIM\n",
       "tyG+AbCMI+6HOJDUOFTveV4w4ivwsi/WO1SxFG2EfdXxaZMBSxeh+gfgO+5EEuhcqo+MQ7J2+LAw\n",
       "X4E1IXipJbVjPUQNBsFRRe3S8RccKk6eQl0m+KpuhRDroYSJcQAsJCYpiK/Aq755XUUVxIZ9E0vA\n",
       "NTglMU3d+gpwVtkTbeMAkcVifhOY4I8FyJbyy6xh5QiaDabKLDxNsdghp76TFRzkT4xFawjEtnOj\n",
       "1oc70qxocEqnWK4hO3K5QfwVJtB+tRy5MTe4B9VBPufrLXjDW63iqHg6N8hh5zzzTW645kVJejn5\n",
       "kBVVOsu1VuWvNFv6JNM6QpAah32Wmb/FBFcsmvT++vDZqFCjxLnOP2n0+7x6qNNc6RqHXaOYv8sE\n",
       "S2q93oPrvV7LWaMylExzoQtFW1drU6NqfTdBgUXXV5mdtRdlAb60y6X0kB0u8dVekvekZdmEt44r\n",
       "oj4mxyx3ytS78lKn4RiHvCvRMdvAsRRN/geIZvkHUODIe5f+B4mNvL5ID2QHAAAAAElFTkSuQmCC\n",
       "\" style=\"display:inline;vertical-align:middle;\" /></a></span><br>"
      ],
      "text/plain": [
       "xlylx: {x < y, [not](y < x)} |- ((x < y) and (y < x)) = FALSE"
      ]
     },
     "execution_count": 9,
     "metadata": {},
     "output_type": "execute_result"
    }
   ],
   "source": [
    "xlylx = And(Less(x,y),Less(y,x)).evaluation(assumptions = [Less(x,y), Not(Less(y,x))])"
   ]
  },
  {
   "cell_type": "code",
   "execution_count": 10,
   "metadata": {},
   "outputs": [
    {
     "data": {
      "text/html": [
       "<strong id=\"ylxly\">ylxly:</strong> <span style=\"font-size:20px;\"><a class=\"ProveItLink\" href=\"../../../__pv_it/theorems/95a014f553c171661f83a33e9bb3500ba72bae240/expr.ipynb\"><img src=\"data:image/png;base64,iVBORw0KGgoAAAANSUhEUgAAADIAAAAQBAMAAACmdTG/AAAAMFBMVEX///8iIiKYmJhUVFTMzMxE\n",
       "REQyMjKqqqq6urp2dnYQEBDc3NxmZmaIiIju7u4AAACH5sGpAAAAAXRSTlMAQObYZgAAALBJREFU\n",
       "GNNjYEAB7CkM2AGTzAbsErySD5B4fHcuMOyCCLyUhYndte6dy8DJsYDhPpj/Rgim+iWD4gUxhu08\n",
       "CQyhIC5zOtyceQzzH3QzPOC6wPAXxH2MkHkAUdv/gOULmL9HCGE7WO0xBt4FDKguYICoDWZgNUBz\n",
       "dR3vB4Z7DAyHGfoVUH3K8Z31AzdQ7PHd8xtQQ4fP9t4dJQaITVgBcwLfD+wyjAqsF7DLcNw9gl0C\n",
       "ANcsMbD8u+TJAAAAAElFTkSuQmCC\n",
       "\" style=\"display:inline;vertical-align:middle;\" /></a>, <a class=\"ProveItLink\" href=\"../../../__pv_it/_proof_symmetric_less_eq/1d718b48ab13c21e4fe284c830c2a78eb1a7f9b70/expr.ipynb\"><img src=\"data:image/png;base64,iVBORw0KGgoAAAANSUhEUgAAAFEAAAAUBAMAAAAHNMzaAAAAMFBMVEX///+6uroQEBCqqqqIiIgy\n",
       "MjJERETu7u6YmJjMzMxUVFTc3Nx2dnYiIiJmZmYAAAAutVgsAAAAAXRSTlMAQObYZgAAATZJREFU\n",
       "KM9jYIAD7gYGnMAahVeGWyED1wZkXjQelewBSByOB+jSphMQ7CNI4rwb0BT2vkbiFCGx96Ip9D2O\n",
       "zGMVQLD9gLjEa6OPA8RhZx2gLvRzYNhUwMCD5LYMoOgBjiu8YLezv4UFGQ+jAoM/0BcBDG/vAsEd\n",
       "oNBloGgBz3dGsHOXGsAM2MwXwJDGwMB8AcLdBcSKQJMY2BIgViJUFjA5MHxhYOD8gKKSgYEf6jpu\n",
       "uO0M8gWcP1FVXgYx5sOCEO4jhqcMLAoMDIxItgN9xFzgz8BSgBZKWQxsC8A+AgNOID4HtMggn2EH\n",
       "esi/YpAHuoTvACKUZBkYqlxKXjSgx2aVy3tgcLBOwBObcPAUiGvxphBIegtg/4iWQhiysarkbWBz\n",
       "QEt1OFIyo8tLIMmG4jR8uaObgQEAd5FKz1OGG2wAAAAASUVORK5CYII=\n",
       "\" style=\"display:inline;vertical-align:middle;\" /></a> <a class=\"ProveItLink\" href=\"../../../__pv_it/_proof_symmetric_less_eq/bffd2c7a489aa3260c38387a16ee467b6f50885a0/proof.ipynb\" style=\"text-decoration: none\">&nbsp;&#x22A2;&nbsp;&nbsp;</a><a class=\"ProveItLink\" href=\"../../../__pv_it/_proof_symmetric_less_eq/1f19dae73e12776209c4bd7ed908204f4d5d21430/expr.ipynb\"><img src=\"data:image/png;base64,iVBORw0KGgoAAAANSUhEUgAAANUAAAAUBAMAAADo2mWhAAAAMFBMVEX///9UVFTMzMx2dna6uroQ\n",
       "EBCqqqqIiIgiIiJmZmYyMjJERETu7u6YmJjc3NwAAAC+aOQFAAAAAXRSTlMAQObYZgAAAp9JREFU\n",
       "SMeVVj1oFEEUfrnd5O7c2cshgUCK46wtLp0GAqYJSeWlELSwuDKIxYrIehDIgWhOMXIxheFAXUJI\n",
       "YSFJZSHqHimCsfA6E0G4QkULIYhoE8Wd92Zuf27nVh+8fTuz35tv5s2bNwuQawOqQoY60Z5v0Bfc\n",
       "6+DLG6EqKUTabCsBXIjpT1XQPBWqkj1hc8Ie6ySA9+IWbPGn2SANyaWi/65ZgkOADnrGWQ+DpUMv\n",
       "V6ZDGpT9R8GYzZE9eZfsvcgw5u1OGCwderm+CA3I9clQc4PMiE2hrIXB6RtuFLyh4qqSsqoFn9CL\n",
       "nZYx2L3y8ar3PkEzdjI0thdKZhdmThFmZ0mCH0DuIoEnVFwvSDV9DhZxzDWZ/2zcXMo4AO9pJyoa\n",
       "5pLhfd6BfesO9r5elqONT0P6kMDooD1BaQS5bpF+zjrwnLfHKt19drUj3duLeWxlIOeg9b5Pwhn3\n",
       "LG8MbEpwrtIEY4vA86p1nSN1By34xRfjczF0Bihh6x3AcW4HpzwwTQugtemDz8OwReBSAheU3dR3\n",
       "nOCaX0OGLZ/Ly8ITkgtwWly+dmOoH0GpmMAlYghNSFOu+rmBzgCzCG6IU8xjCDStUG54e3BNgGcD\n",
       "+5WPyQ3YBiMfzvkhdxHSrthqzsP5MDcue1mwEMl5z3sbArkRty6ZpCtQbofPcrnyCuvsKp5kEUfQ\n",
       "GqD/NA79ai3Ocjav/xbgVRWXXHTLftwJ16iWvfuQj4glaIQ/+GnWa8BGF6ofojWKjVb/CPB6hChb\n",
       "r9+8UK/nAzWqGV9OGRYKzIhUXI3yh3QIzGoqhKi9Aw77EQ+IltKDeNgYvJ1S114hL1EzbcPqf6dI\n",
       "MeLvlGV41udOCd2Vun2/z1z+4a6cqRa7E1dKwj+A+T//ABxsKu/Sv7lNwJ5ucdQ1AAAAAElFTkSu\n",
       "QmCC\n",
       "\" style=\"display:inline;vertical-align:middle;\" /></a></span><br>"
      ],
      "text/plain": [
       "ylxly: {y < x, [not](x < y)} |- ((y < x) and (x < y)) = FALSE"
      ]
     },
     "execution_count": 10,
     "metadata": {},
     "output_type": "execute_result"
    }
   ],
   "source": [
    "ylxly = And(Less(y,x), Less(x,y)).evaluation(assumptions = [Less(y,x), Not(Less(x,y))])"
   ]
  },
  {
   "cell_type": "code",
   "execution_count": 11,
   "metadata": {},
   "outputs": [
    {
     "data": {
      "text/html": [
       "<strong id=\"xlyeqx\">xlyeqx:</strong> <span style=\"font-size:20px;\"><a class=\"ProveItLink\" href=\"../../../__pv_it/theorems/851392b6f273e0cbcf1bc7828c98c2cf9db6bb7a0/expr.ipynb\"><img src=\"data:image/png;base64,iVBORw0KGgoAAAANSUhEUgAAADMAAAAQBAMAAABJt1qBAAAAMFBMVEX///8QEBBmZmaqqqrMzMxE\n",
       "REQyMjIiIiKYmJh2dna6urrc3NxUVFSIiIju7u4AAAA6P00QAAAAAXRSTlMAQObYZgAAALhJREFU\n",
       "GNNjYEAFZg4MOEC7Ni6Z6/NQuG/v7Lp5Aczimw6hGfguXWDY+ICBbwJHLXsCWEC9Aaqak0uA4T6Q\n",
       "esD5j2sDSOCYAcygzUwJDKFAtQysARBTEFIPGC8w/AUx+KE2cMMNZFj/gOULiPaHeQXuDAY1Bl4B\n",
       "BgbmB/cZeB+gOT6GgfUAUK9BPMMOdC/rMKwHGv7m7luNBvSAenNXfwOuYAHahh3wJPD9wiHF3sB6\n",
       "AYcU110VIAkAWaUyBI00ZbcAAAAASUVORK5CYII=\n",
       "\" style=\"display:inline;vertical-align:middle;\" /></a>, <a class=\"ProveItLink\" href=\"../../../__pv_it/_proof_symmetric_less_eq/a02ada985446687be658e53b29bdb10907bf521e0/expr.ipynb\"><img src=\"data:image/png;base64,iVBORw0KGgoAAAANSUhEUgAAAFEAAAAUBAMAAAAHNMzaAAAAMFBMVEX///+6uroQEBCqqqqIiIgy\n",
       "MjJERETu7u6YmJjMzMxUVFTc3Nx2dnYiIiJmZmYAAAAutVgsAAAAAXRSTlMAQObYZgAAARdJREFU\n",
       "KM9jYIAD7gYGnMAahVeGWyED1wZkXjQelewBSByOB3hUMhxBYvNuwKeyCIm9F59CBlYBBNsP6Bo/\n",
       "B4ZNBWgudFktArSaB8ltGUAuowKDP4h9NBQE4kDMGoZeh6tAXwQwvL0LBHeAQpcZGDbzBTCkoVl7\n",
       "nOF8gTQDA/MFCHcXECsyMBQwOTB8QVNZANHL+QFFJYN8AedPDM98QVcJtJ3hKQOLAsKdUWA5iF5G\n",
       "JNuBPmLIYmBbgGaiOcsHBnewjyD6gPgcEL9ikEdLJoyf2T6Akg7fAYSYLBBXubxHiyn2Je5+HaCQ\n",
       "n4Aem09xxFEtagrhCmD/SEQKYchm4G1gcyAi1QFTMqPLSxxGsqE4H1/u6GZgAAAp4EQoV7/1MwAA\n",
       "AABJRU5ErkJggg==\n",
       "\" style=\"display:inline;vertical-align:middle;\" /></a> <a class=\"ProveItLink\" href=\"../../../__pv_it/_proof_symmetric_less_eq/2e0cbb0c00e684707648fefd240444ef06bbd1e20/proof.ipynb\" style=\"text-decoration: none\">&nbsp;&#x22A2;&nbsp;&nbsp;</a><a class=\"ProveItLink\" href=\"../../../__pv_it/_proof_symmetric_less_eq/423cee2481bbc10222d2705454af5fbd8d80efc60/expr.ipynb\"><img src=\"data:image/png;base64,iVBORw0KGgoAAAANSUhEUgAAANUAAAAUBAMAAADo2mWhAAAAMFBMVEX////MzMxUVFR2dna6uroQ\n",
       "EBCqqqqIiIgiIiJmZmYyMjJERETu7u6YmJjc3NwAAACgK8IjAAAAAXRSTlMAQObYZgAAAkdJREFU\n",
       "SMeVVr9LHFEQHrOnt+ftbiRtijtBCFiIrd01IXaxEExhsaWlJAS5ygOJXiDKgUUgEDhBUqQQsbFK\n",
       "PLQ4YopcF0x1RYqkEPwDVHzvzczbfbfv7XEfzM7uznx878fsvAWIeqDMgYn+4JtryE3OEhL8JHNh\n",
       "buA5OB6SPGd5PxYrd0TmwiX5iPxkf0jypW3C6/IattDM0EFy762TBiVd5UipZCZktfw+Whrh+9SL\n",
       "YAn90w/o9/K0ZDITslr/yFIobnXSj4foZjZwKRt5Wir50KVVJ+u+/vsGJ3+xQwndjxCtAizgiNs+\n",
       "DqSlAwaIL5MXXFrf0IL5cMdvyxc/djlh/jkUbwD+4E7Enqqlck8HwPuqIDeS+TJZEVIxrbWN5nW8\n",
       "24LcpUdfWCqKP0FZFPiaevIhUkPxYx0wioL4MnnNNa9ltIDZ51orgBV4LHIq6uk3wLT04zUdMIqC\n",
       "+BVgglsLNPu/XsPCLVSmmCqq8AlpccAE8nO1aA0hYevaKLXhrXCLKrlFX7FYQw7wnlQh4S8ywYiZ\n",
       "tTHR2YRix6z5chVOeKuljtRTtUEBY+DE17VhmxcV6cv4LGmq9C2XqoU74fbVl0zrCF5LB9Jg/j4T\n",
       "bFo06fON7ufeQI8KntXvhVP3M/Iiv+ZCQwfSYP4BE1IoNZvvXjWbVWuPSrJEmQeqUdRUt9Y9qtR2\n",
       "9KgGE2yw9l7ELPyqZVvpFQdG6b2E72RZ7MKp5Ygo9ykwypky9Kx8UZ+yjEOclRgYbeDYivL/AcJR\n",
       "/gFkcug8Sx8Arma6stqipbMAAAAASUVORK5CYII=\n",
       "\" style=\"display:inline;vertical-align:middle;\" /></a></span><br>"
      ],
      "text/plain": [
       "xlyeqx: {x < y, [not](y = x)} |- ((x < y) and (y = x)) = FALSE"
      ]
     },
     "execution_count": 11,
     "metadata": {},
     "output_type": "execute_result"
    }
   ],
   "source": [
    "xlyeqx = And(Less(x,y), Equals(y,x)).evaluation(assumptions = [Less(x,y), Not(Equals(y,x))])"
   ]
  },
  {
   "cell_type": "code",
   "execution_count": 12,
   "metadata": {},
   "outputs": [
    {
     "data": {
      "text/html": [
       "<strong id=\"xeqylx\">xeqylx:</strong> <span style=\"font-size:20px;\"><a class=\"ProveItLink\" href=\"../../../../../logic/equality/__pv_it/theorems/72728018cab57b4b94b0a2b3d711aa95324f266f0/expr.ipynb\"><img src=\"data:image/png;base64,iVBORw0KGgoAAAANSUhEUgAAADMAAAANBAMAAAD2/0vEAAAAMFBMVEX///8QEBBmZmaqqqrMzMxE\n",
       "REQyMjIiIiKYmJh2dna6urrc3NxUVFSIiIju7u4AAAA6P00QAAAAAXRSTlMAQObYZgAAAKFJREFU\n",
       "GNNjYHh7Z9fNCwwogO/SBYaNDxj4JnDUsicA+ZxpYKAAYnIJMNwHUg84/3FtQNW1mSmBIRSomYE1\n",
       "gAENPGC8wPAXxOC/gC7FsP4ByxcQ7e8A5kLtOgBiqzHwCjAwMD+4z8D7AE1XDAMrUMl6g3iGHegG\n",
       "6jCsb2BgeHP3rUYDutSbu/obGHABNRziPAl8v3BIsTewXsAhxXVXBUgCAM1cLDnk3FtcAAAAAElF\n",
       "TkSuQmCC\n",
       "\" style=\"display:inline;vertical-align:middle;\" /></a>, <a class=\"ProveItLink\" href=\"../../../__pv_it/_proof_symmetric_less_eq/796826776372c7bd7ce32b8f0ea64429bb6e728a0/expr.ipynb\"><img src=\"data:image/png;base64,iVBORw0KGgoAAAANSUhEUgAAAFEAAAAUBAMAAAAHNMzaAAAAMFBMVEX///+6uroQEBCqqqqIiIgy\n",
       "MjJERETu7u6YmJjMzMxUVFTc3Nx2dnYiIiJmZmYAAAAutVgsAAAAAXRSTlMAQObYZgAAAS9JREFU\n",
       "KM9jYIAD7gYGnMAahVeGWyED1wZkXjQelewBSByOB2iyzJFInCNIbN4NqAo57iELFCGx96IqZLlT\n",
       "gMxlFUCw/YCu8XNg2ARRUHMF5kKX1SJAq3mQ3JYB5DIqMPiDOXU3YMI1DL0OV4FuCWB4excI7gCF\n",
       "LjMwbOYLYEgDB0ow3IDjDOcLpIHeuwDh7gJiRQaGAiYHhi8gfhVCZQFEL+cHFJUM8gWcP8EC+24g\n",
       "nPUFXSXQdoanDCwKDKg+YoDoZUSyHegjhiwGtgVooWTO8oHBHewjiD4gPgfErxjkG1BDnvEz2wdQ\n",
       "0uE7gHCOLMgnLu83oMYm+xJ3vw5QyE9Aj82nOJJILWoK4Qpg/4hDJXIKYchm4G1gcyAi1QFTMqPL\n",
       "SxxGsqEkNHy5o5uBAQAs0kvOnLNKtQAAAABJRU5ErkJggg==\n",
       "\" style=\"display:inline;vertical-align:middle;\" /></a> <a class=\"ProveItLink\" href=\"../../../__pv_it/_proof_symmetric_less_eq/dda237d6edf8541f0c24a456603d2b659456444b0/proof.ipynb\" style=\"text-decoration: none\">&nbsp;&#x22A2;&nbsp;&nbsp;</a><a class=\"ProveItLink\" href=\"../../../__pv_it/_proof_symmetric_less_eq/ee4db88967090ad2da5e40f6a255b2cd2acd11370/expr.ipynb\"><img src=\"data:image/png;base64,iVBORw0KGgoAAAANSUhEUgAAANUAAAAUBAMAAADo2mWhAAAAMFBMVEX////MzMxUVFR2dna6uroQ\n",
       "EBCqqqqIiIgiIiJmZmYyMjJERETu7u6YmJjc3NwAAACgK8IjAAAAAXRSTlMAQObYZgAAAkpJREFU\n",
       "SMeVVjtPG0EQHnQG2/H5YtFS2JGQkCgslyFK4SbCHRRIoaC4EqVCIERcxU3ARRKd5CJWpERn5AYX\n",
       "CNFQJbFoLEERugQqFxQ0SPwAEmUfM+t77J7lkebm7r75bnZ3ZmcPwLkCoQaZGUbf3EOic5wwkktU\n",
       "k5Qjz/bJGOey5v2UK8wxqkku0DponwzHOF/oJrzFr3lPqlGsLYyBTtdRhzeFsDMR4rEyQ6lGsVel\n",
       "nfsg7acI/udbxJkI8Vh3qGbpSjO/J5eyEUbfvow5d02x6qiD7dudyOQHn8HZAFiSI/YzwqY9BfC3\n",
       "z4mDfO68ZIr1XapdyR9kfHb/osfliEOVV5B+ALiRmXAtUUu5KwUwVps2C/G5syBY4js9LxhrX6rV\n",
       "tx5T4bQ57hfIsQLfFE8ZcHxhXQUALLqqKJDPnTdN81qTaiM7mGd4DU+ZT1E8/QZ4xu10VQFgj2IR\n",
       "vwhEMMcCyQ5J6hGKBaKyKpzFWASwqbdHDUfyE2PhGgKyMV+H/Dbrwy4zNeHs4S5ma0hAqDaQXyMC\n",
       "5qukqY2Z/jtI98ODyZXglFLN4/B4ojYQCNY88VVt6OaFRbri/ow11Wwp9ZeZltjJuI5geQoI7mXi\n",
       "t4igi4WTPt8bfI02e3uh/o+ZjtjJ/MJ3c6qhgGCPIn6HCMExN5vv15vNUnKPYokBWzSKqujWqkdl\n",
       "fUNDaxBBJwm9dxF+VeOt9JoAU6PW9V6UH6hx+QhnmiMiN0RgkjNl7Fm5XC9oxsHOSglMNnDZipL/\n",
       "AfKT/ANw57zxgPoPFDO248+MzqsAAAAASUVORK5CYII=\n",
       "\" style=\"display:inline;vertical-align:middle;\" /></a></span><br>"
      ],
      "text/plain": [
       "xeqylx: {x = y, [not](y < x)} |- ((x = y) and (y < x)) = FALSE"
      ]
     },
     "execution_count": 12,
     "metadata": {},
     "output_type": "execute_result"
    }
   ],
   "source": [
    "xeqylx = And(Equals(x,y), Less(y,x)).evaluation(assumptions = [Equals(x,y), Not(Less(y,x))])"
   ]
  },
  {
   "cell_type": "code",
   "execution_count": 13,
   "metadata": {},
   "outputs": [
    {
     "data": {
      "text/html": [
       "<span style=\"font-size:20px;\"> <a class=\"ProveItLink\" href=\"../../../../../logic/equality/_theory_nbs_/axioms.ipynb#equals_symmetry\" style=\"text-decoration: none\">&nbsp;&#x22A2;&nbsp;&nbsp;</a><a class=\"ProveItLink\" href=\"../../../../../logic/equality/__pv_it/axioms/e6f7b31ca70e222042a7b5b219b78712171810de0/expr.ipynb\"><img src=\"data:image/png;base64,iVBORw0KGgoAAAANSUhEUgAAAN0AAAAVBAMAAAAwUfbwAAAAMFBMVEX///8QEBCIiIhmZma6urrM\n",
       "zMxUVFQiIiJERETc3Nzu7u6qqqp2dnaYmJgyMjIAAAAcRTyBAAAAAXRSTlMAQObYZgAAAmVJREFU\n",
       "SMe1VjFoFEEUfbns3W42e5cU2i93EEIa08RKzhDBYGOSxjoELWwkhRaiiJXcFcJaJSiSsYkSLA6s\n",
       "tDrO7gRdUJCAwoIgKBiOoKDYuH9ndr2Znbk7kXx4cPvf+3/m/vz9s4DJJkIOkz3X+B4OlhMievio\n",
       "ETwRMFkpyLnc24PlhFf08FUj+CJgMjfKuSrBYDlhm0qn2Vd5nsNsnZzn7TB5jAoDvFaetgMOsz3K\n",
       "ea4Pk8cod/f2tjT0loDZKotqh20OkxN+Nho3NXSNw635uMeUo6heXoor46nVLsxnnCTnKUhOuAQ0\n",
       "Nevd5fCsaZyg59cHZJ/o51O892/FlYkUvxNmHLzEfUBbEilITjij6zTgBseD8QgNheriDTsHTKrl\n",
       "s1sZ128iBckJNgq6t/oYBxvzcahQjO+g2FP8Y4sZJ8l5CpITvNCGeT2ssOKPHHloXA+53aUp0vUm\n",
       "ogv0ZizMrALWDGwm1RN1FKb/ntPnhOM7sDYVP9VTcOn5rSNLQfIkpHkxbi12xY53502xNblfcAfO\n",
       "urLfF4Ue5tJ+6TPqF8FJxlOk/YJn8aJFfCPm/jJmheilwEmsKMdr/XZ6NMjH20reuNtTTjKeguRJ\n",
       "yJRPzl8JdQobQrQssFs9rUwZd2OuRgO+sqrkjauVcpLxFCRPQsosOfwiUVdxPDfP6oaB8Xj0eVYX\n",
       "8ixkx4s8bDNcs3ryvC5F7vf/nNciRac/ZPddp4u1Fs7OZk3QTGCHjj/yfeRo5ztPkd5H/dZyAyeU\n",
       "71urumD4e86o9y1PQXIlZDIotc+P/D2x/2/fE/v5kDKsD20crf0BIWnW/FCMiDQAAAAASUVORK5C\n",
       "YII=\n",
       "\" style=\"display:inline;vertical-align:middle;\" /></a></span>"
      ],
      "text/plain": [
       "|- forall_{x, y} ((y = x) = (x = y))"
      ]
     },
     "execution_count": 13,
     "metadata": {},
     "output_type": "execute_result"
    }
   ],
   "source": [
    "equals_symmetry"
   ]
  },
  {
   "cell_type": "code",
   "execution_count": 14,
   "metadata": {},
   "outputs": [
    {
     "data": {
      "text/html": [
       "<strong id=\"spec_e_s\">spec_e_s:</strong> <span style=\"font-size:20px;\"> <a class=\"ProveItLink\" href=\"../../../__pv_it/_proof_symmetric_less_eq/3378d8166f4dd751fc6b444adf3ef60aeb916b3e0/proof.ipynb\" style=\"text-decoration: none\">&nbsp;&#x22A2;&nbsp;&nbsp;</a><a class=\"ProveItLink\" href=\"../../../../../logic/equality/__pv_it/axioms/3b2912001c2db5800f74c5a10b88a06b81d3225d0/expr.ipynb\"><img src=\"data:image/png;base64,iVBORw0KGgoAAAANSUhEUgAAAJ0AAAAUBAMAAABltyL1AAAAMFBMVEX///9UVFTMzMx2dna6uroQ\n",
       "EBCqqqqIiIgiIiJmZmYyMjJERETu7u6YmJjc3NwAAAC+aOQFAAAAAXRSTlMAQObYZgAAAZ9JREFU\n",
       "OMullDFLw0AUx/9tU9M2sXRzEz+CmyiC3XSyHfwAfgCRbKFQsJODg1THLMbRDqKzKBERhC4ddVC6\n",
       "KC5CELGr73JJbF6apOKbkv/73f/u3t09oDpAYuxO0D4y8H5yHrlhTNIvMvDzFD/djkmVYTo+203x\n",
       "w1JMecrAS8M04D6mHGbg72l5VOpMqHYy8BZtu2Xg1WGlMOfXafUFXg21G+YiuLQg/JoGKU3sCXWl\n",
       "J+JMfN7h0Tig6tpM1wZhDgVP7okpfQvC94G3so0rto5VrDmbwAzfXmk7zI2Hb0H4FuAUDYzYOEfO\n",
       "kHeZXqyHuQguLQgnPzSc/GestqNEP8RmDywIp/3Cgtr8rdOpB8gZlA7TxX79XFC/GkILwuk8cAmt\n",
       "xubbUV20g/MYC3Eefi4S0oLwZfo5QoM1BeVbc0WjKC+ycXQjglwkpAXhG/Rza56wV6LPtVvP4oIu\n",
       "sHG0oyAXCWlBuHxvVsKFf5j+vVkSp36Qs/Wvf/YD30LgNygNNGPqfqVN7B/SwsP7UMzjhOVp0/ZT\n",
       "aeHhaf3+5W/9nvAf5k+TRnHIIZkAAAAASUVORK5CYII=\n",
       "\" style=\"display:inline;vertical-align:middle;\" /></a></span><br>"
      ],
      "text/plain": [
       "spec_e_s: |- (y = x) = (x = y)"
      ]
     },
     "execution_count": 14,
     "metadata": {},
     "output_type": "execute_result"
    }
   ],
   "source": [
    "spec_e_s = equals_symmetry.instantiate({x:x, y:y})"
   ]
  },
  {
   "cell_type": "code",
   "execution_count": 15,
   "metadata": {},
   "outputs": [
    {
     "data": {
      "text/html": [
       "<span style=\"font-size:20px;\"><a class=\"ProveItLink\" href=\"../../../__pv_it/_proof_symmetric_less_eq/128609e81f7849a14b0f6dd43c08472d0c8d9cc30/expr.ipynb\"><img src=\"data:image/png;base64,iVBORw0KGgoAAAANSUhEUgAAAGcAAAAUBAMAAABi2T6lAAAAMFBMVEX////MzMxUVFR2dna6uroQ\n",
       "EBCqqqqIiIgiIiJmZmYyMjJERETu7u6YmJjc3NwAAACgK8IjAAAAAXRSTlMAQObYZgAAAZNJREFU\n",
       "OMtjYOC7wIALsD3AJXOaATfQQ+NXRO9f2uQAZKzDo+kUusACcZ49cxkYeCegS2QJwJnMBWhyG3wZ\n",
       "CrkZGDjQ3X1jHoLNEwCheXd0dME0pQE1vUB3tg0ybwmYZNx+AGGTCTAQKoHM40VPiiEO4bGAOuj4\n",
       "dAa+GAYGS4jXDiCcx9KoyMCwF6jSgLedYwFYzwxY+Bu4MrB/YGC4hRaIG1z7vwJDrw3o3QPMf1jA\n",
       "XtNKgEryJcxi4N7AwJABUYocELaXGRhCgOaD5UEWwTXxMIQz8ANdKg/2UtQqIIBp4ma5ANLEAJYH\n",
       "WwB3HssfBnkBqCY+FJu4GRRAzmMAy6MGBOcChlIg5QHmBCBrYmJYAAoItgP1DOwHUIOcW4FhEwMs\n",
       "IKaj2MRrAApU/4T9DG/RIpdTgeUvkJoMFuJIgCcjYQbjSWAHHCo/PvcCWjLiUa/8B6QWQhyt7YOa\n",
       "YDlwJX+grxh4GqDBYg1NRlCAmWDBQIvhvAOWBAsD+7CK9jJsx5Y18GdC90oBnAaCog53dufF4V8A\n",
       "t3xp8PdYOB0AAAAASUVORK5CYII=\n",
       "\" style=\"display:inline;vertical-align:middle;\" /></a>, <a class=\"ProveItLink\" href=\"../../../../../logic/equality/__pv_it/theorems/74b0b59013f49991a1c25bdb1edf9d4d75b302640/expr.ipynb\"><img src=\"data:image/png;base64,iVBORw0KGgoAAAANSUhEUgAAADIAAAANBAMAAAAZPSD6AAAAMFBMVEX///8iIiKYmJhUVFTMzMxE\n",
       "REQyMjKqqqq6urp2dnYQEBDc3NxmZmaIiIju7u4AAACH5sGpAAAAAXRSTlMAQObYZgAAAJVJREFU\n",
       "GNNj4LtzgWHXAwYUwHfXuncuAyfHAob7IO60NBDIATFfMiheEGPYzpPAEIqqhWEew/wH3QwPuC4w\n",
       "/EWTeQBR2/+A5QsDOgCrPcbAuwBhTzJYAqI2mIHVAE1HHe8HhnsMDIcZ+hVQJTi+s37gBoo9vnt+\n",
       "A5p3bO/dUWKA2IQVMCfw/cAuw6jAegG7DMfdI9glAG3sLZ0CIcUUAAAAAElFTkSuQmCC\n",
       "\" style=\"display:inline;vertical-align:middle;\" /></a> <a class=\"ProveItLink\" href=\"../../../__pv_it/_proof_symmetric_less_eq/834ee56e1f684b66176c7e9d101bc219be804d3e0/proof.ipynb\" style=\"text-decoration: none\">&nbsp;&#x22A2;&nbsp;&nbsp;</a><a class=\"ProveItLink\" href=\"../../../../../logic/equality/__pv_it/theorems/72728018cab57b4b94b0a2b3d711aa95324f266f0/expr.ipynb\"><img src=\"data:image/png;base64,iVBORw0KGgoAAAANSUhEUgAAADMAAAANBAMAAAD2/0vEAAAAMFBMVEX///8QEBBmZmaqqqrMzMxE\n",
       "REQyMjIiIiKYmJh2dna6urrc3NxUVFSIiIju7u4AAAA6P00QAAAAAXRSTlMAQObYZgAAAKFJREFU\n",
       "GNNjYHh7Z9fNCwwogO/SBYaNDxj4JnDUsicA+ZxpYKAAYnIJMNwHUg84/3FtQNW1mSmBIRSomYE1\n",
       "gAENPGC8wPAXxOC/gC7FsP4ByxcQ7e8A5kLtOgBiqzHwCjAwMD+4z8D7AE1XDAMrUMl6g3iGHegG\n",
       "6jCsb2BgeHP3rUYDutSbu/obGHABNRziPAl8v3BIsTewXsAhxXVXBUgCAM1cLDnk3FtcAAAAAElF\n",
       "TkSuQmCC\n",
       "\" style=\"display:inline;vertical-align:middle;\" /></a></span>"
      ],
      "text/plain": [
       "{(x < y) in BOOLEAN, y = x} |- x = y"
      ]
     },
     "execution_count": 15,
     "metadata": {},
     "output_type": "execute_result"
    }
   ],
   "source": [
    "spec_l_e_dxy.rhs.derive_via_dilemma(Equals(x,y), assumptions = [Equals(y,x) ,InSet(Less(x,y), Boolean)])"
   ]
  },
  {
   "cell_type": "code",
   "execution_count": 16,
   "metadata": {},
   "outputs": [
    {
     "data": {
      "text/html": [
       "<span style=\"font-size:20px;\"><a class=\"ProveItLink\" href=\"../../../__pv_it/_proof_symmetric_less_eq/7fa7d3d1c5712b97abddad65f9be6f1d70f23cfa0/expr.ipynb\"><img src=\"data:image/png;base64,iVBORw0KGgoAAAANSUhEUgAAAGcAAAAUBAMAAABi2T6lAAAAMFBMVEX///9UVFTMzMx2dna6uroQ\n",
       "EBCqqqqIiIgiIiJmZmYyMjJERETu7u6YmJjc3NwAAAC+aOQFAAAAAXRSTlMAQObYZgAAAZdJREFU\n",
       "OMtjYOC7wIALsD3AJXOaATeQQ+NXRO9f2ugAZKzDo+kUusACdZ49cxkYeCegu2kRgs1cgCa5wZeh\n",
       "iJuBgQPN3bydSAI8AVDBHR1dME1pQE0vUPWwNx9A5i4Bk0zbDyBsMgEGQiXQvMoChqcQ4cPtUNnj\n",
       "hU+KgW6zhHjtAMJ5LE1CDAx7gS5nCWCoB4ud7IW5y4C3nWMBA8MttEDc4Nr/FRh6bQwMzzgXMOwG\n",
       "CTEug4fAAeY/LEDPZUCUIgeE7WUGhhAGhgOsBQzfQUIH4Zp4GLjBKvXBXopaBQQwTdwsF0CaGPwP\n",
       "MH0Ci73shZvJXwDXxIdiEzeDAMh5DLMY2KFhCw8IBn0FEOkBZgcga2JkWAAKCIaNDNwCqEHOdqCe\n",
       "gf0ALCCmo9jEawAO1IkM/hdQI9c/YT/DWyA9GSzGkQBPRsoMxhMhDjhYPv8BajI6WH58LsgcSJLi\n",
       "kfZBTbCQZDQLe4LlaYDQLNbQZARzzgQGxgU8X7BrwkiwMLCPgeMCdwGRWQORCVnKJ+E0EAfAk915\n",
       "cWR3AHzRcl9fxhA4AAAAAElFTkSuQmCC\n",
       "\" style=\"display:inline;vertical-align:middle;\" /></a>, <a class=\"ProveItLink\" href=\"../../../../../logic/equality/__pv_it/theorems/72728018cab57b4b94b0a2b3d711aa95324f266f0/expr.ipynb\"><img src=\"data:image/png;base64,iVBORw0KGgoAAAANSUhEUgAAADMAAAANBAMAAAD2/0vEAAAAMFBMVEX///8QEBBmZmaqqqrMzMxE\n",
       "REQyMjIiIiKYmJh2dna6urrc3NxUVFSIiIju7u4AAAA6P00QAAAAAXRSTlMAQObYZgAAAKFJREFU\n",
       "GNNjYHh7Z9fNCwwogO/SBYaNDxj4JnDUsicA+ZxpYKAAYnIJMNwHUg84/3FtQNW1mSmBIRSomYE1\n",
       "gAENPGC8wPAXxOC/gC7FsP4ByxcQ7e8A5kLtOgBiqzHwCjAwMD+4z8D7AE1XDAMrUMl6g3iGHegG\n",
       "6jCsb2BgeHP3rUYDutSbu/obGHABNRziPAl8v3BIsTewXsAhxXVXBUgCAM1cLDnk3FtcAAAAAElF\n",
       "TkSuQmCC\n",
       "\" style=\"display:inline;vertical-align:middle;\" /></a> <a class=\"ProveItLink\" href=\"../../../__pv_it/_proof_symmetric_less_eq/1df0b48bc260371086dfb8a16729e216c2a18e360/proof.ipynb\" style=\"text-decoration: none\">&nbsp;&#x22A2;&nbsp;&nbsp;</a><a class=\"ProveItLink\" href=\"../../../../../logic/equality/__pv_it/theorems/74b0b59013f49991a1c25bdb1edf9d4d75b302640/expr.ipynb\"><img src=\"data:image/png;base64,iVBORw0KGgoAAAANSUhEUgAAADIAAAANBAMAAAAZPSD6AAAAMFBMVEX///8iIiKYmJhUVFTMzMxE\n",
       "REQyMjKqqqq6urp2dnYQEBDc3NxmZmaIiIju7u4AAACH5sGpAAAAAXRSTlMAQObYZgAAAJVJREFU\n",
       "GNNj4LtzgWHXAwYUwHfXuncuAyfHAob7IO60NBDIATFfMiheEGPYzpPAEIqqhWEew/wH3QwPuC4w\n",
       "/EWTeQBR2/+A5QsDOgCrPcbAuwBhTzJYAqI2mIHVAE1HHe8HhnsMDIcZ+hVQJTi+s37gBoo9vnt+\n",
       "A5p3bO/dUWKA2IQVMCfw/cAuw6jAegG7DMfdI9glAG3sLZ0CIcUUAAAAAElFTkSuQmCC\n",
       "\" style=\"display:inline;vertical-align:middle;\" /></a></span>"
      ],
      "text/plain": [
       "{(y < x) in BOOLEAN, x = y} |- y = x"
      ]
     },
     "execution_count": 16,
     "metadata": {},
     "output_type": "execute_result"
    }
   ],
   "source": [
    "spec_l_e_dyx.rhs.derive_via_dilemma(Equals(y,x), assumptions = [Equals(x,y), InSet(Less(y,x), Boolean)])"
   ]
  },
  {
   "cell_type": "code",
   "execution_count": null,
   "metadata": {},
   "outputs": [],
   "source": []
  }
 ],
 "metadata": {
  "kernelspec": {
   "display_name": "Python 3",
   "language": "python",
   "name": "python3"
  }
 },
 "nbformat": 4,
 "nbformat_minor": 0
}