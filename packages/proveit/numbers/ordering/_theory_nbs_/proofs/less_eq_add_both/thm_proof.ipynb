{
 "cells": [
  {
   "cell_type": "markdown",
   "metadata": {},
   "source": [
    "Proof of <a class=\"ProveItLink\" href=\"../../../../../_theory_nbs_/theory.ipynb\">proveit</a>.<a class=\"ProveItLink\" href=\"../../../../_theory_nbs_/theory.ipynb\">numbers</a>.<a class=\"ProveItLink\" href=\"../../theory.ipynb\">ordering</a>.<a class=\"ProveItLink\" href=\"../../theorems.ipynb#less_eq_add_both\">less_eq_add_both</a> theorem\n",
    "========"
   ]
  },
  {
   "cell_type": "code",
   "execution_count": 1,
   "metadata": {},
   "outputs": [],
   "source": [
    "import proveit\n",
    "theory = proveit.Theory() # the theorem's theory"
   ]
  },
  {
   "cell_type": "code",
   "execution_count": 2,
   "metadata": {},
   "outputs": [
    {
     "data": {
      "text/html": [
       "Under these <a href=\"presumptions.txt\">presumptions</a>, we begin our proof of<br><strong id=\"less_eq_add_both\">less_eq_add_both:</strong> <a class=\"ProveItLink\" href=\"../../../__pv_it/theorems/8a4c4ed85b42711e4e567e2056abde7289cc50f40/expr.ipynb\"><img src=\"data:image/png;base64,iVBORw0KGgoAAAANSUhEUgAAAVIAAAAWBAMAAABgRQkSAAAAMFBMVEX///8QEBCIiIhmZma6urrM\n",
       "zMxUVFQiIiJERETc3Nzu7u6qqqp2dnaYmJgyMjIAAAAcRTyBAAAAAXRSTlMAQObYZgAABDhJREFU\n",
       "SMfNV21oFEcYfrN3m9zt7V0CChoCJb1AWmpbjgQkP2xyILS/Wi5/tIJyIdVCpS2pJBRjhCMiXFKK\n",
       "iwGTP4UNB7UcxSz2R0kRPZI/EkUWLTQNKEdjLSR0G0ICJqngOx/7MXt7VssVO/DM7Dszz8wzH+/M\n",
       "LMB/Fb7hCAyzVQhBIaYxlIlxv/ZClRxDcKjXggjf7ams+eEu+AQTxC1irtReaUJjqDKOsvstDTmE\n",
       "5YCqO3AFY8QUJtFc7ZXe43DDVa8x53x9f8ol7NgL3uoUh7dBRQuR0DExaq/0NEcVpdP2x8RZl4Cq\n",
       "KpSqA6A0AUF8oVicrL3Q6ABDNaWJNEsvrXoI6kCl0kQK4CFQPM7nR2qvVEoxwMT8q7pP6VwyA2qK\n",
       "+ctDLyHR32aISifmspgzDxQnAMacTWEJ3fVkxO7Dfj0flP05oU2WRkyGcDP85ZvTSSNShjhlRs47\n",
       "RFJ5ZkXZEpQi+wKO8wFQHPQ64rzQ7QxLfnz9o99Ya+I5l7NnxrFxP60xo8FgmDahy6d0BOoNiNGF\n",
       "lk7pNptUvqHDuqAU2d1EAEMDSKbT26qg5Tr2fK3TlFRYaK1QGkP1CUO0Meajrksz9OhAffuOZX1h\n",
       "WY/IrFO3kdmI4iO2VFK5G5S/cbda1h+vWFYfUDbZmVkG1Wxwu9sSlOIML84WAZUumX6l8T8xatRE\n",
       "G5xZtpXuBWVTnNO6nEcpxJY1l7AM4R1hTpG94SqNlg/hR6H9d8JfbydjVJOkZiG5CmHSMVFacpUq\n",
       "HZ9nQKLCssmTzEW4rXS8bQirj3MUWxOVztCmwrabhx9lHMITPuG2Upv9HsfYccwbkkkdaZj666Dc\n",
       "xLMSwJR2plyllzNZPXyGfr6mt5FO0r3cJkWCRyk7UF+eFZQ2YonBPYrObj5tEzbIxvQq5WzuUfAD\n",
       "Di+UkskgI62khVAOMjSrCQpUaejjQY9HdcJhUG7S5kdpA10gc7sTeu0DO8UwCr/0lQSloT4oZCBU\n",
       "co/eEzbhMzgnnqecfQAYGjG7zpD66GbBdtCgG4dkHc7n862SevFnj9IWaMfh3iSVdsN+mmHbtAjs\n",
       "1SX4NnmkPy36/u372GHCdwDSyoU3TVEpZ5ONSRDHBZvRIkuYNOpEJfMTmlXPVj92VHeU4pH3dRFT\n",
       "siO3qUrmhmjbRc9xm14OvH6h8o4iPQ4wMM/Tsu/DlN6gL2KMN11qSsesY6Bm2D5d8HhUs7xBh/7A\n",
       "hOF4LjqOF12I283ypln1hVIMfqF4nzSONt1bwl8ofO77r74DvYb8aQnjaMddvdegWfAVOXTvlArd\n",
       "rtJ397UxOT/Bodsgt8DEW29w2ynCuhrDM199V74kYcghBAf+6vMGoyIGCfepe+MFPsn/zUs6EviS\n",
       "rhLGwHPhO78BYuxv/3l/NP7x7+TXF/g7iWsM3qyKuKrSGJ4J+XH6afrs/0UIvczOnwKsO0yKF0Gc\n",
       "+wAAAABJRU5ErkJggg==\n",
       "\" style=\"display:inline;vertical-align:middle;\" /></a><br>(see <a class=\"ProveItLink\" href=\"../../../__pv_it/theorems/50c915347820718786123d77b9811a44ea447ed20/dependencies.ipynb\">dependencies</a>)<br>"
      ],
      "text/plain": [
       "less_eq_add_both: forall_{a, b, c, d in Real | a <= b, c <= d} ((a + c) <= (b + d))"
      ]
     },
     "execution_count": 2,
     "metadata": {},
     "output_type": "execute_result"
    }
   ],
   "source": [
    "%proving less_eq_add_both"
   ]
  },
  {
   "cell_type": "code",
   "execution_count": null,
   "metadata": {},
   "outputs": [],
   "source": []
  }
 ],
 "metadata": {
  "kernelspec": {
   "display_name": "Python 3",
   "language": "python",
   "name": "python3"
  }
 },
 "nbformat": 4,
 "nbformat_minor": 0
}