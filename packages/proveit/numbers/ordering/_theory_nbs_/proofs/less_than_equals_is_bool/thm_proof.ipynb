{
 "cells": [
  {
   "cell_type": "markdown",
   "metadata": {},
   "source": [
    "Proof of <a class=\"ProveItLink\" href=\"../../../../../_theory_nbs_/theory.ipynb\">proveit</a>.<a class=\"ProveItLink\" href=\"../../../../_theory_nbs_/theory.ipynb\">numbers</a>.<a class=\"ProveItLink\" href=\"../../theory.ipynb\">ordering</a>.<a class=\"ProveItLink\" href=\"../../theorems.ipynb#less_than_equals_is_bool\">less_than_equals_is_bool</a> theorem\n",
    "========"
   ]
  },
  {
   "cell_type": "code",
   "execution_count": 1,
   "metadata": {},
   "outputs": [],
   "source": [
    "import proveit\n",
    "theory = proveit.Theory() # the theorem's theory"
   ]
  },
  {
   "cell_type": "code",
   "execution_count": 2,
   "metadata": {},
   "outputs": [
    {
     "data": {
      "text/html": [
       "Under these <a href=\"presumptions.txt\">presumptions</a>, we begin our proof of<br><strong id=\"less_than_equals_is_bool\">less_than_equals_is_bool:</strong> <a class=\"ProveItLink\" href=\"../../../__pv_it/theorems/95cc00d3693a35214539acdfd3b1a9dce3d4457a0/expr.ipynb\"><img src=\"data:image/png;base64,iVBORw0KGgoAAAANSUhEUgAAALwAAAAVBAMAAAAOdJm+AAAAMFBMVEX///8QEBCIiIhmZma6urrM\n",
       "zMxUVFQiIiJERETc3Nzu7u6qqqp2dnaYmJgyMjIAAAAcRTyBAAAAAXRSTlMAQObYZgAAAslJREFU\n",
       "OMutVV1IFFEU/hhn3dnZGZUoiB7CkjYfgkSpJxUtaCGo1h6qB0GxjHoRWdx8SGsRqt0iXCpSgmhY\n",
       "QUTCFnqQqIdBe4jth33wIcRiKgsqiu2thKD7N+7M5A4SHTh77/3uud+eOefcc4F1SKjAtYyEM+Vx\n",
       "i07e+NNPCS0nZz3rnZtH351rY/hzuv7iT/9ZqFOkRGk+4z1gHVWvtjB8nH580pddb+DqlPtxx0Kr\n",
       "9ZxIHsIOheFVBhlyvvTBDFeH3Bx2rtQa4ceVwQs2/WOF4Xp+enrMPzZjQkty+6vbYpn9BkaMkvdP\n",
       "pzj+M5Ua8qevE5qN3NrFwnBi2d7KNiK0BZjnKTBKwZETvWA4GdL+9Ne5qqYeD9JCUy6tbpntkIrA\n",
       "W08BJdsv/iCVQ/H9UK2/KWfrT7635+e5aoa2ItMUSHHbzVCuFQqpi1lO6kztyyUwPAjJc2PUJ00F\n",
       "SUPeroeNXFXGxFI4JPhVbEA1Metiod/6nYhNr8gFhmuFoMfz14+mQegXC256MCZ+Hz+IQpJX0BUT\n",
       "9CGX9wq6GR6yjhFgbk+EmMkRBA2ZljilN93BAWMStJ/4tMLCNjJE2aLGSV9J+wHF06cIm9EXJLnQ\n",
       "qo0OVIHTNzW4Uxs2dhM7gQVSNHVQunEZdmobXd7rJscf9hNrfKPwnSjqMcHoK04P2MbzXI/kRnG3\n",
       "1OZ6mffd8m8yNPPrt3o7rU682CtwHtFfDG9GD46nUqlaSbuxYBtHuU5uz7Z426baU0cPfuSLMwfd\n",
       "LY3hOv3gQDFANwawiUSNBSfcaZRvCiUh0YfaLzLyTDQF+88FjnuapWHcQEIuQovx2OdNn5YmpA8P\n",
       "2tZoad5WN7kwl0dHDgfqiTPX6IV4ZU602mZpuG72zCAV1pCHMbJWQ167UefUjEKiK5HYr/M52VcX\n",
       "Q/mmkvY8XpXm4X94DPXMunAd8pKJ/yp/AEcswY1jV5tgAAAAAElFTkSuQmCC\n",
       "\" style=\"display:inline;vertical-align:middle;\" /></a><br>(see <a class=\"ProveItLink\" href=\"../../../__pv_it/theorems/b2ab860ec06f3f15e6bbf228484885e9f8562aa30/dependencies.ipynb\">dependencies</a>)<br>"
      ],
      "text/plain": [
       "less_than_equals_is_bool: forall_{x, y in Real} ((x <= y) in BOOLEAN)"
      ]
     },
     "execution_count": 2,
     "metadata": {},
     "output_type": "execute_result"
    }
   ],
   "source": [
    "%proving less_than_equals_is_bool"
   ]
  },
  {
   "cell_type": "code",
   "execution_count": null,
   "metadata": {},
   "outputs": [],
   "source": []
  }
 ],
 "metadata": {
  "kernelspec": {
   "display_name": "Python 3",
   "language": "python",
   "name": "python3"
  }
 },
 "nbformat": 4,
 "nbformat_minor": 0
}