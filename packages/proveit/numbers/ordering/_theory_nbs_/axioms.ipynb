{
 "cells": [
  {
   "cell_type": "markdown",
   "metadata": {},
   "source": [
    "Axioms for the theory of <a class=\"ProveItLink\" href=\"theory.ipynb\">proveit.numbers.ordering</a>\n",
    "========"
   ]
  },
  {
   "cell_type": "code",
   "execution_count": 1,
   "metadata": {},
   "outputs": [
    {
     "name": "stdout",
     "output_type": "stream",
     "text": [
      "Defining axioms for theory 'proveit.numbers.ordering'\n",
      "Subsequent end-of-cell assignments will define axioms\n",
      "%end_axioms will finalize the definitions\n"
     ]
    }
   ],
   "source": [
    "import proveit\n",
    "# Prepare this notebook for defining the axioms of a theory:\n",
    "%axioms_notebook # Keep this at the top following 'import proveit'.\n",
    "from proveit.logic import Forall, Or, Equals, Iff, Implies, Set\n",
    "from proveit.numbers import NaturalPos, Real, Exp\n",
    "from proveit.numbers import Less, LessEq, Greater, GreaterEq\n",
    "from proveit import n, x, y, z, rho\n",
    "from proveit.core_expr_types import x_1_to_np1\n",
    "from proveit.numbers.ordering import (\n",
    "    rho_1_to_n, sequential_x_relations, x_relation_sequence, less_eq_relations, greater_eq_relations, n_plus_1)\n",
    "%begin axioms"
   ]
  },
  {
   "cell_type": "code",
   "execution_count": 2,
   "metadata": {},
   "outputs": [
    {
     "data": {
      "text/html": [
       "<strong id=\"less_eq_def\">less_eq_def:</strong> <a class=\"ProveItLink\" href=\"../__pv_it/axioms/0c5852abdea25b4cfe891bbc75352ac30668e46d0/axiom_expr.ipynb\"><img src=\"data:image/png;base64,iVBORw0KGgoAAAANSUhEUgAAAUcAAAAVBAMAAAAnVjEQAAAAMFBMVEX///8QEBCIiIhmZma6urrM\n",
       "zMxUVFQiIiJERETc3Nzu7u6qqqp2dnaYmJgyMjIAAAAcRTyBAAAAAXRSTlMAQObYZgAAAz5JREFU\n",
       "SMfNV01oE0EYfU3z1+2m7UHvSwu19GIvVUSpwYLFS38u4kUoxSJeSvAHEav0IJIclBXBloq6RWil\n",
       "FAn0pAcp8SBE0IBCKSgEioqKEkRB8eLOzszuzOxskt588Mhm8t43MzvfNzMBotBWoYzCE03bPcZm\n",
       "LY3ic1ZJw3uN6BFjFJJ2qMmYo2za0ig+50vS8EUj+swoYc94MKJqyNJhU0aBWhLe8zh08RUx5wJ5\n",
       "65rZZwYoJd8LS/hWCnneMEpo/6BYkmR8GQvh+DJKATscwCyGJSmbUsyg/VIKLYU8lxilyZ6zFUti\n",
       "koR3EIqvYClgpry6Oq+RzDMKY5yR59KRVcsgRykiNuuELGSRhxGKH0qebMDf+fysRtLDaHSfOeKt\n",
       "UuImH5TRY+GWA1NdrNgApW8B1s5qLOsuC1DjC1kViDmnmUPBDcY1bFpXSUPerxkz3oW97hp4ZfDq\n",
       "O8E2eUxXKH0LHl7RWVLujOegxDe9ON8HZDHnsK5OgcuMZbx2jnmF3c9/uttaRd6tiJyaxkVK35L8\n",
       "qrXELCSzUOMHEMScKcR0W+ouRofoPWyW2YPTYuGH+zZqiqUlS+lblv1BShYjh8d+H0F8aMScZiWF\n",
       "OoME0VM8O8AexpzErzqDDCy3+XLLloN0d1bjIyzmbKseJ5vRYK+bc/FeujcIyw2iZxidpp9DiHW5\n",
       "4lyQkx/F5RYsvHAkC+4j5/fBxSwnJ2UxJwqn3DRxZlLuOzA7nQmlcJ7GavCz8cQ17+M60pO8CgTw\n",
       "whEtfAuSLOmTlt+HFJ8hEHNiPUeOqm/k18UR9DHhc8r433RNuAbc8Up8H8bcptYNJTbbL2QL28wl\n",
       "S+K0w/tQ4lMEYk50etP64/18CFNMOEJpTPX3hK4fy92HySk9rjSztVEs9FiULdt+Hw3icyJDppWo\n",
       "eef+eeyOPhYFDLlcaepY1FoWgz7qi1fEfh6YVRMLDi7Ea3UuGPwSVTV+Nn/BqGNpHL8kmpbflsqY\n",
       "KOJon18NBUhHkfHpIgF59alK2tJe1dI2pea6orcUUF/MKaJo2OlK40tvvHsQ2tFEX3ojLI3ia2bd\n",
       "bic3Rpv++7C1878PWzv5+7AlUEwRxN9t4D/EPz5FQJYMbhovAAAAAElFTkSuQmCC\n",
       "\" style=\"display:inline;vertical-align:middle;\" /></a><br>"
      ],
      "text/plain": [
       "less_eq_def: forall_{x, y} ((x <= y) = ((x < y) or (x = y)))"
      ]
     },
     "execution_count": 2,
     "metadata": {},
     "output_type": "execute_result"
    }
   ],
   "source": [
    "less_eq_def = Forall([x, y], Equals(LessEq(x, y), Or(Less(x, y), Equals(x, y))))"
   ]
  },
  {
   "cell_type": "code",
   "execution_count": 3,
   "metadata": {},
   "outputs": [
    {
     "data": {
      "text/html": [
       "<strong id=\"greater_eq_def\">greater_eq_def:</strong> <a class=\"ProveItLink\" href=\"../__pv_it/axioms/5c0a5537056800bf8035727e9dd4a61d6a529e0b0/axiom_expr.ipynb\"><img src=\"data:image/png;base64,iVBORw0KGgoAAAANSUhEUgAAAUcAAAAVBAMAAAAnVjEQAAAAMFBMVEX///8QEBCIiIhmZma6urrM\n",
       "zMxUVFQiIiJERETc3Nzu7u6qqqp2dnaYmJgyMjIAAAAcRTyBAAAAAXRSTlMAQObYZgAAAz5JREFU\n",
       "SMfNV01oE0EY/Zpuks120/ag96WBWnqxlyqo1GDB4qU/F29CKYrUQwlWEbFKDyKJIEQEWyrq9tJK\n",
       "KSXQkx4kxIMQQQMKpaAQKFRULEEUFC/O7PzszOxsNr354IVl8t6byXw7PwEIQ6pGGIbnmrbHlK1a\n",
       "ovIZ67jhk0b0jDIMiWKgyZonbNkSlc/4Bjd81Yi+ULIBzLrKiOoBS2eRMAzEEveex0HO14oZF/Gs\n",
       "a359eoCQo2NX6b4S8LynZNhQq+lZEnh8aQeU/AAqPjvRBNmloCRZJPRh7I5LiuWA5zoln4zXDgQt\n",
       "8Ukc74Kar2LZZ7q6tragkSxQCojns1Jxs+oyyBEKOFSFoAUXeRiC+erLk/X5O5+f00gylFbP9ClW\n",
       "2NSMN+VWxoH7LthqsWIDhKJl6xgELJuIBdDkswL4YsYL1KHgHuU6bDm3+FwdxQWyjW44jGrgLYO3\n",
       "exg7+NGsEUqWl9OgWpKoKPOg5Ntezt6ALGYc1q1TgBuUVXjnnuGraRZ/PmqvQx6tpJz6GpcIJQuM\n",
       "XlItMQcSWdDlEwhixiTEdFvqAUoX61k957xtyG1z4AeajYZiacsSihY0yLuqxcrBBu9DFoOSz2jX\n",
       "ktBkkID1BOuX6cOYG//VZJCChZVbthwnu7Oaz+GLGVP1s3gzGuxFG4zRS/YGodyA9R4e3GQhQxDr\n",
       "RuKc/07uiuX2LXzhSBZ4AjneBxPTd3JSFjNC4TwqpDuTRHNgd7kTysJ5EWtAP254+I33fAfMSbYK\n",
       "BLCFwy3CFiRZzHMO70MQa/IZYTOHj6rv+NulEeijwleExl+z4V0DrNt+yBEYQ03tZSWb7hfcIm7m\n",
       "kiV+0WV9+GLQ5TNCl5f0x/v6BExR4QihNdWfCVw/VnpO4lN6XGmmtfEtwrEoW3Z4HxH5jJDGPyve\n",
       "8M79K3Aw9FgUMYS4GnkshlqW/D6ai1fFfp7adRsWXbhqNMIuGMIlqm79bOmCEWWJzq+IppUPlSpM\n",
       "lOB0H18NBZCOIuvzNQw89cma6WivamaRUHNd0VsK0FzMKKJkFc1a9KXX6BkE7WjCL70hlqh8za/u\n",
       "KCbKoy3/fdje/9+H7f38fdgWKL4iYHwsw3+If2XIQfuui7VFAAAAAElFTkSuQmCC\n",
       "\" style=\"display:inline;vertical-align:middle;\" /></a><br>"
      ],
      "text/plain": [
       "greater_eq_def: forall_{x, y} ((x >= y) = ((x > y) or (x = y)))"
      ]
     },
     "execution_count": 3,
     "metadata": {},
     "output_type": "execute_result"
    }
   ],
   "source": [
    "greater_eq_def = Forall([x, y], Equals(GreaterEq(x, y), Or(Greater(x, y), Equals(x, y))))"
   ]
  },
  {
   "cell_type": "code",
   "execution_count": 4,
   "metadata": {},
   "outputs": [
    {
     "data": {
      "text/html": [
       "<strong id=\"reverse_relation\">reverse_relation:</strong> <a class=\"ProveItLink\" href=\"../__pv_it/axioms/d9dd07b48708d35436c1773b144df5569964ed320/axiom_expr.ipynb\"><img src=\"data:image/png;base64,iVBORw0KGgoAAAANSUhEUgAAAN0AAAAVBAMAAAAwUfbwAAAAMFBMVEX///8QEBCIiIhmZma6urrM\n",
       "zMxUVFQiIiJERETc3Nzu7u6qqqp2dnaYmJgyMjIAAAAcRTyBAAAAAXRSTlMAQObYZgAAAp1JREFU\n",
       "SMe1Vk1oE0EU/ppuspvtJu1B7yGBWnoxlyqKxKJg8dKfi2cpeqiHkoMeRBFPkgjCempRxPFSpYgE\n",
       "POlBQjwIEXRBoRQUFgRBQQmioHhx3s7sJDu7G+PBB1+Snfe9n33z5k2ANMl7AmnyJGHtznA6waeH\n",
       "9wmEBxJpknNjS/bV4XTCS3r4nED4JJEmth9bKrrD6YRNKl1CXoWqQCiPYqXtxGze6AvPlqN0jiID\n",
       "nFY8nukKqPxelDTGvZjNRe1555BG5yh0t7c3Et5/Q6Iv+7pa9eb1DqtjiAHRCT8bjcsJ8SoCdqWE\n",
       "m0yme1i+anntGK+MU9VMMlWlGyyIdEF0wlmgmRDvhoBjTGG/2o614OshdkpXeGWChnn1leQD/bQ8\n",
       "peNRDoYbLl0QnXA8qdOASwK3x3001OLiOfrs4jU7CUzU9S1vKR2wrnpCuiA6wUQm6VTvEWBjJXzr\n",
       "x7tOn0xkkO1pJmPzSge7H0+6IDrB8Uykx8MSy/7Q6gmRQWI8hNnlVT2lizBe3j9FJ2Nump8VYxom\n",
       "i9QTNWSmEO0XiAyMen//Pob1hMquf4CEC6IHJs0zvLXYusmzcybZSrRfcA3Waa29n2Z6mA37ZUCo\n",
       "X6QuYiBchP2CxzxoFl9Ic2sBM5L8XOIAlrxousZvq0eDfLytxePdHuoi5124IHpgMhk4+hWojmBV\n",
       "chcktspH3eg8s1dnKzTgi8taPF6tUBeZZ8IF0QOTAgs2P0uq89gbm2e1lAl8/6/zTElN0pXJXcd3\n",
       "sMlwwehF53XOt7+nOBlhXoubSLjoDJpsve10sdLCiRnVBM0ApmeVRr6PrMT7SLgI76NBadmu5UXv\n",
       "W6M8l/J61qj3rXBBdM1kws21F0f+P7H7b/8nduMmBRjv2vi/8gf159eiwzGHgwAAAABJRU5ErkJg\n",
       "gg==\n",
       "\" style=\"display:inline;vertical-align:middle;\" /></a><br>"
      ],
      "text/plain": [
       "reverse_relation: forall_{x, y} ((y > x) = (x < y))"
      ]
     },
     "execution_count": 4,
     "metadata": {},
     "output_type": "execute_result"
    }
   ],
   "source": [
    "reverse_relation = Forall((x, y), Equals(Greater(y, x), Less(x, y)))"
   ]
  },
  {
   "cell_type": "code",
   "execution_count": 5,
   "metadata": {},
   "outputs": [
    {
     "data": {
      "text/html": [
       "<strong id=\"transitivity_less_less\">transitivity_less_less:</strong> <a class=\"ProveItLink\" href=\"../__pv_it/axioms/7a1ab1c3db3ce191f0f8c48a35084b6ef59d5b760/axiom_expr.ipynb\"><img src=\"data:image/png;base64,iVBORw0KGgoAAAANSUhEUgAAANEAAAAWBAMAAACs+WTQAAAAMFBMVEX///8QEBCIiIhmZma6urrM\n",
       "zMxUVFQiIiJERETc3Nzu7u6qqqp2dnaYmJgyMjIAAAAcRTyBAAAAAXRSTlMAQObYZgAAArFJREFU\n",
       "SMetVUtoE0EY/prsZrt5elAQRAkGSgkechEKeggVLIqPxIOKF0tQUKgStB6UtuSiJIVKQPpAEFda\n",
       "Kq09BARBoRByTKUuKqiQwh700lIIguDj4j+z2Ue2XU1hB5Jv/m9m9puZ/5sZwLvyxL3pNf00Vlnz\n",
       "QihYcG8LlIEVVln3Qila/scsaEEzhHLBC6UPTiL0zarXaCYKEK54oXTXEUdu2xb5jOL64uK0F0Jy\n",
       "vj32jSj2rU0DP4vFES+UfClKx8Hr/TU9XLplNAzsFlWEqfUqUHIZLOxEqVulz+NTfIxHs6OmGSYS\n",
       "fbR1ZIlj3BjbD24PT27pYGckSnYd75QT3NUblu244UK0txJ8akdKFwed7W1MF2VCQVEP5jfs3Shh\n",
       "YpOMp0roRGlqyx63M0wJ+N6KHo1aOWDzYUqydp75/XBPhsgeSMwx0+uTllI4cY5yOXufqv2DuGcC\n",
       "Z+SxhYy1exB/GN+3HPGKyzFnlq6QcZSbEs0pHFOyjD/SiFtKyYA2jKWvrFr9Le4yQGf8yzWbI974\n",
       "mkg6XB5KIaA7Ai9JTsQmYx8PoJc3v7DtXiaqQtzPj8xc3ldogc5Qwo1TTz4W/nQ3ZdVxci803tOc\n",
       "/FWqxvj8f/HWo8jx4Wl7nmI0YpUz/mogboDOYM5MRx7BXDKx5ryNUpED1DPK9jii8IyJjB7GHgaT\n",
       "uGRTuowMgn2sq5TuMkFn5IyouNxGbeW5UXka1sKYUXBHaBLIQ8sFU0luroKWLl+jlUmZs5DHObSY\n",
       "qZXPrjesvRjZxPzHWh3ZCo73agQRca9iKgVvnDrEIvlBGULuIcR9HFqMmh03z8R/Xg17qQTLzEGV\n",
       "7U+uWMICJmj7ddCZDl9CxyxC5UD1DAOX2wgYEjT2UnPY0ev+xfGgQGhUGbgqnX5Lf6oOnha/lx/7\n",
       "C9Lis2q4HMiOAAAAAElFTkSuQmCC\n",
       "\" style=\"display:inline;vertical-align:middle;\" /></a><br>"
      ],
      "text/plain": [
       "transitivity_less_less: forall_{x, y, z | x < y, y < z} (x < z)"
      ]
     },
     "execution_count": 5,
     "metadata": {},
     "output_type": "execute_result"
    }
   ],
   "source": [
    "transitivity_less_less = Forall((x,y,z), Less(x, z),\n",
    "                              conditions=[Less(x,y), Less(y, z)])"
   ]
  },
  {
   "cell_type": "code",
   "execution_count": 6,
   "metadata": {},
   "outputs": [
    {
     "data": {
      "text/html": [
       "<strong id=\"less_sequence_def\">less_sequence_def:</strong> <a class=\"ProveItLink\" href=\"../__pv_it/axioms/6a4068744fec811d8656b42830e7a109282a8f1c0/axiom_expr.ipynb\"><img src=\"data:image/png;base64,iVBORw0KGgoAAAANSUhEUgAAA3wAAAAZBAMAAACY6zFlAAAAMFBMVEX///8QEBCIiIhmZma6urrM\n",
       "zMxUVFQiIiJERETc3Nzu7u6qqqp2dnaYmJgyMjIAAAAcRTyBAAAAAXRSTlMAQObYZgAACElJREFU\n",
       "aN7tWm+IVFUUPzszb/68ebNK0AcLY9oFC9McGNTIP2wFLVHguEH6IXBYDDNIlpS2zGro725+aLKw\n",
       "RTBfGxhtWw7FkobVtJsfcsmGNCpRmUiL/rgslaErRO/ec+999937ZnfGN34IPHBm7rx37++ce3/v\n",
       "3nPunQcwo2zoLUIwifY+DlekqdLZW4ZI77Y6avYEthW7MtxNl0Te+dj5/6VvN9Mmy4HgppLFRvrQ\n",
       "GC5XTl+V3Dg5PX2t5CtVCUBfUARdzAJqsyVaDG5qYwN9gAZxuTL6xsn136anzyo5X612APqCIujS\n",
       "WkRttpjV4Kbe5wtcjftFCRgaxOXK6BsgxcL09NH7A0EWz6AIuhxl2nQZDW7KSjN6Mv73f5KAG8Xl\n",
       "yugjU4LOjeliH5md44FiX0AEXR5n2nR5M7gpczZ+r93qe9t40XaBG8XlyuhLHR4aen2m1OXE0NA7\n",
       "PYHoC4igJ149qM2X1o7gpk7j1/o2//B6e1oAQ8O4THnmeb6vb9tM9M3q63uxHIi+gAiahDKoZtvG\n",
       "28Vyd8+8nG/lwXmvLUhrlTxNpRUqU4epyOgDPtBCxlgYjdUIYT0C2OOEQK0BS3GZcvqcFv0+Nsoy\n",
       "fdEcxIuB6AuIoEm8gjoM36WfEgMfme275pRTj8SqWiW5qSQpWvPIBJGfapkag9t0aFdOoamSf1Qa\n",
       "Z2FEBRWotWApLlNO3x1+yRZARqYvkhHZ1CXS1wDC/bX3F8ZNArKEehi+tu9yogy59hGYf4Ohp2GW\n",
       "bU1F+LNDK1FhTWV40japLmk+ppw6+zpIiUFLRpknLGOr+i9nbwhg2QlE1TxWcJly+mIQksfL2PwF\n",
       "XJ9X6HN0YWOMJR95YWVa3rbXjZC4hq0kfJuxXw4bfFFo6UC1oc/5de9Scm0uRC4aWT2gmBB3h5dU\n",
       "whI2lbtO2xqTSnMfUy0VWFUiJYSWjKIn62j5G7q06dM7TdYikEGZIYKqe6zgMuX0WRV3hX53bAXs\n",
       "t+ywrdL3VUNnLwQmXbYGZfrqQTAPZiuQxCfWeIFd/FSOAcmqMqYAf9IjQML3FIQuQMTPzCyBgZWY\n",
       "/Ck9F/TmtPRJplbZsKhISwiNRvP8NqPPyTvv81uLbDDyHFh2AlFVj1Vchb5EVdhIbd9lwyfpjAVj\n",
       "2c3ZkkTfG2iwPqEw6XLqPZm+ehC+PzDEGUo8yDpyyrOUCvr4igbGOd65cA+09vjTt06kNFiJzbZz\n",
       "UiwV9CEAxr6fa5hypsIvfERzok1BDDP9SGb8N+YfOvorB5adQFTVYxWXqTjz7F/vjPiKrnYSBh0Z\n",
       "GdlhqbEP4judJ8Vq79IXg9HFWrpHYRz6hmX6KAIM++SGJs+3IhnBkHkLq3ezNxAK+ng+8XFoEuZj\n",
       "n2IZ0mkf+pL2IgjZ2EVaCYvY9Oi3bRkPfalqjSxJMrWZjnonh9boO8XPVJI+G/dfGYUSKDpBUWlR\n",
       "9ljFVVIX+NCxnbqt0lLE888R6737NfqSZOmdH61ugaj35Ctkb4qxjRIhHR5ytIr0hbMyfRQBziRm\n",
       "qwjQmnuFFQRD5hGG2cmXgAf7HKm49JH03tHIxfhkooKd21cwn2QUmP+S31VWWFV6GXazLtJKtMia\n",
       "HpsLczz0hcs+OwmvKfM8vI0lhNboWy6Sja3MEdcbmubEbJBBqROISouyxyouU0EfWWZ33QCzbJNS\n",
       "NgLlMY0+ukLnWitgfO4dfAPOinWJZI1O3oEw6SUbOmT6KEIob06pCDAP9uGVt0R2sprPueHnlJk6\n",
       "h8ewHqpm9/z2k6xzn+1oz/GRfJRYzbPC3rbBFRXsIlbC3tKmicEemPLQ16quD7qp5IW2xVhCaI2+\n",
       "M3TTTj7auCPCmygZlhCLmLITFBWLsscqLlNBX4pU6Xa2HMZjfX3POPTtjun0HafxtMieG1kuyPSR\n",
       "pw1h0l8u9NJ3nK72kUkN4QlYhYU1zgRLG8+S5/I0vzm83Vt5Tdn3JIt0bqUYbH8hXWSVuvkGyxnN\n",
       "tLMP3DTx48REBdu+PcOhmWMqXBVGBcPRiYnrJs7iRZP60IGPtyoR+pnzHJpRJxCVFiWPVVyu3v/7\n",
       "roblBqY4IxDp4vgufRhPnavq4BuTBhz95IREH8KkyyOHPfQR2WeH8yqCOQVLECHq7g3eel6szr/T\n",
       "r00kk6i4s085Ryadu2oG+mgXr3KLLK/Mhcs5efbNdGTtmGpJ6/TJs8RK13/s7jqBqMwf2U0PrnJk\n",
       "zTZbk7BlBA6R4jGAE+qhGatzBMpk8BMvwYBNPwbsPVbVgg8KMbCyS7PLkL5DSJ81rNH3GayxVYTk\n",
       "pLGVIoCVc7OTnf1AapHF4SwreFIXeobjnuOQfew5vvetsZ8kXcRK2FuUPRC7m9NH2vqcYWim9uTA\n",
       "3Zy7Rgv8Yr0HFAKUOoGozB/ZTQ+u8ocRe3zysKACcSdRiDzVwaaBSp/58D0L6OAb18LqojHH+Vhd\n",
       "2nts9LCzC10rzz4Ck9z2h5mtqvQtabsVVIRwd7vNELZLDA1sJLUwcWQFD32e/1BffbqbzYDE0n9q\n",
       "PPq0i1gJe4tyJ4S+YrGPto3P8HctMdUpSmyc0WiBX+yv9x+EguxEp+yP7KYHl6vfyxI3OkHL78ja\n",
       "u+mEpPhVYvSQOCfo02BibpjTEejuBxFCTuwTDK0turWSOn1Nflkizgs/+Nys0xQnI9XklyVkXK6X\n",
       "+K6LsWiZ9D4Ie6tjLxysIH1df5X8zzx5mNMRaNqJCCpDB7RCsgqXR+JNwChcJt98cQO8qiS20in5\n",
       "ani6I2v3SFhFWAs19gak1n6y3bPd6tHyZRqiRBMwipfJt2Ig+nrrfM/TqE1fQ+957pjmH4dxuCKY\n",
       "9fbmIdL76H/Icf4tjxHfcAAAAABJRU5ErkJggg==\n",
       "\" style=\"display:inline;vertical-align:middle;\" /></a><br>"
      ],
      "text/plain": [
       "less_sequence_def: forall_{n in NaturalPos} [forall_{x_{1}, ..x_{_a}.., x_{n + 1} in Real} [forall_{rho_{1}, ..rho_{_a}.., rho_{n} in {<, <=, =}} ((x_{1} rho_{1} ..x_{i}.. rho_{i} x_{n} rho_{n} x_{n + 1}) = ((x_{1} rho_{1} x_{1 + 1}) and ..(x_{i} rho_{i} x_{i + 1}).. and (x_{n} rho_{n} x_{n + 1})))]]"
      ]
     },
     "execution_count": 6,
     "metadata": {},
     "output_type": "execute_result"
    }
   ],
   "source": [
    "less_sequence_def = \\\n",
    "    Forall(n, Forall(x_1_to_np1, \n",
    "                     Forall(rho_1_to_n,\n",
    "                            Equals(x_relation_sequence, \n",
    "                                   sequential_x_relations),\n",
    "                            domain=less_eq_relations),\n",
    "                     domain=Real),\n",
    "           domain=NaturalPos)"
   ]
  },
  {
   "cell_type": "code",
   "execution_count": 7,
   "metadata": {},
   "outputs": [
    {
     "data": {
      "text/html": [
       "<strong id=\"greater_sequence_def\">greater_sequence_def:</strong> <a class=\"ProveItLink\" href=\"../__pv_it/axioms/e7888c2425f3699395be152a03b4323c7679747d0/axiom_expr.ipynb\"><img src=\"data:image/png;base64,iVBORw0KGgoAAAANSUhEUgAAA3wAAAAZBAMAAACY6zFlAAAAMFBMVEX///8QEBCIiIhmZma6urrM\n",
       "zMxUVFQiIiJERETc3Nzu7u6qqqp2dnaYmJgyMjIAAAAcRTyBAAAAAXRSTlMAQObYZgAACE1JREFU\n",
       "aN7tWn2IVFUUP87Mm483b1YJ+mMTY9oFC1McWNTID1aDJJIcjXL/EBwW+zBIFo22zGzIyDX/aLKy\n",
       "RVBfCkbblkOxpKE4uQXlkk1pVKIyfVPksliGrhDde8+9791375vdGd/4R+CBM3PnvXN/59z7e/fe\n",
       "c+88gHHlke4CBJNo99NwXRoqi7tLEOneWINlV2Bfsevd3XBJ5MjHjv8vfbu4NlgOBXeVLNTThvpw\n",
       "hQr6KvTG2bHpa6JfqXIA+oIi6GLmURst0UJwV2vqaAPUiSuU0zdEr/8xNn1WkXw12QHoC4qgS1MB\n",
       "tdFiVoK7ek9McFXuFyRgqBNXKKevlxbzY9PH7vcGmTyDIuhykmvD5VhwV1aa05Pxv/+TBFwvrlBO\n",
       "Hx0SbGyMtfbR0TkUaO0LiKDL01wbLm8Gd2VOwu+ODb63jS22C1wvrlBOX+p4X98b46UuZ/r63u4K\n",
       "RF9ABD3x6kJtvDS1B3f1M36tbvFfXhelHWCoG5eryDwv9fRsHI++iT09W0qB6AuIoEkog2q2rFnk\n",
       "THdLpmZ9jfdOfW16WjPyVJVmqEwNriLHHvKBdmSQL6OxKktYlwPsCcJBrQLLcLkK+kiNrT4+SjJ9\n",
       "0SzEC4HoC4igSbyM2g/fpjc5HR+Z5DvnlFLrYhXNSK4qSYpZnhim8lM1V4OwUId25Ry6KvqvSkN8\n",
       "GVFBHdRqsAyXq6DvLr9kCyAj0xfJONnUVdJXB8LK6vsL43YHsoh6HL607yGrDL32IZh/g6GnYZZt\n",
       "jUbEs8OMmPCqMjytm1SnNB9XxOZAOy1xaMkpj4RnbBX/6Wy3AywHgahaxAouV0FfDEJyfxnrP4Fb\n",
       "cgp9RGfUx1hy3YsL0vK2vWaExE0Ar4sfdysjNiomhQntqDb0kF/3z6HXpkDkitGmLygmxN3upUZY\n",
       "wqpy01ldY0Sp7uNqQhmWFmkJoSWnGMkqVv6aTW368E7TuQhkUO6IouoRK7hcBX1W2Z2h3xmcDwct\n",
       "O2yr9H1R19kLhUmXrL0yfbUgmIfbypAkT+x+MZ0nZntXs2RF6VOAC+wIkK4coxC6DBE/NxOdJwmN\n",
       "uFyQngt2c0z6JFdLbZhZYCWERqc5cZvTR/LOB/3mIhuMnACWg0BUNWIVV6EvUXF8pLbttOFIOmPB\n",
       "YNv6tqJE3250WJswmHQp9a5MXy0I3x3q4wz1ioOLxB1ZX/rEjAbGRdG4cBc0dfnTt8oBQSM+2i5K\n",
       "a6lDHwLg2vdrFVdkKPwmejTr1Mk73cw+khn/jfkHRH8XwHIQiKpGrOJydc48t64mPT5/eStdBokM\n",
       "DGy31LUP4jvIk2K1Ltcng2OztHSPwRD6+mX6GAL0++SGpsi3IhmXoY47xd3P2v3oE/nER6ERmIZt\n",
       "imVoo33oS9ozIWRjE5kRFrHqyW9aMh76UpUqWZLkaj3r9cUCWqPvnDhTSfps3H/nFEqgGARDZUU5\n",
       "YhVXSV3gA+I7tbA8oYDnnwPWuys1+pJ06p0WrTwBUe/JV8heG+P9S0mHx4hWkL5wm0wfQ4BfEpNU\n",
       "BGjKvsILMkP3idnDPEHtH+0hUnbpo+k90ciV+EiijI07kDef5RSY/9LfFV5YWnwZdvEmMiNW5FVP\n",
       "TYFmD33hks9OwuvKvARvYQmhNfrmOcnGBh6IGw1Lc2I2yKAsCERlRTliFZerQx+dZnfeChNtk1E2\n",
       "AKVBjT42Q2ebymB87O18A8478xLNGknegTDp2Y+0y/QxhFDOHFURYCocwCv7PNnJV3zeCZ2XR2qz\n",
       "WMO6mJqd01rP8sYd3d6aFT35JPWa44X9LXvnl7GJaIStZVUTe7tg1ENfkzo/6K6Sl1tmYQmhNfp+\n",
       "YZt2+tEiAnGiidJuCfEVUw6CoWJRjljF5erQl6ImnWTLYTzV0/M8oW9XTKfvNFtPC/y5keWyTB99\n",
       "2hAm/fkML32n2WwfGdEQnoGlWFhBBlja2MxnvB/5Bnabx3hFyfckizZugdPZ/kKbyI06xQaL9Gaa\n",
       "7APXDv8wPFzGum+Nc2hGXIUrjlOH4ejw8M3D5/GiyWJox8dblQj7zHoOzVgQiMqKUsQqrlDv/303\n",
       "wjwDU5wBiCwX+C59uJ6Sq2rnGyMGnDxyRqIPYdKlgeMe+qgcsMM5FcEchdmIEJVGX+RPtOp/Aa3W\n",
       "0kyi7I4+5RyZNu6GcehjTbzBLfK8MhsuZeXRN96RNXE1Ia3TJ48SK137sbsbBKLyeOQwPbjKkTVP\n",
       "8EbgiQH4lBZPAZxRD824zQko0c5PvAS9NvvotfdYFQvez8fAapvTNhfp+xTps/o1+o7CCltFSI4Y\n",
       "GxgCWFln7TM2E/aIwT7GHimoqQs7w3HPceg+9qLY+1bZT9ImohG2FmUPxO4V9NG6PmcYmqs9WXA3\n",
       "567TvLhY6wGFA8qCQFQejxymB1f5w4g/PjmYXoY4yWQjm9r5MFDpMx9fMp11vjEZlhWMZvKxrLj/\n",
       "1LHjZBfaIY8+CpPc+KfZVlHpm91yJ6gI4c5WmyNsEwwlHqYNI1YP4AifrNPn+Q/11ec6+QhIzPmn\n",
       "yqPPmohG2Fp+MAChL/jax+rGx/m7lrpa7JR4P6PTvLi4tdZ/EPJyEIvleOQwPbhC/V6WuI0sWn5H\n",
       "1t5NJySdX0VOD13nHPo0mJi7zOkIbPeDCCGy9jGGOvD5c6ySOn0NflkiLgrf+9ys0ZUgI9XglyVk\n",
       "XKFX+a6LMXOu9D4If6tjPxwuI33L/yr6n3mKZU5HYGknIqgMHdIKyQpcG4k3ACN/jWLzxQ3wqpJz\n",
       "RpqSr4bHOrJ2j4RVhA51RmmW/Byk2z3bNY+WrlEXJRqAUbhGsRUC0ddd43ueRnX66nrPc/sY/zgM\n",
       "wXXBrLc7B5HuJ/8DXez9mtd38DQAAAAASUVORK5CYII=\n",
       "\" style=\"display:inline;vertical-align:middle;\" /></a><br>"
      ],
      "text/plain": [
       "greater_sequence_def: forall_{n in NaturalPos} [forall_{x_{1}, ..x_{_a}.., x_{n + 1} in Real} [forall_{rho_{1}, ..rho_{_a}.., rho_{n} in {>, >=, =}} ((x_{1} rho_{1} ..x_{i}.. rho_{i} x_{n} rho_{n} x_{n + 1}) = ((x_{1} rho_{1} x_{1 + 1}) and ..(x_{i} rho_{i} x_{i + 1}).. and (x_{n} rho_{n} x_{n + 1})))]]"
      ]
     },
     "execution_count": 7,
     "metadata": {},
     "output_type": "execute_result"
    }
   ],
   "source": [
    "greater_sequence_def = \\\n",
    "    Forall(n, Forall(x_1_to_np1, \n",
    "                     Forall(rho_1_to_n,\n",
    "                            Equals(x_relation_sequence,\n",
    "                                   sequential_x_relations),\n",
    "                            domain=greater_eq_relations),\n",
    "                     domain=Real),\n",
    "           domain=NaturalPos)"
   ]
  },
  {
   "cell_type": "code",
   "execution_count": 8,
   "metadata": {},
   "outputs": [
    {
     "name": "stdout",
     "output_type": "stream",
     "text": [
      "These axioms may now be imported from the theory package: proveit.numbers.ordering\n"
     ]
    }
   ],
   "source": [
    "%end axioms"
   ]
  },
  {
   "cell_type": "code",
   "execution_count": null,
   "metadata": {},
   "outputs": [],
   "source": []
  }
 ],
 "metadata": {
  "kernelspec": {
   "display_name": "Python 3",
   "language": "python",
   "name": "python3"
  }
 },
 "nbformat": 4,
 "nbformat_minor": 0
}