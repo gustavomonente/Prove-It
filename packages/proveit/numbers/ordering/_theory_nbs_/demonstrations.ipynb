{
 "cells": [
  {
   "cell_type": "markdown",
   "metadata": {},
   "source": [
    "Demonstrations for the theory of <a class=\"ProveItLink\" href=\"theory.ipynb\">proveit.numbers.ordering</a>\n",
    "========"
   ]
  },
  {
   "cell_type": "code",
   "execution_count": 1,
   "metadata": {},
   "outputs": [],
   "source": [
    "import proveit\n",
    "%begin demonstrations"
   ]
  },
  {
   "cell_type": "code",
   "execution_count": 2,
   "metadata": {},
   "outputs": [],
   "source": [
    "from proveit import ExprTuple, extract_var_tuple_indices\n",
    "from proveit.core_expr_types import Len\n",
    "from proveit.logic import Equals, InSet\n",
    "from proveit.numbers import Real, Less, LessEq, greater, greater_eq, one, two, three, four, Add\n",
    "from proveit.numbers import number_ordering\n",
    "from proveit import a, b, c, d, e, n, t, u, v, w, x, y, z, rho\n",
    "import random"
   ]
  },
  {
   "cell_type": "markdown",
   "metadata": {},
   "source": [
    "### Transitivity search"
   ]
  },
  {
   "cell_type": "code",
   "execution_count": 3,
   "metadata": {},
   "outputs": [
    {
     "data": {
      "text/html": [
       "<strong id=\"assumptions\">assumptions:</strong> <a class=\"ProveItLink\" href=\"../__pv_it/demonstrations/fd11341fcc729dc131237fe3a93858a0dbce69f70/expr.ipynb\"><img src=\"data:image/png;base64,iVBORw0KGgoAAAANSUhEUgAAAhoAAAAUBAMAAAA5AolMAAAAMFBMVEX///9UVFTMzMx2dna6uroQ\n",
       "EBCqqqqIiIgiIiJmZmYyMjJERETu7u6YmJjc3NwAAAC+aOQFAAAAAXRSTlMAQObYZgAABFhJREFU\n",
       "WMPtWE1oVFcU/jLznGSaN+O0m4EsQpYFF87OHyKdTdS6aLIQpGIhWgolhPYhrclIoFGh1dKEERcp\n",
       "WkoiEsTSkkCh1BD7RCRtXETooqFYmICIIsIgpYVWpffn3XvevZm5Ux5xlwsvOXO/d8535rzzc98A\n",
       "+bvYXHxlauzPnc04RKubXd+xa5J/8M+Fje6Z3BCm0Z6X8w1+/mqDDHXUsAzkqixH6jJVZmoN8qdO\n",
       "4uWkVP7OoDn27f9K42bcQ92JVQ3qD4F0wGOC7LTc8WbWP0GFsbidqyUMRv5LV2+69VlrCw7uA68l\n",
       "Vo1TX2TBGcBDniWlaCu1UF6XQQprPxMmDUbXoBNvbdl5x7bvkxsn9Ay7rqACvPnTj4HleP7C1BEh\n",
       "aEyHcWkKvsT8SoDbFhffmzCl1PVyDBzCe1LFH+net0M9vtCJx7nzkhv7D6ZUwq3NWiC5GHv6SsEg\n",
       "UdTepX+ngF1YlDVDSS3yqq/2Sl3XE1+/TKg7qn1ol1jWG8AnXEhfE6vKRbZ3SqBaWtDll84MYB79\n",
       "Mji3sBp8rkpbdqwmOHGXNLe/WLmknX40aYLkIqlqBYNEU4v2+Ds+lTVDVSZU30F2TtcTW22zOlx3\n",
       "L6JTYk9YT1mwUu9BdhzvmtLoGIHTeI5OWce9eCN8SyHeTNgUj3EPam4f+TlNulo1QHKRVEnBINHU\n",
       "oj2+j4NRzRh1lH2GjoDqCbg5S1YPYYvEQvb/kBUNvrfXklZ7CUy9QDb6EI+k903YFDe5t6qi3qZr\n",
       "dLTXBMlFUiUFg0RTi/a4nUfD/9PusVvmsCLzW2GPdMp5z7A9yv3+MPXU7kv9IQJbGvpagbX2AaTV\n",
       "rX/TEIxme2O8IbdXsKc3gSSRKimYJBH1SllEg1WKV0do6q6UVL/QmG5H6XF8HIk7wexS3yjIPZQU\n",
       "qiQ9BVkGF3BfDbCnVJ6hE9fcLJ8V99F105vAmIvURY/SLI2RKOp+llHYz7toejrTE+vNPBqD6MrI\n",
       "xhZhNIyYqYWcFOdZed6zcuNVKAWS9BSc5xkZPcph1ujGrDHXGDe456NHWkWbNb0JjLmoVZWCSaKp\n",
       "d+MY76K7WFALSyLlaG53BrlTaaxMayx2jMkWvLclhvPoq5asaOxmw8D/R0l6rYnAnETfXKoscO+v\n",
       "zrp8YYwdgRriJvdzSf36r79d4Tt36IAkQEEtXTRVhYJQjUhM6vM+i88Flh3IL9pHRb94fO0jdHxh\n",
       "YvKI6xdPrB0XGG6OfFC0T69te5jC2VBJ1sF2aqy4BwL3i2OVP+zjcSPc5K68kNTV3OHyOqcZKKil\n",
       "i6aqUBCqisSgfsy5LouTebM1jGQYMi0Ol8lxPgmHXaDbtNNrf1y8tTVbJSTDqGNvMN4len/JBbpN\n",
       "u71mxXJDh+bqWb4o9f3AEcfAZXcpfqdt1sJb6cfXBH6wqJeF8dMadJt2e73s/LUn53ozdH6bVj+n\n",
       "JcX3VXqaUwvQbdrt9Q1xjt381UuGqob/AG96rIttIW+AAAAAAElFTkSuQmCC\n",
       "\" style=\"display:inline;vertical-align:middle;\" /></a><br>"
      ],
      "text/plain": [
       "assumptions: (t >= a, t < u, u = v, v <= w, x > w, x < y, z >= y, u < z, w > t)"
      ]
     },
     "execution_count": 3,
     "metadata": {},
     "output_type": "execute_result"
    }
   ],
   "source": [
    "assumptions = [greater_eq(t, a), Less(t, u), Equals(u, v), LessEq(v, w), greater(x, w), Less(x, y), greater_eq(z, y), Less(u, z), greater(w, t)]"
   ]
  },
  {
   "cell_type": "code",
   "execution_count": 4,
   "metadata": {},
   "outputs": [],
   "source": [
    "random.shuffle(assumptions)"
   ]
  },
  {
   "cell_type": "code",
   "execution_count": 5,
   "metadata": {},
   "outputs": [
    {
     "data": {
      "text/html": [
       "<span style=\"font-size:20px;\"><a class=\"ProveItLink\" href=\"../__pv_it/demonstrations/62cd79a781289bff1cf5e57f2c0ba1ceff087cd90/expr.ipynb\"><img src=\"data:image/png;base64,iVBORw0KGgoAAAANSUhEUgAAAC4AAAARBAMAAABQu4N8AAAAMFBMVEX///8QEBCYmJhUVFTMzMzu\n",
       "7u6IiIhERES6urp2dnYyMjJmZmaqqqrc3NwiIiIAAACerFpgAAAAAXRSTlMAQObYZgAAAK9JREFU\n",
       "GNNjYMAJ3oKIuK3owjwfwNQpWzRx7gUQussEVZxvApThXoEs3F1fnQBlXl4DoW/PTgxgYDiPUHMb\n",
       "7AQOWYb1QGoXQlxvA4gMVGDYDqRewoXzpoKp/QEMzxgYWH9ARVnnQe0RZ2D9AjTtA0MAiMe7TwEq\n",
       "/xPsJc4FPA4gYasDMH1/GJgXnGXgNggD8cIb4NaUMegZTGDgLVJAC4DgNF+zBgYyQdQ7EHgC5wMA\n",
       "HLMtFr1QhGsAAAAASUVORK5CYII=\n",
       "\" style=\"display:inline;vertical-align:middle;\" /></a>, <a class=\"ProveItLink\" href=\"../__pv_it/demonstrations/e413686847cd14880fd11d7781b5b93942774af10/expr.ipynb\"><img src=\"data:image/png;base64,iVBORw0KGgoAAAANSUhEUgAAAC8AAAANBAMAAADLbSqiAAAAMFBMVEX///8QEBCYmJhUVFTMzMzu\n",
       "7u6IiIhERES6urp2dnYyMjJmZmaqqqrc3NwiIiIAAACerFpgAAAAAXRSTlMAQObYZgAAAJ5JREFU\n",
       "GNNjYGB4y4Ad8HxAMJcgS3AvgLGYXl9AluCbAGWwvQxAFu+ur04AMyKfQUXCtjGwigLp8xBu9COY\n",
       "0g2NDGwge3eBecxrYOK8CrsY2AuAjJdgbjBcgpVBjIERaDrrDwj/Ntwojq8M/g5A6gNDAKrlnA8Y\n",
       "EkHUAh4HVOeyGzCUMwUwcBuEoXmQ24BDmhPoiCIFtCBhNcu5nMIAAI/uJbS8i3byAAAAAElFTkSu\n",
       "QmCC\n",
       "\" style=\"display:inline;vertical-align:middle;\" /></a>, <a class=\"ProveItLink\" href=\"../__pv_it/demonstrations/2da72836482c584bfe2e2375a9309afe25640e910/expr.ipynb\"><img src=\"data:image/png;base64,iVBORw0KGgoAAAANSUhEUgAAADEAAAAMBAMAAAA5VkhcAAAAMFBMVEX///+qqqpUVFQiIiJ2dnbM\n",
       "zMxEREQyMjKYmJjc3Ny6uroQEBBmZmaIiIju7u4AAAB7S4HXAAAAAXRSTlMAQObYZgAAAJlJREFU\n",
       "GNNjYEABjKUM2AGHzQTsErwmD5B4fHcuMLyGCDyxhQku3sXawMDDtYHhPpj7xgKuOuPOMQaGGTwF\n",
       "DGkgLlMhwhwGzgQGhgfcFxj2griPCpHsCAOZv/4B61cwbw7cNAYuBRDpzMC7gQHNBUJgMomBLaEP\n",
       "1dWMBxiYgNQhhtUHHFB9GtzSWwWy+a6kbgBq6Bzg2L6AAQDCiyg3p2mWJgAAAABJRU5ErkJggg==\n",
       "\" style=\"display:inline;vertical-align:middle;\" /></a> <a class=\"ProveItLink\" href=\"../__pv_it/demonstrations/e2f4bbc24f4676e595f42b393890a75d0c6a9f300/proof.ipynb\" style=\"text-decoration: none\">&nbsp;&#x22A2;&nbsp;&nbsp;</a><a class=\"ProveItLink\" href=\"../__pv_it/demonstrations/a190638dbbe42ab41a71d070549d1653bdb454f60/expr.ipynb\"><img src=\"data:image/png;base64,iVBORw0KGgoAAAANSUhEUgAAADEAAAAMBAMAAAA5VkhcAAAAMFBMVEX///9UVFSqqqrMzMwiIiJE\n",
       "RESYmJgyMjK6urru7u4QEBCIiIh2dnZmZmbc3NwAAABRgo0vAAAAAXRSTlMAQObYZgAAAJlJREFU\n",
       "GNNjYEABTMUM2AGb7wPsEtw+E5C5fHdur4Sw5njDxFpWMCcwMHQ9YP8A5s51g0lwhu29CiSXMfAG\n",
       "gLiMRXBjOBn4gEK8PxlYNoC4E4uQrDAFWsgVwDDfAMx7CzeNgUMASMw/wKDPgO4CRRAxX4FBnOkB\n",
       "qquZLjAwMjCwbmBz5EHzqUlOdgXQHdKbH+5AC50LbMsbGAAJziMtOqNRmwAAAABJRU5ErkJggg==\n",
       "\" style=\"display:inline;vertical-align:middle;\" /></a></span>"
      ],
      "text/plain": [
       "{t >= a, t < u, u < z} |- a < z"
      ]
     },
     "execution_count": 5,
     "metadata": {},
     "output_type": "execute_result"
    }
   ],
   "source": [
    "Less(a, z).prove(assumptions)"
   ]
  },
  {
   "cell_type": "code",
   "execution_count": 6,
   "metadata": {},
   "outputs": [
    {
     "data": {
      "text/html": [
       "<span style=\"font-size:20px;\"><a class=\"ProveItLink\" href=\"../__pv_it/demonstrations/62cd79a781289bff1cf5e57f2c0ba1ceff087cd90/expr.ipynb\"><img src=\"data:image/png;base64,iVBORw0KGgoAAAANSUhEUgAAAC4AAAARBAMAAABQu4N8AAAAMFBMVEX///8QEBCYmJhUVFTMzMzu\n",
       "7u6IiIhERES6urp2dnYyMjJmZmaqqqrc3NwiIiIAAACerFpgAAAAAXRSTlMAQObYZgAAAK9JREFU\n",
       "GNNjYMAJ3oKIuK3owjwfwNQpWzRx7gUQussEVZxvApThXoEs3F1fnQBlXl4DoW/PTgxgYDiPUHMb\n",
       "7AQOWYb1QGoXQlxvA4gMVGDYDqRewoXzpoKp/QEMzxgYWH9ARVnnQe0RZ2D9AjTtA0MAiMe7TwEq\n",
       "/xPsJc4FPA4gYasDMH1/GJgXnGXgNggD8cIb4NaUMegZTGDgLVJAC4DgNF+zBgYyQdQ7EHgC5wMA\n",
       "HLMtFr1QhGsAAAAASUVORK5CYII=\n",
       "\" style=\"display:inline;vertical-align:middle;\" /></a>, <a class=\"ProveItLink\" href=\"../__pv_it/demonstrations/e413686847cd14880fd11d7781b5b93942774af10/expr.ipynb\"><img src=\"data:image/png;base64,iVBORw0KGgoAAAANSUhEUgAAAC8AAAANBAMAAADLbSqiAAAAMFBMVEX///8QEBCYmJhUVFTMzMzu\n",
       "7u6IiIhERES6urp2dnYyMjJmZmaqqqrc3NwiIiIAAACerFpgAAAAAXRSTlMAQObYZgAAAJ5JREFU\n",
       "GNNjYGB4y4Ad8HxAMJcgS3AvgLGYXl9AluCbAGWwvQxAFu+ur04AMyKfQUXCtjGwigLp8xBu9COY\n",
       "0g2NDGwge3eBecxrYOK8CrsY2AuAjJdgbjBcgpVBjIERaDrrDwj/Ntwojq8M/g5A6gNDAKrlnA8Y\n",
       "EkHUAh4HVOeyGzCUMwUwcBuEoXmQ24BDmhPoiCIFtCBhNcu5nMIAAI/uJbS8i3byAAAAAElFTkSu\n",
       "QmCC\n",
       "\" style=\"display:inline;vertical-align:middle;\" /></a>, <a class=\"ProveItLink\" href=\"../__pv_it/demonstrations/2da72836482c584bfe2e2375a9309afe25640e910/expr.ipynb\"><img src=\"data:image/png;base64,iVBORw0KGgoAAAANSUhEUgAAADEAAAAMBAMAAAA5VkhcAAAAMFBMVEX///+qqqpUVFQiIiJ2dnbM\n",
       "zMxEREQyMjKYmJjc3Ny6uroQEBBmZmaIiIju7u4AAAB7S4HXAAAAAXRSTlMAQObYZgAAAJlJREFU\n",
       "GNNjYEABjKUM2AGHzQTsErwmD5B4fHcuMLyGCDyxhQku3sXawMDDtYHhPpj7xgKuOuPOMQaGGTwF\n",
       "DGkgLlMhwhwGzgQGhgfcFxj2griPCpHsCAOZv/4B61cwbw7cNAYuBRDpzMC7gQHNBUJgMomBLaEP\n",
       "1dWMBxiYgNQhhtUHHFB9GtzSWwWy+a6kbgBq6Bzg2L6AAQDCiyg3p2mWJgAAAABJRU5ErkJggg==\n",
       "\" style=\"display:inline;vertical-align:middle;\" /></a> <a class=\"ProveItLink\" href=\"../__pv_it/demonstrations/e2f4bbc24f4676e595f42b393890a75d0c6a9f300/proof.ipynb\" style=\"text-decoration: none\">&nbsp;&#x22A2;&nbsp;&nbsp;</a><a class=\"ProveItLink\" href=\"../__pv_it/demonstrations/def6f4f6d05b54d6021d2dc105f7be6b22aeac5a0/expr.ipynb\"><img src=\"data:image/png;base64,iVBORw0KGgoAAAANSUhEUgAAADEAAAAMBAMAAAA5VkhcAAAAMFBMVEX///8yMjJ2dnaqqqpUVFTc\n",
       "3NxmZmaIiIhERETu7u6YmJjMzMwQEBAiIiK6uroAAABWQA0ZAAAAAXRSTlMAQObYZgAAAJVJREFU\n",
       "GNNjYIACTikGXGDSdZxS7JcmoArw3XmwC8LiugaVYk1KPwmkZixPa4AqYhYJANNvAhg/AKkJDBEI\n",
       "/SIgXZynGNjAirk7ETISIBm2nwy8BSDuE7gE1DSeBob5G0BcB5gEzAXzFRjsQbQZA4MDqqvnGzA4\n",
       "MgcwcN/SKnyA6lOOAq4rTEDrGNbIoYUOp3t1SB0DAPbkI71Q0LGlAAAAAElFTkSuQmCC\n",
       "\" style=\"display:inline;vertical-align:middle;\" /></a></span>"
      ],
      "text/plain": [
       "{t >= a, t < u, u < z} |- z > a"
      ]
     },
     "execution_count": 6,
     "metadata": {},
     "output_type": "execute_result"
    }
   ],
   "source": [
    "greater(z, a).prove(assumptions)"
   ]
  },
  {
   "cell_type": "markdown",
   "metadata": {},
   "source": [
    "### Transitivity sort"
   ]
  },
  {
   "cell_type": "code",
   "execution_count": 7,
   "metadata": {},
   "outputs": [
    {
     "data": {
      "text/html": [
       "<span style=\"font-size:20px;\"> <a class=\"ProveItLink\" href=\"../__pv_it/demonstrations/517e6ac1e00b178974b8cdbbdb08d2b6c833f3460/proof.ipynb\" style=\"text-decoration: none\">&nbsp;&#x22A2;&nbsp;&nbsp;</a><a class=\"ProveItLink\" href=\"../__pv_it/demonstrations/3de91a2fea2d8905676f27f1e4c09926b5baf8610/expr.ipynb\"><img src=\"data:image/png;base64,iVBORw0KGgoAAAANSUhEUgAAADAAAAAPBAMAAABQAFHMAAAALVBMVEX///9ERETc3NwiIiLMzMwy\n",
       "MjJmZmaIiIiYmJh2dnZUVFTu7u4QEBCqqqoAAAD/gNCwAAAAAXRSTlMAQObYZgAAAHxJREFUGNNj\n",
       "YMAK3ICY9zQWCSsGhl2zXiMJXHUAU+yngAQHkkRzEoTWiEKVKJ4NZUxAkeCeXABlcSggS3AnN8B0\n",
       "bmdAllh6AW7kBGQJboQErwOKDia4UTsZGLBbfist7U06ducygDzIjsWDDAcZGNjWPM3ACJKJ71Yw\n",
       "4AIAzUQpJ2+eRl8AAAAASUVORK5CYII=\n",
       "\" style=\"display:inline;vertical-align:middle;\" /></a></span>"
      ],
      "text/plain": [
       "|- 1 < 4"
      ]
     },
     "execution_count": 7,
     "metadata": {},
     "output_type": "execute_result"
    }
   ],
   "source": [
    "from proveit.numbers import one, four, Less\n",
    "Less.sort([one, four], reorder=False)"
   ]
  },
  {
   "cell_type": "code",
   "execution_count": 8,
   "metadata": {},
   "outputs": [
    {
     "data": {
      "text/html": [
       "<strong id=\"assumptions\">assumptions:</strong> <a class=\"ProveItLink\" href=\"../__pv_it/demonstrations/529261d3ba77b9d3f23c89a75248f7ffae1e3e830/expr.ipynb\"><img src=\"data:image/png;base64,iVBORw0KGgoAAAANSUhEUgAAAOcAAAAUBAMAAACE3DekAAAAMFBMVEX////MzMxUVFR2dna6uroQ\n",
       "EBCqqqqIiIgiIiJmZmYyMjJERETu7u6YmJjc3NwAAACgK8IjAAAAAXRSTlMAQObYZgAAAplJREFU\n",
       "SMe9Vs9rE0EU/prE3Wx3N8m9oPWghZ4CHmqFQi6Ct168iD/YP0B0C8qiIEQDTQsqUcGKosYgYj1o\n",
       "BUVQ1NAStHpIbvVSCfXS3OIPeigRfLO/ZnfixlCk7zD7MbPvvZn3ffN2gVQD22qn2PAZ2sv8/4w6\n",
       "dKQbBSzWpOEpMFj6ZyRtttp31o1uJF/kkcqATgnTBveQHvw9klRp9pkz0elCS8XA+hiQpFiT/BT6\n",
       "bFTsRCXTX9J4XkStK8H1GrBOj/3+hFyIruLAm1xfSTlZLlp7FF7P4Rw9KtZNsQyt8bNu+rg15c6l\n",
       "Rh0aUjfmjnmlssTjt8Z2GWE09NBfXLLuUcAS3hK1m9W6XdRlvwyJE3jmZprGa282dct+7WBzsO1M\n",
       "rBsqyQIHnjCbdx3fVxFE6nPO0FV8IwbLmCaNdJA2mZh5GWoN3HFQMou9nHBbfsehLDgTBcSM8EHJ\n",
       "8XYYyUWfsZqhXaN0eRwGlDLqWZpb5EnvV1H0kUC40kHShItEo9cLAtJ9nexZuUBwoM2SEt+TRlhl\n",
       "R6F99xAE3e9YQD3jIdHI8ZeIpHn3RvxwBNlm5U03vPN4cbWfkNoegqB7qsppH9nmcFoRHV3Eb5sT\n",
       "K5FnQkrniKZQBbUNxMp2k8Rv2mlY93UDo5K9d9otwpxyx0AI/7ZRuWVbSOMkoIZaEprDK3wZzmqb\n",
       "hK6DkQ/thR9YNfVLcdRJtsowloUrwx1t5Ot+NxvPQ6Mro2RxiALOTYhtcNHaOZLDDB07PrEituGR\n",
       "qbUzSF4muG/VFBa5o4NCJt9dZc0hY7fBKJN6NfmT2KLjR6fhR3bRXt0uiy06UsPHu+jlD4GaPp5h\n",
       "xhnUTPTliE+2Y/jTRh/xSOv1T6H3OkwvR5Xxud2/K1+BPw5x1d5IqMHbAAAAAElFTkSuQmCC\n",
       "\" style=\"display:inline;vertical-align:middle;\" /></a><br>"
      ],
      "text/plain": [
       "assumptions: (b < a, c >= a, c = d, d <= e)"
      ]
     },
     "execution_count": 8,
     "metadata": {},
     "output_type": "execute_result"
    }
   ],
   "source": [
    "assumptions = [Less(b, a), greater_eq(c, a), Equals(c, d), LessEq(d, e)]"
   ]
  },
  {
   "cell_type": "markdown",
   "metadata": {},
   "source": [
    "*We can use `Less.sort` as long as we only have strict ordering relations between the items being sorted (i.e., no $\\leq$).*"
   ]
  },
  {
   "cell_type": "code",
   "execution_count": 9,
   "metadata": {},
   "outputs": [
    {
     "name": "stdout",
     "output_type": "stream",
     "text": [
      "[b, e]\n"
     ]
    },
    {
     "data": {
      "text/html": [
       "<span style=\"font-size:20px;\"><a class=\"ProveItLink\" href=\"../__pv_it/demonstrations/eeb8810075dad9eb45ae1dd75a37443d9f35f47e0/expr.ipynb\"><img src=\"data:image/png;base64,iVBORw0KGgoAAAANSUhEUgAAADAAAAAOBAMAAACbXIJpAAAAMFBMVEX////MzMyYmJjc3NyIiIhU\n",
       "VFR2dna6urqqqqpmZmYyMjIiIiIQEBBERETu7u4AAACIO4EmAAAAAXRSTlMAQObYZgAAAKpJREFU\n",
       "GNNj4LuzgQE74JqAQ4K/AcHmWIgkUf8AzmTaaYAkkQ1nsWx7gGzUUpcZEMazLTAhy0yfBwx8vx68\n",
       "BxvwchNMnP0ww3qgff8Y+B2APNYVcDPeKDDMZWDgXMDwPgHIe4qQmP+AYQvYG/VgB1vCjTrLwPcR\n",
       "6A0FkApky/m+MXB8AEoU8B1CdS7fDwbWBc0MrAq8E9A8eIVBOyCBgW9KEnqQPHURDikAABviMdev\n",
       "WsLHAAAAAElFTkSuQmCC\n",
       "\" style=\"display:inline;vertical-align:middle;\" /></a>, <a class=\"ProveItLink\" href=\"../__pv_it/demonstrations/e9141ad2e5771d29a8a3adba5d5541bfe9c33a310/expr.ipynb\"><img src=\"data:image/png;base64,iVBORw0KGgoAAAANSUhEUgAAADAAAAARBAMAAABp3DInAAAAMFBMVEX///+6urqYmJgQEBDu7u5m\n",
       "ZmZUVFQyMjJERESqqqoiIiLc3NzMzMyIiIh2dnYAAABqS+z4AAAAAXRSTlMAQObYZgAAAKxJREFU\n",
       "GNNjYCAEvEJwyUzPxiUjnoNL5kQjKv/t3QNQ1rZKCL316WUHBoZdEzgKYGq2rgaRjNYM9UBqHQPb\n",
       "BJiEVgCIdFZgiGBgYP2CMPTWEzAV78CwloGBuQEmzPLqAoRhwcDyh4HB/wFUnDtKAargHwPnBwYG\n",
       "fiAXZAd3Oswmlp8MbAWzGVgTGFxBzvUQgFvVy6CVADTnndIFNI+63T2dK8BAPnBfBQJr4HwAh0kr\n",
       "bN/38/oAAAAASUVORK5CYII=\n",
       "\" style=\"display:inline;vertical-align:middle;\" /></a>, <a class=\"ProveItLink\" href=\"../__pv_it/demonstrations/45704978fea718e5f80ac4a83ca6e9303a66bfe20/expr.ipynb\"><img src=\"data:image/png;base64,iVBORw0KGgoAAAANSUhEUgAAADAAAAAOBAMAAACbXIJpAAAAMFBMVEX///+6urqYmJgQEBDu7u5m\n",
       "ZmZUVFQyMjJERESqqqoiIiLc3NzMzMyIiIh2dnYAAABqS+z4AAAAAXRSTlMAQObYZgAAAJJJREFU\n",
       "GNNjYMAKTpgy4AA/cYgzfsEhwbcAhwR7AJB4e/cAmvDWt+cnMDDsmsBRAOQ8LweBUrAF1gz9DgwM\n",
       "6xjYJqBqcFZgCGdgYMW0P94BqJqBuQFDwoKB5SMDg/8DCA9iRxmQxfKPgfMDAwO/AgMDqh0sPxnY\n",
       "CmYzsCYwuKI5t5dBKwFozjulC2h2uN09nSsAAJvzJz/XNw6CAAAAAElFTkSuQmCC\n",
       "\" style=\"display:inline;vertical-align:middle;\" /></a>, <a class=\"ProveItLink\" href=\"../__pv_it/demonstrations/5b1c8b9e744f40c9785762ab7c5e93a7e3dbbc230/expr.ipynb\"><img src=\"data:image/png;base64,iVBORw0KGgoAAAANSUhEUgAAAC8AAAARBAMAAAC/eehCAAAAMFBMVEX///9UVFSYmJiIiIjc3Nwy\n",
       "MjIiIiJ2dnbu7u66urqqqqpmZmYQEBBERETMzMwAAAAYOWz6AAAAAXRSTlMAQObYZgAAAMBJREFU\n",
       "GNNjYGBg4LuzgQE74F8AY5k9QJGY3wChOcoMUHWUQSiWbQpoRkVDxEUXoIiybLf7BaL5rk6ACXEU\n",
       "WzswMMxx4P0B4t1F2DvNgaWAgeMQA3cA2EEWcA2nGLofMHD/YGArAPPVKqASjIeMNRgYeC4w9EMN\n",
       "X7oF6i0BENlfwLAeZsZUOYgE2IT+BQyiXA5Qmbc3QSTIaAMGXgOmRHa4exxBTmMOYOh2YOAQtnO0\n",
       "RPOwtZICAwWAIywNBODeBwCYlCmZ1aYqvAAAAABJRU5ErkJggg==\n",
       "\" style=\"display:inline;vertical-align:middle;\" /></a> <a class=\"ProveItLink\" href=\"../__pv_it/demonstrations/b82517ca9da2e43ad61750501b32db7ca5ed05030/proof.ipynb\" style=\"text-decoration: none\">&nbsp;&#x22A2;&nbsp;&nbsp;</a><a class=\"ProveItLink\" href=\"../__pv_it/demonstrations/11194139ac25aa3129819873ff76766c031f71f20/expr.ipynb\"><img src=\"data:image/png;base64,iVBORw0KGgoAAAANSUhEUgAAAC0AAAAOBAMAAABJDIgxAAAAMFBMVEX////MzMyYmJjc3NyIiIhU\n",
       "VFR2dna6urqqqqpmZmYyMjIiIiIQEBBERETu7u4AAACIO4EmAAAAAXRSTlMAQObYZgAAAJtJREFU\n",
       "GNNj4LuzgQEr4JqAXZy/AcHuEkCw6x/AmdqTkdRnw1neecjmLHWZAab5sh2gInwpngYMfL8evDcA\n",
       "cWYrwFRWGzAnMHD8Y+AHKYyCW893guGlAAPnAob3CUAOQpz1kIse2Pn1ICFmuDn8AWBSgWH+AxR7\n",
       "+RPAZAHfIVR3cgPFHRhYFXgnoPqLZQHDS6A7pyShh4OnkgIDAC3xJF6ZJf3bAAAAAElFTkSuQmCC\n",
       "\" style=\"display:inline;vertical-align:middle;\" /></a></span>"
      ],
      "text/plain": [
       "{b < a, c >= a, c = d, d <= e} |- b < e"
      ]
     },
     "execution_count": 9,
     "metadata": {},
     "output_type": "execute_result"
    }
   ],
   "source": [
    "to_sort = [b, e]\n",
    "random.shuffle(to_sort)\n",
    "random.shuffle(assumptions)\n",
    "print(to_sort)\n",
    "\n",
    "Less.sort(to_sort, assumptions=assumptions)"
   ]
  },
  {
   "cell_type": "markdown",
   "metadata": {},
   "source": [
    "*Otherwise, if $\\leq$ is involved, use `LessEq.sort`*."
   ]
  },
  {
   "cell_type": "code",
   "execution_count": 10,
   "metadata": {},
   "outputs": [
    {
     "name": "stdout",
     "output_type": "stream",
     "text": [
      "[c, b, e]\n"
     ]
    },
    {
     "data": {
      "text/html": [
       "<span style=\"font-size:20px;\"><a class=\"ProveItLink\" href=\"../__pv_it/demonstrations/eeb8810075dad9eb45ae1dd75a37443d9f35f47e0/expr.ipynb\"><img src=\"data:image/png;base64,iVBORw0KGgoAAAANSUhEUgAAADAAAAAOBAMAAACbXIJpAAAAMFBMVEX////MzMyYmJjc3NyIiIhU\n",
       "VFR2dna6urqqqqpmZmYyMjIiIiIQEBBERETu7u4AAACIO4EmAAAAAXRSTlMAQObYZgAAAKpJREFU\n",
       "GNNj4LuzgQE74JqAQ4K/AcHmWIgkUf8AzmTaaYAkkQ1nsWx7gGzUUpcZEMazLTAhy0yfBwx8vx68\n",
       "BxvwchNMnP0ww3qgff8Y+B2APNYVcDPeKDDMZWDgXMDwPgHIe4qQmP+AYQvYG/VgB1vCjTrLwPcR\n",
       "6A0FkApky/m+MXB8AEoU8B1CdS7fDwbWBc0MrAq8E9A8eIVBOyCBgW9KEnqQPHURDikAABviMdev\n",
       "WsLHAAAAAElFTkSuQmCC\n",
       "\" style=\"display:inline;vertical-align:middle;\" /></a>, <a class=\"ProveItLink\" href=\"../__pv_it/demonstrations/e9141ad2e5771d29a8a3adba5d5541bfe9c33a310/expr.ipynb\"><img src=\"data:image/png;base64,iVBORw0KGgoAAAANSUhEUgAAADAAAAARBAMAAABp3DInAAAAMFBMVEX///+6urqYmJgQEBDu7u5m\n",
       "ZmZUVFQyMjJERESqqqoiIiLc3NzMzMyIiIh2dnYAAABqS+z4AAAAAXRSTlMAQObYZgAAAKxJREFU\n",
       "GNNjYCAEvEJwyUzPxiUjnoNL5kQjKv/t3QNQ1rZKCL316WUHBoZdEzgKYGq2rgaRjNYM9UBqHQPb\n",
       "BJiEVgCIdFZgiGBgYP2CMPTWEzAV78CwloGBuQEmzPLqAoRhwcDyh4HB/wFUnDtKAargHwPnBwYG\n",
       "fiAXZAd3Oswmlp8MbAWzGVgTGFxBzvUQgFvVy6CVADTnndIFNI+63T2dK8BAPnBfBQJr4HwAh0kr\n",
       "bN/38/oAAAAASUVORK5CYII=\n",
       "\" style=\"display:inline;vertical-align:middle;\" /></a>, <a class=\"ProveItLink\" href=\"../__pv_it/demonstrations/5b1c8b9e744f40c9785762ab7c5e93a7e3dbbc230/expr.ipynb\"><img src=\"data:image/png;base64,iVBORw0KGgoAAAANSUhEUgAAAC8AAAARBAMAAAC/eehCAAAAMFBMVEX///9UVFSYmJiIiIjc3Nwy\n",
       "MjIiIiJ2dnbu7u66urqqqqpmZmYQEBBERETMzMwAAAAYOWz6AAAAAXRSTlMAQObYZgAAAMBJREFU\n",
       "GNNjYGBg4LuzgQE74F8AY5k9QJGY3wChOcoMUHWUQSiWbQpoRkVDxEUXoIiybLf7BaL5rk6ACXEU\n",
       "WzswMMxx4P0B4t1F2DvNgaWAgeMQA3cA2EEWcA2nGLofMHD/YGArAPPVKqASjIeMNRgYeC4w9EMN\n",
       "X7oF6i0BENlfwLAeZsZUOYgE2IT+BQyiXA5Qmbc3QSTIaAMGXgOmRHa4exxBTmMOYOh2YOAQtnO0\n",
       "RPOwtZICAwWAIywNBODeBwCYlCmZ1aYqvAAAAABJRU5ErkJggg==\n",
       "\" style=\"display:inline;vertical-align:middle;\" /></a>, <a class=\"ProveItLink\" href=\"../__pv_it/demonstrations/45704978fea718e5f80ac4a83ca6e9303a66bfe20/expr.ipynb\"><img src=\"data:image/png;base64,iVBORw0KGgoAAAANSUhEUgAAADAAAAAOBAMAAACbXIJpAAAAMFBMVEX///+6urqYmJgQEBDu7u5m\n",
       "ZmZUVFQyMjJERESqqqoiIiLc3NzMzMyIiIh2dnYAAABqS+z4AAAAAXRSTlMAQObYZgAAAJJJREFU\n",
       "GNNjYMAKTpgy4AA/cYgzfsEhwbcAhwR7AJB4e/cAmvDWt+cnMDDsmsBRAOQ8LweBUrAF1gz9DgwM\n",
       "6xjYJqBqcFZgCGdgYMW0P94BqJqBuQFDwoKB5SMDg/8DCA9iRxmQxfKPgfMDAwO/AgMDqh0sPxnY\n",
       "CmYzsCYwuKI5t5dBKwFozjulC2h2uN09nSsAAJvzJz/XNw6CAAAAAElFTkSuQmCC\n",
       "\" style=\"display:inline;vertical-align:middle;\" /></a> <a class=\"ProveItLink\" href=\"../__pv_it/demonstrations/8274d73a14d96990bde719060ca77269595854cf0/proof.ipynb\" style=\"text-decoration: none\">&nbsp;&#x22A2;&nbsp;&nbsp;</a><a class=\"ProveItLink\" href=\"../__pv_it/demonstrations/f7d8b16c5176a50551761688bfe1cbeded7f234a0/expr.ipynb\"><img src=\"data:image/png;base64,iVBORw0KGgoAAAANSUhEUgAAAFIAAAARBAMAAAC8zuZqAAAAMFBMVEX////MzMyYmJjc3NyIiIhU\n",
       "VFR2dna6urqqqqpmZmYyMjIiIiIQEBBERETu7u4AAACIO4EmAAAAAXRSTlMAQObYZgAAAP5JREFU\n",
       "KM9j4LuzgYFIwDUBr7S3AJzJ34AQ5liIpo4v2wHBqX8AZzLtNEBVyDxbAYmXDWexbHuApjCqAZm7\n",
       "1GUGhPFsC0yIzcURRDHeKoCJPHOZzMD368F7sJ0vN8GN2sFwC0TfhXuGfTODGQPHPwZ+kKtZV8Bt\n",
       "4U5giAB72w8m8qaBbyID5wKG9wlAzlOEyvkw52rnQRkxKk4PQMFZD3a3Jdz2s3A9XZMh9FdwcCrA\n",
       "zID5iO8bwrtVgWAKLMJfwHcILZQ+AaMAplT2OojcBpRkYFXgnYAW8lMZgO6HAVNQAHgx8AFDaUoS\n",
       "emyyJamgRSrLJCUGOgO+1btBABZRAMv3QkiSG5V4AAAAAElFTkSuQmCC\n",
       "\" style=\"display:inline;vertical-align:middle;\" /></a></span>"
      ],
      "text/plain": [
       "{b < a, c >= a, d <= e, c = d} |- b < c <= e"
      ]
     },
     "execution_count": 10,
     "metadata": {},
     "output_type": "execute_result"
    }
   ],
   "source": [
    "to_sort = [b, c, e]\n",
    "random.shuffle(to_sort)\n",
    "random.shuffle(assumptions)\n",
    "print(to_sort)\n",
    "LessEq.sort(to_sort, assumptions=assumptions)"
   ]
  },
  {
   "cell_type": "code",
   "execution_count": 11,
   "metadata": {},
   "outputs": [
    {
     "name": "stdout",
     "output_type": "stream",
     "text": [
      "[a, e, c, b]\n"
     ]
    },
    {
     "data": {
      "text/html": [
       "<span style=\"font-size:20px;\"><a class=\"ProveItLink\" href=\"../__pv_it/demonstrations/eeb8810075dad9eb45ae1dd75a37443d9f35f47e0/expr.ipynb\"><img src=\"data:image/png;base64,iVBORw0KGgoAAAANSUhEUgAAADAAAAAOBAMAAACbXIJpAAAAMFBMVEX////MzMyYmJjc3NyIiIhU\n",
       "VFR2dna6urqqqqpmZmYyMjIiIiIQEBBERETu7u4AAACIO4EmAAAAAXRSTlMAQObYZgAAAKpJREFU\n",
       "GNNj4LuzgQE74JqAQ4K/AcHmWIgkUf8AzmTaaYAkkQ1nsWx7gGzUUpcZEMazLTAhy0yfBwx8vx68\n",
       "BxvwchNMnP0ww3qgff8Y+B2APNYVcDPeKDDMZWDgXMDwPgHIe4qQmP+AYQvYG/VgB1vCjTrLwPcR\n",
       "6A0FkApky/m+MXB8AEoU8B1CdS7fDwbWBc0MrAq8E9A8eIVBOyCBgW9KEnqQPHURDikAABviMdev\n",
       "WsLHAAAAAElFTkSuQmCC\n",
       "\" style=\"display:inline;vertical-align:middle;\" /></a>, <a class=\"ProveItLink\" href=\"../__pv_it/demonstrations/e9141ad2e5771d29a8a3adba5d5541bfe9c33a310/expr.ipynb\"><img src=\"data:image/png;base64,iVBORw0KGgoAAAANSUhEUgAAADAAAAARBAMAAABp3DInAAAAMFBMVEX///+6urqYmJgQEBDu7u5m\n",
       "ZmZUVFQyMjJERESqqqoiIiLc3NzMzMyIiIh2dnYAAABqS+z4AAAAAXRSTlMAQObYZgAAAKxJREFU\n",
       "GNNjYCAEvEJwyUzPxiUjnoNL5kQjKv/t3QNQ1rZKCL316WUHBoZdEzgKYGq2rgaRjNYM9UBqHQPb\n",
       "BJiEVgCIdFZgiGBgYP2CMPTWEzAV78CwloGBuQEmzPLqAoRhwcDyh4HB/wFUnDtKAargHwPnBwYG\n",
       "fiAXZAd3Oswmlp8MbAWzGVgTGFxBzvUQgFvVy6CVADTnndIFNI+63T2dK8BAPnBfBQJr4HwAh0kr\n",
       "bN/38/oAAAAASUVORK5CYII=\n",
       "\" style=\"display:inline;vertical-align:middle;\" /></a>, <a class=\"ProveItLink\" href=\"../__pv_it/demonstrations/5b1c8b9e744f40c9785762ab7c5e93a7e3dbbc230/expr.ipynb\"><img src=\"data:image/png;base64,iVBORw0KGgoAAAANSUhEUgAAAC8AAAARBAMAAAC/eehCAAAAMFBMVEX///9UVFSYmJiIiIjc3Nwy\n",
       "MjIiIiJ2dnbu7u66urqqqqpmZmYQEBBERETMzMwAAAAYOWz6AAAAAXRSTlMAQObYZgAAAMBJREFU\n",
       "GNNjYGBg4LuzgQE74F8AY5k9QJGY3wChOcoMUHWUQSiWbQpoRkVDxEUXoIiybLf7BaL5rk6ACXEU\n",
       "WzswMMxx4P0B4t1F2DvNgaWAgeMQA3cA2EEWcA2nGLofMHD/YGArAPPVKqASjIeMNRgYeC4w9EMN\n",
       "X7oF6i0BENlfwLAeZsZUOYgE2IT+BQyiXA5Qmbc3QSTIaAMGXgOmRHa4exxBTmMOYOh2YOAQtnO0\n",
       "RPOwtZICAwWAIywNBODeBwCYlCmZ1aYqvAAAAABJRU5ErkJggg==\n",
       "\" style=\"display:inline;vertical-align:middle;\" /></a>, <a class=\"ProveItLink\" href=\"../__pv_it/demonstrations/45704978fea718e5f80ac4a83ca6e9303a66bfe20/expr.ipynb\"><img src=\"data:image/png;base64,iVBORw0KGgoAAAANSUhEUgAAADAAAAAOBAMAAACbXIJpAAAAMFBMVEX///+6urqYmJgQEBDu7u5m\n",
       "ZmZUVFQyMjJERESqqqoiIiLc3NzMzMyIiIh2dnYAAABqS+z4AAAAAXRSTlMAQObYZgAAAJJJREFU\n",
       "GNNjYMAKTpgy4AA/cYgzfsEhwbcAhwR7AJB4e/cAmvDWt+cnMDDsmsBRAOQ8LweBUrAF1gz9DgwM\n",
       "6xjYJqBqcFZgCGdgYMW0P94BqJqBuQFDwoKB5SMDg/8DCA9iRxmQxfKPgfMDAwO/AgMDqh0sPxnY\n",
       "CmYzsCYwuKI5t5dBKwFozjulC2h2uN09nSsAAJvzJz/XNw6CAAAAAElFTkSuQmCC\n",
       "\" style=\"display:inline;vertical-align:middle;\" /></a> <a class=\"ProveItLink\" href=\"../__pv_it/demonstrations/59f0c1a3618c81b7f3ff5c4d398f4fb54cc6dae30/proof.ipynb\" style=\"text-decoration: none\">&nbsp;&#x22A2;&nbsp;&nbsp;</a><a class=\"ProveItLink\" href=\"../__pv_it/demonstrations/377267e7c648bf38addaeb305dabf819e2b194ea0/expr.ipynb\"><img src=\"data:image/png;base64,iVBORw0KGgoAAAANSUhEUgAAAHkAAAARBAMAAAALcx5NAAAAMFBMVEX////MzMyYmJjc3NyIiIhU\n",
       "VFR2dna6urqqqqpmZmYyMjIiIiIQEBBERETu7u4AAACIO4EmAAAAAXRSTlMAQObYZgAAAWRJREFU\n",
       "OMtj4LuzgYECwDUBrzTLRgwhbwEEm78BweZYiK7y2RZ0Eb5sByRe/QM4k2mnAZpSy03omplnKyBz\n",
       "sxGO3PYATanpCgzNUQ0o/KUuM9AdaZnpAzZHdjlcFZuLI4hivFUA90GKpwED368H78HufQl3JPth\n",
       "hvUgmvciwsodDLdA9F1EgFUbMCcwcPxj4AcFAyvCkW8UGOaCfbIF7hPuBIYIcHD7wa0+wfBSgIFz\n",
       "AcP7BCDvKUL3/AcMEE8wwQNiPoyhnQdlsB5y0QNHd30DavCeZeD7CI3BlQYwIRjomgyN6AAwqQAz\n",
       "GBZqfN8YOD7AgmCpAFQIDqoCIboTwGQB3yHUGOP7wcC6oBkqxngXHMifgO6AaZe9Dg0JBgcGVgXe\n",
       "CWip5QqDdkACPLTBVk1l4JuISAUg97AsYHgJjLEpSegp9amLcEgBaiJhS1JBTzeeSgoMgxW82g0C\n",
       "yDmUbzVYCJ7gAKNoYpraaZAFAAAAAElFTkSuQmCC\n",
       "\" style=\"display:inline;vertical-align:middle;\" /></a></span>"
      ],
      "text/plain": [
       "{b < a, c >= a, d <= e, c = d} |- b < a <= c <= e"
      ]
     },
     "execution_count": 11,
     "metadata": {},
     "output_type": "execute_result"
    }
   ],
   "source": [
    "to_sort = [a, b, c, e]\n",
    "random.shuffle(to_sort)\n",
    "random.shuffle(assumptions)\n",
    "print(to_sort)\n",
    "LessEq.sort(to_sort, assumptions=assumptions)"
   ]
  },
  {
   "cell_type": "code",
   "execution_count": 12,
   "metadata": {},
   "outputs": [
    {
     "name": "stdout",
     "output_type": "stream",
     "text": [
      "[d, a, b, c, e]\n"
     ]
    },
    {
     "data": {
      "text/html": [
       "<span style=\"font-size:20px;\"><a class=\"ProveItLink\" href=\"../__pv_it/demonstrations/eeb8810075dad9eb45ae1dd75a37443d9f35f47e0/expr.ipynb\"><img src=\"data:image/png;base64,iVBORw0KGgoAAAANSUhEUgAAADAAAAAOBAMAAACbXIJpAAAAMFBMVEX////MzMyYmJjc3NyIiIhU\n",
       "VFR2dna6urqqqqpmZmYyMjIiIiIQEBBERETu7u4AAACIO4EmAAAAAXRSTlMAQObYZgAAAKpJREFU\n",
       "GNNj4LuzgQE74JqAQ4K/AcHmWIgkUf8AzmTaaYAkkQ1nsWx7gGzUUpcZEMazLTAhy0yfBwx8vx68\n",
       "BxvwchNMnP0ww3qgff8Y+B2APNYVcDPeKDDMZWDgXMDwPgHIe4qQmP+AYQvYG/VgB1vCjTrLwPcR\n",
       "6A0FkApky/m+MXB8AEoU8B1CdS7fDwbWBc0MrAq8E9A8eIVBOyCBgW9KEnqQPHURDikAABviMdev\n",
       "WsLHAAAAAElFTkSuQmCC\n",
       "\" style=\"display:inline;vertical-align:middle;\" /></a>, <a class=\"ProveItLink\" href=\"../__pv_it/demonstrations/e9141ad2e5771d29a8a3adba5d5541bfe9c33a310/expr.ipynb\"><img src=\"data:image/png;base64,iVBORw0KGgoAAAANSUhEUgAAADAAAAARBAMAAABp3DInAAAAMFBMVEX///+6urqYmJgQEBDu7u5m\n",
       "ZmZUVFQyMjJERESqqqoiIiLc3NzMzMyIiIh2dnYAAABqS+z4AAAAAXRSTlMAQObYZgAAAKxJREFU\n",
       "GNNjYCAEvEJwyUzPxiUjnoNL5kQjKv/t3QNQ1rZKCL316WUHBoZdEzgKYGq2rgaRjNYM9UBqHQPb\n",
       "BJiEVgCIdFZgiGBgYP2CMPTWEzAV78CwloGBuQEmzPLqAoRhwcDyh4HB/wFUnDtKAargHwPnBwYG\n",
       "fiAXZAd3Oswmlp8MbAWzGVgTGFxBzvUQgFvVy6CVADTnndIFNI+63T2dK8BAPnBfBQJr4HwAh0kr\n",
       "bN/38/oAAAAASUVORK5CYII=\n",
       "\" style=\"display:inline;vertical-align:middle;\" /></a>, <a class=\"ProveItLink\" href=\"../__pv_it/demonstrations/45704978fea718e5f80ac4a83ca6e9303a66bfe20/expr.ipynb\"><img src=\"data:image/png;base64,iVBORw0KGgoAAAANSUhEUgAAADAAAAAOBAMAAACbXIJpAAAAMFBMVEX///+6urqYmJgQEBDu7u5m\n",
       "ZmZUVFQyMjJERESqqqoiIiLc3NzMzMyIiIh2dnYAAABqS+z4AAAAAXRSTlMAQObYZgAAAJJJREFU\n",
       "GNNjYMAKTpgy4AA/cYgzfsEhwbcAhwR7AJB4e/cAmvDWt+cnMDDsmsBRAOQ8LweBUrAF1gz9DgwM\n",
       "6xjYJqBqcFZgCGdgYMW0P94BqJqBuQFDwoKB5SMDg/8DCA9iRxmQxfKPgfMDAwO/AgMDqh0sPxnY\n",
       "CmYzsCYwuKI5t5dBKwFozjulC2h2uN09nSsAAJvzJz/XNw6CAAAAAElFTkSuQmCC\n",
       "\" style=\"display:inline;vertical-align:middle;\" /></a>, <a class=\"ProveItLink\" href=\"../__pv_it/demonstrations/5b1c8b9e744f40c9785762ab7c5e93a7e3dbbc230/expr.ipynb\"><img src=\"data:image/png;base64,iVBORw0KGgoAAAANSUhEUgAAAC8AAAARBAMAAAC/eehCAAAAMFBMVEX///9UVFSYmJiIiIjc3Nwy\n",
       "MjIiIiJ2dnbu7u66urqqqqpmZmYQEBBERETMzMwAAAAYOWz6AAAAAXRSTlMAQObYZgAAAMBJREFU\n",
       "GNNjYGBg4LuzgQE74F8AY5k9QJGY3wChOcoMUHWUQSiWbQpoRkVDxEUXoIiybLf7BaL5rk6ACXEU\n",
       "WzswMMxx4P0B4t1F2DvNgaWAgeMQA3cA2EEWcA2nGLofMHD/YGArAPPVKqASjIeMNRgYeC4w9EMN\n",
       "X7oF6i0BENlfwLAeZsZUOYgE2IT+BQyiXA5Qmbc3QSTIaAMGXgOmRHa4exxBTmMOYOh2YOAQtnO0\n",
       "RPOwtZICAwWAIywNBODeBwCYlCmZ1aYqvAAAAABJRU5ErkJggg==\n",
       "\" style=\"display:inline;vertical-align:middle;\" /></a> <a class=\"ProveItLink\" href=\"../__pv_it/demonstrations/365463eae35390d545adbab327636af51f81b6930/proof.ipynb\" style=\"text-decoration: none\">&nbsp;&#x22A2;&nbsp;&nbsp;</a><a class=\"ProveItLink\" href=\"../__pv_it/demonstrations/c727813d29fc1bdbf2cd2b08de4996bbe5565d640/expr.ipynb\"><img src=\"data:image/png;base64,iVBORw0KGgoAAAANSUhEUgAAAJ8AAAARBAMAAAAxj2N7AAAAMFBMVEX////MzMyYmJjc3NyIiIhU\n",
       "VFR2dna6urqqqqpmZmYyMjIiIiIQEBBERETu7u4AAACIO4EmAAAAAXRSTlMAQObYZgAAAaNJREFU\n",
       "OMtj4LuzgYFMwHhnAjZhrgl4dbFsxC3H3wBjeQtgE2Vg6BJA1/NsCx7L6h9AaL5sByyiQKA9GV2L\n",
       "5SZ8rs+GUMyzFbCIgtydh67DdAXe4FgJMS+qAUV0qcsMNHczT5tyDsyQXQ5XxebiiGYa8zTHH+Co\n",
       "uVUAE+JL8TRg4Pv14L0BiINwd40B1wcQzXsRoXsHwy2QsavAYAJEFe8/EH0XEe7VBswJDBz/GPhB\n",
       "TkO4m+8QA+cFcARvgQcvdwJDBKoDQaoWgAPKDy50guGlAEj0fQKQgzCQ8x8DN8T3TNtgJs5/gB5+\n",
       "IFUJkKiEBT3rIRc9cDKsb0CJKp4LDO+h3uBYaQBhnMWIEJAqaOB1QRMHfwCYVIBaD48UoIP7YdrY\n",
       "l4KN5vsGjRpIGAagqaoKhBgIdjF/ATA0UJLN+waGKA4DWPa6C3bGJ6BrUV2Iokr2OjSgGRwYWBV4\n",
       "J6AmbF4Hpq1siPgF2z6VgW8iqoGoqkxBHmFZwPASmGymJKFlPb4QR1N3tBBjS1JBE8GmylNJgWFo\n",
       "g1e7QWAjfkV8q8Gq4NkFANlpdujFdjhdAAAAAElFTkSuQmCC\n",
       "\" style=\"display:inline;vertical-align:middle;\" /></a></span>"
      ],
      "text/plain": [
       "{b < a, c >= a, c = d, d <= e} |- b < a <= c = d <= e"
      ]
     },
     "execution_count": 12,
     "metadata": {},
     "output_type": "execute_result"
    }
   ],
   "source": [
    "to_sort = [a, b, c, d, e]\n",
    "random.shuffle(to_sort)\n",
    "random.shuffle(assumptions)\n",
    "print(to_sort)\n",
    "LessEq.sort(to_sort, assumptions=assumptions)"
   ]
  },
  {
   "cell_type": "code",
   "execution_count": 13,
   "metadata": {},
   "outputs": [
    {
     "data": {
      "text/html": [
       "<span style=\"font-size:20px;\"> <a class=\"ProveItLink\" href=\"../__pv_it/demonstrations/5ef14e9dd22c3acf926b154a1ac71ad68f654d400/proof.ipynb\" style=\"text-decoration: none\">&nbsp;&#x22A2;&nbsp;&nbsp;</a><a class=\"ProveItLink\" href=\"../__pv_it/demonstrations/02e30da62d406c9e05874c027d5570366c10eae10/expr.ipynb\"><img src=\"data:image/png;base64,iVBORw0KGgoAAAANSUhEUgAAADAAAAARBAMAAABp3DInAAAAMFBMVEX///+6urpERETc3NzMzMwi\n",
       "IiIyMjJmZmaIiIiYmJh2dnZUVFTu7u4QEBCqqqoAAAA8/FlzAAAAAXRSTlMAQObYZgAAAJZJREFU\n",
       "GNNjYMAK3IGY7w6SQKsDhI5mYDi9+g9cmGdpA4TBcRtIcMIlmEsnQFmW2cgSzNsewJQsQJZgUROA\n",
       "iXMaIEsoOcDtOsGALNHaA5dYgCLBMHUNlMHngCrB8KwYQp9iQJNgENsCpl6Xl/+tQJFgcFKEMkAe\n",
       "5ECSYLCGOu0SAwP73m+VGGG46P9OBvIBT2ooCMC9DwDm2iv6vIz64QAAAABJRU5ErkJggg==\n",
       "\" style=\"display:inline;vertical-align:middle;\" /></a></span>"
      ],
      "text/plain": [
       "|- 1 <= 4"
      ]
     },
     "execution_count": 13,
     "metadata": {},
     "output_type": "execute_result"
    }
   ],
   "source": [
    "LessEq(one, four).prove(automation=False)"
   ]
  },
  {
   "cell_type": "code",
   "execution_count": 14,
   "metadata": {},
   "outputs": [
    {
     "name": "stdout",
     "output_type": "stream",
     "text": [
      "[a, b, d, e, c]\n"
     ]
    },
    {
     "data": {
      "text/html": [
       "<span style=\"font-size:20px;\"><a class=\"ProveItLink\" href=\"../__pv_it/demonstrations/eeb8810075dad9eb45ae1dd75a37443d9f35f47e0/expr.ipynb\"><img src=\"data:image/png;base64,iVBORw0KGgoAAAANSUhEUgAAADAAAAAOBAMAAACbXIJpAAAAMFBMVEX////MzMyYmJjc3NyIiIhU\n",
       "VFR2dna6urqqqqpmZmYyMjIiIiIQEBBERETu7u4AAACIO4EmAAAAAXRSTlMAQObYZgAAAKpJREFU\n",
       "GNNj4LuzgQE74JqAQ4K/AcHmWIgkUf8AzmTaaYAkkQ1nsWx7gGzUUpcZEMazLTAhy0yfBwx8vx68\n",
       "BxvwchNMnP0ww3qgff8Y+B2APNYVcDPeKDDMZWDgXMDwPgHIe4qQmP+AYQvYG/VgB1vCjTrLwPcR\n",
       "6A0FkApky/m+MXB8AEoU8B1CdS7fDwbWBc0MrAq8E9A8eIVBOyCBgW9KEnqQPHURDikAABviMdev\n",
       "WsLHAAAAAElFTkSuQmCC\n",
       "\" style=\"display:inline;vertical-align:middle;\" /></a>, <a class=\"ProveItLink\" href=\"../__pv_it/demonstrations/e9141ad2e5771d29a8a3adba5d5541bfe9c33a310/expr.ipynb\"><img src=\"data:image/png;base64,iVBORw0KGgoAAAANSUhEUgAAADAAAAARBAMAAABp3DInAAAAMFBMVEX///+6urqYmJgQEBDu7u5m\n",
       "ZmZUVFQyMjJERESqqqoiIiLc3NzMzMyIiIh2dnYAAABqS+z4AAAAAXRSTlMAQObYZgAAAKxJREFU\n",
       "GNNjYCAEvEJwyUzPxiUjnoNL5kQjKv/t3QNQ1rZKCL316WUHBoZdEzgKYGq2rgaRjNYM9UBqHQPb\n",
       "BJiEVgCIdFZgiGBgYP2CMPTWEzAV78CwloGBuQEmzPLqAoRhwcDyh4HB/wFUnDtKAargHwPnBwYG\n",
       "fiAXZAd3Oswmlp8MbAWzGVgTGFxBzvUQgFvVy6CVADTnndIFNI+63T2dK8BAPnBfBQJr4HwAh0kr\n",
       "bN/38/oAAAAASUVORK5CYII=\n",
       "\" style=\"display:inline;vertical-align:middle;\" /></a>, <a class=\"ProveItLink\" href=\"../__pv_it/demonstrations/45704978fea718e5f80ac4a83ca6e9303a66bfe20/expr.ipynb\"><img src=\"data:image/png;base64,iVBORw0KGgoAAAANSUhEUgAAADAAAAAOBAMAAACbXIJpAAAAMFBMVEX///+6urqYmJgQEBDu7u5m\n",
       "ZmZUVFQyMjJERESqqqoiIiLc3NzMzMyIiIh2dnYAAABqS+z4AAAAAXRSTlMAQObYZgAAAJJJREFU\n",
       "GNNjYMAKTpgy4AA/cYgzfsEhwbcAhwR7AJB4e/cAmvDWt+cnMDDsmsBRAOQ8LweBUrAF1gz9DgwM\n",
       "6xjYJqBqcFZgCGdgYMW0P94BqJqBuQFDwoKB5SMDg/8DCA9iRxmQxfKPgfMDAwO/AgMDqh0sPxnY\n",
       "CmYzsCYwuKI5t5dBKwFozjulC2h2uN09nSsAAJvzJz/XNw6CAAAAAElFTkSuQmCC\n",
       "\" style=\"display:inline;vertical-align:middle;\" /></a>, <a class=\"ProveItLink\" href=\"../__pv_it/demonstrations/5b1c8b9e744f40c9785762ab7c5e93a7e3dbbc230/expr.ipynb\"><img src=\"data:image/png;base64,iVBORw0KGgoAAAANSUhEUgAAAC8AAAARBAMAAAC/eehCAAAAMFBMVEX///9UVFSYmJiIiIjc3Nwy\n",
       "MjIiIiJ2dnbu7u66urqqqqpmZmYQEBBERETMzMwAAAAYOWz6AAAAAXRSTlMAQObYZgAAAMBJREFU\n",
       "GNNjYGBg4LuzgQE74F8AY5k9QJGY3wChOcoMUHWUQSiWbQpoRkVDxEUXoIiybLf7BaL5rk6ACXEU\n",
       "WzswMMxx4P0B4t1F2DvNgaWAgeMQA3cA2EEWcA2nGLofMHD/YGArAPPVKqASjIeMNRgYeC4w9EMN\n",
       "X7oF6i0BENlfwLAeZsZUOYgE2IT+BQyiXA5Qmbc3QSTIaAMGXgOmRHa4exxBTmMOYOh2YOAQtnO0\n",
       "RPOwtZICAwWAIywNBODeBwCYlCmZ1aYqvAAAAABJRU5ErkJggg==\n",
       "\" style=\"display:inline;vertical-align:middle;\" /></a> <a class=\"ProveItLink\" href=\"../__pv_it/demonstrations/365463eae35390d545adbab327636af51f81b6930/proof.ipynb\" style=\"text-decoration: none\">&nbsp;&#x22A2;&nbsp;&nbsp;</a><a class=\"ProveItLink\" href=\"../__pv_it/demonstrations/c727813d29fc1bdbf2cd2b08de4996bbe5565d640/expr.ipynb\"><img src=\"data:image/png;base64,iVBORw0KGgoAAAANSUhEUgAAAJ8AAAARBAMAAAAxj2N7AAAAMFBMVEX////MzMyYmJjc3NyIiIhU\n",
       "VFR2dna6urqqqqpmZmYyMjIiIiIQEBBERETu7u4AAACIO4EmAAAAAXRSTlMAQObYZgAAAaNJREFU\n",
       "OMtj4LuzgYFMwHhnAjZhrgl4dbFsxC3H3wBjeQtgE2Vg6BJA1/NsCx7L6h9AaL5sByyiQKA9GV2L\n",
       "5SZ8rs+GUMyzFbCIgtydh67DdAXe4FgJMS+qAUV0qcsMNHczT5tyDsyQXQ5XxebiiGYa8zTHH+Co\n",
       "uVUAE+JL8TRg4Pv14L0BiINwd40B1wcQzXsRoXsHwy2QsavAYAJEFe8/EH0XEe7VBswJDBz/GPhB\n",
       "TkO4m+8QA+cFcARvgQcvdwJDBKoDQaoWgAPKDy50guGlAEj0fQKQgzCQ8x8DN8T3TNtgJs5/gB5+\n",
       "IFUJkKiEBT3rIRc9cDKsb0CJKp4LDO+h3uBYaQBhnMWIEJAqaOB1QRMHfwCYVIBaD48UoIP7YdrY\n",
       "l4KN5vsGjRpIGAagqaoKhBgIdjF/ATA0UJLN+waGKA4DWPa6C3bGJ6BrUV2Iokr2OjSgGRwYWBV4\n",
       "J6AmbF4Hpq1siPgF2z6VgW8iqoGoqkxBHmFZwPASmGymJKFlPb4QR1N3tBBjS1JBE8GmylNJgWFo\n",
       "g1e7QWAjfkV8q8Gq4NkFANlpdujFdjhdAAAAAElFTkSuQmCC\n",
       "\" style=\"display:inline;vertical-align:middle;\" /></a></span>"
      ],
      "text/plain": [
       "{b < a, c >= a, c = d, d <= e} |- b < a <= c = d <= e"
      ]
     },
     "execution_count": 14,
     "metadata": {},
     "output_type": "execute_result"
    }
   ],
   "source": [
    "to_sort = [a, b, c, d, e]\n",
    "random.shuffle(to_sort)\n",
    "random.shuffle(assumptions)\n",
    "print(to_sort)\n",
    "LessEq.sort(to_sort, assumptions=assumptions)"
   ]
  },
  {
   "cell_type": "code",
   "execution_count": 15,
   "metadata": {},
   "outputs": [
    {
     "name": "stdout",
     "output_type": "stream",
     "text": [
      "[d, c, b, e, a]\n"
     ]
    },
    {
     "data": {
      "text/html": [
       "<span style=\"font-size:20px;\"><a class=\"ProveItLink\" href=\"../__pv_it/demonstrations/eeb8810075dad9eb45ae1dd75a37443d9f35f47e0/expr.ipynb\"><img src=\"data:image/png;base64,iVBORw0KGgoAAAANSUhEUgAAADAAAAAOBAMAAACbXIJpAAAAMFBMVEX////MzMyYmJjc3NyIiIhU\n",
       "VFR2dna6urqqqqpmZmYyMjIiIiIQEBBERETu7u4AAACIO4EmAAAAAXRSTlMAQObYZgAAAKpJREFU\n",
       "GNNj4LuzgQE74JqAQ4K/AcHmWIgkUf8AzmTaaYAkkQ1nsWx7gGzUUpcZEMazLTAhy0yfBwx8vx68\n",
       "BxvwchNMnP0ww3qgff8Y+B2APNYVcDPeKDDMZWDgXMDwPgHIe4qQmP+AYQvYG/VgB1vCjTrLwPcR\n",
       "6A0FkApky/m+MXB8AEoU8B1CdS7fDwbWBc0MrAq8E9A8eIVBOyCBgW9KEnqQPHURDikAABviMdev\n",
       "WsLHAAAAAElFTkSuQmCC\n",
       "\" style=\"display:inline;vertical-align:middle;\" /></a>, <a class=\"ProveItLink\" href=\"../__pv_it/demonstrations/e9141ad2e5771d29a8a3adba5d5541bfe9c33a310/expr.ipynb\"><img src=\"data:image/png;base64,iVBORw0KGgoAAAANSUhEUgAAADAAAAARBAMAAABp3DInAAAAMFBMVEX///+6urqYmJgQEBDu7u5m\n",
       "ZmZUVFQyMjJERESqqqoiIiLc3NzMzMyIiIh2dnYAAABqS+z4AAAAAXRSTlMAQObYZgAAAKxJREFU\n",
       "GNNjYCAEvEJwyUzPxiUjnoNL5kQjKv/t3QNQ1rZKCL316WUHBoZdEzgKYGq2rgaRjNYM9UBqHQPb\n",
       "BJiEVgCIdFZgiGBgYP2CMPTWEzAV78CwloGBuQEmzPLqAoRhwcDyh4HB/wFUnDtKAargHwPnBwYG\n",
       "fiAXZAd3Oswmlp8MbAWzGVgTGFxBzvUQgFvVy6CVADTnndIFNI+63T2dK8BAPnBfBQJr4HwAh0kr\n",
       "bN/38/oAAAAASUVORK5CYII=\n",
       "\" style=\"display:inline;vertical-align:middle;\" /></a>, <a class=\"ProveItLink\" href=\"../__pv_it/demonstrations/45704978fea718e5f80ac4a83ca6e9303a66bfe20/expr.ipynb\"><img src=\"data:image/png;base64,iVBORw0KGgoAAAANSUhEUgAAADAAAAAOBAMAAACbXIJpAAAAMFBMVEX///+6urqYmJgQEBDu7u5m\n",
       "ZmZUVFQyMjJERESqqqoiIiLc3NzMzMyIiIh2dnYAAABqS+z4AAAAAXRSTlMAQObYZgAAAJJJREFU\n",
       "GNNjYMAKTpgy4AA/cYgzfsEhwbcAhwR7AJB4e/cAmvDWt+cnMDDsmsBRAOQ8LweBUrAF1gz9DgwM\n",
       "6xjYJqBqcFZgCGdgYMW0P94BqJqBuQFDwoKB5SMDg/8DCA9iRxmQxfKPgfMDAwO/AgMDqh0sPxnY\n",
       "CmYzsCYwuKI5t5dBKwFozjulC2h2uN09nSsAAJvzJz/XNw6CAAAAAElFTkSuQmCC\n",
       "\" style=\"display:inline;vertical-align:middle;\" /></a>, <a class=\"ProveItLink\" href=\"../__pv_it/demonstrations/5b1c8b9e744f40c9785762ab7c5e93a7e3dbbc230/expr.ipynb\"><img src=\"data:image/png;base64,iVBORw0KGgoAAAANSUhEUgAAAC8AAAARBAMAAAC/eehCAAAAMFBMVEX///9UVFSYmJiIiIjc3Nwy\n",
       "MjIiIiJ2dnbu7u66urqqqqpmZmYQEBBERETMzMwAAAAYOWz6AAAAAXRSTlMAQObYZgAAAMBJREFU\n",
       "GNNjYGBg4LuzgQE74F8AY5k9QJGY3wChOcoMUHWUQSiWbQpoRkVDxEUXoIiybLf7BaL5rk6ACXEU\n",
       "WzswMMxx4P0B4t1F2DvNgaWAgeMQA3cA2EEWcA2nGLofMHD/YGArAPPVKqASjIeMNRgYeC4w9EMN\n",
       "X7oF6i0BENlfwLAeZsZUOYgE2IT+BQyiXA5Qmbc3QSTIaAMGXgOmRHa4exxBTmMOYOh2YOAQtnO0\n",
       "RPOwtZICAwWAIywNBODeBwCYlCmZ1aYqvAAAAABJRU5ErkJggg==\n",
       "\" style=\"display:inline;vertical-align:middle;\" /></a> <a class=\"ProveItLink\" href=\"../__pv_it/demonstrations/365463eae35390d545adbab327636af51f81b6930/proof.ipynb\" style=\"text-decoration: none\">&nbsp;&#x22A2;&nbsp;&nbsp;</a><a class=\"ProveItLink\" href=\"../__pv_it/demonstrations/c727813d29fc1bdbf2cd2b08de4996bbe5565d640/expr.ipynb\"><img src=\"data:image/png;base64,iVBORw0KGgoAAAANSUhEUgAAAJ8AAAARBAMAAAAxj2N7AAAAMFBMVEX////MzMyYmJjc3NyIiIhU\n",
       "VFR2dna6urqqqqpmZmYyMjIiIiIQEBBERETu7u4AAACIO4EmAAAAAXRSTlMAQObYZgAAAaNJREFU\n",
       "OMtj4LuzgYFMwHhnAjZhrgl4dbFsxC3H3wBjeQtgE2Vg6BJA1/NsCx7L6h9AaL5sByyiQKA9GV2L\n",
       "5SZ8rs+GUMyzFbCIgtydh67DdAXe4FgJMS+qAUV0qcsMNHczT5tyDsyQXQ5XxebiiGYa8zTHH+Co\n",
       "uVUAE+JL8TRg4Pv14L0BiINwd40B1wcQzXsRoXsHwy2QsavAYAJEFe8/EH0XEe7VBswJDBz/GPhB\n",
       "TkO4m+8QA+cFcARvgQcvdwJDBKoDQaoWgAPKDy50guGlAEj0fQKQgzCQ8x8DN8T3TNtgJs5/gB5+\n",
       "IFUJkKiEBT3rIRc9cDKsb0CJKp4LDO+h3uBYaQBhnMWIEJAqaOB1QRMHfwCYVIBaD48UoIP7YdrY\n",
       "l4KN5vsGjRpIGAagqaoKhBgIdjF/ATA0UJLN+waGKA4DWPa6C3bGJ6BrUV2Iokr2OjSgGRwYWBV4\n",
       "J6AmbF4Hpq1siPgF2z6VgW8iqoGoqkxBHmFZwPASmGymJKFlPb4QR1N3tBBjS1JBE8GmylNJgWFo\n",
       "g1e7QWAjfkV8q8Gq4NkFANlpdujFdjhdAAAAAElFTkSuQmCC\n",
       "\" style=\"display:inline;vertical-align:middle;\" /></a></span>"
      ],
      "text/plain": [
       "{b < a, c >= a, c = d, d <= e} |- b < a <= c = d <= e"
      ]
     },
     "execution_count": 15,
     "metadata": {},
     "output_type": "execute_result"
    }
   ],
   "source": [
    "to_sort = [a, b, c, d, e]\n",
    "random.shuffle(to_sort)\n",
    "random.shuffle(assumptions)\n",
    "print(to_sort)\n",
    "LessEq.sort(to_sort, assumptions=assumptions)"
   ]
  },
  {
   "cell_type": "markdown",
   "metadata": {},
   "source": [
    "### Number ordering\n",
    "\n",
    "A number ordering is simply a total-ordering style for presenting a conjunction of number ordering relations."
   ]
  },
  {
   "cell_type": "code",
   "execution_count": 16,
   "metadata": {},
   "outputs": [
    {
     "data": {
      "text/html": [
       "<strong id=\"ordering\">ordering:</strong> <span style=\"font-size:20px;\"><a class=\"ProveItLink\" href=\"../__pv_it/demonstrations/12f8c8dddbbff56ccd558acc92f2c412af8a96850/expr.ipynb\"><img src=\"data:image/png;base64,iVBORw0KGgoAAAANSUhEUgAAADYAAAAMBAMAAADbilMlAAAAMFBMVEX///8iIiLMzMyYmJjc3Ny6\n",
       "urpUVFRERER2dnYQEBAyMjKqqqpmZmaIiIju7u4AAACpWGz5AAAAAXRSTlMAQObYZgAAALJJREFU\n",
       "GNNjYEAD3IsYcAFmGQdcUrwSD5B4fHcuMOxi2AkReiELE72bEtvLwME9gaGMIT4AJPJGGKbjBYPh\n",
       "BSkGb54FDJ8Z2EG2sK2Gm9bH0P8ghOEB5wWmLww8IIFnCLkHDOUgKt6BdwIDB1jERxjhjr8g4hQD\n",
       "ewKDKwOqWxiYPoHIMgbGBoYLaH7Yx/uB4R4Dwy2GyAKmAFS/s/5m/8BiwMDAc/ZebjNamPHl3rtj\n",
       "zAAAR+YurF/oIagAAAAASUVORK5CYII=\n",
       "\" style=\"display:inline;vertical-align:middle;\" /></a>, <a class=\"ProveItLink\" href=\"../__pv_it/theorems/927153f7babd727e4840ed1233fa7f70b3695cf20/expr.ipynb\"><img src=\"data:image/png;base64,iVBORw0KGgoAAAANSUhEUgAAADMAAAASBAMAAAAEf/uKAAAAMFBMVEX///8QEBBmZmaqqqrMzMxE\n",
       "REQyMjIiIiKYmJh2dna6urrc3NxUVFSIiIju7u4AAAA6P00QAAAAAXRSTlMAQObYZgAAAMdJREFU\n",
       "GNNjYCAaXHfAIcE3/QIOGW71BlwyxwxQBd7e2XUTbAxL2AKYuZcuMGx8wMA3gaOWPQEkEAp3ASeX\n",
       "AMN9IPWA8x/XBrDj7sGkNjMlMIQCNTOwBkBF2udBGQ8YLzD8BTH44Q4204Yy1j9g+QKi/RG+XHYE\n",
       "Qqsx8AowMDA/uM/A+wAm5xoFpmIYWA8A9RrEM+xAeGUP2AgdhvVAz7+5+1YDIwze3NXfgDOY1XCI\n",
       "8yTw/UIJ9fRyEADZxd7AiisGuO6qAEkA7Io1laIOjrsAAAAASUVORK5CYII=\n",
       "\" style=\"display:inline;vertical-align:middle;\" /></a>, <a class=\"ProveItLink\" href=\"../__pv_it/theorems/d6ddafca9be24dc793747402a14c730f827a762d0/expr.ipynb\"><img src=\"data:image/png;base64,iVBORw0KGgoAAAANSUhEUgAAADEAAAAQBAMAAABNQoq8AAAAMFBMVEX///8iIiKYmJhUVFTMzMxE\n",
       "REQyMjKqqqq6urp2dnYQEBDc3NxmZmaIiIju7u4AAACH5sGpAAAAAXRSTlMAQObYZgAAAKtJREFU\n",
       "GNNjYEAB7CkM2AGTzAbsErySD5B4fHcuMOyCCLyUhQk2rmBRYODkWMBwH8x9IwRXHXTnKAPDdp4E\n",
       "hlAQlzkdYQ4DdwADwwOuCwx/QdzH6Uh2uILM73/A8gXM2wM3jYHDAEQeY+BdwIDmgmIwGczAaoDm\n",
       "avYDDMxA6jBDvwKaTx01dTNANt89vwEtdA4wLWtggNiEFTAn8P3ALsOowHoBuwzH3SPYJQChZSo3\n",
       "tUhQrwAAAABJRU5ErkJggg==\n",
       "\" style=\"display:inline;vertical-align:middle;\" /></a> <a class=\"ProveItLink\" href=\"../__pv_it/demonstrations/ea6510bf2128c08ea9473b0e3d448d30eb56aaad0/proof.ipynb\" style=\"text-decoration: none\">&nbsp;&#x22A2;&nbsp;&nbsp;</a><a class=\"ProveItLink\" href=\"../__pv_it/demonstrations/61ccb3fb8e7f0654f1a7cf18408f2ab01550438e0/expr.ipynb\"><img src=\"data:image/png;base64,iVBORw0KGgoAAAANSUhEUgAAAIMAAAASBAMAAACKiXCzAAAAMFBMVEX///8iIiLMzMyYmJjc3Ny6\n",
       "urpUVFRERER2dnYQEBAyMjKqqqpmZmaIiIju7u4AAACpWGz5AAAAAXRSTlMAQObYZgAAAWNJREFU\n",
       "OMtjYKAP4BUiSTn3IgyhF7JEKYMBZhkHdCEfYaKUwZ0s8QBdyG01IWV8dy4w7GLY+QDVyXx3U2J7\n",
       "wSz1pUgKPdGUMQROZTJg4OCewFDGEB8AEngDd/ILBsMLUiAGexFMiIN1AsN9BlRlfMV3jjMwePMs\n",
       "YPjMwA7yGhvCyX0M/Q9CwE6WhTkZpLCcAVUZHwNLAQPDA84LTF8YeEACzxByDyCqQQEH8zZQIcNf\n",
       "NGVAf4Jk4x14JzBwYIT9X3j0rYEGfvwDpk/oylgTQOQpBvYEBlf0FABVDVa2TIEBohBoF5qybWCy\n",
       "jIGxgeECWmzt4/3AcA9uXHkARCF7Apoy7gMMbEDqFkNkAVMAapph/c3+gcUA7g6WJBB5jCHeAC1p\n",
       "KVrYguKc5+y93Ga0lMuXe++OMXp6enb3vANaAj/APCuAtOx2isLsyraA7ytZGl8JggAoszMasF+g\n",
       "0BWsdw9hlwAAXyViUdKGZyYAAAAASUVORK5CYII=\n",
       "\" style=\"display:inline;vertical-align:middle;\" /></a></span><br>"
      ],
      "text/plain": [
       "ordering: {w < x, x <= y, y < z} |- w < x <= y < z"
      ]
     },
     "execution_count": 16,
     "metadata": {},
     "output_type": "execute_result"
    }
   ],
   "source": [
    "ordering = number_ordering(Less(w, x), LessEq(x, y), Less(y, z)).prove([Less(w, x), LessEq(x, y), Less(y, z)])"
   ]
  },
  {
   "cell_type": "code",
   "execution_count": 17,
   "metadata": {},
   "outputs": [
    {
     "data": {
      "text/html": [
       "<table><tr><th>&nbsp;</th><th>core type</th><th>sub-expressions</th><th>expression</th></tr>\n",
       "<tr><td>0</td><td>Operation</td><td>operator:&nbsp;1<br>operands:&nbsp;2<br></td><td><a class=\"ProveItLink\" href=\"../__pv_it/demonstrations/61ccb3fb8e7f0654f1a7cf18408f2ab01550438e0/expr.ipynb\"><img src=\"data:image/png;base64,iVBORw0KGgoAAAANSUhEUgAAAIMAAAASBAMAAACKiXCzAAAAMFBMVEX///8iIiLMzMyYmJjc3Ny6\n",
       "urpUVFRERER2dnYQEBAyMjKqqqpmZmaIiIju7u4AAACpWGz5AAAAAXRSTlMAQObYZgAAAWNJREFU\n",
       "OMtjYKAP4BUiSTn3IgyhF7JEKYMBZhkHdCEfYaKUwZ0s8QBdyG01IWV8dy4w7GLY+QDVyXx3U2J7\n",
       "wSz1pUgKPdGUMQROZTJg4OCewFDGEB8AEngDd/ILBsMLUiAGexFMiIN1AsN9BlRlfMV3jjMwePMs\n",
       "YPjMwA7yGhvCyX0M/Q9CwE6WhTkZpLCcAVUZHwNLAQPDA84LTF8YeEACzxByDyCqQQEH8zZQIcNf\n",
       "NGVAf4Jk4x14JzBwYIT9X3j0rYEGfvwDpk/oylgTQOQpBvYEBlf0FABVDVa2TIEBohBoF5qybWCy\n",
       "jIGxgeECWmzt4/3AcA9uXHkARCF7Apoy7gMMbEDqFkNkAVMAapph/c3+gcUA7g6WJBB5jCHeAC1p\n",
       "KVrYguKc5+y93Ga0lMuXe++OMXp6enb3vANaAj/APCuAtOx2isLsyraA7ytZGl8JggAoszMasF+g\n",
       "0BWsdw9hlwAAXyViUdKGZyYAAAAASUVORK5CYII=\n",
       "\" style=\"display:inline;vertical-align:middle;\" /></a></td></tr>\n",
       "<tr><td>1</td><td>Literal</td><td></td><td><a class=\"ProveItLink\" href=\"../../../logic/booleans/conjunction/__pv_it/common/26b94b53e70b1d77b70f0d9d4236347db37731060/expr.ipynb\"><img src=\"data:image/png;base64,iVBORw0KGgoAAAANSUhEUgAAAAwAAAAOBAMAAADpk+DfAAAALVBMVEX///+YmJiqqqp2dnaIiIi6\n",
       "urpUVFTu7u4iIiJERETMzMxmZmYyMjLc3NwAAAA0M6a/AAAAAXRSTlMAQObYZgAAAElJREFUCNdj\n",
       "YGDgZQADng1gamU7mEp1AZHsBzhAFLMCswKQ4mDgPQCkRBgYsoAUUN0yBgYmoC6eCyAEYq5kAEuk\n",
       "gigXhgAQxQUA/TsLhzUuB2sAAAAASUVORK5CYII=\n",
       "\" style=\"display:inline;vertical-align:middle;\" /></a></td></tr>\n",
       "<tr><td>2</td><td>ExprTuple</td><td>3, 4, 5</td><td><a class=\"ProveItLink\" href=\"../__pv_it/demonstrations/ebdcc75bbc63dcb3ae2c0c735d3e533d5017d93a0/expr.ipynb\"><img src=\"data:image/png;base64,iVBORw0KGgoAAAANSUhEUgAAALkAAAAUBAMAAAAjAYFfAAAAMFBMVEX////MzMxUVFR2dna6uroQ\n",
       "EBCqqqqIiIgiIiJmZmYyMjJERETu7u6YmJjc3NwAAACgK8IjAAAAAXRSTlMAQObYZgAAAkZJREFU\n",
       "OMu1VT1o1GAYfnJJ76dJzo5CB+tUcJDbqlDxFrE4mBs6ORXBpRQJOlxPDloQrBYLp0vlRI0g4iRH\n",
       "cbJUQ4tUcfDAwS5KkCo6CCeIXVT8fvL3fU2iHe4dkiff8z5vvrzv974Byl30x87Ty+s+BUfOI5fH\n",
       "e1XNDv2fn+EAZmvXcv5+luaInRUyrh0Dip7sYF7z0tXlW5llErQvgC+yQ+GymxH80FRWcFE7WEWD\n",
       "fGzDxjTOcWJjIUhB/fDJMQ43L2xfZPlQnlYDlmg+uSKKtJiYVLpQW1gD1HwNK7CY8NVS4LCBLXuR\n",
       "R6qYC0WHotWwoKpWw5yEIq2x1rhN0uTgCvC55OA3dJqx3MPwu8Zx3D3N9a76S2P5nG0GLNWsiiim\n",
       "NVDukArPYxJwB2zlD0p0eT3ycH019dU7PtwaD9gBGzsiimmBYZIrpUejw/IKNahs9etS5LETon3h\n",
       "KZy+6wPLVb5LKKbVRsCik8ygDX0E25AqE6iJHYga6NRBfm+D7EhCkfYse8U8rSopabECWzpVM4Ue\n",
       "eJrz7hwK4VEbfsJuK3RHEgq1+RZyrKpHycMlnOgoVbEjtJ96jwy4N+SsWFPP8S1K2Ef2ITdhcZYj\n",
       "sZv2v333AChVMEEeSsvN0WNSNxujzcZ70srXSbnqm3d2deh6/Z7HWI7ESdAyz5DNDg4lTALRZlKZ\n",
       "dsi2kx1eJk4xwSop49UxfnDWRwlGO/1Z9hiNT0Tj0VVqNO/Frm5zlqOUCfyPv4eZsq7Vb/gsRwnG\n",
       "mr9vf74PwF/xkK24xK8sqQAAAABJRU5ErkJggg==\n",
       "\" style=\"display:inline;vertical-align:middle;\" /></a></td></tr>\n",
       "<tr><td>3</td><td>Operation</td><td>operator:&nbsp;9<br>operands:&nbsp;6<br></td><td><a class=\"ProveItLink\" href=\"../__pv_it/demonstrations/12f8c8dddbbff56ccd558acc92f2c412af8a96850/expr.ipynb\"><img src=\"data:image/png;base64,iVBORw0KGgoAAAANSUhEUgAAADYAAAAMBAMAAADbilMlAAAAMFBMVEX///8iIiLMzMyYmJjc3Ny6\n",
       "urpUVFRERER2dnYQEBAyMjKqqqpmZmaIiIju7u4AAACpWGz5AAAAAXRSTlMAQObYZgAAALJJREFU\n",
       "GNNjYEAD3IsYcAFmGQdcUrwSD5B4fHcuMOxi2AkReiELE72bEtvLwME9gaGMIT4AJPJGGKbjBYPh\n",
       "BSkGb54FDJ8Z2EG2sK2Gm9bH0P8ghOEB5wWmLww8IIFnCLkHDOUgKt6BdwIDB1jERxjhjr8g4hQD\n",
       "ewKDKwOqWxiYPoHIMgbGBoYLaH7Yx/uB4R4Dwy2GyAKmAFS/s/5m/8BiwMDAc/ZebjNamPHl3rtj\n",
       "zAAAR+YurF/oIagAAAAASUVORK5CYII=\n",
       "\" style=\"display:inline;vertical-align:middle;\" /></a></td></tr>\n",
       "<tr><td>4</td><td>Operation</td><td>operator:&nbsp;7<br>operands:&nbsp;8<br></td><td><a class=\"ProveItLink\" href=\"../__pv_it/theorems/927153f7babd727e4840ed1233fa7f70b3695cf20/expr.ipynb\"><img src=\"data:image/png;base64,iVBORw0KGgoAAAANSUhEUgAAADMAAAASBAMAAAAEf/uKAAAAMFBMVEX///8QEBBmZmaqqqrMzMxE\n",
       "REQyMjIiIiKYmJh2dna6urrc3NxUVFSIiIju7u4AAAA6P00QAAAAAXRSTlMAQObYZgAAAMdJREFU\n",
       "GNNjYCAaXHfAIcE3/QIOGW71BlwyxwxQBd7e2XUTbAxL2AKYuZcuMGx8wMA3gaOWPQEkEAp3ASeX\n",
       "AMN9IPWA8x/XBrDj7sGkNjMlMIQCNTOwBkBF2udBGQ8YLzD8BTH44Q4204Yy1j9g+QKi/RG+XHYE\n",
       "Qqsx8AowMDA/uM/A+wAm5xoFpmIYWA8A9RrEM+xAeGUP2AgdhvVAz7+5+1YDIwze3NXfgDOY1XCI\n",
       "8yTw/UIJ9fRyEADZxd7AiisGuO6qAEkA7Io1laIOjrsAAAAASUVORK5CYII=\n",
       "\" style=\"display:inline;vertical-align:middle;\" /></a></td></tr>\n",
       "<tr><td>5</td><td>Operation</td><td>operator:&nbsp;9<br>operands:&nbsp;10<br></td><td><a class=\"ProveItLink\" href=\"../__pv_it/theorems/d6ddafca9be24dc793747402a14c730f827a762d0/expr.ipynb\"><img src=\"data:image/png;base64,iVBORw0KGgoAAAANSUhEUgAAADEAAAAQBAMAAABNQoq8AAAAMFBMVEX///8iIiKYmJhUVFTMzMxE\n",
       "REQyMjKqqqq6urp2dnYQEBDc3NxmZmaIiIju7u4AAACH5sGpAAAAAXRSTlMAQObYZgAAAKtJREFU\n",
       "GNNjYEAB7CkM2AGTzAbsErySD5B4fHcuMOyCCLyUhQk2rmBRYODkWMBwH8x9IwRXHXTnKAPDdp4E\n",
       "hlAQlzkdYQ4DdwADwwOuCwx/QdzH6Uh2uILM73/A8gXM2wM3jYHDAEQeY+BdwIDmgmIwGczAaoDm\n",
       "avYDDMxA6jBDvwKaTx01dTNANt89vwEtdA4wLWtggNiEFTAn8P3ALsOowHoBuwzH3SPYJQChZSo3\n",
       "tUhQrwAAAABJRU5ErkJggg==\n",
       "\" style=\"display:inline;vertical-align:middle;\" /></a></td></tr>\n",
       "<tr><td>6</td><td>ExprTuple</td><td>11, 12</td><td><a class=\"ProveItLink\" href=\"../__pv_it/demonstrations/d93b9349bff3749b3ce476cac2f10cbd1a3073db0/expr.ipynb\"><img src=\"data:image/png;base64,iVBORw0KGgoAAAANSUhEUgAAADEAAAAUBAMAAADW08iqAAAAMFBMVEX////MzMxUVFR2dna6uroQ\n",
       "EBCqqqqIiIgiIiJmZmYyMjJERETu7u6YmJjc3NwAAACgK8IjAAAAAXRSTlMAQObYZgAAAQpJREFU\n",
       "KM9jYOC7wIAJ8kDEaSwSDEwPgMQ6bDI8CxgYeCdgk2EwZ2DgeIBV5igDwwusEgxcDgyVQEMrCxiy\n",
       "GFIPQGwo13MHGsU8gWEvkGQLYNjE4O8AljnMcKOgC2j9AoY2BoZnnAsY/jJwQyy0YbA/4MfAwNbA\n",
       "EMLAcIC1gPEfAyfEggMMu0EU4weQDIP/A/YABmaY5d+hMkDTGGYxcCswPIFKMH4EkSwNIBcArecw\n",
       "YCiASOSwf2CoAbvAEsirYnDdwOjAwPMLqPYb9wdQGHMaMHgAZTin16jbAumOAww86jWVd0E+FUAJ\n",
       "HbYDcOYJ1BBlRglRhn0I7nGUWECOOUTsggMEa2zfY2AAAJlLPl+BfIvQAAAAAElFTkSuQmCC\n",
       "\" style=\"display:inline;vertical-align:middle;\" /></a></td></tr>\n",
       "<tr><td>7</td><td>Literal</td><td></td><td><a class=\"ProveItLink\" href=\"../__pv_it/common/b7491c9b87613cffc9e4ec0625a0f1afacbe2cbd0/expr.ipynb\"><img src=\"data:image/png;base64,iVBORw0KGgoAAAANSUhEUgAAAA4AAAARBAMAAAAf5oCsAAAALVBMVEX///+6urpERESqqqoyMjJU\n",
       "VFSYmJhmZmbc3Nx2dnbu7u7MzMwiIiKIiIgAAABG7jNxAAAAAXRSTlMAQObYZgAAAEJJREFUCNdj\n",
       "YEAGvKfB1MqzYKr9GJhqdQZTmxzBFJM2VOnZBRAG20kog9m9AcJgdN0AYXArCUAYHNEMuMCSMyBw\n",
       "GgCwmhA4u838QwAAAABJRU5ErkJggg==\n",
       "\" style=\"display:inline;vertical-align:middle;\" /></a></td></tr>\n",
       "<tr><td>8</td><td>ExprTuple</td><td>12, 13</td><td><a class=\"ProveItLink\" href=\"../../../__pv_it/common/4abfcdcaafe6ad83c2ed27be2700d58c6f9aaa1b0/expr.ipynb\"><img src=\"data:image/png;base64,iVBORw0KGgoAAAANSUhEUgAAACwAAAAUBAMAAAAEg8LyAAAAMFBMVEX////MzMxUVFR2dna6uroQ\n",
       "EBCqqqqIiIgiIiJmZmYyMjJERETu7u6YmJjc3NwAAACgK8IjAAAAAXRSTlMAQObYZgAAAP9JREFU\n",
       "GNNjYOC7wIAG2B4AidMMGEAPiNdhCp9iYOCdgCnMXMDA8QBTmCeA4QUDFrCEoRJIHi96UlwA5h+f\n",
       "zsAXw8BgybAXqMeAt51jAVjYwJWB/QMDwy2GNqANB5j/sICt4EuYxcC9gYEhgyEEqBrMBNvFEM7A\n",
       "DzROHiTMAGaCAcsfBnkBkHAbiAdiggHnAoZSIOUBspLtQD0D+wGwMLcCwyYGkJWWDAz+CfsZ3jLw\n",
       "/AKpVmD5C6QmA9UzHCo/PhcYjB1ADTzqlf+AwguRPM92AGo6A08DUlAxA7EWw3kHcFAx7IMJHwfi\n",
       "XobtkIBFRAMoltwrQU4FqcSMNN4HDAD7TDyPVbLVsgAAAABJRU5ErkJggg==\n",
       "\" style=\"display:inline;vertical-align:middle;\" /></a></td></tr>\n",
       "<tr><td>9</td><td>Literal</td><td></td><td><a class=\"ProveItLink\" href=\"../__pv_it/common/28edf56075f82c850836d8cd79dbcacf62e589820/expr.ipynb\"><img src=\"data:image/png;base64,iVBORw0KGgoAAAANSUhEUgAAAA4AAAAMBAMAAACgrpHpAAAAJ1BMVEX///9UVFTu7u52dnaIiIjc\n",
       "3NxmZmYiIiKYmJjMzMwyMjKqqqoAAAC78Qc2AAAAAXRSTlMAQObYZgAAADRJREFUCNdjYAAB7pVg\n",
       "iqMsAESxFCuAKOUSsKBaBZhiXA2mGBShNENYBZQBVQfXBzcHZC4Ahl8IRZ/iBPwAAAAASUVORK5C\n",
       "YII=\n",
       "\" style=\"display:inline;vertical-align:middle;\" /></a></td></tr>\n",
       "<tr><td>10</td><td>ExprTuple</td><td>13, 14</td><td><a class=\"ProveItLink\" href=\"../__pv_it/demonstrations/c765ddd9b21c435cb2a990b277f3fe6e1cb2b8d60/expr.ipynb\"><img src=\"data:image/png;base64,iVBORw0KGgoAAAANSUhEUgAAACsAAAAUBAMAAADmX9mLAAAAMFBMVEX///9UVFTMzMx2dna6uroQ\n",
       "EBCqqqqIiIgiIiJmZmYyMjJERETu7u6YmJjc3NwAAAC+aOQFAAAAAXRSTlMAQObYZgAAAQNJREFU\n",
       "GNNjYOC7wIAG8kDEaXRRBsYHQGIdhjDPAgYG3gkYwgzmDAwcDzCFjzIwvMAUZeByYKgEmlVZwPD0\n",
       "AFiApdVBl4GBeQLDXiDJEsBQD1F3+vrMDUD7FjC0MTA841zAsBsifIDhNZBka2AIAbJZCxi+Q41l\n",
       "2gMiPoCEGfwPMH2CCjsyQISBhjDMYmAPgIiyCYAtbgBZybCRgVsAIpzJwCAAttISyJnI4H+B4TzQ\n",
       "y0y9tlUODAycBgweQOGD5fMfMHD0APkMV5eAvKMA9fwsIM6B+/IEOKgYF/B8AXIMkIOKYR8DxwXu\n",
       "AmAQFCAHLDAaWMonAWleuGJukLmYkXaPgQEAKzQ6vhEr3UsAAAAASUVORK5CYII=\n",
       "\" style=\"display:inline;vertical-align:middle;\" /></a></td></tr>\n",
       "<tr><td>11</td><td>Variable</td><td></td><td><a class=\"ProveItLink\" href=\"../../../__pv_it/common/ad7999194dd5758664dd4d6463f0bc5aedf7410c0/expr.ipynb\"><img src=\"data:image/png;base64,iVBORw0KGgoAAAANSUhEUgAAAA8AAAAJBAMAAAAfoWtkAAAAMFBMVEX///8iIiLMzMyYmJjc3Ny6\n",
       "urpUVFRERER2dnYQEBAyMjKqqqpmZmaIiIju7u4AAACpWGz5AAAAAXRSTlMAQObYZgAAAFZJREFU\n",
       "CNdj4LtzgWEXw84HDBzcExjKGOIDGLx5FjB8ZmB3YHjAeYHpCwMPAwNDvAPvBAYOIOMUA3sCgyuQ\n",
       "UcbA2MBwAci4xRBZwBQAZPCcvZfbzMAAAGoyE994UJawAAAAAElFTkSuQmCC\n",
       "\" style=\"display:inline;vertical-align:middle;\" /></a></td></tr>\n",
       "<tr><td>12</td><td>Variable</td><td></td><td><a class=\"ProveItLink\" href=\"../../../__pv_it/common/a2581dc5df71d9a30bad37de14965fa5fec97a240/expr.ipynb\"><img src=\"data:image/png;base64,iVBORw0KGgoAAAANSUhEUgAAAAsAAAAJBAMAAAAWSsseAAAALVBMVEX///9mZmaqqqrMzMxEREQy\n",
       "MjIiIiKYmJh2dna6urrc3NxUVFSIiIju7u4AAACJHQtQAAAAAXRSTlMAQObYZgAAAEJJREFUCNdj\n",
       "YLhzeuWJAwy8Dew5bAEMHBc43nIuYOBlYHFgAAG+A2DKzgBIMF04x8BzgWGegh/DcgaG22fuiBcw\n",
       "AAATyhBrnyPYZQAAAABJRU5ErkJggg==\n",
       "\" style=\"display:inline;vertical-align:middle;\" /></a></td></tr>\n",
       "<tr><td>13</td><td>Variable</td><td></td><td><a class=\"ProveItLink\" href=\"../../../__pv_it/common/0f21cbfd5644a1cae6781c1d58354abc2ffbc9000/expr.ipynb\"><img src=\"data:image/png;base64,iVBORw0KGgoAAAANSUhEUgAAAAsAAAANBAMAAACN24kIAAAAMFBMVEX///8iIiKYmJhUVFTMzMxE\n",
       "REQyMjKqqqq6urp2dnYQEBDc3NxmZmaIiIju7u4AAACH5sGpAAAAAXRSTlMAQObYZgAAAFlJREFU\n",
       "CNdj4LtzgWHXAwZOjgUM9xkYtvMkMIQyMDzgusDwl4GBof8ByxcgdYyBdwGQCmZgNQBShxn6FYDU\n",
       "47vnNzAwgGUZGJgT+H4AKUYF1gtAiuPuESAJAJGkFvXVdzA+AAAAAElFTkSuQmCC\n",
       "\" style=\"display:inline;vertical-align:middle;\" /></a></td></tr>\n",
       "<tr><td>14</td><td>Variable</td><td></td><td><a class=\"ProveItLink\" href=\"../../../__pv_it/common/fab62f2bacea351a074e2d41fad4d8b09cef5e740/expr.ipynb\"><img src=\"data:image/png;base64,iVBORw0KGgoAAAANSUhEUgAAAAoAAAAJBAMAAAD5iKAgAAAAMFBMVEX///8yMjJ2dnaqqqpUVFTc\n",
       "3NxmZmaIiIhERETu7u6YmJjMzMwQEBAiIiK6uroAAABWQA0ZAAAAAXRSTlMAQObYZgAAADZJREFU\n",
       "CNdjYOC782AXA8OM5WkNDAwTGCIYgIC7E0Q+ARHMDiDSjIHBgYH7llbhAwY2hjVyDABOxArzLvBK\n",
       "ugAAAABJRU5ErkJggg==\n",
       "\" style=\"display:inline;vertical-align:middle;\" /></a></td></tr>\n",
       "</table>\n"
      ],
      "text/plain": [
       "0. w < x <= y < z\n",
       "   core type: Operation\n",
       "   operator: 1\n",
       "   operands: 2\n",
       "1. and\n",
       "   core type: Literal\n",
       "   sub-expressions: \n",
       "2. (w < x, x <= y, y < z)\n",
       "   core type: ExprTuple\n",
       "   sub-expressions: 3, 4, 5\n",
       "3. w < x\n",
       "   core type: Operation\n",
       "   operator: 9\n",
       "   operands: 6\n",
       "4. x <= y\n",
       "   core type: Operation\n",
       "   operator: 7\n",
       "   operands: 8\n",
       "5. y < z\n",
       "   core type: Operation\n",
       "   operator: 9\n",
       "   operands: 10\n",
       "6. (w, x)\n",
       "   core type: ExprTuple\n",
       "   sub-expressions: 11, 12\n",
       "7. <=\n",
       "   core type: Literal\n",
       "   sub-expressions: \n",
       "8. (x, y)\n",
       "   core type: ExprTuple\n",
       "   sub-expressions: 12, 13\n",
       "9. <\n",
       "   core type: Literal\n",
       "   sub-expressions: \n",
       "10. (y, z)\n",
       "    core type: ExprTuple\n",
       "    sub-expressions: 13, 14\n",
       "11. w\n",
       "    core type: Variable\n",
       "    sub-expressions: \n",
       "12. x\n",
       "    core type: Variable\n",
       "    sub-expressions: \n",
       "13. y\n",
       "    core type: Variable\n",
       "    sub-expressions: \n",
       "14. z\n",
       "    core type: Variable\n",
       "    sub-expressions: "
      ]
     },
     "execution_count": 17,
     "metadata": {},
     "output_type": "execute_result"
    }
   ],
   "source": [
    "ordering.expr_info()"
   ]
  },
  {
   "cell_type": "code",
   "execution_count": 18,
   "metadata": {},
   "outputs": [],
   "source": [
    "%end demonstrations"
   ]
  },
  {
   "cell_type": "code",
   "execution_count": null,
   "metadata": {},
   "outputs": [],
   "source": []
  }
 ],
 "metadata": {
  "kernelspec": {
   "display_name": "Python 3",
   "language": "python",
   "name": "python3"
  }
 },
 "nbformat": 4,
 "nbformat_minor": 0
}