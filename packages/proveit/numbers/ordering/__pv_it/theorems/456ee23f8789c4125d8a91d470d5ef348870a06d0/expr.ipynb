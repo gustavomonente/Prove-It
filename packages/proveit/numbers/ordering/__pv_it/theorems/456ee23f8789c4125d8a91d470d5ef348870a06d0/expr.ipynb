{
 "cells": [
  {
   "cell_type": "markdown",
   "metadata": {},
   "source": [
    "Expression of type <a class=\"ProveItLink\" href=\"../../../../../../../doc/html/api/proveit.Lambda.html\">Lambda</a>\n",
    "=======================\n",
    "# from the theory of <a class=\"ProveItLink\" href=\"../../../_theory_nbs_/theory.ipynb\">proveit.numbers.ordering</a>"
   ]
  },
  {
   "cell_type": "code",
   "execution_count": 1,
   "metadata": {},
   "outputs": [],
   "source": [
    "import proveit\n",
    "# Automation is not needed when building an expression:\n",
    "proveit.defaults.automation = False # This will speed things up.\n",
    "proveit.defaults.inline_pngs = False # Makes files smaller.\n",
    "%load_expr # Load the stored expression as 'stored_expr'\n",
    "# import Expression classes needed to build the expression\n",
    "from proveit import Conditional, Lambda, x, y, z\n",
    "from proveit.logic import And\n",
    "from proveit.numbers import GreaterEq"
   ]
  },
  {
   "cell_type": "code",
   "execution_count": 2,
   "metadata": {},
   "outputs": [
    {
     "data": {
      "text/html": [
       "<strong id=\"expr\">expr:</strong> <a class=\"ProveItLink\" href=\"expr.ipynb\"><img src=\"expr.png\" style=\"display:inline;vertical-align:middle;\" /></a><br>"
      ],
      "text/plain": [
       "expr: (x, y, z) -> {x >= z if x >= y ,  y >= z."
      ]
     },
     "execution_count": 2,
     "metadata": {},
     "output_type": "execute_result"
    }
   ],
   "source": [
    "# build up the expression from sub-expressions\n",
    "expr = Lambda([x, y, z], Conditional(GreaterEq(x, z), And(GreaterEq(x, y), GreaterEq(y, z))))"
   ]
  },
  {
   "cell_type": "code",
   "execution_count": 3,
   "metadata": {},
   "outputs": [
    {
     "name": "stdout",
     "output_type": "stream",
     "text": [
      "Passed sanity check: expr matches stored_expr\n"
     ]
    }
   ],
   "source": [
    "# check that the built expression is the same as the stored expression\n",
    "assert expr == stored_expr\n",
    "assert expr._style_id == stored_expr._style_id\n",
    "print(\"Passed sanity check: expr matches stored_expr\")"
   ]
  },
  {
   "cell_type": "code",
   "execution_count": 4,
   "metadata": {},
   "outputs": [
    {
     "name": "stdout",
     "output_type": "stream",
     "text": [
      "\\left(x, y, z\\right) \\mapsto \\left\\{x \\geq z \\textrm{ if } x \\geq y ,  y \\geq z\\right..\n"
     ]
    }
   ],
   "source": [
    "# Show the LaTeX representation of the expression for convenience if you need it.\n",
    "print(expr.latex())"
   ]
  },
  {
   "cell_type": "code",
   "execution_count": 5,
   "metadata": {},
   "outputs": [
    {
     "data": {
      "text/html": [
       "<table><tr><th>&nbsp;</th><th>core type</th><th>sub-expressions</th><th>expression</th></tr>\n",
       "<tr><td>0</td><td>Lambda</td><td>parameters:&nbsp;1<br>body:&nbsp;2<br></td><td><a class=\"ProveItLink\" href=\"expr.ipynb\"><img src=\"expr.png\" style=\"display:inline;vertical-align:middle;\" /></a></td></tr>\n",
       "<tr><td>1</td><td>ExprTuple</td><td>13, 14, 15</td><td><a class=\"ProveItLink\" href=\"../657b2a86fdc9f8600274fd555734b18f92881ce00/expr.ipynb\"><img src=\"../657b2a86fdc9f8600274fd555734b18f92881ce00/expr.png\" style=\"display:inline;vertical-align:middle;\" /></a></td></tr>\n",
       "<tr><td>2</td><td>Conditional</td><td>value:&nbsp;3<br>condition:&nbsp;4<br></td><td><a class=\"ProveItLink\" href=\"../021baf6105b31f240437580630e69d3b9b89cf5d0/expr.ipynb\"><img src=\"../021baf6105b31f240437580630e69d3b9b89cf5d0/expr.png\" style=\"display:inline;vertical-align:middle;\" /></a></td></tr>\n",
       "<tr><td>3</td><td>Operation</td><td>operator:&nbsp;11<br>operands:&nbsp;5<br></td><td><a class=\"ProveItLink\" href=\"../434e66e23e2cd9a79f7c02a91a89ee577d9db0a80/expr.ipynb\"><img src=\"../434e66e23e2cd9a79f7c02a91a89ee577d9db0a80/expr.png\" style=\"display:inline;vertical-align:middle;\" /></a></td></tr>\n",
       "<tr><td>4</td><td>Operation</td><td>operator:&nbsp;6<br>operands:&nbsp;7<br></td><td><a class=\"ProveItLink\" href=\"../d201005e51217cef701c0e42ae94cdf778616b400/expr.ipynb\"><img src=\"../d201005e51217cef701c0e42ae94cdf778616b400/expr.png\" style=\"display:inline;vertical-align:middle;\" /></a></td></tr>\n",
       "<tr><td>5</td><td>ExprTuple</td><td>13, 15</td><td><a class=\"ProveItLink\" href=\"../f96ff3ba00d09f38d8239212d4fed116a60d7eed0/expr.ipynb\"><img src=\"../f96ff3ba00d09f38d8239212d4fed116a60d7eed0/expr.png\" style=\"display:inline;vertical-align:middle;\" /></a></td></tr>\n",
       "<tr><td>6</td><td>Literal</td><td></td><td><a class=\"ProveItLink\" href=\"../../../../../logic/booleans/conjunction/__pv_it/common/42118ff318bd65d98b1393f64ce7c2269feef76e0/expr.ipynb\"><img src=\"../../../../../logic/booleans/conjunction/__pv_it/common/42118ff318bd65d98b1393f64ce7c2269feef76e0/expr.png\" style=\"display:inline;vertical-align:middle;\" /></a></td></tr>\n",
       "<tr><td>7</td><td>ExprTuple</td><td>8, 9</td><td><a class=\"ProveItLink\" href=\"../6b1b52bb1d119429db763d31a90490447b456e710/expr.ipynb\"><img src=\"../6b1b52bb1d119429db763d31a90490447b456e710/expr.png\" style=\"display:inline;vertical-align:middle;\" /></a></td></tr>\n",
       "<tr><td>8</td><td>Operation</td><td>operator:&nbsp;11<br>operands:&nbsp;10<br></td><td><a class=\"ProveItLink\" href=\"../6204c1df8181066df7bc6763618b337f003edff50/expr.ipynb\"><img src=\"../6204c1df8181066df7bc6763618b337f003edff50/expr.png\" style=\"display:inline;vertical-align:middle;\" /></a></td></tr>\n",
       "<tr><td>9</td><td>Operation</td><td>operator:&nbsp;11<br>operands:&nbsp;12<br></td><td><a class=\"ProveItLink\" href=\"../dfef878ca19a156a1b869bf6d59f4570934a55f70/expr.ipynb\"><img src=\"../dfef878ca19a156a1b869bf6d59f4570934a55f70/expr.png\" style=\"display:inline;vertical-align:middle;\" /></a></td></tr>\n",
       "<tr><td>10</td><td>ExprTuple</td><td>13, 14</td><td><a class=\"ProveItLink\" href=\"../1d0941a32bac19e80ab1cf703883be0351553a410/expr.ipynb\"><img src=\"../1d0941a32bac19e80ab1cf703883be0351553a410/expr.png\" style=\"display:inline;vertical-align:middle;\" /></a></td></tr>\n",
       "<tr><td>11</td><td>Literal</td><td></td><td><a class=\"ProveItLink\" href=\"../../common/56e138890b2b12c3a40604810660982a612f33050/expr.ipynb\"><img src=\"../../common/56e138890b2b12c3a40604810660982a612f33050/expr.png\" style=\"display:inline;vertical-align:middle;\" /></a></td></tr>\n",
       "<tr><td>12</td><td>ExprTuple</td><td>14, 15</td><td><a class=\"ProveItLink\" href=\"../492e20b2e20d89fac61dd9a041660426d6ca1b450/expr.ipynb\"><img src=\"../492e20b2e20d89fac61dd9a041660426d6ca1b450/expr.png\" style=\"display:inline;vertical-align:middle;\" /></a></td></tr>\n",
       "<tr><td>13</td><td>Variable</td><td></td><td><a class=\"ProveItLink\" href=\"../../../../../__pv_it/common/a0d9d672aa5e272d907247690c152cc2c6daafb70/expr.ipynb\"><img src=\"../../../../../__pv_it/common/a0d9d672aa5e272d907247690c152cc2c6daafb70/expr.png\" style=\"display:inline;vertical-align:middle;\" /></a></td></tr>\n",
       "<tr><td>14</td><td>Variable</td><td></td><td><a class=\"ProveItLink\" href=\"../../../../../__pv_it/common/ff7dba4ef0bbe791ab573bf2d9c220a304399ac80/expr.ipynb\"><img src=\"../../../../../__pv_it/common/ff7dba4ef0bbe791ab573bf2d9c220a304399ac80/expr.png\" style=\"display:inline;vertical-align:middle;\" /></a></td></tr>\n",
       "<tr><td>15</td><td>Variable</td><td></td><td><a class=\"ProveItLink\" href=\"../../../../../__pv_it/common/95a8f6b9b9f29b83f192ad7fd05708d6be097a3f0/expr.ipynb\"><img src=\"../../../../../__pv_it/common/95a8f6b9b9f29b83f192ad7fd05708d6be097a3f0/expr.png\" style=\"display:inline;vertical-align:middle;\" /></a></td></tr>\n",
       "</table>\n"
      ],
      "text/plain": [
       "0. (x, y, z) -> {x >= z if x >= y ,  y >= z.\n",
       "   core type: Lambda\n",
       "   parameters: 1\\n   body: 2\n",
       "1. (x, y, z)\n",
       "   core type: ExprTuple\n",
       "   sub-expressions: 13, 14, 15\n",
       "2. {x >= z if x >= y ,  y >= z.\n",
       "   core type: Conditional\n",
       "   value: 3\n",
       "   condition: 4\n",
       "3. x >= z\n",
       "   core type: Operation\n",
       "   operator: 11\n",
       "   operands: 5\n",
       "4. (x >= y) and (y >= z)\n",
       "   core type: Operation\n",
       "   operator: 6\n",
       "   operands: 7\n",
       "5. (x, z)\n",
       "   core type: ExprTuple\n",
       "   sub-expressions: 13, 15\n",
       "6. and\n",
       "   core type: Literal\n",
       "   sub-expressions: \n",
       "7. (x >= y, y >= z)\n",
       "   core type: ExprTuple\n",
       "   sub-expressions: 8, 9\n",
       "8. x >= y\n",
       "   core type: Operation\n",
       "   operator: 11\n",
       "   operands: 10\n",
       "9. y >= z\n",
       "   core type: Operation\n",
       "   operator: 11\n",
       "   operands: 12\n",
       "10. (x, y)\n",
       "    core type: ExprTuple\n",
       "    sub-expressions: 13, 14\n",
       "11. >=\n",
       "    core type: Literal\n",
       "    sub-expressions: \n",
       "12. (y, z)\n",
       "    core type: ExprTuple\n",
       "    sub-expressions: 14, 15\n",
       "13. x\n",
       "    core type: Variable\n",
       "    sub-expressions: \n",
       "14. y\n",
       "    core type: Variable\n",
       "    sub-expressions: \n",
       "15. z\n",
       "    core type: Variable\n",
       "    sub-expressions: "
      ]
     },
     "execution_count": 5,
     "metadata": {},
     "output_type": "execute_result"
    }
   ],
   "source": [
    "# display the expression information\n",
    "expr.expr_info()"
   ]
  },
  {
   "cell_type": "code",
   "execution_count": null,
   "metadata": {},
   "outputs": [],
   "source": []
  }
 ],
 "metadata": {
  "kernelspec": {
   "display_name": "Python 3",
   "language": "python",
   "name": "python3"
  }
 },
 "nbformat": 4,
 "nbformat_minor": 0
}