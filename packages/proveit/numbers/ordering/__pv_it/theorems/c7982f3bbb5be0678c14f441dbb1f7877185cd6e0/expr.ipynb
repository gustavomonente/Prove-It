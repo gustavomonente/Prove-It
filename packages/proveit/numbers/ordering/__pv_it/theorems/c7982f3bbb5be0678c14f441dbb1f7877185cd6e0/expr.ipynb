{
 "cells": [
  {
   "cell_type": "markdown",
   "metadata": {},
   "source": [
    "Expression of type <a class=\"ProveItLink\" href=\"../../../../../../../doc/html/api/proveit.Conditional.html\">Conditional</a>\n",
    "=======================\n",
    "# from the theory of <a class=\"ProveItLink\" href=\"../../../_theory_nbs_/theory.ipynb\">proveit.numbers.ordering</a>"
   ]
  },
  {
   "cell_type": "code",
   "execution_count": 1,
   "metadata": {},
   "outputs": [],
   "source": [
    "import proveit\n",
    "# Automation is not needed when building an expression:\n",
    "proveit.defaults.automation = False # This will speed things up.\n",
    "proveit.defaults.inline_pngs = False # Makes files smaller.\n",
    "%load_expr # Load the stored expression as 'stored_expr'\n",
    "# import Expression classes needed to build the expression\n",
    "from proveit import Conditional, a, b, c\n",
    "from proveit.logic import And, InSet\n",
    "from proveit.numbers import Add, LessEq, Real, zero"
   ]
  },
  {
   "cell_type": "code",
   "execution_count": 2,
   "metadata": {},
   "outputs": [
    {
     "data": {
      "text/html": [
       "<strong id=\"expr\">expr:</strong> <a class=\"ProveItLink\" href=\"expr.ipynb\"><img src=\"expr.png\" style=\"display:inline;vertical-align:middle;\" /></a><br>"
      ],
      "text/plain": [
       "expr: {a <= (b + c) if a in Real ,  b in Real ,  c in Real ,  a <= b ,  0 <= c."
      ]
     },
     "execution_count": 2,
     "metadata": {},
     "output_type": "execute_result"
    }
   ],
   "source": [
    "# build up the expression from sub-expressions\n",
    "expr = Conditional(LessEq(a, Add(b, c)), And(InSet(a, Real), InSet(b, Real), InSet(c, Real), LessEq(a, b), LessEq(zero, c)))"
   ]
  },
  {
   "cell_type": "code",
   "execution_count": 3,
   "metadata": {},
   "outputs": [
    {
     "name": "stdout",
     "output_type": "stream",
     "text": [
      "Passed sanity check: expr matches stored_expr\n"
     ]
    }
   ],
   "source": [
    "# check that the built expression is the same as the stored expression\n",
    "assert expr == stored_expr\n",
    "assert expr._style_id == stored_expr._style_id\n",
    "print(\"Passed sanity check: expr matches stored_expr\")"
   ]
  },
  {
   "cell_type": "code",
   "execution_count": 4,
   "metadata": {},
   "outputs": [
    {
     "name": "stdout",
     "output_type": "stream",
     "text": [
      "\\left\\{a \\leq \\left(b + c\\right) \\textrm{ if } a \\in \\mathbb{R} ,  b \\in \\mathbb{R} ,  c \\in \\mathbb{R} ,  a \\leq b ,  0 \\leq c\\right..\n"
     ]
    }
   ],
   "source": [
    "# Show the LaTeX representation of the expression for convenience if you need it.\n",
    "print(expr.latex())"
   ]
  },
  {
   "cell_type": "code",
   "execution_count": 5,
   "metadata": {},
   "outputs": [
    {
     "data": {
      "text/html": [
       "<table><tr><th>&nbsp;</th><th>core type</th><th>sub-expressions</th><th>expression</th></tr>\n",
       "<tr><td>0</td><td>Conditional</td><td>value:&nbsp;1<br>condition:&nbsp;2<br></td><td><a class=\"ProveItLink\" href=\"expr.ipynb\"><img src=\"expr.png\" style=\"display:inline;vertical-align:middle;\" /></a></td></tr>\n",
       "<tr><td>1</td><td>Operation</td><td>operator:&nbsp;19<br>operands:&nbsp;3<br></td><td><a class=\"ProveItLink\" href=\"../8a524728da5963521be11cd33f14b4561fcd83570/expr.ipynb\"><img src=\"../8a524728da5963521be11cd33f14b4561fcd83570/expr.png\" style=\"display:inline;vertical-align:middle;\" /></a></td></tr>\n",
       "<tr><td>2</td><td>Operation</td><td>operator:&nbsp;4<br>operands:&nbsp;5<br></td><td><a class=\"ProveItLink\" href=\"../1a82ee76f831d90ac4ca09fa1456332cca7b8cbd0/expr.ipynb\"><img src=\"../1a82ee76f831d90ac4ca09fa1456332cca7b8cbd0/expr.png\" style=\"display:inline;vertical-align:middle;\" /></a></td></tr>\n",
       "<tr><td>3</td><td>ExprTuple</td><td>22, 6</td><td><a class=\"ProveItLink\" href=\"../1ebd62b30072296f6258a29b8f5281c339fda3180/expr.ipynb\"><img src=\"../1ebd62b30072296f6258a29b8f5281c339fda3180/expr.png\" style=\"display:inline;vertical-align:middle;\" /></a></td></tr>\n",
       "<tr><td>4</td><td>Literal</td><td></td><td><a class=\"ProveItLink\" href=\"../../../../../logic/booleans/conjunction/__pv_it/common/42118ff318bd65d98b1393f64ce7c2269feef76e0/expr.ipynb\"><img src=\"../../../../../logic/booleans/conjunction/__pv_it/common/42118ff318bd65d98b1393f64ce7c2269feef76e0/expr.png\" style=\"display:inline;vertical-align:middle;\" /></a></td></tr>\n",
       "<tr><td>5</td><td>ExprTuple</td><td>7, 8, 9, 10, 11</td><td><a class=\"ProveItLink\" href=\"../88bbd4abe67c14a4569835b2694ddb3a20c7509f0/expr.ipynb\"><img src=\"../88bbd4abe67c14a4569835b2694ddb3a20c7509f0/expr.png\" style=\"display:inline;vertical-align:middle;\" /></a></td></tr>\n",
       "<tr><td>6</td><td>Operation</td><td>operator:&nbsp;12<br>operands:&nbsp;13<br></td><td><a class=\"ProveItLink\" href=\"../66157a6b156cae4593439ee0b1aef143ab1c82f00/expr.ipynb\"><img src=\"../66157a6b156cae4593439ee0b1aef143ab1c82f00/expr.png\" style=\"display:inline;vertical-align:middle;\" /></a></td></tr>\n",
       "<tr><td>7</td><td>Operation</td><td>operator:&nbsp;16<br>operands:&nbsp;14<br></td><td><a class=\"ProveItLink\" href=\"../bd2f502b953df5e1834a5d80011e6b2e7aa85c890/expr.ipynb\"><img src=\"../bd2f502b953df5e1834a5d80011e6b2e7aa85c890/expr.png\" style=\"display:inline;vertical-align:middle;\" /></a></td></tr>\n",
       "<tr><td>8</td><td>Operation</td><td>operator:&nbsp;16<br>operands:&nbsp;15<br></td><td><a class=\"ProveItLink\" href=\"../01066498eeade39164943c7fc785297aa9d0bb160/expr.ipynb\"><img src=\"../01066498eeade39164943c7fc785297aa9d0bb160/expr.png\" style=\"display:inline;vertical-align:middle;\" /></a></td></tr>\n",
       "<tr><td>9</td><td>Operation</td><td>operator:&nbsp;16<br>operands:&nbsp;17<br></td><td><a class=\"ProveItLink\" href=\"../97c2cd789f92aeb5958c71e9e8648177a398980b0/expr.ipynb\"><img src=\"../97c2cd789f92aeb5958c71e9e8648177a398980b0/expr.png\" style=\"display:inline;vertical-align:middle;\" /></a></td></tr>\n",
       "<tr><td>10</td><td>Operation</td><td>operator:&nbsp;19<br>operands:&nbsp;18<br></td><td><a class=\"ProveItLink\" href=\"../a50e167b9042c060e83ce7b931f4fa2682a639700/expr.ipynb\"><img src=\"../a50e167b9042c060e83ce7b931f4fa2682a639700/expr.png\" style=\"display:inline;vertical-align:middle;\" /></a></td></tr>\n",
       "<tr><td>11</td><td>Operation</td><td>operator:&nbsp;19<br>operands:&nbsp;20<br></td><td><a class=\"ProveItLink\" href=\"../6da97ed2e4fc0a5a1bb662a587ccbf36895e7cda0/expr.ipynb\"><img src=\"../6da97ed2e4fc0a5a1bb662a587ccbf36895e7cda0/expr.png\" style=\"display:inline;vertical-align:middle;\" /></a></td></tr>\n",
       "<tr><td>12</td><td>Literal</td><td></td><td><a class=\"ProveItLink\" href=\"../../../../addition/__pv_it/common/4b7effaab3619a1c2c38fe2dee8601df8ec714590/expr.ipynb\"><img src=\"../../../../addition/__pv_it/common/4b7effaab3619a1c2c38fe2dee8601df8ec714590/expr.png\" style=\"display:inline;vertical-align:middle;\" /></a></td></tr>\n",
       "<tr><td>13</td><td>ExprTuple</td><td>23, 25</td><td><a class=\"ProveItLink\" href=\"../ea14791db14e0ed368912e6780268cd495c4577d0/expr.ipynb\"><img src=\"../ea14791db14e0ed368912e6780268cd495c4577d0/expr.png\" style=\"display:inline;vertical-align:middle;\" /></a></td></tr>\n",
       "<tr><td>14</td><td>ExprTuple</td><td>22, 21</td><td><a class=\"ProveItLink\" href=\"../e05221385b373fb79191a5c3545ded5b3661ad320/expr.ipynb\"><img src=\"../e05221385b373fb79191a5c3545ded5b3661ad320/expr.png\" style=\"display:inline;vertical-align:middle;\" /></a></td></tr>\n",
       "<tr><td>15</td><td>ExprTuple</td><td>23, 21</td><td><a class=\"ProveItLink\" href=\"../c94d1101563abe2f3870a8e37dc10d8c654ef9d30/expr.ipynb\"><img src=\"../c94d1101563abe2f3870a8e37dc10d8c654ef9d30/expr.png\" style=\"display:inline;vertical-align:middle;\" /></a></td></tr>\n",
       "<tr><td>16</td><td>Literal</td><td></td><td><a class=\"ProveItLink\" href=\"../../../../../logic/sets/membership/__pv_it/common/477487d8796864d23d5810f83761435f25167f690/expr.ipynb\"><img src=\"../../../../../logic/sets/membership/__pv_it/common/477487d8796864d23d5810f83761435f25167f690/expr.png\" style=\"display:inline;vertical-align:middle;\" /></a></td></tr>\n",
       "<tr><td>17</td><td>ExprTuple</td><td>25, 21</td><td><a class=\"ProveItLink\" href=\"../321b042feab49825c6804fe26d1833ec999362eb0/expr.ipynb\"><img src=\"../321b042feab49825c6804fe26d1833ec999362eb0/expr.png\" style=\"display:inline;vertical-align:middle;\" /></a></td></tr>\n",
       "<tr><td>18</td><td>ExprTuple</td><td>22, 23</td><td><a class=\"ProveItLink\" href=\"../0e00cf301f391b9db3f5ff72911e8e2539c94fb00/expr.ipynb\"><img src=\"../0e00cf301f391b9db3f5ff72911e8e2539c94fb00/expr.png\" style=\"display:inline;vertical-align:middle;\" /></a></td></tr>\n",
       "<tr><td>19</td><td>Literal</td><td></td><td><a class=\"ProveItLink\" href=\"../../common/68379698d72b4689bbda4b5c5cca29ee599d70280/expr.ipynb\"><img src=\"../../common/68379698d72b4689bbda4b5c5cca29ee599d70280/expr.png\" style=\"display:inline;vertical-align:middle;\" /></a></td></tr>\n",
       "<tr><td>20</td><td>ExprTuple</td><td>24, 25</td><td><a class=\"ProveItLink\" href=\"../ad4f3445dfedcc410d2bfd277bb5d4c4b24f68d50/expr.ipynb\"><img src=\"../ad4f3445dfedcc410d2bfd277bb5d4c4b24f68d50/expr.png\" style=\"display:inline;vertical-align:middle;\" /></a></td></tr>\n",
       "<tr><td>21</td><td>Literal</td><td></td><td><a class=\"ProveItLink\" href=\"../../../../number_sets/real_numbers/__pv_it/common/93cac87a1a47e613f7a83b23ef7891599a1a4cca0/expr.ipynb\"><img src=\"../../../../number_sets/real_numbers/__pv_it/common/93cac87a1a47e613f7a83b23ef7891599a1a4cca0/expr.png\" style=\"display:inline;vertical-align:middle;\" /></a></td></tr>\n",
       "<tr><td>22</td><td>Variable</td><td></td><td><a class=\"ProveItLink\" href=\"../../../../../__pv_it/common/c06c606ec12678c58933ac85412ecadc2ae28be60/expr.ipynb\"><img src=\"../../../../../__pv_it/common/c06c606ec12678c58933ac85412ecadc2ae28be60/expr.png\" style=\"display:inline;vertical-align:middle;\" /></a></td></tr>\n",
       "<tr><td>23</td><td>Variable</td><td></td><td><a class=\"ProveItLink\" href=\"../../../../../__pv_it/common/195236b98c6c564a75b5dbada74b173bc52d5c3e0/expr.ipynb\"><img src=\"../../../../../__pv_it/common/195236b98c6c564a75b5dbada74b173bc52d5c3e0/expr.png\" style=\"display:inline;vertical-align:middle;\" /></a></td></tr>\n",
       "<tr><td>24</td><td>Literal</td><td></td><td><a class=\"ProveItLink\" href=\"../../../../numerals/__pv_it/common/7d0a36793ffe8d307a5c120ee5598162e8cd2db10/expr.ipynb\"><img src=\"../../../../numerals/__pv_it/common/7d0a36793ffe8d307a5c120ee5598162e8cd2db10/expr.png\" style=\"display:inline;vertical-align:middle;\" /></a></td></tr>\n",
       "<tr><td>25</td><td>Variable</td><td></td><td><a class=\"ProveItLink\" href=\"../../../../../__pv_it/common/ceef4280a2f1cc604b455b54e735507244cc62cd0/expr.ipynb\"><img src=\"../../../../../__pv_it/common/ceef4280a2f1cc604b455b54e735507244cc62cd0/expr.png\" style=\"display:inline;vertical-align:middle;\" /></a></td></tr>\n",
       "</table>\n"
      ],
      "text/plain": [
       "0. {a <= (b + c) if a in Real ,  b in Real ,  c in Real ,  a <= b ,  0 <= c.\n",
       "   core type: Conditional\n",
       "   value: 1\n",
       "   condition: 2\n",
       "1. a <= (b + c)\n",
       "   core type: Operation\n",
       "   operator: 19\n",
       "   operands: 3\n",
       "2. (a in Real) and (b in Real) and (c in Real) and (a <= b) and (0 <= c)\n",
       "   core type: Operation\n",
       "   operator: 4\n",
       "   operands: 5\n",
       "3. (a, b + c)\n",
       "   core type: ExprTuple\n",
       "   sub-expressions: 22, 6\n",
       "4. and\n",
       "   core type: Literal\n",
       "   sub-expressions: \n",
       "5. (a in Real, b in Real, c in Real, a <= b, 0 <= c)\n",
       "   core type: ExprTuple\n",
       "   sub-expressions: 7, 8, 9, 10, 11\n",
       "6. b + c\n",
       "   core type: Operation\n",
       "   operator: 12\n",
       "   operands: 13\n",
       "7. a in Real\n",
       "   core type: Operation\n",
       "   operator: 16\n",
       "   operands: 14\n",
       "8. b in Real\n",
       "   core type: Operation\n",
       "   operator: 16\n",
       "   operands: 15\n",
       "9. c in Real\n",
       "   core type: Operation\n",
       "   operator: 16\n",
       "   operands: 17\n",
       "10. a <= b\n",
       "    core type: Operation\n",
       "    operator: 19\n",
       "    operands: 18\n",
       "11. 0 <= c\n",
       "    core type: Operation\n",
       "    operator: 19\n",
       "    operands: 20\n",
       "12. +\n",
       "    core type: Literal\n",
       "    sub-expressions: \n",
       "13. (b, c)\n",
       "    core type: ExprTuple\n",
       "    sub-expressions: 23, 25\n",
       "14. (a, Real)\n",
       "    core type: ExprTuple\n",
       "    sub-expressions: 22, 21\n",
       "15. (b, Real)\n",
       "    core type: ExprTuple\n",
       "    sub-expressions: 23, 21\n",
       "16. in\n",
       "    core type: Literal\n",
       "    sub-expressions: \n",
       "17. (c, Real)\n",
       "    core type: ExprTuple\n",
       "    sub-expressions: 25, 21\n",
       "18. (a, b)\n",
       "    core type: ExprTuple\n",
       "    sub-expressions: 22, 23\n",
       "19. <=\n",
       "    core type: Literal\n",
       "    sub-expressions: \n",
       "20. (0, c)\n",
       "    core type: ExprTuple\n",
       "    sub-expressions: 24, 25\n",
       "21. Real\n",
       "    core type: Literal\n",
       "    sub-expressions: \n",
       "22. a\n",
       "    core type: Variable\n",
       "    sub-expressions: \n",
       "23. b\n",
       "    core type: Variable\n",
       "    sub-expressions: \n",
       "24. 0\n",
       "    core type: Literal\n",
       "    sub-expressions: \n",
       "25. c\n",
       "    core type: Variable\n",
       "    sub-expressions: "
      ]
     },
     "execution_count": 5,
     "metadata": {},
     "output_type": "execute_result"
    }
   ],
   "source": [
    "# display the expression information\n",
    "expr.expr_info()"
   ]
  },
  {
   "cell_type": "code",
   "execution_count": null,
   "metadata": {},
   "outputs": [],
   "source": []
  }
 ],
 "metadata": {
  "kernelspec": {
   "display_name": "Python 3",
   "language": "python",
   "name": "python3"
  }
 },
 "nbformat": 4,
 "nbformat_minor": 0
}