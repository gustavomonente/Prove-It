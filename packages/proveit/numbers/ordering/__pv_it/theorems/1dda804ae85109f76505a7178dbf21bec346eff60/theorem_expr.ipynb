{
 "cells": [
  {
   "cell_type": "markdown",
   "metadata": {},
   "source": [
    "Theorem <a class=\"ProveItLink\" href=\"../../../_theorems_.ipynb#less_than_equals_is_bool\">less_than_equals_is_bool</a> of type <a class=\"ProveItLink\" href=\"../../../../../../../doc/html/api/proveit.logic.Forall.html\">Forall</a>\n",
    "=======================\n",
    "# from the theory of <a class=\"ProveItLink\" href=\"../../../_theory_nbs_/theory.ipynb\">proveit.numbers.ordering</a>\n",
    "*** see <a class=\"ProveItLink\" href=\"dependencies.ipynb\">dependencies</a> ***"
   ]
  },
  {
   "cell_type": "code",
   "execution_count": 1,
   "metadata": {},
   "outputs": [],
   "source": [
    "import proveit\n",
    "# Automation is not needed when only building an expression:\n",
    "proveit.defaults.automation = False # This will speed things up.\n",
    "proveit.defaults.inline_pngs = False # Makes files smaller.\n",
    "%load_theorem_expr # Load the stored theorem expression as 'stored_expr'\n",
    "# import the special expression\n",
    "from proveit.numbers.ordering import less_than_equals_is_bool"
   ]
  },
  {
   "cell_type": "code",
   "execution_count": 2,
   "metadata": {},
   "outputs": [
    {
     "name": "stdout",
     "output_type": "stream",
     "text": [
      "Passed sanity check: less_than_equals_is_bool matches stored_expr\n"
     ]
    }
   ],
   "source": [
    "# check that the built expression is the same as the stored expression\n",
    "assert less_than_equals_is_bool.expr == stored_expr\n",
    "assert less_than_equals_is_bool.expr._style_id == stored_expr._style_id\n",
    "print(\"Passed sanity check: less_than_equals_is_bool matches stored_expr\")"
   ]
  },
  {
   "cell_type": "code",
   "execution_count": 3,
   "metadata": {},
   "outputs": [
    {
     "name": "stdout",
     "output_type": "stream",
     "text": [
      "\\vdash \\forall_{x, y \\in \\mathbb{R}}~\\left(\\left(x \\leq y\\right) \\in \\mathbb{B}\\right)\n"
     ]
    }
   ],
   "source": [
    "# Show the LaTeX representation of the expression for convenience if you need it.\n",
    "print(less_than_equals_is_bool.latex())"
   ]
  },
  {
   "cell_type": "code",
   "execution_count": 4,
   "metadata": {},
   "outputs": [
    {
     "data": {
      "text/html": [
       "<table>\n",
       "<tr><th>name</th><th>description</th><th>default</th><th>current value</th><th>related methods</th></tr><tr><td>with_wrapping</td><td>If 'True', wrap the Expression after the parameters</td><td>None</td><td>None/False</td><td>('with_wrapping',)</td></tr>\n",
       "<tr><td>wrap_params</td><td>If 'True', wraps every two parameters AND wraps the Expression after the parameters</td><td>None</td><td>None/False</td><td>('with_params',)</td></tr>\n",
       "<tr><td>justification</td><td>justify to the 'left', 'center', or 'right' in the array cells</td><td>center</td><td>center</td><td>('with_justification',)</td></tr>\n",
       "</table>\n"
      ],
      "text/plain": [
       "style name: with_wrapping\n",
       "description: If 'True', wrap the Expression after the parameters\n",
       "default: None\n",
       "current value: None/False\n",
       "related methods: ('with_wrapping',)\n",
       "style name: wrap_params\n",
       "description: If 'True', wraps every two parameters AND wraps the Expression after the parameters\n",
       "default: None\n",
       "current value: None/False\n",
       "related methods: ('with_params',)\n",
       "style name: justification\n",
       "description: justify to the 'left', 'center', or 'right' in the array cells\n",
       "default: center\n",
       "current value: center\n",
       "related methods: ('with_justification',)"
      ]
     },
     "execution_count": 4,
     "metadata": {},
     "output_type": "execute_result"
    }
   ],
   "source": [
    "less_than_equals_is_bool.style_options()"
   ]
  },
  {
   "cell_type": "code",
   "execution_count": 5,
   "metadata": {},
   "outputs": [
    {
     "data": {
      "text/html": [
       "<table><tr><th>&nbsp;</th><th>core type</th><th>sub-expressions</th><th>expression</th></tr>\n",
       "<tr><td>0</td><td>Operation</td><td>operator:&nbsp;1<br>operand:&nbsp;3<br></td><td><a class=\"ProveItLink\" href=\"../380deb83e3000459c7ebb7e4086dd967f16ab9d30/expr.ipynb\"><img src=\"../380deb83e3000459c7ebb7e4086dd967f16ab9d30/expr.png\" style=\"display:inline;vertical-align:middle;\" /></a></td></tr>\n",
       "<tr><td>1</td><td>Literal</td><td></td><td><a class=\"ProveItLink\" href=\"../../../../../logic/booleans/quantification/universality/__pv_it/common/684d35ba98fcbf8ca5011f865e530a51e77730630/expr.ipynb\"><img src=\"../../../../../logic/booleans/quantification/universality/__pv_it/common/684d35ba98fcbf8ca5011f865e530a51e77730630/expr.png\" style=\"display:inline;vertical-align:middle;\" /></a></td></tr>\n",
       "<tr><td>2</td><td>ExprTuple</td><td>3</td><td><a class=\"ProveItLink\" href=\"../69a9d86e3b661b915a32b1323ffdc3352328cc210/expr.ipynb\"><img src=\"../69a9d86e3b661b915a32b1323ffdc3352328cc210/expr.png\" style=\"display:inline;vertical-align:middle;\" /></a></td></tr>\n",
       "<tr><td>3</td><td>Lambda</td><td>parameters:&nbsp;15<br>body:&nbsp;4<br></td><td><a class=\"ProveItLink\" href=\"../640bb1bc33cd9331b85a4bb8ded6b8c9a43a9cbf0/expr.ipynb\"><img src=\"../640bb1bc33cd9331b85a4bb8ded6b8c9a43a9cbf0/expr.png\" style=\"display:inline;vertical-align:middle;\" /></a></td></tr>\n",
       "<tr><td>4</td><td>Conditional</td><td>value:&nbsp;5<br>condition:&nbsp;6<br></td><td><a class=\"ProveItLink\" href=\"../1e31453639f56a2c3b1db4b1629797368611d6380/expr.ipynb\"><img src=\"../1e31453639f56a2c3b1db4b1629797368611d6380/expr.png\" style=\"display:inline;vertical-align:middle;\" /></a></td></tr>\n",
       "<tr><td>5</td><td>Operation</td><td>operator:&nbsp;17<br>operands:&nbsp;7<br></td><td><a class=\"ProveItLink\" href=\"../d473061532463e6565aa1f42a85a7ab4a0717e0c0/expr.ipynb\"><img src=\"../d473061532463e6565aa1f42a85a7ab4a0717e0c0/expr.png\" style=\"display:inline;vertical-align:middle;\" /></a></td></tr>\n",
       "<tr><td>6</td><td>Operation</td><td>operator:&nbsp;8<br>operands:&nbsp;9<br></td><td><a class=\"ProveItLink\" href=\"../653a7577d18c78699c946de7bd32c1b7d365db310/expr.ipynb\"><img src=\"../653a7577d18c78699c946de7bd32c1b7d365db310/expr.png\" style=\"display:inline;vertical-align:middle;\" /></a></td></tr>\n",
       "<tr><td>7</td><td>ExprTuple</td><td>10, 11</td><td><a class=\"ProveItLink\" href=\"../1f1c30ac7a10764bd860d3cff3e35d4c9594fd210/expr.ipynb\"><img src=\"../1f1c30ac7a10764bd860d3cff3e35d4c9594fd210/expr.png\" style=\"display:inline;vertical-align:middle;\" /></a></td></tr>\n",
       "<tr><td>8</td><td>Literal</td><td></td><td><a class=\"ProveItLink\" href=\"../../../../../logic/booleans/conjunction/__pv_it/common/26b94b53e70b1d77b70f0d9d4236347db37731060/expr.ipynb\"><img src=\"../../../../../logic/booleans/conjunction/__pv_it/common/26b94b53e70b1d77b70f0d9d4236347db37731060/expr.png\" style=\"display:inline;vertical-align:middle;\" /></a></td></tr>\n",
       "<tr><td>9</td><td>ExprTuple</td><td>12, 13</td><td><a class=\"ProveItLink\" href=\"../bd273eb5ccfb2e6faa5496cfd04b9034d47da31c0/expr.ipynb\"><img src=\"../bd273eb5ccfb2e6faa5496cfd04b9034d47da31c0/expr.png\" style=\"display:inline;vertical-align:middle;\" /></a></td></tr>\n",
       "<tr><td>10</td><td>Operation</td><td>operator:&nbsp;14<br>operands:&nbsp;15<br></td><td><a class=\"ProveItLink\" href=\"../927153f7babd727e4840ed1233fa7f70b3695cf20/expr.ipynb\"><img src=\"../927153f7babd727e4840ed1233fa7f70b3695cf20/expr.png\" style=\"display:inline;vertical-align:middle;\" /></a></td></tr>\n",
       "<tr><td>11</td><td>Literal</td><td></td><td><a class=\"ProveItLink\" href=\"../../../../../logic/booleans/__pv_it/common/8fc291135425020cce4ba1ad615843f54f1fc6600/expr.ipynb\"><img src=\"../../../../../logic/booleans/__pv_it/common/8fc291135425020cce4ba1ad615843f54f1fc6600/expr.png\" style=\"display:inline;vertical-align:middle;\" /></a></td></tr>\n",
       "<tr><td>12</td><td>Operation</td><td>operator:&nbsp;17<br>operands:&nbsp;16<br></td><td><a class=\"ProveItLink\" href=\"../f399694c94d63fe522f8e05f5163f6a5a160a5b80/expr.ipynb\"><img src=\"../f399694c94d63fe522f8e05f5163f6a5a160a5b80/expr.png\" style=\"display:inline;vertical-align:middle;\" /></a></td></tr>\n",
       "<tr><td>13</td><td>Operation</td><td>operator:&nbsp;17<br>operands:&nbsp;18<br></td><td><a class=\"ProveItLink\" href=\"../acfb0eefb0b1b677bba1a9b1bb8fa2b4b46ea3330/expr.ipynb\"><img src=\"../acfb0eefb0b1b677bba1a9b1bb8fa2b4b46ea3330/expr.png\" style=\"display:inline;vertical-align:middle;\" /></a></td></tr>\n",
       "<tr><td>14</td><td>Literal</td><td></td><td><a class=\"ProveItLink\" href=\"../../common/b7491c9b87613cffc9e4ec0625a0f1afacbe2cbd0/expr.ipynb\"><img src=\"../../common/b7491c9b87613cffc9e4ec0625a0f1afacbe2cbd0/expr.png\" style=\"display:inline;vertical-align:middle;\" /></a></td></tr>\n",
       "<tr><td>15</td><td>ExprTuple</td><td>19, 20</td><td><a class=\"ProveItLink\" href=\"../ef4dae65d3387950a2be9c6d13839307bdb1f9ee0/expr.ipynb\"><img src=\"../ef4dae65d3387950a2be9c6d13839307bdb1f9ee0/expr.png\" style=\"display:inline;vertical-align:middle;\" /></a></td></tr>\n",
       "<tr><td>16</td><td>ExprTuple</td><td>19, 21</td><td><a class=\"ProveItLink\" href=\"../55bef9982c7867f2ba0ff0e7b2f4477175e2b1970/expr.ipynb\"><img src=\"../55bef9982c7867f2ba0ff0e7b2f4477175e2b1970/expr.png\" style=\"display:inline;vertical-align:middle;\" /></a></td></tr>\n",
       "<tr><td>17</td><td>Literal</td><td></td><td><a class=\"ProveItLink\" href=\"../../../../../logic/sets/membership/__pv_it/common/7171deca84f71f47a6ec7696972d1632274a12880/expr.ipynb\"><img src=\"../../../../../logic/sets/membership/__pv_it/common/7171deca84f71f47a6ec7696972d1632274a12880/expr.png\" style=\"display:inline;vertical-align:middle;\" /></a></td></tr>\n",
       "<tr><td>18</td><td>ExprTuple</td><td>20, 21</td><td><a class=\"ProveItLink\" href=\"../6ce71d26e191a2627cb4b5feda00ad715df2a9830/expr.ipynb\"><img src=\"../6ce71d26e191a2627cb4b5feda00ad715df2a9830/expr.png\" style=\"display:inline;vertical-align:middle;\" /></a></td></tr>\n",
       "<tr><td>19</td><td>Variable</td><td></td><td><a class=\"ProveItLink\" href=\"../../../../../__pv_it/common/a2581dc5df71d9a30bad37de14965fa5fec97a240/expr.ipynb\"><img src=\"../../../../../__pv_it/common/a2581dc5df71d9a30bad37de14965fa5fec97a240/expr.png\" style=\"display:inline;vertical-align:middle;\" /></a></td></tr>\n",
       "<tr><td>20</td><td>Variable</td><td></td><td><a class=\"ProveItLink\" href=\"../../../../../__pv_it/common/0f21cbfd5644a1cae6781c1d58354abc2ffbc9000/expr.ipynb\"><img src=\"../../../../../__pv_it/common/0f21cbfd5644a1cae6781c1d58354abc2ffbc9000/expr.png\" style=\"display:inline;vertical-align:middle;\" /></a></td></tr>\n",
       "<tr><td>21</td><td>Literal</td><td></td><td><a class=\"ProveItLink\" href=\"../../../../number_sets/real_numbers/__pv_it/common/3eaf53c11933bb30b35e82c24807c695de530cf10/expr.ipynb\"><img src=\"../../../../number_sets/real_numbers/__pv_it/common/3eaf53c11933bb30b35e82c24807c695de530cf10/expr.png\" style=\"display:inline;vertical-align:middle;\" /></a></td></tr>\n",
       "</table>\n"
      ],
      "text/plain": [
       "0. forall_{x, y in Real} ((x <= y) in BOOLEAN)\n",
       "   core type: Operation\n",
       "   operator: 1\n",
       "   operand: 3\n",
       "1. forall\n",
       "   core type: Literal\n",
       "   sub-expressions: \n",
       "2. ((x, y) -> {(x <= y) in BOOLEAN if x in Real ,  y in Real.)\n",
       "   core type: ExprTuple\n",
       "   sub-expressions: 3\n",
       "3. (x, y) -> {(x <= y) in BOOLEAN if x in Real ,  y in Real.\n",
       "   core type: Lambda\n",
       "   parameters: 15\\n   body: 4\n",
       "4. {(x <= y) in BOOLEAN if x in Real ,  y in Real.\n",
       "   core type: Conditional\n",
       "   value: 5\n",
       "   condition: 6\n",
       "5. (x <= y) in BOOLEAN\n",
       "   core type: Operation\n",
       "   operator: 17\n",
       "   operands: 7\n",
       "6. (x in Real) and (y in Real)\n",
       "   core type: Operation\n",
       "   operator: 8\n",
       "   operands: 9\n",
       "7. (x <= y, BOOLEAN)\n",
       "   core type: ExprTuple\n",
       "   sub-expressions: 10, 11\n",
       "8. and\n",
       "   core type: Literal\n",
       "   sub-expressions: \n",
       "9. (x in Real, y in Real)\n",
       "   core type: ExprTuple\n",
       "   sub-expressions: 12, 13\n",
       "10. x <= y\n",
       "    core type: Operation\n",
       "    operator: 14\n",
       "    operands: 15\n",
       "11. BOOLEAN\n",
       "    core type: Literal\n",
       "    sub-expressions: \n",
       "12. x in Real\n",
       "    core type: Operation\n",
       "    operator: 17\n",
       "    operands: 16\n",
       "13. y in Real\n",
       "    core type: Operation\n",
       "    operator: 17\n",
       "    operands: 18\n",
       "14. <=\n",
       "    core type: Literal\n",
       "    sub-expressions: \n",
       "15. (x, y)\n",
       "    core type: ExprTuple\n",
       "    sub-expressions: 19, 20\n",
       "16. (x, Real)\n",
       "    core type: ExprTuple\n",
       "    sub-expressions: 19, 21\n",
       "17. in\n",
       "    core type: Literal\n",
       "    sub-expressions: \n",
       "18. (y, Real)\n",
       "    core type: ExprTuple\n",
       "    sub-expressions: 20, 21\n",
       "19. x\n",
       "    core type: Variable\n",
       "    sub-expressions: \n",
       "20. y\n",
       "    core type: Variable\n",
       "    sub-expressions: \n",
       "21. Real\n",
       "    core type: Literal\n",
       "    sub-expressions: "
      ]
     },
     "execution_count": 5,
     "metadata": {},
     "output_type": "execute_result"
    }
   ],
   "source": [
    "# display the expression information\n",
    "less_than_equals_is_bool.expr_info()"
   ]
  },
  {
   "cell_type": "code",
   "execution_count": null,
   "metadata": {},
   "outputs": [],
   "source": []
  }
 ],
 "metadata": {
  "kernelspec": {
   "display_name": "Python 3",
   "language": "python",
   "name": "python3"
  }
 },
 "nbformat": 4,
 "nbformat_minor": 0
}