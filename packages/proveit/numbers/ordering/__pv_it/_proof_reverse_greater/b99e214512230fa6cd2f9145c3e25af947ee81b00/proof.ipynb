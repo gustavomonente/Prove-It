{
 "cells": [
  {
   "cell_type": "markdown",
   "metadata": {},
   "source": [
    "Show the Proof\n",
    "========"
   ]
  },
  {
   "cell_type": "code",
   "execution_count": 1,
   "metadata": {},
   "outputs": [
    {
     "data": {
      "text/html": [
       "<table><tr><th>&nbsp;</th><th>step type</th><th>requirements</th><th>statement</th></tr>\n",
       "<tr><td><a name=\"proveit.numbers.ordering._proof_reverse_greater.b99e214512230fa6cd2f9145c3e25af947ee81b00_step0\">0</a></td><td>generalizaton</td><td><a href=\"#proveit.numbers.ordering._proof_reverse_greater.b99e214512230fa6cd2f9145c3e25af947ee81b00_step1\">1</a></td><td><span style=\"font-size:20px;\"> <a class=\"ProveItLink\" href=\"proof.ipynb\" style=\"text-decoration: none\">&nbsp;&#x22A2;&nbsp;&nbsp;</a><a class=\"ProveItLink\" href=\"../../theorems/966152db4b0c912d35f49ab07ef73ce6683276f10/expr.ipynb\"><img src=\"../../theorems/966152db4b0c912d35f49ab07ef73ce6683276f10/expr.png\" style=\"display:inline;vertical-align:middle;\" /></a></span></td></tr>\n",
       "<tr><td><a name=\"proveit.numbers.ordering._proof_reverse_greater.b99e214512230fa6cd2f9145c3e25af947ee81b00_step1\">1</a></td><td>instantiation</td><td><a href=\"#proveit.numbers.ordering._proof_reverse_greater.b99e214512230fa6cd2f9145c3e25af947ee81b00_step2\">2</a>, <a href=\"#proveit.numbers.ordering._proof_reverse_greater.b99e214512230fa6cd2f9145c3e25af947ee81b00_step3\">3</a>, <a href=\"#proveit.numbers.ordering._proof_reverse_greater.b99e214512230fa6cd2f9145c3e25af947ee81b00_step4\">4</a></td><td><span style=\"font-size:20px;\"><a class=\"ProveItLink\" href=\"../../theorems/2f09be6e2ec6f3ed7c3d70f52a21a63cab12150b0/expr.ipynb\"><img src=\"../../theorems/2f09be6e2ec6f3ed7c3d70f52a21a63cab12150b0/expr.png\" style=\"display:inline;vertical-align:middle;\" /></a> <a class=\"ProveItLink\" href=\"../3b00873bd2b83ad5ef5de3363b3e0ed0ecf8fe450/proof.ipynb\" style=\"text-decoration: none\">&nbsp;&#x22A2;&nbsp;&nbsp;</a><a class=\"ProveItLink\" href=\"../../theorems/95a014f553c171661f83a33e9bb3500ba72bae240/expr.ipynb\"><img src=\"../../theorems/95a014f553c171661f83a33e9bb3500ba72bae240/expr.png\" style=\"display:inline;vertical-align:middle;\" /></a></span></td></tr>\n",
       "<tr><td>&nbsp;</td><td colspan=4 style=\"text-align:left\"><span style=\"font-size:20px;\"><a class=\"ProveItLink\" href=\"../../../../../__pv_it/common/de55da274ba0f49c86925fbf3828021c04d27faf0/expr.ipynb\"><img src=\"../../../../../__pv_it/common/de55da274ba0f49c86925fbf3828021c04d27faf0/expr.png\" style=\"display:inline;vertical-align:middle;\" /></a> : <a class=\"ProveItLink\" href=\"../../theorems/2f09be6e2ec6f3ed7c3d70f52a21a63cab12150b0/expr.ipynb\"><img src=\"../../theorems/2f09be6e2ec6f3ed7c3d70f52a21a63cab12150b0/expr.png\" style=\"display:inline;vertical-align:middle;\" /></a>, <a class=\"ProveItLink\" href=\"../../../../../__pv_it/common/d72bb8b07403efe79afab564c36a28e21330e5f90/expr.ipynb\"><img src=\"../../../../../__pv_it/common/d72bb8b07403efe79afab564c36a28e21330e5f90/expr.png\" style=\"display:inline;vertical-align:middle;\" /></a> : <a class=\"ProveItLink\" href=\"../../theorems/95a014f553c171661f83a33e9bb3500ba72bae240/expr.ipynb\"><img src=\"../../theorems/95a014f553c171661f83a33e9bb3500ba72bae240/expr.png\" style=\"display:inline;vertical-align:middle;\" /></a></span></td></tr><tr><td><a name=\"proveit.numbers.ordering._proof_reverse_greater.b99e214512230fa6cd2f9145c3e25af947ee81b00_step2\">2</a></td><td>theorem</td><td></td><td><span style=\"font-size:20px;\"> <a class=\"ProveItLink\" href=\"../../../../../logic/equality/_theory_nbs_/proofs/rhs_via_equality/thm_proof.ipynb\" style=\"text-decoration: none\">&nbsp;&#x22A2;&nbsp;&nbsp;</a><a class=\"ProveItLink\" href=\"../../../../../logic/equality/__pv_it/theorems/4546a35b627d4cb8c4df070fccd511b94f50b8070/expr.ipynb\"><img src=\"../../../../../logic/equality/__pv_it/theorems/4546a35b627d4cb8c4df070fccd511b94f50b8070/expr.png\" style=\"display:inline;vertical-align:middle;\" /></a></span></td></tr>\n",
       "<tr><td>&nbsp;</td><td colspan=4 style-\"text-align:left\"><a class=\"ProveItLink\" href=\"../../../../../logic/equality/_theory_nbs_/proofs/rhs_via_equality/thm_proof.ipynb\">proveit.logic.equality.rhs_via_equality</a></td></tr><tr><td><a name=\"proveit.numbers.ordering._proof_reverse_greater.b99e214512230fa6cd2f9145c3e25af947ee81b00_step3\">3</a></td><td>assumption</td><td></td><td><span style=\"font-size:20px;\"><a class=\"ProveItLink\" href=\"../../theorems/2f09be6e2ec6f3ed7c3d70f52a21a63cab12150b0/expr.ipynb\"><img src=\"../../theorems/2f09be6e2ec6f3ed7c3d70f52a21a63cab12150b0/expr.png\" style=\"display:inline;vertical-align:middle;\" /></a> <a class=\"ProveItLink\" href=\"../dd78a35fffc77ab3317d0a8db8704c40c4ce5a670/proof.ipynb\" style=\"text-decoration: none\">&nbsp;&#x22A2;&nbsp;&nbsp;</a><a class=\"ProveItLink\" href=\"../../theorems/2f09be6e2ec6f3ed7c3d70f52a21a63cab12150b0/expr.ipynb\"><img src=\"../../theorems/2f09be6e2ec6f3ed7c3d70f52a21a63cab12150b0/expr.png\" style=\"display:inline;vertical-align:middle;\" /></a></span></td></tr>\n",
       "<tr><td><a name=\"proveit.numbers.ordering._proof_reverse_greater.b99e214512230fa6cd2f9145c3e25af947ee81b00_step4\">4</a></td><td>instantiation</td><td><a href=\"#proveit.numbers.ordering._proof_reverse_greater.b99e214512230fa6cd2f9145c3e25af947ee81b00_step5\">5</a></td><td><span style=\"font-size:20px;\"> <a class=\"ProveItLink\" href=\"../b9792523f12cee3220bef3fb32809c299c32b4250/proof.ipynb\" style=\"text-decoration: none\">&nbsp;&#x22A2;&nbsp;&nbsp;</a><a class=\"ProveItLink\" href=\"../20650508b9c4aaf9aaf4e527fa5e93d05d2fb1960/expr.ipynb\"><img src=\"../20650508b9c4aaf9aaf4e527fa5e93d05d2fb1960/expr.png\" style=\"display:inline;vertical-align:middle;\" /></a></span></td></tr>\n",
       "<tr><td>&nbsp;</td><td colspan=4 style=\"text-align:left\"><span style=\"font-size:20px;\"><a class=\"ProveItLink\" href=\"../../../../../__pv_it/common/a0d9d672aa5e272d907247690c152cc2c6daafb70/expr.ipynb\"><img src=\"../../../../../__pv_it/common/a0d9d672aa5e272d907247690c152cc2c6daafb70/expr.png\" style=\"display:inline;vertical-align:middle;\" /></a> : <a class=\"ProveItLink\" href=\"../../../../../__pv_it/common/ff7dba4ef0bbe791ab573bf2d9c220a304399ac80/expr.ipynb\"><img src=\"../../../../../__pv_it/common/ff7dba4ef0bbe791ab573bf2d9c220a304399ac80/expr.png\" style=\"display:inline;vertical-align:middle;\" /></a>, <a class=\"ProveItLink\" href=\"../../../../../__pv_it/common/ff7dba4ef0bbe791ab573bf2d9c220a304399ac80/expr.ipynb\"><img src=\"../../../../../__pv_it/common/ff7dba4ef0bbe791ab573bf2d9c220a304399ac80/expr.png\" style=\"display:inline;vertical-align:middle;\" /></a> : <a class=\"ProveItLink\" href=\"../../../../../__pv_it/common/a0d9d672aa5e272d907247690c152cc2c6daafb70/expr.ipynb\"><img src=\"../../../../../__pv_it/common/a0d9d672aa5e272d907247690c152cc2c6daafb70/expr.png\" style=\"display:inline;vertical-align:middle;\" /></a></span></td></tr><tr><td><a name=\"proveit.numbers.ordering._proof_reverse_greater.b99e214512230fa6cd2f9145c3e25af947ee81b00_step5\">5</a></td><td>axiom</td><td></td><td><span style=\"font-size:20px;\"> <a class=\"ProveItLink\" href=\"../../../_theory_nbs_/axioms.ipynb#reverse_relation\" style=\"text-decoration: none\">&nbsp;&#x22A2;&nbsp;&nbsp;</a><a class=\"ProveItLink\" href=\"../../axioms/b8d02519d626b0b9f16d17b2eb04797463296cdc0/expr.ipynb\"><img src=\"../../axioms/b8d02519d626b0b9f16d17b2eb04797463296cdc0/expr.png\" style=\"display:inline;vertical-align:middle;\" /></a></span></td></tr>\n",
       "<tr><td>&nbsp;</td><td colspan=4 style-\"text-align:left\"><a class=\"ProveItLink\" href=\"../../../_theory_nbs_/axioms.ipynb#reverse_relation\">proveit.numbers.ordering.reverse_relation</a></td></tr></table>"
      ],
      "text/plain": [
       "<proveit._core_.proof._ShowProof at 0x7f66a8226e48>"
      ]
     },
     "execution_count": 1,
     "metadata": {},
     "output_type": "execute_result"
    }
   ],
   "source": [
    "import proveit\n",
    "# Automation is not needed when only showing a stored proof:\n",
    "proveit.defaults.automation = False # This will speed things up.\n",
    "proveit.defaults.inline_pngs = False # Makes files smaller.\n",
    "%show_proof"
   ]
  },
  {
   "cell_type": "code",
   "execution_count": null,
   "metadata": {},
   "outputs": [],
   "source": []
  }
 ],
 "metadata": {
  "kernelspec": {
   "display_name": "Python 3",
   "language": "python",
   "name": "python3"
  }
 },
 "nbformat": 4,
 "nbformat_minor": 0
}