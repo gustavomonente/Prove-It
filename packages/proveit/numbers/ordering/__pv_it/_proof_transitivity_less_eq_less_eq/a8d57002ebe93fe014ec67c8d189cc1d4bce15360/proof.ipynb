{
 "cells": [
  {
   "cell_type": "markdown",
   "metadata": {},
   "source": [
    "Show the Proof\n",
    "========"
   ]
  },
  {
   "cell_type": "code",
   "execution_count": 1,
   "metadata": {},
   "outputs": [
    {
     "data": {
      "text/html": [
       "<table><tr><th>&nbsp;</th><th>step type</th><th>requirements</th><th>statement</th></tr>\n",
       "<tr><td><a name=\"proveit.numbers.ordering._proof_transitivity_less_eq_less_eq.a8d57002ebe93fe014ec67c8d189cc1d4bce15360_step0\">0</a></td><td>instantiation</td><td><a href=\"#proveit.numbers.ordering._proof_transitivity_less_eq_less_eq.a8d57002ebe93fe014ec67c8d189cc1d4bce15360_step1\">1</a>, <a href=\"#proveit.numbers.ordering._proof_transitivity_less_eq_less_eq.a8d57002ebe93fe014ec67c8d189cc1d4bce15360_step2\">2</a>, <a href=\"#proveit.numbers.ordering._proof_transitivity_less_eq_less_eq.a8d57002ebe93fe014ec67c8d189cc1d4bce15360_step3\">3</a></td><td><span style=\"font-size:20px;\"><a class=\"ProveItLink\" href=\"../../theorems/851392b6f273e0cbcf1bc7828c98c2cf9db6bb7a0/expr.ipynb\"><img src=\"../../theorems/851392b6f273e0cbcf1bc7828c98c2cf9db6bb7a0/expr.png\" style=\"display:inline;vertical-align:middle;\" /></a>, <a class=\"ProveItLink\" href=\"../../theorems/f44ec7738c4b31436f245f4b9e5d99f8a909d7b60/expr.ipynb\"><img src=\"../../theorems/f44ec7738c4b31436f245f4b9e5d99f8a909d7b60/expr.png\" style=\"display:inline;vertical-align:middle;\" /></a> <a class=\"ProveItLink\" href=\"proof.ipynb\" style=\"text-decoration: none\">&nbsp;&#x22A2;&nbsp;&nbsp;</a><a class=\"ProveItLink\" href=\"../../theorems/433fb2e4e5da8f5242ab5003a9fbf4a708b5bb2e0/expr.ipynb\"><img src=\"../../theorems/433fb2e4e5da8f5242ab5003a9fbf4a708b5bb2e0/expr.png\" style=\"display:inline;vertical-align:middle;\" /></a></span></td></tr>\n",
       "<tr><td>&nbsp;</td><td colspan=4 style=\"text-align:left\"><span style=\"font-size:20px;\"><a class=\"ProveItLink\" href=\"../../../../../__pv_it/common/a0d9d672aa5e272d907247690c152cc2c6daafb70/expr.ipynb\"><img src=\"../../../../../__pv_it/common/a0d9d672aa5e272d907247690c152cc2c6daafb70/expr.png\" style=\"display:inline;vertical-align:middle;\" /></a> : <a class=\"ProveItLink\" href=\"../../../../../__pv_it/common/a0d9d672aa5e272d907247690c152cc2c6daafb70/expr.ipynb\"><img src=\"../../../../../__pv_it/common/a0d9d672aa5e272d907247690c152cc2c6daafb70/expr.png\" style=\"display:inline;vertical-align:middle;\" /></a>, <a class=\"ProveItLink\" href=\"../../../../../__pv_it/common/ff7dba4ef0bbe791ab573bf2d9c220a304399ac80/expr.ipynb\"><img src=\"../../../../../__pv_it/common/ff7dba4ef0bbe791ab573bf2d9c220a304399ac80/expr.png\" style=\"display:inline;vertical-align:middle;\" /></a> : <a class=\"ProveItLink\" href=\"../../../../../__pv_it/common/ff7dba4ef0bbe791ab573bf2d9c220a304399ac80/expr.ipynb\"><img src=\"../../../../../__pv_it/common/ff7dba4ef0bbe791ab573bf2d9c220a304399ac80/expr.png\" style=\"display:inline;vertical-align:middle;\" /></a>, <a class=\"ProveItLink\" href=\"../../../../../__pv_it/common/95a8f6b9b9f29b83f192ad7fd05708d6be097a3f0/expr.ipynb\"><img src=\"../../../../../__pv_it/common/95a8f6b9b9f29b83f192ad7fd05708d6be097a3f0/expr.png\" style=\"display:inline;vertical-align:middle;\" /></a> : <a class=\"ProveItLink\" href=\"../../../../../__pv_it/common/95a8f6b9b9f29b83f192ad7fd05708d6be097a3f0/expr.ipynb\"><img src=\"../../../../../__pv_it/common/95a8f6b9b9f29b83f192ad7fd05708d6be097a3f0/expr.png\" style=\"display:inline;vertical-align:middle;\" /></a></span></td></tr><tr><td><a name=\"proveit.numbers.ordering._proof_transitivity_less_eq_less_eq.a8d57002ebe93fe014ec67c8d189cc1d4bce15360_step1\">1</a></td><td>theorem</td><td></td><td><span style=\"font-size:20px;\"> <a class=\"ProveItLink\" href=\"../../../_theory_nbs_/proofs/transitivity_less_less_eq/thm_proof.ipynb\" style=\"text-decoration: none\">&nbsp;&#x22A2;&nbsp;&nbsp;</a><a class=\"ProveItLink\" href=\"../../theorems/7b8d58341b5906ecd4ee00de1e57de439743b9390/expr.ipynb\"><img src=\"../../theorems/7b8d58341b5906ecd4ee00de1e57de439743b9390/expr.png\" style=\"display:inline;vertical-align:middle;\" /></a></span></td></tr>\n",
       "<tr><td>&nbsp;</td><td colspan=4 style-\"text-align:left\"><a class=\"ProveItLink\" href=\"../../../_theory_nbs_/proofs/transitivity_less_less_eq/thm_proof.ipynb\">proveit.numbers.ordering.transitivity_less_less_eq</a></td></tr><tr><td><a name=\"proveit.numbers.ordering._proof_transitivity_less_eq_less_eq.a8d57002ebe93fe014ec67c8d189cc1d4bce15360_step2\">2</a></td><td>assumption</td><td></td><td><span style=\"font-size:20px;\"><a class=\"ProveItLink\" href=\"../../theorems/851392b6f273e0cbcf1bc7828c98c2cf9db6bb7a0/expr.ipynb\"><img src=\"../../theorems/851392b6f273e0cbcf1bc7828c98c2cf9db6bb7a0/expr.png\" style=\"display:inline;vertical-align:middle;\" /></a> <a class=\"ProveItLink\" href=\"../d591daefec8f3e76edc914e3951184a9696656620/proof.ipynb\" style=\"text-decoration: none\">&nbsp;&#x22A2;&nbsp;&nbsp;</a><a class=\"ProveItLink\" href=\"../../theorems/851392b6f273e0cbcf1bc7828c98c2cf9db6bb7a0/expr.ipynb\"><img src=\"../../theorems/851392b6f273e0cbcf1bc7828c98c2cf9db6bb7a0/expr.png\" style=\"display:inline;vertical-align:middle;\" /></a></span></td></tr>\n",
       "<tr><td><a name=\"proveit.numbers.ordering._proof_transitivity_less_eq_less_eq.a8d57002ebe93fe014ec67c8d189cc1d4bce15360_step3\">3</a></td><td>assumption</td><td></td><td><span style=\"font-size:20px;\"><a class=\"ProveItLink\" href=\"../../theorems/f44ec7738c4b31436f245f4b9e5d99f8a909d7b60/expr.ipynb\"><img src=\"../../theorems/f44ec7738c4b31436f245f4b9e5d99f8a909d7b60/expr.png\" style=\"display:inline;vertical-align:middle;\" /></a> <a class=\"ProveItLink\" href=\"../ebc3f5434bac1157b92cf836faeb258fa1c04b790/proof.ipynb\" style=\"text-decoration: none\">&nbsp;&#x22A2;&nbsp;&nbsp;</a><a class=\"ProveItLink\" href=\"../../theorems/f44ec7738c4b31436f245f4b9e5d99f8a909d7b60/expr.ipynb\"><img src=\"../../theorems/f44ec7738c4b31436f245f4b9e5d99f8a909d7b60/expr.png\" style=\"display:inline;vertical-align:middle;\" /></a></span></td></tr>\n",
       "</table>"
      ],
      "text/plain": [
       "<proveit._core_.proof._ShowProof at 0x7f9e381e9b38>"
      ]
     },
     "execution_count": 1,
     "metadata": {},
     "output_type": "execute_result"
    }
   ],
   "source": [
    "import proveit\n",
    "# Automation is not needed when only showing a stored proof:\n",
    "proveit.defaults.automation = False # This will speed things up.\n",
    "proveit.defaults.inline_pngs = False # Makes files smaller.\n",
    "%show_proof"
   ]
  },
  {
   "cell_type": "code",
   "execution_count": null,
   "metadata": {},
   "outputs": [],
   "source": []
  }
 ],
 "metadata": {
  "kernelspec": {
   "display_name": "Python 3",
   "language": "python",
   "name": "python3"
  }
 },
 "nbformat": 4,
 "nbformat_minor": 0
}