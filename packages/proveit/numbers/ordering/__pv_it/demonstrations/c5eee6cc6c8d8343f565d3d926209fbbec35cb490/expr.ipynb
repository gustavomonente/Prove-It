{
 "cells": [
  {
   "cell_type": "markdown",
   "metadata": {},
   "source": [
    "Expression of type <a class=\"ProveItLink\" href=\"../../../../../../../doc/html/api/proveit.ExprRange.html\">ExprRange</a>\n",
    "=======================\n",
    "# from the theory of <a class=\"ProveItLink\" href=\"../../../_theory_nbs_/theory.ipynb\">proveit.numbers.ordering</a>"
   ]
  },
  {
   "cell_type": "code",
   "execution_count": 1,
   "metadata": {},
   "outputs": [],
   "source": [
    "import proveit\n",
    "# Automation is not needed when building an expression:\n",
    "proveit.defaults.automation = False # This will speed things up.\n",
    "proveit.defaults.inline_pngs = False # Makes files smaller.\n",
    "%load_expr # Load the stored expression as 'stored_expr'\n",
    "# import Expression classes needed to build the expression\n",
    "from proveit import ExprRange, i\n",
    "from proveit.numbers import one, three\n",
    "from proveit.numbers.ordering import sequential_x_relation"
   ]
  },
  {
   "cell_type": "code",
   "execution_count": 2,
   "metadata": {},
   "outputs": [
    {
     "data": {
      "text/html": [
       "<strong id=\"expr\">expr:</strong> <a class=\"ProveItLink\" href=\"expr.ipynb\"><img src=\"expr.png\" style=\"display:inline;vertical-align:middle;\" /></a><br>"
      ],
      "text/plain": [
       "expr: (x_{1} rho_{1} x_{1 + 1}), ..(x_{i} rho_{i} x_{i + 1}).., (x_{3} rho_{3} x_{3 + 1})"
      ]
     },
     "execution_count": 2,
     "metadata": {},
     "output_type": "execute_result"
    }
   ],
   "source": [
    "# build up the expression from sub-expressions\n",
    "expr = ExprRange(i, sequential_x_relation, one, three)"
   ]
  },
  {
   "cell_type": "code",
   "execution_count": 3,
   "metadata": {},
   "outputs": [
    {
     "name": "stdout",
     "output_type": "stream",
     "text": [
      "Passed sanity check: expr matches stored_expr\n"
     ]
    }
   ],
   "source": [
    "# check that the built expression is the same as the stored expression\n",
    "assert expr == stored_expr\n",
    "assert expr._style_id == stored_expr._style_id\n",
    "print(\"Passed sanity check: expr matches stored_expr\")"
   ]
  },
  {
   "cell_type": "code",
   "execution_count": 4,
   "metadata": {},
   "outputs": [
    {
     "name": "stdout",
     "output_type": "stream",
     "text": [
      "\\left(x_{1} \\rho_{1} x_{1 + 1}\\right), \\ldots, \\left(x_{3} \\rho_{3} x_{3 + 1}\\right)\n"
     ]
    }
   ],
   "source": [
    "# Show the LaTeX representation of the expression for convenience if you need it.\n",
    "print(expr.latex())"
   ]
  },
  {
   "cell_type": "code",
   "execution_count": 5,
   "metadata": {},
   "outputs": [
    {
     "data": {
      "text/html": [
       "<table><tr><th>&nbsp;</th><th>core type</th><th>sub-expressions</th><th>expression</th></tr>\n",
       "<tr><td>0</td><td>ExprRange</td><td>lambda_map:&nbsp;1<br>start_index:&nbsp;14<br>end_index:&nbsp;2<br></td><td><a class=\"ProveItLink\" href=\"expr.ipynb\"><img src=\"expr.png\" style=\"display:inline;vertical-align:middle;\" /></a></td></tr>\n",
       "<tr><td>1</td><td>Lambda</td><td>parameter:&nbsp;13<br>body:&nbsp;3<br></td><td><a class=\"ProveItLink\" href=\"../../common/4d8ff93d595f31013f40a796431d19561ddfcf9e0/expr.ipynb\"><img src=\"../../common/4d8ff93d595f31013f40a796431d19561ddfcf9e0/expr.png\" style=\"display:inline;vertical-align:middle;\" /></a></td></tr>\n",
       "<tr><td>2</td><td>Literal</td><td></td><td><a class=\"ProveItLink\" href=\"../../../../numerals/__pv_it/common/0a19a501c0770212f27a044b71e9c626b8ca0bec0/expr.ipynb\"><img src=\"../../../../numerals/__pv_it/common/0a19a501c0770212f27a044b71e9c626b8ca0bec0/expr.png\" style=\"display:inline;vertical-align:middle;\" /></a></td></tr>\n",
       "<tr><td>3</td><td>Operation</td><td>operator:&nbsp;4<br>operands:&nbsp;5<br></td><td><a class=\"ProveItLink\" href=\"../../common/a15027bee26e90b9f09b006f9a168bb30c82d2ab0/expr.ipynb\"><img src=\"../../common/a15027bee26e90b9f09b006f9a168bb30c82d2ab0/expr.png\" style=\"display:inline;vertical-align:middle;\" /></a></td></tr>\n",
       "<tr><td>4</td><td>IndexedVar</td><td>variable:&nbsp;6<br>index:&nbsp;13<br></td><td><a class=\"ProveItLink\" href=\"../../common/52f9036d11f6430f9377332542d80da6f76c67ba0/expr.ipynb\"><img src=\"../../common/52f9036d11f6430f9377332542d80da6f76c67ba0/expr.png\" style=\"display:inline;vertical-align:middle;\" /></a></td></tr>\n",
       "<tr><td>5</td><td>ExprTuple</td><td>7, 8</td><td><a class=\"ProveItLink\" href=\"../../common/2af65ba8621078972d7a33077ca3ea18f9e9da610/expr.ipynb\"><img src=\"../../common/2af65ba8621078972d7a33077ca3ea18f9e9da610/expr.png\" style=\"display:inline;vertical-align:middle;\" /></a></td></tr>\n",
       "<tr><td>6</td><td>Variable</td><td></td><td><a class=\"ProveItLink\" href=\"../../../../../__pv_it/common/9528518515ad3a418953b148d1d0eb3372f91f130/expr.ipynb\"><img src=\"../../../../../__pv_it/common/9528518515ad3a418953b148d1d0eb3372f91f130/expr.png\" style=\"display:inline;vertical-align:middle;\" /></a></td></tr>\n",
       "<tr><td>7</td><td>IndexedVar</td><td>variable:&nbsp;9<br>index:&nbsp;13<br></td><td><a class=\"ProveItLink\" href=\"../../common/69c2d788883cd9519c6068339312677ff6b4264e0/expr.ipynb\"><img src=\"../../common/69c2d788883cd9519c6068339312677ff6b4264e0/expr.png\" style=\"display:inline;vertical-align:middle;\" /></a></td></tr>\n",
       "<tr><td>8</td><td>IndexedVar</td><td>variable:&nbsp;9<br>index:&nbsp;10<br></td><td><a class=\"ProveItLink\" href=\"../../common/db8f0ea7f1ea18231d5dd4e4b1f4c1f66b2e3b900/expr.ipynb\"><img src=\"../../common/db8f0ea7f1ea18231d5dd4e4b1f4c1f66b2e3b900/expr.png\" style=\"display:inline;vertical-align:middle;\" /></a></td></tr>\n",
       "<tr><td>9</td><td>Variable</td><td></td><td><a class=\"ProveItLink\" href=\"../../../../../__pv_it/common/a0d9d672aa5e272d907247690c152cc2c6daafb70/expr.ipynb\"><img src=\"../../../../../__pv_it/common/a0d9d672aa5e272d907247690c152cc2c6daafb70/expr.png\" style=\"display:inline;vertical-align:middle;\" /></a></td></tr>\n",
       "<tr><td>10</td><td>Operation</td><td>operator:&nbsp;11<br>operands:&nbsp;12<br></td><td><a class=\"ProveItLink\" href=\"../../common/e1da5c12a9ad58997976aa29dace108a7f7a29710/expr.ipynb\"><img src=\"../../common/e1da5c12a9ad58997976aa29dace108a7f7a29710/expr.png\" style=\"display:inline;vertical-align:middle;\" /></a></td></tr>\n",
       "<tr><td>11</td><td>Literal</td><td></td><td><a class=\"ProveItLink\" href=\"../../../../addition/__pv_it/common/4b7effaab3619a1c2c38fe2dee8601df8ec714590/expr.ipynb\"><img src=\"../../../../addition/__pv_it/common/4b7effaab3619a1c2c38fe2dee8601df8ec714590/expr.png\" style=\"display:inline;vertical-align:middle;\" /></a></td></tr>\n",
       "<tr><td>12</td><td>ExprTuple</td><td>13, 14</td><td><a class=\"ProveItLink\" href=\"../../common/a2a19b42b61471636f43bda6abf29d4d75e652000/expr.ipynb\"><img src=\"../../common/a2a19b42b61471636f43bda6abf29d4d75e652000/expr.png\" style=\"display:inline;vertical-align:middle;\" /></a></td></tr>\n",
       "<tr><td>13</td><td>Variable</td><td></td><td><a class=\"ProveItLink\" href=\"../../../../../__pv_it/common/ae955345c83abf786c3aff8681cd5465beae262d0/expr.ipynb\"><img src=\"../../../../../__pv_it/common/ae955345c83abf786c3aff8681cd5465beae262d0/expr.png\" style=\"display:inline;vertical-align:middle;\" /></a></td></tr>\n",
       "<tr><td>14</td><td>Literal</td><td></td><td><a class=\"ProveItLink\" href=\"../../../../numerals/__pv_it/common/2778428c7f555b2bdc06aa0530bc142c6e6335100/expr.ipynb\"><img src=\"../../../../numerals/__pv_it/common/2778428c7f555b2bdc06aa0530bc142c6e6335100/expr.png\" style=\"display:inline;vertical-align:middle;\" /></a></td></tr>\n",
       "</table>\n"
      ],
      "text/plain": [
       "0. (x_{1} rho_{1} x_{1 + 1}), ..(x_{i} rho_{i} x_{i + 1}).., (x_{3} rho_{3} x_{3 + 1})\n",
       "   core type: ExprRange\n",
       "   lambda_map: 1\n",
       "   start_index: 14\n",
       "   end_index: 2\n",
       "1. i -> (x_{i} rho_{i} x_{i + 1})\n",
       "   core type: Lambda\n",
       "   parameter: 13\n",
       "   body: 3\n",
       "2. 3\n",
       "   core type: Literal\n",
       "   sub-expressions: \n",
       "3. x_{i} rho_{i} x_{i + 1}\n",
       "   core type: Operation\n",
       "   operator: 4\n",
       "   operands: 5\n",
       "4. rho_{i}\n",
       "   core type: IndexedVar\n",
       "variable: 6\n",
       "index: 13\n",
       "5. (x_{i}, x_{i + 1})\n",
       "   core type: ExprTuple\n",
       "   sub-expressions: 7, 8\n",
       "6. rho\n",
       "   core type: Variable\n",
       "   sub-expressions: \n",
       "7. x_{i}\n",
       "   core type: IndexedVar\n",
       "variable: 9\n",
       "index: 13\n",
       "8. x_{i + 1}\n",
       "   core type: IndexedVar\n",
       "variable: 9\n",
       "index: 10\n",
       "9. x\n",
       "   core type: Variable\n",
       "   sub-expressions: \n",
       "10. i + 1\n",
       "    core type: Operation\n",
       "    operator: 11\n",
       "    operands: 12\n",
       "11. +\n",
       "    core type: Literal\n",
       "    sub-expressions: \n",
       "12. (i, 1)\n",
       "    core type: ExprTuple\n",
       "    sub-expressions: 13, 14\n",
       "13. i\n",
       "    core type: Variable\n",
       "    sub-expressions: \n",
       "14. 1\n",
       "    core type: Literal\n",
       "    sub-expressions: "
      ]
     },
     "execution_count": 5,
     "metadata": {},
     "output_type": "execute_result"
    }
   ],
   "source": [
    "# display the expression information\n",
    "expr.expr_info()"
   ]
  },
  {
   "cell_type": "code",
   "execution_count": null,
   "metadata": {},
   "outputs": [],
   "source": []
  }
 ],
 "metadata": {
  "kernelspec": {
   "display_name": "Python 3",
   "language": "python",
   "name": "python3"
  }
 },
 "nbformat": 4,
 "nbformat_minor": 0
}