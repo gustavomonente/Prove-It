{
 "cells": [
  {
   "cell_type": "markdown",
   "metadata": {},
   "source": [
    "Expression of type <a class=\"ProveItLink\" href=\"../../../../../../../doc/html/api/proveit.logic.Equals.html\">Equals</a>\n",
    "=======================\n",
    "# from the theory of <a class=\"ProveItLink\" href=\"../../../_theory_nbs_/theory.ipynb\">proveit.numbers.ordering</a>"
   ]
  },
  {
   "cell_type": "code",
   "execution_count": 1,
   "metadata": {},
   "outputs": [],
   "source": [
    "import proveit\n",
    "# Automation is not needed when building an expression:\n",
    "proveit.defaults.automation = False # This will speed things up.\n",
    "proveit.defaults.inline_pngs = False # Makes files smaller.\n",
    "%load_expr # Load the stored expression as 'stored_expr'\n",
    "# import Expression classes needed to build the expression\n",
    "from proveit import ExprRange, IndexedVar, OperationSequence, i, rho, x\n",
    "from proveit.logic import And, Equals\n",
    "from proveit.numbers import Add, one, three\n",
    "from proveit.numbers.ordering import sequential_x_relation"
   ]
  },
  {
   "cell_type": "code",
   "execution_count": 2,
   "metadata": {},
   "outputs": [
    {
     "data": {
      "text/html": [
       "<strong id=\"expr\">expr:</strong> <a class=\"ProveItLink\" href=\"expr.ipynb\"><img src=\"expr.png\" style=\"display:inline;vertical-align:middle;\" /></a><br>"
      ],
      "text/plain": [
       "expr: (x_{1} rho_{1} ..x_{i}.. rho_{i} x_{3} rho_{3} x_{3 + 1}) = ((x_{1} rho_{1} x_{1 + 1}) and ..(x_{i} rho_{i} x_{i + 1}).. and (x_{3} rho_{3} x_{3 + 1}))"
      ]
     },
     "execution_count": 2,
     "metadata": {},
     "output_type": "execute_result"
    }
   ],
   "source": [
    "# build up the expression from sub-expressions\n",
    "expr = Equals(OperationSequence([ExprRange(i, IndexedVar(rho, i), one, three)], [ExprRange(i, IndexedVar(x, i), one, three), IndexedVar(x, Add(three, one))]), And(ExprRange(i, sequential_x_relation, one, three)))"
   ]
  },
  {
   "cell_type": "code",
   "execution_count": 3,
   "metadata": {},
   "outputs": [
    {
     "name": "stdout",
     "output_type": "stream",
     "text": [
      "Passed sanity check: expr matches stored_expr\n"
     ]
    }
   ],
   "source": [
    "# check that the built expression is the same as the stored expression\n",
    "assert expr == stored_expr\n",
    "assert expr._style_id == stored_expr._style_id\n",
    "print(\"Passed sanity check: expr matches stored_expr\")"
   ]
  },
  {
   "cell_type": "code",
   "execution_count": 4,
   "metadata": {},
   "outputs": [
    {
     "name": "stdout",
     "output_type": "stream",
     "text": [
      "\\left(x_{1} \\rho_{1} \\ldots  x_{3} \\rho_{3} x_{3 + 1}\\right) = \\left(\\left(x_{1} \\rho_{1} x_{1 + 1}\\right) \\land \\ldots \\land \\left(x_{3} \\rho_{3} x_{3 + 1}\\right)\\right)\n"
     ]
    }
   ],
   "source": [
    "# Show the LaTeX representation of the expression for convenience if you need it.\n",
    "print(expr.latex())"
   ]
  },
  {
   "cell_type": "code",
   "execution_count": 5,
   "metadata": {},
   "outputs": [
    {
     "data": {
      "text/html": [
       "<table><tr><th>&nbsp;</th><th>core type</th><th>sub-expressions</th><th>expression</th></tr>\n",
       "<tr><td>0</td><td>Operation</td><td>operator:&nbsp;1<br>operands:&nbsp;2<br></td><td><a class=\"ProveItLink\" href=\"expr.ipynb\"><img src=\"expr.png\" style=\"display:inline;vertical-align:middle;\" /></a></td></tr>\n",
       "<tr><td>1</td><td>Literal</td><td></td><td><a class=\"ProveItLink\" href=\"../../../../../logic/equality/__pv_it/common/fb96dc12b2aa8801dda64d0132b396c63d1502bb0/expr.ipynb\"><img src=\"../../../../../logic/equality/__pv_it/common/fb96dc12b2aa8801dda64d0132b396c63d1502bb0/expr.png\" style=\"display:inline;vertical-align:middle;\" /></a></td></tr>\n",
       "<tr><td>2</td><td>ExprTuple</td><td>3, 4</td><td><a class=\"ProveItLink\" href=\"../c7e5227bffac0922a91785ad3c0f8d6314c2dcc40/expr.ipynb\"><img src=\"../c7e5227bffac0922a91785ad3c0f8d6314c2dcc40/expr.png\" style=\"display:inline;vertical-align:middle;\" /></a></td></tr>\n",
       "<tr><td>3</td><td>Operation</td><td>operators:&nbsp;5<br>operands:&nbsp;6<br></td><td><a class=\"ProveItLink\" href=\"../7ec04c6c17adde70bb9b5085ec2020ea27ab74f50/expr.ipynb\"><img src=\"../7ec04c6c17adde70bb9b5085ec2020ea27ab74f50/expr.png\" style=\"display:inline;vertical-align:middle;\" /></a></td></tr>\n",
       "<tr><td>4</td><td>Operation</td><td>operator:&nbsp;7<br>operands:&nbsp;8<br></td><td><a class=\"ProveItLink\" href=\"../a0b243840f1a34fd297bf626a4943f045af30a870/expr.ipynb\"><img src=\"../a0b243840f1a34fd297bf626a4943f045af30a870/expr.png\" style=\"display:inline;vertical-align:middle;\" /></a></td></tr>\n",
       "<tr><td>5</td><td>ExprTuple</td><td>9</td><td><a class=\"ProveItLink\" href=\"../8aae4e9c032607a3075e134cfecaf3048ddda32a0/expr.ipynb\"><img src=\"../8aae4e9c032607a3075e134cfecaf3048ddda32a0/expr.png\" style=\"display:inline;vertical-align:middle;\" /></a></td></tr>\n",
       "<tr><td>6</td><td>ExprTuple</td><td>10, 11</td><td><a class=\"ProveItLink\" href=\"../171b07f087a7b8462b2bc7a94939b0d5040195f90/expr.ipynb\"><img src=\"../171b07f087a7b8462b2bc7a94939b0d5040195f90/expr.png\" style=\"display:inline;vertical-align:middle;\" /></a></td></tr>\n",
       "<tr><td>7</td><td>Literal</td><td></td><td><a class=\"ProveItLink\" href=\"../../../../../logic/booleans/conjunction/__pv_it/common/42118ff318bd65d98b1393f64ce7c2269feef76e0/expr.ipynb\"><img src=\"../../../../../logic/booleans/conjunction/__pv_it/common/42118ff318bd65d98b1393f64ce7c2269feef76e0/expr.png\" style=\"display:inline;vertical-align:middle;\" /></a></td></tr>\n",
       "<tr><td>8</td><td>ExprTuple</td><td>12</td><td><a class=\"ProveItLink\" href=\"../c46da0fdf4071574de96572a03ee2bc9d0b999190/expr.ipynb\"><img src=\"../c46da0fdf4071574de96572a03ee2bc9d0b999190/expr.png\" style=\"display:inline;vertical-align:middle;\" /></a></td></tr>\n",
       "<tr><td>9</td><td>ExprRange</td><td>lambda_map:&nbsp;13<br>start_index:&nbsp;30<br>end_index:&nbsp;19<br></td><td><a class=\"ProveItLink\" href=\"../cf36551761177a9a9a5173e65d865fa6347304af0/expr.ipynb\"><img src=\"../cf36551761177a9a9a5173e65d865fa6347304af0/expr.png\" style=\"display:inline;vertical-align:middle;\" /></a></td></tr>\n",
       "<tr><td>10</td><td>ExprRange</td><td>lambda_map:&nbsp;14<br>start_index:&nbsp;30<br>end_index:&nbsp;19<br></td><td><a class=\"ProveItLink\" href=\"../1c5ca755ca19877c8e8fb10627037cdbba8244920/expr.ipynb\"><img src=\"../1c5ca755ca19877c8e8fb10627037cdbba8244920/expr.png\" style=\"display:inline;vertical-align:middle;\" /></a></td></tr>\n",
       "<tr><td>11</td><td>IndexedVar</td><td>variable:&nbsp;25<br>index:&nbsp;15<br></td><td><a class=\"ProveItLink\" href=\"../0b1876a856762077a8a781c353cbbd99d1f34bb10/expr.ipynb\"><img src=\"../0b1876a856762077a8a781c353cbbd99d1f34bb10/expr.png\" style=\"display:inline;vertical-align:middle;\" /></a></td></tr>\n",
       "<tr><td>12</td><td>ExprRange</td><td>lambda_map:&nbsp;16<br>start_index:&nbsp;30<br>end_index:&nbsp;19<br></td><td><a class=\"ProveItLink\" href=\"../c5eee6cc6c8d8343f565d3d926209fbbec35cb490/expr.ipynb\"><img src=\"../c5eee6cc6c8d8343f565d3d926209fbbec35cb490/expr.png\" style=\"display:inline;vertical-align:middle;\" /></a></td></tr>\n",
       "<tr><td>13</td><td>Lambda</td><td>parameter:&nbsp;29<br>body:&nbsp;20<br></td><td><a class=\"ProveItLink\" href=\"../../common/604a01014b49205330880bcbd021eaa124754c980/expr.ipynb\"><img src=\"../../common/604a01014b49205330880bcbd021eaa124754c980/expr.png\" style=\"display:inline;vertical-align:middle;\" /></a></td></tr>\n",
       "<tr><td>14</td><td>Lambda</td><td>parameter:&nbsp;29<br>body:&nbsp;23<br></td><td><a class=\"ProveItLink\" href=\"../../common/bd5c69d870e7d82800f806955259d38a9564d26e0/expr.ipynb\"><img src=\"../../common/bd5c69d870e7d82800f806955259d38a9564d26e0/expr.png\" style=\"display:inline;vertical-align:middle;\" /></a></td></tr>\n",
       "<tr><td>15</td><td>Operation</td><td>operator:&nbsp;27<br>operands:&nbsp;17<br></td><td><a class=\"ProveItLink\" href=\"../0a9fd02fd8d28ec4cdb4f28e84465ed66a6a56b70/expr.ipynb\"><img src=\"../0a9fd02fd8d28ec4cdb4f28e84465ed66a6a56b70/expr.png\" style=\"display:inline;vertical-align:middle;\" /></a></td></tr>\n",
       "<tr><td>16</td><td>Lambda</td><td>parameter:&nbsp;29<br>body:&nbsp;18<br></td><td><a class=\"ProveItLink\" href=\"../../common/4d8ff93d595f31013f40a796431d19561ddfcf9e0/expr.ipynb\"><img src=\"../../common/4d8ff93d595f31013f40a796431d19561ddfcf9e0/expr.png\" style=\"display:inline;vertical-align:middle;\" /></a></td></tr>\n",
       "<tr><td>17</td><td>ExprTuple</td><td>19, 30</td><td><a class=\"ProveItLink\" href=\"../9a7f7bc4a6d42fdddc4dbad9833ee227885124970/expr.ipynb\"><img src=\"../9a7f7bc4a6d42fdddc4dbad9833ee227885124970/expr.png\" style=\"display:inline;vertical-align:middle;\" /></a></td></tr>\n",
       "<tr><td>18</td><td>Operation</td><td>operator:&nbsp;20<br>operands:&nbsp;21<br></td><td><a class=\"ProveItLink\" href=\"../../common/a15027bee26e90b9f09b006f9a168bb30c82d2ab0/expr.ipynb\"><img src=\"../../common/a15027bee26e90b9f09b006f9a168bb30c82d2ab0/expr.png\" style=\"display:inline;vertical-align:middle;\" /></a></td></tr>\n",
       "<tr><td>19</td><td>Literal</td><td></td><td><a class=\"ProveItLink\" href=\"../../../../numerals/__pv_it/common/0a19a501c0770212f27a044b71e9c626b8ca0bec0/expr.ipynb\"><img src=\"../../../../numerals/__pv_it/common/0a19a501c0770212f27a044b71e9c626b8ca0bec0/expr.png\" style=\"display:inline;vertical-align:middle;\" /></a></td></tr>\n",
       "<tr><td>20</td><td>IndexedVar</td><td>variable:&nbsp;22<br>index:&nbsp;29<br></td><td><a class=\"ProveItLink\" href=\"../../common/52f9036d11f6430f9377332542d80da6f76c67ba0/expr.ipynb\"><img src=\"../../common/52f9036d11f6430f9377332542d80da6f76c67ba0/expr.png\" style=\"display:inline;vertical-align:middle;\" /></a></td></tr>\n",
       "<tr><td>21</td><td>ExprTuple</td><td>23, 24</td><td><a class=\"ProveItLink\" href=\"../../common/2af65ba8621078972d7a33077ca3ea18f9e9da610/expr.ipynb\"><img src=\"../../common/2af65ba8621078972d7a33077ca3ea18f9e9da610/expr.png\" style=\"display:inline;vertical-align:middle;\" /></a></td></tr>\n",
       "<tr><td>22</td><td>Variable</td><td></td><td><a class=\"ProveItLink\" href=\"../../../../../__pv_it/common/9528518515ad3a418953b148d1d0eb3372f91f130/expr.ipynb\"><img src=\"../../../../../__pv_it/common/9528518515ad3a418953b148d1d0eb3372f91f130/expr.png\" style=\"display:inline;vertical-align:middle;\" /></a></td></tr>\n",
       "<tr><td>23</td><td>IndexedVar</td><td>variable:&nbsp;25<br>index:&nbsp;29<br></td><td><a class=\"ProveItLink\" href=\"../../common/69c2d788883cd9519c6068339312677ff6b4264e0/expr.ipynb\"><img src=\"../../common/69c2d788883cd9519c6068339312677ff6b4264e0/expr.png\" style=\"display:inline;vertical-align:middle;\" /></a></td></tr>\n",
       "<tr><td>24</td><td>IndexedVar</td><td>variable:&nbsp;25<br>index:&nbsp;26<br></td><td><a class=\"ProveItLink\" href=\"../../common/db8f0ea7f1ea18231d5dd4e4b1f4c1f66b2e3b900/expr.ipynb\"><img src=\"../../common/db8f0ea7f1ea18231d5dd4e4b1f4c1f66b2e3b900/expr.png\" style=\"display:inline;vertical-align:middle;\" /></a></td></tr>\n",
       "<tr><td>25</td><td>Variable</td><td></td><td><a class=\"ProveItLink\" href=\"../../../../../__pv_it/common/a0d9d672aa5e272d907247690c152cc2c6daafb70/expr.ipynb\"><img src=\"../../../../../__pv_it/common/a0d9d672aa5e272d907247690c152cc2c6daafb70/expr.png\" style=\"display:inline;vertical-align:middle;\" /></a></td></tr>\n",
       "<tr><td>26</td><td>Operation</td><td>operator:&nbsp;27<br>operands:&nbsp;28<br></td><td><a class=\"ProveItLink\" href=\"../../common/e1da5c12a9ad58997976aa29dace108a7f7a29710/expr.ipynb\"><img src=\"../../common/e1da5c12a9ad58997976aa29dace108a7f7a29710/expr.png\" style=\"display:inline;vertical-align:middle;\" /></a></td></tr>\n",
       "<tr><td>27</td><td>Literal</td><td></td><td><a class=\"ProveItLink\" href=\"../../../../addition/__pv_it/common/4b7effaab3619a1c2c38fe2dee8601df8ec714590/expr.ipynb\"><img src=\"../../../../addition/__pv_it/common/4b7effaab3619a1c2c38fe2dee8601df8ec714590/expr.png\" style=\"display:inline;vertical-align:middle;\" /></a></td></tr>\n",
       "<tr><td>28</td><td>ExprTuple</td><td>29, 30</td><td><a class=\"ProveItLink\" href=\"../../common/a2a19b42b61471636f43bda6abf29d4d75e652000/expr.ipynb\"><img src=\"../../common/a2a19b42b61471636f43bda6abf29d4d75e652000/expr.png\" style=\"display:inline;vertical-align:middle;\" /></a></td></tr>\n",
       "<tr><td>29</td><td>Variable</td><td></td><td><a class=\"ProveItLink\" href=\"../../../../../__pv_it/common/ae955345c83abf786c3aff8681cd5465beae262d0/expr.ipynb\"><img src=\"../../../../../__pv_it/common/ae955345c83abf786c3aff8681cd5465beae262d0/expr.png\" style=\"display:inline;vertical-align:middle;\" /></a></td></tr>\n",
       "<tr><td>30</td><td>Literal</td><td></td><td><a class=\"ProveItLink\" href=\"../../../../numerals/__pv_it/common/2778428c7f555b2bdc06aa0530bc142c6e6335100/expr.ipynb\"><img src=\"../../../../numerals/__pv_it/common/2778428c7f555b2bdc06aa0530bc142c6e6335100/expr.png\" style=\"display:inline;vertical-align:middle;\" /></a></td></tr>\n",
       "</table>\n"
      ],
      "text/plain": [
       "0. (x_{1} rho_{1} ..x_{i}.. rho_{i} x_{3} rho_{3} x_{3 + 1}) = ((x_{1} rho_{1} x_{1 + 1}) and ..(x_{i} rho_{i} x_{i + 1}).. and (x_{3} rho_{3} x_{3 + 1}))\n",
       "   core type: Operation\n",
       "   operator: 1\n",
       "   operands: 2\n",
       "1. =\n",
       "   core type: Literal\n",
       "   sub-expressions: \n",
       "2. (x_{1} rho_{1} ..x_{i}.. rho_{i} x_{3} rho_{3} x_{3 + 1}, (x_{1} rho_{1} x_{1 + 1}) and ..(x_{i} rho_{i} x_{i + 1}).. and (x_{3} rho_{3} x_{3 + 1}))\n",
       "   core type: ExprTuple\n",
       "   sub-expressions: 3, 4\n",
       "3. x_{1} rho_{1} ..x_{i}.. rho_{i} x_{3} rho_{3} x_{3 + 1}\n",
       "   core type: Operation\n",
       "   operators: 5\n",
       "   operands: 6\n",
       "4. (x_{1} rho_{1} x_{1 + 1}) and ..(x_{i} rho_{i} x_{i + 1}).. and (x_{3} rho_{3} x_{3 + 1})\n",
       "   core type: Operation\n",
       "   operator: 7\n",
       "   operands: 8\n",
       "5. (rho_{1}, ..rho_{i}.., rho_{3})\n",
       "   core type: ExprTuple\n",
       "   sub-expressions: 9\n",
       "6. (x_{1}, ..x_{i}.., x_{3}, x_{3 + 1})\n",
       "   core type: ExprTuple\n",
       "   sub-expressions: 10, 11\n",
       "7. and\n",
       "   core type: Literal\n",
       "   sub-expressions: \n",
       "8. (x_{1} rho_{1} x_{1 + 1}, ..x_{i} rho_{i} x_{i + 1}.., x_{3} rho_{3} x_{3 + 1})\n",
       "   core type: ExprTuple\n",
       "   sub-expressions: 12\n",
       "9. rho_{1}, ..rho_{i}.., rho_{3}\n",
       "   core type: ExprRange\n",
       "   lambda_map: 13\n",
       "   start_index: 30\n",
       "   end_index: 19\n",
       "10. x_{1}, ..x_{i}.., x_{3}\n",
       "    core type: ExprRange\n",
       "    lambda_map: 14\n",
       "    start_index: 30\n",
       "    end_index: 19\n",
       "11. x_{3 + 1}\n",
       "    core type: IndexedVar\n",
       "variable: 25\n",
       "index: 15\n",
       "12. (x_{1} rho_{1} x_{1 + 1}), ..(x_{i} rho_{i} x_{i + 1}).., (x_{3} rho_{3} x_{3 + 1})\n",
       "    core type: ExprRange\n",
       "    lambda_map: 16\n",
       "    start_index: 30\n",
       "    end_index: 19\n",
       "13. i -> rho_{i}\n",
       "    core type: Lambda\n",
       "    parameter: 29\n",
       "    body: 20\n",
       "14. i -> x_{i}\n",
       "    core type: Lambda\n",
       "    parameter: 29\n",
       "    body: 23\n",
       "15. 3 + 1\n",
       "    core type: Operation\n",
       "    operator: 27\n",
       "    operands: 17\n",
       "16. i -> (x_{i} rho_{i} x_{i + 1})\n",
       "    core type: Lambda\n",
       "    parameter: 29\n",
       "    body: 18\n",
       "17. (3, 1)\n",
       "    core type: ExprTuple\n",
       "    sub-expressions: 19, 30\n",
       "18. x_{i} rho_{i} x_{i + 1}\n",
       "    core type: Operation\n",
       "    operator: 20\n",
       "    operands: 21\n",
       "19. 3\n",
       "    core type: Literal\n",
       "    sub-expressions: \n",
       "20. rho_{i}\n",
       "    core type: IndexedVar\n",
       "variable: 22\n",
       "index: 29\n",
       "21. (x_{i}, x_{i + 1})\n",
       "    core type: ExprTuple\n",
       "    sub-expressions: 23, 24\n",
       "22. rho\n",
       "    core type: Variable\n",
       "    sub-expressions: \n",
       "23. x_{i}\n",
       "    core type: IndexedVar\n",
       "variable: 25\n",
       "index: 29\n",
       "24. x_{i + 1}\n",
       "    core type: IndexedVar\n",
       "variable: 25\n",
       "index: 26\n",
       "25. x\n",
       "    core type: Variable\n",
       "    sub-expressions: \n",
       "26. i + 1\n",
       "    core type: Operation\n",
       "    operator: 27\n",
       "    operands: 28\n",
       "27. +\n",
       "    core type: Literal\n",
       "    sub-expressions: \n",
       "28. (i, 1)\n",
       "    core type: ExprTuple\n",
       "    sub-expressions: 29, 30\n",
       "29. i\n",
       "    core type: Variable\n",
       "    sub-expressions: \n",
       "30. 1\n",
       "    core type: Literal\n",
       "    sub-expressions: "
      ]
     },
     "execution_count": 5,
     "metadata": {},
     "output_type": "execute_result"
    }
   ],
   "source": [
    "# display the expression information\n",
    "expr.expr_info()"
   ]
  },
  {
   "cell_type": "code",
   "execution_count": null,
   "metadata": {},
   "outputs": [],
   "source": []
  }
 ],
 "metadata": {
  "kernelspec": {
   "display_name": "Python 3",
   "language": "python",
   "name": "python3"
  }
 },
 "nbformat": 4,
 "nbformat_minor": 0
}