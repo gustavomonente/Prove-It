{
 "cells": [
  {
   "cell_type": "markdown",
   "metadata": {},
   "source": [
    "Axiom Dependencies\n",
    "=======================\n",
    "\n",
    "## <a class=\"ProveItLink\" href=\"../../../_theory_nbs_/theory.ipynb\">proveit.numbers.ordering</a>.<a class=\"ProveItLink\" href=\"../../../_axioms_.ipynb#less_eq_def\">less_eq_def</a> \n"
   ]
  },
  {
   "cell_type": "code",
   "execution_count": 1,
   "metadata": {},
   "outputs": [],
   "source": [
    "import proveit\n",
    "# Automation is not needed when querying dependencies:\n",
    "proveit.defaults.automation = False # This will speed things up.\n",
    "proveit.defaults.inline_pngs = False # Makes files smaller.\n",
    "from proveit.numbers.ordering import less_eq_def"
   ]
  },
  {
   "cell_type": "code",
   "execution_count": 2,
   "metadata": {},
   "outputs": [
    {
     "data": {
      "text/html": [
       "<h3>Theorems/conjectures that depend directly on less_eq_def</h3>"
      ],
      "text/plain": [
       "<IPython.core.display.HTML object>"
      ]
     },
     "metadata": {},
     "output_type": "display_data"
    },
    {
     "data": {
      "text/html": [
       "<dl>"
      ],
      "text/plain": [
       "<IPython.core.display.HTML object>"
      ]
     },
     "metadata": {},
     "output_type": "display_data"
    },
    {
     "data": {
      "text/html": [
       "<dt><a class=\"ProveItLink\" href=\"../../../_theory_nbs_/proofs/reverse_greater_eq/thm_proof.ipynb\">proveit.numbers.ordering.reverse_greater_eq</a></dt><dd><a class=\"ProveItLink\" href=\"../../theorems/1d7a0657d7dede0a9fe982b7a65fc90c31658b040/expr.ipynb\"><img src=\"../../theorems/1d7a0657d7dede0a9fe982b7a65fc90c31658b040/expr.png\" style=\"display:inline;vertical-align:middle;\" /></a></dd>"
      ],
      "text/plain": [
       "<IPython.core.display.HTML object>"
      ]
     },
     "metadata": {},
     "output_type": "display_data"
    },
    {
     "data": {
      "text/html": [
       "<dt><a class=\"ProveItLink\" href=\"../../../_theory_nbs_/proofs/reverse_less_eq/thm_proof.ipynb\">proveit.numbers.ordering.reverse_less_eq</a></dt><dd><a class=\"ProveItLink\" href=\"../../theorems/d55857cf7f135545e7387e8c08328974beaa52330/expr.ipynb\"><img src=\"../../theorems/d55857cf7f135545e7387e8c08328974beaa52330/expr.png\" style=\"display:inline;vertical-align:middle;\" /></a></dd>"
      ],
      "text/plain": [
       "<IPython.core.display.HTML object>"
      ]
     },
     "metadata": {},
     "output_type": "display_data"
    },
    {
     "data": {
      "text/html": [
       "<dt><a class=\"ProveItLink\" href=\"../../../_theory_nbs_/proofs/transitivity_less_eq_less/thm_proof.ipynb\">proveit.numbers.ordering.transitivity_less_eq_less</a></dt><dd><a class=\"ProveItLink\" href=\"../../theorems/7fc80fd0eaf1ee875074c1b5925ff9bb287042be0/expr.ipynb\"><img src=\"../../theorems/7fc80fd0eaf1ee875074c1b5925ff9bb287042be0/expr.png\" style=\"display:inline;vertical-align:middle;\" /></a></dd>"
      ],
      "text/plain": [
       "<IPython.core.display.HTML object>"
      ]
     },
     "metadata": {},
     "output_type": "display_data"
    },
    {
     "data": {
      "text/html": [
       "<dt><a class=\"ProveItLink\" href=\"../../../_theory_nbs_/proofs/transitivity_less_eq_less_eq/thm_proof.ipynb\">proveit.numbers.ordering.transitivity_less_eq_less_eq</a></dt><dd><a class=\"ProveItLink\" href=\"../../theorems/a67d79a6901b2d9af4cde56e3eff617c916a5df70/expr.ipynb\"><img src=\"../../theorems/a67d79a6901b2d9af4cde56e3eff617c916a5df70/expr.png\" style=\"display:inline;vertical-align:middle;\" /></a></dd>"
      ],
      "text/plain": [
       "<IPython.core.display.HTML object>"
      ]
     },
     "metadata": {},
     "output_type": "display_data"
    },
    {
     "data": {
      "text/html": [
       "<dt><a class=\"ProveItLink\" href=\"../../../_theory_nbs_/proofs/transitivity_less_less_eq/thm_proof.ipynb\">proveit.numbers.ordering.transitivity_less_less_eq</a></dt><dd><a class=\"ProveItLink\" href=\"../../theorems/7b8d58341b5906ecd4ee00de1e57de439743b9390/expr.ipynb\"><img src=\"../../theorems/7b8d58341b5906ecd4ee00de1e57de439743b9390/expr.png\" style=\"display:inline;vertical-align:middle;\" /></a></dd>"
      ],
      "text/plain": [
       "<IPython.core.display.HTML object>"
      ]
     },
     "metadata": {},
     "output_type": "display_data"
    },
    {
     "data": {
      "text/html": [
       "</dl>"
      ],
      "text/plain": [
       "<IPython.core.display.HTML object>"
      ]
     },
     "metadata": {},
     "output_type": "display_data"
    }
   ],
   "source": [
    "%dependencies less_eq_def"
   ]
  }
 ],
 "metadata": {
  "kernelspec": {
   "display_name": "Python 3",
   "language": "python",
   "name": "python3"
  }
 },
 "nbformat": 4,
 "nbformat_minor": 0
}