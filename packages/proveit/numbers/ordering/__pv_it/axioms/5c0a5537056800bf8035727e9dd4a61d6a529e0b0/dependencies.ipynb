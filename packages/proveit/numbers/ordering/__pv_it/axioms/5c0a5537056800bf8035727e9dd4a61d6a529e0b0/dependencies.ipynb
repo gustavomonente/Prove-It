{
 "cells": [
  {
   "cell_type": "markdown",
   "metadata": {},
   "source": [
    "Axiom Dependencies\n",
    "=======================\n",
    "\n",
    "## <a class=\"ProveItLink\" href=\"../../../_theory_nbs_/theory.ipynb\">proveit.numbers.ordering</a>.<a class=\"ProveItLink\" href=\"../../../_axioms_.ipynb#greater_eq_def\">greater_eq_def</a> \n"
   ]
  },
  {
   "cell_type": "code",
   "execution_count": 1,
   "metadata": {},
   "outputs": [],
   "source": [
    "import proveit\n",
    "# Automation is not needed when querying dependencies:\n",
    "proveit.defaults.automation = False # This will speed things up.\n",
    "proveit.defaults.inline_pngs = False # Makes files smaller.\n",
    "from proveit.numbers.ordering import greater_eq_def"
   ]
  },
  {
   "cell_type": "code",
   "execution_count": 2,
   "metadata": {},
   "outputs": [
    {
     "data": {
      "text/html": [
       "<h3>Theorems/conjectures that depend directly on greater_eq_def</h3>"
      ],
      "text/plain": [
       "<IPython.core.display.HTML object>"
      ]
     },
     "metadata": {},
     "output_type": "display_data"
    },
    {
     "data": {
      "text/html": [
       "<dl>"
      ],
      "text/plain": [
       "<IPython.core.display.HTML object>"
      ]
     },
     "metadata": {},
     "output_type": "display_data"
    },
    {
     "data": {
      "text/html": [
       "<dt><a class=\"ProveItLink\" href=\"../../../_theory_nbs_/proofs/reverse_greater_eq/thm_proof.ipynb\">proveit.numbers.ordering.reverse_greater_eq</a></dt><dd><a class=\"ProveItLink\" href=\"../../theorems/1d7a0657d7dede0a9fe982b7a65fc90c31658b040/expr.ipynb\"><img src=\"../../theorems/1d7a0657d7dede0a9fe982b7a65fc90c31658b040/expr.png\" style=\"display:inline;vertical-align:middle;\" /></a></dd>"
      ],
      "text/plain": [
       "<IPython.core.display.HTML object>"
      ]
     },
     "metadata": {},
     "output_type": "display_data"
    },
    {
     "data": {
      "text/html": [
       "<dt><a class=\"ProveItLink\" href=\"../../../_theory_nbs_/proofs/reverse_less_eq/thm_proof.ipynb\">proveit.numbers.ordering.reverse_less_eq</a></dt><dd><a class=\"ProveItLink\" href=\"../../theorems/d55857cf7f135545e7387e8c08328974beaa52330/expr.ipynb\"><img src=\"../../theorems/d55857cf7f135545e7387e8c08328974beaa52330/expr.png\" style=\"display:inline;vertical-align:middle;\" /></a></dd>"
      ],
      "text/plain": [
       "<IPython.core.display.HTML object>"
      ]
     },
     "metadata": {},
     "output_type": "display_data"
    },
    {
     "data": {
      "text/html": [
       "<dt><a class=\"ProveItLink\" href=\"../../../_theory_nbs_/proofs/transitivity_greater_eq_greater/thm_proof.ipynb\">proveit.numbers.ordering.transitivity_greater_eq_greater</a></dt><dd><a class=\"ProveItLink\" href=\"../../theorems/253e57dcc33067bdef055811e978562913e8eac60/expr.ipynb\"><img src=\"../../theorems/253e57dcc33067bdef055811e978562913e8eac60/expr.png\" style=\"display:inline;vertical-align:middle;\" /></a></dd>"
      ],
      "text/plain": [
       "<IPython.core.display.HTML object>"
      ]
     },
     "metadata": {},
     "output_type": "display_data"
    },
    {
     "data": {
      "text/html": [
       "<dt><a class=\"ProveItLink\" href=\"../../../_theory_nbs_/proofs/transitivity_greater_eq_greater_eq/thm_proof.ipynb\">proveit.numbers.ordering.transitivity_greater_eq_greater_eq</a></dt><dd><a class=\"ProveItLink\" href=\"../../theorems/f8d9b4d46d14c84f80d895c56947b99495d69aa20/expr.ipynb\"><img src=\"../../theorems/f8d9b4d46d14c84f80d895c56947b99495d69aa20/expr.png\" style=\"display:inline;vertical-align:middle;\" /></a></dd>"
      ],
      "text/plain": [
       "<IPython.core.display.HTML object>"
      ]
     },
     "metadata": {},
     "output_type": "display_data"
    },
    {
     "data": {
      "text/html": [
       "<dt><a class=\"ProveItLink\" href=\"../../../_theory_nbs_/proofs/transitivity_greater_greater_eq/thm_proof.ipynb\">proveit.numbers.ordering.transitivity_greater_greater_eq</a></dt><dd><a class=\"ProveItLink\" href=\"../../theorems/a54738effe6b3a37fd56d9476a67a596d3da2f0a0/expr.ipynb\"><img src=\"../../theorems/a54738effe6b3a37fd56d9476a67a596d3da2f0a0/expr.png\" style=\"display:inline;vertical-align:middle;\" /></a></dd>"
      ],
      "text/plain": [
       "<IPython.core.display.HTML object>"
      ]
     },
     "metadata": {},
     "output_type": "display_data"
    },
    {
     "data": {
      "text/html": [
       "</dl>"
      ],
      "text/plain": [
       "<IPython.core.display.HTML object>"
      ]
     },
     "metadata": {},
     "output_type": "display_data"
    }
   ],
   "source": [
    "%dependencies greater_eq_def"
   ]
  }
 ],
 "metadata": {
  "kernelspec": {
   "display_name": "Python 3",
   "language": "python",
   "name": "python3"
  }
 },
 "nbformat": 4,
 "nbformat_minor": 0
}