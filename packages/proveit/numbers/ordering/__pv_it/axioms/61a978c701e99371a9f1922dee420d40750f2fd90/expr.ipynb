{
 "cells": [
  {
   "cell_type": "markdown",
   "metadata": {},
   "source": [
    "Expression of type <a class=\"ProveItLink\" href=\"../../../../../../../doc/html/api/proveit.ExprTuple.html\">ExprTuple</a>\n",
    "=======================\n",
    "# from the theory of <a class=\"ProveItLink\" href=\"../../../_theory_nbs_/theory.ipynb\">proveit.numbers.ordering</a>"
   ]
  },
  {
   "cell_type": "code",
   "execution_count": 1,
   "metadata": {},
   "outputs": [],
   "source": [
    "import proveit\n",
    "# Automation is not needed when building an expression:\n",
    "proveit.defaults.automation = False # This will speed things up.\n",
    "proveit.defaults.inline_pngs = False # Makes files smaller.\n",
    "%load_expr # Load the stored expression as 'stored_expr'\n",
    "# import Expression classes needed to build the expression\n",
    "from proveit import ExprRange, ExprTuple, IndexedVar, Variable, n, rho\n",
    "from proveit.logic import InSet\n",
    "from proveit.numbers import one\n",
    "from proveit.numbers.ordering import less_eq_relations"
   ]
  },
  {
   "cell_type": "code",
   "execution_count": 2,
   "metadata": {},
   "outputs": [
    {
     "data": {
      "text/html": [
       "<strong id=\"expr\">expr:</strong> <a class=\"ProveItLink\" href=\"expr.ipynb\"><img src=\"expr.png\" style=\"display:inline;vertical-align:middle;\" /></a><br>"
      ],
      "text/plain": [
       "expr: (rho_{1} in {<, <=, =}, ..rho_{_a} in {<, <=, =}.., rho_{n} in {<, <=, =})"
      ]
     },
     "execution_count": 2,
     "metadata": {},
     "output_type": "execute_result"
    }
   ],
   "source": [
    "# build up the expression from sub-expressions\n",
    "sub_expr1 = Variable(\"_a\", latex_format = r\"{_{-}a}\")\n",
    "expr = ExprTuple(ExprRange(sub_expr1, InSet(IndexedVar(rho, sub_expr1), less_eq_relations), one, n))"
   ]
  },
  {
   "cell_type": "code",
   "execution_count": 3,
   "metadata": {},
   "outputs": [
    {
     "name": "stdout",
     "output_type": "stream",
     "text": [
      "Passed sanity check: expr matches stored_expr\n"
     ]
    }
   ],
   "source": [
    "# check that the built expression is the same as the stored expression\n",
    "assert expr == stored_expr\n",
    "assert expr._style_id == stored_expr._style_id\n",
    "print(\"Passed sanity check: expr matches stored_expr\")"
   ]
  },
  {
   "cell_type": "code",
   "execution_count": 4,
   "metadata": {},
   "outputs": [
    {
     "name": "stdout",
     "output_type": "stream",
     "text": [
      "\\left(\\rho_{1} \\in \\left\\{<, \\leq, =\\right\\}, \\ldots, \\rho_{n} \\in \\left\\{<, \\leq, =\\right\\}\\right)\n"
     ]
    }
   ],
   "source": [
    "# Show the LaTeX representation of the expression for convenience if you need it.\n",
    "print(expr.latex())"
   ]
  },
  {
   "cell_type": "code",
   "execution_count": 5,
   "metadata": {},
   "outputs": [
    {
     "data": {
      "text/html": [
       "<table><tr><th>&nbsp;</th><th>core type</th><th>sub-expressions</th><th>expression</th></tr>\n",
       "<tr><td>0</td><td>ExprTuple</td><td>1</td><td><a class=\"ProveItLink\" href=\"expr.ipynb\"><img src=\"expr.png\" style=\"display:inline;vertical-align:middle;\" /></a></td></tr>\n",
       "<tr><td>1</td><td>ExprRange</td><td>lambda_map:&nbsp;2<br>start_index:&nbsp;3<br>end_index:&nbsp;4<br></td><td><a class=\"ProveItLink\" href=\"../2d0d9cb3fb8d548b3beebdee1a47f13a1618b7410/expr.ipynb\"><img src=\"../2d0d9cb3fb8d548b3beebdee1a47f13a1618b7410/expr.png\" style=\"display:inline;vertical-align:middle;\" /></a></td></tr>\n",
       "<tr><td>2</td><td>Lambda</td><td>parameter:&nbsp;11<br>body:&nbsp;5<br></td><td><a class=\"ProveItLink\" href=\"../3a2e1bc88ba9be72b3447f448852255717af9cb90/expr.ipynb\"><img src=\"../3a2e1bc88ba9be72b3447f448852255717af9cb90/expr.png\" style=\"display:inline;vertical-align:middle;\" /></a></td></tr>\n",
       "<tr><td>3</td><td>Literal</td><td></td><td><a class=\"ProveItLink\" href=\"../../../../numerals/__pv_it/common/2778428c7f555b2bdc06aa0530bc142c6e6335100/expr.ipynb\"><img src=\"../../../../numerals/__pv_it/common/2778428c7f555b2bdc06aa0530bc142c6e6335100/expr.png\" style=\"display:inline;vertical-align:middle;\" /></a></td></tr>\n",
       "<tr><td>4</td><td>Variable</td><td></td><td><a class=\"ProveItLink\" href=\"../../../../../__pv_it/common/8968bb04eb3f7dfa02353397ce929b025bbd79c20/expr.ipynb\"><img src=\"../../../../../__pv_it/common/8968bb04eb3f7dfa02353397ce929b025bbd79c20/expr.png\" style=\"display:inline;vertical-align:middle;\" /></a></td></tr>\n",
       "<tr><td>5</td><td>Operation</td><td>operator:&nbsp;6<br>operands:&nbsp;7<br></td><td><a class=\"ProveItLink\" href=\"../ddfcfe644084e5edb61df9175871ae252f0d5a2c0/expr.ipynb\"><img src=\"../ddfcfe644084e5edb61df9175871ae252f0d5a2c0/expr.png\" style=\"display:inline;vertical-align:middle;\" /></a></td></tr>\n",
       "<tr><td>6</td><td>Literal</td><td></td><td><a class=\"ProveItLink\" href=\"../../../../../logic/sets/membership/__pv_it/common/477487d8796864d23d5810f83761435f25167f690/expr.ipynb\"><img src=\"../../../../../logic/sets/membership/__pv_it/common/477487d8796864d23d5810f83761435f25167f690/expr.png\" style=\"display:inline;vertical-align:middle;\" /></a></td></tr>\n",
       "<tr><td>7</td><td>ExprTuple</td><td>8, 9</td><td><a class=\"ProveItLink\" href=\"../e2c6037b9be12a59043309f719bd487958d84a750/expr.ipynb\"><img src=\"../e2c6037b9be12a59043309f719bd487958d84a750/expr.png\" style=\"display:inline;vertical-align:middle;\" /></a></td></tr>\n",
       "<tr><td>8</td><td>IndexedVar</td><td>variable:&nbsp;10<br>index:&nbsp;11<br></td><td><a class=\"ProveItLink\" href=\"../../common/f681df6fb605ce8291706246aae6a0f76d99276a0/expr.ipynb\"><img src=\"../../common/f681df6fb605ce8291706246aae6a0f76d99276a0/expr.png\" style=\"display:inline;vertical-align:middle;\" /></a></td></tr>\n",
       "<tr><td>9</td><td>Operation</td><td>operator:&nbsp;12<br>operands:&nbsp;13<br></td><td><a class=\"ProveItLink\" href=\"../../common/56ac7224a99f89faa546f605ca9f5fbb530394ec0/expr.ipynb\"><img src=\"../../common/56ac7224a99f89faa546f605ca9f5fbb530394ec0/expr.png\" style=\"display:inline;vertical-align:middle;\" /></a></td></tr>\n",
       "<tr><td>10</td><td>Variable</td><td></td><td><a class=\"ProveItLink\" href=\"../../../../../__pv_it/common/9528518515ad3a418953b148d1d0eb3372f91f130/expr.ipynb\"><img src=\"../../../../../__pv_it/common/9528518515ad3a418953b148d1d0eb3372f91f130/expr.png\" style=\"display:inline;vertical-align:middle;\" /></a></td></tr>\n",
       "<tr><td>11</td><td>Variable</td><td></td><td><a class=\"ProveItLink\" href=\"../../common/006c465e50948aa2b52285e2de47974f741255cc0/expr.ipynb\"><img src=\"../../common/006c465e50948aa2b52285e2de47974f741255cc0/expr.png\" style=\"display:inline;vertical-align:middle;\" /></a></td></tr>\n",
       "<tr><td>12</td><td>Literal</td><td></td><td><a class=\"ProveItLink\" href=\"../../../../../logic/sets/enumeration/__pv_it/common/0ead90ccbf4f17bc585a51f8aa904bb77916ae6e0/expr.ipynb\"><img src=\"../../../../../logic/sets/enumeration/__pv_it/common/0ead90ccbf4f17bc585a51f8aa904bb77916ae6e0/expr.png\" style=\"display:inline;vertical-align:middle;\" /></a></td></tr>\n",
       "<tr><td>13</td><td>ExprTuple</td><td>14, 15, 16</td><td><a class=\"ProveItLink\" href=\"../../common/1229e0fc266893c104bb5323929ab4d7a03a070c0/expr.ipynb\"><img src=\"../../common/1229e0fc266893c104bb5323929ab4d7a03a070c0/expr.png\" style=\"display:inline;vertical-align:middle;\" /></a></td></tr>\n",
       "<tr><td>14</td><td>Literal</td><td></td><td><a class=\"ProveItLink\" href=\"../../common/fa503ed52033522c609eef1cf3e1b45796489da50/expr.ipynb\"><img src=\"../../common/fa503ed52033522c609eef1cf3e1b45796489da50/expr.png\" style=\"display:inline;vertical-align:middle;\" /></a></td></tr>\n",
       "<tr><td>15</td><td>Literal</td><td></td><td><a class=\"ProveItLink\" href=\"../../common/68379698d72b4689bbda4b5c5cca29ee599d70280/expr.ipynb\"><img src=\"../../common/68379698d72b4689bbda4b5c5cca29ee599d70280/expr.png\" style=\"display:inline;vertical-align:middle;\" /></a></td></tr>\n",
       "<tr><td>16</td><td>Literal</td><td></td><td><a class=\"ProveItLink\" href=\"../../../../../logic/equality/__pv_it/common/fb96dc12b2aa8801dda64d0132b396c63d1502bb0/expr.ipynb\"><img src=\"../../../../../logic/equality/__pv_it/common/fb96dc12b2aa8801dda64d0132b396c63d1502bb0/expr.png\" style=\"display:inline;vertical-align:middle;\" /></a></td></tr>\n",
       "</table>\n"
      ],
      "text/plain": [
       "0. (rho_{1} in {<, <=, =}, ..rho_{_a} in {<, <=, =}.., rho_{n} in {<, <=, =})\n",
       "   core type: ExprTuple\n",
       "   sub-expressions: 1\n",
       "1. (rho_{1} in {<, <=, =}), ..(rho_{_a} in {<, <=, =}).., (rho_{n} in {<, <=, =})\n",
       "   core type: ExprRange\n",
       "   lambda_map: 2\n",
       "   start_index: 3\n",
       "   end_index: 4\n",
       "2. _a -> (rho_{_a} in {<, <=, =})\n",
       "   core type: Lambda\n",
       "   parameter: 11\n",
       "   body: 5\n",
       "3. 1\n",
       "   core type: Literal\n",
       "   sub-expressions: \n",
       "4. n\n",
       "   core type: Variable\n",
       "   sub-expressions: \n",
       "5. rho_{_a} in {<, <=, =}\n",
       "   core type: Operation\n",
       "   operator: 6\n",
       "   operands: 7\n",
       "6. in\n",
       "   core type: Literal\n",
       "   sub-expressions: \n",
       "7. (rho_{_a}, {<, <=, =})\n",
       "   core type: ExprTuple\n",
       "   sub-expressions: 8, 9\n",
       "8. rho_{_a}\n",
       "   core type: IndexedVar\n",
       "variable: 10\n",
       "index: 11\n",
       "9. {<, <=, =}\n",
       "   core type: Operation\n",
       "   operator: 12\n",
       "   operands: 13\n",
       "10. rho\n",
       "    core type: Variable\n",
       "    sub-expressions: \n",
       "11. _a\n",
       "    core type: Variable\n",
       "    sub-expressions: \n",
       "12. Set\n",
       "    core type: Literal\n",
       "    sub-expressions: \n",
       "13. (<, <=, =)\n",
       "    core type: ExprTuple\n",
       "    sub-expressions: 14, 15, 16\n",
       "14. <\n",
       "    core type: Literal\n",
       "    sub-expressions: \n",
       "15. <=\n",
       "    core type: Literal\n",
       "    sub-expressions: \n",
       "16. =\n",
       "    core type: Literal\n",
       "    sub-expressions: "
      ]
     },
     "execution_count": 5,
     "metadata": {},
     "output_type": "execute_result"
    }
   ],
   "source": [
    "# display the expression information\n",
    "expr.expr_info()"
   ]
  },
  {
   "cell_type": "code",
   "execution_count": null,
   "metadata": {},
   "outputs": [],
   "source": []
  }
 ],
 "metadata": {
  "kernelspec": {
   "display_name": "Python 3",
   "language": "python",
   "name": "python3"
  }
 },
 "nbformat": 4,
 "nbformat_minor": 0
}