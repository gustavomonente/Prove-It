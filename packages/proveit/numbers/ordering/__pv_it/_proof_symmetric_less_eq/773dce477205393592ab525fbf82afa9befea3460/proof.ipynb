{
 "cells": [
  {
   "cell_type": "markdown",
   "metadata": {},
   "source": [
    "Show the Proof\n",
    "========"
   ]
  },
  {
   "cell_type": "code",
   "execution_count": 1,
   "metadata": {},
   "outputs": [
    {
     "data": {
      "text/html": [
       "<table><tr><th>&nbsp;</th><th>step type</th><th>requirements</th><th>statement</th></tr>\n",
       "<tr><td><a name=\"proveit.numbers.ordering._proof_symmetric_less_eq.773dce477205393592ab525fbf82afa9befea3460_step0\">0</a></td><td>instantiation</td><td><a href=\"#proveit.numbers.ordering._proof_symmetric_less_eq.773dce477205393592ab525fbf82afa9befea3460_step1\">1</a>, <a href=\"#proveit.numbers.ordering._proof_symmetric_less_eq.773dce477205393592ab525fbf82afa9befea3460_step2\">2</a></td><td><span style=\"font-size:20px;\"><a class=\"ProveItLink\" href=\"../../theorems/56015d2d0ef23417d37f8e4490c1125183e47b350/expr.ipynb\"><img src=\"../../theorems/56015d2d0ef23417d37f8e4490c1125183e47b350/expr.png\" style=\"display:inline;vertical-align:middle;\" /></a>, <a class=\"ProveItLink\" href=\"../41da07a3310a9652e950fab41d6540aa569f642e0/expr.ipynb\"><img src=\"../41da07a3310a9652e950fab41d6540aa569f642e0/expr.png\" style=\"display:inline;vertical-align:middle;\" /></a> <a class=\"ProveItLink\" href=\"proof.ipynb\" style=\"text-decoration: none\">&nbsp;&#x22A2;&nbsp;&nbsp;</a><a class=\"ProveItLink\" href=\"../90b5203308075d3afc67b8187044a0bd01b829cc0/expr.ipynb\"><img src=\"../90b5203308075d3afc67b8187044a0bd01b829cc0/expr.png\" style=\"display:inline;vertical-align:middle;\" /></a></span></td></tr>\n",
       "<tr><td>&nbsp;</td><td colspan=4 style=\"text-align:left\"><span style=\"font-size:20px;\"><a class=\"ProveItLink\" href=\"../../../../../__pv_it/common/e4aad701f7f5516d8e7f0d805d518bf02c13322a0/expr.ipynb\"><img src=\"../../../../../__pv_it/common/e4aad701f7f5516d8e7f0d805d518bf02c13322a0/expr.png\" style=\"display:inline;vertical-align:middle;\" /></a> : <a class=\"ProveItLink\" href=\"../26886d616047ae8f93b6d85c6b6d422dcd0b2bc60/expr.ipynb\"><img src=\"../26886d616047ae8f93b6d85c6b6d422dcd0b2bc60/expr.png\" style=\"display:inline;vertical-align:middle;\" /></a></span></td></tr><tr><td><a name=\"proveit.numbers.ordering._proof_symmetric_less_eq.773dce477205393592ab525fbf82afa9befea3460_step1\">1</a></td><td>axiom</td><td></td><td><span style=\"font-size:20px;\"> <a class=\"ProveItLink\" href=\"../../../../../logic/booleans/negation/_theory_nbs_/axioms.ipynb#negation_elim\" style=\"text-decoration: none\">&nbsp;&#x22A2;&nbsp;&nbsp;</a><a class=\"ProveItLink\" href=\"../../../../../logic/booleans/negation/__pv_it/axioms/8b230bef1238f6f2a4e697102186a20733df080f0/expr.ipynb\"><img src=\"../../../../../logic/booleans/negation/__pv_it/axioms/8b230bef1238f6f2a4e697102186a20733df080f0/expr.png\" style=\"display:inline;vertical-align:middle;\" /></a></span></td></tr>\n",
       "<tr><td>&nbsp;</td><td colspan=4 style-\"text-align:left\"><a class=\"ProveItLink\" href=\"../../../../../logic/booleans/negation/_theory_nbs_/axioms.ipynb#negation_elim\">proveit.logic.booleans.negation.negation_elim</a></td></tr><tr><td><a name=\"proveit.numbers.ordering._proof_symmetric_less_eq.773dce477205393592ab525fbf82afa9befea3460_step2\">2</a></td><td>instantiation</td><td><a href=\"#proveit.numbers.ordering._proof_symmetric_less_eq.773dce477205393592ab525fbf82afa9befea3460_step3\">3</a>, <a href=\"#proveit.numbers.ordering._proof_symmetric_less_eq.773dce477205393592ab525fbf82afa9befea3460_step4\">4</a>, <a href=\"#proveit.numbers.ordering._proof_symmetric_less_eq.773dce477205393592ab525fbf82afa9befea3460_step5\">5</a></td><td><span style=\"font-size:20px;\"><a class=\"ProveItLink\" href=\"../../theorems/56015d2d0ef23417d37f8e4490c1125183e47b350/expr.ipynb\"><img src=\"../../theorems/56015d2d0ef23417d37f8e4490c1125183e47b350/expr.png\" style=\"display:inline;vertical-align:middle;\" /></a>, <a class=\"ProveItLink\" href=\"../41da07a3310a9652e950fab41d6540aa569f642e0/expr.ipynb\"><img src=\"../41da07a3310a9652e950fab41d6540aa569f642e0/expr.png\" style=\"display:inline;vertical-align:middle;\" /></a> <a class=\"ProveItLink\" href=\"../c3160ceacf48af8c3a1b7ff8ecbf36e3af839a890/proof.ipynb\" style=\"text-decoration: none\">&nbsp;&#x22A2;&nbsp;&nbsp;</a><a class=\"ProveItLink\" href=\"../c1b683a064ab8cd96b4b32d24f0e615369ccf4710/expr.ipynb\"><img src=\"../c1b683a064ab8cd96b4b32d24f0e615369ccf4710/expr.png\" style=\"display:inline;vertical-align:middle;\" /></a></span></td></tr>\n",
       "<tr><td>&nbsp;</td><td colspan=4 style=\"text-align:left\"><span style=\"font-size:20px;\"><a class=\"ProveItLink\" href=\"../../../../../__pv_it/common/e4aad701f7f5516d8e7f0d805d518bf02c13322a0/expr.ipynb\"><img src=\"../../../../../__pv_it/common/e4aad701f7f5516d8e7f0d805d518bf02c13322a0/expr.png\" style=\"display:inline;vertical-align:middle;\" /></a> : <a class=\"ProveItLink\" href=\"../../theorems/56015d2d0ef23417d37f8e4490c1125183e47b350/expr.ipynb\"><img src=\"../../theorems/56015d2d0ef23417d37f8e4490c1125183e47b350/expr.png\" style=\"display:inline;vertical-align:middle;\" /></a>, <a class=\"ProveItLink\" href=\"../../../../../__pv_it/common/4eca3b30dcf58a58494e201d1b7886d8643a617b0/expr.ipynb\"><img src=\"../../../../../__pv_it/common/4eca3b30dcf58a58494e201d1b7886d8643a617b0/expr.png\" style=\"display:inline;vertical-align:middle;\" /></a> : <a class=\"ProveItLink\" href=\"../28574014ebfed17fff681e0fd27a8468bc853eaa0/expr.ipynb\"><img src=\"../28574014ebfed17fff681e0fd27a8468bc853eaa0/expr.png\" style=\"display:inline;vertical-align:middle;\" /></a></span></td></tr><tr><td><a name=\"proveit.numbers.ordering._proof_symmetric_less_eq.773dce477205393592ab525fbf82afa9befea3460_step3\">3</a></td><td>theorem</td><td></td><td><span style=\"font-size:20px;\"> <a class=\"ProveItLink\" href=\"../../../../../logic/booleans/conjunction/_theory_nbs_/proofs/nand_if_left_but_not_right/thm_proof.ipynb\" style=\"text-decoration: none\">&nbsp;&#x22A2;&nbsp;&nbsp;</a><a class=\"ProveItLink\" href=\"../../../../../logic/booleans/conjunction/__pv_it/theorems/1dfe28165023bfd0397c8b424dbdf8bc0fbf18010/expr.ipynb\"><img src=\"../../../../../logic/booleans/conjunction/__pv_it/theorems/1dfe28165023bfd0397c8b424dbdf8bc0fbf18010/expr.png\" style=\"display:inline;vertical-align:middle;\" /></a></span></td></tr>\n",
       "<tr><td>&nbsp;</td><td colspan=4 style-\"text-align:left\"><a class=\"ProveItLink\" href=\"../../../../../logic/booleans/conjunction/_theory_nbs_/proofs/nand_if_left_but_not_right/thm_proof.ipynb\">proveit.logic.booleans.conjunction.nand_if_left_but_not_right</a></td></tr><tr><td><a name=\"proveit.numbers.ordering._proof_symmetric_less_eq.773dce477205393592ab525fbf82afa9befea3460_step4\">4</a></td><td>assumption</td><td></td><td><span style=\"font-size:20px;\"><a class=\"ProveItLink\" href=\"../../theorems/56015d2d0ef23417d37f8e4490c1125183e47b350/expr.ipynb\"><img src=\"../../theorems/56015d2d0ef23417d37f8e4490c1125183e47b350/expr.png\" style=\"display:inline;vertical-align:middle;\" /></a> <a class=\"ProveItLink\" href=\"../f80729d27593c9c02049836995d8ec07f6fc062d0/proof.ipynb\" style=\"text-decoration: none\">&nbsp;&#x22A2;&nbsp;&nbsp;</a><a class=\"ProveItLink\" href=\"../../theorems/56015d2d0ef23417d37f8e4490c1125183e47b350/expr.ipynb\"><img src=\"../../theorems/56015d2d0ef23417d37f8e4490c1125183e47b350/expr.png\" style=\"display:inline;vertical-align:middle;\" /></a></span></td></tr>\n",
       "<tr><td><a name=\"proveit.numbers.ordering._proof_symmetric_less_eq.773dce477205393592ab525fbf82afa9befea3460_step5\">5</a></td><td>assumption</td><td></td><td><span style=\"font-size:20px;\"><a class=\"ProveItLink\" href=\"../41da07a3310a9652e950fab41d6540aa569f642e0/expr.ipynb\"><img src=\"../41da07a3310a9652e950fab41d6540aa569f642e0/expr.png\" style=\"display:inline;vertical-align:middle;\" /></a> <a class=\"ProveItLink\" href=\"../f62bfe01c34e0222c2d0c172163fe2dcc307c5ef0/proof.ipynb\" style=\"text-decoration: none\">&nbsp;&#x22A2;&nbsp;&nbsp;</a><a class=\"ProveItLink\" href=\"../41da07a3310a9652e950fab41d6540aa569f642e0/expr.ipynb\"><img src=\"../41da07a3310a9652e950fab41d6540aa569f642e0/expr.png\" style=\"display:inline;vertical-align:middle;\" /></a></span></td></tr>\n",
       "</table>"
      ],
      "text/plain": [
       "<proveit._core_.proof._ShowProof at 0x7f578df0bbe0>"
      ]
     },
     "execution_count": 1,
     "metadata": {},
     "output_type": "execute_result"
    }
   ],
   "source": [
    "import proveit\n",
    "# Automation is not needed when only showing a stored proof:\n",
    "proveit.defaults.automation = False # This will speed things up.\n",
    "proveit.defaults.inline_pngs = False # Makes files smaller.\n",
    "%show_proof"
   ]
  },
  {
   "cell_type": "code",
   "execution_count": null,
   "metadata": {},
   "outputs": [],
   "source": []
  }
 ],
 "metadata": {
  "kernelspec": {
   "display_name": "Python 3",
   "language": "python",
   "name": "python3"
  },
  "language_info": {
   "codemirror_mode": {
    "name": "ipython",
    "version": 3
   },
   "file_extension": ".py",
   "mimetype": "text/x-python",
   "name": "python",
   "nbconvert_exporter": "python",
   "pygments_lexer": "ipython3",
   "version": "3.7.3"
  }
 },
 "nbformat": 4,
 "nbformat_minor": 1
}