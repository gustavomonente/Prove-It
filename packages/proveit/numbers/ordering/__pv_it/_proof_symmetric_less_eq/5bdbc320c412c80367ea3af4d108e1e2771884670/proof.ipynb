{
 "cells": [
  {
   "cell_type": "markdown",
   "metadata": {},
   "source": [
    "Show the Proof\n",
    "========"
   ]
  },
  {
   "cell_type": "code",
   "execution_count": 1,
   "metadata": {},
   "outputs": [
    {
     "data": {
      "text/html": [
       "<table><tr><th>&nbsp;</th><th>step type</th><th>requirements</th><th>statement</th></tr>\n",
       "<tr><td><a name=\"proveit.numbers.ordering._proof_symmetric_less_eq.5bdbc320c412c80367ea3af4d108e1e2771884670_step0\">0</a></td><td>deduction</td><td><a href=\"#proveit.numbers.ordering._proof_symmetric_less_eq.5bdbc320c412c80367ea3af4d108e1e2771884670_step1\">1</a></td><td><span style=\"font-size:20px;\"><a class=\"ProveItLink\" href=\"../../../../../logic/equality/__pv_it/theorems/b381076256fdaacc6be2bb25e5593a81e2fbc0910/expr.ipynb\"><img src=\"../../../../../logic/equality/__pv_it/theorems/b381076256fdaacc6be2bb25e5593a81e2fbc0910/expr.png\" style=\"display:inline;vertical-align:middle;\" /></a> <a class=\"ProveItLink\" href=\"proof.ipynb\" style=\"text-decoration: none\">&nbsp;&#x22A2;&nbsp;&nbsp;</a><a class=\"ProveItLink\" href=\"../61021ed572440be33235ecc9112a28b8cba751520/expr.ipynb\"><img src=\"../61021ed572440be33235ecc9112a28b8cba751520/expr.png\" style=\"display:inline;vertical-align:middle;\" /></a></span></td></tr>\n",
       "<tr><td><a name=\"proveit.numbers.ordering._proof_symmetric_less_eq.5bdbc320c412c80367ea3af4d108e1e2771884670_step1\">1</a></td><td>instantiation</td><td><a href=\"#proveit.numbers.ordering._proof_symmetric_less_eq.5bdbc320c412c80367ea3af4d108e1e2771884670_step2\">2</a>, <a href=\"#proveit.numbers.ordering._proof_symmetric_less_eq.5bdbc320c412c80367ea3af4d108e1e2771884670_step3\">3</a></td><td><span style=\"font-size:20px;\"><a class=\"ProveItLink\" href=\"../../../../../logic/equality/__pv_it/theorems/b381076256fdaacc6be2bb25e5593a81e2fbc0910/expr.ipynb\"><img src=\"../../../../../logic/equality/__pv_it/theorems/b381076256fdaacc6be2bb25e5593a81e2fbc0910/expr.png\" style=\"display:inline;vertical-align:middle;\" /></a> <a class=\"ProveItLink\" href=\"../3f029ed1b9a28ab51bb5935774fb5b22b21f26a50/proof.ipynb\" style=\"text-decoration: none\">&nbsp;&#x22A2;&nbsp;&nbsp;</a><a class=\"ProveItLink\" href=\"../../axioms/4c5fddb2997f6af0cc3be30e98efa89f8d0609040/expr.ipynb\"><img src=\"../../axioms/4c5fddb2997f6af0cc3be30e98efa89f8d0609040/expr.png\" style=\"display:inline;vertical-align:middle;\" /></a></span></td></tr>\n",
       "<tr><td>&nbsp;</td><td colspan=4 style=\"text-align:left\"><span style=\"font-size:20px;\"><a class=\"ProveItLink\" href=\"../../../../../__pv_it/common/a2581dc5df71d9a30bad37de14965fa5fec97a240/expr.ipynb\"><img src=\"../../../../../__pv_it/common/a2581dc5df71d9a30bad37de14965fa5fec97a240/expr.png\" style=\"display:inline;vertical-align:middle;\" /></a> : <a class=\"ProveItLink\" href=\"../../../../../__pv_it/common/0f21cbfd5644a1cae6781c1d58354abc2ffbc9000/expr.ipynb\"><img src=\"../../../../../__pv_it/common/0f21cbfd5644a1cae6781c1d58354abc2ffbc9000/expr.png\" style=\"display:inline;vertical-align:middle;\" /></a>, <a class=\"ProveItLink\" href=\"../../../../../__pv_it/common/0f21cbfd5644a1cae6781c1d58354abc2ffbc9000/expr.ipynb\"><img src=\"../../../../../__pv_it/common/0f21cbfd5644a1cae6781c1d58354abc2ffbc9000/expr.png\" style=\"display:inline;vertical-align:middle;\" /></a> : <a class=\"ProveItLink\" href=\"../../../../../__pv_it/common/a2581dc5df71d9a30bad37de14965fa5fec97a240/expr.ipynb\"><img src=\"../../../../../__pv_it/common/a2581dc5df71d9a30bad37de14965fa5fec97a240/expr.png\" style=\"display:inline;vertical-align:middle;\" /></a></span></td></tr><tr><td><a name=\"proveit.numbers.ordering._proof_symmetric_less_eq.5bdbc320c412c80367ea3af4d108e1e2771884670_step2\">2</a></td><td>theorem</td><td></td><td><span style=\"font-size:20px;\"> <a class=\"ProveItLink\" href=\"../../../../../logic/equality/_theory_nbs_/proofs/equals_reversal/thm_proof.ipynb\" style=\"text-decoration: none\">&nbsp;&#x22A2;&nbsp;&nbsp;</a><a class=\"ProveItLink\" href=\"../../../../../logic/equality/__pv_it/theorems/dc152814dc196fecb1397c6db676c4086227b8ad0/expr.ipynb\"><img src=\"../../../../../logic/equality/__pv_it/theorems/dc152814dc196fecb1397c6db676c4086227b8ad0/expr.png\" style=\"display:inline;vertical-align:middle;\" /></a></span></td></tr>\n",
       "<tr><td>&nbsp;</td><td colspan=4 style-\"text-align:left\"><a class=\"ProveItLink\" href=\"../../../../../logic/equality/_theory_nbs_/proofs/equals_reversal/thm_proof.ipynb\">proveit.logic.equality.equals_reversal</a></td></tr><tr><td><a name=\"proveit.numbers.ordering._proof_symmetric_less_eq.5bdbc320c412c80367ea3af4d108e1e2771884670_step3\">3</a></td><td>assumption</td><td></td><td><span style=\"font-size:20px;\"><a class=\"ProveItLink\" href=\"../../../../../logic/equality/__pv_it/theorems/b381076256fdaacc6be2bb25e5593a81e2fbc0910/expr.ipynb\"><img src=\"../../../../../logic/equality/__pv_it/theorems/b381076256fdaacc6be2bb25e5593a81e2fbc0910/expr.png\" style=\"display:inline;vertical-align:middle;\" /></a> <a class=\"ProveItLink\" href=\"../89bd36dcd55b183a2abc1d8ab2f0a77b5b74a5e00/proof.ipynb\" style=\"text-decoration: none\">&nbsp;&#x22A2;&nbsp;&nbsp;</a><a class=\"ProveItLink\" href=\"../../../../../logic/equality/__pv_it/theorems/b381076256fdaacc6be2bb25e5593a81e2fbc0910/expr.ipynb\"><img src=\"../../../../../logic/equality/__pv_it/theorems/b381076256fdaacc6be2bb25e5593a81e2fbc0910/expr.png\" style=\"display:inline;vertical-align:middle;\" /></a></span></td></tr>\n",
       "</table>"
      ],
      "text/plain": [
       "<proveit._core_.proof._ShowProof at 0x7f8d9bf41128>"
      ]
     },
     "execution_count": 1,
     "metadata": {},
     "output_type": "execute_result"
    }
   ],
   "source": [
    "import proveit\n",
    "# Automation is not needed when only showing a stored proof:\n",
    "proveit.defaults.automation = False # This will speed things up.\n",
    "proveit.defaults.inline_pngs = False # Makes files smaller.\n",
    "%show_proof"
   ]
  },
  {
   "cell_type": "code",
   "execution_count": null,
   "metadata": {},
   "outputs": [],
   "source": []
  }
 ],
 "metadata": {
  "kernelspec": {
   "display_name": "Python 3",
   "language": "python",
   "name": "python3"
  },
  "language_info": {
   "codemirror_mode": {
    "name": "ipython",
    "version": 3
   },
   "file_extension": ".py",
   "mimetype": "text/x-python",
   "name": "python",
   "nbconvert_exporter": "python",
   "pygments_lexer": "ipython3",
   "version": "3.7.3"
  }
 },
 "nbformat": 4,
 "nbformat_minor": 1
}