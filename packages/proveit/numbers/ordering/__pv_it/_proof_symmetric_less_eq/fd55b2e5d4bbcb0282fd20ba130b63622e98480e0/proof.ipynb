{
 "cells": [
  {
   "cell_type": "markdown",
   "metadata": {},
   "source": [
    "Show the Proof\n",
    "========"
   ]
  },
  {
   "cell_type": "code",
   "execution_count": 1,
   "metadata": {},
   "outputs": [
    {
     "data": {
      "text/html": [
       "<table><tr><th>&nbsp;</th><th>step type</th><th>requirements</th><th>statement</th></tr>\n",
       "<tr><td><a name=\"proveit.numbers.ordering._proof_symmetric_less_eq.fd55b2e5d4bbcb0282fd20ba130b63622e98480e0_step0\">0</a></td><td>instantiation</td><td><a href=\"#proveit.numbers.ordering._proof_symmetric_less_eq.fd55b2e5d4bbcb0282fd20ba130b63622e98480e0_step1\">1</a>, <a href=\"#proveit.numbers.ordering._proof_symmetric_less_eq.fd55b2e5d4bbcb0282fd20ba130b63622e98480e0_step2\">2</a>, <a href=\"#proveit.numbers.ordering._proof_symmetric_less_eq.fd55b2e5d4bbcb0282fd20ba130b63622e98480e0_step3\">3</a></td><td><span style=\"font-size:20px;\"><a class=\"ProveItLink\" href=\"../../theorems/95a014f553c171661f83a33e9bb3500ba72bae240/expr.ipynb\"><img src=\"../../theorems/95a014f553c171661f83a33e9bb3500ba72bae240/expr.png\" style=\"display:inline;vertical-align:middle;\" /></a>, <a class=\"ProveItLink\" href=\"../1d718b48ab13c21e4fe284c830c2a78eb1a7f9b70/expr.ipynb\"><img src=\"../1d718b48ab13c21e4fe284c830c2a78eb1a7f9b70/expr.png\" style=\"display:inline;vertical-align:middle;\" /></a> <a class=\"ProveItLink\" href=\"proof.ipynb\" style=\"text-decoration: none\">&nbsp;&#x22A2;&nbsp;&nbsp;</a><a class=\"ProveItLink\" href=\"../b8a078fba7285c76e550a043ef83adfa8fca80080/expr.ipynb\"><img src=\"../b8a078fba7285c76e550a043ef83adfa8fca80080/expr.png\" style=\"display:inline;vertical-align:middle;\" /></a></span></td></tr>\n",
       "<tr><td>&nbsp;</td><td colspan=4 style=\"text-align:left\"><span style=\"font-size:20px;\"><a class=\"ProveItLink\" href=\"../../../../../__pv_it/common/09585084922504426caf1db2ff588a23a0932a960/expr.ipynb\"><img src=\"../../../../../__pv_it/common/09585084922504426caf1db2ff588a23a0932a960/expr.png\" style=\"display:inline;vertical-align:middle;\" /></a> : <a class=\"ProveItLink\" href=\"../../theorems/95a014f553c171661f83a33e9bb3500ba72bae240/expr.ipynb\"><img src=\"../../theorems/95a014f553c171661f83a33e9bb3500ba72bae240/expr.png\" style=\"display:inline;vertical-align:middle;\" /></a>, <a class=\"ProveItLink\" href=\"../../../../../__pv_it/common/a9162d1c3cc0470c02e5daf414500903a7a419230/expr.ipynb\"><img src=\"../../../../../__pv_it/common/a9162d1c3cc0470c02e5daf414500903a7a419230/expr.png\" style=\"display:inline;vertical-align:middle;\" /></a> : <a class=\"ProveItLink\" href=\"../../theorems/851392b6f273e0cbcf1bc7828c98c2cf9db6bb7a0/expr.ipynb\"><img src=\"../../theorems/851392b6f273e0cbcf1bc7828c98c2cf9db6bb7a0/expr.png\" style=\"display:inline;vertical-align:middle;\" /></a></span></td></tr><tr><td><a name=\"proveit.numbers.ordering._proof_symmetric_less_eq.fd55b2e5d4bbcb0282fd20ba130b63622e98480e0_step1\">1</a></td><td>theorem</td><td></td><td><span style=\"font-size:20px;\"> <a class=\"ProveItLink\" href=\"../../../../../logic/booleans/conjunction/_theory_nbs_/proofs/nand_if_left_but_not_right/thm_proof.ipynb\" style=\"text-decoration: none\">&nbsp;&#x22A2;&nbsp;&nbsp;</a><a class=\"ProveItLink\" href=\"../../../../../logic/booleans/conjunction/__pv_it/theorems/a30cabccccf417b63570b317ea608093adb3db790/expr.ipynb\"><img src=\"../../../../../logic/booleans/conjunction/__pv_it/theorems/a30cabccccf417b63570b317ea608093adb3db790/expr.png\" style=\"display:inline;vertical-align:middle;\" /></a></span></td></tr>\n",
       "<tr><td>&nbsp;</td><td colspan=4 style-\"text-align:left\"><a class=\"ProveItLink\" href=\"../../../../../logic/booleans/conjunction/_theory_nbs_/proofs/nand_if_left_but_not_right/thm_proof.ipynb\">proveit.logic.booleans.conjunction.nand_if_left_but_not_right</a></td></tr><tr><td><a name=\"proveit.numbers.ordering._proof_symmetric_less_eq.fd55b2e5d4bbcb0282fd20ba130b63622e98480e0_step2\">2</a></td><td>assumption</td><td></td><td><span style=\"font-size:20px;\"><a class=\"ProveItLink\" href=\"../../theorems/95a014f553c171661f83a33e9bb3500ba72bae240/expr.ipynb\"><img src=\"../../theorems/95a014f553c171661f83a33e9bb3500ba72bae240/expr.png\" style=\"display:inline;vertical-align:middle;\" /></a> <a class=\"ProveItLink\" href=\"../cd9235f2fc72e5a009b7b5c89281a3a36db3b66f0/proof.ipynb\" style=\"text-decoration: none\">&nbsp;&#x22A2;&nbsp;&nbsp;</a><a class=\"ProveItLink\" href=\"../../theorems/95a014f553c171661f83a33e9bb3500ba72bae240/expr.ipynb\"><img src=\"../../theorems/95a014f553c171661f83a33e9bb3500ba72bae240/expr.png\" style=\"display:inline;vertical-align:middle;\" /></a></span></td></tr>\n",
       "<tr><td><a name=\"proveit.numbers.ordering._proof_symmetric_less_eq.fd55b2e5d4bbcb0282fd20ba130b63622e98480e0_step3\">3</a></td><td>assumption</td><td></td><td><span style=\"font-size:20px;\"><a class=\"ProveItLink\" href=\"../1d718b48ab13c21e4fe284c830c2a78eb1a7f9b70/expr.ipynb\"><img src=\"../1d718b48ab13c21e4fe284c830c2a78eb1a7f9b70/expr.png\" style=\"display:inline;vertical-align:middle;\" /></a> <a class=\"ProveItLink\" href=\"../6923b0edf7e862ceb64cef9251c5f35fceaed0ba0/proof.ipynb\" style=\"text-decoration: none\">&nbsp;&#x22A2;&nbsp;&nbsp;</a><a class=\"ProveItLink\" href=\"../1d718b48ab13c21e4fe284c830c2a78eb1a7f9b70/expr.ipynb\"><img src=\"../1d718b48ab13c21e4fe284c830c2a78eb1a7f9b70/expr.png\" style=\"display:inline;vertical-align:middle;\" /></a></span></td></tr>\n",
       "</table>"
      ],
      "text/plain": [
       "<proveit._core_.proof._ShowProof at 0x7f66a842b4e0>"
      ]
     },
     "execution_count": 1,
     "metadata": {},
     "output_type": "execute_result"
    }
   ],
   "source": [
    "import proveit\n",
    "# Automation is not needed when only showing a stored proof:\n",
    "proveit.defaults.automation = False # This will speed things up.\n",
    "proveit.defaults.inline_pngs = False # Makes files smaller.\n",
    "%show_proof"
   ]
  },
  {
   "cell_type": "code",
   "execution_count": null,
   "metadata": {},
   "outputs": [],
   "source": []
  }
 ],
 "metadata": {
  "kernelspec": {
   "display_name": "Python 3",
   "language": "python",
   "name": "python3"
  }
 },
 "nbformat": 4,
 "nbformat_minor": 0
}