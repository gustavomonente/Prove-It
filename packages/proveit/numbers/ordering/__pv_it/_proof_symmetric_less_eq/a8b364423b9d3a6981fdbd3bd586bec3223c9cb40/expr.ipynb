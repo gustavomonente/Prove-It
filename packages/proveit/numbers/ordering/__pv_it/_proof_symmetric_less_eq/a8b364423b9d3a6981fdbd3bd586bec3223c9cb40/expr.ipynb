{
 "cells": [
  {
   "cell_type": "markdown",
   "metadata": {},
   "source": [
    "Expression of type <a class=\"ProveItLink\" href=\"../../../../../../../doc/html/api/proveit.logic.Equals.html\">Equals</a>\n",
    "=======================\n",
    "# from the theory of <a class=\"ProveItLink\" href=\"../../../_theory_nbs_/theory.ipynb\">proveit.numbers.ordering</a>"
   ]
  },
  {
   "cell_type": "code",
   "execution_count": 1,
   "metadata": {},
   "outputs": [],
   "source": [
    "import proveit\n",
    "# Automation is not needed when building an expression:\n",
    "proveit.defaults.automation = False # This will speed things up.\n",
    "proveit.defaults.inline_pngs = False # Makes files smaller.\n",
    "%load_expr # Load the stored expression as 'stored_expr'\n",
    "# import Expression classes needed to build the expression\n",
    "from proveit import x, y\n",
    "from proveit.logic import And, Equals, FALSE\n",
    "from proveit.numbers import Less"
   ]
  },
  {
   "cell_type": "code",
   "execution_count": 2,
   "metadata": {},
   "outputs": [
    {
     "data": {
      "text/html": [
       "<strong id=\"expr\">expr:</strong> <a class=\"ProveItLink\" href=\"expr.ipynb\"><img src=\"expr.png\" style=\"display:inline;vertical-align:middle;\" /></a><br>"
      ],
      "text/plain": [
       "expr: ((x = y) and (y < x)) = FALSE"
      ]
     },
     "execution_count": 2,
     "metadata": {},
     "output_type": "execute_result"
    }
   ],
   "source": [
    "# build up the expression from sub-expressions\n",
    "expr = Equals(And(Equals(x, y), Less(y, x)), FALSE)"
   ]
  },
  {
   "cell_type": "code",
   "execution_count": 3,
   "metadata": {},
   "outputs": [
    {
     "name": "stdout",
     "output_type": "stream",
     "text": [
      "Passed sanity check: expr matches stored_expr\n"
     ]
    }
   ],
   "source": [
    "# check that the built expression is the same as the stored expression\n",
    "assert expr == stored_expr\n",
    "assert expr._style_id == stored_expr._style_id\n",
    "print(\"Passed sanity check: expr matches stored_expr\")"
   ]
  },
  {
   "cell_type": "code",
   "execution_count": 4,
   "metadata": {},
   "outputs": [
    {
     "name": "stdout",
     "output_type": "stream",
     "text": [
      "\\left(\\left(x = y\\right) \\land \\left(y < x\\right)\\right) = \\bot\n"
     ]
    }
   ],
   "source": [
    "# Show the LaTeX representation of the expression for convenience if you need it.\n",
    "print(expr.latex())"
   ]
  },
  {
   "cell_type": "code",
   "execution_count": 5,
   "metadata": {},
   "outputs": [
    {
     "data": {
      "text/html": [
       "<table>\n",
       "<tr><th>name</th><th>description</th><th>default</th><th>current value</th><th>related methods</th></tr><tr><td>operation</td><td>'infix' or 'function' style formatting</td><td>infix</td><td>infix</td><td></td></tr>\n",
       "<tr><td>wrap_positions</td><td>position(s) at which wrapping is to occur; '2 n - 1' is after the nth operand, '2 n' is after the nth operation.</td><td>()</td><td>()</td><td>('with_wrapping_at', 'with_wrap_before_operator', 'with_wrap_after_operator', 'wrap_positions')</td></tr>\n",
       "<tr><td>justification</td><td>if any wrap positions are set, justify to the 'left', 'center', or 'right'</td><td>center</td><td>center</td><td>('with_justification',)</td></tr>\n",
       "<tr><td>direction</td><td>Direction of the relation (normal or reversed)</td><td>normal</td><td>normal</td><td>('with_direction_reversed', 'is_reversed')</td></tr>\n",
       "</table>\n"
      ],
      "text/plain": [
       "style name: operation\n",
       "description: 'infix' or 'function' style formatting\n",
       "default: infix\n",
       "current value: infix\n",
       "related methods: ()\n",
       "style name: wrap_positions\n",
       "description: position(s) at which wrapping is to occur; '2 n - 1' is after the nth operand, '2 n' is after the nth operation.\n",
       "default: ()\n",
       "current value: ()\n",
       "related methods: ('with_wrapping_at', 'with_wrap_before_operator', 'with_wrap_after_operator', 'wrap_positions')\n",
       "style name: justification\n",
       "description: if any wrap positions are set, justify to the 'left', 'center', or 'right'\n",
       "default: center\n",
       "current value: center\n",
       "related methods: ('with_justification',)\n",
       "style name: direction\n",
       "description: Direction of the relation (normal or reversed)\n",
       "default: normal\n",
       "current value: normal\n",
       "related methods: ('with_direction_reversed', 'is_reversed')"
      ]
     },
     "execution_count": 5,
     "metadata": {},
     "output_type": "execute_result"
    }
   ],
   "source": [
    "expr.style_options()"
   ]
  },
  {
   "cell_type": "code",
   "execution_count": 6,
   "metadata": {},
   "outputs": [
    {
     "data": {
      "text/html": [
       "<table><tr><th>&nbsp;</th><th>core type</th><th>sub-expressions</th><th>expression</th></tr>\n",
       "<tr><td>0</td><td>Operation</td><td>operator:&nbsp;8<br>operands:&nbsp;1<br></td><td><a class=\"ProveItLink\" href=\"expr.ipynb\"><img src=\"expr.png\" style=\"display:inline;vertical-align:middle;\" /></a></td></tr>\n",
       "<tr><td>1</td><td>ExprTuple</td><td>2, 3</td><td><a class=\"ProveItLink\" href=\"../c5e647bf270afdfb35e7afd73a5b902747fc05320/expr.ipynb\"><img src=\"../c5e647bf270afdfb35e7afd73a5b902747fc05320/expr.png\" style=\"display:inline;vertical-align:middle;\" /></a></td></tr>\n",
       "<tr><td>2</td><td>Operation</td><td>operator:&nbsp;4<br>operands:&nbsp;5<br></td><td><a class=\"ProveItLink\" href=\"../0f9d2ef377e6a2cf1170fe063334758235c536f60/expr.ipynb\"><img src=\"../0f9d2ef377e6a2cf1170fe063334758235c536f60/expr.png\" style=\"display:inline;vertical-align:middle;\" /></a></td></tr>\n",
       "<tr><td>3</td><td>Literal</td><td></td><td><a class=\"ProveItLink\" href=\"../../../../../logic/booleans/__pv_it/common/bc5c31e39ae582b67c89fb24025b57f5b995e8890/expr.ipynb\"><img src=\"../../../../../logic/booleans/__pv_it/common/bc5c31e39ae582b67c89fb24025b57f5b995e8890/expr.png\" style=\"display:inline;vertical-align:middle;\" /></a></td></tr>\n",
       "<tr><td>4</td><td>Literal</td><td></td><td><a class=\"ProveItLink\" href=\"../../../../../logic/booleans/conjunction/__pv_it/common/26b94b53e70b1d77b70f0d9d4236347db37731060/expr.ipynb\"><img src=\"../../../../../logic/booleans/conjunction/__pv_it/common/26b94b53e70b1d77b70f0d9d4236347db37731060/expr.png\" style=\"display:inline;vertical-align:middle;\" /></a></td></tr>\n",
       "<tr><td>5</td><td>ExprTuple</td><td>6, 7</td><td><a class=\"ProveItLink\" href=\"../849df5d5d6e1794d30dca3ba6f7f9239e38de6fc0/expr.ipynb\"><img src=\"../849df5d5d6e1794d30dca3ba6f7f9239e38de6fc0/expr.png\" style=\"display:inline;vertical-align:middle;\" /></a></td></tr>\n",
       "<tr><td>6</td><td>Operation</td><td>operator:&nbsp;8<br>operands:&nbsp;9<br></td><td><a class=\"ProveItLink\" href=\"../../../../../logic/equality/__pv_it/theorems/a6d028e83ce4b7fcedd4d350db3e7291f14a07460/expr.ipynb\"><img src=\"../../../../../logic/equality/__pv_it/theorems/a6d028e83ce4b7fcedd4d350db3e7291f14a07460/expr.png\" style=\"display:inline;vertical-align:middle;\" /></a></td></tr>\n",
       "<tr><td>7</td><td>Operation</td><td>operator:&nbsp;10<br>operands:&nbsp;11<br></td><td><a class=\"ProveItLink\" href=\"../28574014ebfed17fff681e0fd27a8468bc853eaa0/expr.ipynb\"><img src=\"../28574014ebfed17fff681e0fd27a8468bc853eaa0/expr.png\" style=\"display:inline;vertical-align:middle;\" /></a></td></tr>\n",
       "<tr><td>8</td><td>Literal</td><td></td><td><a class=\"ProveItLink\" href=\"../../../../../logic/equality/__pv_it/common/731dd3955b346c1320ed5c0ba7a618bcda61457d0/expr.ipynb\"><img src=\"../../../../../logic/equality/__pv_it/common/731dd3955b346c1320ed5c0ba7a618bcda61457d0/expr.png\" style=\"display:inline;vertical-align:middle;\" /></a></td></tr>\n",
       "<tr><td>9</td><td>ExprTuple</td><td>13, 12</td><td><a class=\"ProveItLink\" href=\"../../../../../__pv_it/common/4abfcdcaafe6ad83c2ed27be2700d58c6f9aaa1b0/expr.ipynb\"><img src=\"../../../../../__pv_it/common/4abfcdcaafe6ad83c2ed27be2700d58c6f9aaa1b0/expr.png\" style=\"display:inline;vertical-align:middle;\" /></a></td></tr>\n",
       "<tr><td>10</td><td>Literal</td><td></td><td><a class=\"ProveItLink\" href=\"../../common/28edf56075f82c850836d8cd79dbcacf62e589820/expr.ipynb\"><img src=\"../../common/28edf56075f82c850836d8cd79dbcacf62e589820/expr.png\" style=\"display:inline;vertical-align:middle;\" /></a></td></tr>\n",
       "<tr><td>11</td><td>ExprTuple</td><td>12, 13</td><td><a class=\"ProveItLink\" href=\"../../../../../logic/equality/__pv_it/theorems/0293aa07e262a65a417a2dc48e44a3b0d663d3630/expr.ipynb\"><img src=\"../../../../../logic/equality/__pv_it/theorems/0293aa07e262a65a417a2dc48e44a3b0d663d3630/expr.png\" style=\"display:inline;vertical-align:middle;\" /></a></td></tr>\n",
       "<tr><td>12</td><td>Variable</td><td></td><td><a class=\"ProveItLink\" href=\"../../../../../__pv_it/common/0f21cbfd5644a1cae6781c1d58354abc2ffbc9000/expr.ipynb\"><img src=\"../../../../../__pv_it/common/0f21cbfd5644a1cae6781c1d58354abc2ffbc9000/expr.png\" style=\"display:inline;vertical-align:middle;\" /></a></td></tr>\n",
       "<tr><td>13</td><td>Variable</td><td></td><td><a class=\"ProveItLink\" href=\"../../../../../__pv_it/common/a2581dc5df71d9a30bad37de14965fa5fec97a240/expr.ipynb\"><img src=\"../../../../../__pv_it/common/a2581dc5df71d9a30bad37de14965fa5fec97a240/expr.png\" style=\"display:inline;vertical-align:middle;\" /></a></td></tr>\n",
       "</table>\n"
      ],
      "text/plain": [
       "0. ((x = y) and (y < x)) = FALSE\n",
       "   core type: Operation\n",
       "   operator: 8\n",
       "   operands: 1\n",
       "1. ((x = y) and (y < x), FALSE)\n",
       "   core type: ExprTuple\n",
       "   sub-expressions: 2, 3\n",
       "2. (x = y) and (y < x)\n",
       "   core type: Operation\n",
       "   operator: 4\n",
       "   operands: 5\n",
       "3. FALSE\n",
       "   core type: Literal\n",
       "   sub-expressions: \n",
       "4. and\n",
       "   core type: Literal\n",
       "   sub-expressions: \n",
       "5. (x = y, y < x)\n",
       "   core type: ExprTuple\n",
       "   sub-expressions: 6, 7\n",
       "6. x = y\n",
       "   core type: Operation\n",
       "   operator: 8\n",
       "   operands: 9\n",
       "7. y < x\n",
       "   core type: Operation\n",
       "   operator: 10\n",
       "   operands: 11\n",
       "8. =\n",
       "   core type: Literal\n",
       "   sub-expressions: \n",
       "9. (x, y)\n",
       "   core type: ExprTuple\n",
       "   sub-expressions: 13, 12\n",
       "10. <\n",
       "    core type: Literal\n",
       "    sub-expressions: \n",
       "11. (y, x)\n",
       "    core type: ExprTuple\n",
       "    sub-expressions: 12, 13\n",
       "12. y\n",
       "    core type: Variable\n",
       "    sub-expressions: \n",
       "13. x\n",
       "    core type: Variable\n",
       "    sub-expressions: "
      ]
     },
     "execution_count": 6,
     "metadata": {},
     "output_type": "execute_result"
    }
   ],
   "source": [
    "# display the expression information\n",
    "expr.expr_info()"
   ]
  },
  {
   "cell_type": "code",
   "execution_count": null,
   "metadata": {},
   "outputs": [],
   "source": []
  }
 ],
 "metadata": {
  "kernelspec": {
   "display_name": "Python 3",
   "language": "python",
   "name": "python3"
  }
 },
 "nbformat": 4,
 "nbformat_minor": 0
}