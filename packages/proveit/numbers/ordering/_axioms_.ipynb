{
 "cells": [
  {
   "cell_type": "markdown",
   "metadata": {},
   "source": [
    "Axioms for the theory of <a class=\"ProveItLink\" href=\"_theory_.ipynb\">proveit.numbers.ordering</a>\n",
    "========"
   ]
  },
  {
   "cell_type": "code",
   "execution_count": null,
   "metadata": {},
   "outputs": [],
   "source": [
    "import proveit\n",
    "# Prepare this notebook for defining the axioms of a theory:\n",
    "%axioms_notebook # Keep this at the top following 'import proveit'.\n",
    "from proveit.logic import Forall, Or, Equals, Iff, Implies, Set\n",
    "from proveit.numbers import NaturalPos, Real, Exp\n",
    "from proveit.numbers import Less, LessEq, Greater, GreaterEq\n",
    "from proveit import n, x, y, z, rho\n",
    "from proveit.core_expr_types import x_1_to_np1\n",
    "from proveit.numbers.ordering import (\n",
    "    rho_1_to_n, sequential_x_relations, x_relation_sequence, less_eq_relations, greater_eq_relations, n_plus_1)\n",
    "%begin axioms"
   ]
  },
  {
   "cell_type": "code",
   "execution_count": null,
   "metadata": {},
   "outputs": [],
   "source": [
    "less_eq_def = Forall([x, y], Equals(LessEq(x, y), Or(Less(x, y), Equals(x, y))))"
   ]
  },
  {
   "cell_type": "code",
   "execution_count": null,
   "metadata": {},
   "outputs": [],
   "source": [
    "greater_eq_def = Forall([x, y], Equals(GreaterEq(x, y), Or(Greater(x, y), Equals(x, y))))"
   ]
  },
  {
   "cell_type": "code",
   "execution_count": null,
   "metadata": {},
   "outputs": [],
   "source": [
    "reverse_relation = Forall((x, y), Equals(Greater(y, x), Less(x, y)))"
   ]
  },
  {
   "cell_type": "code",
   "execution_count": null,
   "metadata": {},
   "outputs": [],
   "source": [
    "transitivity_less_less = Forall((x,y,z), Less(x, z),\n",
    "                              conditions=[Less(x,y), Less(y, z)])"
   ]
  },
  {
   "cell_type": "code",
   "execution_count": null,
   "metadata": {},
   "outputs": [],
   "source": [
    "less_sequence_def = \\\n",
    "    Forall(n, Forall(x_1_to_np1, \n",
    "                     Forall(rho_1_to_n,\n",
    "                            Equals(x_relation_sequence, \n",
    "                                   sequential_x_relations),\n",
    "                            domain=less_eq_relations),\n",
    "                     domain=Real),\n",
    "           domain=NaturalPos)"
   ]
  },
  {
   "cell_type": "code",
   "execution_count": null,
   "metadata": {},
   "outputs": [],
   "source": [
    "greater_sequence_def = \\\n",
    "    Forall(n, Forall(x_1_to_np1, \n",
    "                     Forall(rho_1_to_n,\n",
    "                            Equals(x_relation_sequence,\n",
    "                                   sequential_x_relations),\n",
    "                            domain=greater_eq_relations),\n",
    "                     domain=Real),\n",
    "           domain=NaturalPos)"
   ]
  },
  {
   "cell_type": "code",
   "execution_count": null,
   "metadata": {},
   "outputs": [],
   "source": [
    "%end axioms"
   ]
  },
  {
   "cell_type": "code",
   "execution_count": null,
   "metadata": {},
   "outputs": [],
   "source": []
  }
 ],
 "metadata": {
  "kernelspec": {
   "display_name": "Python 3",
   "language": "python",
   "name": "python3"
  }
 },
 "nbformat": 4,
 "nbformat_minor": 0
}
