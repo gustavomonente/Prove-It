{
 "cells": [
  {
   "cell_type": "markdown",
   "metadata": {},
   "source": [
    "Theory of <a class=\"ProveItLink\" href=\"../_theory_.ipynb\">proveit</a>.number\n",
    "========\n",
    "\n",
    "Covers all generic number concepts: sets of numbers (integers, reals, and complexes), number relations (<, $\\leq$, >, $\\geq$), and numeric operations (+, -, $\\times$, /, mod, exp), and operations over numeric functions ($\\sum$, $\\prod$, $\\partial$, $\\nabla$, $\\int$)."
   ]
  },
  {
   "cell_type": "code",
   "execution_count": null,
   "metadata": {},
   "outputs": [],
   "source": [
    "import proveit\n",
    "%theory # toggles between interactive and static modes"
   ]
  },
  {
   "cell_type": "code",
   "execution_count": null,
   "metadata": {},
   "outputs": [],
   "source": []
  }
 ],
 "metadata": {
  "kernelspec": {
   "display_name": "Python 3",
   "language": "python",
   "name": "python3"
  }
 },
 "nbformat": 4,
 "nbformat_minor": 0
}
