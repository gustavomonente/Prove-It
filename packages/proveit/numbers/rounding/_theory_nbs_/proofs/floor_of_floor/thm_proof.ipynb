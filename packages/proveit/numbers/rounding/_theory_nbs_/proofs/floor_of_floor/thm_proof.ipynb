{
 "cells": [
  {
   "cell_type": "markdown",
   "metadata": {},
   "source": [
    "Proof of <a class=\"ProveItLink\" href=\"../../../../../_theory_nbs_/theory.ipynb\">proveit</a>.<a class=\"ProveItLink\" href=\"../../../../_theory_nbs_/theory.ipynb\">numbers</a>.<a class=\"ProveItLink\" href=\"../../theory.ipynb\">rounding</a>.<a class=\"ProveItLink\" href=\"../../theorems.ipynb#floor_of_floor\">floor_of_floor</a> theorem\n",
    "========"
   ]
  },
  {
   "cell_type": "code",
   "execution_count": 1,
   "metadata": {},
   "outputs": [],
   "source": [
    "import proveit\n",
    "theory = proveit.Theory() # the theorem's theory"
   ]
  },
  {
   "cell_type": "code",
   "execution_count": 2,
   "metadata": {},
   "outputs": [
    {
     "data": {
      "text/html": [
       "Under these <a href=\"presumptions.txt\">presumptions</a>, we begin our proof of<br><strong id=\"floor_of_floor\">floor_of_floor:</strong> <a class=\"ProveItLink\" href=\"../../../__pv_it/theorems/5d5013d3a77a2801d259dd39a8ca547d90d254f30/expr.ipynb\"><img src=\"data:image/png;base64,iVBORw0KGgoAAAANSUhEUgAAAK8AAAAVBAMAAADC7aNVAAAAMFBMVEX///8QEBCIiIhmZma6urrM\n",
       "zMxUVFQiIiJERETc3Nzu7u6qqqp2dnaYmJgyMjIAAAAcRTyBAAAAAXRSTlMAQObYZgAAAeBJREFU\n",
       "OMutlU8oBFEcx7+NXfvv7boo142Sg7IlR1IOjvbERVH+HCXJKg6Os0k2CRfMUktbSjlIOUzcVmkO\n",
       "Dii1UUSRI05+b6dn3tqZ2Rp+h/dm3nz2s2++b99boEqFDWoOrHuFN/EK7DdRpUIGQsPUr1lDMd4U\n",
       "K8hy4kQwdw7ifXgT12aAC3794iB+9igOE7DB33jB3htNeBTjjDoNYIf24kDGqzhLsyrk8+sOSfBx\n",
       "b+JYN/ChqvMO4iZZvNO82hp3FUsEoxDHgLSDeEkSh/XoVKBYJr584/UgxDIRpb6ntIY/ddwyci+u\n",
       "5yQx09iXL+M2Y5mITNIKQTHELjttNxSGgthY9fKMEVxwz1gm/O/0RUZAPL0+yYPEt4aNGKiLV1s8\n",
       "i+DiULGf//A6mpO+BN/pJNZtogCGkr/EZsaPltgifBQF0qOk0yYC3aXPkLg9YbN4Ea2NKLcZywRf\n",
       "PByR3Y9XYLckrhmfFvS5JO47XMamaxQyUaP/JPMJDKiqGlfYypWgeyVxrnGn03AVy0SMhxLVSmn7\n",
       "UWtGERnU/ryl98TNNisysKSZcUH/j0PIrNzVWQFY5BvkUt/tEsPpPxybcimU8b8c9MFM9b+mcENq\n",
       "GNnUjDmwlZpF6ClVeX6XEbgBvgGmNLHFfz2WcgAAAABJRU5ErkJggg==\n",
       "\" style=\"display:inline;vertical-align:middle;\" /></a><br>(see <a class=\"ProveItLink\" href=\"../../../__pv_it/theorems/c1fca1b87dc5cbaefefc5115bd3621b29c35bfcc0/dependencies.ipynb\">dependencies</a>)<br>"
      ],
      "text/plain": [
       "floor_of_floor: forall_{x in Real} (floor(floor(x)) = floor(x))"
      ]
     },
     "execution_count": 2,
     "metadata": {},
     "output_type": "execute_result"
    }
   ],
   "source": [
    "%proving floor_of_floor"
   ]
  },
  {
   "cell_type": "code",
   "execution_count": null,
   "metadata": {},
   "outputs": [],
   "source": []
  }
 ],
 "metadata": {
  "kernelspec": {
   "display_name": "Python 3",
   "language": "python",
   "name": "python3"
  }
 },
 "nbformat": 4,
 "nbformat_minor": 0
}