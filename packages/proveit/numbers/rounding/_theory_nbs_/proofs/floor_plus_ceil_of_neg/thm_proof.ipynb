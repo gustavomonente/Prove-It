{
 "cells": [
  {
   "cell_type": "markdown",
   "metadata": {},
   "source": [
    "Proof of <a class=\"ProveItLink\" href=\"../../../../../_theory_nbs_/theory.ipynb\">proveit</a>.<a class=\"ProveItLink\" href=\"../../../../_theory_nbs_/theory.ipynb\">numbers</a>.<a class=\"ProveItLink\" href=\"../../theory.ipynb\">rounding</a>.<a class=\"ProveItLink\" href=\"../../theorems.ipynb#floor_plus_ceil_of_neg\">floor_plus_ceil_of_neg</a> theorem\n",
    "========"
   ]
  },
  {
   "cell_type": "code",
   "execution_count": 1,
   "metadata": {},
   "outputs": [],
   "source": [
    "import proveit\n",
    "theory = proveit.Theory() # the theorem's theory"
   ]
  },
  {
   "cell_type": "code",
   "execution_count": 2,
   "metadata": {},
   "outputs": [
    {
     "data": {
      "text/html": [
       "Under these <a href=\"presumptions.txt\">presumptions</a>, we begin our proof of<br><strong id=\"floor_plus_ceil_of_neg\">floor_plus_ceil_of_neg:</strong> <a class=\"ProveItLink\" href=\"../../../__pv_it/theorems/2ca90516c14c66d01049db1a343c9e7edcb193bf0/expr.ipynb\"><img src=\"data:image/png;base64,iVBORw0KGgoAAAANSUhEUgAAAOEAAAAVBAMAAABCnpRGAAAAMFBMVEX///8QEBCIiIhmZma6urrM\n",
       "zMxUVFQiIiJERETc3Nzu7u6qqqp2dnaYmJgyMjIAAAAcRTyBAAAAAXRSTlMAQObYZgAAArRJREFU\n",
       "SMetlk1oE1EQx/+mSZNsNtGDXmVpIUgRDBRvKkEP4qk56UVI8At6kSJiLYrkJCmiBhH1om5bqBK0\n",
       "LHgoFaFLvEWIKxb8wGpQqyi4BEXx6+DMZjc1+9U05MFbZue9N7+dN/PmLdBOu7ssBmxDwgU916KI\n",
       "6rqKjltUo8d14MqyKmGfknOsEmqIFd0NzlGvsbDoQbzN6/OrJbLNYae2/CqDXvqSR/zy2YP4iRHF\n",
       "TogzDmVCEcbYfVzjVXl3YDxFj6dwJcYkX6Io2ZVPgCo5ShZkGlbciWGOxlhHRGGdXXkWmJcxQX5U\n",
       "SqWrHpvK+uhIR0S8tyt/AEMKEmngZ6Fw2oPYz6chZRInk5c3S/5EoW94Z9kkPrQn8DciShDJ3GFg\n",
       "3IN4nnpEaxAFNX4sXPMn3sEz6YxJfG1oqjq3dzzvL5CVEKexXUYCNdvspoNvLfkUx1JpEEVZ/B0s\n",
       "+hMreCzvMYmz9pwmH7MqYhSkMAKa5fmDQS0gomLl2Xrqa9Kmj4jkm3EUdf3jRt0oNkycMTxZgoxC\n",
       "M45Z910N1Wm1Fra0z+dKIOJLzYUIrJVWzpyvnkTOnHnFIEZre7kgbE1mgpwkTFRddpVsZFYkhr43\n",
       "ibv/i+MHFsn9NzKCnPrjh4gjHw2nDWNEHEy5ZE5M3kKz/In3A3UMtGSOowJw5uAeYUP4AkwZxJ4j\n",
       "x61JnOGieTqGlItc0/2IwT+RulH72eo2RzlRhA1Aj9qMzy9gX6FQkALipQVrEu9M0KwA032T2zV/\n",
       "onBgoH/R2tUlx41STlJYEhyauMwRqIfQ29jV2H65C1VuxP2I37KEm2JNhJhpxLGitlHJBXmVldy8\n",
       "sixheqFcAc7xya2qUzssNRejSJduK+uybmkBimOXbmSPwhkptvnXMTF6oqG4MXrS/tUuPzU5xD0s\n",
       "vwD+AaVq4LAn0DQXAAAAAElFTkSuQmCC\n",
       "\" style=\"display:inline;vertical-align:middle;\" /></a><br>(see <a class=\"ProveItLink\" href=\"../../../__pv_it/theorems/c85848fdf5b8c9e3668ed30834feb870b73ffb010/dependencies.ipynb\">dependencies</a>)<br>"
      ],
      "text/plain": [
       "floor_plus_ceil_of_neg: forall_{x in Real} ((floor(x) + ceil(-x)) = 0)"
      ]
     },
     "execution_count": 2,
     "metadata": {},
     "output_type": "execute_result"
    }
   ],
   "source": [
    "%proving floor_plus_ceil_of_neg"
   ]
  },
  {
   "cell_type": "code",
   "execution_count": null,
   "metadata": {},
   "outputs": [],
   "source": []
  }
 ],
 "metadata": {
  "kernelspec": {
   "display_name": "Python 3",
   "language": "python",
   "name": "python3"
  }
 },
 "nbformat": 4,
 "nbformat_minor": 0
}