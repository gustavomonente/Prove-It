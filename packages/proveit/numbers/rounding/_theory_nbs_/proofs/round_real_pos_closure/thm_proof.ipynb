{
 "cells": [
  {
   "cell_type": "markdown",
   "metadata": {},
   "source": [
    "Proof of <a class=\"ProveItLink\" href=\"../../../../../_theory_nbs_/theory.ipynb\">proveit</a>.<a class=\"ProveItLink\" href=\"../../../../_theory_nbs_/theory.ipynb\">numbers</a>.<a class=\"ProveItLink\" href=\"../../theory.ipynb\">rounding</a>.<a class=\"ProveItLink\" href=\"../../theorems.ipynb#round_real_pos_closure\">round_real_pos_closure</a> theorem\n",
    "========"
   ]
  },
  {
   "cell_type": "code",
   "execution_count": 1,
   "metadata": {},
   "outputs": [],
   "source": [
    "import proveit\n",
    "theory = proveit.Theory() # the theorem's theory"
   ]
  },
  {
   "cell_type": "code",
   "execution_count": 2,
   "metadata": {},
   "outputs": [
    {
     "data": {
      "text/html": [
       "Under these <a href=\"presumptions.txt\">presumptions</a>, we begin our proof of<br><strong id=\"round_real_pos_closure\">round_real_pos_closure:</strong> <a class=\"ProveItLink\" href=\"../../../__pv_it/theorems/5f76534b04b1e540562fdc4f81f60aff4db78c330/expr.ipynb\"><img src=\"data:image/png;base64,iVBORw0KGgoAAAANSUhEUgAAAMsAAAAUBAMAAADRvdT6AAAAMFBMVEX///8QEBCIiIhmZma6urrM\n",
       "zMxUVFQiIiJERETc3Nzu7u6qqqp2dnaYmJgyMjIAAAAcRTyBAAAAAXRSTlMAQObYZgAAAyRJREFU\n",
       "SMelVUtoE1EUPZn8JpNJGsSlwpDYIkUwGNSFUqIuRBAcN1Wwi1BbpQtLFmIRi8QPmipKcGHronRK\n",
       "pZUiJuBCKoKximIUDVixFsRBV7YoaVHpB8H7XiZ/MhZ8MPPmnjvvnXnnfgb493Blzf2DxjxRx89w\n",
       "nT18Mt3mTn2X/VwQUswwHIlK573F6xqezIcZ/ooBs6Y030x8DSl4C7tLepXzmj0CKcfxAaZKzIzF\n",
       "EzRxHtDwrmhMVjmPq37Ax3GvBsgpMxpnwsT5AjhdNIaNebqnhx+s44pDRZTjnsz4eL+pZqber3BF\n",
       "i4Y3zKfDzYbd1SrNMhqGL8bjvbXL5dJjALA13fYrdPhAWAooGNZsz2/5t5DYOxtXIJCmkr9rNykj\n",
       "c3mlYqS73Eoro2F4J9BXS2MtCyS9J86JPvSHpSWrzYfNZJ9HMoFdCXEZIqX7XXxQzpIyemXCdeGZ\n",
       "R4nm8T21GVJJcwY44ozYVNChewetOuJk6xhSpfUgy0mBzeCttg9wc/1ElGgcWmc0jzshlJffg41H\n",
       "v1TSrAW0JKlrXQZ+axYFa7j9mQHONCzk0oiaVVGO3Q/+oKHnaaSI15fH5ayzsKH0KJQVZGQUObQ9\n",
       "tKOMBo/pssTgWqAMtv/idjcDiM7C475QohkoOw3a7AaNS28twNMT4yCamWy1aGihK5mGvEQZLPi4\n",
       "/UcigOiYaGDUlClcNEs5jScVM/C+DlZZW5tUG0sURpOuTgGsYwWfhSWNSxBjM2S7l+VkCt3uBEuB\n",
       "h0IOzYUUsCqFlZRdeBkz8PvEJWjdzrAXeZpQsILmKZ2Yfaw1ggvANuwKpl0/IevvRcVzSmbZalsR\n",
       "c6y/WtPF4/Mxx1bpBt5A7HZ8B0Y4jfXYycoU2FtQ4/UmCsOof6JdJdt1IiW1N97cwHxSe3OAdV+v\n",
       "yheMXtT4fGg+lm90HPdwcIngeDyuCPKNKSb2KpsNypvNmDHvv9xTUSNjpY6es8ORF83dpq2+ddKo\n",
       "3zpr8CFZJ5XVfGwy6cq3+sxpxLo/ghp8dGoyA1xl5fkmPdKy6t8a3yVWzVfvO4whUGz+4yf9sY6f\n",
       "8L+IueP+XT4FkwAAAABJRU5ErkJggg==\n",
       "\" style=\"display:inline;vertical-align:middle;\" /></a><br>(see <a class=\"ProveItLink\" href=\"../../../__pv_it/theorems/0bfe1b2bddb4155257d75be7826b5ac9c79f55550/dependencies.ipynb\">dependencies</a>)<br>"
      ],
      "text/plain": [
       "round_real_pos_closure: forall_{x in RealPos} (round(x) in Natural)"
      ]
     },
     "execution_count": 2,
     "metadata": {},
     "output_type": "execute_result"
    }
   ],
   "source": [
    "%proving round_real_pos_closure"
   ]
  },
  {
   "cell_type": "code",
   "execution_count": null,
   "metadata": {},
   "outputs": [],
   "source": []
  }
 ],
 "metadata": {
  "kernelspec": {
   "display_name": "Python 3",
   "language": "python",
   "name": "python3"
  }
 },
 "nbformat": 4,
 "nbformat_minor": 0
}