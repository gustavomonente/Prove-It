{
 "cells": [
  {
   "cell_type": "markdown",
   "metadata": {},
   "source": [
    "Proof of <a class=\"ProveItLink\" href=\"../../../../../_theory_nbs_/theory.ipynb\">proveit</a>.<a class=\"ProveItLink\" href=\"../../../../_theory_nbs_/theory.ipynb\">numbers</a>.<a class=\"ProveItLink\" href=\"../../theory.ipynb\">rounding</a>.<a class=\"ProveItLink\" href=\"../../theorems.ipynb#ceil_of_ceil\">ceil_of_ceil</a> theorem\n",
    "========"
   ]
  },
  {
   "cell_type": "code",
   "execution_count": 1,
   "metadata": {},
   "outputs": [],
   "source": [
    "import proveit\n",
    "theory = proveit.Theory() # the theorem's theory"
   ]
  },
  {
   "cell_type": "code",
   "execution_count": 2,
   "metadata": {},
   "outputs": [
    {
     "data": {
      "text/html": [
       "Under these <a href=\"presumptions.txt\">presumptions</a>, we begin our proof of<br><strong id=\"ceil_of_ceil\">ceil_of_ceil:</strong> <a class=\"ProveItLink\" href=\"../../../__pv_it/theorems/9b07f50db602ea77c820c5ca90680d03d8397a3b0/expr.ipynb\"><img src=\"data:image/png;base64,iVBORw0KGgoAAAANSUhEUgAAAK8AAAAVBAMAAADC7aNVAAAAMFBMVEX///8QEBCIiIhmZma6urrM\n",
       "zMxUVFQiIiJERETc3Nzu7u6qqqp2dnaYmJgyMjIAAAAcRTyBAAAAAXRSTlMAQObYZgAAAeRJREFU\n",
       "OMutlc0rBGEcx7+tXfv27Lr4AzZKDoqSIykHR3viomx5OUpy4+A4m7BJuGBQaJO2HKQcJm6rNAcH\n",
       "lNooRUyOOPk9Mx7zjJ2ZreW5PPM8+5nPPPP9zfMsUKHFFowM9o1Ha7RhvCBqGFoZ5iAqt6iOaIb6\n",
       "FXvqkD+sVEY6iRPqTObOQ7yPMnES4iYvMRG1OeCCXz97iJ+qFPNXWuNvPOvuTbRVKcYZdSrACu7i\n",
       "cK5a8RatqpjPr3okweerEye7gXdFmfEQN8ri7abllpSvWCIYhTgKZD3E85I4piUmwyWH+NLg7UGI\n",
       "ZSJBfY/zszxuHr4X19OSmKnsM5jzW7FMxCeoQgjoYpedtusBhmLqe1wvrxiRWf+MZSL0Rg/Sw+LX\n",
       "65M8SHyru4iBulSl4tkEF0dL/fzD62hKBylxU6y5RAEMpX+JrYwfbbFNBCkKZEdIp46Hu817SNze\n",
       "5lK8uNpKlN+KZYIXD0dkD+EV2DHFNWNTgj6XxH2FRaz7RiETNdpPMh/AgKIoqQBbuhJ0ryTebdju\n",
       "1H3FMpHkoSRUM+0Qaq0o4oPqn7f0nhhsshIDS1sZF7X/OISstnt1VgTm+Aa51Ha6xHT2D8em3AKU\n",
       "8b8c9JFc5b+mGM/lwJ4yC5EpI53EDfAFNAi4o/kDshIAAAAASUVORK5CYII=\n",
       "\" style=\"display:inline;vertical-align:middle;\" /></a><br>(see <a class=\"ProveItLink\" href=\"../../../__pv_it/theorems/baf3cc964b8e13ea5fa0dba2077a2f356ce13d260/dependencies.ipynb\">dependencies</a>)<br>"
      ],
      "text/plain": [
       "ceil_of_ceil: forall_{x in Real} (ceil(ceil(x)) = ceil(x))"
      ]
     },
     "execution_count": 2,
     "metadata": {},
     "output_type": "execute_result"
    }
   ],
   "source": [
    "%proving ceil_of_ceil"
   ]
  },
  {
   "cell_type": "code",
   "execution_count": null,
   "metadata": {},
   "outputs": [],
   "source": []
  }
 ],
 "metadata": {
  "kernelspec": {
   "display_name": "Python 3",
   "language": "python",
   "name": "python3"
  }
 },
 "nbformat": 4,
 "nbformat_minor": 0
}