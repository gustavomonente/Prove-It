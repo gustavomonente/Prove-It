{
 "cells": [
  {
   "cell_type": "markdown",
   "metadata": {},
   "source": [
    "Proof of <a class=\"ProveItLink\" href=\"../../../../../_theory_nbs_/theory.ipynb\">proveit</a>.<a class=\"ProveItLink\" href=\"../../../../_theory_nbs_/theory.ipynb\">numbers</a>.<a class=\"ProveItLink\" href=\"../../theory.ipynb\">rounding</a>.<a class=\"ProveItLink\" href=\"../../theorems.ipynb#floor_less_eq_ceil\">floor_less_eq_ceil</a> theorem\n",
    "========"
   ]
  },
  {
   "cell_type": "code",
   "execution_count": 1,
   "metadata": {},
   "outputs": [],
   "source": [
    "import proveit\n",
    "theory = proveit.Theory() # the theorem's theory"
   ]
  },
  {
   "cell_type": "code",
   "execution_count": 2,
   "metadata": {},
   "outputs": [
    {
     "data": {
      "text/html": [
       "Under these <a href=\"presumptions.txt\">presumptions</a>, we begin our proof of<br><strong id=\"floor_less_eq_ceil\">floor_less_eq_ceil:</strong> <a class=\"ProveItLink\" href=\"../../../__pv_it/theorems/bbc016907fead784ddc9e370ad9a4c4be314a7ae0/expr.ipynb\"><img src=\"data:image/png;base64,iVBORw0KGgoAAAANSUhEUgAAAJ0AAAAVBAMAAACu6/FQAAAAMFBMVEX///8QEBCIiIhmZma6urrM\n",
       "zMxUVFQiIiJERETc3Nzu7u6qqqp2dnaYmJgyMjIAAAAcRTyBAAAAAXRSTlMAQObYZgAAAhdJREFU\n",
       "OMullU1LG0EYx/9dk2xeZuNXCB6kh0IDoUdLwA9gTupB6EHtsZTQNhUs5CJs6MFFJXpRNwloCSoB\n",
       "DyL0sOSYQlmoh7ZQCG3xYGvwqD11JruzO0l2SMC5zDP89/kxz8s8Cwxbx76pDIgfOpeOsdf5ixHW\n",
       "LlD2T8kBXRBPgHO6tZn9Q4KLF0fnUTFiAJ+YfSXhJQ0ZT3kdwIvTy+1QM1aU8L5AwjvKB90PTbqZ\n",
       "AGlIeCsS3ua7wHhRAbRWvb4twcVeBvPKf4Lzh2QWuNX1VQlPSbsu1cmtRymPN/+7px6CSKjDMlCS\n",
       "8KK24xK3tLza5rzoWk99RVGj+3S3LN46e7j4k9tqw3EhJvkXMjhPyZsiTxQTNEEqFJu328eMrRC0\n",
       "Uu75Qda9AqJFIX/aqineTxDDN5Rvq1z9el4H5X23+3jAeEqsR+KXIdbDFxkv1p5lnfNkMhdi6Wc8\n",
       "qy9e4Fmup19ClzmB54sh1hClJUoxX6jZ7ueUl0n31SNhPqZfiP0c1rOcJ4qsHjil0DCugVqXN/b8\n",
       "Ffcibr/MNNbZZBDfW2yZ80RxzPLCvwPmdF1PKWTjwgvL7eeDieqULZsHophkkWtmN5NhRJx4Ewvm\n",
       "sPcmmS845Id90iYgOSd/LWvoPJDwmvxwcNFsAe9ZP3+2ak+9BxI0r04KbMnmVc97pfm7zzyNGiPM\n",
       "+0rhjfuLKLwd0I98k2b/G/AfdMCb4NQXKQMAAAAASUVORK5CYII=\n",
       "\" style=\"display:inline;vertical-align:middle;\" /></a><br>(see <a class=\"ProveItLink\" href=\"../../../__pv_it/theorems/4c176c56c17d35c2451fe88de600041f52259d820/dependencies.ipynb\">dependencies</a>)<br>"
      ],
      "text/plain": [
       "floor_less_eq_ceil: forall_{x in Real} (floor(x) <= ceil(x))"
      ]
     },
     "execution_count": 2,
     "metadata": {},
     "output_type": "execute_result"
    }
   ],
   "source": [
    "%proving floor_less_eq_ceil"
   ]
  },
  {
   "cell_type": "code",
   "execution_count": null,
   "metadata": {},
   "outputs": [],
   "source": []
  }
 ],
 "metadata": {
  "kernelspec": {
   "display_name": "Python 3",
   "language": "python",
   "name": "python3"
  }
 },
 "nbformat": 4,
 "nbformat_minor": 0
}