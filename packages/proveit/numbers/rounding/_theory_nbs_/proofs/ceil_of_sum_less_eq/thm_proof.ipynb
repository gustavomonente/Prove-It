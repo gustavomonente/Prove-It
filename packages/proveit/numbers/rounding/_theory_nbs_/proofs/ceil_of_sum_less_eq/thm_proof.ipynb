{
 "cells": [
  {
   "cell_type": "markdown",
   "metadata": {},
   "source": [
    "Proof of <a class=\"ProveItLink\" href=\"../../../../../_theory_nbs_/theory.ipynb\">proveit</a>.<a class=\"ProveItLink\" href=\"../../../../_theory_nbs_/theory.ipynb\">numbers</a>.<a class=\"ProveItLink\" href=\"../../theory.ipynb\">rounding</a>.<a class=\"ProveItLink\" href=\"../../theorems.ipynb#ceil_of_sum_less_eq\">ceil_of_sum_less_eq</a> theorem\n",
    "========"
   ]
  },
  {
   "cell_type": "code",
   "execution_count": 1,
   "metadata": {},
   "outputs": [],
   "source": [
    "import proveit\n",
    "theory = proveit.Theory() # the theorem's theory"
   ]
  },
  {
   "cell_type": "code",
   "execution_count": 2,
   "metadata": {},
   "outputs": [
    {
     "data": {
      "text/html": [
       "Under these <a href=\"presumptions.txt\">presumptions</a>, we begin our proof of<br><strong id=\"ceil_of_sum_less_eq\">ceil_of_sum_less_eq:</strong> <a class=\"ProveItLink\" href=\"../../../__pv_it/theorems/bfe48c1baedf13692076121866ed34c94737b6450/expr.ipynb\"><img src=\"data:image/png;base64,iVBORw0KGgoAAAANSUhEUgAAARUAAAAWBAMAAAAcIxXLAAAAMFBMVEX///8QEBCIiIhmZma6urrM\n",
       "zMxUVFQiIiJERETc3Nzu7u6qqqp2dnaYmJgyMjIAAAAcRTyBAAAAAXRSTlMAQObYZgAAAylJREFU\n",
       "SMfFlk9o01Acx7+26Z9k6TZELx4krrCNXRyOKYLUOcHhZcsu6kGwTCd4GRMmHvzDEBkd4qge3FDQ\n",
       "6ECliBY9yEQkzINQYeYwmIqD4MGhaCii4BTBl7ykJtlL2nnxwRfavt83v0/f++X9HlDbECaMbMAU\n",
       "bxhqqIURUJm7bnzGqgavgc+GgepVLCsCXHP3gRlQWVGL4Sx3Ec4CvZolhKUeiOepXprfP4WzfFwF\n",
       "S4vMsoSzmMtmasqcGQ1FSbWvYKmT2CzCC4lpcQIeMlkwS1WvAGIxlCWRr5WF36axLVVYblKlSoXC\n",
       "ZPgWTaJGFn6oGGCpwlLfRfUjlzsdzpK2zULTse5ZD4uQlnBJcVLFJrqCLCyWW1vAb6AsYjvVIDAe\n",
       "znLRNt/DgnTWwyJyjdhcSZWTAy0sFnUXImXKktKpdrOOBzxuPfze+XzKNpfwStnrYbkW1ZGrpGpp\n",
       "Q5CFwcIXM0iOUpa6YaoEIprv6HraoUVElJyaWGc/WLHyktUwjKWNhnlwKmskfP2baqGEAIsVMGcY\n",
       "xw3jg80iYC0aJMoSK1OJWsK3Jq9nCiAsbzXfg2Hl9dRunxL77vrbz7YHWFh7xP3EIdnLwuv7zLe7\n",
       "s5n8zjUjoXCkiCwW1bfgsPJ6WDKINLrPl95BtoXFQvZ3k/0eccNUGD9CUitDCfISiA1KvzVpsnS0\n",
       "+wrxCSm1Ni/LGJJZz7F64DzTwmIhzjF4axePCFAMX8yQqz1oxbTFEj064jz/OTVzv5JlXvOybEWf\n",
       "5j3ir8gsC3NdstxvmyWqUlkFBCxbMTswgP25XE6KiJfnncf32MU20JZe9O3R7aadeVZv9FtYLMJA\n",
       "etk562QqpBSremJmzAjWI073qO6gUksPyDD7dG09IKrbLHdsWeOGqIuYUnCCK0OUab2U1ODeKFDO\n",
       "uC58Y7IE9caCi2UID7q8vdFe6/nZEvqL2NNKXBfMs25Onc44s+NBd4aElpQqqYSlk+aQWRbWneEM\n",
       "zvnuDO5RFPJJUmkRUi+13aW4ps5/v0t1p2WbJZmnchdBPq72BtwxBTWsY2WrWfwBrjlSnm9A5d5k\n",
       "cO9U/L/xB66CITUNQLZOAAAAAElFTkSuQmCC\n",
       "\" style=\"display:inline;vertical-align:middle;\" /></a><br>(see <a class=\"ProveItLink\" href=\"../../../__pv_it/theorems/81bbea6f0fd12a694534a4f51f77f94e57b12e9f0/dependencies.ipynb\">dependencies</a>)<br>"
      ],
      "text/plain": [
       "ceil_of_sum_less_eq: forall_{x, y in Real} (ceil(x + y) <= (ceil(x) + ceil(y)))"
      ]
     },
     "execution_count": 2,
     "metadata": {},
     "output_type": "execute_result"
    }
   ],
   "source": [
    "%proving ceil_of_sum_less_eq"
   ]
  },
  {
   "cell_type": "code",
   "execution_count": null,
   "metadata": {},
   "outputs": [],
   "source": []
  }
 ],
 "metadata": {
  "kernelspec": {
   "display_name": "Python 3",
   "language": "python",
   "name": "python3"
  }
 },
 "nbformat": 4,
 "nbformat_minor": 0
}