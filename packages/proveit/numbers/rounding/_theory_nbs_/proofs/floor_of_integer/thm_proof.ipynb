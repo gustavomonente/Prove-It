{
 "cells": [
  {
   "cell_type": "markdown",
   "metadata": {},
   "source": [
    "Proof of <a class=\"ProveItLink\" href=\"../../../../../_theory_nbs_/theory.ipynb\">proveit</a>.<a class=\"ProveItLink\" href=\"../../../../_theory_nbs_/theory.ipynb\">numbers</a>.<a class=\"ProveItLink\" href=\"../../theory.ipynb\">rounding</a>.<a class=\"ProveItLink\" href=\"../../theorems.ipynb#floor_of_integer\">floor_of_integer</a> theorem\n",
    "========"
   ]
  },
  {
   "cell_type": "code",
   "execution_count": 1,
   "metadata": {},
   "outputs": [],
   "source": [
    "import proveit\n",
    "theory = proveit.Theory() # the theorem's theory"
   ]
  },
  {
   "cell_type": "code",
   "execution_count": 2,
   "metadata": {},
   "outputs": [
    {
     "data": {
      "text/html": [
       "Under these <a href=\"presumptions.txt\">presumptions</a>, we begin our proof of<br><strong id=\"floor_of_integer\">floor_of_integer:</strong> <a class=\"ProveItLink\" href=\"../../../__pv_it/theorems/dc372f0ab83b8971b187966f3bf175b71bb585ec0/expr.ipynb\"><img src=\"data:image/png;base64,iVBORw0KGgoAAAANSUhEUgAAAIkAAAAVBAMAAACArtDCAAAAMFBMVEX///8QEBCIiIhmZma6urrM\n",
       "zMxUVFQiIiJERETc3Nzu7u6qqqp2dnaYmJgyMjIAAAAcRTyBAAAAAXRSTlMAQObYZgAAAeJJREFU\n",
       "OMudVDtIw1AUPfZj2vS1ro5FoUMRLIijUHRyspNOoogKLiIOVkGk4BJxsIOoKNVYQaEoFMRBcSh1\n",
       "sooGFD+DUBAUBKUIgp/F9/ISS/WJqQ/SnPTcnHfvubkP+GNtFaEN/1sJYK745BMH7dIrz8CNmJdj\n",
       "VlQq48ARAw9i3he3oiLTRBbo3R0T82ewooIspVSApMX0mDWVVcCbS6Xmxax7yJqKLwy8Ksq4mLWF\n",
       "DJVkYLbOL1CRawaaaTmExvUBU2IVl8ZV5Ix3WMqbKidPbN0yuIlL/wQth3ItusnFvlUfTIY4lNJc\n",
       "hajk3REX5JLDqdoKeGjlEmyameF+gybFSVLljxVhIxe4YkJfVCjs5izQnTTJ/PdqNwUPOhMoVQGq\n",
       "/L+4+2yquPPtrOeNgYiDVxLKoLQioCtSVOG+3OnY+cJ+HayXU720HeqgFOZR3qXIN3c9aj0NEOSy\n",
       "ZysgyN3FNpVy4hFY06kkMYOI0em29Aybyx8qjg9XwU13sme+in4DOhRF8SOTw6IRZXx16zXJJk2g\n",
       "IvcEa9kc+1jyXlV3yIlK/dUdDYflTcCGCVZInoAwTbud51DeNPK1fp7NAdMUXfQf33eb9lo+GUoG\n",
       "h/lS9inF9vrrxFyNjnC8HB0VB10Dn872iKpPU2J1AAAAAElFTkSuQmCC\n",
       "\" style=\"display:inline;vertical-align:middle;\" /></a><br>(see <a class=\"ProveItLink\" href=\"../../../__pv_it/theorems/18ed503e6bbd40a31347c586d76cda01ba2f29af0/dependencies.ipynb\">dependencies</a>)<br>"
      ],
      "text/plain": [
       "floor_of_integer: forall_{x in Integer} (floor(x) = x)"
      ]
     },
     "execution_count": 2,
     "metadata": {},
     "output_type": "execute_result"
    }
   ],
   "source": [
    "%proving floor_of_integer"
   ]
  },
  {
   "cell_type": "code",
   "execution_count": null,
   "metadata": {},
   "outputs": [],
   "source": []
  }
 ],
 "metadata": {
  "kernelspec": {
   "display_name": "Python 3",
   "language": "python",
   "name": "python3"
  }
 },
 "nbformat": 4,
 "nbformat_minor": 0
}