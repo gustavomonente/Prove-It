{
 "cells": [
  {
   "cell_type": "markdown",
   "metadata": {},
   "source": [
    "Proof of <a class=\"ProveItLink\" href=\"../../../../../_theory_nbs_/theory.ipynb\">proveit</a>.<a class=\"ProveItLink\" href=\"../../../../_theory_nbs_/theory.ipynb\">numbers</a>.<a class=\"ProveItLink\" href=\"../../theory.ipynb\">rounding</a>.<a class=\"ProveItLink\" href=\"../../theorems.ipynb#ceil_real_pos_closure\">ceil_real_pos_closure</a> theorem\n",
    "========"
   ]
  },
  {
   "cell_type": "code",
   "execution_count": 1,
   "metadata": {},
   "outputs": [],
   "source": [
    "import proveit\n",
    "theory = proveit.Theory() # the theorem's theory"
   ]
  },
  {
   "cell_type": "code",
   "execution_count": 2,
   "metadata": {},
   "outputs": [
    {
     "data": {
      "text/html": [
       "Under these <a href=\"presumptions.txt\">presumptions</a>, we begin our proof of<br><strong id=\"ceil_real_pos_closure\">ceil_real_pos_closure:</strong> <a class=\"ProveItLink\" href=\"../../../__pv_it/theorems/01a68990c5064a80b570db5f602451f2434986340/expr.ipynb\"><img src=\"data:image/png;base64,iVBORw0KGgoAAAANSUhEUgAAAKcAAAAbBAMAAADrMILRAAAAMFBMVEX///8QEBCIiIhmZma6urrM\n",
       "zMxUVFQiIiJERETc3Nzu7u6qqqp2dnaYmJgyMjIAAAAcRTyBAAAAAXRSTlMAQObYZgAAAo9JREFU\n",
       "SMfFlj9oE1Ecx7+9JHdN8lIdOgiCng5FRDAQxIJaAi4OQpPFOgg90Do4iIiSoYIZBK84GMQ/XbRH\n",
       "C0GCtMEOIjiEukWUUzoU/8DZwaHo2VEz9d3f964ez8sgPnjHu3s/Pu/3/x3wv0amnExOo1NKCj2T\n",
       "UK5OZ1pLKLwBPLW/eesn9nchFG+TMVMq8JC9LoqhigFYzuKLEDpnRKBD0d3cT30DZO9wAJWKwBvf\n",
       "PsF4DREUgyb1+RJk295j/wCym8As/ZytC6G7xVD5uqRiIDQf01SE2kbaIma2Fw9dq9Vc38mnjCko\n",
       "DDoKFLqt1iOhooWdsdCzBwNNH2iLBgfdR+cvXb/xJ4lwwbd86PzI/UNqAM2FcZAbzzMaBx2ntk8B\n",
       "MzFpxAWi7kFzncJVxQqgcoNBSfkDB52sACeRs4TQIc2DEoP00o0AOsgC1cAlecJZeefM0aJWIJkc\n",
       "7cWB8+tRqFL0NfV09qFVmw7LhzbxlckvUSgxlTCPX5VMiaCrktLR0rFQ02IQqB0qg87ymmY6Va5W\n",
       "KDRrhf1i7WULFPrRjPpUC6COtwLoAA/FJ+YNTDpemLlAHytHRippRyUH2olAZT9QeeMwJCOAptRw\n",
       "nx5FmOJu9LF8haKMy0rZlabQUjEClfw8HW/fxWOWp9Ohe5zSGWPy7wNPZUCrdsFFpC5eiwYq7VdU\n",
       "c//8CZNBm7cMr4Pf3BVtXaNuxbibv4EJXddVidxbdUS5hBiOL9PTt2tWXAWusxtjMwPZMz9/zohK\n",
       "HRc3lG0j1wvTgFgEpOL5tNuJilX7ghbC+6S5utIF7jjJ/66zMLatt7X7gSqV6LtEfRpnEHXdM+4M\n",
       "MfRzwotvuY/r/C8Nn418OTk0Zfyjn48tBb+hQerMqNAAAAAASUVORK5CYII=\n",
       "\" style=\"display:inline;vertical-align:middle;\" /></a><br>(see <a class=\"ProveItLink\" href=\"../../../__pv_it/theorems/5eab064eb6f5679e9442d8e56cf019401c18a73d0/dependencies.ipynb\">dependencies</a>)<br>"
      ],
      "text/plain": [
       "ceil_real_pos_closure: forall_{x in RealPos} (ceil(x) in NaturalPos)"
      ]
     },
     "execution_count": 2,
     "metadata": {},
     "output_type": "execute_result"
    }
   ],
   "source": [
    "%proving ceil_real_pos_closure"
   ]
  },
  {
   "cell_type": "code",
   "execution_count": null,
   "metadata": {},
   "outputs": [],
   "source": []
  }
 ],
 "metadata": {
  "kernelspec": {
   "display_name": "Python 3",
   "language": "python",
   "name": "python3"
  }
 },
 "nbformat": 4,
 "nbformat_minor": 0
}