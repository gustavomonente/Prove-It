{
 "cells": [
  {
   "cell_type": "markdown",
   "metadata": {},
   "source": [
    "Proof of <a class=\"ProveItLink\" href=\"../../../../../_theory_nbs_/theory.ipynb\">proveit</a>.<a class=\"ProveItLink\" href=\"../../../../_theory_nbs_/theory.ipynb\">numbers</a>.<a class=\"ProveItLink\" href=\"../../theory.ipynb\">rounding</a>.<a class=\"ProveItLink\" href=\"../../theorems.ipynb#round_in_terms_of_floor\">round_in_terms_of_floor</a> theorem\n",
    "========"
   ]
  },
  {
   "cell_type": "code",
   "execution_count": 1,
   "metadata": {},
   "outputs": [],
   "source": [
    "import proveit\n",
    "theory = proveit.Theory() # the theorem's theory"
   ]
  },
  {
   "cell_type": "code",
   "execution_count": 2,
   "metadata": {},
   "outputs": [
    {
     "data": {
      "text/html": [
       "Under these <a href=\"presumptions.txt\">presumptions</a>, we begin our proof of<br><strong id=\"round_in_terms_of_floor\">round_in_terms_of_floor:</strong> <a class=\"ProveItLink\" href=\"../../../__pv_it/theorems/687b7e3695ad20a8c38649b40b826e494a082cf90/expr.ipynb\"><img src=\"data:image/png;base64,iVBORw0KGgoAAAANSUhEUgAAAQYAAAAyBAMAAABMh2gAAAAAMFBMVEX///8QEBCIiIhmZma6urrM\n",
       "zMxUVFQiIiJERETc3Nzu7u6qqqp2dnaYmJgyMjIAAAAcRTyBAAAAAXRSTlMAQObYZgAABHVJREFU\n",
       "WMPFmV2IG1UUx/+Zycd8JQYfVETrkLWLlsIGq4sPWlN98sXNkz5Y6LJVQdE1frBbYSmpoqYoGEVa\n",
       "+1B32pUVFmUjPsiK0GERhVjagBW1IA0uKCiGsN0tTdai5042M9k2kztZ9+KFTHJmzsz93XvP150A\n",
       "3PY1hDVtNJieYYtjwCPB1AYFIiBeDaKlJwV0/ZnV/vV2EPUTma23gmeft/p6/GsiluCC1c80602x\n",
       "DJjia8fSghlOFfnaRcEMAQZ5AIIZ4tzFjqyIZtCWecpyUjQDajzl0KhwhiGexe2rCGeY5nUx9J/c\n",
       "4lPfxzoMUrCpPsTv6Pj698K1l4743DJ82xIbfMIRlBycxPWLXwc39faaQ2lo+XUhWgzMsN5aDEYd\n",
       "37HvP/yyy8XeT7muhES7a626OYb4Kj6gLzXvN1CO845Y+N4VFjkMutmVgfpIkHkYJb+Mtdab4Vvg\n",
       "FS/Lb46B5jpenps76lvmrPZmWIKa8x6Z2RQDLgGXCwXf/Ck12DE8+FGK7l8cyGgDJk5Y4W+Ope6i\n",
       "Fbxv+xokSjla6ukHaSGMdDeGk4Pv7zR7MlwGngQO+9azTkIxlD+VJI5mtIYcTmKI5FcxX8SeotKE\n",
       "Qk72CX40D7ZrwzM11pbaDJodfzFW7cmwDXhoo0V/ccf+X7104TA8HhsNZ1mxMXVcrqJAchXTWe1W\n",
       "kBQjUyrjrPUw9ZHrMg+GZTTDxZ4MN1ICh9SOltpXuyqSgbKrHK2zozWfaeFcskImrnfkC+xEzEaI\n",
       "LlnExQy83oVBg+I4nVGr/b6tVnNi4j+s1V2GF+hqJda+56eFORDD+cpGBpxiITUPdZmcMbLqyOPs\n",
       "BLGEHENc9mWgGGJybJIY1OqjzLnvGcyGmVExBnvjWmA3feZtGA1yRinpyFc0OkEsbC0QcdwnnPPs\n",
       "4TePYV+WwzBJn8NPUM/WeCzjnCOGXa6BG45f4BY2nApCNt6gqT1Pst405ksY14vMJr+U6tjRbb9C\n",
       "DLo1RA/n2SQ+J/4I/gJmHAb5qZc933QGqLKjPMrK/GHsSdvqCozqD4oZnzCYQ4bXlLpKKLLdhWGk\n",
       "9E47q/kx3OAuGI34sUKhYErGe+e8GLXiTfLpnbT0s6mFsSzJ6nMlbWz7kdvZNW1sxwBLeolsF4bZ\n",
       "1Mn7K70ZWE6KW45BRRBtrYW+19uB8MtJL1Z/HDhWz9z7ekes/rtdzBhVmtdsyx7K7qRGrnAZgucs\n",
       "zfJ2/GcznTmr1WbPLZaBt1iMOmPP7Hbvu8hlUPrP3bKFUNJluCovSmQPG9UP8jew+athuAyhHKIN\n",
       "r4ZpcHp4IHgt93OXPfvkRNfapYnoKj6cPNAZB4MVwFvZYt7uKpTn1fYlMQwjXiyZNv+fPQ4m+tg+\n",
       "yHUhCHJHufMmTzksZs870PGbu+fFSyIQ9DSOufGA/6JHiGPsBe7sw+JC9tYjqFOnh3N9vAsS8U4s\n",
       "QaVcztse8NsShDb95gBK72aFMgR6R3ptxb6lbX8grWGRCPF8ILWoKZAh4H8HuFscgvYMO/4LHklG\n",
       "3RNRaxEAAAAASUVORK5CYII=\n",
       "\" style=\"display:inline;vertical-align:middle;\" /></a><br>(see <a class=\"ProveItLink\" href=\"../../../__pv_it/theorems/67ed5291569f78fcbbc5f98a4b0e577aadc5006f0/dependencies.ipynb\">dependencies</a>)<br>"
      ],
      "text/plain": [
       "round_in_terms_of_floor: forall_{x in Real} (round(x) = floor(x + (1 / 2)))"
      ]
     },
     "execution_count": 2,
     "metadata": {},
     "output_type": "execute_result"
    }
   ],
   "source": [
    "%proving round_in_terms_of_floor"
   ]
  },
  {
   "cell_type": "code",
   "execution_count": null,
   "metadata": {},
   "outputs": [],
   "source": []
  }
 ],
 "metadata": {
  "kernelspec": {
   "display_name": "Python 3",
   "language": "python",
   "name": "python3"
  }
 },
 "nbformat": 4,
 "nbformat_minor": 0
}