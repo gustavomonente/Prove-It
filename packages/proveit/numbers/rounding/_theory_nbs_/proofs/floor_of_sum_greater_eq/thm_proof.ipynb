{
 "cells": [
  {
   "cell_type": "markdown",
   "metadata": {},
   "source": [
    "Proof of <a class=\"ProveItLink\" href=\"../../../../../_theory_nbs_/theory.ipynb\">proveit</a>.<a class=\"ProveItLink\" href=\"../../../../_theory_nbs_/theory.ipynb\">numbers</a>.<a class=\"ProveItLink\" href=\"../../theory.ipynb\">rounding</a>.<a class=\"ProveItLink\" href=\"../../theorems.ipynb#floor_of_sum_greater_eq\">floor_of_sum_greater_eq</a> theorem\n",
    "========"
   ]
  },
  {
   "cell_type": "code",
   "execution_count": 1,
   "metadata": {},
   "outputs": [],
   "source": [
    "import proveit\n",
    "theory = proveit.Theory() # the theorem's theory"
   ]
  },
  {
   "cell_type": "code",
   "execution_count": 2,
   "metadata": {},
   "outputs": [
    {
     "data": {
      "text/html": [
       "Under these <a href=\"presumptions.txt\">presumptions</a>, we begin our proof of<br><strong id=\"floor_of_sum_greater_eq\">floor_of_sum_greater_eq:</strong> <a class=\"ProveItLink\" href=\"../../../__pv_it/theorems/1df651a47ab5520ecf8ec6b871d1d777557d83b90/expr.ipynb\"><img src=\"data:image/png;base64,iVBORw0KGgoAAAANSUhEUgAAARUAAAAWBAMAAAAcIxXLAAAAMFBMVEX///8QEBCIiIhmZma6urrM\n",
       "zMxUVFQiIiJERETc3Nzu7u6qqqp2dnaYmJgyMjIAAAAcRTyBAAAAAXRSTlMAQObYZgAAAypJREFU\n",
       "SMfFlk1o02AYx/+m6UfSdBuiCB4krjDGLhbH9CJ1TnB4cd1FL4JjfoCXMd2kgpsMkdEhQlRwQ0Gj\n",
       "A5UysOhBJh7KvFWYOQz8wEHw0KFiKKLgFMEkb7Il2Zs08+ILf2jzvv+8v7zPkzwPEG7wStCsWM8i\n",
       "+s8xWNfgFHB9QQvUehbvAsdcAzALInPVYjDLI6ybxWMJZolJRK+M/5+DWT6FYuGHZF9LMAuvEk0Z\n",
       "M2OBKKnMGpakSDmXZFXys9gsT6gsmCNq0B9GKAWyxKVwLGCrOR9LHZZ7RKlKsTgZHKJJhGRBtNBJ\n",
       "t9Rhaegk+lkojASzpC0z33y6a87FwqdFXJMd6cANlKgWGsv9neC2EhYhQ3QSmAhmuWqZZ/BGvOhi\n",
       "Edgm7HClJrdbolloLOV9YGqEJaUS7TdT2DuetR7/aP++YJkreC0fdLHcjqgouFhSQ1QLhYUrZZEY\n",
       "IyzJQaI4GM83lX/RrjACKnZObLJuLJv76qehaUvbNM24skHENycLMyJTLeaCeU07o2lVi4XHRjSK\n",
       "hCVaIxKUuOdM3s4WobO8VzwsMPd15W6PHP3hYJk562OhxYj9hWM5NwunHjbe7o4W/TrbgrjMZowH\n",
       "1FnKnhjB3NfFkgXTtLrVjVH4WGgseny3W+8RO0iEiRP61vJAXH+nhEa515w0WNozntx9rqdam5tl\n",
       "HIm+la1uflmT7raFxqI7x+HOXTzVgaL4aiy51Y1WTJsskVPD9o1fEjP7O1HjFDfLLvQoKzXg8mqY\n",
       "vRbqufSxfyyWSJnITCBg2VyzB/04UigUREa4vmDfuNtKtv629KInRg+a90q02ui10Fj4/vSy/a3L\n",
       "ESElm9kTNdYMYzNiJEbJo3KYGpCl1ulwNSCiWiwPLZnjrqAKmJJxjq1ByJF8qZT9ayNPOGMq/53K\n",
       "4lcbiw6WATzudNdG66wX5iroLeFAq+66Ynzr5svTWXt2wq9niCsJcbVnWMobI0ez0HqGUVzy9AzO\n",
       "UeKlhJ5pjJ4v4Xoptrnj33uprnTOYklIRM4kkGLlQz49Jr8l79dNcUv5sUALZcHK3J38eeAdiJxB\n",
       "BvuhjP83/gKqbRzLhYxOGAAAAABJRU5ErkJggg==\n",
       "\" style=\"display:inline;vertical-align:middle;\" /></a><br>(see <a class=\"ProveItLink\" href=\"../../../__pv_it/theorems/d3a6924476f0b35b9e3ab5bf014beb7bcb5803d10/dependencies.ipynb\">dependencies</a>)<br>"
      ],
      "text/plain": [
       "floor_of_sum_greater_eq: forall_{x, y in Real} (floor(x + y) >= (floor(x) + floor(y)))"
      ]
     },
     "execution_count": 2,
     "metadata": {},
     "output_type": "execute_result"
    }
   ],
   "source": [
    "%proving floor_of_sum_greater_eq"
   ]
  },
  {
   "cell_type": "code",
   "execution_count": null,
   "metadata": {},
   "outputs": [],
   "source": []
  }
 ],
 "metadata": {
  "kernelspec": {
   "display_name": "Python 3",
   "language": "python",
   "name": "python3"
  }
 },
 "nbformat": 4,
 "nbformat_minor": 0
}