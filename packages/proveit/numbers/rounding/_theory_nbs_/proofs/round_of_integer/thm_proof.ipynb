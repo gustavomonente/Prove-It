{
 "cells": [
  {
   "cell_type": "markdown",
   "metadata": {},
   "source": [
    "Proof of <a class=\"ProveItLink\" href=\"../../../../../_theory_nbs_/theory.ipynb\">proveit</a>.<a class=\"ProveItLink\" href=\"../../../../_theory_nbs_/theory.ipynb\">numbers</a>.<a class=\"ProveItLink\" href=\"../../theory.ipynb\">rounding</a>.<a class=\"ProveItLink\" href=\"../../theorems.ipynb#round_of_integer\">round_of_integer</a> theorem\n",
    "========"
   ]
  },
  {
   "cell_type": "code",
   "execution_count": 1,
   "metadata": {},
   "outputs": [],
   "source": [
    "import proveit\n",
    "theory = proveit.Theory() # the theorem's theory"
   ]
  },
  {
   "cell_type": "code",
   "execution_count": 2,
   "metadata": {},
   "outputs": [
    {
     "data": {
      "text/html": [
       "Under these <a href=\"presumptions.txt\">presumptions</a>, we begin our proof of<br><strong id=\"round_of_integer\">round_of_integer:</strong> <a class=\"ProveItLink\" href=\"../../../__pv_it/theorems/e01234edd32018feb254a28dc1660b21ed9670180/expr.ipynb\"><img src=\"data:image/png;base64,iVBORw0KGgoAAAANSUhEUgAAAL4AAAAUBAMAAADB3ZomAAAAMFBMVEX///8QEBCIiIhmZma6urrM\n",
       "zMxUVFQiIiJERETc3Nzu7u6qqqp2dnaYmJgyMjIAAAAcRTyBAAAAAXRSTlMAQObYZgAAAsFJREFU\n",
       "OMulVUtoE2EQ/to8NtnspsX2UMVDTLEXBYOvk9ZYES+COfk4SENRoT1IERGkIlUvW0QbVKookjVC\n",
       "KTnogogUBJfUS6PogqKCVHJQREHJQcE+BGc22WQbd9eAe8jOfDP/zD/fzE4Ar+e2pxVho/KOZJzt\n",
       "jJdYmHO2i6PusQ92AFOWMujiRPgzfn91NkczHpdfBL5Y8j0XH8JvcJ0u93zlEd6/ADlhKVLM2Ynw\n",
       "qEovzdl82iO+NAyhVp7Y7kJwO+RiPn/dpX3DHvGjCdiOfXTxIvyXopxxNrZS/X1DfXG6bHwzchsh\n",
       "rsLewSvdRMbVQr+GbvLJ9VxbT/pM49k6fhQYc44fovHTL2vnED6J+5nETrSWoSsxcR7+lRhXcYkI\n",
       "0OUTAo3gB5Oy7+bDXbHhuyCWbEGDXTMXqn0TNAS0U9gNQYcwa/QiNBrQziL8E3cM9AIjFFKVFvzU\n",
       "hkeN3anjAloNqx2PNxlCRsqpFbUlCVH8QcIOFW1DWIGWGOtymQHitJNOUE527W9sbB2XDMFC303n\n",
       "EcFh66ul+IiUSegCsjEayP4U68ESAZy3k53aYk7xbXi4tJ+EwpaelL/CS0JHjR/4iDtxCXiZoYFc\n",
       "Y+ptRn7JzDtiRkjx7x4b/2ksx8eO0Kiox4Vk1DTIt1K2/rZwst/AaoTSUGSV9CdqcZGKmOb+RtQN\n",
       "dLbaX/vmseEPaMwD+AbcrUyWVGsS1ZPlZFsRSsCX9ndIyCbxQk6dx9u0zsO3Txs3l+C2hvh2vMLU\n",
       "PHBAUZQY9CJuVlfAsFV44SmxNLBuYi3rE+8xGT80kGR5Mp7bztPxqSG+HZd5XALlAIJm0IcGZpvY\n",
       "D9yf+n5w+dJreFYqSZCYC5/PvPc/9xtfrJn9Vq3ndaEIXCTpzbHnn9NWgzPeCcaa2M/LFg7z3+T/\n",
       "Cz9TfyVyu8D//T/KLnUS/gfRdM2xgKoNywAAAABJRU5ErkJggg==\n",
       "\" style=\"display:inline;vertical-align:middle;\" /></a><br>(see <a class=\"ProveItLink\" href=\"../../../__pv_it/theorems/f3632d6bfbd0246aa5e328b72718ce29b6b4a0d30/dependencies.ipynb\">dependencies</a>)<br>"
      ],
      "text/plain": [
       "round_of_integer: forall_{x in Integer} (round(x) = x)"
      ]
     },
     "execution_count": 2,
     "metadata": {},
     "output_type": "execute_result"
    }
   ],
   "source": [
    "%proving round_of_integer"
   ]
  },
  {
   "cell_type": "code",
   "execution_count": null,
   "metadata": {},
   "outputs": [],
   "source": []
  }
 ],
 "metadata": {
  "kernelspec": {
   "display_name": "Python 3",
   "language": "python",
   "name": "python3"
  }
 },
 "nbformat": 4,
 "nbformat_minor": 0
}