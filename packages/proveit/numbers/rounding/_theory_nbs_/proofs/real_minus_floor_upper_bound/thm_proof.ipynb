{
 "cells": [
  {
   "cell_type": "markdown",
   "metadata": {},
   "source": [
    "Proof of <a class=\"ProveItLink\" href=\"../../../../../_theory_nbs_/theory.ipynb\">proveit</a>.<a class=\"ProveItLink\" href=\"../../../../_theory_nbs_/theory.ipynb\">numbers</a>.<a class=\"ProveItLink\" href=\"../../theory.ipynb\">rounding</a>.<a class=\"ProveItLink\" href=\"../../theorems.ipynb#real_minus_floor_upper_bound\">real_minus_floor_upper_bound</a> theorem\n",
    "========"
   ]
  },
  {
   "cell_type": "code",
   "execution_count": 1,
   "metadata": {},
   "outputs": [],
   "source": [
    "import proveit\n",
    "theory = proveit.Theory() # the theorem's theory"
   ]
  },
  {
   "cell_type": "code",
   "execution_count": 2,
   "metadata": {},
   "outputs": [
    {
     "data": {
      "text/html": [
       "Under these <a href=\"presumptions.txt\">presumptions</a>, we begin our proof of<br><strong id=\"real_minus_floor_upper_bound\">real_minus_floor_upper_bound:</strong> <a class=\"ProveItLink\" href=\"../../../__pv_it/theorems/15f098e61926e07473b51e25c097a43cba44bed80/expr.ipynb\"><img src=\"data:image/png;base64,iVBORw0KGgoAAAANSUhEUgAAAL0AAAAVBAMAAADhtvKAAAAAMFBMVEX///8QEBCIiIhmZma6urrM\n",
       "zMxUVFQiIiJERETc3Nzu7u6qqqp2dnaYmJgyMjIAAAAcRTyBAAAAAXRSTlMAQObYZgAAAi9JREFU\n",
       "OMullT1oFEEUgB97d9lkb/bSWFkdCsFCMBAsEwIpLN1KG0HEn1JCFCMkAcs9QshhxNiomwROORQC\n",
       "FhKwWBJIcYJskUIFYREsVAyWZouQffNmbm93Ztl4GXjH8N3Md3vvzZsF6G+8TaYG9D2GAgp1PE2m\n",
       "NYAt/XbEIU6+5fhfiyjyDzS1ixB/xMmvHP9PEUV+K1QWVE8TfoZpeKTX26MUhX7Y7hH/wM/WbkS4\n",
       "5gGwTb3fbFIU+9eSZ7pHG+yIsN1pt1dz0rMqothfm5SHad6DxI/4n+vO5/jPilgfeXK+rvoFRj8T\n",
       "WXwz0/0fkcC3ARo5/iUKy7dnzFDxS4x+m77eWICUH/FUuvrvz938LudzFMxjUbmp+CVGf3Wan8ff\n",
       "kPYjNsGQHWR9GAsMBh2Zi1MUFgzyA2bt8+HI5xcY/ZW//NBk/YhZYEr2easNsf9rkPYDDNe19SWc\n",
       "+GFlQfUPhVfwpF4cccpYJPT76fwAXHe0fsLoL09r68tx41Zs9e6akzUg/9hour5V70K8QPFL3FPf\n",
       "7Pnk+F38IxX4E1efLyjduS8lOxSXN5fhufr8EqO/5Gf7y4gkpiweAFx1XbdusMd7cu0litaZ9fFA\n",
       "9UvM+8vJ3A+lG4fjAtser0QFBig/1Wvef98Pr/QN1MUvWciAOZT/jn+S+613dHFrb7sDsIj99cnf\n",
       "mJC4AXnNXXg/84bJYCPOf1/vl0F9EnPwcd6Pa7MPaPJi9iHAF/32GB8BYD+yLXZdLD8AAAAASUVO\n",
       "RK5CYII=\n",
       "\" style=\"display:inline;vertical-align:middle;\" /></a><br>(see <a class=\"ProveItLink\" href=\"../../../__pv_it/theorems/292bb0c489802f00063d7fbee418a1f0e88177130/dependencies.ipynb\">dependencies</a>)<br>"
      ],
      "text/plain": [
       "real_minus_floor_upper_bound: forall_{x in Real} ((x - floor(x)) < 1)"
      ]
     },
     "execution_count": 2,
     "metadata": {},
     "output_type": "execute_result"
    }
   ],
   "source": [
    "%proving real_minus_floor_upper_bound"
   ]
  },
  {
   "cell_type": "code",
   "execution_count": null,
   "metadata": {},
   "outputs": [],
   "source": []
  }
 ],
 "metadata": {
  "kernelspec": {
   "display_name": "Python 3",
   "language": "python",
   "name": "python3"
  }
 },
 "nbformat": 4,
 "nbformat_minor": 0
}