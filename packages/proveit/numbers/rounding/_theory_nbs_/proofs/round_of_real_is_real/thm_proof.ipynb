{
 "cells": [
  {
   "cell_type": "markdown",
   "metadata": {},
   "source": [
    "Proof of <a class=\"ProveItLink\" href=\"../../../../../_theory_nbs_/theory.ipynb\">proveit</a>.<a class=\"ProveItLink\" href=\"../../../../_theory_nbs_/theory.ipynb\">numbers</a>.<a class=\"ProveItLink\" href=\"../../theory.ipynb\">rounding</a>.<a class=\"ProveItLink\" href=\"../../theorems.ipynb#round_of_real_is_real\">round_of_real_is_real</a> theorem\n",
    "========"
   ]
  },
  {
   "cell_type": "code",
   "execution_count": 1,
   "metadata": {},
   "outputs": [],
   "source": [
    "import proveit\n",
    "theory = proveit.Theory() # the theorem's theory\n",
    "from proveit import defaults, x\n",
    "from proveit.numbers.rounding import round_is_an_int"
   ]
  },
  {
   "cell_type": "code",
   "execution_count": 2,
   "metadata": {},
   "outputs": [
    {
     "data": {
      "text/html": [
       "Under these <a href=\"presumptions.txt\">presumptions</a>, we begin our proof of<br><strong id=\"round_of_real_is_real\">round_of_real_is_real:</strong> <a class=\"ProveItLink\" href=\"../../../__pv_it/theorems/8368dfae4ea79bc22d01d68028ac7df1200282de0/expr.ipynb\"><img src=\"data:image/png;base64,iVBORw0KGgoAAAANSUhEUgAAAL8AAAAUBAMAAAAuH/EYAAAAMFBMVEX///8QEBCIiIhmZma6urrM\n",
       "zMxUVFQiIiJERETc3Nzu7u6qqqp2dnaYmJgyMjIAAAAcRTyBAAAAAXRSTlMAQObYZgAAAxFJREFU\n",
       "OMulVU1oE1EQ/pJNms1mkxbx0IPCktgiRTBY9CQltYgIgvFSC3oI1QoeLB7EIJay/qCpIkYPtoKl\n",
       "WypRipCAh1IRXCooRNHgD60FcVE8WLGWomJbBOe93c1P7YaCC5u3883b+Xa+mTcBql3+QlU3Bq11\n",
       "3MHPcIM9vHfYcNc5tvdMFJJqGTXpSudk/dXZ+oKJP2PAjEOUL1W+vjaHkB1XMpY5jQw6pjSODzAl\n",
       "1JVjBKNVCPZqeF00JpY51VsQ/QmOhzRAzq0cw5euQvAUOFU0hq11Kpk0LAIhbXA8mB8d7XeI0V+t\n",
       "wJ/gP140QjG+dDSVMhDSqon/TqV6HGJEAE/j7bBCqUZiUkTBsOZ5cjO8hUTd3rAENykohY/uIB1k\n",
       "LqY0UyZRjSdh4l1AnwPBFdohfhXr0B+TFgRPHTaTfRbZNFrT4iJE6pN7mFR6SQejspmIYKxFM/G2\n",
       "yh4Y23joo/18GjjgS3jioBR7BgUDKbINDMWl9SDLR6XL46W2GwhwtcRSka8le1lhGe6D2z5O0sPm\n",
       "gltGXrHstYCWJRWFReCX5lKwhtsfGODT4SKXRqTsVMyx332zdFlFbhM1C5cLPpt3anwURDBdKBHg\n",
       "Ed0uFf556kvvT253M4CIXLyy8yWCgbI2FXaqFu432lkjb22Me1ilGIFekggtdGd1yAvUl+46bv+R\n",
       "CCAiJhEYKfUCl8hVfg4uvbLxvsMUVuv2xUIwCZqjpSJjHTu0Bbh0XICoTpMdWJSzOXQH0qzID9xz\n",
       "aLKLLChlBO1C3MLvE4sX34ARTiAcOWFve0z5sQ8UEjgHbENrVPf/gGy8FZXgSZn1oGdJnGMTUdCL\n",
       "KdujQs51WXgt510A9qdSKcUtX39jb9tl5/58E8mdCY93xsn2H8tJnQ03NjCf1NkUYZMyFOcvZM5r\n",
       "9rD7jNT3nIkHzXJ7UWNKFDiorWZUoHxU3LHWPReTFXPPxjEkG5Ry3KxBXl/NsKPLedj9g2feTOSB\n",
       "y+ygvdBHWmy4rzqB6DiuHXA31WC1fzj8fXU5k9MX/O9f5jsHP+F/AcHk7BatNpvEAAAAAElFTkSu\n",
       "QmCC\n",
       "\" style=\"display:inline;vertical-align:middle;\" /></a><br>(see <a class=\"ProveItLink\" href=\"../../../__pv_it/theorems/d6c5431537a6a7a8f1fec0cabd61858fa41e72e80/dependencies.ipynb\">dependencies</a>)<br>"
      ],
      "text/plain": [
       "round_of_real_is_real: forall_{x in Real} (round(x) in Real)"
      ]
     },
     "execution_count": 2,
     "metadata": {},
     "output_type": "execute_result"
    }
   ],
   "source": [
    "%proving round_of_real_is_real"
   ]
  },
  {
   "cell_type": "code",
   "execution_count": 3,
   "metadata": {},
   "outputs": [
    {
     "data": {
      "text/html": [
       "<strong id=\"defaults.assumptions\">defaults.assumptions:</strong> <a class=\"ProveItLink\" href=\"../../../__pv_it/_proof_round_of_real_is_real/b529ef1454c6f4d593899d1457fe67f394c4563d0/expr.ipynb\"><img src=\"data:image/png;base64,iVBORw0KGgoAAAANSUhEUgAAAEAAAAAUBAMAAADPWCYMAAAAMFBMVEX////MzMxUVFR2dna6uroQ\n",
       "EBCqqqqIiIgiIiJmZmYyMjJERETu7u6YmJjc3NwAAACgK8IjAAAAAXRSTlMAQObYZgAAASpJREFU\n",
       "KM9jYOC7wIATsD0AEqexSPC27v61dC+QoQfE67Bp5eJRYNy7h4HhFFDxBGwKuPkMGDY8YmBgLmDg\n",
       "eIAscbujYwFMwTwuBgaeAIYXyPLSNUgmzOMGMpYwVALJ40VPiguANM8aZCsUnIAMSwagW3kMeNs5\n",
       "QCYzPUBSwNYJUn6LoQ3okgPMf1hActxIjozoWAZiZDCEAE1g4N4AFhZdBQRQR5pM2ANiyIMUMDDw\n",
       "F4AVvEb25hRpiII2MCUAFmZFVsB9FqTLA+RItgP1DOwHgDzOAiQFjAoTwY60ZGDwT9jP8BYs3oYU\n",
       "1AxmTEBzJwPNYDhUfnwuJEoPbTkAjywB7l3fGBgWogW18w5IUMMATwOOyIIBYGQx7MOn4BSOBAMH\n",
       "IN34khzvAwYAhFtNEjex30MAAAAASUVORK5CYII=\n",
       "\" style=\"display:inline;vertical-align:middle;\" /></a><br>"
      ],
      "text/plain": [
       "defaults.assumptions: (x in Real)"
      ]
     },
     "execution_count": 3,
     "metadata": {},
     "output_type": "execute_result"
    }
   ],
   "source": [
    "defaults.assumptions = round_of_real_is_real.conditions"
   ]
  },
  {
   "cell_type": "code",
   "execution_count": 4,
   "metadata": {},
   "outputs": [
    {
     "data": {
      "text/html": [
       "<span style=\"font-size:20px;\"> <a class=\"ProveItLink\" href=\"../../axioms.ipynb#round_is_an_int\" style=\"text-decoration: none\">&nbsp;&#x22A2;&nbsp;&nbsp;</a><a class=\"ProveItLink\" href=\"../../../__pv_it/axioms/b1499bd04cc9f6b8985a0dd083c886e41d9beb2a0/expr.ipynb\"><img src=\"data:image/png;base64,iVBORw0KGgoAAAANSUhEUgAAAL8AAAAUBAMAAAAuH/EYAAAAMFBMVEX///8QEBCIiIhmZma6urrM\n",
       "zMxUVFQiIiJERETc3Nzu7u6qqqp2dnaYmJgyMjIAAAAcRTyBAAAAAXRSTlMAQObYZgAAAxxJREFU\n",
       "OMulVV1IFFEU/nZ31p2ZnV0leugha9nNEAnaEnsIkVWJCII2ggrqQewHDFp6CCUSWTNqNYqlB7UH\n",
       "cUTYQoJd6CGMoMGiYItaysiEaKyngsLEIpWgc+/OzOrmLEIX7tw535053z3fOXMGKDWkXMltDBnr\n",
       "uM0+w3V288HmgTv2vt3dYchxwyhLFu3u3bxppquS48+Z/dXGy5cSpy/PwG/6lfWizeo6+BHn+CBT\n",
       "Ir66D1+4BMEBFW8sY6Jos55OrkQ47lcBJbO6D0+yBMEz4IJljBjrVEcHD2Y3pJZDedyXHRsbsPEx\n",
       "UCrBnyGdswx/hC9HayxEVPsM/Hci0WnjI0Sz6UxTkEINReRQACOq8PRWcCeJWl+1BCcpKAfbmkgH\n",
       "hYspL8vlax+rQIafAnptCK7T1G5kujEQkRdcQgW2QxEvIZ1EY1JchEgu7uJdoIt00IuKSY7zCmR4\n",
       "88oauF994pN5f5GqMdOOPaAQO4dcOhI45tExHJUrQZaHUpfFK3Uf4OVqiQU3ZdE2tjDcA6f5OckP\n",
       "a3NOBdmAYa8nSJ4HXIvAL9URwDqo6Qg+MsCjwUECq0TKvopZdj34nUb+tM2CZuJKzmPSTo2PgQim\n",
       "cwUCeOkRRxzSHNWl+yfwCIgxgIgcPLNzBYLBQgQ6RaOoHJf0w6yQ67ZGBZYpRqAVJGJSIK1BWaC6\n",
       "dFYADcAfmQAiYhKBkQICl8hh+VcyT7jJ8d6T5FaNeSJ+5Alqw8uS7CC28hxbrkCMT2MjvItKOoOY\n",
       "N8mS/MA5ixozyS5TW/RLLcAOA79HLG58A0Y5gev0efOxxzSHo/RiC3qAXWgMa9I8FP2tGPC1K6wG\n",
       "hSVxlnVEl2aFzEefqCI1ZeDlnHcBOJJIJAJO5eak1bKMiRfbSO5UcLw1SjFLZzNya1X/Fha/3FoT\n",
       "Yp3SH+UvpC6rfBU2zCS6f/QYuE/lWXKjLC+R97i6llaB5a3itrHuv9qxou+ZOIYVnUKO5nOQ1dbS\n",
       "7GjYN7t/8NTkRBa4xj60l9pogwn3liYQbdu1De6kHKz1h5PvB8VMdif431/me5t9wv8C9Ljg3BmZ\n",
       "/+kAAAAASUVORK5CYII=\n",
       "\" style=\"display:inline;vertical-align:middle;\" /></a></span>"
      ],
      "text/plain": [
       "|- forall_{x in Real} (round(x) in Integer)"
      ]
     },
     "execution_count": 4,
     "metadata": {},
     "output_type": "execute_result"
    }
   ],
   "source": [
    "round_is_an_int"
   ]
  },
  {
   "cell_type": "code",
   "execution_count": 5,
   "metadata": {},
   "outputs": [
    {
     "data": {
      "text/html": [
       "<span style=\"font-size:20px;\"><a class=\"ProveItLink\" href=\"../../../__pv_it/axioms/f399694c94d63fe522f8e05f5163f6a5a160a5b80/expr.ipynb\"><img src=\"data:image/png;base64,iVBORw0KGgoAAAANSUhEUgAAADQAAAAPBAMAAABZ6/G2AAAAMFBMVEX///8QEBBmZmaqqqrMzMxE\n",
       "REQyMjIiIiKYmJh2dna6urrc3NxUVFSIiIju7u4AAAA6P00QAAAAAXRSTlMAQObYZgAAAMRJREFU\n",
       "GNNjYMAAHIWh3xIjGLACNr4DLBFxWKVYuScwBOxBEWotL0+ASWmzIcu43kPSpc0KZLy9s+vmBSDN\n",
       "l4ds4IE1QJEJHLXsIHN4NiBJMRcBFXI+4PzHBRJlRXKGeHkyyBwG1gCwgGMaEECdMUsB4nb+C2Bq\n",
       "K7LjtVzBLH8HMMWILMX6Aqie+cF9Bt4HQAGmC0hSLAdUGBjWG8Qz7ACLFCMFFMNkHgeGN3ffajSA\n",
       "Rd5EPYAHrwNr2Gfk4FgZDgkoKAAAelg1omM6Y4wAAAAASUVORK5CYII=\n",
       "\" style=\"display:inline;vertical-align:middle;\" /></a> <a class=\"ProveItLink\" href=\"../../../__pv_it/_proof_round_of_real_is_real/ddd876727eefba12e97fbc03befca541452340c00/proof.ipynb\" style=\"text-decoration: none\">&nbsp;&#x22A2;&nbsp;&nbsp;</a><a class=\"ProveItLink\" href=\"../../../__pv_it/axioms/6c765373f12874e78b125e721bac4ed825e483920/expr.ipynb\"><img src=\"data:image/png;base64,iVBORw0KGgoAAAANSUhEUgAAAHoAAAAUBAMAAACwiTT9AAAAMFBMVEX///+YmJjc3NxmZmYiIiLM\n",
       "zMwQEBCqqqoyMjJERER2dnbu7u5UVFSIiIi6uroAAAA5J+EfAAAAAXRSTlMAQObYZgAAAihJREFU\n",
       "OMuVVE9o02AU/6VL1yVZ0wiCHit6rC7ehjjtQXQISvEinlqcB6tMg3hfEdSdpP45WMZY0IPKmH4n\n",
       "sbi6OPAgMggMFWTFHsYO82AV3GAD8b1kSbXS0D1I3nvf9/3e9/5+QBTFDJ8n0tgmnRsBqoEy37ap\n",
       "H18bv3DLiICvAzcC+VXbXvJ+DiUlAqxvQjIDRXX/3eyxoVrPI9BqFnIYrlbwufTg2LCHFsjEzQh0\n",
       "n4l9Le2O949PinBlQiFZX3pTd6HWj6A2BO0yVuf3L5Kbe2fyFhbpUG3pwBfSH/vht8CSu4MdVG4r\n",
       "hdhpzKXNFSSbsCuu9hP6eUwJ3CWXbemUXAJ2t6e+qpXpf1Z29JxsQ35kDEIpx61hxH7hpYFB4AQZ\n",
       "F+qmTuFf9yDlFvpdPydFzDWAowKpDxhFr6tpvyE1eeEkcIXuJot8OO+FfXGcyK+IuerxMfqKwIBL\n",
       "JcrnkGiiv0QLZIXRQMoN0bHW3X3sxzTYQ20DeJGmEn2iWpSQMl5vsBX2HGyRaNnDFEL0E7XhqZdI\n",
       "/sFMcVCRRK+NMTG9Tg5c46wlxFckRZC1oXAAnAxdVOAUAYehmOhx9BEVAw08lXKT2OnYXKbv1hT2\n",
       "0IlDHki2ttCKmID2tgw9y2Wboa7TFj5nPrKLmV2YrZ9ZaLA8W68d5GG46bfc+28+euVhsXK1aEaO\n",
       "2V+dmt1q/md+p3ZDnaekK7rXaUK7oup/ZrZDwcskdXiZ/gCGYpGA5Aq/3wAAAABJRU5ErkJggg==\n",
       "\" style=\"display:inline;vertical-align:middle;\" /></a></span>"
      ],
      "text/plain": [
       "{x in Real} |- round(x) in Integer"
      ]
     },
     "execution_count": 5,
     "metadata": {},
     "output_type": "execute_result"
    }
   ],
   "source": [
    "round_is_an_int.instantiate({x:x})"
   ]
  },
  {
   "cell_type": "code",
   "execution_count": 6,
   "metadata": {},
   "outputs": [
    {
     "data": {
      "text/html": [
       "<table><tr><th>&nbsp;</th><th>step type</th><th>requirements</th><th>statement</th></tr>\n",
       "<tr><td><a name=\"0x25fbeb02c53dd948_step0\">0</a></td><td>generalizaton</td><td><a href=\"#0x25fbeb02c53dd948_step1\">1</a></td><td><span style=\"font-size:20px;\"> <a class=\"ProveItLink\" href=\"../../../__pv_it/_proof_round_of_real_is_real/3973230b4f9e6c948ca7f15487b48f294bdaec780/proof.ipynb\" style=\"text-decoration: none\">&nbsp;&#x22A2;&nbsp;&nbsp;</a><a class=\"ProveItLink\" href=\"../../../__pv_it/theorems/8368dfae4ea79bc22d01d68028ac7df1200282de0/expr.ipynb\"><img src=\"data:image/png;base64,iVBORw0KGgoAAAANSUhEUgAAAL8AAAAUBAMAAAAuH/EYAAAAMFBMVEX///8QEBCIiIhmZma6urrM\n",
       "zMxUVFQiIiJERETc3Nzu7u6qqqp2dnaYmJgyMjIAAAAcRTyBAAAAAXRSTlMAQObYZgAAAxFJREFU\n",
       "OMulVU1oE1EQ/pJNms1mkxbx0IPCktgiRTBY9CQltYgIgvFSC3oI1QoeLB7EIJay/qCpIkYPtoKl\n",
       "WypRipCAh1IRXCooRNHgD60FcVE8WLGWomJbBOe93c1P7YaCC5u3883b+Xa+mTcBql3+QlU3Bq11\n",
       "3MHPcIM9vHfYcNc5tvdMFJJqGTXpSudk/dXZ+oKJP2PAjEOUL1W+vjaHkB1XMpY5jQw6pjSODzAl\n",
       "1JVjBKNVCPZqeF00JpY51VsQ/QmOhzRAzq0cw5euQvAUOFU0hq11Kpk0LAIhbXA8mB8d7XeI0V+t\n",
       "wJ/gP140QjG+dDSVMhDSqon/TqV6HGJEAE/j7bBCqUZiUkTBsOZ5cjO8hUTd3rAENykohY/uIB1k\n",
       "LqY0UyZRjSdh4l1AnwPBFdohfhXr0B+TFgRPHTaTfRbZNFrT4iJE6pN7mFR6SQejspmIYKxFM/G2\n",
       "yh4Y23joo/18GjjgS3jioBR7BgUDKbINDMWl9SDLR6XL46W2GwhwtcRSka8le1lhGe6D2z5O0sPm\n",
       "gltGXrHstYCWJRWFReCX5lKwhtsfGODT4SKXRqTsVMyx332zdFlFbhM1C5cLPpt3anwURDBdKBHg\n",
       "Ed0uFf556kvvT253M4CIXLyy8yWCgbI2FXaqFu432lkjb22Me1ilGIFekggtdGd1yAvUl+46bv+R\n",
       "CCAiJhEYKfUCl8hVfg4uvbLxvsMUVuv2xUIwCZqjpSJjHTu0Bbh0XICoTpMdWJSzOXQH0qzID9xz\n",
       "aLKLLChlBO1C3MLvE4sX34ARTiAcOWFve0z5sQ8UEjgHbENrVPf/gGy8FZXgSZn1oGdJnGMTUdCL\n",
       "KdujQs51WXgt510A9qdSKcUtX39jb9tl5/58E8mdCY93xsn2H8tJnQ03NjCf1NkUYZMyFOcvZM5r\n",
       "9rD7jNT3nIkHzXJ7UWNKFDiorWZUoHxU3LHWPReTFXPPxjEkG5Ry3KxBXl/NsKPLedj9g2feTOSB\n",
       "y+ygvdBHWmy4rzqB6DiuHXA31WC1fzj8fXU5k9MX/O9f5jsHP+F/AcHk7BatNpvEAAAAAElFTkSu\n",
       "QmCC\n",
       "\" style=\"display:inline;vertical-align:middle;\" /></a></span></td></tr>\n",
       "<tr><td><a name=\"0x25fbeb02c53dd948_step1\">1</a></td><td>instantiation</td><td><a href=\"#0x25fbeb02c53dd948_step4\">4</a>, <a href=\"#0x25fbeb02c53dd948_step2\">2</a>, <a href=\"#0x25fbeb02c53dd948_step3\">3</a></td><td><span style=\"font-size:20px;\"><a class=\"ProveItLink\" href=\"../../../__pv_it/axioms/f399694c94d63fe522f8e05f5163f6a5a160a5b80/expr.ipynb\"><img src=\"data:image/png;base64,iVBORw0KGgoAAAANSUhEUgAAADQAAAAPBAMAAABZ6/G2AAAAMFBMVEX///8QEBBmZmaqqqrMzMxE\n",
       "REQyMjIiIiKYmJh2dna6urrc3NxUVFSIiIju7u4AAAA6P00QAAAAAXRSTlMAQObYZgAAAMRJREFU\n",
       "GNNjYMAAHIWh3xIjGLACNr4DLBFxWKVYuScwBOxBEWotL0+ASWmzIcu43kPSpc0KZLy9s+vmBSDN\n",
       "l4ds4IE1QJEJHLXsIHN4NiBJMRcBFXI+4PzHBRJlRXKGeHkyyBwG1gCwgGMaEECdMUsB4nb+C2Bq\n",
       "K7LjtVzBLH8HMMWILMX6Aqie+cF9Bt4HQAGmC0hSLAdUGBjWG8Qz7ACLFCMFFMNkHgeGN3ffajSA\n",
       "Rd5EPYAHrwNr2Gfk4FgZDgkoKAAAelg1omM6Y4wAAAAASUVORK5CYII=\n",
       "\" style=\"display:inline;vertical-align:middle;\" /></a> <a class=\"ProveItLink\" href=\"../../../__pv_it/_proof_round_of_real_is_real/acc899ad46b7b56660c18eb43fada18a1505aa4c0/proof.ipynb\" style=\"text-decoration: none\">&nbsp;&#x22A2;&nbsp;&nbsp;</a><a class=\"ProveItLink\" href=\"../../../__pv_it/theorems/5f43b1ef122e89f0b1afb2a2202bf9a328722e010/expr.ipynb\"><img src=\"data:image/png;base64,iVBORw0KGgoAAAANSUhEUgAAAHsAAAAUBAMAAABfS1/DAAAAMFBMVEX///+YmJjc3NxmZmYiIiLM\n",
       "zMwQEBCqqqoyMjJERER2dnbu7u5UVFSIiIi6uroAAAA5J+EfAAAAAXRSTlMAQObYZgAAAh9JREFU\n",
       "OMudVE1oE0EU/rqTbjq7zVptPRQRtyKCIphjEQUpAUvxsCel4CEeKwhL8ebBgSIWPBhQhOLfHjxp\n",
       "S/dQepBgoiD0ElgIvRijQbEHQZoWpIdY8c2w2WwLWaIPdme/eXxv33zvvQESbSxcZ/Gv1v84C7MQ\n",
       "gkF7r3Nk5sX8zFAi/4CLgTbLFPucoojpUT+JvuljOAJL+5yF0+BaOYn+EpiIwGq4juZyIqQzWyTR\n",
       "56BdjMBAQy3Ttc7fmU3KWJ/e1gNKrtowqwFWfWvxeP0CoJ1b30EmS6euv/9JmRtZJcH9WPKDFiVv\n",
       "8Hs8jxMNc5tZeXwh/AwlGxs2b4GTtm8wEkwCfWJvAYh+a5yku5oqWw6mgKkxJrBAWOCsY14HoZQL\n",
       "vMay/xVIq3PwjnQnc5PkhV+iU7EW8NvXA9xU+JjcSHnQyeVTSNkFTfm+Mk8WSveNq7rdoUcvQNul\n",
       "SvX/UnhNblAYXem126GfihWOfVc9NU5PyYOxTZXK5BXeMmmDwsjkIUOSwip5PV73J0flxw3ZYEPQ\n",
       "PTwFLxwhnG4ZJRdraVtKdzvTRK0tHQti9GvMoQrJ4KyMh8B5bGQ97Q8McZgHfZcNWS1rhzc1isI8\n",
       "xboUa1rD/dDO6tVHOmaxPltxCGvvXLOyfuaz9JmVWvWgbBtHsYrP/fbI3MXCAzd56jpNuxKuPx7l\n",
       "RM9D231kejLedWB7sui64Pb/0KPL6lAX/18oF5ifANVvdgAAAABJRU5ErkJggg==\n",
       "\" style=\"display:inline;vertical-align:middle;\" /></a></span></td></tr>\n",
       "<tr><td>&nbsp;</td><td colspan=4 style=\"text-align:left\"><span style=\"font-size:20px;\"><a class=\"ProveItLink\" href=\"../../../../../__pv_it/common/e4aad701f7f5516d8e7f0d805d518bf02c13322a0/expr.ipynb\"><img src=\"data:image/png;base64,iVBORw0KGgoAAAANSUhEUgAAAA8AAAAOBAMAAAACpFvcAAAALVBMVEX///8iIiIQEBBERERUVFS6\n",
       "urqIiIjc3NxmZmaqqqru7u6YmJgyMjLMzMwAAACK9jtgAAAAAXRSTlMAQObYZgAAAFtJREFUCNdj\n",
       "YACBOwxQcA5Kc59bAGGs7CuAMDbkBYBp1gXzNoAZSxnuJYAZAQx1DSCa16PDzwCshIGB6QCIMYGB\n",
       "gVEBSLMDGTwPgIxCIGZ+zsCw+N0pBk67hw0AfpEVEQi8t+wAAAAASUVORK5CYII=\n",
       "\" style=\"display:inline;vertical-align:middle;\" /></a> : <a class=\"ProveItLink\" href=\"../../../../number_sets/rational_numbers/__pv_it/common/c31fbf3e632f478b2f5544a54ba7525fd0343dcc0/expr.ipynb\"><img src=\"data:image/png;base64,iVBORw0KGgoAAAANSUhEUgAAABAAAAARBAMAAAAmgTH3AAAALVBMVEX///+qqqp2dnaYmJiIiIjc\n",
       "3NwiIiLu7u66urpUVFQyMjJERERmZmbMzMwAAAAPPdWlAAAAAXRSTlMAQObYZgAAAIFJREFUCNdj\n",
       "YGC4s3vXDAYgqJwWwL5yO5Cx4yyQc6uAgcVgAQMDd8UEBi7WAwwMLA3bGSJ5DRgYOAw0GFoYBRgY\n",
       "eB2EGa5AGIIMnGApAVUGbojiCUB1G0DagcIaIAPvAE1mPhbAvsYAZBnzq3UCDGCgwTgBwmBSlTqi\n",
       "AGbF7F7TAADtgR4r3cUBHgAAAABJRU5ErkJggg==\n",
       "\" style=\"display:inline;vertical-align:middle;\" /></a>, <a class=\"ProveItLink\" href=\"../../../../../__pv_it/common/4eca3b30dcf58a58494e201d1b7886d8643a617b0/expr.ipynb\"><img src=\"data:image/png;base64,iVBORw0KGgoAAAANSUhEUgAAABAAAAAOBAMAAADUAYG5AAAALVBMVEX///8yMjKqqqoiIiLu7u7c\n",
       "3NyIiIjMzMwQEBC6urpERERmZmZUVFSYmJgAAACsPVCVAAAAAXRSTlMAQObYZgAAAGxJREFUCNdj\n",
       "YGC48+70nlUTGICgi4GB+zmQZn/LwMD5Gshge8rAwPsMyOBqYGDwMAEy+A4wsNs4ABl1Z68tVgBp\n",
       "ygtgYOkBMVaAOCChNyBGAsQYhnMTIMawvwJyGIHGzFjCwMAj92b3qUUMDAAXABxvZ4rl5AAAAABJ\n",
       "RU5ErkJggg==\n",
       "\" style=\"display:inline;vertical-align:middle;\" /></a> : <a class=\"ProveItLink\" href=\"../../../../number_sets/real_numbers/__pv_it/common/3eaf53c11933bb30b35e82c24807c695de530cf10/expr.ipynb\"><img src=\"data:image/png;base64,iVBORw0KGgoAAAANSUhEUgAAAA8AAAAOBAMAAAACpFvcAAAAMFBMVEX///+IiIiqqqq6urpmZmZ2\n",
       "dnbc3NzMzMxUVFTu7u4yMjJEREQQEBAiIiKYmJgAAACIyPRpAAAAAXRSTlMAQObYZgAAAFlJREFU\n",
       "CNdjeHt6/6rTDxiAYMEMhurXE4CMDakM3GwNEAZLwgIYYwOEwcEMldL1AivOuXtLgQEsYsI9AcJg\n",
       "Md8AYTDsfAhlVLAUQKxgVWhnYABaupxh93oFAP7MI7KHKGXxAAAAAElFTkSuQmCC\n",
       "\" style=\"display:inline;vertical-align:middle;\" /></a>, <a class=\"ProveItLink\" href=\"../../../../../__pv_it/common/a2581dc5df71d9a30bad37de14965fa5fec97a240/expr.ipynb\"><img src=\"data:image/png;base64,iVBORw0KGgoAAAANSUhEUgAAAAsAAAAJBAMAAAAWSsseAAAALVBMVEX///9mZmaqqqrMzMxEREQy\n",
       "MjIiIiKYmJh2dna6urrc3NxUVFSIiIju7u4AAACJHQtQAAAAAXRSTlMAQObYZgAAAEJJREFUCNdj\n",
       "YLhzeuWJAwy8Dew5bAEMHBc43nIuYOBlYHFgAAG+A2DKzgBIMF04x8BzgWGegh/DcgaG22fuiBcw\n",
       "AAATyhBrnyPYZQAAAABJRU5ErkJggg==\n",
       "\" style=\"display:inline;vertical-align:middle;\" /></a> : <a class=\"ProveItLink\" href=\"../../../__pv_it/axioms/4470ced387475eb15c135df1752252474da056d30/expr.ipynb\"><img src=\"data:image/png;base64,iVBORw0KGgoAAAANSUhEUgAAAFEAAAAUBAMAAAAHNMzaAAAAMFBMVEX///+YmJjc3NxmZmYiIiLM\n",
       "zMwQEBCqqqoyMjJERER2dnbu7u5UVFSIiIi6uroAAAA5J+EfAAAAAXRSTlMAQObYZgAAAYdJREFU\n",
       "KM+NkztIw1AUhj+T2prExvfkYCuOgh1FFMRJxKGba10FoXR1MODgWhAEQSGDkw/MIA4iVp1cCoHi\n",
       "olaLg5tYBelQFc8NtYJD9C6H79z/v49zz4XQkWzEXJiodT2FlW9AeyJM2pGl7VtgOWHKZ4+eJuyH\n",
       "KbdhqglHYcoVtMkmtFWwb0/LvqxeqlglnyPP3hssT4A2dlUjnpITli+eZGszhWmsGhmGKtarbme4\n",
       "F96ikOAxYdQxOuGYXn8aWhzmImd2mhmYSeoOG8IOI2lrHqFIFnY58B4gNolXqIBeh3cv6rMY8IBK\n",
       "RFyiMuWJW1W3CssSo3m0DylL61vAlyohDqWEj2/lqMSCi/kqZYlnAn6xJCEOtTvKDbaUYUE9RydR\n",
       "l02MfL9wrG4WslzGEupGS/EqN8GNNGXRz1iDcR5TrvaJ6fQZfsusqUpj14yqJgbdDZaFnWs50kk5\n",
       "V0wLa+dZq3g1fKfmrOJNqUtVPh3edD+veRgu/G+HyDD+13VKkP9t+fN3dMMXE1dxt/bCHG0AAAAA\n",
       "SUVORK5CYII=\n",
       "\" style=\"display:inline;vertical-align:middle;\" /></a></span></td></tr><tr><td><a name=\"0x25fbeb02c53dd948_step2\">2</a></td><td>conjecture</td><td></td><td><span style=\"font-size:20px;\"> <a class=\"ProveItLink\" href=\"../../../../number_sets/real_numbers/_theory_nbs_/proofs/rational_within_real/thm_proof.ipynb\" style=\"text-decoration: none\">&nbsp;&#x22A2;&nbsp;&nbsp;</a><a class=\"ProveItLink\" href=\"../../../../number_sets/real_numbers/__pv_it/theorems/85bdd7b2985ab2cf6bbf95f9b1dbf16c5f73731f0/expr.ipynb\"><img src=\"data:image/png;base64,iVBORw0KGgoAAAANSUhEUgAAADsAAAARBAMAAACRPMnQAAAAMFBMVEX///8QEBCqqqp2dnaYmJiI\n",
       "iIjc3NwiIiLu7u66urpUVFQyMjJERERmZmbMzMwAAAC8H5PlAAAAAXRSTlMAQObYZgAAAQhJREFU\n",
       "KM9jYGB4e+b0SgY04C5zfreMA4jVtTyBY9cJdPkNXQxvfBqAjJP3gEpeN6BJH0hm4GFbwMDA6rCB\n",
       "gYGncwFYkOV4eXn5A6g0bwJQhpvtAlDNBLDpbJsTkHTzJhxgYMjiA7qA08ESJMaegGw4FyfQyKlM\n",
       "CgwMfAEqILFLKHar3wY66ClEWgkkVoAknVheDZRg4AIbrmAGsnoBsu65PCDf8ECcBpLhOIAszTsP\n",
       "xOV0OADymAO64ckMJ1xBDEtQsLwFi5miSL/iBYUAy/UEjr1gzQzcCsiByqywDhxUv/dDhTlWzUBE\n",
       "yT6GMxBxSyaYk/lsYIGKBJjNtK8aMOAGuWf2TsAuAwAAqlBKx2vCQAAAAABJRU5ErkJggg==\n",
       "\" style=\"display:inline;vertical-align:middle;\" /></a></span></td></tr>\n",
       "<tr><td>&nbsp;</td><td colspan=4 style-\"text-align:left\"><a class=\"ProveItLink\" href=\"../../../../number_sets/real_numbers/_theory_nbs_/proofs/rational_within_real/thm_proof.ipynb\">proveit.numbers.number_sets.real_numbers.rational_within_real</a></td></tr><tr><td><a name=\"0x25fbeb02c53dd948_step3\">3</a></td><td>instantiation</td><td><a href=\"#0x25fbeb02c53dd948_step4\">4</a>, <a href=\"#0x25fbeb02c53dd948_step5\">5</a>, <a href=\"#0x25fbeb02c53dd948_step6\">6</a></td><td><span style=\"font-size:20px;\"><a class=\"ProveItLink\" href=\"../../../__pv_it/axioms/f399694c94d63fe522f8e05f5163f6a5a160a5b80/expr.ipynb\"><img src=\"data:image/png;base64,iVBORw0KGgoAAAANSUhEUgAAADQAAAAPBAMAAABZ6/G2AAAAMFBMVEX///8QEBBmZmaqqqrMzMxE\n",
       "REQyMjIiIiKYmJh2dna6urrc3NxUVFSIiIju7u4AAAA6P00QAAAAAXRSTlMAQObYZgAAAMRJREFU\n",
       "GNNjYMAAHIWh3xIjGLACNr4DLBFxWKVYuScwBOxBEWotL0+ASWmzIcu43kPSpc0KZLy9s+vmBSDN\n",
       "l4ds4IE1QJEJHLXsIHN4NiBJMRcBFXI+4PzHBRJlRXKGeHkyyBwG1gCwgGMaEECdMUsB4nb+C2Bq\n",
       "K7LjtVzBLH8HMMWILMX6Aqie+cF9Bt4HQAGmC0hSLAdUGBjWG8Qz7ACLFCMFFMNkHgeGN3ffajSA\n",
       "Rd5EPYAHrwNr2Gfk4FgZDgkoKAAAelg1omM6Y4wAAAAASUVORK5CYII=\n",
       "\" style=\"display:inline;vertical-align:middle;\" /></a> <a class=\"ProveItLink\" href=\"../../../__pv_it/_proof_round_of_real_is_real/ea5a042f9770216493024f8ad80b3f1b74477b450/proof.ipynb\" style=\"text-decoration: none\">&nbsp;&#x22A2;&nbsp;&nbsp;</a><a class=\"ProveItLink\" href=\"../../../__pv_it/_proof_round_of_real_is_real/2b5002c26b0f3e4e8ddca2b0884c89eb4ee3c1240/expr.ipynb\"><img src=\"data:image/png;base64,iVBORw0KGgoAAAANSUhEUgAAAH0AAAAUBAMAAABSVS+EAAAAMFBMVEX///+YmJjc3NxmZmYiIiLM\n",
       "zMwQEBCqqqoyMjJERER2dnbu7u5UVFSIiIi6uroAAAA5J+EfAAAAAXRSTlMAQObYZgAAAjhJREFU\n",
       "OMudVE9o01AY/y3p0r6XNVanB/GwTAURBOvNiYqMgjI8xIviQahXQQi7eHBgYAcHeigo4phKDp78\n",
       "gznIEBm2CsIEC5Gyy2pnqjBBFOtAeqgTv/dMMpw0RR/ke/m9L7+P3/fnBUhcw+E+jn9e/Tfy0Esh\n",
       "GDD/co9MXw0SA2ywkYlourPOqb8exZNXXhL/q4fBGDxc52QfLOgvryTx7wKjMZgN962FgpTyJkNm\n",
       "5nMSfxLKkRhkfud6uh5iZweZJebBePus4ZO+WqDXfMx6xoPtjUOAcmChjWyeEm28+ELieV5mHQlW\n",
       "KifINnkAzi6zInYG+opqFPGO8G2UTSybrAOWA55is38M6HP+aIPhXyB7Jp3DqVTFsDAGjA2rDqYJ\n",
       "O9hr6WdBKGUD9/HIew+kZSos7l7It+GVKTO1A/zwNB/nJR4SBykXGrk8iikILWFPTtGSSqT+j5z0\n",
       "XKIXrQRllRrW/13ieXFAcTRZtNU1/u64niVZvwEy++kpu+Ar1LBsUeJvOh1QHKEfIiYlLPVrMb8p\n",
       "UplpkjknRi0HzcUtsNI2wukOL9uYT5uifhezLdSj+ql+xOdyfqgpigivVnANOIjlvKv8BHe2ML/v\n",
       "OBdNM9qspVAY1ZW0o7GAQZrffbGwe4uU6lxjvGoRVp7benVhz5Lw6dV6baOYH0uy5u7EIz801e55\n",
       "B9fm93G4f7peCK8SDyZ68rvfH6F51+RiDz7ren/FDI/cPNyDH/8/mIn/WtH/a1O3D34Bxd6gygFn\n",
       "DNAAAAAASUVORK5CYII=\n",
       "\" style=\"display:inline;vertical-align:middle;\" /></a></span></td></tr>\n",
       "<tr><td>&nbsp;</td><td colspan=4 style=\"text-align:left\"><span style=\"font-size:20px;\"><a class=\"ProveItLink\" href=\"../../../../../__pv_it/common/e4aad701f7f5516d8e7f0d805d518bf02c13322a0/expr.ipynb\"><img src=\"data:image/png;base64,iVBORw0KGgoAAAANSUhEUgAAAA8AAAAOBAMAAAACpFvcAAAALVBMVEX///8iIiIQEBBERERUVFS6\n",
       "urqIiIjc3NxmZmaqqqru7u6YmJgyMjLMzMwAAACK9jtgAAAAAXRSTlMAQObYZgAAAFtJREFUCNdj\n",
       "YACBOwxQcA5Kc59bAGGs7CuAMDbkBYBp1gXzNoAZSxnuJYAZAQx1DSCa16PDzwCshIGB6QCIMYGB\n",
       "gVEBSLMDGTwPgIxCIGZ+zsCw+N0pBk67hw0AfpEVEQi8t+wAAAAASUVORK5CYII=\n",
       "\" style=\"display:inline;vertical-align:middle;\" /></a> : <a class=\"ProveItLink\" href=\"../../../../number_sets/integers/__pv_it/common/21b035fc94b1f20bfb5161d2c7bd6eb2042cc5670/expr.ipynb\"><img src=\"data:image/png;base64,iVBORw0KGgoAAAANSUhEUgAAAA4AAAAOBAMAAADtZjDiAAAAMFBMVEX///9UVFTc3Nzu7u6qqqp2\n",
       "dnbMzMxmZmZERESIiIiYmJgyMjIQEBAiIiK6uroAAABqpg13AAAAAXRSTlMAQObYZgAAAGVJREFU\n",
       "CNdj4LvzZ/fZPQsYONsTGDZwMDCwBzCwOsQBaQMGRbYCBhBo5jAAUVwTVoG5FswNYFqMUQFE8RU8\n",
       "BXO5GYDCwQwMIawPGBgOMDAJKAINOcDAYdDMwCzVwPCm+0TH+RMFANGWFoagnRaJAAAAAElFTkSu\n",
       "QmCC\n",
       "\" style=\"display:inline;vertical-align:middle;\" /></a>, <a class=\"ProveItLink\" href=\"../../../../../__pv_it/common/4eca3b30dcf58a58494e201d1b7886d8643a617b0/expr.ipynb\"><img src=\"data:image/png;base64,iVBORw0KGgoAAAANSUhEUgAAABAAAAAOBAMAAADUAYG5AAAALVBMVEX///8yMjKqqqoiIiLu7u7c\n",
       "3NyIiIjMzMwQEBC6urpERERmZmZUVFSYmJgAAACsPVCVAAAAAXRSTlMAQObYZgAAAGxJREFUCNdj\n",
       "YGC48+70nlUTGICgi4GB+zmQZn/LwMD5Gshge8rAwPsMyOBqYGDwMAEy+A4wsNs4ABl1Z68tVgBp\n",
       "ygtgYOkBMVaAOCChNyBGAsQYhnMTIMawvwJyGIHGzFjCwMAj92b3qUUMDAAXABxvZ4rl5AAAAABJ\n",
       "RU5ErkJggg==\n",
       "\" style=\"display:inline;vertical-align:middle;\" /></a> : <a class=\"ProveItLink\" href=\"../../../../number_sets/rational_numbers/__pv_it/common/c31fbf3e632f478b2f5544a54ba7525fd0343dcc0/expr.ipynb\"><img src=\"data:image/png;base64,iVBORw0KGgoAAAANSUhEUgAAABAAAAARBAMAAAAmgTH3AAAALVBMVEX///+qqqp2dnaYmJiIiIjc\n",
       "3NwiIiLu7u66urpUVFQyMjJERERmZmbMzMwAAAAPPdWlAAAAAXRSTlMAQObYZgAAAIFJREFUCNdj\n",
       "YGC4s3vXDAYgqJwWwL5yO5Cx4yyQc6uAgcVgAQMDd8UEBi7WAwwMLA3bGSJ5DRgYOAw0GFoYBRgY\n",
       "eB2EGa5AGIIMnGApAVUGbojiCUB1G0DagcIaIAPvAE1mPhbAvsYAZBnzq3UCDGCgwTgBwmBSlTqi\n",
       "AGbF7F7TAADtgR4r3cUBHgAAAABJRU5ErkJggg==\n",
       "\" style=\"display:inline;vertical-align:middle;\" /></a>, <a class=\"ProveItLink\" href=\"../../../../../__pv_it/common/a2581dc5df71d9a30bad37de14965fa5fec97a240/expr.ipynb\"><img src=\"data:image/png;base64,iVBORw0KGgoAAAANSUhEUgAAAAsAAAAJBAMAAAAWSsseAAAALVBMVEX///9mZmaqqqrMzMxEREQy\n",
       "MjIiIiKYmJh2dna6urrc3NxUVFSIiIju7u4AAACJHQtQAAAAAXRSTlMAQObYZgAAAEJJREFUCNdj\n",
       "YLhzeuWJAwy8Dew5bAEMHBc43nIuYOBlYHFgAAG+A2DKzgBIMF04x8BzgWGegh/DcgaG22fuiBcw\n",
       "AAATyhBrnyPYZQAAAABJRU5ErkJggg==\n",
       "\" style=\"display:inline;vertical-align:middle;\" /></a> : <a class=\"ProveItLink\" href=\"../../../__pv_it/axioms/4470ced387475eb15c135df1752252474da056d30/expr.ipynb\"><img src=\"data:image/png;base64,iVBORw0KGgoAAAANSUhEUgAAAFEAAAAUBAMAAAAHNMzaAAAAMFBMVEX///+YmJjc3NxmZmYiIiLM\n",
       "zMwQEBCqqqoyMjJERER2dnbu7u5UVFSIiIi6uroAAAA5J+EfAAAAAXRSTlMAQObYZgAAAYdJREFU\n",
       "KM+NkztIw1AUhj+T2prExvfkYCuOgh1FFMRJxKGba10FoXR1MODgWhAEQSGDkw/MIA4iVp1cCoHi\n",
       "olaLg5tYBelQFc8NtYJD9C6H79z/v49zz4XQkWzEXJiodT2FlW9AeyJM2pGl7VtgOWHKZ4+eJuyH\n",
       "KbdhqglHYcoVtMkmtFWwb0/LvqxeqlglnyPP3hssT4A2dlUjnpITli+eZGszhWmsGhmGKtarbme4\n",
       "F96ikOAxYdQxOuGYXn8aWhzmImd2mhmYSeoOG8IOI2lrHqFIFnY58B4gNolXqIBeh3cv6rMY8IBK\n",
       "RFyiMuWJW1W3CssSo3m0DylL61vAlyohDqWEj2/lqMSCi/kqZYlnAn6xJCEOtTvKDbaUYUE9RydR\n",
       "l02MfL9wrG4WslzGEupGS/EqN8GNNGXRz1iDcR5TrvaJ6fQZfsusqUpj14yqJgbdDZaFnWs50kk5\n",
       "V0wLa+dZq3g1fKfmrOJNqUtVPh3edD+veRgu/G+HyDD+13VKkP9t+fN3dMMXE1dxt/bCHG0AAAAA\n",
       "SUVORK5CYII=\n",
       "\" style=\"display:inline;vertical-align:middle;\" /></a></span></td></tr><tr><td><a name=\"0x25fbeb02c53dd948_step4\">4</a></td><td>theorem</td><td></td><td><span style=\"font-size:20px;\"> <a class=\"ProveItLink\" href=\"../../../../../logic/sets/inclusion/_theory_nbs_/proofs/superset_membership_from_proper_subset/thm_proof.ipynb\" style=\"text-decoration: none\">&nbsp;&#x22A2;&nbsp;&nbsp;</a><a class=\"ProveItLink\" href=\"../../../../../logic/sets/inclusion/__pv_it/theorems/2bd5812116805831135f1a949ae0e425f21169040/expr.ipynb\"><img src=\"data:image/png;base64,iVBORw0KGgoAAAANSUhEUgAAAPcAAAAWBAMAAADuuhdHAAAAMFBMVEX///8QEBCIiIhmZma6urrM\n",
       "zMxUVFQiIiJERETc3Nzu7u6qqqp2dnaYmJgyMjIAAAAcRTyBAAAAAXRSTlMAQObYZgAAA4ZJREFU\n",
       "SMe1lktoE1EUhn+TmTQzTdquRNBFsAul+AgEKoqPqBuVitGFuDP4gAqKQcX3o0qx0yo0brQI2hHB\n",
       "RxQNuNKNsSJK6yMq+BYHXBS60NJarZWi9547mblNk2Ij3kXm3nvOPd+Zc885E6DE4fkSG1vh3FjC\n",
       "20CwOwqLzz+OHx6IVvBHMFtErjcU3H71e2OtEYUvyS2gi2/1lAIPpNmjwiwir0gW3p8EeAegWwRv\n",
       "YxtaQylwOtVWTP6y8LY6DCj9QAfBuev0DuOGU7y6isn3jVi92bPHEqnyk11VH3CBLAQ7U6kzKAn+\n",
       "IZW6migi1kYI1tXkZv4qBt7PbiXKLWDQMA6WBq80jKZMsWIIs5ybumVJByWfm1OVcai7ebDDBN8M\n",
       "NNO++F3Wf7+eckVxnHVSR2mdX9vswn0xSZan62dVcB2vQ4f5wudqrd/2oolfctAi+FJKPbb8RtJg\n",
       "FQJVdDyn/ynqHH0O3HPhShg38l7Y0S1jhE48M5ePMAXMTkKfyJ7lCYKXwUO1enGYpN44yofkE/oi\n",
       "JlarIxE2rwXumg4cCczMGb12f0FOl8YEJjZhiMXqL2yIhDvKHWCOqb1kIZAto+3OncLlELyWDA9c\n",
       "DkPfuiKVYvMdwEL3zfEEubQKnjhr2rouHOgTC6kev3N4yIFr1loqwJBw82YMs0wZvsbfwG+XgjAA\n",
       "T48EP6/G2aR6zWZ2d46uG3aoA7YnI8oc29lRRYQdzZsoKTCHxKtmTo9Dhse9CdTZCdf34riU7fCf\n",
       "Zj81PmuXaNJC1024O55eUI15Q04RsDJXB92Ewy068B6zSfwUmCbDg2lm4oENtOBJSPBy7m+sIgs9\n",
       "7Ora4jCUX/5eTeTAAafpslxe3ML9yQh4JfdL//y4laJ9EmhPS/Ab8x8NYa79OhlovyS4uNPKJNS9\n",
       "hnHM1rWDlIC+oaba/mJdahRp6vv6PVJ/gryICQtBLvCaaKeLZcZXJSX4PGgDLCyiQ6Sh/JTh76h0\n",
       "EUPc1S3YXuua7PaaG5dtCzRWMtNZrQXaELQpUtgVFrdhXBFK7SZOZWQ476O9T5ER9yJ0x/6w5EaH\n",
       "BPcPQms9pE7Gw/5IfVSCtzag7UdWob4WOBKpbUQeXN9WN8OEP+3ojuqLBb/2lvzmYpTLnVIWXDIM\n",
       "Y1Rvl8d0fud/8WdCci0ffrsYvMCX4/C//I16ywx058Gzfw//v8P7/xF/AAdz9RArGsNxAAAAAElF\n",
       "TkSuQmCC\n",
       "\" style=\"display:inline;vertical-align:middle;\" /></a></span></td></tr>\n",
       "<tr><td>&nbsp;</td><td colspan=4 style-\"text-align:left\"><a class=\"ProveItLink\" href=\"../../../../../logic/sets/inclusion/_theory_nbs_/proofs/superset_membership_from_proper_subset/thm_proof.ipynb\">proveit.logic.sets.inclusion.superset_membership_from_proper_subset</a></td></tr><tr><td><a name=\"0x25fbeb02c53dd948_step5\">5</a></td><td>conjecture</td><td></td><td><span style=\"font-size:20px;\"> <a class=\"ProveItLink\" href=\"../../../../number_sets/rational_numbers/_theory_nbs_/proofs/int_within_rational/thm_proof.ipynb\" style=\"text-decoration: none\">&nbsp;&#x22A2;&nbsp;&nbsp;</a><a class=\"ProveItLink\" href=\"../../../../number_sets/rational_numbers/__pv_it/theorems/09e572cd1e3856733f9bd61848db8bff15c8e4260/expr.ipynb\"><img src=\"data:image/png;base64,iVBORw0KGgoAAAANSUhEUgAAADkAAAARBAMAAACVyRntAAAAMFBMVEX///9UVFTc3Nzu7u6qqqp2\n",
       "dnbMzMxmZmZERESIiIiYmJgyMjIQEBAiIiK6uroAAABqpg13AAAAAXRSTlMAQObYZgAAAQlJREFU\n",
       "GNNj4LvzZ/fZPQsYUAFbRcfGB0Casz2BYQMHmiSz4CUGawkDBgb2AAZWhzg0WY7nCQzMYpuBsgYM\n",
       "imwFEMEVd+/evQZizOIGEs0PwYLNHAZgWjsIpneDOpCYBxbmmrAKInYJJskkkAUkX7GC3GXB3AAW\n",
       "Y3eAyfJNcAGSmSwgn4gxKoDFeBH+gcoClfMVPIWIKSLcDDb5CStQFzcD0OBgkA0I2QawqxiBRAjI\n",
       "8gMoJjO8AgVP8yuQ+4AmsoNkWSfAZVnBoQEMBQ6DZgZmKbCrtyA0LweGZBWQftN9ouP8CXBgGcoZ\n",
       "wKXX7/6CFroMqb3QkASa/cCRAQ8IVdk+FbcsU0V3HQMAQThBdx6juCoAAAAASUVORK5CYII=\n",
       "\" style=\"display:inline;vertical-align:middle;\" /></a></span></td></tr>\n",
       "<tr><td>&nbsp;</td><td colspan=4 style-\"text-align:left\"><a class=\"ProveItLink\" href=\"../../../../number_sets/rational_numbers/_theory_nbs_/proofs/int_within_rational/thm_proof.ipynb\">proveit.numbers.number_sets.rational_numbers.int_within_rational</a></td></tr><tr><td><a name=\"0x25fbeb02c53dd948_step6\">6</a></td><td>instantiation</td><td><a href=\"#0x25fbeb02c53dd948_step7\">7</a>, <a href=\"#0x25fbeb02c53dd948_step8\">8</a></td><td><span style=\"font-size:20px;\"><a class=\"ProveItLink\" href=\"../../../__pv_it/axioms/f399694c94d63fe522f8e05f5163f6a5a160a5b80/expr.ipynb\"><img src=\"data:image/png;base64,iVBORw0KGgoAAAANSUhEUgAAADQAAAAPBAMAAABZ6/G2AAAAMFBMVEX///8QEBBmZmaqqqrMzMxE\n",
       "REQyMjIiIiKYmJh2dna6urrc3NxUVFSIiIju7u4AAAA6P00QAAAAAXRSTlMAQObYZgAAAMRJREFU\n",
       "GNNjYMAAHIWh3xIjGLACNr4DLBFxWKVYuScwBOxBEWotL0+ASWmzIcu43kPSpc0KZLy9s+vmBSDN\n",
       "l4ds4IE1QJEJHLXsIHN4NiBJMRcBFXI+4PzHBRJlRXKGeHkyyBwG1gCwgGMaEECdMUsB4nb+C2Bq\n",
       "K7LjtVzBLH8HMMWILMX6Aqie+cF9Bt4HQAGmC0hSLAdUGBjWG8Qz7ACLFCMFFMNkHgeGN3ffajSA\n",
       "Rd5EPYAHrwNr2Gfk4FgZDgkoKAAAelg1omM6Y4wAAAAASUVORK5CYII=\n",
       "\" style=\"display:inline;vertical-align:middle;\" /></a> <a class=\"ProveItLink\" href=\"../../../__pv_it/_proof_round_of_real_is_real/ddd876727eefba12e97fbc03befca541452340c00/proof.ipynb\" style=\"text-decoration: none\">&nbsp;&#x22A2;&nbsp;&nbsp;</a><a class=\"ProveItLink\" href=\"../../../__pv_it/axioms/6c765373f12874e78b125e721bac4ed825e483920/expr.ipynb\"><img src=\"data:image/png;base64,iVBORw0KGgoAAAANSUhEUgAAAHoAAAAUBAMAAACwiTT9AAAAMFBMVEX///+YmJjc3NxmZmYiIiLM\n",
       "zMwQEBCqqqoyMjJERER2dnbu7u5UVFSIiIi6uroAAAA5J+EfAAAAAXRSTlMAQObYZgAAAihJREFU\n",
       "OMuVVE9o02AU/6VL1yVZ0wiCHit6rC7ehjjtQXQISvEinlqcB6tMg3hfEdSdpP45WMZY0IPKmH4n\n",
       "sbi6OPAgMggMFWTFHsYO82AV3GAD8b1kSbXS0D1I3nvf9/3e9/5+QBTFDJ8n0tgmnRsBqoEy37ap\n",
       "H18bv3DLiICvAzcC+VXbXvJ+DiUlAqxvQjIDRXX/3eyxoVrPI9BqFnIYrlbwufTg2LCHFsjEzQh0\n",
       "n4l9Le2O949PinBlQiFZX3pTd6HWj6A2BO0yVuf3L5Kbe2fyFhbpUG3pwBfSH/vht8CSu4MdVG4r\n",
       "hdhpzKXNFSSbsCuu9hP6eUwJ3CWXbemUXAJ2t6e+qpXpf1Z29JxsQ35kDEIpx61hxH7hpYFB4AQZ\n",
       "F+qmTuFf9yDlFvpdPydFzDWAowKpDxhFr6tpvyE1eeEkcIXuJot8OO+FfXGcyK+IuerxMfqKwIBL\n",
       "JcrnkGiiv0QLZIXRQMoN0bHW3X3sxzTYQ20DeJGmEn2iWpSQMl5vsBX2HGyRaNnDFEL0E7XhqZdI\n",
       "/sFMcVCRRK+NMTG9Tg5c46wlxFckRZC1oXAAnAxdVOAUAYehmOhx9BEVAw08lXKT2OnYXKbv1hT2\n",
       "0IlDHki2ttCKmID2tgw9y2Wboa7TFj5nPrKLmV2YrZ9ZaLA8W68d5GG46bfc+28+euVhsXK1aEaO\n",
       "2V+dmt1q/md+p3ZDnaekK7rXaUK7oup/ZrZDwcskdXiZ/gCGYpGA5Aq/3wAAAABJRU5ErkJggg==\n",
       "\" style=\"display:inline;vertical-align:middle;\" /></a></span></td></tr>\n",
       "<tr><td>&nbsp;</td><td colspan=4 style=\"text-align:left\"><span style=\"font-size:20px;\"><a class=\"ProveItLink\" href=\"../../../../../__pv_it/common/a2581dc5df71d9a30bad37de14965fa5fec97a240/expr.ipynb\"><img src=\"data:image/png;base64,iVBORw0KGgoAAAANSUhEUgAAAAsAAAAJBAMAAAAWSsseAAAALVBMVEX///9mZmaqqqrMzMxEREQy\n",
       "MjIiIiKYmJh2dna6urrc3NxUVFSIiIju7u4AAACJHQtQAAAAAXRSTlMAQObYZgAAAEJJREFUCNdj\n",
       "YLhzeuWJAwy8Dew5bAEMHBc43nIuYOBlYHFgAAG+A2DKzgBIMF04x8BzgWGegh/DcgaG22fuiBcw\n",
       "AAATyhBrnyPYZQAAAABJRU5ErkJggg==\n",
       "\" style=\"display:inline;vertical-align:middle;\" /></a> : <a class=\"ProveItLink\" href=\"../../../../../__pv_it/common/a2581dc5df71d9a30bad37de14965fa5fec97a240/expr.ipynb\"><img src=\"data:image/png;base64,iVBORw0KGgoAAAANSUhEUgAAAAsAAAAJBAMAAAAWSsseAAAALVBMVEX///9mZmaqqqrMzMxEREQy\n",
       "MjIiIiKYmJh2dna6urrc3NxUVFSIiIju7u4AAACJHQtQAAAAAXRSTlMAQObYZgAAAEJJREFUCNdj\n",
       "YLhzeuWJAwy8Dew5bAEMHBc43nIuYOBlYHFgAAG+A2DKzgBIMF04x8BzgWGegh/DcgaG22fuiBcw\n",
       "AAATyhBrnyPYZQAAAABJRU5ErkJggg==\n",
       "\" style=\"display:inline;vertical-align:middle;\" /></a></span></td></tr><tr><td><a name=\"0x25fbeb02c53dd948_step7\">7</a></td><td>axiom</td><td></td><td><span style=\"font-size:20px;\"> <a class=\"ProveItLink\" href=\"../../axioms.ipynb#round_is_an_int\" style=\"text-decoration: none\">&nbsp;&#x22A2;&nbsp;&nbsp;</a><a class=\"ProveItLink\" href=\"../../../__pv_it/axioms/b1499bd04cc9f6b8985a0dd083c886e41d9beb2a0/expr.ipynb\"><img src=\"data:image/png;base64,iVBORw0KGgoAAAANSUhEUgAAAL8AAAAUBAMAAAAuH/EYAAAAMFBMVEX///8QEBCIiIhmZma6urrM\n",
       "zMxUVFQiIiJERETc3Nzu7u6qqqp2dnaYmJgyMjIAAAAcRTyBAAAAAXRSTlMAQObYZgAAAxxJREFU\n",
       "OMulVV1IFFEU/nZ31p2ZnV0leugha9nNEAnaEnsIkVWJCII2ggrqQewHDFp6CCUSWTNqNYqlB7UH\n",
       "cUTYQoJd6CGMoMGiYItaysiEaKyngsLEIpWgc+/OzOrmLEIX7tw535053z3fOXMGKDWkXMltDBnr\n",
       "uM0+w3V288HmgTv2vt3dYchxwyhLFu3u3bxppquS48+Z/dXGy5cSpy/PwG/6lfWizeo6+BHn+CBT\n",
       "Ir66D1+4BMEBFW8sY6Jos55OrkQ47lcBJbO6D0+yBMEz4IJljBjrVEcHD2Y3pJZDedyXHRsbsPEx\n",
       "UCrBnyGdswx/hC9HayxEVPsM/Hci0WnjI0Sz6UxTkEINReRQACOq8PRWcCeJWl+1BCcpKAfbmkgH\n",
       "hYspL8vlax+rQIafAnptCK7T1G5kujEQkRdcQgW2QxEvIZ1EY1JchEgu7uJdoIt00IuKSY7zCmR4\n",
       "88oauF994pN5f5GqMdOOPaAQO4dcOhI45tExHJUrQZaHUpfFK3Uf4OVqiQU3ZdE2tjDcA6f5OckP\n",
       "a3NOBdmAYa8nSJ4HXIvAL9URwDqo6Qg+MsCjwUECq0TKvopZdj34nUb+tM2CZuJKzmPSTo2PgQim\n",
       "cwUCeOkRRxzSHNWl+yfwCIgxgIgcPLNzBYLBQgQ6RaOoHJf0w6yQ67ZGBZYpRqAVJGJSIK1BWaC6\n",
       "dFYADcAfmQAiYhKBkQICl8hh+VcyT7jJ8d6T5FaNeSJ+5Alqw8uS7CC28hxbrkCMT2MjvItKOoOY\n",
       "N8mS/MA5ixozyS5TW/RLLcAOA79HLG58A0Y5gev0efOxxzSHo/RiC3qAXWgMa9I8FP2tGPC1K6wG\n",
       "hSVxlnVEl2aFzEefqCI1ZeDlnHcBOJJIJAJO5eak1bKMiRfbSO5UcLw1SjFLZzNya1X/Fha/3FoT\n",
       "Yp3SH+UvpC6rfBU2zCS6f/QYuE/lWXKjLC+R97i6llaB5a3itrHuv9qxou+ZOIYVnUKO5nOQ1dbS\n",
       "7GjYN7t/8NTkRBa4xj60l9pogwn3liYQbdu1De6kHKz1h5PvB8VMdif431/me5t9wv8C9Ljg3BmZ\n",
       "/+kAAAAASUVORK5CYII=\n",
       "\" style=\"display:inline;vertical-align:middle;\" /></a></span></td></tr>\n",
       "<tr><td>&nbsp;</td><td colspan=4 style-\"text-align:left\"><a class=\"ProveItLink\" href=\"../../axioms.ipynb#round_is_an_int\">proveit.numbers.rounding.round_is_an_int</a></td></tr><tr><td><a name=\"0x25fbeb02c53dd948_step8\">8</a></td><td>assumption</td><td></td><td><span style=\"font-size:20px;\"><a class=\"ProveItLink\" href=\"../../../__pv_it/axioms/f399694c94d63fe522f8e05f5163f6a5a160a5b80/expr.ipynb\"><img src=\"data:image/png;base64,iVBORw0KGgoAAAANSUhEUgAAADQAAAAPBAMAAABZ6/G2AAAAMFBMVEX///8QEBBmZmaqqqrMzMxE\n",
       "REQyMjIiIiKYmJh2dna6urrc3NxUVFSIiIju7u4AAAA6P00QAAAAAXRSTlMAQObYZgAAAMRJREFU\n",
       "GNNjYMAAHIWh3xIjGLACNr4DLBFxWKVYuScwBOxBEWotL0+ASWmzIcu43kPSpc0KZLy9s+vmBSDN\n",
       "l4ds4IE1QJEJHLXsIHN4NiBJMRcBFXI+4PzHBRJlRXKGeHkyyBwG1gCwgGMaEECdMUsB4nb+C2Bq\n",
       "K7LjtVzBLH8HMMWILMX6Aqie+cF9Bt4HQAGmC0hSLAdUGBjWG8Qz7ACLFCMFFMNkHgeGN3ffajSA\n",
       "Rd5EPYAHrwNr2Gfk4FgZDgkoKAAAelg1omM6Y4wAAAAASUVORK5CYII=\n",
       "\" style=\"display:inline;vertical-align:middle;\" /></a> <a class=\"ProveItLink\" href=\"../../../__pv_it/_proof_round_of_real_is_real/ca35d41c8fd1c61b2cff1ffd0bb23ab7772a6d220/proof.ipynb\" style=\"text-decoration: none\">&nbsp;&#x22A2;&nbsp;&nbsp;</a><a class=\"ProveItLink\" href=\"../../../__pv_it/axioms/f399694c94d63fe522f8e05f5163f6a5a160a5b80/expr.ipynb\"><img src=\"data:image/png;base64,iVBORw0KGgoAAAANSUhEUgAAADQAAAAPBAMAAABZ6/G2AAAAMFBMVEX///8QEBBmZmaqqqrMzMxE\n",
       "REQyMjIiIiKYmJh2dna6urrc3NxUVFSIiIju7u4AAAA6P00QAAAAAXRSTlMAQObYZgAAAMRJREFU\n",
       "GNNjYMAAHIWh3xIjGLACNr4DLBFxWKVYuScwBOxBEWotL0+ASWmzIcu43kPSpc0KZLy9s+vmBSDN\n",
       "l4ds4IE1QJEJHLXsIHN4NiBJMRcBFXI+4PzHBRJlRXKGeHkyyBwG1gCwgGMaEECdMUsB4nb+C2Bq\n",
       "K7LjtVzBLH8HMMWILMX6Aqie+cF9Bt4HQAGmC0hSLAdUGBjWG8Qz7ACLFCMFFMNkHgeGN3ffajSA\n",
       "Rd5EPYAHrwNr2Gfk4FgZDgkoKAAAelg1omM6Y4wAAAAASUVORK5CYII=\n",
       "\" style=\"display:inline;vertical-align:middle;\" /></a></span></td></tr>\n",
       "</table>"
      ],
      "text/plain": [
       "\tstep type\trequirements\tstatement\n",
       "0\tgeneralizaton\t1\t|- forall_{x in Real} (round(x) in Real)\n",
       "1\tinstantiation\t4, 2, 3\t{x in Real} |- round(x) in Real\n",
       "\tA : Rational, B : Real, x : round(x)\n",
       "2\tconjecture\t\t|- Rational proper_subset Real\n",
       "3\tinstantiation\t4, 5, 6\t{x in Real} |- round(x) in Rational\n",
       "\tA : Integer, B : Rational, x : round(x)\n",
       "4\ttheorem\t\t|- forall_{A, B | A proper_subset B} [forall_{x in A} (x in B)]\n",
       "\tproveit.logic.sets.inclusion.superset_membership_from_proper_subset\n",
       "5\tconjecture\t\t|- Integer proper_subset Rational\n",
       "6\tinstantiation\t7, 8\t{x in Real} |- round(x) in Integer\n",
       "\tx : x\n",
       "7\taxiom\t\t|- forall_{x in Real} (round(x) in Integer)\n",
       "\tproveit.numbers.rounding.round_is_an_int\n",
       "8\tassumption\t\t{x in Real} |- x in Real"
      ]
     },
     "execution_count": 6,
     "metadata": {},
     "output_type": "execute_result"
    }
   ],
   "source": [
    "%qed"
   ]
  },
  {
   "cell_type": "code",
   "execution_count": null,
   "metadata": {},
   "outputs": [],
   "source": []
  }
 ],
 "metadata": {
  "kernelspec": {
   "display_name": "Python 3",
   "language": "python",
   "name": "python3"
  }
 },
 "nbformat": 4,
 "nbformat_minor": 0
}