{
 "cells": [
  {
   "cell_type": "markdown",
   "metadata": {},
   "source": [
    "Proof of <a class=\"ProveItLink\" href=\"../../../../../_theory_nbs_/theory.ipynb\">proveit</a>.<a class=\"ProveItLink\" href=\"../../../../_theory_nbs_/theory.ipynb\">numbers</a>.<a class=\"ProveItLink\" href=\"../../theory.ipynb\">rounding</a>.<a class=\"ProveItLink\" href=\"../../theorems.ipynb#ceil_of_floor\">ceil_of_floor</a> theorem\n",
    "========"
   ]
  },
  {
   "cell_type": "code",
   "execution_count": 1,
   "metadata": {},
   "outputs": [],
   "source": [
    "import proveit\n",
    "theory = proveit.Theory() # the theorem's theory"
   ]
  },
  {
   "cell_type": "code",
   "execution_count": 2,
   "metadata": {},
   "outputs": [
    {
     "data": {
      "text/html": [
       "Under these <a href=\"presumptions.txt\">presumptions</a>, we begin our proof of<br><strong id=\"ceil_of_floor\">ceil_of_floor:</strong> <a class=\"ProveItLink\" href=\"../../../__pv_it/theorems/65164ab819a6d3e92d99719208ead28efe0c3d7e0/expr.ipynb\"><img src=\"data:image/png;base64,iVBORw0KGgoAAAANSUhEUgAAAK8AAAAVBAMAAADC7aNVAAAAMFBMVEX///8QEBCIiIhmZma6urrM\n",
       "zMxUVFQiIiJERETc3Nzu7u6qqqp2dnaYmJgyMjIAAAAcRTyBAAAAAXRSTlMAQObYZgAAAeJJREFU\n",
       "OMutlb1Lw0Achl9iv3uti39AUSgOggVxVAoOjnbSRbDgxygiooIOjimiFhF1UVOFKgWh4CAFh1C3\n",
       "CiWDgwpCURAULI7q5F1jzMXmA9r+lstdnzy5vJe7Ag4V2Kwmca73BfirVbkOMxDO5VfgT9J2Vx8K\n",
       "s4dV6kgjUaBNjXm0EJ/BVAwnsScN3LDrNwvxa4Ni9kr77I3XzL2hWINiFGkjASRvLvamGxVn6KxK\n",
       "udyeRRJsvDFxOA58iuKqhbiLFx9Hd3oitmKOIDTEaSBlId7gxAE5NO+tGMTlKqtnTcwTIdoOGT/L\n",
       "y+7JJ+16hRMTiXy70nYz5ongHF0hCIq2y676FIGgFPntd/Azhm/NPmOecH/QByle7de7Qg5U/KCY\n",
       "iIH2iNPi6QQT+yuj7MPrjyZcMbbTqVg2iQKYSPwTqxm/6GKdcNEokJqiOmnWG6/dQ8V9MZPFC0q9\n",
       "lLKbMU+wxcMFtbvxDpzUxG0zCxp9zYlH8ls4sI2CJ9rkv2S+gDFRFCMC2b7V6GFOnO08HlBsxTwR\n",
       "ZqGEpFrabnjUKILjUtNb+lTrHJEKAUmoGZfkVhxCamVviyVgnW2QsnwyqA2nmjg2+RJoxi056H1p\n",
       "57+mAMsls7SoDhwuLbMmWUcaiXvgBwnes6uWu56HAAAAAElFTkSuQmCC\n",
       "\" style=\"display:inline;vertical-align:middle;\" /></a><br>(see <a class=\"ProveItLink\" href=\"../../../__pv_it/theorems/abe19ce70750cf7864076c9c4e60ed35fcb4934b0/dependencies.ipynb\">dependencies</a>)<br>"
      ],
      "text/plain": [
       "ceil_of_floor: forall_{x in Real} (ceil(floor(x)) = floor(x))"
      ]
     },
     "execution_count": 2,
     "metadata": {},
     "output_type": "execute_result"
    }
   ],
   "source": [
    "%proving ceil_of_floor"
   ]
  },
  {
   "cell_type": "code",
   "execution_count": null,
   "metadata": {},
   "outputs": [],
   "source": []
  }
 ],
 "metadata": {
  "kernelspec": {
   "display_name": "Python 3",
   "language": "python",
   "name": "python3"
  }
 },
 "nbformat": 4,
 "nbformat_minor": 0
}