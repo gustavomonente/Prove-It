{
 "cells": [
  {
   "cell_type": "markdown",
   "metadata": {},
   "source": [
    "Proof of <a class=\"ProveItLink\" href=\"../../../../../_theory_nbs_/theory.ipynb\">proveit</a>.<a class=\"ProveItLink\" href=\"../../../../_theory_nbs_/theory.ipynb\">numbers</a>.<a class=\"ProveItLink\" href=\"../../theory.ipynb\">rounding</a>.<a class=\"ProveItLink\" href=\"../../theorems.ipynb#real_minus_floor_lower_bound\">real_minus_floor_lower_bound</a> theorem\n",
    "========"
   ]
  },
  {
   "cell_type": "code",
   "execution_count": 1,
   "metadata": {},
   "outputs": [],
   "source": [
    "import proveit\n",
    "theory = proveit.Theory() # the theorem's theory\n",
    "from proveit import defaults, a, x, y\n",
    "from proveit.logic import Equals, InSet\n",
    "from proveit.numbers import Add, Neg, subtract, Real, zero\n",
    "from proveit.numbers.rounding import Floor\n",
    "from proveit.numbers.rounding import floor_is_an_int, floor_of_real_is_real, floor_of_x_less_eq_x"
   ]
  },
  {
   "cell_type": "code",
   "execution_count": 2,
   "metadata": {},
   "outputs": [
    {
     "data": {
      "text/html": [
       "Under these <a href=\"presumptions.txt\">presumptions</a>, we begin our proof of<br><strong id=\"real_minus_floor_lower_bound\">real_minus_floor_lower_bound:</strong> <a class=\"ProveItLink\" href=\"../../../__pv_it/theorems/155fe94f37bc1fcbc804f46f1de8366cb2217af40/expr.ipynb\"><img src=\"data:image/png;base64,iVBORw0KGgoAAAANSUhEUgAAAL0AAAAVBAMAAADhtvKAAAAAMFBMVEX///8QEBCIiIhmZma6urrM\n",
       "zMxUVFQiIiJERETc3Nzu7u6qqqp2dnaYmJgyMjIAAAAcRTyBAAAAAXRSTlMAQObYZgAAAmNJREFU\n",
       "OMudlU1o1EAUgB/pbtPMTtaL3oPC6kGwUEQQlIUevNmc1IPQgz/gpYioa9GDB5EsIi5WWi9q2kJb\n",
       "FpSABymIDetBWKFEKPiD4uJNRREEUfHgvHkzm26TEN2Bt/v2y+TbmTeZCUB/7X6cGtB3syKKZJuO\n",
       "0zLAcvrtiDuYvMvwL6nI8w82Eh1ab12Jn+OPTxn+jyry/EyOEhb3xjBgkxLfxjJcTtfbwxS5fmhR\n",
       "+uSUhi8AViUu+wA8SPebDYp8/6zKD55QyVWAFR+x3W42ZzLKM6Mi31+uqh9HrtD3D4CxQOKfnncp\n",
       "w79NxVzl1k4n6VcY/bxbxenP+Mm+C78jsZhRPcN/nYKF9hmzk/BrjH47vjw1iSv6B2DckXhUrz61\n",
       "RzuOfdD5RQru89+FRsKvMfpLp7tXXuJULDH+8VBiEwy9g9jjkcjg0Na12EzBYEg+YOyrbK4ev8Lo\n",
       "L37T+u3tdfVBzCNTX3u13AThfxP1+gE2OanrS3i9nz1zuuu7EkhsdQ7hA7y74hZwZugPe+sjpuqm\n",
       "+gmjv0D1sfbooXkA733C9ePC6k+Y1TKQf2S4d31L/i7RIeHXOF5fayLo3V8SPxR/UoQvAPPSP3Dy\n",
       "rO70lGIsuAF3kuPXGP0DcspL1XhrBmyLwlTFXwCHPc9zDH5zTXc6QLGwdW5flPRrLPfXxgKyVsVV\n",
       "2PblAhVhkOpTOur/9/mwmL6Buvge73DgLtW/HfZ7viUOaZ0srLXEc3sN99dqOL9f4zpkbe7U8/lB\n",
       "Ddu5uEgbNr0h6t/X+2UovYgZ+F/ej7O185TcrV0AeJ1+u8B/AThtvYKTzCi3AAAAAElFTkSuQmCC\n",
       "\" style=\"display:inline;vertical-align:middle;\" /></a><br>(see <a class=\"ProveItLink\" href=\"../../../__pv_it/theorems/2dc683cb9c473a557f7ca858c74257a19914f1b80/dependencies.ipynb\">dependencies</a>)<br>"
      ],
      "text/plain": [
       "real_minus_floor_lower_bound: forall_{x in Real} ((x - floor(x)) >= 0)"
      ]
     },
     "execution_count": 2,
     "metadata": {},
     "output_type": "execute_result"
    }
   ],
   "source": [
    "%proving real_minus_floor_lower_bound"
   ]
  },
  {
   "cell_type": "code",
   "execution_count": 3,
   "metadata": {},
   "outputs": [
    {
     "data": {
      "text/html": [
       "<strong id=\"defaults.assumptions\">defaults.assumptions:</strong> <a class=\"ProveItLink\" href=\"../../../__pv_it/_proof_real_minus_floor_lower_bound/b529ef1454c6f4d593899d1457fe67f394c4563d0/expr.ipynb\"><img src=\"data:image/png;base64,iVBORw0KGgoAAAANSUhEUgAAAEAAAAAUBAMAAADPWCYMAAAAMFBMVEX////MzMxUVFR2dna6uroQ\n",
       "EBCqqqqIiIgiIiJmZmYyMjJERETu7u6YmJjc3NwAAACgK8IjAAAAAXRSTlMAQObYZgAAASpJREFU\n",
       "KM9jYOC7wIATsD0AEqexSPC27v61dC+QoQfE67Bp5eJRYNy7h4HhFFDxBGwKuPkMGDY8YmBgLmDg\n",
       "eIAscbujYwFMwTwuBgaeAIYXyPLSNUgmzOMGMpYwVALJ40VPiguANM8aZCsUnIAMSwagW3kMeNs5\n",
       "QCYzPUBSwNYJUn6LoQ3okgPMf1hActxIjozoWAZiZDCEAE1g4N4AFhZdBQRQR5pM2ANiyIMUMDDw\n",
       "F4AVvEb25hRpiII2MCUAFmZFVsB9FqTLA+RItgP1DOwHgDzOAiQFjAoTwY60ZGDwT9jP8BYs3oYU\n",
       "1AxmTEBzJwPNYDhUfnwuJEoPbTkAjywB7l3fGBgWogW18w5IUMMATwOOyIIBYGQx7MOn4BSOBAMH\n",
       "IN34khzvAwYAhFtNEjex30MAAAAASUVORK5CYII=\n",
       "\" style=\"display:inline;vertical-align:middle;\" /></a><br>"
      ],
      "text/plain": [
       "defaults.assumptions: (x in Real)"
      ]
     },
     "execution_count": 3,
     "metadata": {},
     "output_type": "execute_result"
    }
   ],
   "source": [
    "defaults.assumptions = real_minus_floor_lower_bound.conditions"
   ]
  },
  {
   "cell_type": "code",
   "execution_count": 4,
   "metadata": {},
   "outputs": [
    {
     "data": {
      "text/html": [
       "<span style=\"font-size:20px;\"> <a class=\"ProveItLink\" href=\"../../axioms.ipynb#floor_of_x_less_eq_x\" style=\"text-decoration: none\">&nbsp;&#x22A2;&nbsp;&nbsp;</a><a class=\"ProveItLink\" href=\"../../../__pv_it/axioms/6555879a174af34d121afebde4c353aa76fa1f0c0/expr.ipynb\"><img src=\"data:image/png;base64,iVBORw0KGgoAAAANSUhEUgAAAIoAAAAVBAMAAABrmWvBAAAAMFBMVEX///8QEBCIiIhmZma6urrM\n",
       "zMxUVFQiIiJERETc3Nzu7u6qqqp2dnaYmJgyMjIAAAAcRTyBAAAAAXRSTlMAQObYZgAAAgxJREFU\n",
       "OMtjYCAAuC4g2AoMZAHOCwycCQjuA6yKuCdAZe7iMGUFAxGmMGQyMJwG0a9wmPISpynqAQj2OgaG\n",
       "GSCHN2A3hNcAhylcx5GDiEeBgW8BkNqA3RT2CdhN4TS/gBIBAgy8p1atmo7DQyBxLKZw5qHZ+oSB\n",
       "4UdHRw0OU5ShpnApZTodgpvC2ucAU7BIbYoO0G+HGRhSGRg6cZjSCzVlDcN1hTq4KR3wgOU6wFvE\n",
       "DhS8x8DgzMCFHIPbNZIfwdjVUFNOMZxf4Ak3RV0LHqwLeH6xAMNuOzAIGZhgYcW1x/gCEw/DKVgE\n",
       "iEBNWcDQgRwu10/B1DNwgGM3HmjgBXaY2Td2rmIAmnLrApopDAyfUOJonyVMB78C1BTOB2FAxiFT\n",
       "tQAWYPIAm3IAzUcMrF9R04tfKpQRDw4jdyDuTAHqXZDH7sDHADHF2AAtdHcxfWDQQkm7ES3gHLRA\n",
       "H6gTHLoMmwuAljG8ZWBYDDaFOa0EpvYwxBSW3xwfOC+g5oBpIEf4b+hnmAukbeB++8nAEN7R0aHA\n",
       "xDPpCkypO8QUriQt5bvYcuMypUW2INOfgnLLApDPP7AysEF8xB2zgEAOQC+CCqCM+TwPeBh4AiDh\n",
       "cuoAodyICnhgKWPZlUPARNANSnXnDiy2g8l3YjGF63k5CKCWDMiACRguZJRSnYRLTC7xcog5nM/L\n",
       "sRdDvBMYAEqLkjiuXC+sAAAAAElFTkSuQmCC\n",
       "\" style=\"display:inline;vertical-align:middle;\" /></a></span>"
      ],
      "text/plain": [
       "|- forall_{x in Real} (floor(x) <= x)"
      ]
     },
     "execution_count": 4,
     "metadata": {},
     "output_type": "execute_result"
    }
   ],
   "source": [
    "floor_of_x_less_eq_x"
   ]
  },
  {
   "cell_type": "code",
   "execution_count": 5,
   "metadata": {},
   "outputs": [
    {
     "data": {
      "text/html": [
       "<strong id=\"floor_bound\">floor_bound:</strong> <span style=\"font-size:20px;\"><a class=\"ProveItLink\" href=\"../../../__pv_it/axioms/f399694c94d63fe522f8e05f5163f6a5a160a5b80/expr.ipynb\"><img src=\"data:image/png;base64,iVBORw0KGgoAAAANSUhEUgAAADQAAAAPBAMAAABZ6/G2AAAAMFBMVEX///8QEBBmZmaqqqrMzMxE\n",
       "REQyMjIiIiKYmJh2dna6urrc3NxUVFSIiIju7u4AAAA6P00QAAAAAXRSTlMAQObYZgAAAMRJREFU\n",
       "GNNjYMAAHIWh3xIjGLACNr4DLBFxWKVYuScwBOxBEWotL0+ASWmzIcu43kPSpc0KZLy9s+vmBSDN\n",
       "l4ds4IE1QJEJHLXsIHN4NiBJMRcBFXI+4PzHBRJlRXKGeHkyyBwG1gCwgGMaEECdMUsB4nb+C2Bq\n",
       "K7LjtVzBLH8HMMWILMX6Aqie+cF9Bt4HQAGmC0hSLAdUGBjWG8Qz7ACLFCMFFMNkHgeGN3ffajSA\n",
       "Rd5EPYAHrwNr2Gfk4FgZDgkoKAAAelg1omM6Y4wAAAAASUVORK5CYII=\n",
       "\" style=\"display:inline;vertical-align:middle;\" /></a> <a class=\"ProveItLink\" href=\"../../../__pv_it/_proof_real_minus_floor_lower_bound/26c6a95d892e168282324627ec446014cf0f87180/proof.ipynb\" style=\"text-decoration: none\">&nbsp;&#x22A2;&nbsp;&nbsp;</a><a class=\"ProveItLink\" href=\"../../../__pv_it/axioms/ddd663a4550d6e38a44617ad71de0758844735ab0/expr.ipynb\"><img src=\"data:image/png;base64,iVBORw0KGgoAAAANSUhEUgAAAEIAAAAVBAMAAAAA8SWUAAAAMFBMVEX///9mZmaqqqrMzMxEREQy\n",
       "MjJ2dna6urqIiIgiIiIQEBBUVFTc3NyYmJju7u4AAABISk2iAAAAAXRSTlMAQObYZgAAANVJREFU\n",
       "KM9jeMsABxwMWMFpBJOVuio4JhNQ8WwGATMOziVgy+kgDHe86D7e1gBXYRIOk+Pr2FORAVLBl8A7\n",
       "gzMApoLFGeEchpsNU0Eq2B6w/WM/AFPBMeMBTEUeQ/6DGrAZDCwOSO7gnQZT8oDBBeZS/gZklzIF\n",
       "HoCZ8gOmwt4Axbfs0QYQBvNniAqmB/0MHA+QQ4zZpQBE6XF8YOgDqahX8Gc4ixrqPJtBRn1i+cBz\n",
       "AaTidccL2QtYYo5vR1/jXRrF/tOZIDCZFDNezZwNYRydOQWrAgCEeEX45zpkjAAAAABJRU5ErkJg\n",
       "gg==\n",
       "\" style=\"display:inline;vertical-align:middle;\" /></a></span><br>"
      ],
      "text/plain": [
       "floor_bound: {x in Real} |- floor(x) <= x"
      ]
     },
     "execution_count": 5,
     "metadata": {},
     "output_type": "execute_result"
    }
   ],
   "source": [
    "floor_bound = floor_of_x_less_eq_x.instantiate({x:x})"
   ]
  },
  {
   "cell_type": "code",
   "execution_count": 6,
   "metadata": {},
   "outputs": [
    {
     "data": {
      "text/html": [
       "<span style=\"font-size:20px;\"> <a class=\"ProveItLink\" href=\"../floor_of_real_is_real/thm_proof.ipynb\" style=\"text-decoration: none\">&nbsp;&#x22A2;&nbsp;&nbsp;</a><a class=\"ProveItLink\" href=\"../../../__pv_it/theorems/b94ff4c5ea20491e4f427cad2882b4da79a8f7680/expr.ipynb\"><img src=\"data:image/png;base64,iVBORw0KGgoAAAANSUhEUgAAAIsAAAAVBAMAAACEWwD/AAAAMFBMVEX///8QEBCIiIhmZma6urrM\n",
       "zMxUVFQiIiJERETc3Nzu7u6qqqp2dnaYmJgyMjIAAAAcRTyBAAAAAXRSTlMAQObYZgAAAiNJREFU\n",
       "OMudlE9IFFEcx7/Mn92dcXbrEOQpFgUJT5J0FVFC6rQn6+BB1EIv4UHYg7EMXZpVxKlLHQQnBIsl\n",
       "YqGDKB6W8SIj2BCCFgiLIGKQLUFQdOn3dubNDOvOav0u+/b33nz4fb/v93vABaG64TqL/wvFhTIa\n",
       "/q02P7XOtw5jMG/RCrPfvnjWTsUmTGCHJb7GYE5bYlBdxYMDCyrlX7Ha9eaUdE9rjL6EFNu3gYwF\n",
       "aOXmmKTZFJN+li9wjGhS8jXlnFLpZYwmlj+PkZ9aYTWiSUoy/cAvw3gSg+n0MWrH1IAdYN5bEVEJ\n",
       "ifY1Ev8QKMZgFnzMO+xnCwFmKurNWh9B07QxWHc6iLWb40d8PetjHHy07gaY8D705/kCs7VtmnyE\n",
       "wBtV3ex1BQ0O79ZrPsaCEXoj3zij8KsZTDGFco2EuUlOP1gvgTBf3AYM8CPERLpDXxLv6D5GqQ7T\n",
       "yr7dlZPIqTqm0iAK8s/ITV2NejP3iX4lEoXiBH1sPU72Z+BhensaLN4QaugOMLeimGEx51mMD8SS\n",
       "8Q1YqWPERzP82JaHkf6kaoobYJLlyDBoZbppkZV/pe7ob+C+YRhZQXuxx48NeRh1rLvzMBSlTt4L\n",
       "RvMYxvcyMjnW257ZMhKeqLYRq/UwSNv+MPB4wxfLWlWDlvO8cSqXHE0eNl+s7tkOMM/ab7ey0sfT\n",
       "xUth1Ia8QN78w7PFI2Ve/Iiq1/MeSDnJxzxLn4G/sIupWADWBUsAAAAASUVORK5CYII=\n",
       "\" style=\"display:inline;vertical-align:middle;\" /></a></span>"
      ],
      "text/plain": [
       "|- forall_{x in Real} (floor(x) in Real)"
      ]
     },
     "execution_count": 6,
     "metadata": {},
     "output_type": "execute_result"
    }
   ],
   "source": [
    "floor_of_real_is_real"
   ]
  },
  {
   "cell_type": "code",
   "execution_count": 7,
   "metadata": {},
   "outputs": [
    {
     "data": {
      "text/html": [
       "<span style=\"font-size:20px;\"><a class=\"ProveItLink\" href=\"../../../__pv_it/axioms/f399694c94d63fe522f8e05f5163f6a5a160a5b80/expr.ipynb\"><img src=\"data:image/png;base64,iVBORw0KGgoAAAANSUhEUgAAADQAAAAPBAMAAABZ6/G2AAAAMFBMVEX///8QEBBmZmaqqqrMzMxE\n",
       "REQyMjIiIiKYmJh2dna6urrc3NxUVFSIiIju7u4AAAA6P00QAAAAAXRSTlMAQObYZgAAAMRJREFU\n",
       "GNNjYMAAHIWh3xIjGLACNr4DLBFxWKVYuScwBOxBEWotL0+ASWmzIcu43kPSpc0KZLy9s+vmBSDN\n",
       "l4ds4IE1QJEJHLXsIHN4NiBJMRcBFXI+4PzHBRJlRXKGeHkyyBwG1gCwgGMaEECdMUsB4nb+C2Bq\n",
       "K7LjtVzBLH8HMMWILMX6Aqie+cF9Bt4HQAGmC0hSLAdUGBjWG8Qz7ACLFCMFFMNkHgeGN3ffajSA\n",
       "Rd5EPYAHrwNr2Gfk4FgZDgkoKAAAelg1omM6Y4wAAAAASUVORK5CYII=\n",
       "\" style=\"display:inline;vertical-align:middle;\" /></a> <a class=\"ProveItLink\" href=\"../../../__pv_it/_proof_real_minus_floor_lower_bound/560469b4baf89364a8ac79a07c50ad2810a4d3970/proof.ipynb\" style=\"text-decoration: none\">&nbsp;&#x22A2;&nbsp;&nbsp;</a><a class=\"ProveItLink\" href=\"../../../__pv_it/theorems/4fe085427c8befcf25477e8c331e4761e400814d0/expr.ipynb\"><img src=\"data:image/png;base64,iVBORw0KGgoAAAANSUhEUgAAAEQAAAAVBAMAAAAN71XTAAAAMFBMVEX///9mZmaqqqrMzMxEREQy\n",
       "MjJ2dna6urqIiIgiIiIQEBBUVFTc3NyYmJju7u4AAABISk2iAAAAAXRSTlMAQObYZgAAAOlJREFU\n",
       "KM9jeMsABxwM2MFpBJOVZCW8s1y+RvniN4WVbwOzrx9eJSw8CQwOp7EquTJzZgBMiQwrNiUmfUim\n",
       "yLBAlLzoPt7WAFPCF4ds0YZqsBK+BN4ZnAEwJdwHkJQwTYwDK2F7wPaP/QBMCQuSc1fODIJ4mo+B\n",
       "xQHhFqtQIIA6N13ADxYu/A0IJUeQPS1uAlNib4BQwoWshOVtA1gJ04N+Bo4HMCWMDUhKmDcIg5XU\n",
       "K/gznEWEyySkCGBI4jYAKXnd8UL2AkLJa/cH8Gg0YHH9hC0CyjwhEUCV9EKKklczZ0MYR2dOwa4C\n",
       "ABAKRMFqHguuAAAAAElFTkSuQmCC\n",
       "\" style=\"display:inline;vertical-align:middle;\" /></a></span>"
      ],
      "text/plain": [
       "{x in Real} |- floor(x) in Real"
      ]
     },
     "execution_count": 7,
     "metadata": {},
     "output_type": "execute_result"
    }
   ],
   "source": [
    "floor_of_real_is_real.instantiate({x:x})"
   ]
  },
  {
   "cell_type": "code",
   "execution_count": 11,
   "metadata": {},
   "outputs": [
    {
     "data": {
      "text/html": [
       "<strong id=\"real_minus_floor_bound\">real_minus_floor_bound:</strong> <span style=\"font-size:20px;\"><a class=\"ProveItLink\" href=\"../../../__pv_it/axioms/f399694c94d63fe522f8e05f5163f6a5a160a5b80/expr.ipynb\"><img src=\"data:image/png;base64,iVBORw0KGgoAAAANSUhEUgAAADQAAAAPBAMAAABZ6/G2AAAAMFBMVEX///8QEBBmZmaqqqrMzMxE\n",
       "REQyMjIiIiKYmJh2dna6urrc3NxUVFSIiIju7u4AAAA6P00QAAAAAXRSTlMAQObYZgAAAMRJREFU\n",
       "GNNjYMAAHIWh3xIjGLACNr4DLBFxWKVYuScwBOxBEWotL0+ASWmzIcu43kPSpc0KZLy9s+vmBSDN\n",
       "l4ds4IE1QJEJHLXsIHN4NiBJMRcBFXI+4PzHBRJlRXKGeHkyyBwG1gCwgGMaEECdMUsB4nb+C2Bq\n",
       "K7LjtVzBLH8HMMWILMX6Aqie+cF9Bt4HQAGmC0hSLAdUGBjWG8Qz7ACLFCMFFMNkHgeGN3ffajSA\n",
       "Rd5EPYAHrwNr2Gfk4FgZDgkoKAAAelg1omM6Y4wAAAAASUVORK5CYII=\n",
       "\" style=\"display:inline;vertical-align:middle;\" /></a> <a class=\"ProveItLink\" href=\"../../../__pv_it/_proof_real_minus_floor_lower_bound/aefa8969def5dca50939738df5e72f9e1c0da8db0/proof.ipynb\" style=\"text-decoration: none\">&nbsp;&#x22A2;&nbsp;&nbsp;</a><a class=\"ProveItLink\" href=\"../../../__pv_it/_proof_real_minus_floor_lower_bound/b61dcb19055977d58e2c4f15bc38f1498ab37b250/expr.ipynb\"><img src=\"data:image/png;base64,iVBORw0KGgoAAAANSUhEUgAAANEAAAAVBAMAAAAqbRZ+AAAAMFBMVEX////MzMxUVFR2dna6uroQ\n",
       "EBCqqqqIiIgiIiJmZmYyMjJERETu7u6YmJjc3NwAAACgK8IjAAAAAXRSTlMAQObYZgAAAbxJREFU\n",
       "SMellbFOAkEQhkdBQDiQ3sLYWhg6NbGgNDY2PAC1hSFaqJVogSQmhtJCE2wsKAyFrXIxIRCMCaU2\n",
       "5kIs1MTEB7BwZ/f27mQ22V3d5oaZj/+HZZgBUJ/HMEwC/AFS1HJDlcgoDNMAWwricxzSCjyA3mnS\n",
       "I4DTtnHiAtcGTk6TR/3zSNazcUKBbMPACZZEuLkYZJ/BxgkFUp6JU9eP1+dl9tTOiQm8gYlTuui/\n",
       "mL3x+6hq58QE9tmjt/26U6Ggn0YwFtzx6Ep0boNCGoFb9nMVssepJgFlGsFsWH7He4PMkEIagRrz\n",
       "c2PfcY+AMo1gohpUnvjXS5UppBEoMW/ItHl10MJzKT+Sn0Zw4ksq7K3yx1SRQuDw97fyaoESxjMV\n",
       "5Q8q0lEnZ9knpVMU0gjUMJ7LK0GRRjAubi93JkeXvL0opBFgHZFwDyDpElCmw47ILZRlXXZEFNII\n",
       "rABslDs4L8dBmUZwusBHZDGoxxoU0gisAdzv9i6GFJRp/scbv954lUIaAbNp1CeA5TTqW07YyLGf\n",
       "sHBnvjUGdTyHoiWst4bRJsz8dxNyAfV279aPRPBRPwF4UW/335BG4Afbv87MUz84+QAAAABJRU5E\n",
       "rkJggg==\n",
       "\" style=\"display:inline;vertical-align:middle;\" /></a></span><br>"
      ],
      "text/plain": [
       "real_minus_floor_bound: {x in Real} |- (x - floor(x)) >= (floor(x) - floor(x))"
      ]
     },
     "execution_count": 11,
     "metadata": {},
     "output_type": "execute_result"
    }
   ],
   "source": [
    "real_minus_floor_bound = subtract(x, Floor(x)).deduce_bound(floor_bound)"
   ]
  },
  {
   "cell_type": "code",
   "execution_count": 9,
   "metadata": {},
   "outputs": [
    {
     "data": {
      "text/html": [
       "<strong id=\"floor_minus_floor_is_zero\">floor_minus_floor_is_zero:</strong> <span style=\"font-size:20px;\"><a class=\"ProveItLink\" href=\"../../../__pv_it/axioms/f399694c94d63fe522f8e05f5163f6a5a160a5b80/expr.ipynb\"><img src=\"data:image/png;base64,iVBORw0KGgoAAAANSUhEUgAAADQAAAAPBAMAAABZ6/G2AAAAMFBMVEX///8QEBBmZmaqqqrMzMxE\n",
       "REQyMjIiIiKYmJh2dna6urrc3NxUVFSIiIju7u4AAAA6P00QAAAAAXRSTlMAQObYZgAAAMRJREFU\n",
       "GNNjYMAAHIWh3xIjGLACNr4DLBFxWKVYuScwBOxBEWotL0+ASWmzIcu43kPSpc0KZLy9s+vmBSDN\n",
       "l4ds4IE1QJEJHLXsIHN4NiBJMRcBFXI+4PzHBRJlRXKGeHkyyBwG1gCwgGMaEECdMUsB4nb+C2Bq\n",
       "K7LjtVzBLH8HMMWILMX6Aqie+cF9Bt4HQAGmC0hSLAdUGBjWG8Qz7ACLFCMFFMNkHgeGN3ffajSA\n",
       "Rd5EPYAHrwNr2Gfk4FgZDgkoKAAAelg1omM6Y4wAAAAASUVORK5CYII=\n",
       "\" style=\"display:inline;vertical-align:middle;\" /></a> <a class=\"ProveItLink\" href=\"../../../__pv_it/_proof_real_minus_floor_lower_bound/e5281b458758155eba48c3dde75abe150176e2890/proof.ipynb\" style=\"text-decoration: none\">&nbsp;&#x22A2;&nbsp;&nbsp;</a><a class=\"ProveItLink\" href=\"../../../__pv_it/_proof_real_minus_floor_lower_bound/73cabee60128c4bc973567a9facde36d99c9e2fe0/expr.ipynb\"><img src=\"data:image/png;base64,iVBORw0KGgoAAAANSUhEUgAAAIkAAAAVBAMAAACArtDCAAAAMFBMVEX////MzMxUVFR2dna6uroQ\n",
       "EBCqqqqIiIgiIiJmZmYyMjJERETu7u6YmJjc3NwAAACgK8IjAAAAAXRSTlMAQObYZgAAAY1JREFU\n",
       "OMtjYAACngsMcFDAgArOIpjsDLgB3wUGPgUEdwGa9CMEk4uBIQ+XKacZSDCF6QGGfvPLAkByHSmm\n",
       "8KBLM3Al8PQxMPBOIMUUBnN0U64yMFgxMHA8IMmUo+imbGJgyD/A8IKBJFO4HNDkPzEw+CcwVEJN\n",
       "4SnXczfHYcrxoifFBRBTmCegSvP8BJpSwLAXasphhhsFXdhN4THgbedYADGFFyzPvAoMQEH6mYFB\n",
       "voChDWqKDYP9AT/spjAfYP7D8gBiClsDWmoDukXegCEEasoBht2IcDkFtmohzC0M3Btg4cL4AauP\n",
       "QuCh+x136PIX4DIFFLr5CXAfMTB+xG2KvADMFJYGpHABaQP64P4BeOjmsH9gqMFuCtuBegb2A8ih\n",
       "i5HqLCGmsHzj/sB3Absp/gn7Gd5C3cJpgCbPkcATyMDgATGFR72m8i4OHx0qPz73AizVCaDJ85gX\n",
       "CZCcA05gLxgozY1QsI+ykoGcUor7Ae4SkyeiA2IO34qODWjSRzuaIIxXHd0MDPewmwEA312Deray\n",
       "8tkAAAAASUVORK5CYII=\n",
       "\" style=\"display:inline;vertical-align:middle;\" /></a></span><br>"
      ],
      "text/plain": [
       "floor_minus_floor_is_zero: {x in Real} |- (floor(x) - floor(x)) = 0"
      ]
     },
     "execution_count": 9,
     "metadata": {},
     "output_type": "execute_result"
    }
   ],
   "source": [
    "floor_minus_floor_is_zero = Equals(Add(Floor(x), Neg(Floor(x))), zero).prove()"
   ]
  },
  {
   "cell_type": "code",
   "execution_count": 12,
   "metadata": {},
   "outputs": [
    {
     "data": {
      "text/html": [
       "<span style=\"font-size:20px;\"><a class=\"ProveItLink\" href=\"../../../__pv_it/axioms/f399694c94d63fe522f8e05f5163f6a5a160a5b80/expr.ipynb\"><img src=\"data:image/png;base64,iVBORw0KGgoAAAANSUhEUgAAADQAAAAPBAMAAABZ6/G2AAAAMFBMVEX///8QEBBmZmaqqqrMzMxE\n",
       "REQyMjIiIiKYmJh2dna6urrc3NxUVFSIiIju7u4AAAA6P00QAAAAAXRSTlMAQObYZgAAAMRJREFU\n",
       "GNNjYMAAHIWh3xIjGLACNr4DLBFxWKVYuScwBOxBEWotL0+ASWmzIcu43kPSpc0KZLy9s+vmBSDN\n",
       "l4ds4IE1QJEJHLXsIHN4NiBJMRcBFXI+4PzHBRJlRXKGeHkyyBwG1gCwgGMaEECdMUsB4nb+C2Bq\n",
       "K7LjtVzBLH8HMMWILMX6Aqie+cF9Bt4HQAGmC0hSLAdUGBjWG8Qz7ACLFCMFFMNkHgeGN3ffajSA\n",
       "Rd5EPYAHrwNr2Gfk4FgZDgkoKAAAelg1omM6Y4wAAAAASUVORK5CYII=\n",
       "\" style=\"display:inline;vertical-align:middle;\" /></a> <a class=\"ProveItLink\" href=\"../../../__pv_it/_proof_real_minus_floor_lower_bound/5bb96b3fc1eaabc5b6ae08f9001ebf4b72628cab0/proof.ipynb\" style=\"text-decoration: none\">&nbsp;&#x22A2;&nbsp;&nbsp;</a><a class=\"ProveItLink\" href=\"../../../__pv_it/_proof_real_minus_floor_lower_bound/aaab4441388b8548c813abc9a5fa154f27df68610/expr.ipynb\"><img src=\"data:image/png;base64,iVBORw0KGgoAAAANSUhEUgAAAHcAAAAVBAMAAACOK2zoAAAAMFBMVEX///9mZma6urpUVFREREQQ\n",
       "EBDc3NwiIiLu7u6qqqoyMjLMzMyYmJiIiIh2dnYAAADXmt2vAAAAAXRSTlMAQObYZgAAAYVJREFU\n",
       "OMtjYCAe9CCYvHiUsR3AJpqMYHIxMEwD0Xx3XmMoa2EgrJk5AUivZGhPgAte3wCmlhGhmWMBAwNP\n",
       "AAPfAqgQx/MLYJpHgAjNDG8ZGFgMGDh/QH0qDvUqewIxmlsZGPgNGJh+QvRaTYBKpTMQo5lLgaFf\n",
       "gIHpL4jP7aUAk7oIxL2Xk+5dwNQMFQZp5hNgyH/AwA3W7LIBrsoH6P0HPLXsCzA0w4RBmnkWMOQL\n",
       "MHD/Awf0DbiqSqCxDXw/mBIwNMOEQZo5CxDOZjj+AqYqCGgFA4sDOAJWgcEGmM1QYZBm7g+gAOOE\n",
       "BBjDLDGEZmBIXsAaYBBhqGagSTzQqGLQsoY7m4Fh/wasmiHCIM1MBSiJhGGLEyzAOBvuM/A2YGiG\n",
       "CUMDDGhNK8KOZDDzIQOD/gR/hhxMm2HCIM2MDxgY+u5ao7tPnYGh+W6vzAFMzTBhcCLZgDUpEZc8\n",
       "27GnQ6IzBgxwLC8HAYhT3IjMklgBMYUBSwJJxVBreTGEkVVewsBwjIEBAJtYa5zQcUhfAAAAAElF\n",
       "TkSuQmCC\n",
       "\" style=\"display:inline;vertical-align:middle;\" /></a></span>"
      ],
      "text/plain": [
       "{x in Real} |- 0 <= (x - floor(x))"
      ]
     },
     "execution_count": 12,
     "metadata": {},
     "output_type": "execute_result"
    }
   ],
   "source": [
    "floor_minus_floor_is_zero.sub_right_side_into(real_minus_floor_bound)"
   ]
  },
  {
   "cell_type": "code",
   "execution_count": 13,
   "metadata": {},
   "outputs": [
    {
     "data": {
      "text/html": [
       "<table><tr><th>&nbsp;</th><th>step type</th><th>requirements</th><th>statement</th></tr>\n",
       "<tr><td><a name=\"0x7267a0d96afdcb9f_step0\">0</a></td><td>generalizaton</td><td><a href=\"#0x7267a0d96afdcb9f_step1\">1</a></td><td><span style=\"font-size:20px;\"> <a class=\"ProveItLink\" href=\"../../../__pv_it/_proof_real_minus_floor_lower_bound/8dcf9ae9517bc652532102885fa5108c59a17a820/proof.ipynb\" style=\"text-decoration: none\">&nbsp;&#x22A2;&nbsp;&nbsp;</a><a class=\"ProveItLink\" href=\"../../../__pv_it/theorems/155fe94f37bc1fcbc804f46f1de8366cb2217af40/expr.ipynb\"><img src=\"data:image/png;base64,iVBORw0KGgoAAAANSUhEUgAAAL0AAAAVBAMAAADhtvKAAAAAMFBMVEX///8QEBCIiIhmZma6urrM\n",
       "zMxUVFQiIiJERETc3Nzu7u6qqqp2dnaYmJgyMjIAAAAcRTyBAAAAAXRSTlMAQObYZgAAAmNJREFU\n",
       "OMudlU1o1EAUgB/pbtPMTtaL3oPC6kGwUEQQlIUevNmc1IPQgz/gpYioa9GDB5EsIi5WWi9q2kJb\n",
       "FpSABymIDetBWKFEKPiD4uJNRREEUfHgvHkzm26TEN2Bt/v2y+TbmTeZCUB/7X6cGtB3syKKZJuO\n",
       "0zLAcvrtiDuYvMvwL6nI8w82Eh1ab12Jn+OPTxn+jyry/EyOEhb3xjBgkxLfxjJcTtfbwxS5fmhR\n",
       "+uSUhi8AViUu+wA8SPebDYp8/6zKD55QyVWAFR+x3W42ZzLKM6Mi31+uqh9HrtD3D4CxQOKfnncp\n",
       "w79NxVzl1k4n6VcY/bxbxenP+Mm+C78jsZhRPcN/nYKF9hmzk/BrjH47vjw1iSv6B2DckXhUrz61\n",
       "RzuOfdD5RQru89+FRsKvMfpLp7tXXuJULDH+8VBiEwy9g9jjkcjg0Na12EzBYEg+YOyrbK4ev8Lo\n",
       "L37T+u3tdfVBzCNTX3u13AThfxP1+gE2OanrS3i9nz1zuuu7EkhsdQ7hA7y74hZwZugPe+sjpuqm\n",
       "+gmjv0D1sfbooXkA733C9ePC6k+Y1TKQf2S4d31L/i7RIeHXOF5fayLo3V8SPxR/UoQvAPPSP3Dy\n",
       "rO70lGIsuAF3kuPXGP0DcspL1XhrBmyLwlTFXwCHPc9zDH5zTXc6QLGwdW5flPRrLPfXxgKyVsVV\n",
       "2PblAhVhkOpTOur/9/mwmL6Buvge73DgLtW/HfZ7viUOaZ0srLXEc3sN99dqOL9f4zpkbe7U8/lB\n",
       "Ddu5uEgbNr0h6t/X+2UovYgZ+F/ej7O185TcrV0AeJ1+u8B/AThtvYKTzCi3AAAAAElFTkSuQmCC\n",
       "\" style=\"display:inline;vertical-align:middle;\" /></a></span></td></tr>\n",
       "<tr><td><a name=\"0x7267a0d96afdcb9f_step1\">1</a></td><td>instantiation</td><td><a href=\"#0x7267a0d96afdcb9f_step2\">2</a>, <a href=\"#0x7267a0d96afdcb9f_step3\">3</a>, <a href=\"#0x7267a0d96afdcb9f_step4\">4</a></td><td><span style=\"font-size:20px;\"><a class=\"ProveItLink\" href=\"../../../__pv_it/axioms/f399694c94d63fe522f8e05f5163f6a5a160a5b80/expr.ipynb\"><img src=\"data:image/png;base64,iVBORw0KGgoAAAANSUhEUgAAADQAAAAPBAMAAABZ6/G2AAAAMFBMVEX///8QEBBmZmaqqqrMzMxE\n",
       "REQyMjIiIiKYmJh2dna6urrc3NxUVFSIiIju7u4AAAA6P00QAAAAAXRSTlMAQObYZgAAAMRJREFU\n",
       "GNNjYMAAHIWh3xIjGLACNr4DLBFxWKVYuScwBOxBEWotL0+ASWmzIcu43kPSpc0KZLy9s+vmBSDN\n",
       "l4ds4IE1QJEJHLXsIHN4NiBJMRcBFXI+4PzHBRJlRXKGeHkyyBwG1gCwgGMaEECdMUsB4nb+C2Bq\n",
       "K7LjtVzBLH8HMMWILMX6Aqie+cF9Bt4HQAGmC0hSLAdUGBjWG8Qz7ACLFCMFFMNkHgeGN3ffajSA\n",
       "Rd5EPYAHrwNr2Gfk4FgZDgkoKAAAelg1omM6Y4wAAAAASUVORK5CYII=\n",
       "\" style=\"display:inline;vertical-align:middle;\" /></a> <a class=\"ProveItLink\" href=\"../../../__pv_it/_proof_real_minus_floor_lower_bound/5bb96b3fc1eaabc5b6ae08f9001ebf4b72628cab0/proof.ipynb\" style=\"text-decoration: none\">&nbsp;&#x22A2;&nbsp;&nbsp;</a><a class=\"ProveItLink\" href=\"../../../__pv_it/_proof_real_minus_floor_lower_bound/aaab4441388b8548c813abc9a5fa154f27df68610/expr.ipynb\"><img src=\"data:image/png;base64,iVBORw0KGgoAAAANSUhEUgAAAHcAAAAVBAMAAACOK2zoAAAAMFBMVEX///9mZma6urpUVFREREQQ\n",
       "EBDc3NwiIiLu7u6qqqoyMjLMzMyYmJiIiIh2dnYAAADXmt2vAAAAAXRSTlMAQObYZgAAAYVJREFU\n",
       "OMtjYCAe9CCYvHiUsR3AJpqMYHIxMEwD0Xx3XmMoa2EgrJk5AUivZGhPgAte3wCmlhGhmWMBAwNP\n",
       "AAPfAqgQx/MLYJpHgAjNDG8ZGFgMGDh/QH0qDvUqewIxmlsZGPgNGJh+QvRaTYBKpTMQo5lLgaFf\n",
       "gIHpL4jP7aUAk7oIxL2Xk+5dwNQMFQZp5hNgyH/AwA3W7LIBrsoH6P0HPLXsCzA0w4RBmnkWMOQL\n",
       "MHD/Awf0DbiqSqCxDXw/mBIwNMOEQZo5CxDOZjj+AqYqCGgFA4sDOAJWgcEGmM1QYZBm7g+gAOOE\n",
       "BBjDLDGEZmBIXsAaYBBhqGagSTzQqGLQsoY7m4Fh/wasmiHCIM1MBSiJhGGLEyzAOBvuM/A2YGiG\n",
       "CUMDDGhNK8KOZDDzIQOD/gR/hhxMm2HCIM2MDxgY+u5ao7tPnYGh+W6vzAFMzTBhcCLZgDUpEZc8\n",
       "27GnQ6IzBgxwLC8HAYhT3IjMklgBMYUBSwJJxVBreTGEkVVewsBwjIEBAJtYa5zQcUhfAAAAAElF\n",
       "TkSuQmCC\n",
       "\" style=\"display:inline;vertical-align:middle;\" /></a></span></td></tr>\n",
       "<tr><td>&nbsp;</td><td colspan=4 style=\"text-align:left\"><span style=\"font-size:20px;\"><a class=\"ProveItLink\" href=\"../../../__pv_it/_proof_real_minus_floor_lower_bound/24158abeeef499d6a6e1879eb4a1d2f5cc086ef30/expr.ipynb\"><img src=\"data:image/png;base64,iVBORw0KGgoAAAANSUhEUgAAADcAAAAUBAMAAADbzbjtAAAAMFBMVEX///8iIiLc3Ny6urqIiIiq\n",
       "qqp2dnbMzMwQEBDu7u5mZmYyMjJERERUVFSYmJgAAAA4CJ/KAAAAAXRSTlMAQObYZgAAAQ1JREFU\n",
       "KM9jYIADpgcMyCAITL79f/burgkMDHNQ5Bh4FcDUbwYGnk4Ghk2okpwbQCT7NwYG1i8MfAtQJRlS\n",
       "QATLZyD+xsCogCY5A0TwfABa8JlBEU2OgdsASPADDddfwOCF5O5lS4BuYAPZU5/AwCrGwHAOIWmh\n",
       "wA00jQ/kIv9raUuAPhFFuLOPgesA0JECQPb5CWChZrgk108GRgegL4C6GT4yoElyHGCYXwCRZP8F\n",
       "EUIYOz+BIR5IMQtAvAkCCAfND2C4zaoAdhD3T4hQFlySx4FPlg1odQID1/6/DmAhQ6BBZ4DgJAPn\n",
       "FXddZ6CuAoTnMIJvIhIbe8DDwCFsUQYDaJHNg2INWjJ5xMAAAHA6PhPQZp1jAAAAAElFTkSuQmCC\n",
       "\" style=\"display:inline;vertical-align:middle;\" /></a> : <a class=\"ProveItLink\" href=\"../../../__pv_it/_proof_real_minus_floor_lower_bound/c264c000038553824a0a161fa431dcdad966e27d0/expr.ipynb\"><img src=\"data:image/png;base64,iVBORw0KGgoAAAANSUhEUgAAAIQAAAAVBAMAAAB1UFtyAAAAMFBMVEX///9UVFSqqqrMzMwiIiKY\n",
       "mJgyMjIQEBCIiIh2dnZmZmbc3Nzu7u5ERES6uroAAACFTSmKAAAAAXRSTlMAQObYZgAAAXFJREFU\n",
       "OMtjYCAV8AQg2A0EVW/FJsgtgGAnMDBtwG/fBcJGMEhj18vhDKbYNhBhxDGsJpz0gNBRDEQYwYkt\n",
       "PHa5QhnexBjBU4CpZGMSTK0DMUYw5CHsntV+AETbwoU4FgDt6JB+MQPTCJgwyIhZMAm+aoZ8EM17\n",
       "Ga6WF5gATjKENLhhGgETBhkRBpM4HsCwFmy1xwGYEIsCA8MchvkHXmMaARMGGaECk1h/gAESD6ye\n",
       "MDPYHzAwHGC4C0kiaWBgADUCJgwywh5mRC0Dz2cIiylrA8IIBoYf2IPzB4YRPD8ZmD7AgiXRAO4R\n",
       "BubPWI2ACoOMeAIz4hMDY4I2lMN89wEsOHU4PjD0YBoBE0YJzhsMIQIT4KqEQSTnAga+T7wfuAMw\n",
       "jIALg4xYyfD2LhAcYDjYYS3xAFUtnwMDj0RPVyimR+DCICOS8eVU4hK4Az4jyMxmx1xAAJLZecnP\n",
       "7CQVObfJKPh4SlwghnCnuFxgYN3AAAATRGZM8IumbQAAAABJRU5ErkJggg==\n",
       "\" style=\"display:inline;vertical-align:middle;\" /></a>, <a class=\"ProveItLink\" href=\"../../../../../__pv_it/common/a2581dc5df71d9a30bad37de14965fa5fec97a240/expr.ipynb\"><img src=\"data:image/png;base64,iVBORw0KGgoAAAANSUhEUgAAAAsAAAAJBAMAAAAWSsseAAAALVBMVEX///9mZmaqqqrMzMxEREQy\n",
       "MjIiIiKYmJh2dna6urrc3NxUVFSIiIju7u4AAACJHQtQAAAAAXRSTlMAQObYZgAAAEJJREFUCNdj\n",
       "YLhzeuWJAwy8Dew5bAEMHBc43nIuYOBlYHFgAAG+A2DKzgBIMF04x8BzgWGegh/DcgaG22fuiBcw\n",
       "AAATyhBrnyPYZQAAAABJRU5ErkJggg==\n",
       "\" style=\"display:inline;vertical-align:middle;\" /></a> : <a class=\"ProveItLink\" href=\"../../../__pv_it/_proof_real_minus_floor_lower_bound/ab72691d6309d826f818a1f3355464b8e20c6a300/expr.ipynb\"><img src=\"data:image/png;base64,iVBORw0KGgoAAAANSUhEUgAAAE8AAAAVBAMAAAD1D64kAAAAMFBMVEX///9mZmaqqqrMzMxEREQy\n",
       "MjJ2dna6urqIiIgiIiIQEBBUVFTc3NyYmJju7u4AAABISk2iAAAAAXRSTlMAQObYZgAAALZJREFU\n",
       "KM9jeMsABxwMqIDvAoLdwHAawWFFU8izAcEOGH4KX3Qfb2vArpCvY09FBkwhXwLvDM4A7AqfMdxs\n",
       "mApTyPaA7R/7AewK8xjyH9TATWRgcYC7kS8UDAygCh8wuCB7hr8Bt2d+ICu0N8CpkPkzQiHTg34G\n",
       "jgfYFepxfGDogymsV/BnOIvdRPZPLB94LsAUvu54IXsBu0K+HX2Nd4dOong1czaEeXTmFPQ8s3Im\n",
       "RClP5EwHAInLULu08vlDAAAAAElFTkSuQmCC\n",
       "\" style=\"display:inline;vertical-align:middle;\" /></a>, <a class=\"ProveItLink\" href=\"../../../../../__pv_it/common/0f21cbfd5644a1cae6781c1d58354abc2ffbc9000/expr.ipynb\"><img src=\"data:image/png;base64,iVBORw0KGgoAAAANSUhEUgAAAAsAAAANBAMAAACN24kIAAAAMFBMVEX///8iIiKYmJhUVFTMzMxE\n",
       "REQyMjKqqqq6urp2dnYQEBDc3NxmZmaIiIju7u4AAACH5sGpAAAAAXRSTlMAQObYZgAAAFlJREFU\n",
       "CNdj4LtzgWHXAwZOjgUM9xkYtvMkMIQyMDzgusDwl4GBof8ByxcgdYyBdwGQCmZgNQBShxn6FYDU\n",
       "47vnNzAwgGUZGJgT+H4AKUYF1gtAiuPuESAJAJGkFvXVdzA+AAAAAElFTkSuQmCC\n",
       "\" style=\"display:inline;vertical-align:middle;\" /></a> : <a class=\"ProveItLink\" href=\"../../../../numerals/__pv_it/common/c35fdf7268947ca3e24174d2909dc9d0a7f3aac60/expr.ipynb\"><img src=\"data:image/png;base64,iVBORw0KGgoAAAANSUhEUgAAAAoAAAAOBAMAAADkjZCYAAAAMFBMVEX///9mZma6urpUVFREREQQ\n",
       "EBDc3NwiIiLu7u6qqqoyMjLMzMyYmJiIiIh2dnYAAADXmt2vAAAAAXRSTlMAQObYZgAAAFFJREFU\n",
       "CNdjYOC785qBgWElQ3sCA08AA98CBhYDBs4fDPwGDEw/GfoFGJj+MuQ/YOAGkgIM3P+gIkBZzp8M\n",
       "LA4MPD+guhgqGVo3MDD03bVmAABi3RThwIkdoQAAAABJRU5ErkJggg==\n",
       "\" style=\"display:inline;vertical-align:middle;\" /></a></span></td></tr><tr><td><a name=\"0x7267a0d96afdcb9f_step2\">2</a></td><td>theorem</td><td></td><td><span style=\"font-size:20px;\"> <a class=\"ProveItLink\" href=\"../../../../../logic/equality/_theory_nbs_/proofs/sub_right_side_into/thm_proof.ipynb\" style=\"text-decoration: none\">&nbsp;&#x22A2;&nbsp;&nbsp;</a><a class=\"ProveItLink\" href=\"../../../../../logic/equality/__pv_it/theorems/f0759588b0275c29c9b37c086fa38378e758407a0/expr.ipynb\"><img src=\"data:image/png;base64,iVBORw0KGgoAAAANSUhEUgAAAL4AAAAWBAMAAACMFTstAAAAMFBMVEX///8QEBCIiIhmZma6urrM\n",
       "zMxUVFQiIiJERETc3Nzu7u6qqqp2dnaYmJgyMjIAAAAcRTyBAAAAAXRSTlMAQObYZgAAAu1JREFU\n",
       "SMe1VU1oE1EQ/rrZ3WQ3aVo82kukoFCrlqKgIBIrqAel0YMnMaHYglJLD14sCkGhpIXa3OxFGlQE\n",
       "e7ABRfEW2oNQS4konlQW1INCbbCl2lp/Zt57m2yNCypxYDPzJvO+nTfzvVngf8h1qcJZwGHjVW1g\n",
       "X/wY7HmTA+y0cpwBnrD+UKO8vwOhjUA0q9Z3gTFSVro28MYa1eQT8Mx1RGKI0nki+drga0v00Dsu\n",
       "uA67EfUzExPXalSeUAkwl2D1lz1vgS+ZzMU/226J34R/QAORZbwNWhtwox0WdWIa6AaGAH20d/fZ\n",
       "qg26VIeXpwepjAWxuO+PnywgTLmGihS7Hxqd5jVwADZz9CnwuPrAUtU3ItIPU7IikPXF39E72055\n",
       "BPOw8vsQItY8pBU0eh966G8/fDPFyZxUPUv54o/mhKqLw8YGNMToRESeYpCdl4CMH36wyMl0K+d7\n",
       "X/zPcPGhryKZEPiWc4KzWoE2QC9rPs4wHSkMePAns9iSA7FiatfmBLaxS1hS3GAYiyodonvAwSYy\n",
       "D9EzdJo7udbKN7nFdM6TKqwajR78zqnZPLNOy/UF43jATGfLzJCMlIMF/cUuqncohUGI/uIe0zXi\n",
       "SPJFuRfWrX4t7cGfE1xKw8A8s4lTFZZkrRuM6Kq6tcTPQEr/RuZeZm2MkdoUhQU7AgUz5sG/IvC5\n",
       "ryv0nBK+lXLV3eDAwnJMspoStruaOeIds4+73qBGRFLcn2C8LuHB/yqqS0kaJQM4KFZkmR9J5svB\n",
       "FRHzgToAu3yTk5S3NWyV5lCwhhFMdHr4Y4hcKXY84kSAlxjLSUu1UwVXhOZbHybjYr6pybSwh3Ca\n",
       "7HNHWnNGE/Suqx787YuiaAO4/XxqBtiJY3lpqUuugj20zhLdL8v57JWwq+5gxMt/KVuVpnOvm7du\n",
       "cEXo+9LRzDUbWu9/5Kpe3anGV4twUXz3KuIGV38f638ZJUVXHZ1FNb4u/75J+9btcoP/QQK/OV7L\n",
       "XyH8BE6swAxF4PihAAAAAElFTkSuQmCC\n",
       "\" style=\"display:inline;vertical-align:middle;\" /></a></span></td></tr>\n",
       "<tr><td>&nbsp;</td><td colspan=4 style-\"text-align:left\"><a class=\"ProveItLink\" href=\"../../../../../logic/equality/_theory_nbs_/proofs/sub_right_side_into/thm_proof.ipynb\">proveit.logic.equality.sub_right_side_into</a></td></tr><tr><td><a name=\"0x7267a0d96afdcb9f_step3\">3</a></td><td>instantiation</td><td><a href=\"#0x7267a0d96afdcb9f_step5\">5</a>, <a href=\"#0x7267a0d96afdcb9f_step6\">6</a>, <a href=\"#0x7267a0d96afdcb9f_step14\">14</a>, <a href=\"#0x7267a0d96afdcb9f_step16\">16</a>, <a href=\"#0x7267a0d96afdcb9f_step7\">7</a></td><td><span style=\"font-size:20px;\"><a class=\"ProveItLink\" href=\"../../../__pv_it/axioms/f399694c94d63fe522f8e05f5163f6a5a160a5b80/expr.ipynb\"><img src=\"data:image/png;base64,iVBORw0KGgoAAAANSUhEUgAAADQAAAAPBAMAAABZ6/G2AAAAMFBMVEX///8QEBBmZmaqqqrMzMxE\n",
       "REQyMjIiIiKYmJh2dna6urrc3NxUVFSIiIju7u4AAAA6P00QAAAAAXRSTlMAQObYZgAAAMRJREFU\n",
       "GNNjYMAAHIWh3xIjGLACNr4DLBFxWKVYuScwBOxBEWotL0+ASWmzIcu43kPSpc0KZLy9s+vmBSDN\n",
       "l4ds4IE1QJEJHLXsIHN4NiBJMRcBFXI+4PzHBRJlRXKGeHkyyBwG1gCwgGMaEECdMUsB4nb+C2Bq\n",
       "K7LjtVzBLH8HMMWILMX6Aqie+cF9Bt4HQAGmC0hSLAdUGBjWG8Qz7ACLFCMFFMNkHgeGN3ffajSA\n",
       "Rd5EPYAHrwNr2Gfk4FgZDgkoKAAAelg1omM6Y4wAAAAASUVORK5CYII=\n",
       "\" style=\"display:inline;vertical-align:middle;\" /></a> <a class=\"ProveItLink\" href=\"../../../__pv_it/_proof_real_minus_floor_lower_bound/aefa8969def5dca50939738df5e72f9e1c0da8db0/proof.ipynb\" style=\"text-decoration: none\">&nbsp;&#x22A2;&nbsp;&nbsp;</a><a class=\"ProveItLink\" href=\"../../../__pv_it/_proof_real_minus_floor_lower_bound/c2a57f7c9656681ee62aa0d9ea2e46cd9446e5920/expr.ipynb\"><img src=\"data:image/png;base64,iVBORw0KGgoAAAANSUhEUgAAANEAAAAVBAMAAAAqbRZ+AAAAMFBMVEX////MzMxUVFR2dna6uroQ\n",
       "EBCqqqqIiIgiIiJmZmYyMjJERETu7u6YmJjc3NwAAACgK8IjAAAAAXRSTlMAQObYZgAAAhlJREFU\n",
       "SMellj9IG1Ecx79pQhLNS3q7gzoJDiGbFYS6tXRoOzg4OoqIBB1iIGBwqIddhC5dWiJ0CBnEoZPS\n",
       "eLSIoggZJdBylA5BEOKii4Pv7/2/eGd/y3t8v3ffz927X94LQIt0YFUZ7hrkDaoLe5qRY6GDwpgt\n",
       "Nzx3uL206c8sdIJIf+3pMLDCxnPEIKHozzzH46Rn7An3YpHOHNa6xoe9CCRCb83vxCIlrW9FXogp\n",
       "C3iUhCkga8YikfdK/yw/T9aMQjoGeohFwjcpTy5IsYcopOFZVGUaqRRfTYWQnN40VxMHs+oCFnCy\n",
       "+m+t7CdJmZGSO/gh037hsrwdQnJ6Xa4eatYFNICU8lvZho+kZEbKN/BBps3gpfE2hOT0FkXb1awL\n",
       "aEDSSN6nTB9JyYyUrmNOphk4tL/TWYvVLgK8URF0OaMiaQBBbp+3I7+tpal3kjIjJfoWCbgb0BF3\n",
       "XhKWvtok4Hk5sCOELElq9ZC4CSc5vNfKeDNurR7la4EkITNSqm51xHKmj1oIyel1LWfku+qItLGB\n",
       "jOEjKVl2xLRIS93m+nyrDCC5vE+OMP7ENODdwhGu/e+kZEYaKvHVoGlkolb9HbJ6Lm/Xu0w04Gfl\n",
       "5EvHT1Iy/+VqsXejupcUbTc6/Y8dVlXkHRbtJ5wapKmzEg3XjnhqxDwJ2087CXOmOJzJvC7yCk19\n",
       "3/s/wuXlI5/ux/qmmFzpH4E/wAO0isPWe+7BygAAAABJRU5ErkJggg==\n",
       "\" style=\"display:inline;vertical-align:middle;\" /></a></span></td></tr>\n",
       "<tr><td>&nbsp;</td><td colspan=4 style=\"text-align:left\"><span style=\"font-size:20px;\"><a class=\"ProveItLink\" href=\"../../../../../__pv_it/common/66c90e66682f107a881f2d666959f64e2e72ad750/expr.ipynb\"><img src=\"data:image/png;base64,iVBORw0KGgoAAAANSUhEUgAAAAsAAAAJBAMAAAAWSsseAAAAMFBMVEX///9UVFSqqqrMzMwiIiJE\n",
       "RESYmJgyMjK6urru7u4QEBCIiIh2dnZmZmbc3NwAAABRgo0vAAAAAXRSTlMAQObYZgAAAEdJREFU\n",
       "CNdjYOC7c3slAwND1wP2DwwMnMsYeAMYGHh/MrBsYGDgCmCYb8DAMP8Agz5QxXwFBnGmBwysG9gc\n",
       "eYAqpTc/3MEAAP4BD32xAXDqAAAAAElFTkSuQmCC\n",
       "\" style=\"display:inline;vertical-align:middle;\" /></a> : <a class=\"ProveItLink\" href=\"../../../__pv_it/theorems/52d878df36df95fc5ce7b0625b48e5d7fd9a72200/expr.ipynb\"><img src=\"data:image/png;base64,iVBORw0KGgoAAAANSUhEUgAAACoAAAAVBAMAAADCwWEQAAAAMFBMVEX///9mZmaqqqpERER2dna6\n",
       "urqIiIgiIiIQEBBUVFTc3NyYmJjMzMwyMjLu7u4AAABJyq4dAAAAAXRSTlMAQObYZgAAAGRJREFU\n",
       "GNNjYICB13AWAxuCuRLB5B1I0WeZS1MS0EX5HLjL2C+gi7I8YPnHugAk+vYuCNyBqGVgNsBmG38C\n",
       "NtHzBzBFmR7kM7A9QBeNV7BnWI2h9mXaM+kN9AmdF+WVEMba8mIAJ4knxdS4CA0AAAAASUVORK5C\n",
       "YII=\n",
       "\" style=\"display:inline;vertical-align:middle;\" /></a>, <a class=\"ProveItLink\" href=\"../../../../../__pv_it/common/a2581dc5df71d9a30bad37de14965fa5fec97a240/expr.ipynb\"><img src=\"data:image/png;base64,iVBORw0KGgoAAAANSUhEUgAAAAsAAAAJBAMAAAAWSsseAAAALVBMVEX///9mZmaqqqrMzMxEREQy\n",
       "MjIiIiKYmJh2dna6urrc3NxUVFSIiIju7u4AAACJHQtQAAAAAXRSTlMAQObYZgAAAEJJREFUCNdj\n",
       "YLhzeuWJAwy8Dew5bAEMHBc43nIuYOBlYHFgAAG+A2DKzgBIMF04x8BzgWGegh/DcgaG22fuiBcw\n",
       "AAATyhBrnyPYZQAAAABJRU5ErkJggg==\n",
       "\" style=\"display:inline;vertical-align:middle;\" /></a> : <a class=\"ProveItLink\" href=\"../../../__pv_it/axioms/1cf51720796a69540ef4f6b4e45fbe6d076c69450/expr.ipynb\"><img src=\"data:image/png;base64,iVBORw0KGgoAAAANSUhEUgAAABgAAAAVBAMAAACuxzMVAAAAMFBMVEX///9mZmaqqqrMzMxEREQy\n",
       "MjJ2dna6urqIiIgiIiIQEBBUVFTc3NyYmJju7u4AAABISk2iAAAAAXRSTlMAQObYZgAAAFhJREFU\n",
       "GNNjeMsABxwMpxEcVupwXnQfb2uAcvgSeGdwBkA5bA/Y/rEfgMkwsDggGcDfgMSxN4BzmB70M3A8\n",
       "gHLqFfwZzsJkXne8kL1AtkNfzZwNYR6dOQUAY4ckfyl8US4AAAAASUVORK5CYII=\n",
       "\" style=\"display:inline;vertical-align:middle;\" /></a>, <a class=\"ProveItLink\" href=\"../../../../../__pv_it/common/0f21cbfd5644a1cae6781c1d58354abc2ffbc9000/expr.ipynb\"><img src=\"data:image/png;base64,iVBORw0KGgoAAAANSUhEUgAAAAsAAAANBAMAAACN24kIAAAAMFBMVEX///8iIiKYmJhUVFTMzMxE\n",
       "REQyMjKqqqq6urp2dnYQEBDc3NxmZmaIiIju7u4AAACH5sGpAAAAAXRSTlMAQObYZgAAAFlJREFU\n",
       "CNdj4LtzgWHXAwZOjgUM9xkYtvMkMIQyMDzgusDwl4GBof8ByxcgdYyBdwGQCmZgNQBShxn6FYDU\n",
       "47vnNzAwgGUZGJgT+H4AKUYF1gtAiuPuESAJAJGkFvXVdzA+AAAAAElFTkSuQmCC\n",
       "\" style=\"display:inline;vertical-align:middle;\" /></a> : <a class=\"ProveItLink\" href=\"../../../../../__pv_it/common/a2581dc5df71d9a30bad37de14965fa5fec97a240/expr.ipynb\"><img src=\"data:image/png;base64,iVBORw0KGgoAAAANSUhEUgAAAAsAAAAJBAMAAAAWSsseAAAALVBMVEX///9mZmaqqqrMzMxEREQy\n",
       "MjIiIiKYmJh2dna6urrc3NxUVFSIiIju7u4AAACJHQtQAAAAAXRSTlMAQObYZgAAAEJJREFUCNdj\n",
       "YLhzeuWJAwy8Dew5bAEMHBc43nIuYOBlYHFgAAG+A2DKzgBIMF04x8BzgWGegh/DcgaG22fuiBcw\n",
       "AAATyhBrnyPYZQAAAABJRU5ErkJggg==\n",
       "\" style=\"display:inline;vertical-align:middle;\" /></a></span></td></tr><tr><td><a name=\"0x7267a0d96afdcb9f_step4\">4</a></td><td>instantiation</td><td><a href=\"#0x7267a0d96afdcb9f_step8\">8</a>, <a href=\"#0x7267a0d96afdcb9f_step9\">9</a></td><td><span style=\"font-size:20px;\"><a class=\"ProveItLink\" href=\"../../../__pv_it/axioms/f399694c94d63fe522f8e05f5163f6a5a160a5b80/expr.ipynb\"><img src=\"data:image/png;base64,iVBORw0KGgoAAAANSUhEUgAAADQAAAAPBAMAAABZ6/G2AAAAMFBMVEX///8QEBBmZmaqqqrMzMxE\n",
       "REQyMjIiIiKYmJh2dna6urrc3NxUVFSIiIju7u4AAAA6P00QAAAAAXRSTlMAQObYZgAAAMRJREFU\n",
       "GNNjYMAAHIWh3xIjGLACNr4DLBFxWKVYuScwBOxBEWotL0+ASWmzIcu43kPSpc0KZLy9s+vmBSDN\n",
       "l4ds4IE1QJEJHLXsIHN4NiBJMRcBFXI+4PzHBRJlRXKGeHkyyBwG1gCwgGMaEECdMUsB4nb+C2Bq\n",
       "K7LjtVzBLH8HMMWILMX6Aqie+cF9Bt4HQAGmC0hSLAdUGBjWG8Qz7ACLFCMFFMNkHgeGN3ffajSA\n",
       "Rd5EPYAHrwNr2Gfk4FgZDgkoKAAAelg1omM6Y4wAAAAASUVORK5CYII=\n",
       "\" style=\"display:inline;vertical-align:middle;\" /></a> <a class=\"ProveItLink\" href=\"../../../__pv_it/_proof_real_minus_floor_lower_bound/e5281b458758155eba48c3dde75abe150176e2890/proof.ipynb\" style=\"text-decoration: none\">&nbsp;&#x22A2;&nbsp;&nbsp;</a><a class=\"ProveItLink\" href=\"../../../__pv_it/_proof_real_minus_floor_lower_bound/73cabee60128c4bc973567a9facde36d99c9e2fe0/expr.ipynb\"><img src=\"data:image/png;base64,iVBORw0KGgoAAAANSUhEUgAAAIkAAAAVBAMAAACArtDCAAAAMFBMVEX////MzMxUVFR2dna6uroQ\n",
       "EBCqqqqIiIgiIiJmZmYyMjJERETu7u6YmJjc3NwAAACgK8IjAAAAAXRSTlMAQObYZgAAAY1JREFU\n",
       "OMtjYAACngsMcFDAgArOIpjsDLgB3wUGPgUEdwGa9CMEk4uBIQ+XKacZSDCF6QGGfvPLAkByHSmm\n",
       "8KBLM3Al8PQxMPBOIMUUBnN0U64yMFgxMHA8IMmUo+imbGJgyD/A8IKBJFO4HNDkPzEw+CcwVEJN\n",
       "4SnXczfHYcrxoifFBRBTmCegSvP8BJpSwLAXasphhhsFXdhN4THgbedYADGFFyzPvAoMQEH6mYFB\n",
       "voChDWqKDYP9AT/spjAfYP7D8gBiClsDWmoDukXegCEEasoBht2IcDkFtmohzC0M3Btg4cL4AauP\n",
       "QuCh+x136PIX4DIFFLr5CXAfMTB+xG2KvADMFJYGpHABaQP64P4BeOjmsH9gqMFuCtuBegb2A8ih\n",
       "i5HqLCGmsHzj/sB3Absp/gn7Gd5C3cJpgCbPkcATyMDgATGFR72m8i4OHx0qPz73AizVCaDJ85gX\n",
       "CZCcA05gLxgozY1QsI+ykoGcUor7Ae4SkyeiA2IO34qODWjSRzuaIIxXHd0MDPewmwEA312Deray\n",
       "8tkAAAAASUVORK5CYII=\n",
       "\" style=\"display:inline;vertical-align:middle;\" /></a></span></td></tr>\n",
       "<tr><td>&nbsp;</td><td colspan=4 style=\"text-align:left\"><span style=\"font-size:20px;\"><a class=\"ProveItLink\" href=\"../../../../../__pv_it/common/66c90e66682f107a881f2d666959f64e2e72ad750/expr.ipynb\"><img src=\"data:image/png;base64,iVBORw0KGgoAAAANSUhEUgAAAAsAAAAJBAMAAAAWSsseAAAAMFBMVEX///9UVFSqqqrMzMwiIiJE\n",
       "RESYmJgyMjK6urru7u4QEBCIiIh2dnZmZmbc3NwAAABRgo0vAAAAAXRSTlMAQObYZgAAAEdJREFU\n",
       "CNdjYOC7c3slAwND1wP2DwwMnMsYeAMYGHh/MrBsYGDgCmCYb8DAMP8Agz5QxXwFBnGmBwysG9gc\n",
       "eYAqpTc/3MEAAP4BD32xAXDqAAAAAElFTkSuQmCC\n",
       "\" style=\"display:inline;vertical-align:middle;\" /></a> : <a class=\"ProveItLink\" href=\"../../../__pv_it/axioms/1cf51720796a69540ef4f6b4e45fbe6d076c69450/expr.ipynb\"><img src=\"data:image/png;base64,iVBORw0KGgoAAAANSUhEUgAAABgAAAAVBAMAAACuxzMVAAAAMFBMVEX///9mZmaqqqrMzMxEREQy\n",
       "MjJ2dna6urqIiIgiIiIQEBBUVFTc3NyYmJju7u4AAABISk2iAAAAAXRSTlMAQObYZgAAAFhJREFU\n",
       "GNNjeMsABxwMpxEcVupwXnQfb2uAcvgSeGdwBkA5bA/Y/rEfgMkwsDggGcDfgMSxN4BzmB70M3A8\n",
       "gHLqFfwZzsJkXne8kL1AtkNfzZwNYR6dOQUAY4ckfyl8US4AAAAASUVORK5CYII=\n",
       "\" style=\"display:inline;vertical-align:middle;\" /></a></span></td></tr><tr><td><a name=\"0x7267a0d96afdcb9f_step5\">5</a></td><td>conjecture</td><td></td><td><span style=\"font-size:20px;\"> <a class=\"ProveItLink\" href=\"../../../../addition/_theory_nbs_/proofs/weak_bound_by_left_term/thm_proof.ipynb\" style=\"text-decoration: none\">&nbsp;&#x22A2;&nbsp;&nbsp;</a><a class=\"ProveItLink\" href=\"../../../../addition/__pv_it/theorems/2082c1586c1ab021ba7c5eaebdd1fa2dcaee20460/expr.ipynb\"><img src=\"data:image/png;base64,iVBORw0KGgoAAAANSUhEUgAAAS0AAAAWBAMAAABnB9cHAAAAMFBMVEX///8QEBCIiIhmZma6urrM\n",
       "zMxUVFQiIiJERETc3Nzu7u6qqqp2dnaYmJgyMjIAAAAcRTyBAAAAAXRSTlMAQObYZgAAA+tJREFU\n",
       "SMfNll9oFEccx3+5273d29u75EHBFiprojGIaFBSW4gmVTAvalYfrIKQEI0gaIgSFWofpJRyaTGu\n",
       "bUmCIm6MRM2DOfRBIkUX86CcEvZB8A8qi/gHBc+jNKDRB3+zs3s3c9lLU66IP/je7OzOb+ZzM7/f\n",
       "zAD8Dxa1qYItZgR7BNuoJ4dUHpXGdc5TEdsV7BFsEYPqFqm8Ko3rpacidoF5XqjnPIJNcaj6yawe\n",
       "LgkrXkvF2EW2omq5QW9oOQ9moTW2dp0qYaJjqiQuyaAqxqVU+FG1ws57FOMaoIqnh4f7SlvGPk/F\n",
       "uOCph9WRYjyKcSUaqd4mkz+WxlXl6XT1n4s1nuuPsXm4HmPus9jTyHgoVRocMzmuaP2yL3Hxaqna\n",
       "Abr/fWxhmm9HqBQrvk9yOC7hC3iDxWO3ktRZD1WogKX8fH1nJLK4gA7VGjf8i9jlmu1P3AeZn3ku\n",
       "UQ5RqaY6KRgc14AN35BeaCouYj1OhB1IclzKVxDGfmOdVBKEgjc55a/ldkiFtDaFK/aEaziLSgGZ\n",
       "4o5nMnszmef41GDCPixaaLu7acbDLNPgb5KsmcyLuZlMK0B4EiQcS8xSqbYUPFf3RocBuR7YhVzx\n",
       "1xDEBVCuFcT9HFAm8lxw9VvGo9kUJ7j5KjsMI3qeK+psxpeD1c/czaOuGj8J1SCZAtljCJeV51Kr\n",
       "NrVDyMVa3Qo/8OuI4+s8l/IBYjgCNPmvN7TnPVZBqILjGrHgGonJTiro3oE97BcnCYbZIWHSqOXm\n",
       "RkgA5Vpem+daFHG6BBcBrEmxgo/7mLkUO+C43kPEGfXjntiWn3Mev4DcynOloAPPUj/u4RLChWtF\n",
       "giiCOxfHm6AGBl2u8M4uJu71hA3KTZLu0TOdIT/4x6iaU0fhJL+OP8HdVpzu+vya9+q+x9fQbHNc\n",
       "shY/oCKKReVGRVkqROHfub/10AbfJ5NJLaT+fofNx3LMN+Um2R7DVsSPpiaqocrTK22ea6hyaxv+\n",
       "i2eFodvkfmsw+HxsW9A7H/dUnQriOPcjhvyALIGYFUmTLpgNEbqOsW0mw9UCxGMJgkmNZfpMz6HO\n",
       "oJOLRFjQfn/WE80Fo2U99JunVEfFAvYLWVB1Gl/pfNxHs+Pg1h7bIOnN05zbw8HnNuMRcZR/fG4z\n",
       "4Nz2Nua2iythY2rozvU0FrC2BgPvN7IjjluDq3Jcyp51i2kfV9CjJ9dVN0x7ZtB7jvLiIDHd85Bs\n",
       "WZvunsOad6ymFEPGQAlhfOU+yYX+592kmtG9sDvoXihU1gU2lg2qqRfemBGxNkxpXvhit+DM8B4d\n",
       "/0/36Pue2A78QnhoFeeKYZ4mf4X1t+FzsPAnHu8jgm4VrZ0AnLQAAAAASUVORK5CYII=\n",
       "\" style=\"display:inline;vertical-align:middle;\" /></a></span></td></tr>\n",
       "<tr><td>&nbsp;</td><td colspan=4 style-\"text-align:left\"><a class=\"ProveItLink\" href=\"../../../../addition/_theory_nbs_/proofs/weak_bound_by_left_term/thm_proof.ipynb\">proveit.numbers.addition.weak_bound_by_left_term</a></td></tr><tr><td><a name=\"0x7267a0d96afdcb9f_step6\">6</a></td><td>instantiation</td><td><a href=\"#0x7267a0d96afdcb9f_step10\">10</a>, <a href=\"#0x7267a0d96afdcb9f_step14\">14</a></td><td><span style=\"font-size:20px;\"><a class=\"ProveItLink\" href=\"../../../__pv_it/axioms/f399694c94d63fe522f8e05f5163f6a5a160a5b80/expr.ipynb\"><img src=\"data:image/png;base64,iVBORw0KGgoAAAANSUhEUgAAADQAAAAPBAMAAABZ6/G2AAAAMFBMVEX///8QEBBmZmaqqqrMzMxE\n",
       "REQyMjIiIiKYmJh2dna6urrc3NxUVFSIiIju7u4AAAA6P00QAAAAAXRSTlMAQObYZgAAAMRJREFU\n",
       "GNNjYMAAHIWh3xIjGLACNr4DLBFxWKVYuScwBOxBEWotL0+ASWmzIcu43kPSpc0KZLy9s+vmBSDN\n",
       "l4ds4IE1QJEJHLXsIHN4NiBJMRcBFXI+4PzHBRJlRXKGeHkyyBwG1gCwgGMaEECdMUsB4nb+C2Bq\n",
       "K7LjtVzBLH8HMMWILMX6Aqie+cF9Bt4HQAGmC0hSLAdUGBjWG8Qz7ACLFCMFFMNkHgeGN3ffajSA\n",
       "Rd5EPYAHrwNr2Gfk4FgZDgkoKAAAelg1omM6Y4wAAAAASUVORK5CYII=\n",
       "\" style=\"display:inline;vertical-align:middle;\" /></a> <a class=\"ProveItLink\" href=\"../../../__pv_it/_proof_real_minus_floor_lower_bound/2dd84033bb44258b3ab60d00be399b5242e1db950/proof.ipynb\" style=\"text-decoration: none\">&nbsp;&#x22A2;&nbsp;&nbsp;</a><a class=\"ProveItLink\" href=\"../../../__pv_it/_proof_real_minus_floor_lower_bound/5d0f28ab65d41b6bd9ac21be40de40b8c595e92b0/expr.ipynb\"><img src=\"data:image/png;base64,iVBORw0KGgoAAAANSUhEUgAAAGUAAAAVBAMAAACtcD09AAAAMFBMVEX///9UVFTMzMx2dna6uroQ\n",
       "EBCqqqqIiIgiIiJmZmYyMjJERETu7u6YmJjc3NwAAAC+aOQFAAAAAXRSTlMAQObYZgAAAVhJREFU\n",
       "OMtjYEACPBcQ7AIGPIAPoZBPACG8gIHtAU49pxlw6GGQQ1N5I3r/qmiwDetw6jmFbvyCgwzatw8w\n",
       "MPBOwKmHGd1PGx4zcIPUcDzAqYcnAMq+3dGxAKqH8wGQ9YIBpx6GJRCmdg3CHs4HGxgYKtH08JTL\n",
       "uZtD9VhCYmANktsYWYBq9qLpOcxwo6ALqucWWJTxAZKejFnAMGhD02PDYH/AD6onAyzKjQiDpx1d\n",
       "CUA6BGj5KjBQAOs5wLAb7h99MEsVJAkNA0/uAxA9aGHwHU3Pa6Sw5nQCBgGG2xiYPsH1eIBZrMjx\n",
       "s+c6A2YY5LB/YKhBCQPOAiQ9ipwKsPCE62H5xv0BnGpBeiZDhNuQ0g5zghDMfrgeHvGayrswty2C\n",
       "CB/ccgCWRhcx7F6fgDftNEDZzjsgaQcGSEmjcLCP+LxARJ7bR0ze5onogOjiW9GxgYEXV94GAKhi\n",
       "c2zcs9UkAAAAAElFTkSuQmCC\n",
       "\" style=\"display:inline;vertical-align:middle;\" /></a></span></td></tr>\n",
       "<tr><td>&nbsp;</td><td colspan=4 style=\"text-align:left\"><span style=\"font-size:20px;\"><a class=\"ProveItLink\" href=\"../../../../../__pv_it/common/66c90e66682f107a881f2d666959f64e2e72ad750/expr.ipynb\"><img src=\"data:image/png;base64,iVBORw0KGgoAAAANSUhEUgAAAAsAAAAJBAMAAAAWSsseAAAAMFBMVEX///9UVFSqqqrMzMwiIiJE\n",
       "RESYmJgyMjK6urru7u4QEBCIiIh2dnZmZmbc3NwAAABRgo0vAAAAAXRSTlMAQObYZgAAAEdJREFU\n",
       "CNdjYOC7c3slAwND1wP2DwwMnMsYeAMYGHh/MrBsYGDgCmCYb8DAMP8Agz5QxXwFBnGmBwysG9gc\n",
       "eYAqpTc/3MEAAP4BD32xAXDqAAAAAElFTkSuQmCC\n",
       "\" style=\"display:inline;vertical-align:middle;\" /></a> : <a class=\"ProveItLink\" href=\"../../../__pv_it/axioms/1cf51720796a69540ef4f6b4e45fbe6d076c69450/expr.ipynb\"><img src=\"data:image/png;base64,iVBORw0KGgoAAAANSUhEUgAAABgAAAAVBAMAAACuxzMVAAAAMFBMVEX///9mZmaqqqrMzMxEREQy\n",
       "MjJ2dna6urqIiIgiIiIQEBBUVFTc3NyYmJju7u4AAABISk2iAAAAAXRSTlMAQObYZgAAAFhJREFU\n",
       "GNNjeMsABxwMpxEcVupwXnQfb2uAcvgSeGdwBkA5bA/Y/rEfgMkwsDggGcDfgMSxN4BzmB70M3A8\n",
       "gHLqFfwZzsJkXne8kL1AtkNfzZwNYR6dOQUAY4ckfyl8US4AAAAASUVORK5CYII=\n",
       "\" style=\"display:inline;vertical-align:middle;\" /></a></span></td></tr><tr><td><a name=\"0x7267a0d96afdcb9f_step7\">7</a></td><td>instantiation</td><td><a href=\"#0x7267a0d96afdcb9f_step11\">11</a>, <a href=\"#0x7267a0d96afdcb9f_step16\">16</a></td><td><span style=\"font-size:20px;\"><a class=\"ProveItLink\" href=\"../../../__pv_it/axioms/f399694c94d63fe522f8e05f5163f6a5a160a5b80/expr.ipynb\"><img src=\"data:image/png;base64,iVBORw0KGgoAAAANSUhEUgAAADQAAAAPBAMAAABZ6/G2AAAAMFBMVEX///8QEBBmZmaqqqrMzMxE\n",
       "REQyMjIiIiKYmJh2dna6urrc3NxUVFSIiIju7u4AAAA6P00QAAAAAXRSTlMAQObYZgAAAMRJREFU\n",
       "GNNjYMAAHIWh3xIjGLACNr4DLBFxWKVYuScwBOxBEWotL0+ASWmzIcu43kPSpc0KZLy9s+vmBSDN\n",
       "l4ds4IE1QJEJHLXsIHN4NiBJMRcBFXI+4PzHBRJlRXKGeHkyyBwG1gCwgGMaEECdMUsB4nb+C2Bq\n",
       "K7LjtVzBLH8HMMWILMX6Aqie+cF9Bt4HQAGmC0hSLAdUGBjWG8Qz7ACLFCMFFMNkHgeGN3ffajSA\n",
       "Rd5EPYAHrwNr2Gfk4FgZDgkoKAAAelg1omM6Y4wAAAAASUVORK5CYII=\n",
       "\" style=\"display:inline;vertical-align:middle;\" /></a> <a class=\"ProveItLink\" href=\"../../../__pv_it/_proof_real_minus_floor_lower_bound/26c6a95d892e168282324627ec446014cf0f87180/proof.ipynb\" style=\"text-decoration: none\">&nbsp;&#x22A2;&nbsp;&nbsp;</a><a class=\"ProveItLink\" href=\"../../../__pv_it/axioms/ddd663a4550d6e38a44617ad71de0758844735ab0/expr.ipynb\"><img src=\"data:image/png;base64,iVBORw0KGgoAAAANSUhEUgAAAEIAAAAVBAMAAAAA8SWUAAAAMFBMVEX///9mZmaqqqrMzMxEREQy\n",
       "MjJ2dna6urqIiIgiIiIQEBBUVFTc3NyYmJju7u4AAABISk2iAAAAAXRSTlMAQObYZgAAANVJREFU\n",
       "KM9jeMsABxwMWMFpBJOVuio4JhNQ8WwGATMOziVgy+kgDHe86D7e1gBXYRIOk+Pr2FORAVLBl8A7\n",
       "gzMApoLFGeEchpsNU0Eq2B6w/WM/AFPBMeMBTEUeQ/6DGrAZDCwOSO7gnQZT8oDBBeZS/gZklzIF\n",
       "HoCZ8gOmwt4Axbfs0QYQBvNniAqmB/0MHA+QQ4zZpQBE6XF8YOgDqahX8Gc4ixrqPJtBRn1i+cBz\n",
       "AaTidccL2QtYYo5vR1/jXRrF/tOZIDCZFDNezZwNYRydOQWrAgCEeEX45zpkjAAAAABJRU5ErkJg\n",
       "gg==\n",
       "\" style=\"display:inline;vertical-align:middle;\" /></a></span></td></tr>\n",
       "<tr><td>&nbsp;</td><td colspan=4 style=\"text-align:left\"><span style=\"font-size:20px;\"><a class=\"ProveItLink\" href=\"../../../../../__pv_it/common/a2581dc5df71d9a30bad37de14965fa5fec97a240/expr.ipynb\"><img src=\"data:image/png;base64,iVBORw0KGgoAAAANSUhEUgAAAAsAAAAJBAMAAAAWSsseAAAALVBMVEX///9mZmaqqqrMzMxEREQy\n",
       "MjIiIiKYmJh2dna6urrc3NxUVFSIiIju7u4AAACJHQtQAAAAAXRSTlMAQObYZgAAAEJJREFUCNdj\n",
       "YLhzeuWJAwy8Dew5bAEMHBc43nIuYOBlYHFgAAG+A2DKzgBIMF04x8BzgWGegh/DcgaG22fuiBcw\n",
       "AAATyhBrnyPYZQAAAABJRU5ErkJggg==\n",
       "\" style=\"display:inline;vertical-align:middle;\" /></a> : <a class=\"ProveItLink\" href=\"../../../../../__pv_it/common/a2581dc5df71d9a30bad37de14965fa5fec97a240/expr.ipynb\"><img src=\"data:image/png;base64,iVBORw0KGgoAAAANSUhEUgAAAAsAAAAJBAMAAAAWSsseAAAALVBMVEX///9mZmaqqqrMzMxEREQy\n",
       "MjIiIiKYmJh2dna6urrc3NxUVFSIiIju7u4AAACJHQtQAAAAAXRSTlMAQObYZgAAAEJJREFUCNdj\n",
       "YLhzeuWJAwy8Dew5bAEMHBc43nIuYOBlYHFgAAG+A2DKzgBIMF04x8BzgWGegh/DcgaG22fuiBcw\n",
       "AAATyhBrnyPYZQAAAABJRU5ErkJggg==\n",
       "\" style=\"display:inline;vertical-align:middle;\" /></a></span></td></tr><tr><td><a name=\"0x7267a0d96afdcb9f_step8\">8</a></td><td>conjecture</td><td></td><td><span style=\"font-size:20px;\"> <a class=\"ProveItLink\" href=\"../../../../addition/subtraction/_theory_nbs_/proofs/add_cancel_basic/thm_proof.ipynb\" style=\"text-decoration: none\">&nbsp;&#x22A2;&nbsp;&nbsp;</a><a class=\"ProveItLink\" href=\"../../../../addition/subtraction/__pv_it/theorems/c17cc7d3e1c9a214107f6b996285d8bcbd6b2f0e0/expr.ipynb\"><img src=\"data:image/png;base64,iVBORw0KGgoAAAANSUhEUgAAAKkAAAAUBAMAAAAErwC3AAAAMFBMVEX///8QEBCIiIhmZma6urrM\n",
       "zMxUVFQiIiJERETc3Nzu7u6qqqp2dnaYmJgyMjIAAAAcRTyBAAAAAXRSTlMAQObYZgAAAg5JREFU\n",
       "OMuVlU9oE0EUxr9kkybZ7K6X9lIQFlp7LnpVUER6Kt1L1VskKL1JLgqih57KBhX21BbqYbWHllCa\n",
       "peKhUkiINwsl3mxRDEgFRUqhUKR4cP41daYz2jz4YOY3eZOZ9+a9Bf5lhTaX3tbNuEMHnw1+y0J6\n",
       "64tOodangOFNOvlh8PsupDe7oxIvsR8xPE8vOq13c0e5TNZSwQdgi2EvBpxE75WLuEz2UgUzQCOm\n",
       "2H1fq80ZvOaETOZdVcAhMJEw/CsMnxi8hoQKly8OKo+DEUeJjn1AdvUZvgdUDbs+F7oWefvyCicu\n",
       "S9fWHrWv9L9+AyWf4etKLovPpspi+JjLPg9LzqcgxYpyA3LWUpPhHNLH79zeuNS2b8fZn2Lez2Ud\n",
       "IeeT4So71C66JLuvjQDFTjt3TD+u1+C+ADbkXVPTqAeSuyDqrjRbjYThQucmmS+O7CJDg3/jDUFy\n",
       "BOpNNGRvQTKVk7h+o8MQ+BJzXL1Lzv4gewSPLuxsn8pWPcH9ovRsBXE72ipg+DXZ2hrNVrBIF97+\n",
       "1TPeceV996EjeQtiNdWySewBgc+RuKeS9B3cCsPQX5g8+dEYl12+MDssp4UTL1A7Q2skENglNVuP\n",
       "8jtxH12wXpHFM1bs0n9wKiqNwwlY1QTdrtFzd1Fwprx2BXhKhyt7M92LVWEuPF0n1OI0iWsPXTsf\n",
       "9YLP+oXZNuI/ZkOnQq8dVUsAAAAASUVORK5CYII=\n",
       "\" style=\"display:inline;vertical-align:middle;\" /></a></span></td></tr>\n",
       "<tr><td>&nbsp;</td><td colspan=4 style-\"text-align:left\"><a class=\"ProveItLink\" href=\"../../../../addition/subtraction/_theory_nbs_/proofs/add_cancel_basic/thm_proof.ipynb\">proveit.numbers.addition.subtraction.add_cancel_basic</a></td></tr><tr><td><a name=\"0x7267a0d96afdcb9f_step9\">9</a></td><td>instantiation</td><td><a href=\"#0x7267a0d96afdcb9f_step12\">12</a>, <a href=\"#0x7267a0d96afdcb9f_step13\">13</a>, <a href=\"#0x7267a0d96afdcb9f_step14\">14</a></td><td><span style=\"font-size:20px;\"><a class=\"ProveItLink\" href=\"../../../__pv_it/axioms/f399694c94d63fe522f8e05f5163f6a5a160a5b80/expr.ipynb\"><img src=\"data:image/png;base64,iVBORw0KGgoAAAANSUhEUgAAADQAAAAPBAMAAABZ6/G2AAAAMFBMVEX///8QEBBmZmaqqqrMzMxE\n",
       "REQyMjIiIiKYmJh2dna6urrc3NxUVFSIiIju7u4AAAA6P00QAAAAAXRSTlMAQObYZgAAAMRJREFU\n",
       "GNNjYMAAHIWh3xIjGLACNr4DLBFxWKVYuScwBOxBEWotL0+ASWmzIcu43kPSpc0KZLy9s+vmBSDN\n",
       "l4ds4IE1QJEJHLXsIHN4NiBJMRcBFXI+4PzHBRJlRXKGeHkyyBwG1gCwgGMaEECdMUsB4nb+C2Bq\n",
       "K7LjtVzBLH8HMMWILMX6Aqie+cF9Bt4HQAGmC0hSLAdUGBjWG8Qz7ACLFCMFFMNkHgeGN3ffajSA\n",
       "Rd5EPYAHrwNr2Gfk4FgZDgkoKAAAelg1omM6Y4wAAAAASUVORK5CYII=\n",
       "\" style=\"display:inline;vertical-align:middle;\" /></a> <a class=\"ProveItLink\" href=\"../../../__pv_it/_proof_real_minus_floor_lower_bound/fa5987ef4ac0c483aa4c1d8298f90d563adc78800/proof.ipynb\" style=\"text-decoration: none\">&nbsp;&#x22A2;&nbsp;&nbsp;</a><a class=\"ProveItLink\" href=\"../../../__pv_it/_proof_real_minus_floor_lower_bound/60ea779e64cd413d3eee78bd3f36ac1da0039e500/expr.ipynb\"><img src=\"data:image/png;base64,iVBORw0KGgoAAAANSUhEUgAAAEQAAAAVBAMAAAAN71XTAAAAMFBMVEX///9mZmaqqqrMzMxEREQy\n",
       "MjJ2dna6urqIiIgiIiIQEBBUVFTc3NyYmJju7u4AAABISk2iAAAAAXRSTlMAQObYZgAAAPNJREFU\n",
       "KM9jeMsABxwM2MFpBJOVHCWtU39NEcCrxPgTw8O/eJXwcjcwMNzHquTKzJkBIPoy1wMGBm5sSkz6\n",
       "oHyBI0CCrwGs5EX38bYGmBK+OKgKvg2GcB/xJfDO4AyAKeE+AFXCk1ABV8L2gO0f+wGYEhaYvTwC\n",
       "CCV8DCwOCLdYhQIByLl8DmZIQcffgFByBO78OG4kJfYGCCVccCUXwUoegJQwPehn4HgAU8LYAFPC\n",
       "0g5ksgeAlNQr+DOcRYTLJLgxom4PHrmATXnd8UL2AkLJa/cHUCXMousnGmCN6TJPSARQK70QreTV\n",
       "zNkQxtGZU7CrAAC5p0YShxRvrgAAAABJRU5ErkJggg==\n",
       "\" style=\"display:inline;vertical-align:middle;\" /></a></span></td></tr>\n",
       "<tr><td>&nbsp;</td><td colspan=4 style=\"text-align:left\"><span style=\"font-size:20px;\"><a class=\"ProveItLink\" href=\"../../../../../__pv_it/common/e4aad701f7f5516d8e7f0d805d518bf02c13322a0/expr.ipynb\"><img src=\"data:image/png;base64,iVBORw0KGgoAAAANSUhEUgAAAA8AAAAOBAMAAAACpFvcAAAALVBMVEX///8iIiIQEBBERERUVFS6\n",
       "urqIiIjc3NxmZmaqqqru7u6YmJgyMjLMzMwAAACK9jtgAAAAAXRSTlMAQObYZgAAAFtJREFUCNdj\n",
       "YACBOwxQcA5Kc59bAGGs7CuAMDbkBYBp1gXzNoAZSxnuJYAZAQx1DSCa16PDzwCshIGB6QCIMYGB\n",
       "gVEBSLMDGTwPgIxCIGZ+zsCw+N0pBk67hw0AfpEVEQi8t+wAAAAASUVORK5CYII=\n",
       "\" style=\"display:inline;vertical-align:middle;\" /></a> : <a class=\"ProveItLink\" href=\"../../../../number_sets/real_numbers/__pv_it/common/3eaf53c11933bb30b35e82c24807c695de530cf10/expr.ipynb\"><img src=\"data:image/png;base64,iVBORw0KGgoAAAANSUhEUgAAAA8AAAAOBAMAAAACpFvcAAAAMFBMVEX///+IiIiqqqq6urpmZmZ2\n",
       "dnbc3NzMzMxUVFTu7u4yMjJEREQQEBAiIiKYmJgAAACIyPRpAAAAAXRSTlMAQObYZgAAAFlJREFU\n",
       "CNdjeHt6/6rTDxiAYMEMhurXE4CMDakM3GwNEAZLwgIYYwOEwcEMldL1AivOuXtLgQEsYsI9AcJg\n",
       "Md8AYTDsfAhlVLAUQKxgVWhnYABaupxh93oFAP7MI7KHKGXxAAAAAElFTkSuQmCC\n",
       "\" style=\"display:inline;vertical-align:middle;\" /></a>, <a class=\"ProveItLink\" href=\"../../../../../__pv_it/common/4eca3b30dcf58a58494e201d1b7886d8643a617b0/expr.ipynb\"><img src=\"data:image/png;base64,iVBORw0KGgoAAAANSUhEUgAAABAAAAAOBAMAAADUAYG5AAAALVBMVEX///8yMjKqqqoiIiLu7u7c\n",
       "3NyIiIjMzMwQEBC6urpERERmZmZUVFSYmJgAAACsPVCVAAAAAXRSTlMAQObYZgAAAGxJREFUCNdj\n",
       "YGC48+70nlUTGICgi4GB+zmQZn/LwMD5Gshge8rAwPsMyOBqYGDwMAEy+A4wsNs4ABl1Z68tVgBp\n",
       "ygtgYOkBMVaAOCChNyBGAsQYhnMTIMawvwJyGIHGzFjCwMAj92b3qUUMDAAXABxvZ4rl5AAAAABJ\n",
       "RU5ErkJggg==\n",
       "\" style=\"display:inline;vertical-align:middle;\" /></a> : <a class=\"ProveItLink\" href=\"../../../../number_sets/complex_numbers/__pv_it/common/fbfabc61f6f66350b130e5a55a72b80825c065f90/expr.ipynb\"><img src=\"data:image/png;base64,iVBORw0KGgoAAAANSUhEUgAAAA8AAAAOBAMAAAACpFvcAAAAMFBMVEX///+6urp2dnbc3NxUVFSY\n",
       "mJju7u6qqqrMzMxmZmZEREQQEBAiIiIyMjKIiIgAAAAjslSOAAAAAXRSTlMAQObYZgAAAGNJREFU\n",
       "CNdjYGDgu3N/z0oGBgaO/gK2+ZFARoAfAwPrTyBu2AbkeTIwcDIvADLyGBhSOCYwgIER4wMIwxLG\n",
       "yOJQgDB4ExwgDNYJIAYbEK+TAxKyQMx5S42tahlIsvP2nxkMDABpcxTBm+Hj2gAAAABJRU5ErkJg\n",
       "gg==\n",
       "\" style=\"display:inline;vertical-align:middle;\" /></a>, <a class=\"ProveItLink\" href=\"../../../../../__pv_it/common/a2581dc5df71d9a30bad37de14965fa5fec97a240/expr.ipynb\"><img src=\"data:image/png;base64,iVBORw0KGgoAAAANSUhEUgAAAAsAAAAJBAMAAAAWSsseAAAALVBMVEX///9mZmaqqqrMzMxEREQy\n",
       "MjIiIiKYmJh2dna6urrc3NxUVFSIiIju7u4AAACJHQtQAAAAAXRSTlMAQObYZgAAAEJJREFUCNdj\n",
       "YLhzeuWJAwy8Dew5bAEMHBc43nIuYOBlYHFgAAG+A2DKzgBIMF04x8BzgWGegh/DcgaG22fuiBcw\n",
       "AAATyhBrnyPYZQAAAABJRU5ErkJggg==\n",
       "\" style=\"display:inline;vertical-align:middle;\" /></a> : <a class=\"ProveItLink\" href=\"../../../__pv_it/axioms/1cf51720796a69540ef4f6b4e45fbe6d076c69450/expr.ipynb\"><img src=\"data:image/png;base64,iVBORw0KGgoAAAANSUhEUgAAABgAAAAVBAMAAACuxzMVAAAAMFBMVEX///9mZmaqqqrMzMxEREQy\n",
       "MjJ2dna6urqIiIgiIiIQEBBUVFTc3NyYmJju7u4AAABISk2iAAAAAXRSTlMAQObYZgAAAFhJREFU\n",
       "GNNjeMsABxwMpxEcVupwXnQfb2uAcvgSeGdwBkA5bA/Y/rEfgMkwsDggGcDfgMSxN4BzmB70M3A8\n",
       "gHLqFfwZzsJkXne8kL1AtkNfzZwNYR6dOQUAY4ckfyl8US4AAAAASUVORK5CYII=\n",
       "\" style=\"display:inline;vertical-align:middle;\" /></a></span></td></tr><tr><td><a name=\"0x7267a0d96afdcb9f_step10\">10</a></td><td>conjecture</td><td></td><td><span style=\"font-size:20px;\"> <a class=\"ProveItLink\" href=\"../../../../negation/_theory_nbs_/proofs/real_closure/thm_proof.ipynb\" style=\"text-decoration: none\">&nbsp;&#x22A2;&nbsp;&nbsp;</a><a class=\"ProveItLink\" href=\"../../../../negation/__pv_it/theorems/654f2544c1a28dda01f1928791b77252d99b88d40/expr.ipynb\"><img src=\"data:image/png;base64,iVBORw0KGgoAAAANSUhEUgAAAJcAAAAUBAMAAABylbI8AAAAMFBMVEX///8QEBCIiIhmZma6urrM\n",
       "zMxUVFQiIiJERETc3Nzu7u6qqqp2dnaYmJgyMjIAAAAcRTyBAAAAAXRSTlMAQObYZgAAAjBJREFU\n",
       "OMtjYMAHOC9AMDLYiUMtSPwBiHEXh4IVUIwM2Cag8q9L9L+TuAARPw0SeIXDsJdQjAy4HqAJPFjG\n",
       "EHFjAVh8Bsg3DdjN4jWAYFRwCI3fMIeBgzMBLM63gIGBZwN2w9gnQDAqWAilb5SXP4AaxjzhAVic\n",
       "99SqVdNx+HI6FKMCPgcwFaGFcBnzhAaI+I+OjhochilDMTxybYykgP4Ae5zrFZI32VgSIOKpDAyd\n",
       "OAzrhWIYcJzA9wHolweokQo0bLvdAoi4M2r8bNdIfgRjV0MxLB5lGZiB3uEuAHE4EBEwsbwOFOgg\n",
       "cXYGJliy5NpjfIGJh+GUApQvAsFc78AggPkXAztQivUDSC4QJASNAGcOoMPA4jwX2GF23Ni5igFo\n",
       "2K0LqIbBAGMDw/oAmGEzkJIGs2sD1DDOB2FA1mK1pwwsoJAFGXYAuzfXH2DYD6RYwN5kRE5nXZdg\n",
       "4p0pQJ+Usv5i4GOAGGZsgD0C1m9gyOOeAI0AZgUkw8KYA6ARsxloIrMBawHDYrBhzGklMGWHoRgK\n",
       "OBR4y3iAag/AnQ3LTjwbUqHi/EA7GDcwJTCEd3R0KDDxTLoCU+YOxbD4SVKdpgJMnAFg3rKWBbCM\n",
       "/pSh4/0GiDgvUHD9BI5bC9gg3uSOWYA3Oy2H0j7t5Q+wiTMwToj3ZeAJgITZqQMkZXQMcZakTbYM\n",
       "DN2gRHvuwGI7mHAnA2b2wCiCcIgzAcOMYOHIMQG7YbjE8RbbN3GoBYoDAA7/qZPzga4CAAAAAElF\n",
       "TkSuQmCC\n",
       "\" style=\"display:inline;vertical-align:middle;\" /></a></span></td></tr>\n",
       "<tr><td>&nbsp;</td><td colspan=4 style-\"text-align:left\"><a class=\"ProveItLink\" href=\"../../../../negation/_theory_nbs_/proofs/real_closure/thm_proof.ipynb\">proveit.numbers.negation.real_closure</a></td></tr><tr><td><a name=\"0x7267a0d96afdcb9f_step11\">11</a></td><td>axiom</td><td></td><td><span style=\"font-size:20px;\"> <a class=\"ProveItLink\" href=\"../../axioms.ipynb#floor_of_x_less_eq_x\" style=\"text-decoration: none\">&nbsp;&#x22A2;&nbsp;&nbsp;</a><a class=\"ProveItLink\" href=\"../../../__pv_it/axioms/6555879a174af34d121afebde4c353aa76fa1f0c0/expr.ipynb\"><img src=\"data:image/png;base64,iVBORw0KGgoAAAANSUhEUgAAAIoAAAAVBAMAAABrmWvBAAAAMFBMVEX///8QEBCIiIhmZma6urrM\n",
       "zMxUVFQiIiJERETc3Nzu7u6qqqp2dnaYmJgyMjIAAAAcRTyBAAAAAXRSTlMAQObYZgAAAgxJREFU\n",
       "OMtjYCAAuC4g2AoMZAHOCwycCQjuA6yKuCdAZe7iMGUFAxGmMGQyMJwG0a9wmPISpynqAQj2OgaG\n",
       "GSCHN2A3hNcAhylcx5GDiEeBgW8BkNqA3RT2CdhN4TS/gBIBAgy8p1atmo7DQyBxLKZw5qHZ+oSB\n",
       "4UdHRw0OU5ShpnApZTodgpvC2ucAU7BIbYoO0G+HGRhSGRg6cZjSCzVlDcN1hTq4KR3wgOU6wFvE\n",
       "DhS8x8DgzMCFHIPbNZIfwdjVUFNOMZxf4Ak3RV0LHqwLeH6xAMNuOzAIGZhgYcW1x/gCEw/DKVgE\n",
       "iEBNWcDQgRwu10/B1DNwgGM3HmjgBXaY2Td2rmIAmnLrApopDAyfUOJonyVMB78C1BTOB2FAxiFT\n",
       "tQAWYPIAm3IAzUcMrF9R04tfKpQRDw4jdyDuTAHqXZDH7sDHADHF2AAtdHcxfWDQQkm7ES3gHLRA\n",
       "H6gTHLoMmwuAljG8ZWBYDDaFOa0EpvYwxBSW3xwfOC+g5oBpIEf4b+hnmAukbeB++8nAEN7R0aHA\n",
       "xDPpCkypO8QUriQt5bvYcuMypUW2INOfgnLLApDPP7AysEF8xB2zgEAOQC+CCqCM+TwPeBh4AiDh\n",
       "cuoAodyICnhgKWPZlUPARNANSnXnDiy2g8l3YjGF63k5CKCWDMiACRguZJRSnYRLTC7xcog5nM/L\n",
       "sRdDvBMYAEqLkjiuXC+sAAAAAElFTkSuQmCC\n",
       "\" style=\"display:inline;vertical-align:middle;\" /></a></span></td></tr>\n",
       "<tr><td>&nbsp;</td><td colspan=4 style-\"text-align:left\"><a class=\"ProveItLink\" href=\"../../axioms.ipynb#floor_of_x_less_eq_x\">proveit.numbers.rounding.floor_of_x_less_eq_x</a></td></tr><tr><td><a name=\"0x7267a0d96afdcb9f_step12\">12</a></td><td>theorem</td><td></td><td><span style=\"font-size:20px;\"> <a class=\"ProveItLink\" href=\"../../../../../logic/sets/inclusion/_theory_nbs_/proofs/superset_membership_from_proper_subset/thm_proof.ipynb\" style=\"text-decoration: none\">&nbsp;&#x22A2;&nbsp;&nbsp;</a><a class=\"ProveItLink\" href=\"../../../../../logic/sets/inclusion/__pv_it/theorems/2bd5812116805831135f1a949ae0e425f21169040/expr.ipynb\"><img src=\"data:image/png;base64,iVBORw0KGgoAAAANSUhEUgAAAPcAAAAWBAMAAADuuhdHAAAAMFBMVEX///8QEBCIiIhmZma6urrM\n",
       "zMxUVFQiIiJERETc3Nzu7u6qqqp2dnaYmJgyMjIAAAAcRTyBAAAAAXRSTlMAQObYZgAAA4ZJREFU\n",
       "SMe1lktoE1EUhn+TmTQzTdquRNBFsAul+AgEKoqPqBuVitGFuDP4gAqKQcX3o0qx0yo0brQI2hHB\n",
       "RxQNuNKNsSJK6yMq+BYHXBS60NJarZWi9547mblNk2Ij3kXm3nvOPd+Zc885E6DE4fkSG1vh3FjC\n",
       "20CwOwqLzz+OHx6IVvBHMFtErjcU3H71e2OtEYUvyS2gi2/1lAIPpNmjwiwir0gW3p8EeAegWwRv\n",
       "YxtaQylwOtVWTP6y8LY6DCj9QAfBuev0DuOGU7y6isn3jVi92bPHEqnyk11VH3CBLAQ7U6kzKAn+\n",
       "IZW6migi1kYI1tXkZv4qBt7PbiXKLWDQMA6WBq80jKZMsWIIs5ybumVJByWfm1OVcai7ebDDBN8M\n",
       "NNO++F3Wf7+eckVxnHVSR2mdX9vswn0xSZan62dVcB2vQ4f5wudqrd/2oolfctAi+FJKPbb8RtJg\n",
       "FQJVdDyn/ynqHH0O3HPhShg38l7Y0S1jhE48M5ePMAXMTkKfyJ7lCYKXwUO1enGYpN44yofkE/oi\n",
       "JlarIxE2rwXumg4cCczMGb12f0FOl8YEJjZhiMXqL2yIhDvKHWCOqb1kIZAto+3OncLlELyWDA9c\n",
       "DkPfuiKVYvMdwEL3zfEEubQKnjhr2rouHOgTC6kev3N4yIFr1loqwJBw82YMs0wZvsbfwG+XgjAA\n",
       "T48EP6/G2aR6zWZ2d46uG3aoA7YnI8oc29lRRYQdzZsoKTCHxKtmTo9Dhse9CdTZCdf34riU7fCf\n",
       "Zj81PmuXaNJC1024O55eUI15Q04RsDJXB92Ewy068B6zSfwUmCbDg2lm4oENtOBJSPBy7m+sIgs9\n",
       "7Ora4jCUX/5eTeTAAafpslxe3ML9yQh4JfdL//y4laJ9EmhPS/Ab8x8NYa79OhlovyS4uNPKJNS9\n",
       "hnHM1rWDlIC+oaba/mJdahRp6vv6PVJ/gryICQtBLvCaaKeLZcZXJSX4PGgDLCyiQ6Sh/JTh76h0\n",
       "EUPc1S3YXuua7PaaG5dtCzRWMtNZrQXaELQpUtgVFrdhXBFK7SZOZWQ476O9T5ER9yJ0x/6w5EaH\n",
       "BPcPQms9pE7Gw/5IfVSCtzag7UdWob4WOBKpbUQeXN9WN8OEP+3ojuqLBb/2lvzmYpTLnVIWXDIM\n",
       "Y1Rvl8d0fud/8WdCci0ffrsYvMCX4/C//I16ywx058Gzfw//v8P7/xF/AAdz9RArGsNxAAAAAElF\n",
       "TkSuQmCC\n",
       "\" style=\"display:inline;vertical-align:middle;\" /></a></span></td></tr>\n",
       "<tr><td>&nbsp;</td><td colspan=4 style-\"text-align:left\"><a class=\"ProveItLink\" href=\"../../../../../logic/sets/inclusion/_theory_nbs_/proofs/superset_membership_from_proper_subset/thm_proof.ipynb\">proveit.logic.sets.inclusion.superset_membership_from_proper_subset</a></td></tr><tr><td><a name=\"0x7267a0d96afdcb9f_step13\">13</a></td><td>conjecture</td><td></td><td><span style=\"font-size:20px;\"> <a class=\"ProveItLink\" href=\"../../../../number_sets/complex_numbers/_theory_nbs_/proofs/real_within_complex/thm_proof.ipynb\" style=\"text-decoration: none\">&nbsp;&#x22A2;&nbsp;&nbsp;</a><a class=\"ProveItLink\" href=\"../../../../number_sets/complex_numbers/__pv_it/theorems/386e88cbf0fbcb095235f30f44b7c344a8a5a9bc0/expr.ipynb\"><img src=\"data:image/png;base64,iVBORw0KGgoAAAANSUhEUgAAADoAAAAPBAMAAABHIsEFAAAAMFBMVEX///+IiIiqqqq6urpmZmZ2\n",
       "dnbc3NzMzMxUVFTu7u4yMjJEREQQEBAiIiKYmJgAAACIyPRpAAAAAXRSTlMAQObYZgAAAONJREFU\n",
       "GNNjeHt6/6rTDxgwgNStP7cdGBgWzGCofj0BXbL8E8OUf0DZDakM3GwNaJJ8HAIMDO8hsiwJCyCC\n",
       "r+/evXsdxHjOAzSNAya7ASyZFQbT65ANJDgFwLIczBCTr8EkORtKoCygrK4X2FUsCjBZtgBDmGzO\n",
       "3VsQYV64o9gc4LKpJtwQD2XAZTk3lMJlWcwhjpqN8NFKDoS9Ox+imczwBCw7ASxbwVIA4rAKwGW5\n",
       "hYFs5gXgkGRVaAeLLUJo9to6YdLuCQzAWFjOsHs92NUzmuHhze51/koBWvCW7oWGJBQAAGgURyiB\n",
       "GqKtAAAAAElFTkSuQmCC\n",
       "\" style=\"display:inline;vertical-align:middle;\" /></a></span></td></tr>\n",
       "<tr><td>&nbsp;</td><td colspan=4 style-\"text-align:left\"><a class=\"ProveItLink\" href=\"../../../../number_sets/complex_numbers/_theory_nbs_/proofs/real_within_complex/thm_proof.ipynb\">proveit.numbers.number_sets.complex_numbers.real_within_complex</a></td></tr><tr><td><a name=\"0x7267a0d96afdcb9f_step14\">14</a></td><td>instantiation</td><td><a href=\"#0x7267a0d96afdcb9f_step15\">15</a>, <a href=\"#0x7267a0d96afdcb9f_step16\">16</a></td><td><span style=\"font-size:20px;\"><a class=\"ProveItLink\" href=\"../../../__pv_it/axioms/f399694c94d63fe522f8e05f5163f6a5a160a5b80/expr.ipynb\"><img src=\"data:image/png;base64,iVBORw0KGgoAAAANSUhEUgAAADQAAAAPBAMAAABZ6/G2AAAAMFBMVEX///8QEBBmZmaqqqrMzMxE\n",
       "REQyMjIiIiKYmJh2dna6urrc3NxUVFSIiIju7u4AAAA6P00QAAAAAXRSTlMAQObYZgAAAMRJREFU\n",
       "GNNjYMAAHIWh3xIjGLACNr4DLBFxWKVYuScwBOxBEWotL0+ASWmzIcu43kPSpc0KZLy9s+vmBSDN\n",
       "l4ds4IE1QJEJHLXsIHN4NiBJMRcBFXI+4PzHBRJlRXKGeHkyyBwG1gCwgGMaEECdMUsB4nb+C2Bq\n",
       "K7LjtVzBLH8HMMWILMX6Aqie+cF9Bt4HQAGmC0hSLAdUGBjWG8Qz7ACLFCMFFMNkHgeGN3ffajSA\n",
       "Rd5EPYAHrwNr2Gfk4FgZDgkoKAAAelg1omM6Y4wAAAAASUVORK5CYII=\n",
       "\" style=\"display:inline;vertical-align:middle;\" /></a> <a class=\"ProveItLink\" href=\"../../../__pv_it/_proof_real_minus_floor_lower_bound/560469b4baf89364a8ac79a07c50ad2810a4d3970/proof.ipynb\" style=\"text-decoration: none\">&nbsp;&#x22A2;&nbsp;&nbsp;</a><a class=\"ProveItLink\" href=\"../../../__pv_it/theorems/4fe085427c8befcf25477e8c331e4761e400814d0/expr.ipynb\"><img src=\"data:image/png;base64,iVBORw0KGgoAAAANSUhEUgAAAEQAAAAVBAMAAAAN71XTAAAAMFBMVEX///9mZmaqqqrMzMxEREQy\n",
       "MjJ2dna6urqIiIgiIiIQEBBUVFTc3NyYmJju7u4AAABISk2iAAAAAXRSTlMAQObYZgAAAOlJREFU\n",
       "KM9jeMsABxwM2MFpBJOVZCW8s1y+RvniN4WVbwOzrx9eJSw8CQwOp7EquTJzZgBMiQwrNiUmfUim\n",
       "yLBAlLzoPt7WAFPCF4ds0YZqsBK+BN4ZnAEwJdwHkJQwTYwDK2F7wPaP/QBMCQuSc1fODIJ4mo+B\n",
       "xQHhFqtQIIA6N13ADxYu/A0IJUeQPS1uAlNib4BQwoWshOVtA1gJ04N+Bo4HMCWMDUhKmDcIg5XU\n",
       "K/gznEWEyySkCGBI4jYAKXnd8UL2AkLJa/cH8Gg0YHH9hC0CyjwhEUCV9EKKklczZ0MYR2dOwa4C\n",
       "ABAKRMFqHguuAAAAAElFTkSuQmCC\n",
       "\" style=\"display:inline;vertical-align:middle;\" /></a></span></td></tr>\n",
       "<tr><td>&nbsp;</td><td colspan=4 style=\"text-align:left\"><span style=\"font-size:20px;\"><a class=\"ProveItLink\" href=\"../../../../../__pv_it/common/a2581dc5df71d9a30bad37de14965fa5fec97a240/expr.ipynb\"><img src=\"data:image/png;base64,iVBORw0KGgoAAAANSUhEUgAAAAsAAAAJBAMAAAAWSsseAAAALVBMVEX///9mZmaqqqrMzMxEREQy\n",
       "MjIiIiKYmJh2dna6urrc3NxUVFSIiIju7u4AAACJHQtQAAAAAXRSTlMAQObYZgAAAEJJREFUCNdj\n",
       "YLhzeuWJAwy8Dew5bAEMHBc43nIuYOBlYHFgAAG+A2DKzgBIMF04x8BzgWGegh/DcgaG22fuiBcw\n",
       "AAATyhBrnyPYZQAAAABJRU5ErkJggg==\n",
       "\" style=\"display:inline;vertical-align:middle;\" /></a> : <a class=\"ProveItLink\" href=\"../../../../../__pv_it/common/a2581dc5df71d9a30bad37de14965fa5fec97a240/expr.ipynb\"><img src=\"data:image/png;base64,iVBORw0KGgoAAAANSUhEUgAAAAsAAAAJBAMAAAAWSsseAAAALVBMVEX///9mZmaqqqrMzMxEREQy\n",
       "MjIiIiKYmJh2dna6urrc3NxUVFSIiIju7u4AAACJHQtQAAAAAXRSTlMAQObYZgAAAEJJREFUCNdj\n",
       "YLhzeuWJAwy8Dew5bAEMHBc43nIuYOBlYHFgAAG+A2DKzgBIMF04x8BzgWGegh/DcgaG22fuiBcw\n",
       "AAATyhBrnyPYZQAAAABJRU5ErkJggg==\n",
       "\" style=\"display:inline;vertical-align:middle;\" /></a></span></td></tr><tr><td><a name=\"0x7267a0d96afdcb9f_step15\">15</a></td><td>conjecture</td><td></td><td><span style=\"font-size:20px;\"> <a class=\"ProveItLink\" href=\"../floor_of_real_is_real/thm_proof.ipynb\" style=\"text-decoration: none\">&nbsp;&#x22A2;&nbsp;&nbsp;</a><a class=\"ProveItLink\" href=\"../../../__pv_it/theorems/b94ff4c5ea20491e4f427cad2882b4da79a8f7680/expr.ipynb\"><img src=\"data:image/png;base64,iVBORw0KGgoAAAANSUhEUgAAAIsAAAAVBAMAAACEWwD/AAAAMFBMVEX///8QEBCIiIhmZma6urrM\n",
       "zMxUVFQiIiJERETc3Nzu7u6qqqp2dnaYmJgyMjIAAAAcRTyBAAAAAXRSTlMAQObYZgAAAiNJREFU\n",
       "OMudlE9IFFEcx7/Mn92dcXbrEOQpFgUJT5J0FVFC6rQn6+BB1EIv4UHYg7EMXZpVxKlLHQQnBIsl\n",
       "YqGDKB6W8SIj2BCCFgiLIGKQLUFQdOn3dubNDOvOav0u+/b33nz4fb/v93vABaG64TqL/wvFhTIa\n",
       "/q02P7XOtw5jMG/RCrPfvnjWTsUmTGCHJb7GYE5bYlBdxYMDCyrlX7Ha9eaUdE9rjL6EFNu3gYwF\n",
       "aOXmmKTZFJN+li9wjGhS8jXlnFLpZYwmlj+PkZ9aYTWiSUoy/cAvw3gSg+n0MWrH1IAdYN5bEVEJ\n",
       "ifY1Ev8QKMZgFnzMO+xnCwFmKurNWh9B07QxWHc6iLWb40d8PetjHHy07gaY8D705/kCs7VtmnyE\n",
       "wBtV3ex1BQ0O79ZrPsaCEXoj3zij8KsZTDGFco2EuUlOP1gvgTBf3AYM8CPERLpDXxLv6D5GqQ7T\n",
       "yr7dlZPIqTqm0iAK8s/ITV2NejP3iX4lEoXiBH1sPU72Z+BhensaLN4QaugOMLeimGEx51mMD8SS\n",
       "8Q1YqWPERzP82JaHkf6kaoobYJLlyDBoZbppkZV/pe7ob+C+YRhZQXuxx48NeRh1rLvzMBSlTt4L\n",
       "RvMYxvcyMjnW257ZMhKeqLYRq/UwSNv+MPB4wxfLWlWDlvO8cSqXHE0eNl+s7tkOMM/ab7ey0sfT\n",
       "xUth1Ia8QN78w7PFI2Ve/Iiq1/MeSDnJxzxLn4G/sIupWADWBUsAAAAASUVORK5CYII=\n",
       "\" style=\"display:inline;vertical-align:middle;\" /></a></span></td></tr>\n",
       "<tr><td>&nbsp;</td><td colspan=4 style-\"text-align:left\"><a class=\"ProveItLink\" href=\"../floor_of_real_is_real/thm_proof.ipynb\">proveit.numbers.rounding.floor_of_real_is_real</a></td></tr><tr><td><a name=\"0x7267a0d96afdcb9f_step16\">16</a></td><td>assumption</td><td></td><td><span style=\"font-size:20px;\"><a class=\"ProveItLink\" href=\"../../../__pv_it/axioms/f399694c94d63fe522f8e05f5163f6a5a160a5b80/expr.ipynb\"><img src=\"data:image/png;base64,iVBORw0KGgoAAAANSUhEUgAAADQAAAAPBAMAAABZ6/G2AAAAMFBMVEX///8QEBBmZmaqqqrMzMxE\n",
       "REQyMjIiIiKYmJh2dna6urrc3NxUVFSIiIju7u4AAAA6P00QAAAAAXRSTlMAQObYZgAAAMRJREFU\n",
       "GNNjYMAAHIWh3xIjGLACNr4DLBFxWKVYuScwBOxBEWotL0+ASWmzIcu43kPSpc0KZLy9s+vmBSDN\n",
       "l4ds4IE1QJEJHLXsIHN4NiBJMRcBFXI+4PzHBRJlRXKGeHkyyBwG1gCwgGMaEECdMUsB4nb+C2Bq\n",
       "K7LjtVzBLH8HMMWILMX6Aqie+cF9Bt4HQAGmC0hSLAdUGBjWG8Qz7ACLFCMFFMNkHgeGN3ffajSA\n",
       "Rd5EPYAHrwNr2Gfk4FgZDgkoKAAAelg1omM6Y4wAAAAASUVORK5CYII=\n",
       "\" style=\"display:inline;vertical-align:middle;\" /></a> <a class=\"ProveItLink\" href=\"../../../__pv_it/_proof_real_minus_floor_lower_bound/ca35d41c8fd1c61b2cff1ffd0bb23ab7772a6d220/proof.ipynb\" style=\"text-decoration: none\">&nbsp;&#x22A2;&nbsp;&nbsp;</a><a class=\"ProveItLink\" href=\"../../../__pv_it/axioms/f399694c94d63fe522f8e05f5163f6a5a160a5b80/expr.ipynb\"><img src=\"data:image/png;base64,iVBORw0KGgoAAAANSUhEUgAAADQAAAAPBAMAAABZ6/G2AAAAMFBMVEX///8QEBBmZmaqqqrMzMxE\n",
       "REQyMjIiIiKYmJh2dna6urrc3NxUVFSIiIju7u4AAAA6P00QAAAAAXRSTlMAQObYZgAAAMRJREFU\n",
       "GNNjYMAAHIWh3xIjGLACNr4DLBFxWKVYuScwBOxBEWotL0+ASWmzIcu43kPSpc0KZLy9s+vmBSDN\n",
       "l4ds4IE1QJEJHLXsIHN4NiBJMRcBFXI+4PzHBRJlRXKGeHkyyBwG1gCwgGMaEECdMUsB4nb+C2Bq\n",
       "K7LjtVzBLH8HMMWILMX6Aqie+cF9Bt4HQAGmC0hSLAdUGBjWG8Qz7ACLFCMFFMNkHgeGN3ffajSA\n",
       "Rd5EPYAHrwNr2Gfk4FgZDgkoKAAAelg1omM6Y4wAAAAASUVORK5CYII=\n",
       "\" style=\"display:inline;vertical-align:middle;\" /></a></span></td></tr>\n",
       "</table>"
      ],
      "text/plain": [
       "\tstep type\trequirements\tstatement\n",
       "0\tgeneralizaton\t1\t|- forall_{x in Real} ((x - floor(x)) >= 0)\n",
       "1\tinstantiation\t2, 3, 4\t{x in Real} |- 0 <= (x - floor(x))\n",
       "\tP(_a) : _a <= (x - floor(x)), x : floor(x) - floor(x), y : 0\n",
       "2\ttheorem\t\t|- forall_{P, x, y | P(x), x = y} P(y)\n",
       "\tproveit.logic.equality.sub_right_side_into\n",
       "3\tinstantiation\t5, 6, 14, 16, 7\t{x in Real} |- (floor(x) - floor(x)) <= (x - floor(x))\n",
       "\ta : -floor(x), x : floor(x), y : x\n",
       "4\tinstantiation\t8, 9\t{x in Real} |- (floor(x) - floor(x)) = 0\n",
       "\ta : floor(x)\n",
       "5\tconjecture\t\t|- forall_{a, x, y in Real | x <= y} ((x + a) <= (y + a))\n",
       "6\tinstantiation\t10, 14\t{x in Real} |- (-floor(x)) in Real\n",
       "\ta : floor(x)\n",
       "7\tinstantiation\t11, 16\t{x in Real} |- floor(x) <= x\n",
       "\tx : x\n",
       "8\tconjecture\t\t|- forall_{a in Complex} ((a - a) = 0)\n",
       "9\tinstantiation\t12, 13, 14\t{x in Real} |- floor(x) in Complex\n",
       "\tA : Real, B : Complex, x : floor(x)\n",
       "10\tconjecture\t\t|- forall_{a in Real} ((-a) in Real)\n",
       "11\taxiom\t\t|- forall_{x in Real} (floor(x) <= x)\n",
       "\tproveit.numbers.rounding.floor_of_x_less_eq_x\n",
       "12\ttheorem\t\t|- forall_{A, B | A proper_subset B} [forall_{x in A} (x in B)]\n",
       "\tproveit.logic.sets.inclusion.superset_membership_from_proper_subset\n",
       "13\tconjecture\t\t|- Real proper_subset Complex\n",
       "14\tinstantiation\t15, 16\t{x in Real} |- floor(x) in Real\n",
       "\tx : x\n",
       "15\tconjecture\t\t|- forall_{x in Real} (floor(x) in Real)\n",
       "16\tassumption\t\t{x in Real} |- x in Real"
      ]
     },
     "execution_count": 13,
     "metadata": {},
     "output_type": "execute_result"
    }
   ],
   "source": [
    "%qed"
   ]
  },
  {
   "cell_type": "code",
   "execution_count": null,
   "metadata": {},
   "outputs": [],
   "source": []
  }
 ],
 "metadata": {
  "kernelspec": {
   "display_name": "Python 3",
   "language": "python",
   "name": "python3"
  },
  "language_info": {
   "codemirror_mode": {
    "name": "ipython",
    "version": 3
   },
   "file_extension": ".py",
   "mimetype": "text/x-python",
   "name": "python",
   "nbconvert_exporter": "python",
   "pygments_lexer": "ipython3",
   "version": "3.7.3"
  }
 },
 "nbformat": 4,
 "nbformat_minor": 1
}
