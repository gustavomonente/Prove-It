{
 "cells": [
  {
   "cell_type": "markdown",
   "metadata": {},
   "source": [
    "Proof of <a class=\"ProveItLink\" href=\"../../../../../_theory_nbs_/theory.ipynb\">proveit</a>.<a class=\"ProveItLink\" href=\"../../../../_theory_nbs_/theory.ipynb\">numbers</a>.<a class=\"ProveItLink\" href=\"../../theory.ipynb\">rounding</a>.<a class=\"ProveItLink\" href=\"../../theorems.ipynb#ceil_of_sum_greater_eq\">ceil_of_sum_greater_eq</a> theorem\n",
    "========"
   ]
  },
  {
   "cell_type": "code",
   "execution_count": 1,
   "metadata": {},
   "outputs": [],
   "source": [
    "import proveit\n",
    "theory = proveit.Theory() # the theorem's theory"
   ]
  },
  {
   "cell_type": "code",
   "execution_count": 2,
   "metadata": {},
   "outputs": [
    {
     "data": {
      "text/html": [
       "Under these <a href=\"presumptions.txt\">presumptions</a>, we begin our proof of<br><strong id=\"ceil_of_sum_greater_eq\">ceil_of_sum_greater_eq:</strong> <a class=\"ProveItLink\" href=\"../../../__pv_it/theorems/a1b4a478121d3ce4789498c16d95e12ef3ef3c130/expr.ipynb\"><img src=\"data:image/png;base64,iVBORw0KGgoAAAANSUhEUgAAAUkAAAAWBAMAAAC/C3MNAAAAMFBMVEX///8QEBCIiIhmZma6urrM\n",
       "zMxUVFQiIiJERETc3Nzu7u6qqqp2dnaYmJgyMjIAAAAcRTyBAAAAAXRSTlMAQObYZgAAA51JREFU\n",
       "SMfNl01oE0EUx5+bzcduNm0RvfQgsYFSerFYqheNtYLFi00vehGM9QO8FLUVD7ZSREqKKFHBFgVd\n",
       "LbQSigY9SMXDkoKHCHUPBa1YCB5a/FqCKNiI4sx+JLuTl+2CHhx40L43/5nfzryZeQHw1sSrWrJG\n",
       "SNA0ZU0Z0qkcu6N9hn/QBBWEpNsnFDAJI6vqZIs9BJhFR541TdcuuVM+AHdKKGASVuZCWQcQSGMD\n",
       "Uy+1l/Sfj+6UHzxRigOyQ8LK3Cmr9yPcaHipTdD+I66QkbYqynAUWcvwctouYWUWxmOUEnLMrFMv\n",
       "SqaXWB1ZACnrShlMe6MEfjlhk7CyNSjvVS1OyfQSi+QzmXH3DR8Hj5TgT3VWJKxsDcq6ToySeqn9\n",
       "SKWG3Clj5pBi08munINSjEXhmmxLOaE/W5awMozy/lYQGg1KqQ2jpF5qxwHG3CmvmEPOwOvoBQel\n",
       "xDfAFsfBELanLQkrwyiV3cAVDcpIAaOkXmp7sOsOnrYcfW/9fd4cMg+v5H0Oytu+AqQclJGBsoSV\n",
       "IZRCNg6hEYMyfAqjpF5qQeBU5pJ+3q5yEuSt3NtgTifrRGQFNW1lk0YfDnldFL7aKbkhuSxhZXqn\n",
       "eU07rWnLJqUI66E+alD6i3RqTW+JMiX1UpPUIPMRb2YzQCjfqgwl6ESO09Mj+7/bKGfO2CSsDNtx\n",
       "vgSHEzbKqrW0KIXCAXondTST3nwzBGWepjGlVJgdB53IQRkHrqECcGPYniSsDKMkGbPZPOM8uuPU\n",
       "q0fGjhEouT9IzrtUL/fqEkrZ3sacnmck0VudlKMQSpYBbn5yHDhWhlES9Sh4OT3whKD64QsN3OqG\n",
       "FpjUKX0nBq3uc8aQ/M9QUVCdlNugRy2/kJcqM8whMnQtk/wvk9LH1kxcyfTqkXp9xlU9sgP64GAq\n",
       "lYpy0vUFq3u3mep9rbElZsenmnalsWqjG5FhlGJfbNW61RPOIXxHfu80vHokIutZ6qehQdgIAWPH\n",
       "w4dkLy9kHK2JvL+QvoJJOY3e1dP2yF2pIMGEDGf5IkgJIy/zSu1qQzS+IFAQv6GUbtVGxkbZD486\n",
       "a1QbRsvZI1MLuTz0ZmFvCxnrMr3V55XJuBUdq1W5BdVQtFK5rZyjLWFJWBlWuQ3DxZqVm1U6s5Gs\n",
       "mA6RPOdIXnqrgvmmjr+rgrtiCZMyhFbB1MtEwumAsr/GLwpRcXvpk7V+UdhlbCdbjByFRXTgRaiK\n",
       "RIB/p8D/2P4AtmJPLRgkjuUAAAAASUVORK5CYII=\n",
       "\" style=\"display:inline;vertical-align:middle;\" /></a><br>(see <a class=\"ProveItLink\" href=\"../../../__pv_it/theorems/29345bf4625835ca1284fc35b1fde037e319913e0/dependencies.ipynb\">dependencies</a>)<br>"
      ],
      "text/plain": [
       "ceil_of_sum_greater_eq: forall_{x, y in Real} (ceil(x + y) >= ((ceil(x) + ceil(y)) - 1))"
      ]
     },
     "execution_count": 2,
     "metadata": {},
     "output_type": "execute_result"
    }
   ],
   "source": [
    "%proving ceil_of_sum_greater_eq"
   ]
  },
  {
   "cell_type": "code",
   "execution_count": null,
   "metadata": {},
   "outputs": [],
   "source": []
  }
 ],
 "metadata": {
  "kernelspec": {
   "display_name": "Python 3",
   "language": "python",
   "name": "python3"
  }
 },
 "nbformat": 4,
 "nbformat_minor": 0
}