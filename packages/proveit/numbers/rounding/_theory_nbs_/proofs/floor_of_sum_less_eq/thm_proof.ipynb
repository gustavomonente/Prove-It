{
 "cells": [
  {
   "cell_type": "markdown",
   "metadata": {},
   "source": [
    "Proof of <a class=\"ProveItLink\" href=\"../../../../../_theory_nbs_/theory.ipynb\">proveit</a>.<a class=\"ProveItLink\" href=\"../../../../_theory_nbs_/theory.ipynb\">numbers</a>.<a class=\"ProveItLink\" href=\"../../theory.ipynb\">rounding</a>.<a class=\"ProveItLink\" href=\"../../theorems.ipynb#floor_of_sum_less_eq\">floor_of_sum_less_eq</a> theorem\n",
    "========"
   ]
  },
  {
   "cell_type": "code",
   "execution_count": 1,
   "metadata": {},
   "outputs": [],
   "source": [
    "import proveit\n",
    "theory = proveit.Theory() # the theorem's theory"
   ]
  },
  {
   "cell_type": "code",
   "execution_count": 2,
   "metadata": {},
   "outputs": [
    {
     "data": {
      "text/html": [
       "Under these <a href=\"presumptions.txt\">presumptions</a>, we begin our proof of<br><strong id=\"floor_of_sum_less_eq\">floor_of_sum_less_eq:</strong> <a class=\"ProveItLink\" href=\"../../../__pv_it/theorems/8371847c0f489a8d8d6384b4a657ff0055737fa00/expr.ipynb\"><img src=\"data:image/png;base64,iVBORw0KGgoAAAANSUhEUgAAATkAAAAWBAMAAABJQvaVAAAAMFBMVEX///8QEBCIiIhmZma6urrM\n",
       "zMxUVFQiIiJERETc3Nzu7u6qqqp2dnaYmJgyMjIAAAAcRTyBAAAAAXRSTlMAQObYZgAAAzFJREFU\n",
       "SMfNlk1oE1EQx4fNpsluNimIIvQgq4G29BQsIoKWWsHipWwv6kGwVit4KQqVCH5QRGSLKMGDLR50\n",
       "taASBIMepCKyVFCIUPdQqIqF4MGi4BIEwVYU3+57r2ZfZ7eJXhyYkOTNf+bHe7P7BqA+U52oVX01\n",
       "iR6+JsE/muKAMhAVUFlNIgbUrGWwhFPMfd18NN09aJhOkDRK11Sg/sr78Tma7lMDdG0GJmmELtVC\n",
       "Tr5CfcKLHY2ES+dW0KV0nE59qaMSHvAwnI6nvPNiiXxOU89YAFopki5RqJdO2ergkgboIO3R3aKe\n",
       "LheL49EHOw510inDpRBJw3SZburfTfNMNF2WpVM3HeuZDqa6vRmUFl48fqU7TILRMS1Op+WoDwGM\n",
       "RdNdZunuw5x+LpjK3glSlRc3jVAJRse0OF26Qn2X/3CI9rj98Af+/TRLV4bX1p5AKqXUBclRXryt\n",
       "A8IkCB3X4nSp49QTIAn3gPq005E0KPPwtayUBab/W3PdhQ2u6x0crIFmfbn4XBlCJH7AjOuecN2P\n",
       "jI5rM8GUjC5epa45CWHf3kwVgdC9c4RSAF/Fp0JegoPGn615ti1Egp0s0+J7x+mUyl7v3bKllUTK\n",
       "rZCw5Jx3+xE6WzgmiH8T6WIV2Fj7vusbwiUYHdPidPJx6jB2hMBYwwnywGnNVj8NJ3SdOaHFn5Am\n",
       "7gimSg7AxcBVsP8CKsHomDb6qYBHBDEOX7yF673QDpM+XezoCK/4nKaTfySriiPs3YD8M3hRXTMw\n",
       "Cbp3VLuCTvLoYjZ1vzUBFv2V7TAI+0zT1CXt6iwv2MvaeLAjOy+kUgezi9gUIEowOqYV6WKHfu0g\n",
       "/xrUIW35XRj3lkZgHTTRk00dsOq5yWIVjK6+m8zXZtDr5y5z325qFQ0mLDgpV0EzaN+V7fApQGXk\n",
       "w/CgG6MLmwKKNXRMmxFSUmNTABsMZqfL0F+C3e0kzyXvbTxjT3bx1bHQCeosnF8uri7kPTMwCTZB\n",
       "MS063/EJqtZKaiFJelgifVfn9NmTNf56+mRalC5ZoF7bTIUmuy9kclfX58PmT2UhPxopQQKW127k\n",
       "T2E53zKvbRaQ39vwP9lvcEIxVtkm0BMAAAAASUVORK5CYII=\n",
       "\" style=\"display:inline;vertical-align:middle;\" /></a><br>(see <a class=\"ProveItLink\" href=\"../../../__pv_it/theorems/65c70046b2b7706d92d89266e845aced629b82c60/dependencies.ipynb\">dependencies</a>)<br>"
      ],
      "text/plain": [
       "floor_of_sum_less_eq: forall_{x, y in Real} (floor(x + y) <= (floor(x) + floor(y) + 1))"
      ]
     },
     "execution_count": 2,
     "metadata": {},
     "output_type": "execute_result"
    }
   ],
   "source": [
    "%proving floor_of_sum_less_eq"
   ]
  },
  {
   "cell_type": "code",
   "execution_count": null,
   "metadata": {},
   "outputs": [],
   "source": []
  }
 ],
 "metadata": {
  "kernelspec": {
   "display_name": "Python 3",
   "language": "python",
   "name": "python3"
  }
 },
 "nbformat": 4,
 "nbformat_minor": 0
}