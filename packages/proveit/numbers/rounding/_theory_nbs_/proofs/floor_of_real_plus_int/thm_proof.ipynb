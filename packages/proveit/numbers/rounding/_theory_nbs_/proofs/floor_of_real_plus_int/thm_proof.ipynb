{
 "cells": [
  {
   "cell_type": "markdown",
   "metadata": {},
   "source": [
    "Proof of <a class=\"ProveItLink\" href=\"../../../../../_theory_nbs_/theory.ipynb\">proveit</a>.<a class=\"ProveItLink\" href=\"../../../../_theory_nbs_/theory.ipynb\">numbers</a>.<a class=\"ProveItLink\" href=\"../../theory.ipynb\">rounding</a>.<a class=\"ProveItLink\" href=\"../../theorems.ipynb#floor_of_real_plus_int\">floor_of_real_plus_int</a> theorem\n",
    "========"
   ]
  },
  {
   "cell_type": "code",
   "execution_count": 1,
   "metadata": {},
   "outputs": [],
   "source": [
    "import proveit\n",
    "theory = proveit.Theory() # the theorem's theory"
   ]
  },
  {
   "cell_type": "code",
   "execution_count": 2,
   "metadata": {},
   "outputs": [
    {
     "data": {
      "text/html": [
       "Under these <a href=\"presumptions.txt\">presumptions</a>, we begin our proof of<br><strong id=\"floor_of_real_plus_int\">floor_of_real_plus_int:</strong> <a class=\"ProveItLink\" href=\"../../../__pv_it/theorems/f948ebb607538174f871227467bc91b2a4de4a570/expr.ipynb\"><img src=\"data:image/png;base64,iVBORw0KGgoAAAANSUhEUgAAAToAAAAVBAMAAAAk4T84AAAAMFBMVEX///8QEBCIiIhmZma6urrM\n",
       "zMxUVFQiIiJERETc3Nzu7u6qqqp2dnaYmJgyMjIAAAAcRTyBAAAAAXRSTlMAQObYZgAAA2VJREFU\n",
       "SMe9lk9IFFEcx7/uH3dnfKMdii4dFoUUCVmSoIOK1kGiDkuHOlRk9geEEgNJo5DwNGLB4qE/HnJC\n",
       "qNgipZAwAhetDhvYHIyy0IbIwqBlCYX+EPTem1125jUzm0o9mGVmvvud72ff7/1mH7CmIeteqq+g\n",
       "J7KG7JoFT1nSIbV4faG0oMdwso3ToyQOzHea+pzz0594qriNldMJHke6YkqGNp7/nF1/dqPzUrG4\n",
       "CrrFv6CT2d17PP8qm+4LbnReqhL9g+5+ITrRYzgaJ+lBIiy/VKNno250XmoovnI60eNMd4NN4DqW\n",
       "r6QSiStwo/NS2f2V0okeZ7rSRvrxgeXjm6qed6XzUiuySXJ5245JW0jg2bXyrY50okeg29M2UEEr\n",
       "Smj9McXzjwN97nQe6qVs0l28ivTYQki4FyPxHB1J8xF18gh0STUif6erk92e5/k7zR7JjYdVR99b\n",
       "6AQVRy5ur82enssmpfBC22ULORAyMBRzmjvRY6cLjvZAWqYvuw4GwvND8OVe3vLjWt1HkIrk6Swq\n",
       "7kzV4yxS1dnL9dkkDSq/nk6nT6fTH+mZNtKId46VFT2GzSjLS1AylJIeOMzziR7KeV+PJ0Dp3uh5\n",
       "Oouq9A9qGA3O6kIS8FXsigmg3ZMu5xEqW5JBsWGjk4x97BWzbXMswJYGo0vm6biq1O+tYEVmw0/E\n",
       "KiG4LNI1AL9kYd21OHkEOr+BMl1DgFW2meej7xhl0tpDjfxhlK42mqfjqtKkF8WzT5odE7vikS+D\n",
       "ajvdJpT8IE5zJ3oEuqIkJrSktSvwgJIG8QUY5nT+E52WruDqYCXKNJkzy5HcxLKWZ0mBn+GMpNtC\n",
       "pCUQ46UTnegR6IYaMa3E4GcZdWZ+GW8C2sj7VVWN+MjAjJWOq61oQrBbVXtBiCZpptpsJsmt1RVz\n",
       "9hBaGenUqBOd6BHoqHz5LfXRfseCma+wtGAmiGKzsiUHNQsdVzegLgi+cHYfAon/63+yW6xIHWY+\n",
       "n1JiEJCYue5Slq4wK5VB5xiestNolP9+l11AYrW7gITLLsAcN2cmU0A/ewlOJ4cbBLpAC7boCNNa\n",
       "KSdOTp/JPaRvFTuovpXtoGw7bbruhH8y66ii6+5/7D7DcfNniPnCqCy4c5c3drnyXe/q9vZIn7oc\n",
       "t46zbAlQwprO3y9hSQm877KMAAAAAElFTkSuQmCC\n",
       "\" style=\"display:inline;vertical-align:middle;\" /></a><br>(see <a class=\"ProveItLink\" href=\"../../../__pv_it/theorems/b7b4fdff479e3c1a64f8667e96aab1b7c8c0086c0/dependencies.ipynb\">dependencies</a>)<br>"
      ],
      "text/plain": [
       "floor_of_real_plus_int: forall_{x in Real} [forall_{n in Integer} (floor(x + n) = (floor(x) + n))]"
      ]
     },
     "execution_count": 2,
     "metadata": {},
     "output_type": "execute_result"
    }
   ],
   "source": [
    "%proving floor_of_real_plus_int"
   ]
  },
  {
   "cell_type": "code",
   "execution_count": null,
   "metadata": {},
   "outputs": [],
   "source": []
  }
 ],
 "metadata": {
  "kernelspec": {
   "display_name": "Python 3",
   "language": "python",
   "name": "python3"
  }
 },
 "nbformat": 4,
 "nbformat_minor": 0
}