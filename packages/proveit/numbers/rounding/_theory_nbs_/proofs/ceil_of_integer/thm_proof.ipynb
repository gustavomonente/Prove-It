{
 "cells": [
  {
   "cell_type": "markdown",
   "metadata": {},
   "source": [
    "Proof of <a class=\"ProveItLink\" href=\"../../../../../_theory_nbs_/theory.ipynb\">proveit</a>.<a class=\"ProveItLink\" href=\"../../../../_theory_nbs_/theory.ipynb\">numbers</a>.<a class=\"ProveItLink\" href=\"../../theory.ipynb\">rounding</a>.<a class=\"ProveItLink\" href=\"../../theorems.ipynb#ceil_of_integer\">ceil_of_integer</a> theorem\n",
    "========"
   ]
  },
  {
   "cell_type": "code",
   "execution_count": 1,
   "metadata": {},
   "outputs": [],
   "source": [
    "import proveit\n",
    "theory = proveit.Theory() # the theorem's theory"
   ]
  },
  {
   "cell_type": "code",
   "execution_count": 2,
   "metadata": {},
   "outputs": [
    {
     "data": {
      "text/html": [
       "Under these <a href=\"presumptions.txt\">presumptions</a>, we begin our proof of<br><strong id=\"ceil_of_integer\">ceil_of_integer:</strong> <a class=\"ProveItLink\" href=\"../../../__pv_it/theorems/d69324923a85e594b04d12d98875ad3be0adcfc80/expr.ipynb\"><img src=\"data:image/png;base64,iVBORw0KGgoAAAANSUhEUgAAAIkAAAAVBAMAAACArtDCAAAAMFBMVEX///8QEBCIiIhmZma6urrM\n",
       "zMxUVFQiIiJERETc3Nzu7u6qqqp2dnaYmJgyMjIAAAAcRTyBAAAAAXRSTlMAQObYZgAAAeVJREFU\n",
       "OMudlE1IAkEUx//50eo62rWjGHiQICE6BlKnTnmqUxRRQZeIbkGE0GWlQx6ioqg2gwqJEKKD0UHs\n",
       "lEUtFH0cAiEoiBIJgj4uzTi7mTXR2sC6b31vf/Pe/+0b4I+1kb/lxlL+Af9bi8BM6WlLHJSiV44Z\n",
       "12K/HCmjeMRR1THgkBn3Yr8nZoYi00Tm6N0ZEftPYYaCDHWpAEmK3aPmKCuAO5tIzIq9zmFzFE8I\n",
       "eFGUMbHXEtQpcf90vVdAkX2DLbQcQuP6gaiY4tA4RU67R6ScQTnOs3XDzE1ceMdpOdTXWhS51Lfa\n",
       "/YkgN6UkpxCVvNliglyyOFHbABetXIJFMzLca9SkGImr/LEqpOcCR0SoiwqF3ewFupMmGf9ephJw\n",
       "oWsR5RSgxvuLuk8GxZnrYD1v8odtvJJgGuUVAd3hEoXrwofL/sx+bayX0T7aDnVICvEo90L4m7ou\n",
       "tYEGCHLZtRQQ4Opim6LseARWi644MYKI3un25BSbyx8U27uj4KQ7WdOfRb8CnYqieJHOYl6P0r+6\n",
       "NV+8WRNQ5N5AHZtjD0verRYVsqO6+OqOhoPKJmDdMJZJjoAwptXKc6hsGvlaO8tkgUlqnQ8c3fUY\n",
       "8po+GcoGh+lS8SnF9vrrxNz8MhzioCvgA7MKiybDcvAGAAAAAElFTkSuQmCC\n",
       "\" style=\"display:inline;vertical-align:middle;\" /></a><br>(see <a class=\"ProveItLink\" href=\"../../../__pv_it/theorems/4dd84697f28bb4a08e8ec069c03a8abb0de9d1990/dependencies.ipynb\">dependencies</a>)<br>"
      ],
      "text/plain": [
       "ceil_of_integer: forall_{x in Integer} (ceil(x) = x)"
      ]
     },
     "execution_count": 2,
     "metadata": {},
     "output_type": "execute_result"
    }
   ],
   "source": [
    "%proving ceil_of_integer"
   ]
  },
  {
   "cell_type": "code",
   "execution_count": null,
   "metadata": {},
   "outputs": [],
   "source": []
  }
 ],
 "metadata": {
  "kernelspec": {
   "display_name": "Python 3",
   "language": "python",
   "name": "python3"
  }
 },
 "nbformat": 4,
 "nbformat_minor": 0
}