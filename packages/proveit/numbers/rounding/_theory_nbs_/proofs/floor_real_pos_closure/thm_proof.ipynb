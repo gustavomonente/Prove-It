{
 "cells": [
  {
   "cell_type": "markdown",
   "metadata": {},
   "source": [
    "Proof of <a class=\"ProveItLink\" href=\"../../../../../_theory_nbs_/theory.ipynb\">proveit</a>.<a class=\"ProveItLink\" href=\"../../../../_theory_nbs_/theory.ipynb\">numbers</a>.<a class=\"ProveItLink\" href=\"../../theory.ipynb\">rounding</a>.<a class=\"ProveItLink\" href=\"../../theorems.ipynb#floor_real_pos_closure\">floor_real_pos_closure</a> theorem\n",
    "========"
   ]
  },
  {
   "cell_type": "code",
   "execution_count": 1,
   "metadata": {},
   "outputs": [],
   "source": [
    "import proveit\n",
    "theory = proveit.Theory() # the theorem's theory"
   ]
  },
  {
   "cell_type": "code",
   "execution_count": 2,
   "metadata": {},
   "outputs": [
    {
     "data": {
      "text/html": [
       "Under these <a href=\"presumptions.txt\">presumptions</a>, we begin our proof of<br><strong id=\"floor_real_pos_closure\">floor_real_pos_closure:</strong> <a class=\"ProveItLink\" href=\"../../../__pv_it/theorems/2e74784facd967e499b3e06ad739ed10b73aa0730/expr.ipynb\"><img src=\"data:image/png;base64,iVBORw0KGgoAAAANSUhEUgAAAJcAAAAVBAMAAAC5yWGZAAAAMFBMVEX///8QEBCIiIhmZma6urrM\n",
       "zMxUVFQiIiJERETc3Nzu7u6qqqp2dnaYmJgyMjIAAAAcRTyBAAAAAXRSTlMAQObYZgAAAjdJREFU\n",
       "OMul1D9o1FAcB/Avuctdk0tiB8FNQgsinYqHOAhy6CA6ZTqXDoe2ahZxEG5QyuFirqIcLroZKagc\n",
       "UgoOUnE4o4NG0AwF/0DhcBErSioIFRd/L39eEi/GFh/c8f6ED+/3+733gC012Uv6Ov6nSR6kVjIc\n",
       "5n+1Ei+tFWL3UYQtbV638XSjUekBr9jEeiH2uRDDNbEF2YdM87dYHJ0iS50uxs4YE8A44ACaDSjL\n",
       "RVi1l4upV9rzQWd2oWLgPHCH5tx+/2ZhlGx1FBMv29HYbMrrDNMawKZlXRoVlKQ7GWHyhHnY4dhS\n",
       "bMGs6U2GKZSOOaA7ipVSCY6wB3irz3PM5Osmnqs6YSotHAnqUIBdjDAXb+xjHOuksIo9R1iNflUI\n",
       "qeONR3tPfcxiOyPMhpXkTNz9jVqEyS2Nqin6FKpX5ZfmSd0TFLi6Uj9QP/gnBnxPMCm9M8yIESYN\n",
       "m/H0u5U+CPvg5YYJ8UeqmuNpTF0mu0xhojtLf87+PUaZyhFgg9wCPBZ8THFsH1+nCuJlJywAHpIo\n",
       "2OeqDQ0hVp/OYM9CrPxrzJc8jlX5Qf/CUkyTJdoDdtCbIuIrsBhgpdMXsgU4GmLyyanJtSRM+ezx\n",
       "cPnEBu2KHQjNYPciOH4/adqyLF1Qbqyy/PzzOpVfRNcpbvd4T/RFVMIwazP2ti563Jy4c1sZKlCM\n",
       "MGfuIPtVd0tYcvTvrjoucJUd2teDxUPbeRzjNtbLjgXKWf6zLe9qh5z0qf2Xx+898BveNqFAS7Zo\n",
       "mgAAAABJRU5ErkJggg==\n",
       "\" style=\"display:inline;vertical-align:middle;\" /></a><br>(see <a class=\"ProveItLink\" href=\"../../../__pv_it/theorems/c767297c2a2d7cf138e7ebda84fb0dcdf1fd33150/dependencies.ipynb\">dependencies</a>)<br>"
      ],
      "text/plain": [
       "floor_real_pos_closure: forall_{x in RealPos} (floor(x) in Natural)"
      ]
     },
     "execution_count": 2,
     "metadata": {},
     "output_type": "execute_result"
    }
   ],
   "source": [
    "%proving floor_real_pos_closure"
   ]
  },
  {
   "cell_type": "code",
   "execution_count": null,
   "metadata": {},
   "outputs": [],
   "source": []
  }
 ],
 "metadata": {
  "kernelspec": {
   "display_name": "Python 3",
   "language": "python",
   "name": "python3"
  }
 },
 "nbformat": 4,
 "nbformat_minor": 0
}