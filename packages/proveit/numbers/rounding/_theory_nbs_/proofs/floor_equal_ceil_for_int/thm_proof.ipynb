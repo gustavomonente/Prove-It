{
 "cells": [
  {
   "cell_type": "markdown",
   "metadata": {},
   "source": [
    "Proof of <a class=\"ProveItLink\" href=\"../../../../../_theory_nbs_/theory.ipynb\">proveit</a>.<a class=\"ProveItLink\" href=\"../../../../_theory_nbs_/theory.ipynb\">numbers</a>.<a class=\"ProveItLink\" href=\"../../theory.ipynb\">rounding</a>.<a class=\"ProveItLink\" href=\"../../theorems.ipynb#floor_equal_ceil_for_int\">floor_equal_ceil_for_int</a> theorem\n",
    "========"
   ]
  },
  {
   "cell_type": "code",
   "execution_count": 1,
   "metadata": {},
   "outputs": [],
   "source": [
    "import proveit\n",
    "theory = proveit.Theory() # the theorem's theory"
   ]
  },
  {
   "cell_type": "code",
   "execution_count": 2,
   "metadata": {},
   "outputs": [
    {
     "data": {
      "text/html": [
       "Under these <a href=\"presumptions.txt\">presumptions</a>, we begin our proof of<br><strong id=\"floor_equal_ceil_for_int\">floor_equal_ceil_for_int:</strong> <a class=\"ProveItLink\" href=\"../../../__pv_it/theorems/1b9fdab19ef1ff8ca27133c7ee8fa4a3eb2fcbc80/expr.ipynb\"><img src=\"data:image/png;base64,iVBORw0KGgoAAAANSUhEUgAAAJ0AAAAVBAMAAACu6/FQAAAAMFBMVEX///8QEBCIiIhmZma6urrM\n",
       "zMxUVFQiIiJERETc3Nzu7u6qqqp2dnaYmJgyMjIAAAAcRTyBAAAAAXRSTlMAQObYZgAAAhZJREFU\n",
       "OMullDFIG1EYx/82uSR3eWcWxcUhmKGlOARdOmiJdHDQITi4iKDSFgptcSja0iLidKEVDgerDnpO\n",
       "iooGxMHJoLSDhXBLBymlBwWlpYQMCrZQ8L28lzvT+EhPv+W+9+7/fnzf9773ATVMsz0/XvV3tXDM\n",
       "ncXCL9Q21YY65C2dKsGs524Cu2XNVwlvFf/PqwdCJvCJ+T8lvB/+eBoVzLG0Jq/G6Ul/POzTjwWQ\n",
       "7NW8sOmTt0xjOFxbey9Jl+374tWngHPDeCPhJQSv98lMIi7jBT/Ot7QJHqEFegRkJLxpwcsZce23\n",
       "y8sXmH0v80hkClsm5+lU8aB0LZ4Nv7vXLtzXnKdkJ6CeyeIbCDtYSnNedJQWHbfcJ7B+0IlXOLwr\n",
       "lg2cp2mn0IsynrWVwjeRr0JVxA67/fF2wUJWObIreYgWEXKk97EHPL/EU51+SursS7DUmQUIKvNF\n",
       "wEHMtirrd+zy7gN/Nc4L0nyReUh5XXadKfRHO//eR10Oe1ZOFl8zon+Idx/YptCF24hZWrI0UOK5\n",
       "svpA8JZSyOtpCU89BXE+c16AHY2x1hpBF5SXhjEFQizV4upuwaPf2S/S/huF+iwr+jnNgmSnG9Gh\n",
       "oPQUegZBzGu+txV30BXxYgcfmJtMluK67jzgFhxCq40IDVt//DQ/Vt7O+J9XFXaH1u8G8zRi1p73\n",
       "WtM4J6on49VjcsNzQ7TTgAtsX6kfwSc4egAAAABJRU5ErkJggg==\n",
       "\" style=\"display:inline;vertical-align:middle;\" /></a><br>(see <a class=\"ProveItLink\" href=\"../../../__pv_it/theorems/3fe74dcbd9e011b54274c71536f7bd33c6dd11b50/dependencies.ipynb\">dependencies</a>)<br>"
      ],
      "text/plain": [
       "floor_equal_ceil_for_int: forall_{n in Integer} (floor(n) = ceil(n))"
      ]
     },
     "execution_count": 2,
     "metadata": {},
     "output_type": "execute_result"
    }
   ],
   "source": [
    "%proving floor_equal_ceil_for_int"
   ]
  },
  {
   "cell_type": "code",
   "execution_count": null,
   "metadata": {},
   "outputs": [],
   "source": []
  }
 ],
 "metadata": {
  "kernelspec": {
   "display_name": "Python 3",
   "language": "python",
   "name": "python3"
  }
 },
 "nbformat": 4,
 "nbformat_minor": 0
}