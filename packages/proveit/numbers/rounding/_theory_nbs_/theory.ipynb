{
 "cells": [
  {
   "cell_type": "markdown",
   "metadata": {},
   "source": [
    "Theory of <a class=\"ProveItLink\" href=\"../../../_theory_nbs_/theory.ipynb\">proveit</a>.<a class=\"ProveItLink\" href=\"../../_theory_nbs_/theory.ipynb\">numbers</a>.rounding\n",
    "========\n",
    "\n",
    "Theory related to rounding of numbers, including Round, Ceil, and Floor classes."
   ]
  },
  {
   "cell_type": "code",
   "execution_count": 1,
   "metadata": {},
   "outputs": [
    {
     "data": {
      "text/html": [
       "<h3>Local content of this theory</h3>"
      ],
      "text/plain": [
       "<IPython.core.display.HTML object>"
      ]
     },
     "metadata": {},
     "output_type": "display_data"
    },
    {
     "data": {
      "text/html": [
       "<table><tr>\n",
       "<th><a class=\"ProveItLink\" href=\"common.ipynb\">common expressions</a></th>\n",
       "<th><a class=\"ProveItLink\" href=\"axioms.ipynb\">axioms</a></th>\n",
       "<th><a class=\"ProveItLink\" href=\"theorems.ipynb\">theorems</a></th>\n",
       "<th><a class=\"ProveItLink\" href=\"demonstrations.ipynb\">demonstrations</a></th>\n",
       "</tr></table>\n",
       "<h3>Sub-theories</h3>\n"
      ],
      "text/plain": [
       "<IPython.core.display.HTML object>"
      ]
     },
     "metadata": {},
     "output_type": "display_data"
    },
    {
     "data": {
      "text/html": [
       "<h3>All axioms contained within this theory</h3>"
      ],
      "text/plain": [
       "<IPython.core.display.HTML object>"
      ]
     },
     "metadata": {},
     "output_type": "display_data"
    },
    {
     "data": {
      "text/html": [
       "<dt><a class=\"ProveItLink\" href=\"axioms.ipynb#ceil_is_an_int\">proveit.numbers.rounding.ceil_is_an_int</a></dt><dd><a class=\"ProveItLink\" href=\"../__pv_it/axioms/3742b9e4bcecb261d75bca52211678d4b70965870/expr.ipynb\"><img src=\"data:image/png;base64,iVBORw0KGgoAAAANSUhEUgAAAIoAAAAVBAMAAABrmWvBAAAAMFBMVEX///8QEBCIiIhmZma6urrM\n",
       "zMxUVFQiIiJERETc3Nzu7u6qqqp2dnaYmJgyMjIAAAAcRTyBAAAAAXRSTlMAQObYZgAAAi1JREFU\n",
       "OMudlD9oFEEUxj82t7nbzdx5hWCquCQgkuowpBOJsQhKiqu0CeRQI14RiSBYGIJo4V4k4bCIdi4E\n",
       "RA45AhaipFguFrIB3SKgCJEzaKHgcgqCYuPM7M7suu5eotPMm3+/mffeNw/YpenLXoUbmufZ+K+m\n",
       "udAqIbCduKmvDvCV7RTKQ0QpiFEyl796B967qAKbbPw5hfKpK0W5WUY7BzSBe+zh15Mh+VJXSo8N\n",
       "svYcIAYKFu3WkinZeiIlf+vqAqdYWFHpRXoReafRuJviEJv/m6LesOTMYo7ZH4AfpjmfQhkKKPpg\n",
       "dbwlKc0Qkjd4XjaAGaCWQlkKKI/w2liQlGokhzqP6DvgxJ86eHL43I6wrwUUB6+sk5ISScVMb52f\n",
       "oSGE4gpZrY+4CoFjBOP9AcWCGcZFHfBo8wVTmuT9NE2QmxXoN08boJS3bowCfAspEVkU2LscTtHa\n",
       "p+lEa/RQOVNiUqIUO+YR1O+RHBUlZZOM8eEEtWvn6VnrUnasAJ8yUopF95nSwbCkHJG/rLJCRVPk\n",
       "0cXjOXoZvgCrnNJz4YrYtuFTMr9yHc2VlKzQaM5ahD5LnTpKB/t4MH8CZ0zTNBRyZ0tQJnyKfnZ4\n",
       "aDv0SL94yl8+vtxvHuynD//IpMNUpHZU9Poe9U1Z3X9A5oX/A2TFmAuM+6RNQMp+XBx7b79RNCKU\n",
       "8WCrRTN2mynopb16TKzX9kRpxgoGjcs/VKnIXbtVTD1SbCvJVaiO30pZmvo6YvYwAAAAAElFTkSu\n",
       "QmCC\n",
       "\" style=\"display:inline;vertical-align:middle;\" /></a></dd>"
      ],
      "text/plain": [
       "<IPython.core.display.HTML object>"
      ]
     },
     "metadata": {},
     "output_type": "display_data"
    },
    {
     "data": {
      "text/html": [
       "<dt><a class=\"ProveItLink\" href=\"axioms.ipynb#ceil_of_x_greater_eq_x\">proveit.numbers.rounding.ceil_of_x_greater_eq_x</a></dt><dd><a class=\"ProveItLink\" href=\"../__pv_it/axioms/9494d48ee41a64656d805faf9c5eb06fa3e798190/expr.ipynb\"><img src=\"data:image/png;base64,iVBORw0KGgoAAAANSUhEUgAAAIoAAAAVBAMAAABrmWvBAAAAMFBMVEX///8QEBCIiIhmZma6urrM\n",
       "zMxUVFQiIiJERETc3Nzu7u6qqqp2dnaYmJgyMjIAAAAcRTyBAAAAAXRSTlMAQObYZgAAAhlJREFU\n",
       "OMtjYCAAuPreJYAZnO/eHWAgC3BeYOBMQBj4AKsi7gkMDGCZuzhMWcGAbAoDdlMYMhkYToPoVzhM\n",
       "eYnFFK7iBWiq1jEwzAA5vAG7IbwG2NzC/WwCqjIeBQY+oMk8G7Cbwj4Bq49YngWgRoAAA++pVaum\n",
       "4/AQSBxbuLB2OKCoe8LA8KOjowaHKcpQU7iUMp0OIYcuZx7E9YvUpugoMDAcZmBIZWDoxGFKL9SU\n",
       "NQzXFepQ4ojTHBQ2XAd4i9iBgvcYGJxR08F2jeRHMHY11JRTDOcXeKKYwlsMDtYFPL9YgMZtBwYh\n",
       "A9MFWDDtMb7AxMNwSgHKF4GasoChAzW9MNWAY5uLgQMcu/FAAy+wwyRv7FzFADTl1gU0UxgYPqGY\n",
       "sqYIpoNfAWoK54MwIOOQqVoAiwHIGqApB9B8xMD6FdmUybVwn8WD49wdiDtTgHoX5LE78DFATDE2\n",
       "QAvdXUwfGLTgpkx7Dc9BC/SBOsGhy7C5AGgZw1sGhsVgU5jTSmCqDkNMYfnN8YHzAjwHtMBd4r+h\n",
       "n2EukLaB++0nA0N4R0eHAhPPpCswVe4QU7iStJTvYsuNy5QW2YJMfwqKNVB4s35gZWCD+Ig7ZgH+\n",
       "HIBRBBVAGfN5HvAw8ARAwuXUAby5EQPwwFLGsiuHTjEwdINS3bkDi+1g8p3YSobn5SAQgFIyIAMm\n",
       "YLiQUUp1Ei4xuZAK2wTspdAEBgA4hZXtUbDWswAAAABJRU5ErkJggg==\n",
       "\" style=\"display:inline;vertical-align:middle;\" /></a></dd>"
      ],
      "text/plain": [
       "<IPython.core.display.HTML object>"
      ]
     },
     "metadata": {},
     "output_type": "display_data"
    },
    {
     "data": {
      "text/html": [
       "<dt><a class=\"ProveItLink\" href=\"axioms.ipynb#ceil_of_x_less_eq\">proveit.numbers.rounding.ceil_of_x_less_eq</a></dt><dd><a class=\"ProveItLink\" href=\"../__pv_it/axioms/35ed611dc78aa7c8c03bb79c83c2303b2dc058ef0/expr.ipynb\"><img src=\"data:image/png;base64,iVBORw0KGgoAAAANSUhEUgAAAN4AAAAXBAMAAACWruz4AAAAMFBMVEX///8QEBCIiIhmZma6urrM\n",
       "zMxUVFQiIiJERETc3Nzu7u6qqqp2dnaYmJgyMjIAAAAcRTyBAAAAAXRSTlMAQObYZgAAAylJREFU\n",
       "SMe1ll1IFFEUx/+Os+7O7KxK0Eu9bAmyRNCSFD6obAb6EOX20MdD4WYpBCIi2hcKIhZj9rFUWAjV\n",
       "oCFlYgsRJvQwKEFsIQv5kFExlPlQKT6WEHTvnZmdmW0Wo9UDy507c8757ZyvO8DaycOlBf3i3tIP\n",
       "rLfcBQas3birjj8OaPTiY844sdvBK3TXOg28puu3nHmF8Ww8rsPx2nfIInTnzHuLLLyxNpuWFESh\n",
       "QpZEzrzzWXg3uxxRL0YgOTp6O2ec0OrOG/ju1JsHfspyZ848LmzwhkpvbQ+meUfnTYWhnRA2AdNA\n",
       "I9D3b04j2R/5UjpPVANtXs3k+S6mFdQ94JaBT8BeiJrNciJ08rPT14kr5WXswqqqmngGz5vQeZIi\n",
       "rfBxk8e1KWa8E1XwEfsJogouZabzRVmKk5AMpv08nq4kpZDclsETdkedvLyI8X7MazqegU4DKGID\n",
       "iojbevKXUl7T6t3kKAjvvclHoH9QQcIzl8rgQSiPuvLAvFr14v9iRIJfQX2U8QTtMNlP7SqN8jTp\n",
       "lKeStTqGCyTWVPIlWDy+FF7yp8VXEd3IGU8wr7Z+4Bd0jXwNW8hSS359pwhFafFGmBLhlVGuuuIp\n",
       "1ocd5p7ZeFKRcpBFaEZhRs568Ss7iC97v3tkpuKL4RJYveAp6R0PFoFhxstvaqcBe9DKdYth5jmo\n",
       "2niDtQgxvUXdyBgcRj/UJa7TyW2fZ0Ije78Y/5ssFemI/wKOyLIc5KQbs0xBLQh6zslyDyRJERQr\n",
       "fxVooP3UbxgZYTP6fWTrUGXKbV6LDSVU+SstCurMs+xBgR5P/zF6wxvJiyJG7+w7Dilu8dqxkUzF\n",
       "XhhGq8wzS0gGIbYam/uSJkGK6vlLqsJleKN1wEv6LBxmaTZ5HfwyhnvTRqvNa0Na8CTC5rUuI7NT\n",
       "SYDGaGJGHa7ybAbfcI1kmZRdoKl55oyNVxPScMhmZBSM23k0fpYKO4+60PP3McyR/Bl9g0e4StaQ\n",
       "3GM9Zjwx7kv9x3lbXUKDl3VwTqKZ1zJvMl6BeiDb98SYtStw1QnEs/FS2P8Grjz+A+mO56SSZWW9\n",
       "P4nCa+DjD/XX1+GDzf64AAAAAElFTkSuQmCC\n",
       "\" style=\"display:inline;vertical-align:middle;\" /></a></dd>"
      ],
      "text/plain": [
       "<IPython.core.display.HTML object>"
      ]
     },
     "metadata": {},
     "output_type": "display_data"
    },
    {
     "data": {
      "text/html": [
       "<dt><a class=\"ProveItLink\" href=\"axioms.ipynb#floor_is_an_int\">proveit.numbers.rounding.floor_is_an_int</a></dt><dd><a class=\"ProveItLink\" href=\"../__pv_it/axioms/e1ff346d064725e3b4d8223e3381d3ae0e66a3b60/expr.ipynb\"><img src=\"data:image/png;base64,iVBORw0KGgoAAAANSUhEUgAAAIoAAAAVBAMAAABrmWvBAAAAMFBMVEX///8QEBCIiIhmZma6urrM\n",
       "zMxUVFQiIiJERETc3Nzu7u6qqqp2dnaYmJgyMjIAAAAcRTyBAAAAAXRSTlMAQObYZgAAAilJREFU\n",
       "OMudlD1oFEEUx/9sbnO3k9nzikBS6WJAJNVhsBNJtAiKxVXaCAY14hVKBOEKJQQt3IskHBbRzoWA\n",
       "yCFHwEIUi+NiIRvQLQKKEDlFEQXDKQiKjfOxM7ucu5foNPPm6zfz3vvPA7ZoJIhsB//VrADWVDRs\n",
       "J24aqIUrGymU++hFyVz6tjn0LkAZWOPjLymUzz0pxvUS2jmgAdzhD59LhtjFnpS+JujKM4A6yHus\n",
       "W0mmZGuJFPtGZVZQPCyZ7CJSgO3X67dTHOLzf1PMa56emc9x+wPw03WvplBGQgrZXT7U0pRGBLEd\n",
       "kZdVYBqoplAWQsoDvHJmNaUcyyEREX0LHAaJR+3R3jPvlX0lpPh46R3RlFgqpvtr4gwLIQwlT/J0\n",
       "LDAofKXRwZDiwY3iYu7cZE0KpnhM9KdYgoKsQr9+XAejvAm6KMD3iBKTRZ6/yxcUq32cTbT27yll\n",
       "ilxKjNLs8gjmj1iOCpqyRsfFcJLZ1bPsrHcxO56HpIwVu6L7xOhgVFP26V82tcREUxDRxcMZdhm+\n",
       "AsuC0nfustq2KimZ37mOFWhKVmk0582DXGBOHWCDHSKYv4ATrus6Br21riiTkkJOj45sRB6R80fl\n",
       "8sTisLtrmD38I5cOV5HZMdEvPRo46fX+AZnn8gfoEjQTGndpm4KWZFz85vZ+o2pUKePeeotl7CZX\n",
       "0Ivm8kG1Xt0WpdFVMFhc/qFKxe7aqmKSoYrkWJ8qyWXIruEPWymZFEx3sUoAAAAASUVORK5CYII=\n",
       "\" style=\"display:inline;vertical-align:middle;\" /></a></dd>"
      ],
      "text/plain": [
       "<IPython.core.display.HTML object>"
      ]
     },
     "metadata": {},
     "output_type": "display_data"
    },
    {
     "data": {
      "text/html": [
       "<dt><a class=\"ProveItLink\" href=\"axioms.ipynb#floor_of_x_less_eq_x\">proveit.numbers.rounding.floor_of_x_less_eq_x</a></dt><dd><a class=\"ProveItLink\" href=\"../__pv_it/axioms/6555879a174af34d121afebde4c353aa76fa1f0c0/expr.ipynb\"><img src=\"data:image/png;base64,iVBORw0KGgoAAAANSUhEUgAAAIoAAAAVBAMAAABrmWvBAAAAMFBMVEX///8QEBCIiIhmZma6urrM\n",
       "zMxUVFQiIiJERETc3Nzu7u6qqqp2dnaYmJgyMjIAAAAcRTyBAAAAAXRSTlMAQObYZgAAAgxJREFU\n",
       "OMtjYCAAuC4g2AoMZAHOCwycCQjuA6yKuCdAZe7iMGUFAxGmMGQyMJwG0a9wmPISpynqAQj2OgaG\n",
       "GSCHN2A3hNcAhylcx5GDiEeBgW8BkNqA3RT2CdhN4TS/gBIBAgy8p1atmo7DQyBxLKZw5qHZ+oSB\n",
       "4UdHRw0OU5ShpnApZTodgpvC2ucAU7BIbYoO0G+HGRhSGRg6cZjSCzVlDcN1hTq4KR3wgOU6wFvE\n",
       "DhS8x8DgzMCFHIPbNZIfwdjVUFNOMZxf4Ak3RV0LHqwLeH6xAMNuOzAIGZhgYcW1x/gCEw/DKVgE\n",
       "iEBNWcDQgRwu10/B1DNwgGM3HmjgBXaY2Td2rmIAmnLrApopDAyfUOJonyVMB78C1BTOB2FAxiFT\n",
       "tQAWYPIAm3IAzUcMrF9R04tfKpQRDw4jdyDuTAHqXZDH7sDHADHF2AAtdHcxfWDQQkm7ES3gHLRA\n",
       "H6gTHLoMmwuAljG8ZWBYDDaFOa0EpvYwxBSW3xwfOC+g5oBpIEf4b+hnmAukbeB++8nAEN7R0aHA\n",
       "xDPpCkypO8QUriQt5bvYcuMypUW2INOfgnLLApDPP7AysEF8xB2zgEAOQC+CCqCM+TwPeBh4AiDh\n",
       "cuoAodyICnhgKWPZlUPARNANSnXnDiy2g8l3YjGF63k5CKCWDMiACRguZJRSnYRLTC7xcog5nM/L\n",
       "sRdDvBMYAEqLkjiuXC+sAAAAAElFTkSuQmCC\n",
       "\" style=\"display:inline;vertical-align:middle;\" /></a></dd>"
      ],
      "text/plain": [
       "<IPython.core.display.HTML object>"
      ]
     },
     "metadata": {},
     "output_type": "display_data"
    },
    {
     "data": {
      "text/html": [
       "<dt><a class=\"ProveItLink\" href=\"axioms.ipynb#floor_of_x_greater_eq\">proveit.numbers.rounding.floor_of_x_greater_eq</a></dt><dd><a class=\"ProveItLink\" href=\"../__pv_it/axioms/475b7cfa7eb8e6d4204eed2592e7c320dc5c6a110/expr.ipynb\"><img src=\"data:image/png;base64,iVBORw0KGgoAAAANSUhEUgAAAN4AAAAXBAMAAACWruz4AAAAMFBMVEX///8QEBCIiIhmZma6urrM\n",
       "zMxUVFQiIiJERETc3Nzu7u6qqqp2dnaYmJgyMjIAAAAcRTyBAAAAAXRSTlMAQObYZgAAAydJREFU\n",
       "SMe1ll1IFFEUx//uzro7s7MqQS/1MiXYElFLEkWobAb5EOn2Uj0UblaCICKhaVEgEjFmH0uFhVBN\n",
       "GlZmthChQsigRLCFDCSUUbJEvSTCPpYQdO+d2Z0ZnRVp9cJyv845v7nnnHvuAqvXXphDF9a63Qd6\n",
       "zFmBo4w/BiTp4FvOOKFjBTw0AO9p/ytnXkHMgfdk7yKpYeAe6fiOnHkf4XS+8Qa7lCihQCFdPGfe\n",
       "eUceqs/YvV6EQGJw8G7OOL7ZmYdjl21yP4DfsnwxZ54rZPD6Su5sk6z50jPHur6d4DcAkwA5cdfK\n",
       "jIazb/k0nSeogbPepC0/b1NXQ90HVwqYBfZDSFo0R4Knvtttnby2p5QN7Fk1ap144zpPVMQFLmbj\n",
       "faJH5+MV8BH9ESIKl5YO55tSzSUiIWWEn0+Wk1RIbF3KG5ess7ywcT5m1crbkmCWsQ6FRKOWfJLm\n",
       "Te99HhsE4X1J8xHo7lUQ98xoS3izGpx4YFZNnvDO+CxuAbURxuOTR8h8YldJhKMnpzyV9JVRXCC+\n",
       "ps0twuRxJfAq2M5wVMnuTzCrGR6/O/1Z7iQ2ka6K/LpOE4rS5A0zIcIrpVx1wVOkFzvMvLbwxELl\n",
       "MKrYhWVK9nzxKzvIcprHN2Uuti+KK2D5glfk7ngwD/QzI+76Fir6uNnVIYSYTyTVwuutQhBD7FYx\n",
       "JaNwGPehJn6TVm6D99TMaHeU+0u6sozH/wBHZVmWXOKtaSag5kuedlnuhCgqvGLGrwx1wFA3DCUj\n",
       "PMZ9H9jcV6451WuhrpgK/6RJQY15Uh7k6/70H6cL3nBeBFG6cvAExJjJa8F6KjZnKC1fzyyNRBBC\n",
       "szF5KCZFiBE9fgmVvwpvpAZ4S/dCIRbmNK+VS7HUndeVlq3XZmvCyzCr13obmJ4g94Q6aWRK7a/w\n",
       "bARXd4NEmcQ7UN84dc7COxDUs8iv6EpGPji9R8NttLXS4SV06u+RrQqS+BkvMZ7hOumDcqe5zXhC\n",
       "zKf9x3tbWUydl7VwjqGRSy5eZLx8tTrb/4lHbbof8KCt3VEmEMvG03DoAxx53FdyO0ZJJsvKWv8l\n",
       "Cq2CjX85A9Zc3R0oSwAAAABJRU5ErkJggg==\n",
       "\" style=\"display:inline;vertical-align:middle;\" /></a></dd>"
      ],
      "text/plain": [
       "<IPython.core.display.HTML object>"
      ]
     },
     "metadata": {},
     "output_type": "display_data"
    },
    {
     "data": {
      "text/html": [
       "<dt><a class=\"ProveItLink\" href=\"axioms.ipynb#round_is_an_int\">proveit.numbers.rounding.round_is_an_int</a></dt><dd><a class=\"ProveItLink\" href=\"../__pv_it/axioms/b1499bd04cc9f6b8985a0dd083c886e41d9beb2a0/expr.ipynb\"><img src=\"data:image/png;base64,iVBORw0KGgoAAAANSUhEUgAAAL8AAAAUBAMAAAAuH/EYAAAAMFBMVEX///8QEBCIiIhmZma6urrM\n",
       "zMxUVFQiIiJERETc3Nzu7u6qqqp2dnaYmJgyMjIAAAAcRTyBAAAAAXRSTlMAQObYZgAAAxxJREFU\n",
       "OMulVV1IFFEU/nZ31p2ZnV0leugha9nNEAnaEnsIkVWJCII2ggrqQewHDFp6CCUSWTNqNYqlB7UH\n",
       "cUTYQoJd6CGMoMGiYItaysiEaKyngsLEIpWgc+/OzOrmLEIX7tw535053z3fOXMGKDWkXMltDBnr\n",
       "uM0+w3V288HmgTv2vt3dYchxwyhLFu3u3bxppquS48+Z/dXGy5cSpy/PwG/6lfWizeo6+BHn+CBT\n",
       "Ir66D1+4BMEBFW8sY6Jos55OrkQ47lcBJbO6D0+yBMEz4IJljBjrVEcHD2Y3pJZDedyXHRsbsPEx\n",
       "UCrBnyGdswx/hC9HayxEVPsM/Hci0WnjI0Sz6UxTkEINReRQACOq8PRWcCeJWl+1BCcpKAfbmkgH\n",
       "hYspL8vlax+rQIafAnptCK7T1G5kujEQkRdcQgW2QxEvIZ1EY1JchEgu7uJdoIt00IuKSY7zCmR4\n",
       "88oauF994pN5f5GqMdOOPaAQO4dcOhI45tExHJUrQZaHUpfFK3Uf4OVqiQU3ZdE2tjDcA6f5OckP\n",
       "a3NOBdmAYa8nSJ4HXIvAL9URwDqo6Qg+MsCjwUECq0TKvopZdj34nUb+tM2CZuJKzmPSTo2PgQim\n",
       "cwUCeOkRRxzSHNWl+yfwCIgxgIgcPLNzBYLBQgQ6RaOoHJf0w6yQ67ZGBZYpRqAVJGJSIK1BWaC6\n",
       "dFYADcAfmQAiYhKBkQICl8hh+VcyT7jJ8d6T5FaNeSJ+5Alqw8uS7CC28hxbrkCMT2MjvItKOoOY\n",
       "N8mS/MA5ixozyS5TW/RLLcAOA79HLG58A0Y5gev0efOxxzSHo/RiC3qAXWgMa9I8FP2tGPC1K6wG\n",
       "hSVxlnVEl2aFzEefqCI1ZeDlnHcBOJJIJAJO5eak1bKMiRfbSO5UcLw1SjFLZzNya1X/Fha/3FoT\n",
       "Yp3SH+UvpC6rfBU2zCS6f/QYuE/lWXKjLC+R97i6llaB5a3itrHuv9qxou+ZOIYVnUKO5nOQ1dbS\n",
       "7GjYN7t/8NTkRBa4xj60l9pogwn3liYQbdu1De6kHKz1h5PvB8VMdif431/me5t9wv8C9Ljg3BmZ\n",
       "/+kAAAAASUVORK5CYII=\n",
       "\" style=\"display:inline;vertical-align:middle;\" /></a></dd>"
      ],
      "text/plain": [
       "<IPython.core.display.HTML object>"
      ]
     },
     "metadata": {},
     "output_type": "display_data"
    },
    {
     "data": {
      "text/html": [
       "<dt><a class=\"ProveItLink\" href=\"axioms.ipynb#round_is_closest_int\">proveit.numbers.rounding.round_is_closest_int</a></dt><dd><a class=\"ProveItLink\" href=\"../__pv_it/axioms/7c2cf2003b37ef5a35cdd8540578c60f682b15aa0/expr.ipynb\"><img src=\"data:image/png;base64,iVBORw0KGgoAAAANSUhEUgAAAUIAAAAWBAMAAABH64j6AAAAMFBMVEX///8QEBCIiIhmZma6urrM\n",
       "zMxUVFQiIiJERETc3Nzu7u6qqqp2dnaYmJgyMjIAAAAcRTyBAAAAAXRSTlMAQObYZgAABFpJREFU\n",
       "SMfNl2toHFUUx/87O5N57Oy6iN9UGDYmLaHQxdCq0MZt/VBENPNJxQeN0RYKNQSR+iqyVpGJ1bqK\n",
       "ND4onT6IGqVZKFIi0g5JtbCWOmClpqAOPhAVJYRWzBbBc+/M7O6syexU/eCFZeacmXvub+553LPA\n",
       "5Y578K+GZCe390+WUl2c7PDKvuA6vfRjvdSmiLF3EpkK4LHbr5ISvhNrUXqmCK0cCF2V/4AQ24BP\n",
       "2e3PSQl/irWIK6rIhWCa14lwhdmZ8AjwOvNdOSFgthhPOGjj84YwE0+onTIS7KFuIEeRq1cTEsqV\n",
       "eMJTwBMN4UAsoXqDm8TLWh7Z2uTkeFInj8dbxHdQRxtCrhRDqI5UE8Uhvgf+sKydSQm7+TSx93CB\n",
       "PDTTXdK6DRywxU/eKFxPi67ruQSB4kArbNtILtaL0cm+2ieU9pSaGMzKK9EidLD3tVUGJ5wFtgBj\n",
       "SQlf4hZ15Rclj/GStpgW81hN8i5MVbChotShkO/exznjaQratlTx1T6hZbZslM6tRD7GyT4ie5zw\n",
       "a+CWaNYdW/ngt1HLD7x4Y39w+xS3eK88JJqgjd+5L+3BItnDflO7FiTJ5LwaPrNvBTKjUTu+2idc\n",
       "0ddC+Ba3EgkFW6+LFU54jKIfghuif9TvCjpqRuPV92bXU+zXQntXcYv2FK2SrgO/2ykDV3L5G6aQ\n",
       "HaToke2vJ80zk7/xwbbMVwdxeK7WJGRWFujuCH/1BzYLSjmIw800xZXDl7+cngQRnncb1WX3mzaq\n",
       "0pwbIcQJuqTKUBeovEgXuTzCFESa4gALDcLIWGjJ5eM3NdPBtxKtrEaTUPXuZMVrTa8pstBmhA5d\n",
       "Nw7hSYoANtI6Il7GAF2mHOiLVF6EPJf/1EhBpMzL8NcTR9uPnIut9fCOLQ3CAW4lMjabAeEm+o09\n",
       "RFz2iFzKwSfsZ6ROXcr7RyLmPohmCq5hH+ki5eB5csd5kjN1faqKkUyFZcqHwjz6/p4pvrp5ptz9\n",
       "XEhIVoYir2bs1YQUZgqO0rdK+BU4xAnTWx9l9erwqFDWeL3QDCecOcstqmwv0kN4FliLDUVHvQDd\n",
       "+0Ixsjt0VmLES8o8dRhIO5FVA3XLqbc3PPXWYtCNnk3Vl1kHwgjXhS7HInCXZVmGoL96lrvW6TKk\n",
       "xy1rF3TdVoNqtcmvh9x9p1fRWhOF6WGTZPXhqjbcs/c69kwb7utmrUjOjFYQX71U5zBRuDnaZkwU\n",
       "Dq53fUKWOFmbh7WELt/LmfuYQi6lTPC9v+1+6JVkpx5aT723L6O3GVj21AuDeb/ukYdMPw5rjvoC\n",
       "ZHMQ+Jg9Kxb53iXpHGgk7hyaGF2ediGmcwi29ewMFajdrEKecQ4NSFdDHN4DKJSZ2a3bz+wI54x1\n",
       "JFSSdF/aj4+xEcSh7CpGTPfVOgSKwyCZ8C5P3JUUh8k7WA5WbkftuIdiYc2yncOyB/I0tove0v8C\n",
       "ehL+C5hb+rFgtili7PUgW1numYvbT+P/Mf4CzIpWGA6LuG4AAAAASUVORK5CYII=\n",
       "\" style=\"display:inline;vertical-align:middle;\" /></a></dd>"
      ],
      "text/plain": [
       "<IPython.core.display.HTML object>"
      ]
     },
     "metadata": {},
     "output_type": "display_data"
    },
    {
     "data": {
      "text/html": [
       "<dt><a class=\"ProveItLink\" href=\"axioms.ipynb#round_up\">proveit.numbers.rounding.round_up</a></dt><dd><a class=\"ProveItLink\" href=\"../__pv_it/axioms/c21111007060f98dc51742c38c1e0dc8571b1c100/expr.ipynb\"><img src=\"data:image/png;base64,iVBORw0KGgoAAAANSUhEUgAAAWkAAAAXBAMAAAA7CqN4AAAAMFBMVEX///8QEBCIiIhmZma6urrM\n",
       "zMxUVFQiIiJERETc3Nzu7u6qqqp2dnaYmJgyMjIAAAAcRTyBAAAAAXRSTlMAQObYZgAABGhJREFU\n",
       "WMPVl3+IG0UUx7/ZbJLNZpMe4p8KIbGHnCcNVgVBy1VBT1C6+IcKFhtOT+gfPYIUQS0SK5ScUgwi\n",
       "bf2jdtuTU47iBRTlRHGpUCHKGbCiFsVgofirx1FUvCuC781kdye97Obujwu4EPK+814yn51582YG\n",
       "+B887yxdlMabS38MuOt0K9p/vPO9sNZ1JDDflQFttn8cxICFuxIvlmBWOyJZj6LOyYAv2P5tANS/\n",
       "Rvi2NJDzYM12H2oOOMaTV9186GwpwrnLwde+ONOHmgNyDmA1Np86VY9wfg4864uT/agpINucmzs6\n",
       "gASJ7OMC0pUAbKwPNQf8U6sdiFz7YQ5bscMGMuFbRUAffquQpwkujpnFPE46+tk3CrdQB3duvQKN\n",
       "Esgs7L2bZt8q9aI+Nfz6aF5Sc8AkMN2zx84ru2qbphjvB80W8MshYR2rdfWZ8cftMEUZvxtDODpm\n",
       "rsT1IWwjfRDzdeysG6swqC6exrf5F2j2xXJcXOLngkdtutmnU21JzQH3dK/aD2984mdpVXsUIkMx\n",
       "4oFnrxcNxRDPHZ7xPPBYqqzboIk9cDzeRo10Gyds83qQStHSauIr535600qPsbYca1WvS2oOSEHz\n",
       "6r/58faWZqGZV7rfjTBqs+zngRtKPesZ1wLOPI18fBX424nlcY3QP3FDykWMXA69Cf/bcg9qE0bV\n",
       "y2sOsFopz/vdwhyI+nxL6X4ylDqowEk7lNovw0SNT+kTqyJ9mUpd4i+hp7iB6GMilS6HUlNNz6vU\n",
       "6fbDXANvG7Z1TkmmdpXuK9KnwArJxs1+VZPRVvGhSYVaSH8eKUOwgz7zLqwVKnXakND/mtRA9Jwh\n",
       "4DehRVsJ8vpiQL3H9qhFwPSTxOpMpcZykNTbSwE1VSThC6ilZOoPkKzRc1hUNYoeSbb3K9RCZsrB\n",
       "asR1PGQtxFwcogk/Tzqzas03MJWp82r8SFvGiLcarxrrjLONeg5WI96rcIW6BMwI6vhT+5Wp1qvS\n",
       "F1BLydTjXuu4jLZzLTVDhNQ9+RmNAA9lvIyXgNuxs+Sm/4TV/sbIZ5+xuJrpV4xlPmLF3R7Uuxqv\n",
       "ivMVU4sAmTArwCM0cHnNeu2cSl2WvnEeVUfm9UqH+nHvX+/tRG+pC0Pn2JelTHgDd5839V+O0sTN\n",
       "FhYmbNLpfQ1zYuuRG9hnTowU+RiXs3tQzxZO3dXydhkOyDoiwxNIygzJ7HYC6kRV+pS8FtIQsEnO\n",
       "vUt4tBO9B+qyFFIvr2dHh7qjv91vR/cDTlhtmiVb5nVTWY1mRfoCaimZ+ge1HyoNy4tQSqCUWXc9\n",
       "pyd6NnZ66pTVc2eawCu8yyy6MzuUGvJcx+dTS8nUt/o1xOFoc98Do05ALWXc3xyno6mNDZ1Uu/Zr\n",
       "yutAye5vCq/X/q+1Rni9Xs+tQMBWr8YPozYic63azbmGOtNSQ0OoP9nwDez7ta7TgZnsGbCGWm+F\n",
       "Uc8EzQ+GUZulQd+MSz1un8maqAnp2kHwhuAf7erwLxZdNwzN2RS0/wC1P1N75IyV8AAAAABJRU5E\n",
       "rkJggg==\n",
       "\" style=\"display:inline;vertical-align:middle;\" /></a></dd>"
      ],
      "text/plain": [
       "<IPython.core.display.HTML object>"
      ]
     },
     "metadata": {},
     "output_type": "display_data"
    }
   ],
   "source": [
    "import proveit\n",
    "%theory # toggles between interactive and static modes"
   ]
  }
 ],
 "metadata": {
  "kernelspec": {
   "display_name": "Python 3",
   "language": "python",
   "name": "python3"
  }
 },
 "nbformat": 4,
 "nbformat_minor": 0
}