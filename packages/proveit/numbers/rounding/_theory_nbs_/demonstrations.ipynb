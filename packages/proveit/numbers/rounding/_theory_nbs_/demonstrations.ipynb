{
 "cells": [
  {
   "cell_type": "markdown",
   "metadata": {},
   "source": [
    "Demonstrations for the theory of <a class=\"ProveItLink\" href=\"theory.ipynb\">proveit.numbers.rounding</a>\n",
    "========"
   ]
  },
  {
   "cell_type": "code",
   "execution_count": 1,
   "metadata": {},
   "outputs": [],
   "source": [
    "import proveit\n",
    "from proveit import used_vars, free_vars\n",
    "from proveit import n, x, y\n",
    "from proveit.logic import InSet\n",
    "from proveit.numbers import Add, Mult, subtract\n",
    "from proveit.numbers import zero, one, two, three, Integer, Natural, Real, RealPos, Complex\n",
    "from proveit.numbers.rounding import Ceil, Floor, Round\n",
    "%begin demonstrations"
   ]
  },
  {
   "cell_type": "markdown",
   "metadata": {},
   "source": [
    "# Rounding: $\\textit{round}(x), \\lceil{x}\\rceil, \\lfloor{x}\\rfloor$"
   ]
  },
  {
   "cell_type": "markdown",
   "metadata": {},
   "source": [
    "<div style=\"line-height:1.4; font-size:14pt\">\n",
    "\n",
    "<a href='#introduction'>Introduction</a><br>\n",
    "<a href='#simple_expressions'>Simple Expressions involving Rounding: $\\text{Round}(x)$, $\\lfloor{x}\\rfloor$, $\\lceil{x}\\rceil$</a><br>\n",
    "<a href='#common_attributes'>Common Attributes of the Floor Expression $\\lfloor{x}\\rfloor$ </a><br>\n",
    "<a href='#axioms'>Axioms</a><br>\n",
    "<a href='#theorems'>Theorems</a><br>\n",
    "<a href='#further_demonstrations'>Further Demonstrations</a><br>\n",
    "    <ol>\n",
    "        <li><a href='#demo01'>Simplifying $\\text{Round}((x+y)+(1+2))$</a></li>\n",
    "        <li><a href='#demo02'>Simplification and deductions involving $\\text{Floor}(\\alpha, \\beta) = \\lfloor \\alpha + \\beta \\rfloor$</a></li>\n",
    "        <li><a href='#demo03'>Proving $\\forall_{x\\in\\mathbb{R}}(\\lceil x \\rceil + \\lfloor -x \\rfloor = 0)$ from the theorem $\\forall_{x\\in\\mathbb{R}}(\\lfloor x \\rfloor + \\lceil -x \\rceil = 0)$</a></li>\n",
    "    </ol>\n",
    "</div>"
   ]
  },
  {
   "cell_type": "markdown",
   "metadata": {},
   "source": [
    "<a id='introduction'></a>\n",
    "## Introduction "
   ]
  },
  {
   "cell_type": "markdown",
   "metadata": {},
   "source": [
    "<font size=4>The `Round`, `Ceil`, and `Floor` classes allow us to represent standard rounding functions that take arbitrary real numbers to nearby integers in the usual way: $\\text{Round}(x) = z$ represents the rounding of a real number $x$ to the nearest integer $z$; $\\text{Ceil}(x) = \\lceil{x}\\rceil = z$ represents the rounding of a real number x to the smallest integer $z$ that is greater than or equal to $x$; and $\\text{Floor}(x) = \\lfloor{x}\\rfloor = z$ represents the rounding of a real number x to the largest integer $z$ that is less than or equal to $x$. This ``_demonstrations_`` notebook explores the `Round`, `Ceil`, and `Floor` classes, their axioms and common theorems, and related methods.</font>"
   ]
  },
  {
   "cell_type": "markdown",
   "metadata": {},
   "source": [
    "<a id='simple_expressions'></a>\n",
    "## Simple Expressions Involving Rounding: $\\text{Round}(x)$, $\\text{Ceil}(x) = \\lceil{x}\\rceil$, $\\text{Floor}(x) = \\lfloor{x}\\rfloor$"
   ]
  },
  {
   "cell_type": "markdown",
   "metadata": {},
   "source": [
    "<font size=4>It is straightforward to construct expressions to represent the various types of rounding operations on real numbers. Here are some basic examples of such expressions:</font>"
   ]
  },
  {
   "cell_type": "code",
   "execution_count": 2,
   "metadata": {},
   "outputs": [
    {
     "data": {
      "text/html": [
       "<a class=\"ProveItLink\" href=\"../__pv_it/demonstrations/f40e1ab227f77d463f1ccbe994d8b59d118d805d0/expr.ipynb\"><img src=\"data:image/png;base64,iVBORw0KGgoAAAANSUhEUgAAAFEAAAAUBAMAAAAHNMzaAAAAMFBMVEX///+YmJjc3NxmZmYiIiLM\n",
       "zMwQEBCqqqoyMjJERER2dnbu7u5UVFSIiIi6uroAAAA5J+EfAAAAAXRSTlMAQObYZgAAAYdJREFU\n",
       "KM+NkztIw1AUhj+T2prExvfkYCuOgh1FFMRJxKGba10FoXR1MODgWhAEQSGDkw/MIA4iVp1cCoHi\n",
       "olaLg5tYBelQFc8NtYJD9C6H79z/v49zz4XQkWzEXJiodT2FlW9AeyJM2pGl7VtgOWHKZ4+eJuyH\n",
       "KbdhqglHYcoVtMkmtFWwb0/LvqxeqlglnyPP3hssT4A2dlUjnpITli+eZGszhWmsGhmGKtarbme4\n",
       "F96ikOAxYdQxOuGYXn8aWhzmImd2mhmYSeoOG8IOI2lrHqFIFnY58B4gNolXqIBeh3cv6rMY8IBK\n",
       "RFyiMuWJW1W3CssSo3m0DylL61vAlyohDqWEj2/lqMSCi/kqZYlnAn6xJCEOtTvKDbaUYUE9RydR\n",
       "l02MfL9wrG4WslzGEupGS/EqN8GNNGXRz1iDcR5TrvaJ6fQZfsusqUpj14yqJgbdDZaFnWs50kk5\n",
       "V0wLa+dZq3g1fKfmrOJNqUtVPh3edD+veRgu/G+HyDD+13VKkP9t+fN3dMMXE1dxt/bCHG0AAAAA\n",
       "SUVORK5CYII=\n",
       "\" style=\"display:inline;vertical-align:middle;\" /></a>"
      ],
      "text/plain": [
       "round(x)"
      ]
     },
     "execution_count": 2,
     "metadata": {},
     "output_type": "execute_result"
    }
   ],
   "source": [
    "# representing basic rounding of a real number x\n",
    "Round(x)"
   ]
  },
  {
   "cell_type": "code",
   "execution_count": 3,
   "metadata": {},
   "outputs": [
    {
     "data": {
      "text/html": [
       "<a class=\"ProveItLink\" href=\"../__pv_it/demonstrations/597906da596bf9d1d6f8968ee12f06736f950eb80/expr.ipynb\"><img src=\"data:image/png;base64,iVBORw0KGgoAAAANSUhEUgAAAD0AAAAVBAMAAAAHs/uBAAAAMFBMVEX///8QEBBmZmaqqqrMzMwi\n",
       "IiKYmJi6urqIiIh2dnbc3NxUVFQyMjJERETu7u4AAADasDZTAAAAAXRSTlMAQObYZgAAAMJJREFU\n",
       "KM9jeHvmNAMOwHXmzASG1Qx4AN8B/PIMJMtb0EL+RffyzgYUeb6mBoaFD6DyfBPYIlgPoMhzsgsw\n",
       "9MP0cz7g/Me+AEV+MdMBhrsweT4G3gtg0TlnzgSeAYfnA8YGhh8I9/E3oLuv/gHLF4S8vwO6vA4D\n",
       "hwBMnvlBPwPHA1T52wy8G2Dy9Qb3GZah6ddmqE+Ayb/ueKGWgCb/ukN/Af7w08Eavu8gFPcBvu/4\n",
       "4pc1gbcBnzx7hwo0fl7iTR8bAAqtTbNCmou2AAAAAElFTkSuQmCC\n",
       "\" style=\"display:inline;vertical-align:middle;\" /></a>"
      ],
      "text/plain": [
       "ceil(x + y)"
      ]
     },
     "execution_count": 3,
     "metadata": {},
     "output_type": "execute_result"
    }
   ],
   "source": [
    "# representing the ceiling of a real sum\n",
    "Ceil(Add(x, y))"
   ]
  },
  {
   "cell_type": "code",
   "execution_count": 4,
   "metadata": {},
   "outputs": [
    {
     "data": {
      "text/html": [
       "<a class=\"ProveItLink\" href=\"../__pv_it/demonstrations/da11fb63b956dbd7ec87c31508c10fd5d29aab790/expr.ipynb\"><img src=\"data:image/png;base64,iVBORw0KGgoAAAANSUhEUgAAAD0AAAAVBAMAAAAHs/uBAAAAMFBMVEX///9mZmaqqqrMzMxEREQy\n",
       "MjJ2dna6urqIiIgiIiIQEBBUVFTc3NyYmJju7u4AAABISk2iAAAAAXRSTlMAQObYZgAAALVJREFU\n",
       "KM9jeMuADzQwnMYrHzAk5F90H29rQBHna2xgOPUAKs+XwDuDMwBFno19AUM/TD/bA7Z/7AdQ5A8x\n",
       "BjC4wOT5GFgcwKJPQ0EgGMh6wNXA8APhPv4GdIfVP2D+jJC3N0CXF2XgWACTZ3rQz8DxAFXem4Fl\n",
       "A0y+XsGf4SyafmmG+gsw+dcdL2QvoMm/7pA/gD/8RPGFL3cA33d88pwXWBrwybN3CEPj59XM2bhc\n",
       "wBM50wEAubY/pBYxW9oAAAAASUVORK5CYII=\n",
       "\" style=\"display:inline;vertical-align:middle;\" /></a>"
      ],
      "text/plain": [
       "floor(x - y)"
      ]
     },
     "execution_count": 4,
     "metadata": {},
     "output_type": "execute_result"
    }
   ],
   "source": [
    "# representing the floor of a real difference\n",
    "Floor(subtract(x, y))"
   ]
  },
  {
   "cell_type": "markdown",
   "metadata": {},
   "source": [
    "<a id='common_attributes'></a>\n",
    "## Common Attributes of a Floor expression $\\lfloor{x}\\rfloor$"
   ]
  },
  {
   "cell_type": "markdown",
   "metadata": {},
   "source": [
    "<font size=4>Let's define a simple example `Floor()` expression, $\\lfloor{x-y}\\rfloor$, and look at some of its attributes.</font>"
   ]
  },
  {
   "cell_type": "code",
   "execution_count": 5,
   "metadata": {},
   "outputs": [
    {
     "data": {
      "text/html": [
       "<strong id=\"floor_x_minus_y\">floor_x_minus_y:</strong> <a class=\"ProveItLink\" href=\"../__pv_it/demonstrations/da11fb63b956dbd7ec87c31508c10fd5d29aab790/expr.ipynb\"><img src=\"data:image/png;base64,iVBORw0KGgoAAAANSUhEUgAAAD0AAAAVBAMAAAAHs/uBAAAAMFBMVEX///9mZmaqqqrMzMxEREQy\n",
       "MjJ2dna6urqIiIgiIiIQEBBUVFTc3NyYmJju7u4AAABISk2iAAAAAXRSTlMAQObYZgAAALVJREFU\n",
       "KM9jeMuADzQwnMYrHzAk5F90H29rQBHna2xgOPUAKs+XwDuDMwBFno19AUM/TD/bA7Z/7AdQ5A8x\n",
       "BjC4wOT5GFgcwKJPQ0EgGMh6wNXA8APhPv4GdIfVP2D+jJC3N0CXF2XgWACTZ3rQz8DxAFXem4Fl\n",
       "A0y+XsGf4SyafmmG+gsw+dcdL2QvoMm/7pA/gD/8RPGFL3cA33d88pwXWBrwybN3CEPj59XM2bhc\n",
       "wBM50wEAubY/pBYxW9oAAAAASUVORK5CYII=\n",
       "\" style=\"display:inline;vertical-align:middle;\" /></a><br>"
      ],
      "text/plain": [
       "floor_x_minus_y: floor(x - y)"
      ]
     },
     "execution_count": 5,
     "metadata": {},
     "output_type": "execute_result"
    }
   ],
   "source": [
    "floor_x_minus_y = Floor(subtract(x,y))"
   ]
  },
  {
   "cell_type": "code",
   "execution_count": 6,
   "metadata": {},
   "outputs": [
    {
     "data": {
      "text/html": [
       "<table><tr><th>&nbsp;</th><th>core type</th><th>sub-expressions</th><th>expression</th></tr>\n",
       "<tr><td>0</td><td>Operation</td><td>operator:&nbsp;1<br>operand:&nbsp;2<br></td><td><a class=\"ProveItLink\" href=\"../__pv_it/demonstrations/da11fb63b956dbd7ec87c31508c10fd5d29aab790/expr.ipynb\"><img src=\"data:image/png;base64,iVBORw0KGgoAAAANSUhEUgAAAD0AAAAVBAMAAAAHs/uBAAAAMFBMVEX///9mZmaqqqrMzMxEREQy\n",
       "MjJ2dna6urqIiIgiIiIQEBBUVFTc3NyYmJju7u4AAABISk2iAAAAAXRSTlMAQObYZgAAALVJREFU\n",
       "KM9jeMuADzQwnMYrHzAk5F90H29rQBHna2xgOPUAKs+XwDuDMwBFno19AUM/TD/bA7Z/7AdQ5A8x\n",
       "BjC4wOT5GFgcwKJPQ0EgGMh6wNXA8APhPv4GdIfVP2D+jJC3N0CXF2XgWACTZ3rQz8DxAFXem4Fl\n",
       "A0y+XsGf4SyafmmG+gsw+dcdL2QvoMm/7pA/gD/8RPGFL3cA33d88pwXWBrwybN3CEPj59XM2bhc\n",
       "wBM50wEAubY/pBYxW9oAAAAASUVORK5CYII=\n",
       "\" style=\"display:inline;vertical-align:middle;\" /></a></td></tr>\n",
       "<tr><td>1</td><td>Literal</td><td></td><td><a class=\"ProveItLink\" href=\"../__pv_it/common/6c084083358c4fee8d4be9f66e84060cea5608e90/expr.ipynb\"><img src=\"data:image/png;base64,iVBORw0KGgoAAAANSUhEUgAAADAAAAASBAMAAADvSECJAAAAMFBMVEX///8yMjJERETMzMwQEBCY\n",
       "mJgiIiK6urqqqqp2dnZUVFTc3NyIiIhmZmbu7u4AAADOOTK3AAAAAXRSTlMAQObYZgAAAN1JREFU\n",
       "GNNjYGBgeHt2A8OxzwyYYGV/AwPrB0xxvu/PGRh4FTAlOECKWQ5gSnAmAIn9BhjirFdyLzAwxANZ\n",
       "c84WgAn2U8/PgAzgBxGLGBi2FfD9BhOcTBJMDjBTfBgYMkEIRFiwLWAHifUDMfNvBt5/DAy/wMSD\n",
       "9wVgS6YBMY8DA4sCA/cfMAFWCgRaQMy04MH7CQycv8EEw0WIhA/IAQET+AMYWCAEgyfU4yCJugO8\n",
       "Cxh0GcAENyTc2EEeZ73JwDDzZAGEYE+AeBxLKIFAF2MAdomkh9jFGWJuYxcHAGI1RH3mKpG3AAAA\n",
       "AElFTkSuQmCC\n",
       "\" style=\"display:inline;vertical-align:middle;\" /></a></td></tr>\n",
       "<tr><td>2</td><td>Operation</td><td>operator:&nbsp;3<br>operands:&nbsp;4<br></td><td><a class=\"ProveItLink\" href=\"../__pv_it/demonstrations/8711a08b6cd1b1c437b5b7d020c2b12534f768d10/expr.ipynb\"><img src=\"data:image/png;base64,iVBORw0KGgoAAAANSUhEUgAAADAAAAANBAMAAAAdyPDHAAAAMFBMVEX///8QEBBmZmaqqqrMzMxE\n",
       "REQyMjIiIiKYmJh2dna6urrc3NxUVFSIiIju7u4AAAA6P00QAAAAAXRSTlMAQObYZgAAAJlJREFU\n",
       "GNNjYHh7Z9fNCwzI4K0uA7ccA98Ejlr2BBSJCQsZeD8wcD7g/Me1AVmc20CNgTWAgQ9EAAFfGhg4\n",
       "AFkMsgz8IMP5UW1gYOD6x+APVAAhkAFTAsNFBgbmB/cZeB+gSLAeYIhhYFhvEM+wA03HAa4fDAxv\n",
       "7r7VaECV4Dt76TcDdsCUgFX4GMP7BVglKhhisRu09hLQAwBd5Ce6/a5bXwAAAABJRU5ErkJggg==\n",
       "\" style=\"display:inline;vertical-align:middle;\" /></a></td></tr>\n",
       "<tr><td>3</td><td>Literal</td><td></td><td><a class=\"ProveItLink\" href=\"../../addition/__pv_it/common/4b7effaab3619a1c2c38fe2dee8601df8ec714590/expr.ipynb\"><img src=\"data:image/png;base64,iVBORw0KGgoAAAANSUhEUgAAAA4AAAAPBAMAAAAmOuNHAAAAHlBMVEX////u7u5UVFQQEBAiIiIy\n",
       "MjJ2dnaIiIiqqqoAAABCN83zAAAAAXRSTlMAQObYZgAAABxJREFUCNdjYECAdlLo1NBQ59DQIJL1\n",
       "AYEgEAMABwsItInrGUMAAAAASUVORK5CYII=\n",
       "\" style=\"display:inline;vertical-align:middle;\" /></a></td></tr>\n",
       "<tr><td>4</td><td>ExprTuple</td><td>5, 6</td><td><a class=\"ProveItLink\" href=\"../__pv_it/demonstrations/1b7b85dc1eff44d8c3f4a65d4db97501a7c219830/expr.ipynb\"><img src=\"data:image/png;base64,iVBORw0KGgoAAAANSUhEUgAAADwAAAAUBAMAAAAjLUMaAAAAMFBMVEX////MzMxUVFR2dna6uroQ\n",
       "EBCqqqqIiIgiIiJmZmYyMjJERETu7u6YmJjc3NwAAACgK8IjAAAAAXRSTlMAQObYZgAAAQhJREFU\n",
       "KM9jYOC7wIADsD0AEqcZcAI9IF6HW/oUAwPvBNzSzAUMHA9wS/MEMLxgwAOWMFQCyeNFT4oLUMSP\n",
       "T2fgi2FgsGTYCzTDgLedYwGKtIErA/sHBoZbDG1AFxxg/sOC4gS+hFkM3BsYGDIYQoC6wUyIV1aB\n",
       "wEIehnAGfqB18iBpBjATBbD8YZAXAEm3gXggJgrgXMBQCqQ8QE5jO1DPwH4ARZpbgWETA8hplgwM\n",
       "/gn7Gd4y8PxC1q3A8hdITQbqZzhUfnwuMNo6kAzgUa/8B6QWIgUq2wE02xl4GpCihBlJUovhvAM4\n",
       "Shj2wQMSSbqXYTskQhHJATnVuFeCvArSiTsx8T5gAADA10FMLDiCtwAAAABJRU5ErkJggg==\n",
       "\" style=\"display:inline;vertical-align:middle;\" /></a></td></tr>\n",
       "<tr><td>5</td><td>Variable</td><td></td><td><a class=\"ProveItLink\" href=\"../../../__pv_it/common/a0d9d672aa5e272d907247690c152cc2c6daafb70/expr.ipynb\"><img src=\"data:image/png;base64,iVBORw0KGgoAAAANSUhEUgAAAAsAAAAJBAMAAAAWSsseAAAALVBMVEX///9mZmaqqqrMzMxEREQy\n",
       "MjIiIiKYmJh2dna6urrc3NxUVFSIiIju7u4AAACJHQtQAAAAAXRSTlMAQObYZgAAAEJJREFUCNdj\n",
       "YLhzeuWJAwy8Dew5bAEMHBc43nIuYOBlYHFgAAG+A2DKzgBIMF04x8BzgWGegh/DcgaG22fuiBcw\n",
       "AAATyhBrnyPYZQAAAABJRU5ErkJggg==\n",
       "\" style=\"display:inline;vertical-align:middle;\" /></a></td></tr>\n",
       "<tr><td>6</td><td>Operation</td><td>operator:&nbsp;7<br>operand:&nbsp;8<br></td><td><a class=\"ProveItLink\" href=\"../__pv_it/demonstrations/8ec6798ea6f81e6baa769f589cc6b41ec9c9ff2e0/expr.ipynb\"><img src=\"data:image/png;base64,iVBORw0KGgoAAAANSUhEUgAAABoAAAANBAMAAABFt2PeAAAAMFBMVEX///8iIiKYmJhUVFRERESq\n",
       "qqq6urp2dnYQEBDc3NxmZmaIiIjMzMwyMjLu7u4AAABBcqZSAAAAAXRSTlMAQObYZgAAAGJJREFU\n",
       "CNdjYICC16sZOPtgHIaCDAbuDzAOZ8BaBhYHhrd3QeAOH0M3A/8GuEq2fwznD8B5XBcYdsA5DCwG\n",
       "DM4IHpcB2ycEj896108GJADUCQe2DO8TEDwhBm8kddm7gLYBAFRsGS/yktjbAAAAAElFTkSuQmCC\n",
       "\" style=\"display:inline;vertical-align:middle;\" /></a></td></tr>\n",
       "<tr><td>7</td><td>Literal</td><td></td><td><a class=\"ProveItLink\" href=\"../../negation/__pv_it/common/221b3c4d1770ee9051b7c044c3f9ec61196fc34b0/expr.ipynb\"><img src=\"data:image/png;base64,iVBORw0KGgoAAAANSUhEUgAAAA4AAAACBAMAAACapPCZAAAAD1BMVEX////MzMwyMjLu7u4AAAC4\n",
       "fJKRAAAAAXRSTlMAQObYZgAAABBJREFUCNdjMFICAUUGKAAADB8A/huHQ9UAAAAASUVORK5CYII=\n",
       "\" style=\"display:inline;vertical-align:middle;\" /></a></td></tr>\n",
       "<tr><td>8</td><td>Variable</td><td></td><td><a class=\"ProveItLink\" href=\"../../../__pv_it/common/ff7dba4ef0bbe791ab573bf2d9c220a304399ac80/expr.ipynb\"><img src=\"data:image/png;base64,iVBORw0KGgoAAAANSUhEUgAAAAsAAAANBAMAAACN24kIAAAAMFBMVEX///8iIiKYmJhUVFTMzMxE\n",
       "REQyMjKqqqq6urp2dnYQEBDc3NxmZmaIiIju7u4AAACH5sGpAAAAAXRSTlMAQObYZgAAAFlJREFU\n",
       "CNdj4LtzgWHXAwZOjgUM9xkYtvMkMIQyMDzgusDwl4GBof8ByxcgdYyBdwGQCmZgNQBShxn6FYDU\n",
       "47vnNzAwgGUZGJgT+H4AKUYF1gtAiuPuESAJAJGkFvXVdzA+AAAAAElFTkSuQmCC\n",
       "\" style=\"display:inline;vertical-align:middle;\" /></a></td></tr>\n",
       "</table>\n"
      ],
      "text/plain": [
       "0. floor(x - y)\n",
       "   core type: Operation\n",
       "   operator: 1\n",
       "   operand: 2\n",
       "1. floor\n",
       "   core type: Literal\n",
       "   sub-expressions: \n",
       "2. x - y\n",
       "   core type: Operation\n",
       "   operator: 3\n",
       "   operands: 4\n",
       "3. +\n",
       "   core type: Literal\n",
       "   sub-expressions: \n",
       "4. (x, -y)\n",
       "   core type: ExprTuple\n",
       "   sub-expressions: 5, 6\n",
       "5. x\n",
       "   core type: Variable\n",
       "   sub-expressions: \n",
       "6. -y\n",
       "   core type: Operation\n",
       "   operator: 7\n",
       "   operand: 8\n",
       "7. -\n",
       "   core type: Literal\n",
       "   sub-expressions: \n",
       "8. y\n",
       "   core type: Variable\n",
       "   sub-expressions: "
      ]
     },
     "execution_count": 6,
     "metadata": {},
     "output_type": "execute_result"
    }
   ],
   "source": [
    "floor_x_minus_y.expr_info()"
   ]
  },
  {
   "cell_type": "markdown",
   "metadata": {},
   "source": [
    "<font size=4>We can access the Floor operand $x-y$, and identify the `Floor` operator as the outermost operation:</font>"
   ]
  },
  {
   "cell_type": "code",
   "execution_count": 7,
   "metadata": {},
   "outputs": [
    {
     "data": {
      "text/html": [
       "<a class=\"ProveItLink\" href=\"../__pv_it/demonstrations/8711a08b6cd1b1c437b5b7d020c2b12534f768d10/expr.ipynb\"><img src=\"data:image/png;base64,iVBORw0KGgoAAAANSUhEUgAAADAAAAANBAMAAAAdyPDHAAAAMFBMVEX///8QEBBmZmaqqqrMzMxE\n",
       "REQyMjIiIiKYmJh2dna6urrc3NxUVFSIiIju7u4AAAA6P00QAAAAAXRSTlMAQObYZgAAAJlJREFU\n",
       "GNNjYHh7Z9fNCwzI4K0uA7ccA98Ejlr2BBSJCQsZeD8wcD7g/Me1AVmc20CNgTWAgQ9EAAFfGhg4\n",
       "AFkMsgz8IMP5UW1gYOD6x+APVAAhkAFTAsNFBgbmB/cZeB+gSLAeYIhhYFhvEM+wA03HAa4fDAxv\n",
       "7r7VaECV4Dt76TcDdsCUgFX4GMP7BVglKhhisRu09hLQAwBd5Ce6/a5bXwAAAABJRU5ErkJggg==\n",
       "\" style=\"display:inline;vertical-align:middle;\" /></a>"
      ],
      "text/plain": [
       "x - y"
      ]
     },
     "execution_count": 7,
     "metadata": {},
     "output_type": "execute_result"
    }
   ],
   "source": [
    "floor_x_minus_y.operand"
   ]
  },
  {
   "cell_type": "code",
   "execution_count": 8,
   "metadata": {},
   "outputs": [
    {
     "data": {
      "text/html": [
       "<a class=\"ProveItLink\" href=\"../__pv_it/common/6c084083358c4fee8d4be9f66e84060cea5608e90/expr.ipynb\"><img src=\"data:image/png;base64,iVBORw0KGgoAAAANSUhEUgAAADAAAAASBAMAAADvSECJAAAAMFBMVEX///8yMjJERETMzMwQEBCY\n",
       "mJgiIiK6urqqqqp2dnZUVFTc3NyIiIhmZmbu7u4AAADOOTK3AAAAAXRSTlMAQObYZgAAAN1JREFU\n",
       "GNNjYGBgeHt2A8OxzwyYYGV/AwPrB0xxvu/PGRh4FTAlOECKWQ5gSnAmAIn9BhjirFdyLzAwxANZ\n",
       "c84WgAn2U8/PgAzgBxGLGBi2FfD9BhOcTBJMDjBTfBgYMkEIRFiwLWAHifUDMfNvBt5/DAy/wMSD\n",
       "9wVgS6YBMY8DA4sCA/cfMAFWCgRaQMy04MH7CQycv8EEw0WIhA/IAQET+AMYWCAEgyfU4yCJugO8\n",
       "Cxh0GcAENyTc2EEeZ73JwDDzZAGEYE+AeBxLKIFAF2MAdomkh9jFGWJuYxcHAGI1RH3mKpG3AAAA\n",
       "AElFTkSuQmCC\n",
       "\" style=\"display:inline;vertical-align:middle;\" /></a>"
      ],
      "text/plain": [
       "floor"
      ]
     },
     "execution_count": 8,
     "metadata": {},
     "output_type": "execute_result"
    }
   ],
   "source": [
    "floor_x_minus_y.operator"
   ]
  },
  {
   "cell_type": "markdown",
   "metadata": {},
   "source": [
    "<font size=4>Notice in this case that the Floor's operand $x-y$ itself has operands $(x, -y)$ (because the subtract() expression is internally represented as an instance of `Add(x, -y))`:</font>"
   ]
  },
  {
   "cell_type": "markdown",
   "metadata": {},
   "source": [
    "<font size=4>We can also get a list of the variables and a list of the free variables:</font>"
   ]
  },
  {
   "cell_type": "code",
   "execution_count": 9,
   "metadata": {},
   "outputs": [
    {
     "data": {
      "text/plain": [
       "{x, y}"
      ]
     },
     "execution_count": 9,
     "metadata": {},
     "output_type": "execute_result"
    }
   ],
   "source": [
    "used_vars(floor_x_minus_y)"
   ]
  },
  {
   "cell_type": "code",
   "execution_count": 10,
   "metadata": {},
   "outputs": [
    {
     "data": {
      "text/plain": [
       "{x, y}"
      ]
     },
     "execution_count": 10,
     "metadata": {},
     "output_type": "execute_result"
    }
   ],
   "source": [
    "free_vars(floor_x_minus_y, err_inclusively=True)"
   ]
  },
  {
   "cell_type": "markdown",
   "metadata": {},
   "source": [
    "<font size=4>And of course, we can reach down inside and look at the structure of the operand itself, which in this case consists of an Add() expression (even though we created it using the subtract() function):</font>"
   ]
  },
  {
   "cell_type": "code",
   "execution_count": 11,
   "metadata": {},
   "outputs": [
    {
     "data": {
      "text/html": [
       "<a class=\"ProveItLink\" href=\"../../addition/__pv_it/common/4b7effaab3619a1c2c38fe2dee8601df8ec714590/expr.ipynb\"><img src=\"data:image/png;base64,iVBORw0KGgoAAAANSUhEUgAAAA4AAAAPBAMAAAAmOuNHAAAAHlBMVEX////u7u5UVFQQEBAiIiIy\n",
       "MjJ2dnaIiIiqqqoAAABCN83zAAAAAXRSTlMAQObYZgAAABxJREFUCNdjYECAdlLo1NBQ59DQIJL1\n",
       "AYEgEAMABwsItInrGUMAAAAASUVORK5CYII=\n",
       "\" style=\"display:inline;vertical-align:middle;\" /></a>"
      ],
      "text/plain": [
       "+"
      ]
     },
     "execution_count": 11,
     "metadata": {},
     "output_type": "execute_result"
    }
   ],
   "source": [
    "# operator inside the operand inside the Floor\n",
    "floor_x_minus_y.operand.operator"
   ]
  },
  {
   "cell_type": "code",
   "execution_count": 12,
   "metadata": {},
   "outputs": [
    {
     "data": {
      "text/html": [
       "<a class=\"ProveItLink\" href=\"../__pv_it/demonstrations/1b7b85dc1eff44d8c3f4a65d4db97501a7c219830/expr.ipynb\"><img src=\"data:image/png;base64,iVBORw0KGgoAAAANSUhEUgAAADwAAAAUBAMAAAAjLUMaAAAAMFBMVEX////MzMxUVFR2dna6uroQ\n",
       "EBCqqqqIiIgiIiJmZmYyMjJERETu7u6YmJjc3NwAAACgK8IjAAAAAXRSTlMAQObYZgAAAQhJREFU\n",
       "KM9jYOC7wIADsD0AEqcZcAI9IF6HW/oUAwPvBNzSzAUMHA9wS/MEMLxgwAOWMFQCyeNFT4oLUMSP\n",
       "T2fgi2FgsGTYCzTDgLedYwGKtIErA/sHBoZbDG1AFxxg/sOC4gS+hFkM3BsYGDIYQoC6wUyIV1aB\n",
       "wEIehnAGfqB18iBpBjATBbD8YZAXAEm3gXggJgrgXMBQCqQ8QE5jO1DPwH4ARZpbgWETA8hplgwM\n",
       "/gn7Gd4y8PxC1q3A8hdITQbqZzhUfnwuMNo6kAzgUa/8B6QWIgUq2wE02xl4GpCihBlJUovhvAM4\n",
       "Shj2wQMSSbqXYTskQhHJATnVuFeCvArSiTsx8T5gAADA10FMLDiCtwAAAABJRU5ErkJggg==\n",
       "\" style=\"display:inline;vertical-align:middle;\" /></a>"
      ],
      "text/plain": [
       "(x, -y)"
      ]
     },
     "execution_count": 12,
     "metadata": {},
     "output_type": "execute_result"
    }
   ],
   "source": [
    "floor_x_minus_y.operand.operands"
   ]
  },
  {
   "cell_type": "code",
   "execution_count": 13,
   "metadata": {},
   "outputs": [
    {
     "data": {
      "text/html": [
       "<table><tr><th>&nbsp;</th><th>core type</th><th>sub-expressions</th><th>expression</th></tr>\n",
       "<tr><td>0</td><td>Operation</td><td>operator:&nbsp;1<br>operands:&nbsp;2<br></td><td><a class=\"ProveItLink\" href=\"../__pv_it/demonstrations/8711a08b6cd1b1c437b5b7d020c2b12534f768d10/expr.ipynb\"><img src=\"data:image/png;base64,iVBORw0KGgoAAAANSUhEUgAAADAAAAANBAMAAAAdyPDHAAAAMFBMVEX///8QEBBmZmaqqqrMzMxE\n",
       "REQyMjIiIiKYmJh2dna6urrc3NxUVFSIiIju7u4AAAA6P00QAAAAAXRSTlMAQObYZgAAAJlJREFU\n",
       "GNNjYHh7Z9fNCwzI4K0uA7ccA98Ejlr2BBSJCQsZeD8wcD7g/Me1AVmc20CNgTWAgQ9EAAFfGhg4\n",
       "AFkMsgz8IMP5UW1gYOD6x+APVAAhkAFTAsNFBgbmB/cZeB+gSLAeYIhhYFhvEM+wA03HAa4fDAxv\n",
       "7r7VaECV4Dt76TcDdsCUgFX4GMP7BVglKhhisRu09hLQAwBd5Ce6/a5bXwAAAABJRU5ErkJggg==\n",
       "\" style=\"display:inline;vertical-align:middle;\" /></a></td></tr>\n",
       "<tr><td>1</td><td>Literal</td><td></td><td><a class=\"ProveItLink\" href=\"../../addition/__pv_it/common/4b7effaab3619a1c2c38fe2dee8601df8ec714590/expr.ipynb\"><img src=\"data:image/png;base64,iVBORw0KGgoAAAANSUhEUgAAAA4AAAAPBAMAAAAmOuNHAAAAHlBMVEX////u7u5UVFQQEBAiIiIy\n",
       "MjJ2dnaIiIiqqqoAAABCN83zAAAAAXRSTlMAQObYZgAAABxJREFUCNdjYECAdlLo1NBQ59DQIJL1\n",
       "AYEgEAMABwsItInrGUMAAAAASUVORK5CYII=\n",
       "\" style=\"display:inline;vertical-align:middle;\" /></a></td></tr>\n",
       "<tr><td>2</td><td>ExprTuple</td><td>3, 4</td><td><a class=\"ProveItLink\" href=\"../__pv_it/demonstrations/1b7b85dc1eff44d8c3f4a65d4db97501a7c219830/expr.ipynb\"><img src=\"data:image/png;base64,iVBORw0KGgoAAAANSUhEUgAAADwAAAAUBAMAAAAjLUMaAAAAMFBMVEX////MzMxUVFR2dna6uroQ\n",
       "EBCqqqqIiIgiIiJmZmYyMjJERETu7u6YmJjc3NwAAACgK8IjAAAAAXRSTlMAQObYZgAAAQhJREFU\n",
       "KM9jYOC7wIADsD0AEqcZcAI9IF6HW/oUAwPvBNzSzAUMHA9wS/MEMLxgwAOWMFQCyeNFT4oLUMSP\n",
       "T2fgi2FgsGTYCzTDgLedYwGKtIErA/sHBoZbDG1AFxxg/sOC4gS+hFkM3BsYGDIYQoC6wUyIV1aB\n",
       "wEIehnAGfqB18iBpBjATBbD8YZAXAEm3gXggJgrgXMBQCqQ8QE5jO1DPwH4ARZpbgWETA8hplgwM\n",
       "/gn7Gd4y8PxC1q3A8hdITQbqZzhUfnwuMNo6kAzgUa/8B6QWIgUq2wE02xl4GpCihBlJUovhvAM4\n",
       "Shj2wQMSSbqXYTskQhHJATnVuFeCvArSiTsx8T5gAADA10FMLDiCtwAAAABJRU5ErkJggg==\n",
       "\" style=\"display:inline;vertical-align:middle;\" /></a></td></tr>\n",
       "<tr><td>3</td><td>Variable</td><td></td><td><a class=\"ProveItLink\" href=\"../../../__pv_it/common/a0d9d672aa5e272d907247690c152cc2c6daafb70/expr.ipynb\"><img src=\"data:image/png;base64,iVBORw0KGgoAAAANSUhEUgAAAAsAAAAJBAMAAAAWSsseAAAALVBMVEX///9mZmaqqqrMzMxEREQy\n",
       "MjIiIiKYmJh2dna6urrc3NxUVFSIiIju7u4AAACJHQtQAAAAAXRSTlMAQObYZgAAAEJJREFUCNdj\n",
       "YLhzeuWJAwy8Dew5bAEMHBc43nIuYOBlYHFgAAG+A2DKzgBIMF04x8BzgWGegh/DcgaG22fuiBcw\n",
       "AAATyhBrnyPYZQAAAABJRU5ErkJggg==\n",
       "\" style=\"display:inline;vertical-align:middle;\" /></a></td></tr>\n",
       "<tr><td>4</td><td>Operation</td><td>operator:&nbsp;5<br>operand:&nbsp;6<br></td><td><a class=\"ProveItLink\" href=\"../__pv_it/demonstrations/8ec6798ea6f81e6baa769f589cc6b41ec9c9ff2e0/expr.ipynb\"><img src=\"data:image/png;base64,iVBORw0KGgoAAAANSUhEUgAAABoAAAANBAMAAABFt2PeAAAAMFBMVEX///8iIiKYmJhUVFRERESq\n",
       "qqq6urp2dnYQEBDc3NxmZmaIiIjMzMwyMjLu7u4AAABBcqZSAAAAAXRSTlMAQObYZgAAAGJJREFU\n",
       "CNdjYICC16sZOPtgHIaCDAbuDzAOZ8BaBhYHhrd3QeAOH0M3A/8GuEq2fwznD8B5XBcYdsA5DCwG\n",
       "DM4IHpcB2ycEj896108GJADUCQe2DO8TEDwhBm8kddm7gLYBAFRsGS/yktjbAAAAAElFTkSuQmCC\n",
       "\" style=\"display:inline;vertical-align:middle;\" /></a></td></tr>\n",
       "<tr><td>5</td><td>Literal</td><td></td><td><a class=\"ProveItLink\" href=\"../../negation/__pv_it/common/221b3c4d1770ee9051b7c044c3f9ec61196fc34b0/expr.ipynb\"><img src=\"data:image/png;base64,iVBORw0KGgoAAAANSUhEUgAAAA4AAAACBAMAAACapPCZAAAAD1BMVEX////MzMwyMjLu7u4AAAC4\n",
       "fJKRAAAAAXRSTlMAQObYZgAAABBJREFUCNdjMFICAUUGKAAADB8A/huHQ9UAAAAASUVORK5CYII=\n",
       "\" style=\"display:inline;vertical-align:middle;\" /></a></td></tr>\n",
       "<tr><td>6</td><td>Variable</td><td></td><td><a class=\"ProveItLink\" href=\"../../../__pv_it/common/ff7dba4ef0bbe791ab573bf2d9c220a304399ac80/expr.ipynb\"><img src=\"data:image/png;base64,iVBORw0KGgoAAAANSUhEUgAAAAsAAAANBAMAAACN24kIAAAAMFBMVEX///8iIiKYmJhUVFTMzMxE\n",
       "REQyMjKqqqq6urp2dnYQEBDc3NxmZmaIiIju7u4AAACH5sGpAAAAAXRSTlMAQObYZgAAAFlJREFU\n",
       "CNdj4LtzgWHXAwZOjgUM9xkYtvMkMIQyMDzgusDwl4GBof8ByxcgdYyBdwGQCmZgNQBShxn6FYDU\n",
       "47vnNzAwgGUZGJgT+H4AKUYF1gtAiuPuESAJAJGkFvXVdzA+AAAAAElFTkSuQmCC\n",
       "\" style=\"display:inline;vertical-align:middle;\" /></a></td></tr>\n",
       "</table>\n"
      ],
      "text/plain": [
       "0. x - y\n",
       "   core type: Operation\n",
       "   operator: 1\n",
       "   operands: 2\n",
       "1. +\n",
       "   core type: Literal\n",
       "   sub-expressions: \n",
       "2. (x, -y)\n",
       "   core type: ExprTuple\n",
       "   sub-expressions: 3, 4\n",
       "3. x\n",
       "   core type: Variable\n",
       "   sub-expressions: \n",
       "4. -y\n",
       "   core type: Operation\n",
       "   operator: 5\n",
       "   operand: 6\n",
       "5. -\n",
       "   core type: Literal\n",
       "   sub-expressions: \n",
       "6. y\n",
       "   core type: Variable\n",
       "   sub-expressions: "
      ]
     },
     "execution_count": 13,
     "metadata": {},
     "output_type": "execute_result"
    }
   ],
   "source": [
    "# info about the operand itself\n",
    "floor_x_minus_y.operand.expr_info()"
   ]
  },
  {
   "cell_type": "markdown",
   "metadata": {},
   "source": [
    "## Axioms <a id='axioms'></a>"
   ]
  },
  {
   "cell_type": "markdown",
   "metadata": {},
   "source": [
    "<font size=4>The axioms for the rounding theory establish the basic properties of the `Ceil`, `Floor`, and `Round` class functions. Some examples are shown below (and the entire complement of axioms can be found in the notebook `proveit.numbers.rounding .ipynb`).</font>"
   ]
  },
  {
   "cell_type": "code",
   "execution_count": 14,
   "metadata": {},
   "outputs": [],
   "source": [
    "from proveit.numbers.rounding  import (ceil_is_an_int, ceil_of_x_greater_eq_x, round_up)"
   ]
  },
  {
   "cell_type": "code",
   "execution_count": 15,
   "metadata": {},
   "outputs": [
    {
     "data": {
      "text/html": [
       "<span style=\"font-size:20px;\"> <a class=\"ProveItLink\" href=\"axioms.ipynb#ceil_is_an_int\" style=\"text-decoration: none\">&nbsp;&#x22A2;&nbsp;&nbsp;</a><a class=\"ProveItLink\" href=\"../__pv_it/axioms/d07cafac8d313ba73f4c1953a7db1fda424bff0f0/expr.ipynb\"><img src=\"data:image/png;base64,iVBORw0KGgoAAAANSUhEUgAAAIoAAAAVBAMAAABrmWvBAAAAMFBMVEX///8QEBCIiIhmZma6urrM\n",
       "zMxUVFQiIiJERETc3Nzu7u6qqqp2dnaYmJgyMjIAAAAcRTyBAAAAAXRSTlMAQObYZgAAAi1JREFU\n",
       "OMudlD9oFEEUxj82t7nbzdx5hWCquCQgkuowpBOJsQhKiqu0CeRQI14RiSBYGIJo4V4k4bCIdi4E\n",
       "RA45AhaipFguFrIB3SKgCJEzaKHgcgqCYuPM7M7suu5eotPMm3+/mffeNw/YpenLXoUbmufZ+K+m\n",
       "udAqIbCduKmvDvCV7RTKQ0QpiFEyl796B967qAKbbPw5hfKpK0W5WUY7BzSBe+zh15Mh+VJXSo8N\n",
       "svYcIAYKFu3WkinZeiIlf+vqAqdYWFHpRXoReafRuJviEJv/m6LesOTMYo7ZH4AfpjmfQhkKKPpg\n",
       "dbwlKc0Qkjd4XjaAGaCWQlkKKI/w2liQlGokhzqP6DvgxJ86eHL43I6wrwUUB6+sk5ISScVMb52f\n",
       "oSGE4gpZrY+4CoFjBOP9AcWCGcZFHfBo8wVTmuT9NE2QmxXoN08boJS3bowCfAspEVkU2LscTtHa\n",
       "p+lEa/RQOVNiUqIUO+YR1O+RHBUlZZOM8eEEtWvn6VnrUnasAJ8yUopF95nSwbCkHJG/rLJCRVPk\n",
       "0cXjOXoZvgCrnNJz4YrYtuFTMr9yHc2VlKzQaM5ahD5LnTpKB/t4MH8CZ0zTNBRyZ0tQJnyKfnZ4\n",
       "aDv0SL94yl8+vtxvHuynD//IpMNUpHZU9Poe9U1Z3X9A5oX/A2TFmAuM+6RNQMp+XBx7b79RNCKU\n",
       "8WCrRTN2mynopb16TKzX9kRpxgoGjcs/VKnIXbtVTD1SbCvJVaiO30pZmvo6YvYwAAAAAElFTkSu\n",
       "QmCC\n",
       "\" style=\"display:inline;vertical-align:middle;\" /></a></span>"
      ],
      "text/plain": [
       "|- forall_{x in Real} (ceil(x) in Integer)"
      ]
     },
     "execution_count": 15,
     "metadata": {},
     "output_type": "execute_result"
    }
   ],
   "source": [
    "# When defined, Ceil is always an integer\n",
    "ceil_is_an_int"
   ]
  },
  {
   "cell_type": "code",
   "execution_count": 16,
   "metadata": {},
   "outputs": [
    {
     "data": {
      "text/html": [
       "<span style=\"font-size:20px;\"> <a class=\"ProveItLink\" href=\"axioms.ipynb#ceil_of_x_greater_eq_x\" style=\"text-decoration: none\">&nbsp;&#x22A2;&nbsp;&nbsp;</a><a class=\"ProveItLink\" href=\"../__pv_it/axioms/ad0a500cb13782c1142c44fb77ca5a5ab8de8d5f0/expr.ipynb\"><img src=\"data:image/png;base64,iVBORw0KGgoAAAANSUhEUgAAAIoAAAAVBAMAAABrmWvBAAAAMFBMVEX///8QEBCIiIhmZma6urrM\n",
       "zMxUVFQiIiJERETc3Nzu7u6qqqp2dnaYmJgyMjIAAAAcRTyBAAAAAXRSTlMAQObYZgAAAhlJREFU\n",
       "OMtjYCAAuPreJYAZnO/eHWAgC3BeYOBMQBj4AKsi7gkMDGCZuzhMWcGAbAoDdlMYMhkYToPoVzhM\n",
       "eYnFFK7iBWiq1jEwzAA5vAG7IbwG2NzC/WwCqjIeBQY+oMk8G7Cbwj4Bq49YngWgRoAAA++pVaum\n",
       "4/AQSBxbuLB2OKCoe8LA8KOjowaHKcpQU7iUMp0OIYcuZx7E9YvUpugoMDAcZmBIZWDoxGFKL9SU\n",
       "NQzXFepQ4ojTHBQ2XAd4i9iBgvcYGJxR08F2jeRHMHY11JRTDOcXeKKYwlsMDtYFPL9YgMZtBwYh\n",
       "A9MFWDDtMb7AxMNwSgHKF4GasoChAzW9MNWAY5uLgQMcu/FAAy+wwyRv7FzFADTl1gU0UxgYPqGY\n",
       "sqYIpoNfAWoK54MwIOOQqVoAiwHIGqApB9B8xMD6FdmUybVwn8WD49wdiDtTgHoX5LE78DFATDE2\n",
       "QAvdXUwfGLTgpkx7Dc9BC/SBOsGhy7C5AGgZw1sGhsVgU5jTSmCqDkNMYfnN8YHzAjwHtMBd4r+h\n",
       "n2EukLaB++0nA0N4R0eHAhPPpCswVe4QU7iStJTvYsuNy5QW2YJMfwqKNVB4s35gZWCD+Ig7ZgH+\n",
       "HIBRBBVAGfN5HvAw8ARAwuXUAby5EQPwwFLGsiuHTjEwdINS3bkDi+1g8p3YSobn5SAQgFIyIAMm\n",
       "YLiQUUp1Ei4xuZAK2wTspdAEBgA4hZXtUbDWswAAAABJRU5ErkJggg==\n",
       "\" style=\"display:inline;vertical-align:middle;\" /></a></span>"
      ],
      "text/plain": [
       "|- forall_{x in Real} (ceil(x) >= x)"
      ]
     },
     "execution_count": 16,
     "metadata": {},
     "output_type": "execute_result"
    }
   ],
   "source": [
    "# When defined, Ceil(x) is always greater than or equal to x\n",
    "ceil_of_x_greater_eq_x"
   ]
  },
  {
   "cell_type": "code",
   "execution_count": 17,
   "metadata": {},
   "outputs": [
    {
     "data": {
      "text/html": [
       "<span style=\"font-size:20px;\"> <a class=\"ProveItLink\" href=\"axioms.ipynb#round_up\" style=\"text-decoration: none\">&nbsp;&#x22A2;&nbsp;&nbsp;</a><a class=\"ProveItLink\" href=\"../__pv_it/axioms/f682e97c300adaccdf99bca1fdb866ce6de075260/expr.ipynb\"><img src=\"data:image/png;base64,iVBORw0KGgoAAAANSUhEUgAAAWkAAAAXBAMAAAA7CqN4AAAAMFBMVEX///8QEBCIiIhmZma6urrM\n",
       "zMxUVFQiIiJERETc3Nzu7u6qqqp2dnaYmJgyMjIAAAAcRTyBAAAAAXRSTlMAQObYZgAABGhJREFU\n",
       "WMPVl3+IG0UUx7/ZbJLNZpMe4p8KIbGHnCcNVgVBy1VBT1C6+IcKFhtOT+gfPYIUQS0SK5ScUgwi\n",
       "bf2jdtuTU47iBRTlRHGpUCHKGbCiFsVgofirx1FUvCuC781kdye97Obujwu4EPK+814yn51582YG\n",
       "+B887yxdlMabS38MuOt0K9p/vPO9sNZ1JDDflQFttn8cxICFuxIvlmBWOyJZj6LOyYAv2P5tANS/\n",
       "Rvi2NJDzYM12H2oOOMaTV9186GwpwrnLwde+ONOHmgNyDmA1Np86VY9wfg4864uT/agpINucmzs6\n",
       "gASJ7OMC0pUAbKwPNQf8U6sdiFz7YQ5bscMGMuFbRUAffquQpwkujpnFPE46+tk3CrdQB3duvQKN\n",
       "Esgs7L2bZt8q9aI+Nfz6aF5Sc8AkMN2zx84ru2qbphjvB80W8MshYR2rdfWZ8cftMEUZvxtDODpm\n",
       "rsT1IWwjfRDzdeysG6swqC6exrf5F2j2xXJcXOLngkdtutmnU21JzQH3dK/aD2984mdpVXsUIkMx\n",
       "4oFnrxcNxRDPHZ7xPPBYqqzboIk9cDzeRo10Gyds83qQStHSauIr535600qPsbYca1WvS2oOSEHz\n",
       "6r/58faWZqGZV7rfjTBqs+zngRtKPesZ1wLOPI18fBX424nlcY3QP3FDykWMXA69Cf/bcg9qE0bV\n",
       "y2sOsFopz/vdwhyI+nxL6X4ylDqowEk7lNovw0SNT+kTqyJ9mUpd4i+hp7iB6GMilS6HUlNNz6vU\n",
       "6fbDXANvG7Z1TkmmdpXuK9KnwArJxs1+VZPRVvGhSYVaSH8eKUOwgz7zLqwVKnXakND/mtRA9Jwh\n",
       "4DehRVsJ8vpiQL3H9qhFwPSTxOpMpcZykNTbSwE1VSThC6ilZOoPkKzRc1hUNYoeSbb3K9RCZsrB\n",
       "asR1PGQtxFwcogk/Tzqzas03MJWp82r8SFvGiLcarxrrjLONeg5WI96rcIW6BMwI6vhT+5Wp1qvS\n",
       "F1BLydTjXuu4jLZzLTVDhNQ9+RmNAA9lvIyXgNuxs+Sm/4TV/sbIZ5+xuJrpV4xlPmLF3R7Uuxqv\n",
       "ivMVU4sAmTArwCM0cHnNeu2cSl2WvnEeVUfm9UqH+nHvX+/tRG+pC0Pn2JelTHgDd5839V+O0sTN\n",
       "FhYmbNLpfQ1zYuuRG9hnTowU+RiXs3tQzxZO3dXydhkOyDoiwxNIygzJ7HYC6kRV+pS8FtIQsEnO\n",
       "vUt4tBO9B+qyFFIvr2dHh7qjv91vR/cDTlhtmiVb5nVTWY1mRfoCaimZ+ge1HyoNy4tQSqCUWXc9\n",
       "pyd6NnZ66pTVc2eawCu8yyy6MzuUGvJcx+dTS8nUt/o1xOFoc98Do05ALWXc3xyno6mNDZ1Uu/Zr\n",
       "yutAye5vCq/X/q+1Rni9Xs+tQMBWr8YPozYic63azbmGOtNSQ0OoP9nwDez7ta7TgZnsGbCGWm+F\n",
       "Uc8EzQ+GUZulQd+MSz1un8maqAnp2kHwhuAf7erwLxZdNwzN2RS0/wC1P1N75IyV8AAAAABJRU5E\n",
       "rkJggg==\n",
       "\" style=\"display:inline;vertical-align:middle;\" /></a></span>"
      ],
      "text/plain": [
       "|- forall_{x in Real | (x - floor(x)) = (ceil(x) - x)} (round(x) = ceil(x))"
      ]
     },
     "execution_count": 17,
     "metadata": {},
     "output_type": "execute_result"
    }
   ],
   "source": [
    "# The round function rounds up for reals mid-way between two integers\n",
    "round_up"
   ]
  },
  {
   "cell_type": "markdown",
   "metadata": {},
   "source": [
    "## Theorems <a id='theorems'></a>"
   ]
  },
  {
   "cell_type": "markdown",
   "metadata": {},
   "source": [
    "<font size=4>The theorems for the rounding theory capture many of the basic derivable properties of the `Ceil`, `Floor`, and `Round` class functions. Many of the theorems are then used for related class methods.<br/>\n",
    "Below we show a few examples of such theorems (the current collection of theorems can be found in the notebook `proveit.numbers.rounding._theorems_.ipynb`):</font>"
   ]
  },
  {
   "cell_type": "code",
   "execution_count": 18,
   "metadata": {},
   "outputs": [],
   "source": [
    "from proveit.numbers.rounding import (\n",
    "        ceil_of_integer, floor_of_sum_greater_eq, floor_of_floor,\n",
    "        floor_plus_ceil_of_neg, round_in_terms_of_floor)"
   ]
  },
  {
   "cell_type": "code",
   "execution_count": 19,
   "metadata": {},
   "outputs": [
    {
     "data": {
      "text/html": [
       "<span style=\"font-size:20px;\"> <a class=\"ProveItLink\" href=\"proofs/ceil_of_integer/thm_proof.ipynb\" style=\"text-decoration: none\">&nbsp;&#x22A2;&nbsp;&nbsp;</a><a class=\"ProveItLink\" href=\"../__pv_it/theorems/e62740a96e713bfe3b6571aa94339739aef0a53d0/expr.ipynb\"><img src=\"data:image/png;base64,iVBORw0KGgoAAAANSUhEUgAAAIkAAAAVBAMAAACArtDCAAAAMFBMVEX///8QEBCIiIhmZma6urrM\n",
       "zMxUVFQiIiJERETc3Nzu7u6qqqp2dnaYmJgyMjIAAAAcRTyBAAAAAXRSTlMAQObYZgAAAeVJREFU\n",
       "OMudlE1IAkEUx//50eo62rWjGHiQICE6BlKnTnmqUxRRQZeIbkGE0GWlQx6ioqg2gwqJEKKD0UHs\n",
       "lEUtFH0cAiEoiBIJgj4uzTi7mTXR2sC6b31vf/Pe/+0b4I+1kb/lxlL+Af9bi8BM6WlLHJSiV44Z\n",
       "12K/HCmjeMRR1THgkBn3Yr8nZoYi00Tm6N0ZEftPYYaCDHWpAEmK3aPmKCuAO5tIzIq9zmFzFE8I\n",
       "eFGUMbHXEtQpcf90vVdAkX2DLbQcQuP6gaiY4tA4RU67R6ScQTnOs3XDzE1ceMdpOdTXWhS51Lfa\n",
       "/YkgN6UkpxCVvNliglyyOFHbABetXIJFMzLca9SkGImr/LEqpOcCR0SoiwqF3ewFupMmGf9ephJw\n",
       "oWsR5RSgxvuLuk8GxZnrYD1v8odtvJJgGuUVAd3hEoXrwofL/sx+bayX0T7aDnVICvEo90L4m7ou\n",
       "tYEGCHLZtRQQ4Opim6LseARWi644MYKI3un25BSbyx8U27uj4KQ7WdOfRb8CnYqieJHOYl6P0r+6\n",
       "NV+8WRNQ5N5AHZtjD0verRYVsqO6+OqOhoPKJmDdMJZJjoAwptXKc6hsGvlaO8tkgUlqnQ8c3fUY\n",
       "8po+GcoGh+lS8SnF9vrrxNz8MhzioCvgA7MKiybDcvAGAAAAAElFTkSuQmCC\n",
       "\" style=\"display:inline;vertical-align:middle;\" /></a></span>"
      ],
      "text/plain": [
       "|- forall_{x in Integer} (ceil(x) = x)"
      ]
     },
     "execution_count": 19,
     "metadata": {},
     "output_type": "execute_result"
    }
   ],
   "source": [
    "# The ceiling of an integer is just itself\n",
    "ceil_of_integer"
   ]
  },
  {
   "cell_type": "code",
   "execution_count": 20,
   "metadata": {},
   "outputs": [
    {
     "data": {
      "text/html": [
       "<span style=\"font-size:20px;\"> <a class=\"ProveItLink\" href=\"proofs/floor_of_sum_greater_eq/thm_proof.ipynb\" style=\"text-decoration: none\">&nbsp;&#x22A2;&nbsp;&nbsp;</a><a class=\"ProveItLink\" href=\"../__pv_it/theorems/1df651a47ab5520ecf8ec6b871d1d777557d83b90/expr.ipynb\"><img src=\"data:image/png;base64,iVBORw0KGgoAAAANSUhEUgAAARUAAAAWBAMAAAAcIxXLAAAAMFBMVEX///8QEBCIiIhmZma6urrM\n",
       "zMxUVFQiIiJERETc3Nzu7u6qqqp2dnaYmJgyMjIAAAAcRTyBAAAAAXRSTlMAQObYZgAAAypJREFU\n",
       "SMfFlk1o02AYx/+m6UfSdBuiCB4krjDGLhbH9CJ1TnB4cd1FL4JjfoCXMd2kgpsMkdEhQlRwQ0Gj\n",
       "A5UysOhBJh7KvFWYOQz8wEHw0KFiKKLgFMEkb7Il2Zs08+ILf2jzvv+8v7zPkzwPEG7wStCsWM8i\n",
       "+s8xWNfgFHB9QQvUehbvAsdcAzALInPVYjDLI6ybxWMJZolJRK+M/5+DWT6FYuGHZF9LMAuvEk0Z\n",
       "M2OBKKnMGpakSDmXZFXys9gsT6gsmCNq0B9GKAWyxKVwLGCrOR9LHZZ7RKlKsTgZHKJJhGRBtNBJ\n",
       "t9Rhaegk+lkojASzpC0z33y6a87FwqdFXJMd6cANlKgWGsv9neC2EhYhQ3QSmAhmuWqZZ/BGvOhi\n",
       "Edgm7HClJrdbolloLOV9YGqEJaUS7TdT2DuetR7/aP++YJkreC0fdLHcjqgouFhSQ1QLhYUrZZEY\n",
       "IyzJQaI4GM83lX/RrjACKnZObLJuLJv76qehaUvbNM24skHENycLMyJTLeaCeU07o2lVi4XHRjSK\n",
       "hCVaIxKUuOdM3s4WobO8VzwsMPd15W6PHP3hYJk562OhxYj9hWM5NwunHjbe7o4W/TrbgrjMZowH\n",
       "1FnKnhjB3NfFkgXTtLrVjVH4WGgseny3W+8RO0iEiRP61vJAXH+nhEa515w0WNozntx9rqdam5tl\n",
       "HIm+la1uflmT7raFxqI7x+HOXTzVgaL4aiy51Y1WTJsskVPD9o1fEjP7O1HjFDfLLvQoKzXg8mqY\n",
       "vRbqufSxfyyWSJnITCBg2VyzB/04UigUREa4vmDfuNtKtv629KInRg+a90q02ui10Fj4/vSy/a3L\n",
       "ESElm9kTNdYMYzNiJEbJo3KYGpCl1ulwNSCiWiwPLZnjrqAKmJJxjq1ByJF8qZT9ayNPOGMq/53K\n",
       "4lcbiw6WATzudNdG66wX5iroLeFAq+66Ynzr5svTWXt2wq9niCsJcbVnWMobI0ez0HqGUVzy9AzO\n",
       "UeKlhJ5pjJ4v4Xoptrnj33uprnTOYklIRM4kkGLlQz49Jr8l79dNcUv5sUALZcHK3J38eeAdiJxB\n",
       "BvuhjP83/gKqbRzLhYxOGAAAAABJRU5ErkJggg==\n",
       "\" style=\"display:inline;vertical-align:middle;\" /></a></span>"
      ],
      "text/plain": [
       "|- forall_{x, y in Real} (floor(x + y) >= (floor(x) + floor(y)))"
      ]
     },
     "execution_count": 20,
     "metadata": {},
     "output_type": "execute_result"
    }
   ],
   "source": [
    "# The floor of a sum is greater than or equal to the sum of the floors\n",
    "floor_of_sum_greater_eq"
   ]
  },
  {
   "cell_type": "code",
   "execution_count": 21,
   "metadata": {},
   "outputs": [
    {
     "data": {
      "text/html": [
       "<span style=\"font-size:20px;\"> <a class=\"ProveItLink\" href=\"proofs/floor_of_floor/thm_proof.ipynb\" style=\"text-decoration: none\">&nbsp;&#x22A2;&nbsp;&nbsp;</a><a class=\"ProveItLink\" href=\"../__pv_it/theorems/d3f0ab57a7c10beef2ecb3c01023513320a4a8480/expr.ipynb\"><img src=\"data:image/png;base64,iVBORw0KGgoAAAANSUhEUgAAAK8AAAAVBAMAAADC7aNVAAAAMFBMVEX///8QEBCIiIhmZma6urrM\n",
       "zMxUVFQiIiJERETc3Nzu7u6qqqp2dnaYmJgyMjIAAAAcRTyBAAAAAXRSTlMAQObYZgAAAeBJREFU\n",
       "OMutlU8oBFEcx7+NXfvv7boo142Sg7IlR1IOjvbERVH+HCXJKg6Os0k2CRfMUktbSjlIOUzcVmkO\n",
       "Dii1UUSRI05+b6dn3tqZ2Rp+h/dm3nz2s2++b99boEqFDWoOrHuFN/EK7DdRpUIGQsPUr1lDMd4U\n",
       "K8hy4kQwdw7ifXgT12aAC3794iB+9igOE7DB33jB3htNeBTjjDoNYIf24kDGqzhLsyrk8+sOSfBx\n",
       "b+JYN/ChqvMO4iZZvNO82hp3FUsEoxDHgLSDeEkSh/XoVKBYJr584/UgxDIRpb6ntIY/ddwyci+u\n",
       "5yQx09iXL+M2Y5mITNIKQTHELjttNxSGgthY9fKMEVxwz1gm/O/0RUZAPL0+yYPEt4aNGKiLV1s8\n",
       "i+DiULGf//A6mpO+BN/pJNZtogCGkr/EZsaPltgifBQF0qOk0yYC3aXPkLg9YbN4Ea2NKLcZywRf\n",
       "PByR3Y9XYLckrhmfFvS5JO47XMamaxQyUaP/JPMJDKiqGlfYypWgeyVxrnGn03AVy0SMhxLVSmn7\n",
       "UWtGERnU/ryl98TNNisysKSZcUH/j0PIrNzVWQFY5BvkUt/tEsPpPxybcimU8b8c9MFM9b+mcENq\n",
       "GNnUjDmwlZpF6ClVeX6XEbgBvgGmNLHFfz2WcgAAAABJRU5ErkJggg==\n",
       "\" style=\"display:inline;vertical-align:middle;\" /></a></span>"
      ],
      "text/plain": [
       "|- forall_{x in Real} (floor(floor(x)) = floor(x))"
      ]
     },
     "execution_count": 21,
     "metadata": {},
     "output_type": "execute_result"
    }
   ],
   "source": [
    "# The floor function is idempotent\n",
    "floor_of_floor"
   ]
  },
  {
   "cell_type": "code",
   "execution_count": 22,
   "metadata": {},
   "outputs": [
    {
     "data": {
      "text/html": [
       "<span style=\"font-size:20px;\"> <a class=\"ProveItLink\" href=\"proofs/floor_plus_ceil_of_neg/thm_proof.ipynb\" style=\"text-decoration: none\">&nbsp;&#x22A2;&nbsp;&nbsp;</a><a class=\"ProveItLink\" href=\"../__pv_it/theorems/98a5152d4929fc08ddb7dad912716b7c8cdcd1c10/expr.ipynb\"><img src=\"data:image/png;base64,iVBORw0KGgoAAAANSUhEUgAAAOEAAAAVBAMAAABCnpRGAAAAMFBMVEX///8QEBCIiIhmZma6urrM\n",
       "zMxUVFQiIiJERETc3Nzu7u6qqqp2dnaYmJgyMjIAAAAcRTyBAAAAAXRSTlMAQObYZgAAArRJREFU\n",
       "SMetlk1oE1EQx/+mSZNsNtGDXmVpIUgRDBRvKkEP4qk56UVI8At6kSJiLYrkJCmiBhH1om5bqBK0\n",
       "LHgoFaFLvEWIKxb8wGpQqyi4BEXx6+DMZjc1+9U05MFbZue9N7+dN/PmLdBOu7ssBmxDwgU916KI\n",
       "6rqKjltUo8d14MqyKmGfknOsEmqIFd0NzlGvsbDoQbzN6/OrJbLNYae2/CqDXvqSR/zy2YP4iRHF\n",
       "TogzDmVCEcbYfVzjVXl3YDxFj6dwJcYkX6Io2ZVPgCo5ShZkGlbciWGOxlhHRGGdXXkWmJcxQX5U\n",
       "SqWrHpvK+uhIR0S8tyt/AEMKEmngZ6Fw2oPYz6chZRInk5c3S/5EoW94Z9kkPrQn8DciShDJ3GFg\n",
       "3IN4nnpEaxAFNX4sXPMn3sEz6YxJfG1oqjq3dzzvL5CVEKexXUYCNdvspoNvLfkUx1JpEEVZ/B0s\n",
       "+hMreCzvMYmz9pwmH7MqYhSkMAKa5fmDQS0gomLl2Xrqa9Kmj4jkm3EUdf3jRt0oNkycMTxZgoxC\n",
       "M45Z910N1Wm1Fra0z+dKIOJLzYUIrJVWzpyvnkTOnHnFIEZre7kgbE1mgpwkTFRddpVsZFYkhr43\n",
       "ibv/i+MHFsn9NzKCnPrjh4gjHw2nDWNEHEy5ZE5M3kKz/In3A3UMtGSOowJw5uAeYUP4AkwZxJ4j\n",
       "x61JnOGieTqGlItc0/2IwT+RulH72eo2RzlRhA1Aj9qMzy9gX6FQkALipQVrEu9M0KwA032T2zV/\n",
       "onBgoH/R2tUlx41STlJYEhyauMwRqIfQ29jV2H65C1VuxP2I37KEm2JNhJhpxLGitlHJBXmVldy8\n",
       "sixheqFcAc7xya2qUzssNRejSJduK+uybmkBimOXbmSPwhkptvnXMTF6oqG4MXrS/tUuPzU5xD0s\n",
       "vwD+AaVq4LAn0DQXAAAAAElFTkSuQmCC\n",
       "\" style=\"display:inline;vertical-align:middle;\" /></a></span>"
      ],
      "text/plain": [
       "|- forall_{x in Real} ((floor(x) + ceil(-x)) = 0)"
      ]
     },
     "execution_count": 22,
     "metadata": {},
     "output_type": "execute_result"
    }
   ],
   "source": [
    "# The floor and ceiling functions are related in a variety of ways\n",
    "floor_plus_ceil_of_neg"
   ]
  },
  {
   "cell_type": "code",
   "execution_count": 23,
   "metadata": {},
   "outputs": [
    {
     "data": {
      "text/html": [
       "<span style=\"font-size:20px;\"> <a class=\"ProveItLink\" href=\"proofs/round_in_terms_of_floor/thm_proof.ipynb\" style=\"text-decoration: none\">&nbsp;&#x22A2;&nbsp;&nbsp;</a><a class=\"ProveItLink\" href=\"../__pv_it/theorems/a30a3e039942899fbb20d20e2d702714d93de8650/expr.ipynb\"><img src=\"data:image/png;base64,iVBORw0KGgoAAAANSUhEUgAAAQYAAAAyBAMAAABMh2gAAAAAMFBMVEX///8QEBCIiIhmZma6urrM\n",
       "zMxUVFQiIiJERETc3Nzu7u6qqqp2dnaYmJgyMjIAAAAcRTyBAAAAAXRSTlMAQObYZgAABHVJREFU\n",
       "WMPFmV2IG1UUx/+Zycd8JQYfVETrkLWLlsIGq4sPWlN98sXNkz5Y6LJVQdE1frBbYSmpoqYoGEVa\n",
       "+1B32pUVFmUjPsiK0GERhVjagBW1IA0uKCiGsN0tTdai5042M9k2kztZ9+KFTHJmzsz93XvP150A\n",
       "3PY1hDVtNJieYYtjwCPB1AYFIiBeDaKlJwV0/ZnV/vV2EPUTma23gmeft/p6/GsiluCC1c80602x\n",
       "DJjia8fSghlOFfnaRcEMAQZ5AIIZ4tzFjqyIZtCWecpyUjQDajzl0KhwhiGexe2rCGeY5nUx9J/c\n",
       "4lPfxzoMUrCpPsTv6Pj698K1l4743DJ82xIbfMIRlBycxPWLXwc39faaQ2lo+XUhWgzMsN5aDEYd\n",
       "37HvP/yyy8XeT7muhES7a626OYb4Kj6gLzXvN1CO845Y+N4VFjkMutmVgfpIkHkYJb+Mtdab4Vvg\n",
       "FS/Lb46B5jpenps76lvmrPZmWIKa8x6Z2RQDLgGXCwXf/Ck12DE8+FGK7l8cyGgDJk5Y4W+Ope6i\n",
       "Fbxv+xokSjla6ukHaSGMdDeGk4Pv7zR7MlwGngQO+9azTkIxlD+VJI5mtIYcTmKI5FcxX8SeotKE\n",
       "Qk72CX40D7ZrwzM11pbaDJodfzFW7cmwDXhoo0V/ccf+X7104TA8HhsNZ1mxMXVcrqJAchXTWe1W\n",
       "kBQjUyrjrPUw9ZHrMg+GZTTDxZ4MN1ICh9SOltpXuyqSgbKrHK2zozWfaeFcskImrnfkC+xEzEaI\n",
       "LlnExQy83oVBg+I4nVGr/b6tVnNi4j+s1V2GF+hqJda+56eFORDD+cpGBpxiITUPdZmcMbLqyOPs\n",
       "BLGEHENc9mWgGGJybJIY1OqjzLnvGcyGmVExBnvjWmA3feZtGA1yRinpyFc0OkEsbC0QcdwnnPPs\n",
       "4TePYV+WwzBJn8NPUM/WeCzjnCOGXa6BG45f4BY2nApCNt6gqT1Pst405ksY14vMJr+U6tjRbb9C\n",
       "DLo1RA/n2SQ+J/4I/gJmHAb5qZc933QGqLKjPMrK/GHsSdvqCozqD4oZnzCYQ4bXlLpKKLLdhWGk\n",
       "9E47q/kx3OAuGI34sUKhYErGe+e8GLXiTfLpnbT0s6mFsSzJ6nMlbWz7kdvZNW1sxwBLeolsF4bZ\n",
       "1Mn7K70ZWE6KW45BRRBtrYW+19uB8MtJL1Z/HDhWz9z7ekes/rtdzBhVmtdsyx7K7qRGrnAZgucs\n",
       "zfJ2/GcznTmr1WbPLZaBt1iMOmPP7Hbvu8hlUPrP3bKFUNJluCovSmQPG9UP8jew+athuAyhHKIN\n",
       "r4ZpcHp4IHgt93OXPfvkRNfapYnoKj6cPNAZB4MVwFvZYt7uKpTn1fYlMQwjXiyZNv+fPQ4m+tg+\n",
       "yHUhCHJHufMmTzksZs870PGbu+fFSyIQ9DSOufGA/6JHiGPsBe7sw+JC9tYjqFOnh3N9vAsS8U4s\n",
       "QaVcztse8NsShDb95gBK72aFMgR6R3ptxb6lbX8grWGRCPF8ILWoKZAh4H8HuFscgvYMO/4LHklG\n",
       "3RNRaxEAAAAASUVORK5CYII=\n",
       "\" style=\"display:inline;vertical-align:middle;\" /></a></span>"
      ],
      "text/plain": [
       "|- forall_{x in Real} (round(x) = floor(x + (1 / 2)))"
      ]
     },
     "execution_count": 23,
     "metadata": {},
     "output_type": "execute_result"
    }
   ],
   "source": [
    "# We can express the Round function in terms of the Floor\n",
    "round_in_terms_of_floor"
   ]
  },
  {
   "cell_type": "markdown",
   "metadata": {},
   "source": [
    "## Demonstrations <a id='further_demonstrations'></a>"
   ]
  },
  {
   "cell_type": "markdown",
   "metadata": {},
   "source": [
    "#### <a id='demo01'></a><font size=4>1. Simplifying $\\texttt{round}((x+1)+(y+2))$</font>\n",
    "<font size=3>We consider the simplification of the rounding expression `Round((x+1)+(y+2))`, calling upon the general `Expr.simplification()` method, which itself behind the scenes eventually utilizes the `Round.do_reduced_simplification()` method and works to apply two possible simplification theorems involving integer operands of the `Round` class.<br>\n",
    "First, we define our expression:</font>"
   ]
  },
  {
   "cell_type": "code",
   "execution_count": 24,
   "metadata": {},
   "outputs": [
    {
     "data": {
      "text/html": [
       "<strong id=\"round_xplus1_plus_yplus2\">round_xplus1_plus_yplus2:</strong> <a class=\"ProveItLink\" href=\"../__pv_it/demonstrations/6a3c55c1008adb996084da3393c970cea687c6e50/expr.ipynb\"><img src=\"data:image/png;base64,iVBORw0KGgoAAAANSUhEUgAAAN0AAAAUBAMAAAD7DSVVAAAAMFBMVEX///+YmJjc3NxmZmYiIiLM\n",
       "zMwQEBCqqqoyMjJERER2dnbu7u5UVFSIiIi6uroAAAA5J+EfAAAAAXRSTlMAQObYZgAAAslJREFU\n",
       "SMedVk1o02AYfpr0L4nN5qYnD2ayo2Bll6EOphdlCObm0Qki4nCUefSwooK9ORWEgYPAPM0VcxgF\n",
       "ZdoqIruUFco8OKtDZLdhN5SJ3Y/v92WZS/olm77wtHmfPv2e8Ob93i9AaHRsQRxDTYzUGqYdCrOK\n",
       "PU5DGwFHQOwz/MwLkUzrGjW5tlm/M1oySJIgKRYlBmihrJ+9LZJOQ93g2mb9zvhuo52+2r02la01\n",
       "Jhv0mfexkbRIexK46mjzYX5PgTNw0LwGIsyv4GOjhkh7BZg1uLYQ5ncHUi84Av2SC162U6i9b2PW\n",
       "5FqC/ul1jfh8dUGrVlCw9ckjtR6yOTG3ihSVh0GrvV3Ki/zUtJetEl71QBrwaoELNtcSVOWe0o/O\n",
       "BW1F1vvxhfIxFA0sGkoDCnU3w0scqJwT+UWyXvYBwVpEqu7z0387WsLFaEk30Qf0dchZjFKexTFT\n",
       "uwzKohlwPMNz+6vIL9HrZc9SYTLdUEZ8ftGSoyXYRaqrTH9es+MV3OD5YUZELcTpJwab7oOFmsvd\n",
       "vZbLlbb9YnUvO0i1pzVaKl4tura0DMN0HR+BtE4bIPaT5zOMIF/XD1gX90us7mUHWe0auGR6tawH\n",
       "tv266bpoQV2hDZDq5/myRsQwtusJdh8iP725nuw5fPBpb0IyuJbhOhslrYhbeEKFP0R5oqEWM5hJ\n",
       "GG6/3KIGmN9rvyglWsjDxiykDLdfJHbrcgmPgFNYTFvSBtTsQaUSOa+6LayvKnV3EP+tEfOTLS87\n",
       "ztfSl327cmL8naMlOCWZ+EiPabo2VDYpl95ktPLc0c9uCbTyfHW/r57y+1/Haf+aXvYbm87l6opv\n",
       "v29u/nC0rj4oQuYZjynhPJOzQdqpcDvBvNbsnVnex7J5PcM6O0Cb38VPMRwERPP58hA4jbEgbfh5\n",
       "BOx23iqi83apav7Hre/pfaLtH94n2hz8AXJA9ncVEmXpAAAAAElFTkSuQmCC\n",
       "\" style=\"display:inline;vertical-align:middle;\" /></a><br>"
      ],
      "text/plain": [
       "round_xplus1_plus_yplus2: round((x + 1) + (y + 2))"
      ]
     },
     "execution_count": 24,
     "metadata": {},
     "output_type": "execute_result"
    }
   ],
   "source": [
    "round_xplus1_plus_yplus2 = Round(Add(Add(x,one), Add(y, two)))"
   ]
  },
  {
   "cell_type": "markdown",
   "metadata": {},
   "source": [
    "<font size=3>We then try calling the Expression `simplification()` method. If we know nothing about the addends $x$ and $y$, we will get an error:</font>"
   ]
  },
  {
   "cell_type": "code",
   "execution_count": 25,
   "metadata": {},
   "outputs": [],
   "source": [
    "# If addends are not known to be integers or reals \n",
    "from proveit import ProofFailure\n",
    "try:\n",
    "    round_xplus1_plus_yplus2.simplification()\n",
    "except ProofFailure as e:\n",
    "    print(\"EXCEPTION: the simplification theorems do not apply without more constraints. \", e)"
   ]
  },
  {
   "cell_type": "markdown",
   "metadata": {},
   "source": [
    "<font size=3>But if we know that $x$ and $y$ are real (either because we already know that from previous work or, as we do here, we supply that information as assumptions), the simplification goes through, with Prove-It automatically simplifying $1+2$ to $3\\in\\mathbb{Z}$, and eventually applying a rounding theorem of the form $\\forall_{x\\in\\mathbb{R},i\\in\\mathbb{Z}}\\texttt{ round}(x + i) = \\texttt{ round}(x) + i$:</font>"
   ]
  },
  {
   "cell_type": "code",
   "execution_count": 26,
   "metadata": {},
   "outputs": [
    {
     "data": {
      "text/html": [
       "<span style=\"font-size:20px;\"><a class=\"ProveItLink\" href=\"../__pv_it/axioms/02bd6ad73acd9f4d3192ee4c61bfdcabbff20f180/expr.ipynb\"><img src=\"data:image/png;base64,iVBORw0KGgoAAAANSUhEUgAAADQAAAAPBAMAAABZ6/G2AAAAMFBMVEX///8QEBBmZmaqqqrMzMxE\n",
       "REQyMjIiIiKYmJh2dna6urrc3NxUVFSIiIju7u4AAAA6P00QAAAAAXRSTlMAQObYZgAAAMRJREFU\n",
       "GNNjYMAAHIWh3xIjGLACNr4DLBFxWKVYuScwBOxBEWotL0+ASWmzIcu43kPSpc0KZLy9s+vmBSDN\n",
       "l4ds4IE1QJEJHLXsIHN4NiBJMRcBFXI+4PzHBRJlRXKGeHkyyBwG1gCwgGMaEECdMUsB4nb+C2Bq\n",
       "K7LjtVzBLH8HMMWILMX6Aqie+cF9Bt4HQAGmC0hSLAdUGBjWG8Qz7ACLFCMFFMNkHgeGN3ffajSA\n",
       "Rd5EPYAHrwNr2Gfk4FgZDgkoKAAAelg1omM6Y4wAAAAASUVORK5CYII=\n",
       "\" style=\"display:inline;vertical-align:middle;\" /></a>, <a class=\"ProveItLink\" href=\"../__pv_it/theorems/0886f5b6aacf5197ba709a53d4f3243edcc3de560/expr.ipynb\"><img src=\"data:image/png;base64,iVBORw0KGgoAAAANSUhEUgAAADMAAAASBAMAAAAEf/uKAAAAMFBMVEX///8iIiKYmJhUVFTMzMxE\n",
       "REQyMjKqqqq6urp2dnYQEBDc3NxmZmaIiIju7u4AAACH5sGpAAAAAXRSTlMAQObYZgAAAN1JREFU\n",
       "GNNjYMAAikvj05YqMGAFCY8ZXFUfYJUK2MnAym2AIqQqKJgAleLZkIAs43oPoYtnQwADA9+dCwy7\n",
       "QAbz5SEZyMwBNJCTYwHDfZAA8wYkqcJjQNXbeRIYQkECrAhn7BIUKwDSD7guMPwFCXilAQHUGT2s\n",
       "YLf3P2D5AqK3IjmepyUAxDjGwLsARHMh+ytOF8QIZmAFe4/nApKUM48DkHGYoR8SYOJIAcVZYAJk\n",
       "PL57HuLsxxEPYMGbwhCaXwCxDQI6AwVRgoc5ge8H9ghgYFRgvYBDiuPuERwyAAfzPe7bmvmqAAAA\n",
       "AElFTkSuQmCC\n",
       "\" style=\"display:inline;vertical-align:middle;\" /></a> <a class=\"ProveItLink\" href=\"../__pv_it/demonstrations/bade8661c13d7177376437abcb01bd84f09a60690/proof.ipynb\" style=\"text-decoration: none\">&nbsp;&#x22A2;&nbsp;&nbsp;</a><a class=\"ProveItLink\" href=\"../__pv_it/demonstrations/59b8b09fd0e472ad8dd7b663ce80f3926d1cfd990/expr.ipynb\"><img src=\"data:image/png;base64,iVBORw0KGgoAAAANSUhEUgAAAaMAAAAUBAMAAADSA0++AAAAMFBMVEX///+YmJjc3NxmZmYiIiLM\n",
       "zMwQEBCqqqoyMjJERER2dnbu7u5UVFSIiIi6uroAAAA5J+EfAAAAAXRSTlMAQObYZgAABFRJREFU\n",
       "WMOtV12IG1UU/jLJJpnMZrq1CoIPndZFQYQGpLAtWxorqCwL5k3wZeOLaKXtUMQXkYZuxTwU2a60\n",
       "KLR0QB90demApaitbuzToiwGQ32wjRtK3bdlf7BUiO323DuZzcy9dyZZ6IFLuCfnnO/7Zs6cuQPE\n",
       "2q7OUlrGklzaUFzscfSfECDQN7oaomsD5wowpsBXhF2XPD+owr7bd9aLHbT6SwgT6Bddm/naVkEE\n",
       "bJuNLAVk1UHvu8D3kvekItKo4VKLxxqVvhIEAlEmoj+NzJoKImArLnbQz46Q88MOzV9/J0m5etiL\n",
       "RCHUGt7fSRfpshc7K2KEE9QEpIIdE9EXbfyrgAjal8AheEuSBOwkSUZZ8KYsBYN0EYPrXuwVESNl\n",
       "9SYQJUlEX2rhPwVE0CahFcFXlCR8IniHVQyybQze9WKzLQFjuDeBSEkSOms8BmHe+rlJkbONltGo\n",
       "44prfru7eYCU7L9xD3lqC7aM5vXlWZWkL4SiDYqlKs+4AoNU24vNiX1GCVj+bbkZQyAA7hf86QC0\n",
       "d2V0XHY4RE7/WC9juGWsJ80yFml/AXMWliy9DZ0mLFs/4vH6qypJTwpFz1BJXkWQtOJ4sQn+8H5V\n",
       "ZTbZSYDzmX0uhkAA3C/oLCG/KqM/95LLIV5P1cwSxoCxXckKPqd9BXtKxpugXcoGX9/gkntbJek9\n",
       "oegrwLO8iiBpvBObKQp3iRIG7HH8E0MgAN4pqNkj0KdkdOSPcgh3jvo7SY3xv5uu4wjf72SOlIM0\n",
       "/cWW2yFJl/flavV0V9KE4KWSrMp91mPV6qm3q9Uan3mFTuzAqiCJEgzjQSwBH7xb0KCobXUZHXjL\n",
       "5RAn2FCagnafhubAXb6fZw6q7EsCJ6m4SxOC9ygfvaxK6C6xJyZSEjKrsQQC4H5Bs42JkoS+G7ho\n",
       "c4gR2s05yK3T0MyX+X7NIMcJbDYefJKipDty41F+vhxmkCkwOBZrFrvP0mk/gRosjkAA3C9IGX/K\n",
       "6Bsuk8QgDrP39BDSDs5Thz5F+0w7N2djPmP54+EDehhv9jkeWJVamMEbwB/B8RAwlkDIcQQC4H5B\n",
       "Ajgvo78DvOYyCI1dg2QNnwKjWCo42gPkKk/o9cR4js9cWuY9fdU/Xm5KWmSS9guS2FgdxcpQ+Gke\n",
       "mxkterFJR5DEEvaU4ggEwTfvUs1ck9G38/cSQXi9MPMXde215vGFEu21X2xj4cbzf/P/aBkLNxvb\n",
       "BfKjxyYJ5yPBy1rhWvOgFX7VbmxsFL3YbEmQdMfvn0gCQXBfkrHQWIeEbr6wr6WAECzmQMRLF5UH\n",
       "ohHVy57HXt7SgQjRByL2/Eno3us2vqDi2HpVeXC82j2FDlbYUPZUuGLs1o6tErhfcJ5NQxmd22wP\n",
       "SbrlrT6P98A0UkN6PSpWcfKf7k1AthdxQYmuhhAC4j8BpxVfdGZzb2SsvqVPQJ+AbMuNUtTV0Ht0\n",
       "co8P9cQWPtR57GOP8kM9oSRPEA8BndC5nMnfnT8AAAAASUVORK5CYII=\n",
       "\" style=\"display:inline;vertical-align:middle;\" /></a></span>"
      ],
      "text/plain": [
       "{x in Real, y in Real} |- round((x + 1) + (y + 2)) = (round(x + y) + 3)"
      ]
     },
     "execution_count": 26,
     "metadata": {},
     "output_type": "execute_result"
    }
   ],
   "source": [
    "round_xplus1_plus_yplus2.simplification(assumptions=[InSet(x, Real), InSet(y, Real)])"
   ]
  },
  {
   "cell_type": "markdown",
   "metadata": {},
   "source": [
    "<font size=3>Interestingly, if we try to directly call the `Round.do_reduced_simplification()` method on our `Round(Add(Add(x+1),Add(y+2)))` expression, we get only the trivial self-equivalence back, because we now lack the `simplification()` method's pre-processing of the operand to produce $x+y+3$ first and now fail to be able to segregate the operands into a partition of reals and integers:</font>"
   ]
  },
  {
   "cell_type": "code",
   "execution_count": 27,
   "metadata": {},
   "outputs": [
    {
     "data": {
      "text/html": [
       "<span style=\"font-size:20px;\"> <a class=\"ProveItLink\" href=\"../__pv_it/demonstrations/eb85695e6ff5ff696c7b7698dba698094af862c40/proof.ipynb\" style=\"text-decoration: none\">&nbsp;&#x22A2;&nbsp;&nbsp;</a><a class=\"ProveItLink\" href=\"../__pv_it/demonstrations/71d97d2292717619032c0044d80e8bc5977f69f30/expr.ipynb\"><img src=\"data:image/png;base64,iVBORw0KGgoAAAANSUhEUgAAAdgAAAAUBAMAAADcqjHRAAAAMFBMVEX///+YmJjc3NxmZmYiIiLM\n",
       "zMwQEBCqqqoyMjJERER2dnbu7u5UVFSIiIi6uroAAAA5J+EfAAAAAXRSTlMAQObYZgAABMRJREFU\n",
       "WMOtmF9oW1Ucx7/506bJbW5rqzDwYbej6Iu4jCHU2mHcg0qpmDfBl0YQGQ5nmMOXIQvWYR5k1orD\n",
       "wYaB+iB1ZRcco7rWxCIylNJgmA/bYoPMvpV2ZWNiXOvvnHtPknvuyb0JeuDQnt/95Pf9fZNzzz3n\n",
       "Ap5tyO7KFjFcoWC/F3scHTVPcVWyIS9WUW2jdZ1NQJsG7y3asivyrQr75unPLLbXaNdnG+LuZEpY\n",
       "O3guZbHLXoJ9GfQQ1KOu8F0TWHBF31fJFXGpylkt2/av6i0eOapKpoQXEdux2AUvvU0Tg/Rn0BF8\n",
       "zzbw8yqZjZWcUQQSjpKsyyET3WmLnW/brFLcTojFi7WmZCLqhEX0GeANi61Xq2pfAodhdZdZYC+Z\n",
       "1dJSNGwo9LqT6N222Cttm1WK120Fak3J6tHDKvZ1YNXgbL1aVZtCMAneW5nFGSk6rKqtp4beexbb\n",
       "U23XrFLcaVYkE1EnLKIfm1hNWewZ6Le+r1B8vlzVyiVcMfWL+yqH6JOj1+8jTrOSda2yvDGvMjsr\n",
       "mS0TS1keM521IVyz2FhC8rTxy0bFRxxLt568UVKYFclElMFLhxA8KonjZdNiZxGLfhhNY7iqbYf0\n",
       "NNZofAEFA+tGtIYoPUhY/w4Pl15Umd0jmf2ESuBZJL3NvMUG+KLyVY61KfZv/vPMWR9xLR94KZxV\n",
       "mA1knTIMzq8jviWJ63/b7B68Ei7qKYwD40OhLM7ROIv9Ke010CicAe9f45L5h8rsCcnsC8DjPIuk\n",
       "N2GzkaT0hMlM4E8f8ZgZq+mGwqxIJqIEBzMjiE7L06posydgFmg6h+jD/5jdJbzFx3tZIJxHN11i\n",
       "3bTLp5/k+Vzuo4bZSSl6jFjK8oBNslzugyO5XJGvxwmb7dqSnkrajq+4ZpffnJCb5cmaogRrlKOv\n",
       "5GRxULBUwSnGTSP4gJb7rnt8fI0FSFfogZev+GUnpegx/tBgWRxfbhktzCKy1YZ4X0m5QIlkIspg\n",
       "vYbJlJPl970wO0J/CnnEtmm5j6f5+I5GgVOozySI8mWzt93TmD4fTzuriCSwz2L1ZOOe5VOBpquv\n",
       "uChfNqu7pzHL95vEvoOgYbFUwZvsu+tHdx7nacI8SuNILVbI4FrEEGvESbrpb7a5QLEsRafeq8Cv\n",
       "zQtUUyNVP/GIuYa42eYCRdLnndGuPOKGWKCC7EcLFfEpMIb1RD64g1j2kWgpMBHjCzZ1/X50S+zw\n",
       "62bXmP6oZJY9Xsaw2e/QC47PjSUtNpSXzO5P+YljM/OF2OE3pmatKZmIMjhU1O84o8Nzsz/a7Kg9\n",
       "GeZu0IRfrBxfSdE4+ENGW7n+xO/8GnVt5Wb5IcnW2NtTZOm0FGVTdbHyrOHcVOzu7iYtticlmb3t\n",
       "K04Xlg44vz2EfvrrQCOZiDJYWylvS5uK3d27Nnvaex/jsV3ki2lSuV0ckW+xOnu5kxOex3aRt8vK\n",
       "7WIo24rVkt567r341eZBfWt9tXEQ6M2yx4nlz5TZ+U7MusUdCevJ6tFBtpQXqq1Yz4MAu+cNq7do\n",
       "7kPTDML90VIrtoMjnr+4OxnBz+FCS3bBR8/n/DyjOLzrladaslGjE7M+4lHV4X2jnGrJzvynNyOB\n",
       "Dl7LcHbg/3wtM9DBa5kBq4J/AbFy5NlxgZXxAAAAAElFTkSuQmCC\n",
       "\" style=\"display:inline;vertical-align:middle;\" /></a></span>"
      ],
      "text/plain": [
       "|- round((x + 1) + (y + 2)) = round((x + 1) + (y + 2))"
      ]
     },
     "execution_count": 27,
     "metadata": {},
     "output_type": "execute_result"
    }
   ],
   "source": [
    "round_xplus1_plus_yplus2.do_reduced_simplification(\n",
    "        assumptions=[InSet(x, Real), InSet(y, Real)])"
   ]
  },
  {
   "cell_type": "markdown",
   "metadata": {},
   "source": [
    "#### <a id='demo02'></a><font size=4>2. Simplification and deductions involving $\\texttt{Floor}(\\alpha, \\beta) = \\lfloor \\alpha + \\beta \\rfloor$</font>\n",
    "<font size=3>Here we consider the floor of a sum of two variables, $\\lfloor \\alpha + \\beta \\rfloor$, produced using the Expression $\\texttt{Floor}(\\texttt{Add}(\\alpha, \\beta))$, and try to simplify the expression and deduce that the $\\texttt{Floor}$ expression represents an integer.<br>\n",
    "First, we define our expression:</font>"
   ]
  },
  {
   "cell_type": "code",
   "execution_count": 28,
   "metadata": {},
   "outputs": [
    {
     "data": {
      "text/html": [
       "<strong id=\"floor_alpha_plus_beta\">floor_alpha_plus_beta:</strong> <a class=\"ProveItLink\" href=\"../__pv_it/demonstrations/12b1fd43c0e3d486c217696b38b02bae171d63340/expr.ipynb\"><img src=\"data:image/png;base64,iVBORw0KGgoAAAANSUhEUgAAAD8AAAAVBAMAAAADRiu8AAAAMFBMVEX////MzMwyMjJERESqqqq6\n",
       "urpmZmaIiIh2dnYiIiIQEBBUVFTc3NyYmJju7u4AAAC29NUzAAAAAXRSTlMAQObYZgAAAN5JREFU\n",
       "KM9jeMuAFxQwnMYpd/YOkFDArYDd4bUAXgUXGVgNsChgKYAyeC4wsEzAp4CdgYF7AwEFUQfgCtrL\n",
       "AtAVBB67NA/ui5MBfGv4HFAVFLxoWwNXMIOBwYz9AaqCBgaGIpgCtn8MDEkcQB6HkpLmIiWlDZAg\n",
       "ZIiHKeAC+rerD9UNrMBAugVT8B5oXL8DqgKQgbthCvgvAE1A8wUTMKjgjmTbwMDbz4iqgPkCg2QA\n",
       "3Bcddy+wtaMqCLxRAXYVzpBsgPIxFPA9IKAAkZLwKwAFA1TBq5mzcSY6Hs2ZBgBQCkNlyg5oxAAA\n",
       "AABJRU5ErkJggg==\n",
       "\" style=\"display:inline;vertical-align:middle;\" /></a><br>"
      ],
      "text/plain": [
       "floor_alpha_plus_beta: floor(alpha + beta)"
      ]
     },
     "execution_count": 28,
     "metadata": {},
     "output_type": "execute_result"
    }
   ],
   "source": [
    "from proveit import alpha, beta\n",
    "floor_alpha_plus_beta = Floor(Add(alpha, beta))"
   ]
  },
  {
   "cell_type": "markdown",
   "metadata": {},
   "source": [
    "<font size=3>If we know nothing about $\\alpha$ and $\\beta$, a `simplification()` attempt will simply return a trivial `Judgment` equating the original `Floor` object to itself:</font>"
   ]
  },
  {
   "cell_type": "code",
   "execution_count": 29,
   "metadata": {},
   "outputs": [
    {
     "data": {
      "text/html": [
       "<strong id=\"kt_temp_02\">kt_temp_02:</strong> <span style=\"font-size:20px;\"> <a class=\"ProveItLink\" href=\"../__pv_it/demonstrations/d834fa4d3b1314cde510be6fd02ec69c46d7b1ca0/proof.ipynb\" style=\"text-decoration: none\">&nbsp;&#x22A2;&nbsp;&nbsp;</a><a class=\"ProveItLink\" href=\"../__pv_it/demonstrations/4f9a01078cbf0cb1c692e88f498665ead727582f0/expr.ipynb\"><img src=\"data:image/png;base64,iVBORw0KGgoAAAANSUhEUgAAAKEAAAAVBAMAAADcJJPmAAAAMFBMVEX////MzMwyMjJERESqqqq6\n",
       "urpmZmaIiIh2dnYiIiIQEBBUVFTc3NyYmJju7u4AAAC29NUzAAAAAXRSTlMAQObYZgAAAYRJREFU\n",
       "OMtjeMuAF7BjiBDQUMBwGqfc2TtAgglDGKcGnrsHgKQCbgXsDq8FSDKxhG8jfhMvMrAakGIirwBD\n",
       "MDYTWQpgfrjAwDKBCBPhGs4yMHjiNREYJdwbSDERSO8mZGLUAdJMZF2DMLG9LABdQeCxS/NwxzWm\n",
       "BlaZXM0HcBNPBvCt4XNAs/JF2xq4iU1KIKAGNxGLBna+jixE6pnBwGDG/gDVxAYGhiKcbsSigQNo\n",
       "qALMRLZ/DAxJHCBRJSXNRUpKG6ABHY/LRGwagOHO+gFmIhcw3XX1oQULMHXfwmUiNg2BwBS5AGbi\n",
       "e6AP+x0Y0D0BTgzI4agNMxGbhgZIaoOYyH8BaCVa1AFN4lmDy43YNADD8BQ8Ztg2MPD2M6IqYL7A\n",
       "IBmAMxyxaLBlYJzKAI/rjrsX2NrRguVGRR8DzrjG1MAq297xgAFfnmlggPueqDzDAeNjmMj3gEQT\n",
       "oRpwm4goiok0Eb2sx2UiKDmSZGIgwsRXM2fjrjQOzZyMIYZPA4/mTAMAy9SEsyWXl9wAAAAASUVO\n",
       "RK5CYII=\n",
       "\" style=\"display:inline;vertical-align:middle;\" /></a></span><br>"
      ],
      "text/plain": [
       "kt_temp_02: |- floor(alpha + beta) = floor(alpha + beta)"
      ]
     },
     "execution_count": 29,
     "metadata": {},
     "output_type": "execute_result"
    }
   ],
   "source": [
    "kt_temp_02 = floor_alpha_plus_beta.simplification()"
   ]
  },
  {
   "cell_type": "markdown",
   "metadata": {},
   "source": [
    "<font size=3>And the `Floor.deduce_in_number_set()` method will return an error:</font>"
   ]
  },
  {
   "cell_type": "code",
   "execution_count": 30,
   "metadata": {},
   "outputs": [
    {
     "name": "stdout",
     "output_type": "stream",
     "text": [
      "EXCEPTION: the simplification theorems do not apply without more constraints.  Proof step failed:\n",
      "Attempting to instantiate |- forall_{x in Real} (floor(x) in Integer) with {x: alpha + beta}:\n",
      "Unsatisfied condition: (alpha + beta) in Real\n"
     ]
    }
   ],
   "source": [
    "# If Floor operand(s) uncharacterized \n",
    "from proveit import ProofFailure\n",
    "try:\n",
    "    floor_alpha_plus_beta.deduce_in_number_set(Integer)\n",
    "except ProofFailure as e:\n",
    "    print(\"EXCEPTION: the simplification theorems do not apply without more constraints. \", e)"
   ]
  },
  {
   "cell_type": "markdown",
   "metadata": {},
   "source": [
    "<font size=3>But if we know or can assume some basic properties of $\\alpha$ and $\\beta$, we can simplify and make a deduction about the resulting form of the result. For example, suppose we know or can assume that $\\alpha\\in\\mathbb{R}$ while $\\beta\\in\\mathbb{Z}$. Then we can derive the equivalence $\\lfloor\\alpha+\\beta\\rfloor = \\lfloor\\alpha\\rfloor + \\beta$ (extracting the integer $\\beta$ out from inside the `Floor` function):</font>"
   ]
  },
  {
   "cell_type": "code",
   "execution_count": 31,
   "metadata": {},
   "outputs": [
    {
     "data": {
      "text/html": [
       "<span style=\"font-size:20px;\"><a class=\"ProveItLink\" href=\"../__pv_it/demonstrations/48056cd99924d7029935654dc4ac374fbe5797790/expr.ipynb\"><img src=\"data:image/png;base64,iVBORw0KGgoAAAANSUhEUgAAADYAAAAPBAMAAABdHiGLAAAAMFBMVEX////MzMxUVFSYmJgyMjJE\n",
       "RESqqqoQEBDu7u4iIiLc3Ny6urpmZmaIiIh2dnYAAADsbLlPAAAAAXRSTlMAQObYZgAAAM9JREFU\n",
       "GNNjYMAEzNNDv7gHM2AHLBwKjMER2OVYuR4wBCxCFTOdOdMBJneKBUVK9AaSvlOsINbbOxvAIhwe\n",
       "yGYqbAIyVm7gqOJIADKYFiDJsc0BqZzHwBDD2wASQXJL5Uw3IM3zg4HhCB9IRNwFCKBueX0A5AX2\n",
       "AAaG5y9AIkuR/XBaFEj3P2BgeA+yjoEdWY61+QIDA78BUB9YhOcCkhyjwkGgiAID83tGsNA0pDBj\n",
       "eMYkwMDwztiA5y1YqCm6AR7WAqwh31ACZl8kJMygAADcUDX71hqjeAAAAABJRU5ErkJggg==\n",
       "\" style=\"display:inline;vertical-align:middle;\" /></a>, <a class=\"ProveItLink\" href=\"../__pv_it/demonstrations/d0dfd0a5c1ef2bc551268083548fb9a08832e8380/expr.ipynb\"><img src=\"data:image/png;base64,iVBORw0KGgoAAAANSUhEUgAAADQAAAATBAMAAAAt/zNWAAAAMFBMVEX///92dnYyMjJmZmYQEBAi\n",
       "IiJERES6urrMzMxUVFTu7u6qqqqIiIiYmJjc3NwAAAChBMO+AAAAAXRSTlMAQObYZgAAAPhJREFU\n",
       "KM9jYGBg4Lv7gAEHOM01A4XPHvJFyVXlApDF28BQhiLFk9zAoMAGYr1lYNiKIsUswMC4QRzEOsDA\n",
       "MBMsxJsaGgSWWsDwksMAIsXuB6I5chbANWaxgdjsfbaqYLFFCBneA3fBlnIJmoAdPw9h2zKuBBDF\n",
       "CJRVADESEFIzOMGKeYBmfgBZ5aQEBBCPGRSC6Qqg0Q6gMEHoYgKZIMXAIMDAwDkBJOAAl5JmLABz\n",
       "gfY8AZtsA5Phm/AS6DmgVC4DRzhYhHUDVIptQRYD19wEBvZeGUGIh7imVUGkSpLc0vzdDEBuh4e4\n",
       "GCSgYICRASfgwS1VgVMGADMTLtCAzIizAAAAAElFTkSuQmCC\n",
       "\" style=\"display:inline;vertical-align:middle;\" /></a> <a class=\"ProveItLink\" href=\"../__pv_it/demonstrations/c54a1f6a85c8bfb7dae1a22a93af5ea7d56b6a3c0/proof.ipynb\" style=\"text-decoration: none\">&nbsp;&#x22A2;&nbsp;&nbsp;</a><a class=\"ProveItLink\" href=\"../__pv_it/demonstrations/77d93b039d7ad82b1c3e72ec8273b76800395a960/expr.ipynb\"><img src=\"data:image/png;base64,iVBORw0KGgoAAAANSUhEUgAAALMAAAAVBAMAAAD/f8IzAAAAMFBMVEX////MzMwyMjJERESqqqq6\n",
       "urpmZmaIiIh2dnYiIiIQEBBUVFTc3NyYmJju7u4AAAC29NUzAAAAAXRSTlMAQObYZgAAAf1JREFU\n",
       "OMuVlbFLAlEcx3+W51nq5RoUyA2B2ODUlOAWQcMdTbUkjUEgEdIoDZ44aFBBFkQEbQ42u0hDYBFY\n",
       "U0SC0FJG5V8Q/U7vPb3ne3d0g3rP3/fDe7/f9/1+8AWOj8xdHRalhdp74T8Pr/gxNrIcbNpFkdGI\n",
       "Vh1WnNBy8jPMQ7+BG3pXuYZA3QH9CFKch553Q4fCsApKZATtTQ/O7T3goEMpAXqJJhJgGcAQo7F+\n",
       "gSoHPVF3QyOhBtBxRK/XOegGuKOlCgq1fpSR0Vi0fvt0znNIhqItEYuWZrajbQB/qhfV0JSKkrSj\n",
       "0++5CkXvq+YzZ/5MEDQRsWhZyW/hcUORXtQJwILctqOzADu8XR8RNBGxaD/ScQ09gFG+X4BNv7mq\n",
       "qtFLVa1axdjgoa8sNBVFrGOdqmrMKpLUBfB0zahJ9G+haM+1hNflxQlNReyudUzGBUH/4OFLSTva\n",
       "3E+NyXVsOCFUxKKzfddKvYRMYVcoMA5BZLDC2zUpIxWxaHy/o2X0VSFU8tjR402Y1njoHMk1EbHo\n",
       "BHiO8cuX7RU732r6DDtaf94rAg+9RhxCRAxamjXyptnGwqLbmAWamP9ddL/1+jFy0ZW2C1rYnr7t\n",
       "aEPYVNMiNCw6N1VrLHGaKgxsLUC7jALdsgHmrVM+E0/Gm/Ihd4BRUTBajnOVOPz+ADFGmGFzzAQY\n",
       "AAAAAElFTkSuQmCC\n",
       "\" style=\"display:inline;vertical-align:middle;\" /></a></span>"
      ],
      "text/plain": [
       "{alpha in Real, beta in Integer} |- floor(alpha + beta) = (floor(alpha) + beta)"
      ]
     },
     "execution_count": 31,
     "metadata": {},
     "output_type": "execute_result"
    }
   ],
   "source": [
    "floor_alpha_plus_beta.simplification(assumptions=[InSet(alpha, Real), InSet(beta, Integer)])"
   ]
  },
  {
   "cell_type": "markdown",
   "metadata": {},
   "source": [
    "<font size=3>And we can deduce that the `Floor` function will produce an integer:</font>"
   ]
  },
  {
   "cell_type": "code",
   "execution_count": 32,
   "metadata": {},
   "outputs": [
    {
     "data": {
      "text/html": [
       "<span style=\"font-size:20px;\"><a class=\"ProveItLink\" href=\"../__pv_it/demonstrations/48056cd99924d7029935654dc4ac374fbe5797790/expr.ipynb\"><img src=\"data:image/png;base64,iVBORw0KGgoAAAANSUhEUgAAADYAAAAPBAMAAABdHiGLAAAAMFBMVEX////MzMxUVFSYmJgyMjJE\n",
       "RESqqqoQEBDu7u4iIiLc3Ny6urpmZmaIiIh2dnYAAADsbLlPAAAAAXRSTlMAQObYZgAAAM9JREFU\n",
       "GNNjYMAEzNNDv7gHM2AHLBwKjMER2OVYuR4wBCxCFTOdOdMBJneKBUVK9AaSvlOsINbbOxvAIhwe\n",
       "yGYqbAIyVm7gqOJIADKYFiDJsc0BqZzHwBDD2wASQXJL5Uw3IM3zg4HhCB9IRNwFCKBueX0A5AX2\n",
       "AAaG5y9AIkuR/XBaFEj3P2BgeA+yjoEdWY61+QIDA78BUB9YhOcCkhyjwkGgiAID83tGsNA0pDBj\n",
       "eMYkwMDwztiA5y1YqCm6AR7WAqwh31ACZl8kJMygAADcUDX71hqjeAAAAABJRU5ErkJggg==\n",
       "\" style=\"display:inline;vertical-align:middle;\" /></a>, <a class=\"ProveItLink\" href=\"../__pv_it/demonstrations/d0dfd0a5c1ef2bc551268083548fb9a08832e8380/expr.ipynb\"><img src=\"data:image/png;base64,iVBORw0KGgoAAAANSUhEUgAAADQAAAATBAMAAAAt/zNWAAAAMFBMVEX///92dnYyMjJmZmYQEBAi\n",
       "IiJERES6urrMzMxUVFTu7u6qqqqIiIiYmJjc3NwAAAChBMO+AAAAAXRSTlMAQObYZgAAAPhJREFU\n",
       "KM9jYGBg4Lv7gAEHOM01A4XPHvJFyVXlApDF28BQhiLFk9zAoMAGYr1lYNiKIsUswMC4QRzEOsDA\n",
       "MBMsxJsaGgSWWsDwksMAIsXuB6I5chbANWaxgdjsfbaqYLFFCBneA3fBlnIJmoAdPw9h2zKuBBDF\n",
       "CJRVADESEFIzOMGKeYBmfgBZ5aQEBBCPGRSC6Qqg0Q6gMEHoYgKZIMXAIMDAwDkBJOAAl5JmLABz\n",
       "gfY8AZtsA5Phm/AS6DmgVC4DRzhYhHUDVIptQRYD19wEBvZeGUGIh7imVUGkSpLc0vzdDEBuh4e4\n",
       "GCSgYICRASfgwS1VgVMGADMTLtCAzIizAAAAAElFTkSuQmCC\n",
       "\" style=\"display:inline;vertical-align:middle;\" /></a> <a class=\"ProveItLink\" href=\"../__pv_it/demonstrations/59e1470883e375f0f4a9d56a7f2bf9ab4b599a490/proof.ipynb\" style=\"text-decoration: none\">&nbsp;&#x22A2;&nbsp;&nbsp;</a><a class=\"ProveItLink\" href=\"../__pv_it/demonstrations/646f9e5025462ff9237a95f43b9aed549e96f9220/expr.ipynb\"><img src=\"data:image/png;base64,iVBORw0KGgoAAAANSUhEUgAAAGoAAAAVBAMAAABce2awAAAAMFBMVEX////MzMwyMjJERESqqqq6\n",
       "urpmZmaIiIh2dnYiIiIQEBBUVFTc3NyYmJju7u4AAAC29NUzAAAAAXRSTlMAQObYZgAAAXpJREFU\n",
       "OMtjeMuAF7BjFz6NU8PZO0CCiURd7A6vBTB0sc76pbRS6wJuXRcZWA0wdLGbCTAoMGPYxVIAZfBc\n",
       "YGCZgKGLrYGBw6EVty5gMHBvQOi6PHOmAkjXA4bTjAl4dUUdgOsSroOrsGN+ANXVXhaArivw2KV5\n",
       "8DDk04Nr4i24Cw3DkwF8a/gcUHUVvGhbA9fFfQCu6zGfAVTXDAYGM/YHqLoaGBiK4LqYEV7YCDYB\n",
       "qIvtHwNDEgeQzaGkpLlISWkD2C4Ghni4LiklIFAAR1hCBDSWuYB2dvWh+osVGMO34LoOw61iYgAq\n",
       "7gPpeg90Tb8Dqi6Q1bvhurjgulo4gOG2AKSL/wLQLrQwBKrmQYQGGzzuN4B8BNbFtoGBt58RVRfz\n",
       "BQbJAETqnQLVxfzAjoFvrwE4DDvuXmBrR9UVeKOijwGh67UpJIijjBYbr1+cgCttNMB9DwERluAU\n",
       "hSOn8D3Arou4/FVAji5QdOHT9WrmbNylxqGZk7GKAwCrwmH2A8PhRQAAAABJRU5ErkJggg==\n",
       "\" style=\"display:inline;vertical-align:middle;\" /></a></span>"
      ],
      "text/plain": [
       "{alpha in Real, beta in Integer} |- floor(alpha + beta) in Integer"
      ]
     },
     "execution_count": 32,
     "metadata": {},
     "output_type": "execute_result"
    }
   ],
   "source": [
    "floor_alpha_plus_beta.deduce_in_number_set(Integer, assumptions=[InSet(alpha, Real), InSet(beta, Integer)])"
   ]
  },
  {
   "cell_type": "markdown",
   "metadata": {},
   "source": [
    "#### <a id='demo03'></a><font size=4>3. Prove that $\\forall_{x\\in\\mathbb{R}}(\\lceil x \\rceil + \\lfloor -x \\rfloor = 0)$ from the theorem $\\forall_{x\\in\\mathbb{R}}(\\lfloor x \\rfloor + \\lceil -x \\rceil = 0)$.</font>\n",
    "<font size=3>One of our theorems in the rounding theory is that $\\forall_{x\\in\\mathbb{R}}(\\lfloor x \\rfloor + \\lceil -x \\rceil = 0)$. We can use that theorem to prove the complementary theorem that $\\forall_{x\\in\\mathbb{R}}(\\lceil x \\rceil + \\lfloor -x \\rfloor = 0)$, essentially by performing a substitution $x \\mapsto -x$.</font>"
   ]
  },
  {
   "cell_type": "markdown",
   "metadata": {},
   "source": [
    "<font size=3>We begin by importing and displaying the original theorem:</font>"
   ]
  },
  {
   "cell_type": "code",
   "execution_count": 33,
   "metadata": {},
   "outputs": [
    {
     "data": {
      "text/html": [
       "<span style=\"font-size:20px;\"> <a class=\"ProveItLink\" href=\"proofs/floor_plus_ceil_of_neg/thm_proof.ipynb\" style=\"text-decoration: none\">&nbsp;&#x22A2;&nbsp;&nbsp;</a><a class=\"ProveItLink\" href=\"../__pv_it/theorems/98a5152d4929fc08ddb7dad912716b7c8cdcd1c10/expr.ipynb\"><img src=\"data:image/png;base64,iVBORw0KGgoAAAANSUhEUgAAAOEAAAAVBAMAAABCnpRGAAAAMFBMVEX///8QEBCIiIhmZma6urrM\n",
       "zMxUVFQiIiJERETc3Nzu7u6qqqp2dnaYmJgyMjIAAAAcRTyBAAAAAXRSTlMAQObYZgAAArRJREFU\n",
       "SMetlk1oE1EQx/+mSZNsNtGDXmVpIUgRDBRvKkEP4qk56UVI8At6kSJiLYrkJCmiBhH1om5bqBK0\n",
       "LHgoFaFLvEWIKxb8wGpQqyi4BEXx6+DMZjc1+9U05MFbZue9N7+dN/PmLdBOu7ssBmxDwgU916KI\n",
       "6rqKjltUo8d14MqyKmGfknOsEmqIFd0NzlGvsbDoQbzN6/OrJbLNYae2/CqDXvqSR/zy2YP4iRHF\n",
       "TogzDmVCEcbYfVzjVXl3YDxFj6dwJcYkX6Io2ZVPgCo5ShZkGlbciWGOxlhHRGGdXXkWmJcxQX5U\n",
       "SqWrHpvK+uhIR0S8tyt/AEMKEmngZ6Fw2oPYz6chZRInk5c3S/5EoW94Z9kkPrQn8DciShDJ3GFg\n",
       "3IN4nnpEaxAFNX4sXPMn3sEz6YxJfG1oqjq3dzzvL5CVEKexXUYCNdvspoNvLfkUx1JpEEVZ/B0s\n",
       "+hMreCzvMYmz9pwmH7MqYhSkMAKa5fmDQS0gomLl2Xrqa9Kmj4jkm3EUdf3jRt0oNkycMTxZgoxC\n",
       "M45Z910N1Wm1Fra0z+dKIOJLzYUIrJVWzpyvnkTOnHnFIEZre7kgbE1mgpwkTFRddpVsZFYkhr43\n",
       "ibv/i+MHFsn9NzKCnPrjh4gjHw2nDWNEHEy5ZE5M3kKz/In3A3UMtGSOowJw5uAeYUP4AkwZxJ4j\n",
       "x61JnOGieTqGlItc0/2IwT+RulH72eo2RzlRhA1Aj9qMzy9gX6FQkALipQVrEu9M0KwA032T2zV/\n",
       "onBgoH/R2tUlx41STlJYEhyauMwRqIfQ29jV2H65C1VuxP2I37KEm2JNhJhpxLGitlHJBXmVldy8\n",
       "sixheqFcAc7xya2qUzssNRejSJduK+uybmkBimOXbmSPwhkptvnXMTF6oqG4MXrS/tUuPzU5xD0s\n",
       "vwD+AaVq4LAn0DQXAAAAAElFTkSuQmCC\n",
       "\" style=\"display:inline;vertical-align:middle;\" /></a></span>"
      ],
      "text/plain": [
       "|- forall_{x in Real} ((floor(x) + ceil(-x)) = 0)"
      ]
     },
     "execution_count": 33,
     "metadata": {},
     "output_type": "execute_result"
    }
   ],
   "source": [
    "from proveit.numbers.rounding import floor_plus_ceil_of_neg\n",
    "floor_plus_ceil_of_neg"
   ]
  },
  {
   "cell_type": "markdown",
   "metadata": {},
   "source": [
    "<font size=3>Then we instantiate that general theorem, mapping $x$ to $-x$ (and explicitly include the required assumption that $x\\in\\mathbb{R}$). Here we use “kt_<i>i</i>” to stand for the <i>i</i>th “judgment” in the development:</font>"
   ]
  },
  {
   "cell_type": "code",
   "execution_count": 34,
   "metadata": {},
   "outputs": [
    {
     "data": {
      "text/html": [
       "<strong id=\"kt_1\">kt_1:</strong> <span style=\"font-size:20px;\"><a class=\"ProveItLink\" href=\"../__pv_it/axioms/02bd6ad73acd9f4d3192ee4c61bfdcabbff20f180/expr.ipynb\"><img src=\"data:image/png;base64,iVBORw0KGgoAAAANSUhEUgAAADQAAAAPBAMAAABZ6/G2AAAAMFBMVEX///8QEBBmZmaqqqrMzMxE\n",
       "REQyMjIiIiKYmJh2dna6urrc3NxUVFSIiIju7u4AAAA6P00QAAAAAXRSTlMAQObYZgAAAMRJREFU\n",
       "GNNjYMAAHIWh3xIjGLACNr4DLBFxWKVYuScwBOxBEWotL0+ASWmzIcu43kPSpc0KZLy9s+vmBSDN\n",
       "l4ds4IE1QJEJHLXsIHN4NiBJMRcBFXI+4PzHBRJlRXKGeHkyyBwG1gCwgGMaEECdMUsB4nb+C2Bq\n",
       "K7LjtVzBLH8HMMWILMX6Aqie+cF9Bt4HQAGmC0hSLAdUGBjWG8Qz7ACLFCMFFMNkHgeGN3ffajSA\n",
       "Rd5EPYAHrwNr2Gfk4FgZDgkoKAAAelg1omM6Y4wAAAAASUVORK5CYII=\n",
       "\" style=\"display:inline;vertical-align:middle;\" /></a> <a class=\"ProveItLink\" href=\"../__pv_it/demonstrations/25c7b1da48b7fea64864964456c585710bfdcfde0/proof.ipynb\" style=\"text-decoration: none\">&nbsp;&#x22A2;&nbsp;&nbsp;</a><a class=\"ProveItLink\" href=\"../__pv_it/demonstrations/7e824bd7cb70b3f4b321745a2dfb67865d0535290/expr.ipynb\"><img src=\"data:image/png;base64,iVBORw0KGgoAAAANSUhEUgAAAM0AAAAVBAMAAAAX/3cYAAAAMFBMVEX////MzMxUVFR2dna6uroQ\n",
       "EBCqqqqIiIgiIiJmZmYyMjJERETu7u6YmJjc3NwAAACgK8IjAAAAAXRSTlMAQObYZgAAAghJREFU\n",
       "SMdjYAACngsMGKAAjX961SIGAuDVqsV4ZPkuMPApYAovQOM/wtCFAtgegMhTDAx5uOw5zUCOPafR\n",
       "1euBCC4GBqYHGEaZXxYAkuvIsmcduvpTUHt40DUycCXw9DEw8E7Ab086VntAulABcwHEHgZzdJmr\n",
       "DAxWDAwcD8ixhwMjdHgCoPYcRZfZxMCQf4DhBQM59rzA1LAEag+XA5rEJwYG/wSGSjR7eMr13M0J\n",
       "2lOJxD5e9KQYGGiWUHuY0YKU5yfQngKGvWj2HGa4UdBF0J69SOYY8LZzAFXfgtrDC9bJvAoMQJH/\n",
       "mYFBvoChDc0eGwb7A34E7WlDSgAHmP+wAKMrA2oPWwNaTgP6R96AIQRqzymw/QsZDjDsRsSP1apV\n",
       "rasgBQHQHh6IG0GZIQTB42Hg3gBSIA+1h/ED1nALwUgH34lIByHIHP4CfPaA0kF+Aka4MTB+JMKe\n",
       "NmSOPMiHDB5Qe1gakOIHZDAwfO4fwEgHOewfGGpISQdsB+oZ2A+gpwOMfGqJag/LN+4P4DISvz2W\n",
       "CKZ/wn6Gt0B6MtQeTgM0ezgSeAIh3kWyh0e9pvIu4XDzQDAPlR+fC3LYQlg+FUAvKcyLBKhY7jRA\n",
       "7TmBvVogVI6eobgchYJ9ZNUL+4ivF6hbz+2D2sP9AHe9zRPRgWoT34qODWjKDuOvt3nBxjMxMNzD\n",
       "bgsAvmyuMqpzEGUAAAAASUVORK5CYII=\n",
       "\" style=\"display:inline;vertical-align:middle;\" /></a></span><br>"
      ],
      "text/plain": [
       "kt_1: {x in Real} |- (floor(-x) + ceil(-(-x))) = 0"
      ]
     },
     "execution_count": 34,
     "metadata": {},
     "output_type": "execute_result"
    }
   ],
   "source": [
    "from proveit.numbers import Neg\n",
    "kt_1 = floor_plus_ceil_of_neg_spec = floor_plus_ceil_of_neg.instantiate(\n",
    "    {x:Neg(x)}, assumptions=[InSet(x, Real)])"
   ]
  },
  {
   "cell_type": "markdown",
   "metadata": {},
   "source": [
    "<font size=3>That process has left us with a double negation that didn't automatically simplify, so we reach into the left-hand side of the expression using the `inner_expr()` method and `lhs` attribute to grab the $\\lceil -(-x) \\rceil$, and call the `simplify()` method on the operand of that `Ceil` object, to derive an equivalent judgment:</font>"
   ]
  },
  {
   "cell_type": "code",
   "execution_count": 35,
   "metadata": {},
   "outputs": [
    {
     "data": {
      "text/html": [
       "<strong id=\"kt_2\">kt_2:</strong> <span style=\"font-size:20px;\"><a class=\"ProveItLink\" href=\"../__pv_it/axioms/02bd6ad73acd9f4d3192ee4c61bfdcabbff20f180/expr.ipynb\"><img src=\"data:image/png;base64,iVBORw0KGgoAAAANSUhEUgAAADQAAAAPBAMAAABZ6/G2AAAAMFBMVEX///8QEBBmZmaqqqrMzMxE\n",
       "REQyMjIiIiKYmJh2dna6urrc3NxUVFSIiIju7u4AAAA6P00QAAAAAXRSTlMAQObYZgAAAMRJREFU\n",
       "GNNjYMAAHIWh3xIjGLACNr4DLBFxWKVYuScwBOxBEWotL0+ASWmzIcu43kPSpc0KZLy9s+vmBSDN\n",
       "l4ds4IE1QJEJHLXsIHN4NiBJMRcBFXI+4PzHBRJlRXKGeHkyyBwG1gCwgGMaEECdMUsB4nb+C2Bq\n",
       "K7LjtVzBLH8HMMWILMX6Aqie+cF9Bt4HQAGmC0hSLAdUGBjWG8Qz7ACLFCMFFMNkHgeGN3ffajSA\n",
       "Rd5EPYAHrwNr2Gfk4FgZDgkoKAAAelg1omM6Y4wAAAAASUVORK5CYII=\n",
       "\" style=\"display:inline;vertical-align:middle;\" /></a> <a class=\"ProveItLink\" href=\"../__pv_it/demonstrations/8dfbe880908985a3a96aa2d6935eb3462c510fb70/proof.ipynb\" style=\"text-decoration: none\">&nbsp;&#x22A2;&nbsp;&nbsp;</a><a class=\"ProveItLink\" href=\"../__pv_it/demonstrations/2376e95d8639e855f9df8652dd4e8b4f076d4cee0/expr.ipynb\"><img src=\"data:image/png;base64,iVBORw0KGgoAAAANSUhEUgAAAJkAAAAVBAMAAACnAFEqAAAAMFBMVEX////MzMxUVFR2dna6uroQ\n",
       "EBCqqqqIiIgiIiJmZmYyMjJERETu7u6YmJjc3NwAAACgK8IjAAAAAXRSTlMAQObYZgAAAaJJREFU\n",
       "OMtjYAACngsMGKAAjX961SII49WqxQy4Ad8FBj4FTOEFaPxHCOYpBoY8XKadZiDVNC4GBqYHGBrM\n",
       "LwsAyXXkmMaDLs3AlcDTx8DAOwG/aelYTWMwR1d/lYHBioGB4wFZph1FV7+JgSH/AMMLBrJM43JA\n",
       "U/+JgcE/gaESzTSecj13cxymHS96UlwAMY15AqphPD+BphUw7EUz7TDDjYIu7KbxGPC2cyyAmMYL\n",
       "lmdeBQagoP/MwCBfwNCGZpoNg/0BP+ymMR9g/sPyAGIaWwNaqgW6Td6AIQRq2imwLQsZDjDsRoSb\n",
       "1apVrasgmQDkNgbuDbBwY/yA1achGLHwHXcs8BfgMg0UC/kJGD5lYPyI2zR5AZhpLA1I4QbSDvTR\n",
       "/QMYsZDD/oGhBrtpbAfqGdgPIMcCRuq1RDWN5Rv3B74L2E3zT9jP8BbqNk4DNNM4EngCGRg8UE3j\n",
       "Ua+pvIvDp4fKj8+9AEu9Amim8ZgXCZCds05gL5AI5fozROZ6KNhHnRKJktKS+wHukpwnogPVPL4V\n",
       "HRvQlB1GMJkYGO5hNwsAAweOVjjI8n8AAAAASUVORK5CYII=\n",
       "\" style=\"display:inline;vertical-align:middle;\" /></a></span><br>"
      ],
      "text/plain": [
       "kt_2: {x in Real} |- (floor(-x) + ceil(x)) = 0"
      ]
     },
     "execution_count": 35,
     "metadata": {},
     "output_type": "execute_result"
    }
   ],
   "source": [
    "kt_2 = kt_1.inner_expr().lhs.operands[1].operand.simplify(assumptions=[InSet(x, Real)])"
   ]
  },
  {
   "cell_type": "markdown",
   "metadata": {},
   "source": [
    "<font size=3>We now want to commute the addends on the lhs of the inner expression. Before being able to derive the commuted version though, we need to establish that the $\\texttt{Floor}$ and $\\texttt{Ceil}$ terms are actually complex numbers &mdash; and we do that by establishing that the $\\texttt{Floor}$ and $\\texttt{Ceil}$ terms are actually integers (from which Prove-It can then deduce that they are special cases of complex numbers):</font>"
   ]
  },
  {
   "cell_type": "code",
   "execution_count": 36,
   "metadata": {},
   "outputs": [
    {
     "data": {
      "text/html": [
       "<span style=\"font-size:20px;\"><a class=\"ProveItLink\" href=\"../__pv_it/axioms/02bd6ad73acd9f4d3192ee4c61bfdcabbff20f180/expr.ipynb\"><img src=\"data:image/png;base64,iVBORw0KGgoAAAANSUhEUgAAADQAAAAPBAMAAABZ6/G2AAAAMFBMVEX///8QEBBmZmaqqqrMzMxE\n",
       "REQyMjIiIiKYmJh2dna6urrc3NxUVFSIiIju7u4AAAA6P00QAAAAAXRSTlMAQObYZgAAAMRJREFU\n",
       "GNNjYMAAHIWh3xIjGLACNr4DLBFxWKVYuScwBOxBEWotL0+ASWmzIcu43kPSpc0KZLy9s+vmBSDN\n",
       "l4ds4IE1QJEJHLXsIHN4NiBJMRcBFXI+4PzHBRJlRXKGeHkyyBwG1gCwgGMaEECdMUsB4nb+C2Bq\n",
       "K7LjtVzBLH8HMMWILMX6Aqie+cF9Bt4HQAGmC0hSLAdUGBjWG8Qz7ACLFCMFFMNkHgeGN3ffajSA\n",
       "Rd5EPYAHrwNr2Gfk4FgZDgkoKAAAelg1omM6Y4wAAAAASUVORK5CYII=\n",
       "\" style=\"display:inline;vertical-align:middle;\" /></a> <a class=\"ProveItLink\" href=\"../__pv_it/demonstrations/273933f7331125f0d47765ce02cb905121fa62900/proof.ipynb\" style=\"text-decoration: none\">&nbsp;&#x22A2;&nbsp;&nbsp;</a><a class=\"ProveItLink\" href=\"../__pv_it/demonstrations/93a8bbe062a6871db67c268ee1dfd7e101ab19200/expr.ipynb\"><img src=\"data:image/png;base64,iVBORw0KGgoAAAANSUhEUgAAAFMAAAAVBAMAAADInc9CAAAAMFBMVEX///9mZmaqqqpERER2dna6\n",
       "urqIiIjMzMwyMjIiIiIQEBBUVFTc3NyYmJju7u4AAAAW4EnlAAAAAXRSTlMAQObYZgAAAPpJREFU\n",
       "KM9jeMuAAdgYsIPTmEIc5CuNXL+ia8ZaopQmiwOFDIhSKsLA4MQSgFfp5ZkzG0C0HAPPhkK8bi3O\n",
       "g4swP7BDU/os+2hKAkwpXx9C4hrvBVSlfA680zgbYEq5DyAkDB6jBRbLA5Z/rAdgSpkREtwFe6BK\n",
       "+TrAoICPgdkA4dYqkBjYWwyBrA4YUcCfgFB6GCHcwAyyElVpfQFCKRfCYQquYC6SUqYH+QxsD2BK\n",
       "GRPgcc+zgYFBCkVpvII9w1lEuE6CidsxP2B4fRlF6eu0Z7IXEEpfmz4A06yLu4ytfhnijdgQS0jE\n",
       "0ia9kqH01czZqAInZk7GrhIAddxKPcZNJWEAAAAASUVORK5CYII=\n",
       "\" style=\"display:inline;vertical-align:middle;\" /></a></span>"
      ],
      "text/plain": [
       "{x in Real} |- floor(-x) in Integer"
      ]
     },
     "execution_count": 36,
     "metadata": {},
     "output_type": "execute_result"
    }
   ],
   "source": [
    "InSet(Floor(Neg(x)), Integer).prove(assumptions=[InSet(x, Real)])"
   ]
  },
  {
   "cell_type": "code",
   "execution_count": 37,
   "metadata": {},
   "outputs": [
    {
     "data": {
      "text/html": [
       "<span style=\"font-size:20px;\"><a class=\"ProveItLink\" href=\"../__pv_it/axioms/02bd6ad73acd9f4d3192ee4c61bfdcabbff20f180/expr.ipynb\"><img src=\"data:image/png;base64,iVBORw0KGgoAAAANSUhEUgAAADQAAAAPBAMAAABZ6/G2AAAAMFBMVEX///8QEBBmZmaqqqrMzMxE\n",
       "REQyMjIiIiKYmJh2dna6urrc3NxUVFSIiIju7u4AAAA6P00QAAAAAXRSTlMAQObYZgAAAMRJREFU\n",
       "GNNjYMAAHIWh3xIjGLACNr4DLBFxWKVYuScwBOxBEWotL0+ASWmzIcu43kPSpc0KZLy9s+vmBSDN\n",
       "l4ds4IE1QJEJHLXsIHN4NiBJMRcBFXI+4PzHBRJlRXKGeHkyyBwG1gCwgGMaEECdMUsB4nb+C2Bq\n",
       "K7LjtVzBLH8HMMWILMX6Aqie+cF9Bt4HQAGmC0hSLAdUGBjWG8Qz7ACLFCMFFMNkHgeGN3ffajSA\n",
       "Rd5EPYAHrwNr2Gfk4FgZDgkoKAAAelg1omM6Y4wAAAAASUVORK5CYII=\n",
       "\" style=\"display:inline;vertical-align:middle;\" /></a> <a class=\"ProveItLink\" href=\"../__pv_it/demonstrations/801630e2b392cc36b504156e0df27a8daab26ce10/proof.ipynb\" style=\"text-decoration: none\">&nbsp;&#x22A2;&nbsp;&nbsp;</a><a class=\"ProveItLink\" href=\"../__pv_it/axioms/1753a32f8121d6744c329e8d375406c198be2f500/expr.ipynb\"><img src=\"data:image/png;base64,iVBORw0KGgoAAAANSUhEUgAAAEMAAAAVBAMAAADvM06qAAAAMFBMVEX///8QEBBmZmaqqqrMzMwi\n",
       "IiKYmJi6urqIiIh2dnbc3NxUVFQyMjJERETu7u4AAADasDZTAAAAAXRSTlMAQObYZgAAAPpJREFU\n",
       "KM9jeHvmNAMYrDlzkgE7WI1gviGshAdNqlRe5mCMGF4lvSpAoQt4lWgyMEzmLMCqJDc09ACI1mPg\n",
       "2uCE1S2+fXAR3gf3oEpedC/vbIAp4TuH0JTBlgBRwjeBLYL1AEwJ9wK4Cr4Lb6Ge5nzA+Y99AUwJ\n",
       "L8IQboddUCV8DLwXEG5xPAMEYOcyFLFPgAcdfwNCyVqEKQd4QVZAlPg7IJQwwlVwGkwHc4FKmB/0\n",
       "M3A8gClhaoDHDdcGBgZFsJJ6g/sMyxDhEgxTco/3AcPrXLCS1x0v1BIQSl5ffwCm2WUP3r348RLW\n",
       "CKi8CokAIhIDdZW8RApv7CoADI9L6EZF61UAAAAASUVORK5CYII=\n",
       "\" style=\"display:inline;vertical-align:middle;\" /></a></span>"
      ],
      "text/plain": [
       "{x in Real} |- ceil(x) in Integer"
      ]
     },
     "execution_count": 37,
     "metadata": {},
     "output_type": "execute_result"
    }
   ],
   "source": [
    "InSet(Ceil(x), Integer).prove(assumptions=[InSet(x, Real)])"
   ]
  },
  {
   "cell_type": "markdown",
   "metadata": {},
   "source": [
    "<font size=3>Now we're ready to commute the terms of the lhs of the inner expression:</font>"
   ]
  },
  {
   "cell_type": "code",
   "execution_count": 38,
   "metadata": {},
   "outputs": [
    {
     "data": {
      "text/html": [
       "<strong id=\"kt_3\">kt_3:</strong> <span style=\"font-size:20px;\"><a class=\"ProveItLink\" href=\"../__pv_it/axioms/02bd6ad73acd9f4d3192ee4c61bfdcabbff20f180/expr.ipynb\"><img src=\"data:image/png;base64,iVBORw0KGgoAAAANSUhEUgAAADQAAAAPBAMAAABZ6/G2AAAAMFBMVEX///8QEBBmZmaqqqrMzMxE\n",
       "REQyMjIiIiKYmJh2dna6urrc3NxUVFSIiIju7u4AAAA6P00QAAAAAXRSTlMAQObYZgAAAMRJREFU\n",
       "GNNjYMAAHIWh3xIjGLACNr4DLBFxWKVYuScwBOxBEWotL0+ASWmzIcu43kPSpc0KZLy9s+vmBSDN\n",
       "l4ds4IE1QJEJHLXsIHN4NiBJMRcBFXI+4PzHBRJlRXKGeHkyyBwG1gCwgGMaEECdMUsB4nb+C2Bq\n",
       "K7LjtVzBLH8HMMWILMX6Aqie+cF9Bt4HQAGmC0hSLAdUGBjWG8Qz7ACLFCMFFMNkHgeGN3ffajSA\n",
       "Rd5EPYAHrwNr2Gfk4FgZDgkoKAAAelg1omM6Y4wAAAAASUVORK5CYII=\n",
       "\" style=\"display:inline;vertical-align:middle;\" /></a> <a class=\"ProveItLink\" href=\"../__pv_it/demonstrations/9f945d1eaf1e455ef5a5dea6cbfe8c91b50e95b40/proof.ipynb\" style=\"text-decoration: none\">&nbsp;&#x22A2;&nbsp;&nbsp;</a><a class=\"ProveItLink\" href=\"../__pv_it/demonstrations/64551f1a641d9f40741f320680295c80bc8e988c0/expr.ipynb\"><img src=\"data:image/png;base64,iVBORw0KGgoAAAANSUhEUgAAAJkAAAAVBAMAAACnAFEqAAAAMFBMVEX////MzMxUVFR2dna6uroQ\n",
       "EBCqqqqIiIgiIiJmZmYyMjJERETu7u6YmJjc3NwAAACgK8IjAAAAAXRSTlMAQObYZgAAAaJJREFU\n",
       "OMtjYAACnl2rFEA0A9+qVQYMqOAsAwZgZ8AN+C4w8CnAeTwL0KQfYergYmDIw2XaaQZk0xiIM43p\n",
       "AYao+WUBILmOHNMwvMDAlcDTx8DAOwG7ael4TWMwRxe8ysBgxcDA8YAs046iC25iYMg/wPCCgSzT\n",
       "uBzQBD8xMPgnMFRCTeMp13M3J2Da8aInxQUQ05gnoBrG8xNoWgHDXqhphxluFHThN43HgLedYwHE\n",
       "NF6wOuZVYAAK+s8MDPIFDG1Q02wY7A/44TeN+QDzH5YHENPYGtBSLdBt8gYMIVDTDjDsRoSb1apV\n",
       "ratWLYKaxgNxgQAPA/cGWLgxfsDq0xB4LHwnHAv8BbhMA8VCfgLcpwyMHwmbJi8AM42lASncQNqB\n",
       "Prt/AB4LOewfGGrwm8Z2oJ6B/QByLGCkXkuIaSzfuD8A8z9e0/wT9jO8hbqNE72s4UjgCWRg8ICY\n",
       "xqNeU3mXgE8PlR+fewGWegXQTOMxLxIgO2edwF4g4cr1Z0jM9VCwjzolEiWlJfcD3CU5D1IEKaBJ\n",
       "H+1oQhV41dHNwHAPu1kA5EyLwvSZAiQAAAAASUVORK5CYII=\n",
       "\" style=\"display:inline;vertical-align:middle;\" /></a></span><br>"
      ],
      "text/plain": [
       "kt_3: {x in Real} |- (ceil(x) + floor(-x)) = 0"
      ]
     },
     "execution_count": 38,
     "metadata": {},
     "output_type": "execute_result"
    }
   ],
   "source": [
    "kt_3 = kt_2.inner_expr().lhs.commute(0, 1, assumptions=[InSet(x, Real)])"
   ]
  },
  {
   "cell_type": "markdown",
   "metadata": {},
   "source": [
    "<font size=3>And generalize to our desired universal claim:</font>"
   ]
  },
  {
   "cell_type": "code",
   "execution_count": 39,
   "metadata": {},
   "outputs": [
    {
     "data": {
      "text/html": [
       "<span style=\"font-size:20px;\"> <a class=\"ProveItLink\" href=\"../__pv_it/demonstrations/2fdb23ebf9270d4dbe13f0ca130ccc9d2fda1eab0/proof.ipynb\" style=\"text-decoration: none\">&nbsp;&#x22A2;&nbsp;&nbsp;</a><a class=\"ProveItLink\" href=\"../__pv_it/demonstrations/a7d4cfbd54fd6af621e75727373b9841dc499a650/expr.ipynb\"><img src=\"data:image/png;base64,iVBORw0KGgoAAAANSUhEUgAAAOEAAAAVBAMAAABCnpRGAAAAMFBMVEX///8QEBCIiIhmZma6urrM\n",
       "zMxUVFQiIiJERETc3Nzu7u6qqqp2dnaYmJgyMjIAAAAcRTyBAAAAAXRSTlMAQObYZgAAArFJREFU\n",
       "SMetlktoE1EUhn+neU4m0YXiToYWghTBQHGnEnQhrpqVboQUX9CNFBFKUSQrSRExiKgbdWyhSihh\n",
       "wEWpCA1xFyFGLPjAalBrUXQIiuJr4TnzSM28GkMuTLhz7r3nm3P/c88N0Em7o703Oje0T7Yhse6c\n",
       "LqPrFmV314Erq6aSfcqIc1kDsYK7w3l9lNqSV2wcRK6NmOiIiFGntfIygxB9yUN++ehB/MCIQjfE\n",
       "ksOYUMUJiDR0jVfl3IHxFP08gSsxJvsSJYeWj4EaBUoeFBpW3YlhVmOiK6K4wW48BywouEVxVIvF\n",
       "qx6byvboWFdEvLMbvwPDKhJp4Ec+f8aDOECPkDKJU8nL22R/otg/uqdiEh/YT9FXIsqQyN0xYNKD\n",
       "eIGeSN0giuX4yXDDnziLp/JZk/hKt9Q0bm953h8gKyNOY3v1BGq1ua1H3lj906ylahAlRfoVKPgT\n",
       "q3ik7DeJc/acphizZcRIpDAEq2yI94fqgoSqlWcb6VmXNmNEJNfSUdK0lS2aNmISS3oky1CQb+mY\n",
       "dd/VYJNW18OW9dl8EUR8UXchAuvltTPniyeRM2dB1YnRxgEuCDuSmQAnCRPLLrtKPjJrEoPfWsR9\n",
       "/+ioF2UK/7WCAKf+5FHiKCfCad0ZEYdSLpkTU7bTLH/iPaGJwbbMcVQAzhzcJWwQn4Fpndh3/JQ1\n",
       "iTNcMk/HsHqRa7ofMfA70tRrP3vd6SgnqrgJ6Cu39PkJHMzn87IgXVq0JvHOBMwKMNM/tavuTxQP\n",
       "Dw4sWbu6bCeKlSTJkmBp4gor0AwiZOxq7JDSgyo35n7Eb1udm1JDgpQxdKyWO6jkovKfldy8sqzO\n",
       "zGKlCpznk1srT++2zFyMIj26rYzvbLS/C6Rjj25kj8IZKXT4r2N21RSyf/Xm8XZmdGU8h7iH5+fA\n",
       "X0GN4UZ3YSlrAAAAAElFTkSuQmCC\n",
       "\" style=\"display:inline;vertical-align:middle;\" /></a></span>"
      ],
      "text/plain": [
       "|- forall_{x in Real} ((ceil(x) + floor(-x)) = 0)"
      ]
     },
     "execution_count": 39,
     "metadata": {},
     "output_type": "execute_result"
    }
   ],
   "source": [
    "kt_3.generalize(x, domain=Real)"
   ]
  },
  {
   "cell_type": "markdown",
   "metadata": {},
   "source": [
    "## Misc Testing\n",
    "The material below was developed to test various rounding-related methods. Some of this material could be integrated into the `_demonstrations_` page eventually and/or deleted as development continues."
   ]
  },
  {
   "cell_type": "markdown",
   "metadata": {},
   "source": [
    "### Example `Ceil`, `Floor`, and `Round` Expressions"
   ]
  },
  {
   "cell_type": "code",
   "execution_count": 40,
   "metadata": {},
   "outputs": [
    {
     "data": {
      "text/html": [
       "<strong id=\"ceil_2\">ceil_2:</strong> <a class=\"ProveItLink\" href=\"../__pv_it/demonstrations/ecde84249e0f377b8cc7e8179a6569c66c62a5520/expr.ipynb\"><img src=\"data:image/png;base64,iVBORw0KGgoAAAANSUhEUgAAABYAAAAVBAMAAACwDgOmAAAALVBMVEX///+qqqqIiIgiIiIQEBC6\n",
       "urrMzMxmZmZ2dnbc3NxUVFQyMjJERETu7u4AAAAp5osHAAAAAXRSTlMAQObYZgAAAHJJREFUCNdj\n",
       "uLN7FwMIzN69g2EWAwzcBrOv1xwDktwgNu8Chr4AKJv9AgOLA5TNYsDA9RLK5n7LwPUMygYC5rcI\n",
       "dlwDgm3FAGezFyDY6gxwNmMBw0wYO4OBQRPK5rToqDKA2fXu3TsDhJkIvYTYN+BsLgCarCLYwReK\n",
       "3gAAAABJRU5ErkJggg==\n",
       "\" style=\"display:inline;vertical-align:middle;\" /></a><br>\n",
       "<strong id=\"ceil_x_minus_y\">ceil_x_minus_y:</strong> <a class=\"ProveItLink\" href=\"../__pv_it/demonstrations/e904cde9e7dd232b28ddc308ca3da3aa1d84d0440/expr.ipynb\"><img src=\"data:image/png;base64,iVBORw0KGgoAAAANSUhEUgAAAD0AAAAVBAMAAAAHs/uBAAAAMFBMVEX///8QEBBmZmaqqqrMzMwi\n",
       "IiKYmJi6urqIiIh2dnbc3NxUVFQyMjJERETu7u4AAADasDZTAAAAAXRSTlMAQObYZgAAALpJREFU\n",
       "KM9jeHvmNAMOwHXmzASG1Qx4AN8B/PIMg0P+RffyzgZUhzc1MCx8AJXnm8AWwXoARZ6TXYChH6af\n",
       "8wHnP/YFKPKLmQ4w3IXJ8zHwXgCLvjkDAkeArAeMDQw/EO7jb0B3WP0Dli8IeX8HdHkdBg4BmDzz\n",
       "g34Gjgeo8rcZeDfA5OsN7jMsQ9OvzVCfAJN/3fFCLQFN/nWH/gL84aeDL3y5D/B9xyfPmsDbgE+e\n",
       "vUMFGj8v8cbfBgAypUrpZHaJRQAAAABJRU5ErkJggg==\n",
       "\" style=\"display:inline;vertical-align:middle;\" /></a><br>\n",
       "<strong id=\"ceil_x_minus_y_plus_2\">ceil_x_minus_y_plus_2:</strong> <a class=\"ProveItLink\" href=\"../__pv_it/demonstrations/a23f5980ba8c3d08a64daa2219aa1fce80e3657a0/expr.ipynb\"><img src=\"data:image/png;base64,iVBORw0KGgoAAAANSUhEUgAAAHAAAAAVBAMAAABs93eRAAAAMFBMVEX////MzMy6uroQEBCqqqqI\n",
       "iIgiIiJmZmaYmJh2dnbc3NxUVFQyMjJERETu7u4AAAAjuzXOAAAAAXRSTlMAQObYZgAAAYRJREFU\n",
       "OMtjeHvmNAPJYM2ZkwyrQQyuBpxqvLALv4FofIvbcO4FaALPay8CSR6IxlO4NfIdQONvYJivANPI\n",
       "UYDHP1OhNEsAmGJ/wMBsANPItgCPxseoGpkTGLh/wTQuwxeCPAooGnn+MXB/hGkMB7k9dJfqVFTf\n",
       "hAcwLH7AwFmAohHkwH8wjTeA+CVDW0AOikZOJgOGeGAAHEDXqD8BpjEFiOcxzH+ghaJxCfsBhrtA\n",
       "DQnoGrPh0WEExA9AikAxewYEDoJEmAMYvjIwMH4A2X7mzDGbM2c2gMO1AEUjA0gRKtB/wPgRqhHZ\n",
       "xnAGBmSnMoAUoYIaBlZgjDGhOZWlgGEVcuD4sX5giEPVeJuBdwNm4EgyMETBNE4HmvuF9wN6Uq9m\n",
       "0AeKsE9A0ciVObM6AaZRDRhpW+PCO9Cc+jq0HpikeARQE8D///8TCCa5GiB+xoAeHYjAwZ7IuQ/w\n",
       "fUJK5HwPMDUy3MKmka2BNwAzW6FqxJqRmUILgSTvAhwaXxIoOrpwFAwAbQBwedtjouYAAAAASUVO\n",
       "RK5CYII=\n",
       "\" style=\"display:inline;vertical-align:middle;\" /></a><br>"
      ],
      "text/plain": [
       "ceil_2: ceil(2)\n",
       "ceil_x_minus_y: ceil(x - y)\n",
       "ceil_x_minus_y_plus_2: ceil((x - y) + 2)"
      ]
     },
     "execution_count": 40,
     "metadata": {},
     "output_type": "execute_result"
    }
   ],
   "source": [
    "# Some example test expressions involving Ceil\n",
    "ceil_2, ceil_x_minus_y, ceil_x_minus_y_plus_2 = (\n",
    "    Ceil(two), Ceil(subtract(x,y)), Ceil(Add(subtract(x,y), two)))"
   ]
  },
  {
   "cell_type": "code",
   "execution_count": 41,
   "metadata": {},
   "outputs": [
    {
     "data": {
      "text/html": [
       "<strong id=\"floor_2\">floor_2:</strong> <a class=\"ProveItLink\" href=\"../__pv_it/demonstrations/9e731f5308ae8a31fde1ce771a5fbef8cd12b19d0/expr.ipynb\"><img src=\"data:image/png;base64,iVBORw0KGgoAAAANSUhEUgAAABYAAAAVBAMAAACwDgOmAAAAMFBMVEX///+qqqqIiIgyMjK6urp2\n",
       "dnbMzMxERERmZmYiIiIQEBBUVFTc3NyYmJju7u4AAADXUSrrAAAAAXRSTlMAQObYZgAAAHBJREFU\n",
       "CNdjeMsAA0wMp+FsZjD7RXsZjM23gSHeAcrmeMDAtQDK5prAwP0Hymb+x8D9DaaXgYHzH4LtH4Bg\n",
       "z4abz8DRgGBrIOxlbGA4A2OnMjDoQNk8U0O7J8Ds+v///wSEmQi9hNivZs4Gsw7PnA4AQosnMpdo\n",
       "eMcAAAAASUVORK5CYII=\n",
       "\" style=\"display:inline;vertical-align:middle;\" /></a><br>\n",
       "<strong id=\"floor_x_plus_y\">floor_x_plus_y:</strong> <a class=\"ProveItLink\" href=\"../__pv_it/theorems/dadf525416372b2ea30b4e345e723e674b8603040/expr.ipynb\"><img src=\"data:image/png;base64,iVBORw0KGgoAAAANSUhEUgAAAD0AAAAVBAMAAAAHs/uBAAAAMFBMVEX///9mZmaqqqrMzMxEREQy\n",
       "MjJ2dna6urqIiIgiIiIQEBBUVFTc3NyYmJju7u4AAABISk2iAAAAAXRSTlMAQObYZgAAAL5JREFU\n",
       "KM9jeMuADzQwnMYrH0BteQ1ayL/oPt7WgCLP19jAcOoBVJ4vgXcGZwCKPBv7AoZ+mH62B2z/2A+g\n",
       "yB9iDGBwgcnzMbA4gEVTQ0NnhYZGA1kPuBoYfiDcx9+A7r76B8yfEfL2BujyogwcC2DyTA/6GTge\n",
       "oMp7M7BsgMnXK/gznEXTL81QfwEm/7rjhewFNPnXHfIH8IefKNbwfQehuAP4vuOLX84LLA345Nk7\n",
       "hKHx82rmbFyJgydypgMAU3tCP2kV/A0AAAAASUVORK5CYII=\n",
       "\" style=\"display:inline;vertical-align:middle;\" /></a><br>\n",
       "<strong id=\"floor_x_plus_y_plus_1\">floor_x_plus_y_plus_1:</strong> <a class=\"ProveItLink\" href=\"../__pv_it/demonstrations/5603b58563000caaccf3d5ef0370d7e4887124600/expr.ipynb\"><img src=\"data:image/png;base64,iVBORw0KGgoAAAANSUhEUgAAAHAAAAAVBAMAAABs93eRAAAAMFBMVEX////MzMx2dna6urqqqqqI\n",
       "iIhmZmYyMjJEREQiIiIQEBBUVFTc3NyYmJju7u4AAACf0+qcAAAAAXRSTlMAQObYZgAAAVNJREFU\n",
       "OMtjeMtAFmBlOA2ieC7gVOGDXZgdovEFbqO5D+DTWINbI18BuojXA7hG3gQUGVcUniqUZgmAGLRp\n",
       "P0Ij5wE8Gl+hamRguI/QeJIBj0Z2A9waw0BOCN1jqoqikS8sgOHUAwamBNwae4H4EcPNgOkoGpmY\n",
       "FzDEAwOgALfGKUCsx6D/wAZF4xG2AoYOoIYJuDUuBuIHIEVAoF5ePqu8vBokwhXA8JWBgfEDyPby\n",
       "8srl5eUbsGhkAClCDRz7B4wfoRrxOJUBpAhVYzoD6wIGBuYJ+APHj/UDQxyqxm4Gjg34A0cNaO4X\n",
       "jg+wpA7TmM1gDxRhU0DTGI/QaAmMtK1xYXfRnPo6NB+YpNgFUDVmry+7QDDJpQPxS/Qkh5Q70BL5\n",
       "O2iGKuD7jJTI+R5gyVY92DIU5wWOAGzZimBGZg5NBJIcuDLyq5mz8RYdd7AJHp85AwDScHUHP4pp\n",
       "RQAAAABJRU5ErkJggg==\n",
       "\" style=\"display:inline;vertical-align:middle;\" /></a><br>"
      ],
      "text/plain": [
       "floor_2: floor(2)\n",
       "floor_x_plus_y: floor(x + y)\n",
       "floor_x_plus_y_plus_1: floor((x + y) + 1)"
      ]
     },
     "execution_count": 41,
     "metadata": {},
     "output_type": "execute_result"
    }
   ],
   "source": [
    "# Some example test expressions involving Floor\n",
    "floor_2, floor_x_plus_y, floor_x_plus_y_plus_1 = (\n",
    "    Floor(two), Floor(Add(x, y)), Floor(Add(Add(x,y), one)))"
   ]
  },
  {
   "cell_type": "code",
   "execution_count": 42,
   "metadata": {},
   "outputs": [
    {
     "data": {
      "text/html": [
       "<strong id=\"round_2\">round_2:</strong> <a class=\"ProveItLink\" href=\"../__pv_it/demonstrations/851104700fe3bc68ed2f34eb6917f263840e02fa0/expr.ipynb\"><img src=\"data:image/png;base64,iVBORw0KGgoAAAANSUhEUgAAAE8AAAAUBAMAAAA+U32BAAAAMFBMVEX///+YmJjc3NxmZmYiIiLM\n",
       "zMwQEBCqqqoyMjJERER2dnbu7u5UVFSIiIi6uroAAAA5J+EfAAAAAXRSTlMAQObYZgAAAZxJREFU\n",
       "KM+Fk79LHEEUxz/u7f3Y3dwqBiuLrGIZ8MBGEgPHlRJwO9sLBItA4Lj8AVmwSOmBIAgKC6aSCFuE\n",
       "qw7vBAub4w7EJuR0K9skYgjkktM3YyzSjNO8+b75vJl5b96AcczcmbqJyW6V8Bp4C9shjwITOV6j\n",
       "ENDCHeFFJvBbwmN4DmtwYAI/QgVeQy+gaQLXscqwkdALKaT4Xw8Hfdn7NPVO+zQT/9Ps4AVYz85+\n",
       "USzpiJUEt4TrfHCqzKXeVcavciF6l3bAZeAMcSYU5/+GsYhVu+OHLMPyTCZiW3TEfOi9QpRdU6Dd\n",
       "gXyZpJ1CZgh/klyft1o/UQ47JpcqcEEV9Tu8F5trYP2VemR/an2iHBKgQX1RBS6Kbce4V1KPYlXr\n",
       "H544JEAf/Q4rwJf836hHmCAXs4PTmBadH7rtGif5QCWTjSkGKhlLTiPTYROWuCzF1gg3mnL6Yy9d\n",
       "VRTm9veOBYj1prD/Ra7TGtS7oWjrqOZ1z56e67WNm5trKITmLqvcTz6bOdUUd+PgAdD514fmNlNA\n",
       "4/+AB7/CJNwCTMFw/Bd/2iMAAAAASUVORK5CYII=\n",
       "\" style=\"display:inline;vertical-align:middle;\" /></a><br>\n",
       "<strong id=\"round_x\">round_x:</strong> <a class=\"ProveItLink\" href=\"../__pv_it/demonstrations/f40e1ab227f77d463f1ccbe994d8b59d118d805d0/expr.ipynb\"><img src=\"data:image/png;base64,iVBORw0KGgoAAAANSUhEUgAAAFEAAAAUBAMAAAAHNMzaAAAAMFBMVEX///+YmJjc3NxmZmYiIiLM\n",
       "zMwQEBCqqqoyMjJERER2dnbu7u5UVFSIiIi6uroAAAA5J+EfAAAAAXRSTlMAQObYZgAAAYdJREFU\n",
       "KM+NkztIw1AUhj+T2prExvfkYCuOgh1FFMRJxKGba10FoXR1MODgWhAEQSGDkw/MIA4iVp1cCoHi\n",
       "olaLg5tYBelQFc8NtYJD9C6H79z/v49zz4XQkWzEXJiodT2FlW9AeyJM2pGl7VtgOWHKZ4+eJuyH\n",
       "KbdhqglHYcoVtMkmtFWwb0/LvqxeqlglnyPP3hssT4A2dlUjnpITli+eZGszhWmsGhmGKtarbme4\n",
       "F96ikOAxYdQxOuGYXn8aWhzmImd2mhmYSeoOG8IOI2lrHqFIFnY58B4gNolXqIBeh3cv6rMY8IBK\n",
       "RFyiMuWJW1W3CssSo3m0DylL61vAlyohDqWEj2/lqMSCi/kqZYlnAn6xJCEOtTvKDbaUYUE9RydR\n",
       "l02MfL9wrG4WslzGEupGS/EqN8GNNGXRz1iDcR5TrvaJ6fQZfsusqUpj14yqJgbdDZaFnWs50kk5\n",
       "V0wLa+dZq3g1fKfmrOJNqUtVPh3edD+veRgu/G+HyDD+13VKkP9t+fN3dMMXE1dxt/bCHG0AAAAA\n",
       "SUVORK5CYII=\n",
       "\" style=\"display:inline;vertical-align:middle;\" /></a><br>\n",
       "<strong id=\"round_x_plus_y\">round_x_plus_y:</strong> <a class=\"ProveItLink\" href=\"../__pv_it/demonstrations/e11c5e186f91c82172614096a80999679d71a1150/expr.ipynb\"><img src=\"data:image/png;base64,iVBORw0KGgoAAAANSUhEUgAAAHUAAAAUBAMAAABBgm9wAAAAMFBMVEX///+YmJjc3NxmZmYiIiLM\n",
       "zMwQEBCqqqoyMjJERER2dnbu7u5UVFSIiIi6uroAAAA5J+EfAAAAAXRSTlMAQObYZgAAAeFJREFU\n",
       "OMuNlD9IG3EUx7+5i0l+92uusX8mh8YiugjNIgRJaehUpEO2rukmBSG4OvRAwYwBQRBauKFTbegN\n",
       "kkFCE52yBA6CS9OrRwc3SRooDlHxvXPpiffT277vfT+/P+/93gHKbzoys6rCJrZzkLXI9IOsCn5Y\n",
       "QSraIC0VO3DwOBRIuv+ruor9ArxWsA0Vuw6tqGBTPsxfPzyK1Xu+7LloOOa3595LQFs8OkM6R/fy\n",
       "Dk/rIZZ9sw6MHAyxKcqY8eVIN8s4Jv0ZrSxOsmIMkQH28cR9E2KNwIeYhXfxtlnCErA0rVvYIW3h\n",
       "RUm+B6l4BdjFd+dPiJ0LfEgW4bR8QB8D507CxUqgn3EgbiNBKYd9vFu1urFcrbYpQr4L6v8Q+EiJ\n",
       "RA3aBTVl4l+gOxygNZgF+8K1uvYxmyfVsmGMqCnpcqD/SgrQGnxmsC/M5gOfSU34wE8og4SNTxC1\n",
       "KdLJsdGqoJPMcq3W0kP0wyz52kGtNF5Wb2MLKOAkZ2uXMKynwo29NbgN5pkYapkwW8CAIrodbA18\n",
       "/UlXa3qr3RJp7aAiu0fzvzknu/3e5I0zN71X9M5TJfUIRr1JrtGeGr0xC9K5nj5LXt41C/SJ22Yw\n",
       "nhHuXTPIO902+6a3ELXsPf85j4Arv6aTrfdtZXQAAAAASUVORK5CYII=\n",
       "\" style=\"display:inline;vertical-align:middle;\" /></a><br>\n",
       "<strong id=\"round_1_plus_2\">round_1_plus_2:</strong> <a class=\"ProveItLink\" href=\"../__pv_it/demonstrations/dc9aabfbfedbaf6cb00160ad76effe44fc0c7c7a0/expr.ipynb\"><img src=\"data:image/png;base64,iVBORw0KGgoAAAANSUhEUgAAAHMAAAAUBAMAAABMnB83AAAAMFBMVEX///+YmJjc3NxmZmYiIiLM\n",
       "zMwQEBCqqqoyMjJERER2dnbu7u5UVFSIiIi6uroAAAA5J+EfAAAAAXRSTlMAQObYZgAAAdJJREFU\n",
       "OMuVlM9LFGEYxz/O7K+ZaScpPHVoDI9BG14iE8SjBM3N6wYiUQSL/QENFLS3FoJAUBiwk7gwB/Ek\n",
       "7QYRXsQF8RJtzsmrJUXilva8U8SwzL7Se3n4Ps/7ed93nh8D2jU6KLCgo/KvKziNjIAzvuhzwdOx\n",
       "F2uUZEPxUZ9/E/sUJ9ChhxGXZeNa768udv7YCZiHpg59A9NihvrROdjx2NChzzCmstCXETs+pRj3\n",
       "09uu+Jq7sbPbYSNy1651J8G4vfeDciULlXUvwq5gWy+sKmOxc2S6VfZFL9PyOPCsHtZwNuqeiDtg\n",
       "Ntd2fWZgZtQMWBQdcMN37iMqV8tGc21RU0StGEwJ/4wKHR4n+qpy5EIK8T/UrtefP6jX2wk6rsr+\n",
       "BZ6KLTQwfkk18t8TvaUcckQKTd+apECht8S2QuwjqUa5muivjjjkiAEPfoLh4Ur2H6rGGaYQsoTV\n",
       "uCK62LNbNbaKXnaa8iFlT6XJkDditnkFdziohMYpdjBidYbu2qoA8rx+dGx15b0gYXIxrH6Uz9rs\n",
       "Lmz7oo13NWd77/rnJGZ+OL7Z1xJnZ9+g5OtnbjotUi0ha11PqvZPDVuUVs1zUGvgVOqHTm1o/P+h\n",
       "5/5gLsFvznWOTFNjBx8AAAAASUVORK5CYII=\n",
       "\" style=\"display:inline;vertical-align:middle;\" /></a><br>\n",
       "<strong id=\"round_x_plus_2\">round_x_plus_2:</strong> <a class=\"ProveItLink\" href=\"../__pv_it/demonstrations/72661182f259a49cb58bb9d57d9f44cd8200bd310/expr.ipynb\"><img src=\"data:image/png;base64,iVBORw0KGgoAAAANSUhEUgAAAHUAAAAUBAMAAABBgm9wAAAAMFBMVEX///+YmJjc3NxmZmYiIiLM\n",
       "zMwQEBCqqqoyMjJERER2dnbu7u5UVFSIiIi6uroAAAA5J+EfAAAAAXRSTlMAQObYZgAAAehJREFU\n",
       "OMudlD1oFFEQx3/Z+9x93np+VRZuJKXgQRrxA4KVBMHtbE8QEUE4YmnhgoLXeSAIgQQWtIoebiEp\n",
       "JHinWKQ5snCkMZ4eFunEMygBzyTO2zTestlAphn+M+83uzvzZiHVxvfMzKRhuWcVVCMpoyZnXQ45\n",
       "afDhGsXEA0tY2ygvjf0RcGwkUAh3/QW4Bc009gVcTmRvworDYhr7EGMqkX0SsOJS7GN/fteTWLPb\n",
       "V92QxcB+dbp3CYzzq5uUKtKY3ofvzVFW7FqAVcEyH5tVJvpqI2NX+Sp6npbDumMOMcvwluPhlThr\n",
       "/4Exj+vZtu0yDdPjGY9Z0R5nXXUDUdkavOR18C3OZtuipghafcgM4W+QD7kb6VM6kPXJSyqQetqs\n",
       "ev3R7Xq9HYlJPf8BPBCfb2BsyVByvyO9rANSQ7OwFe9V1IeIPSe+5WNtyFBK1Uj/VBKQGvqd0fVi\n",
       "7D0MB1uGcEdfoTJ5nznMxknRhaHVqrFccHSv7pcGrI2yOZ+So3tl6LKZNk/hIusV39jG8k6Y4dhV\n",
       "S4/B3jQHRnmUnVh4/lEYP3o0LHyST1vqzXRc0cb7muqsnvmic6qz1j0Svxs7O7+g6KavYPKd3LU3\n",
       "6WhsF1Twv2ruw5p7L2n6DuoDjYOU3fefcxT+AUPAkfGbzM0DAAAAAElFTkSuQmCC\n",
       "\" style=\"display:inline;vertical-align:middle;\" /></a><br>"
      ],
      "text/plain": [
       "round_2: round(2)\n",
       "round_x: round(x)\n",
       "round_x_plus_y: round(x + y)\n",
       "round_1_plus_2: round(1 + 2)\n",
       "round_x_plus_2: round(x + 2)"
      ]
     },
     "execution_count": 42,
     "metadata": {},
     "output_type": "execute_result"
    }
   ],
   "source": [
    "# Some example test expressions involving Round\n",
    "round_2, round_x, round_x_plus_y, round_1_plus_2, round_x_plus_2 = (\n",
    "    Round(two), Round(x), Round(Add(x, y)), Round(Add(one, two)), Round(Add(x, two)))"
   ]
  },
  {
   "cell_type": "code",
   "execution_count": 43,
   "metadata": {},
   "outputs": [
    {
     "data": {
      "text/html": [
       "<strong id=\"round_add_xy12\">round_add_xy12:</strong> <a class=\"ProveItLink\" href=\"../__pv_it/demonstrations/7f50876f24f1fe32ac66609d04b8421be28877020/expr.ipynb\"><img src=\"data:image/png;base64,iVBORw0KGgoAAAANSUhEUgAAAL0AAAAUBAMAAAAq6iElAAAAMFBMVEX///+YmJjc3NxmZmYiIiLM\n",
       "zMwQEBCqqqoyMjJERER2dnbu7u5UVFSIiIi6uroAAAA5J+EfAAAAAXRSTlMAQObYZgAAAltJREFU\n",
       "OMulVU1oE0EU/jqbv90x2/h38uBWehSM9FLUQvUkRXBvHo0gIhYh1KMHFxTMzUChULCwoKfa4B6k\n",
       "B4lmFZFcQheWerBGg4fcim1QKsa2vtkqdLd1J7TvMrxv3vvezHtv3gCxMoD9yETcZnIqD17eKzUf\n",
       "mjZxwIgz6S8iY/RIlx6PAFVoG+BWnM83B4fDJN4O2r9Ida4bQc4CN4BKHP9T4EKP/OiL8l8HFgzM\n",
       "x/HfBxvdM/8jBwsmMi3on143Cav4Le57mHf0uRPNEYCdWVxDNk+Far5droR9X42AjUv4SS470PLQ\n",
       "1IdqAYMt3lH0Ar6QPoOagbahdqHmgJc44l0M+9ptZFek/Povgi1cSbi6iTFgbECxME26hVMmvwbS\n",
       "EkXgGZ47X0O+rDgMtSzlT7ikjcKptQCFtn87KQ+3A/24ABI2UrTlUEwhWqn04GapRE6crPq97cg/\n",
       "/u0IhsQbomveozVVBlunhkz+CPS6ACiO4AfWo9XUu7hqys4vahfwD9Nas6F1qCGzhUBf5QRQHJEf\n",
       "iJhhX8rcB1n/4A6YAZ0a8JZ4qjmkbDymtB4jPd3VakXU04ao710q5VLYV3XJVMKftJE1RH2ZOJ7i\n",
       "YhI4h3beZhvQrKOq13dJE+2lr6krLBc5v6uvRrMR5R+cffKOLO3gCsDsR0p1tTnRMElnb4q8sXjy\n",
       "s9jjjSX/YMSXN/xOJOL7n6cj72tz8zuQMePH1v/mg2JJX3QgLyRjMTzfuLO11kVvhZCdNltSkfCr\n",
       "u87n85jp8ROwZAa7/i/Lvtkbvyr9Pvb3Px4C/gBzNtMXxcKgEQAAAABJRU5ErkJggg==\n",
       "\" style=\"display:inline;vertical-align:middle;\" /></a><br>\n",
       "<strong id=\"round_add_add\">round_add_add:</strong> <a class=\"ProveItLink\" href=\"../__pv_it/demonstrations/13d233bdd0b12bacfff361cc1ffd4ba2e97952e30/expr.ipynb\"><img src=\"data:image/png;base64,iVBORw0KGgoAAAANSUhEUgAAAN0AAAAUBAMAAAD7DSVVAAAAMFBMVEX///+YmJjc3NxmZmYiIiLM\n",
       "zMwQEBCqqqoyMjJERER2dnbu7u5UVFSIiIi6uroAAAA5J+EfAAAAAXRSTlMAQObYZgAAAtlJREFU\n",
       "SMeVVk1oE0EU/rpJm+xOs61WQfDgVnoUrPRSqoXoSYrg3jw2gogoQqjePDSgYk5aFISChYV6qi3u\n",
       "QYpINbGI9BIaCPVgjRaR3optUSqmP76ZzZbsZHcTH3zMvm+/mTc78+bNAqHWXYW/xQzfDr42UkWg\n",
       "tT7tBRuDQJDNy4SvmPWNm2inubUbYQE70oiTIB4iei0TXBy7IZFz0HbBMhAItp82uqjp8i5hsdbT\n",
       "ihJL4rnpiqQ9DVwFZuAg0J4D5+AgKB5LSSwXt8jxrgCLBmbpaTYs3l0oSQgExsNDLyvEdfEe2Vg0\n",
       "EV8Bh/7lXZn4mdIKKxUxa+vTx8uD1HNgaQuJXgiw8vzajHeMt4NQaJ8mvSwX18cju2hDo3cETX2g\n",
       "ptCzwjYjegrfyJ9AzsCqoVagdkLgDQ4Vz3vHsFaRWAeOeFku9oun/yU6I3ApmtdNDAFD3ZEMxsnP\n",
       "4KTJLoO8aBoCL/DS/u4ZQ0n3Q6Xcv+0dmYv94kXz5CUF7Byta4Qk23ZbETeFf4wTUQtt9IrDpnmI\n",
       "dMxm713LZqkzI2UHDTfsYYW4Gq+GBfr4eV53MMp1Y1B26AC0/hb+AicorhsP2JHzRa9g2HTi1bA1\n",
       "8Wq/T2yrG6+fnnMWtE06AImU8DcYEaPYX0/weXjHoNX+RM2PptbzFhQDOq0nx3VeSjrRZuEZbclR\n",
       "8mMVLZfGQsxw8+UOpcaylBl5kjeZL60WEoabLwqfeiSPJ8AZrPZayi60zGG12HJBc1NY31LXlU7p\n",
       "+/L6BjUDXpZ3QEKO1zM1+YF6WAK6OM9Tn2nl58ojBZN85X2aFZZOfHWXgBWWSwekMVihtEnNfWlX\n",
       "qUPk459T0nnf2/tFZ910EGZh9SzCC3DSp54F1KJXVYRZfb1mttMu8Pzdr9cu6xXvs8Ia1mu+/4aD\n",
       "ejuLCb/7SA28vBrfR9Xr0/++XSvxrXjc1H3bYOrN/0+0/Mf/xEEH/wB22PPUXfq03wAAAABJRU5E\n",
       "rkJggg==\n",
       "\" style=\"display:inline;vertical-align:middle;\" /></a><br>\n",
       "<strong id=\"round_add_mult_mult\">round_add_mult_mult:</strong> <a class=\"ProveItLink\" href=\"../__pv_it/demonstrations/05ae7cc46f89c914eab87c49bfc3368c1d3f47730/expr.ipynb\"><img src=\"data:image/png;base64,iVBORw0KGgoAAAANSUhEUgAAAMkAAAAUBAMAAADVSATHAAAAMFBMVEX///+YmJjc3NxmZmYiIiLM\n",
       "zMwQEBCqqqoyMjJERER2dnbu7u5UVFSIiIi6uroAAAA5J+EfAAAAAXRSTlMAQObYZgAAAtVJREFU\n",
       "OMuNlU9oE0EUxr9s/u5usy0WQfDgtngUTW+1tBA9hgq5CV4ab6IIoXhvQMWcSqkoCBYX9FRaXFCK\n",
       "h9ZED5JLIBjqoTQ2B8lNYgPFwqrxzUyy2U03mw68Hd7Mb+ebffP2DeDbJjp2okV1T9aLWvQTCD9P\n",
       "QF0BN4/2uX+gn3t39ZmgRnQ/mdEsYgTEvKEP/QOMi97riRbxts4pNeen0jQxTt2496xS6QSl0zNu\n",
       "e8Oy54MmIhlBbfqpvAGuQ5hHUzN9KowL9FQiSYy0BLXlp/IQUhLcPNuyW4VzDpWYhZEjQcXq0PY/\n",
       "1gjcrNbVagVbprYxWZujl2Z2fyOeADfs7F/e6+4ZO3OQKP6v3Sqcc6hQC1mCUhJQ5CdyBhfraiuo\n",
       "ZXBA/hoKOhq6bEEeAzfVCNwI2WdoNBD/BZxzqzCuT6VpCCqQw81QUUsjBaQmgjm8ID+HK2n1NsgL\n",
       "ZcFNMRVLY6lmstBkpyFT1j5wqzCuq2KKoXkIKpqEWahTQtDsHzNSwX3uX2ADIQMRmmKm8mWpP2YP\n",
       "gkZp6QUWi3z+0Z18vgjBdVQ4RouyGDIqTF++xJAVSH8pdcNH3C+xAVLrqoAv29kdNAsLafG+41sc\n",
       "KgJDFQ6VaeoLBpQWpW48w/1DlQaWYEcMfFn7T8jhG3U/BkdMTCQwKSiN0u8u2+oYIgZeUmDOkx+1\n",
       "lEIWpajePf2oeYC42X1dLhI5/PRvAV/t05eO2PaKeArMopEwpH9QcmflSmBeYSnIrZl95aiFwaJ2\n",
       "SN2MW4VxiPdUpNT6bFJQQYN/DrC+R2Hdri2W0+RLn7JqeffSdz7HbLu2MzXW++vL1RZ1j90qjAt+\n",
       "OZ6y/8p2u50UVCztX/gHVBg6GahJjwpzsg4x6r2/iHe1LLH0s6ulajpY75q6OURF1oW52jWseVV+\n",
       "WR9wP/hX/s7NdOIW+1llcV4ddovxtjpI/nQ3cuBUNzKnzgD/AWF02GwwjY4nAAAAAElFTkSuQmCC\n",
       "\" style=\"display:inline;vertical-align:middle;\" /></a><br>"
      ],
      "text/plain": [
       "round_add_xy12: round(x + y + 1 + 2)\n",
       "round_add_add: round((x + y) + (1 + 2))\n",
       "round_add_mult_mult: round((x * y) + (1 * 2))"
      ]
     },
     "execution_count": 43,
     "metadata": {},
     "output_type": "execute_result"
    }
   ],
   "source": [
    "# Some more example test expressions involving Round\n",
    "round_add_xy12, round_add_add, round_add_mult_mult = (\n",
    "    Round(Add(x, y, one, two)), Round(Add(Add(x, y),Add(one, two))),\n",
    "    Round(Add(Mult(x,y), Mult(one, two))))"
   ]
  },
  {
   "cell_type": "markdown",
   "metadata": {},
   "source": [
    "## Testing the `deduce_in_number_set()` methods"
   ]
  },
  {
   "cell_type": "markdown",
   "metadata": {},
   "source": [
    "### Ceil.deduce_in_number_set()"
   ]
  },
  {
   "cell_type": "code",
   "execution_count": 44,
   "metadata": {},
   "outputs": [
    {
     "data": {
      "text/html": [
       "<span style=\"font-size:20px;\"> <a class=\"ProveItLink\" href=\"../__pv_it/demonstrations/2d82477623fc5dd57cd6f975720442eb02a018680/proof.ipynb\" style=\"text-decoration: none\">&nbsp;&#x22A2;&nbsp;&nbsp;</a><a class=\"ProveItLink\" href=\"../__pv_it/demonstrations/0205287787b6b4a007026ebea5a278e01add69dc0/expr.ipynb\"><img src=\"data:image/png;base64,iVBORw0KGgoAAAANSUhEUgAAAEEAAAAVBAMAAADrxp6XAAAAMFBMVEX///+YmJiqqqqIiIgiIiIQ\n",
       "EBC6urrMzMxmZmZ2dnbc3NxUVFQyMjJERETu7u4AAADSp0KxAAAAAXRSTlMAQObYZgAAARJJREFU\n",
       "KM9jeHvmNAMIrDlzkgE7WA1nvcGj4kXvdSDJgyaTEh9z1CcQrIJvA8P8BEwVtu1AoQtgFRwPGFgD\n",
       "MFV0MjBM4kwAq2B1YOD+hVAh6+JyAET3MXBtqIC4g+cfA/d3uIpaO7gpvA/uwf3C8g+mgu8cwh5h\n",
       "RgG4ivwJMBXcC+AK+C68RYSHN9y3vAgjuAt2wVVwNMBVlJ4BArBLGTLYJsBVWDDAVaxFmHEAaB7n\n",
       "A7AKpgaGVTAVrHAFnArTwFyQikoGBiuYCg4DeHxwbWBgaAWr4PKc2e0ADw8nmIp7vA8YXstCQuz/\n",
       "//8IFa+vPQDTbLFH7179egM59mGhnnkFEuqY6YOHYAoiX8VLRCBjVwAA18BODceSL0cAAAAASUVO\n",
       "RK5CYII=\n",
       "\" style=\"display:inline;vertical-align:middle;\" /></a></span>"
      ],
      "text/plain": [
       "|- ceil(2) in Integer"
      ]
     },
     "execution_count": 44,
     "metadata": {},
     "output_type": "execute_result"
    }
   ],
   "source": [
    "ceil_2.deduce_in_number_set(Integer)"
   ]
  },
  {
   "cell_type": "code",
   "execution_count": 45,
   "metadata": {},
   "outputs": [
    {
     "data": {
      "text/html": [
       "<strong id=\"ceil_x_minus_y_in_ints\">ceil_x_minus_y_in_ints:</strong> <span style=\"font-size:20px;\"><a class=\"ProveItLink\" href=\"../__pv_it/axioms/02bd6ad73acd9f4d3192ee4c61bfdcabbff20f180/expr.ipynb\"><img src=\"data:image/png;base64,iVBORw0KGgoAAAANSUhEUgAAADQAAAAPBAMAAABZ6/G2AAAAMFBMVEX///8QEBBmZmaqqqrMzMxE\n",
       "REQyMjIiIiKYmJh2dna6urrc3NxUVFSIiIju7u4AAAA6P00QAAAAAXRSTlMAQObYZgAAAMRJREFU\n",
       "GNNjYMAAHIWh3xIjGLACNr4DLBFxWKVYuScwBOxBEWotL0+ASWmzIcu43kPSpc0KZLy9s+vmBSDN\n",
       "l4ds4IE1QJEJHLXsIHN4NiBJMRcBFXI+4PzHBRJlRXKGeHkyyBwG1gCwgGMaEECdMUsB4nb+C2Bq\n",
       "K7LjtVzBLH8HMMWILMX6Aqie+cF9Bt4HQAGmC0hSLAdUGBjWG8Qz7ACLFCMFFMNkHgeGN3ffajSA\n",
       "Rd5EPYAHrwNr2Gfk4FgZDgkoKAAAelg1omM6Y4wAAAAASUVORK5CYII=\n",
       "\" style=\"display:inline;vertical-align:middle;\" /></a>, <a class=\"ProveItLink\" href=\"../__pv_it/theorems/0886f5b6aacf5197ba709a53d4f3243edcc3de560/expr.ipynb\"><img src=\"data:image/png;base64,iVBORw0KGgoAAAANSUhEUgAAADMAAAASBAMAAAAEf/uKAAAAMFBMVEX///8iIiKYmJhUVFTMzMxE\n",
       "REQyMjKqqqq6urp2dnYQEBDc3NxmZmaIiIju7u4AAACH5sGpAAAAAXRSTlMAQObYZgAAAN1JREFU\n",
       "GNNjYMAAikvj05YqMGAFCY8ZXFUfYJUK2MnAym2AIqQqKJgAleLZkIAs43oPoYtnQwADA9+dCwy7\n",
       "QAbz5SEZyMwBNJCTYwHDfZAA8wYkqcJjQNXbeRIYQkECrAhn7BIUKwDSD7guMPwFCXilAQHUGT2s\n",
       "YLf3P2D5AqK3IjmepyUAxDjGwLsARHMh+ytOF8QIZmAFe4/nApKUM48DkHGYoR8SYOJIAcVZYAJk\n",
       "PL57HuLsxxEPYMGbwhCaXwCxDQI6AwVRgoc5ge8H9ghgYFRgvYBDiuPuERwyAAfzPe7bmvmqAAAA\n",
       "AElFTkSuQmCC\n",
       "\" style=\"display:inline;vertical-align:middle;\" /></a> <a class=\"ProveItLink\" href=\"../__pv_it/demonstrations/083db88a773808f04454e8147aa0ef882e9603fd0/proof.ipynb\" style=\"text-decoration: none\">&nbsp;&#x22A2;&nbsp;&nbsp;</a><a class=\"ProveItLink\" href=\"../__pv_it/demonstrations/0069650622c3a1fb6db2a0c52189e04b7a5725a80/expr.ipynb\"><img src=\"data:image/png;base64,iVBORw0KGgoAAAANSUhEUgAAAGcAAAAVBAMAAACphe0AAAAAMFBMVEX///8QEBBmZmaqqqrMzMwi\n",
       "IiKYmJi6urqIiIh2dnbc3NxUVFQyMjJERETu7u4AAADasDZTAAAAAXRSTlMAQObYZgAAAVJJREFU\n",
       "OMtjeHvmNAMOsObMSRwyqxnwgDfkaOJB45fKyxyMESNRU68KUOgCiZo0GRgmcxYQqSk3NPQAiNZj\n",
       "4NrgRKSffPvgIrwP7kE1vehe3tmAovqFBgOXHEwT3zmERAZbAkQT3wS2CNYDKJomFDJwfIBp4l4A\n",
       "F+e78BYa5JwPOP+xL0DWw2Wgw8B7AaaJFyHB7bALqokPrAAUl2dA4AhIRIKBvwGmyREkCnFJEfsE\n",
       "eOTyN6CFAPs/Bn8HmKa1CPEDvCCHQTSBFKAApgMMjfDQY4QLcxpMB3OBmpgf9DNwPEDRxLuB4TZc\n",
       "ExPcHau5NjAwKII11RvcZ1iGZtMG9m+IeAqGCd/jfcDwOhes6XXHC7UEVE18O5p+ITS9vg5xB7vs\n",
       "wbsXP17CnSKYDiAlo8qroQcIZ409DO8LsCRY/JrCGG4wkKyposkBn6aX+FI5N3ZhADYQZGKhEeMy\n",
       "AAAAAElFTkSuQmCC\n",
       "\" style=\"display:inline;vertical-align:middle;\" /></a></span><br>"
      ],
      "text/plain": [
       "ceil_x_minus_y_in_ints: {x in Real, y in Real} |- ceil(x - y) in Integer"
      ]
     },
     "execution_count": 45,
     "metadata": {},
     "output_type": "execute_result"
    }
   ],
   "source": [
    "ceil_x_minus_y_in_ints = ceil_x_minus_y.deduce_in_number_set(\n",
    "    Integer, assumptions=[InSet(x, Real), InSet(y, Real)])"
   ]
  },
  {
   "cell_type": "code",
   "execution_count": 46,
   "metadata": {},
   "outputs": [
    {
     "data": {
      "text/html": [
       "<span style=\"font-size:20px;\"><a class=\"ProveItLink\" href=\"../__pv_it/demonstrations/24edb8207eaeddd2551b0594601c213aedf9ea3f0/expr.ipynb\"><img src=\"data:image/png;base64,iVBORw0KGgoAAAANSUhEUgAAAGcAAAAUBAMAAABi2T6lAAAAMFBMVEX////MzMxUVFR2dna6uroQ\n",
       "EBCqqqqIiIgiIiJmZmYyMjJERETu7u6YmJjc3NwAAACgK8IjAAAAAXRSTlMAQObYZgAAAZBJREFU\n",
       "OMtjYOC7wIAL5OGUOY1ThoHpASr/RvT+VdFgO9bh1sSzAE1gwSEG6dsHGBh4J+DWxGCOxt/wmIGb\n",
       "T4GBgeMBHk1HIRTvjo4umCbOB0DrX+DRw8DlACIZtx9A2MT5YAMDQyWQfbzoSXEBqm8qCxieHmBg\n",
       "Brv91AEk5zGxAJ23F6jCgLedA9XPzCwBDPVAd4FF9ZD9lDELaEQbUMUB5j8sqF57xrmAYTcDA1sD\n",
       "WClC09OOrgQgHQK0iYEbIn5qFQgsBLIOsBYwfAf65gPIS1EgUahNntwHIJoYGPgL0IPA/wDjR6gm\n",
       "PiSbHnM6gnhtII68ALqmWQzsAQwMLGDnBSD7ac91BnBAsB2oZ2A/gKppEwO3AiwgpiNrEuIEWmAJ\n",
       "dErCfoa3aDZNYvAHJjJOAxCbIwEpGTEnKDIweDAwHCo/Phc9qR8qnw8MTy6ws3m0feAJdiHD7vUJ\n",
       "uJPRLCA+AWGyWEOTEQxgT7BMC3i+YEmwcLAPmyDHBe4CLFkDfyZkKZ8IJLlx5gA82f0eDnEA9dB2\n",
       "liqRA/sAAAAASUVORK5CYII=\n",
       "\" style=\"display:inline;vertical-align:middle;\" /></a> <a class=\"ProveItLink\" href=\"../__pv_it/demonstrations/f08f96f022ff92988c54c9c6aa5e3ebfa5c56a460/proof.ipynb\" style=\"text-decoration: none\">&nbsp;&#x22A2;&nbsp;&nbsp;</a><a class=\"ProveItLink\" href=\"../__pv_it/demonstrations/0069650622c3a1fb6db2a0c52189e04b7a5725a80/expr.ipynb\"><img src=\"data:image/png;base64,iVBORw0KGgoAAAANSUhEUgAAAGcAAAAVBAMAAACphe0AAAAAMFBMVEX///8QEBBmZmaqqqrMzMwi\n",
       "IiKYmJi6urqIiIh2dnbc3NxUVFQyMjJERETu7u4AAADasDZTAAAAAXRSTlMAQObYZgAAAVJJREFU\n",
       "OMtjeHvmNAMOsObMSRwyqxnwgDfkaOJB45fKyxyMESNRU68KUOgCiZo0GRgmcxYQqSk3NPQAiNZj\n",
       "4NrgRKSffPvgIrwP7kE1vehe3tmAovqFBgOXHEwT3zmERAZbAkQT3wS2CNYDKJomFDJwfIBp4l4A\n",
       "F+e78BYa5JwPOP+xL0DWw2Wgw8B7AaaJFyHB7bALqokPrAAUl2dA4AhIRIKBvwGmyREkCnFJEfsE\n",
       "eOTyN6CFAPs/Bn8HmKa1CPEDvCCHQTSBFKAApgMMjfDQY4QLcxpMB3OBmpgf9DNwPEDRxLuB4TZc\n",
       "ExPcHau5NjAwKII11RvcZ1iGZtMG9m+IeAqGCd/jfcDwOhes6XXHC7UEVE18O5p+ITS9vg5xB7vs\n",
       "wbsXP17CnSKYDiAlo8qroQcIZ409DO8LsCRY/JrCGG4wkKyposkBn6aX+FI5N3ZhADYQZGKhEeMy\n",
       "AAAAAElFTkSuQmCC\n",
       "\" style=\"display:inline;vertical-align:middle;\" /></a></span>"
      ],
      "text/plain": [
       "{(x - y) in Real} |- ceil(x - y) in Integer"
      ]
     },
     "execution_count": 46,
     "metadata": {},
     "output_type": "execute_result"
    }
   ],
   "source": [
    "ceil_x_minus_y_in_ints.proof().disable()\n",
    "ceil_x_minus_y.deduce_in_number_set(\n",
    "    Integer, assumptions=[InSet(subtract(x, y), Real)])"
   ]
  },
  {
   "cell_type": "code",
   "execution_count": 47,
   "metadata": {},
   "outputs": [
    {
     "data": {
      "text/html": [
       "<span style=\"font-size:20px;\"><a class=\"ProveItLink\" href=\"../__pv_it/demonstrations/096a9109194124d89cffab5f230762a33d482ca80/expr.ipynb\"><img src=\"data:image/png;base64,iVBORw0KGgoAAAANSUhEUgAAAHMAAAAYBAMAAAA7Xt9MAAAAMFBMVEX////MzMxUVFR2dna6uroQ\n",
       "EBCqqqqIiIgiIiJmZmYyMjJERETu7u6YmJjc3NwAAACgK8IjAAAAAXRSTlMAQObYZgAAAaRJREFU\n",
       "OMtjYKA3YCJfKzelWvku4FSQR0DraTw+eoDKvxG9f1X0BYTWdbi18ixAE1hwiEH69gEGrVVLV626\n",
       "wMA7AY+XzNH4Gx4zcPMpwGzleIBH61EofbujYwFUK+eDBTCtL/AFJJcDmJKuQdjK+WADTGslyE/l\n",
       "eu6obuOpLGB4eoCBGewbnjVIDmZigTt4LxAfZrhR0IWilZklgKGegYF3AWpAA7VmzDoA09oGxDYM\n",
       "9gf8ULQ+41zAsJuBga0BNelseNrRlQBODCAiBIgPgJQBwalVILAQJMJawPCdgYHxA0hYFCQKDSZP\n",
       "7gNwg0LA5Hf0API/wPgRpvU1UuRwOm6A80AOZgApQwWzGNgDGBhYwA5mRY7XPdfhPFAw5bB/YKhB\n",
       "1bqJgVsBFkycBUhahTgFYDxLoNnfuD+gZ4JJDP5AEU4DhMugCZE5QRHG8wDGm3pN5V00Bx8qnw+M\n",
       "Ei6IDYe2HIAl/4UMu9cnQNXgTIizgPgElO28o2MBpgrsyZ9pAc8XLMkfDezDJshxgbsAS6ZDA1iz\n",
       "Okv5RFAyeoBfK54C5h5ejQBPYXt4+kCBvwAAAABJRU5ErkJggg==\n",
       "\" style=\"display:inline;vertical-align:middle;\" /></a> <a class=\"ProveItLink\" href=\"../__pv_it/demonstrations/6f0cf9e36c3ff1bfe1ff114b8264b553d02b1c0c0/proof.ipynb\" style=\"text-decoration: none\">&nbsp;&#x22A2;&nbsp;&nbsp;</a><a class=\"ProveItLink\" href=\"../__pv_it/demonstrations/666d537641acb9091fb249ed9f7e25caba0b956d0/expr.ipynb\"><img src=\"data:image/png;base64,iVBORw0KGgoAAAANSUhEUgAAAHQAAAAYBAMAAADZgsQ1AAAAMFBMVEX///8QEBBmZmaqqqrMzMwi\n",
       "IiKYmJi6urqIiIh2dnbc3NxUVFQyMjJERETu7u4AAADasDZTAAAAAXRSTlMAQObYZgAAAWxJREFU\n",
       "OMtjYKA72EC+1gtA/PbMaVzSXGfOTMCndTU+s/kOkK2VAVUr3/m75xg45cXJ0MrAm+DNwPCegfvM\n",
       "GZkzx0jTyh3C0cDASJKD2a6GxoC11j7YwsBKilaWGw+gti7Z8OYBitYX3cs7G1ADpKmBYeEDmNY3\n",
       "D2AOXmDBsgFZK98EtghWVF9xsgsw9MNt3QX36wLOggxkrZwPOP+xL0DRupjpAMNduNYLCK0M+7hd\n",
       "QawFUFsZeCGSb86AwBEg6wFjA8MPmFYWGZAwVOtrhoMwg8DBxN+AHj71D1i+wLRyIdvKMsERRau/\n",
       "A7pWHQYOAbiDBZC0MiTzImllftDPwPEAVettBt4NcK0acK1AKzjXImmtN7jPsAzNVm2G+gS4VlYD\n",
       "qCiPAdhBCK2vO16oJaBpfd2hvwCulW9vHSRpxMuCAhPFr9iADlJCZJ8LSYioALtW7gN837Ekf2K0\n",
       "sibwNpCplb1DhYGg1pdkF3wAnmh8AWqu9FQAAAAASUVORK5CYII=\n",
       "\" style=\"display:inline;vertical-align:middle;\" /></a></span>"
      ],
      "text/plain": [
       "{(x - y) in RealPos} |- ceil(x - y) in NaturalPos"
      ]
     },
     "execution_count": 47,
     "metadata": {},
     "output_type": "execute_result"
    }
   ],
   "source": [
    "ceil_x_minus_y.deduce_in_number_set(Natural, assumptions=[InSet(subtract(x,y), RealPos)])"
   ]
  },
  {
   "cell_type": "code",
   "execution_count": 48,
   "metadata": {},
   "outputs": [
    {
     "name": "stdout",
     "output_type": "stream",
     "text": [
      "EXCEPTION: the closure theorems do not apply without more constraints.  Proof step failed:\n",
      "Attempting to instantiate |- forall_{x in Real} (ceil(x) in Integer) with {x: x - y}:\n",
      "Unsatisfied condition: (x - y) in Real\n"
     ]
    }
   ],
   "source": [
    "# If we don't at least know the operand is real-valued,\n",
    "# difficult to know what set(s) the result belongs to \n",
    "try:\n",
    "    ceil_x_minus_y.deduce_in_number_set(Integer)\n",
    "except Exception as e:\n",
    "    print(\"EXCEPTION: the closure theorems do not apply without more constraints. \", e)"
   ]
  },
  {
   "cell_type": "markdown",
   "metadata": {},
   "source": [
    "### Floor.deduce_in_number_set()"
   ]
  },
  {
   "cell_type": "code",
   "execution_count": 49,
   "metadata": {},
   "outputs": [
    {
     "data": {
      "text/html": [
       "<span style=\"font-size:20px;\"> <a class=\"ProveItLink\" href=\"../__pv_it/demonstrations/ad9a567aa7fe3d823380e95d0a0dae8953764a170/proof.ipynb\" style=\"text-decoration: none\">&nbsp;&#x22A2;&nbsp;&nbsp;</a><a class=\"ProveItLink\" href=\"../__pv_it/demonstrations/07885809b07be388e82243beec1e0b6595cf3db70/expr.ipynb\"><img src=\"data:image/png;base64,iVBORw0KGgoAAAANSUhEUgAAAEIAAAAVBAMAAAAA8SWUAAAAMFBMVEX///+qqqqIiIgyMjK6urp2\n",
       "dnbMzMxERERmZmYiIiIQEBBUVFTc3NyYmJju7u4AAADXUSrrAAAAAXRSTlMAQObYZgAAAQhJREFU\n",
       "KM9jeMsAA0wM2MFpOIsZj4oX7WWYKvjsy+0YWNcvAang28AQ74BpBvuFbAaG92AzOB4wcC3AVME9\n",
       "jUmBgQusgmsCA/cfhAreypmTwSrcH2xj4ASrYP7HwP0NroKt6AHUjGMbHj/ghPmF8x9cxeMHMFsO\n",
       "CLFtgKvwD4Cr2AN3xwFWh0twFbMRvi1AqGDYx50JVcHRAFfBttgYCKAqXjNYQVVoIMKUB9kMtoAs\n",
       "iArGBoYzcFsWIKlguMgOUZHKwKADV9EEV5HAwMB6HKyCZ2po9wS4Ck4BWEyCGM2QEPv//z9CBd92\n",
       "P4iT5y8HhQ622GcJh4Q6aemDUhWvZs4G04dnTseuAAAPv0wluoSPXQAAAABJRU5ErkJggg==\n",
       "\" style=\"display:inline;vertical-align:middle;\" /></a></span>"
      ],
      "text/plain": [
       "|- floor(2) in Natural"
      ]
     },
     "execution_count": 49,
     "metadata": {},
     "output_type": "execute_result"
    }
   ],
   "source": [
    "floor_2.deduce_in_number_set(Natural)"
   ]
  },
  {
   "cell_type": "code",
   "execution_count": 50,
   "metadata": {},
   "outputs": [
    {
     "data": {
      "text/html": [
       "<strong id=\"floor_x_plus_y_in_ints\">floor_x_plus_y_in_ints:</strong> <span style=\"font-size:20px;\"><a class=\"ProveItLink\" href=\"../__pv_it/axioms/02bd6ad73acd9f4d3192ee4c61bfdcabbff20f180/expr.ipynb\"><img src=\"data:image/png;base64,iVBORw0KGgoAAAANSUhEUgAAADQAAAAPBAMAAABZ6/G2AAAAMFBMVEX///8QEBBmZmaqqqrMzMxE\n",
       "REQyMjIiIiKYmJh2dna6urrc3NxUVFSIiIju7u4AAAA6P00QAAAAAXRSTlMAQObYZgAAAMRJREFU\n",
       "GNNjYMAAHIWh3xIjGLACNr4DLBFxWKVYuScwBOxBEWotL0+ASWmzIcu43kPSpc0KZLy9s+vmBSDN\n",
       "l4ds4IE1QJEJHLXsIHN4NiBJMRcBFXI+4PzHBRJlRXKGeHkyyBwG1gCwgGMaEECdMUsB4nb+C2Bq\n",
       "K7LjtVzBLH8HMMWILMX6Aqie+cF9Bt4HQAGmC0hSLAdUGBjWG8Qz7ACLFCMFFMNkHgeGN3ffajSA\n",
       "Rd5EPYAHrwNr2Gfk4FgZDgkoKAAAelg1omM6Y4wAAAAASUVORK5CYII=\n",
       "\" style=\"display:inline;vertical-align:middle;\" /></a>, <a class=\"ProveItLink\" href=\"../__pv_it/theorems/0886f5b6aacf5197ba709a53d4f3243edcc3de560/expr.ipynb\"><img src=\"data:image/png;base64,iVBORw0KGgoAAAANSUhEUgAAADMAAAASBAMAAAAEf/uKAAAAMFBMVEX///8iIiKYmJhUVFTMzMxE\n",
       "REQyMjKqqqq6urp2dnYQEBDc3NxmZmaIiIju7u4AAACH5sGpAAAAAXRSTlMAQObYZgAAAN1JREFU\n",
       "GNNjYMAAikvj05YqMGAFCY8ZXFUfYJUK2MnAym2AIqQqKJgAleLZkIAs43oPoYtnQwADA9+dCwy7\n",
       "QAbz5SEZyMwBNJCTYwHDfZAA8wYkqcJjQNXbeRIYQkECrAhn7BIUKwDSD7guMPwFCXilAQHUGT2s\n",
       "YLf3P2D5AqK3IjmepyUAxDjGwLsARHMh+ytOF8QIZmAFe4/nApKUM48DkHGYoR8SYOJIAcVZYAJk\n",
       "PL57HuLsxxEPYMGbwhCaXwCxDQI6AwVRgoc5ge8H9ghgYFRgvYBDiuPuERwyAAfzPe7bmvmqAAAA\n",
       "AElFTkSuQmCC\n",
       "\" style=\"display:inline;vertical-align:middle;\" /></a> <a class=\"ProveItLink\" href=\"../__pv_it/demonstrations/cae4ddff426e04f29a206780ab59e60388d9ef4e0/proof.ipynb\" style=\"text-decoration: none\">&nbsp;&#x22A2;&nbsp;&nbsp;</a><a class=\"ProveItLink\" href=\"../__pv_it/demonstrations/c22d5d67ccdb45a2fce512cc317a110800ae95240/expr.ipynb\"><img src=\"data:image/png;base64,iVBORw0KGgoAAAANSUhEUgAAAGcAAAAVBAMAAACphe0AAAAAMFBMVEX///9mZmaqqqrMzMxEREQy\n",
       "MjJ2dna6urqIiIgiIiIQEBBUVFTc3NyYmJju7u4AAABISk2iAAAAAXRSTlMAQObYZgAAAVZJREFU\n",
       "OMtjeMuAB3DgED+NTxMrNTRVrl8aNXUtiZpahIFCDhiaNPBqEmNgSGIrIFLTlZkzA0C0HAPPBkMG\n",
       "4jSZ9MFFWB74QTW96D7e1oCi6YUEA886mCa+OIQxN3gvQDTxJfDO4AxA0ZRQxcDxAaaJ+wBcD5/D\n",
       "E2iQsz1g+8d+AFkTj4IoA4sDTBMLwiJugz1QTXxgBUCQGho6KzQ0GiSygoG/AabJKhQIIC4pZE+A\n",
       "Ry5/A1pAsP9jsDeAaTqCsCmABeQwiCaQAhRNjAEMXfDQ44LrYVNIB3OBmpge9DNwPEDRxLKBwRuu\n",
       "iRHujtM8GxgYpMCa6hX8Gc6i2bSB/S8inibBNPmxPGB4fQWs6XXHC9kLqJr4djT+QWh67Q5xB/uS\n",
       "KBevX464UwRjAFIyKvOcGYAna7yDUFsZ3heQnJ/mMniQngkrGg3waXo1czauLHh05hTsEgCPeVwt\n",
       "PQHEDwAAAABJRU5ErkJggg==\n",
       "\" style=\"display:inline;vertical-align:middle;\" /></a></span><br>"
      ],
      "text/plain": [
       "floor_x_plus_y_in_ints: {x in Real, y in Real} |- floor(x + y) in Integer"
      ]
     },
     "execution_count": 50,
     "metadata": {},
     "output_type": "execute_result"
    }
   ],
   "source": [
    "floor_x_plus_y_in_ints = floor_x_plus_y.deduce_in_number_set(\n",
    "    Integer, assumptions=[InSet(x, Real), InSet(y, Real)])"
   ]
  },
  {
   "cell_type": "code",
   "execution_count": 51,
   "metadata": {},
   "outputs": [
    {
     "data": {
      "text/html": [
       "<strong id=\"floor_x_plus_y_in_ints_2\">floor_x_plus_y_in_ints_2:</strong> <span style=\"font-size:20px;\"><a class=\"ProveItLink\" href=\"../__pv_it/demonstrations/5ba002d56b86652bc0bea76818692619a67f81b50/expr.ipynb\"><img src=\"data:image/png;base64,iVBORw0KGgoAAAANSUhEUgAAAGcAAAAUBAMAAABi2T6lAAAAMFBMVEX////MzMxUVFR2dna6uroQ\n",
       "EBCqqqqIiIgiIiJmZmYyMjJERETu7u6YmJjc3NwAAACgK8IjAAAAAXRSTlMAQObYZgAAAZxJREFU\n",
       "OMtjYOC7wIAL5OGUOY1ThoHpASr/RvT+VdFgO9bh1sSzAE1gwSEG6dsHGBh4J6AIp6PwzNE0bXjM\n",
       "wM2nwMDA8QCPpqMQindHRxdME+cDoPUvGPBo4nIAkYzbDyBs4nywgYGhEsg+XvSkuABFE09lAcPT\n",
       "AwzMYLefOoDkPCYWoPP2AlUY8LZzLEDRxMwSwFAPdBdYVA/ZTxmzgEa0AVUcYP7D8gBF0zPOBQy7\n",
       "GRjYGsBKEZqednQlAOkQoE0M3BBxq1WrWletWgRkHWAtYPgO9M0HkJeiVgEB1CZP7gMQTQwM/AXo\n",
       "AeF/gPEjVBMfkk2POR1BvDYQR14AXdMsBvYABgYWsPMCkP205zoDOCDYDtQzsB9A1bSJgVsBFhDT\n",
       "kTUJcQItsAQ6JWE/w1s0myYx+AMTGacBiM2RgJSMmBMUGRg8GBgOlR+fewFN06Hy+cDw5AI7m0fb\n",
       "B55gFzLsXp+AOxnNAuITECaLNTQZwQBagj0DzRQLeL5gSbBwsA+bIMcF7gIsWQN/JmQpnwgkuR/g\n",
       "0oQnu9/DIQ4As8N7grbelmcAAAAASUVORK5CYII=\n",
       "\" style=\"display:inline;vertical-align:middle;\" /></a> <a class=\"ProveItLink\" href=\"../__pv_it/demonstrations/844fd679e793c46d3892562ce354ea352f2c827a0/proof.ipynb\" style=\"text-decoration: none\">&nbsp;&#x22A2;&nbsp;&nbsp;</a><a class=\"ProveItLink\" href=\"../__pv_it/demonstrations/c22d5d67ccdb45a2fce512cc317a110800ae95240/expr.ipynb\"><img src=\"data:image/png;base64,iVBORw0KGgoAAAANSUhEUgAAAGcAAAAVBAMAAACphe0AAAAAMFBMVEX///9mZmaqqqrMzMxEREQy\n",
       "MjJ2dna6urqIiIgiIiIQEBBUVFTc3NyYmJju7u4AAABISk2iAAAAAXRSTlMAQObYZgAAAVZJREFU\n",
       "OMtjeMuAB3DgED+NTxMrNTRVrl8aNXUtiZpahIFCDhiaNPBqEmNgSGIrIFLTlZkzA0C0HAPPBkMG\n",
       "4jSZ9MFFWB74QTW96D7e1oCi6YUEA886mCa+OIQxN3gvQDTxJfDO4AxA0ZRQxcDxAaaJ+wBcD5/D\n",
       "E2iQsz1g+8d+AFkTj4IoA4sDTBMLwiJugz1QTXxgBUCQGho6KzQ0GiSygoG/AabJKhQIIC4pZE+A\n",
       "Ry5/A1pAsP9jsDeAaTqCsCmABeQwiCaQAhRNjAEMXfDQ44LrYVNIB3OBmpge9DNwPEDRxLKBwRuu\n",
       "iRHujtM8GxgYpMCa6hX8Gc6i2bSB/S8inibBNPmxPGB4fQWs6XXHC9kLqJr4djT+QWh67Q5xB/uS\n",
       "KBevX464UwRjAFIyKvOcGYAna7yDUFsZ3heQnJ/mMniQngkrGg3waXo1czauLHh05hTsEgCPeVwt\n",
       "PQHEDwAAAABJRU5ErkJggg==\n",
       "\" style=\"display:inline;vertical-align:middle;\" /></a></span><br>"
      ],
      "text/plain": [
       "floor_x_plus_y_in_ints_2: {(x + y) in Real} |- floor(x + y) in Integer"
      ]
     },
     "execution_count": 51,
     "metadata": {},
     "output_type": "execute_result"
    }
   ],
   "source": [
    "floor_x_plus_y_in_ints.proof().disable()\n",
    "floor_x_plus_y_in_ints_2 = floor_x_plus_y.deduce_in_number_set(Integer, assumptions=[InSet(Add(x,y), Real)])"
   ]
  },
  {
   "cell_type": "code",
   "execution_count": 52,
   "metadata": {},
   "outputs": [
    {
     "data": {
      "text/html": [
       "<span style=\"font-size:20px;\"><a class=\"ProveItLink\" href=\"../__pv_it/demonstrations/9ead4d2b319e84bff6bc72d100db1e0679fcaee50/expr.ipynb\"><img src=\"data:image/png;base64,iVBORw0KGgoAAAANSUhEUgAAAHMAAAAYBAMAAAA7Xt9MAAAAMFBMVEX////MzMxUVFR2dna6uroQ\n",
       "EBCqqqqIiIgiIiJmZmYyMjJERETu7u6YmJjc3NwAAACgK8IjAAAAAXRSTlMAQObYZgAAAbFJREFU\n",
       "OMtjYKA3YCJfKzelWvku4FSQR0DraTw+eoDKvxG9f1X0BYTWdbi18ixAE1hwiEH69gEGrVVLV626\n",
       "wMA7AUUyHYVnjqZ1w2MGbj4FmK0cD/BoPQqlb3d0LIBq5XywAKb1BQMerVwOYEq6BmEr54MNMK2V\n",
       "ID+V67mbo2jlqSxgeHqAgRnsG541SA5mYoE7eC8QH2a4UdCFopWZJYChnoGBdwFqQAO1Zsw6ANPa\n",
       "BsQ2DPYH/FC0PuNcwLCbgYGtATXpbHja0ZUATgwgIgSID4CUAYHVqlWtq1YtAomwFjB8Z2Bg/AAS\n",
       "Fl0FBNBg8uQ+ADcoBEx+Rw8m/wOMH2FaXyNFDqfjBjgP5GAGkDJUrbMY2AMYGFjADmZFjtc91+E8\n",
       "UDDlsH9gqEHVuomBWwEWTJwFSFqFOAVgPEug2d+4P8AyAUzrJAZ/oAinAcJl0ITInKAI43kA4029\n",
       "pvIumoMPlc8HRgkXxIZDWw7Akv9Cht3rE6BqcCbEWUB8Asp23tGxADN3oCX/M9DstoDnC5bkjwb2\n",
       "YRPkuMBdgCXToQGsWZ2lfCIoGT3ArxVPAXMPr0YAMMOAZM5YxHAAAAAASUVORK5CYII=\n",
       "\" style=\"display:inline;vertical-align:middle;\" /></a> <a class=\"ProveItLink\" href=\"../__pv_it/demonstrations/a9447b87e861acf1e960dd6078e46778adefa07b0/proof.ipynb\" style=\"text-decoration: none\">&nbsp;&#x22A2;&nbsp;&nbsp;</a><a class=\"ProveItLink\" href=\"../__pv_it/demonstrations/b9183a5bc65fc4fb7c290cb9f7baf9b8fbd318d70/expr.ipynb\"><img src=\"data:image/png;base64,iVBORw0KGgoAAAANSUhEUgAAAGgAAAAVBAMAAABYjraNAAAAMFBMVEX///9mZmaqqqrMzMxEREQy\n",
       "MjJ2dna6urqIiIgiIiIQEBBUVFTc3NyYmJju7u4AAABISk2iAAAAAXRSTlMAQObYZgAAAVhJREFU\n",
       "OMtjeMuADzRgFz6NV1MA5Zr44l3iGNjWLyfNJpYL1gwM7zFs0sCriXsyRwMDF5GaeD1nTgVrKnmw\n",
       "mYGTOE3MHg+gNh3e8PQBVNOL7uNtDSia+BobGE49gGl6+gDmvAMazBsgmvgSeGdwBqBoYmNfwNAP\n",
       "t2kP3E8H2ApuQDSxPWD7x34ARdMhxgAGF7gmB4Qmhn3clhCbGFggwqmhobNCQ6OBrAdcDQw/YJqY\n",
       "l4YCAVTTa4YoaEDwN6AHRP0D5s8wTTzINjEnWEE12RugaxJl4FgAd94CJE0Ml1jAmpge9DNwPEDV\n",
       "5M3AsgGuSQKuCWg42xGwpnoFf4azaDZJM9RfgGviVICKsiqAHQHS9LrjhewFNE2vO+QPwDXxbamD\n",
       "RPL8JaBYw5MiRJGSEXsKJBnhyBrvoI4P4PtOcn7ivMDSQLIm9g5hfDn31czZuHIgT+RMB6wSAAai\n",
       "ZtLM0bWpAAAAAElFTkSuQmCC\n",
       "\" style=\"display:inline;vertical-align:middle;\" /></a></span>"
      ],
      "text/plain": [
       "{(x + y) in RealPos} |- floor(x + y) in Natural"
      ]
     },
     "execution_count": 52,
     "metadata": {},
     "output_type": "execute_result"
    }
   ],
   "source": [
    "floor_x_plus_y_in_ints_2.proof().disable()\n",
    "floor_x_plus_y.deduce_in_number_set(Natural, assumptions=[InSet(Add(x,y), RealPos)])"
   ]
  },
  {
   "cell_type": "code",
   "execution_count": 53,
   "metadata": {},
   "outputs": [
    {
     "name": "stdout",
     "output_type": "stream",
     "text": [
      "EXCEPTION: the closure theorems do not apply without more constraints.  Proof step failed:\n",
      "Attempting to instantiate |- forall_{x in Real} (floor(x) in Integer) with {x: x + y}:\n",
      "Unsatisfied condition: (x + y) in Real\n"
     ]
    }
   ],
   "source": [
    "# If we don't at least know the operand is real-valued,\n",
    "# difficult to know what set(s) the result belongs to \n",
    "try:\n",
    "    floor_x_plus_y.deduce_in_number_set(Integer)\n",
    "except Exception as e:\n",
    "    print(\"EXCEPTION: the closure theorems do not apply without more constraints. \", e)"
   ]
  },
  {
   "cell_type": "markdown",
   "metadata": {},
   "source": [
    "### Round.deduce_in_number_set()"
   ]
  },
  {
   "cell_type": "code",
   "execution_count": 54,
   "metadata": {},
   "outputs": [
    {
     "data": {
      "text/html": [
       "<span style=\"font-size:20px;\"> <a class=\"ProveItLink\" href=\"../__pv_it/demonstrations/f815c386584a994b2bbead68021bd204ba6266b80/proof.ipynb\" style=\"text-decoration: none\">&nbsp;&#x22A2;&nbsp;&nbsp;</a><a class=\"ProveItLink\" href=\"../__pv_it/demonstrations/84ae5144d60f99955245b45658ccea40563d71ef0/expr.ipynb\"><img src=\"data:image/png;base64,iVBORw0KGgoAAAANSUhEUgAAAHoAAAAUBAMAAACwiTT9AAAAMFBMVEX///+YmJjc3NxmZmYiIiLM\n",
       "zMwQEBCqqqoyMjJERER2dnbu7u5UVFSIiIi6uroAAAA5J+EfAAAAAXRSTlMAQObYZgAAAi5JREFU\n",
       "OMudVE1o1EAU/prNZjeZ3bRYRETEqdSDILjQi/gDpawIRWgOUhE8rCCCghrqWRoQVOhhFxRhQSWg\n",
       "p2IhByk9LCaCQkFKA6UXdXVPBb2oxSK42vpmkvQPjLYPknl/38z33vwAqdITDSPYqmQflMBqYH11\n",
       "CwW+Mcaq9TEY16+lwDtt5DkaMJbBnE0xves84Kct/sVDN3AMuARMbIoVThZDaGnop8AAcBGY5ZiM\n",
       "fbvLZUmj8Ml7DTUNfQtKP1D1MGsh35Kuc++StQ8EUx6hzfcvmiFRm2uxuRCTnvlsf/MEoByd/4Fi\n",
       "SaYOeTCkxsZWmfOb2YDQhn5Hr6C3xRYzZgUfyX4En2OB623qjcg0fwIdEV++hjZaewl9Vg1MC4PA\n",
       "YE/GQZ1sB4ctdgFkqbbIVAMg1y87vdY1jjeFM4DnU0mZNvDL00JclfY+4VBdaLLaPrH5X4U2fJck\n",
       "YdHAbVJG6dNqUH7TFmWXpD0tHDSLRMviI/TB9Wtn3WFSjtDnuzAWaYuKFWl/Y+SgWSTzG1A4TMlc\n",
       "W4/GLlHIFXGsuqC5eAi9tofsXNvwbUznuOha1kWRx13LhKtoi/pNVJQl4Q5wDziOhZKrLMNwduph\n",
       "x2lD7lPv+JNXlOBK0KkEnbcj1hGn8bdUYqM5MmORrby02cz8oQ8yVl1Z+U7ZlgQ1HnvRDRq6TP+p\n",
       "f9yzgUR5Ho+f75ed/76l3YkygW2IHh8u5mwHTa/Dhlm2KPHLtOMv4T8h6JAUzhqFPAAAAABJRU5E\n",
       "rkJggg==\n",
       "\" style=\"display:inline;vertical-align:middle;\" /></a></span>"
      ],
      "text/plain": [
       "|- round(2) in Natural"
      ]
     },
     "execution_count": 54,
     "metadata": {},
     "output_type": "execute_result"
    }
   ],
   "source": [
    "round_2.deduce_in_number_set(Natural)"
   ]
  },
  {
   "cell_type": "code",
   "execution_count": 55,
   "metadata": {},
   "outputs": [
    {
     "data": {
      "text/html": [
       "<span style=\"font-size:20px;\"><a class=\"ProveItLink\" href=\"../__pv_it/axioms/02bd6ad73acd9f4d3192ee4c61bfdcabbff20f180/expr.ipynb\"><img src=\"data:image/png;base64,iVBORw0KGgoAAAANSUhEUgAAADQAAAAPBAMAAABZ6/G2AAAAMFBMVEX///8QEBBmZmaqqqrMzMxE\n",
       "REQyMjIiIiKYmJh2dna6urrc3NxUVFSIiIju7u4AAAA6P00QAAAAAXRSTlMAQObYZgAAAMRJREFU\n",
       "GNNjYMAAHIWh3xIjGLACNr4DLBFxWKVYuScwBOxBEWotL0+ASWmzIcu43kPSpc0KZLy9s+vmBSDN\n",
       "l4ds4IE1QJEJHLXsIHN4NiBJMRcBFXI+4PzHBRJlRXKGeHkyyBwG1gCwgGMaEECdMUsB4nb+C2Bq\n",
       "K7LjtVzBLH8HMMWILMX6Aqie+cF9Bt4HQAGmC0hSLAdUGBjWG8Qz7ACLFCMFFMNkHgeGN3ffajSA\n",
       "Rd5EPYAHrwNr2Gfk4FgZDgkoKAAAelg1omM6Y4wAAAAASUVORK5CYII=\n",
       "\" style=\"display:inline;vertical-align:middle;\" /></a> <a class=\"ProveItLink\" href=\"../__pv_it/demonstrations/5a5da42bb9a203704bde6b2229622e1a6773c7540/proof.ipynb\" style=\"text-decoration: none\">&nbsp;&#x22A2;&nbsp;&nbsp;</a><a class=\"ProveItLink\" href=\"../__pv_it/axioms/b736cab26a7848ebbeed7dd06f67a88af05c0f430/expr.ipynb\"><img src=\"data:image/png;base64,iVBORw0KGgoAAAANSUhEUgAAAHoAAAAUBAMAAACwiTT9AAAAMFBMVEX///+YmJjc3NxmZmYiIiLM\n",
       "zMwQEBCqqqoyMjJERER2dnbu7u5UVFSIiIi6uroAAAA5J+EfAAAAAXRSTlMAQObYZgAAAihJREFU\n",
       "OMuVVE9o02AU/6VL1yVZ0wiCHit6rC7ehjjtQXQISvEinlqcB6tMg3hfEdSdpP45WMZY0IPKmH4n\n",
       "sbi6OPAgMggMFWTFHsYO82AV3GAD8b1kSbXS0D1I3nvf9/3e9/5+QBTFDJ8n0tgmnRsBqoEy37ap\n",
       "H18bv3DLiICvAzcC+VXbXvJ+DiUlAqxvQjIDRXX/3eyxoVrPI9BqFnIYrlbwufTg2LCHFsjEzQh0\n",
       "n4l9Le2O949PinBlQiFZX3pTd6HWj6A2BO0yVuf3L5Kbe2fyFhbpUG3pwBfSH/vht8CSu4MdVG4r\n",
       "hdhpzKXNFSSbsCuu9hP6eUwJ3CWXbemUXAJ2t6e+qpXpf1Z29JxsQ35kDEIpx61hxH7hpYFB4AQZ\n",
       "F+qmTuFf9yDlFvpdPydFzDWAowKpDxhFr6tpvyE1eeEkcIXuJot8OO+FfXGcyK+IuerxMfqKwIBL\n",
       "JcrnkGiiv0QLZIXRQMoN0bHW3X3sxzTYQ20DeJGmEn2iWpSQMl5vsBX2HGyRaNnDFEL0E7XhqZdI\n",
       "/sFMcVCRRK+NMTG9Tg5c46wlxFckRZC1oXAAnAxdVOAUAYehmOhx9BEVAw08lXKT2OnYXKbv1hT2\n",
       "0IlDHki2ttCKmID2tgw9y2Wboa7TFj5nPrKLmV2YrZ9ZaLA8W68d5GG46bfc+28+euVhsXK1aEaO\n",
       "2V+dmt1q/md+p3ZDnaekK7rXaUK7oup/ZrZDwcskdXiZ/gCGYpGA5Aq/3wAAAABJRU5ErkJggg==\n",
       "\" style=\"display:inline;vertical-align:middle;\" /></a></span>"
      ],
      "text/plain": [
       "{x in Real} |- round(x) in Integer"
      ]
     },
     "execution_count": 55,
     "metadata": {},
     "output_type": "execute_result"
    }
   ],
   "source": [
    "round_x.deduce_in_number_set(Integer, assumptions=[InSet(x, Real)])"
   ]
  },
  {
   "cell_type": "code",
   "execution_count": 56,
   "metadata": {},
   "outputs": [
    {
     "data": {
      "text/html": [
       "<span style=\"font-size:20px;\"><a class=\"ProveItLink\" href=\"../__pv_it/theorems/f753f28ff099603bf4f80e8cfce3668c42bfcdd50/expr.ipynb\"><img src=\"data:image/png;base64,iVBORw0KGgoAAAANSUhEUgAAAEAAAAAUBAMAAADPWCYMAAAAMFBMVEX///8QEBBmZmaqqqrMzMxE\n",
       "REQyMjIiIiKYmJh2dna6urrc3NxUVFSIiIju7u4AAAA6P00QAAAAAXRSTlMAQObYZgAAANhJREFU\n",
       "KM9jYKAIHCCkIIBGCjgKQ78lRuAzgY3vAEtEHANPWppYWgY2BazcExgC9mAxobW8PAGmQJsNU4Hr\n",
       "PSQTtFnhCt7e2XXzApDmy0O24sAamAK+CRy17CCTeTYgKWAuyoMp4HzA+Y8LJMeK5Ejx8mQwCyTO\n",
       "x8AKcYpjGhBAHTlLIQ7JcfwXwNRWZG9quSIp8HcAU4zIClhfXIDxmB/cZ+B9AGQwXUBSwHJABcZb\n",
       "bxDPsAPMKkYKaobJPA5Q3pu7bzUaIKyoB/DIcmAN+4wZByvDIUGNAgAV7jueYKkKYgAAAABJRU5E\n",
       "rkJggg==\n",
       "\" style=\"display:inline;vertical-align:middle;\" /></a> <a class=\"ProveItLink\" href=\"../__pv_it/demonstrations/e9c81094785a82cb657a8ae7cd3c1d194acd13270/proof.ipynb\" style=\"text-decoration: none\">&nbsp;&#x22A2;&nbsp;&nbsp;</a><a class=\"ProveItLink\" href=\"../__pv_it/theorems/e24aa8425325d1c3aa746210af21ce1b5714488b0/expr.ipynb\"><img src=\"data:image/png;base64,iVBORw0KGgoAAAANSUhEUgAAAHsAAAAUBAMAAABfS1/DAAAAMFBMVEX///+YmJjc3NxmZmYiIiLM\n",
       "zMwQEBCqqqoyMjJERER2dnbu7u5UVFSIiIi6uroAAAA5J+EfAAAAAXRSTlMAQObYZgAAAiNJREFU\n",
       "OMudlE1oE0EUx//ZTTaZnWStXwfx4Fa8CII5FqkgElCKhz2IovQQr4Kw9NqDCx4q9BJRiqKVRcSD\n",
       "n3uQIlJMDBZ6iSyEXoyrwUMPgpgWbJFY8c10N2mDWaIPhuE/j9/b9zGzQKwNh/sE/tVSM3nwUiiy\n",
       "5nbnq5+3PTxaa8bwO2xkIoo7Pc4bqQp4K+7z3z3s7ohnPc53VgAU4/CHwMmOmAv3fYWCTOT93ayF\n",
       "E3H4NShdf2azzAuNUFfH+bTAjY9vAp+Sqzd53cecZzw9GBwHlGNL68jlqeqg+o0y1/OyBdNRuGra\n",
       "Hxe4zqZYEYeafFU1ivhMehZlE8sma4MNAa+xxz8NJJztA6jiecIn/HyyYlgYA8aGVQd3SDs4avFL\n",
       "IJW0gSd44X0B0rIOhi6e9RbozCtTVWob+OVpPq5IfUAcJF1o5PIopLgFckjnrpM5mzivZETnr9LS\n",
       "SlA2aFKpH1IvigMKo8l+bXTxw1u+jospgY/QKrvQV2lSuaLUK5wOKIxIHiIkdVgmr23FE7a4k5fF\n",
       "BRuC5uIeWGk/6XRbL9tYTJuidZO5FhpR61Q/whdoPSBcEcHVCm4Co1jOu8pv6M5e5ifO6GJaxjpr\n",
       "KRRFdSV1KsKnBOVEWT3+QGXOBxM1i7Ty1ua1pSOfhI/XGvWd4tpYkpq/78n97FrpLw+h17qX9mW4\n",
       "f71VcAZ+tP2fzEDG+j7Ygazzu2Dm/+Cdn9WuPv4/qvOdShbbbUAAAAAASUVORK5CYII=\n",
       "\" style=\"display:inline;vertical-align:middle;\" /></a></span>"
      ],
      "text/plain": [
       "{x in RealPos} |- round(x) in Natural"
      ]
     },
     "execution_count": 56,
     "metadata": {},
     "output_type": "execute_result"
    }
   ],
   "source": [
    "round_x.deduce_in_number_set(Natural, assumptions=[InSet(x, RealPos)])"
   ]
  },
  {
   "cell_type": "code",
   "execution_count": 57,
   "metadata": {},
   "outputs": [
    {
     "name": "stdout",
     "output_type": "stream",
     "text": [
      "EXCEPTION: the closure theorems do not apply without more constraints.  Proof step failed:\n",
      "Attempting to instantiate |- forall_{x in Real} (round(x) in Integer) with {x: x}:\n",
      "Unsatisfied condition: x in Real\n"
     ]
    }
   ],
   "source": [
    "# If we don't at least know the operand is real-valued,\n",
    "# difficult to know what set(s) the result belongs to \n",
    "try:\n",
    "    round_x.deduce_in_number_set(Integer)\n",
    "except Exception as e:\n",
    "    print(\"EXCEPTION: the closure theorems do not apply without more constraints. \", e)"
   ]
  },
  {
   "cell_type": "markdown",
   "metadata": {},
   "source": [
    "## Testing the `rounding_elimination()` method\n",
    "<font size=4> Some testing of the `rounding_elimination()` utility method(s), allowing the simplification of `Ceil(x)`, `Floor(x)`, and `Round(x)` to the operand $x$ when we know $x\\in\\mathbb{Z}$.</font>"
   ]
  },
  {
   "cell_type": "code",
   "execution_count": 58,
   "metadata": {},
   "outputs": [
    {
     "data": {
      "text/html": [
       "<a class=\"ProveItLink\" href=\"../__pv_it/demonstrations/ecde84249e0f377b8cc7e8179a6569c66c62a5520/expr.ipynb\"><img src=\"data:image/png;base64,iVBORw0KGgoAAAANSUhEUgAAABYAAAAVBAMAAACwDgOmAAAALVBMVEX///+qqqqIiIgiIiIQEBC6\n",
       "urrMzMxmZmZ2dnbc3NxUVFQyMjJERETu7u4AAAAp5osHAAAAAXRSTlMAQObYZgAAAHJJREFUCNdj\n",
       "uLN7FwMIzN69g2EWAwzcBrOv1xwDktwgNu8Chr4AKJv9AgOLA5TNYsDA9RLK5n7LwPUMygYC5rcI\n",
       "dlwDgm3FAGezFyDY6gxwNmMBw0wYO4OBQRPK5rToqDKA2fXu3TsDhJkIvYTYN+BsLgCarCLYwReK\n",
       "3gAAAABJRU5ErkJggg==\n",
       "\" style=\"display:inline;vertical-align:middle;\" /></a>"
      ],
      "text/plain": [
       "ceil(2)"
      ]
     },
     "execution_count": 58,
     "metadata": {},
     "output_type": "execute_result"
    }
   ],
   "source": [
    "ceil_2"
   ]
  },
  {
   "cell_type": "code",
   "execution_count": 59,
   "metadata": {},
   "outputs": [
    {
     "data": {
      "text/html": [
       "<span style=\"font-size:20px;\"> <a class=\"ProveItLink\" href=\"../__pv_it/demonstrations/9341cb4d3e47aacf64edb4e8bcce0bdd18a881270/proof.ipynb\" style=\"text-decoration: none\">&nbsp;&#x22A2;&nbsp;&nbsp;</a><a class=\"ProveItLink\" href=\"../__pv_it/demonstrations/7908b66fddd361507c9c898ff1ccfbb04c5d9c290/expr.ipynb\"><img src=\"data:image/png;base64,iVBORw0KGgoAAAANSUhEUgAAAEAAAAAVBAMAAAAEBPWpAAAALVBMVEX///+qqqqIiIgiIiIQEBC6\n",
       "urrMzMxmZmZ2dnbc3NxUVFQyMjJERETu7u4AAAAp5osHAAAAAXRSTlMAQObYZgAAALpJREFUKM9j\n",
       "uLN7FwMIzN69gwErmAVn3cat4HrNMSDJjSEHFgcq4F3A0BeARQFEHKiA/QIDiwMWBRBxoAIWAwau\n",
       "l1gUQMSBCrjfMnA9w6IAIg7xBfNbbI4Ei0MUxDXAFHDsBoMCBpg4RIEVA3YTrKABxV6AXQFIHKxA\n",
       "nQG7AnVoSDIWMMxEc8MCBpg4SEEGA4MmNhPA4kAFnBYdVQZYFEDEQQH17t07bAog4ojo5iaUHmim\n",
       "4AacxYVVHgD5jj1DV6kJfAAAAABJRU5ErkJggg==\n",
       "\" style=\"display:inline;vertical-align:middle;\" /></a></span>"
      ],
      "text/plain": [
       "|- ceil(2) = 2"
      ]
     },
     "execution_count": 59,
     "metadata": {},
     "output_type": "execute_result"
    }
   ],
   "source": [
    "ceil_2.rounding_elimination()"
   ]
  },
  {
   "cell_type": "code",
   "execution_count": 60,
   "metadata": {},
   "outputs": [
    {
     "data": {
      "text/html": [
       "<a class=\"ProveItLink\" href=\"../__pv_it/demonstrations/e904cde9e7dd232b28ddc308ca3da3aa1d84d0440/expr.ipynb\"><img src=\"data:image/png;base64,iVBORw0KGgoAAAANSUhEUgAAAD0AAAAVBAMAAAAHs/uBAAAAMFBMVEX///8QEBBmZmaqqqrMzMwi\n",
       "IiKYmJi6urqIiIh2dnbc3NxUVFQyMjJERETu7u4AAADasDZTAAAAAXRSTlMAQObYZgAAALpJREFU\n",
       "KM9jeHvmNAMOwHXmzASG1Qx4AN8B/PIMg0P+RffyzgZUhzc1MCx8AJXnm8AWwXoARZ6TXYChH6af\n",
       "8wHnP/YFKPKLmQ4w3IXJ8zHwXgCLvjkDAkeArAeMDQw/EO7jb0B3WP0Dli8IeX8HdHkdBg4BmDzz\n",
       "g34Gjgeo8rcZeDfA5OsN7jMsQ9OvzVCfAJN/3fFCLQFN/nWH/gL84aeDL3y5D/B9xyfPmsDbgE+e\n",
       "vUMFGj8v8cbfBgAypUrpZHaJRQAAAABJRU5ErkJggg==\n",
       "\" style=\"display:inline;vertical-align:middle;\" /></a>"
      ],
      "text/plain": [
       "ceil(x - y)"
      ]
     },
     "execution_count": 60,
     "metadata": {},
     "output_type": "execute_result"
    }
   ],
   "source": [
    "ceil_x_minus_y"
   ]
  },
  {
   "cell_type": "code",
   "execution_count": 61,
   "metadata": {},
   "outputs": [
    {
     "data": {
      "text/html": [
       "<span style=\"font-size:20px;\"><a class=\"ProveItLink\" href=\"../__pv_it/theorems/37457ae6f2a046fde6b993ab4ab5413aad4b39af0/expr.ipynb\"><img src=\"data:image/png;base64,iVBORw0KGgoAAAANSUhEUgAAADMAAAAPBAMAAAC7N+rPAAAAMFBMVEX///8QEBBmZmaqqqrMzMxE\n",
       "REQyMjIiIiKYmJh2dna6urrc3NxUVFSIiIju7u4AAAA6P00QAAAAAXRSTlMAQObYZgAAANZJREFU\n",
       "GNNjYMAEy+XFEsskGLCBqyoMbAwBWKU0GRgmcy5AEeIILy8D0XoM3AecUGRYYh/AmKwP4kDU2zu7\n",
       "bl4AMZ7BZRh6ORqAJN8Ejlr2BBD/NFyGL+ApiOJ8wPmPawOIhXATjwNYGR8DK0SMRSwNCMDMRVwT\n",
       "IGr4wTYxcCN0JbCCTAMy/B0gAgIwGU6DWQwMjAwMzA/uM/CC3aYLk9rDfYCBQZGBYb1BPMMOsAi7\n",
       "AVQqjvUBw5tWBoY3d99qNECcfHQdmOYSTQwN/BiEEhxcUyEBBQUAa7sxwOkLdCEAAAAASUVORK5C\n",
       "YII=\n",
       "\" style=\"display:inline;vertical-align:middle;\" /></a>, <a class=\"ProveItLink\" href=\"../__pv_it/demonstrations/0e211c1b90a45e17b96e3a76d1d45f0a3426ba3f0/expr.ipynb\"><img src=\"data:image/png;base64,iVBORw0KGgoAAAANSUhEUgAAADIAAAASBAMAAADrvZC0AAAAMFBMVEX///8iIiKYmJhUVFTMzMxE\n",
       "REQyMjKqqqq6urp2dnYQEBDc3NxmZmaIiIju7u4AAACH5sGpAAAAAXRSTlMAQObYZgAAAOhJREFU\n",
       "GNNjYMAAHFK/0hZmKWBKMPDGODAksGKRYOCZwMBZMANZhClQUAws84BhM8sBJAmW2AdwdhwrkM13\n",
       "5wLDLpDYM4QE0wUlIMnJsYDhPohrjdD+lC8ASG7nSWAIBXEDEDImzBuA5AOuCwx/QdYsSwMCiIcO\n",
       "dILp/gcsX4AUN0IPG0j/PAaGYwy8C0D8BXCZ6ZwNYG4wA6sBiH8WJsFtsBnoKaDMYYZ+cBgxFkBl\n",
       "WB/EMfAZAQ18fPc8yCUMfKZ9EJmusKWh65eCA+EYNIynQkIHBpgT+H4wYAWMCqwXsMtw3D2CXQIA\n",
       "CSg4nSezvQQAAAAASUVORK5CYII=\n",
       "\" style=\"display:inline;vertical-align:middle;\" /></a> <a class=\"ProveItLink\" href=\"../__pv_it/demonstrations/787be37112f2a6834a48093cb42cbd5a72485a830/proof.ipynb\" style=\"text-decoration: none\">&nbsp;&#x22A2;&nbsp;&nbsp;</a><a class=\"ProveItLink\" href=\"../__pv_it/demonstrations/7c9160a0895166768557cddcedba3e8495d550ef0/expr.ipynb\"><img src=\"data:image/png;base64,iVBORw0KGgoAAAANSUhEUgAAAJoAAAAVBAMAAABMN+opAAAAMFBMVEX///8QEBBmZmaqqqrMzMwi\n",
       "IiKYmJi6urqIiIh2dnbc3NxUVFQyMjJERETu7u4AAADasDZTAAAAAXRSTlMAQObYZgAAAYhJREFU\n",
       "OMtjeHvmNAMOwHXmzAQG0sBqfJJ8BzCtSMClmHkBAdMYME17i1vxLtJNO4Vb8RuSTWNTwK2Ys4FU\n",
       "01gX4AllAVJNW4pP9XGwaS+6l3c2oFrT1MCw8AEW05qwKn+hwcAlx8AwCWQa3wS2CFZUfZzsAgz9\n",
       "MLdxngEDcIhdw6p8QiEDxwcGhhyQaZwPOP+xo4bHYqYDDHex+TQYm3IuAx0G3gsMDKZgt4GZoCgG\n",
       "u+EIkPWAsYHhBzbTxBHK+SBOdgCJSDDwA/3uD4kF/gZ0XfUPWL7gMA2LcvZ/DP4OcNNATFSgw8Ah\n",
       "gBZuG6A+xaIcGC6NQKoUZBrzg34Gjgeo8rcZeDdgc9s1rMqBam8zQGOh3uA+wzI0XdoM9QnYTJuE\n",
       "VTnTBvZvQEoTZNrrjhdq6CXD6w79BdhMK8WqnG9H0y8gdQR3XtAhKWcBQ46BLwCHadwH+L6TkOv3\n",
       "MLwvwJPrWRN4G7CXSLewKQ9juIGvRGLvUCGltKxocoBY9BJvGbKBhJKcbQEDAKCzk3HtMRqMAAAA\n",
       "AElFTkSuQmCC\n",
       "\" style=\"display:inline;vertical-align:middle;\" /></a></span>"
      ],
      "text/plain": [
       "{x in Integer, y in Integer} |- ceil(x - y) = (x - y)"
      ]
     },
     "execution_count": 61,
     "metadata": {},
     "output_type": "execute_result"
    }
   ],
   "source": [
    "ceil_x_minus_y.rounding_elimination(assumptions=[InSet(x, Integer), InSet(y, Integer)])"
   ]
  },
  {
   "cell_type": "code",
   "execution_count": 62,
   "metadata": {},
   "outputs": [
    {
     "data": {
      "text/html": [
       "<a class=\"ProveItLink\" href=\"../__pv_it/demonstrations/a23f5980ba8c3d08a64daa2219aa1fce80e3657a0/expr.ipynb\"><img src=\"data:image/png;base64,iVBORw0KGgoAAAANSUhEUgAAAHAAAAAVBAMAAABs93eRAAAAMFBMVEX////MzMy6uroQEBCqqqqI\n",
       "iIgiIiJmZmaYmJh2dnbc3NxUVFQyMjJERETu7u4AAAAjuzXOAAAAAXRSTlMAQObYZgAAAYRJREFU\n",
       "OMtjeHvmNAPJYM2ZkwyrQQyuBpxqvLALv4FofIvbcO4FaALPay8CSR6IxlO4NfIdQONvYJivANPI\n",
       "UYDHP1OhNEsAmGJ/wMBsANPItgCPxseoGpkTGLh/wTQuwxeCPAooGnn+MXB/hGkMB7k9dJfqVFTf\n",
       "hAcwLH7AwFmAohHkwH8wjTeA+CVDW0AOikZOJgOGeGAAHEDXqD8BpjEFiOcxzH+ghaJxCfsBhrtA\n",
       "DQnoGrPh0WEExA9AikAxewYEDoJEmAMYvjIwMH4A2X7mzDGbM2c2gMO1AEUjA0gRKtB/wPgRqhHZ\n",
       "xnAGBmSnMoAUoYIaBlZgjDGhOZWlgGEVcuD4sX5giEPVeJuBdwNm4EgyMETBNE4HmvuF9wN6Uq9m\n",
       "0AeKsE9A0ciVObM6AaZRDRhpW+PCO9Cc+jq0HpikeARQE8D///8TCCa5GiB+xoAeHYjAwZ7IuQ/w\n",
       "fUJK5HwPMDUy3MKmka2BNwAzW6FqxJqRmUILgSTvAhwaXxIoOrpwFAwAbQBwedtjouYAAAAASUVO\n",
       "RK5CYII=\n",
       "\" style=\"display:inline;vertical-align:middle;\" /></a>"
      ],
      "text/plain": [
       "ceil((x - y) + 2)"
      ]
     },
     "execution_count": 62,
     "metadata": {},
     "output_type": "execute_result"
    }
   ],
   "source": [
    "ceil_x_minus_y_plus_2"
   ]
  },
  {
   "cell_type": "code",
   "execution_count": 63,
   "metadata": {},
   "outputs": [
    {
     "data": {
      "text/html": [
       "<span style=\"font-size:20px;\"><a class=\"ProveItLink\" href=\"../__pv_it/theorems/37457ae6f2a046fde6b993ab4ab5413aad4b39af0/expr.ipynb\"><img src=\"data:image/png;base64,iVBORw0KGgoAAAANSUhEUgAAADMAAAAPBAMAAAC7N+rPAAAAMFBMVEX///8QEBBmZmaqqqrMzMxE\n",
       "REQyMjIiIiKYmJh2dna6urrc3NxUVFSIiIju7u4AAAA6P00QAAAAAXRSTlMAQObYZgAAANZJREFU\n",
       "GNNjYMAEy+XFEsskGLCBqyoMbAwBWKU0GRgmcy5AEeIILy8D0XoM3AecUGRYYh/AmKwP4kDU2zu7\n",
       "bl4AMZ7BZRh6ORqAJN8Ejlr2BBD/NFyGL+ApiOJ8wPmPawOIhXATjwNYGR8DK0SMRSwNCMDMRVwT\n",
       "IGr4wTYxcCN0JbCCTAMy/B0gAgIwGU6DWQwMjAwMzA/uM/CC3aYLk9rDfYCBQZGBYb1BPMMOsAi7\n",
       "AVQqjvUBw5tWBoY3d99qNECcfHQdmOYSTQwN/BiEEhxcUyEBBQUAa7sxwOkLdCEAAAAASUVORK5C\n",
       "YII=\n",
       "\" style=\"display:inline;vertical-align:middle;\" /></a>, <a class=\"ProveItLink\" href=\"../__pv_it/demonstrations/0e211c1b90a45e17b96e3a76d1d45f0a3426ba3f0/expr.ipynb\"><img src=\"data:image/png;base64,iVBORw0KGgoAAAANSUhEUgAAADIAAAASBAMAAADrvZC0AAAAMFBMVEX///8iIiKYmJhUVFTMzMxE\n",
       "REQyMjKqqqq6urp2dnYQEBDc3NxmZmaIiIju7u4AAACH5sGpAAAAAXRSTlMAQObYZgAAAOhJREFU\n",
       "GNNjYMAAHFK/0hZmKWBKMPDGODAksGKRYOCZwMBZMANZhClQUAws84BhM8sBJAmW2AdwdhwrkM13\n",
       "5wLDLpDYM4QE0wUlIMnJsYDhPohrjdD+lC8ASG7nSWAIBXEDEDImzBuA5AOuCwx/QdYsSwMCiIcO\n",
       "dILp/gcsX4AUN0IPG0j/PAaGYwy8C0D8BXCZ6ZwNYG4wA6sBiH8WJsFtsBnoKaDMYYZ+cBgxFkBl\n",
       "WB/EMfAZAQ18fPc8yCUMfKZ9EJmusKWh65eCA+EYNIynQkIHBpgT+H4wYAWMCqwXsMtw3D2CXQIA\n",
       "CSg4nSezvQQAAAAASUVORK5CYII=\n",
       "\" style=\"display:inline;vertical-align:middle;\" /></a> <a class=\"ProveItLink\" href=\"../__pv_it/demonstrations/80c71a64384d01467ca1fb470b20ebf4fe5014e40/proof.ipynb\" style=\"text-decoration: none\">&nbsp;&#x22A2;&nbsp;&nbsp;</a><a class=\"ProveItLink\" href=\"../__pv_it/demonstrations/7876e5d7cb5487379c4feb378fbcf2b62a2efbbb0/expr.ipynb\"><img src=\"data:image/png;base64,iVBORw0KGgoAAAANSUhEUgAAAQAAAAAVBAMAAABbMC3JAAAAMFBMVEX////MzMy6uroQEBCqqqqI\n",
       "iIgiIiJmZmaYmJh2dnbc3NxUVFQyMjJERETu7u4AAAAjuzXOAAAAAXRSTlMAQObYZgAAAwRJREFU\n",
       "SMetlk1oE0EUx//ZfH+te/WUgNSDlwRFTyK5qOBBAhKCCm3ACn6B8SBVGjUnFfGQSykFsUGliL3k\n",
       "Ug9FaOpBwS6oB0EsxQWpUmo1LVq0h8R5uxvJTGYiAR88ZvZj/vPbt2/mDdbMBfRrEdOs4H/ZtK1Y\n",
       "Vj32VaW39Xr3vceuy+2ISt0GWFMDzopTjywZrOkG0N84rrCo+CVfrr211W2AV2qAr8L1KsIbUoBY\n",
       "1XGFiTHTa5hMkjoBhIpqgHDW7Rx0muvAHinALddVNtYOuyMYtOBNkzoBBNTg0NM8wD5grioDOOe6\n",
       "yj7xAN4ColukTgBTvbL0OQ/w2sKcIQGIFBxXWizJAcSaiK6TOgHkmS+ffHA8y41YvozIAWCcB2B2\n",
       "0ZIA+IuO67nZgTE+hvksHloIFzkACnyT1AngPXurEjod4FUrO+BvAHdFAO333xy4Z5K9pG687PgK\n",
       "bmYv8FmkpTHEEq0uAqQqpE4Aw+wtK9zUuFSIZEqIs2V1SAQI1GRJGMg4fh+T1i7uyaNgHUts4oII\n",
       "cB6kTgC7WQTsyVhrf5Np0J292MZeTrifesp098wRyAC8ScctmoyWr60zz3qWN4ufgKdB0TDNF/tN\n",
       "s2avA/oniTYA7Mk405pIGC5ARwT8xZ4AoMl4S1medRegMwKUeS7AsN01hHEscsdYs1MAOIxIlc+B\n",
       "hc5fAJqMtxL8bC1rwi/wFfGE1N0k9FlD8FvcuHgNi+hKQk8Fftk+0E7CoyxxB/lHiyTVlYTbgRPt\n",
       "JGQrLZX5KFaSYE37xZqrPMDUxPhT2S+gVcZc+xFviKVtFCl2J1jhACJnJ0YLpD7tRHk1t3xFGKfP\n",
       "5LdYMy9sRK3WpgyAIsxcnxnM3xbLR+4G1QmD34harVaB1HttxSwLoBe6NiJpEvbcikvMP0NchrDV\n",
       "1cXoGb4nO4rRt38AKItRtK5vdBQj3eJLnV2OP8gGnsE7STlWAsSrjndZoBzPyo8waJdj+YFkIG+o\n",
       "2Po6kGi5S1CwkfpK7yNZSJEetX6PZHcU6n8A8Sb0xSL/FbwAAAAASUVORK5CYII=\n",
       "\" style=\"display:inline;vertical-align:middle;\" /></a></span>"
      ],
      "text/plain": [
       "{x in Integer, y in Integer} |- ceil((x - y) + 2) = ((x - y) + 2)"
      ]
     },
     "execution_count": 63,
     "metadata": {},
     "output_type": "execute_result"
    }
   ],
   "source": [
    "ceil_x_minus_y_plus_2.rounding_elimination(assumptions=[InSet(x, Integer), InSet(y, Integer)])"
   ]
  },
  {
   "cell_type": "code",
   "execution_count": 64,
   "metadata": {},
   "outputs": [
    {
     "data": {
      "text/html": [
       "<span style=\"font-size:20px;\"> <a class=\"ProveItLink\" href=\"../__pv_it/demonstrations/ade2ade1490c91f5ce1e10ebe97385f81767d5fc0/proof.ipynb\" style=\"text-decoration: none\">&nbsp;&#x22A2;&nbsp;&nbsp;</a><a class=\"ProveItLink\" href=\"../__pv_it/demonstrations/05da7137e37855bbe1bb681da99478e6f6cef2e50/expr.ipynb\"><img src=\"data:image/png;base64,iVBORw0KGgoAAAANSUhEUgAAAEAAAAAVBAMAAAAEBPWpAAAAMFBMVEX///+qqqqIiIgyMjK6urp2\n",
       "dnbMzMxERERmZmYiIiIQEBBUVFTc3NyYmJju7u4AAADXUSrrAAAAAXRSTlMAQObYZgAAALNJREFU\n",
       "KM9jeMsAA0wMWMFpOIsZt4IX7WVYFYDFgQr4NjDEO2BRABEHKuB4wMC1AIsCiDhQAdcEBu4/WBRA\n",
       "xIEKmP8xcH/DogAiDvEF5z/svgCKQxT4B8AUsBqDQQMDTByiYDaOcJgNDSiOBuwKQOJgBRo4QlID\n",
       "GpKMDQxn0NywgQEmDlKQysCgg80EsDhQAc/U0O4JWBRAxEEB9f//f2wKIOJERTeNFbyaORtMH545\n",
       "Has8AJvVPbdeJzmqAAAAAElFTkSuQmCC\n",
       "\" style=\"display:inline;vertical-align:middle;\" /></a></span>"
      ],
      "text/plain": [
       "|- floor(2) = 2"
      ]
     },
     "execution_count": 64,
     "metadata": {},
     "output_type": "execute_result"
    }
   ],
   "source": [
    "floor_2.rounding_elimination()"
   ]
  },
  {
   "cell_type": "code",
   "execution_count": 65,
   "metadata": {},
   "outputs": [
    {
     "data": {
      "text/html": [
       "<span style=\"font-size:20px;\"><a class=\"ProveItLink\" href=\"../__pv_it/theorems/37457ae6f2a046fde6b993ab4ab5413aad4b39af0/expr.ipynb\"><img src=\"data:image/png;base64,iVBORw0KGgoAAAANSUhEUgAAADMAAAAPBAMAAAC7N+rPAAAAMFBMVEX///8QEBBmZmaqqqrMzMxE\n",
       "REQyMjIiIiKYmJh2dna6urrc3NxUVFSIiIju7u4AAAA6P00QAAAAAXRSTlMAQObYZgAAANZJREFU\n",
       "GNNjYMAEy+XFEsskGLCBqyoMbAwBWKU0GRgmcy5AEeIILy8D0XoM3AecUGRYYh/AmKwP4kDU2zu7\n",
       "bl4AMZ7BZRh6ORqAJN8Ejlr2BBD/NFyGL+ApiOJ8wPmPawOIhXATjwNYGR8DK0SMRSwNCMDMRVwT\n",
       "IGr4wTYxcCN0JbCCTAMy/B0gAgIwGU6DWQwMjAwMzA/uM/CC3aYLk9rDfYCBQZGBYb1BPMMOsAi7\n",
       "AVQqjvUBw5tWBoY3d99qNECcfHQdmOYSTQwN/BiEEhxcUyEBBQUAa7sxwOkLdCEAAAAASUVORK5C\n",
       "YII=\n",
       "\" style=\"display:inline;vertical-align:middle;\" /></a>, <a class=\"ProveItLink\" href=\"../__pv_it/demonstrations/0e211c1b90a45e17b96e3a76d1d45f0a3426ba3f0/expr.ipynb\"><img src=\"data:image/png;base64,iVBORw0KGgoAAAANSUhEUgAAADIAAAASBAMAAADrvZC0AAAAMFBMVEX///8iIiKYmJhUVFTMzMxE\n",
       "REQyMjKqqqq6urp2dnYQEBDc3NxmZmaIiIju7u4AAACH5sGpAAAAAXRSTlMAQObYZgAAAOhJREFU\n",
       "GNNjYMAAHFK/0hZmKWBKMPDGODAksGKRYOCZwMBZMANZhClQUAws84BhM8sBJAmW2AdwdhwrkM13\n",
       "5wLDLpDYM4QE0wUlIMnJsYDhPohrjdD+lC8ASG7nSWAIBXEDEDImzBuA5AOuCwx/QdYsSwMCiIcO\n",
       "dILp/gcsX4AUN0IPG0j/PAaGYwy8C0D8BXCZ6ZwNYG4wA6sBiH8WJsFtsBnoKaDMYYZ+cBgxFkBl\n",
       "WB/EMfAZAQ18fPc8yCUMfKZ9EJmusKWh65eCA+EYNIynQkIHBpgT+H4wYAWMCqwXsMtw3D2CXQIA\n",
       "CSg4nSezvQQAAAAASUVORK5CYII=\n",
       "\" style=\"display:inline;vertical-align:middle;\" /></a> <a class=\"ProveItLink\" href=\"../__pv_it/demonstrations/d18f86e675de733ee258a62da140c7b52bc255d90/proof.ipynb\" style=\"text-decoration: none\">&nbsp;&#x22A2;&nbsp;&nbsp;</a><a class=\"ProveItLink\" href=\"../__pv_it/demonstrations/d9a387982f1dca699b925f28dc23c4e10c7a4f180/expr.ipynb\"><img src=\"data:image/png;base64,iVBORw0KGgoAAAANSUhEUgAAAJoAAAAVBAMAAABMN+opAAAAMFBMVEX///9mZmaqqqrMzMxEREQy\n",
       "MjJ2dna6urqIiIgiIiIQEBBUVFTc3NyYmJju7u4AAABISk2iAAAAAXRSTlMAQObYZgAAAa9JREFU\n",
       "OMtjeMuADzQwkAZO45UNwBDhuYBLLdMB0k17glvxHtJNi8Gt+CmGaRoETOMVQPEcSriyNZBqGucB\n",
       "3KbxLSDVtJMMuE1jCAeb9qL7eFsDiml8jQ0Mpx5gMa0RRTnMtBcSDDzrGBgSQabxJfDO4AxAMY2N\n",
       "fQFDP8xtbKFgAA4xXxTlMNMSqhg4PjAwXAWZxvaA7R/7ARTTDjEGMLhg8+kkFOVQ03gURBlYHBgY\n",
       "NMFuAzOBIDU0dFZoaDSQ9YCrgeEHNtOWI5QDnRy5NDR0A0hkBQM/0GB7SCzwN6DHQv0D5s84TENS\n",
       "DvMp+z8GewO4aSAmqmmiDBwL0MJtA9SnSMphpgHDpQtIVYJMY3rQz8DxANU0bwaWDdjc5ouiHGYa\n",
       "UK03AzQW6hX8Gc6iuU2aof4CNtMSUZTD3baB/S+QEgOZ9rrjhewFNNNed8gfwGZaJYpymGl8Oxr/\n",
       "AKlg3HlBlKScBQw5Br4J6Ka9g1DcAXzficj1fNDQ3srwvgBbroc54QJLA/YSyQeb8rkMHlhLJChg\n",
       "7xAmpbSsaDSAWPRq5mxcpR9P5EwHEkpy3gMMABt9h/XBNMnMAAAAAElFTkSuQmCC\n",
       "\" style=\"display:inline;vertical-align:middle;\" /></a></span>"
      ],
      "text/plain": [
       "{x in Integer, y in Integer} |- floor(x + y) = (x + y)"
      ]
     },
     "execution_count": 65,
     "metadata": {},
     "output_type": "execute_result"
    }
   ],
   "source": [
    "floor_x_plus_y.rounding_elimination(assumptions=[InSet(x, Integer), InSet(y, Integer)])"
   ]
  },
  {
   "cell_type": "code",
   "execution_count": 66,
   "metadata": {},
   "outputs": [
    {
     "data": {
      "text/html": [
       "<span style=\"font-size:20px;\"> <a class=\"ProveItLink\" href=\"../__pv_it/demonstrations/572fef897c82c7cd6a1ad5ef2ad7e39db0941d620/proof.ipynb\" style=\"text-decoration: none\">&nbsp;&#x22A2;&nbsp;&nbsp;</a><a class=\"ProveItLink\" href=\"../__pv_it/demonstrations/0699815cf55529fb65587d75064fec095dd81fd10/expr.ipynb\"><img src=\"data:image/png;base64,iVBORw0KGgoAAAANSUhEUgAAAHcAAAAUBAMAAABFd79NAAAAMFBMVEX///+YmJjc3NxmZmYiIiLM\n",
       "zMwQEBCqqqoyMjJERER2dnbu7u5UVFSIiIi6uroAAAA5J+EfAAAAAXRSTlMAQObYZgAAAdtJREFU\n",
       "OMudlM9LFGEYxz/O/pwZd5SkUwfH8Bi04CVKYfEoQXPruoF0CIRF/4AWPOQhcCEIhISBOogozEE8\n",
       "SbtBBy/igniJtvbktZQiaE173vddqWZyafvCy7zP9/kxz4/3faEnxsxnnj6ReV7EreFOrAQM+nGt\n",
       "pntgqELeZwfnDLcaV2q6Bz5FjMAdeAibcaWhL8crmIZZ2PfZjisNfTkWsUqwHLEfkG/HlIb23r9u\n",
       "NSWvg7Z70GQ78jaut6bAun34jUJRG96LcIrJ4Iq2n9hlxtvuScor81HkVeo+R77dwR5WRt53GNAd\n",
       "W1tSWDS+ir6fbngBMzAzlqqyInKVm4H7AJHSFWWVbkCulPixoqO6lJPqwGmUbTKn5VFFpEOyutIJ\n",
       "NfTPCWdF81hWtob1Q2aT+arlXUVIEO2sC086m37cklUPcU5kNoWylo9dISSITnsBy8cr/ar5qXbW\n",
       "NI/UYRomG/ICu3ZN5FzHqVfYzfmqYZmQgt9t2O+HV9OWZEqqwTOY5KgYWmc41at2c+Cuowc0vv7y\n",
       "rRiEMWdDm4TW30l5O635vUBk603F3Tu88UHrls/Pv0A+fgsM3RPTF5st+sfIxWbzP5zt7tlPXsl/\n",
       "gDwGfwTpD91n6MrftT8BrEiKQJ/vsaMAAAAASUVORK5CYII=\n",
       "\" style=\"display:inline;vertical-align:middle;\" /></a></span>"
      ],
      "text/plain": [
       "|- round(2) = 2"
      ]
     },
     "execution_count": 66,
     "metadata": {},
     "output_type": "execute_result"
    }
   ],
   "source": [
    "round_2.rounding_elimination()"
   ]
  },
  {
   "cell_type": "code",
   "execution_count": 67,
   "metadata": {},
   "outputs": [
    {
     "data": {
      "text/html": [
       "<span style=\"font-size:20px;\"><a class=\"ProveItLink\" href=\"../__pv_it/theorems/37457ae6f2a046fde6b993ab4ab5413aad4b39af0/expr.ipynb\"><img src=\"data:image/png;base64,iVBORw0KGgoAAAANSUhEUgAAADMAAAAPBAMAAAC7N+rPAAAAMFBMVEX///8QEBBmZmaqqqrMzMxE\n",
       "REQyMjIiIiKYmJh2dna6urrc3NxUVFSIiIju7u4AAAA6P00QAAAAAXRSTlMAQObYZgAAANZJREFU\n",
       "GNNjYMAEy+XFEsskGLCBqyoMbAwBWKU0GRgmcy5AEeIILy8D0XoM3AecUGRYYh/AmKwP4kDU2zu7\n",
       "bl4AMZ7BZRh6ORqAJN8Ejlr2BBD/NFyGL+ApiOJ8wPmPawOIhXATjwNYGR8DK0SMRSwNCMDMRVwT\n",
       "IGr4wTYxcCN0JbCCTAMy/B0gAgIwGU6DWQwMjAwMzA/uM/CC3aYLk9rDfYCBQZGBYb1BPMMOsAi7\n",
       "AVQqjvUBw5tWBoY3d99qNECcfHQdmOYSTQwN/BiEEhxcUyEBBQUAa7sxwOkLdCEAAAAASUVORK5C\n",
       "YII=\n",
       "\" style=\"display:inline;vertical-align:middle;\" /></a> <a class=\"ProveItLink\" href=\"../__pv_it/demonstrations/63fbe722069de7e6ccd1183fdb96d5d69b27e8bf0/proof.ipynb\" style=\"text-decoration: none\">&nbsp;&#x22A2;&nbsp;&nbsp;</a><a class=\"ProveItLink\" href=\"../__pv_it/theorems/ecd921d370ac12ff05c3fca4681629d5846dfb090/expr.ipynb\"><img src=\"data:image/png;base64,iVBORw0KGgoAAAANSUhEUgAAAHoAAAAUBAMAAACwiTT9AAAAMFBMVEX///+YmJjc3NxmZmYiIiLM\n",
       "zMwQEBCqqqoyMjJERER2dnbu7u5UVFSIiIi6uroAAAA5J+EfAAAAAXRSTlMAQObYZgAAAbtJREFU\n",
       "OMulVDtIw1AUPSY1bRIb629yMIqjYEcRheIkxaGba10FoXR1sNBBB4eCIAgKGRzED2aQDiKmOrkU\n",
       "AsVFjRaHbmItSIda8b4krRKKED0QknNezs19994X4FeMuvc0fKJ7Owo555Ie1a+9N4VQyyRn/Lpf\n",
       "dQy0yYlf9z4w1yZ5v+4suFibhMod31EeLi2TMiuV5ZKJvK4cj1mzADd9W0c4Sju2rl8obSnq8Tm6\n",
       "JK6LSYyX5RqvJPFEfA+GiooqNiBGgHMMmvNAl122gw2GLHt09MVAQUkgDsRH+Qx2iGcwmZCXQCyQ\n",
       "Ao5wqj8DwZjn246uG7QjvgF86IKJFZuPMCGgQaAlnSKy7lc9bldfo0vIgWtSi7rfbX7DBIoi2KVq\n",
       "dnS7+hRdhgapRi0KJ23+JpNAUVjmYBGpuLHvfW86s2jry2ysIhA07ELMDRMPNiQjhZugyqq2Gq7i\n",
       "vlW1H3B0joXgC9gCZlCJatwnpMyQaHYtSKxNSl2schSE1zyNdnQnpcM72uKFlS4miHNXKbl4O/HI\n",
       "1uTifamPTUvC025X/w3fk3oG//jHKSGIfz+hzJTzhvGF1p+pv/PyF8i6i7YiZENeAAAAAElFTkSu\n",
       "QmCC\n",
       "\" style=\"display:inline;vertical-align:middle;\" /></a></span>"
      ],
      "text/plain": [
       "{x in Integer} |- round(x) = x"
      ]
     },
     "execution_count": 67,
     "metadata": {},
     "output_type": "execute_result"
    }
   ],
   "source": [
    "round_x.rounding_elimination(assumptions=[InSet(x, Integer)])"
   ]
  },
  {
   "cell_type": "code",
   "execution_count": 68,
   "metadata": {},
   "outputs": [
    {
     "data": {
      "text/html": [
       "<span style=\"font-size:20px;\"><a class=\"ProveItLink\" href=\"../__pv_it/theorems/37457ae6f2a046fde6b993ab4ab5413aad4b39af0/expr.ipynb\"><img src=\"data:image/png;base64,iVBORw0KGgoAAAANSUhEUgAAADMAAAAPBAMAAAC7N+rPAAAAMFBMVEX///8QEBBmZmaqqqrMzMxE\n",
       "REQyMjIiIiKYmJh2dna6urrc3NxUVFSIiIju7u4AAAA6P00QAAAAAXRSTlMAQObYZgAAANZJREFU\n",
       "GNNjYMAEy+XFEsskGLCBqyoMbAwBWKU0GRgmcy5AEeIILy8D0XoM3AecUGRYYh/AmKwP4kDU2zu7\n",
       "bl4AMZ7BZRh6ORqAJN8Ejlr2BBD/NFyGL+ApiOJ8wPmPawOIhXATjwNYGR8DK0SMRSwNCMDMRVwT\n",
       "IGr4wTYxcCN0JbCCTAMy/B0gAgIwGU6DWQwMjAwMzA/uM/CC3aYLk9rDfYCBQZGBYb1BPMMOsAi7\n",
       "AVQqjvUBw5tWBoY3d99qNECcfHQdmOYSTQwN/BiEEhxcUyEBBQUAa7sxwOkLdCEAAAAASUVORK5C\n",
       "YII=\n",
       "\" style=\"display:inline;vertical-align:middle;\" /></a>, <a class=\"ProveItLink\" href=\"../__pv_it/demonstrations/0e211c1b90a45e17b96e3a76d1d45f0a3426ba3f0/expr.ipynb\"><img src=\"data:image/png;base64,iVBORw0KGgoAAAANSUhEUgAAADIAAAASBAMAAADrvZC0AAAAMFBMVEX///8iIiKYmJhUVFTMzMxE\n",
       "REQyMjKqqqq6urp2dnYQEBDc3NxmZmaIiIju7u4AAACH5sGpAAAAAXRSTlMAQObYZgAAAOhJREFU\n",
       "GNNjYMAAHFK/0hZmKWBKMPDGODAksGKRYOCZwMBZMANZhClQUAws84BhM8sBJAmW2AdwdhwrkM13\n",
       "5wLDLpDYM4QE0wUlIMnJsYDhPohrjdD+lC8ASG7nSWAIBXEDEDImzBuA5AOuCwx/QdYsSwMCiIcO\n",
       "dILp/gcsX4AUN0IPG0j/PAaGYwy8C0D8BXCZ6ZwNYG4wA6sBiH8WJsFtsBnoKaDMYYZ+cBgxFkBl\n",
       "WB/EMfAZAQ18fPc8yCUMfKZ9EJmusKWh65eCA+EYNIynQkIHBpgT+H4wYAWMCqwXsMtw3D2CXQIA\n",
       "CSg4nSezvQQAAAAASUVORK5CYII=\n",
       "\" style=\"display:inline;vertical-align:middle;\" /></a> <a class=\"ProveItLink\" href=\"../__pv_it/demonstrations/3a04a010abe2ec6e97845d6c2d63effd2569b6120/proof.ipynb\" style=\"text-decoration: none\">&nbsp;&#x22A2;&nbsp;&nbsp;</a><a class=\"ProveItLink\" href=\"../__pv_it/demonstrations/6942eb46ed4f7d18043b47887fa3a277786792d40/expr.ipynb\"><img src=\"data:image/png;base64,iVBORw0KGgoAAAANSUhEUgAAANEAAAAUBAMAAADhMcXbAAAAMFBMVEX///+YmJjc3NxmZmYiIiLM\n",
       "zMwQEBCqqqoyMjJERER2dnbu7u5UVFSIiIi6uroAAAA5J+EfAAAAAXRSTlMAQObYZgAAAilJREFU\n",
       "SMellTFoE2EUx/+9S5PcfeaMtp0cTEV0EcxSKNLS0KkUh2yucROhELo69KCCNzgEhILQwg0ORQ3e\n",
       "UDqUYKJTlsBB6GJ7Ghy6SdNC6ZCm+L4L1bsvyV2Ovune+37/vMt7370HBNr00JPVa9P/bHwjC1Ya\n",
       "enwj0xeKRnvsZhHJ4QDT+0LRaI8dW5jwBRK21yv3CaLRHvsALAZod/sE0WiPrUPKBWiTLYEPo7XD\n",
       "rw7Fys0Wa9rYtbTP95x5kj3ZP0cqSxV2vv8p+7Sce2BBzQqZwmhVeaMUcL/FTmWtgF/kb6GawVFG\n",
       "6UBJA3uYtJd8WtXlMOY2edvgts4fw+hnsZqWxzKwPC3reE++jsd59hzkxYrAJ3yxfvu0D10OiZzw\n",
       "n8Joq0r1ljvAhRW3seL6d3kgZiJORxbn+LsZxusXhlGjCHFd+t7aQqZQeo1DJUhdutbjZ65f5wHK\n",
       "GHeb3hV73OMGZgqkZ8mrmlBP6VqnCq5/wiiw1qsHOOfXzrqclvvfp7dX1QukX/JxkEbcxCaU0h3y\n",
       "Ex21WkQ9keE9fpVq48CvJa52dSM8FkZL/CXkGt4BczjKmtIlVH1KsceeqvxqaudKW0r7tXM4pohs\n",
       "CpnC6F4RPv6gIlec1UaefOlbkTX2H/3kZ6xx0Lwl1KPiLNCES+aFTNHoEecL7+3ONemgmcms3gbQ\n",
       "2eUIEzaMFpo8aA/E0oo9cA9Eo0fYbZozM/hno9Ej7+vbUem/uILgU5Vj62AAAAAASUVORK5CYII=\n",
       "\" style=\"display:inline;vertical-align:middle;\" /></a></span>"
      ],
      "text/plain": [
       "{x in Integer, y in Integer} |- round(x + y) = (x + y)"
      ]
     },
     "execution_count": 68,
     "metadata": {},
     "output_type": "execute_result"
    }
   ],
   "source": [
    "round_x_plus_y.rounding_elimination(assumptions=[InSet(x, Integer), InSet(y, Integer)])"
   ]
  },
  {
   "cell_type": "code",
   "execution_count": 69,
   "metadata": {},
   "outputs": [
    {
     "data": {
      "text/html": [
       "<span style=\"font-size:20px;\"> <a class=\"ProveItLink\" href=\"../__pv_it/demonstrations/da4d1ce42120f213b04fd414750f8e9b0359e0ca0/proof.ipynb\" style=\"text-decoration: none\">&nbsp;&#x22A2;&nbsp;&nbsp;</a><a class=\"ProveItLink\" href=\"../__pv_it/demonstrations/a4573ec5d1be6317c91efce9758ff871f897b58f0/expr.ipynb\"><img src=\"data:image/png;base64,iVBORw0KGgoAAAANSUhEUgAAAM0AAAAUBAMAAADco6S9AAAAMFBMVEX///+YmJjc3NxmZmYiIiLM\n",
       "zMwQEBCqqqoyMjJERER2dnbu7u5UVFSIiIi6uroAAAA5J+EfAAAAAXRSTlMAQObYZgAAAhpJREFU\n",
       "SMellc9L22AYx78m/WGSNRaHJw+Lo8fBKl5EJ5QdRTA3rx2IyMaguD/AgoPlMLAwGBQUAnoYYiGH\n",
       "4UnWCiJexIJ4Gav25NWtbCjrpnuSSvfy5m1j6HN5833ezzdP8v4EusZIp46lXuF2RD+moRUEHdpY\n",
       "0cQDw58PAzMxkEM/AfFXXH4X6g20vI8PBTNx6eAhgdvNOx2vttpJYAEo+fhQMBObwHNq+njrPHBs\n",
       "YMfHh4KZWIGUEVlXHRyb6K9zeACsf/tSo1zppK6dVLHj6NuPa1Pkmji9QiItslLMOlDTXJ0AWFXe\n",
       "KVmk6lpD1rM4J72OsoELQ2lCSYqt+m9Ke3P7yXJjxX0MgOciFd3ENDA9IudRJJ3HU1N7AVKRnNga\n",
       "qZDKcP8TADtlGmiZuv84sSpee/qRm4jYiNXbVtWy3i5aVsWzjrnb6ztXJwhedpkCpL+0kKO/PH3o\n",
       "JqgeY2U/0ZuJbnWE8Di1ZRtqgxZyIuvpHxolljsOxRtIBvTM//l532Xc2vBLd+snEbOxBqUwTDre\n",
       "VMs5HMYN8dRGbSSMu3XARAAs0VBBruAD8AwXaVu6gZofUqp9M2pr7SZ4a2prY58sNlcnAG79/9ZX\n",
       "Gt3d2tKRSVray2lHp0/OvD754HqU23q3tz/pNDO5OqFgwVHSDmbrUXzuDfYdjcwR77Cq1BvMzW3H\n",
       "i0Nw1IeC73F1dXppKPi+V/FgSPgfNWTVkVGN9u4AAAAASUVORK5CYII=\n",
       "\" style=\"display:inline;vertical-align:middle;\" /></a></span>"
      ],
      "text/plain": [
       "|- round(1 + 2) = (1 + 2)"
      ]
     },
     "execution_count": 69,
     "metadata": {},
     "output_type": "execute_result"
    }
   ],
   "source": [
    "round_1_plus_2.rounding_elimination()"
   ]
  },
  {
   "cell_type": "code",
   "execution_count": 70,
   "metadata": {},
   "outputs": [
    {
     "data": {
      "text/html": [
       "<span style=\"font-size:20px;\"><a class=\"ProveItLink\" href=\"../__pv_it/theorems/37457ae6f2a046fde6b993ab4ab5413aad4b39af0/expr.ipynb\"><img src=\"data:image/png;base64,iVBORw0KGgoAAAANSUhEUgAAADMAAAAPBAMAAAC7N+rPAAAAMFBMVEX///8QEBBmZmaqqqrMzMxE\n",
       "REQyMjIiIiKYmJh2dna6urrc3NxUVFSIiIju7u4AAAA6P00QAAAAAXRSTlMAQObYZgAAANZJREFU\n",
       "GNNjYMAEy+XFEsskGLCBqyoMbAwBWKU0GRgmcy5AEeIILy8D0XoM3AecUGRYYh/AmKwP4kDU2zu7\n",
       "bl4AMZ7BZRh6ORqAJN8Ejlr2BBD/NFyGL+ApiOJ8wPmPawOIhXATjwNYGR8DK0SMRSwNCMDMRVwT\n",
       "IGr4wTYxcCN0JbCCTAMy/B0gAgIwGU6DWQwMjAwMzA/uM/CC3aYLk9rDfYCBQZGBYb1BPMMOsAi7\n",
       "AVQqjvUBw5tWBoY3d99qNECcfHQdmOYSTQwN/BiEEhxcUyEBBQUAa7sxwOkLdCEAAAAASUVORK5C\n",
       "YII=\n",
       "\" style=\"display:inline;vertical-align:middle;\" /></a> <a class=\"ProveItLink\" href=\"../__pv_it/demonstrations/b2c954c75ad76a2b39461ca9d701818a30dbbc780/proof.ipynb\" style=\"text-decoration: none\">&nbsp;&#x22A2;&nbsp;&nbsp;</a><a class=\"ProveItLink\" href=\"../__pv_it/demonstrations/798a3f1166e62d01cbb62d44318405b5686f95e40/expr.ipynb\"><img src=\"data:image/png;base64,iVBORw0KGgoAAAANSUhEUgAAAM8AAAAUBAMAAADYVnSAAAAAMFBMVEX///+YmJjc3NxmZmYiIiLM\n",
       "zMwQEBCqqqoyMjJERER2dnbu7u5UVFSIiIi6uroAAAA5J+EfAAAAAXRSTlMAQObYZgAAAplJREFU\n",
       "SMeVlU1oE0EYhp+kadLsJtsggh5X7bHaSC9Vq+akUvwJXkQvLVYEFaVUr9IgiDmIVcFDD9LFXkol\n",
       "dkEplaZ2Kd6kdLGoIA3mIB68NBZLoYHG2TSHZju7koFlkpnn3Xfm+76dAb8WTHjNRPRG6EE/k8v9\n",
       "8F468/bIC5jfOS6l1c6RNDHdz2kdHkilFpNFpndOSOk8yiZqxsdHKxNI1o3c3+qaTMJ9KLZbIKeP\n",
       "wXXI+RgpKUK6TBpOEVtF7XML5PQ1WNSZ8jFqSdKGTNpSJrYGT9wCOT1sspimpYi2/KFgoxROMHsc\n",
       "9Ra/5w8uiagcyPUOsCTA2eVD3+06qbP4Moy5jTzpCyZKEiX6KNoXPM+cnvxFvIQxYquraFcZNXkm\n",
       "Mm8EzoUybumKAXur8c1WWzU7XrS2IfKX4VLI0tIhg9CrRBfRp80DZwiuMZWgC06LN5lKWdPdRmfF\n",
       "c8+9Iy86ZInPLoU5V4STJq2fuE3YVtVNAiVnoAfuiDUK8yo+ns2eymYfb9Wds4Net5EX3Sme5hIM\n",
       "if4GdNiinnvTRErEMmJAGDpSaLVd6d3KhtRIRseTNSMRIlVEcVIX9fxVrDZDa2JmwzF0goFj7pJG\n",
       "kuyHn9tyZNVCJ6PvEtTRUnBT/PnjdFGLkYAZNhgyX6+LbQ066Y2YP4ib9dIr8LlWDNubnG42iOtO\n",
       "MYjMQzfRJE2W1q/QUWQ8kH7JbstwKnhlYJR99WsM9kx0iwUedRvJ6baJsY8iTkZ1Uyi5NyKAC9/a\n",
       "vzgRad9DvnBxoej8zhdmDydcH2ylUhGih24jOT1cqfwVmrTvLSE/VGpHa6oR+p2vj/uYnKk7Cu1G\n",
       "6Jy/Ec+9p6YboX2vCc+rzPOt3nRU/4+R9+UcaOgq3wX/AGr00BVh7V0rAAAAAElFTkSuQmCC\n",
       "\" style=\"display:inline;vertical-align:middle;\" /></a></span>"
      ],
      "text/plain": [
       "{x in Integer} |- round(x + 2) = (x + 2)"
      ]
     },
     "execution_count": 70,
     "metadata": {},
     "output_type": "execute_result"
    }
   ],
   "source": [
    "round_x_plus_2.rounding_elimination(assumptions=[InSet(x, Integer)])"
   ]
  },
  {
   "cell_type": "markdown",
   "metadata": {},
   "source": [
    "## The `rounding_extraction()` method\n",
    "<font size=4> Some testing of the utility `rounding_extraction()` method(s), allowing the conclusion of an equivalence from `Ceil(x+i)`, `Floor(x+i)`, and `Round(x+i)` to the expression $F(x)+i$ when we know $x\\in\\mathbb{R}$ and $i\\in\\mathbb{Z}$.</font>"
   ]
  },
  {
   "cell_type": "markdown",
   "metadata": {},
   "source": [
    "### Ceil.rounding_extraction()"
   ]
  },
  {
   "cell_type": "code",
   "execution_count": 71,
   "metadata": {},
   "outputs": [
    {
     "data": {
      "text/html": [
       "<a class=\"ProveItLink\" href=\"../__pv_it/demonstrations/7caad2ea7d025a18e949b3671af50e43e8a764cc0/expr.ipynb\"><img src=\"data:image/png;base64,iVBORw0KGgoAAAANSUhEUgAAAF0AAAAVBAMAAADWVP/xAAAAMFBMVEX///8QEBBmZmaqqqrMzMwi\n",
       "IiKYmJi6urqIiIh2dnbc3NxUVFQyMjJERETu7u4AAADasDZTAAAAAXRSTlMAQObYZgAAATNJREFU\n",
       "KM9jeHvmNAORgOvMmQkMq3FJJqDyrUAE3wGc6t+i8bkXgEjc6k+h8YFGY1NvAaXZFNANmIFXPesC\n",
       "dPUP8apfiuFAngK4+hfdyzsbUNU3Ibm8qYFh4QMGTgWYer4JbBGsB1DVX0Oo52QXYOgH+ugATD3n\n",
       "A85/7AtQ1Qcj1C9mOsBwl4GBOQBuPgPvBbDMnDNnAs9A4lscKHwGDBweMDYw/GBgYPmA8C9/A7p/\n",
       "xZF8Wv+A5Quqen8HdPVI7mHQYeAQYGBgh7uH+UE/A8cDnP5luM3AuwHZv/UG9xmWoZk/CUm9NkM9\n",
       "MPExTYCpf93xQi0BTX0pkvrXHfrA0ONxID496ADxU6zp4R1meuM+wPcdZ3qDg1twFmsCbwPO9Iwl\n",
       "v7B3qABJXmh+eUlkfswCkxsA1JdpjuV0+xQAAAAASUVORK5CYII=\n",
       "\" style=\"display:inline;vertical-align:middle;\" /></a>"
      ],
      "text/plain": [
       "ceil(x + (-y))"
      ]
     },
     "execution_count": 71,
     "metadata": {},
     "output_type": "execute_result"
    }
   ],
   "source": [
    "ceil_x_minus_y"
   ]
  },
  {
   "cell_type": "code",
   "execution_count": 72,
   "metadata": {},
   "outputs": [
    {
     "data": {
      "text/html": [
       "<a class=\"ProveItLink\" href=\"../__pv_it/demonstrations/a23f5980ba8c3d08a64daa2219aa1fce80e3657a0/expr.ipynb\"><img src=\"data:image/png;base64,iVBORw0KGgoAAAANSUhEUgAAAHAAAAAVBAMAAABs93eRAAAAMFBMVEX////MzMy6uroQEBCqqqqI\n",
       "iIgiIiJmZmaYmJh2dnbc3NxUVFQyMjJERETu7u4AAAAjuzXOAAAAAXRSTlMAQObYZgAAAYRJREFU\n",
       "OMtjeHvmNAPJYM2ZkwyrQQyuBpxqvLALv4FofIvbcO4FaALPay8CSR6IxlO4NfIdQONvYJivANPI\n",
       "UYDHP1OhNEsAmGJ/wMBsANPItgCPxseoGpkTGLh/wTQuwxeCPAooGnn+MXB/hGkMB7k9dJfqVFTf\n",
       "hAcwLH7AwFmAohHkwH8wjTeA+CVDW0AOikZOJgOGeGAAHEDXqD8BpjEFiOcxzH+ghaJxCfsBhrtA\n",
       "DQnoGrPh0WEExA9AikAxewYEDoJEmAMYvjIwMH4A2X7mzDGbM2c2gMO1AEUjA0gRKtB/wPgRqhHZ\n",
       "xnAGBmSnMoAUoYIaBlZgjDGhOZWlgGEVcuD4sX5giEPVeJuBdwNm4EgyMETBNE4HmvuF9wN6Uq9m\n",
       "0AeKsE9A0ciVObM6AaZRDRhpW+PCO9Cc+jq0HpikeARQE8D///8TCCa5GiB+xoAeHYjAwZ7IuQ/w\n",
       "fUJK5HwPMDUy3MKmka2BNwAzW6FqxJqRmUILgSTvAhwaXxIoOrpwFAwAbQBwedtjouYAAAAASUVO\n",
       "RK5CYII=\n",
       "\" style=\"display:inline;vertical-align:middle;\" /></a>"
      ],
      "text/plain": [
       "ceil((x - y) + 2)"
      ]
     },
     "execution_count": 72,
     "metadata": {},
     "output_type": "execute_result"
    }
   ],
   "source": [
    "ceil_x_minus_y_plus_2"
   ]
  },
  {
   "cell_type": "code",
   "execution_count": 73,
   "metadata": {},
   "outputs": [
    {
     "data": {
      "text/html": [
       "<span style=\"font-size:20px;\"><a class=\"ProveItLink\" href=\"../__pv_it/axioms/02bd6ad73acd9f4d3192ee4c61bfdcabbff20f180/expr.ipynb\"><img src=\"data:image/png;base64,iVBORw0KGgoAAAANSUhEUgAAADQAAAAPBAMAAABZ6/G2AAAAMFBMVEX///8QEBBmZmaqqqrMzMxE\n",
       "REQyMjIiIiKYmJh2dna6urrc3NxUVFSIiIju7u4AAAA6P00QAAAAAXRSTlMAQObYZgAAAMRJREFU\n",
       "GNNjYMAAHIWh3xIjGLACNr4DLBFxWKVYuScwBOxBEWotL0+ASWmzIcu43kPSpc0KZLy9s+vmBSDN\n",
       "l4ds4IE1QJEJHLXsIHN4NiBJMRcBFXI+4PzHBRJlRXKGeHkyyBwG1gCwgGMaEECdMUsB4nb+C2Bq\n",
       "K7LjtVzBLH8HMMWILMX6Aqie+cF9Bt4HQAGmC0hSLAdUGBjWG8Qz7ACLFCMFFMNkHgeGN3ffajSA\n",
       "Rd5EPYAHrwNr2Gfk4FgZDgkoKAAAelg1omM6Y4wAAAAASUVORK5CYII=\n",
       "\" style=\"display:inline;vertical-align:middle;\" /></a>, <a class=\"ProveItLink\" href=\"../__pv_it/demonstrations/0e211c1b90a45e17b96e3a76d1d45f0a3426ba3f0/expr.ipynb\"><img src=\"data:image/png;base64,iVBORw0KGgoAAAANSUhEUgAAADIAAAASBAMAAADrvZC0AAAAMFBMVEX///8iIiKYmJhUVFTMzMxE\n",
       "REQyMjKqqqq6urp2dnYQEBDc3NxmZmaIiIju7u4AAACH5sGpAAAAAXRSTlMAQObYZgAAAOhJREFU\n",
       "GNNjYMAAHFK/0hZmKWBKMPDGODAksGKRYOCZwMBZMANZhClQUAws84BhM8sBJAmW2AdwdhwrkM13\n",
       "5wLDLpDYM4QE0wUlIMnJsYDhPohrjdD+lC8ASG7nSWAIBXEDEDImzBuA5AOuCwx/QdYsSwMCiIcO\n",
       "dILp/gcsX4AUN0IPG0j/PAaGYwy8C0D8BXCZ6ZwNYG4wA6sBiH8WJsFtsBnoKaDMYYZ+cBgxFkBl\n",
       "WB/EMfAZAQ18fPc8yCUMfKZ9EJmusKWh65eCA+EYNIynQkIHBpgT+H4wYAWMCqwXsMtw3D2CXQIA\n",
       "CSg4nSezvQQAAAAASUVORK5CYII=\n",
       "\" style=\"display:inline;vertical-align:middle;\" /></a> <a class=\"ProveItLink\" href=\"../__pv_it/demonstrations/5f3d44c4bbcb026863c1cb17ef3db229a8c3a5a90/proof.ipynb\" style=\"text-decoration: none\">&nbsp;&#x22A2;&nbsp;&nbsp;</a><a class=\"ProveItLink\" href=\"../__pv_it/demonstrations/b907fa31616497f1323258090e1544ce71786ce10/expr.ipynb\"><img src=\"data:image/png;base64,iVBORw0KGgoAAAANSUhEUgAAAOwAAAAVBAMAAAC3YB/2AAAAMFBMVEX///8QEBBmZmaqqqrMzMwi\n",
       "IiKYmJi6urqIiIh2dnbc3NxUVFQyMjJERETu7u4AAADasDZTAAAAAXRSTlMAQObYZgAAAlZJREFU\n",
       "SMellr9r1GAYxx/v2sslmreODkVuEoUOtwjiIPcf9LpIKR0OQQdxqINQXIw3VYR6OHUQm0mHLhlL\n",
       "6ZCh0qHv0LH4A+MgXLHqgSLiUPo+T9Ikl/d5Lyd94ZuQ8OT7Sd73eZ8n8F3uwZjDkbLH3RcfZTAy\n",
       "gBkbhvtvCtc3CRBycU6QvUFY4lP1YxmwYr9w47yPx5CLy2G1AM1nK5YBe8EvPh+yWIwbhdV8jmIV\n",
       "sDeS8x3tRdZYLMYx2Kpn8rE9kgG7oGG/sNiFEqzmIy6SeKzT1qd9icFS3Ags47NLQmz/+dtn3hC2\n",
       "3sji+lfBuaxmpsFgKQ6xYmVreU3HMj4vAaWwolebnwyHsG4nC+89hPoAoBaeutqSRuM0DrGHcNdb\n",
       "1LGMzwNAKawd2ceWP4SdbGbz2JwBV22Dapv5WopD7GtYjx7rWMbnOqDwa+lSjVdSzkmqWufUQh7R\n",
       "N+0IuARTymViwGAxjrARfErXVs3Gu2lJlYvxmQUUpdSUV0gpskuGdQyzrTIswF8upRifHBYvTZMM\n",
       "lRCe4lPtwtoG+UmGid8clvF5RFLYavQC6pExpdwAPkA+pXIjTalbKltWR6dU4pOm1JPm57RiJ1g7\n",
       "l/iVwPqDpx6DtZMNZP1yB05HxzI+10gK+22lf6UzjLVy21xsdv9huWgxWCspF2JztXuPmWTGZ4c0\n",
       "TnGsoNnXsxdH9BFtUgH7Qy/h2/Bz6X9bgYhMPnwrSNc/a1i34cDc+NySxqf58I2Pac/L3Vb6/Fna\n",
       "fOzzPtbhmD819+kYcHEi9wMVlPjUfNIJspjxr5xu18sAAAAASUVORK5CYII=\n",
       "\" style=\"display:inline;vertical-align:middle;\" /></a></span>"
      ],
      "text/plain": [
       "{x in Real, y in Integer} |- ceil(x + (-y)) = (ceil(x) + (-y))"
      ]
     },
     "execution_count": 73,
     "metadata": {},
     "output_type": "execute_result"
    }
   ],
   "source": [
    "ceil_x_minus_y.rounding_extraction(1, assumptions=[InSet(x, Real), InSet(y, Integer)])"
   ]
  },
  {
   "cell_type": "code",
   "execution_count": 74,
   "metadata": {},
   "outputs": [
    {
     "data": {
      "text/html": [
       "<span style=\"font-size:20px;\"><a class=\"ProveItLink\" href=\"../__pv_it/axioms/02bd6ad73acd9f4d3192ee4c61bfdcabbff20f180/expr.ipynb\"><img src=\"data:image/png;base64,iVBORw0KGgoAAAANSUhEUgAAADQAAAAPBAMAAABZ6/G2AAAAMFBMVEX///8QEBBmZmaqqqrMzMxE\n",
       "REQyMjIiIiKYmJh2dna6urrc3NxUVFSIiIju7u4AAAA6P00QAAAAAXRSTlMAQObYZgAAAMRJREFU\n",
       "GNNjYMAAHIWh3xIjGLACNr4DLBFxWKVYuScwBOxBEWotL0+ASWmzIcu43kPSpc0KZLy9s+vmBSDN\n",
       "l4ds4IE1QJEJHLXsIHN4NiBJMRcBFXI+4PzHBRJlRXKGeHkyyBwG1gCwgGMaEECdMUsB4nb+C2Bq\n",
       "K7LjtVzBLH8HMMWILMX6Aqie+cF9Bt4HQAGmC0hSLAdUGBjWG8Qz7ACLFCMFFMNkHgeGN3ffajSA\n",
       "Rd5EPYAHrwNr2Gfk4FgZDgkoKAAAelg1omM6Y4wAAAAASUVORK5CYII=\n",
       "\" style=\"display:inline;vertical-align:middle;\" /></a>, <a class=\"ProveItLink\" href=\"../__pv_it/theorems/0886f5b6aacf5197ba709a53d4f3243edcc3de560/expr.ipynb\"><img src=\"data:image/png;base64,iVBORw0KGgoAAAANSUhEUgAAADMAAAASBAMAAAAEf/uKAAAAMFBMVEX///8iIiKYmJhUVFTMzMxE\n",
       "REQyMjKqqqq6urp2dnYQEBDc3NxmZmaIiIju7u4AAACH5sGpAAAAAXRSTlMAQObYZgAAAN1JREFU\n",
       "GNNjYMAAikvj05YqMGAFCY8ZXFUfYJUK2MnAym2AIqQqKJgAleLZkIAs43oPoYtnQwADA9+dCwy7\n",
       "QAbz5SEZyMwBNJCTYwHDfZAA8wYkqcJjQNXbeRIYQkECrAhn7BIUKwDSD7guMPwFCXilAQHUGT2s\n",
       "YLf3P2D5AqK3IjmepyUAxDjGwLsARHMh+ytOF8QIZmAFe4/nApKUM48DkHGYoR8SYOJIAcVZYAJk\n",
       "PL57HuLsxxEPYMGbwhCaXwCxDQI6AwVRgoc5ge8H9ghgYFRgvYBDiuPuERwyAAfzPe7bmvmqAAAA\n",
       "AElFTkSuQmCC\n",
       "\" style=\"display:inline;vertical-align:middle;\" /></a> <a class=\"ProveItLink\" href=\"../__pv_it/demonstrations/bf2cec9c9d3f30ba50562fc66a721ee248e5bcc80/proof.ipynb\" style=\"text-decoration: none\">&nbsp;&#x22A2;&nbsp;&nbsp;</a><a class=\"ProveItLink\" href=\"../__pv_it/demonstrations/8218a0206753b141d76b9647e8a5938ea7b767450/expr.ipynb\"><img src=\"data:image/png;base64,iVBORw0KGgoAAAANSUhEUgAAAQQAAAAVBAMAAABS242zAAAAMFBMVEX////MzMy6uroQEBCqqqqI\n",
       "iIgiIiJmZmaYmJh2dnbc3NxUVFQyMjJERETu7u4AAAAjuzXOAAAAAXRSTlMAQObYZgAAAn9JREFU\n",
       "SMeVlj9oU0EYwL8mbdP8e7g6tUszdEno7KqDg7wlPOhQA3aROqSjNGImEXHIUoIg9oHioA5v6dLp\n",
       "1UGw3uJWosIDoaXYllR0cWi8fwm5e993JAeXwL33/d7v/n13cM6+wNTlA/uMtnvfWUSEFBjrEI/e\n",
       "y+dt8mu38eYz5CNtKEQOby9GGmdDrXBOBxZDq+Hk0Vf+W0q/ySFOBYgx0r5WOJzc3YtgdwlVOJxS\n",
       "QZHOlMJC0xG4MxwyX/7lEsjWMAUBmUzhJoyR8r5UmA8dgT9NhWwDiv8wBQGZSkGRvJpUeOsKLC0Z\n",
       "CqUrKF5iCgIylYImfZQKgZiZ+v7yjjlXgQ+vE8g3DQXR3ytMIdAKJMhW0KSuVDji9RSe+A+MyHym\n",
       "Bnf5HMe2QrUzVMgzWaTkkVYgQYiCID2XChu8voLdZMWIfJOL4Qf/dMNW2EQ35YZWIEGIgiDdkgqr\n",
       "vCbyLZ5zZL8OREvWh78AM33V3U83mEp9uSaqsKoVSJBSeMnYPaYzsiQtjhRAvmWUajJzqRXGRyEA\n",
       "pwIJSo+CJC2OJgLkW0ZpwRzPABlrImab8M5aC9H4RJCglIIiVUbL8c5cH9bNyG9QjtLL8TrAGjYK\n",
       "w+VIglIKiqSWY5f39U+5bx9W21DlLbmOoVC4/2K7gSl0lQINshU06aFUqPC9u7cePLWgv+qPecYr\n",
       "XTNT02AwQBUqSoEGpVKTIh24E3SL12OwNyW+HJ0JugXophR5q+E4poqx93vsmPIStwJ9TGnQSOHC\n",
       "yFvqmIIeFjnfLvvERQM9rHuUggKl7wvDuw99ZcnUt/hvOZxUgbyyKBCh0BMp3X1xe0ZcptCLm9dx\n",
       "nZSY30II/wEZTPcCVcJYJwAAAABJRU5ErkJggg==\n",
       "\" style=\"display:inline;vertical-align:middle;\" /></a></span>"
      ],
      "text/plain": [
       "{x in Real, y in Real} |- ceil((x - y) + 2) = (ceil(x - y) + 2)"
      ]
     },
     "execution_count": 74,
     "metadata": {},
     "output_type": "execute_result"
    }
   ],
   "source": [
    "ceil_x_minus_y_plus_2.rounding_extraction(1, assumptions=[InSet(x, Real), InSet(y, Real)])"
   ]
  },
  {
   "cell_type": "markdown",
   "metadata": {},
   "source": [
    "### Floor.rounding_extraction()"
   ]
  },
  {
   "cell_type": "code",
   "execution_count": 75,
   "metadata": {},
   "outputs": [
    {
     "data": {
      "text/html": [
       "<a class=\"ProveItLink\" href=\"../__pv_it/theorems/dadf525416372b2ea30b4e345e723e674b8603040/expr.ipynb\"><img src=\"data:image/png;base64,iVBORw0KGgoAAAANSUhEUgAAAD0AAAAVBAMAAAAHs/uBAAAAMFBMVEX///9mZmaqqqrMzMxEREQy\n",
       "MjJ2dna6urqIiIgiIiIQEBBUVFTc3NyYmJju7u4AAABISk2iAAAAAXRSTlMAQObYZgAAAL5JREFU\n",
       "KM9jeMuADzQwnMYrH0BteQ1ayL/oPt7WgCLP19jAcOoBVJ4vgXcGZwCKPBv7AoZ+mH62B2z/2A+g\n",
       "yB9iDGBwgcnzMbA4gEVTQ0NnhYZGA1kPuBoYfiDcx9+A7r76B8yfEfL2BujyogwcC2DyTA/6GTge\n",
       "oMp7M7BsgMnXK/gznEXTL81QfwEm/7rjhewFNPnXHfIH8IefKNbwfQehuAP4vuOLX84LLA345Nk7\n",
       "hKHx82rmbFyJgydypgMAU3tCP2kV/A0AAAAASUVORK5CYII=\n",
       "\" style=\"display:inline;vertical-align:middle;\" /></a>"
      ],
      "text/plain": [
       "floor(x + y)"
      ]
     },
     "execution_count": 75,
     "metadata": {},
     "output_type": "execute_result"
    }
   ],
   "source": [
    "floor_x_plus_y"
   ]
  },
  {
   "cell_type": "code",
   "execution_count": 76,
   "metadata": {},
   "outputs": [
    {
     "data": {
      "text/html": [
       "<a class=\"ProveItLink\" href=\"../__pv_it/demonstrations/5603b58563000caaccf3d5ef0370d7e4887124600/expr.ipynb\"><img src=\"data:image/png;base64,iVBORw0KGgoAAAANSUhEUgAAAHAAAAAVBAMAAABs93eRAAAAMFBMVEX////MzMx2dna6urqqqqqI\n",
       "iIhmZmYyMjJEREQiIiIQEBBUVFTc3NyYmJju7u4AAACf0+qcAAAAAXRSTlMAQObYZgAAAVNJREFU\n",
       "OMtjeMtAFmBlOA2ieC7gVOGDXZgdovEFbqO5D+DTWINbI18BuojXA7hG3gQUGVcUniqUZgmAGLRp\n",
       "P0Ij5wE8Gl+hamRguI/QeJIBj0Z2A9waw0BOCN1jqoqikS8sgOHUAwamBNwae4H4EcPNgOkoGpmY\n",
       "FzDEAwOgALfGKUCsx6D/wAZF4xG2AoYOoIYJuDUuBuIHIEVAoF5ePqu8vBokwhXA8JWBgfEDyPby\n",
       "8srl5eUbsGhkAClCDRz7B4wfoRrxOJUBpAhVYzoD6wIGBuYJ+APHj/UDQxyqxm4Gjg34A0cNaO4X\n",
       "jg+wpA7TmM1gDxRhU0DTGI/QaAmMtK1xYXfRnPo6NB+YpNgFUDVmry+7QDDJpQPxS/Qkh5Q70BL5\n",
       "O2iGKuD7jJTI+R5gyVY92DIU5wWOAGzZimBGZg5NBJIcuDLyq5mz8RYdd7AJHp85AwDScHUHP4pp\n",
       "RQAAAABJRU5ErkJggg==\n",
       "\" style=\"display:inline;vertical-align:middle;\" /></a>"
      ],
      "text/plain": [
       "floor((x + y) + 1)"
      ]
     },
     "execution_count": 76,
     "metadata": {},
     "output_type": "execute_result"
    }
   ],
   "source": [
    "floor_x_plus_y_plus_1"
   ]
  },
  {
   "cell_type": "code",
   "execution_count": 77,
   "metadata": {},
   "outputs": [
    {
     "data": {
      "text/html": [
       "<span style=\"font-size:20px;\"><a class=\"ProveItLink\" href=\"../__pv_it/axioms/02bd6ad73acd9f4d3192ee4c61bfdcabbff20f180/expr.ipynb\"><img src=\"data:image/png;base64,iVBORw0KGgoAAAANSUhEUgAAADQAAAAPBAMAAABZ6/G2AAAAMFBMVEX///8QEBBmZmaqqqrMzMxE\n",
       "REQyMjIiIiKYmJh2dna6urrc3NxUVFSIiIju7u4AAAA6P00QAAAAAXRSTlMAQObYZgAAAMRJREFU\n",
       "GNNjYMAAHIWh3xIjGLACNr4DLBFxWKVYuScwBOxBEWotL0+ASWmzIcu43kPSpc0KZLy9s+vmBSDN\n",
       "l4ds4IE1QJEJHLXsIHN4NiBJMRcBFXI+4PzHBRJlRXKGeHkyyBwG1gCwgGMaEECdMUsB4nb+C2Bq\n",
       "K7LjtVzBLH8HMMWILMX6Aqie+cF9Bt4HQAGmC0hSLAdUGBjWG8Qz7ACLFCMFFMNkHgeGN3ffajSA\n",
       "Rd5EPYAHrwNr2Gfk4FgZDgkoKAAAelg1omM6Y4wAAAAASUVORK5CYII=\n",
       "\" style=\"display:inline;vertical-align:middle;\" /></a>, <a class=\"ProveItLink\" href=\"../__pv_it/demonstrations/0e211c1b90a45e17b96e3a76d1d45f0a3426ba3f0/expr.ipynb\"><img src=\"data:image/png;base64,iVBORw0KGgoAAAANSUhEUgAAADIAAAASBAMAAADrvZC0AAAAMFBMVEX///8iIiKYmJhUVFTMzMxE\n",
       "REQyMjKqqqq6urp2dnYQEBDc3NxmZmaIiIju7u4AAACH5sGpAAAAAXRSTlMAQObYZgAAAOhJREFU\n",
       "GNNjYMAAHFK/0hZmKWBKMPDGODAksGKRYOCZwMBZMANZhClQUAws84BhM8sBJAmW2AdwdhwrkM13\n",
       "5wLDLpDYM4QE0wUlIMnJsYDhPohrjdD+lC8ASG7nSWAIBXEDEDImzBuA5AOuCwx/QdYsSwMCiIcO\n",
       "dILp/gcsX4AUN0IPG0j/PAaGYwy8C0D8BXCZ6ZwNYG4wA6sBiH8WJsFtsBnoKaDMYYZ+cBgxFkBl\n",
       "WB/EMfAZAQ18fPc8yCUMfKZ9EJmusKWh65eCA+EYNIynQkIHBpgT+H4wYAWMCqwXsMtw3D2CXQIA\n",
       "CSg4nSezvQQAAAAASUVORK5CYII=\n",
       "\" style=\"display:inline;vertical-align:middle;\" /></a> <a class=\"ProveItLink\" href=\"../__pv_it/demonstrations/8e0e5b2a84e86bcb0cad8f0af30123380b1bc9370/proof.ipynb\" style=\"text-decoration: none\">&nbsp;&#x22A2;&nbsp;&nbsp;</a><a class=\"ProveItLink\" href=\"../__pv_it/demonstrations/5f835ceb83242532af02ab797f057643d51c48230/expr.ipynb\"><img src=\"data:image/png;base64,iVBORw0KGgoAAAANSUhEUgAAAKwAAAAVBAMAAAAp2hhWAAAAMFBMVEX///9mZmaqqqrMzMxEREQy\n",
       "MjJ2dna6urqIiIgiIiIQEBBUVFTc3NyYmJju7u4AAABISk2iAAAAAXRSTlMAQObYZgAAAetJREFU\n",
       "OMud1T1Lw0AYB/C/NSZV4ylIRRCxoy7iN9DBQVCwIEGKSx0EJ3VUEZouUhTURbC+QBdBF8kiODgE\n",
       "F0ER4uDgIGRRiuILOuig4l2aiuld08Zb7giX312e5+4JHuHXdNFDYpWZQNu5LxvjnlwAquE3AQiZ\n",
       "gVnSV57FcWC2xqyAveXYzjLsJYRsyBNjWQ/KblfCkmxAVl2rhMWow+aWTxd1D0tSOs5sng03uSxJ\n",
       "H89O8myuFeoBMM5YkmjYqI15WFnJYrXwlqw5jYmS5bJ3uNbXeTYxj/ALcMVY2Za/FdPDnlTF0C8I\n",
       "Qm3UZacwbS9wrBqNQKJHsMvZrTOkbULTNjVtjI7sOh0fArZuxmVtZ9X8BPo18V1NY6HBHhrpCr35\n",
       "lDXqxSlL2tVvfiycVbkgKN/o7fll2dDLRhDOFsXW+BsEOKtyLI3dEu3mGBuyVxG2vewgJEOw29+U\n",
       "ddPMrPAsfWkQbsqS0WFWQTxsG5KWgJXdA6a8Si+qJditoXzRroWxD+lcu1XEPqQ7TAGruNeBHK2k\n",
       "bgRBIEepT9qNlL5lkf9dXhpdkLVi9inf1cfIe5BSQ9zUHOJ5RlRqCsfeknQhK/kXxh0MCAtjIYbp\n",
       "5n+V8dkUO6pDwH1mq1QNV+OZPtFPh+xnjNITgAYTP2vSobDeebj8AAAAAElFTkSuQmCC\n",
       "\" style=\"display:inline;vertical-align:middle;\" /></a></span>"
      ],
      "text/plain": [
       "{x in Real, y in Integer} |- floor(x + y) = (floor(x) + y)"
      ]
     },
     "execution_count": 77,
     "metadata": {},
     "output_type": "execute_result"
    }
   ],
   "source": [
    "floor_x_plus_y.rounding_extraction(1, assumptions=[InSet(x, Real), InSet(y, Integer)])"
   ]
  },
  {
   "cell_type": "code",
   "execution_count": 78,
   "metadata": {},
   "outputs": [
    {
     "data": {
      "text/html": [
       "<span style=\"font-size:20px;\"><a class=\"ProveItLink\" href=\"../__pv_it/axioms/02bd6ad73acd9f4d3192ee4c61bfdcabbff20f180/expr.ipynb\"><img src=\"data:image/png;base64,iVBORw0KGgoAAAANSUhEUgAAADQAAAAPBAMAAABZ6/G2AAAAMFBMVEX///8QEBBmZmaqqqrMzMxE\n",
       "REQyMjIiIiKYmJh2dna6urrc3NxUVFSIiIju7u4AAAA6P00QAAAAAXRSTlMAQObYZgAAAMRJREFU\n",
       "GNNjYMAAHIWh3xIjGLACNr4DLBFxWKVYuScwBOxBEWotL0+ASWmzIcu43kPSpc0KZLy9s+vmBSDN\n",
       "l4ds4IE1QJEJHLXsIHN4NiBJMRcBFXI+4PzHBRJlRXKGeHkyyBwG1gCwgGMaEECdMUsB4nb+C2Bq\n",
       "K7LjtVzBLH8HMMWILMX6Aqie+cF9Bt4HQAGmC0hSLAdUGBjWG8Qz7ACLFCMFFMNkHgeGN3ffajSA\n",
       "Rd5EPYAHrwNr2Gfk4FgZDgkoKAAAelg1omM6Y4wAAAAASUVORK5CYII=\n",
       "\" style=\"display:inline;vertical-align:middle;\" /></a>, <a class=\"ProveItLink\" href=\"../__pv_it/theorems/0886f5b6aacf5197ba709a53d4f3243edcc3de560/expr.ipynb\"><img src=\"data:image/png;base64,iVBORw0KGgoAAAANSUhEUgAAADMAAAASBAMAAAAEf/uKAAAAMFBMVEX///8iIiKYmJhUVFTMzMxE\n",
       "REQyMjKqqqq6urp2dnYQEBDc3NxmZmaIiIju7u4AAACH5sGpAAAAAXRSTlMAQObYZgAAAN1JREFU\n",
       "GNNjYMAAikvj05YqMGAFCY8ZXFUfYJUK2MnAym2AIqQqKJgAleLZkIAs43oPoYtnQwADA9+dCwy7\n",
       "QAbz5SEZyMwBNJCTYwHDfZAA8wYkqcJjQNXbeRIYQkECrAhn7BIUKwDSD7guMPwFCXilAQHUGT2s\n",
       "YLf3P2D5AqK3IjmepyUAxDjGwLsARHMh+ytOF8QIZmAFe4/nApKUM48DkHGYoR8SYOJIAcVZYAJk\n",
       "PL57HuLsxxEPYMGbwhCaXwCxDQI6AwVRgoc5ge8H9ghgYFRgvYBDiuPuERwyAAfzPe7bmvmqAAAA\n",
       "AElFTkSuQmCC\n",
       "\" style=\"display:inline;vertical-align:middle;\" /></a> <a class=\"ProveItLink\" href=\"../__pv_it/demonstrations/e7afdadc163476546d4c28f33ab6ed28d688de510/proof.ipynb\" style=\"text-decoration: none\">&nbsp;&#x22A2;&nbsp;&nbsp;</a><a class=\"ProveItLink\" href=\"../__pv_it/demonstrations/5233cc1606a7155d193ae0a3e5b84d8b834596490/expr.ipynb\"><img src=\"data:image/png;base64,iVBORw0KGgoAAAANSUhEUgAAAQQAAAAVBAMAAABS242zAAAAMFBMVEX////MzMx2dna6urqqqqqI\n",
       "iIhmZmYyMjJEREQiIiIQEBBUVFTc3NyYmJju7u4AAACf0+qcAAAAAXRSTlMAQObYZgAAAkNJREFU\n",
       "SMellj1LA0EQhsfEmKjJ4T/QxtipjUVAsLJQRK5JSr+aFBZGBA/RwlJQIUVAo00ghVgZBDvBFIKo\n",
       "TToRFA8bv1Aiau/e7ubMJjPrRRf2IJOZN8/NbmYGXuFPK4BajZIuxiTsl84jTIeO4eZgvYmJhAs6\n",
       "hBRiay5KhEc6rr3oFYGJNI4AxxJhhY4z6gJHbRxhpWEER+lBIESmlG+GlU/dlZSJozQOT3AER6QG\n",
       "YRhHkGah5DM5QmtRE/msIgDc4QiOSEMIQsnIcYRz0EQG+70hOCJ/QIAFjpBw0hI/HuhWE5Uw4cIG\n",
       "35Q3hIREIIUIhChH2GT7Hq7NLcXF58/BJDvjFI3gs/jikJsSgRQiEK44QobtXuizBxWX05YUrLGf\n",
       "TnvLQkYikEIEwghHyLNtcy+AHsvasaxlx9JmwhdAU1m87tKeZRU0CHmJQAoJhB+zVOp0EYB7KZRD\n",
       "dtO7RPCQhbx7HQkhIgud7kEA91JckhDIAfjTv96FQvVBkEIEQsy9juOBMkyoLusQKuivY/WqXEdS\n",
       "SHsdo+xdP0PlSrOquMzCELO0dNUgTOIIUYFAC9UjcKUZjhBj/92jicRtjctLfI5VvGCHijB7sFjC\n",
       "EGICgRaqQxBK8/oCnWT7qbZAE51SW6CTaHXkdSuNtak32aZTxkdVmzJsPQLSplQhF+Gt2ke2KdjA\n",
       "emtrKWRizZqaFzaoZi2EiHnhQTey+OPT7Bn6/8gihAgEBv6c3dUObjeY8Sy7jQ5uxn6WGlrCS9lV\n",
       "xBwpwjd7s/WhOz1l3wAAAABJRU5ErkJggg==\n",
       "\" style=\"display:inline;vertical-align:middle;\" /></a></span>"
      ],
      "text/plain": [
       "{x in Real, y in Real} |- floor((x + y) + 1) = (floor(x + y) + 1)"
      ]
     },
     "execution_count": 78,
     "metadata": {},
     "output_type": "execute_result"
    }
   ],
   "source": [
    "floor_x_plus_y_plus_1.rounding_extraction(1, assumptions=[InSet(x, Real), InSet(y, Real)])"
   ]
  },
  {
   "cell_type": "markdown",
   "metadata": {},
   "source": [
    "### Round.rounding_extraction()"
   ]
  },
  {
   "cell_type": "code",
   "execution_count": 79,
   "metadata": {},
   "outputs": [
    {
     "data": {
      "text/html": [
       "<span style=\"font-size:20px;\"><a class=\"ProveItLink\" href=\"../__pv_it/axioms/02bd6ad73acd9f4d3192ee4c61bfdcabbff20f180/expr.ipynb\"><img src=\"data:image/png;base64,iVBORw0KGgoAAAANSUhEUgAAADQAAAAPBAMAAABZ6/G2AAAAMFBMVEX///8QEBBmZmaqqqrMzMxE\n",
       "REQyMjIiIiKYmJh2dna6urrc3NxUVFSIiIju7u4AAAA6P00QAAAAAXRSTlMAQObYZgAAAMRJREFU\n",
       "GNNjYMAAHIWh3xIjGLACNr4DLBFxWKVYuScwBOxBEWotL0+ASWmzIcu43kPSpc0KZLy9s+vmBSDN\n",
       "l4ds4IE1QJEJHLXsIHN4NiBJMRcBFXI+4PzHBRJlRXKGeHkyyBwG1gCwgGMaEECdMUsB4nb+C2Bq\n",
       "K7LjtVzBLH8HMMWILMX6Aqie+cF9Bt4HQAGmC0hSLAdUGBjWG8Qz7ACLFCMFFMNkHgeGN3ffajSA\n",
       "Rd5EPYAHrwNr2Gfk4FgZDgkoKAAAelg1omM6Y4wAAAAASUVORK5CYII=\n",
       "\" style=\"display:inline;vertical-align:middle;\" /></a>, <a class=\"ProveItLink\" href=\"../__pv_it/theorems/0886f5b6aacf5197ba709a53d4f3243edcc3de560/expr.ipynb\"><img src=\"data:image/png;base64,iVBORw0KGgoAAAANSUhEUgAAADMAAAASBAMAAAAEf/uKAAAAMFBMVEX///8iIiKYmJhUVFTMzMxE\n",
       "REQyMjKqqqq6urp2dnYQEBDc3NxmZmaIiIju7u4AAACH5sGpAAAAAXRSTlMAQObYZgAAAN1JREFU\n",
       "GNNjYMAAikvj05YqMGAFCY8ZXFUfYJUK2MnAym2AIqQqKJgAleLZkIAs43oPoYtnQwADA9+dCwy7\n",
       "QAbz5SEZyMwBNJCTYwHDfZAA8wYkqcJjQNXbeRIYQkECrAhn7BIUKwDSD7guMPwFCXilAQHUGT2s\n",
       "YLf3P2D5AqK3IjmepyUAxDjGwLsARHMh+ytOF8QIZmAFe4/nApKUM48DkHGYoR8SYOJIAcVZYAJk\n",
       "PL57HuLsxxEPYMGbwhCaXwCxDQI6AwVRgoc5ge8H9ghgYFRgvYBDiuPuERwyAAfzPe7bmvmqAAAA\n",
       "AElFTkSuQmCC\n",
       "\" style=\"display:inline;vertical-align:middle;\" /></a> <a class=\"ProveItLink\" href=\"../__pv_it/demonstrations/3db33036d9b40551a3226981acecf20855cd3be80/proof.ipynb\" style=\"text-decoration: none\">&nbsp;&#x22A2;&nbsp;&nbsp;</a><a class=\"ProveItLink\" href=\"../__pv_it/demonstrations/bf0d0e772481e58f141c551bbc14b9e4d24501ac0/expr.ipynb\"><img src=\"data:image/png;base64,iVBORw0KGgoAAAANSUhEUgAAAacAAAAUBAMAAADb6O/EAAAAMFBMVEX///+YmJjc3NxmZmYiIiLM\n",
       "zMwQEBCqqqoyMjJERER2dnbu7u5UVFSIiIi6uroAAAA5J+EfAAAAAXRSTlMAQObYZgAAA+RJREFU\n",
       "WMO1V11oFFcU/jK72c3MZMf4B0IfnEhoXwrZEoQYI0Yf2hICnbdCX7IFkVJpWWLfSuliFPdBNEYU\n",
       "BYUBfSipiwOG0J+0uw0igRKydNEHdWsQzVtIXBoirsl67uwO7ty9+zPZ9MCwe797znznm3vvufcC\n",
       "Na0TTVhQr8Skjq0jHPGAlqz1Shjq2GYF3T1wGZipxH/dGkK155qBdl3UJUYd2xZFm97ooJzgSFO4\n",
       "s4BfKh1PbQ3hNJQNqDFRGpVouS1b2OkOSVe8pIRM3867EZ+FQARKRUBLuDlC/FD8OQgcBxLCNBK1\n",
       "RN0CjjYoCi2cqMAA2nNQI3yAX2+O0BF1DJjXMSVMY6qWqFFIA5sV1ZZH+ypwng/oapLQEXXBwryB\n",
       "tgVRGoRqT/7MEpbILKiZNKYs7fa+7CGqUn0P1hCiyaJmZ5YSrljm975VWxQbFIJu8jll6Fn6eynr\n",
       "iRB/HIJ0wiWK7DMLSlgkilBFPitH0LWg5nxaBE+pfQNJHYu6nIdM9fc37Ep/6opVbL+6opZNYI/9\n",
       "76c4s1H29yI95tXoFU+EMBcRWuFEaa+JNSZKg9DP/SnNwCAw2OmL4Rq1Y+g21C9BLX8U+Bl3rGeu\n",
       "2A9sv7qihuj5jh+pT6hyR4fwwhOhFO2FPMaJ8qeof0CUBqFWkiamjxpvrEAa39jtvQzwmwhQl1US\n",
       "oMTjp7+Kx+lVzG/dhTiiyhEfmxrDvKhvaXqpGx4JVfLali4O+cfx+Dm7u4ftbCuiNBj6IytWY5DW\n",
       "qaS2rtrtWQYQV8BeiOv8ui361RkptnqEohBc8Uqo5TFsuEeKrb6iqIo0GNpLv0kTSo5Kaihit1+q\n",
       "BBAXmw1wBLyL7bX9aosKhrEPeF62ps6Vph+bZh4JKeKhu/rhJCQdmnD6MfRrtpd3IGDiOs3c96gd\n",
       "zCvJKGaDOlu339MSfeyOJb9UPVFfAP84haLMWKEgJo+ERHfdLarVREivXigk9l18KVwC+rEYNqUN\n",
       "KLHdcrplSGHFUVuTV5xDqBPbj2UOQYgTJQ1O9NMH6+NFsRrfbXgl9KW0l25RXRM37xFuitIgtDiE\n",
       "E49oNk9nR+YMakt/RdW5Bx/+y/rUuceZ7fxpJHtY51jvv/rIvfkWCgV68Rle1PPS441QncvkuM23\n",
       "UPiPWAxRGg5azaqdWnrrnzHsZAY8HZNqEPpi4DdfsklhGpN1DsPu86VaPEa0x1hRLkcqfYrm8UBb\n",
       "jZCKY7J0IMLv5f0JYRqJOqJk0Yf1d8jpxi4IgqvH+CYIcQQ3hJeqWONouYPozqZl9zd4yxr3dEms\n",
       "SoiljNH4F5DrXsmaus63/M/X+R3V0LfgaLvbbJ0tRwAAAABJRU5ErkJggg==\n",
       "\" style=\"display:inline;vertical-align:middle;\" /></a></span>"
      ],
      "text/plain": [
       "{x in Real, y in Real} |- round(x + y + 1 + 2) = (round(x + y + 2) + 1)"
      ]
     },
     "execution_count": 79,
     "metadata": {},
     "output_type": "execute_result"
    }
   ],
   "source": [
    "round_add_xy12.rounding_extraction(2, assumptions=[InSet(x, Real), InSet(y, Real)])"
   ]
  },
  {
   "cell_type": "code",
   "execution_count": 80,
   "metadata": {},
   "outputs": [
    {
     "name": "stdout",
     "output_type": "stream",
     "text": [
      "round((x * y) + (1 * 2))\n"
     ]
    },
    {
     "data": {
      "text/html": [
       "<span style=\"font-size:20px;\"><a class=\"ProveItLink\" href=\"../__pv_it/axioms/02bd6ad73acd9f4d3192ee4c61bfdcabbff20f180/expr.ipynb\"><img src=\"data:image/png;base64,iVBORw0KGgoAAAANSUhEUgAAADQAAAAPBAMAAABZ6/G2AAAAMFBMVEX///8QEBBmZmaqqqrMzMxE\n",
       "REQyMjIiIiKYmJh2dna6urrc3NxUVFSIiIju7u4AAAA6P00QAAAAAXRSTlMAQObYZgAAAMRJREFU\n",
       "GNNjYMAAHIWh3xIjGLACNr4DLBFxWKVYuScwBOxBEWotL0+ASWmzIcu43kPSpc0KZLy9s+vmBSDN\n",
       "l4ds4IE1QJEJHLXsIHN4NiBJMRcBFXI+4PzHBRJlRXKGeHkyyBwG1gCwgGMaEECdMUsB4nb+C2Bq\n",
       "K7LjtVzBLH8HMMWILMX6Aqie+cF9Bt4HQAGmC0hSLAdUGBjWG8Qz7ACLFCMFFMNkHgeGN3ffajSA\n",
       "Rd5EPYAHrwNr2Gfk4FgZDgkoKAAAelg1omM6Y4wAAAAASUVORK5CYII=\n",
       "\" style=\"display:inline;vertical-align:middle;\" /></a>, <a class=\"ProveItLink\" href=\"../__pv_it/theorems/0886f5b6aacf5197ba709a53d4f3243edcc3de560/expr.ipynb\"><img src=\"data:image/png;base64,iVBORw0KGgoAAAANSUhEUgAAADMAAAASBAMAAAAEf/uKAAAAMFBMVEX///8iIiKYmJhUVFTMzMxE\n",
       "REQyMjKqqqq6urp2dnYQEBDc3NxmZmaIiIju7u4AAACH5sGpAAAAAXRSTlMAQObYZgAAAN1JREFU\n",
       "GNNjYMAAikvj05YqMGAFCY8ZXFUfYJUK2MnAym2AIqQqKJgAleLZkIAs43oPoYtnQwADA9+dCwy7\n",
       "QAbz5SEZyMwBNJCTYwHDfZAA8wYkqcJjQNXbeRIYQkECrAhn7BIUKwDSD7guMPwFCXilAQHUGT2s\n",
       "YLf3P2D5AqK3IjmepyUAxDjGwLsARHMh+ytOF8QIZmAFe4/nApKUM48DkHGYoR8SYOJIAcVZYAJk\n",
       "PL57HuLsxxEPYMGbwhCaXwCxDQI6AwVRgoc5ge8H9ghgYFRgvYBDiuPuERwyAAfzPe7bmvmqAAAA\n",
       "AElFTkSuQmCC\n",
       "\" style=\"display:inline;vertical-align:middle;\" /></a> <a class=\"ProveItLink\" href=\"../__pv_it/demonstrations/1da0209932ed7bd754251a62dcabcb417fa985980/proof.ipynb\" style=\"text-decoration: none\">&nbsp;&#x22A2;&nbsp;&nbsp;</a><a class=\"ProveItLink\" href=\"../__pv_it/demonstrations/efc257cca42d414b89da209494dc4912a8e17fe40/expr.ipynb\"><img src=\"data:image/png;base64,iVBORw0KGgoAAAANSUhEUgAAAa8AAAAUBAMAAADIP68wAAAAMFBMVEX///+YmJjc3NxmZmYiIiLM\n",
       "zMwQEBCqqqoyMjJERER2dnbu7u5UVFSIiIi6uroAAAA5J+EfAAAAAXRSTlMAQObYZgAABINJREFU\n",
       "WMOlmF9oW1Ucx7/5n3tvkxarKPjg3dxjXbO3OTqNe5mUKsEX0ZdG96KWjUvxvcEp5kFGnTgsWHZR\n",
       "H8Zc3QVH2bC1sQ9SGIWLoRPG4vKgfRBKa6B0LLr6+53k5t7knmRJ+oOT5Jzzze+T8+93fydARztU\n",
       "Lz6blmtbLKbLpXKfrgWH0MZZ/8iGRS6loM1CFL8N+Cituh9f/BJYlUrb+KzZW2eAW9Ke1YMgPTZo\n",
       "IE6CuFSk5VpbWBebcgUFXC/jplTaxmfd9oCPpB03D4L02LaFYXoblvcuOEtv1z+QbulatdEfshDN\n",
       "QrU9UteGO2CTVQRS0h7VPgDSY98Bp1ArEltsHRjrAi4lmsZABVrWI3XtVAesmkZYvqDCWb9Ij51H\n",
       "MA1RZBYvN1OEzkOJVzGwC1zwSN3YkO6AjadwpE3XhV6QyXs/l0i4UCxrRRuLVvLa4dJJ+tKJjT0k\n",
       "aEtwwfK9o3edacLySQSnoKaaKULnoZCFqfYtr0HrzmLt1u2tEnWVXmJ/2hT+Xn2B+Hh+YdJAUY4U\n",
       "zrpGqsqnShZHylollMziPtXnsaJjU1eqUCjqctHMwGvhxnk0N5HYQSDXTGFdC2XbBJ7hViG9kmc7\n",
       "72jNr4xLCL5OrJTwZ87ZWgXJd3HZwudypHDWNfLNcCGZwTgwfiiUwxzVcxjNaO+AamEDoqiWWk3y\n",
       "vrd4AxjHocwilm6msM6hWLWmCSofsqR155E2YkzgL4RNhL8ZYn8R41UEd7E4hOPAaTlSOOsaaa3Q\n",
       "CQhR779W1MZZUX+OGwgapS4umnBL7w/4hUSDNiI7vOL5/Mfv5fMF1HR1ipCRU94pk/xE3GkZGGk1\n",
       "7RF9eNnC4G3yF7W5HtjhBprjc3KkcNY9coYlswj+R/E9sivqa9xAA3QGBuG2PiEcjyczjV/rTJ+H\n",
       "UpOJk9J2YIhx4/vAqF3zR/WBHDXwgM/JkcJZ90haeqyYUCsU3xNZUf9Ho4YZNLYihNvG4yKHO8Tq\n",
       "sBVrHSkcBv6EI62dsc8cLXmB9hC4rlN8vyPqg0M/PRQDPi1HCmfdIz/g2RlC1MTXtPzPUj1WVVcM\n",
       "rMV0J3jErPtIWM7XlQIpHx883gZ+8wYPj7GWeDSDjCd/cwGL6jPW93u0bNMcPGTIxwaPJiSdWJqR\n",
       "Ar4AxrCZMoOPoOaeUuzAhCriNJdt47In3wwVkvSDQmYzRcT0hEsJjl8do2k7AVfqPoNJO8oLMgYl\n",
       "xf7OqBgt40ogM48nCyYHbBlSOOsaWdsnV+/Sfl0qTa9nqB78xdDWN0b+EH1clkrLx9x8W1svVugR\n",
       "mGmmsC7064Njjafl/v4+NX0CV+pmTen6tlIXfmB/v49scH3kaSK9sV7mzzKkcNYnUpL6SNIfPh83\n",
       "ZCmVPwviabvRU0rFh0eXIrX0AZD+ZNWXsK5xwGykmZrVKbHtIwnmE5KSIp0kuC9kyynXa6XJXsG8\n",
       "7GKg6G1uGpI7hKJ35l6UIf3Xll6Q/puc71K4VczIfEovjxfl+E4XTbZbMqRvuD0hu/1r4ImurvsB\n",
       "XS7t66+BgN4L8n+nC7l2TJ12EwAAAABJRU5ErkJggg==\n",
       "\" style=\"display:inline;vertical-align:middle;\" /></a></span>"
      ],
      "text/plain": [
       "{x in Real, y in Real} |- round((x * y) + (1 * 2)) = (round(x * y) + (1 * 2))"
      ]
     },
     "execution_count": 80,
     "metadata": {},
     "output_type": "execute_result"
    }
   ],
   "source": [
    "print(round_add_mult_mult)\n",
    "round_add_mult_mult.rounding_extraction(1, assumptions=[InSet(x, Real), InSet(y, Real)])"
   ]
  },
  {
   "cell_type": "code",
   "execution_count": 81,
   "metadata": {},
   "outputs": [
    {
     "data": {
      "text/html": [
       "<strong id=\"round_02\">round_02:</strong> <a class=\"ProveItLink\" href=\"../__pv_it/demonstrations/7f50876f24f1fe32ac66609d04b8421be28877020/expr.ipynb\"><img src=\"data:image/png;base64,iVBORw0KGgoAAAANSUhEUgAAAL0AAAAUBAMAAAAq6iElAAAAMFBMVEX///+YmJjc3NxmZmYiIiLM\n",
       "zMwQEBCqqqoyMjJERER2dnbu7u5UVFSIiIi6uroAAAA5J+EfAAAAAXRSTlMAQObYZgAAAltJREFU\n",
       "OMulVU1oE0EU/jqbv90x2/h38uBWehSM9FLUQvUkRXBvHo0gIhYh1KMHFxTMzUChULCwoKfa4B6k\n",
       "B4lmFZFcQheWerBGg4fcim1QKsa2vtkqdLd1J7TvMrxv3vvezHtv3gCxMoD9yETcZnIqD17eKzUf\n",
       "mjZxwIgz6S8iY/RIlx6PAFVoG+BWnM83B4fDJN4O2r9Ida4bQc4CN4BKHP9T4EKP/OiL8l8HFgzM\n",
       "x/HfBxvdM/8jBwsmMi3on143Cav4Le57mHf0uRPNEYCdWVxDNk+Far5droR9X42AjUv4SS470PLQ\n",
       "1IdqAYMt3lH0Ar6QPoOagbahdqHmgJc44l0M+9ptZFek/Povgi1cSbi6iTFgbECxME26hVMmvwbS\n",
       "EkXgGZ47X0O+rDgMtSzlT7ikjcKptQCFtn87KQ+3A/24ABI2UrTlUEwhWqn04GapRE6crPq97cg/\n",
       "/u0IhsQbomveozVVBlunhkz+CPS6ACiO4AfWo9XUu7hqys4vahfwD9Nas6F1qCGzhUBf5QRQHJEf\n",
       "iJhhX8rcB1n/4A6YAZ0a8JZ4qjmkbDymtB4jPd3VakXU04ao710q5VLYV3XJVMKftJE1RH2ZOJ7i\n",
       "YhI4h3beZhvQrKOq13dJE+2lr6krLBc5v6uvRrMR5R+cffKOLO3gCsDsR0p1tTnRMElnb4q8sXjy\n",
       "s9jjjSX/YMSXN/xOJOL7n6cj72tz8zuQMePH1v/mg2JJX3QgLyRjMTzfuLO11kVvhZCdNltSkfCr\n",
       "u87n85jp8ROwZAa7/i/Lvtkbvyr9Pvb3Px4C/gBzNtMXxcKgEQAAAABJRU5ErkJggg==\n",
       "\" style=\"display:inline;vertical-align:middle;\" /></a><br>"
      ],
      "text/plain": [
       "round_02: round(x + y + 1 + 2)"
      ]
     },
     "execution_count": 81,
     "metadata": {},
     "output_type": "execute_result"
    }
   ],
   "source": [
    "round_02 = Round(Add(x, y, one, two))"
   ]
  },
  {
   "cell_type": "code",
   "execution_count": 82,
   "metadata": {},
   "outputs": [
    {
     "name": "stdout",
     "output_type": "stream",
     "text": [
      "round((x + y) + (1 + 2))\n"
     ]
    },
    {
     "data": {
      "text/html": [
       "<span style=\"font-size:20px;\"><a class=\"ProveItLink\" href=\"../__pv_it/axioms/02bd6ad73acd9f4d3192ee4c61bfdcabbff20f180/expr.ipynb\"><img src=\"data:image/png;base64,iVBORw0KGgoAAAANSUhEUgAAADQAAAAPBAMAAABZ6/G2AAAAMFBMVEX///8QEBBmZmaqqqrMzMxE\n",
       "REQyMjIiIiKYmJh2dna6urrc3NxUVFSIiIju7u4AAAA6P00QAAAAAXRSTlMAQObYZgAAAMRJREFU\n",
       "GNNjYMAAHIWh3xIjGLACNr4DLBFxWKVYuScwBOxBEWotL0+ASWmzIcu43kPSpc0KZLy9s+vmBSDN\n",
       "l4ds4IE1QJEJHLXsIHN4NiBJMRcBFXI+4PzHBRJlRXKGeHkyyBwG1gCwgGMaEECdMUsB4nb+C2Bq\n",
       "K7LjtVzBLH8HMMWILMX6Aqie+cF9Bt4HQAGmC0hSLAdUGBjWG8Qz7ACLFCMFFMNkHgeGN3ffajSA\n",
       "Rd5EPYAHrwNr2Gfk4FgZDgkoKAAAelg1omM6Y4wAAAAASUVORK5CYII=\n",
       "\" style=\"display:inline;vertical-align:middle;\" /></a>, <a class=\"ProveItLink\" href=\"../__pv_it/theorems/0886f5b6aacf5197ba709a53d4f3243edcc3de560/expr.ipynb\"><img src=\"data:image/png;base64,iVBORw0KGgoAAAANSUhEUgAAADMAAAASBAMAAAAEf/uKAAAAMFBMVEX///8iIiKYmJhUVFTMzMxE\n",
       "REQyMjKqqqq6urp2dnYQEBDc3NxmZmaIiIju7u4AAACH5sGpAAAAAXRSTlMAQObYZgAAAN1JREFU\n",
       "GNNjYMAAikvj05YqMGAFCY8ZXFUfYJUK2MnAym2AIqQqKJgAleLZkIAs43oPoYtnQwADA9+dCwy7\n",
       "QAbz5SEZyMwBNJCTYwHDfZAA8wYkqcJjQNXbeRIYQkECrAhn7BIUKwDSD7guMPwFCXilAQHUGT2s\n",
       "YLf3P2D5AqK3IjmepyUAxDjGwLsARHMh+ytOF8QIZmAFe4/nApKUM48DkHGYoR8SYOJIAcVZYAJk\n",
       "PL57HuLsxxEPYMGbwhCaXwCxDQI6AwVRgoc5ge8H9ghgYFRgvYBDiuPuERwyAAfzPe7bmvmqAAAA\n",
       "AElFTkSuQmCC\n",
       "\" style=\"display:inline;vertical-align:middle;\" /></a> <a class=\"ProveItLink\" href=\"../__pv_it/demonstrations/4a2d931eb0df8bf7db6d0abae1dfdbcacedd49380/proof.ipynb\" style=\"text-decoration: none\">&nbsp;&#x22A2;&nbsp;&nbsp;</a><a class=\"ProveItLink\" href=\"../__pv_it/demonstrations/fcd7497f993233e6ed163d0e081849364e3e94610/expr.ipynb\"><img src=\"data:image/png;base64,iVBORw0KGgoAAAANSUhEUgAAAdgAAAAUBAMAAADcqjHRAAAAMFBMVEX///+YmJjc3NxmZmYiIiLM\n",
       "zMwQEBCqqqoyMjJERER2dnbu7u5UVFSIiIi6uroAAAA5J+EfAAAAAXRSTlMAQObYZgAABXxJREFU\n",
       "WMOdWF1oHFUU/vYnu9mZ7GRtKhZ8cFqDvkSzpQgxpnbtgy0h6uKL6EuiFVGDZYl9E8liLe5DaWPE\n",
       "YsDQxfhQ0sYMWEI0iVmDSKAsHVyi0HbtIpoHISQGQ6RrE8+9M7M7s7kz2XrhsnPPfPf7zrlzf85d\n",
       "wLPsN6u4DIg7iEpYFeM92Hnxx+DFWCfXgBhfLQ0X4pCHwKtLadrRXwj++slPgQUh3osdL58AvnF/\n",
       "vVAXl3xoJGkIL3gNanMKjQRqdB8ROV1rYeBwfw0qh8kSpoV4L3ZgE/jA/e10PeKYhbRlCE97Bbuq\n",
       "oYV+WhzG9x2tCWtK6eYDgWevlJ3WgIZQHyTdhq+WFg8HlDJ8ccfM1e0tSa/xSSSOp4A3DGFJ99D6\n",
       "EjgKo7oFO1XrBQP7avRCCTStQ+6z4avlqIcDUgJB1T1Yzmj3SSSO14HrKheu4EXlNPwJ8OoabGPJ\n",
       "yczBtXqNZTRtAOds+Or+k/BwoDGOVrgHyxltPgnFcV7D9aQhfA7Kre+KZJ8olOSCjilNuXKgeJh6\n",
       "di5tIkqTiFW5uLAy4SBm2Ec0SHEnMwPv1AOCZBpj3ypeEw/rsHJtpUivik9j7jDkfvy58Bix4+GJ\n",
       "3hQKhJm79fgN3UFIOH+/wWjzyU0cL5iOjkGKfBTpQ2tJXg8ofbhN7VHMq1hWI2VEaN9n9Vvs1Y87\n",
       "iCWOhS/tZGZgkd5qFtgHC38pw8ppq0P2s9QF+J8n1fgyomvIjujyOpTXcFHDxzSuWd9zwbSDMMtx\n",
       "nNHmk5u4cscU3oeXgjkliW6ge38gjRFqp9GelF8FtYIp8HoZk9pvDuJHORbhhJOZgUV6PVRPoYqv\n",
       "FOrQkOrBHwhmEfwi1oHIUEPqOPwbmIqhAzhG46pJZUW1E/pTDGcw2nxyEw/mTOFT0OZpOgcI8q8W\n",
       "0vEObz/EDCQfolesaiww45M8m8mcpSeGvUtn8Rr7ypnMh29mMjkYYFPPZkWATaJemHh7oQ6yvEUP\n",
       "RzQ0XyP5kM7avjVmoC9wkr4sD8xOKBOuWTcYbT65iOOQJUz4QYYbgv8unTUNG7y9yAwUtBUsWGDO\n",
       "DcrAWs5bw2jTsw8uW3muwSLMjG8B7TqdNb1J1m5Kk4ENwkl+4Os1hAbOCLbqk4s4X8pWsDRZMJ+F\n",
       "tE5nTbSPt/+SyTCIyjQGC8wZbAfHKnVN43AcB4DfYeGNNXvW6kArAjKtq0mVzpqfebs5NnOHD8Ix\n",
       "PkzJGkJCEI4z7j6N34VfNYQJ/zYbuxhCWXxOE+ZBaofL0nwKi2HV2qDeo+3gpjNYwubq3aBeAX6y\n",
       "b1C2wjqQMo0vc4QoR3watQe1y5v0eQfYBhXWbiOqOWVypF/nBtWQRVS1Nig/+2iBHD4BurAcz/q3\n",
       "IKXvj+i+Holv2FSVzcialZBbwXZhlSyBrJOZ7/DRGj1/93gXDWwnqvhq3kAd2pOcLxInN5QTEtpL\n",
       "uORLjmJvLstOl9XURSvDr3zZnEKDwxntJ4RIHK3jYz+Ywp3mzBq/QRN+tjiQT1Lb/31Kzi+1/crf\n",
       "UZXzNwv31Uzj2eIRljcnaxYTdQj8+M9BZ1Kxvb1N9jOo4qsZYcKcjdLEVzSZ87+0LbF22wMk8GK+\n",
       "xJ5ni3MHY04ZOV9Yh8Fo80kojvPb23+bwme8L1he6SJb61dF6aI44ZETNnx96SJbhy7pIl/nCUG6\n",
       "6JJtXYUN71J2XgRmzMtdmh8YVmIva6K8vmKtpO33dhFgSzAuIlxkR0U1sZ/ZVXz3iwBb86pRd454\n",
       "LKKLrmwR1etCJrjiRVRvD4ZFxmcwKrqyuXPtfsUzr8PCK7FSfELI7n4XHxZ743V5Z0V4eV8pJEXj\n",
       "4M7FhYd3CXaXv2X21P8vi08V4///3zK+e/hbZo+B/w9bI+K9R299BwAAAABJRU5ErkJggg==\n",
       "\" style=\"display:inline;vertical-align:middle;\" /></a></span>"
      ],
      "text/plain": [
       "{x in Real, y in Real} |- round((x + y) + (1 + 2)) = (round(x + y) + (1 + 2))"
      ]
     },
     "execution_count": 82,
     "metadata": {},
     "output_type": "execute_result"
    }
   ],
   "source": [
    "print(round_add_add)\n",
    "round_add_add.rounding_extraction(1, assumptions=[InSet(x, Real), InSet(y, Real)])"
   ]
  },
  {
   "cell_type": "markdown",
   "metadata": {},
   "source": [
    "## The `do_reduced_simplification()` method\n",
    "<font size=4> Some testing of the `do_reduced_simplification()` method(s), allowing the simplification of `Ceil(x)`, `Floor(x)`, and `Round(x)` to the operand $x$ when we know $x\\in\\mathbb{Z}$, and simplification of `f(x+n)` to `f(x)+n` when $x$ is real and $n\\in\\mathbb{Z}$. This is not a method that would typically be called directly — instead it ends up getting called by the more general Expr.simplification() method.</font>"
   ]
  },
  {
   "cell_type": "markdown",
   "metadata": {},
   "source": [
    "### Ceil.do_reduced_simplification()"
   ]
  },
  {
   "cell_type": "code",
   "execution_count": 83,
   "metadata": {},
   "outputs": [
    {
     "data": {
      "text/html": [
       "<span style=\"font-size:20px;\"> <a class=\"ProveItLink\" href=\"../__pv_it/demonstrations/9341cb4d3e47aacf64edb4e8bcce0bdd18a881270/proof.ipynb\" style=\"text-decoration: none\">&nbsp;&#x22A2;&nbsp;&nbsp;</a><a class=\"ProveItLink\" href=\"../__pv_it/demonstrations/7908b66fddd361507c9c898ff1ccfbb04c5d9c290/expr.ipynb\"><img src=\"data:image/png;base64,iVBORw0KGgoAAAANSUhEUgAAAEAAAAAVBAMAAAAEBPWpAAAALVBMVEX///+qqqqIiIgiIiIQEBC6\n",
       "urrMzMxmZmZ2dnbc3NxUVFQyMjJERETu7u4AAAAp5osHAAAAAXRSTlMAQObYZgAAALpJREFUKM9j\n",
       "uLN7FwMIzN69gwErmAVn3cat4HrNMSDJjSEHFgcq4F3A0BeARQFEHKiA/QIDiwMWBRBxoAIWAwau\n",
       "l1gUQMSBCrjfMnA9w6IAIg7xBfNbbI4Ei0MUxDXAFHDsBoMCBpg4RIEVA3YTrKABxV6AXQFIHKxA\n",
       "nQG7AnVoSDIWMMxEc8MCBpg4SEEGA4MmNhPA4kAFnBYdVQZYFEDEQQH17t07bAog4ojo5iaUHmim\n",
       "4AacxYVVHgD5jj1DV6kJfAAAAABJRU5ErkJggg==\n",
       "\" style=\"display:inline;vertical-align:middle;\" /></a></span>"
      ],
      "text/plain": [
       "|- ceil(2) = 2"
      ]
     },
     "execution_count": 83,
     "metadata": {},
     "output_type": "execute_result"
    }
   ],
   "source": [
    "# simplifying ceiling of an integer\n",
    "ceil_2.do_reduced_simplification()"
   ]
  },
  {
   "cell_type": "code",
   "execution_count": 84,
   "metadata": {},
   "outputs": [
    {
     "data": {
      "text/html": [
       "<span style=\"font-size:20px;\"><a class=\"ProveItLink\" href=\"../__pv_it/demonstrations/df00502ed16a4992edbc267ef95beb725b0e4ff30/expr.ipynb\"><img src=\"data:image/png;base64,iVBORw0KGgoAAAANSUhEUgAAAIYAAAAUBAMAAAC6+VjqAAAAMFBMVEX////MzMxUVFR2dna6uroQ\n",
       "EBCqqqqIiIgiIiJmZmYyMjJERETu7u6YmJjc3NwAAACgK8IjAAAAAXRSTlMAQObYZgAAAeJJREFU\n",
       "OMuNVLtKA0EUPXGjSdyH+QNjJShKChFEi4CIFoIpBEUFU1oGRSSVNj4QlIBFQBAiKMgWIja+dbEJ\n",
       "aKGtghDEwkawsVPxzs66mUkmkAsnM3v35syZ+1jAeoTKPuTHhiKH2u6VXuOozNHpQbTg8pc9vk8a\n",
       "DpUcjeVn3nkQLXQWRV4HzKwkOe1tnspJtTSHaJE4tFQXEC4qOTYrLpfkYGaerq27HA5eA6ThHSoO\n",
       "a6nidnsegMCJ43svddpnaFOYfZtLSxwh4YaFHKwpoAcclJYShZl+od8rkhg3V8N5iUMXCh4fQOgT\n",
       "eAaHVJ57t34rlCpH+w4WJY5wyg+zUtvQKXIGHIBQ9pY69r9R0uHGEJdtH0zYdoy29QmSbDPbNTCG\n",
       "JqJuBgcCE8zPGyTbD84BN0bSwTj8TvpGc1TgsEo6GpmmPnYXuDHV7oJIHvO0DHkAkv6rbi3BHimn\n",
       "Dc4iQk7VnOoxHEPMac5PVeyVjkiyco2kbv5H7J9DE2obiQV/aNnyIIjUnUsYHUdM3u1CYedR5ggK\n",
       "PWa0Zn5p2fVAjvZh/mbgfPJiejJbU69TRmAscbgn9PJe9ztNmjnDqZy5Njwk1DPn27XSq5fkbeCk\n",
       "yuzX/g0azES9o66rcdT2LTSLHCr7A4DZgyTazkqYAAAAAElFTkSuQmCC\n",
       "\" style=\"display:inline;vertical-align:middle;\" /></a> <a class=\"ProveItLink\" href=\"../__pv_it/demonstrations/f5fc92d8e3cbcca15fbde4d0b13944bae2ec8d400/proof.ipynb\" style=\"text-decoration: none\">&nbsp;&#x22A2;&nbsp;&nbsp;</a><a class=\"ProveItLink\" href=\"../__pv_it/demonstrations/dc2b8a55096c95fb4f5e5950ac928eb87873f02d0/expr.ipynb\"><img src=\"data:image/png;base64,iVBORw0KGgoAAAANSUhEUgAAANoAAAAVBAMAAADSje2JAAAAMFBMVEX///8QEBBmZmaqqqrMzMwi\n",
       "IiKYmJi6urqIiIh2dnbc3NxUVFQyMjJERETu7u4AAADasDZTAAAAAXRSTlMAQObYZgAAAmFJREFU\n",
       "SMellr9v00AUx1+TJo7T2u0WBoQyIFREJLIgIab8Bw2qhBBTxIgYyhCJLcZTEEOjTAwMRhUwsHhE\n",
       "iMFDEVK5galCrRBmQApqCx0QIIaq784+++58R6PwpK/ts973PvfbhkPyHqaMOiEj+L94aaq6J5ev\n",
       "0YsbnZqXxnO5WA4SmWiHSnkhoNfo1Lwk3A/Ki9eJTLRt1R/padta92KgvDhIpNCupvdqU63gsZYm\n",
       "55W99OG2mmd7TAZaRW0cfNHS5LyMdqswtMtMBtqz4uCs62hyHqfVuwX7OyZKmzx68dCTab7QLN+D\n",
       "pzHYTR3Nl+ycVhPGd7IC9XMAY6BCmjuq3qxEMm1HGHJrGTZwhiJOswmLZpon2DnNEbbF6B7UjgDu\n",
       "AhXS7Ng+tgKZtpanb5Yi+IQ1dXV9W5PsnFZp5/ux3QIH98MVoKJ9Y0WMJ4RcJ8nZ0sDXSRc68ZwH\n",
       "fwDmj3S0Rm7HLr89S0iIj3M4xwfMveXCGVjCRqwCFVslS566ShpCjYN4/uc/aIKd943SeFjHsNqR\n",
       "aLRoHEloQQ3Xr9VV5i3M8jK7ZiQB5+EB3vpMSCvHG1CLjasE9sAJxVUixo5k160S9O6BsEoG7c/Z\n",
       "KcppY6HGSzBAd2mko40lO6fZwg4ohdYvvF1kQtr+cHKhp9D6Qo37w8u45BY7OlpfsnOaJexu95X/\n",
       "F29bTFOdXC3U15lPLpw5cLtMCu178bRdiNzfU57Kblw8ld/Aj3XTqZzFbt78nuOZvzi7WreTd/kG\n",
       "fDR+cTRfSWt4PvPP8DW973fSRqG+TfmncIddwxn/FKoB0wlaE9IyeYCbmgAAAABJRU5ErkJggg==\n",
       "\" style=\"display:inline;vertical-align:middle;\" /></a></span>"
      ],
      "text/plain": [
       "{(x + (-y)) in Integer} |- ceil(x + (-y)) = (x + (-y))"
      ]
     },
     "execution_count": 84,
     "metadata": {},
     "output_type": "execute_result"
    }
   ],
   "source": [
    "# simplifying ceiling of expression assumed to be an integer\n",
    "ceil_x_minus_y.do_reduced_simplification(assumptions=[InSet(subtract(x, y), Integer)])"
   ]
  },
  {
   "cell_type": "code",
   "execution_count": 85,
   "metadata": {},
   "outputs": [
    {
     "data": {
      "text/html": [
       "<span style=\"font-size:20px;\"><a class=\"ProveItLink\" href=\"../__pv_it/axioms/02bd6ad73acd9f4d3192ee4c61bfdcabbff20f180/expr.ipynb\"><img src=\"data:image/png;base64,iVBORw0KGgoAAAANSUhEUgAAADQAAAAPBAMAAABZ6/G2AAAAMFBMVEX///8QEBBmZmaqqqrMzMxE\n",
       "REQyMjIiIiKYmJh2dna6urrc3NxUVFSIiIju7u4AAAA6P00QAAAAAXRSTlMAQObYZgAAAMRJREFU\n",
       "GNNjYMAAHIWh3xIjGLACNr4DLBFxWKVYuScwBOxBEWotL0+ASWmzIcu43kPSpc0KZLy9s+vmBSDN\n",
       "l4ds4IE1QJEJHLXsIHN4NiBJMRcBFXI+4PzHBRJlRXKGeHkyyBwG1gCwgGMaEECdMUsB4nb+C2Bq\n",
       "K7LjtVzBLH8HMMWILMX6Aqie+cF9Bt4HQAGmC0hSLAdUGBjWG8Qz7ACLFCMFFMNkHgeGN3ffajSA\n",
       "Rd5EPYAHrwNr2Gfk4FgZDgkoKAAAelg1omM6Y4wAAAAASUVORK5CYII=\n",
       "\" style=\"display:inline;vertical-align:middle;\" /></a>, <a class=\"ProveItLink\" href=\"../__pv_it/demonstrations/0e211c1b90a45e17b96e3a76d1d45f0a3426ba3f0/expr.ipynb\"><img src=\"data:image/png;base64,iVBORw0KGgoAAAANSUhEUgAAADIAAAASBAMAAADrvZC0AAAAMFBMVEX///8iIiKYmJhUVFTMzMxE\n",
       "REQyMjKqqqq6urp2dnYQEBDc3NxmZmaIiIju7u4AAACH5sGpAAAAAXRSTlMAQObYZgAAAOhJREFU\n",
       "GNNjYMAAHFK/0hZmKWBKMPDGODAksGKRYOCZwMBZMANZhClQUAws84BhM8sBJAmW2AdwdhwrkM13\n",
       "5wLDLpDYM4QE0wUlIMnJsYDhPohrjdD+lC8ASG7nSWAIBXEDEDImzBuA5AOuCwx/QdYsSwMCiIcO\n",
       "dILp/gcsX4AUN0IPG0j/PAaGYwy8C0D8BXCZ6ZwNYG4wA6sBiH8WJsFtsBnoKaDMYYZ+cBgxFkBl\n",
       "WB/EMfAZAQ18fPc8yCUMfKZ9EJmusKWh65eCA+EYNIynQkIHBpgT+H4wYAWMCqwXsMtw3D2CXQIA\n",
       "CSg4nSezvQQAAAAASUVORK5CYII=\n",
       "\" style=\"display:inline;vertical-align:middle;\" /></a> <a class=\"ProveItLink\" href=\"../__pv_it/demonstrations/5f3d44c4bbcb026863c1cb17ef3db229a8c3a5a90/proof.ipynb\" style=\"text-decoration: none\">&nbsp;&#x22A2;&nbsp;&nbsp;</a><a class=\"ProveItLink\" href=\"../__pv_it/demonstrations/b907fa31616497f1323258090e1544ce71786ce10/expr.ipynb\"><img src=\"data:image/png;base64,iVBORw0KGgoAAAANSUhEUgAAAOwAAAAVBAMAAAC3YB/2AAAAMFBMVEX///8QEBBmZmaqqqrMzMwi\n",
       "IiKYmJi6urqIiIh2dnbc3NxUVFQyMjJERETu7u4AAADasDZTAAAAAXRSTlMAQObYZgAAAlZJREFU\n",
       "SMellr9r1GAYxx/v2sslmreODkVuEoUOtwjiIPcf9LpIKR0OQQdxqINQXIw3VYR6OHUQm0mHLhlL\n",
       "6ZCh0qHv0LH4A+MgXLHqgSLiUPo+T9Ikl/d5Lyd94ZuQ8OT7Sd73eZ8n8F3uwZjDkbLH3RcfZTAy\n",
       "gBkbhvtvCtc3CRBycU6QvUFY4lP1YxmwYr9w47yPx5CLy2G1AM1nK5YBe8EvPh+yWIwbhdV8jmIV\n",
       "sDeS8x3tRdZYLMYx2Kpn8rE9kgG7oGG/sNiFEqzmIy6SeKzT1qd9icFS3Ags47NLQmz/+dtn3hC2\n",
       "3sji+lfBuaxmpsFgKQ6xYmVreU3HMj4vAaWwolebnwyHsG4nC+89hPoAoBaeutqSRuM0DrGHcNdb\n",
       "1LGMzwNAKawd2ceWP4SdbGbz2JwBV22Dapv5WopD7GtYjx7rWMbnOqDwa+lSjVdSzkmqWufUQh7R\n",
       "N+0IuARTymViwGAxjrARfErXVs3Gu2lJlYvxmQUUpdSUV0gpskuGdQyzrTIswF8upRifHBYvTZMM\n",
       "lRCe4lPtwtoG+UmGid8clvF5RFLYavQC6pExpdwAPkA+pXIjTalbKltWR6dU4pOm1JPm57RiJ1g7\n",
       "l/iVwPqDpx6DtZMNZP1yB05HxzI+10gK+22lf6UzjLVy21xsdv9huWgxWCspF2JztXuPmWTGZ4c0\n",
       "TnGsoNnXsxdH9BFtUgH7Qy/h2/Bz6X9bgYhMPnwrSNc/a1i34cDc+NySxqf58I2Pac/L3Vb6/Fna\n",
       "fOzzPtbhmD819+kYcHEi9wMVlPjUfNIJspjxr5xu18sAAAAASUVORK5CYII=\n",
       "\" style=\"display:inline;vertical-align:middle;\" /></a></span>"
      ],
      "text/plain": [
       "{x in Real, y in Integer} |- ceil(x + (-y)) = (ceil(x) + (-y))"
      ]
     },
     "execution_count": 85,
     "metadata": {},
     "output_type": "execute_result"
    }
   ],
   "source": [
    "# simplifying ceiling of a sum of an assumed real and an assumed integer\n",
    "ceil_x_minus_y.do_reduced_simplification(assumptions=[InSet(x, Real), InSet(y, Integer)])"
   ]
  },
  {
   "cell_type": "code",
   "execution_count": 86,
   "metadata": {},
   "outputs": [
    {
     "data": {
      "text/html": [
       "<span style=\"font-size:20px;\"><a class=\"ProveItLink\" href=\"../__pv_it/axioms/02bd6ad73acd9f4d3192ee4c61bfdcabbff20f180/expr.ipynb\"><img src=\"data:image/png;base64,iVBORw0KGgoAAAANSUhEUgAAADQAAAAPBAMAAABZ6/G2AAAAMFBMVEX///8QEBBmZmaqqqrMzMxE\n",
       "REQyMjIiIiKYmJh2dna6urrc3NxUVFSIiIju7u4AAAA6P00QAAAAAXRSTlMAQObYZgAAAMRJREFU\n",
       "GNNjYMAAHIWh3xIjGLACNr4DLBFxWKVYuScwBOxBEWotL0+ASWmzIcu43kPSpc0KZLy9s+vmBSDN\n",
       "l4ds4IE1QJEJHLXsIHN4NiBJMRcBFXI+4PzHBRJlRXKGeHkyyBwG1gCwgGMaEECdMUsB4nb+C2Bq\n",
       "K7LjtVzBLH8HMMWILMX6Aqie+cF9Bt4HQAGmC0hSLAdUGBjWG8Qz7ACLFCMFFMNkHgeGN3ffajSA\n",
       "Rd5EPYAHrwNr2Gfk4FgZDgkoKAAAelg1omM6Y4wAAAAASUVORK5CYII=\n",
       "\" style=\"display:inline;vertical-align:middle;\" /></a>, <a class=\"ProveItLink\" href=\"../__pv_it/theorems/0886f5b6aacf5197ba709a53d4f3243edcc3de560/expr.ipynb\"><img src=\"data:image/png;base64,iVBORw0KGgoAAAANSUhEUgAAADMAAAASBAMAAAAEf/uKAAAAMFBMVEX///8iIiKYmJhUVFTMzMxE\n",
       "REQyMjKqqqq6urp2dnYQEBDc3NxmZmaIiIju7u4AAACH5sGpAAAAAXRSTlMAQObYZgAAAN1JREFU\n",
       "GNNjYMAAikvj05YqMGAFCY8ZXFUfYJUK2MnAym2AIqQqKJgAleLZkIAs43oPoYtnQwADA9+dCwy7\n",
       "QAbz5SEZyMwBNJCTYwHDfZAA8wYkqcJjQNXbeRIYQkECrAhn7BIUKwDSD7guMPwFCXilAQHUGT2s\n",
       "YLf3P2D5AqK3IjmepyUAxDjGwLsARHMh+ytOF8QIZmAFe4/nApKUM48DkHGYoR8SYOJIAcVZYAJk\n",
       "PL57HuLsxxEPYMGbwhCaXwCxDQI6AwVRgoc5ge8H9ghgYFRgvYBDiuPuERwyAAfzPe7bmvmqAAAA\n",
       "AElFTkSuQmCC\n",
       "\" style=\"display:inline;vertical-align:middle;\" /></a> <a class=\"ProveItLink\" href=\"../__pv_it/demonstrations/bf2cec9c9d3f30ba50562fc66a721ee248e5bcc80/proof.ipynb\" style=\"text-decoration: none\">&nbsp;&#x22A2;&nbsp;&nbsp;</a><a class=\"ProveItLink\" href=\"../__pv_it/demonstrations/8218a0206753b141d76b9647e8a5938ea7b767450/expr.ipynb\"><img src=\"data:image/png;base64,iVBORw0KGgoAAAANSUhEUgAAAQQAAAAVBAMAAABS242zAAAAMFBMVEX////MzMy6uroQEBCqqqqI\n",
       "iIgiIiJmZmaYmJh2dnbc3NxUVFQyMjJERETu7u4AAAAjuzXOAAAAAXRSTlMAQObYZgAAAn9JREFU\n",
       "SMeVlj9oU0EYwL8mbdP8e7g6tUszdEno7KqDg7wlPOhQA3aROqSjNGImEXHIUoIg9oHioA5v6dLp\n",
       "1UGw3uJWosIDoaXYllR0cWi8fwm5e993JAeXwL33/d7v/n13cM6+wNTlA/uMtnvfWUSEFBjrEI/e\n",
       "y+dt8mu38eYz5CNtKEQOby9GGmdDrXBOBxZDq+Hk0Vf+W0q/ySFOBYgx0r5WOJzc3YtgdwlVOJxS\n",
       "QZHOlMJC0xG4MxwyX/7lEsjWMAUBmUzhJoyR8r5UmA8dgT9NhWwDiv8wBQGZSkGRvJpUeOsKLC0Z\n",
       "CqUrKF5iCgIylYImfZQKgZiZ+v7yjjlXgQ+vE8g3DQXR3ytMIdAKJMhW0KSuVDji9RSe+A+MyHym\n",
       "Bnf5HMe2QrUzVMgzWaTkkVYgQYiCID2XChu8voLdZMWIfJOL4Qf/dMNW2EQ35YZWIEGIgiDdkgqr\n",
       "vCbyLZ5zZL8OREvWh78AM33V3U83mEp9uSaqsKoVSJBSeMnYPaYzsiQtjhRAvmWUajJzqRXGRyEA\n",
       "pwIJSo+CJC2OJgLkW0ZpwRzPABlrImab8M5aC9H4RJCglIIiVUbL8c5cH9bNyG9QjtLL8TrAGjYK\n",
       "w+VIglIKiqSWY5f39U+5bx9W21DlLbmOoVC4/2K7gSl0lQINshU06aFUqPC9u7cePLWgv+qPecYr\n",
       "XTNT02AwQBUqSoEGpVKTIh24E3SL12OwNyW+HJ0JugXophR5q+E4poqx93vsmPIStwJ9TGnQSOHC\n",
       "yFvqmIIeFjnfLvvERQM9rHuUggKl7wvDuw99ZcnUt/hvOZxUgbyyKBCh0BMp3X1xe0ZcptCLm9dx\n",
       "nZSY30II/wEZTPcCVcJYJwAAAABJRU5ErkJggg==\n",
       "\" style=\"display:inline;vertical-align:middle;\" /></a></span>"
      ],
      "text/plain": [
       "{x in Real, y in Real} |- ceil((x - y) + 2) = (ceil(x - y) + 2)"
      ]
     },
     "execution_count": 86,
     "metadata": {},
     "output_type": "execute_result"
    }
   ],
   "source": [
    "# simplifying ceiling of sum of some assumed real numbers and an actual integer\n",
    "ceil_x_minus_y_plus_2.do_reduced_simplification(assumptions=[InSet(x, Real), InSet(y, Real)])"
   ]
  },
  {
   "cell_type": "markdown",
   "metadata": {},
   "source": [
    "### Floor.do_reduced_simplification()"
   ]
  },
  {
   "cell_type": "code",
   "execution_count": 87,
   "metadata": {},
   "outputs": [
    {
     "data": {
      "text/html": [
       "<span style=\"font-size:20px;\"> <a class=\"ProveItLink\" href=\"../__pv_it/demonstrations/ade2ade1490c91f5ce1e10ebe97385f81767d5fc0/proof.ipynb\" style=\"text-decoration: none\">&nbsp;&#x22A2;&nbsp;&nbsp;</a><a class=\"ProveItLink\" href=\"../__pv_it/demonstrations/05da7137e37855bbe1bb681da99478e6f6cef2e50/expr.ipynb\"><img src=\"data:image/png;base64,iVBORw0KGgoAAAANSUhEUgAAAEAAAAAVBAMAAAAEBPWpAAAAMFBMVEX///+qqqqIiIgyMjK6urp2\n",
       "dnbMzMxERERmZmYiIiIQEBBUVFTc3NyYmJju7u4AAADXUSrrAAAAAXRSTlMAQObYZgAAALNJREFU\n",
       "KM9jeMsAA0wMWMFpOIsZt4IX7WVYFYDFgQr4NjDEO2BRABEHKuB4wMC1AIsCiDhQAdcEBu4/WBRA\n",
       "xIEKmP8xcH/DogAiDvEF5z/svgCKQxT4B8AUsBqDQQMDTByiYDaOcJgNDSiOBuwKQOJgBRo4QlID\n",
       "GpKMDQxn0NywgQEmDlKQysCgg80EsDhQAc/U0O4JWBRAxEEB9f//f2wKIOJERTeNFbyaORtMH545\n",
       "Has8AJvVPbdeJzmqAAAAAElFTkSuQmCC\n",
       "\" style=\"display:inline;vertical-align:middle;\" /></a></span>"
      ],
      "text/plain": [
       "|- floor(2) = 2"
      ]
     },
     "execution_count": 87,
     "metadata": {},
     "output_type": "execute_result"
    }
   ],
   "source": [
    "# simplifying floor of an integer\n",
    "floor_2.do_reduced_simplification()"
   ]
  },
  {
   "cell_type": "code",
   "execution_count": 88,
   "metadata": {},
   "outputs": [
    {
     "data": {
      "text/html": [
       "<span style=\"font-size:20px;\"><a class=\"ProveItLink\" href=\"../__pv_it/theorems/37457ae6f2a046fde6b993ab4ab5413aad4b39af0/expr.ipynb\"><img src=\"data:image/png;base64,iVBORw0KGgoAAAANSUhEUgAAADMAAAAPBAMAAAC7N+rPAAAAMFBMVEX///8QEBBmZmaqqqrMzMxE\n",
       "REQyMjIiIiKYmJh2dna6urrc3NxUVFSIiIju7u4AAAA6P00QAAAAAXRSTlMAQObYZgAAANZJREFU\n",
       "GNNjYMAEy+XFEsskGLCBqyoMbAwBWKU0GRgmcy5AEeIILy8D0XoM3AecUGRYYh/AmKwP4kDU2zu7\n",
       "bl4AMZ7BZRh6ORqAJN8Ejlr2BBD/NFyGL+ApiOJ8wPmPawOIhXATjwNYGR8DK0SMRSwNCMDMRVwT\n",
       "IGr4wTYxcCN0JbCCTAMy/B0gAgIwGU6DWQwMjAwMzA/uM/CC3aYLk9rDfYCBQZGBYb1BPMMOsAi7\n",
       "AVQqjvUBw5tWBoY3d99qNECcfHQdmOYSTQwN/BiEEhxcUyEBBQUAa7sxwOkLdCEAAAAASUVORK5C\n",
       "YII=\n",
       "\" style=\"display:inline;vertical-align:middle;\" /></a>, <a class=\"ProveItLink\" href=\"../__pv_it/demonstrations/0e211c1b90a45e17b96e3a76d1d45f0a3426ba3f0/expr.ipynb\"><img src=\"data:image/png;base64,iVBORw0KGgoAAAANSUhEUgAAADIAAAASBAMAAADrvZC0AAAAMFBMVEX///8iIiKYmJhUVFTMzMxE\n",
       "REQyMjKqqqq6urp2dnYQEBDc3NxmZmaIiIju7u4AAACH5sGpAAAAAXRSTlMAQObYZgAAAOhJREFU\n",
       "GNNjYMAAHFK/0hZmKWBKMPDGODAksGKRYOCZwMBZMANZhClQUAws84BhM8sBJAmW2AdwdhwrkM13\n",
       "5wLDLpDYM4QE0wUlIMnJsYDhPohrjdD+lC8ASG7nSWAIBXEDEDImzBuA5AOuCwx/QdYsSwMCiIcO\n",
       "dILp/gcsX4AUN0IPG0j/PAaGYwy8C0D8BXCZ6ZwNYG4wA6sBiH8WJsFtsBnoKaDMYYZ+cBgxFkBl\n",
       "WB/EMfAZAQ18fPc8yCUMfKZ9EJmusKWh65eCA+EYNIynQkIHBpgT+H4wYAWMCqwXsMtw3D2CXQIA\n",
       "CSg4nSezvQQAAAAASUVORK5CYII=\n",
       "\" style=\"display:inline;vertical-align:middle;\" /></a> <a class=\"ProveItLink\" href=\"../__pv_it/demonstrations/d18f86e675de733ee258a62da140c7b52bc255d90/proof.ipynb\" style=\"text-decoration: none\">&nbsp;&#x22A2;&nbsp;&nbsp;</a><a class=\"ProveItLink\" href=\"../__pv_it/demonstrations/d9a387982f1dca699b925f28dc23c4e10c7a4f180/expr.ipynb\"><img src=\"data:image/png;base64,iVBORw0KGgoAAAANSUhEUgAAAJoAAAAVBAMAAABMN+opAAAAMFBMVEX///9mZmaqqqrMzMxEREQy\n",
       "MjJ2dna6urqIiIgiIiIQEBBUVFTc3NyYmJju7u4AAABISk2iAAAAAXRSTlMAQObYZgAAAa9JREFU\n",
       "OMtjeMuADzQwkAZO45UNwBDhuYBLLdMB0k17glvxHtJNi8Gt+CmGaRoETOMVQPEcSriyNZBqGucB\n",
       "3KbxLSDVtJMMuE1jCAeb9qL7eFsDiml8jQ0Mpx5gMa0RRTnMtBcSDDzrGBgSQabxJfDO4AxAMY2N\n",
       "fQFDP8xtbKFgAA4xXxTlMNMSqhg4PjAwXAWZxvaA7R/7ARTTDjEGMLhg8+kkFOVQ03gURBlYHBgY\n",
       "NMFuAzOBIDU0dFZoaDSQ9YCrgeEHNtOWI5QDnRy5NDR0A0hkBQM/0GB7SCzwN6DHQv0D5s84TENS\n",
       "DvMp+z8GewO4aSAmqmmiDBwL0MJtA9SnSMphpgHDpQtIVYJMY3rQz8DxANU0bwaWDdjc5ouiHGYa\n",
       "UK03AzQW6hX8Gc6iuU2aof4CNtMSUZTD3baB/S+QEgOZ9rrjhewFNNNed8gfwGZaJYpymGl8Oxr/\n",
       "AKlg3HlBlKScBQw5Br4J6Ka9g1DcAXzficj1fNDQ3srwvgBbroc54QJLA/YSyQeb8rkMHlhLJChg\n",
       "7xAmpbSsaDSAWPRq5mxcpR9P5EwHEkpy3gMMABt9h/XBNMnMAAAAAElFTkSuQmCC\n",
       "\" style=\"display:inline;vertical-align:middle;\" /></a></span>"
      ],
      "text/plain": [
       "{x in Integer, y in Integer} |- floor(x + y) = (x + y)"
      ]
     },
     "execution_count": 88,
     "metadata": {},
     "output_type": "execute_result"
    }
   ],
   "source": [
    "# simplifying floor of a sum of assumed integers\n",
    "floor_x_plus_y.do_reduced_simplification(assumptions=[InSet(x, Integer), InSet(y, Integer)])"
   ]
  },
  {
   "cell_type": "code",
   "execution_count": 89,
   "metadata": {},
   "outputs": [
    {
     "data": {
      "text/html": [
       "<span style=\"font-size:20px;\"><a class=\"ProveItLink\" href=\"../__pv_it/axioms/02bd6ad73acd9f4d3192ee4c61bfdcabbff20f180/expr.ipynb\"><img src=\"data:image/png;base64,iVBORw0KGgoAAAANSUhEUgAAADQAAAAPBAMAAABZ6/G2AAAAMFBMVEX///8QEBBmZmaqqqrMzMxE\n",
       "REQyMjIiIiKYmJh2dna6urrc3NxUVFSIiIju7u4AAAA6P00QAAAAAXRSTlMAQObYZgAAAMRJREFU\n",
       "GNNjYMAAHIWh3xIjGLACNr4DLBFxWKVYuScwBOxBEWotL0+ASWmzIcu43kPSpc0KZLy9s+vmBSDN\n",
       "l4ds4IE1QJEJHLXsIHN4NiBJMRcBFXI+4PzHBRJlRXKGeHkyyBwG1gCwgGMaEECdMUsB4nb+C2Bq\n",
       "K7LjtVzBLH8HMMWILMX6Aqie+cF9Bt4HQAGmC0hSLAdUGBjWG8Qz7ACLFCMFFMNkHgeGN3ffajSA\n",
       "Rd5EPYAHrwNr2Gfk4FgZDgkoKAAAelg1omM6Y4wAAAAASUVORK5CYII=\n",
       "\" style=\"display:inline;vertical-align:middle;\" /></a>, <a class=\"ProveItLink\" href=\"../__pv_it/demonstrations/0e211c1b90a45e17b96e3a76d1d45f0a3426ba3f0/expr.ipynb\"><img src=\"data:image/png;base64,iVBORw0KGgoAAAANSUhEUgAAADIAAAASBAMAAADrvZC0AAAAMFBMVEX///8iIiKYmJhUVFTMzMxE\n",
       "REQyMjKqqqq6urp2dnYQEBDc3NxmZmaIiIju7u4AAACH5sGpAAAAAXRSTlMAQObYZgAAAOhJREFU\n",
       "GNNjYMAAHFK/0hZmKWBKMPDGODAksGKRYOCZwMBZMANZhClQUAws84BhM8sBJAmW2AdwdhwrkM13\n",
       "5wLDLpDYM4QE0wUlIMnJsYDhPohrjdD+lC8ASG7nSWAIBXEDEDImzBuA5AOuCwx/QdYsSwMCiIcO\n",
       "dILp/gcsX4AUN0IPG0j/PAaGYwy8C0D8BXCZ6ZwNYG4wA6sBiH8WJsFtsBnoKaDMYYZ+cBgxFkBl\n",
       "WB/EMfAZAQ18fPc8yCUMfKZ9EJmusKWh65eCA+EYNIynQkIHBpgT+H4wYAWMCqwXsMtw3D2CXQIA\n",
       "CSg4nSezvQQAAAAASUVORK5CYII=\n",
       "\" style=\"display:inline;vertical-align:middle;\" /></a> <a class=\"ProveItLink\" href=\"../__pv_it/demonstrations/8e0e5b2a84e86bcb0cad8f0af30123380b1bc9370/proof.ipynb\" style=\"text-decoration: none\">&nbsp;&#x22A2;&nbsp;&nbsp;</a><a class=\"ProveItLink\" href=\"../__pv_it/demonstrations/5f835ceb83242532af02ab797f057643d51c48230/expr.ipynb\"><img src=\"data:image/png;base64,iVBORw0KGgoAAAANSUhEUgAAAKwAAAAVBAMAAAAp2hhWAAAAMFBMVEX///9mZmaqqqrMzMxEREQy\n",
       "MjJ2dna6urqIiIgiIiIQEBBUVFTc3NyYmJju7u4AAABISk2iAAAAAXRSTlMAQObYZgAAAetJREFU\n",
       "OMud1T1Lw0AYB/C/NSZV4ylIRRCxoy7iN9DBQVCwIEGKSx0EJ3VUEZouUhTURbC+QBdBF8kiODgE\n",
       "F0ER4uDgIGRRiuILOuig4l2aiuld08Zb7giX312e5+4JHuHXdNFDYpWZQNu5LxvjnlwAquE3AQiZ\n",
       "gVnSV57FcWC2xqyAveXYzjLsJYRsyBNjWQ/KblfCkmxAVl2rhMWow+aWTxd1D0tSOs5sng03uSxJ\n",
       "H89O8myuFeoBMM5YkmjYqI15WFnJYrXwlqw5jYmS5bJ3uNbXeTYxj/ALcMVY2Za/FdPDnlTF0C8I\n",
       "Qm3UZacwbS9wrBqNQKJHsMvZrTOkbULTNjVtjI7sOh0fArZuxmVtZ9X8BPo18V1NY6HBHhrpCr35\n",
       "lDXqxSlL2tVvfiycVbkgKN/o7fll2dDLRhDOFsXW+BsEOKtyLI3dEu3mGBuyVxG2vewgJEOw29+U\n",
       "ddPMrPAsfWkQbsqS0WFWQTxsG5KWgJXdA6a8Si+qJditoXzRroWxD+lcu1XEPqQ7TAGruNeBHK2k\n",
       "bgRBIEepT9qNlL5lkf9dXhpdkLVi9inf1cfIe5BSQ9zUHOJ5RlRqCsfeknQhK/kXxh0MCAtjIYbp\n",
       "5n+V8dkUO6pDwH1mq1QNV+OZPtFPh+xnjNITgAYTP2vSobDeebj8AAAAAElFTkSuQmCC\n",
       "\" style=\"display:inline;vertical-align:middle;\" /></a></span>"
      ],
      "text/plain": [
       "{x in Real, y in Integer} |- floor(x + y) = (floor(x) + y)"
      ]
     },
     "execution_count": 89,
     "metadata": {},
     "output_type": "execute_result"
    }
   ],
   "source": [
    "# simplifying floor of a sum of an assumed real and an assumed integer\n",
    "floor_x_plus_y.do_reduced_simplification(assumptions=[InSet(x, Real), InSet(y, Integer)])"
   ]
  },
  {
   "cell_type": "code",
   "execution_count": 90,
   "metadata": {},
   "outputs": [
    {
     "data": {
      "text/html": [
       "<span style=\"font-size:20px;\"><a class=\"ProveItLink\" href=\"../__pv_it/axioms/02bd6ad73acd9f4d3192ee4c61bfdcabbff20f180/expr.ipynb\"><img src=\"data:image/png;base64,iVBORw0KGgoAAAANSUhEUgAAADQAAAAPBAMAAABZ6/G2AAAAMFBMVEX///8QEBBmZmaqqqrMzMxE\n",
       "REQyMjIiIiKYmJh2dna6urrc3NxUVFSIiIju7u4AAAA6P00QAAAAAXRSTlMAQObYZgAAAMRJREFU\n",
       "GNNjYMAAHIWh3xIjGLACNr4DLBFxWKVYuScwBOxBEWotL0+ASWmzIcu43kPSpc0KZLy9s+vmBSDN\n",
       "l4ds4IE1QJEJHLXsIHN4NiBJMRcBFXI+4PzHBRJlRXKGeHkyyBwG1gCwgGMaEECdMUsB4nb+C2Bq\n",
       "K7LjtVzBLH8HMMWILMX6Aqie+cF9Bt4HQAGmC0hSLAdUGBjWG8Qz7ACLFCMFFMNkHgeGN3ffajSA\n",
       "Rd5EPYAHrwNr2Gfk4FgZDgkoKAAAelg1omM6Y4wAAAAASUVORK5CYII=\n",
       "\" style=\"display:inline;vertical-align:middle;\" /></a>, <a class=\"ProveItLink\" href=\"../__pv_it/theorems/0886f5b6aacf5197ba709a53d4f3243edcc3de560/expr.ipynb\"><img src=\"data:image/png;base64,iVBORw0KGgoAAAANSUhEUgAAADMAAAASBAMAAAAEf/uKAAAAMFBMVEX///8iIiKYmJhUVFTMzMxE\n",
       "REQyMjKqqqq6urp2dnYQEBDc3NxmZmaIiIju7u4AAACH5sGpAAAAAXRSTlMAQObYZgAAAN1JREFU\n",
       "GNNjYMAAikvj05YqMGAFCY8ZXFUfYJUK2MnAym2AIqQqKJgAleLZkIAs43oPoYtnQwADA9+dCwy7\n",
       "QAbz5SEZyMwBNJCTYwHDfZAA8wYkqcJjQNXbeRIYQkECrAhn7BIUKwDSD7guMPwFCXilAQHUGT2s\n",
       "YLf3P2D5AqK3IjmepyUAxDjGwLsARHMh+ytOF8QIZmAFe4/nApKUM48DkHGYoR8SYOJIAcVZYAJk\n",
       "PL57HuLsxxEPYMGbwhCaXwCxDQI6AwVRgoc5ge8H9ghgYFRgvYBDiuPuERwyAAfzPe7bmvmqAAAA\n",
       "AElFTkSuQmCC\n",
       "\" style=\"display:inline;vertical-align:middle;\" /></a> <a class=\"ProveItLink\" href=\"../__pv_it/demonstrations/e7afdadc163476546d4c28f33ab6ed28d688de510/proof.ipynb\" style=\"text-decoration: none\">&nbsp;&#x22A2;&nbsp;&nbsp;</a><a class=\"ProveItLink\" href=\"../__pv_it/demonstrations/5233cc1606a7155d193ae0a3e5b84d8b834596490/expr.ipynb\"><img src=\"data:image/png;base64,iVBORw0KGgoAAAANSUhEUgAAAQQAAAAVBAMAAABS242zAAAAMFBMVEX////MzMx2dna6urqqqqqI\n",
       "iIhmZmYyMjJEREQiIiIQEBBUVFTc3NyYmJju7u4AAACf0+qcAAAAAXRSTlMAQObYZgAAAkNJREFU\n",
       "SMellj1LA0EQhsfEmKjJ4T/QxtipjUVAsLJQRK5JSr+aFBZGBA/RwlJQIUVAo00ghVgZBDvBFIKo\n",
       "TToRFA8bv1Aiau/e7ubMJjPrRRf2IJOZN8/NbmYGXuFPK4BajZIuxiTsl84jTIeO4eZgvYmJhAs6\n",
       "hBRiay5KhEc6rr3oFYGJNI4AxxJhhY4z6gJHbRxhpWEER+lBIESmlG+GlU/dlZSJozQOT3AER6QG\n",
       "YRhHkGah5DM5QmtRE/msIgDc4QiOSEMIQsnIcYRz0EQG+70hOCJ/QIAFjpBw0hI/HuhWE5Uw4cIG\n",
       "35Q3hIREIIUIhChH2GT7Hq7NLcXF58/BJDvjFI3gs/jikJsSgRQiEK44QobtXuizBxWX05YUrLGf\n",
       "TnvLQkYikEIEwghHyLNtcy+AHsvasaxlx9JmwhdAU1m87tKeZRU0CHmJQAoJhB+zVOp0EYB7KZRD\n",
       "dtO7RPCQhbx7HQkhIgud7kEA91JckhDIAfjTv96FQvVBkEIEQsy9juOBMkyoLusQKuivY/WqXEdS\n",
       "SHsdo+xdP0PlSrOquMzCELO0dNUgTOIIUYFAC9UjcKUZjhBj/92jicRtjctLfI5VvGCHijB7sFjC\n",
       "EGICgRaqQxBK8/oCnWT7qbZAE51SW6CTaHXkdSuNtak32aZTxkdVmzJsPQLSplQhF+Gt2ke2KdjA\n",
       "emtrKWRizZqaFzaoZi2EiHnhQTey+OPT7Bn6/8gihAgEBv6c3dUObjeY8Sy7jQ5uxn6WGlrCS9lV\n",
       "xBwpwjd7s/WhOz1l3wAAAABJRU5ErkJggg==\n",
       "\" style=\"display:inline;vertical-align:middle;\" /></a></span>"
      ],
      "text/plain": [
       "{x in Real, y in Real} |- floor((x + y) + 1) = (floor(x + y) + 1)"
      ]
     },
     "execution_count": 90,
     "metadata": {},
     "output_type": "execute_result"
    }
   ],
   "source": [
    "# simplifying floor of a sum of some assumed real numbers and an actual integer\n",
    "floor_x_plus_y_plus_1.do_reduced_simplification(assumptions=[InSet(x, Real), InSet(y, Real)])"
   ]
  },
  {
   "cell_type": "markdown",
   "metadata": {},
   "source": [
    "### Round.do_reduced_simplification()"
   ]
  },
  {
   "cell_type": "code",
   "execution_count": 91,
   "metadata": {},
   "outputs": [
    {
     "data": {
      "text/html": [
       "<span style=\"font-size:20px;\"> <a class=\"ProveItLink\" href=\"../__pv_it/demonstrations/572fef897c82c7cd6a1ad5ef2ad7e39db0941d620/proof.ipynb\" style=\"text-decoration: none\">&nbsp;&#x22A2;&nbsp;&nbsp;</a><a class=\"ProveItLink\" href=\"../__pv_it/demonstrations/0699815cf55529fb65587d75064fec095dd81fd10/expr.ipynb\"><img src=\"data:image/png;base64,iVBORw0KGgoAAAANSUhEUgAAAHcAAAAUBAMAAABFd79NAAAAMFBMVEX///+YmJjc3NxmZmYiIiLM\n",
       "zMwQEBCqqqoyMjJERER2dnbu7u5UVFSIiIi6uroAAAA5J+EfAAAAAXRSTlMAQObYZgAAAdtJREFU\n",
       "OMudlM9LFGEYxz/O/pwZd5SkUwfH8Bi04CVKYfEoQXPruoF0CIRF/4AWPOQhcCEIhISBOogozEE8\n",
       "SbtBBy/igniJtvbktZQiaE173vddqWZyafvCy7zP9/kxz4/3faEnxsxnnj6ReV7EreFOrAQM+nGt\n",
       "pntgqELeZwfnDLcaV2q6Bz5FjMAdeAibcaWhL8crmIZZ2PfZjisNfTkWsUqwHLEfkG/HlIb23r9u\n",
       "NSWvg7Z70GQ78jaut6bAun34jUJRG96LcIrJ4Iq2n9hlxtvuScor81HkVeo+R77dwR5WRt53GNAd\n",
       "W1tSWDS+ir6fbngBMzAzlqqyInKVm4H7AJHSFWWVbkCulPixoqO6lJPqwGmUbTKn5VFFpEOyutIJ\n",
       "NfTPCWdF81hWtob1Q2aT+arlXUVIEO2sC086m37cklUPcU5kNoWylo9dISSITnsBy8cr/ar5qXbW\n",
       "NI/UYRomG/ICu3ZN5FzHqVfYzfmqYZmQgt9t2O+HV9OWZEqqwTOY5KgYWmc41at2c+Cuowc0vv7y\n",
       "rRiEMWdDm4TW30l5O635vUBk603F3Tu88UHrls/Pv0A+fgsM3RPTF5st+sfIxWbzP5zt7tlPXsl/\n",
       "gDwGfwTpD91n6MrftT8BrEiKQJ/vsaMAAAAASUVORK5CYII=\n",
       "\" style=\"display:inline;vertical-align:middle;\" /></a></span>"
      ],
      "text/plain": [
       "|- round(2) = 2"
      ]
     },
     "execution_count": 91,
     "metadata": {},
     "output_type": "execute_result"
    }
   ],
   "source": [
    "round_2.do_reduced_simplification()"
   ]
  },
  {
   "cell_type": "code",
   "execution_count": 92,
   "metadata": {},
   "outputs": [
    {
     "data": {
      "text/html": [
       "<a class=\"ProveItLink\" href=\"../__pv_it/demonstrations/dc9aabfbfedbaf6cb00160ad76effe44fc0c7c7a0/expr.ipynb\"><img src=\"data:image/png;base64,iVBORw0KGgoAAAANSUhEUgAAAHMAAAAUBAMAAABMnB83AAAAMFBMVEX///+YmJjc3NxmZmYiIiLM\n",
       "zMwQEBCqqqoyMjJERER2dnbu7u5UVFSIiIi6uroAAAA5J+EfAAAAAXRSTlMAQObYZgAAAdJJREFU\n",
       "OMuVlM9LFGEYxz/O7K+ZaScpPHVoDI9BG14iE8SjBM3N6wYiUQSL/QENFLS3FoJAUBiwk7gwB/Ek\n",
       "7QYRXsQF8RJtzsmrJUXilva8U8SwzL7Se3n4Ps/7ed93nh8D2jU6KLCgo/KvKziNjIAzvuhzwdOx\n",
       "F2uUZEPxUZ9/E/sUJ9ChhxGXZeNa768udv7YCZiHpg59A9NihvrROdjx2NChzzCmstCXETs+pRj3\n",
       "09uu+Jq7sbPbYSNy1651J8G4vfeDciULlXUvwq5gWy+sKmOxc2S6VfZFL9PyOPCsHtZwNuqeiDtg\n",
       "Ntd2fWZgZtQMWBQdcMN37iMqV8tGc21RU0StGEwJ/4wKHR4n+qpy5EIK8T/UrtefP6jX2wk6rsr+\n",
       "BZ6KLTQwfkk18t8TvaUcckQKTd+apECht8S2QuwjqUa5muivjjjkiAEPfoLh4Ur2H6rGGaYQsoTV\n",
       "uCK62LNbNbaKXnaa8iFlT6XJkDditnkFdziohMYpdjBidYbu2qoA8rx+dGx15b0gYXIxrH6Uz9rs\n",
       "Lmz7oo13NWd77/rnJGZ+OL7Z1xJnZ9+g5OtnbjotUi0ha11PqvZPDVuUVs1zUGvgVOqHTm1o/P+h\n",
       "5/5gLsFvznWOTFNjBx8AAAAASUVORK5CYII=\n",
       "\" style=\"display:inline;vertical-align:middle;\" /></a>"
      ],
      "text/plain": [
       "round(1 + 2)"
      ]
     },
     "execution_count": 92,
     "metadata": {},
     "output_type": "execute_result"
    }
   ],
   "source": [
    "round_1_plus_2"
   ]
  },
  {
   "cell_type": "code",
   "execution_count": 93,
   "metadata": {},
   "outputs": [
    {
     "data": {
      "text/html": [
       "<span style=\"font-size:20px;\"> <a class=\"ProveItLink\" href=\"../__pv_it/demonstrations/da4d1ce42120f213b04fd414750f8e9b0359e0ca0/proof.ipynb\" style=\"text-decoration: none\">&nbsp;&#x22A2;&nbsp;&nbsp;</a><a class=\"ProveItLink\" href=\"../__pv_it/demonstrations/a4573ec5d1be6317c91efce9758ff871f897b58f0/expr.ipynb\"><img src=\"data:image/png;base64,iVBORw0KGgoAAAANSUhEUgAAAM0AAAAUBAMAAADco6S9AAAAMFBMVEX///+YmJjc3NxmZmYiIiLM\n",
       "zMwQEBCqqqoyMjJERER2dnbu7u5UVFSIiIi6uroAAAA5J+EfAAAAAXRSTlMAQObYZgAAAhpJREFU\n",
       "SMellc9L22AYx78m/WGSNRaHJw+Lo8fBKl5EJ5QdRTA3rx2IyMaguD/AgoPlMLAwGBQUAnoYYiGH\n",
       "4UnWCiJexIJ4Gav25NWtbCjrpnuSSvfy5m1j6HN5833ezzdP8v4EusZIp46lXuF2RD+moRUEHdpY\n",
       "0cQDw58PAzMxkEM/AfFXXH4X6g20vI8PBTNx6eAhgdvNOx2vttpJYAEo+fhQMBObwHNq+njrPHBs\n",
       "YMfHh4KZWIGUEVlXHRyb6K9zeACsf/tSo1zppK6dVLHj6NuPa1Pkmji9QiItslLMOlDTXJ0AWFXe\n",
       "KVmk6lpD1rM4J72OsoELQ2lCSYqt+m9Ke3P7yXJjxX0MgOciFd3ENDA9IudRJJ3HU1N7AVKRnNga\n",
       "qZDKcP8TADtlGmiZuv84sSpee/qRm4jYiNXbVtWy3i5aVsWzjrnb6ztXJwhedpkCpL+0kKO/PH3o\n",
       "JqgeY2U/0ZuJbnWE8Di1ZRtqgxZyIuvpHxolljsOxRtIBvTM//l532Xc2vBLd+snEbOxBqUwTDre\n",
       "VMs5HMYN8dRGbSSMu3XARAAs0VBBruAD8AwXaVu6gZofUqp9M2pr7SZ4a2prY58sNlcnAG79/9ZX\n",
       "Gt3d2tKRSVray2lHp0/OvD754HqU23q3tz/pNDO5OqFgwVHSDmbrUXzuDfYdjcwR77Cq1BvMzW3H\n",
       "i0Nw1IeC73F1dXppKPi+V/FgSPgfNWTVkVGN9u4AAAAASUVORK5CYII=\n",
       "\" style=\"display:inline;vertical-align:middle;\" /></a></span>"
      ],
      "text/plain": [
       "|- round(1 + 2) = (1 + 2)"
      ]
     },
     "execution_count": 93,
     "metadata": {},
     "output_type": "execute_result"
    }
   ],
   "source": [
    "round_1_plus_2.do_reduced_simplification()"
   ]
  },
  {
   "cell_type": "code",
   "execution_count": 94,
   "metadata": {},
   "outputs": [
    {
     "data": {
      "text/html": [
       "<span style=\"font-size:20px;\"><a class=\"ProveItLink\" href=\"../__pv_it/theorems/37457ae6f2a046fde6b993ab4ab5413aad4b39af0/expr.ipynb\"><img src=\"data:image/png;base64,iVBORw0KGgoAAAANSUhEUgAAADMAAAAPBAMAAAC7N+rPAAAAMFBMVEX///8QEBBmZmaqqqrMzMxE\n",
       "REQyMjIiIiKYmJh2dna6urrc3NxUVFSIiIju7u4AAAA6P00QAAAAAXRSTlMAQObYZgAAANZJREFU\n",
       "GNNjYMAEy+XFEsskGLCBqyoMbAwBWKU0GRgmcy5AEeIILy8D0XoM3AecUGRYYh/AmKwP4kDU2zu7\n",
       "bl4AMZ7BZRh6ORqAJN8Ejlr2BBD/NFyGL+ApiOJ8wPmPawOIhXATjwNYGR8DK0SMRSwNCMDMRVwT\n",
       "IGr4wTYxcCN0JbCCTAMy/B0gAgIwGU6DWQwMjAwMzA/uM/CC3aYLk9rDfYCBQZGBYb1BPMMOsAi7\n",
       "AVQqjvUBw5tWBoY3d99qNECcfHQdmOYSTQwN/BiEEhxcUyEBBQUAa7sxwOkLdCEAAAAASUVORK5C\n",
       "YII=\n",
       "\" style=\"display:inline;vertical-align:middle;\" /></a> <a class=\"ProveItLink\" href=\"../__pv_it/demonstrations/63fbe722069de7e6ccd1183fdb96d5d69b27e8bf0/proof.ipynb\" style=\"text-decoration: none\">&nbsp;&#x22A2;&nbsp;&nbsp;</a><a class=\"ProveItLink\" href=\"../__pv_it/theorems/ecd921d370ac12ff05c3fca4681629d5846dfb090/expr.ipynb\"><img src=\"data:image/png;base64,iVBORw0KGgoAAAANSUhEUgAAAHoAAAAUBAMAAACwiTT9AAAAMFBMVEX///+YmJjc3NxmZmYiIiLM\n",
       "zMwQEBCqqqoyMjJERER2dnbu7u5UVFSIiIi6uroAAAA5J+EfAAAAAXRSTlMAQObYZgAAAbtJREFU\n",
       "OMulVDtIw1AUPSY1bRIb629yMIqjYEcRheIkxaGba10FoXR1sNBBB4eCIAgKGRzED2aQDiKmOrkU\n",
       "AsVFjRaHbmItSIda8b4krRKKED0QknNezs19994X4FeMuvc0fKJ7Owo555Ie1a+9N4VQyyRn/Lpf\n",
       "dQy0yYlf9z4w1yZ5v+4suFibhMod31EeLi2TMiuV5ZKJvK4cj1mzADd9W0c4Sju2rl8obSnq8Tm6\n",
       "JK6LSYyX5RqvJPFEfA+GiooqNiBGgHMMmvNAl122gw2GLHt09MVAQUkgDsRH+Qx2iGcwmZCXQCyQ\n",
       "Ao5wqj8DwZjn246uG7QjvgF86IKJFZuPMCGgQaAlnSKy7lc9bldfo0vIgWtSi7rfbX7DBIoi2KVq\n",
       "dnS7+hRdhgapRi0KJ23+JpNAUVjmYBGpuLHvfW86s2jry2ysIhA07ELMDRMPNiQjhZugyqq2Gq7i\n",
       "vlW1H3B0joXgC9gCZlCJatwnpMyQaHYtSKxNSl2schSE1zyNdnQnpcM72uKFlS4miHNXKbl4O/HI\n",
       "1uTifamPTUvC025X/w3fk3oG//jHKSGIfz+hzJTzhvGF1p+pv/PyF8i6i7YiZENeAAAAAElFTkSu\n",
       "QmCC\n",
       "\" style=\"display:inline;vertical-align:middle;\" /></a></span>"
      ],
      "text/plain": [
       "{x in Integer} |- round(x) = x"
      ]
     },
     "execution_count": 94,
     "metadata": {},
     "output_type": "execute_result"
    }
   ],
   "source": [
    "round_x.do_reduced_simplification(assumptions=[InSet(x, Integer)])"
   ]
  },
  {
   "cell_type": "code",
   "execution_count": 95,
   "metadata": {},
   "outputs": [
    {
     "data": {
      "text/html": [
       "<span style=\"font-size:20px;\"><a class=\"ProveItLink\" href=\"../__pv_it/axioms/02bd6ad73acd9f4d3192ee4c61bfdcabbff20f180/expr.ipynb\"><img src=\"data:image/png;base64,iVBORw0KGgoAAAANSUhEUgAAADQAAAAPBAMAAABZ6/G2AAAAMFBMVEX///8QEBBmZmaqqqrMzMxE\n",
       "REQyMjIiIiKYmJh2dna6urrc3NxUVFSIiIju7u4AAAA6P00QAAAAAXRSTlMAQObYZgAAAMRJREFU\n",
       "GNNjYMAAHIWh3xIjGLACNr4DLBFxWKVYuScwBOxBEWotL0+ASWmzIcu43kPSpc0KZLy9s+vmBSDN\n",
       "l4ds4IE1QJEJHLXsIHN4NiBJMRcBFXI+4PzHBRJlRXKGeHkyyBwG1gCwgGMaEECdMUsB4nb+C2Bq\n",
       "K7LjtVzBLH8HMMWILMX6Aqie+cF9Bt4HQAGmC0hSLAdUGBjWG8Qz7ACLFCMFFMNkHgeGN3ffajSA\n",
       "Rd5EPYAHrwNr2Gfk4FgZDgkoKAAAelg1omM6Y4wAAAAASUVORK5CYII=\n",
       "\" style=\"display:inline;vertical-align:middle;\" /></a>, <a class=\"ProveItLink\" href=\"../__pv_it/demonstrations/0e211c1b90a45e17b96e3a76d1d45f0a3426ba3f0/expr.ipynb\"><img src=\"data:image/png;base64,iVBORw0KGgoAAAANSUhEUgAAADIAAAASBAMAAADrvZC0AAAAMFBMVEX///8iIiKYmJhUVFTMzMxE\n",
       "REQyMjKqqqq6urp2dnYQEBDc3NxmZmaIiIju7u4AAACH5sGpAAAAAXRSTlMAQObYZgAAAOhJREFU\n",
       "GNNjYMAAHFK/0hZmKWBKMPDGODAksGKRYOCZwMBZMANZhClQUAws84BhM8sBJAmW2AdwdhwrkM13\n",
       "5wLDLpDYM4QE0wUlIMnJsYDhPohrjdD+lC8ASG7nSWAIBXEDEDImzBuA5AOuCwx/QdYsSwMCiIcO\n",
       "dILp/gcsX4AUN0IPG0j/PAaGYwy8C0D8BXCZ6ZwNYG4wA6sBiH8WJsFtsBnoKaDMYYZ+cBgxFkBl\n",
       "WB/EMfAZAQ18fPc8yCUMfKZ9EJmusKWh65eCA+EYNIynQkIHBpgT+H4wYAWMCqwXsMtw3D2CXQIA\n",
       "CSg4nSezvQQAAAAASUVORK5CYII=\n",
       "\" style=\"display:inline;vertical-align:middle;\" /></a> <a class=\"ProveItLink\" href=\"../__pv_it/demonstrations/c94f5eb962aff7560278c7b0ad3d366dcdd2a8a00/proof.ipynb\" style=\"text-decoration: none\">&nbsp;&#x22A2;&nbsp;&nbsp;</a><a class=\"ProveItLink\" href=\"../__pv_it/demonstrations/a01ad16f8c1f99432fde49ed430a8112be2c63810/expr.ipynb\"><img src=\"data:image/png;base64,iVBORw0KGgoAAAANSUhEUgAAARkAAAAUBAMAAABL11ROAAAAMFBMVEX///+YmJjc3NxmZmYiIiLM\n",
       "zMwQEBCqqqoyMjJERER2dnbu7u5UVFSIiIi6uroAAAA5J+EfAAAAAXRSTlMAQObYZgAAA99JREFU\n",
       "SMedVk1oU1kU/t5L2vS9a1/jHw7Mwucouqk2LoRSqkYXKjJKcDO4atXNqMwQijuRBn+YLGRwFISC\n",
       "xYfOQtSMbyFl1GpjVwUJPAhVqGYMIl0I0lqQglHxnJvU5L0kd6wXwsu99zvf+e6559x7AWVb03Qm\n",
       "Yi8GLZsebW5KbUBl23I5BnGh+fx43YgKffAIcK+5KbcltkpORxJtCsC/dSMqNOaB081N5WJSKjUz\n",
       "Lpb7N8er7Zle0GC5gswqQYvVmZ7yYTIqNX8DOxVqRH/QYKeCzIwjbNeZ+tWMqNScgR5XqMGfwSSN\n",
       "K8jaYlhXb+pX01aE9eJRgbxk8kWR9zDiWrd/Kmwl6p7JebRTbEVh/G3Gr+bhVujHgesBh4wus5mF\n",
       "bQwSx/FmfCOxYm2mL4k8m77YNOVVTStq2PN6F2YMpvGH0Y91RTEXsvrxkvrDGLMxbRslGFSS97HC\n",
       "2+NX40yjfRb4Qe5AWjZOCUZLNn0/McQkyBnyxBysw7jq4i9y62j7wqmKaVWNKT1DS+GXcNZKYC+w\n",
       "d00ohSHqp9CVEIdAvXASuIU77iufGj3ZDYOK+UQgNoyWbGEH4WtRBrUk90B/j5EouoHd5NY1S5Zd\n",
       "Na2o2SA9IxKHO1YEQiXgo9vq4TfZX80DxNlKUy7jykE4+2s6naUFEqqDhPUF1Eg0s2130fGEQK2e\n",
       "EJ+hzfIALfd3NjXkmSRNb6TTu9Lp8/SPPX+iE44CPshEF6B/opJueS/7EzxAvMwPxvl3iqq1L9FY\n",
       "jWQ7CnR5ZVBkFktSNECqWA3kMqqmp74eJuyZ1VAMMebAnKOSbu+X/XeCBgbLsQfj/Goork/p87om\n",
       "b7KVnWJr8QG4Y1NJP5XQjuiDD6yKdwpyGRXTGjXd0rNFRXmMFUfR6uAKxfFH6kdK5lgSExGb8/Ik\n",
       "5eJzvxojS9BqKi40Rku2d/wh0JDmEuuge2ueAjTAWRxxX6Ldrcti9pyVWazz0kNZXAJ6MR1z9M8w\n",
       "UysNT/vZ5JKz5o3Zr7fdQmyyFjlET/CAo8KSbL0wYgw6YqKriBtaYhgrsg6X9UzyqrxaewJqejFD\n",
       "PkKODA9wc4o2fbQwkEtQX3+cFLnJzv94TuSe55cGdkrk8nP0ORc8/OPlH8zMPwx61jnJW9K5iogP\n",
       "5Ir8f7TwcHO0xnRBzWhhO1VaW0L9Bmh2M1A6QMQXczNwXlVvhnjdWczZe1dtH7gHhVv+TnC9LfLW\n",
       "pNbg1nxQeUukuObUtyYnZsM3wg4MN3wWGLaa7WKzF0U4anj/96Jo+n56m0/Ucn/Ta4vbvTpZCxlX\n",
       "2PINi1G9LbXvf4lqjd0uA74ARcw4Kh2hHKUAAAAASUVORK5CYII=\n",
       "\" style=\"display:inline;vertical-align:middle;\" /></a></span>"
      ],
      "text/plain": [
       "{x in Real, y in Integer} |- round(x + y) = (round(x) + y)"
      ]
     },
     "execution_count": 95,
     "metadata": {},
     "output_type": "execute_result"
    }
   ],
   "source": [
    "round_x_plus_y.do_reduced_simplification(assumptions=[InSet(x, Real), InSet(y, Integer)])"
   ]
  },
  {
   "cell_type": "code",
   "execution_count": 96,
   "metadata": {},
   "outputs": [
    {
     "data": {
      "text/html": [
       "<span style=\"font-size:20px;\"><a class=\"ProveItLink\" href=\"../__pv_it/axioms/02bd6ad73acd9f4d3192ee4c61bfdcabbff20f180/expr.ipynb\"><img src=\"data:image/png;base64,iVBORw0KGgoAAAANSUhEUgAAADQAAAAPBAMAAABZ6/G2AAAAMFBMVEX///8QEBBmZmaqqqrMzMxE\n",
       "REQyMjIiIiKYmJh2dna6urrc3NxUVFSIiIju7u4AAAA6P00QAAAAAXRSTlMAQObYZgAAAMRJREFU\n",
       "GNNjYMAAHIWh3xIjGLACNr4DLBFxWKVYuScwBOxBEWotL0+ASWmzIcu43kPSpc0KZLy9s+vmBSDN\n",
       "l4ds4IE1QJEJHLXsIHN4NiBJMRcBFXI+4PzHBRJlRXKGeHkyyBwG1gCwgGMaEECdMUsB4nb+C2Bq\n",
       "K7LjtVzBLH8HMMWILMX6Aqie+cF9Bt4HQAGmC0hSLAdUGBjWG8Qz7ACLFCMFFMNkHgeGN3ffajSA\n",
       "Rd5EPYAHrwNr2Gfk4FgZDgkoKAAAelg1omM6Y4wAAAAASUVORK5CYII=\n",
       "\" style=\"display:inline;vertical-align:middle;\" /></a> <a class=\"ProveItLink\" href=\"../__pv_it/demonstrations/d071c77a0279cccab7b42ce78ccc728bba06c2bc0/proof.ipynb\" style=\"text-decoration: none\">&nbsp;&#x22A2;&nbsp;&nbsp;</a><a class=\"ProveItLink\" href=\"../__pv_it/demonstrations/64bde2dd3dd56a8417685839bb1d29e5f2000c1a0/expr.ipynb\"><img src=\"data:image/png;base64,iVBORw0KGgoAAAANSUhEUgAAARcAAAAUBAMAAABVHmT9AAAAMFBMVEX///+YmJjc3NxmZmYiIiLM\n",
       "zMwQEBCqqqoyMjJERER2dnbu7u5UVFSIiIi6uroAAAA5J+EfAAAAAXRSTlMAQObYZgAAAw1JREFU\n",
       "SMelVk1oE0EU/rL53d0m1j8QPLgtPQoGetFaIXhRSsG9CV6MICKCEqo3DwarmINorFgsKCzUg1RD\n",
       "F5SiUkwsHgpSGgy9WKNBam+lsVgKxja+2aZtdjJJtvhgyL7vzfvy9v3sDNBQ2uoZ/FotJrU6I+sT\n",
       "WvsauXoHw1CTIsurI4+AiVr8rUOyFv5F1M4hvRa1yY4YAqINagajBbypNdx0SKbGOeM4lLVa1CaL\n",
       "JnbbS5O1ftwmfFEoWX6/K+yULGUnxFHgwhYqlGfAcVEwvghalqBG+f0ezSnZGBfMeWBa20SF0g8p\n",
       "IgomUELLMnCP39/hmCxQsAdz38S0ztDQ1/d5wlK5gprLYswMvWzPH6PJ6JpZQZASr+YnFlJ2X0pC\n",
       "CRjm/y9Ha+HTQr45mRLmCXHKZKgi35Gj6CioS+5QFN9Jf4q0hnlNLkGmWX2HPdmTvO+iAeyznp4n\n",
       "mPSzxwe0jMexweZkrjhPGPpjoac9mZCOHqCnzR3HEOlxHNLVcyDNEwNeYNT8wfv20rrGZ+YETXCs\n",
       "Fz+bk/kjNanOWKiZpgK6Ke1/TV8Wly39AAM8BnxkMomTiZJI3LqYSGSseWJpPssHc4XKoK45IfMW\n",
       "OUJ0VtAbbECSkFZp/LzLlj7JAOLxWY22yjXwencIg4G/6ITMCqaakPWThR6m37QBZYnGLxi19F8q\n",
       "AcTDMgvGaff1h9EOzFX1zN1KmVg5HJCF+DJdhaRZ6CX2fWyFz8ATyMn9pPtLSjqGSb/Geu56sIhZ\n",
       "u+8Z4PNGA1cJa2BicUDGN7DXQFBjqMRidWfwEOjGfNiQ1qDE98pZV6/Chi20Ihc3DsCKr9Qz0k0v\n",
       "0cUHw2b9kO6EzG3Yg+kYGf5ooespG/lCFR3P903ppEsfYurUzMFvzKZOzeZ2ch+9crlMTrf5YOYq\n",
       "qzlZQOc+euXy7y20ngiPg8ppF9nWcWAjey0i3ETrif2gVM0qZZsHpY0sJSJsfFCSyPVfVnCFGHBI\n",
       "Jr4sNL5CsA3JuqaBbV2ubGTiV5SbVLnBtdP1H9fOXUIrof8ADT8/4+SA6UwAAAAASUVORK5CYII=\n",
       "\" style=\"display:inline;vertical-align:middle;\" /></a></span>"
      ],
      "text/plain": [
       "{x in Real} |- round(x + 2) = (round(x) + 2)"
      ]
     },
     "execution_count": 96,
     "metadata": {},
     "output_type": "execute_result"
    }
   ],
   "source": [
    "round_x_plus_2.do_reduced_simplification(assumptions=[InSet(x, Real)])"
   ]
  },
  {
   "cell_type": "code",
   "execution_count": 97,
   "metadata": {},
   "outputs": [
    {
     "data": {
      "text/html": [
       "<span style=\"font-size:20px;\"><a class=\"ProveItLink\" href=\"../__pv_it/demonstrations/5ba002d56b86652bc0bea76818692619a67f81b50/expr.ipynb\"><img src=\"data:image/png;base64,iVBORw0KGgoAAAANSUhEUgAAAGcAAAAUBAMAAABi2T6lAAAAMFBMVEX////MzMxUVFR2dna6uroQ\n",
       "EBCqqqqIiIgiIiJmZmYyMjJERETu7u6YmJjc3NwAAACgK8IjAAAAAXRSTlMAQObYZgAAAZxJREFU\n",
       "OMtjYOC7wIAL5OGUOY1ThoHpASr/RvT+VdFgO9bh1sSzAE1gwSEG6dsHGBh4J6AIp6PwzNE0bXjM\n",
       "wM2nwMDA8QCPpqMQindHRxdME+cDoPUvGPBo4nIAkYzbDyBs4nywgYGhEsg+XvSkuABFE09lAcPT\n",
       "AwzMYLefOoDkPCYWoPP2AlUY8LZzLEDRxMwSwFAPdBdYVA/ZTxmzgEa0AVUcYP7D8gBF0zPOBQy7\n",
       "GRjYGsBKEZqednQlAOkQoE0M3BBxq1WrWletWgRkHWAtYPgO9M0HkJeiVgEB1CZP7gMQTQwM/AXo\n",
       "AeF/gPEjVBMfkk2POR1BvDYQR14AXdMsBvYABgYWsPMCkP205zoDOCDYDtQzsB9A1bSJgVsBFhDT\n",
       "kTUJcQItsAQ6JWE/w1s0myYx+AMTGacBiM2RgJSMmBMUGRg8GBgOlR+fewFN06Hy+cDw5AI7m0fb\n",
       "B55gFzLsXp+AOxnNAuITECaLNTQZwQBagj0DzRQLeL5gSbBwsA+bIMcF7gIsWQN/JmQpnwgkuR/g\n",
       "0oQnu9/DIQ4As8N7grbelmcAAAAASUVORK5CYII=\n",
       "\" style=\"display:inline;vertical-align:middle;\" /></a> <a class=\"ProveItLink\" href=\"../__pv_it/demonstrations/ee3a723262f2f6dd50a38170b6b62bd9c33402a90/proof.ipynb\" style=\"text-decoration: none\">&nbsp;&#x22A2;&nbsp;&nbsp;</a><a class=\"ProveItLink\" href=\"../__pv_it/demonstrations/fcd7497f993233e6ed163d0e081849364e3e94610/expr.ipynb\"><img src=\"data:image/png;base64,iVBORw0KGgoAAAANSUhEUgAAAdgAAAAUBAMAAADcqjHRAAAAMFBMVEX///+YmJjc3NxmZmYiIiLM\n",
       "zMwQEBCqqqoyMjJERER2dnbu7u5UVFSIiIi6uroAAAA5J+EfAAAAAXRSTlMAQObYZgAABXxJREFU\n",
       "WMOdWF1oHFUU/vYnu9mZ7GRtKhZ8cFqDvkSzpQgxpnbtgy0h6uKL6EuiFVGDZYl9E8liLe5DaWPE\n",
       "YsDQxfhQ0sYMWEI0iVmDSKAsHVyi0HbtIpoHISQGQ6RrE8+9M7M7s7kz2XrhsnPPfPf7zrlzf85d\n",
       "wLPsN6u4DIg7iEpYFeM92Hnxx+DFWCfXgBhfLQ0X4pCHwKtLadrRXwj++slPgQUh3osdL58AvnF/\n",
       "vVAXl3xoJGkIL3gNanMKjQRqdB8ROV1rYeBwfw0qh8kSpoV4L3ZgE/jA/e10PeKYhbRlCE97Bbuq\n",
       "oYV+WhzG9x2tCWtK6eYDgWevlJ3WgIZQHyTdhq+WFg8HlDJ8ccfM1e0tSa/xSSSOp4A3DGFJ99D6\n",
       "EjgKo7oFO1XrBQP7avRCCTStQ+6z4avlqIcDUgJB1T1Yzmj3SSSO14HrKheu4EXlNPwJ8OoabGPJ\n",
       "yczBtXqNZTRtAOds+Or+k/BwoDGOVrgHyxltPgnFcV7D9aQhfA7Kre+KZJ8olOSCjilNuXKgeJh6\n",
       "di5tIkqTiFW5uLAy4SBm2Ec0SHEnMwPv1AOCZBpj3ypeEw/rsHJtpUivik9j7jDkfvy58Bix4+GJ\n",
       "3hQKhJm79fgN3UFIOH+/wWjzyU0cL5iOjkGKfBTpQ2tJXg8ofbhN7VHMq1hWI2VEaN9n9Vvs1Y87\n",
       "iCWOhS/tZGZgkd5qFtgHC38pw8ppq0P2s9QF+J8n1fgyomvIjujyOpTXcFHDxzSuWd9zwbSDMMtx\n",
       "nNHmk5u4cscU3oeXgjkliW6ge38gjRFqp9GelF8FtYIp8HoZk9pvDuJHORbhhJOZgUV6PVRPoYqv\n",
       "FOrQkOrBHwhmEfwi1oHIUEPqOPwbmIqhAzhG46pJZUW1E/pTDGcw2nxyEw/mTOFT0OZpOgcI8q8W\n",
       "0vEObz/EDCQfolesaiww45M8m8mcpSeGvUtn8Rr7ypnMh29mMjkYYFPPZkWATaJemHh7oQ6yvEUP\n",
       "RzQ0XyP5kM7avjVmoC9wkr4sD8xOKBOuWTcYbT65iOOQJUz4QYYbgv8unTUNG7y9yAwUtBUsWGDO\n",
       "DcrAWs5bw2jTsw8uW3muwSLMjG8B7TqdNb1J1m5Kk4ENwkl+4Os1hAbOCLbqk4s4X8pWsDRZMJ+F\n",
       "tE5nTbSPt/+SyTCIyjQGC8wZbAfHKnVN43AcB4DfYeGNNXvW6kArAjKtq0mVzpqfebs5NnOHD8Ix\n",
       "PkzJGkJCEI4z7j6N34VfNYQJ/zYbuxhCWXxOE+ZBaofL0nwKi2HV2qDeo+3gpjNYwubq3aBeAX6y\n",
       "b1C2wjqQMo0vc4QoR3watQe1y5v0eQfYBhXWbiOqOWVypF/nBtWQRVS1Nig/+2iBHD4BurAcz/q3\n",
       "IKXvj+i+Holv2FSVzcialZBbwXZhlSyBrJOZ7/DRGj1/93gXDWwnqvhq3kAd2pOcLxInN5QTEtpL\n",
       "uORLjmJvLstOl9XURSvDr3zZnEKDwxntJ4RIHK3jYz+Ywp3mzBq/QRN+tjiQT1Lb/31Kzi+1/crf\n",
       "UZXzNwv31Uzj2eIRljcnaxYTdQj8+M9BZ1Kxvb1N9jOo4qsZYcKcjdLEVzSZ87+0LbF22wMk8GK+\n",
       "xJ5ni3MHY04ZOV9Yh8Fo80kojvPb23+bwme8L1he6SJb61dF6aI44ZETNnx96SJbhy7pIl/nCUG6\n",
       "6JJtXYUN71J2XgRmzMtdmh8YVmIva6K8vmKtpO33dhFgSzAuIlxkR0U1sZ/ZVXz3iwBb86pRd454\n",
       "LKKLrmwR1etCJrjiRVRvD4ZFxmcwKrqyuXPtfsUzr8PCK7FSfELI7n4XHxZ743V5Z0V4eV8pJEXj\n",
       "4M7FhYd3CXaXv2X21P8vi08V4///3zK+e/hbZo+B/w9bI+K9R299BwAAAABJRU5ErkJggg==\n",
       "\" style=\"display:inline;vertical-align:middle;\" /></a></span>"
      ],
      "text/plain": [
       "{(x + y) in Real} |- round((x + y) + (1 + 2)) = (round(x + y) + (1 + 2))"
      ]
     },
     "execution_count": 97,
     "metadata": {},
     "output_type": "execute_result"
    }
   ],
   "source": [
    "round_add_add.do_reduced_simplification(assumptions=[InSet(Add(x,y), Real)])"
   ]
  },
  {
   "cell_type": "markdown",
   "metadata": {},
   "source": [
    "## The Expr.simplification() method"
   ]
  },
  {
   "cell_type": "markdown",
   "metadata": {},
   "source": [
    "### Ceil.simplification()"
   ]
  },
  {
   "cell_type": "code",
   "execution_count": 98,
   "metadata": {},
   "outputs": [
    {
     "data": {
      "text/html": [
       "<span style=\"font-size:20px;\"> <a class=\"ProveItLink\" href=\"../__pv_it/demonstrations/9341cb4d3e47aacf64edb4e8bcce0bdd18a881270/proof.ipynb\" style=\"text-decoration: none\">&nbsp;&#x22A2;&nbsp;&nbsp;</a><a class=\"ProveItLink\" href=\"../__pv_it/demonstrations/7908b66fddd361507c9c898ff1ccfbb04c5d9c290/expr.ipynb\"><img src=\"data:image/png;base64,iVBORw0KGgoAAAANSUhEUgAAAEAAAAAVBAMAAAAEBPWpAAAALVBMVEX///+qqqqIiIgiIiIQEBC6\n",
       "urrMzMxmZmZ2dnbc3NxUVFQyMjJERETu7u4AAAAp5osHAAAAAXRSTlMAQObYZgAAALpJREFUKM9j\n",
       "uLN7FwMIzN69gwErmAVn3cat4HrNMSDJjSEHFgcq4F3A0BeARQFEHKiA/QIDiwMWBRBxoAIWAwau\n",
       "l1gUQMSBCrjfMnA9w6IAIg7xBfNbbI4Ei0MUxDXAFHDsBoMCBpg4RIEVA3YTrKABxV6AXQFIHKxA\n",
       "nQG7AnVoSDIWMMxEc8MCBpg4SEEGA4MmNhPA4kAFnBYdVQZYFEDEQQH17t07bAog4ojo5iaUHmim\n",
       "4AacxYVVHgD5jj1DV6kJfAAAAABJRU5ErkJggg==\n",
       "\" style=\"display:inline;vertical-align:middle;\" /></a></span>"
      ],
      "text/plain": [
       "|- ceil(2) = 2"
      ]
     },
     "execution_count": 98,
     "metadata": {},
     "output_type": "execute_result"
    }
   ],
   "source": [
    "# simplifying ceiling of an integer\n",
    "ceil_2.simplification()"
   ]
  },
  {
   "cell_type": "code",
   "execution_count": 99,
   "metadata": {},
   "outputs": [
    {
     "data": {
      "text/html": [
       "<span style=\"font-size:20px;\"><a class=\"ProveItLink\" href=\"../__pv_it/demonstrations/1bc32f7119a8f86109edf3842e1d2853fd5a3d750/expr.ipynb\"><img src=\"data:image/png;base64,iVBORw0KGgoAAAANSUhEUgAAAGYAAAAUBAMAAACNG1WbAAAAMFBMVEX////MzMxUVFR2dna6uroQ\n",
       "EBCqqqqIiIgiIiJmZmYyMjJERETu7u6YmJjc3NwAAACgK8IjAAAAAXRSTlMAQObYZgAAAYdJREFU\n",
       "OMtjYOC7wIADsD3AJXOaASfQQ+OztH5dFbEUaMc63HpOofHZdwowLOBmYOCdgFsPcwEqn9OAgTnB\n",
       "hIGB4wFuPTwBEJp3R0cXWM8BhkeMQDteMOABS8Ak4/YDcJE93EB2JZBxvOhJMaozjk9n4IthYLCE\n",
       "eAuhhbfgLpDcC3SCAW87xwIUPQauDOwfGBhuoQffaZ4NQLIN6NUDzH9YULzFlzCLgRsomwHmbUBI\n",
       "KDKB1IUA7QHLgxyxCgQWgkTCGfiBrpUHeycKJAqJoAnODBA9DGB51Nj7wyAvANXDh7CHC2SnDcht\n",
       "DGB51JhYwFAKpDzAnAC4sBmzA4gLDAO2A/UM7AdQ9HArMGxigIXBdLg3FR4BjQsABad/wn6Gt2j2\n",
       "KLD8BVKTwRyOBJhJB/Yw8OhuAFl/qPz4XLTEzaNe+Q9ILYRwtH0goq67onfHR0/AmXaAPmLgaYCG\n",
       "iDUk7cBjFmsa1WI474CZRuFgHzbBXobtWPIC/jznXimAyzhwAOLM27w4vAoAyRRg7pMkb94AAAAA\n",
       "SUVORK5CYII=\n",
       "\" style=\"display:inline;vertical-align:middle;\" /></a> <a class=\"ProveItLink\" href=\"../__pv_it/demonstrations/7999eb07c042d4d7d527afbab52ab5bc6edb67f70/proof.ipynb\" style=\"text-decoration: none\">&nbsp;&#x22A2;&nbsp;&nbsp;</a><a class=\"ProveItLink\" href=\"../__pv_it/demonstrations/dc2b8a55096c95fb4f5e5950ac928eb87873f02d0/expr.ipynb\"><img src=\"data:image/png;base64,iVBORw0KGgoAAAANSUhEUgAAANoAAAAVBAMAAADSje2JAAAAMFBMVEX///8QEBBmZmaqqqrMzMwi\n",
       "IiKYmJi6urqIiIh2dnbc3NxUVFQyMjJERETu7u4AAADasDZTAAAAAXRSTlMAQObYZgAAAmFJREFU\n",
       "SMellr9v00AUx1+TJo7T2u0WBoQyIFREJLIgIab8Bw2qhBBTxIgYyhCJLcZTEEOjTAwMRhUwsHhE\n",
       "iMFDEVK5galCrRBmQApqCx0QIIaq784+++58R6PwpK/ts973PvfbhkPyHqaMOiEj+L94aaq6J5ev\n",
       "0YsbnZqXxnO5WA4SmWiHSnkhoNfo1Lwk3A/Ki9eJTLRt1R/padta92KgvDhIpNCupvdqU63gsZYm\n",
       "55W99OG2mmd7TAZaRW0cfNHS5LyMdqswtMtMBtqz4uCs62hyHqfVuwX7OyZKmzx68dCTab7QLN+D\n",
       "pzHYTR3Nl+ycVhPGd7IC9XMAY6BCmjuq3qxEMm1HGHJrGTZwhiJOswmLZpon2DnNEbbF6B7UjgDu\n",
       "AhXS7Ng+tgKZtpanb5Yi+IQ1dXV9W5PsnFZp5/ux3QIH98MVoKJ9Y0WMJ4RcJ8nZ0sDXSRc68ZwH\n",
       "fwDmj3S0Rm7HLr89S0iIj3M4xwfMveXCGVjCRqwCFVslS566ShpCjYN4/uc/aIKd943SeFjHsNqR\n",
       "aLRoHEloQQ3Xr9VV5i3M8jK7ZiQB5+EB3vpMSCvHG1CLjasE9sAJxVUixo5k160S9O6BsEoG7c/Z\n",
       "KcppY6HGSzBAd2mko40lO6fZwg4ohdYvvF1kQtr+cHKhp9D6Qo37w8u45BY7OlpfsnOaJexu95X/\n",
       "F29bTFOdXC3U15lPLpw5cLtMCu178bRdiNzfU57Kblw8ld/Aj3XTqZzFbt78nuOZvzi7WreTd/kG\n",
       "fDR+cTRfSWt4PvPP8DW973fSRqG+TfmncIddwxn/FKoB0wlaE9IyeYCbmgAAAABJRU5ErkJggg==\n",
       "\" style=\"display:inline;vertical-align:middle;\" /></a></span>"
      ],
      "text/plain": [
       "{(x - y) in Integer} |- ceil(x + (-y)) = (x + (-y))"
      ]
     },
     "execution_count": 99,
     "metadata": {},
     "output_type": "execute_result"
    }
   ],
   "source": [
    "# simplifying ceiling of expression assumed to be an integer\n",
    "ceil_x_minus_y.simplification(assumptions=[InSet(subtract(x, y), Integer)])"
   ]
  },
  {
   "cell_type": "code",
   "execution_count": 100,
   "metadata": {},
   "outputs": [],
   "source": [
    "# from proveit.logic.sets import SubsetEq\n",
    "# from proveit.numbers import NaturalPos\n",
    "# SubsetEq(NaturalPos, Integer).proven()"
   ]
  },
  {
   "cell_type": "code",
   "execution_count": 101,
   "metadata": {},
   "outputs": [
    {
     "data": {
      "text/html": [
       "<span style=\"font-size:20px;\"><a class=\"ProveItLink\" href=\"../__pv_it/axioms/02bd6ad73acd9f4d3192ee4c61bfdcabbff20f180/expr.ipynb\"><img src=\"data:image/png;base64,iVBORw0KGgoAAAANSUhEUgAAADQAAAAPBAMAAABZ6/G2AAAAMFBMVEX///8QEBBmZmaqqqrMzMxE\n",
       "REQyMjIiIiKYmJh2dna6urrc3NxUVFSIiIju7u4AAAA6P00QAAAAAXRSTlMAQObYZgAAAMRJREFU\n",
       "GNNjYMAAHIWh3xIjGLACNr4DLBFxWKVYuScwBOxBEWotL0+ASWmzIcu43kPSpc0KZLy9s+vmBSDN\n",
       "l4ds4IE1QJEJHLXsIHN4NiBJMRcBFXI+4PzHBRJlRXKGeHkyyBwG1gCwgGMaEECdMUsB4nb+C2Bq\n",
       "K7LjtVzBLH8HMMWILMX6Aqie+cF9Bt4HQAGmC0hSLAdUGBjWG8Qz7ACLFCMFFMNkHgeGN3ffajSA\n",
       "Rd5EPYAHrwNr2Gfk4FgZDgkoKAAAelg1omM6Y4wAAAAASUVORK5CYII=\n",
       "\" style=\"display:inline;vertical-align:middle;\" /></a>, <a class=\"ProveItLink\" href=\"../__pv_it/demonstrations/0e211c1b90a45e17b96e3a76d1d45f0a3426ba3f0/expr.ipynb\"><img src=\"data:image/png;base64,iVBORw0KGgoAAAANSUhEUgAAADIAAAASBAMAAADrvZC0AAAAMFBMVEX///8iIiKYmJhUVFTMzMxE\n",
       "REQyMjKqqqq6urp2dnYQEBDc3NxmZmaIiIju7u4AAACH5sGpAAAAAXRSTlMAQObYZgAAAOhJREFU\n",
       "GNNjYMAAHFK/0hZmKWBKMPDGODAksGKRYOCZwMBZMANZhClQUAws84BhM8sBJAmW2AdwdhwrkM13\n",
       "5wLDLpDYM4QE0wUlIMnJsYDhPohrjdD+lC8ASG7nSWAIBXEDEDImzBuA5AOuCwx/QdYsSwMCiIcO\n",
       "dILp/gcsX4AUN0IPG0j/PAaGYwy8C0D8BXCZ6ZwNYG4wA6sBiH8WJsFtsBnoKaDMYYZ+cBgxFkBl\n",
       "WB/EMfAZAQ18fPc8yCUMfKZ9EJmusKWh65eCA+EYNIynQkIHBpgT+H4wYAWMCqwXsMtw3D2CXQIA\n",
       "CSg4nSezvQQAAAAASUVORK5CYII=\n",
       "\" style=\"display:inline;vertical-align:middle;\" /></a> <a class=\"ProveItLink\" href=\"../__pv_it/demonstrations/5f3d44c4bbcb026863c1cb17ef3db229a8c3a5a90/proof.ipynb\" style=\"text-decoration: none\">&nbsp;&#x22A2;&nbsp;&nbsp;</a><a class=\"ProveItLink\" href=\"../__pv_it/demonstrations/b907fa31616497f1323258090e1544ce71786ce10/expr.ipynb\"><img src=\"data:image/png;base64,iVBORw0KGgoAAAANSUhEUgAAAOwAAAAVBAMAAAC3YB/2AAAAMFBMVEX///8QEBBmZmaqqqrMzMwi\n",
       "IiKYmJi6urqIiIh2dnbc3NxUVFQyMjJERETu7u4AAADasDZTAAAAAXRSTlMAQObYZgAAAlZJREFU\n",
       "SMellr9r1GAYxx/v2sslmreODkVuEoUOtwjiIPcf9LpIKR0OQQdxqINQXIw3VYR6OHUQm0mHLhlL\n",
       "6ZCh0qHv0LH4A+MgXLHqgSLiUPo+T9Ikl/d5Lyd94ZuQ8OT7Sd73eZ8n8F3uwZjDkbLH3RcfZTAy\n",
       "gBkbhvtvCtc3CRBycU6QvUFY4lP1YxmwYr9w47yPx5CLy2G1AM1nK5YBe8EvPh+yWIwbhdV8jmIV\n",
       "sDeS8x3tRdZYLMYx2Kpn8rE9kgG7oGG/sNiFEqzmIy6SeKzT1qd9icFS3Ags47NLQmz/+dtn3hC2\n",
       "3sji+lfBuaxmpsFgKQ6xYmVreU3HMj4vAaWwolebnwyHsG4nC+89hPoAoBaeutqSRuM0DrGHcNdb\n",
       "1LGMzwNAKawd2ceWP4SdbGbz2JwBV22Dapv5WopD7GtYjx7rWMbnOqDwa+lSjVdSzkmqWufUQh7R\n",
       "N+0IuARTymViwGAxjrARfErXVs3Gu2lJlYvxmQUUpdSUV0gpskuGdQyzrTIswF8upRifHBYvTZMM\n",
       "lRCe4lPtwtoG+UmGid8clvF5RFLYavQC6pExpdwAPkA+pXIjTalbKltWR6dU4pOm1JPm57RiJ1g7\n",
       "l/iVwPqDpx6DtZMNZP1yB05HxzI+10gK+22lf6UzjLVy21xsdv9huWgxWCspF2JztXuPmWTGZ4c0\n",
       "TnGsoNnXsxdH9BFtUgH7Qy/h2/Bz6X9bgYhMPnwrSNc/a1i34cDc+NySxqf58I2Pac/L3Vb6/Fna\n",
       "fOzzPtbhmD819+kYcHEi9wMVlPjUfNIJspjxr5xu18sAAAAASUVORK5CYII=\n",
       "\" style=\"display:inline;vertical-align:middle;\" /></a></span>"
      ],
      "text/plain": [
       "{x in Real, y in Integer} |- ceil(x + (-y)) = (ceil(x) + (-y))"
      ]
     },
     "execution_count": 101,
     "metadata": {},
     "output_type": "execute_result"
    }
   ],
   "source": [
    "# simplifying ceiling of a sum of an assumed real and an assumed integer\n",
    "ceil_x_minus_y.simplification(assumptions=[InSet(x, Real), InSet(y, Integer)])"
   ]
  },
  {
   "cell_type": "code",
   "execution_count": 102,
   "metadata": {},
   "outputs": [
    {
     "data": {
      "text/html": [
       "<span style=\"font-size:20px;\"><a class=\"ProveItLink\" href=\"../__pv_it/axioms/02bd6ad73acd9f4d3192ee4c61bfdcabbff20f180/expr.ipynb\"><img src=\"data:image/png;base64,iVBORw0KGgoAAAANSUhEUgAAADQAAAAPBAMAAABZ6/G2AAAAMFBMVEX///8QEBBmZmaqqqrMzMxE\n",
       "REQyMjIiIiKYmJh2dna6urrc3NxUVFSIiIju7u4AAAA6P00QAAAAAXRSTlMAQObYZgAAAMRJREFU\n",
       "GNNjYMAAHIWh3xIjGLACNr4DLBFxWKVYuScwBOxBEWotL0+ASWmzIcu43kPSpc0KZLy9s+vmBSDN\n",
       "l4ds4IE1QJEJHLXsIHN4NiBJMRcBFXI+4PzHBRJlRXKGeHkyyBwG1gCwgGMaEECdMUsB4nb+C2Bq\n",
       "K7LjtVzBLH8HMMWILMX6Aqie+cF9Bt4HQAGmC0hSLAdUGBjWG8Qz7ACLFCMFFMNkHgeGN3ffajSA\n",
       "Rd5EPYAHrwNr2Gfk4FgZDgkoKAAAelg1omM6Y4wAAAAASUVORK5CYII=\n",
       "\" style=\"display:inline;vertical-align:middle;\" /></a>, <a class=\"ProveItLink\" href=\"../__pv_it/demonstrations/0e211c1b90a45e17b96e3a76d1d45f0a3426ba3f0/expr.ipynb\"><img src=\"data:image/png;base64,iVBORw0KGgoAAAANSUhEUgAAADIAAAASBAMAAADrvZC0AAAAMFBMVEX///8iIiKYmJhUVFTMzMxE\n",
       "REQyMjKqqqq6urp2dnYQEBDc3NxmZmaIiIju7u4AAACH5sGpAAAAAXRSTlMAQObYZgAAAOhJREFU\n",
       "GNNjYMAAHFK/0hZmKWBKMPDGODAksGKRYOCZwMBZMANZhClQUAws84BhM8sBJAmW2AdwdhwrkM13\n",
       "5wLDLpDYM4QE0wUlIMnJsYDhPohrjdD+lC8ASG7nSWAIBXEDEDImzBuA5AOuCwx/QdYsSwMCiIcO\n",
       "dILp/gcsX4AUN0IPG0j/PAaGYwy8C0D8BXCZ6ZwNYG4wA6sBiH8WJsFtsBnoKaDMYYZ+cBgxFkBl\n",
       "WB/EMfAZAQ18fPc8yCUMfKZ9EJmusKWh65eCA+EYNIynQkIHBpgT+H4wYAWMCqwXsMtw3D2CXQIA\n",
       "CSg4nSezvQQAAAAASUVORK5CYII=\n",
       "\" style=\"display:inline;vertical-align:middle;\" /></a> <a class=\"ProveItLink\" href=\"../__pv_it/demonstrations/5e40358720923d3acc9a24728a030afe2ad1ba980/proof.ipynb\" style=\"text-decoration: none\">&nbsp;&#x22A2;&nbsp;&nbsp;</a><a class=\"ProveItLink\" href=\"../__pv_it/demonstrations/bfe4393f869f4212d94bc85fcf85d60fb000d16b0/expr.ipynb\"><img src=\"data:image/png;base64,iVBORw0KGgoAAAANSUhEUgAAATQAAAAVBAMAAAA6KA+LAAAAMFBMVEX////MzMy6uroQEBCqqqqI\n",
       "iIgiIiJmZmaYmJh2dnbc3NxUVFQyMjJERETu7u4AAAAjuzXOAAAAAXRSTlMAQObYZgAAAyxJREFU\n",
       "SMeVlk1oE0EUx183X90ku+bqqQGx1xTBm0gv9uApICWohwasoPUSD4KlFXsrSA+5SBEEg4oU6yEX\n",
       "L8VD0oOi3YMeBLGICxKl9MNWEMRD6nuzs3Zn9u0uGXjZ5L2Zf347M2/ewK6zAQO3F85b1v9fLKrD\n",
       "QG2VPvILkfHzvHsn7FqRYlEdVqQFWrrFaZOXTKjtRqMX9NE/7nzAz2Koo/1eQStycTKlrQGnvuZF\n",
       "hNq7aDS7o/1uw6Myh1ZsxaNRvNhKmHxPfceLkNpwI2bF78vnOe+RcyE1xqEtAouWrgbii/ogs8qp\n",
       "kxeN1LKtGLRv6uBUHQp/ObSZBLQZaeosjXHq5EUjtWdxeVIsK4OLfSgcMGj5ejwaxUUfta0Dp74u\n",
       "IqRWQ+tdfnyxqr5RrQpPXDAbymCa5D6DlmlINCmko1E8E9g4vVuQPwuwDJw6eZeF2ifkaA5fzao7\n",
       "3jTGYAo3YkcfXGn6//zQofaGvloLHpovpKNR3AqcUc0TkNkHWAJOnbxLAm0aOVyzb6hb7mmuA19Q\n",
       "u64PvsElYHbcQ/OFdDSKiz5yfcfnwcKjZAI49QlhhHYKX1Z0pKQVE9HFb26qCr8Bhva96bniyKM+\n",
       "1+DQUmU5a1JIdDAd5/UZx2nLOJnUt+E0HEPqEeDUR4RJNBAd1VZxhw4kWvC9ahCH5gvps+aj+c3o\n",
       "w0hJooXUj9Cmxc+S/m/zkMEsNrQFTTfgubrXNoIL6gslLCjgbrmAj1Hg1EdFRKZB2p2CjKuibYLV\n",
       "DqfBcYBLzKz5aeALJaUBSm9COA089aM0wFytjH/Vay/MQQW1ck1lcP76g7k6g2bKw8MX0tEobgYO\n",
       "j1zb+IOPWeDUZ0Vk1ZvV7cnebf36sT15l1KtpB6Kh4eHHJohj1xfSEejuBE4cu2XNSwq0AVOvSsi\n",
       "sYVqHu17KL3ZNBi8UOFuA7vOqZMXLbq8Fzr2r0B530tAiyjvtsuX91fwsxwo73t60ZflHT5zaNkF\n",
       "qxq+FEWiWQmXIopbR8tzDT7yN1Lp3Ym7ShqTN0FRi0cb8Cp5slaKmhPhRdtKuIDfi7j8shfwrbgO\n",
       "zAV8mH1v8qL9A3qUF1FNYE+JAAAAAElFTkSuQmCC\n",
       "\" style=\"display:inline;vertical-align:middle;\" /></a></span>"
      ],
      "text/plain": [
       "{x in Real, y in Integer} |- ceil((x - y) + 2) = (ceil(x) + ((-y) + 2))"
      ]
     },
     "execution_count": 102,
     "metadata": {},
     "output_type": "execute_result"
    }
   ],
   "source": [
    "# simplifying ceiling of sum of an assumed real,\n",
    "# as assumed integer, and an actual integer\n",
    "ceil_x_minus_y_plus_2.simplification(assumptions=[InSet(x, Real), InSet(y, Integer)])"
   ]
  },
  {
   "cell_type": "markdown",
   "metadata": {},
   "source": [
    "### Floor.simplification()"
   ]
  },
  {
   "cell_type": "code",
   "execution_count": 103,
   "metadata": {},
   "outputs": [
    {
     "data": {
      "text/html": [
       "<a class=\"ProveItLink\" href=\"../__pv_it/demonstrations/5603b58563000caaccf3d5ef0370d7e4887124600/expr.ipynb\"><img src=\"data:image/png;base64,iVBORw0KGgoAAAANSUhEUgAAAHAAAAAVBAMAAABs93eRAAAAMFBMVEX////MzMx2dna6urqqqqqI\n",
       "iIhmZmYyMjJEREQiIiIQEBBUVFTc3NyYmJju7u4AAACf0+qcAAAAAXRSTlMAQObYZgAAAVNJREFU\n",
       "OMtjeMtAFmBlOA2ieC7gVOGDXZgdovEFbqO5D+DTWINbI18BuojXA7hG3gQUGVcUniqUZgmAGLRp\n",
       "P0Ij5wE8Gl+hamRguI/QeJIBj0Z2A9waw0BOCN1jqoqikS8sgOHUAwamBNwae4H4EcPNgOkoGpmY\n",
       "FzDEAwOgALfGKUCsx6D/wAZF4xG2AoYOoIYJuDUuBuIHIEVAoF5ePqu8vBokwhXA8JWBgfEDyPby\n",
       "8srl5eUbsGhkAClCDRz7B4wfoRrxOJUBpAhVYzoD6wIGBuYJ+APHj/UDQxyqxm4Gjg34A0cNaO4X\n",
       "jg+wpA7TmM1gDxRhU0DTGI/QaAmMtK1xYXfRnPo6NB+YpNgFUDVmry+7QDDJpQPxS/Qkh5Q70BL5\n",
       "O2iGKuD7jJTI+R5gyVY92DIU5wWOAGzZimBGZg5NBJIcuDLyq5mz8RYdd7AJHp85AwDScHUHP4pp\n",
       "RQAAAABJRU5ErkJggg==\n",
       "\" style=\"display:inline;vertical-align:middle;\" /></a>"
      ],
      "text/plain": [
       "floor((x + y) + 1)"
      ]
     },
     "execution_count": 103,
     "metadata": {},
     "output_type": "execute_result"
    }
   ],
   "source": [
    "floor_x_plus_y_plus_1"
   ]
  },
  {
   "cell_type": "code",
   "execution_count": 104,
   "metadata": {},
   "outputs": [
    {
     "data": {
      "text/html": [
       "<span style=\"font-size:20px;\"><a class=\"ProveItLink\" href=\"../__pv_it/axioms/02bd6ad73acd9f4d3192ee4c61bfdcabbff20f180/expr.ipynb\"><img src=\"data:image/png;base64,iVBORw0KGgoAAAANSUhEUgAAADQAAAAPBAMAAABZ6/G2AAAAMFBMVEX///8QEBBmZmaqqqrMzMxE\n",
       "REQyMjIiIiKYmJh2dna6urrc3NxUVFSIiIju7u4AAAA6P00QAAAAAXRSTlMAQObYZgAAAMRJREFU\n",
       "GNNjYMAAHIWh3xIjGLACNr4DLBFxWKVYuScwBOxBEWotL0+ASWmzIcu43kPSpc0KZLy9s+vmBSDN\n",
       "l4ds4IE1QJEJHLXsIHN4NiBJMRcBFXI+4PzHBRJlRXKGeHkyyBwG1gCwgGMaEECdMUsB4nb+C2Bq\n",
       "K7LjtVzBLH8HMMWILMX6Aqie+cF9Bt4HQAGmC0hSLAdUGBjWG8Qz7ACLFCMFFMNkHgeGN3ffajSA\n",
       "Rd5EPYAHrwNr2Gfk4FgZDgkoKAAAelg1omM6Y4wAAAAASUVORK5CYII=\n",
       "\" style=\"display:inline;vertical-align:middle;\" /></a>, <a class=\"ProveItLink\" href=\"../__pv_it/theorems/0886f5b6aacf5197ba709a53d4f3243edcc3de560/expr.ipynb\"><img src=\"data:image/png;base64,iVBORw0KGgoAAAANSUhEUgAAADMAAAASBAMAAAAEf/uKAAAAMFBMVEX///8iIiKYmJhUVFTMzMxE\n",
       "REQyMjKqqqq6urp2dnYQEBDc3NxmZmaIiIju7u4AAACH5sGpAAAAAXRSTlMAQObYZgAAAN1JREFU\n",
       "GNNjYMAAikvj05YqMGAFCY8ZXFUfYJUK2MnAym2AIqQqKJgAleLZkIAs43oPoYtnQwADA9+dCwy7\n",
       "QAbz5SEZyMwBNJCTYwHDfZAA8wYkqcJjQNXbeRIYQkECrAhn7BIUKwDSD7guMPwFCXilAQHUGT2s\n",
       "YLf3P2D5AqK3IjmepyUAxDjGwLsARHMh+ytOF8QIZmAFe4/nApKUM48DkHGYoR8SYOJIAcVZYAJk\n",
       "PL57HuLsxxEPYMGbwhCaXwCxDQI6AwVRgoc5ge8H9ghgYFRgvYBDiuPuERwyAAfzPe7bmvmqAAAA\n",
       "AElFTkSuQmCC\n",
       "\" style=\"display:inline;vertical-align:middle;\" /></a> <a class=\"ProveItLink\" href=\"../__pv_it/demonstrations/e7afdadc163476546d4c28f33ab6ed28d688de510/proof.ipynb\" style=\"text-decoration: none\">&nbsp;&#x22A2;&nbsp;&nbsp;</a><a class=\"ProveItLink\" href=\"../__pv_it/demonstrations/5233cc1606a7155d193ae0a3e5b84d8b834596490/expr.ipynb\"><img src=\"data:image/png;base64,iVBORw0KGgoAAAANSUhEUgAAAQQAAAAVBAMAAABS242zAAAAMFBMVEX////MzMx2dna6urqqqqqI\n",
       "iIhmZmYyMjJEREQiIiIQEBBUVFTc3NyYmJju7u4AAACf0+qcAAAAAXRSTlMAQObYZgAAAkNJREFU\n",
       "SMellj1LA0EQhsfEmKjJ4T/QxtipjUVAsLJQRK5JSr+aFBZGBA/RwlJQIUVAo00ghVgZBDvBFIKo\n",
       "TToRFA8bv1Aiau/e7ubMJjPrRRf2IJOZN8/NbmYGXuFPK4BajZIuxiTsl84jTIeO4eZgvYmJhAs6\n",
       "hBRiay5KhEc6rr3oFYGJNI4AxxJhhY4z6gJHbRxhpWEER+lBIESmlG+GlU/dlZSJozQOT3AER6QG\n",
       "YRhHkGah5DM5QmtRE/msIgDc4QiOSEMIQsnIcYRz0EQG+70hOCJ/QIAFjpBw0hI/HuhWE5Uw4cIG\n",
       "35Q3hIREIIUIhChH2GT7Hq7NLcXF58/BJDvjFI3gs/jikJsSgRQiEK44QobtXuizBxWX05YUrLGf\n",
       "TnvLQkYikEIEwghHyLNtcy+AHsvasaxlx9JmwhdAU1m87tKeZRU0CHmJQAoJhB+zVOp0EYB7KZRD\n",
       "dtO7RPCQhbx7HQkhIgud7kEA91JckhDIAfjTv96FQvVBkEIEQsy9juOBMkyoLusQKuivY/WqXEdS\n",
       "SHsdo+xdP0PlSrOquMzCELO0dNUgTOIIUYFAC9UjcKUZjhBj/92jicRtjctLfI5VvGCHijB7sFjC\n",
       "EGICgRaqQxBK8/oCnWT7qbZAE51SW6CTaHXkdSuNtak32aZTxkdVmzJsPQLSplQhF+Gt2ke2KdjA\n",
       "emtrKWRizZqaFzaoZi2EiHnhQTey+OPT7Bn6/8gihAgEBv6c3dUObjeY8Sy7jQ5uxn6WGlrCS9lV\n",
       "xBwpwjd7s/WhOz1l3wAAAABJRU5ErkJggg==\n",
       "\" style=\"display:inline;vertical-align:middle;\" /></a></span>"
      ],
      "text/plain": [
       "{x in Real, y in Real} |- floor((x + y) + 1) = (floor(x + y) + 1)"
      ]
     },
     "execution_count": 104,
     "metadata": {},
     "output_type": "execute_result"
    }
   ],
   "source": [
    "floor_x_plus_y_plus_1.simplification(assumptions=[InSet(x, Real), InSet(y, Real)])"
   ]
  },
  {
   "cell_type": "code",
   "execution_count": 105,
   "metadata": {},
   "outputs": [
    {
     "data": {
      "text/html": [
       "<a class=\"ProveItLink\" href=\"../__pv_it/demonstrations/32ff7ac2940d79b062d05716e56130a54921e3c70/expr.ipynb\"><img src=\"data:image/png;base64,iVBORw0KGgoAAAANSUhEUgAAAGAAAAAVBAMAAABLWfZ5AAAAMFBMVEX///9mZmaqqqrMzMxEREQy\n",
       "MjJ2dna6urqIiIgiIiIQEBBUVFTc3NyYmJju7u4AAABISk2iAAAAAXRSTlMAQObYZgAAAOBJREFU\n",
       "OMtjeMtAEuBgOE2aBlaqaWBaR5wGpgYI/Tr7H5oIAQ0MvNTV8KL7eFsDAQ0vJBh41kE18CXwzuAM\n",
       "IKAhoYqB4wNUA9sDtn/sB/Br4FEQZWBxgNkAZgI1hoZGLg0N3YDQgBDhY1jBwN8A9zR/A0FPs/9j\n",
       "sDeAawAxCWhgDGDogoUS04N+Bo4HBDSwbGDwhmmoV/BnOItmAweGDRvY/8I0vO54IXsBTXrXV1lU\n",
       "Eb4djX/wxTQWEcYALBr4HqBrgIlsZXhfQFJ+mMvgQVoGqmg0gGh4NXM28fnt6MwpAOWGWOSgEEZF\n",
       "AAAAAElFTkSuQmCC\n",
       "\" style=\"display:inline;vertical-align:middle;\" /></a>"
      ],
      "text/plain": [
       "floor(x + 1 + y)"
      ]
     },
     "execution_count": 105,
     "metadata": {},
     "output_type": "execute_result"
    }
   ],
   "source": [
    "Floor(Add(x, one, y))"
   ]
  },
  {
   "cell_type": "code",
   "execution_count": 106,
   "metadata": {},
   "outputs": [
    {
     "data": {
      "text/html": [
       "<span style=\"font-size:20px;\"><a class=\"ProveItLink\" href=\"../__pv_it/axioms/02bd6ad73acd9f4d3192ee4c61bfdcabbff20f180/expr.ipynb\"><img src=\"data:image/png;base64,iVBORw0KGgoAAAANSUhEUgAAADQAAAAPBAMAAABZ6/G2AAAAMFBMVEX///8QEBBmZmaqqqrMzMxE\n",
       "REQyMjIiIiKYmJh2dna6urrc3NxUVFSIiIju7u4AAAA6P00QAAAAAXRSTlMAQObYZgAAAMRJREFU\n",
       "GNNjYMAAHIWh3xIjGLACNr4DLBFxWKVYuScwBOxBEWotL0+ASWmzIcu43kPSpc0KZLy9s+vmBSDN\n",
       "l4ds4IE1QJEJHLXsIHN4NiBJMRcBFXI+4PzHBRJlRXKGeHkyyBwG1gCwgGMaEECdMUsB4nb+C2Bq\n",
       "K7LjtVzBLH8HMMWILMX6Aqie+cF9Bt4HQAGmC0hSLAdUGBjWG8Qz7ACLFCMFFMNkHgeGN3ffajSA\n",
       "Rd5EPYAHrwNr2Gfk4FgZDgkoKAAAelg1omM6Y4wAAAAASUVORK5CYII=\n",
       "\" style=\"display:inline;vertical-align:middle;\" /></a>, <a class=\"ProveItLink\" href=\"../__pv_it/theorems/0886f5b6aacf5197ba709a53d4f3243edcc3de560/expr.ipynb\"><img src=\"data:image/png;base64,iVBORw0KGgoAAAANSUhEUgAAADMAAAASBAMAAAAEf/uKAAAAMFBMVEX///8iIiKYmJhUVFTMzMxE\n",
       "REQyMjKqqqq6urp2dnYQEBDc3NxmZmaIiIju7u4AAACH5sGpAAAAAXRSTlMAQObYZgAAAN1JREFU\n",
       "GNNjYMAAikvj05YqMGAFCY8ZXFUfYJUK2MnAym2AIqQqKJgAleLZkIAs43oPoYtnQwADA9+dCwy7\n",
       "QAbz5SEZyMwBNJCTYwHDfZAA8wYkqcJjQNXbeRIYQkECrAhn7BIUKwDSD7guMPwFCXilAQHUGT2s\n",
       "YLf3P2D5AqK3IjmepyUAxDjGwLsARHMh+ytOF8QIZmAFe4/nApKUM48DkHGYoR8SYOJIAcVZYAJk\n",
       "PL57HuLsxxEPYMGbwhCaXwCxDQI6AwVRgoc5ge8H9ghgYFRgvYBDiuPuERwyAAfzPe7bmvmqAAAA\n",
       "AElFTkSuQmCC\n",
       "\" style=\"display:inline;vertical-align:middle;\" /></a> <a class=\"ProveItLink\" href=\"../__pv_it/demonstrations/37249361661e43fede37e8bc1e273a6136dd9ad50/proof.ipynb\" style=\"text-decoration: none\">&nbsp;&#x22A2;&nbsp;&nbsp;</a><a class=\"ProveItLink\" href=\"../__pv_it/demonstrations/07caf6c51d71c17adb45f7f7da8eb25027bb396f0/expr.ipynb\"><img src=\"data:image/png;base64,iVBORw0KGgoAAAANSUhEUgAAAPQAAAAVBAMAAACDGd7qAAAAMFBMVEX///9mZmaqqqrMzMxEREQy\n",
       "MjJ2dna6urqIiIgiIiIQEBBUVFTc3NyYmJju7u4AAABISk2iAAAAAXRSTlMAQObYZgAAAelJREFU\n",
       "SMet1r8vg0EcBvAvXu/bVh2J1CKiIwbxH+hgI1GRNyIWBokJI4mkr0WaSNQiUQxdTTqJoYk3FgmR\n",
       "vAaDQdxSaTSkYWAS7nV+3Ht37/sebrzmeT659np3cA9qwxJNIkc58j7OFOk0N3MOEC+qRQDq7X+g\n",
       "Ueo3NJTkdC8O2dNoK9Oku8zR3XQpB0eYnZH2XABHSyJMt25JaICbsPSuKv3RjQp/puMbv6Nh3KUr\n",
       "ayerVgCNViw4xTwdaaU0ypYWZ30jbPc0odFU81Y0HUDrRgFyn0vQTXcQVXMofQtX1qY8wnVfElrH\n",
       "+qthB9DHdWkYFHzh0SSl52AeL/tG2O4ed9WgpdypGdPcNs3JH/T3DI5Z8CKgYwuUxi4jjXDdAx/b\n",
       "rMUK3mYZ3PDkR4PL+EXYbkoP9AfTCYgUPL918ecXDi4jjXDdS4SuxzmI4CB6CLSiYNVf26wvUoN1\n",
       "34hgm2WSI+QOYD/OeekOyDgCWqd/LuNRq8Ud3wjb3U7oarbS6Xih/VFPTzXbZQtogx4p6HB95Rp8\n",
       "I2z3mPQ0E8wk1A/ShPA0c8+bDS/9wNF0pimNnsNeH5II081fH9IRdTRLSGvSS1MaIaMc/qlgZNtU\n",
       "nwrSCBnDAHf5nfBPlPhEPiV6IKG9fFElAtBswxtCB9byj/XbtgAAAABJRU5ErkJggg==\n",
       "\" style=\"display:inline;vertical-align:middle;\" /></a></span>"
      ],
      "text/plain": [
       "{x in Real, y in Real} |- floor(x + 1 + y) = (floor(x + y) + 1)"
      ]
     },
     "execution_count": 106,
     "metadata": {},
     "output_type": "execute_result"
    }
   ],
   "source": [
    "Floor(Add(x, one, y)).simplification(assumptions=[InSet(x, Real), InSet(y, Real)])"
   ]
  },
  {
   "cell_type": "markdown",
   "metadata": {},
   "source": [
    "### Round.simplification()"
   ]
  },
  {
   "cell_type": "code",
   "execution_count": 107,
   "metadata": {},
   "outputs": [
    {
     "data": {
      "text/html": [
       "<a class=\"ProveItLink\" href=\"../__pv_it/demonstrations/13d233bdd0b12bacfff361cc1ffd4ba2e97952e30/expr.ipynb\"><img src=\"data:image/png;base64,iVBORw0KGgoAAAANSUhEUgAAAN0AAAAUBAMAAAD7DSVVAAAAMFBMVEX///+YmJjc3NxmZmYiIiLM\n",
       "zMwQEBCqqqoyMjJERER2dnbu7u5UVFSIiIi6uroAAAA5J+EfAAAAAXRSTlMAQObYZgAAAtlJREFU\n",
       "SMeVVk1oE0EU/rpJm+xOs61WQfDgVnoUrPRSqoXoSYrg3jw2gogoQqjePDSgYk5aFISChYV6qi3u\n",
       "QYpINbGI9BIaCPVgjRaR3optUSqmP76ZzZbsZHcTH3zMvm+/mTc78+bNAqHWXYW/xQzfDr42UkWg\n",
       "tT7tBRuDQJDNy4SvmPWNm2inubUbYQE70oiTIB4iei0TXBy7IZFz0HbBMhAItp82uqjp8i5hsdbT\n",
       "ihJL4rnpiqQ9DVwFZuAg0J4D5+AgKB5LSSwXt8jxrgCLBmbpaTYs3l0oSQgExsNDLyvEdfEe2Vg0\n",
       "EV8Bh/7lXZn4mdIKKxUxa+vTx8uD1HNgaQuJXgiw8vzajHeMt4NQaJ8mvSwX18cju2hDo3cETX2g\n",
       "ptCzwjYjegrfyJ9AzsCqoVagdkLgDQ4Vz3vHsFaRWAeOeFku9oun/yU6I3ApmtdNDAFD3ZEMxsnP\n",
       "4KTJLoO8aBoCL/DS/u4ZQ0n3Q6Xcv+0dmYv94kXz5CUF7Byta4Qk23ZbETeFf4wTUQtt9IrDpnmI\n",
       "dMxm713LZqkzI2UHDTfsYYW4Gq+GBfr4eV53MMp1Y1B26AC0/hb+AicorhsP2JHzRa9g2HTi1bA1\n",
       "8Wq/T2yrG6+fnnMWtE06AImU8DcYEaPYX0/weXjHoNX+RM2PptbzFhQDOq0nx3VeSjrRZuEZbclR\n",
       "8mMVLZfGQsxw8+UOpcaylBl5kjeZL60WEoabLwqfeiSPJ8AZrPZayi60zGG12HJBc1NY31LXlU7p\n",
       "+/L6BjUDXpZ3QEKO1zM1+YF6WAK6OM9Tn2nl58ojBZN85X2aFZZOfHWXgBWWSwekMVihtEnNfWlX\n",
       "qUPk459T0nnf2/tFZ910EGZh9SzCC3DSp54F1KJXVYRZfb1mttMu8Pzdr9cu6xXvs8Ia1mu+/4aD\n",
       "ejuLCb/7SA28vBrfR9Xr0/++XSvxrXjc1H3bYOrN/0+0/Mf/xEEH/wB22PPUXfq03wAAAABJRU5E\n",
       "rkJggg==\n",
       "\" style=\"display:inline;vertical-align:middle;\" /></a>"
      ],
      "text/plain": [
       "round((x + y) + (1 + 2))"
      ]
     },
     "execution_count": 107,
     "metadata": {},
     "output_type": "execute_result"
    }
   ],
   "source": [
    "round_add_add"
   ]
  },
  {
   "cell_type": "code",
   "execution_count": 108,
   "metadata": {},
   "outputs": [
    {
     "data": {
      "text/html": [
       "<span style=\"font-size:20px;\"><a class=\"ProveItLink\" href=\"../__pv_it/axioms/02bd6ad73acd9f4d3192ee4c61bfdcabbff20f180/expr.ipynb\"><img src=\"data:image/png;base64,iVBORw0KGgoAAAANSUhEUgAAADQAAAAPBAMAAABZ6/G2AAAAMFBMVEX///8QEBBmZmaqqqrMzMxE\n",
       "REQyMjIiIiKYmJh2dna6urrc3NxUVFSIiIju7u4AAAA6P00QAAAAAXRSTlMAQObYZgAAAMRJREFU\n",
       "GNNjYMAAHIWh3xIjGLACNr4DLBFxWKVYuScwBOxBEWotL0+ASWmzIcu43kPSpc0KZLy9s+vmBSDN\n",
       "l4ds4IE1QJEJHLXsIHN4NiBJMRcBFXI+4PzHBRJlRXKGeHkyyBwG1gCwgGMaEECdMUsB4nb+C2Bq\n",
       "K7LjtVzBLH8HMMWILMX6Aqie+cF9Bt4HQAGmC0hSLAdUGBjWG8Qz7ACLFCMFFMNkHgeGN3ffajSA\n",
       "Rd5EPYAHrwNr2Gfk4FgZDgkoKAAAelg1omM6Y4wAAAAASUVORK5CYII=\n",
       "\" style=\"display:inline;vertical-align:middle;\" /></a>, <a class=\"ProveItLink\" href=\"../__pv_it/theorems/0886f5b6aacf5197ba709a53d4f3243edcc3de560/expr.ipynb\"><img src=\"data:image/png;base64,iVBORw0KGgoAAAANSUhEUgAAADMAAAASBAMAAAAEf/uKAAAAMFBMVEX///8iIiKYmJhUVFTMzMxE\n",
       "REQyMjKqqqq6urp2dnYQEBDc3NxmZmaIiIju7u4AAACH5sGpAAAAAXRSTlMAQObYZgAAAN1JREFU\n",
       "GNNjYMAAikvj05YqMGAFCY8ZXFUfYJUK2MnAym2AIqQqKJgAleLZkIAs43oPoYtnQwADA9+dCwy7\n",
       "QAbz5SEZyMwBNJCTYwHDfZAA8wYkqcJjQNXbeRIYQkECrAhn7BIUKwDSD7guMPwFCXilAQHUGT2s\n",
       "YLf3P2D5AqK3IjmepyUAxDjGwLsARHMh+ytOF8QIZmAFe4/nApKUM48DkHGYoR8SYOJIAcVZYAJk\n",
       "PL57HuLsxxEPYMGbwhCaXwCxDQI6AwVRgoc5ge8H9ghgYFRgvYBDiuPuERwyAAfzPe7bmvmqAAAA\n",
       "AElFTkSuQmCC\n",
       "\" style=\"display:inline;vertical-align:middle;\" /></a> <a class=\"ProveItLink\" href=\"../__pv_it/demonstrations/3d016e47151bde1c8a50bb637b24c5cefb087aba0/proof.ipynb\" style=\"text-decoration: none\">&nbsp;&#x22A2;&nbsp;&nbsp;</a><a class=\"ProveItLink\" href=\"../__pv_it/demonstrations/f85b28ee1123a45ff0b740781febc61ea76514850/expr.ipynb\"><img src=\"data:image/png;base64,iVBORw0KGgoAAAANSUhEUgAAAaMAAAAUBAMAAADSA0++AAAAMFBMVEX///+YmJjc3NxmZmYiIiLM\n",
       "zMwQEBCqqqoyMjJERER2dnbu7u5UVFSIiIi6uroAAAA5J+EfAAAAAXRSTlMAQObYZgAABHRJREFU\n",
       "WMOlV19oHEUY/92f3GV3c9vUKgg+eK1BQYSeiJCWFE8FlRDw3gRfer6IWgxL8U2kh1W8hyIxYlFo\n",
       "8UAfNDZ0wVBaG82ZBwlIYPGoD9azh9S8haTB0sLZxm9mb+5m9mb2TvxgyM3k932/3zf77ew3QKzt\n",
       "7wy9He9bSY4boNm8Fm92kATERBxCkmQjpwtw5sCHwcb6ol7Swb499AmwqsXrHVQBJluN7s7C156O\n",
       "QrI9HkYJMGoGOZXoyrts+45FUHWcb+GiFs8dBggw2cXI/CFkb+goJNvysY/+7FMW31Fmi6IIgvBv\n",
       "ogAsn2urqykfmTLsQMJ3jTkMEiDVWiDP7EDVdM3D3xoK2b4EnkE4TCldiHCl2aYmIillihjbgVOW\n",
       "8F1L5wcLMKXEI0qaNlq4raGQ7SSSRfBhTGm0pXJNQJPSaBtjN4EPJXzXJgYLMKbEIyqaqPAYhfv7\n",
       "D01CLjZaTiPABd89d6B5hDI5fOUWclQWbDjN1c1FxZ1hH/ZhF1Suhi4l9jBo6QtWK9E6Yw6bP282\n",
       "YwRI5CLg90eQPBZGVFJaqnEK2/rAKmOi5eyk3DKu0fwsVvLYyFttWHTCsvEd7g1eUNxtjkWionJ9\n",
       "ZEhpi7juh8B/VWV2UjjUPvVOxwiQyEXA2gZy22FEOaVHn/U5xUvpulvCNDC9P1XBZzSv4GDJeQU0\n",
       "S3vg4xuc9/9U3B/hWGSLKtfzhpRmaLyFHr5r5DDizeCvGAESeSdg0puENRdGVJ5SbpZT+CtU3ylS\n",
       "8Y+fCfAmnz/IFtI1ZOhfbPhMfri9z1Wrp+gXw94hOdvsiVWr771Wrdbp52wvJWkVKVZvR9HBy0YO\n",
       "jnM3VoAg7wV0CLUnCCNKmshe9TnFCXYozSF5hw7NkZt8vsYWKLJICUy+uiMhVkgUz2NW/5T4K2ZK\n",
       "CdntWAESuQjotnG01Empp+kA8LnHKSZptlKDvUOHZq7M5zccWjiBbuGBMakpTXKsO1ThZQuM7joE\n",
       "PnyXTgkHKrA4ARK5CEgevyKMKGna9VlKjOIN9p0eR6aGM1ShD9A827ZXPKxl8+J4eJtexqtqSoSt\n",
       "D3s8vAz8Ih8PkjEHYo4TIJGLgER9Bn3Hw+vAiz6jSLI9SNXxMTCFjUIteRd25T4rSMzY/Myl4d6y\n",
       "tkV7KVKawhatpGoqFz9Wc5GUktMLU7R1h9HDd405HCzFCZDJu0+p7tIXiEeUNO3l3yWiCGth4Teq\n",
       "2uXm8fUSzZM/es76lcf+4P+j4axfbeyNFN5y8ynW/5VULlYKqZ9uP65+and3dynQ++jhu3Zd1I9R\n",
       "gEwuaJz1xg7CiJIm94lDLQ1FxOIaIvYOLukaIv3H3ilK+OEaIpgbIvb+OUVdR7MUH1DTtl7uXCsq\n",
       "7Ojt9oiOr+tCxWqvyfxvbWsfuQi4xk7DXtt6WddJm8zKh6PP0uNWoLsszMdeBTSd//xgAf32NM5q\n",
       "LheG+04UYLoCus0ntYTmG928XuClwQL6bbNRMu2GNaCSB13U7xn+3p3Ia/H/46KeyBsk/QviBL/S\n",
       "oib9KgAAAABJRU5ErkJggg==\n",
       "\" style=\"display:inline;vertical-align:middle;\" /></a></span>"
      ],
      "text/plain": [
       "{x in Real, y in Real} |- round((x + y) + (1 + 2)) = (round(x + y) + 3)"
      ]
     },
     "execution_count": 108,
     "metadata": {},
     "output_type": "execute_result"
    }
   ],
   "source": [
    "round_add_add.simplification(assumptions=[InSet(x, Real), InSet(y, Real)])"
   ]
  },
  {
   "cell_type": "code",
   "execution_count": 109,
   "metadata": {},
   "outputs": [
    {
     "data": {
      "text/html": [
       "<strong id=\"round_01\">round_01:</strong> <a class=\"ProveItLink\" href=\"../__pv_it/demonstrations/7f50876f24f1fe32ac66609d04b8421be28877020/expr.ipynb\"><img src=\"data:image/png;base64,iVBORw0KGgoAAAANSUhEUgAAAL0AAAAUBAMAAAAq6iElAAAAMFBMVEX///+YmJjc3NxmZmYiIiLM\n",
       "zMwQEBCqqqoyMjJERER2dnbu7u5UVFSIiIi6uroAAAA5J+EfAAAAAXRSTlMAQObYZgAAAltJREFU\n",
       "OMulVU1oE0EU/jqbv90x2/h38uBWehSM9FLUQvUkRXBvHo0gIhYh1KMHFxTMzUChULCwoKfa4B6k\n",
       "B4lmFZFcQheWerBGg4fcim1QKsa2vtkqdLd1J7TvMrxv3vvezHtv3gCxMoD9yETcZnIqD17eKzUf\n",
       "mjZxwIgz6S8iY/RIlx6PAFVoG+BWnM83B4fDJN4O2r9Ida4bQc4CN4BKHP9T4EKP/OiL8l8HFgzM\n",
       "x/HfBxvdM/8jBwsmMi3on143Cav4Le57mHf0uRPNEYCdWVxDNk+Far5droR9X42AjUv4SS470PLQ\n",
       "1IdqAYMt3lH0Ar6QPoOagbahdqHmgJc44l0M+9ptZFek/Povgi1cSbi6iTFgbECxME26hVMmvwbS\n",
       "EkXgGZ47X0O+rDgMtSzlT7ikjcKptQCFtn87KQ+3A/24ABI2UrTlUEwhWqn04GapRE6crPq97cg/\n",
       "/u0IhsQbomveozVVBlunhkz+CPS6ACiO4AfWo9XUu7hqys4vahfwD9Nas6F1qCGzhUBf5QRQHJEf\n",
       "iJhhX8rcB1n/4A6YAZ0a8JZ4qjmkbDymtB4jPd3VakXU04ao710q5VLYV3XJVMKftJE1RH2ZOJ7i\n",
       "YhI4h3beZhvQrKOq13dJE+2lr6krLBc5v6uvRrMR5R+cffKOLO3gCsDsR0p1tTnRMElnb4q8sXjy\n",
       "s9jjjSX/YMSXN/xOJOL7n6cj72tz8zuQMePH1v/mg2JJX3QgLyRjMTzfuLO11kVvhZCdNltSkfCr\n",
       "u87n85jp8ROwZAa7/i/Lvtkbvyr9Pvb3Px4C/gBzNtMXxcKgEQAAAABJRU5ErkJggg==\n",
       "\" style=\"display:inline;vertical-align:middle;\" /></a><br>"
      ],
      "text/plain": [
       "round_01: round(x + y + 1 + 2)"
      ]
     },
     "execution_count": 109,
     "metadata": {},
     "output_type": "execute_result"
    }
   ],
   "source": [
    "round_01 = Round(Add(x, y, one, two))"
   ]
  },
  {
   "cell_type": "code",
   "execution_count": 110,
   "metadata": {},
   "outputs": [
    {
     "data": {
      "text/html": [
       "<strong id=\"round_01_alt\">round_01_alt:</strong> <a class=\"ProveItLink\" href=\"../__pv_it/demonstrations/064666e5e7b7d292003ba262ff51d7460f5bf0a60/expr.ipynb\"><img src=\"data:image/png;base64,iVBORw0KGgoAAAANSUhEUgAAAL0AAAAUBAMAAAAq6iElAAAAMFBMVEX///+YmJjc3NxmZmYiIiLM\n",
       "zMwQEBCqqqoyMjJERER2dnbu7u5UVFSIiIi6uroAAAA5J+EfAAAAAXRSTlMAQObYZgAAAkxJREFU\n",
       "OMullU9o1EAUxr8m2T/JdOP67+TBVIpeBFeKsGjF4kmKYG5eVxARRVjq0YMBBffmgiAUFAJ6ql3M\n",
       "QXqQ4kYR6WVpYOnFGl089CZdi1Jx7dY3aaXsNGbKNpfw3nzfbyZ5M2+AxGcIu3kmkgZTjwtg1X7R\n",
       "bGTSxqCVJNlTRjZekLkp5c/C6II5SZJlD/t7scGmd7ojZLZrzgDXgFoS/zlwPtaLATn/KjBvYSaJ\n",
       "fw/KWN/8hx7mbWRbMD+9CSlXa7ZYM8CMZ04fCc8CyumFVeQKVKjw3beahM+dRz1xxksejAIM/YFe\n",
       "wnCLrahmCV8ofoq6hSVL70DPA69xILgg4RuRU+Cbv0no4LLmmzbGgfEh1cEkxQ5O2OwKKNLKwAu8\n",
       "9L5K+Mcip8DXfIrG4NVbgEqGP146wK0oPswTmos0DXmbTqNSuX+9UvG3+FsZ7lwTNBjhZ6gN3KV3\n",
       "ugpljTZk6mcUz/EEzcP5iJyS+m44ezS8dhG/SO+6C2OFNmSuFMXfGSVoHv5/8M+ZxC9Gzh7NbSgW\n",
       "TNqAN/hRzSPt4gn06iGKMx2jXsZcxuL1vZNrY1HGJ6ffm0m5yFm8vgpfnurjETCKpYKrdGE4B/Vg\n",
       "4KLBt5e5qreVvPjtIn8Uy4JmeOrZe+K60ScAUx/pV8+GEw2bYuVtmTUWjn/mY6yx2Nwr0NQPv04K\n",
       "HSM8Zwnna339B5C1k7vUf/pDTKYYq3kl6YK9/Y1527rwRmbQYd1YTU3C160dNXstrwexl4AjuyV2\n",
       "dr+Y4ak+l7e7+3Ef8BcwQtE3mxlZpgAAAABJRU5ErkJggg==\n",
       "\" style=\"display:inline;vertical-align:middle;\" /></a><br>"
      ],
      "text/plain": [
       "round_01_alt: round(x + 1 + y + 2)"
      ]
     },
     "execution_count": 110,
     "metadata": {},
     "output_type": "execute_result"
    }
   ],
   "source": [
    "round_01_alt = Round(Add(x, one, y, two))"
   ]
  },
  {
   "cell_type": "code",
   "execution_count": 111,
   "metadata": {},
   "outputs": [
    {
     "data": {
      "text/html": [
       "<span style=\"font-size:20px;\"><a class=\"ProveItLink\" href=\"../__pv_it/demonstrations/665eb28bdef08717ca4abe8886f256e37ecbb1210/expr.ipynb\"><img src=\"data:image/png;base64,iVBORw0KGgoAAAANSUhEUgAAADQAAAAPBAMAAABZ6/G2AAAAMFBMVEX///8QEBBmZmaqqqrMzMxE\n",
       "REQyMjIiIiKYmJh2dna6urrc3NxUVFSIiIju7u4AAAA6P00QAAAAAXRSTlMAQObYZgAAAM1JREFU\n",
       "GNNjYMAGrpV9LFXAKuPymeHRD6xSHDwXGBj6UaRay8sTQHQL4wMGBh5kKdd7UIbCViDBB9T59s6u\n",
       "mxdA7DyoDN8BJyhjAkctO8gcng1QKe4JayEMzgec/7hAoqwwg7kVoFJ8DKwBYIZjGhCAtPMFeMJU\n",
       "8V8AU1vh7snjgbH8HcAUI1yqCSz1gIH5wX0GXqA/GJguwKRYbwGZXAkM6w3iGXaARYrh2tQiHzwO\n",
       "fcDw5u5bjQawwJuoB1ApFjX5IgeUsFsZDgkoKAAA9fQ1vValRIIAAAAASUVORK5CYII=\n",
       "\" style=\"display:inline;vertical-align:middle;\" /></a>, <a class=\"ProveItLink\" href=\"../__pv_it/demonstrations/4781579f73690b602fbe14fc22acbb18872578820/expr.ipynb\"><img src=\"data:image/png;base64,iVBORw0KGgoAAAANSUhEUgAAADMAAAASBAMAAAAEf/uKAAAAMFBMVEX///8iIiKYmJhUVFTMzMxE\n",
       "REQyMjKqqqq6urp2dnYQEBDc3NxmZmaIiIju7u4AAACH5sGpAAAAAXRSTlMAQObYZgAAAOVJREFU\n",
       "GNNjYMACeBPzF8Zgk2Bg8S/gO6+DVUrBloGB6Q+KkKqgYAKQYnJYByRtkGVc70FoHu4AIPmWgYHv\n",
       "zgWGXQ+AbL48qJLHLAcgDE6OBQz3QQzmDVCpnRwXIIztPAkMoSAGK8zgPTCpB1wXGP6CGF5pQABy\n",
       "xlOWCVBF/Q9YvoDorTBdbA8MoKxjDLwLQDQXTIrpAEiKD4iDGVjBqnguwORie4FEGxAfZuhXAIuI\n",
       "w6R4UufxlcaBvHH3PMTZjyMeQOV8sj4egdkGAZ2B4ICCA+YEvh8M2AGjAusFHFIcd4/gkAEAyYw2\n",
       "9D4BskUAAAAASUVORK5CYII=\n",
       "\" style=\"display:inline;vertical-align:middle;\" /></a> <a class=\"ProveItLink\" href=\"../__pv_it/demonstrations/71dded3bfa4a2735097f6ab44be0c518937a68cc0/proof.ipynb\" style=\"text-decoration: none\">&nbsp;&#x22A2;&nbsp;&nbsp;</a><a class=\"ProveItLink\" href=\"../__pv_it/demonstrations/d1fe68b03d36f86d327cfc9a0aa7006e8264f3eb0/expr.ipynb\"><img src=\"data:image/png;base64,iVBORw0KGgoAAAANSUhEUgAAAXMAAAAUBAMAAACNEsD3AAAAMFBMVEX///+YmJjc3NxmZmYiIiLM\n",
       "zMwQEBCqqqoyMjJERER2dnbu7u5UVFSIiIi6uroAAAA5J+EfAAAAAXRSTlMAQObYZgAAA1ZJREFU\n",
       "SMe1V19IU1Ec/nY3N++97rr+QdBD06IgghYRTFFa9RIitLegF9dLVFIM6a2HBhbtIUKKgkBpUA9l\n",
       "Di8kImFt+RC+CKNhD9lyROxN1JEoLLXfuVPyXOfdPVYHBvt993e+7zvnnvM75wKWrQF/0Tx+sXwR\n",
       "sS6rhzVPAlB7tmv7TdNjYMx2uoiY1P8qijrLaamPotbuvHk6+VhNYzCPEftDFRA7AM881JhVyqyO\n",
       "Xby/zCbHa8joQIlHnDrcESgZ29YFxKaj+AkkrdheAGdsssFhsu4Ooa4INWLbuoBYIY8lYNiKrRtS\n",
       "aLvWa0uoWwAe2LYuIsYWDGrz0L6+zxGWzObVbAbDujbQmGulvdA8uQhvgFZtbmwmyfVleYd0a+vU\n",
       "XAQ9N6mLi+FdK6ROE/VQAlACUOR7cgQH82rRqUUwTXEfUn4U/HIJsg94i92ZcxybYuRVtT5L/HuN\n",
       "fy/jrHWzrsJiSBTgneOpj5yliXPEcMGV1sJoA9oanDE8pTiGY2H1EihyRYHXGNS/c2yHjbyq1tvp\n",
       "d9M06+JiUjQIucdE7b1BUQh6Kk8FgZR/6e4Mrhvxfga4EnDTI33NphKP37kSj6cJobxlDlm3vhFx\n",
       "0vtHh8m6uJhKWfUZnhq4rKOGXsVtVhB6IC1TgapZMOJxBhArY4Nhkxt2Oa/KrGdRwfo2xLQSOsIc\n",
       "0gg8ixrWgxSlElCKVKC8ESOeVwkgVvYOsW7zT9+gkWdt3RNgEj82rPX75a6iYrSUPvPIqs6sa1SQ\n",
       "rrGzzAd3Ar20qvZR7CkpqSjGPX62c27RJpni+1Jeupr1i8Cn9W26oYmLkVQvj1wFzutsm0psnM40\n",
       "HgEtKAQS0gqU2B4542hXWAHSFuU5ycf3bcGsCYHXZF1q62+haWk2Xz/ExZxpbZ5Hdhh13ZkwJh7o\n",
       "/0IrbTTXNRGmWPoQVScmj35jz9SJqewO87GfO+U38X9cOs4fSaurq0R811zXxcXUiWzRtPpPNFH/\n",
       "2rD1GbfV2Ry0ceQx2ZDIZXMrMWeskthQFTb+RqSWj9C6mLrCI5tzyk3g+rWVGBWgVL6SWLIKm1zp\n",
       "HuryyTYtjYg4ryyG0+irBFtfellCpdu/ljtp08xDIeuVPzVmsmH74/xnH3iO//iBtxP4DWh/kdku\n",
       "lIEZAAAAAElFTkSuQmCC\n",
       "\" style=\"display:inline;vertical-align:middle;\" /></a></span>"
      ],
      "text/plain": [
       "{x in Complex, y in Complex} |- round(x + y + 1 + 2) = round(x + y + 3)"
      ]
     },
     "execution_count": 111,
     "metadata": {},
     "output_type": "execute_result"
    }
   ],
   "source": [
    "# if we don't know that the variables x and y are real, we can only\n",
    "# do so much simplification\n",
    "round_01.simplification(assumptions=[InSet(x, Complex), InSet(y, Complex)])"
   ]
  },
  {
   "cell_type": "code",
   "execution_count": 112,
   "metadata": {},
   "outputs": [
    {
     "data": {
      "text/html": [
       "<span style=\"font-size:20px;\"><a class=\"ProveItLink\" href=\"../__pv_it/axioms/02bd6ad73acd9f4d3192ee4c61bfdcabbff20f180/expr.ipynb\"><img src=\"data:image/png;base64,iVBORw0KGgoAAAANSUhEUgAAADQAAAAPBAMAAABZ6/G2AAAAMFBMVEX///8QEBBmZmaqqqrMzMxE\n",
       "REQyMjIiIiKYmJh2dna6urrc3NxUVFSIiIju7u4AAAA6P00QAAAAAXRSTlMAQObYZgAAAMRJREFU\n",
       "GNNjYMAAHIWh3xIjGLACNr4DLBFxWKVYuScwBOxBEWotL0+ASWmzIcu43kPSpc0KZLy9s+vmBSDN\n",
       "l4ds4IE1QJEJHLXsIHN4NiBJMRcBFXI+4PzHBRJlRXKGeHkyyBwG1gCwgGMaEECdMUsB4nb+C2Bq\n",
       "K7LjtVzBLH8HMMWILMX6Aqie+cF9Bt4HQAGmC0hSLAdUGBjWG8Qz7ACLFCMFFMNkHgeGN3ffajSA\n",
       "Rd5EPYAHrwNr2Gfk4FgZDgkoKAAAelg1omM6Y4wAAAAASUVORK5CYII=\n",
       "\" style=\"display:inline;vertical-align:middle;\" /></a>, <a class=\"ProveItLink\" href=\"../__pv_it/theorems/0886f5b6aacf5197ba709a53d4f3243edcc3de560/expr.ipynb\"><img src=\"data:image/png;base64,iVBORw0KGgoAAAANSUhEUgAAADMAAAASBAMAAAAEf/uKAAAAMFBMVEX///8iIiKYmJhUVFTMzMxE\n",
       "REQyMjKqqqq6urp2dnYQEBDc3NxmZmaIiIju7u4AAACH5sGpAAAAAXRSTlMAQObYZgAAAN1JREFU\n",
       "GNNjYMAAikvj05YqMGAFCY8ZXFUfYJUK2MnAym2AIqQqKJgAleLZkIAs43oPoYtnQwADA9+dCwy7\n",
       "QAbz5SEZyMwBNJCTYwHDfZAA8wYkqcJjQNXbeRIYQkECrAhn7BIUKwDSD7guMPwFCXilAQHUGT2s\n",
       "YLf3P2D5AqK3IjmepyUAxDjGwLsARHMh+ytOF8QIZmAFe4/nApKUM48DkHGYoR8SYOJIAcVZYAJk\n",
       "PL57HuLsxxEPYMGbwhCaXwCxDQI6AwVRgoc5ge8H9ghgYFRgvYBDiuPuERwyAAfzPe7bmvmqAAAA\n",
       "AElFTkSuQmCC\n",
       "\" style=\"display:inline;vertical-align:middle;\" /></a> <a class=\"ProveItLink\" href=\"../__pv_it/demonstrations/31918aeefd82485f3f69add1f46606f5dd382f160/proof.ipynb\" style=\"text-decoration: none\">&nbsp;&#x22A2;&nbsp;&nbsp;</a><a class=\"ProveItLink\" href=\"../__pv_it/demonstrations/fe10e8cf24af7fbadd0875c1e6416b791b4dc65c0/expr.ipynb\"><img src=\"data:image/png;base64,iVBORw0KGgoAAAANSUhEUgAAAYMAAAAUBAMAAACdXkxuAAAAMFBMVEX///+YmJjc3NxmZmYiIiLM\n",
       "zMwQEBCqqqoyMjJERER2dnbu7u5UVFSIiIi6uroAAAA5J+EfAAAAAXRSTlMAQObYZgAAA8pJREFU\n",
       "SMetV0toE1EUPZmkSSbTTOMPBBeNHxREMCBCW1qsCipFMDvBjXEjflCDiBsRg1XMQqQqCkKLAV1o\n",
       "tTigiP9GV0UIBoMurLFBpLtSGywKsa33TfJmOpNkkkkdCMm9uXPOPe+9+959gOWzEgt4PMFynxBo\n",
       "lLASGnDSCqzpZghSX6PpP26/Abwr9z9vnNCMJgzej6I5aJVFSxTeYJ0Zn1aMtpTEoxyelQeeb5zQ\n",
       "jLYanilIMau0JhUsMTjOlk9uupjw+w+KMcapwB2BL21+wRGyQ+gxvM/RuHcsil/AkJWEu8C2+iQA\n",
       "rSYJ7m405yFFzC+4gnYIjRI4GveO5/AHeGoloRdCd6MSvAU0TwNXzC+ssUVolMDRdC8tJHhzkL++\n",
       "yZJvKJOTMmk8VeSHq7JdVCsdn37DT9MuZd9NDBnSY3FrFWsJbMALwB1zlhnYIeTwr7sgHNXQdAlP\n",
       "ErS8QvCJl8QI1uSkvFOOYIzsAQwHMR4UCxBpB3yBpeldhvR8alxNCZOEv1yNj6uPWgVXYYeQwyfG\n",
       "4f9ZQptHun47sTpi2OtKymH0AD0rnTHcIjuGjWHpAMhyRYEHeKR8N6S3To2rKWE3fU6ZZ2En7BCW\n",
       "4IVoG8Q+DU2fBf9xsrqhDOdoA6FJ/6u40zim2q3M4UrATX8ppXTvxeM74vHL9IvFzRRH98KheDyp\n",
       "S9BjCJKN+n6zBOKsl1CHlyiqJV1Em08KHFTQRNNzjm0gfRBmaFNrmlbtEeYgZIYINV3DCBfjasxC\n",
       "BlUk2CDk8HIB+8MaGveuAm5HVQltZA0n4MvTpuaPqPaURA5CZvMKnq6eXpsaZy3BE2IUP+bVQrK0\n",
       "kGwQcnhaYp9RQtO9cwqTINMmdoSdiwG4E+inFbeCbE/BNxzFiCfIqusMFdKoMT2KS9aSsA/4qBWg\n",
       "/lA52yDk8ETXj7JyPgzsUVg5C0yzM4nrQCfGQwlhFr7YMjHt2O1jG5b8W/zJWzOeXicmAyYJYyYJ\n",
       "Qs9gJw1Ph1kC7Ys2CLVZSMp0AnA07l2kngvOhDoRwOAXWoWvsidTYbKFt1Ep9WnDN/aflBrNLDKN\n",
       "8KvslqARrfNEr1Gmd25ujoAvmiXQWrBByOGlVCYPDU2rkE3thOENW3dv1RqMtsrHp/kEl7ptNRio\n",
       "3mBQNWhoRtInNRpQY9f1svjVHJNmeY6K+Y2XlRqzOtu8MkIOP8J2Kw3NSDpUQ4JYadBcATFdXwte\n",
       "odm+1gAhtmKgMhpqNNssoNINRM5urvMWcc3WlacqISYy4WrqxZo3mgVdPB3/9eLpqJjsYuAfQ9KZ\n",
       "k63WgC4AAAAASUVORK5CYII=\n",
       "\" style=\"display:inline;vertical-align:middle;\" /></a></span>"
      ],
      "text/plain": [
       "{x in Real, y in Real} |- round(x + y + 1 + 2) = (round(x + y) + 3)"
      ]
     },
     "execution_count": 112,
     "metadata": {},
     "output_type": "execute_result"
    }
   ],
   "source": [
    "round_01.simplification(\n",
    "    assumptions=[InSet(x, Real), InSet(y, Real)])"
   ]
  },
  {
   "cell_type": "code",
   "execution_count": 113,
   "metadata": {},
   "outputs": [
    {
     "data": {
      "text/html": [
       "<span style=\"font-size:20px;\"><a class=\"ProveItLink\" href=\"../__pv_it/axioms/02bd6ad73acd9f4d3192ee4c61bfdcabbff20f180/expr.ipynb\"><img src=\"data:image/png;base64,iVBORw0KGgoAAAANSUhEUgAAADQAAAAPBAMAAABZ6/G2AAAAMFBMVEX///8QEBBmZmaqqqrMzMxE\n",
       "REQyMjIiIiKYmJh2dna6urrc3NxUVFSIiIju7u4AAAA6P00QAAAAAXRSTlMAQObYZgAAAMRJREFU\n",
       "GNNjYMAAHIWh3xIjGLACNr4DLBFxWKVYuScwBOxBEWotL0+ASWmzIcu43kPSpc0KZLy9s+vmBSDN\n",
       "l4ds4IE1QJEJHLXsIHN4NiBJMRcBFXI+4PzHBRJlRXKGeHkyyBwG1gCwgGMaEECdMUsB4nb+C2Bq\n",
       "K7LjtVzBLH8HMMWILMX6Aqie+cF9Bt4HQAGmC0hSLAdUGBjWG8Qz7ACLFCMFFMNkHgeGN3ffajSA\n",
       "Rd5EPYAHrwNr2Gfk4FgZDgkoKAAAelg1omM6Y4wAAAAASUVORK5CYII=\n",
       "\" style=\"display:inline;vertical-align:middle;\" /></a>, <a class=\"ProveItLink\" href=\"../__pv_it/theorems/0886f5b6aacf5197ba709a53d4f3243edcc3de560/expr.ipynb\"><img src=\"data:image/png;base64,iVBORw0KGgoAAAANSUhEUgAAADMAAAASBAMAAAAEf/uKAAAAMFBMVEX///8iIiKYmJhUVFTMzMxE\n",
       "REQyMjKqqqq6urp2dnYQEBDc3NxmZmaIiIju7u4AAACH5sGpAAAAAXRSTlMAQObYZgAAAN1JREFU\n",
       "GNNjYMAAikvj05YqMGAFCY8ZXFUfYJUK2MnAym2AIqQqKJgAleLZkIAs43oPoYtnQwADA9+dCwy7\n",
       "QAbz5SEZyMwBNJCTYwHDfZAA8wYkqcJjQNXbeRIYQkECrAhn7BIUKwDSD7guMPwFCXilAQHUGT2s\n",
       "YLf3P2D5AqK3IjmepyUAxDjGwLsARHMh+ytOF8QIZmAFe4/nApKUM48DkHGYoR8SYOJIAcVZYAJk\n",
       "PL57HuLsxxEPYMGbwhCaXwCxDQI6AwVRgoc5ge8H9ghgYFRgvYBDiuPuERwyAAfzPe7bmvmqAAAA\n",
       "AElFTkSuQmCC\n",
       "\" style=\"display:inline;vertical-align:middle;\" /></a> <a class=\"ProveItLink\" href=\"../__pv_it/demonstrations/bffa41e2934040233e5ff199a07fcb2ab9abdca00/proof.ipynb\" style=\"text-decoration: none\">&nbsp;&#x22A2;&nbsp;&nbsp;</a><a class=\"ProveItLink\" href=\"../__pv_it/demonstrations/02d972fe0877a26a3107a335368c3d07a77a16a10/expr.ipynb\"><img src=\"data:image/png;base64,iVBORw0KGgoAAAANSUhEUgAAAYMAAAAUBAMAAACdXkxuAAAAMFBMVEX///+YmJjc3NxmZmYiIiLM\n",
       "zMwQEBCqqqoyMjJERER2dnbu7u5UVFSIiIi6uroAAAA5J+EfAAAAAXRSTlMAQObYZgAAA8FJREFU\n",
       "SMetV01oE0EU/rJJk2623bb+gOChUYuCCAZEqFKxKqgUwdwEL8aL+IMaingRMVjFHERqRUFoMaAH\n",
       "rQYXFPE/saciFIOhHqyxQaS30jZYKsS2vtlmN9nJJpuNDuzhfTPzvfftzJt5A1Rsa/APzeMrxYTm\n",
       "Wh2asQHdlcjq7vgh9dYa/rNtt4GhUvxV7Q55NmHwUQgNvkpRNIVQbz7gvGKlQErgaQYvSzsu1+RQ\n",
       "bTzbOnhmIIUrhTGlYLkBuJgP7+MnxYiUjnEqcAfhTfLdDr8dhx7DfI1NQ8dD+AXEKkl4AOw2Cw9o\n",
       "tZTg7kRDFlKQ73b57Dg0StDYNHQig9/Ai0oSeiB01iqhPoeGWeAG391my6FRgsZWQGkjoT4D+dv7\n",
       "NGGxVEZKJfFCkZ+sTe+gXNk+OodGWnYpPTQZs5DAZq5XOFGuHHCfjzIFOw61YN/tgHBKZytIeB6l\n",
       "7eWHV7wmBtGWkbJOOYhxsgcQ92HCJ+Yg0gn4GiuS+y0keNWZnIQp4l+l9kbUpmbBTdhxqAUbnUDj\n",
       "dJ6tSMLGPRSHI4xDroQcQBfQtcYZxl2yw9gckI6CLFcIeIynyg8LCRvUmZyEA/Sd41dhH+w4zAcr\n",
       "hNoh9upshVVoPENWJ5R4hg4QWvQ/ijuJ06rdygBXFG7qUvLBPYxE9kYi14skFBA2c54b42R//Qgv\n",
       "gXxW65AW78rxSCRBW4tGNSWX2Aooa8cU1NHyXGIHSC+EeTrU6mZVe5gBxMwYoQZnkc5LMw1jUigj\n",
       "wYZD7X/LORwJ6Gwauha4F1IltJMVj8KbpUOtMajaMxIBxMzWFVpwlSS0qzOLEY+fufhZlAuJ/Eay\n",
       "4VALlrbYF+TZCuiiwiTIdIidZPdiM9xR9NOOW022J+eNhzDs8bHsukCJNGYlgWYmjMhh4LOegIVG\n",
       "6WzDoRYskfejJJ1PAAcVls4C0+xM4BbQgQl/VFiAN7xSTDoOeNmBJc+J01pppksY5yV0YMo4Ruga\n",
       "7KDfs52XQOeiDYf6KiRkugE0Ng1tUe8FZ1RdCGDwK+3Ct+nukQDZwoeQNDK66Tvrk0bGUi18wGd7\n",
       "OFFv0zt9xqttcXGRiK/yEmgv2HCoBSuNpLLQ2fQM2bKNOOoDlau1MgWGCdJuNkbqtFVgoHyBQdmg\n",
       "sxnv7OcWBaex6npT0p9HGsLSgtkYm2VeiUMpv2GH2Wmls0mGOjlmIUH0VfU4cDWLyWrKY2p9tTjc\n",
       "hQFzNlgU22xAdU8eOb3VFO+z9eQp73AyFSin3von/9PD0/FfH54O02CXAX8BrTOVHwMNqTAAAAAA\n",
       "SUVORK5CYII=\n",
       "\" style=\"display:inline;vertical-align:middle;\" /></a></span>"
      ],
      "text/plain": [
       "{x in Real, y in Real} |- round(x + 1 + y + 2) = (round(x + y) + 3)"
      ]
     },
     "execution_count": 113,
     "metadata": {},
     "output_type": "execute_result"
    }
   ],
   "source": [
    "round_01_alt.simplification(\n",
    "    assumptions=[InSet(x, Real), InSet(y, Real)])"
   ]
  },
  {
   "cell_type": "code",
   "execution_count": 114,
   "metadata": {},
   "outputs": [
    {
     "data": {
      "text/html": [
       "<span style=\"font-size:20px;\"><a class=\"ProveItLink\" href=\"../__pv_it/demonstrations/4110edc5b395651a883c57567a6071ef99be059b0/expr.ipynb\"><img src=\"data:image/png;base64,iVBORw0KGgoAAAANSUhEUgAAAFsAAAAUBAMAAAAQFlwTAAAAMFBMVEX////MzMxUVFR2dna6uroQ\n",
       "EBCqqqqIiIgiIiJmZmYyMjJERETu7u6YmJjc3NwAAACgK8IjAAAAAXRSTlMAQObYZgAAAYRJREFU\n",
       "KM9jYOC7wIAJ2B4w4ACnsYrqofE94qOWdsUCGeuwKj+Fxq+eyMDFsIGBgXcCVuXMBaj8yQwMZswO\n",
       "DAwc2F3JEwCheXd0dIHoOQx8CpJA+gUOLy0Bk4zbD8AEuA/sAZKVQHy86Ekx3PLj0xn4YhgYLCFe\n",
       "gKtmuM4LCsK9QIsNeNs5FsCEDVwZ2D8wMNxCCyCeDeAgbAN66wDzHxaQF3iAmC9hFgM3MAgywIo2\n",
       "wJUzCYC1hoBUcUOEzy8AccIZ+IEukwc7PWoVEIDlPFkMoMoZwPJAwKEAJFj+MMgLQJXzIUxfwA1y\n",
       "BsgxDGB5GOBcwFAKikYwJwAeDwkmDAysYK+yHahnYEcEmALDJgaYV6fDRB/xAW2eCg4w/4T9DG8R\n",
       "piuw/IVEI8h5CVDRPdwHGA7dBlt6qPz4XESy5FGv/AekFkI42j5gmiV66e6tX3diTQScoABqgLBZ\n",
       "rCGJAAYwkpgWw3kHzCQGB/vQ+L0M27EkYJzZw71SAIshcIA18/HiyHwA50xc1dtZWDoAAAAASUVO\n",
       "RK5CYII=\n",
       "\" style=\"display:inline;vertical-align:middle;\" /></a> <a class=\"ProveItLink\" href=\"../__pv_it/demonstrations/a9fd8510af7a2217326a2639fed761aa293ab22f0/proof.ipynb\" style=\"text-decoration: none\">&nbsp;&#x22A2;&nbsp;&nbsp;</a><a class=\"ProveItLink\" href=\"../__pv_it/demonstrations/64feee4d507e81e8b0d34a380b15cc5551bdaf340/expr.ipynb\"><img src=\"data:image/png;base64,iVBORw0KGgoAAAANSUhEUgAAAL0AAAAUBAMAAAAq6iElAAAAMFBMVEX///+YmJjc3NxmZmYiIiLM\n",
       "zMwQEBCqqqoyMjJERER2dnbu7u5UVFSIiIi6uroAAAA5J+EfAAAAAXRSTlMAQObYZgAAAh5JREFU\n",
       "OMullT9oE3EUx7+9S5Pc/Zoz/pscTIvURTCLUKRicZLSIZtrXIVC6OrQgw46OAQKQqGFGxzEP3iD\n",
       "dJBiolOXwEHoYj0NDt2kaUEqxJS+d0eux+WXn1d9cHDvvc97x3vv93sHKGVSZlz6HzCS8edliLrM\n",
       "M1EaMqUGY3KuhrwUEPaQKTUYk30XF+Wet0OW1GBMXgD35J7NIUtqMCYr0ObknnwnYVCA1tePvkeV\n",
       "tDui7WHTtd5M+Xco4vbOEQpl6qH/+WdUJiPTLsxyIo8CNI0nRhXXOuJQt6r4TvoGGiXslYwejCLw\n",
       "AZe8+4MwM0AwFszt5VOWFX5VgA8yTauCeWB+UrexRrqNmxXxEKRlasBrvHN/cIhLz/UAQS7ZDgXo\n",
       "NqiZeg/442Y9LAb6VTZkHGQ7TK+FFf/mUEL6dDW6ifwqcJn9dWh9OpDjvwJ9mw30nWwwx36YYyE8\n",
       "s4xI848CZ0hrODAP6UAWqoF+IMiwHJYN5iKZCRBr7rT/zwb9GQU+4qtaRNbBOoz6FdJzPbNRw3au\n",
       "xGN7XOhiNwojpDmYb0wUoMZf1ZtYBWaxV3a0Y5j2ZcMbWzD5eFlHRlcrRmGz2CdFdxL5FWBY66sv\n",
       "1MEtf6lVIV37VBOtnRvf2Cdau+3zp4m2/Lu0afKVRP7U4N+vPY/r/b+D6rU1YYvjVPttJJiYW2Lt\n",
       "ZoqGJ127qUH1b8Pyb0mSnQVM89u7cAbwBKAvxwfVM54SAAAAAElFTkSuQmCC\n",
       "\" style=\"display:inline;vertical-align:middle;\" /></a></span>"
      ],
      "text/plain": [
       "{(x * y) in Integer} |- round(x * y) = (x * y)"
      ]
     },
     "execution_count": 114,
     "metadata": {},
     "output_type": "execute_result"
    }
   ],
   "source": [
    "from proveit.numbers import Mult\n",
    "Round(Mult(x,y)).do_reduced_simplification(assumptions=[InSet(Mult(x, y), Integer)])"
   ]
  },
  {
   "cell_type": "code",
   "execution_count": 115,
   "metadata": {},
   "outputs": [
    {
     "data": {
      "text/html": [
       "<span style=\"font-size:20px;\"><a class=\"ProveItLink\" href=\"../__pv_it/demonstrations/981577b70baeab389bc9976428513a9006cbdb0e0/expr.ipynb\"><img src=\"data:image/png;base64,iVBORw0KGgoAAAANSUhEUgAAAFwAAAAUBAMAAADyykdqAAAAMFBMVEX////MzMxUVFR2dna6uroQ\n",
       "EBCqqqqIiIgiIiJmZmYyMjJERETu7u6YmJjc3NwAAACgK8IjAAAAAXRSTlMAQObYZgAAAYtJREFU\n",
       "KM9jYOC7wIAJ8hhwgdPYBJkeoPJ5W3f/WroXxFqHTTnPAjQBLh4Fxr17gPomYLXTHI3PzWfAsOER\n",
       "AwPHA6zKj0Lp2x0dC2DK53ExMLzA7iMuBzAlXYNk+jxuBoZKIPt40ZPiApirKwsYnh5gYAa7kWcN\n",
       "smMUnBgYgN7lMeBt54D5jZklgKEe6KUFqAEEVM7WCdTcBlRxgPkPC0jiABA/41zAsJuBga0BrAjJ\n",
       "qxEdy4B0CNB0Bu4NYKt/gbSwFjB8Z2Bg/AASEV0FBFCvmkzYA1HOwMAPcXkTiPA/wPgRpvw1ckBO\n",
       "kWYAO4aBQV4AESazGNgDGBhYwI5hRVbOfbYA7FW2A/UM7AdgEpsYuBVgXuUsQFLOqDCRgcESaH3C\n",
       "foa3cHMmMfgDEx2nAZjThpQIGMyYBBg8GBgOlR+fi0iWh8rnA0OJC+K8Q1sOwJOYAPeub9gSwSwg\n",
       "PgFlO+/oQElt6EmMaQHPFyxJDA72oXI5LnAXYEnAuLIHS/lEUEA8wKUca+a7h0MxANIEZSGp+Mrf\n",
       "AAAAAElFTkSuQmCC\n",
       "\" style=\"display:inline;vertical-align:middle;\" /></a> <a class=\"ProveItLink\" href=\"../__pv_it/demonstrations/61011f5310dc5baf8f56e7e41bfd1546532790af0/proof.ipynb\" style=\"text-decoration: none\">&nbsp;&#x22A2;&nbsp;&nbsp;</a><a class=\"ProveItLink\" href=\"../__pv_it/demonstrations/fd11ecae4d8f7f68358c25b62c786b14a65b79800/expr.ipynb\"><img src=\"data:image/png;base64,iVBORw0KGgoAAAANSUhEUgAAAY8AAAAUBAMAAACHYqzgAAAAMFBMVEX///+YmJjc3NxmZmYiIiLM\n",
       "zMwQEBCqqqoyMjJERER2dnbu7u5UVFSIiIi6uroAAAA5J+EfAAAAAXRSTlMAQObYZgAABEpJREFU\n",
       "SMedV19oHEUc/u72cpe9zW1TqyD44LUGhVLoiQhpSfHUByUEvDfBl54vohbDUnzzoYdVvAcpMWJR\n",
       "aPFAHzS2dMFSqkRz5kECElg86oPt2UNq3kLSYGngbOPvN5vdm9mb3Tv9YEhm7pvvmz+/mf0NkIj9\n",
       "u6UPJ/ta0uMxGrmilh/fQfLWiw0xGgkjZ0uw5iBKP8b6BL/T0b498gmwrOXrO6jeGixHl2Pha0en\n",
       "LmGPg1EijGpJVi3a8i6v14kIq4lLHVzV8kWHAd4aXI3UH0Putk5dwoaLffRnn/7Xi8Fee/7fVAlY\n",
       "vNBVWw0X2SrynsQPwR0GeWuQ91Tfmw7+1qjL+BJ4Dn7R4EpkIhlewFRkItkyxrZgVSV+iExxsLcu\n",
       "FKqq71oH2xp1GaeRLkMUHUY7quAENBMZ7WLsDnBG4oeYGOytxRnVFxxarG7f+LFNbRdbHavl4Ypr\n",
       "XzjQPkbjP3rtLgq0+1ys9vJ6uHlMe9xFvqQKtnQT4YWnpi84JKKRxB3Wf1lvJ3grvvjhGNInfDHF\n",
       "4XJDqOfND8wqJjrWlmFXcZPq57FUxFrR7MKkC5LL93jQezEMUkFDqqYKfhQzkQ2yeRgB/6s643TQ\n",
       "ofGpczbBW/FFYw2FTV9Mdjj4vCvUX8407Qqmgen9Rg2fUb2GwxXrVVAt40CUb3DJ/ZM7URc8IWjI\n",
       "lVXBF2ImMkPlbfT4IajDiDODvxK8Fd+0MwlzzhdTHAqzQt1douA1aAD/uFkPb4n6o9yQaSBLP3Fx\n",
       "eeQcVdssSrR7NIhN3p16/b3X6/Um/Tvbm4jUCoMj6jh2+TKog2XdT/RWfC0i7PF8MdkBeM0V6qf4\n",
       "dplD+h7deSN3RH2FG0g0mAh45MHy7tKCgQUrM6vfEXF04iaC3Gait+prd3G84otJDgeAzx2hPkm1\n",
       "pQbyW3TnFaqiftuihlMIQwtsEmJS0OyhQitXYqdbCPj+Gfkw6EAhlOSt+hL5N/hiksOOyxNh9Tf5\n",
       "QzqObAPnKAYfoXqum19ysJIrBof9HTpk10NBojWHPeyvAL/Kh10CdyDTJG/Vl1zPoe+wvwG85LJ6\n",
       "midtNPExMIW1UiN9H/naQ6aXmsmLK5OKfdfclDK8KWxQxWioguJWLEQmkp5emKK1OooePwR3OFxJ\n",
       "8o74Gk2bvhhCTPLdK74jpO5v+cLvFJKL7ZOrFaqnf3Ks1WuH/hC/UbFWr7f29kaw2H6GU7CKKsg7\n",
       "bvy8/aT6QdzZ2SGN99Hjh7gVhEmsd8TXWm1twReTfO2njnQ06hHEpCh8rC7rUpRetu3JWUVZ4g+X\n",
       "ouh9+UhZZY1Dv3oEuqRxrMaXZpimWa4uBwxae3nef0sadcnqCl9mYdKoOCQnjXy+in5RVnLc9HRp\n",
       "+XysSkwaPz/YW8GzOK9J42MeFVGC5mFlt5/W2SS8k+a1/KSHVeCtYL1ViZu+OSBME566Dwz/ck0V\n",
       "tfz/99RNFWNG8y/lf69u9RsdAQAAAABJRU5ErkJggg==\n",
       "\" style=\"display:inline;vertical-align:middle;\" /></a></span>"
      ],
      "text/plain": [
       "{(x * y) in Real} |- round((x * y) + (1 + 2)) = (round(x * y) + 3)"
      ]
     },
     "execution_count": 115,
     "metadata": {},
     "output_type": "execute_result"
    }
   ],
   "source": [
    "InSet(three, Integer).prove()\n",
    "Round(Add(Mult(x,y), Add(one, two))).simplification(assumptions=[InSet(Mult(x, y), Real)])"
   ]
  },
  {
   "cell_type": "code",
   "execution_count": 116,
   "metadata": {},
   "outputs": [
    {
     "data": {
      "text/html": [
       "<span style=\"font-size:20px;\"><a class=\"ProveItLink\" href=\"../__pv_it/axioms/02bd6ad73acd9f4d3192ee4c61bfdcabbff20f180/expr.ipynb\"><img src=\"data:image/png;base64,iVBORw0KGgoAAAANSUhEUgAAADQAAAAPBAMAAABZ6/G2AAAAMFBMVEX///8QEBBmZmaqqqrMzMxE\n",
       "REQyMjIiIiKYmJh2dna6urrc3NxUVFSIiIju7u4AAAA6P00QAAAAAXRSTlMAQObYZgAAAMRJREFU\n",
       "GNNjYMAAHIWh3xIjGLACNr4DLBFxWKVYuScwBOxBEWotL0+ASWmzIcu43kPSpc0KZLy9s+vmBSDN\n",
       "l4ds4IE1QJEJHLXsIHN4NiBJMRcBFXI+4PzHBRJlRXKGeHkyyBwG1gCwgGMaEECdMUsB4nb+C2Bq\n",
       "K7LjtVzBLH8HMMWILMX6Aqie+cF9Bt4HQAGmC0hSLAdUGBjWG8Qz7ACLFCMFFMNkHgeGN3ffajSA\n",
       "Rd5EPYAHrwNr2Gfk4FgZDgkoKAAAelg1omM6Y4wAAAAASUVORK5CYII=\n",
       "\" style=\"display:inline;vertical-align:middle;\" /></a>, <a class=\"ProveItLink\" href=\"../__pv_it/theorems/0886f5b6aacf5197ba709a53d4f3243edcc3de560/expr.ipynb\"><img src=\"data:image/png;base64,iVBORw0KGgoAAAANSUhEUgAAADMAAAASBAMAAAAEf/uKAAAAMFBMVEX///8iIiKYmJhUVFTMzMxE\n",
       "REQyMjKqqqq6urp2dnYQEBDc3NxmZmaIiIju7u4AAACH5sGpAAAAAXRSTlMAQObYZgAAAN1JREFU\n",
       "GNNjYMAAikvj05YqMGAFCY8ZXFUfYJUK2MnAym2AIqQqKJgAleLZkIAs43oPoYtnQwADA9+dCwy7\n",
       "QAbz5SEZyMwBNJCTYwHDfZAA8wYkqcJjQNXbeRIYQkECrAhn7BIUKwDSD7guMPwFCXilAQHUGT2s\n",
       "YLf3P2D5AqK3IjmepyUAxDjGwLsARHMh+ytOF8QIZmAFe4/nApKUM48DkHGYoR8SYOJIAcVZYAJk\n",
       "PL57HuLsxxEPYMGbwhCaXwCxDQI6AwVRgoc5ge8H9ghgYFRgvYBDiuPuERwyAAfzPe7bmvmqAAAA\n",
       "AElFTkSuQmCC\n",
       "\" style=\"display:inline;vertical-align:middle;\" /></a> <a class=\"ProveItLink\" href=\"../__pv_it/demonstrations/a47c73b3c6ea485dd12778cecea81fa5074303630/proof.ipynb\" style=\"text-decoration: none\">&nbsp;&#x22A2;&nbsp;&nbsp;</a><a class=\"ProveItLink\" href=\"../__pv_it/demonstrations/1171c8669b236df171665e2d1b59efbab92e14870/expr.ipynb\"><img src=\"data:image/png;base64,iVBORw0KGgoAAAANSUhEUgAAAX8AAAAUBAMAAACXLiB5AAAAMFBMVEX///+YmJjc3NxmZmYiIiLM\n",
       "zMwQEBCqqqoyMjJERER2dnbu7u5UVFSIiIi6uroAAAA5J+EfAAAAAXRSTlMAQObYZgAAA8dJREFU\n",
       "SMetV0toE1EUPZ2J+cw009YqCC6MHxREMCJCKxWrLpQimJ3gxrgRPyihuHPRYBWzEKmKgmAxoAut\n",
       "igOWolJtdCHdFIJBF2o0iHQn/WBpIbb1vtc2zXvzJpOqFwJzT+495915vztARVtbPdquAgMRJ6bV\n",
       "/4Wmkt0Fnbdlt6Iwu1T/qNFaeazPmm8Cb52BL/5G08Gu9TxMOFHB6hIIUkDgtPxHUJlmJiU/g6cF\n",
       "PHcGXvDW9GbHegTGnKhgIzYagf7HxYXlkJ1/aFTHPxHjdBv+OIysHFYT9dSsgh3fEvi1iCrtPrCX\n",
       "CToK2KuO7xPj/K2oHYcZl8N8EW9Nb3YMFzC1iCqtE1qrqgCOKixYEOKCRdROAFflsA1VaHqzs6cx\n",
       "jlpfXucJe5IrmLks+mzr8br8Lhrlzg+TCEdVBTDUzL/9WZo+lrjRhhGVJXyUek8eSQ6emgI7Xu2C\n",
       "dlrB3psGQ43Q5VAcGwrmuG7F8Y38bgxEMBwJFRGqVxXA0JdYkT2wwGTwRNQkZYkRkljFnx6kmHWy\n",
       "x2vw1BTYkR5GeNTJvnmfzTUP+zJWDG1A21o9idvkJ7E1Zh4Deb6EqgCGPsJT+ztziASbeCICrXIB\n",
       "B+l3Tp6B/fDUFNi1RBNCXQr28FmuaQ/Q4tJpkL9tfxZnuL+GAb40/IVSAUYqdfFEKpVhu7PAmG/P\n",
       "rZ4pJkOJ03SIj4px0NmsH5ULIFkvTYHdpIC6rJMdOG5ztIONqQvaNJ1hyya4P8gAIi0roKx2jrIR\n",
       "L7zk+UQuUf6OcnApwFNTYLeKOBpzsK8D7iY42kTeQBrGOJ1h4Tj3x0wCOlBhCYHJlqyJJ1rSJAei\n",
       "TOVH2R64Mr+EPDUFdlpXH53sszYrgKGn2AVYD38ad2itrSY/UDQGEhgMRNw38XnaVp9LEpSYcW7i\n",
       "I8D7hU1cZrSJvTRFduK+42Q/CRyyGaqxYvUMbgAtGI6mtRkYyZWhbM1BY+7oCssFEGpNhkbLerIW\n",
       "jJCjp4U4ra2nhd7PTrkAOlc9NCV2PWONOdjRwO8BQuempucTLb3+fPtQjHztTcIc+rDlK/9Pfze1\n",
       "TUwl1Bz6nGtYHFN/fjddr8GYeJHNzs5S/iW5gB/w0pTYzaHcuIMd1vbmwiLqZsK1XqmVYIu6V47j\n",
       "6q1LaiXU7LQL1Owl1M2Exsq0XZq52qQ5U9ZuleL4eltaM6dqFQfZ4aRmr9zMsf0TqQb11YeycGlt\n",
       "Fe309SVq7kG3G3vldtr100VGrfwO12KvL+mDRqn5Mxer9lX+0yflchVY878+KZXsDP0D+ISb7Weo\n",
       "hp0AAAAASUVORK5CYII=\n",
       "\" style=\"display:inline;vertical-align:middle;\" /></a></span>"
      ],
      "text/plain": [
       "{x in Real, y in Real} |- round(1 + (x * y) + 2) = (round(x * y) + 3)"
      ]
     },
     "execution_count": 116,
     "metadata": {},
     "output_type": "execute_result"
    }
   ],
   "source": [
    "InSet(three, Integer).prove()\n",
    "Round(Add(one, Mult(x,y), two)).simplification(assumptions=[InSet(x, Real), InSet(y, Real)])"
   ]
  },
  {
   "cell_type": "code",
   "execution_count": 117,
   "metadata": {},
   "outputs": [
    {
     "data": {
      "text/html": [
       "<span style=\"font-size:20px;\"> <a class=\"ProveItLink\" href=\"../__pv_it/demonstrations/2ac45f5d12e15e19e5209b364495414e01ea1e510/proof.ipynb\" style=\"text-decoration: none\">&nbsp;&#x22A2;&nbsp;&nbsp;</a><a class=\"ProveItLink\" href=\"../__pv_it/demonstrations/a0d97744e798809c5be425b877104d7794e4c06d0/expr.ipynb\"><img src=\"data:image/png;base64,iVBORw0KGgoAAAANSUhEUgAAAPQAAAAUBAMAAABIRQ1PAAAAMFBMVEX///+YmJjc3NxmZmYiIiLM\n",
       "zMwQEBCqqqoyMjJERER2dnbu7u5UVFSIiIi6uroAAAA5J+EfAAAAAXRSTlMAQObYZgAAArBJREFU\n",
       "SMetVk1oE1EQ/rL53X3NNv6B4MGtiF6E5iKE0mL0JCWHvXlsvCqFpXjzYKCIPYgUhWKhhQU9iFrc\n",
       "gxSRamJPBQkEQj1YV4PU3ELTgFSILc6smsqyWXfFB8nbeW++b3bezLxZwHcMeS1OIdTw5EhqPoj4\n",
       "XBZi1mtnQAtqtT8HVv1wgwZSnkZEKbDHfTnwwg+2ZeGQ985SYNP9OZSaD+whcMF7Zzmw6f4cougD\n",
       "m4aU995JNYKa7s+BO1A/vLbJ96V6Q9RrWLbUpyfsMUAaWd9BOktvZ6+2egfMKqcsKFkXTettyw7K\n",
       "gVdjkK4CD6DIt+QiTjZEJ6oW8YnkRZQ1NDW5CzkDvMTh2sVegBwVRJw8ezTDY5ofzfvGXFAOmE2k\n",
       "28BRXIpVVB3jwPhQtIR5kksY1sVlkBQzgCd4Zn1mhxl12lFB0nWIcaOALwE4YNFPMnKQqeCuwSpT\n",
       "4KJd4LuVqGHSkY/zQsxEosHa8w59mT1llV0y1XaljNgLxCG+OT5MYpBCPAHcIDExC2mXKiH+1ZHX\n",
       "eIHgCSeddh1YrPKzWFjFbRrJdiAOFPhP7WJCd0zn2CUTSocqIV105G1BCwTnwwJT9UbOUVHz+7G+\n",
       "zY90sME5SPkdTZvAFb50MkiYWKAYHCM52VXKBtaSGqfIdUqJjR6MVCq/0+yPQeDgHMSwAE4ziV8o\n",
       "WsE9YBTNrCntQSkdkWuRgsJFpO7IbSnTg41ii4So6TI9rIfgiFbUbZpGfh3e4/cUkhV7qqqTLL0x\n",
       "RHX9zEfeE9WN+oF9Gyv2ObqSU7rL9GYYDlGtd2i66X8ZeVyCnBrPw/RMDw5ODZH3h7mv/oESl1GI\n",
       "9uHBQbnP9ezbPjgjXA0vlpFroZqmBwfOY/FvTZPD4mrzqn3WiywUB1p1TpW7//Rxc/A/fCBFNPwA\n",
       "rhsYjI+UuiIAAAAASUVORK5CYII=\n",
       "\" style=\"display:inline;vertical-align:middle;\" /></a></span>"
      ],
      "text/plain": [
       "|- round(x * y) = round(x * y)"
      ]
     },
     "execution_count": 117,
     "metadata": {},
     "output_type": "execute_result"
    }
   ],
   "source": [
    "# If operand is not known or assumed to be an integer\n",
    "# or a simple Add expression, we do not get an error but\n",
    "# instead the trivial self-equivalence\n",
    "Round(Mult(x,y)).do_reduced_simplification()"
   ]
  },
  {
   "cell_type": "code",
   "execution_count": 118,
   "metadata": {},
   "outputs": [
    {
     "data": {
      "text/html": [
       "<span style=\"font-size:20px;\"> <a class=\"ProveItLink\" href=\"../__pv_it/demonstrations/2ac45f5d12e15e19e5209b364495414e01ea1e510/proof.ipynb\" style=\"text-decoration: none\">&nbsp;&#x22A2;&nbsp;&nbsp;</a><a class=\"ProveItLink\" href=\"../__pv_it/demonstrations/a0d97744e798809c5be425b877104d7794e4c06d0/expr.ipynb\"><img src=\"data:image/png;base64,iVBORw0KGgoAAAANSUhEUgAAAPQAAAAUBAMAAABIRQ1PAAAAMFBMVEX///+YmJjc3NxmZmYiIiLM\n",
       "zMwQEBCqqqoyMjJERER2dnbu7u5UVFSIiIi6uroAAAA5J+EfAAAAAXRSTlMAQObYZgAAArBJREFU\n",
       "SMetVk1oE1EQ/rL53X3NNv6B4MGtiF6E5iKE0mL0JCWHvXlsvCqFpXjzYKCIPYgUhWKhhQU9iFrc\n",
       "gxSRamJPBQkEQj1YV4PU3ELTgFSILc6smsqyWXfFB8nbeW++b3bezLxZwHcMeS1OIdTw5EhqPoj4\n",
       "XBZi1mtnQAtqtT8HVv1wgwZSnkZEKbDHfTnwwg+2ZeGQ985SYNP9OZSaD+whcMF7Zzmw6f4cougD\n",
       "m4aU995JNYKa7s+BO1A/vLbJ96V6Q9RrWLbUpyfsMUAaWd9BOktvZ6+2egfMKqcsKFkXTettyw7K\n",
       "gVdjkK4CD6DIt+QiTjZEJ6oW8YnkRZQ1NDW5CzkDvMTh2sVegBwVRJw8ezTDY5ofzfvGXFAOmE2k\n",
       "28BRXIpVVB3jwPhQtIR5kksY1sVlkBQzgCd4Zn1mhxl12lFB0nWIcaOALwE4YNFPMnKQqeCuwSpT\n",
       "4KJd4LuVqGHSkY/zQsxEosHa8w59mT1llV0y1XaljNgLxCG+OT5MYpBCPAHcIDExC2mXKiH+1ZHX\n",
       "eIHgCSeddh1YrPKzWFjFbRrJdiAOFPhP7WJCd0zn2CUTSocqIV105G1BCwTnwwJT9UbOUVHz+7G+\n",
       "zY90sME5SPkdTZvAFb50MkiYWKAYHCM52VXKBtaSGqfIdUqJjR6MVCq/0+yPQeDgHMSwAE4ziV8o\n",
       "WsE9YBTNrCntQSkdkWuRgsJFpO7IbSnTg41ii4So6TI9rIfgiFbUbZpGfh3e4/cUkhV7qqqTLL0x\n",
       "RHX9zEfeE9WN+oF9Gyv2ObqSU7rL9GYYDlGtd2i66X8ZeVyCnBrPw/RMDw5ODZH3h7mv/oESl1GI\n",
       "9uHBQbnP9ezbPjgjXA0vlpFroZqmBwfOY/FvTZPD4mrzqn3WiywUB1p1TpW7//Rxc/A/fCBFNPwA\n",
       "rhsYjI+UuiIAAAAASUVORK5CYII=\n",
       "\" style=\"display:inline;vertical-align:middle;\" /></a></span>"
      ],
      "text/plain": [
       "|- round(x * y) = round(x * y)"
      ]
     },
     "execution_count": 118,
     "metadata": {},
     "output_type": "execute_result"
    }
   ],
   "source": [
    "# If we try to nudge things along by assuming x, y in the set of Integer numbers,\n",
    "# simplification will (by design) not automatically deduce that the\n",
    "# product is an integer, so we still get the trivial self-equivalence\n",
    "Round(Mult(x,y)).simplification(\n",
    "        assumptions=[InSet(x, Integer), InSet(y, Integer)])"
   ]
  },
  {
   "cell_type": "code",
   "execution_count": 119,
   "metadata": {},
   "outputs": [
    {
     "data": {
      "text/html": [
       "<span style=\"font-size:20px;\"><a class=\"ProveItLink\" href=\"../__pv_it/demonstrations/4110edc5b395651a883c57567a6071ef99be059b0/expr.ipynb\"><img src=\"data:image/png;base64,iVBORw0KGgoAAAANSUhEUgAAAFsAAAAUBAMAAAAQFlwTAAAAMFBMVEX////MzMxUVFR2dna6uroQ\n",
       "EBCqqqqIiIgiIiJmZmYyMjJERETu7u6YmJjc3NwAAACgK8IjAAAAAXRSTlMAQObYZgAAAYRJREFU\n",
       "KM9jYOC7wIAJ2B4w4ACnsYrqofE94qOWdsUCGeuwKj+Fxq+eyMDFsIGBgXcCVuXMBaj8yQwMZswO\n",
       "DAwc2F3JEwCheXd0dIHoOQx8CpJA+gUOLy0Bk4zbD8AEuA/sAZKVQHy86Ekx3PLj0xn4YhgYLCFe\n",
       "gKtmuM4LCsK9QIsNeNs5FsCEDVwZ2D8wMNxCCyCeDeAgbAN66wDzHxaQF3iAmC9hFgM3MAgywIo2\n",
       "wJUzCYC1hoBUcUOEzy8AccIZ+IEukwc7PWoVEIDlPFkMoMoZwPJAwKEAJFj+MMgLQJXzIUxfwA1y\n",
       "BsgxDGB5GOBcwFAKikYwJwAeDwkmDAysYK+yHahnYEcEmALDJgaYV6fDRB/xAW2eCg4w/4T9DG8R\n",
       "piuw/IVEI8h5CVDRPdwHGA7dBlt6qPz4XESy5FGv/AekFkI42j5gmiV66e6tX3diTQScoABqgLBZ\n",
       "rCGJAAYwkpgWw3kHzCQGB/vQ+L0M27EkYJzZw71SAIshcIA18/HiyHwA50xc1dtZWDoAAAAASUVO\n",
       "RK5CYII=\n",
       "\" style=\"display:inline;vertical-align:middle;\" /></a> <a class=\"ProveItLink\" href=\"../__pv_it/demonstrations/a9fd8510af7a2217326a2639fed761aa293ab22f0/proof.ipynb\" style=\"text-decoration: none\">&nbsp;&#x22A2;&nbsp;&nbsp;</a><a class=\"ProveItLink\" href=\"../__pv_it/demonstrations/64feee4d507e81e8b0d34a380b15cc5551bdaf340/expr.ipynb\"><img src=\"data:image/png;base64,iVBORw0KGgoAAAANSUhEUgAAAL0AAAAUBAMAAAAq6iElAAAAMFBMVEX///+YmJjc3NxmZmYiIiLM\n",
       "zMwQEBCqqqoyMjJERER2dnbu7u5UVFSIiIi6uroAAAA5J+EfAAAAAXRSTlMAQObYZgAAAh5JREFU\n",
       "OMullT9oE3EUx7+9S5Pc/Zoz/pscTIvURTCLUKRicZLSIZtrXIVC6OrQgw46OAQKQqGFGxzEP3iD\n",
       "dJBiolOXwEHoYj0NDt2kaUEqxJS+d0eux+WXn1d9cHDvvc97x3vv93sHKGVSZlz6HzCS8edliLrM\n",
       "M1EaMqUGY3KuhrwUEPaQKTUYk30XF+Wet0OW1GBMXgD35J7NIUtqMCYr0ObknnwnYVCA1tePvkeV\n",
       "tDui7WHTtd5M+Xco4vbOEQpl6qH/+WdUJiPTLsxyIo8CNI0nRhXXOuJQt6r4TvoGGiXslYwejCLw\n",
       "AZe8+4MwM0AwFszt5VOWFX5VgA8yTauCeWB+UrexRrqNmxXxEKRlasBrvHN/cIhLz/UAQS7ZDgXo\n",
       "NqiZeg/442Y9LAb6VTZkHGQ7TK+FFf/mUEL6dDW6ifwqcJn9dWh9OpDjvwJ9mw30nWwwx36YYyE8\n",
       "s4xI848CZ0hrODAP6UAWqoF+IMiwHJYN5iKZCRBr7rT/zwb9GQU+4qtaRNbBOoz6FdJzPbNRw3au\n",
       "xGN7XOhiNwojpDmYb0wUoMZf1ZtYBWaxV3a0Y5j2ZcMbWzD5eFlHRlcrRmGz2CdFdxL5FWBY66sv\n",
       "1MEtf6lVIV37VBOtnRvf2Cdau+3zp4m2/Lu0afKVRP7U4N+vPY/r/b+D6rU1YYvjVPttJJiYW2Lt\n",
       "ZoqGJ127qUH1b8Pyb0mSnQVM89u7cAbwBKAvxwfVM54SAAAAAElFTkSuQmCC\n",
       "\" style=\"display:inline;vertical-align:middle;\" /></a></span>"
      ],
      "text/plain": [
       "{(x * y) in Integer} |- round(x * y) = (x * y)"
      ]
     },
     "execution_count": 119,
     "metadata": {},
     "output_type": "execute_result"
    }
   ],
   "source": [
    "# But if we assume the entire product is an integer, the simplification\n",
    "# process will find the expected equivalence and extract out the\n",
    "# product from the round() function\n",
    "Round(Mult(x,y)).simplification(assumptions=[InSet(Mult(x, y), Integer)])"
   ]
  },
  {
   "cell_type": "code",
   "execution_count": 120,
   "metadata": {},
   "outputs": [],
   "source": [
    "%end demonstrations"
   ]
  },
  {
   "cell_type": "code",
   "execution_count": null,
   "metadata": {},
   "outputs": [],
   "source": []
  }
 ],
 "metadata": {
  "kernelspec": {
   "display_name": "Python 3",
   "language": "python",
   "name": "python3"
  }
 },
 "nbformat": 4,
 "nbformat_minor": 0
}