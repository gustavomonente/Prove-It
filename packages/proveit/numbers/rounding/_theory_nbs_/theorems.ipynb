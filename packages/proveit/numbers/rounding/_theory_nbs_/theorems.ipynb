{
 "cells": [
  {
   "cell_type": "markdown",
   "metadata": {},
   "source": [
    "Theorems (or conjectures) for the theory of <a class=\"ProveItLink\" href=\"theory.ipynb\">proveit.numbers.rounding</a>\n",
    "========"
   ]
  },
  {
   "cell_type": "code",
   "execution_count": 1,
   "metadata": {},
   "outputs": [],
   "source": [
    "import proveit\n",
    "# Prepare this notebook for defining the theorems of a theory:\n",
    "%theorems_notebook # Keep this at the top following 'import proveit'.\n",
    "from proveit import a, n, x, y\n",
    "from proveit.logic import Equals, Forall, InSet\n",
    "from proveit.numbers import (Add, Ceil, Floor, frac, GreaterEq, LessEq,\n",
    "                            Neg, Round, subtract)\n",
    "from proveit.numbers import (zero, one, two, Integer, Natural,\n",
    "                            NaturalPos, Real, RealPos)"
   ]
  },
  {
   "cell_type": "code",
   "execution_count": 2,
   "metadata": {},
   "outputs": [
    {
     "name": "stdout",
     "output_type": "stream",
     "text": [
      "Defining theorems for theory 'proveit.numbers.rounding'\n",
      "Subsequent end-of-cell assignments will define theorems\n",
      "'%end theorems' will finalize the definitions\n"
     ]
    }
   ],
   "source": [
    "%begin theorems"
   ]
  },
  {
   "cell_type": "markdown",
   "metadata": {},
   "source": [
    "### Basic Properties of Ceil, Floor, & Round"
   ]
  },
  {
   "cell_type": "code",
   "execution_count": 3,
   "metadata": {},
   "outputs": [
    {
     "data": {
      "text/html": [
       "<strong id=\"ceil_of_integer\"><a class=\"ProveItLink\" href=\"proofs/ceil_of_integer/thm_proof.ipynb\">ceil_of_integer</a> (conjecture without proof):<br></strong> <a class=\"ProveItLink\" href=\"../__pv_it/theorems/9b93d1f92ceaf039b8edf348b90877ead8acdc6b0/theorem_expr.ipynb\"><img src=\"data:image/png;base64,iVBORw0KGgoAAAANSUhEUgAAAIkAAAAVBAMAAACArtDCAAAAMFBMVEX///8QEBCIiIhmZma6urrM\n",
       "zMxUVFQiIiJERETc3Nzu7u6qqqp2dnaYmJgyMjIAAAAcRTyBAAAAAXRSTlMAQObYZgAAAeVJREFU\n",
       "OMudlE1IAkEUx//50eo62rWjGHiQICE6BlKnTnmqUxRRQZeIbkGE0GWlQx6ioqg2gwqJEKKD0UHs\n",
       "lEUtFH0cAiEoiBIJgj4uzTi7mTXR2sC6b31vf/Pe/+0b4I+1kb/lxlL+Af9bi8BM6WlLHJSiV44Z\n",
       "12K/HCmjeMRR1THgkBn3Yr8nZoYi00Tm6N0ZEftPYYaCDHWpAEmK3aPmKCuAO5tIzIq9zmFzFE8I\n",
       "eFGUMbHXEtQpcf90vVdAkX2DLbQcQuP6gaiY4tA4RU67R6ScQTnOs3XDzE1ceMdpOdTXWhS51Lfa\n",
       "/YkgN6UkpxCVvNliglyyOFHbABetXIJFMzLca9SkGImr/LEqpOcCR0SoiwqF3ewFupMmGf9ephJw\n",
       "oWsR5RSgxvuLuk8GxZnrYD1v8odtvJJgGuUVAd3hEoXrwofL/sx+bayX0T7aDnVICvEo90L4m7ou\n",
       "tYEGCHLZtRQQ4Opim6LseARWi644MYKI3un25BSbyx8U27uj4KQ7WdOfRb8CnYqieJHOYl6P0r+6\n",
       "NV+8WRNQ5N5AHZtjD0verRYVsqO6+OqOhoPKJmDdMJZJjoAwptXKc6hsGvlaO8tkgUlqnQ8c3fUY\n",
       "8po+GcoGh+lS8SnF9vrrxNz8MhzioCvgA7MKiybDcvAGAAAAAElFTkSuQmCC\n",
       "\" style=\"display:inline;vertical-align:middle;\" /></a><br>"
      ],
      "text/plain": [
       "ceil_of_integer: forall_{x in Integer} (ceil(x) = x)"
      ]
     },
     "execution_count": 3,
     "metadata": {},
     "output_type": "execute_result"
    }
   ],
   "source": [
    "ceil_of_integer = Forall(x, Equals(Ceil(x), x), domain=Integer)"
   ]
  },
  {
   "cell_type": "code",
   "execution_count": 4,
   "metadata": {},
   "outputs": [
    {
     "data": {
      "text/html": [
       "<strong id=\"floor_of_integer\"><a class=\"ProveItLink\" href=\"proofs/floor_of_integer/thm_proof.ipynb\">floor_of_integer</a> (conjecture without proof):<br></strong> <a class=\"ProveItLink\" href=\"../__pv_it/theorems/984f60cb2ac35addbcc77ef5b0bab8fc8e85fe9b0/theorem_expr.ipynb\"><img src=\"data:image/png;base64,iVBORw0KGgoAAAANSUhEUgAAAIkAAAAVBAMAAACArtDCAAAAMFBMVEX///8QEBCIiIhmZma6urrM\n",
       "zMxUVFQiIiJERETc3Nzu7u6qqqp2dnaYmJgyMjIAAAAcRTyBAAAAAXRSTlMAQObYZgAAAeJJREFU\n",
       "OMudVDtIw1AUPfZj2vS1ro5FoUMRLIijUHRyspNOoogKLiIOVkGk4BJxsIOoKNVYQaEoFMRBcSh1\n",
       "sooGFD+DUBAUBKUIgp/F9/ISS/WJqQ/SnPTcnHfvubkP+GNtFaEN/1sJYK745BMH7dIrz8CNmJdj\n",
       "VlQq48ARAw9i3he3oiLTRBbo3R0T82ewooIspVSApMX0mDWVVcCbS6Xmxax7yJqKLwy8Ksq4mLWF\n",
       "DJVkYLbOL1CRawaaaTmExvUBU2IVl8ZV5Ix3WMqbKidPbN0yuIlL/wQth3ItusnFvlUfTIY4lNJc\n",
       "hajk3REX5JLDqdoKeGjlEmyameF+gybFSVLljxVhIxe4YkJfVCjs5izQnTTJ/PdqNwUPOhMoVQGq\n",
       "/L+4+2yquPPtrOeNgYiDVxLKoLQioCtSVOG+3OnY+cJ+HayXU720HeqgFOZR3qXIN3c9aj0NEOSy\n",
       "ZysgyN3FNpVy4hFY06kkMYOI0em29Aybyx8qjg9XwU13sme+in4DOhRF8SOTw6IRZXx16zXJJk2g\n",
       "IvcEa9kc+1jyXlV3yIlK/dUdDYflTcCGCVZInoAwTbud51DeNPK1fp7NAdMUXfQf33eb9lo+GUoG\n",
       "h/lS9inF9vrrxFyNjnC8HB0VB10Dn872iKpPU2J1AAAAAElFTkSuQmCC\n",
       "\" style=\"display:inline;vertical-align:middle;\" /></a><br>"
      ],
      "text/plain": [
       "floor_of_integer: forall_{x in Integer} (floor(x) = x)"
      ]
     },
     "execution_count": 4,
     "metadata": {},
     "output_type": "execute_result"
    }
   ],
   "source": [
    "floor_of_integer = Forall(x, Equals(Floor(x), x), domain=Integer)"
   ]
  },
  {
   "cell_type": "code",
   "execution_count": 5,
   "metadata": {},
   "outputs": [
    {
     "data": {
      "text/html": [
       "<strong id=\"round_of_integer\"><a class=\"ProveItLink\" href=\"proofs/round_of_integer/thm_proof.ipynb\">round_of_integer</a> (conjecture without proof):<br></strong> <a class=\"ProveItLink\" href=\"../__pv_it/theorems/dc4914a537fd97f86ca0919c9f4d73db22228d5c0/theorem_expr.ipynb\"><img src=\"data:image/png;base64,iVBORw0KGgoAAAANSUhEUgAAAL4AAAAUBAMAAADB3ZomAAAAMFBMVEX///8QEBCIiIhmZma6urrM\n",
       "zMxUVFQiIiJERETc3Nzu7u6qqqp2dnaYmJgyMjIAAAAcRTyBAAAAAXRSTlMAQObYZgAAAsFJREFU\n",
       "OMulVUtoE2EQ/to8NtnspsX2UMVDTLEXBYOvk9ZYES+COfk4SENRoT1IERGkIlUvW0QbVKookjVC\n",
       "KTnogogUBJfUS6PogqKCVHJQREHJQcE+BGc22WQbd9eAe8jOfDP/zD/fzE4Ar+e2pxVho/KOZJzt\n",
       "jJdYmHO2i6PusQ92AFOWMujiRPgzfn91NkczHpdfBL5Y8j0XH8JvcJ0u93zlEd6/ADlhKVLM2Ynw\n",
       "qEovzdl82iO+NAyhVp7Y7kJwO+RiPn/dpX3DHvGjCdiOfXTxIvyXopxxNrZS/X1DfXG6bHwzchsh\n",
       "rsLewSvdRMbVQr+GbvLJ9VxbT/pM49k6fhQYc44fovHTL2vnED6J+5nETrSWoSsxcR7+lRhXcYkI\n",
       "0OUTAo3gB5Oy7+bDXbHhuyCWbEGDXTMXqn0TNAS0U9gNQYcwa/QiNBrQziL8E3cM9AIjFFKVFvzU\n",
       "hkeN3anjAloNqx2PNxlCRsqpFbUlCVH8QcIOFW1DWIGWGOtymQHitJNOUE527W9sbB2XDMFC303n\n",
       "EcFh66ul+IiUSegCsjEayP4U68ESAZy3k53aYk7xbXi4tJ+EwpaelL/CS0JHjR/4iDtxCXiZoYFc\n",
       "Y+ptRn7JzDtiRkjx7x4b/2ksx8eO0Kiox4Vk1DTIt1K2/rZwst/AaoTSUGSV9CdqcZGKmOb+RtQN\n",
       "dLbaX/vmseEPaMwD+AbcrUyWVGsS1ZPlZFsRSsCX9ndIyCbxQk6dx9u0zsO3Txs3l+C2hvh2vMLU\n",
       "PHBAUZQY9CJuVlfAsFV44SmxNLBuYi3rE+8xGT80kGR5Mp7bztPxqSG+HZd5XALlAIJm0IcGZpvY\n",
       "D9yf+n5w+dJreFYqSZCYC5/PvPc/9xtfrJn9Vq3ndaEIXCTpzbHnn9NWgzPeCcaa2M/LFg7z3+T/\n",
       "Cz9TfyVyu8D//T/KLnUS/gfRdM2xgKoNywAAAABJRU5ErkJggg==\n",
       "\" style=\"display:inline;vertical-align:middle;\" /></a><br>"
      ],
      "text/plain": [
       "round_of_integer: forall_{x in Integer} (round(x) = x)"
      ]
     },
     "execution_count": 5,
     "metadata": {},
     "output_type": "execute_result"
    }
   ],
   "source": [
    "round_of_integer = Forall(x, Equals(Round(x), x), domain=Integer)"
   ]
  },
  {
   "cell_type": "code",
   "execution_count": 6,
   "metadata": {},
   "outputs": [
    {
     "data": {
      "text/html": [
       "<strong id=\"ceil_of_sum_less_eq\"><a class=\"ProveItLink\" href=\"proofs/ceil_of_sum_less_eq/thm_proof.ipynb\">ceil_of_sum_less_eq</a> (conjecture without proof):<br></strong> <a class=\"ProveItLink\" href=\"../__pv_it/theorems/e6a35b97b3958fd7ce6580a9d963281e988cfb710/theorem_expr.ipynb\"><img src=\"data:image/png;base64,iVBORw0KGgoAAAANSUhEUgAAARUAAAAWBAMAAAAcIxXLAAAAMFBMVEX///8QEBCIiIhmZma6urrM\n",
       "zMxUVFQiIiJERETc3Nzu7u6qqqp2dnaYmJgyMjIAAAAcRTyBAAAAAXRSTlMAQObYZgAAAylJREFU\n",
       "SMfFlk9o01Acx7+26Z9k6TZELx4krrCNXRyOKYLUOcHhZcsu6kGwTCd4GRMmHvzDEBkd4qge3FDQ\n",
       "6ECliBY9yEQkzINQYeYwmIqD4MGhaCii4BTBl7ykJtlL2nnxwRfavt83v0/f++X9HlDbECaMbMAU\n",
       "bxhqqIURUJm7bnzGqgavgc+GgepVLCsCXHP3gRlQWVGL4Sx3Ec4CvZolhKUeiOepXprfP4WzfFwF\n",
       "S4vMsoSzmMtmasqcGQ1FSbWvYKmT2CzCC4lpcQIeMlkwS1WvAGIxlCWRr5WF36axLVVYblKlSoXC\n",
       "ZPgWTaJGFn6oGGCpwlLfRfUjlzsdzpK2zULTse5ZD4uQlnBJcVLFJrqCLCyWW1vAb6AsYjvVIDAe\n",
       "znLRNt/DgnTWwyJyjdhcSZWTAy0sFnUXImXKktKpdrOOBzxuPfze+XzKNpfwStnrYbkW1ZGrpGpp\n",
       "Q5CFwcIXM0iOUpa6YaoEIprv6HraoUVElJyaWGc/WLHyktUwjKWNhnlwKmskfP2baqGEAIsVMGcY\n",
       "xw3jg80iYC0aJMoSK1OJWsK3Jq9nCiAsbzXfg2Hl9dRunxL77vrbz7YHWFh7xP3EIdnLwuv7zLe7\n",
       "s5n8zjUjoXCkiCwW1bfgsPJ6WDKINLrPl95BtoXFQvZ3k/0eccNUGD9CUitDCfISiA1KvzVpsnS0\n",
       "+wrxCSm1Ni/LGJJZz7F64DzTwmIhzjF4axePCFAMX8yQqz1oxbTFEj064jz/OTVzv5JlXvOybEWf\n",
       "5j3ir8gsC3NdstxvmyWqUlkFBCxbMTswgP25XE6KiJfnncf32MU20JZe9O3R7aadeVZv9FtYLMJA\n",
       "etk562QqpBSremJmzAjWI073qO6gUksPyDD7dG09IKrbLHdsWeOGqIuYUnCCK0OUab2U1ODeKFDO\n",
       "uC58Y7IE9caCi2UID7q8vdFe6/nZEvqL2NNKXBfMs25Onc44s+NBd4aElpQqqYSlk+aQWRbWneEM\n",
       "zvnuDO5RFPJJUmkRUi+13aW4ps5/v0t1p2WbJZmnchdBPq72BtwxBTWsY2WrWfwBrjlSnm9A5d5k\n",
       "cO9U/L/xB66CITUNQLZOAAAAAElFTkSuQmCC\n",
       "\" style=\"display:inline;vertical-align:middle;\" /></a><br>"
      ],
      "text/plain": [
       "ceil_of_sum_less_eq: forall_{x, y in Real} (ceil(x + y) <= (ceil(x) + ceil(y)))"
      ]
     },
     "execution_count": 6,
     "metadata": {},
     "output_type": "execute_result"
    }
   ],
   "source": [
    "ceil_of_sum_less_eq = Forall(\n",
    "    (x, y),\n",
    "    LessEq(Ceil(Add(x,y)), Add(Ceil(x), Ceil(y))),\n",
    "    domain=Real)"
   ]
  },
  {
   "cell_type": "code",
   "execution_count": 7,
   "metadata": {},
   "outputs": [
    {
     "data": {
      "text/html": [
       "<strong id=\"ceil_of_sum_greater_eq\"><a class=\"ProveItLink\" href=\"proofs/ceil_of_sum_greater_eq/thm_proof.ipynb\">ceil_of_sum_greater_eq</a> (conjecture without proof):<br></strong> <a class=\"ProveItLink\" href=\"../__pv_it/theorems/29345bf4625835ca1284fc35b1fde037e319913e0/theorem_expr.ipynb\"><img src=\"data:image/png;base64,iVBORw0KGgoAAAANSUhEUgAAAUkAAAAWBAMAAAC/C3MNAAAAMFBMVEX///8QEBCIiIhmZma6urrM\n",
       "zMxUVFQiIiJERETc3Nzu7u6qqqp2dnaYmJgyMjIAAAAcRTyBAAAAAXRSTlMAQObYZgAAA51JREFU\n",
       "SMfNl01oE0EUx5+bzcduNm0RvfQgsYFSerFYqheNtYLFi00vehGM9QO8FLUVD7ZSREqKKFHBFgVd\n",
       "LbQSigY9SMXDkoKHCHUPBa1YCB5a/FqCKNiI4sx+JLuTl+2CHhx40L43/5nfzryZeQHw1sSrWrJG\n",
       "SNA0ZU0Z0qkcu6N9hn/QBBWEpNsnFDAJI6vqZIs9BJhFR541TdcuuVM+AHdKKGASVuZCWQcQSGMD\n",
       "Uy+1l/Sfj+6UHzxRigOyQ8LK3Cmr9yPcaHipTdD+I66QkbYqynAUWcvwctouYWUWxmOUEnLMrFMv\n",
       "SqaXWB1ZACnrShlMe6MEfjlhk7CyNSjvVS1OyfQSi+QzmXH3DR8Hj5TgT3VWJKxsDcq6ToySeqn9\n",
       "SKWG3Clj5pBi08munINSjEXhmmxLOaE/W5awMozy/lYQGg1KqQ2jpF5qxwHG3CmvmEPOwOvoBQel\n",
       "xDfAFsfBELanLQkrwyiV3cAVDcpIAaOkXmp7sOsOnrYcfW/9fd4cMg+v5H0Oytu+AqQclJGBsoSV\n",
       "IZRCNg6hEYMyfAqjpF5qQeBU5pJ+3q5yEuSt3NtgTifrRGQFNW1lk0YfDnldFL7aKbkhuSxhZXqn\n",
       "eU07rWnLJqUI66E+alD6i3RqTW+JMiX1UpPUIPMRb2YzQCjfqgwl6ESO09Mj+7/bKGfO2CSsDNtx\n",
       "vgSHEzbKqrW0KIXCAXondTST3nwzBGWepjGlVJgdB53IQRkHrqECcGPYniSsDKMkGbPZPOM8uuPU\n",
       "q0fGjhEouT9IzrtUL/fqEkrZ3sacnmck0VudlKMQSpYBbn5yHDhWhlES9Sh4OT3whKD64QsN3OqG\n",
       "FpjUKX0nBq3uc8aQ/M9QUVCdlNugRy2/kJcqM8whMnQtk/wvk9LH1kxcyfTqkXp9xlU9sgP64GAq\n",
       "lYpy0vUFq3u3mep9rbElZsenmnalsWqjG5FhlGJfbNW61RPOIXxHfu80vHokIutZ6qehQdgIAWPH\n",
       "w4dkLy9kHK2JvL+QvoJJOY3e1dP2yF2pIMGEDGf5IkgJIy/zSu1qQzS+IFAQv6GUbtVGxkbZD486\n",
       "a1QbRsvZI1MLuTz0ZmFvCxnrMr3V55XJuBUdq1W5BdVQtFK5rZyjLWFJWBlWuQ3DxZqVm1U6s5Gs\n",
       "mA6RPOdIXnqrgvmmjr+rgrtiCZMyhFbB1MtEwumAsr/GLwpRcXvpk7V+UdhlbCdbjByFRXTgRaiK\n",
       "RIB/p8D/2P4AtmJPLRgkjuUAAAAASUVORK5CYII=\n",
       "\" style=\"display:inline;vertical-align:middle;\" /></a><br>"
      ],
      "text/plain": [
       "ceil_of_sum_greater_eq: forall_{x, y in Real} (ceil(x + y) >= ((ceil(x) + ceil(y)) - 1))"
      ]
     },
     "execution_count": 7,
     "metadata": {},
     "output_type": "execute_result"
    }
   ],
   "source": [
    "ceil_of_sum_greater_eq = Forall(\n",
    "    (x, y),\n",
    "    GreaterEq(Ceil(Add(x,y)), subtract(Add(Ceil(x), Ceil(y)), one)),\n",
    "    domain=Real)"
   ]
  },
  {
   "cell_type": "code",
   "execution_count": 8,
   "metadata": {},
   "outputs": [
    {
     "data": {
      "text/html": [
       "<strong id=\"floor_of_sum_less_eq\"><a class=\"ProveItLink\" href=\"proofs/floor_of_sum_less_eq/thm_proof.ipynb\">floor_of_sum_less_eq</a> (conjecture without proof):<br></strong> <a class=\"ProveItLink\" href=\"../__pv_it/theorems/65c70046b2b7706d92d89266e845aced629b82c60/theorem_expr.ipynb\"><img src=\"data:image/png;base64,iVBORw0KGgoAAAANSUhEUgAAATkAAAAWBAMAAABJQvaVAAAAMFBMVEX///8QEBCIiIhmZma6urrM\n",
       "zMxUVFQiIiJERETc3Nzu7u6qqqp2dnaYmJgyMjIAAAAcRTyBAAAAAXRSTlMAQObYZgAAAzFJREFU\n",
       "SMfNlk1oE1EQx4fNpsluNimIIvQgq4G29BQsIoKWWsHipWwv6kGwVit4KQqVCH5QRGSLKMGDLR50\n",
       "taASBIMepCKyVFCIUPdQqIqF4MGi4BIEwVYU3+57r2ZfZ7eJXhyYkOTNf+bHe7P7BqA+U52oVX01\n",
       "iR6+JsE/muKAMhAVUFlNIgbUrGWwhFPMfd18NN09aJhOkDRK11Sg/sr78Tma7lMDdG0GJmmELtVC\n",
       "Tr5CfcKLHY2ES+dW0KV0nE59qaMSHvAwnI6nvPNiiXxOU89YAFopki5RqJdO2ergkgboIO3R3aKe\n",
       "LheL49EHOw510inDpRBJw3SZburfTfNMNF2WpVM3HeuZDqa6vRmUFl48fqU7TILRMS1Op+WoDwGM\n",
       "RdNdZunuw5x+LpjK3glSlRc3jVAJRse0OF26Qn2X/3CI9rj98Af+/TRLV4bX1p5AKqXUBclRXryt\n",
       "A8IkCB3X4nSp49QTIAn3gPq005E0KPPwtayUBab/W3PdhQ2u6x0crIFmfbn4XBlCJH7AjOuecN2P\n",
       "jI5rM8GUjC5epa45CWHf3kwVgdC9c4RSAF/Fp0JegoPGn615ti1Egp0s0+J7x+mUyl7v3bKllUTK\n",
       "rZCw5Jx3+xE6WzgmiH8T6WIV2Fj7vusbwiUYHdPidPJx6jB2hMBYwwnywGnNVj8NJ3SdOaHFn5Am\n",
       "7gimSg7AxcBVsP8CKsHomDb6qYBHBDEOX7yF673QDpM+XezoCK/4nKaTfySriiPs3YD8M3hRXTMw\n",
       "Cbp3VLuCTvLoYjZ1vzUBFv2V7TAI+0zT1CXt6iwv2MvaeLAjOy+kUgezi9gUIEowOqYV6WKHfu0g\n",
       "/xrUIW35XRj3lkZgHTTRk00dsOq5yWIVjK6+m8zXZtDr5y5z325qFQ0mLDgpV0EzaN+V7fApQGXk\n",
       "w/CgG6MLmwKKNXRMmxFSUmNTABsMZqfL0F+C3e0kzyXvbTxjT3bx1bHQCeosnF8uri7kPTMwCTZB\n",
       "MS063/EJqtZKaiFJelgifVfn9NmTNf56+mRalC5ZoF7bTIUmuy9kclfX58PmT2UhPxopQQKW127k\n",
       "T2E53zKvbRaQ39vwP9lvcEIxVtkm0BMAAAAASUVORK5CYII=\n",
       "\" style=\"display:inline;vertical-align:middle;\" /></a><br>"
      ],
      "text/plain": [
       "floor_of_sum_less_eq: forall_{x, y in Real} (floor(x + y) <= (floor(x) + floor(y) + 1))"
      ]
     },
     "execution_count": 8,
     "metadata": {},
     "output_type": "execute_result"
    }
   ],
   "source": [
    "floor_of_sum_less_eq = Forall(\n",
    "    (x, y),\n",
    "    LessEq(Floor(Add(x,y)), Add(Floor(x), Floor(y), one)),\n",
    "    domain=Real)"
   ]
  },
  {
   "cell_type": "code",
   "execution_count": 9,
   "metadata": {},
   "outputs": [
    {
     "data": {
      "text/html": [
       "<strong id=\"floor_of_sum_greater_eq\"><a class=\"ProveItLink\" href=\"proofs/floor_of_sum_greater_eq/thm_proof.ipynb\">floor_of_sum_greater_eq</a> (conjecture without proof):<br></strong> <a class=\"ProveItLink\" href=\"../__pv_it/theorems/d3a6924476f0b35b9e3ab5bf014beb7bcb5803d10/theorem_expr.ipynb\"><img src=\"data:image/png;base64,iVBORw0KGgoAAAANSUhEUgAAARUAAAAWBAMAAAAcIxXLAAAAMFBMVEX///8QEBCIiIhmZma6urrM\n",
       "zMxUVFQiIiJERETc3Nzu7u6qqqp2dnaYmJgyMjIAAAAcRTyBAAAAAXRSTlMAQObYZgAAAypJREFU\n",
       "SMfFlk1o02AYx/+m6UfSdBuiCB4krjDGLhbH9CJ1TnB4cd1FL4JjfoCXMd2kgpsMkdEhQlRwQ0Gj\n",
       "A5UysOhBJh7KvFWYOQz8wEHw0KFiKKLgFMEkb7Il2Zs08+ILf2jzvv+8v7zPkzwPEG7wStCsWM8i\n",
       "+s8xWNfgFHB9QQvUehbvAsdcAzALInPVYjDLI6ybxWMJZolJRK+M/5+DWT6FYuGHZF9LMAuvEk0Z\n",
       "M2OBKKnMGpakSDmXZFXys9gsT6gsmCNq0B9GKAWyxKVwLGCrOR9LHZZ7RKlKsTgZHKJJhGRBtNBJ\n",
       "t9Rhaegk+lkojASzpC0z33y6a87FwqdFXJMd6cANlKgWGsv9neC2EhYhQ3QSmAhmuWqZZ/BGvOhi\n",
       "Edgm7HClJrdbolloLOV9YGqEJaUS7TdT2DuetR7/aP++YJkreC0fdLHcjqgouFhSQ1QLhYUrZZEY\n",
       "IyzJQaI4GM83lX/RrjACKnZObLJuLJv76qehaUvbNM24skHENycLMyJTLeaCeU07o2lVi4XHRjSK\n",
       "hCVaIxKUuOdM3s4WobO8VzwsMPd15W6PHP3hYJk562OhxYj9hWM5NwunHjbe7o4W/TrbgrjMZowH\n",
       "1FnKnhjB3NfFkgXTtLrVjVH4WGgseny3W+8RO0iEiRP61vJAXH+nhEa515w0WNozntx9rqdam5tl\n",
       "HIm+la1uflmT7raFxqI7x+HOXTzVgaL4aiy51Y1WTJsskVPD9o1fEjP7O1HjFDfLLvQoKzXg8mqY\n",
       "vRbqufSxfyyWSJnITCBg2VyzB/04UigUREa4vmDfuNtKtv629KInRg+a90q02ui10Fj4/vSy/a3L\n",
       "ESElm9kTNdYMYzNiJEbJo3KYGpCl1ulwNSCiWiwPLZnjrqAKmJJxjq1ByJF8qZT9ayNPOGMq/53K\n",
       "4lcbiw6WATzudNdG66wX5iroLeFAq+66Ynzr5svTWXt2wq9niCsJcbVnWMobI0ez0HqGUVzy9AzO\n",
       "UeKlhJ5pjJ4v4Xoptrnj33uprnTOYklIRM4kkGLlQz49Jr8l79dNcUv5sUALZcHK3J38eeAdiJxB\n",
       "BvuhjP83/gKqbRzLhYxOGAAAAABJRU5ErkJggg==\n",
       "\" style=\"display:inline;vertical-align:middle;\" /></a><br>"
      ],
      "text/plain": [
       "floor_of_sum_greater_eq: forall_{x, y in Real} (floor(x + y) >= (floor(x) + floor(y)))"
      ]
     },
     "execution_count": 9,
     "metadata": {},
     "output_type": "execute_result"
    }
   ],
   "source": [
    "floor_of_sum_greater_eq = Forall(\n",
    "    (x, y),\n",
    "    GreaterEq(Floor(Add(x,y)), Add(Floor(x), Floor(y))),\n",
    "    domain=Real)"
   ]
  },
  {
   "cell_type": "code",
   "execution_count": 10,
   "metadata": {},
   "outputs": [
    {
     "data": {
      "text/html": [
       "<strong id=\"ceil_of_real_plus_int\"><a class=\"ProveItLink\" href=\"proofs/ceil_of_real_plus_int/thm_proof.ipynb\">ceil_of_real_plus_int</a> (conjecture without proof):<br></strong> <a class=\"ProveItLink\" href=\"../__pv_it/theorems/0658a0b6cd9954f5bc9075c12bd2bfbbc3f5c8db0/theorem_expr.ipynb\"><img src=\"data:image/png;base64,iVBORw0KGgoAAAANSUhEUgAAAToAAAAVBAMAAAAk4T84AAAAMFBMVEX///8QEBCIiIhmZma6urrM\n",
       "zMxUVFQiIiJERETc3Nzu7u6qqqp2dnaYmJgyMjIAAAAcRTyBAAAAAXRSTlMAQObYZgAAA2VJREFU\n",
       "SMe9l09IFFEcx7+uO64zzmiHunVYXEiRkCUJOqhoHSTqsHSoQ0VmJQglBksUhYSnWaxYPPTHQ04I\n",
       "FVuoFBJG4KLVYQObg1EW2hAZGDUsodAfgt57s5szr5nZVOrByMx+9zvfz7zf+80+gTUN6ZLZ6qVd\n",
       "Nz/5e0TTTK8hu3beVxZ1iK1+Xxgq5JEMN9sYOcqSwFwcTJ91v/tjXxW3UYCuvKDHla6EkKGD5T+j\n",
       "1x+96PxULKyCbuEv6NiMDrH8q3S6z3vR+alK9A+6e4XoeI/hapwghxym+eUaORvxovNTQ8mV0/Ee\n",
       "d7obdALX0Xwlk0pdgRedn0o/Xykd73GnK28if97TfHxV1XOedH5qJJckVXZsn3CEBJ9eq9ziSsd7\n",
       "OLrdHX0RUlGZ1B+TLP8YkPCm81Ev5pLu4mW42xEil/ZgOJmnk002om4eji6thqVvZHXSj+dY/g7n\n",
       "W+dB9ZF3NjpOxeEL2+pyp2dzSRk813Y6QvaHDAzE3OaO9zjphJFuiEvkZddFQVh+CAE938qP6vSA\n",
       "jEx4mc6m4s5kA84gU5O7XJ9L0qCy6ynTPGmaH8iZNtyEt66V5T2GwyhJi1CyhJIcOMTyZT2U974a\n",
       "S4HQvdaX6Wyq0tuvYUSY0bkk4AvfFeNApy9d3sNVtiyLEsNBJxp76Stm66ZYkC4NSpdepmOq0rAn\n",
       "QotMR7HMVwnCEk/XCPyUuHXX6ubh6IoNVOgagrSyLSwfiaOESesMNbGbEbq66DIdU5VmvSiZu9PM\n",
       "KN8VDwNZ1DjpNqLsu+w2d7yHoytKY1xL27sC9wmpgM/AIKMrbo/buoKp/VWo0CTGLIV/bysmraTg\n",
       "j9KsqDtCxEXIxgs3Ot7D0Q00YUqJoZhm1Fv5FawJSCPvU1U1HJD7pu10TG1DM4TTqtoDWdZEzVJb\n",
       "rCSprSYy6wwhlRFPjLjR8R6OjsiX3xAf6XfMW/kKTROyAkqsypYd0Gx0TN2AegFs4ew6CDn5r3/J\n",
       "btEidVn5bEplQ4Ycs9ZdxtYVVqWyiI/iCT2NRtnze+wCUqvdBaQ8dgHWuDk9kQF66UtwKj3YyNEF\n",
       "W7FZRympldJ+fOpU/iaJVeygEivbQdlHgKw77pfMPqrJuvsfu8/SpPUYfD43qgru3CXffwxKCnpc\n",
       "H26GLgFCWBv/BUxcTVwot30qAAAAAElFTkSuQmCC\n",
       "\" style=\"display:inline;vertical-align:middle;\" /></a><br>"
      ],
      "text/plain": [
       "ceil_of_real_plus_int: forall_{x in Real} [forall_{n in Integer} (ceil(x + n) = (ceil(x) + n))]"
      ]
     },
     "execution_count": 10,
     "metadata": {},
     "output_type": "execute_result"
    }
   ],
   "source": [
    "ceil_of_real_plus_int = Forall(\n",
    "    x,\n",
    "    Forall(n,\n",
    "           Equals(Ceil(Add(x, n)), Add(Ceil(x), n)),\n",
    "           domain=Integer),\n",
    "    domain=Real)"
   ]
  },
  {
   "cell_type": "code",
   "execution_count": 11,
   "metadata": {},
   "outputs": [
    {
     "data": {
      "text/html": [
       "<strong id=\"floor_of_real_plus_int\"><a class=\"ProveItLink\" href=\"proofs/floor_of_real_plus_int/thm_proof.ipynb\">floor_of_real_plus_int</a> (conjecture without proof):<br></strong> <a class=\"ProveItLink\" href=\"../__pv_it/theorems/ee828232dbc45107a4b314be195d7246e6d8a1830/theorem_expr.ipynb\"><img src=\"data:image/png;base64,iVBORw0KGgoAAAANSUhEUgAAAToAAAAVBAMAAAAk4T84AAAAMFBMVEX///8QEBCIiIhmZma6urrM\n",
       "zMxUVFQiIiJERETc3Nzu7u6qqqp2dnaYmJgyMjIAAAAcRTyBAAAAAXRSTlMAQObYZgAAA2VJREFU\n",
       "SMe9lk9IFFEcx7/uH3dnfKMdii4dFoUUCVmSoIOK1kGiDkuHOlRk9geEEgNJo5DwNGLB4qE/HnJC\n",
       "qNgipZAwAhetDhvYHIyy0IbIwqBlCYX+EPTem1125jUzm0o9mGVmvvud72ff7/1mH7CmIeteqq+g\n",
       "J7KG7JoFT1nSIbV4faG0oMdwso3ToyQOzHea+pzz0594qriNldMJHke6YkqGNp7/nF1/dqPzUrG4\n",
       "CrrFv6CT2d17PP8qm+4LbnReqhL9g+5+ITrRYzgaJ+lBIiy/VKNno250XmoovnI60eNMd4NN4DqW\n",
       "r6QSiStwo/NS2f2V0okeZ7rSRvrxgeXjm6qed6XzUiuySXJ5245JW0jg2bXyrY50okeg29M2UEEr\n",
       "Smj9McXzjwN97nQe6qVs0l28ivTYQki4FyPxHB1J8xF18gh0STUif6erk92e5/k7zR7JjYdVR99b\n",
       "6AQVRy5ur82enssmpfBC22ULORAyMBRzmjvRY6cLjvZAWqYvuw4GwvND8OVe3vLjWt1HkIrk6Swq\n",
       "7kzV4yxS1dnL9dkkDSq/nk6nT6fTH+mZNtKId46VFT2GzSjLS1AylJIeOMzziR7KeV+PJ0Dp3uh5\n",
       "Oouq9A9qGA3O6kIS8FXsigmg3ZMu5xEqW5JBsWGjk4x97BWzbXMswJYGo0vm6biq1O+tYEVmw0/E\n",
       "KiG4LNI1AL9kYd21OHkEOr+BMl1DgFW2meej7xhl0tpDjfxhlK42mqfjqtKkF8WzT5odE7vikS+D\n",
       "ajvdJpT8IE5zJ3oEuqIkJrSktSvwgJIG8QUY5nT+E52WruDqYCXKNJkzy5HcxLKWZ0mBn+GMpNtC\n",
       "pCUQ46UTnegR6IYaMa3E4GcZdWZ+GW8C2sj7VVWN+MjAjJWOq61oQrBbVXtBiCZpptpsJsmt1RVz\n",
       "9hBaGenUqBOd6BHoqHz5LfXRfseCma+wtGAmiGKzsiUHNQsdVzegLgi+cHYfAon/63+yW6xIHWY+\n",
       "n1JiEJCYue5Slq4wK5VB5xiestNolP9+l11AYrW7gITLLsAcN2cmU0A/ewlOJ4cbBLpAC7boCNNa\n",
       "KSdOTp/JPaRvFTuovpXtoGw7bbruhH8y66ii6+5/7D7DcfNniPnCqCy4c5c3drnyXe/q9vZIn7oc\n",
       "t46zbAlQwprO3y9hSQm877KMAAAAAElFTkSuQmCC\n",
       "\" style=\"display:inline;vertical-align:middle;\" /></a><br>"
      ],
      "text/plain": [
       "floor_of_real_plus_int: forall_{x in Real} [forall_{n in Integer} (floor(x + n) = (floor(x) + n))]"
      ]
     },
     "execution_count": 11,
     "metadata": {},
     "output_type": "execute_result"
    }
   ],
   "source": [
    "floor_of_real_plus_int = Forall(\n",
    "    x,\n",
    "    Forall(n,\n",
    "           Equals(Floor(Add(x, n)), Add(Floor(x), n)),\n",
    "           domain=Integer),\n",
    "    domain=Real)"
   ]
  },
  {
   "cell_type": "code",
   "execution_count": 12,
   "metadata": {},
   "outputs": [
    {
     "data": {
      "text/html": [
       "<strong id=\"round_of_real_plus_int\"><a class=\"ProveItLink\" href=\"proofs/round_of_real_plus_int/thm_proof.ipynb\">round_of_real_plus_int</a> (conjecture without proof):<br></strong> <a class=\"ProveItLink\" href=\"../__pv_it/theorems/bea84544632b4b45248b67d836b6e305cda00c5a0/theorem_expr.ipynb\"><img src=\"data:image/png;base64,iVBORw0KGgoAAAANSUhEUgAAAaQAAAAUBAMAAAAw31THAAAAMFBMVEX///8QEBCIiIhmZma6urrM\n",
       "zMxUVFQiIiJERETc3Nzu7u6qqqp2dnaYmJgyMjIAAAAcRTyBAAAAAXRSTlMAQObYZgAABWRJREFU\n",
       "WMO1V21oHGUQfpK7y93t7SbBVlBRWS8mLTG0R6PijyQmESmi0KM//EAlZ9RCipYgIVgaShpB7qja\n",
       "o0qihZJNKlGiNAdSSkTIkZ6Kp6QHrdRUGg/bKiqGUBoxSQvOvLub272PTULx/XHsvM+8M/PsOzM3\n",
       "CzisbVedUPgzjjCOl0QC8Q2p27wVPQtMGtBcD7IsXypuJeWI4tPS/j2HQpD6S+NdhVtO6s9usnjr\n",
       "KqpSETegFL5n+c9SlJxQ/OHwTqsSqIyXhk8WbjmpY8Xi7WRRDSlrQCl8yHfaX4qSE6qEHGLYpeGc\n",
       "PddUqySrBSfOOVhzL1u8mWftFjFtQClUavSUKEXJCfU6vdZvgf0OlKTqghP7HazJ3RZv5tk8SiMG\n",
       "lIKSHh8fQilKTuiQUzFfhr/bgRKuFFR/t4O1ypDV25WiFitbdSgF/BuN9pWk5ITWUELUfRwkw9M1\n",
       "rVKNihHN/c1HwR0UXlPtCsopU6RgV/u0LQBDA2fyrbF6+972IF1J8EGM7oB0F57qOkpm8f50R4K9\n",
       "YbTugwZ19axJydCSQ7pZCvpVIFaakgP6Lpnx/eWrxlCrtORyV2M7yQOYiKMt7luGj5ru57igHrQF\n",
       "YGhgTkgz87wu8yOrJ99LHIK/hxRCbShfQDKqSktw34kjGnuTksob3qx5dpWSrgWF+8OcCPoxvVmY\n",
       "6/TWl3+1UMpD8dI7jzQajweA570Rdxh0jX3HXVlESc5iOCzdA5K8VIJpnNWesAWga5CbgspMwJPo\n",
       "xePwJuH9LtMCX78ncRD+RYxk0CK8yZq87I6vnjUsGloIcOaeFkF7UW7+ZUpfNWbKZaTVHCULis/O\n",
       "NFMRp+sNcTOgTVACu5aBf7QyFbcJ+RfeoLjKCNKIprib+fnf752fj8DQADryKZG6JF2nh0c1VO0l\n",
       "W2Uqy8oCb/QJbxLRhHE2Z9HQgmdBhyhoOeM1zf40OQ6idDGTo2RBlcPHNCQ8s5kcJUxxMP3wX6Ou\n",
       "7VkU8j7eoMCZEnAtvz0IjeKUEOCo7gCGVeraHWGWK7K0wVQ3i387FbmzpkVdy0rJn32au/pDdWE3\n",
       "FxhTSuYoCVRp3l3DOcjLJSOXeJwRmEhCXqKuXV4t5JsSbUyJTCI/i/mUhAaw01JLvxmJx+kK6QZw\n",
       "Nk5d+z4hV2XGbwiqBwSZMP/utFsUWhrc3TpEQSP2ChHR9nlbK6FTagzlKAlUacuUxfXhCLOnLO0B\n",
       "d/Ory6AsibcpKy6SHFiWJxLYF4hzvX9JNV5vD0BorJZ4brF6Gb/Lm6zjiyCqaCRPaekVuoRJ9hbQ\n",
       "tlOgBe1BaCWt7QFfED0P/gZOCEquPT2W9iDQY1tQpUmCqKSaV8gNk8sSrgjeAh5GWyjpvw45+6NP\n",
       "VXplbqruFd/C6rSpB6BrAE0F/6ZknvsGGfKFyKZ7k4zhVswo4QFciCTZ267EETHbNtkp6VpwJXUo\n",
       "tZqg1AafiUajarl89LyVkkA70QbPm9HoAGRZ82s6SpcsLhs/NFAdjAUnO8Mk+19PSJ21g/czJnXW\n",
       "11yyJ56uARTM+GxKZJQ8TW6lzgcGa1ke/JksP9fZys9jwdFmfkFX7ZR0LVSGdYiDVjhEz4IHFXri\n",
       "BV7QLJQEejuaPIjw1pMvQo6vYyDCGgNR94YGIps382ze9PCJAaUMeVjOUqqE9VpKW9qDni0L6DmF\n",
       "r/kxFDKr03lsLZhDJe0WxlabN/Os3aJlbNXX2PnpNHCY/6xmkida8ii5I2jIwEf5oux5babXNBJz\n",
       "DsK3sY8L3xqXHlv3x4VtzqJayhuIrGsr1dI6PwHX+qaLbUzd5i1W+gXGCoPOW1v+rw915RY+1JXi\n",
       "tzlrQNt6/gMZjccyG1uueQAAAABJRU5ErkJggg==\n",
       "\" style=\"display:inline;vertical-align:middle;\" /></a><br>"
      ],
      "text/plain": [
       "round_of_real_plus_int: forall_{x in Real} [forall_{n in Integer} (round(x + n) = (round(x) + n))]"
      ]
     },
     "execution_count": 12,
     "metadata": {},
     "output_type": "execute_result"
    }
   ],
   "source": [
    "round_of_real_plus_int = Forall(\n",
    "    x,\n",
    "    Forall(n,\n",
    "           Equals(Round(Add(x, n)), Add(Round(x), n)),\n",
    "           domain=Integer),\n",
    "    domain=Real)"
   ]
  },
  {
   "cell_type": "markdown",
   "metadata": {},
   "source": [
    "### Ceil, Floor, and Round functions are idempotent"
   ]
  },
  {
   "cell_type": "code",
   "execution_count": 13,
   "metadata": {},
   "outputs": [
    {
     "data": {
      "text/html": [
       "<strong id=\"ceil_of_ceil\"><a class=\"ProveItLink\" href=\"proofs/ceil_of_ceil/thm_proof.ipynb\">ceil_of_ceil</a> (conjecture without proof):<br></strong> <a class=\"ProveItLink\" href=\"../__pv_it/theorems/baf3cc964b8e13ea5fa0dba2077a2f356ce13d260/theorem_expr.ipynb\"><img src=\"data:image/png;base64,iVBORw0KGgoAAAANSUhEUgAAAK8AAAAVBAMAAADC7aNVAAAAMFBMVEX///8QEBCIiIhmZma6urrM\n",
       "zMxUVFQiIiJERETc3Nzu7u6qqqp2dnaYmJgyMjIAAAAcRTyBAAAAAXRSTlMAQObYZgAAAeRJREFU\n",
       "OMutlc0rBGEcx7+tXfv27Lr4AzZKDoqSIykHR3viomx5OUpy4+A4m7BJuGBQaJO2HKQcJm6rNAcH\n",
       "lNooRUyOOPk9Mx7zjJ2ZreW5PPM8+5nPPPP9zfMsUKHFFowM9o1Ha7RhvCBqGFoZ5iAqt6iOaIb6\n",
       "FXvqkD+sVEY6iRPqTObOQ7yPMnES4iYvMRG1OeCCXz97iJ+qFPNXWuNvPOvuTbRVKcYZdSrACu7i\n",
       "cK5a8RatqpjPr3okweerEye7gXdFmfEQN8ri7abllpSvWCIYhTgKZD3E85I4piUmwyWH+NLg7UGI\n",
       "ZSJBfY/zszxuHr4X19OSmKnsM5jzW7FMxCeoQgjoYpedtusBhmLqe1wvrxiRWf+MZSL0Rg/Sw+LX\n",
       "65M8SHyru4iBulSl4tkEF0dL/fzD62hKBylxU6y5RAEMpX+JrYwfbbFNBCkKZEdIp46Hu817SNze\n",
       "5lK8uNpKlN+KZYIXD0dkD+EV2DHFNWNTgj6XxH2FRaz7RiETNdpPMh/AgKIoqQBbuhJ0ryTebdju\n",
       "1H3FMpHkoSRUM+0Qaq0o4oPqn7f0nhhsshIDS1sZF7X/OISstnt1VgTm+Aa51Ha6xHT2D8em3AKU\n",
       "8b8c9JFc5b+mGM/lwJ4yC5EpI53EDfAFNAi4o/kDshIAAAAASUVORK5CYII=\n",
       "\" style=\"display:inline;vertical-align:middle;\" /></a><br>"
      ],
      "text/plain": [
       "ceil_of_ceil: forall_{x in Real} (ceil(ceil(x)) = ceil(x))"
      ]
     },
     "execution_count": 13,
     "metadata": {},
     "output_type": "execute_result"
    }
   ],
   "source": [
    "ceil_of_ceil = Forall(\n",
    "    x,\n",
    "    Equals(Ceil(Ceil(x)), Ceil(x)),\n",
    "    domain=Real)"
   ]
  },
  {
   "cell_type": "code",
   "execution_count": 14,
   "metadata": {},
   "outputs": [
    {
     "data": {
      "text/html": [
       "<strong id=\"floor_of_floor\"><a class=\"ProveItLink\" href=\"proofs/floor_of_floor/thm_proof.ipynb\">floor_of_floor</a> (conjecture without proof):<br></strong> <a class=\"ProveItLink\" href=\"../__pv_it/theorems/c0bc5f0b3f0e4f9a99bf55fbf64413d8c4277dbb0/theorem_expr.ipynb\"><img src=\"data:image/png;base64,iVBORw0KGgoAAAANSUhEUgAAAK8AAAAVBAMAAADC7aNVAAAAMFBMVEX///8QEBCIiIhmZma6urrM\n",
       "zMxUVFQiIiJERETc3Nzu7u6qqqp2dnaYmJgyMjIAAAAcRTyBAAAAAXRSTlMAQObYZgAAAeBJREFU\n",
       "OMutlU8oBFEcx7+NXfvv7boo142Sg7IlR1IOjvbERVH+HCXJKg6Os0k2CRfMUktbSjlIOUzcVmkO\n",
       "Dii1UUSRI05+b6dn3tqZ2Rp+h/dm3nz2s2++b99boEqFDWoOrHuFN/EK7DdRpUIGQsPUr1lDMd4U\n",
       "K8hy4kQwdw7ifXgT12aAC3794iB+9igOE7DB33jB3htNeBTjjDoNYIf24kDGqzhLsyrk8+sOSfBx\n",
       "b+JYN/ChqvMO4iZZvNO82hp3FUsEoxDHgLSDeEkSh/XoVKBYJr584/UgxDIRpb6ntIY/ddwyci+u\n",
       "5yQx09iXL+M2Y5mITNIKQTHELjttNxSGgthY9fKMEVxwz1gm/O/0RUZAPL0+yYPEt4aNGKiLV1s8\n",
       "i+DiULGf//A6mpO+BN/pJNZtogCGkr/EZsaPltgifBQF0qOk0yYC3aXPkLg9YbN4Ea2NKLcZywRf\n",
       "PByR3Y9XYLckrhmfFvS5JO47XMamaxQyUaP/JPMJDKiqGlfYypWgeyVxrnGn03AVy0SMhxLVSmn7\n",
       "UWtGERnU/ryl98TNNisysKSZcUH/j0PIrNzVWQFY5BvkUt/tEsPpPxybcimU8b8c9MFM9b+mcENq\n",
       "GNnUjDmwlZpF6ClVeX6XEbgBvgGmNLHFfz2WcgAAAABJRU5ErkJggg==\n",
       "\" style=\"display:inline;vertical-align:middle;\" /></a><br>"
      ],
      "text/plain": [
       "floor_of_floor: forall_{x in Real} (floor(floor(x)) = floor(x))"
      ]
     },
     "execution_count": 14,
     "metadata": {},
     "output_type": "execute_result"
    }
   ],
   "source": [
    "floor_of_floor = Forall(\n",
    "    x,\n",
    "    Equals(Floor(Floor(x)), Floor(x)),\n",
    "    domain=Real)"
   ]
  },
  {
   "cell_type": "code",
   "execution_count": 15,
   "metadata": {},
   "outputs": [
    {
     "data": {
      "text/html": [
       "<strong id=\"round_of_round\"><a class=\"ProveItLink\" href=\"proofs/round_of_round/thm_proof.ipynb\">round_of_round</a> (conjecture without proof):<br></strong> <a class=\"ProveItLink\" href=\"../__pv_it/theorems/79ba7462aa4e66e7d2ce9ce56816908533dfb5b60/theorem_expr.ipynb\"><img src=\"data:image/png;base64,iVBORw0KGgoAAAANSUhEUgAAAU0AAAAUBAMAAAD7KHJ8AAAAMFBMVEX///8QEBCIiIhmZma6urrM\n",
       "zMxUVFQiIiJERETc3Nzu7u6qqqp2dnaYmJgyMjIAAAAcRTyBAAAAAXRSTlMAQObYZgAABCtJREFU\n",
       "SMetV22IG2UQfpJsLrubTe6w/aGisOa8Q2qhodX+qmfuRIogNL/8QOFC/IAreAQpBelRrhUkQbSh\n",
       "yp3+KNm7ylkO8Rb8UU6ELlEsRmkDrVQravDjh4pylFa8XAvO7Lvb7ILZ3R4OPEfmfWce5mbmnUyA\n",
       "IFHagdc4gUju6brArYhLveqgw8r3fYxP9edJHslDne1//9QWj/uUg2jiox6oC3zJyu99PH4LYBs0\n",
       "kQ3K0YbH/UMHEcVLrXYE3uH69MlLJh9Ats/AhYBrqetx13SBiOKjbgpkDaIw/9s+FZSvs8ArAdda\n",
       "xeOuDglEFB/1gkCmtbw838d+PojsZyiVgOts3uv+i4No4qPOFgT+qVZn+tgPU/lG38tRwZrDBXVY\n",
       "x4Ihff5ubid1yp6RDcSprhP7J3KUvNwDWNwJ9U48PnWc7PBWc9JkdyyOvr2d9E8h4OuMEGo1NzVB\n",
       "BdfyAi8AtT5xvkEW8h/yEOYL6npCGsIO0o9ipY7xutyFTGPHetM8AuUAneXHEV+DVdXVdUh34JjB\n",
       "7qqVeTlFr+AHCED7yxbu3DDqD3BJP0wF7wg8Yj+nm3L6vud+cj8fAp5JlaQiKOEzJxIdVEnvoFFU\n",
       "7wZpKRNJ8yAeRcpC6ov2GOTZpHkYyjUstDFmu2uG1pWoTU9DwCsh1GjhvPEYDd6KQApxd5qrn+xq\n",
       "xzW03Je5FTBWqDUSXeBvI6bjNlv/kQ8otlgBqnqV7B42MLifLmM665k1Ppix3VWKnZkmHXglhBoG\n",
       "xc7TdE1Aa6dcz29Wl0FxXm734sQZQmwWyhWaFslrtj7NB0TKZGliwO1AQ6dBNFlkfaBDBxz/VnsW\n",
       "6v3iDKMGrnjjVDpP8IR6cLQocddwnFav7lw/rFjQ1mlaxIds/YZKB0TKxUnwGL4OnK/TILrH1gfb\n",
       "y9ft+A/ZERb5714Hbn+WEE4Njp2eW0UAtecpOmM6VchCxLkr33tHuItz0kbMwmtUw8ukp7vaionp\n",
       "dJ2bPcb/0w02k0uoZgzSzxitDUrqKrunjR3E7XlHXgmh/pie5bbeO8JHFGwSfwIn7TgTLx5wiWiS\n",
       "KPw/JUp4FdiN8bylXIXW+VrWMwc1e1o0OF27IefJSNqioVHAuUzxKC6VLHbfZx6zN4o9DnxbSjC1\n",
       "tCGv8SKTsAScDloHnqxWq3pcO37RZdrrZBxfbad+WcqtloukKy+Zanlk7l77ThSz+RlVv3z/3Ajr\n",
       "c9+R6dPlAn9eyi0+xN3+qwPf/AymVsvbhnk/yhYFkDHsbk1iQNQ9/awR5XsTwd+bPne1IhBdetTv\n",
       "O7CloXUo2UXRny0ryh5CciH4etN7iI/a2UOELF1stoDXeRqfs06Ouce1YDI5JN+1Te51Xmp3r/NK\n",
       "nPoz6p5sc8wG35/yBly7pThvUnPAYfn4v353ZOoCm/nd8a3AvymniEvp2AGLAAAAAElFTkSuQmCC\n",
       "\" style=\"display:inline;vertical-align:middle;\" /></a><br>"
      ],
      "text/plain": [
       "round_of_round: forall_{x in Real} (round(round(x)) = round(x))"
      ]
     },
     "execution_count": 15,
     "metadata": {},
     "output_type": "execute_result"
    }
   ],
   "source": [
    "round_of_round = Forall(\n",
    "    x,\n",
    "    Equals(Round(Round(x)), Round(x)),\n",
    "    domain=Real)"
   ]
  },
  {
   "cell_type": "markdown",
   "metadata": {},
   "source": [
    "### Relating Ceil, Floor, and Round"
   ]
  },
  {
   "cell_type": "code",
   "execution_count": 16,
   "metadata": {},
   "outputs": [
    {
     "data": {
      "text/html": [
       "<strong id=\"floor_less_eq_ceil\"><a class=\"ProveItLink\" href=\"proofs/floor_less_eq_ceil/thm_proof.ipynb\">floor_less_eq_ceil</a> (conjecture without proof):<br></strong> <a class=\"ProveItLink\" href=\"../__pv_it/theorems/4c176c56c17d35c2451fe88de600041f52259d820/theorem_expr.ipynb\"><img src=\"data:image/png;base64,iVBORw0KGgoAAAANSUhEUgAAAJ0AAAAVBAMAAACu6/FQAAAAMFBMVEX///8QEBCIiIhmZma6urrM\n",
       "zMxUVFQiIiJERETc3Nzu7u6qqqp2dnaYmJgyMjIAAAAcRTyBAAAAAXRSTlMAQObYZgAAAhdJREFU\n",
       "OMullU1LG0EYx/9dk2xeZuNXCB6kh0IDoUdLwA9gTupB6EHtsZTQNhUs5CJs6MFFJXpRNwloCSoB\n",
       "DyL0sOSYQlmoh7ZQCG3xYGvwqD11JruzO0l2SMC5zDP89/kxz8s8Cwxbx76pDIgfOpeOsdf5ixHW\n",
       "LlD2T8kBXRBPgHO6tZn9Q4KLF0fnUTFiAJ+YfSXhJQ0ZT3kdwIvTy+1QM1aU8L5AwjvKB90PTbqZ\n",
       "AGlIeCsS3ua7wHhRAbRWvb4twcVeBvPKf4Lzh2QWuNX1VQlPSbsu1cmtRymPN/+7px6CSKjDMlCS\n",
       "8KK24xK3tLza5rzoWk99RVGj+3S3LN46e7j4k9tqw3EhJvkXMjhPyZsiTxQTNEEqFJu328eMrRC0\n",
       "Uu75Qda9AqJFIX/aqineTxDDN5Rvq1z9el4H5X23+3jAeEqsR+KXIdbDFxkv1p5lnfNkMhdi6Wc8\n",
       "qy9e4Fmup19ClzmB54sh1hClJUoxX6jZ7ueUl0n31SNhPqZfiP0c1rOcJ4qsHjil0DCugVqXN/b8\n",
       "Ffcibr/MNNbZZBDfW2yZ80RxzPLCvwPmdF1PKWTjwgvL7eeDieqULZsHophkkWtmN5NhRJx4Ewvm\n",
       "sPcmmS845Id90iYgOSd/LWvoPJDwmvxwcNFsAe9ZP3+2ak+9BxI0r04KbMnmVc97pfm7zzyNGiPM\n",
       "+0rhjfuLKLwd0I98k2b/G/AfdMCb4NQXKQMAAAAASUVORK5CYII=\n",
       "\" style=\"display:inline;vertical-align:middle;\" /></a><br>"
      ],
      "text/plain": [
       "floor_less_eq_ceil: forall_{x in Real} (floor(x) <= ceil(x))"
      ]
     },
     "execution_count": 16,
     "metadata": {},
     "output_type": "execute_result"
    }
   ],
   "source": [
    "floor_less_eq_ceil = Forall(\n",
    "    x,\n",
    "    LessEq(Floor(x), Ceil(x)),\n",
    "    domain=Real)"
   ]
  },
  {
   "cell_type": "code",
   "execution_count": 17,
   "metadata": {},
   "outputs": [
    {
     "data": {
      "text/html": [
       "<strong id=\"floor_equal_ceil_for_int\"><a class=\"ProveItLink\" href=\"proofs/floor_equal_ceil_for_int/thm_proof.ipynb\">floor_equal_ceil_for_int</a> (conjecture without proof):<br></strong> <a class=\"ProveItLink\" href=\"../__pv_it/theorems/5e10090e9e8df040f35dd03068d7965e158fe9d10/theorem_expr.ipynb\"><img src=\"data:image/png;base64,iVBORw0KGgoAAAANSUhEUgAAAJ0AAAAVBAMAAACu6/FQAAAAMFBMVEX///8QEBCIiIhmZma6urrM\n",
       "zMxUVFQiIiJERETc3Nzu7u6qqqp2dnaYmJgyMjIAAAAcRTyBAAAAAXRSTlMAQObYZgAAAhZJREFU\n",
       "OMullDFIG1EYx/82uSR3eWcWxcUhmKGlOARdOmiJdHDQITi4iKDSFgptcSja0iLidKEVDgerDnpO\n",
       "iooGxMHJoLSDhXBLBymlBwWlpYQMCrZQ8L28lzvT+EhPv+W+9+7/fnzf9773ATVMsz0/XvV3tXDM\n",
       "ncXCL9Q21YY65C2dKsGs524Cu2XNVwlvFf/PqwdCJvCJ+T8lvB/+eBoVzLG0Jq/G6Ul/POzTjwWQ\n",
       "7NW8sOmTt0xjOFxbey9Jl+374tWngHPDeCPhJQSv98lMIi7jBT/Ot7QJHqEFegRkJLxpwcsZce23\n",
       "y8sXmH0v80hkClsm5+lU8aB0LZ4Nv7vXLtzXnKdkJ6CeyeIbCDtYSnNedJQWHbfcJ7B+0IlXOLwr\n",
       "lg2cp2mn0IsynrWVwjeRr0JVxA67/fF2wUJWObIreYgWEXKk97EHPL/EU51+SursS7DUmQUIKvNF\n",
       "wEHMtirrd+zy7gN/Nc4L0nyReUh5XXadKfRHO//eR10Oe1ZOFl8zon+Idx/YptCF24hZWrI0UOK5\n",
       "svpA8JZSyOtpCU89BXE+c16AHY2x1hpBF5SXhjEFQizV4upuwaPf2S/S/huF+iwr+jnNgmSnG9Gh\n",
       "oPQUegZBzGu+txV30BXxYgcfmJtMluK67jzgFhxCq40IDVt//DQ/Vt7O+J9XFXaH1u8G8zRi1p73\n",
       "WtM4J6on49VjcsNzQ7TTgAtsX6kfwSc4egAAAABJRU5ErkJggg==\n",
       "\" style=\"display:inline;vertical-align:middle;\" /></a><br>"
      ],
      "text/plain": [
       "floor_equal_ceil_for_int: forall_{n in Integer} (floor(n) = ceil(n))"
      ]
     },
     "execution_count": 17,
     "metadata": {},
     "output_type": "execute_result"
    }
   ],
   "source": [
    "floor_equal_ceil_for_int = Forall(\n",
    "    n,\n",
    "    Equals(Floor(n), Ceil(n)),\n",
    "    domain=Integer)"
   ]
  },
  {
   "cell_type": "code",
   "execution_count": 18,
   "metadata": {},
   "outputs": [
    {
     "data": {
      "text/html": [
       "<strong id=\"floor_plus_ceil_of_neg\"><a class=\"ProveItLink\" href=\"proofs/floor_plus_ceil_of_neg/thm_proof.ipynb\">floor_plus_ceil_of_neg</a> (conjecture without proof):<br></strong> <a class=\"ProveItLink\" href=\"../__pv_it/theorems/45e564f7781d67b71579e88ab224a5987d8002720/theorem_expr.ipynb\"><img src=\"data:image/png;base64,iVBORw0KGgoAAAANSUhEUgAAAOEAAAAVBAMAAABCnpRGAAAAMFBMVEX///8QEBCIiIhmZma6urrM\n",
       "zMxUVFQiIiJERETc3Nzu7u6qqqp2dnaYmJgyMjIAAAAcRTyBAAAAAXRSTlMAQObYZgAAArRJREFU\n",
       "SMetlk1oE1EQx/+mSZNsNtGDXmVpIUgRDBRvKkEP4qk56UVI8At6kSJiLYrkJCmiBhH1om5bqBK0\n",
       "LHgoFaFLvEWIKxb8wGpQqyi4BEXx6+DMZjc1+9U05MFbZue9N7+dN/PmLdBOu7ssBmxDwgU916KI\n",
       "6rqKjltUo8d14MqyKmGfknOsEmqIFd0NzlGvsbDoQbzN6/OrJbLNYae2/CqDXvqSR/zy2YP4iRHF\n",
       "TogzDmVCEcbYfVzjVXl3YDxFj6dwJcYkX6Io2ZVPgCo5ShZkGlbciWGOxlhHRGGdXXkWmJcxQX5U\n",
       "SqWrHpvK+uhIR0S8tyt/AEMKEmngZ6Fw2oPYz6chZRInk5c3S/5EoW94Z9kkPrQn8DciShDJ3GFg\n",
       "3IN4nnpEaxAFNX4sXPMn3sEz6YxJfG1oqjq3dzzvL5CVEKexXUYCNdvspoNvLfkUx1JpEEVZ/B0s\n",
       "+hMreCzvMYmz9pwmH7MqYhSkMAKa5fmDQS0gomLl2Xrqa9Kmj4jkm3EUdf3jRt0oNkycMTxZgoxC\n",
       "M45Z910N1Wm1Fra0z+dKIOJLzYUIrJVWzpyvnkTOnHnFIEZre7kgbE1mgpwkTFRddpVsZFYkhr43\n",
       "ibv/i+MHFsn9NzKCnPrjh4gjHw2nDWNEHEy5ZE5M3kKz/In3A3UMtGSOowJw5uAeYUP4AkwZxJ4j\n",
       "x61JnOGieTqGlItc0/2IwT+RulH72eo2RzlRhA1Aj9qMzy9gX6FQkALipQVrEu9M0KwA032T2zV/\n",
       "onBgoH/R2tUlx41STlJYEhyauMwRqIfQ29jV2H65C1VuxP2I37KEm2JNhJhpxLGitlHJBXmVldy8\n",
       "sixheqFcAc7xya2qUzssNRejSJduK+uybmkBimOXbmSPwhkptvnXMTF6oqG4MXrS/tUuPzU5xD0s\n",
       "vwD+AaVq4LAn0DQXAAAAAElFTkSuQmCC\n",
       "\" style=\"display:inline;vertical-align:middle;\" /></a><br>"
      ],
      "text/plain": [
       "floor_plus_ceil_of_neg: forall_{x in Real} ((floor(x) + ceil(-x)) = 0)"
      ]
     },
     "execution_count": 18,
     "metadata": {},
     "output_type": "execute_result"
    }
   ],
   "source": [
    "floor_plus_ceil_of_neg = Forall(\n",
    "    x,\n",
    "    Equals(Add(Floor(x), Ceil(Neg(x))), zero),\n",
    "    domain=Real)"
   ]
  },
  {
   "cell_type": "code",
   "execution_count": 19,
   "metadata": {},
   "outputs": [
    {
     "data": {
      "text/html": [
       "<strong id=\"floor_of_ceil\"><a class=\"ProveItLink\" href=\"proofs/floor_of_ceil/thm_proof.ipynb\">floor_of_ceil</a> (conjecture without proof):<br></strong> <a class=\"ProveItLink\" href=\"../__pv_it/theorems/bd81f9ac24f3ea46cf8d53ee4ee1b713adb09b900/theorem_expr.ipynb\"><img src=\"data:image/png;base64,iVBORw0KGgoAAAANSUhEUgAAAK8AAAAVBAMAAADC7aNVAAAAMFBMVEX///8QEBCIiIhmZma6urrM\n",
       "zMxUVFQiIiJERETc3Nzu7u6qqqp2dnaYmJgyMjIAAAAcRTyBAAAAAXRSTlMAQObYZgAAAeNJREFU\n",
       "OMutlU8oBFEcx7+t/WN3366Lct0oOShKjqQcHO2Ji7Llz1GScuDgOJtkk3DBWIU2actBymHitkpz\n",
       "cECpjSJic8TJ7830zFs7f2r5HebNvP3sZ99+f/veAh4V0emyX3o0nzZLr3xIVGC/CY8K6winaFy1\n",
       "pg75pVhBlhMngrlzEO+jQhz3FBMRzAAX/P7FQfxcpThCwDr/xvP23lh7lWKc0aACLG8vDmWqFW/T\n",
       "qgq53JpDEny+OnG8B/hQlDkHcZMszjavtCZcxRLBKMQxIO0gXpTEES02FSqWiS9LvB6EWCZiNPYa\n",
       "Pfyp45aRe3E/K4mZyr78GbcVy0R0kjoEny522WmH7mMoiI1VL68YtfPuGctE4J0+SA+JV69PciDx\n",
       "rW4jBuoSXs2zCC4OFwf4D6+zOemnxA2xZhMFMJz8JTYzfrTEFuGnKJAeJZ06Eeox3kPijnab5kXV\n",
       "NqLcViwTvHk4InsAb8COIa4Znxb0uSTuzy9hwzUKmajRfpL5BAYVRUn42PKVoPsk8W5jtkt3FctE\n",
       "nIcSU420AwiaUUSH1D9v6T3xsMWKDCxpZlzQ/uMQMmv36qwALPANcqntdIvp9B+OTbl8lPG/HPS1\n",
       "Ge+/pkjDTAoH1lQQ4aeZyvO7jMAN8A3QXra9UKU69QAAAABJRU5ErkJggg==\n",
       "\" style=\"display:inline;vertical-align:middle;\" /></a><br>"
      ],
      "text/plain": [
       "floor_of_ceil: forall_{x in Real} (floor(ceil(x)) = ceil(x))"
      ]
     },
     "execution_count": 19,
     "metadata": {},
     "output_type": "execute_result"
    }
   ],
   "source": [
    "floor_of_ceil = Forall(\n",
    "    x,\n",
    "    Equals(Floor(Ceil(x)), Ceil(x)),\n",
    "    domain=Real)"
   ]
  },
  {
   "cell_type": "code",
   "execution_count": 20,
   "metadata": {},
   "outputs": [
    {
     "data": {
      "text/html": [
       "<strong id=\"ceil_of_floor\"><a class=\"ProveItLink\" href=\"proofs/ceil_of_floor/thm_proof.ipynb\">ceil_of_floor</a> (conjecture without proof):<br></strong> <a class=\"ProveItLink\" href=\"../__pv_it/theorems/abe19ce70750cf7864076c9c4e60ed35fcb4934b0/theorem_expr.ipynb\"><img src=\"data:image/png;base64,iVBORw0KGgoAAAANSUhEUgAAAK8AAAAVBAMAAADC7aNVAAAAMFBMVEX///8QEBCIiIhmZma6urrM\n",
       "zMxUVFQiIiJERETc3Nzu7u6qqqp2dnaYmJgyMjIAAAAcRTyBAAAAAXRSTlMAQObYZgAAAeJJREFU\n",
       "OMutlb1Lw0Achl9iv3uti39AUSgOggVxVAoOjnbSRbDgxygiooIOjimiFhF1UVOFKgWh4CAFh1C3\n",
       "CiWDgwpCURAULI7q5F1jzMXmA9r+lstdnzy5vJe7Ag4V2Kwmca73BfirVbkOMxDO5VfgT9J2Vx8K\n",
       "s4dV6kgjUaBNjXm0EJ/BVAwnsScN3LDrNwvxa4Ni9kr77I3XzL2hWINiFGkjASRvLvamGxVn6KxK\n",
       "udyeRRJsvDFxOA58iuKqhbiLFx9Hd3oitmKOIDTEaSBlId7gxAE5NO+tGMTlKqtnTcwTIdoOGT/L\n",
       "y+7JJ+16hRMTiXy70nYz5ongHF0hCIq2y676FIGgFPntd/Azhm/NPmOecH/QByle7de7Qg5U/KCY\n",
       "iIH2iNPi6QQT+yuj7MPrjyZcMbbTqVg2iQKYSPwTqxm/6GKdcNEokJqiOmnWG6/dQ8V9MZPFC0q9\n",
       "lLKbMU+wxcMFtbvxDpzUxG0zCxp9zYlH8ls4sI2CJ9rkv2S+gDFRFCMC2b7V6GFOnO08HlBsxTwR\n",
       "ZqGEpFrabnjUKILjUtNb+lTrHJEKAUmoGZfkVhxCamVviyVgnW2QsnwyqA2nmjg2+RJoxi056H1p\n",
       "57+mAMsls7SoDhwuLbMmWUcaiXvgBwnes6uWu56HAAAAAElFTkSuQmCC\n",
       "\" style=\"display:inline;vertical-align:middle;\" /></a><br>"
      ],
      "text/plain": [
       "ceil_of_floor: forall_{x in Real} (ceil(floor(x)) = floor(x))"
      ]
     },
     "execution_count": 20,
     "metadata": {},
     "output_type": "execute_result"
    }
   ],
   "source": [
    "ceil_of_floor = Forall(\n",
    "    x,\n",
    "    Equals(Ceil(Floor(x)), Floor(x)),\n",
    "    domain=Real)"
   ]
  },
  {
   "cell_type": "code",
   "execution_count": 21,
   "metadata": {},
   "outputs": [
    {
     "data": {
      "text/html": [
       "<strong id=\"round_in_terms_of_floor\"><a class=\"ProveItLink\" href=\"proofs/round_in_terms_of_floor/thm_proof.ipynb\">round_in_terms_of_floor</a> (conjecture without proof):<br></strong> <a class=\"ProveItLink\" href=\"../__pv_it/theorems/7fa1f4c99e2a36e15939b49adf40bd060e5c51820/theorem_expr.ipynb\"><img src=\"data:image/png;base64,iVBORw0KGgoAAAANSUhEUgAAAQYAAAAyBAMAAABMh2gAAAAAMFBMVEX///8QEBCIiIhmZma6urrM\n",
       "zMxUVFQiIiJERETc3Nzu7u6qqqp2dnaYmJgyMjIAAAAcRTyBAAAAAXRSTlMAQObYZgAABHVJREFU\n",
       "WMPFmV2IG1UUx/+Zycd8JQYfVETrkLWLlsIGq4sPWlN98sXNkz5Y6LJVQdE1frBbYSmpoqYoGEVa\n",
       "+1B32pUVFmUjPsiK0GERhVjagBW1IA0uKCiGsN0tTdai5042M9k2kztZ9+KFTHJmzsz93XvP150A\n",
       "3PY1hDVtNJieYYtjwCPB1AYFIiBeDaKlJwV0/ZnV/vV2EPUTma23gmeft/p6/GsiluCC1c80602x\n",
       "DJjia8fSghlOFfnaRcEMAQZ5AIIZ4tzFjqyIZtCWecpyUjQDajzl0KhwhiGexe2rCGeY5nUx9J/c\n",
       "4lPfxzoMUrCpPsTv6Pj698K1l4743DJ82xIbfMIRlBycxPWLXwc39faaQ2lo+XUhWgzMsN5aDEYd\n",
       "37HvP/yyy8XeT7muhES7a626OYb4Kj6gLzXvN1CO845Y+N4VFjkMutmVgfpIkHkYJb+Mtdab4Vvg\n",
       "FS/Lb46B5jpenps76lvmrPZmWIKa8x6Z2RQDLgGXCwXf/Ck12DE8+FGK7l8cyGgDJk5Y4W+Ope6i\n",
       "Fbxv+xokSjla6ukHaSGMdDeGk4Pv7zR7MlwGngQO+9azTkIxlD+VJI5mtIYcTmKI5FcxX8SeotKE\n",
       "Qk72CX40D7ZrwzM11pbaDJodfzFW7cmwDXhoo0V/ccf+X7104TA8HhsNZ1mxMXVcrqJAchXTWe1W\n",
       "kBQjUyrjrPUw9ZHrMg+GZTTDxZ4MN1ICh9SOltpXuyqSgbKrHK2zozWfaeFcskImrnfkC+xEzEaI\n",
       "LlnExQy83oVBg+I4nVGr/b6tVnNi4j+s1V2GF+hqJda+56eFORDD+cpGBpxiITUPdZmcMbLqyOPs\n",
       "BLGEHENc9mWgGGJybJIY1OqjzLnvGcyGmVExBnvjWmA3feZtGA1yRinpyFc0OkEsbC0QcdwnnPPs\n",
       "4TePYV+WwzBJn8NPUM/WeCzjnCOGXa6BG45f4BY2nApCNt6gqT1Pst405ksY14vMJr+U6tjRbb9C\n",
       "DLo1RA/n2SQ+J/4I/gJmHAb5qZc933QGqLKjPMrK/GHsSdvqCozqD4oZnzCYQ4bXlLpKKLLdhWGk\n",
       "9E47q/kx3OAuGI34sUKhYErGe+e8GLXiTfLpnbT0s6mFsSzJ6nMlbWz7kdvZNW1sxwBLeolsF4bZ\n",
       "1Mn7K70ZWE6KW45BRRBtrYW+19uB8MtJL1Z/HDhWz9z7ekes/rtdzBhVmtdsyx7K7qRGrnAZgucs\n",
       "zfJ2/GcznTmr1WbPLZaBt1iMOmPP7Hbvu8hlUPrP3bKFUNJluCovSmQPG9UP8jew+athuAyhHKIN\n",
       "r4ZpcHp4IHgt93OXPfvkRNfapYnoKj6cPNAZB4MVwFvZYt7uKpTn1fYlMQwjXiyZNv+fPQ4m+tg+\n",
       "yHUhCHJHufMmTzksZs870PGbu+fFSyIQ9DSOufGA/6JHiGPsBe7sw+JC9tYjqFOnh3N9vAsS8U4s\n",
       "QaVcztse8NsShDb95gBK72aFMgR6R3ptxb6lbX8grWGRCPF8ILWoKZAh4H8HuFscgvYMO/4LHklG\n",
       "3RNRaxEAAAAASUVORK5CYII=\n",
       "\" style=\"display:inline;vertical-align:middle;\" /></a><br>"
      ],
      "text/plain": [
       "round_in_terms_of_floor: forall_{x in Real} (round(x) = floor(x + (1 / 2)))"
      ]
     },
     "execution_count": 21,
     "metadata": {},
     "output_type": "execute_result"
    }
   ],
   "source": [
    "round_in_terms_of_floor = Forall(\n",
    "    x,\n",
    "    Equals(Round(x), Floor(Add(x, frac(one, two)))),\n",
    "    domain=Real)"
   ]
  },
  {
   "cell_type": "code",
   "execution_count": 22,
   "metadata": {},
   "outputs": [
    {
     "data": {
      "text/html": [
       "<strong id=\"round_in_terms_of_ceil\"><a class=\"ProveItLink\" href=\"proofs/round_in_terms_of_ceil/thm_proof.ipynb\">round_in_terms_of_ceil</a> (conjecture without proof):<br></strong> <a class=\"ProveItLink\" href=\"../__pv_it/theorems/4019550a700059a53b70e2995941d7d6623995ba0/theorem_expr.ipynb\"><img src=\"data:image/png;base64,iVBORw0KGgoAAAANSUhEUgAAAQYAAAAyBAMAAABMh2gAAAAAMFBMVEX///8QEBCIiIhmZma6urrM\n",
       "zMxUVFQiIiJERETc3Nzu7u6qqqp2dnaYmJgyMjIAAAAcRTyBAAAAAXRSTlMAQObYZgAABHJJREFU\n",
       "WMPFmV+IG0Ucx7+bbJLdzSYGH1TEP0vOHloKF6wePmhN9ckXb5/0wUKPqwqKnvEPVeEoqaKmKBhF\n",
       "WvtQb9uTU47iRXyQE6FLEYVY2oAVtSANHvTBPyFc70qTs+hvNpfdXC+b2cQbHMjuzu5vZz4z8/s3\n",
       "G4BbvoGwoo0Hk9NtcQx4OJjYsEAEJKpBpOIpAV1/brWv3gkifjS7+VrwzHNWX82/LmIJzlv9THO8\n",
       "KZYBU3zpWEYww4kiX7oomCHAIF+BYIYEd7Ejy6IZtCWecDglmgE1nrA0LpxhhKdxuyvCGaZ5XYz8\n",
       "J7P4tHbBp1li+Kj2Z7Cp3s/v6MjaeWHjo4M+r4zeusgG/5lTUXJwAtevfh3c0Ntq9meg5dcq0WJg\n",
       "hrWSbOUGdXzPzr/7RZeLvVu5poRku2utOhhDYgUf0knN+w2UY7xjFn5wKycHY6A+kqQeeskvYq32\n",
       "buU74FUvyg/GQHOdKM/NHfJNc1Z6t7IINec1mR2IAZeAy4WCb/wMNdhRHv44bdBcD2W1IQNHLfnb\n",
       "w+k7aQXv3bKKEIUcLf3UA7QQeqYbw7HhD7YZPRkuA08AB3zzWSeg6MofSgqHslojLKcwQvXXMF/E\n",
       "zqLShEJGdhw/GfvaueHpGiuLbQbNTrwQq/ZkuAV4cL1Gf3n7nt+8cOEwPBYbl02WbEwdCVdRoHoV\n",
       "06Z2M6gWI1Uq44z1EClPrss86JbelIs9Ga6nAI5Q21tqX2+vhHSU3bmL1tnRms+2cC5ZkoFrnfp5\n",
       "diNmQ6JHFnExBa93YdCgOEanOdNTM9n1P6zUXYbnibQSa7/z88IciOFcZT0DTjCXmoe6RMYYWXHq\n",
       "k+wGsUiOIi75MpAPMTg6SQxq9RFm3HcPmzJTKsZgr18L7KDfvA29QcYYSjn1KxrdIBa2Fog45iPn\n",
       "PH244DHsNjkML9PvwOPUszUZyzr3iGG7q+C6Yxe4iQ2nAsnGmzS156geb+rzJUzGi0wnvwrVsbXb\n",
       "foUY4tYINc7TSXxB/BH8Bcw4DOEnX/Js0xmgyo7hcZbmj2JnxlaXoVd/VIzEXp0ZpLyq1FVCCdtd\n",
       "GMZK77pRzYfhOnfBaMSPFgoFI6S/f9bzUcveJJ/aRks/m16YMKmuPlvSJrYcvI090ya2DrGglzS7\n",
       "MMymj91X6c3AYlLCchQqgmhrLeK7vB0IP530fPUngX31zD1vdPjqv9vJjF6leTVb+lB2JzVyhcsw\n",
       "QMyiHf+ZbGfMapXZsyfLwNvMR522Z3a44he5DEr/sTtsQUq5DFfFxRDpw3rxffwNbP5qGC6DlEO0\n",
       "4eUwDU4P9wfP5X7Z+Oi4jy42EWWmFu30g8ES4M0sMW93JeV5uX1JDMOY50umjf9nj4O9fWwfwnUh\n",
       "COGOdOctnrAsZs871HHN3fPiRREI8QwOu/6A/6FHiGHsAu7oQ+Mke/MR1KlTo7k+vgWJ+CaWpFQu\n",
       "520P+GURQkv8xgBC75lCGQJ9I92YsW9q2RNIalQkQiIfSCxqCGQI+N8B7hKHoD3Njv8CRrpHcH84\n",
       "cEcAAAAASUVORK5CYII=\n",
       "\" style=\"display:inline;vertical-align:middle;\" /></a><br>"
      ],
      "text/plain": [
       "round_in_terms_of_ceil: forall_{x in Real} (round(x) = ceil(x - (1 / 2)))"
      ]
     },
     "execution_count": 22,
     "metadata": {},
     "output_type": "execute_result"
    }
   ],
   "source": [
    "round_in_terms_of_ceil = Forall(\n",
    "    x,\n",
    "    Equals(Round(x), Ceil(subtract(x, frac(one, two)))),\n",
    "    domain=Real)"
   ]
  },
  {
   "cell_type": "markdown",
   "metadata": {},
   "source": [
    "### Closure Theorems\n",
    "#### _Note: the identifications of Ceil(x), Floor(x), and Round(x) as Integer numbers appear as axioms in the axioms notebook._"
   ]
  },
  {
   "cell_type": "code",
   "execution_count": 23,
   "metadata": {},
   "outputs": [
    {
     "data": {
      "text/html": [
       "<strong id=\"round_real_pos_closure\"><a class=\"ProveItLink\" href=\"proofs/round_real_pos_closure/thm_proof.ipynb\">round_real_pos_closure</a> (conjecture without proof):<br></strong> <a class=\"ProveItLink\" href=\"../__pv_it/theorems/1aea2c27824b9fe846c55cbe1ef2ea3e1dfe2d7c0/theorem_expr.ipynb\"><img src=\"data:image/png;base64,iVBORw0KGgoAAAANSUhEUgAAAMsAAAAUBAMAAADRvdT6AAAAMFBMVEX///8QEBCIiIhmZma6urrM\n",
       "zMxUVFQiIiJERETc3Nzu7u6qqqp2dnaYmJgyMjIAAAAcRTyBAAAAAXRSTlMAQObYZgAAAyRJREFU\n",
       "SMelVUtoE1EUPZn8JpNJGsSlwpDYIkUwGNSFUqIuRBAcN1Wwi1BbpQtLFmIRi8QPmipKcGHronRK\n",
       "pZUiJuBCKoKximIUDVixFsRBV7YoaVHpB8H7XiZ/MhZ8MPPmnjvvnXnnfgb493Blzf2DxjxRx89w\n",
       "nT18Mt3mTn2X/VwQUswwHIlK573F6xqezIcZ/ooBs6Y030x8DSl4C7tLepXzmj0CKcfxAaZKzIzF\n",
       "EzRxHtDwrmhMVjmPq37Ax3GvBsgpMxpnwsT5AjhdNIaNebqnhx+s44pDRZTjnsz4eL+pZqber3BF\n",
       "i4Y3zKfDzYbd1SrNMhqGL8bjvbXL5dJjALA13fYrdPhAWAooGNZsz2/5t5DYOxtXIJCmkr9rNykj\n",
       "c3mlYqS73Eoro2F4J9BXS2MtCyS9J86JPvSHpSWrzYfNZJ9HMoFdCXEZIqX7XXxQzpIyemXCdeGZ\n",
       "R4nm8T21GVJJcwY44ozYVNChewetOuJk6xhSpfUgy0mBzeCttg9wc/1ElGgcWmc0jzshlJffg41H\n",
       "v1TSrAW0JKlrXQZ+axYFa7j9mQHONCzk0oiaVVGO3Q/+oKHnaaSI15fH5ayzsKH0KJQVZGQUObQ9\n",
       "tKOMBo/pssTgWqAMtv/idjcDiM7C475QohkoOw3a7AaNS28twNMT4yCamWy1aGihK5mGvEQZLPi4\n",
       "/UcigOiYaGDUlClcNEs5jScVM/C+DlZZW5tUG0sURpOuTgGsYwWfhSWNSxBjM2S7l+VkCt3uBEuB\n",
       "h0IOzYUUsCqFlZRdeBkz8PvEJWjdzrAXeZpQsILmKZ2Yfaw1ggvANuwKpl0/IevvRcVzSmbZalsR\n",
       "c6y/WtPF4/Mxx1bpBt5A7HZ8B0Y4jfXYycoU2FtQ4/UmCsOof6JdJdt1IiW1N97cwHxSe3OAdV+v\n",
       "yheMXtT4fGg+lm90HPdwcIngeDyuCPKNKSb2KpsNypvNmDHvv9xTUSNjpY6es8ORF83dpq2+ddKo\n",
       "3zpr8CFZJ5XVfGwy6cq3+sxpxLo/ghp8dGoyA1xl5fkmPdKy6t8a3yVWzVfvO4whUGz+4yf9sY6f\n",
       "8L+IueP+XT4FkwAAAABJRU5ErkJggg==\n",
       "\" style=\"display:inline;vertical-align:middle;\" /></a><br>"
      ],
      "text/plain": [
       "round_real_pos_closure: forall_{x in RealPos} (round(x) in Natural)"
      ]
     },
     "execution_count": 23,
     "metadata": {},
     "output_type": "execute_result"
    }
   ],
   "source": [
    "round_real_pos_closure = Forall(x, InSet(Round(x), Natural), domain=RealPos)"
   ]
  },
  {
   "cell_type": "code",
   "execution_count": 24,
   "metadata": {},
   "outputs": [
    {
     "data": {
      "text/html": [
       "<strong id=\"ceil_real_pos_closure\"><a class=\"ProveItLink\" href=\"proofs/ceil_real_pos_closure/thm_proof.ipynb\">ceil_real_pos_closure</a> (conjecture without proof):<br></strong> <a class=\"ProveItLink\" href=\"../__pv_it/theorems/5eab064eb6f5679e9442d8e56cf019401c18a73d0/theorem_expr.ipynb\"><img src=\"data:image/png;base64,iVBORw0KGgoAAAANSUhEUgAAAKcAAAAbBAMAAADrMILRAAAAMFBMVEX///8QEBCIiIhmZma6urrM\n",
       "zMxUVFQiIiJERETc3Nzu7u6qqqp2dnaYmJgyMjIAAAAcRTyBAAAAAXRSTlMAQObYZgAAAo9JREFU\n",
       "SMfFlj9oE1Ecx7+9JHdN8lIdOgiCng5FRDAQxIJaAi4OQpPFOgg90Do4iIiSoYIZBK84GMQ/XbRH\n",
       "C0GCtMEOIjiEukWUUzoU/8DZwaHo2VEz9d3f964ez8sgPnjHu3s/Pu/3/x3wv0amnExOo1NKCj2T\n",
       "UK5OZ1pLKLwBPLW/eesn9nchFG+TMVMq8JC9LoqhigFYzuKLEDpnRKBD0d3cT30DZO9wAJWKwBvf\n",
       "PsF4DREUgyb1+RJk295j/wCym8As/ZytC6G7xVD5uqRiIDQf01SE2kbaIma2Fw9dq9Vc38mnjCko\n",
       "DDoKFLqt1iOhooWdsdCzBwNNH2iLBgfdR+cvXb/xJ4lwwbd86PzI/UNqAM2FcZAbzzMaBx2ntk8B\n",
       "MzFpxAWi7kFzncJVxQqgcoNBSfkDB52sACeRs4TQIc2DEoP00o0AOsgC1cAlecJZeefM0aJWIJkc\n",
       "7cWB8+tRqFL0NfV09qFVmw7LhzbxlckvUSgxlTCPX5VMiaCrktLR0rFQ02IQqB0qg87ymmY6Va5W\n",
       "KDRrhf1i7WULFPrRjPpUC6COtwLoAA/FJ+YNTDpemLlAHytHRippRyUH2olAZT9QeeMwJCOAptRw\n",
       "nx5FmOJu9LF8haKMy0rZlabQUjEClfw8HW/fxWOWp9Ohe5zSGWPy7wNPZUCrdsFFpC5eiwYq7VdU\n",
       "c//8CZNBm7cMr4Pf3BVtXaNuxbibv4EJXddVidxbdUS5hBiOL9PTt2tWXAWusxtjMwPZMz9/zohK\n",
       "HRc3lG0j1wvTgFgEpOL5tNuJilX7ghbC+6S5utIF7jjJ/66zMLatt7X7gSqV6LtEfRpnEHXdM+4M\n",
       "MfRzwotvuY/r/C8Nn418OTk0Zfyjn48tBb+hQerMqNAAAAAASUVORK5CYII=\n",
       "\" style=\"display:inline;vertical-align:middle;\" /></a><br>"
      ],
      "text/plain": [
       "ceil_real_pos_closure: forall_{x in RealPos} (ceil(x) in NaturalPos)"
      ]
     },
     "execution_count": 24,
     "metadata": {},
     "output_type": "execute_result"
    }
   ],
   "source": [
    "ceil_real_pos_closure = Forall(x, InSet(Ceil(x), NaturalPos), domain=RealPos)"
   ]
  },
  {
   "cell_type": "code",
   "execution_count": 25,
   "metadata": {},
   "outputs": [
    {
     "data": {
      "text/html": [
       "<strong id=\"floor_real_pos_closure\"><a class=\"ProveItLink\" href=\"proofs/floor_real_pos_closure/thm_proof.ipynb\">floor_real_pos_closure</a> (conjecture without proof):<br></strong> <a class=\"ProveItLink\" href=\"../__pv_it/theorems/c9bdb6a61eac8b56115dd0f5a9fd1c6c4847c2690/theorem_expr.ipynb\"><img src=\"data:image/png;base64,iVBORw0KGgoAAAANSUhEUgAAAJcAAAAVBAMAAAC5yWGZAAAAMFBMVEX///8QEBCIiIhmZma6urrM\n",
       "zMxUVFQiIiJERETc3Nzu7u6qqqp2dnaYmJgyMjIAAAAcRTyBAAAAAXRSTlMAQObYZgAAAjdJREFU\n",
       "OMul1D9o1FAcB/Avuctdk0tiB8FNQgsinYqHOAhy6CA6ZTqXDoe2ahZxEG5QyuFirqIcLroZKagc\n",
       "UgoOUnE4o4NG0AwF/0DhcBErSioIFRd/L39eEi/GFh/c8f6ED+/3+733gC012Uv6Ov6nSR6kVjIc\n",
       "5n+1Ei+tFWL3UYQtbV638XSjUekBr9jEeiH2uRDDNbEF2YdM87dYHJ0iS50uxs4YE8A44ACaDSjL\n",
       "RVi1l4upV9rzQWd2oWLgPHCH5tx+/2ZhlGx1FBMv29HYbMrrDNMawKZlXRoVlKQ7GWHyhHnY4dhS\n",
       "bMGs6U2GKZSOOaA7ipVSCY6wB3irz3PM5Osmnqs6YSotHAnqUIBdjDAXb+xjHOuksIo9R1iNflUI\n",
       "qeONR3tPfcxiOyPMhpXkTNz9jVqEyS2Nqin6FKpX5ZfmSd0TFLi6Uj9QP/gnBnxPMCm9M8yIESYN\n",
       "m/H0u5U+CPvg5YYJ8UeqmuNpTF0mu0xhojtLf87+PUaZyhFgg9wCPBZ8THFsH1+nCuJlJywAHpIo\n",
       "2OeqDQ0hVp/OYM9CrPxrzJc8jlX5Qf/CUkyTJdoDdtCbIuIrsBhgpdMXsgU4GmLyyanJtSRM+ezx\n",
       "cPnEBu2KHQjNYPciOH4/adqyLF1Qbqyy/PzzOpVfRNcpbvd4T/RFVMIwazP2ti563Jy4c1sZKlCM\n",
       "MGfuIPtVd0tYcvTvrjoucJUd2teDxUPbeRzjNtbLjgXKWf6zLe9qh5z0qf2Xx+898BveNqFAS7Zo\n",
       "mgAAAABJRU5ErkJggg==\n",
       "\" style=\"display:inline;vertical-align:middle;\" /></a><br>"
      ],
      "text/plain": [
       "floor_real_pos_closure: forall_{x in RealPos} (floor(x) in Natural)"
      ]
     },
     "execution_count": 25,
     "metadata": {},
     "output_type": "execute_result"
    }
   ],
   "source": [
    "floor_real_pos_closure = Forall(x, InSet(Floor(x), Natural), domain=RealPos)"
   ]
  },
  {
   "cell_type": "code",
   "execution_count": 26,
   "metadata": {},
   "outputs": [
    {
     "name": "stdout",
     "output_type": "stream",
     "text": [
      "These theorems may now be imported from the theory package: proveit.numbers.rounding\n"
     ]
    }
   ],
   "source": [
    "%end theorems"
   ]
  }
 ],
 "metadata": {
  "kernelspec": {
   "display_name": "Python 3",
   "language": "python",
   "name": "python3"
  }
 },
 "nbformat": 4,
 "nbformat_minor": 0
}