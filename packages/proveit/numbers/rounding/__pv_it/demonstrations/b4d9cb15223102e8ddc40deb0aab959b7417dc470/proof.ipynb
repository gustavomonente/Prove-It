{
 "cells": [
  {
   "cell_type": "markdown",
   "metadata": {},
   "source": [
    "Show the Proof\n",
    "========"
   ]
  },
  {
   "cell_type": "code",
   "execution_count": 1,
   "metadata": {},
   "outputs": [
    {
     "data": {
      "text/html": [
       "<table><tr><th>&nbsp;</th><th>step type</th><th>requirements</th><th>statement</th></tr>\n",
       "<tr><td><a name=\"proveit.numbers.rounding.demonstrations.b4d9cb15223102e8ddc40deb0aab959b7417dc470_step0\">0</a></td><td>instantiation</td><td><a href=\"#proveit.numbers.rounding.demonstrations.b4d9cb15223102e8ddc40deb0aab959b7417dc470_step1\">1</a>, <a href=\"#proveit.numbers.rounding.demonstrations.b4d9cb15223102e8ddc40deb0aab959b7417dc470_step2\">2</a></td><td><span style=\"font-size:20px;\"><a class=\"ProveItLink\" href=\"../12a11899a05cb89862572dd39345630a41def2c60/expr.ipynb\"><img src=\"../12a11899a05cb89862572dd39345630a41def2c60/expr.png\" style=\"display:inline;vertical-align:middle;\" /></a> <a class=\"ProveItLink\" href=\"proof.ipynb\" style=\"text-decoration: none\">&nbsp;&#x22A2;&nbsp;&nbsp;</a><a class=\"ProveItLink\" href=\"../5bd5e7d4f727ae322a801b32b1d0cb2b3f344b120/expr.ipynb\"><img src=\"../5bd5e7d4f727ae322a801b32b1d0cb2b3f344b120/expr.png\" style=\"display:inline;vertical-align:middle;\" /></a></span></td></tr>\n",
       "<tr><td>&nbsp;</td><td colspan=4 style=\"text-align:left\"><span style=\"font-size:20px;\"><a class=\"ProveItLink\" href=\"../../../../../__pv_it/common/a2581dc5df71d9a30bad37de14965fa5fec97a240/expr.ipynb\"><img src=\"../../../../../__pv_it/common/a2581dc5df71d9a30bad37de14965fa5fec97a240/expr.png\" style=\"display:inline;vertical-align:middle;\" /></a> : <a class=\"ProveItLink\" href=\"../e1488eaf9ddea4bb60c1d7acd60ca34214fc94650/expr.ipynb\"><img src=\"../e1488eaf9ddea4bb60c1d7acd60ca34214fc94650/expr.png\" style=\"display:inline;vertical-align:middle;\" /></a></span></td></tr><tr><td><a name=\"proveit.numbers.rounding.demonstrations.b4d9cb15223102e8ddc40deb0aab959b7417dc470_step1\">1</a></td><td>theorem</td><td></td><td><span style=\"font-size:20px;\"> <a class=\"ProveItLink\" href=\"../../../_theory_nbs_/proofs/ceil_of_integer/thm_proof.ipynb\" style=\"text-decoration: none\">&nbsp;&#x22A2;&nbsp;&nbsp;</a><a class=\"ProveItLink\" href=\"../../theorems/d69324923a85e594b04d12d98875ad3be0adcfc80/expr.ipynb\"><img src=\"../../theorems/d69324923a85e594b04d12d98875ad3be0adcfc80/expr.png\" style=\"display:inline;vertical-align:middle;\" /></a></span></td></tr>\n",
       "<tr><td>&nbsp;</td><td colspan=4 style-\"text-align:left\"><a class=\"ProveItLink\" href=\"../../../_theory_nbs_/proofs/ceil_of_integer/thm_proof.ipynb\">proveit.numbers.rounding.ceil_of_integer</a></td></tr><tr><td><a name=\"proveit.numbers.rounding.demonstrations.b4d9cb15223102e8ddc40deb0aab959b7417dc470_step2\">2</a></td><td>assumption</td><td></td><td><span style=\"font-size:20px;\"><a class=\"ProveItLink\" href=\"../12a11899a05cb89862572dd39345630a41def2c60/expr.ipynb\"><img src=\"../12a11899a05cb89862572dd39345630a41def2c60/expr.png\" style=\"display:inline;vertical-align:middle;\" /></a> <a class=\"ProveItLink\" href=\"../46e74f70c5fb6ba97bf3d5705b99b76a972a5f450/proof.ipynb\" style=\"text-decoration: none\">&nbsp;&#x22A2;&nbsp;&nbsp;</a><a class=\"ProveItLink\" href=\"../12a11899a05cb89862572dd39345630a41def2c60/expr.ipynb\"><img src=\"../12a11899a05cb89862572dd39345630a41def2c60/expr.png\" style=\"display:inline;vertical-align:middle;\" /></a></span></td></tr>\n",
       "</table>"
      ],
      "text/plain": [
       "<proveit._core_.proof._ShowProof at 0x7f8676e08d68>"
      ]
     },
     "execution_count": 1,
     "metadata": {},
     "output_type": "execute_result"
    }
   ],
   "source": [
    "import proveit\n",
    "# Automation is not needed when only showing a stored proof:\n",
    "proveit.defaults.automation = False # This will speed things up.\n",
    "proveit.defaults.inline_pngs = False # Makes files smaller.\n",
    "%show_proof"
   ]
  },
  {
   "cell_type": "code",
   "execution_count": null,
   "metadata": {},
   "outputs": [],
   "source": []
  }
 ],
 "metadata": {
  "kernelspec": {
   "display_name": "Python 3",
   "language": "python",
   "name": "python3"
  },
  "language_info": {
   "codemirror_mode": {
    "name": "ipython",
    "version": 3
   },
   "file_extension": ".py",
   "mimetype": "text/x-python",
   "name": "python",
   "nbconvert_exporter": "python",
   "pygments_lexer": "ipython3",
   "version": "3.7.3"
  }
 },
 "nbformat": 4,
 "nbformat_minor": 1
}