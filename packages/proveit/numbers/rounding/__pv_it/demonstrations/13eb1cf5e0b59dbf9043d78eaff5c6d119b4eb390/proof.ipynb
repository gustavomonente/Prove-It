{
 "cells": [
  {
   "cell_type": "markdown",
   "metadata": {},
   "source": [
    "Show the Proof\n",
    "========"
   ]
  },
  {
   "cell_type": "code",
   "execution_count": 1,
   "metadata": {},
   "outputs": [
    {
     "data": {
      "text/html": [
       "<table><tr><th>&nbsp;</th><th>step type</th><th>requirements</th><th>statement</th></tr>\n",
       "<tr><td><a name=\"proveit.numbers.rounding.demonstrations.13eb1cf5e0b59dbf9043d78eaff5c6d119b4eb390_step0\">0</a></td><td>instantiation</td><td><a href=\"#proveit.numbers.rounding.demonstrations.13eb1cf5e0b59dbf9043d78eaff5c6d119b4eb390_step1\">1</a>, <a href=\"#proveit.numbers.rounding.demonstrations.13eb1cf5e0b59dbf9043d78eaff5c6d119b4eb390_step2\">2</a>, <a href=\"#proveit.numbers.rounding.demonstrations.13eb1cf5e0b59dbf9043d78eaff5c6d119b4eb390_step3\">3</a></td><td><span style=\"font-size:20px;\"><a class=\"ProveItLink\" href=\"../ff7c45c40078d7fff287a190329a0ad7387a09da0/expr.ipynb\"><img src=\"../ff7c45c40078d7fff287a190329a0ad7387a09da0/expr.png\" style=\"display:inline;vertical-align:middle;\" /></a>, <a class=\"ProveItLink\" href=\"../889c1816a8b6930c8b5c317110b62bb63e7c54870/expr.ipynb\"><img src=\"../889c1816a8b6930c8b5c317110b62bb63e7c54870/expr.png\" style=\"display:inline;vertical-align:middle;\" /></a> <a class=\"ProveItLink\" href=\"proof.ipynb\" style=\"text-decoration: none\">&nbsp;&#x22A2;&nbsp;&nbsp;</a><a class=\"ProveItLink\" href=\"../53fce0417488ea88238c16dfd6bb4805033a3e610/expr.ipynb\"><img src=\"../53fce0417488ea88238c16dfd6bb4805033a3e610/expr.png\" style=\"display:inline;vertical-align:middle;\" /></a></span></td></tr>\n",
       "<tr><td>&nbsp;</td><td colspan=4 style=\"text-align:left\"><span style=\"font-size:20px;\"><a class=\"ProveItLink\" href=\"../../../../../__pv_it/common/a2581dc5df71d9a30bad37de14965fa5fec97a240/expr.ipynb\"><img src=\"../../../../../__pv_it/common/a2581dc5df71d9a30bad37de14965fa5fec97a240/expr.png\" style=\"display:inline;vertical-align:middle;\" /></a> : <a class=\"ProveItLink\" href=\"../../../../../__pv_it/common/c8547a5614922d83165874ce64514ce6b5c27ebf0/expr.ipynb\"><img src=\"../../../../../__pv_it/common/c8547a5614922d83165874ce64514ce6b5c27ebf0/expr.png\" style=\"display:inline;vertical-align:middle;\" /></a>, <a class=\"ProveItLink\" href=\"../../../../../__pv_it/common/6165c9bb82ce3c7097cdba4440a1aeeb6eaca8a40/expr.ipynb\"><img src=\"../../../../../__pv_it/common/6165c9bb82ce3c7097cdba4440a1aeeb6eaca8a40/expr.png\" style=\"display:inline;vertical-align:middle;\" /></a> : <a class=\"ProveItLink\" href=\"../../../../../__pv_it/common/1725f6efc281344764d75a138e1fb4aee16d5f2c0/expr.ipynb\"><img src=\"../../../../../__pv_it/common/1725f6efc281344764d75a138e1fb4aee16d5f2c0/expr.png\" style=\"display:inline;vertical-align:middle;\" /></a></span></td></tr><tr><td><a name=\"proveit.numbers.rounding.demonstrations.13eb1cf5e0b59dbf9043d78eaff5c6d119b4eb390_step1\">1</a></td><td>theorem</td><td></td><td><span style=\"font-size:20px;\"> <a class=\"ProveItLink\" href=\"../../../_theory_nbs_/proofs/floor_of_real_plus_int/thm_proof.ipynb\" style=\"text-decoration: none\">&nbsp;&#x22A2;&nbsp;&nbsp;</a><a class=\"ProveItLink\" href=\"../../theorems/f948ebb607538174f871227467bc91b2a4de4a570/expr.ipynb\"><img src=\"../../theorems/f948ebb607538174f871227467bc91b2a4de4a570/expr.png\" style=\"display:inline;vertical-align:middle;\" /></a></span></td></tr>\n",
       "<tr><td>&nbsp;</td><td colspan=4 style-\"text-align:left\"><a class=\"ProveItLink\" href=\"../../../_theory_nbs_/proofs/floor_of_real_plus_int/thm_proof.ipynb\">proveit.numbers.rounding.floor_of_real_plus_int</a></td></tr><tr><td><a name=\"proveit.numbers.rounding.demonstrations.13eb1cf5e0b59dbf9043d78eaff5c6d119b4eb390_step2\">2</a></td><td>assumption</td><td></td><td><span style=\"font-size:20px;\"><a class=\"ProveItLink\" href=\"../ff7c45c40078d7fff287a190329a0ad7387a09da0/expr.ipynb\"><img src=\"../ff7c45c40078d7fff287a190329a0ad7387a09da0/expr.png\" style=\"display:inline;vertical-align:middle;\" /></a> <a class=\"ProveItLink\" href=\"../896ee99128f15e455fe54a0fef6237fdde0cfcba0/proof.ipynb\" style=\"text-decoration: none\">&nbsp;&#x22A2;&nbsp;&nbsp;</a><a class=\"ProveItLink\" href=\"../ff7c45c40078d7fff287a190329a0ad7387a09da0/expr.ipynb\"><img src=\"../ff7c45c40078d7fff287a190329a0ad7387a09da0/expr.png\" style=\"display:inline;vertical-align:middle;\" /></a></span></td></tr>\n",
       "<tr><td><a name=\"proveit.numbers.rounding.demonstrations.13eb1cf5e0b59dbf9043d78eaff5c6d119b4eb390_step3\">3</a></td><td>assumption</td><td></td><td><span style=\"font-size:20px;\"><a class=\"ProveItLink\" href=\"../889c1816a8b6930c8b5c317110b62bb63e7c54870/expr.ipynb\"><img src=\"../889c1816a8b6930c8b5c317110b62bb63e7c54870/expr.png\" style=\"display:inline;vertical-align:middle;\" /></a> <a class=\"ProveItLink\" href=\"../c1ca29723459a9216de76e46c9de913a8a608bae0/proof.ipynb\" style=\"text-decoration: none\">&nbsp;&#x22A2;&nbsp;&nbsp;</a><a class=\"ProveItLink\" href=\"../889c1816a8b6930c8b5c317110b62bb63e7c54870/expr.ipynb\"><img src=\"../889c1816a8b6930c8b5c317110b62bb63e7c54870/expr.png\" style=\"display:inline;vertical-align:middle;\" /></a></span></td></tr>\n",
       "</table>"
      ],
      "text/plain": [
       "<proveit._core_.proof._ShowProof at 0x7f579c103cc0>"
      ]
     },
     "execution_count": 1,
     "metadata": {},
     "output_type": "execute_result"
    }
   ],
   "source": [
    "import proveit\n",
    "# Automation is not needed when only showing a stored proof:\n",
    "proveit.defaults.automation = False # This will speed things up.\n",
    "proveit.defaults.inline_pngs = False # Makes files smaller.\n",
    "%show_proof"
   ]
  },
  {
   "cell_type": "code",
   "execution_count": null,
   "metadata": {},
   "outputs": [],
   "source": []
  }
 ],
 "metadata": {
  "kernelspec": {
   "display_name": "Python 3",
   "language": "python",
   "name": "python3"
  },
  "language_info": {
   "codemirror_mode": {
    "name": "ipython",
    "version": 3
   },
   "file_extension": ".py",
   "mimetype": "text/x-python",
   "name": "python",
   "nbconvert_exporter": "python",
   "pygments_lexer": "ipython3",
   "version": "3.7.3"
  }
 },
 "nbformat": 4,
 "nbformat_minor": 1
}