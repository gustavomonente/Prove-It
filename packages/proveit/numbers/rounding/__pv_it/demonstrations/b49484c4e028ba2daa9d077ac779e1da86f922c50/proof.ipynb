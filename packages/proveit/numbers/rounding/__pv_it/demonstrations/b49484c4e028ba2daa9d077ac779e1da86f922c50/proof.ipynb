{
 "cells": [
  {
   "cell_type": "markdown",
   "metadata": {},
   "source": [
    "Show the Proof\n",
    "========"
   ]
  },
  {
   "cell_type": "code",
   "execution_count": 1,
   "metadata": {},
   "outputs": [
    {
     "data": {
      "text/html": [
       "<table><tr><th>&nbsp;</th><th>step type</th><th>requirements</th><th>statement</th></tr>\n",
       "<tr><td><a name=\"proveit.numbers.rounding.demonstrations.b49484c4e028ba2daa9d077ac779e1da86f922c50_step0\">0</a></td><td>instantiation</td><td><a href=\"#proveit.numbers.rounding.demonstrations.b49484c4e028ba2daa9d077ac779e1da86f922c50_step1\">1</a>, <a href=\"#proveit.numbers.rounding.demonstrations.b49484c4e028ba2daa9d077ac779e1da86f922c50_step2\">2</a></td><td><span style=\"font-size:20px;\"><a class=\"ProveItLink\" href=\"../b5112bd013f4471b8457b31c05f1a93c49160c130/expr.ipynb\"><img src=\"../b5112bd013f4471b8457b31c05f1a93c49160c130/expr.png\" style=\"display:inline;vertical-align:middle;\" /></a> <a class=\"ProveItLink\" href=\"proof.ipynb\" style=\"text-decoration: none\">&nbsp;&#x22A2;&nbsp;&nbsp;</a><a class=\"ProveItLink\" href=\"../70a22cc18f3ca0d1d3d7bd71b86b14f6b4c7e4090/expr.ipynb\"><img src=\"../70a22cc18f3ca0d1d3d7bd71b86b14f6b4c7e4090/expr.png\" style=\"display:inline;vertical-align:middle;\" /></a></span></td></tr>\n",
       "<tr><td>&nbsp;</td><td colspan=4 style=\"text-align:left\"><span style=\"font-size:20px;\"><a class=\"ProveItLink\" href=\"../../../../../__pv_it/common/a2581dc5df71d9a30bad37de14965fa5fec97a240/expr.ipynb\"><img src=\"../../../../../__pv_it/common/a2581dc5df71d9a30bad37de14965fa5fec97a240/expr.png\" style=\"display:inline;vertical-align:middle;\" /></a> : <a class=\"ProveItLink\" href=\"../e1488eaf9ddea4bb60c1d7acd60ca34214fc94650/expr.ipynb\"><img src=\"../e1488eaf9ddea4bb60c1d7acd60ca34214fc94650/expr.png\" style=\"display:inline;vertical-align:middle;\" /></a></span></td></tr><tr><td><a name=\"proveit.numbers.rounding.demonstrations.b49484c4e028ba2daa9d077ac779e1da86f922c50_step1\">1</a></td><td>theorem</td><td></td><td><span style=\"font-size:20px;\"> <a class=\"ProveItLink\" href=\"../../../_theory_nbs_/proofs/ceil_real_pos_closure/thm_proof.ipynb\" style=\"text-decoration: none\">&nbsp;&#x22A2;&nbsp;&nbsp;</a><a class=\"ProveItLink\" href=\"../../theorems/3ec8d50cc4c836eafe175b2754ded7060d95876c0/expr.ipynb\"><img src=\"../../theorems/3ec8d50cc4c836eafe175b2754ded7060d95876c0/expr.png\" style=\"display:inline;vertical-align:middle;\" /></a></span></td></tr>\n",
       "<tr><td>&nbsp;</td><td colspan=4 style-\"text-align:left\"><a class=\"ProveItLink\" href=\"../../../_theory_nbs_/proofs/ceil_real_pos_closure/thm_proof.ipynb\">proveit.numbers.rounding.ceil_real_pos_closure</a></td></tr><tr><td><a name=\"proveit.numbers.rounding.demonstrations.b49484c4e028ba2daa9d077ac779e1da86f922c50_step2\">2</a></td><td>assumption</td><td></td><td><span style=\"font-size:20px;\"><a class=\"ProveItLink\" href=\"../b5112bd013f4471b8457b31c05f1a93c49160c130/expr.ipynb\"><img src=\"../b5112bd013f4471b8457b31c05f1a93c49160c130/expr.png\" style=\"display:inline;vertical-align:middle;\" /></a> <a class=\"ProveItLink\" href=\"../438b0b2af3ecce62f12e9e6837f9a4a49f6422050/proof.ipynb\" style=\"text-decoration: none\">&nbsp;&#x22A2;&nbsp;&nbsp;</a><a class=\"ProveItLink\" href=\"../b5112bd013f4471b8457b31c05f1a93c49160c130/expr.ipynb\"><img src=\"../b5112bd013f4471b8457b31c05f1a93c49160c130/expr.png\" style=\"display:inline;vertical-align:middle;\" /></a></span></td></tr>\n",
       "</table>"
      ],
      "text/plain": [
       "<proveit._core_.proof._ShowProof at 0x7f9ef8716978>"
      ]
     },
     "execution_count": 1,
     "metadata": {},
     "output_type": "execute_result"
    }
   ],
   "source": [
    "import proveit\n",
    "# Automation is not needed when only showing a stored proof:\n",
    "proveit.defaults.automation = False # This will speed things up.\n",
    "proveit.defaults.inline_pngs = False # Makes files smaller.\n",
    "%show_proof"
   ]
  },
  {
   "cell_type": "code",
   "execution_count": null,
   "metadata": {},
   "outputs": [],
   "source": []
  }
 ],
 "metadata": {
  "kernelspec": {
   "display_name": "Python 3",
   "language": "python",
   "name": "python3"
  },
  "language_info": {
   "codemirror_mode": {
    "name": "ipython",
    "version": 3
   },
   "file_extension": ".py",
   "mimetype": "text/x-python",
   "name": "python",
   "nbconvert_exporter": "python",
   "pygments_lexer": "ipython3",
   "version": "3.7.3"
  }
 },
 "nbformat": 4,
 "nbformat_minor": 1
}