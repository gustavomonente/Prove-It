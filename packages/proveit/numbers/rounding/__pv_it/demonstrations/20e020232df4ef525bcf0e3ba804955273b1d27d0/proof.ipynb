{
 "cells": [
  {
   "cell_type": "markdown",
   "metadata": {},
   "source": [
    "Show the Proof\n",
    "========"
   ]
  },
  {
   "cell_type": "code",
   "execution_count": 1,
   "metadata": {},
   "outputs": [
    {
     "data": {
      "text/html": [
       "<table><tr><th>&nbsp;</th><th>step type</th><th>requirements</th><th>statement</th></tr>\n",
       "<tr><td><a name=\"proveit.numbers.rounding.demonstrations.20e020232df4ef525bcf0e3ba804955273b1d27d0_step0\">0</a></td><td>instantiation</td><td><a href=\"#proveit.numbers.rounding.demonstrations.20e020232df4ef525bcf0e3ba804955273b1d27d0_step1\">1</a>, <a href=\"#proveit.numbers.rounding.demonstrations.20e020232df4ef525bcf0e3ba804955273b1d27d0_step2\">2</a>, <a href=\"#proveit.numbers.rounding.demonstrations.20e020232df4ef525bcf0e3ba804955273b1d27d0_step3\">3</a></td><td><span style=\"font-size:20px;\"><a class=\"ProveItLink\" href=\"../../theorems/37457ae6f2a046fde6b993ab4ab5413aad4b39af0/expr.ipynb\"><img src=\"../../theorems/37457ae6f2a046fde6b993ab4ab5413aad4b39af0/expr.png\" style=\"display:inline;vertical-align:middle;\" /></a>, <a class=\"ProveItLink\" href=\"../0e211c1b90a45e17b96e3a76d1d45f0a3426ba3f0/expr.ipynb\"><img src=\"../0e211c1b90a45e17b96e3a76d1d45f0a3426ba3f0/expr.png\" style=\"display:inline;vertical-align:middle;\" /></a> <a class=\"ProveItLink\" href=\"proof.ipynb\" style=\"text-decoration: none\">&nbsp;&#x22A2;&nbsp;&nbsp;</a><a class=\"ProveItLink\" href=\"../1bc32f7119a8f86109edf3842e1d2853fd5a3d750/expr.ipynb\"><img src=\"../1bc32f7119a8f86109edf3842e1d2853fd5a3d750/expr.png\" style=\"display:inline;vertical-align:middle;\" /></a></span></td></tr>\n",
       "<tr><td>&nbsp;</td><td colspan=4 style=\"text-align:left\"><span style=\"font-size:20px;\"><a class=\"ProveItLink\" href=\"../../../../../__pv_it/common/c06c606ec12678c58933ac85412ecadc2ae28be60/expr.ipynb\"><img src=\"../../../../../__pv_it/common/c06c606ec12678c58933ac85412ecadc2ae28be60/expr.png\" style=\"display:inline;vertical-align:middle;\" /></a> : <a class=\"ProveItLink\" href=\"../../../../../__pv_it/common/a0d9d672aa5e272d907247690c152cc2c6daafb70/expr.ipynb\"><img src=\"../../../../../__pv_it/common/a0d9d672aa5e272d907247690c152cc2c6daafb70/expr.png\" style=\"display:inline;vertical-align:middle;\" /></a>, <a class=\"ProveItLink\" href=\"../../../../../__pv_it/common/195236b98c6c564a75b5dbada74b173bc52d5c3e0/expr.ipynb\"><img src=\"../../../../../__pv_it/common/195236b98c6c564a75b5dbada74b173bc52d5c3e0/expr.png\" style=\"display:inline;vertical-align:middle;\" /></a> : <a class=\"ProveItLink\" href=\"../8ec6798ea6f81e6baa769f589cc6b41ec9c9ff2e0/expr.ipynb\"><img src=\"../8ec6798ea6f81e6baa769f589cc6b41ec9c9ff2e0/expr.png\" style=\"display:inline;vertical-align:middle;\" /></a></span></td></tr><tr><td><a name=\"proveit.numbers.rounding.demonstrations.20e020232df4ef525bcf0e3ba804955273b1d27d0_step1\">1</a></td><td>theorem</td><td></td><td><span style=\"font-size:20px;\"> <a class=\"ProveItLink\" href=\"../../../../addition/_theory_nbs_/proofs/add_int_closure_bin/thm_proof.ipynb\" style=\"text-decoration: none\">&nbsp;&#x22A2;&nbsp;&nbsp;</a><a class=\"ProveItLink\" href=\"../../../../addition/__pv_it/theorems/d24f6e9b38e4c162ac302ea4828ba93df29c3f2c0/expr.ipynb\"><img src=\"../../../../addition/__pv_it/theorems/d24f6e9b38e4c162ac302ea4828ba93df29c3f2c0/expr.png\" style=\"display:inline;vertical-align:middle;\" /></a></span></td></tr>\n",
       "<tr><td>&nbsp;</td><td colspan=4 style-\"text-align:left\"><a class=\"ProveItLink\" href=\"../../../../addition/_theory_nbs_/proofs/add_int_closure_bin/thm_proof.ipynb\">proveit.numbers.addition.add_int_closure_bin</a></td></tr><tr><td><a name=\"proveit.numbers.rounding.demonstrations.20e020232df4ef525bcf0e3ba804955273b1d27d0_step2\">2</a></td><td>assumption</td><td></td><td><span style=\"font-size:20px;\"><a class=\"ProveItLink\" href=\"../../theorems/37457ae6f2a046fde6b993ab4ab5413aad4b39af0/expr.ipynb\"><img src=\"../../theorems/37457ae6f2a046fde6b993ab4ab5413aad4b39af0/expr.png\" style=\"display:inline;vertical-align:middle;\" /></a> <a class=\"ProveItLink\" href=\"../6ed373b01abbb5bb2e2bda9e27421d7ee7bc53f40/proof.ipynb\" style=\"text-decoration: none\">&nbsp;&#x22A2;&nbsp;&nbsp;</a><a class=\"ProveItLink\" href=\"../../theorems/37457ae6f2a046fde6b993ab4ab5413aad4b39af0/expr.ipynb\"><img src=\"../../theorems/37457ae6f2a046fde6b993ab4ab5413aad4b39af0/expr.png\" style=\"display:inline;vertical-align:middle;\" /></a></span></td></tr>\n",
       "<tr><td><a name=\"proveit.numbers.rounding.demonstrations.20e020232df4ef525bcf0e3ba804955273b1d27d0_step3\">3</a></td><td>instantiation</td><td><a href=\"#proveit.numbers.rounding.demonstrations.20e020232df4ef525bcf0e3ba804955273b1d27d0_step4\">4</a>, <a href=\"#proveit.numbers.rounding.demonstrations.20e020232df4ef525bcf0e3ba804955273b1d27d0_step5\">5</a></td><td><span style=\"font-size:20px;\"><a class=\"ProveItLink\" href=\"../0e211c1b90a45e17b96e3a76d1d45f0a3426ba3f0/expr.ipynb\"><img src=\"../0e211c1b90a45e17b96e3a76d1d45f0a3426ba3f0/expr.png\" style=\"display:inline;vertical-align:middle;\" /></a> <a class=\"ProveItLink\" href=\"../d59ed86892cac7a6f7ef30607c0420c2b28314970/proof.ipynb\" style=\"text-decoration: none\">&nbsp;&#x22A2;&nbsp;&nbsp;</a><a class=\"ProveItLink\" href=\"../2c9fc8926acbcd6eb24eca40a9f1b65ca1a22e030/expr.ipynb\"><img src=\"../2c9fc8926acbcd6eb24eca40a9f1b65ca1a22e030/expr.png\" style=\"display:inline;vertical-align:middle;\" /></a></span></td></tr>\n",
       "<tr><td>&nbsp;</td><td colspan=4 style=\"text-align:left\"><span style=\"font-size:20px;\"><a class=\"ProveItLink\" href=\"../../../../../__pv_it/common/c06c606ec12678c58933ac85412ecadc2ae28be60/expr.ipynb\"><img src=\"../../../../../__pv_it/common/c06c606ec12678c58933ac85412ecadc2ae28be60/expr.png\" style=\"display:inline;vertical-align:middle;\" /></a> : <a class=\"ProveItLink\" href=\"../../../../../__pv_it/common/ff7dba4ef0bbe791ab573bf2d9c220a304399ac80/expr.ipynb\"><img src=\"../../../../../__pv_it/common/ff7dba4ef0bbe791ab573bf2d9c220a304399ac80/expr.png\" style=\"display:inline;vertical-align:middle;\" /></a></span></td></tr><tr><td><a name=\"proveit.numbers.rounding.demonstrations.20e020232df4ef525bcf0e3ba804955273b1d27d0_step4\">4</a></td><td>theorem</td><td></td><td><span style=\"font-size:20px;\"> <a class=\"ProveItLink\" href=\"../../../../negation/_theory_nbs_/proofs/int_closure/thm_proof.ipynb\" style=\"text-decoration: none\">&nbsp;&#x22A2;&nbsp;&nbsp;</a><a class=\"ProveItLink\" href=\"../../../../negation/__pv_it/theorems/9367e43179f644499211a0ec67d293ad987444270/expr.ipynb\"><img src=\"../../../../negation/__pv_it/theorems/9367e43179f644499211a0ec67d293ad987444270/expr.png\" style=\"display:inline;vertical-align:middle;\" /></a></span></td></tr>\n",
       "<tr><td>&nbsp;</td><td colspan=4 style-\"text-align:left\"><a class=\"ProveItLink\" href=\"../../../../negation/_theory_nbs_/proofs/int_closure/thm_proof.ipynb\">proveit.numbers.negation.int_closure</a></td></tr><tr><td><a name=\"proveit.numbers.rounding.demonstrations.20e020232df4ef525bcf0e3ba804955273b1d27d0_step5\">5</a></td><td>assumption</td><td></td><td><span style=\"font-size:20px;\"><a class=\"ProveItLink\" href=\"../0e211c1b90a45e17b96e3a76d1d45f0a3426ba3f0/expr.ipynb\"><img src=\"../0e211c1b90a45e17b96e3a76d1d45f0a3426ba3f0/expr.png\" style=\"display:inline;vertical-align:middle;\" /></a> <a class=\"ProveItLink\" href=\"../1614cf797f5aae91a519d534a06c92fb28e3d9be0/proof.ipynb\" style=\"text-decoration: none\">&nbsp;&#x22A2;&nbsp;&nbsp;</a><a class=\"ProveItLink\" href=\"../0e211c1b90a45e17b96e3a76d1d45f0a3426ba3f0/expr.ipynb\"><img src=\"../0e211c1b90a45e17b96e3a76d1d45f0a3426ba3f0/expr.png\" style=\"display:inline;vertical-align:middle;\" /></a></span></td></tr>\n",
       "</table>"
      ],
      "text/plain": [
       "<proveit._core_.proof._ShowProof at 0x7f1cf5ea9c18>"
      ]
     },
     "execution_count": 1,
     "metadata": {},
     "output_type": "execute_result"
    }
   ],
   "source": [
    "import proveit\n",
    "# Automation is not needed when only showing a stored proof:\n",
    "proveit.defaults.automation = False # This will speed things up.\n",
    "proveit.defaults.inline_pngs = False # Makes files smaller.\n",
    "%show_proof"
   ]
  },
  {
   "cell_type": "code",
   "execution_count": null,
   "metadata": {},
   "outputs": [],
   "source": []
  }
 ],
 "metadata": {
  "kernelspec": {
   "display_name": "Python 3",
   "language": "python",
   "name": "python3"
  }
 },
 "nbformat": 4,
 "nbformat_minor": 0
}