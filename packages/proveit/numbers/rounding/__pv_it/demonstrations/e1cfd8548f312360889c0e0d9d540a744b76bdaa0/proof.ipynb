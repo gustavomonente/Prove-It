{
 "cells": [
  {
   "cell_type": "markdown",
   "metadata": {},
   "source": [
    "Show the Proof\n",
    "========"
   ]
  },
  {
   "cell_type": "code",
   "execution_count": 1,
   "metadata": {},
   "outputs": [
    {
     "data": {
      "text/html": [
       "<table><tr><th>&nbsp;</th><th>step type</th><th>requirements</th><th>statement</th></tr>\n",
       "<tr><td><a name=\"proveit.numbers.rounding.demonstrations.e1cfd8548f312360889c0e0d9d540a744b76bdaa0_step0\">0</a></td><td>instantiation</td><td><a href=\"#proveit.numbers.rounding.demonstrations.e1cfd8548f312360889c0e0d9d540a744b76bdaa0_step1\">1</a>, <a href=\"#proveit.numbers.rounding.demonstrations.e1cfd8548f312360889c0e0d9d540a744b76bdaa0_step2\">2</a>, <a href=\"#proveit.numbers.rounding.demonstrations.e1cfd8548f312360889c0e0d9d540a744b76bdaa0_step3\">3</a></td><td><span style=\"font-size:20px;\"><a class=\"ProveItLink\" href=\"../../theorems/14e2630e87af69b9e0a6893a8f8a8fa89d8b1f4a0/expr.ipynb\"><img src=\"../../theorems/14e2630e87af69b9e0a6893a8f8a8fa89d8b1f4a0/expr.png\" style=\"display:inline;vertical-align:middle;\" /></a>, <a class=\"ProveItLink\" href=\"../a848422fb3c9b8244aa1ea3d3536c98438e106ac0/expr.ipynb\"><img src=\"../a848422fb3c9b8244aa1ea3d3536c98438e106ac0/expr.png\" style=\"display:inline;vertical-align:middle;\" /></a> <a class=\"ProveItLink\" href=\"proof.ipynb\" style=\"text-decoration: none\">&nbsp;&#x22A2;&nbsp;&nbsp;</a><a class=\"ProveItLink\" href=\"../c5c3cb316a0860e19fd80fb16573b1033111f6370/expr.ipynb\"><img src=\"../c5c3cb316a0860e19fd80fb16573b1033111f6370/expr.png\" style=\"display:inline;vertical-align:middle;\" /></a></span></td></tr>\n",
       "<tr><td>&nbsp;</td><td colspan=4 style=\"text-align:left\"><span style=\"font-size:20px;\"><a class=\"ProveItLink\" href=\"../../../../../__pv_it/common/66c90e66682f107a881f2d666959f64e2e72ad750/expr.ipynb\"><img src=\"../../../../../__pv_it/common/66c90e66682f107a881f2d666959f64e2e72ad750/expr.png\" style=\"display:inline;vertical-align:middle;\" /></a> : <a class=\"ProveItLink\" href=\"../../../../../__pv_it/common/a2581dc5df71d9a30bad37de14965fa5fec97a240/expr.ipynb\"><img src=\"../../../../../__pv_it/common/a2581dc5df71d9a30bad37de14965fa5fec97a240/expr.png\" style=\"display:inline;vertical-align:middle;\" /></a>, <a class=\"ProveItLink\" href=\"../../../../../__pv_it/common/4a5db8cc5c67969ec864bd3ea598be37cb6f5e550/expr.ipynb\"><img src=\"../../../../../__pv_it/common/4a5db8cc5c67969ec864bd3ea598be37cb6f5e550/expr.png\" style=\"display:inline;vertical-align:middle;\" /></a> : <a class=\"ProveItLink\" href=\"../../../../../__pv_it/common/0f21cbfd5644a1cae6781c1d58354abc2ffbc9000/expr.ipynb\"><img src=\"../../../../../__pv_it/common/0f21cbfd5644a1cae6781c1d58354abc2ffbc9000/expr.png\" style=\"display:inline;vertical-align:middle;\" /></a></span></td></tr><tr><td><a name=\"proveit.numbers.rounding.demonstrations.e1cfd8548f312360889c0e0d9d540a744b76bdaa0_step1\">1</a></td><td>theorem</td><td></td><td><span style=\"font-size:20px;\"> <a class=\"ProveItLink\" href=\"../../../../addition/_theory_nbs_/proofs/add_int_closure_bin/thm_proof.ipynb\" style=\"text-decoration: none\">&nbsp;&#x22A2;&nbsp;&nbsp;</a><a class=\"ProveItLink\" href=\"../../../../addition/__pv_it/theorems/9928a64c3983b352d987dca4d3e4c255538003f50/expr.ipynb\"><img src=\"../../../../addition/__pv_it/theorems/9928a64c3983b352d987dca4d3e4c255538003f50/expr.png\" style=\"display:inline;vertical-align:middle;\" /></a></span></td></tr>\n",
       "<tr><td>&nbsp;</td><td colspan=4 style-\"text-align:left\"><a class=\"ProveItLink\" href=\"../../../../addition/_theory_nbs_/proofs/add_int_closure_bin/thm_proof.ipynb\">proveit.numbers.addition.add_int_closure_bin</a></td></tr><tr><td><a name=\"proveit.numbers.rounding.demonstrations.e1cfd8548f312360889c0e0d9d540a744b76bdaa0_step2\">2</a></td><td>assumption</td><td></td><td><span style=\"font-size:20px;\"><a class=\"ProveItLink\" href=\"../../theorems/14e2630e87af69b9e0a6893a8f8a8fa89d8b1f4a0/expr.ipynb\"><img src=\"../../theorems/14e2630e87af69b9e0a6893a8f8a8fa89d8b1f4a0/expr.png\" style=\"display:inline;vertical-align:middle;\" /></a> <a class=\"ProveItLink\" href=\"../aa61ada71a0f8d2e2fb60af5c2019233ed81629a0/proof.ipynb\" style=\"text-decoration: none\">&nbsp;&#x22A2;&nbsp;&nbsp;</a><a class=\"ProveItLink\" href=\"../../theorems/14e2630e87af69b9e0a6893a8f8a8fa89d8b1f4a0/expr.ipynb\"><img src=\"../../theorems/14e2630e87af69b9e0a6893a8f8a8fa89d8b1f4a0/expr.png\" style=\"display:inline;vertical-align:middle;\" /></a></span></td></tr>\n",
       "<tr><td><a name=\"proveit.numbers.rounding.demonstrations.e1cfd8548f312360889c0e0d9d540a744b76bdaa0_step3\">3</a></td><td>assumption</td><td></td><td><span style=\"font-size:20px;\"><a class=\"ProveItLink\" href=\"../a848422fb3c9b8244aa1ea3d3536c98438e106ac0/expr.ipynb\"><img src=\"../a848422fb3c9b8244aa1ea3d3536c98438e106ac0/expr.png\" style=\"display:inline;vertical-align:middle;\" /></a> <a class=\"ProveItLink\" href=\"../70669489dd3e6467adbebca6fe1005014b1b67160/proof.ipynb\" style=\"text-decoration: none\">&nbsp;&#x22A2;&nbsp;&nbsp;</a><a class=\"ProveItLink\" href=\"../a848422fb3c9b8244aa1ea3d3536c98438e106ac0/expr.ipynb\"><img src=\"../a848422fb3c9b8244aa1ea3d3536c98438e106ac0/expr.png\" style=\"display:inline;vertical-align:middle;\" /></a></span></td></tr>\n",
       "</table>"
      ],
      "text/plain": [
       "<proveit._core_.proof._ShowProof at 0x7f92dae59f28>"
      ]
     },
     "execution_count": 1,
     "metadata": {},
     "output_type": "execute_result"
    }
   ],
   "source": [
    "import proveit\n",
    "# Automation is not needed when only showing a stored proof:\n",
    "proveit.defaults.automation = False # This will speed things up.\n",
    "proveit.defaults.inline_pngs = False # Makes files smaller.\n",
    "%show_proof"
   ]
  },
  {
   "cell_type": "code",
   "execution_count": null,
   "metadata": {},
   "outputs": [],
   "source": []
  }
 ],
 "metadata": {
  "kernelspec": {
   "display_name": "Python 3",
   "language": "python",
   "name": "python3"
  },
  "language_info": {
   "codemirror_mode": {
    "name": "ipython",
    "version": 3
   },
   "file_extension": ".py",
   "mimetype": "text/x-python",
   "name": "python",
   "nbconvert_exporter": "python",
   "pygments_lexer": "ipython3",
   "version": "3.7.3"
  }
 },
 "nbformat": 4,
 "nbformat_minor": 1
}