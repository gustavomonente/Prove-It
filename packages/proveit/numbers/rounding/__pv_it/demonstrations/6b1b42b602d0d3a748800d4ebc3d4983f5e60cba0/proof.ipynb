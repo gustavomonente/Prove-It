{
 "cells": [
  {
   "cell_type": "markdown",
   "metadata": {},
   "source": [
    "Show the Proof\n",
    "========"
   ]
  },
  {
   "cell_type": "code",
   "execution_count": 1,
   "metadata": {},
   "outputs": [
    {
     "data": {
      "text/html": [
       "<table><tr><th>&nbsp;</th><th>step type</th><th>requirements</th><th>statement</th></tr>\n",
       "<tr><td><a name=\"proveit.numbers.rounding.demonstrations.6b1b42b602d0d3a748800d4ebc3d4983f5e60cba0_step0\">0</a></td><td>instantiation</td><td><a href=\"#proveit.numbers.rounding.demonstrations.6b1b42b602d0d3a748800d4ebc3d4983f5e60cba0_step1\">1</a>, <a href=\"#proveit.numbers.rounding.demonstrations.6b1b42b602d0d3a748800d4ebc3d4983f5e60cba0_step2\">2</a></td><td><span style=\"font-size:20px;\"><a class=\"ProveItLink\" href=\"../../axioms/f399694c94d63fe522f8e05f5163f6a5a160a5b80/expr.ipynb\"><img src=\"../../axioms/f399694c94d63fe522f8e05f5163f6a5a160a5b80/expr.png\" style=\"display:inline;vertical-align:middle;\" /></a> <a class=\"ProveItLink\" href=\"proof.ipynb\" style=\"text-decoration: none\">&nbsp;&#x22A2;&nbsp;&nbsp;</a><a class=\"ProveItLink\" href=\"../bfc75bae181d452e58449245ec1663572a70a2c60/expr.ipynb\"><img src=\"../bfc75bae181d452e58449245ec1663572a70a2c60/expr.png\" style=\"display:inline;vertical-align:middle;\" /></a></span></td></tr>\n",
       "<tr><td>&nbsp;</td><td colspan=4 style=\"text-align:left\"><span style=\"font-size:20px;\"><a class=\"ProveItLink\" href=\"../../../../../__pv_it/common/a2581dc5df71d9a30bad37de14965fa5fec97a240/expr.ipynb\"><img src=\"../../../../../__pv_it/common/a2581dc5df71d9a30bad37de14965fa5fec97a240/expr.png\" style=\"display:inline;vertical-align:middle;\" /></a> : <a class=\"ProveItLink\" href=\"../../axioms/7a5e0bad469147729b85543441158feb65dbfdf80/expr.ipynb\"><img src=\"../../axioms/7a5e0bad469147729b85543441158feb65dbfdf80/expr.png\" style=\"display:inline;vertical-align:middle;\" /></a></span></td></tr><tr><td><a name=\"proveit.numbers.rounding.demonstrations.6b1b42b602d0d3a748800d4ebc3d4983f5e60cba0_step1\">1</a></td><td>axiom</td><td></td><td><span style=\"font-size:20px;\"> <a class=\"ProveItLink\" href=\"../../../_theory_nbs_/axioms.ipynb#floor_is_an_int\" style=\"text-decoration: none\">&nbsp;&#x22A2;&nbsp;&nbsp;</a><a class=\"ProveItLink\" href=\"../../axioms/e1ff346d064725e3b4d8223e3381d3ae0e66a3b60/expr.ipynb\"><img src=\"../../axioms/e1ff346d064725e3b4d8223e3381d3ae0e66a3b60/expr.png\" style=\"display:inline;vertical-align:middle;\" /></a></span></td></tr>\n",
       "<tr><td>&nbsp;</td><td colspan=4 style-\"text-align:left\"><a class=\"ProveItLink\" href=\"../../../_theory_nbs_/axioms.ipynb#floor_is_an_int\">proveit.numbers.rounding.floor_is_an_int</a></td></tr><tr><td><a name=\"proveit.numbers.rounding.demonstrations.6b1b42b602d0d3a748800d4ebc3d4983f5e60cba0_step2\">2</a></td><td>instantiation</td><td><a href=\"#proveit.numbers.rounding.demonstrations.6b1b42b602d0d3a748800d4ebc3d4983f5e60cba0_step3\">3</a>, <a href=\"#proveit.numbers.rounding.demonstrations.6b1b42b602d0d3a748800d4ebc3d4983f5e60cba0_step4\">4</a></td><td><span style=\"font-size:20px;\"><a class=\"ProveItLink\" href=\"../../axioms/f399694c94d63fe522f8e05f5163f6a5a160a5b80/expr.ipynb\"><img src=\"../../axioms/f399694c94d63fe522f8e05f5163f6a5a160a5b80/expr.png\" style=\"display:inline;vertical-align:middle;\" /></a> <a class=\"ProveItLink\" href=\"../3b835da112c41a8092a2400be51c2480ae8e765c0/proof.ipynb\" style=\"text-decoration: none\">&nbsp;&#x22A2;&nbsp;&nbsp;</a><a class=\"ProveItLink\" href=\"../834689c830da9a6f71403b6968d6b734671de9ad0/expr.ipynb\"><img src=\"../834689c830da9a6f71403b6968d6b734671de9ad0/expr.png\" style=\"display:inline;vertical-align:middle;\" /></a></span></td></tr>\n",
       "<tr><td>&nbsp;</td><td colspan=4 style=\"text-align:left\"><span style=\"font-size:20px;\"><a class=\"ProveItLink\" href=\"../../../../../__pv_it/common/66c90e66682f107a881f2d666959f64e2e72ad750/expr.ipynb\"><img src=\"../../../../../__pv_it/common/66c90e66682f107a881f2d666959f64e2e72ad750/expr.png\" style=\"display:inline;vertical-align:middle;\" /></a> : <a class=\"ProveItLink\" href=\"../../../../../__pv_it/common/a2581dc5df71d9a30bad37de14965fa5fec97a240/expr.ipynb\"><img src=\"../../../../../__pv_it/common/a2581dc5df71d9a30bad37de14965fa5fec97a240/expr.png\" style=\"display:inline;vertical-align:middle;\" /></a></span></td></tr><tr><td><a name=\"proveit.numbers.rounding.demonstrations.6b1b42b602d0d3a748800d4ebc3d4983f5e60cba0_step3\">3</a></td><td>theorem</td><td></td><td><span style=\"font-size:20px;\"> <a class=\"ProveItLink\" href=\"../../../../negation/_theory_nbs_/proofs/real_closure/thm_proof.ipynb\" style=\"text-decoration: none\">&nbsp;&#x22A2;&nbsp;&nbsp;</a><a class=\"ProveItLink\" href=\"../../../../negation/__pv_it/theorems/654f2544c1a28dda01f1928791b77252d99b88d40/expr.ipynb\"><img src=\"../../../../negation/__pv_it/theorems/654f2544c1a28dda01f1928791b77252d99b88d40/expr.png\" style=\"display:inline;vertical-align:middle;\" /></a></span></td></tr>\n",
       "<tr><td>&nbsp;</td><td colspan=4 style-\"text-align:left\"><a class=\"ProveItLink\" href=\"../../../../negation/_theory_nbs_/proofs/real_closure/thm_proof.ipynb\">proveit.numbers.negation.real_closure</a></td></tr><tr><td><a name=\"proveit.numbers.rounding.demonstrations.6b1b42b602d0d3a748800d4ebc3d4983f5e60cba0_step4\">4</a></td><td>assumption</td><td></td><td><span style=\"font-size:20px;\"><a class=\"ProveItLink\" href=\"../../axioms/f399694c94d63fe522f8e05f5163f6a5a160a5b80/expr.ipynb\"><img src=\"../../axioms/f399694c94d63fe522f8e05f5163f6a5a160a5b80/expr.png\" style=\"display:inline;vertical-align:middle;\" /></a> <a class=\"ProveItLink\" href=\"../ca35d41c8fd1c61b2cff1ffd0bb23ab7772a6d220/proof.ipynb\" style=\"text-decoration: none\">&nbsp;&#x22A2;&nbsp;&nbsp;</a><a class=\"ProveItLink\" href=\"../../axioms/f399694c94d63fe522f8e05f5163f6a5a160a5b80/expr.ipynb\"><img src=\"../../axioms/f399694c94d63fe522f8e05f5163f6a5a160a5b80/expr.png\" style=\"display:inline;vertical-align:middle;\" /></a></span></td></tr>\n",
       "</table>"
      ],
      "text/plain": [
       "<proveit._core_.proof._ShowProof at 0x7fb070240358>"
      ]
     },
     "execution_count": 1,
     "metadata": {},
     "output_type": "execute_result"
    }
   ],
   "source": [
    "import proveit\n",
    "# Automation is not needed when only showing a stored proof:\n",
    "proveit.defaults.automation = False # This will speed things up.\n",
    "proveit.defaults.inline_pngs = False # Makes files smaller.\n",
    "%show_proof"
   ]
  },
  {
   "cell_type": "code",
   "execution_count": null,
   "metadata": {},
   "outputs": [],
   "source": []
  }
 ],
 "metadata": {
  "kernelspec": {
   "display_name": "Python 3",
   "language": "python",
   "name": "python3"
  },
  "language_info": {
   "codemirror_mode": {
    "name": "ipython",
    "version": 3
   },
   "file_extension": ".py",
   "mimetype": "text/x-python",
   "name": "python",
   "nbconvert_exporter": "python",
   "pygments_lexer": "ipython3",
   "version": "3.7.3"
  }
 },
 "nbformat": 4,
 "nbformat_minor": 1
}