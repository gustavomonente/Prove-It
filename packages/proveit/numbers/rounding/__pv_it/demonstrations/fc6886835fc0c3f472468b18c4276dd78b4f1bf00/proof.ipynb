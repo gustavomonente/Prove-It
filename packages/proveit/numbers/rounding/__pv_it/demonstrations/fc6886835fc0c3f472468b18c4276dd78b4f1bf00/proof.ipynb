{
 "cells": [
  {
   "cell_type": "markdown",
   "metadata": {},
   "source": [
    "Show the Proof\n",
    "========"
   ]
  },
  {
   "cell_type": "code",
   "execution_count": 1,
   "metadata": {},
   "outputs": [
    {
     "data": {
      "text/html": [
       "<table><tr><th>&nbsp;</th><th>step type</th><th>requirements</th><th>statement</th></tr>\n",
       "<tr><td><a name=\"proveit.numbers.rounding.demonstrations.fc6886835fc0c3f472468b18c4276dd78b4f1bf00_step0\">0</a></td><td>instantiation</td><td><a href=\"#proveit.numbers.rounding.demonstrations.fc6886835fc0c3f472468b18c4276dd78b4f1bf00_step1\">1</a>, <a href=\"#proveit.numbers.rounding.demonstrations.fc6886835fc0c3f472468b18c4276dd78b4f1bf00_step2\">2</a></td><td><span style=\"font-size:20px;\"><a class=\"ProveItLink\" href=\"../7564d9d3674e02bc4ad87f2ddc01e55fa78632900/expr.ipynb\"><img src=\"../7564d9d3674e02bc4ad87f2ddc01e55fa78632900/expr.png\" style=\"display:inline;vertical-align:middle;\" /></a> <a class=\"ProveItLink\" href=\"proof.ipynb\" style=\"text-decoration: none\">&nbsp;&#x22A2;&nbsp;&nbsp;</a><a class=\"ProveItLink\" href=\"../0be95224839b0315cd2004ba43c2c369d2f9c7640/expr.ipynb\"><img src=\"../0be95224839b0315cd2004ba43c2c369d2f9c7640/expr.png\" style=\"display:inline;vertical-align:middle;\" /></a></span></td></tr>\n",
       "<tr><td>&nbsp;</td><td colspan=4 style=\"text-align:left\"><span style=\"font-size:20px;\"><a class=\"ProveItLink\" href=\"../../../../../__pv_it/common/a2581dc5df71d9a30bad37de14965fa5fec97a240/expr.ipynb\"><img src=\"../../../../../__pv_it/common/a2581dc5df71d9a30bad37de14965fa5fec97a240/expr.png\" style=\"display:inline;vertical-align:middle;\" /></a> : <a class=\"ProveItLink\" href=\"../a3a7a507f6f05e527fc845954fbc1f026c35274c0/expr.ipynb\"><img src=\"../a3a7a507f6f05e527fc845954fbc1f026c35274c0/expr.png\" style=\"display:inline;vertical-align:middle;\" /></a></span></td></tr><tr><td><a name=\"proveit.numbers.rounding.demonstrations.fc6886835fc0c3f472468b18c4276dd78b4f1bf00_step1\">1</a></td><td>theorem</td><td></td><td><span style=\"font-size:20px;\"> <a class=\"ProveItLink\" href=\"../../../_theory_nbs_/proofs/floor_real_pos_closure/thm_proof.ipynb\" style=\"text-decoration: none\">&nbsp;&#x22A2;&nbsp;&nbsp;</a><a class=\"ProveItLink\" href=\"../../theorems/2e74784facd967e499b3e06ad739ed10b73aa0730/expr.ipynb\"><img src=\"../../theorems/2e74784facd967e499b3e06ad739ed10b73aa0730/expr.png\" style=\"display:inline;vertical-align:middle;\" /></a></span></td></tr>\n",
       "<tr><td>&nbsp;</td><td colspan=4 style-\"text-align:left\"><a class=\"ProveItLink\" href=\"../../../_theory_nbs_/proofs/floor_real_pos_closure/thm_proof.ipynb\">proveit.numbers.rounding.floor_real_pos_closure</a></td></tr><tr><td><a name=\"proveit.numbers.rounding.demonstrations.fc6886835fc0c3f472468b18c4276dd78b4f1bf00_step2\">2</a></td><td>assumption</td><td></td><td><span style=\"font-size:20px;\"><a class=\"ProveItLink\" href=\"../7564d9d3674e02bc4ad87f2ddc01e55fa78632900/expr.ipynb\"><img src=\"../7564d9d3674e02bc4ad87f2ddc01e55fa78632900/expr.png\" style=\"display:inline;vertical-align:middle;\" /></a> <a class=\"ProveItLink\" href=\"../db43aac69f89b7680ff405602515a7b87d143b2c0/proof.ipynb\" style=\"text-decoration: none\">&nbsp;&#x22A2;&nbsp;&nbsp;</a><a class=\"ProveItLink\" href=\"../7564d9d3674e02bc4ad87f2ddc01e55fa78632900/expr.ipynb\"><img src=\"../7564d9d3674e02bc4ad87f2ddc01e55fa78632900/expr.png\" style=\"display:inline;vertical-align:middle;\" /></a></span></td></tr>\n",
       "</table>"
      ],
      "text/plain": [
       "<proveit._core_.proof._ShowProof at 0x7f57a108e320>"
      ]
     },
     "execution_count": 1,
     "metadata": {},
     "output_type": "execute_result"
    }
   ],
   "source": [
    "import proveit\n",
    "# Automation is not needed when only showing a stored proof:\n",
    "proveit.defaults.automation = False # This will speed things up.\n",
    "proveit.defaults.inline_pngs = False # Makes files smaller.\n",
    "%show_proof"
   ]
  },
  {
   "cell_type": "code",
   "execution_count": null,
   "metadata": {},
   "outputs": [],
   "source": []
  }
 ],
 "metadata": {
  "kernelspec": {
   "display_name": "Python 3",
   "language": "python",
   "name": "python3"
  },
  "language_info": {
   "codemirror_mode": {
    "name": "ipython",
    "version": 3
   },
   "file_extension": ".py",
   "mimetype": "text/x-python",
   "name": "python",
   "nbconvert_exporter": "python",
   "pygments_lexer": "ipython3",
   "version": "3.7.3"
  }
 },
 "nbformat": 4,
 "nbformat_minor": 1
}