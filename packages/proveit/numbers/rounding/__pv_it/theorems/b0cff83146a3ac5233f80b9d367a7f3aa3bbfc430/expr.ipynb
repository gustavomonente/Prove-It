{
 "cells": [
  {
   "cell_type": "markdown",
   "metadata": {},
   "source": [
    "Expression of type <a class=\"ProveItLink\" href=\"../../../../../../../doc/html/api/proveit.ExprTuple.html\">ExprTuple</a>\n",
    "=======================\n",
    "# from the theory of <a class=\"ProveItLink\" href=\"../../../_theory_nbs_/theory.ipynb\">proveit.numbers.rounding</a>"
   ]
  },
  {
   "cell_type": "code",
   "execution_count": 1,
   "metadata": {},
   "outputs": [],
   "source": [
    "import proveit\n",
    "# Automation is not needed when building an expression:\n",
    "proveit.defaults.automation = False # This will speed things up.\n",
    "proveit.defaults.inline_pngs = False # Makes files smaller.\n",
    "%load_expr # Load the stored expression as 'stored_expr'\n",
    "# import Expression classes needed to build the expression\n",
    "from proveit import Conditional, ExprTuple, Lambda, n, x\n",
    "from proveit.logic import Equals, InSet\n",
    "from proveit.numbers import Add, Floor, Integer"
   ]
  },
  {
   "cell_type": "code",
   "execution_count": 2,
   "metadata": {},
   "outputs": [
    {
     "data": {
      "text/html": [
       "<strong id=\"expr\">expr:</strong> <a class=\"ProveItLink\" href=\"expr.ipynb\"><img src=\"expr.png\" style=\"display:inline;vertical-align:middle;\" /></a><br>"
      ],
      "text/plain": [
       "expr: (n -> {floor(x + n) = (floor(x) + n) if n in Integer.)"
      ]
     },
     "execution_count": 2,
     "metadata": {},
     "output_type": "execute_result"
    }
   ],
   "source": [
    "# build up the expression from sub-expressions\n",
    "expr = ExprTuple(Lambda(n, Conditional(Equals(Floor(Add(x, n)), Add(Floor(x), n)), InSet(n, Integer))))"
   ]
  },
  {
   "cell_type": "code",
   "execution_count": 3,
   "metadata": {},
   "outputs": [
    {
     "name": "stdout",
     "output_type": "stream",
     "text": [
      "Passed sanity check: expr matches stored_expr\n"
     ]
    }
   ],
   "source": [
    "# check that the built expression is the same as the stored expression\n",
    "assert expr == stored_expr\n",
    "assert expr._style_id == stored_expr._style_id\n",
    "print(\"Passed sanity check: expr matches stored_expr\")"
   ]
  },
  {
   "cell_type": "code",
   "execution_count": 4,
   "metadata": {},
   "outputs": [
    {
     "name": "stdout",
     "output_type": "stream",
     "text": [
      "\\left(n \\mapsto \\left\\{\\lfloor x + n\\rfloor = \\left(\\lfloor x\\rfloor + n\\right) \\textrm{ if } n \\in \\mathbb{Z}\\right..\\right)\n"
     ]
    }
   ],
   "source": [
    "# Show the LaTeX representation of the expression for convenience if you need it.\n",
    "print(expr.latex())"
   ]
  },
  {
   "cell_type": "code",
   "execution_count": 5,
   "metadata": {},
   "outputs": [
    {
     "data": {
      "text/html": [
       "no style options"
      ],
      "text/plain": [
       "no style options"
      ]
     },
     "execution_count": 5,
     "metadata": {},
     "output_type": "execute_result"
    }
   ],
   "source": [
    "expr.style_options()"
   ]
  },
  {
   "cell_type": "code",
   "execution_count": 6,
   "metadata": {},
   "outputs": [
    {
     "data": {
      "text/html": [
       "<table><tr><th>&nbsp;</th><th>core type</th><th>sub-expressions</th><th>expression</th></tr>\n",
       "<tr><td>0</td><td>ExprTuple</td><td>1</td><td><a class=\"ProveItLink\" href=\"expr.ipynb\"><img src=\"expr.png\" style=\"display:inline;vertical-align:middle;\" /></a></td></tr>\n",
       "<tr><td>1</td><td>Lambda</td><td>parameter:&nbsp;20<br>body:&nbsp;2<br></td><td><a class=\"ProveItLink\" href=\"../1e0ecdce1f1f9aee728f5fcc4cf57fc9540100600/expr.ipynb\"><img src=\"../1e0ecdce1f1f9aee728f5fcc4cf57fc9540100600/expr.png\" style=\"display:inline;vertical-align:middle;\" /></a></td></tr>\n",
       "<tr><td>2</td><td>Conditional</td><td>value:&nbsp;3<br>condition:&nbsp;4<br></td><td><a class=\"ProveItLink\" href=\"../b9866a57fd985a1df3171dbde4e4c954240760f30/expr.ipynb\"><img src=\"../b9866a57fd985a1df3171dbde4e4c954240760f30/expr.png\" style=\"display:inline;vertical-align:middle;\" /></a></td></tr>\n",
       "<tr><td>3</td><td>Operation</td><td>operator:&nbsp;5<br>operands:&nbsp;6<br></td><td><a class=\"ProveItLink\" href=\"../d5593c7380b03e264ac697c6001e883aa3aa88ca0/expr.ipynb\"><img src=\"../d5593c7380b03e264ac697c6001e883aa3aa88ca0/expr.png\" style=\"display:inline;vertical-align:middle;\" /></a></td></tr>\n",
       "<tr><td>4</td><td>Operation</td><td>operator:&nbsp;7<br>operands:&nbsp;8<br></td><td><a class=\"ProveItLink\" href=\"../8681f6bef09e58702feb61386a4973505f517b150/expr.ipynb\"><img src=\"../8681f6bef09e58702feb61386a4973505f517b150/expr.png\" style=\"display:inline;vertical-align:middle;\" /></a></td></tr>\n",
       "<tr><td>5</td><td>Literal</td><td></td><td><a class=\"ProveItLink\" href=\"../../../../../logic/equality/__pv_it/common/731dd3955b346c1320ed5c0ba7a618bcda61457d0/expr.ipynb\"><img src=\"../../../../../logic/equality/__pv_it/common/731dd3955b346c1320ed5c0ba7a618bcda61457d0/expr.png\" style=\"display:inline;vertical-align:middle;\" /></a></td></tr>\n",
       "<tr><td>6</td><td>ExprTuple</td><td>9, 10</td><td><a class=\"ProveItLink\" href=\"../e2375a5998de9f0e533c15d3d6c6636a93022e440/expr.ipynb\"><img src=\"../e2375a5998de9f0e533c15d3d6c6636a93022e440/expr.png\" style=\"display:inline;vertical-align:middle;\" /></a></td></tr>\n",
       "<tr><td>7</td><td>Literal</td><td></td><td><a class=\"ProveItLink\" href=\"../../../../../logic/sets/membership/__pv_it/common/7171deca84f71f47a6ec7696972d1632274a12880/expr.ipynb\"><img src=\"../../../../../logic/sets/membership/__pv_it/common/7171deca84f71f47a6ec7696972d1632274a12880/expr.png\" style=\"display:inline;vertical-align:middle;\" /></a></td></tr>\n",
       "<tr><td>8</td><td>ExprTuple</td><td>20, 11</td><td><a class=\"ProveItLink\" href=\"../2a48002e3f2706af7817da6c72dfa490d476ce740/expr.ipynb\"><img src=\"../2a48002e3f2706af7817da6c72dfa490d476ce740/expr.png\" style=\"display:inline;vertical-align:middle;\" /></a></td></tr>\n",
       "<tr><td>9</td><td>Operation</td><td>operator:&nbsp;18<br>operand:&nbsp;14<br></td><td><a class=\"ProveItLink\" href=\"../0516097774806c0a540fc1400ae808ddcca9b5fa0/expr.ipynb\"><img src=\"../0516097774806c0a540fc1400ae808ddcca9b5fa0/expr.png\" style=\"display:inline;vertical-align:middle;\" /></a></td></tr>\n",
       "<tr><td>10</td><td>Operation</td><td>operator:&nbsp;16<br>operands:&nbsp;13<br></td><td><a class=\"ProveItLink\" href=\"../dbe0686b25f6e3b2ea32b044ba272828e973936b0/expr.ipynb\"><img src=\"../dbe0686b25f6e3b2ea32b044ba272828e973936b0/expr.png\" style=\"display:inline;vertical-align:middle;\" /></a></td></tr>\n",
       "<tr><td>11</td><td>Literal</td><td></td><td><a class=\"ProveItLink\" href=\"../../../../number_sets/integers/__pv_it/common/21b035fc94b1f20bfb5161d2c7bd6eb2042cc5670/expr.ipynb\"><img src=\"../../../../number_sets/integers/__pv_it/common/21b035fc94b1f20bfb5161d2c7bd6eb2042cc5670/expr.png\" style=\"display:inline;vertical-align:middle;\" /></a></td></tr>\n",
       "<tr><td>12</td><td>ExprTuple</td><td>14</td><td><a class=\"ProveItLink\" href=\"../c5f2da87a1e6296552f6631f9f88b417f8e426000/expr.ipynb\"><img src=\"../c5f2da87a1e6296552f6631f9f88b417f8e426000/expr.png\" style=\"display:inline;vertical-align:middle;\" /></a></td></tr>\n",
       "<tr><td>13</td><td>ExprTuple</td><td>15, 20</td><td><a class=\"ProveItLink\" href=\"../136286d47e113651c7cd5c737efd0bd81e79b6fa0/expr.ipynb\"><img src=\"../136286d47e113651c7cd5c737efd0bd81e79b6fa0/expr.png\" style=\"display:inline;vertical-align:middle;\" /></a></td></tr>\n",
       "<tr><td>14</td><td>Operation</td><td>operator:&nbsp;16<br>operands:&nbsp;17<br></td><td><a class=\"ProveItLink\" href=\"../3262c57907462786720f43d56f4ebf6f4b93d99d0/expr.ipynb\"><img src=\"../3262c57907462786720f43d56f4ebf6f4b93d99d0/expr.png\" style=\"display:inline;vertical-align:middle;\" /></a></td></tr>\n",
       "<tr><td>15</td><td>Operation</td><td>operator:&nbsp;18<br>operand:&nbsp;21<br></td><td><a class=\"ProveItLink\" href=\"../1cf51720796a69540ef4f6b4e45fbe6d076c69450/expr.ipynb\"><img src=\"../1cf51720796a69540ef4f6b4e45fbe6d076c69450/expr.png\" style=\"display:inline;vertical-align:middle;\" /></a></td></tr>\n",
       "<tr><td>16</td><td>Literal</td><td></td><td><a class=\"ProveItLink\" href=\"../../../../addition/__pv_it/common/1f38fe5cce441387feef296e2c0a2eac260bb4f30/expr.ipynb\"><img src=\"../../../../addition/__pv_it/common/1f38fe5cce441387feef296e2c0a2eac260bb4f30/expr.png\" style=\"display:inline;vertical-align:middle;\" /></a></td></tr>\n",
       "<tr><td>17</td><td>ExprTuple</td><td>21, 20</td><td><a class=\"ProveItLink\" href=\"../fd494f0eb41e4fc758843b09a8560840204687700/expr.ipynb\"><img src=\"../fd494f0eb41e4fc758843b09a8560840204687700/expr.png\" style=\"display:inline;vertical-align:middle;\" /></a></td></tr>\n",
       "<tr><td>18</td><td>Literal</td><td></td><td><a class=\"ProveItLink\" href=\"../../common/c53cd1b181493a0b5c6c20e07142c9892d30dd120/expr.ipynb\"><img src=\"../../common/c53cd1b181493a0b5c6c20e07142c9892d30dd120/expr.png\" style=\"display:inline;vertical-align:middle;\" /></a></td></tr>\n",
       "<tr><td>19</td><td>ExprTuple</td><td>21</td><td><a class=\"ProveItLink\" href=\"../../../../../__pv_it/common/a49c8f25f899a16b1dbcf2257505d5464a9a7bb50/expr.ipynb\"><img src=\"../../../../../__pv_it/common/a49c8f25f899a16b1dbcf2257505d5464a9a7bb50/expr.png\" style=\"display:inline;vertical-align:middle;\" /></a></td></tr>\n",
       "<tr><td>20</td><td>Variable</td><td></td><td><a class=\"ProveItLink\" href=\"../../../../../__pv_it/common/6165c9bb82ce3c7097cdba4440a1aeeb6eaca8a40/expr.ipynb\"><img src=\"../../../../../__pv_it/common/6165c9bb82ce3c7097cdba4440a1aeeb6eaca8a40/expr.png\" style=\"display:inline;vertical-align:middle;\" /></a></td></tr>\n",
       "<tr><td>21</td><td>Variable</td><td></td><td><a class=\"ProveItLink\" href=\"../../../../../__pv_it/common/a2581dc5df71d9a30bad37de14965fa5fec97a240/expr.ipynb\"><img src=\"../../../../../__pv_it/common/a2581dc5df71d9a30bad37de14965fa5fec97a240/expr.png\" style=\"display:inline;vertical-align:middle;\" /></a></td></tr>\n",
       "</table>\n"
      ],
      "text/plain": [
       "0. (n -> {floor(x + n) = (floor(x) + n) if n in Integer.)\n",
       "   core type: ExprTuple\n",
       "   sub-expressions: 1\n",
       "1. n -> {floor(x + n) = (floor(x) + n) if n in Integer.\n",
       "   core type: Lambda\n",
       "   parameter: 20\n",
       "   body: 2\n",
       "2. {floor(x + n) = (floor(x) + n) if n in Integer.\n",
       "   core type: Conditional\n",
       "   value: 3\n",
       "   condition: 4\n",
       "3. floor(x + n) = (floor(x) + n)\n",
       "   core type: Operation\n",
       "   operator: 5\n",
       "   operands: 6\n",
       "4. n in Integer\n",
       "   core type: Operation\n",
       "   operator: 7\n",
       "   operands: 8\n",
       "5. =\n",
       "   core type: Literal\n",
       "   sub-expressions: \n",
       "6. (floor(x + n), floor(x) + n)\n",
       "   core type: ExprTuple\n",
       "   sub-expressions: 9, 10\n",
       "7. in\n",
       "   core type: Literal\n",
       "   sub-expressions: \n",
       "8. (n, Integer)\n",
       "   core type: ExprTuple\n",
       "   sub-expressions: 20, 11\n",
       "9. floor(x + n)\n",
       "   core type: Operation\n",
       "   operator: 18\n",
       "   operand: 14\n",
       "10. floor(x) + n\n",
       "    core type: Operation\n",
       "    operator: 16\n",
       "    operands: 13\n",
       "11. Integer\n",
       "    core type: Literal\n",
       "    sub-expressions: \n",
       "12. (x + n)\n",
       "    core type: ExprTuple\n",
       "    sub-expressions: 14\n",
       "13. (floor(x), n)\n",
       "    core type: ExprTuple\n",
       "    sub-expressions: 15, 20\n",
       "14. x + n\n",
       "    core type: Operation\n",
       "    operator: 16\n",
       "    operands: 17\n",
       "15. floor(x)\n",
       "    core type: Operation\n",
       "    operator: 18\n",
       "    operand: 21\n",
       "16. +\n",
       "    core type: Literal\n",
       "    sub-expressions: \n",
       "17. (x, n)\n",
       "    core type: ExprTuple\n",
       "    sub-expressions: 21, 20\n",
       "18. floor\n",
       "    core type: Literal\n",
       "    sub-expressions: \n",
       "19. (x)\n",
       "    core type: ExprTuple\n",
       "    sub-expressions: 21\n",
       "20. n\n",
       "    core type: Variable\n",
       "    sub-expressions: \n",
       "21. x\n",
       "    core type: Variable\n",
       "    sub-expressions: "
      ]
     },
     "execution_count": 6,
     "metadata": {},
     "output_type": "execute_result"
    }
   ],
   "source": [
    "# display the expression information\n",
    "expr.expr_info()"
   ]
  },
  {
   "cell_type": "code",
   "execution_count": null,
   "metadata": {},
   "outputs": [],
   "source": []
  }
 ],
 "metadata": {
  "kernelspec": {
   "display_name": "Python 3",
   "language": "python",
   "name": "python3"
  }
 },
 "nbformat": 4,
 "nbformat_minor": 0
}