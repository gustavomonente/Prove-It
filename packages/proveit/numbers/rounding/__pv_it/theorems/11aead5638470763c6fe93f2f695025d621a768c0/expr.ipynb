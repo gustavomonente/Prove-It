{
 "cells": [
  {
   "cell_type": "markdown",
   "metadata": {},
   "source": [
    "Expression of type <a class=\"ProveItLink\" href=\"../../../../../../../doc/html/api/proveit.ExprTuple.html\">ExprTuple</a>\n",
    "=======================\n",
    "# from the theory of <a class=\"ProveItLink\" href=\"../../../_theory_nbs_/theory.ipynb\">proveit.numbers.rounding</a>"
   ]
  },
  {
   "cell_type": "code",
   "execution_count": 1,
   "metadata": {},
   "outputs": [],
   "source": [
    "import proveit\n",
    "# Automation is not needed when building an expression:\n",
    "proveit.defaults.automation = False # This will speed things up.\n",
    "proveit.defaults.inline_pngs = False # Makes files smaller.\n",
    "%load_expr # Load the stored expression as 'stored_expr'\n",
    "# import Expression classes needed to build the expression\n",
    "from proveit import Conditional, ExprTuple, Lambda, n, x\n",
    "from proveit.logic import Equals, Forall, InSet\n",
    "from proveit.numbers import Add, Integer, Real, Round"
   ]
  },
  {
   "cell_type": "code",
   "execution_count": 2,
   "metadata": {},
   "outputs": [
    {
     "data": {
      "text/html": [
       "<strong id=\"expr\">expr:</strong> <a class=\"ProveItLink\" href=\"expr.ipynb\"><img src=\"expr.png\" style=\"display:inline;vertical-align:middle;\" /></a><br>"
      ],
      "text/plain": [
       "expr: (x -> {forall_{n in Integer} (round(x + n) = (round(x) + n)) if x in Real.)"
      ]
     },
     "execution_count": 2,
     "metadata": {},
     "output_type": "execute_result"
    }
   ],
   "source": [
    "# build up the expression from sub-expressions\n",
    "expr = ExprTuple(Lambda(x, Conditional(Forall([n], Equals(Round(Add(x, n)), Add(Round(x), n)), domains = [Integer]), InSet(x, Real))))"
   ]
  },
  {
   "cell_type": "code",
   "execution_count": 3,
   "metadata": {},
   "outputs": [
    {
     "name": "stdout",
     "output_type": "stream",
     "text": [
      "Passed sanity check: expr matches stored_expr\n"
     ]
    }
   ],
   "source": [
    "# check that the built expression is the same as the stored expression\n",
    "assert expr == stored_expr\n",
    "assert expr._style_id == stored_expr._style_id\n",
    "print(\"Passed sanity check: expr matches stored_expr\")"
   ]
  },
  {
   "cell_type": "code",
   "execution_count": 4,
   "metadata": {},
   "outputs": [
    {
     "name": "stdout",
     "output_type": "stream",
     "text": [
      "\\left(x \\mapsto \\left\\{\\forall_{n \\in \\mathbb{Z}}~\\left(round(x + n) = \\left(round(x) + n\\right)\\right) \\textrm{ if } x \\in \\mathbb{R}\\right..\\right)\n"
     ]
    }
   ],
   "source": [
    "# Show the LaTeX representation of the expression for convenience if you need it.\n",
    "print(expr.latex())"
   ]
  },
  {
   "cell_type": "code",
   "execution_count": 5,
   "metadata": {},
   "outputs": [
    {
     "data": {
      "text/html": [
       "no style options"
      ],
      "text/plain": [
       "no style options"
      ]
     },
     "execution_count": 5,
     "metadata": {},
     "output_type": "execute_result"
    }
   ],
   "source": [
    "expr.style_options()"
   ]
  },
  {
   "cell_type": "code",
   "execution_count": 6,
   "metadata": {},
   "outputs": [
    {
     "data": {
      "text/html": [
       "<table><tr><th>&nbsp;</th><th>core type</th><th>sub-expressions</th><th>expression</th></tr>\n",
       "<tr><td>0</td><td>ExprTuple</td><td>1</td><td><a class=\"ProveItLink\" href=\"expr.ipynb\"><img src=\"expr.png\" style=\"display:inline;vertical-align:middle;\" /></a></td></tr>\n",
       "<tr><td>1</td><td>Lambda</td><td>parameter:&nbsp;29<br>body:&nbsp;2<br></td><td><a class=\"ProveItLink\" href=\"../375f392043dc6bfbc9e01aa8368bcfd57d35d4240/expr.ipynb\"><img src=\"../375f392043dc6bfbc9e01aa8368bcfd57d35d4240/expr.png\" style=\"display:inline;vertical-align:middle;\" /></a></td></tr>\n",
       "<tr><td>2</td><td>Conditional</td><td>value:&nbsp;3<br>condition:&nbsp;4<br></td><td><a class=\"ProveItLink\" href=\"../393952e0ad264bf70f9bae237bfbc504fc23581b0/expr.ipynb\"><img src=\"../393952e0ad264bf70f9bae237bfbc504fc23581b0/expr.png\" style=\"display:inline;vertical-align:middle;\" /></a></td></tr>\n",
       "<tr><td>3</td><td>Operation</td><td>operator:&nbsp;5<br>operand:&nbsp;8<br></td><td><a class=\"ProveItLink\" href=\"../6d29b2611d7104b296ad47dcc76c6a0e7c6d5c8c0/expr.ipynb\"><img src=\"../6d29b2611d7104b296ad47dcc76c6a0e7c6d5c8c0/expr.png\" style=\"display:inline;vertical-align:middle;\" /></a></td></tr>\n",
       "<tr><td>4</td><td>Operation</td><td>operator:&nbsp;15<br>operands:&nbsp;7<br></td><td><a class=\"ProveItLink\" href=\"../f399694c94d63fe522f8e05f5163f6a5a160a5b80/expr.ipynb\"><img src=\"../f399694c94d63fe522f8e05f5163f6a5a160a5b80/expr.png\" style=\"display:inline;vertical-align:middle;\" /></a></td></tr>\n",
       "<tr><td>5</td><td>Literal</td><td></td><td><a class=\"ProveItLink\" href=\"../../../../../logic/booleans/quantification/universality/__pv_it/common/684d35ba98fcbf8ca5011f865e530a51e77730630/expr.ipynb\"><img src=\"../../../../../logic/booleans/quantification/universality/__pv_it/common/684d35ba98fcbf8ca5011f865e530a51e77730630/expr.png\" style=\"display:inline;vertical-align:middle;\" /></a></td></tr>\n",
       "<tr><td>6</td><td>ExprTuple</td><td>8</td><td><a class=\"ProveItLink\" href=\"../496c5555c45b3c3094d150fba411d7fa72fccd4e0/expr.ipynb\"><img src=\"../496c5555c45b3c3094d150fba411d7fa72fccd4e0/expr.png\" style=\"display:inline;vertical-align:middle;\" /></a></td></tr>\n",
       "<tr><td>7</td><td>ExprTuple</td><td>29, 9</td><td><a class=\"ProveItLink\" href=\"../55bef9982c7867f2ba0ff0e7b2f4477175e2b1970/expr.ipynb\"><img src=\"../55bef9982c7867f2ba0ff0e7b2f4477175e2b1970/expr.png\" style=\"display:inline;vertical-align:middle;\" /></a></td></tr>\n",
       "<tr><td>8</td><td>Lambda</td><td>parameter:&nbsp;28<br>body:&nbsp;10<br></td><td><a class=\"ProveItLink\" href=\"../d4a9e1ae790d63ecba3203ee5cc705427d69393f0/expr.ipynb\"><img src=\"../d4a9e1ae790d63ecba3203ee5cc705427d69393f0/expr.png\" style=\"display:inline;vertical-align:middle;\" /></a></td></tr>\n",
       "<tr><td>9</td><td>Literal</td><td></td><td><a class=\"ProveItLink\" href=\"../../../../number_sets/real_numbers/__pv_it/common/3eaf53c11933bb30b35e82c24807c695de530cf10/expr.ipynb\"><img src=\"../../../../number_sets/real_numbers/__pv_it/common/3eaf53c11933bb30b35e82c24807c695de530cf10/expr.png\" style=\"display:inline;vertical-align:middle;\" /></a></td></tr>\n",
       "<tr><td>10</td><td>Conditional</td><td>value:&nbsp;11<br>condition:&nbsp;12<br></td><td><a class=\"ProveItLink\" href=\"../20a49a5666e4d4dcd2fb159fa5c762a7ed3dc7310/expr.ipynb\"><img src=\"../20a49a5666e4d4dcd2fb159fa5c762a7ed3dc7310/expr.png\" style=\"display:inline;vertical-align:middle;\" /></a></td></tr>\n",
       "<tr><td>11</td><td>Operation</td><td>operator:&nbsp;13<br>operands:&nbsp;14<br></td><td><a class=\"ProveItLink\" href=\"../daf502570ec129bb4b3fc130212affcea9b08e710/expr.ipynb\"><img src=\"../daf502570ec129bb4b3fc130212affcea9b08e710/expr.png\" style=\"display:inline;vertical-align:middle;\" /></a></td></tr>\n",
       "<tr><td>12</td><td>Operation</td><td>operator:&nbsp;15<br>operands:&nbsp;16<br></td><td><a class=\"ProveItLink\" href=\"../8681f6bef09e58702feb61386a4973505f517b150/expr.ipynb\"><img src=\"../8681f6bef09e58702feb61386a4973505f517b150/expr.png\" style=\"display:inline;vertical-align:middle;\" /></a></td></tr>\n",
       "<tr><td>13</td><td>Literal</td><td></td><td><a class=\"ProveItLink\" href=\"../../../../../logic/equality/__pv_it/common/731dd3955b346c1320ed5c0ba7a618bcda61457d0/expr.ipynb\"><img src=\"../../../../../logic/equality/__pv_it/common/731dd3955b346c1320ed5c0ba7a618bcda61457d0/expr.png\" style=\"display:inline;vertical-align:middle;\" /></a></td></tr>\n",
       "<tr><td>14</td><td>ExprTuple</td><td>17, 18</td><td><a class=\"ProveItLink\" href=\"../18107ac8b1abe1d94efae0bfff2be88cb4c3d85a0/expr.ipynb\"><img src=\"../18107ac8b1abe1d94efae0bfff2be88cb4c3d85a0/expr.png\" style=\"display:inline;vertical-align:middle;\" /></a></td></tr>\n",
       "<tr><td>15</td><td>Literal</td><td></td><td><a class=\"ProveItLink\" href=\"../../../../../logic/sets/membership/__pv_it/common/7171deca84f71f47a6ec7696972d1632274a12880/expr.ipynb\"><img src=\"../../../../../logic/sets/membership/__pv_it/common/7171deca84f71f47a6ec7696972d1632274a12880/expr.png\" style=\"display:inline;vertical-align:middle;\" /></a></td></tr>\n",
       "<tr><td>16</td><td>ExprTuple</td><td>28, 19</td><td><a class=\"ProveItLink\" href=\"../2a48002e3f2706af7817da6c72dfa490d476ce740/expr.ipynb\"><img src=\"../2a48002e3f2706af7817da6c72dfa490d476ce740/expr.png\" style=\"display:inline;vertical-align:middle;\" /></a></td></tr>\n",
       "<tr><td>17</td><td>Operation</td><td>operator:&nbsp;26<br>operand:&nbsp;22<br></td><td><a class=\"ProveItLink\" href=\"../7ef0dd48aafa22099bc6c8de8a9082de24acfeed0/expr.ipynb\"><img src=\"../7ef0dd48aafa22099bc6c8de8a9082de24acfeed0/expr.png\" style=\"display:inline;vertical-align:middle;\" /></a></td></tr>\n",
       "<tr><td>18</td><td>Operation</td><td>operator:&nbsp;24<br>operands:&nbsp;21<br></td><td><a class=\"ProveItLink\" href=\"../4a6cb0090fbe9a39cf78e5607919212eb35e5a230/expr.ipynb\"><img src=\"../4a6cb0090fbe9a39cf78e5607919212eb35e5a230/expr.png\" style=\"display:inline;vertical-align:middle;\" /></a></td></tr>\n",
       "<tr><td>19</td><td>Literal</td><td></td><td><a class=\"ProveItLink\" href=\"../../../../number_sets/integers/__pv_it/common/21b035fc94b1f20bfb5161d2c7bd6eb2042cc5670/expr.ipynb\"><img src=\"../../../../number_sets/integers/__pv_it/common/21b035fc94b1f20bfb5161d2c7bd6eb2042cc5670/expr.png\" style=\"display:inline;vertical-align:middle;\" /></a></td></tr>\n",
       "<tr><td>20</td><td>ExprTuple</td><td>22</td><td><a class=\"ProveItLink\" href=\"../c5f2da87a1e6296552f6631f9f88b417f8e426000/expr.ipynb\"><img src=\"../c5f2da87a1e6296552f6631f9f88b417f8e426000/expr.png\" style=\"display:inline;vertical-align:middle;\" /></a></td></tr>\n",
       "<tr><td>21</td><td>ExprTuple</td><td>23, 28</td><td><a class=\"ProveItLink\" href=\"../970290ea78cc045cb340deb3bf61f48c3bafb4a40/expr.ipynb\"><img src=\"../970290ea78cc045cb340deb3bf61f48c3bafb4a40/expr.png\" style=\"display:inline;vertical-align:middle;\" /></a></td></tr>\n",
       "<tr><td>22</td><td>Operation</td><td>operator:&nbsp;24<br>operands:&nbsp;25<br></td><td><a class=\"ProveItLink\" href=\"../3262c57907462786720f43d56f4ebf6f4b93d99d0/expr.ipynb\"><img src=\"../3262c57907462786720f43d56f4ebf6f4b93d99d0/expr.png\" style=\"display:inline;vertical-align:middle;\" /></a></td></tr>\n",
       "<tr><td>23</td><td>Operation</td><td>operator:&nbsp;26<br>operand:&nbsp;29<br></td><td><a class=\"ProveItLink\" href=\"../4470ced387475eb15c135df1752252474da056d30/expr.ipynb\"><img src=\"../4470ced387475eb15c135df1752252474da056d30/expr.png\" style=\"display:inline;vertical-align:middle;\" /></a></td></tr>\n",
       "<tr><td>24</td><td>Literal</td><td></td><td><a class=\"ProveItLink\" href=\"../../../../addition/__pv_it/common/1f38fe5cce441387feef296e2c0a2eac260bb4f30/expr.ipynb\"><img src=\"../../../../addition/__pv_it/common/1f38fe5cce441387feef296e2c0a2eac260bb4f30/expr.png\" style=\"display:inline;vertical-align:middle;\" /></a></td></tr>\n",
       "<tr><td>25</td><td>ExprTuple</td><td>29, 28</td><td><a class=\"ProveItLink\" href=\"../fd494f0eb41e4fc758843b09a8560840204687700/expr.ipynb\"><img src=\"../fd494f0eb41e4fc758843b09a8560840204687700/expr.png\" style=\"display:inline;vertical-align:middle;\" /></a></td></tr>\n",
       "<tr><td>26</td><td>Literal</td><td></td><td><a class=\"ProveItLink\" href=\"../../common/4e7e657ae1979e9bae0b732250839ad716134a750/expr.ipynb\"><img src=\"../../common/4e7e657ae1979e9bae0b732250839ad716134a750/expr.png\" style=\"display:inline;vertical-align:middle;\" /></a></td></tr>\n",
       "<tr><td>27</td><td>ExprTuple</td><td>29</td><td><a class=\"ProveItLink\" href=\"../../../../../__pv_it/common/a49c8f25f899a16b1dbcf2257505d5464a9a7bb50/expr.ipynb\"><img src=\"../../../../../__pv_it/common/a49c8f25f899a16b1dbcf2257505d5464a9a7bb50/expr.png\" style=\"display:inline;vertical-align:middle;\" /></a></td></tr>\n",
       "<tr><td>28</td><td>Variable</td><td></td><td><a class=\"ProveItLink\" href=\"../../../../../__pv_it/common/6165c9bb82ce3c7097cdba4440a1aeeb6eaca8a40/expr.ipynb\"><img src=\"../../../../../__pv_it/common/6165c9bb82ce3c7097cdba4440a1aeeb6eaca8a40/expr.png\" style=\"display:inline;vertical-align:middle;\" /></a></td></tr>\n",
       "<tr><td>29</td><td>Variable</td><td></td><td><a class=\"ProveItLink\" href=\"../../../../../__pv_it/common/a2581dc5df71d9a30bad37de14965fa5fec97a240/expr.ipynb\"><img src=\"../../../../../__pv_it/common/a2581dc5df71d9a30bad37de14965fa5fec97a240/expr.png\" style=\"display:inline;vertical-align:middle;\" /></a></td></tr>\n",
       "</table>\n"
      ],
      "text/plain": [
       "0. (x -> {forall_{n in Integer} (round(x + n) = (round(x) + n)) if x in Real.)\n",
       "   core type: ExprTuple\n",
       "   sub-expressions: 1\n",
       "1. x -> {forall_{n in Integer} (round(x + n) = (round(x) + n)) if x in Real.\n",
       "   core type: Lambda\n",
       "   parameter: 29\n",
       "   body: 2\n",
       "2. {forall_{n in Integer} (round(x + n) = (round(x) + n)) if x in Real.\n",
       "   core type: Conditional\n",
       "   value: 3\n",
       "   condition: 4\n",
       "3. forall_{n in Integer} (round(x + n) = (round(x) + n))\n",
       "   core type: Operation\n",
       "   operator: 5\n",
       "   operand: 8\n",
       "4. x in Real\n",
       "   core type: Operation\n",
       "   operator: 15\n",
       "   operands: 7\n",
       "5. forall\n",
       "   core type: Literal\n",
       "   sub-expressions: \n",
       "6. (n -> {round(x + n) = (round(x) + n) if n in Integer.)\n",
       "   core type: ExprTuple\n",
       "   sub-expressions: 8\n",
       "7. (x, Real)\n",
       "   core type: ExprTuple\n",
       "   sub-expressions: 29, 9\n",
       "8. n -> {round(x + n) = (round(x) + n) if n in Integer.\n",
       "   core type: Lambda\n",
       "   parameter: 28\n",
       "   body: 10\n",
       "9. Real\n",
       "   core type: Literal\n",
       "   sub-expressions: \n",
       "10. {round(x + n) = (round(x) + n) if n in Integer.\n",
       "    core type: Conditional\n",
       "    value: 11\n",
       "    condition: 12\n",
       "11. round(x + n) = (round(x) + n)\n",
       "    core type: Operation\n",
       "    operator: 13\n",
       "    operands: 14\n",
       "12. n in Integer\n",
       "    core type: Operation\n",
       "    operator: 15\n",
       "    operands: 16\n",
       "13. =\n",
       "    core type: Literal\n",
       "    sub-expressions: \n",
       "14. (round(x + n), round(x) + n)\n",
       "    core type: ExprTuple\n",
       "    sub-expressions: 17, 18\n",
       "15. in\n",
       "    core type: Literal\n",
       "    sub-expressions: \n",
       "16. (n, Integer)\n",
       "    core type: ExprTuple\n",
       "    sub-expressions: 28, 19\n",
       "17. round(x + n)\n",
       "    core type: Operation\n",
       "    operator: 26\n",
       "    operand: 22\n",
       "18. round(x) + n\n",
       "    core type: Operation\n",
       "    operator: 24\n",
       "    operands: 21\n",
       "19. Integer\n",
       "    core type: Literal\n",
       "    sub-expressions: \n",
       "20. (x + n)\n",
       "    core type: ExprTuple\n",
       "    sub-expressions: 22\n",
       "21. (round(x), n)\n",
       "    core type: ExprTuple\n",
       "    sub-expressions: 23, 28\n",
       "22. x + n\n",
       "    core type: Operation\n",
       "    operator: 24\n",
       "    operands: 25\n",
       "23. round(x)\n",
       "    core type: Operation\n",
       "    operator: 26\n",
       "    operand: 29\n",
       "24. +\n",
       "    core type: Literal\n",
       "    sub-expressions: \n",
       "25. (x, n)\n",
       "    core type: ExprTuple\n",
       "    sub-expressions: 29, 28\n",
       "26. round\n",
       "    core type: Literal\n",
       "    sub-expressions: \n",
       "27. (x)\n",
       "    core type: ExprTuple\n",
       "    sub-expressions: 29\n",
       "28. n\n",
       "    core type: Variable\n",
       "    sub-expressions: \n",
       "29. x\n",
       "    core type: Variable\n",
       "    sub-expressions: "
      ]
     },
     "execution_count": 6,
     "metadata": {},
     "output_type": "execute_result"
    }
   ],
   "source": [
    "# display the expression information\n",
    "expr.expr_info()"
   ]
  },
  {
   "cell_type": "code",
   "execution_count": null,
   "metadata": {},
   "outputs": [],
   "source": []
  }
 ],
 "metadata": {
  "kernelspec": {
   "display_name": "Python 3",
   "language": "python",
   "name": "python3"
  }
 },
 "nbformat": 4,
 "nbformat_minor": 0
}