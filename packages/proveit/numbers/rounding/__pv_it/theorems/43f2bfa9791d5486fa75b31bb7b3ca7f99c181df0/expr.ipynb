{
 "cells": [
  {
   "cell_type": "markdown",
   "metadata": {},
   "source": [
    "Expression of type <a class=\"ProveItLink\" href=\"../../../../../../../doc/html/api/proveit.Conditional.html\">Conditional</a>\n",
    "=======================\n",
    "# from the theory of <a class=\"ProveItLink\" href=\"../../../_theory_nbs_/theory.ipynb\">proveit.numbers.rounding</a>"
   ]
  },
  {
   "cell_type": "code",
   "execution_count": 1,
   "metadata": {},
   "outputs": [],
   "source": [
    "import proveit\n",
    "# Automation is not needed when building an expression:\n",
    "proveit.defaults.automation = False # This will speed things up.\n",
    "proveit.defaults.inline_pngs = False # Makes files smaller.\n",
    "%load_expr # Load the stored expression as 'stored_expr'\n",
    "# import Expression classes needed to build the expression\n",
    "from proveit import Conditional, n, x\n",
    "from proveit.logic import Equals, Forall, InSet\n",
    "from proveit.numbers import Add, Ceil, Integer, Real"
   ]
  },
  {
   "cell_type": "code",
   "execution_count": 2,
   "metadata": {},
   "outputs": [
    {
     "data": {
      "text/html": [
       "<strong id=\"expr\">expr:</strong> <a class=\"ProveItLink\" href=\"expr.ipynb\"><img src=\"expr.png\" style=\"display:inline;vertical-align:middle;\" /></a><br>"
      ],
      "text/plain": [
       "expr: {forall_{n in Integer} (ceil(x + n) = (ceil(x) + n)) if x in Real."
      ]
     },
     "execution_count": 2,
     "metadata": {},
     "output_type": "execute_result"
    }
   ],
   "source": [
    "# build up the expression from sub-expressions\n",
    "expr = Conditional(Forall([n], Equals(Ceil(Add(x, n)), Add(Ceil(x), n)), domains = [Integer]), InSet(x, Real))"
   ]
  },
  {
   "cell_type": "code",
   "execution_count": 3,
   "metadata": {},
   "outputs": [
    {
     "name": "stdout",
     "output_type": "stream",
     "text": [
      "Passed sanity check: expr matches stored_expr\n"
     ]
    }
   ],
   "source": [
    "# check that the built expression is the same as the stored expression\n",
    "assert expr == stored_expr\n",
    "assert expr._style_id == stored_expr._style_id\n",
    "print(\"Passed sanity check: expr matches stored_expr\")"
   ]
  },
  {
   "cell_type": "code",
   "execution_count": 4,
   "metadata": {},
   "outputs": [
    {
     "name": "stdout",
     "output_type": "stream",
     "text": [
      "\\left\\{\\forall_{n \\in \\mathbb{Z}}~\\left(\\lceil x + n\\rceil = \\left(\\lceil x\\rceil + n\\right)\\right) \\textrm{ if } x \\in \\mathbb{R}\\right..\n"
     ]
    }
   ],
   "source": [
    "# Show the LaTeX representation of the expression for convenience if you need it.\n",
    "print(expr.latex())"
   ]
  },
  {
   "cell_type": "code",
   "execution_count": 5,
   "metadata": {},
   "outputs": [
    {
     "data": {
      "text/html": [
       "<table><tr><th>&nbsp;</th><th>core type</th><th>sub-expressions</th><th>expression</th></tr>\n",
       "<tr><td>0</td><td>Conditional</td><td>value:&nbsp;1<br>condition:&nbsp;2<br></td><td><a class=\"ProveItLink\" href=\"expr.ipynb\"><img src=\"expr.png\" style=\"display:inline;vertical-align:middle;\" /></a></td></tr>\n",
       "<tr><td>1</td><td>Operation</td><td>operator:&nbsp;3<br>operand:&nbsp;4<br></td><td><a class=\"ProveItLink\" href=\"../17dff4a12822df3887dab834a24e498572cb0f0c0/expr.ipynb\"><img src=\"../17dff4a12822df3887dab834a24e498572cb0f0c0/expr.png\" style=\"display:inline;vertical-align:middle;\" /></a></td></tr>\n",
       "<tr><td>2</td><td>Operation</td><td>operator:&nbsp;12<br>operands:&nbsp;5<br></td><td><a class=\"ProveItLink\" href=\"../02bd6ad73acd9f4d3192ee4c61bfdcabbff20f180/expr.ipynb\"><img src=\"../02bd6ad73acd9f4d3192ee4c61bfdcabbff20f180/expr.png\" style=\"display:inline;vertical-align:middle;\" /></a></td></tr>\n",
       "<tr><td>3</td><td>Literal</td><td></td><td><a class=\"ProveItLink\" href=\"../../../../../logic/booleans/quantification/universality/__pv_it/common/083d2baa0b8ecab1d230f9ec29a15aa1355809fb0/expr.ipynb\"><img src=\"../../../../../logic/booleans/quantification/universality/__pv_it/common/083d2baa0b8ecab1d230f9ec29a15aa1355809fb0/expr.png\" style=\"display:inline;vertical-align:middle;\" /></a></td></tr>\n",
       "<tr><td>4</td><td>Lambda</td><td>parameter:&nbsp;22<br>body:&nbsp;6<br></td><td><a class=\"ProveItLink\" href=\"../41bb7f9e9fae6b6d3be6ccf3c5b26c3dac757cd50/expr.ipynb\"><img src=\"../41bb7f9e9fae6b6d3be6ccf3c5b26c3dac757cd50/expr.png\" style=\"display:inline;vertical-align:middle;\" /></a></td></tr>\n",
       "<tr><td>5</td><td>ExprTuple</td><td>24, 7</td><td><a class=\"ProveItLink\" href=\"../e01334b6bbdba98f1cfc9205f70e5f594e02e2f50/expr.ipynb\"><img src=\"../e01334b6bbdba98f1cfc9205f70e5f594e02e2f50/expr.png\" style=\"display:inline;vertical-align:middle;\" /></a></td></tr>\n",
       "<tr><td>6</td><td>Conditional</td><td>value:&nbsp;8<br>condition:&nbsp;9<br></td><td><a class=\"ProveItLink\" href=\"../e4aaedb44f3ff7058c63533427c6f593675e1f780/expr.ipynb\"><img src=\"../e4aaedb44f3ff7058c63533427c6f593675e1f780/expr.png\" style=\"display:inline;vertical-align:middle;\" /></a></td></tr>\n",
       "<tr><td>7</td><td>Literal</td><td></td><td><a class=\"ProveItLink\" href=\"../../../../number_sets/real_numbers/__pv_it/common/93cac87a1a47e613f7a83b23ef7891599a1a4cca0/expr.ipynb\"><img src=\"../../../../number_sets/real_numbers/__pv_it/common/93cac87a1a47e613f7a83b23ef7891599a1a4cca0/expr.png\" style=\"display:inline;vertical-align:middle;\" /></a></td></tr>\n",
       "<tr><td>8</td><td>Operation</td><td>operator:&nbsp;10<br>operands:&nbsp;11<br></td><td><a class=\"ProveItLink\" href=\"../c5ae37813c7551c32915d0644d7609f3389ccdf40/expr.ipynb\"><img src=\"../c5ae37813c7551c32915d0644d7609f3389ccdf40/expr.png\" style=\"display:inline;vertical-align:middle;\" /></a></td></tr>\n",
       "<tr><td>9</td><td>Operation</td><td>operator:&nbsp;12<br>operands:&nbsp;13<br></td><td><a class=\"ProveItLink\" href=\"../e694f0dd0ce0ed1cb86f270a4c4fe7df46ddafc20/expr.ipynb\"><img src=\"../e694f0dd0ce0ed1cb86f270a4c4fe7df46ddafc20/expr.png\" style=\"display:inline;vertical-align:middle;\" /></a></td></tr>\n",
       "<tr><td>10</td><td>Literal</td><td></td><td><a class=\"ProveItLink\" href=\"../../../../../logic/equality/__pv_it/common/fb96dc12b2aa8801dda64d0132b396c63d1502bb0/expr.ipynb\"><img src=\"../../../../../logic/equality/__pv_it/common/fb96dc12b2aa8801dda64d0132b396c63d1502bb0/expr.png\" style=\"display:inline;vertical-align:middle;\" /></a></td></tr>\n",
       "<tr><td>11</td><td>ExprTuple</td><td>14, 15</td><td><a class=\"ProveItLink\" href=\"../de2dddd046121db83d55312374adcb64084569bd0/expr.ipynb\"><img src=\"../de2dddd046121db83d55312374adcb64084569bd0/expr.png\" style=\"display:inline;vertical-align:middle;\" /></a></td></tr>\n",
       "<tr><td>12</td><td>Literal</td><td></td><td><a class=\"ProveItLink\" href=\"../../../../../logic/sets/membership/__pv_it/common/477487d8796864d23d5810f83761435f25167f690/expr.ipynb\"><img src=\"../../../../../logic/sets/membership/__pv_it/common/477487d8796864d23d5810f83761435f25167f690/expr.png\" style=\"display:inline;vertical-align:middle;\" /></a></td></tr>\n",
       "<tr><td>13</td><td>ExprTuple</td><td>22, 16</td><td><a class=\"ProveItLink\" href=\"../0305f778dc4a6bd37bb9f8eb2d53efece53fedc50/expr.ipynb\"><img src=\"../0305f778dc4a6bd37bb9f8eb2d53efece53fedc50/expr.png\" style=\"display:inline;vertical-align:middle;\" /></a></td></tr>\n",
       "<tr><td>14</td><td>Operation</td><td>operator:&nbsp;23<br>operand:&nbsp;17<br></td><td><a class=\"ProveItLink\" href=\"../3d3195d3c8a93f4d42d64b61426e79c437efee850/expr.ipynb\"><img src=\"../3d3195d3c8a93f4d42d64b61426e79c437efee850/expr.png\" style=\"display:inline;vertical-align:middle;\" /></a></td></tr>\n",
       "<tr><td>15</td><td>Operation</td><td>operator:&nbsp;19<br>operands:&nbsp;18<br></td><td><a class=\"ProveItLink\" href=\"../b40c371eefef40a05f968ff0c41abde57714b81b0/expr.ipynb\"><img src=\"../b40c371eefef40a05f968ff0c41abde57714b81b0/expr.png\" style=\"display:inline;vertical-align:middle;\" /></a></td></tr>\n",
       "<tr><td>16</td><td>Literal</td><td></td><td><a class=\"ProveItLink\" href=\"../../../../number_sets/integers/__pv_it/common/e6b4e90f9467053e055a4fd2f735c0bb79cb79300/expr.ipynb\"><img src=\"../../../../number_sets/integers/__pv_it/common/e6b4e90f9467053e055a4fd2f735c0bb79cb79300/expr.png\" style=\"display:inline;vertical-align:middle;\" /></a></td></tr>\n",
       "<tr><td>17</td><td>Operation</td><td>operator:&nbsp;19<br>operands:&nbsp;20<br></td><td><a class=\"ProveItLink\" href=\"../99231f3245ee60a0fb37dec0be6e1d6243847f460/expr.ipynb\"><img src=\"../99231f3245ee60a0fb37dec0be6e1d6243847f460/expr.png\" style=\"display:inline;vertical-align:middle;\" /></a></td></tr>\n",
       "<tr><td>18</td><td>ExprTuple</td><td>21, 22</td><td><a class=\"ProveItLink\" href=\"../d36f883df6a8c2a0ef56ef99eb1b1faa1697fb8e0/expr.ipynb\"><img src=\"../d36f883df6a8c2a0ef56ef99eb1b1faa1697fb8e0/expr.png\" style=\"display:inline;vertical-align:middle;\" /></a></td></tr>\n",
       "<tr><td>19</td><td>Literal</td><td></td><td><a class=\"ProveItLink\" href=\"../../../../addition/__pv_it/common/4b7effaab3619a1c2c38fe2dee8601df8ec714590/expr.ipynb\"><img src=\"../../../../addition/__pv_it/common/4b7effaab3619a1c2c38fe2dee8601df8ec714590/expr.png\" style=\"display:inline;vertical-align:middle;\" /></a></td></tr>\n",
       "<tr><td>20</td><td>ExprTuple</td><td>24, 22</td><td><a class=\"ProveItLink\" href=\"../b5c718ed0d04122411e9d96b581cbc5a4acd9ad60/expr.ipynb\"><img src=\"../b5c718ed0d04122411e9d96b581cbc5a4acd9ad60/expr.png\" style=\"display:inline;vertical-align:middle;\" /></a></td></tr>\n",
       "<tr><td>21</td><td>Operation</td><td>operator:&nbsp;23<br>operand:&nbsp;24<br></td><td><a class=\"ProveItLink\" href=\"../866826d275e48923b337c8bb1c4b3105379c8dc70/expr.ipynb\"><img src=\"../866826d275e48923b337c8bb1c4b3105379c8dc70/expr.png\" style=\"display:inline;vertical-align:middle;\" /></a></td></tr>\n",
       "<tr><td>22</td><td>Variable</td><td></td><td><a class=\"ProveItLink\" href=\"../../../../../__pv_it/common/8968bb04eb3f7dfa02353397ce929b025bbd79c20/expr.ipynb\"><img src=\"../../../../../__pv_it/common/8968bb04eb3f7dfa02353397ce929b025bbd79c20/expr.png\" style=\"display:inline;vertical-align:middle;\" /></a></td></tr>\n",
       "<tr><td>23</td><td>Literal</td><td></td><td><a class=\"ProveItLink\" href=\"../../common/468bbdabad0328579afc2777e0e196d5e9a2f5740/expr.ipynb\"><img src=\"../../common/468bbdabad0328579afc2777e0e196d5e9a2f5740/expr.png\" style=\"display:inline;vertical-align:middle;\" /></a></td></tr>\n",
       "<tr><td>24</td><td>Variable</td><td></td><td><a class=\"ProveItLink\" href=\"../../../../../__pv_it/common/a0d9d672aa5e272d907247690c152cc2c6daafb70/expr.ipynb\"><img src=\"../../../../../__pv_it/common/a0d9d672aa5e272d907247690c152cc2c6daafb70/expr.png\" style=\"display:inline;vertical-align:middle;\" /></a></td></tr>\n",
       "</table>\n"
      ],
      "text/plain": [
       "0. {forall_{n in Integer} (ceil(x + n) = (ceil(x) + n)) if x in Real.\n",
       "   core type: Conditional\n",
       "   value: 1\n",
       "   condition: 2\n",
       "1. forall_{n in Integer} (ceil(x + n) = (ceil(x) + n))\n",
       "   core type: Operation\n",
       "   operator: 3\n",
       "   operand: 4\n",
       "2. x in Real\n",
       "   core type: Operation\n",
       "   operator: 12\n",
       "   operands: 5\n",
       "3. forall\n",
       "   core type: Literal\n",
       "   sub-expressions: \n",
       "4. n -> {ceil(x + n) = (ceil(x) + n) if n in Integer.\n",
       "   core type: Lambda\n",
       "   parameter: 22\n",
       "   body: 6\n",
       "5. (x, Real)\n",
       "   core type: ExprTuple\n",
       "   sub-expressions: 24, 7\n",
       "6. {ceil(x + n) = (ceil(x) + n) if n in Integer.\n",
       "   core type: Conditional\n",
       "   value: 8\n",
       "   condition: 9\n",
       "7. Real\n",
       "   core type: Literal\n",
       "   sub-expressions: \n",
       "8. ceil(x + n) = (ceil(x) + n)\n",
       "   core type: Operation\n",
       "   operator: 10\n",
       "   operands: 11\n",
       "9. n in Integer\n",
       "   core type: Operation\n",
       "   operator: 12\n",
       "   operands: 13\n",
       "10. =\n",
       "    core type: Literal\n",
       "    sub-expressions: \n",
       "11. (ceil(x + n), ceil(x) + n)\n",
       "    core type: ExprTuple\n",
       "    sub-expressions: 14, 15\n",
       "12. in\n",
       "    core type: Literal\n",
       "    sub-expressions: \n",
       "13. (n, Integer)\n",
       "    core type: ExprTuple\n",
       "    sub-expressions: 22, 16\n",
       "14. ceil(x + n)\n",
       "    core type: Operation\n",
       "    operator: 23\n",
       "    operand: 17\n",
       "15. ceil(x) + n\n",
       "    core type: Operation\n",
       "    operator: 19\n",
       "    operands: 18\n",
       "16. Integer\n",
       "    core type: Literal\n",
       "    sub-expressions: \n",
       "17. x + n\n",
       "    core type: Operation\n",
       "    operator: 19\n",
       "    operands: 20\n",
       "18. (ceil(x), n)\n",
       "    core type: ExprTuple\n",
       "    sub-expressions: 21, 22\n",
       "19. +\n",
       "    core type: Literal\n",
       "    sub-expressions: \n",
       "20. (x, n)\n",
       "    core type: ExprTuple\n",
       "    sub-expressions: 24, 22\n",
       "21. ceil(x)\n",
       "    core type: Operation\n",
       "    operator: 23\n",
       "    operand: 24\n",
       "22. n\n",
       "    core type: Variable\n",
       "    sub-expressions: \n",
       "23. ceil\n",
       "    core type: Literal\n",
       "    sub-expressions: \n",
       "24. x\n",
       "    core type: Variable\n",
       "    sub-expressions: "
      ]
     },
     "execution_count": 5,
     "metadata": {},
     "output_type": "execute_result"
    }
   ],
   "source": [
    "# display the expression information\n",
    "expr.expr_info()"
   ]
  },
  {
   "cell_type": "code",
   "execution_count": null,
   "metadata": {},
   "outputs": [],
   "source": []
  }
 ],
 "metadata": {
  "kernelspec": {
   "display_name": "Python 3",
   "language": "python",
   "name": "python3"
  }
 },
 "nbformat": 4,
 "nbformat_minor": 0
}