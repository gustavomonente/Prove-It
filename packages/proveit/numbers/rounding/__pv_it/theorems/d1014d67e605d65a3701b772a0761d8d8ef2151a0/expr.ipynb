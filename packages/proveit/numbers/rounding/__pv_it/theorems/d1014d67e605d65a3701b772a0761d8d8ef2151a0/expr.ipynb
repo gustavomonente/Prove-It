{
 "cells": [
  {
   "cell_type": "markdown",
   "metadata": {},
   "source": [
    "Expression of type <a class=\"ProveItLink\" href=\"../../../../../../../doc/html/api/proveit.Lambda.html\">Lambda</a>\n",
    "=======================\n",
    "# from the theory of <a class=\"ProveItLink\" href=\"../../../_theory_nbs_/theory.ipynb\">proveit.numbers.rounding</a>"
   ]
  },
  {
   "cell_type": "code",
   "execution_count": 1,
   "metadata": {},
   "outputs": [],
   "source": [
    "import proveit\n",
    "# Automation is not needed when building an expression:\n",
    "proveit.defaults.automation = False # This will speed things up.\n",
    "proveit.defaults.inline_pngs = False # Makes files smaller.\n",
    "%load_expr # Load the stored expression as 'stored_expr'\n",
    "# import Expression classes needed to build the expression\n",
    "from proveit import Conditional, Lambda, x\n",
    "from proveit.logic import InSet\n",
    "from proveit.numbers import Add, Floor, Neg, Real, greater_eq, zero"
   ]
  },
  {
   "cell_type": "code",
   "execution_count": 2,
   "metadata": {},
   "outputs": [
    {
     "data": {
      "text/html": [
       "<strong id=\"expr\">expr:</strong> <a class=\"ProveItLink\" href=\"expr.ipynb\"><img src=\"expr.png\" style=\"display:inline;vertical-align:middle;\" /></a><br>"
      ],
      "text/plain": [
       "expr: x -> {(x - floor(x)) >= 0 if x in Real."
      ]
     },
     "execution_count": 2,
     "metadata": {},
     "output_type": "execute_result"
    }
   ],
   "source": [
    "# build up the expression from sub-expressions\n",
    "expr = Lambda(x, Conditional(greater_eq(Add(x, Neg(Floor(x))), zero), InSet(x, Real)))"
   ]
  },
  {
   "cell_type": "code",
   "execution_count": 3,
   "metadata": {},
   "outputs": [
    {
     "name": "stdout",
     "output_type": "stream",
     "text": [
      "Passed sanity check: expr matches stored_expr\n"
     ]
    }
   ],
   "source": [
    "# check that the built expression is the same as the stored expression\n",
    "assert expr == stored_expr\n",
    "assert expr._style_id == stored_expr._style_id\n",
    "print(\"Passed sanity check: expr matches stored_expr\")"
   ]
  },
  {
   "cell_type": "code",
   "execution_count": 4,
   "metadata": {},
   "outputs": [
    {
     "name": "stdout",
     "output_type": "stream",
     "text": [
      "x \\mapsto \\left\\{\\left(x - \\lfloor x\\rfloor\\right) \\geq 0 \\textrm{ if } x \\in \\mathbb{R}\\right..\n"
     ]
    }
   ],
   "source": [
    "# Show the LaTeX representation of the expression for convenience if you need it.\n",
    "print(expr.latex())"
   ]
  },
  {
   "cell_type": "code",
   "execution_count": 5,
   "metadata": {},
   "outputs": [
    {
     "data": {
      "text/html": [
       "no style options"
      ],
      "text/plain": [
       "no style options"
      ]
     },
     "execution_count": 5,
     "metadata": {},
     "output_type": "execute_result"
    }
   ],
   "source": [
    "expr.style_options()"
   ]
  },
  {
   "cell_type": "code",
   "execution_count": 6,
   "metadata": {},
   "outputs": [
    {
     "data": {
      "text/html": [
       "<table><tr><th>&nbsp;</th><th>core type</th><th>sub-expressions</th><th>expression</th></tr>\n",
       "<tr><td>0</td><td>Lambda</td><td>parameter:&nbsp;19<br>body:&nbsp;1<br></td><td><a class=\"ProveItLink\" href=\"expr.ipynb\"><img src=\"expr.png\" style=\"display:inline;vertical-align:middle;\" /></a></td></tr>\n",
       "<tr><td>1</td><td>Conditional</td><td>value:&nbsp;2<br>condition:&nbsp;3<br></td><td><a class=\"ProveItLink\" href=\"../db1f1bb85cfc05cf62b30b517fa7141221e561920/expr.ipynb\"><img src=\"../db1f1bb85cfc05cf62b30b517fa7141221e561920/expr.png\" style=\"display:inline;vertical-align:middle;\" /></a></td></tr>\n",
       "<tr><td>2</td><td>Operation</td><td>operator:&nbsp;4<br>operands:&nbsp;5<br></td><td><a class=\"ProveItLink\" href=\"../e09d692002c3cc5fc5f29760b9cecc8d45d17f5a0/expr.ipynb\"><img src=\"../e09d692002c3cc5fc5f29760b9cecc8d45d17f5a0/expr.png\" style=\"display:inline;vertical-align:middle;\" /></a></td></tr>\n",
       "<tr><td>3</td><td>Operation</td><td>operator:&nbsp;6<br>operands:&nbsp;7<br></td><td><a class=\"ProveItLink\" href=\"../f399694c94d63fe522f8e05f5163f6a5a160a5b80/expr.ipynb\"><img src=\"../f399694c94d63fe522f8e05f5163f6a5a160a5b80/expr.png\" style=\"display:inline;vertical-align:middle;\" /></a></td></tr>\n",
       "<tr><td>4</td><td>Literal</td><td></td><td><a class=\"ProveItLink\" href=\"../../../../ordering/__pv_it/common/b7491c9b87613cffc9e4ec0625a0f1afacbe2cbd0/expr.ipynb\"><img src=\"../../../../ordering/__pv_it/common/b7491c9b87613cffc9e4ec0625a0f1afacbe2cbd0/expr.png\" style=\"display:inline;vertical-align:middle;\" /></a></td></tr>\n",
       "<tr><td>5</td><td>ExprTuple</td><td>8, 9</td><td><a class=\"ProveItLink\" href=\"../2ae60fafe9c3d4773cdce3f109b35294813bd5990/expr.ipynb\"><img src=\"../2ae60fafe9c3d4773cdce3f109b35294813bd5990/expr.png\" style=\"display:inline;vertical-align:middle;\" /></a></td></tr>\n",
       "<tr><td>6</td><td>Literal</td><td></td><td><a class=\"ProveItLink\" href=\"../../../../../logic/sets/membership/__pv_it/common/7171deca84f71f47a6ec7696972d1632274a12880/expr.ipynb\"><img src=\"../../../../../logic/sets/membership/__pv_it/common/7171deca84f71f47a6ec7696972d1632274a12880/expr.png\" style=\"display:inline;vertical-align:middle;\" /></a></td></tr>\n",
       "<tr><td>7</td><td>ExprTuple</td><td>19, 10</td><td><a class=\"ProveItLink\" href=\"../55bef9982c7867f2ba0ff0e7b2f4477175e2b1970/expr.ipynb\"><img src=\"../55bef9982c7867f2ba0ff0e7b2f4477175e2b1970/expr.png\" style=\"display:inline;vertical-align:middle;\" /></a></td></tr>\n",
       "<tr><td>8</td><td>Literal</td><td></td><td><a class=\"ProveItLink\" href=\"../../../../numerals/__pv_it/common/c35fdf7268947ca3e24174d2909dc9d0a7f3aac60/expr.ipynb\"><img src=\"../../../../numerals/__pv_it/common/c35fdf7268947ca3e24174d2909dc9d0a7f3aac60/expr.png\" style=\"display:inline;vertical-align:middle;\" /></a></td></tr>\n",
       "<tr><td>9</td><td>Operation</td><td>operator:&nbsp;11<br>operands:&nbsp;12<br></td><td><a class=\"ProveItLink\" href=\"../7fd61f84c36574b5529e98403ce69fc0e5274e800/expr.ipynb\"><img src=\"../7fd61f84c36574b5529e98403ce69fc0e5274e800/expr.png\" style=\"display:inline;vertical-align:middle;\" /></a></td></tr>\n",
       "<tr><td>10</td><td>Literal</td><td></td><td><a class=\"ProveItLink\" href=\"../../../../number_sets/real_numbers/__pv_it/common/3eaf53c11933bb30b35e82c24807c695de530cf10/expr.ipynb\"><img src=\"../../../../number_sets/real_numbers/__pv_it/common/3eaf53c11933bb30b35e82c24807c695de530cf10/expr.png\" style=\"display:inline;vertical-align:middle;\" /></a></td></tr>\n",
       "<tr><td>11</td><td>Literal</td><td></td><td><a class=\"ProveItLink\" href=\"../../../../addition/__pv_it/common/1f38fe5cce441387feef296e2c0a2eac260bb4f30/expr.ipynb\"><img src=\"../../../../addition/__pv_it/common/1f38fe5cce441387feef296e2c0a2eac260bb4f30/expr.png\" style=\"display:inline;vertical-align:middle;\" /></a></td></tr>\n",
       "<tr><td>12</td><td>ExprTuple</td><td>19, 13</td><td><a class=\"ProveItLink\" href=\"../cb53da72ae5bb4fdcca022c72750c2865bf9ac300/expr.ipynb\"><img src=\"../cb53da72ae5bb4fdcca022c72750c2865bf9ac300/expr.png\" style=\"display:inline;vertical-align:middle;\" /></a></td></tr>\n",
       "<tr><td>13</td><td>Operation</td><td>operator:&nbsp;14<br>operand:&nbsp;16<br></td><td><a class=\"ProveItLink\" href=\"../52d878df36df95fc5ce7b0625b48e5d7fd9a72200/expr.ipynb\"><img src=\"../52d878df36df95fc5ce7b0625b48e5d7fd9a72200/expr.png\" style=\"display:inline;vertical-align:middle;\" /></a></td></tr>\n",
       "<tr><td>14</td><td>Literal</td><td></td><td><a class=\"ProveItLink\" href=\"../../../../negation/__pv_it/common/31a69a5c76809537045e3884859f178d8d9c845c0/expr.ipynb\"><img src=\"../../../../negation/__pv_it/common/31a69a5c76809537045e3884859f178d8d9c845c0/expr.png\" style=\"display:inline;vertical-align:middle;\" /></a></td></tr>\n",
       "<tr><td>15</td><td>ExprTuple</td><td>16</td><td><a class=\"ProveItLink\" href=\"../197db32e4a39f79c9b060749482d036ca75ccba80/expr.ipynb\"><img src=\"../197db32e4a39f79c9b060749482d036ca75ccba80/expr.png\" style=\"display:inline;vertical-align:middle;\" /></a></td></tr>\n",
       "<tr><td>16</td><td>Operation</td><td>operator:&nbsp;17<br>operand:&nbsp;19<br></td><td><a class=\"ProveItLink\" href=\"../1cf51720796a69540ef4f6b4e45fbe6d076c69450/expr.ipynb\"><img src=\"../1cf51720796a69540ef4f6b4e45fbe6d076c69450/expr.png\" style=\"display:inline;vertical-align:middle;\" /></a></td></tr>\n",
       "<tr><td>17</td><td>Literal</td><td></td><td><a class=\"ProveItLink\" href=\"../../common/c53cd1b181493a0b5c6c20e07142c9892d30dd120/expr.ipynb\"><img src=\"../../common/c53cd1b181493a0b5c6c20e07142c9892d30dd120/expr.png\" style=\"display:inline;vertical-align:middle;\" /></a></td></tr>\n",
       "<tr><td>18</td><td>ExprTuple</td><td>19</td><td><a class=\"ProveItLink\" href=\"../../../../../__pv_it/common/a49c8f25f899a16b1dbcf2257505d5464a9a7bb50/expr.ipynb\"><img src=\"../../../../../__pv_it/common/a49c8f25f899a16b1dbcf2257505d5464a9a7bb50/expr.png\" style=\"display:inline;vertical-align:middle;\" /></a></td></tr>\n",
       "<tr><td>19</td><td>Variable</td><td></td><td><a class=\"ProveItLink\" href=\"../../../../../__pv_it/common/a2581dc5df71d9a30bad37de14965fa5fec97a240/expr.ipynb\"><img src=\"../../../../../__pv_it/common/a2581dc5df71d9a30bad37de14965fa5fec97a240/expr.png\" style=\"display:inline;vertical-align:middle;\" /></a></td></tr>\n",
       "</table>\n"
      ],
      "text/plain": [
       "0. x -> {(x - floor(x)) >= 0 if x in Real.\n",
       "   core type: Lambda\n",
       "   parameter: 19\n",
       "   body: 1\n",
       "1. {(x - floor(x)) >= 0 if x in Real.\n",
       "   core type: Conditional\n",
       "   value: 2\n",
       "   condition: 3\n",
       "2. (x - floor(x)) >= 0\n",
       "   core type: Operation\n",
       "   operator: 4\n",
       "   operands: 5\n",
       "3. x in Real\n",
       "   core type: Operation\n",
       "   operator: 6\n",
       "   operands: 7\n",
       "4. <=\n",
       "   core type: Literal\n",
       "   sub-expressions: \n",
       "5. (0, x - floor(x))\n",
       "   core type: ExprTuple\n",
       "   sub-expressions: 8, 9\n",
       "6. in\n",
       "   core type: Literal\n",
       "   sub-expressions: \n",
       "7. (x, Real)\n",
       "   core type: ExprTuple\n",
       "   sub-expressions: 19, 10\n",
       "8. 0\n",
       "   core type: Literal\n",
       "   sub-expressions: \n",
       "9. x - floor(x)\n",
       "   core type: Operation\n",
       "   operator: 11\n",
       "   operands: 12\n",
       "10. Real\n",
       "    core type: Literal\n",
       "    sub-expressions: \n",
       "11. +\n",
       "    core type: Literal\n",
       "    sub-expressions: \n",
       "12. (x, -floor(x))\n",
       "    core type: ExprTuple\n",
       "    sub-expressions: 19, 13\n",
       "13. -floor(x)\n",
       "    core type: Operation\n",
       "    operator: 14\n",
       "    operand: 16\n",
       "14. -\n",
       "    core type: Literal\n",
       "    sub-expressions: \n",
       "15. (floor(x))\n",
       "    core type: ExprTuple\n",
       "    sub-expressions: 16\n",
       "16. floor(x)\n",
       "    core type: Operation\n",
       "    operator: 17\n",
       "    operand: 19\n",
       "17. floor\n",
       "    core type: Literal\n",
       "    sub-expressions: \n",
       "18. (x)\n",
       "    core type: ExprTuple\n",
       "    sub-expressions: 19\n",
       "19. x\n",
       "    core type: Variable\n",
       "    sub-expressions: "
      ]
     },
     "execution_count": 6,
     "metadata": {},
     "output_type": "execute_result"
    }
   ],
   "source": [
    "# display the expression information\n",
    "expr.expr_info()"
   ]
  },
  {
   "cell_type": "code",
   "execution_count": null,
   "metadata": {},
   "outputs": [],
   "source": []
  }
 ],
 "metadata": {
  "kernelspec": {
   "display_name": "Python 3",
   "language": "python",
   "name": "python3"
  }
 },
 "nbformat": 4,
 "nbformat_minor": 0
}