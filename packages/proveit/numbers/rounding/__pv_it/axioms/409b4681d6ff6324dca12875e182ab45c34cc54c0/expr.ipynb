{
 "cells": [
  {
   "cell_type": "markdown",
   "metadata": {},
   "source": [
    "Expression of type <a class=\"ProveItLink\" href=\"../../../../../../../doc/html/api/proveit.ExprTuple.html\">ExprTuple</a>\n",
    "=======================\n",
    "# from the theory of <a class=\"ProveItLink\" href=\"../../../_theory_nbs_/theory.ipynb\">proveit.numbers.rounding</a>"
   ]
  },
  {
   "cell_type": "code",
   "execution_count": 1,
   "metadata": {},
   "outputs": [],
   "source": [
    "import proveit\n",
    "# Automation is not needed when building an expression:\n",
    "proveit.defaults.automation = False # This will speed things up.\n",
    "proveit.defaults.inline_pngs = False # Makes files smaller.\n",
    "%load_expr # Load the stored expression as 'stored_expr'\n",
    "# import Expression classes needed to build the expression\n",
    "from proveit import Conditional, ExprTuple, Lambda, x, y\n",
    "from proveit.logic import And, InSet\n",
    "from proveit.numbers import Abs, Add, Integer, LessEq, Neg, Real, Round"
   ]
  },
  {
   "cell_type": "code",
   "execution_count": 2,
   "metadata": {},
   "outputs": [
    {
     "data": {
      "text/html": [
       "<strong id=\"expr\">expr:</strong> <a class=\"ProveItLink\" href=\"expr.ipynb\"><img src=\"expr.png\" style=\"display:inline;vertical-align:middle;\" /></a><br>"
      ],
      "text/plain": [
       "expr: ((x, y) -> {|round(x) - x| <= |y - x| if x in Real ,  y in Integer.)"
      ]
     },
     "execution_count": 2,
     "metadata": {},
     "output_type": "execute_result"
    }
   ],
   "source": [
    "# build up the expression from sub-expressions\n",
    "sub_expr1 = Neg(x)\n",
    "expr = ExprTuple(Lambda([x, y], Conditional(LessEq(Abs(Add(Round(x), sub_expr1)), Abs(Add(y, sub_expr1))), And(InSet(x, Real), InSet(y, Integer)))))"
   ]
  },
  {
   "cell_type": "code",
   "execution_count": 3,
   "metadata": {},
   "outputs": [
    {
     "name": "stdout",
     "output_type": "stream",
     "text": [
      "Passed sanity check: expr matches stored_expr\n"
     ]
    }
   ],
   "source": [
    "# check that the built expression is the same as the stored expression\n",
    "assert expr == stored_expr\n",
    "assert expr._style_id == stored_expr._style_id\n",
    "print(\"Passed sanity check: expr matches stored_expr\")"
   ]
  },
  {
   "cell_type": "code",
   "execution_count": 4,
   "metadata": {},
   "outputs": [
    {
     "name": "stdout",
     "output_type": "stream",
     "text": [
      "\\left(\\left(x, y\\right) \\mapsto \\left\\{\\left|round(x) - x\\right| \\leq \\left|y - x\\right| \\textrm{ if } x \\in \\mathbb{R} ,  y \\in \\mathbb{Z}\\right..\\right)\n"
     ]
    }
   ],
   "source": [
    "# Show the LaTeX representation of the expression for convenience if you need it.\n",
    "print(expr.latex())"
   ]
  },
  {
   "cell_type": "code",
   "execution_count": 5,
   "metadata": {},
   "outputs": [
    {
     "data": {
      "text/html": [
       "no style options"
      ],
      "text/plain": [
       "no style options"
      ]
     },
     "execution_count": 5,
     "metadata": {},
     "output_type": "execute_result"
    }
   ],
   "source": [
    "expr.style_options()"
   ]
  },
  {
   "cell_type": "code",
   "execution_count": 6,
   "metadata": {},
   "outputs": [
    {
     "data": {
      "text/html": [
       "<table><tr><th>&nbsp;</th><th>core type</th><th>sub-expressions</th><th>expression</th></tr>\n",
       "<tr><td>0</td><td>ExprTuple</td><td>1</td><td><a class=\"ProveItLink\" href=\"expr.ipynb\"><img src=\"expr.png\" style=\"display:inline;vertical-align:middle;\" /></a></td></tr>\n",
       "<tr><td>1</td><td>Lambda</td><td>parameters:&nbsp;2<br>body:&nbsp;3<br></td><td><a class=\"ProveItLink\" href=\"../df47836660a5aedef3c2d82d34cdb69e904c503a0/expr.ipynb\"><img src=\"../df47836660a5aedef3c2d82d34cdb69e904c503a0/expr.png\" style=\"display:inline;vertical-align:middle;\" /></a></td></tr>\n",
       "<tr><td>2</td><td>ExprTuple</td><td>33, 28</td><td><a class=\"ProveItLink\" href=\"../ef4dae65d3387950a2be9c6d13839307bdb1f9ee0/expr.ipynb\"><img src=\"../ef4dae65d3387950a2be9c6d13839307bdb1f9ee0/expr.png\" style=\"display:inline;vertical-align:middle;\" /></a></td></tr>\n",
       "<tr><td>3</td><td>Conditional</td><td>value:&nbsp;4<br>condition:&nbsp;5<br></td><td><a class=\"ProveItLink\" href=\"../e77eca9a21ff1ee5bdd6d59bbc529e09799f0bd80/expr.ipynb\"><img src=\"../e77eca9a21ff1ee5bdd6d59bbc529e09799f0bd80/expr.png\" style=\"display:inline;vertical-align:middle;\" /></a></td></tr>\n",
       "<tr><td>4</td><td>Operation</td><td>operator:&nbsp;6<br>operands:&nbsp;7<br></td><td><a class=\"ProveItLink\" href=\"../a54c47be751f5bf444750de7bcff649239bbafaf0/expr.ipynb\"><img src=\"../a54c47be751f5bf444750de7bcff649239bbafaf0/expr.png\" style=\"display:inline;vertical-align:middle;\" /></a></td></tr>\n",
       "<tr><td>5</td><td>Operation</td><td>operator:&nbsp;8<br>operands:&nbsp;9<br></td><td><a class=\"ProveItLink\" href=\"../ff1295bcb29882b84d99cfdbb4b42a42a37da0900/expr.ipynb\"><img src=\"../ff1295bcb29882b84d99cfdbb4b42a42a37da0900/expr.png\" style=\"display:inline;vertical-align:middle;\" /></a></td></tr>\n",
       "<tr><td>6</td><td>Literal</td><td></td><td><a class=\"ProveItLink\" href=\"../../../../ordering/__pv_it/common/b7491c9b87613cffc9e4ec0625a0f1afacbe2cbd0/expr.ipynb\"><img src=\"../../../../ordering/__pv_it/common/b7491c9b87613cffc9e4ec0625a0f1afacbe2cbd0/expr.png\" style=\"display:inline;vertical-align:middle;\" /></a></td></tr>\n",
       "<tr><td>7</td><td>ExprTuple</td><td>10, 11</td><td><a class=\"ProveItLink\" href=\"../de63c544e253cd4dd60c7d0b4d6cddd0dfaf26ef0/expr.ipynb\"><img src=\"../de63c544e253cd4dd60c7d0b4d6cddd0dfaf26ef0/expr.png\" style=\"display:inline;vertical-align:middle;\" /></a></td></tr>\n",
       "<tr><td>8</td><td>Literal</td><td></td><td><a class=\"ProveItLink\" href=\"../../../../../logic/booleans/conjunction/__pv_it/common/26b94b53e70b1d77b70f0d9d4236347db37731060/expr.ipynb\"><img src=\"../../../../../logic/booleans/conjunction/__pv_it/common/26b94b53e70b1d77b70f0d9d4236347db37731060/expr.png\" style=\"display:inline;vertical-align:middle;\" /></a></td></tr>\n",
       "<tr><td>9</td><td>ExprTuple</td><td>12, 13</td><td><a class=\"ProveItLink\" href=\"../530fba901bd7ca3bc5a2dee1bf556f29e4e601340/expr.ipynb\"><img src=\"../530fba901bd7ca3bc5a2dee1bf556f29e4e601340/expr.png\" style=\"display:inline;vertical-align:middle;\" /></a></td></tr>\n",
       "<tr><td>10</td><td>Operation</td><td>operator:&nbsp;15<br>operand:&nbsp;20<br></td><td><a class=\"ProveItLink\" href=\"../b68b1022ccfeacb0d8249c0215ffe3433424980d0/expr.ipynb\"><img src=\"../b68b1022ccfeacb0d8249c0215ffe3433424980d0/expr.png\" style=\"display:inline;vertical-align:middle;\" /></a></td></tr>\n",
       "<tr><td>11</td><td>Operation</td><td>operator:&nbsp;15<br>operand:&nbsp;21<br></td><td><a class=\"ProveItLink\" href=\"../d5b1717846e08aa2bbc9b7d7f778428d914bed7e0/expr.ipynb\"><img src=\"../d5b1717846e08aa2bbc9b7d7f778428d914bed7e0/expr.png\" style=\"display:inline;vertical-align:middle;\" /></a></td></tr>\n",
       "<tr><td>12</td><td>Operation</td><td>operator:&nbsp;18<br>operands:&nbsp;17<br></td><td><a class=\"ProveItLink\" href=\"../f399694c94d63fe522f8e05f5163f6a5a160a5b80/expr.ipynb\"><img src=\"../f399694c94d63fe522f8e05f5163f6a5a160a5b80/expr.png\" style=\"display:inline;vertical-align:middle;\" /></a></td></tr>\n",
       "<tr><td>13</td><td>Operation</td><td>operator:&nbsp;18<br>operands:&nbsp;19<br></td><td><a class=\"ProveItLink\" href=\"../a848422fb3c9b8244aa1ea3d3536c98438e106ac0/expr.ipynb\"><img src=\"../a848422fb3c9b8244aa1ea3d3536c98438e106ac0/expr.png\" style=\"display:inline;vertical-align:middle;\" /></a></td></tr>\n",
       "<tr><td>14</td><td>ExprTuple</td><td>20</td><td><a class=\"ProveItLink\" href=\"../c54a00cfc91650ea95eabd042707269749237e5d0/expr.ipynb\"><img src=\"../c54a00cfc91650ea95eabd042707269749237e5d0/expr.png\" style=\"display:inline;vertical-align:middle;\" /></a></td></tr>\n",
       "<tr><td>15</td><td>Literal</td><td></td><td><a class=\"ProveItLink\" href=\"../../../../absolute_value/__pv_it/common/6430f141f5f0b9665d136ab5dd21c24f48b3a19c0/expr.ipynb\"><img src=\"../../../../absolute_value/__pv_it/common/6430f141f5f0b9665d136ab5dd21c24f48b3a19c0/expr.png\" style=\"display:inline;vertical-align:middle;\" /></a></td></tr>\n",
       "<tr><td>16</td><td>ExprTuple</td><td>21</td><td><a class=\"ProveItLink\" href=\"../74a7ec22d2ebaab8e0136fda8eaf6eee53b411840/expr.ipynb\"><img src=\"../74a7ec22d2ebaab8e0136fda8eaf6eee53b411840/expr.png\" style=\"display:inline;vertical-align:middle;\" /></a></td></tr>\n",
       "<tr><td>17</td><td>ExprTuple</td><td>33, 22</td><td><a class=\"ProveItLink\" href=\"../55bef9982c7867f2ba0ff0e7b2f4477175e2b1970/expr.ipynb\"><img src=\"../55bef9982c7867f2ba0ff0e7b2f4477175e2b1970/expr.png\" style=\"display:inline;vertical-align:middle;\" /></a></td></tr>\n",
       "<tr><td>18</td><td>Literal</td><td></td><td><a class=\"ProveItLink\" href=\"../../../../../logic/sets/membership/__pv_it/common/7171deca84f71f47a6ec7696972d1632274a12880/expr.ipynb\"><img src=\"../../../../../logic/sets/membership/__pv_it/common/7171deca84f71f47a6ec7696972d1632274a12880/expr.png\" style=\"display:inline;vertical-align:middle;\" /></a></td></tr>\n",
       "<tr><td>19</td><td>ExprTuple</td><td>28, 23</td><td><a class=\"ProveItLink\" href=\"../4a7d1335b24ad5b56064778ead3da182f0d00cf20/expr.ipynb\"><img src=\"../4a7d1335b24ad5b56064778ead3da182f0d00cf20/expr.png\" style=\"display:inline;vertical-align:middle;\" /></a></td></tr>\n",
       "<tr><td>20</td><td>Operation</td><td>operator:&nbsp;25<br>operands:&nbsp;24<br></td><td><a class=\"ProveItLink\" href=\"../3e7045f48fcf27505c1430c2d54abcd0ad2df4710/expr.ipynb\"><img src=\"../3e7045f48fcf27505c1430c2d54abcd0ad2df4710/expr.png\" style=\"display:inline;vertical-align:middle;\" /></a></td></tr>\n",
       "<tr><td>21</td><td>Operation</td><td>operator:&nbsp;25<br>operands:&nbsp;26<br></td><td><a class=\"ProveItLink\" href=\"../1ee6277eb7345c21f15dc0ccc2a408694f4832b40/expr.ipynb\"><img src=\"../1ee6277eb7345c21f15dc0ccc2a408694f4832b40/expr.png\" style=\"display:inline;vertical-align:middle;\" /></a></td></tr>\n",
       "<tr><td>22</td><td>Literal</td><td></td><td><a class=\"ProveItLink\" href=\"../../../../number_sets/real_numbers/__pv_it/common/3eaf53c11933bb30b35e82c24807c695de530cf10/expr.ipynb\"><img src=\"../../../../number_sets/real_numbers/__pv_it/common/3eaf53c11933bb30b35e82c24807c695de530cf10/expr.png\" style=\"display:inline;vertical-align:middle;\" /></a></td></tr>\n",
       "<tr><td>23</td><td>Literal</td><td></td><td><a class=\"ProveItLink\" href=\"../../../../number_sets/integers/__pv_it/common/21b035fc94b1f20bfb5161d2c7bd6eb2042cc5670/expr.ipynb\"><img src=\"../../../../number_sets/integers/__pv_it/common/21b035fc94b1f20bfb5161d2c7bd6eb2042cc5670/expr.png\" style=\"display:inline;vertical-align:middle;\" /></a></td></tr>\n",
       "<tr><td>24</td><td>ExprTuple</td><td>27, 29</td><td><a class=\"ProveItLink\" href=\"../253ec9b888c4a56f3fed778501177a8e7c6b1bc40/expr.ipynb\"><img src=\"../253ec9b888c4a56f3fed778501177a8e7c6b1bc40/expr.png\" style=\"display:inline;vertical-align:middle;\" /></a></td></tr>\n",
       "<tr><td>25</td><td>Literal</td><td></td><td><a class=\"ProveItLink\" href=\"../../../../addition/__pv_it/common/1f38fe5cce441387feef296e2c0a2eac260bb4f30/expr.ipynb\"><img src=\"../../../../addition/__pv_it/common/1f38fe5cce441387feef296e2c0a2eac260bb4f30/expr.png\" style=\"display:inline;vertical-align:middle;\" /></a></td></tr>\n",
       "<tr><td>26</td><td>ExprTuple</td><td>28, 29</td><td><a class=\"ProveItLink\" href=\"../ecdae5c4fc4ae47cfa73ba149af0a0d193628ff60/expr.ipynb\"><img src=\"../ecdae5c4fc4ae47cfa73ba149af0a0d193628ff60/expr.png\" style=\"display:inline;vertical-align:middle;\" /></a></td></tr>\n",
       "<tr><td>27</td><td>Operation</td><td>operator:&nbsp;30<br>operand:&nbsp;33<br></td><td><a class=\"ProveItLink\" href=\"../4470ced387475eb15c135df1752252474da056d30/expr.ipynb\"><img src=\"../4470ced387475eb15c135df1752252474da056d30/expr.png\" style=\"display:inline;vertical-align:middle;\" /></a></td></tr>\n",
       "<tr><td>28</td><td>Variable</td><td></td><td><a class=\"ProveItLink\" href=\"../../../../../__pv_it/common/0f21cbfd5644a1cae6781c1d58354abc2ffbc9000/expr.ipynb\"><img src=\"../../../../../__pv_it/common/0f21cbfd5644a1cae6781c1d58354abc2ffbc9000/expr.png\" style=\"display:inline;vertical-align:middle;\" /></a></td></tr>\n",
       "<tr><td>29</td><td>Operation</td><td>operator:&nbsp;31<br>operand:&nbsp;33<br></td><td><a class=\"ProveItLink\" href=\"../7a5e0bad469147729b85543441158feb65dbfdf80/expr.ipynb\"><img src=\"../7a5e0bad469147729b85543441158feb65dbfdf80/expr.png\" style=\"display:inline;vertical-align:middle;\" /></a></td></tr>\n",
       "<tr><td>30</td><td>Literal</td><td></td><td><a class=\"ProveItLink\" href=\"../../common/4e7e657ae1979e9bae0b732250839ad716134a750/expr.ipynb\"><img src=\"../../common/4e7e657ae1979e9bae0b732250839ad716134a750/expr.png\" style=\"display:inline;vertical-align:middle;\" /></a></td></tr>\n",
       "<tr><td>31</td><td>Literal</td><td></td><td><a class=\"ProveItLink\" href=\"../../../../negation/__pv_it/common/31a69a5c76809537045e3884859f178d8d9c845c0/expr.ipynb\"><img src=\"../../../../negation/__pv_it/common/31a69a5c76809537045e3884859f178d8d9c845c0/expr.png\" style=\"display:inline;vertical-align:middle;\" /></a></td></tr>\n",
       "<tr><td>32</td><td>ExprTuple</td><td>33</td><td><a class=\"ProveItLink\" href=\"../../../../../__pv_it/common/a49c8f25f899a16b1dbcf2257505d5464a9a7bb50/expr.ipynb\"><img src=\"../../../../../__pv_it/common/a49c8f25f899a16b1dbcf2257505d5464a9a7bb50/expr.png\" style=\"display:inline;vertical-align:middle;\" /></a></td></tr>\n",
       "<tr><td>33</td><td>Variable</td><td></td><td><a class=\"ProveItLink\" href=\"../../../../../__pv_it/common/a2581dc5df71d9a30bad37de14965fa5fec97a240/expr.ipynb\"><img src=\"../../../../../__pv_it/common/a2581dc5df71d9a30bad37de14965fa5fec97a240/expr.png\" style=\"display:inline;vertical-align:middle;\" /></a></td></tr>\n",
       "</table>\n"
      ],
      "text/plain": [
       "0. ((x, y) -> {|round(x) - x| <= |y - x| if x in Real ,  y in Integer.)\n",
       "   core type: ExprTuple\n",
       "   sub-expressions: 1\n",
       "1. (x, y) -> {|round(x) - x| <= |y - x| if x in Real ,  y in Integer.\n",
       "   core type: Lambda\n",
       "   parameters: 2\\n   body: 3\n",
       "2. (x, y)\n",
       "   core type: ExprTuple\n",
       "   sub-expressions: 33, 28\n",
       "3. {|round(x) - x| <= |y - x| if x in Real ,  y in Integer.\n",
       "   core type: Conditional\n",
       "   value: 4\n",
       "   condition: 5\n",
       "4. |round(x) - x| <= |y - x|\n",
       "   core type: Operation\n",
       "   operator: 6\n",
       "   operands: 7\n",
       "5. (x in Real) and (y in Integer)\n",
       "   core type: Operation\n",
       "   operator: 8\n",
       "   operands: 9\n",
       "6. <=\n",
       "   core type: Literal\n",
       "   sub-expressions: \n",
       "7. (|round(x) - x|, |y - x|)\n",
       "   core type: ExprTuple\n",
       "   sub-expressions: 10, 11\n",
       "8. and\n",
       "   core type: Literal\n",
       "   sub-expressions: \n",
       "9. (x in Real, y in Integer)\n",
       "   core type: ExprTuple\n",
       "   sub-expressions: 12, 13\n",
       "10. |round(x) - x|\n",
       "    core type: Operation\n",
       "    operator: 15\n",
       "    operand: 20\n",
       "11. |y - x|\n",
       "    core type: Operation\n",
       "    operator: 15\n",
       "    operand: 21\n",
       "12. x in Real\n",
       "    core type: Operation\n",
       "    operator: 18\n",
       "    operands: 17\n",
       "13. y in Integer\n",
       "    core type: Operation\n",
       "    operator: 18\n",
       "    operands: 19\n",
       "14. (round(x) - x)\n",
       "    core type: ExprTuple\n",
       "    sub-expressions: 20\n",
       "15. Abs\n",
       "    core type: Literal\n",
       "    sub-expressions: \n",
       "16. (y - x)\n",
       "    core type: ExprTuple\n",
       "    sub-expressions: 21\n",
       "17. (x, Real)\n",
       "    core type: ExprTuple\n",
       "    sub-expressions: 33, 22\n",
       "18. in\n",
       "    core type: Literal\n",
       "    sub-expressions: \n",
       "19. (y, Integer)\n",
       "    core type: ExprTuple\n",
       "    sub-expressions: 28, 23\n",
       "20. round(x) - x\n",
       "    core type: Operation\n",
       "    operator: 25\n",
       "    operands: 24\n",
       "21. y - x\n",
       "    core type: Operation\n",
       "    operator: 25\n",
       "    operands: 26\n",
       "22. Real\n",
       "    core type: Literal\n",
       "    sub-expressions: \n",
       "23. Integer\n",
       "    core type: Literal\n",
       "    sub-expressions: \n",
       "24. (round(x), -x)\n",
       "    core type: ExprTuple\n",
       "    sub-expressions: 27, 29\n",
       "25. +\n",
       "    core type: Literal\n",
       "    sub-expressions: \n",
       "26. (y, -x)\n",
       "    core type: ExprTuple\n",
       "    sub-expressions: 28, 29\n",
       "27. round(x)\n",
       "    core type: Operation\n",
       "    operator: 30\n",
       "    operand: 33\n",
       "28. y\n",
       "    core type: Variable\n",
       "    sub-expressions: \n",
       "29. -x\n",
       "    core type: Operation\n",
       "    operator: 31\n",
       "    operand: 33\n",
       "30. round\n",
       "    core type: Literal\n",
       "    sub-expressions: \n",
       "31. -\n",
       "    core type: Literal\n",
       "    sub-expressions: \n",
       "32. (x)\n",
       "    core type: ExprTuple\n",
       "    sub-expressions: 33\n",
       "33. x\n",
       "    core type: Variable\n",
       "    sub-expressions: "
      ]
     },
     "execution_count": 6,
     "metadata": {},
     "output_type": "execute_result"
    }
   ],
   "source": [
    "# display the expression information\n",
    "expr.expr_info()"
   ]
  },
  {
   "cell_type": "code",
   "execution_count": null,
   "metadata": {},
   "outputs": [],
   "source": []
  }
 ],
 "metadata": {
  "kernelspec": {
   "display_name": "Python 3",
   "language": "python",
   "name": "python3"
  }
 },
 "nbformat": 4,
 "nbformat_minor": 0
}