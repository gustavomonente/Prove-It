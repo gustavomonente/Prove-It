{
 "cells": [
  {
   "cell_type": "markdown",
   "metadata": {},
   "source": [
    "Expression of type <a class=\"ProveItLink\" href=\"../../../../../../../doc/html/api/proveit.logic.And.html\">And</a>\n",
    "=======================\n",
    "# from the theory of <a class=\"ProveItLink\" href=\"../../../_theory_nbs_/theory.ipynb\">proveit.numbers.rounding</a>"
   ]
  },
  {
   "cell_type": "code",
   "execution_count": 1,
   "metadata": {},
   "outputs": [],
   "source": [
    "import proveit\n",
    "# Automation is not needed when building an expression:\n",
    "proveit.defaults.automation = False # This will speed things up.\n",
    "proveit.defaults.inline_pngs = False # Makes files smaller.\n",
    "%load_expr # Load the stored expression as 'stored_expr'\n",
    "# import Expression classes needed to build the expression\n",
    "from proveit import x\n",
    "from proveit.logic import And, Equals, InSet\n",
    "from proveit.numbers import Add, Ceil, Floor, Neg, Real"
   ]
  },
  {
   "cell_type": "code",
   "execution_count": 2,
   "metadata": {},
   "outputs": [
    {
     "data": {
      "text/html": [
       "<strong id=\"expr\">expr:</strong> <a class=\"ProveItLink\" href=\"expr.ipynb\"><img src=\"expr.png\" style=\"display:inline;vertical-align:middle;\" /></a><br>"
      ],
      "text/plain": [
       "expr: (x in Real) and ((x - floor(x)) = (ceil(x) - x))"
      ]
     },
     "execution_count": 2,
     "metadata": {},
     "output_type": "execute_result"
    }
   ],
   "source": [
    "# build up the expression from sub-expressions\n",
    "expr = And(InSet(x, Real), Equals(Add(x, Neg(Floor(x))), Add(Ceil(x), Neg(x))))"
   ]
  },
  {
   "cell_type": "code",
   "execution_count": 3,
   "metadata": {},
   "outputs": [
    {
     "name": "stdout",
     "output_type": "stream",
     "text": [
      "Passed sanity check: expr matches stored_expr\n"
     ]
    }
   ],
   "source": [
    "# check that the built expression is the same as the stored expression\n",
    "assert expr == stored_expr\n",
    "assert expr._style_id == stored_expr._style_id\n",
    "print(\"Passed sanity check: expr matches stored_expr\")"
   ]
  },
  {
   "cell_type": "code",
   "execution_count": 4,
   "metadata": {},
   "outputs": [
    {
     "name": "stdout",
     "output_type": "stream",
     "text": [
      "\\left(x \\in \\mathbb{R}\\right) \\land \\left(\\left(x - \\lfloor x\\rfloor\\right) = \\left(\\lceil x\\rceil - x\\right)\\right)\n"
     ]
    }
   ],
   "source": [
    "# Show the LaTeX representation of the expression for convenience if you need it.\n",
    "print(expr.latex())"
   ]
  },
  {
   "cell_type": "code",
   "execution_count": 5,
   "metadata": {},
   "outputs": [
    {
     "data": {
      "text/html": [
       "<table><tr><th>&nbsp;</th><th>core type</th><th>sub-expressions</th><th>expression</th></tr>\n",
       "<tr><td>0</td><td>Operation</td><td>operator:&nbsp;1<br>operands:&nbsp;2<br></td><td><a class=\"ProveItLink\" href=\"expr.ipynb\"><img src=\"expr.png\" style=\"display:inline;vertical-align:middle;\" /></a></td></tr>\n",
       "<tr><td>1</td><td>Literal</td><td></td><td><a class=\"ProveItLink\" href=\"../../../../../logic/booleans/conjunction/__pv_it/common/42118ff318bd65d98b1393f64ce7c2269feef76e0/expr.ipynb\"><img src=\"../../../../../logic/booleans/conjunction/__pv_it/common/42118ff318bd65d98b1393f64ce7c2269feef76e0/expr.png\" style=\"display:inline;vertical-align:middle;\" /></a></td></tr>\n",
       "<tr><td>2</td><td>ExprTuple</td><td>3, 4</td><td><a class=\"ProveItLink\" href=\"../a1b81822100c80993106dfd5a7cd6f65dd3871210/expr.ipynb\"><img src=\"../a1b81822100c80993106dfd5a7cd6f65dd3871210/expr.png\" style=\"display:inline;vertical-align:middle;\" /></a></td></tr>\n",
       "<tr><td>3</td><td>Operation</td><td>operator:&nbsp;5<br>operands:&nbsp;6<br></td><td><a class=\"ProveItLink\" href=\"../02bd6ad73acd9f4d3192ee4c61bfdcabbff20f180/expr.ipynb\"><img src=\"../02bd6ad73acd9f4d3192ee4c61bfdcabbff20f180/expr.png\" style=\"display:inline;vertical-align:middle;\" /></a></td></tr>\n",
       "<tr><td>4</td><td>Operation</td><td>operator:&nbsp;7<br>operands:&nbsp;8<br></td><td><a class=\"ProveItLink\" href=\"../4dc5b5cb26df21e258d82fb82d7dc482af858d530/expr.ipynb\"><img src=\"../4dc5b5cb26df21e258d82fb82d7dc482af858d530/expr.png\" style=\"display:inline;vertical-align:middle;\" /></a></td></tr>\n",
       "<tr><td>5</td><td>Literal</td><td></td><td><a class=\"ProveItLink\" href=\"../../../../../logic/sets/membership/__pv_it/common/477487d8796864d23d5810f83761435f25167f690/expr.ipynb\"><img src=\"../../../../../logic/sets/membership/__pv_it/common/477487d8796864d23d5810f83761435f25167f690/expr.png\" style=\"display:inline;vertical-align:middle;\" /></a></td></tr>\n",
       "<tr><td>6</td><td>ExprTuple</td><td>22, 9</td><td><a class=\"ProveItLink\" href=\"../e01334b6bbdba98f1cfc9205f70e5f594e02e2f50/expr.ipynb\"><img src=\"../e01334b6bbdba98f1cfc9205f70e5f594e02e2f50/expr.png\" style=\"display:inline;vertical-align:middle;\" /></a></td></tr>\n",
       "<tr><td>7</td><td>Literal</td><td></td><td><a class=\"ProveItLink\" href=\"../../../../../logic/equality/__pv_it/common/fb96dc12b2aa8801dda64d0132b396c63d1502bb0/expr.ipynb\"><img src=\"../../../../../logic/equality/__pv_it/common/fb96dc12b2aa8801dda64d0132b396c63d1502bb0/expr.png\" style=\"display:inline;vertical-align:middle;\" /></a></td></tr>\n",
       "<tr><td>8</td><td>ExprTuple</td><td>10, 11</td><td><a class=\"ProveItLink\" href=\"../7ff1e73e0be325ec4cbf8108ea143c1b571485d30/expr.ipynb\"><img src=\"../7ff1e73e0be325ec4cbf8108ea143c1b571485d30/expr.png\" style=\"display:inline;vertical-align:middle;\" /></a></td></tr>\n",
       "<tr><td>9</td><td>Literal</td><td></td><td><a class=\"ProveItLink\" href=\"../../../../number_sets/real_numbers/__pv_it/common/93cac87a1a47e613f7a83b23ef7891599a1a4cca0/expr.ipynb\"><img src=\"../../../../number_sets/real_numbers/__pv_it/common/93cac87a1a47e613f7a83b23ef7891599a1a4cca0/expr.png\" style=\"display:inline;vertical-align:middle;\" /></a></td></tr>\n",
       "<tr><td>10</td><td>Operation</td><td>operator:&nbsp;13<br>operands:&nbsp;12<br></td><td><a class=\"ProveItLink\" href=\"../9a12e0b6265b4a00e99a2bc2c3d45b46e32812fe0/expr.ipynb\"><img src=\"../9a12e0b6265b4a00e99a2bc2c3d45b46e32812fe0/expr.png\" style=\"display:inline;vertical-align:middle;\" /></a></td></tr>\n",
       "<tr><td>11</td><td>Operation</td><td>operator:&nbsp;13<br>operands:&nbsp;14<br></td><td><a class=\"ProveItLink\" href=\"../31fa2c934cd6ae0d5c4979c3cc84c316ded9c18d0/expr.ipynb\"><img src=\"../31fa2c934cd6ae0d5c4979c3cc84c316ded9c18d0/expr.png\" style=\"display:inline;vertical-align:middle;\" /></a></td></tr>\n",
       "<tr><td>12</td><td>ExprTuple</td><td>22, 15</td><td><a class=\"ProveItLink\" href=\"../21baba88d9bcab292ccb59e9d3207b65cfe483a50/expr.ipynb\"><img src=\"../21baba88d9bcab292ccb59e9d3207b65cfe483a50/expr.png\" style=\"display:inline;vertical-align:middle;\" /></a></td></tr>\n",
       "<tr><td>13</td><td>Literal</td><td></td><td><a class=\"ProveItLink\" href=\"../../../../addition/__pv_it/common/4b7effaab3619a1c2c38fe2dee8601df8ec714590/expr.ipynb\"><img src=\"../../../../addition/__pv_it/common/4b7effaab3619a1c2c38fe2dee8601df8ec714590/expr.png\" style=\"display:inline;vertical-align:middle;\" /></a></td></tr>\n",
       "<tr><td>14</td><td>ExprTuple</td><td>16, 17</td><td><a class=\"ProveItLink\" href=\"../ff74850786b1824e4226739b4d680b4c31c9dd5b0/expr.ipynb\"><img src=\"../ff74850786b1824e4226739b4d680b4c31c9dd5b0/expr.png\" style=\"display:inline;vertical-align:middle;\" /></a></td></tr>\n",
       "<tr><td>15</td><td>Operation</td><td>operator:&nbsp;20<br>operand:&nbsp;18<br></td><td><a class=\"ProveItLink\" href=\"../b5ed6be6bed910637b85f19f95d64d0e3261e20d0/expr.ipynb\"><img src=\"../b5ed6be6bed910637b85f19f95d64d0e3261e20d0/expr.png\" style=\"display:inline;vertical-align:middle;\" /></a></td></tr>\n",
       "<tr><td>16</td><td>Operation</td><td>operator:&nbsp;19<br>operand:&nbsp;22<br></td><td><a class=\"ProveItLink\" href=\"../866826d275e48923b337c8bb1c4b3105379c8dc70/expr.ipynb\"><img src=\"../866826d275e48923b337c8bb1c4b3105379c8dc70/expr.png\" style=\"display:inline;vertical-align:middle;\" /></a></td></tr>\n",
       "<tr><td>17</td><td>Operation</td><td>operator:&nbsp;20<br>operand:&nbsp;22<br></td><td><a class=\"ProveItLink\" href=\"../45f3a415efa9e5e90ec189b4e68f5e213efc834a0/expr.ipynb\"><img src=\"../45f3a415efa9e5e90ec189b4e68f5e213efc834a0/expr.png\" style=\"display:inline;vertical-align:middle;\" /></a></td></tr>\n",
       "<tr><td>18</td><td>Operation</td><td>operator:&nbsp;21<br>operand:&nbsp;22<br></td><td><a class=\"ProveItLink\" href=\"../f5f0fcae575e8165609da754e09312e1828413770/expr.ipynb\"><img src=\"../f5f0fcae575e8165609da754e09312e1828413770/expr.png\" style=\"display:inline;vertical-align:middle;\" /></a></td></tr>\n",
       "<tr><td>19</td><td>Literal</td><td></td><td><a class=\"ProveItLink\" href=\"../../common/468bbdabad0328579afc2777e0e196d5e9a2f5740/expr.ipynb\"><img src=\"../../common/468bbdabad0328579afc2777e0e196d5e9a2f5740/expr.png\" style=\"display:inline;vertical-align:middle;\" /></a></td></tr>\n",
       "<tr><td>20</td><td>Literal</td><td></td><td><a class=\"ProveItLink\" href=\"../../../../negation/__pv_it/common/221b3c4d1770ee9051b7c044c3f9ec61196fc34b0/expr.ipynb\"><img src=\"../../../../negation/__pv_it/common/221b3c4d1770ee9051b7c044c3f9ec61196fc34b0/expr.png\" style=\"display:inline;vertical-align:middle;\" /></a></td></tr>\n",
       "<tr><td>21</td><td>Literal</td><td></td><td><a class=\"ProveItLink\" href=\"../../common/6c084083358c4fee8d4be9f66e84060cea5608e90/expr.ipynb\"><img src=\"../../common/6c084083358c4fee8d4be9f66e84060cea5608e90/expr.png\" style=\"display:inline;vertical-align:middle;\" /></a></td></tr>\n",
       "<tr><td>22</td><td>Variable</td><td></td><td><a class=\"ProveItLink\" href=\"../../../../../__pv_it/common/a0d9d672aa5e272d907247690c152cc2c6daafb70/expr.ipynb\"><img src=\"../../../../../__pv_it/common/a0d9d672aa5e272d907247690c152cc2c6daafb70/expr.png\" style=\"display:inline;vertical-align:middle;\" /></a></td></tr>\n",
       "</table>\n"
      ],
      "text/plain": [
       "0. (x in Real) and ((x - floor(x)) = (ceil(x) - x))\n",
       "   core type: Operation\n",
       "   operator: 1\n",
       "   operands: 2\n",
       "1. and\n",
       "   core type: Literal\n",
       "   sub-expressions: \n",
       "2. (x in Real, (x - floor(x)) = (ceil(x) - x))\n",
       "   core type: ExprTuple\n",
       "   sub-expressions: 3, 4\n",
       "3. x in Real\n",
       "   core type: Operation\n",
       "   operator: 5\n",
       "   operands: 6\n",
       "4. (x - floor(x)) = (ceil(x) - x)\n",
       "   core type: Operation\n",
       "   operator: 7\n",
       "   operands: 8\n",
       "5. in\n",
       "   core type: Literal\n",
       "   sub-expressions: \n",
       "6. (x, Real)\n",
       "   core type: ExprTuple\n",
       "   sub-expressions: 22, 9\n",
       "7. =\n",
       "   core type: Literal\n",
       "   sub-expressions: \n",
       "8. (x - floor(x), ceil(x) - x)\n",
       "   core type: ExprTuple\n",
       "   sub-expressions: 10, 11\n",
       "9. Real\n",
       "   core type: Literal\n",
       "   sub-expressions: \n",
       "10. x - floor(x)\n",
       "    core type: Operation\n",
       "    operator: 13\n",
       "    operands: 12\n",
       "11. ceil(x) - x\n",
       "    core type: Operation\n",
       "    operator: 13\n",
       "    operands: 14\n",
       "12. (x, -floor(x))\n",
       "    core type: ExprTuple\n",
       "    sub-expressions: 22, 15\n",
       "13. +\n",
       "    core type: Literal\n",
       "    sub-expressions: \n",
       "14. (ceil(x), -x)\n",
       "    core type: ExprTuple\n",
       "    sub-expressions: 16, 17\n",
       "15. -floor(x)\n",
       "    core type: Operation\n",
       "    operator: 20\n",
       "    operand: 18\n",
       "16. ceil(x)\n",
       "    core type: Operation\n",
       "    operator: 19\n",
       "    operand: 22\n",
       "17. -x\n",
       "    core type: Operation\n",
       "    operator: 20\n",
       "    operand: 22\n",
       "18. floor(x)\n",
       "    core type: Operation\n",
       "    operator: 21\n",
       "    operand: 22\n",
       "19. ceil\n",
       "    core type: Literal\n",
       "    sub-expressions: \n",
       "20. -\n",
       "    core type: Literal\n",
       "    sub-expressions: \n",
       "21. floor\n",
       "    core type: Literal\n",
       "    sub-expressions: \n",
       "22. x\n",
       "    core type: Variable\n",
       "    sub-expressions: "
      ]
     },
     "execution_count": 5,
     "metadata": {},
     "output_type": "execute_result"
    }
   ],
   "source": [
    "# display the expression information\n",
    "expr.expr_info()"
   ]
  },
  {
   "cell_type": "code",
   "execution_count": null,
   "metadata": {},
   "outputs": [],
   "source": []
  }
 ],
 "metadata": {
  "kernelspec": {
   "display_name": "Python 3",
   "language": "python",
   "name": "python3"
  }
 },
 "nbformat": 4,
 "nbformat_minor": 0
}