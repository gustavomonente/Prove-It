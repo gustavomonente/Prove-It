{
 "cells": [
  {
   "cell_type": "markdown",
   "metadata": {},
   "source": [
    "Expression of type <a class=\"ProveItLink\" href=\"../../../../../../../doc/html/api/proveit.logic.Forall.html\">Forall</a>\n",
    "=======================\n",
    "# from the theory of <a class=\"ProveItLink\" href=\"../../../_theory_nbs_/theory.ipynb\">proveit.numbers.summation</a>"
   ]
  },
  {
   "cell_type": "code",
   "execution_count": 1,
   "metadata": {},
   "outputs": [],
   "source": [
    "import proveit\n",
    "# Automation is not needed when building an expression:\n",
    "proveit.defaults.automation = False # This will speed things up.\n",
    "proveit.defaults.inline_pngs = False # Makes files smaller.\n",
    "%load_expr # Load the stored expression as 'stored_expr'\n",
    "# import Expression classes needed to build the expression\n",
    "from proveit import S, a, b, k, l\n",
    "from proveit.core_expr_types import Len\n",
    "from proveit.logic import Forall, Implies\n",
    "from proveit.numbers import Less, Sum, greater, zero\n",
    "from proveit.numbers.summation import ak, al, bk, bl"
   ]
  },
  {
   "cell_type": "code",
   "execution_count": 2,
   "metadata": {},
   "outputs": [
    {
     "data": {
      "text/html": [
       "<strong id=\"expr\">expr:</strong> <a class=\"ProveItLink\" href=\"expr.ipynb\"><img src=\"expr.png\" style=\"display:inline;vertical-align:middle;\" /></a><br>"
      ],
      "text/plain": [
       "expr: forall_{a, b, S | |S| > 0} ([forall_{k in S} (a(k) < b(k))] => (Sum_{l in S} a(l) < Sum_{l in S} b(l)))"
      ]
     },
     "execution_count": 2,
     "metadata": {},
     "output_type": "execute_result"
    }
   ],
   "source": [
    "# build up the expression from sub-expressions\n",
    "sub_expr1 = [S]\n",
    "sub_expr2 = [l]\n",
    "expr = Forall([a, b, S], Implies(Forall([k], Less(ak, bk), domains = sub_expr1), Less(Sum(sub_expr2, al, domains = sub_expr1), Sum(sub_expr2, bl, domains = sub_expr1))), condition = greater(Len(S), zero))"
   ]
  },
  {
   "cell_type": "code",
   "execution_count": 3,
   "metadata": {},
   "outputs": [
    {
     "name": "stdout",
     "output_type": "stream",
     "text": [
      "Passed sanity check: expr matches stored_expr\n"
     ]
    }
   ],
   "source": [
    "# check that the built expression is the same as the stored expression\n",
    "assert expr == stored_expr\n",
    "assert expr._style_id == stored_expr._style_id\n",
    "print(\"Passed sanity check: expr matches stored_expr\")"
   ]
  },
  {
   "cell_type": "code",
   "execution_count": 4,
   "metadata": {},
   "outputs": [
    {
     "name": "stdout",
     "output_type": "stream",
     "text": [
      "\\forall_{a, b, S~|~|S| > 0}~\\left(\\left[\\forall_{k \\in S}~\\left(a(k) < b(k)\\right)\\right] \\Rightarrow \\left(\\sum_{l \\in S}~a(l) < \\sum_{l \\in S}~b(l)\\right)\\right)\n"
     ]
    }
   ],
   "source": [
    "# Show the LaTeX representation of the expression for convenience if you need it.\n",
    "print(expr.latex())"
   ]
  },
  {
   "cell_type": "code",
   "execution_count": 5,
   "metadata": {},
   "outputs": [
    {
     "data": {
      "text/html": [
       "<table>\n",
       "<tr><th>name</th><th>description</th><th>default</th><th>current value</th><th>related methods</th></tr><tr><td>with_wrapping</td><td>If 'True', wrap the Expression after the parameters</td><td>None</td><td>None/False</td><td>('with_wrapping',)</td></tr>\n",
       "<tr><td>wrap_params</td><td>If 'True', wraps every two parameters AND wraps the Expression after the parameters</td><td>None</td><td>None/False</td><td>('with_params',)</td></tr>\n",
       "<tr><td>justification</td><td>justify to the 'left', 'center', or 'right' in the array cells</td><td>center</td><td>center</td><td>('with_justification',)</td></tr>\n",
       "</table>\n"
      ],
      "text/plain": [
       "style name: with_wrapping\n",
       "description: If 'True', wrap the Expression after the parameters\n",
       "default: None\n",
       "current value: None/False\n",
       "related methods: ('with_wrapping',)\n",
       "style name: wrap_params\n",
       "description: If 'True', wraps every two parameters AND wraps the Expression after the parameters\n",
       "default: None\n",
       "current value: None/False\n",
       "related methods: ('with_params',)\n",
       "style name: justification\n",
       "description: justify to the 'left', 'center', or 'right' in the array cells\n",
       "default: center\n",
       "current value: center\n",
       "related methods: ('with_justification',)"
      ]
     },
     "execution_count": 5,
     "metadata": {},
     "output_type": "execute_result"
    }
   ],
   "source": [
    "expr.style_options()"
   ]
  },
  {
   "cell_type": "code",
   "execution_count": 6,
   "metadata": {},
   "outputs": [
    {
     "data": {
      "text/html": [
       "<table><tr><th>&nbsp;</th><th>core type</th><th>sub-expressions</th><th>expression</th></tr>\n",
       "<tr><td>0</td><td>Operation</td><td>operator:&nbsp;14<br>operand:&nbsp;2<br></td><td><a class=\"ProveItLink\" href=\"expr.ipynb\"><img src=\"expr.png\" style=\"display:inline;vertical-align:middle;\" /></a></td></tr>\n",
       "<tr><td>1</td><td>ExprTuple</td><td>2</td><td><a class=\"ProveItLink\" href=\"../ce3b3d2b4f0d60ebda89bdb3e18d3765ea0111a30/expr.ipynb\"><img src=\"../ce3b3d2b4f0d60ebda89bdb3e18d3765ea0111a30/expr.png\" style=\"display:inline;vertical-align:middle;\" /></a></td></tr>\n",
       "<tr><td>2</td><td>Lambda</td><td>parameters:&nbsp;3<br>body:&nbsp;4<br></td><td><a class=\"ProveItLink\" href=\"../f8430824783f5a0ca50c6e7cd0f3411b610062ae0/expr.ipynb\"><img src=\"../f8430824783f5a0ca50c6e7cd0f3411b610062ae0/expr.png\" style=\"display:inline;vertical-align:middle;\" /></a></td></tr>\n",
       "<tr><td>3</td><td>ExprTuple</td><td>41, 42, 48</td><td><a class=\"ProveItLink\" href=\"../9081b7963bfd11f76b46ab7f4346df041c5d1a7b0/expr.ipynb\"><img src=\"../9081b7963bfd11f76b46ab7f4346df041c5d1a7b0/expr.png\" style=\"display:inline;vertical-align:middle;\" /></a></td></tr>\n",
       "<tr><td>4</td><td>Conditional</td><td>value:&nbsp;5<br>condition:&nbsp;6<br></td><td><a class=\"ProveItLink\" href=\"../169d5a5102fdcd4a0fbc19872df91dd7e54b6c950/expr.ipynb\"><img src=\"../169d5a5102fdcd4a0fbc19872df91dd7e54b6c950/expr.png\" style=\"display:inline;vertical-align:middle;\" /></a></td></tr>\n",
       "<tr><td>5</td><td>Operation</td><td>operator:&nbsp;7<br>operands:&nbsp;8<br></td><td><a class=\"ProveItLink\" href=\"../7d9befbcf3220119324875d6375a74062479d7150/expr.ipynb\"><img src=\"../7d9befbcf3220119324875d6375a74062479d7150/expr.png\" style=\"display:inline;vertical-align:middle;\" /></a></td></tr>\n",
       "<tr><td>6</td><td>Operation</td><td>operator:&nbsp;30<br>operands:&nbsp;9<br></td><td><a class=\"ProveItLink\" href=\"../c95657b1c99030a85c64697dea5973621db66fa90/expr.ipynb\"><img src=\"../c95657b1c99030a85c64697dea5973621db66fa90/expr.png\" style=\"display:inline;vertical-align:middle;\" /></a></td></tr>\n",
       "<tr><td>7</td><td>Literal</td><td></td><td><a class=\"ProveItLink\" href=\"../../../../../logic/booleans/implication/__pv_it/common/95a8cc69d34af52c7732e4a6fefbd5b63e8d31ba0/expr.ipynb\"><img src=\"../../../../../logic/booleans/implication/__pv_it/common/95a8cc69d34af52c7732e4a6fefbd5b63e8d31ba0/expr.png\" style=\"display:inline;vertical-align:middle;\" /></a></td></tr>\n",
       "<tr><td>8</td><td>ExprTuple</td><td>10, 11</td><td><a class=\"ProveItLink\" href=\"../d879a4639a1bc7c0d79fc539e86609cd436bd1400/expr.ipynb\"><img src=\"../d879a4639a1bc7c0d79fc539e86609cd436bd1400/expr.png\" style=\"display:inline;vertical-align:middle;\" /></a></td></tr>\n",
       "<tr><td>9</td><td>ExprTuple</td><td>12, 13</td><td><a class=\"ProveItLink\" href=\"../313bf1ede198b705b1c48311f993baef38176ef10/expr.ipynb\"><img src=\"../313bf1ede198b705b1c48311f993baef38176ef10/expr.png\" style=\"display:inline;vertical-align:middle;\" /></a></td></tr>\n",
       "<tr><td>10</td><td>Operation</td><td>operator:&nbsp;14<br>operand:&nbsp;19<br></td><td><a class=\"ProveItLink\" href=\"../04621fa50e1add7a1ad25a035ec95291ab588cc20/expr.ipynb\"><img src=\"../04621fa50e1add7a1ad25a035ec95291ab588cc20/expr.png\" style=\"display:inline;vertical-align:middle;\" /></a></td></tr>\n",
       "<tr><td>11</td><td>Operation</td><td>operator:&nbsp;30<br>operands:&nbsp;16<br></td><td><a class=\"ProveItLink\" href=\"../35bd635c45f088e56f7cf80e5f31dc241c582c2a0/expr.ipynb\"><img src=\"../35bd635c45f088e56f7cf80e5f31dc241c582c2a0/expr.png\" style=\"display:inline;vertical-align:middle;\" /></a></td></tr>\n",
       "<tr><td>12</td><td>Literal</td><td></td><td><a class=\"ProveItLink\" href=\"../../../../numerals/__pv_it/common/c35fdf7268947ca3e24174d2909dc9d0a7f3aac60/expr.ipynb\"><img src=\"../../../../numerals/__pv_it/common/c35fdf7268947ca3e24174d2909dc9d0a7f3aac60/expr.png\" style=\"display:inline;vertical-align:middle;\" /></a></td></tr>\n",
       "<tr><td>13</td><td>Operation</td><td>operator:&nbsp;17<br>operand:&nbsp;48<br></td><td><a class=\"ProveItLink\" href=\"../41cb62a4a2e4e98f9b63a66271e8152b08cd11090/expr.ipynb\"><img src=\"../41cb62a4a2e4e98f9b63a66271e8152b08cd11090/expr.png\" style=\"display:inline;vertical-align:middle;\" /></a></td></tr>\n",
       "<tr><td>14</td><td>Literal</td><td></td><td><a class=\"ProveItLink\" href=\"../../../../../logic/booleans/quantification/universality/__pv_it/common/684d35ba98fcbf8ca5011f865e530a51e77730630/expr.ipynb\"><img src=\"../../../../../logic/booleans/quantification/universality/__pv_it/common/684d35ba98fcbf8ca5011f865e530a51e77730630/expr.png\" style=\"display:inline;vertical-align:middle;\" /></a></td></tr>\n",
       "<tr><td>15</td><td>ExprTuple</td><td>19</td><td><a class=\"ProveItLink\" href=\"../95b0d9137ed45cf02525e1bf0eced118886db1c00/expr.ipynb\"><img src=\"../95b0d9137ed45cf02525e1bf0eced118886db1c00/expr.png\" style=\"display:inline;vertical-align:middle;\" /></a></td></tr>\n",
       "<tr><td>16</td><td>ExprTuple</td><td>20, 21</td><td><a class=\"ProveItLink\" href=\"../168e19f1ecc8804f8ac607d1e47d55d96abf706f0/expr.ipynb\"><img src=\"../168e19f1ecc8804f8ac607d1e47d55d96abf706f0/expr.png\" style=\"display:inline;vertical-align:middle;\" /></a></td></tr>\n",
       "<tr><td>17</td><td>Literal</td><td></td><td><a class=\"ProveItLink\" href=\"../../../../../core_expr_types/tuples/__pv_it/common/29138a46bfd9f58652485fe2e3b1ee46d90d773e0/expr.ipynb\"><img src=\"../../../../../core_expr_types/tuples/__pv_it/common/29138a46bfd9f58652485fe2e3b1ee46d90d773e0/expr.png\" style=\"display:inline;vertical-align:middle;\" /></a></td></tr>\n",
       "<tr><td>18</td><td>ExprTuple</td><td>48</td><td><a class=\"ProveItLink\" href=\"../6b6054f46a6e8d1e619e665c255c06c65fc92cb20/expr.ipynb\"><img src=\"../6b6054f46a6e8d1e619e665c255c06c65fc92cb20/expr.png\" style=\"display:inline;vertical-align:middle;\" /></a></td></tr>\n",
       "<tr><td>19</td><td>Lambda</td><td>parameter:&nbsp;46<br>body:&nbsp;22<br></td><td><a class=\"ProveItLink\" href=\"../9621b821b63c6560832a5ebdd45f6c030776431d0/expr.ipynb\"><img src=\"../9621b821b63c6560832a5ebdd45f6c030776431d0/expr.png\" style=\"display:inline;vertical-align:middle;\" /></a></td></tr>\n",
       "<tr><td>20</td><td>Operation</td><td>operator:&nbsp;24<br>operand:&nbsp;28<br></td><td><a class=\"ProveItLink\" href=\"../5c81b674ee599f18a992201f634577143eea05d80/expr.ipynb\"><img src=\"../5c81b674ee599f18a992201f634577143eea05d80/expr.png\" style=\"display:inline;vertical-align:middle;\" /></a></td></tr>\n",
       "<tr><td>21</td><td>Operation</td><td>operator:&nbsp;24<br>operand:&nbsp;29<br></td><td><a class=\"ProveItLink\" href=\"../4a544656471890d00f71cedf22e13b19644fa2180/expr.ipynb\"><img src=\"../4a544656471890d00f71cedf22e13b19644fa2180/expr.png\" style=\"display:inline;vertical-align:middle;\" /></a></td></tr>\n",
       "<tr><td>22</td><td>Conditional</td><td>value:&nbsp;26<br>condition:&nbsp;27<br></td><td><a class=\"ProveItLink\" href=\"../7bb0202cf489a4b3b84b807e1284858b3f187a380/expr.ipynb\"><img src=\"../7bb0202cf489a4b3b84b807e1284858b3f187a380/expr.png\" style=\"display:inline;vertical-align:middle;\" /></a></td></tr>\n",
       "<tr><td>23</td><td>ExprTuple</td><td>28</td><td><a class=\"ProveItLink\" href=\"../b710285caacf30a31e78383387c52164cdb394830/expr.ipynb\"><img src=\"../b710285caacf30a31e78383387c52164cdb394830/expr.png\" style=\"display:inline;vertical-align:middle;\" /></a></td></tr>\n",
       "<tr><td>24</td><td>Literal</td><td></td><td><a class=\"ProveItLink\" href=\"../../common/7101522f5ec444406c864c64c7848ef7ed7131f10/expr.ipynb\"><img src=\"../../common/7101522f5ec444406c864c64c7848ef7ed7131f10/expr.png\" style=\"display:inline;vertical-align:middle;\" /></a></td></tr>\n",
       "<tr><td>25</td><td>ExprTuple</td><td>29</td><td><a class=\"ProveItLink\" href=\"../beff88394f21bd84e681375ef388b1a4ef11a0bf0/expr.ipynb\"><img src=\"../beff88394f21bd84e681375ef388b1a4ef11a0bf0/expr.png\" style=\"display:inline;vertical-align:middle;\" /></a></td></tr>\n",
       "<tr><td>26</td><td>Operation</td><td>operator:&nbsp;30<br>operands:&nbsp;31<br></td><td><a class=\"ProveItLink\" href=\"../95ffd5f4cc353a8213dd868bbc97cb61821080ac0/expr.ipynb\"><img src=\"../95ffd5f4cc353a8213dd868bbc97cb61821080ac0/expr.png\" style=\"display:inline;vertical-align:middle;\" /></a></td></tr>\n",
       "<tr><td>27</td><td>Operation</td><td>operator:&nbsp;44<br>operands:&nbsp;32<br></td><td><a class=\"ProveItLink\" href=\"../4496cf2cf8e02e03db33165cf747192585ca2be40/expr.ipynb\"><img src=\"../4496cf2cf8e02e03db33165cf747192585ca2be40/expr.png\" style=\"display:inline;vertical-align:middle;\" /></a></td></tr>\n",
       "<tr><td>28</td><td>Lambda</td><td>parameter:&nbsp;47<br>body:&nbsp;33<br></td><td><a class=\"ProveItLink\" href=\"../ac9aea776ef08d5c0e495d52b6b4973d2a3f1dca0/expr.ipynb\"><img src=\"../ac9aea776ef08d5c0e495d52b6b4973d2a3f1dca0/expr.png\" style=\"display:inline;vertical-align:middle;\" /></a></td></tr>\n",
       "<tr><td>29</td><td>Lambda</td><td>parameter:&nbsp;47<br>body:&nbsp;34<br></td><td><a class=\"ProveItLink\" href=\"../099e8959176e4fb715c27e2468ef924615a362530/expr.ipynb\"><img src=\"../099e8959176e4fb715c27e2468ef924615a362530/expr.png\" style=\"display:inline;vertical-align:middle;\" /></a></td></tr>\n",
       "<tr><td>30</td><td>Literal</td><td></td><td><a class=\"ProveItLink\" href=\"../../../../ordering/__pv_it/common/28edf56075f82c850836d8cd79dbcacf62e589820/expr.ipynb\"><img src=\"../../../../ordering/__pv_it/common/28edf56075f82c850836d8cd79dbcacf62e589820/expr.png\" style=\"display:inline;vertical-align:middle;\" /></a></td></tr>\n",
       "<tr><td>31</td><td>ExprTuple</td><td>35, 36</td><td><a class=\"ProveItLink\" href=\"../8753d177166e837eb21e5c765a625bae8c2447020/expr.ipynb\"><img src=\"../8753d177166e837eb21e5c765a625bae8c2447020/expr.png\" style=\"display:inline;vertical-align:middle;\" /></a></td></tr>\n",
       "<tr><td>32</td><td>ExprTuple</td><td>46, 48</td><td><a class=\"ProveItLink\" href=\"../5af3e3fb48a1cbc22c1793b5a7575b58bf3b6fc00/expr.ipynb\"><img src=\"../5af3e3fb48a1cbc22c1793b5a7575b58bf3b6fc00/expr.png\" style=\"display:inline;vertical-align:middle;\" /></a></td></tr>\n",
       "<tr><td>33</td><td>Conditional</td><td>value:&nbsp;37<br>condition:&nbsp;39<br></td><td><a class=\"ProveItLink\" href=\"../78449b7cf9fea7589abf8e4f00de4f753f8582290/expr.ipynb\"><img src=\"../78449b7cf9fea7589abf8e4f00de4f753f8582290/expr.png\" style=\"display:inline;vertical-align:middle;\" /></a></td></tr>\n",
       "<tr><td>34</td><td>Conditional</td><td>value:&nbsp;38<br>condition:&nbsp;39<br></td><td><a class=\"ProveItLink\" href=\"../ebc58cbd98ff0b6b3d74a226de4f50a862cfc4060/expr.ipynb\"><img src=\"../ebc58cbd98ff0b6b3d74a226de4f50a862cfc4060/expr.png\" style=\"display:inline;vertical-align:middle;\" /></a></td></tr>\n",
       "<tr><td>35</td><td>Operation</td><td>operator:&nbsp;41<br>operand:&nbsp;46<br></td><td><a class=\"ProveItLink\" href=\"../../common/9df04aa86ed13def1123d4c0a3df4d6504170cc70/expr.ipynb\"><img src=\"../../common/9df04aa86ed13def1123d4c0a3df4d6504170cc70/expr.png\" style=\"display:inline;vertical-align:middle;\" /></a></td></tr>\n",
       "<tr><td>36</td><td>Operation</td><td>operator:&nbsp;42<br>operand:&nbsp;46<br></td><td><a class=\"ProveItLink\" href=\"../../common/af02c0524fcb3b644c8162566711613cbe69b4610/expr.ipynb\"><img src=\"../../common/af02c0524fcb3b644c8162566711613cbe69b4610/expr.png\" style=\"display:inline;vertical-align:middle;\" /></a></td></tr>\n",
       "<tr><td>37</td><td>Operation</td><td>operator:&nbsp;41<br>operand:&nbsp;47<br></td><td><a class=\"ProveItLink\" href=\"../../common/c805528dd6eb4447137929f0be9f02b51ee5b4f60/expr.ipynb\"><img src=\"../../common/c805528dd6eb4447137929f0be9f02b51ee5b4f60/expr.png\" style=\"display:inline;vertical-align:middle;\" /></a></td></tr>\n",
       "<tr><td>38</td><td>Operation</td><td>operator:&nbsp;42<br>operand:&nbsp;47<br></td><td><a class=\"ProveItLink\" href=\"../../common/8f6fbe105a59d4ecd3e51d0d53d42be2455341620/expr.ipynb\"><img src=\"../../common/8f6fbe105a59d4ecd3e51d0d53d42be2455341620/expr.png\" style=\"display:inline;vertical-align:middle;\" /></a></td></tr>\n",
       "<tr><td>39</td><td>Operation</td><td>operator:&nbsp;44<br>operands:&nbsp;45<br></td><td><a class=\"ProveItLink\" href=\"../6ce1c6353e3347bbc0ffb5eb5ea46fd6b47473880/expr.ipynb\"><img src=\"../6ce1c6353e3347bbc0ffb5eb5ea46fd6b47473880/expr.png\" style=\"display:inline;vertical-align:middle;\" /></a></td></tr>\n",
       "<tr><td>40</td><td>ExprTuple</td><td>46</td><td><a class=\"ProveItLink\" href=\"../../common/0dd6c317b6129609ccb40ee055b680a3a613bb2d0/expr.ipynb\"><img src=\"../../common/0dd6c317b6129609ccb40ee055b680a3a613bb2d0/expr.png\" style=\"display:inline;vertical-align:middle;\" /></a></td></tr>\n",
       "<tr><td>41</td><td>Variable</td><td></td><td><a class=\"ProveItLink\" href=\"../../../../../__pv_it/common/66c90e66682f107a881f2d666959f64e2e72ad750/expr.ipynb\"><img src=\"../../../../../__pv_it/common/66c90e66682f107a881f2d666959f64e2e72ad750/expr.png\" style=\"display:inline;vertical-align:middle;\" /></a></td></tr>\n",
       "<tr><td>42</td><td>Variable</td><td></td><td><a class=\"ProveItLink\" href=\"../../../../../__pv_it/common/4a5db8cc5c67969ec864bd3ea598be37cb6f5e550/expr.ipynb\"><img src=\"../../../../../__pv_it/common/4a5db8cc5c67969ec864bd3ea598be37cb6f5e550/expr.png\" style=\"display:inline;vertical-align:middle;\" /></a></td></tr>\n",
       "<tr><td>43</td><td>ExprTuple</td><td>47</td><td><a class=\"ProveItLink\" href=\"../../common/795abb8339bd06268827dd98897deb76bd829b2e0/expr.ipynb\"><img src=\"../../common/795abb8339bd06268827dd98897deb76bd829b2e0/expr.png\" style=\"display:inline;vertical-align:middle;\" /></a></td></tr>\n",
       "<tr><td>44</td><td>Literal</td><td></td><td><a class=\"ProveItLink\" href=\"../../../../../logic/sets/membership/__pv_it/common/7171deca84f71f47a6ec7696972d1632274a12880/expr.ipynb\"><img src=\"../../../../../logic/sets/membership/__pv_it/common/7171deca84f71f47a6ec7696972d1632274a12880/expr.png\" style=\"display:inline;vertical-align:middle;\" /></a></td></tr>\n",
       "<tr><td>45</td><td>ExprTuple</td><td>47, 48</td><td><a class=\"ProveItLink\" href=\"../194a7053ebeadfa07632c29158c26e8cfb3aa48f0/expr.ipynb\"><img src=\"../194a7053ebeadfa07632c29158c26e8cfb3aa48f0/expr.png\" style=\"display:inline;vertical-align:middle;\" /></a></td></tr>\n",
       "<tr><td>46</td><td>Variable</td><td></td><td><a class=\"ProveItLink\" href=\"../../../../../__pv_it/common/b9fd37fc619babc74a6203459f110251586df6970/expr.ipynb\"><img src=\"../../../../../__pv_it/common/b9fd37fc619babc74a6203459f110251586df6970/expr.png\" style=\"display:inline;vertical-align:middle;\" /></a></td></tr>\n",
       "<tr><td>47</td><td>Variable</td><td></td><td><a class=\"ProveItLink\" href=\"../../../../../__pv_it/common/5f60d32873626c7ce57e35d1d9e427fb112cfe7a0/expr.ipynb\"><img src=\"../../../../../__pv_it/common/5f60d32873626c7ce57e35d1d9e427fb112cfe7a0/expr.png\" style=\"display:inline;vertical-align:middle;\" /></a></td></tr>\n",
       "<tr><td>48</td><td>Variable</td><td></td><td><a class=\"ProveItLink\" href=\"../../../../../__pv_it/common/259d0846cd49c4882c35ec84d7a0b180713721cc0/expr.ipynb\"><img src=\"../../../../../__pv_it/common/259d0846cd49c4882c35ec84d7a0b180713721cc0/expr.png\" style=\"display:inline;vertical-align:middle;\" /></a></td></tr>\n",
       "</table>\n"
      ],
      "text/plain": [
       "0. forall_{a, b, S | |S| > 0} ([forall_{k in S} (a(k) < b(k))] => (Sum_{l in S} a(l) < Sum_{l in S} b(l)))\n",
       "   core type: Operation\n",
       "   operator: 14\n",
       "   operand: 2\n",
       "1. ((a, b, S) -> {[forall_{k in S} (a(k) < b(k))] => (Sum_{l in S} a(l) < Sum_{l in S} b(l)) if |S| > 0.)\n",
       "   core type: ExprTuple\n",
       "   sub-expressions: 2\n",
       "2. (a, b, S) -> {[forall_{k in S} (a(k) < b(k))] => (Sum_{l in S} a(l) < Sum_{l in S} b(l)) if |S| > 0.\n",
       "   core type: Lambda\n",
       "   parameters: 3\\n   body: 4\n",
       "3. (a, b, S)\n",
       "   core type: ExprTuple\n",
       "   sub-expressions: 41, 42, 48\n",
       "4. {[forall_{k in S} (a(k) < b(k))] => (Sum_{l in S} a(l) < Sum_{l in S} b(l)) if |S| > 0.\n",
       "   core type: Conditional\n",
       "   value: 5\n",
       "   condition: 6\n",
       "5. [forall_{k in S} (a(k) < b(k))] => (Sum_{l in S} a(l) < Sum_{l in S} b(l))\n",
       "   core type: Operation\n",
       "   operator: 7\n",
       "   operands: 8\n",
       "6. |S| > 0\n",
       "   core type: Operation\n",
       "   operator: 30\n",
       "   operands: 9\n",
       "7. =>\n",
       "   core type: Literal\n",
       "   sub-expressions: \n",
       "8. (forall_{k in S} (a(k) < b(k)), Sum_{l in S} a(l) < Sum_{l in S} b(l))\n",
       "   core type: ExprTuple\n",
       "   sub-expressions: 10, 11\n",
       "9. (0, |S|)\n",
       "   core type: ExprTuple\n",
       "   sub-expressions: 12, 13\n",
       "10. forall_{k in S} (a(k) < b(k))\n",
       "    core type: Operation\n",
       "    operator: 14\n",
       "    operand: 19\n",
       "11. Sum_{l in S} a(l) < Sum_{l in S} b(l)\n",
       "    core type: Operation\n",
       "    operator: 30\n",
       "    operands: 16\n",
       "12. 0\n",
       "    core type: Literal\n",
       "    sub-expressions: \n",
       "13. |S|\n",
       "    core type: Operation\n",
       "    operator: 17\n",
       "    operand: 48\n",
       "14. forall\n",
       "    core type: Literal\n",
       "    sub-expressions: \n",
       "15. (k -> {a(k) < b(k) if k in S.)\n",
       "    core type: ExprTuple\n",
       "    sub-expressions: 19\n",
       "16. (Sum_{l in S} a(l), Sum_{l in S} b(l))\n",
       "    core type: ExprTuple\n",
       "    sub-expressions: 20, 21\n",
       "17. length\n",
       "    core type: Literal\n",
       "    sub-expressions: \n",
       "18. (S)\n",
       "    core type: ExprTuple\n",
       "    sub-expressions: 48\n",
       "19. k -> {a(k) < b(k) if k in S.\n",
       "    core type: Lambda\n",
       "    parameter: 46\n",
       "    body: 22\n",
       "20. Sum_{l in S} a(l)\n",
       "    core type: Operation\n",
       "    operator: 24\n",
       "    operand: 28\n",
       "21. Sum_{l in S} b(l)\n",
       "    core type: Operation\n",
       "    operator: 24\n",
       "    operand: 29\n",
       "22. {a(k) < b(k) if k in S.\n",
       "    core type: Conditional\n",
       "    value: 26\n",
       "    condition: 27\n",
       "23. (l -> {a(l) if l in S.)\n",
       "    core type: ExprTuple\n",
       "    sub-expressions: 28\n",
       "24. Sum\n",
       "    core type: Literal\n",
       "    sub-expressions: \n",
       "25. (l -> {b(l) if l in S.)\n",
       "    core type: ExprTuple\n",
       "    sub-expressions: 29\n",
       "26. a(k) < b(k)\n",
       "    core type: Operation\n",
       "    operator: 30\n",
       "    operands: 31\n",
       "27. k in S\n",
       "    core type: Operation\n",
       "    operator: 44\n",
       "    operands: 32\n",
       "28. l -> {a(l) if l in S.\n",
       "    core type: Lambda\n",
       "    parameter: 47\n",
       "    body: 33\n",
       "29. l -> {b(l) if l in S.\n",
       "    core type: Lambda\n",
       "    parameter: 47\n",
       "    body: 34\n",
       "30. <\n",
       "    core type: Literal\n",
       "    sub-expressions: \n",
       "31. (a(k), b(k))\n",
       "    core type: ExprTuple\n",
       "    sub-expressions: 35, 36\n",
       "32. (k, S)\n",
       "    core type: ExprTuple\n",
       "    sub-expressions: 46, 48\n",
       "33. {a(l) if l in S.\n",
       "    core type: Conditional\n",
       "    value: 37\n",
       "    condition: 39\n",
       "34. {b(l) if l in S.\n",
       "    core type: Conditional\n",
       "    value: 38\n",
       "    condition: 39\n",
       "35. a(k)\n",
       "    core type: Operation\n",
       "    operator: 41\n",
       "    operand: 46\n",
       "36. b(k)\n",
       "    core type: Operation\n",
       "    operator: 42\n",
       "    operand: 46\n",
       "37. a(l)\n",
       "    core type: Operation\n",
       "    operator: 41\n",
       "    operand: 47\n",
       "38. b(l)\n",
       "    core type: Operation\n",
       "    operator: 42\n",
       "    operand: 47\n",
       "39. l in S\n",
       "    core type: Operation\n",
       "    operator: 44\n",
       "    operands: 45\n",
       "40. (k)\n",
       "    core type: ExprTuple\n",
       "    sub-expressions: 46\n",
       "41. a\n",
       "    core type: Variable\n",
       "    sub-expressions: \n",
       "42. b\n",
       "    core type: Variable\n",
       "    sub-expressions: \n",
       "43. (l)\n",
       "    core type: ExprTuple\n",
       "    sub-expressions: 47\n",
       "44. in\n",
       "    core type: Literal\n",
       "    sub-expressions: \n",
       "45. (l, S)\n",
       "    core type: ExprTuple\n",
       "    sub-expressions: 47, 48\n",
       "46. k\n",
       "    core type: Variable\n",
       "    sub-expressions: \n",
       "47. l\n",
       "    core type: Variable\n",
       "    sub-expressions: \n",
       "48. S\n",
       "    core type: Variable\n",
       "    sub-expressions: "
      ]
     },
     "execution_count": 6,
     "metadata": {},
     "output_type": "execute_result"
    }
   ],
   "source": [
    "# display the expression information\n",
    "expr.expr_info()"
   ]
  },
  {
   "cell_type": "code",
   "execution_count": null,
   "metadata": {},
   "outputs": [],
   "source": []
  }
 ],
 "metadata": {
  "kernelspec": {
   "display_name": "Python 3",
   "language": "python",
   "name": "python3"
  }
 },
 "nbformat": 4,
 "nbformat_minor": 0
}