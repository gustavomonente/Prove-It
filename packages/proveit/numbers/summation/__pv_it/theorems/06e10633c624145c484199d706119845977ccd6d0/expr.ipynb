{
 "cells": [
  {
   "cell_type": "markdown",
   "metadata": {},
   "source": [
    "Expression of type <a class=\"ProveItLink\" href=\"../../../../../../../doc/html/api/proveit.logic.Implies.html\">Implies</a>\n",
    "=======================\n",
    "# from the theory of <a class=\"ProveItLink\" href=\"../../../_theory_nbs_/theory.ipynb\">proveit.numbers.summation</a>"
   ]
  },
  {
   "cell_type": "code",
   "execution_count": 1,
   "metadata": {},
   "outputs": [],
   "source": [
    "import proveit\n",
    "# Automation is not needed when building an expression:\n",
    "proveit.defaults.automation = False # This will speed things up.\n",
    "proveit.defaults.inline_pngs = False # Makes files smaller.\n",
    "%load_expr # Load the stored expression as 'stored_expr'\n",
    "# import Expression classes needed to build the expression\n",
    "from proveit import Px, Qx, x\n",
    "from proveit.logic import Forall, Implies, InSet\n",
    "from proveit.numbers import Natural, Sum"
   ]
  },
  {
   "cell_type": "code",
   "execution_count": 2,
   "metadata": {},
   "outputs": [
    {
     "data": {
      "text/html": [
       "<strong id=\"expr\">expr:</strong> <a class=\"ProveItLink\" href=\"expr.ipynb\"><img src=\"expr.png\" style=\"display:inline;vertical-align:middle;\" /></a><br>"
      ],
      "text/plain": [
       "expr: [forall_{x | Q(x)} (P(x) in Natural)] => (Sum_{x | Q(x)} P(x) in Natural)"
      ]
     },
     "execution_count": 2,
     "metadata": {},
     "output_type": "execute_result"
    }
   ],
   "source": [
    "# build up the expression from sub-expressions\n",
    "sub_expr1 = [x]\n",
    "expr = Implies(Forall(sub_expr1, InSet(Px, Natural), condition = Qx), InSet(Sum(sub_expr1, Px, condition = Qx), Natural))"
   ]
  },
  {
   "cell_type": "code",
   "execution_count": 3,
   "metadata": {},
   "outputs": [
    {
     "name": "stdout",
     "output_type": "stream",
     "text": [
      "Passed sanity check: expr matches stored_expr\n"
     ]
    }
   ],
   "source": [
    "# check that the built expression is the same as the stored expression\n",
    "assert expr == stored_expr\n",
    "assert expr._style_id == stored_expr._style_id\n",
    "print(\"Passed sanity check: expr matches stored_expr\")"
   ]
  },
  {
   "cell_type": "code",
   "execution_count": 4,
   "metadata": {},
   "outputs": [
    {
     "name": "stdout",
     "output_type": "stream",
     "text": [
      "\\left[\\forall_{x~|~Q(x)}~\\left(P(x) \\in \\mathbb{N}\\right)\\right] \\Rightarrow \\left(\\sum_{x~|~Q(x)}~P(x) \\in \\mathbb{N}\\right)\n"
     ]
    }
   ],
   "source": [
    "# Show the LaTeX representation of the expression for convenience if you need it.\n",
    "print(expr.latex())"
   ]
  },
  {
   "cell_type": "code",
   "execution_count": 5,
   "metadata": {},
   "outputs": [
    {
     "data": {
      "text/html": [
       "<table>\n",
       "<tr><th>name</th><th>description</th><th>default</th><th>current value</th><th>related methods</th></tr><tr><td>operation</td><td>'infix' or 'function' style formatting</td><td>infix</td><td>infix</td><td></td></tr>\n",
       "<tr><td>wrap_positions</td><td>position(s) at which wrapping is to occur; '2 n - 1' is after the nth operand, '2 n' is after the nth operation.</td><td>()</td><td>()</td><td>('with_wrapping_at', 'with_wrap_before_operator', 'with_wrap_after_operator', 'wrap_positions')</td></tr>\n",
       "<tr><td>justification</td><td>if any wrap positions are set, justify to the 'left', 'center', or 'right'</td><td>center</td><td>center</td><td>('with_justification',)</td></tr>\n",
       "<tr><td>direction</td><td>Direction of the relation (normal or reversed)</td><td>normal</td><td>normal</td><td>('with_direction_reversed', 'is_reversed')</td></tr>\n",
       "</table>\n"
      ],
      "text/plain": [
       "style name: operation\n",
       "description: 'infix' or 'function' style formatting\n",
       "default: infix\n",
       "current value: infix\n",
       "related methods: ()\n",
       "style name: wrap_positions\n",
       "description: position(s) at which wrapping is to occur; '2 n - 1' is after the nth operand, '2 n' is after the nth operation.\n",
       "default: ()\n",
       "current value: ()\n",
       "related methods: ('with_wrapping_at', 'with_wrap_before_operator', 'with_wrap_after_operator', 'wrap_positions')\n",
       "style name: justification\n",
       "description: if any wrap positions are set, justify to the 'left', 'center', or 'right'\n",
       "default: center\n",
       "current value: center\n",
       "related methods: ('with_justification',)\n",
       "style name: direction\n",
       "description: Direction of the relation (normal or reversed)\n",
       "default: normal\n",
       "current value: normal\n",
       "related methods: ('with_direction_reversed', 'is_reversed')"
      ]
     },
     "execution_count": 5,
     "metadata": {},
     "output_type": "execute_result"
    }
   ],
   "source": [
    "expr.style_options()"
   ]
  },
  {
   "cell_type": "code",
   "execution_count": 6,
   "metadata": {},
   "outputs": [
    {
     "data": {
      "text/html": [
       "<table><tr><th>&nbsp;</th><th>core type</th><th>sub-expressions</th><th>expression</th></tr>\n",
       "<tr><td>0</td><td>Operation</td><td>operator:&nbsp;1<br>operands:&nbsp;2<br></td><td><a class=\"ProveItLink\" href=\"expr.ipynb\"><img src=\"expr.png\" style=\"display:inline;vertical-align:middle;\" /></a></td></tr>\n",
       "<tr><td>1</td><td>Literal</td><td></td><td><a class=\"ProveItLink\" href=\"../../../../../logic/booleans/implication/__pv_it/common/95a8cc69d34af52c7732e4a6fefbd5b63e8d31ba0/expr.ipynb\"><img src=\"../../../../../logic/booleans/implication/__pv_it/common/95a8cc69d34af52c7732e4a6fefbd5b63e8d31ba0/expr.png\" style=\"display:inline;vertical-align:middle;\" /></a></td></tr>\n",
       "<tr><td>2</td><td>ExprTuple</td><td>3, 4</td><td><a class=\"ProveItLink\" href=\"../2e6633573102f250c33c3edbc7b18e3a653c74df0/expr.ipynb\"><img src=\"../2e6633573102f250c33c3edbc7b18e3a653c74df0/expr.png\" style=\"display:inline;vertical-align:middle;\" /></a></td></tr>\n",
       "<tr><td>3</td><td>Operation</td><td>operator:&nbsp;5<br>operand:&nbsp;8<br></td><td><a class=\"ProveItLink\" href=\"../c32da8254e6f89c26dce524537889563714af9290/expr.ipynb\"><img src=\"../c32da8254e6f89c26dce524537889563714af9290/expr.png\" style=\"display:inline;vertical-align:middle;\" /></a></td></tr>\n",
       "<tr><td>4</td><td>Operation</td><td>operator:&nbsp;15<br>operands:&nbsp;7<br></td><td><a class=\"ProveItLink\" href=\"../a4048152954291c35ad2cd1ec15301bbe062bc620/expr.ipynb\"><img src=\"../a4048152954291c35ad2cd1ec15301bbe062bc620/expr.png\" style=\"display:inline;vertical-align:middle;\" /></a></td></tr>\n",
       "<tr><td>5</td><td>Literal</td><td></td><td><a class=\"ProveItLink\" href=\"../../../../../logic/booleans/quantification/universality/__pv_it/common/684d35ba98fcbf8ca5011f865e530a51e77730630/expr.ipynb\"><img src=\"../../../../../logic/booleans/quantification/universality/__pv_it/common/684d35ba98fcbf8ca5011f865e530a51e77730630/expr.png\" style=\"display:inline;vertical-align:middle;\" /></a></td></tr>\n",
       "<tr><td>6</td><td>ExprTuple</td><td>8</td><td><a class=\"ProveItLink\" href=\"../059dd808c14215da9d6f15963a5ddec335decad70/expr.ipynb\"><img src=\"../059dd808c14215da9d6f15963a5ddec335decad70/expr.png\" style=\"display:inline;vertical-align:middle;\" /></a></td></tr>\n",
       "<tr><td>7</td><td>ExprTuple</td><td>9, 18</td><td><a class=\"ProveItLink\" href=\"../ce8b3904239d2c8f4b62c3d69e156f8002958a3a0/expr.ipynb\"><img src=\"../ce8b3904239d2c8f4b62c3d69e156f8002958a3a0/expr.png\" style=\"display:inline;vertical-align:middle;\" /></a></td></tr>\n",
       "<tr><td>8</td><td>Lambda</td><td>parameter:&nbsp;24<br>body:&nbsp;10<br></td><td><a class=\"ProveItLink\" href=\"../0e30234ad9896d1dbb30e2fca5bb0e831ab7092b0/expr.ipynb\"><img src=\"../0e30234ad9896d1dbb30e2fca5bb0e831ab7092b0/expr.png\" style=\"display:inline;vertical-align:middle;\" /></a></td></tr>\n",
       "<tr><td>9</td><td>Operation</td><td>operator:&nbsp;11<br>operand:&nbsp;14<br></td><td><a class=\"ProveItLink\" href=\"../0a344e322ab06f79f0b504255496d0e3630bd2990/expr.ipynb\"><img src=\"../0a344e322ab06f79f0b504255496d0e3630bd2990/expr.png\" style=\"display:inline;vertical-align:middle;\" /></a></td></tr>\n",
       "<tr><td>10</td><td>Conditional</td><td>value:&nbsp;13<br>condition:&nbsp;20<br></td><td><a class=\"ProveItLink\" href=\"../2aafd34622917cb4fb506eb659eb48baa650ea220/expr.ipynb\"><img src=\"../2aafd34622917cb4fb506eb659eb48baa650ea220/expr.png\" style=\"display:inline;vertical-align:middle;\" /></a></td></tr>\n",
       "<tr><td>11</td><td>Literal</td><td></td><td><a class=\"ProveItLink\" href=\"../../common/7101522f5ec444406c864c64c7848ef7ed7131f10/expr.ipynb\"><img src=\"../../common/7101522f5ec444406c864c64c7848ef7ed7131f10/expr.png\" style=\"display:inline;vertical-align:middle;\" /></a></td></tr>\n",
       "<tr><td>12</td><td>ExprTuple</td><td>14</td><td><a class=\"ProveItLink\" href=\"../98028245d28515c80c989ab505980fa5a6af9f8e0/expr.ipynb\"><img src=\"../98028245d28515c80c989ab505980fa5a6af9f8e0/expr.png\" style=\"display:inline;vertical-align:middle;\" /></a></td></tr>\n",
       "<tr><td>13</td><td>Operation</td><td>operator:&nbsp;15<br>operands:&nbsp;16<br></td><td><a class=\"ProveItLink\" href=\"../72dab971c2ee0b0e67b774ae778bd790122c2e130/expr.ipynb\"><img src=\"../72dab971c2ee0b0e67b774ae778bd790122c2e130/expr.png\" style=\"display:inline;vertical-align:middle;\" /></a></td></tr>\n",
       "<tr><td>14</td><td>Lambda</td><td>parameter:&nbsp;24<br>body:&nbsp;17<br></td><td><a class=\"ProveItLink\" href=\"../af86c70afd575ac90f366f370a15728029c4e1120/expr.ipynb\"><img src=\"../af86c70afd575ac90f366f370a15728029c4e1120/expr.png\" style=\"display:inline;vertical-align:middle;\" /></a></td></tr>\n",
       "<tr><td>15</td><td>Literal</td><td></td><td><a class=\"ProveItLink\" href=\"../../../../../logic/sets/membership/__pv_it/common/7171deca84f71f47a6ec7696972d1632274a12880/expr.ipynb\"><img src=\"../../../../../logic/sets/membership/__pv_it/common/7171deca84f71f47a6ec7696972d1632274a12880/expr.png\" style=\"display:inline;vertical-align:middle;\" /></a></td></tr>\n",
       "<tr><td>16</td><td>ExprTuple</td><td>19, 18</td><td><a class=\"ProveItLink\" href=\"../201bed798aa02a69739888210ebee3d965287c8e0/expr.ipynb\"><img src=\"../201bed798aa02a69739888210ebee3d965287c8e0/expr.png\" style=\"display:inline;vertical-align:middle;\" /></a></td></tr>\n",
       "<tr><td>17</td><td>Conditional</td><td>value:&nbsp;19<br>condition:&nbsp;20<br></td><td><a class=\"ProveItLink\" href=\"../d512a51146048a71753aa505c8ceb64994e5b98c0/expr.ipynb\"><img src=\"../d512a51146048a71753aa505c8ceb64994e5b98c0/expr.png\" style=\"display:inline;vertical-align:middle;\" /></a></td></tr>\n",
       "<tr><td>18</td><td>Literal</td><td></td><td><a class=\"ProveItLink\" href=\"../../../../number_sets/natural_numbers/__pv_it/common/85c8b43c90a7392ebb5459360d343dfa7c7408b50/expr.ipynb\"><img src=\"../../../../number_sets/natural_numbers/__pv_it/common/85c8b43c90a7392ebb5459360d343dfa7c7408b50/expr.png\" style=\"display:inline;vertical-align:middle;\" /></a></td></tr>\n",
       "<tr><td>19</td><td>Operation</td><td>operator:&nbsp;21<br>operand:&nbsp;24<br></td><td><a class=\"ProveItLink\" href=\"../../../../../__pv_it/common/ed3ed03681b166b9fbefedb104a4f950026141260/expr.ipynb\"><img src=\"../../../../../__pv_it/common/ed3ed03681b166b9fbefedb104a4f950026141260/expr.png\" style=\"display:inline;vertical-align:middle;\" /></a></td></tr>\n",
       "<tr><td>20</td><td>Operation</td><td>operator:&nbsp;22<br>operand:&nbsp;24<br></td><td><a class=\"ProveItLink\" href=\"../../../../../__pv_it/common/c880b7f5dcd3cdce86bc330706239936151d2f7a0/expr.ipynb\"><img src=\"../../../../../__pv_it/common/c880b7f5dcd3cdce86bc330706239936151d2f7a0/expr.png\" style=\"display:inline;vertical-align:middle;\" /></a></td></tr>\n",
       "<tr><td>21</td><td>Variable</td><td></td><td><a class=\"ProveItLink\" href=\"../../../../../__pv_it/common/d5fc3066299847984076662ce51556220bdb6cfb0/expr.ipynb\"><img src=\"../../../../../__pv_it/common/d5fc3066299847984076662ce51556220bdb6cfb0/expr.png\" style=\"display:inline;vertical-align:middle;\" /></a></td></tr>\n",
       "<tr><td>22</td><td>Variable</td><td></td><td><a class=\"ProveItLink\" href=\"../../../../../__pv_it/common/50527aea954422d65ebe44b8de200683294751540/expr.ipynb\"><img src=\"../../../../../__pv_it/common/50527aea954422d65ebe44b8de200683294751540/expr.png\" style=\"display:inline;vertical-align:middle;\" /></a></td></tr>\n",
       "<tr><td>23</td><td>ExprTuple</td><td>24</td><td><a class=\"ProveItLink\" href=\"../../../../../__pv_it/common/a49c8f25f899a16b1dbcf2257505d5464a9a7bb50/expr.ipynb\"><img src=\"../../../../../__pv_it/common/a49c8f25f899a16b1dbcf2257505d5464a9a7bb50/expr.png\" style=\"display:inline;vertical-align:middle;\" /></a></td></tr>\n",
       "<tr><td>24</td><td>Variable</td><td></td><td><a class=\"ProveItLink\" href=\"../../../../../__pv_it/common/a2581dc5df71d9a30bad37de14965fa5fec97a240/expr.ipynb\"><img src=\"../../../../../__pv_it/common/a2581dc5df71d9a30bad37de14965fa5fec97a240/expr.png\" style=\"display:inline;vertical-align:middle;\" /></a></td></tr>\n",
       "</table>\n"
      ],
      "text/plain": [
       "0. [forall_{x | Q(x)} (P(x) in Natural)] => (Sum_{x | Q(x)} P(x) in Natural)\n",
       "   core type: Operation\n",
       "   operator: 1\n",
       "   operands: 2\n",
       "1. =>\n",
       "   core type: Literal\n",
       "   sub-expressions: \n",
       "2. (forall_{x | Q(x)} (P(x) in Natural), Sum_{x | Q(x)} P(x) in Natural)\n",
       "   core type: ExprTuple\n",
       "   sub-expressions: 3, 4\n",
       "3. forall_{x | Q(x)} (P(x) in Natural)\n",
       "   core type: Operation\n",
       "   operator: 5\n",
       "   operand: 8\n",
       "4. Sum_{x | Q(x)} P(x) in Natural\n",
       "   core type: Operation\n",
       "   operator: 15\n",
       "   operands: 7\n",
       "5. forall\n",
       "   core type: Literal\n",
       "   sub-expressions: \n",
       "6. (x -> {P(x) in Natural if Q(x).)\n",
       "   core type: ExprTuple\n",
       "   sub-expressions: 8\n",
       "7. (Sum_{x | Q(x)} P(x), Natural)\n",
       "   core type: ExprTuple\n",
       "   sub-expressions: 9, 18\n",
       "8. x -> {P(x) in Natural if Q(x).\n",
       "   core type: Lambda\n",
       "   parameter: 24\n",
       "   body: 10\n",
       "9. Sum_{x | Q(x)} P(x)\n",
       "   core type: Operation\n",
       "   operator: 11\n",
       "   operand: 14\n",
       "10. {P(x) in Natural if Q(x).\n",
       "    core type: Conditional\n",
       "    value: 13\n",
       "    condition: 20\n",
       "11. Sum\n",
       "    core type: Literal\n",
       "    sub-expressions: \n",
       "12. (x -> {P(x) if Q(x).)\n",
       "    core type: ExprTuple\n",
       "    sub-expressions: 14\n",
       "13. P(x) in Natural\n",
       "    core type: Operation\n",
       "    operator: 15\n",
       "    operands: 16\n",
       "14. x -> {P(x) if Q(x).\n",
       "    core type: Lambda\n",
       "    parameter: 24\n",
       "    body: 17\n",
       "15. in\n",
       "    core type: Literal\n",
       "    sub-expressions: \n",
       "16. (P(x), Natural)\n",
       "    core type: ExprTuple\n",
       "    sub-expressions: 19, 18\n",
       "17. {P(x) if Q(x).\n",
       "    core type: Conditional\n",
       "    value: 19\n",
       "    condition: 20\n",
       "18. Natural\n",
       "    core type: Literal\n",
       "    sub-expressions: \n",
       "19. P(x)\n",
       "    core type: Operation\n",
       "    operator: 21\n",
       "    operand: 24\n",
       "20. Q(x)\n",
       "    core type: Operation\n",
       "    operator: 22\n",
       "    operand: 24\n",
       "21. P\n",
       "    core type: Variable\n",
       "    sub-expressions: \n",
       "22. Q\n",
       "    core type: Variable\n",
       "    sub-expressions: \n",
       "23. (x)\n",
       "    core type: ExprTuple\n",
       "    sub-expressions: 24\n",
       "24. x\n",
       "    core type: Variable\n",
       "    sub-expressions: "
      ]
     },
     "execution_count": 6,
     "metadata": {},
     "output_type": "execute_result"
    }
   ],
   "source": [
    "# display the expression information\n",
    "expr.expr_info()"
   ]
  },
  {
   "cell_type": "code",
   "execution_count": null,
   "metadata": {},
   "outputs": [],
   "source": []
  }
 ],
 "metadata": {
  "kernelspec": {
   "display_name": "Python 3",
   "language": "python",
   "name": "python3"
  }
 },
 "nbformat": 4,
 "nbformat_minor": 0
}