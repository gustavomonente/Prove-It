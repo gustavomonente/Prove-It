{
 "cells": [
  {
   "cell_type": "markdown",
   "metadata": {},
   "source": [
    "Expression of type <a class=\"ProveItLink\" href=\"../../../../../../../doc/html/api/proveit.ExprTuple.html\">ExprTuple</a>\n",
    "=======================\n",
    "# from the theory of <a class=\"ProveItLink\" href=\"../../../_theory_nbs_/theory.ipynb\">proveit.numbers.summation</a>"
   ]
  },
  {
   "cell_type": "code",
   "execution_count": 1,
   "metadata": {},
   "outputs": [],
   "source": [
    "import proveit\n",
    "# Automation is not needed when building an expression:\n",
    "proveit.defaults.automation = False # This will speed things up.\n",
    "proveit.defaults.inline_pngs = False # Makes files smaller.\n",
    "%load_expr # Load the stored expression as 'stored_expr'\n",
    "# import Expression classes needed to build the expression\n",
    "from proveit import ExprTuple, S, k, l\n",
    "from proveit.logic import Forall\n",
    "from proveit.numbers import LessEq, Sum\n",
    "from proveit.numbers.summation import ak, al, bk, bl"
   ]
  },
  {
   "cell_type": "code",
   "execution_count": 2,
   "metadata": {},
   "outputs": [
    {
     "data": {
      "text/html": [
       "<strong id=\"expr\">expr:</strong> <a class=\"ProveItLink\" href=\"expr.ipynb\"><img src=\"expr.png\" style=\"display:inline;vertical-align:middle;\" /></a><br>"
      ],
      "text/plain": [
       "expr: (forall_{k in S} (a(k) <= b(k)), Sum_{l in S} a(l) <= Sum_{l in S} b(l))"
      ]
     },
     "execution_count": 2,
     "metadata": {},
     "output_type": "execute_result"
    }
   ],
   "source": [
    "# build up the expression from sub-expressions\n",
    "sub_expr1 = [S]\n",
    "sub_expr2 = [l]\n",
    "expr = ExprTuple(Forall([k], LessEq(ak, bk), domains = sub_expr1), LessEq(Sum(sub_expr2, al, domains = sub_expr1), Sum(sub_expr2, bl, domains = sub_expr1)))"
   ]
  },
  {
   "cell_type": "code",
   "execution_count": 3,
   "metadata": {},
   "outputs": [
    {
     "name": "stdout",
     "output_type": "stream",
     "text": [
      "Passed sanity check: expr matches stored_expr\n"
     ]
    }
   ],
   "source": [
    "# check that the built expression is the same as the stored expression\n",
    "assert expr == stored_expr\n",
    "assert expr._style_id == stored_expr._style_id\n",
    "print(\"Passed sanity check: expr matches stored_expr\")"
   ]
  },
  {
   "cell_type": "code",
   "execution_count": 4,
   "metadata": {},
   "outputs": [
    {
     "name": "stdout",
     "output_type": "stream",
     "text": [
      "\\left(\\forall_{k \\in S}~\\left(a(k) \\leq b(k)\\right), \\sum_{l \\in S}~a(l) \\leq \\sum_{l \\in S}~b(l)\\right)\n"
     ]
    }
   ],
   "source": [
    "# Show the LaTeX representation of the expression for convenience if you need it.\n",
    "print(expr.latex())"
   ]
  },
  {
   "cell_type": "code",
   "execution_count": 5,
   "metadata": {},
   "outputs": [
    {
     "data": {
      "text/html": [
       "<table>\n",
       "<tr><th>name</th><th>description</th><th>default</th><th>current value</th><th>related methods</th></tr><tr><td>wrap_positions</td><td>position(s) at which wrapping is to occur; 'n' is after the nth comma.</td><td>()</td><td>()</td><td>('with_wrapping_at',)</td></tr>\n",
       "<tr><td>justification</td><td>if any wrap positions are set, justify to the 'left', 'center', or 'right'</td><td>left</td><td>left</td><td>('with_justification',)</td></tr>\n",
       "</table>\n"
      ],
      "text/plain": [
       "style name: wrap_positions\n",
       "description: position(s) at which wrapping is to occur; 'n' is after the nth comma.\n",
       "default: ()\n",
       "current value: ()\n",
       "related methods: ('with_wrapping_at',)\n",
       "style name: justification\n",
       "description: if any wrap positions are set, justify to the 'left', 'center', or 'right'\n",
       "default: left\n",
       "current value: left\n",
       "related methods: ('with_justification',)"
      ]
     },
     "execution_count": 5,
     "metadata": {},
     "output_type": "execute_result"
    }
   ],
   "source": [
    "expr.style_options()"
   ]
  },
  {
   "cell_type": "code",
   "execution_count": 6,
   "metadata": {},
   "outputs": [
    {
     "data": {
      "text/html": [
       "<table><tr><th>&nbsp;</th><th>core type</th><th>sub-expressions</th><th>expression</th></tr>\n",
       "<tr><td>0</td><td>ExprTuple</td><td>1, 2</td><td><a class=\"ProveItLink\" href=\"expr.ipynb\"><img src=\"expr.png\" style=\"display:inline;vertical-align:middle;\" /></a></td></tr>\n",
       "<tr><td>1</td><td>Operation</td><td>operator:&nbsp;3<br>operand:&nbsp;6<br></td><td><a class=\"ProveItLink\" href=\"../ffc874c91845d6698b76eebb5eda10b1a7b071150/expr.ipynb\"><img src=\"../ffc874c91845d6698b76eebb5eda10b1a7b071150/expr.png\" style=\"display:inline;vertical-align:middle;\" /></a></td></tr>\n",
       "<tr><td>2</td><td>Operation</td><td>operator:&nbsp;17<br>operands:&nbsp;5<br></td><td><a class=\"ProveItLink\" href=\"../c9148c43c228a750bca9778da49c1613935b537c0/expr.ipynb\"><img src=\"../c9148c43c228a750bca9778da49c1613935b537c0/expr.png\" style=\"display:inline;vertical-align:middle;\" /></a></td></tr>\n",
       "<tr><td>3</td><td>Literal</td><td></td><td><a class=\"ProveItLink\" href=\"../../../../../logic/booleans/quantification/universality/__pv_it/common/684d35ba98fcbf8ca5011f865e530a51e77730630/expr.ipynb\"><img src=\"../../../../../logic/booleans/quantification/universality/__pv_it/common/684d35ba98fcbf8ca5011f865e530a51e77730630/expr.png\" style=\"display:inline;vertical-align:middle;\" /></a></td></tr>\n",
       "<tr><td>4</td><td>ExprTuple</td><td>6</td><td><a class=\"ProveItLink\" href=\"../8afcf4a5b0f04c1e35b6ed0dff6520f257d728ba0/expr.ipynb\"><img src=\"../8afcf4a5b0f04c1e35b6ed0dff6520f257d728ba0/expr.png\" style=\"display:inline;vertical-align:middle;\" /></a></td></tr>\n",
       "<tr><td>5</td><td>ExprTuple</td><td>7, 8</td><td><a class=\"ProveItLink\" href=\"../168e19f1ecc8804f8ac607d1e47d55d96abf706f0/expr.ipynb\"><img src=\"../168e19f1ecc8804f8ac607d1e47d55d96abf706f0/expr.png\" style=\"display:inline;vertical-align:middle;\" /></a></td></tr>\n",
       "<tr><td>6</td><td>Lambda</td><td>parameter:&nbsp;33<br>body:&nbsp;9<br></td><td><a class=\"ProveItLink\" href=\"../873e058fd302a4b57ea386f0c1073948236549050/expr.ipynb\"><img src=\"../873e058fd302a4b57ea386f0c1073948236549050/expr.png\" style=\"display:inline;vertical-align:middle;\" /></a></td></tr>\n",
       "<tr><td>7</td><td>Operation</td><td>operator:&nbsp;11<br>operand:&nbsp;15<br></td><td><a class=\"ProveItLink\" href=\"../5c81b674ee599f18a992201f634577143eea05d80/expr.ipynb\"><img src=\"../5c81b674ee599f18a992201f634577143eea05d80/expr.png\" style=\"display:inline;vertical-align:middle;\" /></a></td></tr>\n",
       "<tr><td>8</td><td>Operation</td><td>operator:&nbsp;11<br>operand:&nbsp;16<br></td><td><a class=\"ProveItLink\" href=\"../4a544656471890d00f71cedf22e13b19644fa2180/expr.ipynb\"><img src=\"../4a544656471890d00f71cedf22e13b19644fa2180/expr.png\" style=\"display:inline;vertical-align:middle;\" /></a></td></tr>\n",
       "<tr><td>9</td><td>Conditional</td><td>value:&nbsp;13<br>condition:&nbsp;14<br></td><td><a class=\"ProveItLink\" href=\"../990b7860dbc416ca5f52b8cde0db3ef7f480c8470/expr.ipynb\"><img src=\"../990b7860dbc416ca5f52b8cde0db3ef7f480c8470/expr.png\" style=\"display:inline;vertical-align:middle;\" /></a></td></tr>\n",
       "<tr><td>10</td><td>ExprTuple</td><td>15</td><td><a class=\"ProveItLink\" href=\"../b710285caacf30a31e78383387c52164cdb394830/expr.ipynb\"><img src=\"../b710285caacf30a31e78383387c52164cdb394830/expr.png\" style=\"display:inline;vertical-align:middle;\" /></a></td></tr>\n",
       "<tr><td>11</td><td>Literal</td><td></td><td><a class=\"ProveItLink\" href=\"../../common/7101522f5ec444406c864c64c7848ef7ed7131f10/expr.ipynb\"><img src=\"../../common/7101522f5ec444406c864c64c7848ef7ed7131f10/expr.png\" style=\"display:inline;vertical-align:middle;\" /></a></td></tr>\n",
       "<tr><td>12</td><td>ExprTuple</td><td>16</td><td><a class=\"ProveItLink\" href=\"../beff88394f21bd84e681375ef388b1a4ef11a0bf0/expr.ipynb\"><img src=\"../beff88394f21bd84e681375ef388b1a4ef11a0bf0/expr.png\" style=\"display:inline;vertical-align:middle;\" /></a></td></tr>\n",
       "<tr><td>13</td><td>Operation</td><td>operator:&nbsp;17<br>operands:&nbsp;18<br></td><td><a class=\"ProveItLink\" href=\"../c64e3989d5cfd3e68a26d411a435eb51159fb8910/expr.ipynb\"><img src=\"../c64e3989d5cfd3e68a26d411a435eb51159fb8910/expr.png\" style=\"display:inline;vertical-align:middle;\" /></a></td></tr>\n",
       "<tr><td>14</td><td>Operation</td><td>operator:&nbsp;31<br>operands:&nbsp;19<br></td><td><a class=\"ProveItLink\" href=\"../4496cf2cf8e02e03db33165cf747192585ca2be40/expr.ipynb\"><img src=\"../4496cf2cf8e02e03db33165cf747192585ca2be40/expr.png\" style=\"display:inline;vertical-align:middle;\" /></a></td></tr>\n",
       "<tr><td>15</td><td>Lambda</td><td>parameter:&nbsp;34<br>body:&nbsp;20<br></td><td><a class=\"ProveItLink\" href=\"../ac9aea776ef08d5c0e495d52b6b4973d2a3f1dca0/expr.ipynb\"><img src=\"../ac9aea776ef08d5c0e495d52b6b4973d2a3f1dca0/expr.png\" style=\"display:inline;vertical-align:middle;\" /></a></td></tr>\n",
       "<tr><td>16</td><td>Lambda</td><td>parameter:&nbsp;34<br>body:&nbsp;21<br></td><td><a class=\"ProveItLink\" href=\"../099e8959176e4fb715c27e2468ef924615a362530/expr.ipynb\"><img src=\"../099e8959176e4fb715c27e2468ef924615a362530/expr.png\" style=\"display:inline;vertical-align:middle;\" /></a></td></tr>\n",
       "<tr><td>17</td><td>Literal</td><td></td><td><a class=\"ProveItLink\" href=\"../../../../ordering/__pv_it/common/b7491c9b87613cffc9e4ec0625a0f1afacbe2cbd0/expr.ipynb\"><img src=\"../../../../ordering/__pv_it/common/b7491c9b87613cffc9e4ec0625a0f1afacbe2cbd0/expr.png\" style=\"display:inline;vertical-align:middle;\" /></a></td></tr>\n",
       "<tr><td>18</td><td>ExprTuple</td><td>22, 23</td><td><a class=\"ProveItLink\" href=\"../8753d177166e837eb21e5c765a625bae8c2447020/expr.ipynb\"><img src=\"../8753d177166e837eb21e5c765a625bae8c2447020/expr.png\" style=\"display:inline;vertical-align:middle;\" /></a></td></tr>\n",
       "<tr><td>19</td><td>ExprTuple</td><td>33, 35</td><td><a class=\"ProveItLink\" href=\"../5af3e3fb48a1cbc22c1793b5a7575b58bf3b6fc00/expr.ipynb\"><img src=\"../5af3e3fb48a1cbc22c1793b5a7575b58bf3b6fc00/expr.png\" style=\"display:inline;vertical-align:middle;\" /></a></td></tr>\n",
       "<tr><td>20</td><td>Conditional</td><td>value:&nbsp;24<br>condition:&nbsp;26<br></td><td><a class=\"ProveItLink\" href=\"../78449b7cf9fea7589abf8e4f00de4f753f8582290/expr.ipynb\"><img src=\"../78449b7cf9fea7589abf8e4f00de4f753f8582290/expr.png\" style=\"display:inline;vertical-align:middle;\" /></a></td></tr>\n",
       "<tr><td>21</td><td>Conditional</td><td>value:&nbsp;25<br>condition:&nbsp;26<br></td><td><a class=\"ProveItLink\" href=\"../ebc58cbd98ff0b6b3d74a226de4f50a862cfc4060/expr.ipynb\"><img src=\"../ebc58cbd98ff0b6b3d74a226de4f50a862cfc4060/expr.png\" style=\"display:inline;vertical-align:middle;\" /></a></td></tr>\n",
       "<tr><td>22</td><td>Operation</td><td>operator:&nbsp;28<br>operand:&nbsp;33<br></td><td><a class=\"ProveItLink\" href=\"../../common/9df04aa86ed13def1123d4c0a3df4d6504170cc70/expr.ipynb\"><img src=\"../../common/9df04aa86ed13def1123d4c0a3df4d6504170cc70/expr.png\" style=\"display:inline;vertical-align:middle;\" /></a></td></tr>\n",
       "<tr><td>23</td><td>Operation</td><td>operator:&nbsp;29<br>operand:&nbsp;33<br></td><td><a class=\"ProveItLink\" href=\"../../common/af02c0524fcb3b644c8162566711613cbe69b4610/expr.ipynb\"><img src=\"../../common/af02c0524fcb3b644c8162566711613cbe69b4610/expr.png\" style=\"display:inline;vertical-align:middle;\" /></a></td></tr>\n",
       "<tr><td>24</td><td>Operation</td><td>operator:&nbsp;28<br>operand:&nbsp;34<br></td><td><a class=\"ProveItLink\" href=\"../../common/c805528dd6eb4447137929f0be9f02b51ee5b4f60/expr.ipynb\"><img src=\"../../common/c805528dd6eb4447137929f0be9f02b51ee5b4f60/expr.png\" style=\"display:inline;vertical-align:middle;\" /></a></td></tr>\n",
       "<tr><td>25</td><td>Operation</td><td>operator:&nbsp;29<br>operand:&nbsp;34<br></td><td><a class=\"ProveItLink\" href=\"../../common/8f6fbe105a59d4ecd3e51d0d53d42be2455341620/expr.ipynb\"><img src=\"../../common/8f6fbe105a59d4ecd3e51d0d53d42be2455341620/expr.png\" style=\"display:inline;vertical-align:middle;\" /></a></td></tr>\n",
       "<tr><td>26</td><td>Operation</td><td>operator:&nbsp;31<br>operands:&nbsp;32<br></td><td><a class=\"ProveItLink\" href=\"../6ce1c6353e3347bbc0ffb5eb5ea46fd6b47473880/expr.ipynb\"><img src=\"../6ce1c6353e3347bbc0ffb5eb5ea46fd6b47473880/expr.png\" style=\"display:inline;vertical-align:middle;\" /></a></td></tr>\n",
       "<tr><td>27</td><td>ExprTuple</td><td>33</td><td><a class=\"ProveItLink\" href=\"../../common/0dd6c317b6129609ccb40ee055b680a3a613bb2d0/expr.ipynb\"><img src=\"../../common/0dd6c317b6129609ccb40ee055b680a3a613bb2d0/expr.png\" style=\"display:inline;vertical-align:middle;\" /></a></td></tr>\n",
       "<tr><td>28</td><td>Variable</td><td></td><td><a class=\"ProveItLink\" href=\"../../../../../__pv_it/common/66c90e66682f107a881f2d666959f64e2e72ad750/expr.ipynb\"><img src=\"../../../../../__pv_it/common/66c90e66682f107a881f2d666959f64e2e72ad750/expr.png\" style=\"display:inline;vertical-align:middle;\" /></a></td></tr>\n",
       "<tr><td>29</td><td>Variable</td><td></td><td><a class=\"ProveItLink\" href=\"../../../../../__pv_it/common/4a5db8cc5c67969ec864bd3ea598be37cb6f5e550/expr.ipynb\"><img src=\"../../../../../__pv_it/common/4a5db8cc5c67969ec864bd3ea598be37cb6f5e550/expr.png\" style=\"display:inline;vertical-align:middle;\" /></a></td></tr>\n",
       "<tr><td>30</td><td>ExprTuple</td><td>34</td><td><a class=\"ProveItLink\" href=\"../../common/795abb8339bd06268827dd98897deb76bd829b2e0/expr.ipynb\"><img src=\"../../common/795abb8339bd06268827dd98897deb76bd829b2e0/expr.png\" style=\"display:inline;vertical-align:middle;\" /></a></td></tr>\n",
       "<tr><td>31</td><td>Literal</td><td></td><td><a class=\"ProveItLink\" href=\"../../../../../logic/sets/membership/__pv_it/common/7171deca84f71f47a6ec7696972d1632274a12880/expr.ipynb\"><img src=\"../../../../../logic/sets/membership/__pv_it/common/7171deca84f71f47a6ec7696972d1632274a12880/expr.png\" style=\"display:inline;vertical-align:middle;\" /></a></td></tr>\n",
       "<tr><td>32</td><td>ExprTuple</td><td>34, 35</td><td><a class=\"ProveItLink\" href=\"../194a7053ebeadfa07632c29158c26e8cfb3aa48f0/expr.ipynb\"><img src=\"../194a7053ebeadfa07632c29158c26e8cfb3aa48f0/expr.png\" style=\"display:inline;vertical-align:middle;\" /></a></td></tr>\n",
       "<tr><td>33</td><td>Variable</td><td></td><td><a class=\"ProveItLink\" href=\"../../../../../__pv_it/common/b9fd37fc619babc74a6203459f110251586df6970/expr.ipynb\"><img src=\"../../../../../__pv_it/common/b9fd37fc619babc74a6203459f110251586df6970/expr.png\" style=\"display:inline;vertical-align:middle;\" /></a></td></tr>\n",
       "<tr><td>34</td><td>Variable</td><td></td><td><a class=\"ProveItLink\" href=\"../../../../../__pv_it/common/5f60d32873626c7ce57e35d1d9e427fb112cfe7a0/expr.ipynb\"><img src=\"../../../../../__pv_it/common/5f60d32873626c7ce57e35d1d9e427fb112cfe7a0/expr.png\" style=\"display:inline;vertical-align:middle;\" /></a></td></tr>\n",
       "<tr><td>35</td><td>Variable</td><td></td><td><a class=\"ProveItLink\" href=\"../../../../../__pv_it/common/259d0846cd49c4882c35ec84d7a0b180713721cc0/expr.ipynb\"><img src=\"../../../../../__pv_it/common/259d0846cd49c4882c35ec84d7a0b180713721cc0/expr.png\" style=\"display:inline;vertical-align:middle;\" /></a></td></tr>\n",
       "</table>\n"
      ],
      "text/plain": [
       "0. (forall_{k in S} (a(k) <= b(k)), Sum_{l in S} a(l) <= Sum_{l in S} b(l))\n",
       "   core type: ExprTuple\n",
       "   sub-expressions: 1, 2\n",
       "1. forall_{k in S} (a(k) <= b(k))\n",
       "   core type: Operation\n",
       "   operator: 3\n",
       "   operand: 6\n",
       "2. Sum_{l in S} a(l) <= Sum_{l in S} b(l)\n",
       "   core type: Operation\n",
       "   operator: 17\n",
       "   operands: 5\n",
       "3. forall\n",
       "   core type: Literal\n",
       "   sub-expressions: \n",
       "4. (k -> {a(k) <= b(k) if k in S.)\n",
       "   core type: ExprTuple\n",
       "   sub-expressions: 6\n",
       "5. (Sum_{l in S} a(l), Sum_{l in S} b(l))\n",
       "   core type: ExprTuple\n",
       "   sub-expressions: 7, 8\n",
       "6. k -> {a(k) <= b(k) if k in S.\n",
       "   core type: Lambda\n",
       "   parameter: 33\n",
       "   body: 9\n",
       "7. Sum_{l in S} a(l)\n",
       "   core type: Operation\n",
       "   operator: 11\n",
       "   operand: 15\n",
       "8. Sum_{l in S} b(l)\n",
       "   core type: Operation\n",
       "   operator: 11\n",
       "   operand: 16\n",
       "9. {a(k) <= b(k) if k in S.\n",
       "   core type: Conditional\n",
       "   value: 13\n",
       "   condition: 14\n",
       "10. (l -> {a(l) if l in S.)\n",
       "    core type: ExprTuple\n",
       "    sub-expressions: 15\n",
       "11. Sum\n",
       "    core type: Literal\n",
       "    sub-expressions: \n",
       "12. (l -> {b(l) if l in S.)\n",
       "    core type: ExprTuple\n",
       "    sub-expressions: 16\n",
       "13. a(k) <= b(k)\n",
       "    core type: Operation\n",
       "    operator: 17\n",
       "    operands: 18\n",
       "14. k in S\n",
       "    core type: Operation\n",
       "    operator: 31\n",
       "    operands: 19\n",
       "15. l -> {a(l) if l in S.\n",
       "    core type: Lambda\n",
       "    parameter: 34\n",
       "    body: 20\n",
       "16. l -> {b(l) if l in S.\n",
       "    core type: Lambda\n",
       "    parameter: 34\n",
       "    body: 21\n",
       "17. <=\n",
       "    core type: Literal\n",
       "    sub-expressions: \n",
       "18. (a(k), b(k))\n",
       "    core type: ExprTuple\n",
       "    sub-expressions: 22, 23\n",
       "19. (k, S)\n",
       "    core type: ExprTuple\n",
       "    sub-expressions: 33, 35\n",
       "20. {a(l) if l in S.\n",
       "    core type: Conditional\n",
       "    value: 24\n",
       "    condition: 26\n",
       "21. {b(l) if l in S.\n",
       "    core type: Conditional\n",
       "    value: 25\n",
       "    condition: 26\n",
       "22. a(k)\n",
       "    core type: Operation\n",
       "    operator: 28\n",
       "    operand: 33\n",
       "23. b(k)\n",
       "    core type: Operation\n",
       "    operator: 29\n",
       "    operand: 33\n",
       "24. a(l)\n",
       "    core type: Operation\n",
       "    operator: 28\n",
       "    operand: 34\n",
       "25. b(l)\n",
       "    core type: Operation\n",
       "    operator: 29\n",
       "    operand: 34\n",
       "26. l in S\n",
       "    core type: Operation\n",
       "    operator: 31\n",
       "    operands: 32\n",
       "27. (k)\n",
       "    core type: ExprTuple\n",
       "    sub-expressions: 33\n",
       "28. a\n",
       "    core type: Variable\n",
       "    sub-expressions: \n",
       "29. b\n",
       "    core type: Variable\n",
       "    sub-expressions: \n",
       "30. (l)\n",
       "    core type: ExprTuple\n",
       "    sub-expressions: 34\n",
       "31. in\n",
       "    core type: Literal\n",
       "    sub-expressions: \n",
       "32. (l, S)\n",
       "    core type: ExprTuple\n",
       "    sub-expressions: 34, 35\n",
       "33. k\n",
       "    core type: Variable\n",
       "    sub-expressions: \n",
       "34. l\n",
       "    core type: Variable\n",
       "    sub-expressions: \n",
       "35. S\n",
       "    core type: Variable\n",
       "    sub-expressions: "
      ]
     },
     "execution_count": 6,
     "metadata": {},
     "output_type": "execute_result"
    }
   ],
   "source": [
    "# display the expression information\n",
    "expr.expr_info()"
   ]
  },
  {
   "cell_type": "code",
   "execution_count": null,
   "metadata": {},
   "outputs": [],
   "source": []
  }
 ],
 "metadata": {
  "kernelspec": {
   "display_name": "Python 3",
   "language": "python",
   "name": "python3"
  }
 },
 "nbformat": 4,
 "nbformat_minor": 0
}