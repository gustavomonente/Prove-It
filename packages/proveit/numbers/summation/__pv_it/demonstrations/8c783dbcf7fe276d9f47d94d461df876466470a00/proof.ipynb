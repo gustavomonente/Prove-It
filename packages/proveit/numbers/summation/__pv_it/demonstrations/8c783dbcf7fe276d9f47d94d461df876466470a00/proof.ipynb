{
 "cells": [
  {
   "cell_type": "markdown",
   "metadata": {},
   "source": [
    "Show the Proof\n",
    "========"
   ]
  },
  {
   "cell_type": "code",
   "execution_count": 1,
   "metadata": {},
   "outputs": [
    {
     "data": {
      "text/html": [
       "<table><tr><th>&nbsp;</th><th>step type</th><th>requirements</th><th>statement</th></tr>\n",
       "<tr><td><a name=\"proveit.numbers.summation.demonstrations.8c783dbcf7fe276d9f47d94d461df876466470a00_step0\">0</a></td><td>instantiation</td><td><a href=\"#proveit.numbers.summation.demonstrations.8c783dbcf7fe276d9f47d94d461df876466470a00_step1\">1</a></td><td><span style=\"font-size:20px;\"> <a class=\"ProveItLink\" href=\"proof.ipynb\" style=\"text-decoration: none\">&nbsp;&#x22A2;&nbsp;&nbsp;</a><a class=\"ProveItLink\" href=\"../e1a606ccd4b9cee82a833d51acb7c2242ebf33100/expr.ipynb\"><img src=\"../e1a606ccd4b9cee82a833d51acb7c2242ebf33100/expr.png\" style=\"display:inline;vertical-align:middle;\" /></a></span></td></tr>\n",
       "<tr><td>&nbsp;</td><td colspan=4 style=\"text-align:left\"><span style=\"font-size:20px;\"><a class=\"ProveItLink\" href=\"../../common/9df04aa86ed13def1123d4c0a3df4d6504170cc70/expr.ipynb\"><img src=\"../../common/9df04aa86ed13def1123d4c0a3df4d6504170cc70/expr.png\" style=\"display:inline;vertical-align:middle;\" /></a> : <a class=\"ProveItLink\" href=\"../../common/9df04aa86ed13def1123d4c0a3df4d6504170cc70/expr.ipynb\"><img src=\"../../common/9df04aa86ed13def1123d4c0a3df4d6504170cc70/expr.png\" style=\"display:inline;vertical-align:middle;\" /></a>, <a class=\"ProveItLink\" href=\"../../common/af02c0524fcb3b644c8162566711613cbe69b4610/expr.ipynb\"><img src=\"../../common/af02c0524fcb3b644c8162566711613cbe69b4610/expr.png\" style=\"display:inline;vertical-align:middle;\" /></a> : <a class=\"ProveItLink\" href=\"../../common/af02c0524fcb3b644c8162566711613cbe69b4610/expr.ipynb\"><img src=\"../../common/af02c0524fcb3b644c8162566711613cbe69b4610/expr.png\" style=\"display:inline;vertical-align:middle;\" /></a>, <a class=\"ProveItLink\" href=\"../../../../../__pv_it/common/259d0846cd49c4882c35ec84d7a0b180713721cc0/expr.ipynb\"><img src=\"../../../../../__pv_it/common/259d0846cd49c4882c35ec84d7a0b180713721cc0/expr.png\" style=\"display:inline;vertical-align:middle;\" /></a> : <a class=\"ProveItLink\" href=\"../84ebac7dc5b526770fe18bbd526cb942cd62244a0/expr.ipynb\"><img src=\"../84ebac7dc5b526770fe18bbd526cb942cd62244a0/expr.png\" style=\"display:inline;vertical-align:middle;\" /></a></span></td></tr><tr><td><a name=\"proveit.numbers.summation.demonstrations.8c783dbcf7fe276d9f47d94d461df876466470a00_step1\">1</a></td><td>theorem</td><td></td><td><span style=\"font-size:20px;\"> <a class=\"ProveItLink\" href=\"../../../_theory_nbs_/proofs/weak_summation_from_summands_bound/thm_proof.ipynb\" style=\"text-decoration: none\">&nbsp;&#x22A2;&nbsp;&nbsp;</a><a class=\"ProveItLink\" href=\"../../theorems/d472ca157f4d09025a1657290ffc45b64ff3f9870/expr.ipynb\"><img src=\"../../theorems/d472ca157f4d09025a1657290ffc45b64ff3f9870/expr.png\" style=\"display:inline;vertical-align:middle;\" /></a></span></td></tr>\n",
       "<tr><td>&nbsp;</td><td colspan=4 style-\"text-align:left\"><a class=\"ProveItLink\" href=\"../../../_theory_nbs_/proofs/weak_summation_from_summands_bound/thm_proof.ipynb\">proveit.numbers.summation.weak_summation_from_summands_bound</a></td></tr></table>"
      ],
      "text/plain": [
       "<proveit._core_.proof._ShowProof at 0x7fb05b5643c8>"
      ]
     },
     "execution_count": 1,
     "metadata": {},
     "output_type": "execute_result"
    }
   ],
   "source": [
    "import proveit\n",
    "# Automation is not needed when only showing a stored proof:\n",
    "proveit.defaults.automation = False # This will speed things up.\n",
    "proveit.defaults.inline_pngs = False # Makes files smaller.\n",
    "%show_proof"
   ]
  },
  {
   "cell_type": "code",
   "execution_count": null,
   "metadata": {},
   "outputs": [],
   "source": []
  }
 ],
 "metadata": {
  "kernelspec": {
   "display_name": "Python 3",
   "language": "python",
   "name": "python3"
  },
  "language_info": {
   "codemirror_mode": {
    "name": "ipython",
    "version": 3
   },
   "file_extension": ".py",
   "mimetype": "text/x-python",
   "name": "python",
   "nbconvert_exporter": "python",
   "pygments_lexer": "ipython3",
   "version": "3.7.3"
  }
 },
 "nbformat": 4,
 "nbformat_minor": 1
}