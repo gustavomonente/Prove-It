{
 "cells": [
  {
   "cell_type": "markdown",
   "metadata": {},
   "source": [
    "Common expressions for the theory of <a class=\"ProveItLink\" href=\"theory.ipynb\">proveit.numbers.summation</a>\n",
    "========"
   ]
  },
  {
   "cell_type": "code",
   "execution_count": 1,
   "metadata": {},
   "outputs": [],
   "source": [
    "import proveit\n",
    "# Prepare this notebook for defining the common expressions of a theory:\n",
    "%common_expressions_notebook # Keep this at the top following 'import proveit'.\n",
    "from proveit import Function\n",
    "from proveit import a, b, l, k"
   ]
  },
  {
   "cell_type": "code",
   "execution_count": 2,
   "metadata": {},
   "outputs": [
    {
     "name": "stdout",
     "output_type": "stream",
     "text": [
      "Defining common sub-expressions for theory 'proveit.numbers.summation'\n",
      "Subsequent end-of-cell assignments will define common sub-expressions\n",
      "%end_common will finalize the definitions\n"
     ]
    }
   ],
   "source": [
    "%begin common"
   ]
  },
  {
   "cell_type": "code",
   "execution_count": 3,
   "metadata": {},
   "outputs": [
    {
     "data": {
      "text/html": [
       "<strong id=\"ak\">ak:</strong> <a class=\"ProveItLink\" href=\"../__pv_it/common/9df04aa86ed13def1123d4c0a3df4d6504170cc70/common_expr.ipynb\"><img src=\"data:image/png;base64,iVBORw0KGgoAAAANSUhEUgAAACUAAAAUBAMAAAD4luk4AAAAMFBMVEX///9UVFSqqqrMzMwiIiJE\n",
       "RESYmJgyMjK6urru7u4QEBCIiIh2dnZmZmbc3NwAAABRgo0vAAAAAXRSTlMAQObYZgAAAPBJREFU\n",
       "GNNjYICCZ1BajwEOOAMYOKMcgAzGB3AxdiCT/QJIsgAulgvE/Aog1mm4mB8Q908AsWbBhPhARh2B\n",
       "mNIA5N65vZKBG2RULYPaPQYGHiCz6wH7BwbWBKDpn7hffGNgYCtg4FzGwBvAwAI0nunnTk6gFJMD\n",
       "A+9PBpYNDFxAQ3jXgs1j/sDAFcAw3wAsxiIdDRWbf4BBnwGsd37De6AMA4cDw3wFBnGmByA78oHs\n",
       "A2A7WDewOfKAHSDKwG8AFOM9wMApvfnhDpAGhiAG7ttAn7AbIPsNAqaghAEEIMKAFRZsSGEFDFM0\n",
       "SaSwz2NgAACvdjglLqDfnwAAAABJRU5ErkJggg==\n",
       "\" style=\"display:inline;vertical-align:middle;\" /></a><br>"
      ],
      "text/plain": [
       "ak: a(k)"
      ]
     },
     "execution_count": 3,
     "metadata": {},
     "output_type": "execute_result"
    }
   ],
   "source": [
    "ak = Function(a, k)"
   ]
  },
  {
   "cell_type": "code",
   "execution_count": 4,
   "metadata": {},
   "outputs": [
    {
     "data": {
      "text/html": [
       "<strong id=\"al\">al:</strong> <a class=\"ProveItLink\" href=\"../__pv_it/common/c805528dd6eb4447137929f0be9f02b51ee5b4f60/common_expr.ipynb\"><img src=\"data:image/png;base64,iVBORw0KGgoAAAANSUhEUgAAAB8AAAAUBAMAAACHR/vJAAAAMFBMVEX///9UVFSqqqrMzMwiIiJE\n",
       "RESYmJgyMjK6urru7u4QEBCIiIh2dnZmZmbc3NwAAABRgo0vAAAAAXRSTlMAQObYZgAAANdJREFU\n",
       "GNNVkDtuwkAQhj8bG1g/aFPQcALiG8RcIJgbcAGDj5A6NVVSuEOK0lhKE6Vyn4aGihSmobaEhKBj\n",
       "vCIrM9K/s/tp5wk3OzTHGGMqwZ9GVmVAT65LVGZAKtrCrwHPok94+38PYtFRIl/E/+0+8DfQrSEQ\n",
       "/1r1atw5WInADLUmTHBG4BVgx4QXnAJPYp+kcqfGS8gjDX7QIC95RIfMFPRj8hEPdtUkPQU6qVt0\n",
       "J4Eud36HsEQNv/bfzVfSUhqL2q2Lre6Goz2cqzfRGl8WZHBrhQu4AuK5MPvzCwNeAAAAAElFTkSu\n",
       "QmCC\n",
       "\" style=\"display:inline;vertical-align:middle;\" /></a><br>"
      ],
      "text/plain": [
       "al: a(l)"
      ]
     },
     "execution_count": 4,
     "metadata": {},
     "output_type": "execute_result"
    }
   ],
   "source": [
    "al = Function(a, l)"
   ]
  },
  {
   "cell_type": "code",
   "execution_count": 5,
   "metadata": {},
   "outputs": [
    {
     "data": {
      "text/html": [
       "<strong id=\"bk\">bk:</strong> <a class=\"ProveItLink\" href=\"../__pv_it/common/af02c0524fcb3b644c8162566711613cbe69b4610/common_expr.ipynb\"><img src=\"data:image/png;base64,iVBORw0KGgoAAAANSUhEUgAAACMAAAAUBAMAAAD1iJl/AAAAMFBMVEX////MzMyYmJjc3NyIiIhU\n",
       "VFR2dna6urqqqqpmZmYyMjIiIiIQEBBERETu7u4AAACIO4EmAAAAAXRSTlMAQObYZgAAAO9JREFU\n",
       "GNNdkDEPwUAUx/8oWvTOR2hi6qSxGBnMJqukEZul30DDF2iig00Xg62Jb2CzGQwGQ3eSikkM4l3d\n",
       "kXjJ+98v79373+UBn2jJc07JzrHQg4SiQ1IJhDgSWETCfRJbAcaU04RkqwBXygllIZZA4x6w7i2h\n",
       "CZsNZgugFIA9k9QxLTJ+aO07kI+gv8C7VXLWX31GHT2GESF1a2Rg7DOv3E38ZuqLUnVwlCVuYZWI\n",
       "wdTrUAPlGNxjOwj7JlLfzeyLlhmIlzEEr1PJcMHCUXYbJ2gh/b9SlzvZQsVFgf0tjRWYjoRsOR86\n",
       "/Pd+i24AbxAZOoIkUYDnAAAAAElFTkSuQmCC\n",
       "\" style=\"display:inline;vertical-align:middle;\" /></a><br>"
      ],
      "text/plain": [
       "bk: b(k)"
      ]
     },
     "execution_count": 5,
     "metadata": {},
     "output_type": "execute_result"
    }
   ],
   "source": [
    "bk = Function(b, k)"
   ]
  },
  {
   "cell_type": "code",
   "execution_count": 6,
   "metadata": {},
   "outputs": [
    {
     "data": {
      "text/html": [
       "<strong id=\"bl\">bl:</strong> <a class=\"ProveItLink\" href=\"../__pv_it/common/8f6fbe105a59d4ecd3e51d0d53d42be2455341620/common_expr.ipynb\"><img src=\"data:image/png;base64,iVBORw0KGgoAAAANSUhEUgAAAB0AAAAUBAMAAACDsiv0AAAAMFBMVEX////MzMyYmJjc3NyIiIhU\n",
       "VFR2dna6urqqqqpmZmYyMjIiIiIQEBBERETu7u4AAACIO4EmAAAAAXRSTlMAQObYZgAAAOZJREFU\n",
       "GNNjYIAAIxDRDMR8dzaAyAsMLPsFWA2ATK4JIALI0mfgWwBk8jcACU0gnsvAkAKk6h8Aic1AfISB\n",
       "4Q2QygZiZqAZzB+B2goYGJa6zGBgAZrB9IGBgW0CA9+vB+8NeBUYGFgvAMUWMHD8Y+B34AaayePA\n",
       "wMCxgYFzAcP7BB6gPnmglYwfQNbXN4D4PgxgPr8Cw/wHIPVX+RgY2Dcw8BfwHWIAmfeJDWweqwLv\n",
       "BJA9DN+fMDBwJjDwTUkCq2PQTAC6RwDq3c0Q6jWUC/YPA8Q/YMAL8jnEv2AADA+4KCK8lBkYAEKE\n",
       "MYlEG2zIAAAAAElFTkSuQmCC\n",
       "\" style=\"display:inline;vertical-align:middle;\" /></a><br>"
      ],
      "text/plain": [
       "bl: b(l)"
      ]
     },
     "execution_count": 6,
     "metadata": {},
     "output_type": "execute_result"
    }
   ],
   "source": [
    "bl = Function(b, l)"
   ]
  },
  {
   "cell_type": "code",
   "execution_count": 7,
   "metadata": {},
   "outputs": [
    {
     "name": "stdout",
     "output_type": "stream",
     "text": [
      "ak expression notebook is being updated\n",
      "al expression notebook is being updated\n",
      "bk expression notebook is being updated\n",
      "bl expression notebook is being updated\n",
      "These common expressions may now be imported from the theory package: proveit.numbers.summation\n"
     ]
    }
   ],
   "source": [
    "%end common"
   ]
  }
 ],
 "metadata": {
  "kernelspec": {
   "display_name": "Python 3",
   "language": "python",
   "name": "python3"
  },
  "language_info": {
   "codemirror_mode": {
    "name": "ipython",
    "version": 3
   },
   "file_extension": ".py",
   "mimetype": "text/x-python",
   "name": "python",
   "nbconvert_exporter": "python",
   "pygments_lexer": "ipython3",
   "version": "3.7.3"
  }
 },
 "nbformat": 4,
 "nbformat_minor": 1
}
