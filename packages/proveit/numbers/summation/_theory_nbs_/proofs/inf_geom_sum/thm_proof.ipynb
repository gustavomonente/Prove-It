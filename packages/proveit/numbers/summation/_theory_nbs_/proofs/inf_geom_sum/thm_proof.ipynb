{
 "cells": [
  {
   "cell_type": "markdown",
   "metadata": {},
   "source": [
    "Proof of <a class=\"ProveItLink\" href=\"../../../../../_theory_nbs_/theory.ipynb\">proveit</a>.<a class=\"ProveItLink\" href=\"../../../../_theory_nbs_/theory.ipynb\">numbers</a>.<a class=\"ProveItLink\" href=\"../../theory.ipynb\">summation</a>.<a class=\"ProveItLink\" href=\"../../theorems.ipynb#inf_geom_sum\">inf_geom_sum</a> theorem\n",
    "========"
   ]
  },
  {
   "cell_type": "code",
   "execution_count": 1,
   "metadata": {},
   "outputs": [],
   "source": [
    "import proveit\n",
    "theory = proveit.Theory() # the theorem's theory"
   ]
  },
  {
   "cell_type": "code",
   "execution_count": 2,
   "metadata": {},
   "outputs": [
    {
     "data": {
      "text/html": [
       "Under these <a href=\"presumptions.txt\">presumptions</a>, we begin our proof of<br><strong id=\"inf_geom_sum\">inf_geom_sum:</strong> <a class=\"ProveItLink\" href=\"../../../__pv_it/theorems/d64f93eb93e672b2cd1364142ddb017c9d387e030/expr.ipynb\"><img src=\"data:image/png;base64,iVBORw0KGgoAAAANSUhEUgAAAQcAAAA/BAMAAAAf2xDgAAAAMFBMVEX///8QEBCIiIhmZma6urrM\n",
       "zMxUVFQiIiJERETc3Nzu7u6qqqp2dnaYmJgyMjIAAAAcRTyBAAAAAXRSTlMAQObYZgAABflJREFU\n",
       "aN6lmVtoHFUYgP+9zG5mdmY2iBUbLFkSiD4UEpC+NSbBy4MgOxa8vCWt1kIRsxbBB6VZfZAtKtmC\n",
       "eJedpBgwCIlIK5VC0ggWqpjFVlJF2Ugf6q25NIm5tMk4u3P+2ZndM3vOqedlhtn/zHznP//1LABz\n",
       "/EiuWoop+iCIjWgXp2AiQ26+Yss2pQQpXueUO2k4V3kXW1a5UxBipJdP7hi5xskqlfZJkPdO0oX7\n",
       "8oL7sZtLTJ0nNz+Q69hDr+Uv5Q/QpSPzgqp4gEuqQBQmr5IHKYjd0QVR+pKVm4IQE5M8Ujm0uSy5\n",
       "KQIsmgABk88LQqjNPL6xSW6m8lWII/MgBVjUhKB/KDc4hHRUwB/45DREHj1ungpa2ZagKmZNtkx/\n",
       "0blK265uvtkH6vGjAfLyNkOzLbU2V2RDDJJrbIlzZQsNfx37tlZTOtuflH9xrwc4ITobRwqtFiK8\n",
       "yXylho5Z6uX1uWkxCOUWOxngLgzzGpreLAYBvzNfmUTn2OB2/DVBiFmD9co0UW70Fi9E9IYgRJoZ\n",
       "WWaJKaiObeiWZ9AnKxuCEBNZFsQiCSW6MzdhEWV/9thBK2DzXxSEiDMD9zraBqlsetbdn+YCctVg\n",
       "XgwixvJRGXVbIDqLWwOsLNxZFIMIb7PS1wqmL1IMSlZ1SoRu1qWGgSJcB6GxbD6Mpt6JVliyqtqu\n",
       "LlnrPtAe7nCg0o1ia+TgTnetO9lBuRK6fwuag/veg+VDk5WhKbmvGDoadr5eECyu5B2A78o3fwUI\n",
       "xDBqD2LUVlpXKHIf3gvJ3oizD8lmMQhYBni/DBPkqjpa7qK7CWmLVlMdgsch7vwQWhKEaLW/Y0cC\n",
       "NajQC6EZtbqlh2q1UAR3wX1QkPxzuCFM0C6Oj78XmDpwVZYnfu1Q9nXJ1sUV1fHiTUGIIVvLG7nc\n",
       "qyIQI5bPB0c73tmbig7An/DuxduHOAxwQgQiYa16U8W0dizu8wfdiezqQmVwNJuLRrmJVXwvSbx1\n",
       "5FAjCOhZ9tSmqqlu+XuQpjVBTQzbEHEIY9RRzt1fVJ42pX/cDEfcTVn2ZhzvfijVhgQhVusVatGH\n",
       "s8Rh2/3VYhyFr5wdB+1jgHMNIeR1/xdSTAiGJmwIef5J+25mX4dROS14+LT9yIUg26F4t0PzN7H9\n",
       "BhWC2MQAHwSceNZOEuYL8V69/OiXnxmGCWnvVxNmpz2ZYpj8o2yY8KWdDSS4DlDpqr4+y4CQfHVE\n",
       "enIYPoH/D+Fsqu3dT+VyudRHT7DihM8GxtpGu/0FRFwUYqgMoZW1KS1JEKskztGyyQeHbbjKeOdt\n",
       "BSsn/6rzKqhlJHm/ATPuCxFiyIVoYtWl1ASWaGmYwIhWL8/YQffN8u3nC28YdYFn2H10oaqTycZR\n",
       "tmEL6hlWTSFl2wSjqPH4p0aHmMhwlZbVcLfOKu+2a6tXj3/2BRwmZMUgJFZzl8AidIpEarnqn6dW\n",
       "6HOmunggKsnXX0wHUuLJQD+JfCOYNuQz1ppAyV8L4Um+zJIfsIBJkkS76ATja612+snQp/QYHBCe\n",
       "5BthxpUh9FXH5CPsXhQWg3sexVmC4Uu+OrMmxWVF+MPgOl/j5SbfZIb1ximywYltXgZphQ/CTb79\n",
       "zOILj6rcsyvmCN/kgfAk307mmW4cdfUyLwT9mK+2BfUk30H24Q9mo9n6hj88Q2t9Q1meFtSTfO9m\n",
       "N4rYERfqfeFXOEM7YCqC0IhyWNs1dKR6G34JkibljMQUg4hxNGwlYsRanY8qaxCi2NSKGAMkOTqT\n",
       "JO57OYtc+qmtq+0w+uImxOtVr4nWVSWDLaNiNXLeVvPlPXCX2QExuwzMvS1tuf9IeStMwdMJxlk4\n",
       "Gfeg1U+DPJqBVdhf1USoHiJtCNoll+ZKZjXcxFJSM7xStYlkb534VUFF6Fz/jOpoFHZvGDLCWXnJ\n",
       "iJWz0HWqdzSqJanjCy5nkjBc9eehYOtCyyJVOyVOhASjBOzhE5tDu8/AI6Dn5eeRPfx9vSqfE2SI\n",
       "DXDK4aeeYctqGUGIOV7Bv9E62H9hnhT8g1jezSv5KboD2/s+EFSE7ED/Bzs3/2RQ9LIsAAAAAElF\n",
       "TkSuQmCC\n",
       "\" style=\"display:inline;vertical-align:middle;\" /></a><br>(see <a class=\"ProveItLink\" href=\"../../../__pv_it/theorems/949a50f04280652a568b294d4b99ea718b6b15980/dependencies.ipynb\">dependencies</a>)<br>"
      ],
      "text/plain": [
       "inf_geom_sum: forall_{x in Complex} ((Sum_{m=0}^{infinity} x^{m}) = (1 / (1 - x)))"
      ]
     },
     "execution_count": 2,
     "metadata": {},
     "output_type": "execute_result"
    }
   ],
   "source": [
    "%proving inf_geom_sum"
   ]
  },
  {
   "cell_type": "code",
   "execution_count": null,
   "metadata": {},
   "outputs": [],
   "source": []
  }
 ],
 "metadata": {
  "kernelspec": {
   "display_name": "Python 3",
   "language": "python",
   "name": "python3"
  }
 },
 "nbformat": 4,
 "nbformat_minor": 0
}