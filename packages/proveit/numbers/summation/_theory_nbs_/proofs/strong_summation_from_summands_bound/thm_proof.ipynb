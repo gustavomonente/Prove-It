{
 "cells": [
  {
   "cell_type": "markdown",
   "metadata": {},
   "source": [
    "Proof of <a class=\"ProveItLink\" href=\"../../../../../_theory_nbs_/theory.ipynb\">proveit</a>.<a class=\"ProveItLink\" href=\"../../../../_theory_nbs_/theory.ipynb\">numbers</a>.<a class=\"ProveItLink\" href=\"../../theory.ipynb\">summation</a>.<a class=\"ProveItLink\" href=\"../../theorems.ipynb#strong_summation_from_summands_bound\">strong_summation_from_summands_bound</a> theorem\n",
    "========"
   ]
  },
  {
   "cell_type": "code",
   "execution_count": 1,
   "metadata": {},
   "outputs": [],
   "source": [
    "import proveit\n",
    "theory = proveit.Theory() # the theorem's theory"
   ]
  },
  {
   "cell_type": "code",
   "execution_count": 2,
   "metadata": {},
   "outputs": [
    {
     "data": {
      "text/html": [
       "Under these <a href=\"presumptions.txt\">presumptions</a>, we begin our proof of<br><strong id=\"strong_summation_from_summands_bound\">strong_summation_from_summands_bound:</strong> <a class=\"ProveItLink\" href=\"../../../__pv_it/theorems/c2997a4f7fec4abce48b53ee9ed11948958b40eb0/expr.ipynb\"><img src=\"data:image/png;base64,iVBORw0KGgoAAAANSUhEUgAAAj0AAAA/BAMAAAD56GQQAAAAMFBMVEX///8QEBCIiIhmZma6urrM\n",
       "zMxUVFQiIiJERETc3Nzu7u6qqqp2dnaYmJgyMjIAAAAcRTyBAAAAAXRSTlMAQObYZgAACotJREFU\n",
       "eNrFW3+MHFUd/97szP6Y3dm58CNaA7mVJlCJ0AVjoFi4JfzRhERvMRExMdnLKVAStIegaAWvlqhb\n",
       "CemSklI1elMaEE+9XTWRNAq39CBN2mJXiRQp9A7bqlDTa0vP0ru26/s9v2+n3Zmbyc3u7Mz7vvfm\n",
       "877v8/3x3gF0f2gFWPzjbxHVexv7louhVflCDPBkhyOqOM0He31YNWYujQGfJ8sRVaxewi62lkKq\n",
       "MRXH9PpGZDXfWmMTbElIFf4lBnhy05FVneBV3xLS9DoZAz6jpciqVufZRb0RDqGtiwGfaoR1v8x1\n",
       "tDeU6iZqMViv0xFWXmd8qp4Ipbr/xKA++Sh1NjfHLvYaIdSmnI0Bn0orwsoz/I1Gw2gleSwGfNZE\n",
       "WvtRrqVhGMn64OLDo/4v0uqXM0aVwmC5qdLi46NF61LUm2wYzoRQ2cYYplc62jmd54b93RAq+zAG\n",
       "fPRoXa7cLDdg3Qd58pkY8BloRlq9zB2fge4jy1wc0cXeaDlP5XOi3r2e5udiwGeGOG4zbfMI6OoG\n",
       "FHmAZya6jzD04RjwOUUDmzalB/WpN/qOB4yFgomsYQY+2b2BH40hOs1Q/U+0xdhoI8Fi7YAiy5nj\n",
       "LHUfG0wUFx+f7Af0e8R0ExMBXd1gIlOM/7Xujc/ywuLjIzHqqLTNAOnTAQO3QCIDLCaQu/fT+4mW\n",
       "SkcX9hR+LqYG6162tnBJ/ByfBx7ymiUsg6W1TX7Q7DOQNLPdw/P2EyESvFejTLUy5wDI5TsXHikS\n",
       "U5sr5UmLPgGvKkjqefT3EXxxn6vM94dpSXpxHztf8QqJuU+x8ZRPr1AzV81C0mMQ3CK0P1SC9Urn\n",
       "dgtx+G78/f6Fm9oaxSeH9SjvkzDJi46+h86D+GLcXajISpKLcXZ64ZPnOrC17cN+qBntGKgeDOMh\n",
       "ctCUYL3q4fFLH8AWrEcXboT6DIoPqWKLT6HXhUrjzpHZkbPw1ktkcuoNVpJc4Of49MKnh/tccnve\n",
       "O35FzSRQh3ZYOP2wr8i8KcF6JRpAb4fHPHfhmeg29aJLRAV3+xT6Dr9IIfWQSeOq6XrtW0FJ0WAl\n",
       "yQV+jk8LPhuEzyXC073HPTUWN9ODXnWridiDNT8R0h8mwXqV4go6UgNt19jY09A9Pm+Pjf3Kx1fM\n",
       "iPu4oRz9dYjfu2oX/d7JS+4Uzw/Z8LnLjU++7WmkcTOjSCnzPA6RHjF8RUh/uMQhFz7wYbX6SAj4\n",
       "6NXqj3zCRgnPqk2THzdgKeGZ7Ouo2UlGyzv5RPvXFZ+hJQ/Ciyvo80kbPlrRhY/a5/RQRDNTuFtM\n",
       "4jeW1USXSH5oaUNI0F7leQA/gyC726K5XeCTLEO6BtJF4omyZ/ffWbqmRVYjZwCewEFf4xMD6MYB\n",
       "2tsbuMlTzxn1Gi6pzktPnaXPDzB8Eg+T4wMXPihgsIeqZjOrMaJUVbY9ao8x7CL199XTQoL2Ks3x\n",
       "2VjGGxZMnpdZ6vXLe14knElqktkNWejDDqEo6nGOj1wk7G/6K7dBlr1HCtHb1hbcCPBd3L9njN8C\n",
       "39TwdcF82TnQC7hkdu5qtUWfv2Dn5+wR9ka9loDhY3bzJJrBA0U3MSSPOGIMu8iEASeEBO1VWjgQ\n",
       "CIAUSKbbQvULvesEuSB2Lc1upCFDvcC34Y9ufGAYrkG/Cfn+evJmgLVMHBEfetpv4CVzvPZ/HVX6\n",
       "ChE38UHufr2JSyYuFs8rDvs1fokTHxixzxbRjIIpRCED9NwRR4xhF7kF51G5RMWNT66VMgvTqlIG\n",
       "BsWCD7mRBnU1sQIPgc7pThXzC15DCIGMR0x7/KfoOWquYeLzUVBnKT7fWlYQ+EBGzC/k9Qw0cMnU\n",
       "0HoffDL3UyNUt6RXR+02QTQj9Qp8YNOj9pB62OH+yPNCwgOfzPSdZmFK3HoNsjZ8yA30nfkh6iHq\n",
       "QU/DxT/wC2UQM+LnB9kWo3fFq6FZg4YIzzakxupJumC/ysHPegsNPp5f9RJZXF9FT8o/R+lRc/EP\n",
       "/NXmI5vNpAcNNloOfnaKwFlIzAmJVW5+hg1fxRx2JXaglBNXYs3IX8YojONDbmCVUh4zsCKmWm58\n",
       "0pvRR37/7XPAWLGP76RBrKvOQ3J6O6ZB7Zg6nxNMaNp3vaReTph8CjF4087PjByn3fwsz9qDFNGM\n",
       "3moKfrbZd6cInMSkxSUOeODzB4Sy+k0FM4e0llhY9brjJRs+5AaZcvI/AZU0t/yY+GRvwF1H1lBl\n",
       "VjVzL/cwing31r7BJqa35DqYxfisdPiHyVa6SEquBr3cpM9X2vAZN9z4VByerWhGvx11MdF0+4cu\n",
       "ka/BYyAkaK9SHJ8RjI+OayoqWBfTBQb55mEbPuQGpSRtCdKfnoIzvkAfOOtwx7IGKN+uVtfDs2im\n",
       "8BFDlT13xZeGSlh908jZuBrdPOyIL9TrX6MlHwfpeoM+P2zD525XfAHqRQ53QzSj4TfNl13xhVtk\n",
       "2ydbICQOu/1D0FBvehrSIGHSBPpSy6Aes+JDb1B8Xiog/tGFCzFi4vMWOpcpvTUg2ZM/AdzpGV+w\n",
       "bg4vHIng5/i04CNkU3O2mNY7vsDHL72C2+ICEqxX1viUuRS19FvoTXUDM28W6cCgFR96g+DzuV02\n",
       "+0U8KIYP0W9luACv4qsbQf2xd3wKzvjUK5JdKD4V7pvfNiDezA6PZ9WFJFivxARuC5WtVT4LW4yU\n",
       "8Sb6RIHs84YVH3oD43PXTehjqen/sPyYwOc9GCrjKQSwYuWkADFdc8WY495vJkoulN/g+THIrTXn\n",
       "j60EbcYrv+EnssHaqzpTblUki+Sh398MdzSU+5voM7Fpz002+0VvIHw2kwSStKfoSGXn7C77sup6\n",
       "//yYAyifTNoGdnrhI9LmFku935kfsw2Lp3Hf75ZgvaqwXiiOxeGG5dPBz+Rb+YE7P09MhPS988yv\n",
       "ah3yq/g5Pq/1yq9mz7gstdzrkV/9h1vUV4RI8F7xRQe+EADWpLA1NezAxyvhPbj4+XmFpc1HxUiq\n",
       "/QGXUYKJ+KzvaK60dWd89OnFxwfO0Te8jP/+2Zp2sJ0EAUX62aPEbIf6CMQJTouehjGO7WMj1FKf\n",
       "o1HHA+12+1QwwYAiM7x49y/XEeIoDjq+/ee//h5QhEMXwuJ5No7tmROtSKtXOC1Xul8cjngroPcR\n",
       "8Z5HiftXy0PYQf9wDPikot00IrbkhrFNdm8M2+dzpyOtvmedyLZ1f4wWFh+fzIlIqx9g9CaHwa35\n",
       "ODZI/ZtQn1B/vpzQmS0DiaxhgWMyjL1xWhwGfqpsSdGaywmdj0AiYh0plL1NcWxg1UnUN4kU4s+f\n",
       "apnLCZ2PICJixKdC+R/Ol40YCJosYT0B8Ob2MctyQucjiIj4t4uj4bB9MwYFInHUafZP2GI5ofMR\n",
       "RGSg7Ir1uyKgOHb4TiGlVXohT1mXLyd09oyDiBzkehTS1sr/xoBPHimttA62sZ+bAxrRICJZvvz8\n",
       "u5CIoxKDh4gXg9MF+GK1Wi2YywkdjyAiPTy4uzykvmpxeED70It8AZJkwMVyQmeuDCByD48yQgvy\n",
       "vhIDPski6BLkMJWaywmd/YLOImK094VHBo0YADoCiVfwYiKAuZzQ8Qgg8iRji8yS0LqqlmPA51lK\n",
       "uIhMzjd7sbDIT3iMR3H6P/xDeJe1XU9nAAAAAElFTkSuQmCC\n",
       "\" style=\"display:inline;vertical-align:middle;\" /></a><br>(see <a class=\"ProveItLink\" href=\"../../../__pv_it/theorems/a6fd2acfd70b8f233e69b787eb977bccf72edadb0/dependencies.ipynb\">dependencies</a>)<br>"
      ],
      "text/plain": [
       "strong_summation_from_summands_bound: forall_{a, b, S | |S| > 0} ([forall_{k in S} (a(k) < b(k))] => (Sum_{l in S} a(l) < Sum_{l in S} b(l)))"
      ]
     },
     "execution_count": 2,
     "metadata": {},
     "output_type": "execute_result"
    }
   ],
   "source": [
    "%proving strong_summation_from_summands_bound"
   ]
  },
  {
   "cell_type": "code",
   "execution_count": null,
   "metadata": {},
   "outputs": [],
   "source": []
  }
 ],
 "metadata": {
  "kernelspec": {
   "display_name": "Python 3",
   "language": "python",
   "name": "python3"
  }
 },
 "nbformat": 4,
 "nbformat_minor": 0
}