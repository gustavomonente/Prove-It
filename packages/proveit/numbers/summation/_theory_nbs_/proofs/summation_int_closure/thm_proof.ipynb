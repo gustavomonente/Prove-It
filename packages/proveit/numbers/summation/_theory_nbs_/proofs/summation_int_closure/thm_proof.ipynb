{
 "cells": [
  {
   "cell_type": "markdown",
   "metadata": {},
   "source": [
    "Proof of <a class=\"ProveItLink\" href=\"../../../../../_theory_nbs_/theory.ipynb\">proveit</a>.<a class=\"ProveItLink\" href=\"../../../../_theory_nbs_/theory.ipynb\">numbers</a>.<a class=\"ProveItLink\" href=\"../../theory.ipynb\">summation</a>.<a class=\"ProveItLink\" href=\"../../theorems.ipynb#summation_int_closure\">summation_int_closure</a> theorem\n",
    "========"
   ]
  },
  {
   "cell_type": "code",
   "execution_count": 1,
   "metadata": {},
   "outputs": [],
   "source": [
    "import proveit\n",
    "theory = proveit.Theory() # the theorem's theory"
   ]
  },
  {
   "cell_type": "code",
   "execution_count": 2,
   "metadata": {},
   "outputs": [
    {
     "data": {
      "text/html": [
       "Under these <a href=\"presumptions.txt\">presumptions</a>, we begin our proof of<br><strong id=\"summation_int_closure\">summation_int_closure:</strong> <a class=\"ProveItLink\" href=\"../../../__pv_it/theorems/eba55256267870714b87a7ff528c0d65243563a20/expr.ipynb\"><img src=\"data:image/png;base64,iVBORw0KGgoAAAANSUhEUgAAAgAAAABLCAMAAAAxps9OAAAAM1BMVEX///+wsLAQEBCIiIhmZma6\n",
       "urrMzMxUVFQiIiJERETc3Nzu7u6qqqp2dnaYmJgyMjIAAAAld9JPAAAAAXRSTlMAQObYZgAACMlJ\n",
       "REFUeNrtXYmypCoSdVgERJb//9pRC5VVBKy+5TDEi3gd2VyaA8fcSLjD8EBD49Bx+3H0E8lLGhtU\n",
       "Pe//z6MnIi9paqOeOt7/30fPAc5KmhoVPSuAF6CXgGclDU3Qnvf/FegVyUvqfQwtO97/d6DHesxK\n",
       "qhsDPSuAl6BXKi+p9oF6VgBvQY/1nJX8XwH8L6NXNC+ptIE9hwDvQS81zkqqGuo6B/Ae9FyzrKSq\n",
       "6a6TgC9CzwKusifYO2vY8f6/CX0410dmT7q2AK9Cr2leUjFq1zHAq9CrgK2qnb+zRl1bgDehh4HG\n",
       "h+02AD2VTXhpDPAm9GPgsY7tPizVvGMCvAy91nlJcXDZswvwNvQqOP9RrSdC+Jlcwkvb29Cj4NwC\n",
       "tZ5kiK7zwG9DDzXJSgob69oHfBt6HMT9uDUTAHTP1cBvQ88Dn4+3eoG66yDgEr3SiQZ/acKNGzg1\n",
       "hxFvbtfo52WvHQXBJywJ0H8ZOYDgABi0HQljDw2hlL74aAAv0xf16AMPO2ZgJf1Dx0EFTr9qCwOk\n",
       "l0l6f3VwyZUZmcmjUR31sdHfnSCTIGwhbYGM8ALhbxNgkvfkc6EaOvuXEEBk0gDjYgRiE664SNYK\n",
       "8FBKJCY5GSll24AbAeqHy3qxZsEl0ZoRQhTijtwidm6BMAUaKAWoAtLuX0IAlAui5cKA2ESyy9IO\n",
       "0MOXpOwmEYdRUoUuIYsRoH64rAk7UBvlyz7XW1SwGjynZiHbvsOlG3P6lxCAZbMoTNfG2a0APXzH\n",
       "dquAAItk2vtMpZlN5R2HUmeU6eFEqUSnchXG04aO3AKWCbaQMFwV2OlfQgCVPQzmi9NfdWDcDNDH\n",
       "Z2gR8PEj2b9UMRcTQER8gOrhMu0MMKAJXuD278cCD+456JItHj49+b/p1mW3R+T2TxCATTfQRwMF\n",
       "XeX0NwP08e02iQZWapVIwdc2FasrGiVA9XAZR4haqnX3YbEjt3fHZv7IYMwaMb7+5/RPEGBkN9DH\n",
       "HUVdcwvzGYA2PrPdICDAJtFsbeW3XKmX1jIzrR0u81Ug30JOm37d5RxCMmFodKNAtsGM7oGElptq\n",
       "+qdMQEwL0ztJPaVrii4eAejg25NTYbpqI9po6Tm8ODcCMcLPlRcC8XhmScYI4AxX8IlbjI59FdKz\n",
       "kPOHYkbOxZplgYNRg1LlXObFtba8a9PfJgCiVovYcnAnibK6AcVfwiMAXXzXBMDIdizlphX2W8/T\n",
       "pmvGqCJLEMAdzjWK/ld9cstepjmSoKTzaSGJWH7OaD0jF3xVuHzAn8WYLb0Zd0YXmloLZ/qnncBZ\n",
       "zTUE2FLCpenWRwC6+HaXZIhL1sHgDoeQzyQ+KwI+g6DYyvgeDrX+D6Or40zV4ZY7WRRy+nzTgjkn\n",
       "GEa+ihizPqLzj0tAbJoNHQ1YDH7/iyiAK+9VjZv+HSp3A54A6OHbt5vHJUJaaTy6bZ35t6i01UJA\n",
       "gKgP4A6XJIDDrdGdLCcXBHB9WWtbrOlY6xMPR48QWfBbBJiImK7Rpz2lUiPwBEAP39b+ExBgl0xq\n",
       "GHfofMteQbr9BQSHVooSIGoCnOHSBHC4RcZU0icwAaNrj0/TMFrHb9hawxh3zxAZ2P0dH0A5bcqh\n",
       "T1KnNBv0BEAfn/l5nwCHhE0EH1pBQLHH8MdDItEjjIQPYA8nIBrhubsWAVxuUa93aEEOJxC6NtXI\n",
       "Z/4ZyBhO20dCMPI973uNQMoJdFSlyqNPJrBAoTv8AMAAX8YHGGZ0bJ6wsR7KC4j7YaA13DJbogaK\n",
       "IwRwuPWJda3ec7ATR9yjXBp/5OtzB2v0vB+bIBH9hvwQmRPJ7P4JAkTjLHrPBJS/xfIAwABfjgCW\n",
       "dWG2/gHwwgVIE+AYbsGuZNwEONzCzOuNA7tmdB5aImsCAzknEHKIjsBXjY5HwbCzphgwBRhjQAMD\n",
       "1/RPEICMQy0BxtJU4BMAQ3xZAsjj550JLxEBl/Pir+H7qWB3uME5EGMJbmHi9R7VRSo4L+ee2cWC\n",
       "OangVP8EAaY76BN5gPYSsCcAmu0GWcn57OG06hAORjjIWeFEuIISBHDjqzFGAIdbe6716I3JrWxc\n",
       "Si4Kl73mMIjdOehRD9wefALgdSrYdkCUNjH4CFZVwBETa2JgqiLApDeXQsQI4HBrI7TdW0a+rlRu\n",
       "kZUfB6f6P00A9siJaDvA3bukWYmTxNo/YpKoxSGxegA3nJd4iSl4NAx0uLVGnXZvhKPJzSGR1L1J\n",
       "lewKlxCA5G9VCMov1vU+P5sBmunE6wGS+3+silbxXBYqLgnzkRzcgnOQx4iY4pslYbJweWRVSRjK\n",
       "3gyLB4Cy/IC4FWByxpcYzn+UUZxQKa0EOLnl/s38R6/vlRAA5ggQDwDx39WFk8BokbYXDubiquBQ\n",
       "l+3cwtKxDsPvE2DOHPROsQCQoz98VIIFcQtrqwoePR+SZu8FoBsW58x2/eO23gsg9eiDADBY22km\n",
       "/nWRf9pUQEnVdkuBd30zKINeaecogQJzNewPL0+Elxlbrzfqrt8Iu0SPfu9uIA/Ognjr5U6qcccE\n",
       "eBv6MVBZY6sKJ12/FP429OFdNtn6ShTs+pW4t6EXwXxFK4Kx65eC34Y+fNGk/Y2TrsOAavSZ+ufv\n",
       "+Sw8KymPLHsOA67QN9Q/fy0IAFlJhVnp2Qu8Qt9Q//ylNgeHV7Nu/tVhWJOOCXCFvqH++WtBy5yV\n",
       "lDfQtRNwgb6h/vmfTfaJzUNdPxRnoffKn1vqn7/TpkBdTU+ob9z1W6Ener/8uaX++VtZizkrqVIs\n",
       "Xf/GiAO9X/7cUv/8pZAF5CV1xOr5OMBG78aELfXP37EAIiupzIb0HAdY6N3y56b65++4KzwrqQ2G\n",
       "e34u1qAPyp/b6p+fbzz4TvlTXy7v2g006IPy57b652/YqikrqR+7ZxWQQt9W//y8t4rykvrBe1YB\n",
       "KfS/Vf8sA5rKBz/buWsVkED/U/XPPChE44+WppGef3NQAv1P1T8TlZc0Ndrzb475ffQ48Pfww8f4\n",
       "I+jZCPw8+vBiF3069MA914X8Ono+X0r+C4ngaM5hqLxbAAAAAElFTkSuQmCC\n",
       "\" style=\"display:inline;vertical-align:middle;\" /></a><br>(see <a class=\"ProveItLink\" href=\"../../../__pv_it/theorems/ef2646dc93592d4d7a3b93117f46ce2b46d065420/dependencies.ipynb\">dependencies</a>)<br>"
      ],
      "text/plain": [
       "summation_int_closure: forall_{P, Q} ([forall_{x | Q(x)} (P(x) in Integer)] => (Sum_{x | Q(x)} P(x) in Integer))"
      ]
     },
     "execution_count": 2,
     "metadata": {},
     "output_type": "execute_result"
    }
   ],
   "source": [
    "%proving summation_int_closure"
   ]
  },
  {
   "cell_type": "code",
   "execution_count": null,
   "metadata": {},
   "outputs": [],
   "source": []
  }
 ],
 "metadata": {
  "kernelspec": {
   "display_name": "Python 3",
   "language": "python",
   "name": "python3"
  }
 },
 "nbformat": 4,
 "nbformat_minor": 0
}