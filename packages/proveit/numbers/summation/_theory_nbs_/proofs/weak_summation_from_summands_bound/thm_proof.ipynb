{
 "cells": [
  {
   "cell_type": "markdown",
   "metadata": {},
   "source": [
    "Proof of <a class=\"ProveItLink\" href=\"../../../../../_theory_nbs_/theory.ipynb\">proveit</a>.<a class=\"ProveItLink\" href=\"../../../../_theory_nbs_/theory.ipynb\">numbers</a>.<a class=\"ProveItLink\" href=\"../../theory.ipynb\">summation</a>.<a class=\"ProveItLink\" href=\"../../theorems.ipynb#weak_summation_from_summands_bound\">weak_summation_from_summands_bound</a> theorem\n",
    "========"
   ]
  },
  {
   "cell_type": "code",
   "execution_count": 1,
   "metadata": {},
   "outputs": [],
   "source": [
    "import proveit\n",
    "theory = proveit.Theory() # the theorem's theory"
   ]
  },
  {
   "cell_type": "code",
   "execution_count": 2,
   "metadata": {},
   "outputs": [
    {
     "data": {
      "text/html": [
       "Under these <a href=\"presumptions.txt\">presumptions</a>, we begin our proof of<br><strong id=\"weak_summation_from_summands_bound\">weak_summation_from_summands_bound:</strong> <a class=\"ProveItLink\" href=\"../../../__pv_it/theorems/d472ca157f4d09025a1657290ffc45b64ff3f9870/expr.ipynb\"><img src=\"data:image/png;base64,iVBORw0KGgoAAAANSUhEUgAAAgEAAAA/BAMAAACLJwamAAAAMFBMVEX///8QEBCIiIhmZma6urrM\n",
       "zMxUVFQiIiJERETc3Nzu7u6qqqp2dnaYmJgyMjIAAAAcRTyBAAAAAXRSTlMAQObYZgAACYhJREFU\n",
       "aN7FW2uMW8UVPn7b1/f6rqIiSgWKAYmkVWkM/ZE+UtaIH0hI4BskCpUqeZtC1UpADGqK2gK7QB+O\n",
       "KohRpCX8SNchKoIVjU0rFSG17KIgRTxjdX8s4pFdtAkhaZXdPLZhd5O4M3ce98592LM/7s4o1/Z6\n",
       "5pwz/uacM+ecmQDINKMIa9/+HRHfW+h7srQKotcUAJCvRcQ4y5bzSXma3GUKEHjWioix9hX6YV9Z\n",
       "miajwggejozzzQ1qBldIk3ygAAB9NjLWCcb6JmkjOKcAgbFyZKy1Ffqh1ZZ1HSMKEKhHyPtNpmcD\n",
       "kgQTDQU7wVKEzFvUr2lnJAm+UKAChSj1Tl+mHw43pcanLipAoNqJkHmO/aIxOSnpBQUIbI+U+ymm\n",
       "aXIbTmto7QHQ/hcp+03Us8XlvM1Mee0RMKLdgFuTFOgLUsN3KTCCbLSWV2Db4GdSw79UgIAZbQii\n",
       "L7LNQCb5SF5QgEBlMlL2SRYIVGQyHl1FTHwY+55C19XkkjNJEo3pdUtG1wrLChCYx6FKvkuV9eXb\n",
       "f9KVC2BlSR5iWa8MW7OmAIHz9uvgef7F9IocoSTJdrodpmW2wzEFeVGOaGmm64QikpmsJMkmGgzG\n",
       "ZeLdidLaI5A/S+LxrjPBhFzJSJJkhnpaQ8bNb7IdSvxU7xns5ctH0c2HJJTufvwc+WXAoDj11TNd\n",
       "h0vHzyZIRijJXvesKlRTkij2tCPjT3tZll1G0MsFG7OQVELjpvIS+nc5/vAL7xjytdCPn7eCqjjU\n",
       "hLPdMCeE2GxY9MsIItGeqJEZxoctRjFGE4LcJYB38YeTvXKUMkFAx0gUQtLJAgf+BHrm8IcDriXd\n",
       "Yb/N+foPhCCQpjuwtv5syKwQG2PBLQM2WGEkhRKd4Qyflcn2gNMAezASvZzdfIMgYA/aEzJoigf0\n",
       "WJq9gjrfjl+hRc8VXz9+ghAoMBdd6QYXsjCbxIhLhnaoGEpitukMv8NnFWNR93qyqnqvetn6JkHA\n",
       "VpR3Qwb9mvtihFfSjiA0BvPux6jNLfv68eMgkOWKFGMxiN79WrDLR0NjRUdGbjM3Tz9JpUlnuI7P\n",
       "igtAv854Z3z8uV4+rgsUgU/Gx18OMcsc/x6z0slfR8k3o/9hU6v5+4+6EUhxVTR5YjR/KVAgZjNm\n",
       "cRm5B11r6CM5RGeYW+SzyjAlG0ZQflmvPyqFgFmv/zEkXI9j3d598OomXGvbXX4KMT5od91zlKv2\n",
       "tmvb3v6DghVM+RHY1/WK5GJmgMlIPeNO4H0kn1/zfXuGxgKnEBC4D2Anzxho8eTH7/3L8iGQtrCe\n",
       "xtdxzs6obMc+f5gHeBoH2+2vV9AXR+ye3ztJ+Ultydt/hCKw+RHchks+BPJdT1riiPk5UBlQt8TI\n",
       "WCTRLjVbDTzD9AinKLDkcN7CB4maUysiCCVLMOHXAfQt9qR8/3aNyiAl3NfBnua3OIZ6oflXoIeN\n",
       "8Yf57jHRhDPe/tdET/hG24sADJ4Wtx9HzDomAzZ8Q9y/RZL8MphFPMNYkVNkGQK7EAIZiDubPLHZ\n",
       "TBOyHMHTDAGowfXob+xDtH9+u+MeFUO9g0180IXP5G4gS1klXvvRJg9StQve/qqIgPYZUefWgCvM\n",
       "FXWai0ktcRkw/Y4YGQskiVloTeIZVhucIsvUZBf6Xu9knNHEPMwG5AMQeB9hAEnsxj58fVwYhfl/\n",
       "FbRFgsCvNhYdBCA/R138HCRXvP0eBEbfBi8CufOiFXAx8QFHBrzxXbdfPu8NByptPMOrIRiB3OwP\n",
       "0af91x3DLuXMdXjFClc6nkXjVgB/TqFYUi/dOURO3l2jkI6h9c0v2OqpnSPHbLcya/mcmOlFSCx7\n",
       "+2+lCNx0ym4nmMtwrMAQjzcdMdmhpiMD7rgPwkjMDlIcbAV/0PisBARg572I8Y4U1u74b2yvrt1w\n",
       "uuz3A5AdRS+Fj29bLpDJOKOQn9FWID37OnZRxoK2onOfg3Gt2+POYRv29B8RdOAO/14AFTEfccSY\n",
       "nUmXDLjnd2EkZlm7yvbVF/VgTwh/R3qdKKWwdmeLBvGKo7UABPKbMT8E9n6mtGyUXsL3EaaHJrEr\n",
       "RS53Ecva4qilvUAPwFPg7d/iRkA76Ucg5U3yuRjztqJbBoxaISTpTrZkz/DcC3xWIgIm4hRrx4ds\n",
       "e06gN80CbSEAAcAZ29aNbbi7Xq8X3aOwc3jxmh9tK2Mly6JdHzvnY5657/9mB7z9x9wIpK2AeMBb\n",
       "6uJijC0BMoJItBvfJzOcmuQUGYbAMJZpIHtCG+ZH6M1sxpC95NuQGvJHxQAfoWdjaqCRtj2ce5QQ\n",
       "FVPBtbBw1unHj4NADnxRMUmiQtkEypjrFbdTCiEiIiIb1dthTzPT/BC9opTjJWdHHXYQsLUwVSvq\n",
       "GDhhlJgZgZgZeVMapz8sM8owBMIO7imbIBkhJFPCrNyZEVXjbX/7AWxtp+6fRK+J3e99zyHdZQkI\n",
       "nIBtFvwJI+Ae5SQ1PL4keegBO9jb4bAT+sOyYx6wHHJWQszedrpkaMdtIVZPEjrDAx4z64qC2wGi\n",
       "eIVEyAOQHwivkHh+qq+04fTv7FMhce1rRjuATYCMMBI6Q0rRouajiaEDKSF5S0+kqBh/fJVVMqNP\n",
       "lQz34+dbgVWyi7597eYANkEyQkn2umdVpSuWEg/EDNerq1Ia7fFNcKWUFDBzzr62/6xklVmOhJV/\n",
       "8zJsq0Nrj0CKHJ7vY+Dn/sFOQvo1SZJVVcvNWQUnJqTIMU9i5ePru92u5LmNJMkgtZWEDLAZFVdI\n",
       "hu3prf7cUJZknmVNMj8usagAgUErWv5sC5A6EsyruEg10YnWzzAHWJU5EIv4Sk9wi/juUpztGJuk\n",
       "bpU+ogCBTLQH1vx6nNyVtcMKrpTqS5Gyj43wipNMGyuuPQI5++hU2+4vS/dpLy7IkFSom0nK+biC\n",
       "iisUx0EotLmL1z1bsiZDsp1mT2m5+zGGiu1wxl6/g/6ydD/zKcmQsK3AlLwboeIymWlHt0/7y9J9\n",
       "Gq4H9iXhazojGXa82VTgCu3jzyXwlaX7IdeQIOHXiU/Jek4F2SFciQOXAfCVpfu0rSBBwjLopKx9\n",
       "Gyru080gxYuP+MvSfdpGkCBhlcSC9BWp/ypAoDBp/89AX1m6T3sS+pPk2QWDV6XNu6ogJsLHgrG7\n",
       "wF+W7t0us/qTxFjScZX0bAwVEcE0cmtx8Jele7eFYn+Sn7HYeBXJx08VIJAuQeIt8Jele7ct5b4k\n",
       "fD2nV2OUbQUQkJN8X1laIvPrTfIstencFavgqVkKEPhLRHyfZ7kHQeL/vDtSAtQS76wAAAAASUVO\n",
       "RK5CYII=\n",
       "\" style=\"display:inline;vertical-align:middle;\" /></a><br>(see <a class=\"ProveItLink\" href=\"../../../__pv_it/theorems/6fdf672725bec65ac480b87efcb3cfd5780de4270/dependencies.ipynb\">dependencies</a>)<br>"
      ],
      "text/plain": [
       "weak_summation_from_summands_bound: forall_{a, b, S} ([forall_{k in S} (a(k) <= b(k))] => (Sum_{l in S} a(l) <= Sum_{l in S} b(l)))"
      ]
     },
     "execution_count": 2,
     "metadata": {},
     "output_type": "execute_result"
    }
   ],
   "source": [
    "%proving weak_summation_from_summands_bound"
   ]
  },
  {
   "cell_type": "code",
   "execution_count": null,
   "metadata": {},
   "outputs": [],
   "source": []
  }
 ],
 "metadata": {
  "kernelspec": {
   "display_name": "Python 3",
   "language": "python",
   "name": "python3"
  }
 },
 "nbformat": 4,
 "nbformat_minor": 0
}