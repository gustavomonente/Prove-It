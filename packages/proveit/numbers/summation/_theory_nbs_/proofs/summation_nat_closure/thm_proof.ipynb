{
 "cells": [
  {
   "cell_type": "markdown",
   "metadata": {},
   "source": [
    "Proof of <a class=\"ProveItLink\" href=\"../../../../../_theory_nbs_/theory.ipynb\">proveit</a>.<a class=\"ProveItLink\" href=\"../../../../_theory_nbs_/theory.ipynb\">numbers</a>.<a class=\"ProveItLink\" href=\"../../theory.ipynb\">summation</a>.<a class=\"ProveItLink\" href=\"../../theorems.ipynb#summation_nat_closure\">summation_nat_closure</a> theorem\n",
    "========"
   ]
  },
  {
   "cell_type": "code",
   "execution_count": 1,
   "metadata": {},
   "outputs": [],
   "source": [
    "import proveit\n",
    "theory = proveit.Theory() # the theorem's theory"
   ]
  },
  {
   "cell_type": "code",
   "execution_count": 2,
   "metadata": {},
   "outputs": [
    {
     "data": {
      "text/html": [
       "Under these <a href=\"presumptions.txt\">presumptions</a>, we begin our proof of<br><strong id=\"summation_nat_closure\">summation_nat_closure:</strong> <a class=\"ProveItLink\" href=\"../../../__pv_it/theorems/36c8c607858e67f39c90cd51fc323275860489330/expr.ipynb\"><img src=\"data:image/png;base64,iVBORw0KGgoAAAANSUhEUgAAAgMAAABLCAMAAADakXRNAAAAM1BMVEX///+wsLAQEBCIiIhmZma6\n",
       "urrMzMxUVFQiIiJERETc3Nzu7u6qqqp2dnaYmJgyMjIAAAAld9JPAAAAAXRSTlMAQObYZgAACM5J\n",
       "REFUeNrtXdm2oyoQ9cosMvz/17YaNSAgYzqxuTz1qlbCxk1NFJxhaNAgHnpuvw5/IimiugZU1xT4\n",
       "ffhEpIhqGtZTzxR4AHw+ogRRTaOiazXwBPhy5Ami8iZo1xR4BnxFUkTFDoeWPVPgIfCRxgmi0sbG\n",
       "rtXAU+ArlSIq9Yi6VgOPgY/0nCD6Xw380/AVTRGVmcOug4IHwZcaJYhKGuw7N/Ag+FyzBFFJ032n\n",
       "CJ8En7l8ZS0oPGvQMwUeBd8z2CbjJ32bgmfB1zRFlN9t31HBs+Arl7GqnsSzhn2bgkfBB67mB/XG\n",
       "ALbKMjw1KngUfOx6sLjeqaWa98yBp8HXOkWUG3J27Q48Dr5yd4lU7cYRapNjeGp7HHzobm7A2v0O\n",
       "0Xei+HHwgSYJorzG+nYJHwcfuekAVJshGHXX9cSPg89dD5DXOoW677DgFr7SgQZ+a8SV33CqDiwe\n",
       "3e7hz8vnttQEn5Ako/5qLDG6m8Vj3f4xuuAhlNInbx+gZfyiHL7jcftMraTfdCKUGwWousBAXpJM\n",
       "/0B9cc7xGxnJsVHt9bnhF7ebiRvJkLrgRlzi409zYJJp8jlXGb1fyOGAiKQH8GINfCMuOJlWjfDU\n",
       "TcQretNSyroeVw6U9xb3avcpl0RrRghRkFtyg9uRKeJKM6bWt8Wo1/M25ws5HICx0FouJPCNJDox\n",
       "1QgdgGHabiJx2ieV6SEyDwfKe4sbsxP3roTZ66SMmtwpiA5dDpi8YiPrhRwOsGh6henS6Lsa4QXg\n",
       "+cGVy4FFNB3UmHIzn+qydUqHmt6iiwO+lazYXW9gyQ1gsQCMUDyA7aHReiGHAyq6c8yXMKBod7ke\n",
       "4RXgqwGXky/RsWDFnM0B4foDxb3F2jvkAHs4A7bf94Ui/OKxS7a4/NRYAwQxPhB8OjHHCwEOsCkB\n",
       "vjd00EVhQD3CK8DDOlHXYK0iKfjapmy1RX0cKO4t5hZRQ8UeLi2y5Ob3MYNezAB37OmiKfnKV2q9\n",
       "EOAAZgnw/X6jLjnaWY/QAbh/8NHlwCZa/Iel5R+fpZec1+vXSnuLLQ14NZbTpmcPOQeATAjsOlJA\n",
       "03a6X2HxqWawWcx9ivYXQrbAp45pSspP6ZIqjXqEDsAjceXJZW3PY0PfocXVEZAR/p58ISD3Z52k\n",
       "hwNWbzkL3aC138mxjeX8otku52LNv4BhV4dS3fvQq0ygQYJjivYXTA5AajSPXR9TsiurS5C9HBog\n",
       "dABGOICg6WnKTTccJ6qnTedgr0Lzc8Du7WIfr2v7TS9zomZP+pLOb2NJxPLerv12ueCr4uUDek3H\n",
       "bCD36fFt1shqMfcH9xfCPuGs5hIObDnj3GxsA4QOwMM/8bgs58cDByBCXsN4zcn4+kXom5urv0MH\n",
       "t7fLYrYWvkkvm8rQJfY7ymXWLscuX0WMGSvp/c9RHe0yRXzNjozWCzdxAVeXmzsS3T2Y7xI0QOgA\n",
       "PD44dzmwiYQ0zAbdPt/+a1SaysHhgM8fsHsLc8CiF7b1JSc3HLB9W+PDGMMxZmgK6oH1V3EqByYi\n",
       "pnv4Ybcp1xo0QOgA3Np/LgcO0aT2hMKWU1jfBnT7DzCe2snLAZ8tsHq74YBFL4JD+SDHFmDbNL9t\n",
       "BDb26ZAxi2OQA4OcjyEh1xZAZbUpBj/IntxEUQuEDsAjfc2dH9tFbCLo1A0CiCO4P68r8W50+P0B\n",
       "szcBIAbG9zXGY9OLXh53bcnpEwLbvO7ymb862m2o6TFBz3I9xiSONeTxCS2NqeLwg8mtMdM/boHQ\n",
       "ARjzB4YZnqwSJtpTiY0iOTY0eluGS9RAkY8DFr1eIbDx+Ox8izMWUjaVX/L1OoU1qD42V6DwLqT3\n",
       "r88Xcu8vBDjgCy/TYsOSK19aIHQARjlgGBpm6qER3LgDQQ6cvS3glQzYAoteiF0eR46J23UfXAJu\n",
       "Ahw5JwBwAM99KoUt74Iha1Yx1SOzE+/7CwEOEDyUcgDnJgpbIPQAjHNAnj1YQ15iBL6YlMl/l503\n",
       "V2z3NtgbZyxAL0Quj2N1kyuOy/nFAiPB7Fxx6IUAB6YU+IH8QH3tWBOE+wcfE0TnhYsT4ysCDBa/\n",
       "QqFACAP9HBgs7xV7OWDR68jFno8jkpSqC8lF7sSX7BmxlP0g1eBEYhOEkVyx6Y4ovcfmeFwVAodM\n",
       "rAmDqYQDk968C+HlgEWvjdXm49KzxEKpR1awdxx6oTUHWJPd0wYID2+TJojMDNexlkmggod46gfs\n",
       "KF+iJcjg/tjQotcaipqPQ4/m4YH5dOXZiWpWUkNC4sczBOU3E5tO0XqE+3gC9QNBCpzzopU/0QWz\n",
       "a8muWE56gcu8eMeVWksmcydIFtWSwehRM39UKPN3k6sRhod8i+L9s4yigGap5cCbXvb/zN+69C+H\n",
       "AyDGAX9UiL5YXE5c80Xq7lCYs+uKXZ120AtJy0wMD+DAHNkVnnxRIYffvLeCuaEMq6srxheXkkbP\n",
       "F8AE0/NOhf3ttp4vIOXwnajQmdxpJteTJ3+3KZeWqu68A+/7nFEEvtLWdgMd97Nm3zyF4TkhWXto\n",
       "Uvd9K9ktfPiD5w25u2XEa8+MUo165sDj4GNXc+FaXU76vrP8cfA9p+Nk7aVUoO+r6R4HX7gDFrUY\n",
       "cN+3FT8OvufilPq7VPoODIrhR0qoP+jA8ARRdrzZdWBwB7+ihPpzYcGYIMo3MF07hXfwK0qoP9Vm\n",
       "d5Nr1tV/3Axp0jMH7uBXlFB/Lo6ZE0TZbezbIbiBX1FC/RdH2+L7wb5vpzPgNyyh/lCbXK01tdDj\n",
       "qO+bSt/wW5ZQfyydMSeISvRL33/E4oTfsoT6U1HMmCIqIlfXWwYm/HYl1B8yBSJBVJYn6ToyMOA3\n",
       "LKH+kO/CE0SFMXLX99Xu8BuXUH+gcXex8lbrl/ftFe7wG5dQf8RqTQmi4s67VgQh+HUl1B/wXmGK\n",
       "qLj3rhVBCP6PlVBLl6qy4eKd+1YEAfi/VULN3RI23rSqjXT9V40C8H+rhJqoFFFNo13/SZsHwEeu\n",
       "94cab/vjsWtr8PvwPQfFaOtwBHVdSvLz8Pl8L/oDehBpamjo4ggAAAAASUVORK5CYII=\n",
       "\" style=\"display:inline;vertical-align:middle;\" /></a><br>(see <a class=\"ProveItLink\" href=\"../../../__pv_it/theorems/167b89e54b5ca88e8af61ead1f3f650e010c97450/dependencies.ipynb\">dependencies</a>)<br>"
      ],
      "text/plain": [
       "summation_nat_closure: forall_{P, Q} ([forall_{x | Q(x)} (P(x) in Natural)] => (Sum_{x | Q(x)} P(x) in Natural))"
      ]
     },
     "execution_count": 2,
     "metadata": {},
     "output_type": "execute_result"
    }
   ],
   "source": [
    "%proving summation_nat_closure"
   ]
  },
  {
   "cell_type": "code",
   "execution_count": null,
   "metadata": {},
   "outputs": [],
   "source": []
  }
 ],
 "metadata": {
  "kernelspec": {
   "display_name": "Python 3",
   "language": "python",
   "name": "python3"
  }
 },
 "nbformat": 4,
 "nbformat_minor": 0
}