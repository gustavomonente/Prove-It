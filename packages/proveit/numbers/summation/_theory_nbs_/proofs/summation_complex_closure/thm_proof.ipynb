{
 "cells": [
  {
   "cell_type": "markdown",
   "metadata": {},
   "source": [
    "Proof of <a class=\"ProveItLink\" href=\"../../../../../_theory_nbs_/theory.ipynb\">proveit</a>.<a class=\"ProveItLink\" href=\"../../../../_theory_nbs_/theory.ipynb\">numbers</a>.<a class=\"ProveItLink\" href=\"../../theory.ipynb\">summation</a>.<a class=\"ProveItLink\" href=\"../../theorems.ipynb#summation_complex_closure\">summation_complex_closure</a> theorem\n",
    "========"
   ]
  },
  {
   "cell_type": "code",
   "execution_count": 1,
   "metadata": {},
   "outputs": [],
   "source": [
    "import proveit\n",
    "theory = proveit.Theory() # the theorem's theory"
   ]
  },
  {
   "cell_type": "code",
   "execution_count": 2,
   "metadata": {},
   "outputs": [
    {
     "data": {
      "text/html": [
       "Under these <a href=\"presumptions.txt\">presumptions</a>, we begin our proof of<br><strong id=\"summation_complex_closure\">summation_complex_closure:</strong> <a class=\"ProveItLink\" href=\"../../../__pv_it/theorems/4a16e1d1a744d292ef89a0e376966fcada41a1b20/expr.ipynb\"><img src=\"data:image/png;base64,iVBORw0KGgoAAAANSUhEUgAAAgMAAABLCAMAAADakXRNAAAAM1BMVEX///+wsLAQEBCIiIhmZma6\n",
       "urrMzMxUVFQiIiJERETc3Nzu7u6qqqp2dnaYmJgyMjIAAAAld9JPAAAAAXRSTlMAQObYZgAACLZJ\n",
       "REFUeNrtXee6oyoU9UoXKe//tKOJhaoUMwnD5df59omEhYvd2JBheKBBPPTcfh3+RFJEdQ2orinw\n",
       "+/CJSBHVNKynninQAHw+ogRRTaOiazXQAnw58gRReRO0awq0AV+RFFGxw6FlzxRoBD7SOEFU2tjY\n",
       "tRpoBb5SKaJSj6hrNdAMfKTnBNH/auCfhq9oiqjMHHYdFDQEX2qUICppsO/cQEPwuWYJopKm+04R\n",
       "tgSf+XxlT1B41qBnCjQFPzDYR8ZP+jYFbcHXNEWU323fUUFb8JXPWFVP4lnDvk1BU/CBr/lBvTGA\n",
       "T2UZWo0KmoKPfQ8W1zu1VPOeOdAafK1TRLkhZ9fuQHPwlb9LpGo3jtAzOYZWW3Pwob+5AWv3O0Tf\n",
       "ieLm4ANNEkR5jfXtEjYHH/npAFSbIRh11/XEzcHnvgfIa51C3XdYcAlf6UgDvzXiync4VQcWTbdr\n",
       "+PPyui01wSckyai/GkuM/mbxWLd/jBw8hFLa8vYBWsYvyuF7HnfI1Er6TSdC+VGAqgsMpJNk+gfq\n",
       "i3OO38ibHBvVQZ8bfnG7mfiRDKkLboQTH3+aA5NMk8+5yuh8IIcD4iY9gBdrEBpxwcm0aoSHbiJB\n",
       "0UlLKet6XDlQ3tu9V7tNuSRaM0KIgtySG9xOmSKgqNIjZdB8IIcD8C60lgsJQiO5nZhnEJoA47R9\n",
       "icRhn1Smh8gCHCjv7d6YHbg3JczeJ2WUNx/8Xt1ivNplDrWE5gM5HGC36RWmS6PveoQ2wOOFK58D\n",
       "i2jaqTHlZj6Vs3VKh5rebhcHPJWs2FxvYMkNYHcBmBwI2NYqNB/I4YC63TnmSxhQtLtcj9AFuKkG\n",
       "n5Nv0b5gxZzNAeH7A8W93bUz5ABbOANe3x8KRbjjsUu2uPzUsFN42E/bEWg+EOEAmxLgB0MHXRQG\n",
       "VCP0AO7WifoGaxVJwdc2ZastGuJAcW93bhE1VOzu0iJLbr4fM+jFDDh2CZ5qigPzgQgHMEuAH/Yb\n",
       "dcnRzmqEPsDthY8+B14izdaWf3yWOjmv91hLe7tbGtA1ltNLy+1yDgCZENh0pICm7XTfAicDdvTr\n",
       "9kDMFoTUMU1J+SldUqVRizAAcE9cRUQEG/oOLa6OgIzwc/KFgDycdZIBDli95Sx0g9ahpSEdYzm/\n",
       "abbJuVjzL2DY1KFUVz70JAbkvL/tAZMDkBotYNfHlOzK6hJkL4dqhAGANxxAlmssX7phP1E9vXQO\n",
       "Diq0MAfs3hz76K7tk17mRM2B9CWdT2NJxPLcpv02ueCr4uUDek/HbOhPX49P0Jui7YG4TziruYQD\n",
       "r5xxbja2GmEA4O6fxERrd2AHRMh7GO/Oxvc3wtDcuP4OHfzenMVsDdSkl01l6GuR89oMZu1ybPJV\n",
       "xJixks4/R7U3I9OAhbv07uICrpybOxLdPZjvElQjDADcXziPiIQ0knz09fq2b6PSVA4eB0L+gN1b\n",
       "nAMWvZwRc3LBAdu3NV6MMRxjhkJB6mI/SSYHJiKma/hxtynXGtQj9AG+2n8+B3bRpAa8P8JfqS1A\n",
       "X/8A46GdghwI2QKrtwsOWPQiOJYP8mwBtk3zaSOwsU+HjFkcgy7eMUJuPmD5A8pq0x38KHtyE0UP\n",
       "IPQBbh14HDhEbCLo0A0CiD24P64rCW50hP0BszcBIAbG+zU4YNOLOh/3bcnhEwLbvG7ymb872myo\n",
       "6THBwHJlYLeXSMV8Qktjqnv40XTNmOkfP4HQA3jnDwwzPFglTLSHEhtFcmxo9LYMl6iBohAHLHq9\n",
       "Q2Dj47P3Lo5YSNlUfsvX6xTWoHrfXIEiuJDMRc4WJ4vPjHHzgQgHeCjxTdNsQf6VL48gdAHecsAw\n",
       "NOYWwzCCC3cgyoGjtwW8khFbYNELMefjyDNxm+6DS8BNgCfnBAAO4LFPpbDlXTDkvUMM1ajpsYe3\n",
       "PRDhAMFDKQdwbqLwKYQOwHsOyKMHa8hLjMDlvLhvKDlXbPc22BtnLEIvRJyPY3WRK76Xc8cCI8Gs\n",
       "XHH0gQgHphT4kfxAfe3YIwi3Fz4miI4LF6dVh/ARg0HOCkVCGBjmgO1u4yAHLHrtudjj44gkpepi\n",
       "cpE78SV7RixlP0g9cCLxEYQ3uWLTHVF6i83xuCoEDplYEwZTCQcm/fIuRJADFr1erDY/LgNLLJZ6\n",
       "ZCV7x5EHnuYAe2T39AGEu7dJE0RmhmtfyyRSwUMC9QN2lC/REmTwcGxo0WsNRc2Pw4Dm4ZH59OXZ\n",
       "iWpWUkNC7o9nCMovJjadovUIt/FE6geiFDjmRatwogtm15K5WA56AWdeguNKrSWTuRMki2rJ4O1R\n",
       "s3BUKPN3k6sRxod8ieL8WkZRRLPUcuCkl/2f+VuX/uVwANxxIBwVoi8WlxPffJG6OxTm7LpiX6ft\n",
       "9ELSMhNDAxyYb3aFp1BUyOE3761gfijD6uqKseNS0tvzBTDB9JypsL/d1vMFpBy+FxV6kzvNxD15\n",
       "8neb8mmp6s478L7PGd3AV9rabqDjdtbsm6cwAickaw9N6r5vJbuED3/wvCH3t4x47ZlRqlHPHGgO\n",
       "PvY1F67V5aTvO8ubgx84HSdrL6UCfV9N1xx84Q9Y1GLAfd9W3Bz8wMUp9Xep9B0YFMO/KaH+oAPD\n",
       "E0TZ8WbXgcEV/IoS6s+FBWOCKN/AdO0UXsGvKKH+VJv9Ta5ZV/+4GdKkZw5cwa8oof5cHDMniLLb\n",
       "2LdDcAG/ooT6L472ifcH+76dzoD/YAn1h9rka63pCT2O+r6p9IT/ZAn1x9IZc4KoRL/0/SMWB/wn\n",
       "S6g/FcWMKaIicnW9ZWDCf66E+kOmQCSIyvIkXUcGBvwHS6g/5LvwBFFhjNz1fbUb/IdLqD/QuL9Y\n",
       "+VPrl/ftFW7wHy6h/ojVmhJExZ13rQhi8OtKqD/gvcIUUXHvXSuCGPwfK6GWPlXlg4t37lsRROD/\n",
       "Vgk190vY+KNVbaTrXzWKwP+tEmqiUkQ1jXb9kzYNwEe+94ce3vbHY9fW4PfhBw6K0afDEdR1KcnP\n",
       "w+fztegP+CBogAC0138AAAAASUVORK5CYII=\n",
       "\" style=\"display:inline;vertical-align:middle;\" /></a><br>(see <a class=\"ProveItLink\" href=\"../../../__pv_it/theorems/6784b2386b4ae9c0d3c3fc6478f070ddee346de30/dependencies.ipynb\">dependencies</a>)<br>"
      ],
      "text/plain": [
       "summation_complex_closure: forall_{P, Q} ([forall_{x | Q(x)} (P(x) in Complex)] => (Sum_{x | Q(x)} P(x) in Complex))"
      ]
     },
     "execution_count": 2,
     "metadata": {},
     "output_type": "execute_result"
    }
   ],
   "source": [
    "%proving summation_complex_closure"
   ]
  },
  {
   "cell_type": "code",
   "execution_count": null,
   "metadata": {},
   "outputs": [],
   "source": []
  }
 ],
 "metadata": {
  "kernelspec": {
   "display_name": "Python 3",
   "language": "python",
   "name": "python3"
  }
 },
 "nbformat": 4,
 "nbformat_minor": 0
}