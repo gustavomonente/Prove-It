{
 "cells": [
  {
   "cell_type": "markdown",
   "metadata": {},
   "source": [
    "Proof of <a class=\"ProveItLink\" href=\"../../../../../_theory_nbs_/theory.ipynb\">proveit</a>.<a class=\"ProveItLink\" href=\"../../../../_theory_nbs_/theory.ipynb\">numbers</a>.<a class=\"ProveItLink\" href=\"../../theory.ipynb\">summation</a>.<a class=\"ProveItLink\" href=\"../../theorems.ipynb#summation_real_closure\">summation_real_closure</a> theorem\n",
    "========"
   ]
  },
  {
   "cell_type": "code",
   "execution_count": 1,
   "metadata": {},
   "outputs": [],
   "source": [
    "import proveit\n",
    "theory = proveit.Theory() # the theorem's theory"
   ]
  },
  {
   "cell_type": "code",
   "execution_count": 2,
   "metadata": {},
   "outputs": [
    {
     "data": {
      "text/html": [
       "Under these <a href=\"presumptions.txt\">presumptions</a>, we begin our proof of<br><strong id=\"summation_real_closure\">summation_real_closure:</strong> <a class=\"ProveItLink\" href=\"../../../__pv_it/theorems/ef7c04c7fa97f99d59869b1130d3ef86dc70a48c0/expr.ipynb\"><img src=\"data:image/png;base64,iVBORw0KGgoAAAANSUhEUgAAAhIAAABLCAMAAAAS/Z6bAAAAM1BMVEX///+wsLAQEBCIiIhmZma6\n",
       "urrMzMxUVFQiIiJERETc3Nzu7u6qqqp2dnaYmJgyMjIAAAAld9JPAAAAAXRSTlMAQObYZgAACUBJ\n",
       "REFUeNrtXdmCrCgStWXf+f+vHTXVBAPEBTvLoXmpm1FckoPH2AiorqvfMO1abn8evmRlSd2GXNOM\n",
       "eAF8ZsqSmo162TIj3gBf9aQoqdm4aZkR74Bve1WU1GuGN82Il8B3rCyp5rp42zIj3gKfeFqU1Gqi\n",
       "b1pJvAa+c2VJLeeqaSXxHvjE66LkPyXRFnzHy5I6prTpcONN8K0nRUmNhtvOSbwJvvKiKKnRfNuJ\n",
       "y1fBF4C/4gFGa49aZsS74MPZPjF/1rbdeBl8z8uS+1/SdrzxMvgOMNhV57T2uG278S74CNgJVN1y\n",
       "4IeSHa+JN94FnwJvmFb3j7lXLVPidfC9L0vuRrpNuxLvg+/ATpervPdFHkl1vKa9Dz4GOzK48h6N\n",
       "aTub/T74yLOi5F4TbXuX74NPQB6CVM5M9L7pyuz3wVfAm1SV/UvfdsCxC9/5TEN/a8p1n6GsHcG8\n",
       "q+3D18PTj5SIksSy3v82SunBdnhfdYOcbOAxzvmbtzzIMH9zHT7w5VNm2vKfOiAOBBiuashhN6mv\n",
       "/4NK7TOHoGwh88d90pvHv9xPZyBIYlXDJrOJyx+nhLTH5Pqkrvr2P0MJU0hL0MF0pCZ85bjgXYRf\n",
       "1cVSki9L7T2dsR1/okS10RP+8vwILPNeMMYcVpE8oP7+ilneC+Gd64Xd9D9DCVwK6e3AidREiuuy\n",
       "BVgBYZbGk8SsxszdczZFihLVRk8YwnUZZpUtPgeWHFgeVVLOrlPD3KmwQkX9z1BCFLM8wl+N+mOA\n",
       "FRCuBHCAEoNELkSRN/OxbrM3zKNBZe1sr8VflWxmrx5F8gBoIdQTnTSfHyzqf4YSrrg1roYA49L2\n",
       "eQywCsJPQ4CjH8ny+hp9lxIm4UvUGh26a/ILg8w/TSQPH8aGTmKIJrjbLhiWs6Fb+ucoIWQZfjIo\n",
       "8ZcCjBjgEYRbgADhYss4sG6jxBo1NnnXHeRJStQaHXhYPFDIi7dMInn4vMJomwqkku/QsGAi6p+j\n",
       "BBVl+GkX1F85jRsBPIAQAoQIZwL0gBKTxIux3T7xzDeZuHnmlUYHbw7eWlo5aeVFrhBikqBZoRoc\n",
       "2l2VUausIzMH5v5Zw5HQ3fxIItL5K0UqEcAywgRAiHBJoMGU2kQ+GihDMrhJBgu2jkqNMdrS4FkY\n",
       "g1UyFWZTlIhGP6MGAtan3hy7sbT6w7pZrszoZ6NuVp7W7XrnnwXTHC+LOfePKIF50KBT0B9J8ozu\n",
       "xOmXIwZYRpgKPwDCfUoQHPqsdtIc65n46Zd6/Z9yUlA0pf4ylIhH3xjX7Zv/ZVu4cDqRZOX6a2nZ\n",
       "wFo868pZbtSoplVHPsujebg6qQXrR9u7jjn333EvtdMXKDElts+mjGOAZYSiO4BwcW6gu7M+PLQA\n",
       "YuwzjWXpVfgtsv9MACfWaus68eAnshk/OFQLIdtipmPI+++tKSLaqZnlo0iI4EX7/rN3S4veoYG6\n",
       "3wBt7r8XcSgXX9xy0HPE592JGGARYQogRLgQQHVJibFBrpFPT2/9sk92RUe/XFTJlhJJXyIePU+J\n",
       "iG001q6K7VAi9pqD5xTMJ6CEFBm1isnXayxTQjIjd+HnXa6zpmMTFpQQStEdQDi1fwAlFol0HV3A\n",
       "q4kDiC9dXW++U0D9qstSlEgajmj0HUpEbGM0l5YChoPGZv1rUGiw9UiCVe1zllYoi+L+sS/hoiYL\n",
       "8LNcOpuvott8Twlh3x1AOA+wpcQqEZKRVXMYZIIkgsK9X3m5Xl6T2qzJ+BLh6AZhioLHHVAiZhvf\n",
       "dIeGZ3UvUWybZ7lWn4FmAxy6lxhlFmwg7rLhkHIvI/3qivCzKbb+pKe9AVhGmAAIERZ8iU7j9fkZ\n",
       "l9CRy29Xldebw0FoMPowe+Y6TlKUiNj2Cb2D7ho8mzXocjHRP/Lx+owxml/2h7BJvmZxundMp818\n",
       "nfvnKJEK8/gxw3H+/p8NwAMIIUCIsESJwCiJSEsp+jEmCxNQ3pXIU2IdfRjM2YzhiNhGxKY7AfZx\n",
       "VpR4iPQZAnLFEFIIr1ttjkaeiSDhKs+bQnT0oNzHSZz75yjBaHeREvRs+hIAPIBwCzCFsEgJu44Q\n",
       "T1lPn1ZXYIhGlNWDJ0gOJ7Tj0bt4LzB40BHb1nzK0p26nYR2Wa425psYEed7M/1zlJAH4GfyEhUK\n",
       "6w4gLAFcCdAXJcFFnnIMWPD40NT4r+mj6inqrHYkHSvhDCW6yC+mSUpEbFsc47U7YUcSiFm5Ofkg\n",
       "rmx7iSNbWq7GqdEaCAsJ7dCVcX7JAdBejwmBJXs0fRycTWHGxIW8QgnpJ0/FJCkRsW3ifNjdJt7A\n",
       "XEJUnN86zvWvTQlRZzv4PsLVc+VFSZxpS38czEiynoml6iXi7IIlQzij0kFoxLYxBg6744ReUpn1\n",
       "hfKz2XRxpYSGlU/FGK7Ky3yEsrcRLhNK10vkGSHTH6V3yfwbPl9ot4W2sg3prcOcsugHC+3syfWy\n",
       "lwrtcPH8Xzr8tBe2y+8izM95H4XNfRScpLXQbUp82Rb/Rv/oNskzlEAlSqTDT/LLqn0GjB2rekeG\n",
       "Pl+hDRXgwjZiI5vS/X1K6MK2t0yFnwr/9JoSAaIkUbVCm26cVV4+x4GPmS30k1Nk4zkOdh0+CD/B\n",
       "WkvNtgd+/uXmAE1d1XMlqu3TXgX4zkc7JLyfDwD+9LQLPMZa+WCrb/s+u134+C+eCVVg10tVPtfL\n",
       "PWmZEu+DT4Fio5U1PWv7lv33wYdnFm3l+8tQ23ccvg++ATM2lTHQtm/Qfh98eG9O9Zt02g45rsMv\n",
       "FKM/6P2oouR2mNt0yLEL/0Yx+nMBR1+U3LdNTfuXu/BvFKM/1TTYqNO+9p8BJJ61TIld+DeK0Z8L\n",
       "kXRRcrv1bTsTe/BvFKP/e9N94Pnhtq85DOBva9HvFKM/1CRQavIBLU/avh/3Cx/Uot8pRn+oIWAl\n",
       "0BN3qfVt/42WFT6oRb9TjP5UgNSXJVWY1/Q2Rwh/E5HeKUZ/yG6YoqRKazvmCOBvatFvFaM/5Pio\n",
       "oqRSbN70pckzfFiLfq8Y/YGmwMurHnqdVdsO5gwf1qLfK0Z/xMbJoqTaVzWtJrLw7xWjP+AJ47Kk\n",
       "2nc1rSay8P9YMboF1LXPvcu6bTWRg/+3itEVKPBTT5b8sab/wlcO/t8qRmeuLKnZeNN/z+kN8Anw\n",
       "JMmzdQ20b9p0vAA+PK7HH45zSNOVNH8fvtK7kv8BDg1tOlTFlTIAAAAASUVORK5CYII=\n",
       "\" style=\"display:inline;vertical-align:middle;\" /></a><br>(see <a class=\"ProveItLink\" href=\"../../../__pv_it/theorems/21ba553ce1f6a63e2d0aa52164ee7e7a3923360f0/dependencies.ipynb\">dependencies</a>)<br>"
      ],
      "text/plain": [
       "summation_real_closure: forall_{P, S, Q} ([forall_{x | Q(x)} (P(x) in Real)] => (Sum_{x | Q(x)} P(x) in Real))"
      ]
     },
     "execution_count": 2,
     "metadata": {},
     "output_type": "execute_result"
    }
   ],
   "source": [
    "%proving summation_real_closure"
   ]
  },
  {
   "cell_type": "code",
   "execution_count": null,
   "metadata": {},
   "outputs": [],
   "source": []
  }
 ],
 "metadata": {
  "kernelspec": {
   "display_name": "Python 3",
   "language": "python",
   "name": "python3"
  }
 },
 "nbformat": 4,
 "nbformat_minor": 0
}