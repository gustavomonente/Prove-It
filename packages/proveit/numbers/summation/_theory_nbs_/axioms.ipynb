{
 "cells": [
  {
   "cell_type": "markdown",
   "metadata": {},
   "source": [
    "Axioms for the theory of <a class=\"ProveItLink\" href=\"theory.ipynb\">proveit.numbers.summation</a>\n",
    "========"
   ]
  },
  {
   "cell_type": "code",
   "execution_count": null,
   "metadata": {},
   "outputs": [],
   "source": [
    "import proveit\n",
    "# Prepare this notebook for defining the axioms of a theory:\n",
    "%axioms_notebook # Keep this at the top following 'import proveit'.\n",
    "from proveit import a, b, c, f, i, k, m, n, x, fa, fx, P, Px, S, Q, alpha\n",
    "from proveit.core_expr_types import alpha_k\n",
    "from proveit.logic import Implies, Forall, Equals, InSet\n",
    "from proveit.numbers import Add, Exp, LessEq, Mult, number_ordering, Sum \n",
    "# removed Frac, Substract from the line above\n",
    "from proveit.numbers import Natural, NaturalPos, Integer, Real\n",
    "from proveit.numbers import Complex, Interval, zero, one, two, three, infinity"
   ]
  },
  {
   "cell_type": "code",
   "execution_count": null,
   "metadata": {},
   "outputs": [],
   "source": [
    "%begin axioms"
   ]
  },
  {
   "cell_type": "code",
   "execution_count": null,
   "metadata": {},
   "outputs": [],
   "source": [
    "sum_single = Forall(f,\n",
    "                   Forall(a,\n",
    "                          Equals(Sum(x, fx, domain=Interval(a,a)), fa),\n",
    "                          domain=Integer)\n",
    "                  )"
   ]
  },
  {
   "cell_type": "code",
   "execution_count": null,
   "metadata": {},
   "outputs": [],
   "source": [
    "breakup_sum = Forall(\n",
    "    (a, b, c),\n",
    "    Forall((alpha),\n",
    "    Equals(\n",
    "    Sum(k, alpha_k, domain=(Interval(a, c))),\n",
    "    Add(Sum(k, alpha_k, domain=(Interval(a, b))),\n",
    "        Sum(k, alpha_k, domain=(Interval(Add(b, one), c)))))),\n",
    "    domain = Integer,\n",
    "    conditions=[number_ordering(LessEq(a, b), LessEq(b, c))])"
   ]
  },
  {
   "cell_type": "code",
   "execution_count": null,
   "metadata": {},
   "outputs": [],
   "source": [
    "%end axioms"
   ]
  }
 ],
 "metadata": {
  "kernelspec": {
   "display_name": "Python 3",
   "language": "python",
   "name": "python3"
  }
 },
 "nbformat": 4,
 "nbformat_minor": 0
}
