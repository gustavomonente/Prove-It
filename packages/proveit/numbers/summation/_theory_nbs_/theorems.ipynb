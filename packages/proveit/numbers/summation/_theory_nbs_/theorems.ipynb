{
 "cells": [
  {
   "cell_type": "markdown",
   "metadata": {},
   "source": [
    "Theorems (or conjectures) for the theory of <a class=\"ProveItLink\" href=\"theory.ipynb\">proveit.numbers.summation</a>\n",
    "========"
   ]
  },
  {
   "cell_type": "code",
   "execution_count": 1,
   "metadata": {},
   "outputs": [],
   "source": [
    "import proveit\n",
    "# Prepare this notebook for defining the theorems of a theory:\n",
    "%theorems_notebook # Keep this at the top following 'import proveit'.\n",
    "from proveit import a, b, i, k, l, m, n, x, P, Px, S, Q, Qx\n",
    "from proveit.core_expr_types import Len\n",
    "from proveit.logic import Implies, Forall, Equals, InSet\n",
    "from proveit.numbers import Add, Div, Exp, frac, Mult, subtract, Sum, Less, LessEq, greater\n",
    "# removed Frac, Substract from line above; added Div, frac, substract\n",
    "from proveit.numbers import Natural, NaturalPos, Integer, Real\n",
    "from proveit.numbers import Complex, Interval, zero, one, two, infinity\n",
    "from proveit.numbers.summation import al, ak, bl, bk"
   ]
  },
  {
   "cell_type": "code",
   "execution_count": 2,
   "metadata": {},
   "outputs": [
    {
     "name": "stdout",
     "output_type": "stream",
     "text": [
      "Defining theorems for theory 'proveit.numbers.summation'\n",
      "Subsequent end-of-cell assignments will define theorems\n",
      "'%end theorems' will finalize the definitions\n"
     ]
    }
   ],
   "source": [
    "%begin theorems"
   ]
  },
  {
   "cell_type": "code",
   "execution_count": 3,
   "metadata": {},
   "outputs": [
    {
     "data": {
      "text/html": [
       "<strong id=\"summation_nat_closure\"><a class=\"ProveItLink\" href=\"proofs/summation_nat_closure/thm_proof.ipynb\">summation_nat_closure</a> (conjecture without proof):<br></strong> <a class=\"ProveItLink\" href=\"../__pv_it/theorems/167b89e54b5ca88e8af61ead1f3f650e010c97450/theorem_expr.ipynb\"><img src=\"data:image/png;base64,iVBORw0KGgoAAAANSUhEUgAAAgMAAABLCAMAAADakXRNAAAAM1BMVEX///+wsLAQEBCIiIhmZma6\n",
       "urrMzMxUVFQiIiJERETc3Nzu7u6qqqp2dnaYmJgyMjIAAAAld9JPAAAAAXRSTlMAQObYZgAACM5J\n",
       "REFUeNrtXdm2oyoQ9cosMvz/17YaNSAgYzqxuTz1qlbCxk1NFJxhaNAgHnpuvw5/IimiugZU1xT4\n",
       "ffhEpIhqGtZTzxR4AHw+ogRRTaOiazXwBPhy5Ami8iZo1xR4BnxFUkTFDoeWPVPgIfCRxgmi0sbG\n",
       "rtXAU+ArlSIq9Yi6VgOPgY/0nCD6Xw380/AVTRGVmcOug4IHwZcaJYhKGuw7N/Ag+FyzBFFJ032n\n",
       "CJ8En7l8ZS0oPGvQMwUeBd8z2CbjJ32bgmfB1zRFlN9t31HBs+Arl7GqnsSzhn2bgkfBB67mB/XG\n",
       "ALbKMjw1KngUfOx6sLjeqaWa98yBp8HXOkWUG3J27Q48Dr5yd4lU7cYRapNjeGp7HHzobm7A2v0O\n",
       "0Xei+HHwgSYJorzG+nYJHwcfuekAVJshGHXX9cSPg89dD5DXOoW677DgFr7SgQZ+a8SV33CqDiwe\n",
       "3e7hz8vnttQEn5Ako/5qLDG6m8Vj3f4xuuAhlNInbx+gZfyiHL7jcftMraTfdCKUGwWousBAXpJM\n",
       "/0B9cc7xGxnJsVHt9bnhF7ebiRvJkLrgRlzi409zYJJp8jlXGb1fyOGAiKQH8GINfCMuOJlWjfDU\n",
       "TcQretNSyroeVw6U9xb3avcpl0RrRghRkFtyg9uRKeJKM6bWt8Wo1/M25ws5HICx0FouJPCNJDox\n",
       "1QgdgGHabiJx2ieV6SEyDwfKe4sbsxP3roTZ66SMmtwpiA5dDpi8YiPrhRwOsGh6henS6Lsa4QXg\n",
       "+cGVy4FFNB3UmHIzn+qydUqHmt6iiwO+lazYXW9gyQ1gsQCMUDyA7aHReiGHAyq6c8yXMKBod7ke\n",
       "4RXgqwGXky/RsWDFnM0B4foDxb3F2jvkAHs4A7bf94Ui/OKxS7a4/NRYAwQxPhB8OjHHCwEOsCkB\n",
       "vjd00EVhQD3CK8DDOlHXYK0iKfjapmy1RX0cKO4t5hZRQ8UeLi2y5Ob3MYNezAB37OmiKfnKV2q9\n",
       "EOAAZgnw/X6jLjnaWY/QAbh/8NHlwCZa/Iel5R+fpZec1+vXSnuLLQ14NZbTpmcPOQeATAjsOlJA\n",
       "03a6X2HxqWawWcx9ivYXQrbAp45pSspP6ZIqjXqEDsAjceXJZW3PY0PfocXVEZAR/p58ISD3Z52k\n",
       "hwNWbzkL3aC138mxjeX8otku52LNv4BhV4dS3fvQq0ygQYJjivYXTA5AajSPXR9TsiurS5C9HBog\n",
       "dABGOICg6WnKTTccJ6qnTedgr0Lzc8Du7WIfr2v7TS9zomZP+pLOb2NJxPLerv12ueCr4uUDek3H\n",
       "bCD36fFt1shqMfcH9xfCPuGs5hIObDnj3GxsA4QOwMM/8bgs58cDByBCXsN4zcn4+kXom5urv0MH\n",
       "t7fLYrYWvkkvm8rQJfY7ymXWLscuX0WMGSvp/c9RHe0yRXzNjozWCzdxAVeXmzsS3T2Y7xI0QOgA\n",
       "PD44dzmwiYQ0zAbdPt/+a1SaysHhgM8fsHsLc8CiF7b1JSc3HLB9W+PDGMMxZmgK6oH1V3EqByYi\n",
       "pnv4Ybcp1xo0QOgA3Np/LgcO0aT2hMKWU1jfBnT7DzCe2snLAZ8tsHq74YBFL4JD+SDHFmDbNL9t\n",
       "BDb26ZAxi2OQA4OcjyEh1xZAZbUpBj/IntxEUQuEDsAjfc2dH9tFbCLo1A0CiCO4P68r8W50+P0B\n",
       "szcBIAbG9zXGY9OLXh53bcnpEwLbvO7ymb862m2o6TFBz3I9xiSONeTxCS2NqeLwg8mtMdM/boHQ\n",
       "ARjzB4YZnqwSJtpTiY0iOTY0eluGS9RAkY8DFr1eIbDx+Ox8izMWUjaVX/L1OoU1qD42V6DwLqT3\n",
       "r88Xcu8vBDjgCy/TYsOSK19aIHQARjlgGBpm6qER3LgDQQ6cvS3glQzYAoteiF0eR46J23UfXAJu\n",
       "Ahw5JwBwAM99KoUt74Iha1Yx1SOzE+/7CwEOEDyUcgDnJgpbIPQAjHNAnj1YQ15iBL6YlMl/l503\n",
       "V2z3NtgbZyxAL0Quj2N1kyuOy/nFAiPB7Fxx6IUAB6YU+IH8QH3tWBOE+wcfE0TnhYsT4ysCDBa/\n",
       "QqFACAP9HBgs7xV7OWDR68jFno8jkpSqC8lF7sSX7BmxlP0g1eBEYhOEkVyx6Y4ovcfmeFwVAodM\n",
       "rAmDqYQDk968C+HlgEWvjdXm49KzxEKpR1awdxx6oTUHWJPd0wYID2+TJojMDNexlkmggod46gfs\n",
       "KF+iJcjg/tjQotcaipqPQ4/m4YH5dOXZiWpWUkNC4sczBOU3E5tO0XqE+3gC9QNBCpzzopU/0QWz\n",
       "a8muWE56gcu8eMeVWksmcydIFtWSwehRM39UKPN3k6sRhod8i+L9s4yigGap5cCbXvb/zN+69C+H\n",
       "AyDGAX9UiL5YXE5c80Xq7lCYs+uKXZ120AtJy0wMD+DAHNkVnnxRIYffvLeCuaEMq6srxheXkkbP\n",
       "F8AE0/NOhf3ttp4vIOXwnajQmdxpJteTJ3+3KZeWqu68A+/7nFEEvtLWdgMd97Nm3zyF4TkhWXto\n",
       "Uvd9K9ktfPiD5w25u2XEa8+MUo165sDj4GNXc+FaXU76vrP8cfA9p+Nk7aVUoO+r6R4HX7gDFrUY\n",
       "cN+3FT8OvufilPq7VPoODIrhR0qoP+jA8ARRdrzZdWBwB7+ihPpzYcGYIMo3MF07hXfwK0qoP9Vm\n",
       "d5Nr1tV/3Axp0jMH7uBXlFB/Lo6ZE0TZbezbIbiBX1FC/RdH2+L7wb5vpzPgNyyh/lCbXK01tdDj\n",
       "qO+bSt/wW5ZQfyydMSeISvRL33/E4oTfsoT6U1HMmCIqIlfXWwYm/HYl1B8yBSJBVJYn6ToyMOA3\n",
       "LKH+kO/CE0SFMXLX99Xu8BuXUH+gcXex8lbrl/ftFe7wG5dQf8RqTQmi4s67VgQh+HUl1B/wXmGK\n",
       "qLj3rhVBCP6PlVBLl6qy4eKd+1YEAfi/VULN3RI23rSqjXT9V40C8H+rhJqoFFFNo13/SZsHwEeu\n",
       "94cab/vjsWtr8PvwPQfFaOtwBHVdSvLz8Pl8L/oDehBpamjo4ggAAAAASUVORK5CYII=\n",
       "\" style=\"display:inline;vertical-align:middle;\" /></a><br>"
      ],
      "text/plain": [
       "summation_nat_closure: forall_{P, Q} ([forall_{x | Q(x)} (P(x) in Natural)] => (Sum_{x | Q(x)} P(x) in Natural))"
      ]
     },
     "execution_count": 3,
     "metadata": {},
     "output_type": "execute_result"
    }
   ],
   "source": [
    "summation_nat_closure = Forall(\n",
    "    [P, Q], Implies(Forall(x, InSet(Px, Natural), condition=Qx), \n",
    "                    InSet(Sum(x, Px, condition=Qx), domain=Natural)))"
   ]
  },
  {
   "cell_type": "code",
   "execution_count": 4,
   "metadata": {},
   "outputs": [
    {
     "data": {
      "text/html": [
       "<strong id=\"summation_int_closure\"><a class=\"ProveItLink\" href=\"proofs/summation_int_closure/thm_proof.ipynb\">summation_int_closure</a> (conjecture without proof):<br></strong> <a class=\"ProveItLink\" href=\"../__pv_it/theorems/ef2646dc93592d4d7a3b93117f46ce2b46d065420/theorem_expr.ipynb\"><img src=\"data:image/png;base64,iVBORw0KGgoAAAANSUhEUgAAAgAAAABLCAMAAAAxps9OAAAAM1BMVEX///+wsLAQEBCIiIhmZma6\n",
       "urrMzMxUVFQiIiJERETc3Nzu7u6qqqp2dnaYmJgyMjIAAAAld9JPAAAAAXRSTlMAQObYZgAACMlJ\n",
       "REFUeNrtXYmypCoSdVgERJb//9pRC5VVBKy+5TDEi3gd2VyaA8fcSLjD8EBD49Bx+3H0E8lLGhtU\n",
       "Pe//z6MnIi9paqOeOt7/30fPAc5KmhoVPSuAF6CXgGclDU3Qnvf/FegVyUvqfQwtO97/d6DHesxK\n",
       "qhsDPSuAl6BXKi+p9oF6VgBvQY/1nJX8XwH8L6NXNC+ptIE9hwDvQS81zkqqGuo6B/Ae9FyzrKSq\n",
       "6a6TgC9CzwKusifYO2vY8f6/CX0410dmT7q2AK9Cr2leUjFq1zHAq9CrgK2qnb+zRl1bgDehh4HG\n",
       "h+02AD2VTXhpDPAm9GPgsY7tPizVvGMCvAy91nlJcXDZswvwNvQqOP9RrSdC+Jlcwkvb29Cj4NwC\n",
       "tZ5kiK7zwG9DDzXJSgob69oHfBt6HMT9uDUTAHTP1cBvQ88Dn4+3eoG66yDgEr3SiQZ/acKNGzg1\n",
       "hxFvbtfo52WvHQXBJywJ0H8ZOYDgABi0HQljDw2hlL74aAAv0xf16AMPO2ZgJf1Dx0EFTr9qCwOk\n",
       "l0l6f3VwyZUZmcmjUR31sdHfnSCTIGwhbYGM8ALhbxNgkvfkc6EaOvuXEEBk0gDjYgRiE664SNYK\n",
       "8FBKJCY5GSll24AbAeqHy3qxZsEl0ZoRQhTijtwidm6BMAUaKAWoAtLuX0IAlAui5cKA2ESyy9IO\n",
       "0MOXpOwmEYdRUoUuIYsRoH64rAk7UBvlyz7XW1SwGjynZiHbvsOlG3P6lxCAZbMoTNfG2a0APXzH\n",
       "dquAAItk2vtMpZlN5R2HUmeU6eFEqUSnchXG04aO3AKWCbaQMFwV2OlfQgCVPQzmi9NfdWDcDNDH\n",
       "Z2gR8PEj2b9UMRcTQER8gOrhMu0MMKAJXuD278cCD+456JItHj49+b/p1mW3R+T2TxCATTfQRwMF\n",
       "XeX0NwP08e02iQZWapVIwdc2FasrGiVA9XAZR4haqnX3YbEjt3fHZv7IYMwaMb7+5/RPEGBkN9DH\n",
       "HUVdcwvzGYA2PrPdICDAJtFsbeW3XKmX1jIzrR0u81Ug30JOm37d5RxCMmFodKNAtsGM7oGElptq\n",
       "+qdMQEwL0ztJPaVrii4eAejg25NTYbpqI9po6Tm8ODcCMcLPlRcC8XhmScYI4AxX8IlbjI59FdKz\n",
       "kPOHYkbOxZplgYNRg1LlXObFtba8a9PfJgCiVovYcnAnibK6AcVfwiMAXXzXBMDIdizlphX2W8/T\n",
       "pmvGqCJLEMAdzjWK/ld9cstepjmSoKTzaSGJWH7OaD0jF3xVuHzAn8WYLb0Zd0YXmloLZ/qnncBZ\n",
       "zTUE2FLCpenWRwC6+HaXZIhL1sHgDoeQzyQ+KwI+g6DYyvgeDrX+D6Or40zV4ZY7WRRy+nzTgjkn\n",
       "GEa+ihizPqLzj0tAbJoNHQ1YDH7/iyiAK+9VjZv+HSp3A54A6OHbt5vHJUJaaTy6bZ35t6i01UJA\n",
       "gKgP4A6XJIDDrdGdLCcXBHB9WWtbrOlY6xMPR48QWfBbBJiImK7Rpz2lUiPwBEAP39b+ExBgl0xq\n",
       "GHfofMteQbr9BQSHVooSIGoCnOHSBHC4RcZU0icwAaNrj0/TMFrHb9hawxh3zxAZ2P0dH0A5bcqh\n",
       "T1KnNBv0BEAfn/l5nwCHhE0EH1pBQLHH8MdDItEjjIQPYA8nIBrhubsWAVxuUa93aEEOJxC6NtXI\n",
       "Z/4ZyBhO20dCMPI973uNQMoJdFSlyqNPJrBAoTv8AMAAX8YHGGZ0bJ6wsR7KC4j7YaA13DJbogaK\n",
       "IwRwuPWJda3ec7ATR9yjXBp/5OtzB2v0vB+bIBH9hvwQmRPJ7P4JAkTjLHrPBJS/xfIAwABfjgCW\n",
       "dWG2/gHwwgVIE+AYbsGuZNwEONzCzOuNA7tmdB5aImsCAzknEHKIjsBXjY5HwbCzphgwBRhjQAMD\n",
       "1/RPEICMQy0BxtJU4BMAQ3xZAsjj550JLxEBl/Pir+H7qWB3uME5EGMJbmHi9R7VRSo4L+ee2cWC\n",
       "OangVP8EAaY76BN5gPYSsCcAmu0GWcn57OG06hAORjjIWeFEuIISBHDjqzFGAIdbe6716I3JrWxc\n",
       "Si4Kl73mMIjdOehRD9wefALgdSrYdkCUNjH4CFZVwBETa2JgqiLApDeXQsQI4HBrI7TdW0a+rlRu\n",
       "kZUfB6f6P00A9siJaDvA3bukWYmTxNo/YpKoxSGxegA3nJd4iSl4NAx0uLVGnXZvhKPJzSGR1L1J\n",
       "lewKlxCA5G9VCMov1vU+P5sBmunE6wGS+3+silbxXBYqLgnzkRzcgnOQx4iY4pslYbJweWRVSRjK\n",
       "3gyLB4Cy/IC4FWByxpcYzn+UUZxQKa0EOLnl/s38R6/vlRAA5ggQDwDx39WFk8BokbYXDubiquBQ\n",
       "l+3cwtKxDsPvE2DOHPROsQCQoz98VIIFcQtrqwoePR+SZu8FoBsW58x2/eO23gsg9eiDADBY22km\n",
       "/nWRf9pUQEnVdkuBd30zKINeaecogQJzNewPL0+Elxlbrzfqrt8Iu0SPfu9uIA/Ognjr5U6qcccE\n",
       "eBv6MVBZY6sKJ12/FP429OFdNtn6ShTs+pW4t6EXwXxFK4Kx65eC34Y+fNGk/Y2TrsOAavSZ+ufv\n",
       "+Sw8KymPLHsOA67QN9Q/fy0IAFlJhVnp2Qu8Qt9Q//ylNgeHV7Nu/tVhWJOOCXCFvqH++WtBy5yV\n",
       "lDfQtRNwgb6h/vmfTfaJzUNdPxRnoffKn1vqn7/TpkBdTU+ob9z1W6Ener/8uaX++VtZizkrqVIs\n",
       "Xf/GiAO9X/7cUv/8pZAF5CV1xOr5OMBG78aELfXP37EAIiupzIb0HAdY6N3y56b65++4KzwrqQ2G\n",
       "e34u1qAPyp/b6p+fbzz4TvlTXy7v2g006IPy57b652/YqikrqR+7ZxWQQt9W//y8t4rykvrBe1YB\n",
       "KfS/Vf8sA5rKBz/buWsVkED/U/XPPChE44+WppGef3NQAv1P1T8TlZc0Ndrzb475ffQ48Pfww8f4\n",
       "I+jZCPw8+vBiF3069MA914X8Ono+X0r+C4ngaM5hqLxbAAAAAElFTkSuQmCC\n",
       "\" style=\"display:inline;vertical-align:middle;\" /></a><br>"
      ],
      "text/plain": [
       "summation_int_closure: forall_{P, Q} ([forall_{x | Q(x)} (P(x) in Integer)] => (Sum_{x | Q(x)} P(x) in Integer))"
      ]
     },
     "execution_count": 4,
     "metadata": {},
     "output_type": "execute_result"
    }
   ],
   "source": [
    "summation_int_closure = Forall(\n",
    "    [P, Q], Implies(Forall(x, InSet(Px, Integer), condition=Qx), \n",
    "                    InSet(Sum(x, Px, condition=Qx), domain=Integer)))"
   ]
  },
  {
   "cell_type": "code",
   "execution_count": 5,
   "metadata": {},
   "outputs": [
    {
     "data": {
      "text/html": [
       "<strong id=\"summation_real_closure\"><a class=\"ProveItLink\" href=\"proofs/summation_real_closure/thm_proof.ipynb\">summation_real_closure</a> (conjecture without proof):<br></strong> <a class=\"ProveItLink\" href=\"../__pv_it/theorems/21ba553ce1f6a63e2d0aa52164ee7e7a3923360f0/theorem_expr.ipynb\"><img src=\"data:image/png;base64,iVBORw0KGgoAAAANSUhEUgAAAhIAAABLCAMAAAAS/Z6bAAAAM1BMVEX///+wsLAQEBCIiIhmZma6\n",
       "urrMzMxUVFQiIiJERETc3Nzu7u6qqqp2dnaYmJgyMjIAAAAld9JPAAAAAXRSTlMAQObYZgAACUBJ\n",
       "REFUeNrtXdmCrCgStWXf+f+vHTXVBAPEBTvLoXmpm1FckoPH2AiorqvfMO1abn8evmRlSd2GXNOM\n",
       "eAF8ZsqSmo162TIj3gBf9aQoqdm4aZkR74Bve1WU1GuGN82Il8B3rCyp5rp42zIj3gKfeFqU1Gqi\n",
       "b1pJvAa+c2VJLeeqaSXxHvjE66LkPyXRFnzHy5I6prTpcONN8K0nRUmNhtvOSbwJvvKiKKnRfNuJ\n",
       "y1fBF4C/4gFGa49aZsS74MPZPjF/1rbdeBl8z8uS+1/SdrzxMvgOMNhV57T2uG278S74CNgJVN1y\n",
       "4IeSHa+JN94FnwJvmFb3j7lXLVPidfC9L0vuRrpNuxLvg+/ATpervPdFHkl1vKa9Dz4GOzK48h6N\n",
       "aTub/T74yLOi5F4TbXuX74NPQB6CVM5M9L7pyuz3wVfAm1SV/UvfdsCxC9/5TEN/a8p1n6GsHcG8\n",
       "q+3D18PTj5SIksSy3v82SunBdnhfdYOcbOAxzvmbtzzIMH9zHT7w5VNm2vKfOiAOBBiuashhN6mv\n",
       "/4NK7TOHoGwh88d90pvHv9xPZyBIYlXDJrOJyx+nhLTH5Pqkrvr2P0MJU0hL0MF0pCZ85bjgXYRf\n",
       "1cVSki9L7T2dsR1/okS10RP+8vwILPNeMMYcVpE8oP7+ilneC+Gd64Xd9D9DCVwK6e3AidREiuuy\n",
       "BVgBYZbGk8SsxszdczZFihLVRk8YwnUZZpUtPgeWHFgeVVLOrlPD3KmwQkX9z1BCFLM8wl+N+mOA\n",
       "FRCuBHCAEoNELkSRN/OxbrM3zKNBZe1sr8VflWxmrx5F8gBoIdQTnTSfHyzqf4YSrrg1roYA49L2\n",
       "eQywCsJPQ4CjH8ny+hp9lxIm4UvUGh26a/ILg8w/TSQPH8aGTmKIJrjbLhiWs6Fb+ucoIWQZfjIo\n",
       "8ZcCjBjgEYRbgADhYss4sG6jxBo1NnnXHeRJStQaHXhYPFDIi7dMInn4vMJomwqkku/QsGAi6p+j\n",
       "BBVl+GkX1F85jRsBPIAQAoQIZwL0gBKTxIux3T7xzDeZuHnmlUYHbw7eWlo5aeVFrhBikqBZoRoc\n",
       "2l2VUausIzMH5v5Zw5HQ3fxIItL5K0UqEcAywgRAiHBJoMGU2kQ+GihDMrhJBgu2jkqNMdrS4FkY\n",
       "g1UyFWZTlIhGP6MGAtan3hy7sbT6w7pZrszoZ6NuVp7W7XrnnwXTHC+LOfePKIF50KBT0B9J8ozu\n",
       "xOmXIwZYRpgKPwDCfUoQHPqsdtIc65n46Zd6/Z9yUlA0pf4ylIhH3xjX7Zv/ZVu4cDqRZOX6a2nZ\n",
       "wFo868pZbtSoplVHPsujebg6qQXrR9u7jjn333EvtdMXKDElts+mjGOAZYSiO4BwcW6gu7M+PLQA\n",
       "YuwzjWXpVfgtsv9MACfWaus68eAnshk/OFQLIdtipmPI+++tKSLaqZnlo0iI4EX7/rN3S4veoYG6\n",
       "3wBt7r8XcSgXX9xy0HPE592JGGARYQogRLgQQHVJibFBrpFPT2/9sk92RUe/XFTJlhJJXyIePU+J\n",
       "iG001q6K7VAi9pqD5xTMJ6CEFBm1isnXayxTQjIjd+HnXa6zpmMTFpQQStEdQDi1fwAlFol0HV3A\n",
       "q4kDiC9dXW++U0D9qstSlEgajmj0HUpEbGM0l5YChoPGZv1rUGiw9UiCVe1zllYoi+L+sS/hoiYL\n",
       "8LNcOpuvott8Twlh3x1AOA+wpcQqEZKRVXMYZIIkgsK9X3m5Xl6T2qzJ+BLh6AZhioLHHVAiZhvf\n",
       "dIeGZ3UvUWybZ7lWn4FmAxy6lxhlFmwg7rLhkHIvI/3qivCzKbb+pKe9AVhGmAAIERZ8iU7j9fkZ\n",
       "l9CRy29Xldebw0FoMPowe+Y6TlKUiNj2Cb2D7ho8mzXocjHRP/Lx+owxml/2h7BJvmZxundMp818\n",
       "nfvnKJEK8/gxw3H+/p8NwAMIIUCIsESJwCiJSEsp+jEmCxNQ3pXIU2IdfRjM2YzhiNhGxKY7AfZx\n",
       "VpR4iPQZAnLFEFIIr1ttjkaeiSDhKs+bQnT0oNzHSZz75yjBaHeREvRs+hIAPIBwCzCFsEgJu44Q\n",
       "T1lPn1ZXYIhGlNWDJ0gOJ7Tj0bt4LzB40BHb1nzK0p26nYR2Wa425psYEed7M/1zlJAH4GfyEhUK\n",
       "6w4gLAFcCdAXJcFFnnIMWPD40NT4r+mj6inqrHYkHSvhDCW6yC+mSUpEbFsc47U7YUcSiFm5Ofkg\n",
       "rmx7iSNbWq7GqdEaCAsJ7dCVcX7JAdBejwmBJXs0fRycTWHGxIW8QgnpJ0/FJCkRsW3ifNjdJt7A\n",
       "XEJUnN86zvWvTQlRZzv4PsLVc+VFSZxpS38czEiynoml6iXi7IIlQzij0kFoxLYxBg6744ReUpn1\n",
       "hfKz2XRxpYSGlU/FGK7Ky3yEsrcRLhNK10vkGSHTH6V3yfwbPl9ot4W2sg3prcOcsugHC+3syfWy\n",
       "lwrtcPH8Xzr8tBe2y+8izM95H4XNfRScpLXQbUp82Rb/Rv/oNskzlEAlSqTDT/LLqn0GjB2rekeG\n",
       "Pl+hDRXgwjZiI5vS/X1K6MK2t0yFnwr/9JoSAaIkUbVCm26cVV4+x4GPmS30k1Nk4zkOdh0+CD/B\n",
       "WkvNtgd+/uXmAE1d1XMlqu3TXgX4zkc7JLyfDwD+9LQLPMZa+WCrb/s+u134+C+eCVVg10tVPtfL\n",
       "PWmZEu+DT4Fio5U1PWv7lv33wYdnFm3l+8tQ23ccvg++ATM2lTHQtm/Qfh98eG9O9Zt02g45rsMv\n",
       "FKM/6P2oouR2mNt0yLEL/0Yx+nMBR1+U3LdNTfuXu/BvFKM/1TTYqNO+9p8BJJ61TIld+DeK0Z8L\n",
       "kXRRcrv1bTsTe/BvFKP/e9N94Pnhtq85DOBva9HvFKM/1CRQavIBLU/avh/3Cx/Uot8pRn+oIWAl\n",
       "0BN3qfVt/42WFT6oRb9TjP5UgNSXJVWY1/Q2Rwh/E5HeKUZ/yG6YoqRKazvmCOBvatFvFaM/5Pio\n",
       "oqRSbN70pckzfFiLfq8Y/YGmwMurHnqdVdsO5gwf1qLfK0Z/xMbJoqTaVzWtJrLw7xWjP+AJ47Kk\n",
       "2nc1rSay8P9YMboF1LXPvcu6bTWRg/+3itEVKPBTT5b8sab/wlcO/t8qRmeuLKnZeNN/z+kN8Anw\n",
       "JMmzdQ20b9p0vAA+PK7HH45zSNOVNH8fvtK7kv8BDg1tOlTFlTIAAAAASUVORK5CYII=\n",
       "\" style=\"display:inline;vertical-align:middle;\" /></a><br>"
      ],
      "text/plain": [
       "summation_real_closure: forall_{P, S, Q} ([forall_{x | Q(x)} (P(x) in Real)] => (Sum_{x | Q(x)} P(x) in Real))"
      ]
     },
     "execution_count": 5,
     "metadata": {},
     "output_type": "execute_result"
    }
   ],
   "source": [
    "summation_real_closure = Forall(\n",
    "    [P, S, Q], Implies(Forall(x, InSet(Px, Real), condition=Qx), \n",
    "                       InSet(Sum(x, Px, condition=Qx), domain=Real)))"
   ]
  },
  {
   "cell_type": "code",
   "execution_count": 6,
   "metadata": {},
   "outputs": [
    {
     "data": {
      "text/html": [
       "<strong id=\"summation_complex_closure\"><a class=\"ProveItLink\" href=\"proofs/summation_complex_closure/thm_proof.ipynb\">summation_complex_closure</a> (conjecture without proof):<br></strong> <a class=\"ProveItLink\" href=\"../__pv_it/theorems/6784b2386b4ae9c0d3c3fc6478f070ddee346de30/theorem_expr.ipynb\"><img src=\"data:image/png;base64,iVBORw0KGgoAAAANSUhEUgAAAgMAAABLCAMAAADakXRNAAAAM1BMVEX///+wsLAQEBCIiIhmZma6\n",
       "urrMzMxUVFQiIiJERETc3Nzu7u6qqqp2dnaYmJgyMjIAAAAld9JPAAAAAXRSTlMAQObYZgAACLZJ\n",
       "REFUeNrtXee6oyoU9UoXKe//tKOJhaoUMwnD5df59omEhYvd2JBheKBBPPTcfh3+RFJEdQ2orinw\n",
       "+/CJSBHVNKynninQAHw+ogRRTaOiazXQAnw58gRReRO0awq0AV+RFFGxw6FlzxRoBD7SOEFU2tjY\n",
       "tRpoBb5SKaJSj6hrNdAMfKTnBNH/auCfhq9oiqjMHHYdFDQEX2qUICppsO/cQEPwuWYJopKm+04R\n",
       "tgSf+XxlT1B41qBnCjQFPzDYR8ZP+jYFbcHXNEWU323fUUFb8JXPWFVP4lnDvk1BU/CBr/lBvTGA\n",
       "T2UZWo0KmoKPfQ8W1zu1VPOeOdAafK1TRLkhZ9fuQHPwlb9LpGo3jtAzOYZWW3Pwob+5AWv3O0Tf\n",
       "ieLm4ANNEkR5jfXtEjYHH/npAFSbIRh11/XEzcHnvgfIa51C3XdYcAlf6UgDvzXiync4VQcWTbdr\n",
       "+PPyui01wSckyai/GkuM/mbxWLd/jBw8hFLa8vYBWsYvyuF7HnfI1Er6TSdC+VGAqgsMpJNk+gfq\n",
       "i3OO38ibHBvVQZ8bfnG7mfiRDKkLboQTH3+aA5NMk8+5yuh8IIcD4iY9gBdrEBpxwcm0aoSHbiJB\n",
       "0UlLKet6XDlQ3tu9V7tNuSRaM0KIgtySG9xOmSKgqNIjZdB8IIcD8C60lgsJQiO5nZhnEJoA47R9\n",
       "icRhn1Smh8gCHCjv7d6YHbg3JczeJ2WUNx/8Xt1ivNplDrWE5gM5HGC36RWmS6PveoQ2wOOFK58D\n",
       "i2jaqTHlZj6Vs3VKh5rebhcHPJWs2FxvYMkNYHcBmBwI2NYqNB/I4YC63TnmSxhQtLtcj9AFuKkG\n",
       "n5Nv0b5gxZzNAeH7A8W93bUz5ABbOANe3x8KRbjjsUu2uPzUsFN42E/bEWg+EOEAmxLgB0MHXRQG\n",
       "VCP0AO7WifoGaxVJwdc2ZastGuJAcW93bhE1VOzu0iJLbr4fM+jFDDh2CZ5qigPzgQgHMEuAH/Yb\n",
       "dcnRzmqEPsDthY8+B14izdaWf3yWOjmv91hLe7tbGtA1ltNLy+1yDgCZENh0pICm7XTfAicDdvTr\n",
       "9kDMFoTUMU1J+SldUqVRizAAcE9cRUQEG/oOLa6OgIzwc/KFgDycdZIBDli95Sx0g9ahpSEdYzm/\n",
       "abbJuVjzL2DY1KFUVz70JAbkvL/tAZMDkBotYNfHlOzK6hJkL4dqhAGANxxAlmssX7phP1E9vXQO\n",
       "Diq0MAfs3hz76K7tk17mRM2B9CWdT2NJxPLcpv02ueCr4uUDek/HbOhPX49P0Jui7YG4TziruYQD\n",
       "r5xxbja2GmEA4O6fxERrd2AHRMh7GO/Oxvc3wtDcuP4OHfzenMVsDdSkl01l6GuR89oMZu1ybPJV\n",
       "xJixks4/R7U3I9OAhbv07uICrpybOxLdPZjvElQjDADcXziPiIQ0knz09fq2b6PSVA4eB0L+gN1b\n",
       "nAMWvZwRc3LBAdu3NV6MMRxjhkJB6mI/SSYHJiKma/hxtynXGtQj9AG+2n8+B3bRpAa8P8JfqS1A\n",
       "X/8A46GdghwI2QKrtwsOWPQiOJYP8mwBtk3zaSOwsU+HjFkcgy7eMUJuPmD5A8pq0x38KHtyE0UP\n",
       "IPQBbh14HDhEbCLo0A0CiD24P64rCW50hP0BszcBIAbG+zU4YNOLOh/3bcnhEwLbvG7ymb872myo\n",
       "6THBwHJlYLeXSMV8Qktjqnv40XTNmOkfP4HQA3jnDwwzPFglTLSHEhtFcmxo9LYMl6iBohAHLHq9\n",
       "Q2Dj47P3Lo5YSNlUfsvX6xTWoHrfXIEiuJDMRc4WJ4vPjHHzgQgHeCjxTdNsQf6VL48gdAHecsAw\n",
       "NOYWwzCCC3cgyoGjtwW8khFbYNELMefjyDNxm+6DS8BNgCfnBAAO4LFPpbDlXTDkvUMM1ajpsYe3\n",
       "PRDhAMFDKQdwbqLwKYQOwHsOyKMHa8hLjMDlvLhvKDlXbPc22BtnLEIvRJyPY3WRK76Xc8cCI8Gs\n",
       "XHH0gQgHphT4kfxAfe3YIwi3Fz4miI4LF6dVh/ARg0HOCkVCGBjmgO1u4yAHLHrtudjj44gkpepi\n",
       "cpE78SV7RixlP0g9cCLxEYQ3uWLTHVF6i83xuCoEDplYEwZTCQcm/fIuRJADFr1erDY/LgNLLJZ6\n",
       "ZCV7x5EHnuYAe2T39AGEu7dJE0RmhmtfyyRSwUMC9QN2lC/REmTwcGxo0WsNRc2Pw4Dm4ZH59OXZ\n",
       "iWpWUkNC7o9nCMovJjadovUIt/FE6geiFDjmRatwogtm15K5WA56AWdeguNKrSWTuRMki2rJ4O1R\n",
       "s3BUKPN3k6sRxod8ieL8WkZRRLPUcuCkl/2f+VuX/uVwANxxIBwVoi8WlxPffJG6OxTm7LpiX6ft\n",
       "9ELSMhNDAxyYb3aFp1BUyOE3761gfijD6uqKseNS0tvzBTDB9JypsL/d1vMFpBy+FxV6kzvNxD15\n",
       "8neb8mmp6s478L7PGd3AV9rabqDjdtbsm6cwAickaw9N6r5vJbuED3/wvCH3t4x47ZlRqlHPHGgO\n",
       "PvY1F67V5aTvO8ubgx84HSdrL6UCfV9N1xx84Q9Y1GLAfd9W3Bz8wMUp9Xep9B0YFMO/KaH+oAPD\n",
       "E0TZ8WbXgcEV/IoS6s+FBWOCKN/AdO0UXsGvKKH+VJv9Ta5ZV/+4GdKkZw5cwa8oof5cHDMniLLb\n",
       "2LdDcAG/ooT6L472ifcH+76dzoD/YAn1h9rka63pCT2O+r6p9IT/ZAn1x9IZc4KoRL/0/SMWB/wn\n",
       "S6g/FcWMKaIicnW9ZWDCf66E+kOmQCSIyvIkXUcGBvwHS6g/5LvwBFFhjNz1fbUb/IdLqD/QuL9Y\n",
       "+VPrl/ftFW7wHy6h/ojVmhJExZ13rQhi8OtKqD/gvcIUUXHvXSuCGPwfK6GWPlXlg4t37lsRROD/\n",
       "Vgk190vY+KNVbaTrXzWKwP+tEmqiUkQ1jXb9kzYNwEe+94ce3vbHY9fW4PfhBw6K0afDEdR1KcnP\n",
       "w+fztegP+CBogAC0138AAAAASUVORK5CYII=\n",
       "\" style=\"display:inline;vertical-align:middle;\" /></a><br>"
      ],
      "text/plain": [
       "summation_complex_closure: forall_{P, Q} ([forall_{x | Q(x)} (P(x) in Complex)] => (Sum_{x | Q(x)} P(x) in Complex))"
      ]
     },
     "execution_count": 6,
     "metadata": {},
     "output_type": "execute_result"
    }
   ],
   "source": [
    "summation_complex_closure = Forall(\n",
    "    [P, Q], Implies(Forall(x, InSet(Px, Complex), condition=Qx), \n",
    "                       InSet(Sum(x, Px, condition=Qx), domain=Complex)))"
   ]
  },
  {
   "cell_type": "code",
   "execution_count": 7,
   "metadata": {},
   "outputs": [
    {
     "data": {
      "text/html": [
       "<strong id=\"inf_geom_sum\"><a class=\"ProveItLink\" href=\"proofs/inf_geom_sum/thm_proof.ipynb\">inf_geom_sum</a> (conjecture without proof):<br></strong> <a class=\"ProveItLink\" href=\"../__pv_it/theorems/949a50f04280652a568b294d4b99ea718b6b15980/theorem_expr.ipynb\"><img src=\"data:image/png;base64,iVBORw0KGgoAAAANSUhEUgAAAQcAAAA/BAMAAAAf2xDgAAAAMFBMVEX///8QEBCIiIhmZma6urrM\n",
       "zMxUVFQiIiJERETc3Nzu7u6qqqp2dnaYmJgyMjIAAAAcRTyBAAAAAXRSTlMAQObYZgAABflJREFU\n",
       "aN6lmVtoHFUYgP+9zG5mdmY2iBUbLFkSiD4UEpC+NSbBy4MgOxa8vCWt1kIRsxbBB6VZfZAtKtmC\n",
       "eJedpBgwCIlIK5VC0ggWqpjFVlJF2Ugf6q25NIm5tMk4u3P+2ZndM3vOqedlhtn/zHznP//1LABz\n",
       "/EiuWoop+iCIjWgXp2AiQ26+Yss2pQQpXueUO2k4V3kXW1a5UxBipJdP7hi5xskqlfZJkPdO0oX7\n",
       "8oL7sZtLTJ0nNz+Q69hDr+Uv5Q/QpSPzgqp4gEuqQBQmr5IHKYjd0QVR+pKVm4IQE5M8Ujm0uSy5\n",
       "KQIsmgABk88LQqjNPL6xSW6m8lWII/MgBVjUhKB/KDc4hHRUwB/45DREHj1ungpa2ZagKmZNtkx/\n",
       "0blK265uvtkH6vGjAfLyNkOzLbU2V2RDDJJrbIlzZQsNfx37tlZTOtuflH9xrwc4ITobRwqtFiK8\n",
       "yXylho5Z6uX1uWkxCOUWOxngLgzzGpreLAYBvzNfmUTn2OB2/DVBiFmD9co0UW70Fi9E9IYgRJoZ\n",
       "WWaJKaiObeiWZ9AnKxuCEBNZFsQiCSW6MzdhEWV/9thBK2DzXxSEiDMD9zraBqlsetbdn+YCctVg\n",
       "XgwixvJRGXVbIDqLWwOsLNxZFIMIb7PS1wqmL1IMSlZ1SoRu1qWGgSJcB6GxbD6Mpt6JVliyqtqu\n",
       "LlnrPtAe7nCg0o1ia+TgTnetO9lBuRK6fwuag/veg+VDk5WhKbmvGDoadr5eECyu5B2A78o3fwUI\n",
       "xDBqD2LUVlpXKHIf3gvJ3oizD8lmMQhYBni/DBPkqjpa7qK7CWmLVlMdgsch7vwQWhKEaLW/Y0cC\n",
       "NajQC6EZtbqlh2q1UAR3wX1QkPxzuCFM0C6Oj78XmDpwVZYnfu1Q9nXJ1sUV1fHiTUGIIVvLG7nc\n",
       "qyIQI5bPB0c73tmbig7An/DuxduHOAxwQgQiYa16U8W0dizu8wfdiezqQmVwNJuLRrmJVXwvSbx1\n",
       "5FAjCOhZ9tSmqqlu+XuQpjVBTQzbEHEIY9RRzt1fVJ42pX/cDEfcTVn2ZhzvfijVhgQhVusVatGH\n",
       "s8Rh2/3VYhyFr5wdB+1jgHMNIeR1/xdSTAiGJmwIef5J+25mX4dROS14+LT9yIUg26F4t0PzN7H9\n",
       "BhWC2MQAHwSceNZOEuYL8V69/OiXnxmGCWnvVxNmpz2ZYpj8o2yY8KWdDSS4DlDpqr4+y4CQfHVE\n",
       "enIYPoH/D+Fsqu3dT+VyudRHT7DihM8GxtpGu/0FRFwUYqgMoZW1KS1JEKskztGyyQeHbbjKeOdt\n",
       "BSsn/6rzKqhlJHm/ATPuCxFiyIVoYtWl1ASWaGmYwIhWL8/YQffN8u3nC28YdYFn2H10oaqTycZR\n",
       "tmEL6hlWTSFl2wSjqPH4p0aHmMhwlZbVcLfOKu+2a6tXj3/2BRwmZMUgJFZzl8AidIpEarnqn6dW\n",
       "6HOmunggKsnXX0wHUuLJQD+JfCOYNuQz1ppAyV8L4Um+zJIfsIBJkkS76ATja612+snQp/QYHBCe\n",
       "5BthxpUh9FXH5CPsXhQWg3sexVmC4Uu+OrMmxWVF+MPgOl/j5SbfZIb1ximywYltXgZphQ/CTb79\n",
       "zOILj6rcsyvmCN/kgfAk307mmW4cdfUyLwT9mK+2BfUk30H24Q9mo9n6hj88Q2t9Q1meFtSTfO9m\n",
       "N4rYERfqfeFXOEM7YCqC0IhyWNs1dKR6G34JkibljMQUg4hxNGwlYsRanY8qaxCi2NSKGAMkOTqT\n",
       "JO57OYtc+qmtq+0w+uImxOtVr4nWVSWDLaNiNXLeVvPlPXCX2QExuwzMvS1tuf9IeStMwdMJxlk4\n",
       "Gfeg1U+DPJqBVdhf1USoHiJtCNoll+ZKZjXcxFJSM7xStYlkb534VUFF6Fz/jOpoFHZvGDLCWXnJ\n",
       "iJWz0HWqdzSqJanjCy5nkjBc9eehYOtCyyJVOyVOhASjBOzhE5tDu8/AI6Dn5eeRPfx9vSqfE2SI\n",
       "DXDK4aeeYctqGUGIOV7Bv9E62H9hnhT8g1jezSv5KboD2/s+EFSE7ED/Bzs3/2RQ9LIsAAAAAElF\n",
       "TkSuQmCC\n",
       "\" style=\"display:inline;vertical-align:middle;\" /></a><br>"
      ],
      "text/plain": [
       "inf_geom_sum: forall_{x in Complex} ((Sum_{m=0}^{infinity} x^{m}) = (1 / (1 - x)))"
      ]
     },
     "execution_count": 7,
     "metadata": {},
     "output_type": "execute_result"
    }
   ],
   "source": [
    "inf_geom_sum = Forall(x, Equals(Sum(m,Exp(x,m),\n",
    "                                  domain=Interval(zero,infinity)), \n",
    "                              frac(one,subtract(one,x))),\n",
    "                    domain=Complex)"
   ]
  },
  {
   "cell_type": "code",
   "execution_count": 8,
   "metadata": {},
   "outputs": [
    {
     "data": {
      "text/html": [
       "<strong id=\"sum_first_n_int\"><a class=\"ProveItLink\" href=\"proofs/sum_first_n_int/thm_proof.ipynb\">sum_first_n_int</a> (conjecture without proof):<br></strong> <a class=\"ProveItLink\" href=\"../__pv_it/theorems/6339fac98376bf70a217f9ccdfaca3b680799b0e0/theorem_expr.ipynb\"><img src=\"data:image/png;base64,iVBORw0KGgoAAAANSUhEUgAAASUAAAA/BAMAAABUc8MNAAAAMFBMVEX///8QEBCIiIhmZma6urrM\n",
       "zMxUVFQiIiJERETc3Nzu7u6qqqp2dnaYmJgyMjIAAAAcRTyBAAAAAXRSTlMAQObYZgAABiFJREFU\n",
       "aN6tWltoHFUY/jfZ62Rmt4pFW1qyNg/6IGRpUEFas1HQB4UsfRBEYRfvBW02VFSsNCFPW0SyFjG2\n",
       "IrstWEqKTWoJ+qKZEhW8NStafaiaSFVUZJOYS+Oa7XjmsjPnTM7O/JPM//Lt5ezsN//l+/9zdgGQ\n",
       "JiVZZO1e8MOCKW/rP7Aha9GkL6SGPK2ObWXRZsINvnA6kfayOpJk8dtLuxhH9xR9Cd42L6sv2vC7\n",
       "ncB8vnXWF0fd7SV0SzY8mYcaE7z/fOE0No5fGx1kEcLJ4BZmxQVfOIlb8GsniyxCINMqZ5g7xFRe\n",
       "rNLsnTb9wsI/eE5/2BBKEHmA4STWEJc53fyt/TpMl7GUQnUWAe6Dlq9ZF9QR1/mT//I5QuSsca8V\n",
       "LKfwPIs8qyJ6AavT7xvl8Wwf4STqsY+j63csxyLPOt0VKlLkcQKYIZwEPbtb/sVymkmzyOUtu15m\n",
       "BJpzgl91p61hOQ3bkGdxXhk/uP9oh1WQHUSpPzu2azeX05T++Bcsp1UbcqVlmfOiXEgKVjReI6ui\n",
       "QzBW5HH62Si8DLINrbHIX8SRltD4YYhpXLUSPwTwSGQWShkeJ2Pg6EVOGOISjXOKZRQPgeNEQVgC\n",
       "Sa1V4Zr6lAwP5bE0zGiNs1rtr1Z/tzhljbQcxHGK12icVPT7FN74vn2BWtXPk+d5CGvV/YLBCSYB\n",
       "DnDzyeAUQXaXRJ7GViVvCs4A1TP7OGJAxoVExZTmQ3rnrws8TvcbEogUg9IggwMr3BGlkyPBARkm\n",
       "yzKV47AD2mqiQ4631HGcJlMMZhXr22+nRIwjUKU0XJTMSprShh1x9pKNU6fKaY/heqRAdSYZlBTL\n",
       "v5K1qpcj8iQgb16mnwXzEHtunOV0R/sVcpO/GeVLgqA5/ydnTt3jLA5ftbVDLaYl11bVrLdoFWMk\n",
       "aYxU6Jfqg7+cr9WXZvGEwjbTsBbLhGvF2HrwKKM3DV0ipfyWys1FE+aKLAYV3qQbmHdNgiPN3zrb\n",
       "eNBONEedE1ym4PYyizC9wBm9Au5T3WkEXfIl0hejoyMul1JsCHGFkzsRd2VpPvtKZqoNkEerhcIr\n",
       "XjkJ7XTFntyN5YQxldOT/DDLTpxIf6EmKblHd54+GIhVzVIb5TSXUY8fBF4Rpxw5tSrbrYCM6zvF\n",
       "6LIvfhomnCLQQkc5dPATuDnHcBIWWNQ8bAVPAH06iC6tb5SKF9PrdphEQKxEzGucmdoLH4rl1rIr\n",
       "p1Keav61Zpw25CfCKTb7kJn8rx4vw0fJlAhTXQe7TIEQFBZV+4aS5GiO5mTkU24znODIE4TN3n0d\n",
       "xsnWxMRR0TWfgsvMJl+mcnyzpuY4nCdhkHoqgaLe+ybE9x515ZSlVbZXlx0/OSVIpzl+CyTKgsZj\n",
       "AuQpN07C9Uy701t4xB9OAyonSe0Tj0EPhF4qFIYIp3ciNk7rekucpz5YzRS6ChkXzdRtK+wJQU73\n",
       "U3AfAfpjA2UWoQAb68GanTL3HPzmaurePDw/AZ9qJ3AAP3JkjEbxZUsHKDFCcroL4DpEI4NgDm6r\n",
       "QJRkbvBwGsIuMx0lBJep8svjON3I3040ImubF+HWAvc0uDH9G0gJAX1Yl0XuzObK0Nc8oUKryD2C\n",
       "zGDJUtPu1PqdBKa2mp98tS3iLpHN0SjsaLz+dp+Scd5LOe/1eYbdSyVmaYxf07tHP2mbdPC7M1hO\n",
       "EYfG04pUucg8jd388wKYQ4euy+kcAFm9De7O93AVS6klhTgHcLO2Oov8glnEcjoPseZakEVWirDC\n",
       "Iv/usb8khGRoac6pE/tLwos25FkYmQgw8tXU0w77W6y3p4ssctsdUjLVMzWH1LsJy6mUZLDDDAPF\n",
       "oxctT47SVceujOcZfLhBqYsqkr6yH5zCNexKaZlF864oTot+UIIEvkGt2XA9J8mfKXMG3QzgQpnC\n",
       "e3IcTvgfShytil8akCmUa/BMgViF5tSb8SXFPXhbqlkYO5Pn+OmKL26Kezlm+JtC688EFqe27b5w\n",
       "OueleLNFC8fehQPqsELHLuCLOsFOL4ulvIUfi6Z3TE5P+UIp7G1H/7iFpz5v7HbuXEmylDdpP3jM\n",
       "vnEWWXvdl79hxLZ5Wy9kWGTtmC9uMsaq/wHaNTF+2CXLjwAAAABJRU5ErkJggg==\n",
       "\" style=\"display:inline;vertical-align:middle;\" /></a><br>"
      ],
      "text/plain": [
       "sum_first_n_int: forall_{n in NaturalPos} ((Sum_{i=1}^{n} i) = ((n * (n + 1)) / 2))"
      ]
     },
     "execution_count": 8,
     "metadata": {},
     "output_type": "execute_result"
    }
   ],
   "source": [
    "sum_first_n_int = Forall(n,\n",
    "                       Equals( Sum(i, i, domain=Interval(one, n)),\n",
    "                               frac(Mult(n, Add(n, one)), two) ),\n",
    "                       domain=NaturalPos)"
   ]
  },
  {
   "cell_type": "code",
   "execution_count": 9,
   "metadata": {},
   "outputs": [
    {
     "data": {
      "text/html": [
       "<strong id=\"weak_summation_from_summands_bound\"><a class=\"ProveItLink\" href=\"proofs/weak_summation_from_summands_bound/thm_proof.ipynb\">weak_summation_from_summands_bound</a> (conjecture without proof):<br></strong> <a class=\"ProveItLink\" href=\"../__pv_it/theorems/6fdf672725bec65ac480b87efcb3cfd5780de4270/theorem_expr.ipynb\"><img src=\"data:image/png;base64,iVBORw0KGgoAAAANSUhEUgAAAgEAAAA/BAMAAACLJwamAAAAMFBMVEX///8QEBCIiIhmZma6urrM\n",
       "zMxUVFQiIiJERETc3Nzu7u6qqqp2dnaYmJgyMjIAAAAcRTyBAAAAAXRSTlMAQObYZgAACYhJREFU\n",
       "aN7FW2uMW8UVPn7b1/f6rqIiSgWKAYmkVWkM/ZE+UtaIH0hI4BskCpUqeZtC1UpADGqK2gK7QB+O\n",
       "KohRpCX8SNchKoIVjU0rFSG17KIgRTxjdX8s4pFdtAkhaZXdPLZhd5O4M3ce98592LM/7s4o1/Z6\n",
       "5pwz/uacM+ecmQDINKMIa9/+HRHfW+h7srQKotcUAJCvRcQ4y5bzSXma3GUKEHjWioix9hX6YV9Z\n",
       "miajwggejozzzQ1qBldIk3ygAAB9NjLWCcb6JmkjOKcAgbFyZKy1Ffqh1ZZ1HSMKEKhHyPtNpmcD\n",
       "kgQTDQU7wVKEzFvUr2lnJAm+UKAChSj1Tl+mHw43pcanLipAoNqJkHmO/aIxOSnpBQUIbI+U+ymm\n",
       "aXIbTmto7QHQ/hcp+03Us8XlvM1Mee0RMKLdgFuTFOgLUsN3KTCCbLSWV2Db4GdSw79UgIAZbQii\n",
       "L7LNQCb5SF5QgEBlMlL2SRYIVGQyHl1FTHwY+55C19XkkjNJEo3pdUtG1wrLChCYx6FKvkuV9eXb\n",
       "f9KVC2BlSR5iWa8MW7OmAIHz9uvgef7F9IocoSTJdrodpmW2wzEFeVGOaGmm64QikpmsJMkmGgzG\n",
       "ZeLdidLaI5A/S+LxrjPBhFzJSJJkhnpaQ8bNb7IdSvxU7xns5ctH0c2HJJTufvwc+WXAoDj11TNd\n",
       "h0vHzyZIRijJXvesKlRTkij2tCPjT3tZll1G0MsFG7OQVELjpvIS+nc5/vAL7xjytdCPn7eCqjjU\n",
       "hLPdMCeE2GxY9MsIItGeqJEZxoctRjFGE4LcJYB38YeTvXKUMkFAx0gUQtLJAgf+BHrm8IcDriXd\n",
       "Yb/N+foPhCCQpjuwtv5syKwQG2PBLQM2WGEkhRKd4Qyflcn2gNMAezASvZzdfIMgYA/aEzJoigf0\n",
       "WJq9gjrfjl+hRc8VXz9+ghAoMBdd6QYXsjCbxIhLhnaoGEpitukMv8NnFWNR93qyqnqvetn6JkHA\n",
       "VpR3Qwb9mvtihFfSjiA0BvPux6jNLfv68eMgkOWKFGMxiN79WrDLR0NjRUdGbjM3Tz9JpUlnuI7P\n",
       "igtAv854Z3z8uV4+rgsUgU/Gx18OMcsc/x6z0slfR8k3o/9hU6v5+4+6EUhxVTR5YjR/KVAgZjNm\n",
       "cRm5B11r6CM5RGeYW+SzyjAlG0ZQflmvPyqFgFmv/zEkXI9j3d598OomXGvbXX4KMT5od91zlKv2\n",
       "tmvb3v6DghVM+RHY1/WK5GJmgMlIPeNO4H0kn1/zfXuGxgKnEBC4D2Anzxho8eTH7/3L8iGQtrCe\n",
       "xtdxzs6obMc+f5gHeBoH2+2vV9AXR+ye3ztJ+Ultydt/hCKw+RHchks+BPJdT1riiPk5UBlQt8TI\n",
       "WCTRLjVbDTzD9AinKLDkcN7CB4maUysiCCVLMOHXAfQt9qR8/3aNyiAl3NfBnua3OIZ6oflXoIeN\n",
       "8Yf57jHRhDPe/tdET/hG24sADJ4Wtx9HzDomAzZ8Q9y/RZL8MphFPMNYkVNkGQK7EAIZiDubPLHZ\n",
       "TBOyHMHTDAGowfXob+xDtH9+u+MeFUO9g0180IXP5G4gS1klXvvRJg9StQve/qqIgPYZUefWgCvM\n",
       "FXWai0ktcRkw/Y4YGQskiVloTeIZVhucIsvUZBf6Xu9knNHEPMwG5AMQeB9hAEnsxj58fVwYhfl/\n",
       "FbRFgsCvNhYdBCA/R138HCRXvP0eBEbfBi8CufOiFXAx8QFHBrzxXbdfPu8NByptPMOrIRiB3OwP\n",
       "0af91x3DLuXMdXjFClc6nkXjVgB/TqFYUi/dOURO3l2jkI6h9c0v2OqpnSPHbLcya/mcmOlFSCx7\n",
       "+2+lCNx0ym4nmMtwrMAQjzcdMdmhpiMD7rgPwkjMDlIcbAV/0PisBARg572I8Y4U1u74b2yvrt1w\n",
       "uuz3A5AdRS+Fj29bLpDJOKOQn9FWID37OnZRxoK2onOfg3Gt2+POYRv29B8RdOAO/14AFTEfccSY\n",
       "nUmXDLjnd2EkZlm7yvbVF/VgTwh/R3qdKKWwdmeLBvGKo7UABPKbMT8E9n6mtGyUXsL3EaaHJrEr\n",
       "RS53Ecva4qilvUAPwFPg7d/iRkA76Ucg5U3yuRjztqJbBoxaISTpTrZkz/DcC3xWIgIm4hRrx4ds\n",
       "e06gN80CbSEAAcAZ29aNbbi7Xq8X3aOwc3jxmh9tK2Mly6JdHzvnY5657/9mB7z9x9wIpK2AeMBb\n",
       "6uJijC0BMoJItBvfJzOcmuQUGYbAMJZpIHtCG+ZH6M1sxpC95NuQGvJHxQAfoWdjaqCRtj2ce5QQ\n",
       "FVPBtbBw1unHj4NADnxRMUmiQtkEypjrFbdTCiEiIiIb1dthTzPT/BC9opTjJWdHHXYQsLUwVSvq\n",
       "GDhhlJgZgZgZeVMapz8sM8owBMIO7imbIBkhJFPCrNyZEVXjbX/7AWxtp+6fRK+J3e99zyHdZQkI\n",
       "nIBtFvwJI+Ae5SQ1PL4keegBO9jb4bAT+sOyYx6wHHJWQszedrpkaMdtIVZPEjrDAx4z64qC2wGi\n",
       "eIVEyAOQHwivkHh+qq+04fTv7FMhce1rRjuATYCMMBI6Q0rRouajiaEDKSF5S0+kqBh/fJVVMqNP\n",
       "lQz34+dbgVWyi7597eYANkEyQkn2umdVpSuWEg/EDNerq1Ia7fFNcKWUFDBzzr62/6xklVmOhJV/\n",
       "8zJsq0Nrj0CKHJ7vY+Dn/sFOQvo1SZJVVcvNWQUnJqTIMU9i5ePru92u5LmNJMkgtZWEDLAZFVdI\n",
       "hu3prf7cUJZknmVNMj8usagAgUErWv5sC5A6EsyruEg10YnWzzAHWJU5EIv4Sk9wi/juUpztGJuk\n",
       "bpU+ogCBTLQH1vx6nNyVtcMKrpTqS5Gyj43wipNMGyuuPQI5++hU2+4vS/dpLy7IkFSom0nK+biC\n",
       "iisUx0EotLmL1z1bsiZDsp1mT2m5+zGGiu1wxl6/g/6ydD/zKcmQsK3AlLwboeIymWlHt0/7y9J9\n",
       "Gq4H9iXhazojGXa82VTgCu3jzyXwlaX7IdeQIOHXiU/Jek4F2SFciQOXAfCVpfu0rSBBwjLopKx9\n",
       "Gyru080gxYuP+MvSfdpGkCBhlcSC9BWp/ypAoDBp/89AX1m6T3sS+pPk2QWDV6XNu6ogJsLHgrG7\n",
       "wF+W7t0us/qTxFjScZX0bAwVEcE0cmtx8Jele7eFYn+Sn7HYeBXJx08VIJAuQeIt8Jele7ct5b4k\n",
       "fD2nV2OUbQUQkJN8X1laIvPrTfIstencFavgqVkKEPhLRHyfZ7kHQeL/vDtSAtQS76wAAAAASUVO\n",
       "RK5CYII=\n",
       "\" style=\"display:inline;vertical-align:middle;\" /></a><br>"
      ],
      "text/plain": [
       "weak_summation_from_summands_bound: forall_{a, b, S} ([forall_{k in S} (a(k) <= b(k))] => (Sum_{l in S} a(l) <= Sum_{l in S} b(l)))"
      ]
     },
     "execution_count": 9,
     "metadata": {},
     "output_type": "execute_result"
    }
   ],
   "source": [
    "weak_summation_from_summands_bound = Forall(\n",
    "    (a, b, S), Implies(Forall(k, LessEq(ak, bk), domain=S),\n",
    "                       LessEq(Sum(l, al, domain=S),\n",
    "                              Sum(l, bl, domain=S))))"
   ]
  },
  {
   "cell_type": "code",
   "execution_count": 10,
   "metadata": {},
   "outputs": [
    {
     "data": {
      "text/html": [
       "<strong id=\"strong_summation_from_summands_bound\"><a class=\"ProveItLink\" href=\"proofs/strong_summation_from_summands_bound/thm_proof.ipynb\">strong_summation_from_summands_bound</a> (conjecture without proof):<br></strong> <a class=\"ProveItLink\" href=\"../__pv_it/theorems/a6fd2acfd70b8f233e69b787eb977bccf72edadb0/theorem_expr.ipynb\"><img src=\"data:image/png;base64,iVBORw0KGgoAAAANSUhEUgAAAj0AAAA/BAMAAAD56GQQAAAAMFBMVEX///8QEBCIiIhmZma6urrM\n",
       "zMxUVFQiIiJERETc3Nzu7u6qqqp2dnaYmJgyMjIAAAAcRTyBAAAAAXRSTlMAQObYZgAACotJREFU\n",
       "eNrFW3+MHFUd/97szP6Y3dm58CNaA7mVJlCJ0AVjoFi4JfzRhERvMRExMdnLKVAStIegaAWvlqhb\n",
       "CemSklI1elMaEE+9XTWRNAq39CBN2mJXiRQp9A7bqlDTa0vP0ru26/s9v2+n3Zmbyc3u7Mz7vvfm\n",
       "877v8/3x3gF0f2gFWPzjbxHVexv7louhVflCDPBkhyOqOM0He31YNWYujQGfJ8sRVaxewi62lkKq\n",
       "MRXH9PpGZDXfWmMTbElIFf4lBnhy05FVneBV3xLS9DoZAz6jpciqVufZRb0RDqGtiwGfaoR1v8x1\n",
       "tDeU6iZqMViv0xFWXmd8qp4Ipbr/xKA++Sh1NjfHLvYaIdSmnI0Bn0orwsoz/I1Gw2gleSwGfNZE\n",
       "WvtRrqVhGMn64OLDo/4v0uqXM0aVwmC5qdLi46NF61LUm2wYzoRQ2cYYplc62jmd54b93RAq+zAG\n",
       "fPRoXa7cLDdg3Qd58pkY8BloRlq9zB2fge4jy1wc0cXeaDlP5XOi3r2e5udiwGeGOG4zbfMI6OoG\n",
       "FHmAZya6jzD04RjwOUUDmzalB/WpN/qOB4yFgomsYQY+2b2BH40hOs1Q/U+0xdhoI8Fi7YAiy5nj\n",
       "LHUfG0wUFx+f7Af0e8R0ExMBXd1gIlOM/7Xujc/ywuLjIzHqqLTNAOnTAQO3QCIDLCaQu/fT+4mW\n",
       "SkcX9hR+LqYG6162tnBJ/ByfBx7ymiUsg6W1TX7Q7DOQNLPdw/P2EyESvFejTLUy5wDI5TsXHikS\n",
       "U5sr5UmLPgGvKkjqefT3EXxxn6vM94dpSXpxHztf8QqJuU+x8ZRPr1AzV81C0mMQ3CK0P1SC9Urn\n",
       "dgtx+G78/f6Fm9oaxSeH9SjvkzDJi46+h86D+GLcXajISpKLcXZ64ZPnOrC17cN+qBntGKgeDOMh\n",
       "ctCUYL3q4fFLH8AWrEcXboT6DIoPqWKLT6HXhUrjzpHZkbPw1ktkcuoNVpJc4Of49MKnh/tccnve\n",
       "O35FzSRQh3ZYOP2wr8i8KcF6JRpAb4fHPHfhmeg29aJLRAV3+xT6Dr9IIfWQSeOq6XrtW0FJ0WAl\n",
       "yQV+jk8LPhuEzyXC073HPTUWN9ODXnWridiDNT8R0h8mwXqV4go6UgNt19jY09A9Pm+Pjf3Kx1fM\n",
       "iPu4oRz9dYjfu2oX/d7JS+4Uzw/Z8LnLjU++7WmkcTOjSCnzPA6RHjF8RUh/uMQhFz7wYbX6SAj4\n",
       "6NXqj3zCRgnPqk2THzdgKeGZ7Ouo2UlGyzv5RPvXFZ+hJQ/Ciyvo80kbPlrRhY/a5/RQRDNTuFtM\n",
       "4jeW1USXSH5oaUNI0F7leQA/gyC726K5XeCTLEO6BtJF4omyZ/ffWbqmRVYjZwCewEFf4xMD6MYB\n",
       "2tsbuMlTzxn1Gi6pzktPnaXPDzB8Eg+T4wMXPihgsIeqZjOrMaJUVbY9ao8x7CL199XTQoL2Ks3x\n",
       "2VjGGxZMnpdZ6vXLe14knElqktkNWejDDqEo6nGOj1wk7G/6K7dBlr1HCtHb1hbcCPBd3L9njN8C\n",
       "39TwdcF82TnQC7hkdu5qtUWfv2Dn5+wR9ka9loDhY3bzJJrBA0U3MSSPOGIMu8iEASeEBO1VWjgQ\n",
       "CIAUSKbbQvULvesEuSB2Lc1upCFDvcC34Y9ufGAYrkG/Cfn+evJmgLVMHBEfetpv4CVzvPZ/HVX6\n",
       "ChE38UHufr2JSyYuFs8rDvs1fokTHxixzxbRjIIpRCED9NwRR4xhF7kF51G5RMWNT66VMgvTqlIG\n",
       "BsWCD7mRBnU1sQIPgc7pThXzC15DCIGMR0x7/KfoOWquYeLzUVBnKT7fWlYQ+EBGzC/k9Qw0cMnU\n",
       "0HoffDL3UyNUt6RXR+02QTQj9Qp8YNOj9pB62OH+yPNCwgOfzPSdZmFK3HoNsjZ8yA30nfkh6iHq\n",
       "QU/DxT/wC2UQM+LnB9kWo3fFq6FZg4YIzzakxupJumC/ysHPegsNPp5f9RJZXF9FT8o/R+lRc/EP\n",
       "/NXmI5vNpAcNNloOfnaKwFlIzAmJVW5+hg1fxRx2JXaglBNXYs3IX8YojONDbmCVUh4zsCKmWm58\n",
       "0pvRR37/7XPAWLGP76RBrKvOQ3J6O6ZB7Zg6nxNMaNp3vaReTph8CjF4087PjByn3fwsz9qDFNGM\n",
       "3moKfrbZd6cInMSkxSUOeODzB4Sy+k0FM4e0llhY9brjJRs+5AaZcvI/AZU0t/yY+GRvwF1H1lBl\n",
       "VjVzL/cwing31r7BJqa35DqYxfisdPiHyVa6SEquBr3cpM9X2vAZN9z4VByerWhGvx11MdF0+4cu\n",
       "ka/BYyAkaK9SHJ8RjI+OayoqWBfTBQb55mEbPuQGpSRtCdKfnoIzvkAfOOtwx7IGKN+uVtfDs2im\n",
       "8BFDlT13xZeGSlh908jZuBrdPOyIL9TrX6MlHwfpeoM+P2zD525XfAHqRQ53QzSj4TfNl13xhVtk\n",
       "2ydbICQOu/1D0FBvehrSIGHSBPpSy6Aes+JDb1B8Xiog/tGFCzFi4vMWOpcpvTUg2ZM/AdzpGV+w\n",
       "bg4vHIng5/i04CNkU3O2mNY7vsDHL72C2+ICEqxX1viUuRS19FvoTXUDM28W6cCgFR96g+DzuV02\n",
       "+0U8KIYP0W9luACv4qsbQf2xd3wKzvjUK5JdKD4V7pvfNiDezA6PZ9WFJFivxARuC5WtVT4LW4yU\n",
       "8Sb6RIHs84YVH3oD43PXTehjqen/sPyYwOc9GCrjKQSwYuWkADFdc8WY495vJkoulN/g+THIrTXn\n",
       "j60EbcYrv+EnssHaqzpTblUki+Sh398MdzSU+5voM7Fpz002+0VvIHw2kwSStKfoSGXn7C77sup6\n",
       "//yYAyifTNoGdnrhI9LmFku935kfsw2Lp3Hf75ZgvaqwXiiOxeGG5dPBz+Rb+YE7P09MhPS988yv\n",
       "ah3yq/g5Pq/1yq9mz7gstdzrkV/9h1vUV4RI8F7xRQe+EADWpLA1NezAxyvhPbj4+XmFpc1HxUiq\n",
       "/QGXUYKJ+KzvaK60dWd89OnFxwfO0Te8jP/+2Zp2sJ0EAUX62aPEbIf6CMQJTouehjGO7WMj1FKf\n",
       "o1HHA+12+1QwwYAiM7x49y/XEeIoDjq+/ee//h5QhEMXwuJ5No7tmROtSKtXOC1Xul8cjngroPcR\n",
       "8Z5HiftXy0PYQf9wDPikot00IrbkhrFNdm8M2+dzpyOtvmedyLZ1f4wWFh+fzIlIqx9g9CaHwa35\n",
       "ODZI/ZtQn1B/vpzQmS0DiaxhgWMyjL1xWhwGfqpsSdGaywmdj0AiYh0plL1NcWxg1UnUN4kU4s+f\n",
       "apnLCZ2PICJixKdC+R/Ol40YCJosYT0B8Ob2MctyQucjiIj4t4uj4bB9MwYFInHUafZP2GI5ofMR\n",
       "RGSg7Ir1uyKgOHb4TiGlVXohT1mXLyd09oyDiBzkehTS1sr/xoBPHimttA62sZ+bAxrRICJZvvz8\n",
       "u5CIoxKDh4gXg9MF+GK1Wi2YywkdjyAiPTy4uzykvmpxeED70It8AZJkwMVyQmeuDCByD48yQgvy\n",
       "vhIDPski6BLkMJWaywmd/YLOImK094VHBo0YADoCiVfwYiKAuZzQ8Qgg8iRji8yS0LqqlmPA51lK\n",
       "uIhMzjd7sbDIT3iMR3H6P/xDeJe1XU9nAAAAAElFTkSuQmCC\n",
       "\" style=\"display:inline;vertical-align:middle;\" /></a><br>"
      ],
      "text/plain": [
       "strong_summation_from_summands_bound: forall_{a, b, S | |S| > 0} ([forall_{k in S} (a(k) < b(k))] => (Sum_{l in S} a(l) < Sum_{l in S} b(l)))"
      ]
     },
     "execution_count": 10,
     "metadata": {},
     "output_type": "execute_result"
    }
   ],
   "source": [
    "strong_summation_from_summands_bound = Forall(\n",
    "    (a, b, S), Implies(Forall(k, Less(ak, bk), domain=S),\n",
    "                       Less(Sum(l, al, domain=S),\n",
    "                            Sum(l, bl, domain=S))),\n",
    "                      condition=greater(Len(S), zero))"
   ]
  },
  {
   "cell_type": "code",
   "execution_count": 11,
   "metadata": {},
   "outputs": [
    {
     "name": "stdout",
     "output_type": "stream",
     "text": [
      "These theorems may now be imported from the theory package: proveit.numbers.summation\n"
     ]
    }
   ],
   "source": [
    "%end theorems"
   ]
  },
  {
   "cell_type": "code",
   "execution_count": null,
   "metadata": {},
   "outputs": [],
   "source": []
  }
 ],
 "metadata": {
  "kernelspec": {
   "display_name": "Python 3",
   "language": "python",
   "name": "python3"
  }
 },
 "nbformat": 4,
 "nbformat_minor": 0
}