{
 "cells": [
  {
   "cell_type": "markdown",
   "metadata": {},
   "source": [
    "Theorems (or conjectures) for the theory of <a class=\"ProveItLink\" href=\"theory.ipynb\">proveit.numbers.summation</a>\n",
    "========"
   ]
  },
  {
   "cell_type": "code",
   "execution_count": 1,
   "metadata": {},
   "outputs": [],
   "source": [
    "import proveit\n",
    "# Prepare this notebook for defining the theorems of a theory:\n",
    "%theorems_notebook # Keep this at the top following 'import proveit'.\n",
    "from proveit.logic import Implies, Forall, Equals, InSet\n",
    "from proveit.numbers import Add, Div, Exp, frac, Mult, subtract, Sum\n",
    "# removed Frac, Substract from line above; added Div, frac, substract\n",
    "from proveit.numbers import Natural, NaturalPos, Integer, Real\n",
    "from proveit.numbers import Complex, Interval, zero, one, two, infinity\n",
    "from proveit import i, m, n, x, P, Px, S, Q"
   ]
  },
  {
   "cell_type": "code",
   "execution_count": 2,
   "metadata": {},
   "outputs": [
    {
     "name": "stdout",
     "output_type": "stream",
     "text": [
      "Defining theorems for theory 'proveit.numbers.summation'\n",
      "Subsequent end-of-cell assignments will define theorems\n",
      "'%end theorems' will finalize the definitions\n"
     ]
    }
   ],
   "source": [
    "%begin theorems"
   ]
  },
  {
   "cell_type": "code",
   "execution_count": 3,
   "metadata": {},
   "outputs": [
    {
     "data": {
      "text/plain": [
       "'\\nsummation_nats_closure = Forall([P, S, Qmulti], Implies(Forall(x_multi, InSet(Px_etc, Natural), domain=S, conditions=etc_Qx_etc), \\n                                              InSet(Sum(x_multi, Px_etc, domain=S, conditions=etc_Qx_etc), domain=Natural)))\\n\\n'"
      ]
     },
     "execution_count": 3,
     "metadata": {},
     "output_type": "execute_result"
    }
   ],
   "source": [
    "\"\"\"\n",
    "summation_nats_closure = Forall([P, S, Qmulti], Implies(Forall(x_multi, InSet(Px_etc, Natural), domain=S, conditions=etc_Qx_etc), \n",
    "                                              InSet(Sum(x_multi, Px_etc, domain=S, conditions=etc_Qx_etc), domain=Natural)))\n",
    "\n",
    "\"\"\""
   ]
  },
  {
   "cell_type": "code",
   "execution_count": 4,
   "metadata": {},
   "outputs": [
    {
     "data": {
      "text/plain": [
       "'\\nsummation_ints_closure = Forall([P, S, Qmulti], Implies(Forall(x_multi, InSet(Px_etc, Integer), domain=S, conditions=etc_Qx_etc), \\n                                              InSet(Sum(x_multi, Px_etc, domain=S, conditions=etc_Qx_etc), domain=Integer)))\\n'"
      ]
     },
     "execution_count": 4,
     "metadata": {},
     "output_type": "execute_result"
    }
   ],
   "source": [
    "\"\"\"\n",
    "summation_ints_closure = Forall([P, S, Qmulti], Implies(Forall(x_multi, InSet(Px_etc, Integer), domain=S, conditions=etc_Qx_etc), \n",
    "                                              InSet(Sum(x_multi, Px_etc, domain=S, conditions=etc_Qx_etc), domain=Integer)))\n",
    "\"\"\""
   ]
  },
  {
   "cell_type": "code",
   "execution_count": 5,
   "metadata": {},
   "outputs": [
    {
     "data": {
      "text/plain": [
       "'\\nsummation_real_closure = Forall([P, S, Qmulti], Implies(Forall(x_multi, InSet(Px_etc, Real), domain=S, conditions=etc_Qx_etc), \\n                                              InSet(Sum(x_multi, Px_etc, domain=S, conditions=etc_Qx_etc), domain=Real)))\\n'"
      ]
     },
     "execution_count": 5,
     "metadata": {},
     "output_type": "execute_result"
    }
   ],
   "source": [
    "\"\"\"\n",
    "summation_real_closure = Forall([P, S, Qmulti], Implies(Forall(x_multi, InSet(Px_etc, Real), domain=S, conditions=etc_Qx_etc), \n",
    "                                              InSet(Sum(x_multi, Px_etc, domain=S, conditions=etc_Qx_etc), domain=Real)))\n",
    "\"\"\""
   ]
  },
  {
   "cell_type": "code",
   "execution_count": 6,
   "metadata": {},
   "outputs": [
    {
     "data": {
      "text/plain": [
       "'\\nsummation_complex_closure = Forall([P, S, Qmulti], Implies(Forall(x_multi, InSet(Px_etc, Complex), domain=S, conditions=etc_Qx_etc), \\n                                              InSet(Sum(x_multi, Px_etc, domain=S, conditions=etc_Qx_etc), Complex)))\\n'"
      ]
     },
     "execution_count": 6,
     "metadata": {},
     "output_type": "execute_result"
    }
   ],
   "source": [
    "\"\"\"\n",
    "summation_complex_closure = Forall([P, S, Qmulti], Implies(Forall(x_multi, InSet(Px_etc, Complex), domain=S, conditions=etc_Qx_etc), \n",
    "                                              InSet(Sum(x_multi, Px_etc, domain=S, conditions=etc_Qx_etc), Complex)))\n",
    "\"\"\""
   ]
  },
  {
   "cell_type": "code",
   "execution_count": 7,
   "metadata": {},
   "outputs": [
    {
     "data": {
      "text/html": [
       "<strong id=\"inf_geom_sum\"><a class=\"ProveItLink\" href=\"proofs/inf_geom_sum/thm_proof.ipynb\">inf_geom_sum</a> (conjecture without proof):<br></strong> <a class=\"ProveItLink\" href=\"../__pv_it/theorems/cd46033410fae6171fa2444b0913faf82dd13fda0/theorem_expr.ipynb\"><img src=\"data:image/png;base64,iVBORw0KGgoAAAANSUhEUgAAAQcAAAA/BAMAAAAf2xDgAAAAMFBMVEX///8QEBCIiIhmZma6urrM\n",
       "zMxUVFQiIiJERETc3Nzu7u6qqqp2dnaYmJgyMjIAAAAcRTyBAAAAAXRSTlMAQObYZgAABflJREFU\n",
       "aN6lmVtoHFUYgP+9zG5mdmY2iBUbLFkSiD4UEpC+NSbBy4MgOxa8vCWt1kIRsxbBB6VZfZAtKtmC\n",
       "eJedpBgwCIlIK5VC0ggWqpjFVlJF2Ugf6q25NIm5tMk4u3P+2ZndM3vOqedlhtn/zHznP//1LABz\n",
       "/EiuWoop+iCIjWgXp2AiQ26+Yss2pQQpXueUO2k4V3kXW1a5UxBipJdP7hi5xskqlfZJkPdO0oX7\n",
       "8oL7sZtLTJ0nNz+Q69hDr+Uv5Q/QpSPzgqp4gEuqQBQmr5IHKYjd0QVR+pKVm4IQE5M8Ujm0uSy5\n",
       "KQIsmgABk88LQqjNPL6xSW6m8lWII/MgBVjUhKB/KDc4hHRUwB/45DREHj1ungpa2ZagKmZNtkx/\n",
       "0blK265uvtkH6vGjAfLyNkOzLbU2V2RDDJJrbIlzZQsNfx37tlZTOtuflH9xrwc4ITobRwqtFiK8\n",
       "yXylho5Z6uX1uWkxCOUWOxngLgzzGpreLAYBvzNfmUTn2OB2/DVBiFmD9co0UW70Fi9E9IYgRJoZ\n",
       "WWaJKaiObeiWZ9AnKxuCEBNZFsQiCSW6MzdhEWV/9thBK2DzXxSEiDMD9zraBqlsetbdn+YCctVg\n",
       "XgwixvJRGXVbIDqLWwOsLNxZFIMIb7PS1wqmL1IMSlZ1SoRu1qWGgSJcB6GxbD6Mpt6JVliyqtqu\n",
       "LlnrPtAe7nCg0o1ia+TgTnetO9lBuRK6fwuag/veg+VDk5WhKbmvGDoadr5eECyu5B2A78o3fwUI\n",
       "xDBqD2LUVlpXKHIf3gvJ3oizD8lmMQhYBni/DBPkqjpa7qK7CWmLVlMdgsch7vwQWhKEaLW/Y0cC\n",
       "NajQC6EZtbqlh2q1UAR3wX1QkPxzuCFM0C6Oj78XmDpwVZYnfu1Q9nXJ1sUV1fHiTUGIIVvLG7nc\n",
       "qyIQI5bPB0c73tmbig7An/DuxduHOAxwQgQiYa16U8W0dizu8wfdiezqQmVwNJuLRrmJVXwvSbx1\n",
       "5FAjCOhZ9tSmqqlu+XuQpjVBTQzbEHEIY9RRzt1fVJ42pX/cDEfcTVn2ZhzvfijVhgQhVusVatGH\n",
       "s8Rh2/3VYhyFr5wdB+1jgHMNIeR1/xdSTAiGJmwIef5J+25mX4dROS14+LT9yIUg26F4t0PzN7H9\n",
       "BhWC2MQAHwSceNZOEuYL8V69/OiXnxmGCWnvVxNmpz2ZYpj8o2yY8KWdDSS4DlDpqr4+y4CQfHVE\n",
       "enIYPoH/D+Fsqu3dT+VyudRHT7DihM8GxtpGu/0FRFwUYqgMoZW1KS1JEKskztGyyQeHbbjKeOdt\n",
       "BSsn/6rzKqhlJHm/ATPuCxFiyIVoYtWl1ASWaGmYwIhWL8/YQffN8u3nC28YdYFn2H10oaqTycZR\n",
       "tmEL6hlWTSFl2wSjqPH4p0aHmMhwlZbVcLfOKu+2a6tXj3/2BRwmZMUgJFZzl8AidIpEarnqn6dW\n",
       "6HOmunggKsnXX0wHUuLJQD+JfCOYNuQz1ppAyV8L4Um+zJIfsIBJkkS76ATja612+snQp/QYHBCe\n",
       "5BthxpUh9FXH5CPsXhQWg3sexVmC4Uu+OrMmxWVF+MPgOl/j5SbfZIb1ximywYltXgZphQ/CTb79\n",
       "zOILj6rcsyvmCN/kgfAk307mmW4cdfUyLwT9mK+2BfUk30H24Q9mo9n6hj88Q2t9Q1meFtSTfO9m\n",
       "N4rYERfqfeFXOEM7YCqC0IhyWNs1dKR6G34JkibljMQUg4hxNGwlYsRanY8qaxCi2NSKGAMkOTqT\n",
       "JO57OYtc+qmtq+0w+uImxOtVr4nWVSWDLaNiNXLeVvPlPXCX2QExuwzMvS1tuf9IeStMwdMJxlk4\n",
       "Gfeg1U+DPJqBVdhf1USoHiJtCNoll+ZKZjXcxFJSM7xStYlkb534VUFF6Fz/jOpoFHZvGDLCWXnJ\n",
       "iJWz0HWqdzSqJanjCy5nkjBc9eehYOtCyyJVOyVOhASjBOzhE5tDu8/AI6Dn5eeRPfx9vSqfE2SI\n",
       "DXDK4aeeYctqGUGIOV7Bv9E62H9hnhT8g1jezSv5KboD2/s+EFSE7ED/Bzs3/2RQ9LIsAAAAAElF\n",
       "TkSuQmCC\n",
       "\" style=\"display:inline;vertical-align:middle;\" /></a><br>"
      ],
      "text/plain": [
       "inf_geom_sum: forall_{x in Complex} ((Sum_{m=0}^{infinity} x^{m}) = (1 / (1 - x)))"
      ]
     },
     "execution_count": 7,
     "metadata": {},
     "output_type": "execute_result"
    }
   ],
   "source": [
    "inf_geom_sum = Forall(x, Equals(Sum(m,Exp(x,m),\n",
    "                                  domain=Interval(zero,infinity)), \n",
    "                              frac(one,subtract(one,x))),\n",
    "                    domain=Complex)"
   ]
  },
  {
   "cell_type": "code",
   "execution_count": 8,
   "metadata": {},
   "outputs": [
    {
     "data": {
      "text/html": [
       "<strong id=\"sum_first_n_int\"><a class=\"ProveItLink\" href=\"proofs/sum_first_n_int/thm_proof.ipynb\">sum_first_n_int</a> (conjecture without proof):<br></strong> <a class=\"ProveItLink\" href=\"../__pv_it/theorems/6c354b56d4e583251503753599365b50105b3da30/theorem_expr.ipynb\"><img src=\"data:image/png;base64,iVBORw0KGgoAAAANSUhEUgAAASUAAAA/BAMAAABUc8MNAAAAMFBMVEX///8QEBCIiIhmZma6urrM\n",
       "zMxUVFQiIiJERETc3Nzu7u6qqqp2dnaYmJgyMjIAAAAcRTyBAAAAAXRSTlMAQObYZgAABiFJREFU\n",
       "aN6tWltoHFUY/jfZ62Rmt4pFW1qyNg/6IGRpUEFas1HQB4UsfRBEYRfvBW02VFSsNCFPW0SyFjG2\n",
       "IrstWEqKTWoJ+qKZEhW8NStafaiaSFVUZJOYS+Oa7XjmsjPnTM7O/JPM//Lt5ezsN//l+/9zdgGQ\n",
       "JiVZZO1e8MOCKW/rP7Aha9GkL6SGPK2ObWXRZsINvnA6kfayOpJk8dtLuxhH9xR9Cd42L6sv2vC7\n",
       "ncB8vnXWF0fd7SV0SzY8mYcaE7z/fOE0No5fGx1kEcLJ4BZmxQVfOIlb8GsniyxCINMqZ5g7xFRe\n",
       "rNLsnTb9wsI/eE5/2BBKEHmA4STWEJc53fyt/TpMl7GUQnUWAe6Dlq9ZF9QR1/mT//I5QuSsca8V\n",
       "LKfwPIs8qyJ6AavT7xvl8Wwf4STqsY+j63csxyLPOt0VKlLkcQKYIZwEPbtb/sVymkmzyOUtu15m\n",
       "BJpzgl91p61hOQ3bkGdxXhk/uP9oh1WQHUSpPzu2azeX05T++Bcsp1UbcqVlmfOiXEgKVjReI6ui\n",
       "QzBW5HH62Si8DLINrbHIX8SRltD4YYhpXLUSPwTwSGQWShkeJ2Pg6EVOGOISjXOKZRQPgeNEQVgC\n",
       "Sa1V4Zr6lAwP5bE0zGiNs1rtr1Z/tzhljbQcxHGK12icVPT7FN74vn2BWtXPk+d5CGvV/YLBCSYB\n",
       "DnDzyeAUQXaXRJ7GViVvCs4A1TP7OGJAxoVExZTmQ3rnrws8TvcbEogUg9IggwMr3BGlkyPBARkm\n",
       "yzKV47AD2mqiQ4631HGcJlMMZhXr22+nRIwjUKU0XJTMSprShh1x9pKNU6fKaY/heqRAdSYZlBTL\n",
       "v5K1qpcj8iQgb16mnwXzEHtunOV0R/sVcpO/GeVLgqA5/ydnTt3jLA5ftbVDLaYl11bVrLdoFWMk\n",
       "aYxU6Jfqg7+cr9WXZvGEwjbTsBbLhGvF2HrwKKM3DV0ipfyWys1FE+aKLAYV3qQbmHdNgiPN3zrb\n",
       "eNBONEedE1ym4PYyizC9wBm9Au5T3WkEXfIl0hejoyMul1JsCHGFkzsRd2VpPvtKZqoNkEerhcIr\n",
       "XjkJ7XTFntyN5YQxldOT/DDLTpxIf6EmKblHd54+GIhVzVIb5TSXUY8fBF4Rpxw5tSrbrYCM6zvF\n",
       "6LIvfhomnCLQQkc5dPATuDnHcBIWWNQ8bAVPAH06iC6tb5SKF9PrdphEQKxEzGucmdoLH4rl1rIr\n",
       "p1Keav61Zpw25CfCKTb7kJn8rx4vw0fJlAhTXQe7TIEQFBZV+4aS5GiO5mTkU24znODIE4TN3n0d\n",
       "xsnWxMRR0TWfgsvMJl+mcnyzpuY4nCdhkHoqgaLe+ybE9x515ZSlVbZXlx0/OSVIpzl+CyTKgsZj\n",
       "AuQpN07C9Uy701t4xB9OAyonSe0Tj0EPhF4qFIYIp3ciNk7rekucpz5YzRS6ChkXzdRtK+wJQU73\n",
       "U3AfAfpjA2UWoQAb68GanTL3HPzmaurePDw/AZ9qJ3AAP3JkjEbxZUsHKDFCcroL4DpEI4NgDm6r\n",
       "QJRkbvBwGsIuMx0lBJep8svjON3I3040ImubF+HWAvc0uDH9G0gJAX1Yl0XuzObK0Nc8oUKryD2C\n",
       "zGDJUtPu1PqdBKa2mp98tS3iLpHN0SjsaLz+dp+Scd5LOe/1eYbdSyVmaYxf07tHP2mbdPC7M1hO\n",
       "EYfG04pUucg8jd388wKYQ4euy+kcAFm9De7O93AVS6klhTgHcLO2Oov8glnEcjoPseZakEVWirDC\n",
       "Iv/usb8khGRoac6pE/tLwos25FkYmQgw8tXU0w77W6y3p4ssctsdUjLVMzWH1LsJy6mUZLDDDAPF\n",
       "oxctT47SVceujOcZfLhBqYsqkr6yH5zCNexKaZlF864oTot+UIIEvkGt2XA9J8mfKXMG3QzgQpnC\n",
       "e3IcTvgfShytil8akCmUa/BMgViF5tSb8SXFPXhbqlkYO5Pn+OmKL26Kezlm+JtC688EFqe27b5w\n",
       "OueleLNFC8fehQPqsELHLuCLOsFOL4ulvIUfi6Z3TE5P+UIp7G1H/7iFpz5v7HbuXEmylDdpP3jM\n",
       "vnEWWXvdl79hxLZ5Wy9kWGTtmC9uMsaq/wHaNTF+2CXLjwAAAABJRU5ErkJggg==\n",
       "\" style=\"display:inline;vertical-align:middle;\" /></a><br>"
      ],
      "text/plain": [
       "sum_first_n_int: forall_{n in NaturalPos} ((Sum_{i=1}^{n} i) = ((n * (n + 1)) / 2))"
      ]
     },
     "execution_count": 8,
     "metadata": {},
     "output_type": "execute_result"
    }
   ],
   "source": [
    "sum_first_n_int = Forall(n,\n",
    "                       Equals( Sum(i, i, domain=Interval(one, n)),\n",
    "                               frac(Mult(n, Add(n, one)), two) ),\n",
    "                       domain=NaturalPos)"
   ]
  },
  {
   "cell_type": "code",
   "execution_count": 9,
   "metadata": {},
   "outputs": [
    {
     "name": "stdout",
     "output_type": "stream",
     "text": [
      "These theorems may now be imported from the theory package: proveit.numbers.summation\n"
     ]
    }
   ],
   "source": [
    "%end theorems"
   ]
  },
  {
   "cell_type": "code",
   "execution_count": null,
   "metadata": {},
   "outputs": [],
   "source": []
  }
 ],
 "metadata": {
  "kernelspec": {
   "display_name": "Python 3",
   "language": "python",
   "name": "python3"
  }
 },
 "nbformat": 4,
 "nbformat_minor": 0
}