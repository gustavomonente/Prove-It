{
 "cells": [
  {
   "cell_type": "markdown",
   "metadata": {},
   "source": [
    "Theorems (or conjectures) for the theory of <a class=\"ProveItLink\" href=\"theory.ipynb\">proveit.numbers.summation</a>\n",
    "========"
   ]
  },
  {
   "cell_type": "code",
   "execution_count": null,
   "metadata": {},
   "outputs": [],
   "source": [
    "import proveit\n",
    "# Prepare this notebook for defining the theorems of a theory:\n",
    "%theorems_notebook # Keep this at the top following 'import proveit'.\n",
    "from proveit.logic import Implies, Forall, Equals, InSet\n",
    "from proveit.numbers import Add, Div, Exp, frac, Mult, subtract, Sum\n",
    "# removed Frac, Substract from line above; added Div, frac, substract\n",
    "from proveit.numbers import Natural, NaturalPos, Integer, Real\n",
    "from proveit.numbers import Complex, Interval, zero, one, two, infinity\n",
    "from proveit import i, m, n, x, P, Px, S, Q"
   ]
  },
  {
   "cell_type": "code",
   "execution_count": null,
   "metadata": {},
   "outputs": [],
   "source": [
    "%begin theorems"
   ]
  },
  {
   "cell_type": "code",
   "execution_count": null,
   "metadata": {},
   "outputs": [],
   "source": [
    "\"\"\"\n",
    "summation_nats_closure = Forall([P, S, Qmulti], Implies(Forall(x_multi, InSet(Px_etc, Natural), domain=S, conditions=etc_Qx_etc), \n",
    "                                              InSet(Sum(x_multi, Px_etc, domain=S, conditions=etc_Qx_etc), domain=Natural)))\n",
    "\n",
    "\"\"\""
   ]
  },
  {
   "cell_type": "code",
   "execution_count": null,
   "metadata": {},
   "outputs": [],
   "source": [
    "\"\"\"\n",
    "summation_ints_closure = Forall([P, S, Qmulti], Implies(Forall(x_multi, InSet(Px_etc, Integer), domain=S, conditions=etc_Qx_etc), \n",
    "                                              InSet(Sum(x_multi, Px_etc, domain=S, conditions=etc_Qx_etc), domain=Integer)))\n",
    "\"\"\""
   ]
  },
  {
   "cell_type": "code",
   "execution_count": null,
   "metadata": {},
   "outputs": [],
   "source": [
    "\"\"\"\n",
    "summation_real_closure = Forall([P, S, Qmulti], Implies(Forall(x_multi, InSet(Px_etc, Real), domain=S, conditions=etc_Qx_etc), \n",
    "                                              InSet(Sum(x_multi, Px_etc, domain=S, conditions=etc_Qx_etc), domain=Real)))\n",
    "\"\"\""
   ]
  },
  {
   "cell_type": "code",
   "execution_count": null,
   "metadata": {},
   "outputs": [],
   "source": [
    "\"\"\"\n",
    "summation_complex_closure = Forall([P, S, Qmulti], Implies(Forall(x_multi, InSet(Px_etc, Complex), domain=S, conditions=etc_Qx_etc), \n",
    "                                              InSet(Sum(x_multi, Px_etc, domain=S, conditions=etc_Qx_etc), Complex)))\n",
    "\"\"\""
   ]
  },
  {
   "cell_type": "code",
   "execution_count": null,
   "metadata": {},
   "outputs": [],
   "source": [
    "inf_geom_sum = Forall(x, Equals(Sum(m,Exp(x,m),\n",
    "                                  domain=Interval(zero,infinity)), \n",
    "                              frac(one,subtract(one,x))),\n",
    "                    domain=Complex)"
   ]
  },
  {
   "cell_type": "code",
   "execution_count": null,
   "metadata": {},
   "outputs": [],
   "source": [
    "sum_first_n_int = Forall(n,\n",
    "                       Equals( Sum(i, i, domain=Interval(one, n)),\n",
    "                               frac(Mult(n, Add(n, one)), two) ),\n",
    "                       domain=NaturalPos)"
   ]
  },
  {
   "cell_type": "code",
   "execution_count": null,
   "metadata": {},
   "outputs": [],
   "source": [
    "%end theorems"
   ]
  },
  {
   "cell_type": "code",
   "execution_count": null,
   "metadata": {},
   "outputs": [],
   "source": []
  }
 ],
 "metadata": {
  "kernelspec": {
   "display_name": "Python 3",
   "language": "python",
   "name": "python3"
  }
 },
 "nbformat": 4,
 "nbformat_minor": 0
}
