{
 "cells": [
  {
   "cell_type": "markdown",
   "metadata": {},
   "source": [
    "Demonstrations for the theory of <a class=\"ProveItLink\" href=\"theory.ipynb\">proveit.numbers.summation</a>\n",
    "========"
   ]
  },
  {
   "cell_type": "code",
   "execution_count": 1,
   "metadata": {},
   "outputs": [],
   "source": [
    "import proveit\n",
    "from proveit import Function\n",
    "from proveit import a, b, k, l, m, n\n",
    "from proveit.core_expr_types import Len\n",
    "from proveit.logic import Forall\n",
    "from proveit.numbers import Interval, Sum, Less, LessEq, greater, zero\n",
    "from proveit.numbers.summation import al, bl, ak, bk\n",
    "%begin demonstrations"
   ]
  },
  {
   "cell_type": "code",
   "execution_count": 2,
   "metadata": {},
   "outputs": [
    {
     "data": {
      "text/html": [
       "<strong id=\"sum_expr\">sum_expr:</strong> <a class=\"ProveItLink\" href=\"../__pv_it/demonstrations/dd76cf99b6d7f0175af44596a39caad03032b3c00/expr.ipynb\"><img src=\"data:image/png;base64,iVBORw0KGgoAAAANSUhEUgAAAEQAAAA6BAMAAAD7FeIwAAAAMFBMVEX///9EREQyMjKqqqp2dnZU\n",
       "VFQiIiLu7u7c3NwQEBC6urqIiIjMzMxmZmaYmJgAAACrU5CoAAAAAXRSTlMAQObYZgAAAiJJREFU\n",
       "OMtjYACDt292X2DAD17NY5iBXwVHdQLDdwKmsG7gmkBACecBXocD+JX0M7AtJqBkKQO3H8MIAvr/\n",
       "EeA3diX2/yFhxt71dP5P7Ep4/yfAmHz5BtjV5H9FKFfAruT8/wdw9h3sSvj+/0CwkcT7QARzA5gt\n",
       "/w2bTnYBBu78AwwRYE7lf2zplgmo/z0DQxGYw/X/MxYlb4H4IgMDywYwz/9nAaaSDCCeDbQPkmCZ\n",
       "/mN6lgMYWhx/gAwtiMvmf0GRvXJ7OgM30H18H4A8X1gkLEBSsrKB6QMDIzCwWAWAvEewSJiO5Nt5\n",
       "DLwCDGzAuOAEOdUMFglINvF+Z2DbwMAJNPc8KNzOwzJJAlKeEmCoPwBWspMBScnLBoSSegcGewaw\n",
       "RaLsQO4yiCjXHyTX1hswBDE3gJz7jwXh3PPI6YRxA18qCwML0NO/qoHcKxA/zEaJv+g9rbsYuICu\n",
       "e+sA5OpAQhdbNGZANUA8IsiAIxoZYNHIkg4XZ0ZyEsSTReg+foySpEBAAs3HKEUVOGHygbX3w33M\n",
       "fh97sck+BcZqjv+PvaRi+qQEBpnADPsNex65TzhPDy3AHk9YzTLCSnwJK5EjrARW/vDdO72Xeyu2\n",
       "SOKZwBAoCAQP+FY+4AznDsCihFsAymjfxsC/gNcBixLGDTBWNMNJcAbDrPLOMASB0sIDhjkMGxn6\n",
       "ebAo4eeGlSofgOY8ZMFWeHvB0m0AgwZDqzumCgCWyqDwzugCmQAAAABJRU5ErkJggg==\n",
       "\" style=\"display:inline;vertical-align:middle;\" /></a><br>"
      ],
      "text/plain": [
       "sum_expr: Sum_{l=m}^{n} a(l)"
      ]
     },
     "execution_count": 2,
     "metadata": {},
     "output_type": "execute_result"
    }
   ],
   "source": [
    "sum_expr = Sum(l, al, domain=Interval(m, n))"
   ]
  },
  {
   "cell_type": "code",
   "execution_count": 3,
   "metadata": {},
   "outputs": [
    {
     "data": {
      "text/html": [
       "<strong id=\"weak_summand_relation\">weak_summand_relation:</strong> <a class=\"ProveItLink\" href=\"../__pv_it/demonstrations/7169f1e643ecc128362d84205faafc95716af3d40/expr.ipynb\"><img src=\"data:image/png;base64,iVBORw0KGgoAAAANSUhEUgAAANkAAAAWBAMAAAC/LiQkAAAAMFBMVEX///8QEBCIiIhmZma6urrM\n",
       "zMxUVFQiIiJERETc3Nzu7u6qqqp2dnaYmJgyMjIAAAAcRTyBAAAAAXRSTlMAQObYZgAAA1BJREFU\n",
       "SMetVl9IU1EY/3a3u+3ebXfRXxSEpWllPix7CiyUoB6dPWQPPYQk9FAxJI3I4JYEUxFGhUkQXvXB\n",
       "kGqD6kEoHPoQ5MsFC/IhGiyCjGCERbmEvu/ce+7udDIXHvh2vnt+v53fPd/3nXMuwH80SefeI7Of\n",
       "LsGcNi1NDx/LU3vMHVkF+VYUHXd8HWePyWQO4WTzNLhUntpX7ig4gRIm2XQeFbpZl+HMjImTjdB6\n",
       "1bLEAmHuLaAFk+TNWuiTLqPPcWaO42iKBuBPlqXmscJ2Ha1VI2+MD927afSuFZPJHIajBd5OTT0o\n",
       "L5AWXaKUvTFi2mwMDX8zMX/UZDKH4WS/Y7He8tRqSKipsRKEMEvL66M4pxHds5+tlHbUJBlTCfsW\n",
       "4gwn6wToB9gbsiY7pxeTEA9Z7hBaS1zJgheZck64v4ohYmXivWOREkvyH8ZMJA+26gwnO8GKxdNs\n",
       "haey+IrcKe7dQI0qcKrgwXz7VuplFPWxeAldGifNaPCDmDAzrj01cDIPCMhOEE1+dUQHX7q4Wn58\n",
       "J4BzBTwhcOArOncYS88a5drL5Y6D/JeYcDjMcTK/7sGnUzT0YXoKNqfmUCERYWqejts2NfBlzILN\n",
       "gCvH1HoOhGxqUvoMPs2JdeAK81kX3leHqzut/XXsdI1dDeOTSMEMsEgmmkcpCa6oCbq+RFi/Suun\n",
       "mC9LyybOOP0X8Of7i4SmWGt4VwW7tTpLrUV3xG1qQ5R6uOKLU5V8Qj/Fq4StMsZKYBnGdGIGsnLO\n",
       "D1aVwHOS/IVvNMGrQRqPIruJ///hfghqIFfw5zksvlCgx89K+iIEI6jmTOVPYhaUy9DHmG4VfvoN\n",
       "nHGCGFdx+yBAeywWC4l9pBgSt7GCMloHtOBvO58Qcyx31A7vY6EZBKERK0OJrEnzRIPOmF7cdfUG\n",
       "zjgBJAtqmwRuq9IdEUGVstYEu6BJtK2t8OQy2mSJM27SzvGG2gXwR3jeRnF1ATUlDcCIJg1IWbj6\n",
       "0pa3wlPZaLMlzu9ZO0eJu2spKqbaSRyQLmliBbTFxQrXeWgo2If91kvydzdvnGfXqHXDOia/cexN\n",
       "wLxtYr8V3KZrZDe4dwkvytmE2vovhcUSXwqLG3Hy1bDRObml7W7xO2B+C6b+B0g19ZAc6YkFAAAA\n",
       "AElFTkSuQmCC\n",
       "\" style=\"display:inline;vertical-align:middle;\" /></a><br>"
      ],
      "text/plain": [
       "weak_summand_relation: forall_{k in {m...n}} (a(k) <= b(k))"
      ]
     },
     "execution_count": 3,
     "metadata": {},
     "output_type": "execute_result"
    }
   ],
   "source": [
    "weak_summand_relation = Forall(k, LessEq(ak, bk), domain=Interval(m, n))"
   ]
  },
  {
   "cell_type": "code",
   "execution_count": 4,
   "metadata": {},
   "outputs": [
    {
     "data": {
      "text/html": [
       "<span style=\"font-size:20px;\"><a class=\"ProveItLink\" href=\"../__pv_it/demonstrations/7169f1e643ecc128362d84205faafc95716af3d40/expr.ipynb\"><img src=\"data:image/png;base64,iVBORw0KGgoAAAANSUhEUgAAANkAAAAWBAMAAAC/LiQkAAAAMFBMVEX///8QEBCIiIhmZma6urrM\n",
       "zMxUVFQiIiJERETc3Nzu7u6qqqp2dnaYmJgyMjIAAAAcRTyBAAAAAXRSTlMAQObYZgAAA1BJREFU\n",
       "SMetVl9IU1EY/3a3u+3ebXfRXxSEpWllPix7CiyUoB6dPWQPPYQk9FAxJI3I4JYEUxFGhUkQXvXB\n",
       "kGqD6kEoHPoQ5MsFC/IhGiyCjGCERbmEvu/ce+7udDIXHvh2vnt+v53fPd/3nXMuwH80SefeI7Of\n",
       "LsGcNi1NDx/LU3vMHVkF+VYUHXd8HWePyWQO4WTzNLhUntpX7ig4gRIm2XQeFbpZl+HMjImTjdB6\n",
       "1bLEAmHuLaAFk+TNWuiTLqPPcWaO42iKBuBPlqXmscJ2Ha1VI2+MD927afSuFZPJHIajBd5OTT0o\n",
       "L5AWXaKUvTFi2mwMDX8zMX/UZDKH4WS/Y7He8tRqSKipsRKEMEvL66M4pxHds5+tlHbUJBlTCfsW\n",
       "4gwn6wToB9gbsiY7pxeTEA9Z7hBaS1zJgheZck64v4ohYmXivWOREkvyH8ZMJA+26gwnO8GKxdNs\n",
       "haey+IrcKe7dQI0qcKrgwXz7VuplFPWxeAldGifNaPCDmDAzrj01cDIPCMhOEE1+dUQHX7q4Wn58\n",
       "J4BzBTwhcOArOncYS88a5drL5Y6D/JeYcDjMcTK/7sGnUzT0YXoKNqfmUCERYWqejts2NfBlzILN\n",
       "gCvH1HoOhGxqUvoMPs2JdeAK81kX3leHqzut/XXsdI1dDeOTSMEMsEgmmkcpCa6oCbq+RFi/Suun\n",
       "mC9LyybOOP0X8Of7i4SmWGt4VwW7tTpLrUV3xG1qQ5R6uOKLU5V8Qj/Fq4StMsZKYBnGdGIGsnLO\n",
       "D1aVwHOS/IVvNMGrQRqPIruJ///hfghqIFfw5zksvlCgx89K+iIEI6jmTOVPYhaUy9DHmG4VfvoN\n",
       "nHGCGFdx+yBAeywWC4l9pBgSt7GCMloHtOBvO58Qcyx31A7vY6EZBKERK0OJrEnzRIPOmF7cdfUG\n",
       "zjgBJAtqmwRuq9IdEUGVstYEu6BJtK2t8OQy2mSJM27SzvGG2gXwR3jeRnF1ATUlDcCIJg1IWbj6\n",
       "0pa3wlPZaLMlzu9ZO0eJu2spKqbaSRyQLmliBbTFxQrXeWgo2If91kvydzdvnGfXqHXDOia/cexN\n",
       "wLxtYr8V3KZrZDe4dwkvytmE2vovhcUSXwqLG3Hy1bDRObml7W7xO2B+C6b+B0g19ZAc6YkFAAAA\n",
       "AElFTkSuQmCC\n",
       "\" style=\"display:inline;vertical-align:middle;\" /></a> <a class=\"ProveItLink\" href=\"../__pv_it/demonstrations/948e82b75f087b155a2cd9204e050c4d42e332d30/proof.ipynb\" style=\"text-decoration: none\">&nbsp;&#x22A2;&nbsp;&nbsp;</a><a class=\"ProveItLink\" href=\"../__pv_it/demonstrations/0d0630843040116bf48b625a718c5f40b37d007d0/expr.ipynb\"><img src=\"data:image/png;base64,iVBORw0KGgoAAAANSUhEUgAAAN8AAAA/BAMAAACSkwCdAAAAMFBMVEX///9mZmbu7u5UVFRERES6\n",
       "uroyMjJ2dnbMzMwQEBDc3NwiIiKqqqqIiIiYmJgAAAAmjM/GAAAAAXRSTlMAQObYZgAABfJJREFU\n",
       "WMOVWU1sG0UUfl7ba3v9e0DNjbhqVQgI2QgkClKokXJASCQGTlElnBRaflph9wASQig+cAAk5KgU\n",
       "ERXRuHAqHOILAtSWWOIC5RBXICFURTUHECJCdgJp87/M7PzsrD2znoyUZDQ773sz733vzZsJAG7/\n",
       "wOD2jN/HVGugfDjj9hMNDYUhP8yfNACedruXqxrzjY/U36w5DYCRIu9eY4a5+4MbaoHJuvJTvKUB\n",
       "EL7AepEppnCyHVOjBqaUn97QAjjAOgtsr5/dhHRWbdMdpUXXtQByTdoZ40OjMOnjhDeVfCpoAURm\n",
       "KUe3+NAcDEXVAjkVT5fqWgDGLvlr8vVZXfjqB58Vrik+vKgJMEPMXWtzHuXh17YP+ffk49E9TYAF\n",
       "8u0Y6LZT8uFgV1PedHhu/Kut8Jac8rm8pnzSYUtqXVthriId7hQ15Y07Dqe72grNWenwhDbAK/hX\n",
       "uqA9P7IhHf5PG2AGJ+1SRXt+eFc6ekcboIQjecbxgGkLTRXghnQvkXVtgBy2ZtmJxoRNzXXf84/a\n",
       "s6oVfiv17Jo2QBx/2Cb94W0+vKLM0sdkcZFuaAMEUVxY1ExxO99/jvQFoiyNLBS0AZIoJyVWaX6y\n",
       "3cQVUFUAHRnBljLaACnEryRjXsd27SVsxML9BP1UkuWUWy0/AEcerlNCo6wWYPYO2dJS6jDAzQ14\n",
       "jFpPdugPN+UAhz9x5YNkLdZt5EeW2Yz5VZnCV5EhunCE8kOkX/IbyqSiAmDalTfoSjcRqfnxW7Kb\n",
       "EqsjBwUKECFmiwlp8B5WepXrCoAdVx7eJkPzCIOfqhH7nCRyEFqsBQbZmjsZLn3HevNZOUB4zZWH\n",
       "ET437S66fLtf4ZfYc4hzJ4l6bo7Pz/AptgIg0hDkTWL3xbqocMT2sP7S2d+ygMvMDvo561X4zkmQ\n",
       "KPQCmKM3mlw+kpEoTNjr3rq1DDCOeg+jnz8JBk1foSdBptALkDthbHH5FGFNuSoqhOFNoagcacNd\n",
       "AFdR71N+eQhRhclrWZlCL8BSFna5PL2+TFQhJzA9LppkOIuvAOhCEcV2rBGFbAeprzmysakAOIBP\n",
       "eCYfJfuaKHoUWtuCRc6DseEoTM72K4TEdF2i0AMwDeEdLi8oFEyauuCpPxJdx6ShPNrN8R6FEH6B\n",
       "5kvDlgPAHgTWuHy4wRSKPixVPTeJ4NR17PR0u9JLGidZjxX7fCgCwDqmAZOXkia6470/ruQrOBzS\n",
       "z6LAHepTCNbRXoVegMfhCeDygYpE4YinMji0/P5oEZsyhZW9TEghq6JsBcBBXIQzeZPsfbEqZqtp\n",
       "kKc2bOBGT6YRGk9tMgAqD/cDC/z4Wv+lqyd540TRn7x5W8z6AFB5IXmHuJXecoNWyPpPOb/Z8UQV\n",
       "HrmCGz2eJqp+AESeHU+2cAALlE41PQcwF4Ncw+cAlgMQ+RD1zDapa3opLd5inRIhRT1RK/hUVnIA\n",
       "UmL8TWmMKrYErZstl9IHV1VV21JGNljRBsAVW5Te1kZYFrS+tzf2VSbW8toAjjnpoVk+5bTT86hS\n",
       "Vz5MDcvKv/SUNkAAr2SRdHWuBviAlIRaVxvA7KpWrWjbymXrNedWsNTWnh+VkiGxpw1Qy+znho58\n",
       "Lr2k7OeRAMdnvKE9X/FccUUbwHkwiWxpz4/Jb+czdV2A807Y4NuMofVYU5K7ewGT8pDG20SYePs0\n",
       "/nVcyyLyl0ITOyWs4ZkgOZk6VV7oDmiKjJXacCtd/6ggc9I4J41r6EupAg6n45BGdHVIyEfwFYQz\n",
       "5/e/ljPLR32eymQPqcjU6fpgAPZW9zEK6VkIjqE2Dn9chA+zP8s5o8pJMWSj9wYDhJmFOllIMsJb\n",
       "DzRQfTckxZ1W2hqR4ZfBACZzs1kR/ikRbKHdXpWmsHNK57wk/FdCDfAjIzkq/mPvQhAfLq9BrJos\n",
       "WF2Z8WJqWtTqMFcdCHDRfciBdJJHMVpiqiB7HnnIh78N6LYGAQTdpB3MBF5n/efArFuPZKWg6vYg\n",
       "DBUHAawI/TMaUXjZL2OazYHylnjRuVdD4Re+b72DT3GLLPh/794qjPKgGDgAAAAASUVORK5CYII=\n",
       "\" style=\"display:inline;vertical-align:middle;\" /></a></span>"
      ],
      "text/plain": [
       "{forall_{k in {m...n}} (a(k) <= b(k))} |- (Sum_{l=m}^{n} a(l)) <= (Sum_{l=m}^{n} b(l))"
      ]
     },
     "execution_count": 4,
     "metadata": {},
     "output_type": "execute_result"
    }
   ],
   "source": [
    "sum_expr.deduce_bound(weak_summand_relation, [weak_summand_relation])"
   ]
  },
  {
   "cell_type": "code",
   "execution_count": 5,
   "metadata": {},
   "outputs": [
    {
     "data": {
      "text/html": [
       "<strong id=\"strong_summand_relation\">strong_summand_relation:</strong> <a class=\"ProveItLink\" href=\"../__pv_it/demonstrations/e62443c7881fbe8dca581fdaff22d89402aaaa5f0/expr.ipynb\"><img src=\"data:image/png;base64,iVBORw0KGgoAAAANSUhEUgAAANkAAAAWBAMAAAC/LiQkAAAAMFBMVEX///8QEBCIiIhmZma6urrM\n",
       "zMxUVFQiIiJERETc3Nzu7u6qqqp2dnaYmJgyMjIAAAAcRTyBAAAAAXRSTlMAQObYZgAAAztJREFU\n",
       "SMetVk1oE0EUftn87ibZiL+0UIitrVp7iPUkVGkR9NjUg714kGDBg0pQKYgtrPaStBSCihZBum3B\n",
       "SlESUA8FpaE9CPayUAV7EAPFgxUhSBVtLPje7M7uJk1IIx14u2/mfbxv3s/MLsB/DFHj2mPjPVsF\n",
       "OWtIjiafamN7yhVJAel2HBVPahNmn4FkCtlJFmlxtTa2r1yR0YEcIdrcJtAKR64YdpIxilepiSwY\n",
       "4doSSihD2rxl9n9hrwJHFrgdRVYBApma2Lxm2m6idKukTVh7uc7MrnUDyRRmRwm+m5l5WFsiTbhI\n",
       "JXur57TTWBMGGDsE4gaSKcxO8juRGKiNrYmIOtrrQYiwsrw5jj6N7D67xksaa8owpBzxL6WYnaQP\n",
       "IAmwP2w6O6+Vo3AfMdVRlK6UnAcfIqWCcH8DU6S3ydQgB6VXpT8Mmc4c7taYneQUaxZvp5me+vIR\n",
       "ebJcu4UcDeBUwIv19q+3SkjqZ/nyfDPhcyr8ICTMTarPdTuJFwREpynb0utjGvhz5dms9d0AznXw\n",
       "hsGBW3Tu0kPP0/OJxXYSpL+EhKMRbicJaF6cnaGlj7MzsDU2hwLpKGPzxu5YbHBv0DpurgJj6z8U\n",
       "trGJuXM4W3C3gCvCvS59aIw09pk9feJsk50N85POwhywTKY7x6kIrnhJl2xQ/JTzNXHNsDNM8iI+\n",
       "vr9Mq7IZw/sG2Ku2mGxdmiNlYxul0sNVf4q65DPqWbNLrBOwBhMaIYN5qRAAs0vgBVH+imJD8W4Q\n",
       "J+OI7uDeHx2EkApSHZ8vAPjCwf4Aa+lLEIoimzNbcrqvwBBDehT4GdDtDBPCvLp3jgD0JhKJsHuI\n",
       "GMPuHayh9BGDLnz2codYYynW/OAAS80ICO0YjRwtubmm2jSG9OGpa9XtDBNEsKD0iOAxO90RFRQx\n",
       "bzrYAx1uW2zFN5c+pqvccdN2jC/cK0Agyus2jtEFlaw4DGOqOCzm4cYrW92Kb2V9zFe5v+ftGDnl\n",
       "aaasGGyncUG8rLrroCflrnNdgLaic5g0N8n3LlU4NkmbvRQjYN22cN6KvqYltBW+u2Qvi9kC2+Y/\n",
       "heUqfwrLlTBWN1S6J7d13C3/DVjcBtf/APT/8yW6NaV4AAAAAElFTkSuQmCC\n",
       "\" style=\"display:inline;vertical-align:middle;\" /></a><br>"
      ],
      "text/plain": [
       "strong_summand_relation: forall_{k in {m...n}} (a(k) < b(k))"
      ]
     },
     "execution_count": 5,
     "metadata": {},
     "output_type": "execute_result"
    }
   ],
   "source": [
    "strong_summand_relation = Forall(k, Less(ak, bk), domain=Interval(m, n))"
   ]
  },
  {
   "cell_type": "code",
   "execution_count": 6,
   "metadata": {},
   "outputs": [
    {
     "data": {
      "text/html": [
       "<span style=\"font-size:20px;\"><a class=\"ProveItLink\" href=\"../__pv_it/demonstrations/e62443c7881fbe8dca581fdaff22d89402aaaa5f0/expr.ipynb\"><img src=\"data:image/png;base64,iVBORw0KGgoAAAANSUhEUgAAANkAAAAWBAMAAAC/LiQkAAAAMFBMVEX///8QEBCIiIhmZma6urrM\n",
       "zMxUVFQiIiJERETc3Nzu7u6qqqp2dnaYmJgyMjIAAAAcRTyBAAAAAXRSTlMAQObYZgAAAztJREFU\n",
       "SMetVk1oE0EUftn87ibZiL+0UIitrVp7iPUkVGkR9NjUg714kGDBg0pQKYgtrPaStBSCihZBum3B\n",
       "SlESUA8FpaE9CPayUAV7EAPFgxUhSBVtLPje7M7uJk1IIx14u2/mfbxv3s/MLsB/DFHj2mPjPVsF\n",
       "OWtIjiafamN7yhVJAel2HBVPahNmn4FkCtlJFmlxtTa2r1yR0YEcIdrcJtAKR64YdpIxilepiSwY\n",
       "4doSSihD2rxl9n9hrwJHFrgdRVYBApma2Lxm2m6idKukTVh7uc7MrnUDyRRmRwm+m5l5WFsiTbhI\n",
       "JXur57TTWBMGGDsE4gaSKcxO8juRGKiNrYmIOtrrQYiwsrw5jj6N7D67xksaa8owpBzxL6WYnaQP\n",
       "IAmwP2w6O6+Vo3AfMdVRlK6UnAcfIqWCcH8DU6S3ydQgB6VXpT8Mmc4c7taYneQUaxZvp5me+vIR\n",
       "ebJcu4UcDeBUwIv19q+3SkjqZ/nyfDPhcyr8ICTMTarPdTuJFwREpynb0utjGvhz5dms9d0AznXw\n",
       "hsGBW3Tu0kPP0/OJxXYSpL+EhKMRbicJaF6cnaGlj7MzsDU2hwLpKGPzxu5YbHBv0DpurgJj6z8U\n",
       "trGJuXM4W3C3gCvCvS59aIw09pk9feJsk50N85POwhywTKY7x6kIrnhJl2xQ/JTzNXHNsDNM8iI+\n",
       "vr9Mq7IZw/sG2Ku2mGxdmiNlYxul0sNVf4q65DPqWbNLrBOwBhMaIYN5qRAAs0vgBVH+imJD8W4Q\n",
       "J+OI7uDeHx2EkApSHZ8vAPjCwf4Aa+lLEIoimzNbcrqvwBBDehT4GdDtDBPCvLp3jgD0JhKJsHuI\n",
       "GMPuHayh9BGDLnz2codYYynW/OAAS80ICO0YjRwtubmm2jSG9OGpa9XtDBNEsKD0iOAxO90RFRQx\n",
       "bzrYAx1uW2zFN5c+pqvccdN2jC/cK0Agyus2jtEFlaw4DGOqOCzm4cYrW92Kb2V9zFe5v+ftGDnl\n",
       "aaasGGyncUG8rLrroCflrnNdgLaic5g0N8n3LlU4NkmbvRQjYN22cN6KvqYltBW+u2Qvi9kC2+Y/\n",
       "heUqfwrLlTBWN1S6J7d13C3/DVjcBtf/APT/8yW6NaV4AAAAAElFTkSuQmCC\n",
       "\" style=\"display:inline;vertical-align:middle;\" /></a>, <a class=\"ProveItLink\" href=\"../__pv_it/demonstrations/0f066d43577cec27655a1f781f198140e322e1260/expr.ipynb\"><img src=\"data:image/png;base64,iVBORw0KGgoAAAANSUhEUgAAAIEAAAAVBAMAAACTeZA2AAAAMFBMVEX////c3NxEREQQEBCqqqpU\n",
       "VFQiIiIyMjJmZmaYmJiIiIi6urp2dnbu7u7MzMwAAAA2xJTeAAAAAXRSTlMAQObYZgAAAZtJREFU\n",
       "OMtjeMsABDMmMOAHL9YCCb4LWOVOA/H1AwyEwOYHDAw8G3CaMJ+gAQwcBdhMODXnAcSEY4RN4EnA\n",
       "YgK7A28iGSZcR4TZZAaG42SYwHtsAUxQlYHB/wI5vlh2Fir4lYFhvwPMBO6jgqui+E5FY2jdEyi1\n",
       "AmgpjwFSOEzrBVO8P4AmLACbEA6UZdJiuL+awRnDhANKC3g/MjBwfkAOSfdAEMn4h4HhPdgEFjsG\n",
       "hidsBQzyBzDjlc8hnYHxH5BRgRIX22NBJgDd8P4A0AQ+NQEGhgv3N4BCJQjdBF7e32D7GVizUEzQ\n",
       "RfEFN9ANDP4MDG0MDFYYvmD5wMAKTE0MpZi+AIWkPyQkQTa3MzDkMHB/5MWSGPknXEANB2hIMigB\n",
       "kzMiNm0YgO7lKBBBN4H5ANB3B1DiAh6bKCmK8TfIvewHgHnsPsjRIIL3O5Ahv4HhOOcD7CmKzYHX\n",
       "Dm4CdwIDVwMDSycwUNkCGKBEKhBvY2AQnYIjVfOeWkphzkLk7sMUm0B2+QA3gZ2IMmoDThPWgQgP\n",
       "ospJrgfYpABOrZE20/3arwAAAABJRU5ErkJggg==\n",
       "\" style=\"display:inline;vertical-align:middle;\" /></a> <a class=\"ProveItLink\" href=\"../__pv_it/demonstrations/38c191687b39f383494ce6941c23907cdd80bc2e0/proof.ipynb\" style=\"text-decoration: none\">&nbsp;&#x22A2;&nbsp;&nbsp;</a><a class=\"ProveItLink\" href=\"../__pv_it/demonstrations/6117f1cc3cf4f8ca2ba3e49d4730a1d4ec000dbd0/expr.ipynb\"><img src=\"data:image/png;base64,iVBORw0KGgoAAAANSUhEUgAAAN8AAAA/BAMAAACSkwCdAAAAMFBMVEX///9mZmbu7u5UVFRERES6\n",
       "uroyMjJ2dnbMzMwQEBDc3NwiIiKqqqqIiIiYmJgAAAAmjM/GAAAAAXRSTlMAQObYZgAABd5JREFU\n",
       "WMOVWV1oY0UUPrlJbpKb3wfZvtmULmoUSUTBH6iNsE+CbdSnsmBa0fVnF5N9UBCR5lEFSVlXLCtu\n",
       "s76tPjQ+iIi724Avuj40i4LIUjY+KGKRpNXupr/XmTt37p3bnLmZDiQZ5s75ztwz3/mZCQBt/8Dw\n",
       "9qzfw1R7qHw44/YTTQWFIT/MnxQAnnG7l2sK87WP5c+MRQWAXMnpXuWGufvDG3KBmYb0UbytABC+\n",
       "wHuRWa5wphOTowZmpY/eUgI4xjvL/F0/vwnprNyme1KLbikB5Ft254QzNAEzPpvwtpRPRSWAyILN\n",
       "0R1naBFGonKBvIynqw0lAG2f/erO+owefP2Dzwo3JQ9eUgSYZ+audxweFeDXjg/5D/Dx6IEiwDJ7\n",
       "Ngmq7RQ+HOwpyusWz7V/lRXewimfLyjKJy22pLaUFear6HC3pCiv3bE43VNWqC+gw9PKAK/Rr3RR\n",
       "eX6kjw7/pwwwT4N2uao8P7yPjt5RBihTT563dkA3hSZzcA19l8iWMkCeWrNieWPCtM11/wuPmwuy\n",
       "FX6L7uymMkCcPthl/dFdZ3hdGqUnMb9IN5UBgsQvDNtMcbMwmEcGHBELI8tFZYAkiUmJDTs+mW7g\n",
       "CsgqgC5GsNWMMkCK8CvJmdc1XXsJL2LQfsJ+VMZiyq22H4AlD9dtQpOoFuD2DploKXUc4GYfnrCt\n",
       "hyX90RYOcPxTVz7I1mLcJvvII5u2tIEpfJ0Yogf32PzA6DdZkgDMufKavdJtQmon/ZbNFmJ1skGB\n",
       "IkSY2WJiGEy8yn4rDQnAnisP77KhJYLhZNWIeQ7xHIIWa4PGXi0mpODUV7aipSwOEN505SHnzE27\n",
       "i67cHlT4Jd05wrmXmXq3Gkl+w/WYEoBIU5DXmd1XGqLCnOlh/aWzv2WBlpld8jl7SOG9V515pgRA\n",
       "n7jRcuQjGURhwtzy1q0VgCnSe4R8/mQYPF2MXQNEoRcg/6K248inGGsqNVEhjG4LRWWuA3cBXCG9\n",
       "z5zDQ8hWGDwDmEIvwGoW9h15+/gyXYO8wPS4aJLRLD0CkANFlNqxzhTabzAuKNS2JQDHaIbn8lH2\n",
       "XtMlj0JjV1j4edD6lsLkwoBCuHQNVegBmIPwniMvKBRMmrrgqT8SPcukoQKx00mvQoE0mokDwAEE\n",
       "Nh35cJMrFPewXPOcJIKz1+mmpzvVAdLgbuEBgC1KAy6Pkia65z0/rheq1B3SzxHHHTms0HV8UwLw\n",
       "JDwFjnygiijMeSqD8bUPJkrUlCmqjIWxeB8JbaYEYIwW4VxeZ+++UhOj1RzgoY0auHk40rjNCW0Y\n",
       "gC0PDwB3/Pjm4KHrUPCmgQIJ3rytZH0AbHkheIccK73jOq0Q9Z+2vnl6whRO1/wAmDxPT6aQgAVK\n",
       "p1qeBOyIQb7pk4BxACYfsndml9U1hyktnmKtEiFl70S96FNZ4QCsxPjbpjGp2BJ23Wy4lB7bkFVt\n",
       "qxlssKoMQCu2qH1ay/EoaHxv9o9UJtYLygCWOe2kWTlltdNLpFKXXkyNYuVfelYZIEBXssK6KkcD\n",
       "miARV+spA+g92aolbVe6bLVmnQpWO8rzoygZEgfKAPXMUU7oZM/RQ8pRLgmof8abyvMl1xXfKQNY\n",
       "FyaRHeX5Mfx0Pt9QBThvuQ09zWhKlzVlfLuXKSnHFe4mwmy3T9Ovk0oWwW8KdbopYYWdCbLM1K05\n",
       "he6QJolYqb5b6fp7BZuTpjFpSkFfSuZwNByHFLyry1w+Qo8gDnN+/2sts/aYz1UZdpFKTJ1uDAfg\n",
       "d3WfEJdegOAJ0qbgj4vwUfZnnDOymBQjNnp/OECYW6ibhSQnvPFgk9R3IyjunNTWhAy/DAfQ+Tbr\n",
       "VeFPiWCbvO0VNISdk27OK8K/EnKAHznJSfEfew+CNLm8AbFasmj0MOPF5LSoN2CxNhTgonuRA+mk\n",
       "48Vkiakidj3ysA9/m9BrDwMIukE7mAm8yfvPg94wHs2ioPL2EIyUhgGsC/0zCl542S9i6q2h8oZ4\n",
       "0LlPQeEXvne9w7O4wRb8P2xNJovIDm0aAAAAAElFTkSuQmCC\n",
       "\" style=\"display:inline;vertical-align:middle;\" /></a></span>"
      ],
      "text/plain": [
       "{forall_{k in {m...n}} (a(k) < b(k)), |{m...n}| > 0} |- (Sum_{l=m}^{n} a(l)) < (Sum_{l=m}^{n} b(l))"
      ]
     },
     "execution_count": 6,
     "metadata": {},
     "output_type": "execute_result"
    }
   ],
   "source": [
    "# Note, with some added Interval automation, we should be able to get this to\n",
    "# work assuming m >= n rather than |{m...n}| > 0.  Change this in the future.\n",
    "sum_expr.deduce_bound(strong_summand_relation, [strong_summand_relation, greater(Len(Interval(m, n)), zero)])"
   ]
  },
  {
   "cell_type": "code",
   "execution_count": 7,
   "metadata": {},
   "outputs": [],
   "source": [
    "%end demonstrations"
   ]
  }
 ],
 "metadata": {
  "kernelspec": {
   "display_name": "Python 3",
   "language": "python",
   "name": "python3"
  }
 },
 "nbformat": 4,
 "nbformat_minor": 0
}