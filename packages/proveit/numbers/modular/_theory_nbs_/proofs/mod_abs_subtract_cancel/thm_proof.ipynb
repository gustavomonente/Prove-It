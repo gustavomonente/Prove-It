{
 "cells": [
  {
   "cell_type": "markdown",
   "metadata": {},
   "source": [
    "Proof of <a class=\"ProveItLink\" href=\"../../../../../_theory_nbs_/theory.ipynb\">proveit</a>.<a class=\"ProveItLink\" href=\"../../../../_theory_nbs_/theory.ipynb\">numbers</a>.<a class=\"ProveItLink\" href=\"../../theory.ipynb\">modular</a>.<a class=\"ProveItLink\" href=\"../../theorems.ipynb#mod_abs_subtract_cancel\">mod_abs_subtract_cancel</a> theorem\n",
    "========"
   ]
  },
  {
   "cell_type": "code",
   "execution_count": 1,
   "metadata": {},
   "outputs": [],
   "source": [
    "import proveit\n",
    "theory = proveit.Theory() # the theorem's theory"
   ]
  },
  {
   "cell_type": "code",
   "execution_count": 2,
   "metadata": {},
   "outputs": [
    {
     "data": {
      "text/html": [
       "Under these <a href=\"presumptions.txt\">presumptions</a>, we begin our proof of<br><strong id=\"mod_abs_subtract_cancel\">mod_abs_subtract_cancel:</strong> <a class=\"ProveItLink\" href=\"../../../__pv_it/theorems/c42450a735dee3bdc3d1f388e1cf4291d54776480/expr.ipynb\"><img src=\"data:image/png;base64,iVBORw0KGgoAAAANSUhEUgAAAaYAAAAXCAMAAAB3ThtVAAAAOVBMVEX///8oKCgUFBQNDQ0QEBCI\n",
       "iIhmZma6urrMzMxUVFQiIiJERETc3Nzu7u6qqqp2dnaYmJgyMjIAAAArQGDrAAAAAXRSTlMAQObY\n",
       "ZgAABX5JREFUaN7tWYmS4ygM9e5YmPv6/49dEEfAxmfSm5mqoaqbQNzqBw9JT3iafo9G1fRHtk/i\n",
       "3tj6rTZF2vDLLO2o6S83Le//a0UX9Z6pivsDbWMLJxIYVyet/QpLSrQQ0yj3Ssz8uiF2nyft/PLE\n",
       "1AvYz9OUwBhdJt13XMzJFqKTXe/IDb7dA08e03RuqgB7lybg9IwmBCNFQSy+wpIlLcQ8qr3XGweA\n",
       "/dMI9//9mKZzUwXYWzQpw+HcmxKY4kRGf4UmLltEeVT6xasbNKn5YzSdmarA3qBJEm6vBL0ExhoV\n",
       "m+RfYUl2Mb6M6uwW1AFNk1s+RdOZqQrsMU2SOX0tN2UwXsTGzVdogi7Gl1HpHQMg+pAmSQyBOZ1t\n",
       "02cy6mZCARhMC4BIcd4AlDNqwme6oilMAR2Y2rBYgD2kiYrBOci2XisqxhEMQ1xiK24Wdy8pHyDG\n",
       "bQQDm7MgbAuxjHKvfIjIyssDmpY5fOt8zmhrvFxAlAkQjNsYOSgG0zgZIgnuckeT5GFOuKGpfjkV\n",
       "2DOahKC7Sq9ZUTGOYBayp22OjpTmIBhx7abtaxBCMbqGv2LrjexScRnlXmMG8LBPk5ojoUQUTOvt\n",
       "wBTj49c0bmoKGdTTwkav9PBrpoem+sVXYM9oAg5qh6Z2RcV4AhN/wahociNVobQhJDwNU1iUUXCB\n",
       "JonkcIywK3jz0tJURrknDk9udkHjYuMzdplugvaKXqJ+TRNygQZk4IZmfRYmslXV0kQacNWUck0r\n",
       "PvACdkKTkjtVjuVGDWlqV1SMJzDGJqq2+XVQ5VmhpYqWkCar7AWahMJVxUXO+gZNWJwsvSjvvWkW\n",
       "1fKQJoSE7hhp0pmU4F40+WhH09wsYGNqWzUhsBOawOv90prIAU3tinqapJtoPp2KAKtnJiwFmGqz\n",
       "a46QCUGiyezQlB5P+SOHmohqpUGPg563qzO+pin5hC5buvBjmqo3kfCXG5qq2w5N9ee3AjsLeu6g\n",
       "zFkco2uauhUV4xmMkCyrHx7XomoEVVVzxZBF5/ZuCWkihIxpSo8zFJG/wo/NdjnckBBxD1Os3qUp\n",
       "7gJz+eJrk/dXNE0zSQcm2HVik5t8+k/6XEK8gJ3RJPSx4BPLmqZmRZ2ECMBIPjtx02k9R1ERFbiY\n",
       "02jwtoYmwhhfxhIiP54e1NPLm2YYq5SEqI5Sz8JGCHJUNyFEzqbkB8Ts04S6gc4Rk8NcNadM0Jgj\n",
       "DOMJHZrq7/wqsPdoiml7dVnUrqgYL2AK2Jg5gLV5g7DXN6ho0T+ireBNEuwOTU0KqpepGG/X5eTS\n",
       "lbdllPsQgo09LG9VqF+oZJBzWS9zKfOeUS38HFbtfNRxoSYxJEcOYmyom+ZGexpjbTbv6KEyqMAi\n",
       "bunmWJ4pa5NvhHCP+iA8AzXoNUng8Oq1XVEtbzMYq/JOyhhwVI56MUqV/S5qgnVBT9NWr4iN+GBB\n",
       "Hf37T9RIdkfpHV8WjTLvwWXR5y5SLptC3DJGqhhFUTlHB4p/jz5Q9i/njCc35FswobIKgdvGe9iw\n",
       "nSE1WZE/Y9Ec3NzQLjeZHQlRHi9ivFwtbOqmk6vXwQaqj169vmsqeUA8fMxMyESSZQJwskiINgnc\n",
       "pmkDZmGgIRZFNJ4CykwkAT9LAhZLshJsNTchxitC3Iim+ngS45knM6qXRfcio1yGiPsvj568yHjb\n",
       "VKYpRg5INOF1x8TI4hul19chyvFXu/YiYze47HyeIOemwYaPzJxeFR68Frx5AyM/RtN1U1uaijfJ\n",
       "1pu8vGprO3EEpn3PfPWd82hnLxxLfJ0OtB1ND16y28+xdMMU4paVJp/jjZwVTshcTrySwJmtzcQh\n",
       "GLvz+SZN9jsvsf7fpoRnIdZxLYUnKBgNXjAE4Qg8hbtXEvh+I9Pf9kPtP8jNRLFD0iK+AAAAAElF\n",
       "TkSuQmCC\n",
       "\" style=\"display:inline;vertical-align:middle;\" /></a><br>(see <a class=\"ProveItLink\" href=\"../../../__pv_it/theorems/6bb6a3b3e7608524f4765a87c8a5e1b18d55f9c90/dependencies.ipynb\">dependencies</a>)<br>"
      ],
      "text/plain": [
       "mod_abs_subtract_cancel: forall_{a, b, c in Real | c != 0} (|((b + a) mod  c) - b|_{mod c} <= |a|)"
      ]
     },
     "execution_count": 2,
     "metadata": {},
     "output_type": "execute_result"
    }
   ],
   "source": [
    "%proving mod_abs_subtract_cancel"
   ]
  },
  {
   "cell_type": "code",
   "execution_count": null,
   "metadata": {},
   "outputs": [],
   "source": []
  }
 ],
 "metadata": {
  "kernelspec": {
   "display_name": "Python 3",
   "language": "python",
   "name": "python3"
  }
 },
 "nbformat": 4,
 "nbformat_minor": 0
}