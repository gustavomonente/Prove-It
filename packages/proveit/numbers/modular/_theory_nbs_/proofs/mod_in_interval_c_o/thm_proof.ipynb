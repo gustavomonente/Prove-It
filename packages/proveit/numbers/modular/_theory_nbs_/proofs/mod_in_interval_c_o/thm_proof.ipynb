{
 "cells": [
  {
   "cell_type": "markdown",
   "metadata": {},
   "source": [
    "Proof of <a class=\"ProveItLink\" href=\"../../../../../_theory_nbs_/theory.ipynb\">proveit</a>.<a class=\"ProveItLink\" href=\"../../../../_theory_nbs_/theory.ipynb\">numbers</a>.<a class=\"ProveItLink\" href=\"../../theory.ipynb\">modular</a>.<a class=\"ProveItLink\" href=\"../../theorems.ipynb#mod_in_interval_c_o\">mod_in_interval_c_o</a> theorem\n",
    "========"
   ]
  },
  {
   "cell_type": "code",
   "execution_count": 1,
   "metadata": {},
   "outputs": [],
   "source": [
    "import proveit\n",
    "theory = proveit.Theory() # the theorem's theory"
   ]
  },
  {
   "cell_type": "code",
   "execution_count": 2,
   "metadata": {},
   "outputs": [
    {
     "data": {
      "text/html": [
       "Under these <a href=\"presumptions.txt\">presumptions</a>, we begin our proof of<br><strong id=\"mod_in_interval_c_o\">mod_in_interval_c_o:</strong> <a class=\"ProveItLink\" href=\"../../../__pv_it/theorems/115b4507a6051b9405d979bc986dca8a961277c90/expr.ipynb\"><img src=\"data:image/png;base64,iVBORw0KGgoAAAANSUhEUgAAASgAAAAXCAMAAACPgiLnAAAAOVBMVEX///8oKCgUFBQNDQ0QEBCI\n",
       "iIhmZma6urrMzMxUVFQiIiJERETc3Nzu7u6qqqp2dnaYmJgyMjIAAAArQGDrAAAAAXRSTlMAQObY\n",
       "ZgAABFpJREFUWMPtWIuSpSgMdXcM8n79/8dOCERB8T6me+7U1C5V3dErHskhOQSW5f9WmnSPbv9c\n",
       "s3G0bzYnt4kn3j59EVKS0wdhu94yXrVpfxjjx3hyZrTvNp/y1oGtul6pp0w1PgLEIK8PDqTaj/HI\n",
       "Bs990+fCLdnRvh+RuY+AJBpl6TWiEvrstJ0wyEj1lvHIWp5Uaz7GUxSj/YU2EJV5sgO8QlRc6TJN\n",
       "iGKkPfI6XA6kI7R+e+PJ1PZbiNoy54JbTzNiNLZ04sMoSt/sLkTtSI0oxiMbgyvN6s8puR7tV4kK\n",
       "B07qA00acLOIyqqS4i9E7Uis7am32ZSmw8eIAjHaxYogYN2dkmkVEkDBsgGYqhYBgGc54LXsiUoK\n",
       "QFSvQ5fMbiK6BcNlUYmCq3gxEhPFeGQV6b+5psGWnorjst13p2FCgMsMmDjabcVvp9znpoEi2LA1\n",
       "QZGUpOVHzAJypF/1MjLiMo0/dkOYrYGFAJtpRPJK1IHERDEe2U3cLRjhJLZeg1Ei9R8wt92FpLzG\n",
       "t9RZovxg3VoIEz2SIW3IhvzBcevmGkKadF71qthUt72eD20kSlS0cCmcdiQmivGqLf9gVkQlzmLn\n",
       "gxDYAxYEDw7mo0l90luiR1Nun1Jg3QYr6Lke6Cc2yBOL7MgmJ/iDq+65jiiR6IfG5aFQa+L2auod\n",
       "SEwU41UbYiXrqpiWFw9vXfGGiIouzonKfawbRx8tYbX6h0StZu+5v0yw5EkhyjdaMMRawvREUe3T\n",
       "pLkjyt5FVBNzfxXzA2lOlE2LbOnhBKi9yMdBgXItN6v8VqLClCjuXnWnTXDhTsdHqVdjweflnqg9\n",
       "ogT2vhCV4x6Wy9ZN+HpHVEWP1/LgQGKiGK9ZY1VbUXQZFQOAdrQyHaFLRAkhpkS17ooW0R/4FxuW\n",
       "hkdi7ogFlfqt2omoZW2qgqNM5qxR5bLq3CjmAt4tOA+kqZjjdIpGXKFA7pNSVhns4URHlFBKb3Mx\n",
       "b91rR78cEbXCfI1olt7TagnTiCIFl2uJ8kSaRQkrOoFR6JlpkCJMIvdSBZQHrkDiMtc/OJCYKMZj\n",
       "y58tagKq1xKhkDmKkeIPRpSFeENU6z5sekl58nYqKcZ4dli8SKtg7yVVzkp6k1dkL+Wy5GGlFUSL\n",
       "ehEi1lHrPkyUi8DJPZwNOGXOhwxhr8pqUaR1X4ofSHvBKUcbXfPLloRw7eWSN4U6NaSel8FNiWrd\n",
       "FS4z//5TFpt4s+p9xxbm5lTitCZtwUy2MEPF4+6PWQ68M+6ClR8KQSxLBgIg27EQcZxItPJgLubc\n",
       "nUsDLr4vddR3bIpv9rwvbYqHH5ZHRA2b4mEGFHgoBZMskSRVqDjGc9kVUCecEGm66nH3Who0pkKY\n",
       "sMHbAPO9IfXqMUv3BjwiajhmuT0bG3ZnTaMmLs9efbpt/OrB3U0z9l2i4qMTzpfm07841zNPn+8Q\n",
       "v3oUfHPM9cJRsL45CgZ5vWW8h7ivOjAhKn7uYOsvauK/4uhPdLs3PZ2cUp0AAAAASUVORK5CYII=\n",
       "\" style=\"display:inline;vertical-align:middle;\" /></a><br>(see <a class=\"ProveItLink\" href=\"../../../__pv_it/theorems/2a8cc8939b1e016cbaa44863e34ffb298f4d0df50/dependencies.ipynb\">dependencies</a>)<br>"
      ],
      "text/plain": [
       "mod_in_interval_c_o: forall_{a, b in Real | b != 0} ((a mod  b) in [0,|b|))"
      ]
     },
     "execution_count": 2,
     "metadata": {},
     "output_type": "execute_result"
    }
   ],
   "source": [
    "%proving mod_in_interval_c_o"
   ]
  },
  {
   "cell_type": "code",
   "execution_count": null,
   "metadata": {},
   "outputs": [],
   "source": []
  }
 ],
 "metadata": {
  "kernelspec": {
   "display_name": "Python 3",
   "language": "python",
   "name": "python3"
  }
 },
 "nbformat": 4,
 "nbformat_minor": 0
}