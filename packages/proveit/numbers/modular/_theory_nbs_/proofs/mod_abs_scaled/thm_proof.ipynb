{
 "cells": [
  {
   "cell_type": "markdown",
   "metadata": {},
   "source": [
    "Proof of <a class=\"ProveItLink\" href=\"../../../../../_theory_nbs_/theory.ipynb\">proveit</a>.<a class=\"ProveItLink\" href=\"../../../../_theory_nbs_/theory.ipynb\">numbers</a>.<a class=\"ProveItLink\" href=\"../../theory.ipynb\">modular</a>.<a class=\"ProveItLink\" href=\"../../theorems.ipynb#mod_abs_scaled\">mod_abs_scaled</a> theorem\n",
    "========"
   ]
  },
  {
   "cell_type": "code",
   "execution_count": 1,
   "metadata": {},
   "outputs": [],
   "source": [
    "import proveit\n",
    "theory = proveit.Theory() # the theorem's theory"
   ]
  },
  {
   "cell_type": "code",
   "execution_count": 2,
   "metadata": {},
   "outputs": [
    {
     "data": {
      "text/html": [
       "Under these <a href=\"presumptions.txt\">presumptions</a>, we begin our proof of<br><strong id=\"mod_abs_scaled\">mod_abs_scaled:</strong> <a class=\"ProveItLink\" href=\"../../../__pv_it/theorems/ea386cd8745a039ea03f3822b7cb4c02a727ee7c0/expr.ipynb\"><img src=\"data:image/png;base64,iVBORw0KGgoAAAANSUhEUgAAAUkAAAAXBAMAAAB0V6CoAAAAMFBMVEX///8QEBCIiIhmZma6urrM\n",
       "zMxUVFQiIiJERETc3Nzu7u6qqqp2dnaYmJgyMjIAAAAcRTyBAAAAAXRSTlMAQObYZgAABEpJREFU\n",
       "SMfVl11oHFUUx/+Z3dndmcxu9kVqWgrr1kTRqEvyohDriqBP4sYHi0XIslVBqSVKLfjxEKoPW4p0\n",
       "a0GDoJkSsDWgO+hDCAhdTJ7SVLZRMBYq0ViQFupSq9isiufcO7OZzM7OjvrkhTP33tk5c35z7jnn\n",
       "3gX+S1NN2e8NrbE35L1/3d63xdWMvOwX/TV6K223/J5cDLY7T7LGg4shIPVJKR7K09sC7DzXjShQ\n",
       "224x+tazPLgcgjJVkeL15XqAnU+6+m29O6VOjpyiXpsMQfmVLV7KZoAdI9ONstmdEl+QeygBDCsE\n",
       "5Su2eCijGwF29HQXykBtp50Ekkuzs++GgNQmpHgpjYkgOz92oQzWdmKNVuz3cvn1EJRKTgpOLNxi\n",
       "uihTpV1WZzsLPpTa6PD2FkCgtmOFzD4DHGktwNWOjybqUqL9+Nnty+pl/UZnO9+Jp66KlrMpH6yk\n",
       "Gs7vwdp2S1L6PCSSyPfb527f94MzjltSTtZxL89Nm/KMiWud7cy1+1LfiQhnq87TYG2n7FJYxKHU\n",
       "WzeubAb+5yN1xcCSk6U9eSkPmHiJf/7LptwN/Q+vHf09ZzTeThnZQJxfWmXf+GnjI9Ozw5HrjXp8\n",
       "88aN1mh1fhZEeaHuobwZ+q88P2RTriPa9NpRmgGUPZOoFnhxiqJctmvjHqudUlt7gkYzg5d4fm2Q\n",
       "v8PIZqIcRUxZ27ri9Om9DXdc/snO8dppLckjrrgsSspqDWdaD/pqpzyUUS4ER56mNXpZ5cqlvCrS\n",
       "+KCaTkFSjuS2Zo/eRGxt3kV5nSPVa+foluzZ6suqhQOtDd5XO2G1Zw8+I9RITmXgRIbvUHAXZgRl\n",
       "5NmD7nLAchjfFGsuyhfwBjpTjrZTko1DhjP11fZSRtheH8Vyj6UURfBFijwB9pTL5YxivP212+0s\n",
       "H2afLOVdlDND5ORF7fvHBz9ezUPJLgFDK1dk2ACXfHK8NPDOrc5UauODm7LPX3wTyA6ZUM7dTfb1\n",
       "4QMFsTtmKQJ4lKRQrFYSF6jrM5mwj9YjJle89ymzyw5p2562UpNUMY7iFH/6Dhk20CfCndy0Jn6i\n",
       "qpWwSGFUeOlUYZwtx/NjNHYe7KmMP4opM26u0pV2pJxRkHG5VOt22rCjzYzV1DRlYyJTNTl7OGxC\n",
       "nDZs/25gP8a4IhymIWfPCPZAz1FpVsVpw17P0qf3Y8xS99foqg2vmCK05r6szexuRUtFSgdKxDJq\n",
       "OplGLPeYyHF2SIiTm03ZQIkozwP7og1BuQODUPvForg2HdEs11WhuAxzCt5CKXw5LXzJYbO59Yaj\n",
       "ZF9qwpe0b741a9dvj2tkffD5G9DxH4VSkP0AppmyQStw3IxltJ3iIJNLtr9qwOfFA9CYcpziUttO\n",
       "g+OUUf3q9bo4U0Xwracuua7/sOnHiudfm/oFxvJ9wPLKixZE2IRtp39Lbps/lsPyQgXGudtonR++\n",
       "cxdTnrjrDvxv2t/h12R0cp8Q2gAAAABJRU5ErkJggg==\n",
       "\" style=\"display:inline;vertical-align:middle;\" /></a><br>(see <a class=\"ProveItLink\" href=\"../../../__pv_it/theorems/15bcac647128ea4f938d4d1bcdfd8a7e6f651a500/dependencies.ipynb\">dependencies</a>)<br>"
      ],
      "text/plain": [
       "mod_abs_scaled: forall_{a, b, c in Real} ((a * |b|_{mod c}) = |a * b|_{mod a * c})"
      ]
     },
     "execution_count": 2,
     "metadata": {},
     "output_type": "execute_result"
    }
   ],
   "source": [
    "%proving mod_abs_scaled"
   ]
  },
  {
   "cell_type": "code",
   "execution_count": null,
   "metadata": {},
   "outputs": [],
   "source": []
  }
 ],
 "metadata": {
  "kernelspec": {
   "display_name": "Python 3",
   "language": "python",
   "name": "python3"
  }
 },
 "nbformat": 4,
 "nbformat_minor": 0
}