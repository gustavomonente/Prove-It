{
 "cells": [
  {
   "cell_type": "markdown",
   "metadata": {},
   "source": [
    "Proof of <a class=\"ProveItLink\" href=\"../../../../../_theory_nbs_/theory.ipynb\">proveit</a>.<a class=\"ProveItLink\" href=\"../../../../_theory_nbs_/theory.ipynb\">numbers</a>.<a class=\"ProveItLink\" href=\"../../theory.ipynb\">modular</a>.<a class=\"ProveItLink\" href=\"../../theorems.ipynb#mod_int_closure\">mod_int_closure</a> theorem\n",
    "========"
   ]
  },
  {
   "cell_type": "code",
   "execution_count": 1,
   "metadata": {},
   "outputs": [],
   "source": [
    "import proveit\n",
    "theory = proveit.Theory() # the theorem's theory"
   ]
  },
  {
   "cell_type": "code",
   "execution_count": 2,
   "metadata": {},
   "outputs": [
    {
     "data": {
      "text/html": [
       "Under these <a href=\"presumptions.txt\">presumptions</a>, we begin our proof of<br><strong id=\"mod_int_closure\">mod_int_closure:</strong> <a class=\"ProveItLink\" href=\"../../../__pv_it/theorems/fabdfe6ab8d43d90cff33951c1028ccd91b86c5b0/expr.ipynb\"><img src=\"data:image/png;base64,iVBORw0KGgoAAAANSUhEUgAAAP8AAAAWCAMAAAA4nbqyAAAAOVBMVEX///8oKCgUFBQNDQ0QEBCI\n",
       "iIhmZma6urrMzMxUVFQiIiJERETc3Nzu7u6qqqp2dnaYmJgyMjIAAAArQGDrAAAAAXRSTlMAQObY\n",
       "ZgAAA89JREFUWMPVWIl22zgM5G553+T/f+wCPCRQpuymcb0tXxI69Iji4BhAYuz/GD6v81dH0Co8\n",
       "rkb/pU06vBz/5/wp+sGt85dHLFWR3bjtn8wLAyjLKy+F28LzhKc4vy3hU/yLX+dfCCDCH/aRwxLl\n",
       "+VXCSd1d7g64nz7w7lP0s1znXxkL/zp9mMTTi2Ri3eNJnfDp9jMQfvewfp2/y1/VGbmBXyztLIwj\n",
       "KiTivGFaEnhOAYe3HxM/u87f5p/OjQoNC+3EJqVdwB8Crw6HTZ/iL+Q6My+TFPw4qi5caiGMYEoI\n",
       "1wiFJMSIWfgM/2jKvxghZI/eRFIqbAUtCyL0DW50M8tjMKpSXpJR9/B2d5HE1bAur7PicOtSaYI4\n",
       "gRInYPOMIapbpjjRYxaZJqr/FYiG2s6fyRG21QBKDqk6Da7knXSmq0AZ7pJ0kiy7W3iT2gzko7mk\n",
       "f1zm0GqRpBu5lsYVlzTy6rGpK+7oylX/Y0v/2qwT7f5oJwNN7dLh+Efsin+ZkhhikjJ3xUqBZpXb\n",
       "wVmXGdy6Jdgah1wts2xfW6rcnWNNjagG4n1jXAhtFaaTvyzsWNdnGGmo9GOQGJVMkXjs8JS7DR5F\n",
       "xk8ZjT7gKeEcOi9Nm9vAp8zgqdBlPD7jz90BPK5tuzaPIv84yGJA6O5nyr9Vf9VtRPhv6/ks/eDF\n",
       "E+4L0yNGgxSm6MM6oEJhJMhhbbbks6PG7PBu6OEONInNT+K/Oy5Wds//8L9E+AP/mo8ogg6P2HmT\n",
       "0Efp54zAnTd9NVi82+QgbGgiTaUh+6hv+A+4aeXkB/zmsZcVT/QvNHKm0O79wp9x2Y2Jhyzumv/4\n",
       "sYvIqn/yoRmCnOxpySSn8CiH2VDZ9GFCFFxABFpTxOp+yn/Auy0iO/3PxVZVx9wus4buS/g30dO8\n",
       "ta0N4VvayHruaYC6k7TDuwTaQ+kPJrsFPnfDTBWGJqqEbsk2j7byk1ri+LDjP+DLA05L66VXPWN0\n",
       "zAGqt/ZGHCBtajU6usrBKKWi+EOHkOSs/zJlqP/8OCbkbJoZVmhwBuOWx0TFXeFABB6Chr0mPIdx\n",
       "XI9hGcZFGLxokbN+qajxTsnv+A+4AcH99x+U3bzX/7f0vzcPlhcZV8nR/vcVnEEnAlmWUTzhzJDP\n",
       "LU6SPsVPXkSG8J/wWftmj3et/295/tmPF88/L+HKiCiw0Gv0uzap54cbiZSNgaVizV7/J/zsr7H/\n",
       "S48sZ6/p3hwAobwPHtcH55H/j1R2l756lPj2+4+b8UV7PoP/7LukmybjN7//unmv4N8H/9mDbfjn\n",
       "j71I+AOG/MvP/x/KSCw7lOmgGgAAAABJRU5ErkJggg==\n",
       "\" style=\"display:inline;vertical-align:middle;\" /></a><br>(see <a class=\"ProveItLink\" href=\"../../../__pv_it/theorems/aa68c1fb42c004e3ba9ccbee3c6e30703be6c63c0/dependencies.ipynb\">dependencies</a>)<br>"
      ],
      "text/plain": [
       "mod_int_closure: forall_{a, b in Integer | b != 0} ((a mod  b) in Integer)"
      ]
     },
     "execution_count": 2,
     "metadata": {},
     "output_type": "execute_result"
    }
   ],
   "source": [
    "%proving mod_int_closure"
   ]
  },
  {
   "cell_type": "code",
   "execution_count": null,
   "metadata": {},
   "outputs": [],
   "source": []
  }
 ],
 "metadata": {
  "kernelspec": {
   "display_name": "Python 3",
   "language": "python",
   "name": "python3"
  }
 },
 "nbformat": 4,
 "nbformat_minor": 0
}