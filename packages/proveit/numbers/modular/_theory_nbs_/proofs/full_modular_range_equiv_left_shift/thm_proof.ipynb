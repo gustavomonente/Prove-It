{
 "cells": [
  {
   "cell_type": "markdown",
   "metadata": {},
   "source": [
    "Proof of <a class=\"ProveItLink\" href=\"../../../../../_theory_nbs_/theory.ipynb\">proveit</a>.<a class=\"ProveItLink\" href=\"../../../../_theory_nbs_/theory.ipynb\">numbers</a>.<a class=\"ProveItLink\" href=\"../../theory.ipynb\">modular</a>.<a class=\"ProveItLink\" href=\"../../theorems.ipynb#full_modular_range_equiv_left_shift\">full_modular_range_equiv_left_shift</a> theorem\n",
    "========"
   ]
  },
  {
   "cell_type": "code",
   "execution_count": 1,
   "metadata": {},
   "outputs": [],
   "source": [
    "import proveit\n",
    "theory = proveit.Theory() # the theorem's theory"
   ]
  },
  {
   "cell_type": "code",
   "execution_count": 2,
   "metadata": {},
   "outputs": [
    {
     "data": {
      "text/html": [
       "Under these <a href=\"presumptions.txt\">presumptions</a>, we begin our proof of<br><strong id=\"full_modular_range_equiv_left_shift\">full_modular_range_equiv_left_shift:</strong> <a class=\"ProveItLink\" href=\"../../../__pv_it/theorems/321df7fa5a3d8e6f4495155813513a276456abfc0/expr.ipynb\"><img src=\"data:image/png;base64,iVBORw0KGgoAAAANSUhEUgAAAo0AAAAmCAMAAACWN1F7AAAAOVBMVEX///8oKCgUFBQNDQ0QEBCI\n",
       "iIhmZma6urrMzMxUVFQiIiJERETc3Nzu7u6qqqp2dnaYmJgyMjIAAAArQGDrAAAAAXRSTlMAQObY\n",
       "ZgAACEZJREFUeNrtXOl6wyoOzcxlxxjM+z/ssC9GtknuJGm/mh9t4hgQ4iAdCezH4y61GHPr4AtF\n",
       "8VsHY8HbrYOvFHorftQJUrcSvmQHbuu49xeI3Ur4VtlujtQXfq/P75Xl9ktdYXa5lXDbgp/iK251\n",
       "fNcY3MaxcRW3afyyNcC3DkohXZLBkB/FqhnBn7UcHxl/PyqDbhCWgpqlqTZdTObTs7K+YGMVoxdo\n",
       "o58M+Jvxv7e0o1osdQaygvMvB9mLbWbb2DIv8gU+/jwc181PRVOwtPHKKiziarDdb7aMefwaGz25\n",
       "CkaJn/VIyC0BvRbH/ZdpZAWgnwRRdPKKodteWQx0d0Va2U1Llen9Jfe1OWwoMauCvcQni6+kc9pR\n",
       "cae3Ja/+Rf5hMD6IgNBoyKFCTzi3foGP79FIV5nCKv34Fhojk9OTi2uQ+Gixcs0thEZsGyRXI/kX\n",
       "i5AQGo/twhkaFfr3aNSKWhIn+WtolCHntU6mXgaJzxwRhMbVg9lo5csi/jIYH5YAaDzRyRkaHxv9\n",
       "12h04ggbJ/lraLQBjdTOmalB4mfRyEJHVvoi9N9GIwbQiEl1vhizEzQqjPlCcfLRunfwbEOEuRvw\n",
       "g2IsA+yUa1BHACrtPjMAjcaa+CG2iT6NRpVMncWzaOwlnkJjMyoVavOgZvmB5O9VF+zFeue1pyIP\n",
       "2yYUeKJK0mQb6Vat3I7RqNxSNgI/RLzHbAMPwD5SwTSRMRYogL/o3Lq3CHqHxuDtrGhIWBdm/Z9A\n",
       "tzWFDONfrI4mawqNo8QzaOxGFTqipAkEHRX1U0AFghql23PxYq9ifdXCCns4fSUYk0Nt+PagBGfB\n",
       "9BjTmjbkS8AWyUcFv8HXYzR656SdimlcN+veq8pgAkLMGbbDRZpnlkG+j6mDt/MQpeX6Rj5lGtP4\n",
       "l2gbmZ3ymoDEE2jsRhU78rrDeTaMDKrEsKXRZyrhSGoiSXOLHPNwpy0QyAqm/N2hYIykgLirDd1O\n",
       "/Bfjxrzu96RZJUdMltgFRcWSjsdHiyJQ+McryqVsWtujcSva9onN3Ju7oOIUqB0aSYSDbA0NFx/Z\n",
       "Oyvjf85TQxI7G9cUBqGxHVXsT5uIyKjsuEwPMLNBjFatmvidJD8KrdrdnhaNTB+3UKN/QDv6UjAq\n",
       "xtrA7Uv4XfjL+ziRtVS97BAkNCI5E8U0kzaiUZY7PBrXhD03d8kP7tGoUwZvqfJ/7lRHHr9NMfVU\n",
       "FANIPGUb+T6SXLYH47XVoLqDNqGjBUaui/LNO6mZ6bbS2mnk7LCFBu3jr6nemWBUjLWB26UK8+7b\n",
       "Q+uJp35w2XpqBbmqAY2s2cyh4hyNxTYS1ziExpQkoZboxxxvZPpsJy3xI4bXQ97Ix/FHqc1UhgeQ\n",
       "+FnemPUsF05LcOhaXPy/fIFgXoysW8m47vr4QDPRzmqvO2FaNAqghaEPPOpUHAgGoLGpDdxOE1nz\n",
       "kBVmH8VAMXWKYhJST3jjqmLuNvmFIYrZofGBEiPzO7MS4I05SSLq5fOY+uqwauZHfI4DPp/9BiR+\n",
       "NqbOFmGtOxGr05UgNSJQgjVHz7BQNe3hXB5D7Ua362ZZ2QEaU+6ua2HsIxA6LnMxNee3FwxCY0MH\n",
       "u9tjg/+EBmNHAwXr7F9GY5pDwsOKOc7w+JSctPWIxWAfGjQGG8qCLwxnE5ZAB0hPzsRoOqB8Y6ZI\n",
       "fqP7fP4zP1q3J9AYfEN5PkPZ7bH7VC9BEh8XfJJv7DiPjtAt6vQxCStVfE4iL3wSIkQ3S23WbRfe\n",
       "N2ikcmgB6IMOFC1f2QsGobGpPd6evFS0jWiPRsSB2cjtam0MPvHUimOsMCnHTrY+0mLcWs5clO86\n",
       "0Zv1AfVCtCYp30i0wcxWAZRENttufobGQpGuUZb50XNo9FlRXsYi+PApfYAlPox3OLJbOrHWjopm\n",
       "s2pUFxqhar08waoPdPl1THj9JaTOohnDAQLeYC8KRCNvW6DF/KmuDzZoK9XrBeuqV9Q0tffjKKdx\n",
       "Im8cDylswGy8ujP4jm2TIpPGhAWMtBQpo6zjVa3ZSfzoOTR+Ks8+RtptaKRLkk75RSVNWoEhFM0B\n",
       "QF5uvGGyzIRoFkJjzAl2LQB9BOzxQq1NqbcXDLaNHB6Hb/C//0kNgjF1T8vKl+NTE+qEp2n8xnlz\n",
       "1JRvYRAtsBLKel7V+IXMjybRiL6BxrFXmqJI/28JdmvxZNukb25QRqbPW0qg1ANwJFikNqCUg8FI\n",
       "LfReMvcRk4GgoWkFGw1V6tLXDrKNty8FqH5Whnxjfzagkh/5oRNlE/m81CrLT3uqbvdEA7yqmYfM\n",
       "jxSaGdAb9n0uRgWmsAgKliPmkZm3YZTjFXsnH74xrnX+ZSHYhBhSpik3nLufN8EPYmoVOZTWozNO\n",
       "fbiOxyAl1OsE28eTRFiOc+0g23i7rGDDGsjA91uD5ezzK6dt37LHShHdkcCGIjFJIF7VrPfCsNjU\n",
       "eYTPnf2mBzMA2ZzDb90vOPPGcWIeQxRxoQYgAJs/6bYBUid5L9Uru0lc83Mhzz+JYN4Axu4JEp9b\n",
       "Z7t4gWuAVzVBTOZHc7axGf87S/9czHrxmFz/hEf7bfbZD3n45aBHc9XIdW1Qtmvn+UseElpsSAB6\n",
       "8LXPCCQ+2POq+qfwo/XnvvDm6lELc/htduF0QKKXtRQYNNDJ3lJt6G5zbV+V/RWnjRU3VOOYa5br\n",
       "Ho0Nr1q6P5kf/WA0orfrn5zYWigrqiZs9LO1Z8svfEFZpUizKPu5aMT3A6z94vzFL4X6/WhE92uh\n",
       "enf+i18iOBud8J96wv9+debAcn/xuzcWPGFb2I99Em9B93tn9gZG3C9w/Jbm11sJwwoV9wr9jle6\n",
       "SSMEx9s4fsU05h2Z/wHzUmQMyyxCYAAAAABJRU5ErkJggg==\n",
       "\" style=\"display:inline;vertical-align:middle;\" /></a><br>(see <a class=\"ProveItLink\" href=\"../../../__pv_it/theorems/2a29fae13aa831f9b94fa797531c6e282b080dca0/dependencies.ipynb\">dependencies</a>)<br>"
      ],
      "text/plain": [
       "full_modular_range_equiv_left_shift: forall_{N, a, b, c in Integer | (b - a) = (N - 1), N != 0} ({(c + x) mod  N}_{x in {a...b}} = {0...N - 1})"
      ]
     },
     "execution_count": 2,
     "metadata": {},
     "output_type": "execute_result"
    }
   ],
   "source": [
    "%proving full_modular_range_equiv_left_shift"
   ]
  },
  {
   "cell_type": "code",
   "execution_count": null,
   "metadata": {},
   "outputs": [],
   "source": []
  }
 ],
 "metadata": {
  "kernelspec": {
   "display_name": "Python 3",
   "language": "python",
   "name": "python3"
  }
 },
 "nbformat": 4,
 "nbformat_minor": 0
}