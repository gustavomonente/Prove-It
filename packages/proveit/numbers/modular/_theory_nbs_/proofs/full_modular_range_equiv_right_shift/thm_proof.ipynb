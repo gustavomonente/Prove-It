{
 "cells": [
  {
   "cell_type": "markdown",
   "metadata": {},
   "source": [
    "Proof of <a class=\"ProveItLink\" href=\"../../../../../_theory_nbs_/theory.ipynb\">proveit</a>.<a class=\"ProveItLink\" href=\"../../../../_theory_nbs_/theory.ipynb\">numbers</a>.<a class=\"ProveItLink\" href=\"../../theory.ipynb\">modular</a>.<a class=\"ProveItLink\" href=\"../../theorems.ipynb#full_modular_range_equiv_right_shift\">full_modular_range_equiv_right_shift</a> theorem\n",
    "========"
   ]
  },
  {
   "cell_type": "code",
   "execution_count": 1,
   "metadata": {},
   "outputs": [],
   "source": [
    "import proveit\n",
    "theory = proveit.Theory() # the theorem's theory"
   ]
  },
  {
   "cell_type": "code",
   "execution_count": 2,
   "metadata": {},
   "outputs": [
    {
     "data": {
      "text/html": [
       "Under these <a href=\"presumptions.txt\">presumptions</a>, we begin our proof of<br><strong id=\"full_modular_range_equiv_right_shift\">full_modular_range_equiv_right_shift:</strong> <a class=\"ProveItLink\" href=\"../../../__pv_it/theorems/e3c7e733e6459ee2fca2e4695e3ccf50a3dc61310/expr.ipynb\"><img src=\"data:image/png;base64,iVBORw0KGgoAAAANSUhEUgAAAo0AAAAmCAMAAACWN1F7AAAAOVBMVEX///8oKCgUFBQNDQ0QEBCI\n",
       "iIhmZma6urrMzMxUVFQiIiJERETc3Nzu7u6qqqp2dnaYmJgyMjIAAAArQGDrAAAAAXRSTlMAQObY\n",
       "ZgAACEhJREFUeNrtXOmarCgMdebKDoK8/8MOuyBRqbpTS38tP7qrLIEQDslJQKfpLlsx5tbBB4pi\n",
       "tw76gtZbBx8p5FZ8r5NZ3Ur4kB24rePeX8z0VsKnynpzpLawe31+rsjbLzWFWnkr4bYF3+IrbnV8\n",
       "1hjcxrFyFbdp/LA1QLcOSsFNksHgr2LVFKP3Wo63jL8dlZlvEJYyV0tTrbqYzIdnZXnCxipKLtBG\n",
       "3hnwV+N/balHJS1xBnID528OsqWtZtvYMi/iCT7+OByX1U9FVZCw8crC7cxUZ7tfbBnz+DUyenAV\n",
       "9BI/6pFmtwT0Uhz3b6aRGwD9JPCik2cM3frMYiC7K8KKZlo2mV5fcl+rw4bioyrYS3yy+Eo6px4V\n",
       "c3qTefVL8YvBOGEOodHgM50e0W79BB/fo5EsIoVVevoUGiOT04OLq5P4aLEyzSyERmQrJG9G8jcW\n",
       "LiA0ntqFQzSq+e/RqBWxOE7yx9AoQs5rGUy9dBKfOSIIjYsHs9HKF8l/MxgniwE0nuvkEI3TSv4a\n",
       "jU4cbuMkfwyNNqCR2DEz1Un8KBpp6MgKX7j+3WhEABpRgqhCiEmCdh64Q6NGCAXOr1sHT9cZU9cE\n",
       "mghCIsBOuXt1BKDS7jMF0GisiR9i4/O70aiSqbNoFI2txENorEalQm0WNCjekPy96oI+We+89lDk\n",
       "YeuEAktUSZiEF6dAjia+nqFRcre0RbjFrB0PQD5SQSSRMRoogL/o3Lq3CHqHxuDtLK9IWBNm/U+g\n",
       "W6uCu/FLq6PJGkJjL/EIGptRhY4IrgJBR0X9FBA+Q42S9bF4sVWxvmphgT2cvhKMiq42fHtQgrNx\n",
       "uo9pTR3yJWDzZcquRzsFEnmGxuBc2BKTHPtwM5iAEHOG7XCe5plm/O5j6uDtPERJub7id5nGNH4Z\n",
       "bSO1Q14TkHgAjc2oYkdedyjPhhFBlQi2NPpMJWwWGgtc3SL6PNxpCxiygil/dygYxSkgbmpDt2P/\n",
       "xbgxL/s9abqRIypK7DKTgmEhOqPC5/AvNYUrsk/3dixCLmjbJzZzb+6CilOgdmjEEQ6iNjSMv2Xv\n",
       "rIz/MU8NSexsXFUohMZ6VLE/bSIio6bjMj3AzAoxWrVo7HeS/Ci0qnd76imk+riFLfoHtKMvBSO8\n",
       "rw3cLsPv3F/ex4m0puplh2AmMK+EbOMsphM0itKGR+OSsOfmLvnBPRp1yuDJTf73nerI47cpph6K\n",
       "YgCJh2wj20eScp0o21oNqjtoEzpaYMQilW/eSU1Ns5VWo5HRwxYqtPe/pnpnghHe1wZuFyrMu29v\n",
       "Xk489cRE46mzUz1Do6r9GeHnaCy2Ebt6EBpTkoRYrKcx3kj12U5a4kcULYe8kfXjj1KboQwPIPGj\n",
       "vDGrUEiWlaFc4OcAo4qmFUasGFm3ktG26+NjyEQ7N3vdCFOjkQMtdH2gXqf8QDAAjVVt4HaSyJqH\n",
       "LDf7KAaKqVMUs6iYmd2dXGhtY4LzAkYxOzROc2JkfmdWALwxJ0n4dvk8pr46rJr5ERvjgI9nvwGJ\n",
       "H42ps0VYtp2IxemK4y0iUJxWR88QVyXt4V0eneuNbteNXOgBGlPurmmh7yMQOiZyMVvOby8YhMaK\n",
       "Dja3xwb/hAZjRx0Fa6h6RqPGOeEmbH+AokUjZmFZheF39qFCY7CyNPjCcDZBBjqAWybAe9MB5Rsz\n",
       "RfIb3efzn/nRsj6AxuAbyvMZyq7T7tN2CZL4uKCTfGPDinSEblGnj0loqeJzEnnh4xAhugmYaoPU\n",
       "zkOFRiK6FoA+SLc9ma/sBYPQWNXub09eKtrGeY/GmQGzEdtVDCGFcHeoZBdTa21MurK2bp0yaxl1\n",
       "Ub7rRK/WB9QSa41TjIS1QdRuAigx22y72RkaC0W6RlnmR4+h0WdFWRkLZ92n9AGW+DDeYbNd04m1\n",
       "elQkm1WjmtBo3qyXJ1jbA11+HWO2/RJSZ9GMoQABb7ClAtHI6hZIMX+q6YN22iIMEKypvqGxqr0f\n",
       "RzmNE3ljf0hhBWbj2Z3BV2ybFJk0wjRgpKZIGWUNr6rNTuJHj6HxXXn2PtKuQyNdknTKLyph0goM\n",
       "oWgOAPJyYxWTpSZEsxAaY06waQHoI2CPFWptSr29YLBtZPA4fIP//pMaBGPqlpaVL6enJtQRVdPo\n",
       "hfPmyCtbwyBqYCWUtbyq8guZHw2icf4EGvteY2ikggeXwW5JT7ZN+uYGZUT6vKYEynYADgeLVAeU\n",
       "ojMYqYXWS+Y+YjIQNDS1YL2VSl362kG2/nZZgOpnpcs3tmcDNvIj3nSibCCfl1ql+WlP1eyeaIBX\n",
       "VfOQ+ZGaRwb0gn2fi1GBKSw8B8sR88jU2zDC0IK8kw/fKNM6/yIxMiHKFGnKDWPu55Wzg5haRQ6l\n",
       "de+MUx+u4z5ICfUawfbxJOaWoVw7yNbfLjawIQ1k4NutwXL2+ZnTti/ZYyV17lPuKBIVGOJV1Xov\n",
       "DIsOnUd439lvcjADkM05/Nb8gjJv7Cdm6qKICzUAAdj4SbcVkDrJe6le0Uzikp8LefxJBPMCMDZP\n",
       "kPjcOt3FC0wDvKoKYjI/GrON1fhfWdrnYpaLx+TaJzzqb6PPfojDLwc9mqtGrmuDsl07zx/ykJC0\n",
       "IQHowVc/I5D4YMurtj+FHy3f+8Kbq0ctzOG30YXTAIlc1lJg0EAGe0u1obvNtX1V9kecNlbMEI1i\n",
       "rlksezRWvEo2fzI/+mI0zi/XPz6xtVBWVA3Y6Edrj5Yf+IKyjSKNoux70YjuB1jbxfmDXwr189E4\n",
       "36+Fat35D36J4Gh0wr71hP/96syO5f7gd29INGBb6Nc+iSfn+70zewPD7xc4fkrzy62EboXye4V+\n",
       "xivdpBGC420cP2Ia847MfwL8ZAw3XTmwAAAAAElFTkSuQmCC\n",
       "\" style=\"display:inline;vertical-align:middle;\" /></a><br>(see <a class=\"ProveItLink\" href=\"../../../__pv_it/theorems/09dad484dea940beac6ae448c380b258044a90eb0/dependencies.ipynb\">dependencies</a>)<br>"
      ],
      "text/plain": [
       "full_modular_range_equiv_right_shift: forall_{N, a, b, c in Integer | (b - a) = (N - 1), N != 0} ({(x + c) mod  N}_{x in {a...b}} = {0...N - 1})"
      ]
     },
     "execution_count": 2,
     "metadata": {},
     "output_type": "execute_result"
    }
   ],
   "source": [
    "%proving full_modular_range_equiv_right_shift"
   ]
  },
  {
   "cell_type": "code",
   "execution_count": null,
   "metadata": {},
   "outputs": [],
   "source": []
  }
 ],
 "metadata": {
  "kernelspec": {
   "display_name": "Python 3",
   "language": "python",
   "name": "python3"
  }
 },
 "nbformat": 4,
 "nbformat_minor": 0
}