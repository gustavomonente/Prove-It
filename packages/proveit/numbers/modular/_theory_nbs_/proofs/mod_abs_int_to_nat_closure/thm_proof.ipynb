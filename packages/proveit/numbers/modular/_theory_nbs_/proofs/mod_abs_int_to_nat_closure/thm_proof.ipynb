{
 "cells": [
  {
   "cell_type": "markdown",
   "metadata": {},
   "source": [
    "Proof of <a class=\"ProveItLink\" href=\"../../../../../_theory_nbs_/theory.ipynb\">proveit</a>.<a class=\"ProveItLink\" href=\"../../../../_theory_nbs_/theory.ipynb\">numbers</a>.<a class=\"ProveItLink\" href=\"../../theory.ipynb\">modular</a>.<a class=\"ProveItLink\" href=\"../../theorems.ipynb#mod_abs_int_to_nat_closure\">mod_abs_int_to_nat_closure</a> theorem\n",
    "========"
   ]
  },
  {
   "cell_type": "code",
   "execution_count": 1,
   "metadata": {},
   "outputs": [],
   "source": [
    "import proveit\n",
    "theory = proveit.Theory() # the theorem's theory"
   ]
  },
  {
   "cell_type": "code",
   "execution_count": 2,
   "metadata": {},
   "outputs": [
    {
     "data": {
      "text/html": [
       "Under these <a href=\"presumptions.txt\">presumptions</a>, we begin our proof of<br><strong id=\"mod_abs_int_to_nat_closure\">mod_abs_int_to_nat_closure:</strong> <a class=\"ProveItLink\" href=\"../../../__pv_it/theorems/0107ddef3ec36645811ea1be1337f8dfece1172d0/expr.ipynb\"><img src=\"data:image/png;base64,iVBORw0KGgoAAAANSUhEUgAAAOgAAAAXCAMAAAA2s/OGAAAAOVBMVEX///8oKCgUFBQNDQ0QEBCI\n",
       "iIhmZma6urrMzMxUVFQiIiJERETc3Nzu7u6qqqp2dnaYmJgyMjIAAAArQGDrAAAAAXRSTlMAQObY\n",
       "ZgAAA3dJREFUWMPVWIl2GyEMpC3iFOf/f2wRx5pds/bGjd0X3ouTYBkYNDPSmrH/NpR7NvHzB8by\n",
       "EuRh9m7im4ZHek3b/zF+Cqez7J1AXcrWJqJH4JmXRTUhDX68nz7GnITsvRm1kSldMeeGnFhkB53s\n",
       "p3BGwd4MVBvFAOgv3laGKZG31L57GPxmoNGaMtIEVFrHtKK9GpkJbwyOBpqPOZFh3wpUWTiKTmNh\n",
       "rqMU9r0SLV2UW4YJnwIKYocLRRDA3ctA3cJbivt4qDIdl0p71hQzi3fhMqVnu8jz6Lo9BAgLp5iA\n",
       "Sl42Tvn1jGpcz5XVIgygkc4mxTCm4wjiuAC3QVhxm7an0UJVWZQqpo8S9RNQxwm2sK8DtWfgNcm0\n",
       "A/X1N73Aqoim4U/OByFis5HgJknYVXQlZIVnqjQO1OJyAirquwYuAHW4qn+KpzEOQF05QuI9qlEm\n",
       "blzej4zD1Tw62qVAURHj+jrzzCHrahWjtHL/ACi3W9wzoJD9QiN4mlGmQrmGGSimXl7LlgJ0UuOy\n",
       "MkDJf+P2RkkW1rwZ0e0woU3RhiaeU9dlCvT5kusOyuw1ws91G/04oGyJtKjbHq4UWrVRDYyrFjlf\n",
       "YESv1kB7tK4e/qf8xL5U4+XajFzNkk61H30G1PqFRpiABdB+xjDyHRsGLzpzyWbUxmILNcJNF+hg\n",
       "l9AZaI9uoD27ZZTD2uIqrvopo+uqV4FmXDJkZReiH0j0U+d+FpIT6FlMQhfkNUl0pHKeUJJ0cwW7\n",
       "l57QU9M+tJcP55dzw+A0gEINsk1g4ooUEKOtnwKA0OtUhOTvNVKXsHJnU8pkPk7QgQ45RtcPhsQs\n",
       "1z9GxCPot/ogvaoPWLgA2qN1sb/fv8gE44nrPmwBkbicbC8IlENnRka6qw1FTVcX7L4FvDPso9eW\n",
       "4q2yjORl1D654rd0AHVzIjGlZA90RI/SMpqguzr6sKl3dC06sOqXzSsLlersIOSskYsjHHUsNXig\n",
       "gqno9pQOYSeOqHWZSkYvXXdEt9LSkYa7pmPrwk6AkpdAAxqro2rBZJ6UN2nkcpf46LF8V8KGRq+0\n",
       "Jf5p1/zgwXsHdMsozhkdivpC84TPvn54qf+6wKrac4A6dgSKNDqA5k4lpIafZpDHg0auPsU9wnLx\n",
       "a5XFhvFfnmudzbow1ni0mTgfCvUbz4vrmpbHm0Y+OMSP+T7uL5CWKGrrPvr8AAAAAElFTkSuQmCC\n",
       "\" style=\"display:inline;vertical-align:middle;\" /></a><br>(see <a class=\"ProveItLink\" href=\"../../../__pv_it/theorems/c442dece4c7cfb00cc8544925e60c7994a3262290/dependencies.ipynb\">dependencies</a>)<br>"
      ],
      "text/plain": [
       "mod_abs_int_to_nat_closure: forall_{a, b in Integer | b != 0} (|a|_{mod b} in Natural)"
      ]
     },
     "execution_count": 2,
     "metadata": {},
     "output_type": "execute_result"
    }
   ],
   "source": [
    "%proving mod_abs_int_to_nat_closure"
   ]
  },
  {
   "cell_type": "code",
   "execution_count": null,
   "metadata": {},
   "outputs": [],
   "source": []
  }
 ],
 "metadata": {
  "kernelspec": {
   "display_name": "Python 3",
   "language": "python",
   "name": "python3"
  }
 },
 "nbformat": 4,
 "nbformat_minor": 0
}