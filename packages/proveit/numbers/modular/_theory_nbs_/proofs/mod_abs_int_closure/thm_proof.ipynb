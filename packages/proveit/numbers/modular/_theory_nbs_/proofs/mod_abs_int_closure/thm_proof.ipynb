{
 "cells": [
  {
   "cell_type": "markdown",
   "metadata": {},
   "source": [
    "Proof of <a class=\"ProveItLink\" href=\"../../../../../_theory_nbs_/theory.ipynb\">proveit</a>.<a class=\"ProveItLink\" href=\"../../../../_theory_nbs_/theory.ipynb\">numbers</a>.<a class=\"ProveItLink\" href=\"../../theory.ipynb\">modular</a>.<a class=\"ProveItLink\" href=\"../../theorems.ipynb#mod_abs_int_closure\">mod_abs_int_closure</a> theorem\n",
    "========"
   ]
  },
  {
   "cell_type": "code",
   "execution_count": 1,
   "metadata": {},
   "outputs": [],
   "source": [
    "import proveit\n",
    "theory = proveit.Theory() # the theorem's theory"
   ]
  },
  {
   "cell_type": "code",
   "execution_count": 2,
   "metadata": {},
   "outputs": [
    {
     "data": {
      "text/html": [
       "Under these <a href=\"presumptions.txt\">presumptions</a>, we begin our proof of<br><strong id=\"mod_abs_int_closure\">mod_abs_int_closure:</strong> <a class=\"ProveItLink\" href=\"../../../__pv_it/theorems/863a72f893e3d3e008cb2cfea4a65d0562d51df90/expr.ipynb\"><img src=\"data:image/png;base64,iVBORw0KGgoAAAANSUhEUgAAAOcAAAAXCAMAAADHuKgLAAAAOVBMVEX///8oKCgUFBQNDQ0QEBCI\n",
       "iIhmZma6urrMzMxUVFQiIiJERETc3Nzu7u6qqqp2dnaYmJgyMjIAAAArQGDrAAAAAXRSTlMAQObY\n",
       "ZgAAA3BJREFUWMPVWIuSmzAMpK1l/JD8+v+PreUHGGIS5u6STj13zECE8Vq7K8Gy/Luh6Pn5/z8w\n",
       "8NGvx6vn8x8aDvkYt/MQPgWT7PJWnKsRScQoTBSMSTNQ7/qv8WO0ifhenGClqiksG0qcS7SdS/ZT\n",
       "MINc3otT+qVmsM3oYUjjnth3D4M/jTNYk8cmQcmQUC+qbSgJjvHEA83HTMgsP4tTWZhIzhL/NaHw\n",
       "zMnyMP5TOEEecKH0EgR9HSdNjSXAYKyeH6lVgY+PthXja2u7Di9PBw/nDbRhxLmK/OCYvpFPjXNL\n",
       "p91wAq9sld2TzsPL85TCemnlcNlehhfLCxmk0yd5ugEnFeeX9hs4p/6Zkzfgd0UqfIBZ8Yx9ReS8\n",
       "lKE6iKdRDXYWvlQb4KmLMI68EuuAU5YfDdzASTgtfCpXyjYGbsllHXikKl9CxfowEnY7c0j8kAxE\n",
       "BQwXm5nwaAN5aYmTKtw1TmG3sFc4IbmZPqb1sJfOnJUdJ8ZFNW6RBB3VtgsAmhqxNzou/oI0Pbwu\n",
       "xtdLDN2ES95S4jiXbvlt58tJTmIiuK10itYg1cWirlfJqLy2vlYwVMxx3L6ATl3gbOG62Pef/B/a\n",
       "XJWVUx+ikiMdSxP6Cqd1E33knYeHyqWbbBYpdh/K+ykbbdlh1EZhCyWChu0jOKZzxNnCK2a37PkU\n",
       "MHc3xlVuMrrMehdnwgtjO5dO0sEODVK+s62ElQR6FJLMXYUpGeIV5eUw4QdDsEfdST026k14aT11\n",
       "2aPfagCFGtZ2jlEopn8IttwFAEVi4ANE96iP8hRt1/F8FTaKvODczNu6p12KgdqykGlF7SYmHSPf\n",
       "68LqFJPO4wxnC9fZ+H7/YvsLc7993vchMznaVgs4hWRaQpqfdTmNyLwd+74Hpz67bK7ZKq2BTSyv\n",
       "Lc9X8u7VbkJyTMgRZw/vNaX3Puf6+byPJ94V7bledJ/MbV3ZqpbPUR/3hj8reNXggAul4r1T2vuD\n",
       "MILW+VI0eu63PXzvK5lvD83G1ntd4GRjgoozFBvRck2D/wz6uNsYPnsLP77QNX3eakbcq1b52Xv2\n",
       "AWfPJ4757HK63zDhq48NX2u6XnOqthqgTo2AKvrsOFNjEuYmny+gCCd93Hxpewbl7jeUyQPDd15k\n",
       "ySad6Woc2sSE95n35bNH9ltTs7jr44ND/idf3v4CIZ4oDmfECjkAAAAASUVORK5CYII=\n",
       "\" style=\"display:inline;vertical-align:middle;\" /></a><br>(see <a class=\"ProveItLink\" href=\"../../../__pv_it/theorems/d77e0653ed7f59b071fd52ecd5c3efa5cb6874300/dependencies.ipynb\">dependencies</a>)<br>"
      ],
      "text/plain": [
       "mod_abs_int_closure: forall_{a, b in Integer | b != 0} (|a|_{mod b} in Integer)"
      ]
     },
     "execution_count": 2,
     "metadata": {},
     "output_type": "execute_result"
    }
   ],
   "source": [
    "%proving mod_abs_int_closure"
   ]
  },
  {
   "cell_type": "code",
   "execution_count": null,
   "metadata": {},
   "outputs": [],
   "source": []
  }
 ],
 "metadata": {
  "kernelspec": {
   "display_name": "Python 3",
   "language": "python",
   "name": "python3"
  }
 },
 "nbformat": 4,
 "nbformat_minor": 0
}