{
 "cells": [
  {
   "cell_type": "markdown",
   "metadata": {},
   "source": [
    "Proof of <a class=\"ProveItLink\" href=\"../../../../../_theory_nbs_/theory.ipynb\">proveit</a>.<a class=\"ProveItLink\" href=\"../../../../_theory_nbs_/theory.ipynb\">numbers</a>.<a class=\"ProveItLink\" href=\"../../theory.ipynb\">modular</a>.<a class=\"ProveItLink\" href=\"../../theorems.ipynb#mod_real_closure\">mod_real_closure</a> theorem\n",
    "========"
   ]
  },
  {
   "cell_type": "code",
   "execution_count": 1,
   "metadata": {},
   "outputs": [],
   "source": [
    "import proveit\n",
    "theory = proveit.Theory() # the theorem's theory"
   ]
  },
  {
   "cell_type": "code",
   "execution_count": 2,
   "metadata": {},
   "outputs": [
    {
     "data": {
      "text/html": [
       "Under these <a href=\"presumptions.txt\">presumptions</a>, we begin our proof of<br><strong id=\"mod_real_closure\">mod_real_closure:</strong> <a class=\"ProveItLink\" href=\"../../../__pv_it/theorems/4d7e737562bef4a4cdecada172366be99ae537950/expr.ipynb\"><img src=\"data:image/png;base64,iVBORw0KGgoAAAANSUhEUgAAAQEAAAAWCAMAAAD3ltlYAAAAOVBMVEX///8oKCgUFBQNDQ0QEBCI\n",
       "iIhmZma6urrMzMxUVFQiIiJERETc3Nzu7u6qqqp2dnaYmJgyMjIAAAArQGDrAAAAAXRSTlMAQObY\n",
       "ZgAAA9JJREFUWMPVWIty3CAMpC3IvF///7EVAmyw8V3SXK4tMxkueMFokVbCjP2VZuPcf7I5ubnF\n",
       "sLefW6bi0/5/jG8jwJm5/2zzKW/jalzXX+oxBVFzY3JK3MQBH3x/ntzbGEh27j/vQyMDuA40LtKz\n",
       "FzOnGJMmGrfjbT8Ga95GQIS5/4M2M5D7MQbxeJphNtROHfh+9IczfHvTdu6/ysCWu/s6fuLaaGzp\n",
       "zADYFv2Ej8GVZvX7ZFDP/ZcZCMdCaRyXRrilDyADZsBnU5oOb2NAwNwzCwEE3zcrEwcphBJsE8KQ\n",
       "SS4IEapxLuBvOTGQlBBQXTgMgeWuytYYUGxT7MArSc+uHrml9Nyc7RZOrxdBXKjtStz7jeO7Ux7D\n",
       "xIiidgIXj8VPJcVLGUS/LaaGKRdkNNVlMiAOe1hkhsqA19DJIfwGdyoaTkrltTAKkpjXvIGDpBDD\n",
       "WeosA37qHS9MwCjEhsI5lyFZLKsOKjMuadIlF3iSgSzqFpdbGxjgRRj8YRLtpJzVqhjYgc4HAEQI\n",
       "hlsJTqwZSKOWVrHVFGYnZ+Tb1AM919OiZGYOZKtE0+vKOOBoELuBAUg00lg6VICn3iYfwBM3R8QR\n",
       "PsTKwlVubFdUb12ZRAxEF9cM5NHr6CWunBrj/iED3OzIfTKtSqdaGPDNXnQKWY96YoCqga2yNDBg\n",
       "zU02hE2amQGbmGye6kCoJPenKEeuhUnVrspAWDLQ4TW224kUUnR8FAX18Hxm9wzsPgCIvjKQ4+5J\n",
       "bBuOkt/VA8bF7nENb6xqOqvL67oVQjvS68OJiAEAWDLQ4IpSyy/8i20tLR4poSPzVBqr+hMDjEPl\n",
       "E3eZzEUHyu8qJrMSgrhhAM8bJBvxHhpzxTa5s1i0FxEOBgZAKb2tlbDBK9Czwwe4WAts62meViws\n",
       "fYDkT/Ky4US6QLEDeVhTofGmrQlh4WznqrhUfzUD7vi+XolYocZ4BYWU0KmWjaIPWBFvGGjw6eZD\n",
       "0T1XsIentt5hNpdWiR0lVc5KepM50pJySQRYMQRofgohYj3AjwyDoRt6oKVRTpwy0x2y3YxKRjGp\n",
       "RlbHR9c2bItvujaruHDhRE1R4GVwSwYaXKH2/vxRFDje5IJXVMV3l86Tom/BTFXxMzzD0gSDLRYd\n",
       "xV1jXMdiYJCTDoQbJezwngl72XepB15xM7ppz25GT/GbEl6UxC/L2UsVqq3G9/IhYCw6gLTMBR0+\n",
       "pFusCcPCzF6Amhc7gUsvxE8iIpoOLO+b16lPrxhf/UJye/m1r8N/+IOTWX2G+O6vZHffHewL8R/e\n",
       "2ZWB+L4PDf9Eg//dgN/D+i3D4nvr5gAAAABJRU5ErkJggg==\n",
       "\" style=\"display:inline;vertical-align:middle;\" /></a><br>(see <a class=\"ProveItLink\" href=\"../../../__pv_it/theorems/f61d332a35319a53265c7c6580eaa80518159e180/dependencies.ipynb\">dependencies</a>)<br>"
      ],
      "text/plain": [
       "mod_real_closure: forall_{a, b in Real | b != 0} ((a mod  b) in Real)"
      ]
     },
     "execution_count": 2,
     "metadata": {},
     "output_type": "execute_result"
    }
   ],
   "source": [
    "%proving mod_real_closure"
   ]
  },
  {
   "cell_type": "code",
   "execution_count": null,
   "metadata": {},
   "outputs": [],
   "source": []
  }
 ],
 "metadata": {
  "kernelspec": {
   "display_name": "Python 3",
   "language": "python",
   "name": "python3"
  }
 },
 "nbformat": 4,
 "nbformat_minor": 0
}