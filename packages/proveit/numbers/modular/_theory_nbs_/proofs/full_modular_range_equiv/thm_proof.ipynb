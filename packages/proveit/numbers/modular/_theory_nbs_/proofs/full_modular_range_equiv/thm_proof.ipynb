{
 "cells": [
  {
   "cell_type": "markdown",
   "metadata": {},
   "source": [
    "Proof of <a class=\"ProveItLink\" href=\"../../../../../_theory_nbs_/theory.ipynb\">proveit</a>.<a class=\"ProveItLink\" href=\"../../../../_theory_nbs_/theory.ipynb\">numbers</a>.<a class=\"ProveItLink\" href=\"../../theory.ipynb\">modular</a>.<a class=\"ProveItLink\" href=\"../../theorems.ipynb#full_modular_range_equiv\">full_modular_range_equiv</a> theorem\n",
    "========"
   ]
  },
  {
   "cell_type": "code",
   "execution_count": 1,
   "metadata": {},
   "outputs": [],
   "source": [
    "import proveit\n",
    "theory = proveit.Theory() # the theorem's theory"
   ]
  },
  {
   "cell_type": "code",
   "execution_count": 2,
   "metadata": {},
   "outputs": [
    {
     "data": {
      "text/html": [
       "Under these <a href=\"presumptions.txt\">presumptions</a>, we begin our proof of<br><strong id=\"full_modular_range_equiv\">full_modular_range_equiv:</strong> <a class=\"ProveItLink\" href=\"../../../__pv_it/theorems/7501d4eb0574f728f8aa70b0aa67a89c6746e04b0/expr.ipynb\"><img src=\"data:image/png;base64,iVBORw0KGgoAAAANSUhEUgAAAksAAAAmCAMAAADjli+dAAAAOVBMVEX///8oKCgUFBQNDQ0QEBCI\n",
       "iIhmZma6urrMzMxUVFQiIiJERETc3Nzu7u6qqqp2dnaYmJgyMjIAAAArQGDrAAAAAXRSTlMAQObY\n",
       "ZgAAB25JREFUeNrtXNmW4ygM9Uyz7+b/P3bYDQbbpFNJak7MQ3VCW1iIK3El7CzLtzdjlrs90yS9\n",
       "bRAbXG8bPNnwbcJoByBvIzztj3dk8vEZkNsIz7f15gnLQm+P+okm7ui+ECtuINw++TOx+TbBTznl\n",
       "twcmcYelH/NK+OUGQHUya9CrCCRB8L1e+7qpHM7KgC/HEticSa7675NBgi+wgt+ZLj4zlYdaPSth\n",
       "sQtOG7S+LbETdrOFsX8/jlq9IbcGuY0dillAZRcBXx2V8lQ0NHoSwwOVH4zrwAFYq7LlfRt9qvGj\n",
       "2VOgxG0Ht7y16VPDP9jyvVa3spLNMsJO5WPXKQWAelbU4UrwbBD+dXSJ/RCWlh2WsOKJ1evlY1iK\n",
       "DEZPBsRe5YMNlGpqR1iCtnYd9W1YYvxFWNISWxRX6HNY4qHeoSaT9V7lk3A+wpLyUDRa+ibYt0Fp\n",
       "icZ7AZbcuMzGFfoclmzAErZzIaJX+UEskXAjy31j+vuwBAdYkhBSgaEu/0dWgIjrhAuGkAfQSA2h\n",
       "jvCR2n0mPZaMNfFDGh68G0syhRkLZ7G0U3kGS9WsZJCmgevzF5XtroYlfyd2KjyZO1vTUseIDWcs\n",
       "Bhe21nsh9Pwa4kRCSCC0vnORwHujbrEUtgnLau7xTJp4BJm1ajUC4lSE1TFcTGFpoPIElppZhRth\n",
       "FIoSadvjwcKYgdGgeL2mcjvqcCWl8NBQV8oQ3guPLw8Td3FG99mXqXITknmDh4ZccAVmHtwv5Dnh\n",
       "AI+lVXIifB3kcWGb8PjCW/eK3hWW0lREjEvETu03I5WvsdTMKt7IwxFmuxoeQiQcu7zem4QCrhFH\n",
       "VXeTDlIxlGqi6yAEUXGuDEEpB2uFR5cj/8W4ear92RspVILwkjp7M/FdRhsBE2zlS1JZznXIaEDZ\n",
       "YgnFteSNj1P2llOGMpXH9rihyrKOfGSEpXpW8X7aRDxFtEQnO1j9NZtfKo18pd5rrmVdTa8XguhW\n",
       "apxl9gbRl8pgNhAeXC7CBcx37zMaUtHSpjC9N3/EVuj1WFIJOc7yaQfZYUmngo2oFHnfKXKeik15\n",
       "3BT3Hqk8E5foPpMR60LoNmow3cGYtgQMJaQf0mlKjKgr5jWWKGmkDvDZ/S8ll8pgNhAeXM5lWGs/\n",
       "IFDHe9xCeYUxcoqlEpeQG3iApZRVuxxbL5N8ieizM4fEEQhUh3ypRmqaStTaTNUERio/yJdSiHa8\n",
       "m+KSxrgRhf8ndyBIS4Bzfgh9hR2jJj42CtRYYo1UG47KuLCzIztSpsdSLTy4HCdq4xHHzJ57D/I4\n",
       "JWPVrYm0LZYWkJiIP4HiPV/KWTWres/zuKtHyTJHoHPc5/Fa5UjlB/O47JlqqwArZyuGNlIrGake\n",
       "ToHMmRrVh3huaKHIAZZSzSpLNQu5jeuJDOW5mSLWKzPAUs2CmsvjiH/CiPFGHWGpaWlaAF+O4Q5L\n",
       "baTdsBRiFgm7SDhBFSBsqs2uyAZeO6ovZZrgD/TOVy9zBLU+gKWFqeoZZGnXZfdp6xqqfNjgSX2p\n",
       "YQg6Aq9Y2bNqUkR8HmxWF1OaYNB6S4UlzGupluxt4+L94U3p2CszwFIt3F+edoUYl8AeS4B2CyAp\n",
       "hBKi+pibUGspcTmiu1yv1idxAmmNUn0JaQOJLUNJDmwOgPQUS4UmXGMkc4THsOSrYIUtLIx2n9KH\n",
       "A5WPWDoFdk3PtNSzwjmkGdkQerBFEU8yttcMvBci6kAQYwgMC+gDpJBDLNFaCpfYI5txyd5CmA6U\n",
       "aaQ3LNXCe92dlbIHkr44nfOztxSmy/AaIhJWuKYJGSMNn6hdPnGEx7D0tgr7ckDMdNwHdQmIziW4\n",
       "Sf4TUiGPAlqxNmJCBjXCUiwCFamGq2zjeujQwiJNEeuUGcYleqC7H/Hff9KIwzyu2e5fXJjOVnc0\n",
       "jK5BnRoWCSMtn6iia+YIk1gCn8BSf9dI6GXY+0SIH8KTTJO+uUkZv9DbYzEoRAPMhnucjN1Zqtlf\n",
       "8rix+LPjUr0yXUUuXROEg2795aLgzK9EV19qzj1fUJhudoa1FOrj+z+yqVTrAZ+oLJo5ggQzxwEv\n",
       "nspgVsOiBwLBg2MJkPhYgilU0G+P4RuhOmV+acEMpa5rZfQgj5ORcegutJRx3c06ah3FGmV2iQ9i\n",
       "lsIiHHTrL+cbVKAe1EubQ5SXPoyIAd6Rn4omEI5GfKLyu8gRgtSMlu97rhKPbTksxx9/g5kv9V60\n",
       "dNz3Yup9UJ9//GUdaZr6Lk3K64VT73nem9h4jEi7uLTjExX1zhxhLi69cipHs4qPnJypJI6/nSzQ\n",
       "4ZeDu5iLMSaEh7pdk4u3P/AubCj46IYmFB7U8ontT+EI6ve+uH/1ELI5+TaJJXwpJUcVdjx5syw8\n",
       "utxcBzdp3/z8n6QGaxgrg1ztsVTxCdH8yRzhF2MJvMSSaHkomo1f95kMgs++K/TRHznZaMIsRn4v\n",
       "luC3v9Lk3elX/DTF/x9L4P5xiq4c/5k2y6npb3329f4Rq1y7+XwTcMKvya99u0OA+136Jdaa7/as\n",
       "DdVthOBT7PapZ2P7TZYymO7A9GRYytXv/wBQRlu5RBrGNgAAAABJRU5ErkJggg==\n",
       "\" style=\"display:inline;vertical-align:middle;\" /></a><br>(see <a class=\"ProveItLink\" href=\"../../../__pv_it/theorems/cfe301cf9e350a9d99ae13a7dc2d16231525bc3f0/dependencies.ipynb\">dependencies</a>)<br>"
      ],
      "text/plain": [
       "full_modular_range_equiv: forall_{N, a, b in Integer | (b - a) = (N - 1), N != 0} ({x mod  N}_{x in {a...b}} = {0...N - 1})"
      ]
     },
     "execution_count": 2,
     "metadata": {},
     "output_type": "execute_result"
    }
   ],
   "source": [
    "%proving full_modular_range_equiv"
   ]
  },
  {
   "cell_type": "code",
   "execution_count": null,
   "metadata": {},
   "outputs": [],
   "source": []
  }
 ],
 "metadata": {
  "kernelspec": {
   "display_name": "Python 3",
   "language": "python",
   "name": "python3"
  }
 },
 "nbformat": 4,
 "nbformat_minor": 0
}