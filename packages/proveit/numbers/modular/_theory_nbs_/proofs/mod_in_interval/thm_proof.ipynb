{
 "cells": [
  {
   "cell_type": "markdown",
   "metadata": {},
   "source": [
    "Proof of <a class=\"ProveItLink\" href=\"../../../../../_theory_nbs_/theory.ipynb\">proveit</a>.<a class=\"ProveItLink\" href=\"../../../../_theory_nbs_/theory.ipynb\">numbers</a>.<a class=\"ProveItLink\" href=\"../../theory.ipynb\">modular</a>.<a class=\"ProveItLink\" href=\"../../theorems.ipynb#mod_in_interval\">mod_in_interval</a> theorem\n",
    "========"
   ]
  },
  {
   "cell_type": "code",
   "execution_count": 1,
   "metadata": {},
   "outputs": [],
   "source": [
    "import proveit\n",
    "theory = proveit.Theory() # the theorem's theory"
   ]
  },
  {
   "cell_type": "code",
   "execution_count": 2,
   "metadata": {},
   "outputs": [
    {
     "data": {
      "text/html": [
       "Under these <a href=\"presumptions.txt\">presumptions</a>, we begin our proof of<br><strong id=\"mod_in_interval\">mod_in_interval:</strong> <a class=\"ProveItLink\" href=\"../../../__pv_it/theorems/bb4895fe0e26ba4a8e885940196943bfbf89a2b10/expr.ipynb\"><img src=\"data:image/png;base64,iVBORw0KGgoAAAANSUhEUgAAAU8AAAAXCAMAAAC8uT3uAAAAOVBMVEX///8oKCgUFBQNDQ0QEBCI\n",
       "iIhmZma6urrMzMxUVFQiIiJERETc3Nzu7u6qqqp2dnaYmJgyMjIAAAArQGDrAAAAAXRSTlMAQObY\n",
       "ZgAABFVJREFUWMPtmYty6ygMhr17uBrE7f0f9iABNrZxQtI2ndlZZnqj2IgP6Zcgy/JrTcGzji+1\n",
       "IMIXzJm2RQkOy283i0v18tR76fhCg+hffOI4+wu2SKbop7P4Pe4bGj6FE8zy0zxDai/lwatZnmDY\n",
       "+rotojLUCNS71h0/5rfR/jhPX7nEvDxY7bR/RjFri2NwmguQqzUtBs2ncAaxfIpnYPRHnOaZ3JQt\n",
       "oL1OZ545Fjq33B31p1t1l+/jGcyaWxzwNJpcKcEkT9lGPrclXHkC7l7wgM2uH0tGdxL1Jk9lBhm2\n",
       "rjERT5ncJM/d1d7huUR8Khlsq/8UT36UKCu84KRF7/GEoe6XNUIShSef5Bk158K9ypNt78DpNKU/\n",
       "c9VsGZ/rjrwdTbNxzy/7ZELPU7I8cUzv+6ceJhtNxthEs6tZnpDy5kCyr/Hcaokl4KxStNx0mUKc\n",
       "rWTGCyO6bnM3WijSkixe+iyfveQDQ7rCvM/TjJOvKjxF4enneBahRfqv8NyKgsVRVOA3Pio+Y5Md\n",
       "cF7gcQMziYdersxgNK2EKK6kJ6d4ZLLjKei/K5/JqXYU2IrF1jpFrSnv1XinShKQ/m4LxK6pIc9F\n",
       "lwXkjaM3hcL00pJt+dNZwKczMRVsGHtH6gPPAFmG8zP3gCcz27hnPHnNKkdhGZd57cySan6fzEfk\n",
       "aJS9XvPPFoKFp42Lqj0guN42IcsO11AFYYvjxY+jrY0u66m6hYjXcB/v5At5vVM5tQXAUVjYWFWL\n",
       "YcacXekhzxRayLynn7JWaVaXx2FVGUIbx1egZNy7Q7BOjXnW0ZqqhT/5K9RXrfw+HwF5Tk4ebiIH\n",
       "GDcQlkXw76vnk2yK/l5+D2UiJ2q4Y6ZRW+gbTiOgcwfgR/fseNbRha1bdv9kfJzlyGR6atX01lme\n",
       "yQ79fXjexH9CDX5M33e/lNl1RmnEXG7kg/pTVDhNr1HquO6FTugMmFwOV56X7fNbusRgltPo/b6j\n",
       "6WI6mSb7eh5ywaes5rJ22MgU6kYIhh7jnOOMufAKPLqrsNArjIQ7nuDz4C2iVn37SwkXwX2Y0h6h\n",
       "WYr1RrCr5+tMAer6LYYjVOtwA5DwXvBIpygY7IBnHa1zFvz3H8yF4Sa/Pz5vWlSAaGrtYeg6o258\n",
       "TWxNhrod8ubmvPmJ+7ruvHmeNNfWKsmAWTNDyHYH5LXfd4lFdA525NlGt1qpHYUu9efj+xBA/Npj\n",
       "IdTyZT5P0p5U/+yF5X6N7Bd4+rOUS80dRy9W6AtKe38QrqB17oqrHub3NrrUShWov5wJtrPYHU9M\n",
       "ULzwLOlEC5m6PNQJy8T95wd4tvtPeLTJB5HnTT9nTifu6WHk0X3ygWfzT9v7Z5OhJ8XVB+/nZe8m\n",
       "Nzjt3MsGPCeKEzoS8PO1OXXYjWeqkWEZUIdl4SQsj+97X/z86GgOV5OP7Z8fhUfIZm25Lix86R4V\n",
       "TD7SBLY6a+is6LNg0McIOb+vxSt3YfkPNrH83/r2F0FSNvV5nvFSAAAAAElFTkSuQmCC\n",
       "\" style=\"display:inline;vertical-align:middle;\" /></a><br>(see <a class=\"ProveItLink\" href=\"../../../__pv_it/theorems/4b0e978bf5c248e4d75b1bf504b60927190b058f0/dependencies.ipynb\">dependencies</a>)<br>"
      ],
      "text/plain": [
       "mod_in_interval: forall_{a, b in Integer | b != 0} (|a|_{mod b} in {0...|b| - 1})"
      ]
     },
     "execution_count": 2,
     "metadata": {},
     "output_type": "execute_result"
    }
   ],
   "source": [
    "%proving mod_in_interval"
   ]
  },
  {
   "cell_type": "code",
   "execution_count": null,
   "metadata": {},
   "outputs": [],
   "source": []
  }
 ],
 "metadata": {
  "kernelspec": {
   "display_name": "Python 3",
   "language": "python",
   "name": "python3"
  }
 },
 "nbformat": 4,
 "nbformat_minor": 0
}