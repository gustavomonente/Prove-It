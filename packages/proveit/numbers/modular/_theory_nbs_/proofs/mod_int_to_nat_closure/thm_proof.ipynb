{
 "cells": [
  {
   "cell_type": "markdown",
   "metadata": {},
   "source": [
    "Proof of <a class=\"ProveItLink\" href=\"../../../../../_theory_nbs_/theory.ipynb\">proveit</a>.<a class=\"ProveItLink\" href=\"../../../../_theory_nbs_/theory.ipynb\">numbers</a>.<a class=\"ProveItLink\" href=\"../../theory.ipynb\">modular</a>.<a class=\"ProveItLink\" href=\"../../theorems.ipynb#mod_int_to_nat_closure\">mod_int_to_nat_closure</a> theorem\n",
    "========"
   ]
  },
  {
   "cell_type": "code",
   "execution_count": 1,
   "metadata": {},
   "outputs": [],
   "source": [
    "import proveit\n",
    "theory = proveit.Theory() # the theorem's theory"
   ]
  },
  {
   "cell_type": "code",
   "execution_count": 2,
   "metadata": {},
   "outputs": [
    {
     "data": {
      "text/html": [
       "Under these <a href=\"presumptions.txt\">presumptions</a>, we begin our proof of<br><strong id=\"mod_int_to_nat_closure\">mod_int_to_nat_closure:</strong> <a class=\"ProveItLink\" href=\"../../../__pv_it/theorems/4cf573d606fe67c539fca2ecee75c93de59fa1e50/expr.ipynb\"><img src=\"data:image/png;base64,iVBORw0KGgoAAAANSUhEUgAAAQAAAAAWCAMAAAAYVLJmAAAAOVBMVEX///8oKCgUFBQNDQ0QEBCI\n",
       "iIhmZma6urrMzMxUVFQiIiJERETc3Nzu7u6qqqp2dnaYmJgyMjIAAAArQGDrAAAAAXRSTlMAQObY\n",
       "ZgAAA+JJREFUWMPVWIuW2ygMpV3AvF///7ErCbDBweNJk6Yt52TIEEmWLtJFmLE/MVya5yeHV5t/\n",
       "XA3uSTNVIe//p/Sp+L2d52dHyGUbjHFTv+kbBHwu1maELvLCt6YQQ/89+08BkN08P59BAwBgRvYA\n",
       "7/RsYkqTaNkVXN8FZz8Vf5Lz/AtjAqD0PYziRk0bxQQJ8UOhb/yRCr97GDfPLwKwlZ66np+QtgbG\n",
       "kBd6s55phc8+FFL0OJz5GAOaeX4VgHjYyWNiKCvORa0dVIDHLTeDAjADDBM/BYCQ88ycjFLw3VmV\n",
       "uVRCaME2ISyF5KMQsQbnI3xXIwBZCyFr+kY5Ut4jpwHrBUE00AAgBUoJZh/zccu3rLJdS9PjRRRx\n",
       "wUTTvHF4dC5jjViBRCfAesIkVVQsuAhJi6HG8RQoEKkv5H7KU7ArABgAmUQHgBQ2ecWg8cxSmtso\n",
       "rTyW7aW0VFRecGbpMwWEafYcgZCjJUu1XHBJYWQ1O1UBkzafT4FAFFCI2sJQVStOJ1A00kATrAr4\n",
       "R6yagNx50YcoZaq0Ff1QWnYlTS5S2IZK7JSKfJtmSb+bkcBrlCVSqAoir5ZhwdMiTAcAMtNCw+hg\n",
       "AJ77OAHgwbXc6LIqxLTXxIlqXGfT4Dy6CY6oNLZvdiFdf/DkFqYBD18CwO0uuSuTWdpUBCC0cCEl\n",
       "VN3pEQDqAraK0QCAu8wApiLAMwLgcmsPwLIUOndf4GkC8qXWyA44G4t6eEqXrnXdNgQfaNJXJVD3\n",
       "LhR2DcCeARKkHwAoaU8jtg37yC8BYCl0x5uCdbpRrMHH9SiE8UTVIz0kF9QagCat6Uz5Dz6pmTLi\n",
       "KxL0FJ3OYyt/AoBxWeEEJ7M9cwB+rTwyk6BcdEW6+R57fjSFIBtySG9qRxFpFyT8eLaIKQFGAJp0\n",
       "BSOwIwO4WFNrm0nP6NHuAAAxn+LoeCZOoMKR5bCpIXbbTMq4yLQVTck8K3R7WK5Cj8UqNSBCm0qn\n",
       "UAQOBC/8AoAmPV12qLKntnXI0zZ7OMaV02KXUroUrYItHFDJBY8A6BSibEkqY4I+gO9eQtXGXmR5\n",
       "zE6v7XxpVKZwO18bukLyzWGHmembGiYwQnKcY1tQiTJoAUCT1kC7P38g+aaLU+AdrfDFde9E5Vu0\n",
       "cyt8p8CgJYFKS8ih2C564H+MVx0MKGeqGQDo0v0I7M3eQx/wjsvQetxehm4VNi2CwANf4c4rHWuJ\n",
       "2FY6SWtYykYvT4EuXY/AhkCMiyh712nfmwL31+FnFCYGEZ0DHkJZad7eKl59IXJ123dvVPjm+6VV\n",
       "BN/YhxdfiV28ZnDvVPimZwsA0sfeK/wNQ/7zEfwPWGcsl0pVtU4AAAAASUVORK5CYII=\n",
       "\" style=\"display:inline;vertical-align:middle;\" /></a><br>(see <a class=\"ProveItLink\" href=\"../../../__pv_it/theorems/db16f9e5e655bc16a1e3d6505a0387c1d38861b70/dependencies.ipynb\">dependencies</a>)<br>"
      ],
      "text/plain": [
       "mod_int_to_nat_closure: forall_{a, b in Integer | b != 0} ((a mod  b) in Natural)"
      ]
     },
     "execution_count": 2,
     "metadata": {},
     "output_type": "execute_result"
    }
   ],
   "source": [
    "%proving mod_int_to_nat_closure"
   ]
  },
  {
   "cell_type": "code",
   "execution_count": null,
   "metadata": {},
   "outputs": [],
   "source": []
  }
 ],
 "metadata": {
  "kernelspec": {
   "display_name": "Python 3",
   "language": "python",
   "name": "python3"
  }
 },
 "nbformat": 4,
 "nbformat_minor": 0
}