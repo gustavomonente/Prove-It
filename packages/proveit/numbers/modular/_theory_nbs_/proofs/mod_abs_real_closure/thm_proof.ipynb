{
 "cells": [
  {
   "cell_type": "markdown",
   "metadata": {},
   "source": [
    "Proof of <a class=\"ProveItLink\" href=\"../../../../../_theory_nbs_/theory.ipynb\">proveit</a>.<a class=\"ProveItLink\" href=\"../../../../_theory_nbs_/theory.ipynb\">numbers</a>.<a class=\"ProveItLink\" href=\"../../theory.ipynb\">modular</a>.<a class=\"ProveItLink\" href=\"../../theorems.ipynb#mod_abs_real_closure\">mod_abs_real_closure</a> theorem\n",
    "========"
   ]
  },
  {
   "cell_type": "code",
   "execution_count": 1,
   "metadata": {},
   "outputs": [],
   "source": [
    "import proveit\n",
    "theory = proveit.Theory() # the theorem's theory"
   ]
  },
  {
   "cell_type": "code",
   "execution_count": 2,
   "metadata": {},
   "outputs": [
    {
     "data": {
      "text/html": [
       "Under these <a href=\"presumptions.txt\">presumptions</a>, we begin our proof of<br><strong id=\"mod_abs_real_closure\">mod_abs_real_closure:</strong> <a class=\"ProveItLink\" href=\"../../../__pv_it/theorems/bbee65dbfa6bf3effd43b3ed4618f828989ee6290/expr.ipynb\"><img src=\"data:image/png;base64,iVBORw0KGgoAAAANSUhEUgAAAOkAAAAXCAMAAADZcZi4AAAAOVBMVEX///8oKCgUFBQNDQ0QEBCI\n",
       "iIhmZma6urrMzMxUVFQiIiJERETc3Nzu7u6qqqp2dnaYmJgyMjIAAAArQGDrAAAAAXRSTlMAQObY\n",
       "ZgAAA21JREFUWMPdWIuS2yoMdXsRLyFe//+xRTwS24HEzd1Np2Vmd2exAB2kcyR72/7c0PRq4h8Y\n",
       "LpZfQZ1mHya+aHjHv9Pt/xg/BpRw+06k0QrEnJLADskw1ODH8/S53Elu+96Ypo1MYQNGrKCI4+lw\n",
       "JBR+DGiU2zcjxc2F9se0nWEXyntwv31Y98VII9oy0gNS6To7SbBVIB7Ofk6O7PalSDUCzWNakPZM\n",
       "Tbx1Rh42fAwpyAMwJ4MEQW8jpYnAdKRmU6afxWcaXZ+5B3OV0utz1Nq+OgABznc4FLEBU6KcnPL7\n",
       "MTVuxVNv5biFyK4pOdTpPII81SULaGSC454re6krN8oyc6Kp3yElwbglvo8U54okmLn+7no9ma9+\n",
       "VkxvhuSDlMUCtuJ4IFick/ai1lTPVn4c00uoHVJZH1q4gJTcrA5qkcY4xrREEG8LdEua2NA+jOyG\n",
       "tHlHvKgijRQXSPM+j+oplDmwwq+RCryZvUIK2U9Y4nBVZaTSeETq0qZ7gpEEk/TtKYChnt7trIY0\n",
       "zJEO++ZOaFMM3sZl9lJmO58vae/ImSNLxLKeIsWRfqqFEp1pZ5DVxbnhLFiqOnm/wYpUSjlH2u1N\n",
       "1fL/yk/sm1lYKhLVOJlUe9NXSNFPWLJJWCEt8ZN6p0jlSmVPXsagb4mMUC1I7pBKY6xa6EG3b5Z+\n",
       "u8dUwFToKrC6yBq+wstIs5vmyEM3yN1Qqyyb7HmYuytMKDB7PklToNcgsUslpg7iCmm3v7fwg4D5\n",
       "iEDtOwcyANoZUH3CJaGZBDFiXQUAoUpEiJD8I0vqFqho0uGXoxFTI/egZKTul+Pcor6MM4+xm0P2\n",
       "eh1ojrTbm6KCP3+wFsa59j7vBh27lrAXBg4j2R6TrmyDVbu7C3jsBh9k+6y4pYjrrCILWnGubBgZ\n",
       "SNAHnoaVIg37UWFGP3Sup887fOJ7McwyMSSzdHv1snpM9yy5OMKZy8qABy6cmq9PmxAO/PA2pFB4\n",
       "K9Nce4f9ro6VrDv3H7eGbIWUJQoa0liF1UiVd0q0Y8nlhvHZe/qhknWeXuxQ/Kse+tmb+AHpiKnb\n",
       "x3Sw6jfaKPfqg8SbvdjrzKpfV0CfWwNdeTqQ5p5OrrT/POFEPLHk6kvdMzCXv7RMjoz/502XMJuS\n",
       "tNY7zJz2oWR//TZStNe2SN5Z8tEh/5aPdL8AgOwpllVV/8kAAAAASUVORK5CYII=\n",
       "\" style=\"display:inline;vertical-align:middle;\" /></a><br>(see <a class=\"ProveItLink\" href=\"../../../__pv_it/theorems/96b2d66dfb9966eb1152a1952f6c5b7d91955a2c0/dependencies.ipynb\">dependencies</a>)<br>"
      ],
      "text/plain": [
       "mod_abs_real_closure: forall_{a, b in Real | b != 0} (|a|_{mod b} in Real)"
      ]
     },
     "execution_count": 2,
     "metadata": {},
     "output_type": "execute_result"
    }
   ],
   "source": [
    "%proving mod_abs_real_closure"
   ]
  },
  {
   "cell_type": "code",
   "execution_count": null,
   "metadata": {},
   "outputs": [],
   "source": []
  }
 ],
 "metadata": {
  "kernelspec": {
   "display_name": "Python 3",
   "language": "python",
   "name": "python3"
  }
 },
 "nbformat": 4,
 "nbformat_minor": 0
}