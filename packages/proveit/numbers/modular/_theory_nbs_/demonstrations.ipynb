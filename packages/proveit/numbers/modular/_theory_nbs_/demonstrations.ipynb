{
 "cells": [
  {
   "cell_type": "markdown",
   "metadata": {},
   "source": [
    "Demonstrations for the theory of <a class=\"ProveItLink\" href=\"theory.ipynb\">proveit.numbers.modular</a>\n",
    "========"
   ]
  },
  {
   "cell_type": "code",
   "execution_count": 1,
   "metadata": {},
   "outputs": [],
   "source": [
    "import proveit\n",
    "from proveit import a, b, c, d\n",
    "from proveit.logic import Equals\n",
    "from proveit.numbers import Abs, Add, ModAbs, Mod\n",
    "%begin demonstrations"
   ]
  },
  {
   "cell_type": "markdown",
   "metadata": {},
   "source": [
    "# Modular Arithmetic $a \\thinspace\\text{mod}\\thinspace b$, $|a|_{\\text{mod}\\thinspace b}$"
   ]
  },
  {
   "cell_type": "markdown",
   "metadata": {},
   "source": [
    "<div style=\"line-height:1.4; font-size:14pt\">\n",
    "\n",
    "<a href='#introduction'>Introduction</a><br>\n",
    "<a href='#simple_expressions'>Simple Expressions involving modular arithmetic $(a \\thinspace\\text{mod}\\thinspace b)$, $|a|_{\\text{mod}\\thinspace b}$</a><br>\n",
    "<a href='#common_attributes'>Common Attributes of the Mod $(a \\thinspace\\text{mod}\\thinspace b)$ Expression</a><br>\n",
    "<a href='#axioms'>Axioms</a><br>\n",
    "<a href='#further_demonstrations'>Further Demonstrations</a><br>\n",
    "    <ol>\n",
    "        <li><a href='#demo01'>TBA</a></li>\n",
    "        <li><a href='#demo02'>TBA</a></li>\n",
    "        <li><a href='#demo03'>TBA</a></li>\n",
    "    </ol>\n",
    "\n",
    "</div>\n"
   ]
  },
  {
   "cell_type": "markdown",
   "metadata": {},
   "source": [
    "## Introduction [under construction] <a id='introduction'></a>"
   ]
  },
  {
   "cell_type": "markdown",
   "metadata": {},
   "source": [
    "<font size=4>Some introductory comments here about the importance of modular arithmetic and its representation within Prove-It.</font>"
   ]
  },
  {
   "cell_type": "markdown",
   "metadata": {},
   "source": [
    "## Simple Expressions Involving Modular Arithmetic ($a \\thinspace\\text{mod}\\thinspace b$ or $|a| \\thinspace\\text{mod}\\thinspace b$)<a id='simple_expressions'></a>"
   ]
  },
  {
   "cell_type": "markdown",
   "metadata": {},
   "source": [
    "<font size=4>It is straightforward to construct modular arithmetic expressions and absolute value expressions. Here are some basic examples of such expressions:</font>"
   ]
  },
  {
   "cell_type": "code",
   "execution_count": 2,
   "metadata": {},
   "outputs": [
    {
     "data": {
      "text/html": [
       "<a class=\"ProveItLink\" href=\"../__pv_it/demonstrations/3664952b8b4e15e66ac79bcc9574265acdf3a5a60/expr.ipynb\"><img src=\"data:image/png;base64,iVBORw0KGgoAAAANSUhEUgAAAEoAAAAPBAMAAACxa0SdAAAAMFBMVEX///9UVFSqqqrMzMwiIiJE\n",
       "RESYmJgyMjK6urru7u4QEBCIiIh2dnZmZmbc3NwAAABRgo0vAAAAAXRSTlMAQObYZgAAASpJREFU\n",
       "KM9jYMAJJncyEAHUf4CpqUvwquKDqGKoxW8YVNUnYlRx/CRGFY8D2Po7t1eCaPO11hs3dG9tYOA8\n",
       "vaeBgWHO6c0QVezSexUYGLoesH8Ac1038P1uYFvAYPKAIZqBcxEDD0TV/ErOfwycyxh4A8DcKAaG\n",
       "rwzM/xh8GBjsDVgLYH7Un8Dwm4H3JwPLBjA3nIHhDwPfZ2agn/gPzD/AwAlRdZ2B8w8DVwDDfAMw\n",
       "N5QBqInvMxNQkj/AfgNMVS0DxycGoCZ9BmRVYLMuzIer+gaybr4CgzjTAyRVDGuB7mpgD4C56wfD\n",
       "rAQG1g1sjjwIs5g/M1gZMNQw8K1g4P0NFhZjiGVg4JTe/HAHiGf4X1j1l8DxLwf47pwFhtfcY5t/\n",
       "CYDE5+5JYAAAOd9i2ZXvXdYAAAAASUVORK5CYII=\n",
       "\" style=\"display:inline;vertical-align:middle;\" /></a>"
      ],
      "text/plain": [
       "a mod  b"
      ]
     },
     "execution_count": 2,
     "metadata": {},
     "output_type": "execute_result"
    }
   ],
   "source": [
    "# basic modular expression\n",
    "Mod(a, b)"
   ]
  },
  {
   "cell_type": "code",
   "execution_count": 3,
   "metadata": {},
   "outputs": [
    {
     "data": {
      "text/html": [
       "<a class=\"ProveItLink\" href=\"../__pv_it/demonstrations/e53c8179c993afa2c781cccbddf64cc748b9d3490/expr.ipynb\"><img src=\"data:image/png;base64,iVBORw0KGgoAAAANSUhEUgAAAD4AAAAXBAMAAAChTOGJAAAAMFBMVEX///9UVFSqqqoiIiJERESY\n",
       "mJgyMjIQEBBmZmbc3NyIiIi6urp2dnbu7u7MzMwAAABs7OAJAAAAAXRSTlMAQObYZgAAAQNJREFU\n",
       "KM9jeMsAAXwXGLCC01CaZ8OQlefs6arFJ799AtsHPPK8pQwcDnjkOf4yMC/AkL95ASbP7sBw/wGG\n",
       "/HoFBoZtCSD5+wcY9DHdzwaU52kAyyswiDFNQJdnUYCoOc3AsoDVkIcBmzz/BLD7pdZNXA2U50x/\n",
       "tfBqyAYGrlVnGbiOLgPKv18lixx+8xXYHJgMGJwYLjP0MLAD5RdfWIEsf/8C4wG+Ar4PDCxr/4Lt\n",
       "9mIIQ5FnYFzAV8BawMDY/QEsX83QiCkP0r8Sov8vQxHDOqg81wOG+SD5D0D7p1+QYpgewMBgy+qA\n",
       "5CNef4Fwoyk/GHjOdDLwHF1cxMDw8AwDIQAAtVVguOyuaEEAAAAASUVORK5CYII=\n",
       "\" style=\"display:inline;vertical-align:middle;\" /></a>"
      ],
      "text/plain": [
       "|a|_{mod b}"
      ]
     },
     "execution_count": 3,
     "metadata": {},
     "output_type": "execute_result"
    }
   ],
   "source": [
    "# basic ModAbs expression\n",
    "ModAbs(a, b)"
   ]
  },
  {
   "cell_type": "markdown",
   "metadata": {},
   "source": [
    "## Common Attributes of a Mod Expression <a id='common_attributes'></a>"
   ]
  },
  {
   "cell_type": "markdown",
   "metadata": {},
   "source": [
    "<font size=4>Let's define a simple Mod expression, $(a+b) \\thinspace\\text{mod}\\thinspace c$, and look at some of its attributes.</font>"
   ]
  },
  {
   "cell_type": "code",
   "execution_count": 4,
   "metadata": {},
   "outputs": [
    {
     "data": {
      "text/html": [
       "<strong id=\"a_plus_b_mod_c\">a_plus_b_mod_c:</strong> <a class=\"ProveItLink\" href=\"../__pv_it/demonstrations/ac3e9be7fc8b20c3063b6c6ba1cf4fca04bc90ad0/expr.ipynb\"><img src=\"data:image/png;base64,iVBORw0KGgoAAAANSUhEUgAAAH0AAAAUBAMAAABSVS+EAAAAMFBMVEX///9UVFTMzMx2dna6uroQ\n",
       "EBCqqqqIiIgiIiJmZmYyMjJERETu7u6YmJjc3NwAAAC+aOQFAAAAAXRSTlMAQObYZgAAAdRJREFU\n",
       "OMuNlL9Lw0AUx79tNdg2TYuL4BQHUVwsOESFQhbRQdBBBEUhs4LGKoi4VAQXl0LBjlZcpIN0EUFR\n",
       "iiIoHdJ/QIlbR/FXRUV9jSfmIAd5wx3v3n3u3fu+XAClCm9bgMguRl1OxWODfJQBAraIn3t2OYde\n",
       "OyJZOqQg4hUXH8u6I5L5O8cNGjRhAS6+xfbix8o0XPnha/Di+50idB/8WqOeXH6G5/dWd4AQK61n\n",
       "qmvJHF7XIWvLdOSllma8tqrijOYhO/LA8fJ72bIR+xNw21Tqemwc3TaOIU8i9MvXjGgBW7R7FuES\n",
       "x0ufiJuQMow/Aj4Q/MIm0KsSw/TfRMDABBD+REuDCxWLB9PFYoJWCrCSCLJL4QR4gvIYfKXGJCkg\n",
       "OzxhZMQ3l2CpXH5q/5jxz58CdeIlwuKlXpPxzc6d6f504iKvf7yK3TKaMjzv5M9afzxhZKSfZaBd\n",
       "sjleJ03+9WM8pqh+PVJi9VMSGBgAomZsI8TlD1Sj1Ltw0s0HH9GpYh/KBMJ1p/4EblSMkP5t6fsV\n",
       "vn/5VEMFJkrHd+v8S2LwLankBqj/N6n0S6Kx3ndrir5fx67hw/j3I5ddjuaHx7koIH6/nFVEgajt\n",
       "ixf+v+780D/ooIk0XlLx/gAAAABJRU5ErkJggg==\n",
       "\" style=\"display:inline;vertical-align:middle;\" /></a><br>"
      ],
      "text/plain": [
       "a_plus_b_mod_c: (a + b) mod  c"
      ]
     },
     "execution_count": 4,
     "metadata": {},
     "output_type": "execute_result"
    }
   ],
   "source": [
    "a_plus_b_mod_c = Mod(Add(a, b), c)"
   ]
  },
  {
   "cell_type": "code",
   "execution_count": 5,
   "metadata": {},
   "outputs": [
    {
     "data": {
      "text/html": [
       "<strong id=\"a_mod_b\">a_mod_b:</strong> <a class=\"ProveItLink\" href=\"../__pv_it/demonstrations/3664952b8b4e15e66ac79bcc9574265acdf3a5a60/expr.ipynb\"><img src=\"data:image/png;base64,iVBORw0KGgoAAAANSUhEUgAAAEoAAAAPBAMAAACxa0SdAAAAMFBMVEX///9UVFSqqqrMzMwiIiJE\n",
       "RESYmJgyMjK6urru7u4QEBCIiIh2dnZmZmbc3NwAAABRgo0vAAAAAXRSTlMAQObYZgAAASpJREFU\n",
       "KM9jYMAJJncyEAHUf4CpqUvwquKDqGKoxW8YVNUnYlRx/CRGFY8D2Po7t1eCaPO11hs3dG9tYOA8\n",
       "vaeBgWHO6c0QVezSexUYGLoesH8Ac1038P1uYFvAYPKAIZqBcxEDD0TV/ErOfwycyxh4A8DcKAaG\n",
       "rwzM/xh8GBjsDVgLYH7Un8Dwm4H3JwPLBjA3nIHhDwPfZ2agn/gPzD/AwAlRdZ2B8w8DVwDDfAMw\n",
       "N5QBqInvMxNQkj/AfgNMVS0DxycGoCZ9BmRVYLMuzIer+gaybr4CgzjTAyRVDGuB7mpgD4C56wfD\n",
       "rAQG1g1sjjwIs5g/M1gZMNQw8K1g4P0NFhZjiGVg4JTe/HAHiGf4X1j1l8DxLwf47pwFhtfcY5t/\n",
       "CYDE5+5JYAAAOd9i2ZXvXdYAAAAASUVORK5CYII=\n",
       "\" style=\"display:inline;vertical-align:middle;\" /></a><br>"
      ],
      "text/plain": [
       "a_mod_b: a mod  b"
      ]
     },
     "execution_count": 5,
     "metadata": {},
     "output_type": "execute_result"
    }
   ],
   "source": [
    "a_mod_b = Mod(a, b)"
   ]
  },
  {
   "cell_type": "markdown",
   "metadata": {},
   "source": [
    "<font size=4>We can use the `expr_info()` method to look at the how our mod expression is structured:</font>"
   ]
  },
  {
   "cell_type": "code",
   "execution_count": 6,
   "metadata": {},
   "outputs": [
    {
     "data": {
      "text/html": [
       "<table><tr><th>&nbsp;</th><th>core type</th><th>sub-expressions</th><th>expression</th></tr>\n",
       "<tr><td>0</td><td>Operation</td><td>operator:&nbsp;1<br>operands:&nbsp;2<br></td><td><a class=\"ProveItLink\" href=\"../__pv_it/demonstrations/ac3e9be7fc8b20c3063b6c6ba1cf4fca04bc90ad0/expr.ipynb\"><img src=\"data:image/png;base64,iVBORw0KGgoAAAANSUhEUgAAAH0AAAAUBAMAAABSVS+EAAAAMFBMVEX///9UVFTMzMx2dna6uroQ\n",
       "EBCqqqqIiIgiIiJmZmYyMjJERETu7u6YmJjc3NwAAAC+aOQFAAAAAXRSTlMAQObYZgAAAdRJREFU\n",
       "OMuNlL9Lw0AUx79tNdg2TYuL4BQHUVwsOESFQhbRQdBBBEUhs4LGKoi4VAQXl0LBjlZcpIN0EUFR\n",
       "iiIoHdJ/QIlbR/FXRUV9jSfmIAd5wx3v3n3u3fu+XAClCm9bgMguRl1OxWODfJQBAraIn3t2OYde\n",
       "OyJZOqQg4hUXH8u6I5L5O8cNGjRhAS6+xfbix8o0XPnha/Di+50idB/8WqOeXH6G5/dWd4AQK61n\n",
       "qmvJHF7XIWvLdOSllma8tqrijOYhO/LA8fJ72bIR+xNw21Tqemwc3TaOIU8i9MvXjGgBW7R7FuES\n",
       "x0ufiJuQMow/Aj4Q/MIm0KsSw/TfRMDABBD+REuDCxWLB9PFYoJWCrCSCLJL4QR4gvIYfKXGJCkg\n",
       "OzxhZMQ3l2CpXH5q/5jxz58CdeIlwuKlXpPxzc6d6f504iKvf7yK3TKaMjzv5M9afzxhZKSfZaBd\n",
       "sjleJ03+9WM8pqh+PVJi9VMSGBgAomZsI8TlD1Sj1Ltw0s0HH9GpYh/KBMJ1p/4EblSMkP5t6fsV\n",
       "vn/5VEMFJkrHd+v8S2LwLankBqj/N6n0S6Kx3ndrir5fx67hw/j3I5ddjuaHx7koIH6/nFVEgajt\n",
       "ixf+v+780D/ooIk0XlLx/gAAAABJRU5ErkJggg==\n",
       "\" style=\"display:inline;vertical-align:middle;\" /></a></td></tr>\n",
       "<tr><td>1</td><td>Literal</td><td></td><td><a class=\"ProveItLink\" href=\"../__pv_it/common/584ce6c009529e10d649e470b8d428ecf704e77c0/expr.ipynb\"><img src=\"data:image/png;base64,iVBORw0KGgoAAAANSUhEUgAAACcAAAAPBAMAAACVcstdAAAAMFBMVEX////u7u6qqqp2dnaYmJjc\n",
       "3NwiIiJERES6urpUVFSIiIhmZmYQEBAyMjLMzMwAAADmVDTDAAAAAXRSTlMAQObYZgAAAK1JREFU\n",
       "GNNjYEAHco0MmED3BxZBVmyCDCQJvj39auWCruUNDIxWixsYGISt1oFUpi9g/dXAcoDhWQBDFQPj\n",
       "IQZmkGANA8N3Br6vDMkMDO8fsF+A2F7LwPCZgfUf3ycGBn4DeQMGRpBgOQPDL6AgE5DNX/B+AYog\n",
       "WOUGeVRBhtNAMxt4CyBmggX5/jG8ecBwmYH1BAP3LwaGl//nqf+ZYPvNgHWzNdCd0ibr/kwAABBY\n",
       "Q9Pe1GUnAAAAAElFTkSuQmCC\n",
       "\" style=\"display:inline;vertical-align:middle;\" /></a></td></tr>\n",
       "<tr><td>2</td><td>ExprTuple</td><td>3, 4</td><td><a class=\"ProveItLink\" href=\"../__pv_it/demonstrations/be1ccc4a31e8db9ac7ec5e6c2fa59d52e920457c0/expr.ipynb\"><img src=\"data:image/png;base64,iVBORw0KGgoAAAANSUhEUgAAAEsAAAAUBAMAAAA3uN37AAAAMFBMVEX///9UVFTMzMx2dna6uroQ\n",
       "EBCqqqqIiIgiIiJmZmYyMjJERETu7u6YmJjc3NwAAAC+aOQFAAAAAXRSTlMAQObYZgAAAUdJREFU\n",
       "KM9jYOC7wEAA5IGI01gkeLY2IPEYHwCJddgM4JqArGkBAwMvsgADWwGE5k9AFjVnYOB4gE2Z/wFk\n",
       "0aMMDC8YsCmzQHWCA0MlkOKbPD0GVdnC8mkwC8sVGJgnMOwFMl0fcH1AUcbz68B5iGNeJHAvYOBd\n",
       "wNAGFIxl4NyAooztDwM/hNXMwJjAwNbAEMLAwPmHgQMkyLxq1YqoVasEgCILGM4bgFQBpYCA6QNI\n",
       "GesGhvMKKKYBg80fHCSsG6DKgJYCNeaj+pT/AsN8cJBAzGRpAHnhfAKDFNsDFGUOQPdC1TMkgLxg\n",
       "ycDAXcDbyIxiGuMF7gkM54FxxCnAcFKBgdOAwQPoU/GihyWoATLdFhg/PUCW8V2gCJcCjsgCgxwY\n",
       "4wR61PMgx6UBUtQz7MOVGnkKkBIS1mQJBrwwBjfIXYQT+T0GBgBwWVEV+E/QAQAAAABJRU5ErkJg\n",
       "gg==\n",
       "\" style=\"display:inline;vertical-align:middle;\" /></a></td></tr>\n",
       "<tr><td>3</td><td>Operation</td><td>operator:&nbsp;5<br>operands:&nbsp;6<br></td><td><a class=\"ProveItLink\" href=\"../__pv_it/demonstrations/31db57b390e7fb44a97fc02d8ab242f679e7ecd00/expr.ipynb\"><img src=\"data:image/png;base64,iVBORw0KGgoAAAANSUhEUgAAAC0AAAAQBAMAAABw0OvaAAAAMFBMVEX///9UVFSqqqrMzMwiIiJE\n",
       "RESYmJgyMjK6urru7u4QEBCIiIh2dnZmZmbc3NwAAABRgo0vAAAAAXRSTlMAQObYZgAAAKFJREFU\n",
       "GNNjYMAAnFEODFgB+wVUPtMGCM2vgF28fwJ28SNgku/O7ZWo4oW7LwHJrgfsH1DEOb9PmP+AgXMZ\n",
       "A28AijjTTwb+DQy8PxlYQHye8vKS5eXlAgwMvAUM8w8wcAUwzDdAUQ90fr8CSEof1T38CQz3JzDM\n",
       "V2AQZ3qAIt4AtJOBdQObIw+KesYEVmBAcEpvfrgD1Z23j2H3L0YAI4ULAI70LzJJYuzOAAAAAElF\n",
       "TkSuQmCC\n",
       "\" style=\"display:inline;vertical-align:middle;\" /></a></td></tr>\n",
       "<tr><td>4</td><td>Variable</td><td></td><td><a class=\"ProveItLink\" href=\"../../../__pv_it/common/ceef4280a2f1cc604b455b54e735507244cc62cd0/expr.ipynb\"><img src=\"data:image/png;base64,iVBORw0KGgoAAAANSUhEUgAAAAkAAAAJBAMAAAASvxsjAAAALVBMVEX///+YmJgQEBDu7u5mZmZU\n",
       "VFQyMjJERESqqqoiIiLc3NzMzMyIiIh2dnYAAABuqkWTAAAAAXRSTlMAQObYZgAAADZJREFUCNdj\n",
       "YGC4c2YDA8PKBvYEBoa5DKwNDCyPGYCAqQBE2l0AkXwCDAxA8QAGE6DKu4IHGABBiAr2Gi8OxgAA\n",
       "AABJRU5ErkJggg==\n",
       "\" style=\"display:inline;vertical-align:middle;\" /></a></td></tr>\n",
       "<tr><td>5</td><td>Literal</td><td></td><td><a class=\"ProveItLink\" href=\"../../addition/__pv_it/common/4b7effaab3619a1c2c38fe2dee8601df8ec714590/expr.ipynb\"><img src=\"data:image/png;base64,iVBORw0KGgoAAAANSUhEUgAAAA4AAAAPBAMAAAAmOuNHAAAAHlBMVEX////u7u5UVFQQEBAiIiIy\n",
       "MjJ2dnaIiIiqqqoAAABCN83zAAAAAXRSTlMAQObYZgAAABxJREFUCNdjYECAdlLo1NBQ59DQIJL1\n",
       "AYEgEAMABwsItInrGUMAAAAASUVORK5CYII=\n",
       "\" style=\"display:inline;vertical-align:middle;\" /></a></td></tr>\n",
       "<tr><td>6</td><td>ExprTuple</td><td>7, 8</td><td><a class=\"ProveItLink\" href=\"../__pv_it/demonstrations/0e00cf301f391b9db3f5ff72911e8e2539c94fb00/expr.ipynb\"><img src=\"data:image/png;base64,iVBORw0KGgoAAAANSUhEUgAAACkAAAAUBAMAAADiqgm2AAAAMFBMVEX///9UVFTMzMx2dna6uroQ\n",
       "EBCqqqqIiIgiIiJmZmYyMjJERETu7u6YmJjc3NwAAAC+aOQFAAAAAXRSTlMAQObYZgAAAQNJREFU\n",
       "GNNjYOC7wIAK8kDEaSQBnq0NDAyMD4CsdcjquCYApRYwMPBOQBblTwAS5gwMHA+QRf0PAImjDAwv\n",
       "UGyyABvjwFAJpPgmT4+BiC4sn8bAwDyBYS+Q7fqA6wPEDb8OnH/AwLuAoQ3IjmXg3AAWZfvDwF/A\n",
       "wNbAEMLAwPmHgaMALMq5gOG8AQPTB5Ao6waG8wow5/ongESBJgCl86HOvcAw/wADSwPItvMJDFJs\n",
       "YGfzOwDtANlmycDAXcDbyMxwHuhRxgvcQK9yGjB4AN0gXvSwhIGjB8iabgsyXQHJxzkwxgnk0DGA\n",
       "MYChw7APFrYFMMYCpFDnhSnlBpmJEUP3GBgAwQA85Uf1dX8AAAAASUVORK5CYII=\n",
       "\" style=\"display:inline;vertical-align:middle;\" /></a></td></tr>\n",
       "<tr><td>7</td><td>Variable</td><td></td><td><a class=\"ProveItLink\" href=\"../../../__pv_it/common/c06c606ec12678c58933ac85412ecadc2ae28be60/expr.ipynb\"><img src=\"data:image/png;base64,iVBORw0KGgoAAAANSUhEUgAAAAsAAAAJBAMAAAAWSsseAAAAMFBMVEX///9UVFSqqqrMzMwiIiJE\n",
       "RESYmJgyMjK6urru7u4QEBCIiIh2dnZmZmbc3NwAAABRgo0vAAAAAXRSTlMAQObYZgAAAEdJREFU\n",
       "CNdjYOC7c3slAwND1wP2DwwMnMsYeAMYGHh/MrBsYGDgCmCYb8DAMP8Agz5QxXwFBnGmBwysG9gc\n",
       "eYAqpTc/3MEAAP4BD32xAXDqAAAAAElFTkSuQmCC\n",
       "\" style=\"display:inline;vertical-align:middle;\" /></a></td></tr>\n",
       "<tr><td>8</td><td>Variable</td><td></td><td><a class=\"ProveItLink\" href=\"../../../__pv_it/common/195236b98c6c564a75b5dbada74b173bc52d5c3e0/expr.ipynb\"><img src=\"data:image/png;base64,iVBORw0KGgoAAAANSUhEUgAAAAkAAAAOBAMAAAAPuiubAAAALVBMVEX///+YmJjc3NyIiIhUVFR2\n",
       "dna6urqqqqpmZmYyMjIiIiIQEBBERETu7u4AAAALjtrwAAAAAXRSTlMAQObYZgAAAE9JREFUCNdj\n",
       "4D29gAEIOBtAJF8BiMy7ACKjQATDFON2BgbelxfuKTCwv2XgM2DgmMBwLwCkPK+AgU+Aoe8CA18C\n",
       "70YGBhYBHqARvM2BDAwAqXgQspq5HJAAAAAASUVORK5CYII=\n",
       "\" style=\"display:inline;vertical-align:middle;\" /></a></td></tr>\n",
       "</table>\n"
      ],
      "text/plain": [
       "0. (a + b) mod  c\n",
       "   core type: Operation\n",
       "   operator: 1\n",
       "   operands: 2\n",
       "1. mod \n",
       "   core type: Literal\n",
       "   sub-expressions: \n",
       "2. (a + b, c)\n",
       "   core type: ExprTuple\n",
       "   sub-expressions: 3, 4\n",
       "3. a + b\n",
       "   core type: Operation\n",
       "   operator: 5\n",
       "   operands: 6\n",
       "4. c\n",
       "   core type: Variable\n",
       "   sub-expressions: \n",
       "5. +\n",
       "   core type: Literal\n",
       "   sub-expressions: \n",
       "6. (a, b)\n",
       "   core type: ExprTuple\n",
       "   sub-expressions: 7, 8\n",
       "7. a\n",
       "   core type: Variable\n",
       "   sub-expressions: \n",
       "8. b\n",
       "   core type: Variable\n",
       "   sub-expressions: "
      ]
     },
     "execution_count": 6,
     "metadata": {},
     "output_type": "execute_result"
    }
   ],
   "source": [
    "a_plus_b_mod_c.expr_info()"
   ]
  },
  {
   "cell_type": "markdown",
   "metadata": {},
   "source": [
    "<font size=4>The operator for a Mod expression is simply the `mod` string:</font>"
   ]
  },
  {
   "cell_type": "code",
   "execution_count": 7,
   "metadata": {},
   "outputs": [
    {
     "data": {
      "text/html": [
       "<a class=\"ProveItLink\" href=\"../__pv_it/common/584ce6c009529e10d649e470b8d428ecf704e77c0/expr.ipynb\"><img src=\"data:image/png;base64,iVBORw0KGgoAAAANSUhEUgAAACcAAAAPBAMAAACVcstdAAAAMFBMVEX////u7u6qqqp2dnaYmJjc\n",
       "3NwiIiJERES6urpUVFSIiIhmZmYQEBAyMjLMzMwAAADmVDTDAAAAAXRSTlMAQObYZgAAAK1JREFU\n",
       "GNNjYEAHco0MmED3BxZBVmyCDCQJvj39auWCruUNDIxWixsYGISt1oFUpi9g/dXAcoDhWQBDFQPj\n",
       "IQZmkGANA8N3Br6vDMkMDO8fsF+A2F7LwPCZgfUf3ycGBn4DeQMGRpBgOQPDL6AgE5DNX/B+AYog\n",
       "WOUGeVRBhtNAMxt4CyBmggX5/jG8ecBwmYH1BAP3LwaGl//nqf+ZYPvNgHWzNdCd0ibr/kwAABBY\n",
       "Q9Pe1GUnAAAAAElFTkSuQmCC\n",
       "\" style=\"display:inline;vertical-align:middle;\" /></a>"
      ],
      "text/plain": [
       "mod "
      ]
     },
     "execution_count": 7,
     "metadata": {},
     "output_type": "execute_result"
    }
   ],
   "source": [
    "a_plus_b_mod_c.operator"
   ]
  },
  {
   "cell_type": "markdown",
   "metadata": {},
   "source": [
    "<font size=4>We can get a tuple of the operands and a list of the variables. We can also get a separate list of the *free* variables in the expression (of course, in this expression, all the variables are also free variables):</font>"
   ]
  },
  {
   "cell_type": "code",
   "execution_count": 8,
   "metadata": {},
   "outputs": [
    {
     "data": {
      "text/html": [
       "<a class=\"ProveItLink\" href=\"../__pv_it/demonstrations/be1ccc4a31e8db9ac7ec5e6c2fa59d52e920457c0/expr.ipynb\"><img src=\"data:image/png;base64,iVBORw0KGgoAAAANSUhEUgAAAEsAAAAUBAMAAAA3uN37AAAAMFBMVEX///9UVFTMzMx2dna6uroQ\n",
       "EBCqqqqIiIgiIiJmZmYyMjJERETu7u6YmJjc3NwAAAC+aOQFAAAAAXRSTlMAQObYZgAAAUdJREFU\n",
       "KM9jYOC7wEAA5IGI01gkeLY2IPEYHwCJddgM4JqArGkBAwMvsgADWwGE5k9AFjVnYOB4gE2Z/wFk\n",
       "0aMMDC8YsCmzQHWCA0MlkOKbPD0GVdnC8mkwC8sVGJgnMOwFMl0fcH1AUcbz68B5iGNeJHAvYOBd\n",
       "wNAGFIxl4NyAooztDwM/hNXMwJjAwNbAEMLAwPmHgQMkyLxq1YqoVasEgCILGM4bgFQBpYCA6QNI\n",
       "GesGhvMKKKYBg80fHCSsG6DKgJYCNeaj+pT/AsN8cJBAzGRpAHnhfAKDFNsDFGUOQPdC1TMkgLxg\n",
       "ycDAXcDbyIxiGuMF7gkM54FxxCnAcFKBgdOAwQPoU/GihyWoATLdFhg/PUCW8V2gCJcCjsgCgxwY\n",
       "4wR61PMgx6UBUtQz7MOVGnkKkBIS1mQJBrwwBjfIXYQT+T0GBgBwWVEV+E/QAQAAAABJRU5ErkJg\n",
       "gg==\n",
       "\" style=\"display:inline;vertical-align:middle;\" /></a>"
      ],
      "text/plain": [
       "(a + b, c)"
      ]
     },
     "execution_count": 8,
     "metadata": {},
     "output_type": "execute_result"
    }
   ],
   "source": [
    "a_plus_b_mod_c.operands"
   ]
  },
  {
   "cell_type": "code",
   "execution_count": 9,
   "metadata": {},
   "outputs": [
    {
     "data": {
      "text/plain": [
       "{a, b, c}"
      ]
     },
     "execution_count": 9,
     "metadata": {},
     "output_type": "execute_result"
    }
   ],
   "source": [
    "from proveit import used_vars, free_vars\n",
    "used_vars(a_plus_b_mod_c)"
   ]
  },
  {
   "cell_type": "code",
   "execution_count": 10,
   "metadata": {},
   "outputs": [
    {
     "data": {
      "text/plain": [
       "{a, b}"
      ]
     },
     "execution_count": 10,
     "metadata": {},
     "output_type": "execute_result"
    }
   ],
   "source": [
    "free_vars(a_mod_b, err_inclusively=True)"
   ]
  },
  {
   "cell_type": "markdown",
   "metadata": {},
   "source": [
    "<font size=4>We can replace selected variables in our expression with other variables:</font>"
   ]
  },
  {
   "cell_type": "code",
   "execution_count": 11,
   "metadata": {},
   "outputs": [
    {
     "data": {
      "text/html": [
       "<a class=\"ProveItLink\" href=\"../__pv_it/demonstrations/7e98ccfebf91e48ac3dc5f3dbdcfd0f2a8ad0b930/expr.ipynb\"><img src=\"data:image/png;base64,iVBORw0KGgoAAAANSUhEUgAAAH0AAAAUBAMAAABSVS+EAAAAMFBMVEX///9UVFTMzMx2dna6uroQ\n",
       "EBCqqqqIiIgiIiJmZmYyMjJERETu7u6YmJjc3NwAAAC+aOQFAAAAAXRSTlMAQObYZgAAAeZJREFU\n",
       "OMuNlL1LI0EYxp9sdHGzX8FGsNorDg8bFyxWBWEb0UKIRRBycLC1B7oXBRGbiGBjIwhaGrHRFJIm\n",
       "HJx4hBPBYLH5B+5YO8tDTyNnUN/90OyAC/sWM7wz83s/ntlZQGnifZtHnP2ajjiX3sDVtqIHpFoJ\n",
       "SLlx/Ny/iHPsj6rFnMhQOKkcxysRXg4S5+r+xNvohDNiG4jwPUGVI2B4P9x5Ev46mI5Y3g+XMRPw\n",
       "K14/28V7lt9f3gHSoaaDhYFv9uSqCclYpJBnRjHkjWUNpzRPuGKb4aX/dceF/Crgpq20THkGn1x8\n",
       "hzSLdMBfW2IZG3T6C4Qyw/NtqDb4UsjXgEdwT1gHhjRiQv3XkbKQB4Q2enTy05XK4edKJQsvnKOD\n",
       "+xvyP4BbKDccNanqtCH5vODXTHx3FY7J5Kfrz1kd/gRoEc8TplaH7JAnjIzqp4gLYHi1ib06ukos\n",
       "7+ffcl55x6vZ08+x0M+7DG+SJh39Qh4F6t/MVMP+KQksjAKiLa+lmfyppkh3J+hRnrvBRw0HUPIQ\n",
       "Wn7/WTQ0TJH+fcWrJfb+dsc9FbRg8cNz79e77NiDrmyPkk6N8eJd1lsf/m2/fb9s/4FdIIHJ7MOt\n",
       "RxwjCY+fcRvx75exy7gN0U3Ex/6//iShXwDaDY0sORvc6QAAAABJRU5ErkJggg==\n",
       "\" style=\"display:inline;vertical-align:middle;\" /></a>"
      ],
      "text/plain": [
       "(d + b) mod  c"
      ]
     },
     "execution_count": 11,
     "metadata": {},
     "output_type": "execute_result"
    }
   ],
   "source": [
    "a_plus_b_mod_c.replaced({a:d})"
   ]
  },
  {
   "cell_type": "markdown",
   "metadata": {},
   "source": [
    "<font size=4>And if needed we can reach down further into the expression to extract and manipulate specific pieces of the expression:</font>"
   ]
  },
  {
   "cell_type": "code",
   "execution_count": 12,
   "metadata": {},
   "outputs": [
    {
     "data": {
      "text/html": [
       "<strong id=\"new\">new:</strong> <a class=\"ProveItLink\" href=\"../__pv_it/demonstrations/7480b0c914a8cb74961ae23a22a3a9f9426acc780/expr.ipynb\"><img src=\"data:image/png;base64,iVBORw0KGgoAAAANSUhEUgAAAC0AAAAQBAMAAABw0OvaAAAAMFBMVEX///9UVFSYmJiIiIjc3Nwy\n",
       "MjIiIiJ2dnbu7u66urqqqqpmZmYQEBBERETMzMwAAAAYOWz6AAAAAXRSTlMAQObYZgAAALJJREFU\n",
       "GNNjYGBg4LuzgQEJcNxJgLL4FyCLM7DClM1vAFNcBmjKyhhQxKHKGBiiUcUhyli22/1CFQ803gUk\n",
       "5zjw/kAR5/ja0O/AwHGIgTsARZzrBwO/AQP3Dwa2AiCPPTQ07GhoqAADSFl/AQPPBYb+CSjqgc6f\n",
       "vwAktZ4BRZxfgWF/A0P/AgZRLgcU8QlAOxl4DZgS2VHUMyrwAgOCQ9jO0RLVnZuLUIIL7i90wNGA\n",
       "YAMAtLgoW5kcbt8AAAAASUVORK5CYII=\n",
       "\" style=\"display:inline;vertical-align:middle;\" /></a><br>"
      ],
      "text/plain": [
       "new: d + b"
      ]
     },
     "execution_count": 12,
     "metadata": {},
     "output_type": "execute_result"
    }
   ],
   "source": [
    "new = a_plus_b_mod_c.operands[0].replaced({a:d})"
   ]
  },
  {
   "cell_type": "markdown",
   "metadata": {},
   "source": [
    "## Axioms <a id='axioms'></a>"
   ]
  },
  {
   "cell_type": "markdown",
   "metadata": {},
   "source": [
    "<font size=4>The ``axioms`` for modular arithmetic …</font>"
   ]
  },
  {
   "cell_type": "markdown",
   "metadata": {},
   "source": [
    "## Demonstrations <a id='further_demonstrations'></a>"
   ]
  },
  {
   "cell_type": "markdown",
   "metadata": {},
   "source": [
    "<a id='demo01'></a><font size=4>1. TBA.<br><br>\n",
    "We begin with some simple expressions ….</font>"
   ]
  },
  {
   "cell_type": "markdown",
   "metadata": {},
   "source": [
    "<a id='demo02'></a><font size=4><br>2. TBA.<br><br>\n",
    "</font>"
   ]
  },
  {
   "cell_type": "markdown",
   "metadata": {},
   "source": [
    "<a id='demo03'></a><font size=4><br>3. TBA.<br><br>\n",
    "</font>"
   ]
  },
  {
   "cell_type": "markdown",
   "metadata": {},
   "source": [
    "## Misc Testing <a id='misc_testing'></a>"
   ]
  },
  {
   "cell_type": "markdown",
   "metadata": {},
   "source": [
    "<font size=4>Some temporary testing while the `modular` theory and demonstrations page are developed (this material can be deleted later once the demonstrations page is more established).</font>"
   ]
  },
  {
   "cell_type": "markdown",
   "metadata": {},
   "source": [
    "<font size=4>Testing `Mod.deduce_in_number_set()` method for constants and variables.</font>"
   ]
  },
  {
   "cell_type": "code",
   "execution_count": 13,
   "metadata": {},
   "outputs": [],
   "source": [
    "from proveit.logic import InSet, NotEquals\n",
    "from proveit.numbers import zero, two, three, Integer, Natural, NaturalPos, Real"
   ]
  },
  {
   "cell_type": "code",
   "execution_count": 14,
   "metadata": {},
   "outputs": [
    {
     "data": {
      "text/html": [
       "<strong id=\"three_mod_two\">three_mod_two:</strong> <a class=\"ProveItLink\" href=\"../__pv_it/demonstrations/ddcbd89ece9da34c771d0082c9863d50dea70a700/expr.ipynb\"><img src=\"data:image/png;base64,iVBORw0KGgoAAAANSUhEUgAAAEoAAAAPBAMAAACxa0SdAAAAMFBMVEX///9UVFTMzMzu7u4yMjIQ\n",
       "EBC6uroiIiKIiIiYmJhmZmaqqqpERER2dnbc3NwAAACDMjhQAAAAAXRSTlMAQObYZgAAAT9JREFU\n",
       "KM9jYMAFmNUMkHhv757GqorbPwFMW605xMDAt4Bh/wSsyt6DVTELMNxPYOD4zcBfgFUVP1gVlwED\n",
       "awADWxgDvwMeVawFDIz/QAwcNkJUsXxmYPwEsrkWxGNyXdQhwdZxjIHBtuMaUPBuh34CVDn7Z6Dz\n",
       "ry+GsE8wvG9jmMrAVMfA08BgugHkaAjIvwAiW8FcngAG/gMM+g/YLzAwfWI4AvMjEBSCSdZgsCoH\n",
       "Bv4LDO8V9DcwMPxl/svAYA9VxbUAaOEDBp7fYFUHGPgbgKr2AyX/MP1AqOoC+eQzmiqQWb+YEaq4\n",
       "FzC8Y2A9APYDQhXrAgambww+cHfpMjD0MXBOgIYXRJW+AlMQA8sFhqcJDOsbQMJ8tXcXAuMma9Ux\n",
       "cHjJf9Q+H8jrX8vw6u4yYHitnaEfCA7V////FwAAvR5iGPVMA48AAAAASUVORK5CYII=\n",
       "\" style=\"display:inline;vertical-align:middle;\" /></a><br>"
      ],
      "text/plain": [
       "three_mod_two: 3 mod  2"
      ]
     },
     "execution_count": 14,
     "metadata": {},
     "output_type": "execute_result"
    }
   ],
   "source": [
    "three_mod_two = Mod(three, two)"
   ]
  },
  {
   "cell_type": "code",
   "execution_count": 15,
   "metadata": {},
   "outputs": [
    {
     "data": {
      "text/html": [
       "<strong id=\"a_mod_b\">a_mod_b:</strong> <a class=\"ProveItLink\" href=\"../__pv_it/demonstrations/3664952b8b4e15e66ac79bcc9574265acdf3a5a60/expr.ipynb\"><img src=\"data:image/png;base64,iVBORw0KGgoAAAANSUhEUgAAAEoAAAAPBAMAAACxa0SdAAAAMFBMVEX///9UVFSqqqrMzMwiIiJE\n",
       "RESYmJgyMjK6urru7u4QEBCIiIh2dnZmZmbc3NwAAABRgo0vAAAAAXRSTlMAQObYZgAAASpJREFU\n",
       "KM9jYMAJJncyEAHUf4CpqUvwquKDqGKoxW8YVNUnYlRx/CRGFY8D2Po7t1eCaPO11hs3dG9tYOA8\n",
       "vaeBgWHO6c0QVezSexUYGLoesH8Ac1038P1uYFvAYPKAIZqBcxEDD0TV/ErOfwycyxh4A8DcKAaG\n",
       "rwzM/xh8GBjsDVgLYH7Un8Dwm4H3JwPLBjA3nIHhDwPfZ2agn/gPzD/AwAlRdZ2B8w8DVwDDfAMw\n",
       "N5QBqInvMxNQkj/AfgNMVS0DxycGoCZ9BmRVYLMuzIer+gaybr4CgzjTAyRVDGuB7mpgD4C56wfD\n",
       "rAQG1g1sjjwIs5g/M1gZMNQw8K1g4P0NFhZjiGVg4JTe/HAHiGf4X1j1l8DxLwf47pwFhtfcY5t/\n",
       "CYDE5+5JYAAAOd9i2ZXvXdYAAAAASUVORK5CYII=\n",
       "\" style=\"display:inline;vertical-align:middle;\" /></a><br>"
      ],
      "text/plain": [
       "a_mod_b: a mod  b"
      ]
     },
     "execution_count": 15,
     "metadata": {},
     "output_type": "execute_result"
    }
   ],
   "source": [
    "a_mod_b = Mod(a, b)"
   ]
  },
  {
   "cell_type": "markdown",
   "metadata": {},
   "source": [
    "<font size=4>Testing `Mod.deduce_in_interval()` method.</font>"
   ]
  },
  {
   "cell_type": "code",
   "execution_count": 16,
   "metadata": {},
   "outputs": [
    {
     "data": {
      "text/html": [
       "<span style=\"font-size:20px;\"> <a class=\"ProveItLink\" href=\"../__pv_it/demonstrations/0fd5c80bb717580ba0fbbb6346a425a6df0439030/proof.ipynb\" style=\"text-decoration: none\">&nbsp;&#x22A2;&nbsp;&nbsp;</a><a class=\"ProveItLink\" href=\"../__pv_it/demonstrations/442b2fb4ac446cac04d4a0a9c18cf7fda2f60ccd0/expr.ipynb\"><img src=\"data:image/png;base64,iVBORw0KGgoAAAANSUhEUgAAAM8AAAAXBAMAAABewgYuAAAAMFBMVEX///9UVFQyMjIQEBAiIiKY\n",
       "mJhmZmaqqqpERETc3NyIiIi6urp2dnbu7u7MzMwAAADJdJlBAAAAAXRSTlMAQObYZgAAAn1JREFU\n",
       "SMfVlj9oE1Ecx78mOez9eUmRIiqVhA7iIFi04FDaRnGpCgZEJ6GxYJBiIKC0OqWCYKmDhzoK1j9T\n",
       "kbYguIlB26JthtNJJw9dXORSETPYEN+7u+T+vVwTcfE3vN/v7rj3ud/fd/gOSxp6CxEu8u/HNa/2\n",
       "PJtgN9ftq/W2OORAiwfKkld7RB62AA/Kt9oFCRW6rJ3XeSCSm9H5IIybIDGLYqZNkJIGIgUyygO9\n",
       "h/I7CLrCwrZsgqQqEukOQGeA1zxQHjjsB5HepAOSB5FIhYOEm8ePNUE3gKLGAQ0ASTXg0ZgDorJF\n",
       "6OKzmsujDeBVgQM6qCGph4PIqfBi+KC5Qkd+UdAcv+pOa3zQGwskLufDQbub1rYUxE3A4IPkTfBB\n",
       "Y43QPVkKBU07NaRDpB4ZJS4o1t0CFMnaoOhQAPTJyXf8UB8VZn2jdR0SupytSZ8pehOEnjnWRyq6\n",
       "qgHQIs23cinPTNHx6LluFkORVwyQsmjlUTfzKFHjgSJ0r3fYYdr9To4oc6bxmX7QJP3msBxFpxGr\n",
       "BUBdFDQKQ2X2RFsNGy9BUsOqTsjw+oiBTuKh+V6s4AbFCoQNyc8peyE/LND98mpPMHSLrj56kbvN\n",
       "9N3h+b1nqTX/TIO08tjc3BoBZNdLF4isPdKtErOXo3bD1us/A6ALI/syrslgDdcq9uMqdYWkcRlR\n",
       "E3TCnvNvXSOo82PCByI19OIrDGCWmqwYoGT9+/X/C1AFeyiI5nqnXLFA57jnUeegcR6IeSRaHskl\n",
       "2X/E/d0JO0iXBftiASIDGTRH4hA17tEcfpm65m+Y7S3+GSTdq4P/DI583BAGrt/JoryqQll5egQY\n",
       "qdfx38kft7DoKgwybyIAAAAASUVORK5CYII=\n",
       "\" style=\"display:inline;vertical-align:middle;\" /></a></span>"
      ],
      "text/plain": [
       "|- |3|_{mod 2} in {0...|2| - 1}"
      ]
     },
     "execution_count": 16,
     "metadata": {},
     "output_type": "execute_result"
    }
   ],
   "source": [
    "three_mod_two.deduce_in_interval()"
   ]
  },
  {
   "cell_type": "code",
   "execution_count": 17,
   "metadata": {},
   "outputs": [
    {
     "data": {
      "text/html": [
       "<span style=\"font-size:20px;\"><a class=\"ProveItLink\" href=\"../__pv_it/theorems/bd2f502b953df5e1834a5d80011e6b2e7aa85c890/expr.ipynb\"><img src=\"data:image/png;base64,iVBORw0KGgoAAAANSUhEUgAAADMAAAAPBAMAAAC7N+rPAAAAMFBMVEX///9UVFSqqqrMzMwiIiJE\n",
       "RESYmJgyMjK6urru7u4QEBCIiIh2dnZmZmbc3NwAAABRgo0vAAAAAXRSTlMAQObYZgAAAMpJREFU\n",
       "GNNjYMAAKUvjy5cmMGAFBRMZTFMnYJUKeMPAyieAIpTq4lIAleJ9UIAsY7oToYv3QQCQwXfn9kqQ\n",
       "AGclkoGMHCADux6wfwAJMD5AklK5DnQG5zIGXpBmBlaEM165uCsAad6fDCwbQAJW5UAAdUYvK8jt\n",
       "XAEM8w1AAk+RHM/bDDJo/gEGfbAAF7K/IrNBUgoM4kwgF/BuQJIy5AWaxLqBzZEHLOKEFFA8CsJA\n",
       "F0pvfrgDLDIxYgIseIsZQusVkIOjJ8QFOXgAnyk4ZcxDaYcAAAAASUVORK5CYII=\n",
       "\" style=\"display:inline;vertical-align:middle;\" /></a>, <a class=\"ProveItLink\" href=\"../__pv_it/theorems/01066498eeade39164943c7fc785297aa9d0bb160/expr.ipynb\"><img src=\"data:image/png;base64,iVBORw0KGgoAAAANSUhEUgAAADEAAAAPBAMAAAC/wjryAAAAMFBMVEX////MzMyYmJjc3NyIiIhU\n",
       "VFR2dna6urqqqqpmZmYyMjIiIiIQEBBERETu7u4AAACIO4EmAAAAAXRSTlMAQObYZgAAANJJREFU\n",
       "GNNj4LuzgQEFaJ+9v+qsAojFNQFVhmHBUwZZ3QdABn8DmswFMwZe5gAgo/4BVER39+4FUBlOAxAr\n",
       "Gyoh64fQw2lwAchY6jIDxOdbh2QaKzvQNL5fD94bAPmsBkgy3bOAVnD8Y+B3APJ5ES6w2b0L5CrO\n",
       "BQzvE4C0zCoggLqgkvcBxDv1IBW2SK7mLAQ5gF+BYT5IBQ+yf+6pgGQK+A6B+JwOSDKinAJANynw\n",
       "QoJnB1LosDUEAl09JQki8PT6A1iILmS4ux45zMpuQ0IHCgBwWkIYWdoBRwAAAABJRU5ErkJggg==\n",
       "\" style=\"display:inline;vertical-align:middle;\" /></a>, <a class=\"ProveItLink\" href=\"../__pv_it/theorems/283f8ea23d0d350af3b3dd8e1825fdbdee185e340/expr.ipynb\"><img src=\"data:image/png;base64,iVBORw0KGgoAAAANSUhEUgAAAC8AAAAUCAMAAAAqRJTwAAAAOVBMVEX///8kJCQNDQ0oKCjMzMyY\n",
       "mJjc3NyIiIhUVFR2dna6urqqqqpmZmYyMjIiIiIQEBBERETu7u4AAABpMeEWAAAAAXRSTlMAQObY\n",
       "ZgAAAN5JREFUKM+1UksWwyAItK1/RcX7H7aCTZ4mpn1ZlAXBZJwhA0Jch8PVWyw5LeEapstGOdlL\n",
       "iEu89cMBQmNOmusalvRlOKjMGqzo67JPK4dDsZQDI136SS+q7czUCVhj4qmlMtJjjR1vqAZsSW8+\n",
       "AMfrSXkzQldHD0n43hRVl/QNHzu+XYvAgm6CSzvPaOiHRf3B06Jnufrxp6GqalXcPeX+H7n/xa5S\n",
       "2C1FqNrGiFlNdHCgH+dlG7TMG+HPC5JoHzKZgNG4mV3AeeDojJkmPkSI4lYA3oIH91d64b99fAMh\n",
       "pgkdaBmRwQAAAABJRU5ErkJggg==\n",
       "\" style=\"display:inline;vertical-align:middle;\" /></a> <a class=\"ProveItLink\" href=\"../__pv_it/demonstrations/200b5dbadaf29ae4f3472ffe36677f3d1f29fe430/proof.ipynb\" style=\"text-decoration: none\">&nbsp;&#x22A2;&nbsp;&nbsp;</a><a class=\"ProveItLink\" href=\"../__pv_it/theorems/ff1c35b46892b0dc15960fbbae668edfbae0dc450/expr.ipynb\"><img src=\"data:image/png;base64,iVBORw0KGgoAAAANSUhEUgAAAKUAAAAVBAMAAADVzzOcAAAAMFBMVEX///9UVFTMzMx2dna6uroQ\n",
       "EBCqqqqIiIgiIiJmZmYyMjJERETu7u6YmJjc3NwAAAC+aOQFAAAAAXRSTlMAQObYZgAAArlJREFU\n",
       "OMutlU1oE0EUx/9NYpqP2U3xUlAs60EUL91bbKWQi+ih0CBFrCjsUVTsNi1I8RIRRKpIIGDBi/Hj\n",
       "0iISD6V+YFmUgm0PGxAvHjTePNb0y49YfTOzu9k0beLBB5k3b97kt2/em30L/BcJWH4FtbTz1jf9\n",
       "3jRc3uJrn9ZqRjDlqstcLzV5/IVVoZZO09C1xccxyfeaa7CZrFhr489+2oSpSiam6LfYyIwZ7E7N\n",
       "yAnFCoCSa5Ynh7nO/2Y2MD8AvZ6RMJzYgUi5NTNUpYGl5ZLy/OaEg3kGDFsuc8CSzHngK1ozg1k+\n",
       "PpalnbW80L4BA4ZrHHFyHEthnKctP3mWew4PHRwxj1+lpCRHyfs2mZHMWOc4/bVHzBct7+zsBzFN\n",
       "l/ngyl3BDObwmlaOlWPLwnXLVDdSShqHypgFO4WgZNpP2CbwUcy7avlUV4Bul8l+WnaZM5UCblCm\n",
       "ziFaFK4Z4BcCm7hOm7V4wa07JW0DOC/mRR+T4uzWHSNcRcLkzHAWg0C0ioh83EtgBWolQHVO6LYO\n",
       "Jpn3wHhIIp1npkm2OXu0AFvnzMAyZ+4qwpZ39xUoILUSJlSiSMdymFMIrTtM1Rcnr9GwWyO6ngOG\n",
       "w6SzU0DD8DNFnDnbY/7mR8EJMU/7mLT9s3uXEiXctzgzlOU1sg3ska+zw8QQRZWKFd18rmK+5NZo\n",
       "coc7n0hRWZwa0Q2Jm8q1YC3OQAUHNDyCOojohljehxc05sU8YtSYEYOdhF0QRlspnhPMqM5PxDoz\n",
       "X8b4tv1/dl9c6+j9rqv5HvIu9GXWOvj6wijvXQ8Fiu3t95gsOaIhclsWbLLPufNai3fTJywrdeio\n",
       "925KuVTX6/CuVQ/x94zGHiJFr2dSD8HcPzK36XUyfrOOyXtd057sl7kdmEp9n4+XW3w7fKI0fDsm\n",
       "fN+Ods1Vn4C/xCXKK6Gg65MAAAAASUVORK5CYII=\n",
       "\" style=\"display:inline;vertical-align:middle;\" /></a></span>"
      ],
      "text/plain": [
       "{a in Real, b in Real, b != 0} |- (a mod  b) in [0,|b|)"
      ]
     },
     "execution_count": 17,
     "metadata": {},
     "output_type": "execute_result"
    }
   ],
   "source": [
    "a_mod_b.deduce_in_interval(\n",
    "    assumptions=[InSet(a, Real), InSet(b, Real), NotEquals(b, zero)])"
   ]
  },
  {
   "cell_type": "markdown",
   "metadata": {},
   "source": [
    "<font size=4>Testing `Mod.deduce_in_number_set()` method.</font>"
   ]
  },
  {
   "cell_type": "code",
   "execution_count": 18,
   "metadata": {},
   "outputs": [
    {
     "data": {
      "text/html": [
       "<span style=\"font-size:20px;\"> <a class=\"ProveItLink\" href=\"../__pv_it/demonstrations/7383ecbc02bd128a3c8814558a9dd8c20a7554900/proof.ipynb\" style=\"text-decoration: none\">&nbsp;&#x22A2;&nbsp;&nbsp;</a><a class=\"ProveItLink\" href=\"../__pv_it/demonstrations/5c5f5396a89dd8543ecc481ee2b92edb38202cef0/expr.ipynb\"><img src=\"data:image/png;base64,iVBORw0KGgoAAAANSUhEUgAAAIAAAAAUBAMAAAC35yitAAAAMFBMVEX///9UVFTMzMx2dna6uroQ\n",
       "EBCqqqqIiIgiIiJmZmYyMjJERETu7u6YmJjc3NwAAAC+aOQFAAAAAXRSTlMAQObYZgAAAjNJREFU\n",
       "OMuNlEFo01AYx/9Nm65tXpPhxYOoBcVrAh0ymWBABAXBTHYQJ9ijt/WgFC+yUZThQTInyJhgEXeZ\n",
       "4IIMp3NqQTzYHdxFBEHoEGG7WNzcRFasL99LE1ea0g+SfHnfe7983/99L4C6gjBjh8u+H6+GzVoG\n",
       "vmWftw3F50x6fph+BhxoCcZubs1emOFffwrVxkj7NGoEYL04YaLSEut5mUFJAdI2erahjbYFaARI\n",
       "liFbiOZ3x5IGork+IFFFbAhaqQNAHkXkL5glxtIvxm972FXJBtZoNKQEAUjVEdkAHtOQtBAIu6Rw\n",
       "/zpVWaTYzN3C3lhhHnhX4LmxbEE3vamJOnCMvEqwPp3/yu+v+aX2PxDTFlC7ik+Q7kDJ433O1U7Y\n",
       "OQP4Qt5/m7HMHH6/Rf41mqlY0Bzo1YQBaQOLzV3gNsavK+Q5AWBPxO2NIfLlSwQoQTNQy+g5YJNt\n",
       "Ah89QJKLBZ3KvDjLTTSCfRICoFahbBPAgZbngBG+bkf6HQBIKAKoQQYpN5vjbglavQXgZvCHBYC4\n",
       "jR/AafItH3A0arqvXETZIZUDgGxD+oUnvgaHgBtNEe8316u9q7w2y92c9IrXBwKgZ6TzSBn4buIh\n",
       "dZ9azE7wTp0UO5XzAEp5CWy/Q4mdmZongQ7+PPJ2MDpXxHr2Hu+Dyc/6IBXbaDQ44JE4ofvOCsCp\n",
       "xeFXl4dtt5W7M+Ydl9iAaGW/newuAa2Hybc3XQIqHX4oXVnohzr80naVGqLVP+kZmAt9/nsHAAAA\n",
       "AElFTkSuQmCC\n",
       "\" style=\"display:inline;vertical-align:middle;\" /></a></span>"
      ],
      "text/plain": [
       "|- (3 mod  2) in Integer"
      ]
     },
     "execution_count": 18,
     "metadata": {},
     "output_type": "execute_result"
    }
   ],
   "source": [
    "# deduce that int mod int is in the Integer set\n",
    "three_mod_two.deduce_in_number_set(Integer)"
   ]
  },
  {
   "cell_type": "code",
   "execution_count": 19,
   "metadata": {},
   "outputs": [
    {
     "data": {
      "text/html": [
       "<span style=\"font-size:20px;\"><a class=\"ProveItLink\" href=\"../__pv_it/theorems/719e316770207ff1eb898e95cd0798b2c84bdd920/expr.ipynb\"><img src=\"data:image/png;base64,iVBORw0KGgoAAAANSUhEUgAAADIAAAAPBAMAAABU9YHxAAAAMFBMVEX///9UVFSqqqrMzMwiIiJE\n",
       "RESYmJgyMjK6urru7u4QEBCIiIh2dnZmZmbc3NwAAABRgo0vAAAAAXRSTlMAQObYZgAAANNJREFU\n",
       "GNNjYMAAHF6/ypdUJWBKMHDHGjAUsGKRYOA9wMCjcAJZhC3ExR0sM4HhIfMFJAnm6AlwdiQriM13\n",
       "5/ZKEG86QoJtQxqI6nrA/gFEyyG0T+UMAJKcyxh4QTRDAEJGmPEByL6fDCwbQNYsLwcCiIcu9IAo\n",
       "rgCG+QYg6xB62EH6TzLMP8CgD+YvgMsc4mkAcecrMIgzgYy9DZPgE3gItGQBA+sGNkcekACLAlSG\n",
       "dUIkA6dYAAOn9OaHO0ACnKKdEJmu8KWh65ciBwLHUUjoQAEAnkQxLZ74G3AAAAAASUVORK5CYII=\n",
       "\" style=\"display:inline;vertical-align:middle;\" /></a>, <a class=\"ProveItLink\" href=\"../__pv_it/theorems/293703b09260efeaf786b20411e0d5b74e871d190/expr.ipynb\"><img src=\"data:image/png;base64,iVBORw0KGgoAAAANSUhEUgAAADAAAAAPBAMAAABQAFHMAAAAMFBMVEX////MzMyYmJjc3NyIiIhU\n",
       "VFR2dna6urqqqqpmZmYyMjIiIiIQEBBERETu7u4AAACIO4EmAAAAAXRSTlMAQObYZgAAAN1JREFU\n",
       "GNNj4LuzgQEFsO/5s+r0GgUGBq4JqBIsNwUYFvACGfwNqBKcCQxsDelARv0DiADT7d27wBIPGEwZ\n",
       "QaZkQ8QZrzyAa7rHC2IvdZkB4rxCiDM5KAFJvl8P3hsA6WCELW/5LgBJjn8M/A5A+gJCIpAVpJJz\n",
       "AcP7BKAVp1YBAcQjE8pAFNAb9UAHMyN0cIF05zHwKzDMB9l7AC6RwVYA4vIX8B0CcafAxJkDTIEW\n",
       "HGBgVeAFhwk3LAB4H9xj4Au6wMA3JQnM54utg0jU3Dp79/xZpABkz4UECRQAAOtdPTTXl4KaAAAA\n",
       "AElFTkSuQmCC\n",
       "\" style=\"display:inline;vertical-align:middle;\" /></a>, <a class=\"ProveItLink\" href=\"../__pv_it/theorems/283f8ea23d0d350af3b3dd8e1825fdbdee185e340/expr.ipynb\"><img src=\"data:image/png;base64,iVBORw0KGgoAAAANSUhEUgAAAC8AAAAUCAMAAAAqRJTwAAAAOVBMVEX///8kJCQNDQ0oKCjMzMyY\n",
       "mJjc3NyIiIhUVFR2dna6urqqqqpmZmYyMjIiIiIQEBBERETu7u4AAABpMeEWAAAAAXRSTlMAQObY\n",
       "ZgAAAN5JREFUKM+1UksWwyAItK1/RcX7H7aCTZ4mpn1ZlAXBZJwhA0Jch8PVWyw5LeEapstGOdlL\n",
       "iEu89cMBQmNOmusalvRlOKjMGqzo67JPK4dDsZQDI136SS+q7czUCVhj4qmlMtJjjR1vqAZsSW8+\n",
       "AMfrSXkzQldHD0n43hRVl/QNHzu+XYvAgm6CSzvPaOiHRf3B06Jnufrxp6GqalXcPeX+H7n/xa5S\n",
       "2C1FqNrGiFlNdHCgH+dlG7TMG+HPC5JoHzKZgNG4mV3AeeDojJkmPkSI4lYA3oIH91d64b99fAMh\n",
       "pgkdaBmRwQAAAABJRU5ErkJggg==\n",
       "\" style=\"display:inline;vertical-align:middle;\" /></a> <a class=\"ProveItLink\" href=\"../__pv_it/demonstrations/c5e096694ca34296a23553bfa7521256f64fa4750/proof.ipynb\" style=\"text-decoration: none\">&nbsp;&#x22A2;&nbsp;&nbsp;</a><a class=\"ProveItLink\" href=\"../__pv_it/theorems/96767099e09acab8a4dffd04b921c009451771990/expr.ipynb\"><img src=\"data:image/png;base64,iVBORw0KGgoAAAANSUhEUgAAAH8AAAAUBAMAAABWoP+5AAAAMFBMVEX///9UVFTMzMx2dna6uroQ\n",
       "EBCqqqqIiIgiIiJmZmYyMjJERETu7u6YmJjc3NwAAAC+aOQFAAAAAXRSTlMAQObYZgAAAiVJREFU\n",
       "OMudlE1oE0EUx/9m15JkZ6fBS0FR4kH8uDQHsVQRchEreMihiK0WcxQ9dE29lF4qgki9FIMUxENR\n",
       "e6iI7KXU2iqr4qHxsL0JeklvHiVtGsFaffNmdxMDSYoPZubxZuf33rz3ZgG5hpby4WKkdpVbffS5\n",
       "9Xnc2NSfXKbpUNPewLXhuakRUl61AUgNwDyNUtPexEMk4QL2dBsAAsAWDcP5d6sInDKyQLzcGWBu\n",
       "0yRy2mS/vj+l1ieQqeO0fkdngDGp5uesxxa9cNPyVmgeV1ctzlxVlhNDR2855yeyEH1jFNzHvoIG\n",
       "JHvG80A/66XoPL7YqoBvaZwrJ3+w6YEja1k7h2NlLEJcgqEB/kuxA3xlvV4M4XIB75E2goTLtgXg\n",
       "F2I7uAv0pq3ZsAqjHmrAddbdCLAnzbBBILGNuE7xG2ADshKjrHdn/AyEBjyG2CAkp2D4BQlbL5iZ\n",
       "ALDXhZ9m2zLIlax00blut9cJAfMwtwKArEcwa1F6PXUFcjWKRgBHMO1HgN8qSAywngvPG/mT5JuT\n",
       "6OexX7d6AMAQ+csm3TAHm/i0FiZxJgSsyxTwiItjOfYdox5BrIIjaTyDHESixuaDWNKtRxLPB4AV\n",
       "y8P7bxyY6Cms31a2w3/23aymTv/MyGI/9cHq2UI1peyrY6rgT3XxDugXal6ZW16oLnVq5QYRk3o1\n",
       "z+hWDqX9Y2qQ5scUybtdAkr/80PZlaN2v7TGq7bI1V/pUplCq4GUNQAAAABJRU5ErkJggg==\n",
       "\" style=\"display:inline;vertical-align:middle;\" /></a></span>"
      ],
      "text/plain": [
       "{a in Integer, b in Integer, b != 0} |- (a mod  b) in Integer"
      ]
     },
     "execution_count": 19,
     "metadata": {},
     "output_type": "execute_result"
    }
   ],
   "source": [
    "# deduce that int mod int is in the Integer set\n",
    "a_mod_b.deduce_in_number_set(\n",
    "    Integer,\n",
    "    assumptions=[InSet(a, Integer), InSet(b, Integer), NotEquals(b, zero)])"
   ]
  },
  {
   "cell_type": "code",
   "execution_count": 20,
   "metadata": {},
   "outputs": [
    {
     "data": {
      "text/html": [
       "<span style=\"font-size:20px;\"> <a class=\"ProveItLink\" href=\"../__pv_it/demonstrations/c6ae678858062486b695ae81293026febcb8d61f0/proof.ipynb\" style=\"text-decoration: none\">&nbsp;&#x22A2;&nbsp;&nbsp;</a><a class=\"ProveItLink\" href=\"../__pv_it/demonstrations/dba3aa6bd3e2b102c565efa394c327fcf435285d0/expr.ipynb\"><img src=\"data:image/png;base64,iVBORw0KGgoAAAANSUhEUgAAAIEAAAAUBAMAAABYJUOTAAAAMFBMVEX///9UVFTMzMx2dna6uroQ\n",
       "EBCqqqqIiIgiIiJmZmYyMjJERETu7u6YmJjc3NwAAAC+aOQFAAAAAXRSTlMAQObYZgAAAjNJREFU\n",
       "OMuNlE1oE0EUx/+7NbFJZj8IPXgKCaVY9JBAlVpBXfCgguAeglDw4FH04FoRkRapFErAy0pPYg+L\n",
       "igcRWaR+UK1EPTUe2rNeAl4EQSQ2idDQOPtmdxtjNuTB7Lx9b+Y3b968GUDdRKR8PBuq8WrkqM/A\n",
       "t4lXvX2Xt6hbf/ACyHT5KturZRyuG8BzqDau9g5EJQLTccJApdu5JutgvwDFxt4GtPneQRAhUUbM\n",
       "xJDV5duXvQmYwHAVe4rQnD6E2DykHTDTt30tlWj0yDspC77yd7JG7EIQki1INeCxMB2c832ZHHvm\n",
       "EW7RThfIdmB6/zXr1KwBNnmdZ+jT5MyWP3q4BUyRxmcFhLiV8whrXsKOLAvjXUttGoqJ8Speg53H\n",
       "UEA4VwC+kCaFp5rBIcXihEX6u2FQ9xLYhrwDHlI+m3L8s+Byh7dLpKWwS5DKaU4o0l/sAnWrwG+o\n",
       "NbkBaIWNAphPSNj8kyd17CkXRxCYnjSJoFaRapD7LdDkhDifqLl5KyRQsgThR0cMGJVN2oXW6iJQ\n",
       "DPZGSIjb+AmcFtF2EpSLLmUy5lKudwmY5isaSTfIwyhwO8hkIiysNG/HXTojZTOoByLINYxl8Qhq\n",
       "EYkm1fbCxD2esSUxcTEgPPF4jojtzP0VsuXa6St1/eifgro0xQ9n/dhMXfcqqt1uc8JDMfHDSpn6\n",
       "8TpfnzlU1YMJC67OyTelf+6AYg9I+O9mhfJ+QEKl3wszkESv1O+V69xtVL7+AjhKnFSJxjo6AAAA\n",
       "AElFTkSuQmCC\n",
       "\" style=\"display:inline;vertical-align:middle;\" /></a></span>"
      ],
      "text/plain": [
       "|- (3 mod  2) in Natural"
      ]
     },
     "execution_count": 20,
     "metadata": {},
     "output_type": "execute_result"
    }
   ],
   "source": [
    "# deduce that int mod int is in the Natural set\n",
    "three_mod_two.deduce_in_number_set(Natural)"
   ]
  },
  {
   "cell_type": "code",
   "execution_count": 21,
   "metadata": {},
   "outputs": [
    {
     "data": {
      "text/html": [
       "<span style=\"font-size:20px;\"> <a class=\"ProveItLink\" href=\"../__pv_it/demonstrations/d8b1f9559341937827f62ec553bcebebde4a224a0/proof.ipynb\" style=\"text-decoration: none\">&nbsp;&#x22A2;&nbsp;&nbsp;</a><a class=\"ProveItLink\" href=\"../__pv_it/demonstrations/4fc941538d1d172eac28130df8330420b7be4ef30/expr.ipynb\"><img src=\"data:image/png;base64,iVBORw0KGgoAAAANSUhEUgAAAIEAAAAUBAMAAABYJUOTAAAAMFBMVEX///9UVFTMzMx2dna6uroQ\n",
       "EBCqqqqIiIgiIiJmZmYyMjJERETu7u6YmJjc3NwAAAC+aOQFAAAAAXRSTlMAQObYZgAAAjFJREFU\n",
       "OMuNlM9LG0EUx79JTOq6m9ngH1AiIhY9JODBWpAu7aEVCs0hCGIPOYo9uLX0UFrEIkioly2e+uMQ\n",
       "bE8idin+KNXW2J7Ug94selmQQqHQQ6pJocF08mY32abZkAfJvH2z85n3vvNmAXYAT/t8q+KGLM+3\n",
       "9oCTvrX6c+OnNOy8fAdcrJn7Orq1OEq7L4MZmKifCCOCEsFVDbu1k5lt9B5ngbCBC3mo0/WTIIKU\n",
       "RTCBgF4zZ55AZhGg1UJLEmqmASE4Dd85lIQdO06nMzZBsrj3naIeVQhCWxG+HPBGhHofV3OQLBN4\n",
       "SJXOUKxnpPuefuORBqX/vgZ86Z88td9uLQID5ClLrip8LbyKj2XBLr8SwTmdFbRwApcsrEMZRsAh\n",
       "3I4DR+T5LBdh7AVXcpaeHmg0rAJ/4D8HTykWlTP2WXB7wn9j5MlVJb+ln6b4mKSn4B0aPgC/wHL+\n",
       "PKDG9+NQbIJk8L8YuV2L3Gwlh+SsIDALcp6mN4ACJ4T4QtWM6RUCiSUIP1ynKV3jQparUIs1BMrB\n",
       "2K8QQgZ+AjdFtu5+2DwEKRk0SesqASN8R63NdHToBKYcJSXdReiQonRG4QOnH4jgz6EritdgSUgF\n",
       "6u2Zvme8Z+fFwllXVwdS7SK3oecrFOsotd89i1z5HWfzA/xwdgYnzyLljiqVSpywIBZur2Sdm7WA\n",
       "jbepclc3Z4pzda6/T/9zB8JGk4T/blbFPjVJ2G30hWnKvHdq9JVzV+ul118mm6486w23YwAAAABJ\n",
       "RU5ErkJggg==\n",
       "\" style=\"display:inline;vertical-align:middle;\" /></a></span>"
      ],
      "text/plain": [
       "|- (3 mod  2) in Real"
      ]
     },
     "execution_count": 21,
     "metadata": {},
     "output_type": "execute_result"
    }
   ],
   "source": [
    "# deduce that int mod int is in the Real set\n",
    "three_mod_two.deduce_in_number_set(Real)"
   ]
  },
  {
   "cell_type": "code",
   "execution_count": 22,
   "metadata": {},
   "outputs": [
    {
     "data": {
      "text/html": [
       "<span style=\"font-size:20px;\"><a class=\"ProveItLink\" href=\"../__pv_it/theorems/bd2f502b953df5e1834a5d80011e6b2e7aa85c890/expr.ipynb\"><img src=\"data:image/png;base64,iVBORw0KGgoAAAANSUhEUgAAADMAAAAPBAMAAAC7N+rPAAAAMFBMVEX///9UVFSqqqrMzMwiIiJE\n",
       "RESYmJgyMjK6urru7u4QEBCIiIh2dnZmZmbc3NwAAABRgo0vAAAAAXRSTlMAQObYZgAAAMpJREFU\n",
       "GNNjYMAAKUvjy5cmMGAFBRMZTFMnYJUKeMPAyieAIpTq4lIAleJ9UIAsY7oToYv3QQCQwXfn9kqQ\n",
       "AGclkoGMHCADux6wfwAJMD5AklK5DnQG5zIGXpBmBlaEM165uCsAad6fDCwbQAJW5UAAdUYvK8jt\n",
       "XAEM8w1AAk+RHM/bDDJo/gEGfbAAF7K/IrNBUgoM4kwgF/BuQJIy5AWaxLqBzZEHLOKEFFA8CsJA\n",
       "F0pvfrgDLDIxYgIseIsZQusVkIOjJ8QFOXgAnyk4ZcxDaYcAAAAASUVORK5CYII=\n",
       "\" style=\"display:inline;vertical-align:middle;\" /></a>, <a class=\"ProveItLink\" href=\"../__pv_it/theorems/01066498eeade39164943c7fc785297aa9d0bb160/expr.ipynb\"><img src=\"data:image/png;base64,iVBORw0KGgoAAAANSUhEUgAAADEAAAAPBAMAAAC/wjryAAAAMFBMVEX////MzMyYmJjc3NyIiIhU\n",
       "VFR2dna6urqqqqpmZmYyMjIiIiIQEBBERETu7u4AAACIO4EmAAAAAXRSTlMAQObYZgAAANJJREFU\n",
       "GNNj4LuzgQEFaJ+9v+qsAojFNQFVhmHBUwZZ3QdABn8DmswFMwZe5gAgo/4BVER39+4FUBlOAxAr\n",
       "Gyoh64fQw2lwAchY6jIDxOdbh2QaKzvQNL5fD94bAPmsBkgy3bOAVnD8Y+B3APJ5ES6w2b0L5CrO\n",
       "BQzvE4C0zCoggLqgkvcBxDv1IBW2SK7mLAQ5gF+BYT5IBQ+yf+6pgGQK+A6B+JwOSDKinAJANynw\n",
       "QoJnB1LosDUEAl09JQki8PT6A1iILmS4ux45zMpuQ0IHCgBwWkIYWdoBRwAAAABJRU5ErkJggg==\n",
       "\" style=\"display:inline;vertical-align:middle;\" /></a>, <a class=\"ProveItLink\" href=\"../__pv_it/theorems/283f8ea23d0d350af3b3dd8e1825fdbdee185e340/expr.ipynb\"><img src=\"data:image/png;base64,iVBORw0KGgoAAAANSUhEUgAAAC8AAAAUCAMAAAAqRJTwAAAAOVBMVEX///8kJCQNDQ0oKCjMzMyY\n",
       "mJjc3NyIiIhUVFR2dna6urqqqqpmZmYyMjIiIiIQEBBERETu7u4AAABpMeEWAAAAAXRSTlMAQObY\n",
       "ZgAAAN5JREFUKM+1UksWwyAItK1/RcX7H7aCTZ4mpn1ZlAXBZJwhA0Jch8PVWyw5LeEapstGOdlL\n",
       "iEu89cMBQmNOmusalvRlOKjMGqzo67JPK4dDsZQDI136SS+q7czUCVhj4qmlMtJjjR1vqAZsSW8+\n",
       "AMfrSXkzQldHD0n43hRVl/QNHzu+XYvAgm6CSzvPaOiHRf3B06Jnufrxp6GqalXcPeX+H7n/xa5S\n",
       "2C1FqNrGiFlNdHCgH+dlG7TMG+HPC5JoHzKZgNG4mV3AeeDojJkmPkSI4lYA3oIH91d64b99fAMh\n",
       "pgkdaBmRwQAAAABJRU5ErkJggg==\n",
       "\" style=\"display:inline;vertical-align:middle;\" /></a> <a class=\"ProveItLink\" href=\"../__pv_it/demonstrations/155c17d90c3c36ae5d3cc0aa1ac9c46bb62b70d10/proof.ipynb\" style=\"text-decoration: none\">&nbsp;&#x22A2;&nbsp;&nbsp;</a><a class=\"ProveItLink\" href=\"../__pv_it/theorems/98aff253e60bf5490a6f32e8b2cf8027f636f2df0/expr.ipynb\"><img src=\"data:image/png;base64,iVBORw0KGgoAAAANSUhEUgAAAIAAAAAUBAMAAAC35yitAAAAMFBMVEX///9UVFTMzMx2dna6uroQ\n",
       "EBCqqqqIiIgiIiJmZmYyMjJERETu7u6YmJjc3NwAAAC+aOQFAAAAAXRSTlMAQObYZgAAAh9JREFU\n",
       "OMuNlE9IFHEUx7/O5uD82ZmhS9BpPEiRB+cQbQrChEgeAj1IJBTsuaCmLYjIgxHJRpclRW+2IXUI\n",
       "kTkohn9iK4IiYvYexHgLuoSlGybVmzej/lRm19/hN4/3+70P733f7w1gVJG63l7YMa+nXvqUHo+r\n",
       "v6Jdnx8BmsK9R9mHS5vPVyJrtg7AYADUElHK+85U3ZJWlolUqgNADDDztOX2HWmGA38VaAkbA/or\n",
       "tL1PXF+KxfI2YEoFvqEx4Cyn7LLdPixkMKUBd6NSxyYvR75TQydueufvudBzt+j6u1whBjy7MwFk\n",
       "uFZ9RizBOgdEQvaG6g92PvaMmpsdwMkQC9AvIhN3YbMShMhy4rvNIID8iHCjdOEKFJ+d88AfSH/x\n",
       "AOiwtXLSBXkLpgd5hMMEES8VX9B3EFC20OKxcxH4CWNN2iDlncCBzgClDLIlTrLtJa1ExNOl5RjQ\n",
       "7COwGbAE1AggU5zpd3gJgJ5Bfz4BfBfbON4OLoHwNyACOINSsA0wq3hawREuoVkEaJ89FjHI47gc\n",
       "CgAMkQau6icamC6plIioeAJAsp4AnWR62fuZ3QykNbTZmIYxCKXGylc1aqHi8JVR4SnjTJONPurC\n",
       "scLq7cjX+u/otXWr67djjHXSO/jYXVi3ojZOdkcBsUxv5io7w2RrixsNnrKwPiTfnlfFPXNVf5iE\n",
       "lUs7eH24+APjfKgfiji9qaXW+6UJ62uK/z99SZoQqXyq9wAAAABJRU5ErkJggg==\n",
       "\" style=\"display:inline;vertical-align:middle;\" /></a></span>"
      ],
      "text/plain": [
       "{a in Real, b in Real, b != 0} |- (a mod  b) in Real"
      ]
     },
     "execution_count": 22,
     "metadata": {},
     "output_type": "execute_result"
    }
   ],
   "source": [
    "# deduce that int mod int is in the Real set\n",
    "a_mod_b.deduce_in_number_set(\n",
    "    Real,\n",
    "    assumptions=[InSet(a, Real), InSet(b, Real), NotEquals(b, zero)])"
   ]
  },
  {
   "cell_type": "code",
   "execution_count": 23,
   "metadata": {},
   "outputs": [
    {
     "name": "stdout",
     "output_type": "stream",
     "text": [
      "EXCEPTION:  Unable to prove (3 mod  2) in NaturalPos:\n",
      "'Mod.deduce_in_number_set()' not implemented for the NaturalPos set\n"
     ]
    }
   ],
   "source": [
    "# What happens if we try to deduce into an incorrect set?\n",
    "try:\n",
    "    three_mod_two.deduce_in_number_set(NaturalPos)\n",
    "except Exception as e:\n",
    "    print(\"EXCEPTION: \", e)"
   ]
  },
  {
   "cell_type": "markdown",
   "metadata": {},
   "source": [
    "<font size=4>Testing `ModAbs` methods.</font>"
   ]
  },
  {
   "cell_type": "code",
   "execution_count": 24,
   "metadata": {},
   "outputs": [
    {
     "data": {
      "text/html": [
       "<strong id=\"abs_three_mod_two\">abs_three_mod_two:</strong> <a class=\"ProveItLink\" href=\"../__pv_it/demonstrations/59d6455efab47a8be7cd8ff83f73e3971d7524600/expr.ipynb\"><img src=\"data:image/png;base64,iVBORw0KGgoAAAANSUhEUgAAAD4AAAAXBAMAAAChTOGJAAAAMFBMVEX///9UVFQyMjIQEBAiIiKY\n",
       "mJhmZmaqqqpERETc3NyIiIi6urp2dnbu7u7MzMwAAADJdJlBAAAAAXRSTlMAQObYZgAAARhJREFU\n",
       "KM9jeMsAATAaHZxGo7HIzznTjk+eM4GhPgCPPNd3Bn4HPPLc1gz8CvjsZ8BvPgMDrw9e93MeyWXA\n",
       "b/7iDfjlmW3R5XnnIvw/gYHjO7o80NMMDMfaLgDF+f9ikWdQZ2DgmcAI8jdzAwPLXwx5YJCzTOD7\n",
       "CRRnDcDmf5D8Bs7fIPFtad0gd0yyWyUbCmStWnOBYU2UOkgR+1+k+OX8zqDBUMLAUcDrwHaAwRwk\n",
       "yLIASZ73L4MMw2OG9wwMXfcvMID1H0NOH7wfGKSA8sEMDGL7we5nYE3AIg/SPx+ifw/DPoZ1UPl1\n",
       "DJwg+fdA+zltGRdwmjIw8KmX9yL56MZHVpPK/gSGM8cmMJyJci5gYP7//wMDAQAANt1lhRfg1kEA\n",
       "AAAASUVORK5CYII=\n",
       "\" style=\"display:inline;vertical-align:middle;\" /></a><br>"
      ],
      "text/plain": [
       "abs_three_mod_two: |3|_{mod 2}"
      ]
     },
     "execution_count": 24,
     "metadata": {},
     "output_type": "execute_result"
    }
   ],
   "source": [
    "abs_three_mod_two = ModAbs(three, two)"
   ]
  },
  {
   "cell_type": "code",
   "execution_count": 25,
   "metadata": {},
   "outputs": [
    {
     "data": {
      "text/html": [
       "<strong id=\"abs_a_mod_b\">abs_a_mod_b:</strong> <a class=\"ProveItLink\" href=\"../__pv_it/demonstrations/e53c8179c993afa2c781cccbddf64cc748b9d3490/expr.ipynb\"><img src=\"data:image/png;base64,iVBORw0KGgoAAAANSUhEUgAAAD4AAAAXBAMAAAChTOGJAAAAMFBMVEX///9UVFSqqqoiIiJERESY\n",
       "mJgyMjIQEBBmZmbc3NyIiIi6urp2dnbu7u7MzMwAAABs7OAJAAAAAXRSTlMAQObYZgAAAQNJREFU\n",
       "KM9jeMsAAXwXGLCC01CaZ8OQlefs6arFJ799AtsHPPK8pQwcDnjkOf4yMC/AkL95ASbP7sBw/wGG\n",
       "/HoFBoZtCSD5+wcY9DHdzwaU52kAyyswiDFNQJdnUYCoOc3AsoDVkIcBmzz/BLD7pdZNXA2U50x/\n",
       "tfBqyAYGrlVnGbiOLgPKv18lixx+8xXYHJgMGJwYLjP0MLAD5RdfWIEsf/8C4wG+Ar4PDCxr/4Lt\n",
       "9mIIQ5FnYFzAV8BawMDY/QEsX83QiCkP0r8Sov8vQxHDOqg81wOG+SD5D0D7p1+QYpgewMBgy+qA\n",
       "5CNef4Fwoyk/GHjOdDLwHF1cxMDw8AwDIQAAtVVguOyuaEEAAAAASUVORK5CYII=\n",
       "\" style=\"display:inline;vertical-align:middle;\" /></a><br>"
      ],
      "text/plain": [
       "abs_a_mod_b: |a|_{mod b}"
      ]
     },
     "execution_count": 25,
     "metadata": {},
     "output_type": "execute_result"
    }
   ],
   "source": [
    "abs_a_mod_b = ModAbs(a, b)"
   ]
  },
  {
   "cell_type": "code",
   "execution_count": 26,
   "metadata": {},
   "outputs": [
    {
     "data": {
      "text/plain": [
       "'|3|_{mod 2}'"
      ]
     },
     "execution_count": 26,
     "metadata": {},
     "output_type": "execute_result"
    }
   ],
   "source": [
    "str(abs_three_mod_two)"
   ]
  },
  {
   "cell_type": "code",
   "execution_count": 27,
   "metadata": {},
   "outputs": [
    {
     "data": {
      "text/html": [
       "<span style=\"font-size:20px;\"> <a class=\"ProveItLink\" href=\"../__pv_it/demonstrations/46bf6f36bf57527e2497dde8b28bc46ce14126020/proof.ipynb\" style=\"text-decoration: none\">&nbsp;&#x22A2;&nbsp;&nbsp;</a><a class=\"ProveItLink\" href=\"../__pv_it/demonstrations/e4bfb880b9624fe0d9e70171a8c2f7700ab6e9680/expr.ipynb\"><img src=\"data:image/png;base64,iVBORw0KGgoAAAANSUhEUgAAAGcAAAAXBAMAAADkTUwLAAAAMFBMVEX///9UVFQyMjIQEBAiIiKY\n",
       "mJhmZmaqqqpERETc3NyIiIi6urp2dnbu7u7MzMwAAADJdJlBAAAAAXRSTlMAQObYZgAAAalJREFU\n",
       "OMtjeMsAATCaKHAajSZW05wz7URq2mJvpOxkClLMmcBQH0CcphV5DEwMDSBNXN8Z+B2I05TDwHCc\n",
       "ZwNIE7c1A78Cfk2sLS5OIDqXgVPgGSwACDiPr+sCjMlxoReqidcHf0BcguthiGINgGjiPJKLX5Mk\n",
       "nMXbcAMeP4s34NXUAGcxPpCEa2K2xdB0E+EkPiMlIAAzt3EfgGjinMDA8R1D0/oCBgaejFwQkxNh\n",
       "kwIHUPQCUDH/X2yamICaTjIIgdkGMEGeAqAyZpBNzA0MLH8xNHEANXkyvJ8AYmfBBCdyCjAwJIM0\n",
       "AQMRSzyBNHkzzN8AYrMUQAV7OS4wXIwAB8S2tG4QPclulWwokLVqzQUGrqOLwArrwcHBK7EXrIfb\n",
       "Qrmj+XMbctbg/M6gwVACtILXAZjImMGavCCS3CcgyQgzP/H+ZZBheMzwnoGhC8gEBQQDTwKhTMj7\n",
       "gUEKqCmYgUGM+wNEUxgDkZpANnFCbOI+wP0Aq6Z1cJoTpOk90E+ctkDGZGDCfFRecYFADrvxkdWk\n",
       "sj+B4cyxCQw8R5eYMzDY///PQDUAAB63hZSWMTLrAAAAAElFTkSuQmCC\n",
       "\" style=\"display:inline;vertical-align:middle;\" /></a></span>"
      ],
      "text/plain": [
       "|- |3|_{mod 2} in Integer"
      ]
     },
     "execution_count": 27,
     "metadata": {},
     "output_type": "execute_result"
    }
   ],
   "source": [
    "abs_three_mod_two.deduce_in_number_set(Integer)"
   ]
  },
  {
   "cell_type": "code",
   "execution_count": 28,
   "metadata": {},
   "outputs": [
    {
     "data": {
      "text/html": [
       "<span style=\"font-size:20px;\"> <a class=\"ProveItLink\" href=\"../__pv_it/demonstrations/7566092fd254aa1686f563aaa9f6b8b4cc33ed9d0/proof.ipynb\" style=\"text-decoration: none\">&nbsp;&#x22A2;&nbsp;&nbsp;</a><a class=\"ProveItLink\" href=\"../__pv_it/demonstrations/2a690387f405a7aa8cc4c19b8b47df19de14d3230/expr.ipynb\"><img src=\"data:image/png;base64,iVBORw0KGgoAAAANSUhEUgAAAGgAAAAXBAMAAAAVRheGAAAAMFBMVEX///9UVFQyMjIQEBAiIiKY\n",
       "mJhmZmaqqqpERETc3NyIiIi6urp2dnbu7u7MzMwAAADJdJlBAAAAAXRSTlMAQObYZgAAAZxJREFU\n",
       "OMtjeMsAATCaKHAajSZW05wz7cRpYnXu+KTcCtbEmcBQH0CcTUy8AnytvSBNXN8Z+B2I08TBeYCh\n",
       "YSJIE7c1A78Cfk0RLi4KME2ZTFC/EHDei7VINmVyQDTx+uANCF5dZOcJbAQr5jySi1cT4wQkTexu\n",
       "ulDFizfg08SBFBAmLuqwSGW2RdfEOxfBfqwEBNCAOJ3QC4mnCQwc39E1AeOBgeFY2wUQewZykGe/\n",
       "AGvi/4tFEwPQFTwTGMHmMyNr4ri6AKSJuYGB5S+GJmDKYpnA9xPEZFuApIlPIA+kiTUAWzyBNG3g\n",
       "/A1muyMlI4bjjA9AireldYM0T7JbJRsKZK1ac4FhTRQokBjY/4LVXuy+AE+wDziaviNlDc7vDBoM\n",
       "JQwcBbwObAcYzEGCLFCH7WmBJCPM/MT7l0GG4THDewaGrvsXGMA2HSOYCXk/MEgBNQUzMIjtB4ce\n",
       "A2sCsZpANs2H2LSHYR92TevgNCdI03ugnzhtGRdwmjIw8KmX9xLKYTc+sppU9icwnDk2geFMlHMB\n",
       "A/P//x8YqAYAu5WI6HK2QxsAAAAASUVORK5CYII=\n",
       "\" style=\"display:inline;vertical-align:middle;\" /></a></span>"
      ],
      "text/plain": [
       "|- |3|_{mod 2} in Real"
      ]
     },
     "execution_count": 28,
     "metadata": {},
     "output_type": "execute_result"
    }
   ],
   "source": [
    "abs_three_mod_two.deduce_in_number_set(Real)"
   ]
  },
  {
   "cell_type": "code",
   "execution_count": 29,
   "metadata": {},
   "outputs": [
    {
     "name": "stdout",
     "output_type": "stream",
     "text": [
      "EXCEPTION:  Unable to prove |3|_{mod 2} in Natural:\n",
      "'ModAbs.deduce_in_number_set()' not implemented for the Natural set\n"
     ]
    }
   ],
   "source": [
    "# what happens if we try to deduce into an incorrect set?\n",
    "try:\n",
    "    abs_three_mod_two.deduce_in_number_set(Natural)\n",
    "except Exception as e:\n",
    "    print(\"EXCEPTION: \", e)"
   ]
  },
  {
   "cell_type": "code",
   "execution_count": 30,
   "metadata": {},
   "outputs": [],
   "source": [
    "%end demonstrations"
   ]
  }
 ],
 "metadata": {
  "kernelspec": {
   "display_name": "Python 3",
   "language": "python",
   "name": "python3"
  }
 },
 "nbformat": 4,
 "nbformat_minor": 0
}