{
 "cells": [
  {
   "cell_type": "markdown",
   "metadata": {},
   "source": [
    "Expression of type <a class=\"ProveItLink\" href=\"../../../../../../../doc/html/api/proveit.logic.And.html\">And</a>\n",
    "=======================\n",
    "# from the theory of <a class=\"ProveItLink\" href=\"../../../_theory_nbs_/theory.ipynb\">proveit.numbers.modular</a>"
   ]
  },
  {
   "cell_type": "code",
   "execution_count": 1,
   "metadata": {},
   "outputs": [],
   "source": [
    "import proveit\n",
    "# Automation is not needed when building an expression:\n",
    "proveit.defaults.automation = False # This will speed things up.\n",
    "proveit.defaults.inline_pngs = False # Makes files smaller.\n",
    "%load_expr # Load the stored expression as 'stored_expr'\n",
    "# import Expression classes needed to build the expression\n",
    "from proveit import N, a, b\n",
    "from proveit.logic import And, Equals, InSet, NotEquals\n",
    "from proveit.numbers import Add, Integer, Neg, one, zero"
   ]
  },
  {
   "cell_type": "code",
   "execution_count": 2,
   "metadata": {},
   "outputs": [
    {
     "data": {
      "text/html": [
       "<strong id=\"expr\">expr:</strong> <a class=\"ProveItLink\" href=\"expr.ipynb\"><img src=\"expr.png\" style=\"display:inline;vertical-align:middle;\" /></a><br>"
      ],
      "text/plain": [
       "expr: (N in Integer) and (a in Integer) and (b in Integer) and ((b - a) = (N - 1)) and (N != 0)"
      ]
     },
     "execution_count": 2,
     "metadata": {},
     "output_type": "execute_result"
    }
   ],
   "source": [
    "# build up the expression from sub-expressions\n",
    "expr = And(InSet(N, Integer), InSet(a, Integer), InSet(b, Integer), Equals(Add(b, Neg(a)), Add(N, Neg(one))), NotEquals(N, zero))"
   ]
  },
  {
   "cell_type": "code",
   "execution_count": 3,
   "metadata": {},
   "outputs": [
    {
     "name": "stdout",
     "output_type": "stream",
     "text": [
      "Passed sanity check: expr matches stored_expr\n"
     ]
    }
   ],
   "source": [
    "# check that the built expression is the same as the stored expression\n",
    "assert expr == stored_expr\n",
    "assert expr._style_id == stored_expr._style_id\n",
    "print(\"Passed sanity check: expr matches stored_expr\")"
   ]
  },
  {
   "cell_type": "code",
   "execution_count": 4,
   "metadata": {},
   "outputs": [
    {
     "name": "stdout",
     "output_type": "stream",
     "text": [
      "\\left(N \\in \\mathbb{Z}\\right) \\land \\left(a \\in \\mathbb{Z}\\right) \\land \\left(b \\in \\mathbb{Z}\\right) \\land \\left(\\left(b - a\\right) = \\left(N - 1\\right)\\right) \\land \\left(N \\neq 0\\right)\n"
     ]
    }
   ],
   "source": [
    "# Show the LaTeX representation of the expression for convenience if you need it.\n",
    "print(expr.latex())"
   ]
  },
  {
   "cell_type": "code",
   "execution_count": 5,
   "metadata": {},
   "outputs": [
    {
     "data": {
      "text/html": [
       "<table>\n",
       "<tr><th>name</th><th>description</th><th>default</th><th>current value</th><th>related methods</th></tr><tr><td>operation</td><td>'infix' or 'function' style formatting</td><td>infix</td><td>infix</td><td></td></tr>\n",
       "<tr><td>wrap_positions</td><td>position(s) at which wrapping is to occur; '2 n - 1' is after the nth operand, '2 n' is after the nth operation.</td><td>()</td><td>()</td><td>('with_wrapping_at', 'with_wrap_before_operator', 'with_wrap_after_operator', 'wrap_positions')</td></tr>\n",
       "<tr><td>justification</td><td>if any wrap positions are set, justify to the 'left', 'center', or 'right'</td><td>center</td><td>center</td><td>('with_justification',)</td></tr>\n",
       "</table>\n"
      ],
      "text/plain": [
       "style name: operation\n",
       "description: 'infix' or 'function' style formatting\n",
       "default: infix\n",
       "current value: infix\n",
       "related methods: ()\n",
       "style name: wrap_positions\n",
       "description: position(s) at which wrapping is to occur; '2 n - 1' is after the nth operand, '2 n' is after the nth operation.\n",
       "default: ()\n",
       "current value: ()\n",
       "related methods: ('with_wrapping_at', 'with_wrap_before_operator', 'with_wrap_after_operator', 'wrap_positions')\n",
       "style name: justification\n",
       "description: if any wrap positions are set, justify to the 'left', 'center', or 'right'\n",
       "default: center\n",
       "current value: center\n",
       "related methods: ('with_justification',)"
      ]
     },
     "execution_count": 5,
     "metadata": {},
     "output_type": "execute_result"
    }
   ],
   "source": [
    "expr.style_options()"
   ]
  },
  {
   "cell_type": "code",
   "execution_count": 6,
   "metadata": {},
   "outputs": [
    {
     "data": {
      "text/html": [
       "<table><tr><th>&nbsp;</th><th>core type</th><th>sub-expressions</th><th>expression</th></tr>\n",
       "<tr><td>0</td><td>Operation</td><td>operator:&nbsp;1<br>operands:&nbsp;2<br></td><td><a class=\"ProveItLink\" href=\"expr.ipynb\"><img src=\"expr.png\" style=\"display:inline;vertical-align:middle;\" /></a></td></tr>\n",
       "<tr><td>1</td><td>Literal</td><td></td><td><a class=\"ProveItLink\" href=\"../../../../../logic/booleans/conjunction/__pv_it/common/26b94b53e70b1d77b70f0d9d4236347db37731060/expr.ipynb\"><img src=\"../../../../../logic/booleans/conjunction/__pv_it/common/26b94b53e70b1d77b70f0d9d4236347db37731060/expr.png\" style=\"display:inline;vertical-align:middle;\" /></a></td></tr>\n",
       "<tr><td>2</td><td>ExprTuple</td><td>3, 4, 5, 6, 7</td><td><a class=\"ProveItLink\" href=\"../35749d9c1763285d970ee513abb44e9e64d0364d0/expr.ipynb\"><img src=\"../35749d9c1763285d970ee513abb44e9e64d0364d0/expr.png\" style=\"display:inline;vertical-align:middle;\" /></a></td></tr>\n",
       "<tr><td>3</td><td>Operation</td><td>operator:&nbsp;10<br>operands:&nbsp;8<br></td><td><a class=\"ProveItLink\" href=\"../f403c114f082ec437c26f1b843ddcf7da1b1c6590/expr.ipynb\"><img src=\"../f403c114f082ec437c26f1b843ddcf7da1b1c6590/expr.png\" style=\"display:inline;vertical-align:middle;\" /></a></td></tr>\n",
       "<tr><td>4</td><td>Operation</td><td>operator:&nbsp;10<br>operands:&nbsp;9<br></td><td><a class=\"ProveItLink\" href=\"../c8380b1bd6a816c4855607ac0e0f0c93ce47e0330/expr.ipynb\"><img src=\"../c8380b1bd6a816c4855607ac0e0f0c93ce47e0330/expr.png\" style=\"display:inline;vertical-align:middle;\" /></a></td></tr>\n",
       "<tr><td>5</td><td>Operation</td><td>operator:&nbsp;10<br>operands:&nbsp;11<br></td><td><a class=\"ProveItLink\" href=\"../2b9e9b4a95ebae8e8b778db1c976ac0b586cc19c0/expr.ipynb\"><img src=\"../2b9e9b4a95ebae8e8b778db1c976ac0b586cc19c0/expr.png\" style=\"display:inline;vertical-align:middle;\" /></a></td></tr>\n",
       "<tr><td>6</td><td>Operation</td><td>operator:&nbsp;12<br>operands:&nbsp;13<br></td><td><a class=\"ProveItLink\" href=\"../663ae197079d37b7825e2005011dc7aac82c0de60/expr.ipynb\"><img src=\"../663ae197079d37b7825e2005011dc7aac82c0de60/expr.png\" style=\"display:inline;vertical-align:middle;\" /></a></td></tr>\n",
       "<tr><td>7</td><td>Operation</td><td>operator:&nbsp;14<br>operands:&nbsp;15<br></td><td><a class=\"ProveItLink\" href=\"../ebf32ca804b0bd4fef575091a1589a64ba3b27510/expr.ipynb\"><img src=\"../ebf32ca804b0bd4fef575091a1589a64ba3b27510/expr.png\" style=\"display:inline;vertical-align:middle;\" /></a></td></tr>\n",
       "<tr><td>8</td><td>ExprTuple</td><td>25, 16</td><td><a class=\"ProveItLink\" href=\"../561dc63b41e88eda8310f0a21c8d6377b17cee140/expr.ipynb\"><img src=\"../561dc63b41e88eda8310f0a21c8d6377b17cee140/expr.png\" style=\"display:inline;vertical-align:middle;\" /></a></td></tr>\n",
       "<tr><td>9</td><td>ExprTuple</td><td>30, 16</td><td><a class=\"ProveItLink\" href=\"../5054593301ba4603397052682d5363a302c7342e0/expr.ipynb\"><img src=\"../5054593301ba4603397052682d5363a302c7342e0/expr.png\" style=\"display:inline;vertical-align:middle;\" /></a></td></tr>\n",
       "<tr><td>10</td><td>Literal</td><td></td><td><a class=\"ProveItLink\" href=\"../../../../../logic/sets/membership/__pv_it/common/7171deca84f71f47a6ec7696972d1632274a12880/expr.ipynb\"><img src=\"../../../../../logic/sets/membership/__pv_it/common/7171deca84f71f47a6ec7696972d1632274a12880/expr.png\" style=\"display:inline;vertical-align:middle;\" /></a></td></tr>\n",
       "<tr><td>11</td><td>ExprTuple</td><td>23, 16</td><td><a class=\"ProveItLink\" href=\"../32f1be457e9e1c80d62298435553380704cefe170/expr.ipynb\"><img src=\"../32f1be457e9e1c80d62298435553380704cefe170/expr.png\" style=\"display:inline;vertical-align:middle;\" /></a></td></tr>\n",
       "<tr><td>12</td><td>Literal</td><td></td><td><a class=\"ProveItLink\" href=\"../../../../../logic/equality/__pv_it/common/731dd3955b346c1320ed5c0ba7a618bcda61457d0/expr.ipynb\"><img src=\"../../../../../logic/equality/__pv_it/common/731dd3955b346c1320ed5c0ba7a618bcda61457d0/expr.png\" style=\"display:inline;vertical-align:middle;\" /></a></td></tr>\n",
       "<tr><td>13</td><td>ExprTuple</td><td>17, 18</td><td><a class=\"ProveItLink\" href=\"../a5aed32451cbac4ee11cd0cf786cfae73b3154790/expr.ipynb\"><img src=\"../a5aed32451cbac4ee11cd0cf786cfae73b3154790/expr.png\" style=\"display:inline;vertical-align:middle;\" /></a></td></tr>\n",
       "<tr><td>14</td><td>Literal</td><td></td><td><a class=\"ProveItLink\" href=\"../../../../../logic/equality/__pv_it/common/8dab0e450b6dad95cf65833220bcc832732dfd3c0/expr.ipynb\"><img src=\"../../../../../logic/equality/__pv_it/common/8dab0e450b6dad95cf65833220bcc832732dfd3c0/expr.png\" style=\"display:inline;vertical-align:middle;\" /></a></td></tr>\n",
       "<tr><td>15</td><td>ExprTuple</td><td>25, 19</td><td><a class=\"ProveItLink\" href=\"../ee2b4f355a255f3be7967c42e541741ca36549cf0/expr.ipynb\"><img src=\"../ee2b4f355a255f3be7967c42e541741ca36549cf0/expr.png\" style=\"display:inline;vertical-align:middle;\" /></a></td></tr>\n",
       "<tr><td>16</td><td>Literal</td><td></td><td><a class=\"ProveItLink\" href=\"../../../../number_sets/integers/__pv_it/common/21b035fc94b1f20bfb5161d2c7bd6eb2042cc5670/expr.ipynb\"><img src=\"../../../../number_sets/integers/__pv_it/common/21b035fc94b1f20bfb5161d2c7bd6eb2042cc5670/expr.png\" style=\"display:inline;vertical-align:middle;\" /></a></td></tr>\n",
       "<tr><td>17</td><td>Operation</td><td>operator:&nbsp;21<br>operands:&nbsp;20<br></td><td><a class=\"ProveItLink\" href=\"../8a4159d9977f14d8f9d6f3e41c366bb8d90e42370/expr.ipynb\"><img src=\"../8a4159d9977f14d8f9d6f3e41c366bb8d90e42370/expr.png\" style=\"display:inline;vertical-align:middle;\" /></a></td></tr>\n",
       "<tr><td>18</td><td>Operation</td><td>operator:&nbsp;21<br>operands:&nbsp;22<br></td><td><a class=\"ProveItLink\" href=\"../654157ba7f1256395e15978a66a518bf9a8f6b060/expr.ipynb\"><img src=\"../654157ba7f1256395e15978a66a518bf9a8f6b060/expr.png\" style=\"display:inline;vertical-align:middle;\" /></a></td></tr>\n",
       "<tr><td>19</td><td>Literal</td><td></td><td><a class=\"ProveItLink\" href=\"../../../../numerals/__pv_it/common/c35fdf7268947ca3e24174d2909dc9d0a7f3aac60/expr.ipynb\"><img src=\"../../../../numerals/__pv_it/common/c35fdf7268947ca3e24174d2909dc9d0a7f3aac60/expr.png\" style=\"display:inline;vertical-align:middle;\" /></a></td></tr>\n",
       "<tr><td>20</td><td>ExprTuple</td><td>23, 24</td><td><a class=\"ProveItLink\" href=\"../0b9bc857fb736423aa04e5d9acd5c450b9c1ebef0/expr.ipynb\"><img src=\"../0b9bc857fb736423aa04e5d9acd5c450b9c1ebef0/expr.png\" style=\"display:inline;vertical-align:middle;\" /></a></td></tr>\n",
       "<tr><td>21</td><td>Literal</td><td></td><td><a class=\"ProveItLink\" href=\"../../../../addition/__pv_it/common/1f38fe5cce441387feef296e2c0a2eac260bb4f30/expr.ipynb\"><img src=\"../../../../addition/__pv_it/common/1f38fe5cce441387feef296e2c0a2eac260bb4f30/expr.png\" style=\"display:inline;vertical-align:middle;\" /></a></td></tr>\n",
       "<tr><td>22</td><td>ExprTuple</td><td>25, 26</td><td><a class=\"ProveItLink\" href=\"../4ba08ca769000b8d7a91e08d53f65ca97ad1f58e0/expr.ipynb\"><img src=\"../4ba08ca769000b8d7a91e08d53f65ca97ad1f58e0/expr.png\" style=\"display:inline;vertical-align:middle;\" /></a></td></tr>\n",
       "<tr><td>23</td><td>Variable</td><td></td><td><a class=\"ProveItLink\" href=\"../../../../../__pv_it/common/4a5db8cc5c67969ec864bd3ea598be37cb6f5e550/expr.ipynb\"><img src=\"../../../../../__pv_it/common/4a5db8cc5c67969ec864bd3ea598be37cb6f5e550/expr.png\" style=\"display:inline;vertical-align:middle;\" /></a></td></tr>\n",
       "<tr><td>24</td><td>Operation</td><td>operator:&nbsp;28<br>operand:&nbsp;30<br></td><td><a class=\"ProveItLink\" href=\"../99a4226c0b228bbaae4ff51b57d0a4ad4931362a0/expr.ipynb\"><img src=\"../99a4226c0b228bbaae4ff51b57d0a4ad4931362a0/expr.png\" style=\"display:inline;vertical-align:middle;\" /></a></td></tr>\n",
       "<tr><td>25</td><td>Variable</td><td></td><td><a class=\"ProveItLink\" href=\"../../../../../__pv_it/common/c401de8fd84b016d9ef2a311a2de841ba60c23a50/expr.ipynb\"><img src=\"../../../../../__pv_it/common/c401de8fd84b016d9ef2a311a2de841ba60c23a50/expr.png\" style=\"display:inline;vertical-align:middle;\" /></a></td></tr>\n",
       "<tr><td>26</td><td>Operation</td><td>operator:&nbsp;28<br>operand:&nbsp;31<br></td><td><a class=\"ProveItLink\" href=\"../194689aa2092eb5e83b339e69e1c112868251dd50/expr.ipynb\"><img src=\"../194689aa2092eb5e83b339e69e1c112868251dd50/expr.png\" style=\"display:inline;vertical-align:middle;\" /></a></td></tr>\n",
       "<tr><td>27</td><td>ExprTuple</td><td>30</td><td><a class=\"ProveItLink\" href=\"../d44dc3f84a5035a3c448121a02d4b2964d58a7910/expr.ipynb\"><img src=\"../d44dc3f84a5035a3c448121a02d4b2964d58a7910/expr.png\" style=\"display:inline;vertical-align:middle;\" /></a></td></tr>\n",
       "<tr><td>28</td><td>Literal</td><td></td><td><a class=\"ProveItLink\" href=\"../../../../negation/__pv_it/common/31a69a5c76809537045e3884859f178d8d9c845c0/expr.ipynb\"><img src=\"../../../../negation/__pv_it/common/31a69a5c76809537045e3884859f178d8d9c845c0/expr.png\" style=\"display:inline;vertical-align:middle;\" /></a></td></tr>\n",
       "<tr><td>29</td><td>ExprTuple</td><td>31</td><td><a class=\"ProveItLink\" href=\"../983fb1abdb7789966ec8b7afe0d4f7ca8578c9e50/expr.ipynb\"><img src=\"../983fb1abdb7789966ec8b7afe0d4f7ca8578c9e50/expr.png\" style=\"display:inline;vertical-align:middle;\" /></a></td></tr>\n",
       "<tr><td>30</td><td>Variable</td><td></td><td><a class=\"ProveItLink\" href=\"../../../../../__pv_it/common/66c90e66682f107a881f2d666959f64e2e72ad750/expr.ipynb\"><img src=\"../../../../../__pv_it/common/66c90e66682f107a881f2d666959f64e2e72ad750/expr.png\" style=\"display:inline;vertical-align:middle;\" /></a></td></tr>\n",
       "<tr><td>31</td><td>Literal</td><td></td><td><a class=\"ProveItLink\" href=\"../../../../numerals/__pv_it/common/d278e359da0695d9652dd541d45264f93703e2e40/expr.ipynb\"><img src=\"../../../../numerals/__pv_it/common/d278e359da0695d9652dd541d45264f93703e2e40/expr.png\" style=\"display:inline;vertical-align:middle;\" /></a></td></tr>\n",
       "</table>\n"
      ],
      "text/plain": [
       "0. (N in Integer) and (a in Integer) and (b in Integer) and ((b - a) = (N - 1)) and (N != 0)\n",
       "   core type: Operation\n",
       "   operator: 1\n",
       "   operands: 2\n",
       "1. and\n",
       "   core type: Literal\n",
       "   sub-expressions: \n",
       "2. (N in Integer, a in Integer, b in Integer, (b - a) = (N - 1), N != 0)\n",
       "   core type: ExprTuple\n",
       "   sub-expressions: 3, 4, 5, 6, 7\n",
       "3. N in Integer\n",
       "   core type: Operation\n",
       "   operator: 10\n",
       "   operands: 8\n",
       "4. a in Integer\n",
       "   core type: Operation\n",
       "   operator: 10\n",
       "   operands: 9\n",
       "5. b in Integer\n",
       "   core type: Operation\n",
       "   operator: 10\n",
       "   operands: 11\n",
       "6. (b - a) = (N - 1)\n",
       "   core type: Operation\n",
       "   operator: 12\n",
       "   operands: 13\n",
       "7. N != 0\n",
       "   core type: Operation\n",
       "   operator: 14\n",
       "   operands: 15\n",
       "8. (N, Integer)\n",
       "   core type: ExprTuple\n",
       "   sub-expressions: 25, 16\n",
       "9. (a, Integer)\n",
       "   core type: ExprTuple\n",
       "   sub-expressions: 30, 16\n",
       "10. in\n",
       "    core type: Literal\n",
       "    sub-expressions: \n",
       "11. (b, Integer)\n",
       "    core type: ExprTuple\n",
       "    sub-expressions: 23, 16\n",
       "12. =\n",
       "    core type: Literal\n",
       "    sub-expressions: \n",
       "13. (b - a, N - 1)\n",
       "    core type: ExprTuple\n",
       "    sub-expressions: 17, 18\n",
       "14. !=\n",
       "    core type: Literal\n",
       "    sub-expressions: \n",
       "15. (N, 0)\n",
       "    core type: ExprTuple\n",
       "    sub-expressions: 25, 19\n",
       "16. Integer\n",
       "    core type: Literal\n",
       "    sub-expressions: \n",
       "17. b - a\n",
       "    core type: Operation\n",
       "    operator: 21\n",
       "    operands: 20\n",
       "18. N - 1\n",
       "    core type: Operation\n",
       "    operator: 21\n",
       "    operands: 22\n",
       "19. 0\n",
       "    core type: Literal\n",
       "    sub-expressions: \n",
       "20. (b, -a)\n",
       "    core type: ExprTuple\n",
       "    sub-expressions: 23, 24\n",
       "21. +\n",
       "    core type: Literal\n",
       "    sub-expressions: \n",
       "22. (N, -1)\n",
       "    core type: ExprTuple\n",
       "    sub-expressions: 25, 26\n",
       "23. b\n",
       "    core type: Variable\n",
       "    sub-expressions: \n",
       "24. -a\n",
       "    core type: Operation\n",
       "    operator: 28\n",
       "    operand: 30\n",
       "25. N\n",
       "    core type: Variable\n",
       "    sub-expressions: \n",
       "26. -1\n",
       "    core type: Operation\n",
       "    operator: 28\n",
       "    operand: 31\n",
       "27. (a)\n",
       "    core type: ExprTuple\n",
       "    sub-expressions: 30\n",
       "28. -\n",
       "    core type: Literal\n",
       "    sub-expressions: \n",
       "29. (1)\n",
       "    core type: ExprTuple\n",
       "    sub-expressions: 31\n",
       "30. a\n",
       "    core type: Variable\n",
       "    sub-expressions: \n",
       "31. 1\n",
       "    core type: Literal\n",
       "    sub-expressions: "
      ]
     },
     "execution_count": 6,
     "metadata": {},
     "output_type": "execute_result"
    }
   ],
   "source": [
    "# display the expression information\n",
    "expr.expr_info()"
   ]
  },
  {
   "cell_type": "code",
   "execution_count": null,
   "metadata": {},
   "outputs": [],
   "source": []
  }
 ],
 "metadata": {
  "kernelspec": {
   "display_name": "Python 3",
   "language": "python",
   "name": "python3"
  }
 },
 "nbformat": 4,
 "nbformat_minor": 0
}