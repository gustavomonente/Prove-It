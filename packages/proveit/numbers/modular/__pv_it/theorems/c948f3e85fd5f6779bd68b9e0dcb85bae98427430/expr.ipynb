{
 "cells": [
  {
   "cell_type": "markdown",
   "metadata": {},
   "source": [
    "Expression of type <a class=\"ProveItLink\" href=\"../../../../../../../doc/html/api/proveit.logic.And.html\">And</a>\n",
    "=======================\n",
    "# from the theory of <a class=\"ProveItLink\" href=\"../../../_theory_nbs_/theory.ipynb\">proveit.numbers.modular</a>"
   ]
  },
  {
   "cell_type": "code",
   "execution_count": 1,
   "metadata": {},
   "outputs": [],
   "source": [
    "import proveit\n",
    "# Automation is not needed when building an expression:\n",
    "proveit.defaults.automation = False # This will speed things up.\n",
    "proveit.defaults.inline_pngs = False # Makes files smaller.\n",
    "%load_expr # Load the stored expression as 'stored_expr'\n",
    "# import Expression classes needed to build the expression\n",
    "from proveit import N, a, b, c\n",
    "from proveit.logic import And, Equals, InSet, NotEquals\n",
    "from proveit.numbers import Add, Integer, Neg, one, zero"
   ]
  },
  {
   "cell_type": "code",
   "execution_count": 2,
   "metadata": {},
   "outputs": [
    {
     "data": {
      "text/html": [
       "<strong id=\"expr\">expr:</strong> <a class=\"ProveItLink\" href=\"expr.ipynb\"><img src=\"expr.png\" style=\"display:inline;vertical-align:middle;\" /></a><br>"
      ],
      "text/plain": [
       "expr: (N in Integer) and (a in Integer) and (b in Integer) and (c in Integer) and ((b - a) = (N - 1)) and (N != 0)"
      ]
     },
     "execution_count": 2,
     "metadata": {},
     "output_type": "execute_result"
    }
   ],
   "source": [
    "# build up the expression from sub-expressions\n",
    "expr = And(InSet(N, Integer), InSet(a, Integer), InSet(b, Integer), InSet(c, Integer), Equals(Add(b, Neg(a)), Add(N, Neg(one))), NotEquals(N, zero))"
   ]
  },
  {
   "cell_type": "code",
   "execution_count": 3,
   "metadata": {},
   "outputs": [
    {
     "name": "stdout",
     "output_type": "stream",
     "text": [
      "Passed sanity check: expr matches stored_expr\n"
     ]
    }
   ],
   "source": [
    "# check that the built expression is the same as the stored expression\n",
    "assert expr == stored_expr\n",
    "assert expr._style_id == stored_expr._style_id\n",
    "print(\"Passed sanity check: expr matches stored_expr\")"
   ]
  },
  {
   "cell_type": "code",
   "execution_count": 4,
   "metadata": {},
   "outputs": [
    {
     "name": "stdout",
     "output_type": "stream",
     "text": [
      "\\left(N \\in \\mathbb{Z}\\right) \\land \\left(a \\in \\mathbb{Z}\\right) \\land \\left(b \\in \\mathbb{Z}\\right) \\land \\left(c \\in \\mathbb{Z}\\right) \\land \\left(\\left(b - a\\right) = \\left(N - 1\\right)\\right) \\land \\left(N \\neq 0\\right)\n"
     ]
    }
   ],
   "source": [
    "# Show the LaTeX representation of the expression for convenience if you need it.\n",
    "print(expr.latex())"
   ]
  },
  {
   "cell_type": "code",
   "execution_count": 5,
   "metadata": {},
   "outputs": [
    {
     "data": {
      "text/html": [
       "<table><tr><th>&nbsp;</th><th>core type</th><th>sub-expressions</th><th>expression</th></tr>\n",
       "<tr><td>0</td><td>Operation</td><td>operator:&nbsp;1<br>operands:&nbsp;2<br></td><td><a class=\"ProveItLink\" href=\"expr.ipynb\"><img src=\"expr.png\" style=\"display:inline;vertical-align:middle;\" /></a></td></tr>\n",
       "<tr><td>1</td><td>Literal</td><td></td><td><a class=\"ProveItLink\" href=\"../../../../../logic/booleans/conjunction/__pv_it/common/42118ff318bd65d98b1393f64ce7c2269feef76e0/expr.ipynb\"><img src=\"../../../../../logic/booleans/conjunction/__pv_it/common/42118ff318bd65d98b1393f64ce7c2269feef76e0/expr.png\" style=\"display:inline;vertical-align:middle;\" /></a></td></tr>\n",
       "<tr><td>2</td><td>ExprTuple</td><td>3, 4, 5, 6, 7, 8</td><td><a class=\"ProveItLink\" href=\"../dced1a1cc807ad6d873dcc8f030e315e12c69d1c0/expr.ipynb\"><img src=\"../dced1a1cc807ad6d873dcc8f030e315e12c69d1c0/expr.png\" style=\"display:inline;vertical-align:middle;\" /></a></td></tr>\n",
       "<tr><td>3</td><td>Operation</td><td>operator:&nbsp;12<br>operands:&nbsp;9<br></td><td><a class=\"ProveItLink\" href=\"../6aec839997fd4d4306983f6d3ebf98008c63195f0/expr.ipynb\"><img src=\"../6aec839997fd4d4306983f6d3ebf98008c63195f0/expr.png\" style=\"display:inline;vertical-align:middle;\" /></a></td></tr>\n",
       "<tr><td>4</td><td>Operation</td><td>operator:&nbsp;12<br>operands:&nbsp;10<br></td><td><a class=\"ProveItLink\" href=\"../719e316770207ff1eb898e95cd0798b2c84bdd920/expr.ipynb\"><img src=\"../719e316770207ff1eb898e95cd0798b2c84bdd920/expr.png\" style=\"display:inline;vertical-align:middle;\" /></a></td></tr>\n",
       "<tr><td>5</td><td>Operation</td><td>operator:&nbsp;12<br>operands:&nbsp;11<br></td><td><a class=\"ProveItLink\" href=\"../293703b09260efeaf786b20411e0d5b74e871d190/expr.ipynb\"><img src=\"../293703b09260efeaf786b20411e0d5b74e871d190/expr.png\" style=\"display:inline;vertical-align:middle;\" /></a></td></tr>\n",
       "<tr><td>6</td><td>Operation</td><td>operator:&nbsp;12<br>operands:&nbsp;13<br></td><td><a class=\"ProveItLink\" href=\"../8a0ac415c7ff1efc32e3f97d918600ea7b718a510/expr.ipynb\"><img src=\"../8a0ac415c7ff1efc32e3f97d918600ea7b718a510/expr.png\" style=\"display:inline;vertical-align:middle;\" /></a></td></tr>\n",
       "<tr><td>7</td><td>Operation</td><td>operator:&nbsp;14<br>operands:&nbsp;15<br></td><td><a class=\"ProveItLink\" href=\"../adb8b78ea180de811d4c15c9ac323e7d362e87c60/expr.ipynb\"><img src=\"../adb8b78ea180de811d4c15c9ac323e7d362e87c60/expr.png\" style=\"display:inline;vertical-align:middle;\" /></a></td></tr>\n",
       "<tr><td>8</td><td>Operation</td><td>operator:&nbsp;16<br>operands:&nbsp;17<br></td><td><a class=\"ProveItLink\" href=\"../1bdd03dcae5221d73879df2cd67d53548918cf4a0/expr.ipynb\"><img src=\"../1bdd03dcae5221d73879df2cd67d53548918cf4a0/expr.png\" style=\"display:inline;vertical-align:middle;\" /></a></td></tr>\n",
       "<tr><td>9</td><td>ExprTuple</td><td>28, 19</td><td><a class=\"ProveItLink\" href=\"../330b541bd1506cbfad5e67ae68f6f7125c245f8d0/expr.ipynb\"><img src=\"../330b541bd1506cbfad5e67ae68f6f7125c245f8d0/expr.png\" style=\"display:inline;vertical-align:middle;\" /></a></td></tr>\n",
       "<tr><td>10</td><td>ExprTuple</td><td>30, 19</td><td><a class=\"ProveItLink\" href=\"../1e319c010321fff87c914a8c002ad0cd25b3fbb80/expr.ipynb\"><img src=\"../1e319c010321fff87c914a8c002ad0cd25b3fbb80/expr.png\" style=\"display:inline;vertical-align:middle;\" /></a></td></tr>\n",
       "<tr><td>11</td><td>ExprTuple</td><td>26, 19</td><td><a class=\"ProveItLink\" href=\"../598c520d10aba603069be2eded8a1dbce4a66ae00/expr.ipynb\"><img src=\"../598c520d10aba603069be2eded8a1dbce4a66ae00/expr.png\" style=\"display:inline;vertical-align:middle;\" /></a></td></tr>\n",
       "<tr><td>12</td><td>Literal</td><td></td><td><a class=\"ProveItLink\" href=\"../../../../../logic/sets/membership/__pv_it/common/477487d8796864d23d5810f83761435f25167f690/expr.ipynb\"><img src=\"../../../../../logic/sets/membership/__pv_it/common/477487d8796864d23d5810f83761435f25167f690/expr.png\" style=\"display:inline;vertical-align:middle;\" /></a></td></tr>\n",
       "<tr><td>13</td><td>ExprTuple</td><td>18, 19</td><td><a class=\"ProveItLink\" href=\"../c4481ed3aa90ff9f493f0a6bde29fee75eac70c10/expr.ipynb\"><img src=\"../c4481ed3aa90ff9f493f0a6bde29fee75eac70c10/expr.png\" style=\"display:inline;vertical-align:middle;\" /></a></td></tr>\n",
       "<tr><td>14</td><td>Literal</td><td></td><td><a class=\"ProveItLink\" href=\"../../../../../logic/equality/__pv_it/common/fb96dc12b2aa8801dda64d0132b396c63d1502bb0/expr.ipynb\"><img src=\"../../../../../logic/equality/__pv_it/common/fb96dc12b2aa8801dda64d0132b396c63d1502bb0/expr.png\" style=\"display:inline;vertical-align:middle;\" /></a></td></tr>\n",
       "<tr><td>15</td><td>ExprTuple</td><td>20, 21</td><td><a class=\"ProveItLink\" href=\"../8d5be9646bcf99b565b7a52247b9de56c5a21b510/expr.ipynb\"><img src=\"../8d5be9646bcf99b565b7a52247b9de56c5a21b510/expr.png\" style=\"display:inline;vertical-align:middle;\" /></a></td></tr>\n",
       "<tr><td>16</td><td>Literal</td><td></td><td><a class=\"ProveItLink\" href=\"../../../../../logic/equality/__pv_it/common/d96270bc9bb1bad54f773b1c04bfb343a739642c0/expr.ipynb\"><img src=\"../../../../../logic/equality/__pv_it/common/d96270bc9bb1bad54f773b1c04bfb343a739642c0/expr.png\" style=\"display:inline;vertical-align:middle;\" /></a></td></tr>\n",
       "<tr><td>17</td><td>ExprTuple</td><td>28, 22</td><td><a class=\"ProveItLink\" href=\"../877825eb1fdc03ee38893d2e658b82760fe1c6b80/expr.ipynb\"><img src=\"../877825eb1fdc03ee38893d2e658b82760fe1c6b80/expr.png\" style=\"display:inline;vertical-align:middle;\" /></a></td></tr>\n",
       "<tr><td>18</td><td>Variable</td><td></td><td><a class=\"ProveItLink\" href=\"../../../../../__pv_it/common/ceef4280a2f1cc604b455b54e735507244cc62cd0/expr.ipynb\"><img src=\"../../../../../__pv_it/common/ceef4280a2f1cc604b455b54e735507244cc62cd0/expr.png\" style=\"display:inline;vertical-align:middle;\" /></a></td></tr>\n",
       "<tr><td>19</td><td>Literal</td><td></td><td><a class=\"ProveItLink\" href=\"../../../../number_sets/integers/__pv_it/common/e6b4e90f9467053e055a4fd2f735c0bb79cb79300/expr.ipynb\"><img src=\"../../../../number_sets/integers/__pv_it/common/e6b4e90f9467053e055a4fd2f735c0bb79cb79300/expr.png\" style=\"display:inline;vertical-align:middle;\" /></a></td></tr>\n",
       "<tr><td>20</td><td>Operation</td><td>operator:&nbsp;24<br>operands:&nbsp;23<br></td><td><a class=\"ProveItLink\" href=\"../8cbca7b5dcc3a8e834655f3a22641190c39bb4af0/expr.ipynb\"><img src=\"../8cbca7b5dcc3a8e834655f3a22641190c39bb4af0/expr.png\" style=\"display:inline;vertical-align:middle;\" /></a></td></tr>\n",
       "<tr><td>21</td><td>Operation</td><td>operator:&nbsp;24<br>operands:&nbsp;25<br></td><td><a class=\"ProveItLink\" href=\"../fff46c49833284f429c830091b95c15c6ba8921d0/expr.ipynb\"><img src=\"../fff46c49833284f429c830091b95c15c6ba8921d0/expr.png\" style=\"display:inline;vertical-align:middle;\" /></a></td></tr>\n",
       "<tr><td>22</td><td>Literal</td><td></td><td><a class=\"ProveItLink\" href=\"../../../../numerals/__pv_it/common/7d0a36793ffe8d307a5c120ee5598162e8cd2db10/expr.ipynb\"><img src=\"../../../../numerals/__pv_it/common/7d0a36793ffe8d307a5c120ee5598162e8cd2db10/expr.png\" style=\"display:inline;vertical-align:middle;\" /></a></td></tr>\n",
       "<tr><td>23</td><td>ExprTuple</td><td>26, 27</td><td><a class=\"ProveItLink\" href=\"../6eb94f59f71d11729512a03bdc8701be78dcc1040/expr.ipynb\"><img src=\"../6eb94f59f71d11729512a03bdc8701be78dcc1040/expr.png\" style=\"display:inline;vertical-align:middle;\" /></a></td></tr>\n",
       "<tr><td>24</td><td>Literal</td><td></td><td><a class=\"ProveItLink\" href=\"../../../../addition/__pv_it/common/4b7effaab3619a1c2c38fe2dee8601df8ec714590/expr.ipynb\"><img src=\"../../../../addition/__pv_it/common/4b7effaab3619a1c2c38fe2dee8601df8ec714590/expr.png\" style=\"display:inline;vertical-align:middle;\" /></a></td></tr>\n",
       "<tr><td>25</td><td>ExprTuple</td><td>28, 29</td><td><a class=\"ProveItLink\" href=\"../b20b91da2fb41aa7e7cd60649397c3a8570532ec0/expr.ipynb\"><img src=\"../b20b91da2fb41aa7e7cd60649397c3a8570532ec0/expr.png\" style=\"display:inline;vertical-align:middle;\" /></a></td></tr>\n",
       "<tr><td>26</td><td>Variable</td><td></td><td><a class=\"ProveItLink\" href=\"../../../../../__pv_it/common/195236b98c6c564a75b5dbada74b173bc52d5c3e0/expr.ipynb\"><img src=\"../../../../../__pv_it/common/195236b98c6c564a75b5dbada74b173bc52d5c3e0/expr.png\" style=\"display:inline;vertical-align:middle;\" /></a></td></tr>\n",
       "<tr><td>27</td><td>Operation</td><td>operator:&nbsp;31<br>operand:&nbsp;30<br></td><td><a class=\"ProveItLink\" href=\"../6ae02a5c309099e3bdbe5d2a8598d084256fc2d10/expr.ipynb\"><img src=\"../6ae02a5c309099e3bdbe5d2a8598d084256fc2d10/expr.png\" style=\"display:inline;vertical-align:middle;\" /></a></td></tr>\n",
       "<tr><td>28</td><td>Variable</td><td></td><td><a class=\"ProveItLink\" href=\"../../../../../__pv_it/common/ec2f9d003f907f9688d46f19f6df289e52cc63ce0/expr.ipynb\"><img src=\"../../../../../__pv_it/common/ec2f9d003f907f9688d46f19f6df289e52cc63ce0/expr.png\" style=\"display:inline;vertical-align:middle;\" /></a></td></tr>\n",
       "<tr><td>29</td><td>Operation</td><td>operator:&nbsp;31<br>operand:&nbsp;32<br></td><td><a class=\"ProveItLink\" href=\"../44da79c41f096863320e2aca2d20b6c16cdd623b0/expr.ipynb\"><img src=\"../44da79c41f096863320e2aca2d20b6c16cdd623b0/expr.png\" style=\"display:inline;vertical-align:middle;\" /></a></td></tr>\n",
       "<tr><td>30</td><td>Variable</td><td></td><td><a class=\"ProveItLink\" href=\"../../../../../__pv_it/common/c06c606ec12678c58933ac85412ecadc2ae28be60/expr.ipynb\"><img src=\"../../../../../__pv_it/common/c06c606ec12678c58933ac85412ecadc2ae28be60/expr.png\" style=\"display:inline;vertical-align:middle;\" /></a></td></tr>\n",
       "<tr><td>31</td><td>Literal</td><td></td><td><a class=\"ProveItLink\" href=\"../../../../negation/__pv_it/common/221b3c4d1770ee9051b7c044c3f9ec61196fc34b0/expr.ipynb\"><img src=\"../../../../negation/__pv_it/common/221b3c4d1770ee9051b7c044c3f9ec61196fc34b0/expr.png\" style=\"display:inline;vertical-align:middle;\" /></a></td></tr>\n",
       "<tr><td>32</td><td>Literal</td><td></td><td><a class=\"ProveItLink\" href=\"../../../../numerals/__pv_it/common/2778428c7f555b2bdc06aa0530bc142c6e6335100/expr.ipynb\"><img src=\"../../../../numerals/__pv_it/common/2778428c7f555b2bdc06aa0530bc142c6e6335100/expr.png\" style=\"display:inline;vertical-align:middle;\" /></a></td></tr>\n",
       "</table>\n"
      ],
      "text/plain": [
       "0. (N in Integer) and (a in Integer) and (b in Integer) and (c in Integer) and ((b - a) = (N - 1)) and (N != 0)\n",
       "   core type: Operation\n",
       "   operator: 1\n",
       "   operands: 2\n",
       "1. and\n",
       "   core type: Literal\n",
       "   sub-expressions: \n",
       "2. (N in Integer, a in Integer, b in Integer, c in Integer, (b - a) = (N - 1), N != 0)\n",
       "   core type: ExprTuple\n",
       "   sub-expressions: 3, 4, 5, 6, 7, 8\n",
       "3. N in Integer\n",
       "   core type: Operation\n",
       "   operator: 12\n",
       "   operands: 9\n",
       "4. a in Integer\n",
       "   core type: Operation\n",
       "   operator: 12\n",
       "   operands: 10\n",
       "5. b in Integer\n",
       "   core type: Operation\n",
       "   operator: 12\n",
       "   operands: 11\n",
       "6. c in Integer\n",
       "   core type: Operation\n",
       "   operator: 12\n",
       "   operands: 13\n",
       "7. (b - a) = (N - 1)\n",
       "   core type: Operation\n",
       "   operator: 14\n",
       "   operands: 15\n",
       "8. N != 0\n",
       "   core type: Operation\n",
       "   operator: 16\n",
       "   operands: 17\n",
       "9. (N, Integer)\n",
       "   core type: ExprTuple\n",
       "   sub-expressions: 28, 19\n",
       "10. (a, Integer)\n",
       "    core type: ExprTuple\n",
       "    sub-expressions: 30, 19\n",
       "11. (b, Integer)\n",
       "    core type: ExprTuple\n",
       "    sub-expressions: 26, 19\n",
       "12. in\n",
       "    core type: Literal\n",
       "    sub-expressions: \n",
       "13. (c, Integer)\n",
       "    core type: ExprTuple\n",
       "    sub-expressions: 18, 19\n",
       "14. =\n",
       "    core type: Literal\n",
       "    sub-expressions: \n",
       "15. (b - a, N - 1)\n",
       "    core type: ExprTuple\n",
       "    sub-expressions: 20, 21\n",
       "16. !=\n",
       "    core type: Literal\n",
       "    sub-expressions: \n",
       "17. (N, 0)\n",
       "    core type: ExprTuple\n",
       "    sub-expressions: 28, 22\n",
       "18. c\n",
       "    core type: Variable\n",
       "    sub-expressions: \n",
       "19. Integer\n",
       "    core type: Literal\n",
       "    sub-expressions: \n",
       "20. b - a\n",
       "    core type: Operation\n",
       "    operator: 24\n",
       "    operands: 23\n",
       "21. N - 1\n",
       "    core type: Operation\n",
       "    operator: 24\n",
       "    operands: 25\n",
       "22. 0\n",
       "    core type: Literal\n",
       "    sub-expressions: \n",
       "23. (b, -a)\n",
       "    core type: ExprTuple\n",
       "    sub-expressions: 26, 27\n",
       "24. +\n",
       "    core type: Literal\n",
       "    sub-expressions: \n",
       "25. (N, -1)\n",
       "    core type: ExprTuple\n",
       "    sub-expressions: 28, 29\n",
       "26. b\n",
       "    core type: Variable\n",
       "    sub-expressions: \n",
       "27. -a\n",
       "    core type: Operation\n",
       "    operator: 31\n",
       "    operand: 30\n",
       "28. N\n",
       "    core type: Variable\n",
       "    sub-expressions: \n",
       "29. -1\n",
       "    core type: Operation\n",
       "    operator: 31\n",
       "    operand: 32\n",
       "30. a\n",
       "    core type: Variable\n",
       "    sub-expressions: \n",
       "31. -\n",
       "    core type: Literal\n",
       "    sub-expressions: \n",
       "32. 1\n",
       "    core type: Literal\n",
       "    sub-expressions: "
      ]
     },
     "execution_count": 5,
     "metadata": {},
     "output_type": "execute_result"
    }
   ],
   "source": [
    "# display the expression information\n",
    "expr.expr_info()"
   ]
  },
  {
   "cell_type": "code",
   "execution_count": null,
   "metadata": {},
   "outputs": [],
   "source": []
  }
 ],
 "metadata": {
  "kernelspec": {
   "display_name": "Python 3",
   "language": "python",
   "name": "python3"
  }
 },
 "nbformat": 4,
 "nbformat_minor": 0
}