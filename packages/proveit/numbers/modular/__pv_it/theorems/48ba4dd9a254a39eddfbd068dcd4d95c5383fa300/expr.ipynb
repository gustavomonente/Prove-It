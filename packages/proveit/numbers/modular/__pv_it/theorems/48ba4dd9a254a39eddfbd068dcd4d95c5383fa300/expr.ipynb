{
 "cells": [
  {
   "cell_type": "markdown",
   "metadata": {},
   "source": [
    "Expression of type <a class=\"ProveItLink\" href=\"../../../../../../../doc/html/api/proveit.Lambda.html\">Lambda</a>\n",
    "=======================\n",
    "# from the theory of <a class=\"ProveItLink\" href=\"../../../_theory_nbs_/theory.ipynb\">proveit.numbers.modular</a>"
   ]
  },
  {
   "cell_type": "code",
   "execution_count": 1,
   "metadata": {},
   "outputs": [],
   "source": [
    "import proveit\n",
    "# Automation is not needed when building an expression:\n",
    "proveit.defaults.automation = False # This will speed things up.\n",
    "proveit.defaults.inline_pngs = False # Makes files smaller.\n",
    "%load_expr # Load the stored expression as 'stored_expr'\n",
    "# import Expression classes needed to build the expression\n",
    "from proveit import Conditional, Lambda, a, b, c\n",
    "from proveit.logic import And, Equals, InSet\n",
    "from proveit.numbers import ModAbs, Mult, Real"
   ]
  },
  {
   "cell_type": "code",
   "execution_count": 2,
   "metadata": {},
   "outputs": [
    {
     "data": {
      "text/html": [
       "<strong id=\"expr\">expr:</strong> <a class=\"ProveItLink\" href=\"expr.ipynb\"><img src=\"expr.png\" style=\"display:inline;vertical-align:middle;\" /></a><br>"
      ],
      "text/plain": [
       "expr: (a, b, c) -> {(a * |b|_{mod c}) = |a * b|_{mod a * c} if a in Real ,  b in Real ,  c in Real."
      ]
     },
     "execution_count": 2,
     "metadata": {},
     "output_type": "execute_result"
    }
   ],
   "source": [
    "# build up the expression from sub-expressions\n",
    "expr = Lambda([a, b, c], Conditional(Equals(Mult(a, ModAbs(b, c)), ModAbs(Mult(a, b), Mult(a, c))), And(InSet(a, Real), InSet(b, Real), InSet(c, Real))))"
   ]
  },
  {
   "cell_type": "code",
   "execution_count": 3,
   "metadata": {},
   "outputs": [
    {
     "name": "stdout",
     "output_type": "stream",
     "text": [
      "Passed sanity check: expr matches stored_expr\n"
     ]
    }
   ],
   "source": [
    "# check that the built expression is the same as the stored expression\n",
    "assert expr == stored_expr\n",
    "assert expr._style_id == stored_expr._style_id\n",
    "print(\"Passed sanity check: expr matches stored_expr\")"
   ]
  },
  {
   "cell_type": "code",
   "execution_count": 4,
   "metadata": {},
   "outputs": [
    {
     "name": "stdout",
     "output_type": "stream",
     "text": [
      "\\left(a, b, c\\right) \\mapsto \\left\\{\\left(a \\cdot \\left|b\\right|_{\\textup{mod}\\thinspace c}\\right) = \\left|a \\cdot b\\right|_{\\textup{mod}\\thinspace a \\cdot c} \\textrm{ if } a \\in \\mathbb{R} ,  b \\in \\mathbb{R} ,  c \\in \\mathbb{R}\\right..\n"
     ]
    }
   ],
   "source": [
    "# Show the LaTeX representation of the expression for convenience if you need it.\n",
    "print(expr.latex())"
   ]
  },
  {
   "cell_type": "code",
   "execution_count": 5,
   "metadata": {},
   "outputs": [
    {
     "data": {
      "text/html": [
       "no style options"
      ],
      "text/plain": [
       "no style options"
      ]
     },
     "execution_count": 5,
     "metadata": {},
     "output_type": "execute_result"
    }
   ],
   "source": [
    "expr.style_options()"
   ]
  },
  {
   "cell_type": "code",
   "execution_count": 6,
   "metadata": {},
   "outputs": [
    {
     "data": {
      "text/html": [
       "<table><tr><th>&nbsp;</th><th>core type</th><th>sub-expressions</th><th>expression</th></tr>\n",
       "<tr><td>0</td><td>Lambda</td><td>parameters:&nbsp;1<br>body:&nbsp;2<br></td><td><a class=\"ProveItLink\" href=\"expr.ipynb\"><img src=\"expr.png\" style=\"display:inline;vertical-align:middle;\" /></a></td></tr>\n",
       "<tr><td>1</td><td>ExprTuple</td><td>30, 29, 31</td><td><a class=\"ProveItLink\" href=\"../af1b38d8364fba38e8e8a99cd7213199d21c0f420/expr.ipynb\"><img src=\"../af1b38d8364fba38e8e8a99cd7213199d21c0f420/expr.png\" style=\"display:inline;vertical-align:middle;\" /></a></td></tr>\n",
       "<tr><td>2</td><td>Conditional</td><td>value:&nbsp;3<br>condition:&nbsp;4<br></td><td><a class=\"ProveItLink\" href=\"../9a075eb92392b789c256d36f8ba22a54af34758e0/expr.ipynb\"><img src=\"../9a075eb92392b789c256d36f8ba22a54af34758e0/expr.png\" style=\"display:inline;vertical-align:middle;\" /></a></td></tr>\n",
       "<tr><td>3</td><td>Operation</td><td>operator:&nbsp;5<br>operands:&nbsp;6<br></td><td><a class=\"ProveItLink\" href=\"../60f136209aa5a17bce08afa75ef411ea48a8d1b50/expr.ipynb\"><img src=\"../60f136209aa5a17bce08afa75ef411ea48a8d1b50/expr.png\" style=\"display:inline;vertical-align:middle;\" /></a></td></tr>\n",
       "<tr><td>4</td><td>Operation</td><td>operator:&nbsp;7<br>operands:&nbsp;8<br></td><td><a class=\"ProveItLink\" href=\"../ed4b3f8bdd938393b22be92759d13764f4b0014c0/expr.ipynb\"><img src=\"../ed4b3f8bdd938393b22be92759d13764f4b0014c0/expr.png\" style=\"display:inline;vertical-align:middle;\" /></a></td></tr>\n",
       "<tr><td>5</td><td>Literal</td><td></td><td><a class=\"ProveItLink\" href=\"../../../../../logic/equality/__pv_it/common/731dd3955b346c1320ed5c0ba7a618bcda61457d0/expr.ipynb\"><img src=\"../../../../../logic/equality/__pv_it/common/731dd3955b346c1320ed5c0ba7a618bcda61457d0/expr.png\" style=\"display:inline;vertical-align:middle;\" /></a></td></tr>\n",
       "<tr><td>6</td><td>ExprTuple</td><td>9, 10</td><td><a class=\"ProveItLink\" href=\"../f9864781a4dcfcf378d2f1d9460c08c5e05bfe5f0/expr.ipynb\"><img src=\"../f9864781a4dcfcf378d2f1d9460c08c5e05bfe5f0/expr.png\" style=\"display:inline;vertical-align:middle;\" /></a></td></tr>\n",
       "<tr><td>7</td><td>Literal</td><td></td><td><a class=\"ProveItLink\" href=\"../../../../../logic/booleans/conjunction/__pv_it/common/26b94b53e70b1d77b70f0d9d4236347db37731060/expr.ipynb\"><img src=\"../../../../../logic/booleans/conjunction/__pv_it/common/26b94b53e70b1d77b70f0d9d4236347db37731060/expr.png\" style=\"display:inline;vertical-align:middle;\" /></a></td></tr>\n",
       "<tr><td>8</td><td>ExprTuple</td><td>11, 12, 13</td><td><a class=\"ProveItLink\" href=\"../0b884c7f59dd185ff98bc669d8fe6ab6ab96140e0/expr.ipynb\"><img src=\"../0b884c7f59dd185ff98bc669d8fe6ab6ab96140e0/expr.png\" style=\"display:inline;vertical-align:middle;\" /></a></td></tr>\n",
       "<tr><td>9</td><td>Operation</td><td>operator:&nbsp;27<br>operands:&nbsp;14<br></td><td><a class=\"ProveItLink\" href=\"../b4da56251d3fbf11e5e2732706a6d472de1acf180/expr.ipynb\"><img src=\"../b4da56251d3fbf11e5e2732706a6d472de1acf180/expr.png\" style=\"display:inline;vertical-align:middle;\" /></a></td></tr>\n",
       "<tr><td>10</td><td>Operation</td><td>operator:&nbsp;24<br>operands:&nbsp;15<br></td><td><a class=\"ProveItLink\" href=\"../26cb95d4f152ba4796fe35919a196d40a2e2fb1b0/expr.ipynb\"><img src=\"../26cb95d4f152ba4796fe35919a196d40a2e2fb1b0/expr.png\" style=\"display:inline;vertical-align:middle;\" /></a></td></tr>\n",
       "<tr><td>11</td><td>Operation</td><td>operator:&nbsp;18<br>operands:&nbsp;16<br></td><td><a class=\"ProveItLink\" href=\"../025402c2362cd6ab78a853178f51867b794219b10/expr.ipynb\"><img src=\"../025402c2362cd6ab78a853178f51867b794219b10/expr.png\" style=\"display:inline;vertical-align:middle;\" /></a></td></tr>\n",
       "<tr><td>12</td><td>Operation</td><td>operator:&nbsp;18<br>operands:&nbsp;17<br></td><td><a class=\"ProveItLink\" href=\"../4e3ba36cfd1ec2482c9c2c225a01b2c9b4c973080/expr.ipynb\"><img src=\"../4e3ba36cfd1ec2482c9c2c225a01b2c9b4c973080/expr.png\" style=\"display:inline;vertical-align:middle;\" /></a></td></tr>\n",
       "<tr><td>13</td><td>Operation</td><td>operator:&nbsp;18<br>operands:&nbsp;19<br></td><td><a class=\"ProveItLink\" href=\"../1eb12b8f5bf44f2d025ec7945dd2be1033ef9bfe0/expr.ipynb\"><img src=\"../1eb12b8f5bf44f2d025ec7945dd2be1033ef9bfe0/expr.png\" style=\"display:inline;vertical-align:middle;\" /></a></td></tr>\n",
       "<tr><td>14</td><td>ExprTuple</td><td>30, 20</td><td><a class=\"ProveItLink\" href=\"../4f36fe8f4bf6bfec36ca3d736fd52f112d3a26f00/expr.ipynb\"><img src=\"../4f36fe8f4bf6bfec36ca3d736fd52f112d3a26f00/expr.png\" style=\"display:inline;vertical-align:middle;\" /></a></td></tr>\n",
       "<tr><td>15</td><td>ExprTuple</td><td>21, 22</td><td><a class=\"ProveItLink\" href=\"../25a313f650d4e85f6b9fe1a54b82270e293390850/expr.ipynb\"><img src=\"../25a313f650d4e85f6b9fe1a54b82270e293390850/expr.png\" style=\"display:inline;vertical-align:middle;\" /></a></td></tr>\n",
       "<tr><td>16</td><td>ExprTuple</td><td>30, 23</td><td><a class=\"ProveItLink\" href=\"../2f245937b4e4b6a29441a8dbb5feb1a4c94c18080/expr.ipynb\"><img src=\"../2f245937b4e4b6a29441a8dbb5feb1a4c94c18080/expr.png\" style=\"display:inline;vertical-align:middle;\" /></a></td></tr>\n",
       "<tr><td>17</td><td>ExprTuple</td><td>29, 23</td><td><a class=\"ProveItLink\" href=\"../21e764941179c2958f721a0c0eb46833df0e9ccd0/expr.ipynb\"><img src=\"../21e764941179c2958f721a0c0eb46833df0e9ccd0/expr.png\" style=\"display:inline;vertical-align:middle;\" /></a></td></tr>\n",
       "<tr><td>18</td><td>Literal</td><td></td><td><a class=\"ProveItLink\" href=\"../../../../../logic/sets/membership/__pv_it/common/7171deca84f71f47a6ec7696972d1632274a12880/expr.ipynb\"><img src=\"../../../../../logic/sets/membership/__pv_it/common/7171deca84f71f47a6ec7696972d1632274a12880/expr.png\" style=\"display:inline;vertical-align:middle;\" /></a></td></tr>\n",
       "<tr><td>19</td><td>ExprTuple</td><td>31, 23</td><td><a class=\"ProveItLink\" href=\"../b7f9019324f01329cdb8305e2037ac542f5d40eb0/expr.ipynb\"><img src=\"../b7f9019324f01329cdb8305e2037ac542f5d40eb0/expr.png\" style=\"display:inline;vertical-align:middle;\" /></a></td></tr>\n",
       "<tr><td>20</td><td>Operation</td><td>operator:&nbsp;24<br>operands:&nbsp;25<br></td><td><a class=\"ProveItLink\" href=\"../c8b5ce1d8f8be5435556f0027a5721e03e7e62830/expr.ipynb\"><img src=\"../c8b5ce1d8f8be5435556f0027a5721e03e7e62830/expr.png\" style=\"display:inline;vertical-align:middle;\" /></a></td></tr>\n",
       "<tr><td>21</td><td>Operation</td><td>operator:&nbsp;27<br>operands:&nbsp;26<br></td><td><a class=\"ProveItLink\" href=\"../4da2c8e561e012bf6a4e36d1d66358cc511078ac0/expr.ipynb\"><img src=\"../4da2c8e561e012bf6a4e36d1d66358cc511078ac0/expr.png\" style=\"display:inline;vertical-align:middle;\" /></a></td></tr>\n",
       "<tr><td>22</td><td>Operation</td><td>operator:&nbsp;27<br>operands:&nbsp;28<br></td><td><a class=\"ProveItLink\" href=\"../0f7be0325c679bd2cfdbdcaadfbd9b160ab7d0aa0/expr.ipynb\"><img src=\"../0f7be0325c679bd2cfdbdcaadfbd9b160ab7d0aa0/expr.png\" style=\"display:inline;vertical-align:middle;\" /></a></td></tr>\n",
       "<tr><td>23</td><td>Literal</td><td></td><td><a class=\"ProveItLink\" href=\"../../../../number_sets/real_numbers/__pv_it/common/3eaf53c11933bb30b35e82c24807c695de530cf10/expr.ipynb\"><img src=\"../../../../number_sets/real_numbers/__pv_it/common/3eaf53c11933bb30b35e82c24807c695de530cf10/expr.png\" style=\"display:inline;vertical-align:middle;\" /></a></td></tr>\n",
       "<tr><td>24</td><td>Literal</td><td></td><td><a class=\"ProveItLink\" href=\"../../common/d72011aab1870abcc7b54d70aa7412339eecb4df0/expr.ipynb\"><img src=\"../../common/d72011aab1870abcc7b54d70aa7412339eecb4df0/expr.png\" style=\"display:inline;vertical-align:middle;\" /></a></td></tr>\n",
       "<tr><td>25</td><td>ExprTuple</td><td>29, 31</td><td><a class=\"ProveItLink\" href=\"../9633b4d8842b3e57e7a7031aee652628c8c091780/expr.ipynb\"><img src=\"../9633b4d8842b3e57e7a7031aee652628c8c091780/expr.png\" style=\"display:inline;vertical-align:middle;\" /></a></td></tr>\n",
       "<tr><td>26</td><td>ExprTuple</td><td>30, 29</td><td><a class=\"ProveItLink\" href=\"../1bdfc8550dcba21649b1aca02603584957f865fb0/expr.ipynb\"><img src=\"../1bdfc8550dcba21649b1aca02603584957f865fb0/expr.png\" style=\"display:inline;vertical-align:middle;\" /></a></td></tr>\n",
       "<tr><td>27</td><td>Literal</td><td></td><td><a class=\"ProveItLink\" href=\"../../../../multiplication/__pv_it/common/c57d60974865e78d434abd3ff22c405685c80ade0/expr.ipynb\"><img src=\"../../../../multiplication/__pv_it/common/c57d60974865e78d434abd3ff22c405685c80ade0/expr.png\" style=\"display:inline;vertical-align:middle;\" /></a></td></tr>\n",
       "<tr><td>28</td><td>ExprTuple</td><td>30, 31</td><td><a class=\"ProveItLink\" href=\"../4d8d150db789dbd061a2ed2ef08d85be75e0c0c80/expr.ipynb\"><img src=\"../4d8d150db789dbd061a2ed2ef08d85be75e0c0c80/expr.png\" style=\"display:inline;vertical-align:middle;\" /></a></td></tr>\n",
       "<tr><td>29</td><td>Variable</td><td></td><td><a class=\"ProveItLink\" href=\"../../../../../__pv_it/common/4a5db8cc5c67969ec864bd3ea598be37cb6f5e550/expr.ipynb\"><img src=\"../../../../../__pv_it/common/4a5db8cc5c67969ec864bd3ea598be37cb6f5e550/expr.png\" style=\"display:inline;vertical-align:middle;\" /></a></td></tr>\n",
       "<tr><td>30</td><td>Variable</td><td></td><td><a class=\"ProveItLink\" href=\"../../../../../__pv_it/common/66c90e66682f107a881f2d666959f64e2e72ad750/expr.ipynb\"><img src=\"../../../../../__pv_it/common/66c90e66682f107a881f2d666959f64e2e72ad750/expr.png\" style=\"display:inline;vertical-align:middle;\" /></a></td></tr>\n",
       "<tr><td>31</td><td>Variable</td><td></td><td><a class=\"ProveItLink\" href=\"../../../../../__pv_it/common/9a9d28748f90dec84e90f2ace4610208194e524e0/expr.ipynb\"><img src=\"../../../../../__pv_it/common/9a9d28748f90dec84e90f2ace4610208194e524e0/expr.png\" style=\"display:inline;vertical-align:middle;\" /></a></td></tr>\n",
       "</table>\n"
      ],
      "text/plain": [
       "0. (a, b, c) -> {(a * |b|_{mod c}) = |a * b|_{mod a * c} if a in Real ,  b in Real ,  c in Real.\n",
       "   core type: Lambda\n",
       "   parameters: 1\\n   body: 2\n",
       "1. (a, b, c)\n",
       "   core type: ExprTuple\n",
       "   sub-expressions: 30, 29, 31\n",
       "2. {(a * |b|_{mod c}) = |a * b|_{mod a * c} if a in Real ,  b in Real ,  c in Real.\n",
       "   core type: Conditional\n",
       "   value: 3\n",
       "   condition: 4\n",
       "3. (a * |b|_{mod c}) = |a * b|_{mod a * c}\n",
       "   core type: Operation\n",
       "   operator: 5\n",
       "   operands: 6\n",
       "4. (a in Real) and (b in Real) and (c in Real)\n",
       "   core type: Operation\n",
       "   operator: 7\n",
       "   operands: 8\n",
       "5. =\n",
       "   core type: Literal\n",
       "   sub-expressions: \n",
       "6. (a * |b|_{mod c}, |a * b|_{mod a * c})\n",
       "   core type: ExprTuple\n",
       "   sub-expressions: 9, 10\n",
       "7. and\n",
       "   core type: Literal\n",
       "   sub-expressions: \n",
       "8. (a in Real, b in Real, c in Real)\n",
       "   core type: ExprTuple\n",
       "   sub-expressions: 11, 12, 13\n",
       "9. a * |b|_{mod c}\n",
       "   core type: Operation\n",
       "   operator: 27\n",
       "   operands: 14\n",
       "10. |a * b|_{mod a * c}\n",
       "    core type: Operation\n",
       "    operator: 24\n",
       "    operands: 15\n",
       "11. a in Real\n",
       "    core type: Operation\n",
       "    operator: 18\n",
       "    operands: 16\n",
       "12. b in Real\n",
       "    core type: Operation\n",
       "    operator: 18\n",
       "    operands: 17\n",
       "13. c in Real\n",
       "    core type: Operation\n",
       "    operator: 18\n",
       "    operands: 19\n",
       "14. (a, |b|_{mod c})\n",
       "    core type: ExprTuple\n",
       "    sub-expressions: 30, 20\n",
       "15. (a * b, a * c)\n",
       "    core type: ExprTuple\n",
       "    sub-expressions: 21, 22\n",
       "16. (a, Real)\n",
       "    core type: ExprTuple\n",
       "    sub-expressions: 30, 23\n",
       "17. (b, Real)\n",
       "    core type: ExprTuple\n",
       "    sub-expressions: 29, 23\n",
       "18. in\n",
       "    core type: Literal\n",
       "    sub-expressions: \n",
       "19. (c, Real)\n",
       "    core type: ExprTuple\n",
       "    sub-expressions: 31, 23\n",
       "20. |b|_{mod c}\n",
       "    core type: Operation\n",
       "    operator: 24\n",
       "    operands: 25\n",
       "21. a * b\n",
       "    core type: Operation\n",
       "    operator: 27\n",
       "    operands: 26\n",
       "22. a * c\n",
       "    core type: Operation\n",
       "    operator: 27\n",
       "    operands: 28\n",
       "23. Real\n",
       "    core type: Literal\n",
       "    sub-expressions: \n",
       "24. ModAbs\n",
       "    core type: Literal\n",
       "    sub-expressions: \n",
       "25. (b, c)\n",
       "    core type: ExprTuple\n",
       "    sub-expressions: 29, 31\n",
       "26. (a, b)\n",
       "    core type: ExprTuple\n",
       "    sub-expressions: 30, 29\n",
       "27. *\n",
       "    core type: Literal\n",
       "    sub-expressions: \n",
       "28. (a, c)\n",
       "    core type: ExprTuple\n",
       "    sub-expressions: 30, 31\n",
       "29. b\n",
       "    core type: Variable\n",
       "    sub-expressions: \n",
       "30. a\n",
       "    core type: Variable\n",
       "    sub-expressions: \n",
       "31. c\n",
       "    core type: Variable\n",
       "    sub-expressions: "
      ]
     },
     "execution_count": 6,
     "metadata": {},
     "output_type": "execute_result"
    }
   ],
   "source": [
    "# display the expression information\n",
    "expr.expr_info()"
   ]
  },
  {
   "cell_type": "code",
   "execution_count": null,
   "metadata": {},
   "outputs": [],
   "source": []
  }
 ],
 "metadata": {
  "kernelspec": {
   "display_name": "Python 3",
   "language": "python",
   "name": "python3"
  }
 },
 "nbformat": 4,
 "nbformat_minor": 0
}