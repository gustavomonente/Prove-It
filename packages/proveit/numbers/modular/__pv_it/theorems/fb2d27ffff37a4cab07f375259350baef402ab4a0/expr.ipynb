{
 "cells": [
  {
   "cell_type": "markdown",
   "metadata": {},
   "source": [
    "Expression of type <a class=\"ProveItLink\" href=\"../../../../../../../doc/html/api/proveit.Conditional.html\">Conditional</a>\n",
    "=======================\n",
    "# from the theory of <a class=\"ProveItLink\" href=\"../../../_theory_nbs_/theory.ipynb\">proveit.numbers.modular</a>"
   ]
  },
  {
   "cell_type": "code",
   "execution_count": 1,
   "metadata": {},
   "outputs": [],
   "source": [
    "import proveit\n",
    "# Automation is not needed when building an expression:\n",
    "proveit.defaults.automation = False # This will speed things up.\n",
    "proveit.defaults.inline_pngs = False # Makes files smaller.\n",
    "%load_expr # Load the stored expression as 'stored_expr'\n",
    "# import Expression classes needed to build the expression\n",
    "from proveit import Conditional, N, a, b, c, x\n",
    "from proveit.logic import And, Equals, InSet, NotEquals, SetOfAll\n",
    "from proveit.numbers import Add, Integer, Interval, Mod, Neg, one, zero"
   ]
  },
  {
   "cell_type": "code",
   "execution_count": 2,
   "metadata": {},
   "outputs": [
    {
     "data": {
      "text/html": [
       "<strong id=\"expr\">expr:</strong> <a class=\"ProveItLink\" href=\"expr.ipynb\"><img src=\"expr.png\" style=\"display:inline;vertical-align:middle;\" /></a><br>"
      ],
      "text/plain": [
       "expr: {{(x + c) mod  N}_{x in {a...b}} = {0...N - 1} if N in Integer ,  a in Integer ,  b in Integer ,  c in Integer ,  (b - a) = (N - 1) ,  N != 0."
      ]
     },
     "execution_count": 2,
     "metadata": {},
     "output_type": "execute_result"
    }
   ],
   "source": [
    "# build up the expression from sub-expressions\n",
    "sub_expr1 = Add(N, Neg(one))\n",
    "expr = Conditional(Equals(SetOfAll([x], Mod(Add(x, c), N), domains = [Interval(a, b)]), Interval(zero, sub_expr1)), And(InSet(N, Integer), InSet(a, Integer), InSet(b, Integer), InSet(c, Integer), Equals(Add(b, Neg(a)), sub_expr1), NotEquals(N, zero)))"
   ]
  },
  {
   "cell_type": "code",
   "execution_count": 3,
   "metadata": {},
   "outputs": [
    {
     "name": "stdout",
     "output_type": "stream",
     "text": [
      "Passed sanity check: expr matches stored_expr\n"
     ]
    }
   ],
   "source": [
    "# check that the built expression is the same as the stored expression\n",
    "assert expr == stored_expr\n",
    "assert expr._style_id == stored_expr._style_id\n",
    "print(\"Passed sanity check: expr matches stored_expr\")"
   ]
  },
  {
   "cell_type": "code",
   "execution_count": 4,
   "metadata": {},
   "outputs": [
    {
     "name": "stdout",
     "output_type": "stream",
     "text": [
      "\\left\\{\\left\\{\\left(x + c\\right) ~\\textup{mod}~ N\\right\\}_{x \\in \\{a \\ldots b\\}} = \\{0 \\ldots N - 1\\} \\textrm{ if } N \\in \\mathbb{Z} ,  a \\in \\mathbb{Z} ,  b \\in \\mathbb{Z} ,  c \\in \\mathbb{Z} ,  \\left(b - a\\right) = \\left(N - 1\\right) ,  N \\neq 0\\right..\n"
     ]
    }
   ],
   "source": [
    "# Show the LaTeX representation of the expression for convenience if you need it.\n",
    "print(expr.latex())"
   ]
  },
  {
   "cell_type": "code",
   "execution_count": 5,
   "metadata": {},
   "outputs": [
    {
     "data": {
      "text/html": [
       "<table>\n",
       "<tr><th>name</th><th>description</th><th>default</th><th>current value</th><th>related methods</th></tr><tr><td>condition_delimiter</td><td>'comma' or 'and'</td><td>comma</td><td>comma</td><td>('with_comma_delimiter', 'with_conjunction_delimiter')</td></tr>\n",
       "</table>\n"
      ],
      "text/plain": [
       "style name: condition_delimiter\n",
       "description: 'comma' or 'and'\n",
       "default: comma\n",
       "current value: comma\n",
       "related methods: ('with_comma_delimiter', 'with_conjunction_delimiter')"
      ]
     },
     "execution_count": 5,
     "metadata": {},
     "output_type": "execute_result"
    }
   ],
   "source": [
    "expr.style_options()"
   ]
  },
  {
   "cell_type": "code",
   "execution_count": 6,
   "metadata": {},
   "outputs": [
    {
     "data": {
      "text/html": [
       "<table><tr><th>&nbsp;</th><th>core type</th><th>sub-expressions</th><th>expression</th></tr>\n",
       "<tr><td>0</td><td>Conditional</td><td>value:&nbsp;1<br>condition:&nbsp;2<br></td><td><a class=\"ProveItLink\" href=\"expr.ipynb\"><img src=\"expr.png\" style=\"display:inline;vertical-align:middle;\" /></a></td></tr>\n",
       "<tr><td>1</td><td>Operation</td><td>operator:&nbsp;21<br>operands:&nbsp;3<br></td><td><a class=\"ProveItLink\" href=\"../15d6125ac1bc73b3cacc55b8163800b8dd61fe190/expr.ipynb\"><img src=\"../15d6125ac1bc73b3cacc55b8163800b8dd61fe190/expr.png\" style=\"display:inline;vertical-align:middle;\" /></a></td></tr>\n",
       "<tr><td>2</td><td>Operation</td><td>operator:&nbsp;4<br>operands:&nbsp;5<br></td><td><a class=\"ProveItLink\" href=\"../ff06173bff0862ce51c4a68370e4bd7b7deeb02f0/expr.ipynb\"><img src=\"../ff06173bff0862ce51c4a68370e4bd7b7deeb02f0/expr.png\" style=\"display:inline;vertical-align:middle;\" /></a></td></tr>\n",
       "<tr><td>3</td><td>ExprTuple</td><td>6, 7</td><td><a class=\"ProveItLink\" href=\"../8fddc6706c8a8cb9260f02f6699873a76f2d41a70/expr.ipynb\"><img src=\"../8fddc6706c8a8cb9260f02f6699873a76f2d41a70/expr.png\" style=\"display:inline;vertical-align:middle;\" /></a></td></tr>\n",
       "<tr><td>4</td><td>Literal</td><td></td><td><a class=\"ProveItLink\" href=\"../../../../../logic/booleans/conjunction/__pv_it/common/26b94b53e70b1d77b70f0d9d4236347db37731060/expr.ipynb\"><img src=\"../../../../../logic/booleans/conjunction/__pv_it/common/26b94b53e70b1d77b70f0d9d4236347db37731060/expr.png\" style=\"display:inline;vertical-align:middle;\" /></a></td></tr>\n",
       "<tr><td>5</td><td>ExprTuple</td><td>8, 9, 10, 11, 12, 13</td><td><a class=\"ProveItLink\" href=\"../44cd855e65fde89507b28f993d2e9fa317c0acf30/expr.ipynb\"><img src=\"../44cd855e65fde89507b28f993d2e9fa317c0acf30/expr.png\" style=\"display:inline;vertical-align:middle;\" /></a></td></tr>\n",
       "<tr><td>6</td><td>Operation</td><td>operator:&nbsp;14<br>operand:&nbsp;25<br></td><td><a class=\"ProveItLink\" href=\"../2a7fb76a18efb210904d4c7c041001aca453e6440/expr.ipynb\"><img src=\"../2a7fb76a18efb210904d4c7c041001aca453e6440/expr.png\" style=\"display:inline;vertical-align:middle;\" /></a></td></tr>\n",
       "<tr><td>7</td><td>Operation</td><td>operator:&nbsp;50<br>operands:&nbsp;16<br></td><td><a class=\"ProveItLink\" href=\"../dca46344f5ec3528917c712df64409e895b4af700/expr.ipynb\"><img src=\"../dca46344f5ec3528917c712df64409e895b4af700/expr.png\" style=\"display:inline;vertical-align:middle;\" /></a></td></tr>\n",
       "<tr><td>8</td><td>Operation</td><td>operator:&nbsp;39<br>operands:&nbsp;17<br></td><td><a class=\"ProveItLink\" href=\"../f403c114f082ec437c26f1b843ddcf7da1b1c6590/expr.ipynb\"><img src=\"../f403c114f082ec437c26f1b843ddcf7da1b1c6590/expr.png\" style=\"display:inline;vertical-align:middle;\" /></a></td></tr>\n",
       "<tr><td>9</td><td>Operation</td><td>operator:&nbsp;39<br>operands:&nbsp;18<br></td><td><a class=\"ProveItLink\" href=\"../c8380b1bd6a816c4855607ac0e0f0c93ce47e0330/expr.ipynb\"><img src=\"../c8380b1bd6a816c4855607ac0e0f0c93ce47e0330/expr.png\" style=\"display:inline;vertical-align:middle;\" /></a></td></tr>\n",
       "<tr><td>10</td><td>Operation</td><td>operator:&nbsp;39<br>operands:&nbsp;19<br></td><td><a class=\"ProveItLink\" href=\"../2b9e9b4a95ebae8e8b778db1c976ac0b586cc19c0/expr.ipynb\"><img src=\"../2b9e9b4a95ebae8e8b778db1c976ac0b586cc19c0/expr.png\" style=\"display:inline;vertical-align:middle;\" /></a></td></tr>\n",
       "<tr><td>11</td><td>Operation</td><td>operator:&nbsp;39<br>operands:&nbsp;20<br></td><td><a class=\"ProveItLink\" href=\"../cd05f657e2cdaab9bbfcbc33799edfd09967c2f50/expr.ipynb\"><img src=\"../cd05f657e2cdaab9bbfcbc33799edfd09967c2f50/expr.png\" style=\"display:inline;vertical-align:middle;\" /></a></td></tr>\n",
       "<tr><td>12</td><td>Operation</td><td>operator:&nbsp;21<br>operands:&nbsp;22<br></td><td><a class=\"ProveItLink\" href=\"../663ae197079d37b7825e2005011dc7aac82c0de60/expr.ipynb\"><img src=\"../663ae197079d37b7825e2005011dc7aac82c0de60/expr.png\" style=\"display:inline;vertical-align:middle;\" /></a></td></tr>\n",
       "<tr><td>13</td><td>Operation</td><td>operator:&nbsp;23<br>operands:&nbsp;24<br></td><td><a class=\"ProveItLink\" href=\"../ebf32ca804b0bd4fef575091a1589a64ba3b27510/expr.ipynb\"><img src=\"../ebf32ca804b0bd4fef575091a1589a64ba3b27510/expr.png\" style=\"display:inline;vertical-align:middle;\" /></a></td></tr>\n",
       "<tr><td>14</td><td>Literal</td><td></td><td><a class=\"ProveItLink\" href=\"../../../../../logic/sets/comprehension/__pv_it/common/b7b30a274e751b4e906148c5048767884df8850f0/expr.ipynb\"><img src=\"../../../../../logic/sets/comprehension/__pv_it/common/b7b30a274e751b4e906148c5048767884df8850f0/expr.png\" style=\"display:inline;vertical-align:middle;\" /></a></td></tr>\n",
       "<tr><td>15</td><td>ExprTuple</td><td>25</td><td><a class=\"ProveItLink\" href=\"../00518d3e9aaeb07e83e8d69f25bdd6d788deca8c0/expr.ipynb\"><img src=\"../00518d3e9aaeb07e83e8d69f25bdd6d788deca8c0/expr.png\" style=\"display:inline;vertical-align:middle;\" /></a></td></tr>\n",
       "<tr><td>16</td><td>ExprTuple</td><td>29, 28</td><td><a class=\"ProveItLink\" href=\"../6b6680de69e2a66620d9bafe88edaa373d65ba860/expr.ipynb\"><img src=\"../6b6680de69e2a66620d9bafe88edaa373d65ba860/expr.png\" style=\"display:inline;vertical-align:middle;\" /></a></td></tr>\n",
       "<tr><td>17</td><td>ExprTuple</td><td>45, 26</td><td><a class=\"ProveItLink\" href=\"../561dc63b41e88eda8310f0a21c8d6377b17cee140/expr.ipynb\"><img src=\"../561dc63b41e88eda8310f0a21c8d6377b17cee140/expr.png\" style=\"display:inline;vertical-align:middle;\" /></a></td></tr>\n",
       "<tr><td>18</td><td>ExprTuple</td><td>54, 26</td><td><a class=\"ProveItLink\" href=\"../5054593301ba4603397052682d5363a302c7342e0/expr.ipynb\"><img src=\"../5054593301ba4603397052682d5363a302c7342e0/expr.png\" style=\"display:inline;vertical-align:middle;\" /></a></td></tr>\n",
       "<tr><td>19</td><td>ExprTuple</td><td>55, 26</td><td><a class=\"ProveItLink\" href=\"../32f1be457e9e1c80d62298435553380704cefe170/expr.ipynb\"><img src=\"../32f1be457e9e1c80d62298435553380704cefe170/expr.png\" style=\"display:inline;vertical-align:middle;\" /></a></td></tr>\n",
       "<tr><td>20</td><td>ExprTuple</td><td>53, 26</td><td><a class=\"ProveItLink\" href=\"../7fa0947bc99620940ea160e89bc0cabd221452540/expr.ipynb\"><img src=\"../7fa0947bc99620940ea160e89bc0cabd221452540/expr.png\" style=\"display:inline;vertical-align:middle;\" /></a></td></tr>\n",
       "<tr><td>21</td><td>Literal</td><td></td><td><a class=\"ProveItLink\" href=\"../../../../../logic/equality/__pv_it/common/731dd3955b346c1320ed5c0ba7a618bcda61457d0/expr.ipynb\"><img src=\"../../../../../logic/equality/__pv_it/common/731dd3955b346c1320ed5c0ba7a618bcda61457d0/expr.png\" style=\"display:inline;vertical-align:middle;\" /></a></td></tr>\n",
       "<tr><td>22</td><td>ExprTuple</td><td>27, 28</td><td><a class=\"ProveItLink\" href=\"../a5aed32451cbac4ee11cd0cf786cfae73b3154790/expr.ipynb\"><img src=\"../a5aed32451cbac4ee11cd0cf786cfae73b3154790/expr.png\" style=\"display:inline;vertical-align:middle;\" /></a></td></tr>\n",
       "<tr><td>23</td><td>Literal</td><td></td><td><a class=\"ProveItLink\" href=\"../../../../../logic/equality/__pv_it/common/8dab0e450b6dad95cf65833220bcc832732dfd3c0/expr.ipynb\"><img src=\"../../../../../logic/equality/__pv_it/common/8dab0e450b6dad95cf65833220bcc832732dfd3c0/expr.png\" style=\"display:inline;vertical-align:middle;\" /></a></td></tr>\n",
       "<tr><td>24</td><td>ExprTuple</td><td>45, 29</td><td><a class=\"ProveItLink\" href=\"../ee2b4f355a255f3be7967c42e541741ca36549cf0/expr.ipynb\"><img src=\"../ee2b4f355a255f3be7967c42e541741ca36549cf0/expr.png\" style=\"display:inline;vertical-align:middle;\" /></a></td></tr>\n",
       "<tr><td>25</td><td>Lambda</td><td>parameter:&nbsp;52<br>body:&nbsp;30<br></td><td><a class=\"ProveItLink\" href=\"../2f555e30ae8fa5d9ecb0522c057451a15b65c42f0/expr.ipynb\"><img src=\"../2f555e30ae8fa5d9ecb0522c057451a15b65c42f0/expr.png\" style=\"display:inline;vertical-align:middle;\" /></a></td></tr>\n",
       "<tr><td>26</td><td>Literal</td><td></td><td><a class=\"ProveItLink\" href=\"../../../../number_sets/integers/__pv_it/common/21b035fc94b1f20bfb5161d2c7bd6eb2042cc5670/expr.ipynb\"><img src=\"../../../../number_sets/integers/__pv_it/common/21b035fc94b1f20bfb5161d2c7bd6eb2042cc5670/expr.png\" style=\"display:inline;vertical-align:middle;\" /></a></td></tr>\n",
       "<tr><td>27</td><td>Operation</td><td>operator:&nbsp;48<br>operands:&nbsp;31<br></td><td><a class=\"ProveItLink\" href=\"../8a4159d9977f14d8f9d6f3e41c366bb8d90e42370/expr.ipynb\"><img src=\"../8a4159d9977f14d8f9d6f3e41c366bb8d90e42370/expr.png\" style=\"display:inline;vertical-align:middle;\" /></a></td></tr>\n",
       "<tr><td>28</td><td>Operation</td><td>operator:&nbsp;48<br>operands:&nbsp;32<br></td><td><a class=\"ProveItLink\" href=\"../654157ba7f1256395e15978a66a518bf9a8f6b060/expr.ipynb\"><img src=\"../654157ba7f1256395e15978a66a518bf9a8f6b060/expr.png\" style=\"display:inline;vertical-align:middle;\" /></a></td></tr>\n",
       "<tr><td>29</td><td>Literal</td><td></td><td><a class=\"ProveItLink\" href=\"../../../../numerals/__pv_it/common/c35fdf7268947ca3e24174d2909dc9d0a7f3aac60/expr.ipynb\"><img src=\"../../../../numerals/__pv_it/common/c35fdf7268947ca3e24174d2909dc9d0a7f3aac60/expr.png\" style=\"display:inline;vertical-align:middle;\" /></a></td></tr>\n",
       "<tr><td>30</td><td>Conditional</td><td>value:&nbsp;33<br>condition:&nbsp;34<br></td><td><a class=\"ProveItLink\" href=\"../2b2ac30b7cfdce4a5187aed06ebb2510551ae2800/expr.ipynb\"><img src=\"../2b2ac30b7cfdce4a5187aed06ebb2510551ae2800/expr.png\" style=\"display:inline;vertical-align:middle;\" /></a></td></tr>\n",
       "<tr><td>31</td><td>ExprTuple</td><td>55, 35</td><td><a class=\"ProveItLink\" href=\"../0b9bc857fb736423aa04e5d9acd5c450b9c1ebef0/expr.ipynb\"><img src=\"../0b9bc857fb736423aa04e5d9acd5c450b9c1ebef0/expr.png\" style=\"display:inline;vertical-align:middle;\" /></a></td></tr>\n",
       "<tr><td>32</td><td>ExprTuple</td><td>45, 36</td><td><a class=\"ProveItLink\" href=\"../4ba08ca769000b8d7a91e08d53f65ca97ad1f58e0/expr.ipynb\"><img src=\"../4ba08ca769000b8d7a91e08d53f65ca97ad1f58e0/expr.png\" style=\"display:inline;vertical-align:middle;\" /></a></td></tr>\n",
       "<tr><td>33</td><td>Operation</td><td>operator:&nbsp;37<br>operands:&nbsp;38<br></td><td><a class=\"ProveItLink\" href=\"../305897bc442f5fae2a870df4bb64aa332b4a2b2b0/expr.ipynb\"><img src=\"../305897bc442f5fae2a870df4bb64aa332b4a2b2b0/expr.png\" style=\"display:inline;vertical-align:middle;\" /></a></td></tr>\n",
       "<tr><td>34</td><td>Operation</td><td>operator:&nbsp;39<br>operands:&nbsp;40<br></td><td><a class=\"ProveItLink\" href=\"../7b455cce62ba55383b38c75971fd01d83af377380/expr.ipynb\"><img src=\"../7b455cce62ba55383b38c75971fd01d83af377380/expr.png\" style=\"display:inline;vertical-align:middle;\" /></a></td></tr>\n",
       "<tr><td>35</td><td>Operation</td><td>operator:&nbsp;42<br>operand:&nbsp;54<br></td><td><a class=\"ProveItLink\" href=\"../99a4226c0b228bbaae4ff51b57d0a4ad4931362a0/expr.ipynb\"><img src=\"../99a4226c0b228bbaae4ff51b57d0a4ad4931362a0/expr.png\" style=\"display:inline;vertical-align:middle;\" /></a></td></tr>\n",
       "<tr><td>36</td><td>Operation</td><td>operator:&nbsp;42<br>operand:&nbsp;47<br></td><td><a class=\"ProveItLink\" href=\"../194689aa2092eb5e83b339e69e1c112868251dd50/expr.ipynb\"><img src=\"../194689aa2092eb5e83b339e69e1c112868251dd50/expr.png\" style=\"display:inline;vertical-align:middle;\" /></a></td></tr>\n",
       "<tr><td>37</td><td>Literal</td><td></td><td><a class=\"ProveItLink\" href=\"../../common/2b0ba0d616a1e191cf63ab3952a3bcb5a4f18d2e0/expr.ipynb\"><img src=\"../../common/2b0ba0d616a1e191cf63ab3952a3bcb5a4f18d2e0/expr.png\" style=\"display:inline;vertical-align:middle;\" /></a></td></tr>\n",
       "<tr><td>38</td><td>ExprTuple</td><td>44, 45</td><td><a class=\"ProveItLink\" href=\"../b87e7f85ba0c2afac7a85cc1a3969d98e110708c0/expr.ipynb\"><img src=\"../b87e7f85ba0c2afac7a85cc1a3969d98e110708c0/expr.png\" style=\"display:inline;vertical-align:middle;\" /></a></td></tr>\n",
       "<tr><td>39</td><td>Literal</td><td></td><td><a class=\"ProveItLink\" href=\"../../../../../logic/sets/membership/__pv_it/common/7171deca84f71f47a6ec7696972d1632274a12880/expr.ipynb\"><img src=\"../../../../../logic/sets/membership/__pv_it/common/7171deca84f71f47a6ec7696972d1632274a12880/expr.png\" style=\"display:inline;vertical-align:middle;\" /></a></td></tr>\n",
       "<tr><td>40</td><td>ExprTuple</td><td>52, 46</td><td><a class=\"ProveItLink\" href=\"../33fe2237249d9b2c17b64cdac3a4cf7f886cdf9e0/expr.ipynb\"><img src=\"../33fe2237249d9b2c17b64cdac3a4cf7f886cdf9e0/expr.png\" style=\"display:inline;vertical-align:middle;\" /></a></td></tr>\n",
       "<tr><td>41</td><td>ExprTuple</td><td>54</td><td><a class=\"ProveItLink\" href=\"../d44dc3f84a5035a3c448121a02d4b2964d58a7910/expr.ipynb\"><img src=\"../d44dc3f84a5035a3c448121a02d4b2964d58a7910/expr.png\" style=\"display:inline;vertical-align:middle;\" /></a></td></tr>\n",
       "<tr><td>42</td><td>Literal</td><td></td><td><a class=\"ProveItLink\" href=\"../../../../negation/__pv_it/common/31a69a5c76809537045e3884859f178d8d9c845c0/expr.ipynb\"><img src=\"../../../../negation/__pv_it/common/31a69a5c76809537045e3884859f178d8d9c845c0/expr.png\" style=\"display:inline;vertical-align:middle;\" /></a></td></tr>\n",
       "<tr><td>43</td><td>ExprTuple</td><td>47</td><td><a class=\"ProveItLink\" href=\"../983fb1abdb7789966ec8b7afe0d4f7ca8578c9e50/expr.ipynb\"><img src=\"../983fb1abdb7789966ec8b7afe0d4f7ca8578c9e50/expr.png\" style=\"display:inline;vertical-align:middle;\" /></a></td></tr>\n",
       "<tr><td>44</td><td>Operation</td><td>operator:&nbsp;48<br>operands:&nbsp;49<br></td><td><a class=\"ProveItLink\" href=\"../71bd26aba838bf00308b924691dc55dc9495e5e70/expr.ipynb\"><img src=\"../71bd26aba838bf00308b924691dc55dc9495e5e70/expr.png\" style=\"display:inline;vertical-align:middle;\" /></a></td></tr>\n",
       "<tr><td>45</td><td>Variable</td><td></td><td><a class=\"ProveItLink\" href=\"../../../../../__pv_it/common/c401de8fd84b016d9ef2a311a2de841ba60c23a50/expr.ipynb\"><img src=\"../../../../../__pv_it/common/c401de8fd84b016d9ef2a311a2de841ba60c23a50/expr.png\" style=\"display:inline;vertical-align:middle;\" /></a></td></tr>\n",
       "<tr><td>46</td><td>Operation</td><td>operator:&nbsp;50<br>operands:&nbsp;51<br></td><td><a class=\"ProveItLink\" href=\"../c3f749272712304b8a9d0fda9de162a195cd6f3e0/expr.ipynb\"><img src=\"../c3f749272712304b8a9d0fda9de162a195cd6f3e0/expr.png\" style=\"display:inline;vertical-align:middle;\" /></a></td></tr>\n",
       "<tr><td>47</td><td>Literal</td><td></td><td><a class=\"ProveItLink\" href=\"../../../../numerals/__pv_it/common/d278e359da0695d9652dd541d45264f93703e2e40/expr.ipynb\"><img src=\"../../../../numerals/__pv_it/common/d278e359da0695d9652dd541d45264f93703e2e40/expr.png\" style=\"display:inline;vertical-align:middle;\" /></a></td></tr>\n",
       "<tr><td>48</td><td>Literal</td><td></td><td><a class=\"ProveItLink\" href=\"../../../../addition/__pv_it/common/1f38fe5cce441387feef296e2c0a2eac260bb4f30/expr.ipynb\"><img src=\"../../../../addition/__pv_it/common/1f38fe5cce441387feef296e2c0a2eac260bb4f30/expr.png\" style=\"display:inline;vertical-align:middle;\" /></a></td></tr>\n",
       "<tr><td>49</td><td>ExprTuple</td><td>52, 53</td><td><a class=\"ProveItLink\" href=\"../4233953c272b63301bc4043e68704c4aa43019540/expr.ipynb\"><img src=\"../4233953c272b63301bc4043e68704c4aa43019540/expr.png\" style=\"display:inline;vertical-align:middle;\" /></a></td></tr>\n",
       "<tr><td>50</td><td>Literal</td><td></td><td><a class=\"ProveItLink\" href=\"../../../../number_sets/integers/__pv_it/common/fcf0def17f5c3c84b64c959b39aed0e5dad7f3340/expr.ipynb\"><img src=\"../../../../number_sets/integers/__pv_it/common/fcf0def17f5c3c84b64c959b39aed0e5dad7f3340/expr.png\" style=\"display:inline;vertical-align:middle;\" /></a></td></tr>\n",
       "<tr><td>51</td><td>ExprTuple</td><td>54, 55</td><td><a class=\"ProveItLink\" href=\"../1bdfc8550dcba21649b1aca02603584957f865fb0/expr.ipynb\"><img src=\"../1bdfc8550dcba21649b1aca02603584957f865fb0/expr.png\" style=\"display:inline;vertical-align:middle;\" /></a></td></tr>\n",
       "<tr><td>52</td><td>Variable</td><td></td><td><a class=\"ProveItLink\" href=\"../../../../../__pv_it/common/a2581dc5df71d9a30bad37de14965fa5fec97a240/expr.ipynb\"><img src=\"../../../../../__pv_it/common/a2581dc5df71d9a30bad37de14965fa5fec97a240/expr.png\" style=\"display:inline;vertical-align:middle;\" /></a></td></tr>\n",
       "<tr><td>53</td><td>Variable</td><td></td><td><a class=\"ProveItLink\" href=\"../../../../../__pv_it/common/9a9d28748f90dec84e90f2ace4610208194e524e0/expr.ipynb\"><img src=\"../../../../../__pv_it/common/9a9d28748f90dec84e90f2ace4610208194e524e0/expr.png\" style=\"display:inline;vertical-align:middle;\" /></a></td></tr>\n",
       "<tr><td>54</td><td>Variable</td><td></td><td><a class=\"ProveItLink\" href=\"../../../../../__pv_it/common/66c90e66682f107a881f2d666959f64e2e72ad750/expr.ipynb\"><img src=\"../../../../../__pv_it/common/66c90e66682f107a881f2d666959f64e2e72ad750/expr.png\" style=\"display:inline;vertical-align:middle;\" /></a></td></tr>\n",
       "<tr><td>55</td><td>Variable</td><td></td><td><a class=\"ProveItLink\" href=\"../../../../../__pv_it/common/4a5db8cc5c67969ec864bd3ea598be37cb6f5e550/expr.ipynb\"><img src=\"../../../../../__pv_it/common/4a5db8cc5c67969ec864bd3ea598be37cb6f5e550/expr.png\" style=\"display:inline;vertical-align:middle;\" /></a></td></tr>\n",
       "</table>\n"
      ],
      "text/plain": [
       "0. {{(x + c) mod  N}_{x in {a...b}} = {0...N - 1} if N in Integer ,  a in Integer ,  b in Integer ,  c in Integer ,  (b - a) = (N - 1) ,  N != 0.\n",
       "   core type: Conditional\n",
       "   value: 1\n",
       "   condition: 2\n",
       "1. {(x + c) mod  N}_{x in {a...b}} = {0...N - 1}\n",
       "   core type: Operation\n",
       "   operator: 21\n",
       "   operands: 3\n",
       "2. (N in Integer) and (a in Integer) and (b in Integer) and (c in Integer) and ((b - a) = (N - 1)) and (N != 0)\n",
       "   core type: Operation\n",
       "   operator: 4\n",
       "   operands: 5\n",
       "3. ({(x + c) mod  N}_{x in {a...b}}, {0...N - 1})\n",
       "   core type: ExprTuple\n",
       "   sub-expressions: 6, 7\n",
       "4. and\n",
       "   core type: Literal\n",
       "   sub-expressions: \n",
       "5. (N in Integer, a in Integer, b in Integer, c in Integer, (b - a) = (N - 1), N != 0)\n",
       "   core type: ExprTuple\n",
       "   sub-expressions: 8, 9, 10, 11, 12, 13\n",
       "6. {(x + c) mod  N}_{x in {a...b}}\n",
       "   core type: Operation\n",
       "   operator: 14\n",
       "   operand: 25\n",
       "7. {0...N - 1}\n",
       "   core type: Operation\n",
       "   operator: 50\n",
       "   operands: 16\n",
       "8. N in Integer\n",
       "   core type: Operation\n",
       "   operator: 39\n",
       "   operands: 17\n",
       "9. a in Integer\n",
       "   core type: Operation\n",
       "   operator: 39\n",
       "   operands: 18\n",
       "10. b in Integer\n",
       "    core type: Operation\n",
       "    operator: 39\n",
       "    operands: 19\n",
       "11. c in Integer\n",
       "    core type: Operation\n",
       "    operator: 39\n",
       "    operands: 20\n",
       "12. (b - a) = (N - 1)\n",
       "    core type: Operation\n",
       "    operator: 21\n",
       "    operands: 22\n",
       "13. N != 0\n",
       "    core type: Operation\n",
       "    operator: 23\n",
       "    operands: 24\n",
       "14. SetOfAll\n",
       "    core type: Literal\n",
       "    sub-expressions: \n",
       "15. (x -> {(x + c) mod  N if x in {a...b}.)\n",
       "    core type: ExprTuple\n",
       "    sub-expressions: 25\n",
       "16. (0, N - 1)\n",
       "    core type: ExprTuple\n",
       "    sub-expressions: 29, 28\n",
       "17. (N, Integer)\n",
       "    core type: ExprTuple\n",
       "    sub-expressions: 45, 26\n",
       "18. (a, Integer)\n",
       "    core type: ExprTuple\n",
       "    sub-expressions: 54, 26\n",
       "19. (b, Integer)\n",
       "    core type: ExprTuple\n",
       "    sub-expressions: 55, 26\n",
       "20. (c, Integer)\n",
       "    core type: ExprTuple\n",
       "    sub-expressions: 53, 26\n",
       "21. =\n",
       "    core type: Literal\n",
       "    sub-expressions: \n",
       "22. (b - a, N - 1)\n",
       "    core type: ExprTuple\n",
       "    sub-expressions: 27, 28\n",
       "23. !=\n",
       "    core type: Literal\n",
       "    sub-expressions: \n",
       "24. (N, 0)\n",
       "    core type: ExprTuple\n",
       "    sub-expressions: 45, 29\n",
       "25. x -> {(x + c) mod  N if x in {a...b}.\n",
       "    core type: Lambda\n",
       "    parameter: 52\n",
       "    body: 30\n",
       "26. Integer\n",
       "    core type: Literal\n",
       "    sub-expressions: \n",
       "27. b - a\n",
       "    core type: Operation\n",
       "    operator: 48\n",
       "    operands: 31\n",
       "28. N - 1\n",
       "    core type: Operation\n",
       "    operator: 48\n",
       "    operands: 32\n",
       "29. 0\n",
       "    core type: Literal\n",
       "    sub-expressions: \n",
       "30. {(x + c) mod  N if x in {a...b}.\n",
       "    core type: Conditional\n",
       "    value: 33\n",
       "    condition: 34\n",
       "31. (b, -a)\n",
       "    core type: ExprTuple\n",
       "    sub-expressions: 55, 35\n",
       "32. (N, -1)\n",
       "    core type: ExprTuple\n",
       "    sub-expressions: 45, 36\n",
       "33. (x + c) mod  N\n",
       "    core type: Operation\n",
       "    operator: 37\n",
       "    operands: 38\n",
       "34. x in {a...b}\n",
       "    core type: Operation\n",
       "    operator: 39\n",
       "    operands: 40\n",
       "35. -a\n",
       "    core type: Operation\n",
       "    operator: 42\n",
       "    operand: 54\n",
       "36. -1\n",
       "    core type: Operation\n",
       "    operator: 42\n",
       "    operand: 47\n",
       "37. mod \n",
       "    core type: Literal\n",
       "    sub-expressions: \n",
       "38. (x + c, N)\n",
       "    core type: ExprTuple\n",
       "    sub-expressions: 44, 45\n",
       "39. in\n",
       "    core type: Literal\n",
       "    sub-expressions: \n",
       "40. (x, {a...b})\n",
       "    core type: ExprTuple\n",
       "    sub-expressions: 52, 46\n",
       "41. (a)\n",
       "    core type: ExprTuple\n",
       "    sub-expressions: 54\n",
       "42. -\n",
       "    core type: Literal\n",
       "    sub-expressions: \n",
       "43. (1)\n",
       "    core type: ExprTuple\n",
       "    sub-expressions: 47\n",
       "44. x + c\n",
       "    core type: Operation\n",
       "    operator: 48\n",
       "    operands: 49\n",
       "45. N\n",
       "    core type: Variable\n",
       "    sub-expressions: \n",
       "46. {a...b}\n",
       "    core type: Operation\n",
       "    operator: 50\n",
       "    operands: 51\n",
       "47. 1\n",
       "    core type: Literal\n",
       "    sub-expressions: \n",
       "48. +\n",
       "    core type: Literal\n",
       "    sub-expressions: \n",
       "49. (x, c)\n",
       "    core type: ExprTuple\n",
       "    sub-expressions: 52, 53\n",
       "50. Interval\n",
       "    core type: Literal\n",
       "    sub-expressions: \n",
       "51. (a, b)\n",
       "    core type: ExprTuple\n",
       "    sub-expressions: 54, 55\n",
       "52. x\n",
       "    core type: Variable\n",
       "    sub-expressions: \n",
       "53. c\n",
       "    core type: Variable\n",
       "    sub-expressions: \n",
       "54. a\n",
       "    core type: Variable\n",
       "    sub-expressions: \n",
       "55. b\n",
       "    core type: Variable\n",
       "    sub-expressions: "
      ]
     },
     "execution_count": 6,
     "metadata": {},
     "output_type": "execute_result"
    }
   ],
   "source": [
    "# display the expression information\n",
    "expr.expr_info()"
   ]
  },
  {
   "cell_type": "code",
   "execution_count": null,
   "metadata": {},
   "outputs": [],
   "source": []
  }
 ],
 "metadata": {
  "kernelspec": {
   "display_name": "Python 3",
   "language": "python",
   "name": "python3"
  }
 },
 "nbformat": 4,
 "nbformat_minor": 0
}