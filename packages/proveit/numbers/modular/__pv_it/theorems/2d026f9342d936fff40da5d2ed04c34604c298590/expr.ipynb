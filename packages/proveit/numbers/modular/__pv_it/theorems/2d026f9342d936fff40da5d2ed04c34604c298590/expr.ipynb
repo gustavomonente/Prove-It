{
 "cells": [
  {
   "cell_type": "markdown",
   "metadata": {},
   "source": [
    "Expression of type <a class=\"ProveItLink\" href=\"../../../../../../../doc/html/api/proveit.Conditional.html\">Conditional</a>\n",
    "=======================\n",
    "# from the theory of <a class=\"ProveItLink\" href=\"../../../_theory_nbs_/theory.ipynb\">proveit.numbers.modular</a>"
   ]
  },
  {
   "cell_type": "code",
   "execution_count": 1,
   "metadata": {},
   "outputs": [],
   "source": [
    "import proveit\n",
    "# Automation is not needed when building an expression:\n",
    "proveit.defaults.automation = False # This will speed things up.\n",
    "proveit.defaults.inline_pngs = False # Makes files smaller.\n",
    "%load_expr # Load the stored expression as 'stored_expr'\n",
    "# import Expression classes needed to build the expression\n",
    "from proveit import Conditional, a, b, c\n",
    "from proveit.logic import And, InSet, NotEquals\n",
    "from proveit.numbers import Abs, Add, LessEq, Mod, ModAbs, Neg, Real, zero"
   ]
  },
  {
   "cell_type": "code",
   "execution_count": 2,
   "metadata": {},
   "outputs": [
    {
     "data": {
      "text/html": [
       "<strong id=\"expr\">expr:</strong> <a class=\"ProveItLink\" href=\"expr.ipynb\"><img src=\"expr.png\" style=\"display:inline;vertical-align:middle;\" /></a><br>"
      ],
      "text/plain": [
       "expr: {|((b + a) mod  c) - b|_{mod c} <= |a| if a in Real ,  b in Real ,  c in Real ,  c != 0."
      ]
     },
     "execution_count": 2,
     "metadata": {},
     "output_type": "execute_result"
    }
   ],
   "source": [
    "# build up the expression from sub-expressions\n",
    "expr = Conditional(LessEq(ModAbs(Add(Mod(Add(b, a), c), Neg(b)), c), Abs(a)), And(InSet(a, Real), InSet(b, Real), InSet(c, Real), NotEquals(c, zero)))"
   ]
  },
  {
   "cell_type": "code",
   "execution_count": 3,
   "metadata": {},
   "outputs": [
    {
     "name": "stdout",
     "output_type": "stream",
     "text": [
      "Passed sanity check: expr matches stored_expr\n"
     ]
    }
   ],
   "source": [
    "# check that the built expression is the same as the stored expression\n",
    "assert expr == stored_expr\n",
    "assert expr._style_id == stored_expr._style_id\n",
    "print(\"Passed sanity check: expr matches stored_expr\")"
   ]
  },
  {
   "cell_type": "code",
   "execution_count": 4,
   "metadata": {},
   "outputs": [
    {
     "name": "stdout",
     "output_type": "stream",
     "text": [
      "\\left\\{\\left|\\left(\\left(b + a\\right) ~\\textup{mod}~ c\\right) - b\\right|_{\\textup{mod}\\thinspace c} \\leq \\left|a\\right| \\textrm{ if } a \\in \\mathbb{R} ,  b \\in \\mathbb{R} ,  c \\in \\mathbb{R} ,  c \\neq 0\\right..\n"
     ]
    }
   ],
   "source": [
    "# Show the LaTeX representation of the expression for convenience if you need it.\n",
    "print(expr.latex())"
   ]
  },
  {
   "cell_type": "code",
   "execution_count": 5,
   "metadata": {},
   "outputs": [
    {
     "data": {
      "text/html": [
       "<table><tr><th>&nbsp;</th><th>core type</th><th>sub-expressions</th><th>expression</th></tr>\n",
       "<tr><td>0</td><td>Conditional</td><td>value:&nbsp;1<br>condition:&nbsp;2<br></td><td><a class=\"ProveItLink\" href=\"expr.ipynb\"><img src=\"expr.png\" style=\"display:inline;vertical-align:middle;\" /></a></td></tr>\n",
       "<tr><td>1</td><td>Operation</td><td>operator:&nbsp;3<br>operands:&nbsp;4<br></td><td><a class=\"ProveItLink\" href=\"../8e700992a650dd4721c57f0d04e374be03eca11c0/expr.ipynb\"><img src=\"../8e700992a650dd4721c57f0d04e374be03eca11c0/expr.png\" style=\"display:inline;vertical-align:middle;\" /></a></td></tr>\n",
       "<tr><td>2</td><td>Operation</td><td>operator:&nbsp;5<br>operands:&nbsp;6<br></td><td><a class=\"ProveItLink\" href=\"../e338b8f379cc7c7acf307092cb88d4fe8a5b55190/expr.ipynb\"><img src=\"../e338b8f379cc7c7acf307092cb88d4fe8a5b55190/expr.png\" style=\"display:inline;vertical-align:middle;\" /></a></td></tr>\n",
       "<tr><td>3</td><td>Literal</td><td></td><td><a class=\"ProveItLink\" href=\"../../../../ordering/__pv_it/common/68379698d72b4689bbda4b5c5cca29ee599d70280/expr.ipynb\"><img src=\"../../../../ordering/__pv_it/common/68379698d72b4689bbda4b5c5cca29ee599d70280/expr.png\" style=\"display:inline;vertical-align:middle;\" /></a></td></tr>\n",
       "<tr><td>4</td><td>ExprTuple</td><td>7, 8</td><td><a class=\"ProveItLink\" href=\"../052bea332e98ccadf66e63bed6b51b4c2f4d37240/expr.ipynb\"><img src=\"../052bea332e98ccadf66e63bed6b51b4c2f4d37240/expr.png\" style=\"display:inline;vertical-align:middle;\" /></a></td></tr>\n",
       "<tr><td>5</td><td>Literal</td><td></td><td><a class=\"ProveItLink\" href=\"../../../../../logic/booleans/conjunction/__pv_it/common/42118ff318bd65d98b1393f64ce7c2269feef76e0/expr.ipynb\"><img src=\"../../../../../logic/booleans/conjunction/__pv_it/common/42118ff318bd65d98b1393f64ce7c2269feef76e0/expr.png\" style=\"display:inline;vertical-align:middle;\" /></a></td></tr>\n",
       "<tr><td>6</td><td>ExprTuple</td><td>9, 10, 11, 12</td><td><a class=\"ProveItLink\" href=\"../be3e7de6b634d188dfe25aa1943233003f9773610/expr.ipynb\"><img src=\"../be3e7de6b634d188dfe25aa1943233003f9773610/expr.png\" style=\"display:inline;vertical-align:middle;\" /></a></td></tr>\n",
       "<tr><td>7</td><td>Operation</td><td>operator:&nbsp;13<br>operands:&nbsp;14<br></td><td><a class=\"ProveItLink\" href=\"../8ddd7205ea927eb1d49bb2e25a43864edcff10f10/expr.ipynb\"><img src=\"../8ddd7205ea927eb1d49bb2e25a43864edcff10f10/expr.png\" style=\"display:inline;vertical-align:middle;\" /></a></td></tr>\n",
       "<tr><td>8</td><td>Operation</td><td>operator:&nbsp;15<br>operand:&nbsp;36<br></td><td><a class=\"ProveItLink\" href=\"../c232bdceb005ae3c1a30733bcb9bdb031d5928990/expr.ipynb\"><img src=\"../c232bdceb005ae3c1a30733bcb9bdb031d5928990/expr.png\" style=\"display:inline;vertical-align:middle;\" /></a></td></tr>\n",
       "<tr><td>9</td><td>Operation</td><td>operator:&nbsp;18<br>operands:&nbsp;16<br></td><td><a class=\"ProveItLink\" href=\"../bd2f502b953df5e1834a5d80011e6b2e7aa85c890/expr.ipynb\"><img src=\"../bd2f502b953df5e1834a5d80011e6b2e7aa85c890/expr.png\" style=\"display:inline;vertical-align:middle;\" /></a></td></tr>\n",
       "<tr><td>10</td><td>Operation</td><td>operator:&nbsp;18<br>operands:&nbsp;17<br></td><td><a class=\"ProveItLink\" href=\"../01066498eeade39164943c7fc785297aa9d0bb160/expr.ipynb\"><img src=\"../01066498eeade39164943c7fc785297aa9d0bb160/expr.png\" style=\"display:inline;vertical-align:middle;\" /></a></td></tr>\n",
       "<tr><td>11</td><td>Operation</td><td>operator:&nbsp;18<br>operands:&nbsp;19<br></td><td><a class=\"ProveItLink\" href=\"../97c2cd789f92aeb5958c71e9e8648177a398980b0/expr.ipynb\"><img src=\"../97c2cd789f92aeb5958c71e9e8648177a398980b0/expr.png\" style=\"display:inline;vertical-align:middle;\" /></a></td></tr>\n",
       "<tr><td>12</td><td>Operation</td><td>operator:&nbsp;20<br>operands:&nbsp;21<br></td><td><a class=\"ProveItLink\" href=\"../6153190b4c58255ca4f69a4d07d43e6c8dcc19340/expr.ipynb\"><img src=\"../6153190b4c58255ca4f69a4d07d43e6c8dcc19340/expr.png\" style=\"display:inline;vertical-align:middle;\" /></a></td></tr>\n",
       "<tr><td>13</td><td>Literal</td><td></td><td><a class=\"ProveItLink\" href=\"../../common/a54c009a0c69fd86b47cbe34f4e05f85c2d2e1680/expr.ipynb\"><img src=\"../../common/a54c009a0c69fd86b47cbe34f4e05f85c2d2e1680/expr.png\" style=\"display:inline;vertical-align:middle;\" /></a></td></tr>\n",
       "<tr><td>14</td><td>ExprTuple</td><td>22, 32</td><td><a class=\"ProveItLink\" href=\"../a8ff7df553ce5d0d3c60d9fc3c81a0b4b4886e3e0/expr.ipynb\"><img src=\"../a8ff7df553ce5d0d3c60d9fc3c81a0b4b4886e3e0/expr.png\" style=\"display:inline;vertical-align:middle;\" /></a></td></tr>\n",
       "<tr><td>15</td><td>Literal</td><td></td><td><a class=\"ProveItLink\" href=\"../../../../absolute_value/__pv_it/common/eea56c667bc0aad2dc76ed04b44c2bd98b94005f0/expr.ipynb\"><img src=\"../../../../absolute_value/__pv_it/common/eea56c667bc0aad2dc76ed04b44c2bd98b94005f0/expr.png\" style=\"display:inline;vertical-align:middle;\" /></a></td></tr>\n",
       "<tr><td>16</td><td>ExprTuple</td><td>36, 23</td><td><a class=\"ProveItLink\" href=\"../e05221385b373fb79191a5c3545ded5b3661ad320/expr.ipynb\"><img src=\"../e05221385b373fb79191a5c3545ded5b3661ad320/expr.png\" style=\"display:inline;vertical-align:middle;\" /></a></td></tr>\n",
       "<tr><td>17</td><td>ExprTuple</td><td>35, 23</td><td><a class=\"ProveItLink\" href=\"../c94d1101563abe2f3870a8e37dc10d8c654ef9d30/expr.ipynb\"><img src=\"../c94d1101563abe2f3870a8e37dc10d8c654ef9d30/expr.png\" style=\"display:inline;vertical-align:middle;\" /></a></td></tr>\n",
       "<tr><td>18</td><td>Literal</td><td></td><td><a class=\"ProveItLink\" href=\"../../../../../logic/sets/membership/__pv_it/common/477487d8796864d23d5810f83761435f25167f690/expr.ipynb\"><img src=\"../../../../../logic/sets/membership/__pv_it/common/477487d8796864d23d5810f83761435f25167f690/expr.png\" style=\"display:inline;vertical-align:middle;\" /></a></td></tr>\n",
       "<tr><td>19</td><td>ExprTuple</td><td>32, 23</td><td><a class=\"ProveItLink\" href=\"../321b042feab49825c6804fe26d1833ec999362eb0/expr.ipynb\"><img src=\"../321b042feab49825c6804fe26d1833ec999362eb0/expr.png\" style=\"display:inline;vertical-align:middle;\" /></a></td></tr>\n",
       "<tr><td>20</td><td>Literal</td><td></td><td><a class=\"ProveItLink\" href=\"../../../../../logic/equality/__pv_it/common/d96270bc9bb1bad54f773b1c04bfb343a739642c0/expr.ipynb\"><img src=\"../../../../../logic/equality/__pv_it/common/d96270bc9bb1bad54f773b1c04bfb343a739642c0/expr.png\" style=\"display:inline;vertical-align:middle;\" /></a></td></tr>\n",
       "<tr><td>21</td><td>ExprTuple</td><td>32, 24</td><td><a class=\"ProveItLink\" href=\"../ab3a00ce0933cb5d3b6bcdb75d13d039e0c0b6580/expr.ipynb\"><img src=\"../ab3a00ce0933cb5d3b6bcdb75d13d039e0c0b6580/expr.png\" style=\"display:inline;vertical-align:middle;\" /></a></td></tr>\n",
       "<tr><td>22</td><td>Operation</td><td>operator:&nbsp;33<br>operands:&nbsp;25<br></td><td><a class=\"ProveItLink\" href=\"../5c1f0c445dc2f382eaacd78df38bfc965cdcddd80/expr.ipynb\"><img src=\"../5c1f0c445dc2f382eaacd78df38bfc965cdcddd80/expr.png\" style=\"display:inline;vertical-align:middle;\" /></a></td></tr>\n",
       "<tr><td>23</td><td>Literal</td><td></td><td><a class=\"ProveItLink\" href=\"../../../../number_sets/real_numbers/__pv_it/common/93cac87a1a47e613f7a83b23ef7891599a1a4cca0/expr.ipynb\"><img src=\"../../../../number_sets/real_numbers/__pv_it/common/93cac87a1a47e613f7a83b23ef7891599a1a4cca0/expr.png\" style=\"display:inline;vertical-align:middle;\" /></a></td></tr>\n",
       "<tr><td>24</td><td>Literal</td><td></td><td><a class=\"ProveItLink\" href=\"../../../../numerals/__pv_it/common/7d0a36793ffe8d307a5c120ee5598162e8cd2db10/expr.ipynb\"><img src=\"../../../../numerals/__pv_it/common/7d0a36793ffe8d307a5c120ee5598162e8cd2db10/expr.png\" style=\"display:inline;vertical-align:middle;\" /></a></td></tr>\n",
       "<tr><td>25</td><td>ExprTuple</td><td>26, 27</td><td><a class=\"ProveItLink\" href=\"../2f862e5d10fd2f2653584ea65c56c8c9fe1a71110/expr.ipynb\"><img src=\"../2f862e5d10fd2f2653584ea65c56c8c9fe1a71110/expr.png\" style=\"display:inline;vertical-align:middle;\" /></a></td></tr>\n",
       "<tr><td>26</td><td>Operation</td><td>operator:&nbsp;28<br>operands:&nbsp;29<br></td><td><a class=\"ProveItLink\" href=\"../e8657b4b10b3f80b429de8296b9b8776021a6f310/expr.ipynb\"><img src=\"../e8657b4b10b3f80b429de8296b9b8776021a6f310/expr.png\" style=\"display:inline;vertical-align:middle;\" /></a></td></tr>\n",
       "<tr><td>27</td><td>Operation</td><td>operator:&nbsp;30<br>operand:&nbsp;35<br></td><td><a class=\"ProveItLink\" href=\"../7671fea725b7bcaf8182b4bb695191dc0c5161020/expr.ipynb\"><img src=\"../7671fea725b7bcaf8182b4bb695191dc0c5161020/expr.png\" style=\"display:inline;vertical-align:middle;\" /></a></td></tr>\n",
       "<tr><td>28</td><td>Literal</td><td></td><td><a class=\"ProveItLink\" href=\"../../common/584ce6c009529e10d649e470b8d428ecf704e77c0/expr.ipynb\"><img src=\"../../common/584ce6c009529e10d649e470b8d428ecf704e77c0/expr.png\" style=\"display:inline;vertical-align:middle;\" /></a></td></tr>\n",
       "<tr><td>29</td><td>ExprTuple</td><td>31, 32</td><td><a class=\"ProveItLink\" href=\"../56235da864b54c65e482c20b50d67a813fa406310/expr.ipynb\"><img src=\"../56235da864b54c65e482c20b50d67a813fa406310/expr.png\" style=\"display:inline;vertical-align:middle;\" /></a></td></tr>\n",
       "<tr><td>30</td><td>Literal</td><td></td><td><a class=\"ProveItLink\" href=\"../../../../negation/__pv_it/common/221b3c4d1770ee9051b7c044c3f9ec61196fc34b0/expr.ipynb\"><img src=\"../../../../negation/__pv_it/common/221b3c4d1770ee9051b7c044c3f9ec61196fc34b0/expr.png\" style=\"display:inline;vertical-align:middle;\" /></a></td></tr>\n",
       "<tr><td>31</td><td>Operation</td><td>operator:&nbsp;33<br>operands:&nbsp;34<br></td><td><a class=\"ProveItLink\" href=\"../b2cc061523b565e3e4ac801d5669ec231a94d7d80/expr.ipynb\"><img src=\"../b2cc061523b565e3e4ac801d5669ec231a94d7d80/expr.png\" style=\"display:inline;vertical-align:middle;\" /></a></td></tr>\n",
       "<tr><td>32</td><td>Variable</td><td></td><td><a class=\"ProveItLink\" href=\"../../../../../__pv_it/common/ceef4280a2f1cc604b455b54e735507244cc62cd0/expr.ipynb\"><img src=\"../../../../../__pv_it/common/ceef4280a2f1cc604b455b54e735507244cc62cd0/expr.png\" style=\"display:inline;vertical-align:middle;\" /></a></td></tr>\n",
       "<tr><td>33</td><td>Literal</td><td></td><td><a class=\"ProveItLink\" href=\"../../../../addition/__pv_it/common/4b7effaab3619a1c2c38fe2dee8601df8ec714590/expr.ipynb\"><img src=\"../../../../addition/__pv_it/common/4b7effaab3619a1c2c38fe2dee8601df8ec714590/expr.png\" style=\"display:inline;vertical-align:middle;\" /></a></td></tr>\n",
       "<tr><td>34</td><td>ExprTuple</td><td>35, 36</td><td><a class=\"ProveItLink\" href=\"../5ea6309560fa64152e27f7b9a886636aed7e02190/expr.ipynb\"><img src=\"../5ea6309560fa64152e27f7b9a886636aed7e02190/expr.png\" style=\"display:inline;vertical-align:middle;\" /></a></td></tr>\n",
       "<tr><td>35</td><td>Variable</td><td></td><td><a class=\"ProveItLink\" href=\"../../../../../__pv_it/common/195236b98c6c564a75b5dbada74b173bc52d5c3e0/expr.ipynb\"><img src=\"../../../../../__pv_it/common/195236b98c6c564a75b5dbada74b173bc52d5c3e0/expr.png\" style=\"display:inline;vertical-align:middle;\" /></a></td></tr>\n",
       "<tr><td>36</td><td>Variable</td><td></td><td><a class=\"ProveItLink\" href=\"../../../../../__pv_it/common/c06c606ec12678c58933ac85412ecadc2ae28be60/expr.ipynb\"><img src=\"../../../../../__pv_it/common/c06c606ec12678c58933ac85412ecadc2ae28be60/expr.png\" style=\"display:inline;vertical-align:middle;\" /></a></td></tr>\n",
       "</table>\n"
      ],
      "text/plain": [
       "0. {|((b + a) mod  c) - b|_{mod c} <= |a| if a in Real ,  b in Real ,  c in Real ,  c != 0.\n",
       "   core type: Conditional\n",
       "   value: 1\n",
       "   condition: 2\n",
       "1. |((b + a) mod  c) - b|_{mod c} <= |a|\n",
       "   core type: Operation\n",
       "   operator: 3\n",
       "   operands: 4\n",
       "2. (a in Real) and (b in Real) and (c in Real) and (c != 0)\n",
       "   core type: Operation\n",
       "   operator: 5\n",
       "   operands: 6\n",
       "3. <=\n",
       "   core type: Literal\n",
       "   sub-expressions: \n",
       "4. (|((b + a) mod  c) - b|_{mod c}, |a|)\n",
       "   core type: ExprTuple\n",
       "   sub-expressions: 7, 8\n",
       "5. and\n",
       "   core type: Literal\n",
       "   sub-expressions: \n",
       "6. (a in Real, b in Real, c in Real, c != 0)\n",
       "   core type: ExprTuple\n",
       "   sub-expressions: 9, 10, 11, 12\n",
       "7. |((b + a) mod  c) - b|_{mod c}\n",
       "   core type: Operation\n",
       "   operator: 13\n",
       "   operands: 14\n",
       "8. |a|\n",
       "   core type: Operation\n",
       "   operator: 15\n",
       "   operand: 36\n",
       "9. a in Real\n",
       "   core type: Operation\n",
       "   operator: 18\n",
       "   operands: 16\n",
       "10. b in Real\n",
       "    core type: Operation\n",
       "    operator: 18\n",
       "    operands: 17\n",
       "11. c in Real\n",
       "    core type: Operation\n",
       "    operator: 18\n",
       "    operands: 19\n",
       "12. c != 0\n",
       "    core type: Operation\n",
       "    operator: 20\n",
       "    operands: 21\n",
       "13. ModAbs\n",
       "    core type: Literal\n",
       "    sub-expressions: \n",
       "14. (((b + a) mod  c) - b, c)\n",
       "    core type: ExprTuple\n",
       "    sub-expressions: 22, 32\n",
       "15. Abs\n",
       "    core type: Literal\n",
       "    sub-expressions: \n",
       "16. (a, Real)\n",
       "    core type: ExprTuple\n",
       "    sub-expressions: 36, 23\n",
       "17. (b, Real)\n",
       "    core type: ExprTuple\n",
       "    sub-expressions: 35, 23\n",
       "18. in\n",
       "    core type: Literal\n",
       "    sub-expressions: \n",
       "19. (c, Real)\n",
       "    core type: ExprTuple\n",
       "    sub-expressions: 32, 23\n",
       "20. !=\n",
       "    core type: Literal\n",
       "    sub-expressions: \n",
       "21. (c, 0)\n",
       "    core type: ExprTuple\n",
       "    sub-expressions: 32, 24\n",
       "22. ((b + a) mod  c) - b\n",
       "    core type: Operation\n",
       "    operator: 33\n",
       "    operands: 25\n",
       "23. Real\n",
       "    core type: Literal\n",
       "    sub-expressions: \n",
       "24. 0\n",
       "    core type: Literal\n",
       "    sub-expressions: \n",
       "25. ((b + a) mod  c, -b)\n",
       "    core type: ExprTuple\n",
       "    sub-expressions: 26, 27\n",
       "26. (b + a) mod  c\n",
       "    core type: Operation\n",
       "    operator: 28\n",
       "    operands: 29\n",
       "27. -b\n",
       "    core type: Operation\n",
       "    operator: 30\n",
       "    operand: 35\n",
       "28. mod \n",
       "    core type: Literal\n",
       "    sub-expressions: \n",
       "29. (b + a, c)\n",
       "    core type: ExprTuple\n",
       "    sub-expressions: 31, 32\n",
       "30. -\n",
       "    core type: Literal\n",
       "    sub-expressions: \n",
       "31. b + a\n",
       "    core type: Operation\n",
       "    operator: 33\n",
       "    operands: 34\n",
       "32. c\n",
       "    core type: Variable\n",
       "    sub-expressions: \n",
       "33. +\n",
       "    core type: Literal\n",
       "    sub-expressions: \n",
       "34. (b, a)\n",
       "    core type: ExprTuple\n",
       "    sub-expressions: 35, 36\n",
       "35. b\n",
       "    core type: Variable\n",
       "    sub-expressions: \n",
       "36. a\n",
       "    core type: Variable\n",
       "    sub-expressions: "
      ]
     },
     "execution_count": 5,
     "metadata": {},
     "output_type": "execute_result"
    }
   ],
   "source": [
    "# display the expression information\n",
    "expr.expr_info()"
   ]
  },
  {
   "cell_type": "code",
   "execution_count": null,
   "metadata": {},
   "outputs": [],
   "source": []
  }
 ],
 "metadata": {
  "kernelspec": {
   "display_name": "Python 3",
   "language": "python",
   "name": "python3"
  }
 },
 "nbformat": 4,
 "nbformat_minor": 0
}