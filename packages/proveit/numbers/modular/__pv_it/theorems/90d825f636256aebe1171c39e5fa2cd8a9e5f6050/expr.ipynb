{
 "cells": [
  {
   "cell_type": "markdown",
   "metadata": {},
   "source": [
    "Expression of type <a class=\"ProveItLink\" href=\"../../../../../../../doc/html/api/proveit.ExprTuple.html\">ExprTuple</a>\n",
    "=======================\n",
    "# from the theory of <a class=\"ProveItLink\" href=\"../../../_theory_nbs_/theory.ipynb\">proveit.numbers.modular</a>"
   ]
  },
  {
   "cell_type": "code",
   "execution_count": 1,
   "metadata": {},
   "outputs": [],
   "source": [
    "import proveit\n",
    "# Automation is not needed when building an expression:\n",
    "proveit.defaults.automation = False # This will speed things up.\n",
    "proveit.defaults.inline_pngs = False # Makes files smaller.\n",
    "%load_expr # Load the stored expression as 'stored_expr'\n",
    "# import Expression classes needed to build the expression\n",
    "from proveit import Conditional, ExprTuple, Lambda, a, b\n",
    "from proveit.logic import And, InSet, NotEquals\n",
    "from proveit.numbers import Abs, Add, Integer, Interval, ModAbs, Neg, one, zero"
   ]
  },
  {
   "cell_type": "code",
   "execution_count": 2,
   "metadata": {},
   "outputs": [
    {
     "data": {
      "text/html": [
       "<strong id=\"expr\">expr:</strong> <a class=\"ProveItLink\" href=\"expr.ipynb\"><img src=\"expr.png\" style=\"display:inline;vertical-align:middle;\" /></a><br>"
      ],
      "text/plain": [
       "expr: ((a, b) -> {|a|_{mod b} in {0...|b| - 1} if a in Integer ,  b in Integer ,  b != 0.)"
      ]
     },
     "execution_count": 2,
     "metadata": {},
     "output_type": "execute_result"
    }
   ],
   "source": [
    "# build up the expression from sub-expressions\n",
    "expr = ExprTuple(Lambda([a, b], Conditional(InSet(ModAbs(a, b), Interval(zero, Add(Abs(b), Neg(one)))), And(InSet(a, Integer), InSet(b, Integer), NotEquals(b, zero)))))"
   ]
  },
  {
   "cell_type": "code",
   "execution_count": 3,
   "metadata": {},
   "outputs": [
    {
     "name": "stdout",
     "output_type": "stream",
     "text": [
      "Passed sanity check: expr matches stored_expr\n"
     ]
    }
   ],
   "source": [
    "# check that the built expression is the same as the stored expression\n",
    "assert expr == stored_expr\n",
    "assert expr._style_id == stored_expr._style_id\n",
    "print(\"Passed sanity check: expr matches stored_expr\")"
   ]
  },
  {
   "cell_type": "code",
   "execution_count": 4,
   "metadata": {},
   "outputs": [
    {
     "name": "stdout",
     "output_type": "stream",
     "text": [
      "\\left(\\left(a, b\\right) \\mapsto \\left\\{\\left|a\\right|_{\\textup{mod}\\thinspace b} \\in \\{0 \\ldots \\left|b\\right| - 1\\} \\textrm{ if } a \\in \\mathbb{Z} ,  b \\in \\mathbb{Z} ,  b \\neq 0\\right..\\right)\n"
     ]
    }
   ],
   "source": [
    "# Show the LaTeX representation of the expression for convenience if you need it.\n",
    "print(expr.latex())"
   ]
  },
  {
   "cell_type": "code",
   "execution_count": 5,
   "metadata": {},
   "outputs": [
    {
     "data": {
      "text/html": [
       "no style options"
      ],
      "text/plain": [
       "no style options"
      ]
     },
     "execution_count": 5,
     "metadata": {},
     "output_type": "execute_result"
    }
   ],
   "source": [
    "expr.style_options()"
   ]
  },
  {
   "cell_type": "code",
   "execution_count": 6,
   "metadata": {},
   "outputs": [
    {
     "data": {
      "text/html": [
       "<table><tr><th>&nbsp;</th><th>core type</th><th>sub-expressions</th><th>expression</th></tr>\n",
       "<tr><td>0</td><td>ExprTuple</td><td>1</td><td><a class=\"ProveItLink\" href=\"expr.ipynb\"><img src=\"expr.png\" style=\"display:inline;vertical-align:middle;\" /></a></td></tr>\n",
       "<tr><td>1</td><td>Lambda</td><td>parameters:&nbsp;14<br>body:&nbsp;2<br></td><td><a class=\"ProveItLink\" href=\"../fe6966fb0d34e89b025877ed25b2737c6a6846f10/expr.ipynb\"><img src=\"../fe6966fb0d34e89b025877ed25b2737c6a6846f10/expr.png\" style=\"display:inline;vertical-align:middle;\" /></a></td></tr>\n",
       "<tr><td>2</td><td>Conditional</td><td>value:&nbsp;3<br>condition:&nbsp;4<br></td><td><a class=\"ProveItLink\" href=\"../c0f074d0c6c04190d760de914a51bba81c1e7a620/expr.ipynb\"><img src=\"../c0f074d0c6c04190d760de914a51bba81c1e7a620/expr.png\" style=\"display:inline;vertical-align:middle;\" /></a></td></tr>\n",
       "<tr><td>3</td><td>Operation</td><td>operator:&nbsp;18<br>operands:&nbsp;5<br></td><td><a class=\"ProveItLink\" href=\"../30178d194d3741570e940045250ebe2f1b639f1d0/expr.ipynb\"><img src=\"../30178d194d3741570e940045250ebe2f1b639f1d0/expr.png\" style=\"display:inline;vertical-align:middle;\" /></a></td></tr>\n",
       "<tr><td>4</td><td>Operation</td><td>operator:&nbsp;6<br>operands:&nbsp;7<br></td><td><a class=\"ProveItLink\" href=\"../04647d910759d51779337ffe11b86dec8709c9a80/expr.ipynb\"><img src=\"../04647d910759d51779337ffe11b86dec8709c9a80/expr.png\" style=\"display:inline;vertical-align:middle;\" /></a></td></tr>\n",
       "<tr><td>5</td><td>ExprTuple</td><td>8, 9</td><td><a class=\"ProveItLink\" href=\"../0142225e3051a517e51bde204dfcdfd472d4e3560/expr.ipynb\"><img src=\"../0142225e3051a517e51bde204dfcdfd472d4e3560/expr.png\" style=\"display:inline;vertical-align:middle;\" /></a></td></tr>\n",
       "<tr><td>6</td><td>Literal</td><td></td><td><a class=\"ProveItLink\" href=\"../../../../../logic/booleans/conjunction/__pv_it/common/26b94b53e70b1d77b70f0d9d4236347db37731060/expr.ipynb\"><img src=\"../../../../../logic/booleans/conjunction/__pv_it/common/26b94b53e70b1d77b70f0d9d4236347db37731060/expr.png\" style=\"display:inline;vertical-align:middle;\" /></a></td></tr>\n",
       "<tr><td>7</td><td>ExprTuple</td><td>10, 11, 12</td><td><a class=\"ProveItLink\" href=\"../14e03062579f1bd69b7f98b185eca5e335d472940/expr.ipynb\"><img src=\"../14e03062579f1bd69b7f98b185eca5e335d472940/expr.png\" style=\"display:inline;vertical-align:middle;\" /></a></td></tr>\n",
       "<tr><td>8</td><td>Operation</td><td>operator:&nbsp;13<br>operands:&nbsp;14<br></td><td><a class=\"ProveItLink\" href=\"../c78ac11a689f33ba98b58b63785ab8b59daf0ab70/expr.ipynb\"><img src=\"../c78ac11a689f33ba98b58b63785ab8b59daf0ab70/expr.png\" style=\"display:inline;vertical-align:middle;\" /></a></td></tr>\n",
       "<tr><td>9</td><td>Operation</td><td>operator:&nbsp;15<br>operands:&nbsp;16<br></td><td><a class=\"ProveItLink\" href=\"../ba91a4f8a2095d5a6fe226d26c25d7a5d14a9b8a0/expr.ipynb\"><img src=\"../ba91a4f8a2095d5a6fe226d26c25d7a5d14a9b8a0/expr.png\" style=\"display:inline;vertical-align:middle;\" /></a></td></tr>\n",
       "<tr><td>10</td><td>Operation</td><td>operator:&nbsp;18<br>operands:&nbsp;17<br></td><td><a class=\"ProveItLink\" href=\"../c8380b1bd6a816c4855607ac0e0f0c93ce47e0330/expr.ipynb\"><img src=\"../c8380b1bd6a816c4855607ac0e0f0c93ce47e0330/expr.png\" style=\"display:inline;vertical-align:middle;\" /></a></td></tr>\n",
       "<tr><td>11</td><td>Operation</td><td>operator:&nbsp;18<br>operands:&nbsp;19<br></td><td><a class=\"ProveItLink\" href=\"../2b9e9b4a95ebae8e8b778db1c976ac0b586cc19c0/expr.ipynb\"><img src=\"../2b9e9b4a95ebae8e8b778db1c976ac0b586cc19c0/expr.png\" style=\"display:inline;vertical-align:middle;\" /></a></td></tr>\n",
       "<tr><td>12</td><td>Operation</td><td>operator:&nbsp;20<br>operands:&nbsp;21<br></td><td><a class=\"ProveItLink\" href=\"../c60120fc39d338b5df5ab620a1e969583dd2bfc10/expr.ipynb\"><img src=\"../c60120fc39d338b5df5ab620a1e969583dd2bfc10/expr.png\" style=\"display:inline;vertical-align:middle;\" /></a></td></tr>\n",
       "<tr><td>13</td><td>Literal</td><td></td><td><a class=\"ProveItLink\" href=\"../../common/d72011aab1870abcc7b54d70aa7412339eecb4df0/expr.ipynb\"><img src=\"../../common/d72011aab1870abcc7b54d70aa7412339eecb4df0/expr.png\" style=\"display:inline;vertical-align:middle;\" /></a></td></tr>\n",
       "<tr><td>14</td><td>ExprTuple</td><td>23, 34</td><td><a class=\"ProveItLink\" href=\"../1bdfc8550dcba21649b1aca02603584957f865fb0/expr.ipynb\"><img src=\"../1bdfc8550dcba21649b1aca02603584957f865fb0/expr.png\" style=\"display:inline;vertical-align:middle;\" /></a></td></tr>\n",
       "<tr><td>15</td><td>Literal</td><td></td><td><a class=\"ProveItLink\" href=\"../../../../number_sets/integers/__pv_it/common/fcf0def17f5c3c84b64c959b39aed0e5dad7f3340/expr.ipynb\"><img src=\"../../../../number_sets/integers/__pv_it/common/fcf0def17f5c3c84b64c959b39aed0e5dad7f3340/expr.png\" style=\"display:inline;vertical-align:middle;\" /></a></td></tr>\n",
       "<tr><td>16</td><td>ExprTuple</td><td>25, 22</td><td><a class=\"ProveItLink\" href=\"../2e4a7c5c7087089f4b0b4ee8812685f9611743550/expr.ipynb\"><img src=\"../2e4a7c5c7087089f4b0b4ee8812685f9611743550/expr.png\" style=\"display:inline;vertical-align:middle;\" /></a></td></tr>\n",
       "<tr><td>17</td><td>ExprTuple</td><td>23, 24</td><td><a class=\"ProveItLink\" href=\"../5054593301ba4603397052682d5363a302c7342e0/expr.ipynb\"><img src=\"../5054593301ba4603397052682d5363a302c7342e0/expr.png\" style=\"display:inline;vertical-align:middle;\" /></a></td></tr>\n",
       "<tr><td>18</td><td>Literal</td><td></td><td><a class=\"ProveItLink\" href=\"../../../../../logic/sets/membership/__pv_it/common/7171deca84f71f47a6ec7696972d1632274a12880/expr.ipynb\"><img src=\"../../../../../logic/sets/membership/__pv_it/common/7171deca84f71f47a6ec7696972d1632274a12880/expr.png\" style=\"display:inline;vertical-align:middle;\" /></a></td></tr>\n",
       "<tr><td>19</td><td>ExprTuple</td><td>34, 24</td><td><a class=\"ProveItLink\" href=\"../32f1be457e9e1c80d62298435553380704cefe170/expr.ipynb\"><img src=\"../32f1be457e9e1c80d62298435553380704cefe170/expr.png\" style=\"display:inline;vertical-align:middle;\" /></a></td></tr>\n",
       "<tr><td>20</td><td>Literal</td><td></td><td><a class=\"ProveItLink\" href=\"../../../../../logic/equality/__pv_it/common/8dab0e450b6dad95cf65833220bcc832732dfd3c0/expr.ipynb\"><img src=\"../../../../../logic/equality/__pv_it/common/8dab0e450b6dad95cf65833220bcc832732dfd3c0/expr.png\" style=\"display:inline;vertical-align:middle;\" /></a></td></tr>\n",
       "<tr><td>21</td><td>ExprTuple</td><td>34, 25</td><td><a class=\"ProveItLink\" href=\"../2e37a572e6d78189134e7123db6bdb8ee8c8d3e80/expr.ipynb\"><img src=\"../2e37a572e6d78189134e7123db6bdb8ee8c8d3e80/expr.png\" style=\"display:inline;vertical-align:middle;\" /></a></td></tr>\n",
       "<tr><td>22</td><td>Operation</td><td>operator:&nbsp;26<br>operands:&nbsp;27<br></td><td><a class=\"ProveItLink\" href=\"../2f0b0f987b47f45b90bb1a6feae065b79a14ac510/expr.ipynb\"><img src=\"../2f0b0f987b47f45b90bb1a6feae065b79a14ac510/expr.png\" style=\"display:inline;vertical-align:middle;\" /></a></td></tr>\n",
       "<tr><td>23</td><td>Variable</td><td></td><td><a class=\"ProveItLink\" href=\"../../../../../__pv_it/common/66c90e66682f107a881f2d666959f64e2e72ad750/expr.ipynb\"><img src=\"../../../../../__pv_it/common/66c90e66682f107a881f2d666959f64e2e72ad750/expr.png\" style=\"display:inline;vertical-align:middle;\" /></a></td></tr>\n",
       "<tr><td>24</td><td>Literal</td><td></td><td><a class=\"ProveItLink\" href=\"../../../../number_sets/integers/__pv_it/common/21b035fc94b1f20bfb5161d2c7bd6eb2042cc5670/expr.ipynb\"><img src=\"../../../../number_sets/integers/__pv_it/common/21b035fc94b1f20bfb5161d2c7bd6eb2042cc5670/expr.png\" style=\"display:inline;vertical-align:middle;\" /></a></td></tr>\n",
       "<tr><td>25</td><td>Literal</td><td></td><td><a class=\"ProveItLink\" href=\"../../../../numerals/__pv_it/common/c35fdf7268947ca3e24174d2909dc9d0a7f3aac60/expr.ipynb\"><img src=\"../../../../numerals/__pv_it/common/c35fdf7268947ca3e24174d2909dc9d0a7f3aac60/expr.png\" style=\"display:inline;vertical-align:middle;\" /></a></td></tr>\n",
       "<tr><td>26</td><td>Literal</td><td></td><td><a class=\"ProveItLink\" href=\"../../../../addition/__pv_it/common/1f38fe5cce441387feef296e2c0a2eac260bb4f30/expr.ipynb\"><img src=\"../../../../addition/__pv_it/common/1f38fe5cce441387feef296e2c0a2eac260bb4f30/expr.png\" style=\"display:inline;vertical-align:middle;\" /></a></td></tr>\n",
       "<tr><td>27</td><td>ExprTuple</td><td>28, 29</td><td><a class=\"ProveItLink\" href=\"../3ea95f11b980173ec03a63fd403809e1a1509e420/expr.ipynb\"><img src=\"../3ea95f11b980173ec03a63fd403809e1a1509e420/expr.png\" style=\"display:inline;vertical-align:middle;\" /></a></td></tr>\n",
       "<tr><td>28</td><td>Operation</td><td>operator:&nbsp;30<br>operand:&nbsp;34<br></td><td><a class=\"ProveItLink\" href=\"../a745a484a926ee8e78e31a7674b088c1839deada0/expr.ipynb\"><img src=\"../a745a484a926ee8e78e31a7674b088c1839deada0/expr.png\" style=\"display:inline;vertical-align:middle;\" /></a></td></tr>\n",
       "<tr><td>29</td><td>Operation</td><td>operator:&nbsp;32<br>operand:&nbsp;35<br></td><td><a class=\"ProveItLink\" href=\"../194689aa2092eb5e83b339e69e1c112868251dd50/expr.ipynb\"><img src=\"../194689aa2092eb5e83b339e69e1c112868251dd50/expr.png\" style=\"display:inline;vertical-align:middle;\" /></a></td></tr>\n",
       "<tr><td>30</td><td>Literal</td><td></td><td><a class=\"ProveItLink\" href=\"../../../../absolute_value/__pv_it/common/6430f141f5f0b9665d136ab5dd21c24f48b3a19c0/expr.ipynb\"><img src=\"../../../../absolute_value/__pv_it/common/6430f141f5f0b9665d136ab5dd21c24f48b3a19c0/expr.png\" style=\"display:inline;vertical-align:middle;\" /></a></td></tr>\n",
       "<tr><td>31</td><td>ExprTuple</td><td>34</td><td><a class=\"ProveItLink\" href=\"../4cabf1751a27ab39c608ddfb8fada31b9de8f32c0/expr.ipynb\"><img src=\"../4cabf1751a27ab39c608ddfb8fada31b9de8f32c0/expr.png\" style=\"display:inline;vertical-align:middle;\" /></a></td></tr>\n",
       "<tr><td>32</td><td>Literal</td><td></td><td><a class=\"ProveItLink\" href=\"../../../../negation/__pv_it/common/31a69a5c76809537045e3884859f178d8d9c845c0/expr.ipynb\"><img src=\"../../../../negation/__pv_it/common/31a69a5c76809537045e3884859f178d8d9c845c0/expr.png\" style=\"display:inline;vertical-align:middle;\" /></a></td></tr>\n",
       "<tr><td>33</td><td>ExprTuple</td><td>35</td><td><a class=\"ProveItLink\" href=\"../983fb1abdb7789966ec8b7afe0d4f7ca8578c9e50/expr.ipynb\"><img src=\"../983fb1abdb7789966ec8b7afe0d4f7ca8578c9e50/expr.png\" style=\"display:inline;vertical-align:middle;\" /></a></td></tr>\n",
       "<tr><td>34</td><td>Variable</td><td></td><td><a class=\"ProveItLink\" href=\"../../../../../__pv_it/common/4a5db8cc5c67969ec864bd3ea598be37cb6f5e550/expr.ipynb\"><img src=\"../../../../../__pv_it/common/4a5db8cc5c67969ec864bd3ea598be37cb6f5e550/expr.png\" style=\"display:inline;vertical-align:middle;\" /></a></td></tr>\n",
       "<tr><td>35</td><td>Literal</td><td></td><td><a class=\"ProveItLink\" href=\"../../../../numerals/__pv_it/common/d278e359da0695d9652dd541d45264f93703e2e40/expr.ipynb\"><img src=\"../../../../numerals/__pv_it/common/d278e359da0695d9652dd541d45264f93703e2e40/expr.png\" style=\"display:inline;vertical-align:middle;\" /></a></td></tr>\n",
       "</table>\n"
      ],
      "text/plain": [
       "0. ((a, b) -> {|a|_{mod b} in {0...|b| - 1} if a in Integer ,  b in Integer ,  b != 0.)\n",
       "   core type: ExprTuple\n",
       "   sub-expressions: 1\n",
       "1. (a, b) -> {|a|_{mod b} in {0...|b| - 1} if a in Integer ,  b in Integer ,  b != 0.\n",
       "   core type: Lambda\n",
       "   parameters: 14\\n   body: 2\n",
       "2. {|a|_{mod b} in {0...|b| - 1} if a in Integer ,  b in Integer ,  b != 0.\n",
       "   core type: Conditional\n",
       "   value: 3\n",
       "   condition: 4\n",
       "3. |a|_{mod b} in {0...|b| - 1}\n",
       "   core type: Operation\n",
       "   operator: 18\n",
       "   operands: 5\n",
       "4. (a in Integer) and (b in Integer) and (b != 0)\n",
       "   core type: Operation\n",
       "   operator: 6\n",
       "   operands: 7\n",
       "5. (|a|_{mod b}, {0...|b| - 1})\n",
       "   core type: ExprTuple\n",
       "   sub-expressions: 8, 9\n",
       "6. and\n",
       "   core type: Literal\n",
       "   sub-expressions: \n",
       "7. (a in Integer, b in Integer, b != 0)\n",
       "   core type: ExprTuple\n",
       "   sub-expressions: 10, 11, 12\n",
       "8. |a|_{mod b}\n",
       "   core type: Operation\n",
       "   operator: 13\n",
       "   operands: 14\n",
       "9. {0...|b| - 1}\n",
       "   core type: Operation\n",
       "   operator: 15\n",
       "   operands: 16\n",
       "10. a in Integer\n",
       "    core type: Operation\n",
       "    operator: 18\n",
       "    operands: 17\n",
       "11. b in Integer\n",
       "    core type: Operation\n",
       "    operator: 18\n",
       "    operands: 19\n",
       "12. b != 0\n",
       "    core type: Operation\n",
       "    operator: 20\n",
       "    operands: 21\n",
       "13. ModAbs\n",
       "    core type: Literal\n",
       "    sub-expressions: \n",
       "14. (a, b)\n",
       "    core type: ExprTuple\n",
       "    sub-expressions: 23, 34\n",
       "15. Interval\n",
       "    core type: Literal\n",
       "    sub-expressions: \n",
       "16. (0, |b| - 1)\n",
       "    core type: ExprTuple\n",
       "    sub-expressions: 25, 22\n",
       "17. (a, Integer)\n",
       "    core type: ExprTuple\n",
       "    sub-expressions: 23, 24\n",
       "18. in\n",
       "    core type: Literal\n",
       "    sub-expressions: \n",
       "19. (b, Integer)\n",
       "    core type: ExprTuple\n",
       "    sub-expressions: 34, 24\n",
       "20. !=\n",
       "    core type: Literal\n",
       "    sub-expressions: \n",
       "21. (b, 0)\n",
       "    core type: ExprTuple\n",
       "    sub-expressions: 34, 25\n",
       "22. |b| - 1\n",
       "    core type: Operation\n",
       "    operator: 26\n",
       "    operands: 27\n",
       "23. a\n",
       "    core type: Variable\n",
       "    sub-expressions: \n",
       "24. Integer\n",
       "    core type: Literal\n",
       "    sub-expressions: \n",
       "25. 0\n",
       "    core type: Literal\n",
       "    sub-expressions: \n",
       "26. +\n",
       "    core type: Literal\n",
       "    sub-expressions: \n",
       "27. (|b|, -1)\n",
       "    core type: ExprTuple\n",
       "    sub-expressions: 28, 29\n",
       "28. |b|\n",
       "    core type: Operation\n",
       "    operator: 30\n",
       "    operand: 34\n",
       "29. -1\n",
       "    core type: Operation\n",
       "    operator: 32\n",
       "    operand: 35\n",
       "30. Abs\n",
       "    core type: Literal\n",
       "    sub-expressions: \n",
       "31. (b)\n",
       "    core type: ExprTuple\n",
       "    sub-expressions: 34\n",
       "32. -\n",
       "    core type: Literal\n",
       "    sub-expressions: \n",
       "33. (1)\n",
       "    core type: ExprTuple\n",
       "    sub-expressions: 35\n",
       "34. b\n",
       "    core type: Variable\n",
       "    sub-expressions: \n",
       "35. 1\n",
       "    core type: Literal\n",
       "    sub-expressions: "
      ]
     },
     "execution_count": 6,
     "metadata": {},
     "output_type": "execute_result"
    }
   ],
   "source": [
    "# display the expression information\n",
    "expr.expr_info()"
   ]
  },
  {
   "cell_type": "code",
   "execution_count": null,
   "metadata": {},
   "outputs": [],
   "source": []
  }
 ],
 "metadata": {
  "kernelspec": {
   "display_name": "Python 3",
   "language": "python",
   "name": "python3"
  }
 },
 "nbformat": 4,
 "nbformat_minor": 0
}