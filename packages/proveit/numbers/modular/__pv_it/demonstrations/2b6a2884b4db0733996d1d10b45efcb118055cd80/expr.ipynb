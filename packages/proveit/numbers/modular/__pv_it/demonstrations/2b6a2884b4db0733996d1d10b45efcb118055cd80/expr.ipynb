{
 "cells": [
  {
   "cell_type": "markdown",
   "metadata": {},
   "source": [
    "Expression of type <a class=\"ProveItLink\" href=\"../../../../../../../doc/html/api/proveit.ExprTuple.html\">ExprTuple</a>\n",
    "=======================\n",
    "# from the theory of <a class=\"ProveItLink\" href=\"../../../_theory_nbs_/theory.ipynb\">proveit.numbers.modular</a>"
   ]
  },
  {
   "cell_type": "code",
   "execution_count": 1,
   "metadata": {},
   "outputs": [],
   "source": [
    "import proveit\n",
    "# Automation is not needed when building an expression:\n",
    "proveit.defaults.automation = False # This will speed things up.\n",
    "proveit.defaults.inline_pngs = False # Makes files smaller.\n",
    "%load_expr # Load the stored expression as 'stored_expr'\n",
    "# import Expression classes needed to build the expression\n",
    "from proveit import ExprTuple\n",
    "from proveit.numbers import Abs, Add, Interval, ModAbs, Neg, one, three, two, zero"
   ]
  },
  {
   "cell_type": "code",
   "execution_count": 2,
   "metadata": {},
   "outputs": [
    {
     "data": {
      "text/html": [
       "<strong id=\"expr\">expr:</strong> <a class=\"ProveItLink\" href=\"expr.ipynb\"><img src=\"expr.png\" style=\"display:inline;vertical-align:middle;\" /></a><br>"
      ],
      "text/plain": [
       "expr: (|3|_{mod 2}, {0...|2| - 1})"
      ]
     },
     "execution_count": 2,
     "metadata": {},
     "output_type": "execute_result"
    }
   ],
   "source": [
    "# build up the expression from sub-expressions\n",
    "expr = ExprTuple(ModAbs(three, two), Interval(zero, Add(Abs(two), Neg(one))))"
   ]
  },
  {
   "cell_type": "code",
   "execution_count": 3,
   "metadata": {},
   "outputs": [
    {
     "name": "stdout",
     "output_type": "stream",
     "text": [
      "Passed sanity check: expr matches stored_expr\n"
     ]
    }
   ],
   "source": [
    "# check that the built expression is the same as the stored expression\n",
    "assert expr == stored_expr\n",
    "assert expr._style_id == stored_expr._style_id\n",
    "print(\"Passed sanity check: expr matches stored_expr\")"
   ]
  },
  {
   "cell_type": "code",
   "execution_count": 4,
   "metadata": {},
   "outputs": [
    {
     "name": "stdout",
     "output_type": "stream",
     "text": [
      "\\left(\\left|3\\right|_{\\textup{mod}\\thinspace 2}, \\{0 \\ldots \\left|2\\right| - 1\\}\\right)\n"
     ]
    }
   ],
   "source": [
    "# Show the LaTeX representation of the expression for convenience if you need it.\n",
    "print(expr.latex())"
   ]
  },
  {
   "cell_type": "code",
   "execution_count": 5,
   "metadata": {},
   "outputs": [
    {
     "data": {
      "text/html": [
       "<table>\n",
       "<tr><th>name</th><th>description</th><th>default</th><th>current value</th><th>related methods</th></tr><tr><td>wrap_positions</td><td>position(s) at which wrapping is to occur; 'n' is after the nth comma.</td><td>()</td><td>()</td><td>('with_wrapping_at',)</td></tr>\n",
       "<tr><td>justification</td><td>if any wrap positions are set, justify to the 'left', 'center', or 'right'</td><td>left</td><td>left</td><td>('with_justification',)</td></tr>\n",
       "</table>\n"
      ],
      "text/plain": [
       "style name: wrap_positions\n",
       "description: position(s) at which wrapping is to occur; 'n' is after the nth comma.\n",
       "default: ()\n",
       "current value: ()\n",
       "related methods: ('with_wrapping_at',)\n",
       "style name: justification\n",
       "description: if any wrap positions are set, justify to the 'left', 'center', or 'right'\n",
       "default: left\n",
       "current value: left\n",
       "related methods: ('with_justification',)"
      ]
     },
     "execution_count": 5,
     "metadata": {},
     "output_type": "execute_result"
    }
   ],
   "source": [
    "expr.style_options()"
   ]
  },
  {
   "cell_type": "code",
   "execution_count": 6,
   "metadata": {},
   "outputs": [
    {
     "data": {
      "text/html": [
       "<table><tr><th>&nbsp;</th><th>core type</th><th>sub-expressions</th><th>expression</th></tr>\n",
       "<tr><td>0</td><td>ExprTuple</td><td>1, 2</td><td><a class=\"ProveItLink\" href=\"expr.ipynb\"><img src=\"expr.png\" style=\"display:inline;vertical-align:middle;\" /></a></td></tr>\n",
       "<tr><td>1</td><td>Operation</td><td>operator:&nbsp;3<br>operands:&nbsp;4<br></td><td><a class=\"ProveItLink\" href=\"../ac27972fcf27a488ecbb232647601c9869c8d1c50/expr.ipynb\"><img src=\"../ac27972fcf27a488ecbb232647601c9869c8d1c50/expr.png\" style=\"display:inline;vertical-align:middle;\" /></a></td></tr>\n",
       "<tr><td>2</td><td>Operation</td><td>operator:&nbsp;5<br>operands:&nbsp;6<br></td><td><a class=\"ProveItLink\" href=\"../b63f845c0a83dcf619c9d111d557c0a58b7cb95d0/expr.ipynb\"><img src=\"../b63f845c0a83dcf619c9d111d557c0a58b7cb95d0/expr.png\" style=\"display:inline;vertical-align:middle;\" /></a></td></tr>\n",
       "<tr><td>3</td><td>Literal</td><td></td><td><a class=\"ProveItLink\" href=\"../../common/d72011aab1870abcc7b54d70aa7412339eecb4df0/expr.ipynb\"><img src=\"../../common/d72011aab1870abcc7b54d70aa7412339eecb4df0/expr.png\" style=\"display:inline;vertical-align:middle;\" /></a></td></tr>\n",
       "<tr><td>4</td><td>ExprTuple</td><td>7, 18</td><td><a class=\"ProveItLink\" href=\"../b4235b2d1c5a21f66324cd7fe2e40196bede7f1c0/expr.ipynb\"><img src=\"../b4235b2d1c5a21f66324cd7fe2e40196bede7f1c0/expr.png\" style=\"display:inline;vertical-align:middle;\" /></a></td></tr>\n",
       "<tr><td>5</td><td>Literal</td><td></td><td><a class=\"ProveItLink\" href=\"../../../../number_sets/integers/__pv_it/common/fcf0def17f5c3c84b64c959b39aed0e5dad7f3340/expr.ipynb\"><img src=\"../../../../number_sets/integers/__pv_it/common/fcf0def17f5c3c84b64c959b39aed0e5dad7f3340/expr.png\" style=\"display:inline;vertical-align:middle;\" /></a></td></tr>\n",
       "<tr><td>6</td><td>ExprTuple</td><td>8, 9</td><td><a class=\"ProveItLink\" href=\"../1447846f7c0d754ac2b73879ec07bb0a01beb5850/expr.ipynb\"><img src=\"../1447846f7c0d754ac2b73879ec07bb0a01beb5850/expr.png\" style=\"display:inline;vertical-align:middle;\" /></a></td></tr>\n",
       "<tr><td>7</td><td>Literal</td><td></td><td><a class=\"ProveItLink\" href=\"../../../../numerals/__pv_it/common/1477ef887611bedb97dfb89bcacde217bb43e8ed0/expr.ipynb\"><img src=\"../../../../numerals/__pv_it/common/1477ef887611bedb97dfb89bcacde217bb43e8ed0/expr.png\" style=\"display:inline;vertical-align:middle;\" /></a></td></tr>\n",
       "<tr><td>8</td><td>Literal</td><td></td><td><a class=\"ProveItLink\" href=\"../../../../numerals/__pv_it/common/c35fdf7268947ca3e24174d2909dc9d0a7f3aac60/expr.ipynb\"><img src=\"../../../../numerals/__pv_it/common/c35fdf7268947ca3e24174d2909dc9d0a7f3aac60/expr.png\" style=\"display:inline;vertical-align:middle;\" /></a></td></tr>\n",
       "<tr><td>9</td><td>Operation</td><td>operator:&nbsp;10<br>operands:&nbsp;11<br></td><td><a class=\"ProveItLink\" href=\"../8353380cdf20b30f74e4206fbb04a4d44058c1800/expr.ipynb\"><img src=\"../8353380cdf20b30f74e4206fbb04a4d44058c1800/expr.png\" style=\"display:inline;vertical-align:middle;\" /></a></td></tr>\n",
       "<tr><td>10</td><td>Literal</td><td></td><td><a class=\"ProveItLink\" href=\"../../../../addition/__pv_it/common/1f38fe5cce441387feef296e2c0a2eac260bb4f30/expr.ipynb\"><img src=\"../../../../addition/__pv_it/common/1f38fe5cce441387feef296e2c0a2eac260bb4f30/expr.png\" style=\"display:inline;vertical-align:middle;\" /></a></td></tr>\n",
       "<tr><td>11</td><td>ExprTuple</td><td>12, 13</td><td><a class=\"ProveItLink\" href=\"../a3edc608ba284ddb510a9e23c3c9416113e2caf30/expr.ipynb\"><img src=\"../a3edc608ba284ddb510a9e23c3c9416113e2caf30/expr.png\" style=\"display:inline;vertical-align:middle;\" /></a></td></tr>\n",
       "<tr><td>12</td><td>Operation</td><td>operator:&nbsp;14<br>operand:&nbsp;18<br></td><td><a class=\"ProveItLink\" href=\"../cc71fccc156bf55731fa3f1f9d647782bd8b499b0/expr.ipynb\"><img src=\"../cc71fccc156bf55731fa3f1f9d647782bd8b499b0/expr.png\" style=\"display:inline;vertical-align:middle;\" /></a></td></tr>\n",
       "<tr><td>13</td><td>Operation</td><td>operator:&nbsp;16<br>operand:&nbsp;19<br></td><td><a class=\"ProveItLink\" href=\"../../theorems/194689aa2092eb5e83b339e69e1c112868251dd50/expr.ipynb\"><img src=\"../../theorems/194689aa2092eb5e83b339e69e1c112868251dd50/expr.png\" style=\"display:inline;vertical-align:middle;\" /></a></td></tr>\n",
       "<tr><td>14</td><td>Literal</td><td></td><td><a class=\"ProveItLink\" href=\"../../../../absolute_value/__pv_it/common/6430f141f5f0b9665d136ab5dd21c24f48b3a19c0/expr.ipynb\"><img src=\"../../../../absolute_value/__pv_it/common/6430f141f5f0b9665d136ab5dd21c24f48b3a19c0/expr.png\" style=\"display:inline;vertical-align:middle;\" /></a></td></tr>\n",
       "<tr><td>15</td><td>ExprTuple</td><td>18</td><td><a class=\"ProveItLink\" href=\"../edbcbc917d0d4ded75b634f8dd6c41a04efbc0c40/expr.ipynb\"><img src=\"../edbcbc917d0d4ded75b634f8dd6c41a04efbc0c40/expr.png\" style=\"display:inline;vertical-align:middle;\" /></a></td></tr>\n",
       "<tr><td>16</td><td>Literal</td><td></td><td><a class=\"ProveItLink\" href=\"../../../../negation/__pv_it/common/31a69a5c76809537045e3884859f178d8d9c845c0/expr.ipynb\"><img src=\"../../../../negation/__pv_it/common/31a69a5c76809537045e3884859f178d8d9c845c0/expr.png\" style=\"display:inline;vertical-align:middle;\" /></a></td></tr>\n",
       "<tr><td>17</td><td>ExprTuple</td><td>19</td><td><a class=\"ProveItLink\" href=\"../../theorems/983fb1abdb7789966ec8b7afe0d4f7ca8578c9e50/expr.ipynb\"><img src=\"../../theorems/983fb1abdb7789966ec8b7afe0d4f7ca8578c9e50/expr.png\" style=\"display:inline;vertical-align:middle;\" /></a></td></tr>\n",
       "<tr><td>18</td><td>Literal</td><td></td><td><a class=\"ProveItLink\" href=\"../../../../numerals/__pv_it/common/3829356ce3fdf8f35810c63c00bc1a19e838663e0/expr.ipynb\"><img src=\"../../../../numerals/__pv_it/common/3829356ce3fdf8f35810c63c00bc1a19e838663e0/expr.png\" style=\"display:inline;vertical-align:middle;\" /></a></td></tr>\n",
       "<tr><td>19</td><td>Literal</td><td></td><td><a class=\"ProveItLink\" href=\"../../../../numerals/__pv_it/common/d278e359da0695d9652dd541d45264f93703e2e40/expr.ipynb\"><img src=\"../../../../numerals/__pv_it/common/d278e359da0695d9652dd541d45264f93703e2e40/expr.png\" style=\"display:inline;vertical-align:middle;\" /></a></td></tr>\n",
       "</table>\n"
      ],
      "text/plain": [
       "0. (|3|_{mod 2}, {0...|2| - 1})\n",
       "   core type: ExprTuple\n",
       "   sub-expressions: 1, 2\n",
       "1. |3|_{mod 2}\n",
       "   core type: Operation\n",
       "   operator: 3\n",
       "   operands: 4\n",
       "2. {0...|2| - 1}\n",
       "   core type: Operation\n",
       "   operator: 5\n",
       "   operands: 6\n",
       "3. ModAbs\n",
       "   core type: Literal\n",
       "   sub-expressions: \n",
       "4. (3, 2)\n",
       "   core type: ExprTuple\n",
       "   sub-expressions: 7, 18\n",
       "5. Interval\n",
       "   core type: Literal\n",
       "   sub-expressions: \n",
       "6. (0, |2| - 1)\n",
       "   core type: ExprTuple\n",
       "   sub-expressions: 8, 9\n",
       "7. 3\n",
       "   core type: Literal\n",
       "   sub-expressions: \n",
       "8. 0\n",
       "   core type: Literal\n",
       "   sub-expressions: \n",
       "9. |2| - 1\n",
       "   core type: Operation\n",
       "   operator: 10\n",
       "   operands: 11\n",
       "10. +\n",
       "    core type: Literal\n",
       "    sub-expressions: \n",
       "11. (|2|, -1)\n",
       "    core type: ExprTuple\n",
       "    sub-expressions: 12, 13\n",
       "12. |2|\n",
       "    core type: Operation\n",
       "    operator: 14\n",
       "    operand: 18\n",
       "13. -1\n",
       "    core type: Operation\n",
       "    operator: 16\n",
       "    operand: 19\n",
       "14. Abs\n",
       "    core type: Literal\n",
       "    sub-expressions: \n",
       "15. (2)\n",
       "    core type: ExprTuple\n",
       "    sub-expressions: 18\n",
       "16. -\n",
       "    core type: Literal\n",
       "    sub-expressions: \n",
       "17. (1)\n",
       "    core type: ExprTuple\n",
       "    sub-expressions: 19\n",
       "18. 2\n",
       "    core type: Literal\n",
       "    sub-expressions: \n",
       "19. 1\n",
       "    core type: Literal\n",
       "    sub-expressions: "
      ]
     },
     "execution_count": 6,
     "metadata": {},
     "output_type": "execute_result"
    }
   ],
   "source": [
    "# display the expression information\n",
    "expr.expr_info()"
   ]
  },
  {
   "cell_type": "code",
   "execution_count": null,
   "metadata": {},
   "outputs": [],
   "source": []
  }
 ],
 "metadata": {
  "kernelspec": {
   "display_name": "Python 3",
   "language": "python",
   "name": "python3"
  }
 },
 "nbformat": 4,
 "nbformat_minor": 0
}