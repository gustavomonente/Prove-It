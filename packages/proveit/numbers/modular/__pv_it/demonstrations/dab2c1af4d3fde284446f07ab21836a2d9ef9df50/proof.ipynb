{
 "cells": [
  {
   "cell_type": "markdown",
   "metadata": {},
   "source": [
    "Show the Proof\n",
    "========"
   ]
  },
  {
   "cell_type": "code",
   "execution_count": 1,
   "metadata": {},
   "outputs": [
    {
     "data": {
      "text/html": [
       "<table><tr><th>&nbsp;</th><th>step type</th><th>requirements</th><th>statement</th></tr>\n",
       "<tr><td><a name=\"proveit.numbers.modular.demonstrations.dab2c1af4d3fde284446f07ab21836a2d9ef9df50_step0\">0</a></td><td>instantiation</td><td><a href=\"#proveit.numbers.modular.demonstrations.dab2c1af4d3fde284446f07ab21836a2d9ef9df50_step1\">1</a>, <a href=\"#proveit.numbers.modular.demonstrations.dab2c1af4d3fde284446f07ab21836a2d9ef9df50_step2\">2</a>, <a href=\"#proveit.numbers.modular.demonstrations.dab2c1af4d3fde284446f07ab21836a2d9ef9df50_step3\">3</a>, <a href=\"#proveit.numbers.modular.demonstrations.dab2c1af4d3fde284446f07ab21836a2d9ef9df50_step4\">4</a></td><td><span style=\"font-size:20px;\"><a class=\"ProveItLink\" href=\"../../theorems/c8380b1bd6a816c4855607ac0e0f0c93ce47e0330/expr.ipynb\"><img src=\"../../theorems/c8380b1bd6a816c4855607ac0e0f0c93ce47e0330/expr.png\" style=\"display:inline;vertical-align:middle;\" /></a>, <a class=\"ProveItLink\" href=\"../../theorems/2b9e9b4a95ebae8e8b778db1c976ac0b586cc19c0/expr.ipynb\"><img src=\"../../theorems/2b9e9b4a95ebae8e8b778db1c976ac0b586cc19c0/expr.png\" style=\"display:inline;vertical-align:middle;\" /></a>, <a class=\"ProveItLink\" href=\"../../theorems/c60120fc39d338b5df5ab620a1e969583dd2bfc10/expr.ipynb\"><img src=\"../../theorems/c60120fc39d338b5df5ab620a1e969583dd2bfc10/expr.png\" style=\"display:inline;vertical-align:middle;\" /></a> <a class=\"ProveItLink\" href=\"proof.ipynb\" style=\"text-decoration: none\">&nbsp;&#x22A2;&nbsp;&nbsp;</a><a class=\"ProveItLink\" href=\"../../theorems/8e3d63fbf7a814bfa3137eb83f374d6d2e9060150/expr.ipynb\"><img src=\"../../theorems/8e3d63fbf7a814bfa3137eb83f374d6d2e9060150/expr.png\" style=\"display:inline;vertical-align:middle;\" /></a></span></td></tr>\n",
       "<tr><td>&nbsp;</td><td colspan=4 style=\"text-align:left\"><span style=\"font-size:20px;\"><a class=\"ProveItLink\" href=\"../../../../../__pv_it/common/66c90e66682f107a881f2d666959f64e2e72ad750/expr.ipynb\"><img src=\"../../../../../__pv_it/common/66c90e66682f107a881f2d666959f64e2e72ad750/expr.png\" style=\"display:inline;vertical-align:middle;\" /></a> : <a class=\"ProveItLink\" href=\"../../../../../__pv_it/common/66c90e66682f107a881f2d666959f64e2e72ad750/expr.ipynb\"><img src=\"../../../../../__pv_it/common/66c90e66682f107a881f2d666959f64e2e72ad750/expr.png\" style=\"display:inline;vertical-align:middle;\" /></a>, <a class=\"ProveItLink\" href=\"../../../../../__pv_it/common/4a5db8cc5c67969ec864bd3ea598be37cb6f5e550/expr.ipynb\"><img src=\"../../../../../__pv_it/common/4a5db8cc5c67969ec864bd3ea598be37cb6f5e550/expr.png\" style=\"display:inline;vertical-align:middle;\" /></a> : <a class=\"ProveItLink\" href=\"../../../../../__pv_it/common/4a5db8cc5c67969ec864bd3ea598be37cb6f5e550/expr.ipynb\"><img src=\"../../../../../__pv_it/common/4a5db8cc5c67969ec864bd3ea598be37cb6f5e550/expr.png\" style=\"display:inline;vertical-align:middle;\" /></a></span></td></tr><tr><td><a name=\"proveit.numbers.modular.demonstrations.dab2c1af4d3fde284446f07ab21836a2d9ef9df50_step1\">1</a></td><td>theorem</td><td></td><td><span style=\"font-size:20px;\"> <a class=\"ProveItLink\" href=\"../../../_theory_nbs_/proofs/mod_int_closure/thm_proof.ipynb\" style=\"text-decoration: none\">&nbsp;&#x22A2;&nbsp;&nbsp;</a><a class=\"ProveItLink\" href=\"../../theorems/cd6b9ada6b56ccc41e615e25fc84c72567bcb7d90/expr.ipynb\"><img src=\"../../theorems/cd6b9ada6b56ccc41e615e25fc84c72567bcb7d90/expr.png\" style=\"display:inline;vertical-align:middle;\" /></a></span></td></tr>\n",
       "<tr><td>&nbsp;</td><td colspan=4 style-\"text-align:left\"><a class=\"ProveItLink\" href=\"../../../_theory_nbs_/proofs/mod_int_closure/thm_proof.ipynb\">proveit.numbers.modular.mod_int_closure</a></td></tr><tr><td><a name=\"proveit.numbers.modular.demonstrations.dab2c1af4d3fde284446f07ab21836a2d9ef9df50_step2\">2</a></td><td>assumption</td><td></td><td><span style=\"font-size:20px;\"><a class=\"ProveItLink\" href=\"../../theorems/c8380b1bd6a816c4855607ac0e0f0c93ce47e0330/expr.ipynb\"><img src=\"../../theorems/c8380b1bd6a816c4855607ac0e0f0c93ce47e0330/expr.png\" style=\"display:inline;vertical-align:middle;\" /></a> <a class=\"ProveItLink\" href=\"../05fd2da0fa469fe72e9d6fe7f18a8f3a59e7f8c40/proof.ipynb\" style=\"text-decoration: none\">&nbsp;&#x22A2;&nbsp;&nbsp;</a><a class=\"ProveItLink\" href=\"../../theorems/c8380b1bd6a816c4855607ac0e0f0c93ce47e0330/expr.ipynb\"><img src=\"../../theorems/c8380b1bd6a816c4855607ac0e0f0c93ce47e0330/expr.png\" style=\"display:inline;vertical-align:middle;\" /></a></span></td></tr>\n",
       "<tr><td><a name=\"proveit.numbers.modular.demonstrations.dab2c1af4d3fde284446f07ab21836a2d9ef9df50_step3\">3</a></td><td>assumption</td><td></td><td><span style=\"font-size:20px;\"><a class=\"ProveItLink\" href=\"../../theorems/2b9e9b4a95ebae8e8b778db1c976ac0b586cc19c0/expr.ipynb\"><img src=\"../../theorems/2b9e9b4a95ebae8e8b778db1c976ac0b586cc19c0/expr.png\" style=\"display:inline;vertical-align:middle;\" /></a> <a class=\"ProveItLink\" href=\"../23d3db616c8499d42d19a9f5a306f31f46f3cab70/proof.ipynb\" style=\"text-decoration: none\">&nbsp;&#x22A2;&nbsp;&nbsp;</a><a class=\"ProveItLink\" href=\"../../theorems/2b9e9b4a95ebae8e8b778db1c976ac0b586cc19c0/expr.ipynb\"><img src=\"../../theorems/2b9e9b4a95ebae8e8b778db1c976ac0b586cc19c0/expr.png\" style=\"display:inline;vertical-align:middle;\" /></a></span></td></tr>\n",
       "<tr><td><a name=\"proveit.numbers.modular.demonstrations.dab2c1af4d3fde284446f07ab21836a2d9ef9df50_step4\">4</a></td><td>assumption</td><td></td><td><span style=\"font-size:20px;\"><a class=\"ProveItLink\" href=\"../../theorems/c60120fc39d338b5df5ab620a1e969583dd2bfc10/expr.ipynb\"><img src=\"../../theorems/c60120fc39d338b5df5ab620a1e969583dd2bfc10/expr.png\" style=\"display:inline;vertical-align:middle;\" /></a> <a class=\"ProveItLink\" href=\"../8d81de1e892c311050627560bda03feb50ec776e0/proof.ipynb\" style=\"text-decoration: none\">&nbsp;&#x22A2;&nbsp;&nbsp;</a><a class=\"ProveItLink\" href=\"../../theorems/c60120fc39d338b5df5ab620a1e969583dd2bfc10/expr.ipynb\"><img src=\"../../theorems/c60120fc39d338b5df5ab620a1e969583dd2bfc10/expr.png\" style=\"display:inline;vertical-align:middle;\" /></a></span></td></tr>\n",
       "</table>"
      ],
      "text/plain": [
       "<proveit._core_.proof._ShowProof at 0x7f5c9007f9e8>"
      ]
     },
     "execution_count": 1,
     "metadata": {},
     "output_type": "execute_result"
    }
   ],
   "source": [
    "import proveit\n",
    "# Automation is not needed when only showing a stored proof:\n",
    "proveit.defaults.automation = False # This will speed things up.\n",
    "proveit.defaults.inline_pngs = False # Makes files smaller.\n",
    "%show_proof"
   ]
  },
  {
   "cell_type": "code",
   "execution_count": null,
   "metadata": {},
   "outputs": [],
   "source": []
  }
 ],
 "metadata": {
  "kernelspec": {
   "display_name": "Python 3",
   "language": "python",
   "name": "python3"
  },
  "language_info": {
   "codemirror_mode": {
    "name": "ipython",
    "version": 3
   },
   "file_extension": ".py",
   "mimetype": "text/x-python",
   "name": "python",
   "nbconvert_exporter": "python",
   "pygments_lexer": "ipython3",
   "version": "3.7.3"
  }
 },
 "nbformat": 4,
 "nbformat_minor": 1
}