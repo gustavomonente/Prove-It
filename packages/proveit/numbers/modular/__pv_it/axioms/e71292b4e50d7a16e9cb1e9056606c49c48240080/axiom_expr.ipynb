{
 "cells": [
  {
   "cell_type": "markdown",
   "metadata": {},
   "source": [
    "Axiom <a class=\"ProveItLink\" href=\"../../../_axioms_.ipynb#mod_is_remainder\">mod_is_remainder</a> of type <a class=\"ProveItLink\" href=\"../../../../../../../doc/html/api/proveit.logic.Forall.html\">Forall</a>\n",
    "=======================\n",
    "# from the theory of <a class=\"ProveItLink\" href=\"../../../_theory_nbs_/theory.ipynb\">proveit.numbers.modular</a>\n",
    "*** see <a class=\"ProveItLink\" href=\"dependencies.ipynb\">dependencies</a> ***"
   ]
  },
  {
   "cell_type": "code",
   "execution_count": 1,
   "metadata": {},
   "outputs": [],
   "source": [
    "import proveit\n",
    "# Automation is not needed when only building an expression:\n",
    "proveit.defaults.automation = False # This will speed things up.\n",
    "proveit.defaults.inline_pngs = False # Makes files smaller.\n",
    "%load_axiom_expr # Load the stored axiom expression as 'stored_expr'\n",
    "# import the special expression\n",
    "from proveit.numbers.modular import mod_is_remainder"
   ]
  },
  {
   "cell_type": "code",
   "execution_count": 2,
   "metadata": {},
   "outputs": [
    {
     "name": "stdout",
     "output_type": "stream",
     "text": [
      "Passed sanity check: mod_is_remainder matches stored_expr\n"
     ]
    }
   ],
   "source": [
    "# check that the built expression is the same as the stored expression\n",
    "assert mod_is_remainder.expr == stored_expr\n",
    "assert mod_is_remainder.expr._style_id == stored_expr._style_id\n",
    "print(\"Passed sanity check: mod_is_remainder matches stored_expr\")"
   ]
  },
  {
   "cell_type": "code",
   "execution_count": 3,
   "metadata": {},
   "outputs": [
    {
     "name": "stdout",
     "output_type": "stream",
     "text": [
      "\\vdash \\forall_{a \\in \\mathbb{R}, b \\in \\mathbb{R}^+}~\\left[\\exists_{q \\in \\mathbb{Z}}~\\left(a = \\left(\\left(q \\cdot b\\right) + \\left(a ~\\textup{mod}~ b\\right)\\right)\\right)\\right]\n"
     ]
    }
   ],
   "source": [
    "# Show the LaTeX representation of the expression for convenience if you need it.\n",
    "print(mod_is_remainder.latex())"
   ]
  },
  {
   "cell_type": "code",
   "execution_count": 4,
   "metadata": {},
   "outputs": [
    {
     "data": {
      "text/html": [
       "<table>\n",
       "<tr><th>name</th><th>description</th><th>default</th><th>current value</th><th>related methods</th></tr><tr><td>with_wrapping</td><td>If 'True', wrap the Expression after the parameters</td><td>None</td><td>None/False</td><td>('with_wrapping',)</td></tr>\n",
       "<tr><td>wrap_params</td><td>If 'True', wraps every two parameters AND wraps the Expression after the parameters</td><td>None</td><td>None/False</td><td>('with_params',)</td></tr>\n",
       "<tr><td>justification</td><td>justify to the 'left', 'center', or 'right' in the array cells</td><td>center</td><td>center</td><td>('with_justification',)</td></tr>\n",
       "</table>\n"
      ],
      "text/plain": [
       "style name: with_wrapping\n",
       "description: If 'True', wrap the Expression after the parameters\n",
       "default: None\n",
       "current value: None/False\n",
       "related methods: ('with_wrapping',)\n",
       "style name: wrap_params\n",
       "description: If 'True', wraps every two parameters AND wraps the Expression after the parameters\n",
       "default: None\n",
       "current value: None/False\n",
       "related methods: ('with_params',)\n",
       "style name: justification\n",
       "description: justify to the 'left', 'center', or 'right' in the array cells\n",
       "default: center\n",
       "current value: center\n",
       "related methods: ('with_justification',)"
      ]
     },
     "execution_count": 4,
     "metadata": {},
     "output_type": "execute_result"
    }
   ],
   "source": [
    "mod_is_remainder.style_options()"
   ]
  },
  {
   "cell_type": "code",
   "execution_count": 5,
   "metadata": {},
   "outputs": [
    {
     "data": {
      "text/html": [
       "<table><tr><th>&nbsp;</th><th>core type</th><th>sub-expressions</th><th>expression</th></tr>\n",
       "<tr><td>0</td><td>Operation</td><td>operator:&nbsp;1<br>operand:&nbsp;3<br></td><td><a class=\"ProveItLink\" href=\"../3c25210ee0df297d85f156bdb645cc49ecf5d44f0/expr.ipynb\"><img src=\"../3c25210ee0df297d85f156bdb645cc49ecf5d44f0/expr.png\" style=\"display:inline;vertical-align:middle;\" /></a></td></tr>\n",
       "<tr><td>1</td><td>Literal</td><td></td><td><a class=\"ProveItLink\" href=\"../../../../../logic/booleans/quantification/universality/__pv_it/common/684d35ba98fcbf8ca5011f865e530a51e77730630/expr.ipynb\"><img src=\"../../../../../logic/booleans/quantification/universality/__pv_it/common/684d35ba98fcbf8ca5011f865e530a51e77730630/expr.png\" style=\"display:inline;vertical-align:middle;\" /></a></td></tr>\n",
       "<tr><td>2</td><td>ExprTuple</td><td>3</td><td><a class=\"ProveItLink\" href=\"../32ba69b913831034bf9636f0a3c336689bca41240/expr.ipynb\"><img src=\"../32ba69b913831034bf9636f0a3c336689bca41240/expr.png\" style=\"display:inline;vertical-align:middle;\" /></a></td></tr>\n",
       "<tr><td>3</td><td>Lambda</td><td>parameters:&nbsp;34<br>body:&nbsp;4<br></td><td><a class=\"ProveItLink\" href=\"../85839a2c314ff640da040b603fc89cf17d842b650/expr.ipynb\"><img src=\"../85839a2c314ff640da040b603fc89cf17d842b650/expr.png\" style=\"display:inline;vertical-align:middle;\" /></a></td></tr>\n",
       "<tr><td>4</td><td>Conditional</td><td>value:&nbsp;5<br>condition:&nbsp;6<br></td><td><a class=\"ProveItLink\" href=\"../43c0e872c43db54b2746098406bc723d5f9b2e2f0/expr.ipynb\"><img src=\"../43c0e872c43db54b2746098406bc723d5f9b2e2f0/expr.png\" style=\"display:inline;vertical-align:middle;\" /></a></td></tr>\n",
       "<tr><td>5</td><td>Operation</td><td>operator:&nbsp;7<br>operand:&nbsp;11<br></td><td><a class=\"ProveItLink\" href=\"../fd8d519b6d5177e892096441dc8e026aa529198b0/expr.ipynb\"><img src=\"../fd8d519b6d5177e892096441dc8e026aa529198b0/expr.png\" style=\"display:inline;vertical-align:middle;\" /></a></td></tr>\n",
       "<tr><td>6</td><td>Operation</td><td>operator:&nbsp;9<br>operands:&nbsp;10<br></td><td><a class=\"ProveItLink\" href=\"../4d0c5cea73669994c96debcd81925b085b64eee70/expr.ipynb\"><img src=\"../4d0c5cea73669994c96debcd81925b085b64eee70/expr.png\" style=\"display:inline;vertical-align:middle;\" /></a></td></tr>\n",
       "<tr><td>7</td><td>Literal</td><td></td><td><a class=\"ProveItLink\" href=\"../../../../../logic/booleans/quantification/existence/__pv_it/common/9b6e04766908a750ceb2bcebb9ad722de073d35c0/expr.ipynb\"><img src=\"../../../../../logic/booleans/quantification/existence/__pv_it/common/9b6e04766908a750ceb2bcebb9ad722de073d35c0/expr.png\" style=\"display:inline;vertical-align:middle;\" /></a></td></tr>\n",
       "<tr><td>8</td><td>ExprTuple</td><td>11</td><td><a class=\"ProveItLink\" href=\"../219690eeda56276b2e07852269a21b07e5dbf01e0/expr.ipynb\"><img src=\"../219690eeda56276b2e07852269a21b07e5dbf01e0/expr.png\" style=\"display:inline;vertical-align:middle;\" /></a></td></tr>\n",
       "<tr><td>9</td><td>Literal</td><td></td><td><a class=\"ProveItLink\" href=\"../../../../../logic/booleans/conjunction/__pv_it/common/26b94b53e70b1d77b70f0d9d4236347db37731060/expr.ipynb\"><img src=\"../../../../../logic/booleans/conjunction/__pv_it/common/26b94b53e70b1d77b70f0d9d4236347db37731060/expr.png\" style=\"display:inline;vertical-align:middle;\" /></a></td></tr>\n",
       "<tr><td>10</td><td>ExprTuple</td><td>12, 13</td><td><a class=\"ProveItLink\" href=\"../cc41b9867d45700a45736eadc6098a296587c9bb0/expr.ipynb\"><img src=\"../cc41b9867d45700a45736eadc6098a296587c9bb0/expr.png\" style=\"display:inline;vertical-align:middle;\" /></a></td></tr>\n",
       "<tr><td>11</td><td>Lambda</td><td>parameter:&nbsp;35<br>body:&nbsp;14<br></td><td><a class=\"ProveItLink\" href=\"../0b4896fa2a1f8e3f9fbc05e435ddf61bf833d6970/expr.ipynb\"><img src=\"../0b4896fa2a1f8e3f9fbc05e435ddf61bf833d6970/expr.png\" style=\"display:inline;vertical-align:middle;\" /></a></td></tr>\n",
       "<tr><td>12</td><td>Operation</td><td>operator:&nbsp;23<br>operands:&nbsp;15<br></td><td><a class=\"ProveItLink\" href=\"../025402c2362cd6ab78a853178f51867b794219b10/expr.ipynb\"><img src=\"../025402c2362cd6ab78a853178f51867b794219b10/expr.png\" style=\"display:inline;vertical-align:middle;\" /></a></td></tr>\n",
       "<tr><td>13</td><td>Operation</td><td>operator:&nbsp;23<br>operands:&nbsp;16<br></td><td><a class=\"ProveItLink\" href=\"../16e2e25fa5f018ea37224fd23f512fc47a9b7a440/expr.ipynb\"><img src=\"../16e2e25fa5f018ea37224fd23f512fc47a9b7a440/expr.png\" style=\"display:inline;vertical-align:middle;\" /></a></td></tr>\n",
       "<tr><td>14</td><td>Conditional</td><td>value:&nbsp;17<br>condition:&nbsp;18<br></td><td><a class=\"ProveItLink\" href=\"../589498d6d1c31901e48adb2e17311c896d5793070/expr.ipynb\"><img src=\"../589498d6d1c31901e48adb2e17311c896d5793070/expr.png\" style=\"display:inline;vertical-align:middle;\" /></a></td></tr>\n",
       "<tr><td>15</td><td>ExprTuple</td><td>36, 19</td><td><a class=\"ProveItLink\" href=\"../2f245937b4e4b6a29441a8dbb5feb1a4c94c18080/expr.ipynb\"><img src=\"../2f245937b4e4b6a29441a8dbb5feb1a4c94c18080/expr.png\" style=\"display:inline;vertical-align:middle;\" /></a></td></tr>\n",
       "<tr><td>16</td><td>ExprTuple</td><td>37, 20</td><td><a class=\"ProveItLink\" href=\"../fd08afc5634d241ec478c822eda0573d2e1aad2c0/expr.ipynb\"><img src=\"../fd08afc5634d241ec478c822eda0573d2e1aad2c0/expr.png\" style=\"display:inline;vertical-align:middle;\" /></a></td></tr>\n",
       "<tr><td>17</td><td>Operation</td><td>operator:&nbsp;21<br>operands:&nbsp;22<br></td><td><a class=\"ProveItLink\" href=\"../6167c51071fc10c72f906877b1d2970312f687a30/expr.ipynb\"><img src=\"../6167c51071fc10c72f906877b1d2970312f687a30/expr.png\" style=\"display:inline;vertical-align:middle;\" /></a></td></tr>\n",
       "<tr><td>18</td><td>Operation</td><td>operator:&nbsp;23<br>operands:&nbsp;24<br></td><td><a class=\"ProveItLink\" href=\"../ecc1c5f9decebafde220d1b8d4d2657722a3b0410/expr.ipynb\"><img src=\"../ecc1c5f9decebafde220d1b8d4d2657722a3b0410/expr.png\" style=\"display:inline;vertical-align:middle;\" /></a></td></tr>\n",
       "<tr><td>19</td><td>Literal</td><td></td><td><a class=\"ProveItLink\" href=\"../../../../number_sets/real_numbers/__pv_it/common/3eaf53c11933bb30b35e82c24807c695de530cf10/expr.ipynb\"><img src=\"../../../../number_sets/real_numbers/__pv_it/common/3eaf53c11933bb30b35e82c24807c695de530cf10/expr.png\" style=\"display:inline;vertical-align:middle;\" /></a></td></tr>\n",
       "<tr><td>20</td><td>Literal</td><td></td><td><a class=\"ProveItLink\" href=\"../../../../number_sets/real_numbers/__pv_it/common/8c67355f38838cbd6b40f3876e11d664940344be0/expr.ipynb\"><img src=\"../../../../number_sets/real_numbers/__pv_it/common/8c67355f38838cbd6b40f3876e11d664940344be0/expr.png\" style=\"display:inline;vertical-align:middle;\" /></a></td></tr>\n",
       "<tr><td>21</td><td>Literal</td><td></td><td><a class=\"ProveItLink\" href=\"../../../../../logic/equality/__pv_it/common/731dd3955b346c1320ed5c0ba7a618bcda61457d0/expr.ipynb\"><img src=\"../../../../../logic/equality/__pv_it/common/731dd3955b346c1320ed5c0ba7a618bcda61457d0/expr.png\" style=\"display:inline;vertical-align:middle;\" /></a></td></tr>\n",
       "<tr><td>22</td><td>ExprTuple</td><td>36, 25</td><td><a class=\"ProveItLink\" href=\"../450d9c29b00fdd8919fe231251b006fb0ba18da30/expr.ipynb\"><img src=\"../450d9c29b00fdd8919fe231251b006fb0ba18da30/expr.png\" style=\"display:inline;vertical-align:middle;\" /></a></td></tr>\n",
       "<tr><td>23</td><td>Literal</td><td></td><td><a class=\"ProveItLink\" href=\"../../../../../logic/sets/membership/__pv_it/common/7171deca84f71f47a6ec7696972d1632274a12880/expr.ipynb\"><img src=\"../../../../../logic/sets/membership/__pv_it/common/7171deca84f71f47a6ec7696972d1632274a12880/expr.png\" style=\"display:inline;vertical-align:middle;\" /></a></td></tr>\n",
       "<tr><td>24</td><td>ExprTuple</td><td>35, 26</td><td><a class=\"ProveItLink\" href=\"../216144f782afa2326c58fc032b92eff7af7189b40/expr.ipynb\"><img src=\"../216144f782afa2326c58fc032b92eff7af7189b40/expr.png\" style=\"display:inline;vertical-align:middle;\" /></a></td></tr>\n",
       "<tr><td>25</td><td>Operation</td><td>operator:&nbsp;27<br>operands:&nbsp;28<br></td><td><a class=\"ProveItLink\" href=\"../602f7be8fdd69dde9eab29a5bb5a8cc4411c81590/expr.ipynb\"><img src=\"../602f7be8fdd69dde9eab29a5bb5a8cc4411c81590/expr.png\" style=\"display:inline;vertical-align:middle;\" /></a></td></tr>\n",
       "<tr><td>26</td><td>Literal</td><td></td><td><a class=\"ProveItLink\" href=\"../../../../number_sets/integers/__pv_it/common/21b035fc94b1f20bfb5161d2c7bd6eb2042cc5670/expr.ipynb\"><img src=\"../../../../number_sets/integers/__pv_it/common/21b035fc94b1f20bfb5161d2c7bd6eb2042cc5670/expr.png\" style=\"display:inline;vertical-align:middle;\" /></a></td></tr>\n",
       "<tr><td>27</td><td>Literal</td><td></td><td><a class=\"ProveItLink\" href=\"../../../../addition/__pv_it/common/1f38fe5cce441387feef296e2c0a2eac260bb4f30/expr.ipynb\"><img src=\"../../../../addition/__pv_it/common/1f38fe5cce441387feef296e2c0a2eac260bb4f30/expr.png\" style=\"display:inline;vertical-align:middle;\" /></a></td></tr>\n",
       "<tr><td>28</td><td>ExprTuple</td><td>29, 30</td><td><a class=\"ProveItLink\" href=\"../7b6cd5df8c9e1eae051f33c6d9ef7a3db5ac916c0/expr.ipynb\"><img src=\"../7b6cd5df8c9e1eae051f33c6d9ef7a3db5ac916c0/expr.png\" style=\"display:inline;vertical-align:middle;\" /></a></td></tr>\n",
       "<tr><td>29</td><td>Operation</td><td>operator:&nbsp;31<br>operands:&nbsp;32<br></td><td><a class=\"ProveItLink\" href=\"../5324416482b03f30303f6f1de546be8856f10c190/expr.ipynb\"><img src=\"../5324416482b03f30303f6f1de546be8856f10c190/expr.png\" style=\"display:inline;vertical-align:middle;\" /></a></td></tr>\n",
       "<tr><td>30</td><td>Operation</td><td>operator:&nbsp;33<br>operands:&nbsp;34<br></td><td><a class=\"ProveItLink\" href=\"../f9c774007b9d6f223a9a869aeb8bcdb79a49dbd20/expr.ipynb\"><img src=\"../f9c774007b9d6f223a9a869aeb8bcdb79a49dbd20/expr.png\" style=\"display:inline;vertical-align:middle;\" /></a></td></tr>\n",
       "<tr><td>31</td><td>Literal</td><td></td><td><a class=\"ProveItLink\" href=\"../../../../multiplication/__pv_it/common/c57d60974865e78d434abd3ff22c405685c80ade0/expr.ipynb\"><img src=\"../../../../multiplication/__pv_it/common/c57d60974865e78d434abd3ff22c405685c80ade0/expr.png\" style=\"display:inline;vertical-align:middle;\" /></a></td></tr>\n",
       "<tr><td>32</td><td>ExprTuple</td><td>35, 37</td><td><a class=\"ProveItLink\" href=\"../2fa00e920d3ba63d2ec5ee05bd8ee00b4758620e0/expr.ipynb\"><img src=\"../2fa00e920d3ba63d2ec5ee05bd8ee00b4758620e0/expr.png\" style=\"display:inline;vertical-align:middle;\" /></a></td></tr>\n",
       "<tr><td>33</td><td>Literal</td><td></td><td><a class=\"ProveItLink\" href=\"../../common/2b0ba0d616a1e191cf63ab3952a3bcb5a4f18d2e0/expr.ipynb\"><img src=\"../../common/2b0ba0d616a1e191cf63ab3952a3bcb5a4f18d2e0/expr.png\" style=\"display:inline;vertical-align:middle;\" /></a></td></tr>\n",
       "<tr><td>34</td><td>ExprTuple</td><td>36, 37</td><td><a class=\"ProveItLink\" href=\"../1bdfc8550dcba21649b1aca02603584957f865fb0/expr.ipynb\"><img src=\"../1bdfc8550dcba21649b1aca02603584957f865fb0/expr.png\" style=\"display:inline;vertical-align:middle;\" /></a></td></tr>\n",
       "<tr><td>35</td><td>Variable</td><td></td><td><a class=\"ProveItLink\" href=\"../../../../../__pv_it/common/f2bd1b9e481507771e819bb7e823773346b8e1180/expr.ipynb\"><img src=\"../../../../../__pv_it/common/f2bd1b9e481507771e819bb7e823773346b8e1180/expr.png\" style=\"display:inline;vertical-align:middle;\" /></a></td></tr>\n",
       "<tr><td>36</td><td>Variable</td><td></td><td><a class=\"ProveItLink\" href=\"../../../../../__pv_it/common/66c90e66682f107a881f2d666959f64e2e72ad750/expr.ipynb\"><img src=\"../../../../../__pv_it/common/66c90e66682f107a881f2d666959f64e2e72ad750/expr.png\" style=\"display:inline;vertical-align:middle;\" /></a></td></tr>\n",
       "<tr><td>37</td><td>Variable</td><td></td><td><a class=\"ProveItLink\" href=\"../../../../../__pv_it/common/4a5db8cc5c67969ec864bd3ea598be37cb6f5e550/expr.ipynb\"><img src=\"../../../../../__pv_it/common/4a5db8cc5c67969ec864bd3ea598be37cb6f5e550/expr.png\" style=\"display:inline;vertical-align:middle;\" /></a></td></tr>\n",
       "</table>\n"
      ],
      "text/plain": [
       "0. forall_{a in Real, b in RealPos} [exists_{q in Integer} (a = ((q * b) + (a mod  b)))]\n",
       "   core type: Operation\n",
       "   operator: 1\n",
       "   operand: 3\n",
       "1. forall\n",
       "   core type: Literal\n",
       "   sub-expressions: \n",
       "2. ((a, b) -> {exists_{q in Integer} (a = ((q * b) + (a mod  b))) if a in Real ,  b in RealPos.)\n",
       "   core type: ExprTuple\n",
       "   sub-expressions: 3\n",
       "3. (a, b) -> {exists_{q in Integer} (a = ((q * b) + (a mod  b))) if a in Real ,  b in RealPos.\n",
       "   core type: Lambda\n",
       "   parameters: 34\\n   body: 4\n",
       "4. {exists_{q in Integer} (a = ((q * b) + (a mod  b))) if a in Real ,  b in RealPos.\n",
       "   core type: Conditional\n",
       "   value: 5\n",
       "   condition: 6\n",
       "5. exists_{q in Integer} (a = ((q * b) + (a mod  b)))\n",
       "   core type: Operation\n",
       "   operator: 7\n",
       "   operand: 11\n",
       "6. (a in Real) and (b in RealPos)\n",
       "   core type: Operation\n",
       "   operator: 9\n",
       "   operands: 10\n",
       "7. exists\n",
       "   core type: Literal\n",
       "   sub-expressions: \n",
       "8. (q -> {a = ((q * b) + (a mod  b)) if q in Integer.)\n",
       "   core type: ExprTuple\n",
       "   sub-expressions: 11\n",
       "9. and\n",
       "   core type: Literal\n",
       "   sub-expressions: \n",
       "10. (a in Real, b in RealPos)\n",
       "    core type: ExprTuple\n",
       "    sub-expressions: 12, 13\n",
       "11. q -> {a = ((q * b) + (a mod  b)) if q in Integer.\n",
       "    core type: Lambda\n",
       "    parameter: 35\n",
       "    body: 14\n",
       "12. a in Real\n",
       "    core type: Operation\n",
       "    operator: 23\n",
       "    operands: 15\n",
       "13. b in RealPos\n",
       "    core type: Operation\n",
       "    operator: 23\n",
       "    operands: 16\n",
       "14. {a = ((q * b) + (a mod  b)) if q in Integer.\n",
       "    core type: Conditional\n",
       "    value: 17\n",
       "    condition: 18\n",
       "15. (a, Real)\n",
       "    core type: ExprTuple\n",
       "    sub-expressions: 36, 19\n",
       "16. (b, RealPos)\n",
       "    core type: ExprTuple\n",
       "    sub-expressions: 37, 20\n",
       "17. a = ((q * b) + (a mod  b))\n",
       "    core type: Operation\n",
       "    operator: 21\n",
       "    operands: 22\n",
       "18. q in Integer\n",
       "    core type: Operation\n",
       "    operator: 23\n",
       "    operands: 24\n",
       "19. Real\n",
       "    core type: Literal\n",
       "    sub-expressions: \n",
       "20. RealPos\n",
       "    core type: Literal\n",
       "    sub-expressions: \n",
       "21. =\n",
       "    core type: Literal\n",
       "    sub-expressions: \n",
       "22. (a, (q * b) + (a mod  b))\n",
       "    core type: ExprTuple\n",
       "    sub-expressions: 36, 25\n",
       "23. in\n",
       "    core type: Literal\n",
       "    sub-expressions: \n",
       "24. (q, Integer)\n",
       "    core type: ExprTuple\n",
       "    sub-expressions: 35, 26\n",
       "25. (q * b) + (a mod  b)\n",
       "    core type: Operation\n",
       "    operator: 27\n",
       "    operands: 28\n",
       "26. Integer\n",
       "    core type: Literal\n",
       "    sub-expressions: \n",
       "27. +\n",
       "    core type: Literal\n",
       "    sub-expressions: \n",
       "28. (q * b, a mod  b)\n",
       "    core type: ExprTuple\n",
       "    sub-expressions: 29, 30\n",
       "29. q * b\n",
       "    core type: Operation\n",
       "    operator: 31\n",
       "    operands: 32\n",
       "30. a mod  b\n",
       "    core type: Operation\n",
       "    operator: 33\n",
       "    operands: 34\n",
       "31. *\n",
       "    core type: Literal\n",
       "    sub-expressions: \n",
       "32. (q, b)\n",
       "    core type: ExprTuple\n",
       "    sub-expressions: 35, 37\n",
       "33. mod \n",
       "    core type: Literal\n",
       "    sub-expressions: \n",
       "34. (a, b)\n",
       "    core type: ExprTuple\n",
       "    sub-expressions: 36, 37\n",
       "35. q\n",
       "    core type: Variable\n",
       "    sub-expressions: \n",
       "36. a\n",
       "    core type: Variable\n",
       "    sub-expressions: \n",
       "37. b\n",
       "    core type: Variable\n",
       "    sub-expressions: "
      ]
     },
     "execution_count": 5,
     "metadata": {},
     "output_type": "execute_result"
    }
   ],
   "source": [
    "# display the expression information\n",
    "mod_is_remainder.expr_info()"
   ]
  },
  {
   "cell_type": "code",
   "execution_count": null,
   "metadata": {},
   "outputs": [],
   "source": []
  }
 ],
 "metadata": {
  "kernelspec": {
   "display_name": "Python 3",
   "language": "python",
   "name": "python3"
  }
 },
 "nbformat": 4,
 "nbformat_minor": 0
}