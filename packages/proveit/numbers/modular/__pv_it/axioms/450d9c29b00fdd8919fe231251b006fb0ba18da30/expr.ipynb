{
 "cells": [
  {
   "cell_type": "markdown",
   "metadata": {},
   "source": [
    "Expression of type <a class=\"ProveItLink\" href=\"../../../../../../../doc/html/api/proveit.ExprTuple.html\">ExprTuple</a>\n",
    "=======================\n",
    "# from the theory of <a class=\"ProveItLink\" href=\"../../../_theory_nbs_/theory.ipynb\">proveit.numbers.modular</a>"
   ]
  },
  {
   "cell_type": "code",
   "execution_count": 1,
   "metadata": {},
   "outputs": [],
   "source": [
    "import proveit\n",
    "# Automation is not needed when building an expression:\n",
    "proveit.defaults.automation = False # This will speed things up.\n",
    "proveit.defaults.inline_pngs = False # Makes files smaller.\n",
    "%load_expr # Load the stored expression as 'stored_expr'\n",
    "# import Expression classes needed to build the expression\n",
    "from proveit import ExprTuple, a, b, q\n",
    "from proveit.numbers import Add, Mod, Mult"
   ]
  },
  {
   "cell_type": "code",
   "execution_count": 2,
   "metadata": {},
   "outputs": [
    {
     "data": {
      "text/html": [
       "<strong id=\"expr\">expr:</strong> <a class=\"ProveItLink\" href=\"expr.ipynb\"><img src=\"expr.png\" style=\"display:inline;vertical-align:middle;\" /></a><br>"
      ],
      "text/plain": [
       "expr: (a, (q * b) + (a mod  b))"
      ]
     },
     "execution_count": 2,
     "metadata": {},
     "output_type": "execute_result"
    }
   ],
   "source": [
    "# build up the expression from sub-expressions\n",
    "expr = ExprTuple(a, Add(Mult(q, b), Mod(a, b)))"
   ]
  },
  {
   "cell_type": "code",
   "execution_count": 3,
   "metadata": {},
   "outputs": [
    {
     "name": "stdout",
     "output_type": "stream",
     "text": [
      "Passed sanity check: expr matches stored_expr\n"
     ]
    }
   ],
   "source": [
    "# check that the built expression is the same as the stored expression\n",
    "assert expr == stored_expr\n",
    "assert expr._style_id == stored_expr._style_id\n",
    "print(\"Passed sanity check: expr matches stored_expr\")"
   ]
  },
  {
   "cell_type": "code",
   "execution_count": 4,
   "metadata": {},
   "outputs": [
    {
     "name": "stdout",
     "output_type": "stream",
     "text": [
      "\\left(a, \\left(q \\cdot b\\right) + \\left(a ~\\textup{mod}~ b\\right)\\right)\n"
     ]
    }
   ],
   "source": [
    "# Show the LaTeX representation of the expression for convenience if you need it.\n",
    "print(expr.latex())"
   ]
  },
  {
   "cell_type": "code",
   "execution_count": 5,
   "metadata": {},
   "outputs": [
    {
     "data": {
      "text/html": [
       "<table>\n",
       "<tr><th>name</th><th>description</th><th>default</th><th>current value</th><th>related methods</th></tr><tr><td>wrap_positions</td><td>position(s) at which wrapping is to occur; 'n' is after the nth comma.</td><td>()</td><td>()</td><td>('with_wrapping_at',)</td></tr>\n",
       "<tr><td>justification</td><td>if any wrap positions are set, justify to the 'left', 'center', or 'right'</td><td>left</td><td>left</td><td>('with_justification',)</td></tr>\n",
       "</table>\n"
      ],
      "text/plain": [
       "style name: wrap_positions\n",
       "description: position(s) at which wrapping is to occur; 'n' is after the nth comma.\n",
       "default: ()\n",
       "current value: ()\n",
       "related methods: ('with_wrapping_at',)\n",
       "style name: justification\n",
       "description: if any wrap positions are set, justify to the 'left', 'center', or 'right'\n",
       "default: left\n",
       "current value: left\n",
       "related methods: ('with_justification',)"
      ]
     },
     "execution_count": 5,
     "metadata": {},
     "output_type": "execute_result"
    }
   ],
   "source": [
    "expr.style_options()"
   ]
  },
  {
   "cell_type": "code",
   "execution_count": 6,
   "metadata": {},
   "outputs": [
    {
     "data": {
      "text/html": [
       "<table><tr><th>&nbsp;</th><th>core type</th><th>sub-expressions</th><th>expression</th></tr>\n",
       "<tr><td>0</td><td>ExprTuple</td><td>11, 1</td><td><a class=\"ProveItLink\" href=\"expr.ipynb\"><img src=\"expr.png\" style=\"display:inline;vertical-align:middle;\" /></a></td></tr>\n",
       "<tr><td>1</td><td>Operation</td><td>operator:&nbsp;2<br>operands:&nbsp;3<br></td><td><a class=\"ProveItLink\" href=\"../602f7be8fdd69dde9eab29a5bb5a8cc4411c81590/expr.ipynb\"><img src=\"../602f7be8fdd69dde9eab29a5bb5a8cc4411c81590/expr.png\" style=\"display:inline;vertical-align:middle;\" /></a></td></tr>\n",
       "<tr><td>2</td><td>Literal</td><td></td><td><a class=\"ProveItLink\" href=\"../../../../addition/__pv_it/common/1f38fe5cce441387feef296e2c0a2eac260bb4f30/expr.ipynb\"><img src=\"../../../../addition/__pv_it/common/1f38fe5cce441387feef296e2c0a2eac260bb4f30/expr.png\" style=\"display:inline;vertical-align:middle;\" /></a></td></tr>\n",
       "<tr><td>3</td><td>ExprTuple</td><td>4, 5</td><td><a class=\"ProveItLink\" href=\"../7b6cd5df8c9e1eae051f33c6d9ef7a3db5ac916c0/expr.ipynb\"><img src=\"../7b6cd5df8c9e1eae051f33c6d9ef7a3db5ac916c0/expr.png\" style=\"display:inline;vertical-align:middle;\" /></a></td></tr>\n",
       "<tr><td>4</td><td>Operation</td><td>operator:&nbsp;6<br>operands:&nbsp;7<br></td><td><a class=\"ProveItLink\" href=\"../5324416482b03f30303f6f1de546be8856f10c190/expr.ipynb\"><img src=\"../5324416482b03f30303f6f1de546be8856f10c190/expr.png\" style=\"display:inline;vertical-align:middle;\" /></a></td></tr>\n",
       "<tr><td>5</td><td>Operation</td><td>operator:&nbsp;8<br>operands:&nbsp;9<br></td><td><a class=\"ProveItLink\" href=\"../f9c774007b9d6f223a9a869aeb8bcdb79a49dbd20/expr.ipynb\"><img src=\"../f9c774007b9d6f223a9a869aeb8bcdb79a49dbd20/expr.png\" style=\"display:inline;vertical-align:middle;\" /></a></td></tr>\n",
       "<tr><td>6</td><td>Literal</td><td></td><td><a class=\"ProveItLink\" href=\"../../../../multiplication/__pv_it/common/c57d60974865e78d434abd3ff22c405685c80ade0/expr.ipynb\"><img src=\"../../../../multiplication/__pv_it/common/c57d60974865e78d434abd3ff22c405685c80ade0/expr.png\" style=\"display:inline;vertical-align:middle;\" /></a></td></tr>\n",
       "<tr><td>7</td><td>ExprTuple</td><td>10, 12</td><td><a class=\"ProveItLink\" href=\"../2fa00e920d3ba63d2ec5ee05bd8ee00b4758620e0/expr.ipynb\"><img src=\"../2fa00e920d3ba63d2ec5ee05bd8ee00b4758620e0/expr.png\" style=\"display:inline;vertical-align:middle;\" /></a></td></tr>\n",
       "<tr><td>8</td><td>Literal</td><td></td><td><a class=\"ProveItLink\" href=\"../../common/2b0ba0d616a1e191cf63ab3952a3bcb5a4f18d2e0/expr.ipynb\"><img src=\"../../common/2b0ba0d616a1e191cf63ab3952a3bcb5a4f18d2e0/expr.png\" style=\"display:inline;vertical-align:middle;\" /></a></td></tr>\n",
       "<tr><td>9</td><td>ExprTuple</td><td>11, 12</td><td><a class=\"ProveItLink\" href=\"../1bdfc8550dcba21649b1aca02603584957f865fb0/expr.ipynb\"><img src=\"../1bdfc8550dcba21649b1aca02603584957f865fb0/expr.png\" style=\"display:inline;vertical-align:middle;\" /></a></td></tr>\n",
       "<tr><td>10</td><td>Variable</td><td></td><td><a class=\"ProveItLink\" href=\"../../../../../__pv_it/common/f2bd1b9e481507771e819bb7e823773346b8e1180/expr.ipynb\"><img src=\"../../../../../__pv_it/common/f2bd1b9e481507771e819bb7e823773346b8e1180/expr.png\" style=\"display:inline;vertical-align:middle;\" /></a></td></tr>\n",
       "<tr><td>11</td><td>Variable</td><td></td><td><a class=\"ProveItLink\" href=\"../../../../../__pv_it/common/66c90e66682f107a881f2d666959f64e2e72ad750/expr.ipynb\"><img src=\"../../../../../__pv_it/common/66c90e66682f107a881f2d666959f64e2e72ad750/expr.png\" style=\"display:inline;vertical-align:middle;\" /></a></td></tr>\n",
       "<tr><td>12</td><td>Variable</td><td></td><td><a class=\"ProveItLink\" href=\"../../../../../__pv_it/common/4a5db8cc5c67969ec864bd3ea598be37cb6f5e550/expr.ipynb\"><img src=\"../../../../../__pv_it/common/4a5db8cc5c67969ec864bd3ea598be37cb6f5e550/expr.png\" style=\"display:inline;vertical-align:middle;\" /></a></td></tr>\n",
       "</table>\n"
      ],
      "text/plain": [
       "0. (a, (q * b) + (a mod  b))\n",
       "   core type: ExprTuple\n",
       "   sub-expressions: 11, 1\n",
       "1. (q * b) + (a mod  b)\n",
       "   core type: Operation\n",
       "   operator: 2\n",
       "   operands: 3\n",
       "2. +\n",
       "   core type: Literal\n",
       "   sub-expressions: \n",
       "3. (q * b, a mod  b)\n",
       "   core type: ExprTuple\n",
       "   sub-expressions: 4, 5\n",
       "4. q * b\n",
       "   core type: Operation\n",
       "   operator: 6\n",
       "   operands: 7\n",
       "5. a mod  b\n",
       "   core type: Operation\n",
       "   operator: 8\n",
       "   operands: 9\n",
       "6. *\n",
       "   core type: Literal\n",
       "   sub-expressions: \n",
       "7. (q, b)\n",
       "   core type: ExprTuple\n",
       "   sub-expressions: 10, 12\n",
       "8. mod \n",
       "   core type: Literal\n",
       "   sub-expressions: \n",
       "9. (a, b)\n",
       "   core type: ExprTuple\n",
       "   sub-expressions: 11, 12\n",
       "10. q\n",
       "    core type: Variable\n",
       "    sub-expressions: \n",
       "11. a\n",
       "    core type: Variable\n",
       "    sub-expressions: \n",
       "12. b\n",
       "    core type: Variable\n",
       "    sub-expressions: "
      ]
     },
     "execution_count": 6,
     "metadata": {},
     "output_type": "execute_result"
    }
   ],
   "source": [
    "# display the expression information\n",
    "expr.expr_info()"
   ]
  },
  {
   "cell_type": "code",
   "execution_count": null,
   "metadata": {},
   "outputs": [],
   "source": []
  }
 ],
 "metadata": {
  "kernelspec": {
   "display_name": "Python 3",
   "language": "python",
   "name": "python3"
  }
 },
 "nbformat": 4,
 "nbformat_minor": 0
}