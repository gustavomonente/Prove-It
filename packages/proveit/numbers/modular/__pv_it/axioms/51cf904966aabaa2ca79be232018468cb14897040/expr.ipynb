{
 "cells": [
  {
   "cell_type": "markdown",
   "metadata": {},
   "source": [
    "Expression of type <a class=\"ProveItLink\" href=\"../../../../../../../doc/html/api/proveit.logic.Forall.html\">Forall</a>\n",
    "=======================\n",
    "# from the theory of <a class=\"ProveItLink\" href=\"../../../_theory_nbs_/theory.ipynb\">proveit.numbers.modular</a>"
   ]
  },
  {
   "cell_type": "code",
   "execution_count": 1,
   "metadata": {},
   "outputs": [],
   "source": [
    "import proveit\n",
    "# Automation is not needed when building an expression:\n",
    "proveit.defaults.automation = False # This will speed things up.\n",
    "proveit.defaults.inline_pngs = False # Makes files smaller.\n",
    "%load_expr # Load the stored expression as 'stored_expr'\n",
    "# import Expression classes needed to build the expression\n",
    "from proveit import a, b\n",
    "from proveit.logic import Equals, Forall\n",
    "from proveit.numbers import Min, Mod, ModAbs, NaturalPos, Neg, Real"
   ]
  },
  {
   "cell_type": "code",
   "execution_count": 2,
   "metadata": {},
   "outputs": [
    {
     "data": {
      "text/html": [
       "<strong id=\"expr\">expr:</strong> <a class=\"ProveItLink\" href=\"expr.ipynb\"><img src=\"expr.png\" style=\"display:inline;vertical-align:middle;\" /></a><br>"
      ],
      "text/plain": [
       "expr: forall_{a in Real, b in NaturalPos} (|a|_{mod b} = Min(a mod  b, (-a) mod  b))"
      ]
     },
     "execution_count": 2,
     "metadata": {},
     "output_type": "execute_result"
    }
   ],
   "source": [
    "# build up the expression from sub-expressions\n",
    "expr = Forall([a, b], Equals(ModAbs(a, b), Min(Mod(a, b), Mod(Neg(a), b))), domains = [Real, NaturalPos])"
   ]
  },
  {
   "cell_type": "code",
   "execution_count": 3,
   "metadata": {},
   "outputs": [
    {
     "name": "stdout",
     "output_type": "stream",
     "text": [
      "Passed sanity check: expr matches stored_expr\n"
     ]
    }
   ],
   "source": [
    "# check that the built expression is the same as the stored expression\n",
    "assert expr == stored_expr\n",
    "assert expr._style_id == stored_expr._style_id\n",
    "print(\"Passed sanity check: expr matches stored_expr\")"
   ]
  },
  {
   "cell_type": "code",
   "execution_count": 4,
   "metadata": {},
   "outputs": [
    {
     "name": "stdout",
     "output_type": "stream",
     "text": [
      "\\forall_{a \\in \\mathbb{R}, b \\in \\mathbb{N}^+}~\\left(\\left|a\\right|_{\\textup{mod}\\thinspace b} = {\\rm Min}(a ~\\textup{mod}~ b, \\left(-a\\right) ~\\textup{mod}~ b)\\right)\n"
     ]
    }
   ],
   "source": [
    "# Show the LaTeX representation of the expression for convenience if you need it.\n",
    "print(expr.latex())"
   ]
  },
  {
   "cell_type": "code",
   "execution_count": 5,
   "metadata": {},
   "outputs": [
    {
     "data": {
      "text/html": [
       "<table>\n",
       "<tr><th>name</th><th>description</th><th>default</th><th>current value</th><th>related methods</th></tr><tr><td>with_wrapping</td><td>If 'True', wrap the Expression after the parameters</td><td>None</td><td>None/False</td><td>('with_wrapping',)</td></tr>\n",
       "<tr><td>wrap_params</td><td>If 'True', wraps every two parameters AND wraps the Expression after the parameters</td><td>None</td><td>None/False</td><td>('with_params',)</td></tr>\n",
       "<tr><td>justification</td><td>justify to the 'left', 'center', or 'right' in the array cells</td><td>center</td><td>center</td><td>('with_justification',)</td></tr>\n",
       "</table>\n"
      ],
      "text/plain": [
       "style name: with_wrapping\n",
       "description: If 'True', wrap the Expression after the parameters\n",
       "default: None\n",
       "current value: None/False\n",
       "related methods: ('with_wrapping',)\n",
       "style name: wrap_params\n",
       "description: If 'True', wraps every two parameters AND wraps the Expression after the parameters\n",
       "default: None\n",
       "current value: None/False\n",
       "related methods: ('with_params',)\n",
       "style name: justification\n",
       "description: justify to the 'left', 'center', or 'right' in the array cells\n",
       "default: center\n",
       "current value: center\n",
       "related methods: ('with_justification',)"
      ]
     },
     "execution_count": 5,
     "metadata": {},
     "output_type": "execute_result"
    }
   ],
   "source": [
    "expr.style_options()"
   ]
  },
  {
   "cell_type": "code",
   "execution_count": 6,
   "metadata": {},
   "outputs": [
    {
     "data": {
      "text/html": [
       "<table><tr><th>&nbsp;</th><th>core type</th><th>sub-expressions</th><th>expression</th></tr>\n",
       "<tr><td>0</td><td>Operation</td><td>operator:&nbsp;1<br>operand:&nbsp;3<br></td><td><a class=\"ProveItLink\" href=\"expr.ipynb\"><img src=\"expr.png\" style=\"display:inline;vertical-align:middle;\" /></a></td></tr>\n",
       "<tr><td>1</td><td>Literal</td><td></td><td><a class=\"ProveItLink\" href=\"../../../../../logic/booleans/quantification/universality/__pv_it/common/684d35ba98fcbf8ca5011f865e530a51e77730630/expr.ipynb\"><img src=\"../../../../../logic/booleans/quantification/universality/__pv_it/common/684d35ba98fcbf8ca5011f865e530a51e77730630/expr.png\" style=\"display:inline;vertical-align:middle;\" /></a></td></tr>\n",
       "<tr><td>2</td><td>ExprTuple</td><td>3</td><td><a class=\"ProveItLink\" href=\"../5790d160e39a26a38104be668b53a0f65d2554ba0/expr.ipynb\"><img src=\"../5790d160e39a26a38104be668b53a0f65d2554ba0/expr.png\" style=\"display:inline;vertical-align:middle;\" /></a></td></tr>\n",
       "<tr><td>3</td><td>Lambda</td><td>parameters:&nbsp;25<br>body:&nbsp;4<br></td><td><a class=\"ProveItLink\" href=\"../ec75416dc480de7ba156decd24d0aedcc3a49d490/expr.ipynb\"><img src=\"../ec75416dc480de7ba156decd24d0aedcc3a49d490/expr.png\" style=\"display:inline;vertical-align:middle;\" /></a></td></tr>\n",
       "<tr><td>4</td><td>Conditional</td><td>value:&nbsp;5<br>condition:&nbsp;6<br></td><td><a class=\"ProveItLink\" href=\"../7ea6e2c736cc9ae3f36cd81d5309a704a10bbbc80/expr.ipynb\"><img src=\"../7ea6e2c736cc9ae3f36cd81d5309a704a10bbbc80/expr.png\" style=\"display:inline;vertical-align:middle;\" /></a></td></tr>\n",
       "<tr><td>5</td><td>Operation</td><td>operator:&nbsp;7<br>operands:&nbsp;8<br></td><td><a class=\"ProveItLink\" href=\"../1448a544cb324a2efe4a6db7c825ef3fc75ab4830/expr.ipynb\"><img src=\"../1448a544cb324a2efe4a6db7c825ef3fc75ab4830/expr.png\" style=\"display:inline;vertical-align:middle;\" /></a></td></tr>\n",
       "<tr><td>6</td><td>Operation</td><td>operator:&nbsp;9<br>operands:&nbsp;10<br></td><td><a class=\"ProveItLink\" href=\"../7b41f65a5edc1281facdf85aada3dc868126d9b10/expr.ipynb\"><img src=\"../7b41f65a5edc1281facdf85aada3dc868126d9b10/expr.png\" style=\"display:inline;vertical-align:middle;\" /></a></td></tr>\n",
       "<tr><td>7</td><td>Literal</td><td></td><td><a class=\"ProveItLink\" href=\"../../../../../logic/equality/__pv_it/common/731dd3955b346c1320ed5c0ba7a618bcda61457d0/expr.ipynb\"><img src=\"../../../../../logic/equality/__pv_it/common/731dd3955b346c1320ed5c0ba7a618bcda61457d0/expr.png\" style=\"display:inline;vertical-align:middle;\" /></a></td></tr>\n",
       "<tr><td>8</td><td>ExprTuple</td><td>11, 12</td><td><a class=\"ProveItLink\" href=\"../464a59d0f04c1101fb5be94c0d8f6d75446497e20/expr.ipynb\"><img src=\"../464a59d0f04c1101fb5be94c0d8f6d75446497e20/expr.png\" style=\"display:inline;vertical-align:middle;\" /></a></td></tr>\n",
       "<tr><td>9</td><td>Literal</td><td></td><td><a class=\"ProveItLink\" href=\"../../../../../logic/booleans/conjunction/__pv_it/common/26b94b53e70b1d77b70f0d9d4236347db37731060/expr.ipynb\"><img src=\"../../../../../logic/booleans/conjunction/__pv_it/common/26b94b53e70b1d77b70f0d9d4236347db37731060/expr.png\" style=\"display:inline;vertical-align:middle;\" /></a></td></tr>\n",
       "<tr><td>10</td><td>ExprTuple</td><td>13, 14</td><td><a class=\"ProveItLink\" href=\"../14d1dae72c396377b7bb2ad05d87e578b61c4ba60/expr.ipynb\"><img src=\"../14d1dae72c396377b7bb2ad05d87e578b61c4ba60/expr.png\" style=\"display:inline;vertical-align:middle;\" /></a></td></tr>\n",
       "<tr><td>11</td><td>Operation</td><td>operator:&nbsp;15<br>operands:&nbsp;25<br></td><td><a class=\"ProveItLink\" href=\"../c78ac11a689f33ba98b58b63785ab8b59daf0ab70/expr.ipynb\"><img src=\"../c78ac11a689f33ba98b58b63785ab8b59daf0ab70/expr.png\" style=\"display:inline;vertical-align:middle;\" /></a></td></tr>\n",
       "<tr><td>12</td><td>Operation</td><td>operator:&nbsp;16<br>operands:&nbsp;17<br></td><td><a class=\"ProveItLink\" href=\"../25fcb0af411a8e756ebeed8b3090b7ca3056d6820/expr.ipynb\"><img src=\"../25fcb0af411a8e756ebeed8b3090b7ca3056d6820/expr.png\" style=\"display:inline;vertical-align:middle;\" /></a></td></tr>\n",
       "<tr><td>13</td><td>Operation</td><td>operator:&nbsp;19<br>operands:&nbsp;18<br></td><td><a class=\"ProveItLink\" href=\"../025402c2362cd6ab78a853178f51867b794219b10/expr.ipynb\"><img src=\"../025402c2362cd6ab78a853178f51867b794219b10/expr.png\" style=\"display:inline;vertical-align:middle;\" /></a></td></tr>\n",
       "<tr><td>14</td><td>Operation</td><td>operator:&nbsp;19<br>operands:&nbsp;20<br></td><td><a class=\"ProveItLink\" href=\"../fc424e225d68929f577c54c460515ae4efab5f300/expr.ipynb\"><img src=\"../fc424e225d68929f577c54c460515ae4efab5f300/expr.png\" style=\"display:inline;vertical-align:middle;\" /></a></td></tr>\n",
       "<tr><td>15</td><td>Literal</td><td></td><td><a class=\"ProveItLink\" href=\"../../common/d72011aab1870abcc7b54d70aa7412339eecb4df0/expr.ipynb\"><img src=\"../../common/d72011aab1870abcc7b54d70aa7412339eecb4df0/expr.png\" style=\"display:inline;vertical-align:middle;\" /></a></td></tr>\n",
       "<tr><td>16</td><td>Literal</td><td></td><td><a class=\"ProveItLink\" href=\"../../../../ordering/__pv_it/common/76199f954c20c5fd68760e4d3246613693f9f0cc0/expr.ipynb\"><img src=\"../../../../ordering/__pv_it/common/76199f954c20c5fd68760e4d3246613693f9f0cc0/expr.png\" style=\"display:inline;vertical-align:middle;\" /></a></td></tr>\n",
       "<tr><td>17</td><td>ExprTuple</td><td>21, 22</td><td><a class=\"ProveItLink\" href=\"../ba6406bfc7b04a3b10357146836572546c556ba20/expr.ipynb\"><img src=\"../ba6406bfc7b04a3b10357146836572546c556ba20/expr.png\" style=\"display:inline;vertical-align:middle;\" /></a></td></tr>\n",
       "<tr><td>18</td><td>ExprTuple</td><td>32, 23</td><td><a class=\"ProveItLink\" href=\"../2f245937b4e4b6a29441a8dbb5feb1a4c94c18080/expr.ipynb\"><img src=\"../2f245937b4e4b6a29441a8dbb5feb1a4c94c18080/expr.png\" style=\"display:inline;vertical-align:middle;\" /></a></td></tr>\n",
       "<tr><td>19</td><td>Literal</td><td></td><td><a class=\"ProveItLink\" href=\"../../../../../logic/sets/membership/__pv_it/common/7171deca84f71f47a6ec7696972d1632274a12880/expr.ipynb\"><img src=\"../../../../../logic/sets/membership/__pv_it/common/7171deca84f71f47a6ec7696972d1632274a12880/expr.png\" style=\"display:inline;vertical-align:middle;\" /></a></td></tr>\n",
       "<tr><td>20</td><td>ExprTuple</td><td>29, 24</td><td><a class=\"ProveItLink\" href=\"../8966f46adc95899132e2e78f096e2a760ded85d70/expr.ipynb\"><img src=\"../8966f46adc95899132e2e78f096e2a760ded85d70/expr.png\" style=\"display:inline;vertical-align:middle;\" /></a></td></tr>\n",
       "<tr><td>21</td><td>Operation</td><td>operator:&nbsp;26<br>operands:&nbsp;25<br></td><td><a class=\"ProveItLink\" href=\"../f9c774007b9d6f223a9a869aeb8bcdb79a49dbd20/expr.ipynb\"><img src=\"../f9c774007b9d6f223a9a869aeb8bcdb79a49dbd20/expr.png\" style=\"display:inline;vertical-align:middle;\" /></a></td></tr>\n",
       "<tr><td>22</td><td>Operation</td><td>operator:&nbsp;26<br>operands:&nbsp;27<br></td><td><a class=\"ProveItLink\" href=\"../71bd205d53067ab86de45a362b2fc91dbf1d52250/expr.ipynb\"><img src=\"../71bd205d53067ab86de45a362b2fc91dbf1d52250/expr.png\" style=\"display:inline;vertical-align:middle;\" /></a></td></tr>\n",
       "<tr><td>23</td><td>Literal</td><td></td><td><a class=\"ProveItLink\" href=\"../../../../number_sets/real_numbers/__pv_it/common/3eaf53c11933bb30b35e82c24807c695de530cf10/expr.ipynb\"><img src=\"../../../../number_sets/real_numbers/__pv_it/common/3eaf53c11933bb30b35e82c24807c695de530cf10/expr.png\" style=\"display:inline;vertical-align:middle;\" /></a></td></tr>\n",
       "<tr><td>24</td><td>Literal</td><td></td><td><a class=\"ProveItLink\" href=\"../../../../number_sets/natural_numbers/__pv_it/common/a2a7252783c385c028dad802e97575c19e456b990/expr.ipynb\"><img src=\"../../../../number_sets/natural_numbers/__pv_it/common/a2a7252783c385c028dad802e97575c19e456b990/expr.png\" style=\"display:inline;vertical-align:middle;\" /></a></td></tr>\n",
       "<tr><td>25</td><td>ExprTuple</td><td>32, 29</td><td><a class=\"ProveItLink\" href=\"../1bdfc8550dcba21649b1aca02603584957f865fb0/expr.ipynb\"><img src=\"../1bdfc8550dcba21649b1aca02603584957f865fb0/expr.png\" style=\"display:inline;vertical-align:middle;\" /></a></td></tr>\n",
       "<tr><td>26</td><td>Literal</td><td></td><td><a class=\"ProveItLink\" href=\"../../common/2b0ba0d616a1e191cf63ab3952a3bcb5a4f18d2e0/expr.ipynb\"><img src=\"../../common/2b0ba0d616a1e191cf63ab3952a3bcb5a4f18d2e0/expr.png\" style=\"display:inline;vertical-align:middle;\" /></a></td></tr>\n",
       "<tr><td>27</td><td>ExprTuple</td><td>28, 29</td><td><a class=\"ProveItLink\" href=\"../62598bbed6934513cf3722e47bd7b6a9145ef4b90/expr.ipynb\"><img src=\"../62598bbed6934513cf3722e47bd7b6a9145ef4b90/expr.png\" style=\"display:inline;vertical-align:middle;\" /></a></td></tr>\n",
       "<tr><td>28</td><td>Operation</td><td>operator:&nbsp;30<br>operand:&nbsp;32<br></td><td><a class=\"ProveItLink\" href=\"../99a4226c0b228bbaae4ff51b57d0a4ad4931362a0/expr.ipynb\"><img src=\"../99a4226c0b228bbaae4ff51b57d0a4ad4931362a0/expr.png\" style=\"display:inline;vertical-align:middle;\" /></a></td></tr>\n",
       "<tr><td>29</td><td>Variable</td><td></td><td><a class=\"ProveItLink\" href=\"../../../../../__pv_it/common/4a5db8cc5c67969ec864bd3ea598be37cb6f5e550/expr.ipynb\"><img src=\"../../../../../__pv_it/common/4a5db8cc5c67969ec864bd3ea598be37cb6f5e550/expr.png\" style=\"display:inline;vertical-align:middle;\" /></a></td></tr>\n",
       "<tr><td>30</td><td>Literal</td><td></td><td><a class=\"ProveItLink\" href=\"../../../../negation/__pv_it/common/31a69a5c76809537045e3884859f178d8d9c845c0/expr.ipynb\"><img src=\"../../../../negation/__pv_it/common/31a69a5c76809537045e3884859f178d8d9c845c0/expr.png\" style=\"display:inline;vertical-align:middle;\" /></a></td></tr>\n",
       "<tr><td>31</td><td>ExprTuple</td><td>32</td><td><a class=\"ProveItLink\" href=\"../d44dc3f84a5035a3c448121a02d4b2964d58a7910/expr.ipynb\"><img src=\"../d44dc3f84a5035a3c448121a02d4b2964d58a7910/expr.png\" style=\"display:inline;vertical-align:middle;\" /></a></td></tr>\n",
       "<tr><td>32</td><td>Variable</td><td></td><td><a class=\"ProveItLink\" href=\"../../../../../__pv_it/common/66c90e66682f107a881f2d666959f64e2e72ad750/expr.ipynb\"><img src=\"../../../../../__pv_it/common/66c90e66682f107a881f2d666959f64e2e72ad750/expr.png\" style=\"display:inline;vertical-align:middle;\" /></a></td></tr>\n",
       "</table>\n"
      ],
      "text/plain": [
       "0. forall_{a in Real, b in NaturalPos} (|a|_{mod b} = Min(a mod  b, (-a) mod  b))\n",
       "   core type: Operation\n",
       "   operator: 1\n",
       "   operand: 3\n",
       "1. forall\n",
       "   core type: Literal\n",
       "   sub-expressions: \n",
       "2. ((a, b) -> {|a|_{mod b} = Min(a mod  b, (-a) mod  b) if a in Real ,  b in NaturalPos.)\n",
       "   core type: ExprTuple\n",
       "   sub-expressions: 3\n",
       "3. (a, b) -> {|a|_{mod b} = Min(a mod  b, (-a) mod  b) if a in Real ,  b in NaturalPos.\n",
       "   core type: Lambda\n",
       "   parameters: 25\\n   body: 4\n",
       "4. {|a|_{mod b} = Min(a mod  b, (-a) mod  b) if a in Real ,  b in NaturalPos.\n",
       "   core type: Conditional\n",
       "   value: 5\n",
       "   condition: 6\n",
       "5. |a|_{mod b} = Min(a mod  b, (-a) mod  b)\n",
       "   core type: Operation\n",
       "   operator: 7\n",
       "   operands: 8\n",
       "6. (a in Real) and (b in NaturalPos)\n",
       "   core type: Operation\n",
       "   operator: 9\n",
       "   operands: 10\n",
       "7. =\n",
       "   core type: Literal\n",
       "   sub-expressions: \n",
       "8. (|a|_{mod b}, Min(a mod  b, (-a) mod  b))\n",
       "   core type: ExprTuple\n",
       "   sub-expressions: 11, 12\n",
       "9. and\n",
       "   core type: Literal\n",
       "   sub-expressions: \n",
       "10. (a in Real, b in NaturalPos)\n",
       "    core type: ExprTuple\n",
       "    sub-expressions: 13, 14\n",
       "11. |a|_{mod b}\n",
       "    core type: Operation\n",
       "    operator: 15\n",
       "    operands: 25\n",
       "12. Min(a mod  b, (-a) mod  b)\n",
       "    core type: Operation\n",
       "    operator: 16\n",
       "    operands: 17\n",
       "13. a in Real\n",
       "    core type: Operation\n",
       "    operator: 19\n",
       "    operands: 18\n",
       "14. b in NaturalPos\n",
       "    core type: Operation\n",
       "    operator: 19\n",
       "    operands: 20\n",
       "15. ModAbs\n",
       "    core type: Literal\n",
       "    sub-expressions: \n",
       "16. Min\n",
       "    core type: Literal\n",
       "    sub-expressions: \n",
       "17. (a mod  b, (-a) mod  b)\n",
       "    core type: ExprTuple\n",
       "    sub-expressions: 21, 22\n",
       "18. (a, Real)\n",
       "    core type: ExprTuple\n",
       "    sub-expressions: 32, 23\n",
       "19. in\n",
       "    core type: Literal\n",
       "    sub-expressions: \n",
       "20. (b, NaturalPos)\n",
       "    core type: ExprTuple\n",
       "    sub-expressions: 29, 24\n",
       "21. a mod  b\n",
       "    core type: Operation\n",
       "    operator: 26\n",
       "    operands: 25\n",
       "22. (-a) mod  b\n",
       "    core type: Operation\n",
       "    operator: 26\n",
       "    operands: 27\n",
       "23. Real\n",
       "    core type: Literal\n",
       "    sub-expressions: \n",
       "24. NaturalPos\n",
       "    core type: Literal\n",
       "    sub-expressions: \n",
       "25. (a, b)\n",
       "    core type: ExprTuple\n",
       "    sub-expressions: 32, 29\n",
       "26. mod \n",
       "    core type: Literal\n",
       "    sub-expressions: \n",
       "27. (-a, b)\n",
       "    core type: ExprTuple\n",
       "    sub-expressions: 28, 29\n",
       "28. -a\n",
       "    core type: Operation\n",
       "    operator: 30\n",
       "    operand: 32\n",
       "29. b\n",
       "    core type: Variable\n",
       "    sub-expressions: \n",
       "30. -\n",
       "    core type: Literal\n",
       "    sub-expressions: \n",
       "31. (a)\n",
       "    core type: ExprTuple\n",
       "    sub-expressions: 32\n",
       "32. a\n",
       "    core type: Variable\n",
       "    sub-expressions: "
      ]
     },
     "execution_count": 6,
     "metadata": {},
     "output_type": "execute_result"
    }
   ],
   "source": [
    "# display the expression information\n",
    "expr.expr_info()"
   ]
  },
  {
   "cell_type": "code",
   "execution_count": null,
   "metadata": {},
   "outputs": [],
   "source": []
  }
 ],
 "metadata": {
  "kernelspec": {
   "display_name": "Python 3",
   "language": "python",
   "name": "python3"
  }
 },
 "nbformat": 4,
 "nbformat_minor": 0
}