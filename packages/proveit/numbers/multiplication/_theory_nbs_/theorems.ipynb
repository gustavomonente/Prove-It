{
 "cells": [
  {
   "cell_type": "markdown",
   "metadata": {},
   "source": [
    "Theorems (or conjectures) for the theory of <a class=\"ProveItLink\" href=\"theory.ipynb\">proveit.numbers.multiplication</a>\n",
    "========"
   ]
  },
  {
   "cell_type": "code",
   "execution_count": 1,
   "metadata": {},
   "outputs": [],
   "source": [
    "import proveit\n",
    "## 72 spaces ===========================================================\n",
    "\n",
    "# Prepare this notebook for defining the theorems of a theory:\n",
    "%theorems_notebook # Keep this at the top following 'import proveit'.\n",
    "theory = proveit.Theory('.') # adds theory root to sys.path if necessary\n",
    "from proveit import ExprRange, IndexedVar\n",
    "\n",
    "from proveit import a, b, c, d, i, j, k, n, x, y, P, S\n",
    "from proveit.core_expr_types import (\n",
    "    a_1_to_i, a_1_to_n, b_1_to_j, c_1_to_j, c_1_to_k, d_1_to_k)\n",
    "\n",
    "from proveit.logic import Forall, Set, InSet, Equals, NotEquals, Implies, Boolean\n",
    "from proveit.numbers import (Natural, NaturalPos, Integer, Real, \n",
    "                            RealNonNeg, RealPos, Complex)\n",
    "from proveit.numbers import (Mult, Neg, Add, subtract, Sum, num, zero, one, two, Exp,\n",
    "                            Less, LessEq, Greater, GreaterEq)\n",
    "from proveit.numbers import ComplexSansZero\n",
    "from proveit._core_.expression.operation import Function"
   ]
  },
  {
   "cell_type": "code",
   "execution_count": 2,
   "metadata": {},
   "outputs": [
    {
     "name": "stdout",
     "output_type": "stream",
     "text": [
      "Defining theorems for theory 'proveit.numbers.multiplication'\n",
      "Subsequent end-of-cell assignments will define theorems\n",
      "'%end theorems' will finalize the definitions\n"
     ]
    }
   ],
   "source": [
    "%begin theorems"
   ]
  },
  {
   "cell_type": "code",
   "execution_count": 3,
   "metadata": {},
   "outputs": [
    {
     "data": {
      "text/html": [
       "<strong id=\"mult_def_rev\"><a class=\"ProveItLink\" href=\"proofs/mult_def_rev/thm_proof.ipynb\">mult_def_rev</a> (conjecture without proof):<br></strong> <a class=\"ProveItLink\" href=\"../__pv_it/theorems/f06c31e808d8f3a4d7398ebc816cc8ac58f39e280/theorem_expr.ipynb\"><img src=\"data:image/png;base64,iVBORw0KGgoAAAANSUhEUgAAAcsAAAAZBAMAAACsrRjkAAAAMFBMVEX///8QEBCIiIhmZma6urrM\n",
       "zMxUVFQiIiJERETc3Nzu7u6qqqp2dnaYmJgyMjIAAAAcRTyBAAAAAXRSTlMAQObYZgAABRBJREFU\n",
       "WMPtWG9oHFUQn8vd5u72di9+UDAtyrXRWLDi0SIKJnghaL4oXiLaCIEch0UqJRxVE61SQz/IxVpc\n",
       "W2lDtXQTIZX4547KUSO1Hon9Umk5MKCtVg60iqJnwBY0SnHmvd29/Xdx16tIwIHZP2/f/HZ+++bN\n",
       "m30A/qR17FlYbdI3VvZrEoZVKNHM/zT/JZqH6b2VJgDmGoA6JKZwJZpVarjgh6ZPC5uI43h4q5nv\n",
       "1Kq4gzplm6ZI81O6/9EPTZ8WNomTkz80Q1OsuoM65T1NkeYkncb90PRpYZPPUOWkI74SDbq7PZh3\n",
       "BXURKcEVacZVvCz6oenTwia0HoWVpmhOuYK6jfs1XJGmfHp29qCvFOTTwpb0cng4CE3RjKfcQN3k\n",
       "W66UaX/L55/3l2n9WVilheK1g1zr2rTGD839C+tUPRaTLqD3b9vXUQeZ7nxtI94tAFOiuRVgwh9N\n",
       "7xbCGX4eMGI8QkvJXtQeJb4EMOiVZqgdftHbZJaDztZIvtFBy/mE+LsRrWV5Rxh7fQ1MiWavNXUJ\n",
       "T34C66zLaezlx7Nmmr1uyc5VXtUHYLthT4SfQ0dugOA4PHSnV5pTFbjLaLPHKIIKxV0QvUw39EpJ\n",
       "lZZDmACOA1OiGYYWY7F+e6EbPpDUoGp8lhObK+KgKvxkpmm2aCgEBSf1O+MiQPPqWoDgMoSRQR8L\n",
       "wlrt+xtrNWepYnpwjwo7jJFYsvVDUFG8BDK1i1foABG2FAxzJZpSxahs5D2HVPgokZQMgC/mZkF+\n",
       "A+CEmabJoqEwqBVoBsahkNZoehnN60G8vBJNiC1BK4uxUdbUlrDRjFYfQa+6BzooGlFKpX2M5vwd\n",
       "nekQTfZ7S9jJTJNZwJudF50ZfNNIml/1GuwIp05TD9pCGT4G7zTFP4kH9xJCufrc/E4HDVahrWJE\n",
       "IQwzP/q4spp24jGk2VMJKLyMK0nvDlH2UkfCqTg1nD9nr2nJQnxaWAZ4wurU0fSw9qaqTpPh1Gnq\n",
       "KahQhBGsNz3T/APHao57qaUgkxBoAL+bqv9wxdTb8cWWFATv48c5dAu0qSJL1CUoUx4W4GccMWr4\n",
       "cM5OkyyCSSEHQ2us79sMW7RhTeqZh+HAlGJeDBA/kpBHJedoFqr67LpifbAbPs+UmZf4avvvI4Ee\n",
       "ScFZWQsleLD4Cqvmu7gymiyMs9ADwjP5/G6keZhPPUzPW/L5fOL1h+00ySJQbEHjndb3rYVObfow\n",
       "qMGkhgOCvtCygENyYvbmAzc5aYYz+uwatT6YWf9oNsW8xPIgbaNJoIh04Eu9YWb9dDeFzUWujKZM\n",
       "cXYddAmQ4aMZGuATXYBWughOU+oy0ySLghI5r9po4sK1d1a++wJ+7YyxjhBOfTRtxZ7nFMSFeQlH\n",
       "PRd7Oa7G/2Z0CZ4qwSm6XAT4CibVI1JVAinN6pV0vVo2cmxAGX6AjeakGn2JHfDULlyqxDYAIp/S\n",
       "5ybDqc9NW+l+XHdIbfQ7Yn7AvfxHpbs27BnYWIEIZqzQrhQOYn9xZnH+NMAeevhO7cW0g2Yoe6yb\n",
       "0ewvCu3Qrwjtwlq479aOCmwVcM2KFDWaHKdOM0IjqRdR+1/I+qkUuZcutUnkb3/ELLIBJxQXrTpr\n",
       "wbm50u7BznpXDDB+yrUs6lDOdfMq/FZHPP9WT2jacJMkpnjaJBn4tWjqyjOymImdcbA7eRU3Sc55\n",
       "3SSRFa6Nacre94LqXZ2+G5ln+2rb8vK1Txu9jZ+Hiv8ly76xzF+Ad4BrFsIw0wAAAABJRU5ErkJg\n",
       "gg==\n",
       "\" style=\"display:inline;vertical-align:middle;\" /></a><br>"
      ],
      "text/plain": [
       "mult_def_rev: forall_{n in Natural, x in Complex} [forall_{a_{1}, ..a_{_a}.., a_{n} in {x}} ((a_{1} + ..a_{_a}.. + a_{n}) = (n * x))]"
      ]
     },
     "execution_count": 3,
     "metadata": {},
     "output_type": "execute_result"
    }
   ],
   "source": [
    "mult_def_rev = \\\n",
    "    Forall((n, x), Forall(a_1_to_n, \n",
    "                          Equals(Add(a_1_to_n), Mult(n, x)),\n",
    "                          domain=Set(x)),\n",
    "           domains=(Natural, Complex))"
   ]
  },
  {
   "cell_type": "code",
   "execution_count": 4,
   "metadata": {},
   "outputs": [
    {
     "data": {
      "text/html": [
       "<strong id=\"repeated_addition_to_mult\"><a class=\"ProveItLink\" href=\"proofs/repeated_addition_to_mult/thm_proof.ipynb\">repeated_addition_to_mult</a> (conjecture without proof):<br></strong> <a class=\"ProveItLink\" href=\"../__pv_it/theorems/fbb025305aed20721af4cc19e2a1c861e78757ad0/theorem_expr.ipynb\"><img src=\"data:image/png;base64,iVBORw0KGgoAAAANSUhEUgAAAYMAAAAVBAMAAABWAp/LAAAAMFBMVEX///8QEBCIiIhmZma6urrM\n",
       "zMxUVFQiIiJERETc3Nzu7u6qqqp2dnaYmJgyMjIAAAAcRTyBAAAAAXRSTlMAQObYZgAABItJREFU\n",
       "SMfVV21oW1UYftLe2yT33qQy3Q9F5NrC1BnwsqE/pJnpRKYwXBz4ASoJnSIFM6PzhxMpYz8kpYJh\n",
       "Dp3V0WOFVupHwyTMlkpDpvtRsQvr/Jg2GlE7FRfC2mldGfOce07SND1db1uG+JIHzrk5yXOe9+Oc\n",
       "9wIrtMMCV8z0pJx0sQ0JFNgk75hA28dxBa1dSiqxhiTHF2zyh+P/9yc5Vm/Kcgs+kpLK3FngOETH\n",
       "XudunRCoCry5MgnvLn50ZMHMMGWkMsty+An9UcrxBvYKrF7CxHIStKtkpDJ7h8M3NjDwhmN+b5xj\n",
       "9RL06eUk4BcJqTyrQxyzicRLjjdQZ3FoTe1bszIJ29sPNNsP7l838jtem2xXfvqyJUa3ETyexJGA\n",
       "iYm/N6fUW08WZBJ6NxykK3BMQqocf7Np03ygOL1hcTwJdDqW4MlxfIBvzA6ZhEzC1P6xR1cPX1Re\n",
       "RCtxXYN+C9uIcp2+F3cAe4D3gLhEgpbxPeem2n6wK6JomyVIDc9+DFaqWtD7Chx321VdMXXPZ7gx\n",
       "ujD2rzzVJobuFMcYTpD7JBLUVAe85+3hGcCVgcv0R6HP4Hpgnb4eOwiT0EpgSiQYxLig0G0erfEb\n",
       "I3yUausJM53siaDX4xxu1OXKi98/FsQnBqknlYiNbM5pjxD1TzF3hTgIEhC+OnNDsViRrGkz8JXs\n",
       "4RQQCea/zvktaNPqdD4fgxq4K8kkuGdvmd/geLH4bLE4Ze/OYx+NkRoJNuFgCD+yySDzt6BXSxxG\n",
       "zl1e6+vqJvjUtIzKr78dGoDvbWCkRgJwTl7OegkNPKg/A6PspKMSMKvPsS3+lozYErTxS5a0nBvN\n",
       "pSRgFNhth4S761y1BG/hIbr54M5mllPU0ukDtoTs7RvCCmO6J00X1SQS1PNyCfUFNObsINLARUwu\n",
       "gUaBUXriiHRTCWY3fDNSCRGWKthWVQtRQYotwEVtPmFteiXOgc4nqITWnCvJm4208eFj7Bggu90h\n",
       "P3vw3enF5TxcV8JGmQSa/qMkIyTQ/NVELdDi622k3x0MT8HaCsQkEnRyG6UV5VxzhtBi0i9UskPQ\n",
       "l8sZH1Md3TehkWh2dNPIsFNNxVlxkw4PVd2c/BhT5jwlb26hBJqk9NMTwrjP9iVNGHUO9cR/Lfoz\n",
       "iKRwp2sfTjxOtsCi5dwp1ldL2JF61W7oWmokMFLvDIzCV+UeRdDXZzh4ArahFeoLicR+KuEwLw56\n",
       "Nj6cSCTMtx6sanB46LS2jc35mkSiSUo/NAle/55N773UBfRtGoM/1kTDrO0KEO+uQO9ZNDyd3H5y\n",
       "MiTWV0voa+oNMr/8WttVcVJvrNxElOn9YQ74WOquR4uKKI+CspPXiooGO717xVG2ugbDby1729Q0\n",
       "GHGnDUa/AL/DS3g+jc/Z8BQwiUOkxygYMJhEb0sY2aXbPI2sWcLA2to8EasoAjl4aKSUjhB1/gOp\n",
       "vlPZMaDLvguLL4crpZXkcG7u6Aq78cXNtufyzfYCu5nWAjeRdnW0Ftb2yqM889cKXy86nb7yXN6d\n",
       "evI/e/H0OX7xPC2wxP/g/2P/AgI3dvPKiH+XAAAAAElFTkSuQmCC\n",
       "\" style=\"display:inline;vertical-align:middle;\" /></a><br>"
      ],
      "text/plain": [
       "repeated_addition_to_mult: forall_{n in Natural, x in Complex} ((x + ..n repeats.. + x) = (n * x))"
      ]
     },
     "execution_count": 4,
     "metadata": {},
     "output_type": "execute_result"
    }
   ],
   "source": [
    "repeated_addition_to_mult = Forall((n, x), Equals(Add(ExprRange(k, x, one, n)), \n",
    "                                                  Mult(n, x)),\n",
    "                                   domains=(Natural, Complex))"
   ]
  },
  {
   "cell_type": "code",
   "execution_count": 5,
   "metadata": {},
   "outputs": [
    {
     "data": {
      "text/html": [
       "<strong id=\"mult_nat_closure_bin\"><a class=\"ProveItLink\" href=\"proofs/mult_nat_closure_bin/thm_proof.ipynb\">mult_nat_closure_bin</a> (conjecture without proof):<br></strong> <a class=\"ProveItLink\" href=\"../__pv_it/theorems/f8d9a38887a0148d6de3192c6e557495ee48e24e0/theorem_expr.ipynb\"><img src=\"data:image/png;base64,iVBORw0KGgoAAAANSUhEUgAAAKsAAAAVBAMAAADLBgMvAAAAMFBMVEX///8QEBCIiIhmZma6urrM\n",
       "zMxUVFQiIiJERETc3Nzu7u6qqqp2dnaYmJgyMjIAAAAcRTyBAAAAAXRSTlMAQObYZgAAAq5JREFU\n",
       "OMutlU1o02AYx58mTT/y0XoQD4IQpu7gqcybToyIeFHWXTpFwTI2ZCDSiyuohwqCrTLJyfUYGaj0\n",
       "YIOeBoJxE8SKEARhCkIOKjhhbJ5mD+LzfjRNQpsh+MCTvPkl/ef5yluAnS3rMo/a8pDnCffI4kus\n",
       "7BPuAZNvVQBSZhg+3b5vwastg/B3BKzHyv7gHrRcAbW9CFyQyiBvUt4kWdbiVLUC85DlbTysRODl\n",
       "4gjALspzFoBqx8mmTeYhm8CfwUN+sVat0sBn7qaKUKFc67Rai7E1WOQesje0EgZdnzvE4VxJXiey\n",
       "hG/X6zdjZfdzz46P7fXh95GjmCUtjex3Zk7RS0SW8FmARo8nNwbILnA/YeY2/Un4Y7VN0Gjq/YGY\n",
       "g9eajrKEnwx2dJWfp8YNYQ9f32Au7wORtpZUVelCXgelQq4z0JdNWbPICE+D0B/1nySSF4ddpdaB\n",
       "I5ztZi52Ia3TQPEgetB2QKLRT26geUxWLudwEghX3XQ/4d+kr8stUD6I4IRlEzVoF8n1PBvbCZvL\n",
       "NgPRwkWJy2a9EpKl0W94lH6NWknSB+XCed0JFwGje9kfWxeOW5CkRUgEZTUbC0V5YwYzuyZ1cSlc\n",
       "Fwo58oBS7Hx0wi1r23BV6XUnb2CpectEvSeL3Ye3Nc6fo7ZYkMgbMrrmLTFZVS0E2rhK782rPYGU\n",
       "m8HbouOn43cGq844thQStlAm+Rhieaper+tKMetW+MOnmcvTBx8c8Ads7D2pMK01PLptsfHZqrGN\n",
       "gnINYdvMfMZT3krYKRYtnNLjPl5qj/n5zJ2qN4hDwrx0FppW2loDlb7KAM2J22qorQz5Ln2enH52\n",
       "DCZt6Qpq3SNJfwUo9242IPAhBjddb7BqlLONTMDa7rSNU8uYg2UjXDH/7U/n05AaRLgG/83+Alzs\n",
       "u/GZ0hR7AAAAAElFTkSuQmCC\n",
       "\" style=\"display:inline;vertical-align:middle;\" /></a><br>"
      ],
      "text/plain": [
       "mult_nat_closure_bin: forall_{a, b in Natural} ((a * b) in Natural)"
      ]
     },
     "execution_count": 5,
     "metadata": {},
     "output_type": "execute_result"
    }
   ],
   "source": [
    "mult_nat_closure_bin = Forall((a, b), InSet(Mult(a, b), Natural), domain=Natural)"
   ]
  },
  {
   "cell_type": "code",
   "execution_count": 6,
   "metadata": {},
   "outputs": [
    {
     "data": {
      "text/html": [
       "<strong id=\"mult_nat_closure\"><a class=\"ProveItLink\" href=\"proofs/mult_nat_closure/thm_proof.ipynb\">mult_nat_closure</a> (conjecture without proof):<br></strong> <a class=\"ProveItLink\" href=\"../__pv_it/theorems/df45bef6ba6475258b74a45d0bfc42c5fe30a04c0/theorem_expr.ipynb\"><img src=\"data:image/png;base64,iVBORw0KGgoAAAANSUhEUgAAAVQAAAAVBAMAAADrzwv7AAAAMFBMVEX///8QEBCIiIhmZma6urrM\n",
       "zMxUVFQiIiJERETc3Nzu7u6qqqp2dnaYmJgyMjIAAAAcRTyBAAAAAXRSTlMAQObYZgAABDtJREFU\n",
       "SMe9l11oHFUUx//7MfsxO5v4UKVRxKmxVaq1oX1QNNENovFBYVPBWBSyLPZBH0qwaSIo7VKETiyF\n",
       "wWK7FJQphVRX7C6RpQZaOrr1JUUYqtJaY1nBPpiHNoiFWkU8996Z2ZnsTrcjxQPnzp27s3t+e+75\n",
       "uAPcRKJX8vhPkraEhpT5gPWMDlyaRJPNf+78iJLrYZdsaKOf2BpSErr/Xr6qLUG5bxXeoJszOMvW\n",
       "loJQlRpdeoywNn+zNaTIzRULKetloAoc56hltl+lIFT+STmsyeyA0NDy9Uo374yqiBCIylCZy7jv\n",
       "OqJyf58NazGpCw0tR+zrhelp7uDE88Y2JMnddzDU7EKlcgiBqIuVyqcTYS0esjW09OT45ZX1jlc/\n",
       "LBw3CBW/MlRc17R3g1F7NW2vGdZiv63pwU13d3/6QGONkwwKjxp5qZVnc1KBoTY46jZgJhg1kUcq\n",
       "9Fbut3VY71kmH9384XgfrrpB3vQXgoSu5M4x1Esc9Rl/4kk7zmBNwUWND/D06y5jg7noXfb8HaHy\n",
       "vYiV8NJjIrs7fIc784iFx90CymMt5a1ebybGaHKCoyYRdevmZ40hfKkYMcNFxQQ2dC8yJzdbmdIC\n",
       "nrDvVwmN3UCSUneEr1Wb7V/7h41PG3jL9dMyG0evkDj+ncUvNBnnqIqVdP2/77CBU+qA0goAfIvu\n",
       "WXVhvoLMuRhMP2qkhGreQU0W2r83xYbVkK/5Ucter0rmqIuablKZzQ5t6WexQFKvf+BF/VgiG/Km\n",
       "7e0t9ui6y3a0sWTIvLpVNf0BUDVxGg5q4I78jcyybR9x7paIr339lBK/QaiYeZ1Qh62ILppsXfn8\n",
       "NQ9q6iANx/LjBhL+piXvlG7YJYaHWX7hB9OfVtUatlP77oL6FxLNeWHfTquY6qKSg5Sym1b4gv7K\n",
       "4QfRa8i8VNRhNjyoGZYVmzEG6Ss/amxAskPjqEBVFKdBNYSm1OyU4vMqj04WtSJMuezB+YLJ7dNv\n",
       "mu6uCCew3vQU6aBA7WV/oohhSG9r2h5C/SjpQcXvpPdgHUWbHzVSi9rhN6ZpmprJpy0nqkeEysW1\n",
       "Bx/wB8CUE7VT7tLs/VuLOW6f0ESYzb4nTEm7V0McAC4L1CxbvxODEgrCq/EtXtSLZPNP7K+sRK3q\n",
       "qYvGd6cWaZuEV/Gs2rGxjtxKreP2ccy+e2HvtK9gyBMClR8wlzFZxzds+j2w6EVl0if9YTHUspF+\n",
       "3xki+viLmCvRDijMF9kcsmbH48qJWzngcvttxxW3F6kt1HgBj1hIUWjEd+WEm7yozz3cz1FHa1If\n",
       "RnU21OLFuSGKe9aL9jHfUZt269EMWi3wwO5id1RhX24GfCwOgT55iGLV31i95yUKgNYRTMyS2EDP\n",
       "RClWb8fROrCFz7Sjrnxh2eWpptLGJ/mbQ+sdgiUATlq374Xlx6DzLxl7dDLkmbnD7H+TfwGrFSVM\n",
       "yR8QKQAAAABJRU5ErkJggg==\n",
       "\" style=\"display:inline;vertical-align:middle;\" /></a><br>"
      ],
      "text/plain": [
       "mult_nat_closure: forall_{n in Natural} [forall_{a_{1}, ..a_{_a}.., a_{n} in Natural} ((a_{1} * ..a_{_a}.. * a_{n}) in Natural)]"
      ]
     },
     "execution_count": 6,
     "metadata": {},
     "output_type": "execute_result"
    }
   ],
   "source": [
    "mult_nat_closure = \\\n",
    "    Forall(n, Forall(a_1_to_n, InSet(Mult(a_1_to_n), Natural), \n",
    "                     domain=Natural), \n",
    "           domain=Natural)"
   ]
  },
  {
   "cell_type": "code",
   "execution_count": 7,
   "metadata": {},
   "outputs": [
    {
     "data": {
      "text/html": [
       "<strong id=\"mult_nat_pos_closure_bin\"><a class=\"ProveItLink\" href=\"proofs/mult_nat_pos_closure_bin/thm_proof.ipynb\">mult_nat_pos_closure_bin</a> (conjecture without proof):<br></strong> <a class=\"ProveItLink\" href=\"../__pv_it/theorems/9d30cd3eeee97e587fefdfa978262e818f922d6e0/theorem_expr.ipynb\"><img src=\"data:image/png;base64,iVBORw0KGgoAAAANSUhEUgAAAMcAAAAbBAMAAAA614ahAAAAMFBMVEX///8QEBCIiIhmZma6urrM\n",
       "zMxUVFQiIiJERETc3Nzu7u6qqqp2dnaYmJgyMjIAAAAcRTyBAAAAAXRSTlMAQObYZgAAA0ZJREFU\n",
       "SMfNVk1oE1EQnu5fks1u2oNovdRUoScPoT0oWjUgUhHEFKSleOgSLNQ/EKWIP2iooFu8BETsRbpS\n",
       "KNJDGqogBcFAL1IRYkUs/hG19VAxLUVBWwXnvbfZP/PT9CA+eC+zszvvmzfzzbwA/F/jcNUWGk6u\n",
       "KgtRqxokgVOoyixkrAkEnlVj0UyWO3/rg8nyID50LkeEd5UxAsu4yAm38t4GXI65dfKCPg/KpnUF\n",
       "EC4C8JQI85VBlAgJmdfrTzhTHp0/2wEwBlI+35D/it4tAgwSLxOVQWrSuLzwalcIfNitk/q4MNRY\n",
       "4YKLLJ9KujLIEMn7eY9SoDGsYw/q9XOXKch+owd8Nsh2fDU1Onp7FXl/Tk582htDqphlFO836Sfd\n",
       "0lKGA6QR5w9dv1QyEba428wh3JxstMgcim/BIExSOVXQSslxUXOAHMIXPQADpUB4W9RpSjFCG2HB\n",
       "Uo7Nyz8B3lPZIpmUVKLTDpDuGMBekHNWjPMlQT4TyqPbd7MkyJgJsjw2YAngoV0UDASOS51EYlwc\n",
       "iqIlcFlrq0nzt7M1yq13gZwlDMPP9xhwhh4iR2Mo/0JXaUoa8jhMkBH4YFuOoZWS9dmKL8THRy3Z\n",
       "YGIKdigt21p2OiuCgNSD/J0WskaVwooJEnCeRMy0O3iJVoFch63ACMPMxCgEp3nIuE5yjYULPQ8u\n",
       "WsrfwCOJ26hc5wCBN37bsptEbeAoLsNNc+TMS02GQCgUPNIVdoP0ssTLKyDlJgrKbyRFZuKbLRBM\n",
       "tDJoWxJ2wX0ku9wnkrriLnCREO16samXbpBGs7X0wystU1Cegqu4tlLZV6joUNpkvKPCoBbbAh8R\n",
       "SV35w2pumIEoZEfe7Y+A34xs7opHC8rhrYQzc6wx9h5gRXml3t3QKBlVg3QmTqOZ5bVOXdfDwVgg\n",
       "izuKjt4VLdJW2O5mHxCesLbiHR8tmiX9rxGr1qhJS+wksM/d9/hMsQYJRRqk14dly89k90EYNHzG\n",
       "DCgxcrooqBn37UvY4y92QaXKNz3Vun+F+PguaE+LJ3HnG/jcNsv+BjjGiSKXFh0D5UF8Mfcz4weH\n",
       "OSnlcJHrV02WB3m76tuavI2s6Y+U90JUy3/+YE0gvAH/ZvwBoizK9/4uYLUAAAAASUVORK5CYII=\n",
       "\" style=\"display:inline;vertical-align:middle;\" /></a><br>"
      ],
      "text/plain": [
       "mult_nat_pos_closure_bin: forall_{a, b in NaturalPos} ((a * b) in NaturalPos)"
      ]
     },
     "execution_count": 7,
     "metadata": {},
     "output_type": "execute_result"
    }
   ],
   "source": [
    "mult_nat_pos_closure_bin = Forall((a, b), InSet(Mult(a, b), NaturalPos), domain=NaturalPos)"
   ]
  },
  {
   "cell_type": "code",
   "execution_count": 8,
   "metadata": {},
   "outputs": [
    {
     "data": {
      "text/html": [
       "<strong id=\"mult_nat_pos_closure\"><a class=\"ProveItLink\" href=\"proofs/mult_nat_pos_closure/thm_proof.ipynb\">mult_nat_pos_closure</a> (conjecture without proof):<br></strong> <a class=\"ProveItLink\" href=\"../__pv_it/theorems/78f76b347d8023107d19e909ef98ab5b8dc2ea800/theorem_expr.ipynb\"><img src=\"data:image/png;base64,iVBORw0KGgoAAAANSUhEUgAAAXQAAAAbBAMAAACemGlbAAAAMFBMVEX///8QEBCIiIhmZma6urrM\n",
       "zMxUVFQiIiJERETc3Nzu7u6qqqp2dnaYmJgyMjIAAAAcRTyBAAAAAXRSTlMAQObYZgAABH1JREFU\n",
       "WMPdmGtoFFcUgM8mO7O7s7OJPxSMoXXT1Ac+MCQ/FJ8bCtofQhMtPkBwCQakBQmm7tYHGkR0VYSl\n",
       "YlyE1vFPtFuaDbVL6w9xNfZPRRhFfLXCiiAYMIaiUNMinvuYmTv73okR2gv3zp07c+d+59xzzz13\n",
       "AP6nSY7untgHPn/XRGHMQczu6L7SL3omOJAUftfofZhX01r/5KLXaZOBrurvAb0Vs0+vutul0uiw\n",
       "h6FnyeVRUfQ6cgnozsh941hccLDE4vZ75UVsBNSZUw30ZoZ+g1xGiqKrQxOYd7UFi2fV91OyOQ1e\n",
       "fQNACuTR0Q9HnwOcZegJop2+ouj0UcKhvbhQ7kCLg47XcqdhV00QXKbBeIYoOtEoVW0RWycTcsMh\n",
       "+ln8tifuoOM5fr0fjdIJkD/VutnCo+i1fRQ98HsyebrEMv0zmfy+xyH6LcynHXmmEL1smmdo/VR4\n",
       "ULPQa6YwD/N3LLavBHp9LHYkU82wwssr+ZLyLW+dUb7jyeEmTVwkoIxY6/YnKWyhu8cZejfA0RLo\n",
       "cgd4q5pzwbZjmE9gbo/XjaEOS/dzN8ALox7I2h2NHFdDty106RVD/8S+oKXe69AUttDdLTAIDtGf\n",
       "Yt6L2vuAWOf6xcx7FOhClX1OhyVGg5+aqFf0ll/IG0mNSuN7ydA9UGO67R+GV8CvqlarCVtSDyys\n",
       "bNPnMgvovZjRGdeOgwfjjjW0LZXN94VvSLlKg53mt8ZI2TmKydD/ADy2OnB0VTf3zMDxMxpcDrao\n",
       "4m56EypYpabMw229baa/esLQXX2Q6jDQPQXCmggppoPyyo6eELUuZTqtrY6j+7Lo7gMr1jUT28GU\n",
       "Tn9jQ/+ughhKlFnQ+mFmMKkMXAEDveg29C/4xzgHuKm2XLbt9Q/LfqTXPIY5ug3HbtddcRYUpNUf\n",
       "t4jo3n70VErrjo780cxGUWYBfTtbpqkh2OGPl0P/B+TsJcbBl2lt0ETHcVRrEgwPAxdRxDNzoF5T\n",
       "6KhpyAyL6H6yvM53bNVAzokHaCNNoswCehNm/JY3GIioNq1T6yZWz8ycpoNwL5yhHAjNPOxe088P\n",
       "cVfLJ5n7dagnwnVBO0hfx2IHEf1bjy1y/AtzG2wE6WoOOmlkJKLMAvpnGgVWumb1f2w3mIhh9RGz\n",
       "aeCjzV0hyoGobDYHDrERpQPTsbQcHd9NUQbyfBosl+gRBAnc62zoDzE3wmy8y0GnjfTTosyCYblC\n",
       "YiCwphI/RTngPL9beySaLbTZBoV43TcGX6XhN1K9g5t/bryuvIYTyVx02hhY9igD+TJz7WTE8OuX\n",
       "SsJkypEXfuWklCagu8OwQAcvmpR7fwjkvKNGg/RSJ+i+Y5DQjII0+ucS35knM58NYpPGVn3yQFd5\n",
       "dMahZEu/dbfAKWkuznvBU9Lq+c0UXWqEzrjUQIpG1tgtoeHlyczTl86OGuUij11VH/CIwfjNO17r\n",
       "qblTQGaeBp0d8B6U2UUy1aJLi5aJx0ZWU8L+m8X7+52cM8qmREV/BPL+w+gFaiXSz5OBvpT+h4n8\n",
       "h/9vvQVzKjYXCUtkFQAAAABJRU5ErkJggg==\n",
       "\" style=\"display:inline;vertical-align:middle;\" /></a><br>"
      ],
      "text/plain": [
       "mult_nat_pos_closure: forall_{n in Natural} [forall_{a_{1}, ..a_{_a}.., a_{n} in NaturalPos} ((a_{1} * ..a_{_a}.. * a_{n}) in NaturalPos)]"
      ]
     },
     "execution_count": 8,
     "metadata": {},
     "output_type": "execute_result"
    }
   ],
   "source": [
    "mult_nat_pos_closure = \\\n",
    "    Forall(n, Forall(a_1_to_n, \n",
    "                     InSet(Mult(a_1_to_n), NaturalPos), \n",
    "                     domain=NaturalPos), \n",
    "           domain=Natural)"
   ]
  },
  {
   "cell_type": "code",
   "execution_count": 9,
   "metadata": {},
   "outputs": [
    {
     "data": {
      "text/html": [
       "<strong id=\"mult_int_closure_bin\"><a class=\"ProveItLink\" href=\"proofs/mult_int_closure_bin/thm_proof.ipynb\">mult_int_closure_bin</a> (conjecture without proof):<br></strong> <a class=\"ProveItLink\" href=\"../__pv_it/theorems/929d208dc53906f9756de25c0e046b48a15545560/theorem_expr.ipynb\"><img src=\"data:image/png;base64,iVBORw0KGgoAAAANSUhEUgAAAKkAAAAVBAMAAADP89MSAAAAMFBMVEX///8QEBCIiIhmZma6urrM\n",
       "zMxUVFQiIiJERETc3Nzu7u6qqqp2dnaYmJgyMjIAAAAcRTyBAAAAAXRSTlMAQObYZgAAAslJREFU\n",
       "OMutVU1oE0EUftlsks1mk/ZmPFijQvHgYVUEEX8CPRQEoSIoHqRLULGgUASRFimxPbiplwVBiyJs\n",
       "G6glh3RRRAKCofGg1cOioFFQttgiVKi1KKhR8M3M7jabJtuLD77MzMubb97fzAKsL3dtNEhMa25e\n",
       "Qlhk8sGPVMwy1MvUBvzpazDs3twxN7QJwnjaC7Je9GNNaAwe+YQoNui274EEZEFER8dwGc36sb62\n",
       "4ZEaQkp5dfvRRykNMINe6Pi34cc6YKNe+N8kNe1sEb92eYiM+yCqHMNxHFWzhcItP9JoP4NHJKqY\n",
       "p/PQsO6oBX2UpAz9/amqV/xYOZkBblS2uNsTmW0YX4XOi64WXsVNciRanwHIuYEtrWUVTAZ+I3x1\n",
       "ldOL4i+Aj3TeV9ctUzQjWK4uWjRbKvYYTlZGZDaNGAzjJuylW8nPEx1WAB5Rg9VSh3voCTFMTwQ4\n",
       "09V/Idse7zYjmjRhBxZIMxzS4SJ1k/hwEMQ/AL00rR1LKNS0iy9TzTJmwYyshothQbVUgBiccm6T\n",
       "w5oE8Qf1XaHtytds1rq2tASk0ylr1DqOinznAjllpVPnWeRyGTwZQN9iy+7+vxDE3uqm83a3MYyn\n",
       "6ABWgDRI7jRGfSlEOpAb5OQE68E7Pd5qiTUIWyWH4DtJs12tXY7yZhTD2MmqBQ+QOiiHyAFCKm7l\n",
       "qcWE5HogMwzDW8XxHy7ACLtMdjBURgUdJqtIRsza8OIFDE6hOQwqJ1RVTUF5Fm7b3dbPMLn1ZCbt\n",
       "sOZ3kAovsH46d5gZJufUq9/wtAQJM47FntaE9zi06QEjTC0emvDc58YyOvvG8c/YjXXknjMJaL1H\n",
       "YEyP6FWQyEnBIMt5y9cFmrwujsy4lypz/wAcNULnMSXXcf3m7MvPilMujWGNFFu8x5Z3zdLOkbyu\n",
       "82pTyTVnbfCg1SejxRcm3sL8XYMZ/C/5B5elvJOoOjWhAAAAAElFTkSuQmCC\n",
       "\" style=\"display:inline;vertical-align:middle;\" /></a><br>"
      ],
      "text/plain": [
       "mult_int_closure_bin: forall_{a, b in Integer} ((a * b) in Integer)"
      ]
     },
     "execution_count": 9,
     "metadata": {},
     "output_type": "execute_result"
    }
   ],
   "source": [
    "mult_int_closure_bin = Forall((a, b), InSet(Mult(a, b), Integer), domain=Integer)"
   ]
  },
  {
   "cell_type": "code",
   "execution_count": 10,
   "metadata": {},
   "outputs": [
    {
     "data": {
      "text/html": [
       "<strong id=\"mult_int_closure\"><a class=\"ProveItLink\" href=\"proofs/mult_int_closure/thm_proof.ipynb\">mult_int_closure</a> (conjecture without proof):<br></strong> <a class=\"ProveItLink\" href=\"../__pv_it/theorems/cf256e2fe751865b7924e0be5f1e521723a63f5f0/theorem_expr.ipynb\"><img src=\"data:image/png;base64,iVBORw0KGgoAAAANSUhEUgAAAVIAAAAVBAMAAADm0Xu8AAAAMFBMVEX///8QEBCIiIhmZma6urrM\n",
       "zMxUVFQiIiJERETc3Nzu7u6qqqp2dnaYmJgyMjIAAAAcRTyBAAAAAXRSTlMAQObYZgAABBhJREFU\n",
       "SMe9l11oHFUUx//7MTu7k9lNXsREqa5Wq6DVIX3wwQQShBb8gGkF64OSJVjRB8uKsSpIXNqHTlKU\n",
       "QSGGSHVIwY8V3aWyVKHFlaygiYWBVJGShhUUwYdQxQftg3jvPXcms5uZbEeKB87du2fO7PzmnnPP\n",
       "uQtsI8kNE/9JTkqNJ312tH19Cm0+vxTuoo8V+EfejflIrUIaV57t+p5+/veN639yhb2FFW76LYpU\n",
       "r7OPghPziQWbNK582h3TYybaWbK3MM/GXCWKVFyZj/vEValxRS92fk81oddbZG+JBRMrF0oqVnsl\n",
       "7hNfkRpXtAH6zB9/aVqQOphTDLK3kF+uVt9GJOlatfpROeYDc2XS+PKzGJWjm+k2m3XIzpb2L8t6\n",
       "NZq037KON2M+L2mQIjcyfEPv9wo4LVG6boLmi5eknZEeAmaiSTMmsnH3RtYlxbhduAw8vr03OZGs\n",
       "d5eAD6mErAvSB6C1AzcqL7RwS8knTRtbdmS4ZAaXjhk0Veuk2g6kKnj0PmEMqx/cRk5SzogxsL8P\n",
       "ZWxpZ6Qqkn69/HhpFJ/rTsrxSVHG7t474eweV7X1RXlbYow0dQUq27X7hMs/Ibdxm3QimRBrddMG\n",
       "EyqoxsOenZcAV/Wz4sSCg3NFQ9+MPs6j99748Ysq+vCk15U80kQFNVOS4kjIfdwmnQKkgZpZ4Ou7\n",
       "7JHm2o8xxtEDO3kiMGk03gySvquwVNCGD2/tq6d2/SJbCUXd8HaeF/1aE1/CI40Sclr9/lbDdx3w\n",
       "L65wggFhZ6SYeYqRjrsJmzprQ//kiQBpdo4NH5gTDjKdqaa9qFzx3lwE5B2za0fV6jjMenYPUuF0\n",
       "YQeG/B017JeF0hxLjwFvR+EzFt6FO9DvaGJtGmguBUj7+IbYg4NQvuokTRmKzItTYlzU/ZJhkGaL\n",
       "+SN6x5rW2jI7a/4mFk65xTL4a4/4MaFrziy05yrCzkn7eUJPYhzKy5Z1lJGeVAOk+IPpjdjFfqCT\n",
       "NFFPyhJx0LKsIprLWJDZUCbVJm+fu62DVC3J7FRLfmiEU6aY5jGndNKeeVAWsDcGrZsHDWHnpHlO\n",
       "cB1GFJRoTdMHgqQX2a1/4/VqN2nNzl50Vs+tsQIl8Bouvg3tpvuuosYlzFTThCaDlP6Guqn/NmUi\n",
       "FRlxGVMNfM2nF4C1ICmXIeVPl5POO7lZb0jYE4/gdIWtv84TNJUS6xhyQjlzFaTvQX3I3HJCCZ5c\n",
       "PNJ0CXe7yLIESU+P0SIFSffetVOQ7q8rQ9hv86Genjw9yloY70AnmP7w9He/eiHlXc3vbG+9Ntmb\n",
       "dC+S5xHZY+jU1yF3sjzt7KYB4dHfPHTRTMVu5pPkeXoNTtIz29hb2x81pgNVVLn3/sD/Bzl7H2fd\n",
       "a/bvJG9H2++ZivlbIbP/S/4FiR4gxietuXEAAAAASUVORK5CYII=\n",
       "\" style=\"display:inline;vertical-align:middle;\" /></a><br>"
      ],
      "text/plain": [
       "mult_int_closure: forall_{n in Natural} [forall_{a_{1}, ..a_{_a}.., a_{n} in Integer} ((a_{1} * ..a_{_a}.. * a_{n}) in Integer)]"
      ]
     },
     "execution_count": 10,
     "metadata": {},
     "output_type": "execute_result"
    }
   ],
   "source": [
    "mult_int_closure = \\\n",
    "    Forall(n, Forall(a_1_to_n, InSet(Mult(a_1_to_n), Integer), \n",
    "                     domain=Integer), \n",
    "           domain=Natural)"
   ]
  },
  {
   "cell_type": "code",
   "execution_count": 11,
   "metadata": {},
   "outputs": [
    {
     "data": {
      "text/html": [
       "<strong id=\"mult_real_closure_bin\"><a class=\"ProveItLink\" href=\"proofs/mult_real_closure_bin/thm_proof.ipynb\">mult_real_closure_bin</a> (conjecture without proof):<br></strong> <a class=\"ProveItLink\" href=\"../__pv_it/theorems/56f2d34fab6daf96bde77a2bfe8549a6f8ad1dbb0/theorem_expr.ipynb\"><img src=\"data:image/png;base64,iVBORw0KGgoAAAANSUhEUgAAAKsAAAAVBAMAAADLBgMvAAAAMFBMVEX///8QEBCIiIhmZma6urrM\n",
       "zMxUVFQiIiJERETc3Nzu7u6qqqp2dnaYmJgyMjIAAAAcRTyBAAAAAXRSTlMAQObYZgAAAqZJREFU\n",
       "OMutlU1oE0EUx1928rFJdpOLhyIIix9FPIX2qNZIES9K00vtQTBU60mkB21ARSIIbhRx9WBz8LAS\n",
       "qJJLFj2UgmBoD0JEWUQwFoRFqGCFKJ40B3HezGx2NyRbBB+8/fjt5r8z//dmArB9JG2e/bE65H3k\n",
       "Dl58CpV9KtIXqRsLAHEjCD+M3OuM2Jy/RrAVKvtVpD8yOart9EFnGWbbJuNVnGU5TFXN8QxE1qKH\n",
       "tT5YfgRyssh4xgRQrDDZhMEzEFP0Z/BY3LRLJUfIEsNhXG3V60uhHiyJDMQr5kSeXc8e8EZLjDLn\n",
       "v3T9WqjsHpHJQ2M7e/DL7oN0lsya1JbPhHi0yPk8QMXl0c4A2bsijxqZH71O+GM2DFDZ1L2GoLIr\n",
       "E9Qd5JP+iq6L88r+s59ddpVnahcQVlp0Nd2FrAbpBbyXvZLdL13HMiFPgOS1+jccyYtxW1KgpQm2\n",
       "gyfpQkJjA6UH4kCjCTE2+ukODVGySRk/ilyxE96Ef2NdV+tAZTfsoGykDI0C3i/ytp2yhGzV12Dk\n",
       "WFnIJp0ZelUb3cT7n6NmFOuAss2gCXR0L722teGICVFmQsTft7ffYYmQV87RmV2OdVHtipTLAJcd\n",
       "zwVL1rDgYtqtTjZPrRYlI5pPdoYUBH9OtUkuhl+QNdWpMVly/pK/jOvs2aLisrgt06+SZm867uJV\n",
       "rHnBaUkhYklFnE+eFE/puq5JyoP37svHeabm9j3c22uwsTfoMPMalm+a7lazCfp3i3OVwoYhb9BT\n",
       "1oxYcW5C+rQZtnhZPBHnE7dKziAOEePMSaiaCbMNSoF722qGbTUs1oasyx6Pzj07DNNW7ALVuoPL\n",
       "4W2zNuE+rIBvIfo3XWewaj/nG5lEvd1uG2chG4Nl+3ja+Lc/nY9DPOjjKvy3+AsZ18YH57Ui/QAA\n",
       "AABJRU5ErkJggg==\n",
       "\" style=\"display:inline;vertical-align:middle;\" /></a><br>"
      ],
      "text/plain": [
       "mult_real_closure_bin: forall_{a, b in Real} ((a * b) in Real)"
      ]
     },
     "execution_count": 11,
     "metadata": {},
     "output_type": "execute_result"
    }
   ],
   "source": [
    "mult_real_closure_bin = Forall((a, b), InSet(Mult(a, b), Real), domain=Real)"
   ]
  },
  {
   "cell_type": "code",
   "execution_count": 12,
   "metadata": {},
   "outputs": [
    {
     "data": {
      "text/html": [
       "<strong id=\"mult_real_closure\"><a class=\"ProveItLink\" href=\"proofs/mult_real_closure/thm_proof.ipynb\">mult_real_closure</a> (conjecture without proof):<br></strong> <a class=\"ProveItLink\" href=\"../__pv_it/theorems/3f3013614098eab95c22caf8b800156a9f8c14280/theorem_expr.ipynb\"><img src=\"data:image/png;base64,iVBORw0KGgoAAAANSUhEUgAAAVQAAAAVBAMAAADrzwv7AAAAMFBMVEX///8QEBCIiIhmZma6urrM\n",
       "zMxUVFQiIiJERETc3Nzu7u6qqqp2dnaYmJgyMjIAAAAcRTyBAAAAAXRSTlMAQObYZgAABDFJREFU\n",
       "SMe9l11oHFUUx//7MdnZ2dmND0qNImyNtkWtLo2ixUQThOZFYVPBtlDIsn5AX0pqYyIodSlCJymR\n",
       "pYU0FJQpgVZX6i6VpQZaHN34kqAMKFhDLGuxD7ZQg7RQWymee+/M7Ex2p9uR4oEzc+fO7JzfnnvO\n",
       "uWeA20j4Shb/SeKm0IAy5zOfKALnR1Fn419bP6L2p9gpGdjop5YGlI6i9zq5R7v12xQNdpHOY5HN\n",
       "XfJDVSt0SulBbf5haUBR6qsmUkpOmpoEvuCoM2y9Cn6o/M5MUJPJjNDA8u2qazluoDBNIGmGylzG\n",
       "fdcSlft7MajFWFFoYDlmnc+Nj9dt1M0UhMo9DDW5UCodgS/qcqn02UhQi0csDSypfn7a/pjLq5tl\n",
       "GvzOUHFd0973R+3UtANGUIvdlsZ7Nz3Q/unDtbV2Mqg8apRL7gDIbaFBjaO+CUz4o3ZkIQdeyilL\n",
       "B4qpFfLR7R+OduFPJ8jr3kJAqIm9DPw8R33Jm3jS3nmszTmo0QxPv/ZyesPrF+zxe0KVhxAp4NVn\n",
       "RXa3+A135jETzzkFlMea7EqrNeOX+ds5agxhp25+XuvDV6oe0R1UjGBj+yJzpscMq1hIW9f3Co3c\n",
       "QIymBvlcud78s1vs+KKOtx0/rbDj0BUSK63mM5NsMMxRVTPm+P/gUR1n0xm1EQD4Hu2z6txcCYS6\n",
       "ZHpRQwWUszZqLNf8uzF2uB/KNS/qjLtYPb29gRqvv0aQfVu7WSyQVKuH3KifSGRD2bS7eYudXXfR\n",
       "ijaWDAzV8AZA2cDXsFF9V+QfJFYs+4hyt4TcqPLJtHgHoWLiDUIdMENFsclW1ZM7XajyNB1OZId1\n",
       "dHg3LeUd6YZVYiBQezLetCpXsJu27zaoN9FRnxP2rbSKpF2oUu4ZJ63wJf2Vo+vRqSvcVBVGzYWa\n",
       "YFnRg22QvvGiRjKSFRqzHDXy1qh9qyZUTifHVI9XeXSyqBVhymU/fs4Z3D6903BWxd5YsUhFCL0C\n",
       "tZP9iTwGIL2rafsJ9eOYCxV/kT6IdRRtXtRQJWyF3zZN09Jh9dBP9q1BoUr+0elHvAEwZkftmDN1\n",
       "/OEd+X5un9BEmB3/UHfalaz80U3gokBNsvn70CshJ7wa3epGXSKbf2OqtBq1XJSX9B/PLlMdFAGQ\n",
       "2Km33FgH76TWcfs4YV29fGDcUzCUEYHKG8wVjFbxHRuSb5bdqEy6pKsmQ53R45P2IVQcfgWnCrQC\n",
       "albE6oLRsl05fScNLrff1K44e1G6gRrN4QkTMrUt0X39wk1u1C2Pd3PUoYrUhaEiO1Si+VN9tJmx\n",
       "WnKQAf1gzL5gv3oCjS3w8Af59qjCvlL3uS2aQI9soFj1bqzufonWt9GCiVEMG+mZMMXq3Witfbfw\n",
       "iWbU1R8s+1zVVHrqef7l0PiGYAmAM+bd+2D5xa//JWNPjgbsmVuM/jf5FxzzKe8RHA6xAAAAAElF\n",
       "TkSuQmCC\n",
       "\" style=\"display:inline;vertical-align:middle;\" /></a><br>"
      ],
      "text/plain": [
       "mult_real_closure: forall_{n in Natural} [forall_{a_{1}, ..a_{_a}.., a_{n} in Real} ((a_{1} * ..a_{_a}.. * a_{n}) in Real)]"
      ]
     },
     "execution_count": 12,
     "metadata": {},
     "output_type": "execute_result"
    }
   ],
   "source": [
    "mult_real_closure = \\\n",
    "    Forall(n, Forall(a_1_to_n, \n",
    "                     InSet(Mult(a_1_to_n), Real), \n",
    "                     domain=Real), \n",
    "           domain=Natural)"
   ]
  },
  {
   "cell_type": "code",
   "execution_count": 13,
   "metadata": {},
   "outputs": [
    {
     "data": {
      "text/html": [
       "<strong id=\"mult_real_pos_closure_bin\"><a class=\"ProveItLink\" href=\"proofs/mult_real_pos_closure_bin/thm_proof.ipynb\">mult_real_pos_closure_bin</a> (conjecture without proof):<br></strong> <a class=\"ProveItLink\" href=\"../__pv_it/theorems/f8c7e5295ae8a1ff4881ae5daf618798e48a01090/theorem_expr.ipynb\"><img src=\"data:image/png;base64,iVBORw0KGgoAAAANSUhEUgAAAMcAAAAbBAMAAAA614ahAAAAMFBMVEX///8QEBCIiIhmZma6urrM\n",
       "zMxUVFQiIiJERETc3Nzu7u6qqqp2dnaYmJgyMjIAAAAcRTyBAAAAAXRSTlMAQObYZgAAAz5JREFU\n",
       "SMfNll1IFFEUgI8z+zM7O6u+WS+yFkgPPSxuUVKZEBQE0QbRDwQO9oNSQWUh/RCLQY2GsRSUL+HE\n",
       "QoSQLhWIELRgD6EUGwWJVGyWPRhtIgXlVnTOndn5a39cH6ILc/d45p75zj3n3HMF+L/GzrItZHy4\n",
       "sizcctmQKD6usswq1UVB4Gk5Fg003fxb748Vh3jRuTQJb0ozfPM4iVG78k4NTu12XeC48vtdrwnh\n",
       "QgDjJMyUhkghCpnT6/f4DDrjKsru3h7wZDK1mc/o3SxAH3kZLQ2pSOD0wqnNEj5o1wm+JESvGzuB\n",
       "s1o+pURpSD/l/bRD6WIxrNbjdKnzfA7SWGlC1uKrsYGBGwvI+3Pa8TFnDJnig1biXaq5k0bBhNTh\n",
       "811RzhVMhCk26TmEa6N1RjFXti7HIIwyeVC1hEvebEK244uDAN2FILwpKmSewggthS+GcmhG/AHw\n",
       "lsntlpz4O2ZMSEsEYBOIaSPGmYKQj1Ty6PatFAUZM0HTIxXmAIbNetUgNZ2fmKTVYn8zWgKXMj41\n",
       "qv8Or9g/ZYd0UIXh8o0qnGCbSLMYij/RVZaS2gwODfI41GPxdAitpJTXVJAH4sNwipNgLCiF14TX\n",
       "WU8EQZaA+I0dZJkpXVkd4rPsJLlqj7Uu0cqX3mUqMMIwMTIACJlM2XZyUQsXeu6fNZS/gMci3sLk\n",
       "agtEuGs5Oy0Ute4DOMXrp2nPc/Wqi0qIIEkbpE1LvJgFT3okp/xKKdIT32CBuOXVpiVVF9zHYhdP\n",
       "uelccWe4EDtGCAmHbJA6vbV0wSs5mVMehQs4r2eyN2G2FRj3RGwnDKpwa3zITedKCAbScQbhD520\n",
       "J578ceGa28v2tjbnlPGVVDPTTBbbthoNMiJcyRqWrBgDKnUmTmaZ5eXdiqIEOenqSwqfpXc152kr\n",
       "2tf1PuB6orUV55gyyiwmTCKrSq1IeLRw+ffZLyk+ma9BQp4G6fRh3vAz1rIN+lSvOgFSRMvJWNJ+\n",
       "+1L1CPkuqMHiTS9g3L+u1nsbYEfCfQS/fJkO47NkvMm++HCeS4uN7uIQb8T+t1YfHOakkMN5rt9A\n",
       "rDjk9YJva3obWtQ/Us4LMVB8+YNFQXgV/s34AyuOz5pokrH3AAAAAElFTkSuQmCC\n",
       "\" style=\"display:inline;vertical-align:middle;\" /></a><br>"
      ],
      "text/plain": [
       "mult_real_pos_closure_bin: forall_{a, b in RealPos} ((a * b) in RealPos)"
      ]
     },
     "execution_count": 13,
     "metadata": {},
     "output_type": "execute_result"
    }
   ],
   "source": [
    "mult_real_pos_closure_bin = Forall((a, b), InSet(Mult(a, b), RealPos), domain=RealPos)"
   ]
  },
  {
   "cell_type": "code",
   "execution_count": 14,
   "metadata": {},
   "outputs": [
    {
     "data": {
      "text/html": [
       "<strong id=\"mult_real_pos_closure\"><a class=\"ProveItLink\" href=\"proofs/mult_real_pos_closure/thm_proof.ipynb\">mult_real_pos_closure</a> (conjecture without proof):<br></strong> <a class=\"ProveItLink\" href=\"../__pv_it/theorems/fa126678b690cbe00dad1cbad1e2030c4ff1ff9c0/theorem_expr.ipynb\"><img src=\"data:image/png;base64,iVBORw0KGgoAAAANSUhEUgAAAXQAAAAbBAMAAACemGlbAAAAMFBMVEX///8QEBCIiIhmZma6urrM\n",
       "zMxUVFQiIiJERETc3Nzu7u6qqqp2dnaYmJgyMjIAAAAcRTyBAAAAAXRSTlMAQObYZgAABJ5JREFU\n",
       "WMPdmH1oHEUUwN8lt3d7u3uJfygag7IxfhS1eOT8qv3wgpD+I3it4gcILsGiIJTY6J3aoEeR9hqJ\n",
       "HBbSo6Dd+kerZ9ML6KH9Q1xN+4cNhROKX1hYEQSjxiAt2FSKb2Z292b37vbuNo2gAzOzO7uz85s3\n",
       "7715swD/0xTJvryyDzxyuYk0zCrmcHbC/8XoCgcStMuNnsM8Qq+mVxe9R18NdKX6L6APYY5VO+52\n",
       "3B8dXmHoJqnONkXvIVW8Gow8tozFewFMrOC+jz+fv/TjVA19kKHPk2qhKboyu4J1VxJY/NJ5P8n0\n",
       "Kp6kCVOTEFlcvH7xd4CDDL1IpJNrik4fFQPqSwjnHU8E6PiF516MGZCbdqQenaXoRKJUtE10nSzI\n",
       "fED0g/jtaCFAx0NW/W02a9ro63oc9O4cRY+fKpX2+5jpD6XS+2MB0b/CvD+QZ0rR6vFbOamvEx30\n",
       "riuYh/krn5/wQe/N5/cYnQzLvbzJMqnYhqFrW3fcNzeg80YC0gKvMNqIgx5eZujbAPb6oEfSIHa0\n",
       "5pxu5zETxzBc6FlCGfr3C/fBH45LMd2OBtHl8QUHXTjP0B9wG7QwfgIGtBp6OAHHICD6z5h3ovSu\n",
       "I9r58D3MezToQoV9qAr32g0yVVGRM9Ors7/SKzqb2DmGHoUux21/MLcRPlH0bp3bksZgbVvI8o7d\n",
       "m1Q3+jjmK9GqliGKTzbTtrJZ7wsvkfJ+HXY48lsi5ZZFTJaZnkhMch0sdKXq7JnxNw7o8KmaUPjd\n",
       "9DS0YaVkzqqhvAtzyfGk469+YuihHJTTNnq0QViTIcU1IJ13oxd553gnp2+21GPmowi9cesg0R1M\n",
       "lcpbLvR32oih6JxVIz7jlvpupjBlAz4DG73pNvQ3yEsWB4SptEI8ujij1pT6ghXD7H0axx6uhgos\n",
       "KKgoM0/y6OI0eippaHu6fjSnkc4Z0Y+60Z9lZlqehe1yoRX6RYiYxxmHZabdKocuaHfVLNryMPAh\n",
       "TvHALdCrS3TUChhzPLpMzOtI+ikdIp54gDbSZDL07qQbfQAzfktU4xnFJXWq3UTrmZrTtAu+0QzK\n",
       "gdDMw+7kAgGYjzjCi1t+HXrJ5EZhGISX8vldiP521BU5/ok5CY+B8LkHnTQyEoqr3v1Myo3+kE6B\n",
       "pdGbpm90K0zG1vqM03T4hidGU5QDURnl4dd1J/xKi29etF+1dlN8QJ5fBRsEegRB9PBWF/r3mPvh\n",
       "ZrzzoNNGqnt0zuqXawk6p1ihFB8IbG7HT1EOOGLdPbgnazbabFUuXo8twQsVOEkuz+Dm743XpQsw\n",
       "VfKi08b4+rMGO3ahwlROuYcg614Lvz5uJ0ymHHXhlyeVdQ49rMHtVRDRrYVfTUGk7qjRJ5yrEvTY\n",
       "JBR1uyCN8hriO08ydOWo53xHdNLeqve9NtoanXFIpv9bXzc4Ja3BdW94Shq5bZCiC/2wpSD0kaKf\n",
       "NW4TUPHInOWJ36SkZ8zngh01WkUeL3Z8wCMKI9d2T1aNdZ1pMGcrHQt2wPuuxS5idIou3LGePzay\n",
       "K0mTT/sEB0HOGS1Tsa0/AnX/YaoNrnzSR6uBfh/9D5P5D//f+gcU8joVyPMORAAAAABJRU5ErkJg\n",
       "gg==\n",
       "\" style=\"display:inline;vertical-align:middle;\" /></a><br>"
      ],
      "text/plain": [
       "mult_real_pos_closure: forall_{n in Natural} [forall_{a_{1}, ..a_{_a}.., a_{n} in RealPos} ((a_{1} * ..a_{_a}.. * a_{n}) in RealPos)]"
      ]
     },
     "execution_count": 14,
     "metadata": {},
     "output_type": "execute_result"
    }
   ],
   "source": [
    "mult_real_pos_closure = \\\n",
    "    Forall(n, Forall(a_1_to_n, InSet(Mult(a_1_to_n), RealPos), \n",
    "                     domain=RealPos), \n",
    "           domain=Natural)"
   ]
  },
  {
   "cell_type": "code",
   "execution_count": 15,
   "metadata": {},
   "outputs": [
    {
     "data": {
      "text/html": [
       "<strong id=\"mult_real_non_neg_closure_bin\"><a class=\"ProveItLink\" href=\"proofs/mult_real_non_neg_closure_bin/thm_proof.ipynb\">mult_real_non_neg_closure_bin</a> (conjecture without proof):<br></strong> <a class=\"ProveItLink\" href=\"../__pv_it/theorems/e93085c743cf8d74f24c0e98a778808ff46bd6700/theorem_expr.ipynb\"><img src=\"data:image/png;base64,iVBORw0KGgoAAAANSUhEUgAAANcAAAAcBAMAAAAAfDfxAAAAMFBMVEX///8QEBCIiIhmZma6urrM\n",
       "zMxUVFQiIiJERETc3Nzu7u6qqqp2dnaYmJgyMjIAAAAcRTyBAAAAAXRSTlMAQObYZgAAA55JREFU\n",
       "SMe9Vm9IU1EUP3vb25+3ze1DYPVpJohIxMgEhbJBYF+KJkUZBA77Q2KCpTbIPkhZzYkxEspvvRiI\n",
       "iOmoSISgkX4IW7EgSsRiWQZNMJGCdCWd8972fHvb2uYHL9z77jvvnvs775zfOfcCbEJjXgQ3AUXT\n",
       "KDxm4elGtI/lub7vLI1tYOGZvLFYV74afTcAuF+gCmjyVi3g87ZvuAvYFdCF4XW+mruxG8KpcqPv\n",
       "P2hRdhV0NtChoRESfMwNy7CKw6BCOFiIQ2OyzHzRs/a5V5zvCuOfqWzA2AFekSCaG5gJ18N3pfQL\n",
       "9hGlvzkX2+vFCVcaoJhZHGBYAugniztzA1MF0Gi7UhojM2zJMr0hCJ13EeulI85GgA4x5qZAbmD3\n",
       "ca1OGR4N+Zazii/TbnckAVZVAFwlYUGxkGeVaOnU0NC9HPnxFnvKWlMLjV+FeV2Z7M+q9MA6xQoS\n",
       "IncUYf/t8VzNEaxasJKyZ6JISoKChmJ0zARNuajcja6aZO0jqII53p1hc8Gu4VlpXw924phmG/yQ\n",
       "Fo1GuRWATzTV+mRgxlYF7epxuwPARST/LyZ9fk+x9HISfb6BEGZ4EKYAAAhWPOdhGWBMgJARpNC9\n",
       "gPnnweZNRBzjpwNmPU0n4s+x0tNz+KjBL1awJr62Yt+CfT8Pl8hra6JvuT9oNk1rF7HFCTJp9yr8\n",
       "NIpgprBuXbBAezwrDzMmmCI2Hy0zWKFdnlEEtpVSB9tlUaiJxcH65dTfU6fkMoIZIsfXBStE3/Eh\n",
       "QLAZ+l+2Rw52U3Qj/olxSVL5C2ok/0EhD+Vg+oeK3KuniHafwcFfMk97L5fwGqIpgeGBZ2wGWILt\n",
       "ieXnRYJwMdBGxhPCnxRCkSBqmwyMdVWkshEeY6Jw7SzlJnOFsReACFZuB3NTMkGK4lG9Bh9c0tnb\n",
       "DNdx3CvMO2TlCl5pnSlZCha0R21nKTf1NnPEL4Cpz7UBVCioT7aRvwZ2nGxwJIT+neTveWE+0MVL\n",
       "hdipvx1LAhMIbOap6jF0uKkcatcJZKuNMd15l6Y2OtKUK6FxLeLz0C13JFNJmJNo6dPPIKaFVwW0\n",
       "ohuNp3guFApNyperg+kKMaQpxOnsWZVs9tUfhn5ex0+DySnGbCr1RsRSxqUtNyPZa51ZuhdoGh7t\n",
       "g9oAewEReiip3wT91akKTWkOT6F1ZwfTJdMFxJOGwZhlUBjJcC0w+7KDzeZ+k4ivsG/4Cqk8oM3Z\n",
       "VZ5sGEzNw+a2f1BT8Yt5JMuCAAAAAElFTkSuQmCC\n",
       "\" style=\"display:inline;vertical-align:middle;\" /></a><br>"
      ],
      "text/plain": [
       "mult_real_non_neg_closure_bin: forall_{a, b in RealNonNeg} ((a * b) in RealNonNeg)"
      ]
     },
     "execution_count": 15,
     "metadata": {},
     "output_type": "execute_result"
    }
   ],
   "source": [
    "mult_real_non_neg_closure_bin = Forall((a, b), InSet(Mult(a, b), RealNonNeg), domain=RealNonNeg)"
   ]
  },
  {
   "cell_type": "code",
   "execution_count": 16,
   "metadata": {},
   "outputs": [
    {
     "data": {
      "text/html": [
       "<strong id=\"mult_real_non_neg_closure\"><a class=\"ProveItLink\" href=\"proofs/mult_real_non_neg_closure/thm_proof.ipynb\">mult_real_non_neg_closure</a> (conjecture without proof):<br></strong> <a class=\"ProveItLink\" href=\"../__pv_it/theorems/aa460364bf9a74571d0b7303cf381fdcf2817e700/theorem_expr.ipynb\"><img src=\"data:image/png;base64,iVBORw0KGgoAAAANSUhEUgAAAYQAAAAcBAMAAACT0dV6AAAAMFBMVEX///8QEBCIiIhmZma6urrM\n",
       "zMxUVFQiIiJERETc3Nzu7u6qqqp2dnaYmJgyMjIAAAAcRTyBAAAAAXRSTlMAQObYZgAABQNJREFU\n",
       "WMPVmF9oHEUYwL+7vd29vdu7BKnQGCqn0VowxZBAFZuWC8UU9OVaseZB6BEMKmIJVRP/xHiUYq8t\n",
       "xa1CGkrVNYLVM20Oytn6IJ7GQk0TWTTWP1i4Fx8UrUUi2DyI3zeze9nd21z2LomQCZndnZuZnd98\n",
       "f2cB1mZpbYU1W7o1qmPFaNpff2nwxWW/U0yuKIKyJYW1nIR5SOBNaHCoen95Bd65Z4XFoNyHDBMp\n",
       "aIZu9jyy+gi/rbQqRS4lYa8Gr4Bq/D8IAolbMWoe90kVhq/1vTrsB3iJI5TocnVRhDgzHqN+hHd0\n",
       "rD6ofZykOZ+/X//6tfV8HcE/SAo3AbRwhMvVhC2DmsdLXK8fYZKqX+tQl5KrofQ+9PxACxk7ymxh\n",
       "DreHI4ySnDOLIrCfRpehSM0kxbY6Bn7hes6cgrCCnnT8oOWRQM4zBNphttWL2AIJ6PIy/Mc8TaPV\n",
       "MfJdfokdGhy2EAStBO8dZLrURnFByDCE2FQud6KKOf+cy33YXz9CrBGrE/WMjLN4Ih7QF6QgaBl4\n",
       "xIzOpKDBRu6R/slmh6ogNGSzh4rLcEik0mR2Smf7LUvLzNZJZdp3VrcpkhRyhuTQPEfoAzhcBUFK\n",
       "QbgGPRCZKc5MWc9hkvUx/O/S4tcBeqqP5p1M+TF7fspuC+e3O/2K+DdH2OE0fvHZL+G29AJCqA3O\n",
       "1qI4T9O69bIXjdNULyPVBtLch+/l3sZjIC2OdzJLlKnvgqPJHB8cRpu9kMVikihzHEGGYNntfzS5\n",
       "DS6ouqDbQls/bPa1+Oj+17ZjGAs9AxDAP2sGUod1qFDzIOOvO1njRKnSh/4L5U7mXpI8xFuvYTGl\n",
       "sCPscu4RE0E1yjE4dvSkDp8m2lR7dJ4BH9ZM7ImiOkZvbdePg5yypGAiBDLky00E2SPLHIByJxuC\n",
       "zd1nTgkPuJy/JQWlhIlYbNvuFtIpLIXCGw6Et8Wl01rGnijGztBDT96GEDYVaaIIn4GFsFjhnb79\n",
       "7nbiDrGda7TbwpFvXIZ3w8yRDj+Oa+gyAhpPNgrqmcfsCOER9G6R9n2pSuGXGxk7Iozj5WMDGiBg\n",
       "iVwyzXkiD/ui2lIIrNPsBmgqm3O7HWGPkPL0SHAOcU/eBQ16hLmxAhQn7QhRMsHTKUysJJcqskYe\n",
       "/DmC0AFwJe8wZ+a6cb5wIjagOqRABsEsgFVcZNRJGeunyAsCc+Vy3pZgqPm+yqBDCA1kQb3QBeIL\n",
       "2ewBRHhLdmSqf+F/BzwK4ucuBGrk4mDsiS1PJIHtk82pso3ChUd67xy5w4HADGLAMgM+D+skJUK0\n",
       "tDjb8ciTD5bTvF8g+6cjjzCjM7LQym6GThHSXAqh3Q6En1imsxGfdHf6s9HUScae+GqzxwFtnSPB\n",
       "2OnDtQVSQhGXf9rcg0tmguEVwBO284JyHZ4rwEW6ncWkwn1eiNyAYzk3AmuMbb2KAk9zRSpMwfj0\n",
       "9LQDpNOR5p33k56D/FCqMs3zsh3dhoCRu9WAMIopNJwEqeLI0yTOGYSgHIFR3aqoMbqJfO5FjqCO\n",
       "V75mF1VW+H/z1V4fB3wIzngk2x7lisepbRPqg+eprfvuFoYgNsMuTWyiqpk39omokMQeHfo90lH5\n",
       "Xilf35HHT1bzfM0HT1Kk6EI05pf+4KwHu+voUsfB80cfyUyxVgTxnq32Iy2/i6SjM9XnOLdqn5RG\n",
       "fX3BqPiOZHjcLZE7JVcL4X72HWkA1n75D/aGWkSyh7xAAAAAAElFTkSuQmCC\n",
       "\" style=\"display:inline;vertical-align:middle;\" /></a><br>"
      ],
      "text/plain": [
       "mult_real_non_neg_closure: forall_{n in Natural} [forall_{a_{1}, ..a_{_a}.., a_{n} in RealNonNeg} ((a_{1} * ..a_{_a}.. * a_{n}) in RealNonNeg)]"
      ]
     },
     "execution_count": 16,
     "metadata": {},
     "output_type": "execute_result"
    }
   ],
   "source": [
    "mult_real_non_neg_closure = Forall(n, Forall(a_1_to_n, InSet(Mult(a_1_to_n), RealNonNeg), \n",
    "                                         domain=RealNonNeg), \n",
    "                               domain=Natural)"
   ]
  },
  {
   "cell_type": "code",
   "execution_count": 17,
   "metadata": {},
   "outputs": [
    {
     "data": {
      "text/html": [
       "<strong id=\"mult_complex_closure_bin\"><a class=\"ProveItLink\" href=\"proofs/mult_complex_closure_bin/thm_proof.ipynb\">mult_complex_closure_bin</a> (conjecture without proof):<br></strong> <a class=\"ProveItLink\" href=\"../__pv_it/theorems/430998471375ce87ec0437f587b03d2bb534a49d0/theorem_expr.ipynb\"><img src=\"data:image/png;base64,iVBORw0KGgoAAAANSUhEUgAAAKsAAAAVBAMAAADLBgMvAAAAMFBMVEX///8QEBCIiIhmZma6urrM\n",
       "zMxUVFQiIiJERETc3Nzu7u6qqqp2dnaYmJgyMjIAAAAcRTyBAAAAAXRSTlMAQObYZgAAAqtJREFU\n",
       "OMutVUto1FAUvZlM5pOZzGwEoSAEP124GiquVDoq4kZtiqjdtYyKG5Fu7IC6qB90xg8EBDtgF7EF\n",
       "LYMwQRGsFBzahVARAm7aghAX/mUUXaizEN997+UzMZMieOEm753cnLx77n0vAKtb2mIetNku8Yjb\n",
       "OHgVSTvD3Wfy+VGAhB6MjL37svYixZ/j9GMk7QfufssVCLcdAKVhU+5/SfEaZjkexaoUmHdY3iSX\n",
       "+QBolUjkd4rnDICsGUWb1Jl32AB5De7wyVK5jAtXtB5yPUpxZbFen4jUYIJ7hz2jShTpeGgzw0Sa\n",
       "9RTDf1Yq5yJpN3BPb+/rccG367eRLKk0slOZuxKXCvHjAFUnON4Kob3Bfaee++p2wm+joYNCa+Y2\n",
       "xGRc5dUg+G5/RRecQeb6iRIfnmUurwORlhZVzbQhr0JmFOcp552bDi3iSYh5rf4JVzK3xZKHDOkz\n",
       "x9YwF9uQVOlCUUYbGk2Q6OoHW8RwZTNSkzcawbNW0kv4F9Z1tg7KJMBcJ60wDg0N52OsbQdMTltz\n",
       "e9kY8WjT9mEymu59g/NvvUYcdd/ziDzoFIGs7qnXthb0GxCnIghegyOtDAyvHiPj01IbN9+ZWCGH\n",
       "ESvLf5WsYcKpjFOdfJFIzUsmqk7khV3kcoDjDwm3WJDwCylVsacx4InvGFlgTp6NZR0sYaVIUmLT\n",
       "TYc17vtF+fFVjpOSgmDGMAGhKI4cqVQq6u1DHu1e5nJp062NboP1vUAxNdavlwwOH3z9Y6uDKwRs\n",
       "6KkVcssbgpmg352iInXfvNTu8fu+K2U7DAdBH94PNSNpLEFWoztKcw+S0KOG2nyXfeni8dKDHTBo\n",
       "SieJKtcQuN+6rDkPq+DbiP5D1w5nDeLsIIsRbVc7xqml9HDaAJ7R/+2ns9xFgwCuwH+zP5FvtsOs\n",
       "kl/DAAAAAElFTkSuQmCC\n",
       "\" style=\"display:inline;vertical-align:middle;\" /></a><br>"
      ],
      "text/plain": [
       "mult_complex_closure_bin: forall_{a, b in Complex} ((a * b) in Complex)"
      ]
     },
     "execution_count": 17,
     "metadata": {},
     "output_type": "execute_result"
    }
   ],
   "source": [
    "mult_complex_closure_bin = Forall((a, b), InSet(Mult(a, b), Complex), domain=Complex)"
   ]
  },
  {
   "cell_type": "code",
   "execution_count": 18,
   "metadata": {},
   "outputs": [
    {
     "data": {
      "text/html": [
       "<strong id=\"mult_complex_closure\"><a class=\"ProveItLink\" href=\"proofs/mult_complex_closure/thm_proof.ipynb\">mult_complex_closure</a> (conjecture without proof):<br></strong> <a class=\"ProveItLink\" href=\"../__pv_it/theorems/8081280c4ca456aceeef610de9100d493d3a36e10/theorem_expr.ipynb\"><img src=\"data:image/png;base64,iVBORw0KGgoAAAANSUhEUgAAAVQAAAAVBAMAAADrzwv7AAAAMFBMVEX///8QEBCIiIhmZma6urrM\n",
       "zMxUVFQiIiJERETc3Nzu7u6qqqp2dnaYmJgyMjIAAAAcRTyBAAAAAXRSTlMAQObYZgAABDJJREFU\n",
       "SMe9l11oFFcUx/+b3ZndncwmfVAwLeLaWFusH4M+KDTRRGnzYmGj+FEQsiwV8UWCponQEhcpdVIV\n",
       "FgUNasvYgNpVu4uyaEqkq2tflMKCihpSuw/6oEgaSwWrbfF+zezMbsbNFOmBc+fuvTNzfnvuueee\n",
       "AV4hdeMx/CcJF7l6lGGX8foUcK8HJdr/dfJb1LYGeol4NnpKqEeRU1VDC/uf7NSwlfSu4jodeOSG\n",
       "qmbJpcHwavOhUI+ilCpH1r3A0D8afmCog3S9km6obGbQq8mIxtWzXKl8kRwFftOgRikqdRnz3aSo\n",
       "zN/XvVoMprh6luPieqevjzn4lo/QyRqUNyhq5Fo6fRiuqGPp9PfdXi0eFupZGtrYZeM88VujC6oQ\n",
       "l96nqHim61+4ozbq+p68V4vNQsMti9+sfffBwmxzM6gsahRz6yjxtaJXYKibgQF3VDmGkOel3C+0\n",
       "PdUwQXz06psDTfjdis2SIxGE8ytF7x5DXeXceNKOq5gdt1ADfPtNQer3bUmI7udclZnwJ7F2KffQ\n",
       "JI8wZx4vYpn1DhZrISs9aybqBYYaRJ2VN08XWnFRNfyGhYpuLKidZEaWFJWNhvRY/J7G1f8cQRJn\n",
       "HWwsU6p+7F/arjCw3fLTBG07x4nQ25XkJjHRxVDVYtDy/94jBi5FNbUcAPgFtXfVneE0IseAESeq\n",
       "L4lMzEQNxquf66XNDChPnajl5PhIdqCGS+sJZOuaZhoLRHK5A3bUbyViQ1m8rfqIHZr7QEQb3Qwf\n",
       "5sirnAGQyeMnmKiuK/I36ieEfQSYW3zW5A1ZxEkHQ8XApwS1vehL8UM2p57dZEMNHSLNyViXAdl5\n",
       "aCmfSc9FiqHN6N2qbZXJYhs5vmugvoBcGub2xbbyR83J0BzSDZTMbYXz5K8ceReNhsJSRQ75gg21\n",
       "nu6KJdgA6bIT1a9JIjSGaPOjrdYocA1FI72qw6ssOmnU8jBlshu343lmn7wzb60Kl+X7jNM6mWjh\n",
       "qI30TyTQDmmnru8mqN8Ebaj4g+hbmEuizYnqy9aJ8Nug63r06LryVAdXJfHOoTnOAOg1o7bXGjrx\n",
       "9ieJNmafrA8PsxNfmqak5bN20LEHHDVCx6ejRUKcezWwxo46Smz+hf3pStRMKjRq3Lg0RvIgc/J3\n",
       "5YTkPFg7ppLqmH2cFL9W7+lzJAylm6OyDDaBnhx+pt2bwJgdlUqT9GeRog4a4a/Nxpfq+hjnkmQF\n",
       "1Bg7mWJWteEsVy5MpcBl9qvKFessipZRA3HMLyJEypZAfxvkStSP3m9mqJ1ZqQmdKdpkA4lzreQw\n",
       "o2fRXnrPmfGvrCwxgPIReHBXojYqt19dBArhRaBD3iOx6jxY7fUSCYByCcZ7QSwg99SRWH0dpbXr\n",
       "ET5QjVr5wdJvy6bSog/Yl0P5G4JuAIwUX98Hy123+pcYW9jjsWaepPe/yUsJ6CPApbtKegAAAABJ\n",
       "RU5ErkJggg==\n",
       "\" style=\"display:inline;vertical-align:middle;\" /></a><br>"
      ],
      "text/plain": [
       "mult_complex_closure: forall_{n in Natural} [forall_{a_{1}, ..a_{_a}.., a_{n} in Complex} ((a_{1} * ..a_{_a}.. * a_{n}) in Complex)]"
      ]
     },
     "execution_count": 18,
     "metadata": {},
     "output_type": "execute_result"
    }
   ],
   "source": [
    "mult_complex_closure = \\\n",
    "    Forall(n, Forall(a_1_to_n, InSet(Mult(a_1_to_n),Complex), \n",
    "                     domain=Complex), \n",
    "           domain=Natural)"
   ]
  },
  {
   "cell_type": "code",
   "execution_count": 19,
   "metadata": {},
   "outputs": [
    {
     "data": {
      "text/html": [
       "<strong id=\"mult_not_eq_zero\"><a class=\"ProveItLink\" href=\"proofs/mult_not_eq_zero/thm_proof.ipynb\">mult_not_eq_zero</a> (conjecture without proof):<br></strong> <a class=\"ProveItLink\" href=\"../__pv_it/theorems/f811559bf5ee726a5fd2d7710a6558341f0a91120/theorem_expr.ipynb\"><img src=\"data:image/png;base64,iVBORw0KGgoAAAANSUhEUgAAAXwAAAAZCAMAAAAFd2WlAAAAOVBMVEX///8kJCQNDQ0oKCgQEBCI\n",
       "iIhmZma6urrMzMxUVFQiIiJERETc3Nzu7u6qqqp2dnaYmJgyMjIAAAD9T1yxAAAAAXRSTlMAQObY\n",
       "ZgAABIRJREFUaN7tWtmymzAMpS3eV/j/j60t72ATLoRMOxM94CRXsuFYPlq403RdGOdcTl+5IsRh\n",
       "Z+5MwL8Y3hHJvuB/wX/3c9l2fFL0iHmNOtZ24C/5i7VXwL9h/5go0Y7PCuujL5dmJ5A1tNV24Bud\n",
       "vizqCvg37B+TRbbjw1u99PeE1HfkUFKQnRRtB75M3iHFJdq5Yf+UWNyOT4tBPcev4bAz6C2Ntuf8\n",
       "5LDFhX/G+dftn5KU/34qD1Zzz/Fp9UVAbNWrqrU9+NYoL/Ln4TNYXLd/KtrydvwAzZFjx59WAJ+s\n",
       "utaGbGcVXi6k/PHhLts/JAi34ySxwWh+R0QazGT2/CZqx1crDuCjWhvADwdEyKvgX7a/INRASoUM\n",
       "8ntNUY/qhG1HMrtbW9Zgfysw1TM1QaaEXLOA/Pntr3n3V/BMGsBP2gA+weOQ7U04Nu6goJkNwH9h\n",
       "fy15FoZxtgtkMniddc+i4XZY57xx3Yxq9puAPeoU45qKTp4FVbg9z7S5W37o+A58HMA3tXYosvwX\n",
       "tE/SlTYYWw8E1AtYjYqsgf2FyBVXVFS4xeiyQ1aHLeaeNSF66c6ez6QZMShyFFsqNRmccpii1szU\n",
       "+Of2MFC2maKmnaQdwPdHeR+crNBSwQNaNDljM6xw+/YXUsS0opXBRQbgq9X71azPgT+LbNKCP/Fz\n",
       "9X1Wa2Y6BH/LwWvMdvQefFeLxa2y2FIUAhXJQURTTSU6AL/YTwojttAz/rRXzCsSt2CYuA8+Xf0f\n",
       "uB2A39KOgrOu4wOTG05Sz1QB1c4KnP9rDsyfN1cAVVk4OVk79naEjOWYJZ7WfFip2gYOCaMsHYNf\n",
       "7BWnDhpYgh0yaqVYErZ8ApQdRO8Efj7+PfDbgKvA3dgSuir3wC8zVUC1AbdfWddFVhtw3SPEOCQV\n",
       "4pFNFa7Bd27fSafygyT7CWMfoCErOU7tsmJ9FvJ0atSsYqZ4/owgBu41053GUTg966jDjD0/0/r+\n",
       "Q7OreaYKKHga0z/C7WlUM220U1dzTUHEJxhkhhwHsne/ngdf2g6rl1+SvedhFObkh+BXiiWrSitK\n",
       "TRMhEZHER2CBp8L5KwlWuxOZAI6jYghRyRA5oJ1M6/sP9R5VM2WgwNNb/uw0uZRBKNW8STuBb5O6\n",
       "3xy3M+7KGs93PIwOwI/2yruksBA0D8EvihZrawN+ZUWsUD8XjJllyXZ6nn/UXiDvqnoLUJ5DW248\n",
       "bill7W0/X67waEA0eTctSbn1EPx8S9JxArHZ86V32N4lK2ok0kRlRVdI0m7DKlK8j3Qhz+9x/lFj\n",
       "Tb8J/Aqo3X2+6O42jbXGMRiUj4Ce0MlZQjOCnQCfMKQRLuBTTy/Ue2d90bWiO4yp7BS6nNJlEYwO\n",
       "Aq6/xUjoXfBzprfN+CTmK0PvAL8GalNfanOyAX34JgtFzn/VXhj8Mex/r/7Xm0mQJSdX3GHdB/+z\n",
       "L1M2W/zC8YU8Bf7Z3k63J4FWDEVQh5Kb3xTzvnK2PD4J/kdfI27TYnJW+/F3uPbkb6c757Ibgf9L\n",
       "uQn+5/9vRzY9JPrvvMD5cdBw2LG/Hrg2HCdUeowAAAAASUVORK5CYII=\n",
       "\" style=\"display:inline;vertical-align:middle;\" /></a><br>"
      ],
      "text/plain": [
       "mult_not_eq_zero: forall_{n in Natural} [forall_{a_{1}, ..a_{_a}.., a_{n} in Complex - {0}} ((a_{1} * ..a_{_a}.. * a_{n}) != 0)]"
      ]
     },
     "execution_count": 19,
     "metadata": {},
     "output_type": "execute_result"
    }
   ],
   "source": [
    "mult_not_eq_zero = \\\n",
    "    Forall(n, Forall(a_1_to_n, \n",
    "                     NotEquals(Mult(a_1_to_n), zero), \n",
    "                     domain=ComplexSansZero), \n",
    "           domain=Natural)"
   ]
  },
  {
   "cell_type": "code",
   "execution_count": 20,
   "metadata": {},
   "outputs": [
    {
     "data": {
      "text/html": [
       "<strong id=\"elim_one_left\"><a class=\"ProveItLink\" href=\"proofs/elim_one_left/thm_proof.ipynb\">elim_one_left</a> (conjecture without proof):<br></strong> <a class=\"ProveItLink\" href=\"../__pv_it/theorems/b582f76dd475c6e948d82a208a6382995375eae10/theorem_expr.ipynb\"><img src=\"data:image/png;base64,iVBORw0KGgoAAAANSUhEUgAAAKEAAAAUBAMAAAAXeEBDAAAAMFBMVEX///8QEBCIiIhmZma6urrM\n",
       "zMxUVFQiIiJERETc3Nzu7u6qqqp2dnaYmJgyMjIAAAAcRTyBAAAAAXRSTlMAQObYZgAAAipJREFU\n",
       "OMtjYMAHOC9AMAbgnoBdw04gfgBi3MVh4gooxgSZ2DWwAW06DWK8wmHiSyjeuABdZh12DVxAB84A\n",
       "ea4BuzyvARhz5eRjmMijgF3LIQYGPqBing3YpdknQDDDfQwTuQSwa1kIdMOpVaum4/D0dCjGYiLD\n",
       "E+xa+BwYGH50dNTgMFEZilFMXKQ2RQfo5cPojlbKdAJ6mQcYUKkMDJ04TOyFYmQTuQ7wFrEDw/8e\n",
       "iHPuHQg8BjHXMFxXqAN6GSjlDI4gpKTWk54EZVZDMdRELnCULOD5xQIM2+1otp9iOL/AE6i7ABj0\n",
       "DEywNMy1x/gCV8QC1jdQvggUQ01c/wBsLAc4ZcSjmbiAoQNEsX4AWnqBHSZ6Y+cqBt45DAx7sJvI\n",
       "ngAW5VfAZiIDwyeYiZwPwkDpyFQtgAUYqgyuW4FC2H0NBfEBINIdEY7PwMKsX0EkC9DXDJ0pDAxM\n",
       "C/LYHfhAQrdu4o8Z7gX6QNXQmEECu5g+MGhBYoZhM9BYVoa3DAyLwTI7EaoOQzGDPsJE/w39DHOB\n",
       "tA2qgSy/OT6AyhTmA/Bw+cnAEN7R0aEwOxShzB2KzeQfwwugZUqLbEGcp2jJMUlLGVTe8IGChHcB\n",
       "OERZGdhAUsyLoMkEORdiKRIKsCfh5TDGfJ4HPAw8IPM5bQJA2R25pMAG8JQUUL9cOXSKgaEbnPjf\n",
       "tQXAhDsZcGUoPKUZMmAChiORJS6OjMsxgYGBvFqBF4dOYNIDAO/loJcUK4yWAAAAAElFTkSuQmCC\n",
       "\" style=\"display:inline;vertical-align:middle;\" /></a><br>"
      ],
      "text/plain": [
       "elim_one_left: forall_{x in Complex} ((1 * x) = x)"
      ]
     },
     "execution_count": 20,
     "metadata": {},
     "output_type": "execute_result"
    }
   ],
   "source": [
    "elim_one_left = Forall(x, Equals(Mult(one, x), x), domain=Complex)"
   ]
  },
  {
   "cell_type": "code",
   "execution_count": 21,
   "metadata": {},
   "outputs": [
    {
     "data": {
      "text/html": [
       "<strong id=\"elim_one_right\"><a class=\"ProveItLink\" href=\"proofs/elim_one_right/thm_proof.ipynb\">elim_one_right</a> (conjecture without proof):<br></strong> <a class=\"ProveItLink\" href=\"../__pv_it/theorems/66eebad8910ee90899b4da5224bc195c2dda8d1f0/theorem_expr.ipynb\"><img src=\"data:image/png;base64,iVBORw0KGgoAAAANSUhEUgAAAKEAAAAUBAMAAAAXeEBDAAAAMFBMVEX///8QEBCIiIhmZma6urrM\n",
       "zMxUVFQiIiJERETc3Nzu7u6qqqp2dnaYmJgyMjIAAAAcRTyBAAAAAXRSTlMAQObYZgAAAhJJREFU\n",
       "OMtjYMAHOC9AMAbYiUMDSPwBiHEXh4IVUIwB2CZg1wASPw1ivMJh4ksoRgHcUgwMXA+wawCJzwB5\n",
       "rgG7PK8BBKOAZcd+AclDONwAFOdbwMDAswG7NPsECEazB2TiQhwmAsV5T61aNR2H9HQoxmIinwN2\n",
       "LSDxHx0dNThMVIbiRWpTdBRQTeRBDwwupUynQxDxVAaGThwm9kIw1wHeIvYHqCbygvnn3oHAYxBz\n",
       "DcN1hTqIuDNaxHH3pCdBmdUQzLOA5xcLKDi5ECZyF6DZforh/AJPiDg7AxMsDXPtMb7AFbGA9Q2U\n",
       "LwLBXAwckMSw/gHcRNYPaCYuYOhggIrzXGCHid7YuYqBdw4Dwx5UExkY+CGhyJ6A20QGhk8wEzkf\n",
       "hIHSkalaAAsotF23AoVQfc3AEB+AHtcsBYhwfAYWZv3KABPvTGFgYFqQx+7ABxK6dRMjZrgX6AMV\n",
       "YIsZJLCL6QODFlR8M9BYVoa3DAyLwTJIhcBhCPbf0M8wFyHKBDKR+QCqgSy/OT6AyhSwOCSQfjIw\n",
       "hHd0dCjMDkUoc4fgZUqLbBEFEHPiP1tgSg5AS45JWsqg8gYszrsAHKKsDGxgDYtgqQRXLgSD5TiS\n",
       "MFx8Ps8DHgYekPmcNgHwYgBrSQEvEfCLL7ty6BQDQzc48b9rg/uokwFHhsJXmiEDJmA4ElficuAo\n",
       "cXGJE64VbuLQABQHALbbnuRyIzXQAAAAAElFTkSuQmCC\n",
       "\" style=\"display:inline;vertical-align:middle;\" /></a><br>"
      ],
      "text/plain": [
       "elim_one_right: forall_{x in Complex} ((x * 1) = x)"
      ]
     },
     "execution_count": 21,
     "metadata": {},
     "output_type": "execute_result"
    }
   ],
   "source": [
    "elim_one_right = Forall(x, Equals(Mult(x, one), x), domain=Complex)"
   ]
  },
  {
   "cell_type": "code",
   "execution_count": 22,
   "metadata": {},
   "outputs": [
    {
     "data": {
      "text/html": [
       "<strong id=\"elim_one_any\"><a class=\"ProveItLink\" href=\"proofs/elim_one_any/thm_proof.ipynb\">elim_one_any</a> (conjecture without proof):<br></strong> <a class=\"ProveItLink\" href=\"../__pv_it/theorems/24261f307ce81effe1f7e9144a3ba3fdf8c3f14e0/theorem_expr.ipynb\"><img src=\"data:image/png;base64,iVBORw0KGgoAAAANSUhEUgAAAtwAAAAZBAMAAADwPeR0AAAAMFBMVEX///8QEBCIiIhmZma6urrM\n",
       "zMxUVFQiIiJERETc3Nzu7u6qqqp2dnaYmJgyMjIAAAAcRTyBAAAAAXRSTlMAQObYZgAABipJREFU\n",
       "aN7tWm9oG2UYf9bk0uTukvpB0LYIWeufgophA6du02jB4BeXKkynYmOxHxQdQSF1OjTWD6aTwmEh\n",
       "q4ONG7Kt65gNjLL1gy5aV9E5CSjIpCuBqeg+aBlTNJ3D98/l3rv3LneXNLT70Bee3N3zPPc8z/3u\n",
       "fZ/nfd8LgEsLDO2CtdaU5h/a7arTugZT81p+leDer9GKNkmx8kKlFXA8oxGCu4wPF5zgjuBDuKlh\n",
       "iVlKyzf0broOnZeswokGHU/cVEdwAYUSgvssvr7kBLdcQIeI2ky4IwqlBntph8FSzIO3qs4nVtnv\n",
       "jQZxEbw7FsuUENzjeERlneAm0vGmjq7vNWqoHZ6rsIu2gvsNuo4c5UXhWKNRLEEdjr/QKE+6rVxw\n",
       "zN24759tKty7NGqshQ1wb/Mw6nQd8QbL0zU6xPwVqMPxQY3yEP5mcnKvc6mcn5w8mm4m2qE0pSbA\n",
       "/ZUHfabzMy/a22gMcroex5E4JTQz+SeX2+0Md1su936xmXC3xCjB2Ox6994Z2rKhoybcv3ZtdjXA\n",
       "dGZ5UbedfS9BRAa6C94dyzFKCO5BgBFnuANJCCrNhDtYouRvhz/dtR9WIou14BavqVNuoRl0Fsiz\n",
       "/0Eaydqjdva9BDF1SfwXPDsOlykhuHtJ0WyhNeMXO7j9MbuazrXHy954xGaB0sES3Acg0EJt081F\n",
       "8nML+LK0H2o6Gtz4QqpAWxSeZtpcYzrk0U7y8rd0+842jEEQndMqXHaLnDmW0pTyGM8W1NEE+hro\n",
       "ABFe/xLWp9gyJw13uyezmBvv1FxGmxmsi1N6SIXXQNiYpl3Bev8Ufl2+CrSi+3YwHQo3ufCVYar4\n",
       "5Camzfevqg59tH5e4caqfTcbLAiq8yCIV10j1x0Li5QQ3HLJvHA8NrsVTsmqT2VwnwP3whApOPCw\n",
       "zUN74PmiGe6bQfwLDR5qPGMzCvArX5eFqaTGyBh7d4bObLcVIMG0ucZ0SLODW7PvbMMYBNG5CP4l\n",
       "t8iZYwPcofJ2U2L8YJ8Kn0ZjsmERf0BIuc8xldo8YvN8EaSiKZmIV0Fa1OGu1VAHOV1zZtJWwkMk\n",
       "4RwZ0SEtYcjdKS2ZaPYT9QXxH+7wLpEzx1jRT5MJjLyIzm8nwwJV2158Mj39oRHuYB51RXHDzqR1\n",
       "pOnM/q6XLdIqD9v0P4sUFVOpFJcgUJ5xhbsAOyXlkZQ93HGUVd3gxjoimUgs8LLRqn03uPkgruDC\n",
       "4wa37thQKuEEukluw6/B5y/TPZRp+fhzBrglnNiOJPtVCHBlgTDJpsodardFinl4owLbDB9XTDkd\n",
       "0zD8mCqagsY5j+RClkSD0XBGhqJh8tfCzgOlYMwEt26AZVSigx8NYAuPyGzVvosNSxCvwnumccn0\n",
       "WeTMsa9ICcONq+c+UrOPyimRVLdpKM4adwQvI9oIT4HwOQcoZtIyPAwLFukw7U7EpnSMwV0dW4e7\n",
       "dgzETXCTnJcxJVFx4Lb8raFjTMn3wrWtbHSdMycC3QDLqEQHPZrdxCuh2Xe1wQfx8V0lcxrU9Q2R\n",
       "644jSUoY7rBKkKGjXHgjlxtGcO9vNcL9E6JOQAmnlQOUMLWic69Finm4UGCboelkjUW838sCLRh1\n",
       "ECY8zvXFdO1FfKKBILxFjhwfAUrV/W6xktRqW4r2bv8T3H43mtWPTvKAEqbUhU8rCHoebsy7gMYQ\n",
       "sflAlM1QTVtUnoKeOrRMuHHZdtqiSjQQhKfIsWO2RaXtaZaLoT0AfQBn8OUPAPMc3NAuXClhQJHe\n",
       "uFr9wUypF/PeDGctUsQLPZPWbI6dYY+LF6n6QlXyEvRnsoPwpAcDffYbsCP12OCD8BR5n2kDVuum\n",
       "ryhCJ0APQgEVUv/bcQjwcD96ZzeBG+n1KUI7/umkzEHM2/4tWKSYh5akxCaI3/02qI+KLPu8ENr0\n",
       "d9TDruvXtWVj7wy4G+gB282KiXpscEF4i7zH0LuMH88kmsF7csPcIt54pRI9dgfGLh3XzuykZHOX\n",
       "s7kaH89QAOFV+XiGHJ8HSia4ZwKPddhuUbEm3LNZ++pG76CHAZWe2Uqb+xmo0Wb7aCvv2Ah3KTCn\n",
       "uMBN9eo5++gAXBdwzynXg2MPX+KX9z+T+fthrVUnMkOZ/wEh0QxWn6f0YgAAAABJRU5ErkJggg==\n",
       "\" style=\"display:inline;vertical-align:middle;\" /></a><br>"
      ],
      "text/plain": [
       "elim_one_any: forall_{i, j in Natural} [forall_{a_{1}, ..a_{_a}.., a_{i}, b_{1}, ..b_{_a}.., b_{j} in Complex} ((a_{1} * ..a_{_a}.. * a_{i} * 1 * b_{1} * ..b_{_a}.. * b_{j}) = (a_{1} * ..a_{_a}.. * a_{i} * b_{1} * ..b_{_a}.. * b_{j}))]"
      ]
     },
     "execution_count": 22,
     "metadata": {},
     "output_type": "execute_result"
    }
   ],
   "source": [
    "elim_one_any = \\\n",
    "    Forall((i, j), \n",
    "           Forall((a_1_to_i, b_1_to_j), \n",
    "                  Equals(Mult(a_1_to_i, one, b_1_to_j), \n",
    "                         Mult(a_1_to_i, b_1_to_j)), \n",
    "                  domain=Complex),\n",
    "           domain=Natural)"
   ]
  },
  {
   "cell_type": "code",
   "execution_count": 23,
   "metadata": {},
   "outputs": [
    {
     "data": {
      "text/html": [
       "<strong id=\"mult_zero_left\"><a class=\"ProveItLink\" href=\"proofs/mult_zero_left/thm_proof.ipynb\">mult_zero_left</a> (conjecture without proof):<br></strong> <a class=\"ProveItLink\" href=\"../__pv_it/theorems/935e8faa476a8b87a32a4d265be86d39b63cb4e90/theorem_expr.ipynb\"><img src=\"data:image/png;base64,iVBORw0KGgoAAAANSUhEUgAAAJ8AAAAUBAMAAABhQvLIAAAAMFBMVEX///8QEBCIiIhmZma6urrM\n",
       "zMxUVFQiIiJERETc3Nzu7u6qqqp2dnaYmJgyMjIAAAAcRTyBAAAAAXRSTlMAQObYZgAAAjtJREFU\n",
       "OMuNlU1oE0EUx/+ku91ks5v2oPelhR4KQkC8eSiKlJ66Fz9uDcUiXqRXqUhPZYMKvVWokK2FVkKh\n",
       "C+KhUmhY8RKhRhC0ohgQBL9KqChqe3De7GRjZmeDAy/M/ubln31fE6DXyjUiS6wttT/hJm3epQg+\n",
       "iMw68VQ66F9M+IZvXY6f0cPnFMFPkX3BuiRgNmXXQmBe5/guRTav1rOL3OxBWLJAKPu+AHY5Lvgs\n",
       "pEAtaCxyy5aQ/yMdrci+C8COT9iuV6tLKREvRTZQgnYoRzgmgZ/AZMDxL8+7kSI4HNlmEdpBnL2h\n",
       "q2dYYFZRSup3JuhwPAOUUwTvRFapQY8FN/DKuckC40nd3af1gcpwBEw5HJ+VSpa/fWVabOciqxSh\n",
       "H9FbEKvjuT/BvGaljmVvOFXj2ECm3brm9smGecnXv4rnY5G1Q96kH/bh0ZHeUoZM2GoYbfp6qwr7\n",
       "HrDdLciKkqeiGCVOD1SCVJSdgONc8wL11akRV6NEn3vEUHfI2XnYnbbRf9CnNtvJ4Ufasvd+70e4\n",
       "fBnI+NeMsQIdvNlLFKWrsR9nWhhtFyXR2Bw/ZKo6vgGr/Av/zP0TYXNYcQXSDrMtui76avIQBOZx\n",
       "gQccAr+Bi57nOcvnO07jwjaGZuLkT48O01VScCVBMxxxBbZ9nmQd/XTQd1/0R2f0VGsdvXHFalqw\n",
       "SD532o0nX1wOqhWiN157GdaBW3wU9hficMpIGaPk9aXEGZZD1QWbXFl1IlLwf/wF7Kn9Gf4LYK2v\n",
       "laO+YRYAAAAASUVORK5CYII=\n",
       "\" style=\"display:inline;vertical-align:middle;\" /></a><br>"
      ],
      "text/plain": [
       "mult_zero_left: forall_{x in Complex} ((0 * x) = 0)"
      ]
     },
     "execution_count": 23,
     "metadata": {},
     "output_type": "execute_result"
    }
   ],
   "source": [
    "mult_zero_left = Forall(x, Equals(Mult(zero, x), zero), domain=Complex)"
   ]
  },
  {
   "cell_type": "code",
   "execution_count": 24,
   "metadata": {},
   "outputs": [
    {
     "data": {
      "text/html": [
       "<strong id=\"mult_zero_right\"><a class=\"ProveItLink\" href=\"proofs/mult_zero_right/thm_proof.ipynb\">mult_zero_right</a> (conjecture without proof):<br></strong> <a class=\"ProveItLink\" href=\"../__pv_it/theorems/b41343d32b0d2cc9df0f2f5bbc780cf812c7023f0/theorem_expr.ipynb\"><img src=\"data:image/png;base64,iVBORw0KGgoAAAANSUhEUgAAAJ8AAAAUBAMAAABhQvLIAAAAMFBMVEX///8QEBCIiIhmZma6urrM\n",
       "zMxUVFQiIiJERETc3Nzu7u6qqqp2dnaYmJgyMjIAAAAcRTyBAAAAAXRSTlMAQObYZgAAAglJREFU\n",
       "OMuNlU9oE0EUxj/SbLeZ7G4v7T1YyEloQbwpFKR47F6qvUWK4k1Kb2IPnsoGFXsQKljpNoUqQXCh\n",
       "eIgEEuItQojQQ1sqLhQKLVoKgqh4cF5nk/2TmbQPPpj5zcxj35s3b4F+lmkL9VhFvp+wT4OvCodv\n",
       "A8WssW9jcBkq/JkmxwqHR4GiZnnsIZgPFX5JkT2W+zMnhGL2BWjx74EKWy5geHKH+rJQzJaAmot1\n",
       "qLDZLJdXFBGvBIrZL2DagzWpxL8dZ1HhcCxQKf/ici5g7Cc/mYORyEQE3wOKCofPhFjdXNA7t5D5\n",
       "BxRyMM/mrROygzi+kbiy7NP7c8HwkZDhGn/TlEpGJ/mnFOrIzicqNsQ6Up3SZdUrbTbrat+D+YgQ\n",
       "w5Aog/d+NzbtVBoyYaOtd+hOpQxzFajGHQLDIoP6HZH9mtfjMIIz/i2q86t5O02JnvrAUTxkHowd\n",
       "nnSAby7S82EODxO4eBdIuQ/0SYsW9nZ7LiXrjvMN8Qo2fWlhn+Et7lXDD2CDFj5G3v0noWnvOV6H\n",
       "1e6xUWCgnnwEIRYJ+gPcdhwn92om3HRTaPNS6XrYclgjzxNg2QmHEWxSNNqphkFaGCiJ8lA+PWFv\n",
       "0B+vGb4Bg9xnrtndly9tDkGzQn+8ud1oAk9o+O5kqRtOEYpn1Nu+pDjFc3h+gyUbkidCgS/wC9iV\n",
       "7+f4P15yr3d25BTNAAAAAElFTkSuQmCC\n",
       "\" style=\"display:inline;vertical-align:middle;\" /></a><br>"
      ],
      "text/plain": [
       "mult_zero_right: forall_{x in Complex} ((x * 0) = 0)"
      ]
     },
     "execution_count": 24,
     "metadata": {},
     "output_type": "execute_result"
    }
   ],
   "source": [
    "mult_zero_right = Forall(x, Equals(Mult(x, zero), zero), domain=Complex)"
   ]
  },
  {
   "cell_type": "code",
   "execution_count": 25,
   "metadata": {},
   "outputs": [
    {
     "data": {
      "text/html": [
       "<strong id=\"mult_zero_any\"><a class=\"ProveItLink\" href=\"proofs/mult_zero_any/thm_proof.ipynb\">mult_zero_any</a> (conjecture without proof):<br></strong> <a class=\"ProveItLink\" href=\"../__pv_it/theorems/78deb6fb76cbded7282486c0ebe0070abdee7b640/theorem_expr.ipynb\"><img src=\"data:image/png;base64,iVBORw0KGgoAAAANSUhEUgAAAhQAAAAZBAMAAACbVaohAAAAMFBMVEX///8QEBCIiIhmZma6urrM\n",
       "zMxUVFQiIiJERETc3Nzu7u6qqqp2dnaYmJgyMjIAAAAcRTyBAAAAAXRSTlMAQObYZgAABYtJREFU\n",
       "WMPtWW1oW1UYfprkNsnNvWl/KNIVIa5aBiqE9cd+uEm1aPGHmk50EwYNYUMmdQTEVruhpcJInYOr\n",
       "4lanstsVrXa6hEmZlW0NjRuoIBH8sY2qAfWHm5TRjeGyOTwf9yP35vbeJI75+cJpzj3vc8695znv\n",
       "ec973gJe0jz0Av79Ehja4Q0K4r8he/6n4i+nIlzk5cbKrGNrROFUlOjPd+5UeGLqlw+00pDMLyTM\n",
       "gW6p4WU6plmxq6S7TwBbORVf0Z+z7lR4YuqXX7TSiERzYoUn/7GGHjpGLNk15zCl4BCnYpxa64g7\n",
       "FZ6YukWO89KQfAN8bT5dqaGHgZm3f0crpBKkGKMiqhIryblT4YmpW4IKLw3JTmBONU7Bcg0npYGZ\n",
       "sGlCSUTKEFsZFfKX09N7PdymJ6Zu2auVhuQS8KixMFLau4OJiXZbNS1JBIjJ/MRPkN8ymR1eJ4gX\n",
       "pm7p0Ep47eoV3qeNFSReIFTEjMmlOjzt1cRItk2ZjSOwBBQ4FVuAMcDHMT87U8ExHla4WFsbk91a\n",
       "uU+Jngc2uo/MQR0GM1eBfoOK7FnxMgR3R8YwiJJjR6Z+U1pkQme8Pw+BUPE9p6KH+VWBb1xOnvDs\n",
       "57gtWUFFj4PvrZKCV1vk1adSWnU7L+Kt8I/gsTV8tR36U5fAQXhSx4SJVfTnNSX1GktCV3q5AUQd\n",
       "Q15PP8G2nfbHIRBmj3AqgvBZQp2DhXX4VFL9agUVdoyjnHNpE492FcWNqvCr9nwTL/4ygmR9e/na\n",
       "VbMtXoMBMjD6BmFK3AvxKgLpZQbgbQzDF/m84wbp51RIRUs8Ke/ap+JYLC5VbhAbxlkuu7Sdmp2G\n",
       "/A5w1EpF0wiyCZ2KYLK6/yAMkIkhbnMupylJyED8HqfCaQDWxjCOVBC3GbliUBEuPUE2dSdbBOJd\n",
       "emhlZuZ1CxUMg8nOalcirt6mfaaw1KnatXpbgO7LB2bIQNYNks1jDjoVy+50BrrfnGcG+MF41e/U\n",
       "agLuxwjDHLiHfkja9BV0wNAI5DL/AHoHGdtMtC10bH+gxIPsGenjTZY7CMWIzwmk19PWt0wl+lVE\n",
       "ac03TFyvTcvaSLTLAGdOV7nNbA7byA3AgwoGypedQ6yLmCh6UcEw8Ueguc2qEEt3m/iEjLOPOg58\n",
       "KCVFdpLMIF+wUEEx/riQxibb2deFDZpvCsXkkl1L2+jvJP3z2azVnRaYflCyWAVzBtd0N6EPMiiF\n",
       "D5qzDebEm42HZ/AyKqlg/YxRTIyonKSLnbextB0TxKrXalS0UJ80yt9aFJ7PZEYJFe8GLVRQTFPO\n",
       "R2xq2DpUOzq1WlO3P2nXsjYiGzKZTOztx01FLy9i6o49t1uoYHt7UHcTfHIMFIqZs53vNK9jk3cV\n",
       "LVSwfuYoJoZZYjRho+KjlVu0GIJSIZO9IZYZpkVBkltFYL2FCorJKqEzqm2y5LzePR1ZyfqqTTk7\n",
       "FbRNXiA3QvrgP2Ced9bAu7eGoCz7nltMU0PIyVz4lKNGTFfkKyKlfPgVoA84QR+/BRaq8hVNSv/D\n",
       "1CoIcFzV/7QJF4sR4mrH1aB6itmMqeNtb5LXSwkWNCaM65D1Onakhokcl1yUkRqoEFodrmNaDBqr\n",
       "oEIcUIR2YBXZI+SYCrzYzRfSQkUgdXgdnSwB9ilCG/3Tjgfv7CjSYLQvJwzkGRWk1qYBeBs9k3Yx\n",
       "Y1zcadjnGMwA9o2XUt4zef8Ll8h8zaWY5wC+ESwXKB6yZ7Ei3GOsyoy6ZbGGedhmdGH21a3HqcNG\n",
       "xGrGrjTb4SO+4vqlbhoS6mxCzpfhMTsVs80PrfBM6K2/kKtIi2m1lKolxag2olgTZc45nxue0Nv8\n",
       "GnF3p52TJ4qdimLzSaWm3GbRoSYvVwu/VcLfQQa2Xoc075/7P4hcUPAPkMDQ4B+sz6q4xkDIvQAA\n",
       "AABJRU5ErkJggg==\n",
       "\" style=\"display:inline;vertical-align:middle;\" /></a><br>"
      ],
      "text/plain": [
       "mult_zero_any: forall_{i, j in Natural} [forall_{a_{1}, ..a_{_a}.., a_{i}, b_{1}, ..b_{_a}.., b_{j} in Complex} ((a_{1} * ..a_{_a}.. * a_{i} * 0 * b_{1} * ..b_{_a}.. * b_{j}) = 0)]"
      ]
     },
     "execution_count": 25,
     "metadata": {},
     "output_type": "execute_result"
    }
   ],
   "source": [
    "mult_zero_any = \\\n",
    "    Forall((i, j), \n",
    "           Forall((a_1_to_i, b_1_to_j), \n",
    "                  Equals(Mult(a_1_to_i, zero, b_1_to_j), zero), \n",
    "                  domain=Complex),\n",
    "           domain=Natural)"
   ]
  },
  {
   "cell_type": "code",
   "execution_count": 26,
   "metadata": {},
   "outputs": [
    {
     "data": {
      "text/html": [
       "<strong id=\"mult_neg_left\"><a class=\"ProveItLink\" href=\"proofs/mult_neg_left/thm_proof.ipynb\">mult_neg_left</a> (conjecture without proof):<br></strong> <a class=\"ProveItLink\" href=\"../__pv_it/theorems/fdebb34fd1c0643c8e8727dc4af3eec7ebda32ab0/theorem_expr.ipynb\"><img src=\"data:image/png;base64,iVBORw0KGgoAAAANSUhEUgAAAR0AAAAVBAMAAACJYCeRAAAAMFBMVEX///8QEBCIiIhmZma6urrM\n",
       "zMxUVFQiIiJERETc3Nzu7u6qqqp2dnaYmJgyMjIAAAAcRTyBAAAAAXRSTlMAQObYZgAAAyZJREFU\n",
       "SMfFVk1oE0EYfU032WS7SYvoxdPaQOlBaFDqqdaqaG82PfhzayiKeJEiKkgVioeSomIEocUqrhVU\n",
       "itiAiFR6CO2tXgJ6sKKyBz0oWoIo2ILizP5kvtluN6kXH7wlebvvm29nvm9ngDqQKAtSNBVQQ4Df\n",
       "dCco/iyhxYX34fk8IpRwqqbgM2kjQfFjBcGXXPgSns9nQglPago+U6oQFF+zBCf4lI6EppPMCMrQ\n",
       "jVqCz/QqeIR5wZTJohRD81ELgr4Xa6kl+EwXgke4J5hcnJ4eD1+ucUIfPtYUJFNiKHiEVI/gr3z+\n",
       "Yng+aUIPU203t7O1WRDCDiS2UoGYq4hkhNWZz7SBGyZ0pns8AYyF53ON0ItTSp5RWfV9qCqlvYhU\n",
       "XEFftpGBbALiZWF16k1pQQdbJEtwv13Wa9B09eSg+3OY0Itj6qsKq4zndnJ8JYrdiI+4AsWwVExF\n",
       "YQUrXEw2WsizwYYEVUR8nzltbmdZO2ZGv7r/NwtqzptnNXtwYIBfZnirYhOaDVegICagoYc/6Vi1\n",
       "PzynBgPfgWhFUC+rvhBvZqeRvA3Mrc1HoNmo5qPm2EVZxUA2OB8Bno9nxXl+6TOjP+V8EtYR3vmd\n",
       "bSya0gbVVPi6H3jG7qy/XrAHB3qr/9nEb/MEt35ygevlWR10I8I+EcqQIMaOs8I3T6ssd73Z7EeK\n",
       "P/d2KbSem8wO5qH1HM9hFFQgZqmePauDUW6U6hlPWVJRfON3b/WiHff5rxezIsoCoYu+4nV7a+wS\n",
       "85NTfksCMYs2yAirg13oYzk2lgTd5Vyxb3dhEEfz+bwxeVhE6SV08aB1ajfvgk+iCQbTK5JAzFXw\n",
       "9fCsXqA9rNdSWUEk+eRFK1F++yy2IGa/7pTTxzX2C/q9bbR8Qn37RTfjQ0Ibd3VLx4SJc0oFOk8y\n",
       "0ZW1d7i699PTmOnZ+H4as7Qf8n7qTtvr+UX0F3Gwnb3kFa48Xh6ttsEY4XrHi0u4HHzekExx3xSr\n",
       "5bghnzcoilqBd0CE1U995zEy1r50FoE7T+h5TGntdLP0KJ02Y6VDGzmvJv0Flfy38+oSIY0G5V0J\n",
       "/xd/Ae/ACvM7xq2kAAAAAElFTkSuQmCC\n",
       "\" style=\"display:inline;vertical-align:middle;\" /></a><br>"
      ],
      "text/plain": [
       "mult_neg_left: forall_{x, y in Complex} (((-x) * y) = (-(x * y)))"
      ]
     },
     "execution_count": 26,
     "metadata": {},
     "output_type": "execute_result"
    }
   ],
   "source": [
    "mult_neg_left = Forall((x, y), Equals(Mult(Neg(x), y), Neg(Mult(x, y))), domain=Complex)"
   ]
  },
  {
   "cell_type": "code",
   "execution_count": 27,
   "metadata": {},
   "outputs": [
    {
     "data": {
      "text/html": [
       "<strong id=\"mult_neg_right\"><a class=\"ProveItLink\" href=\"proofs/mult_neg_right/thm_proof.ipynb\">mult_neg_right</a> (conjecture without proof):<br></strong> <a class=\"ProveItLink\" href=\"../__pv_it/theorems/7ce264d84998947409d1e52c45449567e759656d0/theorem_expr.ipynb\"><img src=\"data:image/png;base64,iVBORw0KGgoAAAANSUhEUgAAAR0AAAAVBAMAAACJYCeRAAAAMFBMVEX///8QEBCIiIhmZma6urrM\n",
       "zMxUVFQiIiJERETc3Nzu7u6qqqp2dnaYmJgyMjIAAAAcRTyBAAAAAXRSTlMAQObYZgAAAy9JREFU\n",
       "SMfFlk1oE0EYht8mm7/tJi2iF0+xgdKD0KLUU61V0d5sevDn1lIU8VKCVEGqUDyUBBUjCC1WcY1Q\n",
       "pUgNiEilh1Bv9RLQgxWVPdiDoiWIghYUZ3ZmOzO72bXtxReebHZ232+/nflmZ4B1KFFlqLqjnjYW\n",
       "GfXMviamOQmLNrwPzuchR5E+5mo4w6lj9jfZihYFL2nD5+B8PnEUpdx9McupY/Y3sSwtwSTt0rHA\n",
       "dJIdDFWv3A1GmuE1B5iYFgQpk0QpB+YTKzJUXfC8ZTPDaw4wMd0TJBdnZiaCh2uCo5ZpznPfR47H\n",
       "HGRiw9gj+JnPXwzOJ8Mptd7cuTYeIWkcSruQ2A68AMNjhmKSw+iZNG6YMEi7wymgEJzPNYZeSZ6N\n",
       "WU5jXJrGlf0I1YAPYMBYsdXhmCGblDCG1ox2MkiW4KBd1h41Xj09xP+OMgzTWNVoNZh2XYiaS5S7\n",
       "ESdT4hkYikaVYiq7wkyFLeTJw3KCGEKuT50+v7uqnzAjX/j5VoZuP5Qc/9DfBjLUs3Y3LOvYgiYy\n",
       "AgNgKKJG1l1ZZlLCmA1pfAMiNYFRjblCvJmbQfI2MK/mA/uhROedfBxpqxjI+ucjxExymD4z8kPN\n",
       "J2EdozO/s5VE1FoRMzU67oeekivqeMF+qNz1jkin7yCHXo5TP4N1x0sN040Q+URoOQEKJ0nhm8Mx\n",
       "krvRZPYjRe97u+Sp50azndxXr57jgxiHVM/uyaDUsxpmnJqVesYTklQEX+nVW71ow3367/mciMLn\n",
       "cV/5urQcGtJ8Dw9qv8mhi6NI+QBQkxpmD/pIjuGKgA/nL/tyF4ZwPJ/Pp6eOiih8HKZbSntFp2jS\n",
       "p00fylD7MkdRr3xCTWqY6ZZ9ZK6lsgIkaedFahF6eQTbELVfuURnwrrXizBdDXOMDa4X3YQHErbu\n",
       "GpaBSRPntBoMmmSiK2uvcOtaT4fxuGdz62nU0r+r6ynvttcLi+gv43AbedErtOXRyvjaNCigzjc8\n",
       "Ll78Ei777zcKPibWe9V4Wt1vyCrrRToDQqR+NrQfO5DJ+mX9j/2Y1tLJs3RQdpzRypFN71eTRcYm\n",
       "9qtLEnJEaO8q+L/6C6weDFvtgz5oAAAAAElFTkSuQmCC\n",
       "\" style=\"display:inline;vertical-align:middle;\" /></a><br>"
      ],
      "text/plain": [
       "mult_neg_right: forall_{x, y in Complex} ((x * (-y)) = (-(x * y)))"
      ]
     },
     "execution_count": 27,
     "metadata": {},
     "output_type": "execute_result"
    }
   ],
   "source": [
    "mult_neg_right = Forall((x, y), Equals(Mult(x, Neg(y)), Neg(Mult(x, y))), domain=Complex)"
   ]
  },
  {
   "cell_type": "code",
   "execution_count": 28,
   "metadata": {},
   "outputs": [
    {
     "data": {
      "text/html": [
       "<strong id=\"mult_neg_left_double\"><a class=\"ProveItLink\" href=\"proofs/mult_neg_left_double/thm_proof.ipynb\">mult_neg_left_double</a> (conjecture without proof):<br></strong> <a class=\"ProveItLink\" href=\"../__pv_it/theorems/b866de68e89593608713581d25090d8ff0fdc8d40/theorem_expr.ipynb\"><img src=\"data:image/png;base64,iVBORw0KGgoAAAANSUhEUgAAAR0AAAAVBAMAAACJYCeRAAAAMFBMVEX///8QEBCIiIhmZma6urrM\n",
       "zMxUVFQiIiJERETc3Nzu7u6qqqp2dnaYmJgyMjIAAAAcRTyBAAAAAXRSTlMAQObYZgAAAyVJREFU\n",
       "SMfFVk1oE0EYfaabbLLdTYvoxdPaQOlBaFHqKdaqaG42PfhzaymK9FKKVC9VKB5KiooRhBaruFZQ\n",
       "KVIDIqXSQ2hv9ZKDBysqe2gPipYgCragODPfJJvsbpa0Fx+8ZOftvNlv5/tmZ4A6ECsQgxSgMQuv\n",
       "4BHhNQosSNq88Sk4nueSQQrDoJ8w6D+cB5Es8S1vfA2O54tkkMIw5yfM+Q/ngWYTp/gEjgWGY3QQ\n",
       "gxQO3fQRPKKPUWCJGLeYJxcYj5olBiniFZt9BI/oYxR4TDRWZmcng9M1KRmkCKz5CWt+w/kg3k38\n",
       "nclcC44nIVlbmWm9d4DlZdkRDiK2j4Rlv+GkgWYxYeKuBZ2lkfMiMBEcz23JmoqWNy6rrBY/l5X8\n",
       "MYSKJAhR3xDokOaSgapMaUY7S5RNPCHK2oPGW5cG5OWopAOXolv6lsKqYp43LL5Acl2IjpEw7x55\n",
       "1DGIztMNNjLsgcNEFSHX90lbPFTQzlvhb7K9h6jRO6a9iiYeDvRx81/+g91oMknoc8fDjdIgOlu7\n",
       "TPwAwkWiXlBdhvcLszAeAIvV8VQPWa00maV4cJX/KFvoS9eOp2Sgzj1W+JcTT8w+y1d+ZyvzK61Q\n",
       "LYVn+eRrdqfefEE8HEiV2ywF+6WQqqif/pJZGghdCLGPgjJMxMQFIGQNqWyt6U1WL+K8z4fVbdRz\n",
       "o9XORqis52g/xlFRzy5zyUAY593L9YxXLKgwvvM791NowxN+9WbBGcC7al1KT+4OHrL/pDM//cof\n",
       "KSTd8Sw7BsJh9LAKbsgTZSo3xa0kBnAuk8mY02ecAVJVqfBRnrbMHOFrYt1ZEgOJTSmsu+NJOYaS\n",
       "/Shba/E0EQafuHAxzG+NYC8i4gVn+CrY5n4xXNFosEmoEmvtF12MzyQFHum2jikLV5QidB5kLJkW\n",
       "O9wO99MhvOyudz+N2NpPZz+VU/ZuaQW9OZxqY691kysvNsbLS2AC7m+4V6k+WlzHjdrnDZdRLURN\n",
       "57xRiZyWjbK0hlj97OQ8VvGc44l0rag9RqWlk6/ILLHqfBnJn975edVw1wUXjHrPq6uSlX4oH/P4\n",
       "v/gHz1EHBtgZwoYAAAAASUVORK5CYII=\n",
       "\" style=\"display:inline;vertical-align:middle;\" /></a><br>"
      ],
      "text/plain": [
       "mult_neg_left_double: forall_{x, y in Complex} ((-((-x) * y)) = (x * y))"
      ]
     },
     "execution_count": 28,
     "metadata": {},
     "output_type": "execute_result"
    }
   ],
   "source": [
    "mult_neg_left_double = Forall((x, y), Equals(Neg(Mult(Neg(x), y)), Mult(x, y)), domain=Complex)"
   ]
  },
  {
   "cell_type": "code",
   "execution_count": 29,
   "metadata": {},
   "outputs": [
    {
     "data": {
      "text/html": [
       "<strong id=\"mult_neg_right_double\"><a class=\"ProveItLink\" href=\"proofs/mult_neg_right_double/thm_proof.ipynb\">mult_neg_right_double</a> (conjecture without proof):<br></strong> <a class=\"ProveItLink\" href=\"../__pv_it/theorems/50b8fe78627a1ebda8a5a7bb712e34407b45d95a0/theorem_expr.ipynb\"><img src=\"data:image/png;base64,iVBORw0KGgoAAAANSUhEUgAAAR0AAAAVBAMAAACJYCeRAAAAMFBMVEX///8QEBCIiIhmZma6urrM\n",
       "zMxUVFQiIiJERETc3Nzu7u6qqqp2dnaYmJgyMjIAAAAcRTyBAAAAAXRSTlMAQObYZgAAAvtJREFU\n",
       "SMfFlk9IFFEcx7+tszu74+wqUZdOmwviIVAKO5lZUd5yPfTnpkgRXUSiulQQHWSXijYIlCyaNrCQ\n",
       "sIWIMDwsdrPLHjpkVMwhD0XJEgUlFL1/u++9Ud6YBf3gw8z7vt/vzW/ef2ANlqhwdAUmobEgQYgv\n",
       "sxmBTwtvzfk8EOiKWTipEOZLLVbgvKCFj+Z8Pgh0xSxMK4T5UnN8zjjtwIvGdJIdHF2BUYCbloT5\n",
       "MpvjpDwSUzLmYxc4ugKjAKdZEubL7C4nOT81NWYerjGBrpgF4L1CmC+1VA/ney533pxPRqArxdYb\n",
       "29KqULPidiS2AM8hMQY7mTSue3DJMFKOA3lzPlcFmuKUk6dsX3WpWXkPIlXgHSRwl5h1rBbsWs1o\n",
       "JwPlc/axab3CGq+cGBKv5wTSSMn13GWLzgQPenWi1I04WSBPITEGTzT4yJEPjnBsRAL7kzO7o+Ic\n",
       "9aKfRHkTx+H/mBUl9lHy/FVzmWbViw42oomMxQAkmgWDvQ1pfAGiVY5bsQMBr2amkLwFzOr56E2C\n",
       "fZTYWQSqrWUMZM356MF9XvSbzCfhH6Yrv7OVtGG1wvYsOsr7n5Aa03iBfVQThJHu30oevQq1+TO4\n",
       "anA3ImRTsEY4yB8DIt6wTdaa2+T1I0V9Xi+EzOdGr51ErTaf44MYRWA+G4NHaUh9PuMxSSqKz7Tm\n",
       "Zi/acI++PZuRDaxctaTUV7qG25pLvX8GrZ/k0aVgDt6JPjKDG8ocMZQ/WFUXhnAkl8ulJw7JBuq9\n",
       "riqTLcVdFc2lvhyGMrSxRQVz8GTLbrLWUlkOkrTjotUorTqNzYixnyzSVbDO86KBno0jktDzoptw\n",
       "X8Dsjuu7GPdwxqrCpUkmurLshFvHeTqMRz1/cp7GfOerPE9Fl72cm0d/CQfayK9dpsrDpdH6Esgj\n",
       "uIev2NEV4QIume8bgWC7Ek/L+4ZqJacQJ8MaIfPnL+5jezNZ5R/yofcxq6WTrsoCR7tjxsoH/9F9\n",
       "NVmQrOm+uiBQ24D1poz/a78BV5IHUSDutVIAAAAASUVORK5CYII=\n",
       "\" style=\"display:inline;vertical-align:middle;\" /></a><br>"
      ],
      "text/plain": [
       "mult_neg_right_double: forall_{x, y in Complex} ((-(x * (-y))) = (x * y))"
      ]
     },
     "execution_count": 29,
     "metadata": {},
     "output_type": "execute_result"
    }
   ],
   "source": [
    "mult_neg_right_double = Forall((x, y), Equals(Neg(Mult(x, Neg(y))), Mult(x, y)), domain=Complex)"
   ]
  },
  {
   "cell_type": "markdown",
   "metadata": {},
   "source": [
    "### Theorems for the NumberRelation class"
   ]
  },
  {
   "cell_type": "code",
   "execution_count": 30,
   "metadata": {},
   "outputs": [
    {
     "data": {
      "text/html": [
       "<strong id=\"left_mult_eq\"><a class=\"ProveItLink\" href=\"proofs/left_mult_eq/thm_proof.ipynb\">left_mult_eq</a> (conjecture without proof):<br></strong> <a class=\"ProveItLink\" href=\"../__pv_it/theorems/923d914010dc712438ee1d3deaee466c18f880770/theorem_expr.ipynb\"><img src=\"data:image/png;base64,iVBORw0KGgoAAAANSUhEUgAAARkAAAAWBAMAAAAGH/VFAAAAMFBMVEX///8QEBCIiIhmZma6urrM\n",
       "zMxUVFQiIiJERETc3Nzu7u6qqqp2dnaYmJgyMjIAAAAcRTyBAAAAAXRSTlMAQObYZgAAAyVJREFU\n",
       "SMe9Vk1oE0EY/ZLsZtPNJu1BL4KwtBp6EBqUemprRbQnbXrw59YSFPVSithe9NBTSVBxBbHFKq4t\n",
       "VCligiJSKRjaW73swYMtKnuwB8WWIArag/jNT5L9mZhASh+8/fveZl5m3uwMwDagyWL0IWqIxT4s\n",
       "cNrk5lNjbp5y+nFZLPYhbDC+IzffGnPzldOP52KxD6rNOEU6b7whM7EkowCaLhILsMQYN/GdfENu\n",
       "FINR9J9bRGIBHjPGVubnJxsbqElOEb6IxALEexl/ZzLXG3PTxtnUdXBP+eFM4u4BHKZlkdgpVNt0\n",
       "uGOChgNIeAEgW0eTvdVLtziPGvFiuZFC7IqCsfxM07NJkQSBUJNaoAOHyGY8RsNcDdGbF9P04j9B\n",
       "v8ao7oUQVZmkEVPbkjAirwVil3A6ZEMG2xlhVCBoiRO4eMhSz5ny91pudjGGtkAhU0j9Sw4QoW8M\n",
       "CsQuoRnQ4QeAXGTULEXcyIeFeYg9AFis001gHHIpcj9Gnzbr1dy4hf2m/Kvipsk+g89mE+t02ncm\n",
       "UCclQDElMszHX6HA4YbVCajGNVK5Arx1NDtIhX2O3AyBSNgDQfwMSCOMkD2PnTYqb+Fl0BxWMK5a\n",
       "szkAcSJdWy29RN3Q+qUMwqIaV4pzeRguL0xRswPVPMWeyLuEMAGRoUqK4SVaCiVlYkyGDSK43wft\n",
       "MEuu3iy43PB6WcOwzBjRY2Naqdyfvw0P8dzldeMVwmHox9yGCox0gAP5IO1H+EOPXZCGs9gD+vRp\n",
       "l5tSvaRh6GNU0/vv7StV51pnusnkWPe68QpReQT7KZ5ihBh2aM6IrJEUyEWZKK7CbgiTi9AMmR4V\n",
       "N6Q+TDJgUU3tlWGkjpWhB/mEkyJgDJ6EKfORZmt4glGpCFqKfjVTdEHjbmidg2i2YdUM2+rPyqrJ\n",
       "Z0j6RTcM5OfeL63gCU60Y6BukMKzzYlUxQ2tc1ANQxaqfc8FOwqPULEiemVH4QRfyvOqEcExD2Ju\n",
       "KjXv94Zpau22sjV3W1JrJx4jBqN/3xg1woVTvh/xunFqqu5EY/XuRFc5ne+WTtLHQk03Is3OIbkT\n",
       "jfwDi2L/baMxXb8AAAAASUVORK5CYII=\n",
       "\" style=\"display:inline;vertical-align:middle;\" /></a><br>"
      ],
      "text/plain": [
       "left_mult_eq: forall_{a, x, y in Complex | x = y} ((a * x) = (a * y))"
      ]
     },
     "execution_count": 30,
     "metadata": {},
     "output_type": "execute_result"
    }
   ],
   "source": [
    "left_mult_eq = Forall((a, x, y), Equals(Mult(a, x), Mult(a, y)), condition=Equals(x, y), domain=Complex)"
   ]
  },
  {
   "cell_type": "code",
   "execution_count": 31,
   "metadata": {},
   "outputs": [
    {
     "data": {
      "text/html": [
       "<strong id=\"right_mult_eq\"><a class=\"ProveItLink\" href=\"proofs/right_mult_eq/thm_proof.ipynb\">right_mult_eq</a> (conjecture without proof):<br></strong> <a class=\"ProveItLink\" href=\"../__pv_it/theorems/750e45329685431032366f3090ce8e5acad969140/theorem_expr.ipynb\"><img src=\"data:image/png;base64,iVBORw0KGgoAAAANSUhEUgAAARkAAAAWBAMAAAAGH/VFAAAAMFBMVEX///8QEBCIiIhmZma6urrM\n",
       "zMxUVFQiIiJERETc3Nzu7u6qqqp2dnaYmJgyMjIAAAAcRTyBAAAAAXRSTlMAQObYZgAAA1NJREFU\n",
       "SMe9VktoE1EUvflMJp1M2i4UVBBiq8GF0KBUXPQnollp04W/VUNQ1E0pxbrRRXFRElQcUWyximML\n",
       "VYqYoIhECoZ2VzezELRFZRZ2oWgNYkGrC+/7zOQzL6YY6YEzb2buefPOvHffB+A/oM5gdCCgicUO\n",
       "ZDlN8vCuNjcPOJ04IxY74NMYX5KHT7W5+cjpxCOx2AHFZBwlnTdUk5lghFEANSQSCzDDWK9jnUxN\n",
       "bmSNUfTPjSKxAPcYg3NTUyO1DdQIpwgfRGIB6rsYfySTF2pz08w5Hr6xozAy12e3YLfPCsRKcwiu\n",
       "6fYca9u5CYcnwngSILWKJrsqh64wKrnggGxaL70b4SsW72n2LFFEuFj1NkKLXXuvVp/HITIZ99Fk\n",
       "roTA5VMJevOXRD/PqOrqipdkhUITwYA9WDwTiMc8JiQtnbIZPPjtQD+jDG5DnIHTuwzlmC59ruZm\n",
       "HaMCfiZKk7/r1GEAi16BWHeF4Jul86yAjMMr5RlVQxY38iY7BcHbANOrdAPQwLJGjuNlAyjLFdxA\n",
       "ty4tWzrXEKRjBTd15hF8ORFepNO+NYwhbxhk3UuGef9TFBS5YXGaF0RTMlLYdKzQsb8hgB+HaFHe\n",
       "xC1xB7jtmZ/OwQvyuX5GSJ3AyoPSCt669T4Z01Vt0HugnmgX5q1a1A2Nn04iDKopyeKA3oICy80v\n",
       "8JlZnsXlKT8M/rjtJgN9uJ1ZWQxP0JInIhFjEnwhiltR2A4T5O55tsQNj9sahlnG7sxVuGO3ehFe\n",
       "x3MAbeVuiHg3dNup6g8Fz6loIMdIR9uVcTO3P+m1DRJwFHsgNHa4xI0VtzQMUcbJpvH2wnyYbDqe\n",
       "wG5eLHcTpbFOe0VWEttubsWVL8YIQezdtOZfIJ0s5SUiOQvrwUduPON8InI3JN5HcsCgmuo7Q794\n",
       "Z+gof32fk8Kl9R6EUf2uaqpYwKA3D2qMLpQxuqFxNzTOQTT/tmv6TOV7hV2Tz5DE43boyUy+mpnD\n",
       "Ag5sx4S6RAIPl4ZjBTc0zkE1DCmotJ4LThQpkA1/qMKJohh8K88omh8TwI15U4iVrzdMU+20lRKd\n",
       "trxNreUv/Rqj89wY0Hy5Q46PlLsp1lQ8iQZXexKd5yyuaxXet7mqbkSatUNkLRr5A7sBAw8KNKzp\n",
       "AAAAAElFTkSuQmCC\n",
       "\" style=\"display:inline;vertical-align:middle;\" /></a><br>"
      ],
      "text/plain": [
       "right_mult_eq: forall_{a, x, y in Complex | x = y} ((x * a) = (y * a))"
      ]
     },
     "execution_count": 31,
     "metadata": {},
     "output_type": "execute_result"
    }
   ],
   "source": [
    "right_mult_eq = Forall((a, x, y), Equals(Mult(x, a), Mult(y, a)), condition=Equals(x, y), domain=Complex)"
   ]
  },
  {
   "cell_type": "markdown",
   "metadata": {},
   "source": [
    "Note: proving left_mult_neq and right_mult_neq for the complex domain is a bit more challenging than just real numbers, but should still be applicable.  Using a polar coordinate representations, such as $r \\textrm{exp}(i \\theta)$, makes it more clear.  Suppose $x = x_r \\textrm{exp}(x_{\\theta})$ and $y = y_r \\textrm{exp}(y_{\\theta})$; if $x \\neq y$, either $x_r \\neq y_r$ or $x_{\\theta} \\neq y_{\\theta}$ (or both), so either the length or angle (or both) will differ on either side. "
   ]
  },
  {
   "cell_type": "code",
   "execution_count": 32,
   "metadata": {},
   "outputs": [
    {
     "data": {
      "text/html": [
       "<strong id=\"left_mult_neq\"><a class=\"ProveItLink\" href=\"proofs/left_mult_neq/thm_proof.ipynb\">left_mult_neq</a> (conjecture without proof):<br></strong> <a class=\"ProveItLink\" href=\"../__pv_it/theorems/da0bd196dc51b6444764d379783432fb71d378090/theorem_expr.ipynb\"><img src=\"data:image/png;base64,iVBORw0KGgoAAAANSUhEUgAAATsAAAAWCAMAAACIR8upAAAAPFBMVEX///8kJCQoKCgUFBQNDQ0Q\n",
       "EBCIiIhmZma6urrMzMxUVFQiIiJERETc3Nzu7u6qqqp2dnaYmJgyMjIAAAChkoCbAAAAAXRSTlMA\n",
       "QObYZgAAA+ZJREFUWMPlWNuy5RAQzVziFhrx//86moi0SCJnzsOeGlV7dwkWltYX0/QPFeOpfC7W\n",
       "9L876AIP42W57t+9/3DqQFM5UlSXPLN2gV/gJels+bzCh3O3GiqH+F67DIgu8Au8JE3h3OgPp85z\n",
       "KseKYx21013gV3hJFnWrCvihZTFUDirK3FE72QV+hZekd4DFLJ/uKBYqh2+6eFC7l4AFL8mgsSzu\n",
       "w7ljnMrJcMfZ3DHSwJgygm23y51upJZd4EtAYByhTG4qeElmDdbmW3YobvV95E6k7Th2OkrtqRRz\n",
       "XPEaOghxqF/YtGSz7ndv4dZUfv7Gf34CvgR0sQkXFQhekoJf+qOBgEc7tahqj+8cDpfPeKmPj7u3\n",
       "qjV3lkiYcctcn88FYzcXYBJZG+xyr3ZXgDuisRNHdrQmeFniH3sV3IF1nMcRIHWcQa5uhDujBoxa\n",
       "6rMkU9Jo6SyI5Kl9KacGYT3uWdd1yEaTZLuMPmBFjJ9n/BoYwcvS+czfeLSgrQGcyZvEmh3iTg9c\n",
       "2dQHAmrGbG+5m/XeM2sPoSSwS+5OxukC8IAokFa5NVHuYpRdDgM4U6ussQyXrDh0wbDPAtslT5+k\n",
       "zY2myx0ZPgnXwHQmzH1kQLzF391ZCNjVhv4RyAMFYiH27secrZ5qgO8A05VlM8XbpDZboA2LjPOW\n",
       "fTGY1JovULKYsUHOxzTOg28P8cDdPlwlR/47/vwRhkx47COb29PzFRBwxxH/nLFayGadQeMrLnKI\n",
       "R8BJq/LX+oo4G9+45FGj5H5O8ezW/fANINFMo6rUVdob7sjwidkGpjPh1ifr3dxwR2KDOBFDb6qm\n",
       "kz8WkQQdan7PSQ9xziGeACOEQtgGr8hiHtDGsKPhCAdusDN6VLkkHYlzGSvlNXdkeE23C8x5wj3X\n",
       "TzcuNOFOc1dAMSaNYqegCBtiRLa/bKxkiZ2k/QkwN/Gyl4JXpIdt0QZVGOBoZ6s1jqgz1iq5HFgT\n",
       "IGhqdtJwFc3Lr59oZPwRhkxI+nT97FdzMuIFLb9J9u6Dp5XiQetdY3Qog/CYtsBkQrSuaKBSLU4h\n",
       "o+ImJd/pjJG4pPl25a4Op/FJgUmg+4SkD0b6p/juW94Cum9FT4DRCMZTFp23AKK+ilmGgZuMlwmU\n",
       "FzG+h1xLjTqTr22N4ddVH1PrQ2i5D6fxSYFJoPuEtA9zrrOfEl3oL79B2X7i+QCIHl+zzhvUZcLQ\n",
       "1sBUX8eyvestow9W13yAsdPAvv7y7ZPScvFE+QAoorWTL86POlCsqZjWPSdu/VUcxlWYxkcPJIXv\n",
       "39ybGEo8AA/j+TtN9aea8G7gqaXLnT9oWIXxl33+08L/o73+AZ4kNYA11LruAAAAAElFTkSuQmCC\n",
       "\" style=\"display:inline;vertical-align:middle;\" /></a><br>"
      ],
      "text/plain": [
       "left_mult_neq: forall_{a, x, y in Complex | x != y, a != 0} ((a * x) != (a * y))"
      ]
     },
     "execution_count": 32,
     "metadata": {},
     "output_type": "execute_result"
    }
   ],
   "source": [
    "left_mult_neq = Forall((a, x, y), NotEquals(Mult(a, x), Mult(a, y)),\n",
    "                       conditions=[NotEquals(x, y), NotEquals(a, zero)], domain=Complex)"
   ]
  },
  {
   "cell_type": "code",
   "execution_count": 33,
   "metadata": {},
   "outputs": [
    {
     "data": {
      "text/html": [
       "<strong id=\"right_mult_neq\"><a class=\"ProveItLink\" href=\"proofs/right_mult_neq/thm_proof.ipynb\">right_mult_neq</a> (conjecture without proof):<br></strong> <a class=\"ProveItLink\" href=\"../__pv_it/theorems/0ff55b6b1711c41d4c9e921ff404d318ac1b02150/theorem_expr.ipynb\"><img src=\"data:image/png;base64,iVBORw0KGgoAAAANSUhEUgAAATsAAAAWCAMAAACIR8upAAAAPFBMVEX///8kJCQoKCgUFBQNDQ0Q\n",
       "EBCIiIhmZma6urrMzMxUVFQiIiJERETc3Nzu7u6qqqp2dnaYmJgyMjIAAAChkoCbAAAAAXRSTlMA\n",
       "QObYZgAAA99JREFUWMPlWNmypCAMdRbZhADy//86BEQNpm28cx96aqjqTqFwkENWpukfai5S+b55\n",
       "xz8PwAIP41W57s9j/HDqwFI50gxLnltZ4Ad4RQbfHq/w4dytjsohvleWAcUCP8Ar0jXOnf1w6qKk\n",
       "cqwFwaidZYEf4RXZ1O1QwA9ti6NyUFFmRu00C/wIr8gYAJtbPj1QLFQOW7p6o3YPARtekcliW8KH\n",
       "cycklSCEcUpwNjk5GaSYq0GFi0VazQGDkAjlZhjDK7JqsHXfskN1q+8jNlG2E8TlKG0kEvKAuIhp\n",
       "YYKBmvNm1rR5s31AWEv7+Rv/ZQ8c8jRcOg3iFanky3g0kPDYYBZznP1dwJH6PV4ZEzMv3vTuzhOJ\n",
       "GVpIMCl3ORiYkQ25fYpf7tVuA3R+ksiBtZeT5vGqxD/xKLkDH6TMM0DbvIJewwh3zgw4tTJmKa6k\n",
       "09JZEQlkn7mf9tOXZeqyHajuFEn3n1EB85QZZyRxAeTxqgyx8jeeLVjvAPGiK6z5Ie7sgMmWMZBQ\n",
       "M2Z/y9103mchfOdktjsIw93FOTVAhRTppC+APF6VOctuhwFSmFUfuYzUogV0JXDMApuRl0fa15eO\n",
       "5Y5Mn1ToYJgF6xidEG+JtzY7kX0So0iI4htlaiH+7sdcvZ65ABeTFfMo3iat2xJtWHT+orYvAZNZ\n",
       "qwEVX5pf6PlcxkWI/SGeuNunmxLIf+dfPMOQBc9jNLGRF7HCQ3XrAq57RTLy0rXojOubGmIHNu1v\n",
       "CG+TXm5cyqxRej+nfKrrfvgOkGhhUVX2QAH+hjsyfRK+g2EW3MZUvZs77khukA3MTzbxVbwVGILN\n",
       "VBVdkoitrjVEA5YGYYfxmmyOA32MODOfTtzgYIyoeik6khGd1/o1d2T6UW43mOuCe61fbDF16Q61\n",
       "FTBC5IyMvb/Ad9oZUQFW8olM0d6AcZpMbhSvyQjbRztUYYDDoxT12fxCnjtj7yBXgujyA8LdNt1k\n",
       "9/LrJzqZeIYhC5IxbJz9ak1GoqCXN8Ve83lDeNBH15wD6qQili0wuZS9Kzqo0stL6KzSRcn1Kd/W\n",
       "tN4+uDum0/ykwRTQfUEyBjP9S373LXcB7F1RBcwOLZ+lenQXQNTXCC8wcdPZmMBElfN7qL3y0tZj\n",
       "sXuogxy77Lm0tidNb9NpftJgCui+IB0jQmAIatmF/fIdlOcLT9viuhWP7qBeFgx9D9wRkkT1d9xn\n",
       "8GDHN59g/DSwr7+8+6Q8v7iiLIAqezs9jHd3fjSAYs/kgu994cZv6zTvgOli9EBR+PzOvcuh1Bvg\n",
       "Ybx4p/rx0lMxDFy1sNzFk4YdMPHlmP+0yf9or38Ao581gCUghesAAAAASUVORK5CYII=\n",
       "\" style=\"display:inline;vertical-align:middle;\" /></a><br>"
      ],
      "text/plain": [
       "right_mult_neq: forall_{a, x, y in Complex | x != y, a != 0} ((x * a) != (y * a))"
      ]
     },
     "execution_count": 33,
     "metadata": {},
     "output_type": "execute_result"
    }
   ],
   "source": [
    "right_mult_neq = Forall((a, x, y), NotEquals(Mult(x, a), Mult(y, a)), \n",
    "                        conditions=[NotEquals(x, y), NotEquals(a, zero)], domain=Complex)"
   ]
  },
  {
   "cell_type": "code",
   "execution_count": 34,
   "metadata": {},
   "outputs": [
    {
     "data": {
      "text/html": [
       "<strong id=\"left_mult_pos_less\"><a class=\"ProveItLink\" href=\"proofs/left_mult_pos_less/thm_proof.ipynb\">left_mult_pos_less</a> (conjecture without proof):<br></strong> <a class=\"ProveItLink\" href=\"../__pv_it/theorems/bd9a507e2c3e9b6f5e243824725c69eca0b87a460/theorem_expr.ipynb\"><img src=\"data:image/png;base64,iVBORw0KGgoAAAANSUhEUgAAATwAAAAWBAMAAACvaz3RAAAAMFBMVEX///8QEBCIiIhmZma6urrM\n",
       "zMxUVFQiIiJERETc3Nzu7u6qqqp2dnaYmJgyMjIAAAAcRTyBAAAAAXRSTlMAQObYZgAABBFJREFU\n",
       "SMfNVm1oHEUYfu5u9/Z2s5cTQTAWYduDEKJCaFCKtPVMoUWx9dofWn/dcSga0BBqKyqJlEjDRaks\n",
       "FGopiNtWUkzT5lBU7I9yJPjDM9QDhaJUWaT94wceomBSFd+Z2dvMftjcjxN94dmZ3X129pl5P2aA\n",
       "f8Xe8hCxj/+BHLYeW8BlN990WZ1xWCBqaTuWHLVRgc9Y//suy+u1BWKEu7HkqF0QOEGNfrjL8r7w\n",
       "EGOLkgOv++SomRZHr0NNrcvyXvIQY6f8XvZ52yfHLPMtHNnG3NybXVanjwvE+r3gdZITjk+Os2sC\n",
       "v1erE12WlxwSwLGljY6/HJtGR8iz5pC4nT8gkQPE05uh3wEsgeMpYGb9PyodiFqse71MU0Dpw8/+\n",
       "63lcsV4hl4rcODMJiRwg1h9EsgV8C44dcdnUDt4D09stMUjwxcMBXxZ5cxUfeg+0msCpJrbwhWOX\n",
       "Bj53HqIhuS/TP/hfy0S2gnptOzKUqx+BQ0OyGavt3NI2WHXzdIy8/eVAFD/DY/wgcp6DEgWBBxxw\n",
       "Fy64/NdV1ldb7Dq7Jk8iGn/xudyKHK1JCRxmU4tVl339pEPysuej8o6HokGfJn3Gb0jUgvJuZw/Z\n",
       "AonZ/LImD8cmZXlt4gs8jlZRKvrydPcxFgv9vAgt3ttPb5R+aM4Odk/y5iV5Zn4fheqZI9QdKeNl\n",
       "NtfNY/SB+qoDdQVaM+Bc4w/0tNYmoXIFyngoNSLElIuN1OzyMPMk/eWQusqi2xnTaDJmztkrdjur\n",
       "nhqW5A2m3YOYv8YDeFWlyoSzxRLzqPIdaADNCqSGcQNp199kL1K8D/qpsVZYIsRMGdPwUwPv03xS\n",
       "QyqblYqfGOHkLgwYvABY9z1dkOQVe5tQ7+T+fGc8yfaaYTwuQqGPVi/hyWPFg2EKV8rtbFZuZFo6\n",
       "yU7VQ2U5TESqrPxJzVYPLA4TtaSIjxV+3YqK+mK1OgXr03tkecjRiJf5k1Q9zcRsQD9/ccmi6Ml5\n",
       "JZc5kGF20xOVdhU2KoN5dvLoLYY2tTCRmHmm4rqHLC3ygp352uGBq4okvA1l4dwPGrK8EoowtrA/\n",
       "aIUENcYKjs7R3Z6GnLk329TOxu6AQaPogzEuINLHLu3GCedt0zWpwSGlhU+EPFNKDb11GeQDnRUS\n",
       "rfgo9NfQp/5KHtt/P73N+3WvwyOBRJZtDAsF/0jguaPy3jbsrc1+udigBjsHXGQo/XomfjSGXV+e\n",
       "8dwjdzteIVEqb0DdgJ135Zs4PspjfXnIj25boKMDVZg4SaHoH6hk88pWzbBZ7g1Up6QxAkR1Bu/i\n",
       "KMkXd0c6P45m1j+OjuRZ8MwgvNn22F6Tru+JDBt+8Kzixh/Nb36Y/6rDw3zWFpAftRvlan1debuX\n",
       "6dLE/8RS/81v/wby0ykHAN15RAAAAABJRU5ErkJggg==\n",
       "\" style=\"display:inline;vertical-align:middle;\" /></a><br>"
      ],
      "text/plain": [
       "left_mult_pos_less: forall_{a, x, y in Real | x < y, a > 0} ((a * x) < (a * y))"
      ]
     },
     "execution_count": 34,
     "metadata": {},
     "output_type": "execute_result"
    }
   ],
   "source": [
    "left_mult_pos_less = Forall((a, x, y), Less(Mult(a, x), Mult(a, y)), conditions=[Less(x, y), Greater(a, zero)], \n",
    "                        domain=Real)"
   ]
  },
  {
   "cell_type": "code",
   "execution_count": 35,
   "metadata": {},
   "outputs": [
    {
     "data": {
      "text/html": [
       "<strong id=\"left_mult_nonneg_less\"><a class=\"ProveItLink\" href=\"proofs/left_mult_nonneg_less/thm_proof.ipynb\">left_mult_nonneg_less</a> (conjecture without proof):<br></strong> <a class=\"ProveItLink\" href=\"../__pv_it/theorems/739d5645f0f2020d223272a23adc43c1049869b20/theorem_expr.ipynb\"><img src=\"data:image/png;base64,iVBORw0KGgoAAAANSUhEUgAAATwAAAAWBAMAAACvaz3RAAAAMFBMVEX///8QEBCIiIhmZma6urrM\n",
       "zMxUVFQiIiJERETc3Nzu7u6qqqp2dnaYmJgyMjIAAAAcRTyBAAAAAXRSTlMAQObYZgAABCRJREFU\n",
       "SMfFVm1oHEUYfu5u9/Z2by8ngmAtwrUHIcQPQoOSH209U2hRrF79ofXXHaFBAxpCaPwilRI0XCqV\n",
       "hUAtBXHbSosxNoeiYn8tCYKmpS4oFKXKgq0/quIhCiZV8Z2Z3b3Zu20T4aQvPDezs8/tPDPvxwzw\n",
       "v9hbPtrs0+uQWy1rCXjs4bsOqzMOCrRb2oolt9uIwDnWv9pheV2WQIxwr9lPToTkdjsjcJQa/WCH\n",
       "5X3lI8YWw978eJPcbmaBo8umpt5heS/5iLHjQWf2gESO2eZbOHLLc3NvdlidPiYQ6/eSaI/8JJHj\n",
       "7LLAn7XaZIflJfsEMLu0yQ63Y/PIIHnW7ONPey/L5AjxxBbodwBL4BgGZtaeUVmHqEXH72VcAWUD\n",
       "fm2GGi4WXgFyPDcyr4XjbUTnQSQbwPfg2BHJppbqMz69vSA+En3xcET6CG8u4WN/QKsLHHcxwDeO\n",
       "/SzjS/sh+iT3ZXI83CyZyAb1+nZkKFc/AYeGpBur7b2lbSg45okYeXurkcfZYfa7H3l/zkRJ4AEb\n",
       "PDsXPD51jfXVBqfkJgN9EtH4h6/lVuRpTyrgMF0tVl3u9WM2ycu93y7vSGs0zJKvjD+QqEfl3c4G\n",
       "2QaJ1fwmyUP2B6tJDojPc2esolIO5eneE9Q52X2FV6X7uumN0g3N3sGeSd68JM8sPk4bdZIFzmAV\n",
       "L7O1bhkts8B6FeoKNDfiXOMvZBvNNahcgRIkqvJjOSBHiSkPm6jZ5WNmH80yoa6ykLBHNVqMmbf3\n",
       "iNOu4KT6JXm9aW8/5nnSOasqVSacLle4l+av0ge0QiQ1jGtIe+Ehe5bivTdIDS63VvLJUWKmimmE\n",
       "qYEPaT2pPpWtSsUvjHBsF3oMXgAK9z9dkuSVu1yod/Jq9c5Ykp01/XiSv7nXpd1L+PJY8WCYwsVq\n",
       "kM3KtUxDJ9kpp1kehwOyTESqqvxNzVYfLA4T9aSIjxX+uxVD6ou12hQKX9wjy0OeAuYCH0k5aSZm\n",
       "I7qZi3vqLHryfsllDmQ4tfmpoVJQ9oZ6i+zm0VVuLVktRGIWmYorPnLknQUr863NA1cVSXgbqsK5\n",
       "Hy3L8ioowxhgM2ilBDXGCg7Pwfi8FMncGx1qp2NPwKhR9MEYExDpY1V246j9tumZ1GBCaeAzIc+U\n",
       "UkNvXAD5QH+G9lArPwb9EDaov7vGAF95Max767sSyGTZRrFQCq8E/g4PfbANe+qnvl5cpgY7ezxk\n",
       "KP2ykz8b/V4oz3jukbt55Zy26B9vQN2InXcVXVX4K3m+L4xuS+C6F6ozLzCbCMmyHaBQDC9Usvll\n",
       "q25YLPd6alPNV9GyrM7gXRwm+f/5OppZ+zo6WGTLnUHrYZu1/CbtPNr22daBZxUv/mp+48v8N+u8\n",
       "zOcsAXkoaJRLzprydp+nH1GGszWyQ7iZlro50/4LQ8gudPXOFA4AAAAASUVORK5CYII=\n",
       "\" style=\"display:inline;vertical-align:middle;\" /></a><br>"
      ],
      "text/plain": [
       "left_mult_nonneg_less: forall_{a, x, y in Real | x < y, a >= 0} ((a * x) <= (a * y))"
      ]
     },
     "execution_count": 35,
     "metadata": {},
     "output_type": "execute_result"
    }
   ],
   "source": [
    "left_mult_nonneg_less = Forall((a, x, y), LessEq(Mult(a, x), Mult(a, y)), \n",
    "                               conditions=[Less(x, y), GreaterEq(a, zero)], domain=Real)"
   ]
  },
  {
   "cell_type": "code",
   "execution_count": 36,
   "metadata": {},
   "outputs": [
    {
     "data": {
      "text/html": [
       "<strong id=\"right_mult_pos_less\"><a class=\"ProveItLink\" href=\"proofs/right_mult_pos_less/thm_proof.ipynb\">right_mult_pos_less</a> (conjecture without proof):<br></strong> <a class=\"ProveItLink\" href=\"../__pv_it/theorems/30093d0cdf2162be11e0d196f88762750e5331550/theorem_expr.ipynb\"><img src=\"data:image/png;base64,iVBORw0KGgoAAAANSUhEUgAAATwAAAAWBAMAAACvaz3RAAAAMFBMVEX///8QEBCIiIhmZma6urrM\n",
       "zMxUVFQiIiJERETc3Nzu7u6qqqp2dnaYmJgyMjIAAAAcRTyBAAAAAXRSTlMAQObYZgAABDxJREFU\n",
       "SMfNVl2IG1UU/pLMJJlJshFBcFsKaaPLsiosuyhFtjXdQotia+qD1qeEoNQFXZbaFpVdWSpdskpl\n",
       "oLCWgjhtZYvraoKipT60wy4+GEsNKJRKlUH0xR8MYsHdqnjO3NmbyWRs8xDRA1/uzL0nc797z3fO\n",
       "vcC/Ym+4aLNz/+Dst4QhYPPL111mp08LtFvUCHRutzGBz/j5hy7T6zEEAojbgc7t9p7AcWq06S7T\n",
       "+8JFgC15Avi9dG63ZMZBj0lNtcv0XnARYCflU+o5QzoHbPMtDlK1hYXXu8xOmxAIjHvOfQhPmtI5\n",
       "yL4T+L1cnuwyvfCggL5pbLQZTG1kaB1FalC8Le73OJ8agrZOOh5b3kjMl+HgKWD25jMqHZBastyn\n",
       "eF1gEZczL8nxbUZPg0IqcuP0FDzO1jaEG3KqXvxCzTcC24OyaU28+2e2ZsRHWgceaoll3mmu4iO3\n",
       "I1YVqOFz80HWkSOmDYhQCiacWEZ/lP8mR626FXFOTyfcJ+vYTM1ZgRjC9UBu7yxvQcZKngqgt7fY\n",
       "ouKnHY0fQFqoCaGcgImy817h9UdWEaOlqs4uzTfpkaOOW5GmMf0v7njABAe+IJCsxwLZpV49YRK9\n",
       "1Lvt9OZ8atBmiJ9+DaFqKz3gV7FBvJrQNCr5NXo4NuWhB2UVBQ7BIe64nT8l6Wn2Y6yFPqcILd3b\n",
       "R25KH2Lmdn4neoseesnsoyTV00focbSIF3nnhsZ5zpdNqCuI1VuDC/Vacw0VCxdYWRO+1GDHiI2N\n",
       "MhZ/IMFL2Oli9knqO6iusrrN8RgtJpk294jTLmNFhj30BqL2ASxyysNaVaky4Uy+wBFVvoUqgudN\n",
       "jY9J7wOSXhXjdIqmbF9hcZyLmJH0riNqn5OpgQ9oPZFBlVel4mf2OLET/bpTADL37ct56OV76lA3\n",
       "OPF8ayLMYh7G40IKvbR7IZceFw+Ccj3e0KSu45nUoSTNZPnKMjtHisqfcpsP43KRnEYgwKIMVcNC\n",
       "7SvO7whK6vPl8mFkPr3HSw9p+uIlpydiRZnMevQ5A+czJJi0W3I5gAS9NJBtXjb00p1zd1BZzvsO\n",
       "NXbWS9kV2T2/6YkSfYgHGSna5IoR/4r3Wm2oIglvQ1EE98Oal14BeeibeYZYLkSNvoKjC/S2u+bN\n",
       "3BsdamcCT0BWn+9QmxAQ6WMUduG4+WbSTlKDg0oDnwh6SU9qaI1LoG3XuJDE8o9AewW96m8Uvr33\n",
       "02hW1r0OrwRN53FUcsFXAjccpfe3YE91/sulGjXY0W8jThmVmPxJH7YlPf3Zh+823UKilF6Duh47\n",
       "7srWMTfmaP3ioNSZIdDRhYocp0hwwRcqr7llq6obnE79Zc9/WsuyOou3cZToi7cjnV9H44HX0dFs\n",
       "3t87C/9hmzDcJmrtbvusv+MZxQ6+mt/4Mn+lw8t8yhDwdq01ylXrpvR2XaSfOv4nFvlvpv0b/RUl\n",
       "OMKQLXgAAAAASUVORK5CYII=\n",
       "\" style=\"display:inline;vertical-align:middle;\" /></a><br>"
      ],
      "text/plain": [
       "right_mult_pos_less: forall_{a, x, y in Real | x < y, a > 0} ((x * a) < (y * a))"
      ]
     },
     "execution_count": 36,
     "metadata": {},
     "output_type": "execute_result"
    }
   ],
   "source": [
    "right_mult_pos_less = Forall((a, x, y), Less(Mult(x, a), Mult(y, a)), \n",
    "                             conditions=[Less(x, y), Greater(a, zero)], domain=Real)"
   ]
  },
  {
   "cell_type": "code",
   "execution_count": 37,
   "metadata": {},
   "outputs": [
    {
     "data": {
      "text/html": [
       "<strong id=\"right_mult_nonneg_less\"><a class=\"ProveItLink\" href=\"proofs/right_mult_nonneg_less/thm_proof.ipynb\">right_mult_nonneg_less</a> (conjecture without proof):<br></strong> <a class=\"ProveItLink\" href=\"../__pv_it/theorems/6b0d9e57d1529ef1508cbd580c85cbef7a8723110/theorem_expr.ipynb\"><img src=\"data:image/png;base64,iVBORw0KGgoAAAANSUhEUgAAATwAAAAWBAMAAACvaz3RAAAAMFBMVEX///8QEBCIiIhmZma6urrM\n",
       "zMxUVFQiIiJERETc3Nzu7u6qqqp2dnaYmJgyMjIAAAAcRTyBAAAAAXRSTlMAQObYZgAABEtJREFU\n",
       "SMfFVm1oHEUYfu5jb2/3bnMiCLalcO1pCPGDkKDkR1qvKbQoVq/+0PrrjsOgAQ0hNPWDVELRcKlU\n",
       "FgKxFMRtKy3Gs3coWuoflwTBpqUuKBSlyoLVH1XxEAsmVfGdmb25vbttG+GkLzz7zs68u/PMvB8z\n",
       "wP8ib3tokzPXMW6VhCngspfvOsxOnxZol5gZaNwuowLnWPtKh+l1mQIBxN1GOzwpjdvllMBhUtp0\n",
       "h+l95SFAFmWrPNEwbpdkmqPLIlXtML2XPQTI0Xpjbr/POGCbb+MwlhcW3uowO21cINDvWaHnf/YZ\n",
       "B8llgT9LpakO0wv3CeibR4cbztSG+teTp/r4y57LfuNj/dDWS8O5pU3k0iVwjACzN58xugZSi7bX\n",
       "ijsCZVxMvyrHt5ldNcDguRF/XXYzQ3sbwjU51Tr8Rup7ge1N2dRSfSZmtqbFT5oHHmmiPsrVJXzi\n",
       "dahVgWV8aT3M4ogH00ZEKAUT3JfhCQsNY626FXGWnrzzqINBUqcFVISdQG7vL21B2k4eC6C3p9D0\n",
       "OjfCnnuR8uYMZQUslPh7ha0/sgqVlqqIXTKm6vzIUMftSNGY/g/reMgCy+m8QNJRA9kZbxyxiJ7x\n",
       "QTu9+dZomCNf6VcRqjbTA34XG8RWE5pGJSfpIfGD2TCOriJPY9jHOu5kv5L0NPdJahzv/pFXpQe6\n",
       "ySzaDdXazt6JXtlHL5l5gjbqOAuc4QJeYS7rH2P/Lb8GZQWq0+xcKFcbS6jY+IxFQj1Roz/lpHHE\n",
       "xSZZUf5Cgi1hp4fZZ6hvUlllIWGNqbSYZMraLU67tB0Z8NHrjbl7UeZJZ68qVJlwMpfnXipfUYTz\n",
       "/KnxKcV7r6RXxRidooYMdKWUlcYFzEh61xBzz8jUwEe0nkifwlal4FdmcWQnenReANIPPpv10ct1\n",
       "OVA28irx7niYBfMAnuIj9zu0eyGPHisehOi1eE2TcR1PG/uSNJPdqDQjdeNIIfq37D6AiwUyGoIA\n",
       "C8pQNSyifYU/h1BUXiqVDiB99j4/PaQoYC7wnogdY2Q2oJutuKfKAibllVzmQIJe7M00Lht68e75\n",
       "u6gs51pL1jgby6zIjhObny7Sj1iwMRjknYoZ/5Y5SakpIgnvQEE49+NlP708ctAH2QxqNkRKX8Gh\n",
       "BehfZJsy90aH2snAE5BFX8uhNi4g0sfM78Jh652kmySFyWgNnwt6SV9qaLULoG3XnqM9VHOPQzuI\n",
       "dcofjj7Idy0j697argQ+4zFUssFXAm+Hix9uwe7qia8Xl0lhR4+LOGVUYuoXfcCV9PQXHr2XbZA2\n",
       "Y9IXb0LZgB33ZBxF+Ct8vk/GmSlw3QvVqReZTNaN91PABV+o/OKVrapusnTqKfm+aS7LyizewyGi\n",
       "/5+vo/HA6+hwpjUi+UE723aB5ipmP9b229aO56Nu8NX8xpf5b9Z4mTdMAX9XXUUv2Telt+s8PUTV\n",
       "SJRIDuJWSuTWTPsvTgoqpfmmrDMAAAAASUVORK5CYII=\n",
       "\" style=\"display:inline;vertical-align:middle;\" /></a><br>"
      ],
      "text/plain": [
       "right_mult_nonneg_less: forall_{a, x, y in Real | x < y, a >= 0} ((x * a) <= (y * a))"
      ]
     },
     "execution_count": 37,
     "metadata": {},
     "output_type": "execute_result"
    }
   ],
   "source": [
    "right_mult_nonneg_less = Forall((a, x, y), LessEq(Mult(x, a), Mult(y, a)), \n",
    "                                conditions=[Less(x, y), GreaterEq(a, zero)], domain=Real)"
   ]
  },
  {
   "cell_type": "code",
   "execution_count": 38,
   "metadata": {},
   "outputs": [
    {
     "data": {
      "text/html": [
       "<strong id=\"left_mult_pos_lesseq\"><a class=\"ProveItLink\" href=\"proofs/left_mult_pos_lesseq/thm_proof.ipynb\">left_mult_pos_lesseq</a> (conjecture without proof):<br></strong> <a class=\"ProveItLink\" href=\"../__pv_it/theorems/d16fb3cbab791d823c15a2aedfeb159cce73e8af0/theorem_expr.ipynb\"><img src=\"data:image/png;base64,iVBORw0KGgoAAAANSUhEUgAAATwAAAAWBAMAAACvaz3RAAAAMFBMVEX///8QEBCIiIhmZma6urrM\n",
       "zMxUVFQiIiJERETc3Nzu7u6qqqp2dnaYmJgyMjIAAAAcRTyBAAAAAXRSTlMAQObYZgAABB1JREFU\n",
       "SMfFVm1oHEUYfm5v9253by8ngmDtn2sPQohaQoPSH209U2gRrF794cevO4JBAhpCaPxMpQQtl0pl\n",
       "IaClIG6rtBhjcygq9teRINRYdEGhKLUs2vqjKh6iYFIV35nZ3Zu93bQRTvrCczM7+9zMM+/H7AD/\n",
       "i73hI2afrEHutJwt4LGH77qszjwoELeMnUiO26jA56x/pcvyemyBBOFeu69MhuS4nRY4So1xsMvy\n",
       "vvKRYIthb36iTY6bVeTocahpdFnecz4S7HjQmT0gkRPcfBNHfnlu7vUuqzPGBRLjXhbtaz9J5CS7\n",
       "JPBnvT7VZXnKgABmlzY5oTs2jw5RZK0B/vToJZkcIZ7YCuM2YAkcI8DM9VdU1yFqsen3dFdA3YBf\n",
       "26mG88UXgTyvDf3lcDxGbN4LpQVcBMeuSDV1nD4Th3YWxSTR8UgtqaO8uYCP/IFsQ+C4i23ccexn\n",
       "GV8699FfeSyVidBZMpENGo2d0Gn+j8GRheImant3aQeKTetEXF7u+yhzdoT97kfBXzNVFrjHAa/O\n",
       "BY8vXWd9rcUp+alAn0Q0/+F7uRkF8kkVHJabTVSXf+WYQ/Ly78Xk5X/p5M5SrMw/kGpE5d3KBpmD\n",
       "anz4N0kecj/YbXJAfJoHYxXVSijP8B6mzlu9l/mpdFcvvVF7kXV2sWeSNy/Js0oPjUDh6oZqeJ7t\n",
       "detYhSXWS9BWkHUjwTX/Qq7V3oPGFahBoao/VgJylJj2sImaPT5mHqdVJrVVlhLOWJY2YxWcfeJr\n",
       "V2ymByV5/Rlvv/qCSOBVjU4mnKpUeZTmr9AE2WKkNMyryHjhR/YM5Xt/UBpcbr3sk6NEvYZDCEsD\n",
       "H9B+0gMa25UG7plje9Bn8gOgePcTZUlepYfmOstGjLfHFVYfg3iEv9nikvdSvjx2eDBM43wtqGb1\n",
       "qt4ySHa62T4eRwKyTES6pv5NzXYfLA9TDUXkxwr/3Y5h7dl6fRrFz+6U5aFACWOeZSmWbmaYmI3o\n",
       "ZSHua7DsKfhHLgsgw8nNjw2Xg2NvuL/Ebh49lc4jq4NIzBJTcdlHnqKzYOvfOjxxNVGEt6Amgvvh\n",
       "siyvCjb7FpZb5RR1zRUcmfMd2q7ca33UTiV+AaNG2QdzXECUj13di6POm5ZnUYNJtYVPhTxLKg2j\n",
       "9QV4DC66yFYehHEYG7TfXXMb33kpPPfWdyWQybKNYaEcXgl8Dw+/vwP7Gie/XlymBrv7POjkotzU\n",
       "z+agF8ozn7r/DuGgM/SPV6FtxO7bS64m4qWcGwiz2xZY80J1+hlmkyFZtgOUiuGFSjb/2GqYNqu9\n",
       "vvp0+5Xeuc47OELy//N1VL/+dXSoxLY7g86Pbc72m0zzgdi0nQNPql7y1fzal/lv1nmZz9sC8lDQ\n",
       "qBeaa8vL1ckOY+856rvyyI209I1Z9l9TlDGapPDH3AAAAABJRU5ErkJggg==\n",
       "\" style=\"display:inline;vertical-align:middle;\" /></a><br>"
      ],
      "text/plain": [
       "left_mult_pos_lesseq: forall_{a, x, y in Real | x <= y, a >= 0} ((a * x) <= (a * y))"
      ]
     },
     "execution_count": 38,
     "metadata": {},
     "output_type": "execute_result"
    }
   ],
   "source": [
    "left_mult_pos_lesseq = Forall((a, x, y), LessEq(Mult(a, x), Mult(a, y)), \n",
    "                              conditions=[LessEq(x, y), GreaterEq(a, zero)], domain=Real)"
   ]
  },
  {
   "cell_type": "code",
   "execution_count": 39,
   "metadata": {},
   "outputs": [
    {
     "data": {
      "text/html": [
       "<strong id=\"right_mult_pos_lesseq\"><a class=\"ProveItLink\" href=\"proofs/right_mult_pos_lesseq/thm_proof.ipynb\">right_mult_pos_lesseq</a> (conjecture without proof):<br></strong> <a class=\"ProveItLink\" href=\"../__pv_it/theorems/7d646bb74bbec45f5919128081aa697f578002e70/theorem_expr.ipynb\"><img src=\"data:image/png;base64,iVBORw0KGgoAAAANSUhEUgAAATwAAAAWBAMAAACvaz3RAAAAMFBMVEX///8QEBCIiIhmZma6urrM\n",
       "zMxUVFQiIiJERETc3Nzu7u6qqqp2dnaYmJgyMjIAAAAcRTyBAAAAAXRSTlMAQObYZgAABERJREFU\n",
       "SMfFVm1oHEUYfu5u9+52bzcngmBbhGtPQ4haQoLSH2m9ptAiWL36w49fdxwGCWgIoalfqYSi5VKp\n",
       "LARqKYjbKi3Gs3coKu0flwShxqILCkWpZdHqj6p4iAWTqvjOzN7c3t2mRjjpC8/O7Dvvzj4z78cM\n",
       "8L/I6z465Mwqxu2SsgQ89vJtl9npMwKdErdCjTtlTOAz1r/SZXo9lkAIca/Zj05J4045LXCUGm2m\n",
       "y/S+9BEiC7JXmWwad4qR4eixqal1md5zPkLkeKMztz9gHLLNN3GYS/Pzr3WZnTYhEOr3nGiP/BQw\n",
       "DpPLAn+Uy9NdphcdENA3jY00nakND64nTw3wl8cuB41PDEJbLw3nFjeSSxfBMQrM/vsflTWQWnD8\n",
       "XtIVqOBC5kU5vt3qqQMmz43ky1LNDJ3tiNblr9bhV2ouCexoyaa26jN5cFtGTNKqb8klZYw3F/Gh\n",
       "r0jUBJbwhX0/iyMeTLchRp+luC+jkzaaxlptG5JsSq487mILNR8JJBB1Q7m9s7gVGcc40Ukv9V2r\n",
       "5dwoe+5F2v9nJCdgo8zfq2z9sRUkaKmq2CVzusGPDHXcjDSN6X8zxX02WE4XBAw3EcrOfOWYTfTM\n",
       "dzvomb+0286Rr/SriNRa6QG/iQ0qMuUMqnlJD6nvraaxsoICjWEfU9zKppL0NO8R6rzZ+wOvSvf0\n",
       "kpnSi4S9g70TvUqAnpF9eBRRzm6kiOeZywbH2byVl6AuI+G2Ohfq1eYSqg4+ZpHQSFTlx7w0jnnY\n",
       "KCvKn0ixJezyMfsE6abUFRYS9niCFmOk7T3itMs4saEAvf64t1d5gXedFZUqE07lC9xLlSuqcF4w\n",
       "Nc5SvPdLejWM0ylqykBXyzlpXMRBSe8a4t4ZmRp4n9YTG1DZqlTwnTm2C306LwCZe5/MBejle1zo\n",
       "55hGe2siyoJ5CI/ykc0u7V7Ep8eKB0G5lqxrMq6TGXOfQX9ympVmtGEcKyp/SfUBXCiS0TAEWFBG\n",
       "atEiH1vmz2GU1GfL5QPIfHp3kB7SFDD6Oea3mBNnZDagl624r8YCJu2XXOZAgl7qzzYvG3rpjiO3\n",
       "U1nOt5esCTaWXZaKk5seL9FELNgYTPJO1Up+w5yk1lWRhLegKJz7wVKQXgFs9s0stnIR6urLODzv\n",
       "b2gzc693qJ0KPQFZ9LUdahMCIn2swm4ctd8wPIMaTCl1fCLoGYHU0Oqfg/vmkotE/iFoh7BO/d3V\n",
       "t/Bdy8q6t7YrQcB4HNVc+JXA3+HSe1uxp3byq4UlarCzz0OStig1/bM+5El6+tMP3CU26Cx98SrU\n",
       "Ddh5Z9ZVhb+i5wdknFkCq16oTj/DZKphvJ8CLvxCFRS/bNV0i6VTXznwTbL987dxmOj/5+toMvQ6\n",
       "OpJtj0h+0M52XKB5E3ce7Ji2XfGU4oVfza9/mf96jZd50xIIqhqNctFZnV6qTHIIu89T3w1qbqTE\n",
       "bsxv/wFd1i3LqwjQfAAAAABJRU5ErkJggg==\n",
       "\" style=\"display:inline;vertical-align:middle;\" /></a><br>"
      ],
      "text/plain": [
       "right_mult_pos_lesseq: forall_{a, x, y in Real | x <= y, a >= 0} ((x * a) <= (y * a))"
      ]
     },
     "execution_count": 39,
     "metadata": {},
     "output_type": "execute_result"
    }
   ],
   "source": [
    "right_mult_pos_lesseq = Forall((a, x, y), LessEq(Mult(x, a), Mult(y, a)), conditions=[LessEq(x, y), GreaterEq(a, zero)], \n",
    "                               domain=Real)"
   ]
  },
  {
   "cell_type": "code",
   "execution_count": 40,
   "metadata": {},
   "outputs": [
    {
     "data": {
      "text/html": [
       "<strong id=\"left_mult_neg_less\"><a class=\"ProveItLink\" href=\"proofs/left_mult_neg_less/thm_proof.ipynb\">left_mult_neg_less</a> (conjecture without proof):<br></strong> <a class=\"ProveItLink\" href=\"../__pv_it/theorems/8bb5883e22c4a4d914b13a694718c9b27781d60e0/theorem_expr.ipynb\"><img src=\"data:image/png;base64,iVBORw0KGgoAAAANSUhEUgAAATwAAAAWBAMAAACvaz3RAAAAMFBMVEX///8QEBCIiIhmZma6urrM\n",
       "zMxUVFQiIiJERETc3Nzu7u6qqqp2dnaYmJgyMjIAAAAcRTyBAAAAAXRSTlMAQObYZgAAA/1JREFU\n",
       "SMfNVm2IVFUYfmbm3rlz797ZiSDIJBgd2JatYHEpRNSmFZREbexHH79mWBJdqWWRNUosZMFl1jAu\n",
       "BCVCdNVQ3LZ2KCryhwy7RDSJXVBYFJX7Q/+E0hAF7VrRez7mzv3S3R8T9cIz59z3PnPPc8553/cc\n",
       "4F+xjyQi9u09yGHrsgRc9nC9w+qMQwJRS1ux5KgNC/zI+j93WF63JRAj3I0lR+1zgWPU6Ic6LO+S\n",
       "RIzNisGdIDlqZp6j26am1mF5b0nE2AmxiN/nA+SYZX6AI9uYmvqww+r0UYHYfS+K9rGGjxxnNwX+\n",
       "qFYPdlhesl8A78+tsr3lWD08SDtr9svn+XVtcoB4cg30R4A5cOwCJpceUVmGqNm67GUcAWUFfvFe\n",
       "T2M+/w6Q9XLj/LBHDhDrzyLZBG6AY1NcNrWqz76JjSJIMsEXWyPUrbiGr2VfqwmccLCWLxz7aeAn\n",
       "+zn6ZHsvd+xtkVtEtoJ6bSMylKvfgEND0onV9uncBuTr5skYeS9XwmTyjCEnNyhRFHjGxj72POPy\n",
       "oausrzbb8o60yJJo/M3n8iBytCZlcJiOFqsu++5xm+RlP4vK+yASDeQxfkeiFpT3MHOyBRKz+TUo\n",
       "T26un/gGj6NFlEuePN19kTqnem7xqvRUD71ReqDZm9gzyZv2yTMLL1ConjpM3cEKDrC5rhkpCY+6\n",
       "AM0JbK7xJ7raawWVK1BGQ6kRIaZcrKJmi8TkqzTKfnWRRbc9otFkzJy9U5x2+XpqwCevL+2OYfom\n",
       "D+BFlSoTzpTKtvDQB7R8IDWMu0i73iF7juK9r50aXmGJEDMVTMBLDXxJ80n1q2xWKu4wwvEt6DV4\n",
       "Acg/vbvok1fqdqA+yqvVJ6NJdtYM4CXpodVLSHmseDCMY77Symblbqapk+xUPVSWw0SkKspf1KyX\n",
       "YHGYqCVFfCzw3/UYUt+sVseR/+FJvzzk6Hy8yD2pepqNsBI90kPRk5Mll20gw+nVrwwVW2VvqK/A\n",
       "bh7dpdChFiYSs8BU3JLIUr7NWJmrNg9clTHG8BAqYnO/avjllVGCsZaNoBUT1BgLODolPe3Mvd+h\n",
       "dib2BAwaRR+MUQGRPlZ5O47ZH5uuSQ32K018J+SZvtTQmxdBe6DvoTXUSs9DP4IV6m+O9BS8urf0\n",
       "lSB8f/DbCGaK3pVArvDQFxuws3b68myDGmzudZGh9Os6eNsYcD15xuvbnuCVc8Kif7wHdSU2P15w\n",
       "pCd5od+LbktgWReqMPFtCkXvQuU3WbZqhsVyr7c67vtGgKhO4iyOkny/Z1nX0czS19HBAguVSYQP\n",
       "2y5LNun6jshnw47XFDf+an7/y/yVZV7ms5aA39VqlGv1JeVtv0A/Dv4nlvpvhv0HiHUpJwj4mM0A\n",
       "AAAASUVORK5CYII=\n",
       "\" style=\"display:inline;vertical-align:middle;\" /></a><br>"
      ],
      "text/plain": [
       "left_mult_neg_less: forall_{a, x, y in Real | x < y, a < 0} ((a * x) > (a * y))"
      ]
     },
     "execution_count": 40,
     "metadata": {},
     "output_type": "execute_result"
    }
   ],
   "source": [
    "left_mult_neg_less = Forall((a, x, y), Greater(Mult(a, x), Mult(a, y)), \n",
    "                            conditions=[Less(x, y), Less(a, zero)], domain=Real)"
   ]
  },
  {
   "cell_type": "code",
   "execution_count": 41,
   "metadata": {},
   "outputs": [
    {
     "data": {
      "text/html": [
       "<strong id=\"left_mult_nonpos_less\"><a class=\"ProveItLink\" href=\"proofs/left_mult_nonpos_less/thm_proof.ipynb\">left_mult_nonpos_less</a> (conjecture without proof):<br></strong> <a class=\"ProveItLink\" href=\"../__pv_it/theorems/525f52bdaafb062f8ae1f4232459cfc886cdd2510/theorem_expr.ipynb\"><img src=\"data:image/png;base64,iVBORw0KGgoAAAANSUhEUgAAATwAAAAWBAMAAACvaz3RAAAAMFBMVEX///8QEBCIiIhmZma6urrM\n",
       "zMxUVFQiIiJERETc3Nzu7u6qqqp2dnaYmJgyMjIAAAAcRTyBAAAAAXRSTlMAQObYZgAABCZJREFU\n",
       "SMfFVm9oHEUU/93d7u3t3l6uCIK1CNsexBD/EBrUIm09U2hRbL36QeunO4KiAQ2hJGq1SggaLpXK\n",
       "QqGWgrhtpdUYm8WiYj/IkSDWs9QDhaDUskj7RS0eomBSFd/M7O7t3m6bCCd98Ls3O/u7nd+8eW9m\n",
       "gP/F3nIRsU+vQm63rCngsIcfOqxOGxeIWtqMJUdtSOAr1v6pw/K6TIEY4TwcOHFvmBy1kwKHyKnj\n",
       "HZb3jYsYmxPus6EQOWq6wdFlkbM7LG+Pixg74vodTwbJMWFexZGrT0+/2WF16ohA7LoX3cauV1vk\n",
       "OLso8Ge1urfD8pJ9Ajgwv9byw7FuaIBWVu/zOg7+7JNDxKProd4MzIODgjy1/IjSCkTN1dxWpiEg\n",
       "rcav/usZLBivADnH7zmwxyOHiLX7kWwCF8CxxaumuN1n9+RmQ4wYfvFghDmO8/jYfVBsgSMNbOCB\n",
       "Yz91fG09QMTWWi70eWSPyCKo2puRoVr9BBwKko1Ybe/Pb4JR04/GyNtVaVf3IzCKvLtAiaLAfRZ2\n",
       "s+dZhw9dZW256f3n1rpPdonaP3wuNyBPMSmDQ28osepyrx+2SF7ug6i8g+3ZkLtMn/0DCTss7ybW\n",
       "yQIkZvNbUJ72hdEie8TneB4toVzy5anOo9Q41n2J70p3ddMbqRuKtYU9k7yZgDy98Ail6rHXqDlQ\n",
       "wYtslPXDJSQvs3EXoTRCi6v9hWyzNQeZK5DE4qr3NFqZECamHKwlt83F1BM0ypi8xLLbGlZoMnre\n",
       "2ilOO6OW6g/I6007o5i5yBN4SV7Ftv9S2ZJe4qMvQTFCpaFdQdrxD9nTlO+9Xmmow/5WGyFmKpiE\n",
       "Xxo4RfNJ9clsVjJYHHB4G3o0nrfG3U8VA/JKXQ3It/DvvzOSZGdNPx6DdqYoopdw5bHNg2ECCxWv\n",
       "mqUrmaZKslO8491i63hoIyJVkf4mt9EFy8OEnRT5sch/N2JQfqFanYDx5R1BecjT+XiO96RqaSZm\n",
       "Dbop9mdsnnt5d1C2gAzH1z0+6OnQBnsL7ObRVWrfstqIxCwwFZdc5KjeZs3M9xZPXJkxRnEjKmJx\n",
       "P6oH5ZVRgraBjaAUE+S0Reyfpqc77WDlXutQOxF7AoaNsg/aiIAoH7O8HYest3VHJ4cxqYnPhTw9\n",
       "UBpq8xxoDdSnKYZK6WGo+7Ba/p3n+IUGCv6+t4IrQdv9IWjDmC36VwI3woMfbsJO+/i3c3Vy2Nrj\n",
       "IEMBye79Ret3fHnasw/dznfOSZP+8QbkNdh6W0GU4Gkkz/rnVcYUuOqF6uTzzMZ8ctBeplT0L1RB\n",
       "c6vJ1kxWez3Vidar8LYsT+E97Cf5//k6mln+OjpQYMkzhfbDNmu6Ll3bEflse8czkhN/Nb/2Zf67\n",
       "FV7mc6ZAsMtz0vnasvK2n6Ufsa7ZKtk+XE9LXZ9h/wUB7C8vfbWhsgAAAABJRU5ErkJggg==\n",
       "\" style=\"display:inline;vertical-align:middle;\" /></a><br>"
      ],
      "text/plain": [
       "left_mult_nonpos_less: forall_{a, x, y in Real | x < y, a <= 0} ((a * x) >= (a * y))"
      ]
     },
     "execution_count": 41,
     "metadata": {},
     "output_type": "execute_result"
    }
   ],
   "source": [
    "left_mult_nonpos_less = Forall((a, x, y), GreaterEq(Mult(a, x), Mult(a, y)), \n",
    "                               conditions=[Less(x, y), LessEq(a, zero)], domain=Real)"
   ]
  },
  {
   "cell_type": "code",
   "execution_count": 42,
   "metadata": {},
   "outputs": [
    {
     "data": {
      "text/html": [
       "<strong id=\"right_mult_neg_less\"><a class=\"ProveItLink\" href=\"proofs/right_mult_neg_less/thm_proof.ipynb\">right_mult_neg_less</a> (conjecture without proof):<br></strong> <a class=\"ProveItLink\" href=\"../__pv_it/theorems/6fa44a9fb0828a310e9ab196118fcbaae259424a0/theorem_expr.ipynb\"><img src=\"data:image/png;base64,iVBORw0KGgoAAAANSUhEUgAAATwAAAAWBAMAAACvaz3RAAAAMFBMVEX///8QEBCIiIhmZma6urrM\n",
       "zMxUVFQiIiJERETc3Nzu7u6qqqp2dnaYmJgyMjIAAAAcRTyBAAAAAXRSTlMAQObYZgAABChJREFU\n",
       "SMfNVl1oHFUU/vZndnZmZ7MiCLalsO1qDLGFkKAUSes2hRaLrVsf/HnaZVE0RUMoadHSSigYNpXK\n",
       "gFBLQRxbaTFGd1G01AcdEkRcSx1QCJVW5qG+iOIiFkyq4rlzb2ZnZ65NHlb0wLf3zplv53733nPO\n",
       "vcC/Ym8IROziP5DDljE5XPZwrcvq9EmOqKVMKTlqoxxfsf6PXZbXY3JIhLtSctTe5zhFjTbZZXnf\n",
       "CEhsjg/udJKjZuQ99FjUNLos70UBib3FF/GLfAdZssy3ecg2Z2Ze77I6bZxDuu9F3t7TDJBldp3j\n",
       "91rtSJflxQc49I2jI3Nt0cODa2mnBsTjwgNt8plBaGt94mvzG2hL5+HhaWB65RGTqxA1Z4te2uGY\n",
       "xUL+Jf/9drOnBWT93Ph01Cfb2xFv+UOtwS/UfM+xQ5ZNy9XnwNQ2HiTpzhe7I9TduIqPRV9tcDTx\n",
       "tfUQiyMvmNYjQSmYae/l3v2CrDW2Ic3S0/Ki08EWai5wqIg7Um3vzm9F3jbOSOQ9UQmTyTOBnMUf\n",
       "YkUOCzXvuc7mn1iCSlNVWm15xwVZx+3I0Tv9L+Z40MIBasochqNK1WVfOW2RvOx7UXknI9FAHv0G\n",
       "Yo1OecCvfDXZbGKTqJeC8sTmMmJyCWV6h0PMcSf7lC9Pcx+jztneH7yqdF8v0ZK9UK0d7JnkzQbk\n",
       "GYVHKVTPvkzdkQoOsy0bHCtxj7II1encXCg32jOo2/iMRdZ4KDUYMeFig19R/kCGTWGXwPRT5Duo\n",
       "LLHotsZUmoyRs/bx0y5vJ4YC8vpT7gRmWcrDXlKoMuF8qWxxj8I3L5gan1C89/vyGhijU3Q5NfzC\n",
       "4pErmPLl3UTKveinBj6k+SQGFDYrBT8zxuld6NO9ApC//5liQF6px4Gy3qsSb4/HWTAP4XHhodWL\n",
       "CXmseBCSN9MtzY/rdD57yKCR7FBZZuREJfmnv8zHsFAh0jA4WFDGGnEe7Yve7zCqygu12jHkv9wc\n",
       "lIccnY+XPU/CTrER1qFXeChgcqLksg0k6NX+QvuyoVfvPnkXleVS6FBjZL1aWPQd5zY+WaUPsWBj\n",
       "yFK+1c30dyztlJbCGBO4AxW+uR81g/LKKEHfwkZQizFq9EWcmBGedube6lA7Lz0BWfSFDrVxDp4+\n",
       "ZnkPTllvGq5BDQ4mW/icyzMCqaG1LoOWXXuW1lAtPQLtONYovznCU/Dr3spXgtD9YQz1ovxKIFa4\n",
       "+sFW7Guc+3auSQ129rlIU0ZljvykD7m+PP35hzexBdKmTPrHq1DWYee9BUd44pcG/DgzOVZ1oSLi\n",
       "UQo4+YUqaKJsNXSTpVNfLfCfzrKsTOMdnCD5Qc+qrqNp6XV0pFAKe6cRPmwzpmhS9t7IZ8OO55Ku\n",
       "/Gp+68v8lVVe5rMmR9C13CSv2ivK23OJfhz8Tyzx3wz7N5K3JVjXATqvAAAAAElFTkSuQmCC\n",
       "\" style=\"display:inline;vertical-align:middle;\" /></a><br>"
      ],
      "text/plain": [
       "right_mult_neg_less: forall_{a, x, y in Real | x < y, a < 0} ((x * a) > (y * a))"
      ]
     },
     "execution_count": 42,
     "metadata": {},
     "output_type": "execute_result"
    }
   ],
   "source": [
    "right_mult_neg_less = Forall((a, x, y), Greater(Mult(x, a), Mult(y, a)), \n",
    "                             conditions=[Less(x, y), Less(a, zero)], domain=Real)"
   ]
  },
  {
   "cell_type": "code",
   "execution_count": 43,
   "metadata": {},
   "outputs": [
    {
     "data": {
      "text/html": [
       "<strong id=\"right_mult_nonpos_less\"><a class=\"ProveItLink\" href=\"proofs/right_mult_nonpos_less/thm_proof.ipynb\">right_mult_nonpos_less</a> (conjecture without proof):<br></strong> <a class=\"ProveItLink\" href=\"../__pv_it/theorems/6ca2b288b2e404b06d616df5143a0db732646e470/theorem_expr.ipynb\"><img src=\"data:image/png;base64,iVBORw0KGgoAAAANSUhEUgAAATwAAAAWBAMAAACvaz3RAAAAMFBMVEX///8QEBCIiIhmZma6urrM\n",
       "zMxUVFQiIiJERETc3Nzu7u6qqqp2dnaYmJgyMjIAAAAcRTyBAAAAAXRSTlMAQObYZgAABEpJREFU\n",
       "SMfFVm9oG2UY/yW5y+UuSTMGgtsY3BatpTopLeqQbmYdbChuZn7Q+SkhKLOgoYx2Op1ShpZ0MjkQ\n",
       "6hiI5yab1rocEze2D3q0iDOOGZhQlDkO0S/+wSAObKfi8957ubvkbluFyB745bn3vSf3/t7nz/s+\n",
       "wP8ibzkIyJlrGLdLUuOw2OC7DrNTxjmCEtdCjYMyzPEle/6pw/S6NI4Q4rY7cPz+VuOgnOA4REoe\n",
       "7zC9iw5CZJarT4ZbjIOSUm106aSMDtPb6yBE3nH09qf8xiFuXmYjXZuefrPD7OQRjtC455yHna94\n",
       "xmHyA8eflcq+DtOL9nEoa4eHZj3Sg/0rKVJ9zfHUz67xkX7IK13DN+bWUEjnYIOcPHnjFYUlkJo1\n",
       "nadEnWMG8+rL7vtNWlcDSFsejb1NY3MTog13qRX4jdRljs3Nago7fXZPbFT5iq0vHgpYjuMSTjkD\n",
       "yeCo4Sv9QZZHdjKtRoxKMOnFcr7PMZaNjUiw8tTt7KxjPanTHBKi9VBuH8xtgGqmjoTQ21lsZ/c9\n",
       "MIqMzkeRHIeOij2usv3HFiHRVkXXS3fUmsYKliND75R/2MQDOnaTKnCk6lIou/Rrh3Wil/4wSG+q\n",
       "PRvSv9K3ryBitNIDfufeZLuJjKOa9+gpn6uesbCIAr3DHjZxK/uUS0+2HqOHo90/2qfSPd1kJnRD\n",
       "0jezMdGb8dFLZR+lVD36Kj0OFfECW6W/nEeU2EFcgFRvDS7EK94WqiY+ZZnFgyvfV/dlQszCGvdE\n",
       "+QtJtoWtDiafpLkxcZFlt16WaDOpjL6D33aqGRvw0euNW6OYYSUPc1Fcxo7/fEEXXmQTIg+evzTO\n",
       "Ur73uvQMlOkW5aUhl92j1jYuYsKldxVx64xbGviI9hPrE9muRDA/4PBW9Ch23qr37sr56OW76hBX\n",
       "299/dyTKknkAj0M5l+Peizj02OFBEK4mGrKb1wk1vSdFK9nl/V7Oux7IOFYU/nYn9mO+SEaD4GBJ\n",
       "GTGiPNsX7N9BlMTnK5X9UL9Y56eHDN2PF+yZmBlnZFahmzZ8zrBzL+MsygJIUEq9Wa/ZUEq3T91G\n",
       "x3K+/cgaYe+yC+7EsbVPlOhDLNkY0lRvVS3xLSs7sSEyi1HcgiIP7sc1P70C8lDWsxWkXISUsoCD\n",
       "0zS62/BX7vUuteOhNyDLvrZLbYSDl49W2IZD+tspK0UKY0IDn3F6KV9pyI0LILfLT5MPpfwjkA9g\n",
       "hfiHHb7LdWTdc28JLUFr/1BGNRfeEjgeLp3cgB3Gsa9na6SwpcdCghyS3PeLMmC59JRnH76LOUie\n",
       "0Ogfr0NchS13Znl2nUX0vHtfJTSOazZUJ55jMtY0fokSLryh8otTTYaisXLqqfj+03osi5N4HweJ\n",
       "/n9uRxOh7ehQtj0j7Yt2MtBA2ypubg98tn3iGcEKb82v38x/s8RmPq1x+KeaSrhk3pDetvP0w+Oa\n",
       "rJAcwM2U2M1Z9l8MLitgDSogMQAAAABJRU5ErkJggg==\n",
       "\" style=\"display:inline;vertical-align:middle;\" /></a><br>"
      ],
      "text/plain": [
       "right_mult_nonpos_less: forall_{a, x, y in Real | x < y, a <= 0} ((x * a) >= (y * a))"
      ]
     },
     "execution_count": 43,
     "metadata": {},
     "output_type": "execute_result"
    }
   ],
   "source": [
    "right_mult_nonpos_less = Forall((a, x, y), GreaterEq(Mult(x, a), Mult(y, a)), \n",
    "                                conditions=[Less(x, y), LessEq(a, zero)], domain=Real)"
   ]
  },
  {
   "cell_type": "code",
   "execution_count": 44,
   "metadata": {},
   "outputs": [
    {
     "data": {
      "text/html": [
       "<strong id=\"left_mult_neg_lesseq\"><a class=\"ProveItLink\" href=\"proofs/left_mult_neg_lesseq/thm_proof.ipynb\">left_mult_neg_lesseq</a> (conjecture without proof):<br></strong> <a class=\"ProveItLink\" href=\"../__pv_it/theorems/df824c8708bbd21c1d5d01c934d0f14ca5ae5e620/theorem_expr.ipynb\"><img src=\"data:image/png;base64,iVBORw0KGgoAAAANSUhEUgAAATwAAAAWBAMAAACvaz3RAAAAMFBMVEX///8QEBCIiIhmZma6urrM\n",
       "zMxUVFQiIiJERETc3Nzu7u6qqqp2dnaYmJgyMjIAAAAcRTyBAAAAAXRSTlMAQObYZgAABA9JREFU\n",
       "SMfFVmtoHFUU/nZ3ZndmdjZbBMHaP9MuxBAfhAYfSFvXFFoEW7f+8PFrl2CRgIZQErVapQQpm0pl\n",
       "oKClIE6rtBprsygq7Q9ZEsS6Fh1QCEotg9g/PnARBZOqeO5jZmd2Jm2ElR749t458+3c7557zr0X\n",
       "+F/sNYmYnVmB3G15W8BjD9/1WJ2xXyBuWTuRHLcxgc9Z/8cey+uzBRKE83Dg5N1RctxOCxyhRt/f\n",
       "Y3lfSSTYvGg+HouQ42ZaHH0ONY0ey9srkWDHZLtzd5icEOY1HIXW7OyrPVanTwgkrntZdh55sUNO\n",
       "sh8E/qzX9/VYXnpIAIcX1jtBODaMjdDKmkO+45WfAnKEeHwj9BuBBXBQkGeuPqKyClHzTdnTXAFl\n",
       "LX4NXp/CovUCUPACz+G9PjlCbN6LdBu4CI6tfjUl7T57DmyxxIhRf6yWyHMBH8qHXEPgmIu7eODY\n",
       "TwtfOvcRsbOWi0M+2SeyCOqNLdDo+x+BI4e0m6jtnYXNsJrm8bi8/PcxdeSZRFEuUKoscI+DPex5\n",
       "zuND11lfbfv/uakVkCXR+IfP5ToUKSZVcJhuLlFd4aWjDskrvBuTV/glxiWP8QdSjai8G5iTBajG\n",
       "3b+F5RmfWh2yT3yK59EyqpVAnu49RJ03+i/xXen2fnqj9CPnbGXPJO9USJ5ZenA30lzdSA3PslE2\n",
       "jleER11Czo0srvEX8u3OHFSuQBGLq9/pdjIhSsx4WE/NdomZx2iUKXWZZbcznqPJmEVnlzjtrGZm\n",
       "OCRvMOtNKs+JBF5W17Dtv1J1hIc+kLMipWFcRtYLDtmzlO+Dfmno48FWGyNqNRxAUBp4n+aTGVLZ\n",
       "rFTwyBzdjgGD5611x+PlkLxKH33rHPPob06kWX0M42HpoeilpDy2eTBMY7HmV7NyWWvrJDvDHW+V\n",
       "O8dDFxGZmvI3NZskWB6mGmmRH0v8dxNG1Wfq9WlYn90alocinY/GOTbzTDPLxKxDv/RQ9hTloGwB\n",
       "GU5seHTU12GMDpbYzaOv0r1ldRGJWWIqLkkUqN7mbO1bhyeuyhiTuB41sbgftMLyqmBfv43lVjlF\n",
       "XWMJh2alp1O5VzrUTiaegFGj7IMxISDKx67uwBHnddMzqcGU0sYnQp4ZKg29/QX4Glx0kas8AP0g\n",
       "1qq/u9JTCva9VVwJuu4PYRvHXDm4EsgIj763GbsaJ76eb1GDbQMeNApIft/PxrAXyDOevP8WEaCz\n",
       "9I+Xoa7DtptLrvSkzwfnlWYLrHihOv00s6mAHLbnKRWDC1XYZDU1DJvV3kB9uvNK6x7nbRwi+f/5\n",
       "Oqpd/To6UmIJNIPuwzZvyybb3Bn7bLfjCcVLvppf+TL/zSov8wVbIOzyG+VCc2V5+TrZQew4T303\n",
       "7LmWlrk2w/4LEbgyVZg+fm0AAAAASUVORK5CYII=\n",
       "\" style=\"display:inline;vertical-align:middle;\" /></a><br>"
      ],
      "text/plain": [
       "left_mult_neg_lesseq: forall_{a, x, y in Real | x <= y, a <= 0} ((a * x) >= (a * y))"
      ]
     },
     "execution_count": 44,
     "metadata": {},
     "output_type": "execute_result"
    }
   ],
   "source": [
    "left_mult_neg_lesseq = Forall((a, x, y), GreaterEq(Mult(a, x), Mult(a, y)), \n",
    "                              conditions=[LessEq(x, y), LessEq(a, zero)], domain=Real)"
   ]
  },
  {
   "cell_type": "code",
   "execution_count": 45,
   "metadata": {},
   "outputs": [
    {
     "data": {
      "text/html": [
       "<strong id=\"right_mult_neg_lesseq\"><a class=\"ProveItLink\" href=\"proofs/right_mult_neg_lesseq/thm_proof.ipynb\">right_mult_neg_lesseq</a> (conjecture without proof):<br></strong> <a class=\"ProveItLink\" href=\"../__pv_it/theorems/da857e3637bfbefba7e9732ca9522e8a6e786ed60/theorem_expr.ipynb\"><img src=\"data:image/png;base64,iVBORw0KGgoAAAANSUhEUgAAATwAAAAWBAMAAACvaz3RAAAAMFBMVEX///8QEBCIiIhmZma6urrM\n",
       "zMxUVFQiIiJERETc3Nzu7u6qqqp2dnaYmJgyMjIAAAAcRTyBAAAAAXRSTlMAQObYZgAABDVJREFU\n",
       "SMfFVm+IG0UU/yXZTXY3m0sRBNsipI2ex/mH4w7/INeaXqFFsDX1g9VPCcEiBxqOcletVjmKlFyl\n",
       "siDUUhDXKq2etQlKlfaDXe4Qayy6oHAotSyiX/yDQSx4VxXfzGx2N9m9ekKkD377Zt6+3fnNzHsz\n",
       "D/hf5FUXITmzjHO3pA0Bh3W+7TE7bVogLEkj0jks4wKfsfaPPabXZwhEEOfLgRP3djqH5ZTAEVLq\n",
       "dI/pfekiQuaE+mi8wzkseo6jzyTV6DG9vS4i5HVXb98VdI5Y5lUcmebs7Cs9ZqdOCETue8FtPPKC\n",
       "7xwl3wv8Uavt6zG9+JCAtn58bM4nPTq8hnZqqN0//JPnfGwY6hrP8eX5dbSl8+CgRZ759xGlFZCa\n",
       "s9yWYgucxELuee/9JqOvBWQcn8betrO1CfGWN9Rq/ErqksDmdjZFnT67D2zMiRE77aFcIstFfOB2\n",
       "Ug2BJr4w72dxxIPpRiTos7S/lwtDrrPa2AiF/dLk0WnjHlIfCqQQtyO5vTO/ATlLPxaml/4uxI4s\n",
       "k8iaohcrCJio8X6dzT+xhBRNVfZW6ZZm21nDdcjSO+1vZrjPxG5SJQHdTkWyy7x41CR6mXdD9DK/\n",
       "hHzJol1GrNFJD/hNrGaZGadRL/r0tE9yvrO0hBK9wx5muIH9yqOnOg9T443+H/ipdGc/uUn9SJmb\n",
       "WZ/onQzQ0/MP7UKcsxsr4xk2ynC1KCzyIlJ25+ZCvuxPoW7hHIsssbnq3XYgEhIO1nknyp9Isyls\n",
       "dTHzGNmm5CUW3WY1RZPRs+YOcdvlrMRIgN5g0pmUnuVNa0lexY7/YskUFllsXjA1zlK8D3r0GqjS\n",
       "LSpSQ616Ry13LuOAR+8Kks4ZLzXwPs0nMSSzWcngK3N0KwY0Hre5ux4vBOgV+2xo55lFfXMizoJ5\n",
       "BDtdC61ezKXHDg+CdEVpqV5cK7nMHp1G4un9VsG/Hsg5UZb+8gz7sVAmp1EIsKCMNeJl/m6RP0dR\n",
       "kZ+u1fYj9+ntQXrI0v2onWczT1hJRmYt+l0LBUzWHZRtIEGrDOb9YkOr3Hz4JjqWi91H1gR7l1/0\n",
       "DMfXP1qhH7FgY8hQvtUN5RuWdnJLZh6TuB5lsbmnm0F6JbC/38FiqxCjpraIQ7Ouxc/cq11qJyJv\n",
       "QBZ9XZfahIBIH6O0DUfM13RHJ4UpqYWPBT09kBpq63PwvblkI1V8EOpBrJZ/t11L3jv3VlASdNYP\n",
       "VdQL0SWBu8KV9zZgR+P4V3NNUtgy4EChBUnv+1kbcTx62pMP3CYW6Cx98RLktdhya952LfEL3n2l\n",
       "GALLFlSnnmIy1XZ+jgIuuqAKiptNDc1g6TRQC3yjdH/+Ng4R/f9cjiqR5ehYvjsi+UU7EyqguUpa\n",
       "20O/7TY8ITnRpfnVi/mvV1jMZwyBoKmtpIvW8vTSNZKD2HaB2nbQci0lcW2G/Qcb+i6G0+97owAA\n",
       "AABJRU5ErkJggg==\n",
       "\" style=\"display:inline;vertical-align:middle;\" /></a><br>"
      ],
      "text/plain": [
       "right_mult_neg_lesseq: forall_{a, x, y in Real | x <= y, a <= 0} ((x * a) >= (y * a))"
      ]
     },
     "execution_count": 45,
     "metadata": {},
     "output_type": "execute_result"
    }
   ],
   "source": [
    "right_mult_neg_lesseq = Forall((a, x, y), GreaterEq(Mult(x, a), Mult(y, a)), \n",
    "                               conditions=[LessEq(x, y), LessEq(a, zero)], domain=Real)"
   ]
  },
  {
   "cell_type": "code",
   "execution_count": 46,
   "metadata": {},
   "outputs": [
    {
     "data": {
      "text/html": [
       "<strong id=\"mult_neg_any\"><a class=\"ProveItLink\" href=\"proofs/mult_neg_any/thm_proof.ipynb\">mult_neg_any</a> (conjecture without proof):<br></strong> <a class=\"ProveItLink\" href=\"../__pv_it/theorems/21ae7984531e632aefdcad038827f54ad90b066d0/theorem_expr.ipynb\"><img src=\"data:image/png;base64,iVBORw0KGgoAAAANSUhEUgAAA0QAAAAZBAMAAADjz/OpAAAAMFBMVEX///8QEBCIiIhmZma6urrM\n",
       "zMxUVFQiIiJERETc3Nzu7u6qqqp2dnaYmJgyMjIAAAAcRTyBAAAAAXRSTlMAQObYZgAAB1JJREFU\n",
       "aN7tWn2IVFUUP+7Mm483H+sfQa4SjLtZUkmDS2poNSUl/aOzRX5E4LAoYZkMBWul1LRBjZnxSljN\n",
       "UkYlzbXcgVhsw3JyyyjdGCooRWXAD0jCJCzaMaV77r3z3n0f897bp+P6hxfum3fvPe+8c87v3nPP\n",
       "O3cAHEpg5Utwo4xa8a9c7UgTvGGm0S09owpRuMyqt7JZ14ooHtkMOLLefI1BQVWoOgMMogr+HLeD\n",
       "KI4/sXIDZPmYV09Fzml8biaXZR75BBQ71qbWCAR8LetRpGW8UtF64BD2nbWDKFokP/FCAyD6nVdP\n",
       "JS6Y9iSpe7xCXbFlbWyNRMKkxwf38EpF64GN6HBydhDR0Y0NQCiWZNVb+Vm4v0hqNOGR0QFb1sbW\n",
       "CEpz0eODqApV5wCFCJdHtGi7F+EaO9QAiIIKq96KEGj6qzjlxnpktNWOtak1gjLPq+dBVag6WylE\n",
       "sR96ezfYhwvHent3ZRsA0QZevYUagkRRen/Kqz9K2bA2tkZSvvNsmVO8omgkovs3n19tD1FzPv9m\n",
       "qQEQtfEanjV1vDMkBqImwUPGO9uIHxgUMGud5MLBtaYZsdHXNiVNrfWDE52XhJHoTOtM89tsHVxN\n",
       "7EFeUTQC0VKANfYQBdIQUhoA0TpeH1Ti5x2JjUQhIcTsOysPA5zQ4FwF7ziv4WKIBQox+vPjOSwn\n",
       "jaxZy98Cfzp/ZRqI5MuFPsX0NrtZqIp9glcUjUA0mwYOfOactoLIn3QRLs2tjBiiVazKt4CPRCQL\n",
       "mV4WdDg1OVGbShMU9s/9BfgLYK82VoJnQcqpDxtdPb2uhkCRKhwxerJg0djaWoYZ4MSRETFDIk2k\n",
       "Cs2JGj19m72KTGyIp5kqWFG0HsSgicwTieHNhJNe+AYmZrRP1yxMcV6kLkOzyNtPd/Lbm1j1VSGY\n",
       "gMenswVhRlq+DDUiWKTSjCFueg+d+afhfpD/A1isjj1ANJbas+rDhkJpfNWawpJxCYusWYswfN6R\n",
       "IyVihmQiV6CvpIkPTipSsYmBgKmCFUUjEEXL+gTC7sH74PNowVfQIBoC5y0z7hxhyvvay/LCgvSH\n",
       "HqIxOegjM2cOe13G/FwXqEQazZiU+Fnkv8ghomPjqN/Jqg8bV0mGMeTFEiJ9axzIfztyZESayOSz\n",
       "aF5REx+cVGRi02KAKFyZr/tYWbupAF8mklEhAbRFyjh/BDjvVr8N9ELsQ4B9ekdHptp+Vf56hRNZ\n",
       "e6NLdJaqDHBJqQa1YVjbQ7LaXnTG0tERhpHzThw5kWCRMl8X6tvsVWRiQ41wDhcNc3RrlpD72ygR\n",
       "CYxm401//3siRKEeMpPkqSvMMYnWubj1GRa4WIVOzBToCh/uJ5NCHy70FWFFRHGCiBI9lLEMFy7g\n",
       "PiCEC5fQXThARAwIRVSYhwt1IhHaki9CoDLgBBElYoZkb0iRDVR8m4OKTOxtM83hAnxG3hxtRrx9\n",
       "/grL2fVHP31KgCiCTnRnenEBAoa9knbSJN7tBdzKg6kOEw32YcqJkh09og3w0DKUiHVFdVMMvTV1\n",
       "z5rbZkSlquXe9xy8Tq6z1PY0kO/RGdSCoS8D29OoMPhKttsqtrrh10xJ5Kgx0zhSImZIlvwrh5K6\n",
       "txlV1MQSxE7O5apgRdEQIgw7NtFwaFc0I1Ou/VAaFCDCeAnaYQFIXxvMj50sROmmsM8AyURD+ujv\n",
       "drx8ISSW+XKWOyf13KqDiHrrLp3bpkTh3ZqRRAS231XWRaPRoZ/0BBYM4fDxBCrMQih99Jw1tna0\n",
       "LupM6fpVZhpHSsQMyT3MEOjeZlJRFUsTW1YOclWwomgIUaxALcwWtfRiPt9NINocFCE6SuoEIGs4\n",
       "aDA/7eR7/zTatqJhZUE+n0988ES9BNAcF+FgKFE/LyNn7QxdjyHBdqfbBJArjt02Y25URNePqlB1\n",
       "doJ2XiRX03zPz7BV5H9MhAgphmFdr9H8tDNCt5oqhWLYAiLsO05WbICu+G3ah4E+jepG/r6P6mc3\n",
       "jWlUVwbFIMd1GtUNR27IK4Bo2JRG5V8rlVL4LQCyaXyLzV8AjhkgghbpQhnNT+g2FmoX7IzMxr6X\n",
       "YzlyPQU+CpFKwfrCT+J+l6Z5nLRmkzUgZDb2uhD/q6iwABRzBl/3AeYGog7Lwwg9a7XlhiMxZP1B\n",
       "NypKY02HERz85YpEVsFkIhCJcfyvpNicFyF65M42ChGh61CkFrxMYJ1LsW/+Ybyun3IHhaijyCha\n",
       "eB+N5tYim0/OvaHOM/FIb/2rnc7y7/hemK85/ZghixWe/o+L04nJYJXbsj7Sc8WRGLJ+Ds+Nik05\n",
       "beqGFNAfjEeYI52c7zYkgMRWgX3+qk/QTSDF7yIqDRT1NPS4o4nsRXozXsWD8ZinLCJR9Ygj62t6\n",
       "ME62W1SFqkNFEyEaCDw63jKNKqzCu2eKh/38rrPA7wZUGu2fBGykIYe2V1wsFR7dsuRdo6VEiMqB\n",
       "g4oDRIyu7p3WjulH3t8C1yVEB5XrTaTlpr9guPgH0NX4H92xe+FG8VT8K7v+B2rKQR1I3VhWAAAA\n",
       "AElFTkSuQmCC\n",
       "\" style=\"display:inline;vertical-align:middle;\" /></a><br>"
      ],
      "text/plain": [
       "mult_neg_any: forall_{i, j in Natural} [forall_{a_{1}, ..a_{_a}.., a_{i}, b, c_{1}, ..c_{_a}.., c_{j} in Complex} ((a_{1} * ..a_{_a}.. * a_{i} * (-b) * c_{1} * ..c_{_a}.. * c_{j}) = (-(a_{1} * ..a_{_a}.. * a_{i} * b * c_{1} * ..c_{_a}.. * c_{j})))]"
      ]
     },
     "execution_count": 46,
     "metadata": {},
     "output_type": "execute_result"
    }
   ],
   "source": [
    "mult_neg_any = \\\n",
    "    Forall((i, j), \n",
    "           Forall((a_1_to_i, b, c_1_to_j), \n",
    "                  Equals(Mult(a_1_to_i, Neg(b), c_1_to_j), \n",
    "                         Neg(Mult(a_1_to_i, b, c_1_to_j))), \n",
    "                  domain=Complex),\n",
    "           domain=Natural)"
   ]
  },
  {
   "cell_type": "code",
   "execution_count": 47,
   "metadata": {},
   "outputs": [
    {
     "data": {
      "text/html": [
       "<strong id=\"mult_neg_any_double\"><a class=\"ProveItLink\" href=\"proofs/mult_neg_any_double/thm_proof.ipynb\">mult_neg_any_double</a> (conjecture without proof):<br></strong> <a class=\"ProveItLink\" href=\"../__pv_it/theorems/fd9169528e3368dcc4717f66ba9914079a7c3a230/theorem_expr.ipynb\"><img src=\"data:image/png;base64,iVBORw0KGgoAAAANSUhEUgAAA0QAAAAZBAMAAADjz/OpAAAAMFBMVEX///8QEBCIiIhmZma6urrM\n",
       "zMxUVFQiIiJERETc3Nzu7u6qqqp2dnaYmJgyMjIAAAAcRTyBAAAAAXRSTlMAQObYZgAABw9JREFU\n",
       "aN7tWn2IVFUUP+58v3kz6x9BrhKMa5ZU0qKkhlZbUkv/6FjkRwQ7LEpYJkPBWim1bVCzmTElrGYp\n",
       "zyQ/1nIHYrENy8kto9QYKihFZcAPSMIkLNpVo3vuvfPufW/e1zx30D88cN68d+fcM797f/fj3PMG\n",
       "wEXCq16CG3LNJLhqjatN5EY3XVvpvaYUxUpMhWz27ctYM5736WaQq7P7+gttwCCjqIwfJ5woSuJH\n",
       "olQHHDu56qJ0+XUl1dx5M7ks9+knnGdq7742WK9lfQJZzsEQig7h8zknitQC+UhqdaDod666JP0O\n",
       "fkPNU0T3+KW6zNTBfW24WnxW3MPBEIo24oLT5UQR/XZjHRhKtDAV8rNvX3LNS0TVlE9HB7jau69J\n",
       "Ggs+K9IGHKAU4fRQC457Ec6xQ3WgKJJnKsR/8CjVDI7gABzr09FWrrbua5P5flcf2oCtlKLED319\n",
       "G5zDheN9fbuydaBoA1cRPvj+FbmmSu9P+12ZWpnC6AD7znfvnOZgSET3by63xpmixlzuzWIdKJrE\n",
       "VZcGXPXWD010H3mxOdPGV9WsdHLHJLIqDEmcNU92X1cqNmoLUxgdYGebZ0uLaHPaO5AhDoZQtAyg\n",
       "x5micBqi+TpQtI6rLlESNgab4E/3qg/mkxfMNSvSf04ZBjgpem01vOPas7pNoswU4MfzKKeuCpjy\n",
       "n9avd92GQrTsHchJDoZQNJcGDnwYnrGiKNjiIUCaV66ZotVcxW+R0b+1BLMAQiyAsRq1WKbcAoEu\n",
       "PgW1Ss2K7NfgL4C9tIfod0V41sGhsIEkGeTxLFOoFRj1YwYWH4HGVMV+DYQLsFgYWzRMAoINQCC9\n",
       "yEEDGSMhxjVraeiFb2BiRhxdszDVfYJ6jC7jbz/dwW9vYqrQ0XqeoBpDlt4HNHgeQtOzbAxa9ASW\n",
       "BUYgQlq+RLfBmnuomzNwPyiXAdrphMJxQzw6OdRtCDZs+wWmBvECjPoxAwuUob8oQAM8PlMYWzRM\n",
       "AtLOwRCK1JIxgbB76D74XNUCmqDoCLhvl0n36FLZN72kLNZCfxgpMvbEOFD+JhOX/WCnhRcsG9MF\n",
       "/WnpmdYUx6LgJU5RBMfZOBrm2ToUNmx42lHkBoz6MQMjx6L5BQGaSJswtmiYBESiKFZeaDisrN2k\n",
       "wZepFlVKAG0JZdwPAO671W+DfZD4EGCfw0JHJkD8gt4TdkJG5v6qlagiV+h4bdMHxmWJIrvBc1mE\n",
       "7NmKMduLzl4VsMYSnxfsO5BwuQFp42AwR9ezlNzfRg1IKDQXbwYG3pMpivaSUaRMW1kdj4jC9uZn\n",
       "WNBicRpkZUFcCh8eIIPCIVxQLkG4POjaEwVYGc8/lLEMFy7itiGFC1dw4XBxSG0+mm0IF0YDWGMr\n",
       "2Z0EXWQjcaZIAiKFC/AZ+VW1EbkOBMssZzegfvqURFEcF9Ad6XYNwqZ9khbSJN7tGu6RkdYFVTZY\n",
       "hiknanbsqPhiCAyxMdvPuuHXTNHQE7hu04VaLODRVKJTheKI5U74HLxOrnP05xmg3CM7FL6EQ2rT\n",
       "Mg/7oMgUXIFRPy7AwqWojiyQgW1pmSK9rrS1CSBzOBikCEOOTTQA2qVmFOpxAIpDEkUYIcF0WASh\n",
       "r03dj4UsPOmmtM+CUJUNKaOf2/DyhZRGbjPPe2z/9uYlHa0Giui63WlYwJWOyb23xnZnDTUrsu2u\n",
       "kiE2VY/8ZDTQfQmHaKPkDwILppLm5cIaWCe4AlOmHRH2h0+kjA3ulFtnBnKGg0GKEhrtYTahQy/m\n",
       "ct2Eos0RmaJjRCcAWQwjpu6nhXzvn0GfrWyYLMrlcqkPnvCUAAp6Oc5HU/YZGiVb3cmeDmo7uNok\n",
       "gGoGZpY2jydG2oAdIN4XKSNpvudn2CwKPiZThBbDsK7P3P20ME63mhFKxbAFRVh2gszYMJ3tH4lD\n",
       "gUMa1VNP9H9sn+c0p1E9ORx2T6PWDMwXRcOGNCo/rZSLsbcAyKbxLT7+AnDcRBE0hS6WsPuJ3Uat\n",
       "csHC+FwseznRRa6nIUAp0i1YWexJ3O/SNEGSFj3QA6bMhp7EiHvpia9Ui5pSLt9wHPPgMDTW9mWE\n",
       "f2Bm2QvegEgvI/h0WJEPkVkwhYAh4WvwlVY25mWKHrlzEqWI2C3Ih5rwMoEVLsOyhYfxun7qHZSi\n",
       "BQVm0cTLaDS3Ft18cv4NfaW3faUXm/mPh5cJ27+vrimzL+dVvDhs6GJcRO1f6dUOzCTrX+0AT0B6\n",
       "KgNDfjEeZzvSlFy3KQEkP2ns6KvXoMt+K7+L6zZQMNrQ1x0NZC8ydlzdXown/OQUcQvBgPOoq/s6\n",
       "CwFCG0CByBQNhh8db5lGlWbg3bPlV/v8rkPjd4O6jfjvAPumLi9tR1mWvqtdj0Bkikrhg3kXipid\n",
       "7Z14Thi/eX/L9c8QrFh+XQLx8A+g0fgf3fF74Yb4kuCqzv8B0FA/PT+zSMIAAAAASUVORK5CYII=\n",
       "\" style=\"display:inline;vertical-align:middle;\" /></a><br>"
      ],
      "text/plain": [
       "mult_neg_any_double: forall_{i, j in Natural} [forall_{a_{1}, ..a_{_a}.., a_{i}, b, c_{1}, ..c_{_a}.., c_{j} in Complex} ((-(a_{1} * ..a_{_a}.. * a_{i} * (-b) * c_{1} * ..c_{_a}.. * c_{j})) = (a_{1} * ..a_{_a}.. * a_{i} * b * c_{1} * ..c_{_a}.. * c_{j}))]"
      ]
     },
     "execution_count": 47,
     "metadata": {},
     "output_type": "execute_result"
    }
   ],
   "source": [
    "mult_neg_any_double = \\\n",
    "    Forall((i, j), \n",
    "           Forall((a_1_to_i, b, c_1_to_j), \n",
    "                  Equals(Neg(Mult(a_1_to_i, Neg(b), c_1_to_j)), \n",
    "                         Mult(a_1_to_i, b, c_1_to_j)), \n",
    "                  domain=Complex),\n",
    "           domain=Natural)"
   ]
  },
  {
   "cell_type": "code",
   "execution_count": 48,
   "metadata": {},
   "outputs": [
    {
     "data": {
      "text/html": [
       "<strong id=\"distribute_through_sum\"><a class=\"ProveItLink\" href=\"proofs/distribute_through_sum/thm_proof.ipynb\">distribute_through_sum</a> (conjecture without proof):<br></strong> <a class=\"ProveItLink\" href=\"../__pv_it/theorems/965be5a8125bbdf0163abcb6d26033a5b180f5cc0/theorem_expr.ipynb\"><img src=\"data:image/png;base64,iVBORw0KGgoAAAANSUhEUgAAA7kAAAAyBAMAAABrFgF1AAAAMFBMVEX///8QEBCIiIhmZma6urrM\n",
       "zMxUVFQiIiJERETc3Nzu7u6qqqp2dnaYmJgyMjIAAAAcRTyBAAAAAXRSTlMAQObYZgAACxdJREFU\n",
       "eNrtXH2MG0cVf2d7/bH+OlUlJC1Fzh0JUaGKaURbyNEYUKlAauMD0TTwx1mnVqgQivmKFFIJEyR6\n",
       "oQQtitQkLa2cRCT0QNi9FkWHKmJyUhFp0lqNEG3Ih0VCUSM4oqpE3KVpmI/dndldOzu7szrb4kY6\n",
       "ez0zb97s/HbevHnzuwUQSwNXrzagGylVgMXkKR3QB+7q1UFRkYHpPdWu9PXYIlweU6RFvtQ9T4qj\n",
       "W+xOV0OlRbi8pjP6t9Lz6D4rJZ1o+pV8yq9gUvMrOR3UmMUbfYKuer2U+C99662A+oOyJ1Xv1S8e\n",
       "8qszqgU8aD2PbjwvJf6mX8EMGumMN93n9O/f+AalFbDB63l0D0u5cmnfz8YJ9Jet8wY318kSGwWX\n",
       "DSc/51fpkaBGLdboD3S/LXeXvm3dFvS3vuoF3ci8MQUH/SrdG9SoJef6At30nJT4Lt/eGF5y/whe\n",
       "0E2Zq/R538tBIdhJ0evoxipS4sMYqJFbb3CvuXNmOT9TQ9ikvzG01gO6mfFh3ZLPsMLU0AoBgzyk\n",
       "j20qH9S4na32A7pjck/zDvT3SS1zEeB+lwDAMvi3jil15tBOSn23WtNMQVd0axdUZGgyRbbdRE/W\n",
       "VvgpKC5P6K56vBW6jlgq4la9PIvTOakbr+X6Ad2PyIlvRRjdBOEKfOF2uiS2qUOe8r1NuAONhmbU\n",
       "iaFpmJyHbE4XFEAX+X9voV/o6pCpCnk3X1PWlJkem5NMPh+BaB2+Q5oqBzVumVY/oLtEThzt+8Lz\n",
       "EEPjfzd9pJ17DvVd/LmuCt8yHntcZwDZjHALag0qmJqd/cf7Z2dLDmmu4E5Q39ENjtnMOgxppMz0\n",
       "2GYYrhPG3phKXDLlYlDjFprrA3SVK9LoDlSgVjTQjTnxgc34Yymo/zGW+pKOLtrurq/rggJz9xxE\n",
       "LnPokmaWgoku1WPzKoiqilknOHQTV/oA3ZCcy4wtM5p+hwFMkDrEEd6B5EWIrGTjjixztonnnjC6\n",
       "V/As3LeW10Unc+Ta9rbWIP7U50tGTbruvhGA0etxdOODcvLIq6rV4eGk5obuZYi2plPZKu9VZQto\n",
       "zRZH9228eOfvBd6ruoIXYhd00UME9cxfPzdveFWBpEf7AN0BuQ0R3pvEc+nNKcvcJasd/uCWwm3w\n",
       "l1LjiUNsPUXec7SJw6B2dE1BQ9oo+Dr8EFTtRXQ1YjZzG6gftaBrSjMPIFyC/cXsg+SyEdjIvaKj\n",
       "S9ScFkE3Q7z25gKiW5PcACJo1PEVj3/Agi5Z7cgHWwoPDG0cLyCMzR0SQkS99Tg40WWCm60F+z/c\n",
       "1Pdgf2cPyfFXrZbZlOY8gGOnczC6Cu+VM8HNoLNFiu5L+McFEXRTpAfVhdzu5iSDIRqHs2tS59no\n",
       "brELuseZSUKOgmqzxBGBfc4qZRB19WDAI4fQ3Y1drIoIuqTW7oW0zIfrcvLsFOGQQO1ki1nGE3ZB\n",
       "tdNTbSnAK539FEFkF7tNKecCPEXQrR7qDZ6MqboIumSGv7SQ6J6VNVXb9e+d3x8XmLub2KFDXPMg\n",
       "yDn5FccJYOL2S+4W6E0YLwZ4Aoh8tRJFN310clIg2o7RPTU5+Ux5IdFdLXueLXN678vJz7Enyruw\n",
       "FiC6Fd2S/Hdi4hExdLMTE482FhLdV2QX+QVm3jzwsyqkfWP0epC7jZaO7oPkcdMj6NjfW57rgG60\n",
       "KPB83dsSyxNJ6xbShQsgbXqoV3oyUNbR/TQx+AqFDS/AsYJeZcNIIbSEQzeSF6CVtDvG8nK0lfzJ\n",
       "V8yl7huwmHzuFgZ1dGMQstqvGp4x6gtrmsnKUfg4H80owy2u7WbqYnntFjukU72/qvxzEd3A0E01\n",
       "Y44YAMBr05OQfDUMDR7d4+DuVGU1sbw2CetM/xzghX61zD2ErmGZE637QI+gq4ReMKOsxEYYGckv\n",
       "b8xZ0H1aKeEYzsPOjcr+lUaEZmzoq869Ncs7MuTsip5HdN71W9Qj06vSFnGS9Kpg+wNoApMIepj8\n",
       "k8K/nq9VSdQxWTz6Zwu68cfRknywOFaFqHVWqd9V5oEGNT9YHbaXkjzK840VRh2lOO9ObL/xj5O8\n",
       "57i6aPN/E81uDJUXAvpTXQFzGmxk94GSge5zaBbTCPozKZx5CY3pfopuyvSHCLpJzFRYAxtA+YMV\n",
       "oXBeKev0g21wxl6K8/SrO0BxlKI8eA50nb/jO3m2YNu7+t2/mlRyf0ncFfa5T5btISa6W8ju2byB\n",
       "bjZHACAbajQ3lOseQ+7yxMRELllMNMs8uphbAjcCsuIxK0IDdfP/fa6H2+ylJI+mG8EhS/LwuSjR\n",
       "+eQXuZLDBUs8R4J9LkdTEiegZ7Su9BDveiyhLnJqTNBNV80IOnZ/QpXRBETp3IW7chZ0T6Kac7Bj\n",
       "0o5QTYufrE6RuvMILTt+OO80sfFzbdDFeVvuyVOd4X0c/WmMM8Q4ZuyffX5ZCl0zdDzVqYZRcAK6\n",
       "08MjYA1TG6cI+tLSaiR+DDAKu6vx3IYQpDCY6QKkLesuScuUt5sYod1VJKF/DGhj98DzeUA/vpeu\n",
       "4FJWRvMSXyrjvPMQdpTivJueaFKdiZEi62aWQxOf9/hmn5tUcp9TY1AU3S3QnR7uBSvZnZy/mOiq\n",
       "mzQFWchVMFrPaNEVAI/hrdF5gJID3c98aJigO1pXlsGohj/qkfGpT+BQFmrjvmNkdqIrWqbpecgj\n",
       "Rlc7b7nZUYryIn/DOGKd8OvZH5mqYpyx2QUS7POUZHj8vCC6iXKXeoiJ7jzZnew2LNyMJFl99cBD\n",
       "CK2BlpXVugvC1pWFKOjVwQhlfNLSJN8u0HOojqWh3IW6UyeEORrZMEiwzxmV3BxNAR45qzMjiC6J\n",
       "59p0t0/223D00DvRnY8IkjiQBd3p6Gdv6Oj9W9FVVq/laupX0Zt1txyXcg46vcInjR1Lw9qpQhul\n",
       "ac5c7QAJ9jmhkvO0cREeOamznDxvZwTRxV4p1e3GUae3MQyWHnLsDB9Ed56WtdSBbjP6ogZpEEGX\n",
       "NNjmCpqdrvY8fa3SDknhXI2tIME+x1RyC22c45G3a8TkmutB90OC6GIuJdHtxlGntwEbzTqM7O6b\n",
       "6M7RBBJvOdC9dvBD8iD91Mf8SC3hd1US7HNCJedp4xyPvE0jHNecBN0pRfnl2dlvtqWisgLMg6a6\n",
       "3TnqsRzfY0Z290105+jQfcFWh3UOdP2xzwmVnKeNczzydo0wrjlVNCY4dzG6VLc7R71W5HvMyO6+\n",
       "ie4cuvFyP6C7vmC3zP7Y54RKztHXRHjktA4OujN1ApaZ6hbgqKPb+FTJ2sN9a7100E5052qTAFXv\n",
       "/4dn3u5V+WOfEyo5P1YiPHJSBwfdPXlVVLcrMOQ2GsxrZGR38Q7aiO6cV7W62g/ock7zDEiwzzGV\n",
       "3DJWdh65SSHnGiF1LpH7HrGC6Kw9xTYmRLcbR53cRuJXZUsPKdm9fQcFiO4c2Z36Kz3/ZoX3mVd3\n",
       "gwT7nFDJ+bFy8Mg3OxvBdUjQnRHQpzrV1gtwi1S3C0ed3kY8Z+0hMVAdOuhOdGfbqT55swL3VhRr\n",
       "JNIr+7ztKibAIydBd0ZAF49EinDUofYLcIbcvXWQI7ozsrv+tp6eR5e9Vch6iuCVfW7sCa+d4Uwk\n",
       "6M5OESY71TMKTnhoG+D3Kdv+ftBzBzmiOztFeLbaH+gm3mNebgcJ9jm0oY2L8Mhp0F38BNDgjApx\n",
       "1OHAn+yWwnMHGdGdnQD2zdvIuEkqc3ovmcQJ6L5P73VL4VdQ48nu0Xy/oBs2fYjuMW/SC8S8wWR3\n",
       "f+l14Mnur4FndLv1Bt9x+L9JAZHd/bzBt1tv3w4XYDF5SgfoNMRv3/4fUwuaAzus3OUAAAAASUVO\n",
       "RK5CYII=\n",
       "\" style=\"display:inline;vertical-align:middle;\" /></a><br>"
      ],
      "text/plain": [
       "distribute_through_sum: forall_{i, j, k in Natural} [forall_{a_{1}, ..a_{_a}.., a_{i}, b_{1}, ..b_{_a}.., b_{j}, c_{1}, ..c_{_a}.., c_{k} in Complex} ((a_{1} * ..a_{_a}.. * a_{i} * (b_{1} + ..b_{_a}.. + b_{j}) * c_{1} * ..c_{_a}.. * c_{k}) =  \\\\ ((a_{1} * ..a_{_a}.. * a_{i} * b_{1} * c_{1} * ..c_{_a}.. * c_{k}) + ..(a_{1} * ..a_{_a}.. * a_{i} * b_{n} * c_{1} * ..c_{_a}.. * c_{k}).. + (a_{1} * ..a_{_a}.. * a_{i} * b_{j} * c_{1} * ..c_{_a}.. * c_{k})))]"
      ]
     },
     "execution_count": 48,
     "metadata": {},
     "output_type": "execute_result"
    }
   ],
   "source": [
    "distribute_through_sum =  \\\n",
    "    Forall((i,j,k),\n",
    "           Forall((a_1_to_i, b_1_to_j, c_1_to_k),\n",
    "                  Equals(\n",
    "                        Mult(a_1_to_i, Add(b_1_to_j), c_1_to_k),\n",
    "                        Add(ExprRange(n,Mult(a_1_to_i, \n",
    "                                             IndexedVar(b, n), \n",
    "                                             c_1_to_k), \n",
    "                                 one, j))).with_wrapping_at(2),\n",
    "                  domain=Complex),\n",
    "           domain=Natural)"
   ]
  },
  {
   "cell_type": "code",
   "execution_count": 49,
   "metadata": {},
   "outputs": [
    {
     "data": {
      "text/html": [
       "<strong id=\"distribute_through_subtract\"><a class=\"ProveItLink\" href=\"proofs/distribute_through_subtract/thm_proof.ipynb\">distribute_through_subtract</a> (conjecture without proof):<br></strong> <a class=\"ProveItLink\" href=\"../__pv_it/theorems/b96c13c15677e14eed6ab91735a8fd88cb4f46a70/theorem_expr.ipynb\"><img src=\"data:image/png;base64,iVBORw0KGgoAAAANSUhEUgAAA0gAAAAyBAMAAACUmObSAAAAMFBMVEX///8QEBCIiIhmZma6urrM\n",
       "zMxUVFQiIiJERETc3Nzu7u6qqqp2dnaYmJgyMjIAAAAcRTyBAAAAAXRSTlMAQObYZgAACr5JREFU\n",
       "eNrtXH2MG8UVf+dvr+1zVNHQJP1wcjSK0lTnJn+kEiExRO0JqfScIApISGe5RFWqI3WhSpvw0XCV\n",
       "wBRo3dJCkjZlc7SEO2hsVJ3SQ0BcrgUVCrFEJShKi6UQpNLqeiQEcXeh6byZ9c7ser279u6ZVXUj\n",
       "3Xk9++bt8/xm3rx587MBrMpnLpyHbpR4BhaLUKQcez1x4V1r4RUHDnbFqL8s4qItX2UvYweetJb9\n",
       "eHdM8uUWYdGWRF252OYZkJ501PpQpw2jtVZ3YqUOVU661SX3eQ0k6SJHrfd12vKx1rd2ClIX27Dh\n",
       "zgK7CJVc6pPDGY+BFEk7ad3bcb/8s/Wto8L1KTtGKB9BqrvUJ7ElHgPpuOyk9asd+32TsRFP8et5\n",
       "G7qSFeXiObc65TaPgXSLo9Z7Om0YNpmC0hL1MjBnQ9dgY5wddm3kljwFUmLWSetoodOWD5ndfItP\n",
       "KjsPeEH1e27t+MJpT4EU3uektQ8/zANTK61dpl6oj/yNrv7ZupRGanQ9RJcDTPHlJt9XsdT99qpL\n",
       "FUjTbg3dOU+BNORo8EVIHB1YBv8BCJqDzYR8vBPvJ16tmrg5rF3rq5eDbwbgH2pF+R1p1kq39F+5\n",
       "TNzT6cYG55VpLKecfC7pjKdA+oKzeUiG+eEafBGCG5hfMphSEl0tUAiCJVXmVjLu5fhcQLM0RSub\n",
       "IUIQOaa2I2HNGSvdsTlIkglJTIkV3OqWaU+BtNRR6x4yD7fIcDOZKgU2qJtlyji8mRBwmYuwhyNs\n",
       "ihylQ/801nyM9veQ2m4zSOetdPvrUK7St8EZt7qlv+QhkIIfOgbpEyCda4AEuw1mWw4aQsBl6BY6\n",
       "mdJ7xTkYyiog0XanIDBvpZtskwYrLoP0cM1DIPlmnbo7MtJjMypIrXw8FQqs5jW30gUxq5Mjk2Il\n",
       "eRlQKz4E/5yFbkjWyESVMMBggmxNetvZ6Mt5CKTIEmfNayDNQ6g+aQUSFYonZTFwiMn94NMuNJEc\n",
       "3AVi4PAermZWIGWkT4E/UBcyo877peAhkHocReA05h2B13JVsSPp4oGrhbCKUKGDx3hLEmUPVn6s\n",
       "z8/6cwH0v5vUipvgB9pZquotq4CEapE0jMXJ2PdX3eqX+AwDiT7k76Yg9dKYvbaAIJWd7Syw+x5d\n",
       "dX0+o+nI3Y3Vgq8iTGiEywxg3ehlus8m5fvQ/55WKx5ZV9OCpOqlF6zR+peV3UBv1rU9/jkG0kv4\n",
       "8o4pSHFcD3vlBQRpKOWs/R4RLsvdx1zWMi3kx5lSaB4KliVJFB5xL6A6w0DajxuDfaYg0dv7F9Ld\n",
       "Ha84a68mWO1sUWJ17o6ME6y7oJzRJljt6qbrh2sJVpDOMp04Q+IV8zUJJ9pLCwnSmw4dRESZENGN\n",
       "71vPSWlYmD73GEncTj3iUW2lLd2wxsWjClLeZyAlXhwff8gicDg5Pj5WWEiQ+h2ek7l86HdFX7YV\n",
       "flZlhI8YN8oHyuz8oFi8zQKkZLF4d3UhQTrhdMFbgOPzRAd9HbpyOcDfXOyYTysg7aBjRkk6njYE\n",
       "KZRte3gEpu3VsbJlIaOSLpbQ8yV3FV6sgLSVOlGWdAQlr3HLH2FljoMUSOsdtHWZsqqL3feNfOP6\n",
       "W7BYDMu3FZDC4NNM+cenLoPfx2W/LGxmC/D5dtX/y6ROenpDTbpODv57ESSbIMVrYY0rvvegDM+k\n",
       "0nEx4/AytB03zJrUvT45DolfAjz9/+buXC/fVUCK1r8GStIR04Nb8WJi4qcakH4VzOGWeldzpMwr\n",
       "433bd2BklIO9dBu2Wm7emrG6AK5/X5ogj1YDh9IiHqaBA9xzI+lhmnTE9CAN8ifiv71BBCnyINnc\n",
       "HckOyRDSdT2tpHmjtaH6d8hLdS6I2VLfXhKKfFMrS+tCJSb+hhgE9Wd1kdqhrneHARey+0ZMgo5b\n",
       "ubQB0u+IK2NJx7F4TqJR3gRUp0SQYhvJvw1wLQT/oAMJK9nJZLYXl7borws+3LREUon6Dct1W84U\n",
       "yw8/gv+eEo15M6Pd83S+79HM8jsLbcjsdG/z1aYNnHuJvEoNt/JsAyR65sWSjpFa8HvF4ggB6VBY\n",
       "BAkwh7QCiE8M60CilTxthSngEOrryfiZ3xMKrSPl2mKxmPrFNWJaSAAJiY697ri/3nQbMk3xqztG\n",
       "2LFB5V5inC0mLKTzDZASspp0JP2cYzMpsF0D0htEZBbuH9eDRCtjq+j1EKCOcKYHX5JyT0UPEtYl\n",
       "TpKxQsEcVWYgbSrEl6+CA7Kj7oGVNmT0qTqXjLBjA+dePgea1F8jwap45Ho1+kP69k/49q8AJzUg\n",
       "YVkWfK+GIBHB/XLjH1bGtpK66MwrgDrC2UEgt8Ly64AgcUlW9/MjpDsQxeimLDcnKQy3PeCA7Kgt\n",
       "g3IbMpL+4HFP12zg3MvDoOFWxuZFkKThUnAFTQ9G8Pz3jgwb7hqQvvy5PgoSEdxWCi7DfytY5Q5S\n",
       "J930lXUyqQjkf0TUVoLDVQoSuVqmiLM6jB7vRXVPTN+lhgthPsWR6Bh1KVH4Qlsyb+kSRoWu2cC5\n",
       "l8irFLiV8VkRJAobW5nWFEf0aSGhoLuLiU0Q4UKmUReDMTySVjIXe9Urns3AbLqPrEkarX5O3cD8\n",
       "lH2yY3TTek10Iq3aeQV3Fypd0aRwGV2OpHMjFG6lfRs49xLPmAVuZWhGD9IkTQ8a5e4EJ9l/qRgk\n",
       "Kld5uXE1CcN4ys/i2e1nK0Jkq1wZni8mONcajzZtkx3h8lLvDOOhsvIEvJa6Q0WM0hWvM4++VEqj\n",
       "QGlQDenMCIVbadsGxr2kB7oY/goUCUYrEEGqGacHmzkOtdZXNbgKv1aZ4N2vvYoeqBtZGeTfWkCi\n",
       "ox2yI61D6gf5HNerMi/CCflKEOmKV2801cApjXBMe9c241JvRINbyfUrNkjQQgNyL5lbwoNF4XDx\n",
       "4ZQepBbFVSJKYso4rl0qxOn2yI60zj8H4ZTwnvRLkY1NHAuMrjhgrkGlNFKanUR5WNNZaINxqTei\n",
       "wa0U9A9waSMNm5VYm1H2BNqep8iRsKUJJCuyI60j7qCcFd4rOzoNXXHAVAOnNDIuJGgMscW4bDJC\n",
       "4VYK+ge4tJEGyr00Aulu8BJIgxmdu7NFdsRBepymC7njPCdsUZCuKFAcDbcxKqVRL9i5EQq30rYN\n",
       "jHs5igEGPkp4nLcI++G0LnCwRXaEcgV2xUpVHnY8RVbstWoHIV3RCiSV0mgQOHRohMKttG0D416m\n",
       "8ScBtIGDz1tffeHhXSMIbSI7GhESI6nE7nj0cVUoMB+Z4QfilK4odpAppVHgQqqGGDMuLYwAhVtp\n",
       "bIMRZxO5l1LpeWC8Ss6tZCxj73wd85NqPxdakR2NCIn5zz54Cekl/n5tHyd6MrrigLkGldKopw60\n",
       "ZlxaGNHgVhrbYMTZpNxLur/EMJxzKz32dUzhi82atJAtQmL5N2Z3B+wk2ErNXEgnRvjr7dtAj0SP\n",
       "gMitVPKungGJJ4s1CVZbhMRn42Z3j9nQsM00wdquEYxb2a4N9BhOk2CNLfcYSFH1MchLaovsCI/+\n",
       "2eTmA9/PW2tYAwZHFR0bcTuMdGADHsNpjyo892MbfLC5d+hnv2CnNnEhOzaCcSvbLbioiQMU4Ovg\n",
       "NZD86kLc9eNzmrNMfMTH5zf+RGa8SpVWkNhnH6Ru/ZRaHj6q4jqlsZMy3HR8385PqXXrRwn9GVgs\n",
       "ordVaDwnLrz7P0aIZQvLi7vOAAAAAElFTkSuQmCC\n",
       "\" style=\"display:inline;vertical-align:middle;\" /></a><br>"
      ],
      "text/plain": [
       "distribute_through_subtract: forall_{i, j in Natural} [forall_{a_{1}, ..a_{_a}.., a_{i}, x, y, b_{1}, ..b_{_a}.., b_{j} in Complex} ((a_{1} * ..a_{_a}.. * a_{i} * (x - y) * b_{1} * ..b_{_a}.. * b_{j}) =  \\\\ ((a_{1} * ..a_{_a}.. * a_{i} * x * b_{1} * ..b_{_a}.. * b_{j}) - (a_{1} * ..a_{_a}.. * a_{i} * y * b_{1} * ..b_{_a}.. * b_{j})))]"
      ]
     },
     "execution_count": 49,
     "metadata": {},
     "output_type": "execute_result"
    }
   ],
   "source": [
    "distribute_through_subtract =  \\\n",
    "    Forall((i,j),\n",
    "           Forall((a_1_to_i, x, y, b_1_to_j),\n",
    "                  Equals(\n",
    "                        Mult(a_1_to_i, subtract(x, y), b_1_to_j),\n",
    "                        subtract(Mult(a_1_to_i, x, b_1_to_j),\n",
    "                                 Mult(a_1_to_i, y, b_1_to_j)))\\\n",
    "                  .with_wrapping_at(2), \n",
    "                  domain=Complex),\n",
    "           domain=Natural)"
   ]
  },
  {
   "cell_type": "code",
   "execution_count": 50,
   "metadata": {},
   "outputs": [
    {
     "data": {
      "text/html": [
       "<strong id=\"distribute_through_summation\"><a class=\"ProveItLink\" href=\"proofs/distribute_through_summation/thm_proof.ipynb\">distribute_through_summation</a> (conjecture without proof):<br></strong> <a class=\"ProveItLink\" href=\"../__pv_it/theorems/13db178d82427ad19120b6f3d3166c024aff7bac0/theorem_expr.ipynb\"><img src=\"data:image/png;base64,iVBORw0KGgoAAAANSUhEUgAABMcAAABCBAMAAAChj6wcAAAAMFBMVEX///8QEBCIiIhmZma6urrM\n",
       "zMxUVFQiIiJERETc3Nzu7u6qqqp2dnaYmJgyMjIAAAAcRTyBAAAAAXRSTlMAQObYZgAAErRJREFU\n",
       "eNrtnQuQFMUZgP/b986+iEWiiBYrKKGIyqrlG2EjZa4SHywaFBOr7opSLBMil5cnaOJ5SenhIyxl\n",
       "RZFEWaQUhJS7UVMGT8MKiVYE46plfERxFTUlRkBeenfAZvoxPd0zPTu7c7Mn3NJVQO/MP9Pd0990\n",
       "//33Pz8Ah1MDUqw0jBuntB/u4IMhnTysW3dJg+7rq1QO2Mm8egg8n+mVSrlR99bb7zt6WEPmkQ1l\n",
       "vhTNLKpUCgDThF81QjbQ+6SNSKTjUICstzfdoFtz7V+eGd4D9Weyg9303wt716lYhZL8rxoh22Er\n",
       "svhQeLLTG3drrv1zhrk2sDgnObicvb0tKlbKSP6Xa5D9DJobMr39/r5hDllAOl+OErD6drYBkEXL\n",
       "zQ0Z1/74cF9++ftlR6cIkHnLDYBsWbq5IePavyw73FfPH8gO5gs8VspAAyDrgeaGrEfySg/b9Ip0\n",
       "LB8hYPWc+5BF+pobMr79Rzi+y6IjO9U0plLJObxBuHYrcGQQ46102lJ2Cljlk65DFu9qbsi49of3\n",
       "OL5LGzaDKBeNSdZ54b8rt83ZopK5CpRbq5uS9PPXOW9tS1F29OUcj1W033XI2krNDRnX/tgOx3eJ\n",
       "7iL/euu2OR4ACB0N8ImKe8rmddDOPzaI5aV0lbesxGMV3u86ZPOguSHj2u8dhFV6O+2R0+td7+1T\n",
       "57+dEFMBSth0KjsfTTqupkeKQ7wsYLXNbciUvc0NGd/+4CA0h2V0Q+qhent9t/pnHwRVPWu6jT7H\n",
       "zisjXNFAuUr0CVhNyroMWWx3c0PGtz+RGsT64YCz60Jq/wR2w31q9gUbUf38h46r6R+Qvmn7BMjy\n",
       "RZchC+1obsj49ifwNBSefKr9NrlZaJ6zOSyhzlTLUjBOzX489tyqovr5DZwyOPYEe4VRl1H2SyXe\n",
       "FyCLj3AZskRXc0PGtz+P9d9vZ+P2L55ZKOhsadpWhMjNAHer/X8gl69mnODOb9Zhvwl+Z/tC8DLE\n",
       "WvGvbSht0ZeXGR6r6B6XIZtebG7I+PbjRZZyLHhV8GaRjpVckdOFxnEy/i8clT9p7qZT1TvepE64\n",
       "/WgonWU9IePz8JGafYqVGyzCj8HfxSpmBJPJHEcH2n3yp5DksfLtdBmyl9PNDRnf/ja8ddcPwSRc\n",
       "diYZ28qSAYUJwZW8zKR2J+UvImiMxHuG+SItV5bweQBUxzZW7lT1cv9pHaxihsRkIEjbuUt673wX\n",
       "j5XypcuQbc81N2R8+zFkLV2QVyePVjIHSsC5QRcSZOKOtk7o+DcSm8GmF2i5UjsDPk8qyso9Cvdx\n",
       "B6uYIeky+Vw1yIKiFvZTlyH7ApobMr79eLpUR4t1AFU6G3QhUb2mE+8l5tHPcMy/aePrWpZ2ujpd\n",
       "JkpozLEul5zHqVVcFvqq2veITKuwjiQ62cdMJtAnYDUv6ypkYTIywrWdB4sDQmtncQgh09pP0EGa\n",
       "Sb4A10eydpBhofOFce6vGmwSQ4h4bBpEdnBmMpRUxT+RVjW9apCh88q4gqD4q4vFiA1kRGaDfzxu\n",
       "r3x16dkvQDap5CpkEfomHUQe2OH2IYQswk8fCYR3KBm7ISp0NlJssMKja2hEqMh7Z4UXaNOapG/Y\n",
       "sTUbzgNQJbU1bbyfGSUCpVAKl8vKwhn2C5/3+lAdJrMbnwHK6Txkej31ymKZz57EE6bcTgaxfQJk\n",
       "7xVdhcyzc1CQPWCRt0lrrbo8O9SQae0nzxiVrMw+4d7jBciwYnODoKFhofAa/qmt1KaChGRO0I7F\n",
       "7lyqdnUfUd+RMr99b1KbAJVTX6LTWmeOK5SUvICefzSKjn+kD5EvvSpOl6yeemWxzF6iQvrktnff\n",
       "XgGy6e30Fwb13ZogqyLqHdAgi+OHUN9uuaK+kLF5X865/hycX3WkjbjmRxAw98PJv/78xhT2L7CE\n",
       "zEkN7ZKXf7NDnObUWsPF2jcXON1JBzRoG/sjszWMHiOfAr3/d7PmneXKjZgXY0+zMtX2K4YhwWc/\n",
       "RPiPIPWL9ctnjwMCZMvK9NdG9O/WmiCrIhrYrUEWRQXE61trxtGjQTbrW3M4v8VOnqomikk3njkA\n",
       "K/ansH+BJWROamiXAvybHR1RH2T5h81q/6Xwzdw4CBhqiY6hN4i0e8WYkab5KsWVGzUXVeTHROMG\n",
       "eQ2QebpmhI1N5NPnAmSJEfTXEtQfXTVBVkVUW3d3EIEl9XXRa/gtVR/AuiTOD9jIMz+C9cZnHFCf\n",
       "23sp/PgsIXNSQ9vXpE80d7L0VA0X/y1qUvuVBdANm/3PGSDrJrq6QlEKX2u610KuXPMmu8KwmgFm\n",
       "V58avmkMJa/w4PZaGPPGCJC17KC/0CsdLdQEWRXRln6mk6GhbmN9XTQfL0XS6p8iyvv67ewQ2rNf\n",
       "Tv99s7MTv9yvt6hnAinsX8BDtlDQyRzU0C618FXmNvbuuWW2/cWP/NOk9reWYaSqaQcNkKFjaNK6\n",
       "saenG9TxL2+61yquXLNGEGO5CcJTIWWfuTdpP+cE8P5l3kLbGJMTIOunv2Ivrl59X22KfxXRxA4G\n",
       "2TurVz9an/4fxuKLkGEljfJRu8uZH0E8jf+ZNZH+Ti2hr+uHImSzBMjqr6FtSgjrotsc32fl6zNn\n",
       "zvz+sy9UStAPo02QoWPvqiM+blovwOXmZ1mjrtmtducgrE3rLK69RbCMBfu0X1/29Nxc4+rSWpSD\n",
       "LNHTc3uxvqUZHv1VnTG8C+fjs8dVH1qZHwGxGymanqi0XwZsKc9DxlQVDFn9NawTslcc3+eUr9GU\n",
       "gwWxLgRZ+A5YktP+Uo+Ff6A+438g2bNAucOpCvndQcZRsPpUxgqya/C4SToaL2qPS1pBRkR9i+ae\n",
       "hRY5nMGZhyyQgVBWZq/2bRN+XrXp2Yy+0sGunU8VcT6/VenTdmulq0viR6DWNVYWFpnh4vk0t1mD\n",
       "zNuJ0y4eMlLDBkKWL7hwy8s3AYLMPxpmZP2j0F+j8TEUcyKECjh78ganq5fA84Ns/2iL49szPGTx\n",
       "PdqvaXiR5ielorPaHihcMTnt+QYPGRFFL+oLIBicech8eHEns1dvEJBLsR2VICrVs3fThokkvy4H\n",
       "O+lurdwMRvwICpqqGmJzRep8Xe8VFP/IpxxkpIaDN8Dede1sOWSeskvsoukyohdIRm/0tCb0dMNX\n",
       "mDxWPrWLBMhCDLIgeMR5HJt0lWdOK0W6XoRzeMio6BxVQwfB4Az5EboxtgNOkturtY5G90bPT4Oj\n",
       "BVEd6mf5KWhrrMp6mvoRoOEP9+0MtIFWxva2qzSDknF1+dhIzhiLaziYhFqgzMr5/2dsP01fd6cv\n",
       "/ZPO5S3OJOey8cXZOsdK81uUFiDbrf2KloKiIDbtvLl2NURe9TLDCoaMiv6KfMmqG5xFyF7Cmplk\n",
       "PNaW+ejeSCDCQ5boYPkt4BuoBpnuR0Ag080RWwMWkIXnZjnIXhrs9hdqQeyPAM9YQLbZxQ4tibn7\n",
       "H/zqGbMOv2YFWbisrlF8eNuTbJuiPVAcbCrywyuTAmRYFFSFybPAYHDO69MlPOhvB5m92r9zfI5O\n",
       "lIiUY9LAT5dtKZbfj/ysqkCG/QhwXYlQi25ww5Dl8ItCdbJtJGW56ZLUUDn1enMYohXj2VbL+rHm\n",
       "kukx3IIL/oLs8ob2M3NSw/r3nbO/esbCo+qFDBZerY5RCdT/ZNsU7YHirZdI5sXXBciwKPj2nbjR\n",
       "aHDmdDII3ZumtmnDRL6ArC7iZMY55XONMqz4T0qz/G5YXqoKGfIjwHUlir+XdWnoeDWLTmwWRzJf\n",
       "mVf8SQ1XZtpME4/ySxZKJJieYVaR6DHcgrffslT81fvAcE4rLRc2Voo/PKF251JsmSbbpmgPdAWB\n",
       "LMr0dwIZEtXD13AGZx6yyJnUNm3YFAklVSbUleAK+vteDSNcCPX6Q/mfwG/IICX6EbAM9iPAdfWS\n",
       "d+AmfWl9V25NTw77F/CQPZYTIMM1PA2uAGMVvSl/B920OQv8pl0ddAwt3nELnl5rDRncN6xDrtwN\n",
       "dUOGP67pZuMI3gO9oqenJxnJhEsdAmRYNETAEwzOPGT4I4ORcIZxU6Ql7cX9ju+tZEDROgbxNKUy\n",
       "m+VXnFiiM6HgR4Az6AjxM0B1jZMJ75HfaiX5p4z5eYaYYnjIrhGMsaSGo2E8mKpYQJEqc3SRbtrV\n",
       "QQv3J7QW/GFmFcjCwznUopK2PHWLAFlQhyyG+q0fn0XqOt4DDZCRDC5ICpAhUW3nUDA4c9tK6kRC\n",
       "bdMGe3UiRwon9y6An1Ewn5Oaz5En8SPQj6C6rqT5i27vFKwGyL+AhyxrgOxtrFnevdpYxXw29HZO\n",
       "X6UYDe7o2LlaC7wPcR+ItPTD4VTFGEv6rlwM34G2TZfk8B5oFDEXS0NM1MnIyk29kSosGJyDPGQo\n",
       "mezVS3LB3JsQewfIvb1dsIp14WtcNbU8NoGZ/Qj0I0g9Wm/R1qob5DSN8u8uGavYkm27GB5PomMf\n",
       "gtdkcEfH5l+cIi0IT87o5QcPQ4aTxQY5ffXnIoMyTIAZBbIHityGWj+ku2QCZJ7t6vpGFRYMzqE9\n",
       "BshM9uoZBf/cIvwejT3o3t57Np2jX81pMDRPdmvNfgT6kQkyVx9NBwN7yL7zrXElYxV9sx8/D55M\n",
       "oWP3nDTRZHBHx45dWqJOX3/adlvG2H5+oeU8CtQDg+3rOgJIWXp+OrqwIkCWECGjBuVuZvryqFoH\n",
       "f7XRMzZisI8OGCAz26vJjadJ7o2dFmV5iR+BfqQbrDeHFkKNnrGyKgYy2jGJwd33QUrWAq/ZO8lx\n",
       "FCjxEdSVag8gpXuGBpyuUSQXKl8IkOU7TJCtRdumVpHRjJAZMKZfEJghY3L0xhttX93aXmO8xfuW\n",
       "xclYth7IjFVc6dOOCWdJzpPcKlu/e8wfVjiPAhV3vjStPYAU8wy1nA5s3wXzhX7xS8u2LhNkJbRt\n",
       "GoPaIDOMMZF9ZsjwpgiTozfeCu4k+y3eWiCTVjEwkR4Tz5KcN/uObG0VkXxR7TQKlKCi1pfqCCCl\n",
       "e4aud1qa+UL6PY2G1bqUCbKqyeZDEv9eyUgm6fj7yzBUaUg/JPFLImc5jQIlLLbrS3UEkNI9Q5c7\n",
       "LW251YDeoE/igH7b3ln9u8vYhiEzUrZ2DiVkIPm232kUqLDzjdU6AkjpnqHxtMPSzBd6xRArUzPu\n",
       "QnbLIbLGbhRksvY7jAKFN9/u2XCc/arUJFRHACndM5T3ylo/1t6KzGTM7lw0RJGG1XZwF7KpmeaG\n",
       "TNZ+h1Gg0FaGbxTqIX/1ZSYR8nBdbQwgZR3bh3iG4i2TmK7C3FcIlatdpMl4cHzvmEn30VxpKFZf\n",
       "uAzZulJzQyZrv8MoUMgRZXkJbZRSx03JkIa3GrAQdTclMoYAUlVi+2DPUGKWwWZvsndxMwQK9CLZ\n",
       "OJrTZOAXALKvm6grDcXKv8tlyPLtzQ2ZtP3OokAhl7qpOfRfNflsYzlp/58TlTEEkKr21ecUFnwT\n",
       "O+XhG3rxYqDVqlAt2hXahWQXig0u8Fh5BlyGLNjR3JBJ2+8sChSC7ChQ9tQQy0lhE/IN3PxUSwAp\n",
       "4hmqQ4Zv2NLFIJMVqkW70ipmhoyGAKdYBXa4DFm0r7khk7bfURQoNF2qgwz6fsI2lpMqRNxNgZ+f\n",
       "agkgRTxDHzoX+FKIU7tttCuk8l/aLqveUQJkhFkXIQvvbG7IpO13FAUKKf7KAATKa+0gw0LE3VQ3\n",
       "k6FUQwAp4hmaukTQ31UyoWADGZaJ/+d7/RLF3yf+9xDTSy5DBv9tbshk7XcWBQrj1w1vtBftYjlh\n",
       "oaVcIARZACmJ0yf+C3mGKtnngXl+olw7rMjYRLvCMgnsoKdfSFNA/I9u5uXchuy9THNDJmm/oyhQ\n",
       "ZBZ6ZOyVs9N2sZyIkP5tnDyAFAoXpV+NVS3k+Yk9Q7GPa1yv+aZ3k3bRrrDMjAkF8ULappQA2S5w\n",
       "G7JEsbkhk7TfaRSo+Txudom6m4rLAj6AlB4uiiXd8xNpkisNZ2sIRDTBPyJrvpC9aASr2B7XIYse\n",
       "3dyQmdvvOAoU2yCvIcwOcjc1HWNRGfBUaj7PPD/96Es+4z53DYGIuv0dSckGuRYigGBl+J+W3IAM\n",
       "jmluyMztdxwFSnOTqyXMDnI3NR+k8XpwbB/FfA+2Ze/pMnvs1BKI6BOYnTG7+vj2CJBNz7gP2Xu5\n",
       "5obM2H7nUaCcOy1qaRU/rJlPs90J9H2o47AgpguZCxvBagu4D1m82NyQGds/iChQQ+V+ffXinLXn\n",
       "p20yXfjnHI9V5OgGQObva27IjO0foihQg0lzr3P1dscCjxWLl+EmZPBGc0NWpf2NjAJ18KRAuwDZ\n",
       "HGgEZIFUc0NWvf0HaxSoRrxkCKtYhwPIKhVbR89PDwXIKpVyo+5drf0HbRQo1xKLwrKoUlGxWpzl\n",
       "f9WWlN7eJ+1kHj4EHsWa3t50o+5t2/6DMQqUe5Bpi80Le3vVl+d+4dfh9FWlgyEK1JCk/wPCznxZ\n",
       "HZ3JkQAAAABJRU5ErkJggg==\n",
       "\" style=\"display:inline;vertical-align:middle;\" /></a><br>"
      ],
      "text/plain": [
       "distribute_through_summation: forall_{i, j, k in Natural} [forall_{P, S} ([forall_{b_{1}, ..b_{_a}.., b_{j} in S} (P(b_{1}, ..b_{_a}.., b_{j}) in Complex)] => [forall_{a_{1}, ..a_{_a}.., a_{i}, c_{1}, ..c_{_a}.., c_{k} in Complex} ((a_{1} * ..a_{_a}.. * a_{i} * Sum_{b_{1}, ..b_{_a}.., b_{j} in S} P(b_{1}, ..b_{_a}.., b_{j}) * c_{1} * ..c_{_a}.. * c_{k}) =  \\\\ Sum_{b_{1}, ..b_{_a}.., b_{j} in S} (a_{1} * ..a_{_a}.. * a_{i} * P(b_{1}, ..b_{_a}.., b_{j}) * c_{1} * ..c_{_a}.. * c_{k}))])]"
      ]
     },
     "execution_count": 50,
     "metadata": {},
     "output_type": "execute_result"
    }
   ],
   "source": [
    "distribute_through_summation = \\\n",
    "    Forall((i,j,k), \n",
    "           Forall((P, S),\n",
    "                  Implies(Forall(b_1_to_j, \n",
    "                                 InSet(Function(P, b_1_to_j), Complex), \n",
    "                                 domain=S),\n",
    "                          Forall((a_1_to_i, c_1_to_k),\n",
    "                                 Equals(Mult(a_1_to_i, \n",
    "                                             Sum(b_1_to_j, \n",
    "                                                 Function(P, b_1_to_j), \n",
    "                                                 domain=S), \n",
    "                                             c_1_to_k),\n",
    "                                        Sum(b_1_to_j, \n",
    "                                            Mult(a_1_to_i,\n",
    "                                                 Function(P, b_1_to_j), \n",
    "                                                 c_1_to_k), \n",
    "                                            domain=S))\\\n",
    "                                 .with_wrapping_at(2),\n",
    "                                 domain=Complex))), \n",
    "           domain=Natural)"
   ]
  },
  {
   "cell_type": "code",
   "execution_count": 51,
   "metadata": {},
   "outputs": [
    {
     "data": {
      "text/html": [
       "<strong id=\"commutation\"><a class=\"ProveItLink\" href=\"proofs/commutation/thm_proof.ipynb\">commutation</a> (conjecture without proof):<br></strong> <a class=\"ProveItLink\" href=\"../__pv_it/theorems/e0ec5f7814261ee8262d36663e757bd05e2ada9e0/theorem_expr.ipynb\"><img src=\"data:image/png;base64,iVBORw0KGgoAAAANSUhEUgAAANEAAAAVBAMAAAAqbRZ+AAAAMFBMVEX///8QEBCIiIhmZma6urrM\n",
       "zMxUVFQiIiJERETc3Nzu7u6qqqp2dnaYmJgyMjIAAAAcRTyBAAAAAXRSTlMAQObYZgAAAsFJREFU\n",
       "SMe1lU1oE0EUx1+ySZNssslFEAQhWO3JQ6hHvyIinqTx4MfNEhQvKrnYg3qoCJKgwp5sQQ8bc7AE\n",
       "YRfFQ6XQ0h4ERcmxKQiBYMEqoRQPGj9w/juzm2QySfXgg382O/N7eZl5b94QbW+xGpds82pUhUEN\n",
       "vHwYGmlOqMv02wWiEVOFzu2UxoBBb/GyMTTSJ6FuS2ZYuIYSbUpjwKBZrHl6WCAjw9VjKYd9LKtQ\n",
       "+iGPLnMlLaKEMyxSxOTqsQnmRmUVGmrLo2Uu4021OjN082aEeuy1u4VZBZooyCww6FuxeGtopFGh\n",
       "2KHxXf7g+p6D7EczCjSZH/W3iLsAgy4RlbyZUEsR6YHQMTO56Wf5t2WbZLgl8b4Fa3qovaF/9zDu\n",
       "Agw63l1DK96X+P3LefH1Jpe+mzRUju5OtymVpri8UUAXLdpiD+RRuACDIhTsHLfPmF84UNPPW+Ev\n",
       "YmwHl9amSBr/Gf9La5C9ROFNKRLQI6T/xKLJdwEGJWqRDop1r85XyXhMtNAbKTBNdg71NcmP04Sj\n",
       "jtSkEOp8inwXL1KscZYNVsY+ss/w1pgVQppPvGQTvbvH1rDYOU41OmpRqNDJ07qH/sJSuAkXYC5a\n",
       "usgWez2M6eCNYCYJZq3eVxG2Q9fi3rFKZVkOREVIxfOVyl42hItXEfSChdMyYQSNpo1GBcyrru65\n",
       "wsXmphJ+L6tF2dK1JSkS0Kt0x3sVLsBclBURBZwgtj+Q1SbPFYvF9KMzHfeTXHp+38O9fpWPv0O2\n",
       "clIkoJX9foEJF2AuarCCtM3oGnukrIAzAkZ7Isp5UDdy7amqG6kxHw2YF07RrBWxVimRcw93zu+f\n",
       "yg7rt87+DksDOqxoDvnnh+m0E77CtvMeBp617vpbU6KuNiJdB5INwmSU96sgy9N2NyFPuPImVGIS\n",
       "Gjf/7Xav/93tXu9HDfqf9gctj9paAgnMQQAAAABJRU5ErkJggg==\n",
       "\" style=\"display:inline;vertical-align:middle;\" /></a><br>"
      ],
      "text/plain": [
       "commutation: forall_{a, b in Complex} ((a * b) = (b * a))"
      ]
     },
     "execution_count": 51,
     "metadata": {},
     "output_type": "execute_result"
    }
   ],
   "source": [
    "commutation = Forall((a, b), Equals(Mult(a, b), Mult(b, a)), domain=Complex)"
   ]
  },
  {
   "cell_type": "code",
   "execution_count": 52,
   "metadata": {},
   "outputs": [
    {
     "data": {
      "text/html": [
       "<strong id=\"rightward_commutation\"><a class=\"ProveItLink\" href=\"proofs/rightward_commutation/thm_proof.ipynb\">rightward_commutation</a> (conjecture without proof):<br></strong> <a class=\"ProveItLink\" href=\"../__pv_it/theorems/6df570a107693375245f874ab2d6937ae69571d40/theorem_expr.ipynb\"><img src=\"data:image/png;base64,iVBORw0KGgoAAAANSUhEUgAAAu4AAAAyBAMAAADxUEOEAAAAMFBMVEX///8QEBCIiIhmZma6urrM\n",
       "zMxUVFQiIiJERETc3Nzu7u6qqqp2dnaYmJgyMjIAAAAcRTyBAAAAAXRSTlMAQObYZgAAChFJREFU\n",
       "eNrdXH+MHFUd/97uzf6Ymd27oEFao1mutl4w2Eur/Gqxi0QbTWx3NaFUorc54Q+RkPXXCXLR7fkH\n",
       "Wyq6pIa2JMJiA7XX4K6IwUsMrD0psVDZQIwWKVzS1vgj4kHvGm4R6/s1M2/ezOx77LW7mXvJzbyZ\n",
       "+c73zXzee9/35vM+ewBqqe/cuQb0Mv0ewp/0At2/cO4N1Vv6pvdVe/nIZmMZ4A5b6O7gvl8q457r\n",
       "7ROvWQ6wQ2qWZfIhwd0YtLM/DQnG034nfxgy3B/O2jGy1GFs3VFc8lPc+B4FI23HCNnHKm3eIyy4\n",
       "/8DOpSsdukiPLP0x3lYxGqjTip5t029DgrvRsrMvdeqDwbGU1N9SsdrKJiCH/S5OhAr3uNNW7+zU\n",
       "x9alz8dMpVD1rBVT/C4+XQkT7q/ZwSXZcZR+dumPoRaqTlrW2eAWFBLc77BzEfzcu2culTde0ehv\n",
       "Qxucg8ND8vcxh1a7HR4elYeq5MbV1iBg+tVSqhUi3LV5O5toojC7Av6DTraf2FCjiP3u+v+qNbvX\n",
       "7KknZuFGCYJ3wY9Qo81xDn9clZUK11USLYhcZE/WzddJch7jzRDhHnVm73HU5B5uwlWgracRx6fh\n",
       "6yS6YiPQKpYNGpoHMpb9BMTqX7jSMRYSsYk34GvoNt7hJ6Sl6h+AKIL7W2Qy4BsSXw8R7n0FJ4uC\n",
       "5qYqfAO1vyJtxl7zGm5o1AhsGwRHrWHlSWff7BgLCBKfm6oehxPSUpFnVF868a/N+b3L2kp4cB9t\n",
       "unC/BPQFCwEY9xm7cDVRI7Bt0Ji4tc7yfSUH93jB64D4vMTrcF5aKvJcyzIjf9wfaoYH97UVPs7o\n",
       "/wVjzkYg6POUGPU7tM5A02nBuOFbuLdxgNLPNrgdSkrFnp/GI+rnC8yUxfeC0HfDgfsO4MdV/W2I\n",
       "zU7LcCdG5oAdLAayKPY6dQB1Ce7wDg7uI1vcDqW41+F2o5L+62dbHAnmSolieHDnujyenE3CnwsN\n",
       "HgESbkl8daI1MXrgSdsm1kzYk4poAfbneNzte7nAfQXoH9crR8Dl0FOqUzRFNZMaN2HgFlJKw3d2\n",
       "OkdxJ7ecUME9TSZHze7Drp/hpofovR8d2j6WdbW8cSu+OtGaGk06TtYdc+yfP5FxxRnnXidwm8de\n",
       "RNt7we1QLNUpmpYytvr+D0F+GI8kad+mmlqguD+Hd/9Uwd0kzqrdx117kzu4k68BaY212nTTzSpl\n",
       "L4qfBSrfy8PaIBqRDrR5mTzsxZ8IJRXcidXeXrBiPA1o82KGAgLGbCP44pMqVT4oelTBfVIrZgJ4\n",
       "MdZ586QBm3UV3EmveK4HuKcW+HGJzW2SV57NyNv7bcGs8e7vj8mLjggtUqlU+AeM5fx5YJTOUtxT\n",
       "R6em9qiNq69MTR0s9gD3CN/ZO1336CwlMp3fGlDlb7H5zFvl8oQa7gPl8t2NHuBuumjvbq7z3Xxf\n",
       "58PZ8YDzH2S4oznPTptAOo3+Ls0E4B7LBVaik7bMKjEuCz4nNwUMgtEW9Cjd9tXz7/N9DPfrSSSi\n",
       "BBLgQB/PMottG7ORiznc+0fgF/LGqcRR637f0DX+4DdHxq36j83BMkpfZ7jHIeKek9dw39J/u75p\n",
       "lI7CNfx3UxEul7pNKy2nGX694im2PzRzLTxyD3y5saxxN5txn3ntX6anwHgxCg0e92MgH1YHlNad\n",
       "fXvFDJu+7HqgCscbYDR6HmcuRPoOwz05ewMwAklfhRvrjLYGhxTUKG/annHh/qBWwB9+t3vj8P41\n",
       "p1ludOhWvDs85C3RPqev+6i3V+wf+hfNXI8/T25CZVg1aC4uJ9ytcRV23oxejRBI0X7c/f/9RK1K\n",
       "OAEjd/RPLtwT96PQfyA3WoWYe5zXv62hNklix4erq8gYkRdtyDkgA1WgC7xmQNykHuO6TcQ7CCeb\n",
       "4QDZ8Pb+iy3cf4WCByWQDpqYaDiLIN5PcTfteEBwN/ASzXrYBtrv3KBFR7QiW4SZhFfR9irQRBt8\n",
       "juXWo3J9XAyCgYrTSVc7xD1wat7z8D/vJj3kVjxZuqT2yZI4eSdEZyzcyfIXJZDw6qV20S40lSmX\n",
       "yxkjl2wWedwBcwvvx1rFuBu0vnrEoobeC1cQI48NOWflAlxEUfjR7iiXJ5O/5mKZMe/zRdjFJMgI\n",
       "1IQ4jNvwTAApr49xT1VtAgkPipFSPgkx2t7hUxkX7i8jy0W4d0oErVZJvFx9nNi2CL6LPrjjcydw\n",
       "3Ap2Ef/JSwCkBq/JOIuY2jse5mCkm7gLQCsJcSyJk5kJ4MVsAil5D6HJqonMtgiYGOZUFlKu+E7S\n",
       "Cm2+iUHbW0V3sE1fZfRz8MQIoIPvpkpoewqi2MaxoOeSXyzicyu0hab7MnHxJeg7/hjAM4Q9eYZ7\n",
       "5DPiW8Ur3cRdAFpJiGNJnPRBX5Iv7xBIGmqnw5Cvpyux1QC78ITyFGt8Ltw//ZFVBLR8XVsB+Qre\n",
       "1PvHHr8Wf84iHzc8j7e7L78M26Actaiwc2iehHKWC+cyc7EFj8kJ3Lz0P/79FvtZvye+1Z5uwi4C\n",
       "ffJdxaZTYoUs8riTmiBRnvWpCIrvIk/AN7iqbQlW7kA/kz2wLbYxeO9AmU8DfC5TF0PpQ2g7XJ4U\n",
       "CATxrXD1JDeuWyl9fY+RKEbyTYKqiVc8cbqkNomTOM0Il2JzIu7Tsc+s9Jv4+OCurd3AWbJc7DJL\n",
       "9D1t2XAicJrDrPM0eC8zF1enfH9O85oYUfEq0HWVNHoFifiIGq1yYMNiJJn2iKia4LQ9EvKKJ6JL\n",
       "kpVKJU6U53pVBLIk4t6MHalAClRwJ2ObTw6a3NYnt+9B1zknm2r7Hh593F1UIVQCifiIGsF22waL\n",
       "kWTaI6JqYj0Q2/CKJ6pLkkmeiMSJ8Vzi6spDGRF3KQ+89PTK1R3dxumWrMkqUQhlZOIjZuTYECmH\n",
       "XHvkduJWPKGqU5A8TTCeC0YFizDplqJzXtyxQignEx8xI8eGKBPk2iOXE0HxVMsqSJ6wxIkaibjf\n",
       "DeHBvX/eG2eoQkiyOE2NPllwf7TItUcWVUWn727Fk7xUJnHCPJfXNEy6VPimd1ylCiEZ7sSo4QQO\n",
       "IkaS4E5UTZSqosec4kmpVCZxwjyXZ1yNhEmH7ZnQzFgKIVF85GiJKO+BjZKHHJyxGEmmPYpiVROl\n",
       "qug8jVM8+ZcqSp6oxOksgWyj71AVEtz7Gu7jzZZCyCM+GndFbmrELU4TMZJEe0RVTQl7rsUrngJK\n",
       "FSRPROJEeC5uOkpTuH5nY7SCeAIV8VHtEWG4UBFFtF2/USmV8FygF30/dsPyO8qTQbyYivjoKVOo\n",
       "RRXc2yKjUirhuURezFgZLtzvE4rfaX2Qq4iPHv2DmztQ0h4Nt6MBVEqlPJfAA4ftd8NiE73w6x6T\n",
       "58fNTvfhVyBcuJPFFL7NXuB1PkxVnY+Uco8SqdK7xr3H/wcllulucUcuCMPfwf9B6fX//fkYhD/p\n",
       "t9L9C+fe+D/hzhmxW3WlLwAAAABJRU5ErkJggg==\n",
       "\" style=\"display:inline;vertical-align:middle;\" /></a><br>"
      ],
      "text/plain": [
       "rightward_commutation: forall_{i, j, k in Natural} [forall_{a_{1}, ..a_{_a}.., a_{i}, b, c_{1}, ..c_{_a}.., c_{j}, d_{1}, ..d_{_a}.., d_{k} in Complex} ((a_{1} * ..a_{_a}.. * a_{i} * b * c_{1} * ..c_{_a}.. * c_{j} * d_{1} * ..d_{_a}.. * d_{k}) =  \\\\ (a_{1} * ..a_{_a}.. * a_{i} * c_{1} * ..c_{_a}.. * c_{j} * b * d_{1} * ..d_{_a}.. * d_{k}))]"
      ]
     },
     "execution_count": 52,
     "metadata": {},
     "output_type": "execute_result"
    }
   ],
   "source": [
    "rightward_commutation = \\\n",
    "    Forall((i,j,k),\n",
    "           Forall((a_1_to_i,b,c_1_to_j,d_1_to_k), \n",
    "                  Equals(Mult(a_1_to_i, b, c_1_to_j, d_1_to_k), \n",
    "                         Mult(a_1_to_i, c_1_to_j, b, d_1_to_k)) \\\n",
    "                  .with_wrapping_at(2), \n",
    "                  domain=Complex),\n",
    "           domain=Natural)"
   ]
  },
  {
   "cell_type": "code",
   "execution_count": 53,
   "metadata": {},
   "outputs": [
    {
     "data": {
      "text/html": [
       "<strong id=\"leftward_commutation\"><a class=\"ProveItLink\" href=\"proofs/leftward_commutation/thm_proof.ipynb\">leftward_commutation</a> (conjecture without proof):<br></strong> <a class=\"ProveItLink\" href=\"../__pv_it/theorems/b5fd6d2d285c92207408f7c98e2d8d182a8188b10/theorem_expr.ipynb\"><img src=\"data:image/png;base64,iVBORw0KGgoAAAANSUhEUgAAAu4AAAAyBAMAAADxUEOEAAAAMFBMVEX///8QEBCIiIhmZma6urrM\n",
       "zMxUVFQiIiJERETc3Nzu7u6qqqp2dnaYmJgyMjIAAAAcRTyBAAAAAXRSTlMAQObYZgAACe1JREFU\n",
       "eNrdXHtsHMUZ/3x3e+fbvYcFCEgQ1cUmEEFpLEJ5JQRTVKxWIvhAIgRUbLnwB09dXy6UCBzzBwcU\n",
       "uigVJEjAhQiSOII7XgJLiCwxBDU05QSq2vAIlhKqQlVqiB3hc2k6j93Z2dnd2/HZ8Wk9ks9zs7/9\n",
       "vt3fzn4z883PBpArLUePGtDM8jaEv6h99Pf7R7+WPaVlZHOpmZecMhYA77CG/tqx+UVp3nuae8Wn\n",
       "LwTaIT1mVvIh4V1rY9Unw0Gxpnu1/j5kvG/pYjFysMHYuqEQDNp+Ut3D1x4v4cgC3VzvPsLC+32s\n",
       "ltEbNJHplAAdrH94WsaRCXqh3nsbEt61Gqt+2KiNbEWeM58Sq0mYsECpnNfR9aHiPWH31bsatXFl\n",
       "SZ4zv0mVRKhiILXN6+guPUy8f8aCS7LQqI13Z8DZbEIVAx2q04NCwvudrBbB171xdElw5xVB/2hf\n",
       "GcxZf4czGqXal9oGd/cGhyoONOo5k6yFiHdlglVbqygaLIL/oMb6ExsKirAeqv6vVNbh2vqOyl+q\n",
       "U4h9dq/Ju+ERzuAfShJeEWgJCe0HyIP7ihT7Mr4JEe9RO1QmUG/aUoULQFlBY4JHx1fJjA2DQNEt\n",
       "DBqas7mrz7cBQiF2dpUA8aIxTMKAWzmDq2W8rkankdnia5738lWIeG/ps6voli4pwS9R1yrQbuzR\n",
       "a/GqkIKAYaJjUDag2wYIrBE7q0H9r2CEr6+X8YpAZXJar+e9LNfDw3tv1cH7yaBOWgzAgMfYhR8T\n",
       "BQHDoOHuyorJe6LPfdIAnb7Hpp1GHAYnZLwiEPXizfvT1fDwvlzn4wzqkto4Y8BveUpAMTutk63i\n",
       "zthd39F3EK3BMys5I4JBKa8wqmC/3Vx87xPe3XDwvgH4cVWdhvjYSBADBJTKskCc7VJPhSDeJ3CA\n",
       "7lzDPQca7JlBKa/w71dwpDngCWkthIf3k7mJHZoZDMHf+gyeARJucXzl4i4BPWGPbfFqa6eDdxKP\n",
       "hZNuh/tA1few7+eB+kOHQU+v3HhBQUcIWau8lwjjlHdyyqcyvGfI/LM6/7Srh7mJGrrv59rX9Xc5\n",
       "et6AFV/tuEtBQ7aRc/aBg3eCF07a+n18ew/bJO37QDDo6dUeLwhIOe4hXP/c82bSk5T39/CvL2V4\n",
       "T+EFQaY0/7wr33Bf7uKfQOATqwmvabeMv6l6E3QJr5HBfBL5LtS5mTxswsuDQRneCWpTM7JifLaK\n",
       "5cU0CQa0McPZ8JrMY26rZ1HCa2tubcQvL2a+vHnSgVMVGd7JW/FeE3hPT/I3Zc5tkucfyQX399uc\n",
       "WeON9/bLdFf/Y1JeM3p8qU8eGJUjlPf03uHhx+XG1U+Gh3cUmsB7hH/xG933kC+tuTkx84BP+7fm\n",
       "fObbYnG9HO/ZYvF+owm8pxzZ2WO9z3fjo3MyhKX99me+Z/J+E3k0ZgIJj8FLcj68x3vYW+5f1ozJ\n",
       "tEUnPU69xGeuGq3N51O+7eZja/8kk/fLQB2zEkiAAz3N6qCydlVX5ESO91inb9ByTrCD29Rxr2wg\n",
       "/+X1PQPW84+PwwIqvzB5T0DEOScnWR31jRVVbXAvXMSvmwpwdvCgUpFp0zzeCnjT/L1z9GJ49kG4\n",
       "wVjQvKeqCY857t9HhkH7IAoGz/s+CB5Ws7pMm9dbYW0UpB96ogT7DdCMpsSZY11+a/KeHLsGzASS\n",
       "SnZbcFYnhnnRrl+Xc/D+lNKHF353uOPw1tOt1Vlv+y2uo1zb7naydvyB+63Y2v4vWrkML0+uRz6s\n",
       "p5WaWki8W+MqPHAjujWSQIrG8OuPszokJ6D17P2rg/fWx1Do39bTW4K4c8xXf6OgPklixxmlDvEo\n",
       "aaN6kkQX9uhrIopN4J/089wrEnEPwslqOEgecTedaPH+MgoeNIG0I4UTDTirs5XynmLxgPCu4e2a\n",
       "FbAWlLecpEU7lYK5CTMEB8SjuM2sXQAKMZH3MtEGGnKnkldtJ8d7esJ18dvngJMAkZIfRtkgsbtt\n",
       "geLuqHvY4j2bI9SQJQPqRiSrs7ZYLOa0nmS1wPOON8HgFKxVTDhJa6lErNTQCXCeeJS00XKK+elj\n",
       "IorCj3JnsTiUfJWLZZqb9y/mojMebAwjJcQxQapr/kBz+pj3dIklkPAASLI6cdrf4cc5B+8fIeQU\n",
       "PDwsklbWWz8qvUSwNcSqyDtu+9RgKSd/E4k/fghAnuBFOXsTU/nOtSjpnAvepxvDyAhxGGi3X16M\n",
       "JZCSD5I0WYlkdVKY5nQXpB3xnZRFykQVk7aphM4wP1r03ivglU5AX36XHsRH7WO0LXldAbcdgij6\n",
       "XKRMVp0gYuJn0LL/eYB3SCblHS6xdFi8+IQ+B7TLqL+8MDJCHAba4p3ky9sJJAXFgGWQr9CsDs4g\n",
       "dx8yO5+D98vP6iCk5SvKIsjr+KMS63/pYrycRTau+TMJIahGj+lmG5ohodrGs89En5YJG2SaWNOB\n",
       "gx1+RdW//PMmdq33iBf/+Fx0dxn1lxfm4ExiWKZLtDjF806eBInyZvCKoPgu5gn4DldiSLBq22LW\n",
       "rhg+qvF2geY8Ne67AKIm2jM70eey4pCQQBDvCj+e5KpzFgfevgvECZFcIiWvVaCISa5aOi3hlYFc\n",
       "C5X4uMj7SPwni31k2yLvyvKVHNKsxc805034KDeDojWcbx7hvjtBpokL055/TvOZGFHxjtClegbd\n",
       "QoAQiYI6bEY4IRIRKQXokEQhEzLYWpPwikCR48hIJA6sLYMi79X4Hh3SIMM7sehRg6pfbfNTrK3q\n",
       "AU/XvQ+XPu5uFIhOheggBAiRKAjWMQwvRMIipSAdEidkYgbHZLwiun9NOpQYqJ7OibwH5oFnUz65\n",
       "cBYnc7ola2KKkweJHAQIkUyQjeGFSESkFKBD4oRMzKAh49VAU0TyWou5pTDplqLjbt7R+1rugQAh\n",
       "kgmyMbwQiYiUAnRInJCJGeyS8WrtgLt4vx/Cw3tswh1nygbsgqCNagr6UZ9z0WIWIlIK2KcWhEwz\n",
       "8ZrqvKrPYx88TLpU+JV7XC1X4A40GgcwQEBGjePRnkMRkVIA76KQaQZeMx//tOYeVyNh0mG7JjSj\n",
       "eBc0PZByCZFsLRHNe2BQcqfNLS9EwiKlIB2SKGSq49UeIygoS9YfUcNzqAoJ7y3C1aP7VvuXPnaa\n",
       "W4g04Ii7FMRtVPNCJCJSCtAhiUKmOl7tMYKC8suI3kjgLVx/Z6PV/PIEMkKk8rN1hg4ZgYQr/y/j\n",
       "dZnShq5ym/c6Nix/R3nQLy8mI0R6M1XniUrw7hYyyXgdUgo5V15MWxwu3h8V3FviFCkh0nN/8l/R\n",
       "y+iQXEImKa9fQH+PKw8ctr8bFrvl9vl0Pgshk6h7+TmEi3e2cWL103nc55uNkGm/EB8HZ8x7k/8P\n",
       "SjzXNNdzKGRq4P+gNPv//pwL4S+qKat4/+jX/weyUDHM2BIEGAAAAABJRU5ErkJggg==\n",
       "\" style=\"display:inline;vertical-align:middle;\" /></a><br>"
      ],
      "text/plain": [
       "leftward_commutation: forall_{i, j, k in Natural} [forall_{a_{1}, ..a_{_a}.., a_{i}, b_{1}, ..b_{_a}.., b_{j}, c, d_{1}, ..d_{_a}.., d_{k} in Complex} ((a_{1} * ..a_{_a}.. * a_{i} * b_{1} * ..b_{_a}.. * b_{j} * c * d_{1} * ..d_{_a}.. * d_{k}) =  \\\\ (a_{1} * ..a_{_a}.. * a_{i} * c * b_{1} * ..b_{_a}.. * b_{j} * d_{1} * ..d_{_a}.. * d_{k}))]"
      ]
     },
     "execution_count": 53,
     "metadata": {},
     "output_type": "execute_result"
    }
   ],
   "source": [
    "leftward_commutation = \\\n",
    "    Forall((i,j,k),\n",
    "           Forall((a_1_to_i,b_1_to_j,c,d_1_to_k), \n",
    "                  Equals(Mult(a_1_to_i, b_1_to_j, c, d_1_to_k), \n",
    "                         Mult(a_1_to_i, c, b_1_to_j, d_1_to_k)) \\\n",
    "                  .with_wrapping_at(2), \n",
    "                  domain=Complex), \n",
    "           domain=Natural)"
   ]
  },
  {
   "cell_type": "code",
   "execution_count": 54,
   "metadata": {},
   "outputs": [
    {
     "data": {
      "text/html": [
       "<strong id=\"association\"><a class=\"ProveItLink\" href=\"proofs/association/thm_proof.ipynb\">association</a> (conjecture without proof):<br></strong> <a class=\"ProveItLink\" href=\"../__pv_it/theorems/fcf7c9fefafe1d11aa599865e7ce73b3e2ade8940/theorem_expr.ipynb\"><img src=\"data:image/png;base64,iVBORw0KGgoAAAANSUhEUgAAAsYAAAAyBAMAAACt2gCgAAAAMFBMVEX///8QEBCIiIhmZma6urrM\n",
       "zMxUVFQiIiJERETc3Nzu7u6qqqp2dnaYmJgyMjIAAAAcRTyBAAAAAXRSTlMAQObYZgAACb5JREFU\n",
       "eNrdXH+MG0cVfmff+ufaF1WobRoVuXekRECVUwNtaUNqiCACifYMUkOoxFlH80egVOaHjgYqcI8/\n",
       "6jQUuYrUJpFoN0RtyUVgo4LKSYiYhAaRNq1VhKCQtBYJFUSiXJNL1LsQwryZ3Z2Z3fXuZOv4bpk/\n",
       "7tZvvzez++3sm5lvng2gWAYuXmzBopTfQhRLpsz+v3zxLWWfgZldxqJcrN6KJMdwB/u3b9fP1Dke\n",
       "W6RrvT6aFEOuYx6UljzH2WX24Q+XLJ8zXsbvR4bjPUU7wlVDRsYHKz3B+JRE3efKlz7H37OP8vWQ\n",
       "VeRHe4PxeUQdnzdwyXOcXbAP/xC2jqFmbzA+5aCX8YGIcJzk/Wtr2DruNHqD8YtoXsYD9Whw/Lod\n",
       "INKhI+bveoTxCzXF7v1jyXN8v30Uwyvecei64A7nBL0xfFugjwujD69UCBHDJiu6VzjPLUSCY23O\n",
       "Pky1AQaXw7+J0X+CwUAx+64z/zUadfic/6BFMfB325D+NvwgqCF4vJnqxK7gk+GX3sRywq70dCQ4\n",
       "jvPZcZKMSnvacAtoa1jU8OjQGRobEQRa3cKQYXOo8NmbOcBRbAxA08YkW/DloIbIoJZowjfo0OwZ\n",
       "yN6MBMcDZX5IQt7tBnyNdNQK63pueAO7EwOBjYl3oNGCDRzg7MI2Rq4ksKE4xoIMDQjarNfVr65H\n",
       "gePxtsTx1ZA5a906THqMMvhIGAhsDJn63tk0OU6W3U4cI1UCgQ0NVG2MN8dPtqPA8eq6GCsy/4Hs\n",
       "rH3r3UIrBQ1ymWOojb1yg//0GDGZkaZQCQQ1xHq+PvqZsoVk8fgNx1u41Dl+EMQxL3MeEp2ZII4p\n",
       "SB+yo+hQMXMtBHGMmPggjyQXSIwN4pg8GGjm//qpBUEAkkqqEgWOrxYmU2SiMAV/KrfEW6exEoOj\n",
       "EDQpaPdzXExop0Yljm08d6KYfTqPJDdB5kOuhuzWzAG5DHvHhjbTw5bX1euzjGPqcVyJ4zydpbT7\n",
       "SHHmjDAlIzf89PCmiaLUvSat4MiDJgNN8UpuPAoSxxw/KWNS/N70o6+AqyHeGisvHi9AaRUGmLxn\n",
       "D8ydZRy/gP9OKXGs09qMPnKsnRY+bBXZDnw6C4673qAibDhUJ5WGVmnLiNczPpdfgp044a4qcUxh\n",
       "O/uqCJ0XPtiaUFbh1rMdx9v7nEJzzsip0tCUVil00YTM17BE+6XeVOKYdvcX+slx7qw4gpi9LH3z\n",
       "uUJwP75X7pM7vjuh0Cflj0oN/RMmxry1TVLOMY5zR6anH1cc845NT++r9JPj2LxIW/VyNzcV1jHV\n",
       "Rdp+23w73q7VHlDkeKhWe6jVT471BfHTZd5rSnzymrCur3axv9vkmMw9ttkSCooi1xW6cZwY6/rE\n",
       "eLmjo2ZTkisW+vhAE4frva7yKpPj9TSaMAmFiiLJoonYuLYYu1LkeHAUfhrc90bVbF3LLw9PWk85\n",
       "MQuRLl81OU5CTJ7yNnB2lvnVmna2egRuldYgFbghsN58U83mVfYf+gg89TB8ofV/xrHeTnrMJP88\n",
       "Mw3ZV+LQkjg+CsFD3lBdzeY1jdi+24BXW5BtLUasuAzlmybH6c5dYEooTBQ5pF2PUYFMD+/eVJA5\n",
       "fkIr45roPveqhhvHh7/kls+47eCw+1Is23qc999N6rEeiT4fbY6tMQ+23UNuhkooTBT5188bBl02\n",
       "Z8eO/FHmOPUYidXPjI0bkHAs96iRer3XGHGdRRtsoevYYsl1Fm3r8ABbz/1E6POxs9CbicUles6E\n",
       "XjTJL+yVFsfPkvefSShMFDlH2NzLONb5YEU5zuJuwhrYCNpvHDyhke0OTMFrrrPEZh7dAprrLLHB\n",
       "s/gu0Jdnv3CZuTnoyQSZeP74qmCYjUmEnmFskT6dsTjGTRZz+o2iiHbFdjKlqNVqhexYul2RdTdc\n",
       "gK/AFLSkg6cVdl7au+Am11m0WTgvXwDcsdTur9Wm0r8QAlFW4jh0Egv1PKGAszCZTtiWpHkXU6GR\n",
       "45xhSyg4NsWqpTQkWD+Gjxdkjv9CoPPwyLSTJ2rM0rC6QDhzsoi24zTszHtwjLatnyadmCpatxb4\n",
       "Dpp2AbwEi0su6HleAWdjDoZeNRU8NCFbQkk/TCUiI1XYGAMdGc0VISfHY1qWa3Nt5Ik47DSsP2jM\n",
       "rkfbt3JVyqJ9jtnSn6/g2ZMQd51F27W7ySv0PFUWnhcu9Ax4CW+XXIjnoMIUhWP2hI5Ky1ySVolL\n",
       "KNoKFEVKzXw9sRJgO07iTppdS+b4E+8foRwTh1JdW45/VjDjZrTd9SLrqaUmO7fctJGpCjnaccP7\n",
       "XGeJbfBvGItTOK3JvPSPzfZVfkeUaEJLJeipK3hzjGdOilI5KdY371TzsjQqm6uFGInHrrW0OBcw\n",
       "qAN3RXYqRfOIRoOmfBbFva5nY4VTaFhVc8gyt4sCET6G9Nobg1UFJwg98xMjgQshjhEXpnaiit/T\n",
       "sTNeDomr81knxzMoimTrPpqQEGlW3ybOcMyjCYMd0bO8JnYWRdSuZ+P1Y54953UhdNNdio/W8+TC\n",
       "/RNSTNCI5Nk4RcaMgKQUiqF7GsL+HCaqBDVIM16YzvOayFnVyXEbRZEcKHHMHHyPcrJt1xN+Z7uV\n",
       "caHvYRIL7mxWwUxIMTwcqA5AQbCJvluW5wEDTgclpSCGvVhMnac4TFQJyIChGS+mziPuBTxZcHIc\n",
       "rG2+k3Lsw2G8hBwWmmBBFtfJgrnc98otYQkpDMS6Zsf0XIczqYCklHXmbMvMl7Aqs/SFrhkwLOOF\n",
       "6jwwLpyMRg5LfFbmmLx9jTHrlj1yS6jNBLHOXzY9T8Dg+aCkFIrhHFuV2Rx3y4Bh2+cMI3L8EESB\n",
       "48E5OVY0WnAAgjZAGehjZcnzAvbIgE1QivkRLoc4kKVo+TfIej/qPDIyGjmF8HV5zGs04T4yXAZw\n",
       "TEGtBclzDnMNAzimmFH80hcf82iiStCuNs14QZ1HGvNi0ciNFScWOJ9KFXKTundCCg+WFJTeX5E8\n",
       "v4LfLPHKfhEcEZOpHwYxJyWOiSrOBp1pMzTj5RxlaK1rMFnyHA+0eNwgBGUmVj72Hu+EFB4sGShV\n",
       "kDz3fqAN3tkv3JFi4BGQclIwUcXVoCNtBjNeqM4jpjBH5rsKwnduhLW0SkJK4ym3p0pSCpVPnDkp\n",
       "Cg1SnYesw1wK09L/7tgJL01IJSHl17rbUyUpRVvmoQkpNEh1HlETyl4TFY4f5e3ae+JKCSlP/x6c\n",
       "nkpJKbGqW9tUaZDpPIK2GZ3vQApd7x1p9MoF43gqtFK9jR9+EaLCsa3uQ3/2mu551OiekxJYcvzh\n",
       "5KqXzvFi/bZCotDX5u7d0qOKwvy2wqL9RsgHIYolY+7Ev3zxrf8BWmf25iLuV7sAAAAASUVORK5C\n",
       "YII=\n",
       "\" style=\"display:inline;vertical-align:middle;\" /></a><br>"
      ],
      "text/plain": [
       "association: forall_{i, j, k in Natural} [forall_{a_{1}, ..a_{_a}.., a_{i}, b_{1}, ..b_{_a}.., b_{j}, c_{1}, ..c_{_a}.., c_{k} in Complex} ((a_{1} * ..a_{_a}.. * a_{i} * b_{1} * ..b_{_a}.. * b_{j} * c_{1} * ..c_{_a}.. * c_{k}) =  \\\\ (a_{1} * ..a_{_a}.. * a_{i} * (b_{1} * ..b_{_a}.. * b_{j}) * c_{1} * ..c_{_a}.. * c_{k}))]"
      ]
     },
     "execution_count": 54,
     "metadata": {},
     "output_type": "execute_result"
    }
   ],
   "source": [
    "association = \\\n",
    "    Forall((i,j,k), \n",
    "           Forall((a_1_to_i,b_1_to_j,c_1_to_k), \n",
    "                  Equals(Mult(a_1_to_i, b_1_to_j, c_1_to_k), \n",
    "                         Mult(a_1_to_i, Mult(b_1_to_j), c_1_to_k)) \\\n",
    "                  .with_wrapping_at(2),\n",
    "                  domain=Complex),\n",
    "           domain=Natural)"
   ]
  },
  {
   "cell_type": "code",
   "execution_count": 55,
   "metadata": {},
   "outputs": [
    {
     "data": {
      "text/html": [
       "<strong id=\"disassociation\"><a class=\"ProveItLink\" href=\"proofs/disassociation/thm_proof.ipynb\">disassociation</a> (conjecture without proof):<br></strong> <a class=\"ProveItLink\" href=\"../__pv_it/theorems/0fed6df28b807aab8f82c6c648011dc5daf7c26c0/theorem_expr.ipynb\"><img src=\"data:image/png;base64,iVBORw0KGgoAAAANSUhEUgAAAtQAAAAyBAMAAACOgVF1AAAAMFBMVEX///8QEBCIiIhmZma6urrM\n",
       "zMxUVFQiIiJERETc3Nzu7u6qqqp2dnaYmJgyMjIAAAAcRTyBAAAAAXRSTlMAQObYZgAACfVJREFU\n",
       "eNrdXH+MXEUd/97uvv3x9ldDsNBWzPbO1gYlXWkEtZWuGmg0od3TSCn+cZsTYtCK66+aShOXM5Gr\n",
       "gnmmCbRVYUsjpadxV8CQIwSWNoFY2nQDMWpty8YWExqtR4GG2xPrzHfezpv3dt6+4Z3du9dJ7nZu\n",
       "5jNv3vu8me985zufPQC1NHDhQgPmIqUKEOSkl9jn0QtvqDYZmNxVnZN7PQzBTuvZx/5dv1emujg3\n",
       "dxoqBZzqdMvMDM93qq2xkGj6vcav3ht80m8/SUNWel9AqNYv59nHfF+jAo9doQC7p8wyUcNvT3fK\n",
       "CvcUgkF1PM+zr/u9RoZQd0oFZ/alt/z29DvpWF8QDKqf42txOu/3Gq+QnxkFXLZuZg749pZystJt\n",
       "waD6OzwX8z2ttwJE2gq4DZ3Xuse3qVogHS5GEKhOT/Psg36vkSAmOFVWAL7ILYlvV/60rDCWDwLV\n",
       "sQrPDlHW1ly72JtaByhEnjQzOlT3bPiPwdWmHRBsVWpwmbfd4JiD0vHSDgLVI9b4up/8fNrITAHc\n",
       "2rsNAw1ZKytxEmtn9GnQKr1n/3+rNTLVXxNcYfLe7oafeTVEzFI00yeR+bOY+PvSzwWB6o9a2bvJ\n",
       "PV8F4Qp88Xr2ABI4NbYMBJs4JlbH1fWctqrMQU6W0VNoQ5bwRdDJMsfFGvB1s6GsQ72DgRgOiqek\n",
       "T3E2CFQvtLLEwQ63IUbIWId/11qScQkcZGEGCAk3gP4fiJQ5yJEQF25BjYV5tCmOW0sJZw0lHbIy\n",
       "xNTwzYxIn2KlMf+p1t61UT1QgVqxQ3VMsmPfAhxkYSjVpyAyYzKGIOeSUGJu9Ya6RTXDXQmcalmH\n",
       "WIYYdlNyqh9uzn+qQ9M2A0IG3XP8qdwSA33G4oUakHfpYI/0dkOyTTI+dbp8WkAyFwA8GjLMQW15\n",
       "59ZMW23dwUBp/lMdF/xUsizW6nBX0vCiGkGNtm1ZfAv2ND2pLlAzH2nZlkUyrZJeDRHzryepCTkp\n",
       "f4zy/Kd6QFj6iR8Vz6W3pGyjmtpKNKqWBUZQ4jcWO9R1+wb8yD44eUPLAkeb8TzsT5ERGG5w3HWg\n",
       "f0xsyNsIJh8x55GfNXJncIpRjV2dUKE6g05is49U1wQHlxCsjy574IM2qtFWbrFZYAaKW1tkStTe\n",
       "jzTtVPOGlgXWrz1izoGMNaxSR162N9xi65VjtMt+SrOvyTdibzOqX6IfZ1SoTtFFI1Ptp1stxBSs\n",
       "jfk6lZf0a9vGHLxNbseMkG72OcoUGoYqwwnytuRA7Ryjeid1wisqVCNqZ1+DTcIWzwo3PaXQ8tmU\n",
       "PdyEjrMK1cOScJNCw3huY8gt3AT6m+zKdJim6ipU49h/qZ9UvyouENvNzx0/HPVu+egfBRrYfEhc\n",
       "fz7n3XBFdxBVpWHGiC5zCaKSdJ5RnT40MaEQyqFUH5+Y2F/uJ9UrxWjebI4G1NMYfzU+0naX8nfM\n",
       "+fLO+Pg2Naqz4+P3NvpJ9VFxYejHgVf0c4sB/uq3n7TbO/qASfUd+DZCzBTSJXRpzoXqaFHhja9v\n",
       "qZWppLX9XIOR6heMi3HZK0yqP4vGSWN9UKMd64TTNq4phBYKVEfyrtYIbG6sSplbSt73VW6LvwmX\n",
       "RvqWSXUMQvapiZET/ZlVzWTlEHxS3MKU4RrPy2bqamUyo0r61G+tav+8VKlONWP2CvRb/zI5AcmX\n",
       "w9AQqT4C3qti1lArkyTaZ/qXAM/MmQG5SOn7JtWJ1i3ENizHYYVnFTRyEqFTPvnlTTkb1Q9pJbqr\n",
       "uqt7k753eWejNDL4te6tiFV2YLD7Tswy7PPGP5A74suicWlQ3VkWYfvtZGhn6QDCYAtGTnATniwe\n",
       "+pON6vgDxIzvK45UIWofb/r3tDawPf6HqkPOWixjIolYYbirlpbdQM0M/eOYuP6vLM7So+h3clHr\n",
       "LOxQ/QSxCrtxC4bBFoyc7GVUp/iChlQn6QHIKtgI2vN2usJ5rWyeW4zBSWctLTNzHwetq5aUwRNg\n",
       "9vm0eLevFmbtJ4vt7lHYFKiIc3p4MPJp+GaHanrMQ113M9iCkZON4+PjuWQx0SzbInt0M78EiLGJ\n",
       "2ekaqHNt3eVwnbMWy1haAl1tsYweoGKfv/iSuDEvyHdmPonIqDhCp2ZDtVytwyLalOo0eXS9Xeys\n",
       "Xxg5ibJRDTfmbFQfI8hpuH/CSVfNiB+rPo7YNqHOSSYtO4GmaFpCNS3benOe9Rl+RDjFG5HuWl7x\n",
       "S0RWxRGamZUFOdAr3GR6s61G4icYfapi5CRFmU0XIG2z1ZgWaW81KV07q6SF+WvAGLkZnswD+eMH\n",
       "6QqttepYWeK2Mi07DeGuWlp21e4m6zOxpmjdb1Y6DLf65WGDgkOjJM5xT1K1TnJGpFrfbGhLaLBl\n",
       "uM4iJzT8uu40QKmL6ps+PIRUD9e1RTBs0F/1yOjjn6KbSXKNWw7juCU5VmeYZcS/ILkd11zdVUvK\n",
       "In+npGLI97dnf8y7isnmY8J3GOZFBUxqdkEeqVonNS1SjeSjxTYnWYjYTefGXPQaqhwJndy+CF7D\n",
       "rE2K1wUWPXStDeXO1Lv7hPCU5MYxhLDj4FLvIeoEcU1NL66c4hwVzQ1xV4s99sXRKSfVkzTYkjTc\n",
       "w02C9Vm5WkCauejVprdDawW/h+VosNa1Nmwclw2HtGw206U7sgj+DV5SGAYKWdIX1NR4CHZQnCOc\n",
       "w6hobuDBerwVugzvWDYP2bmdSHWTBlvSoEI1XlWSg6ZbbtdDvWpdkiZbo+gJ+J4mdRE9NDQIMoM7\n",
       "FIOaGg/BDopzzKnG9TReHcE2iNbhuzjqZPbn4ZyTas8g6mzS8U/4abVQdicF3LF/G7w0NAwEHMM0\n",
       "Nb0FO0ycY7+IZ0dhOvl0nIGazOQFQXIDa12ovhL0t8FLQ8NAwDFMU9NbsMPEObaLgGdHaCAYRkr1\n",
       "vRAAqjcUpAaEDLzklIIUhoBYcIe5jlRT43UIjOKcR1bbdx8e57ioP0vlv1ByQQZCHhnLS5dFfQai\n",
       "rUkvqhHEgjuMaqqp8aIaxTn59QL13pob8g6hnvnb59vyZTEUCNGvzAWh/tQY/LnUkEphBCuMoN3W\n",
       "+TpqakSqZfoZKs7RjRf4307NjUysEy7B3mL2Dsw2JNSVgkA1vF/iw5HnfnRw02hBLoWxrDADjVnM\n",
       "oqZmHUgaWVYYxTko5jZfrFNzIxHrwOETORhegTIZCU3B+IKG8LUjycZcRUNjBnespCLYgenut+uV\n",
       "VmgLJGodIYA136mWBeN4uElFQ5NsOaa0imBHc3x9SKWjMa2ck4abkouDQXXifZJ10dymKmlo9M32\n",
       "7a+SYCdk3x0qdfQ6jBalQdSgfEVUNgj9Hg2op3jOb0NJWOMrEBCqw5K9xsU+8Lr951WfLSVqnXTl\n",
       "PVM9V/+kYrT/XW6+8/94MR//pGKu/vVKuABBTrqpFTh64Y3/AVrZ7aTyQVCkAAAAAElFTkSuQmCC\n",
       "\" style=\"display:inline;vertical-align:middle;\" /></a><br>"
      ],
      "text/plain": [
       "disassociation: forall_{i, j, k in Natural} [forall_{a_{1}, ..a_{_a}.., a_{i}, b_{1}, ..b_{_a}.., b_{j}, c_{1}, ..c_{_a}.., c_{k} in Complex} ((a_{1} * ..a_{_a}.. * a_{i} * (b_{1} * ..b_{_a}.. * b_{j}) * c_{1} * ..c_{_a}.. * c_{k}) =  \\\\ (a_{1} * ..a_{_a}.. * a_{i} * b_{1} * ..b_{_a}.. * b_{j} * c_{1} * ..c_{_a}.. * c_{k}))]"
      ]
     },
     "execution_count": 55,
     "metadata": {},
     "output_type": "execute_result"
    }
   ],
   "source": [
    "disassociation = \\\n",
    "    Forall((i,j,k), \n",
    "           Forall((a_1_to_i,b_1_to_j,c_1_to_k), \n",
    "                  Equals(Mult(a_1_to_i, Mult(b_1_to_j), c_1_to_k),\n",
    "                         Mult(a_1_to_i, b_1_to_j, c_1_to_k)) \\\n",
    "                  .with_wrapping_at(2),\n",
    "                  domain=Complex),\n",
    "           domain=Natural)"
   ]
  },
  {
   "cell_type": "code",
   "execution_count": 56,
   "metadata": {},
   "outputs": [
    {
     "name": "stdout",
     "output_type": "stream",
     "text": [
      "These theorems may now be imported from the theory package: proveit.numbers.multiplication\n"
     ]
    }
   ],
   "source": [
    "%end theorems"
   ]
  }
 ],
 "metadata": {
  "kernelspec": {
   "display_name": "Python 3",
   "language": "python",
   "name": "python3"
  }
 },
 "nbformat": 4,
 "nbformat_minor": 0
}